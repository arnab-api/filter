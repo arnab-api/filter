{
 "cells": [
  {
   "cell_type": "code",
   "execution_count": 1,
   "id": "5728a60e",
   "metadata": {},
   "outputs": [],
   "source": [
    "%load_ext autoreload\n",
    "%autoreload 2"
   ]
  },
  {
   "cell_type": "code",
   "execution_count": 2,
   "id": "f6bcda99",
   "metadata": {},
   "outputs": [
    {
     "name": "stdout",
     "output_type": "stream",
     "text": [
      "2025-10-30 15:59:26 __main__ INFO     torch.__version__='2.7.0+cu126', torch.version.cuda='12.6'\n",
      "2025-10-30 15:59:27 __main__ INFO     torch.cuda.is_available()=True, torch.cuda.device_count()=8, torch.cuda.get_device_name()='NVIDIA A100 80GB PCIe'\n",
      "2025-10-30 15:59:27 __main__ INFO     transformers.__version__='4.55.3'\n"
     ]
    }
   ],
   "source": [
    "import os\n",
    "import json\n",
    "\n",
    "import sys\n",
    "\n",
    "sys.path.append(\"../\")\n",
    "\n",
    "##################################################################\n",
    "os.environ[\"TOKENIZERS_PARALLELISM\"] = \"false\"\n",
    "# os.environ[\"CUDA_VISIBLE_DEVICES\"] = \"0,3,4,5,6,7\"\n",
    "##################################################################\n",
    "\n",
    "import logging\n",
    "from src.utils import logging_utils\n",
    "from src.utils import env_utils\n",
    "\n",
    "logger = logging.getLogger(__name__)\n",
    "\n",
    "logging.basicConfig(\n",
    "    level=logging.DEBUG,\n",
    "    format=logging_utils.DEFAULT_FORMAT,\n",
    "    datefmt=logging_utils.DEFAULT_DATEFMT,\n",
    "    stream=sys.stdout,\n",
    ")\n",
    "\n",
    "import torch\n",
    "import transformers\n",
    "\n",
    "logger.info(f\"{torch.__version__=}, {torch.version.cuda=}\")\n",
    "logger.info(\n",
    "    f\"{torch.cuda.is_available()=}, {torch.cuda.device_count()=}, {torch.cuda.get_device_name()=}\"\n",
    ")\n",
    "logger.info(f\"{transformers.__version__=}\")"
   ]
  },
  {
   "cell_type": "code",
   "execution_count": 3,
   "id": "da104a94",
   "metadata": {},
   "outputs": [
    {
     "name": "stdout",
     "output_type": "stream",
     "text": [
      "2025-10-30 15:59:30 git.cmd DEBUG    Popen(['git', 'version'], cwd=/disk/u/arnab/Codes/Projects/retrieval/notebooks, stdin=None, shell=False, universal_newlines=False)\n",
      "2025-10-30 15:59:30 git.cmd DEBUG    Popen(['git', 'version'], cwd=/disk/u/arnab/Codes/Projects/retrieval/notebooks, stdin=None, shell=False, universal_newlines=False)\n",
      "2025-10-30 15:59:30 wandb.docker.auth DEBUG    Trying paths: ['/disk/u/arnab/.docker/config.json', '/disk/u/arnab/.dockercfg']\n",
      "2025-10-30 15:59:30 wandb.docker.auth DEBUG    No config file found\n"
     ]
    }
   ],
   "source": [
    "from src.utils.training_utils import get_device_map\n",
    "\n",
    "# model_key = \"meta-llama/Llama-3.2-3B\"\n",
    "# model_key = \"meta-llama/Llama-3.1-8B\"\n",
    "model_key = \"meta-llama/Llama-3.3-70B-Instruct\"\n",
    "# model_key = \"meta-llama/Llama-3.1-405B-Instruct\"\n",
    "\n",
    "# model_key = \"google/gemma-2-9b-it\"\n",
    "# model_key = \"google/gemma-3-12b-it\"\n",
    "# model_key = \"google/gemma-2-27b-it\"\n",
    "\n",
    "# model_key = \"deepseek-ai/DeepSeek-R1-Distill-Llama-8B\"\n",
    "\n",
    "# model_key = \"allenai/OLMo-2-1124-7B-Instruct\"\n",
    "# model_key = \"allenai/OLMo-7B-0424-hf\"\n",
    "\n",
    "# model_key = \"Qwen/Qwen2-7B\"\n",
    "# model_key = \"Qwen/Qwen2.5-14B-Instruct\"\n",
    "# model_key = \"Qwen/Qwen2.5-32B-Instruct\"\n",
    "# model_key = \"Qwen/Qwen2.5-72B-Instruct\"\n",
    "\n",
    "# model_key = \"Qwen/Qwen3-1.7B\"\n",
    "# model_key = \"Qwen/Qwen3-4B\"\n",
    "# model_key = \"Qwen/Qwen3-8B\"\n",
    "# model_key = \"Qwen/Qwen3-14B\"\n",
    "# model_key = \"Qwen/Qwen3-32B\"\n",
    "\n",
    "# device_map = get_device_map(model_key, 30, n_gpus=8)\n",
    "# device_map"
   ]
  },
  {
   "cell_type": "code",
   "execution_count": 4,
   "id": "19dcf5e7",
   "metadata": {},
   "outputs": [],
   "source": [
    "# os.environ[\"BNB_CUDA_VERSION\"] = \"124\"\n",
    "# ! echo $BNB_CUDA_VERSION\n",
    "# ! python -m bitsandbytes"
   ]
  },
  {
   "cell_type": "code",
   "execution_count": 5,
   "id": "6f7ced8e",
   "metadata": {},
   "outputs": [
    {
     "name": "stdout",
     "output_type": "stream",
     "text": [
      "2025-10-30 15:59:33 src.models WARNING  meta-llama/Llama-3.3-70B-Instruct not found in /disk/u/arnab/Codes/Models\n",
      "If not found in cache, model will be downloaded from HuggingFace to cache directory\n",
      "2025-10-30 15:59:33 urllib3.connectionpool DEBUG    Starting new HTTPS connection (1): huggingface.co:443\n"
     ]
    },
    {
     "name": "stdout",
     "output_type": "stream",
     "text": [
      "2025-10-30 15:59:33 urllib3.connectionpool DEBUG    https://huggingface.co:443 \"HEAD /meta-llama/Llama-3.3-70B-Instruct/resolve/main/config.json HTTP/1.1\" 200 0\n",
      "2025-10-30 15:59:33 urllib3.connectionpool DEBUG    https://huggingface.co:443 \"HEAD /meta-llama/Llama-3.3-70B-Instruct/resolve/main/tokenizer_config.json HTTP/1.1\" 200 0\n",
      "2025-10-30 15:59:33 urllib3.connectionpool DEBUG    https://huggingface.co:443 \"GET /api/models/meta-llama/Llama-3.3-70B-Instruct/tree/main/additional_chat_templates?recursive=False&expand=False HTTP/1.1\" 404 64\n"
     ]
    },
    {
     "data": {
      "application/vnd.jupyter.widget-view+json": {
       "model_id": "c3b88166224e45a083234274ddae8e42",
       "version_major": 2,
       "version_minor": 0
      },
      "text/plain": [
       "Loading checkpoint shards:   0%|          | 0/30 [00:00<?, ?it/s]"
      ]
     },
     "metadata": {},
     "output_type": "display_data"
    },
    {
     "name": "stdout",
     "output_type": "stream",
     "text": [
      "2025-10-30 16:00:16 urllib3.connectionpool DEBUG    https://huggingface.co:443 \"HEAD /meta-llama/Llama-3.3-70B-Instruct/resolve/main/generation_config.json HTTP/1.1\" 200 0\n",
      "2025-10-30 16:00:16 urllib3.connectionpool DEBUG    https://huggingface.co:443 \"HEAD /meta-llama/Llama-3.3-70B-Instruct/resolve/main/custom_generate/generate.py HTTP/1.1\" 404 0\n",
      "2025-10-30 16:00:17 src.models INFO     loaded model <meta-llama/Llama-3.3-70B-Instruct> | size: 134570.516 MB | dtype: torch.bfloat16 | device: cuda:0\n"
     ]
    }
   ],
   "source": [
    "from src.models import ModelandTokenizer\n",
    "\n",
    "# from transformers import BitsAndBytesConfig\n",
    "\n",
    "mt = ModelandTokenizer(\n",
    "    model_key=model_key,\n",
    "    torch_dtype=torch.bfloat16,\n",
    "    # device_map=device_map,\n",
    "    device_map=\"auto\",\n",
    "    # quantization_config = BitsAndBytesConfig(\n",
    "    #     # load_in_4bit=True\n",
    "    #     load_in_8bit=True\n",
    "    # )\n",
    "    attn_implementation=\"eager\",\n",
    ")"
   ]
  },
  {
   "cell_type": "code",
   "execution_count": 6,
   "id": "b76d98b6",
   "metadata": {},
   "outputs": [],
   "source": [
    "# from src.functional import free_gpu_cache\n",
    "\n",
    "# # SYNTH_DATASET = \"icosahedron_1\"\n",
    "# SYNTH_DATASET = \"64\"\n",
    "\n",
    "# checkpoint_path = os.path.join(\n",
    "#     env_utils.DEFAULT_RESULTS_DIR,\n",
    "#     \"trained_params\",\n",
    "#     f\"{SYNTH_DATASET}\",\n",
    "#     \"_full__clamp=0.001\",\n",
    "#     model_key.split(\"/\")[-1],\n",
    "# )\n",
    "\n",
    "# version = \"epoch_1\"\n",
    "# # version = \"final_model\"\n",
    "\n",
    "# checkpoint_path = os.path.join(env_utils.DEFAULT_RESULTS_DIR, checkpoint_path, version)\n",
    "\n",
    "# print(os.listdir(checkpoint_path))\n",
    "\n",
    "# checkpoint_path = os.path.join(checkpoint_path, \"trainable_params.pt\")\n",
    "\n",
    "# loaded_deltas = torch.load(checkpoint_path, map_location=\"cpu\")\n",
    "# # loaded_deltas\n",
    "\n",
    "# free_gpu_cache()\n",
    "\n",
    "\n",
    "# d = loaded_deltas[\"model<>layers<>5<>mlp<>gate_proj\"]\n",
    "# d.abs().max()"
   ]
  },
  {
   "cell_type": "code",
   "execution_count": 7,
   "id": "4ec24d05",
   "metadata": {},
   "outputs": [],
   "source": [
    "# from src.utils.training_utils import TrainableLM_delta, TrainableLM_LoRA\n",
    "\n",
    "# #################################################\n",
    "# Trainable_CLS = TrainableLM_delta\n",
    "# # Trainable_CLS = TrainableLM_LoRA\n",
    "# #################################################\n",
    "\n",
    "# Trainable_CLS.fuse_with_model(mt._model, loaded_deltas)"
   ]
  },
  {
   "cell_type": "code",
   "execution_count": 8,
   "id": "6d20ced5",
   "metadata": {},
   "outputs": [],
   "source": [
    "###############################################################################\n",
    "LAYERS = None\n",
    "HEADS = [\n",
    "    # (33, 45),\n",
    "    # (33, 18),\n",
    "    # (34, 1),\n",
    "    # (34, 6),\n",
    "    # (34, 7),\n",
    "    (35, 19),\n",
    "    # (39, 40),\n",
    "    # (42, 30),\n",
    "    # (47, 18),\n",
    "    # (52, 58),\n",
    "]\n",
    "\n",
    "# LAYERS = [54, 60, 67]\n",
    "# HEADS = [\n",
    "#     (54, 44),\n",
    "#     (54, 63),\n",
    "#     (55, 43),\n",
    "#     (55, 29),\n",
    "#     (60, 9),\n",
    "#     (60, 25),\n",
    "#     (60, 42),\n",
    "#     (67, 51)\n",
    "# ]\n",
    "###############################################################################"
   ]
  },
  {
   "cell_type": "code",
   "execution_count": 9,
   "id": "11424207",
   "metadata": {},
   "outputs": [
    {
     "name": "stdout",
     "output_type": "stream",
     "text": [
      "2025-10-30 16:00:47 matplotlib DEBUG    matplotlib data path: /disk/u/arnab/miniconda3/envs/connection/lib/python3.11/site-packages/matplotlib/mpl-data\n",
      "2025-10-30 16:00:47 matplotlib DEBUG    CONFIGDIR=/disk/u/arnab/.config/matplotlib\n",
      "2025-10-30 16:00:47 matplotlib DEBUG    interactive is False\n",
      "2025-10-30 16:00:47 matplotlib DEBUG    platform is linux\n",
      "2025-10-30 16:00:47 matplotlib DEBUG    CACHEDIR=/disk/u/arnab/.cache/matplotlib\n",
      "2025-10-30 16:00:47 matplotlib.font_manager DEBUG    Using fontManager instance from /disk/u/arnab/.cache/matplotlib/fontlist-v390.json\n",
      "2025-10-30 16:00:48 matplotlib.pyplot DEBUG    Loaded backend module://matplotlib_inline.backend_inline version unknown.\n",
      "2025-10-30 16:00:48 matplotlib.pyplot DEBUG    Loaded backend module://matplotlib_inline.backend_inline version unknown.\n",
      "2025-10-30 16:00:48 matplotlib.font_manager DEBUG    findfont: Matching sans\\-serif:style=normal:variant=normal:weight=normal:stretch=normal:size=10.0.\n",
      "2025-10-30 16:00:48 matplotlib.font_manager DEBUG    findfont: score(FontEntry(fname='/disk/u/arnab/miniconda3/envs/connection/lib/python3.11/site-packages/matplotlib/mpl-data/fonts/ttf/STIXGeneral.ttf', name='STIXGeneral', style='normal', variant='normal', weight=400, stretch='normal', size='scalable')) = 10.05\n",
      "2025-10-30 16:00:48 matplotlib.font_manager DEBUG    findfont: score(FontEntry(fname='/disk/u/arnab/miniconda3/envs/connection/lib/python3.11/site-packages/matplotlib/mpl-data/fonts/ttf/DejaVuSerif-BoldItalic.ttf', name='DejaVu Serif', style='italic', variant='normal', weight=700, stretch='normal', size='scalable')) = 11.335\n",
      "2025-10-30 16:00:48 matplotlib.font_manager DEBUG    findfont: score(FontEntry(fname='/disk/u/arnab/miniconda3/envs/connection/lib/python3.11/site-packages/matplotlib/mpl-data/fonts/ttf/DejaVuSans-Oblique.ttf', name='DejaVu Sans', style='oblique', variant='normal', weight=400, stretch='normal', size='scalable')) = 1.05\n",
      "2025-10-30 16:00:48 matplotlib.font_manager DEBUG    findfont: score(FontEntry(fname='/disk/u/arnab/miniconda3/envs/connection/lib/python3.11/site-packages/matplotlib/mpl-data/fonts/ttf/DejaVuSerif-Bold.ttf', name='DejaVu Serif', style='normal', variant='normal', weight=700, stretch='normal', size='scalable')) = 10.335\n",
      "2025-10-30 16:00:48 matplotlib.font_manager DEBUG    findfont: score(FontEntry(fname='/disk/u/arnab/miniconda3/envs/connection/lib/python3.11/site-packages/matplotlib/mpl-data/fonts/ttf/cmr10.ttf', name='cmr10', style='normal', variant='normal', weight=400, stretch='normal', size='scalable')) = 10.05\n",
      "2025-10-30 16:00:48 matplotlib.font_manager DEBUG    findfont: score(FontEntry(fname='/disk/u/arnab/miniconda3/envs/connection/lib/python3.11/site-packages/matplotlib/mpl-data/fonts/ttf/DejaVuSansMono.ttf', name='DejaVu Sans Mono', style='normal', variant='normal', weight=400, stretch='normal', size='scalable')) = 10.05\n",
      "2025-10-30 16:00:48 matplotlib.font_manager DEBUG    findfont: score(FontEntry(fname='/disk/u/arnab/miniconda3/envs/connection/lib/python3.11/site-packages/matplotlib/mpl-data/fonts/ttf/STIXNonUni.ttf', name='STIXNonUnicode', style='normal', variant='normal', weight=400, stretch='normal', size='scalable')) = 10.05\n",
      "2025-10-30 16:00:48 matplotlib.font_manager DEBUG    findfont: score(FontEntry(fname='/disk/u/arnab/miniconda3/envs/connection/lib/python3.11/site-packages/matplotlib/mpl-data/fonts/ttf/STIXSizFourSymReg.ttf', name='STIXSizeFourSym', style='normal', variant='normal', weight=400, stretch='normal', size='scalable')) = 10.05\n",
      "2025-10-30 16:00:48 matplotlib.font_manager DEBUG    findfont: score(FontEntry(fname='/disk/u/arnab/miniconda3/envs/connection/lib/python3.11/site-packages/matplotlib/mpl-data/fonts/ttf/DejaVuSansMono-Oblique.ttf', name='DejaVu Sans Mono', style='oblique', variant='normal', weight=400, stretch='normal', size='scalable')) = 11.05\n",
      "2025-10-30 16:00:48 matplotlib.font_manager DEBUG    findfont: score(FontEntry(fname='/disk/u/arnab/miniconda3/envs/connection/lib/python3.11/site-packages/matplotlib/mpl-data/fonts/ttf/STIXNonUniBol.ttf', name='STIXNonUnicode', style='normal', variant='normal', weight=700, stretch='normal', size='scalable')) = 10.335\n",
      "2025-10-30 16:00:48 matplotlib.font_manager DEBUG    findfont: score(FontEntry(fname='/disk/u/arnab/miniconda3/envs/connection/lib/python3.11/site-packages/matplotlib/mpl-data/fonts/ttf/DejaVuSans-BoldOblique.ttf', name='DejaVu Sans', style='oblique', variant='normal', weight=700, stretch='normal', size='scalable')) = 1.335\n",
      "2025-10-30 16:00:48 matplotlib.font_manager DEBUG    findfont: score(FontEntry(fname='/disk/u/arnab/miniconda3/envs/connection/lib/python3.11/site-packages/matplotlib/mpl-data/fonts/ttf/STIXSizThreeSymReg.ttf', name='STIXSizeThreeSym', style='normal', variant='normal', weight=400, stretch='normal', size='scalable')) = 10.05\n",
      "2025-10-30 16:00:48 matplotlib.font_manager DEBUG    findfont: score(FontEntry(fname='/disk/u/arnab/miniconda3/envs/connection/lib/python3.11/site-packages/matplotlib/mpl-data/fonts/ttf/DejaVuSerif.ttf', name='DejaVu Serif', style='normal', variant='normal', weight=400, stretch='normal', size='scalable')) = 10.05\n",
      "2025-10-30 16:00:48 matplotlib.font_manager DEBUG    findfont: score(FontEntry(fname='/disk/u/arnab/miniconda3/envs/connection/lib/python3.11/site-packages/matplotlib/mpl-data/fonts/ttf/STIXNonUniIta.ttf', name='STIXNonUnicode', style='italic', variant='normal', weight=400, stretch='normal', size='scalable')) = 11.05\n",
      "2025-10-30 16:00:48 matplotlib.font_manager DEBUG    findfont: score(FontEntry(fname='/disk/u/arnab/miniconda3/envs/connection/lib/python3.11/site-packages/matplotlib/mpl-data/fonts/ttf/STIXSizFourSymBol.ttf', name='STIXSizeFourSym', style='normal', variant='normal', weight=700, stretch='normal', size='scalable')) = 10.335\n",
      "2025-10-30 16:00:48 matplotlib.font_manager DEBUG    findfont: score(FontEntry(fname='/disk/u/arnab/miniconda3/envs/connection/lib/python3.11/site-packages/matplotlib/mpl-data/fonts/ttf/cmex10.ttf', name='cmex10', style='normal', variant='normal', weight=400, stretch='normal', size='scalable')) = 10.05\n",
      "2025-10-30 16:00:48 matplotlib.font_manager DEBUG    findfont: score(FontEntry(fname='/disk/u/arnab/miniconda3/envs/connection/lib/python3.11/site-packages/matplotlib/mpl-data/fonts/ttf/STIXNonUniBolIta.ttf', name='STIXNonUnicode', style='italic', variant='normal', weight=700, stretch='normal', size='scalable')) = 11.335\n",
      "2025-10-30 16:00:48 matplotlib.font_manager DEBUG    findfont: score(FontEntry(fname='/disk/u/arnab/miniconda3/envs/connection/lib/python3.11/site-packages/matplotlib/mpl-data/fonts/ttf/STIXSizOneSymReg.ttf', name='STIXSizeOneSym', style='normal', variant='normal', weight=400, stretch='normal', size='scalable')) = 10.05\n",
      "2025-10-30 16:00:48 matplotlib.font_manager DEBUG    findfont: score(FontEntry(fname='/disk/u/arnab/miniconda3/envs/connection/lib/python3.11/site-packages/matplotlib/mpl-data/fonts/ttf/cmmi10.ttf', name='cmmi10', style='normal', variant='normal', weight=400, stretch='normal', size='scalable')) = 10.05\n",
      "2025-10-30 16:00:48 matplotlib.font_manager DEBUG    findfont: score(FontEntry(fname='/disk/u/arnab/miniconda3/envs/connection/lib/python3.11/site-packages/matplotlib/mpl-data/fonts/ttf/DejaVuSansDisplay.ttf', name='DejaVu Sans Display', style='normal', variant='normal', weight=400, stretch='normal', size='scalable')) = 10.05\n",
      "2025-10-30 16:00:48 matplotlib.font_manager DEBUG    findfont: score(FontEntry(fname='/disk/u/arnab/miniconda3/envs/connection/lib/python3.11/site-packages/matplotlib/mpl-data/fonts/ttf/DejaVuSans-Bold.ttf', name='DejaVu Sans', style='normal', variant='normal', weight=700, stretch='normal', size='scalable')) = 0.33499999999999996\n",
      "2025-10-30 16:00:48 matplotlib.font_manager DEBUG    findfont: score(FontEntry(fname='/disk/u/arnab/miniconda3/envs/connection/lib/python3.11/site-packages/matplotlib/mpl-data/fonts/ttf/DejaVuSerifDisplay.ttf', name='DejaVu Serif Display', style='normal', variant='normal', weight=400, stretch='normal', size='scalable')) = 10.05\n",
      "2025-10-30 16:00:48 matplotlib.font_manager DEBUG    findfont: score(FontEntry(fname='/disk/u/arnab/miniconda3/envs/connection/lib/python3.11/site-packages/matplotlib/mpl-data/fonts/ttf/DejaVuSans.ttf', name='DejaVu Sans', style='normal', variant='normal', weight=400, stretch='normal', size='scalable')) = 0.05\n",
      "2025-10-30 16:00:48 matplotlib.font_manager DEBUG    findfont: score(FontEntry(fname='/disk/u/arnab/miniconda3/envs/connection/lib/python3.11/site-packages/matplotlib/mpl-data/fonts/ttf/STIXGeneralBol.ttf', name='STIXGeneral', style='normal', variant='normal', weight=700, stretch='normal', size='scalable')) = 10.335\n",
      "2025-10-30 16:00:48 matplotlib.font_manager DEBUG    findfont: score(FontEntry(fname='/disk/u/arnab/miniconda3/envs/connection/lib/python3.11/site-packages/matplotlib/mpl-data/fonts/ttf/STIXGeneralItalic.ttf', name='STIXGeneral', style='italic', variant='normal', weight=400, stretch='normal', size='scalable')) = 11.05\n",
      "2025-10-30 16:00:48 matplotlib.font_manager DEBUG    findfont: score(FontEntry(fname='/disk/u/arnab/miniconda3/envs/connection/lib/python3.11/site-packages/matplotlib/mpl-data/fonts/ttf/cmss10.ttf', name='cmss10', style='normal', variant='normal', weight=400, stretch='normal', size='scalable')) = 10.05\n",
      "2025-10-30 16:00:48 matplotlib.font_manager DEBUG    findfont: score(FontEntry(fname='/disk/u/arnab/miniconda3/envs/connection/lib/python3.11/site-packages/matplotlib/mpl-data/fonts/ttf/STIXGeneralBolIta.ttf', name='STIXGeneral', style='italic', variant='normal', weight=700, stretch='normal', size='scalable')) = 11.335\n",
      "2025-10-30 16:00:48 matplotlib.font_manager DEBUG    findfont: score(FontEntry(fname='/disk/u/arnab/miniconda3/envs/connection/lib/python3.11/site-packages/matplotlib/mpl-data/fonts/ttf/STIXSizTwoSymBol.ttf', name='STIXSizeTwoSym', style='normal', variant='normal', weight=700, stretch='normal', size='scalable')) = 10.335\n",
      "2025-10-30 16:00:48 matplotlib.font_manager DEBUG    findfont: score(FontEntry(fname='/disk/u/arnab/miniconda3/envs/connection/lib/python3.11/site-packages/matplotlib/mpl-data/fonts/ttf/STIXSizTwoSymReg.ttf', name='STIXSizeTwoSym', style='normal', variant='normal', weight=400, stretch='normal', size='scalable')) = 10.05\n",
      "2025-10-30 16:00:48 matplotlib.font_manager DEBUG    findfont: score(FontEntry(fname='/disk/u/arnab/miniconda3/envs/connection/lib/python3.11/site-packages/matplotlib/mpl-data/fonts/ttf/cmb10.ttf', name='cmb10', style='normal', variant='normal', weight=400, stretch='normal', size='scalable')) = 10.05\n",
      "2025-10-30 16:00:48 matplotlib.font_manager DEBUG    findfont: score(FontEntry(fname='/disk/u/arnab/miniconda3/envs/connection/lib/python3.11/site-packages/matplotlib/mpl-data/fonts/ttf/STIXSizOneSymBol.ttf', name='STIXSizeOneSym', style='normal', variant='normal', weight=700, stretch='normal', size='scalable')) = 10.335\n",
      "2025-10-30 16:00:48 matplotlib.font_manager DEBUG    findfont: score(FontEntry(fname='/disk/u/arnab/miniconda3/envs/connection/lib/python3.11/site-packages/matplotlib/mpl-data/fonts/ttf/STIXSizFiveSymReg.ttf', name='STIXSizeFiveSym', style='normal', variant='normal', weight=400, stretch='normal', size='scalable')) = 10.05\n",
      "2025-10-30 16:00:48 matplotlib.font_manager DEBUG    findfont: score(FontEntry(fname='/disk/u/arnab/miniconda3/envs/connection/lib/python3.11/site-packages/matplotlib/mpl-data/fonts/ttf/DejaVuSansMono-Bold.ttf', name='DejaVu Sans Mono', style='normal', variant='normal', weight=700, stretch='normal', size='scalable')) = 10.335\n",
      "2025-10-30 16:00:48 matplotlib.font_manager DEBUG    findfont: score(FontEntry(fname='/disk/u/arnab/miniconda3/envs/connection/lib/python3.11/site-packages/matplotlib/mpl-data/fonts/ttf/cmtt10.ttf', name='cmtt10', style='normal', variant='normal', weight=400, stretch='normal', size='scalable')) = 10.05\n",
      "2025-10-30 16:00:48 matplotlib.font_manager DEBUG    findfont: score(FontEntry(fname='/disk/u/arnab/miniconda3/envs/connection/lib/python3.11/site-packages/matplotlib/mpl-data/fonts/ttf/STIXSizThreeSymBol.ttf', name='STIXSizeThreeSym', style='normal', variant='normal', weight=700, stretch='normal', size='scalable')) = 10.335\n",
      "2025-10-30 16:00:48 matplotlib.font_manager DEBUG    findfont: score(FontEntry(fname='/disk/u/arnab/miniconda3/envs/connection/lib/python3.11/site-packages/matplotlib/mpl-data/fonts/ttf/DejaVuSansMono-BoldOblique.ttf', name='DejaVu Sans Mono', style='oblique', variant='normal', weight=700, stretch='normal', size='scalable')) = 11.335\n",
      "2025-10-30 16:00:48 matplotlib.font_manager DEBUG    findfont: score(FontEntry(fname='/disk/u/arnab/miniconda3/envs/connection/lib/python3.11/site-packages/matplotlib/mpl-data/fonts/ttf/DejaVuSerif-Italic.ttf', name='DejaVu Serif', style='italic', variant='normal', weight=400, stretch='normal', size='scalable')) = 11.05\n",
      "2025-10-30 16:00:48 matplotlib.font_manager DEBUG    findfont: score(FontEntry(fname='/disk/u/arnab/miniconda3/envs/connection/lib/python3.11/site-packages/matplotlib/mpl-data/fonts/ttf/cmsy10.ttf', name='cmsy10', style='normal', variant='normal', weight=400, stretch='normal', size='scalable')) = 10.05\n",
      "2025-10-30 16:00:48 matplotlib.font_manager DEBUG    findfont: score(FontEntry(fname='/usr/share/fonts/opentype/linux-libertine/LinBiolinum_K.otf', name='Linux Biolinum Keyboard O', style='normal', variant='normal', weight=700, stretch='normal', size='scalable')) = 10.335\n",
      "2025-10-30 16:00:48 matplotlib.font_manager DEBUG    findfont: score(FontEntry(fname='/usr/share/fonts/opentype/stix-word/STIX-Italic.otf', name='STIX', style='italic', variant='normal', weight=400, stretch='normal', size='scalable')) = 11.05\n",
      "2025-10-30 16:00:48 matplotlib.font_manager DEBUG    findfont: score(FontEntry(fname='/usr/share/fonts/truetype/lato/Lato-BlackItalic.ttf', name='Lato', style='italic', variant='normal', weight=900, stretch='normal', size='scalable')) = 11.525\n",
      "2025-10-30 16:00:48 matplotlib.font_manager DEBUG    findfont: score(FontEntry(fname='/usr/share/fonts/truetype/tlwg/Umpush-Oblique.ttf', name='Umpush', style='oblique', variant='normal', weight=400, stretch='normal', size='scalable')) = 11.05\n",
      "2025-10-30 16:00:48 matplotlib.font_manager DEBUG    findfont: score(FontEntry(fname='/usr/share/fonts/truetype/tlwg/TlwgTypist-BoldOblique.ttf', name='Tlwg Typist', style='oblique', variant='normal', weight=700, stretch='normal', size='scalable')) = 11.335\n",
      "2025-10-30 16:00:48 matplotlib.font_manager DEBUG    findfont: score(FontEntry(fname='/usr/share/fonts/truetype/noto/NotoSansBassaVah-Regular.ttf', name='Noto Sans Bassa Vah', style='normal', variant='normal', weight=400, stretch='normal', size='scalable')) = 10.05\n",
      "2025-10-30 16:00:48 matplotlib.font_manager DEBUG    findfont: score(FontEntry(fname='/usr/share/fonts/truetype/noto/NotoSansHanunoo-Regular.ttf', name='Noto Sans Hanunoo', style='normal', variant='normal', weight=400, stretch='normal', size='scalable')) = 10.05\n",
      "2025-10-30 16:00:48 matplotlib.font_manager DEBUG    findfont: score(FontEntry(fname='/usr/share/fonts/truetype/adf/UniversalisADFStd-Regular.otf', name='Universalis ADF Std', style='normal', variant='normal', weight=400, stretch='normal', size='scalable')) = 10.05\n",
      "2025-10-30 16:00:48 matplotlib.font_manager DEBUG    findfont: score(FontEntry(fname='/usr/share/fonts/opentype/urw-base35/P052-Roman.otf', name='P052', style='normal', variant='normal', weight=400, stretch='normal', size='scalable')) = 10.05\n",
      "2025-10-30 16:00:48 matplotlib.font_manager DEBUG    findfont: score(FontEntry(fname='/usr/share/fonts/truetype/ebgaramond/EBGaramond-InitialsF2.ttf', name='EB Garamond Initials Fill2', style='normal', variant='normal', weight=400, stretch='normal', size='scalable')) = 10.05\n",
      "2025-10-30 16:00:48 matplotlib.font_manager DEBUG    findfont: score(FontEntry(fname='/usr/share/fonts/truetype/lato/Lato-BoldItalic.ttf', name='Lato', style='italic', variant='normal', weight=700, stretch='normal', size='scalable')) = 11.335\n",
      "2025-10-30 16:00:48 matplotlib.font_manager DEBUG    findfont: score(FontEntry(fname='/usr/share/fonts/truetype/lyx/rsfs10.ttf', name='rsfs10', style='italic', variant='normal', weight=400, stretch='normal', size='scalable')) = 11.05\n",
      "2025-10-30 16:00:48 matplotlib.font_manager DEBUG    findfont: score(FontEntry(fname='/usr/share/fonts/opentype/freefont/FreeSerifItalic.otf', name='FreeSerif', style='italic', variant='normal', weight=400, stretch='normal', size='scalable')) = 11.05\n",
      "2025-10-30 16:00:48 matplotlib.font_manager DEBUG    findfont: score(FontEntry(fname='/usr/share/fonts/truetype/noto/NotoSansLydian-Regular.ttf', name='Noto Sans Lydian', style='normal', variant='normal', weight=400, stretch='normal', size='scalable')) = 10.05\n",
      "2025-10-30 16:00:48 matplotlib.font_manager DEBUG    findfont: score(FontEntry(fname='/usr/share/fonts/truetype/tlwg/Purisa.ttf', name='Purisa', style='normal', variant='normal', weight=400, stretch='normal', size='scalable')) = 10.05\n",
      "2025-10-30 16:00:48 matplotlib.font_manager DEBUG    findfont: score(FontEntry(fname='/usr/share/fonts/opentype/stix-word/STIX-Bold.otf', name='STIX', style='normal', variant='normal', weight=700, stretch='normal', size='scalable')) = 10.335\n",
      "2025-10-30 16:00:48 matplotlib.font_manager DEBUG    findfont: score(FontEntry(fname='/usr/share/fonts/opentype/linux-libertine/LinLibertine_DR.otf', name='Linux Libertine Display O', style='normal', variant='normal', weight=400, stretch='normal', size='scalable')) = 10.05\n",
      "2025-10-30 16:00:48 matplotlib.font_manager DEBUG    findfont: score(FontEntry(fname='/usr/share/fonts/fonts-go/Go-Mono.ttf', name='Go Mono', style='normal', variant='normal', weight=400, stretch='normal', size='scalable')) = 10.05\n",
      "2025-10-30 16:00:48 matplotlib.font_manager DEBUG    findfont: score(FontEntry(fname='/usr/share/fonts/truetype/gentium-basic/GenBasB.ttf', name='Gentium Basic', style='normal', variant='normal', weight=700, stretch='normal', size='scalable')) = 10.335\n",
      "2025-10-30 16:00:48 matplotlib.font_manager DEBUG    findfont: score(FontEntry(fname='/usr/share/fonts/truetype/dejavu/DejaVuSerifCondensed-Italic.ttf', name='DejaVu Serif', style='italic', variant='normal', weight=400, stretch='condensed', size='scalable')) = 11.25\n",
      "2025-10-30 16:00:48 matplotlib.font_manager DEBUG    findfont: score(FontEntry(fname='/usr/share/fonts/truetype/baekmuk/batang.ttf', name='Baekmuk Batang', style='normal', variant='normal', weight=400, stretch='normal', size='scalable')) = 10.05\n",
      "2025-10-30 16:00:48 matplotlib.font_manager DEBUG    findfont: score(FontEntry(fname='/usr/share/fonts/truetype/kacst/mry_KacstQurn.ttf', name='mry_KacstQurn', style='normal', variant='normal', weight=400, stretch='normal', size='scalable')) = 10.05\n",
      "2025-10-30 16:00:48 matplotlib.font_manager DEBUG    findfont: score(FontEntry(fname='/usr/share/fonts/truetype/noto/NotoSansTagbanwa-Regular.ttf', name='Noto Sans Tagbanwa', style='normal', variant='normal', weight=400, stretch='normal', size='scalable')) = 10.05\n",
      "2025-10-30 16:00:48 matplotlib.font_manager DEBUG    findfont: score(FontEntry(fname='/usr/share/fonts/truetype/padauk/PadaukBook-Regular.ttf', name='Padauk Book', style='normal', variant='normal', weight=400, stretch='normal', size='scalable')) = 10.05\n",
      "2025-10-30 16:00:48 matplotlib.font_manager DEBUG    findfont: score(FontEntry(fname='/usr/share/fonts/opentype/urw-base35/NimbusSans-BoldItalic.otf', name='Nimbus Sans', style='italic', variant='normal', weight=700, stretch='normal', size='scalable')) = 11.335\n",
      "2025-10-30 16:00:48 matplotlib.font_manager DEBUG    findfont: score(FontEntry(fname='/usr/share/fonts/opentype/urw-base35/NimbusMonoPS-Regular.otf', name='Nimbus Mono PS', style='normal', variant='normal', weight=400, stretch='normal', size='scalable')) = 10.05\n",
      "2025-10-30 16:00:48 matplotlib.font_manager DEBUG    findfont: score(FontEntry(fname='/usr/share/fonts/truetype/noto/NotoSansTamil-Bold.ttf', name='Noto Sans Tamil', style='normal', variant='normal', weight=700, stretch='normal', size='scalable')) = 10.335\n",
      "2025-10-30 16:00:48 matplotlib.font_manager DEBUG    findfont: score(FontEntry(fname='/usr/share/fonts/opentype/tlwg/Umpush-BoldOblique.otf', name='Umpush', style='oblique', variant='normal', weight=700, stretch='normal', size='scalable')) = 11.335\n",
      "2025-10-30 16:00:48 matplotlib.font_manager DEBUG    findfont: score(FontEntry(fname='/usr/share/fonts/opentype/stix/STIXSizeThreeSym-Bold.otf', name='STIXSizeThreeSym', style='normal', variant='normal', weight=700, stretch='normal', size='scalable')) = 10.335\n",
      "2025-10-30 16:00:48 matplotlib.font_manager DEBUG    findfont: score(FontEntry(fname='/usr/share/fonts/truetype/Navilu/Navilu.ttf', name='Navilu', style='normal', variant='normal', weight=400, stretch='normal', size='scalable')) = 10.05\n",
      "2025-10-30 16:00:48 matplotlib.font_manager DEBUG    findfont: score(FontEntry(fname='/usr/share/fonts/truetype/adf/GilliusADFNo2-BoldItalic.otf', name='Gillius ADF No2', style='italic', variant='normal', weight=700, stretch='normal', size='scalable')) = 11.335\n",
      "2025-10-30 16:00:48 matplotlib.font_manager DEBUG    findfont: score(FontEntry(fname='/usr/share/fonts/truetype/freefont/FreeSerifBoldItalic.ttf', name='FreeSerif', style='italic', variant='normal', weight=700, stretch='normal', size='scalable')) = 11.335\n",
      "2025-10-30 16:00:48 matplotlib.font_manager DEBUG    findfont: score(FontEntry(fname='/usr/share/fonts/opentype/freefont/FreeMono.otf', name='FreeMono', style='normal', variant='normal', weight=400, stretch='normal', size='scalable')) = 10.05\n",
      "2025-10-30 16:00:48 matplotlib.font_manager DEBUG    findfont: score(FontEntry(fname='/usr/share/fonts/opentype/tlwg/Kinnari-Oblique.otf', name='Kinnari', style='oblique', variant='normal', weight=400, stretch='normal', size='scalable')) = 11.05\n",
      "2025-10-30 16:00:48 matplotlib.font_manager DEBUG    findfont: score(FontEntry(fname='/usr/share/fonts/opentype/ebgaramond/EBGaramondSC12-Regular.otf', name='EB Garamond SC', style='normal', variant='normal', weight=400, stretch='normal', size='scalable')) = 10.05\n",
      "2025-10-30 16:00:48 matplotlib.font_manager DEBUG    findfont: score(FontEntry(fname='/usr/share/fonts/truetype/ttf-khmeros-core/KhmerOSsys.ttf', name='Khmer OS System', style='normal', variant='normal', weight=400, stretch='normal', size='scalable')) = 10.05\n",
      "2025-10-30 16:00:48 matplotlib.font_manager DEBUG    findfont: score(FontEntry(fname='/usr/share/fonts/opentype/stix/STIXGeneral-Bold.otf', name='STIXGeneral', style='normal', variant='normal', weight=700, stretch='normal', size='scalable')) = 10.335\n",
      "2025-10-30 16:00:48 matplotlib.font_manager DEBUG    findfont: score(FontEntry(fname='/usr/share/fonts/truetype/ubuntu/Ubuntu-C.ttf', name='Ubuntu Condensed', style='normal', variant='normal', weight=400, stretch='condensed', size='scalable')) = 10.25\n",
      "2025-10-30 16:00:48 matplotlib.font_manager DEBUG    findfont: score(FontEntry(fname='/usr/share/fonts/truetype/lao/Phetsarath_OT.ttf', name='Phetsarath OT', style='normal', variant='normal', weight=400, stretch='normal', size='scalable')) = 10.05\n",
      "2025-10-30 16:00:48 matplotlib.font_manager DEBUG    findfont: score(FontEntry(fname='/usr/share/fonts/truetype/freefont/FreeSansOblique.ttf', name='FreeSans', style='oblique', variant='normal', weight=400, stretch='normal', size='scalable')) = 11.05\n",
      "2025-10-30 16:00:48 matplotlib.font_manager DEBUG    findfont: score(FontEntry(fname='/usr/share/fonts/truetype/croscore/Cousine-Italic.ttf', name='Cousine', style='italic', variant='normal', weight=400, stretch='normal', size='scalable')) = 11.05\n",
      "2025-10-30 16:00:48 matplotlib.font_manager DEBUG    findfont: score(FontEntry(fname='/usr/share/fonts/truetype/dejavu/DejaVuSans-BoldOblique.ttf', name='DejaVu Sans', style='oblique', variant='normal', weight=700, stretch='normal', size='scalable')) = 1.335\n",
      "2025-10-30 16:00:48 matplotlib.font_manager DEBUG    findfont: score(FontEntry(fname='/usr/share/fonts/truetype/noto/NotoNaskhArabic-Regular.ttf', name='Noto Naskh Arabic', style='normal', variant='normal', weight=400, stretch='normal', size='scalable')) = 10.05\n",
      "2025-10-30 16:00:48 matplotlib.font_manager DEBUG    findfont: score(FontEntry(fname='/usr/share/fonts/truetype/adf/AccanthisADFStd-Regular.otf', name='Accanthis ADF Std', style='normal', variant='normal', weight=400, stretch='normal', size='scalable')) = 10.05\n",
      "2025-10-30 16:00:48 matplotlib.font_manager DEBUG    findfont: score(FontEntry(fname='/usr/share/fonts/truetype/crosextra/Caladea-Regular.ttf', name='Caladea', style='normal', variant='normal', weight=400, stretch='normal', size='scalable')) = 10.05\n",
      "2025-10-30 16:00:48 matplotlib.font_manager DEBUG    findfont: score(FontEntry(fname='/usr/share/fonts/truetype/Sahadeva/sahadeva.ttf', name='Sahadeva', style='normal', variant='normal', weight=400, stretch='normal', size='scalable')) = 10.05\n",
      "2025-10-30 16:00:48 matplotlib.font_manager DEBUG    findfont: score(FontEntry(fname='/usr/share/fonts/truetype/tlwg/Sawasdee.ttf', name='Sawasdee', style='normal', variant='normal', weight=400, stretch='normal', size='scalable')) = 10.05\n",
      "2025-10-30 16:00:48 matplotlib.font_manager DEBUG    findfont: score(FontEntry(fname='/usr/share/fonts/truetype/msttcorefonts/Andale_Mono.ttf', name='Andale Mono', style='normal', variant='normal', weight=400, stretch='normal', size='scalable')) = 10.05\n",
      "2025-10-30 16:00:48 matplotlib.font_manager DEBUG    findfont: score(FontEntry(fname='/usr/share/fonts/truetype/tlwg/Norasi-BoldItalic.ttf', name='Norasi', style='italic', variant='normal', weight=700, stretch='normal', size='scalable')) = 11.335\n",
      "2025-10-30 16:00:48 matplotlib.font_manager DEBUG    findfont: score(FontEntry(fname='/usr/share/fonts/truetype/noto/NotoSansBamum-Regular.ttf', name='Noto Sans Bamum', style='normal', variant='normal', weight=400, stretch='normal', size='scalable')) = 10.05\n",
      "2025-10-30 16:00:48 matplotlib.font_manager DEBUG    findfont: score(FontEntry(fname='/usr/share/fonts/truetype/kacst/KacstQurn.ttf', name='KacstQurn', style='normal', variant='normal', weight=400, stretch='normal', size='scalable')) = 10.05\n",
      "2025-10-30 16:00:48 matplotlib.font_manager DEBUG    findfont: score(FontEntry(fname='/usr/share/fonts/truetype/tlwg/Umpush-BoldOblique.ttf', name='Umpush', style='oblique', variant='normal', weight=700, stretch='normal', size='scalable')) = 11.335\n",
      "2025-10-30 16:00:48 matplotlib.font_manager DEBUG    findfont: score(FontEntry(fname='/usr/share/fonts/truetype/noto/NotoSerifDisplay-Bold.ttf', name='Noto Serif Display', style='normal', variant='normal', weight=700, stretch='normal', size='scalable')) = 10.335\n",
      "2025-10-30 16:00:48 matplotlib.font_manager DEBUG    findfont: score(FontEntry(fname='/usr/share/fonts/truetype/liberation2/LiberationSans-Bold.ttf', name='Liberation Sans', style='normal', variant='normal', weight=700, stretch='normal', size='scalable')) = 10.335\n",
      "2025-10-30 16:00:48 matplotlib.font_manager DEBUG    findfont: score(FontEntry(fname='/usr/share/fonts/truetype/noto/NotoKufiArabic-Bold.ttf', name='Noto Kufi Arabic', style='normal', variant='normal', weight=700, stretch='normal', size='scalable')) = 10.335\n",
      "2025-10-30 16:00:48 matplotlib.font_manager DEBUG    findfont: score(FontEntry(fname='/usr/share/fonts/truetype/adf/AccanthisADFStdNo2-Regular.otf', name='Accanthis ADF Std No2', style='normal', variant='normal', weight=400, stretch='normal', size='scalable')) = 10.05\n",
      "2025-10-30 16:00:48 matplotlib.font_manager DEBUG    findfont: score(FontEntry(fname='/usr/share/fonts/truetype/noto/NotoSerifGurmukhi-Regular.ttf', name='Noto Serif Gurmukhi', style='normal', variant='normal', weight=400, stretch='normal', size='scalable')) = 10.05\n",
      "2025-10-30 16:00:48 matplotlib.font_manager DEBUG    findfont: score(FontEntry(fname='/usr/share/fonts/truetype/noto/NotoSerifDisplay-BoldItalic.ttf', name='Noto Serif Display', style='italic', variant='normal', weight=700, stretch='normal', size='scalable')) = 11.335\n",
      "2025-10-30 16:00:48 matplotlib.font_manager DEBUG    findfont: score(FontEntry(fname='/usr/share/fonts/truetype/liberation/LiberationSans-BoldItalic.ttf', name='Liberation Sans', style='italic', variant='normal', weight=700, stretch='normal', size='scalable')) = 11.335\n",
      "2025-10-30 16:00:48 matplotlib.font_manager DEBUG    findfont: score(FontEntry(fname='/usr/share/fonts/opentype/stix/STIXSizeFourSym-Regular.otf', name='STIXSizeFourSym', style='normal', variant='normal', weight=400, stretch='normal', size='scalable')) = 10.05\n",
      "2025-10-30 16:00:48 matplotlib.font_manager DEBUG    findfont: score(FontEntry(fname='/usr/share/fonts/truetype/noto/NotoSansKhmer-Regular.ttf', name='Noto Sans Khmer', style='normal', variant='normal', weight=400, stretch='normal', size='scalable')) = 10.05\n",
      "2025-10-30 16:00:48 matplotlib.font_manager DEBUG    findfont: score(FontEntry(fname='/usr/share/fonts/truetype/comfortaa/Comfortaa-Light.ttf', name='Comfortaa', style='normal', variant='normal', weight=300, stretch='normal', size='scalable')) = 10.145\n",
      "2025-10-30 16:00:48 matplotlib.font_manager DEBUG    findfont: score(FontEntry(fname='/usr/share/fonts/truetype/noto/NotoSerifTibetan-Regular.ttf', name='Noto Serif Tibetan', style='normal', variant='normal', weight=400, stretch='normal', size='scalable')) = 10.05\n",
      "2025-10-30 16:00:48 matplotlib.font_manager DEBUG    findfont: score(FontEntry(fname='/usr/share/fonts/truetype/croscore/Cousine-Regular.ttf', name='Cousine', style='normal', variant='normal', weight=400, stretch='normal', size='scalable')) = 10.05\n",
      "2025-10-30 16:00:48 matplotlib.font_manager DEBUG    findfont: score(FontEntry(fname='/usr/share/fonts/opentype/urw-base35/NimbusMonoPS-BoldItalic.otf', name='Nimbus Mono PS', style='italic', variant='normal', weight=700, stretch='normal', size='scalable')) = 11.335\n",
      "2025-10-30 16:00:48 matplotlib.font_manager DEBUG    findfont: score(FontEntry(fname='/usr/share/fonts/opentype/gentiumplus/GentiumPlusCompact-R.ttf', name='Gentium Plus Compact', style='normal', variant='normal', weight=400, stretch='normal', size='scalable')) = 10.05\n",
      "2025-10-30 16:00:48 matplotlib.font_manager DEBUG    findfont: score(FontEntry(fname='/usr/share/fonts/truetype/tlwg/TlwgTypewriter-Oblique.ttf', name='Tlwg Typewriter', style='oblique', variant='normal', weight=400, stretch='normal', size='scalable')) = 11.05\n",
      "2025-10-30 16:00:48 matplotlib.font_manager DEBUG    findfont: score(FontEntry(fname='/usr/share/fonts/truetype/adf/UniversalisADFStd-BoldItalic.otf', name='Universalis ADF Std', style='italic', variant='normal', weight=700, stretch='normal', size='scalable')) = 11.335\n",
      "2025-10-30 16:00:48 matplotlib.font_manager DEBUG    findfont: score(FontEntry(fname='/usr/share/fonts/truetype/gentium/Gentium-I.ttf', name='Gentium', style='italic', variant='normal', weight=400, stretch='normal', size='scalable')) = 11.05\n",
      "2025-10-30 16:00:48 matplotlib.font_manager DEBUG    findfont: score(FontEntry(fname='/usr/share/fonts/truetype/dejavu/DejaVuSans-Oblique.ttf', name='DejaVu Sans', style='oblique', variant='normal', weight=400, stretch='normal', size='scalable')) = 1.05\n",
      "2025-10-30 16:00:48 matplotlib.font_manager DEBUG    findfont: score(FontEntry(fname='/usr/share/fonts/truetype/noto/NotoSansCuneiform-Regular.ttf', name='Noto Sans Cuneiform', style='normal', variant='normal', weight=400, stretch='normal', size='scalable')) = 10.05\n",
      "2025-10-30 16:00:48 matplotlib.font_manager DEBUG    findfont: score(FontEntry(fname='/usr/share/fonts/truetype/noto/NotoSansDuployan-Regular.ttf', name='Noto Sans Duployan', style='normal', variant='normal', weight=400, stretch='normal', size='scalable')) = 10.05\n",
      "2025-10-30 16:00:48 matplotlib.font_manager DEBUG    findfont: score(FontEntry(fname='/usr/share/fonts/truetype/msttcorefonts/Courier_New_Bold.ttf', name='Courier New', style='normal', variant='normal', weight=700, stretch='normal', size='scalable')) = 10.335\n",
      "2025-10-30 16:00:48 matplotlib.font_manager DEBUG    findfont: score(FontEntry(fname='/usr/share/fonts/truetype/noto/NotoSansSylotiNagri-Regular.ttf', name='Noto Sans Syloti Nagri', style='normal', variant='normal', weight=400, stretch='normal', size='scalable')) = 10.05\n",
      "2025-10-30 16:00:48 matplotlib.font_manager DEBUG    findfont: score(FontEntry(fname='/usr/share/fonts/truetype/noto/NotoSansGurmukhi-Bold.ttf', name='Noto Sans Gurmukhi', style='normal', variant='normal', weight=700, stretch='normal', size='scalable')) = 10.335\n",
      "2025-10-30 16:00:48 matplotlib.font_manager DEBUG    findfont: score(FontEntry(fname='/usr/share/fonts/truetype/msttcorefonts/georgia.ttf', name='Georgia', style='normal', variant='normal', weight=400, stretch='normal', size='scalable')) = 10.05\n",
      "2025-10-30 16:00:48 matplotlib.font_manager DEBUG    findfont: score(FontEntry(fname='/usr/share/fonts/opentype/tlwg/TlwgTypewriter.otf', name='Tlwg Typewriter', style='normal', variant='normal', weight=400, stretch='normal', size='scalable')) = 10.05\n",
      "2025-10-30 16:00:48 matplotlib.font_manager DEBUG    findfont: score(FontEntry(fname='/usr/share/fonts/truetype/liberation2/LiberationMono-BoldItalic.ttf', name='Liberation Mono', style='italic', variant='normal', weight=700, stretch='normal', size='scalable')) = 11.335\n",
      "2025-10-30 16:00:48 matplotlib.font_manager DEBUG    findfont: score(FontEntry(fname='/usr/share/fonts/truetype/fonts-yrsa-rasa/Yrsa-Regular.ttf', name='Yrsa', style='normal', variant='normal', weight=400, stretch='normal', size='scalable')) = 10.05\n",
      "2025-10-30 16:00:48 matplotlib.font_manager DEBUG    findfont: score(FontEntry(fname='/usr/share/fonts/truetype/open-sans/OpenSans-SemiboldItalic.ttf', name='Open Sans', style='italic', variant='normal', weight=600, stretch='normal', size='scalable')) = 11.24\n",
      "2025-10-30 16:00:48 matplotlib.font_manager DEBUG    findfont: score(FontEntry(fname='/usr/share/fonts/truetype/fonts-guru-extra/Saab.ttf', name='Saab', style='normal', variant='normal', weight=400, stretch='normal', size='scalable')) = 10.05\n",
      "2025-10-30 16:00:48 matplotlib.font_manager DEBUG    findfont: score(FontEntry(fname='/usr/share/fonts/truetype/noto/NotoSansInscriptionalParthian-Regular.ttf', name='Noto Sans Inscriptional Parthian', style='normal', variant='normal', weight=400, stretch='normal', size='scalable')) = 10.05\n",
      "2025-10-30 16:00:48 matplotlib.font_manager DEBUG    findfont: score(FontEntry(fname='/usr/share/fonts/truetype/noto/NotoSansKhojki-Regular.ttf', name='Noto Sans Khojki', style='normal', variant='normal', weight=400, stretch='normal', size='scalable')) = 10.05\n",
      "2025-10-30 16:00:48 matplotlib.font_manager DEBUG    findfont: score(FontEntry(fname='/usr/share/fonts/truetype/tlwg/TlwgTypewriter-BoldOblique.ttf', name='Tlwg Typewriter', style='oblique', variant='normal', weight=700, stretch='normal', size='scalable')) = 11.335\n",
      "2025-10-30 16:00:48 matplotlib.font_manager DEBUG    findfont: score(FontEntry(fname='/usr/share/fonts/fonts-go/Go-Mono-Bold.ttf', name='Go Mono', style='normal', variant='normal', weight=600, stretch='normal', size='scalable')) = 10.24\n",
      "2025-10-30 16:00:48 matplotlib.font_manager DEBUG    findfont: score(FontEntry(fname='/usr/share/fonts/truetype/malayalam/Rachana-Bold.ttf', name='Rachana', style='normal', variant='normal', weight=700, stretch='normal', size='scalable')) = 10.335\n",
      "2025-10-30 16:00:48 matplotlib.font_manager DEBUG    findfont: score(FontEntry(fname='/usr/share/fonts/truetype/tlwg/TlwgTypewriter.ttf', name='Tlwg Typewriter', style='normal', variant='normal', weight=400, stretch='normal', size='scalable')) = 10.05\n",
      "2025-10-30 16:00:48 matplotlib.font_manager DEBUG    findfont: score(FontEntry(fname='/usr/share/fonts/opentype/stix/STIXNonUnicode-BoldItalic.otf', name='STIXNonUnicode', style='italic', variant='normal', weight=700, stretch='normal', size='scalable')) = 11.335\n",
      "2025-10-30 16:00:48 matplotlib.font_manager DEBUG    findfont: score(FontEntry(fname='/usr/share/fonts/truetype/noto/NotoSansMahajani-Regular.ttf', name='Noto Sans Mahajani', style='normal', variant='normal', weight=400, stretch='normal', size='scalable')) = 10.05\n",
      "2025-10-30 16:00:48 matplotlib.font_manager DEBUG    findfont: score(FontEntry(fname='/usr/share/fonts/truetype/msttcorefonts/Arial.ttf', name='Arial', style='normal', variant='normal', weight=400, stretch='normal', size='scalable')) = 6.413636363636363\n",
      "2025-10-30 16:00:48 matplotlib.font_manager DEBUG    findfont: score(FontEntry(fname='/usr/share/fonts/truetype/msttcorefonts/Trebuchet_MS.ttf', name='Trebuchet MS', style='normal', variant='normal', weight=400, stretch='normal', size='scalable')) = 10.05\n",
      "2025-10-30 16:00:48 matplotlib.font_manager DEBUG    findfont: score(FontEntry(fname='/usr/share/fonts/truetype/roboto/unhinted/RobotoTTF/Roboto-Medium.ttf', name='Roboto', style='normal', variant='normal', weight=500, stretch='normal', size='scalable')) = 10.145\n",
      "2025-10-30 16:00:48 matplotlib.font_manager DEBUG    findfont: score(FontEntry(fname='/usr/share/fonts/truetype/noto/NotoSerifSinhala-Bold.ttf', name='Noto Serif Sinhala', style='normal', variant='normal', weight=700, stretch='normal', size='scalable')) = 10.335\n",
      "2025-10-30 16:00:48 matplotlib.font_manager DEBUG    findfont: score(FontEntry(fname='/usr/share/fonts/truetype/tlwg/Loma-BoldOblique.ttf', name='Loma', style='oblique', variant='normal', weight=700, stretch='normal', size='scalable')) = 11.335\n",
      "2025-10-30 16:00:48 matplotlib.font_manager DEBUG    findfont: score(FontEntry(fname='/usr/share/fonts/truetype/msttcorefonts/Courier_New_Italic.ttf', name='Courier New', style='italic', variant='normal', weight=400, stretch='normal', size='scalable')) = 11.05\n",
      "2025-10-30 16:00:48 matplotlib.font_manager DEBUG    findfont: score(FontEntry(fname='/usr/share/fonts/opentype/ipafont-gothic/ipag.ttf', name='IPAGothic', style='normal', variant='normal', weight=400, stretch='normal', size='scalable')) = 10.05\n",
      "2025-10-30 16:00:48 matplotlib.font_manager DEBUG    findfont: score(FontEntry(fname='/usr/share/fonts/truetype/crosextra/Carlito-BoldItalic.ttf', name='Carlito', style='italic', variant='normal', weight=700, stretch='normal', size='scalable')) = 11.335\n",
      "2025-10-30 16:00:48 matplotlib.font_manager DEBUG    findfont: score(FontEntry(fname='/usr/share/fonts/opentype/tlwg/Loma-Oblique.otf', name='Loma', style='oblique', variant='normal', weight=400, stretch='normal', size='scalable')) = 11.05\n",
      "2025-10-30 16:00:48 matplotlib.font_manager DEBUG    findfont: score(FontEntry(fname='/usr/share/fonts/opentype/tlwg/TlwgTypewriter-Bold.otf', name='Tlwg Typewriter', style='normal', variant='normal', weight=700, stretch='normal', size='scalable')) = 10.335\n",
      "2025-10-30 16:00:48 matplotlib.font_manager DEBUG    findfont: score(FontEntry(fname='/usr/share/fonts/truetype/kacst/KacstPoster.ttf', name='KacstPoster', style='normal', variant='normal', weight=500, stretch='normal', size='scalable')) = 10.145\n",
      "2025-10-30 16:00:48 matplotlib.font_manager DEBUG    findfont: score(FontEntry(fname='/usr/share/fonts/opentype/noto/NotoSansCJK-Regular.ttc', name='Noto Sans CJK JP', style='normal', variant='normal', weight=400, stretch='normal', size='scalable')) = 10.05\n",
      "2025-10-30 16:00:48 matplotlib.font_manager DEBUG    findfont: score(FontEntry(fname='/usr/share/fonts/opentype/ebgaramond/EBGaramond12-AllSC.otf', name='EB Garamond 12 All SC', style='normal', variant='normal', weight=400, stretch='normal', size='scalable')) = 10.05\n",
      "2025-10-30 16:00:48 matplotlib.font_manager DEBUG    findfont: score(FontEntry(fname='/usr/share/fonts/truetype/noto/NotoSansBhaiksuki-Regular.ttf', name='Noto Sans Bhaiksuki', style='normal', variant='normal', weight=400, stretch='normal', size='scalable')) = 10.05\n",
      "2025-10-30 16:00:48 matplotlib.font_manager DEBUG    findfont: score(FontEntry(fname='/usr/share/fonts/truetype/arphic/uming.ttc', name='AR PL UMing CN', style='normal', variant='normal', weight=300, stretch='normal', size='scalable')) = 10.145\n",
      "2025-10-30 16:00:48 matplotlib.font_manager DEBUG    findfont: score(FontEntry(fname='/usr/share/fonts/truetype/crosextra/Carlito-Bold.ttf', name='Carlito', style='normal', variant='normal', weight=700, stretch='normal', size='scalable')) = 10.335\n",
      "2025-10-30 16:00:48 matplotlib.font_manager DEBUG    findfont: score(FontEntry(fname='/usr/share/fonts/truetype/ubuntu/UbuntuMono-RI.ttf', name='Ubuntu Mono', style='italic', variant='normal', weight=400, stretch='normal', size='scalable')) = 11.05\n",
      "2025-10-30 16:00:48 matplotlib.font_manager DEBUG    findfont: score(FontEntry(fname='/usr/share/fonts/truetype/noto/NotoSansLao-Regular.ttf', name='Noto Sans Lao', style='normal', variant='normal', weight=400, stretch='normal', size='scalable')) = 10.05\n",
      "2025-10-30 16:00:48 matplotlib.font_manager DEBUG    findfont: score(FontEntry(fname='/usr/share/fonts/truetype/gentium-basic/GenBasR.ttf', name='Gentium Basic', style='normal', variant='normal', weight=400, stretch='normal', size='scalable')) = 10.05\n",
      "2025-10-30 16:00:48 matplotlib.font_manager DEBUG    findfont: score(FontEntry(fname='/usr/share/fonts/opentype/ebgaramond/EBGaramond08-Italic.otf', name='EB Garamond', style='italic', variant='normal', weight=400, stretch='normal', size='scalable')) = 11.05\n",
      "2025-10-30 16:00:48 matplotlib.font_manager DEBUG    findfont: score(FontEntry(fname='/usr/share/fonts/truetype/noto/NotoSansSoraSompeng-Regular.ttf', name='Noto Sans Sora Sompeng', style='normal', variant='normal', weight=400, stretch='normal', size='scalable')) = 10.05\n",
      "2025-10-30 16:00:48 matplotlib.font_manager DEBUG    findfont: score(FontEntry(fname='/usr/share/fonts/opentype/freefont/FreeMonoBoldOblique.otf', name='FreeMono', style='oblique', variant='normal', weight=700, stretch='normal', size='scalable')) = 11.335\n",
      "2025-10-30 16:00:48 matplotlib.font_manager DEBUG    findfont: score(FontEntry(fname='/usr/share/fonts/truetype/noto/NotoSansMendeKikakui-Regular.ttf', name='Noto Sans Mende Kikakui', style='normal', variant='normal', weight=400, stretch='normal', size='scalable')) = 10.05\n",
      "2025-10-30 16:00:48 matplotlib.font_manager DEBUG    findfont: score(FontEntry(fname='/usr/share/fonts/truetype/kacst/KacstNaskh.ttf', name='KacstNaskh', style='normal', variant='normal', weight=500, stretch='normal', size='scalable')) = 10.145\n",
      "2025-10-30 16:00:48 matplotlib.font_manager DEBUG    findfont: score(FontEntry(fname='/usr/share/fonts/opentype/stix/STIXSizeOneSym-Regular.otf', name='STIXSizeOneSym', style='normal', variant='normal', weight=400, stretch='normal', size='scalable')) = 10.05\n",
      "2025-10-30 16:00:48 matplotlib.font_manager DEBUG    findfont: score(FontEntry(fname='/usr/share/fonts/truetype/noto/NotoSans-Bold.ttf', name='Noto Sans', style='normal', variant='normal', weight=700, stretch='normal', size='scalable')) = 10.335\n",
      "2025-10-30 16:00:48 matplotlib.font_manager DEBUG    findfont: score(FontEntry(fname='/usr/share/fonts/truetype/roboto/unhinted/RobotoTTF/Roboto-LightItalic.ttf', name='Roboto', style='italic', variant='normal', weight=300, stretch='normal', size='scalable')) = 11.145\n",
      "2025-10-30 16:00:48 matplotlib.font_manager DEBUG    findfont: score(FontEntry(fname='/usr/share/fonts/opentype/cabin/Cabin-Italic.otf', name='Cabin', style='italic', variant='normal', weight=400, stretch='normal', size='scalable')) = 11.05\n",
      "2025-10-30 16:00:48 matplotlib.font_manager DEBUG    findfont: score(FontEntry(fname='/usr/share/fonts/truetype/adf/AccanthisADFStdNo3-Italic.otf', name='Accanthis ADF Std No3', style='italic', variant='normal', weight=400, stretch='normal', size='scalable')) = 11.05\n",
      "2025-10-30 16:00:48 matplotlib.font_manager DEBUG    findfont: score(FontEntry(fname='/usr/share/fonts/truetype/adf/GilliusADF-BoldCond.otf', name='Gillius ADF', style='normal', variant='normal', weight=700, stretch='condensed', size='scalable')) = 10.535\n",
      "2025-10-30 16:00:48 matplotlib.font_manager DEBUG    findfont: score(FontEntry(fname='/usr/share/fonts/truetype/noto/NotoNaskhArabic-Bold.ttf', name='Noto Naskh Arabic', style='normal', variant='normal', weight=700, stretch='normal', size='scalable')) = 10.335\n",
      "2025-10-30 16:00:48 matplotlib.font_manager DEBUG    findfont: score(FontEntry(fname='/usr/share/fonts/opentype/stix-word/STIX-Regular.otf', name='STIX', style='normal', variant='normal', weight=400, stretch='normal', size='scalable')) = 10.05\n",
      "2025-10-30 16:00:48 matplotlib.font_manager DEBUG    findfont: score(FontEntry(fname='/usr/share/fonts/truetype/adf/GilliusADF-Regular.otf', name='Gillius ADF', style='normal', variant='normal', weight=400, stretch='normal', size='scalable')) = 10.05\n",
      "2025-10-30 16:00:48 matplotlib.font_manager DEBUG    findfont: score(FontEntry(fname='/usr/share/fonts/truetype/roboto/unhinted/RobotoTTF/Roboto-Black.ttf', name='Roboto', style='normal', variant='normal', weight=900, stretch='normal', size='scalable')) = 10.525\n",
      "2025-10-30 16:00:48 matplotlib.font_manager DEBUG    findfont: score(FontEntry(fname='/usr/share/fonts/opentype/urw-base35/P052-Bold.otf', name='P052', style='normal', variant='normal', weight=700, stretch='normal', size='scalable')) = 10.335\n",
      "2025-10-30 16:00:48 matplotlib.font_manager DEBUG    findfont: score(FontEntry(fname='/usr/share/fonts/truetype/dejavu/DejaVuMathTeXGyre.ttf', name='DejaVu Math TeX Gyre', style='normal', variant='normal', weight=400, stretch='normal', size='scalable')) = 10.05\n",
      "2025-10-30 16:00:48 matplotlib.font_manager DEBUG    findfont: score(FontEntry(fname='/usr/share/fonts/opentype/tlwg/Norasi-BoldOblique.otf', name='Norasi', style='oblique', variant='normal', weight=700, stretch='normal', size='scalable')) = 11.335\n",
      "2025-10-30 16:00:48 matplotlib.font_manager DEBUG    findfont: score(FontEntry(fname='/usr/share/fonts/truetype/noto/NotoSansCherokee-Bold.ttf', name='Noto Sans Cherokee', style='normal', variant='normal', weight=700, stretch='normal', size='scalable')) = 10.335\n",
      "2025-10-30 16:00:48 matplotlib.font_manager DEBUG    findfont: score(FontEntry(fname='/usr/share/fonts/truetype/complutum/GFSPolyglot.otf', name='GFS Complutum', style='normal', variant='normal', weight=400, stretch='normal', size='scalable')) = 10.05\n",
      "2025-10-30 16:00:48 matplotlib.font_manager DEBUG    findfont: score(FontEntry(fname='/usr/share/fonts/truetype/noto/NotoSansHatran-Regular.ttf', name='Noto Sans Hatran', style='normal', variant='normal', weight=400, stretch='normal', size='scalable')) = 10.05\n",
      "2025-10-30 16:00:48 matplotlib.font_manager DEBUG    findfont: score(FontEntry(fname='/usr/share/fonts/truetype/crosextra/Carlito-Regular.ttf', name='Carlito', style='normal', variant='normal', weight=400, stretch='normal', size='scalable')) = 10.05\n",
      "2025-10-30 16:00:48 matplotlib.font_manager DEBUG    findfont: score(FontEntry(fname='/usr/share/fonts/truetype/msttcorefonts/verdana.ttf', name='Verdana', style='normal', variant='normal', weight=400, stretch='normal', size='scalable')) = 3.6863636363636365\n",
      "2025-10-30 16:00:48 matplotlib.font_manager DEBUG    findfont: score(FontEntry(fname='/usr/share/fonts/truetype/noto/NotoSansLao-Bold.ttf', name='Noto Sans Lao', style='normal', variant='normal', weight=700, stretch='normal', size='scalable')) = 10.335\n",
      "2025-10-30 16:00:48 matplotlib.font_manager DEBUG    findfont: score(FontEntry(fname='/usr/share/fonts/truetype/dejavu/DejaVuSerif-BoldItalic.ttf', name='DejaVu Serif', style='italic', variant='normal', weight=700, stretch='normal', size='scalable')) = 11.335\n",
      "2025-10-30 16:00:48 matplotlib.font_manager DEBUG    findfont: score(FontEntry(fname='/usr/share/fonts/opentype/urw-base35/D050000L.otf', name='D050000L', style='normal', variant='normal', weight=400, stretch='normal', size='scalable')) = 10.05\n",
      "2025-10-30 16:00:48 matplotlib.font_manager DEBUG    findfont: score(FontEntry(fname='/usr/share/fonts/truetype/tlwg/Norasi-Italic.ttf', name='Norasi', style='italic', variant='normal', weight=400, stretch='normal', size='scalable')) = 11.05\n",
      "2025-10-30 16:00:48 matplotlib.font_manager DEBUG    findfont: score(FontEntry(fname='/usr/share/fonts/opentype/cabin/Cabin-BoldItalic.otf', name='Cabin', style='italic', variant='normal', weight=700, stretch='normal', size='scalable')) = 11.335\n",
      "2025-10-30 16:00:48 matplotlib.font_manager DEBUG    findfont: score(FontEntry(fname='/usr/share/fonts/truetype/samyak-fonts/Samyak-Tamil.ttf', name='Samyak Tamil', style='normal', variant='normal', weight=500, stretch='normal', size='scalable')) = 10.145\n",
      "2025-10-30 16:00:48 matplotlib.font_manager DEBUG    findfont: score(FontEntry(fname='/usr/share/fonts/truetype/fonts-kalapi/Kalapi.ttf', name='Kalapi', style='normal', variant='normal', weight=400, stretch='normal', size='scalable')) = 10.05\n",
      "2025-10-30 16:00:48 matplotlib.font_manager DEBUG    findfont: score(FontEntry(fname='/usr/share/fonts/truetype/baekmuk/hline.ttf', name='Baekmuk Headline', style='normal', variant='normal', weight=400, stretch='normal', size='scalable')) = 10.05\n",
      "2025-10-30 16:00:48 matplotlib.font_manager DEBUG    findfont: score(FontEntry(fname='/usr/share/fonts/truetype/noto/NotoSansSyriac-Regular.ttf', name='Noto Sans Syriac', style='normal', variant='normal', weight=400, stretch='normal', size='scalable')) = 10.05\n",
      "2025-10-30 16:00:48 matplotlib.font_manager DEBUG    findfont: score(FontEntry(fname='/usr/share/fonts/truetype/noto/NotoSerifGurmukhi-Bold.ttf', name='Noto Serif Gurmukhi', style='normal', variant='normal', weight=700, stretch='normal', size='scalable')) = 10.335\n",
      "2025-10-30 16:00:48 matplotlib.font_manager DEBUG    findfont: score(FontEntry(fname='/usr/share/fonts/truetype/ebgaramond/EBGaramond08-Italic.ttf', name='EB Garamond', style='italic', variant='normal', weight=400, stretch='normal', size='scalable')) = 11.05\n",
      "2025-10-30 16:00:48 matplotlib.font_manager DEBUG    findfont: score(FontEntry(fname='/usr/share/fonts/truetype/freefont/FreeSansBoldOblique.ttf', name='FreeSans', style='oblique', variant='normal', weight=600, stretch='normal', size='scalable')) = 11.24\n",
      "2025-10-30 16:00:48 matplotlib.font_manager DEBUG    findfont: score(FontEntry(fname='/usr/share/fonts/truetype/tlwg/TlwgTypo-Oblique.ttf', name='Tlwg Typo', style='oblique', variant='normal', weight=400, stretch='normal', size='scalable')) = 11.05\n",
      "2025-10-30 16:00:48 matplotlib.font_manager DEBUG    findfont: score(FontEntry(fname='/usr/share/fonts/truetype/tlwg/Umpush.ttf', name='Umpush', style='normal', variant='normal', weight=400, stretch='normal', size='scalable')) = 10.05\n",
      "2025-10-30 16:00:48 matplotlib.font_manager DEBUG    findfont: score(FontEntry(fname='/usr/share/fonts/truetype/gentiumplus/GentiumPlus-R.ttf', name='Gentium Plus', style='normal', variant='normal', weight=400, stretch='normal', size='scalable')) = 10.05\n",
      "2025-10-30 16:00:48 matplotlib.font_manager DEBUG    findfont: score(FontEntry(fname='/usr/share/fonts/truetype/dejavu/DejaVuSansCondensed-BoldOblique.ttf', name='DejaVu Sans', style='oblique', variant='normal', weight=700, stretch='condensed', size='scalable')) = 1.535\n",
      "2025-10-30 16:00:48 matplotlib.font_manager DEBUG    findfont: score(FontEntry(fname='/usr/share/fonts/truetype/noto/NotoSansSymbols-Bold.ttf', name='Noto Sans Symbols', style='normal', variant='normal', weight=700, stretch='normal', size='scalable')) = 10.335\n",
      "2025-10-30 16:00:48 matplotlib.font_manager DEBUG    findfont: score(FontEntry(fname='/usr/share/fonts/truetype/liberation/LiberationSansNarrow-BoldItalic.ttf', name='Liberation Sans Narrow', style='italic', variant='normal', weight=700, stretch='condensed', size='scalable')) = 11.535\n",
      "2025-10-30 16:00:48 matplotlib.font_manager DEBUG    findfont: score(FontEntry(fname='/usr/share/fonts/truetype/ebgaramond/EBGaramondSC08-Regular.ttf', name='EB Garamond SC', style='normal', variant='normal', weight=400, stretch='normal', size='scalable')) = 10.05\n",
      "2025-10-30 16:00:48 matplotlib.font_manager DEBUG    findfont: score(FontEntry(fname='/usr/share/fonts/truetype/lohit-malayalam/Lohit-Malayalam.ttf', name='Lohit Malayalam', style='normal', variant='normal', weight=400, stretch='normal', size='scalable')) = 10.05\n",
      "2025-10-30 16:00:48 matplotlib.font_manager DEBUG    findfont: score(FontEntry(fname='/usr/share/fonts/truetype/tlwg/Laksaman.ttf', name='Laksaman', style='normal', variant='normal', weight=400, stretch='normal', size='scalable')) = 10.05\n",
      "2025-10-30 16:00:48 matplotlib.font_manager DEBUG    findfont: score(FontEntry(fname='/usr/share/fonts/truetype/noto/NotoSansSamaritan-Regular.ttf', name='Noto Sans Samaritan', style='normal', variant='normal', weight=400, stretch='normal', size='scalable')) = 10.05\n",
      "2025-10-30 16:00:48 matplotlib.font_manager DEBUG    findfont: score(FontEntry(fname='/usr/share/fonts/opentype/linux-libertine/LinLibertine_RI.otf', name='Linux Libertine O', style='italic', variant='normal', weight=400, stretch='normal', size='scalable')) = 11.05\n",
      "2025-10-30 16:00:48 matplotlib.font_manager DEBUG    findfont: score(FontEntry(fname='/usr/share/fonts/truetype/unfonts-core/UnPilgi.ttf', name='UnPilgi', style='normal', variant='normal', weight=400, stretch='normal', size='scalable')) = 10.05\n",
      "2025-10-30 16:00:48 matplotlib.font_manager DEBUG    findfont: score(FontEntry(fname='/usr/share/fonts/truetype/msttcorefonts/comic.ttf', name='Comic Sans MS', style='normal', variant='normal', weight=400, stretch='normal', size='scalable')) = 10.05\n",
      "2025-10-30 16:00:48 matplotlib.font_manager DEBUG    findfont: score(FontEntry(fname='/usr/share/fonts/truetype/msttcorefonts/Courier_New.ttf', name='Courier New', style='normal', variant='normal', weight=400, stretch='normal', size='scalable')) = 10.05\n",
      "2025-10-30 16:00:48 matplotlib.font_manager DEBUG    findfont: score(FontEntry(fname='/usr/share/fonts/truetype/abyssinica/AbyssinicaSIL-Regular.ttf', name='Abyssinica SIL', style='normal', variant='normal', weight=400, stretch='normal', size='scalable')) = 10.05\n",
      "2025-10-30 16:00:48 matplotlib.font_manager DEBUG    findfont: score(FontEntry(fname='/usr/share/fonts/truetype/roboto/unhinted/RobotoCondensed-MediumItalic.ttf', name='Roboto Condensed', style='italic', variant='normal', weight=500, stretch='condensed', size='scalable')) = 11.344999999999999\n",
      "2025-10-30 16:00:48 matplotlib.font_manager DEBUG    findfont: score(FontEntry(fname='/usr/share/fonts/truetype/gentium/Gentium-R.ttf', name='Gentium', style='normal', variant='normal', weight=400, stretch='normal', size='scalable')) = 10.05\n",
      "2025-10-30 16:00:48 matplotlib.font_manager DEBUG    findfont: score(FontEntry(fname='/usr/share/fonts/truetype/ubuntu/UbuntuMono-R.ttf', name='Ubuntu Mono', style='normal', variant='normal', weight=400, stretch='normal', size='scalable')) = 10.05\n",
      "2025-10-30 16:00:48 matplotlib.font_manager DEBUG    findfont: score(FontEntry(fname='/usr/share/fonts/truetype/msttcorefonts/Webdings.ttf', name='Webdings', style='normal', variant='normal', weight=400, stretch='normal', size='scalable')) = 10.05\n",
      "2025-10-30 16:00:48 matplotlib.font_manager DEBUG    findfont: score(FontEntry(fname='/usr/share/fonts/truetype/kacst-one/KacstOne.ttf', name='KacstOne', style='normal', variant='normal', weight=400, stretch='normal', size='scalable')) = 10.05\n",
      "2025-10-30 16:00:48 matplotlib.font_manager DEBUG    findfont: score(FontEntry(fname='/usr/share/fonts/truetype/msttcorefonts/courbi.ttf', name='Courier New', style='italic', variant='normal', weight=700, stretch='normal', size='scalable')) = 11.335\n",
      "2025-10-30 16:00:48 matplotlib.font_manager DEBUG    findfont: score(FontEntry(fname='/usr/share/fonts/opentype/stix/STIXSizeTwoSym-Regular.otf', name='STIXSizeTwoSym', style='normal', variant='normal', weight=400, stretch='normal', size='scalable')) = 10.05\n",
      "2025-10-30 16:00:48 matplotlib.font_manager DEBUG    findfont: score(FontEntry(fname='/usr/share/fonts/truetype/noto/NotoMono-Regular.ttf', name='Noto Mono', style='normal', variant='normal', weight=400, stretch='normal', size='scalable')) = 10.05\n",
      "2025-10-30 16:00:48 matplotlib.font_manager DEBUG    findfont: score(FontEntry(fname='/usr/share/fonts/truetype/noto/NotoSerifBengali-Bold.ttf', name='Noto Serif Bengali', style='normal', variant='normal', weight=700, stretch='normal', size='scalable')) = 10.335\n",
      "2025-10-30 16:00:48 matplotlib.font_manager DEBUG    findfont: score(FontEntry(fname='/usr/share/fonts/truetype/roboto/unhinted/RobotoCondensed-LightItalic.ttf', name='Roboto Condensed', style='italic', variant='normal', weight=300, stretch='condensed', size='scalable')) = 11.344999999999999\n",
      "2025-10-30 16:00:48 matplotlib.font_manager DEBUG    findfont: score(FontEntry(fname='/usr/share/fonts/truetype/padauk/PadaukBook-Bold.ttf', name='Padauk Book', style='normal', variant='normal', weight=700, stretch='normal', size='scalable')) = 10.335\n",
      "2025-10-30 16:00:48 matplotlib.font_manager DEBUG    findfont: score(FontEntry(fname='/usr/share/fonts/opentype/ebgaramond/EBGaramondSC08-Regular.otf', name='EB Garamond SC', style='normal', variant='normal', weight=400, stretch='normal', size='scalable')) = 10.05\n",
      "2025-10-30 16:00:48 matplotlib.font_manager DEBUG    findfont: score(FontEntry(fname='/usr/share/fonts/opentype/stix/STIXNonUnicode-Regular.otf', name='STIXNonUnicode', style='normal', variant='normal', weight=400, stretch='normal', size='scalable')) = 10.05\n",
      "2025-10-30 16:00:48 matplotlib.font_manager DEBUG    findfont: score(FontEntry(fname='/usr/share/fonts/truetype/freefont/FreeSerifItalic.ttf', name='FreeSerif', style='italic', variant='normal', weight=400, stretch='normal', size='scalable')) = 11.05\n",
      "2025-10-30 16:00:48 matplotlib.font_manager DEBUG    findfont: score(FontEntry(fname='/usr/share/fonts/opentype/freefont/FreeSerifBold.otf', name='FreeSerif', style='normal', variant='normal', weight=700, stretch='normal', size='scalable')) = 10.335\n",
      "2025-10-30 16:00:48 matplotlib.font_manager DEBUG    findfont: score(FontEntry(fname='/usr/share/fonts/truetype/liberation/LiberationSansNarrow-Regular.ttf', name='Liberation Sans Narrow', style='normal', variant='normal', weight=400, stretch='condensed', size='scalable')) = 10.25\n",
      "2025-10-30 16:00:48 matplotlib.font_manager DEBUG    findfont: score(FontEntry(fname='/usr/share/fonts/truetype/fonts-gujr-extra/aakar-medium.ttf', name='aakar', style='normal', variant='normal', weight=500, stretch='normal', size='scalable')) = 10.145\n",
      "2025-10-30 16:00:48 matplotlib.font_manager DEBUG    findfont: score(FontEntry(fname='/usr/share/fonts/fonts-go/Go-Medium.ttf', name='Go Medium', style='normal', variant='normal', weight=500, stretch='normal', size='scalable')) = 10.145\n",
      "2025-10-30 16:00:48 matplotlib.font_manager DEBUG    findfont: score(FontEntry(fname='/usr/share/fonts/truetype/unfonts-extra/UnVada.ttf', name='UnVada', style='normal', variant='normal', weight=400, stretch='normal', size='scalable')) = 10.05\n",
      "2025-10-30 16:00:48 matplotlib.font_manager DEBUG    findfont: score(FontEntry(fname='/usr/share/fonts/truetype/adf/GilliusADF-BoldCondItalic.otf', name='Gillius ADF', style='italic', variant='normal', weight=700, stretch='condensed', size='scalable')) = 11.535\n",
      "2025-10-30 16:00:48 matplotlib.font_manager DEBUG    findfont: score(FontEntry(fname='/usr/share/fonts/opentype/stix/STIXSizeThreeSym-Regular.otf', name='STIXSizeThreeSym', style='normal', variant='normal', weight=400, stretch='normal', size='scalable')) = 10.05\n",
      "2025-10-30 16:00:48 matplotlib.font_manager DEBUG    findfont: score(FontEntry(fname='/usr/share/fonts/opentype/fonts-hosny-amiri/Amiri-Slanted.ttf', name='Amiri', style='italic', variant='normal', weight=400, stretch='normal', size='scalable')) = 11.05\n",
      "2025-10-30 16:00:48 matplotlib.font_manager DEBUG    findfont: score(FontEntry(fname='/usr/share/fonts/opentype/tlwg/Garuda-Oblique.otf', name='Garuda', style='oblique', variant='normal', weight=400, stretch='normal', size='scalable')) = 11.05\n",
      "2025-10-30 16:00:48 matplotlib.font_manager DEBUG    findfont: score(FontEntry(fname='/usr/share/fonts/truetype/adf/UniversalisADFStd-CondItalic.otf', name='Universalis ADF Std', style='italic', variant='normal', weight=400, stretch='condensed', size='scalable')) = 11.25\n",
      "2025-10-30 16:00:48 matplotlib.font_manager DEBUG    findfont: score(FontEntry(fname='/usr/share/fonts/truetype/adf/AccanthisADFStd-Bold.otf', name='Accanthis ADF Std', style='normal', variant='normal', weight=700, stretch='normal', size='scalable')) = 10.335\n",
      "2025-10-30 16:00:48 matplotlib.font_manager DEBUG    findfont: score(FontEntry(fname='/usr/share/fonts/truetype/noto/NotoSerifBengali-Regular.ttf', name='Noto Serif Bengali', style='normal', variant='normal', weight=400, stretch='normal', size='scalable')) = 10.05\n",
      "2025-10-30 16:00:48 matplotlib.font_manager DEBUG    findfont: score(FontEntry(fname='/usr/share/fonts/truetype/arphic/ukai.ttc', name='AR PL UKai CN', style='normal', variant='normal', weight=400, stretch='normal', size='scalable')) = 10.05\n",
      "2025-10-30 16:00:48 matplotlib.font_manager DEBUG    findfont: score(FontEntry(fname='/usr/share/fonts/truetype/ttf-bitstream-vera/VeraBd.ttf', name='Bitstream Vera Sans', style='normal', variant='normal', weight=700, stretch='normal', size='scalable')) = 1.2440909090909091\n",
      "2025-10-30 16:00:48 matplotlib.font_manager DEBUG    findfont: score(FontEntry(fname='/usr/share/fonts/truetype/noto/NotoSansTaiViet-Regular.ttf', name='Noto Sans Tai Viet', style='normal', variant='normal', weight=400, stretch='normal', size='scalable')) = 10.05\n",
      "2025-10-30 16:00:48 matplotlib.font_manager DEBUG    findfont: score(FontEntry(fname='/usr/share/fonts/truetype/unfonts-core/UnDotumBold.ttf', name='UnDotum', style='normal', variant='normal', weight=700, stretch='normal', size='scalable')) = 10.335\n",
      "2025-10-30 16:00:48 matplotlib.font_manager DEBUG    findfont: score(FontEntry(fname='/usr/share/fonts/truetype/unfonts-core/UnDinaruBold.ttf', name='UnDinaru', style='normal', variant='normal', weight=700, stretch='normal', size='scalable')) = 10.335\n",
      "2025-10-30 16:00:48 matplotlib.font_manager DEBUG    findfont: score(FontEntry(fname='/usr/share/fonts/truetype/dejavu/DejaVuSansCondensed-Bold.ttf', name='DejaVu Sans', style='normal', variant='normal', weight=700, stretch='condensed', size='scalable')) = 0.5349999999999999\n",
      "2025-10-30 16:00:48 matplotlib.font_manager DEBUG    findfont: score(FontEntry(fname='/usr/share/fonts/truetype/tlwg/Waree-Oblique.ttf', name='Waree', style='oblique', variant='normal', weight=400, stretch='normal', size='scalable')) = 11.05\n",
      "2025-10-30 16:00:48 matplotlib.font_manager DEBUG    findfont: score(FontEntry(fname='/usr/share/fonts/truetype/open-sans/OpenSans-Bold.ttf', name='Open Sans', style='normal', variant='normal', weight=700, stretch='normal', size='scalable')) = 10.335\n",
      "2025-10-30 16:00:48 matplotlib.font_manager DEBUG    findfont: score(FontEntry(fname='/usr/share/fonts/truetype/gentium-basic/GenBasI.ttf', name='Gentium Basic', style='italic', variant='normal', weight=400, stretch='normal', size='scalable')) = 11.05\n",
      "2025-10-30 16:00:48 matplotlib.font_manager DEBUG    findfont: score(FontEntry(fname='/usr/share/fonts/truetype/fonts-deva-extra/chandas1-2.ttf', name='Chandas', style='normal', variant='normal', weight=400, stretch='normal', size='scalable')) = 10.05\n",
      "2025-10-30 16:00:48 matplotlib.font_manager DEBUG    findfont: score(FontEntry(fname='/usr/share/fonts/truetype/noto/NotoSansSiddham-Regular.ttf', name='Noto Sans Siddham', style='normal', variant='normal', weight=400, stretch='normal', size='scalable')) = 10.05\n",
      "2025-10-30 16:00:48 matplotlib.font_manager DEBUG    findfont: score(FontEntry(fname='/usr/share/fonts/truetype/tlwg/Kinnari-BoldItalic.ttf', name='Kinnari', style='italic', variant='normal', weight=700, stretch='normal', size='scalable')) = 11.335\n",
      "2025-10-30 16:00:48 matplotlib.font_manager DEBUG    findfont: score(FontEntry(fname='/usr/share/fonts/truetype/noto/NotoSansTakri-Regular.ttf', name='Noto Sans Takri', style='normal', variant='normal', weight=400, stretch='normal', size='scalable')) = 10.05\n",
      "2025-10-30 16:00:48 matplotlib.font_manager DEBUG    findfont: score(FontEntry(fname='/usr/share/fonts/truetype/noto/NotoSansDeseret-Regular.ttf', name='Noto Sans Deseret', style='normal', variant='normal', weight=400, stretch='normal', size='scalable')) = 10.05\n",
      "2025-10-30 16:00:48 matplotlib.font_manager DEBUG    findfont: score(FontEntry(fname='/usr/share/fonts/truetype/msttcorefonts/Verdana.ttf', name='Verdana', style='normal', variant='normal', weight=400, stretch='normal', size='scalable')) = 3.6863636363636365\n",
      "2025-10-30 16:00:48 matplotlib.font_manager DEBUG    findfont: score(FontEntry(fname='/usr/share/fonts/opentype/malayalam/Chilanka-Regular.otf', name='Chilanka', style='normal', variant='normal', weight=400, stretch='normal', size='scalable')) = 10.05\n",
      "2025-10-30 16:00:48 matplotlib.font_manager DEBUG    findfont: score(FontEntry(fname='/usr/share/fonts/truetype/malayalam/Suruma.ttf', name='Suruma', style='normal', variant='normal', weight=500, stretch='normal', size='scalable')) = 10.145\n",
      "2025-10-30 16:00:48 matplotlib.font_manager DEBUG    findfont: score(FontEntry(fname='/usr/share/fonts/truetype/gentium/GentiumAlt-I.ttf', name='GentiumAlt', style='italic', variant='normal', weight=400, stretch='normal', size='scalable')) = 11.05\n",
      "2025-10-30 16:00:48 matplotlib.font_manager DEBUG    findfont: score(FontEntry(fname='/usr/share/fonts/truetype/noto/NotoSans-Regular.ttf', name='Noto Sans', style='normal', variant='normal', weight=400, stretch='normal', size='scalable')) = 10.05\n",
      "2025-10-30 16:00:48 matplotlib.font_manager DEBUG    findfont: score(FontEntry(fname='/usr/share/fonts/truetype/open-sans/OpenSans-Regular.ttf', name='Open Sans', style='normal', variant='normal', weight=400, stretch='normal', size='scalable')) = 10.05\n",
      "2025-10-30 16:00:48 matplotlib.font_manager DEBUG    findfont: score(FontEntry(fname='/usr/share/fonts/truetype/noto/NotoSansNewa-Regular.ttf', name='Noto Sans Newa', style='normal', variant='normal', weight=400, stretch='normal', size='scalable')) = 10.05\n",
      "2025-10-30 16:00:48 matplotlib.font_manager DEBUG    findfont: score(FontEntry(fname='/usr/share/fonts/truetype/dejavu/DejaVuSerif-Italic.ttf', name='DejaVu Serif', style='italic', variant='normal', weight=400, stretch='normal', size='scalable')) = 11.05\n",
      "2025-10-30 16:00:48 matplotlib.font_manager DEBUG    findfont: score(FontEntry(fname='/usr/share/fonts/truetype/unfonts-core/UnGraphicBold.ttf', name='UnGraphic', style='normal', variant='normal', weight=700, stretch='normal', size='scalable')) = 10.335\n",
      "2025-10-30 16:00:48 matplotlib.font_manager DEBUG    findfont: score(FontEntry(fname='/usr/share/fonts/truetype/liberation2/LiberationSans-Regular.ttf', name='Liberation Sans', style='normal', variant='normal', weight=400, stretch='normal', size='scalable')) = 10.05\n",
      "2025-10-30 16:00:48 matplotlib.font_manager DEBUG    findfont: score(FontEntry(fname='/usr/share/fonts/truetype/unfonts-extra/UnJamoNovel.ttf', name='UnJamoNovel', style='normal', variant='normal', weight=400, stretch='normal', size='scalable')) = 10.05\n",
      "2025-10-30 16:00:48 matplotlib.font_manager DEBUG    findfont: score(FontEntry(fname='/usr/share/fonts/truetype/ubuntu/Ubuntu-R.ttf', name='Ubuntu', style='normal', variant='normal', weight=400, stretch='normal', size='scalable')) = 10.05\n",
      "2025-10-30 16:00:48 matplotlib.font_manager DEBUG    findfont: score(FontEntry(fname='/usr/share/fonts/truetype/noto/NotoSerifTelugu-Regular.ttf', name='Noto Serif Telugu', style='normal', variant='normal', weight=400, stretch='normal', size='scalable')) = 10.05\n",
      "2025-10-30 16:00:48 matplotlib.font_manager DEBUG    findfont: score(FontEntry(fname='/usr/share/fonts/opentype/urw-base35/C059-BdIta.otf', name='C059', style='italic', variant='normal', weight=700, stretch='normal', size='scalable')) = 11.335\n",
      "2025-10-30 16:00:48 matplotlib.font_manager DEBUG    findfont: score(FontEntry(fname='/usr/share/fonts/truetype/gentium/GentiumAlt-R.ttf', name='GentiumAlt', style='normal', variant='normal', weight=400, stretch='normal', size='scalable')) = 10.05\n",
      "2025-10-30 16:00:48 matplotlib.font_manager DEBUG    findfont: score(FontEntry(fname='/usr/share/fonts/truetype/noto/NotoSansSaurashtra-Regular.ttf', name='Noto Sans Saurashtra', style='normal', variant='normal', weight=400, stretch='normal', size='scalable')) = 10.05\n",
      "2025-10-30 16:00:48 matplotlib.font_manager DEBUG    findfont: score(FontEntry(fname='/usr/share/fonts/truetype/noto/NotoSansMath-Regular.ttf', name='Noto Sans Math', style='normal', variant='normal', weight=400, stretch='normal', size='scalable')) = 10.05\n",
      "2025-10-30 16:00:48 matplotlib.font_manager DEBUG    findfont: score(FontEntry(fname='/usr/share/fonts/truetype/tlwg/Waree-Bold.ttf', name='Waree', style='normal', variant='normal', weight=700, stretch='normal', size='scalable')) = 10.335\n",
      "2025-10-30 16:00:48 matplotlib.font_manager DEBUG    findfont: score(FontEntry(fname='/usr/share/fonts/opentype/tlwg/Umpush.otf', name='Umpush', style='normal', variant='normal', weight=400, stretch='normal', size='scalable')) = 10.05\n",
      "2025-10-30 16:00:48 matplotlib.font_manager DEBUG    findfont: score(FontEntry(fname='/usr/share/fonts/truetype/fonts-yrsa-rasa/Rasa-Regular.ttf', name='Rasa', style='normal', variant='normal', weight=400, stretch='normal', size='scalable')) = 10.05\n",
      "2025-10-30 16:00:48 matplotlib.font_manager DEBUG    findfont: score(FontEntry(fname='/usr/share/fonts/opentype/tlwg/Loma.otf', name='Loma', style='normal', variant='normal', weight=400, stretch='normal', size='scalable')) = 10.05\n",
      "2025-10-30 16:00:48 matplotlib.font_manager DEBUG    findfont: score(FontEntry(fname='/usr/share/fonts/truetype/liberation2/LiberationMono-Regular.ttf', name='Liberation Mono', style='normal', variant='normal', weight=400, stretch='normal', size='scalable')) = 10.05\n",
      "2025-10-30 16:00:48 matplotlib.font_manager DEBUG    findfont: score(FontEntry(fname='/usr/share/fonts/truetype/tlwg/Norasi-BoldOblique.ttf', name='Norasi', style='oblique', variant='normal', weight=700, stretch='normal', size='scalable')) = 11.335\n",
      "2025-10-30 16:00:48 matplotlib.font_manager DEBUG    findfont: score(FontEntry(fname='/usr/share/fonts/truetype/porson/GFSPorson.otf', name='GFS Porson', style='normal', variant='normal', weight=400, stretch='normal', size='scalable')) = 10.05\n",
      "2025-10-30 16:00:48 matplotlib.font_manager DEBUG    findfont: score(FontEntry(fname='/usr/share/fonts/truetype/noto/NotoSansCarian-Regular.ttf', name='Noto Sans Carian', style='normal', variant='normal', weight=400, stretch='normal', size='scalable')) = 10.05\n",
      "2025-10-30 16:00:48 matplotlib.font_manager DEBUG    findfont: score(FontEntry(fname='/usr/share/fonts/opentype/cabin/Cabin-SemiBoldItalic.otf', name='Cabin', style='italic', variant='normal', weight=600, stretch='normal', size='scalable')) = 11.24\n",
      "2025-10-30 16:00:48 matplotlib.font_manager DEBUG    findfont: score(FontEntry(fname='/usr/share/fonts/truetype/noto/NotoSansKaithi-Regular.ttf', name='Noto Sans Kaithi', style='normal', variant='normal', weight=400, stretch='normal', size='scalable')) = 10.05\n",
      "2025-10-30 16:00:48 matplotlib.font_manager DEBUG    findfont: score(FontEntry(fname='/usr/share/fonts/opentype/tlwg/Norasi-Bold.otf', name='Norasi', style='normal', variant='normal', weight=700, stretch='normal', size='scalable')) = 10.335\n",
      "2025-10-30 16:00:48 matplotlib.font_manager DEBUG    findfont: score(FontEntry(fname='/usr/share/fonts/opentype/urw-base35/NimbusSans-Bold.otf', name='Nimbus Sans', style='normal', variant='normal', weight=700, stretch='normal', size='scalable')) = 10.335\n",
      "2025-10-30 16:00:48 matplotlib.font_manager DEBUG    findfont: score(FontEntry(fname='/usr/share/fonts/truetype/junicode/Junicode-BoldItalic.ttf', name='Junicode', style='italic', variant='normal', weight=600, stretch='normal', size='scalable')) = 11.24\n",
      "2025-10-30 16:00:48 matplotlib.font_manager DEBUG    findfont: score(FontEntry(fname='/usr/share/fonts/opentype/tlwg/Kinnari-BoldItalic.otf', name='Kinnari', style='italic', variant='normal', weight=700, stretch='normal', size='scalable')) = 11.335\n",
      "2025-10-30 16:00:48 matplotlib.font_manager DEBUG    findfont: score(FontEntry(fname='/usr/share/fonts/truetype/ubuntu/UbuntuMono-BI.ttf', name='Ubuntu Mono', style='italic', variant='normal', weight=700, stretch='normal', size='scalable')) = 11.335\n",
      "2025-10-30 16:00:48 matplotlib.font_manager DEBUG    findfont: score(FontEntry(fname='/usr/share/fonts/truetype/lato/Lato-Light.ttf', name='Lato', style='normal', variant='normal', weight=300, stretch='normal', size='scalable')) = 10.145\n",
      "2025-10-30 16:00:48 matplotlib.font_manager DEBUG    findfont: score(FontEntry(fname='/usr/share/fonts/opentype/urw-base35/NimbusRoman-Bold.otf', name='Nimbus Roman', style='normal', variant='normal', weight=700, stretch='normal', size='scalable')) = 10.335\n",
      "2025-10-30 16:00:48 matplotlib.font_manager DEBUG    findfont: score(FontEntry(fname='/usr/share/fonts/truetype/unfonts-extra/UnPenheulim.ttf', name='UnPenheulim', style='normal', variant='normal', weight=400, stretch='normal', size='scalable')) = 10.05\n",
      "2025-10-30 16:00:48 matplotlib.font_manager DEBUG    findfont: score(FontEntry(fname='/usr/share/fonts/truetype/unfonts-extra/UnPen.ttf', name='UnPen', style='normal', variant='normal', weight=400, stretch='normal', size='scalable')) = 10.05\n",
      "2025-10-30 16:00:48 matplotlib.font_manager DEBUG    findfont: score(FontEntry(fname='/usr/share/fonts/opentype/cabin/Cabin-Bold.otf', name='Cabin', style='normal', variant='normal', weight=700, stretch='normal', size='scalable')) = 10.335\n",
      "2025-10-30 16:00:48 matplotlib.font_manager DEBUG    findfont: score(FontEntry(fname='/usr/share/fonts/truetype/croscore/Tinos-BoldItalic.ttf', name='Tinos', style='italic', variant='normal', weight=700, stretch='normal', size='scalable')) = 11.335\n",
      "2025-10-30 16:00:48 matplotlib.font_manager DEBUG    findfont: score(FontEntry(fname='/usr/share/fonts/truetype/unfonts-extra/UnJamoDotum.ttf', name='UnJamoDotum', style='normal', variant='normal', weight=400, stretch='normal', size='scalable')) = 10.05\n",
      "2025-10-30 16:00:48 matplotlib.font_manager DEBUG    findfont: score(FontEntry(fname='/usr/share/fonts/truetype/msttcorefonts/arialbd.ttf', name='Arial', style='normal', variant='normal', weight=700, stretch='normal', size='scalable')) = 6.698636363636363\n",
      "2025-10-30 16:00:48 matplotlib.font_manager DEBUG    findfont: score(FontEntry(fname='/usr/share/fonts/truetype/msttcorefonts/Verdana_Italic.ttf', name='Verdana', style='italic', variant='normal', weight=400, stretch='normal', size='scalable')) = 4.6863636363636365\n",
      "2025-10-30 16:00:48 matplotlib.font_manager DEBUG    findfont: score(FontEntry(fname='/usr/share/fonts/truetype/lato/Lato-HairlineItalic.ttf', name='Lato', style='italic', variant='normal', weight=100, stretch='normal', size='scalable')) = 11.335\n",
      "2025-10-30 16:00:48 matplotlib.font_manager DEBUG    findfont: score(FontEntry(fname='/usr/share/fonts/truetype/noto/NotoSansCherokee-Regular.ttf', name='Noto Sans Cherokee', style='normal', variant='normal', weight=400, stretch='normal', size='scalable')) = 10.05\n",
      "2025-10-30 16:00:48 matplotlib.font_manager DEBUG    findfont: score(FontEntry(fname='/usr/share/fonts/truetype/liberation/LiberationSans-Bold.ttf', name='Liberation Sans', style='normal', variant='normal', weight=700, stretch='normal', size='scalable')) = 10.335\n",
      "2025-10-30 16:00:48 matplotlib.font_manager DEBUG    findfont: score(FontEntry(fname='/usr/share/fonts/truetype/noto/NotoSansDevanagari-Bold.ttf', name='Noto Sans Devanagari', style='normal', variant='normal', weight=700, stretch='normal', size='scalable')) = 10.335\n",
      "2025-10-30 16:00:48 matplotlib.font_manager DEBUG    findfont: score(FontEntry(fname='/usr/share/fonts/truetype/liberation/LiberationSerif-Regular.ttf', name='Liberation Serif', style='normal', variant='normal', weight=400, stretch='normal', size='scalable')) = 10.05\n",
      "2025-10-30 16:00:48 matplotlib.font_manager DEBUG    findfont: score(FontEntry(fname='/usr/share/fonts/truetype/noto/NotoSansGlagolitic-Regular.ttf', name='Noto Sans Glagolitic', style='normal', variant='normal', weight=400, stretch='normal', size='scalable')) = 10.05\n",
      "2025-10-30 16:00:48 matplotlib.font_manager DEBUG    findfont: score(FontEntry(fname='/usr/share/fonts/truetype/noto/NotoSansOldHungarian-Regular.ttf', name='Noto Sans Old Hungarian', style='normal', variant='normal', weight=400, stretch='normal', size='scalable')) = 10.05\n",
      "2025-10-30 16:00:48 matplotlib.font_manager DEBUG    findfont: score(FontEntry(fname='/usr/share/fonts/truetype/didot/GFSDidotBold.otf', name='GFS Didot', style='normal', variant='normal', weight=700, stretch='normal', size='scalable')) = 10.335\n",
      "2025-10-30 16:00:48 matplotlib.font_manager DEBUG    findfont: score(FontEntry(fname='/usr/share/fonts/truetype/ubuntu/Ubuntu-LI.ttf', name='Ubuntu', style='italic', variant='normal', weight=300, stretch='normal', size='scalable')) = 11.145\n",
      "2025-10-30 16:00:48 matplotlib.font_manager DEBUG    findfont: score(FontEntry(fname='/usr/share/fonts/truetype/adf/AccanthisADFStdNo3-Bold.otf', name='Accanthis ADF Std No3', style='normal', variant='normal', weight=700, stretch='normal', size='scalable')) = 10.335\n",
      "2025-10-30 16:00:48 matplotlib.font_manager DEBUG    findfont: score(FontEntry(fname='/usr/share/fonts/opentype/tlwg/Loma-Bold.otf', name='Loma', style='normal', variant='normal', weight=700, stretch='normal', size='scalable')) = 10.335\n",
      "2025-10-30 16:00:48 matplotlib.font_manager DEBUG    findfont: score(FontEntry(fname='/usr/share/fonts/truetype/fonts-japanese-gothic.ttf', name='IPAexGothic', style='normal', variant='normal', weight=400, stretch='normal', size='scalable')) = 10.05\n",
      "2025-10-30 16:00:48 matplotlib.font_manager DEBUG    findfont: score(FontEntry(fname='/usr/share/fonts/truetype/noto/NotoSerif-BoldItalic.ttf', name='Noto Serif', style='italic', variant='normal', weight=700, stretch='normal', size='scalable')) = 11.335\n",
      "2025-10-30 16:00:48 matplotlib.font_manager DEBUG    findfont: score(FontEntry(fname='/usr/share/fonts/truetype/adf/AccanthisADFStdNo2-BoldItalic.otf', name='Accanthis ADF Std No2', style='italic', variant='normal', weight=700, stretch='normal', size='scalable')) = 11.335\n",
      "2025-10-30 16:00:48 matplotlib.font_manager DEBUG    findfont: score(FontEntry(fname='/usr/share/fonts/truetype/noto/NotoSerifLao-Regular.ttf', name='Noto Serif Lao', style='normal', variant='normal', weight=400, stretch='normal', size='scalable')) = 10.05\n",
      "2025-10-30 16:00:48 matplotlib.font_manager DEBUG    findfont: score(FontEntry(fname='/usr/share/fonts/truetype/msttcorefonts/georgiab.ttf', name='Georgia', style='normal', variant='normal', weight=700, stretch='normal', size='scalable')) = 10.335\n",
      "2025-10-30 16:00:48 matplotlib.font_manager DEBUG    findfont: score(FontEntry(fname='/usr/share/fonts/truetype/msttcorefonts/trebucbd.ttf', name='Trebuchet MS', style='normal', variant='normal', weight=700, stretch='normal', size='scalable')) = 10.335\n",
      "2025-10-30 16:00:48 matplotlib.font_manager DEBUG    findfont: score(FontEntry(fname='/usr/share/fonts/opentype/freefont/FreeSerifBoldItalic.otf', name='FreeSerif', style='italic', variant='normal', weight=700, stretch='normal', size='scalable')) = 11.335\n",
      "2025-10-30 16:00:48 matplotlib.font_manager DEBUG    findfont: score(FontEntry(fname='/usr/share/fonts/truetype/noto/NotoSansSinhala-Regular.ttf', name='Noto Sans Sinhala', style='normal', variant='normal', weight=400, stretch='normal', size='scalable')) = 10.05\n",
      "2025-10-30 16:00:48 matplotlib.font_manager DEBUG    findfont: score(FontEntry(fname='/usr/share/fonts/opentype/tlwg/TlwgTypewriter-BoldOblique.otf', name='Tlwg Typewriter', style='oblique', variant='normal', weight=700, stretch='normal', size='scalable')) = 11.335\n",
      "2025-10-30 16:00:48 matplotlib.font_manager DEBUG    findfont: score(FontEntry(fname='/usr/share/fonts/opentype/tlwg/Norasi.otf', name='Norasi', style='normal', variant='normal', weight=400, stretch='normal', size='scalable')) = 10.05\n",
      "2025-10-30 16:00:48 matplotlib.font_manager DEBUG    findfont: score(FontEntry(fname='/usr/share/fonts/opentype/ebgaramond/EBGaramond-InitialsF1.otf', name='EB Garamond Initials Fill1', style='normal', variant='normal', weight=400, stretch='normal', size='scalable')) = 10.05\n",
      "2025-10-30 16:00:48 matplotlib.font_manager DEBUG    findfont: score(FontEntry(fname='/usr/share/fonts/truetype/ttf-bitstream-vera/VeraMoBd.ttf', name='Bitstream Vera Sans Mono', style='normal', variant='normal', weight=700, stretch='normal', size='scalable')) = 10.335\n",
      "2025-10-30 16:00:48 matplotlib.font_manager DEBUG    findfont: score(FontEntry(fname='/usr/share/fonts/truetype/lohit-telugu/Lohit-Telugu.ttf', name='Lohit Telugu', style='normal', variant='normal', weight=400, stretch='normal', size='scalable')) = 10.05\n",
      "2025-10-30 16:00:48 matplotlib.font_manager DEBUG    findfont: score(FontEntry(fname='/usr/share/fonts/truetype/artemisia/GFSArtemisiaBold.otf', name='GFS Artemisia', style='normal', variant='normal', weight=700, stretch='normal', size='scalable')) = 10.335\n",
      "2025-10-30 16:00:48 matplotlib.font_manager DEBUG    findfont: score(FontEntry(fname='/usr/share/fonts/truetype/tlwg/Laksaman-BoldItalic.ttf', name='Laksaman', style='italic', variant='normal', weight=700, stretch='normal', size='scalable')) = 11.335\n",
      "2025-10-30 16:00:48 matplotlib.font_manager DEBUG    findfont: score(FontEntry(fname='/usr/share/fonts/truetype/adf/GilliusADFNo2-Cond.otf', name='Gillius ADF No2', style='normal', variant='normal', weight=400, stretch='condensed', size='scalable')) = 10.25\n",
      "2025-10-30 16:00:48 matplotlib.font_manager DEBUG    findfont: score(FontEntry(fname='/usr/share/fonts/truetype/noto/NotoSansNewTaiLue-Regular.ttf', name='Noto Sans New Tai Lue', style='normal', variant='normal', weight=400, stretch='normal', size='scalable')) = 10.05\n",
      "2025-10-30 16:00:48 matplotlib.font_manager DEBUG    findfont: score(FontEntry(fname='/usr/share/fonts/opentype/ebgaramond/EBGaramond08-Regular.otf', name='EB Garamond', style='normal', variant='normal', weight=400, stretch='normal', size='scalable')) = 10.05\n",
      "2025-10-30 16:00:48 matplotlib.font_manager DEBUG    findfont: score(FontEntry(fname='/usr/share/fonts/truetype/adf/GilliusADFNo2-Italic.otf', name='Gillius ADF No2', style='italic', variant='normal', weight=400, stretch='normal', size='scalable')) = 11.05\n",
      "2025-10-30 16:00:48 matplotlib.font_manager DEBUG    findfont: score(FontEntry(fname='/usr/share/fonts/truetype/ubuntu/Ubuntu-B.ttf', name='Ubuntu', style='normal', variant='normal', weight=700, stretch='normal', size='scalable')) = 10.335\n",
      "2025-10-30 16:00:48 matplotlib.font_manager DEBUG    findfont: score(FontEntry(fname='/usr/share/fonts/truetype/noto/NotoMusic-Regular.ttf', name='Noto Music', style='normal', variant='normal', weight=400, stretch='normal', size='scalable')) = 10.05\n",
      "2025-10-30 16:00:48 matplotlib.font_manager DEBUG    findfont: score(FontEntry(fname='/usr/share/fonts/truetype/bodoni-classic/GFSBodoniClassic.otf', name='GFS BodoniClassic', style='normal', variant='normal', weight=400, stretch='normal', size='scalable')) = 10.05\n",
      "2025-10-30 16:00:48 matplotlib.font_manager DEBUG    findfont: score(FontEntry(fname='/usr/share/fonts/opentype/fonts-hosny-amiri/Amiri-Regular.ttf', name='Amiri', style='normal', variant='normal', weight=400, stretch='normal', size='scalable')) = 10.05\n",
      "2025-10-30 16:00:48 matplotlib.font_manager DEBUG    findfont: score(FontEntry(fname='/usr/share/fonts/truetype/unfonts-core/UnPilgiBold.ttf', name='UnPilgi', style='normal', variant='normal', weight=700, stretch='normal', size='scalable')) = 10.335\n",
      "2025-10-30 16:00:48 matplotlib.font_manager DEBUG    findfont: score(FontEntry(fname='/usr/share/fonts/opentype/cabin/Cabin-Regular.otf', name='Cabin', style='normal', variant='normal', weight=400, stretch='normal', size='scalable')) = 10.05\n",
      "2025-10-30 16:00:48 matplotlib.font_manager DEBUG    findfont: score(FontEntry(fname='/usr/share/fonts/truetype/noto/NotoNastaliqUrdu-Regular.ttf', name='Noto Nastaliq Urdu', style='normal', variant='normal', weight=400, stretch='normal', size='scalable')) = 10.05\n",
      "2025-10-30 16:00:48 matplotlib.font_manager DEBUG    findfont: score(FontEntry(fname='/usr/share/fonts/truetype/roboto/unhinted/RobotoTTF/Roboto-Light.ttf', name='Roboto', style='normal', variant='normal', weight=300, stretch='normal', size='scalable')) = 10.145\n",
      "2025-10-30 16:00:48 matplotlib.font_manager DEBUG    findfont: score(FontEntry(fname='/usr/share/fonts/truetype/ttf-bitstream-vera/VeraSe.ttf', name='Bitstream Vera Serif', style='normal', variant='normal', weight=400, stretch='normal', size='scalable')) = 10.05\n",
      "2025-10-30 16:00:48 matplotlib.font_manager DEBUG    findfont: score(FontEntry(fname='/usr/share/fonts/truetype/noto/NotoSansMalayalam-Regular.ttf', name='Noto Sans Malayalam', style='normal', variant='normal', weight=400, stretch='normal', size='scalable')) = 10.05\n",
      "2025-10-30 16:00:48 matplotlib.font_manager DEBUG    findfont: score(FontEntry(fname='/usr/share/fonts/truetype/adf/UniversalisADFStd-BoldCondIt.otf', name='Universalis ADF Std', style='italic', variant='normal', weight=700, stretch='condensed', size='scalable')) = 11.535\n",
      "2025-10-30 16:00:48 matplotlib.font_manager DEBUG    findfont: score(FontEntry(fname='/usr/share/fonts/truetype/crosextra/Carlito-Italic.ttf', name='Carlito', style='italic', variant='normal', weight=400, stretch='normal', size='scalable')) = 11.05\n",
      "2025-10-30 16:00:48 matplotlib.font_manager DEBUG    findfont: score(FontEntry(fname='/usr/share/fonts/opentype/fonts-hosny-amiri/AmiriQuranColored.ttf', name='Amiri Quran Colored', style='normal', variant='normal', weight=400, stretch='normal', size='scalable')) = 10.05\n",
      "2025-10-30 16:00:48 matplotlib.font_manager DEBUG    findfont: score(FontEntry(fname='/usr/share/fonts/opentype/noto/NotoSerifCJK-Regular.ttc', name='Noto Serif CJK JP', style='normal', variant='normal', weight=400, stretch='normal', size='scalable')) = 10.05\n",
      "2025-10-30 16:00:48 matplotlib.font_manager DEBUG    findfont: score(FontEntry(fname='/usr/share/fonts/truetype/kacst/KacstArt.ttf', name='KacstArt', style='normal', variant='normal', weight=500, stretch='normal', size='scalable')) = 10.145\n",
      "2025-10-30 16:00:48 matplotlib.font_manager DEBUG    findfont: score(FontEntry(fname='/usr/share/fonts/truetype/noto/NotoSansOriya-Regular.ttf', name='Noto Sans Oriya', style='normal', variant='normal', weight=400, stretch='normal', size='scalable')) = 10.05\n",
      "2025-10-30 16:00:48 matplotlib.font_manager DEBUG    findfont: score(FontEntry(fname='/usr/share/fonts/truetype/lato/Lato-MediumItalic.ttf', name='Lato', style='italic', variant='normal', weight=500, stretch='normal', size='scalable')) = 11.145\n",
      "2025-10-30 16:00:48 matplotlib.font_manager DEBUG    findfont: score(FontEntry(fname='/usr/share/fonts/truetype/open-sans/OpenSans-CondLightItalic.ttf', name='Open Sans', style='italic', variant='normal', weight=300, stretch='condensed', size='scalable')) = 11.344999999999999\n",
      "2025-10-30 16:00:48 matplotlib.font_manager DEBUG    findfont: score(FontEntry(fname='/usr/share/fonts/truetype/liberation/LiberationSerif-Italic.ttf', name='Liberation Serif', style='italic', variant='normal', weight=400, stretch='normal', size='scalable')) = 11.05\n",
      "2025-10-30 16:00:48 matplotlib.font_manager DEBUG    findfont: score(FontEntry(fname='/usr/share/fonts/opentype/tlwg/Sawasdee.otf', name='Sawasdee', style='normal', variant='normal', weight=400, stretch='normal', size='scalable')) = 10.05\n",
      "2025-10-30 16:00:48 matplotlib.font_manager DEBUG    findfont: score(FontEntry(fname='/usr/share/fonts/opentype/tlwg/Umpush-Light.otf', name='Umpush', style='normal', variant='normal', weight=300, stretch='normal', size='scalable')) = 10.145\n",
      "2025-10-30 16:00:48 matplotlib.font_manager DEBUG    findfont: score(FontEntry(fname='/usr/share/fonts/truetype/msttcorefonts/Trebuchet_MS_Italic.ttf', name='Trebuchet MS', style='italic', variant='normal', weight=400, stretch='normal', size='scalable')) = 11.05\n",
      "2025-10-30 16:00:48 matplotlib.font_manager DEBUG    findfont: score(FontEntry(fname='/usr/share/fonts/truetype/noto/NotoSansModi-Regular.ttf', name='Noto Sans Modi', style='normal', variant='normal', weight=400, stretch='normal', size='scalable')) = 10.05\n",
      "2025-10-30 16:00:48 matplotlib.font_manager DEBUG    findfont: score(FontEntry(fname='/usr/share/fonts/truetype/neohellenic/GFSNeohellenicBold.otf', name='GFS Neohellenic', style='normal', variant='normal', weight=700, stretch='normal', size='scalable')) = 10.335\n",
      "2025-10-30 16:00:48 matplotlib.font_manager DEBUG    findfont: score(FontEntry(fname='/usr/share/fonts/truetype/msttcorefonts/verdanab.ttf', name='Verdana', style='normal', variant='normal', weight=700, stretch='normal', size='scalable')) = 3.9713636363636367\n",
      "2025-10-30 16:00:48 matplotlib.font_manager DEBUG    findfont: score(FontEntry(fname='/usr/share/fonts/truetype/kacst/KacstDigital.ttf', name='KacstDigital', style='normal', variant='normal', weight=500, stretch='normal', size='scalable')) = 10.145\n",
      "2025-10-30 16:00:48 matplotlib.font_manager DEBUG    findfont: score(FontEntry(fname='/usr/share/fonts/truetype/ebgaramond/EBGaramond12-Italic.ttf', name='EB Garamond', style='italic', variant='normal', weight=400, stretch='normal', size='scalable')) = 11.05\n",
      "2025-10-30 16:00:48 matplotlib.font_manager DEBUG    findfont: score(FontEntry(fname='/usr/share/fonts/truetype/lato/Lato-Semibold.ttf', name='Lato', style='normal', variant='normal', weight=600, stretch='normal', size='scalable')) = 10.24\n",
      "2025-10-30 16:00:48 matplotlib.font_manager DEBUG    findfont: score(FontEntry(fname='/usr/share/fonts/truetype/msttcorefonts/couri.ttf', name='Courier New', style='italic', variant='normal', weight=400, stretch='normal', size='scalable')) = 11.05\n",
      "2025-10-30 16:00:48 matplotlib.font_manager DEBUG    findfont: score(FontEntry(fname='/usr/share/fonts/truetype/tlwg/Waree-BoldOblique.ttf', name='Waree', style='oblique', variant='normal', weight=700, stretch='normal', size='scalable')) = 11.335\n",
      "2025-10-30 16:00:48 matplotlib.font_manager DEBUG    findfont: score(FontEntry(fname='/usr/share/fonts/truetype/roboto/unhinted/RobotoCondensed-Light.ttf', name='Roboto Condensed', style='normal', variant='normal', weight=300, stretch='condensed', size='scalable')) = 10.344999999999999\n",
      "2025-10-30 16:00:48 matplotlib.font_manager DEBUG    findfont: score(FontEntry(fname='/usr/share/fonts/truetype/noto/NotoSansImperialAramaic-Regular.ttf', name='Noto Sans Imperial Aramaic', style='normal', variant='normal', weight=400, stretch='normal', size='scalable')) = 10.05\n",
      "2025-10-30 16:00:48 matplotlib.font_manager DEBUG    findfont: score(FontEntry(fname='/usr/share/fonts/truetype/noto/NotoSansRunic-Regular.ttf', name='Noto Sans Runic', style='normal', variant='normal', weight=400, stretch='normal', size='scalable')) = 10.05\n",
      "2025-10-30 16:00:48 matplotlib.font_manager DEBUG    findfont: score(FontEntry(fname='/usr/share/fonts/truetype/noto/NotoSansMiao-Regular.ttf', name='Noto Sans Miao', style='normal', variant='normal', weight=400, stretch='normal', size='scalable')) = 10.05\n",
      "2025-10-30 16:00:48 matplotlib.font_manager DEBUG    findfont: score(FontEntry(fname='/usr/share/fonts/truetype/lato/Lato-Black.ttf', name='Lato', style='normal', variant='normal', weight=900, stretch='normal', size='scalable')) = 10.525\n",
      "2025-10-30 16:00:48 matplotlib.font_manager DEBUG    findfont: score(FontEntry(fname='/usr/share/fonts/truetype/adf/UniversalisADFStd-Italic.otf', name='Universalis ADF Std', style='italic', variant='normal', weight=400, stretch='normal', size='scalable')) = 11.05\n",
      "2025-10-30 16:00:48 matplotlib.font_manager DEBUG    findfont: score(FontEntry(fname='/usr/share/fonts/truetype/noto/NotoSansKannada-Regular.ttf', name='Noto Sans Kannada', style='normal', variant='normal', weight=400, stretch='normal', size='scalable')) = 10.05\n",
      "2025-10-30 16:00:48 matplotlib.font_manager DEBUG    findfont: score(FontEntry(fname='/usr/share/fonts/truetype/dejavu/DejaVuSansMono.ttf', name='DejaVu Sans Mono', style='normal', variant='normal', weight=400, stretch='normal', size='scalable')) = 10.05\n",
      "2025-10-30 16:00:48 matplotlib.font_manager DEBUG    findfont: score(FontEntry(fname='/usr/share/fonts/truetype/tlwg/Kinnari-BoldOblique.ttf', name='Kinnari', style='oblique', variant='normal', weight=700, stretch='normal', size='scalable')) = 11.335\n",
      "2025-10-30 16:00:48 matplotlib.font_manager DEBUG    findfont: score(FontEntry(fname='/usr/share/fonts/truetype/arphic-gbsn00lp/gbsn00lp.ttf', name='AR PL SungtiL GB', style='normal', variant='normal', weight=400, stretch='normal', size='scalable')) = 10.05\n",
      "2025-10-30 16:00:48 matplotlib.font_manager DEBUG    findfont: score(FontEntry(fname='/usr/share/fonts/opentype/tlwg/Norasi-Oblique.otf', name='Norasi', style='oblique', variant='normal', weight=400, stretch='normal', size='scalable')) = 11.05\n",
      "2025-10-30 16:00:48 matplotlib.font_manager DEBUG    findfont: score(FontEntry(fname='/usr/share/fonts/truetype/noto/NotoSerifArmenian-Regular.ttf', name='Noto Serif Armenian', style='normal', variant='normal', weight=400, stretch='normal', size='scalable')) = 10.05\n",
      "2025-10-30 16:00:48 matplotlib.font_manager DEBUG    findfont: score(FontEntry(fname='/usr/share/fonts/opentype/noto/NotoSansCJK-Bold.ttc', name='Noto Sans CJK JP', style='normal', variant='normal', weight=700, stretch='normal', size='scalable')) = 10.335\n",
      "2025-10-30 16:00:48 matplotlib.font_manager DEBUG    findfont: score(FontEntry(fname='/usr/share/fonts/truetype/noto/NotoSansBatak-Regular.ttf', name='Noto Sans Batak', style='normal', variant='normal', weight=400, stretch='normal', size='scalable')) = 10.05\n",
      "2025-10-30 16:00:48 matplotlib.font_manager DEBUG    findfont: score(FontEntry(fname='/usr/share/fonts/truetype/gazis/GFSGazis.otf', name='GFS Gazis', style='normal', variant='normal', weight=400, stretch='normal', size='scalable')) = 10.05\n",
      "2025-10-30 16:00:48 matplotlib.font_manager DEBUG    findfont: score(FontEntry(fname='/usr/share/fonts/truetype/noto/NotoSansEgyptianHieroglyphs-Regular.ttf', name='Noto Sans Egyptian Hieroglyphs', style='normal', variant='normal', weight=400, stretch='normal', size='scalable')) = 10.05\n",
      "2025-10-30 16:00:48 matplotlib.font_manager DEBUG    findfont: score(FontEntry(fname='/usr/share/fonts/truetype/noto/NotoSansMro-Regular.ttf', name='Noto Sans Mro', style='normal', variant='normal', weight=400, stretch='normal', size='scalable')) = 10.05\n",
      "2025-10-30 16:00:48 matplotlib.font_manager DEBUG    findfont: score(FontEntry(fname='/usr/share/fonts/truetype/croscore/Arimo-BoldItalic.ttf', name='Arimo', style='italic', variant='normal', weight=700, stretch='normal', size='scalable')) = 11.335\n",
      "2025-10-30 16:00:48 matplotlib.font_manager DEBUG    findfont: score(FontEntry(fname='/usr/share/fonts/truetype/fonts-yrsa-rasa/Yrsa-Medium.ttf', name='Yrsa', style='normal', variant='normal', weight=500, stretch='normal', size='scalable')) = 10.145\n",
      "2025-10-30 16:00:48 matplotlib.font_manager DEBUG    findfont: score(FontEntry(fname='/usr/share/fonts/truetype/noto/NotoSansSharada-Regular.ttf', name='Noto Sans Sharada', style='normal', variant='normal', weight=400, stretch='normal', size='scalable')) = 10.05\n",
      "2025-10-30 16:00:48 matplotlib.font_manager DEBUG    findfont: score(FontEntry(fname='/usr/share/fonts/truetype/noto/NotoSansOriya-Bold.ttf', name='Noto Sans Oriya', style='normal', variant='normal', weight=700, stretch='normal', size='scalable')) = 10.335\n",
      "2025-10-30 16:00:48 matplotlib.font_manager DEBUG    findfont: score(FontEntry(fname='/usr/share/fonts/truetype/noto/NotoSerifTelugu-Bold.ttf', name='Noto Serif Telugu', style='normal', variant='normal', weight=700, stretch='normal', size='scalable')) = 10.335\n",
      "2025-10-30 16:00:48 matplotlib.font_manager DEBUG    findfont: score(FontEntry(fname='/usr/share/fonts/truetype/croscore/Tinos-Italic.ttf', name='Tinos', style='italic', variant='normal', weight=400, stretch='normal', size='scalable')) = 11.05\n",
      "2025-10-30 16:00:48 matplotlib.font_manager DEBUG    findfont: score(FontEntry(fname='/usr/share/fonts/truetype/tlwg/TlwgMono-Oblique.ttf', name='Tlwg Mono', style='oblique', variant='normal', weight=400, stretch='normal', size='scalable')) = 11.05\n",
      "2025-10-30 16:00:48 matplotlib.font_manager DEBUG    findfont: score(FontEntry(fname='/usr/share/fonts/truetype/noto/NotoNastaliqUrdu-Bold.ttf', name='Noto Nastaliq Urdu', style='normal', variant='normal', weight=400, stretch='normal', size='scalable')) = 10.05\n",
      "2025-10-30 16:00:48 matplotlib.font_manager DEBUG    findfont: score(FontEntry(fname='/usr/share/fonts/fonts-go/Go-Medium-Italic.ttf', name='Go Medium', style='italic', variant='normal', weight=500, stretch='normal', size='scalable')) = 11.145\n",
      "2025-10-30 16:00:48 matplotlib.font_manager DEBUG    findfont: score(FontEntry(fname='/usr/share/fonts/opentype/malayalam/Manjari-Regular.otf', name='Manjari', style='normal', variant='normal', weight=400, stretch='normal', size='scalable')) = 10.05\n",
      "2025-10-30 16:00:48 matplotlib.font_manager DEBUG    findfont: score(FontEntry(fname='/usr/share/fonts/truetype/adf/GilliusADF-CondItalic.otf', name='Gillius ADF', style='italic', variant='normal', weight=400, stretch='condensed', size='scalable')) = 11.25\n",
      "2025-10-30 16:00:48 matplotlib.font_manager DEBUG    findfont: score(FontEntry(fname='/usr/share/fonts/opentype/tlwg/Waree-Oblique.otf', name='Waree', style='oblique', variant='normal', weight=400, stretch='normal', size='scalable')) = 11.05\n",
      "2025-10-30 16:00:48 matplotlib.font_manager DEBUG    findfont: score(FontEntry(fname='/usr/share/fonts/truetype/lyx/msbm10.ttf', name='msbm10', style='normal', variant='normal', weight=400, stretch='normal', size='scalable')) = 10.05\n",
      "2025-10-30 16:00:48 matplotlib.font_manager DEBUG    findfont: score(FontEntry(fname='/usr/share/fonts/opentype/urw-base35/NimbusSansNarrow-BoldOblique.otf', name='Nimbus Sans Narrow', style='oblique', variant='normal', weight=700, stretch='condensed', size='scalable')) = 11.535\n",
      "2025-10-30 16:00:48 matplotlib.font_manager DEBUG    findfont: score(FontEntry(fname='/usr/share/fonts/opentype/tlwg/TlwgTypo-Oblique.otf', name='Tlwg Typo', style='oblique', variant='normal', weight=400, stretch='normal', size='scalable')) = 11.05\n",
      "2025-10-30 16:00:48 matplotlib.font_manager DEBUG    findfont: score(FontEntry(fname='/usr/share/fonts/truetype/msttcorefonts/Times_New_Roman_Italic.ttf', name='Times New Roman', style='italic', variant='normal', weight=400, stretch='normal', size='scalable')) = 11.05\n",
      "2025-10-30 16:00:48 matplotlib.font_manager DEBUG    findfont: score(FontEntry(fname='/usr/share/fonts/opentype/malayalam/Gayathri-Thin.otf', name='Gayathri', style='normal', variant='normal', weight=100, stretch='normal', size='scalable')) = 10.335\n",
      "2025-10-30 16:00:48 matplotlib.font_manager DEBUG    findfont: score(FontEntry(fname='/usr/share/fonts/opentype/tlwg/Kinnari.otf', name='Kinnari', style='normal', variant='normal', weight=400, stretch='normal', size='scalable')) = 10.05\n",
      "2025-10-30 16:00:48 matplotlib.font_manager DEBUG    findfont: score(FontEntry(fname='/usr/share/fonts/truetype/msttcorefonts/Arial_Bold_Italic.ttf', name='Arial', style='italic', variant='normal', weight=700, stretch='normal', size='scalable')) = 7.698636363636363\n",
      "2025-10-30 16:00:48 matplotlib.font_manager DEBUG    findfont: score(FontEntry(fname='/usr/share/fonts/truetype/tlwg/Umpush-Bold.ttf', name='Umpush', style='normal', variant='normal', weight=700, stretch='normal', size='scalable')) = 10.335\n",
      "2025-10-30 16:00:48 matplotlib.font_manager DEBUG    findfont: score(FontEntry(fname='/usr/share/fonts/opentype/urw-base35/URWBookman-DemiItalic.otf', name='URW Bookman', style='italic', variant='normal', weight=600, stretch='normal', size='scalable')) = 11.24\n",
      "2025-10-30 16:00:48 matplotlib.font_manager DEBUG    findfont: score(FontEntry(fname='/usr/share/fonts/truetype/kacst/KacstBook.ttf', name='KacstBook', style='normal', variant='normal', weight=500, stretch='normal', size='scalable')) = 10.145\n",
      "2025-10-30 16:00:48 matplotlib.font_manager DEBUG    findfont: score(FontEntry(fname='/usr/share/fonts/opentype/linux-libertine/LinLibertine_RZI.otf', name='Linux Libertine O', style='italic', variant='normal', weight=600, stretch='normal', size='scalable')) = 11.24\n",
      "2025-10-30 16:00:48 matplotlib.font_manager DEBUG    findfont: score(FontEntry(fname='/usr/share/fonts/truetype/artemisia/GFSArtemisiaIt.otf', name='GFS Artemisia', style='italic', variant='normal', weight=400, stretch='normal', size='scalable')) = 11.05\n",
      "2025-10-30 16:00:48 matplotlib.font_manager DEBUG    findfont: score(FontEntry(fname='/usr/share/fonts/truetype/msttcorefonts/georgiai.ttf', name='Georgia', style='italic', variant='normal', weight=400, stretch='normal', size='scalable')) = 11.05\n",
      "2025-10-30 16:00:48 matplotlib.font_manager DEBUG    findfont: score(FontEntry(fname='/usr/share/fonts/truetype/tlwg/Purisa-Bold.ttf', name='Purisa', style='normal', variant='normal', weight=700, stretch='normal', size='scalable')) = 10.335\n",
      "2025-10-30 16:00:48 matplotlib.font_manager DEBUG    findfont: score(FontEntry(fname='/usr/share/fonts/truetype/noto/NotoSansPauCinHau-Regular.ttf', name='Noto Sans Pau Cin Hau', style='normal', variant='normal', weight=400, stretch='normal', size='scalable')) = 10.05\n",
      "2025-10-30 16:00:48 matplotlib.font_manager DEBUG    findfont: score(FontEntry(fname='/usr/share/fonts/truetype/ttf-bitstream-vera/VeraMono.ttf', name='Bitstream Vera Sans Mono', style='normal', variant='normal', weight=400, stretch='normal', size='scalable')) = 10.05\n",
      "2025-10-30 16:00:48 matplotlib.font_manager DEBUG    findfont: score(FontEntry(fname='/usr/share/fonts/truetype/noto/NotoSerifMalayalam-Regular.ttf', name='Noto Serif Malayalam', style='normal', variant='normal', weight=400, stretch='normal', size='scalable')) = 10.05\n",
      "2025-10-30 16:00:48 matplotlib.font_manager DEBUG    findfont: score(FontEntry(fname='/usr/share/fonts/opentype/cabin/Cabin-MediumItalic.otf', name='Cabin', style='italic', variant='normal', weight=500, stretch='normal', size='scalable')) = 11.145\n",
      "2025-10-30 16:00:48 matplotlib.font_manager DEBUG    findfont: score(FontEntry(fname='/usr/share/fonts/truetype/kacst/KacstLetter.ttf', name='KacstLetter', style='normal', variant='normal', weight=500, stretch='normal', size='scalable')) = 10.145\n",
      "2025-10-30 16:00:48 matplotlib.font_manager DEBUG    findfont: score(FontEntry(fname='/usr/share/fonts/truetype/tlwg/Loma-Bold.ttf', name='Loma', style='normal', variant='normal', weight=700, stretch='normal', size='scalable')) = 10.335\n",
      "2025-10-30 16:00:48 matplotlib.font_manager DEBUG    findfont: score(FontEntry(fname='/usr/share/fonts/opentype/cabin/Cabin-Medium.otf', name='Cabin', style='normal', variant='normal', weight=500, stretch='normal', size='scalable')) = 10.145\n",
      "2025-10-30 16:00:48 matplotlib.font_manager DEBUG    findfont: score(FontEntry(fname='/usr/share/fonts/truetype/noto/NotoSerif-Regular.ttf', name='Noto Serif', style='normal', variant='normal', weight=400, stretch='normal', size='scalable')) = 10.05\n",
      "2025-10-30 16:00:48 matplotlib.font_manager DEBUG    findfont: score(FontEntry(fname='/usr/share/fonts/truetype/ubuntu/UbuntuMono-B.ttf', name='Ubuntu Mono', style='normal', variant='normal', weight=700, stretch='normal', size='scalable')) = 10.335\n",
      "2025-10-30 16:00:48 matplotlib.font_manager DEBUG    findfont: score(FontEntry(fname='/usr/share/fonts/truetype/lohit-assamese/Lohit-Assamese.ttf', name='Lohit Assamese', style='normal', variant='normal', weight=400, stretch='normal', size='scalable')) = 10.05\n",
      "2025-10-30 16:00:48 matplotlib.font_manager DEBUG    findfont: score(FontEntry(fname='/usr/share/fonts/truetype/msttcorefonts/Arial_Italic.ttf', name='Arial', style='italic', variant='normal', weight=400, stretch='normal', size='scalable')) = 7.413636363636363\n",
      "2025-10-30 16:00:48 matplotlib.font_manager DEBUG    findfont: score(FontEntry(fname='/usr/share/fonts/opentype/tlwg/Laksaman.otf', name='Laksaman', style='normal', variant='normal', weight=400, stretch='normal', size='scalable')) = 10.05\n",
      "2025-10-30 16:00:48 matplotlib.font_manager DEBUG    findfont: score(FontEntry(fname='/usr/share/fonts/truetype/liberation/LiberationSansNarrow-Italic.ttf', name='Liberation Sans Narrow', style='italic', variant='normal', weight=400, stretch='condensed', size='scalable')) = 11.25\n",
      "2025-10-30 16:00:48 matplotlib.font_manager DEBUG    findfont: score(FontEntry(fname='/usr/share/fonts/opentype/tlwg/Norasi-BoldItalic.otf', name='Norasi', style='italic', variant='normal', weight=700, stretch='normal', size='scalable')) = 11.335\n",
      "2025-10-30 16:00:48 matplotlib.font_manager DEBUG    findfont: score(FontEntry(fname='/usr/share/fonts/truetype/noto/NotoSansSymbols2-Regular.ttf', name='Noto Sans Symbols2', style='normal', variant='normal', weight=400, stretch='normal', size='scalable')) = 10.05\n",
      "2025-10-30 16:00:48 matplotlib.font_manager DEBUG    findfont: score(FontEntry(fname='/usr/share/fonts/truetype/adf/GilliusADF-BoldItalic.otf', name='Gillius ADF', style='italic', variant='normal', weight=700, stretch='normal', size='scalable')) = 11.335\n",
      "2025-10-30 16:00:48 matplotlib.font_manager DEBUG    findfont: score(FontEntry(fname='/usr/share/fonts/truetype/dejavu/DejaVuSerifCondensed.ttf', name='DejaVu Serif', style='normal', variant='normal', weight=400, stretch='condensed', size='scalable')) = 10.25\n",
      "2025-10-30 16:00:48 matplotlib.font_manager DEBUG    findfont: score(FontEntry(fname='/usr/share/fonts/truetype/fonts-beng-extra/MuktiNarrowBold.ttf', name='Mukti Narrow', style='normal', variant='normal', weight=700, stretch='normal', size='scalable')) = 10.335\n",
      "2025-10-30 16:00:48 matplotlib.font_manager DEBUG    findfont: score(FontEntry(fname='/usr/share/fonts/truetype/fonts-telu-extra/Pothana2000.ttf', name='Pothana2000', style='normal', variant='normal', weight=400, stretch='normal', size='scalable')) = 10.05\n",
      "2025-10-30 16:00:48 matplotlib.font_manager DEBUG    findfont: score(FontEntry(fname='/usr/share/fonts/truetype/malayalam/Rachana-Regular.ttf', name='Rachana', style='normal', variant='normal', weight=400, stretch='normal', size='scalable')) = 10.05\n",
      "2025-10-30 16:00:48 matplotlib.font_manager DEBUG    findfont: score(FontEntry(fname='/usr/share/fonts/truetype/open-sans/OpenSans-Light.ttf', name='Open Sans', style='normal', variant='normal', weight=300, stretch='normal', size='scalable')) = 10.145\n",
      "2025-10-30 16:00:48 matplotlib.font_manager DEBUG    findfont: score(FontEntry(fname='/usr/share/fonts/opentype/font-awesome/FontAwesome.otf', name='FontAwesome', style='normal', variant='normal', weight=400, stretch='normal', size='scalable')) = 10.05\n",
      "2025-10-30 16:00:48 matplotlib.font_manager DEBUG    findfont: score(FontEntry(fname='/usr/share/fonts/truetype/lohit-kannada/Lohit-Kannada.ttf', name='Lohit Kannada', style='normal', variant='normal', weight=400, stretch='normal', size='scalable')) = 10.05\n",
      "2025-10-30 16:00:48 matplotlib.font_manager DEBUG    findfont: score(FontEntry(fname='/usr/share/fonts/truetype/kacst/KacstTitleL.ttf', name='KacstTitleL', style='normal', variant='normal', weight=400, stretch='normal', size='scalable')) = 10.05\n",
      "2025-10-30 16:00:48 matplotlib.font_manager DEBUG    findfont: score(FontEntry(fname='/usr/share/fonts/truetype/noto/NotoSerifDisplay-Regular.ttf', name='Noto Serif Display', style='normal', variant='normal', weight=400, stretch='normal', size='scalable')) = 10.05\n",
      "2025-10-30 16:00:48 matplotlib.font_manager DEBUG    findfont: score(FontEntry(fname='/usr/share/fonts/truetype/adf/GilliusADFNo2-CondItalic.otf', name='Gillius ADF No2', style='italic', variant='normal', weight=400, stretch='condensed', size='scalable')) = 11.25\n",
      "2025-10-30 16:00:48 matplotlib.font_manager DEBUG    findfont: score(FontEntry(fname='/usr/share/fonts/truetype/noto/NotoSansMandaic-Regular.ttf', name='Noto Sans Mandaic', style='normal', variant='normal', weight=400, stretch='normal', size='scalable')) = 10.05\n",
      "2025-10-30 16:00:48 matplotlib.font_manager DEBUG    findfont: score(FontEntry(fname='/usr/share/fonts/truetype/freefont/FreeMonoBoldOblique.ttf', name='FreeMono', style='oblique', variant='normal', weight=700, stretch='normal', size='scalable')) = 11.335\n",
      "2025-10-30 16:00:48 matplotlib.font_manager DEBUG    findfont: score(FontEntry(fname='/usr/share/fonts/opentype/tlwg/TlwgTypewriter-Oblique.otf', name='Tlwg Typewriter', style='oblique', variant='normal', weight=400, stretch='normal', size='scalable')) = 11.05\n",
      "2025-10-30 16:00:48 matplotlib.font_manager DEBUG    findfont: score(FontEntry(fname='/usr/share/fonts/opentype/ipafont-mincho/ipamp.ttf', name='IPAPMincho', style='normal', variant='normal', weight=400, stretch='normal', size='scalable')) = 10.05\n",
      "2025-10-30 16:00:48 matplotlib.font_manager DEBUG    findfont: score(FontEntry(fname='/usr/share/fonts/truetype/tlwg/Purisa-Oblique.ttf', name='Purisa', style='oblique', variant='normal', weight=400, stretch='normal', size='scalable')) = 11.05\n",
      "2025-10-30 16:00:48 matplotlib.font_manager DEBUG    findfont: score(FontEntry(fname='/usr/share/fonts/truetype/noto/NotoSansKayahLi-Regular.ttf', name='Noto Sans Kayah Li', style='normal', variant='normal', weight=400, stretch='normal', size='scalable')) = 10.05\n",
      "2025-10-30 16:00:48 matplotlib.font_manager DEBUG    findfont: score(FontEntry(fname='/usr/share/fonts/truetype/noto/NotoSansCham-Regular.ttf', name='Noto Sans Cham', style='normal', variant='normal', weight=400, stretch='normal', size='scalable')) = 10.05\n",
      "2025-10-30 16:00:48 matplotlib.font_manager DEBUG    findfont: score(FontEntry(fname='/usr/share/fonts/truetype/malayalam/Dyuthi-Regular.ttf', name='Dyuthi', style='normal', variant='normal', weight=400, stretch='normal', size='scalable')) = 10.05\n",
      "2025-10-30 16:00:48 matplotlib.font_manager DEBUG    findfont: score(FontEntry(fname='/usr/share/fonts/truetype/noto/NotoSansSymbols-Regular.ttf', name='Noto Sans Symbols', style='normal', variant='normal', weight=400, stretch='normal', size='scalable')) = 10.05\n",
      "2025-10-30 16:00:48 matplotlib.font_manager DEBUG    findfont: score(FontEntry(fname='/usr/share/fonts/truetype/noto/NotoSansTirhuta-Regular.ttf', name='Noto Sans Tirhuta', style='normal', variant='normal', weight=400, stretch='normal', size='scalable')) = 10.05\n",
      "2025-10-30 16:00:48 matplotlib.font_manager DEBUG    findfont: score(FontEntry(fname='/usr/share/fonts/opentype/stix/STIXVariants-Regular.otf', name='STIXVariants', style='normal', variant='normal', weight=400, stretch='normal', size='scalable')) = 10.05\n",
      "2025-10-30 16:00:48 matplotlib.font_manager DEBUG    findfont: score(FontEntry(fname='/usr/share/fonts/truetype/ubuntu/Ubuntu-MI.ttf', name='Ubuntu', style='italic', variant='normal', weight=500, stretch='normal', size='scalable')) = 11.145\n",
      "2025-10-30 16:00:48 matplotlib.font_manager DEBUG    findfont: score(FontEntry(fname='/usr/share/fonts/truetype/roboto/unhinted/RobotoTTF/Roboto-MediumItalic.ttf', name='Roboto', style='italic', variant='normal', weight=500, stretch='normal', size='scalable')) = 11.145\n",
      "2025-10-30 16:00:48 matplotlib.font_manager DEBUG    findfont: score(FontEntry(fname='/usr/share/fonts/truetype/malayalam/Keraleeyam-Regular.ttf', name='Keraleeyam', style='normal', variant='normal', weight=400, stretch='normal', size='scalable')) = 10.05\n",
      "2025-10-30 16:00:48 matplotlib.font_manager DEBUG    findfont: score(FontEntry(fname='/usr/share/fonts/truetype/noto/NotoSansThaana-Bold.ttf', name='Noto Sans Thaana', style='normal', variant='normal', weight=700, stretch='normal', size='scalable')) = 10.335\n",
      "2025-10-30 16:00:48 matplotlib.font_manager DEBUG    findfont: score(FontEntry(fname='/usr/share/fonts/truetype/unfonts-core/UnGungseo.ttf', name='UnGungseo', style='normal', variant='normal', weight=400, stretch='normal', size='scalable')) = 10.05\n",
      "2025-10-30 16:00:48 matplotlib.font_manager DEBUG    findfont: score(FontEntry(fname='/usr/share/fonts/truetype/lyx/esint10.ttf', name='esint10', style='normal', variant='normal', weight=400, stretch='normal', size='scalable')) = 10.05\n",
      "2025-10-30 16:00:48 matplotlib.font_manager DEBUG    findfont: score(FontEntry(fname='/usr/share/fonts/opentype/ipaexfont-gothic/ipaexg.ttf', name='IPAexGothic', style='normal', variant='normal', weight=400, stretch='normal', size='scalable')) = 10.05\n",
      "2025-10-30 16:00:48 matplotlib.font_manager DEBUG    findfont: score(FontEntry(fname='/usr/share/fonts/truetype/fonts-yrsa-rasa/Yrsa-Bold.ttf', name='Yrsa', style='normal', variant='normal', weight=700, stretch='normal', size='scalable')) = 10.335\n",
      "2025-10-30 16:00:48 matplotlib.font_manager DEBUG    findfont: score(FontEntry(fname='/usr/share/fonts/truetype/liberation/LiberationMono-Italic.ttf', name='Liberation Mono', style='italic', variant='normal', weight=400, stretch='normal', size='scalable')) = 11.05\n",
      "2025-10-30 16:00:48 matplotlib.font_manager DEBUG    findfont: score(FontEntry(fname='/usr/share/fonts/truetype/noto/NotoSerifEthiopic-Regular.ttf', name='Noto Serif Ethiopic', style='normal', variant='normal', weight=400, stretch='normal', size='scalable')) = 10.05\n",
      "2025-10-30 16:00:48 matplotlib.font_manager DEBUG    findfont: score(FontEntry(fname='/usr/share/fonts/truetype/msttcorefonts/Georgia_Bold_Italic.ttf', name='Georgia', style='italic', variant='normal', weight=700, stretch='normal', size='scalable')) = 11.335\n",
      "2025-10-30 16:00:48 matplotlib.font_manager DEBUG    findfont: score(FontEntry(fname='/usr/share/fonts/opentype/tlwg/Laksaman-Bold.otf', name='Laksaman', style='normal', variant='normal', weight=700, stretch='normal', size='scalable')) = 10.335\n",
      "2025-10-30 16:00:48 matplotlib.font_manager DEBUG    findfont: score(FontEntry(fname='/usr/share/fonts/fonts-go/Go-Italic.ttf', name='Go', style='italic', variant='normal', weight=400, stretch='normal', size='scalable')) = 11.05\n",
      "2025-10-30 16:00:48 matplotlib.font_manager DEBUG    findfont: score(FontEntry(fname='/usr/share/fonts/truetype/tlwg/TlwgMono-Bold.ttf', name='Tlwg Mono', style='normal', variant='normal', weight=700, stretch='normal', size='scalable')) = 10.335\n",
      "2025-10-30 16:00:48 matplotlib.font_manager DEBUG    findfont: score(FontEntry(fname='/usr/share/fonts/truetype/msttcorefonts/Arial_Bold.ttf', name='Arial', style='normal', variant='normal', weight=700, stretch='normal', size='scalable')) = 6.698636363636363\n",
      "2025-10-30 16:00:48 matplotlib.font_manager DEBUG    findfont: score(FontEntry(fname='/usr/share/fonts/truetype/open-sans/OpenSans-BoldItalic.ttf', name='Open Sans', style='italic', variant='normal', weight=700, stretch='normal', size='scalable')) = 11.335\n",
      "2025-10-30 16:00:48 matplotlib.font_manager DEBUG    findfont: score(FontEntry(fname='/usr/share/fonts/truetype/malayalam/Meera-Regular.ttf', name='Meera', style='normal', variant='normal', weight=400, stretch='normal', size='scalable')) = 10.05\n",
      "2025-10-30 16:00:48 matplotlib.font_manager DEBUG    findfont: score(FontEntry(fname='/usr/share/fonts/truetype/tlwg/Norasi.ttf', name='Norasi', style='normal', variant='normal', weight=400, stretch='normal', size='scalable')) = 10.05\n",
      "2025-10-30 16:00:48 matplotlib.font_manager DEBUG    findfont: score(FontEntry(fname='/usr/share/fonts/truetype/lyx/cmex10.ttf', name='cmex10', style='normal', variant='normal', weight=400, stretch='normal', size='scalable')) = 10.05\n",
      "2025-10-30 16:00:48 matplotlib.font_manager DEBUG    findfont: score(FontEntry(fname='/usr/share/fonts/truetype/noto/NotoSansMarchen-Regular.ttf', name='Noto Sans Marchen', style='normal', variant='normal', weight=400, stretch='normal', size='scalable')) = 10.05\n",
      "2025-10-30 16:00:48 matplotlib.font_manager DEBUG    findfont: score(FontEntry(fname='/usr/share/fonts/truetype/noto/NotoSansWarangCiti-Regular.ttf', name='Noto Sans Warang Citi', style='normal', variant='normal', weight=400, stretch='normal', size='scalable')) = 10.05\n",
      "2025-10-30 16:00:48 matplotlib.font_manager DEBUG    findfont: score(FontEntry(fname='/usr/share/fonts/truetype/kacst/KacstPen.ttf', name='KacstPen', style='normal', variant='normal', weight=500, stretch='normal', size='scalable')) = 10.145\n",
      "2025-10-30 16:00:48 matplotlib.font_manager DEBUG    findfont: score(FontEntry(fname='/usr/share/fonts/fonts-go/Go-Mono-Italic.ttf', name='Go Mono', style='italic', variant='normal', weight=400, stretch='normal', size='scalable')) = 11.05\n",
      "2025-10-30 16:00:48 matplotlib.font_manager DEBUG    findfont: score(FontEntry(fname='/usr/share/fonts/truetype/ebgaramond/EBGaramond-Initials.ttf', name='EB Garamond Initials', style='normal', variant='normal', weight=400, stretch='normal', size='scalable')) = 10.05\n",
      "2025-10-30 16:00:48 matplotlib.font_manager DEBUG    findfont: score(FontEntry(fname='/usr/share/fonts/truetype/noto/NotoSansTelugu-Regular.ttf', name='Noto Sans Telugu', style='normal', variant='normal', weight=400, stretch='normal', size='scalable')) = 10.05\n",
      "2025-10-30 16:00:48 matplotlib.font_manager DEBUG    findfont: score(FontEntry(fname='/usr/share/fonts/truetype/noto/NotoSansGothic-Regular.ttf', name='Noto Sans Gothic', style='normal', variant='normal', weight=400, stretch='normal', size='scalable')) = 10.05\n",
      "2025-10-30 16:00:48 matplotlib.font_manager DEBUG    findfont: score(FontEntry(fname='/usr/share/fonts/truetype/fonts-gujr-extra/Rekha.ttf', name='Rekha', style='normal', variant='normal', weight=500, stretch='normal', size='scalable')) = 10.145\n",
      "2025-10-30 16:00:48 matplotlib.font_manager DEBUG    findfont: score(FontEntry(fname='/usr/share/fonts/truetype/tlwg/TlwgTypist-Bold.ttf', name='Tlwg Typist', style='normal', variant='normal', weight=700, stretch='normal', size='scalable')) = 10.335\n",
      "2025-10-30 16:00:48 matplotlib.font_manager DEBUG    findfont: score(FontEntry(fname='/usr/share/fonts/truetype/crosextra/Caladea-Italic.ttf', name='Caladea', style='italic', variant='normal', weight=400, stretch='normal', size='scalable')) = 11.05\n",
      "2025-10-30 16:00:48 matplotlib.font_manager DEBUG    findfont: score(FontEntry(fname='/usr/share/fonts/truetype/malayalam/AnjaliOldLipi-Regular.ttf', name='AnjaliOldLipi', style='normal', variant='normal', weight=400, stretch='normal', size='scalable')) = 10.05\n",
      "2025-10-30 16:00:48 matplotlib.font_manager DEBUG    findfont: score(FontEntry(fname='/usr/share/fonts/truetype/malayalam/Karumbi-Regular.ttf', name='Karumbi', style='normal', variant='normal', weight=400, stretch='normal', size='scalable')) = 10.05\n",
      "2025-10-30 16:00:48 matplotlib.font_manager DEBUG    findfont: score(FontEntry(fname='/usr/share/fonts/truetype/noto/NotoSansGeorgian-Regular.ttf', name='Noto Sans Georgian', style='normal', variant='normal', weight=400, stretch='normal', size='scalable')) = 10.05\n",
      "2025-10-30 16:00:48 matplotlib.font_manager DEBUG    findfont: score(FontEntry(fname='/usr/share/fonts/truetype/didot-classic/GFSDidotClassic.otf', name='GFS Didot Classic', style='normal', variant='normal', weight=400, stretch='normal', size='scalable')) = 10.05\n",
      "2025-10-30 16:00:48 matplotlib.font_manager DEBUG    findfont: score(FontEntry(fname='/usr/share/fonts/truetype/unfonts-extra/UnJamoBatang.ttf', name='UnJamoBatang', style='normal', variant='normal', weight=400, stretch='normal', size='scalable')) = 10.05\n",
      "2025-10-30 16:00:48 matplotlib.font_manager DEBUG    findfont: score(FontEntry(fname='/usr/share/fonts/opentype/tlwg/Norasi-Italic.otf', name='Norasi', style='italic', variant='normal', weight=400, stretch='normal', size='scalable')) = 11.05\n",
      "2025-10-30 16:00:48 matplotlib.font_manager DEBUG    findfont: score(FontEntry(fname='/usr/share/fonts/truetype/croscore/Tinos-Regular.ttf', name='Tinos', style='normal', variant='normal', weight=400, stretch='normal', size='scalable')) = 10.05\n",
      "2025-10-30 16:00:48 matplotlib.font_manager DEBUG    findfont: score(FontEntry(fname='/usr/share/fonts/truetype/noto/NotoSansTifinagh-Regular.ttf', name='Noto Sans Tifinagh', style='normal', variant='normal', weight=400, stretch='normal', size='scalable')) = 10.05\n",
      "2025-10-30 16:00:48 matplotlib.font_manager DEBUG    findfont: score(FontEntry(fname='/usr/share/fonts/truetype/noto/NotoSansOldTurkic-Regular.ttf', name='Noto Sans Old Turkic', style='normal', variant='normal', weight=400, stretch='normal', size='scalable')) = 10.05\n",
      "2025-10-30 16:00:48 matplotlib.font_manager DEBUG    findfont: score(FontEntry(fname='/usr/share/fonts/truetype/msttcorefonts/Impact.ttf', name='Impact', style='normal', variant='normal', weight=400, stretch='normal', size='scalable')) = 10.05\n",
      "2025-10-30 16:00:48 matplotlib.font_manager DEBUG    findfont: score(FontEntry(fname='/usr/share/fonts/truetype/noto/NotoKufiArabic-Regular.ttf', name='Noto Kufi Arabic', style='normal', variant='normal', weight=400, stretch='normal', size='scalable')) = 10.05\n",
      "2025-10-30 16:00:48 matplotlib.font_manager DEBUG    findfont: score(FontEntry(fname='/usr/share/fonts/opentype/stix/STIXGeneral-Regular.otf', name='STIXGeneral', style='normal', variant='normal', weight=400, stretch='normal', size='scalable')) = 10.05\n",
      "2025-10-30 16:00:48 matplotlib.font_manager DEBUG    findfont: score(FontEntry(fname='/usr/share/fonts/truetype/fonts-yrsa-rasa/Rasa-Bold.ttf', name='Rasa', style='normal', variant='normal', weight=700, stretch='normal', size='scalable')) = 10.335\n",
      "2025-10-30 16:00:48 matplotlib.font_manager DEBUG    findfont: score(FontEntry(fname='/usr/share/fonts/truetype/noto/NotoSerif-Bold.ttf', name='Noto Serif', style='normal', variant='normal', weight=700, stretch='normal', size='scalable')) = 10.335\n",
      "2025-10-30 16:00:48 matplotlib.font_manager DEBUG    findfont: score(FontEntry(fname='/usr/share/fonts/truetype/dejavu/DejaVuSerif-Bold.ttf', name='DejaVu Serif', style='normal', variant='normal', weight=700, stretch='normal', size='scalable')) = 10.335\n",
      "2025-10-30 16:00:48 matplotlib.font_manager DEBUG    findfont: score(FontEntry(fname='/usr/share/fonts/opentype/cantarell/Cantarell-ExtraBold.otf', name='Cantarell', style='normal', variant='normal', weight=800, stretch='normal', size='scalable')) = 10.43\n",
      "2025-10-30 16:00:48 matplotlib.font_manager DEBUG    findfont: score(FontEntry(fname='/usr/share/fonts/truetype/adf/GilliusADFNo2-BoldCond.otf', name='Gillius ADF No2', style='normal', variant='normal', weight=700, stretch='condensed', size='scalable')) = 10.535\n",
      "2025-10-30 16:00:48 matplotlib.font_manager DEBUG    findfont: score(FontEntry(fname='/usr/share/fonts/truetype/liberation2/LiberationSerif-Italic.ttf', name='Liberation Serif', style='italic', variant='normal', weight=400, stretch='normal', size='scalable')) = 11.05\n",
      "2025-10-30 16:00:48 matplotlib.font_manager DEBUG    findfont: score(FontEntry(fname='/usr/share/fonts/truetype/junicode/Junicode-Italic.ttf', name='Junicode', style='italic', variant='normal', weight=400, stretch='normal', size='scalable')) = 11.05\n",
      "2025-10-30 16:00:48 matplotlib.font_manager DEBUG    findfont: score(FontEntry(fname='/usr/share/fonts/opentype/urw-base35/NimbusSans-Regular.otf', name='Nimbus Sans', style='normal', variant='normal', weight=400, stretch='normal', size='scalable')) = 10.05\n",
      "2025-10-30 16:00:48 matplotlib.font_manager DEBUG    findfont: score(FontEntry(fname='/usr/share/fonts/opentype/stix/STIXNonUnicode-Italic.otf', name='STIXNonUnicode', style='italic', variant='normal', weight=400, stretch='normal', size='scalable')) = 11.05\n",
      "2025-10-30 16:00:48 matplotlib.font_manager DEBUG    findfont: score(FontEntry(fname='/usr/share/fonts/truetype/msttcorefonts/Verdana_Bold.ttf', name='Verdana', style='normal', variant='normal', weight=700, stretch='normal', size='scalable')) = 3.9713636363636367\n",
      "2025-10-30 16:00:48 matplotlib.font_manager DEBUG    findfont: score(FontEntry(fname='/usr/share/fonts/truetype/noto/NotoSansOldPersian-Regular.ttf', name='Noto Sans Old Persian', style='normal', variant='normal', weight=400, stretch='normal', size='scalable')) = 10.05\n",
      "2025-10-30 16:00:48 matplotlib.font_manager DEBUG    findfont: score(FontEntry(fname='/usr/share/fonts/opentype/linux-libertine/LinLibertine_R.otf', name='Linux Libertine O', style='normal', variant='normal', weight=400, stretch='normal', size='scalable')) = 10.05\n",
      "2025-10-30 16:00:48 matplotlib.font_manager DEBUG    findfont: score(FontEntry(fname='/usr/share/fonts/truetype/fonts-beng-extra/MuktiNarrow.ttf', name='Mukti Narrow', style='normal', variant='normal', weight=400, stretch='normal', size='scalable')) = 10.05\n",
      "2025-10-30 16:00:48 matplotlib.font_manager DEBUG    findfont: score(FontEntry(fname='/usr/share/fonts/truetype/noto/NotoSerifKhmer-Bold.ttf', name='Noto Serif Khmer', style='normal', variant='normal', weight=700, stretch='normal', size='scalable')) = 10.335\n",
      "2025-10-30 16:00:48 matplotlib.font_manager DEBUG    findfont: score(FontEntry(fname='/usr/share/fonts/truetype/openoffice/opens___.ttf', name='OpenSymbol', style='normal', variant='normal', weight=400, stretch='normal', size='scalable')) = 10.05\n",
      "2025-10-30 16:00:48 matplotlib.font_manager DEBUG    findfont: score(FontEntry(fname='/usr/share/fonts/truetype/noto/NotoSansGujarati-Regular.ttf', name='Noto Sans Gujarati', style='normal', variant='normal', weight=400, stretch='normal', size='scalable')) = 10.05\n",
      "2025-10-30 16:00:48 matplotlib.font_manager DEBUG    findfont: score(FontEntry(fname='/usr/share/fonts/truetype/ebgaramond/EBGaramond08-Regular.ttf', name='EB Garamond', style='normal', variant='normal', weight=400, stretch='normal', size='scalable')) = 10.05\n",
      "2025-10-30 16:00:48 matplotlib.font_manager DEBUG    findfont: score(FontEntry(fname='/usr/share/fonts/truetype/noto/NotoSansDevanagari-Regular.ttf', name='Noto Sans Devanagari', style='normal', variant='normal', weight=400, stretch='normal', size='scalable')) = 10.05\n",
      "2025-10-30 16:00:48 matplotlib.font_manager DEBUG    findfont: score(FontEntry(fname='/usr/share/fonts/truetype/tlwg/Sawasdee-Bold.ttf', name='Sawasdee', style='normal', variant='normal', weight=700, stretch='normal', size='scalable')) = 10.335\n",
      "2025-10-30 16:00:48 matplotlib.font_manager DEBUG    findfont: score(FontEntry(fname='/usr/share/fonts/truetype/ttf-bitstream-vera/VeraSeBd.ttf', name='Bitstream Vera Serif', style='normal', variant='normal', weight=700, stretch='normal', size='scalable')) = 10.335\n",
      "2025-10-30 16:00:48 matplotlib.font_manager DEBUG    findfont: score(FontEntry(fname='/usr/share/fonts/truetype/dejavu/DejaVuSansCondensed-Oblique.ttf', name='DejaVu Sans', style='oblique', variant='normal', weight=400, stretch='condensed', size='scalable')) = 1.25\n",
      "2025-10-30 16:00:48 matplotlib.font_manager DEBUG    findfont: score(FontEntry(fname='/usr/share/fonts/truetype/comfortaa/Comfortaa-Bold.ttf', name='Comfortaa', style='normal', variant='normal', weight=700, stretch='normal', size='scalable')) = 10.335\n",
      "2025-10-30 16:00:48 matplotlib.font_manager DEBUG    findfont: score(FontEntry(fname='/usr/share/fonts/truetype/noto/NotoSansGurmukhi-Regular.ttf', name='Noto Sans Gurmukhi', style='normal', variant='normal', weight=400, stretch='normal', size='scalable')) = 10.05\n",
      "2025-10-30 16:00:48 matplotlib.font_manager DEBUG    findfont: score(FontEntry(fname='/usr/share/fonts/truetype/noto/NotoSansCanadianAboriginal-Bold.ttf', name='Noto Sans Canadian Aboriginal', style='normal', variant='normal', weight=700, stretch='normal', size='scalable')) = 10.335\n",
      "2025-10-30 16:00:48 matplotlib.font_manager DEBUG    findfont: score(FontEntry(fname='/usr/share/fonts/opentype/tlwg/Loma-BoldOblique.otf', name='Loma', style='oblique', variant='normal', weight=700, stretch='normal', size='scalable')) = 11.335\n",
      "2025-10-30 16:00:48 matplotlib.font_manager DEBUG    findfont: score(FontEntry(fname='/usr/share/fonts/opentype/tlwg/TlwgTypist-Oblique.otf', name='Tlwg Typist', style='oblique', variant='normal', weight=400, stretch='normal', size='scalable')) = 11.05\n",
      "2025-10-30 16:00:48 matplotlib.font_manager DEBUG    findfont: score(FontEntry(fname='/usr/share/fonts/opentype/stix/STIXSizeFourSym-Bold.otf', name='STIXSizeFourSym', style='normal', variant='normal', weight=700, stretch='normal', size='scalable')) = 10.335\n",
      "2025-10-30 16:00:48 matplotlib.font_manager DEBUG    findfont: score(FontEntry(fname='/usr/share/fonts/truetype/fonts-beng-extra/ani.ttf', name='Ani', style='normal', variant='normal', weight=400, stretch='normal', size='scalable')) = 10.05\n",
      "2025-10-30 16:00:48 matplotlib.font_manager DEBUG    findfont: score(FontEntry(fname='/usr/share/fonts/opentype/linux-libertine/LinLibertine_M.otf', name='Linux Libertine Mono O', style='normal', variant='normal', weight=400, stretch='normal', size='scalable')) = 10.05\n",
      "2025-10-30 16:00:48 matplotlib.font_manager DEBUG    findfont: score(FontEntry(fname='/usr/share/fonts/opentype/stix/STIXSizeTwoSym-Bold.otf', name='STIXSizeTwoSym', style='normal', variant='normal', weight=700, stretch='normal', size='scalable')) = 10.335\n",
      "2025-10-30 16:00:48 matplotlib.font_manager DEBUG    findfont: score(FontEntry(fname='/usr/share/fonts/opentype/urw-base35/URWGothic-BookOblique.otf', name='URW Gothic', style='oblique', variant='normal', weight=400, stretch='normal', size='scalable')) = 11.05\n",
      "2025-10-30 16:00:48 matplotlib.font_manager DEBUG    findfont: score(FontEntry(fname='/usr/share/fonts/truetype/tlwg/Kinnari-Oblique.ttf', name='Kinnari', style='oblique', variant='normal', weight=400, stretch='normal', size='scalable')) = 11.05\n",
      "2025-10-30 16:00:48 matplotlib.font_manager DEBUG    findfont: score(FontEntry(fname='/usr/share/fonts/opentype/ebgaramond/EBGaramond-InitialsF2.otf', name='EB Garamond Initials Fill2', style='normal', variant='normal', weight=400, stretch='normal', size='scalable')) = 10.05\n",
      "2025-10-30 16:00:48 matplotlib.font_manager DEBUG    findfont: score(FontEntry(fname='/usr/share/fonts/truetype/adf/AccanthisADFStdNo3-Regular.otf', name='Accanthis ADF Std No3', style='normal', variant='normal', weight=400, stretch='normal', size='scalable')) = 10.05\n",
      "2025-10-30 16:00:48 matplotlib.font_manager DEBUG    findfont: score(FontEntry(fname='/usr/share/fonts/truetype/freefont/FreeSansBold.ttf', name='FreeSans', style='normal', variant='normal', weight=600, stretch='normal', size='scalable')) = 10.24\n",
      "2025-10-30 16:00:48 matplotlib.font_manager DEBUG    findfont: score(FontEntry(fname='/usr/share/fonts/truetype/padauk/Padauk-Regular.ttf', name='Padauk', style='normal', variant='normal', weight=400, stretch='normal', size='scalable')) = 10.05\n",
      "2025-10-30 16:00:48 matplotlib.font_manager DEBUG    findfont: score(FontEntry(fname='/usr/share/fonts/opentype/tlwg/Garuda.otf', name='Garuda', style='normal', variant='normal', weight=400, stretch='normal', size='scalable')) = 10.05\n",
      "2025-10-30 16:00:48 matplotlib.font_manager DEBUG    findfont: score(FontEntry(fname='/usr/share/fonts/truetype/neohellenic/GFSNeohellenic.otf', name='GFS Neohellenic', style='normal', variant='normal', weight=400, stretch='normal', size='scalable')) = 10.05\n",
      "2025-10-30 16:00:48 matplotlib.font_manager DEBUG    findfont: score(FontEntry(fname='/usr/share/fonts/truetype/msttcorefonts/comicbd.ttf', name='Comic Sans MS', style='normal', variant='normal', weight=700, stretch='normal', size='scalable')) = 10.335\n",
      "2025-10-30 16:00:48 matplotlib.font_manager DEBUG    findfont: score(FontEntry(fname='/usr/share/fonts/truetype/msttcorefonts/ariali.ttf', name='Arial', style='italic', variant='normal', weight=400, stretch='normal', size='scalable')) = 7.413636363636363\n",
      "2025-10-30 16:00:48 matplotlib.font_manager DEBUG    findfont: score(FontEntry(fname='/usr/share/fonts/truetype/didot/GFSDidotItalic.otf', name='GFS Didot', style='italic', variant='normal', weight=400, stretch='normal', size='scalable')) = 11.05\n",
      "2025-10-30 16:00:48 matplotlib.font_manager DEBUG    findfont: score(FontEntry(fname='/usr/share/fonts/truetype/neohellenic/GFSNeohellenicIt.otf', name='GFS Neohellenic', style='italic', variant='normal', weight=400, stretch='normal', size='scalable')) = 11.05\n",
      "2025-10-30 16:00:48 matplotlib.font_manager DEBUG    findfont: score(FontEntry(fname='/usr/share/fonts/truetype/gentium-basic/GenBasBI.ttf', name='Gentium Basic', style='italic', variant='normal', weight=700, stretch='normal', size='scalable')) = 11.335\n",
      "2025-10-30 16:00:48 matplotlib.font_manager DEBUG    findfont: score(FontEntry(fname='/usr/share/fonts/truetype/noto/NotoSansDisplay-Bold.ttf', name='Noto Sans Display', style='normal', variant='normal', weight=700, stretch='normal', size='scalable')) = 10.335\n",
      "2025-10-30 16:00:48 matplotlib.font_manager DEBUG    findfont: score(FontEntry(fname='/usr/share/fonts/truetype/dejavu/DejaVuSansMono-BoldOblique.ttf', name='DejaVu Sans Mono', style='oblique', variant='normal', weight=700, stretch='normal', size='scalable')) = 11.335\n",
      "2025-10-30 16:00:48 matplotlib.font_manager DEBUG    findfont: score(FontEntry(fname='/usr/share/fonts/truetype/msttcorefonts/Georgia_Italic.ttf', name='Georgia', style='italic', variant='normal', weight=400, stretch='normal', size='scalable')) = 11.05\n",
      "2025-10-30 16:00:48 matplotlib.font_manager DEBUG    findfont: score(FontEntry(fname='/usr/share/fonts/opentype/stix/STIXNonUnicode-Bold.otf', name='STIXNonUnicode', style='normal', variant='normal', weight=700, stretch='normal', size='scalable')) = 10.335\n",
      "2025-10-30 16:00:48 matplotlib.font_manager DEBUG    findfont: score(FontEntry(fname='/usr/share/fonts/truetype/noto/NotoSansMayanNumerals-Regular.ttf', name='Noto Sans Mayan Numerals', style='normal', variant='normal', weight=400, stretch='normal', size='scalable')) = 10.05\n",
      "2025-10-30 16:00:48 matplotlib.font_manager DEBUG    findfont: score(FontEntry(fname='/usr/share/fonts/opentype/urw-base35/NimbusRoman-BoldItalic.otf', name='Nimbus Roman', style='italic', variant='normal', weight=700, stretch='normal', size='scalable')) = 11.335\n",
      "2025-10-30 16:00:48 matplotlib.font_manager DEBUG    findfont: score(FontEntry(fname='/usr/share/fonts/truetype/noto/NotoSansLinearB-Regular.ttf', name='Noto Sans Linear B', style='normal', variant='normal', weight=400, stretch='normal', size='scalable')) = 10.05\n",
      "2025-10-30 16:00:48 matplotlib.font_manager DEBUG    findfont: score(FontEntry(fname='/usr/share/fonts/truetype/open-sans/OpenSans-Semibold.ttf', name='Open Sans', style='normal', variant='normal', weight=600, stretch='normal', size='scalable')) = 10.24\n",
      "2025-10-30 16:00:48 matplotlib.font_manager DEBUG    findfont: score(FontEntry(fname='/usr/share/fonts/truetype/noto/NotoSansDisplay-BoldItalic.ttf', name='Noto Sans Display', style='italic', variant='normal', weight=700, stretch='normal', size='scalable')) = 11.335\n",
      "2025-10-30 16:00:48 matplotlib.font_manager DEBUG    findfont: score(FontEntry(fname='/usr/share/fonts/truetype/adf/AccanthisADFStdNo2-Bold.otf', name='Accanthis ADF Std No2', style='normal', variant='normal', weight=700, stretch='normal', size='scalable')) = 10.335\n",
      "2025-10-30 16:00:48 matplotlib.font_manager DEBUG    findfont: score(FontEntry(fname='/usr/share/fonts/truetype/fonts-yrsa-rasa/Yrsa-SemiBold.ttf', name='Yrsa', style='normal', variant='normal', weight=600, stretch='normal', size='scalable')) = 10.24\n",
      "2025-10-30 16:00:48 matplotlib.font_manager DEBUG    findfont: score(FontEntry(fname='/usr/share/fonts/truetype/noto/NotoSansMono-Regular.ttf', name='Noto Sans Mono', style='normal', variant='normal', weight=400, stretch='normal', size='scalable')) = 10.05\n",
      "2025-10-30 16:00:48 matplotlib.font_manager DEBUG    findfont: score(FontEntry(fname='/usr/share/fonts/opentype/tlwg/TlwgTypist.otf', name='Tlwg Typist', style='normal', variant='normal', weight=400, stretch='normal', size='scalable')) = 10.05\n",
      "2025-10-30 16:00:48 matplotlib.font_manager DEBUG    findfont: score(FontEntry(fname='/usr/share/fonts/truetype/noto/NotoSerifMyanmar-Bold.ttf', name='Noto Serif Myanmar', style='normal', variant='normal', weight=700, stretch='normal', size='scalable')) = 10.335\n",
      "2025-10-30 16:00:48 matplotlib.font_manager DEBUG    findfont: score(FontEntry(fname='/usr/share/fonts/opentype/stix/STIXGeneral-Italic.otf', name='STIXGeneral', style='italic', variant='normal', weight=400, stretch='normal', size='scalable')) = 11.05\n",
      "2025-10-30 16:00:48 matplotlib.font_manager DEBUG    findfont: score(FontEntry(fname='/usr/share/fonts/truetype/neohellenic/GFSNeohellenicBoldIt.otf', name='GFS Neohellenic', style='italic', variant='normal', weight=700, stretch='normal', size='scalable')) = 11.335\n",
      "2025-10-30 16:00:48 matplotlib.font_manager DEBUG    findfont: score(FontEntry(fname='/usr/share/fonts/truetype/ubuntu/Ubuntu-BI.ttf', name='Ubuntu', style='italic', variant='normal', weight=700, stretch='normal', size='scalable')) = 11.335\n",
      "2025-10-30 16:00:48 matplotlib.font_manager DEBUG    findfont: score(FontEntry(fname='/usr/share/fonts/truetype/noto/NotoSansPahawhHmong-Regular.ttf', name='Noto Sans Pahawh Hmong', style='normal', variant='normal', weight=400, stretch='normal', size='scalable')) = 10.05\n",
      "2025-10-30 16:00:48 matplotlib.font_manager DEBUG    findfont: score(FontEntry(fname='/usr/share/fonts/truetype/croscore/Cousine-BoldItalic.ttf', name='Cousine', style='italic', variant='normal', weight=700, stretch='normal', size='scalable')) = 11.335\n",
      "2025-10-30 16:00:48 matplotlib.font_manager DEBUG    findfont: score(FontEntry(fname='/usr/share/fonts/opentype/stix/STIXIntegralsUp-Regular.otf', name='STIXIntegralsUp', style='normal', variant='normal', weight=400, stretch='normal', size='scalable')) = 10.05\n",
      "2025-10-30 16:00:48 matplotlib.font_manager DEBUG    findfont: score(FontEntry(fname='/usr/share/fonts/truetype/noto/NotoSerifEthiopic-Bold.ttf', name='Noto Serif Ethiopic', style='normal', variant='normal', weight=700, stretch='normal', size='scalable')) = 10.335\n",
      "2025-10-30 16:00:48 matplotlib.font_manager DEBUG    findfont: score(FontEntry(fname='/usr/share/fonts/opentype/tlwg/TlwgTypo.otf', name='Tlwg Typo', style='normal', variant='normal', weight=400, stretch='normal', size='scalable')) = 10.05\n",
      "2025-10-30 16:00:48 matplotlib.font_manager DEBUG    findfont: score(FontEntry(fname='/usr/share/fonts/truetype/msttcorefonts/Times_New_Roman_Bold_Italic.ttf', name='Times New Roman', style='italic', variant='normal', weight=700, stretch='normal', size='scalable')) = 11.335\n",
      "2025-10-30 16:00:48 matplotlib.font_manager DEBUG    findfont: score(FontEntry(fname='/usr/share/fonts/truetype/liberation/LiberationMono-Bold.ttf', name='Liberation Mono', style='normal', variant='normal', weight=700, stretch='normal', size='scalable')) = 10.335\n",
      "2025-10-30 16:00:48 matplotlib.font_manager DEBUG    findfont: score(FontEntry(fname='/usr/share/fonts/truetype/msttcorefonts/arialbi.ttf', name='Arial', style='italic', variant='normal', weight=700, stretch='normal', size='scalable')) = 7.698636363636363\n",
      "2025-10-30 16:00:48 matplotlib.font_manager DEBUG    findfont: score(FontEntry(fname='/usr/share/fonts/truetype/noto/NotoSerifArmenian-Bold.ttf', name='Noto Serif Armenian', style='normal', variant='normal', weight=700, stretch='normal', size='scalable')) = 10.335\n",
      "2025-10-30 16:00:48 matplotlib.font_manager DEBUG    findfont: score(FontEntry(fname='/usr/share/fonts/truetype/noto/NotoSansEthiopic-Regular.ttf', name='Noto Sans Ethiopic', style='normal', variant='normal', weight=400, stretch='normal', size='scalable')) = 10.05\n",
      "2025-10-30 16:00:48 matplotlib.font_manager DEBUG    findfont: score(FontEntry(fname='/usr/share/fonts/truetype/noto/NotoSansCoptic-Regular.ttf', name='Noto Sans Coptic', style='normal', variant='normal', weight=400, stretch='normal', size='scalable')) = 10.05\n",
      "2025-10-30 16:00:48 matplotlib.font_manager DEBUG    findfont: score(FontEntry(fname='/usr/share/fonts/truetype/noto/NotoSansAdlamUnjoined-Regular.ttf', name='Noto Sans Adlam Unjoined', style='normal', variant='normal', weight=400, stretch='normal', size='scalable')) = 10.05\n",
      "2025-10-30 16:00:48 matplotlib.font_manager DEBUG    findfont: score(FontEntry(fname='/usr/share/fonts/truetype/open-sans/OpenSans-CondBold.ttf', name='Open Sans Condensed', style='normal', variant='normal', weight=700, stretch='condensed', size='scalable')) = 10.535\n",
      "2025-10-30 16:00:48 matplotlib.font_manager DEBUG    findfont: score(FontEntry(fname='/usr/share/fonts/opentype/urw-base35/NimbusSansNarrow-Regular.otf', name='Nimbus Sans Narrow', style='normal', variant='normal', weight=400, stretch='condensed', size='scalable')) = 10.25\n",
      "2025-10-30 16:00:48 matplotlib.font_manager DEBUG    findfont: score(FontEntry(fname='/usr/share/fonts/truetype/tlwg/TlwgTypist.ttf', name='Tlwg Typist', style='normal', variant='normal', weight=400, stretch='normal', size='scalable')) = 10.05\n",
      "2025-10-30 16:00:48 matplotlib.font_manager DEBUG    findfont: score(FontEntry(fname='/usr/share/fonts/truetype/lyx/stmary10.ttf', name='stmary10', style='normal', variant='normal', weight=400, stretch='normal', size='scalable')) = 10.05\n",
      "2025-10-30 16:00:48 matplotlib.font_manager DEBUG    findfont: score(FontEntry(fname='/usr/share/fonts/truetype/noto/NotoSansSundanese-Regular.ttf', name='Noto Sans Sundanese', style='normal', variant='normal', weight=400, stretch='normal', size='scalable')) = 10.05\n",
      "2025-10-30 16:00:48 matplotlib.font_manager DEBUG    findfont: score(FontEntry(fname='/usr/share/fonts/truetype/tlwg/Norasi-Bold.ttf', name='Norasi', style='normal', variant='normal', weight=700, stretch='normal', size='scalable')) = 10.335\n",
      "2025-10-30 16:00:48 matplotlib.font_manager DEBUG    findfont: score(FontEntry(fname='/usr/share/fonts/truetype/adf/GilliusADF-Italic.otf', name='Gillius ADF', style='italic', variant='normal', weight=400, stretch='normal', size='scalable')) = 11.05\n",
      "2025-10-30 16:00:48 matplotlib.font_manager DEBUG    findfont: score(FontEntry(fname='/usr/share/fonts/truetype/noto/NotoSerifKannada-Regular.ttf', name='Noto Serif Kannada', style='normal', variant='normal', weight=400, stretch='normal', size='scalable')) = 10.05\n",
      "2025-10-30 16:00:48 matplotlib.font_manager DEBUG    findfont: score(FontEntry(fname='/usr/share/fonts/truetype/tlwg/Laksaman-Bold.ttf', name='Laksaman', style='normal', variant='normal', weight=700, stretch='normal', size='scalable')) = 10.335\n",
      "2025-10-30 16:00:48 matplotlib.font_manager DEBUG    findfont: score(FontEntry(fname='/usr/share/fonts/opentype/urw-base35/NimbusRoman-Regular.otf', name='Nimbus Roman', style='normal', variant='normal', weight=400, stretch='normal', size='scalable')) = 10.05\n",
      "2025-10-30 16:00:48 matplotlib.font_manager DEBUG    findfont: score(FontEntry(fname='/usr/share/fonts/truetype/lato/Lato-ThinItalic.ttf', name='Lato', style='italic', variant='normal', weight=200, stretch='normal', size='scalable')) = 11.24\n",
      "2025-10-30 16:00:48 matplotlib.font_manager DEBUG    findfont: score(FontEntry(fname='/usr/share/fonts/truetype/noto/NotoSerifThai-Regular.ttf', name='Noto Serif Thai', style='normal', variant='normal', weight=400, stretch='normal', size='scalable')) = 10.05\n",
      "2025-10-30 16:00:48 matplotlib.font_manager DEBUG    findfont: score(FontEntry(fname='/usr/share/fonts/truetype/tlwg/TlwgTypewriter-Bold.ttf', name='Tlwg Typewriter', style='normal', variant='normal', weight=700, stretch='normal', size='scalable')) = 10.335\n",
      "2025-10-30 16:00:48 matplotlib.font_manager DEBUG    findfont: score(FontEntry(fname='/usr/share/fonts/truetype/freefont/FreeMonoBold.ttf', name='FreeMono', style='normal', variant='normal', weight=700, stretch='normal', size='scalable')) = 10.335\n",
      "2025-10-30 16:00:48 matplotlib.font_manager DEBUG    findfont: score(FontEntry(fname='/usr/share/fonts/truetype/arphic-gkai00mp/gkai00mp.ttf', name='AR PL KaitiM GB', style='normal', variant='normal', weight=400, stretch='normal', size='scalable')) = 10.05\n",
      "2025-10-30 16:00:48 matplotlib.font_manager DEBUG    findfont: score(FontEntry(fname='/usr/share/fonts/truetype/Sarai/Sarai.ttf', name='Sarai', style='normal', variant='normal', weight=400, stretch='normal', size='scalable')) = 10.05\n",
      "2025-10-30 16:00:48 matplotlib.font_manager DEBUG    findfont: score(FontEntry(fname='/usr/share/fonts/truetype/noto/NotoSansOldPermic-Regular.ttf', name='Noto Sans Old Permic', style='normal', variant='normal', weight=400, stretch='normal', size='scalable')) = 10.05\n",
      "2025-10-30 16:00:48 matplotlib.font_manager DEBUG    findfont: score(FontEntry(fname='/usr/share/fonts/opentype/urw-base35/URWBookman-Light.otf', name='URW Bookman', style='normal', variant='normal', weight=300, stretch='normal', size='scalable')) = 10.145\n",
      "2025-10-30 16:00:48 matplotlib.font_manager DEBUG    findfont: score(FontEntry(fname='/usr/share/fonts/fonts-go/Go-Mono-Bold-Italic.ttf', name='Go Mono', style='italic', variant='normal', weight=600, stretch='normal', size='scalable')) = 11.24\n",
      "2025-10-30 16:00:48 matplotlib.font_manager DEBUG    findfont: score(FontEntry(fname='/usr/share/fonts/truetype/roboto/unhinted/RobotoCondensed-BoldItalic.ttf', name='Roboto Condensed', style='italic', variant='normal', weight=700, stretch='condensed', size='scalable')) = 11.535\n",
      "2025-10-30 16:00:48 matplotlib.font_manager DEBUG    findfont: score(FontEntry(fname='/usr/share/fonts/opentype/tlwg/TlwgMono-Bold.otf', name='Tlwg Mono', style='normal', variant='normal', weight=700, stretch='normal', size='scalable')) = 10.335\n",
      "2025-10-30 16:00:48 matplotlib.font_manager DEBUG    findfont: score(FontEntry(fname='/usr/share/fonts/opentype/urw-base35/NimbusSansNarrow-Oblique.otf', name='Nimbus Sans Narrow', style='oblique', variant='normal', weight=400, stretch='condensed', size='scalable')) = 11.25\n",
      "2025-10-30 16:00:48 matplotlib.font_manager DEBUG    findfont: score(FontEntry(fname='/usr/share/fonts/opentype/urw-base35/URWGothic-Book.otf', name='URW Gothic', style='normal', variant='normal', weight=400, stretch='normal', size='scalable')) = 10.05\n",
      "2025-10-30 16:00:48 matplotlib.font_manager DEBUG    findfont: score(FontEntry(fname='/usr/share/fonts/opentype/tlwg/Sawasdee-Bold.otf', name='Sawasdee', style='normal', variant='normal', weight=700, stretch='normal', size='scalable')) = 10.335\n",
      "2025-10-30 16:00:48 matplotlib.font_manager DEBUG    findfont: score(FontEntry(fname='/usr/share/fonts/fonts-go/Go-Bold-Italic.ttf', name='Go', style='italic', variant='normal', weight=600, stretch='normal', size='scalable')) = 11.24\n",
      "2025-10-30 16:00:48 matplotlib.font_manager DEBUG    findfont: score(FontEntry(fname='/usr/share/fonts/truetype/msttcorefonts/Comic_Sans_MS_Bold.ttf', name='Comic Sans MS', style='normal', variant='normal', weight=700, stretch='normal', size='scalable')) = 10.335\n",
      "2025-10-30 16:00:48 matplotlib.font_manager DEBUG    findfont: score(FontEntry(fname='/usr/share/fonts/opentype/urw-base35/URWBookman-Demi.otf', name='URW Bookman', style='normal', variant='normal', weight=600, stretch='normal', size='scalable')) = 10.24\n",
      "2025-10-30 16:00:48 matplotlib.font_manager DEBUG    findfont: score(FontEntry(fname='/usr/share/fonts/truetype/noto/NotoSerifGeorgian-Bold.ttf', name='Noto Serif Georgian', style='normal', variant='normal', weight=700, stretch='normal', size='scalable')) = 10.335\n",
      "2025-10-30 16:00:48 matplotlib.font_manager DEBUG    findfont: score(FontEntry(fname='/usr/share/fonts/truetype/olga/GFSOlga.otf', name='GFS Olga', style='normal', variant='normal', weight=400, stretch='normal', size='scalable')) = 10.05\n",
      "2025-10-30 16:00:48 matplotlib.font_manager DEBUG    findfont: score(FontEntry(fname='/usr/share/fonts/truetype/lato/Lato-LightItalic.ttf', name='Lato', style='italic', variant='normal', weight=300, stretch='normal', size='scalable')) = 11.145\n",
      "2025-10-30 16:00:48 matplotlib.font_manager DEBUG    findfont: score(FontEntry(fname='/usr/share/fonts/truetype/adf/GilliusADFNo2-Regular.otf', name='Gillius ADF No2', style='normal', variant='normal', weight=400, stretch='normal', size='scalable')) = 10.05\n",
      "2025-10-30 16:00:48 matplotlib.font_manager DEBUG    findfont: score(FontEntry(fname='/usr/share/fonts/truetype/gentium-basic/GenBkBasR.ttf', name='Gentium Book Basic', style='normal', variant='normal', weight=400, stretch='normal', size='scalable')) = 10.05\n",
      "2025-10-30 16:00:48 matplotlib.font_manager DEBUG    findfont: score(FontEntry(fname='/usr/share/fonts/opentype/urw-base35/Z003-MediumItalic.otf', name='Z003', style='italic', variant='normal', weight=500, stretch='normal', size='scalable')) = 11.145\n",
      "2025-10-30 16:00:48 matplotlib.font_manager DEBUG    findfont: score(FontEntry(fname='/usr/share/fonts/truetype/noto/NotoSerifGeorgian-Regular.ttf', name='Noto Serif Georgian', style='normal', variant='normal', weight=400, stretch='normal', size='scalable')) = 10.05\n",
      "2025-10-30 16:00:48 matplotlib.font_manager DEBUG    findfont: score(FontEntry(fname='/usr/share/fonts/truetype/noto/NotoSerifGujarati-Bold.ttf', name='Noto Serif Gujarati', style='normal', variant='normal', weight=700, stretch='normal', size='scalable')) = 10.335\n",
      "2025-10-30 16:00:48 matplotlib.font_manager DEBUG    findfont: score(FontEntry(fname='/usr/share/fonts/truetype/didot/GFSDidot.otf', name='GFS Didot', style='normal', variant='normal', weight=400, stretch='normal', size='scalable')) = 10.05\n",
      "2025-10-30 16:00:48 matplotlib.font_manager DEBUG    findfont: score(FontEntry(fname='/usr/share/fonts/truetype/adf/BerenisADFPro-Regular.otf', name='Berenis ADF Pro', style='normal', variant='normal', weight=400, stretch='normal', size='scalable')) = 10.05\n",
      "2025-10-30 16:00:48 matplotlib.font_manager DEBUG    findfont: score(FontEntry(fname='/usr/share/fonts/truetype/noto/NotoSerifHebrew-Bold.ttf', name='Noto Serif Hebrew', style='normal', variant='normal', weight=700, stretch='normal', size='scalable')) = 10.335\n",
      "2025-10-30 16:00:48 matplotlib.font_manager DEBUG    findfont: score(FontEntry(fname='/usr/share/fonts/truetype/tlwg/Norasi-Oblique.ttf', name='Norasi', style='oblique', variant='normal', weight=400, stretch='normal', size='scalable')) = 11.05\n",
      "2025-10-30 16:00:48 matplotlib.font_manager DEBUG    findfont: score(FontEntry(fname='/usr/share/fonts/opentype/stix-word/STIXMath-Regular.otf', name='STIX Math', style='normal', variant='normal', weight=400, stretch='normal', size='scalable')) = 10.05\n",
      "2025-10-30 16:00:48 matplotlib.font_manager DEBUG    findfont: score(FontEntry(fname='/usr/share/fonts/truetype/noto/NotoSansDisplay-Regular.ttf', name='Noto Sans Display', style='normal', variant='normal', weight=400, stretch='normal', size='scalable')) = 10.05\n",
      "2025-10-30 16:00:48 matplotlib.font_manager DEBUG    findfont: score(FontEntry(fname='/usr/share/fonts/truetype/lyx/cmmi10.ttf', name='cmmi10', style='normal', variant='normal', weight=400, stretch='normal', size='scalable')) = 10.05\n",
      "2025-10-30 16:00:48 matplotlib.font_manager DEBUG    findfont: score(FontEntry(fname='/usr/share/fonts/opentype/urw-base35/P052-BoldItalic.otf', name='P052', style='italic', variant='normal', weight=700, stretch='normal', size='scalable')) = 11.335\n",
      "2025-10-30 16:00:48 matplotlib.font_manager DEBUG    findfont: score(FontEntry(fname='/usr/share/fonts/truetype/unfonts-core/UnBatangBold.ttf', name='UnBatang', style='normal', variant='normal', weight=700, stretch='normal', size='scalable')) = 10.335\n",
      "2025-10-30 16:00:48 matplotlib.font_manager DEBUG    findfont: score(FontEntry(fname='/usr/share/fonts/opentype/tlwg/Garuda-Bold.otf', name='Garuda', style='normal', variant='normal', weight=700, stretch='normal', size='scalable')) = 10.335\n",
      "2025-10-30 16:00:48 matplotlib.font_manager DEBUG    findfont: score(FontEntry(fname='/usr/share/fonts/opentype/freefont/FreeMonoBold.otf', name='FreeMono', style='normal', variant='normal', weight=700, stretch='normal', size='scalable')) = 10.335\n",
      "2025-10-30 16:00:48 matplotlib.font_manager DEBUG    findfont: score(FontEntry(fname='/usr/share/fonts/opentype/stix/STIXIntegralsUpSm-Bold.otf', name='STIXIntegralsUpSm', style='normal', variant='normal', weight=700, stretch='normal', size='scalable')) = 10.335\n",
      "2025-10-30 16:00:48 matplotlib.font_manager DEBUG    findfont: score(FontEntry(fname='/usr/share/fonts/truetype/fonts-yrsa-rasa/Rasa-SemiBold.ttf', name='Rasa', style='normal', variant='normal', weight=600, stretch='normal', size='scalable')) = 10.24\n",
      "2025-10-30 16:00:48 matplotlib.font_manager DEBUG    findfont: score(FontEntry(fname='/usr/share/fonts/truetype/noto/NotoSansLepcha-Regular.ttf', name='Noto Sans Lepcha', style='normal', variant='normal', weight=400, stretch='normal', size='scalable')) = 10.05\n",
      "2025-10-30 16:00:48 matplotlib.font_manager DEBUG    findfont: score(FontEntry(fname='/usr/share/fonts/truetype/msttcorefonts/times.ttf', name='Times New Roman', style='normal', variant='normal', weight=400, stretch='normal', size='scalable')) = 10.05\n",
      "2025-10-30 16:00:48 matplotlib.font_manager DEBUG    findfont: score(FontEntry(fname='/usr/share/fonts/truetype/baekmuk/dotum.ttf', name='Baekmuk Dotum', style='normal', variant='normal', weight=400, stretch='normal', size='scalable')) = 10.05\n",
      "2025-10-30 16:00:48 matplotlib.font_manager DEBUG    findfont: score(FontEntry(fname='/usr/share/fonts/truetype/liberation2/LiberationMono-Bold.ttf', name='Liberation Mono', style='normal', variant='normal', weight=700, stretch='normal', size='scalable')) = 10.335\n",
      "2025-10-30 16:00:48 matplotlib.font_manager DEBUG    findfont: score(FontEntry(fname='/usr/share/fonts/truetype/tlwg/Garuda-Bold.ttf', name='Garuda', style='normal', variant='normal', weight=700, stretch='normal', size='scalable')) = 10.335\n",
      "2025-10-30 16:00:48 matplotlib.font_manager DEBUG    findfont: score(FontEntry(fname='/usr/share/fonts/opentype/ebgaramond/EBGaramond-Initials.otf', name='EB Garamond Initials', style='normal', variant='normal', weight=400, stretch='normal', size='scalable')) = 10.05\n",
      "2025-10-30 16:00:48 matplotlib.font_manager DEBUG    findfont: score(FontEntry(fname='/usr/share/fonts/opentype/stix/STIXVariants-Bold.otf', name='STIXVariants', style='normal', variant='normal', weight=700, stretch='normal', size='scalable')) = 10.335\n",
      "2025-10-30 16:00:48 matplotlib.font_manager DEBUG    findfont: score(FontEntry(fname='/usr/share/fonts/opentype/urw-base35/NimbusSans-Italic.otf', name='Nimbus Sans', style='italic', variant='normal', weight=400, stretch='normal', size='scalable')) = 11.05\n",
      "2025-10-30 16:00:48 matplotlib.font_manager DEBUG    findfont: score(FontEntry(fname='/usr/share/fonts/truetype/open-sans/OpenSans-LightItalic.ttf', name='Open Sans', style='italic', variant='normal', weight=300, stretch='normal', size='scalable')) = 11.145\n",
      "2025-10-30 16:00:48 matplotlib.font_manager DEBUG    findfont: score(FontEntry(fname='/usr/share/fonts/truetype/adf/UniversalisADFStd-BoldCond.otf', name='Universalis ADF Std', style='normal', variant='normal', weight=700, stretch='condensed', size='scalable')) = 10.535\n",
      "2025-10-30 16:00:48 matplotlib.font_manager DEBUG    findfont: score(FontEntry(fname='/usr/share/fonts/truetype/fonts-orya-extra/utkal.ttf', name='ori1Uni', style='normal', variant='normal', weight=500, stretch='normal', size='scalable')) = 10.145\n",
      "2025-10-30 16:00:48 matplotlib.font_manager DEBUG    findfont: score(FontEntry(fname='/usr/share/fonts/opentype/linux-libertine/LinLibertine_I.otf', name='Linux Libertine Initials O', style='normal', variant='normal', weight=400, stretch='normal', size='scalable')) = 10.05\n",
      "2025-10-30 16:00:48 matplotlib.font_manager DEBUG    findfont: score(FontEntry(fname='/usr/share/fonts/truetype/noto/NotoSerifKannada-Bold.ttf', name='Noto Serif Kannada', style='normal', variant='normal', weight=700, stretch='normal', size='scalable')) = 10.335\n",
      "2025-10-30 16:00:48 matplotlib.font_manager DEBUG    findfont: score(FontEntry(fname='/usr/share/fonts/truetype/freefont/FreeSans.ttf', name='FreeSans', style='normal', variant='normal', weight=400, stretch='normal', size='scalable')) = 10.05\n",
      "2025-10-30 16:00:48 matplotlib.font_manager DEBUG    findfont: score(FontEntry(fname='/usr/share/fonts/truetype/noto/NotoSansPhoenician-Regular.ttf', name='Noto Sans Phoenician', style='normal', variant='normal', weight=400, stretch='normal', size='scalable')) = 10.05\n",
      "2025-10-30 16:00:48 matplotlib.font_manager DEBUG    findfont: score(FontEntry(fname='/usr/share/fonts/opentype/tlwg/Purisa-Bold.otf', name='Purisa', style='normal', variant='normal', weight=700, stretch='normal', size='scalable')) = 10.335\n",
      "2025-10-30 16:00:48 matplotlib.font_manager DEBUG    findfont: score(FontEntry(fname='/usr/share/fonts/truetype/noto/NotoSansAdlam-Regular.ttf', name='Noto Sans Adlam', style='normal', variant='normal', weight=400, stretch='normal', size='scalable')) = 10.05\n",
      "2025-10-30 16:00:48 matplotlib.font_manager DEBUG    findfont: score(FontEntry(fname='/usr/share/fonts/truetype/noto/NotoSansBengali-Bold.ttf', name='Noto Sans Bengali', style='normal', variant='normal', weight=700, stretch='normal', size='scalable')) = 10.335\n",
      "2025-10-30 16:00:48 matplotlib.font_manager DEBUG    findfont: score(FontEntry(fname='/usr/share/fonts/truetype/noto/NotoSansArabic-Regular.ttf', name='Noto Sans Arabic', style='normal', variant='normal', weight=400, stretch='normal', size='scalable')) = 10.05\n",
      "2025-10-30 16:00:48 matplotlib.font_manager DEBUG    findfont: score(FontEntry(fname='/usr/share/fonts/truetype/adf/AccanthisADFStdNo2-Italic.otf', name='Accanthis ADF Std No2', style='italic', variant='normal', weight=400, stretch='normal', size='scalable')) = 11.05\n",
      "2025-10-30 16:00:48 matplotlib.font_manager DEBUG    findfont: score(FontEntry(fname='/usr/share/fonts/opentype/freefont/FreeSans.otf', name='FreeSans', style='normal', variant='normal', weight=400, stretch='normal', size='scalable')) = 10.05\n",
      "2025-10-30 16:00:48 matplotlib.font_manager DEBUG    findfont: score(FontEntry(fname='/usr/share/fonts/truetype/liberation2/LiberationSerif-Bold.ttf', name='Liberation Serif', style='normal', variant='normal', weight=700, stretch='normal', size='scalable')) = 10.335\n",
      "2025-10-30 16:00:48 matplotlib.font_manager DEBUG    findfont: score(FontEntry(fname='/usr/share/fonts/truetype/lato/Lato-Hairline.ttf', name='Lato', style='normal', variant='normal', weight=100, stretch='normal', size='scalable')) = 10.335\n",
      "2025-10-30 16:00:48 matplotlib.font_manager DEBUG    findfont: score(FontEntry(fname='/usr/share/fonts/truetype/pagul/Pagul.ttf', name='Pagul', style='normal', variant='normal', weight=400, stretch='normal', size='scalable')) = 10.05\n",
      "2025-10-30 16:00:48 matplotlib.font_manager DEBUG    findfont: score(FontEntry(fname='/usr/share/fonts/truetype/tlwg/Laksaman-Italic.ttf', name='Laksaman', style='italic', variant='normal', weight=400, stretch='normal', size='scalable')) = 11.05\n",
      "2025-10-30 16:00:48 matplotlib.font_manager DEBUG    findfont: score(FontEntry(fname='/usr/share/fonts/opentype/cantarell/Cantarell-Light.otf', name='Cantarell', style='normal', variant='normal', weight=300, stretch='normal', size='scalable')) = 10.145\n",
      "2025-10-30 16:00:48 matplotlib.font_manager DEBUG    findfont: score(FontEntry(fname='/usr/share/fonts/opentype/linux-libertine/LinBiolinum_R.otf', name='Linux Biolinum O', style='normal', variant='normal', weight=400, stretch='normal', size='scalable')) = 10.05\n",
      "2025-10-30 16:00:48 matplotlib.font_manager DEBUG    findfont: score(FontEntry(fname='/usr/share/fonts/truetype/baskerville/GFSBaskerville.otf', name='GFS Baskerville', style='normal', variant='normal', weight=400, stretch='normal', size='scalable')) = 10.05\n",
      "2025-10-30 16:00:48 matplotlib.font_manager DEBUG    findfont: score(FontEntry(fname='/usr/share/fonts/truetype/lyx/eufm10.ttf', name='eufm10', style='normal', variant='normal', weight=400, stretch='normal', size='scalable')) = 10.05\n",
      "2025-10-30 16:00:48 matplotlib.font_manager DEBUG    findfont: score(FontEntry(fname='/usr/share/fonts/truetype/freefont/FreeSerifBold.ttf', name='FreeSerif', style='normal', variant='normal', weight=700, stretch='normal', size='scalable')) = 10.335\n",
      "2025-10-30 16:00:48 matplotlib.font_manager DEBUG    findfont: score(FontEntry(fname='/usr/share/fonts/truetype/dejavu/DejaVuSansMono-Oblique.ttf', name='DejaVu Sans Mono', style='oblique', variant='normal', weight=400, stretch='normal', size='scalable')) = 11.05\n",
      "2025-10-30 16:00:48 matplotlib.font_manager DEBUG    findfont: score(FontEntry(fname='/usr/share/fonts/truetype/noto/NotoSansTagalog-Regular.ttf', name='Noto Sans Tagalog', style='normal', variant='normal', weight=400, stretch='normal', size='scalable')) = 10.05\n",
      "2025-10-30 16:00:48 matplotlib.font_manager DEBUG    findfont: score(FontEntry(fname='/usr/share/fonts/truetype/fonts-yrsa-rasa/Yrsa-Light.ttf', name='Yrsa', style='normal', variant='normal', weight=300, stretch='normal', size='scalable')) = 10.145\n",
      "2025-10-30 16:00:48 matplotlib.font_manager DEBUG    findfont: score(FontEntry(fname='/usr/share/fonts/truetype/lohit-gujarati/Lohit-Gujarati.ttf', name='Lohit Gujarati', style='normal', variant='normal', weight=400, stretch='normal', size='scalable')) = 10.05\n",
      "2025-10-30 16:00:48 matplotlib.font_manager DEBUG    findfont: score(FontEntry(fname='/usr/share/fonts/truetype/lato/Lato-Thin.ttf', name='Lato', style='normal', variant='normal', weight=200, stretch='normal', size='scalable')) = 10.24\n",
      "2025-10-30 16:00:48 matplotlib.font_manager DEBUG    findfont: score(FontEntry(fname='/usr/share/fonts/truetype/fonts-beng-extra/mitra.ttf', name='Mitra Mono', style='normal', variant='normal', weight=400, stretch='normal', size='scalable')) = 10.05\n",
      "2025-10-30 16:00:48 matplotlib.font_manager DEBUG    findfont: score(FontEntry(fname='/usr/share/fonts/truetype/liberation/LiberationSansNarrow-Bold.ttf', name='Liberation Sans Narrow', style='normal', variant='normal', weight=700, stretch='condensed', size='scalable')) = 10.535\n",
      "2025-10-30 16:00:48 matplotlib.font_manager DEBUG    findfont: score(FontEntry(fname='/usr/share/fonts/truetype/unfonts-extra/UnTaza.ttf', name='UnTaza', style='normal', variant='normal', weight=400, stretch='normal', size='scalable')) = 10.05\n",
      "2025-10-30 16:00:48 matplotlib.font_manager DEBUG    findfont: score(FontEntry(fname='/usr/share/fonts/truetype/tlwg/Loma.ttf', name='Loma', style='normal', variant='normal', weight=400, stretch='normal', size='scalable')) = 10.05\n",
      "2025-10-30 16:00:48 matplotlib.font_manager DEBUG    findfont: score(FontEntry(fname='/usr/share/fonts/truetype/noto/NotoSansLisu-Regular.ttf', name='Noto Sans Lisu', style='normal', variant='normal', weight=400, stretch='normal', size='scalable')) = 10.05\n",
      "2025-10-30 16:00:48 matplotlib.font_manager DEBUG    findfont: score(FontEntry(fname='/usr/share/fonts/opentype/tlwg/Umpush-LightOblique.otf', name='Umpush', style='oblique', variant='normal', weight=300, stretch='normal', size='scalable')) = 11.145\n",
      "2025-10-30 16:00:48 matplotlib.font_manager DEBUG    findfont: score(FontEntry(fname='/usr/share/fonts/truetype/lyx/wasy10.ttf', name='wasy10', style='normal', variant='normal', weight=400, stretch='normal', size='scalable')) = 10.05\n",
      "2025-10-30 16:00:48 matplotlib.font_manager DEBUG    findfont: score(FontEntry(fname='/usr/share/fonts/truetype/tlwg/Sawasdee-BoldOblique.ttf', name='Sawasdee', style='oblique', variant='normal', weight=700, stretch='normal', size='scalable')) = 11.335\n",
      "2025-10-30 16:00:48 matplotlib.font_manager DEBUG    findfont: score(FontEntry(fname='/usr/share/fonts/truetype/freefont/FreeMono.ttf', name='FreeMono', style='normal', variant='normal', weight=400, stretch='normal', size='scalable')) = 10.05\n",
      "2025-10-30 16:00:48 matplotlib.font_manager DEBUG    findfont: score(FontEntry(fname='/usr/share/fonts/truetype/tibetan-machine/TibetanMachineUni.ttf', name='Tibetan Machine Uni', style='normal', variant='normal', weight=400, stretch='normal', size='scalable')) = 10.05\n",
      "2025-10-30 16:00:48 matplotlib.font_manager DEBUG    findfont: score(FontEntry(fname='/usr/share/fonts/truetype/lato/Lato-Bold.ttf', name='Lato', style='normal', variant='normal', weight=700, stretch='normal', size='scalable')) = 10.335\n",
      "2025-10-30 16:00:48 matplotlib.font_manager DEBUG    findfont: score(FontEntry(fname='/usr/share/fonts/truetype/tlwg/Umpush-LightOblique.ttf', name='Umpush', style='oblique', variant='normal', weight=300, stretch='normal', size='scalable')) = 11.145\n",
      "2025-10-30 16:00:48 matplotlib.font_manager DEBUG    findfont: score(FontEntry(fname='/usr/share/fonts/truetype/unfonts-core/UnDinaruLight.ttf', name='UnDinaru', style='normal', variant='normal', weight=300, stretch='normal', size='scalable')) = 10.145\n",
      "2025-10-30 16:00:48 matplotlib.font_manager DEBUG    findfont: score(FontEntry(fname='/usr/share/fonts/truetype/msttcorefonts/Times_New_Roman.ttf', name='Times New Roman', style='normal', variant='normal', weight=400, stretch='normal', size='scalable')) = 10.05\n",
      "2025-10-30 16:00:48 matplotlib.font_manager DEBUG    findfont: score(FontEntry(fname='/usr/share/fonts/truetype/noto/NotoSans-BoldItalic.ttf', name='Noto Sans', style='italic', variant='normal', weight=700, stretch='normal', size='scalable')) = 11.335\n",
      "2025-10-30 16:00:48 matplotlib.font_manager DEBUG    findfont: score(FontEntry(fname='/usr/share/fonts/truetype/roboto/unhinted/RobotoCondensed-Regular.ttf', name='Roboto Condensed', style='normal', variant='normal', weight=400, stretch='condensed', size='scalable')) = 10.25\n",
      "2025-10-30 16:00:48 matplotlib.font_manager DEBUG    findfont: score(FontEntry(fname='/usr/share/fonts/truetype/tlwg/TlwgTypo.ttf', name='Tlwg Typo', style='normal', variant='normal', weight=400, stretch='normal', size='scalable')) = 10.05\n",
      "2025-10-30 16:00:48 matplotlib.font_manager DEBUG    findfont: score(FontEntry(fname='/usr/share/fonts/opentype/tlwg/Kinnari-BoldOblique.otf', name='Kinnari', style='oblique', variant='normal', weight=700, stretch='normal', size='scalable')) = 11.335\n",
      "2025-10-30 16:00:48 matplotlib.font_manager DEBUG    findfont: score(FontEntry(fname='/usr/share/fonts/truetype/noto/NotoSansManichaean-Regular.ttf', name='Noto Sans Manichaean', style='normal', variant='normal', weight=400, stretch='normal', size='scalable')) = 10.05\n",
      "2025-10-30 16:00:48 matplotlib.font_manager DEBUG    findfont: score(FontEntry(fname='/usr/share/fonts/truetype/adf/AccanthisADFStd-Italic.otf', name='Accanthis ADF Std', style='italic', variant='normal', weight=400, stretch='normal', size='scalable')) = 11.05\n",
      "2025-10-30 16:00:48 matplotlib.font_manager DEBUG    findfont: score(FontEntry(fname='/usr/share/fonts/truetype/msttcorefonts/Courier_New_Bold_Italic.ttf', name='Courier New', style='italic', variant='normal', weight=700, stretch='normal', size='scalable')) = 11.335\n",
      "2025-10-30 16:00:48 matplotlib.font_manager DEBUG    findfont: score(FontEntry(fname='/usr/share/fonts/opentype/tlwg/Waree.otf', name='Waree', style='normal', variant='normal', weight=400, stretch='normal', size='scalable')) = 10.05\n",
      "2025-10-30 16:00:48 matplotlib.font_manager DEBUG    findfont: score(FontEntry(fname='/usr/share/fonts/truetype/ttf-bitstream-vera/VeraMoIt.ttf', name='Bitstream Vera Sans Mono', style='oblique', variant='normal', weight=400, stretch='normal', size='scalable')) = 11.05\n",
      "2025-10-30 16:00:48 matplotlib.font_manager DEBUG    findfont: score(FontEntry(fname='/usr/share/fonts/truetype/msttcorefonts/Trebuchet_MS_Bold.ttf', name='Trebuchet MS', style='normal', variant='normal', weight=700, stretch='normal', size='scalable')) = 10.335\n",
      "2025-10-30 16:00:48 matplotlib.font_manager DEBUG    findfont: score(FontEntry(fname='/usr/share/fonts/truetype/adf/AccanthisADFStd-BoldItalic.otf', name='Accanthis ADF Std', style='italic', variant='normal', weight=700, stretch='normal', size='scalable')) = 11.335\n",
      "2025-10-30 16:00:48 matplotlib.font_manager DEBUG    findfont: score(FontEntry(fname='/usr/share/fonts/opentype/tlwg/Purisa-Oblique.otf', name='Purisa', style='oblique', variant='normal', weight=400, stretch='normal', size='scalable')) = 11.05\n",
      "2025-10-30 16:00:48 matplotlib.font_manager DEBUG    findfont: score(FontEntry(fname='/usr/share/fonts/opentype/urw-base35/NimbusSansNarrow-Bold.otf', name='Nimbus Sans Narrow', style='normal', variant='normal', weight=700, stretch='condensed', size='scalable')) = 10.535\n",
      "2025-10-30 16:00:48 matplotlib.font_manager DEBUG    findfont: score(FontEntry(fname='/usr/share/fonts/truetype/liberation2/LiberationSans-BoldItalic.ttf', name='Liberation Sans', style='italic', variant='normal', weight=700, stretch='normal', size='scalable')) = 11.335\n",
      "2025-10-30 16:00:48 matplotlib.font_manager DEBUG    findfont: score(FontEntry(fname='/usr/share/fonts/truetype/roboto/unhinted/RobotoTTF/Roboto-Regular.ttf', name='Roboto', style='normal', variant='normal', weight=400, stretch='normal', size='scalable')) = 10.05\n",
      "2025-10-30 16:00:48 matplotlib.font_manager DEBUG    findfont: score(FontEntry(fname='/usr/share/fonts/opentype/stix/STIXIntegralsD-Bold.otf', name='STIXIntegralsD', style='normal', variant='normal', weight=700, stretch='normal', size='scalable')) = 10.335\n",
      "2025-10-30 16:00:48 matplotlib.font_manager DEBUG    findfont: score(FontEntry(fname='/usr/share/fonts/opentype/freefont/FreeMonoOblique.otf', name='FreeMono', style='oblique', variant='normal', weight=400, stretch='normal', size='scalable')) = 11.05\n",
      "2025-10-30 16:00:48 matplotlib.font_manager DEBUG    findfont: score(FontEntry(fname='/usr/share/fonts/truetype/noto/NotoSansKharoshthi-Regular.ttf', name='Noto Sans Kharoshthi', style='normal', variant='normal', weight=400, stretch='normal', size='scalable')) = 10.05\n",
      "2025-10-30 16:00:48 matplotlib.font_manager DEBUG    findfont: score(FontEntry(fname='/usr/share/fonts/truetype/adf/BerenisADFPro-Bold.otf', name='Berenis ADF Pro', style='normal', variant='normal', weight=700, stretch='normal', size='scalable')) = 10.335\n",
      "2025-10-30 16:00:48 matplotlib.font_manager DEBUG    findfont: score(FontEntry(fname='/usr/share/fonts/truetype/roboto/unhinted/RobotoTTF/Roboto-ThinItalic.ttf', name='Roboto', style='italic', variant='normal', weight=250, stretch='normal', size='scalable')) = 11.1925\n",
      "2025-10-30 16:00:48 matplotlib.font_manager DEBUG    findfont: score(FontEntry(fname='/usr/share/fonts/truetype/adf/UniversalisADFStd-Bold.otf', name='Universalis ADF Std', style='normal', variant='normal', weight=700, stretch='normal', size='scalable')) = 10.335\n",
      "2025-10-30 16:00:48 matplotlib.font_manager DEBUG    findfont: score(FontEntry(fname='/usr/share/fonts/truetype/noto/NotoSansOsage-Regular.ttf', name='Noto Sans Osage', style='normal', variant='normal', weight=400, stretch='normal', size='scalable')) = 10.05\n",
      "2025-10-30 16:00:48 matplotlib.font_manager DEBUG    findfont: score(FontEntry(fname='/usr/share/fonts/truetype/didot/GFSDidotBoldItalic.otf', name='GFS Didot', style='italic', variant='normal', weight=700, stretch='normal', size='scalable')) = 11.335\n",
      "2025-10-30 16:00:48 matplotlib.font_manager DEBUG    findfont: score(FontEntry(fname='/usr/share/fonts/truetype/lohit-oriya/Lohit-Odia.ttf', name='Lohit Odia', style='normal', variant='normal', weight=400, stretch='normal', size='scalable')) = 10.05\n",
      "2025-10-30 16:00:48 matplotlib.font_manager DEBUG    findfont: score(FontEntry(fname='/usr/share/fonts/truetype/msttcorefonts/timesi.ttf', name='Times New Roman', style='italic', variant='normal', weight=400, stretch='normal', size='scalable')) = 11.05\n",
      "2025-10-30 16:00:48 matplotlib.font_manager DEBUG    findfont: score(FontEntry(fname='/usr/share/fonts/truetype/unfonts-extra/UnPilgia.ttf', name='UnPilgia', style='normal', variant='normal', weight=400, stretch='normal', size='scalable')) = 10.05\n",
      "2025-10-30 16:00:48 matplotlib.font_manager DEBUG    findfont: score(FontEntry(fname='/usr/share/fonts/opentype/fonts-hosny-amiri/Amiri-BoldSlanted.ttf', name='Amiri', style='italic', variant='normal', weight=700, stretch='normal', size='scalable')) = 11.335\n",
      "2025-10-30 16:00:48 matplotlib.font_manager DEBUG    findfont: score(FontEntry(fname='/usr/share/fonts/truetype/liberation2/LiberationSerif-Regular.ttf', name='Liberation Serif', style='normal', variant='normal', weight=400, stretch='normal', size='scalable')) = 10.05\n",
      "2025-10-30 16:00:48 matplotlib.font_manager DEBUG    findfont: score(FontEntry(fname='/usr/share/fonts/opentype/freefont/FreeSansBoldOblique.otf', name='FreeSans', style='oblique', variant='normal', weight=600, stretch='normal', size='scalable')) = 11.24\n",
      "2025-10-30 16:00:48 matplotlib.font_manager DEBUG    findfont: score(FontEntry(fname='/usr/share/fonts/opentype/freefont/FreeSerif.otf', name='FreeSerif', style='normal', variant='normal', weight=400, stretch='normal', size='scalable')) = 10.05\n",
      "2025-10-30 16:00:48 matplotlib.font_manager DEBUG    findfont: score(FontEntry(fname='/usr/share/fonts/opentype/freefont/FreeSansOblique.otf', name='FreeSans', style='oblique', variant='normal', weight=400, stretch='normal', size='scalable')) = 11.05\n",
      "2025-10-30 16:00:48 matplotlib.font_manager DEBUG    findfont: score(FontEntry(fname='/usr/share/fonts/truetype/junicode/FoulisGreek.ttf', name='FoulisGreek', style='normal', variant='normal', weight=400, stretch='normal', size='scalable')) = 10.05\n",
      "2025-10-30 16:00:48 matplotlib.font_manager DEBUG    findfont: score(FontEntry(fname='/usr/share/fonts/truetype/msttcorefonts/timesbi.ttf', name='Times New Roman', style='italic', variant='normal', weight=700, stretch='normal', size='scalable')) = 11.335\n",
      "2025-10-30 16:00:48 matplotlib.font_manager DEBUG    findfont: score(FontEntry(fname='/usr/share/fonts/opentype/stix/STIXIntegralsUpD-Bold.otf', name='STIXIntegralsUpD', style='normal', variant='normal', weight=700, stretch='normal', size='scalable')) = 10.335\n",
      "2025-10-30 16:00:48 matplotlib.font_manager DEBUG    findfont: score(FontEntry(fname='/usr/share/fonts/opentype/stix-word/STIX-BoldItalic.otf', name='STIX', style='italic', variant='normal', weight=700, stretch='normal', size='scalable')) = 11.335\n",
      "2025-10-30 16:00:48 matplotlib.font_manager DEBUG    findfont: score(FontEntry(fname='/usr/share/fonts/truetype/noto/NotoSerifTamilSlanted-Bold.ttf', name='Noto Serif Tamil Slanted', style='normal', variant='normal', weight=700, stretch='normal', size='scalable')) = 10.335\n",
      "2025-10-30 16:00:48 matplotlib.font_manager DEBUG    findfont: score(FontEntry(fname='/usr/share/fonts/truetype/lohit-tamil-classical/Lohit-Tamil-Classical.ttf', name='Lohit Tamil Classical', style='normal', variant='normal', weight=400, stretch='normal', size='scalable')) = 10.05\n",
      "2025-10-30 16:00:48 matplotlib.font_manager DEBUG    findfont: score(FontEntry(fname='/usr/share/fonts/truetype/tlwg/Loma-Oblique.ttf', name='Loma', style='oblique', variant='normal', weight=400, stretch='normal', size='scalable')) = 11.05\n",
      "2025-10-30 16:00:48 matplotlib.font_manager DEBUG    findfont: score(FontEntry(fname='/usr/share/fonts/truetype/noto/NotoSansBengali-Regular.ttf', name='Noto Sans Bengali', style='normal', variant='normal', weight=400, stretch='normal', size='scalable')) = 10.05\n",
      "2025-10-30 16:00:48 matplotlib.font_manager DEBUG    findfont: score(FontEntry(fname='/usr/share/fonts/truetype/noto/NotoSansInscriptionalPahlavi-Regular.ttf', name='Noto Sans Inscriptional Pahlavi', style='normal', variant='normal', weight=400, stretch='normal', size='scalable')) = 10.05\n",
      "2025-10-30 16:00:48 matplotlib.font_manager DEBUG    findfont: score(FontEntry(fname='/usr/share/fonts/truetype/noto/NotoSerifMalayalam-Bold.ttf', name='Noto Serif Malayalam', style='normal', variant='normal', weight=700, stretch='normal', size='scalable')) = 10.335\n",
      "2025-10-30 16:00:48 matplotlib.font_manager DEBUG    findfont: score(FontEntry(fname='/usr/share/fonts/opentype/tlwg/Laksaman-BoldItalic.otf', name='Laksaman', style='italic', variant='normal', weight=700, stretch='normal', size='scalable')) = 11.335\n",
      "2025-10-30 16:00:48 matplotlib.font_manager DEBUG    findfont: score(FontEntry(fname='/usr/share/fonts/truetype/roboto/unhinted/RobotoTTF/Roboto-BoldItalic.ttf', name='Roboto', style='italic', variant='normal', weight=700, stretch='normal', size='scalable')) = 11.335\n",
      "2025-10-30 16:00:48 matplotlib.font_manager DEBUG    findfont: score(FontEntry(fname='/usr/share/fonts/truetype/noto/NotoSansHebrew-Bold.ttf', name='Noto Sans Hebrew', style='normal', variant='normal', weight=700, stretch='normal', size='scalable')) = 10.335\n",
      "2025-10-30 16:00:48 matplotlib.font_manager DEBUG    findfont: score(FontEntry(fname='/usr/share/fonts/truetype/noto/NotoSerif-Italic.ttf', name='Noto Serif', style='italic', variant='normal', weight=400, stretch='normal', size='scalable')) = 11.05\n",
      "2025-10-30 16:00:48 matplotlib.font_manager DEBUG    findfont: score(FontEntry(fname='/usr/share/fonts/truetype/ttf-bitstream-vera/Vera.ttf', name='Bitstream Vera Sans', style='normal', variant='normal', weight=400, stretch='normal', size='scalable')) = 0.9590909090909092\n",
      "2025-10-30 16:00:48 matplotlib.font_manager DEBUG    findfont: score(FontEntry(fname='/usr/share/fonts/truetype/msttcorefonts/verdanaz.ttf', name='Verdana', style='italic', variant='normal', weight=700, stretch='normal', size='scalable')) = 4.971363636363637\n",
      "2025-10-30 16:00:48 matplotlib.font_manager DEBUG    findfont: score(FontEntry(fname='/usr/share/fonts/truetype/ebgaramond/EBGaramond-InitialsF1.ttf', name='EB Garamond Initials Fill1', style='normal', variant='normal', weight=400, stretch='normal', size='scalable')) = 10.05\n",
      "2025-10-30 16:00:48 matplotlib.font_manager DEBUG    findfont: score(FontEntry(fname='/usr/share/fonts/truetype/noto/NotoSansTaiLe-Regular.ttf', name='Noto Sans Tai Le', style='normal', variant='normal', weight=400, stretch='normal', size='scalable')) = 10.05\n",
      "2025-10-30 16:00:48 matplotlib.font_manager DEBUG    findfont: score(FontEntry(fname='/usr/share/fonts/opentype/urw-base35/URWGothic-DemiOblique.otf', name='URW Gothic', style='oblique', variant='normal', weight=600, stretch='normal', size='scalable')) = 11.24\n",
      "2025-10-30 16:00:48 matplotlib.font_manager DEBUG    findfont: score(FontEntry(fname='/usr/share/fonts/truetype/artemisia/GFSArtemisiaBoldIt.otf', name='GFS Didot', style='italic', variant='normal', weight=700, stretch='normal', size='scalable')) = 11.335\n",
      "2025-10-30 16:00:48 matplotlib.font_manager DEBUG    findfont: score(FontEntry(fname='/usr/share/fonts/truetype/samyak/Samyak-Devanagari.ttf', name='Samyak Devanagari', style='normal', variant='normal', weight=500, stretch='normal', size='scalable')) = 10.145\n",
      "2025-10-30 16:00:48 matplotlib.font_manager DEBUG    findfont: score(FontEntry(fname='/usr/share/fonts/opentype/gentiumplus/GentiumPlusCompact-I.ttf', name='Gentium Plus Compact', style='italic', variant='normal', weight=400, stretch='normal', size='scalable')) = 11.05\n",
      "2025-10-30 16:00:48 matplotlib.font_manager DEBUG    findfont: score(FontEntry(fname='/usr/share/fonts/truetype/dejavu/DejaVuSansMono-Bold.ttf', name='DejaVu Sans Mono', style='normal', variant='normal', weight=700, stretch='normal', size='scalable')) = 10.335\n",
      "2025-10-30 16:00:48 matplotlib.font_manager DEBUG    findfont: score(FontEntry(fname='/usr/share/fonts/truetype/lato/Lato-HeavyItalic.ttf', name='Lato', style='italic', variant='normal', weight=800, stretch='normal', size='scalable')) = 11.43\n",
      "2025-10-30 16:00:48 matplotlib.font_manager DEBUG    findfont: score(FontEntry(fname='/usr/share/fonts/truetype/asana-math/Asana-Math.otf', name='Asana Math', style='normal', variant='normal', weight=400, stretch='normal', size='scalable')) = 10.05\n",
      "2025-10-30 16:00:48 matplotlib.font_manager DEBUG    findfont: score(FontEntry(fname='/usr/share/fonts/opentype/urw-base35/URWBookman-LightItalic.otf', name='URW Bookman', style='italic', variant='normal', weight=300, stretch='normal', size='scalable')) = 11.145\n",
      "2025-10-30 16:00:48 matplotlib.font_manager DEBUG    findfont: score(FontEntry(fname='/usr/share/fonts/opentype/malayalam/Manjari-Thin.otf', name='Manjari', style='normal', variant='normal', weight=100, stretch='normal', size='scalable')) = 10.335\n",
      "2025-10-30 16:00:48 matplotlib.font_manager DEBUG    findfont: score(FontEntry(fname='/usr/share/fonts/opentype/tlwg/Purisa-BoldOblique.otf', name='Purisa', style='oblique', variant='normal', weight=700, stretch='normal', size='scalable')) = 11.335\n",
      "2025-10-30 16:00:48 matplotlib.font_manager DEBUG    findfont: score(FontEntry(fname='/usr/share/fonts/truetype/noto/NotoSansShavian-Regular.ttf', name='Noto Sans Shavian', style='normal', variant='normal', weight=400, stretch='normal', size='scalable')) = 10.05\n",
      "2025-10-30 16:00:48 matplotlib.font_manager DEBUG    findfont: score(FontEntry(fname='/usr/share/fonts/truetype/noto/NotoSerifTibetan-Bold.ttf', name='Noto Serif Tibetan', style='normal', variant='normal', weight=700, stretch='normal', size='scalable')) = 10.335\n",
      "2025-10-30 16:00:48 matplotlib.font_manager DEBUG    findfont: score(FontEntry(fname='/usr/share/fonts/opentype/lobster/lobster.otf', name='Lobster Two', style='italic', variant='normal', weight=700, stretch='normal', size='scalable')) = 11.335\n",
      "2025-10-30 16:00:48 matplotlib.font_manager DEBUG    findfont: score(FontEntry(fname='/usr/share/fonts/opentype/urw-base35/URWGothic-Demi.otf', name='URW Gothic', style='normal', variant='normal', weight=600, stretch='normal', size='scalable')) = 10.24\n",
      "2025-10-30 16:00:48 matplotlib.font_manager DEBUG    findfont: score(FontEntry(fname='/usr/share/fonts/truetype/noto/NotoSansNabataean-Regular.ttf', name='Noto Sans Nabataean', style='normal', variant='normal', weight=400, stretch='normal', size='scalable')) = 10.05\n",
      "2025-10-30 16:00:48 matplotlib.font_manager DEBUG    findfont: score(FontEntry(fname='/usr/share/fonts/truetype/noto/NotoSansNKo-Regular.ttf', name='Noto Sans NKo', style='normal', variant='normal', weight=400, stretch='normal', size='scalable')) = 10.05\n",
      "2025-10-30 16:00:48 matplotlib.font_manager DEBUG    findfont: score(FontEntry(fname='/usr/share/fonts/truetype/fonts-yrsa-rasa/Rasa-Medium.ttf', name='Rasa', style='normal', variant='normal', weight=500, stretch='normal', size='scalable')) = 10.145\n",
      "2025-10-30 16:00:48 matplotlib.font_manager DEBUG    findfont: score(FontEntry(fname='/usr/share/fonts/truetype/adf/GilliusADFNo2-BoldCondItalic.otf', name='Gillius ADF No2', style='italic', variant='normal', weight=700, stretch='condensed', size='scalable')) = 11.535\n",
      "2025-10-30 16:00:48 matplotlib.font_manager DEBUG    findfont: score(FontEntry(fname='/usr/share/fonts/opentype/stix/STIXIntegralsD-Regular.otf', name='STIXIntegralsD', style='normal', variant='normal', weight=400, stretch='normal', size='scalable')) = 10.05\n",
      "2025-10-30 16:00:48 matplotlib.font_manager DEBUG    findfont: score(FontEntry(fname='/usr/share/fonts/opentype/tlwg/TlwgTypist-Bold.otf', name='Tlwg Typist', style='normal', variant='normal', weight=700, stretch='normal', size='scalable')) = 10.335\n",
      "2025-10-30 16:00:48 matplotlib.font_manager DEBUG    findfont: score(FontEntry(fname='/usr/share/fonts/truetype/noto/NotoSansOlChiki-Regular.ttf', name='Noto Sans Ol Chiki', style='normal', variant='normal', weight=400, stretch='normal', size='scalable')) = 10.05\n",
      "2025-10-30 16:00:48 matplotlib.font_manager DEBUG    findfont: score(FontEntry(fname='/usr/share/fonts/opentype/cantarell/Cantarell-Bold.otf', name='Cantarell', style='normal', variant='normal', weight=700, stretch='normal', size='scalable')) = 10.335\n",
      "2025-10-30 16:00:48 matplotlib.font_manager DEBUG    findfont: score(FontEntry(fname='/usr/share/fonts/truetype/noto/NotoSerifThai-Bold.ttf', name='Noto Serif Thai', style='normal', variant='normal', weight=700, stretch='normal', size='scalable')) = 10.335\n",
      "2025-10-30 16:00:48 matplotlib.font_manager DEBUG    findfont: score(FontEntry(fname='/usr/share/fonts/truetype/arphic-bsmi00lp/bsmi00lp.ttf', name='AR PL Mingti2L Big5', style='normal', variant='normal', weight=400, stretch='normal', size='scalable')) = 10.05\n",
      "2025-10-30 16:00:48 matplotlib.font_manager DEBUG    findfont: score(FontEntry(fname='/usr/share/fonts/truetype/noto/NotoSerifLao-Bold.ttf', name='Noto Serif Lao', style='normal', variant='normal', weight=700, stretch='normal', size='scalable')) = 10.335\n",
      "2025-10-30 16:00:48 matplotlib.font_manager DEBUG    findfont: score(FontEntry(fname='/usr/share/fonts/opentype/tlwg/TlwgTypo-BoldOblique.otf', name='Tlwg Typo', style='oblique', variant='normal', weight=700, stretch='normal', size='scalable')) = 11.335\n",
      "2025-10-30 16:00:48 matplotlib.font_manager DEBUG    findfont: score(FontEntry(fname='/usr/share/fonts/opentype/malayalam/Manjari-Bold.otf', name='Manjari', style='normal', variant='normal', weight=700, stretch='normal', size='scalable')) = 10.335\n",
      "2025-10-30 16:00:48 matplotlib.font_manager DEBUG    findfont: score(FontEntry(fname='/usr/share/fonts/opentype/stix/STIXIntegralsSm-Regular.otf', name='STIXIntegralsSm', style='normal', variant='normal', weight=400, stretch='normal', size='scalable')) = 10.05\n",
      "2025-10-30 16:00:48 matplotlib.font_manager DEBUG    findfont: score(FontEntry(fname='/usr/share/fonts/truetype/noto/NotoSerifTamil-Bold.ttf', name='Noto Serif Tamil', style='normal', variant='normal', weight=700, stretch='normal', size='scalable')) = 10.335\n",
      "2025-10-30 16:00:48 matplotlib.font_manager DEBUG    findfont: score(FontEntry(fname='/usr/share/fonts/truetype/noto/NotoSansOgham-Regular.ttf', name='Noto Sans Ogham', style='normal', variant='normal', weight=400, stretch='normal', size='scalable')) = 10.05\n",
      "2025-10-30 16:00:48 matplotlib.font_manager DEBUG    findfont: score(FontEntry(fname='/usr/share/fonts/truetype/noto/NotoSansJavanese-Bold.ttf', name='Noto Sans Javanese', style='normal', variant='normal', weight=700, stretch='normal', size='scalable')) = 10.335\n",
      "2025-10-30 16:00:48 matplotlib.font_manager DEBUG    findfont: score(FontEntry(fname='/usr/share/fonts/truetype/noto/NotoSansTamilSupplement-Regular.ttf', name='Noto Sans Tamil Supplement', style='normal', variant='normal', weight=400, stretch='normal', size='scalable')) = 10.05\n",
      "2025-10-30 16:00:48 matplotlib.font_manager DEBUG    findfont: score(FontEntry(fname='/usr/share/fonts/truetype/noto/NotoSansMultani-Regular.ttf', name='Noto Sans Multani', style='normal', variant='normal', weight=400, stretch='normal', size='scalable')) = 10.05\n",
      "2025-10-30 16:00:48 matplotlib.font_manager DEBUG    findfont: score(FontEntry(fname='/usr/share/fonts/opentype/ipaexfont-mincho/ipaexm.ttf', name='IPAexMincho', style='normal', variant='normal', weight=400, stretch='normal', size='scalable')) = 10.05\n",
      "2025-10-30 16:00:48 matplotlib.font_manager DEBUG    findfont: score(FontEntry(fname='/usr/share/fonts/truetype/noto/NotoSerifDevanagari-Regular.ttf', name='Noto Serif Devanagari', style='normal', variant='normal', weight=400, stretch='normal', size='scalable')) = 10.05\n",
      "2025-10-30 16:00:48 matplotlib.font_manager DEBUG    findfont: score(FontEntry(fname='/usr/share/fonts/opentype/linux-libertine/LinLibertine_RB.otf', name='Linux Libertine O', style='normal', variant='normal', weight=700, stretch='normal', size='scalable')) = 10.335\n",
      "2025-10-30 16:00:48 matplotlib.font_manager DEBUG    findfont: score(FontEntry(fname='/usr/share/fonts/truetype/open-sans/OpenSans-ExtraBold.ttf', name='Open Sans', style='normal', variant='normal', weight=800, stretch='normal', size='scalable')) = 10.43\n",
      "2025-10-30 16:00:48 matplotlib.font_manager DEBUG    findfont: score(FontEntry(fname='/usr/share/fonts/truetype/noto/NotoSerifTangut-Regular.ttf', name='Noto Serif Tangut', style='normal', variant='normal', weight=400, stretch='normal', size='scalable')) = 10.05\n",
      "2025-10-30 16:00:48 matplotlib.font_manager DEBUG    findfont: score(FontEntry(fname='/usr/share/fonts/truetype/padauk/Padauk-Bold.ttf', name='Padauk', style='normal', variant='normal', weight=700, stretch='normal', size='scalable')) = 10.335\n",
      "2025-10-30 16:00:48 matplotlib.font_manager DEBUG    findfont: score(FontEntry(fname='/usr/share/fonts/truetype/noto/NotoSansElbasan-Regular.ttf', name='Noto Sans Elbasan', style='normal', variant='normal', weight=400, stretch='normal', size='scalable')) = 10.05\n",
      "2025-10-30 16:00:48 matplotlib.font_manager DEBUG    findfont: score(FontEntry(fname='/usr/share/fonts/opentype/stix/STIXSizeOneSym-Bold.otf', name='STIXSizeOneSym', style='normal', variant='normal', weight=700, stretch='normal', size='scalable')) = 10.335\n",
      "2025-10-30 16:00:48 matplotlib.font_manager DEBUG    findfont: score(FontEntry(fname='/usr/share/fonts/truetype/noto/NotoSansSinhala-Bold.ttf', name='Noto Sans Sinhala', style='normal', variant='normal', weight=700, stretch='normal', size='scalable')) = 10.335\n",
      "2025-10-30 16:00:48 matplotlib.font_manager DEBUG    findfont: score(FontEntry(fname='/usr/share/fonts/truetype/gentium-basic/GenBkBasB.ttf', name='Gentium Book Basic', style='normal', variant='normal', weight=700, stretch='normal', size='scalable')) = 10.335\n",
      "2025-10-30 16:00:48 matplotlib.font_manager DEBUG    findfont: score(FontEntry(fname='/usr/share/fonts/truetype/liberation/LiberationSans-Regular.ttf', name='Liberation Sans', style='normal', variant='normal', weight=400, stretch='normal', size='scalable')) = 10.05\n",
      "2025-10-30 16:00:48 matplotlib.font_manager DEBUG    findfont: score(FontEntry(fname='/usr/share/fonts/truetype/lato/Lato-Italic.ttf', name='Lato', style='italic', variant='normal', weight=400, stretch='normal', size='scalable')) = 11.05\n",
      "2025-10-30 16:00:48 matplotlib.font_manager DEBUG    findfont: score(FontEntry(fname='/usr/share/fonts/opentype/ebgaramond/EBGaramond12-Italic.otf', name='EB Garamond', style='italic', variant='normal', weight=400, stretch='normal', size='scalable')) = 11.05\n",
      "2025-10-30 16:00:48 matplotlib.font_manager DEBUG    findfont: score(FontEntry(fname='/usr/share/fonts/opentype/noto/NotoSerifCJK-Bold.ttc', name='Noto Serif CJK JP', style='normal', variant='normal', weight=700, stretch='normal', size='scalable')) = 10.335\n",
      "2025-10-30 16:00:48 matplotlib.font_manager DEBUG    findfont: score(FontEntry(fname='/usr/share/fonts/truetype/noto/NotoSansUgaritic-Regular.ttf', name='Noto Sans Ugaritic', style='normal', variant='normal', weight=400, stretch='normal', size='scalable')) = 10.05\n",
      "2025-10-30 16:00:48 matplotlib.font_manager DEBUG    findfont: score(FontEntry(fname='/usr/share/fonts/truetype/droid/DroidSansFallbackFull.ttf', name='Droid Sans Fallback', style='normal', variant='normal', weight=400, stretch='normal', size='scalable')) = 10.05\n",
      "2025-10-30 16:00:48 matplotlib.font_manager DEBUG    findfont: score(FontEntry(fname='/usr/share/fonts/truetype/croscore/Arimo-Bold.ttf', name='Arimo', style='normal', variant='normal', weight=700, stretch='normal', size='scalable')) = 10.335\n",
      "2025-10-30 16:00:48 matplotlib.font_manager DEBUG    findfont: score(FontEntry(fname='/usr/share/fonts/truetype/fonts-yrsa-rasa/Rasa-Light.ttf', name='Rasa', style='normal', variant='normal', weight=300, stretch='normal', size='scalable')) = 10.145\n",
      "2025-10-30 16:00:48 matplotlib.font_manager DEBUG    findfont: score(FontEntry(fname='/usr/share/fonts/truetype/noto/NotoSansMyanmar-Regular.ttf', name='Noto Sans Myanmar', style='normal', variant='normal', weight=400, stretch='normal', size='scalable')) = 10.05\n",
      "2025-10-30 16:00:48 matplotlib.font_manager DEBUG    findfont: score(FontEntry(fname='/usr/share/fonts/opentype/urw-base35/NimbusMonoPS-Bold.otf', name='Nimbus Mono PS', style='normal', variant='normal', weight=700, stretch='normal', size='scalable')) = 10.335\n",
      "2025-10-30 16:00:48 matplotlib.font_manager DEBUG    findfont: score(FontEntry(fname='/usr/share/fonts/truetype/tlwg/TlwgMono.ttf', name='Tlwg Mono', style='normal', variant='normal', weight=400, stretch='normal', size='scalable')) = 10.05\n",
      "2025-10-30 16:00:48 matplotlib.font_manager DEBUG    findfont: score(FontEntry(fname='/usr/share/fonts/truetype/unfonts-extra/UnYetgul.ttf', name='UnYetgul', style='normal', variant='normal', weight=700, stretch='normal', size='scalable')) = 10.335\n",
      "2025-10-30 16:00:48 matplotlib.font_manager DEBUG    findfont: score(FontEntry(fname='/usr/share/fonts/opentype/urw-base35/StandardSymbolsPS.otf', name='Standard Symbols PS', style='normal', variant='normal', weight=400, stretch='normal', size='scalable')) = 10.05\n",
      "2025-10-30 16:00:48 matplotlib.font_manager DEBUG    findfont: score(FontEntry(fname='/usr/share/fonts/truetype/roboto/unhinted/RobotoTTF/Roboto-BlackItalic.ttf', name='Roboto', style='italic', variant='normal', weight=900, stretch='normal', size='scalable')) = 11.525\n",
      "2025-10-30 16:00:48 matplotlib.font_manager DEBUG    findfont: score(FontEntry(fname='/usr/share/fonts/truetype/roboto/unhinted/RobotoTTF/Roboto-Thin.ttf', name='Roboto', style='normal', variant='normal', weight=250, stretch='normal', size='scalable')) = 10.1925\n",
      "2025-10-30 16:00:48 matplotlib.font_manager DEBUG    findfont: score(FontEntry(fname='/usr/share/fonts/fonts-go/Go-Smallcaps-Italic.ttf', name='Go Smallcaps', style='italic', variant='normal', weight=400, stretch='normal', size='scalable')) = 11.05\n",
      "2025-10-30 16:00:48 matplotlib.font_manager DEBUG    findfont: score(FontEntry(fname='/usr/share/fonts/truetype/noto/NotoSansCham-Bold.ttf', name='Noto Sans Cham', style='normal', variant='normal', weight=700, stretch='normal', size='scalable')) = 10.335\n",
      "2025-10-30 16:00:48 matplotlib.font_manager DEBUG    findfont: score(FontEntry(fname='/usr/share/fonts/truetype/dejavu/DejaVuSans.ttf', name='DejaVu Sans', style='normal', variant='normal', weight=400, stretch='normal', size='scalable')) = 0.05\n",
      "2025-10-30 16:00:48 matplotlib.font_manager DEBUG    findfont: score(FontEntry(fname='/usr/share/fonts/truetype/noto/NotoSansAvestan-Regular.ttf', name='Noto Sans Avestan', style='normal', variant='normal', weight=400, stretch='normal', size='scalable')) = 10.05\n",
      "2025-10-30 16:00:48 matplotlib.font_manager DEBUG    findfont: score(FontEntry(fname='/usr/share/fonts/truetype/dejavu/DejaVuSans-Bold.ttf', name='DejaVu Sans', style='normal', variant='normal', weight=700, stretch='normal', size='scalable')) = 0.33499999999999996\n",
      "2025-10-30 16:00:48 matplotlib.font_manager DEBUG    findfont: score(FontEntry(fname='/usr/share/fonts/truetype/ttf-bitstream-vera/VeraIt.ttf', name='Bitstream Vera Sans', style='oblique', variant='normal', weight=400, stretch='normal', size='scalable')) = 1.9590909090909092\n",
      "2025-10-30 16:00:48 matplotlib.font_manager DEBUG    findfont: score(FontEntry(fname='/usr/share/fonts/truetype/sinhala/lklug.ttf', name='LKLUG', style='normal', variant='normal', weight=400, stretch='normal', size='scalable')) = 10.05\n",
      "2025-10-30 16:00:48 matplotlib.font_manager DEBUG    findfont: score(FontEntry(fname='/usr/share/fonts/truetype/freefont/FreeMonoOblique.ttf', name='FreeMono', style='oblique', variant='normal', weight=400, stretch='normal', size='scalable')) = 11.05\n",
      "2025-10-30 16:00:48 matplotlib.font_manager DEBUG    findfont: score(FontEntry(fname='/usr/share/fonts/truetype/noto/NotoSansDisplay-Italic.ttf', name='Noto Sans Display', style='italic', variant='normal', weight=400, stretch='normal', size='scalable')) = 11.05\n",
      "2025-10-30 16:00:48 matplotlib.font_manager DEBUG    findfont: score(FontEntry(fname='/usr/share/fonts/opentype/urw-base35/P052-Italic.otf', name='P052', style='italic', variant='normal', weight=400, stretch='normal', size='scalable')) = 11.05\n",
      "2025-10-30 16:00:48 matplotlib.font_manager DEBUG    findfont: score(FontEntry(fname='/usr/share/fonts/truetype/msttcorefonts/georgiaz.ttf', name='Georgia', style='italic', variant='normal', weight=700, stretch='normal', size='scalable')) = 11.335\n",
      "2025-10-30 16:00:48 matplotlib.font_manager DEBUG    findfont: score(FontEntry(fname='/usr/share/fonts/truetype/arphic-bkai00mp/bkai00mp.ttf', name='AR PL KaitiM Big5', style='normal', variant='normal', weight=400, stretch='normal', size='scalable')) = 10.05\n",
      "2025-10-30 16:00:48 matplotlib.font_manager DEBUG    findfont: score(FontEntry(fname='/usr/share/fonts/truetype/msttcorefonts/trebucbi.ttf', name='Trebuchet MS', style='italic', variant='normal', weight=700, stretch='normal', size='scalable')) = 11.335\n",
      "2025-10-30 16:00:48 matplotlib.font_manager DEBUG    findfont: score(FontEntry(fname='/usr/share/fonts/truetype/adf/GilliusADFNo2-Bold.otf', name='Gillius ADF No2', style='normal', variant='normal', weight=700, stretch='normal', size='scalable')) = 10.335\n",
      "2025-10-30 16:00:48 matplotlib.font_manager DEBUG    findfont: score(FontEntry(fname='/usr/share/fonts/truetype/fonts-gujr-extra/padmaa.ttf', name='padmaa', style='normal', variant='normal', weight=500, stretch='normal', size='scalable')) = 10.145\n",
      "2025-10-30 16:00:48 matplotlib.font_manager DEBUG    findfont: score(FontEntry(fname='/usr/share/fonts/truetype/noto/NotoSansArmenian-Bold.ttf', name='Noto Sans Armenian', style='normal', variant='normal', weight=700, stretch='normal', size='scalable')) = 10.335\n",
      "2025-10-30 16:00:48 matplotlib.font_manager DEBUG    findfont: score(FontEntry(fname='/usr/share/fonts/truetype/liberation/LiberationMono-BoldItalic.ttf', name='Liberation Mono', style='italic', variant='normal', weight=700, stretch='normal', size='scalable')) = 11.335\n",
      "2025-10-30 16:00:48 matplotlib.font_manager DEBUG    findfont: score(FontEntry(fname='/usr/share/fonts/truetype/msttcorefonts/Verdana_Bold_Italic.ttf', name='Verdana', style='italic', variant='normal', weight=700, stretch='normal', size='scalable')) = 4.971363636363637\n",
      "2025-10-30 16:00:48 matplotlib.font_manager DEBUG    findfont: score(FontEntry(fname='/usr/share/fonts/truetype/noto/NotoSansHanifiRohingya-Regular.ttf', name='Noto Sans Hanifi Rohingya', style='normal', variant='normal', weight=400, stretch='normal', size='scalable')) = 10.05\n",
      "2025-10-30 16:00:48 matplotlib.font_manager DEBUG    findfont: score(FontEntry(fname='/usr/share/fonts/opentype/tlwg/Kinnari-Italic.otf', name='Kinnari', style='italic', variant='normal', weight=400, stretch='normal', size='scalable')) = 11.05\n",
      "2025-10-30 16:00:48 matplotlib.font_manager DEBUG    findfont: score(FontEntry(fname='/usr/share/fonts/opentype/lobstertwo/LobsterTwo-Italic.otf', name='Lobster Two', style='italic', variant='normal', weight=400, stretch='normal', size='scalable')) = 11.05\n",
      "2025-10-30 16:00:48 matplotlib.font_manager DEBUG    findfont: score(FontEntry(fname='/usr/share/fonts/truetype/dejavu/DejaVuSerifCondensed-BoldItalic.ttf', name='DejaVu Serif', style='italic', variant='normal', weight=700, stretch='condensed', size='scalable')) = 11.535\n",
      "2025-10-30 16:00:48 matplotlib.font_manager DEBUG    findfont: score(FontEntry(fname='/usr/share/fonts/opentype/urw-base35/NimbusMonoPS-Italic.otf', name='Nimbus Mono PS', style='italic', variant='normal', weight=400, stretch='normal', size='scalable')) = 11.05\n",
      "2025-10-30 16:00:48 matplotlib.font_manager DEBUG    findfont: score(FontEntry(fname='/usr/share/fonts/truetype/msttcorefonts/webdings.ttf', name='Webdings', style='normal', variant='normal', weight=400, stretch='normal', size='scalable')) = 10.05\n",
      "2025-10-30 16:00:48 matplotlib.font_manager DEBUG    findfont: score(FontEntry(fname='/usr/share/fonts/truetype/kacst/KacstFarsi.ttf', name='KacstFarsi', style='normal', variant='normal', weight=500, stretch='normal', size='scalable')) = 10.145\n",
      "2025-10-30 16:00:48 matplotlib.font_manager DEBUG    findfont: score(FontEntry(fname='/usr/share/fonts/truetype/unfonts-extra/UnShinmun.ttf', name='UnShinmun', style='normal', variant='normal', weight=400, stretch='normal', size='scalable')) = 10.05\n",
      "2025-10-30 16:00:48 matplotlib.font_manager DEBUG    findfont: score(FontEntry(fname='/usr/share/fonts/truetype/noto/NotoSansKhmer-Bold.ttf', name='Noto Sans Khmer', style='normal', variant='normal', weight=700, stretch='normal', size='scalable')) = 10.335\n",
      "2025-10-30 16:00:48 matplotlib.font_manager DEBUG    findfont: score(FontEntry(fname='/usr/share/fonts/truetype/croscore/Arimo-Italic.ttf', name='Arimo', style='italic', variant='normal', weight=400, stretch='normal', size='scalable')) = 11.05\n",
      "2025-10-30 16:00:48 matplotlib.font_manager DEBUG    findfont: score(FontEntry(fname='/usr/share/fonts/truetype/noto/NotoSansPhagsPa-Regular.ttf', name='Noto Sans PhagsPa', style='normal', variant='normal', weight=400, stretch='normal', size='scalable')) = 10.05\n",
      "2025-10-30 16:00:48 matplotlib.font_manager DEBUG    findfont: score(FontEntry(fname='/usr/share/fonts/truetype/msttcorefonts/timesbd.ttf', name='Times New Roman', style='normal', variant='normal', weight=700, stretch='normal', size='scalable')) = 10.335\n",
      "2025-10-30 16:00:48 matplotlib.font_manager DEBUG    findfont: score(FontEntry(fname='/usr/share/fonts/truetype/crosextra/Caladea-BoldItalic.ttf', name='Caladea', style='italic', variant='normal', weight=700, stretch='normal', size='scalable')) = 11.335\n",
      "2025-10-30 16:00:48 matplotlib.font_manager DEBUG    findfont: score(FontEntry(fname='/usr/share/fonts/opentype/tlwg/TlwgMono-BoldOblique.otf', name='Tlwg Mono', style='oblique', variant='normal', weight=700, stretch='normal', size='scalable')) = 11.335\n",
      "2025-10-30 16:00:48 matplotlib.font_manager DEBUG    findfont: score(FontEntry(fname='/usr/share/fonts/truetype/adf/UniversalisADFStd-Cond.otf', name='Universalis ADF Std', style='normal', variant='normal', weight=400, stretch='condensed', size='scalable')) = 10.25\n",
      "2025-10-30 16:00:48 matplotlib.font_manager DEBUG    findfont: score(FontEntry(fname='/usr/share/fonts/opentype/cantarell/Cantarell-Thin.otf', name='Cantarell', style='normal', variant='normal', weight=100, stretch='normal', size='scalable')) = 10.335\n",
      "2025-10-30 16:00:48 matplotlib.font_manager DEBUG    findfont: score(FontEntry(fname='/usr/share/fonts/truetype/adf/BerenisADFPro-Italic.otf', name='Berenis ADF Pro', style='italic', variant='normal', weight=400, stretch='normal', size='scalable')) = 11.05\n",
      "2025-10-30 16:00:48 matplotlib.font_manager DEBUG    findfont: score(FontEntry(fname='/usr/share/fonts/opentype/urw-base35/C059-Italic.otf', name='C059', style='italic', variant='normal', weight=400, stretch='normal', size='scalable')) = 11.05\n",
      "2025-10-30 16:00:48 matplotlib.font_manager DEBUG    findfont: score(FontEntry(fname='/usr/share/fonts/truetype/tlwg/Kinnari.ttf', name='Kinnari', style='normal', variant='normal', weight=400, stretch='normal', size='scalable')) = 10.05\n",
      "2025-10-30 16:00:48 matplotlib.font_manager DEBUG    findfont: score(FontEntry(fname='/usr/share/fonts/opentype/linux-libertine/LinLibertine_RZ.otf', name='Linux Libertine O', style='normal', variant='normal', weight=600, stretch='normal', size='scalable')) = 10.24\n",
      "2025-10-30 16:00:48 matplotlib.font_manager DEBUG    findfont: score(FontEntry(fname='/usr/share/fonts/truetype/tlwg/TlwgTypo-Bold.ttf', name='Tlwg Typo', style='normal', variant='normal', weight=700, stretch='normal', size='scalable')) = 10.335\n",
      "2025-10-30 16:00:48 matplotlib.font_manager DEBUG    findfont: score(FontEntry(fname='/usr/share/fonts/opentype/stix/STIXSizeFiveSym-Regular.otf', name='STIXSizeFiveSym', style='normal', variant='normal', weight=400, stretch='normal', size='scalable')) = 10.05\n",
      "2025-10-30 16:00:48 matplotlib.font_manager DEBUG    findfont: score(FontEntry(fname='/usr/share/fonts/truetype/freefont/FreeSerif.ttf', name='FreeSerif', style='normal', variant='normal', weight=400, stretch='normal', size='scalable')) = 10.05\n",
      "2025-10-30 16:00:48 matplotlib.font_manager DEBUG    findfont: score(FontEntry(fname='/usr/share/fonts/truetype/noto/NotoSansIndicSiyaqNumbers-Regular.ttf', name='Noto Sans Indic Siyaq Numbers', style='normal', variant='normal', weight=400, stretch='normal', size='scalable')) = 10.05\n",
      "2025-10-30 16:00:48 matplotlib.font_manager DEBUG    findfont: score(FontEntry(fname='/usr/share/fonts/opentype/freefont/FreeSansBold.otf', name='FreeSans', style='normal', variant='normal', weight=600, stretch='normal', size='scalable')) = 10.24\n",
      "2025-10-30 16:00:48 matplotlib.font_manager DEBUG    findfont: score(FontEntry(fname='/usr/share/fonts/truetype/tlwg/TlwgTypo-BoldOblique.ttf', name='Tlwg Typo', style='oblique', variant='normal', weight=700, stretch='normal', size='scalable')) = 11.335\n",
      "2025-10-30 16:00:48 matplotlib.font_manager DEBUG    findfont: score(FontEntry(fname='/usr/share/fonts/opentype/cabin/Cabin-SemiBold.otf', name='Cabin', style='normal', variant='normal', weight=600, stretch='normal', size='scalable')) = 10.24\n",
      "2025-10-30 16:00:48 matplotlib.font_manager DEBUG    findfont: score(FontEntry(fname='/usr/share/fonts/truetype/noto/NotoSansCanadianAboriginal-Regular.ttf', name='Noto Sans Canadian Aboriginal', style='normal', variant='normal', weight=400, stretch='normal', size='scalable')) = 10.05\n",
      "2025-10-30 16:00:48 matplotlib.font_manager DEBUG    findfont: score(FontEntry(fname='/usr/share/fonts/opentype/tlwg/Sawasdee-BoldOblique.otf', name='Sawasdee', style='oblique', variant='normal', weight=700, stretch='normal', size='scalable')) = 11.335\n",
      "2025-10-30 16:00:48 matplotlib.font_manager DEBUG    findfont: score(FontEntry(fname='/usr/share/fonts/truetype/kacst/KacstOffice.ttf', name='KacstOffice', style='normal', variant='normal', weight=500, stretch='normal', size='scalable')) = 10.145\n",
      "2025-10-30 16:00:48 matplotlib.font_manager DEBUG    findfont: score(FontEntry(fname='/usr/share/fonts/truetype/fonts-telu-extra/vemana2000.ttf', name='Vemana2000', style='normal', variant='normal', weight=400, stretch='normal', size='scalable')) = 10.05\n",
      "2025-10-30 16:00:48 matplotlib.font_manager DEBUG    findfont: score(FontEntry(fname='/usr/share/fonts/opentype/fonts-hosny-amiri/Amiri-Bold.ttf', name='Amiri', style='normal', variant='normal', weight=700, stretch='normal', size='scalable')) = 10.335\n",
      "2025-10-30 16:00:48 matplotlib.font_manager DEBUG    findfont: score(FontEntry(fname='/usr/share/fonts/truetype/adf/BerenisADFProMath-Regular.otf', name='Berenis ADF Pro Math', style='normal', variant='normal', weight=400, stretch='normal', size='scalable')) = 10.05\n",
      "2025-10-30 16:00:48 matplotlib.font_manager DEBUG    findfont: score(FontEntry(fname='/usr/share/fonts/opentype/tlwg/TlwgMono.otf', name='Tlwg Mono', style='normal', variant='normal', weight=400, stretch='normal', size='scalable')) = 10.05\n",
      "2025-10-30 16:00:48 matplotlib.font_manager DEBUG    findfont: score(FontEntry(fname='/usr/share/fonts/truetype/noto/NotoSansBuhid-Regular.ttf', name='Noto Sans Buhid', style='normal', variant='normal', weight=400, stretch='normal', size='scalable')) = 10.05\n",
      "2025-10-30 16:00:48 matplotlib.font_manager DEBUG    findfont: score(FontEntry(fname='/usr/share/fonts/truetype/noto/NotoSerifTamilSlanted-Regular.ttf', name='Noto Serif Tamil Slanted', style='normal', variant='normal', weight=400, stretch='normal', size='scalable')) = 10.05\n",
      "2025-10-30 16:00:48 matplotlib.font_manager DEBUG    findfont: score(FontEntry(fname='/usr/share/fonts/truetype/noto/NotoSansTibetan-Regular.ttf', name='Noto Sans Tibetan', style='normal', variant='normal', weight=400, stretch='normal', size='scalable')) = 10.05\n",
      "2025-10-30 16:00:48 matplotlib.font_manager DEBUG    findfont: score(FontEntry(fname='/usr/share/fonts/truetype/noto/NotoSansYi-Regular.ttf', name='Noto Sans Yi', style='normal', variant='normal', weight=400, stretch='normal', size='scalable')) = 10.05\n",
      "2025-10-30 16:00:48 matplotlib.font_manager DEBUG    findfont: score(FontEntry(fname='/usr/share/fonts/truetype/fonts-deva-extra/kalimati.ttf', name='Kalimati', style='normal', variant='normal', weight=400, stretch='normal', size='scalable')) = 10.05\n",
      "2025-10-30 16:00:48 matplotlib.font_manager DEBUG    findfont: score(FontEntry(fname='/usr/share/fonts/truetype/tlwg/Purisa-BoldOblique.ttf', name='Purisa', style='oblique', variant='normal', weight=700, stretch='normal', size='scalable')) = 11.335\n",
      "2025-10-30 16:00:48 matplotlib.font_manager DEBUG    findfont: score(FontEntry(fname='/usr/share/fonts/truetype/noto/NotoSansHebrew-Regular.ttf', name='Noto Sans Hebrew', style='normal', variant='normal', weight=400, stretch='normal', size='scalable')) = 10.05\n",
      "2025-10-30 16:00:48 matplotlib.font_manager DEBUG    findfont: score(FontEntry(fname='/usr/share/fonts/truetype/noto/NotoSansOldSogdian-Regular.ttf', name='Noto Sans Old Sogdian', style='normal', variant='normal', weight=400, stretch='normal', size='scalable')) = 10.05\n",
      "2025-10-30 16:00:48 matplotlib.font_manager DEBUG    findfont: score(FontEntry(fname='/usr/share/fonts/truetype/lato/Lato-SemiboldItalic.ttf', name='Lato', style='italic', variant='normal', weight=600, stretch='normal', size='scalable')) = 11.24\n",
      "2025-10-30 16:00:48 matplotlib.font_manager DEBUG    findfont: score(FontEntry(fname='/usr/share/fonts/truetype/noto/NotoSerifSinhala-Regular.ttf', name='Noto Serif Sinhala', style='normal', variant='normal', weight=400, stretch='normal', size='scalable')) = 10.05\n",
      "2025-10-30 16:00:48 matplotlib.font_manager DEBUG    findfont: score(FontEntry(fname='/usr/share/fonts/truetype/noto/NotoSansBrahmi-Regular.ttf', name='Noto Sans Brahmi', style='normal', variant='normal', weight=400, stretch='normal', size='scalable')) = 10.05\n",
      "2025-10-30 16:00:48 matplotlib.font_manager DEBUG    findfont: score(FontEntry(fname='/usr/share/fonts/truetype/lato/Lato-Heavy.ttf', name='Lato', style='normal', variant='normal', weight=800, stretch='normal', size='scalable')) = 10.43\n",
      "2025-10-30 16:00:48 matplotlib.font_manager DEBUG    findfont: score(FontEntry(fname='/usr/share/fonts/truetype/noto/NotoSerifHebrew-Regular.ttf', name='Noto Serif Hebrew', style='normal', variant='normal', weight=400, stretch='normal', size='scalable')) = 10.05\n",
      "2025-10-30 16:00:48 matplotlib.font_manager DEBUG    findfont: score(FontEntry(fname='/usr/share/fonts/truetype/baekmuk/gulim.ttf', name='Baekmuk Gulim', style='normal', variant='normal', weight=400, stretch='normal', size='scalable')) = 10.05\n",
      "2025-10-30 16:00:48 matplotlib.font_manager DEBUG    findfont: score(FontEntry(fname='/usr/share/fonts/truetype/junicode/Junicode-Bold.ttf', name='Junicode', style='normal', variant='normal', weight=600, stretch='normal', size='scalable')) = 10.24\n",
      "2025-10-30 16:00:48 matplotlib.font_manager DEBUG    findfont: score(FontEntry(fname='/usr/share/fonts/truetype/font-awesome/fontawesome-webfont.ttf', name='FontAwesome', style='normal', variant='normal', weight=400, stretch='normal', size='scalable')) = 10.05\n",
      "2025-10-30 16:00:48 matplotlib.font_manager DEBUG    findfont: score(FontEntry(fname='/usr/share/fonts/opentype/tlwg/Garuda-BoldOblique.otf', name='Garuda', style='oblique', variant='normal', weight=700, stretch='normal', size='scalable')) = 11.335\n",
      "2025-10-30 16:00:48 matplotlib.font_manager DEBUG    findfont: score(FontEntry(fname='/usr/share/fonts/opentype/tlwg/Sawasdee-Oblique.otf', name='Sawasdee', style='oblique', variant='normal', weight=400, stretch='normal', size='scalable')) = 11.05\n",
      "2025-10-30 16:00:48 matplotlib.font_manager DEBUG    findfont: score(FontEntry(fname='/usr/share/fonts/truetype/croscore/Cousine-Bold.ttf', name='Cousine', style='normal', variant='normal', weight=700, stretch='normal', size='scalable')) = 10.335\n",
      "2025-10-30 16:00:48 matplotlib.font_manager DEBUG    findfont: score(FontEntry(fname='/usr/share/fonts/opentype/malayalam/Gayathri-Regular.otf', name='Gayathri', style='normal', variant='normal', weight=400, stretch='normal', size='scalable')) = 10.05\n",
      "2025-10-30 16:00:48 matplotlib.font_manager DEBUG    findfont: score(FontEntry(fname='/usr/share/fonts/truetype/gentium-basic/GenBkBasBI.ttf', name='Gentium Book Basic', style='italic', variant='normal', weight=700, stretch='normal', size='scalable')) = 11.335\n",
      "2025-10-30 16:00:48 matplotlib.font_manager DEBUG    findfont: score(FontEntry(fname='/usr/share/fonts/truetype/ubuntu/Ubuntu-M.ttf', name='Ubuntu', style='normal', variant='normal', weight=500, stretch='normal', size='scalable')) = 10.145\n",
      "2025-10-30 16:00:48 matplotlib.font_manager DEBUG    findfont: score(FontEntry(fname='/usr/share/fonts/opentype/lobstertwo/LobsterTwo-BoldItalic.otf', name='Lobster Two', style='italic', variant='normal', weight=700, stretch='normal', size='scalable')) = 11.335\n",
      "2025-10-30 16:00:48 matplotlib.font_manager DEBUG    findfont: score(FontEntry(fname='/usr/share/fonts/truetype/tlwg/TlwgMono-BoldOblique.ttf', name='Tlwg Mono', style='oblique', variant='normal', weight=700, stretch='normal', size='scalable')) = 11.335\n",
      "2025-10-30 16:00:48 matplotlib.font_manager DEBUG    findfont: score(FontEntry(fname='/usr/share/fonts/opentype/lobstertwo/LobsterTwo-Regular.otf', name='Lobster Two', style='normal', variant='normal', weight=400, stretch='normal', size='scalable')) = 10.05\n",
      "2025-10-30 16:00:48 matplotlib.font_manager DEBUG    findfont: score(FontEntry(fname='/usr/share/fonts/opentype/linux-libertine/LinBiolinum_RI.otf', name='Linux Biolinum O', style='italic', variant='normal', weight=400, stretch='normal', size='scalable')) = 11.05\n",
      "2025-10-30 16:00:48 matplotlib.font_manager DEBUG    findfont: score(FontEntry(fname='/usr/share/fonts/truetype/noto/NotoSansTamil-Regular.ttf', name='Noto Sans Tamil', style='normal', variant='normal', weight=400, stretch='normal', size='scalable')) = 10.05\n",
      "2025-10-30 16:00:48 matplotlib.font_manager DEBUG    findfont: score(FontEntry(fname='/usr/share/fonts/truetype/noto/NotoSansMalayalam-Bold.ttf', name='Noto Sans Malayalam', style='normal', variant='normal', weight=700, stretch='normal', size='scalable')) = 10.335\n",
      "2025-10-30 16:00:48 matplotlib.font_manager DEBUG    findfont: score(FontEntry(fname='/usr/share/fonts/truetype/unfonts-core/UnGraphic.ttf', name='UnGraphic', style='normal', variant='normal', weight=400, stretch='normal', size='scalable')) = 10.05\n",
      "2025-10-30 16:00:48 matplotlib.font_manager DEBUG    findfont: score(FontEntry(fname='/usr/share/fonts/truetype/noto/NotoSansArmenian-Regular.ttf', name='Noto Sans Armenian', style='normal', variant='normal', weight=400, stretch='normal', size='scalable')) = 10.05\n",
      "2025-10-30 16:00:48 matplotlib.font_manager DEBUG    findfont: score(FontEntry(fname='/usr/share/fonts/truetype/adf/GilliusADF-Bold.otf', name='Gillius ADF', style='normal', variant='normal', weight=700, stretch='normal', size='scalable')) = 10.335\n",
      "2025-10-30 16:00:48 matplotlib.font_manager DEBUG    findfont: score(FontEntry(fname='/usr/share/fonts/truetype/noto/NotoSerifKhmer-Regular.ttf', name='Noto Serif Khmer', style='normal', variant='normal', weight=400, stretch='normal', size='scalable')) = 10.05\n",
      "2025-10-30 16:00:48 matplotlib.font_manager DEBUG    findfont: score(FontEntry(fname='/usr/share/fonts/truetype/lohit-punjabi/Lohit-Gurmukhi.ttf', name='Lohit Gurmukhi', style='normal', variant='normal', weight=400, stretch='normal', size='scalable')) = 10.05\n",
      "2025-10-30 16:00:48 matplotlib.font_manager DEBUG    findfont: score(FontEntry(fname='/usr/share/fonts/truetype/tlwg/Waree.ttf', name='Waree', style='normal', variant='normal', weight=400, stretch='normal', size='scalable')) = 10.05\n",
      "2025-10-30 16:00:48 matplotlib.font_manager DEBUG    findfont: score(FontEntry(fname='/usr/share/fonts/truetype/Gargi/Gargi.ttf', name='Gargi', style='normal', variant='normal', weight=400, stretch='normal', size='scalable')) = 10.05\n",
      "2025-10-30 16:00:48 matplotlib.font_manager DEBUG    findfont: score(FontEntry(fname='/usr/share/fonts/truetype/fonts-beng-extra/LikhanNormal.ttf', name='Likhan', style='normal', variant='normal', weight=500, stretch='normal', size='scalable')) = 10.145\n",
      "2025-10-30 16:00:48 matplotlib.font_manager DEBUG    findfont: score(FontEntry(fname='/usr/share/fonts/truetype/junicode/Junicode.ttf', name='Junicode', style='normal', variant='normal', weight=400, stretch='normal', size='scalable')) = 10.05\n",
      "2025-10-30 16:00:48 matplotlib.font_manager DEBUG    findfont: score(FontEntry(fname='/usr/share/fonts/truetype/ebgaramond/EBGaramond12-AllSC.ttf', name='EB Garamond 12 All SC', style='normal', variant='normal', weight=400, stretch='normal', size='scalable')) = 10.05\n",
      "2025-10-30 16:00:48 matplotlib.font_manager DEBUG    findfont: score(FontEntry(fname='/usr/share/fonts/truetype/croscore/Arimo-Regular.ttf', name='Arimo', style='normal', variant='normal', weight=400, stretch='normal', size='scalable')) = 10.05\n",
      "2025-10-30 16:00:48 matplotlib.font_manager DEBUG    findfont: score(FontEntry(fname='/usr/share/fonts/truetype/noto/NotoSans-Italic.ttf', name='Noto Sans', style='italic', variant='normal', weight=400, stretch='normal', size='scalable')) = 11.05\n",
      "2025-10-30 16:00:48 matplotlib.font_manager DEBUG    findfont: score(FontEntry(fname='/usr/share/fonts/truetype/ubuntu/Ubuntu-L.ttf', name='Ubuntu', style='normal', variant='normal', weight=300, stretch='normal', size='scalable')) = 10.145\n",
      "2025-10-30 16:00:48 matplotlib.font_manager DEBUG    findfont: score(FontEntry(fname='/usr/share/fonts/truetype/msttcorefonts/verdanai.ttf', name='Verdana', style='italic', variant='normal', weight=400, stretch='normal', size='scalable')) = 4.6863636363636365\n",
      "2025-10-30 16:00:48 matplotlib.font_manager DEBUG    findfont: score(FontEntry(fname='/usr/share/fonts/truetype/msttcorefonts/Comic_Sans_MS.ttf', name='Comic Sans MS', style='normal', variant='normal', weight=400, stretch='normal', size='scalable')) = 10.05\n",
      "2025-10-30 16:00:48 matplotlib.font_manager DEBUG    findfont: score(FontEntry(fname='/usr/share/fonts/truetype/open-sans/OpenSans-CondLight.ttf', name='Open Sans', style='normal', variant='normal', weight=300, stretch='condensed', size='scalable')) = 10.344999999999999\n",
      "2025-10-30 16:00:48 matplotlib.font_manager DEBUG    findfont: score(FontEntry(fname='/usr/share/fonts/truetype/liberation/LiberationSans-Italic.ttf', name='Liberation Sans', style='italic', variant='normal', weight=400, stretch='normal', size='scalable')) = 11.05\n",
      "2025-10-30 16:00:48 matplotlib.font_manager DEBUG    findfont: score(FontEntry(fname='/usr/share/fonts/truetype/roboto/unhinted/RobotoTTF/Roboto-Italic.ttf', name='Roboto', style='italic', variant='normal', weight=400, stretch='normal', size='scalable')) = 11.05\n",
      "2025-10-30 16:00:48 matplotlib.font_manager DEBUG    findfont: score(FontEntry(fname='/usr/share/fonts/truetype/dejavu/DejaVuSansCondensed.ttf', name='DejaVu Sans', style='normal', variant='normal', weight=400, stretch='condensed', size='scalable')) = 0.25\n",
      "2025-10-30 16:00:48 matplotlib.font_manager DEBUG    findfont: score(FontEntry(fname='/usr/share/fonts/opentype/tlwg/TlwgTypo-Bold.otf', name='Tlwg Typo', style='normal', variant='normal', weight=700, stretch='normal', size='scalable')) = 10.335\n",
      "2025-10-30 16:00:48 matplotlib.font_manager DEBUG    findfont: score(FontEntry(fname='/usr/share/fonts/truetype/ttf-bitstream-vera/VeraBI.ttf', name='Bitstream Vera Sans', style='oblique', variant='normal', weight=700, stretch='normal', size='scalable')) = 2.244090909090909\n",
      "2025-10-30 16:00:48 matplotlib.font_manager DEBUG    findfont: score(FontEntry(fname='/usr/share/fonts/truetype/adf/AccanthisADFStdNo3-BoldItalic.otf', name='Accanthis ADF Std No3', style='italic', variant='normal', weight=700, stretch='normal', size='scalable')) = 11.335\n",
      "2025-10-30 16:00:48 matplotlib.font_manager DEBUG    findfont: score(FontEntry(fname='/usr/share/fonts/opentype/urw-base35/C059-Bold.otf', name='C059', style='normal', variant='normal', weight=700, stretch='normal', size='scalable')) = 10.335\n",
      "2025-10-30 16:00:48 matplotlib.font_manager DEBUG    findfont: score(FontEntry(fname='/usr/share/fonts/opentype/stix/STIXIntegralsSm-Bold.otf', name='STIXIntegralsSm', style='normal', variant='normal', weight=700, stretch='normal', size='scalable')) = 10.335\n",
      "2025-10-30 16:00:48 matplotlib.font_manager DEBUG    findfont: score(FontEntry(fname='/usr/share/fonts/truetype/lyx/msam10.ttf', name='msam10', style='normal', variant='normal', weight=400, stretch='normal', size='scalable')) = 10.05\n",
      "2025-10-30 16:00:48 matplotlib.font_manager DEBUG    findfont: score(FontEntry(fname='/usr/share/fonts/truetype/msttcorefonts/trebuc.ttf', name='Trebuchet MS', style='normal', variant='normal', weight=400, stretch='normal', size='scalable')) = 10.05\n",
      "2025-10-30 16:00:48 matplotlib.font_manager DEBUG    findfont: score(FontEntry(fname='/usr/share/fonts/truetype/lohit-tamil/Lohit-Tamil.ttf', name='Lohit Tamil', style='normal', variant='normal', weight=400, stretch='normal', size='scalable')) = 10.05\n",
      "2025-10-30 16:00:48 matplotlib.font_manager DEBUG    findfont: score(FontEntry(fname='/usr/share/fonts/truetype/unfonts-core/UnDinaru.ttf', name='UnDinaru', style='normal', variant='normal', weight=400, stretch='normal', size='scalable')) = 10.05\n",
      "2025-10-30 16:00:48 matplotlib.font_manager DEBUG    findfont: score(FontEntry(fname='/usr/share/fonts/truetype/tlwg/Garuda.ttf', name='Garuda', style='normal', variant='normal', weight=400, stretch='normal', size='scalable')) = 10.05\n",
      "2025-10-30 16:00:48 matplotlib.font_manager DEBUG    findfont: score(FontEntry(fname='/usr/share/fonts/truetype/noto/NotoSansPalmyrene-Regular.ttf', name='Noto Sans Palmyrene', style='normal', variant='normal', weight=400, stretch='normal', size='scalable')) = 10.05\n",
      "2025-10-30 16:00:48 matplotlib.font_manager DEBUG    findfont: score(FontEntry(fname='/usr/share/fonts/truetype/kacst/KacstTitle.ttf', name='KacstTitle', style='normal', variant='normal', weight=500, stretch='normal', size='scalable')) = 10.145\n",
      "2025-10-30 16:00:48 matplotlib.font_manager DEBUG    findfont: score(FontEntry(fname='/usr/share/fonts/truetype/kacst/KacstDecorative.ttf', name='KacstDecorative', style='normal', variant='normal', weight=500, stretch='normal', size='scalable')) = 10.145\n",
      "2025-10-30 16:00:48 matplotlib.font_manager DEBUG    findfont: score(FontEntry(fname='/usr/share/fonts/truetype/noto/NotoSansOldSouthArabian-Regular.ttf', name='Noto Sans Old South Arabian', style='normal', variant='normal', weight=400, stretch='normal', size='scalable')) = 10.05\n",
      "2025-10-30 16:00:48 matplotlib.font_manager DEBUG    findfont: score(FontEntry(fname='/usr/share/fonts/opentype/malayalam/Gayathri-Bold.otf', name='Gayathri', style='normal', variant='normal', weight=700, stretch='normal', size='scalable')) = 10.335\n",
      "2025-10-30 16:00:48 matplotlib.font_manager DEBUG    findfont: score(FontEntry(fname='/usr/share/fonts/truetype/noto/NotoSansPsalterPahlavi-Regular.ttf', name='Noto Sans Psalter Pahlavi', style='normal', variant='normal', weight=400, stretch='normal', size='scalable')) = 10.05\n",
      "2025-10-30 16:00:48 matplotlib.font_manager DEBUG    findfont: score(FontEntry(fname='/usr/share/fonts/truetype/fonts-deva-extra/samanata.ttf', name='Samanata', style='normal', variant='normal', weight=400, stretch='normal', size='scalable')) = 10.05\n",
      "2025-10-30 16:00:48 matplotlib.font_manager DEBUG    findfont: score(FontEntry(fname='/usr/share/fonts/truetype/noto/NotoSerifDisplay-Italic.ttf', name='Noto Serif Display', style='italic', variant='normal', weight=400, stretch='normal', size='scalable')) = 11.05\n",
      "2025-10-30 16:00:48 matplotlib.font_manager DEBUG    findfont: score(FontEntry(fname='/usr/share/fonts/truetype/roboto/unhinted/RobotoCondensed-Bold.ttf', name='Roboto Condensed', style='normal', variant='normal', weight=700, stretch='condensed', size='scalable')) = 10.535\n",
      "2025-10-30 16:00:48 matplotlib.font_manager DEBUG    findfont: score(FontEntry(fname='/usr/share/fonts/truetype/noto/NotoSansRejang-Regular.ttf', name='Noto Sans Rejang', style='normal', variant='normal', weight=400, stretch='normal', size='scalable')) = 10.05\n",
      "2025-10-30 16:00:48 matplotlib.font_manager DEBUG    findfont: score(FontEntry(fname='/usr/share/fonts/truetype/fonts-japanese-mincho.ttf', name='IPAexMincho', style='normal', variant='normal', weight=400, stretch='normal', size='scalable')) = 10.05\n",
      "2025-10-30 16:00:48 matplotlib.font_manager DEBUG    findfont: score(FontEntry(fname='/usr/share/fonts/truetype/noto/NotoSansTibetan-Bold.ttf', name='Noto Sans Tibetan', style='normal', variant='normal', weight=700, stretch='normal', size='scalable')) = 10.335\n",
      "2025-10-30 16:00:48 matplotlib.font_manager DEBUG    findfont: score(FontEntry(fname='/usr/share/fonts/opentype/stix/STIXIntegralsUp-Bold.otf', name='STIXIntegralsUp', style='normal', variant='normal', weight=700, stretch='normal', size='scalable')) = 10.335\n",
      "2025-10-30 16:00:48 matplotlib.font_manager DEBUG    findfont: score(FontEntry(fname='/usr/share/fonts/truetype/unfonts-extra/UnJamoSora.ttf', name='UnJamoSora', style='normal', variant='normal', weight=400, stretch='normal', size='scalable')) = 10.05\n",
      "2025-10-30 16:00:48 matplotlib.font_manager DEBUG    findfont: score(FontEntry(fname='/usr/share/fonts/opentype/fonts-hosny-amiri/AmiriQuran.ttf', name='Amiri Quran', style='normal', variant='normal', weight=400, stretch='normal', size='scalable')) = 10.05\n",
      "2025-10-30 16:00:48 matplotlib.font_manager DEBUG    findfont: score(FontEntry(fname='/usr/share/fonts/truetype/lato/Lato-Medium.ttf', name='Lato', style='normal', variant='normal', weight=500, stretch='normal', size='scalable')) = 10.145\n",
      "2025-10-30 16:00:48 matplotlib.font_manager DEBUG    findfont: score(FontEntry(fname='/usr/share/fonts/truetype/noto/NotoSansGujarati-Bold.ttf', name='Noto Sans Gujarati', style='normal', variant='normal', weight=700, stretch='normal', size='scalable')) = 10.335\n",
      "2025-10-30 16:00:48 matplotlib.font_manager DEBUG    findfont: score(FontEntry(fname='/usr/share/fonts/opentype/tlwg/Umpush-Bold.otf', name='Umpush', style='normal', variant='normal', weight=700, stretch='normal', size='scalable')) = 10.335\n",
      "2025-10-30 16:00:48 matplotlib.font_manager DEBUG    findfont: score(FontEntry(fname='/usr/share/fonts/truetype/noto/NotoSansMyanmar-Bold.ttf', name='Noto Sans Myanmar', style='normal', variant='normal', weight=700, stretch='normal', size='scalable')) = 10.335\n",
      "2025-10-30 16:00:48 matplotlib.font_manager DEBUG    findfont: score(FontEntry(fname='/usr/share/fonts/truetype/msttcorefonts/Arial_Black.ttf', name='Arial Black', style='normal', variant='normal', weight=400, stretch='normal', size='scalable')) = 10.05\n",
      "2025-10-30 16:00:48 matplotlib.font_manager DEBUG    findfont: score(FontEntry(fname='/usr/share/fonts/truetype/msttcorefonts/Trebuchet_MS_Bold_Italic.ttf', name='Trebuchet MS', style='italic', variant='normal', weight=700, stretch='normal', size='scalable')) = 11.335\n",
      "2025-10-30 16:00:48 matplotlib.font_manager DEBUG    findfont: score(FontEntry(fname='/usr/share/fonts/truetype/solomos/GFSSolomos.otf', name='GFS Solomos', style='normal', variant='normal', weight=400, stretch='normal', size='scalable')) = 10.05\n",
      "2025-10-30 16:00:48 matplotlib.font_manager DEBUG    findfont: score(FontEntry(fname='/usr/share/fonts/truetype/noto/NotoSansThai-Regular.ttf', name='Noto Sans Thai', style='normal', variant='normal', weight=400, stretch='normal', size='scalable')) = 10.05\n",
      "2025-10-30 16:00:48 matplotlib.font_manager DEBUG    findfont: score(FontEntry(fname='/usr/share/fonts/opentype/stix/STIXGeneral-BoldItalic.otf', name='STIXGeneral', style='italic', variant='normal', weight=700, stretch='normal', size='scalable')) = 11.335\n",
      "2025-10-30 16:00:48 matplotlib.font_manager DEBUG    findfont: score(FontEntry(fname='/usr/share/fonts/truetype/open-sans/OpenSans-ExtraBoldItalic.ttf', name='Open Sans', style='italic', variant='normal', weight=800, stretch='normal', size='scalable')) = 11.43\n",
      "2025-10-30 16:00:48 matplotlib.font_manager DEBUG    findfont: score(FontEntry(fname='/usr/share/fonts/truetype/noto/NotoSansTaiTham-Regular.ttf', name='Noto Sans Tai Tham', style='normal', variant='normal', weight=400, stretch='normal', size='scalable')) = 10.05\n",
      "2025-10-30 16:00:48 matplotlib.font_manager DEBUG    findfont: score(FontEntry(fname='/usr/share/fonts/opentype/stix/STIXIntegralsUpD-Regular.otf', name='STIXIntegralsUpD', style='normal', variant='normal', weight=400, stretch='normal', size='scalable')) = 10.05\n",
      "2025-10-30 16:00:48 matplotlib.font_manager DEBUG    findfont: score(FontEntry(fname='/usr/share/fonts/truetype/noto/NotoSerifTamil-Regular.ttf', name='Noto Serif Tamil', style='normal', variant='normal', weight=400, stretch='normal', size='scalable')) = 10.05\n",
      "2025-10-30 16:00:48 matplotlib.font_manager DEBUG    findfont: score(FontEntry(fname='/usr/share/fonts/truetype/noto/NotoSansBuginese-Regular.ttf', name='Noto Sans Buginese', style='normal', variant='normal', weight=400, stretch='normal', size='scalable')) = 10.05\n",
      "2025-10-30 16:00:48 matplotlib.font_manager DEBUG    findfont: score(FontEntry(fname='/usr/share/fonts/truetype/noto/NotoSansTelugu-Bold.ttf', name='Noto Sans Telugu', style='normal', variant='normal', weight=700, stretch='normal', size='scalable')) = 10.335\n",
      "2025-10-30 16:00:48 matplotlib.font_manager DEBUG    findfont: score(FontEntry(fname='/usr/share/fonts/truetype/msttcorefonts/Georgia.ttf', name='Georgia', style='normal', variant='normal', weight=400, stretch='normal', size='scalable')) = 10.05\n",
      "2025-10-30 16:00:48 matplotlib.font_manager DEBUG    findfont: score(FontEntry(fname='/usr/share/fonts/truetype/tlwg/Garuda-BoldOblique.ttf', name='Garuda', style='oblique', variant='normal', weight=700, stretch='normal', size='scalable')) = 11.335\n",
      "2025-10-30 16:00:48 matplotlib.font_manager DEBUG    findfont: score(FontEntry(fname='/usr/share/fonts/opentype/linux-libertine/LinBiolinum_RB.otf', name='Linux Biolinum O', style='normal', variant='normal', weight=700, stretch='normal', size='scalable')) = 10.335\n",
      "2025-10-30 16:00:48 matplotlib.font_manager DEBUG    findfont: score(FontEntry(fname='/usr/share/fonts/truetype/Gubbi/Gubbi.ttf', name='Gubbi', style='normal', variant='normal', weight=400, stretch='normal', size='scalable')) = 10.05\n",
      "2025-10-30 16:00:48 matplotlib.font_manager DEBUG    findfont: score(FontEntry(fname='/usr/share/fonts/truetype/noto/NotoSansAnatolianHieroglyphs-Regular.ttf', name='Noto Sans Anatolian Hieroglyphs', style='normal', variant='normal', weight=400, stretch='normal', size='scalable')) = 10.05\n",
      "2025-10-30 16:00:48 matplotlib.font_manager DEBUG    findfont: score(FontEntry(fname='/usr/share/fonts/truetype/liberation2/LiberationSerif-BoldItalic.ttf', name='Liberation Serif', style='italic', variant='normal', weight=700, stretch='normal', size='scalable')) = 11.335\n",
      "2025-10-30 16:00:48 matplotlib.font_manager DEBUG    findfont: score(FontEntry(fname='/usr/share/fonts/truetype/ttf-bitstream-vera/VeraMoBI.ttf', name='Bitstream Vera Sans Mono', style='oblique', variant='normal', weight=700, stretch='normal', size='scalable')) = 11.335\n",
      "2025-10-30 16:00:48 matplotlib.font_manager DEBUG    findfont: score(FontEntry(fname='/usr/share/fonts/truetype/tlwg/TlwgTypist-Oblique.ttf', name='Tlwg Typist', style='oblique', variant='normal', weight=400, stretch='normal', size='scalable')) = 11.05\n",
      "2025-10-30 16:00:48 matplotlib.font_manager DEBUG    findfont: score(FontEntry(fname='/usr/share/fonts/truetype/noto/NotoSerifDevanagari-Bold.ttf', name='Noto Serif Devanagari', style='normal', variant='normal', weight=700, stretch='normal', size='scalable')) = 10.335\n",
      "2025-10-30 16:00:48 matplotlib.font_manager DEBUG    findfont: score(FontEntry(fname='/usr/share/fonts/truetype/tlwg/Kinnari-Italic.ttf', name='Kinnari', style='italic', variant='normal', weight=400, stretch='normal', size='scalable')) = 11.05\n",
      "2025-10-30 16:00:48 matplotlib.font_manager DEBUG    findfont: score(FontEntry(fname='/usr/share/fonts/truetype/tlwg/Kinnari-Bold.ttf', name='Kinnari', style='normal', variant='normal', weight=700, stretch='normal', size='scalable')) = 10.335\n",
      "2025-10-30 16:00:48 matplotlib.font_manager DEBUG    findfont: score(FontEntry(fname='/usr/share/fonts/truetype/tlwg/Umpush-Light.ttf', name='Umpush', style='normal', variant='normal', weight=300, stretch='normal', size='scalable')) = 10.145\n",
      "2025-10-30 16:00:48 matplotlib.font_manager DEBUG    findfont: score(FontEntry(fname='/usr/share/fonts/truetype/kacst/KacstScreen.ttf', name='KacstScreen', style='normal', variant='normal', weight=500, stretch='normal', size='scalable')) = 10.145\n",
      "2025-10-30 16:00:48 matplotlib.font_manager DEBUG    findfont: score(FontEntry(fname='/usr/share/fonts/truetype/noto/NotoSansMono-Bold.ttf', name='Noto Sans Mono', style='normal', variant='normal', weight=700, stretch='normal', size='scalable')) = 10.335\n",
      "2025-10-30 16:00:48 matplotlib.font_manager DEBUG    findfont: score(FontEntry(fname='/usr/share/fonts/truetype/noto/NotoSerifMyanmar-Regular.ttf', name='Noto Serif Myanmar', style='normal', variant='normal', weight=400, stretch='normal', size='scalable')) = 10.05\n",
      "2025-10-30 16:00:48 matplotlib.font_manager DEBUG    findfont: score(FontEntry(fname='/usr/share/fonts/truetype/noto/NotoSansOldNorthArabian-Regular.ttf', name='Noto Sans Old North Arabian', style='normal', variant='normal', weight=400, stretch='normal', size='scalable')) = 10.05\n",
      "2025-10-30 16:00:48 matplotlib.font_manager DEBUG    findfont: score(FontEntry(fname='/usr/share/fonts/truetype/noto/NotoSerifDogra-Regular.ttf', name='Noto Serif Dogra', style='normal', variant='normal', weight=400, stretch='normal', size='scalable')) = 10.05\n",
      "2025-10-30 16:00:48 matplotlib.font_manager DEBUG    findfont: score(FontEntry(fname='/usr/share/fonts/truetype/msttcorefonts/ariblk.ttf', name='Arial Black', style='normal', variant='normal', weight=400, stretch='normal', size='scalable')) = 10.05\n",
      "2025-10-30 16:00:48 matplotlib.font_manager DEBUG    findfont: score(FontEntry(fname='/usr/share/fonts/truetype/noto/NotoSansGeorgian-Bold.ttf', name='Noto Sans Georgian', style='normal', variant='normal', weight=700, stretch='normal', size='scalable')) = 10.335\n",
      "2025-10-30 16:00:48 matplotlib.font_manager DEBUG    findfont: score(FontEntry(fname='/usr/share/fonts/truetype/ubuntu/Ubuntu-RI.ttf', name='Ubuntu', style='italic', variant='normal', weight=400, stretch='normal', size='scalable')) = 11.05\n",
      "2025-10-30 16:00:48 matplotlib.font_manager DEBUG    findfont: score(FontEntry(fname='/usr/share/fonts/truetype/noto/NotoSansEthiopic-Bold.ttf', name='Noto Sans Ethiopic', style='normal', variant='normal', weight=700, stretch='normal', size='scalable')) = 10.335\n",
      "2025-10-30 16:00:48 matplotlib.font_manager DEBUG    findfont: score(FontEntry(fname='/usr/share/fonts/truetype/noto/NotoSerifAhom-Regular.ttf', name='Noto Serif Ahom', style='normal', variant='normal', weight=400, stretch='normal', size='scalable')) = 10.05\n",
      "2025-10-30 16:00:48 matplotlib.font_manager DEBUG    findfont: score(FontEntry(fname='/usr/share/fonts/truetype/malayalam/Uroob-Regular.ttf', name='Uroob', style='normal', variant='normal', weight=400, stretch='normal', size='scalable')) = 10.05\n",
      "2025-10-30 16:00:48 matplotlib.font_manager DEBUG    findfont: score(FontEntry(fname='/usr/share/fonts/opentype/stix/STIXIntegralsUpSm-Regular.otf', name='STIXIntegralsUpSm', style='normal', variant='normal', weight=400, stretch='normal', size='scalable')) = 10.05\n",
      "2025-10-30 16:00:48 matplotlib.font_manager DEBUG    findfont: score(FontEntry(fname='/usr/share/fonts/truetype/noto/NotoSansKhudawadi-Regular.ttf', name='Noto Sans Khudawadi', style='normal', variant='normal', weight=400, stretch='normal', size='scalable')) = 10.05\n",
      "2025-10-30 16:00:48 matplotlib.font_manager DEBUG    findfont: score(FontEntry(fname='/usr/share/fonts/truetype/fonts-gujr-extra/padmaa-Bold.1.1.ttf', name='padmaa-Bold.1.1', style='normal', variant='normal', weight=700, stretch='normal', size='scalable')) = 10.335\n",
      "2025-10-30 16:00:48 matplotlib.font_manager DEBUG    findfont: score(FontEntry(fname='/usr/share/fonts/truetype/theokritos/GFSTheokritos.otf', name='GFS Theokritos', style='normal', variant='normal', weight=400, stretch='normal', size='scalable')) = 10.05\n",
      "2025-10-30 16:00:48 matplotlib.font_manager DEBUG    findfont: score(FontEntry(fname='/usr/share/fonts/truetype/liberation/LiberationMono-Regular.ttf', name='Liberation Mono', style='normal', variant='normal', weight=400, stretch='normal', size='scalable')) = 10.05\n",
      "2025-10-30 16:00:48 matplotlib.font_manager DEBUG    findfont: score(FontEntry(fname='/usr/share/fonts/truetype/ubuntu/Ubuntu-Th.ttf', name='Ubuntu', style='normal', variant='normal', weight=250, stretch='normal', size='scalable')) = 10.1925\n",
      "2025-10-30 16:00:48 matplotlib.font_manager DEBUG    findfont: score(FontEntry(fname='/usr/share/fonts/truetype/msttcorefonts/Times_New_Roman_Bold.ttf', name='Times New Roman', style='normal', variant='normal', weight=700, stretch='normal', size='scalable')) = 10.335\n",
      "2025-10-30 16:00:48 matplotlib.font_manager DEBUG    findfont: score(FontEntry(fname='/usr/share/fonts/truetype/msttcorefonts/trebucit.ttf', name='Trebuchet MS', style='italic', variant='normal', weight=400, stretch='normal', size='scalable')) = 11.05\n",
      "2025-10-30 16:00:48 matplotlib.font_manager DEBUG    findfont: score(FontEntry(fname='/usr/share/fonts/truetype/noto/NotoSansOsmanya-Regular.ttf', name='Noto Sans Osmanya', style='normal', variant='normal', weight=400, stretch='normal', size='scalable')) = 10.05\n",
      "2025-10-30 16:00:48 matplotlib.font_manager DEBUG    findfont: score(FontEntry(fname='/usr/share/fonts/opentype/tlwg/Kinnari-Bold.otf', name='Kinnari', style='normal', variant='normal', weight=700, stretch='normal', size='scalable')) = 10.335\n",
      "2025-10-30 16:00:48 matplotlib.font_manager DEBUG    findfont: score(FontEntry(fname='/usr/share/fonts/truetype/fonts-gujr-extra/padmaa-Medium-0.5.ttf', name='padmaa', style='normal', variant='normal', weight=500, stretch='normal', size='scalable')) = 10.145\n",
      "2025-10-30 16:00:48 matplotlib.font_manager DEBUG    findfont: score(FontEntry(fname='/usr/share/fonts/truetype/ebgaramond/EBGaramond12-Regular.ttf', name='EB Garamond', style='normal', variant='normal', weight=400, stretch='normal', size='scalable')) = 10.05\n",
      "2025-10-30 16:00:48 matplotlib.font_manager DEBUG    findfont: score(FontEntry(fname='/usr/share/fonts/truetype/msttcorefonts/cour.ttf', name='Courier New', style='normal', variant='normal', weight=400, stretch='normal', size='scalable')) = 10.05\n",
      "2025-10-30 16:00:48 matplotlib.font_manager DEBUG    findfont: score(FontEntry(fname='/usr/share/fonts/truetype/noto/NotoSansMeroitic-Regular.ttf', name='Noto Sans Meroitic', style='normal', variant='normal', weight=400, stretch='normal', size='scalable')) = 10.05\n",
      "2025-10-30 16:00:48 matplotlib.font_manager DEBUG    findfont: score(FontEntry(fname='/usr/share/fonts/truetype/noto/NotoSansArabic-Bold.ttf', name='Noto Sans Arabic', style='normal', variant='normal', weight=700, stretch='normal', size='scalable')) = 10.335\n",
      "2025-10-30 16:00:48 matplotlib.font_manager DEBUG    findfont: score(FontEntry(fname='/usr/share/fonts/fonts-go/Go-Smallcaps.ttf', name='Go Smallcaps', style='normal', variant='normal', weight=400, stretch='normal', size='scalable')) = 10.05\n",
      "2025-10-30 16:00:48 matplotlib.font_manager DEBUG    findfont: score(FontEntry(fname='/usr/share/fonts/truetype/artemisia/GFSArtemisia.otf', name='GFS Artemisia', style='normal', variant='normal', weight=400, stretch='normal', size='scalable')) = 10.05\n",
      "2025-10-30 16:00:48 matplotlib.font_manager DEBUG    findfont: score(FontEntry(fname='/usr/share/fonts/truetype/roboto/unhinted/RobotoCondensed-Medium.ttf', name='Roboto Condensed', style='normal', variant='normal', weight=500, stretch='condensed', size='scalable')) = 10.344999999999999\n",
      "2025-10-30 16:00:48 matplotlib.font_manager DEBUG    findfont: score(FontEntry(fname='/usr/share/fonts/opentype/tlwg/Laksaman-Italic.otf', name='Laksaman', style='italic', variant='normal', weight=400, stretch='normal', size='scalable')) = 11.05\n",
      "2025-10-30 16:00:48 matplotlib.font_manager DEBUG    findfont: score(FontEntry(fname='/usr/share/fonts/truetype/malayalam/RaghuMalayalamSans-Regular.ttf', name='RaghuMalayalamSans', style='normal', variant='normal', weight=400, stretch='normal', size='scalable')) = 10.05\n",
      "2025-10-30 16:00:48 matplotlib.font_manager DEBUG    findfont: score(FontEntry(fname='/usr/share/fonts/truetype/lato/Lato-Regular.ttf', name='Lato', style='normal', variant='normal', weight=400, stretch='normal', size='scalable')) = 10.05\n",
      "2025-10-30 16:00:48 matplotlib.font_manager DEBUG    findfont: score(FontEntry(fname='/usr/share/fonts/truetype/msttcorefonts/courbd.ttf', name='Courier New', style='normal', variant='normal', weight=700, stretch='normal', size='scalable')) = 10.335\n",
      "2025-10-30 16:00:48 matplotlib.font_manager DEBUG    findfont: score(FontEntry(fname='/usr/share/fonts/truetype/lyx/cmsy10.ttf', name='cmsy10', style='normal', variant='normal', weight=400, stretch='normal', size='scalable')) = 10.05\n",
      "2025-10-30 16:00:48 matplotlib.font_manager DEBUG    findfont: score(FontEntry(fname='/usr/share/fonts/truetype/noto/NotoSerifGujarati-Regular.ttf', name='Noto Serif Gujarati', style='normal', variant='normal', weight=400, stretch='normal', size='scalable')) = 10.05\n",
      "2025-10-30 16:00:48 matplotlib.font_manager DEBUG    findfont: score(FontEntry(fname='/usr/share/fonts/opentype/urw-base35/C059-Roman.otf', name='C059', style='normal', variant='normal', weight=400, stretch='normal', size='scalable')) = 10.05\n",
      "2025-10-30 16:00:48 matplotlib.font_manager DEBUG    findfont: score(FontEntry(fname='/usr/share/fonts/truetype/gentiumplus/GentiumPlus-I.ttf', name='Gentium Plus', style='italic', variant='normal', weight=400, stretch='normal', size='scalable')) = 11.05\n",
      "2025-10-30 16:00:48 matplotlib.font_manager DEBUG    findfont: score(FontEntry(fname='/usr/share/fonts/truetype/liberation2/LiberationSans-Italic.ttf', name='Liberation Sans', style='italic', variant='normal', weight=400, stretch='normal', size='scalable')) = 11.05\n",
      "2025-10-30 16:00:48 matplotlib.font_manager DEBUG    findfont: score(FontEntry(fname='/usr/share/fonts/truetype/lyx/cmr10.ttf', name='cmr10', style='normal', variant='normal', weight=400, stretch='normal', size='scalable')) = 10.05\n",
      "2025-10-30 16:00:48 matplotlib.font_manager DEBUG    findfont: score(FontEntry(fname='/usr/share/fonts/truetype/kacst-one/KacstOne-Bold.ttf', name='KacstOne', style='normal', variant='normal', weight=700, stretch='normal', size='scalable')) = 10.335\n",
      "2025-10-30 16:00:48 matplotlib.font_manager DEBUG    findfont: score(FontEntry(fname='/usr/share/fonts/truetype/liberation2/LiberationMono-Italic.ttf', name='Liberation Mono', style='italic', variant='normal', weight=400, stretch='normal', size='scalable')) = 11.05\n",
      "2025-10-30 16:00:48 matplotlib.font_manager DEBUG    findfont: score(FontEntry(fname='/usr/share/fonts/truetype/samyak-fonts/Samyak-Gujarati.ttf', name='Samyak Gujarati', style='normal', variant='normal', weight=500, stretch='normal', size='scalable')) = 10.145\n",
      "2025-10-30 16:00:48 matplotlib.font_manager DEBUG    findfont: score(FontEntry(fname='/usr/share/fonts/truetype/Nakula/nakula.ttf', name='Nakula', style='normal', variant='normal', weight=400, stretch='normal', size='scalable')) = 10.05\n",
      "2025-10-30 16:00:48 matplotlib.font_manager DEBUG    findfont: score(FontEntry(fname='/usr/share/fonts/truetype/noto/NotoSansCypriot-Regular.ttf', name='Noto Sans Cypriot', style='normal', variant='normal', weight=400, stretch='normal', size='scalable')) = 10.05\n",
      "2025-10-30 16:00:48 matplotlib.font_manager DEBUG    findfont: score(FontEntry(fname='/usr/share/fonts/truetype/noto/NotoSansMeeteiMayek-Regular.ttf', name='Noto Sans Meetei Mayek', style='normal', variant='normal', weight=400, stretch='normal', size='scalable')) = 10.05\n",
      "2025-10-30 16:00:48 matplotlib.font_manager DEBUG    findfont: score(FontEntry(fname='/usr/share/fonts/truetype/ebgaramond/EBGaramondSC12-Regular.ttf', name='EB Garamond SC', style='normal', variant='normal', weight=400, stretch='normal', size='scalable')) = 10.05\n",
      "2025-10-30 16:00:48 matplotlib.font_manager DEBUG    findfont: score(FontEntry(fname='/usr/share/fonts/truetype/tlwg/Sawasdee-Oblique.ttf', name='Sawasdee', style='oblique', variant='normal', weight=400, stretch='normal', size='scalable')) = 11.05\n",
      "2025-10-30 16:00:48 matplotlib.font_manager DEBUG    findfont: score(FontEntry(fname='/usr/share/fonts/truetype/liberation/LiberationSerif-BoldItalic.ttf', name='Liberation Serif', style='italic', variant='normal', weight=700, stretch='normal', size='scalable')) = 11.335\n",
      "2025-10-30 16:00:48 matplotlib.font_manager DEBUG    findfont: score(FontEntry(fname='/usr/share/fonts/truetype/noto/NotoSansOldItalic-Regular.ttf', name='Noto Sans Old Italic', style='italic', variant='normal', weight=400, stretch='normal', size='scalable')) = 11.05\n",
      "2025-10-30 16:00:48 matplotlib.font_manager DEBUG    findfont: score(FontEntry(fname='/usr/share/fonts/truetype/noto/NotoSansLimbu-Regular.ttf', name='Noto Sans Limbu', style='normal', variant='normal', weight=400, stretch='normal', size='scalable')) = 10.05\n",
      "2025-10-30 16:00:48 matplotlib.font_manager DEBUG    findfont: score(FontEntry(fname='/usr/share/fonts/opentype/ipafont-mincho/ipam.ttf', name='IPAMincho', style='normal', variant='normal', weight=400, stretch='normal', size='scalable')) = 10.05\n",
      "2025-10-30 16:00:48 matplotlib.font_manager DEBUG    findfont: score(FontEntry(fname='/usr/share/fonts/truetype/liberation/LiberationSerif-Bold.ttf', name='Liberation Serif', style='normal', variant='normal', weight=700, stretch='normal', size='scalable')) = 10.335\n",
      "2025-10-30 16:00:48 matplotlib.font_manager DEBUG    findfont: score(FontEntry(fname='/usr/share/fonts/truetype/noto/NotoSansLycian-Regular.ttf', name='Noto Sans Lycian', style='normal', variant='normal', weight=400, stretch='normal', size='scalable')) = 10.05\n",
      "2025-10-30 16:00:48 matplotlib.font_manager DEBUG    findfont: score(FontEntry(fname='/usr/share/fonts/opentype/tlwg/Purisa.otf', name='Purisa', style='normal', variant='normal', weight=400, stretch='normal', size='scalable')) = 10.05\n",
      "2025-10-30 16:00:48 matplotlib.font_manager DEBUG    findfont: score(FontEntry(fname='/usr/share/fonts/truetype/samyak-fonts/Samyak-Malayalam.ttf', name='Samyak Malayalam', style='normal', variant='normal', weight=400, stretch='normal', size='scalable')) = 10.05\n",
      "2025-10-30 16:00:48 matplotlib.font_manager DEBUG    findfont: score(FontEntry(fname='/usr/share/fonts/truetype/lohit-bengali/Lohit-Bengali.ttf', name='Lohit Bengali', style='normal', variant='normal', weight=400, stretch='normal', size='scalable')) = 10.05\n",
      "2025-10-30 16:00:48 matplotlib.font_manager DEBUG    findfont: score(FontEntry(fname='/usr/share/fonts/truetype/dejavu/DejaVuSerifCondensed-Bold.ttf', name='DejaVu Serif', style='normal', variant='normal', weight=700, stretch='condensed', size='scalable')) = 10.535\n",
      "2025-10-30 16:00:48 matplotlib.font_manager DEBUG    findfont: score(FontEntry(fname='/usr/share/fonts/opentype/urw-base35/NimbusRoman-Italic.otf', name='Nimbus Roman', style='italic', variant='normal', weight=400, stretch='normal', size='scalable')) = 11.05\n",
      "2025-10-30 16:00:48 matplotlib.font_manager DEBUG    findfont: score(FontEntry(fname='/usr/share/fonts/truetype/comfortaa/Comfortaa-Regular.ttf', name='Comfortaa', style='normal', variant='normal', weight=400, stretch='normal', size='scalable')) = 10.05\n",
      "2025-10-30 16:00:48 matplotlib.font_manager DEBUG    findfont: score(FontEntry(fname='/usr/share/fonts/truetype/msttcorefonts/Georgia_Bold.ttf', name='Georgia', style='normal', variant='normal', weight=700, stretch='normal', size='scalable')) = 10.335\n",
      "2025-10-30 16:00:48 matplotlib.font_manager DEBUG    findfont: score(FontEntry(fname='/usr/share/fonts/truetype/adf/GilliusADF-Cond.otf', name='Gillius ADF', style='normal', variant='normal', weight=400, stretch='condensed', size='scalable')) = 10.25\n",
      "2025-10-30 16:00:48 matplotlib.font_manager DEBUG    findfont: score(FontEntry(fname='/usr/share/fonts/truetype/noto/NotoSansVai-Regular.ttf', name='Noto Sans Vai', style='normal', variant='normal', weight=400, stretch='normal', size='scalable')) = 10.05\n",
      "2025-10-30 16:00:48 matplotlib.font_manager DEBUG    findfont: score(FontEntry(fname='/usr/share/fonts/truetype/msttcorefonts/andalemo.ttf', name='Andale Mono', style='normal', variant='normal', weight=400, stretch='normal', size='scalable')) = 10.05\n",
      "2025-10-30 16:00:48 matplotlib.font_manager DEBUG    findfont: score(FontEntry(fname='/usr/share/fonts/truetype/noto/NotoSansCaucasianAlbanian-Regular.ttf', name='Noto Sans Caucasian Albanian', style='normal', variant='normal', weight=400, stretch='normal', size='scalable')) = 10.05\n",
      "2025-10-30 16:00:48 matplotlib.font_manager DEBUG    findfont: score(FontEntry(fname='/usr/share/fonts/truetype/roboto/unhinted/RobotoCondensed-Italic.ttf', name='Roboto Condensed', style='italic', variant='normal', weight=400, stretch='condensed', size='scalable')) = 11.25\n",
      "2025-10-30 16:00:48 matplotlib.font_manager DEBUG    findfont: score(FontEntry(fname='/usr/share/fonts/truetype/tlwg/Garuda-Oblique.ttf', name='Garuda', style='oblique', variant='normal', weight=400, stretch='normal', size='scalable')) = 11.05\n",
      "2025-10-30 16:00:48 matplotlib.font_manager DEBUG    findfont: score(FontEntry(fname='/usr/share/fonts/truetype/unfonts-core/UnBatang.ttf', name='UnBatang', style='normal', variant='normal', weight=400, stretch='normal', size='scalable')) = 10.05\n",
      "2025-10-30 16:00:48 matplotlib.font_manager DEBUG    findfont: score(FontEntry(fname='/usr/share/fonts/opentype/linux-libertine/LinLibertine_RBI.otf', name='Linux Libertine O', style='italic', variant='normal', weight=700, stretch='normal', size='scalable')) = 11.335\n",
      "2025-10-30 16:00:48 matplotlib.font_manager DEBUG    findfont: score(FontEntry(fname='/usr/share/fonts/opentype/lobstertwo/LobsterTwo-Bold.otf', name='Lobster Two', style='normal', variant='normal', weight=700, stretch='normal', size='scalable')) = 10.335\n",
      "2025-10-30 16:00:48 matplotlib.font_manager DEBUG    findfont: score(FontEntry(fname='/usr/share/fonts/truetype/msttcorefonts/arial.ttf', name='Arial', style='normal', variant='normal', weight=400, stretch='normal', size='scalable')) = 6.413636363636363\n",
      "2025-10-30 16:00:48 matplotlib.font_manager DEBUG    findfont: score(FontEntry(fname='/usr/share/fonts/truetype/ttf-khmeros-core/KhmerOS.ttf', name='Khmer OS', style='normal', variant='normal', weight=400, stretch='normal', size='scalable')) = 10.05\n",
      "2025-10-30 16:00:48 matplotlib.font_manager DEBUG    findfont: score(FontEntry(fname='/usr/share/fonts/truetype/roboto/unhinted/RobotoTTF/Roboto-Bold.ttf', name='Roboto', style='normal', variant='normal', weight=700, stretch='normal', size='scalable')) = 10.335\n",
      "2025-10-30 16:00:48 matplotlib.font_manager DEBUG    findfont: score(FontEntry(fname='/usr/share/fonts/truetype/open-sans/OpenSans-Italic.ttf', name='Open Sans', style='italic', variant='normal', weight=400, stretch='normal', size='scalable')) = 11.05\n",
      "2025-10-30 16:00:48 matplotlib.font_manager DEBUG    findfont: score(FontEntry(fname='/usr/share/fonts/truetype/noto/NotoSerifBalinese-Regular.ttf', name='Noto Serif Balinese', style='normal', variant='normal', weight=400, stretch='normal', size='scalable')) = 10.05\n",
      "2025-10-30 16:00:48 matplotlib.font_manager DEBUG    findfont: score(FontEntry(fname='/usr/share/fonts/truetype/noto/NotoSansKannada-Bold.ttf', name='Noto Sans Kannada', style='normal', variant='normal', weight=700, stretch='normal', size='scalable')) = 10.335\n",
      "2025-10-30 16:00:48 matplotlib.font_manager DEBUG    findfont: score(FontEntry(fname='/usr/share/fonts/opentype/tlwg/TlwgMono-Oblique.otf', name='Tlwg Mono', style='oblique', variant='normal', weight=400, stretch='normal', size='scalable')) = 11.05\n",
      "2025-10-30 16:00:48 matplotlib.font_manager DEBUG    findfont: score(FontEntry(fname='/usr/share/fonts/truetype/noto/NotoSansGrantha-Regular.ttf', name='Noto Sans Grantha', style='normal', variant='normal', weight=400, stretch='normal', size='scalable')) = 10.05\n",
      "2025-10-30 16:00:48 matplotlib.font_manager DEBUG    findfont: score(FontEntry(fname='/usr/share/fonts/truetype/noto/NotoSansMongolian-Regular.ttf', name='Noto Sans Mongolian', style='normal', variant='normal', weight=400, stretch='normal', size='scalable')) = 10.05\n",
      "2025-10-30 16:00:48 matplotlib.font_manager DEBUG    findfont: score(FontEntry(fname='/usr/share/fonts/fonts-go/Go-Bold.ttf', name='Go', style='normal', variant='normal', weight=600, stretch='normal', size='scalable')) = 10.24\n",
      "2025-10-30 16:00:48 matplotlib.font_manager DEBUG    findfont: score(FontEntry(fname='/usr/share/fonts/truetype/noto/NotoSansThai-Bold.ttf', name='Noto Sans Thai', style='normal', variant='normal', weight=700, stretch='normal', size='scalable')) = 10.335\n",
      "2025-10-30 16:00:48 matplotlib.font_manager DEBUG    findfont: score(FontEntry(fname='/usr/share/fonts/truetype/msttcorefonts/impact.ttf', name='Impact', style='normal', variant='normal', weight=400, stretch='normal', size='scalable')) = 10.05\n",
      "2025-10-30 16:00:48 matplotlib.font_manager DEBUG    findfont: score(FontEntry(fname='/usr/share/fonts/opentype/cantarell/Cantarell-Regular.otf', name='Cantarell', style='normal', variant='normal', weight=400, stretch='normal', size='scalable')) = 10.05\n",
      "2025-10-30 16:00:48 matplotlib.font_manager DEBUG    findfont: score(FontEntry(fname='/usr/share/fonts/truetype/noto/NotoSansLinearA-Regular.ttf', name='Noto Sans Linear A', style='normal', variant='normal', weight=400, stretch='normal', size='scalable')) = 10.05\n",
      "2025-10-30 16:00:48 matplotlib.font_manager DEBUG    findfont: score(FontEntry(fname='/usr/share/fonts/truetype/croscore/Tinos-Bold.ttf', name='Tinos', style='normal', variant='normal', weight=700, stretch='normal', size='scalable')) = 10.335\n",
      "2025-10-30 16:00:48 matplotlib.font_manager DEBUG    findfont: score(FontEntry(fname='/usr/share/fonts/truetype/gentium-basic/GenBkBasI.ttf', name='Gentium Book Basic', style='italic', variant='normal', weight=400, stretch='normal', size='scalable')) = 11.05\n",
      "2025-10-30 16:00:48 matplotlib.font_manager DEBUG    findfont: score(FontEntry(fname='/usr/share/fonts/opentype/tlwg/TlwgTypist-BoldOblique.otf', name='Tlwg Typist', style='oblique', variant='normal', weight=700, stretch='normal', size='scalable')) = 11.335\n",
      "2025-10-30 16:00:48 matplotlib.font_manager DEBUG    findfont: score(FontEntry(fname='/usr/share/fonts/opentype/ebgaramond/EBGaramond12-Regular.otf', name='EB Garamond', style='normal', variant='normal', weight=400, stretch='normal', size='scalable')) = 10.05\n",
      "2025-10-30 16:00:48 matplotlib.font_manager DEBUG    findfont: score(FontEntry(fname='/usr/share/fonts/opentype/tlwg/Waree-BoldOblique.otf', name='Waree', style='oblique', variant='normal', weight=700, stretch='normal', size='scalable')) = 11.335\n",
      "2025-10-30 16:00:48 matplotlib.font_manager DEBUG    findfont: score(FontEntry(fname='/usr/share/fonts/truetype/unfonts-core/UnDotum.ttf', name='UnDotum', style='normal', variant='normal', weight=400, stretch='normal', size='scalable')) = 10.05\n",
      "2025-10-30 16:00:48 matplotlib.font_manager DEBUG    findfont: score(FontEntry(fname='/usr/share/fonts/truetype/dejavu/DejaVuSerif.ttf', name='DejaVu Serif', style='normal', variant='normal', weight=400, stretch='normal', size='scalable')) = 10.05\n",
      "2025-10-30 16:00:48 matplotlib.font_manager DEBUG    findfont: score(FontEntry(fname='/usr/share/fonts/truetype/crosextra/Caladea-Bold.ttf', name='Caladea', style='normal', variant='normal', weight=700, stretch='normal', size='scalable')) = 10.335\n",
      "2025-10-30 16:00:48 matplotlib.font_manager DEBUG    findfont: score(FontEntry(fname='/usr/share/fonts/opentype/tlwg/Waree-Bold.otf', name='Waree', style='normal', variant='normal', weight=700, stretch='normal', size='scalable')) = 10.335\n",
      "2025-10-30 16:00:48 matplotlib.font_manager DEBUG    findfont: score(FontEntry(fname='/usr/share/fonts/opentype/ipafont-gothic/ipagp.ttf', name='IPAPGothic', style='normal', variant='normal', weight=400, stretch='normal', size='scalable')) = 10.05\n",
      "2025-10-30 16:00:48 matplotlib.font_manager DEBUG    findfont: score(FontEntry(fname='/usr/share/fonts/truetype/noto/NotoSansJavanese-Regular.ttf', name='Noto Sans Javanese', style='normal', variant='normal', weight=400, stretch='normal', size='scalable')) = 10.05\n",
      "2025-10-30 16:00:48 matplotlib.font_manager DEBUG    findfont: score(FontEntry(fname='/usr/share/fonts/truetype/noto/NotoSansChakma-Regular.ttf', name='Noto Sans Chakma', style='normal', variant='normal', weight=400, stretch='normal', size='scalable')) = 10.05\n",
      "2025-10-30 16:00:48 matplotlib.font_manager DEBUG    findfont: score(FontEntry(fname='/usr/share/fonts/truetype/dejavu/DejaVuSans-ExtraLight.ttf', name='DejaVu Sans', style='normal', variant='normal', weight=200, stretch='normal', size='scalable')) = 0.24\n",
      "2025-10-30 16:00:48 matplotlib.font_manager DEBUG    findfont: score(FontEntry(fname='/usr/share/fonts/truetype/noto/NotoSansThaana-Regular.ttf', name='Noto Sans Thaana', style='normal', variant='normal', weight=400, stretch='normal', size='scalable')) = 10.05\n",
      "2025-10-30 16:00:48 matplotlib.font_manager DEBUG    findfont: score(FontEntry(fname='/usr/share/fonts/fonts-go/Go-Regular.ttf', name='Go', style='normal', variant='normal', weight=400, stretch='normal', size='scalable')) = 10.05\n",
      "2025-10-30 16:00:48 matplotlib.font_manager DEBUG    findfont: score(FontEntry(fname='/usr/share/fonts/truetype/lohit-devanagari/Lohit-Devanagari.ttf', name='Lohit Devanagari', style='normal', variant='normal', weight=400, stretch='normal', size='scalable')) = 10.05\n",
      "2025-10-30 16:00:48 matplotlib.font_manager DEBUG    findfont: score(FontEntry(fname='/usr/share/fonts/truetype/adf/BerenisADFPro-BoldItalic.otf', name='Berenis ADF Pro', style='italic', variant='normal', weight=700, stretch='normal', size='scalable')) = 11.335\n",
      "2025-10-30 16:00:48 matplotlib.font_manager DEBUG    findfont: score(FontEntry(fname='/usr/share/fonts/opentype/tlwg/Umpush-Oblique.otf', name='Umpush', style='oblique', variant='normal', weight=400, stretch='normal', size='scalable')) = 11.05\n",
      "2025-10-30 16:00:48 matplotlib.font_manager DEBUG    findfont: score(FontEntry(fname='/usr/share/fonts/truetype/fonts-beng-extra/JamrulNormal.ttf', name='Jamrul', style='normal', variant='normal', weight=500, stretch='normal', size='scalable')) = 10.145\n",
      "2025-10-30 16:00:48 matplotlib.font_manager DEBUG    findfont: Matching sans\\-serif:style=normal:variant=normal:weight=normal:stretch=normal:size=10.0 to DejaVu Sans ('/disk/u/arnab/miniconda3/envs/connection/lib/python3.11/site-packages/matplotlib/mpl-data/fonts/ttf/DejaVuSans.ttf') with score of 0.050000.\n"
     ]
    },
    {
     "data": {
      "image/png": "[encoded data removed]",
      "text/plain": [
       "<Figure size 640x480 with 1 Axes>"
      ]
     },
     "metadata": {},
     "output_type": "display_data"
    }
   ],
   "source": [
    "from matplotlib import pyplot as plt\n",
    "import numpy as np\n",
    "\n",
    "# optimized_path = os.path.join(\n",
    "#     env_utils.DEFAULT_RESULTS_DIR,\n",
    "#     \"selection/optimized_backup_heads\",\n",
    "#     mt.name.split(\"/\")[-1],\n",
    "#     f\"{select_task.task_name}.npz\"\n",
    "# )\n",
    "\n",
    "optimized_path = os.path.join(\n",
    "    env_utils.DEFAULT_RESULTS_DIR,\n",
    "    \"selection/optimized_heads\",\n",
    "    model_key.split(\"/\")[-1],\n",
    "    \"distinct_options\",\n",
    "    # f\"{select_task.task_name}\",\n",
    "    \"select_one\",\n",
    "    # \"legacy\",\n",
    "    \"epoch_10.npz\"\n",
    ")\n",
    "\n",
    "# optimized_path = os.path.join(\n",
    "#     env_utils.DEFAULT_RESULTS_DIR,\n",
    "#     \"test_opt_code\",\n",
    "#     model_key.split(\"/\")[-1],\n",
    "#     \"distinct_options\",\n",
    "#     f\"{select_task.task_name}\",\n",
    "#     # \"select_one\",\n",
    "#     \"legacy\",\n",
    "#     \"epoch_10.npz\"\n",
    "# )\n",
    "\n",
    "optimization_results = np.load(optimized_path, allow_pickle=True)\n",
    "plt.plot(optimization_results[\"losses\"])\n",
    "plt.show()"
   ]
  },
  {
   "cell_type": "code",
   "execution_count": 10,
   "id": "e59d8648",
   "metadata": {},
   "outputs": [
    {
     "name": "stdout",
     "output_type": "stream",
     "text": [
      "79\n"
     ]
    },
    {
     "data": {
      "text/plain": [
       "(True, True)"
      ]
     },
     "execution_count": 10,
     "metadata": {},
     "output_type": "execute_result"
    },
    {
     "data": {
      "image/png": "[encoded data removed]",
      "text/plain": [
       "<Figure size 2000x1000 with 1 Axes>"
      ]
     },
     "metadata": {},
     "output_type": "display_data"
    }
   ],
   "source": [
    "plt.figure(figsize=(20, 10))\n",
    "\n",
    "optimal_head_mask = torch.tensor(optimization_results[\"optimal_mask\"]).to(torch.float32)\n",
    "optimal_head_mask[52:, :] = 0.0\n",
    "\n",
    "plt.imshow(\n",
    "    optimal_head_mask.T.numpy(),\n",
    "    cmap=\"Blues\",\n",
    "    aspect=\"auto\",\n",
    "    vmin=0,\n",
    "    vmax=1,\n",
    ")\n",
    "\n",
    "optimized_heads = torch.nonzero(optimal_head_mask > 0.5, as_tuple=False).tolist()\n",
    "optimized_heads = [\n",
    "    (layer_idx, head_idx) for layer_idx, head_idx in optimized_heads\n",
    "]\n",
    "print(len(optimized_heads))\n",
    "\n",
    "HEADS = optimized_heads\n",
    "\n",
    "(35, 19) in HEADS, (35, 19) in optimized_heads\n",
    "# [(29, 3) in HEADS]"
   ]
  },
  {
   "cell_type": "code",
   "execution_count": 11,
   "id": "44b9d51b",
   "metadata": {},
   "outputs": [
    {
     "name": "stdout",
     "output_type": "stream",
     "text": [
      "['name', 'prompt_templates', 'categories']\n",
      "SelectOneTask: (rhymes with different sounds)\n",
      "Categories: oo(10), ee(10), ay(10), ai(10), oh(10), et(10), at(10), ight(10), ake(10), ing(10), own(10)\n",
      "\n"
     ]
    }
   ],
   "source": [
    "from src.selection.data  import SelectOneTask\n",
    "\n",
    "select_task = SelectOneTask.load(\n",
    "    path=os.path.join(\n",
    "        env_utils.DEFAULT_DATA_DIR,\n",
    "        \"selection\",\n",
    "        \"rhymes.json\"\n",
    "    )\n",
    ")\n",
    "\n",
    "print(select_task)"
   ]
  },
  {
   "cell_type": "code",
   "execution_count": 12,
   "id": "75538067",
   "metadata": {},
   "outputs": [
    {
     "name": "stdout",
     "output_type": "stream",
     "text": [
      "ight >> ['plight', 'might', 'fight', 'right', 'light', 'bright', 'flight', 'sight', 'night', 'tight']\n",
      "Options: bring, flee, way, way, yet, light.\n",
      "Which of these words rhymes with right?\n",
      "Answer: >>  light\n"
     ]
    }
   ],
   "source": [
    "sample = select_task.get_random_sample(\n",
    "    mt=mt, \n",
    "    # category=\"politician\",\n",
    "    filter_by_lm_prediction=True,\n",
    "    prompt_template_idx=3,\n",
    "    n_distractors=5,\n",
    ")\n",
    "print(sample.prompt(), \">>\", mt.tokenizer.decode(sample.ans_token_id))"
   ]
  },
  {
   "cell_type": "code",
   "execution_count": 39,
   "id": "b73f4fb7",
   "metadata": {},
   "outputs": [
    {
     "name": "stdout",
     "output_type": "stream",
     "text": [
      "2025-10-30 16:37:02 src.selection.functional DEBUG    Predictions: ['\" \"[220] (p=0.824, logit=21.875)', '\" The\"[578] (p=0.087, logit=19.625)', '\" \\n\"[720] (p=0.028, logit=18.500)', '\" To\"[2057] (p=0.008, logit=17.250)', '\" A\"[362] (p=0.007, logit=17.125)']\n",
      "2025-10-30 16:37:02 src.selection.functional INFO     Combined attention matrix for all heads\n"
     ]
    },
    {
     "data": {
      "text/html": [
       "<div id=\"circuits-vis-459a95d7-8762\" style=\"margin: 15px 0;\"/>\n",
       "    <script crossorigin type=\"module\">\n",
       "    import { render, ColoredTokens } from \"https://unpkg.com/circuitsvis@1.43.3/dist/cdn/esm.js\";\n",
       "    render(\n",
       "      \"circuits-vis-459a95d7-8762\",\n",
       "      ColoredTokens,\n",
       "      {\"tokens\": [\"Which\", \" of\", \" these\", \" numbers\", \" is\", \" a\", \" multiple\", \" of\", \" \", \"3\", \"?\", \" \\n\", \"options\", \":\", \" \", \"43\", \",\", \" \", \"57\", \",\", \" \", \"55\", \",\", \" \", \"62\", \",\", \" \", \"39\", \" \\n\", \"Answer\", \":\"], \"values\": [0.022998375818133354, 0.005533072166144848, 0.002575702965259552, 0.009169035591185093, 0.008487285114824772, 0.005712971091270447, 0.01851518824696541, 0.007503050845116377, 0.002753616776317358, 0.024812988936901093, 0.02286461926996708, 0.01192422490566969, 0.007167408708482981, 0.005397899076342583, 0.009724967181682587, 0.01698365993797779, 0.012887978926301003, 0.013020177371799946, 0.08245849609375, 0.01145172119140625, 0.021833045408129692, 0.015297156758606434, 0.009683964774012566, 0.006563439965248108, 0.010130480863153934, 0.005656519904732704, 0.007241575047373772, 0.07608862966299057, 0.0346250906586647, 0.02111094258725643, 0.04864075779914856]}\n",
       "    )\n",
       "    </script>"
      ],
      "text/plain": [
       "<circuitsvis.utils.render.RenderedHTML at 0x7efec773f210>"
      ]
     },
     "metadata": {},
     "output_type": "display_data"
    },
    {
     "data": {
      "text/plain": [
       "[PredictedToken(token=' ', prob=0.82421875, logit=21.875, token_id=220, metadata=None),\n",
       " PredictedToken(token=' The', prob=0.0869140625, logit=19.625, token_id=578, metadata=None),\n",
       " PredictedToken(token=' \\n', prob=0.0281982421875, logit=18.5, token_id=720, metadata=None),\n",
       " PredictedToken(token=' To', prob=0.00811767578125, logit=17.25, token_id=2057, metadata=None),\n",
       " PredictedToken(token=' A', prob=0.00714111328125, logit=17.125, token_id=362, metadata=None)]"
      ]
     },
     "execution_count": 39,
     "metadata": {},
     "output_type": "execute_result"
    }
   ],
   "source": [
    "from src.selection.functional import verify_head_patterns\n",
    "prompt=sample.prompt()\n",
    "\n",
    "# prompt = \"\"\"Which person from the following list has their occupation in common with Samuel L. Jackson? \n",
    "# Options: Norah O'Donnell, Julia Roberts, Rory McIlroy, Petra Kvitová, Christian Louboutin, Wes Anderson. \n",
    "# Answer:\"\"\"\n",
    "\n",
    "# prompt = \"\"\"options: \n",
    "# 1. The Space Needle \n",
    "# 2. Louvre Museum \n",
    "# 3. Colosseum \n",
    "# 4. Christ the Redeemer \n",
    "# 5. State of Liberty \n",
    "# 6. Big Ben \n",
    "# Which of these landmarks is located in England?\n",
    "# Answer:\"\"\"\n",
    "\n",
    "prompt = \"\"\"Which of these numbers is a multiple of 3? \n",
    "options: 43, 57, 55, 62, 39 \n",
    "Answer:\"\"\"\n",
    "\n",
    "# prompt = \"\"\"John is taller than Bob, but shorter than Steve. Who is the shortest? \n",
    "# Ans:\"\"\"\n",
    "\n",
    "# prompt = \"\"\"Brad Pitt, Tom Hanks, Leonardo DiCaprio, Scarlett Johansson, Tom Brady, Hugh Jackman\n",
    "# Which person from this list is different from the others?\n",
    "# Answer:\"\"\"\n",
    "\n",
    "# prompt = \"\"\"Which of these items is not a fruit?\n",
    "# options: Apple, Potato, Banana, Grape, Orange\n",
    "# Answer:\"\"\"\n",
    "\n",
    "# prompt = \"\"\"Which of these words rhymes with the word \"look\"? \n",
    "# Items: orange, mat, book, rabbit, bowl, watch, mirror \n",
    "# Answer:\"\"\"\n",
    "\n",
    "# prompt = \"\"\"Items: Apple, Banana, Panda, Grape, Orange.\n",
    "# How many fruits are listed above?\n",
    "# Answer:\"\"\"\n",
    "\n",
    "# prompt = \"\"\"Items: cat, door, table, window, pen, keyboard.\n",
    "# Which word has exactly 4 letters?\n",
    "# Answer:\"\"\"\n",
    "# prompt = \"\"\"Which word has exactly 4 letters?\n",
    "# Items: cat, door, table, window, pen, keyboard.\n",
    "# Answer:\"\"\"\n",
    "\n",
    "# prompt = \"\"\"Items: zebra, monkey, elephant, tiger, lion.\n",
    "# Which word comes first alphabetically?\n",
    "# Answer:\"\"\"\n",
    "\n",
    "# prompt = \"\"\"Which word comes first alphabetically?\n",
    "# Items: zebra, monkey, elephant, tiger, lion.\n",
    "# Answer:\"\"\"\n",
    "\n",
    "verify = verify_head_patterns(\n",
    "    prompt=prompt,\n",
    "    # options=sample.options,\n",
    "    # pivot=sample.subj,\n",
    "    mt=mt,\n",
    "    heads=HEADS,\n",
    "    # heads = optimized_heads,\n",
    "    value_weighted=False,\n",
    "    # generate_full_answer=True,\n",
    ")\n",
    "\n",
    "verify[\"predictions\"]"
   ]
  },
  {
   "cell_type": "code",
   "execution_count": 40,
   "id": "f6b0f481",
   "metadata": {},
   "outputs": [
    {
     "name": "stdout",
     "output_type": "stream",
     "text": [
      "[[\"Which\", 0.022998375818133354], [\" of\", 0.005533072166144848], [\" these\", 0.002575702965259552], [\" numbers\", 0.009169035591185093], [\" is\", 0.008487285114824772], [\" a\", 0.005712971091270447], [\" multiple\", 0.01851518824696541], [\" of\", 0.007503050845116377], [\" \", 0.002753616776317358], [\"3\", 0.024812988936901093], [\"?\", 0.02286461926996708], [\" \\n\", 0.01192422490566969], [\"options\", 0.007167408708482981], [\":\", 0.005397899076342583], [\" \", 0.009724967181682587], [\"43\", 0.01698365993797779], [\",\", 0.012887978926301003], [\" \", 0.013020177371799946], [\"57\", 0.08245849609375], [\",\", 0.01145172119140625], [\" \", 0.021833045408129692], [\"55\", 0.015297156758606434], [\",\", 0.009683964774012566], [\" \", 0.006563439965248108], [\"62\", 0.010130480863153934], [\",\", 0.005656519904732704], [\" \", 0.007241575047373772], [\"39\", 0.07608862966299057], [\" \\n\", 0.0346250906586647], [\"Answer\", 0.02111094258725643], [\":\", 0.04864075779914856]]\n"
     ]
    },
    {
     "data": {
      "text/html": [
       "<div id=\"circuits-vis-4d591ecf-21e5\" style=\"margin: 15px 0;\"/>\n",
       "    <script crossorigin type=\"module\">\n",
       "    import { render, ColoredTokens } from \"https://unpkg.com/circuitsvis@1.43.3/dist/cdn/esm.js\";\n",
       "    render(\n",
       "      \"circuits-vis-4d591ecf-21e5\",\n",
       "      ColoredTokens,\n",
       "      {\"tokens\": [\"Which\", \" of\", \" these\", \" numbers\", \" is\", \" a\", \" multiple\", \" of\", \" \", \"3\", \"?\", \" \\n\", \"options\", \":\", \" \", \"43\", \",\", \" \", \"57\", \",\", \" \", \"55\", \",\", \" \", \"62\", \",\", \" \", \"39\", \" \\n\", \"Answer\", \":\"], \"values\": [0.022998375818133354, 0.005533072166144848, 0.002575702965259552, 0.009169035591185093, 0.008487285114824772, 0.005712971091270447, 0.01851518824696541, 0.007503050845116377, 0.002753616776317358, 0.024812988936901093, 0.02286461926996708, 0.01192422490566969, 0.007167408708482981, 0.005397899076342583, 0.009724967181682587, 0.01698365993797779, 0.012887978926301003, 0.013020177371799946, 0.08245849609375, 0.01145172119140625, 0.021833045408129692, 0.015297156758606434, 0.009683964774012566, 0.006563439965248108, 0.010130480863153934, 0.005656519904732704, 0.007241575047373772, 0.07608862966299057, 0.0346250906586647, 0.02111094258725643, 0.04864075779914856]}\n",
       "    )\n",
       "    </script>"
      ],
      "text/plain": [
       "<circuitsvis.utils.render.RenderedHTML at 0x7ede402660d0>"
      ]
     },
     "metadata": {},
     "output_type": "display_data"
    }
   ],
   "source": [
    "from circuitsvis.tokens import colored_tokens\n",
    "import json\n",
    "\n",
    "query_idx = -1\n",
    "start_from = 1\n",
    "\n",
    "tokens = verify[\"attn_matrices\"].tokenized_prompt[start_from:]\n",
    "attn_patterns = verify[\"attn_matrices\"].attention_matrices\n",
    "\n",
    "combined = []\n",
    "for layer_idx, head_idx in HEADS:\n",
    "    head_pattern = attn_patterns[(layer_idx, head_idx)][query_idx][start_from:]\n",
    "    combined.append(head_pattern)\n",
    "\n",
    "combined_attn = np.mean(np.array(combined), axis=0)\n",
    "\n",
    "print(\n",
    "    json.dumps(\n",
    "        [list(tup) for tup in zip(tokens, [score.item() for score in combined_attn])]\n",
    "    )\n",
    ")\n",
    "\n",
    "display(colored_tokens(tokens=tokens, values=combined_attn))"
   ]
  },
  {
   "cell_type": "code",
   "execution_count": 23,
   "id": "0ebe22ff",
   "metadata": {},
   "outputs": [
    {
     "ename": "AttributeError",
     "evalue": "'SelectionSample' object has no attribute 'match_with'",
     "output_type": "error",
     "traceback": [
      "\u001b[31m---------------------------------------------------------------------------\u001b[39m",
      "\u001b[31mAttributeError\u001b[39m                            Traceback (most recent call last)",
      "\u001b[36mCell\u001b[39m\u001b[36m \u001b[39m\u001b[32mIn[23]\u001b[39m\u001b[32m, line 4\u001b[39m\n\u001b[32m      1\u001b[39m verify = verify_head_patterns(\n\u001b[32m      2\u001b[39m     prompt=sample.prompt,\n\u001b[32m      3\u001b[39m     options=sample.options,\n\u001b[32m----> \u001b[39m\u001b[32m4\u001b[39m     pivot=\u001b[43msample\u001b[49m\u001b[43m.\u001b[49m\u001b[43mmatch_with\u001b[49m,\n\u001b[32m      5\u001b[39m     mt=mt,\n\u001b[32m      6\u001b[39m     value_weighted=\u001b[38;5;28;01mFalse\u001b[39;00m,\n\u001b[32m      7\u001b[39m     generate_full_answer=\u001b[38;5;28;01mFalse\u001b[39;00m,\n\u001b[32m      8\u001b[39m     ablate_possible_ans_info_from_options=\u001b[38;5;28;01mTrue\u001b[39;00m,\n\u001b[32m      9\u001b[39m )\n\u001b[32m     11\u001b[39m verify[\u001b[33m\"\u001b[39m\u001b[33mpredictions\u001b[39m\u001b[33m\"\u001b[39m]\n",
      "\u001b[31mAttributeError\u001b[39m: 'SelectionSample' object has no attribute 'match_with'"
     ]
    }
   ],
   "source": [
    "verify = verify_head_patterns(\n",
    "    prompt=sample.prompt,\n",
    "    options=sample.options,\n",
    "    pivot=sample.match_with,\n",
    "    mt=mt,\n",
    "    value_weighted=False,\n",
    "    generate_full_answer=False,\n",
    "    ablate_possible_ans_info_from_options=True,\n",
    ")\n",
    "\n",
    "verify[\"predictions\"]"
   ]
  },
  {
   "cell_type": "code",
   "execution_count": 17,
   "id": "1ad8689e",
   "metadata": {},
   "outputs": [
    {
     "name": "stdout",
     "output_type": "stream",
     "text": [
      "1. O'Donnell, Norah\n",
      "2. Roberts, Julia\n",
      "3. McIlroy, Rory\n",
      "4. Kvitová, Petra\n",
      "5. Louboutin, Christian\n",
      "6. Anderson, Wes\n",
      "Who among these people mentioned above is by profession a actor?\n",
      "Answer:  >> \n",
      "2025-08-01 14:16:21 __main__ DEBUG    Generated full answer: \" Julia Roberts is an American actress and producer. She is one of the most successful actresses in Hollywood, known for her iconic roles in movies such as \"\"\n",
      "2025-08-01 14:16:22 __main__ DEBUG    Predictions: ['\" Julia\"[40394] (p=0.332, logit=19.625)', '\" Roberts\"[31248] (p=0.260, logit=19.375)', '\" \"[220] (p=0.139, logit=18.750)', '\" (\"[320] (p=0.051, logit=17.750)', '\" Option\"[7104] (p=0.045, logit=17.625)']\n",
      "layer=35\n"
     ]
    },
    {
     "data": {
      "text/html": [
       "<div id=\"circuits-vis-d66c211b-3aa6\" style=\"margin: 15px 0;\"/>\n",
       "    <script crossorigin type=\"module\">\n",
       "    import { render, ColoredTokens } from \"https://unpkg.com/circuitsvis@1.43.3/dist/cdn/esm.js\";\n",
       "    render(\n",
       "      \"circuits-vis-d66c211b-3aa6\",\n",
       "      ColoredTokens,\n",
       "      {\"tokens\": [\"1\", \".\", \" O\", \"'D\", \"onn\", \"ell\", \",\", \" Nor\", \"ah\", \"\\n\", \"2\", \".\", \" Roberts\", \",\", \" Julia\", \"\\n\", \"3\", \".\", \" Mc\", \"Il\", \"roy\", \",\", \" Rory\", \"\\n\", \"4\", \".\", \" K\", \"vit\", \"ov\\u00e1\", \",\", \" Petra\", \"\\n\", \"5\", \".\", \" L\", \"oub\", \"out\", \"in\", \",\", \" Christian\", \"\\n\", \"6\", \".\", \" Anderson\", \",\", \" Wes\", \"\\n\", \"Who\", \" among\", \" these\", \" people\", \" mentioned\", \" above\", \" is\", \" by\", \" profession\", \" a\", \" actor\", \"?\\n\", \"Answer\", \":\"], \"values\": [0.020537137985229492, 0.004213258624076843, 0.0016117468476295471, 0.0017377957701683044, 0.001714404672384262, 0.0014304891228675842, 0.004085961729288101, 0.000997152179479599, 0.00607028603553772, 0.007215708494186401, 0.0204143226146698, 0.00673241913318634, 0.003531426191329956, 0.002643425017595291, 0.027591116726398468, 0.053831636905670166, 0.00891705323010683, 0.028026655316352844, 0.003405969589948654, 0.0014595594257116318, 0.001809641718864441, 0.002920057624578476, 0.006314761936664581, 0.010552048683166504, 0.008541904389858246, 0.004269659519195557, 0.0021551400423049927, 0.0008286796510219574, 0.0016577988862991333, 0.0015216544270515442, 0.00141216441988945, 0.0025035589933395386, 0.002997376024723053, 0.0018410347402095795, 0.003184933215379715, 0.0006750281900167465, 0.0008240416646003723, 0.0017294101417064667, 0.0009409114718437195, 0.0017751120030879974, 0.002274557948112488, 0.006578132510185242, 0.0030070245265960693, 0.0012027323246002197, 0.002459213137626648, 0.009159930050373077, 0.00915246456861496, 0.009720325469970703, 0.006349029019474983, 0.007343843579292297, 0.003119494765996933, 0.0028099361807107925, 0.006424548104405403, 0.004696585237979889, 0.001938173547387123, 0.006665253546088934, 0.0037296563386917114, 0.0234643816947937, 0.02784109115600586, 0.021344095468521118, 0.034137189388275146]}\n",
       "    )\n",
       "    </script>"
      ],
      "text/plain": [
       "<circuitsvis.utils.render.RenderedHTML at 0x7fa4a01c3310>"
      ]
     },
     "metadata": {},
     "output_type": "display_data"
    },
    {
     "name": "stdout",
     "output_type": "stream",
     "text": [
      "--------------------------------------------------------------------------------\n",
      "layer=47\n"
     ]
    },
    {
     "data": {
      "text/html": [
       "<div id=\"circuits-vis-64d0a11d-6ea5\" style=\"margin: 15px 0;\"/>\n",
       "    <script crossorigin type=\"module\">\n",
       "    import { render, ColoredTokens } from \"https://unpkg.com/circuitsvis@1.43.3/dist/cdn/esm.js\";\n",
       "    render(\n",
       "      \"circuits-vis-64d0a11d-6ea5\",\n",
       "      ColoredTokens,\n",
       "      {\"tokens\": [\"1\", \".\", \" O\", \"'D\", \"onn\", \"ell\", \",\", \" Nor\", \"ah\", \"\\n\", \"2\", \".\", \" Roberts\", \",\", \" Julia\", \"\\n\", \"3\", \".\", \" Mc\", \"Il\", \"roy\", \",\", \" Rory\", \"\\n\", \"4\", \".\", \" K\", \"vit\", \"ov\\u00e1\", \",\", \" Petra\", \"\\n\", \"5\", \".\", \" L\", \"oub\", \"out\", \"in\", \",\", \" Christian\", \"\\n\", \"6\", \".\", \" Anderson\", \",\", \" Wes\", \"\\n\", \"Who\", \" among\", \" these\", \" people\", \" mentioned\", \" above\", \" is\", \" by\", \" profession\", \" a\", \" actor\", \"?\\n\", \"Answer\", \":\"], \"values\": [0.0017109587788581848, 0.0010924804955720901, 0.000660591758787632, 0.00041895918548107147, 0.00037796515971422195, 0.00046836957335472107, 0.000391889363527298, 0.00047864625230431557, 0.0009642411023378372, 0.001774221658706665, 0.001384667120873928, 0.000552009791135788, 0.01788025163114071, 0.003200664184987545, 0.004575623665004969, 0.0035487543791532516, 0.0013263826258480549, 0.0017544911243021488, 0.0003380505368113518, 0.00014450715389102697, 0.00016190216410905123, 0.00021432212088257074, 0.0006983308121562004, 0.0012816311791539192, 0.0009407037869095802, 0.0007044498343020678, 0.00044064479880034924, 0.00017826911062002182, 0.00030695321038365364, 0.00020111154299229383, 0.0003008185885846615, 0.0004931129515171051, 0.0003121858462691307, 0.0004818495362997055, 0.0004768051439896226, 0.00018234271556138992, 6.066937930881977e-05, 0.0002528224140405655, 7.40191899240017e-05, 0.00030264630913734436, 0.00025768112391233444, 0.000861563254147768, 0.0004574265331029892, 0.0004789009690284729, 0.0011435868218541145, 0.0007416419684886932, 0.0004009213298559189, 0.0016333796083927155, 0.000851157121360302, 0.0007179789245128632, 0.0005216803401708603, 0.0006945692002773285, 0.0007138699293136597, 0.0006178654730319977, 0.0004144664853811264, 0.0014589522033929825, 0.0005413098260760307, 0.0024122465401887894, 0.008498281240463257, 0.009557768702507019, 0.00272996723651886]}\n",
       "    )\n",
       "    </script>"
      ],
      "text/plain": [
       "<circuitsvis.utils.render.RenderedHTML at 0x7fa4a01c0d50>"
      ]
     },
     "metadata": {},
     "output_type": "display_data"
    },
    {
     "name": "stdout",
     "output_type": "stream",
     "text": [
      "--------------------------------------------------------------------------------\n",
      "layer=52\n"
     ]
    },
    {
     "data": {
      "text/html": [
       "<div id=\"circuits-vis-ea7b2e8b-2ec2\" style=\"margin: 15px 0;\"/>\n",
       "    <script crossorigin type=\"module\">\n",
       "    import { render, ColoredTokens } from \"https://unpkg.com/circuitsvis@1.43.3/dist/cdn/esm.js\";\n",
       "    render(\n",
       "      \"circuits-vis-ea7b2e8b-2ec2\",\n",
       "      ColoredTokens,\n",
       "      {\"tokens\": [\"1\", \".\", \" O\", \"'D\", \"onn\", \"ell\", \",\", \" Nor\", \"ah\", \"\\n\", \"2\", \".\", \" Roberts\", \",\", \" Julia\", \"\\n\", \"3\", \".\", \" Mc\", \"Il\", \"roy\", \",\", \" Rory\", \"\\n\", \"4\", \".\", \" K\", \"vit\", \"ov\\u00e1\", \",\", \" Petra\", \"\\n\", \"5\", \".\", \" L\", \"oub\", \"out\", \"in\", \",\", \" Christian\", \"\\n\", \"6\", \".\", \" Anderson\", \",\", \" Wes\", \"\\n\", \"Who\", \" among\", \" these\", \" people\", \" mentioned\", \" above\", \" is\", \" by\", \" profession\", \" a\", \" actor\", \"?\\n\", \"Answer\", \":\"], \"values\": [0.003816939890384674, 0.003700053319334984, 0.0033019687980413437, 0.001351410523056984, 0.0009294860064983368, 0.0015438022091984749, 0.0017329724505543709, 0.002750679850578308, 0.002658311277627945, 0.005074270069599152, 0.004058606922626495, 0.0017315074801445007, 0.012210091575980186, 0.003594429697841406, 0.014565510675311089, 0.002686895430088043, 0.001715038437396288, 0.0038294270634651184, 0.0006411857903003693, 0.0002593160606920719, 0.00033232150599360466, 0.0005990383215248585, 0.0014085210859775543, 0.0015852730721235275, 0.0024468842893838882, 0.0015861410647630692, 0.0006070728413760662, 0.00036185234785079956, 0.0018694372847676277, 0.0005852505564689636, 0.0006631845608353615, 0.0007852092385292053, 0.0009603728540241718, 0.0014088591560721397, 0.0009055332047864795, 0.00029378593899309635, 0.00010058755287900567, 0.00034626456908881664, 0.00023489270824939013, 0.00046717002987861633, 0.00048135221004486084, 0.0017773089930415154, 0.0013718493282794952, 0.0005422304384410381, 0.0011192015372216702, 0.001802278682589531, 0.0007375171408057213, 0.003816012293100357, 0.002578217536211014, 0.0020379964262247086, 0.0013822847977280617, 0.0014020823873579502, 0.0030812625773251057, 0.001375218853354454, 0.0008043451234698296, 0.0019336901605129242, 0.0013768943026661873, 0.0051104165613651276, 0.020870961248874664, 0.02183418720960617, 0.023004021495580673]}\n",
       "    )\n",
       "    </script>"
      ],
      "text/plain": [
       "<circuitsvis.utils.render.RenderedHTML at 0x7fa4e05ab650>"
      ]
     },
     "metadata": {},
     "output_type": "display_data"
    },
    {
     "name": "stdout",
     "output_type": "stream",
     "text": [
      "--------------------------------------------------------------------------------\n",
      "======================================================================\n",
      "2025-08-01 14:16:22 __main__ INFO     Layer: 33, Head: 45\n"
     ]
    },
    {
     "data": {
      "text/html": [
       "<div id=\"circuits-vis-fd551fcf-b6f2\" style=\"margin: 15px 0;\"/>\n",
       "    <script crossorigin type=\"module\">\n",
       "    import { render, ColoredTokens } from \"https://unpkg.com/circuitsvis@1.43.3/dist/cdn/esm.js\";\n",
       "    render(\n",
       "      \"circuits-vis-fd551fcf-b6f2\",\n",
       "      ColoredTokens,\n",
       "      {\"tokens\": [\"1\", \".\", \" O\", \"'D\", \"onn\", \"ell\", \",\", \" Nor\", \"ah\", \"\\n\", \"2\", \".\", \" Roberts\", \",\", \" Julia\", \"\\n\", \"3\", \".\", \" Mc\", \"Il\", \"roy\", \",\", \" Rory\", \"\\n\", \"4\", \".\", \" K\", \"vit\", \"ov\\u00e1\", \",\", \" Petra\", \"\\n\", \"5\", \".\", \" L\", \"oub\", \"out\", \"in\", \",\", \" Christian\", \"\\n\", \"6\", \".\", \" Anderson\", \",\", \" Wes\", \"\\n\", \"Who\", \" among\", \" these\", \" people\", \" mentioned\", \" above\", \" is\", \" by\", \" profession\", \" a\", \" actor\", \"?\\n\", \"Answer\", \":\"], \"values\": [0.034423828125, 0.003326416015625, 0.0022430419921875, 0.006439208984375, 0.004547119140625, 0.003814697265625, 0.01519775390625, 0.0025787353515625, 0.0115966796875, 0.0126953125, 0.01202392578125, 0.01385498046875, 0.029296875, 0.033447265625, 0.10498046875, 0.06787109375, 0.005462646484375, 0.0262451171875, 0.0174560546875, 0.01129150390625, 0.005615234375, 0.00897216796875, 0.00433349609375, 0.0106201171875, 0.006805419921875, 0.00823974609375, 0.005035400390625, 0.003753662109375, 0.00726318359375, 0.00347900390625, 0.00494384765625, 0.004669189453125, 0.0029296875, 0.00494384765625, 0.006744384765625, 0.00140380859375, 0.000850677490234375, 0.0026702880859375, 0.00201416015625, 0.002471923828125, 0.00107574462890625, 0.007476806640625, 0.003173828125, 0.007781982421875, 0.0257568359375, 0.0186767578125, 0.009765625, 0.018798828125, 0.00347900390625, 0.004913330078125, 0.0017242431640625, 0.0028839111328125, 0.00482177734375, 0.0035858154296875, 0.000644683837890625, 0.001129150390625, 0.0014495849609375, 0.0277099609375, 0.0556640625, 0.00531005859375, 0.048583984375]}\n",
       "    )\n",
       "    </script>"
      ],
      "text/plain": [
       "<circuitsvis.utils.render.RenderedHTML at 0x7fa5679e1590>"
      ]
     },
     "metadata": {},
     "output_type": "display_data"
    },
    {
     "name": "stdout",
     "output_type": "stream",
     "text": [
      "2025-08-01 14:16:22 __main__ INFO     Layer: 33, Head: 18\n"
     ]
    },
    {
     "data": {
      "text/html": [
       "<div id=\"circuits-vis-df8dea14-8ac0\" style=\"margin: 15px 0;\"/>\n",
       "    <script crossorigin type=\"module\">\n",
       "    import { render, ColoredTokens } from \"https://unpkg.com/circuitsvis@1.43.3/dist/cdn/esm.js\";\n",
       "    render(\n",
       "      \"circuits-vis-df8dea14-8ac0\",\n",
       "      ColoredTokens,\n",
       "      {\"tokens\": [\"1\", \".\", \" O\", \"'D\", \"onn\", \"ell\", \",\", \" Nor\", \"ah\", \"\\n\", \"2\", \".\", \" Roberts\", \",\", \" Julia\", \"\\n\", \"3\", \".\", \" Mc\", \"Il\", \"roy\", \",\", \" Rory\", \"\\n\", \"4\", \".\", \" K\", \"vit\", \"ov\\u00e1\", \",\", \" Petra\", \"\\n\", \"5\", \".\", \" L\", \"oub\", \"out\", \"in\", \",\", \" Christian\", \"\\n\", \"6\", \".\", \" Anderson\", \",\", \" Wes\", \"\\n\", \"Who\", \" among\", \" these\", \" people\", \" mentioned\", \" above\", \" is\", \" by\", \" profession\", \" a\", \" actor\", \"?\\n\", \"Answer\", \":\"], \"values\": [0.0017547607421875, 0.00136566162109375, 0.0003948211669921875, 0.0032806396484375, 0.00051116943359375, 0.000568389892578125, 0.007110595703125, 0.00012302398681640625, 0.002410888671875, 0.0203857421875, 0.041748046875, 0.0203857421875, 0.00396728515625, 0.00970458984375, 0.1416015625, 0.328125, 0.0274658203125, 0.21875, 0.0086669921875, 0.00028228759765625, 0.0012359619140625, 0.00537109375, 0.00994873046875, 0.0257568359375, 0.026123046875, 0.01123046875, 0.000751495361328125, 6.67572021484375e-05, 0.000919342041015625, 0.0016937255859375, 0.00092315673828125, 0.01141357421875, 0.00167083740234375, 0.0010528564453125, 0.0016632080078125, 0.0001506805419921875, 0.00015544891357421875, 0.0003223419189453125, 0.000530242919921875, 0.0011138916015625, 0.004852294921875, 0.007049560546875, 0.001129150390625, 0.0004367828369140625, 0.00469970703125, 0.004791259765625, 0.0086669921875, 0.001251220703125, 3.528594970703125e-05, 3.8623809814453125e-05, 5.91278076171875e-05, 3.314018249511719e-05, 4.5299530029296875e-05, 3.314018249511719e-05, 1.6927719116210938e-05, 2.467632293701172e-05, 0.00017642974853515625, 0.00396728515625, 0.0002880096435546875, 0.000347137451171875, 0.0031280517578125]}\n",
       "    )\n",
       "    </script>"
      ],
      "text/plain": [
       "<circuitsvis.utils.render.RenderedHTML at 0x7fa4e04e9950>"
      ]
     },
     "metadata": {},
     "output_type": "display_data"
    },
    {
     "name": "stdout",
     "output_type": "stream",
     "text": [
      "2025-08-01 14:16:22 __main__ INFO     Layer: 34, Head: 1\n"
     ]
    },
    {
     "data": {
      "text/html": [
       "<div id=\"circuits-vis-c2d6eb62-ce8a\" style=\"margin: 15px 0;\"/>\n",
       "    <script crossorigin type=\"module\">\n",
       "    import { render, ColoredTokens } from \"https://unpkg.com/circuitsvis@1.43.3/dist/cdn/esm.js\";\n",
       "    render(\n",
       "      \"circuits-vis-c2d6eb62-ce8a\",\n",
       "      ColoredTokens,\n",
       "      {\"tokens\": [\"1\", \".\", \" O\", \"'D\", \"onn\", \"ell\", \",\", \" Nor\", \"ah\", \"\\n\", \"2\", \".\", \" Roberts\", \",\", \" Julia\", \"\\n\", \"3\", \".\", \" Mc\", \"Il\", \"roy\", \",\", \" Rory\", \"\\n\", \"4\", \".\", \" K\", \"vit\", \"ov\\u00e1\", \",\", \" Petra\", \"\\n\", \"5\", \".\", \" L\", \"oub\", \"out\", \"in\", \",\", \" Christian\", \"\\n\", \"6\", \".\", \" Anderson\", \",\", \" Wes\", \"\\n\", \"Who\", \" among\", \" these\", \" people\", \" mentioned\", \" above\", \" is\", \" by\", \" profession\", \" a\", \" actor\", \"?\\n\", \"Answer\", \":\"], \"values\": [0.006011962890625, 0.00069427490234375, 0.000186920166015625, 0.001922607421875, 0.00152587890625, 0.00122833251953125, 0.00787353515625, 0.000141143798828125, 0.0106201171875, 0.002166748046875, 0.0201416015625, 0.0211181640625, 0.016357421875, 0.006744384765625, 0.353515625, 0.3125, 0.023681640625, 0.0732421875, 0.0038604736328125, 0.000762939453125, 0.0005340576171875, 0.00115203857421875, 0.00010824203491210938, 0.00102996826171875, 0.0047607421875, 0.00982666015625, 0.00098419189453125, 7.12275505065918e-06, 1.8835067749023438e-05, 3.62396240234375e-05, 1.9431114196777344e-05, 0.0002727508544921875, 0.00119781494140625, 5.269050598144531e-05, 0.002105712890625, 1.0073184967041016e-05, 7.009506225585938e-05, 1.9431114196777344e-05, 1.8835067749023438e-05, 7.772445678710938e-05, 3.504753112792969e-05, 0.0018463134765625, 0.002349853515625, 0.00017261505126953125, 0.0040283203125, 0.002471923828125, 0.000972747802734375, 0.003326416015625, 0.000579833984375, 0.00133514404296875, 0.0004634857177734375, 0.0005950927734375, 0.000354766845703125, 0.0001926422119140625, 0.0001392364501953125, 2.3365020751953125e-05, 0.00011348724365234375, 0.022705078125, 0.002838134765625, 0.0002803802490234375, 0.0184326171875]}\n",
       "    )\n",
       "    </script>"
      ],
      "text/plain": [
       "<circuitsvis.utils.render.RenderedHTML at 0x7fa5679b1950>"
      ]
     },
     "metadata": {},
     "output_type": "display_data"
    },
    {
     "name": "stdout",
     "output_type": "stream",
     "text": [
      "2025-08-01 14:16:22 __main__ INFO     Layer: 34, Head: 6\n"
     ]
    },
    {
     "data": {
      "text/html": [
       "<div id=\"circuits-vis-ffabd067-d6db\" style=\"margin: 15px 0;\"/>\n",
       "    <script crossorigin type=\"module\">\n",
       "    import { render, ColoredTokens } from \"https://unpkg.com/circuitsvis@1.43.3/dist/cdn/esm.js\";\n",
       "    render(\n",
       "      \"circuits-vis-ffabd067-d6db\",\n",
       "      ColoredTokens,\n",
       "      {\"tokens\": [\"1\", \".\", \" O\", \"'D\", \"onn\", \"ell\", \",\", \" Nor\", \"ah\", \"\\n\", \"2\", \".\", \" Roberts\", \",\", \" Julia\", \"\\n\", \"3\", \".\", \" Mc\", \"Il\", \"roy\", \",\", \" Rory\", \"\\n\", \"4\", \".\", \" K\", \"vit\", \"ov\\u00e1\", \",\", \" Petra\", \"\\n\", \"5\", \".\", \" L\", \"oub\", \"out\", \"in\", \",\", \" Christian\", \"\\n\", \"6\", \".\", \" Anderson\", \",\", \" Wes\", \"\\n\", \"Who\", \" among\", \" these\", \" people\", \" mentioned\", \" above\", \" is\", \" by\", \" profession\", \" a\", \" actor\", \"?\\n\", \"Answer\", \":\"], \"values\": [0.0250244140625, 0.00103759765625, 0.00042724609375, 0.0029449462890625, 0.005157470703125, 0.004150390625, 0.009521484375, 0.000576019287109375, 0.0101318359375, 0.0035400390625, 0.01348876953125, 0.009033203125, 0.03515625, 0.0125732421875, 0.33203125, 0.21484375, 0.0250244140625, 0.0615234375, 0.005279541015625, 0.00341796875, 0.0016021728515625, 0.0031890869140625, 0.0003833770751953125, 0.00189971923828125, 0.007781982421875, 0.0091552734375, 0.0022430419921875, 0.00011157989501953125, 0.000186920166015625, 0.00023651123046875, 0.0001811981201171875, 0.00103759765625, 0.00164031982421875, 0.000293731689453125, 0.004791259765625, 7.915496826171875e-05, 0.00032806396484375, 0.00012683868408203125, 8.153915405273438e-05, 0.0002765655517578125, 0.00011491775512695312, 0.0027923583984375, 0.0019683837890625, 0.0012664794921875, 0.0101318359375, 0.006927490234375, 0.00311279296875, 0.004913330078125, 0.00087738037109375, 0.0023651123046875, 0.000705718994140625, 0.000850677490234375, 0.0003948211669921875, 0.000499725341796875, 0.00043487548828125, 3.743171691894531e-05, 0.000514984130859375, 0.040771484375, 0.006195068359375, 0.00021839141845703125, 0.03564453125]}\n",
       "    )\n",
       "    </script>"
      ],
      "text/plain": [
       "<circuitsvis.utils.render.RenderedHTML at 0x7fa5679571d0>"
      ]
     },
     "metadata": {},
     "output_type": "display_data"
    },
    {
     "name": "stdout",
     "output_type": "stream",
     "text": [
      "2025-08-01 14:16:22 __main__ INFO     Layer: 34, Head: 7\n"
     ]
    },
    {
     "data": {
      "text/html": [
       "<div id=\"circuits-vis-528d5917-a04a\" style=\"margin: 15px 0;\"/>\n",
       "    <script crossorigin type=\"module\">\n",
       "    import { render, ColoredTokens } from \"https://unpkg.com/circuitsvis@1.43.3/dist/cdn/esm.js\";\n",
       "    render(\n",
       "      \"circuits-vis-528d5917-a04a\",\n",
       "      ColoredTokens,\n",
       "      {\"tokens\": [\"1\", \".\", \" O\", \"'D\", \"onn\", \"ell\", \",\", \" Nor\", \"ah\", \"\\n\", \"2\", \".\", \" Roberts\", \",\", \" Julia\", \"\\n\", \"3\", \".\", \" Mc\", \"Il\", \"roy\", \",\", \" Rory\", \"\\n\", \"4\", \".\", \" K\", \"vit\", \"ov\\u00e1\", \",\", \" Petra\", \"\\n\", \"5\", \".\", \" L\", \"oub\", \"out\", \"in\", \",\", \" Christian\", \"\\n\", \"6\", \".\", \" Anderson\", \",\", \" Wes\", \"\\n\", \"Who\", \" among\", \" these\", \" people\", \" mentioned\", \" above\", \" is\", \" by\", \" profession\", \" a\", \" actor\", \"?\\n\", \"Answer\", \":\"], \"values\": [0.0439453125, 0.000759124755859375, 0.0004062652587890625, 0.002197265625, 0.0023040771484375, 0.00168609619140625, 0.0038604736328125, 0.0004749298095703125, 0.007171630859375, 0.0030975341796875, 0.0101318359375, 0.00787353515625, 0.0093994140625, 0.003387451171875, 0.1181640625, 0.09228515625, 0.01068115234375, 0.022705078125, 0.0030364990234375, 0.00182342529296875, 0.002197265625, 0.0023040771484375, 0.0030364990234375, 0.005950927734375, 0.00909423828125, 0.010498046875, 0.0045166015625, 0.00078582763671875, 0.00139617919921875, 0.0011444091796875, 0.00160980224609375, 0.0042724609375, 0.0034942626953125, 0.00144195556640625, 0.005523681640625, 0.00031280517578125, 0.000946044921875, 0.001373291015625, 0.00084686279296875, 0.00421142578125, 0.003204345703125, 0.01251220703125, 0.00494384765625, 0.003082275390625, 0.01300048828125, 0.0213623046875, 0.025146484375, 0.027587890625, 0.008056640625, 0.0240478515625, 0.0057373046875, 0.00555419921875, 0.006866455078125, 0.0074462890625, 0.001953125, 0.000629425048828125, 0.005462646484375, 0.1259765625, 0.04150390625, 0.003387451171875, 0.1279296875]}\n",
       "    )\n",
       "    </script>"
      ],
      "text/plain": [
       "<circuitsvis.utils.render.RenderedHTML at 0x7fa5679571d0>"
      ]
     },
     "metadata": {},
     "output_type": "display_data"
    },
    {
     "name": "stdout",
     "output_type": "stream",
     "text": [
      "2025-08-01 14:16:23 __main__ INFO     Layer: 35, Head: 19\n"
     ]
    },
    {
     "data": {
      "text/html": [
       "<div id=\"circuits-vis-36eab6be-77be\" style=\"margin: 15px 0;\"/>\n",
       "    <script crossorigin type=\"module\">\n",
       "    import { render, ColoredTokens } from \"https://unpkg.com/circuitsvis@1.43.3/dist/cdn/esm.js\";\n",
       "    render(\n",
       "      \"circuits-vis-36eab6be-77be\",\n",
       "      ColoredTokens,\n",
       "      {\"tokens\": [\"1\", \".\", \" O\", \"'D\", \"onn\", \"ell\", \",\", \" Nor\", \"ah\", \"\\n\", \"2\", \".\", \" Roberts\", \",\", \" Julia\", \"\\n\", \"3\", \".\", \" Mc\", \"Il\", \"roy\", \",\", \" Rory\", \"\\n\", \"4\", \".\", \" K\", \"vit\", \"ov\\u00e1\", \",\", \" Petra\", \"\\n\", \"5\", \".\", \" L\", \"oub\", \"out\", \"in\", \",\", \" Christian\", \"\\n\", \"6\", \".\", \" Anderson\", \",\", \" Wes\", \"\\n\", \"Who\", \" among\", \" these\", \" people\", \" mentioned\", \" above\", \" is\", \" by\", \" profession\", \" a\", \" actor\", \"?\\n\", \"Answer\", \":\"], \"values\": [0.0030517578125, 0.00015544891357421875, 0.00042724609375, 0.0011138916015625, 0.00130462646484375, 0.00075531005859375, 0.003326416015625, 0.00112152099609375, 0.013671875, 0.006622314453125, 0.00921630859375, 0.046630859375, 0.0024261474609375, 0.00060272216796875, 0.30859375, 0.2734375, 0.07470703125, 0.048828125, 0.004547119140625, 0.000782012939453125, 0.001007080078125, 0.000885009765625, 0.00482177734375, 0.0089111328125, 0.000789642333984375, 0.02001953125, 0.0078125, 0.0002651214599609375, 0.0018463134765625, 0.0002689361572265625, 0.00173187255859375, 0.0016632080078125, 0.00144195556640625, 0.003082275390625, 0.0076904296875, 7.009506225585938e-05, 3.5762786865234375e-05, 0.00038909912109375, 0.00011920928955078125, 0.0012664794921875, 0.00262451171875, 0.000286102294921875, 0.0068359375, 0.0005950927734375, 0.00116729736328125, 0.041748046875, 0.0439453125, 0.004119873046875, 1.9788742065429688e-05, 6.29425048828125e-05, 7.009506225585938e-05, 1.800060272216797e-05, 5.0067901611328125e-06, 3.933906555175781e-05, 5.3882598876953125e-05, 1.0251998901367188e-05, 0.0001583099365234375, 0.00238037109375, 0.0004425048828125, 2.2411346435546875e-05, 0.00115966796875]}\n",
       "    )\n",
       "    </script>"
      ],
      "text/plain": [
       "<circuitsvis.utils.render.RenderedHTML at 0x7fa5679e18d0>"
      ]
     },
     "metadata": {},
     "output_type": "display_data"
    },
    {
     "name": "stdout",
     "output_type": "stream",
     "text": [
      "2025-08-01 14:16:23 __main__ INFO     Layer: 39, Head: 40\n"
     ]
    },
    {
     "data": {
      "text/html": [
       "<div id=\"circuits-vis-8e94b843-9a58\" style=\"margin: 15px 0;\"/>\n",
       "    <script crossorigin type=\"module\">\n",
       "    import { render, ColoredTokens } from \"https://unpkg.com/circuitsvis@1.43.3/dist/cdn/esm.js\";\n",
       "    render(\n",
       "      \"circuits-vis-8e94b843-9a58\",\n",
       "      ColoredTokens,\n",
       "      {\"tokens\": [\"1\", \".\", \" O\", \"'D\", \"onn\", \"ell\", \",\", \" Nor\", \"ah\", \"\\n\", \"2\", \".\", \" Roberts\", \",\", \" Julia\", \"\\n\", \"3\", \".\", \" Mc\", \"Il\", \"roy\", \",\", \" Rory\", \"\\n\", \"4\", \".\", \" K\", \"vit\", \"ov\\u00e1\", \",\", \" Petra\", \"\\n\", \"5\", \".\", \" L\", \"oub\", \"out\", \"in\", \",\", \" Christian\", \"\\n\", \"6\", \".\", \" Anderson\", \",\", \" Wes\", \"\\n\", \"Who\", \" among\", \" these\", \" people\", \" mentioned\", \" above\", \" is\", \" by\", \" profession\", \" a\", \" actor\", \"?\\n\", \"Answer\", \":\"], \"values\": [0.002777099609375, 0.0017852783203125, 7.486343383789062e-05, 0.0003643035888671875, 0.0003414154052734375, 0.0002498626708984375, 0.001220703125, 0.000217437744140625, 0.0004825592041015625, 0.007080078125, 0.0011749267578125, 0.004852294921875, 0.0252685546875, 0.00958251953125, 0.09033203125, 0.65625, 0.0084228515625, 0.06494140625, 0.0015106201171875, 0.00015926361083984375, 0.00016880035400390625, 0.00128936767578125, 0.00029754638671875, 0.0218505859375, 0.001800537109375, 0.00250244140625, 0.000438690185546875, 6.258487701416016e-06, 3.838539123535156e-05, 0.0003204345703125, 8.249282836914062e-05, 0.00604248046875, 0.000148773193359375, 0.0019683837890625, 0.00089263916015625, 6.0498714447021484e-06, 6.0498714447021484e-06, 4.0531158447265625e-06, 4.076957702636719e-05, 5.245208740234375e-05, 0.0001888275146484375, 0.00063323974609375, 0.0004177093505859375, 0.00016689300537109375, 0.0023040771484375, 0.00142669677734375, 0.00299072265625, 0.00128936767578125, 0.0012969970703125, 0.0002651214599609375, 7.152557373046875e-05, 0.0002498626708984375, 0.00080108642578125, 0.0003528594970703125, 4.220008850097656e-05, 0.00010251998901367188, 0.00074005126953125, 0.0037841796875, 0.027587890625, 0.00213623046875, 0.0172119140625]}\n",
       "    )\n",
       "    </script>"
      ],
      "text/plain": [
       "<circuitsvis.utils.render.RenderedHTML at 0x7fa5679b1390>"
      ]
     },
     "metadata": {},
     "output_type": "display_data"
    },
    {
     "name": "stdout",
     "output_type": "stream",
     "text": [
      "2025-08-01 14:16:23 __main__ INFO     Layer: 42, Head: 30\n"
     ]
    },
    {
     "data": {
      "text/html": [
       "<div id=\"circuits-vis-7d9800d9-6dd8\" style=\"margin: 15px 0;\"/>\n",
       "    <script crossorigin type=\"module\">\n",
       "    import { render, ColoredTokens } from \"https://unpkg.com/circuitsvis@1.43.3/dist/cdn/esm.js\";\n",
       "    render(\n",
       "      \"circuits-vis-7d9800d9-6dd8\",\n",
       "      ColoredTokens,\n",
       "      {\"tokens\": [\"1\", \".\", \" O\", \"'D\", \"onn\", \"ell\", \",\", \" Nor\", \"ah\", \"\\n\", \"2\", \".\", \" Roberts\", \",\", \" Julia\", \"\\n\", \"3\", \".\", \" Mc\", \"Il\", \"roy\", \",\", \" Rory\", \"\\n\", \"4\", \".\", \" K\", \"vit\", \"ov\\u00e1\", \",\", \" Petra\", \"\\n\", \"5\", \".\", \" L\", \"oub\", \"out\", \"in\", \",\", \" Christian\", \"\\n\", \"6\", \".\", \" Anderson\", \",\", \" Wes\", \"\\n\", \"Who\", \" among\", \" these\", \" people\", \" mentioned\", \" above\", \" is\", \" by\", \" profession\", \" a\", \" actor\", \"?\\n\", \"Answer\", \":\"], \"values\": [0.005859375, 0.0017852783203125, 0.0019683837890625, 0.0040283203125, 0.005859375, 0.004852294921875, 0.00811767578125, 0.00173187255859375, 0.0035552978515625, 0.008544921875, 0.0069580078125, 0.007293701171875, 0.1826171875, 0.0751953125, 0.061279296875, 0.0634765625, 0.016357421875, 0.0269775390625, 0.035888671875, 0.00494384765625, 0.00323486328125, 0.0035552978515625, 0.001251220703125, 0.007293701171875, 0.00372314453125, 0.0050048828125, 0.0052490234375, 0.00103759765625, 0.00186920166015625, 0.00103759765625, 0.00064849853515625, 0.0020904541015625, 0.000690460205078125, 0.0027313232421875, 0.004638671875, 0.001373291015625, 0.0001583099365234375, 0.0006256103515625, 0.0004730224609375, 0.0003147125244140625, 0.00103759765625, 0.00154876708984375, 0.0021820068359375, 0.00811767578125, 0.01519775390625, 0.00152587890625, 0.0030364990234375, 0.0050048828125, 0.00170135498046875, 0.001434326171875, 0.00162506103515625, 0.00186920166015625, 0.0016021728515625, 0.00113677978515625, 0.000911712646484375, 0.002593994140625, 0.001434326171875, 0.0196533203125, 0.00799560546875, 0.00567626953125, 0.01556396484375]}\n",
       "    )\n",
       "    </script>"
      ],
      "text/plain": [
       "<circuitsvis.utils.render.RenderedHTML at 0x7fa4e04e9950>"
      ]
     },
     "metadata": {},
     "output_type": "display_data"
    },
    {
     "name": "stdout",
     "output_type": "stream",
     "text": [
      "2025-08-01 14:16:23 __main__ INFO     Layer: 47, Head: 18\n"
     ]
    },
    {
     "data": {
      "text/html": [
       "<div id=\"circuits-vis-94cb3f10-9ae9\" style=\"margin: 15px 0;\"/>\n",
       "    <script crossorigin type=\"module\">\n",
       "    import { render, ColoredTokens } from \"https://unpkg.com/circuitsvis@1.43.3/dist/cdn/esm.js\";\n",
       "    render(\n",
       "      \"circuits-vis-94cb3f10-9ae9\",\n",
       "      ColoredTokens,\n",
       "      {\"tokens\": [\"1\", \".\", \" O\", \"'D\", \"onn\", \"ell\", \",\", \" Nor\", \"ah\", \"\\n\", \"2\", \".\", \" Roberts\", \",\", \" Julia\", \"\\n\", \"3\", \".\", \" Mc\", \"Il\", \"roy\", \",\", \" Rory\", \"\\n\", \"4\", \".\", \" K\", \"vit\", \"ov\\u00e1\", \",\", \" Petra\", \"\\n\", \"5\", \".\", \" L\", \"oub\", \"out\", \"in\", \",\", \" Christian\", \"\\n\", \"6\", \".\", \" Anderson\", \",\", \" Wes\", \"\\n\", \"Who\", \" among\", \" these\", \" people\", \" mentioned\", \" above\", \" is\", \" by\", \" profession\", \" a\", \" actor\", \"?\\n\", \"Answer\", \":\"], \"values\": [0.002166748046875, 0.0035552978515625, 0.004180908203125, 0.00133514404296875, 0.000659942626953125, 0.0013427734375, 0.0026702880859375, 0.0029449462890625, 0.002044677734375, 0.004425048828125, 0.0152587890625, 0.00732421875, 0.490234375, 0.09228515625, 0.064453125, 0.07421875, 0.040771484375, 0.048095703125, 0.00244140625, 0.0001277923583984375, 0.0002841949462890625, 0.0012054443359375, 0.00115966796875, 0.00958251953125, 0.00946044921875, 0.0079345703125, 0.002777099609375, 1.436471939086914e-05, 0.000141143798828125, 0.00035858154296875, 0.00017833709716796875, 0.0032806396484375, 0.000888824462890625, 0.004180908203125, 0.005615234375, 3.910064697265625e-05, 1.7881393432617188e-05, 4.291534423828125e-05, 9.107589721679688e-05, 4.029273986816406e-05, 0.00041961669921875, 0.00390625, 0.00238037109375, 0.000629425048828125, 0.0078125, 0.00274658203125, 0.00127410888671875, 0.0029449462890625, 0.0004329681396484375, 0.000797271728515625, 0.0003757476806640625, 0.00016689300537109375, 0.000946044921875, 0.0006103515625, 0.000446319580078125, 0.000507354736328125, 0.000835418701171875, 0.001434326171875, 0.004913330078125, 0.007415771484375, 0.0106201171875]}\n",
       "    )\n",
       "    </script>"
      ],
      "text/plain": [
       "<circuitsvis.utils.render.RenderedHTML at 0x7fa4e055bd10>"
      ]
     },
     "metadata": {},
     "output_type": "display_data"
    },
    {
     "name": "stdout",
     "output_type": "stream",
     "text": [
      "2025-08-01 14:16:23 __main__ INFO     Layer: 52, Head: 58\n"
     ]
    },
    {
     "data": {
      "text/html": [
       "<div id=\"circuits-vis-0ce94105-6d44\" style=\"margin: 15px 0;\"/>\n",
       "    <script crossorigin type=\"module\">\n",
       "    import { render, ColoredTokens } from \"https://unpkg.com/circuitsvis@1.43.3/dist/cdn/esm.js\";\n",
       "    render(\n",
       "      \"circuits-vis-0ce94105-6d44\",\n",
       "      ColoredTokens,\n",
       "      {\"tokens\": [\"1\", \".\", \" O\", \"'D\", \"onn\", \"ell\", \",\", \" Nor\", \"ah\", \"\\n\", \"2\", \".\", \" Roberts\", \",\", \" Julia\", \"\\n\", \"3\", \".\", \" Mc\", \"Il\", \"roy\", \",\", \" Rory\", \"\\n\", \"4\", \".\", \" K\", \"vit\", \"ov\\u00e1\", \",\", \" Petra\", \"\\n\", \"5\", \".\", \" L\", \"oub\", \"out\", \"in\", \",\", \" Christian\", \"\\n\", \"6\", \".\", \" Anderson\", \",\", \" Wes\", \"\\n\", \"Who\", \" among\", \" these\", \" people\", \" mentioned\", \" above\", \" is\", \" by\", \" profession\", \" a\", \" actor\", \"?\\n\", \"Answer\", \":\"], \"values\": [0.002593994140625, 0.004486083984375, 0.0038299560546875, 0.007049560546875, 0.013671875, 0.01611328125, 0.0196533203125, 0.01483154296875, 0.03271484375, 0.0201416015625, 0.004913330078125, 0.003997802734375, 0.12109375, 0.03369140625, 0.35546875, 0.0301513671875, 0.003387451171875, 0.00872802734375, 0.001434326171875, 0.0002918243408203125, 0.00048065185546875, 0.00093841552734375, 0.0030364990234375, 0.002899169921875, 0.00124359130859375, 0.00124359130859375, 0.000644683837890625, 0.00010728836059570312, 0.000560760498046875, 0.00075531005859375, 0.0006866455078125, 0.00189971923828125, 0.00012493133544921875, 0.0006866455078125, 0.0013275146484375, 0.00015544891357421875, 7.343292236328125e-05, 6.723403930664062e-05, 0.00012874603271484375, 8.106231689453125e-05, 0.00010061264038085938, 0.0002727508544921875, 0.00058746337890625, 0.00058746337890625, 0.00531005859375, 0.00469970703125, 0.00115203857421875, 0.00145721435546875, 0.0023651123046875, 0.00081634521484375, 0.0002994537353515625, 0.0008544921875, 0.00152587890625, 0.0006561279296875, 0.0002918243408203125, 0.00124359130859375, 0.00128173828125, 0.00732421875, 0.0023651123046875, 0.00136566162109375, 0.0159912109375]}\n",
       "    )\n",
       "    </script>"
      ],
      "text/plain": [
       "<circuitsvis.utils.render.RenderedHTML at 0x7fa540191b90>"
      ]
     },
     "metadata": {},
     "output_type": "display_data"
    },
    {
     "data": {
      "text/plain": [
       "[PredictedToken(token=' Julia', prob=0.33203125, logit=19.625, token_id=40394, metadata=None),\n",
       " PredictedToken(token=' Roberts', prob=0.259765625, logit=19.375, token_id=31248, metadata=None),\n",
       " PredictedToken(token=' ', prob=0.138671875, logit=18.75, token_id=220, metadata=None),\n",
       " PredictedToken(token=' (', prob=0.051025390625, logit=17.75, token_id=320, metadata=None),\n",
       " PredictedToken(token=' Option', prob=0.045166015625, logit=17.625, token_id=7104, metadata=None)]"
      ]
     },
     "execution_count": 17,
     "metadata": {},
     "output_type": "execute_result"
    }
   ],
   "source": [
    "prompt_template = \"\"\"{}\n",
    "Who among these people mentioned above is by profession a {}?\n",
    "Answer:\"\"\"\n",
    "\n",
    "sample.options = [\"Norah O'Donnell\", \"Julia Roberts\", \"Rory McIlroy\", \"Petra Kvitová\", \"Christian Louboutin\", \"Wes Anderson\"]\n",
    "# prompt = prompt_template.format(\n",
    "#     \", \".join(sample.options),\n",
    "#     sample.metadata[\"attribute\"]\n",
    "# )\n",
    "\n",
    "last_name_first = []\n",
    "for name in sample.options:\n",
    "    first_name = name.split(\" \")[0]\n",
    "    last_name = \" \".join(name.split(\" \")[1:])\n",
    "    last_name_first.append(f\"{last_name}, {first_name}\")\n",
    "\n",
    "prompt = prompt_template.format(\n",
    "    \"\\n\".join(f\"{idx+1}. {name}\" for idx, name in enumerate(last_name_first)),\n",
    "    sample.metadata[\"attribute\"]\n",
    ")\n",
    "\n",
    "# prompt = sample.prompt\n",
    "\n",
    "print(prompt, \" >> \")\n",
    "\n",
    "verify = verify_head_patterns(\n",
    "    prompt=prompt,\n",
    "    options=sample.options,\n",
    "    pivot=sample.match_with,\n",
    "    mt=mt,\n",
    "    value_weighted=False,\n",
    "    generate_full_answer=True,\n",
    ")\n",
    "\n",
    "verify[\"predictions\"]"
   ]
  },
  {
   "cell_type": "code",
   "execution_count": null,
   "id": "fda47f59",
   "metadata": {},
   "outputs": [
    {
     "name": "stdout",
     "output_type": "stream",
     "text": [
      "2025-08-01 14:19:06 __main__ DEBUG    O'Donnell, Norah | opt_range=(3, 10) | bare_opt_range=(4, 11) | \" O'Donnell, Norah\"\n"
     ]
    },
    {
     "name": "stdout",
     "output_type": "stream",
     "text": [
      "2025-08-01 14:19:06 __main__ DEBUG    Roberts, Julia | opt_range=(13, 16) | bare_opt_range=(4, 7) | \" Roberts, Julia\"\n",
      "2025-08-01 14:19:06 __main__ DEBUG    McIlroy, Rory | opt_range=(19, 24) | bare_opt_range=(4, 9) | \" McIlroy, Rory\"\n",
      "2025-08-01 14:19:06 __main__ DEBUG    Kvitová, Petra | opt_range=(27, 32) | bare_opt_range=(4, 9) | \" Kvitová, Petra\"\n",
      "2025-08-01 14:19:06 __main__ DEBUG    Louboutin, Christian | opt_range=(35, 41) | bare_opt_range=(4, 10) | \" Louboutin, Christian\"\n",
      "2025-08-01 14:19:07 __main__ DEBUG    Anderson, Wes | opt_range=(44, 47) | bare_opt_range=(4, 7) | \" Anderson, Wes\"\n",
      "2025-08-01 14:19:17 __main__ DEBUG    Predictions: ['\" Roberts\"[31248] (p=0.314, logit=19.625)', '\" Julia\"[40394] (p=0.277, logit=19.500)', '\" \"[220] (p=0.149, logit=18.875)', '\" (\"[320] (p=0.048, logit=17.750)', '\" Option\"[7104] (p=0.043, logit=17.625)']\n",
      "layer=35\n"
     ]
    },
    {
     "data": {
      "text/html": [
       "<div id=\"circuits-vis-1e1ff209-93ab\" style=\"margin: 15px 0;\"/>\n",
       "    <script crossorigin type=\"module\">\n",
       "    import { render, ColoredTokens } from \"https://unpkg.com/circuitsvis@1.43.3/dist/cdn/esm.js\";\n",
       "    render(\n",
       "      \"circuits-vis-1e1ff209-93ab\",\n",
       "      ColoredTokens,\n",
       "      {\"tokens\": [\"1\", \".\", \" O\", \"'D\", \"onn\", \"ell\", \",\", \" Nor\", \"ah\", \"\\n\", \"2\", \".\", \" Roberts\", \",\", \" Julia\", \"\\n\", \"3\", \".\", \" Mc\", \"Il\", \"roy\", \",\", \" Rory\", \"\\n\", \"4\", \".\", \" K\", \"vit\", \"ov\\u00e1\", \",\", \" Petra\", \"\\n\", \"5\", \".\", \" L\", \"oub\", \"out\", \"in\", \",\", \" Christian\", \"\\n\", \"6\", \".\", \" Anderson\", \",\", \" Wes\", \"\\n\", \"Who\", \" among\", \" these\", \" people\", \" mentioned\", \" above\", \" is\", \" by\", \" profession\", \" a\", \" actor\", \"?\\n\", \"Answer\", \":\"], \"values\": [0.020054101943969727, 0.004036948084831238, 0.0010601356625556946, 0.0018433593213558197, 0.0031266845762729645, 0.0021447576582431793, 0.004504036158323288, 0.0010325200855731964, 0.006250068545341492, 0.0077201128005981445, 0.021252185106277466, 0.0070319101214408875, 0.003369580954313278, 0.002584703266620636, 0.028610922396183014, 0.053301677107810974, 0.011207381263375282, 0.022993266582489014, 0.0030805952847003937, 0.001368219032883644, 0.0018905606120824814, 0.002752711996436119, 0.006696321070194244, 0.011410444974899292, 0.009868279099464417, 0.004266608506441116, 0.002135796472430229, 0.0009117908775806427, 0.0017708539962768555, 0.0015622694045305252, 0.0014977902173995972, 0.0026981383562088013, 0.0033308416604995728, 0.0018485449254512787, 0.003115318715572357, 0.000667821615934372, 0.0007910523563623428, 0.001811288297176361, 0.000933181494474411, 0.0017769243568181992, 0.0022017434239387512, 0.006136000156402588, 0.0030690431594848633, 0.0012018680572509766, 0.0024749580770730972, 0.00944044440984726, 0.008819356560707092, 0.009395062923431396, 0.006055507808923721, 0.00711565837264061, 0.003047749400138855, 0.002755618654191494, 0.006140147335827351, 0.004450622946023941, 0.001913837157189846, 0.0066388859413564205, 0.0036383718252182007, 0.024318009614944458, 0.026889890432357788, 0.020081445574760437, 0.033994197845458984]}\n",
       "    )\n",
       "    </script>"
      ],
      "text/plain": [
       "<circuitsvis.utils.render.RenderedHTML at 0x7fa5400f1ad0>"
      ]
     },
     "metadata": {},
     "output_type": "display_data"
    },
    {
     "name": "stdout",
     "output_type": "stream",
     "text": [
      "--------------------------------------------------------------------------------\n",
      "layer=47\n"
     ]
    },
    {
     "data": {
      "text/html": [
       "<div id=\"circuits-vis-523a5306-7d84\" style=\"margin: 15px 0;\"/>\n",
       "    <script crossorigin type=\"module\">\n",
       "    import { render, ColoredTokens } from \"https://unpkg.com/circuitsvis@1.43.3/dist/cdn/esm.js\";\n",
       "    render(\n",
       "      \"circuits-vis-523a5306-7d84\",\n",
       "      ColoredTokens,\n",
       "      {\"tokens\": [\"1\", \".\", \" O\", \"'D\", \"onn\", \"ell\", \",\", \" Nor\", \"ah\", \"\\n\", \"2\", \".\", \" Roberts\", \",\", \" Julia\", \"\\n\", \"3\", \".\", \" Mc\", \"Il\", \"roy\", \",\", \" Rory\", \"\\n\", \"4\", \".\", \" K\", \"vit\", \"ov\\u00e1\", \",\", \" Petra\", \"\\n\", \"5\", \".\", \" L\", \"oub\", \"out\", \"in\", \",\", \" Christian\", \"\\n\", \"6\", \".\", \" Anderson\", \",\", \" Wes\", \"\\n\", \"Who\", \" among\", \" these\", \" people\", \" mentioned\", \" above\", \" is\", \" by\", \" profession\", \" a\", \" actor\", \"?\\n\", \"Answer\", \":\"], \"values\": [0.0016742125153541565, 0.0010583139955997467, 0.00030697789043188095, 0.0003290073946118355, 0.00034866854548454285, 0.0003725104033946991, 0.00042519066482782364, 0.0004377528093755245, 0.0009568165987730026, 0.0019008740782737732, 0.0013614688068628311, 0.00047693727537989616, 0.018777422606945038, 0.003143529873341322, 0.004342460539191961, 0.0038481075316667557, 0.0012488304637372494, 0.0014894390478730202, 0.00032082595862448215, 0.00014304218348115683, 0.00016008142847567797, 0.00020994863007217646, 0.0006710235029459, 0.00128839910030365, 0.001077909953892231, 0.0007668239995837212, 0.0004473770968616009, 0.00019695237278938293, 0.00032352423295378685, 0.0002082575811073184, 0.00030886707827448845, 0.0005112648941576481, 0.00037372205406427383, 0.00046880217269062996, 0.00046656373888254166, 0.00018895138055086136, 6.222352385520935e-05, 0.00026629120111465454, 7.859314791858196e-05, 0.00030181556940078735, 0.00025497376918792725, 0.000864208210259676, 0.0004679635167121887, 0.0005038781091570854, 0.001152094453573227, 0.0007499195635318756, 0.00040344102308154106, 0.001661498099565506, 0.0008368408307433128, 0.0007250569760799408, 0.0005235848948359489, 0.0006969906389713287, 0.0007206862792372704, 0.0006120605394244194, 0.00041349977254867554, 0.0014535356312990189, 0.0005377214401960373, 0.002401994541287422, 0.00833970308303833, 0.009401246905326843, 0.0026987791061401367]}\n",
       "    )\n",
       "    </script>"
      ],
      "text/plain": [
       "<circuitsvis.utils.render.RenderedHTML at 0x7fa567994550>"
      ]
     },
     "metadata": {},
     "output_type": "display_data"
    },
    {
     "name": "stdout",
     "output_type": "stream",
     "text": [
      "--------------------------------------------------------------------------------\n",
      "layer=52\n"
     ]
    },
    {
     "data": {
      "text/html": [
       "<div id=\"circuits-vis-a1e91d22-aa54\" style=\"margin: 15px 0;\"/>\n",
       "    <script crossorigin type=\"module\">\n",
       "    import { render, ColoredTokens } from \"https://unpkg.com/circuitsvis@1.43.3/dist/cdn/esm.js\";\n",
       "    render(\n",
       "      \"circuits-vis-a1e91d22-aa54\",\n",
       "      ColoredTokens,\n",
       "      {\"tokens\": [\"1\", \".\", \" O\", \"'D\", \"onn\", \"ell\", \",\", \" Nor\", \"ah\", \"\\n\", \"2\", \".\", \" Roberts\", \",\", \" Julia\", \"\\n\", \"3\", \".\", \" Mc\", \"Il\", \"roy\", \",\", \" Rory\", \"\\n\", \"4\", \".\", \" K\", \"vit\", \"ov\\u00e1\", \",\", \" Petra\", \"\\n\", \"5\", \".\", \" L\", \"oub\", \"out\", \"in\", \",\", \" Christian\", \"\\n\", \"6\", \".\", \" Anderson\", \",\", \" Wes\", \"\\n\", \"Who\", \" among\", \" these\", \" people\", \" mentioned\", \" above\", \" is\", \" by\", \" profession\", \" a\", \" actor\", \"?\\n\", \"Answer\", \":\"], \"values\": [0.003863491117954254, 0.0037270057946443558, 0.0013902094215154648, 0.0011935438960790634, 0.0008702035993337631, 0.001380613073706627, 0.00193069688975811, 0.002535841427743435, 0.002568100579082966, 0.005691863596439362, 0.00412696972489357, 0.001664336770772934, 0.012967419810593128, 0.0035741939209401608, 0.01340925507247448, 0.002956375479698181, 0.0021063918247818947, 0.003226734697818756, 0.0006480724550783634, 0.00025617657229304314, 0.0003326775040477514, 0.0005988324992358685, 0.001360265538096428, 0.0016938988119363785, 0.0027900151908397675, 0.0016846228390932083, 0.0006313996855169535, 0.0003945539938285947, 0.0020115370862185955, 0.0006284017581492662, 0.0007077893242239952, 0.0008312426507472992, 0.0011030198074877262, 0.001395130529999733, 0.0008896458894014359, 0.00031055789440870285, 0.00010361924069002271, 0.0003761854022741318, 0.00024673191364854574, 0.00048254290595650673, 0.0004647448658943176, 0.001869688741862774, 0.0014052223414182663, 0.0005842600949108601, 0.001136539038270712, 0.0018444955348968506, 0.0007496904581785202, 0.003771301358938217, 0.0027307001873850822, 0.002110367640852928, 0.0014369497075676918, 0.001451385673135519, 0.003234616946429014, 0.0013827048242092133, 0.0008175084367394447, 0.0019862279295921326, 0.0013923011720180511, 0.005111135542392731, 0.02079988270998001, 0.021694038063287735, 0.022841371595859528]}\n",
       "    )\n",
       "    </script>"
      ],
      "text/plain": [
       "<circuitsvis.utils.render.RenderedHTML at 0x7fa567995950>"
      ]
     },
     "metadata": {},
     "output_type": "display_data"
    },
    {
     "name": "stdout",
     "output_type": "stream",
     "text": [
      "--------------------------------------------------------------------------------\n",
      "======================================================================\n",
      "2025-08-01 14:19:18 __main__ INFO     Layer: 33, Head: 45\n"
     ]
    },
    {
     "data": {
      "text/html": [
       "<div id=\"circuits-vis-2253d7cb-eb57\" style=\"margin: 15px 0;\"/>\n",
       "    <script crossorigin type=\"module\">\n",
       "    import { render, ColoredTokens } from \"https://unpkg.com/circuitsvis@1.43.3/dist/cdn/esm.js\";\n",
       "    render(\n",
       "      \"circuits-vis-2253d7cb-eb57\",\n",
       "      ColoredTokens,\n",
       "      {\"tokens\": [\"1\", \".\", \" O\", \"'D\", \"onn\", \"ell\", \",\", \" Nor\", \"ah\", \"\\n\", \"2\", \".\", \" Roberts\", \",\", \" Julia\", \"\\n\", \"3\", \".\", \" Mc\", \"Il\", \"roy\", \",\", \" Rory\", \"\\n\", \"4\", \".\", \" K\", \"vit\", \"ov\\u00e1\", \",\", \" Petra\", \"\\n\", \"5\", \".\", \" L\", \"oub\", \"out\", \"in\", \",\", \" Christian\", \"\\n\", \"6\", \".\", \" Anderson\", \",\", \" Wes\", \"\\n\", \"Who\", \" among\", \" these\", \" people\", \" mentioned\", \" above\", \" is\", \" by\", \" profession\", \" a\", \" actor\", \"?\\n\", \"Answer\", \":\"], \"values\": [0.035400390625, 0.003265380859375, 0.004669189453125, 0.006256103515625, 0.006683349609375, 0.0047607421875, 0.01434326171875, 0.00250244140625, 0.0128173828125, 0.01202392578125, 0.01300048828125, 0.01300048828125, 0.0301513671875, 0.03076171875, 0.0966796875, 0.0654296875, 0.006256103515625, 0.0225830078125, 0.017333984375, 0.01068115234375, 0.006134033203125, 0.00872802734375, 0.00445556640625, 0.01129150390625, 0.00799560546875, 0.0093994140625, 0.00537109375, 0.003997802734375, 0.007781982421875, 0.003753662109375, 0.005218505859375, 0.00518798828125, 0.0035247802734375, 0.00537109375, 0.00634765625, 0.00142669677734375, 0.000865936279296875, 0.0027923583984375, 0.00201416015625, 0.0025482177734375, 0.0011138916015625, 0.007232666015625, 0.00311279296875, 0.00799560546875, 0.02783203125, 0.0203857421875, 0.01104736328125, 0.0198974609375, 0.0033721923828125, 0.0047607421875, 0.001617431640625, 0.00274658203125, 0.004547119140625, 0.0033721923828125, 0.00063323974609375, 0.00109100341796875, 0.00147247314453125, 0.028564453125, 0.05517578125, 0.00506591796875, 0.047607421875]}\n",
       "    )\n",
       "    </script>"
      ],
      "text/plain": [
       "<circuitsvis.utils.render.RenderedHTML at 0x7fa4c037ad90>"
      ]
     },
     "metadata": {},
     "output_type": "display_data"
    },
    {
     "name": "stdout",
     "output_type": "stream",
     "text": [
      "2025-08-01 14:19:18 __main__ INFO     Layer: 33, Head: 18\n"
     ]
    },
    {
     "data": {
      "text/html": [
       "<div id=\"circuits-vis-6567e61a-cc33\" style=\"margin: 15px 0;\"/>\n",
       "    <script crossorigin type=\"module\">\n",
       "    import { render, ColoredTokens } from \"https://unpkg.com/circuitsvis@1.43.3/dist/cdn/esm.js\";\n",
       "    render(\n",
       "      \"circuits-vis-6567e61a-cc33\",\n",
       "      ColoredTokens,\n",
       "      {\"tokens\": [\"1\", \".\", \" O\", \"'D\", \"onn\", \"ell\", \",\", \" Nor\", \"ah\", \"\\n\", \"2\", \".\", \" Roberts\", \",\", \" Julia\", \"\\n\", \"3\", \".\", \" Mc\", \"Il\", \"roy\", \",\", \" Rory\", \"\\n\", \"4\", \".\", \" K\", \"vit\", \"ov\\u00e1\", \",\", \" Petra\", \"\\n\", \"5\", \".\", \" L\", \"oub\", \"out\", \"in\", \",\", \" Christian\", \"\\n\", \"6\", \".\", \" Anderson\", \",\", \" Wes\", \"\\n\", \"Who\", \" among\", \" these\", \" people\", \" mentioned\", \" above\", \" is\", \" by\", \" profession\", \" a\", \" actor\", \"?\\n\", \"Answer\", \":\"], \"values\": [0.00167083740234375, 0.0012664794921875, 0.0002193450927734375, 0.0021209716796875, 0.000812530517578125, 0.0005035400390625, 0.007568359375, 0.00014209747314453125, 0.0023193359375, 0.0185546875, 0.04052734375, 0.0223388671875, 0.00311279296875, 0.00799560546875, 0.13671875, 0.361328125, 0.032958984375, 0.1875, 0.00799560546875, 0.0002498626708984375, 0.0012359619140625, 0.00537109375, 0.01007080078125, 0.0291748046875, 0.0269775390625, 0.01123046875, 0.000774383544921875, 8.20159912109375e-05, 0.0009765625, 0.00167083740234375, 0.0009307861328125, 0.01318359375, 0.0018310546875, 0.0010986328125, 0.00179290771484375, 0.000148773193359375, 0.000148773193359375, 0.0003185272216796875, 0.0004673004150390625, 0.00101470947265625, 0.004302978515625, 0.006317138671875, 0.00093841552734375, 0.0004367828369140625, 0.004364013671875, 0.00494384765625, 0.0081787109375, 0.0012359619140625, 3.218650817871094e-05, 3.409385681152344e-05, 5.364418029785156e-05, 3.0517578125e-05, 3.933906555175781e-05, 2.9206275939941406e-05, 1.4901161193847656e-05, 2.0384788513183594e-05, 0.0001583099365234375, 0.0037689208984375, 0.00025177001953125, 0.0002956390380859375, 0.002899169921875]}\n",
       "    )\n",
       "    </script>"
      ],
      "text/plain": [
       "<circuitsvis.utils.render.RenderedHTML at 0x7fa4c01c5510>"
      ]
     },
     "metadata": {},
     "output_type": "display_data"
    },
    {
     "name": "stdout",
     "output_type": "stream",
     "text": [
      "2025-08-01 14:19:18 __main__ INFO     Layer: 34, Head: 1\n"
     ]
    },
    {
     "data": {
      "text/html": [
       "<div id=\"circuits-vis-c7a2d04d-4a93\" style=\"margin: 15px 0;\"/>\n",
       "    <script crossorigin type=\"module\">\n",
       "    import { render, ColoredTokens } from \"https://unpkg.com/circuitsvis@1.43.3/dist/cdn/esm.js\";\n",
       "    render(\n",
       "      \"circuits-vis-c7a2d04d-4a93\",\n",
       "      ColoredTokens,\n",
       "      {\"tokens\": [\"1\", \".\", \" O\", \"'D\", \"onn\", \"ell\", \",\", \" Nor\", \"ah\", \"\\n\", \"2\", \".\", \" Roberts\", \",\", \" Julia\", \"\\n\", \"3\", \".\", \" Mc\", \"Il\", \"roy\", \",\", \" Rory\", \"\\n\", \"4\", \".\", \" K\", \"vit\", \"ov\\u00e1\", \",\", \" Petra\", \"\\n\", \"5\", \".\", \" L\", \"oub\", \"out\", \"in\", \",\", \" Christian\", \"\\n\", \"6\", \".\", \" Anderson\", \",\", \" Wes\", \"\\n\", \"Who\", \" among\", \" these\", \" people\", \" mentioned\", \" above\", \" is\", \" by\", \" profession\", \" a\", \" actor\", \"?\\n\", \"Answer\", \":\"], \"values\": [0.005889892578125, 0.00072479248046875, 0.00048828125, 0.0030059814453125, 0.00848388671875, 0.0033416748046875, 0.0079345703125, 0.000152587890625, 0.01324462890625, 0.0018768310546875, 0.0198974609375, 0.018798828125, 0.01397705078125, 0.00592041015625, 0.318359375, 0.318359375, 0.039306640625, 0.072265625, 0.004058837890625, 0.000652313232421875, 0.000614166259765625, 0.00106048583984375, 0.00011539459228515625, 0.00118255615234375, 0.005401611328125, 0.0152587890625, 0.00133514404296875, 7.748603820800781e-06, 2.0384788513183594e-05, 4.315376281738281e-05, 1.9788742065429688e-05, 0.000396728515625, 0.001983642578125, 5.888938903808594e-05, 0.00177764892578125, 9.59634780883789e-06, 7.009506225585938e-05, 2.0384788513183594e-05, 1.6927719116210938e-05, 7.104873657226562e-05, 2.6941299438476562e-05, 0.00165557861328125, 0.002532958984375, 0.00019931793212890625, 0.00439453125, 0.002716064453125, 0.000965118408203125, 0.003692626953125, 0.000606536865234375, 0.0013275146484375, 0.0004863739013671875, 0.00061798095703125, 0.0003452301025390625, 0.0001964569091796875, 0.00014400482177734375, 2.2411346435546875e-05, 0.00010204315185546875, 0.0252685546875, 0.002838134765625, 0.0002803802490234375, 0.0184326171875]}\n",
       "    )\n",
       "    </script>"
      ],
      "text/plain": [
       "<circuitsvis.utils.render.RenderedHTML at 0x7fa618729c90>"
      ]
     },
     "metadata": {},
     "output_type": "display_data"
    },
    {
     "name": "stdout",
     "output_type": "stream",
     "text": [
      "2025-08-01 14:19:18 __main__ INFO     Layer: 34, Head: 6\n"
     ]
    },
    {
     "data": {
      "text/html": [
       "<div id=\"circuits-vis-3bb42dbb-14cb\" style=\"margin: 15px 0;\"/>\n",
       "    <script crossorigin type=\"module\">\n",
       "    import { render, ColoredTokens } from \"https://unpkg.com/circuitsvis@1.43.3/dist/cdn/esm.js\";\n",
       "    render(\n",
       "      \"circuits-vis-3bb42dbb-14cb\",\n",
       "      ColoredTokens,\n",
       "      {\"tokens\": [\"1\", \".\", \" O\", \"'D\", \"onn\", \"ell\", \",\", \" Nor\", \"ah\", \"\\n\", \"2\", \".\", \" Roberts\", \",\", \" Julia\", \"\\n\", \"3\", \".\", \" Mc\", \"Il\", \"roy\", \",\", \" Rory\", \"\\n\", \"4\", \".\", \" K\", \"vit\", \"ov\\u00e1\", \",\", \" Petra\", \"\\n\", \"5\", \".\", \" L\", \"oub\", \"out\", \"in\", \",\", \" Christian\", \"\\n\", \"6\", \".\", \" Anderson\", \",\", \" Wes\", \"\\n\", \"Who\", \" among\", \" these\", \" people\", \" mentioned\", \" above\", \" is\", \" by\", \" profession\", \" a\", \" actor\", \"?\\n\", \"Answer\", \":\"], \"values\": [0.025634765625, 0.0010528564453125, 0.00093841552734375, 0.00299072265625, 0.013427734375, 0.007080078125, 0.010009765625, 0.00058746337890625, 0.01336669921875, 0.003509521484375, 0.01300048828125, 0.00848388671875, 0.03515625, 0.0111083984375, 0.294921875, 0.2158203125, 0.033447265625, 0.05908203125, 0.005706787109375, 0.003204345703125, 0.00183868408203125, 0.0030975341796875, 0.0004291534423828125, 0.00213623046875, 0.00830078125, 0.01324462890625, 0.0029449462890625, 0.00013065338134765625, 0.0002193450927734375, 0.00028228759765625, 0.0002002716064453125, 0.0013885498046875, 0.0024566650390625, 0.000324249267578125, 0.00421142578125, 7.581710815429688e-05, 0.0003204345703125, 0.00014400482177734375, 7.581710815429688e-05, 0.0002727508544921875, 9.72747802734375e-05, 0.0026397705078125, 0.0020904541015625, 0.00153350830078125, 0.0115966796875, 0.00811767578125, 0.00341796875, 0.00543212890625, 0.0008697509765625, 0.002349853515625, 0.00070953369140625, 0.0008544921875, 0.00037384033203125, 0.0004787445068359375, 0.00045013427734375, 3.361701965332031e-05, 0.000457763671875, 0.045654296875, 0.006072998046875, 0.00021648406982421875, 0.036865234375]}\n",
       "    )\n",
       "    </script>"
      ],
      "text/plain": [
       "<circuitsvis.utils.render.RenderedHTML at 0x7fa4a0452b90>"
      ]
     },
     "metadata": {},
     "output_type": "display_data"
    },
    {
     "name": "stdout",
     "output_type": "stream",
     "text": [
      "2025-08-01 14:19:18 __main__ INFO     Layer: 34, Head: 7\n"
     ]
    },
    {
     "data": {
      "text/html": [
       "<div id=\"circuits-vis-edfc64bd-ade5\" style=\"margin: 15px 0;\"/>\n",
       "    <script crossorigin type=\"module\">\n",
       "    import { render, ColoredTokens } from \"https://unpkg.com/circuitsvis@1.43.3/dist/cdn/esm.js\";\n",
       "    render(\n",
       "      \"circuits-vis-edfc64bd-ade5\",\n",
       "      ColoredTokens,\n",
       "      {\"tokens\": [\"1\", \".\", \" O\", \"'D\", \"onn\", \"ell\", \",\", \" Nor\", \"ah\", \"\\n\", \"2\", \".\", \" Roberts\", \",\", \" Julia\", \"\\n\", \"3\", \".\", \" Mc\", \"Il\", \"roy\", \",\", \" Rory\", \"\\n\", \"4\", \".\", \" K\", \"vit\", \"ov\\u00e1\", \",\", \" Petra\", \"\\n\", \"5\", \".\", \" L\", \"oub\", \"out\", \"in\", \",\", \" Christian\", \"\\n\", \"6\", \".\", \" Anderson\", \",\", \" Wes\", \"\\n\", \"Who\", \" among\", \" these\", \" people\", \" mentioned\", \" above\", \" is\", \" by\", \" profession\", \" a\", \" actor\", \"?\\n\", \"Answer\", \":\"], \"values\": [0.0439453125, 0.000720977783203125, 0.000926971435546875, 0.00213623046875, 0.00408935546875, 0.002593994140625, 0.003753662109375, 0.00051116943359375, 0.00836181640625, 0.0029754638671875, 0.0091552734375, 0.006988525390625, 0.0089111328125, 0.003082275390625, 0.10400390625, 0.091796875, 0.0133056640625, 0.0201416015625, 0.00323486328125, 0.001708984375, 0.0023193359375, 0.0021514892578125, 0.0031585693359375, 0.00640869140625, 0.009521484375, 0.01300048828125, 0.005218505859375, 0.000858306884765625, 0.00152587890625, 0.001251220703125, 0.001708984375, 0.0050048828125, 0.004669189453125, 0.00152587890625, 0.005096435546875, 0.0002880096435546875, 0.000972747802734375, 0.00141143798828125, 0.00079345703125, 0.0040283203125, 0.0028839111328125, 0.01202392578125, 0.00537109375, 0.0033111572265625, 0.01409912109375, 0.023193359375, 0.0262451171875, 0.028564453125, 0.00823974609375, 0.0240478515625, 0.0057373046875, 0.00555419921875, 0.006561279296875, 0.00738525390625, 0.0020294189453125, 0.000591278076171875, 0.005157470703125, 0.130859375, 0.039794921875, 0.003204345703125, 0.12890625]}\n",
       "    )\n",
       "    </script>"
      ],
      "text/plain": [
       "<circuitsvis.utils.render.RenderedHTML at 0x7fa78018b790>"
      ]
     },
     "metadata": {},
     "output_type": "display_data"
    },
    {
     "name": "stdout",
     "output_type": "stream",
     "text": [
      "2025-08-01 14:19:18 __main__ INFO     Layer: 35, Head: 19\n"
     ]
    },
    {
     "data": {
      "text/html": [
       "<div id=\"circuits-vis-c827a609-4f67\" style=\"margin: 15px 0;\"/>\n",
       "    <script crossorigin type=\"module\">\n",
       "    import { render, ColoredTokens } from \"https://unpkg.com/circuitsvis@1.43.3/dist/cdn/esm.js\";\n",
       "    render(\n",
       "      \"circuits-vis-c827a609-4f67\",\n",
       "      ColoredTokens,\n",
       "      {\"tokens\": [\"1\", \".\", \" O\", \"'D\", \"onn\", \"ell\", \",\", \" Nor\", \"ah\", \"\\n\", \"2\", \".\", \" Roberts\", \",\", \" Julia\", \"\\n\", \"3\", \".\", \" Mc\", \"Il\", \"roy\", \",\", \" Rory\", \"\\n\", \"4\", \".\", \" K\", \"vit\", \"ov\\u00e1\", \",\", \" Petra\", \"\\n\", \"5\", \".\", \" L\", \"oub\", \"out\", \"in\", \",\", \" Christian\", \"\\n\", \"6\", \".\", \" Anderson\", \",\", \" Wes\", \"\\n\", \"Who\", \" among\", \" these\", \" people\", \" mentioned\", \" above\", \" is\", \" by\", \" profession\", \" a\", \" actor\", \"?\\n\", \"Answer\", \":\"], \"values\": [0.0028228759765625, 0.00013256072998046875, 0.000568389892578125, 0.001251220703125, 0.004058837890625, 0.00136566162109375, 0.00390625, 0.0012664794921875, 0.01483154296875, 0.005828857421875, 0.00927734375, 0.042236328125, 0.0020751953125, 0.00054931640625, 0.31640625, 0.271484375, 0.087890625, 0.04150390625, 0.0040283203125, 0.00067138671875, 0.00103759765625, 0.000789642333984375, 0.00506591796875, 0.0089111328125, 0.000888824462890625, 0.021240234375, 0.006988525390625, 0.000274658203125, 0.0018310546875, 0.00022792816162109375, 0.001708984375, 0.00191497802734375, 0.0015869140625, 0.002960205078125, 0.00640869140625, 5.9604644775390625e-05, 2.300739288330078e-05, 0.0003490447998046875, 9.059906005859375e-05, 0.00103759765625, 0.0020599365234375, 0.00021457672119140625, 0.006683349609375, 0.000537872314453125, 0.0010833740234375, 0.040771484375, 0.037841796875, 0.0035552978515625, 1.633167266845703e-05, 5.507469177246094e-05, 6.532669067382812e-05, 1.5735626220703125e-05, 3.993511199951172e-06, 3.24249267578125e-05, 5.1021575927734375e-05, 9.298324584960938e-06, 0.00013256072998046875, 0.0023040771484375, 0.0003795623779296875, 1.9073486328125e-05, 0.0010833740234375]}\n",
       "    )\n",
       "    </script>"
      ],
      "text/plain": [
       "<circuitsvis.utils.render.RenderedHTML at 0x7fa567949810>"
      ]
     },
     "metadata": {},
     "output_type": "display_data"
    },
    {
     "name": "stdout",
     "output_type": "stream",
     "text": [
      "2025-08-01 14:19:18 __main__ INFO     Layer: 39, Head: 40\n"
     ]
    },
    {
     "data": {
      "text/html": [
       "<div id=\"circuits-vis-efa80a05-df50\" style=\"margin: 15px 0;\"/>\n",
       "    <script crossorigin type=\"module\">\n",
       "    import { render, ColoredTokens } from \"https://unpkg.com/circuitsvis@1.43.3/dist/cdn/esm.js\";\n",
       "    render(\n",
       "      \"circuits-vis-efa80a05-df50\",\n",
       "      ColoredTokens,\n",
       "      {\"tokens\": [\"1\", \".\", \" O\", \"'D\", \"onn\", \"ell\", \",\", \" Nor\", \"ah\", \"\\n\", \"2\", \".\", \" Roberts\", \",\", \" Julia\", \"\\n\", \"3\", \".\", \" Mc\", \"Il\", \"roy\", \",\", \" Rory\", \"\\n\", \"4\", \".\", \" K\", \"vit\", \"ov\\u00e1\", \",\", \" Petra\", \"\\n\", \"5\", \".\", \" L\", \"oub\", \"out\", \"in\", \",\", \" Christian\", \"\\n\", \"6\", \".\", \" Anderson\", \",\", \" Wes\", \"\\n\", \"Who\", \" among\", \" these\", \" people\", \" mentioned\", \" above\", \" is\", \" by\", \" profession\", \" a\", \" actor\", \"?\\n\", \"Answer\", \":\"], \"values\": [0.0032958984375, 0.00213623046875, 0.000293731689453125, 0.0002880096435546875, 0.000408172607421875, 0.0002765655517578125, 0.00167083740234375, 0.000225067138671875, 0.000583648681640625, 0.0076904296875, 0.0012054443359375, 0.00506591796875, 0.0260009765625, 0.00921630859375, 0.0908203125, 0.62890625, 0.00958251953125, 0.06982421875, 0.00139617919921875, 0.0001621246337890625, 0.000186920166015625, 0.00138092041015625, 0.00034332275390625, 0.0242919921875, 0.0023040771484375, 0.003631591796875, 0.00054931640625, 8.165836334228516e-06, 5.173683166503906e-05, 0.0004329681396484375, 0.000102996826171875, 0.00921630859375, 0.00019550323486328125, 0.0021514892578125, 0.00098419189453125, 7.0035457611083984e-06, 5.811452865600586e-06, 5.304813385009766e-06, 4.863739013671875e-05, 5.8650970458984375e-05, 0.0001983642578125, 0.00070953369140625, 0.00042724609375, 0.0002079010009765625, 0.0028076171875, 0.0016937255859375, 0.00347900390625, 0.00167083740234375, 0.0013427734375, 0.0003032684326171875, 8.535385131835938e-05, 0.00029754638671875, 0.0009918212890625, 0.000370025634765625, 5.030632019042969e-05, 0.00011491775512695312, 0.00075531005859375, 0.004058837890625, 0.0299072265625, 0.0026397705078125, 0.0185546875]}\n",
       "    )\n",
       "    </script>"
      ],
      "text/plain": [
       "<circuitsvis.utils.render.RenderedHTML at 0x7fa4c01c4150>"
      ]
     },
     "metadata": {},
     "output_type": "display_data"
    },
    {
     "name": "stdout",
     "output_type": "stream",
     "text": [
      "2025-08-01 14:19:18 __main__ INFO     Layer: 42, Head: 30\n"
     ]
    },
    {
     "data": {
      "text/html": [
       "<div id=\"circuits-vis-36a7b112-cfaa\" style=\"margin: 15px 0;\"/>\n",
       "    <script crossorigin type=\"module\">\n",
       "    import { render, ColoredTokens } from \"https://unpkg.com/circuitsvis@1.43.3/dist/cdn/esm.js\";\n",
       "    render(\n",
       "      \"circuits-vis-36a7b112-cfaa\",\n",
       "      ColoredTokens,\n",
       "      {\"tokens\": [\"1\", \".\", \" O\", \"'D\", \"onn\", \"ell\", \",\", \" Nor\", \"ah\", \"\\n\", \"2\", \".\", \" Roberts\", \",\", \" Julia\", \"\\n\", \"3\", \".\", \" Mc\", \"Il\", \"roy\", \",\", \" Rory\", \"\\n\", \"4\", \".\", \" K\", \"vit\", \"ov\\u00e1\", \",\", \" Petra\", \"\\n\", \"5\", \".\", \" L\", \"oub\", \"out\", \"in\", \",\", \" Christian\", \"\\n\", \"6\", \".\", \" Anderson\", \",\", \" Wes\", \"\\n\", \"Who\", \" among\", \" these\", \" people\", \" mentioned\", \" above\", \" is\", \" by\", \" profession\", \" a\", \" actor\", \"?\\n\", \"Answer\", \":\"], \"values\": [0.005859375, 0.0018157958984375, 0.001251220703125, 0.0035552978515625, 0.00665283203125, 0.00457763671875, 0.009521484375, 0.00162506103515625, 0.0037841796875, 0.00897216796875, 0.006744384765625, 0.006744384765625, 0.173828125, 0.076171875, 0.05517578125, 0.06591796875, 0.01416015625, 0.0238037109375, 0.03173828125, 0.004486083984375, 0.0030364990234375, 0.003448486328125, 0.00122833251953125, 0.0069580078125, 0.00372314453125, 0.005340576171875, 0.00518798828125, 0.00112152099609375, 0.0020599365234375, 0.00112152099609375, 0.0006561279296875, 0.002197265625, 0.00067901611328125, 0.0026092529296875, 0.004486083984375, 0.00141143798828125, 0.00015163421630859375, 0.000701904296875, 0.00049591064453125, 0.0003299713134765625, 0.00098419189453125, 0.00153350830078125, 0.002197265625, 0.0093994140625, 0.0159912109375, 0.0016021728515625, 0.003448486328125, 0.005584716796875, 0.00162506103515625, 0.00145721435546875, 0.00176239013671875, 0.0019073486328125, 0.001708984375, 0.00115203857421875, 0.000957489013671875, 0.0027313232421875, 0.00141143798828125, 0.0189208984375, 0.007781982421875, 0.006134033203125, 0.01556396484375]}\n",
       "    )\n",
       "    </script>"
      ],
      "text/plain": [
       "<circuitsvis.utils.render.RenderedHTML at 0x7fa4c0445490>"
      ]
     },
     "metadata": {},
     "output_type": "display_data"
    },
    {
     "name": "stdout",
     "output_type": "stream",
     "text": [
      "2025-08-01 14:19:19 __main__ INFO     Layer: 47, Head: 18\n"
     ]
    },
    {
     "data": {
      "text/html": [
       "<div id=\"circuits-vis-83c1dcd9-c6b9\" style=\"margin: 15px 0;\"/>\n",
       "    <script crossorigin type=\"module\">\n",
       "    import { render, ColoredTokens } from \"https://unpkg.com/circuitsvis@1.43.3/dist/cdn/esm.js\";\n",
       "    render(\n",
       "      \"circuits-vis-83c1dcd9-c6b9\",\n",
       "      ColoredTokens,\n",
       "      {\"tokens\": [\"1\", \".\", \" O\", \"'D\", \"onn\", \"ell\", \",\", \" Nor\", \"ah\", \"\\n\", \"2\", \".\", \" Roberts\", \",\", \" Julia\", \"\\n\", \"3\", \".\", \" Mc\", \"Il\", \"roy\", \",\", \" Rory\", \"\\n\", \"4\", \".\", \" K\", \"vit\", \"ov\\u00e1\", \",\", \" Petra\", \"\\n\", \"5\", \".\", \" L\", \"oub\", \"out\", \"in\", \",\", \" Christian\", \"\\n\", \"6\", \".\", \" Anderson\", \",\", \" Wes\", \"\\n\", \"Who\", \" among\", \" these\", \" people\", \" mentioned\", \" above\", \" is\", \" by\", \" profession\", \" a\", \" actor\", \"?\\n\", \"Answer\", \":\"], \"values\": [0.001983642578125, 0.0033416748046875, 0.000659942626953125, 0.000701904296875, 0.0003528594970703125, 0.000659942626953125, 0.0026092529296875, 0.0018768310546875, 0.00159454345703125, 0.00396728515625, 0.01348876953125, 0.005645751953125, 0.51953125, 0.08935546875, 0.058837890625, 0.0810546875, 0.038330078125, 0.04052734375, 0.0021514892578125, 0.0001163482666015625, 0.000270843505859375, 0.001129150390625, 0.0010223388671875, 0.00909423828125, 0.0103759765625, 0.00885009765625, 0.002471923828125, 1.52587890625e-05, 0.000156402587890625, 0.000370025634765625, 0.00019168853759765625, 0.003387451171875, 0.0009002685546875, 0.00372314453125, 0.004608154296875, 3.24249267578125e-05, 1.52587890625e-05, 4.291534423828125e-05, 9.059906005859375e-05, 4.291534423828125e-05, 0.0003643035888671875, 0.0035858154296875, 0.002227783203125, 0.00060272216796875, 0.006927490234375, 0.002593994140625, 0.0013427734375, 0.0028228759765625, 0.0003871917724609375, 0.00077056884765625, 0.0003643035888671875, 0.000156402587890625, 0.000820159912109375, 0.000514984130859375, 0.0003757476806640625, 0.000453948974609375, 0.000713348388671875, 0.00116729736328125, 0.004119873046875, 0.006134033203125, 0.0098876953125]}\n",
       "    )\n",
       "    </script>"
      ],
      "text/plain": [
       "<circuitsvis.utils.render.RenderedHTML at 0x7fa56796eb50>"
      ]
     },
     "metadata": {},
     "output_type": "display_data"
    },
    {
     "name": "stdout",
     "output_type": "stream",
     "text": [
      "2025-08-01 14:19:19 __main__ INFO     Layer: 52, Head: 58\n"
     ]
    },
    {
     "data": {
      "text/html": [
       "<div id=\"circuits-vis-2693050c-fe47\" style=\"margin: 15px 0;\"/>\n",
       "    <script crossorigin type=\"module\">\n",
       "    import { render, ColoredTokens } from \"https://unpkg.com/circuitsvis@1.43.3/dist/cdn/esm.js\";\n",
       "    render(\n",
       "      \"circuits-vis-2693050c-fe47\",\n",
       "      ColoredTokens,\n",
       "      {\"tokens\": [\"1\", \".\", \" O\", \"'D\", \"onn\", \"ell\", \",\", \" Nor\", \"ah\", \"\\n\", \"2\", \".\", \" Roberts\", \",\", \" Julia\", \"\\n\", \"3\", \".\", \" Mc\", \"Il\", \"roy\", \",\", \" Rory\", \"\\n\", \"4\", \".\", \" K\", \"vit\", \"ov\\u00e1\", \",\", \" Petra\", \"\\n\", \"5\", \".\", \" L\", \"oub\", \"out\", \"in\", \",\", \" Christian\", \"\\n\", \"6\", \".\", \" Anderson\", \",\", \" Wes\", \"\\n\", \"Who\", \" among\", \" these\", \" people\", \" mentioned\", \" above\", \" is\", \" by\", \" profession\", \" a\", \" actor\", \"?\\n\", \"Answer\", \":\"], \"values\": [0.0027923583984375, 0.005096435546875, 0.000904083251953125, 0.003936767578125, 0.01104736328125, 0.00823974609375, 0.0247802734375, 0.012939453125, 0.03076171875, 0.025390625, 0.005767822265625, 0.003997802734375, 0.11474609375, 0.032958984375, 0.337890625, 0.039306640625, 0.0030670166015625, 0.00738525390625, 0.0012969970703125, 0.0002841949462890625, 0.000514984130859375, 0.001007080078125, 0.003204345703125, 0.0033111572265625, 0.00146484375, 0.0015411376953125, 0.0005645751953125, 0.00011873245239257812, 0.00069427490234375, 0.000888824462890625, 0.000934600830078125, 0.0023040771484375, 0.00014781951904296875, 0.000728607177734375, 0.000946044921875, 0.0001430511474609375, 6.771087646484375e-05, 8.392333984375e-05, 0.00014781951904296875, 0.00011491775512695312, 8.96453857421875e-05, 0.000293731689453125, 0.0006103515625, 0.0005950927734375, 0.0052490234375, 0.0052490234375, 0.00142669677734375, 0.00144195556640625, 0.00250244140625, 0.000888824462890625, 0.000331878662109375, 0.0009918212890625, 0.00171661376953125, 0.000652313232421875, 0.0002841949462890625, 0.00131988525390625, 0.0013580322265625, 0.007171630859375, 0.002655029296875, 0.0015869140625, 0.0177001953125]}\n",
       "    )\n",
       "    </script>"
      ],
      "text/plain": [
       "<circuitsvis.utils.render.RenderedHTML at 0x7fa4a0115c50>"
      ]
     },
     "metadata": {},
     "output_type": "display_data"
    },
    {
     "data": {
      "text/plain": [
       "[PredictedToken(token=' Roberts', prob=0.314453125, logit=19.625, token_id=31248, metadata=None),\n",
       " PredictedToken(token=' Julia', prob=0.27734375, logit=19.5, token_id=40394, metadata=None),\n",
       " PredictedToken(token=' ', prob=0.1494140625, logit=18.875, token_id=220, metadata=None),\n",
       " PredictedToken(token=' (', prob=0.04833984375, logit=17.75, token_id=320, metadata=None),\n",
       " PredictedToken(token=' Option', prob=0.042724609375, logit=17.625, token_id=7104, metadata=None)]"
      ]
     },
     "execution_count": 19,
     "metadata": {},
     "output_type": "execute_result"
    }
   ],
   "source": [
    "verify_ind = verify_head_patterns(\n",
    "    prompt=prompt,\n",
    "    options=last_name_first,\n",
    "    pivot=sample.match_with,\n",
    "    mt=mt,\n",
    "    value_weighted=False,\n",
    "    generate_full_answer=False,\n",
    "    ablate_possible_ans_info_from_options=True,\n",
    ")\n",
    "verify_ind[\"predictions\"]"
   ]
  },
  {
   "cell_type": "markdown",
   "id": "a6519ed6",
   "metadata": {},
   "source": [
    "### Different Attribute"
   ]
  },
  {
   "cell_type": "code",
   "execution_count": 20,
   "id": "7863a3af",
   "metadata": {},
   "outputs": [
    {
     "name": "stdout",
     "output_type": "stream",
     "text": [
      "2025-08-01 14:19:41 src.selection.data INFO     Loaded 16 categories\n"
     ]
    },
    {
     "data": {
      "text/plain": [
       "['Switzerland',\n",
       " 'UAE',\n",
       " 'Singapore',\n",
       " 'Canada',\n",
       " 'Mexico',\n",
       " 'Brazil',\n",
       " 'India',\n",
       " 'Australia',\n",
       " 'Israel',\n",
       " 'South Africa',\n",
       " 'United Kingdom',\n",
       " 'Trinidad and Tobago',\n",
       " 'New Zealand',\n",
       " 'United States',\n",
       " 'Belgium',\n",
       " 'France']"
      ]
     },
     "execution_count": 20,
     "metadata": {},
     "output_type": "execute_result"
    }
   ],
   "source": [
    "from src.selection.data  import load_people_by_category\n",
    "\n",
    "people_by_nationality = load_people_by_category(\n",
    "    tokenizer = mt.tokenizer,\n",
    "    path = os.path.join(env_utils.DEFAULT_DATA_DIR, \"selection_real/nationality.json\")\n",
    ")\n",
    "list(people_by_nationality.keys())"
   ]
  },
  {
   "cell_type": "code",
   "execution_count": 22,
   "id": "f6de76cc",
   "metadata": {},
   "outputs": [
    {
     "name": "stdout",
     "output_type": "stream",
     "text": [
      "Which person from the following list has their nationality in common with Margot Robbie?\n",
      "Options: J.K. Rowling, Ronaldo Nazário, Justin Bieber, Dick Lee, Elle Macpherson, Christian Louboutin.\n",
      "Ans: >> Elle Macpherson\n"
     ]
    }
   ],
   "source": [
    "from src.selection.data import get_random_sample\n",
    "\n",
    "sample = get_random_sample(\n",
    "    people_by_category=people_by_nationality,\n",
    "    mt=mt,\n",
    "    category=\"nationality\",\n",
    "    attribute=\"Australia\",\n",
    "    n_distractors=5\n",
    ")\n",
    "print(sample.prompt, \">>\", sample.obj)"
   ]
  },
  {
   "cell_type": "code",
   "execution_count": 23,
   "id": "a8bae6d5",
   "metadata": {},
   "outputs": [
    {
     "name": "stdout",
     "output_type": "stream",
     "text": [
      "J.K. Rowling, Ronaldo Nazário, Justin Bieber, Dick Lee, Elle Macpherson, Christian Louboutin\n",
      "Who among these people mentioned above is from Australia?\n",
      "Answer:  >>  Elle Macpherson\n"
     ]
    }
   ],
   "source": [
    "from src.functional import generate_with_patch, predict_next_token\n",
    "\n",
    "# prompt_template = \"\"\"Which of these peoples is by profession a {}?\n",
    "# options: {}\n",
    "# Answer:\"\"\"\n",
    "# prompt = prompt_template.format(\n",
    "#     sample.metadata[\"attribute\"],\n",
    "#     \", \".join(sample.options)\n",
    "# )\n",
    "\n",
    "prompt_template = \"\"\"{}\n",
    "Who among these people mentioned above is from {}?\n",
    "Answer:\"\"\"\n",
    "prompt = prompt_template.format(\n",
    "    \", \".join(sample.options),\n",
    "    sample.metadata[\"attribute\"]\n",
    ")\n",
    "\n",
    "print(prompt, \" >> \", sample.obj)"
   ]
  },
  {
   "cell_type": "code",
   "execution_count": null,
   "id": "0fc6132a",
   "metadata": {},
   "outputs": [
    {
     "name": "stdout",
     "output_type": "stream",
     "text": [
      "2025-08-01 14:20:45 __main__ DEBUG    Generated full answer: \" Elle Macpherson\n",
      "Elle Macpherson is an Australian model, businesswoman, television host, and actress. She is known for her record\"\n",
      "2025-08-01 14:20:45 __main__ DEBUG    Predictions: ['\" Elle\"[46408] (p=0.969, logit=22.375)', '\" The\"[578] (p=0.011, logit=17.875)', '\" Only\"[8442] (p=0.004, logit=16.875)', '\" \"[220] (p=0.003, logit=16.500)', '\" None\"[2290] (p=0.002, logit=15.938)']\n",
      "layer=35\n"
     ]
    },
    {
     "data": {
      "text/html": [
       "<div id=\"circuits-vis-c744bffb-5aba\" style=\"margin: 15px 0;\"/>\n",
       "    <script crossorigin type=\"module\">\n",
       "    import { render, ColoredTokens } from \"https://unpkg.com/circuitsvis@1.43.3/dist/cdn/esm.js\";\n",
       "    render(\n",
       "      \"circuits-vis-c744bffb-5aba\",\n",
       "      ColoredTokens,\n",
       "      {\"tokens\": [\"J\", \".K\", \".\", \" Rowling\", \",\", \" Ronaldo\", \" Naz\", \"\\u00e1rio\", \",\", \" Justin\", \" Bieber\", \",\", \" Dick\", \" Lee\", \",\", \" Elle\", \" Mac\", \"ph\", \"erson\", \",\", \" Christian\", \" L\", \"oub\", \"out\", \"in\", \"\\n\", \"Who\", \" among\", \" these\", \" people\", \" mentioned\", \" above\", \" is\", \" from\", \" Australia\", \"?\\n\", \"Answer\", \":\"], \"values\": [0.01934981346130371, 0.000832999125123024, 0.0005182437598705292, 0.0037093758583068848, 0.002483837306499481, 0.0030569136142730713, 0.001140400767326355, 0.002487480640411377, 0.004846900701522827, 0.00221903994679451, 0.005044102668762207, 0.0033512860536575317, 0.0021240338683128357, 0.014546513557434082, 0.01292632520198822, 0.010522719472646713, 0.006812267005443573, 0.0068894848227500916, 0.0704403668642044, 0.013614773750305176, 0.0030046701431274414, 0.0009243860840797424, 0.001870766282081604, 0.0017952099442481995, 0.006876856088638306, 0.01140362024307251, 0.0041304826736450195, 0.006821704562753439, 0.008432582020759583, 0.0037553664296865463, 0.002719941083341837, 0.005749823525547981, 0.0061757443472743034, 0.008416509255766869, 0.03822743892669678, 0.03021681308746338, 0.019018419086933136, 0.03220635652542114]}\n",
       "    )\n",
       "    </script>"
      ],
      "text/plain": [
       "<circuitsvis.utils.render.RenderedHTML at 0x7fa5400fa850>"
      ]
     },
     "metadata": {},
     "output_type": "display_data"
    },
    {
     "name": "stdout",
     "output_type": "stream",
     "text": [
      "--------------------------------------------------------------------------------\n",
      "layer=47\n"
     ]
    },
    {
     "data": {
      "text/html": [
       "<div id=\"circuits-vis-727dc247-2d3f\" style=\"margin: 15px 0;\"/>\n",
       "    <script crossorigin type=\"module\">\n",
       "    import { render, ColoredTokens } from \"https://unpkg.com/circuitsvis@1.43.3/dist/cdn/esm.js\";\n",
       "    render(\n",
       "      \"circuits-vis-727dc247-2d3f\",\n",
       "      ColoredTokens,\n",
       "      {\"tokens\": [\"J\", \".K\", \".\", \" Rowling\", \",\", \" Ronaldo\", \" Naz\", \"\\u00e1rio\", \",\", \" Justin\", \" Bieber\", \",\", \" Dick\", \" Lee\", \",\", \" Elle\", \" Mac\", \"ph\", \"erson\", \",\", \" Christian\", \" L\", \"oub\", \"out\", \"in\", \"\\n\", \"Who\", \" among\", \" these\", \" people\", \" mentioned\", \" above\", \" is\", \" from\", \" Australia\", \"?\\n\", \"Answer\", \":\"], \"values\": [0.002031911164522171, 0.0003631953150033951, 0.0002314448356628418, 0.0006983540952205658, 0.00029045669361948967, 0.0007567368447780609, 0.0004476550966501236, 0.0007225945591926575, 0.0009936410933732986, 0.0005832221359014511, 0.0009691603481769562, 0.0007075434550642967, 0.0010507218539714813, 0.0008812174201011658, 0.002188200131058693, 0.013562183827161789, 0.002642497420310974, 0.0019372235983610153, 0.006140656769275665, 0.0017850305885076523, 0.001024782657623291, 0.00032731983810663223, 0.000692661851644516, 0.00020636525005102158, 0.000670846551656723, 0.0026309043169021606, 0.001058049499988556, 0.0010270141065120697, 0.0008648708462715149, 0.0005085021257400513, 0.0008219145238399506, 0.0005975291132926941, 0.0006967894732952118, 0.0010383576154708862, 0.00346258282661438, 0.005963176488876343, 0.006245821714401245, 0.003356657922267914]}\n",
       "    )\n",
       "    </script>"
      ],
      "text/plain": [
       "<circuitsvis.utils.render.RenderedHTML at 0x7fa4c0103d90>"
      ]
     },
     "metadata": {},
     "output_type": "display_data"
    },
    {
     "name": "stdout",
     "output_type": "stream",
     "text": [
      "--------------------------------------------------------------------------------\n",
      "layer=52\n"
     ]
    },
    {
     "data": {
      "text/html": [
       "<div id=\"circuits-vis-82d77bb7-37c5\" style=\"margin: 15px 0;\"/>\n",
       "    <script crossorigin type=\"module\">\n",
       "    import { render, ColoredTokens } from \"https://unpkg.com/circuitsvis@1.43.3/dist/cdn/esm.js\";\n",
       "    render(\n",
       "      \"circuits-vis-82d77bb7-37c5\",\n",
       "      ColoredTokens,\n",
       "      {\"tokens\": [\"J\", \".K\", \".\", \" Rowling\", \",\", \" Ronaldo\", \" Naz\", \"\\u00e1rio\", \",\", \" Justin\", \" Bieber\", \",\", \" Dick\", \" Lee\", \",\", \" Elle\", \" Mac\", \"ph\", \"erson\", \",\", \" Christian\", \" L\", \"oub\", \"out\", \"in\", \"\\n\", \"Who\", \" among\", \" these\", \" people\", \" mentioned\", \" above\", \" is\", \" from\", \" Australia\", \"?\\n\", \"Answer\", \":\"], \"values\": [0.0030599236488342285, 0.0011671669781208038, 0.0005986886098980904, 0.0014041037065908313, 0.0010260548442602158, 0.0017793066799640656, 0.0011096522212028503, 0.0015640156343579292, 0.002108108252286911, 0.0011976342648267746, 0.0009660525247454643, 0.0016121845692396164, 0.0025528334081172943, 0.0011406764388084412, 0.003644067794084549, 0.035449493676424026, 0.003129245713353157, 0.001660320907831192, 0.006163560785353184, 0.002904176712036133, 0.0016017258167266846, 0.0006950618699193001, 0.0005956776440143585, 0.0007958817295730114, 0.0008317017927765846, 0.00535321980714798, 0.002846835181117058, 0.0030800960958003998, 0.0018569612875580788, 0.0010316912084817886, 0.0011804415844380856, 0.0018387208692729473, 0.001607455313205719, 0.003061734139919281, 0.004699520766735077, 0.014795169234275818, 0.015140525996685028, 0.014741003513336182]}\n",
       "    )\n",
       "    </script>"
      ],
      "text/plain": [
       "<circuitsvis.utils.render.RenderedHTML at 0x7fa4a0486790>"
      ]
     },
     "metadata": {},
     "output_type": "display_data"
    },
    {
     "name": "stdout",
     "output_type": "stream",
     "text": [
      "--------------------------------------------------------------------------------\n",
      "======================================================================\n",
      "2025-08-01 14:20:46 __main__ INFO     Layer: 33, Head: 45\n"
     ]
    },
    {
     "data": {
      "text/html": [
       "<div id=\"circuits-vis-80c16508-242a\" style=\"margin: 15px 0;\"/>\n",
       "    <script crossorigin type=\"module\">\n",
       "    import { render, ColoredTokens } from \"https://unpkg.com/circuitsvis@1.43.3/dist/cdn/esm.js\";\n",
       "    render(\n",
       "      \"circuits-vis-80c16508-242a\",\n",
       "      ColoredTokens,\n",
       "      {\"tokens\": [\"J\", \".K\", \".\", \" Rowling\", \",\", \" Ronaldo\", \" Naz\", \"\\u00e1rio\", \",\", \" Justin\", \" Bieber\", \",\", \" Dick\", \" Lee\", \",\", \" Elle\", \" Mac\", \"ph\", \"erson\", \",\", \" Christian\", \" L\", \"oub\", \"out\", \"in\", \"\\n\", \"Who\", \" among\", \" these\", \" people\", \" mentioned\", \" above\", \" is\", \" from\", \" Australia\", \"?\\n\", \"Answer\", \":\"], \"values\": [0.02685546875, 0.00122833251953125, 0.0023040771484375, 0.0034027099609375, 0.0019989013671875, 0.0023345947265625, 0.007659912109375, 0.00543212890625, 0.00701904296875, 0.00982666015625, 0.00799560546875, 0.00616455078125, 0.007476806640625, 0.048095703125, 0.037841796875, 0.06298828125, 0.025390625, 0.04833984375, 0.1083984375, 0.00933837890625, 0.00579833984375, 0.0027313232421875, 0.004425048828125, 0.0009307861328125, 0.00408935546875, 0.018798828125, 0.005340576171875, 0.0026092529296875, 0.00701904296875, 0.0037994384765625, 0.002166748046875, 0.0032958984375, 0.0024566650390625, 0.005340576171875, 0.0361328125, 0.03271484375, 0.003570556640625, 0.0419921875]}\n",
       "    )\n",
       "    </script>"
      ],
      "text/plain": [
       "<circuitsvis.utils.render.RenderedHTML at 0x7fa4c01d4fd0>"
      ]
     },
     "metadata": {},
     "output_type": "display_data"
    },
    {
     "name": "stdout",
     "output_type": "stream",
     "text": [
      "2025-08-01 14:20:46 __main__ INFO     Layer: 33, Head: 18\n"
     ]
    },
    {
     "data": {
      "text/html": [
       "<div id=\"circuits-vis-15c4ff96-e38f\" style=\"margin: 15px 0;\"/>\n",
       "    <script crossorigin type=\"module\">\n",
       "    import { render, ColoredTokens } from \"https://unpkg.com/circuitsvis@1.43.3/dist/cdn/esm.js\";\n",
       "    render(\n",
       "      \"circuits-vis-15c4ff96-e38f\",\n",
       "      ColoredTokens,\n",
       "      {\"tokens\": [\"J\", \".K\", \".\", \" Rowling\", \",\", \" Ronaldo\", \" Naz\", \"\\u00e1rio\", \",\", \" Justin\", \" Bieber\", \",\", \" Dick\", \" Lee\", \",\", \" Elle\", \" Mac\", \"ph\", \"erson\", \",\", \" Christian\", \" L\", \"oub\", \"out\", \"in\", \"\\n\", \"Who\", \" among\", \" these\", \" people\", \" mentioned\", \" above\", \" is\", \" from\", \" Australia\", \"?\\n\", \"Answer\", \":\"], \"values\": [0.017578125, 0.00128936767578125, 0.00115203857421875, 0.0045166015625, 0.002899169921875, 0.0016021728515625, 0.00189971923828125, 0.006500244140625, 0.0062255859375, 0.003082275390625, 0.00927734375, 0.00274658203125, 0.006195068359375, 0.06396484375, 0.052978515625, 0.12890625, 0.0732421875, 0.0257568359375, 0.416015625, 0.0096435546875, 0.006561279296875, 0.00124359130859375, 0.0059814453125, 0.00145721435546875, 0.019287109375, 0.00183868408203125, 0.00023746490478515625, 0.00010251998901367188, 0.0001277923583984375, 0.00016880035400390625, 7.486343383789062e-05, 8.7738037109375e-05, 0.00010251998901367188, 0.0001354217529296875, 0.00122833251953125, 0.0004177093505859375, 7.2479248046875e-05, 0.00115203857421875]}\n",
       "    )\n",
       "    </script>"
      ],
      "text/plain": [
       "<circuitsvis.utils.render.RenderedHTML at 0x7fa4c0468e10>"
      ]
     },
     "metadata": {},
     "output_type": "display_data"
    },
    {
     "name": "stdout",
     "output_type": "stream",
     "text": [
      "2025-08-01 14:20:46 __main__ INFO     Layer: 34, Head: 1\n"
     ]
    },
    {
     "data": {
      "text/html": [
       "<div id=\"circuits-vis-3f3f0749-2162\" style=\"margin: 15px 0;\"/>\n",
       "    <script crossorigin type=\"module\">\n",
       "    import { render, ColoredTokens } from \"https://unpkg.com/circuitsvis@1.43.3/dist/cdn/esm.js\";\n",
       "    render(\n",
       "      \"circuits-vis-3f3f0749-2162\",\n",
       "      ColoredTokens,\n",
       "      {\"tokens\": [\"J\", \".K\", \".\", \" Rowling\", \",\", \" Ronaldo\", \" Naz\", \"\\u00e1rio\", \",\", \" Justin\", \" Bieber\", \",\", \" Dick\", \" Lee\", \",\", \" Elle\", \" Mac\", \"ph\", \"erson\", \",\", \" Christian\", \" L\", \"oub\", \"out\", \"in\", \"\\n\", \"Who\", \" among\", \" these\", \" people\", \" mentioned\", \" above\", \" is\", \" from\", \" Australia\", \"?\\n\", \"Answer\", \":\"], \"values\": [0.0074462890625, 1.2516975402832031e-05, 3.62396240234375e-05, 2.491474151611328e-05, 3.1948089599609375e-05, 8.344650268554688e-06, 2.9087066650390625e-05, 7.152557373046875e-06, 6.151199340820312e-05, 0.00020885467529296875, 6.771087646484375e-05, 0.00010347366333007812, 0.0001964569091796875, 0.00726318359375, 0.006072998046875, 0.12255859375, 0.039794921875, 0.1923828125, 0.5, 0.00067901611328125, 0.00012493133544921875, 4.363059997558594e-05, 1.4185905456542969e-05, 2.7120113372802734e-06, 1.7642974853515625e-05, 0.00104522705078125, 0.0004482269287109375, 0.00043487548828125, 0.0002765655517578125, 0.00013065338134765625, 7.009506225585938e-05, 0.00013065338134765625, 0.0003185272216796875, 0.000377655029296875, 0.0169677734375, 0.007354736328125, 0.000263214111328125, 0.0196533203125]}\n",
       "    )\n",
       "    </script>"
      ],
      "text/plain": [
       "<circuitsvis.utils.render.RenderedHTML at 0x7fa4e03d18d0>"
      ]
     },
     "metadata": {},
     "output_type": "display_data"
    },
    {
     "name": "stdout",
     "output_type": "stream",
     "text": [
      "2025-08-01 14:20:46 __main__ INFO     Layer: 34, Head: 6\n"
     ]
    },
    {
     "data": {
      "text/html": [
       "<div id=\"circuits-vis-c33b0e2f-b1a9\" style=\"margin: 15px 0;\"/>\n",
       "    <script crossorigin type=\"module\">\n",
       "    import { render, ColoredTokens } from \"https://unpkg.com/circuitsvis@1.43.3/dist/cdn/esm.js\";\n",
       "    render(\n",
       "      \"circuits-vis-c33b0e2f-b1a9\",\n",
       "      ColoredTokens,\n",
       "      {\"tokens\": [\"J\", \".K\", \".\", \" Rowling\", \",\", \" Ronaldo\", \" Naz\", \"\\u00e1rio\", \",\", \" Justin\", \" Bieber\", \",\", \" Dick\", \" Lee\", \",\", \" Elle\", \" Mac\", \"ph\", \"erson\", \",\", \" Christian\", \" L\", \"oub\", \"out\", \"in\", \"\\n\", \"Who\", \" among\", \" these\", \" people\", \" mentioned\", \" above\", \" is\", \" from\", \" Australia\", \"?\\n\", \"Answer\", \":\"], \"values\": [0.01507568359375, 5.984306335449219e-05, 0.000202178955078125, 0.00018405914306640625, 0.0001735687255859375, 2.4199485778808594e-05, 0.000247955322265625, 3.0994415283203125e-05, 0.00013065338134765625, 0.0004215240478515625, 0.00010824203491210938, 0.0002727508544921875, 0.00058746337890625, 0.006805419921875, 0.005218505859375, 0.1083984375, 0.08349609375, 0.328125, 0.240234375, 0.00092315673828125, 0.000339508056640625, 0.000263214111328125, 0.00012683868408203125, 2.002716064453125e-05, 5.125999450683594e-05, 0.00176239013671875, 0.00090789794921875, 0.000850677490234375, 0.000865936279296875, 0.0001392364501953125, 0.00022220611572265625, 0.0004291534423828125, 0.000492095947265625, 0.000286102294921875, 0.00946044921875, 0.00982666015625, 0.00034332275390625, 0.0235595703125]}\n",
       "    )\n",
       "    </script>"
      ],
      "text/plain": [
       "<circuitsvis.utils.render.RenderedHTML at 0x7fa4c0468e10>"
      ]
     },
     "metadata": {},
     "output_type": "display_data"
    },
    {
     "name": "stdout",
     "output_type": "stream",
     "text": [
      "2025-08-01 14:20:46 __main__ INFO     Layer: 34, Head: 7\n"
     ]
    },
    {
     "data": {
      "text/html": [
       "<div id=\"circuits-vis-02a4627b-ddb1\" style=\"margin: 15px 0;\"/>\n",
       "    <script crossorigin type=\"module\">\n",
       "    import { render, ColoredTokens } from \"https://unpkg.com/circuitsvis@1.43.3/dist/cdn/esm.js\";\n",
       "    render(\n",
       "      \"circuits-vis-02a4627b-ddb1\",\n",
       "      ColoredTokens,\n",
       "      {\"tokens\": [\"J\", \".K\", \".\", \" Rowling\", \",\", \" Ronaldo\", \" Naz\", \"\\u00e1rio\", \",\", \" Justin\", \" Bieber\", \",\", \" Dick\", \" Lee\", \",\", \" Elle\", \" Mac\", \"ph\", \"erson\", \",\", \" Christian\", \" L\", \"oub\", \"out\", \"in\", \"\\n\", \"Who\", \" among\", \" these\", \" people\", \" mentioned\", \" above\", \" is\", \" from\", \" Australia\", \"?\\n\", \"Answer\", \":\"], \"values\": [0.037353515625, 0.00015354156494140625, 0.0002460479736328125, 0.000637054443359375, 0.00052642822265625, 0.000335693359375, 0.000518798828125, 0.00057220458984375, 0.00057220458984375, 0.000782012939453125, 0.0010528564453125, 0.000885009765625, 0.00079345703125, 0.0118408203125, 0.00982666015625, 0.0264892578125, 0.027587890625, 0.091796875, 0.287109375, 0.00244140625, 0.000942230224609375, 0.000667572021484375, 0.00130462646484375, 0.000278472900390625, 0.00115203857421875, 0.006805419921875, 0.003814697265625, 0.0068359375, 0.0120849609375, 0.0019989013671875, 0.00225830078125, 0.007293701171875, 0.003448486328125, 0.002288818359375, 0.091796875, 0.06494140625, 0.0029296875, 0.06884765625]}\n",
       "    )\n",
       "    </script>"
      ],
      "text/plain": [
       "<circuitsvis.utils.render.RenderedHTML at 0x7fa5679bd550>"
      ]
     },
     "metadata": {},
     "output_type": "display_data"
    },
    {
     "name": "stdout",
     "output_type": "stream",
     "text": [
      "2025-08-01 14:20:46 __main__ INFO     Layer: 35, Head: 19\n"
     ]
    },
    {
     "data": {
      "text/html": [
       "<div id=\"circuits-vis-375728fc-1c69\" style=\"margin: 15px 0;\"/>\n",
       "    <script crossorigin type=\"module\">\n",
       "    import { render, ColoredTokens } from \"https://unpkg.com/circuitsvis@1.43.3/dist/cdn/esm.js\";\n",
       "    render(\n",
       "      \"circuits-vis-375728fc-1c69\",\n",
       "      ColoredTokens,\n",
       "      {\"tokens\": [\"J\", \".K\", \".\", \" Rowling\", \",\", \" Ronaldo\", \" Naz\", \"\\u00e1rio\", \",\", \" Justin\", \" Bieber\", \",\", \" Dick\", \" Lee\", \",\", \" Elle\", \" Mac\", \"ph\", \"erson\", \",\", \" Christian\", \" L\", \"oub\", \"out\", \"in\", \"\\n\", \"Who\", \" among\", \" these\", \" people\", \" mentioned\", \" above\", \" is\", \" from\", \" Australia\", \"?\\n\", \"Answer\", \":\"], \"values\": [0.003997802734375, 0.0002880096435546875, 0.00011968612670898438, 0.0028228759765625, 0.001434326171875, 0.0028228759765625, 0.0009918212890625, 0.004608154296875, 0.0076904296875, 0.00128936767578125, 0.00714111328125, 0.0027618408203125, 0.0013427734375, 0.11083984375, 0.03515625, 0.0201416015625, 0.01806640625, 0.0279541015625, 0.63671875, 0.0120849609375, 0.001434326171875, 0.000370025634765625, 0.0030364990234375, 0.00077056884765625, 0.007720947265625, 0.004425048828125, 0.000217437744140625, 3.266334533691406e-05, 0.00018310546875, 3.838539123535156e-05, 1.4543533325195312e-05, 8.52346420288086e-06, 2.2530555725097656e-05, 0.0002422332763671875, 0.004425048828125, 0.0010528564453125, 6.103515625e-05, 0.00128936767578125]}\n",
       "    )\n",
       "    </script>"
      ],
      "text/plain": [
       "<circuitsvis.utils.render.RenderedHTML at 0x7fa4a0455550>"
      ]
     },
     "metadata": {},
     "output_type": "display_data"
    },
    {
     "name": "stdout",
     "output_type": "stream",
     "text": [
      "2025-08-01 14:20:46 __main__ INFO     Layer: 39, Head: 40\n"
     ]
    },
    {
     "data": {
      "text/html": [
       "<div id=\"circuits-vis-10cbca50-edb0\" style=\"margin: 15px 0;\"/>\n",
       "    <script crossorigin type=\"module\">\n",
       "    import { render, ColoredTokens } from \"https://unpkg.com/circuitsvis@1.43.3/dist/cdn/esm.js\";\n",
       "    render(\n",
       "      \"circuits-vis-10cbca50-edb0\",\n",
       "      ColoredTokens,\n",
       "      {\"tokens\": [\"J\", \".K\", \".\", \" Rowling\", \",\", \" Ronaldo\", \" Naz\", \"\\u00e1rio\", \",\", \" Justin\", \" Bieber\", \",\", \" Dick\", \" Lee\", \",\", \" Elle\", \" Mac\", \"ph\", \"erson\", \",\", \" Christian\", \" L\", \"oub\", \"out\", \"in\", \"\\n\", \"Who\", \" among\", \" these\", \" people\", \" mentioned\", \" above\", \" is\", \" from\", \" Australia\", \"?\\n\", \"Answer\", \":\"], \"values\": [0.0047607421875, 0.00020503997802734375, 0.0004558563232421875, 0.00010013580322265625, 0.00078582763671875, 0.00026702880859375, 0.00063323974609375, 0.00052642822265625, 0.00701904296875, 0.004913330078125, 0.00141143798828125, 0.006256103515625, 0.00653076171875, 0.01953125, 0.0517578125, 0.205078125, 0.08544921875, 0.013916015625, 0.34375, 0.0223388671875, 0.01019287109375, 0.0027923583984375, 0.0001506805419921875, 1.1205673217773438e-05, 0.00457763671875, 0.00872802734375, 0.002685546875, 0.00250244140625, 0.00063323974609375, 0.00012874603271484375, 0.00016498565673828125, 0.00020885467529296875, 0.000934600830078125, 0.000621795654296875, 0.0035247802734375, 0.064453125, 0.0026397705078125, 0.06396484375]}\n",
       "    )\n",
       "    </script>"
      ],
      "text/plain": [
       "<circuitsvis.utils.render.RenderedHTML at 0x7fa50012b650>"
      ]
     },
     "metadata": {},
     "output_type": "display_data"
    },
    {
     "name": "stdout",
     "output_type": "stream",
     "text": [
      "2025-08-01 14:20:46 __main__ INFO     Layer: 42, Head: 30\n"
     ]
    },
    {
     "data": {
      "text/html": [
       "<div id=\"circuits-vis-1026a9fd-fb93\" style=\"margin: 15px 0;\"/>\n",
       "    <script crossorigin type=\"module\">\n",
       "    import { render, ColoredTokens } from \"https://unpkg.com/circuitsvis@1.43.3/dist/cdn/esm.js\";\n",
       "    render(\n",
       "      \"circuits-vis-1026a9fd-fb93\",\n",
       "      ColoredTokens,\n",
       "      {\"tokens\": [\"J\", \".K\", \".\", \" Rowling\", \",\", \" Ronaldo\", \" Naz\", \"\\u00e1rio\", \",\", \" Justin\", \" Bieber\", \",\", \" Dick\", \" Lee\", \",\", \" Elle\", \" Mac\", \"ph\", \"erson\", \",\", \" Christian\", \" L\", \"oub\", \"out\", \"in\", \"\\n\", \"Who\", \" among\", \" these\", \" people\", \" mentioned\", \" above\", \" is\", \" from\", \" Australia\", \"?\\n\", \"Answer\", \":\"], \"values\": [0.00311279296875, 0.000621795654296875, 0.0010223388671875, 0.00115966796875, 0.000469207763671875, 0.002655029296875, 0.0025787353515625, 0.000728607177734375, 0.004180908203125, 0.0022125244140625, 0.00689697265625, 0.004608154296875, 0.0034637451171875, 0.0184326171875, 0.023681640625, 0.061767578125, 0.09814453125, 0.07080078125, 0.193359375, 0.013916015625, 0.005218505859375, 0.0031585693359375, 0.002532958984375, 0.00011157989501953125, 0.005889892578125, 0.006591796875, 0.0027008056640625, 0.00171661376953125, 0.002655029296875, 0.000904083251953125, 0.00115966796875, 0.000904083251953125, 0.00115966796875, 0.002532958984375, 0.01220703125, 0.01519775390625, 0.00311279296875, 0.017333984375]}\n",
       "    )\n",
       "    </script>"
      ],
      "text/plain": [
       "<circuitsvis.utils.render.RenderedHTML at 0x7fa4c04d9b10>"
      ]
     },
     "metadata": {},
     "output_type": "display_data"
    },
    {
     "name": "stdout",
     "output_type": "stream",
     "text": [
      "2025-08-01 14:20:46 __main__ INFO     Layer: 47, Head: 18\n"
     ]
    },
    {
     "data": {
      "text/html": [
       "<div id=\"circuits-vis-5e3f64b0-0e5d\" style=\"margin: 15px 0;\"/>\n",
       "    <script crossorigin type=\"module\">\n",
       "    import { render, ColoredTokens } from \"https://unpkg.com/circuitsvis@1.43.3/dist/cdn/esm.js\";\n",
       "    render(\n",
       "      \"circuits-vis-5e3f64b0-0e5d\",\n",
       "      ColoredTokens,\n",
       "      {\"tokens\": [\"J\", \".K\", \".\", \" Rowling\", \",\", \" Ronaldo\", \" Naz\", \"\\u00e1rio\", \",\", \" Justin\", \" Bieber\", \",\", \" Dick\", \" Lee\", \",\", \" Elle\", \" Mac\", \"ph\", \"erson\", \",\", \" Christian\", \" L\", \"oub\", \"out\", \"in\", \"\\n\", \"Who\", \" among\", \" these\", \" people\", \" mentioned\", \" above\", \" is\", \" from\", \" Australia\", \"?\\n\", \"Answer\", \":\"], \"values\": [0.0084228515625, 5.5789947509765625e-05, 0.00012969970703125, 0.00010395050048828125, 0.00165557861328125, 0.0002002716064453125, 0.000362396240234375, 0.0002269744873046875, 0.0128173828125, 0.00052642822265625, 0.001373291015625, 0.0118408203125, 0.00396728515625, 0.00176239013671875, 0.039306640625, 0.1796875, 0.05615234375, 0.017822265625, 0.1259765625, 0.044921875, 0.004791259765625, 0.002899169921875, 0.00010395050048828125, 2.5510787963867188e-05, 0.002410888671875, 0.027099609375, 0.00946044921875, 0.0033416748046875, 0.003662109375, 0.001708984375, 0.000957489013671875, 0.000957489013671875, 0.00604248046875, 0.005096435546875, 0.003143310546875, 0.055908203125, 0.0084228515625, 0.037109375]}\n",
       "    )\n",
       "    </script>"
      ],
      "text/plain": [
       "<circuitsvis.utils.render.RenderedHTML at 0x7fa4c0248490>"
      ]
     },
     "metadata": {},
     "output_type": "display_data"
    },
    {
     "name": "stdout",
     "output_type": "stream",
     "text": [
      "2025-08-01 14:20:47 __main__ INFO     Layer: 52, Head: 58\n"
     ]
    },
    {
     "data": {
      "text/html": [
       "<div id=\"circuits-vis-525dacb3-f576\" style=\"margin: 15px 0;\"/>\n",
       "    <script crossorigin type=\"module\">\n",
       "    import { render, ColoredTokens } from \"https://unpkg.com/circuitsvis@1.43.3/dist/cdn/esm.js\";\n",
       "    render(\n",
       "      \"circuits-vis-525dacb3-f576\",\n",
       "      ColoredTokens,\n",
       "      {\"tokens\": [\"J\", \".K\", \".\", \" Rowling\", \",\", \" Ronaldo\", \" Naz\", \"\\u00e1rio\", \",\", \" Justin\", \" Bieber\", \",\", \" Dick\", \" Lee\", \",\", \" Elle\", \" Mac\", \"ph\", \"erson\", \",\", \" Christian\", \" L\", \"oub\", \"out\", \"in\", \"\\n\", \"Who\", \" among\", \" these\", \" people\", \" mentioned\", \" above\", \" is\", \" from\", \" Australia\", \"?\\n\", \"Answer\", \":\"], \"values\": [0.004486083984375, 0.0001392364501953125, 0.00021648406982421875, 0.0002613067626953125, 0.000926971435546875, 0.00011968612670898438, 0.005157470703125, 0.000843048095703125, 0.004852294921875, 0.0002689361572265625, 0.00225830078125, 0.00421142578125, 0.0029449462890625, 0.01470947265625, 0.0169677734375, 0.2314453125, 0.11474609375, 0.03564453125, 0.1845703125, 0.01068115234375, 0.00128173828125, 0.0118408203125, 0.00128173828125, 6.318092346191406e-06, 0.003173828125, 0.01165771484375, 0.0013427734375, 0.00244140625, 0.0005035400390625, 0.000278472900390625, 0.000732421875, 0.0003452301025390625, 0.00115203857421875, 0.001678466796875, 0.0032806396484375, 0.01416015625, 0.00141143798828125, 0.01220703125]}\n",
       "    )\n",
       "    </script>"
      ],
      "text/plain": [
       "<circuitsvis.utils.render.RenderedHTML at 0x7fa4c01d4fd0>"
      ]
     },
     "metadata": {},
     "output_type": "display_data"
    },
    {
     "data": {
      "text/plain": [
       "[PredictedToken(token=' Elle', prob=0.96875, logit=22.375, token_id=46408, metadata=None),\n",
       " PredictedToken(token=' The', prob=0.0107421875, logit=17.875, token_id=578, metadata=None),\n",
       " PredictedToken(token=' Only', prob=0.00396728515625, logit=16.875, token_id=8442, metadata=None),\n",
       " PredictedToken(token=' ', prob=0.002716064453125, logit=16.5, token_id=220, metadata=None),\n",
       " PredictedToken(token=' None', prob=0.00154876708984375, logit=15.9375, token_id=2290, metadata=None)]"
      ]
     },
     "execution_count": 24,
     "metadata": {},
     "output_type": "execute_result"
    }
   ],
   "source": [
    "verify = verify_head_patterns(\n",
    "    prompt=prompt,\n",
    "    options=sample.options,\n",
    "    pivot=sample.match_with,\n",
    "    mt=mt,\n",
    "    value_weighted=False,\n",
    "    generate_full_answer=True,\n",
    ")\n",
    "\n",
    "verify[\"predictions\"]"
   ]
  },
  {
   "cell_type": "code",
   "execution_count": null,
   "id": "fc7375bc",
   "metadata": {},
   "outputs": [
    {
     "name": "stdout",
     "output_type": "stream",
     "text": [
      "2025-08-01 14:21:25 __main__ DEBUG    J.K. Rowling | opt_range=(1, 5) | bare_opt_range=(4, 8) | \"J.K. Rowling\"\n",
      "2025-08-01 14:21:26 __main__ DEBUG    Ronaldo Nazário | opt_range=(6, 9) | bare_opt_range=(4, 7) | \" Ronaldo Nazário\"\n",
      "2025-08-01 14:21:26 __main__ DEBUG    Justin Bieber | opt_range=(10, 12) | bare_opt_range=(4, 6) | \" Justin Bieber\"\n",
      "2025-08-01 14:21:26 __main__ DEBUG    Dick Lee | opt_range=(13, 15) | bare_opt_range=(4, 6) | \" Dick Lee\"\n",
      "2025-08-01 14:21:26 __main__ DEBUG    Elle Macpherson | opt_range=(16, 20) | bare_opt_range=(4, 8) | \" Elle Macpherson\"\n",
      "2025-08-01 14:21:26 __main__ DEBUG    Christian Louboutin | opt_range=(21, 26) | bare_opt_range=(4, 9) | \" Christian Louboutin\"\n",
      "2025-08-01 14:21:33 __main__ DEBUG    Predictions: ['\" Elle\"[46408] (p=0.879, logit=20.625)', '\" Dick\"[23373] (p=0.039, logit=17.500)', '\" The\"[578] (p=0.021, logit=16.875)', '\" \"[220] (p=0.013, logit=16.375)', '\" None\"[2290] (p=0.004, logit=15.188)']\n",
      "layer=35\n"
     ]
    },
    {
     "data": {
      "text/html": [
       "<div id=\"circuits-vis-096f9f75-0150\" style=\"margin: 15px 0;\"/>\n",
       "    <script crossorigin type=\"module\">\n",
       "    import { render, ColoredTokens } from \"https://unpkg.com/circuitsvis@1.43.3/dist/cdn/esm.js\";\n",
       "    render(\n",
       "      \"circuits-vis-096f9f75-0150\",\n",
       "      ColoredTokens,\n",
       "      {\"tokens\": [\"J\", \".K\", \".\", \" Rowling\", \",\", \" Ronaldo\", \" Naz\", \"\\u00e1rio\", \",\", \" Justin\", \" Bieber\", \",\", \" Dick\", \" Lee\", \",\", \" Elle\", \" Mac\", \"ph\", \"erson\", \",\", \" Christian\", \" L\", \"oub\", \"out\", \"in\", \"\\n\", \"Who\", \" among\", \" these\", \" people\", \" mentioned\", \" above\", \" is\", \" from\", \" Australia\", \"?\\n\", \"Answer\", \":\"], \"values\": [0.0006036488339304924, 0.0033259987831115723, 0.0011087208986282349, 0.003386169672012329, 0.0019258037209510803, 0.0037925243377685547, 0.0012884587049484253, 0.0032062679529190063, 0.0035124793648719788, 0.0024422407150268555, 0.005322456359863281, 0.0026080459356307983, 0.0027114152908325195, 0.020130813121795654, 0.009070336818695068, 0.01178404688835144, 0.006869778037071228, 0.00648769736289978, 0.05763816833496094, 0.006963178515434265, 0.0057646743953228, 0.0017107725143432617, 0.0036388635635375977, 0.003555506467819214, 0.007751017808914185, 0.015715956687927246, 0.005455583333969116, 0.007833734154701233, 0.007651068270206451, 0.004807803779840469, 0.0045836265198886395, 0.007275679614394903, 0.007101450115442276, 0.01071203500032425, 0.04568147659301758, 0.03586900234222412, 0.022346198558807373, 0.05028557777404785]}\n",
       "    )\n",
       "    </script>"
      ],
      "text/plain": [
       "<circuitsvis.utils.render.RenderedHTML at 0x7fa4c02c2590>"
      ]
     },
     "metadata": {},
     "output_type": "display_data"
    },
    {
     "name": "stdout",
     "output_type": "stream",
     "text": [
      "--------------------------------------------------------------------------------\n",
      "layer=47\n"
     ]
    },
    {
     "data": {
      "text/html": [
       "<div id=\"circuits-vis-43185709-548e\" style=\"margin: 15px 0;\"/>\n",
       "    <script crossorigin type=\"module\">\n",
       "    import { render, ColoredTokens } from \"https://unpkg.com/circuitsvis@1.43.3/dist/cdn/esm.js\";\n",
       "    render(\n",
       "      \"circuits-vis-43185709-548e\",\n",
       "      ColoredTokens,\n",
       "      {\"tokens\": [\"J\", \".K\", \".\", \" Rowling\", \",\", \" Ronaldo\", \" Naz\", \"\\u00e1rio\", \",\", \" Justin\", \" Bieber\", \",\", \" Dick\", \" Lee\", \",\", \" Elle\", \" Mac\", \"ph\", \"erson\", \",\", \" Christian\", \" L\", \"oub\", \"out\", \"in\", \"\\n\", \"Who\", \" among\", \" these\", \" people\", \" mentioned\", \" above\", \" is\", \" from\", \" Australia\", \"?\\n\", \"Answer\", \":\"], \"values\": [0.0001740856096148491, 0.0006164610385894775, 0.0001785478089004755, 0.000398438423871994, 0.00023087253794074059, 0.0007188916206359863, 0.00047762133181095123, 0.0005943961441516876, 0.0004694107919931412, 0.0006764968857169151, 0.0008034482598304749, 0.00037709809839725494, 0.002551443874835968, 0.0023540928959846497, 0.001121307723224163, 0.018528670072555542, 0.0038870517164468765, 0.0019205007702112198, 0.005449863150715828, 0.0008361567743122578, 0.0015505217015743256, 0.0004731966182589531, 0.0009849518537521362, 0.0006012888625264168, 0.000584515742957592, 0.002624332904815674, 0.0010412782430648804, 0.0009007565677165985, 0.0006160568445920944, 0.0004888838157057762, 0.000639691948890686, 0.0006239749491214752, 0.0005918033421039581, 0.0011902935802936554, 0.0041214823722839355, 0.003873109817504883, 0.006017923355102539, 0.004779167473316193]}\n",
       "    )\n",
       "    </script>"
      ],
      "text/plain": [
       "<circuitsvis.utils.render.RenderedHTML at 0x7fa4c03f6a90>"
      ]
     },
     "metadata": {},
     "output_type": "display_data"
    },
    {
     "name": "stdout",
     "output_type": "stream",
     "text": [
      "--------------------------------------------------------------------------------\n",
      "layer=52\n"
     ]
    },
    {
     "data": {
      "text/html": [
       "<div id=\"circuits-vis-c5f78d66-dfcb\" style=\"margin: 15px 0;\"/>\n",
       "    <script crossorigin type=\"module\">\n",
       "    import { render, ColoredTokens } from \"https://unpkg.com/circuitsvis@1.43.3/dist/cdn/esm.js\";\n",
       "    render(\n",
       "      \"circuits-vis-c5f78d66-dfcb\",\n",
       "      ColoredTokens,\n",
       "      {\"tokens\": [\"J\", \".K\", \".\", \" Rowling\", \",\", \" Ronaldo\", \" Naz\", \"\\u00e1rio\", \",\", \" Justin\", \" Bieber\", \",\", \" Dick\", \" Lee\", \",\", \" Elle\", \" Mac\", \"ph\", \"erson\", \",\", \" Christian\", \" L\", \"oub\", \"out\", \"in\", \"\\n\", \"Who\", \" among\", \" these\", \" people\", \" mentioned\", \" above\", \" is\", \" from\", \" Australia\", \"?\\n\", \"Answer\", \":\"], \"values\": [0.0008206544443964958, 0.00177818164229393, 0.0004598447121679783, 0.0015004873275756836, 0.0011407621204853058, 0.002057274803519249, 0.0012908168137073517, 0.0012721356470137835, 0.0012476220726966858, 0.0014178715646266937, 0.0010982267558574677, 0.0008733933791518211, 0.008328765630722046, 0.0029304958879947662, 0.0021429862827062607, 0.025460686534643173, 0.0032708458602428436, 0.0011816397309303284, 0.003742257133126259, 0.0017368849366903305, 0.002617171034216881, 0.0009208805859088898, 0.0008776683825999498, 0.0012877937406301498, 0.0006765443831682205, 0.005765855312347412, 0.002860136330127716, 0.0025828517973423004, 0.0012671928852796555, 0.0009075067937374115, 0.0010487902909517288, 0.0015793628990650177, 0.001429135911166668, 0.0035810917615890503, 0.005873493850231171, 0.009205736219882965, 0.01171046495437622, 0.017460830509662628]}\n",
       "    )\n",
       "    </script>"
      ],
      "text/plain": [
       "<circuitsvis.utils.render.RenderedHTML at 0x7fa4e024c210>"
      ]
     },
     "metadata": {},
     "output_type": "display_data"
    },
    {
     "name": "stdout",
     "output_type": "stream",
     "text": [
      "--------------------------------------------------------------------------------\n",
      "======================================================================\n",
      "2025-08-01 14:21:34 __main__ INFO     Layer: 33, Head: 45\n"
     ]
    },
    {
     "data": {
      "text/html": [
       "<div id=\"circuits-vis-892f4f51-8530\" style=\"margin: 15px 0;\"/>\n",
       "    <script crossorigin type=\"module\">\n",
       "    import { render, ColoredTokens } from \"https://unpkg.com/circuitsvis@1.43.3/dist/cdn/esm.js\";\n",
       "    render(\n",
       "      \"circuits-vis-892f4f51-8530\",\n",
       "      ColoredTokens,\n",
       "      {\"tokens\": [\"J\", \".K\", \".\", \" Rowling\", \",\", \" Ronaldo\", \" Naz\", \"\\u00e1rio\", \",\", \" Justin\", \" Bieber\", \",\", \" Dick\", \" Lee\", \",\", \" Elle\", \" Mac\", \"ph\", \"erson\", \",\", \" Christian\", \" L\", \"oub\", \"out\", \"in\", \"\\n\", \"Who\", \" among\", \" these\", \" people\", \" mentioned\", \" above\", \" is\", \" from\", \" Australia\", \"?\\n\", \"Answer\", \":\"], \"values\": [0.00121307373046875, 0.0028228759765625, 0.00112152099609375, 0.0027008056640625, 0.002410888671875, 0.002960205078125, 0.00616455078125, 0.005126953125, 0.00457763671875, 0.005126953125, 0.0048828125, 0.00762939453125, 0.0081787109375, 0.046142578125, 0.0213623046875, 0.056640625, 0.022216796875, 0.029296875, 0.11181640625, 0.00799560546875, 0.005279541015625, 0.00127410888671875, 0.0038604736328125, 0.0024871826171875, 0.0032958984375, 0.019775390625, 0.00518798828125, 0.0032958984375, 0.00457763671875, 0.0032501220703125, 0.0019073486328125, 0.005523681640625, 0.004791259765625, 0.0093994140625, 0.052734375, 0.06787109375, 0.0098876953125, 0.060302734375]}\n",
       "    )\n",
       "    </script>"
      ],
      "text/plain": [
       "<circuitsvis.utils.render.RenderedHTML at 0x7fa569f53f50>"
      ]
     },
     "metadata": {},
     "output_type": "display_data"
    },
    {
     "name": "stdout",
     "output_type": "stream",
     "text": [
      "2025-08-01 14:21:34 __main__ INFO     Layer: 33, Head: 18\n"
     ]
    },
    {
     "data": {
      "text/html": [
       "<div id=\"circuits-vis-a06ff423-0938\" style=\"margin: 15px 0;\"/>\n",
       "    <script crossorigin type=\"module\">\n",
       "    import { render, ColoredTokens } from \"https://unpkg.com/circuitsvis@1.43.3/dist/cdn/esm.js\";\n",
       "    render(\n",
       "      \"circuits-vis-a06ff423-0938\",\n",
       "      ColoredTokens,\n",
       "      {\"tokens\": [\"J\", \".K\", \".\", \" Rowling\", \",\", \" Ronaldo\", \" Naz\", \"\\u00e1rio\", \",\", \" Justin\", \" Bieber\", \",\", \" Dick\", \" Lee\", \",\", \" Elle\", \" Mac\", \"ph\", \"erson\", \",\", \" Christian\", \" L\", \"oub\", \"out\", \"in\", \"\\n\", \"Who\", \" among\", \" these\", \" people\", \" mentioned\", \" above\", \" is\", \" from\", \" Australia\", \"?\\n\", \"Answer\", \":\"], \"values\": [0.0002460479736328125, 0.00183868408203125, 0.000537872314453125, 0.00152587890625, 0.0018310546875, 0.00135040283203125, 0.00115203857421875, 0.00421142578125, 0.00408935546875, 0.002960205078125, 0.005279541015625, 0.0035247802734375, 0.00726318359375, 0.041015625, 0.043212890625, 0.15625, 0.05908203125, 0.01171875, 0.451171875, 0.0137939453125, 0.007415771484375, 0.00113677978515625, 0.004791259765625, 0.00048065185546875, 0.0137939453125, 0.004364013671875, 0.0002574920654296875, 0.0001468658447265625, 0.0001659393310546875, 0.000171661376953125, 9.775161743164062e-05, 0.0001468658447265625, 0.00016117095947265625, 0.000171661376953125, 0.0017852783203125, 0.00130462646484375, 0.00024127960205078125, 0.005767822265625]}\n",
       "    )\n",
       "    </script>"
      ],
      "text/plain": [
       "<circuitsvis.utils.render.RenderedHTML at 0x7fa4c030de50>"
      ]
     },
     "metadata": {},
     "output_type": "display_data"
    },
    {
     "name": "stdout",
     "output_type": "stream",
     "text": [
      "2025-08-01 14:21:34 __main__ INFO     Layer: 34, Head: 1\n"
     ]
    },
    {
     "data": {
      "text/html": [
       "<div id=\"circuits-vis-481ce745-a99d\" style=\"margin: 15px 0;\"/>\n",
       "    <script crossorigin type=\"module\">\n",
       "    import { render, ColoredTokens } from \"https://unpkg.com/circuitsvis@1.43.3/dist/cdn/esm.js\";\n",
       "    render(\n",
       "      \"circuits-vis-481ce745-a99d\",\n",
       "      ColoredTokens,\n",
       "      {\"tokens\": [\"J\", \".K\", \".\", \" Rowling\", \",\", \" Ronaldo\", \" Naz\", \"\\u00e1rio\", \",\", \" Justin\", \" Bieber\", \",\", \" Dick\", \" Lee\", \",\", \" Elle\", \" Mac\", \"ph\", \"erson\", \",\", \" Christian\", \" L\", \"oub\", \"out\", \"in\", \"\\n\", \"Who\", \" among\", \" these\", \" people\", \" mentioned\", \" above\", \" is\", \" from\", \" Australia\", \"?\\n\", \"Answer\", \":\"], \"values\": [8.404254913330078e-06, 8.106231689453125e-06, 4.76837158203125e-06, 1.2993812561035156e-05, 4.9173831939697266e-06, 1.2576580047607422e-05, 1.1444091796875e-05, 1.71661376953125e-05, 4.38690185546875e-05, 8.106231689453125e-05, 7.152557373046875e-05, 6.008148193359375e-05, 0.00012493133544921875, 0.004852294921875, 0.0028228759765625, 0.0498046875, 0.0234375, 0.0439453125, 0.77734375, 0.00049591064453125, 0.00020313262939453125, 2.473592758178711e-06, 4.8160552978515625e-05, 0.0002994537353515625, 3.218650817871094e-05, 0.0001735687255859375, 6.008148193359375e-05, 0.0001354217529296875, 0.00021648406982421875, 8.106231689453125e-05, 2.0742416381835938e-05, 7.009506225585938e-05, 0.000209808349609375, 0.0002613067626953125, 0.0164794921875, 0.0120849609375, 0.00019359588623046875, 0.031494140625]}\n",
       "    )\n",
       "    </script>"
      ],
      "text/plain": [
       "<circuitsvis.utils.render.RenderedHTML at 0x7fa4e02af450>"
      ]
     },
     "metadata": {},
     "output_type": "display_data"
    },
    {
     "name": "stdout",
     "output_type": "stream",
     "text": [
      "2025-08-01 14:21:34 __main__ INFO     Layer: 34, Head: 6\n"
     ]
    },
    {
     "data": {
      "text/html": [
       "<div id=\"circuits-vis-e7ea3a87-9f29\" style=\"margin: 15px 0;\"/>\n",
       "    <script crossorigin type=\"module\">\n",
       "    import { render, ColoredTokens } from \"https://unpkg.com/circuitsvis@1.43.3/dist/cdn/esm.js\";\n",
       "    render(\n",
       "      \"circuits-vis-e7ea3a87-9f29\",\n",
       "      ColoredTokens,\n",
       "      {\"tokens\": [\"J\", \".K\", \".\", \" Rowling\", \",\", \" Ronaldo\", \" Naz\", \"\\u00e1rio\", \",\", \" Justin\", \" Bieber\", \",\", \" Dick\", \" Lee\", \",\", \" Elle\", \" Mac\", \"ph\", \"erson\", \",\", \" Christian\", \" L\", \"oub\", \"out\", \"in\", \"\\n\", \"Who\", \" among\", \" these\", \" people\", \" mentioned\", \" above\", \" is\", \" from\", \" Australia\", \"?\\n\", \"Answer\", \":\"], \"values\": [0.0002880096435546875, 0.00014495849609375, 9.059906005859375e-05, 0.0001983642578125, 0.00015926361083984375, 8.7738037109375e-05, 0.00018024444580078125, 0.00013637542724609375, 0.000278472900390625, 0.000301361083984375, 0.00015926361083984375, 0.00064849853515625, 0.000591278076171875, 0.005523681640625, 0.004058837890625, 0.0703125, 0.06689453125, 0.1142578125, 0.400390625, 0.0020599365234375, 0.00077056884765625, 5.6743621826171875e-05, 0.000438690185546875, 0.00091552734375, 0.00014495849609375, 0.00165557861328125, 0.001007080078125, 0.0019073486328125, 0.0024871826171875, 0.000438690185546875, 0.0003528594970703125, 0.00157928466796875, 0.0019073486328125, 0.00086212158203125, 0.0191650390625, 0.0361328125, 0.00144195556640625, 0.07666015625]}\n",
       "    )\n",
       "    </script>"
      ],
      "text/plain": [
       "<circuitsvis.utils.render.RenderedHTML at 0x7fa4e02ac550>"
      ]
     },
     "metadata": {},
     "output_type": "display_data"
    },
    {
     "name": "stdout",
     "output_type": "stream",
     "text": [
      "2025-08-01 14:21:34 __main__ INFO     Layer: 34, Head: 7\n"
     ]
    },
    {
     "data": {
      "text/html": [
       "<div id=\"circuits-vis-3d3557c0-eb65\" style=\"margin: 15px 0;\"/>\n",
       "    <script crossorigin type=\"module\">\n",
       "    import { render, ColoredTokens } from \"https://unpkg.com/circuitsvis@1.43.3/dist/cdn/esm.js\";\n",
       "    render(\n",
       "      \"circuits-vis-3d3557c0-eb65\",\n",
       "      ColoredTokens,\n",
       "      {\"tokens\": [\"J\", \".K\", \".\", \" Rowling\", \",\", \" Ronaldo\", \" Naz\", \"\\u00e1rio\", \",\", \" Justin\", \" Bieber\", \",\", \" Dick\", \" Lee\", \",\", \" Elle\", \" Mac\", \"ph\", \"erson\", \",\", \" Christian\", \" L\", \"oub\", \"out\", \"in\", \"\\n\", \"Who\", \" among\", \" these\", \" people\", \" mentioned\", \" above\", \" is\", \" from\", \" Australia\", \"?\\n\", \"Answer\", \":\"], \"values\": [9.441375732421875e-05, 0.00051116943359375, 0.00017642974853515625, 0.00046539306640625, 0.00019359588623046875, 0.000518798828125, 0.0002918243408203125, 0.00096893310546875, 0.00061798095703125, 0.000675201416015625, 0.00096893310546875, 0.00096893310546875, 0.0007781982421875, 0.01123046875, 0.0069580078125, 0.01953125, 0.025390625, 0.043212890625, 0.4296875, 0.0023193359375, 0.0013427734375, 0.000171661376953125, 0.0020599365234375, 0.00102996826171875, 0.0013885498046875, 0.0029449462890625, 0.0014801025390625, 0.0054931640625, 0.00689697265625, 0.00186920166015625, 0.0013275146484375, 0.00579833984375, 0.0034332275390625, 0.0021209716796875, 0.07373046875, 0.08935546875, 0.004150390625, 0.07373046875]}\n",
       "    )\n",
       "    </script>"
      ],
      "text/plain": [
       "<circuitsvis.utils.render.RenderedHTML at 0x7fa4e02ac550>"
      ]
     },
     "metadata": {},
     "output_type": "display_data"
    },
    {
     "name": "stdout",
     "output_type": "stream",
     "text": [
      "2025-08-01 14:21:34 __main__ INFO     Layer: 35, Head: 19\n"
     ]
    },
    {
     "data": {
      "text/html": [
       "<div id=\"circuits-vis-15d41d8e-8119\" style=\"margin: 15px 0;\"/>\n",
       "    <script crossorigin type=\"module\">\n",
       "    import { render, ColoredTokens } from \"https://unpkg.com/circuitsvis@1.43.3/dist/cdn/esm.js\";\n",
       "    render(\n",
       "      \"circuits-vis-15d41d8e-8119\",\n",
       "      ColoredTokens,\n",
       "      {\"tokens\": [\"J\", \".K\", \".\", \" Rowling\", \",\", \" Ronaldo\", \" Naz\", \"\\u00e1rio\", \",\", \" Justin\", \" Bieber\", \",\", \" Dick\", \" Lee\", \",\", \" Elle\", \" Mac\", \"ph\", \"erson\", \",\", \" Christian\", \" L\", \"oub\", \"out\", \"in\", \"\\n\", \"Who\", \" among\", \" these\", \" people\", \" mentioned\", \" above\", \" is\", \" from\", \" Australia\", \"?\\n\", \"Answer\", \":\"], \"values\": [0.000202178955078125, 0.0033416748046875, 0.0004215240478515625, 0.0034942626953125, 0.0019683837890625, 0.0084228515625, 0.002105712890625, 0.00830078125, 0.0107421875, 0.002471923828125, 0.01361083984375, 0.0027008056640625, 0.002197265625, 0.1337890625, 0.03125, 0.01904296875, 0.01153564453125, 0.0169677734375, 0.482421875, 0.006988525390625, 0.003631591796875, 0.002044677734375, 0.008056640625, 0.0012969970703125, 0.0159912109375, 0.005767822265625, 0.0003070831298828125, 0.00021457672119140625, 0.0004405975341796875, 0.0002841949462890625, 0.00013828277587890625, 8.96453857421875e-05, 0.000202178955078125, 0.00119781494140625, 0.01385498046875, 0.003814697265625, 0.00060272216796875, 0.00640869140625]}\n",
       "    )\n",
       "    </script>"
      ],
      "text/plain": [
       "<circuitsvis.utils.render.RenderedHTML at 0x7fa4a0114550>"
      ]
     },
     "metadata": {},
     "output_type": "display_data"
    },
    {
     "name": "stdout",
     "output_type": "stream",
     "text": [
      "2025-08-01 14:21:34 __main__ INFO     Layer: 39, Head: 40\n"
     ]
    },
    {
     "data": {
      "text/html": [
       "<div id=\"circuits-vis-98945778-5541\" style=\"margin: 15px 0;\"/>\n",
       "    <script crossorigin type=\"module\">\n",
       "    import { render, ColoredTokens } from \"https://unpkg.com/circuitsvis@1.43.3/dist/cdn/esm.js\";\n",
       "    render(\n",
       "      \"circuits-vis-98945778-5541\",\n",
       "      ColoredTokens,\n",
       "      {\"tokens\": [\"J\", \".K\", \".\", \" Rowling\", \",\", \" Ronaldo\", \" Naz\", \"\\u00e1rio\", \",\", \" Justin\", \" Bieber\", \",\", \" Dick\", \" Lee\", \",\", \" Elle\", \" Mac\", \"ph\", \"erson\", \",\", \" Christian\", \" L\", \"oub\", \"out\", \"in\", \"\\n\", \"Who\", \" among\", \" these\", \" people\", \" mentioned\", \" above\", \" is\", \" from\", \" Australia\", \"?\\n\", \"Answer\", \":\"], \"values\": [0.00010204315185546875, 0.0002956390380859375, 0.00023365020751953125, 0.00012969970703125, 0.0003108978271484375, 0.000644683837890625, 0.0003452301025390625, 0.0010223388671875, 0.002471923828125, 0.0035858154296875, 0.0030517578125, 0.0013275146484375, 0.00628662109375, 0.05810546875, 0.040283203125, 0.173828125, 0.095703125, 0.01318359375, 0.404296875, 0.006866455078125, 0.0177001953125, 0.0027618408203125, 0.00052642822265625, 0.0003509521484375, 0.00799560546875, 0.005889892578125, 0.001983642578125, 0.0012359619140625, 0.000362396240234375, 0.0001468658447265625, 0.0002231597900390625, 0.00017642974853515625, 0.00112152099609375, 0.000606536865234375, 0.005889892578125, 0.055419921875, 0.00201416015625, 0.050537109375]}\n",
       "    )\n",
       "    </script>"
      ],
      "text/plain": [
       "<circuitsvis.utils.render.RenderedHTML at 0x7fa4c030fc90>"
      ]
     },
     "metadata": {},
     "output_type": "display_data"
    },
    {
     "name": "stdout",
     "output_type": "stream",
     "text": [
      "2025-08-01 14:21:35 __main__ INFO     Layer: 42, Head: 30\n"
     ]
    },
    {
     "data": {
      "text/html": [
       "<div id=\"circuits-vis-7ff87555-e1a9\" style=\"margin: 15px 0;\"/>\n",
       "    <script crossorigin type=\"module\">\n",
       "    import { render, ColoredTokens } from \"https://unpkg.com/circuitsvis@1.43.3/dist/cdn/esm.js\";\n",
       "    render(\n",
       "      \"circuits-vis-7ff87555-e1a9\",\n",
       "      ColoredTokens,\n",
       "      {\"tokens\": [\"J\", \".K\", \".\", \" Rowling\", \",\", \" Ronaldo\", \" Naz\", \"\\u00e1rio\", \",\", \" Justin\", \" Bieber\", \",\", \" Dick\", \" Lee\", \",\", \" Elle\", \" Mac\", \"ph\", \"erson\", \",\", \" Christian\", \" L\", \"oub\", \"out\", \"in\", \"\\n\", \"Who\", \" among\", \" these\", \" people\", \" mentioned\", \" above\", \" is\", \" from\", \" Australia\", \"?\\n\", \"Answer\", \":\"], \"values\": [0.0003509521484375, 0.0005950927734375, 0.000255584716796875, 0.00147247314453125, 0.000308990478515625, 0.002288818359375, 0.0015716552734375, 0.000576019287109375, 0.0017547607421875, 0.001922607421875, 0.00787353515625, 0.00183868408203125, 0.006927490234375, 0.06787109375, 0.0167236328125, 0.0859375, 0.09130859375, 0.053466796875, 0.201171875, 0.00885009765625, 0.00994873046875, 0.00262451171875, 0.00433349609375, 0.0032806396484375, 0.00738525390625, 0.005218505859375, 0.00147247314453125, 0.000789642333984375, 0.000865936279296875, 0.00049591064453125, 0.000743865966796875, 0.0004787445068359375, 0.000896453857421875, 0.002288818359375, 0.0130615234375, 0.0113525390625, 0.0029296875, 0.0206298828125]}\n",
       "    )\n",
       "    </script>"
      ],
      "text/plain": [
       "<circuitsvis.utils.render.RenderedHTML at 0x7fa4a0117c90>"
      ]
     },
     "metadata": {},
     "output_type": "display_data"
    },
    {
     "name": "stdout",
     "output_type": "stream",
     "text": [
      "2025-08-01 14:21:35 __main__ INFO     Layer: 47, Head: 18\n"
     ]
    },
    {
     "data": {
      "text/html": [
       "<div id=\"circuits-vis-bce113fc-ec1d\" style=\"margin: 15px 0;\"/>\n",
       "    <script crossorigin type=\"module\">\n",
       "    import { render, ColoredTokens } from \"https://unpkg.com/circuitsvis@1.43.3/dist/cdn/esm.js\";\n",
       "    render(\n",
       "      \"circuits-vis-bce113fc-ec1d\",\n",
       "      ColoredTokens,\n",
       "      {\"tokens\": [\"J\", \".K\", \".\", \" Rowling\", \",\", \" Ronaldo\", \" Naz\", \"\\u00e1rio\", \",\", \" Justin\", \" Bieber\", \",\", \" Dick\", \" Lee\", \",\", \" Elle\", \" Mac\", \"ph\", \"erson\", \",\", \" Christian\", \" L\", \"oub\", \"out\", \"in\", \"\\n\", \"Who\", \" among\", \" these\", \" people\", \" mentioned\", \" above\", \" is\", \" from\", \" Australia\", \"?\\n\", \"Answer\", \":\"], \"values\": [0.0001373291015625, 0.0001506805419921875, 0.0004558563232421875, 0.0001506805419921875, 0.000827789306640625, 0.000247955322265625, 0.000415802001953125, 0.0004787445068359375, 0.00286865234375, 0.00107574462890625, 0.001953125, 0.002349853515625, 0.0242919921875, 0.0255126953125, 0.01953125, 0.4921875, 0.08056640625, 0.01495361328125, 0.1416015625, 0.01434326171875, 0.0115966796875, 0.00433349609375, 0.0002193450927734375, 0.00106048583984375, 0.00286865234375, 0.00946044921875, 0.00250244140625, 0.00124359130859375, 0.0005340576171875, 0.0004024505615234375, 0.0006256103515625, 0.00022602081298828125, 0.001922607421875, 0.00138092041015625, 0.001617431640625, 0.01434326171875, 0.0045166015625, 0.017333984375]}\n",
       "    )\n",
       "    </script>"
      ],
      "text/plain": [
       "<circuitsvis.utils.render.RenderedHTML at 0x7fa4c039ae10>"
      ]
     },
     "metadata": {},
     "output_type": "display_data"
    },
    {
     "name": "stdout",
     "output_type": "stream",
     "text": [
      "2025-08-01 14:21:35 __main__ INFO     Layer: 52, Head: 58\n"
     ]
    },
    {
     "data": {
      "text/html": [
       "<div id=\"circuits-vis-cfeb33a7-3066\" style=\"margin: 15px 0;\"/>\n",
       "    <script crossorigin type=\"module\">\n",
       "    import { render, ColoredTokens } from \"https://unpkg.com/circuitsvis@1.43.3/dist/cdn/esm.js\";\n",
       "    render(\n",
       "      \"circuits-vis-cfeb33a7-3066\",\n",
       "      ColoredTokens,\n",
       "      {\"tokens\": [\"J\", \".K\", \".\", \" Rowling\", \",\", \" Ronaldo\", \" Naz\", \"\\u00e1rio\", \",\", \" Justin\", \" Bieber\", \",\", \" Dick\", \" Lee\", \",\", \" Elle\", \" Mac\", \"ph\", \"erson\", \",\", \" Christian\", \" L\", \"oub\", \"out\", \"in\", \"\\n\", \"Who\", \" among\", \" these\", \" people\", \" mentioned\", \" above\", \" is\", \" from\", \" Australia\", \"?\\n\", \"Answer\", \":\"], \"values\": [0.0001277923583984375, 0.0003566741943359375, 0.00075531005859375, 0.00083160400390625, 0.001708984375, 0.0001125335693359375, 0.00653076171875, 0.000782012939453125, 0.0024871826171875, 0.00070953369140625, 0.00384521484375, 0.0016021728515625, 0.02587890625, 0.0771484375, 0.008544921875, 0.12353515625, 0.095703125, 0.01373291015625, 0.11669921875, 0.00408935546875, 0.002593994140625, 0.01300048828125, 0.0016021728515625, 0.0014801025390625, 0.002899169921875, 0.0159912109375, 0.00070953369140625, 0.0018157958984375, 0.00019168853759765625, 0.00022411346435546875, 0.0011749267578125, 0.00017452239990234375, 0.00115203857421875, 0.001708984375, 0.003082275390625, 0.007293701171875, 0.000972747802734375, 0.00775146484375]}\n",
       "    )\n",
       "    </script>"
      ],
      "text/plain": [
       "<circuitsvis.utils.render.RenderedHTML at 0x7fa4c02c1a50>"
      ]
     },
     "metadata": {},
     "output_type": "display_data"
    },
    {
     "data": {
      "text/plain": [
       "[PredictedToken(token=' Elle', prob=0.87890625, logit=20.625, token_id=46408, metadata=None),\n",
       " PredictedToken(token=' Dick', prob=0.03857421875, logit=17.5, token_id=23373, metadata=None),\n",
       " PredictedToken(token=' The', prob=0.0206298828125, logit=16.875, token_id=578, metadata=None),\n",
       " PredictedToken(token=' ', prob=0.0125732421875, logit=16.375, token_id=220, metadata=None),\n",
       " PredictedToken(token=' None', prob=0.0038299560546875, logit=15.1875, token_id=2290, metadata=None)]"
      ]
     },
     "execution_count": 25,
     "metadata": {},
     "output_type": "execute_result"
    }
   ],
   "source": [
    "verify_ind = verify_head_patterns(\n",
    "    prompt=prompt,\n",
    "    options=sample.options,\n",
    "    pivot=sample.match_with,\n",
    "    mt=mt,\n",
    "    value_weighted=False,\n",
    "    generate_full_answer=False,\n",
    "    ablate_possible_ans_info_from_options=True,\n",
    ")\n",
    "\n",
    "verify_ind[\"predictions\"]"
   ]
  },
  {
   "cell_type": "code",
   "execution_count": 26,
   "id": "ea4eec49",
   "metadata": {},
   "outputs": [
    {
     "name": "stdout",
     "output_type": "stream",
     "text": [
      "2025-08-01 14:38:54 __main__ DEBUG    The Space Needle | opt_range=(3, 6) | bare_opt_range=(4, 7) | \" The Space Needle\"\n"
     ]
    },
    {
     "name": "stdout",
     "output_type": "stream",
     "text": [
      "2025-08-01 14:38:54 __main__ DEBUG    Louvre Museum | opt_range=(9, 12) | bare_opt_range=(4, 7) | \" Louvre Museum\"\n",
      "2025-08-01 14:38:54 __main__ DEBUG    Colosseum | opt_range=(15, 19) | bare_opt_range=(4, 8) | \" Colosseum\"\n",
      "2025-08-01 14:38:54 __main__ DEBUG    Christ the Redeemer | opt_range=(22, 26) | bare_opt_range=(4, 8) | \" Christ the Redeemer\"\n",
      "2025-08-01 14:38:54 __main__ DEBUG    State of Liberty | opt_range=(29, 32) | bare_opt_range=(4, 7) | \" State of Liberty\"\n",
      "2025-08-01 14:38:54 __main__ DEBUG    Big Ben | opt_range=(35, 37) | bare_opt_range=(4, 6) | \" Big Ben\"\n",
      "2025-08-01 14:38:54 __main__ DEBUG    Eiffel Tower | opt_range=(40, 44) | bare_opt_range=(4, 8) | \" Eiffel Tower\"\n",
      "2025-08-01 14:39:03 __main__ DEBUG    Predictions: ['\" Big\"[6295] (p=0.668, logit=21.500)', '\" \"[220] (p=0.217, logit=20.375)', '\" #\"[674] (p=0.023, logit=18.125)', '\" Number\"[5742] (p=0.018, logit=17.875)', '\" The\"[578] (p=0.008, logit=17.125)']\n",
      "layer=35\n"
     ]
    },
    {
     "data": {
      "text/html": [
       "<div id=\"circuits-vis-9660f67f-38e1\" style=\"margin: 15px 0;\"/>\n",
       "    <script crossorigin type=\"module\">\n",
       "    import { render, ColoredTokens } from \"https://unpkg.com/circuitsvis@1.43.3/dist/cdn/esm.js\";\n",
       "    render(\n",
       "      \"circuits-vis-9660f67f-38e1\",\n",
       "      ColoredTokens,\n",
       "      {\"tokens\": [\"1\", \".\", \" The\", \" Space\", \" Needle\", \"\\n\", \"2\", \".\", \" Lou\", \"vre\", \" Museum\", \"\\n\", \"3\", \".\", \" Col\", \"os\", \"se\", \"um\", \"\\n\", \"4\", \".\", \" Christ\", \" the\", \" Rede\", \"emer\", \"\\n\", \"5\", \".\", \" State\", \" of\", \" Liberty\", \"\\n\", \"6\", \".\", \" Big\", \" Ben\", \"\\n\", \"7\", \".\", \" E\", \"iff\", \"el\", \" Tower\", \"\\n\", \"Which\", \" of\", \" these\", \" landmarks\", \" is\", \" located\", \" in\", \" England\", \"?\\n\", \"Answer\", \":\"], \"values\": [0.021678686141967773, 0.005518946796655655, 0.000980418175458908, 0.0006273332983255386, 0.0021002963185310364, 0.009810864925384521, 0.009330704808235168, 0.00108380988240242, 0.001580696552991867, 0.0008116848766803741, 0.0012706443667411804, 0.0071580857038497925, 0.0006761588156223297, 0.0028001386672258377, 0.0010293154045939445, 0.000472524669021368, 0.0012096166610717773, 0.003010779619216919, 0.006569854915142059, 0.009779796004295349, 0.0009104404598474503, 0.0003756452351808548, 0.0001942124217748642, 0.00012409838382154703, 0.0012607164680957794, 0.0021606720983982086, 0.002868928015232086, 0.0012251492589712143, 0.0013766763731837273, 0.000619939062744379, 0.0041776299476623535, 0.008372917771339417, 0.013052642345428467, 0.0015016645193099976, 0.001589587889611721, 0.04696591943502426, 0.03168195113539696, 0.004367828369140625, 0.010338284075260162, 0.002168339677155018, 0.0010976605117321014, 0.0008875736966729164, 0.004275213927030563, 0.010778576135635376, 0.01910918951034546, 0.0074612051248550415, 0.01314699649810791, 0.005058672279119492, 0.011604107916355133, 0.005723381415009499, 0.004585728049278259, 0.03721708059310913, 0.04249882698059082, 0.031813450157642365, 0.029922261834144592]}\n",
       "    )\n",
       "    </script>"
      ],
      "text/plain": [
       "<circuitsvis.utils.render.RenderedHTML at 0x7fa4a00ff990>"
      ]
     },
     "metadata": {},
     "output_type": "display_data"
    },
    {
     "name": "stdout",
     "output_type": "stream",
     "text": [
      "--------------------------------------------------------------------------------\n",
      "layer=47\n"
     ]
    },
    {
     "data": {
      "text/html": [
       "<div id=\"circuits-vis-4f50ccdd-3013\" style=\"margin: 15px 0;\"/>\n",
       "    <script crossorigin type=\"module\">\n",
       "    import { render, ColoredTokens } from \"https://unpkg.com/circuitsvis@1.43.3/dist/cdn/esm.js\";\n",
       "    render(\n",
       "      \"circuits-vis-4f50ccdd-3013\",\n",
       "      ColoredTokens,\n",
       "      {\"tokens\": [\"1\", \".\", \" The\", \" Space\", \" Needle\", \"\\n\", \"2\", \".\", \" Lou\", \"vre\", \" Museum\", \"\\n\", \"3\", \".\", \" Col\", \"os\", \"se\", \"um\", \"\\n\", \"4\", \".\", \" Christ\", \" the\", \" Rede\", \"emer\", \"\\n\", \"5\", \".\", \" State\", \" of\", \" Liberty\", \"\\n\", \"6\", \".\", \" Big\", \" Ben\", \"\\n\", \"7\", \".\", \" E\", \"iff\", \"el\", \" Tower\", \"\\n\", \"Which\", \" of\", \" these\", \" landmarks\", \" is\", \" located\", \" in\", \" England\", \"?\\n\", \"Answer\", \":\"], \"values\": [0.003023102879524231, 0.0017553027719259262, 0.0005130954086780548, 0.00043992698192596436, 0.0010306015610694885, 0.002038789913058281, 0.0012149633839726448, 0.000619557686150074, 0.0003629326820373535, 0.00033397041261196136, 0.00032460037618875504, 0.0009025335311889648, 0.0003937557339668274, 0.000519544817507267, 0.0002135992981493473, 0.00023456616327166557, 0.00023305322974920273, 0.00030261604115366936, 0.0006229637656360865, 0.0006830837810412049, 0.00031733280047774315, 0.00016141962260007858, 0.00014894013293087482, 0.00012371421325951815, 0.0002477983944118023, 0.0003557363525032997, 0.000437295064330101, 0.0004204642027616501, 0.00035555288195610046, 0.00042706308886408806, 0.0010034739971160889, 0.0009212926961481571, 0.0008961784187704325, 0.0007029767148196697, 0.0024959733709692955, 0.010641173459589481, 0.009601750411093235, 0.0013576559722423553, 0.0011911038309335709, 0.00046030967496335506, 0.00025768810883164406, 0.00038091978058218956, 0.00041774287819862366, 0.0005045332945883274, 0.002657182514667511, 0.0021904893219470978, 0.0009362790733575821, 0.0013484731316566467, 0.0010413192212581635, 0.0006230585277080536, 0.0008086487650871277, 0.002682216465473175, 0.010824665427207947, 0.013012290000915527, 0.0028547775000333786]}\n",
       "    )\n",
       "    </script>"
      ],
      "text/plain": [
       "<circuitsvis.utils.render.RenderedHTML at 0x7fa5201ce690>"
      ]
     },
     "metadata": {},
     "output_type": "display_data"
    },
    {
     "name": "stdout",
     "output_type": "stream",
     "text": [
      "--------------------------------------------------------------------------------\n",
      "layer=52\n"
     ]
    },
    {
     "data": {
      "text/html": [
       "<div id=\"circuits-vis-721fb543-f2ba\" style=\"margin: 15px 0;\"/>\n",
       "    <script crossorigin type=\"module\">\n",
       "    import { render, ColoredTokens } from \"https://unpkg.com/circuitsvis@1.43.3/dist/cdn/esm.js\";\n",
       "    render(\n",
       "      \"circuits-vis-721fb543-f2ba\",\n",
       "      ColoredTokens,\n",
       "      {\"tokens\": [\"1\", \".\", \" The\", \" Space\", \" Needle\", \"\\n\", \"2\", \".\", \" Lou\", \"vre\", \" Museum\", \"\\n\", \"3\", \".\", \" Col\", \"os\", \"se\", \"um\", \"\\n\", \"4\", \".\", \" Christ\", \" the\", \" Rede\", \"emer\", \"\\n\", \"5\", \".\", \" State\", \" of\", \" Liberty\", \"\\n\", \"6\", \".\", \" Big\", \" Ben\", \"\\n\", \"7\", \".\", \" E\", \"iff\", \"el\", \" Tower\", \"\\n\", \"Which\", \" of\", \" these\", \" landmarks\", \" is\", \" located\", \" in\", \" England\", \"?\\n\", \"Answer\", \":\"], \"values\": [0.005723729729652405, 0.005251364782452583, 0.002393074333667755, 0.0007652249187231064, 0.001603935845196247, 0.005423441529273987, 0.004252433776855469, 0.0015449319034814835, 0.0012458190321922302, 0.000542023335583508, 0.000465653371065855, 0.0021364381536841393, 0.0013086749240756035, 0.0017093811184167862, 0.0004799612797796726, 0.00033272942528128624, 0.00031443615444004536, 0.0004702066071331501, 0.0012751161120831966, 0.0020732413977384567, 0.0009346334263682365, 0.000692577101290226, 0.00035486696287989616, 0.00017762515926733613, 0.0003137157764285803, 0.0008863992989063263, 0.0009822826832532883, 0.001050662249326706, 0.000757729634642601, 0.0007898285984992981, 0.0022760629653930664, 0.0023864489048719406, 0.0025985604152083397, 0.0013454612344503403, 0.009349395520985126, 0.012680471874773502, 0.011303211562335491, 0.0014761090278625488, 0.0014746151864528656, 0.000575029756873846, 0.00029983650892972946, 0.00045988382771611214, 0.0006005456671118736, 0.0013697207905352116, 0.008273787796497345, 0.0035330355167388916, 0.0024974271655082703, 0.00292002409696579, 0.0028043799102306366, 0.0019973628222942352, 0.0018438734114170074, 0.004183053970336914, 0.026737689971923828, 0.02122117578983307, 0.018530160188674927]}\n",
       "    )\n",
       "    </script>"
      ],
      "text/plain": [
       "<circuitsvis.utils.render.RenderedHTML at 0x7fa56796efd0>"
      ]
     },
     "metadata": {},
     "output_type": "display_data"
    },
    {
     "name": "stdout",
     "output_type": "stream",
     "text": [
      "--------------------------------------------------------------------------------\n",
      "======================================================================\n",
      "2025-08-01 14:39:03 __main__ INFO     Layer: 33, Head: 45\n"
     ]
    },
    {
     "data": {
      "text/html": [
       "<div id=\"circuits-vis-015af2dc-90e4\" style=\"margin: 15px 0;\"/>\n",
       "    <script crossorigin type=\"module\">\n",
       "    import { render, ColoredTokens } from \"https://unpkg.com/circuitsvis@1.43.3/dist/cdn/esm.js\";\n",
       "    render(\n",
       "      \"circuits-vis-015af2dc-90e4\",\n",
       "      ColoredTokens,\n",
       "      {\"tokens\": [\"1\", \".\", \" The\", \" Space\", \" Needle\", \"\\n\", \"2\", \".\", \" Lou\", \"vre\", \" Museum\", \"\\n\", \"3\", \".\", \" Col\", \"os\", \"se\", \"um\", \"\\n\", \"4\", \".\", \" Christ\", \" the\", \" Rede\", \"emer\", \"\\n\", \"5\", \".\", \" State\", \" of\", \" Liberty\", \"\\n\", \"6\", \".\", \" Big\", \" Ben\", \"\\n\", \"7\", \".\", \" E\", \"iff\", \"el\", \" Tower\", \"\\n\", \"Which\", \" of\", \" these\", \" landmarks\", \" is\", \" located\", \" in\", \" England\", \"?\\n\", \"Answer\", \":\"], \"values\": [0.029052734375, 0.003387451171875, 0.0017547607421875, 0.004547119140625, 0.011962890625, 0.008544921875, 0.00921630859375, 0.00506591796875, 0.005401611328125, 0.00170135498046875, 0.0015716552734375, 0.0035400390625, 0.000843048095703125, 0.00396728515625, 0.0025482177734375, 0.0089111328125, 0.0010833740234375, 0.005828857421875, 0.007171630859375, 0.007171630859375, 0.003387451171875, 0.00101470947265625, 0.0017547607421875, 0.00136566162109375, 0.00101470947265625, 0.002044677734375, 0.00299072265625, 0.00396728515625, 0.00762939453125, 0.00604248046875, 0.0111083984375, 0.0281982421875, 0.00775146484375, 0.0030364990234375, 0.0130615234375, 0.036865234375, 0.020751953125, 0.00183868408203125, 0.01239013671875, 0.0028533935546875, 0.00152587890625, 0.005950927734375, 0.0037689208984375, 0.01177978515625, 0.025634765625, 0.003387451171875, 0.0152587890625, 0.0037078857421875, 0.004547119140625, 0.00141143798828125, 0.0023193359375, 0.0311279296875, 0.032958984375, 0.007171630859375, 0.0390625]}\n",
       "    )\n",
       "    </script>"
      ],
      "text/plain": [
       "<circuitsvis.utils.render.RenderedHTML at 0x7fa5679b18d0>"
      ]
     },
     "metadata": {},
     "output_type": "display_data"
    },
    {
     "name": "stdout",
     "output_type": "stream",
     "text": [
      "2025-08-01 14:39:03 __main__ INFO     Layer: 33, Head: 18\n"
     ]
    },
    {
     "data": {
      "text/html": [
       "<div id=\"circuits-vis-49abccce-49ab\" style=\"margin: 15px 0;\"/>\n",
       "    <script crossorigin type=\"module\">\n",
       "    import { render, ColoredTokens } from \"https://unpkg.com/circuitsvis@1.43.3/dist/cdn/esm.js\";\n",
       "    render(\n",
       "      \"circuits-vis-49abccce-49ab\",\n",
       "      ColoredTokens,\n",
       "      {\"tokens\": [\"1\", \".\", \" The\", \" Space\", \" Needle\", \"\\n\", \"2\", \".\", \" Lou\", \"vre\", \" Museum\", \"\\n\", \"3\", \".\", \" Col\", \"os\", \"se\", \"um\", \"\\n\", \"4\", \".\", \" Christ\", \" the\", \" Rede\", \"emer\", \"\\n\", \"5\", \".\", \" State\", \" of\", \" Liberty\", \"\\n\", \"6\", \".\", \" Big\", \" Ben\", \"\\n\", \"7\", \".\", \" E\", \"iff\", \"el\", \" Tower\", \"\\n\", \"Which\", \" of\", \" these\", \" landmarks\", \" is\", \" located\", \" in\", \" England\", \"?\\n\", \"Answer\", \":\"], \"values\": [0.005035400390625, 0.0017852783203125, 0.000667572021484375, 0.000255584716796875, 0.002777099609375, 0.0458984375, 0.005462646484375, 0.003875732421875, 0.0025177001953125, 0.000377655029296875, 0.00089263916015625, 0.0211181640625, 8.58306884765625e-05, 0.00482177734375, 0.0013275146484375, 0.00112152099609375, 0.000881195068359375, 0.004547119140625, 0.037353515625, 0.002777099609375, 0.00057220458984375, 0.00052642822265625, 0.00069427490234375, 2.9206275939941406e-05, 0.000652313232421875, 0.002471923828125, 0.000568389892578125, 0.00080108642578125, 0.001190185546875, 0.0005035400390625, 0.003662109375, 0.020751953125, 0.01019287109375, 0.000396728515625, 0.0084228515625, 0.1787109375, 0.515625, 8.96453857421875e-05, 0.033447265625, 0.0022735595703125, 0.0003833770751953125, 0.0012664794921875, 0.014892578125, 0.0142822265625, 0.0020904541015625, 9.393692016601562e-05, 0.000247955322265625, 0.00012493133544921875, 0.00013065338134765625, 1.2159347534179688e-05, 5.888938903808594e-05, 0.0004863739013671875, 0.00060272216796875, 0.00012683868408203125, 0.001068115234375]}\n",
       "    )\n",
       "    </script>"
      ],
      "text/plain": [
       "<circuitsvis.utils.render.RenderedHTML at 0x7fa56796dc90>"
      ]
     },
     "metadata": {},
     "output_type": "display_data"
    },
    {
     "name": "stdout",
     "output_type": "stream",
     "text": [
      "2025-08-01 14:39:03 __main__ INFO     Layer: 34, Head: 1\n"
     ]
    },
    {
     "data": {
      "text/html": [
       "<div id=\"circuits-vis-022a50dd-2be6\" style=\"margin: 15px 0;\"/>\n",
       "    <script crossorigin type=\"module\">\n",
       "    import { render, ColoredTokens } from \"https://unpkg.com/circuitsvis@1.43.3/dist/cdn/esm.js\";\n",
       "    render(\n",
       "      \"circuits-vis-022a50dd-2be6\",\n",
       "      ColoredTokens,\n",
       "      {\"tokens\": [\"1\", \".\", \" The\", \" Space\", \" Needle\", \"\\n\", \"2\", \".\", \" Lou\", \"vre\", \" Museum\", \"\\n\", \"3\", \".\", \" Col\", \"os\", \"se\", \"um\", \"\\n\", \"4\", \".\", \" Christ\", \" the\", \" Rede\", \"emer\", \"\\n\", \"5\", \".\", \" State\", \" of\", \" Liberty\", \"\\n\", \"6\", \".\", \" Big\", \" Ben\", \"\\n\", \"7\", \".\", \" E\", \"iff\", \"el\", \" Tower\", \"\\n\", \"Which\", \" of\", \" these\", \" landmarks\", \" is\", \" located\", \" in\", \" England\", \"?\\n\", \"Answer\", \":\"], \"values\": [0.018798828125, 0.001007080078125, 0.0001983642578125, 0.000217437744140625, 0.00055694580078125, 0.00168609619140625, 0.00139617919921875, 9.965896606445312e-05, 0.00238037109375, 1.1205673217773438e-05, 2.5987625122070312e-05, 0.0002536773681640625, 2.4437904357910156e-05, 0.0015106201171875, 0.000820159912109375, 0.00139617919921875, 5.0067901611328125e-05, 0.00086212158203125, 0.000659942626953125, 0.0008087158203125, 0.00034332275390625, 6.794929504394531e-06, 9.000301361083984e-06, 8.642673492431641e-07, 1.049041748046875e-05, 1.6808509826660156e-05, 0.00018596649169921875, 0.0001926422119140625, 0.001373291015625, 0.00029754638671875, 0.0004673004150390625, 0.0013580322265625, 0.005279541015625, 0.0001316070556640625, 0.002410888671875, 0.369140625, 0.2353515625, 0.0002880096435546875, 0.0142822265625, 0.00119781494140625, 3.24249267578125e-05, 7.05718994140625e-05, 0.00010633468627929688, 0.0009918212890625, 0.0037994384765625, 0.000888824462890625, 0.002197265625, 0.000446319580078125, 0.0009918212890625, 9.965896606445312e-05, 0.000270843505859375, 0.0118408203125, 0.01275634765625, 0.001007080078125, 0.0283203125]}\n",
       "    )\n",
       "    </script>"
      ],
      "text/plain": [
       "<circuitsvis.utils.render.RenderedHTML at 0x7fa5201ce690>"
      ]
     },
     "metadata": {},
     "output_type": "display_data"
    },
    {
     "name": "stdout",
     "output_type": "stream",
     "text": [
      "2025-08-01 14:39:03 __main__ INFO     Layer: 34, Head: 6\n"
     ]
    },
    {
     "data": {
      "text/html": [
       "<div id=\"circuits-vis-f03153fe-29e7\" style=\"margin: 15px 0;\"/>\n",
       "    <script crossorigin type=\"module\">\n",
       "    import { render, ColoredTokens } from \"https://unpkg.com/circuitsvis@1.43.3/dist/cdn/esm.js\";\n",
       "    render(\n",
       "      \"circuits-vis-f03153fe-29e7\",\n",
       "      ColoredTokens,\n",
       "      {\"tokens\": [\"1\", \".\", \" The\", \" Space\", \" Needle\", \"\\n\", \"2\", \".\", \" Lou\", \"vre\", \" Museum\", \"\\n\", \"3\", \".\", \" Col\", \"os\", \"se\", \"um\", \"\\n\", \"4\", \".\", \" Christ\", \" the\", \" Rede\", \"emer\", \"\\n\", \"5\", \".\", \" State\", \" of\", \" Liberty\", \"\\n\", \"6\", \".\", \" Big\", \" Ben\", \"\\n\", \"7\", \".\", \" E\", \"iff\", \"el\", \" Tower\", \"\\n\", \"Which\", \" of\", \" these\", \" landmarks\", \" is\", \" located\", \" in\", \" England\", \"?\\n\", \"Answer\", \":\"], \"values\": [0.034912109375, 0.002838134765625, 0.000614166259765625, 0.000789642333984375, 0.00142669677734375, 0.00537109375, 0.00439453125, 0.0004634857177734375, 0.0050048828125, 6.4849853515625e-05, 0.00011348724365234375, 0.00102996826171875, 3.695487976074219e-05, 0.00262451171875, 0.00098419189453125, 0.0031585693359375, 0.0002727508544921875, 0.0022125244140625, 0.001861572265625, 0.004608154296875, 0.0004634857177734375, 3.695487976074219e-05, 4.57763671875e-05, 8.225440979003906e-06, 3.790855407714844e-05, 7.343292236328125e-05, 0.000934600830078125, 0.00063323974609375, 0.003875732421875, 0.0007171630859375, 0.00109100341796875, 0.0035858154296875, 0.0162353515625, 0.00019931793212890625, 0.00860595703125, 0.28515625, 0.12353515625, 0.0012969970703125, 0.01361083984375, 0.001983642578125, 0.00016021728515625, 0.0002803802490234375, 0.000263214111328125, 0.00156402587890625, 0.00836181640625, 0.0016937255859375, 0.0035858154296875, 0.0004482269287109375, 0.0012969970703125, 0.0001811981201171875, 0.000675201416015625, 0.0098876953125, 0.0137939453125, 0.0013580322265625, 0.032470703125]}\n",
       "    )\n",
       "    </script>"
      ],
      "text/plain": [
       "<circuitsvis.utils.render.RenderedHTML at 0x7fa5679b18d0>"
      ]
     },
     "metadata": {},
     "output_type": "display_data"
    },
    {
     "name": "stdout",
     "output_type": "stream",
     "text": [
      "2025-08-01 14:39:04 __main__ INFO     Layer: 34, Head: 7\n"
     ]
    },
    {
     "data": {
      "text/html": [
       "<div id=\"circuits-vis-2ffed781-b066\" style=\"margin: 15px 0;\"/>\n",
       "    <script crossorigin type=\"module\">\n",
       "    import { render, ColoredTokens } from \"https://unpkg.com/circuitsvis@1.43.3/dist/cdn/esm.js\";\n",
       "    render(\n",
       "      \"circuits-vis-2ffed781-b066\",\n",
       "      ColoredTokens,\n",
       "      {\"tokens\": [\"1\", \".\", \" The\", \" Space\", \" Needle\", \"\\n\", \"2\", \".\", \" Lou\", \"vre\", \" Museum\", \"\\n\", \"3\", \".\", \" Col\", \"os\", \"se\", \"um\", \"\\n\", \"4\", \".\", \" Christ\", \" the\", \" Rede\", \"emer\", \"\\n\", \"5\", \".\", \" State\", \" of\", \" Liberty\", \"\\n\", \"6\", \".\", \" Big\", \" Ben\", \"\\n\", \"7\", \".\", \" E\", \"iff\", \"el\", \" Tower\", \"\\n\", \"Which\", \" of\", \" these\", \" landmarks\", \" is\", \" located\", \" in\", \" England\", \"?\\n\", \"Answer\", \":\"], \"values\": [0.045654296875, 0.00063323974609375, 0.00023651123046875, 0.00018405914306640625, 0.00067138671875, 0.00142669677734375, 0.000751495361328125, 0.00012683868408203125, 0.0009918212890625, 6.151199340820312e-05, 9.5367431640625e-05, 0.000469207763671875, 3.504753112792969e-05, 0.0004405975341796875, 0.00034332275390625, 0.000850677490234375, 0.000293731689453125, 0.00142669677734375, 0.0013580322265625, 0.00147247314453125, 0.00017261505126953125, 0.0001392364501953125, 0.00015735626220703125, 2.6464462280273438e-05, 0.00019550323486328125, 0.0002841949462890625, 0.0009765625, 0.0003662109375, 0.001617431640625, 0.0004138946533203125, 0.0015411376953125, 0.00604248046875, 0.007415771484375, 0.0002765655517578125, 0.003692626953125, 0.1806640625, 0.1376953125, 0.00171661376953125, 0.00885009765625, 0.0012969970703125, 0.000934600830078125, 0.00127410888671875, 0.002838134765625, 0.00848388671875, 0.0206298828125, 0.004852294921875, 0.016357421875, 0.0020751953125, 0.006378173828125, 0.00087738037109375, 0.0022735595703125, 0.0869140625, 0.07861328125, 0.01220703125, 0.1015625]}\n",
       "    )\n",
       "    </script>"
      ],
      "text/plain": [
       "<circuitsvis.utils.render.RenderedHTML at 0x7fa4c046c310>"
      ]
     },
     "metadata": {},
     "output_type": "display_data"
    },
    {
     "name": "stdout",
     "output_type": "stream",
     "text": [
      "2025-08-01 14:39:04 __main__ INFO     Layer: 35, Head: 19\n"
     ]
    },
    {
     "data": {
      "text/html": [
       "<div id=\"circuits-vis-2f0d7c96-4a80\" style=\"margin: 15px 0;\"/>\n",
       "    <script crossorigin type=\"module\">\n",
       "    import { render, ColoredTokens } from \"https://unpkg.com/circuitsvis@1.43.3/dist/cdn/esm.js\";\n",
       "    render(\n",
       "      \"circuits-vis-2f0d7c96-4a80\",\n",
       "      ColoredTokens,\n",
       "      {\"tokens\": [\"1\", \".\", \" The\", \" Space\", \" Needle\", \"\\n\", \"2\", \".\", \" Lou\", \"vre\", \" Museum\", \"\\n\", \"3\", \".\", \" Col\", \"os\", \"se\", \"um\", \"\\n\", \"4\", \".\", \" Christ\", \" the\", \" Rede\", \"emer\", \"\\n\", \"5\", \".\", \" State\", \" of\", \" Liberty\", \"\\n\", \"6\", \".\", \" Big\", \" Ben\", \"\\n\", \"7\", \".\", \" E\", \"iff\", \"el\", \" Tower\", \"\\n\", \"Which\", \" of\", \" these\", \" landmarks\", \" is\", \" located\", \" in\", \" England\", \"?\\n\", \"Answer\", \":\"], \"values\": [0.0018157958984375, 4.029273986816406e-05, 3.838539123535156e-05, 0.00011110305786132812, 0.00201416015625, 0.0024261474609375, 0.0003204345703125, 0.0009002685546875, 0.000873565673828125, 0.000301361083984375, 0.00104522705078125, 0.00665283203125, 0.000171661376953125, 0.0037689208984375, 0.00189208984375, 0.0017547607421875, 0.000705718994140625, 0.013427734375, 0.01031494140625, 0.0001544952392578125, 0.00098419189453125, 0.0002765655517578125, 0.0001125335693359375, 6.437301635742188e-05, 0.0011749267578125, 0.00110626220703125, 2.4318695068359375e-05, 0.00064849853515625, 0.00159454345703125, 0.0002498626708984375, 0.01104736328125, 0.005615234375, 0.0002193450927734375, 0.0005645751953125, 0.00115966796875, 0.6484375, 0.2236328125, 0.0002422332763671875, 0.0150146484375, 0.0021209716796875, 0.00019741058349609375, 0.000782012939453125, 0.00189208984375, 0.0023651123046875, 0.00096893310546875, 2.288818359375e-05, 0.0003414154052734375, 0.0004425048828125, 7.295608520507812e-05, 0.00015926361083984375, 0.0003910064697265625, 0.00592041015625, 0.0030517578125, 7.295608520507812e-05, 0.001220703125]}\n",
       "    )\n",
       "    </script>"
      ],
      "text/plain": [
       "<circuitsvis.utils.render.RenderedHTML at 0x7fa567f9b5d0>"
      ]
     },
     "metadata": {},
     "output_type": "display_data"
    },
    {
     "name": "stdout",
     "output_type": "stream",
     "text": [
      "2025-08-01 14:39:04 __main__ INFO     Layer: 39, Head: 40\n"
     ]
    },
    {
     "data": {
      "text/html": [
       "<div id=\"circuits-vis-5ca487f4-af82\" style=\"margin: 15px 0;\"/>\n",
       "    <script crossorigin type=\"module\">\n",
       "    import { render, ColoredTokens } from \"https://unpkg.com/circuitsvis@1.43.3/dist/cdn/esm.js\";\n",
       "    render(\n",
       "      \"circuits-vis-5ca487f4-af82\",\n",
       "      ColoredTokens,\n",
       "      {\"tokens\": [\"1\", \".\", \" The\", \" Space\", \" Needle\", \"\\n\", \"2\", \".\", \" Lou\", \"vre\", \" Museum\", \"\\n\", \"3\", \".\", \" Col\", \"os\", \"se\", \"um\", \"\\n\", \"4\", \".\", \" Christ\", \" the\", \" Rede\", \"emer\", \"\\n\", \"5\", \".\", \" State\", \" of\", \" Liberty\", \"\\n\", \"6\", \".\", \" Big\", \" Ben\", \"\\n\", \"7\", \".\", \" E\", \"iff\", \"el\", \" Tower\", \"\\n\", \"Which\", \" of\", \" these\", \" landmarks\", \" is\", \" located\", \" in\", \" England\", \"?\\n\", \"Answer\", \":\"], \"values\": [0.000919342041015625, 0.001953125, 3.266334533691406e-05, 7.420778274536133e-06, 0.0001316070556640625, 0.00543212890625, 0.0031585693359375, 0.0002346038818359375, 0.0001277923583984375, 5.9604644775390625e-06, 3.4332275390625e-05, 0.0028533935546875, 8.916854858398438e-05, 0.0037689208984375, 0.0004119873046875, 0.0001888275146484375, 6.765127182006836e-06, 0.0014190673828125, 0.0267333984375, 0.00299072265625, 0.00067901611328125, 1.621246337890625e-05, 5.424022674560547e-06, 1.862645149230957e-07, 2.4318695068359375e-05, 0.000881195068359375, 0.0010528564453125, 0.0015411376953125, 0.00020885467529296875, 0.0004749298095703125, 0.001220703125, 0.0118408203125, 0.0031585693359375, 0.000820159912109375, 0.00145721435546875, 0.185546875, 0.51953125, 0.00016117095947265625, 0.038818359375, 0.00109100341796875, 1.1146068572998047e-05, 3.7670135498046875e-05, 0.0004119873046875, 0.0023040771484375, 0.001434326171875, 0.0006866455078125, 0.0001773834228515625, 2.4318695068359375e-05, 0.00124359130859375, 6.198883056640625e-05, 0.0003204345703125, 0.0025482177734375, 0.11962890625, 0.0026092529296875, 0.041259765625]}\n",
       "    )\n",
       "    </script>"
      ],
      "text/plain": [
       "<circuitsvis.utils.render.RenderedHTML at 0x7fa4e01eb8d0>"
      ]
     },
     "metadata": {},
     "output_type": "display_data"
    },
    {
     "name": "stdout",
     "output_type": "stream",
     "text": [
      "2025-08-01 14:39:04 __main__ INFO     Layer: 42, Head: 30\n"
     ]
    },
    {
     "data": {
      "text/html": [
       "<div id=\"circuits-vis-44fb8035-b949\" style=\"margin: 15px 0;\"/>\n",
       "    <script crossorigin type=\"module\">\n",
       "    import { render, ColoredTokens } from \"https://unpkg.com/circuitsvis@1.43.3/dist/cdn/esm.js\";\n",
       "    render(\n",
       "      \"circuits-vis-44fb8035-b949\",\n",
       "      ColoredTokens,\n",
       "      {\"tokens\": [\"1\", \".\", \" The\", \" Space\", \" Needle\", \"\\n\", \"2\", \".\", \" Lou\", \"vre\", \" Museum\", \"\\n\", \"3\", \".\", \" Col\", \"os\", \"se\", \"um\", \"\\n\", \"4\", \".\", \" Christ\", \" the\", \" Rede\", \"emer\", \"\\n\", \"5\", \".\", \" State\", \" of\", \" Liberty\", \"\\n\", \"6\", \".\", \" Big\", \" Ben\", \"\\n\", \"7\", \".\", \" E\", \"iff\", \"el\", \" Tower\", \"\\n\", \"Which\", \" of\", \" these\", \" landmarks\", \" is\", \" located\", \" in\", \" England\", \"?\\n\", \"Answer\", \":\"], \"values\": [0.007293701171875, 0.0028076171875, 0.000431060791015625, 0.0005035400390625, 0.001556396484375, 0.007537841796875, 0.007537841796875, 0.0026092529296875, 0.001068115234375, 0.000270843505859375, 0.000591278076171875, 0.00408935546875, 0.0033416748046875, 0.007659912109375, 0.001373291015625, 0.000667572021484375, 5.0067901611328125e-05, 0.0021514892578125, 0.00653076171875, 0.0084228515625, 0.00457763671875, 0.0003814697265625, 0.000347137451171875, 4.839897155761719e-05, 0.000518798828125, 0.00225830078125, 0.004852294921875, 0.00408935546875, 0.0016021728515625, 0.0021514892578125, 0.004638671875, 0.00982666015625, 0.0106201171875, 0.00653076171875, 0.00787353515625, 0.162109375, 0.06640625, 0.0028076171875, 0.02587890625, 0.003509521484375, 0.0004749298095703125, 0.00145721435546875, 0.00408935546875, 0.00653076171875, 0.0169677734375, 0.004302978515625, 0.007415771484375, 0.004302978515625, 0.004852294921875, 0.0020904541015625, 0.0025177001953125, 0.00982666015625, 0.039794921875, 0.006439208984375, 0.0211181640625]}\n",
       "    )\n",
       "    </script>"
      ],
      "text/plain": [
       "<circuitsvis.utils.render.RenderedHTML at 0x7fa4e01eb8d0>"
      ]
     },
     "metadata": {},
     "output_type": "display_data"
    },
    {
     "name": "stdout",
     "output_type": "stream",
     "text": [
      "2025-08-01 14:39:04 __main__ INFO     Layer: 47, Head: 18\n"
     ]
    },
    {
     "data": {
      "text/html": [
       "<div id=\"circuits-vis-c3bebb26-4ae6\" style=\"margin: 15px 0;\"/>\n",
       "    <script crossorigin type=\"module\">\n",
       "    import { render, ColoredTokens } from \"https://unpkg.com/circuitsvis@1.43.3/dist/cdn/esm.js\";\n",
       "    render(\n",
       "      \"circuits-vis-c3bebb26-4ae6\",\n",
       "      ColoredTokens,\n",
       "      {\"tokens\": [\"1\", \".\", \" The\", \" Space\", \" Needle\", \"\\n\", \"2\", \".\", \" Lou\", \"vre\", \" Museum\", \"\\n\", \"3\", \".\", \" Col\", \"os\", \"se\", \"um\", \"\\n\", \"4\", \".\", \" Christ\", \" the\", \" Rede\", \"emer\", \"\\n\", \"5\", \".\", \" State\", \" of\", \" Liberty\", \"\\n\", \"6\", \".\", \" Big\", \" Ben\", \"\\n\", \"7\", \".\", \" E\", \"iff\", \"el\", \" Tower\", \"\\n\", \"Which\", \" of\", \" these\", \" landmarks\", \" is\", \" located\", \" in\", \" England\", \"?\\n\", \"Answer\", \":\"], \"values\": [0.013671875, 0.016845703125, 0.0027313232421875, 0.00013446807861328125, 0.000324249267578125, 0.0120849609375, 0.0146484375, 0.0040283203125, 0.0028228759765625, 3.0159950256347656e-05, 0.0001049041748046875, 0.006927490234375, 0.0040283203125, 0.006988525390625, 0.000396728515625, 9.870529174804688e-05, 2.276897430419922e-05, 0.00023651123046875, 0.0052490234375, 0.00445556640625, 0.0032958984375, 7.200241088867188e-05, 3.528594970703125e-05, 1.2442469596862793e-06, 0.0001049041748046875, 0.002838134765625, 0.0037078857421875, 0.0032958984375, 0.0007171630859375, 0.0006866455078125, 0.0008392333984375, 0.00634765625, 0.0145263671875, 0.0086669921875, 0.06787109375, 0.248046875, 0.349609375, 0.00201416015625, 0.03173828125, 0.00136566162109375, 5.930662155151367e-06, 2.205371856689453e-05, 0.000324249267578125, 0.0011138916015625, 0.01275634765625, 0.0028839111328125, 0.0032196044921875, 0.000949859619140625, 0.00390625, 0.00010824203491210938, 0.002044677734375, 0.000728607177734375, 0.039794921875, 0.0057373046875, 0.01287841796875]}\n",
       "    )\n",
       "    </script>"
      ],
      "text/plain": [
       "<circuitsvis.utils.render.RenderedHTML at 0x7fa567956690>"
      ]
     },
     "metadata": {},
     "output_type": "display_data"
    },
    {
     "name": "stdout",
     "output_type": "stream",
     "text": [
      "2025-08-01 14:39:04 __main__ INFO     Layer: 52, Head: 58\n"
     ]
    },
    {
     "data": {
      "text/html": [
       "<div id=\"circuits-vis-caba9d94-df59\" style=\"margin: 15px 0;\"/>\n",
       "    <script crossorigin type=\"module\">\n",
       "    import { render, ColoredTokens } from \"https://unpkg.com/circuitsvis@1.43.3/dist/cdn/esm.js\";\n",
       "    render(\n",
       "      \"circuits-vis-caba9d94-df59\",\n",
       "      ColoredTokens,\n",
       "      {\"tokens\": [\"1\", \".\", \" The\", \" Space\", \" Needle\", \"\\n\", \"2\", \".\", \" Lou\", \"vre\", \" Museum\", \"\\n\", \"3\", \".\", \" Col\", \"os\", \"se\", \"um\", \"\\n\", \"4\", \".\", \" Christ\", \" the\", \" Rede\", \"emer\", \"\\n\", \"5\", \".\", \" State\", \" of\", \" Liberty\", \"\\n\", \"6\", \".\", \" Big\", \" Ben\", \"\\n\", \"7\", \".\", \" E\", \"iff\", \"el\", \" Tower\", \"\\n\", \"Which\", \" of\", \" these\", \" landmarks\", \" is\", \" located\", \" in\", \" England\", \"?\\n\", \"Answer\", \":\"], \"values\": [0.028564453125, 0.02197265625, 0.00225830078125, 0.0027618408203125, 0.007293701171875, 0.00982666015625, 0.0023651123046875, 0.00162506103515625, 0.00101470947265625, 0.000278472900390625, 0.000518798828125, 0.00323486328125, 0.0021209716796875, 0.00372314453125, 0.0002384185791015625, 0.0012054443359375, 3.647804260253906e-05, 0.000690460205078125, 0.004364013671875, 0.0008697509765625, 0.002288818359375, 9.632110595703125e-05, 0.000179290771484375, 7.18235969543457e-06, 0.00014400482177734375, 0.00083160400390625, 0.0004730224609375, 0.003448486328125, 0.0003147125244140625, 0.00075531005859375, 0.002685546875, 0.0009002685546875, 0.0029449462890625, 0.003387451171875, 0.04248046875, 0.49609375, 0.053466796875, 0.00064849853515625, 0.00775146484375, 0.0003261566162109375, 4.982948303222656e-05, 0.00012302398681640625, 0.00130462646484375, 0.000667572021484375, 0.00390625, 0.00469970703125, 0.0024871826171875, 0.002685546875, 0.004486083984375, 0.000667572021484375, 0.0021820068359375, 0.00130462646484375, 0.01519775390625, 0.0020599365234375, 0.009033203125]}\n",
       "    )\n",
       "    </script>"
      ],
      "text/plain": [
       "<circuitsvis.utils.render.RenderedHTML at 0x7fa4c055b7d0>"
      ]
     },
     "metadata": {},
     "output_type": "display_data"
    },
    {
     "data": {
      "text/plain": [
       "[PredictedToken(token=' Big', prob=0.66796875, logit=21.5, token_id=6295, metadata=None),\n",
       " PredictedToken(token=' ', prob=0.216796875, logit=20.375, token_id=220, metadata=None),\n",
       " PredictedToken(token=' #', prob=0.0228271484375, logit=18.125, token_id=674, metadata=None),\n",
       " PredictedToken(token=' Number', prob=0.017822265625, logit=17.875, token_id=5742, metadata=None),\n",
       " PredictedToken(token=' The', prob=0.0084228515625, logit=17.125, token_id=578, metadata=None)]"
      ]
     },
     "execution_count": 26,
     "metadata": {},
     "output_type": "execute_result"
    }
   ],
   "source": [
    "import random\n",
    "\n",
    "# options = [\"Table\", \"Orange\", \"Transistor\", \"Spinach\", \"Piano\", \"Coffee\"]\n",
    "# prompt_template = \"\"\"Which of these objects is by type a {}?\n",
    "# options: {}\n",
    "# Answer:\"\"\"\n",
    "# prompt = prompt_template.format(\n",
    "#     \"musical instrument\",\n",
    "#     \", \".join(options)\n",
    "# )\n",
    "# print(prompt)\n",
    "\n",
    "# options = [\"anaconda\", \"python\", \"cobra\", \"viper\", \"mamba\", \"rattlesnake\"]\n",
    "# prompt = f\"\"\"Which of these snake names is also a programming language?\n",
    "# options: {\", \".join(options)}\n",
    "# Answer:\"\"\"\n",
    "\n",
    "options = [\n",
    "    \"The Space Needle\",\n",
    "    \"Louvre Museum\",\n",
    "    \"Colosseum\",\n",
    "    \"Christ the Redeemer\",\n",
    "    \"State of Liberty\",\n",
    "    \"Big Ben\",\n",
    "]\n",
    "options += [\"Eiffel Tower\"]\n",
    "# random.shuffle(options)\n",
    "country = \"England\"\n",
    "prompt_template = \"\"\"{}\n",
    "Which of these landmarks is located in {}?\n",
    "Answer:\"\"\"\n",
    "prompt = prompt_template.format(\n",
    "    \"\\n\".join([f\"{idx+1}. {opt}\" for idx, opt in enumerate(options)]), country\n",
    ")\n",
    "\n",
    "verify = verify_head_patterns(\n",
    "    prompt=prompt,\n",
    "    options=options,\n",
    "    pivot=country,\n",
    "    mt=mt,\n",
    "    value_weighted=False,\n",
    "    generate_full_answer=True,\n",
    "    ablate_possible_ans_info_from_options=False,\n",
    ")\n",
    "\n",
    "verify[\"predictions\"]"
   ]
  },
  {
   "cell_type": "code",
   "execution_count": 27,
   "id": "7d0db58f",
   "metadata": {},
   "outputs": [
    {
     "name": "stdout",
     "output_type": "stream",
     "text": [
      "2025-08-01 14:40:15 __main__ DEBUG    The Space Needle | opt_range=(3, 6) | bare_opt_range=(4, 7) | \" The Space Needle\"\n",
      "2025-08-01 14:40:16 __main__ DEBUG    Louvre Museum | opt_range=(9, 12) | bare_opt_range=(4, 7) | \" Louvre Museum\"\n",
      "2025-08-01 14:40:16 __main__ DEBUG    Colosseum | opt_range=(15, 19) | bare_opt_range=(4, 8) | \" Colosseum\"\n",
      "2025-08-01 14:40:16 __main__ DEBUG    Christ the Redeemer | opt_range=(22, 26) | bare_opt_range=(4, 8) | \" Christ the Redeemer\"\n",
      "2025-08-01 14:40:16 __main__ DEBUG    State of Liberty | opt_range=(29, 32) | bare_opt_range=(4, 7) | \" State of Liberty\"\n",
      "2025-08-01 14:40:16 __main__ DEBUG    Big Ben | opt_range=(35, 37) | bare_opt_range=(4, 6) | \" Big Ben\"\n",
      "2025-08-01 14:40:16 __main__ DEBUG    Eiffel Tower | opt_range=(40, 44) | bare_opt_range=(4, 8) | \" Eiffel Tower\"\n",
      "2025-08-01 14:40:24 __main__ DEBUG    Predictions: ['\" Big\"[6295] (p=0.668, logit=21.500)', '\" \"[220] (p=0.217, logit=20.375)', '\" #\"[674] (p=0.023, logit=18.125)', '\" Number\"[5742] (p=0.018, logit=17.875)', '\" The\"[578] (p=0.008, logit=17.125)']\n",
      "layer=35\n"
     ]
    },
    {
     "data": {
      "text/html": [
       "<div id=\"circuits-vis-7cffaef2-c9b6\" style=\"margin: 15px 0;\"/>\n",
       "    <script crossorigin type=\"module\">\n",
       "    import { render, ColoredTokens } from \"https://unpkg.com/circuitsvis@1.43.3/dist/cdn/esm.js\";\n",
       "    render(\n",
       "      \"circuits-vis-7cffaef2-c9b6\",\n",
       "      ColoredTokens,\n",
       "      {\"tokens\": [\"1\", \".\", \" The\", \" Space\", \" Needle\", \"\\n\", \"2\", \".\", \" Lou\", \"vre\", \" Museum\", \"\\n\", \"3\", \".\", \" Col\", \"os\", \"se\", \"um\", \"\\n\", \"4\", \".\", \" Christ\", \" the\", \" Rede\", \"emer\", \"\\n\", \"5\", \".\", \" State\", \" of\", \" Liberty\", \"\\n\", \"6\", \".\", \" Big\", \" Ben\", \"\\n\", \"7\", \".\", \" E\", \"iff\", \"el\", \" Tower\", \"\\n\", \"Which\", \" of\", \" these\", \" landmarks\", \" is\", \" located\", \" in\", \" England\", \"?\\n\", \"Answer\", \":\"], \"values\": [0.021678686141967773, 0.005518946796655655, 0.000980418175458908, 0.0006273332983255386, 0.0021002963185310364, 0.009810864925384521, 0.009330704808235168, 0.00108380988240242, 0.001580696552991867, 0.0008116848766803741, 0.0012706443667411804, 0.0071580857038497925, 0.0006761588156223297, 0.0028001386672258377, 0.0010293154045939445, 0.000472524669021368, 0.0012096166610717773, 0.003010779619216919, 0.006569854915142059, 0.009779796004295349, 0.0009104404598474503, 0.0003756452351808548, 0.0001942124217748642, 0.00012409838382154703, 0.0012607164680957794, 0.0021606720983982086, 0.002868928015232086, 0.0012251492589712143, 0.0013766763731837273, 0.000619939062744379, 0.0041776299476623535, 0.008372917771339417, 0.013052642345428467, 0.0015016645193099976, 0.001589587889611721, 0.04696591943502426, 0.03168195113539696, 0.004367828369140625, 0.010338284075260162, 0.002168339677155018, 0.0010976605117321014, 0.0008875736966729164, 0.004275213927030563, 0.010778576135635376, 0.01910918951034546, 0.0074612051248550415, 0.01314699649810791, 0.005058672279119492, 0.011604107916355133, 0.005723381415009499, 0.004585728049278259, 0.03721708059310913, 0.04249882698059082, 0.031813450157642365, 0.029922261834144592]}\n",
       "    )\n",
       "    </script>"
      ],
      "text/plain": [
       "<circuitsvis.utils.render.RenderedHTML at 0x7fa4c0150610>"
      ]
     },
     "metadata": {},
     "output_type": "display_data"
    },
    {
     "name": "stdout",
     "output_type": "stream",
     "text": [
      "--------------------------------------------------------------------------------\n",
      "layer=47\n"
     ]
    },
    {
     "data": {
      "text/html": [
       "<div id=\"circuits-vis-77afad28-a321\" style=\"margin: 15px 0;\"/>\n",
       "    <script crossorigin type=\"module\">\n",
       "    import { render, ColoredTokens } from \"https://unpkg.com/circuitsvis@1.43.3/dist/cdn/esm.js\";\n",
       "    render(\n",
       "      \"circuits-vis-77afad28-a321\",\n",
       "      ColoredTokens,\n",
       "      {\"tokens\": [\"1\", \".\", \" The\", \" Space\", \" Needle\", \"\\n\", \"2\", \".\", \" Lou\", \"vre\", \" Museum\", \"\\n\", \"3\", \".\", \" Col\", \"os\", \"se\", \"um\", \"\\n\", \"4\", \".\", \" Christ\", \" the\", \" Rede\", \"emer\", \"\\n\", \"5\", \".\", \" State\", \" of\", \" Liberty\", \"\\n\", \"6\", \".\", \" Big\", \" Ben\", \"\\n\", \"7\", \".\", \" E\", \"iff\", \"el\", \" Tower\", \"\\n\", \"Which\", \" of\", \" these\", \" landmarks\", \" is\", \" located\", \" in\", \" England\", \"?\\n\", \"Answer\", \":\"], \"values\": [0.003023102879524231, 0.0017553027719259262, 0.0005130954086780548, 0.00043992698192596436, 0.0010306015610694885, 0.002038789913058281, 0.0012149633839726448, 0.000619557686150074, 0.0003629326820373535, 0.00033397041261196136, 0.00032460037618875504, 0.0009025335311889648, 0.0003937557339668274, 0.000519544817507267, 0.0002135992981493473, 0.00023456616327166557, 0.00023305322974920273, 0.00030261604115366936, 0.0006229637656360865, 0.0006830837810412049, 0.00031733280047774315, 0.00016141962260007858, 0.00014894013293087482, 0.00012371421325951815, 0.0002477983944118023, 0.0003557363525032997, 0.000437295064330101, 0.0004204642027616501, 0.00035555288195610046, 0.00042706308886408806, 0.0010034739971160889, 0.0009212926961481571, 0.0008961784187704325, 0.0007029767148196697, 0.0024959733709692955, 0.010641173459589481, 0.009601750411093235, 0.0013576559722423553, 0.0011911038309335709, 0.00046030967496335506, 0.00025768810883164406, 0.00038091978058218956, 0.00041774287819862366, 0.0005045332945883274, 0.002657182514667511, 0.0021904893219470978, 0.0009362790733575821, 0.0013484731316566467, 0.0010413192212581635, 0.0006230585277080536, 0.0008086487650871277, 0.002682216465473175, 0.010824665427207947, 0.013012290000915527, 0.0028547775000333786]}\n",
       "    )\n",
       "    </script>"
      ],
      "text/plain": [
       "<circuitsvis.utils.render.RenderedHTML at 0x7fa5688b6c10>"
      ]
     },
     "metadata": {},
     "output_type": "display_data"
    },
    {
     "name": "stdout",
     "output_type": "stream",
     "text": [
      "--------------------------------------------------------------------------------\n",
      "layer=52\n"
     ]
    },
    {
     "data": {
      "text/html": [
       "<div id=\"circuits-vis-003331bf-b1a6\" style=\"margin: 15px 0;\"/>\n",
       "    <script crossorigin type=\"module\">\n",
       "    import { render, ColoredTokens } from \"https://unpkg.com/circuitsvis@1.43.3/dist/cdn/esm.js\";\n",
       "    render(\n",
       "      \"circuits-vis-003331bf-b1a6\",\n",
       "      ColoredTokens,\n",
       "      {\"tokens\": [\"1\", \".\", \" The\", \" Space\", \" Needle\", \"\\n\", \"2\", \".\", \" Lou\", \"vre\", \" Museum\", \"\\n\", \"3\", \".\", \" Col\", \"os\", \"se\", \"um\", \"\\n\", \"4\", \".\", \" Christ\", \" the\", \" Rede\", \"emer\", \"\\n\", \"5\", \".\", \" State\", \" of\", \" Liberty\", \"\\n\", \"6\", \".\", \" Big\", \" Ben\", \"\\n\", \"7\", \".\", \" E\", \"iff\", \"el\", \" Tower\", \"\\n\", \"Which\", \" of\", \" these\", \" landmarks\", \" is\", \" located\", \" in\", \" England\", \"?\\n\", \"Answer\", \":\"], \"values\": [0.005723729729652405, 0.005251364782452583, 0.002393074333667755, 0.0007652249187231064, 0.001603935845196247, 0.005423441529273987, 0.004252433776855469, 0.0015449319034814835, 0.0012458190321922302, 0.000542023335583508, 0.000465653371065855, 0.0021364381536841393, 0.0013086749240756035, 0.0017093811184167862, 0.0004799612797796726, 0.00033272942528128624, 0.00031443615444004536, 0.0004702066071331501, 0.0012751161120831966, 0.0020732413977384567, 0.0009346334263682365, 0.000692577101290226, 0.00035486696287989616, 0.00017762515926733613, 0.0003137157764285803, 0.0008863992989063263, 0.0009822826832532883, 0.001050662249326706, 0.000757729634642601, 0.0007898285984992981, 0.0022760629653930664, 0.0023864489048719406, 0.0025985604152083397, 0.0013454612344503403, 0.009349395520985126, 0.012680471874773502, 0.011303211562335491, 0.0014761090278625488, 0.0014746151864528656, 0.000575029756873846, 0.00029983650892972946, 0.00045988382771611214, 0.0006005456671118736, 0.0013697207905352116, 0.008273787796497345, 0.0035330355167388916, 0.0024974271655082703, 0.00292002409696579, 0.0028043799102306366, 0.0019973628222942352, 0.0018438734114170074, 0.004183053970336914, 0.026737689971923828, 0.02122117578983307, 0.018530160188674927]}\n",
       "    )\n",
       "    </script>"
      ],
      "text/plain": [
       "<circuitsvis.utils.render.RenderedHTML at 0x7fa567f99450>"
      ]
     },
     "metadata": {},
     "output_type": "display_data"
    },
    {
     "name": "stdout",
     "output_type": "stream",
     "text": [
      "--------------------------------------------------------------------------------\n",
      "======================================================================\n",
      "2025-08-01 14:40:25 __main__ INFO     Layer: 33, Head: 45\n"
     ]
    },
    {
     "data": {
      "text/html": [
       "<div id=\"circuits-vis-65a3a8d0-5226\" style=\"margin: 15px 0;\"/>\n",
       "    <script crossorigin type=\"module\">\n",
       "    import { render, ColoredTokens } from \"https://unpkg.com/circuitsvis@1.43.3/dist/cdn/esm.js\";\n",
       "    render(\n",
       "      \"circuits-vis-65a3a8d0-5226\",\n",
       "      ColoredTokens,\n",
       "      {\"tokens\": [\"1\", \".\", \" The\", \" Space\", \" Needle\", \"\\n\", \"2\", \".\", \" Lou\", \"vre\", \" Museum\", \"\\n\", \"3\", \".\", \" Col\", \"os\", \"se\", \"um\", \"\\n\", \"4\", \".\", \" Christ\", \" the\", \" Rede\", \"emer\", \"\\n\", \"5\", \".\", \" State\", \" of\", \" Liberty\", \"\\n\", \"6\", \".\", \" Big\", \" Ben\", \"\\n\", \"7\", \".\", \" E\", \"iff\", \"el\", \" Tower\", \"\\n\", \"Which\", \" of\", \" these\", \" landmarks\", \" is\", \" located\", \" in\", \" England\", \"?\\n\", \"Answer\", \":\"], \"values\": [0.029052734375, 0.003387451171875, 0.0017547607421875, 0.004547119140625, 0.011962890625, 0.008544921875, 0.00921630859375, 0.00506591796875, 0.005401611328125, 0.00170135498046875, 0.0015716552734375, 0.0035400390625, 0.000843048095703125, 0.00396728515625, 0.0025482177734375, 0.0089111328125, 0.0010833740234375, 0.005828857421875, 0.007171630859375, 0.007171630859375, 0.003387451171875, 0.00101470947265625, 0.0017547607421875, 0.00136566162109375, 0.00101470947265625, 0.002044677734375, 0.00299072265625, 0.00396728515625, 0.00762939453125, 0.00604248046875, 0.0111083984375, 0.0281982421875, 0.00775146484375, 0.0030364990234375, 0.0130615234375, 0.036865234375, 0.020751953125, 0.00183868408203125, 0.01239013671875, 0.0028533935546875, 0.00152587890625, 0.005950927734375, 0.0037689208984375, 0.01177978515625, 0.025634765625, 0.003387451171875, 0.0152587890625, 0.0037078857421875, 0.004547119140625, 0.00141143798828125, 0.0023193359375, 0.0311279296875, 0.032958984375, 0.007171630859375, 0.0390625]}\n",
       "    )\n",
       "    </script>"
      ],
      "text/plain": [
       "<circuitsvis.utils.render.RenderedHTML at 0x7fa4a0116890>"
      ]
     },
     "metadata": {},
     "output_type": "display_data"
    },
    {
     "name": "stdout",
     "output_type": "stream",
     "text": [
      "2025-08-01 14:40:25 __main__ INFO     Layer: 33, Head: 18\n"
     ]
    },
    {
     "data": {
      "text/html": [
       "<div id=\"circuits-vis-c06560db-a000\" style=\"margin: 15px 0;\"/>\n",
       "    <script crossorigin type=\"module\">\n",
       "    import { render, ColoredTokens } from \"https://unpkg.com/circuitsvis@1.43.3/dist/cdn/esm.js\";\n",
       "    render(\n",
       "      \"circuits-vis-c06560db-a000\",\n",
       "      ColoredTokens,\n",
       "      {\"tokens\": [\"1\", \".\", \" The\", \" Space\", \" Needle\", \"\\n\", \"2\", \".\", \" Lou\", \"vre\", \" Museum\", \"\\n\", \"3\", \".\", \" Col\", \"os\", \"se\", \"um\", \"\\n\", \"4\", \".\", \" Christ\", \" the\", \" Rede\", \"emer\", \"\\n\", \"5\", \".\", \" State\", \" of\", \" Liberty\", \"\\n\", \"6\", \".\", \" Big\", \" Ben\", \"\\n\", \"7\", \".\", \" E\", \"iff\", \"el\", \" Tower\", \"\\n\", \"Which\", \" of\", \" these\", \" landmarks\", \" is\", \" located\", \" in\", \" England\", \"?\\n\", \"Answer\", \":\"], \"values\": [0.005035400390625, 0.0017852783203125, 0.000667572021484375, 0.000255584716796875, 0.002777099609375, 0.0458984375, 0.005462646484375, 0.003875732421875, 0.0025177001953125, 0.000377655029296875, 0.00089263916015625, 0.0211181640625, 8.58306884765625e-05, 0.00482177734375, 0.0013275146484375, 0.00112152099609375, 0.000881195068359375, 0.004547119140625, 0.037353515625, 0.002777099609375, 0.00057220458984375, 0.00052642822265625, 0.00069427490234375, 2.9206275939941406e-05, 0.000652313232421875, 0.002471923828125, 0.000568389892578125, 0.00080108642578125, 0.001190185546875, 0.0005035400390625, 0.003662109375, 0.020751953125, 0.01019287109375, 0.000396728515625, 0.0084228515625, 0.1787109375, 0.515625, 8.96453857421875e-05, 0.033447265625, 0.0022735595703125, 0.0003833770751953125, 0.0012664794921875, 0.014892578125, 0.0142822265625, 0.0020904541015625, 9.393692016601562e-05, 0.000247955322265625, 0.00012493133544921875, 0.00013065338134765625, 1.2159347534179688e-05, 5.888938903808594e-05, 0.0004863739013671875, 0.00060272216796875, 0.00012683868408203125, 0.001068115234375]}\n",
       "    )\n",
       "    </script>"
      ],
      "text/plain": [
       "<circuitsvis.utils.render.RenderedHTML at 0x7fa4c0158250>"
      ]
     },
     "metadata": {},
     "output_type": "display_data"
    },
    {
     "name": "stdout",
     "output_type": "stream",
     "text": [
      "2025-08-01 14:40:25 __main__ INFO     Layer: 34, Head: 1\n"
     ]
    },
    {
     "data": {
      "text/html": [
       "<div id=\"circuits-vis-222ec951-eedb\" style=\"margin: 15px 0;\"/>\n",
       "    <script crossorigin type=\"module\">\n",
       "    import { render, ColoredTokens } from \"https://unpkg.com/circuitsvis@1.43.3/dist/cdn/esm.js\";\n",
       "    render(\n",
       "      \"circuits-vis-222ec951-eedb\",\n",
       "      ColoredTokens,\n",
       "      {\"tokens\": [\"1\", \".\", \" The\", \" Space\", \" Needle\", \"\\n\", \"2\", \".\", \" Lou\", \"vre\", \" Museum\", \"\\n\", \"3\", \".\", \" Col\", \"os\", \"se\", \"um\", \"\\n\", \"4\", \".\", \" Christ\", \" the\", \" Rede\", \"emer\", \"\\n\", \"5\", \".\", \" State\", \" of\", \" Liberty\", \"\\n\", \"6\", \".\", \" Big\", \" Ben\", \"\\n\", \"7\", \".\", \" E\", \"iff\", \"el\", \" Tower\", \"\\n\", \"Which\", \" of\", \" these\", \" landmarks\", \" is\", \" located\", \" in\", \" England\", \"?\\n\", \"Answer\", \":\"], \"values\": [0.018798828125, 0.001007080078125, 0.0001983642578125, 0.000217437744140625, 0.00055694580078125, 0.00168609619140625, 0.00139617919921875, 9.965896606445312e-05, 0.00238037109375, 1.1205673217773438e-05, 2.5987625122070312e-05, 0.0002536773681640625, 2.4437904357910156e-05, 0.0015106201171875, 0.000820159912109375, 0.00139617919921875, 5.0067901611328125e-05, 0.00086212158203125, 0.000659942626953125, 0.0008087158203125, 0.00034332275390625, 6.794929504394531e-06, 9.000301361083984e-06, 8.642673492431641e-07, 1.049041748046875e-05, 1.6808509826660156e-05, 0.00018596649169921875, 0.0001926422119140625, 0.001373291015625, 0.00029754638671875, 0.0004673004150390625, 0.0013580322265625, 0.005279541015625, 0.0001316070556640625, 0.002410888671875, 0.369140625, 0.2353515625, 0.0002880096435546875, 0.0142822265625, 0.00119781494140625, 3.24249267578125e-05, 7.05718994140625e-05, 0.00010633468627929688, 0.0009918212890625, 0.0037994384765625, 0.000888824462890625, 0.002197265625, 0.000446319580078125, 0.0009918212890625, 9.965896606445312e-05, 0.000270843505859375, 0.0118408203125, 0.01275634765625, 0.001007080078125, 0.0283203125]}\n",
       "    )\n",
       "    </script>"
      ],
      "text/plain": [
       "<circuitsvis.utils.render.RenderedHTML at 0x7fa56796e5d0>"
      ]
     },
     "metadata": {},
     "output_type": "display_data"
    },
    {
     "name": "stdout",
     "output_type": "stream",
     "text": [
      "2025-08-01 14:40:25 __main__ INFO     Layer: 34, Head: 6\n"
     ]
    },
    {
     "data": {
      "text/html": [
       "<div id=\"circuits-vis-e0901780-efe1\" style=\"margin: 15px 0;\"/>\n",
       "    <script crossorigin type=\"module\">\n",
       "    import { render, ColoredTokens } from \"https://unpkg.com/circuitsvis@1.43.3/dist/cdn/esm.js\";\n",
       "    render(\n",
       "      \"circuits-vis-e0901780-efe1\",\n",
       "      ColoredTokens,\n",
       "      {\"tokens\": [\"1\", \".\", \" The\", \" Space\", \" Needle\", \"\\n\", \"2\", \".\", \" Lou\", \"vre\", \" Museum\", \"\\n\", \"3\", \".\", \" Col\", \"os\", \"se\", \"um\", \"\\n\", \"4\", \".\", \" Christ\", \" the\", \" Rede\", \"emer\", \"\\n\", \"5\", \".\", \" State\", \" of\", \" Liberty\", \"\\n\", \"6\", \".\", \" Big\", \" Ben\", \"\\n\", \"7\", \".\", \" E\", \"iff\", \"el\", \" Tower\", \"\\n\", \"Which\", \" of\", \" these\", \" landmarks\", \" is\", \" located\", \" in\", \" England\", \"?\\n\", \"Answer\", \":\"], \"values\": [0.034912109375, 0.002838134765625, 0.000614166259765625, 0.000789642333984375, 0.00142669677734375, 0.00537109375, 0.00439453125, 0.0004634857177734375, 0.0050048828125, 6.4849853515625e-05, 0.00011348724365234375, 0.00102996826171875, 3.695487976074219e-05, 0.00262451171875, 0.00098419189453125, 0.0031585693359375, 0.0002727508544921875, 0.0022125244140625, 0.001861572265625, 0.004608154296875, 0.0004634857177734375, 3.695487976074219e-05, 4.57763671875e-05, 8.225440979003906e-06, 3.790855407714844e-05, 7.343292236328125e-05, 0.000934600830078125, 0.00063323974609375, 0.003875732421875, 0.0007171630859375, 0.00109100341796875, 0.0035858154296875, 0.0162353515625, 0.00019931793212890625, 0.00860595703125, 0.28515625, 0.12353515625, 0.0012969970703125, 0.01361083984375, 0.001983642578125, 0.00016021728515625, 0.0002803802490234375, 0.000263214111328125, 0.00156402587890625, 0.00836181640625, 0.0016937255859375, 0.0035858154296875, 0.0004482269287109375, 0.0012969970703125, 0.0001811981201171875, 0.000675201416015625, 0.0098876953125, 0.0137939453125, 0.0013580322265625, 0.032470703125]}\n",
       "    )\n",
       "    </script>"
      ],
      "text/plain": [
       "<circuitsvis.utils.render.RenderedHTML at 0x7fa5400fb890>"
      ]
     },
     "metadata": {},
     "output_type": "display_data"
    },
    {
     "name": "stdout",
     "output_type": "stream",
     "text": [
      "2025-08-01 14:40:25 __main__ INFO     Layer: 34, Head: 7\n"
     ]
    },
    {
     "data": {
      "text/html": [
       "<div id=\"circuits-vis-defb80ef-76e2\" style=\"margin: 15px 0;\"/>\n",
       "    <script crossorigin type=\"module\">\n",
       "    import { render, ColoredTokens } from \"https://unpkg.com/circuitsvis@1.43.3/dist/cdn/esm.js\";\n",
       "    render(\n",
       "      \"circuits-vis-defb80ef-76e2\",\n",
       "      ColoredTokens,\n",
       "      {\"tokens\": [\"1\", \".\", \" The\", \" Space\", \" Needle\", \"\\n\", \"2\", \".\", \" Lou\", \"vre\", \" Museum\", \"\\n\", \"3\", \".\", \" Col\", \"os\", \"se\", \"um\", \"\\n\", \"4\", \".\", \" Christ\", \" the\", \" Rede\", \"emer\", \"\\n\", \"5\", \".\", \" State\", \" of\", \" Liberty\", \"\\n\", \"6\", \".\", \" Big\", \" Ben\", \"\\n\", \"7\", \".\", \" E\", \"iff\", \"el\", \" Tower\", \"\\n\", \"Which\", \" of\", \" these\", \" landmarks\", \" is\", \" located\", \" in\", \" England\", \"?\\n\", \"Answer\", \":\"], \"values\": [0.045654296875, 0.00063323974609375, 0.00023651123046875, 0.00018405914306640625, 0.00067138671875, 0.00142669677734375, 0.000751495361328125, 0.00012683868408203125, 0.0009918212890625, 6.151199340820312e-05, 9.5367431640625e-05, 0.000469207763671875, 3.504753112792969e-05, 0.0004405975341796875, 0.00034332275390625, 0.000850677490234375, 0.000293731689453125, 0.00142669677734375, 0.0013580322265625, 0.00147247314453125, 0.00017261505126953125, 0.0001392364501953125, 0.00015735626220703125, 2.6464462280273438e-05, 0.00019550323486328125, 0.0002841949462890625, 0.0009765625, 0.0003662109375, 0.001617431640625, 0.0004138946533203125, 0.0015411376953125, 0.00604248046875, 0.007415771484375, 0.0002765655517578125, 0.003692626953125, 0.1806640625, 0.1376953125, 0.00171661376953125, 0.00885009765625, 0.0012969970703125, 0.000934600830078125, 0.00127410888671875, 0.002838134765625, 0.00848388671875, 0.0206298828125, 0.004852294921875, 0.016357421875, 0.0020751953125, 0.006378173828125, 0.00087738037109375, 0.0022735595703125, 0.0869140625, 0.07861328125, 0.01220703125, 0.1015625]}\n",
       "    )\n",
       "    </script>"
      ],
      "text/plain": [
       "<circuitsvis.utils.render.RenderedHTML at 0x7fa56796e5d0>"
      ]
     },
     "metadata": {},
     "output_type": "display_data"
    },
    {
     "name": "stdout",
     "output_type": "stream",
     "text": [
      "2025-08-01 14:40:25 __main__ INFO     Layer: 35, Head: 19\n"
     ]
    },
    {
     "data": {
      "text/html": [
       "<div id=\"circuits-vis-2fbb5073-db5d\" style=\"margin: 15px 0;\"/>\n",
       "    <script crossorigin type=\"module\">\n",
       "    import { render, ColoredTokens } from \"https://unpkg.com/circuitsvis@1.43.3/dist/cdn/esm.js\";\n",
       "    render(\n",
       "      \"circuits-vis-2fbb5073-db5d\",\n",
       "      ColoredTokens,\n",
       "      {\"tokens\": [\"1\", \".\", \" The\", \" Space\", \" Needle\", \"\\n\", \"2\", \".\", \" Lou\", \"vre\", \" Museum\", \"\\n\", \"3\", \".\", \" Col\", \"os\", \"se\", \"um\", \"\\n\", \"4\", \".\", \" Christ\", \" the\", \" Rede\", \"emer\", \"\\n\", \"5\", \".\", \" State\", \" of\", \" Liberty\", \"\\n\", \"6\", \".\", \" Big\", \" Ben\", \"\\n\", \"7\", \".\", \" E\", \"iff\", \"el\", \" Tower\", \"\\n\", \"Which\", \" of\", \" these\", \" landmarks\", \" is\", \" located\", \" in\", \" England\", \"?\\n\", \"Answer\", \":\"], \"values\": [0.0018157958984375, 4.029273986816406e-05, 3.838539123535156e-05, 0.00011110305786132812, 0.00201416015625, 0.0024261474609375, 0.0003204345703125, 0.0009002685546875, 0.000873565673828125, 0.000301361083984375, 0.00104522705078125, 0.00665283203125, 0.000171661376953125, 0.0037689208984375, 0.00189208984375, 0.0017547607421875, 0.000705718994140625, 0.013427734375, 0.01031494140625, 0.0001544952392578125, 0.00098419189453125, 0.0002765655517578125, 0.0001125335693359375, 6.437301635742188e-05, 0.0011749267578125, 0.00110626220703125, 2.4318695068359375e-05, 0.00064849853515625, 0.00159454345703125, 0.0002498626708984375, 0.01104736328125, 0.005615234375, 0.0002193450927734375, 0.0005645751953125, 0.00115966796875, 0.6484375, 0.2236328125, 0.0002422332763671875, 0.0150146484375, 0.0021209716796875, 0.00019741058349609375, 0.000782012939453125, 0.00189208984375, 0.0023651123046875, 0.00096893310546875, 2.288818359375e-05, 0.0003414154052734375, 0.0004425048828125, 7.295608520507812e-05, 0.00015926361083984375, 0.0003910064697265625, 0.00592041015625, 0.0030517578125, 7.295608520507812e-05, 0.001220703125]}\n",
       "    )\n",
       "    </script>"
      ],
      "text/plain": [
       "<circuitsvis.utils.render.RenderedHTML at 0x7fa5679a09d0>"
      ]
     },
     "metadata": {},
     "output_type": "display_data"
    },
    {
     "name": "stdout",
     "output_type": "stream",
     "text": [
      "2025-08-01 14:40:26 __main__ INFO     Layer: 39, Head: 40\n"
     ]
    },
    {
     "data": {
      "text/html": [
       "<div id=\"circuits-vis-185413f6-1b6d\" style=\"margin: 15px 0;\"/>\n",
       "    <script crossorigin type=\"module\">\n",
       "    import { render, ColoredTokens } from \"https://unpkg.com/circuitsvis@1.43.3/dist/cdn/esm.js\";\n",
       "    render(\n",
       "      \"circuits-vis-185413f6-1b6d\",\n",
       "      ColoredTokens,\n",
       "      {\"tokens\": [\"1\", \".\", \" The\", \" Space\", \" Needle\", \"\\n\", \"2\", \".\", \" Lou\", \"vre\", \" Museum\", \"\\n\", \"3\", \".\", \" Col\", \"os\", \"se\", \"um\", \"\\n\", \"4\", \".\", \" Christ\", \" the\", \" Rede\", \"emer\", \"\\n\", \"5\", \".\", \" State\", \" of\", \" Liberty\", \"\\n\", \"6\", \".\", \" Big\", \" Ben\", \"\\n\", \"7\", \".\", \" E\", \"iff\", \"el\", \" Tower\", \"\\n\", \"Which\", \" of\", \" these\", \" landmarks\", \" is\", \" located\", \" in\", \" England\", \"?\\n\", \"Answer\", \":\"], \"values\": [0.000919342041015625, 0.001953125, 3.266334533691406e-05, 7.420778274536133e-06, 0.0001316070556640625, 0.00543212890625, 0.0031585693359375, 0.0002346038818359375, 0.0001277923583984375, 5.9604644775390625e-06, 3.4332275390625e-05, 0.0028533935546875, 8.916854858398438e-05, 0.0037689208984375, 0.0004119873046875, 0.0001888275146484375, 6.765127182006836e-06, 0.0014190673828125, 0.0267333984375, 0.00299072265625, 0.00067901611328125, 1.621246337890625e-05, 5.424022674560547e-06, 1.862645149230957e-07, 2.4318695068359375e-05, 0.000881195068359375, 0.0010528564453125, 0.0015411376953125, 0.00020885467529296875, 0.0004749298095703125, 0.001220703125, 0.0118408203125, 0.0031585693359375, 0.000820159912109375, 0.00145721435546875, 0.185546875, 0.51953125, 0.00016117095947265625, 0.038818359375, 0.00109100341796875, 1.1146068572998047e-05, 3.7670135498046875e-05, 0.0004119873046875, 0.0023040771484375, 0.001434326171875, 0.0006866455078125, 0.0001773834228515625, 2.4318695068359375e-05, 0.00124359130859375, 6.198883056640625e-05, 0.0003204345703125, 0.0025482177734375, 0.11962890625, 0.0026092529296875, 0.041259765625]}\n",
       "    )\n",
       "    </script>"
      ],
      "text/plain": [
       "<circuitsvis.utils.render.RenderedHTML at 0x7fa4c033f550>"
      ]
     },
     "metadata": {},
     "output_type": "display_data"
    },
    {
     "name": "stdout",
     "output_type": "stream",
     "text": [
      "2025-08-01 14:40:26 __main__ INFO     Layer: 42, Head: 30\n"
     ]
    },
    {
     "data": {
      "text/html": [
       "<div id=\"circuits-vis-e87cc67f-0644\" style=\"margin: 15px 0;\"/>\n",
       "    <script crossorigin type=\"module\">\n",
       "    import { render, ColoredTokens } from \"https://unpkg.com/circuitsvis@1.43.3/dist/cdn/esm.js\";\n",
       "    render(\n",
       "      \"circuits-vis-e87cc67f-0644\",\n",
       "      ColoredTokens,\n",
       "      {\"tokens\": [\"1\", \".\", \" The\", \" Space\", \" Needle\", \"\\n\", \"2\", \".\", \" Lou\", \"vre\", \" Museum\", \"\\n\", \"3\", \".\", \" Col\", \"os\", \"se\", \"um\", \"\\n\", \"4\", \".\", \" Christ\", \" the\", \" Rede\", \"emer\", \"\\n\", \"5\", \".\", \" State\", \" of\", \" Liberty\", \"\\n\", \"6\", \".\", \" Big\", \" Ben\", \"\\n\", \"7\", \".\", \" E\", \"iff\", \"el\", \" Tower\", \"\\n\", \"Which\", \" of\", \" these\", \" landmarks\", \" is\", \" located\", \" in\", \" England\", \"?\\n\", \"Answer\", \":\"], \"values\": [0.007293701171875, 0.0028076171875, 0.000431060791015625, 0.0005035400390625, 0.001556396484375, 0.007537841796875, 0.007537841796875, 0.0026092529296875, 0.001068115234375, 0.000270843505859375, 0.000591278076171875, 0.00408935546875, 0.0033416748046875, 0.007659912109375, 0.001373291015625, 0.000667572021484375, 5.0067901611328125e-05, 0.0021514892578125, 0.00653076171875, 0.0084228515625, 0.00457763671875, 0.0003814697265625, 0.000347137451171875, 4.839897155761719e-05, 0.000518798828125, 0.00225830078125, 0.004852294921875, 0.00408935546875, 0.0016021728515625, 0.0021514892578125, 0.004638671875, 0.00982666015625, 0.0106201171875, 0.00653076171875, 0.00787353515625, 0.162109375, 0.06640625, 0.0028076171875, 0.02587890625, 0.003509521484375, 0.0004749298095703125, 0.00145721435546875, 0.00408935546875, 0.00653076171875, 0.0169677734375, 0.004302978515625, 0.007415771484375, 0.004302978515625, 0.004852294921875, 0.0020904541015625, 0.0025177001953125, 0.00982666015625, 0.039794921875, 0.006439208984375, 0.0211181640625]}\n",
       "    )\n",
       "    </script>"
      ],
      "text/plain": [
       "<circuitsvis.utils.render.RenderedHTML at 0x7fa4a01138d0>"
      ]
     },
     "metadata": {},
     "output_type": "display_data"
    },
    {
     "name": "stdout",
     "output_type": "stream",
     "text": [
      "2025-08-01 14:40:26 __main__ INFO     Layer: 47, Head: 18\n"
     ]
    },
    {
     "data": {
      "text/html": [
       "<div id=\"circuits-vis-8d02e3d9-c2c2\" style=\"margin: 15px 0;\"/>\n",
       "    <script crossorigin type=\"module\">\n",
       "    import { render, ColoredTokens } from \"https://unpkg.com/circuitsvis@1.43.3/dist/cdn/esm.js\";\n",
       "    render(\n",
       "      \"circuits-vis-8d02e3d9-c2c2\",\n",
       "      ColoredTokens,\n",
       "      {\"tokens\": [\"1\", \".\", \" The\", \" Space\", \" Needle\", \"\\n\", \"2\", \".\", \" Lou\", \"vre\", \" Museum\", \"\\n\", \"3\", \".\", \" Col\", \"os\", \"se\", \"um\", \"\\n\", \"4\", \".\", \" Christ\", \" the\", \" Rede\", \"emer\", \"\\n\", \"5\", \".\", \" State\", \" of\", \" Liberty\", \"\\n\", \"6\", \".\", \" Big\", \" Ben\", \"\\n\", \"7\", \".\", \" E\", \"iff\", \"el\", \" Tower\", \"\\n\", \"Which\", \" of\", \" these\", \" landmarks\", \" is\", \" located\", \" in\", \" England\", \"?\\n\", \"Answer\", \":\"], \"values\": [0.013671875, 0.016845703125, 0.0027313232421875, 0.00013446807861328125, 0.000324249267578125, 0.0120849609375, 0.0146484375, 0.0040283203125, 0.0028228759765625, 3.0159950256347656e-05, 0.0001049041748046875, 0.006927490234375, 0.0040283203125, 0.006988525390625, 0.000396728515625, 9.870529174804688e-05, 2.276897430419922e-05, 0.00023651123046875, 0.0052490234375, 0.00445556640625, 0.0032958984375, 7.200241088867188e-05, 3.528594970703125e-05, 1.2442469596862793e-06, 0.0001049041748046875, 0.002838134765625, 0.0037078857421875, 0.0032958984375, 0.0007171630859375, 0.0006866455078125, 0.0008392333984375, 0.00634765625, 0.0145263671875, 0.0086669921875, 0.06787109375, 0.248046875, 0.349609375, 0.00201416015625, 0.03173828125, 0.00136566162109375, 5.930662155151367e-06, 2.205371856689453e-05, 0.000324249267578125, 0.0011138916015625, 0.01275634765625, 0.0028839111328125, 0.0032196044921875, 0.000949859619140625, 0.00390625, 0.00010824203491210938, 0.002044677734375, 0.000728607177734375, 0.039794921875, 0.0057373046875, 0.01287841796875]}\n",
       "    )\n",
       "    </script>"
      ],
      "text/plain": [
       "<circuitsvis.utils.render.RenderedHTML at 0x7fa567ff65d0>"
      ]
     },
     "metadata": {},
     "output_type": "display_data"
    },
    {
     "name": "stdout",
     "output_type": "stream",
     "text": [
      "2025-08-01 14:40:26 __main__ INFO     Layer: 52, Head: 58\n"
     ]
    },
    {
     "data": {
      "text/html": [
       "<div id=\"circuits-vis-683bd414-fc5f\" style=\"margin: 15px 0;\"/>\n",
       "    <script crossorigin type=\"module\">\n",
       "    import { render, ColoredTokens } from \"https://unpkg.com/circuitsvis@1.43.3/dist/cdn/esm.js\";\n",
       "    render(\n",
       "      \"circuits-vis-683bd414-fc5f\",\n",
       "      ColoredTokens,\n",
       "      {\"tokens\": [\"1\", \".\", \" The\", \" Space\", \" Needle\", \"\\n\", \"2\", \".\", \" Lou\", \"vre\", \" Museum\", \"\\n\", \"3\", \".\", \" Col\", \"os\", \"se\", \"um\", \"\\n\", \"4\", \".\", \" Christ\", \" the\", \" Rede\", \"emer\", \"\\n\", \"5\", \".\", \" State\", \" of\", \" Liberty\", \"\\n\", \"6\", \".\", \" Big\", \" Ben\", \"\\n\", \"7\", \".\", \" E\", \"iff\", \"el\", \" Tower\", \"\\n\", \"Which\", \" of\", \" these\", \" landmarks\", \" is\", \" located\", \" in\", \" England\", \"?\\n\", \"Answer\", \":\"], \"values\": [0.028564453125, 0.02197265625, 0.00225830078125, 0.0027618408203125, 0.007293701171875, 0.00982666015625, 0.0023651123046875, 0.00162506103515625, 0.00101470947265625, 0.000278472900390625, 0.000518798828125, 0.00323486328125, 0.0021209716796875, 0.00372314453125, 0.0002384185791015625, 0.0012054443359375, 3.647804260253906e-05, 0.000690460205078125, 0.004364013671875, 0.0008697509765625, 0.002288818359375, 9.632110595703125e-05, 0.000179290771484375, 7.18235969543457e-06, 0.00014400482177734375, 0.00083160400390625, 0.0004730224609375, 0.003448486328125, 0.0003147125244140625, 0.00075531005859375, 0.002685546875, 0.0009002685546875, 0.0029449462890625, 0.003387451171875, 0.04248046875, 0.49609375, 0.053466796875, 0.00064849853515625, 0.00775146484375, 0.0003261566162109375, 4.982948303222656e-05, 0.00012302398681640625, 0.00130462646484375, 0.000667572021484375, 0.00390625, 0.00469970703125, 0.0024871826171875, 0.002685546875, 0.004486083984375, 0.000667572021484375, 0.0021820068359375, 0.00130462646484375, 0.01519775390625, 0.0020599365234375, 0.009033203125]}\n",
       "    )\n",
       "    </script>"
      ],
      "text/plain": [
       "<circuitsvis.utils.render.RenderedHTML at 0x7fa4c04d8c50>"
      ]
     },
     "metadata": {},
     "output_type": "display_data"
    },
    {
     "data": {
      "text/plain": [
       "[PredictedToken(token=' Big', prob=0.66796875, logit=21.5, token_id=6295, metadata=None),\n",
       " PredictedToken(token=' ', prob=0.216796875, logit=20.375, token_id=220, metadata=None),\n",
       " PredictedToken(token=' #', prob=0.0228271484375, logit=18.125, token_id=674, metadata=None),\n",
       " PredictedToken(token=' Number', prob=0.017822265625, logit=17.875, token_id=5742, metadata=None),\n",
       " PredictedToken(token=' The', prob=0.0084228515625, logit=17.125, token_id=578, metadata=None)]"
      ]
     },
     "execution_count": 27,
     "metadata": {},
     "output_type": "execute_result"
    }
   ],
   "source": [
    "verify_ind = verify_head_patterns(\n",
    "    prompt=prompt,\n",
    "    options=options,\n",
    "    pivot=country,\n",
    "    mt=mt,\n",
    "    value_weighted=False,\n",
    "    generate_full_answer=False,\n",
    "    ablate_possible_ans_info_from_options=True,\n",
    ")\n",
    "\n",
    "verify_ind[\"predictions\"]"
   ]
  },
  {
   "cell_type": "code",
   "execution_count": 32,
   "id": "cf6b285c",
   "metadata": {},
   "outputs": [
    {
     "name": "stdout",
     "output_type": "stream",
     "text": [
      "options: Marie Curie, Albert Einstein, Grover Cleveland, Charles Darwin, Nikola Tesla, Issac Newton\n",
      "Which of these people is not a scientist?\n",
      "Answer:\n",
      "2025-08-01 14:44:11 __main__ DEBUG    Generated full answer: \" Grover Cleveland\n",
      "Grover Cleveland was the 22nd and 24th President of the United States, making him the only person to serve two\"\n",
      "2025-08-01 14:44:11 __main__ DEBUG    Predictions: ['\" Gro\"[18370] (p=0.977, logit=21.875)', '\" #\"[674] (p=0.004, logit=16.375)', '\" The\"[578] (p=0.003, logit=16.000)', '\"Gro\"[77435] (p=0.002, logit=15.562)', '\" President\"[4900] (p=0.002, logit=15.438)']\n",
      "layer=35\n"
     ]
    },
    {
     "data": {
      "text/html": [
       "<div id=\"circuits-vis-aae77967-62b5\" style=\"margin: 15px 0;\"/>\n",
       "    <script crossorigin type=\"module\">\n",
       "    import { render, ColoredTokens } from \"https://unpkg.com/circuitsvis@1.43.3/dist/cdn/esm.js\";\n",
       "    render(\n",
       "      \"circuits-vis-aae77967-62b5\",\n",
       "      ColoredTokens,\n",
       "      {\"tokens\": [\"options\", \":\", \" Marie\", \" Cur\", \"ie\", \",\", \" Albert\", \" Einstein\", \",\", \" Gro\", \"ver\", \" Cleveland\", \",\", \" Charles\", \" Darwin\", \",\", \" Nikola\", \" Tesla\", \",\", \" Iss\", \"ac\", \" Newton\", \"\\n\", \"Which\", \" of\", \" these\", \" people\", \" is\", \" not\", \" a\", \" scientist\", \"?\\n\", \"Answer\", \":\"], \"values\": [0.021535754203796387, 0.0018853694200515747, 0.006523877382278442, 0.003903329372406006, 0.002613380551338196, 0.019320905208587646, 0.009273640811443329, 0.0110272616147995, 0.01350906491279602, 0.0022907741367816925, 0.002848580479621887, 0.05795420706272125, 0.04616454243659973, 0.006302632391452789, 0.009212777018547058, 0.0129995197057724, 0.0031449757516384125, 0.0057468414306640625, 0.007172644138336182, 0.002938278019428253, 0.005329139530658722, 0.00666201114654541, 0.022057533264160156, 0.007746756076812744, 0.0033557265996932983, 0.012194111943244934, 0.00971895456314087, 0.003977440297603607, 0.006824970245361328, 0.003121800720691681, 0.016009334474802017, 0.019512176513671875, 0.01805013045668602, 0.028237223625183105]}\n",
       "    )\n",
       "    </script>"
      ],
      "text/plain": [
       "<circuitsvis.utils.render.RenderedHTML at 0x7fa4c04606d0>"
      ]
     },
     "metadata": {},
     "output_type": "display_data"
    },
    {
     "name": "stdout",
     "output_type": "stream",
     "text": [
      "--------------------------------------------------------------------------------\n",
      "layer=47\n"
     ]
    },
    {
     "data": {
      "text/html": [
       "<div id=\"circuits-vis-5c38f966-ad09\" style=\"margin: 15px 0;\"/>\n",
       "    <script crossorigin type=\"module\">\n",
       "    import { render, ColoredTokens } from \"https://unpkg.com/circuitsvis@1.43.3/dist/cdn/esm.js\";\n",
       "    render(\n",
       "      \"circuits-vis-5c38f966-ad09\",\n",
       "      ColoredTokens,\n",
       "      {\"tokens\": [\"options\", \":\", \" Marie\", \" Cur\", \"ie\", \",\", \" Albert\", \" Einstein\", \",\", \" Gro\", \"ver\", \" Cleveland\", \",\", \" Charles\", \" Darwin\", \",\", \" Nikola\", \" Tesla\", \",\", \" Iss\", \"ac\", \" Newton\", \"\\n\", \"Which\", \" of\", \" these\", \" people\", \" is\", \" not\", \" a\", \" scientist\", \"?\\n\", \"Answer\", \":\"], \"values\": [0.002491876482963562, 0.0008117388933897018, 0.0014723986387252808, 0.0007613115012645721, 0.0009696334600448608, 0.0013058437034487724, 0.0005994969978928566, 0.0006575481966137886, 0.0006422791630029678, 0.004042070358991623, 0.014000039547681808, 0.004719045013189316, 0.005140746012330055, 0.0008725747466087341, 0.0007114820182323456, 0.0006253411993384361, 0.0003184792585670948, 0.0006107259541749954, 0.0004516206681728363, 0.0004937164485454559, 0.0006484119221568108, 0.00047940202057361603, 0.002495884895324707, 0.0012145638465881348, 0.0009939894080162048, 0.0006499700248241425, 0.000975482165813446, 0.0005606114864349365, 0.0006125848740339279, 0.0004865676164627075, 0.0017249584197998047, 0.005042910575866699, 0.007286258041858673, 0.0030108094215393066]}\n",
       "    )\n",
       "    </script>"
      ],
      "text/plain": [
       "<circuitsvis.utils.render.RenderedHTML at 0x7fa4c046e750>"
      ]
     },
     "metadata": {},
     "output_type": "display_data"
    },
    {
     "name": "stdout",
     "output_type": "stream",
     "text": [
      "--------------------------------------------------------------------------------\n",
      "layer=52\n"
     ]
    },
    {
     "data": {
      "text/html": [
       "<div id=\"circuits-vis-1670a2c2-3adf\" style=\"margin: 15px 0;\"/>\n",
       "    <script crossorigin type=\"module\">\n",
       "    import { render, ColoredTokens } from \"https://unpkg.com/circuitsvis@1.43.3/dist/cdn/esm.js\";\n",
       "    render(\n",
       "      \"circuits-vis-1670a2c2-3adf\",\n",
       "      ColoredTokens,\n",
       "      {\"tokens\": [\"options\", \":\", \" Marie\", \" Cur\", \"ie\", \",\", \" Albert\", \" Einstein\", \",\", \" Gro\", \"ver\", \" Cleveland\", \",\", \" Charles\", \" Darwin\", \",\", \" Nikola\", \" Tesla\", \",\", \" Iss\", \"ac\", \" Newton\", \"\\n\", \"Which\", \" of\", \" these\", \" people\", \" is\", \" not\", \" a\", \" scientist\", \"?\\n\", \"Answer\", \":\"], \"values\": [0.005073666572570801, 0.0033124983310699463, 0.004924654960632324, 0.0011396915651857853, 0.00141976960003376, 0.003613736480474472, 0.0019787251949310303, 0.0010606050491333008, 0.0014352835714817047, 0.029315903782844543, 0.01743876188993454, 0.0053105466067790985, 0.00442325696349144, 0.0019549336284399033, 0.0009960904717445374, 0.0013166209682822227, 0.0011090729385614395, 0.0008248314261436462, 0.0009884973987936974, 0.001159722451120615, 0.0014007575809955597, 0.0008474153000861406, 0.007489651441574097, 0.003336764872074127, 0.0016822759062051773, 0.0015048421919345856, 0.001653224229812622, 0.0011448971927165985, 0.002168264240026474, 0.0012173652648925781, 0.002696409821510315, 0.014503777027130127, 0.01348138228058815, 0.017029762268066406]}\n",
       "    )\n",
       "    </script>"
      ],
      "text/plain": [
       "<circuitsvis.utils.render.RenderedHTML at 0x7fa4a01d33d0>"
      ]
     },
     "metadata": {},
     "output_type": "display_data"
    },
    {
     "name": "stdout",
     "output_type": "stream",
     "text": [
      "--------------------------------------------------------------------------------\n",
      "======================================================================\n",
      "2025-08-01 14:44:11 __main__ INFO     Layer: 33, Head: 45\n"
     ]
    },
    {
     "data": {
      "text/html": [
       "<div id=\"circuits-vis-4e5580bd-0300\" style=\"margin: 15px 0;\"/>\n",
       "    <script crossorigin type=\"module\">\n",
       "    import { render, ColoredTokens } from \"https://unpkg.com/circuitsvis@1.43.3/dist/cdn/esm.js\";\n",
       "    render(\n",
       "      \"circuits-vis-4e5580bd-0300\",\n",
       "      ColoredTokens,\n",
       "      {\"tokens\": [\"options\", \":\", \" Marie\", \" Cur\", \"ie\", \",\", \" Albert\", \" Einstein\", \",\", \" Gro\", \"ver\", \" Cleveland\", \",\", \" Charles\", \" Darwin\", \",\", \" Nikola\", \" Tesla\", \",\", \" Iss\", \"ac\", \" Newton\", \"\\n\", \"Which\", \" of\", \" these\", \" people\", \" is\", \" not\", \" a\", \" scientist\", \"?\\n\", \"Answer\", \":\"], \"values\": [0.0169677734375, 0.0030975341796875, 0.007659912109375, 0.0108642578125, 0.0034027099609375, 0.007354736328125, 0.00872802734375, 0.00958251953125, 0.0093994140625, 0.0040283203125, 0.019775390625, 0.3984375, 0.16796875, 0.006011962890625, 0.0036773681640625, 0.00244140625, 0.001312255859375, 0.0019989013671875, 0.00146484375, 0.0023040771484375, 0.007293701171875, 0.0029449462890625, 0.005767822265625, 0.00173187255859375, 0.0033416748046875, 0.004608154296875, 0.0042724609375, 0.0019683837890625, 0.005340576171875, 0.0003757476806640625, 0.00091552734375, 0.05615234375, 0.0010223388671875, 0.0294189453125]}\n",
       "    )\n",
       "    </script>"
      ],
      "text/plain": [
       "<circuitsvis.utils.render.RenderedHTML at 0x7fa4c036b490>"
      ]
     },
     "metadata": {},
     "output_type": "display_data"
    },
    {
     "name": "stdout",
     "output_type": "stream",
     "text": [
      "2025-08-01 14:44:12 __main__ INFO     Layer: 33, Head: 18\n"
     ]
    },
    {
     "data": {
      "text/html": [
       "<div id=\"circuits-vis-0574b7fc-bcf0\" style=\"margin: 15px 0;\"/>\n",
       "    <script crossorigin type=\"module\">\n",
       "    import { render, ColoredTokens } from \"https://unpkg.com/circuitsvis@1.43.3/dist/cdn/esm.js\";\n",
       "    render(\n",
       "      \"circuits-vis-0574b7fc-bcf0\",\n",
       "      ColoredTokens,\n",
       "      {\"tokens\": [\"options\", \":\", \" Marie\", \" Cur\", \"ie\", \",\", \" Albert\", \" Einstein\", \",\", \" Gro\", \"ver\", \" Cleveland\", \",\", \" Charles\", \" Darwin\", \",\", \" Nikola\", \" Tesla\", \",\", \" Iss\", \"ac\", \" Newton\", \"\\n\", \"Which\", \" of\", \" these\", \" people\", \" is\", \" not\", \" a\", \" scientist\", \"?\\n\", \"Answer\", \":\"], \"values\": [0.0216064453125, 0.000446319580078125, 0.0196533203125, 0.0272216796875, 0.038330078125, 0.020751953125, 0.024169921875, 0.01361083984375, 0.0177001953125, 0.0025787353515625, 0.00567626953125, 0.33203125, 0.18359375, 0.0673828125, 0.0172119140625, 0.00579833984375, 0.001739501953125, 0.0025482177734375, 0.00144195556640625, 0.006988525390625, 0.01214599609375, 0.0062255859375, 0.00171661376953125, 0.000873565673828125, 0.00024318695068359375, 0.000759124755859375, 0.00396728515625, 0.0003261566162109375, 0.000316619873046875, 0.0027618408203125, 0.003204345703125, 0.0011749267578125, 0.000370025634765625, 0.004241943359375]}\n",
       "    )\n",
       "    </script>"
      ],
      "text/plain": [
       "<circuitsvis.utils.render.RenderedHTML at 0x7fa4c00e0b90>"
      ]
     },
     "metadata": {},
     "output_type": "display_data"
    },
    {
     "name": "stdout",
     "output_type": "stream",
     "text": [
      "2025-08-01 14:44:12 __main__ INFO     Layer: 34, Head: 1\n"
     ]
    },
    {
     "data": {
      "text/html": [
       "<div id=\"circuits-vis-aa8286c4-45f1\" style=\"margin: 15px 0;\"/>\n",
       "    <script crossorigin type=\"module\">\n",
       "    import { render, ColoredTokens } from \"https://unpkg.com/circuitsvis@1.43.3/dist/cdn/esm.js\";\n",
       "    render(\n",
       "      \"circuits-vis-aa8286c4-45f1\",\n",
       "      ColoredTokens,\n",
       "      {\"tokens\": [\"options\", \":\", \" Marie\", \" Cur\", \"ie\", \",\", \" Albert\", \" Einstein\", \",\", \" Gro\", \"ver\", \" Cleveland\", \",\", \" Charles\", \" Darwin\", \",\", \" Nikola\", \" Tesla\", \",\", \" Iss\", \"ac\", \" Newton\", \"\\n\", \"Which\", \" of\", \" these\", \" people\", \" is\", \" not\", \" a\", \" scientist\", \"?\\n\", \"Answer\", \":\"], \"values\": [0.00909423828125, 0.0003070831298828125, 0.004119873046875, 3.24249267578125e-05, 6.866455078125e-05, 0.001220703125, 9.393692016601562e-05, 1.8477439880371094e-05, 0.00018405914306640625, 3.790855407714844e-05, 0.000823974609375, 0.65234375, 0.2216796875, 0.00138092041015625, 6.377696990966797e-06, 0.00031280517578125, 1.6689300537109375e-06, 3.3229589462280273e-06, 0.00017261505126953125, 0.00026702880859375, 4.291534423828125e-05, 1.773238182067871e-06, 0.001220703125, 0.0007171630859375, 0.001068115234375, 0.000640869140625, 0.0004405975341796875, 0.00025177001953125, 0.0004482269287109375, 6.198883056640625e-06, 5.103647708892822e-07, 0.0018310546875, 0.0002117156982421875, 0.0169677734375]}\n",
       "    )\n",
       "    </script>"
      ],
      "text/plain": [
       "<circuitsvis.utils.render.RenderedHTML at 0x7fa567f21350>"
      ]
     },
     "metadata": {},
     "output_type": "display_data"
    },
    {
     "name": "stdout",
     "output_type": "stream",
     "text": [
      "2025-08-01 14:44:12 __main__ INFO     Layer: 34, Head: 6\n"
     ]
    },
    {
     "data": {
      "text/html": [
       "<div id=\"circuits-vis-1f99917a-2992\" style=\"margin: 15px 0;\"/>\n",
       "    <script crossorigin type=\"module\">\n",
       "    import { render, ColoredTokens } from \"https://unpkg.com/circuitsvis@1.43.3/dist/cdn/esm.js\";\n",
       "    render(\n",
       "      \"circuits-vis-1f99917a-2992\",\n",
       "      ColoredTokens,\n",
       "      {\"tokens\": [\"options\", \":\", \" Marie\", \" Cur\", \"ie\", \",\", \" Albert\", \" Einstein\", \",\", \" Gro\", \"ver\", \" Cleveland\", \",\", \" Charles\", \" Darwin\", \",\", \" Nikola\", \" Tesla\", \",\", \" Iss\", \"ac\", \" Newton\", \"\\n\", \"Which\", \" of\", \" these\", \" people\", \" is\", \" not\", \" a\", \" scientist\", \"?\\n\", \"Answer\", \":\"], \"values\": [0.0130615234375, 0.00115203857421875, 0.00787353515625, 0.0002651214599609375, 0.00023746490478515625, 0.0034942626953125, 0.0002956390380859375, 5.3882598876953125e-05, 0.0004730224609375, 0.000156402587890625, 0.00130462646484375, 0.7421875, 0.10888671875, 0.00154876708984375, 1.3649463653564453e-05, 0.00023746490478515625, 1.9669532775878906e-06, 4.708766937255859e-06, 0.00012493133544921875, 0.0003414154052734375, 3.4809112548828125e-05, 4.410743713378906e-06, 0.000720977783203125, 0.00173187255859375, 0.00390625, 0.0008544921875, 0.0005340576171875, 0.000431060791015625, 0.00057220458984375, 2.8848648071289062e-05, 4.023313522338867e-06, 0.00171661376953125, 0.0003452301025390625, 0.01544189453125]}\n",
       "    )\n",
       "    </script>"
      ],
      "text/plain": [
       "<circuitsvis.utils.render.RenderedHTML at 0x7fa567f14d50>"
      ]
     },
     "metadata": {},
     "output_type": "display_data"
    },
    {
     "name": "stdout",
     "output_type": "stream",
     "text": [
      "2025-08-01 14:44:12 __main__ INFO     Layer: 34, Head: 7\n"
     ]
    },
    {
     "data": {
      "text/html": [
       "<div id=\"circuits-vis-7dc73f90-39aa\" style=\"margin: 15px 0;\"/>\n",
       "    <script crossorigin type=\"module\">\n",
       "    import { render, ColoredTokens } from \"https://unpkg.com/circuitsvis@1.43.3/dist/cdn/esm.js\";\n",
       "    render(\n",
       "      \"circuits-vis-7dc73f90-39aa\",\n",
       "      ColoredTokens,\n",
       "      {\"tokens\": [\"options\", \":\", \" Marie\", \" Cur\", \"ie\", \",\", \" Albert\", \" Einstein\", \",\", \" Gro\", \"ver\", \" Cleveland\", \",\", \" Charles\", \" Darwin\", \",\", \" Nikola\", \" Tesla\", \",\", \" Iss\", \"ac\", \" Newton\", \"\\n\", \"Which\", \" of\", \" these\", \" people\", \" is\", \" not\", \" a\", \" scientist\", \"?\\n\", \"Answer\", \":\"], \"values\": [0.0322265625, 0.0002593994140625, 0.0037384033203125, 0.000621795654296875, 0.0002593994140625, 0.00579833984375, 0.0016326904296875, 0.000888824462890625, 0.0020904541015625, 0.000400543212890625, 0.00177001953125, 0.1787109375, 0.1591796875, 0.00445556640625, 0.0004673004150390625, 0.0029144287109375, 0.00017261505126953125, 0.0003528594970703125, 0.00335693359375, 0.0018768310546875, 0.00110626220703125, 0.00067138671875, 0.0093994140625, 0.009521484375, 0.01031494140625, 0.0260009765625, 0.008056640625, 0.00531005859375, 0.006622314453125, 0.000946044921875, 0.000514984130859375, 0.039794921875, 0.0037384033203125, 0.140625]}\n",
       "    )\n",
       "    </script>"
      ],
      "text/plain": [
       "<circuitsvis.utils.render.RenderedHTML at 0x7fa4e055b710>"
      ]
     },
     "metadata": {},
     "output_type": "display_data"
    },
    {
     "name": "stdout",
     "output_type": "stream",
     "text": [
      "2025-08-01 14:44:12 __main__ INFO     Layer: 35, Head: 19\n"
     ]
    },
    {
     "data": {
      "text/html": [
       "<div id=\"circuits-vis-50bf04ac-5fb1\" style=\"margin: 15px 0;\"/>\n",
       "    <script crossorigin type=\"module\">\n",
       "    import { render, ColoredTokens } from \"https://unpkg.com/circuitsvis@1.43.3/dist/cdn/esm.js\";\n",
       "    render(\n",
       "      \"circuits-vis-50bf04ac-5fb1\",\n",
       "      ColoredTokens,\n",
       "      {\"tokens\": [\"options\", \":\", \" Marie\", \" Cur\", \"ie\", \",\", \" Albert\", \" Einstein\", \",\", \" Gro\", \"ver\", \" Cleveland\", \",\", \" Charles\", \" Darwin\", \",\", \" Nikola\", \" Tesla\", \",\", \" Iss\", \"ac\", \" Newton\", \"\\n\", \"Which\", \" of\", \" these\", \" people\", \" is\", \" not\", \" a\", \" scientist\", \"?\\n\", \"Answer\", \":\"], \"values\": [0.002471923828125, 6.771087646484375e-05, 0.00164794921875, 0.00164794921875, 0.00152587890625, 0.004364013671875, 0.003936767578125, 0.00726318359375, 0.0030517578125, 0.000530242919921875, 0.006866455078125, 0.71484375, 0.1748046875, 0.006866455078125, 0.00823974609375, 0.0067138671875, 0.00048065185546875, 0.003936767578125, 0.00171661376953125, 0.000469207763671875, 0.0015106201171875, 0.001495361328125, 0.0001621246337890625, 0.000102996826171875, 2.956390380859375e-05, 0.00017833709716796875, 0.00038909912109375, 4.7206878662109375e-05, 0.00014495849609375, 8.535385131835938e-05, 2.5272369384765625e-05, 0.00026702880859375, 3.790855407714844e-05, 0.00110626220703125]}\n",
       "    )\n",
       "    </script>"
      ],
      "text/plain": [
       "<circuitsvis.utils.render.RenderedHTML at 0x7fa4e024df50>"
      ]
     },
     "metadata": {},
     "output_type": "display_data"
    },
    {
     "name": "stdout",
     "output_type": "stream",
     "text": [
      "2025-08-01 14:44:12 __main__ INFO     Layer: 39, Head: 40\n"
     ]
    },
    {
     "data": {
      "text/html": [
       "<div id=\"circuits-vis-54682516-ea15\" style=\"margin: 15px 0;\"/>\n",
       "    <script crossorigin type=\"module\">\n",
       "    import { render, ColoredTokens } from \"https://unpkg.com/circuitsvis@1.43.3/dist/cdn/esm.js\";\n",
       "    render(\n",
       "      \"circuits-vis-54682516-ea15\",\n",
       "      ColoredTokens,\n",
       "      {\"tokens\": [\"options\", \":\", \" Marie\", \" Cur\", \"ie\", \",\", \" Albert\", \" Einstein\", \",\", \" Gro\", \"ver\", \" Cleveland\", \",\", \" Charles\", \" Darwin\", \",\", \" Nikola\", \" Tesla\", \",\", \" Iss\", \"ac\", \" Newton\", \"\\n\", \"Which\", \" of\", \" these\", \" people\", \" is\", \" not\", \" a\", \" scientist\", \"?\\n\", \"Answer\", \":\"], \"values\": [0.02294921875, 0.0037078857421875, 0.0341796875, 0.0013427734375, 0.010986328125, 0.0634765625, 0.0135498046875, 0.00457763671875, 0.0218505859375, 0.0047607421875, 0.01361083984375, 0.32421875, 0.2021484375, 0.013916015625, 0.0047607421875, 0.030517578125, 0.00159454345703125, 0.0027618408203125, 0.02294921875, 0.00170135498046875, 0.0033721923828125, 0.00093841552734375, 0.007080078125, 0.00159454345703125, 0.000576019287109375, 0.000789642333984375, 0.00128173828125, 0.00177764892578125, 0.00164794921875, 0.00104522705078125, 0.000881195068359375, 0.01544189453125, 0.004119873046875, 0.03515625]}\n",
       "    )\n",
       "    </script>"
      ],
      "text/plain": [
       "<circuitsvis.utils.render.RenderedHTML at 0x7fa4e055a010>"
      ]
     },
     "metadata": {},
     "output_type": "display_data"
    },
    {
     "name": "stdout",
     "output_type": "stream",
     "text": [
      "2025-08-01 14:44:12 __main__ INFO     Layer: 42, Head: 30\n"
     ]
    },
    {
     "data": {
      "text/html": [
       "<div id=\"circuits-vis-a994357e-0966\" style=\"margin: 15px 0;\"/>\n",
       "    <script crossorigin type=\"module\">\n",
       "    import { render, ColoredTokens } from \"https://unpkg.com/circuitsvis@1.43.3/dist/cdn/esm.js\";\n",
       "    render(\n",
       "      \"circuits-vis-a994357e-0966\",\n",
       "      ColoredTokens,\n",
       "      {\"tokens\": [\"options\", \":\", \" Marie\", \" Cur\", \"ie\", \",\", \" Albert\", \" Einstein\", \",\", \" Gro\", \"ver\", \" Cleveland\", \",\", \" Charles\", \" Darwin\", \",\", \" Nikola\", \" Tesla\", \",\", \" Iss\", \"ac\", \" Newton\", \"\\n\", \"Which\", \" of\", \" these\", \" people\", \" is\", \" not\", \" a\", \" scientist\", \"?\\n\", \"Answer\", \":\"], \"values\": [0.0078125, 0.003875732421875, 0.01068115234375, 0.008056640625, 0.01904296875, 0.01287841796875, 0.005889892578125, 0.00830078125, 0.005889892578125, 0.0084228515625, 0.020751953125, 0.267578125, 0.033203125, 0.01153564453125, 0.01556396484375, 0.00885009765625, 0.002166748046875, 0.0081787109375, 0.005218505859375, 0.00250244140625, 0.00213623046875, 0.0030670166015625, 0.0098876953125, 0.0012969970703125, 0.000652313232421875, 0.0020751953125, 0.00160980224609375, 0.000888824462890625, 0.0020751953125, 0.00177001953125, 0.002838134765625, 0.004730224609375, 0.00107574462890625, 0.00885009765625]}\n",
       "    )\n",
       "    </script>"
      ],
      "text/plain": [
       "<circuitsvis.utils.render.RenderedHTML at 0x7fa4e03d18d0>"
      ]
     },
     "metadata": {},
     "output_type": "display_data"
    },
    {
     "name": "stdout",
     "output_type": "stream",
     "text": [
      "2025-08-01 14:44:12 __main__ INFO     Layer: 47, Head: 18\n"
     ]
    },
    {
     "data": {
      "text/html": [
       "<div id=\"circuits-vis-350e944d-6749\" style=\"margin: 15px 0;\"/>\n",
       "    <script crossorigin type=\"module\">\n",
       "    import { render, ColoredTokens } from \"https://unpkg.com/circuitsvis@1.43.3/dist/cdn/esm.js\";\n",
       "    render(\n",
       "      \"circuits-vis-350e944d-6749\",\n",
       "      ColoredTokens,\n",
       "      {\"tokens\": [\"options\", \":\", \" Marie\", \" Cur\", \"ie\", \",\", \" Albert\", \" Einstein\", \",\", \" Gro\", \"ver\", \" Cleveland\", \",\", \" Charles\", \" Darwin\", \",\", \" Nikola\", \" Tesla\", \",\", \" Iss\", \"ac\", \" Newton\", \"\\n\", \"Which\", \" of\", \" these\", \" people\", \" is\", \" not\", \" a\", \" scientist\", \"?\\n\", \"Answer\", \":\"], \"values\": [0.0107421875, 0.0017242431640625, 0.00396728515625, 0.000579833984375, 0.003387451171875, 0.013671875, 0.0004100799560546875, 0.00021266937255859375, 0.0093994140625, 0.12255859375, 0.2138671875, 0.10302734375, 0.1650390625, 0.00408935546875, 0.00017642974853515625, 0.0096435546875, 0.00012874603271484375, 0.00020599365234375, 0.00640869140625, 0.00054168701171875, 0.0002193450927734375, 7.343292236328125e-05, 0.00811767578125, 0.002899169921875, 0.0010833740234375, 0.00145721435546875, 0.004547119140625, 0.002593994140625, 0.0013275146484375, 0.0029449462890625, 0.000789642333984375, 0.01483154296875, 0.0002269744873046875, 0.019775390625]}\n",
       "    )\n",
       "    </script>"
      ],
      "text/plain": [
       "<circuitsvis.utils.render.RenderedHTML at 0x7fa500196c10>"
      ]
     },
     "metadata": {},
     "output_type": "display_data"
    },
    {
     "name": "stdout",
     "output_type": "stream",
     "text": [
      "2025-08-01 14:44:13 __main__ INFO     Layer: 52, Head: 58\n"
     ]
    },
    {
     "data": {
      "text/html": [
       "<div id=\"circuits-vis-a8d31681-6ec2\" style=\"margin: 15px 0;\"/>\n",
       "    <script crossorigin type=\"module\">\n",
       "    import { render, ColoredTokens } from \"https://unpkg.com/circuitsvis@1.43.3/dist/cdn/esm.js\";\n",
       "    render(\n",
       "      \"circuits-vis-a8d31681-6ec2\",\n",
       "      ColoredTokens,\n",
       "      {\"tokens\": [\"options\", \":\", \" Marie\", \" Cur\", \"ie\", \",\", \" Albert\", \" Einstein\", \",\", \" Gro\", \"ver\", \" Cleveland\", \",\", \" Charles\", \" Darwin\", \",\", \" Nikola\", \" Tesla\", \",\", \" Iss\", \"ac\", \" Newton\", \"\\n\", \"Which\", \" of\", \" these\", \" people\", \" is\", \" not\", \" a\", \" scientist\", \"?\\n\", \"Answer\", \":\"], \"values\": [0.01202392578125, 0.0019989013671875, 0.00177001953125, 0.005889892578125, 0.0126953125, 0.01129150390625, 0.00115966796875, 0.002349853515625, 0.002197265625, 0.11865234375, 0.1572265625, 0.2080078125, 0.031982421875, 0.0024566650390625, 0.00213623046875, 0.003997802734375, 0.00016689300537109375, 0.0015411376953125, 0.00341796875, 0.000850677490234375, 0.0003223419189453125, 0.00038909912109375, 0.00457763671875, 0.000453948974609375, 0.00164031982421875, 0.00072479248046875, 0.00213623046875, 0.0012969970703125, 0.000621795654296875, 0.00125885009765625, 0.00072479248046875, 0.031982421875, 0.0004405975341796875, 0.01300048828125]}\n",
       "    )\n",
       "    </script>"
      ],
      "text/plain": [
       "<circuitsvis.utils.render.RenderedHTML at 0x7fa4e0217d90>"
      ]
     },
     "metadata": {},
     "output_type": "display_data"
    },
    {
     "data": {
      "text/plain": [
       "[PredictedToken(token=' Gro', prob=0.9765625, logit=21.875, token_id=18370, metadata=None),\n",
       " PredictedToken(token=' #', prob=0.003997802734375, logit=16.375, token_id=674, metadata=None),\n",
       " PredictedToken(token=' The', prob=0.0027313232421875, logit=16.0, token_id=578, metadata=None),\n",
       " PredictedToken(token='Gro', prob=0.00177001953125, logit=15.5625, token_id=77435, metadata=None),\n",
       " PredictedToken(token=' President', prob=0.001556396484375, logit=15.4375, token_id=4900, metadata=None)]"
      ]
     },
     "execution_count": 32,
     "metadata": {},
     "output_type": "execute_result"
    }
   ],
   "source": [
    "options = [\"Marie Curie\", \"Albert Einstein\", \"Grover Cleveland\", \"Charles Darwin\", \"Nikola Tesla\", \"Issac Newton\"]\n",
    "# prompt_template = \"\"\"Which of these people is not a scientist?\n",
    "# options: {}\n",
    "# Answer:\"\"\"\n",
    "# prompt = prompt_template.format(\n",
    "#     \", \".join(options)\n",
    "# )\n",
    "# print(prompt)\n",
    "\n",
    "prompt_template = \"\"\"options: {}\n",
    "Which of these people is not a scientist?\n",
    "Answer:\"\"\"\n",
    "prompt = prompt_template.format(\n",
    "    \", \".join(options)\n",
    ")\n",
    "print(prompt)\n",
    "\n",
    "verify = verify_head_patterns(\n",
    "    prompt=prompt,\n",
    "    options=options,\n",
    "    pivot=\"scientist\",\n",
    "    mt=mt,\n",
    "    value_weighted=False,\n",
    "    generate_full_answer=True,\n",
    ")\n",
    "verify[\"predictions\"]"
   ]
  },
  {
   "cell_type": "code",
   "execution_count": 33,
   "id": "9d6764ef",
   "metadata": {},
   "outputs": [
    {
     "name": "stdout",
     "output_type": "stream",
     "text": [
      "2025-08-01 14:44:17 __main__ DEBUG    Marie Curie | opt_range=(3, 6) | bare_opt_range=(4, 7) | \" Marie Curie\"\n"
     ]
    },
    {
     "name": "stdout",
     "output_type": "stream",
     "text": [
      "2025-08-01 14:44:17 __main__ DEBUG    Albert Einstein | opt_range=(7, 9) | bare_opt_range=(4, 6) | \" Albert Einstein\"\n",
      "2025-08-01 14:44:17 __main__ DEBUG    Grover Cleveland | opt_range=(10, 13) | bare_opt_range=(4, 7) | \" Grover Cleveland\"\n",
      "2025-08-01 14:44:17 __main__ DEBUG    Charles Darwin | opt_range=(14, 16) | bare_opt_range=(4, 6) | \" Charles Darwin\"\n",
      "2025-08-01 14:44:17 __main__ DEBUG    Nikola Tesla | opt_range=(17, 19) | bare_opt_range=(4, 6) | \" Nikola Tesla\"\n",
      "2025-08-01 14:44:17 __main__ DEBUG    Issac Newton | opt_range=(20, 23) | bare_opt_range=(4, 7) | \" Issac Newton\"\n",
      "2025-08-01 14:44:23 __main__ DEBUG    Predictions: ['\" Gro\"[18370] (p=0.973, logit=21.875)', '\" #\"[674] (p=0.005, logit=16.500)', '\" The\"[578] (p=0.003, logit=16.000)', '\" President\"[4900] (p=0.002, logit=15.562)', '\" \"[220] (p=0.002, logit=15.500)']\n",
      "layer=35\n"
     ]
    },
    {
     "data": {
      "text/html": [
       "<div id=\"circuits-vis-4d3354e2-d1d9\" style=\"margin: 15px 0;\"/>\n",
       "    <script crossorigin type=\"module\">\n",
       "    import { render, ColoredTokens } from \"https://unpkg.com/circuitsvis@1.43.3/dist/cdn/esm.js\";\n",
       "    render(\n",
       "      \"circuits-vis-4d3354e2-d1d9\",\n",
       "      ColoredTokens,\n",
       "      {\"tokens\": [\"options\", \":\", \" Marie\", \" Cur\", \"ie\", \",\", \" Albert\", \" Einstein\", \",\", \" Gro\", \"ver\", \" Cleveland\", \",\", \" Charles\", \" Darwin\", \",\", \" Nikola\", \" Tesla\", \",\", \" Iss\", \"ac\", \" Newton\", \"\\n\", \"Which\", \" of\", \" these\", \" people\", \" is\", \" not\", \" a\", \" scientist\", \"?\\n\", \"Answer\", \":\"], \"values\": [0.021296381950378418, 0.001756317913532257, 0.0029095709323883057, 0.003925442695617676, 0.003953173756599426, 0.017922639846801758, 0.008526958525180817, 0.010988064110279083, 0.013483285903930664, 0.0033725928515195847, 0.002747759222984314, 0.053859204053878784, 0.046006590127944946, 0.006049744784832001, 0.009258925914764404, 0.013477258384227753, 0.0031808242201805115, 0.005724057555198669, 0.007240965962409973, 0.002768866717815399, 0.005574911832809448, 0.006894141435623169, 0.02311345934867859, 0.007444456219673157, 0.0033483467996120453, 0.012184128165245056, 0.009806931018829346, 0.00394786149263382, 0.006712183356285095, 0.003144986927509308, 0.016191944479942322, 0.019483327865600586, 0.01844416931271553, 0.027770578861236572]}\n",
       "    )\n",
       "    </script>"
      ],
      "text/plain": [
       "<circuitsvis.utils.render.RenderedHTML at 0x7fa567978250>"
      ]
     },
     "metadata": {},
     "output_type": "display_data"
    },
    {
     "name": "stdout",
     "output_type": "stream",
     "text": [
      "--------------------------------------------------------------------------------\n",
      "layer=47\n"
     ]
    },
    {
     "data": {
      "text/html": [
       "<div id=\"circuits-vis-a5a41172-571c\" style=\"margin: 15px 0;\"/>\n",
       "    <script crossorigin type=\"module\">\n",
       "    import { render, ColoredTokens } from \"https://unpkg.com/circuitsvis@1.43.3/dist/cdn/esm.js\";\n",
       "    render(\n",
       "      \"circuits-vis-a5a41172-571c\",\n",
       "      ColoredTokens,\n",
       "      {\"tokens\": [\"options\", \":\", \" Marie\", \" Cur\", \"ie\", \",\", \" Albert\", \" Einstein\", \",\", \" Gro\", \"ver\", \" Cleveland\", \",\", \" Charles\", \" Darwin\", \",\", \" Nikola\", \" Tesla\", \",\", \" Iss\", \"ac\", \" Newton\", \"\\n\", \"Which\", \" of\", \" these\", \" people\", \" is\", \" not\", \" a\", \" scientist\", \"?\\n\", \"Answer\", \":\"], \"values\": [0.002331394702196121, 0.0007770862430334091, 0.0011633634567260742, 0.0008354596793651581, 0.0008770115673542023, 0.0014920029789209366, 0.0005748821422457695, 0.0006318148225545883, 0.0006522685289382935, 0.00402446836233139, 0.013890780508518219, 0.004955373704433441, 0.005788642913103104, 0.000848524272441864, 0.0006635710597038269, 0.0006390362977981567, 0.0003036046400666237, 0.000553937628865242, 0.00047198450192809105, 0.000500035472214222, 0.0006376812234520912, 0.0004646517336368561, 0.002400904893875122, 0.0011712685227394104, 0.0009824298322200775, 0.0006286241114139557, 0.0009348317980766296, 0.0005431529134511948, 0.00058789923787117, 0.00047548674046993256, 0.0016710758209228516, 0.0051469504833221436, 0.007485523819923401, 0.0030879825353622437]}\n",
       "    )\n",
       "    </script>"
      ],
      "text/plain": [
       "<circuitsvis.utils.render.RenderedHTML at 0x7fa4e021cb50>"
      ]
     },
     "metadata": {},
     "output_type": "display_data"
    },
    {
     "name": "stdout",
     "output_type": "stream",
     "text": [
      "--------------------------------------------------------------------------------\n",
      "layer=52\n"
     ]
    },
    {
     "data": {
      "text/html": [
       "<div id=\"circuits-vis-1921a51b-1485\" style=\"margin: 15px 0;\"/>\n",
       "    <script crossorigin type=\"module\">\n",
       "    import { render, ColoredTokens } from \"https://unpkg.com/circuitsvis@1.43.3/dist/cdn/esm.js\";\n",
       "    render(\n",
       "      \"circuits-vis-1921a51b-1485\",\n",
       "      ColoredTokens,\n",
       "      {\"tokens\": [\"options\", \":\", \" Marie\", \" Cur\", \"ie\", \",\", \" Albert\", \" Einstein\", \",\", \" Gro\", \"ver\", \" Cleveland\", \",\", \" Charles\", \" Darwin\", \",\", \" Nikola\", \" Tesla\", \",\", \" Iss\", \"ac\", \" Newton\", \"\\n\", \"Which\", \" of\", \" these\", \" people\", \" is\", \" not\", \" a\", \" scientist\", \"?\\n\", \"Answer\", \":\"], \"values\": [0.004824995994567871, 0.0031495317816734314, 0.003390759229660034, 0.0012994073331356049, 0.0011648684740066528, 0.0042219869792461395, 0.001883428543806076, 0.0009961994364857674, 0.001446431502699852, 0.028936557471752167, 0.017255913466215134, 0.0049963463097810745, 0.005248304456472397, 0.002029960975050926, 0.000941077247262001, 0.0013068225234746933, 0.001089625060558319, 0.0007626077858731151, 0.0010484475642442703, 0.0012164749205112457, 0.0013670194894075394, 0.0008238529553636909, 0.007225453853607178, 0.003456614911556244, 0.0016742944717407227, 0.0015113838016986847, 0.0016390122473239899, 0.0011482425034046173, 0.002216104418039322, 0.001227542757987976, 0.002708105370402336, 0.01510019600391388, 0.013945560902357101, 0.017189860343933105]}\n",
       "    )\n",
       "    </script>"
      ],
      "text/plain": [
       "<circuitsvis.utils.render.RenderedHTML at 0x7fa540178350>"
      ]
     },
     "metadata": {},
     "output_type": "display_data"
    },
    {
     "name": "stdout",
     "output_type": "stream",
     "text": [
      "--------------------------------------------------------------------------------\n",
      "======================================================================\n",
      "2025-08-01 14:44:23 __main__ INFO     Layer: 33, Head: 45\n"
     ]
    },
    {
     "data": {
      "text/html": [
       "<div id=\"circuits-vis-0e477555-735d\" style=\"margin: 15px 0;\"/>\n",
       "    <script crossorigin type=\"module\">\n",
       "    import { render, ColoredTokens } from \"https://unpkg.com/circuitsvis@1.43.3/dist/cdn/esm.js\";\n",
       "    render(\n",
       "      \"circuits-vis-0e477555-735d\",\n",
       "      ColoredTokens,\n",
       "      {\"tokens\": [\"options\", \":\", \" Marie\", \" Cur\", \"ie\", \",\", \" Albert\", \" Einstein\", \",\", \" Gro\", \"ver\", \" Cleveland\", \",\", \" Charles\", \" Darwin\", \",\", \" Nikola\", \" Tesla\", \",\", \" Iss\", \"ac\", \" Newton\", \"\\n\", \"Which\", \" of\", \" these\", \" people\", \" is\", \" not\", \" a\", \" scientist\", \"?\\n\", \"Answer\", \":\"], \"values\": [0.0167236328125, 0.0030517578125, 0.0086669921875, 0.01251220703125, 0.0040283203125, 0.007110595703125, 0.006622314453125, 0.00958251953125, 0.0098876953125, 0.0045166015625, 0.02001953125, 0.388671875, 0.171875, 0.00579833984375, 0.003936767578125, 0.002166748046875, 0.001251220703125, 0.00191497802734375, 0.00133514404296875, 0.0022430419921875, 0.00787353515625, 0.003204345703125, 0.006072998046875, 0.0016326904296875, 0.0037384033203125, 0.00457763671875, 0.004119873046875, 0.0020294189453125, 0.004974365234375, 0.00035858154296875, 0.0010223388671875, 0.052490234375, 0.00103759765625, 0.02880859375]}\n",
       "    )\n",
       "    </script>"
      ],
      "text/plain": [
       "<circuitsvis.utils.render.RenderedHTML at 0x7fa4c02cdf90>"
      ]
     },
     "metadata": {},
     "output_type": "display_data"
    },
    {
     "name": "stdout",
     "output_type": "stream",
     "text": [
      "2025-08-01 14:44:23 __main__ INFO     Layer: 33, Head: 18\n"
     ]
    },
    {
     "data": {
      "text/html": [
       "<div id=\"circuits-vis-e99f54e6-4b6b\" style=\"margin: 15px 0;\"/>\n",
       "    <script crossorigin type=\"module\">\n",
       "    import { render, ColoredTokens } from \"https://unpkg.com/circuitsvis@1.43.3/dist/cdn/esm.js\";\n",
       "    render(\n",
       "      \"circuits-vis-e99f54e6-4b6b\",\n",
       "      ColoredTokens,\n",
       "      {\"tokens\": [\"options\", \":\", \" Marie\", \" Cur\", \"ie\", \",\", \" Albert\", \" Einstein\", \",\", \" Gro\", \"ver\", \" Cleveland\", \",\", \" Charles\", \" Darwin\", \",\", \" Nikola\", \" Tesla\", \",\", \" Iss\", \"ac\", \" Newton\", \"\\n\", \"Which\", \" of\", \" these\", \" people\", \" is\", \" not\", \" a\", \" scientist\", \"?\\n\", \"Answer\", \":\"], \"values\": [0.02099609375, 0.000446319580078125, 0.01251220703125, 0.0205078125, 0.02685546875, 0.0174560546875, 0.0235595703125, 0.0137939453125, 0.017578125, 0.0031585693359375, 0.0052490234375, 0.341796875, 0.20703125, 0.06396484375, 0.01708984375, 0.006195068359375, 0.001678466796875, 0.002349853515625, 0.001556396484375, 0.00604248046875, 0.0130615234375, 0.006256103515625, 0.0019989013671875, 0.00084686279296875, 0.000274658203125, 0.000782012939453125, 0.0040283203125, 0.0003108978271484375, 0.000316619873046875, 0.002899169921875, 0.0030975341796875, 0.00122833251953125, 0.000370025634765625, 0.004180908203125]}\n",
       "    )\n",
       "    </script>"
      ],
      "text/plain": [
       "<circuitsvis.utils.render.RenderedHTML at 0x7fa4c02cdf90>"
      ]
     },
     "metadata": {},
     "output_type": "display_data"
    },
    {
     "name": "stdout",
     "output_type": "stream",
     "text": [
      "2025-08-01 14:44:24 __main__ INFO     Layer: 34, Head: 1\n"
     ]
    },
    {
     "data": {
      "text/html": [
       "<div id=\"circuits-vis-7fa6c6cb-0dc6\" style=\"margin: 15px 0;\"/>\n",
       "    <script crossorigin type=\"module\">\n",
       "    import { render, ColoredTokens } from \"https://unpkg.com/circuitsvis@1.43.3/dist/cdn/esm.js\";\n",
       "    render(\n",
       "      \"circuits-vis-7fa6c6cb-0dc6\",\n",
       "      ColoredTokens,\n",
       "      {\"tokens\": [\"options\", \":\", \" Marie\", \" Cur\", \"ie\", \",\", \" Albert\", \" Einstein\", \",\", \" Gro\", \"ver\", \" Cleveland\", \",\", \" Charles\", \" Darwin\", \",\", \" Nikola\", \" Tesla\", \",\", \" Iss\", \"ac\", \" Newton\", \"\\n\", \"Which\", \" of\", \" these\", \" people\", \" is\", \" not\", \" a\", \" scientist\", \"?\\n\", \"Answer\", \":\"], \"values\": [0.009033203125, 0.0002689361572265625, 0.00054931640625, 2.968311309814453e-05, 6.4849853515625e-05, 0.00135040283203125, 6.914138793945312e-05, 2.1696090698242188e-05, 0.00015735626220703125, 0.000354766845703125, 0.00089263916015625, 0.67578125, 0.2021484375, 0.00122833251953125, 7.510185241699219e-06, 0.0002899169921875, 1.6242265701293945e-06, 2.9355287551879883e-06, 0.00012874603271484375, 0.000247955322265625, 4.887580871582031e-05, 2.2202730178833008e-06, 0.001007080078125, 0.00058746337890625, 0.0010833740234375, 0.00054931640625, 0.0003910064697265625, 0.0002593994140625, 0.00043487548828125, 6.22868537902832e-06, 6.742775440216064e-07, 0.00179290771484375, 0.00019073486328125, 0.015625]}\n",
       "    )\n",
       "    </script>"
      ],
      "text/plain": [
       "<circuitsvis.utils.render.RenderedHTML at 0x7fa4e042c150>"
      ]
     },
     "metadata": {},
     "output_type": "display_data"
    },
    {
     "name": "stdout",
     "output_type": "stream",
     "text": [
      "2025-08-01 14:44:24 __main__ INFO     Layer: 34, Head: 6\n"
     ]
    },
    {
     "data": {
      "text/html": [
       "<div id=\"circuits-vis-b9f3418e-f38d\" style=\"margin: 15px 0;\"/>\n",
       "    <script crossorigin type=\"module\">\n",
       "    import { render, ColoredTokens } from \"https://unpkg.com/circuitsvis@1.43.3/dist/cdn/esm.js\";\n",
       "    render(\n",
       "      \"circuits-vis-b9f3418e-f38d\",\n",
       "      ColoredTokens,\n",
       "      {\"tokens\": [\"options\", \":\", \" Marie\", \" Cur\", \"ie\", \",\", \" Albert\", \" Einstein\", \",\", \" Gro\", \"ver\", \" Cleveland\", \",\", \" Charles\", \" Darwin\", \",\", \" Nikola\", \" Tesla\", \",\", \" Iss\", \"ac\", \" Newton\", \"\\n\", \"Which\", \" of\", \" these\", \" people\", \" is\", \" not\", \" a\", \" scientist\", \"?\\n\", \"Answer\", \":\"], \"values\": [0.01300048828125, 0.0010223388671875, 0.0016937255859375, 0.0003414154052734375, 0.0002460479736328125, 0.003570556640625, 0.0002574920654296875, 6.031990051269531e-05, 0.0004253387451171875, 0.0005645751953125, 0.00153350830078125, 0.7578125, 0.1005859375, 0.00157928466796875, 1.6689300537109375e-05, 0.0002346038818359375, 2.1904706954956055e-06, 4.351139068603516e-06, 9.059906005859375e-05, 0.0002880096435546875, 3.886222839355469e-05, 4.947185516357422e-06, 0.00061798095703125, 0.00147247314453125, 0.00421142578125, 0.000804901123046875, 0.000553131103515625, 0.0004673004150390625, 0.000530242919921875, 3.0279159545898438e-05, 5.27501106262207e-06, 0.00164031982421875, 0.00030517578125, 0.01416015625]}\n",
       "    )\n",
       "    </script>"
      ],
      "text/plain": [
       "<circuitsvis.utils.render.RenderedHTML at 0x7fa4c0158250>"
      ]
     },
     "metadata": {},
     "output_type": "display_data"
    },
    {
     "name": "stdout",
     "output_type": "stream",
     "text": [
      "2025-08-01 14:44:24 __main__ INFO     Layer: 34, Head: 7\n"
     ]
    },
    {
     "data": {
      "text/html": [
       "<div id=\"circuits-vis-555c88a9-8d18\" style=\"margin: 15px 0;\"/>\n",
       "    <script crossorigin type=\"module\">\n",
       "    import { render, ColoredTokens } from \"https://unpkg.com/circuitsvis@1.43.3/dist/cdn/esm.js\";\n",
       "    render(\n",
       "      \"circuits-vis-555c88a9-8d18\",\n",
       "      ColoredTokens,\n",
       "      {\"tokens\": [\"options\", \":\", \" Marie\", \" Cur\", \"ie\", \",\", \" Albert\", \" Einstein\", \",\", \" Gro\", \"ver\", \" Cleveland\", \",\", \" Charles\", \" Darwin\", \",\", \" Nikola\", \" Tesla\", \",\", \" Iss\", \"ac\", \" Newton\", \"\\n\", \"Which\", \" of\", \" these\", \" people\", \" is\", \" not\", \" a\", \" scientist\", \"?\\n\", \"Answer\", \":\"], \"values\": [0.033203125, 0.00023174285888671875, 0.002197265625, 0.000782012939453125, 0.000522613525390625, 0.0048828125, 0.0015106201171875, 0.000972747802734375, 0.0019073486328125, 0.00083160400390625, 0.0019073486328125, 0.19140625, 0.154296875, 0.004425048828125, 0.000522613525390625, 0.002960205078125, 0.00018024444580078125, 0.00035858154296875, 0.0029144287109375, 0.00160980224609375, 0.001190185546875, 0.0007476806640625, 0.00970458984375, 0.0081787109375, 0.01080322265625, 0.025390625, 0.0084228515625, 0.005401611328125, 0.006256103515625, 0.000972747802734375, 0.000629425048828125, 0.039306640625, 0.003509521484375, 0.1357421875]}\n",
       "    )\n",
       "    </script>"
      ],
      "text/plain": [
       "<circuitsvis.utils.render.RenderedHTML at 0x7fa4a032d390>"
      ]
     },
     "metadata": {},
     "output_type": "display_data"
    },
    {
     "name": "stdout",
     "output_type": "stream",
     "text": [
      "2025-08-01 14:44:24 __main__ INFO     Layer: 35, Head: 19\n"
     ]
    },
    {
     "data": {
      "text/html": [
       "<div id=\"circuits-vis-be0ba0cf-34c8\" style=\"margin: 15px 0;\"/>\n",
       "    <script crossorigin type=\"module\">\n",
       "    import { render, ColoredTokens } from \"https://unpkg.com/circuitsvis@1.43.3/dist/cdn/esm.js\";\n",
       "    render(\n",
       "      \"circuits-vis-be0ba0cf-34c8\",\n",
       "      ColoredTokens,\n",
       "      {\"tokens\": [\"options\", \":\", \" Marie\", \" Cur\", \"ie\", \",\", \" Albert\", \" Einstein\", \",\", \" Gro\", \"ver\", \" Cleveland\", \",\", \" Charles\", \" Darwin\", \",\", \" Nikola\", \" Tesla\", \",\", \" Iss\", \"ac\", \" Newton\", \"\\n\", \"Which\", \" of\", \" these\", \" people\", \" is\", \" not\", \" a\", \" scientist\", \"?\\n\", \"Answer\", \":\"], \"values\": [0.0027008056640625, 6.914138793945312e-05, 0.0013885498046875, 0.001556396484375, 0.0025482177734375, 0.0033416748046875, 0.0034332275390625, 0.0084228515625, 0.003265380859375, 0.00146484375, 0.0081787109375, 0.6875, 0.1904296875, 0.00677490234375, 0.00982666015625, 0.0078125, 0.000507354736328125, 0.00421142578125, 0.00177764892578125, 0.0003509521484375, 0.00189971923828125, 0.00193023681640625, 0.0002536773681640625, 0.00010395050048828125, 3.314018249511719e-05, 0.00020694732666015625, 0.0004520416259765625, 5.4836273193359375e-05, 0.00016307830810546875, 0.000110626220703125, 3.314018249511719e-05, 0.000286102294921875, 4.124641418457031e-05, 0.00107574462890625]}\n",
       "    )\n",
       "    </script>"
      ],
      "text/plain": [
       "<circuitsvis.utils.render.RenderedHTML at 0x7fa4c0158250>"
      ]
     },
     "metadata": {},
     "output_type": "display_data"
    },
    {
     "name": "stdout",
     "output_type": "stream",
     "text": [
      "2025-08-01 14:44:24 __main__ INFO     Layer: 39, Head: 40\n"
     ]
    },
    {
     "data": {
      "text/html": [
       "<div id=\"circuits-vis-39750593-3c72\" style=\"margin: 15px 0;\"/>\n",
       "    <script crossorigin type=\"module\">\n",
       "    import { render, ColoredTokens } from \"https://unpkg.com/circuitsvis@1.43.3/dist/cdn/esm.js\";\n",
       "    render(\n",
       "      \"circuits-vis-39750593-3c72\",\n",
       "      ColoredTokens,\n",
       "      {\"tokens\": [\"options\", \":\", \" Marie\", \" Cur\", \"ie\", \",\", \" Albert\", \" Einstein\", \",\", \" Gro\", \"ver\", \" Cleveland\", \",\", \" Charles\", \" Darwin\", \",\", \" Nikola\", \" Tesla\", \",\", \" Iss\", \"ac\", \" Newton\", \"\\n\", \"Which\", \" of\", \" these\", \" people\", \" is\", \" not\", \" a\", \" scientist\", \"?\\n\", \"Answer\", \":\"], \"values\": [0.0224609375, 0.003662109375, 0.01043701171875, 0.0012054443359375, 0.00897216796875, 0.080078125, 0.010498046875, 0.00372314453125, 0.0198974609375, 0.007568359375, 0.0146484375, 0.3203125, 0.2060546875, 0.014404296875, 0.004058837890625, 0.0299072265625, 0.00135040283203125, 0.0023956298828125, 0.024658203125, 0.0017547607421875, 0.0033416748046875, 0.000732421875, 0.006378173828125, 0.00164794921875, 0.000637054443359375, 0.000782012939453125, 0.0012664794921875, 0.0019683837890625, 0.00162506103515625, 0.001068115234375, 0.000766754150390625, 0.0166015625, 0.004241943359375, 0.037841796875]}\n",
       "    )\n",
       "    </script>"
      ],
      "text/plain": [
       "<circuitsvis.utils.render.RenderedHTML at 0x7fa4a0115390>"
      ]
     },
     "metadata": {},
     "output_type": "display_data"
    },
    {
     "name": "stdout",
     "output_type": "stream",
     "text": [
      "2025-08-01 14:44:24 __main__ INFO     Layer: 42, Head: 30\n"
     ]
    },
    {
     "data": {
      "text/html": [
       "<div id=\"circuits-vis-9884eb30-408d\" style=\"margin: 15px 0;\"/>\n",
       "    <script crossorigin type=\"module\">\n",
       "    import { render, ColoredTokens } from \"https://unpkg.com/circuitsvis@1.43.3/dist/cdn/esm.js\";\n",
       "    render(\n",
       "      \"circuits-vis-9884eb30-408d\",\n",
       "      ColoredTokens,\n",
       "      {\"tokens\": [\"options\", \":\", \" Marie\", \" Cur\", \"ie\", \",\", \" Albert\", \" Einstein\", \",\", \" Gro\", \"ver\", \" Cleveland\", \",\", \" Charles\", \" Darwin\", \",\", \" Nikola\", \" Tesla\", \",\", \" Iss\", \"ac\", \" Newton\", \"\\n\", \"Which\", \" of\", \" these\", \" people\", \" is\", \" not\", \" a\", \" scientist\", \"?\\n\", \"Answer\", \":\"], \"values\": [0.00701904296875, 0.003753662109375, 0.006591796875, 0.0081787109375, 0.0146484375, 0.014404296875, 0.005126953125, 0.007232666015625, 0.005462646484375, 0.00946044921875, 0.02001953125, 0.27734375, 0.036865234375, 0.01104736328125, 0.01373291015625, 0.00958251953125, 0.001953125, 0.00701904296875, 0.005218505859375, 0.0024261474609375, 0.00201416015625, 0.0025787353515625, 0.00885009765625, 0.00125885009765625, 0.000652313232421875, 0.00201416015625, 0.00151824951171875, 0.000865936279296875, 0.00201416015625, 0.00171661376953125, 0.00274658203125, 0.00482177734375, 0.00107574462890625, 0.00885009765625]}\n",
       "    )\n",
       "    </script>"
      ],
      "text/plain": [
       "<circuitsvis.utils.render.RenderedHTML at 0x7fa4c04da0d0>"
      ]
     },
     "metadata": {},
     "output_type": "display_data"
    },
    {
     "name": "stdout",
     "output_type": "stream",
     "text": [
      "2025-08-01 14:44:24 __main__ INFO     Layer: 47, Head: 18\n"
     ]
    },
    {
     "data": {
      "text/html": [
       "<div id=\"circuits-vis-b48b60da-83a0\" style=\"margin: 15px 0;\"/>\n",
       "    <script crossorigin type=\"module\">\n",
       "    import { render, ColoredTokens } from \"https://unpkg.com/circuitsvis@1.43.3/dist/cdn/esm.js\";\n",
       "    render(\n",
       "      \"circuits-vis-b48b60da-83a0\",\n",
       "      ColoredTokens,\n",
       "      {\"tokens\": [\"options\", \":\", \" Marie\", \" Cur\", \"ie\", \",\", \" Albert\", \" Einstein\", \",\", \" Gro\", \"ver\", \" Cleveland\", \",\", \" Charles\", \" Darwin\", \",\", \" Nikola\", \" Tesla\", \",\", \" Iss\", \"ac\", \" Newton\", \"\\n\", \"Which\", \" of\", \" these\", \" people\", \" is\", \" not\", \" a\", \" scientist\", \"?\\n\", \"Answer\", \":\"], \"values\": [0.00946044921875, 0.00164031982421875, 0.002349853515625, 0.00063323974609375, 0.0033721923828125, 0.016845703125, 0.000339508056640625, 0.00016021728515625, 0.00927734375, 0.11669921875, 0.20703125, 0.11376953125, 0.1826171875, 0.00433349609375, 0.00014591217041015625, 0.009765625, 0.00010347366333007812, 0.00014591217041015625, 0.006591796875, 0.000507354736328125, 0.0001926422119140625, 6.079673767089844e-05, 0.007354736328125, 0.00274658203125, 0.0011138916015625, 0.00131988525390625, 0.004180908203125, 0.002471923828125, 0.00118255615234375, 0.0026702880859375, 0.0007171630859375, 0.01507568359375, 0.000232696533203125, 0.0218505859375]}\n",
       "    )\n",
       "    </script>"
      ],
      "text/plain": [
       "<circuitsvis.utils.render.RenderedHTML at 0x7fa5679b0310>"
      ]
     },
     "metadata": {},
     "output_type": "display_data"
    },
    {
     "name": "stdout",
     "output_type": "stream",
     "text": [
      "2025-08-01 14:44:25 __main__ INFO     Layer: 52, Head: 58\n"
     ]
    },
    {
     "data": {
      "text/html": [
       "<div id=\"circuits-vis-5ad74b11-229b\" style=\"margin: 15px 0;\"/>\n",
       "    <script crossorigin type=\"module\">\n",
       "    import { render, ColoredTokens } from \"https://unpkg.com/circuitsvis@1.43.3/dist/cdn/esm.js\";\n",
       "    render(\n",
       "      \"circuits-vis-5ad74b11-229b\",\n",
       "      ColoredTokens,\n",
       "      {\"tokens\": [\"options\", \":\", \" Marie\", \" Cur\", \"ie\", \",\", \" Albert\", \" Einstein\", \",\", \" Gro\", \"ver\", \" Cleveland\", \",\", \" Charles\", \" Darwin\", \",\", \" Nikola\", \" Tesla\", \",\", \" Iss\", \"ac\", \" Newton\", \"\\n\", \"Which\", \" of\", \" these\", \" people\", \" is\", \" not\", \" a\", \" scientist\", \"?\\n\", \"Answer\", \":\"], \"values\": [0.01171875, 0.0020751953125, 0.0012969970703125, 0.005828857421875, 0.00958251953125, 0.0164794921875, 0.0009918212890625, 0.0016937255859375, 0.0024566650390625, 0.12255859375, 0.1669921875, 0.1943359375, 0.037109375, 0.003021240234375, 0.0020751953125, 0.003936767578125, 0.00015735626220703125, 0.001129150390625, 0.003692626953125, 0.000934600830078125, 0.0003032684326171875, 0.00031280517578125, 0.004608154296875, 0.000484466552734375, 0.00188446044921875, 0.000705718994140625, 0.00201416015625, 0.0013580322265625, 0.000621795654296875, 0.001220703125, 0.000682830810546875, 0.03515625, 0.000499725341796875, 0.01416015625]}\n",
       "    )\n",
       "    </script>"
      ],
      "text/plain": [
       "<circuitsvis.utils.render.RenderedHTML at 0x7fa5679b0310>"
      ]
     },
     "metadata": {},
     "output_type": "display_data"
    },
    {
     "data": {
      "text/plain": [
       "[PredictedToken(token=' Gro', prob=0.97265625, logit=21.875, token_id=18370, metadata=None),\n",
       " PredictedToken(token=' #', prob=0.0045166015625, logit=16.5, token_id=674, metadata=None),\n",
       " PredictedToken(token=' The', prob=0.0027313232421875, logit=16.0, token_id=578, metadata=None),\n",
       " PredictedToken(token=' President', prob=0.00176239013671875, logit=15.5625, token_id=4900, metadata=None),\n",
       " PredictedToken(token=' ', prob=0.00165557861328125, logit=15.5, token_id=220, metadata=None)]"
      ]
     },
     "execution_count": 33,
     "metadata": {},
     "output_type": "execute_result"
    }
   ],
   "source": [
    "verify_ind = verify_head_patterns(\n",
    "    prompt=prompt,\n",
    "    options=options,\n",
    "    pivot=\"scientist\",\n",
    "    mt=mt,\n",
    "    value_weighted=False,\n",
    "    generate_full_answer=False,\n",
    "    ablate_possible_ans_info_from_options=True,\n",
    ")\n",
    "verify_ind[\"predictions\"]"
   ]
  },
  {
   "cell_type": "code",
   "execution_count": 35,
   "id": "027d93d2",
   "metadata": {},
   "outputs": [
    {
     "name": "stdout",
     "output_type": "stream",
     "text": [
      "Which of these people is a politician or a scientist?\n",
      "options: Michael Jordan, Serena Williams, Nikki Haley, Mike Tyson, Carl Sagan, Tom Cruise\n",
      "Answer:\n",
      "2025-08-01 14:45:30 __main__ DEBUG    Generated full answer: \" Nikki Haley, Carl Sagan\n",
      "Nikki Haley is a politician who served as the 29th United States Ambassador to the United Nations from 201\"\n",
      "2025-08-01 14:45:30 __main__ DEBUG    Predictions: ['\" Nikki\"[70207] (p=0.867, logit=20.750)', '\" Carl\"[22770] (p=0.049, logit=17.875)', '\" The\"[578] (p=0.016, logit=16.750)', '\" Polit\"[16307] (p=0.006, logit=15.750)', '\" \"[220] (p=0.005, logit=15.688)']\n",
      "layer=35\n"
     ]
    },
    {
     "data": {
      "text/html": [
       "<div id=\"circuits-vis-48c6afce-01bc\" style=\"margin: 15px 0;\"/>\n",
       "    <script crossorigin type=\"module\">\n",
       "    import { render, ColoredTokens } from \"https://unpkg.com/circuitsvis@1.43.3/dist/cdn/esm.js\";\n",
       "    render(\n",
       "      \"circuits-vis-48c6afce-01bc\",\n",
       "      ColoredTokens,\n",
       "      {\"tokens\": [\"Which\", \" of\", \" these\", \" people\", \" is\", \" a\", \" politician\", \" or\", \" a\", \" scientist\", \"?\\n\", \"options\", \":\", \" Michael\", \" Jordan\", \",\", \" Serena\", \" Williams\", \",\", \" Nikki\", \" Haley\", \",\", \" Mike\", \" Tyson\", \",\", \" Carl\", \" S\", \"agan\", \",\", \" Tom\", \" Cruise\", \"\\n\", \"Answer\", \":\"], \"values\": [0.0282517671585083, 0.007576018571853638, 0.004989944398403168, 0.012271001935005188, 0.008401129394769669, 0.005166549235582352, 0.011771172285079956, 0.010653555393218994, 0.0036228392273187637, 0.02146989107131958, 0.029873371124267578, 0.005128398537635803, 0.006105147302150726, 0.007487550377845764, 0.00985252857208252, 0.01812797784805298, 0.006251484155654907, 0.009576261043548584, 0.010745741426944733, 0.003719460219144821, 0.025342881679534912, 0.04044240713119507, 0.0023303013294935226, 0.005908936262130737, 0.009122133255004883, 0.00505981408059597, 0.010017961263656616, 0.025021471083164215, 0.029103100299835205, 0.0016216114163398743, 0.005595244467258453, 0.027030229568481445, 0.016764316707849503, 0.04170644283294678]}\n",
       "    )\n",
       "    </script>"
      ],
      "text/plain": [
       "<circuitsvis.utils.render.RenderedHTML at 0x7fa4c0135b10>"
      ]
     },
     "metadata": {},
     "output_type": "display_data"
    },
    {
     "name": "stdout",
     "output_type": "stream",
     "text": [
      "--------------------------------------------------------------------------------\n",
      "layer=47\n"
     ]
    },
    {
     "data": {
      "text/html": [
       "<div id=\"circuits-vis-69ae2c3f-8daf\" style=\"margin: 15px 0;\"/>\n",
       "    <script crossorigin type=\"module\">\n",
       "    import { render, ColoredTokens } from \"https://unpkg.com/circuitsvis@1.43.3/dist/cdn/esm.js\";\n",
       "    render(\n",
       "      \"circuits-vis-69ae2c3f-8daf\",\n",
       "      ColoredTokens,\n",
       "      {\"tokens\": [\"Which\", \" of\", \" these\", \" people\", \" is\", \" a\", \" politician\", \" or\", \" a\", \" scientist\", \"?\\n\", \"options\", \":\", \" Michael\", \" Jordan\", \",\", \" Serena\", \" Williams\", \",\", \" Nikki\", \" Haley\", \",\", \" Mike\", \" Tyson\", \",\", \" Carl\", \" S\", \"agan\", \",\", \" Tom\", \" Cruise\", \"\\n\", \"Answer\", \":\"], \"values\": [0.0029778480529785156, 0.0012075472623109818, 0.000568535178899765, 0.0006383806467056274, 0.0006868881173431873, 0.0008656405843794346, 0.002214565873146057, 0.001821320503950119, 0.0006044600158929825, 0.002010554075241089, 0.0024943575263023376, 0.001159757375717163, 0.0011746808886528015, 0.0013018026947975159, 0.0012484937906265259, 0.0010792575776576996, 0.0010323002934455872, 0.00055718794465065, 0.0009122192859649658, 0.014450863003730774, 0.004313811659812927, 0.004202352836728096, 0.000734325498342514, 0.0006008865311741829, 0.0006252797320485115, 0.0017030686140060425, 0.0011569652706384659, 0.0027924180030822754, 0.0019849278032779694, 0.0004092380404472351, 0.000869186595082283, 0.0042220354080200195, 0.007228434085845947, 0.004224300384521484]}\n",
       "    )\n",
       "    </script>"
      ],
      "text/plain": [
       "<circuitsvis.utils.render.RenderedHTML at 0x7fa4c04dbad0>"
      ]
     },
     "metadata": {},
     "output_type": "display_data"
    },
    {
     "name": "stdout",
     "output_type": "stream",
     "text": [
      "--------------------------------------------------------------------------------\n",
      "layer=52\n"
     ]
    },
    {
     "data": {
      "text/html": [
       "<div id=\"circuits-vis-ad22a7a5-1bed\" style=\"margin: 15px 0;\"/>\n",
       "    <script crossorigin type=\"module\">\n",
       "    import { render, ColoredTokens } from \"https://unpkg.com/circuitsvis@1.43.3/dist/cdn/esm.js\";\n",
       "    render(\n",
       "      \"circuits-vis-ad22a7a5-1bed\",\n",
       "      ColoredTokens,\n",
       "      {\"tokens\": [\"Which\", \" of\", \" these\", \" people\", \" is\", \" a\", \" politician\", \" or\", \" a\", \" scientist\", \"?\\n\", \"options\", \":\", \" Michael\", \" Jordan\", \",\", \" Serena\", \" Williams\", \",\", \" Nikki\", \" Haley\", \",\", \" Mike\", \" Tyson\", \",\", \" Carl\", \" S\", \"agan\", \",\", \" Tom\", \" Cruise\", \"\\n\", \"Answer\", \":\"], \"values\": [0.005641520023345947, 0.004144616425037384, 0.0016997754573822021, 0.0010786540806293488, 0.001722194254398346, 0.0025051161646842957, 0.003390401601791382, 0.0023527592420578003, 0.0011075511574745178, 0.0035681575536727905, 0.006835669279098511, 0.0050901854410767555, 0.005579210817813873, 0.0027222707867622375, 0.0011340081691741943, 0.003029618412256241, 0.002984076738357544, 0.0009565562941133976, 0.0020378902554512024, 0.021989785134792328, 0.008855067193508148, 0.00515313446521759, 0.0013006888329982758, 0.0007533426396548748, 0.0012178309261798859, 0.008901547640562057, 0.0016541853547096252, 0.005887262523174286, 0.0036552175879478455, 0.0014038458466529846, 0.0009224344394169748, 0.012878209352493286, 0.016977310180664062, 0.016142189502716064]}\n",
       "    )\n",
       "    </script>"
      ],
      "text/plain": [
       "<circuitsvis.utils.render.RenderedHTML at 0x7fa5679e1d90>"
      ]
     },
     "metadata": {},
     "output_type": "display_data"
    },
    {
     "name": "stdout",
     "output_type": "stream",
     "text": [
      "--------------------------------------------------------------------------------\n",
      "======================================================================\n",
      "2025-08-01 14:45:30 __main__ INFO     Layer: 33, Head: 45\n"
     ]
    },
    {
     "data": {
      "text/html": [
       "<div id=\"circuits-vis-14951201-577e\" style=\"margin: 15px 0;\"/>\n",
       "    <script crossorigin type=\"module\">\n",
       "    import { render, ColoredTokens } from \"https://unpkg.com/circuitsvis@1.43.3/dist/cdn/esm.js\";\n",
       "    render(\n",
       "      \"circuits-vis-14951201-577e\",\n",
       "      ColoredTokens,\n",
       "      {\"tokens\": [\"Which\", \" of\", \" these\", \" people\", \" is\", \" a\", \" politician\", \" or\", \" a\", \" scientist\", \"?\\n\", \"options\", \":\", \" Michael\", \" Jordan\", \",\", \" Serena\", \" Williams\", \",\", \" Nikki\", \" Haley\", \",\", \" Mike\", \" Tyson\", \",\", \" Carl\", \" S\", \"agan\", \",\", \" Tom\", \" Cruise\", \"\\n\", \"Answer\", \":\"], \"values\": [0.0177001953125, 0.006317138671875, 0.0045166015625, 0.004730224609375, 0.003997802734375, 0.00274658203125, 0.010009765625, 0.0152587890625, 0.005706787109375, 0.03271484375, 0.0205078125, 0.006744384765625, 0.00994873046875, 0.0111083984375, 0.0035247802734375, 0.016845703125, 0.01318359375, 0.00341796875, 0.018310546875, 0.04248046875, 0.06494140625, 0.154296875, 0.00787353515625, 0.005706787109375, 0.00653076171875, 0.01953125, 0.00848388671875, 0.111328125, 0.0732421875, 0.0022735595703125, 0.003570556640625, 0.0263671875, 0.00457763671875, 0.0279541015625]}\n",
       "    )\n",
       "    </script>"
      ],
      "text/plain": [
       "<circuitsvis.utils.render.RenderedHTML at 0x7fa5679ae550>"
      ]
     },
     "metadata": {},
     "output_type": "display_data"
    },
    {
     "name": "stdout",
     "output_type": "stream",
     "text": [
      "2025-08-01 14:45:30 __main__ INFO     Layer: 33, Head: 18\n"
     ]
    },
    {
     "data": {
      "text/html": [
       "<div id=\"circuits-vis-2a77f239-60e9\" style=\"margin: 15px 0;\"/>\n",
       "    <script crossorigin type=\"module\">\n",
       "    import { render, ColoredTokens } from \"https://unpkg.com/circuitsvis@1.43.3/dist/cdn/esm.js\";\n",
       "    render(\n",
       "      \"circuits-vis-2a77f239-60e9\",\n",
       "      ColoredTokens,\n",
       "      {\"tokens\": [\"Which\", \" of\", \" these\", \" people\", \" is\", \" a\", \" politician\", \" or\", \" a\", \" scientist\", \"?\\n\", \"options\", \":\", \" Michael\", \" Jordan\", \",\", \" Serena\", \" Williams\", \",\", \" Nikki\", \" Haley\", \",\", \" Mike\", \" Tyson\", \",\", \" Carl\", \" S\", \"agan\", \",\", \" Tom\", \" Cruise\", \"\\n\", \"Answer\", \":\"], \"values\": [0.0162353515625, 0.001739501953125, 0.002593994140625, 0.0135498046875, 0.0106201171875, 0.007598876953125, 0.01348876953125, 0.0203857421875, 0.007659912109375, 0.0228271484375, 0.027099609375, 0.000621795654296875, 0.00138092041015625, 0.07421875, 0.013671875, 0.051025390625, 0.005859375, 0.00787353515625, 0.0198974609375, 0.01953125, 0.04248046875, 0.34765625, 0.006744384765625, 0.0023193359375, 0.01025390625, 0.024658203125, 0.010009765625, 0.0250244140625, 0.0908203125, 0.00146484375, 0.0023040771484375, 0.00860595703125, 0.000713348388671875, 0.0084228515625]}\n",
       "    )\n",
       "    </script>"
      ],
      "text/plain": [
       "<circuitsvis.utils.render.RenderedHTML at 0x7fa50012a250>"
      ]
     },
     "metadata": {},
     "output_type": "display_data"
    },
    {
     "name": "stdout",
     "output_type": "stream",
     "text": [
      "2025-08-01 14:45:30 __main__ INFO     Layer: 34, Head: 1\n"
     ]
    },
    {
     "data": {
      "text/html": [
       "<div id=\"circuits-vis-bc758723-305e\" style=\"margin: 15px 0;\"/>\n",
       "    <script crossorigin type=\"module\">\n",
       "    import { render, ColoredTokens } from \"https://unpkg.com/circuitsvis@1.43.3/dist/cdn/esm.js\";\n",
       "    render(\n",
       "      \"circuits-vis-bc758723-305e\",\n",
       "      ColoredTokens,\n",
       "      {\"tokens\": [\"Which\", \" of\", \" these\", \" people\", \" is\", \" a\", \" politician\", \" or\", \" a\", \" scientist\", \"?\\n\", \"options\", \":\", \" Michael\", \" Jordan\", \",\", \" Serena\", \" Williams\", \",\", \" Nikki\", \" Haley\", \",\", \" Mike\", \" Tyson\", \",\", \" Carl\", \" S\", \"agan\", \",\", \" Tom\", \" Cruise\", \"\\n\", \"Answer\", \":\"], \"values\": [0.017822265625, 0.000682830810546875, 5.364418029785156e-05, 0.000965118408203125, 0.000469207763671875, 0.00433349609375, 0.005279541015625, 0.011962890625, 0.0020751953125, 0.00885009765625, 0.00787353515625, 8.296966552734375e-05, 0.000682830810546875, 0.0027313232421875, 7.4803829193115234e-06, 7.104873657226562e-05, 5.030632019042969e-05, 4.976987838745117e-06, 0.0021820068359375, 0.030029296875, 0.298828125, 0.279296875, 0.00142669677734375, 1.6167759895324707e-06, 4.4345855712890625e-05, 0.01287841796875, 0.00714111328125, 0.032470703125, 0.142578125, 3.790855407714844e-05, 7.927417755126953e-06, 0.0020294189453125, 0.0002593994140625, 0.03271484375]}\n",
       "    )\n",
       "    </script>"
      ],
      "text/plain": [
       "<circuitsvis.utils.render.RenderedHTML at 0x7fa569ba2b10>"
      ]
     },
     "metadata": {},
     "output_type": "display_data"
    },
    {
     "name": "stdout",
     "output_type": "stream",
     "text": [
      "2025-08-01 14:45:30 __main__ INFO     Layer: 34, Head: 6\n"
     ]
    },
    {
     "data": {
      "text/html": [
       "<div id=\"circuits-vis-a7d7c6a7-5698\" style=\"margin: 15px 0;\"/>\n",
       "    <script crossorigin type=\"module\">\n",
       "    import { render, ColoredTokens } from \"https://unpkg.com/circuitsvis@1.43.3/dist/cdn/esm.js\";\n",
       "    render(\n",
       "      \"circuits-vis-a7d7c6a7-5698\",\n",
       "      ColoredTokens,\n",
       "      {\"tokens\": [\"Which\", \" of\", \" these\", \" people\", \" is\", \" a\", \" politician\", \" or\", \" a\", \" scientist\", \"?\\n\", \"options\", \":\", \" Michael\", \" Jordan\", \",\", \" Serena\", \" Williams\", \",\", \" Nikki\", \" Haley\", \",\", \" Mike\", \" Tyson\", \",\", \" Carl\", \" S\", \"agan\", \",\", \" Tom\", \" Cruise\", \"\\n\", \"Answer\", \":\"], \"values\": [0.0361328125, 0.0024566650390625, 0.000293731689453125, 0.0012969970703125, 0.00144195556640625, 0.006988525390625, 0.00518798828125, 0.0089111328125, 0.004302978515625, 0.00738525390625, 0.0096435546875, 0.000331878662109375, 0.0045166015625, 0.0120849609375, 1.704692840576172e-05, 0.00013828277587890625, 7.43865966796875e-05, 1.138448715209961e-05, 0.005615234375, 0.0274658203125, 0.06640625, 0.11474609375, 0.00286865234375, 1.1995434761047363e-06, 4.363059997558594e-05, 0.00628662109375, 0.0048828125, 0.0098876953125, 0.0233154296875, 4.649162292480469e-05, 9.909272193908691e-07, 0.001312255859375, 0.000774383544921875, 0.0341796875]}\n",
       "    )\n",
       "    </script>"
      ],
      "text/plain": [
       "<circuitsvis.utils.render.RenderedHTML at 0x7fa4a032dc90>"
      ]
     },
     "metadata": {},
     "output_type": "display_data"
    },
    {
     "name": "stdout",
     "output_type": "stream",
     "text": [
      "2025-08-01 14:45:30 __main__ INFO     Layer: 34, Head: 7\n"
     ]
    },
    {
     "data": {
      "text/html": [
       "<div id=\"circuits-vis-22d504d8-cb7e\" style=\"margin: 15px 0;\"/>\n",
       "    <script crossorigin type=\"module\">\n",
       "    import { render, ColoredTokens } from \"https://unpkg.com/circuitsvis@1.43.3/dist/cdn/esm.js\";\n",
       "    render(\n",
       "      \"circuits-vis-22d504d8-cb7e\",\n",
       "      ColoredTokens,\n",
       "      {\"tokens\": [\"Which\", \" of\", \" these\", \" people\", \" is\", \" a\", \" politician\", \" or\", \" a\", \" scientist\", \"?\\n\", \"options\", \":\", \" Michael\", \" Jordan\", \",\", \" Serena\", \" Williams\", \",\", \" Nikki\", \" Haley\", \",\", \" Mike\", \" Tyson\", \",\", \" Carl\", \" S\", \"agan\", \",\", \" Tom\", \" Cruise\", \"\\n\", \"Answer\", \":\"], \"values\": [0.045654296875, 0.00191497802734375, 0.000530242919921875, 0.00182342529296875, 0.00177001953125, 0.002960205078125, 0.005615234375, 0.007110595703125, 0.00182342529296875, 0.005706787109375, 0.0107421875, 0.000701904296875, 0.004608154296875, 0.0111083984375, 0.000507354736328125, 0.001739501953125, 0.000946044921875, 0.0004405975341796875, 0.0062255859375, 0.017333984375, 0.1484375, 0.1865234375, 0.0022735595703125, 0.00012969970703125, 0.001007080078125, 0.010986328125, 0.00921630859375, 0.05517578125, 0.080078125, 0.000537872314453125, 0.00031280517578125, 0.021728515625, 0.005157470703125, 0.1318359375]}\n",
       "    )\n",
       "    </script>"
      ],
      "text/plain": [
       "<circuitsvis.utils.render.RenderedHTML at 0x7fa4e02832d0>"
      ]
     },
     "metadata": {},
     "output_type": "display_data"
    },
    {
     "name": "stdout",
     "output_type": "stream",
     "text": [
      "2025-08-01 14:45:31 __main__ INFO     Layer: 35, Head: 19\n"
     ]
    },
    {
     "data": {
      "text/html": [
       "<div id=\"circuits-vis-1f0da468-72a6\" style=\"margin: 15px 0;\"/>\n",
       "    <script crossorigin type=\"module\">\n",
       "    import { render, ColoredTokens } from \"https://unpkg.com/circuitsvis@1.43.3/dist/cdn/esm.js\";\n",
       "    render(\n",
       "      \"circuits-vis-1f0da468-72a6\",\n",
       "      ColoredTokens,\n",
       "      {\"tokens\": [\"Which\", \" of\", \" these\", \" people\", \" is\", \" a\", \" politician\", \" or\", \" a\", \" scientist\", \"?\\n\", \"options\", \":\", \" Michael\", \" Jordan\", \",\", \" Serena\", \" Williams\", \",\", \" Nikki\", \" Haley\", \",\", \" Mike\", \" Tyson\", \",\", \" Carl\", \" S\", \"agan\", \",\", \" Tom\", \" Cruise\", \"\\n\", \"Answer\", \":\"], \"values\": [0.0050048828125, 0.0001010894775390625, 3.3855438232421875e-05, 0.000621795654296875, 6.532669067382812e-05, 0.00046539306640625, 0.01043701171875, 0.00173187255859375, 0.0017852783203125, 0.0517578125, 0.00180816650390625, 2.193450927734375e-05, 3.9577484130859375e-05, 0.00262451171875, 0.0076904296875, 0.00457763671875, 0.0164794921875, 0.0152587890625, 0.00506591796875, 0.0028839111328125, 0.3125, 0.1181640625, 0.0011749267578125, 0.00457763671875, 0.0021514892578125, 0.0164794921875, 0.0003509521484375, 0.275390625, 0.1181640625, 0.000274658203125, 0.00860595703125, 0.002166748046875, 2.4080276489257812e-05, 0.000743865966796875]}\n",
       "    )\n",
       "    </script>"
      ],
      "text/plain": [
       "<circuitsvis.utils.render.RenderedHTML at 0x7fa5679a1d50>"
      ]
     },
     "metadata": {},
     "output_type": "display_data"
    },
    {
     "name": "stdout",
     "output_type": "stream",
     "text": [
      "2025-08-01 14:45:31 __main__ INFO     Layer: 39, Head: 40\n"
     ]
    },
    {
     "data": {
      "text/html": [
       "<div id=\"circuits-vis-08c7c1b2-ff21\" style=\"margin: 15px 0;\"/>\n",
       "    <script crossorigin type=\"module\">\n",
       "    import { render, ColoredTokens } from \"https://unpkg.com/circuitsvis@1.43.3/dist/cdn/esm.js\";\n",
       "    render(\n",
       "      \"circuits-vis-08c7c1b2-ff21\",\n",
       "      ColoredTokens,\n",
       "      {\"tokens\": [\"Which\", \" of\", \" these\", \" people\", \" is\", \" a\", \" politician\", \" or\", \" a\", \" scientist\", \"?\\n\", \"options\", \":\", \" Michael\", \" Jordan\", \",\", \" Serena\", \" Williams\", \",\", \" Nikki\", \" Haley\", \",\", \" Mike\", \" Tyson\", \",\", \" Carl\", \" S\", \"agan\", \",\", \" Tom\", \" Cruise\", \"\\n\", \"Answer\", \":\"], \"values\": [0.0106201171875, 0.005462646484375, 0.0003833770751953125, 0.00311279296875, 0.00341796875, 0.00640869140625, 0.02392578125, 0.0106201171875, 0.0026397705078125, 0.0255126953125, 0.01806640625, 0.000240325927734375, 0.000949859619140625, 0.004486083984375, 0.0003490447998046875, 0.0024871826171875, 0.003143310546875, 0.00244140625, 0.0079345703125, 0.06787109375, 0.337890625, 0.2890625, 0.0031585693359375, 0.00016498565673828125, 0.00173187255859375, 0.021240234375, 0.0023345947265625, 0.041748046875, 0.05517578125, 0.0003337860107421875, 0.000263214111328125, 0.001983642578125, 0.000865936279296875, 0.01519775390625]}\n",
       "    )\n",
       "    </script>"
      ],
      "text/plain": [
       "<circuitsvis.utils.render.RenderedHTML at 0x7fa4e02817d0>"
      ]
     },
     "metadata": {},
     "output_type": "display_data"
    },
    {
     "name": "stdout",
     "output_type": "stream",
     "text": [
      "2025-08-01 14:45:31 __main__ INFO     Layer: 42, Head: 30\n"
     ]
    },
    {
     "data": {
      "text/html": [
       "<div id=\"circuits-vis-2c2eca86-fb49\" style=\"margin: 15px 0;\"/>\n",
       "    <script crossorigin type=\"module\">\n",
       "    import { render, ColoredTokens } from \"https://unpkg.com/circuitsvis@1.43.3/dist/cdn/esm.js\";\n",
       "    render(\n",
       "      \"circuits-vis-2c2eca86-fb49\",\n",
       "      ColoredTokens,\n",
       "      {\"tokens\": [\"Which\", \" of\", \" these\", \" people\", \" is\", \" a\", \" politician\", \" or\", \" a\", \" scientist\", \"?\\n\", \"options\", \":\", \" Michael\", \" Jordan\", \",\", \" Serena\", \" Williams\", \",\", \" Nikki\", \" Haley\", \",\", \" Mike\", \" Tyson\", \",\", \" Carl\", \" S\", \"agan\", \",\", \" Tom\", \" Cruise\", \"\\n\", \"Answer\", \":\"], \"values\": [0.0069580078125, 0.00103759765625, 0.0010986328125, 0.0026397705078125, 0.0034942626953125, 0.005950927734375, 0.00799560546875, 0.0096435546875, 0.00469970703125, 0.0194091796875, 0.007080078125, 0.0004177093505859375, 0.0023345947265625, 0.005157470703125, 0.0027618408203125, 0.004425048828125, 0.0024871826171875, 0.006744384765625, 0.00811767578125, 0.042236328125, 0.353515625, 0.052001953125, 0.0052490234375, 0.00152587890625, 0.00634765625, 0.01312255859375, 0.018798828125, 0.0673828125, 0.0257568359375, 0.00154876708984375, 0.00103759765625, 0.0068359375, 0.000782012939453125, 0.0069580078125]}\n",
       "    )\n",
       "    </script>"
      ],
      "text/plain": [
       "<circuitsvis.utils.render.RenderedHTML at 0x7fa569ba2b10>"
      ]
     },
     "metadata": {},
     "output_type": "display_data"
    },
    {
     "name": "stdout",
     "output_type": "stream",
     "text": [
      "2025-08-01 14:45:31 __main__ INFO     Layer: 47, Head: 18\n"
     ]
    },
    {
     "data": {
      "text/html": [
       "<div id=\"circuits-vis-d065fadc-6157\" style=\"margin: 15px 0;\"/>\n",
       "    <script crossorigin type=\"module\">\n",
       "    import { render, ColoredTokens } from \"https://unpkg.com/circuitsvis@1.43.3/dist/cdn/esm.js\";\n",
       "    render(\n",
       "      \"circuits-vis-d065fadc-6157\",\n",
       "      ColoredTokens,\n",
       "      {\"tokens\": [\"Which\", \" of\", \" these\", \" people\", \" is\", \" a\", \" politician\", \" or\", \" a\", \" scientist\", \"?\\n\", \"options\", \":\", \" Michael\", \" Jordan\", \",\", \" Serena\", \" Williams\", \",\", \" Nikki\", \" Haley\", \",\", \" Mike\", \" Tyson\", \",\", \" Carl\", \" S\", \"agan\", \",\", \" Tom\", \" Cruise\", \"\\n\", \"Answer\", \":\"], \"values\": [0.007720947265625, 0.002685546875, 0.0006103515625, 0.00067138671875, 0.007537841796875, 0.00946044921875, 0.004364013671875, 0.0322265625, 0.009033203125, 0.00726318359375, 0.016357421875, 0.00013637542724609375, 0.005889892578125, 0.00064849853515625, 0.0001983642578125, 0.008544921875, 0.0002613067626953125, 8.535385131835938e-05, 0.01434326171875, 0.326171875, 0.08447265625, 0.150390625, 0.0009002685546875, 4.291534423828125e-05, 0.00811767578125, 0.024169921875, 0.02685546875, 0.01483154296875, 0.04833984375, 0.0004749298095703125, 7.534027099609375e-05, 0.00860595703125, 0.00122833251953125, 0.012451171875]}\n",
       "    )\n",
       "    </script>"
      ],
      "text/plain": [
       "<circuitsvis.utils.render.RenderedHTML at 0x7fa4c01d5790>"
      ]
     },
     "metadata": {},
     "output_type": "display_data"
    },
    {
     "name": "stdout",
     "output_type": "stream",
     "text": [
      "2025-08-01 14:45:31 __main__ INFO     Layer: 52, Head: 58\n"
     ]
    },
    {
     "data": {
      "text/html": [
       "<div id=\"circuits-vis-1b1fa852-a821\" style=\"margin: 15px 0;\"/>\n",
       "    <script crossorigin type=\"module\">\n",
       "    import { render, ColoredTokens } from \"https://unpkg.com/circuitsvis@1.43.3/dist/cdn/esm.js\";\n",
       "    render(\n",
       "      \"circuits-vis-1b1fa852-a821\",\n",
       "      ColoredTokens,\n",
       "      {\"tokens\": [\"Which\", \" of\", \" these\", \" people\", \" is\", \" a\", \" politician\", \" or\", \" a\", \" scientist\", \"?\\n\", \"options\", \":\", \" Michael\", \" Jordan\", \",\", \" Serena\", \" Williams\", \",\", \" Nikki\", \" Haley\", \",\", \" Mike\", \" Tyson\", \",\", \" Carl\", \" S\", \"agan\", \",\", \" Tom\", \" Cruise\", \"\\n\", \"Answer\", \":\"], \"values\": [0.00592041015625, 0.0007476806640625, 0.000171661376953125, 0.0002498626708984375, 0.0014190673828125, 0.003509521484375, 0.004241943359375, 0.0146484375, 0.00408935546875, 0.0167236328125, 0.002166748046875, 9.119510650634766e-06, 0.0011749267578125, 0.0004825592041015625, 0.000797271728515625, 0.0030975341796875, 0.00010776519775390625, 0.000133514404296875, 0.00543212890625, 0.064453125, 0.31640625, 0.0537109375, 0.0002841949462890625, 9.489059448242188e-05, 0.00506591796875, 0.032470703125, 0.050048828125, 0.1943359375, 0.017333984375, 0.00011444091796875, 0.00012969970703125, 0.002532958984375, 0.00022792816162109375, 0.0152587890625]}\n",
       "    )\n",
       "    </script>"
      ],
      "text/plain": [
       "<circuitsvis.utils.render.RenderedHTML at 0x7fa56797ae10>"
      ]
     },
     "metadata": {},
     "output_type": "display_data"
    }
   ],
   "source": [
    "options = [\"Michael Jordan\", \"Serena Williams\", \"Nikki Haley\", \"Mike Tyson\", \"Carl Sagan\", \"Tom Cruise\"]\n",
    "prompt_template = \"\"\"Which of these people is a politician or a scientist?\n",
    "options: {}\n",
    "Answer:\"\"\"\n",
    "\n",
    "prompt = prompt_template.format(\n",
    "    \", \".join(options)\n",
    ")\n",
    "print(prompt)\n",
    "\n",
    "verify = verify_head_patterns(\n",
    "    prompt=prompt,\n",
    "    options=options,\n",
    "    pivot=\"politician or scientist\",\n",
    "    mt=mt,\n",
    "    value_weighted=False,\n",
    "    generate_full_answer=True,\n",
    ")"
   ]
  },
  {
   "cell_type": "code",
   "execution_count": 36,
   "id": "414081ff",
   "metadata": {},
   "outputs": [
    {
     "name": "stdout",
     "output_type": "stream",
     "text": [
      "2025-08-01 14:45:48 __main__ DEBUG    Michael Jordan | opt_range=(14, 16) | bare_opt_range=(4, 6) | \" Michael Jordan\"\n"
     ]
    },
    {
     "name": "stdout",
     "output_type": "stream",
     "text": [
      "2025-08-01 14:45:48 __main__ DEBUG    Serena Williams | opt_range=(17, 19) | bare_opt_range=(4, 6) | \" Serena Williams\"\n",
      "2025-08-01 14:45:48 __main__ DEBUG    Nikki Haley | opt_range=(20, 22) | bare_opt_range=(4, 6) | \" Nikki Haley\"\n",
      "2025-08-01 14:45:48 __main__ DEBUG    Mike Tyson | opt_range=(23, 25) | bare_opt_range=(4, 6) | \" Mike Tyson\"\n",
      "2025-08-01 14:45:48 __main__ DEBUG    Carl Sagan | opt_range=(26, 29) | bare_opt_range=(4, 7) | \" Carl Sagan\"\n",
      "2025-08-01 14:45:49 __main__ DEBUG    Tom Cruise | opt_range=(30, 32) | bare_opt_range=(4, 6) | \" Tom Cruise\"\n",
      "2025-08-01 14:45:53 __main__ DEBUG    Predictions: ['\" Nikki\"[70207] (p=0.855, logit=20.625)', '\" Carl\"[22770] (p=0.048, logit=17.750)', '\" The\"[578] (p=0.016, logit=16.625)', '\" \"[220] (p=0.007, logit=15.875)', '\" Polit\"[16307] (p=0.007, logit=15.812)']\n",
      "layer=35\n"
     ]
    },
    {
     "data": {
      "text/html": [
       "<div id=\"circuits-vis-b7cb136a-c68f\" style=\"margin: 15px 0;\"/>\n",
       "    <script crossorigin type=\"module\">\n",
       "    import { render, ColoredTokens } from \"https://unpkg.com/circuitsvis@1.43.3/dist/cdn/esm.js\";\n",
       "    render(\n",
       "      \"circuits-vis-b7cb136a-c68f\",\n",
       "      ColoredTokens,\n",
       "      {\"tokens\": [\"Which\", \" of\", \" these\", \" people\", \" is\", \" a\", \" politician\", \" or\", \" a\", \" scientist\", \"?\\n\", \"options\", \":\", \" Michael\", \" Jordan\", \",\", \" Serena\", \" Williams\", \",\", \" Nikki\", \" Haley\", \",\", \" Mike\", \" Tyson\", \",\", \" Carl\", \" S\", \"agan\", \",\", \" Tom\", \" Cruise\", \"\\n\", \"Answer\", \":\"], \"values\": [0.02846086025238037, 0.007197193801403046, 0.004899423569440842, 0.01264306902885437, 0.008174508810043335, 0.005327384918928146, 0.011971741914749146, 0.011030323803424835, 0.0037977322936058044, 0.023648500442504883, 0.029430270195007324, 0.004923336207866669, 0.0061452873051166534, 0.003416284918785095, 0.010969191789627075, 0.020560890436172485, 0.006416343152523041, 0.010196506977081299, 0.0098419189453125, 0.00357012078166008, 0.02223643660545349, 0.038047462701797485, 0.002669716253876686, 0.005976364016532898, 0.008928298950195312, 0.005182178691029549, 0.009724318981170654, 0.024598978459835052, 0.02844683825969696, 0.0017713382840156555, 0.0055191367864608765, 0.02751302719116211, 0.016186468303203583, 0.04066187143325806]}\n",
       "    )\n",
       "    </script>"
      ],
      "text/plain": [
       "<circuitsvis.utils.render.RenderedHTML at 0x7fa5688b6c10>"
      ]
     },
     "metadata": {},
     "output_type": "display_data"
    },
    {
     "name": "stdout",
     "output_type": "stream",
     "text": [
      "--------------------------------------------------------------------------------\n",
      "layer=47\n"
     ]
    },
    {
     "data": {
      "text/html": [
       "<div id=\"circuits-vis-b87c9afc-bbae\" style=\"margin: 15px 0;\"/>\n",
       "    <script crossorigin type=\"module\">\n",
       "    import { render, ColoredTokens } from \"https://unpkg.com/circuitsvis@1.43.3/dist/cdn/esm.js\";\n",
       "    render(\n",
       "      \"circuits-vis-b87c9afc-bbae\",\n",
       "      ColoredTokens,\n",
       "      {\"tokens\": [\"Which\", \" of\", \" these\", \" people\", \" is\", \" a\", \" politician\", \" or\", \" a\", \" scientist\", \"?\\n\", \"options\", \":\", \" Michael\", \" Jordan\", \",\", \" Serena\", \" Williams\", \",\", \" Nikki\", \" Haley\", \",\", \" Mike\", \" Tyson\", \",\", \" Carl\", \" S\", \"agan\", \",\", \" Tom\", \" Cruise\", \"\\n\", \"Answer\", \":\"], \"values\": [0.002837143838405609, 0.0011085793375968933, 0.00051850825548172, 0.0005913004279136658, 0.0006109257228672504, 0.0007919860072433949, 0.0021429508924484253, 0.001630157232284546, 0.0005404427647590637, 0.0019009262323379517, 0.002257145941257477, 0.0010908767580986023, 0.0011101998388767242, 0.0015065521001815796, 0.0014805197715759277, 0.0010799504816532135, 0.0010720863938331604, 0.0005246587097644806, 0.0008746646344661713, 0.015514038503170013, 0.004233196377754211, 0.004272596910595894, 0.0007397569715976715, 0.0005827760323882103, 0.0005563469603657722, 0.0018148347735404968, 0.0011629331856966019, 0.002676263451576233, 0.0018705222755670547, 0.0004184730350971222, 0.0008692648261785507, 0.004131287336349487, 0.006836354732513428, 0.004231050610542297]}\n",
       "    )\n",
       "    </script>"
      ],
      "text/plain": [
       "<circuitsvis.utils.render.RenderedHTML at 0x7fa56797bcd0>"
      ]
     },
     "metadata": {},
     "output_type": "display_data"
    },
    {
     "name": "stdout",
     "output_type": "stream",
     "text": [
      "--------------------------------------------------------------------------------\n",
      "layer=52\n"
     ]
    },
    {
     "data": {
      "text/html": [
       "<div id=\"circuits-vis-edae40c5-4d1e\" style=\"margin: 15px 0;\"/>\n",
       "    <script crossorigin type=\"module\">\n",
       "    import { render, ColoredTokens } from \"https://unpkg.com/circuitsvis@1.43.3/dist/cdn/esm.js\";\n",
       "    render(\n",
       "      \"circuits-vis-edae40c5-4d1e\",\n",
       "      ColoredTokens,\n",
       "      {\"tokens\": [\"Which\", \" of\", \" these\", \" people\", \" is\", \" a\", \" politician\", \" or\", \" a\", \" scientist\", \"?\\n\", \"options\", \":\", \" Michael\", \" Jordan\", \",\", \" Serena\", \" Williams\", \",\", \" Nikki\", \" Haley\", \",\", \" Mike\", \" Tyson\", \",\", \" Carl\", \" S\", \"agan\", \",\", \" Tom\", \" Cruise\", \"\\n\", \"Answer\", \":\"], \"values\": [0.005594223737716675, 0.0039954110980033875, 0.0016918517649173737, 0.0010757111012935638, 0.0016648583114147186, 0.0025010108947753906, 0.0035443007946014404, 0.0022929757833480835, 0.0010567381978034973, 0.00373058021068573, 0.006652235984802246, 0.005209146998822689, 0.005598820745944977, 0.0030700862407684326, 0.0013251230120658875, 0.0030649080872535706, 0.003129303455352783, 0.0009817369282245636, 0.001986071467399597, 0.02023419737815857, 0.009066909551620483, 0.005291495472192764, 0.0013938099145889282, 0.000801868038251996, 0.0011220667511224747, 0.00970466062426567, 0.0016112476587295532, 0.0058405958116054535, 0.0035826433449983597, 0.0014705955982208252, 0.0009632695000618696, 0.013250887393951416, 0.01714932918548584, 0.01609283685684204]}\n",
       "    )\n",
       "    </script>"
      ],
      "text/plain": [
       "<circuitsvis.utils.render.RenderedHTML at 0x7fa567f14a50>"
      ]
     },
     "metadata": {},
     "output_type": "display_data"
    },
    {
     "name": "stdout",
     "output_type": "stream",
     "text": [
      "--------------------------------------------------------------------------------\n",
      "======================================================================\n",
      "2025-08-01 14:45:54 __main__ INFO     Layer: 33, Head: 45\n"
     ]
    },
    {
     "data": {
      "text/html": [
       "<div id=\"circuits-vis-af92027b-828a\" style=\"margin: 15px 0;\"/>\n",
       "    <script crossorigin type=\"module\">\n",
       "    import { render, ColoredTokens } from \"https://unpkg.com/circuitsvis@1.43.3/dist/cdn/esm.js\";\n",
       "    render(\n",
       "      \"circuits-vis-af92027b-828a\",\n",
       "      ColoredTokens,\n",
       "      {\"tokens\": [\"Which\", \" of\", \" these\", \" people\", \" is\", \" a\", \" politician\", \" or\", \" a\", \" scientist\", \"?\\n\", \"options\", \":\", \" Michael\", \" Jordan\", \",\", \" Serena\", \" Williams\", \",\", \" Nikki\", \" Haley\", \",\", \" Mike\", \" Tyson\", \",\", \" Carl\", \" S\", \"agan\", \",\", \" Tom\", \" Cruise\", \"\\n\", \"Answer\", \":\"], \"values\": [0.0179443359375, 0.00634765625, 0.0045166015625, 0.00494384765625, 0.0040283203125, 0.002777099609375, 0.01080322265625, 0.01611328125, 0.0057373046875, 0.031982421875, 0.021728515625, 0.006866455078125, 0.010009765625, 0.00518798828125, 0.00408935546875, 0.0172119140625, 0.0145263671875, 0.0037994384765625, 0.0135498046875, 0.042236328125, 0.06689453125, 0.1689453125, 0.00823974609375, 0.00634765625, 0.0067138671875, 0.0186767578125, 0.00830078125, 0.09765625, 0.07177734375, 0.0025634765625, 0.003570556640625, 0.0279541015625, 0.004425048828125, 0.0301513671875]}\n",
       "    )\n",
       "    </script>"
      ],
      "text/plain": [
       "<circuitsvis.utils.render.RenderedHTML at 0x7fa4a0116f10>"
      ]
     },
     "metadata": {},
     "output_type": "display_data"
    },
    {
     "name": "stdout",
     "output_type": "stream",
     "text": [
      "2025-08-01 14:45:54 __main__ INFO     Layer: 33, Head: 18\n"
     ]
    },
    {
     "data": {
      "text/html": [
       "<div id=\"circuits-vis-c3dee3f6-e3fb\" style=\"margin: 15px 0;\"/>\n",
       "    <script crossorigin type=\"module\">\n",
       "    import { render, ColoredTokens } from \"https://unpkg.com/circuitsvis@1.43.3/dist/cdn/esm.js\";\n",
       "    render(\n",
       "      \"circuits-vis-c3dee3f6-e3fb\",\n",
       "      ColoredTokens,\n",
       "      {\"tokens\": [\"Which\", \" of\", \" these\", \" people\", \" is\", \" a\", \" politician\", \" or\", \" a\", \" scientist\", \"?\\n\", \"options\", \":\", \" Michael\", \" Jordan\", \",\", \" Serena\", \" Williams\", \",\", \" Nikki\", \" Haley\", \",\", \" Mike\", \" Tyson\", \",\", \" Carl\", \" S\", \"agan\", \",\", \" Tom\", \" Cruise\", \"\\n\", \"Answer\", \":\"], \"values\": [0.01953125, 0.002288818359375, 0.00341796875, 0.0177001953125, 0.01397705078125, 0.0103759765625, 0.0164794921875, 0.0252685546875, 0.0093994140625, 0.0269775390625, 0.033935546875, 0.00081634521484375, 0.00183868408203125, 0.01141357421875, 0.0206298828125, 0.07373046875, 0.007232666015625, 0.010498046875, 0.02099609375, 0.0205078125, 0.037841796875, 0.32421875, 0.00836181640625, 0.0031890869140625, 0.01312255859375, 0.0238037109375, 0.010498046875, 0.022705078125, 0.083984375, 0.0019989013671875, 0.0027008056640625, 0.0106201171875, 0.000896453857421875, 0.01043701171875]}\n",
       "    )\n",
       "    </script>"
      ],
      "text/plain": [
       "<circuitsvis.utils.render.RenderedHTML at 0x7fa4c0150490>"
      ]
     },
     "metadata": {},
     "output_type": "display_data"
    },
    {
     "name": "stdout",
     "output_type": "stream",
     "text": [
      "2025-08-01 14:45:54 __main__ INFO     Layer: 34, Head: 1\n"
     ]
    },
    {
     "data": {
      "text/html": [
       "<div id=\"circuits-vis-9babe090-177c\" style=\"margin: 15px 0;\"/>\n",
       "    <script crossorigin type=\"module\">\n",
       "    import { render, ColoredTokens } from \"https://unpkg.com/circuitsvis@1.43.3/dist/cdn/esm.js\";\n",
       "    render(\n",
       "      \"circuits-vis-9babe090-177c\",\n",
       "      ColoredTokens,\n",
       "      {\"tokens\": [\"Which\", \" of\", \" these\", \" people\", \" is\", \" a\", \" politician\", \" or\", \" a\", \" scientist\", \"?\\n\", \"options\", \":\", \" Michael\", \" Jordan\", \",\", \" Serena\", \" Williams\", \",\", \" Nikki\", \" Haley\", \",\", \" Mike\", \" Tyson\", \",\", \" Carl\", \" S\", \"agan\", \",\", \" Tom\", \" Cruise\", \"\\n\", \"Answer\", \":\"], \"values\": [0.0181884765625, 0.000701904296875, 5.507469177246094e-05, 0.0010833740234375, 0.000514984130859375, 0.004547119140625, 0.006011962890625, 0.01251220703125, 0.002197265625, 0.0098876953125, 0.00830078125, 8.535385131835938e-05, 0.000690460205078125, 0.0011749267578125, 1.3887882232666016e-05, 7.772445678710938e-05, 6.246566772460938e-05, 5.602836608886719e-06, 0.0028839111328125, 0.030517578125, 0.3359375, 0.26171875, 0.00183868408203125, 2.4139881134033203e-06, 5.173683166503906e-05, 0.01214599609375, 0.0084228515625, 0.0299072265625, 0.1142578125, 6.437301635742188e-05, 9.5367431640625e-06, 0.002227783203125, 0.000278472900390625, 0.03515625]}\n",
       "    )\n",
       "    </script>"
      ],
      "text/plain": [
       "<circuitsvis.utils.render.RenderedHTML at 0x7fa5679d1550>"
      ]
     },
     "metadata": {},
     "output_type": "display_data"
    },
    {
     "name": "stdout",
     "output_type": "stream",
     "text": [
      "2025-08-01 14:45:54 __main__ INFO     Layer: 34, Head: 6\n"
     ]
    },
    {
     "data": {
      "text/html": [
       "<div id=\"circuits-vis-05cc6b7a-adb4\" style=\"margin: 15px 0;\"/>\n",
       "    <script crossorigin type=\"module\">\n",
       "    import { render, ColoredTokens } from \"https://unpkg.com/circuitsvis@1.43.3/dist/cdn/esm.js\";\n",
       "    render(\n",
       "      \"circuits-vis-05cc6b7a-adb4\",\n",
       "      ColoredTokens,\n",
       "      {\"tokens\": [\"Which\", \" of\", \" these\", \" people\", \" is\", \" a\", \" politician\", \" or\", \" a\", \" scientist\", \"?\\n\", \"options\", \":\", \" Michael\", \" Jordan\", \",\", \" Serena\", \" Williams\", \",\", \" Nikki\", \" Haley\", \",\", \" Mike\", \" Tyson\", \",\", \" Carl\", \" S\", \"agan\", \",\", \" Tom\", \" Cruise\", \"\\n\", \"Answer\", \":\"], \"values\": [0.03662109375, 0.002471923828125, 0.000286102294921875, 0.00145721435546875, 0.0014801025390625, 0.00726318359375, 0.00689697265625, 0.00994873046875, 0.00469970703125, 0.00933837890625, 0.01025390625, 0.000335693359375, 0.0042724609375, 0.01171875, 3.0159950256347656e-05, 0.00014400482177734375, 8.726119995117188e-05, 1.2218952178955078e-05, 0.005950927734375, 0.032958984375, 0.08544921875, 0.1279296875, 0.0037689208984375, 1.5497207641601562e-06, 4.5299530029296875e-05, 0.00738525390625, 0.00604248046875, 0.00970458984375, 0.0218505859375, 7.724761962890625e-05, 1.2889504432678223e-06, 0.00136566162109375, 0.00075531005859375, 0.037841796875]}\n",
       "    )\n",
       "    </script>"
      ],
      "text/plain": [
       "<circuitsvis.utils.render.RenderedHTML at 0x7fa5400f90d0>"
      ]
     },
     "metadata": {},
     "output_type": "display_data"
    },
    {
     "name": "stdout",
     "output_type": "stream",
     "text": [
      "2025-08-01 14:45:54 __main__ INFO     Layer: 34, Head: 7\n"
     ]
    },
    {
     "data": {
      "text/html": [
       "<div id=\"circuits-vis-03c7ee42-82e0\" style=\"margin: 15px 0;\"/>\n",
       "    <script crossorigin type=\"module\">\n",
       "    import { render, ColoredTokens } from \"https://unpkg.com/circuitsvis@1.43.3/dist/cdn/esm.js\";\n",
       "    render(\n",
       "      \"circuits-vis-03c7ee42-82e0\",\n",
       "      ColoredTokens,\n",
       "      {\"tokens\": [\"Which\", \" of\", \" these\", \" people\", \" is\", \" a\", \" politician\", \" or\", \" a\", \" scientist\", \"?\\n\", \"options\", \":\", \" Michael\", \" Jordan\", \",\", \" Serena\", \" Williams\", \",\", \" Nikki\", \" Haley\", \",\", \" Mike\", \" Tyson\", \",\", \" Carl\", \" S\", \"agan\", \",\", \" Tom\", \" Cruise\", \"\\n\", \"Answer\", \":\"], \"values\": [0.04443359375, 0.0018768310546875, 0.000530242919921875, 0.0018768310546875, 0.001739501953125, 0.002960205078125, 0.00634765625, 0.007415771484375, 0.0018463134765625, 0.006317138671875, 0.01116943359375, 0.000690460205078125, 0.004425048828125, 0.009521484375, 0.00072479248046875, 0.00168609619140625, 0.00103759765625, 0.0004673004150390625, 0.00592041015625, 0.0181884765625, 0.154296875, 0.19140625, 0.00286865234375, 0.00015163421630859375, 0.00103759765625, 0.01165771484375, 0.01031494140625, 0.052490234375, 0.0751953125, 0.000759124755859375, 0.0003528594970703125, 0.0225830078125, 0.00494384765625, 0.138671875]}\n",
       "    )\n",
       "    </script>"
      ],
      "text/plain": [
       "<circuitsvis.utils.render.RenderedHTML at 0x7fa5400f90d0>"
      ]
     },
     "metadata": {},
     "output_type": "display_data"
    },
    {
     "name": "stdout",
     "output_type": "stream",
     "text": [
      "2025-08-01 14:45:54 __main__ INFO     Layer: 35, Head: 19\n"
     ]
    },
    {
     "data": {
      "text/html": [
       "<div id=\"circuits-vis-1792ca4c-dfea\" style=\"margin: 15px 0;\"/>\n",
       "    <script crossorigin type=\"module\">\n",
       "    import { render, ColoredTokens } from \"https://unpkg.com/circuitsvis@1.43.3/dist/cdn/esm.js\";\n",
       "    render(\n",
       "      \"circuits-vis-1792ca4c-dfea\",\n",
       "      ColoredTokens,\n",
       "      {\"tokens\": [\"Which\", \" of\", \" these\", \" people\", \" is\", \" a\", \" politician\", \" or\", \" a\", \" scientist\", \"?\\n\", \"options\", \":\", \" Michael\", \" Jordan\", \",\", \" Serena\", \" Williams\", \",\", \" Nikki\", \" Haley\", \",\", \" Mike\", \" Tyson\", \",\", \" Carl\", \" S\", \"agan\", \",\", \" Tom\", \" Cruise\", \"\\n\", \"Answer\", \":\"], \"values\": [0.0052490234375, 0.00011587142944335938, 3.695487976074219e-05, 0.0006866455078125, 7.009506225585938e-05, 0.000507354736328125, 0.0113525390625, 0.002044677734375, 0.002105712890625, 0.06494140625, 0.00186920166015625, 2.2411346435546875e-05, 4.124641418457031e-05, 0.00102996826171875, 0.007781982421875, 0.007110595703125, 0.0166015625, 0.015380859375, 0.00750732421875, 0.0026092529296875, 0.2734375, 0.1171875, 0.0015106201171875, 0.00482177734375, 0.00213623046875, 0.0174560546875, 0.000415802001953125, 0.291015625, 0.12109375, 0.000370025634765625, 0.00860595703125, 0.0026702880859375, 2.6226043701171875e-05, 0.00080108642578125]}\n",
       "    )\n",
       "    </script>"
      ],
      "text/plain": [
       "<circuitsvis.utils.render.RenderedHTML at 0x7fa4c0158890>"
      ]
     },
     "metadata": {},
     "output_type": "display_data"
    },
    {
     "name": "stdout",
     "output_type": "stream",
     "text": [
      "2025-08-01 14:45:54 __main__ INFO     Layer: 39, Head: 40\n"
     ]
    },
    {
     "data": {
      "text/html": [
       "<div id=\"circuits-vis-598e730d-158e\" style=\"margin: 15px 0;\"/>\n",
       "    <script crossorigin type=\"module\">\n",
       "    import { render, ColoredTokens } from \"https://unpkg.com/circuitsvis@1.43.3/dist/cdn/esm.js\";\n",
       "    render(\n",
       "      \"circuits-vis-598e730d-158e\",\n",
       "      ColoredTokens,\n",
       "      {\"tokens\": [\"Which\", \" of\", \" these\", \" people\", \" is\", \" a\", \" politician\", \" or\", \" a\", \" scientist\", \"?\\n\", \"options\", \":\", \" Michael\", \" Jordan\", \",\", \" Serena\", \" Williams\", \",\", \" Nikki\", \" Haley\", \",\", \" Mike\", \" Tyson\", \",\", \" Carl\", \" S\", \"agan\", \",\", \" Tom\", \" Cruise\", \"\\n\", \"Answer\", \":\"], \"values\": [0.01080322265625, 0.006195068359375, 0.00043487548828125, 0.00372314453125, 0.00372314453125, 0.0068359375, 0.029052734375, 0.01263427734375, 0.002838134765625, 0.0279541015625, 0.0201416015625, 0.0003070831298828125, 0.001129150390625, 0.00445556640625, 0.0009765625, 0.00335693359375, 0.003662109375, 0.002349853515625, 0.00750732421875, 0.0595703125, 0.322265625, 0.306640625, 0.0033111572265625, 0.000225067138671875, 0.001678466796875, 0.01806640625, 0.0023040771484375, 0.03759765625, 0.049072265625, 0.000400543212890625, 0.0003070831298828125, 0.002288818359375, 0.000949859619140625, 0.015869140625]}\n",
       "    )\n",
       "    </script>"
      ],
      "text/plain": [
       "<circuitsvis.utils.render.RenderedHTML at 0x7fa4a049c210>"
      ]
     },
     "metadata": {},
     "output_type": "display_data"
    },
    {
     "name": "stdout",
     "output_type": "stream",
     "text": [
      "2025-08-01 14:45:55 __main__ INFO     Layer: 42, Head: 30\n"
     ]
    },
    {
     "data": {
      "text/html": [
       "<div id=\"circuits-vis-03bfd5bc-4b27\" style=\"margin: 15px 0;\"/>\n",
       "    <script crossorigin type=\"module\">\n",
       "    import { render, ColoredTokens } from \"https://unpkg.com/circuitsvis@1.43.3/dist/cdn/esm.js\";\n",
       "    render(\n",
       "      \"circuits-vis-03bfd5bc-4b27\",\n",
       "      ColoredTokens,\n",
       "      {\"tokens\": [\"Which\", \" of\", \" these\", \" people\", \" is\", \" a\", \" politician\", \" or\", \" a\", \" scientist\", \"?\\n\", \"options\", \":\", \" Michael\", \" Jordan\", \",\", \" Serena\", \" Williams\", \",\", \" Nikki\", \" Haley\", \",\", \" Mike\", \" Tyson\", \",\", \" Carl\", \" S\", \"agan\", \",\", \" Tom\", \" Cruise\", \"\\n\", \"Answer\", \":\"], \"values\": [0.007171630859375, 0.0010833740234375, 0.0011138916015625, 0.0028533935546875, 0.0034332275390625, 0.00604248046875, 0.0089111328125, 0.00927734375, 0.004486083984375, 0.02099609375, 0.006927490234375, 0.00046539306640625, 0.0023651123046875, 0.006622314453125, 0.0047607421875, 0.004486083984375, 0.003082275390625, 0.0068359375, 0.00823974609375, 0.045166015625, 0.34765625, 0.056884765625, 0.0068359375, 0.0017852783203125, 0.005859375, 0.01611328125, 0.0186767578125, 0.064453125, 0.0260009765625, 0.002044677734375, 0.00104522705078125, 0.00653076171875, 0.000720977783203125, 0.0067138671875]}\n",
       "    )\n",
       "    </script>"
      ],
      "text/plain": [
       "<circuitsvis.utils.render.RenderedHTML at 0x7fa567ee7750>"
      ]
     },
     "metadata": {},
     "output_type": "display_data"
    },
    {
     "name": "stdout",
     "output_type": "stream",
     "text": [
      "2025-08-01 14:45:55 __main__ INFO     Layer: 47, Head: 18\n"
     ]
    },
    {
     "data": {
      "text/html": [
       "<div id=\"circuits-vis-5362b9fa-db75\" style=\"margin: 15px 0;\"/>\n",
       "    <script crossorigin type=\"module\">\n",
       "    import { render, ColoredTokens } from \"https://unpkg.com/circuitsvis@1.43.3/dist/cdn/esm.js\";\n",
       "    render(\n",
       "      \"circuits-vis-5362b9fa-db75\",\n",
       "      ColoredTokens,\n",
       "      {\"tokens\": [\"Which\", \" of\", \" these\", \" people\", \" is\", \" a\", \" politician\", \" or\", \" a\", \" scientist\", \"?\\n\", \"options\", \":\", \" Michael\", \" Jordan\", \",\", \" Serena\", \" Williams\", \",\", \" Nikki\", \" Haley\", \",\", \" Mike\", \" Tyson\", \",\", \" Carl\", \" S\", \"agan\", \",\", \" Tom\", \" Cruise\", \"\\n\", \"Answer\", \":\"], \"values\": [0.00634765625, 0.0020599365234375, 0.0004444122314453125, 0.000537872314453125, 0.005645751953125, 0.007537841796875, 0.004425048828125, 0.02587890625, 0.007080078125, 0.007080078125, 0.01275634765625, 0.00014495849609375, 0.00518798828125, 0.000858306884765625, 0.000335693359375, 0.007293701171875, 0.0003147125244140625, 7.963180541992188e-05, 0.01318359375, 0.375, 0.0849609375, 0.1455078125, 0.00141143798828125, 4.982948303222656e-05, 0.006011962890625, 0.0302734375, 0.0289306640625, 0.0140380859375, 0.045654296875, 0.0006561279296875, 7.963180541992188e-05, 0.008056640625, 0.00099945068359375, 0.0111083984375]}\n",
       "    )\n",
       "    </script>"
      ],
      "text/plain": [
       "<circuitsvis.utils.render.RenderedHTML at 0x7fa4c037a610>"
      ]
     },
     "metadata": {},
     "output_type": "display_data"
    },
    {
     "name": "stdout",
     "output_type": "stream",
     "text": [
      "2025-08-01 14:45:55 __main__ INFO     Layer: 52, Head: 58\n"
     ]
    },
    {
     "data": {
      "text/html": [
       "<div id=\"circuits-vis-cfe679c3-461e\" style=\"margin: 15px 0;\"/>\n",
       "    <script crossorigin type=\"module\">\n",
       "    import { render, ColoredTokens } from \"https://unpkg.com/circuitsvis@1.43.3/dist/cdn/esm.js\";\n",
       "    render(\n",
       "      \"circuits-vis-cfe679c3-461e\",\n",
       "      ColoredTokens,\n",
       "      {\"tokens\": [\"Which\", \" of\", \" these\", \" people\", \" is\", \" a\", \" politician\", \" or\", \" a\", \" scientist\", \"?\\n\", \"options\", \":\", \" Michael\", \" Jordan\", \",\", \" Serena\", \" Williams\", \",\", \" Nikki\", \" Haley\", \",\", \" Mike\", \" Tyson\", \",\", \" Carl\", \" S\", \"agan\", \",\", \" Tom\", \" Cruise\", \"\\n\", \"Answer\", \":\"], \"values\": [0.005615234375, 0.000637054443359375, 0.00015926361083984375, 0.00023174285888671875, 0.001312255859375, 0.003509521484375, 0.00457763671875, 0.01422119140625, 0.0036163330078125, 0.017822265625, 0.00182342529296875, 1.1861324310302734e-05, 0.001251220703125, 0.00077056884765625, 0.001739501953125, 0.0031890869140625, 0.0001163482666015625, 0.0001163482666015625, 0.00555419921875, 0.061767578125, 0.330078125, 0.054443359375, 0.00041961669921875, 0.0001163482666015625, 0.0037994384765625, 0.0380859375, 0.047119140625, 0.1943359375, 0.017333984375, 0.0001316070556640625, 0.0001277923583984375, 0.002227783203125, 0.00019741058349609375, 0.01373291015625]}\n",
       "    )\n",
       "    </script>"
      ],
      "text/plain": [
       "<circuitsvis.utils.render.RenderedHTML at 0x7fa4c030ff90>"
      ]
     },
     "metadata": {},
     "output_type": "display_data"
    },
    {
     "data": {
      "text/plain": [
       "[PredictedToken(token=' Nikki', prob=0.85546875, logit=20.625, token_id=70207, metadata=None),\n",
       " PredictedToken(token=' Carl', prob=0.04833984375, logit=17.75, token_id=22770, metadata=None),\n",
       " PredictedToken(token=' The', prob=0.0157470703125, logit=16.625, token_id=578, metadata=None),\n",
       " PredictedToken(token=' ', prob=0.007415771484375, logit=15.875, token_id=220, metadata=None),\n",
       " PredictedToken(token=' Polit', prob=0.0069580078125, logit=15.8125, token_id=16307, metadata=None)]"
      ]
     },
     "execution_count": 36,
     "metadata": {},
     "output_type": "execute_result"
    }
   ],
   "source": [
    "verify_ind = verify_head_patterns(\n",
    "    prompt=prompt,\n",
    "    options=options,\n",
    "    pivot=\"politician or scientist\",\n",
    "    mt=mt,\n",
    "    value_weighted=False,\n",
    "    generate_full_answer=False,\n",
    "    ablate_possible_ans_info_from_options=True,\n",
    ")\n",
    "verify_ind[\"predictions\"]"
   ]
  },
  {
   "cell_type": "code",
   "execution_count": 40,
   "id": "60e64440",
   "metadata": {},
   "outputs": [
    {
     "name": "stdout",
     "output_type": "stream",
     "text": [
      "46, 57, 55, 62, 39\n",
      "Which of these numbers is a multiple of 3?\n",
      "Ans:\n",
      "2025-08-01 14:48:36 __main__ DEBUG    Generated full answer: \" 57\n",
      "Explanation: 57 is a multiple of 3. \n",
      "A number is a multiple of 3 if the sum of its digits is\"\n",
      "2025-08-01 14:48:36 __main__ DEBUG    Predictions: ['\" \"[220] (p=0.809, logit=19.500)', '\" The\"[578] (p=0.031, logit=16.250)', '\" A\"[362] (p=0.031, logit=16.250)', '\" To\"[2057] (p=0.015, logit=15.500)', '\" All\"[2052] (p=0.007, logit=14.750)']\n",
      "layer=35\n"
     ]
    },
    {
     "data": {
      "text/html": [
       "<div id=\"circuits-vis-aeb6d70b-e83a\" style=\"margin: 15px 0;\"/>\n",
       "    <script crossorigin type=\"module\">\n",
       "    import { render, ColoredTokens } from \"https://unpkg.com/circuitsvis@1.43.3/dist/cdn/esm.js\";\n",
       "    render(\n",
       "      \"circuits-vis-aeb6d70b-e83a\",\n",
       "      ColoredTokens,\n",
       "      {\"tokens\": [\"46\", \",\", \" \", \"57\", \",\", \" \", \"55\", \",\", \" \", \"62\", \",\", \" \", \"39\", \"\\n\", \"Which\", \" of\", \" these\", \" numbers\", \" is\", \" a\", \" multiple\", \" of\", \" \", \"3\", \"?\\n\", \"Ans\", \":\"], \"values\": [0.020936012268066406, 0.0042772311717271805, 0.005291273817420006, 0.009633220732212067, 0.0065942369401454926, 0.014466390013694763, 0.014481157064437866, 0.011054590344429016, 0.0066323429346084595, 0.013852978125214577, 0.0036186613142490387, 0.006439812481403351, 0.0183182954788208, 0.013253450393676758, 0.012309610843658447, 0.005243590101599693, 0.013203054666519165, 0.010243862867355347, 0.014209836721420288, 0.010763004422187805, 0.022098958492279053, 0.011514425277709961, 0.0064150989055633545, 0.07556605339050293, 0.04688870906829834, 0.014485269784927368, 0.03219318389892578]}\n",
       "    )\n",
       "    </script>"
      ],
      "text/plain": [
       "<circuitsvis.utils.render.RenderedHTML at 0x7fa5001395d0>"
      ]
     },
     "metadata": {},
     "output_type": "display_data"
    },
    {
     "name": "stdout",
     "output_type": "stream",
     "text": [
      "--------------------------------------------------------------------------------\n",
      "layer=47\n"
     ]
    },
    {
     "data": {
      "text/html": [
       "<div id=\"circuits-vis-7b398b8b-8901\" style=\"margin: 15px 0;\"/>\n",
       "    <script crossorigin type=\"module\">\n",
       "    import { render, ColoredTokens } from \"https://unpkg.com/circuitsvis@1.43.3/dist/cdn/esm.js\";\n",
       "    render(\n",
       "      \"circuits-vis-7b398b8b-8901\",\n",
       "      ColoredTokens,\n",
       "      {\"tokens\": [\"46\", \",\", \" \", \"57\", \",\", \" \", \"55\", \",\", \" \", \"62\", \",\", \" \", \"39\", \"\\n\", \"Which\", \" of\", \" these\", \" numbers\", \" is\", \" a\", \" multiple\", \" of\", \" \", \"3\", \"?\\n\", \"Ans\", \":\"], \"values\": [0.0033069103956222534, 0.0016630562022328377, 0.000983675941824913, 0.003609517589211464, 0.0010223109275102615, 0.0014734640717506409, 0.0036648744717240334, 0.0012367023155093193, 0.0009124018251895905, 0.0022065285593271255, 0.0004894458688795567, 0.0009731203317642212, 0.00198967382311821, 0.0025768131017684937, 0.0017267018556594849, 0.0012391433119773865, 0.00116652250289917, 0.0025852322578430176, 0.0007695406675338745, 0.0006675608456134796, 0.003120213747024536, 0.0008134078234434128, 0.0007419325411319733, 0.002306722104549408, 0.004877656698226929, 0.008894681930541992, 0.0038014650344848633]}\n",
       "    )\n",
       "    </script>"
      ],
      "text/plain": [
       "<circuitsvis.utils.render.RenderedHTML at 0x7fa4e021ef10>"
      ]
     },
     "metadata": {},
     "output_type": "display_data"
    },
    {
     "name": "stdout",
     "output_type": "stream",
     "text": [
      "--------------------------------------------------------------------------------\n",
      "layer=52\n"
     ]
    },
    {
     "data": {
      "text/html": [
       "<div id=\"circuits-vis-4afeadf7-aff9\" style=\"margin: 15px 0;\"/>\n",
       "    <script crossorigin type=\"module\">\n",
       "    import { render, ColoredTokens } from \"https://unpkg.com/circuitsvis@1.43.3/dist/cdn/esm.js\";\n",
       "    render(\n",
       "      \"circuits-vis-4afeadf7-aff9\",\n",
       "      ColoredTokens,\n",
       "      {\"tokens\": [\"46\", \",\", \" \", \"57\", \",\", \" \", \"55\", \",\", \" \", \"62\", \",\", \" \", \"39\", \"\\n\", \"Which\", \" of\", \" these\", \" numbers\", \" is\", \" a\", \" multiple\", \" of\", \" \", \"3\", \"?\\n\", \"Ans\", \":\"], \"values\": [0.006629258394241333, 0.004745650105178356, 0.002492339350283146, 0.007926858961582184, 0.0025897715240716934, 0.0017779208719730377, 0.008083997294306755, 0.0024931766092777252, 0.001577034592628479, 0.0044067418202757835, 0.0009911605156958103, 0.0015297532081604004, 0.004487666301429272, 0.01289445161819458, 0.007093261927366257, 0.002973731607198715, 0.0023773498833179474, 0.0050757043063640594, 0.002086321823298931, 0.0020080674439668655, 0.004474075511097908, 0.0017484929412603378, 0.0014082416892051697, 0.007260285317897797, 0.0188540518283844, 0.016879960894584656, 0.01395837590098381]}\n",
       "    )\n",
       "    </script>"
      ],
      "text/plain": [
       "<circuitsvis.utils.render.RenderedHTML at 0x7fa4c04f4410>"
      ]
     },
     "metadata": {},
     "output_type": "display_data"
    },
    {
     "name": "stdout",
     "output_type": "stream",
     "text": [
      "--------------------------------------------------------------------------------\n",
      "======================================================================\n",
      "2025-08-01 14:48:36 __main__ INFO     Layer: 33, Head: 45\n"
     ]
    },
    {
     "data": {
      "text/html": [
       "<div id=\"circuits-vis-feea4e65-fc86\" style=\"margin: 15px 0;\"/>\n",
       "    <script crossorigin type=\"module\">\n",
       "    import { render, ColoredTokens } from \"https://unpkg.com/circuitsvis@1.43.3/dist/cdn/esm.js\";\n",
       "    render(\n",
       "      \"circuits-vis-feea4e65-fc86\",\n",
       "      ColoredTokens,\n",
       "      {\"tokens\": [\"46\", \",\", \" \", \"57\", \",\", \" \", \"55\", \",\", \" \", \"62\", \",\", \" \", \"39\", \"\\n\", \"Which\", \" of\", \" these\", \" numbers\", \" is\", \" a\", \" multiple\", \" of\", \" \", \"3\", \"?\\n\", \"Ans\", \":\"], \"values\": [0.025146484375, 0.00604248046875, 0.0030059814453125, 0.023193359375, 0.007781982421875, 0.018310546875, 0.1123046875, 0.0230712890625, 0.0279541015625, 0.03271484375, 0.004638671875, 0.0169677734375, 0.04638671875, 0.00665283203125, 0.01165771484375, 0.0040283203125, 0.0084228515625, 0.018310546875, 0.01080322265625, 0.01544189453125, 0.0072021484375, 0.01007080078125, 0.01214599609375, 0.045166015625, 0.013427734375, 0.004364013671875, 0.01806640625]}\n",
       "    )\n",
       "    </script>"
      ],
      "text/plain": [
       "<circuitsvis.utils.render.RenderedHTML at 0x7fa4e042d410>"
      ]
     },
     "metadata": {},
     "output_type": "display_data"
    },
    {
     "name": "stdout",
     "output_type": "stream",
     "text": [
      "2025-08-01 14:48:36 __main__ INFO     Layer: 33, Head: 18\n"
     ]
    },
    {
     "data": {
      "text/html": [
       "<div id=\"circuits-vis-d98692cb-ecb7\" style=\"margin: 15px 0;\"/>\n",
       "    <script crossorigin type=\"module\">\n",
       "    import { render, ColoredTokens } from \"https://unpkg.com/circuitsvis@1.43.3/dist/cdn/esm.js\";\n",
       "    render(\n",
       "      \"circuits-vis-d98692cb-ecb7\",\n",
       "      ColoredTokens,\n",
       "      {\"tokens\": [\"46\", \",\", \" \", \"57\", \",\", \" \", \"55\", \",\", \" \", \"62\", \",\", \" \", \"39\", \"\\n\", \"Which\", \" of\", \" these\", \" numbers\", \" is\", \" a\", \" multiple\", \" of\", \" \", \"3\", \"?\\n\", \"Ans\", \":\"], \"values\": [0.01806640625, 0.0203857421875, 0.033203125, 0.06689453125, 0.03662109375, 0.0732421875, 0.1904296875, 0.060791015625, 0.039306640625, 0.03125, 0.0159912109375, 0.02783203125, 0.0458984375, 0.0301513671875, 0.01953125, 0.00138092041015625, 0.02294921875, 0.02783203125, 0.01019287109375, 0.0123291015625, 0.00439453125, 0.004150390625, 0.0032958984375, 0.01220703125, 0.0035858154296875, 0.0001678466796875, 0.00118255615234375]}\n",
       "    )\n",
       "    </script>"
      ],
      "text/plain": [
       "<circuitsvis.utils.render.RenderedHTML at 0x7fa567994b90>"
      ]
     },
     "metadata": {},
     "output_type": "display_data"
    },
    {
     "name": "stdout",
     "output_type": "stream",
     "text": [
      "2025-08-01 14:48:36 __main__ INFO     Layer: 34, Head: 1\n"
     ]
    },
    {
     "data": {
      "text/html": [
       "<div id=\"circuits-vis-5307e899-7b44\" style=\"margin: 15px 0;\"/>\n",
       "    <script crossorigin type=\"module\">\n",
       "    import { render, ColoredTokens } from \"https://unpkg.com/circuitsvis@1.43.3/dist/cdn/esm.js\";\n",
       "    render(\n",
       "      \"circuits-vis-5307e899-7b44\",\n",
       "      ColoredTokens,\n",
       "      {\"tokens\": [\"46\", \",\", \" \", \"57\", \",\", \" \", \"55\", \",\", \" \", \"62\", \",\", \" \", \"39\", \"\\n\", \"Which\", \" of\", \" these\", \" numbers\", \" is\", \" a\", \" multiple\", \" of\", \" \", \"3\", \"?\\n\", \"Ans\", \":\"], \"values\": [0.0240478515625, 0.00927734375, 0.00848388671875, 0.03564453125, 0.0291748046875, 0.041748046875, 0.07080078125, 0.047607421875, 0.017822265625, 0.0172119140625, 0.016357421875, 0.0179443359375, 0.04345703125, 0.019775390625, 0.033203125, 0.0029144287109375, 0.0257568359375, 0.03173828125, 0.01904296875, 0.021240234375, 0.00811767578125, 0.006622314453125, 0.00811767578125, 0.0255126953125, 0.016357421875, 0.001739501953125, 0.0181884765625]}\n",
       "    )\n",
       "    </script>"
      ],
      "text/plain": [
       "<circuitsvis.utils.render.RenderedHTML at 0x7fa567994b90>"
      ]
     },
     "metadata": {},
     "output_type": "display_data"
    },
    {
     "name": "stdout",
     "output_type": "stream",
     "text": [
      "2025-08-01 14:48:37 __main__ INFO     Layer: 34, Head: 6\n"
     ]
    },
    {
     "data": {
      "text/html": [
       "<div id=\"circuits-vis-4659db1d-84b4\" style=\"margin: 15px 0;\"/>\n",
       "    <script crossorigin type=\"module\">\n",
       "    import { render, ColoredTokens } from \"https://unpkg.com/circuitsvis@1.43.3/dist/cdn/esm.js\";\n",
       "    render(\n",
       "      \"circuits-vis-4659db1d-84b4\",\n",
       "      ColoredTokens,\n",
       "      {\"tokens\": [\"46\", \",\", \" \", \"57\", \",\", \" \", \"55\", \",\", \" \", \"62\", \",\", \" \", \"39\", \"\\n\", \"Which\", \" of\", \" these\", \" numbers\", \" is\", \" a\", \" multiple\", \" of\", \" \", \"3\", \"?\\n\", \"Ans\", \":\"], \"values\": [0.0289306640625, 0.007720947265625, 0.008056640625, 0.033935546875, 0.0208740234375, 0.05078125, 0.0849609375, 0.04248046875, 0.0380859375, 0.0244140625, 0.0135498046875, 0.0245361328125, 0.0361328125, 0.016357421875, 0.024169921875, 0.00128936767578125, 0.021484375, 0.0240478515625, 0.0108642578125, 0.0216064453125, 0.0026092529296875, 0.0028076171875, 0.0067138671875, 0.00872802734375, 0.00848388671875, 0.0010528564453125, 0.023681640625]}\n",
       "    )\n",
       "    </script>"
      ],
      "text/plain": [
       "<circuitsvis.utils.render.RenderedHTML at 0x7fa567ed6f50>"
      ]
     },
     "metadata": {},
     "output_type": "display_data"
    },
    {
     "name": "stdout",
     "output_type": "stream",
     "text": [
      "2025-08-01 14:48:37 __main__ INFO     Layer: 34, Head: 7\n"
     ]
    },
    {
     "data": {
      "text/html": [
       "<div id=\"circuits-vis-2af408cc-7da1\" style=\"margin: 15px 0;\"/>\n",
       "    <script crossorigin type=\"module\">\n",
       "    import { render, ColoredTokens } from \"https://unpkg.com/circuitsvis@1.43.3/dist/cdn/esm.js\";\n",
       "    render(\n",
       "      \"circuits-vis-2af408cc-7da1\",\n",
       "      ColoredTokens,\n",
       "      {\"tokens\": [\"46\", \",\", \" \", \"57\", \",\", \" \", \"55\", \",\", \" \", \"62\", \",\", \" \", \"39\", \"\\n\", \"Which\", \" of\", \" these\", \" numbers\", \" is\", \" a\", \" multiple\", \" of\", \" \", \"3\", \"?\\n\", \"Ans\", \":\"], \"values\": [0.04296875, 0.00408935546875, 0.00311279296875, 0.010498046875, 0.009033203125, 0.0205078125, 0.0303955078125, 0.025146484375, 0.0096435546875, 0.0191650390625, 0.0113525390625, 0.01092529296875, 0.0595703125, 0.0242919921875, 0.060546875, 0.00262451171875, 0.09765625, 0.0693359375, 0.0291748046875, 0.031005859375, 0.0098876953125, 0.01007080078125, 0.0137939453125, 0.0869140625, 0.058349609375, 0.002838134765625, 0.041259765625]}\n",
       "    )\n",
       "    </script>"
      ],
      "text/plain": [
       "<circuitsvis.utils.render.RenderedHTML at 0x7fa567ed6f50>"
      ]
     },
     "metadata": {},
     "output_type": "display_data"
    },
    {
     "name": "stdout",
     "output_type": "stream",
     "text": [
      "2025-08-01 14:48:37 __main__ INFO     Layer: 35, Head: 19\n"
     ]
    },
    {
     "data": {
      "text/html": [
       "<div id=\"circuits-vis-73ef0510-2a34\" style=\"margin: 15px 0;\"/>\n",
       "    <script crossorigin type=\"module\">\n",
       "    import { render, ColoredTokens } from \"https://unpkg.com/circuitsvis@1.43.3/dist/cdn/esm.js\";\n",
       "    render(\n",
       "      \"circuits-vis-73ef0510-2a34\",\n",
       "      ColoredTokens,\n",
       "      {\"tokens\": [\"46\", \",\", \" \", \"57\", \",\", \" \", \"55\", \",\", \" \", \"62\", \",\", \" \", \"39\", \"\\n\", \"Which\", \" of\", \" these\", \" numbers\", \" is\", \" a\", \" multiple\", \" of\", \" \", \"3\", \"?\\n\", \"Ans\", \":\"], \"values\": [0.006683349609375, 0.004425048828125, 0.01104736328125, 0.033447265625, 0.034423828125, 0.10302734375, 0.154296875, 0.06982421875, 0.031494140625, 0.1591796875, 0.033447265625, 0.043701171875, 0.2216796875, 0.01123046875, 0.0024566650390625, 5.602836608886719e-05, 0.0020904541015625, 0.00604248046875, 0.000308990478515625, 0.00390625, 0.0007171630859375, 0.00043487548828125, 0.00109100341796875, 0.00250244140625, 0.00078582763671875, 0.00011157989501953125, 0.00055694580078125]}\n",
       "    )\n",
       "    </script>"
      ],
      "text/plain": [
       "<circuitsvis.utils.render.RenderedHTML at 0x7fa4e00fe5d0>"
      ]
     },
     "metadata": {},
     "output_type": "display_data"
    },
    {
     "name": "stdout",
     "output_type": "stream",
     "text": [
      "2025-08-01 14:48:37 __main__ INFO     Layer: 39, Head: 40\n"
     ]
    },
    {
     "data": {
      "text/html": [
       "<div id=\"circuits-vis-5b74b68f-8ce9\" style=\"margin: 15px 0;\"/>\n",
       "    <script crossorigin type=\"module\">\n",
       "    import { render, ColoredTokens } from \"https://unpkg.com/circuitsvis@1.43.3/dist/cdn/esm.js\";\n",
       "    render(\n",
       "      \"circuits-vis-5b74b68f-8ce9\",\n",
       "      ColoredTokens,\n",
       "      {\"tokens\": [\"46\", \",\", \" \", \"57\", \",\", \" \", \"55\", \",\", \" \", \"62\", \",\", \" \", \"39\", \"\\n\", \"Which\", \" of\", \" these\", \" numbers\", \" is\", \" a\", \" multiple\", \" of\", \" \", \"3\", \"?\\n\", \"Ans\", \":\"], \"values\": [0.0240478515625, 0.011474609375, 0.036376953125, 0.0247802734375, 0.050048828125, 0.060546875, 0.08984375, 0.0712890625, 0.0230712890625, 0.054443359375, 0.0174560546875, 0.0234375, 0.05224609375, 0.045654296875, 0.017578125, 0.00506591796875, 0.006805419921875, 0.01165771484375, 0.01708984375, 0.0181884765625, 0.0072021484375, 0.01019287109375, 0.007293701171875, 0.00848388671875, 0.07421875, 0.005126953125, 0.05615234375]}\n",
       "    )\n",
       "    </script>"
      ],
      "text/plain": [
       "<circuitsvis.utils.render.RenderedHTML at 0x7fa5400f1ad0>"
      ]
     },
     "metadata": {},
     "output_type": "display_data"
    },
    {
     "name": "stdout",
     "output_type": "stream",
     "text": [
      "2025-08-01 14:48:37 __main__ INFO     Layer: 42, Head: 30\n"
     ]
    },
    {
     "data": {
      "text/html": [
       "<div id=\"circuits-vis-5194b30c-c5bb\" style=\"margin: 15px 0;\"/>\n",
       "    <script crossorigin type=\"module\">\n",
       "    import { render, ColoredTokens } from \"https://unpkg.com/circuitsvis@1.43.3/dist/cdn/esm.js\";\n",
       "    render(\n",
       "      \"circuits-vis-5194b30c-c5bb\",\n",
       "      ColoredTokens,\n",
       "      {\"tokens\": [\"46\", \",\", \" \", \"57\", \",\", \" \", \"55\", \",\", \" \", \"62\", \",\", \" \", \"39\", \"\\n\", \"Which\", \" of\", \" these\", \" numbers\", \" is\", \" a\", \" multiple\", \" of\", \" \", \"3\", \"?\\n\", \"Ans\", \":\"], \"values\": [0.011962890625, 0.00592041015625, 0.004669189453125, 0.01141357421875, 0.0047607421875, 0.012939453125, 0.0196533203125, 0.003875732421875, 0.00445556640625, 0.0089111328125, 0.00167083740234375, 0.00421142578125, 0.01025390625, 0.014892578125, 0.00958251953125, 0.0025787353515625, 0.0107421875, 0.016357421875, 0.00531005859375, 0.005462646484375, 0.0218505859375, 0.00726318359375, 0.0036468505859375, 0.039306640625, 0.007598876953125, 0.00167083740234375, 0.0037689208984375]}\n",
       "    )\n",
       "    </script>"
      ],
      "text/plain": [
       "<circuitsvis.utils.render.RenderedHTML at 0x7fa4e042d410>"
      ]
     },
     "metadata": {},
     "output_type": "display_data"
    },
    {
     "name": "stdout",
     "output_type": "stream",
     "text": [
      "2025-08-01 14:48:37 __main__ INFO     Layer: 47, Head: 18\n"
     ]
    },
    {
     "data": {
      "text/html": [
       "<div id=\"circuits-vis-a2e4d8cb-d3e0\" style=\"margin: 15px 0;\"/>\n",
       "    <script crossorigin type=\"module\">\n",
       "    import { render, ColoredTokens } from \"https://unpkg.com/circuitsvis@1.43.3/dist/cdn/esm.js\";\n",
       "    render(\n",
       "      \"circuits-vis-a2e4d8cb-d3e0\",\n",
       "      ColoredTokens,\n",
       "      {\"tokens\": [\"46\", \",\", \" \", \"57\", \",\", \" \", \"55\", \",\", \" \", \"62\", \",\", \" \", \"39\", \"\\n\", \"Which\", \" of\", \" these\", \" numbers\", \" is\", \" a\", \" multiple\", \" of\", \" \", \"3\", \"?\\n\", \"Ans\", \":\"], \"values\": [0.0272216796875, 0.033935546875, 0.015869140625, 0.107421875, 0.0198974609375, 0.0260009765625, 0.11181640625, 0.021728515625, 0.013916015625, 0.04541015625, 0.00994873046875, 0.015625, 0.0478515625, 0.0240478515625, 0.0169677734375, 0.0023193359375, 0.009765625, 0.05126953125, 0.005645751953125, 0.005645751953125, 0.00994873046875, 0.004150390625, 0.006103515625, 0.013916015625, 0.0089111328125, 0.0013885498046875, 0.0067138671875]}\n",
       "    )\n",
       "    </script>"
      ],
      "text/plain": [
       "<circuitsvis.utils.render.RenderedHTML at 0x7fa567ed7090>"
      ]
     },
     "metadata": {},
     "output_type": "display_data"
    },
    {
     "name": "stdout",
     "output_type": "stream",
     "text": [
      "2025-08-01 14:48:37 __main__ INFO     Layer: 52, Head: 58\n"
     ]
    },
    {
     "data": {
      "text/html": [
       "<div id=\"circuits-vis-50b72d86-fb2f\" style=\"margin: 15px 0;\"/>\n",
       "    <script crossorigin type=\"module\">\n",
       "    import { render, ColoredTokens } from \"https://unpkg.com/circuitsvis@1.43.3/dist/cdn/esm.js\";\n",
       "    render(\n",
       "      \"circuits-vis-50b72d86-fb2f\",\n",
       "      ColoredTokens,\n",
       "      {\"tokens\": [\"46\", \",\", \" \", \"57\", \",\", \" \", \"55\", \",\", \" \", \"62\", \",\", \" \", \"39\", \"\\n\", \"Which\", \" of\", \" these\", \" numbers\", \" is\", \" a\", \" multiple\", \" of\", \" \", \"3\", \"?\\n\", \"Ans\", \":\"], \"values\": [0.02294921875, 0.020263671875, 0.006378173828125, 0.09423828125, 0.026611328125, 0.0159912109375, 0.1728515625, 0.0213623046875, 0.0076904296875, 0.087890625, 0.006591796875, 0.003875732421875, 0.06201171875, 0.01104736328125, 0.005218505859375, 0.00213623046875, 0.00555419921875, 0.01953125, 0.005462646484375, 0.008056640625, 0.01373291015625, 0.006805419921875, 0.0048828125, 0.01446533203125, 0.00445556640625, 0.0016937255859375, 0.004730224609375]}\n",
       "    )\n",
       "    </script>"
      ],
      "text/plain": [
       "<circuitsvis.utils.render.RenderedHTML at 0x7fa567ed6f50>"
      ]
     },
     "metadata": {},
     "output_type": "display_data"
    },
    {
     "data": {
      "text/plain": [
       "[PredictedToken(token=' ', prob=0.80859375, logit=19.5, token_id=220, metadata=None),\n",
       " PredictedToken(token=' The', prob=0.03125, logit=16.25, token_id=578, metadata=None),\n",
       " PredictedToken(token=' A', prob=0.03125, logit=16.25, token_id=362, metadata=None),\n",
       " PredictedToken(token=' To', prob=0.0147705078125, logit=15.5, token_id=2057, metadata=None),\n",
       " PredictedToken(token=' All', prob=0.006988525390625, logit=14.75, token_id=2052, metadata=None)]"
      ]
     },
     "execution_count": 40,
     "metadata": {},
     "output_type": "execute_result"
    }
   ],
   "source": [
    "options = [\"46\", \"57\", \"55\", \"62\", \"39\"]\n",
    "# prompt_template = \"\"\"Which of these numbers is a multiple of 3?\n",
    "# options: {}\n",
    "# Answer:\"\"\"\n",
    "\n",
    "prompt_template = \"\"\"{}\n",
    "Which of these numbers is a multiple of 3?\n",
    "Ans:\"\"\"\n",
    "\n",
    "prompt = prompt_template.format(\n",
    "    \", \".join(options)\n",
    ")\n",
    "print(prompt)\n",
    "\n",
    "verify = verify_head_patterns(\n",
    "    prompt=prompt,\n",
    "    options=options,\n",
    "    pivot=\"multiple of 3\",\n",
    "    mt=mt,\n",
    "    value_weighted=False,\n",
    "    generate_full_answer=True,\n",
    ")\n",
    "verify[\"predictions\"]"
   ]
  },
  {
   "cell_type": "code",
   "execution_count": 41,
   "id": "cdc6ef8d",
   "metadata": {},
   "outputs": [],
   "source": [
    "# verify_ind = verify_head_patterns(\n",
    "#     prompt=prompt,\n",
    "#     options=options,\n",
    "#     pivot=\"politician or scientist\",\n",
    "#     mt=mt,\n",
    "#     value_weighted=False,\n",
    "#     generate_full_answer=False,\n",
    "#     ablate_possible_ans_info_from_options=True,\n",
    "# )\n",
    "# verify_ind[\"predictions\"]"
   ]
  },
  {
   "cell_type": "code",
   "execution_count": 42,
   "id": "62f912ca",
   "metadata": {},
   "outputs": [
    {
     "name": "stdout",
     "output_type": "stream",
     "text": [
      "1. Brad Pitt\n",
      "2. Tom Hanks\n",
      "3. Leonardo DiCaprio\n",
      "4. Tom Brady\n",
      "5. Daniel Radcliffe\n",
      "6. Hugh Jackman\n",
      "Which among these people are different from others?\n",
      "Answer:\n",
      "2025-08-01 14:49:18 __main__ DEBUG    Generated full answer: \" Daniel Radcliffe\n",
      "All the other individuals mentioned are known for their work in the film industry, primarily as actors. Daniel Radcliffe is also an actor\"\n",
      "2025-08-01 14:49:18 __main__ DEBUG    Predictions: ['\" Daniel\"[15469] (p=0.367, logit=18.625)', '\" Tom\"[8529] (p=0.324, logit=18.500)', '\" \"[220] (p=0.064, logit=16.875)', '\" Hugh\"[30206] (p=0.056, logit=16.750)', '\" The\"[578] (p=0.025, logit=15.938)']\n",
      "layer=35\n"
     ]
    },
    {
     "data": {
      "text/html": [
       "<div id=\"circuits-vis-ffb6933f-8670\" style=\"margin: 15px 0;\"/>\n",
       "    <script crossorigin type=\"module\">\n",
       "    import { render, ColoredTokens } from \"https://unpkg.com/circuitsvis@1.43.3/dist/cdn/esm.js\";\n",
       "    render(\n",
       "      \"circuits-vis-ffb6933f-8670\",\n",
       "      ColoredTokens,\n",
       "      {\"tokens\": [\"1\", \".\", \" Brad\", \" Pitt\", \"\\n\", \"2\", \".\", \" Tom\", \" H\", \"anks\", \"\\n\", \"3\", \".\", \" Leonardo\", \" Di\", \"Cap\", \"rio\", \"\\n\", \"4\", \".\", \" Tom\", \" Brady\", \"\\n\", \"5\", \".\", \" Daniel\", \" Rad\", \"cliffe\", \"\\n\", \"6\", \".\", \" Hugh\", \" Jack\", \"man\", \"\\n\", \"Which\", \" among\", \" these\", \" people\", \" are\", \" different\", \" from\", \" others\", \"?\\n\", \"Answer\", \":\"], \"values\": [0.02121901512145996, 0.002283625304698944, 0.002341151237487793, 0.008157551288604736, 0.007651954889297485, 0.006372496485710144, 0.006855502724647522, 0.004896275699138641, 0.001104850322008133, 0.01393187791109085, 0.008191391825675964, 0.0016030818223953247, 0.004706043750047684, 0.005280286073684692, 0.0019650645554065704, 0.003913447260856628, 0.004835452884435654, 0.006439372897148132, 0.002572871744632721, 0.00273238867521286, 0.008801963180303574, 0.04842299222946167, 0.03830772638320923, 0.0027088895440101624, 0.005732476711273193, 0.005736310034990311, 0.012628331780433655, 0.021942809224128723, 0.013585902750492096, 0.004759281873703003, 0.006804715842008591, 0.00366814061999321, 0.004190608859062195, 0.006422460079193115, 0.0062149278819561005, 0.010799646377563477, 0.004328712821006775, 0.016840368509292603, 0.00942903757095337, 0.007721126079559326, 0.015759635716676712, 0.004293758422136307, 0.012425370514392853, 0.016077443957328796, 0.008593272417783737, 0.03473871946334839]}\n",
       "    )\n",
       "    </script>"
      ],
      "text/plain": [
       "<circuitsvis.utils.render.RenderedHTML at 0x7fa4c0439d50>"
      ]
     },
     "metadata": {},
     "output_type": "display_data"
    },
    {
     "name": "stdout",
     "output_type": "stream",
     "text": [
      "--------------------------------------------------------------------------------\n",
      "layer=47\n"
     ]
    },
    {
     "data": {
      "text/html": [
       "<div id=\"circuits-vis-59614619-a1da\" style=\"margin: 15px 0;\"/>\n",
       "    <script crossorigin type=\"module\">\n",
       "    import { render, ColoredTokens } from \"https://unpkg.com/circuitsvis@1.43.3/dist/cdn/esm.js\";\n",
       "    render(\n",
       "      \"circuits-vis-59614619-a1da\",\n",
       "      ColoredTokens,\n",
       "      {\"tokens\": [\"1\", \".\", \" Brad\", \" Pitt\", \"\\n\", \"2\", \".\", \" Tom\", \" H\", \"anks\", \"\\n\", \"3\", \".\", \" Leonardo\", \" Di\", \"Cap\", \"rio\", \"\\n\", \"4\", \".\", \" Tom\", \" Brady\", \"\\n\", \"5\", \".\", \" Daniel\", \" Rad\", \"cliffe\", \"\\n\", \"6\", \".\", \" Hugh\", \" Jack\", \"man\", \"\\n\", \"Which\", \" among\", \" these\", \" people\", \" are\", \" different\", \" from\", \" others\", \"?\\n\", \"Answer\", \":\"], \"values\": [0.0020608901977539062, 0.0008914470672607422, 0.0012422166764736176, 0.0017084144055843353, 0.0006272667087614536, 0.0007148804143071175, 0.0009723976254463196, 0.0024728132411837578, 0.0004515848122537136, 0.0006606392562389374, 0.0013842205516994, 0.00037708436138927937, 0.0005767927505075932, 0.0015207622200250626, 0.0004039439372718334, 0.0006447797641158104, 0.0008605332113802433, 0.0011367503320798278, 0.0006581980269402266, 0.0005862009711563587, 0.0034712646156549454, 0.0033852383494377136, 0.006971316412091255, 0.0006853137165307999, 0.0013133008033037186, 0.00602689478546381, 0.002315264195203781, 0.0027814116328954697, 0.002107730135321617, 0.0007641655392944813, 0.0011588362976908684, 0.0012257229536771774, 0.0009177811443805695, 0.0005910890176892281, 0.00039220694452524185, 0.0014643296599388123, 0.0009487774223089218, 0.0009507685899734497, 0.0009455718100070953, 0.000995103269815445, 0.001323789358139038, 0.0006372332572937012, 0.0012346915900707245, 0.005325153470039368, 0.004450581967830658, 0.0030427128076553345]}\n",
       "    )\n",
       "    </script>"
      ],
      "text/plain": [
       "<circuitsvis.utils.render.RenderedHTML at 0x7f832ad064d0>"
      ]
     },
     "metadata": {},
     "output_type": "display_data"
    },
    {
     "name": "stdout",
     "output_type": "stream",
     "text": [
      "--------------------------------------------------------------------------------\n",
      "layer=52\n"
     ]
    },
    {
     "data": {
      "text/html": [
       "<div id=\"circuits-vis-dae7a7c3-9e64\" style=\"margin: 15px 0;\"/>\n",
       "    <script crossorigin type=\"module\">\n",
       "    import { render, ColoredTokens } from \"https://unpkg.com/circuitsvis@1.43.3/dist/cdn/esm.js\";\n",
       "    render(\n",
       "      \"circuits-vis-dae7a7c3-9e64\",\n",
       "      ColoredTokens,\n",
       "      {\"tokens\": [\"1\", \".\", \" Brad\", \" Pitt\", \"\\n\", \"2\", \".\", \" Tom\", \" H\", \"anks\", \"\\n\", \"3\", \".\", \" Leonardo\", \" Di\", \"Cap\", \"rio\", \"\\n\", \"4\", \".\", \" Tom\", \" Brady\", \"\\n\", \"5\", \".\", \" Daniel\", \" Rad\", \"cliffe\", \"\\n\", \"6\", \".\", \" Hugh\", \" Jack\", \"man\", \"\\n\", \"Which\", \" among\", \" these\", \" people\", \" are\", \" different\", \" from\", \" others\", \"?\\n\", \"Answer\", \":\"], \"values\": [0.004307925701141357, 0.0024400949478149414, 0.002847224473953247, 0.0022849999368190765, 0.002343982458114624, 0.0025349371135234833, 0.0022521615028381348, 0.007866542786359787, 0.0006269551813602448, 0.0010001666378229856, 0.0018763542175292969, 0.0009267283603549004, 0.0012984629720449448, 0.005508758127689362, 0.0012419391423463821, 0.0007101264782249928, 0.000833914615213871, 0.00146465003490448, 0.00115513289347291, 0.001119246706366539, 0.010600782930850983, 0.006073342636227608, 0.005530263297259808, 0.0011791270226240158, 0.0019133761525154114, 0.011226385831832886, 0.00495394691824913, 0.0019624028354883194, 0.002831520512700081, 0.0016216766089200974, 0.0017394796013832092, 0.0029388070106506348, 0.000545392744243145, 0.000693359412252903, 0.000824302900582552, 0.005004599690437317, 0.0032233521342277527, 0.002235628664493561, 0.0017843395471572876, 0.0018694140017032623, 0.002126835286617279, 0.0011763684451580048, 0.002519596368074417, 0.012065574526786804, 0.012470759451389313, 0.014391370117664337]}\n",
       "    )\n",
       "    </script>"
      ],
      "text/plain": [
       "<circuitsvis.utils.render.RenderedHTML at 0x7fa4a043cd90>"
      ]
     },
     "metadata": {},
     "output_type": "display_data"
    },
    {
     "name": "stdout",
     "output_type": "stream",
     "text": [
      "--------------------------------------------------------------------------------\n",
      "======================================================================\n",
      "2025-08-01 14:49:18 __main__ INFO     Layer: 33, Head: 45\n"
     ]
    },
    {
     "data": {
      "text/html": [
       "<div id=\"circuits-vis-c8732f9b-d5ef\" style=\"margin: 15px 0;\"/>\n",
       "    <script crossorigin type=\"module\">\n",
       "    import { render, ColoredTokens } from \"https://unpkg.com/circuitsvis@1.43.3/dist/cdn/esm.js\";\n",
       "    render(\n",
       "      \"circuits-vis-c8732f9b-d5ef\",\n",
       "      ColoredTokens,\n",
       "      {\"tokens\": [\"1\", \".\", \" Brad\", \" Pitt\", \"\\n\", \"2\", \".\", \" Tom\", \" H\", \"anks\", \"\\n\", \"3\", \".\", \" Leonardo\", \" Di\", \"Cap\", \"rio\", \"\\n\", \"4\", \".\", \" Tom\", \" Brady\", \"\\n\", \"5\", \".\", \" Daniel\", \" Rad\", \"cliffe\", \"\\n\", \"6\", \".\", \" Hugh\", \" Jack\", \"man\", \"\\n\", \"Which\", \" among\", \" these\", \" people\", \" are\", \" different\", \" from\", \" others\", \"?\\n\", \"Answer\", \":\"], \"values\": [0.0146484375, 0.00092315673828125, 0.003082275390625, 0.0078125, 0.0013427734375, 0.0029449462890625, 0.00421142578125, 0.01458740234375, 0.001190185546875, 0.13671875, 0.01806640625, 0.000804901123046875, 0.007171630859375, 0.00958251953125, 0.00152587890625, 0.00897216796875, 0.00885009765625, 0.0068359375, 0.00130462646484375, 0.0029449462890625, 0.02001953125, 0.2294921875, 0.109375, 0.0026702880859375, 0.0054931640625, 0.01129150390625, 0.05322265625, 0.04931640625, 0.0196533203125, 0.00098419189453125, 0.00604248046875, 0.005889892578125, 0.01171875, 0.0037384033203125, 0.003387451171875, 0.00860595703125, 0.00093841552734375, 0.006561279296875, 0.006622314453125, 0.0025482177734375, 0.01385498046875, 0.000720977783203125, 0.00189971923828125, 0.0029449462890625, 0.00020599365234375, 0.0269775390625]}\n",
       "    )\n",
       "    </script>"
      ],
      "text/plain": [
       "<circuitsvis.utils.render.RenderedHTML at 0x7fa50012a210>"
      ]
     },
     "metadata": {},
     "output_type": "display_data"
    },
    {
     "name": "stdout",
     "output_type": "stream",
     "text": [
      "2025-08-01 14:49:18 __main__ INFO     Layer: 33, Head: 18\n"
     ]
    },
    {
     "data": {
      "text/html": [
       "<div id=\"circuits-vis-303d8f74-7514\" style=\"margin: 15px 0;\"/>\n",
       "    <script crossorigin type=\"module\">\n",
       "    import { render, ColoredTokens } from \"https://unpkg.com/circuitsvis@1.43.3/dist/cdn/esm.js\";\n",
       "    render(\n",
       "      \"circuits-vis-303d8f74-7514\",\n",
       "      ColoredTokens,\n",
       "      {\"tokens\": [\"1\", \".\", \" Brad\", \" Pitt\", \"\\n\", \"2\", \".\", \" Tom\", \" H\", \"anks\", \"\\n\", \"3\", \".\", \" Leonardo\", \" Di\", \"Cap\", \"rio\", \"\\n\", \"4\", \".\", \" Tom\", \" Brady\", \"\\n\", \"5\", \".\", \" Daniel\", \" Rad\", \"cliffe\", \"\\n\", \"6\", \".\", \" Hugh\", \" Jack\", \"man\", \"\\n\", \"Which\", \" among\", \" these\", \" people\", \" are\", \" different\", \" from\", \" others\", \"?\\n\", \"Answer\", \":\"], \"values\": [0.026123046875, 0.000896453857421875, 0.00823974609375, 0.03662109375, 0.01239013671875, 0.00445556640625, 0.01519775390625, 0.04150390625, 0.0021209716796875, 0.07568359375, 0.0267333984375, 0.000804901123046875, 0.005950927734375, 0.0034942626953125, 0.00439453125, 0.0059814453125, 0.0115966796875, 0.0068359375, 0.003082275390625, 0.00311279296875, 0.050537109375, 0.193359375, 0.1552734375, 0.0020904541015625, 0.01080322265625, 0.0203857421875, 0.0093994140625, 0.0302734375, 0.0252685546875, 0.0038909912109375, 0.0062255859375, 0.005584716796875, 0.005523681640625, 0.00897216796875, 0.0029449462890625, 0.00116729736328125, 0.00037384033203125, 0.00164794921875, 0.00677490234375, 0.000644683837890625, 0.0003681182861328125, 4.601478576660156e-05, 0.0001468658447265625, 0.0002727508544921875, 8.869171142578125e-05, 0.003753662109375]}\n",
       "    )\n",
       "    </script>"
      ],
      "text/plain": [
       "<circuitsvis.utils.render.RenderedHTML at 0x7fa4e0369390>"
      ]
     },
     "metadata": {},
     "output_type": "display_data"
    },
    {
     "name": "stdout",
     "output_type": "stream",
     "text": [
      "2025-08-01 14:49:19 __main__ INFO     Layer: 34, Head: 1\n"
     ]
    },
    {
     "data": {
      "text/html": [
       "<div id=\"circuits-vis-a78065b9-4569\" style=\"margin: 15px 0;\"/>\n",
       "    <script crossorigin type=\"module\">\n",
       "    import { render, ColoredTokens } from \"https://unpkg.com/circuitsvis@1.43.3/dist/cdn/esm.js\";\n",
       "    render(\n",
       "      \"circuits-vis-a78065b9-4569\",\n",
       "      ColoredTokens,\n",
       "      {\"tokens\": [\"1\", \".\", \" Brad\", \" Pitt\", \"\\n\", \"2\", \".\", \" Tom\", \" H\", \"anks\", \"\\n\", \"3\", \".\", \" Leonardo\", \" Di\", \"Cap\", \"rio\", \"\\n\", \"4\", \".\", \" Tom\", \" Brady\", \"\\n\", \"5\", \".\", \" Daniel\", \" Rad\", \"cliffe\", \"\\n\", \"6\", \".\", \" Hugh\", \" Jack\", \"man\", \"\\n\", \"Which\", \" among\", \" these\", \" people\", \" are\", \" different\", \" from\", \" others\", \"?\\n\", \"Answer\", \":\"], \"values\": [0.055908203125, 0.003143310546875, 0.0067138671875, 0.003143310546875, 0.003143310546875, 0.0225830078125, 0.00579833984375, 0.00518798828125, 0.0004253387451171875, 0.009033203125, 0.01177978515625, 0.0023345947265625, 0.00335693359375, 0.0034637451171875, 0.0009307861328125, 0.0028228759765625, 0.0029144287109375, 0.004791259765625, 0.01031494140625, 0.0026092529296875, 0.00787353515625, 0.051025390625, 0.10498046875, 0.00616455078125, 0.0036773681640625, 0.0123291015625, 0.017822265625, 0.046142578125, 0.07275390625, 0.0225830078125, 0.00982666015625, 0.0026092529296875, 0.0005645751953125, 0.00060272216796875, 0.002532958984375, 0.01263427734375, 0.0036773681640625, 0.02392578125, 0.00982666015625, 0.00592041015625, 0.003143310546875, 0.0004253387451171875, 0.00148773193359375, 0.0028228759765625, 0.00103759765625, 0.0546875]}\n",
       "    )\n",
       "    </script>"
      ],
      "text/plain": [
       "<circuitsvis.utils.render.RenderedHTML at 0x7fa4e02d6590>"
      ]
     },
     "metadata": {},
     "output_type": "display_data"
    },
    {
     "name": "stdout",
     "output_type": "stream",
     "text": [
      "2025-08-01 14:49:19 __main__ INFO     Layer: 34, Head: 6\n"
     ]
    },
    {
     "data": {
      "text/html": [
       "<div id=\"circuits-vis-e720c947-ad06\" style=\"margin: 15px 0;\"/>\n",
       "    <script crossorigin type=\"module\">\n",
       "    import { render, ColoredTokens } from \"https://unpkg.com/circuitsvis@1.43.3/dist/cdn/esm.js\";\n",
       "    render(\n",
       "      \"circuits-vis-e720c947-ad06\",\n",
       "      ColoredTokens,\n",
       "      {\"tokens\": [\"1\", \".\", \" Brad\", \" Pitt\", \"\\n\", \"2\", \".\", \" Tom\", \" H\", \"anks\", \"\\n\", \"3\", \".\", \" Leonardo\", \" Di\", \"Cap\", \"rio\", \"\\n\", \"4\", \".\", \" Tom\", \" Brady\", \"\\n\", \"5\", \".\", \" Daniel\", \" Rad\", \"cliffe\", \"\\n\", \"6\", \".\", \" Hugh\", \" Jack\", \"man\", \"\\n\", \"Which\", \" among\", \" these\", \" people\", \" are\", \" different\", \" from\", \" others\", \"?\\n\", \"Answer\", \":\"], \"values\": [0.060302734375, 0.003814697265625, 0.01220703125, 0.003753662109375, 0.0035858154296875, 0.0196533203125, 0.006866455078125, 0.007232666015625, 0.00087738037109375, 0.01806640625, 0.01202392578125, 0.00433349609375, 0.006103515625, 0.0031585693359375, 0.0016632080078125, 0.004058837890625, 0.00433349609375, 0.003692626953125, 0.00909423828125, 0.00628662109375, 0.0106201171875, 0.12060546875, 0.07177734375, 0.006195068359375, 0.004608154296875, 0.01312255859375, 0.0556640625, 0.042236328125, 0.0277099609375, 0.00927734375, 0.0145263671875, 0.00194549560546875, 0.0008392333984375, 0.00043487548828125, 0.00131988525390625, 0.0123291015625, 0.004669189453125, 0.0164794921875, 0.004974365234375, 0.009765625, 0.00689697265625, 0.00119781494140625, 0.00250244140625, 0.0031585693359375, 0.00127410888671875, 0.052490234375]}\n",
       "    )\n",
       "    </script>"
      ],
      "text/plain": [
       "<circuitsvis.utils.render.RenderedHTML at 0x7fa5201549d0>"
      ]
     },
     "metadata": {},
     "output_type": "display_data"
    },
    {
     "name": "stdout",
     "output_type": "stream",
     "text": [
      "2025-08-01 14:49:19 __main__ INFO     Layer: 34, Head: 7\n"
     ]
    },
    {
     "data": {
      "text/html": [
       "<div id=\"circuits-vis-f045bb99-00af\" style=\"margin: 15px 0;\"/>\n",
       "    <script crossorigin type=\"module\">\n",
       "    import { render, ColoredTokens } from \"https://unpkg.com/circuitsvis@1.43.3/dist/cdn/esm.js\";\n",
       "    render(\n",
       "      \"circuits-vis-f045bb99-00af\",\n",
       "      ColoredTokens,\n",
       "      {\"tokens\": [\"1\", \".\", \" Brad\", \" Pitt\", \"\\n\", \"2\", \".\", \" Tom\", \" H\", \"anks\", \"\\n\", \"3\", \".\", \" Leonardo\", \" Di\", \"Cap\", \"rio\", \"\\n\", \"4\", \".\", \" Tom\", \" Brady\", \"\\n\", \"5\", \".\", \" Daniel\", \" Rad\", \"cliffe\", \"\\n\", \"6\", \".\", \" Hugh\", \" Jack\", \"man\", \"\\n\", \"Which\", \" among\", \" these\", \" people\", \" are\", \" different\", \" from\", \" others\", \"?\\n\", \"Answer\", \":\"], \"values\": [0.051025390625, 0.000392913818359375, 0.00182342529296875, 0.0024566650390625, 0.00113677978515625, 0.002197265625, 0.00238037109375, 0.002227783203125, 0.00067901611328125, 0.0030059814453125, 0.0030059814453125, 0.00133514404296875, 0.00115966796875, 0.00176239013671875, 0.0024566650390625, 0.0015106201171875, 0.0018463134765625, 0.0024566650390625, 0.0020294189453125, 0.0020904541015625, 0.0089111328125, 0.020263671875, 0.046875, 0.0031890869140625, 0.00408935546875, 0.00787353515625, 0.027587890625, 0.046142578125, 0.06201171875, 0.007720947265625, 0.00982666015625, 0.00482177734375, 0.004547119140625, 0.0059814453125, 0.0106201171875, 0.0390625, 0.00872802734375, 0.1328125, 0.0220947265625, 0.01806640625, 0.0244140625, 0.005523681640625, 0.014404296875, 0.0201416015625, 0.00238037109375, 0.134765625]}\n",
       "    )\n",
       "    </script>"
      ],
      "text/plain": [
       "<circuitsvis.utils.render.RenderedHTML at 0x7fa5001c0150>"
      ]
     },
     "metadata": {},
     "output_type": "display_data"
    },
    {
     "name": "stdout",
     "output_type": "stream",
     "text": [
      "2025-08-01 14:49:19 __main__ INFO     Layer: 35, Head: 19\n"
     ]
    },
    {
     "data": {
      "text/html": [
       "<div id=\"circuits-vis-199a2774-578d\" style=\"margin: 15px 0;\"/>\n",
       "    <script crossorigin type=\"module\">\n",
       "    import { render, ColoredTokens } from \"https://unpkg.com/circuitsvis@1.43.3/dist/cdn/esm.js\";\n",
       "    render(\n",
       "      \"circuits-vis-199a2774-578d\",\n",
       "      ColoredTokens,\n",
       "      {\"tokens\": [\"1\", \".\", \" Brad\", \" Pitt\", \"\\n\", \"2\", \".\", \" Tom\", \" H\", \"anks\", \"\\n\", \"3\", \".\", \" Leonardo\", \" Di\", \"Cap\", \"rio\", \"\\n\", \"4\", \".\", \" Tom\", \" Brady\", \"\\n\", \"5\", \".\", \" Daniel\", \" Rad\", \"cliffe\", \"\\n\", \"6\", \".\", \" Hugh\", \" Jack\", \"man\", \"\\n\", \"Which\", \" among\", \" these\", \" people\", \" are\", \" different\", \" from\", \" others\", \"?\\n\", \"Answer\", \":\"], \"values\": [0.0023651123046875, 4.8160552978515625e-05, 0.000888824462890625, 0.00689697265625, 0.001007080078125, 0.00131988525390625, 0.0042724609375, 0.003936767578125, 0.0002460479736328125, 0.10205078125, 0.010009765625, 0.00021266937255859375, 0.0026397705078125, 0.004119873046875, 0.000667572021484375, 0.00872802734375, 0.01226806640625, 0.00390625, 0.0002231597900390625, 0.000926971435546875, 0.006561279296875, 0.345703125, 0.26953125, 0.0002498626708984375, 0.0026397705078125, 0.001708984375, 0.0546875, 0.07568359375, 0.03369140625, 0.0008544921875, 0.006072998046875, 0.00099945068359375, 0.0013885498046875, 0.00177764892578125, 0.0006866455078125, 0.0029144287109375, 4.38690185546875e-05, 0.004547119140625, 0.000823974609375, 6.29425048828125e-05, 0.00011968612670898438, 7.62939453125e-06, 8.20159912109375e-05, 4.38690185546875e-05, 4.267692565917969e-05, 0.000507354736328125]}\n",
       "    )\n",
       "    </script>"
      ],
      "text/plain": [
       "<circuitsvis.utils.render.RenderedHTML at 0x7fa4c03049d0>"
      ]
     },
     "metadata": {},
     "output_type": "display_data"
    },
    {
     "name": "stdout",
     "output_type": "stream",
     "text": [
      "2025-08-01 14:49:19 __main__ INFO     Layer: 39, Head: 40\n"
     ]
    },
    {
     "data": {
      "text/html": [
       "<div id=\"circuits-vis-9cea2644-5e8d\" style=\"margin: 15px 0;\"/>\n",
       "    <script crossorigin type=\"module\">\n",
       "    import { render, ColoredTokens } from \"https://unpkg.com/circuitsvis@1.43.3/dist/cdn/esm.js\";\n",
       "    render(\n",
       "      \"circuits-vis-9cea2644-5e8d\",\n",
       "      ColoredTokens,\n",
       "      {\"tokens\": [\"1\", \".\", \" Brad\", \" Pitt\", \"\\n\", \"2\", \".\", \" Tom\", \" H\", \"anks\", \"\\n\", \"3\", \".\", \" Leonardo\", \" Di\", \"Cap\", \"rio\", \"\\n\", \"4\", \".\", \" Tom\", \" Brady\", \"\\n\", \"5\", \".\", \" Daniel\", \" Rad\", \"cliffe\", \"\\n\", \"6\", \".\", \" Hugh\", \" Jack\", \"man\", \"\\n\", \"Which\", \" among\", \" these\", \" people\", \" are\", \" different\", \" from\", \" others\", \"?\\n\", \"Answer\", \":\"], \"values\": [0.003631591796875, 0.000942230224609375, 0.0027923583984375, 0.0031890869140625, 0.00311279296875, 0.0011138916015625, 0.005126953125, 0.0079345703125, 0.000736236572265625, 0.0238037109375, 0.03662109375, 0.00041961669921875, 0.004547119140625, 0.00726318359375, 0.000667572021484375, 0.004180908203125, 0.018310546875, 0.0166015625, 0.0026397705078125, 0.00323486328125, 0.035888671875, 0.24609375, 0.341796875, 0.00244140625, 0.005279541015625, 0.00921630859375, 0.00958251953125, 0.043701171875, 0.06396484375, 0.00341796875, 0.006927490234375, 0.007110595703125, 0.00201416015625, 0.00982666015625, 0.0111083984375, 0.0026092529296875, 0.0013275146484375, 0.0018157958984375, 0.00077056884765625, 0.001861572265625, 0.00018024444580078125, 0.000331878662109375, 0.000545501708984375, 0.004180908203125, 0.00124359130859375, 0.0172119140625]}\n",
       "    )\n",
       "    </script>"
      ],
      "text/plain": [
       "<circuitsvis.utils.render.RenderedHTML at 0x7fa4c0163fd0>"
      ]
     },
     "metadata": {},
     "output_type": "display_data"
    },
    {
     "name": "stdout",
     "output_type": "stream",
     "text": [
      "2025-08-01 14:49:19 __main__ INFO     Layer: 42, Head: 30\n"
     ]
    },
    {
     "data": {
      "text/html": [
       "<div id=\"circuits-vis-07835456-61c6\" style=\"margin: 15px 0;\"/>\n",
       "    <script crossorigin type=\"module\">\n",
       "    import { render, ColoredTokens } from \"https://unpkg.com/circuitsvis@1.43.3/dist/cdn/esm.js\";\n",
       "    render(\n",
       "      \"circuits-vis-07835456-61c6\",\n",
       "      ColoredTokens,\n",
       "      {\"tokens\": [\"1\", \".\", \" Brad\", \" Pitt\", \"\\n\", \"2\", \".\", \" Tom\", \" H\", \"anks\", \"\\n\", \"3\", \".\", \" Leonardo\", \" Di\", \"Cap\", \"rio\", \"\\n\", \"4\", \".\", \" Tom\", \" Brady\", \"\\n\", \"5\", \".\", \" Daniel\", \" Rad\", \"cliffe\", \"\\n\", \"6\", \".\", \" Hugh\", \" Jack\", \"man\", \"\\n\", \"Which\", \" among\", \" these\", \" people\", \" are\", \" different\", \" from\", \" others\", \"?\\n\", \"Answer\", \":\"], \"values\": [0.006866455078125, 0.0014190673828125, 0.0038604736328125, 0.0311279296875, 0.0030975341796875, 0.00182342529296875, 0.0032958984375, 0.00970458984375, 0.0064697265625, 0.0257568359375, 0.005706787109375, 0.000946044921875, 0.003509521484375, 0.01470947265625, 0.00616455078125, 0.0177001953125, 0.010986328125, 0.006256103515625, 0.0034027099609375, 0.004364013671875, 0.016357421875, 0.1513671875, 0.05029296875, 0.00494384765625, 0.0076904296875, 0.024169921875, 0.06884765625, 0.05712890625, 0.0155029296875, 0.008544921875, 0.0093994140625, 0.013916015625, 0.0157470703125, 0.01214599609375, 0.007781982421875, 0.00732421875, 0.002777099609375, 0.00579833984375, 0.0064697265625, 0.004302978515625, 0.0029144287109375, 0.00182342529296875, 0.0015869140625, 0.0045166015625, 0.000946044921875, 0.00616455078125]}\n",
       "    )\n",
       "    </script>"
      ],
      "text/plain": [
       "<circuitsvis.utils.render.RenderedHTML at 0x7fa567949f50>"
      ]
     },
     "metadata": {},
     "output_type": "display_data"
    },
    {
     "name": "stdout",
     "output_type": "stream",
     "text": [
      "2025-08-01 14:49:19 __main__ INFO     Layer: 47, Head: 18\n"
     ]
    },
    {
     "data": {
      "text/html": [
       "<div id=\"circuits-vis-90fd6624-7866\" style=\"margin: 15px 0;\"/>\n",
       "    <script crossorigin type=\"module\">\n",
       "    import { render, ColoredTokens } from \"https://unpkg.com/circuitsvis@1.43.3/dist/cdn/esm.js\";\n",
       "    render(\n",
       "      \"circuits-vis-90fd6624-7866\",\n",
       "      ColoredTokens,\n",
       "      {\"tokens\": [\"1\", \".\", \" Brad\", \" Pitt\", \"\\n\", \"2\", \".\", \" Tom\", \" H\", \"anks\", \"\\n\", \"3\", \".\", \" Leonardo\", \" Di\", \"Cap\", \"rio\", \"\\n\", \"4\", \".\", \" Tom\", \" Brady\", \"\\n\", \"5\", \".\", \" Daniel\", \" Rad\", \"cliffe\", \"\\n\", \"6\", \".\", \" Hugh\", \" Jack\", \"man\", \"\\n\", \"Which\", \" among\", \" these\", \" people\", \" are\", \" different\", \" from\", \" others\", \"?\\n\", \"Answer\", \":\"], \"values\": [0.00323486328125, 0.002838134765625, 0.006439208984375, 0.0057373046875, 0.0025634765625, 0.004913330078125, 0.008056640625, 0.038330078125, 0.00469970703125, 0.00194549560546875, 0.024658203125, 0.00604248046875, 0.007049560546875, 0.006744384765625, 0.00701904296875, 0.007354736328125, 0.0196533203125, 0.02978515625, 0.0118408203125, 0.006591796875, 0.08837890625, 0.0546875, 0.255859375, 0.00823974609375, 0.01312255859375, 0.09619140625, 0.04443359375, 0.0634765625, 0.036865234375, 0.01043701171875, 0.014404296875, 0.004425048828125, 0.000728607177734375, 0.001617431640625, 0.0024261474609375, 0.003997802734375, 0.000507354736328125, 0.00213623046875, 0.00213623046875, 0.00421142578125, 0.00054931640625, 0.00107574462890625, 0.0003185272216796875, 0.00262451171875, 0.0005340576171875, 0.005828857421875]}\n",
       "    )\n",
       "    </script>"
      ],
      "text/plain": [
       "<circuitsvis.utils.render.RenderedHTML at 0x7fa5201549d0>"
      ]
     },
     "metadata": {},
     "output_type": "display_data"
    },
    {
     "name": "stdout",
     "output_type": "stream",
     "text": [
      "2025-08-01 14:49:19 __main__ INFO     Layer: 52, Head: 58\n"
     ]
    },
    {
     "data": {
      "text/html": [
       "<div id=\"circuits-vis-faffb83d-6e36\" style=\"margin: 15px 0;\"/>\n",
       "    <script crossorigin type=\"module\">\n",
       "    import { render, ColoredTokens } from \"https://unpkg.com/circuitsvis@1.43.3/dist/cdn/esm.js\";\n",
       "    render(\n",
       "      \"circuits-vis-faffb83d-6e36\",\n",
       "      ColoredTokens,\n",
       "      {\"tokens\": [\"1\", \".\", \" Brad\", \" Pitt\", \"\\n\", \"2\", \".\", \" Tom\", \" H\", \"anks\", \"\\n\", \"3\", \".\", \" Leonardo\", \" Di\", \"Cap\", \"rio\", \"\\n\", \"4\", \".\", \" Tom\", \" Brady\", \"\\n\", \"5\", \".\", \" Daniel\", \" Rad\", \"cliffe\", \"\\n\", \"6\", \".\", \" Hugh\", \" Jack\", \"man\", \"\\n\", \"Which\", \" among\", \" these\", \" people\", \" are\", \" different\", \" from\", \" others\", \"?\\n\", \"Answer\", \":\"], \"values\": [0.0027618408203125, 0.000888824462890625, 0.002288818359375, 0.035400390625, 0.0003757476806640625, 0.00064849853515625, 0.000469207763671875, 0.01611328125, 0.0172119140625, 0.017822265625, 0.003631591796875, 0.0003528594970703125, 0.0007476806640625, 0.0037384033203125, 0.050537109375, 0.01068115234375, 0.0038299560546875, 0.0038909912109375, 0.00133514404296875, 0.0009765625, 0.03369140625, 0.306640625, 0.07763671875, 0.00153350830078125, 0.00160980224609375, 0.0220947265625, 0.224609375, 0.031982421875, 0.0093994140625, 0.00144195556640625, 0.001739501953125, 0.001373291015625, 0.00799560546875, 0.0010528564453125, 0.00057220458984375, 0.000217437744140625, 0.0003376007080078125, 0.0003757476806640625, 0.0009307861328125, 0.00127410888671875, 0.0003757476806640625, 0.00014019012451171875, 8.249282836914062e-05, 0.0003032684326171875, 6.437301635742188e-05, 0.00191497802734375]}\n",
       "    )\n",
       "    </script>"
      ],
      "text/plain": [
       "<circuitsvis.utils.render.RenderedHTML at 0x7fa4c020d410>"
      ]
     },
     "metadata": {},
     "output_type": "display_data"
    },
    {
     "data": {
      "text/plain": [
       "[PredictedToken(token=' Daniel', prob=0.3671875, logit=18.625, token_id=15469, metadata=None),\n",
       " PredictedToken(token=' Tom', prob=0.32421875, logit=18.5, token_id=8529, metadata=None),\n",
       " PredictedToken(token=' ', prob=0.06396484375, logit=16.875, token_id=220, metadata=None),\n",
       " PredictedToken(token=' Hugh', prob=0.056396484375, logit=16.75, token_id=30206, metadata=None),\n",
       " PredictedToken(token=' The', prob=0.0250244140625, logit=15.9375, token_id=578, metadata=None)]"
      ]
     },
     "execution_count": 42,
     "metadata": {},
     "output_type": "execute_result"
    }
   ],
   "source": [
    "# NOVELTY: Find the odd one out\n",
    "\n",
    "# options = [\"Issac Newton\", \"Albert Einstein\", \"Marie Curie\", \"Hugh Jackman\", \"Charles Darwin\"]\n",
    "options = [\n",
    "    \"Brad Pitt\",\n",
    "    \"Tom Hanks\",\n",
    "    \"Leonardo DiCaprio\",\n",
    "    \"Tom Brady\",\n",
    "    \"Daniel Radcliffe\",\n",
    "    \"Hugh Jackman\",\n",
    "]\n",
    "\n",
    "# prompt_template = \"\"\"Which person from the following list is different from the others?\n",
    "# {}.\n",
    "# Ans:\"\"\"\n",
    "prompt_template = \"\"\"{}\n",
    "Which among these people are different from others?\n",
    "Answer:\"\"\"\n",
    "# prompt = prompt_template.format(\", \".join(options))\n",
    "prompt = prompt_template.format(\"\\n\".join([f\"{idx+1}. {name}\" for idx, name in enumerate(options)]))\n",
    "\n",
    "print(prompt)\n",
    "verify = verify_head_patterns(\n",
    "    prompt=prompt,\n",
    "    options=options,\n",
    "    pivot=\"different from others\",\n",
    "    mt=mt,\n",
    "    value_weighted=False,\n",
    "    generate_full_answer=True,\n",
    ")\n",
    "verify[\"predictions\"]"
   ]
  },
  {
   "cell_type": "code",
   "execution_count": 43,
   "id": "c20b519d",
   "metadata": {},
   "outputs": [
    {
     "name": "stdout",
     "output_type": "stream",
     "text": [
      "2025-08-01 14:50:14 __main__ DEBUG    Brad Pitt | opt_range=(3, 5) | bare_opt_range=(4, 6) | \" Brad Pitt\"\n",
      "2025-08-01 14:50:14 __main__ DEBUG    Tom Hanks | opt_range=(8, 11) | bare_opt_range=(4, 7) | \" Tom Hanks\"\n",
      "2025-08-01 14:50:14 __main__ DEBUG    Leonardo DiCaprio | opt_range=(14, 18) | bare_opt_range=(4, 8) | \" Leonardo DiCaprio\"\n",
      "2025-08-01 14:50:14 __main__ DEBUG    Tom Brady | opt_range=(21, 23) | bare_opt_range=(4, 6) | \" Tom Brady\"\n",
      "2025-08-01 14:50:15 __main__ DEBUG    Daniel Radcliffe | opt_range=(26, 29) | bare_opt_range=(4, 7) | \" Daniel Radcliffe\"\n",
      "2025-08-01 14:50:15 __main__ DEBUG    Hugh Jackman | opt_range=(32, 35) | bare_opt_range=(4, 7) | \" Hugh Jackman\"\n",
      "2025-08-01 14:50:21 __main__ DEBUG    Predictions: ['\" Tom\"[8529] (p=0.354, logit=18.625)', '\" Daniel\"[15469] (p=0.354, logit=18.625)', '\" \"[220] (p=0.061, logit=16.875)', '\" Hugh\"[30206] (p=0.054, logit=16.750)', '\" The\"[578] (p=0.026, logit=16.000)']\n",
      "layer=35\n"
     ]
    },
    {
     "data": {
      "text/html": [
       "<div id=\"circuits-vis-92dfed5a-332e\" style=\"margin: 15px 0;\"/>\n",
       "    <script crossorigin type=\"module\">\n",
       "    import { render, ColoredTokens } from \"https://unpkg.com/circuitsvis@1.43.3/dist/cdn/esm.js\";\n",
       "    render(\n",
       "      \"circuits-vis-92dfed5a-332e\",\n",
       "      ColoredTokens,\n",
       "      {\"tokens\": [\"1\", \".\", \" Brad\", \" Pitt\", \"\\n\", \"2\", \".\", \" Tom\", \" H\", \"anks\", \"\\n\", \"3\", \".\", \" Leonardo\", \" Di\", \"Cap\", \"rio\", \"\\n\", \"4\", \".\", \" Tom\", \" Brady\", \"\\n\", \"5\", \".\", \" Daniel\", \" Rad\", \"cliffe\", \"\\n\", \"6\", \".\", \" Hugh\", \" Jack\", \"man\", \"\\n\", \"Which\", \" among\", \" these\", \" people\", \" are\", \" different\", \" from\", \" others\", \"?\\n\", \"Answer\", \":\"], \"values\": [0.020816564559936523, 0.002232782542705536, 0.00229606032371521, 0.008160799741744995, 0.008451282978057861, 0.006560489535331726, 0.006745770573616028, 0.005091682076454163, 0.0012380704283714294, 0.014205709099769592, 0.008151054382324219, 0.0015781596302986145, 0.005210384726524353, 0.0055493563413619995, 0.0016827397048473358, 0.004083521664142609, 0.005083693191409111, 0.006632030010223389, 0.002293504774570465, 0.002721969038248062, 0.009298060089349747, 0.049242377281188965, 0.04232008010149002, 0.002547880634665489, 0.005707360804080963, 0.005768299102783203, 0.012352660298347473, 0.021788761019706726, 0.013955719769001007, 0.0049329400062561035, 0.00675569474697113, 0.0036410316824913025, 0.0040993839502334595, 0.006433591246604919, 0.006216127425432205, 0.010534703731536865, 0.004176679998636246, 0.016536802053451538, 0.009309649467468262, 0.007607348263263702, 0.015534278005361557, 0.0042948173359036446, 0.012103937566280365, 0.0155610591173172, 0.008371490985155106, 0.033773273229599]}\n",
       "    )\n",
       "    </script>"
      ],
      "text/plain": [
       "<circuitsvis.utils.render.RenderedHTML at 0x7fa567d2e910>"
      ]
     },
     "metadata": {},
     "output_type": "display_data"
    },
    {
     "name": "stdout",
     "output_type": "stream",
     "text": [
      "--------------------------------------------------------------------------------\n",
      "layer=47\n"
     ]
    },
    {
     "data": {
      "text/html": [
       "<div id=\"circuits-vis-66e776d3-8e09\" style=\"margin: 15px 0;\"/>\n",
       "    <script crossorigin type=\"module\">\n",
       "    import { render, ColoredTokens } from \"https://unpkg.com/circuitsvis@1.43.3/dist/cdn/esm.js\";\n",
       "    render(\n",
       "      \"circuits-vis-66e776d3-8e09\",\n",
       "      ColoredTokens,\n",
       "      {\"tokens\": [\"1\", \".\", \" Brad\", \" Pitt\", \"\\n\", \"2\", \".\", \" Tom\", \" H\", \"anks\", \"\\n\", \"3\", \".\", \" Leonardo\", \" Di\", \"Cap\", \"rio\", \"\\n\", \"4\", \".\", \" Tom\", \" Brady\", \"\\n\", \"5\", \".\", \" Daniel\", \" Rad\", \"cliffe\", \"\\n\", \"6\", \".\", \" Hugh\", \" Jack\", \"man\", \"\\n\", \"Which\", \" among\", \" these\", \" people\", \" are\", \" different\", \" from\", \" others\", \"?\\n\", \"Answer\", \":\"], \"values\": [0.0020605623722076416, 0.000885404646396637, 0.0011261999607086182, 0.0015901662409305573, 0.000649020541459322, 0.0006865747272968292, 0.0009983079507946968, 0.0023834016174077988, 0.0004228907637298107, 0.0006410013884305954, 0.0013492581201717257, 0.0003746977308765054, 0.0005765040405094624, 0.0014478694647550583, 0.0003870832733809948, 0.0006309887394309044, 0.0008001085370779037, 0.0011350675486028194, 0.0006313503254204988, 0.0006017531268298626, 0.003259412944316864, 0.0034065134823322296, 0.007670910097658634, 0.0006855633109807968, 0.0013433899730443954, 0.005636603571474552, 0.002305222675204277, 0.002735227346420288, 0.002174297347664833, 0.0008069141767919064, 0.0011442098766565323, 0.0011649373918771744, 0.0008532330393791199, 0.0005800742655992508, 0.00037550274282693863, 0.0014782771468162537, 0.0009372374042868614, 0.0009176451712846756, 0.0009354352951049805, 0.0009991563856601715, 0.0013004690408706665, 0.0006227772682905197, 0.0011978484690189362, 0.005212649703025818, 0.0043776631355285645, 0.0030274689197540283]}\n",
       "    )\n",
       "    </script>"
      ],
      "text/plain": [
       "<circuitsvis.utils.render.RenderedHTML at 0x7fa4c036b490>"
      ]
     },
     "metadata": {},
     "output_type": "display_data"
    },
    {
     "name": "stdout",
     "output_type": "stream",
     "text": [
      "--------------------------------------------------------------------------------\n",
      "layer=52\n"
     ]
    },
    {
     "data": {
      "text/html": [
       "<div id=\"circuits-vis-71ad6659-1126\" style=\"margin: 15px 0;\"/>\n",
       "    <script crossorigin type=\"module\">\n",
       "    import { render, ColoredTokens } from \"https://unpkg.com/circuitsvis@1.43.3/dist/cdn/esm.js\";\n",
       "    render(\n",
       "      \"circuits-vis-71ad6659-1126\",\n",
       "      ColoredTokens,\n",
       "      {\"tokens\": [\"1\", \".\", \" Brad\", \" Pitt\", \"\\n\", \"2\", \".\", \" Tom\", \" H\", \"anks\", \"\\n\", \"3\", \".\", \" Leonardo\", \" Di\", \"Cap\", \"rio\", \"\\n\", \"4\", \".\", \" Tom\", \" Brady\", \"\\n\", \"5\", \".\", \" Daniel\", \" Rad\", \"cliffe\", \"\\n\", \"6\", \".\", \" Hugh\", \" Jack\", \"man\", \"\\n\", \"Which\", \" among\", \" these\", \" people\", \" are\", \" different\", \" from\", \" others\", \"?\\n\", \"Answer\", \":\"], \"values\": [0.00422060489654541, 0.002375613898038864, 0.002877369523048401, 0.0023162178695201874, 0.002352450042963028, 0.0024286340922117233, 0.0022732242941856384, 0.007898632436990738, 0.0005676625296473503, 0.0009243579115718603, 0.0018037818372249603, 0.0009165764786303043, 0.0013342872262001038, 0.005340728908777237, 0.0011498695239424706, 0.0006951787509024143, 0.00078944256529212, 0.001485631801187992, 0.00113262003287673, 0.001157776452600956, 0.010606585070490837, 0.006352471187710762, 0.006015220656991005, 0.0011712918058037758, 0.001928769052028656, 0.011334653943777084, 0.005115978419780731, 0.0019114147871732712, 0.0028634220361709595, 0.0016326922923326492, 0.001680782064795494, 0.002850465476512909, 0.000515270046889782, 0.0006698481738567352, 0.0007642959244549274, 0.004968658089637756, 0.003009635955095291, 0.0020869597792625427, 0.0017263926565647125, 0.0017886944115161896, 0.002092413604259491, 0.0011345110833644867, 0.002413220703601837, 0.011853650212287903, 0.01218193769454956, 0.014282859861850739]}\n",
       "    )\n",
       "    </script>"
      ],
      "text/plain": [
       "<circuitsvis.utils.render.RenderedHTML at 0x7fa5679942d0>"
      ]
     },
     "metadata": {},
     "output_type": "display_data"
    },
    {
     "name": "stdout",
     "output_type": "stream",
     "text": [
      "--------------------------------------------------------------------------------\n",
      "======================================================================\n",
      "2025-08-01 14:50:21 __main__ INFO     Layer: 33, Head: 45\n"
     ]
    },
    {
     "data": {
      "text/html": [
       "<div id=\"circuits-vis-a4101eb1-ff56\" style=\"margin: 15px 0;\"/>\n",
       "    <script crossorigin type=\"module\">\n",
       "    import { render, ColoredTokens } from \"https://unpkg.com/circuitsvis@1.43.3/dist/cdn/esm.js\";\n",
       "    render(\n",
       "      \"circuits-vis-a4101eb1-ff56\",\n",
       "      ColoredTokens,\n",
       "      {\"tokens\": [\"1\", \".\", \" Brad\", \" Pitt\", \"\\n\", \"2\", \".\", \" Tom\", \" H\", \"anks\", \"\\n\", \"3\", \".\", \" Leonardo\", \" Di\", \"Cap\", \"rio\", \"\\n\", \"4\", \".\", \" Tom\", \" Brady\", \"\\n\", \"5\", \".\", \" Daniel\", \" Rad\", \"cliffe\", \"\\n\", \"6\", \".\", \" Hugh\", \" Jack\", \"man\", \"\\n\", \"Which\", \" among\", \" these\", \" people\", \" are\", \" different\", \" from\", \" others\", \"?\\n\", \"Answer\", \":\"], \"values\": [0.01470947265625, 0.00089263916015625, 0.0027923583984375, 0.007598876953125, 0.00142669677734375, 0.003143310546875, 0.004302978515625, 0.016845703125, 0.000919342041015625, 0.130859375, 0.0186767578125, 0.0007171630859375, 0.007476806640625, 0.00927734375, 0.00159454345703125, 0.00897216796875, 0.009033203125, 0.00653076171875, 0.0012969970703125, 0.003021240234375, 0.0201416015625, 0.236328125, 0.11767578125, 0.00262451171875, 0.00592041015625, 0.01068115234375, 0.0498046875, 0.04345703125, 0.0185546875, 0.00098419189453125, 0.005828857421875, 0.00555419921875, 0.01129150390625, 0.0034027099609375, 0.0030670166015625, 0.00830078125, 0.000919342041015625, 0.007080078125, 0.007232666015625, 0.00250244140625, 0.014404296875, 0.000682830810546875, 0.001922607421875, 0.0028839111328125, 0.0001926422119140625, 0.0279541015625]}\n",
       "    )\n",
       "    </script>"
      ],
      "text/plain": [
       "<circuitsvis.utils.render.RenderedHTML at 0x7fa540116f50>"
      ]
     },
     "metadata": {},
     "output_type": "display_data"
    },
    {
     "name": "stdout",
     "output_type": "stream",
     "text": [
      "2025-08-01 14:50:21 __main__ INFO     Layer: 33, Head: 18\n"
     ]
    },
    {
     "data": {
      "text/html": [
       "<div id=\"circuits-vis-0c5eb8bc-e4d5\" style=\"margin: 15px 0;\"/>\n",
       "    <script crossorigin type=\"module\">\n",
       "    import { render, ColoredTokens } from \"https://unpkg.com/circuitsvis@1.43.3/dist/cdn/esm.js\";\n",
       "    render(\n",
       "      \"circuits-vis-0c5eb8bc-e4d5\",\n",
       "      ColoredTokens,\n",
       "      {\"tokens\": [\"1\", \".\", \" Brad\", \" Pitt\", \"\\n\", \"2\", \".\", \" Tom\", \" H\", \"anks\", \"\\n\", \"3\", \".\", \" Leonardo\", \" Di\", \"Cap\", \"rio\", \"\\n\", \"4\", \".\", \" Tom\", \" Brady\", \"\\n\", \"5\", \".\", \" Daniel\", \" Rad\", \"cliffe\", \"\\n\", \"6\", \".\", \" Hugh\", \" Jack\", \"man\", \"\\n\", \"Which\", \" among\", \" these\", \" people\", \" are\", \" different\", \" from\", \" others\", \"?\\n\", \"Answer\", \":\"], \"values\": [0.0257568359375, 0.0008697509765625, 0.005950927734375, 0.0390625, 0.01361083984375, 0.00433349609375, 0.0179443359375, 0.043212890625, 0.0020904541015625, 0.06982421875, 0.0244140625, 0.00061798095703125, 0.005950927734375, 0.003265380859375, 0.0035247802734375, 0.005706787109375, 0.01092529296875, 0.0062255859375, 0.002685546875, 0.0027923583984375, 0.051513671875, 0.2060546875, 0.1611328125, 0.00189971923828125, 0.0108642578125, 0.0201416015625, 0.00836181640625, 0.0272216796875, 0.024658203125, 0.0037841796875, 0.005706787109375, 0.005462646484375, 0.005401611328125, 0.00872802734375, 0.0027618408203125, 0.00099945068359375, 0.000347137451171875, 0.00154876708984375, 0.0064697265625, 0.00061798095703125, 0.0003299713134765625, 4.482269287109375e-05, 0.00014209747314453125, 0.0002498626708984375, 7.62939453125e-05, 0.003631591796875]}\n",
       "    )\n",
       "    </script>"
      ],
      "text/plain": [
       "<circuitsvis.utils.render.RenderedHTML at 0x7fa4c030fc90>"
      ]
     },
     "metadata": {},
     "output_type": "display_data"
    },
    {
     "name": "stdout",
     "output_type": "stream",
     "text": [
      "2025-08-01 14:50:22 __main__ INFO     Layer: 34, Head: 1\n"
     ]
    },
    {
     "data": {
      "text/html": [
       "<div id=\"circuits-vis-8ae01ffa-1c28\" style=\"margin: 15px 0;\"/>\n",
       "    <script crossorigin type=\"module\">\n",
       "    import { render, ColoredTokens } from \"https://unpkg.com/circuitsvis@1.43.3/dist/cdn/esm.js\";\n",
       "    render(\n",
       "      \"circuits-vis-8ae01ffa-1c28\",\n",
       "      ColoredTokens,\n",
       "      {\"tokens\": [\"1\", \".\", \" Brad\", \" Pitt\", \"\\n\", \"2\", \".\", \" Tom\", \" H\", \"anks\", \"\\n\", \"3\", \".\", \" Leonardo\", \" Di\", \"Cap\", \"rio\", \"\\n\", \"4\", \".\", \" Tom\", \" Brady\", \"\\n\", \"5\", \".\", \" Daniel\", \" Rad\", \"cliffe\", \"\\n\", \"6\", \".\", \" Hugh\", \" Jack\", \"man\", \"\\n\", \"Which\", \" among\", \" these\", \" people\", \" are\", \" different\", \" from\", \" others\", \"?\\n\", \"Answer\", \":\"], \"values\": [0.058349609375, 0.0031280517578125, 0.00421142578125, 0.0037689208984375, 0.0032196044921875, 0.023681640625, 0.00421142578125, 0.0062255859375, 0.00037384033203125, 0.00927734375, 0.01171875, 0.0026702880859375, 0.0034942626953125, 0.003387451171875, 0.0008544921875, 0.0025177001953125, 0.0028076171875, 0.004486083984375, 0.00994873046875, 0.00225830078125, 0.00836181640625, 0.052490234375, 0.1103515625, 0.006378173828125, 0.0038299560546875, 0.011962890625, 0.01458740234375, 0.037109375, 0.06640625, 0.0235595703125, 0.0089111328125, 0.002716064453125, 0.00054168701171875, 0.00054168701171875, 0.0023651123046875, 0.012451171875, 0.00360107421875, 0.0245361328125, 0.010009765625, 0.00616455078125, 0.003326416015625, 0.00045013427734375, 0.0014801025390625, 0.0028076171875, 0.00095367431640625, 0.056640625]}\n",
       "    )\n",
       "    </script>"
      ],
      "text/plain": [
       "<circuitsvis.utils.render.RenderedHTML at 0x7fa4c02cd610>"
      ]
     },
     "metadata": {},
     "output_type": "display_data"
    },
    {
     "name": "stdout",
     "output_type": "stream",
     "text": [
      "2025-08-01 14:50:22 __main__ INFO     Layer: 34, Head: 6\n"
     ]
    },
    {
     "data": {
      "text/html": [
       "<div id=\"circuits-vis-8cc1a981-9f00\" style=\"margin: 15px 0;\"/>\n",
       "    <script crossorigin type=\"module\">\n",
       "    import { render, ColoredTokens } from \"https://unpkg.com/circuitsvis@1.43.3/dist/cdn/esm.js\";\n",
       "    render(\n",
       "      \"circuits-vis-8cc1a981-9f00\",\n",
       "      ColoredTokens,\n",
       "      {\"tokens\": [\"1\", \".\", \" Brad\", \" Pitt\", \"\\n\", \"2\", \".\", \" Tom\", \" H\", \"anks\", \"\\n\", \"3\", \".\", \" Leonardo\", \" Di\", \"Cap\", \"rio\", \"\\n\", \"4\", \".\", \" Tom\", \" Brady\", \"\\n\", \"5\", \".\", \" Daniel\", \" Rad\", \"cliffe\", \"\\n\", \"6\", \".\", \" Hugh\", \" Jack\", \"man\", \"\\n\", \"Which\", \" among\", \" these\", \" people\", \" are\", \" different\", \" from\", \" others\", \"?\\n\", \"Answer\", \":\"], \"values\": [0.064453125, 0.003936767578125, 0.00628662109375, 0.003997802734375, 0.003936767578125, 0.0203857421875, 0.0059814453125, 0.00860595703125, 0.000835418701171875, 0.0179443359375, 0.01190185546875, 0.00457763671875, 0.0064697265625, 0.0033111572265625, 0.00160980224609375, 0.003997802734375, 0.00445556640625, 0.003692626953125, 0.00958251953125, 0.005615234375, 0.01171875, 0.123046875, 0.076171875, 0.006378173828125, 0.004730224609375, 0.0130615234375, 0.046875, 0.034423828125, 0.0255126953125, 0.0101318359375, 0.0125732421875, 0.002105712890625, 0.000812530517578125, 0.0004215240478515625, 0.0012969970703125, 0.0125732421875, 0.004669189453125, 0.017578125, 0.005035400390625, 0.010009765625, 0.007171630859375, 0.00127410888671875, 0.00250244140625, 0.0030670166015625, 0.001220703125, 0.0517578125]}\n",
       "    )\n",
       "    </script>"
      ],
      "text/plain": [
       "<circuitsvis.utils.render.RenderedHTML at 0x7fa5679b18d0>"
      ]
     },
     "metadata": {},
     "output_type": "display_data"
    },
    {
     "name": "stdout",
     "output_type": "stream",
     "text": [
      "2025-08-01 14:50:22 __main__ INFO     Layer: 34, Head: 7\n"
     ]
    },
    {
     "data": {
      "text/html": [
       "<div id=\"circuits-vis-723cdbb4-3217\" style=\"margin: 15px 0;\"/>\n",
       "    <script crossorigin type=\"module\">\n",
       "    import { render, ColoredTokens } from \"https://unpkg.com/circuitsvis@1.43.3/dist/cdn/esm.js\";\n",
       "    render(\n",
       "      \"circuits-vis-723cdbb4-3217\",\n",
       "      ColoredTokens,\n",
       "      {\"tokens\": [\"1\", \".\", \" Brad\", \" Pitt\", \"\\n\", \"2\", \".\", \" Tom\", \" H\", \"anks\", \"\\n\", \"3\", \".\", \" Leonardo\", \" Di\", \"Cap\", \"rio\", \"\\n\", \"4\", \".\", \" Tom\", \" Brady\", \"\\n\", \"5\", \".\", \" Daniel\", \" Rad\", \"cliffe\", \"\\n\", \"6\", \".\", \" Hugh\", \" Jack\", \"man\", \"\\n\", \"Which\", \" among\", \" these\", \" people\", \" are\", \" different\", \" from\", \" others\", \"?\\n\", \"Answer\", \":\"], \"values\": [0.053466796875, 0.000408172607421875, 0.0019989013671875, 0.002960205078125, 0.00119781494140625, 0.00238037109375, 0.0022430419921875, 0.0023040771484375, 0.000576019287109375, 0.003204345703125, 0.00311279296875, 0.00139617919921875, 0.00127410888671875, 0.00177001953125, 0.002197265625, 0.00144195556640625, 0.00191497802734375, 0.0024566650390625, 0.00194549560546875, 0.0020751953125, 0.0093994140625, 0.0216064453125, 0.0517578125, 0.003204345703125, 0.004241943359375, 0.0076904296875, 0.0240478515625, 0.0390625, 0.05908203125, 0.00799560546875, 0.0089111328125, 0.0048828125, 0.004241943359375, 0.0054931640625, 0.01025390625, 0.038330078125, 0.0086669921875, 0.134765625, 0.0216064453125, 0.01806640625, 0.0244140625, 0.00567626953125, 0.01422119140625, 0.0196533203125, 0.002197265625, 0.138671875]}\n",
       "    )\n",
       "    </script>"
      ],
      "text/plain": [
       "<circuitsvis.utils.render.RenderedHTML at 0x7fa4c020c990>"
      ]
     },
     "metadata": {},
     "output_type": "display_data"
    },
    {
     "name": "stdout",
     "output_type": "stream",
     "text": [
      "2025-08-01 14:50:22 __main__ INFO     Layer: 35, Head: 19\n"
     ]
    },
    {
     "data": {
      "text/html": [
       "<div id=\"circuits-vis-290f223c-ec1f\" style=\"margin: 15px 0;\"/>\n",
       "    <script crossorigin type=\"module\">\n",
       "    import { render, ColoredTokens } from \"https://unpkg.com/circuitsvis@1.43.3/dist/cdn/esm.js\";\n",
       "    render(\n",
       "      \"circuits-vis-290f223c-ec1f\",\n",
       "      ColoredTokens,\n",
       "      {\"tokens\": [\"1\", \".\", \" Brad\", \" Pitt\", \"\\n\", \"2\", \".\", \" Tom\", \" H\", \"anks\", \"\\n\", \"3\", \".\", \" Leonardo\", \" Di\", \"Cap\", \"rio\", \"\\n\", \"4\", \".\", \" Tom\", \" Brady\", \"\\n\", \"5\", \".\", \" Daniel\", \" Rad\", \"cliffe\", \"\\n\", \"6\", \".\", \" Hugh\", \" Jack\", \"man\", \"\\n\", \"Which\", \" among\", \" these\", \" people\", \" are\", \" different\", \" from\", \" others\", \"?\\n\", \"Answer\", \":\"], \"values\": [0.0023956298828125, 4.6253204345703125e-05, 0.00080108642578125, 0.00714111328125, 0.001068115234375, 0.0012359619140625, 0.0036163330078125, 0.003936767578125, 0.00018024444580078125, 0.08642578125, 0.00836181640625, 0.00017261505126953125, 0.0026702880859375, 0.00396728515625, 0.00054931640625, 0.0089111328125, 0.01171875, 0.003692626953125, 0.00019168853759765625, 0.0007476806640625, 0.006683349609375, 0.341796875, 0.29296875, 0.000225067138671875, 0.002532958984375, 0.001739501953125, 0.0517578125, 0.07763671875, 0.033447265625, 0.00093841552734375, 0.006072998046875, 0.00103759765625, 0.0013427734375, 0.00176239013671875, 0.000701904296875, 0.0027313232421875, 3.838539123535156e-05, 0.00433349609375, 0.00075531005859375, 6.151199340820312e-05, 0.000118255615234375, 7.569789886474609e-06, 7.772445678710938e-05, 4.100799560546875e-05, 3.600120544433594e-05, 0.0004787445068359375]}\n",
       "    )\n",
       "    </script>"
      ],
      "text/plain": [
       "<circuitsvis.utils.render.RenderedHTML at 0x7fa4a012bc50>"
      ]
     },
     "metadata": {},
     "output_type": "display_data"
    },
    {
     "name": "stdout",
     "output_type": "stream",
     "text": [
      "2025-08-01 14:50:22 __main__ INFO     Layer: 39, Head: 40\n"
     ]
    },
    {
     "data": {
      "text/html": [
       "<div id=\"circuits-vis-04f77e4f-5f6f\" style=\"margin: 15px 0;\"/>\n",
       "    <script crossorigin type=\"module\">\n",
       "    import { render, ColoredTokens } from \"https://unpkg.com/circuitsvis@1.43.3/dist/cdn/esm.js\";\n",
       "    render(\n",
       "      \"circuits-vis-04f77e4f-5f6f\",\n",
       "      ColoredTokens,\n",
       "      {\"tokens\": [\"1\", \".\", \" Brad\", \" Pitt\", \"\\n\", \"2\", \".\", \" Tom\", \" H\", \"anks\", \"\\n\", \"3\", \".\", \" Leonardo\", \" Di\", \"Cap\", \"rio\", \"\\n\", \"4\", \".\", \" Tom\", \" Brady\", \"\\n\", \"5\", \".\", \" Daniel\", \" Rad\", \"cliffe\", \"\\n\", \"6\", \".\", \" Hugh\", \" Jack\", \"man\", \"\\n\", \"Which\", \" among\", \" these\", \" people\", \" are\", \" different\", \" from\", \" others\", \"?\\n\", \"Answer\", \":\"], \"values\": [0.0034942626953125, 0.00087738037109375, 0.0022430419921875, 0.002838134765625, 0.003143310546875, 0.000850677490234375, 0.00433349609375, 0.00830078125, 0.00067138671875, 0.0216064453125, 0.03173828125, 0.000461578369140625, 0.004486083984375, 0.006256103515625, 0.000492095947265625, 0.003631591796875, 0.016357421875, 0.014404296875, 0.00250244140625, 0.0029144287109375, 0.03564453125, 0.255859375, 0.365234375, 0.0023651123046875, 0.00482177734375, 0.00848388671875, 0.008544921875, 0.037841796875, 0.0595703125, 0.0033416748046875, 0.0064697265625, 0.006317138671875, 0.00174713134765625, 0.00848388671875, 0.00970458984375, 0.0023651123046875, 0.00122833251953125, 0.00152587890625, 0.00069427490234375, 0.00188446044921875, 0.000186920166015625, 0.00032806396484375, 0.000492095947265625, 0.004180908203125, 0.00110626220703125, 0.01708984375]}\n",
       "    )\n",
       "    </script>"
      ],
      "text/plain": [
       "<circuitsvis.utils.render.RenderedHTML at 0x7fa4c030e910>"
      ]
     },
     "metadata": {},
     "output_type": "display_data"
    },
    {
     "name": "stdout",
     "output_type": "stream",
     "text": [
      "2025-08-01 14:50:22 __main__ INFO     Layer: 42, Head: 30\n"
     ]
    },
    {
     "data": {
      "text/html": [
       "<div id=\"circuits-vis-6586fbdc-2e8f\" style=\"margin: 15px 0;\"/>\n",
       "    <script crossorigin type=\"module\">\n",
       "    import { render, ColoredTokens } from \"https://unpkg.com/circuitsvis@1.43.3/dist/cdn/esm.js\";\n",
       "    render(\n",
       "      \"circuits-vis-6586fbdc-2e8f\",\n",
       "      ColoredTokens,\n",
       "      {\"tokens\": [\"1\", \".\", \" Brad\", \" Pitt\", \"\\n\", \"2\", \".\", \" Tom\", \" H\", \"anks\", \"\\n\", \"3\", \".\", \" Leonardo\", \" Di\", \"Cap\", \"rio\", \"\\n\", \"4\", \".\", \" Tom\", \" Brady\", \"\\n\", \"5\", \".\", \" Daniel\", \" Rad\", \"cliffe\", \"\\n\", \"6\", \".\", \" Hugh\", \" Jack\", \"man\", \"\\n\", \"Which\", \" among\", \" these\", \" people\", \" are\", \" different\", \" from\", \" others\", \"?\\n\", \"Answer\", \":\"], \"values\": [0.0068359375, 0.00136566162109375, 0.003387451171875, 0.027099609375, 0.00323486328125, 0.00170135498046875, 0.0038299560546875, 0.0101318359375, 0.005859375, 0.024658203125, 0.0054931640625, 0.001068115234375, 0.0037841796875, 0.0142822265625, 0.005950927734375, 0.0167236328125, 0.0107421875, 0.006134033203125, 0.003387451171875, 0.004547119140625, 0.01611328125, 0.1591796875, 0.052001953125, 0.004913330078125, 0.00787353515625, 0.023193359375, 0.06689453125, 0.056396484375, 0.0162353515625, 0.009033203125, 0.0089111328125, 0.0130615234375, 0.01495361328125, 0.01239013671875, 0.00775146484375, 0.007293701171875, 0.002685546875, 0.0054931640625, 0.006134033203125, 0.00433349609375, 0.0029449462890625, 0.00183868408203125, 0.00150299072265625, 0.004547119140625, 0.000885009765625, 0.00653076171875]}\n",
       "    )\n",
       "    </script>"
      ],
      "text/plain": [
       "<circuitsvis.utils.render.RenderedHTML at 0x7fa4c020ced0>"
      ]
     },
     "metadata": {},
     "output_type": "display_data"
    },
    {
     "name": "stdout",
     "output_type": "stream",
     "text": [
      "2025-08-01 14:50:22 __main__ INFO     Layer: 47, Head: 18\n"
     ]
    },
    {
     "data": {
      "text/html": [
       "<div id=\"circuits-vis-154807ca-bc59\" style=\"margin: 15px 0;\"/>\n",
       "    <script crossorigin type=\"module\">\n",
       "    import { render, ColoredTokens } from \"https://unpkg.com/circuitsvis@1.43.3/dist/cdn/esm.js\";\n",
       "    render(\n",
       "      \"circuits-vis-154807ca-bc59\",\n",
       "      ColoredTokens,\n",
       "      {\"tokens\": [\"1\", \".\", \" Brad\", \" Pitt\", \"\\n\", \"2\", \".\", \" Tom\", \" H\", \"anks\", \"\\n\", \"3\", \".\", \" Leonardo\", \" Di\", \"Cap\", \"rio\", \"\\n\", \"4\", \".\", \" Tom\", \" Brady\", \"\\n\", \"5\", \".\", \" Daniel\", \" Rad\", \"cliffe\", \"\\n\", \"6\", \".\", \" Hugh\", \" Jack\", \"man\", \"\\n\", \"Which\", \" among\", \" these\", \" people\", \" are\", \" different\", \" from\", \" others\", \"?\\n\", \"Answer\", \":\"], \"values\": [0.00341796875, 0.0028839111328125, 0.005126953125, 0.004730224609375, 0.0026702880859375, 0.004608154296875, 0.00836181640625, 0.0361328125, 0.0036468505859375, 0.001617431640625, 0.023193359375, 0.006591796875, 0.007232666015625, 0.0057373046875, 0.006500244140625, 0.006561279296875, 0.017822265625, 0.029052734375, 0.01171875, 0.006927490234375, 0.08056640625, 0.0556640625, 0.28125, 0.00897216796875, 0.013671875, 0.08642578125, 0.044677734375, 0.0615234375, 0.037841796875, 0.01165771484375, 0.01434326171875, 0.003753662109375, 0.000576019287109375, 0.00142669677734375, 0.0022125244140625, 0.004180908203125, 0.0004863739013671875, 0.0020751953125, 0.0021820068359375, 0.00457763671875, 0.000568389892578125, 0.00116729736328125, 0.000324249267578125, 0.0026702880859375, 0.0004863739013671875, 0.00592041015625]}\n",
       "    )\n",
       "    </script>"
      ],
      "text/plain": [
       "<circuitsvis.utils.render.RenderedHTML at 0x7fa4c0102610>"
      ]
     },
     "metadata": {},
     "output_type": "display_data"
    },
    {
     "name": "stdout",
     "output_type": "stream",
     "text": [
      "2025-08-01 14:50:22 __main__ INFO     Layer: 52, Head: 58\n"
     ]
    },
    {
     "data": {
      "text/html": [
       "<div id=\"circuits-vis-c6dcbb1c-46b1\" style=\"margin: 15px 0;\"/>\n",
       "    <script crossorigin type=\"module\">\n",
       "    import { render, ColoredTokens } from \"https://unpkg.com/circuitsvis@1.43.3/dist/cdn/esm.js\";\n",
       "    render(\n",
       "      \"circuits-vis-c6dcbb1c-46b1\",\n",
       "      ColoredTokens,\n",
       "      {\"tokens\": [\"1\", \".\", \" Brad\", \" Pitt\", \"\\n\", \"2\", \".\", \" Tom\", \" H\", \"anks\", \"\\n\", \"3\", \".\", \" Leonardo\", \" Di\", \"Cap\", \"rio\", \"\\n\", \"4\", \".\", \" Tom\", \" Brady\", \"\\n\", \"5\", \".\", \" Daniel\", \" Rad\", \"cliffe\", \"\\n\", \"6\", \".\", \" Hugh\", \" Jack\", \"man\", \"\\n\", \"Which\", \" among\", \" these\", \" people\", \" are\", \" different\", \" from\", \" others\", \"?\\n\", \"Answer\", \":\"], \"values\": [0.0025482177734375, 0.000782012939453125, 0.0010528564453125, 0.033447265625, 0.00035858154296875, 0.000518798828125, 0.0005035400390625, 0.0166015625, 0.0133056640625, 0.01397705078125, 0.0031585693359375, 0.0003814697265625, 0.000804901123046875, 0.003265380859375, 0.04541015625, 0.0101318359375, 0.003448486328125, 0.0036163330078125, 0.00128936767578125, 0.000957489013671875, 0.032470703125, 0.3203125, 0.0791015625, 0.00165557861328125, 0.00157928466796875, 0.0208740234375, 0.234375, 0.03076171875, 0.0089111328125, 0.001434326171875, 0.00165557861328125, 0.00115203857421875, 0.006988525390625, 0.000972747802734375, 0.0005035400390625, 0.000217437744140625, 0.00030517578125, 0.0003204345703125, 0.000843048095703125, 0.00122833251953125, 0.000370025634765625, 0.0001354217529296875, 7.486343383789062e-05, 0.00030517578125, 5.4836273193359375e-05, 0.0018157958984375]}\n",
       "    )\n",
       "    </script>"
      ],
      "text/plain": [
       "<circuitsvis.utils.render.RenderedHTML at 0x7fa5679b18d0>"
      ]
     },
     "metadata": {},
     "output_type": "display_data"
    },
    {
     "data": {
      "text/plain": [
       "[PredictedToken(token=' Tom', prob=0.353515625, logit=18.625, token_id=8529, metadata=None),\n",
       " PredictedToken(token=' Daniel', prob=0.353515625, logit=18.625, token_id=15469, metadata=None),\n",
       " PredictedToken(token=' ', prob=0.061279296875, logit=16.875, token_id=220, metadata=None),\n",
       " PredictedToken(token=' Hugh', prob=0.05419921875, logit=16.75, token_id=30206, metadata=None),\n",
       " PredictedToken(token=' The', prob=0.0255126953125, logit=16.0, token_id=578, metadata=None)]"
      ]
     },
     "execution_count": 43,
     "metadata": {},
     "output_type": "execute_result"
    }
   ],
   "source": [
    "verify_ind = verify_head_patterns(\n",
    "    prompt=prompt,\n",
    "    options=options,\n",
    "    pivot=\"different from others\",\n",
    "    mt=mt,\n",
    "    value_weighted=False,\n",
    "    generate_full_answer=False,\n",
    "    ablate_possible_ans_info_from_options=True,\n",
    ")\n",
    "verify_ind[\"predictions\"]"
   ]
  },
  {
   "cell_type": "code",
   "execution_count": 83,
   "id": "34473276",
   "metadata": {},
   "outputs": [
    {
     "name": "stdout",
     "output_type": "stream",
     "text": [
      "Which of the following words rhymes with rat\n",
      "options: orange, mat, book, rabbit, bowl, watch, mirror\n",
      "Answer:\n",
      "0 patches to ablate possible answer information from options\n",
      "2025-08-01 15:50:35 __main__ DEBUG    Generated full answer: \" mat\n",
      "The word \"mat\" rhymes with \"rat\". \n",
      "In rhyming, the final syllables of the two words should sound the\"\n",
      "2025-08-01 15:50:35 __main__ DEBUG    Predictions: ['\" mat\"[5634] (p=0.676, logit=20.250)', '\" The\"[578] (p=0.118, logit=18.500)', '\" Mat\"[7011] (p=0.104, logit=18.375)', '\" the\"[279] (p=0.012, logit=16.250)', '\"mat\"[8637] (p=0.010, logit=16.000)']\n",
      "layer=35\n"
     ]
    },
    {
     "data": {
      "text/html": [
       "<div id=\"circuits-vis-69762765-83f1\" style=\"margin: 15px 0;\"/>\n",
       "    <script crossorigin type=\"module\">\n",
       "    import { render, ColoredTokens } from \"https://unpkg.com/circuitsvis@1.43.3/dist/cdn/esm.js\";\n",
       "    render(\n",
       "      \"circuits-vis-69762765-83f1\",\n",
       "      ColoredTokens,\n",
       "      {\"tokens\": [\"Which\", \" of\", \" the\", \" following\", \" words\", \" rh\", \"ymes\", \" with\", \" rat\", \"\\n\", \"options\", \":\", \" orange\", \",\", \" mat\", \",\", \" book\", \",\", \" rabbit\", \",\", \" bowl\", \",\", \" watch\", \",\", \" mirror\", \"\\n\", \"Answer\", \":\"], \"values\": [0.026892900466918945, 0.0056073665618896484, 0.0010060854256153107, 0.005457878112792969, 0.007610440254211426, 0.005918562412261963, 0.02549421787261963, 0.013175874948501587, 0.035681962966918945, 0.0228426456451416, 0.006588205695152283, 0.008942395448684692, 0.009676367044448853, 0.015923455357551575, 0.04660555720329285, 0.03007867932319641, 0.004644677042961121, 0.00820380449295044, 0.020397216081619263, 0.014522060751914978, 0.006615012884140015, 0.00890679657459259, 0.00429128110408783, 0.005488380789756775, 0.005106374621391296, 0.024377107620239258, 0.01728098839521408, 0.03572160005569458]}\n",
       "    )\n",
       "    </script>"
      ],
      "text/plain": [
       "<circuitsvis.utils.render.RenderedHTML at 0x7f832acc0050>"
      ]
     },
     "metadata": {},
     "output_type": "display_data"
    },
    {
     "name": "stdout",
     "output_type": "stream",
     "text": [
      "--------------------------------------------------------------------------------\n",
      "layer=47\n"
     ]
    },
    {
     "data": {
      "text/html": [
       "<div id=\"circuits-vis-c0bbb278-0ac7\" style=\"margin: 15px 0;\"/>\n",
       "    <script crossorigin type=\"module\">\n",
       "    import { render, ColoredTokens } from \"https://unpkg.com/circuitsvis@1.43.3/dist/cdn/esm.js\";\n",
       "    render(\n",
       "      \"circuits-vis-c0bbb278-0ac7\",\n",
       "      ColoredTokens,\n",
       "      {\"tokens\": [\"Which\", \" of\", \" the\", \" following\", \" words\", \" rh\", \"ymes\", \" with\", \" rat\", \"\\n\", \"options\", \":\", \" orange\", \",\", \" mat\", \",\", \" book\", \",\", \" rabbit\", \",\", \" bowl\", \",\", \" watch\", \",\", \" mirror\", \"\\n\", \"Answer\", \":\"], \"values\": [0.002465948462486267, 0.0009383559226989746, 0.00039324723184108734, 0.0007346216589212418, 0.0008008629083633423, 0.0008118525147438049, 0.0020238831639289856, 0.0014606490731239319, 0.004638552665710449, 0.0028172582387924194, 0.0014884024858474731, 0.0018192529678344727, 0.0014665275812149048, 0.0010919757187366486, 0.026021279394626617, 0.0020292196422815323, 0.0014331191778182983, 0.0009714066982269287, 0.0017895102500915527, 0.001107512041926384, 0.00115947425365448, 0.0008443780243396759, 0.0010057613253593445, 0.0006725918501615524, 0.0017344877123832703, 0.0032926052808761597, 0.00639893114566803, 0.0033988505601882935]}\n",
       "    )\n",
       "    </script>"
      ],
      "text/plain": [
       "<circuitsvis.utils.render.RenderedHTML at 0x7fa4c0215690>"
      ]
     },
     "metadata": {},
     "output_type": "display_data"
    },
    {
     "name": "stdout",
     "output_type": "stream",
     "text": [
      "--------------------------------------------------------------------------------\n",
      "layer=52\n"
     ]
    },
    {
     "data": {
      "text/html": [
       "<div id=\"circuits-vis-c5f9284f-e73a\" style=\"margin: 15px 0;\"/>\n",
       "    <script crossorigin type=\"module\">\n",
       "    import { render, ColoredTokens } from \"https://unpkg.com/circuitsvis@1.43.3/dist/cdn/esm.js\";\n",
       "    render(\n",
       "      \"circuits-vis-c5f9284f-e73a\",\n",
       "      ColoredTokens,\n",
       "      {\"tokens\": [\"Which\", \" of\", \" the\", \" following\", \" words\", \" rh\", \"ymes\", \" with\", \" rat\", \"\\n\", \"options\", \":\", \" orange\", \",\", \" mat\", \",\", \" book\", \",\", \" rabbit\", \",\", \" bowl\", \",\", \" watch\", \",\", \" mirror\", \"\\n\", \"Answer\", \":\"], \"values\": [0.0045181214809417725, 0.0030692555010318756, 0.0009559579193592072, 0.002060767263174057, 0.0018831118941307068, 0.002678230404853821, 0.005683720111846924, 0.004198946058750153, 0.008382603526115417, 0.011451542377471924, 0.006930060684680939, 0.005261443555355072, 0.0039637647569179535, 0.0033699627965688705, 0.037725672125816345, 0.004382888786494732, 0.002785155549645424, 0.002072710543870926, 0.004258271306753159, 0.0022139884531497955, 0.001753430813550949, 0.0016543511301279068, 0.0013928934931755066, 0.0013970434665679932, 0.00269954651594162, 0.01063092052936554, 0.01766890287399292, 0.016001954674720764]}\n",
       "    )\n",
       "    </script>"
      ],
      "text/plain": [
       "<circuitsvis.utils.render.RenderedHTML at 0x7fa4c04aef50>"
      ]
     },
     "metadata": {},
     "output_type": "display_data"
    },
    {
     "name": "stdout",
     "output_type": "stream",
     "text": [
      "--------------------------------------------------------------------------------\n",
      "======================================================================\n",
      "2025-08-01 15:50:35 __main__ INFO     Layer: 33, Head: 45\n"
     ]
    },
    {
     "data": {
      "text/html": [
       "<div id=\"circuits-vis-cf8d184c-4e4f\" style=\"margin: 15px 0;\"/>\n",
       "    <script crossorigin type=\"module\">\n",
       "    import { render, ColoredTokens } from \"https://unpkg.com/circuitsvis@1.43.3/dist/cdn/esm.js\";\n",
       "    render(\n",
       "      \"circuits-vis-cf8d184c-4e4f\",\n",
       "      ColoredTokens,\n",
       "      {\"tokens\": [\"Which\", \" of\", \" the\", \" following\", \" words\", \" rh\", \"ymes\", \" with\", \" rat\", \"\\n\", \"options\", \":\", \" orange\", \",\", \" mat\", \",\", \" book\", \",\", \" rabbit\", \",\", \" bowl\", \",\", \" watch\", \",\", \" mirror\", \"\\n\", \"Answer\", \":\"], \"values\": [0.0233154296875, 0.0031585693359375, 0.00086212158203125, 0.006378173828125, 0.003509521484375, 0.00177001953125, 0.01123046875, 0.0079345703125, 0.0390625, 0.00885009765625, 0.01092529296875, 0.022216796875, 0.01043701171875, 0.0216064453125, 0.275390625, 0.0439453125, 0.00885009765625, 0.00909423828125, 0.030029296875, 0.0162353515625, 0.009033203125, 0.0247802734375, 0.00616455078125, 0.00921630859375, 0.00750732421875, 0.0167236328125, 0.005126953125, 0.02490234375]}\n",
       "    )\n",
       "    </script>"
      ],
      "text/plain": [
       "<circuitsvis.utils.render.RenderedHTML at 0x7fa4e0351a10>"
      ]
     },
     "metadata": {},
     "output_type": "display_data"
    },
    {
     "name": "stdout",
     "output_type": "stream",
     "text": [
      "2025-08-01 15:50:36 __main__ INFO     Layer: 33, Head: 18\n"
     ]
    },
    {
     "data": {
      "text/html": [
       "<div id=\"circuits-vis-1a36c27c-79c0\" style=\"margin: 15px 0;\"/>\n",
       "    <script crossorigin type=\"module\">\n",
       "    import { render, ColoredTokens } from \"https://unpkg.com/circuitsvis@1.43.3/dist/cdn/esm.js\";\n",
       "    render(\n",
       "      \"circuits-vis-1a36c27c-79c0\",\n",
       "      ColoredTokens,\n",
       "      {\"tokens\": [\"Which\", \" of\", \" the\", \" following\", \" words\", \" rh\", \"ymes\", \" with\", \" rat\", \"\\n\", \"options\", \":\", \" orange\", \",\", \" mat\", \",\", \" book\", \",\", \" rabbit\", \",\", \" bowl\", \",\", \" watch\", \",\", \" mirror\", \"\\n\", \"Answer\", \":\"], \"values\": [0.0228271484375, 0.0016937255859375, 0.0003223419189453125, 0.00164031982421875, 0.005401611328125, 0.003265380859375, 0.0167236328125, 0.017578125, 0.1015625, 0.020263671875, 0.0031585693359375, 0.007720947265625, 0.0322265625, 0.04638671875, 0.162109375, 0.2470703125, 0.01611328125, 0.03515625, 0.035400390625, 0.04345703125, 0.00872802734375, 0.01953125, 0.0024261474609375, 0.005462646484375, 0.006072998046875, 0.004425048828125, 0.0004558563232421875, 0.00701904296875]}\n",
       "    )\n",
       "    </script>"
      ],
      "text/plain": [
       "<circuitsvis.utils.render.RenderedHTML at 0x7fa4c0215850>"
      ]
     },
     "metadata": {},
     "output_type": "display_data"
    },
    {
     "name": "stdout",
     "output_type": "stream",
     "text": [
      "2025-08-01 15:50:36 __main__ INFO     Layer: 34, Head: 1\n"
     ]
    },
    {
     "data": {
      "text/html": [
       "<div id=\"circuits-vis-e9d7e227-812c\" style=\"margin: 15px 0;\"/>\n",
       "    <script crossorigin type=\"module\">\n",
       "    import { render, ColoredTokens } from \"https://unpkg.com/circuitsvis@1.43.3/dist/cdn/esm.js\";\n",
       "    render(\n",
       "      \"circuits-vis-e9d7e227-812c\",\n",
       "      ColoredTokens,\n",
       "      {\"tokens\": [\"Which\", \" of\", \" the\", \" following\", \" words\", \" rh\", \"ymes\", \" with\", \" rat\", \"\\n\", \"options\", \":\", \" orange\", \",\", \" mat\", \",\", \" book\", \",\", \" rabbit\", \",\", \" bowl\", \",\", \" watch\", \",\", \" mirror\", \"\\n\", \"Answer\", \":\"], \"values\": [0.02734375, 0.00189971923828125, 0.0001316070556640625, 0.00124359130859375, 0.00150299072265625, 0.003753662109375, 0.01470947265625, 0.0108642578125, 0.0302734375, 0.00567626953125, 0.00064849853515625, 0.009765625, 0.00010251998901367188, 0.0006866455078125, 0.33984375, 0.1708984375, 3.0279159545898438e-05, 0.00061798095703125, 0.007110595703125, 0.0098876953125, 0.0001087188720703125, 0.004119873046875, 2.8371810913085938e-05, 0.00124359130859375, 2.4318695068359375e-05, 0.0035247802734375, 0.00040435791015625, 0.07080078125]}\n",
       "    )\n",
       "    </script>"
      ],
      "text/plain": [
       "<circuitsvis.utils.render.RenderedHTML at 0x7fa4c04f6910>"
      ]
     },
     "metadata": {},
     "output_type": "display_data"
    },
    {
     "name": "stdout",
     "output_type": "stream",
     "text": [
      "2025-08-01 15:50:36 __main__ INFO     Layer: 34, Head: 6\n"
     ]
    },
    {
     "data": {
      "text/html": [
       "<div id=\"circuits-vis-5c96befd-a75e\" style=\"margin: 15px 0;\"/>\n",
       "    <script crossorigin type=\"module\">\n",
       "    import { render, ColoredTokens } from \"https://unpkg.com/circuitsvis@1.43.3/dist/cdn/esm.js\";\n",
       "    render(\n",
       "      \"circuits-vis-5c96befd-a75e\",\n",
       "      ColoredTokens,\n",
       "      {\"tokens\": [\"Which\", \" of\", \" the\", \" following\", \" words\", \" rh\", \"ymes\", \" with\", \" rat\", \"\\n\", \"options\", \":\", \" orange\", \",\", \" mat\", \",\", \" book\", \",\", \" rabbit\", \",\", \" bowl\", \",\", \" watch\", \",\", \" mirror\", \"\\n\", \"Answer\", \":\"], \"values\": [0.0208740234375, 0.00106048583984375, 0.0002288818359375, 0.00140380859375, 0.000652313232421875, 0.0009918212890625, 0.005035400390625, 0.005035400390625, 0.0244140625, 0.004241943359375, 0.0006103515625, 0.01031494140625, 0.00013065338134765625, 0.0006103515625, 0.400390625, 0.162109375, 5.7697296142578125e-05, 0.000583648681640625, 0.003692626953125, 0.00341796875, 6.961822509765625e-05, 0.00177001953125, 1.2874603271484375e-05, 0.0004138946533203125, 8.046627044677734e-06, 0.00140380859375, 0.00038909912109375, 0.0281982421875]}\n",
       "    )\n",
       "    </script>"
      ],
      "text/plain": [
       "<circuitsvis.utils.render.RenderedHTML at 0x7fa4c05d1490>"
      ]
     },
     "metadata": {},
     "output_type": "display_data"
    },
    {
     "name": "stdout",
     "output_type": "stream",
     "text": [
      "2025-08-01 15:50:36 __main__ INFO     Layer: 34, Head: 7\n"
     ]
    },
    {
     "data": {
      "text/html": [
       "<div id=\"circuits-vis-1824cd78-f276\" style=\"margin: 15px 0;\"/>\n",
       "    <script crossorigin type=\"module\">\n",
       "    import { render, ColoredTokens } from \"https://unpkg.com/circuitsvis@1.43.3/dist/cdn/esm.js\";\n",
       "    render(\n",
       "      \"circuits-vis-1824cd78-f276\",\n",
       "      ColoredTokens,\n",
       "      {\"tokens\": [\"Which\", \" of\", \" the\", \" following\", \" words\", \" rh\", \"ymes\", \" with\", \" rat\", \"\\n\", \"options\", \":\", \" orange\", \",\", \" mat\", \",\", \" book\", \",\", \" rabbit\", \",\", \" bowl\", \",\", \" watch\", \",\", \" mirror\", \"\\n\", \"Answer\", \":\"], \"values\": [0.0302734375, 0.00119781494140625, 0.00019550323486328125, 0.0015106201171875, 0.0015106201171875, 0.0019378662109375, 0.00738525390625, 0.007781982421875, 0.041748046875, 0.0087890625, 0.00144195556640625, 0.01007080078125, 0.000782012939453125, 0.0030975341796875, 0.2275390625, 0.177734375, 0.0003223419189453125, 0.00238037109375, 0.01507568359375, 0.01470947265625, 0.0009918212890625, 0.00897216796875, 0.0003223419189453125, 0.0037078857421875, 0.0004405975341796875, 0.015625, 0.003509521484375, 0.17578125]}\n",
       "    )\n",
       "    </script>"
      ],
      "text/plain": [
       "<circuitsvis.utils.render.RenderedHTML at 0x7fa4c01e1ad0>"
      ]
     },
     "metadata": {},
     "output_type": "display_data"
    },
    {
     "name": "stdout",
     "output_type": "stream",
     "text": [
      "2025-08-01 15:50:36 __main__ INFO     Layer: 35, Head: 19\n"
     ]
    },
    {
     "data": {
      "text/html": [
       "<div id=\"circuits-vis-83215c3d-ff56\" style=\"margin: 15px 0;\"/>\n",
       "    <script crossorigin type=\"module\">\n",
       "    import { render, ColoredTokens } from \"https://unpkg.com/circuitsvis@1.43.3/dist/cdn/esm.js\";\n",
       "    render(\n",
       "      \"circuits-vis-83215c3d-ff56\",\n",
       "      ColoredTokens,\n",
       "      {\"tokens\": [\"Which\", \" of\", \" the\", \" following\", \" words\", \" rh\", \"ymes\", \" with\", \" rat\", \"\\n\", \"options\", \":\", \" orange\", \",\", \" mat\", \",\", \" book\", \",\", \" rabbit\", \",\", \" bowl\", \",\", \" watch\", \",\", \" mirror\", \"\\n\", \"Answer\", \":\"], \"values\": [0.021728515625, 7.534027099609375e-05, 0.00016021728515625, 0.000141143798828125, 0.000507354736328125, 0.00038909912109375, 0.0033111572265625, 0.00069427490234375, 0.150390625, 0.00396728515625, 0.0002117156982421875, 0.0013580322265625, 0.004150390625, 0.0059814453125, 0.353515625, 0.056396484375, 0.00567626953125, 0.006439208984375, 0.134765625, 0.03564453125, 0.0269775390625, 0.019287109375, 0.0169677734375, 0.01007080078125, 0.006622314453125, 0.00390625, 6.4849853515625e-05, 0.0040283203125]}\n",
       "    )\n",
       "    </script>"
      ],
      "text/plain": [
       "<circuitsvis.utils.render.RenderedHTML at 0x7fa567994d90>"
      ]
     },
     "metadata": {},
     "output_type": "display_data"
    },
    {
     "name": "stdout",
     "output_type": "stream",
     "text": [
      "2025-08-01 15:50:36 __main__ INFO     Layer: 39, Head: 40\n"
     ]
    },
    {
     "data": {
      "text/html": [
       "<div id=\"circuits-vis-7af18e93-18d9\" style=\"margin: 15px 0;\"/>\n",
       "    <script crossorigin type=\"module\">\n",
       "    import { render, ColoredTokens } from \"https://unpkg.com/circuitsvis@1.43.3/dist/cdn/esm.js\";\n",
       "    render(\n",
       "      \"circuits-vis-7af18e93-18d9\",\n",
       "      ColoredTokens,\n",
       "      {\"tokens\": [\"Which\", \" of\", \" the\", \" following\", \" words\", \" rh\", \"ymes\", \" with\", \" rat\", \"\\n\", \"options\", \":\", \" orange\", \",\", \" mat\", \",\", \" book\", \",\", \" rabbit\", \",\", \" bowl\", \",\", \" watch\", \",\", \" mirror\", \"\\n\", \"Answer\", \":\"], \"values\": [0.006195068359375, 0.00107574462890625, 0.0002765655517578125, 0.000751495361328125, 0.002105712890625, 0.0006103515625, 0.0029449462890625, 0.004608154296875, 0.01129150390625, 0.01043701171875, 0.00188446044921875, 0.013427734375, 0.00043487548828125, 0.0028076171875, 0.68359375, 0.154296875, 0.00152587890625, 0.003570556640625, 0.006561279296875, 0.01513671875, 0.00038909912109375, 0.0024566650390625, 0.00011491775512695312, 0.001129150390625, 0.00025177001953125, 0.000823974609375, 0.000453948974609375, 0.0279541015625]}\n",
       "    )\n",
       "    </script>"
      ],
      "text/plain": [
       "<circuitsvis.utils.render.RenderedHTML at 0x7fa567994d90>"
      ]
     },
     "metadata": {},
     "output_type": "display_data"
    },
    {
     "name": "stdout",
     "output_type": "stream",
     "text": [
      "2025-08-01 15:50:36 __main__ INFO     Layer: 42, Head: 30\n"
     ]
    },
    {
     "data": {
      "text/html": [
       "<div id=\"circuits-vis-2b308908-0641\" style=\"margin: 15px 0;\"/>\n",
       "    <script crossorigin type=\"module\">\n",
       "    import { render, ColoredTokens } from \"https://unpkg.com/circuitsvis@1.43.3/dist/cdn/esm.js\";\n",
       "    render(\n",
       "      \"circuits-vis-2b308908-0641\",\n",
       "      ColoredTokens,\n",
       "      {\"tokens\": [\"Which\", \" of\", \" the\", \" following\", \" words\", \" rh\", \"ymes\", \" with\", \" rat\", \"\\n\", \"options\", \":\", \" orange\", \",\", \" mat\", \",\", \" book\", \",\", \" rabbit\", \",\", \" bowl\", \",\", \" watch\", \",\", \" mirror\", \"\\n\", \"Answer\", \":\"], \"values\": [0.00384521484375, 0.0007781982421875, 0.00141143798828125, 0.0030364990234375, 0.0054931640625, 0.003387451171875, 0.01361083984375, 0.01165771484375, 0.0201416015625, 0.0086669921875, 0.003387451171875, 0.01220703125, 0.0027618408203125, 0.00762939453125, 0.09619140625, 0.033447265625, 0.0025634765625, 0.0086669921875, 0.00775146484375, 0.01025390625, 0.0025634765625, 0.00775146484375, 0.00116729736328125, 0.00469970703125, 0.0030364990234375, 0.01519775390625, 0.000885009765625, 0.01544189453125]}\n",
       "    )\n",
       "    </script>"
      ],
      "text/plain": [
       "<circuitsvis.utils.render.RenderedHTML at 0x7fa4c0215850>"
      ]
     },
     "metadata": {},
     "output_type": "display_data"
    },
    {
     "name": "stdout",
     "output_type": "stream",
     "text": [
      "2025-08-01 15:50:36 __main__ INFO     Layer: 47, Head: 18\n"
     ]
    },
    {
     "data": {
      "text/html": [
       "<div id=\"circuits-vis-3bbcd61e-1383\" style=\"margin: 15px 0;\"/>\n",
       "    <script crossorigin type=\"module\">\n",
       "    import { render, ColoredTokens } from \"https://unpkg.com/circuitsvis@1.43.3/dist/cdn/esm.js\";\n",
       "    render(\n",
       "      \"circuits-vis-3bbcd61e-1383\",\n",
       "      ColoredTokens,\n",
       "      {\"tokens\": [\"Which\", \" of\", \" the\", \" following\", \" words\", \" rh\", \"ymes\", \" with\", \" rat\", \"\\n\", \"options\", \":\", \" orange\", \",\", \" mat\", \",\", \" book\", \",\", \" rabbit\", \",\", \" bowl\", \",\", \" watch\", \",\", \" mirror\", \"\\n\", \"Answer\", \":\"], \"values\": [0.00250244140625, 0.00106048583984375, 0.001129150390625, 0.00124359130859375, 0.00043487548828125, 0.000339508056640625, 0.000789642333984375, 0.00897216796875, 0.007354736328125, 0.0072021484375, 0.0003604888916015625, 0.010009765625, 0.00016021728515625, 0.005218505859375, 0.61328125, 0.04638671875, 0.00089263916015625, 0.01263427734375, 0.0021514892578125, 0.0146484375, 0.00051116943359375, 0.0084228515625, 0.0002193450927734375, 0.0057373046875, 0.00946044921875, 0.00531005859375, 0.00032806396484375, 0.0177001953125]}\n",
       "    )\n",
       "    </script>"
      ],
      "text/plain": [
       "<circuitsvis.utils.render.RenderedHTML at 0x7fa4c05d1490>"
      ]
     },
     "metadata": {},
     "output_type": "display_data"
    },
    {
     "name": "stdout",
     "output_type": "stream",
     "text": [
      "2025-08-01 15:50:37 __main__ INFO     Layer: 52, Head: 58\n"
     ]
    },
    {
     "data": {
      "text/html": [
       "<div id=\"circuits-vis-9054fcf3-988b\" style=\"margin: 15px 0;\"/>\n",
       "    <script crossorigin type=\"module\">\n",
       "    import { render, ColoredTokens } from \"https://unpkg.com/circuitsvis@1.43.3/dist/cdn/esm.js\";\n",
       "    render(\n",
       "      \"circuits-vis-9054fcf3-988b\",\n",
       "      ColoredTokens,\n",
       "      {\"tokens\": [\"Which\", \" of\", \" the\", \" following\", \" words\", \" rh\", \"ymes\", \" with\", \" rat\", \"\\n\", \"options\", \":\", \" orange\", \",\", \" mat\", \",\", \" book\", \",\", \" rabbit\", \",\", \" bowl\", \",\", \" watch\", \",\", \" mirror\", \"\\n\", \"Answer\", \":\"], \"values\": [0.00311279296875, 0.004974365234375, 0.002105712890625, 0.004730224609375, 0.002166748046875, 0.0048828125, 0.00927734375, 0.0274658203125, 0.006591796875, 0.01153564453125, 0.00017833709716796875, 0.01287841796875, 0.00024318695068359375, 0.01287841796875, 0.0830078125, 0.034912109375, 0.000377655029296875, 0.01153564453125, 0.0010223388671875, 0.01483154296875, 0.00018405914306640625, 0.00677490234375, 0.0001049041748046875, 0.00677490234375, 0.000850677490234375, 0.0048828125, 0.000484466552734375, 0.044189453125]}\n",
       "    )\n",
       "    </script>"
      ],
      "text/plain": [
       "<circuitsvis.utils.render.RenderedHTML at 0x7fa4e0333dd0>"
      ]
     },
     "metadata": {},
     "output_type": "display_data"
    },
    {
     "data": {
      "text/plain": [
       "[PredictedToken(token=' mat', prob=0.67578125, logit=20.25, token_id=5634, metadata=None),\n",
       " PredictedToken(token=' The', prob=0.11767578125, logit=18.5, token_id=578, metadata=None),\n",
       " PredictedToken(token=' Mat', prob=0.10400390625, logit=18.375, token_id=7011, metadata=None),\n",
       " PredictedToken(token=' the', prob=0.01239013671875, logit=16.25, token_id=279, metadata=None),\n",
       " PredictedToken(token='mat', prob=0.0096435546875, logit=16.0, token_id=8637, metadata=None)]"
      ]
     },
     "execution_count": 83,
     "metadata": {},
     "output_type": "execute_result"
    }
   ],
   "source": [
    "# rhymes with\n",
    "\n",
    "options = [\"orange\", \"mat\", \"book\", \"rabbit\", \"bowl\", \"watch\", \"mirror\"]\n",
    "word = \"rat\"\n",
    "# word = \"look\"\n",
    "# word = \"fetch\"\n",
    "# word = \"growl\"\n",
    "\n",
    "# prompt_template = \"\"\"{}\n",
    "# Which of these words rhymes with the word \"{}\"?\n",
    "# Answer:\"\"\"\n",
    "# prompt = prompt_template.format(\n",
    "#     \", \".join(options),\n",
    "#     word\n",
    "# )\n",
    "# prompt = prompt_template.format(\"\\n\".join([f\"{idx+1}. {name}\" for idx, name in enumerate(options)]), word)\n",
    "\n",
    "\n",
    "prompt_template = \"\"\"Which of the following words rhymes with {}\n",
    "options: {}\n",
    "Answer:\"\"\"\n",
    "prompt = prompt_template.format(\n",
    "    word,\n",
    "    \", \".join(options),\n",
    ")\n",
    "# prompt = prompt_template.format(word, \"\\n\".join([f\"{idx+1}. {name}\" for idx, name in enumerate(options)]))\n",
    "\n",
    "\n",
    "print(prompt)\n",
    "\n",
    "verify = verify_head_patterns(\n",
    "    prompt=prompt,\n",
    "    options=options,\n",
    "    pivot=word,\n",
    "    mt=mt,\n",
    "    value_weighted=False,\n",
    "    generate_full_answer=True,\n",
    ")\n",
    "verify[\"predictions\"]\n"
   ]
  },
  {
   "cell_type": "code",
   "execution_count": 84,
   "id": "050e2d91",
   "metadata": {},
   "outputs": [
    {
     "name": "stdout",
     "output_type": "stream",
     "text": [
      "2025-08-01 15:51:25 __main__ DEBUG    orange | opt_range=(13, 14) | bare_opt_range=(4, 5) | \" orange\"\n"
     ]
    },
    {
     "name": "stdout",
     "output_type": "stream",
     "text": [
      "2025-08-01 15:51:25 __main__ DEBUG    mat | opt_range=(15, 16) | bare_opt_range=(4, 5) | \" mat\"\n",
      "2025-08-01 15:51:25 __main__ DEBUG    book | opt_range=(17, 18) | bare_opt_range=(4, 5) | \" book\"\n",
      "2025-08-01 15:51:26 __main__ DEBUG    rabbit | opt_range=(19, 20) | bare_opt_range=(4, 5) | \" rabbit\"\n",
      "2025-08-01 15:51:26 __main__ DEBUG    bowl | opt_range=(21, 22) | bare_opt_range=(4, 5) | \" bowl\"\n",
      "2025-08-01 15:51:26 __main__ DEBUG    watch | opt_range=(23, 24) | bare_opt_range=(4, 5) | \" watch\"\n",
      "2025-08-01 15:51:26 __main__ DEBUG    mirror | opt_range=(25, 26) | bare_opt_range=(4, 5) | \" mirror\"\n",
      "560 patches to ablate possible answer information from options\n",
      "2025-08-01 15:51:29 __main__ DEBUG    Predictions: ['\" mat\"[5634] (p=0.656, logit=20.375)', '\" The\"[578] (p=0.129, logit=18.750)', '\" Mat\"[7011] (p=0.114, logit=18.625)', '\" the\"[279] (p=0.012, logit=16.375)', '\"mat\"[8637] (p=0.009, logit=16.125)']\n",
      "layer=35\n"
     ]
    },
    {
     "data": {
      "text/html": [
       "<div id=\"circuits-vis-56e907c4-5c2c\" style=\"margin: 15px 0;\"/>\n",
       "    <script crossorigin type=\"module\">\n",
       "    import { render, ColoredTokens } from \"https://unpkg.com/circuitsvis@1.43.3/dist/cdn/esm.js\";\n",
       "    render(\n",
       "      \"circuits-vis-56e907c4-5c2c\",\n",
       "      ColoredTokens,\n",
       "      {\"tokens\": [\"Which\", \" of\", \" the\", \" following\", \" words\", \" rh\", \"ymes\", \" with\", \" rat\", \"\\n\", \"options\", \":\", \" orange\", \",\", \" mat\", \",\", \" book\", \",\", \" rabbit\", \",\", \" bowl\", \",\", \" watch\", \",\", \" mirror\", \"\\n\", \"Answer\", \":\"], \"values\": [0.025867700576782227, 0.005469534546136856, 0.0009780414402484894, 0.005087822675704956, 0.007150739431381226, 0.005553126335144043, 0.024997472763061523, 0.012964427471160889, 0.040861546993255615, 0.022350072860717773, 0.005973845720291138, 0.007604509592056274, 0.004019707441329956, 0.020089194178581238, 0.04509563744068146, 0.037875160574913025, 0.004239693284034729, 0.00872659683227539, 0.017599478363990784, 0.011741459369659424, 0.00544758141040802, 0.007050737738609314, 0.0036783814430236816, 0.004616141319274902, 0.004057571291923523, 0.02369081974029541, 0.01666697859764099, 0.03527170419692993]}\n",
       "    )\n",
       "    </script>"
      ],
      "text/plain": [
       "<circuitsvis.utils.render.RenderedHTML at 0x7fa78018ae50>"
      ]
     },
     "metadata": {},
     "output_type": "display_data"
    },
    {
     "name": "stdout",
     "output_type": "stream",
     "text": [
      "--------------------------------------------------------------------------------\n",
      "layer=47\n"
     ]
    },
    {
     "data": {
      "text/html": [
       "<div id=\"circuits-vis-1e902f68-6a41\" style=\"margin: 15px 0;\"/>\n",
       "    <script crossorigin type=\"module\">\n",
       "    import { render, ColoredTokens } from \"https://unpkg.com/circuitsvis@1.43.3/dist/cdn/esm.js\";\n",
       "    render(\n",
       "      \"circuits-vis-1e902f68-6a41\",\n",
       "      ColoredTokens,\n",
       "      {\"tokens\": [\"Which\", \" of\", \" the\", \" following\", \" words\", \" rh\", \"ymes\", \" with\", \" rat\", \"\\n\", \"options\", \":\", \" orange\", \",\", \" mat\", \",\", \" book\", \",\", \" rabbit\", \",\", \" bowl\", \",\", \" watch\", \",\", \" mirror\", \"\\n\", \"Answer\", \":\"], \"values\": [0.0024646520614624023, 0.0009387433528900146, 0.00039990153163671494, 0.0007230527698993683, 0.0007690265774726868, 0.0007837601006031036, 0.0020471736788749695, 0.0014318302273750305, 0.004452317953109741, 0.0026712417602539062, 0.001451440155506134, 0.001690886914730072, 0.0007883384823799133, 0.001031201332807541, 0.0261794775724411, 0.0022041387856006622, 0.0013484358787536621, 0.000857621431350708, 0.001644417643547058, 0.0009142011404037476, 0.0010619983077049255, 0.0007098205387592316, 0.001010306179523468, 0.0005980301648378372, 0.001730315387248993, 0.003285624086856842, 0.006375372409820557, 0.003197774291038513]}\n",
       "    )\n",
       "    </script>"
      ],
      "text/plain": [
       "<circuitsvis.utils.render.RenderedHTML at 0x7f832b793d10>"
      ]
     },
     "metadata": {},
     "output_type": "display_data"
    },
    {
     "name": "stdout",
     "output_type": "stream",
     "text": [
      "--------------------------------------------------------------------------------\n",
      "layer=52\n"
     ]
    },
    {
     "data": {
      "text/html": [
       "<div id=\"circuits-vis-d16e859b-f351\" style=\"margin: 15px 0;\"/>\n",
       "    <script crossorigin type=\"module\">\n",
       "    import { render, ColoredTokens } from \"https://unpkg.com/circuitsvis@1.43.3/dist/cdn/esm.js\";\n",
       "    render(\n",
       "      \"circuits-vis-d16e859b-f351\",\n",
       "      ColoredTokens,\n",
       "      {\"tokens\": [\"Which\", \" of\", \" the\", \" following\", \" words\", \" rh\", \"ymes\", \" with\", \" rat\", \"\\n\", \"options\", \":\", \" orange\", \",\", \" mat\", \",\", \" book\", \",\", \" rabbit\", \",\", \" bowl\", \",\", \" watch\", \",\", \" mirror\", \"\\n\", \"Answer\", \":\"], \"values\": [0.0045678019523620605, 0.0029929503798484802, 0.0009865835309028625, 0.0020082350820302963, 0.0018621087074279785, 0.002670593559741974, 0.005866795778274536, 0.004126843065023422, 0.008262261748313904, 0.01117958128452301, 0.00681411474943161, 0.0050522685050964355, 0.002554558217525482, 0.003212297335267067, 0.03756552189588547, 0.004660090431571007, 0.002683008089661598, 0.001908179372549057, 0.003703257068991661, 0.001860395073890686, 0.0016295891255140305, 0.001446520909667015, 0.0014336295425891876, 0.0013205409049987793, 0.0026579685509204865, 0.011321932077407837, 0.01821845769882202, 0.015283629298210144]}\n",
       "    )\n",
       "    </script>"
      ],
      "text/plain": [
       "<circuitsvis.utils.render.RenderedHTML at 0x7fa4c043a290>"
      ]
     },
     "metadata": {},
     "output_type": "display_data"
    },
    {
     "name": "stdout",
     "output_type": "stream",
     "text": [
      "--------------------------------------------------------------------------------\n",
      "======================================================================\n",
      "2025-08-01 15:51:29 __main__ INFO     Layer: 33, Head: 45\n"
     ]
    },
    {
     "data": {
      "text/html": [
       "<div id=\"circuits-vis-4d90db06-e73f\" style=\"margin: 15px 0;\"/>\n",
       "    <script crossorigin type=\"module\">\n",
       "    import { render, ColoredTokens } from \"https://unpkg.com/circuitsvis@1.43.3/dist/cdn/esm.js\";\n",
       "    render(\n",
       "      \"circuits-vis-4d90db06-e73f\",\n",
       "      ColoredTokens,\n",
       "      {\"tokens\": [\"Which\", \" of\", \" the\", \" following\", \" words\", \" rh\", \"ymes\", \" with\", \" rat\", \"\\n\", \"options\", \":\", \" orange\", \",\", \" mat\", \",\", \" book\", \",\", \" rabbit\", \",\", \" bowl\", \",\", \" watch\", \",\", \" mirror\", \"\\n\", \"Answer\", \":\"], \"values\": [0.0233154296875, 0.0031890869140625, 0.000873565673828125, 0.00616455078125, 0.0036163330078125, 0.0019073486328125, 0.013671875, 0.00872802734375, 0.055419921875, 0.00933837890625, 0.01007080078125, 0.0189208984375, 0.01226806640625, 0.023681640625, 0.23828125, 0.050048828125, 0.0072021484375, 0.00946044921875, 0.0283203125, 0.017822265625, 0.00811767578125, 0.0225830078125, 0.006256103515625, 0.00787353515625, 0.0081787109375, 0.0185546875, 0.004730224609375, 0.0234375]}\n",
       "    )\n",
       "    </script>"
      ],
      "text/plain": [
       "<circuitsvis.utils.render.RenderedHTML at 0x7fa5001c20d0>"
      ]
     },
     "metadata": {},
     "output_type": "display_data"
    },
    {
     "name": "stdout",
     "output_type": "stream",
     "text": [
      "2025-08-01 15:51:29 __main__ INFO     Layer: 33, Head: 18\n"
     ]
    },
    {
     "data": {
      "text/html": [
       "<div id=\"circuits-vis-2fc40f4d-4b88\" style=\"margin: 15px 0;\"/>\n",
       "    <script crossorigin type=\"module\">\n",
       "    import { render, ColoredTokens } from \"https://unpkg.com/circuitsvis@1.43.3/dist/cdn/esm.js\";\n",
       "    render(\n",
       "      \"circuits-vis-2fc40f4d-4b88\",\n",
       "      ColoredTokens,\n",
       "      {\"tokens\": [\"Which\", \" of\", \" the\", \" following\", \" words\", \" rh\", \"ymes\", \" with\", \" rat\", \"\\n\", \"options\", \":\", \" orange\", \",\", \" mat\", \",\", \" book\", \",\", \" rabbit\", \",\", \" bowl\", \",\", \" watch\", \",\", \" mirror\", \"\\n\", \"Answer\", \":\"], \"values\": [0.018310546875, 0.0017242431640625, 0.0002803802490234375, 0.00131988525390625, 0.004302978515625, 0.003509521484375, 0.0186767578125, 0.020263671875, 0.13671875, 0.019287109375, 0.002410888671875, 0.006591796875, 0.0198974609375, 0.09619140625, 0.1552734375, 0.255859375, 0.00946044921875, 0.0250244140625, 0.0255126953125, 0.0311279296875, 0.00592041015625, 0.0150146484375, 0.0018310546875, 0.00347900390625, 0.003997802734375, 0.0035400390625, 0.0004863739013671875, 0.00799560546875]}\n",
       "    )\n",
       "    </script>"
      ],
      "text/plain": [
       "<circuitsvis.utils.render.RenderedHTML at 0x7fa4e018d410>"
      ]
     },
     "metadata": {},
     "output_type": "display_data"
    },
    {
     "name": "stdout",
     "output_type": "stream",
     "text": [
      "2025-08-01 15:51:29 __main__ INFO     Layer: 34, Head: 1\n"
     ]
    },
    {
     "data": {
      "text/html": [
       "<div id=\"circuits-vis-f87348af-46c0\" style=\"margin: 15px 0;\"/>\n",
       "    <script crossorigin type=\"module\">\n",
       "    import { render, ColoredTokens } from \"https://unpkg.com/circuitsvis@1.43.3/dist/cdn/esm.js\";\n",
       "    render(\n",
       "      \"circuits-vis-f87348af-46c0\",\n",
       "      ColoredTokens,\n",
       "      {\"tokens\": [\"Which\", \" of\", \" the\", \" following\", \" words\", \" rh\", \"ymes\", \" with\", \" rat\", \"\\n\", \"options\", \":\", \" orange\", \",\", \" mat\", \",\", \" book\", \",\", \" rabbit\", \",\", \" bowl\", \",\", \" watch\", \",\", \" mirror\", \"\\n\", \"Answer\", \":\"], \"values\": [0.027587890625, 0.00177764892578125, 0.00014400482177734375, 0.00101470947265625, 0.001220703125, 0.003173828125, 0.014892578125, 0.01019287109375, 0.042236328125, 0.00543212890625, 0.00058746337890625, 0.006988525390625, 0.0015716552734375, 0.00101470947265625, 0.259765625, 0.1787109375, 1.71661376953125e-05, 0.0004291534423828125, 0.0037689208984375, 0.0067138671875, 8.440017700195312e-05, 0.0034332275390625, 2.574920654296875e-05, 0.000865936279296875, 2.3484230041503906e-05, 0.00347900390625, 0.0004425048828125, 0.056884765625]}\n",
       "    )\n",
       "    </script>"
      ],
      "text/plain": [
       "<circuitsvis.utils.render.RenderedHTML at 0x7f832b793d10>"
      ]
     },
     "metadata": {},
     "output_type": "display_data"
    },
    {
     "name": "stdout",
     "output_type": "stream",
     "text": [
      "2025-08-01 15:51:30 __main__ INFO     Layer: 34, Head: 6\n"
     ]
    },
    {
     "data": {
      "text/html": [
       "<div id=\"circuits-vis-76af8e47-6e0e\" style=\"margin: 15px 0;\"/>\n",
       "    <script crossorigin type=\"module\">\n",
       "    import { render, ColoredTokens } from \"https://unpkg.com/circuitsvis@1.43.3/dist/cdn/esm.js\";\n",
       "    render(\n",
       "      \"circuits-vis-76af8e47-6e0e\",\n",
       "      ColoredTokens,\n",
       "      {\"tokens\": [\"Which\", \" of\", \" the\", \" following\", \" words\", \" rh\", \"ymes\", \" with\", \" rat\", \"\\n\", \"options\", \":\", \" orange\", \",\", \" mat\", \",\", \" book\", \",\", \" rabbit\", \",\", \" bowl\", \",\", \" watch\", \",\", \" mirror\", \"\\n\", \"Answer\", \":\"], \"values\": [0.0255126953125, 0.001220703125, 0.000255584716796875, 0.00138092041015625, 0.0006256103515625, 0.0011138916015625, 0.005615234375, 0.00531005859375, 0.033203125, 0.0048828125, 0.0006866455078125, 0.00897216796875, 0.002288818359375, 0.0014495849609375, 0.267578125, 0.21875, 4.172325134277344e-05, 0.0004787445068359375, 0.003173828125, 0.0032196044921875, 8.58306884765625e-05, 0.00177764892578125, 1.6927719116210938e-05, 0.0003490447998046875, 1.1622905731201172e-05, 0.00180816650390625, 0.00052642822265625, 0.03173828125]}\n",
       "    )\n",
       "    </script>"
      ],
      "text/plain": [
       "<circuitsvis.utils.render.RenderedHTML at 0x7fa567f14110>"
      ]
     },
     "metadata": {},
     "output_type": "display_data"
    },
    {
     "name": "stdout",
     "output_type": "stream",
     "text": [
      "2025-08-01 15:51:30 __main__ INFO     Layer: 34, Head: 7\n"
     ]
    },
    {
     "data": {
      "text/html": [
       "<div id=\"circuits-vis-db92d47a-8fe4\" style=\"margin: 15px 0;\"/>\n",
       "    <script crossorigin type=\"module\">\n",
       "    import { render, ColoredTokens } from \"https://unpkg.com/circuitsvis@1.43.3/dist/cdn/esm.js\";\n",
       "    render(\n",
       "      \"circuits-vis-db92d47a-8fe4\",\n",
       "      ColoredTokens,\n",
       "      {\"tokens\": [\"Which\", \" of\", \" the\", \" following\", \" words\", \" rh\", \"ymes\", \" with\", \" rat\", \"\\n\", \"options\", \":\", \" orange\", \",\", \" mat\", \",\", \" book\", \",\", \" rabbit\", \",\", \" bowl\", \",\", \" watch\", \",\", \" mirror\", \"\\n\", \"Answer\", \":\"], \"values\": [0.035888671875, 0.0012969970703125, 0.00020599365234375, 0.0014495849609375, 0.0014495849609375, 0.001983642578125, 0.0081787109375, 0.00823974609375, 0.054443359375, 0.00927734375, 0.001617431640625, 0.009033203125, 0.00482177734375, 0.005096435546875, 0.162109375, 0.1962890625, 0.000263214111328125, 0.001922607421875, 0.01336669921875, 0.013427734375, 0.00106048583984375, 0.00830078125, 0.0003719329833984375, 0.0033111572265625, 0.000507354736328125, 0.0169677734375, 0.00433349609375, 0.158203125]}\n",
       "    )\n",
       "    </script>"
      ],
      "text/plain": [
       "<circuitsvis.utils.render.RenderedHTML at 0x7fa4e018d410>"
      ]
     },
     "metadata": {},
     "output_type": "display_data"
    },
    {
     "name": "stdout",
     "output_type": "stream",
     "text": [
      "2025-08-01 15:51:30 __main__ INFO     Layer: 35, Head: 19\n"
     ]
    },
    {
     "data": {
      "text/html": [
       "<div id=\"circuits-vis-a8a7f414-bfcc\" style=\"margin: 15px 0;\"/>\n",
       "    <script crossorigin type=\"module\">\n",
       "    import { render, ColoredTokens } from \"https://unpkg.com/circuitsvis@1.43.3/dist/cdn/esm.js\";\n",
       "    render(\n",
       "      \"circuits-vis-a8a7f414-bfcc\",\n",
       "      ColoredTokens,\n",
       "      {\"tokens\": [\"Which\", \" of\", \" the\", \" following\", \" words\", \" rh\", \"ymes\", \" with\", \" rat\", \"\\n\", \"options\", \":\", \" orange\", \",\", \" mat\", \",\", \" book\", \",\", \" rabbit\", \",\", \" bowl\", \",\", \" watch\", \",\", \" mirror\", \"\\n\", \"Answer\", \":\"], \"values\": [0.0181884765625, 5.936622619628906e-05, 0.000171661376953125, 0.0001010894775390625, 0.0003871917724609375, 0.0002880096435546875, 0.0029296875, 0.000560760498046875, 0.212890625, 0.003936767578125, 0.00016117095947265625, 0.0008697509765625, 0.00341796875, 0.01409912109375, 0.404296875, 0.07275390625, 0.0030364990234375, 0.00445556640625, 0.07470703125, 0.0181884765625, 0.0191650390625, 0.0113525390625, 0.0101318359375, 0.005279541015625, 0.0032958984375, 0.0024871826171875, 5.5789947509765625e-05, 0.0031585693359375]}\n",
       "    )\n",
       "    </script>"
      ],
      "text/plain": [
       "<circuitsvis.utils.render.RenderedHTML at 0x7f832acc2850>"
      ]
     },
     "metadata": {},
     "output_type": "display_data"
    },
    {
     "name": "stdout",
     "output_type": "stream",
     "text": [
      "2025-08-01 15:51:30 __main__ INFO     Layer: 39, Head: 40\n"
     ]
    },
    {
     "data": {
      "text/html": [
       "<div id=\"circuits-vis-5b9ca712-8e74\" style=\"margin: 15px 0;\"/>\n",
       "    <script crossorigin type=\"module\">\n",
       "    import { render, ColoredTokens } from \"https://unpkg.com/circuitsvis@1.43.3/dist/cdn/esm.js\";\n",
       "    render(\n",
       "      \"circuits-vis-5b9ca712-8e74\",\n",
       "      ColoredTokens,\n",
       "      {\"tokens\": [\"Which\", \" of\", \" the\", \" following\", \" words\", \" rh\", \"ymes\", \" with\", \" rat\", \"\\n\", \"options\", \":\", \" orange\", \",\", \" mat\", \",\", \" book\", \",\", \" rabbit\", \",\", \" bowl\", \",\", \" watch\", \",\", \" mirror\", \"\\n\", \"Answer\", \":\"], \"values\": [0.006317138671875, 0.001068115234375, 0.0002918243408203125, 0.000667572021484375, 0.00188446044921875, 0.0008697509765625, 0.004974365234375, 0.004913330078125, 0.01544189453125, 0.009765625, 0.001708984375, 0.01287841796875, 0.00075531005859375, 0.0025482177734375, 0.63671875, 0.1708984375, 0.000911712646484375, 0.0033416748046875, 0.0081787109375, 0.0159912109375, 0.000362396240234375, 0.0024261474609375, 0.00018596649169921875, 0.00122833251953125, 0.000347137451171875, 0.0010833740234375, 0.000553131103515625, 0.032470703125]}\n",
       "    )\n",
       "    </script>"
      ],
      "text/plain": [
       "<circuitsvis.utils.render.RenderedHTML at 0x7f832acc2850>"
      ]
     },
     "metadata": {},
     "output_type": "display_data"
    },
    {
     "name": "stdout",
     "output_type": "stream",
     "text": [
      "2025-08-01 15:51:30 __main__ INFO     Layer: 42, Head: 30\n"
     ]
    },
    {
     "data": {
      "text/html": [
       "<div id=\"circuits-vis-b401b705-58d6\" style=\"margin: 15px 0;\"/>\n",
       "    <script crossorigin type=\"module\">\n",
       "    import { render, ColoredTokens } from \"https://unpkg.com/circuitsvis@1.43.3/dist/cdn/esm.js\";\n",
       "    render(\n",
       "      \"circuits-vis-b401b705-58d6\",\n",
       "      ColoredTokens,\n",
       "      {\"tokens\": [\"Which\", \" of\", \" the\", \" following\", \" words\", \" rh\", \"ymes\", \" with\", \" rat\", \"\\n\", \"options\", \":\", \" orange\", \",\", \" mat\", \",\", \" book\", \",\", \" rabbit\", \",\", \" bowl\", \",\", \" watch\", \",\", \" mirror\", \"\\n\", \"Answer\", \":\"], \"values\": [0.0036773681640625, 0.000690460205078125, 0.00128936767578125, 0.002655029296875, 0.004791259765625, 0.0036773681640625, 0.0150146484375, 0.0113525390625, 0.01953125, 0.0079345703125, 0.0028228759765625, 0.010986328125, 0.0027313232421875, 0.0074462890625, 0.06787109375, 0.026611328125, 0.001373291015625, 0.00665283203125, 0.006561279296875, 0.010009765625, 0.0018768310546875, 0.00665283203125, 0.00110626220703125, 0.004119873046875, 0.0028228759765625, 0.0155029296875, 0.000782012939453125, 0.012451171875]}\n",
       "    )\n",
       "    </script>"
      ],
      "text/plain": [
       "<circuitsvis.utils.render.RenderedHTML at 0x7fa4e018d410>"
      ]
     },
     "metadata": {},
     "output_type": "display_data"
    },
    {
     "name": "stdout",
     "output_type": "stream",
     "text": [
      "2025-08-01 15:51:30 __main__ INFO     Layer: 47, Head: 18\n"
     ]
    },
    {
     "data": {
      "text/html": [
       "<div id=\"circuits-vis-7f31957f-5db1\" style=\"margin: 15px 0;\"/>\n",
       "    <script crossorigin type=\"module\">\n",
       "    import { render, ColoredTokens } from \"https://unpkg.com/circuitsvis@1.43.3/dist/cdn/esm.js\";\n",
       "    render(\n",
       "      \"circuits-vis-7f31957f-5db1\",\n",
       "      ColoredTokens,\n",
       "      {\"tokens\": [\"Which\", \" of\", \" the\", \" following\", \" words\", \" rh\", \"ymes\", \" with\", \" rat\", \"\\n\", \"options\", \":\", \" orange\", \",\", \" mat\", \",\", \" book\", \",\", \" rabbit\", \",\", \" bowl\", \",\", \" watch\", \",\", \" mirror\", \"\\n\", \"Answer\", \":\"], \"values\": [0.0029144287109375, 0.0012359619140625, 0.001373291015625, 0.00133514404296875, 0.0004062652587890625, 0.000370025634765625, 0.0009765625, 0.00946044921875, 0.00811767578125, 0.006988525390625, 0.00029754638671875, 0.00897216796875, 6.246566772460938e-05, 0.001007080078125, 0.62109375, 0.05029296875, 0.0004749298095703125, 0.008544921875, 0.00127410888671875, 0.00933837890625, 0.0002803802490234375, 0.005126953125, 0.00017547607421875, 0.003936767578125, 0.008544921875, 0.004791259765625, 0.0003261566162109375, 0.015869140625]}\n",
       "    )\n",
       "    </script>"
      ],
      "text/plain": [
       "<circuitsvis.utils.render.RenderedHTML at 0x7fa4e018d410>"
      ]
     },
     "metadata": {},
     "output_type": "display_data"
    },
    {
     "name": "stdout",
     "output_type": "stream",
     "text": [
      "2025-08-01 15:51:30 __main__ INFO     Layer: 52, Head: 58\n"
     ]
    },
    {
     "data": {
      "text/html": [
       "<div id=\"circuits-vis-9fea4453-efeb\" style=\"margin: 15px 0;\"/>\n",
       "    <script crossorigin type=\"module\">\n",
       "    import { render, ColoredTokens } from \"https://unpkg.com/circuitsvis@1.43.3/dist/cdn/esm.js\";\n",
       "    render(\n",
       "      \"circuits-vis-9fea4453-efeb\",\n",
       "      ColoredTokens,\n",
       "      {\"tokens\": [\"Which\", \" of\", \" the\", \" following\", \" words\", \" rh\", \"ymes\", \" with\", \" rat\", \"\\n\", \"options\", \":\", \" orange\", \",\", \" mat\", \",\", \" book\", \",\", \" rabbit\", \",\", \" bowl\", \",\", \" watch\", \",\", \" mirror\", \"\\n\", \"Answer\", \":\"], \"values\": [0.003753662109375, 0.005706787109375, 0.0027008056640625, 0.00537109375, 0.002044677734375, 0.0048828125, 0.01068115234375, 0.02685546875, 0.007232666015625, 0.0113525390625, 0.0001621246337890625, 0.01153564453125, 0.0002841949462890625, 0.00148773193359375, 0.07275390625, 0.033447265625, 0.0002288818359375, 0.0084228515625, 0.000659942626953125, 0.010498046875, 0.000125885009765625, 0.004730224609375, 9.250640869140625e-05, 0.005462646484375, 0.000751495361328125, 0.006072998046875, 0.00060272216796875, 0.042236328125]}\n",
       "    )\n",
       "    </script>"
      ],
      "text/plain": [
       "<circuitsvis.utils.render.RenderedHTML at 0x7f832acc2850>"
      ]
     },
     "metadata": {},
     "output_type": "display_data"
    },
    {
     "data": {
      "text/plain": [
       "[PredictedToken(token=' mat', prob=0.65625, logit=20.375, token_id=5634, metadata=None),\n",
       " PredictedToken(token=' The', prob=0.12890625, logit=18.75, token_id=578, metadata=None),\n",
       " PredictedToken(token=' Mat', prob=0.1142578125, logit=18.625, token_id=7011, metadata=None),\n",
       " PredictedToken(token=' the', prob=0.01202392578125, logit=16.375, token_id=279, metadata=None),\n",
       " PredictedToken(token='mat', prob=0.0093994140625, logit=16.125, token_id=8637, metadata=None)]"
      ]
     },
     "execution_count": 84,
     "metadata": {},
     "output_type": "execute_result"
    }
   ],
   "source": [
    "verify_ind = verify_head_patterns(\n",
    "    prompt=prompt,\n",
    "    # options=[f\"{op}\\n\" for op in options],\n",
    "    options=options,\n",
    "    pivot=word,\n",
    "    mt=mt,\n",
    "    value_weighted=False,\n",
    "    generate_full_answer=False,\n",
    "    ablate_possible_ans_info_from_options=True,\n",
    ")\n",
    "verify_ind[\"predictions\"]"
   ]
  },
  {
   "cell_type": "code",
   "execution_count": 46,
   "id": "bf4d279e",
   "metadata": {},
   "outputs": [
    {
     "name": "stdout",
     "output_type": "stream",
     "text": [
      "2025-08-01 14:52:28 __main__ DEBUG    Generated full answer: \" Bob\n",
      "Explanation: The statement \"John is taller than Bob\" implies that Bob is shorter than John. The statement \"John is shorter than Steve\"\"\n",
      "2025-08-01 14:52:28 __main__ DEBUG    Predictions: ['\" Bob\"[14596] (p=0.820, logit=20.250)', '\" John\"[3842] (p=0.032, logit=17.000)', '\" We\"[1226] (p=0.022, logit=16.625)', '\" The\"[578] (p=0.019, logit=16.500)', '\" Since\"[8876] (p=0.015, logit=16.250)']\n",
      "layer=35\n"
     ]
    },
    {
     "data": {
      "text/html": [
       "<div id=\"circuits-vis-b8fa1e6a-a4c9\" style=\"margin: 15px 0;\"/>\n",
       "    <script crossorigin type=\"module\">\n",
       "    import { render, ColoredTokens } from \"https://unpkg.com/circuitsvis@1.43.3/dist/cdn/esm.js\";\n",
       "    render(\n",
       "      \"circuits-vis-b8fa1e6a-a4c9\",\n",
       "      ColoredTokens,\n",
       "      {\"tokens\": [\"John\", \" is\", \" taller\", \" than\", \" Bob\", \",\", \" but\", \" shorter\", \" than\", \" Steve\", \".\", \" Who\", \" is\", \" the\", \" shortest\", \"?\\n\", \"Ans\", \":\"], \"values\": [0.022370338439941406, 0.009508192539215088, 0.009268641471862793, 0.010301098227500916, 0.03937739133834839, 0.014758259057998657, 0.010413475334644318, 0.01174190640449524, 0.0048246830701828, 0.009912461042404175, 0.015366077423095703, 0.01995265483856201, 0.011283937841653824, 0.008144833147525787, 0.058317720890045166, 0.06296396255493164, 0.012561572715640068, 0.025241553783416748]}\n",
       "    )\n",
       "    </script>"
      ],
      "text/plain": [
       "<circuitsvis.utils.render.RenderedHTML at 0x7fa4c01c5510>"
      ]
     },
     "metadata": {},
     "output_type": "display_data"
    },
    {
     "name": "stdout",
     "output_type": "stream",
     "text": [
      "--------------------------------------------------------------------------------\n",
      "layer=47\n"
     ]
    },
    {
     "data": {
      "text/html": [
       "<div id=\"circuits-vis-8d1d20cb-28a3\" style=\"margin: 15px 0;\"/>\n",
       "    <script crossorigin type=\"module\">\n",
       "    import { render, ColoredTokens } from \"https://unpkg.com/circuitsvis@1.43.3/dist/cdn/esm.js\";\n",
       "    render(\n",
       "      \"circuits-vis-8d1d20cb-28a3\",\n",
       "      ColoredTokens,\n",
       "      {\"tokens\": [\"John\", \" is\", \" taller\", \" than\", \" Bob\", \",\", \" but\", \" shorter\", \" than\", \" Steve\", \".\", \" Who\", \" is\", \" the\", \" shortest\", \"?\\n\", \"Ans\", \":\"], \"values\": [0.004579260945320129, 0.004027221351861954, 0.0013874173164367676, 0.00251731276512146, 0.01183706521987915, 0.0029541179537773132, 0.002440985292196274, 0.0009358003735542297, 0.0016452353447675705, 0.0023322030901908875, 0.004624109715223312, 0.0022475775331258774, 0.001325691118836403, 0.0010867062956094742, 0.002270881086587906, 0.008724331855773926, 0.009424418210983276, 0.004635065793991089]}\n",
       "    )\n",
       "    </script>"
      ],
      "text/plain": [
       "<circuitsvis.utils.render.RenderedHTML at 0x7fa4c04af910>"
      ]
     },
     "metadata": {},
     "output_type": "display_data"
    },
    {
     "name": "stdout",
     "output_type": "stream",
     "text": [
      "--------------------------------------------------------------------------------\n",
      "layer=52\n"
     ]
    },
    {
     "data": {
      "text/html": [
       "<div id=\"circuits-vis-3ccad987-0c5c\" style=\"margin: 15px 0;\"/>\n",
       "    <script crossorigin type=\"module\">\n",
       "    import { render, ColoredTokens } from \"https://unpkg.com/circuitsvis@1.43.3/dist/cdn/esm.js\";\n",
       "    render(\n",
       "      \"circuits-vis-3ccad987-0c5c\",\n",
       "      ColoredTokens,\n",
       "      {\"tokens\": [\"John\", \" is\", \" taller\", \" than\", \" Bob\", \",\", \" but\", \" shorter\", \" than\", \" Steve\", \".\", \" Who\", \" is\", \" the\", \" shortest\", \"?\\n\", \"Ans\", \":\"], \"values\": [0.008303582668304443, 0.006747990846633911, 0.002897687256336212, 0.0032209306955337524, 0.031040996313095093, 0.0032992996275424957, 0.00316736102104187, 0.0019433796405792236, 0.0018843449652194977, 0.003259032964706421, 0.00577092170715332, 0.005045697093009949, 0.002592317759990692, 0.001963965594768524, 0.003705199807882309, 0.025416314601898193, 0.016210705041885376, 0.01511719822883606]}\n",
       "    )\n",
       "    </script>"
      ],
      "text/plain": [
       "<circuitsvis.utils.render.RenderedHTML at 0x7fa567ed7090>"
      ]
     },
     "metadata": {},
     "output_type": "display_data"
    },
    {
     "name": "stdout",
     "output_type": "stream",
     "text": [
      "--------------------------------------------------------------------------------\n",
      "======================================================================\n",
      "2025-08-01 14:52:28 __main__ INFO     Layer: 33, Head: 45\n"
     ]
    },
    {
     "data": {
      "text/html": [
       "<div id=\"circuits-vis-9a41a7f2-19b2\" style=\"margin: 15px 0;\"/>\n",
       "    <script crossorigin type=\"module\">\n",
       "    import { render, ColoredTokens } from \"https://unpkg.com/circuitsvis@1.43.3/dist/cdn/esm.js\";\n",
       "    render(\n",
       "      \"circuits-vis-9a41a7f2-19b2\",\n",
       "      ColoredTokens,\n",
       "      {\"tokens\": [\"John\", \" is\", \" taller\", \" than\", \" Bob\", \",\", \" but\", \" shorter\", \" than\", \" Steve\", \".\", \" Who\", \" is\", \" the\", \" shortest\", \"?\\n\", \"Ans\", \":\"], \"values\": [0.00970458984375, 0.0081787109375, 0.0130615234375, 0.0252685546875, 0.035888671875, 0.0238037109375, 0.0198974609375, 0.048095703125, 0.01287841796875, 0.00921630859375, 0.01287841796875, 0.02587890625, 0.0322265625, 0.0076904296875, 0.10888671875, 0.03759765625, 0.005035400390625, 0.0250244140625]}\n",
       "    )\n",
       "    </script>"
      ],
      "text/plain": [
       "<circuitsvis.utils.render.RenderedHTML at 0x7fa5001c0b50>"
      ]
     },
     "metadata": {},
     "output_type": "display_data"
    },
    {
     "name": "stdout",
     "output_type": "stream",
     "text": [
      "2025-08-01 14:52:28 __main__ INFO     Layer: 33, Head: 18\n"
     ]
    },
    {
     "data": {
      "text/html": [
       "<div id=\"circuits-vis-785ad5ba-2f18\" style=\"margin: 15px 0;\"/>\n",
       "    <script crossorigin type=\"module\">\n",
       "    import { render, ColoredTokens } from \"https://unpkg.com/circuitsvis@1.43.3/dist/cdn/esm.js\";\n",
       "    render(\n",
       "      \"circuits-vis-785ad5ba-2f18\",\n",
       "      ColoredTokens,\n",
       "      {\"tokens\": [\"John\", \" is\", \" taller\", \" than\", \" Bob\", \",\", \" but\", \" shorter\", \" than\", \" Steve\", \".\", \" Who\", \" is\", \" the\", \" shortest\", \"?\\n\", \"Ans\", \":\"], \"values\": [0.0322265625, 0.0947265625, 0.0267333984375, 0.01904296875, 0.35546875, 0.0260009765625, 0.0240478515625, 0.0130615234375, 0.01153564453125, 0.0242919921875, 0.00537109375, 0.0162353515625, 0.0201416015625, 0.011474609375, 0.0301513671875, 0.0220947265625, 0.00106048583984375, 0.009765625]}\n",
       "    )\n",
       "    </script>"
      ],
      "text/plain": [
       "<circuitsvis.utils.render.RenderedHTML at 0x7fa4c04d8c50>"
      ]
     },
     "metadata": {},
     "output_type": "display_data"
    },
    {
     "name": "stdout",
     "output_type": "stream",
     "text": [
      "2025-08-01 14:52:28 __main__ INFO     Layer: 34, Head: 1\n"
     ]
    },
    {
     "data": {
      "text/html": [
       "<div id=\"circuits-vis-2c1352b2-cd6f\" style=\"margin: 15px 0;\"/>\n",
       "    <script crossorigin type=\"module\">\n",
       "    import { render, ColoredTokens } from \"https://unpkg.com/circuitsvis@1.43.3/dist/cdn/esm.js\";\n",
       "    render(\n",
       "      \"circuits-vis-2c1352b2-cd6f\",\n",
       "      ColoredTokens,\n",
       "      {\"tokens\": [\"John\", \" is\", \" taller\", \" than\", \" Bob\", \",\", \" but\", \" shorter\", \" than\", \" Steve\", \".\", \" Who\", \" is\", \" the\", \" shortest\", \"?\\n\", \"Ans\", \":\"], \"values\": [0.0157470703125, 0.041259765625, 0.005126953125, 0.044921875, 0.1875, 0.0625, 0.014892578125, 0.004302978515625, 0.00188446044921875, 0.00148773193359375, 0.015380859375, 0.025146484375, 0.0172119140625, 0.00518798828125, 0.0277099609375, 0.047607421875, 0.0015106201171875, 0.053955078125]}\n",
       "    )\n",
       "    </script>"
      ],
      "text/plain": [
       "<circuitsvis.utils.render.RenderedHTML at 0x7fa4c04d8c50>"
      ]
     },
     "metadata": {},
     "output_type": "display_data"
    },
    {
     "name": "stdout",
     "output_type": "stream",
     "text": [
      "2025-08-01 14:52:28 __main__ INFO     Layer: 34, Head: 6\n"
     ]
    },
    {
     "data": {
      "text/html": [
       "<div id=\"circuits-vis-ce43e888-a096\" style=\"margin: 15px 0;\"/>\n",
       "    <script crossorigin type=\"module\">\n",
       "    import { render, ColoredTokens } from \"https://unpkg.com/circuitsvis@1.43.3/dist/cdn/esm.js\";\n",
       "    render(\n",
       "      \"circuits-vis-ce43e888-a096\",\n",
       "      ColoredTokens,\n",
       "      {\"tokens\": [\"John\", \" is\", \" taller\", \" than\", \" Bob\", \",\", \" but\", \" shorter\", \" than\", \" Steve\", \".\", \" Who\", \" is\", \" the\", \" shortest\", \"?\\n\", \"Ans\", \":\"], \"values\": [0.0238037109375, 0.05908203125, 0.00787353515625, 0.0673828125, 0.177734375, 0.068359375, 0.03369140625, 0.00848388671875, 0.005279541015625, 0.00213623046875, 0.0186767578125, 0.02099609375, 0.0172119140625, 0.00543212890625, 0.0223388671875, 0.01336669921875, 0.00133514404296875, 0.0283203125]}\n",
       "    )\n",
       "    </script>"
      ],
      "text/plain": [
       "<circuitsvis.utils.render.RenderedHTML at 0x7fa5679b0310>"
      ]
     },
     "metadata": {},
     "output_type": "display_data"
    },
    {
     "name": "stdout",
     "output_type": "stream",
     "text": [
      "2025-08-01 14:52:29 __main__ INFO     Layer: 34, Head: 7\n"
     ]
    },
    {
     "data": {
      "text/html": [
       "<div id=\"circuits-vis-f3d26d34-f005\" style=\"margin: 15px 0;\"/>\n",
       "    <script crossorigin type=\"module\">\n",
       "    import { render, ColoredTokens } from \"https://unpkg.com/circuitsvis@1.43.3/dist/cdn/esm.js\";\n",
       "    render(\n",
       "      \"circuits-vis-f3d26d34-f005\",\n",
       "      ColoredTokens,\n",
       "      {\"tokens\": [\"John\", \" is\", \" taller\", \" than\", \" Bob\", \",\", \" but\", \" shorter\", \" than\", \" Steve\", \".\", \" Who\", \" is\", \" the\", \" shortest\", \"?\\n\", \"Ans\", \":\"], \"values\": [0.029541015625, 0.01348876953125, 0.004638671875, 0.01226806640625, 0.06298828125, 0.03173828125, 0.0098876953125, 0.0115966796875, 0.00640869140625, 0.00848388671875, 0.0361328125, 0.06494140625, 0.04296875, 0.01068115234375, 0.140625, 0.2255859375, 0.003570556640625, 0.07861328125]}\n",
       "    )\n",
       "    </script>"
      ],
      "text/plain": [
       "<circuitsvis.utils.render.RenderedHTML at 0x7fa5679b0310>"
      ]
     },
     "metadata": {},
     "output_type": "display_data"
    },
    {
     "name": "stdout",
     "output_type": "stream",
     "text": [
      "2025-08-01 14:52:29 __main__ INFO     Layer: 35, Head: 19\n"
     ]
    },
    {
     "data": {
      "text/html": [
       "<div id=\"circuits-vis-58239549-d48f\" style=\"margin: 15px 0;\"/>\n",
       "    <script crossorigin type=\"module\">\n",
       "    import { render, ColoredTokens } from \"https://unpkg.com/circuitsvis@1.43.3/dist/cdn/esm.js\";\n",
       "    render(\n",
       "      \"circuits-vis-58239549-d48f\",\n",
       "      ColoredTokens,\n",
       "      {\"tokens\": [\"John\", \" is\", \" taller\", \" than\", \" Bob\", \",\", \" but\", \" shorter\", \" than\", \" Steve\", \".\", \" Who\", \" is\", \" the\", \" shortest\", \"?\\n\", \"Ans\", \":\"], \"values\": [0.004302978515625, 0.00689697265625, 0.01104736328125, 0.0201416015625, 0.7265625, 0.060546875, 0.031494140625, 0.0196533203125, 0.006988525390625, 0.01116943359375, 0.00933837890625, 0.00113677978515625, 0.0021820068359375, 0.0023040771484375, 0.014892578125, 0.0035400390625, 1.609325408935547e-05, 0.00063323974609375]}\n",
       "    )\n",
       "    </script>"
      ],
      "text/plain": [
       "<circuitsvis.utils.render.RenderedHTML at 0x7fa5679b0310>"
      ]
     },
     "metadata": {},
     "output_type": "display_data"
    },
    {
     "name": "stdout",
     "output_type": "stream",
     "text": [
      "2025-08-01 14:52:29 __main__ INFO     Layer: 39, Head: 40\n"
     ]
    },
    {
     "data": {
      "text/html": [
       "<div id=\"circuits-vis-e4294d64-eb30\" style=\"margin: 15px 0;\"/>\n",
       "    <script crossorigin type=\"module\">\n",
       "    import { render, ColoredTokens } from \"https://unpkg.com/circuitsvis@1.43.3/dist/cdn/esm.js\";\n",
       "    render(\n",
       "      \"circuits-vis-e4294d64-eb30\",\n",
       "      ColoredTokens,\n",
       "      {\"tokens\": [\"John\", \" is\", \" taller\", \" than\", \" Bob\", \",\", \" but\", \" shorter\", \" than\", \" Steve\", \".\", \" Who\", \" is\", \" the\", \" shortest\", \"?\\n\", \"Ans\", \":\"], \"values\": [0.01544189453125, 0.0101318359375, 0.001861572265625, 0.01806640625, 0.5, 0.033203125, 0.0419921875, 0.004608154296875, 0.006805419921875, 0.0118408203125, 0.0277099609375, 0.007476806640625, 0.004180908203125, 0.00174713134765625, 0.03125, 0.0673828125, 0.002532958984375, 0.029296875]}\n",
       "    )\n",
       "    </script>"
      ],
      "text/plain": [
       "<circuitsvis.utils.render.RenderedHTML at 0x7fa4c01c6810>"
      ]
     },
     "metadata": {},
     "output_type": "display_data"
    },
    {
     "name": "stdout",
     "output_type": "stream",
     "text": [
      "2025-08-01 14:52:29 __main__ INFO     Layer: 42, Head: 30\n"
     ]
    },
    {
     "data": {
      "text/html": [
       "<div id=\"circuits-vis-2d4f2d5e-889a\" style=\"margin: 15px 0;\"/>\n",
       "    <script crossorigin type=\"module\">\n",
       "    import { render, ColoredTokens } from \"https://unpkg.com/circuitsvis@1.43.3/dist/cdn/esm.js\";\n",
       "    render(\n",
       "      \"circuits-vis-2d4f2d5e-889a\",\n",
       "      ColoredTokens,\n",
       "      {\"tokens\": [\"John\", \" is\", \" taller\", \" than\", \" Bob\", \",\", \" but\", \" shorter\", \" than\", \" Steve\", \".\", \" Who\", \" is\", \" the\", \" shortest\", \"?\\n\", \"Ans\", \":\"], \"values\": [0.0032806396484375, 0.0107421875, 0.0069580078125, 0.01129150390625, 0.03515625, 0.007171630859375, 0.0052490234375, 0.003173828125, 0.0050048828125, 0.0021820068359375, 0.0089111328125, 0.0050048828125, 0.003662109375, 0.0028076171875, 0.00653076171875, 0.01275634765625, 0.003173828125, 0.005584716796875]}\n",
       "    )\n",
       "    </script>"
      ],
      "text/plain": [
       "<circuitsvis.utils.render.RenderedHTML at 0x7fa4c044de50>"
      ]
     },
     "metadata": {},
     "output_type": "display_data"
    },
    {
     "name": "stdout",
     "output_type": "stream",
     "text": [
      "2025-08-01 14:52:29 __main__ INFO     Layer: 47, Head: 18\n"
     ]
    },
    {
     "data": {
      "text/html": [
       "<div id=\"circuits-vis-16c996fd-5742\" style=\"margin: 15px 0;\"/>\n",
       "    <script crossorigin type=\"module\">\n",
       "    import { render, ColoredTokens } from \"https://unpkg.com/circuitsvis@1.43.3/dist/cdn/esm.js\";\n",
       "    render(\n",
       "      \"circuits-vis-16c996fd-5742\",\n",
       "      ColoredTokens,\n",
       "      {\"tokens\": [\"John\", \" is\", \" taller\", \" than\", \" Bob\", \",\", \" but\", \" shorter\", \" than\", \" Steve\", \".\", \" Who\", \" is\", \" the\", \" shortest\", \"?\\n\", \"Ans\", \":\"], \"values\": [0.043701171875, 0.07275390625, 0.0032806396484375, 0.04296875, 0.1865234375, 0.06884765625, 0.04296875, 0.0005035400390625, 0.01446533203125, 0.000431060791015625, 0.0751953125, 0.0211181640625, 0.01531982421875, 0.007415771484375, 0.00096893310546875, 0.032470703125, 0.00408935546875, 0.0244140625]}\n",
       "    )\n",
       "    </script>"
      ],
      "text/plain": [
       "<circuitsvis.utils.render.RenderedHTML at 0x7fa4c01c6810>"
      ]
     },
     "metadata": {},
     "output_type": "display_data"
    },
    {
     "name": "stdout",
     "output_type": "stream",
     "text": [
      "2025-08-01 14:52:29 __main__ INFO     Layer: 52, Head: 58\n"
     ]
    },
    {
     "data": {
      "text/html": [
       "<div id=\"circuits-vis-290da5f5-6d80\" style=\"margin: 15px 0;\"/>\n",
       "    <script crossorigin type=\"module\">\n",
       "    import { render, ColoredTokens } from \"https://unpkg.com/circuitsvis@1.43.3/dist/cdn/esm.js\";\n",
       "    render(\n",
       "      \"circuits-vis-290da5f5-6d80\",\n",
       "      ColoredTokens,\n",
       "      {\"tokens\": [\"John\", \" is\", \" taller\", \" than\", \" Bob\", \",\", \" but\", \" shorter\", \" than\", \" Steve\", \".\", \" Who\", \" is\", \" the\", \" shortest\", \"?\\n\", \"Ans\", \":\"], \"values\": [0.011962890625, 0.02685546875, 0.0047607421875, 0.0133056640625, 0.051513671875, 0.01171875, 0.007232666015625, 0.00106048583984375, 0.00347900390625, 0.0003032684326171875, 0.01019287109375, 0.004241943359375, 0.00433349609375, 0.001800537109375, 0.0029754638671875, 0.0157470703125, 0.0098876953125, 0.0078125]}\n",
       "    )\n",
       "    </script>"
      ],
      "text/plain": [
       "<circuitsvis.utils.render.RenderedHTML at 0x7fa540106810>"
      ]
     },
     "metadata": {},
     "output_type": "display_data"
    },
    {
     "data": {
      "text/plain": [
       "[PredictedToken(token=' Bob', prob=0.8203125, logit=20.25, token_id=14596, metadata=None),\n",
       " PredictedToken(token=' John', prob=0.03173828125, logit=17.0, token_id=3842, metadata=None),\n",
       " PredictedToken(token=' We', prob=0.0218505859375, logit=16.625, token_id=1226, metadata=None),\n",
       " PredictedToken(token=' The', prob=0.019287109375, logit=16.5, token_id=578, metadata=None),\n",
       " PredictedToken(token=' Since', prob=0.0150146484375, logit=16.25, token_id=8876, metadata=None)]"
      ]
     },
     "execution_count": 46,
     "metadata": {},
     "output_type": "execute_result"
    }
   ],
   "source": [
    "#! Logical deduction\n",
    "\n",
    "# prompt = \"\"\"John is taller than Mary. Mary is taller than Steve. Who is the shortest?\n",
    "# Ans:\"\"\"\n",
    "prompt = \"\"\"John is taller than Bob, but shorter than Steve. Who is the shortest?\n",
    "Ans:\"\"\"\n",
    "# prompt = \"\"\"All the cookies are either chocolate or vanilla. None of the chocolate cookies have nuts.\n",
    "# This cookie has nuts. What flavor is it?\n",
    "# Ans:\"\"\"\n",
    "# prompt = \"\"\"The red box is to the left of the blue box, and to the right of the green box.\n",
    "# Which is the rightmost box?\n",
    "# Ans:\"\"\"\n",
    "\n",
    "verify = verify_head_patterns(\n",
    "    prompt=prompt,\n",
    "    options=[\"John\", \"Bob\", \"Steve\"],\n",
    "    pivot=\"shortest\",\n",
    "    mt=mt,\n",
    "    value_weighted=False,\n",
    "    generate_full_answer=True,\n",
    ")\n",
    "verify[\"predictions\"]"
   ]
  },
  {
   "cell_type": "code",
   "execution_count": 47,
   "id": "f90edc47",
   "metadata": {},
   "outputs": [
    {
     "name": "stdout",
     "output_type": "stream",
     "text": [
      "2025-08-01 14:52:51 __main__ DEBUG    Predictions: ['\" Bob\"[14596] (p=0.820, logit=20.250)', '\" John\"[3842] (p=0.032, logit=17.000)', '\" We\"[1226] (p=0.022, logit=16.625)', '\" The\"[578] (p=0.019, logit=16.500)', '\" Since\"[8876] (p=0.015, logit=16.250)']\n",
      "layer=35\n"
     ]
    },
    {
     "data": {
      "text/html": [
       "<div id=\"circuits-vis-6d0c324f-8f64\" style=\"margin: 15px 0;\"/>\n",
       "    <script crossorigin type=\"module\">\n",
       "    import { render, ColoredTokens } from \"https://unpkg.com/circuitsvis@1.43.3/dist/cdn/esm.js\";\n",
       "    render(\n",
       "      \"circuits-vis-6d0c324f-8f64\",\n",
       "      ColoredTokens,\n",
       "      {\"tokens\": [\"John\", \" is\", \" taller\", \" than\", \" Bob\", \",\", \" but\", \" shorter\", \" than\", \" Steve\", \".\", \" Who\", \" is\", \" the\", \" shortest\", \"?\\n\", \"Ans\", \":\"], \"values\": [0.022370338439941406, 0.009508192539215088, 0.009268641471862793, 0.010301098227500916, 0.03937739133834839, 0.014758259057998657, 0.010413475334644318, 0.01174190640449524, 0.0048246830701828, 0.009912461042404175, 0.015366077423095703, 0.01995265483856201, 0.011283937841653824, 0.008144833147525787, 0.058317720890045166, 0.06296396255493164, 0.012561572715640068, 0.025241553783416748]}\n",
       "    )\n",
       "    </script>"
      ],
      "text/plain": [
       "<circuitsvis.utils.render.RenderedHTML at 0x7fa567f14a50>"
      ]
     },
     "metadata": {},
     "output_type": "display_data"
    },
    {
     "name": "stdout",
     "output_type": "stream",
     "text": [
      "--------------------------------------------------------------------------------\n",
      "layer=47\n"
     ]
    },
    {
     "data": {
      "text/html": [
       "<div id=\"circuits-vis-1d2182a1-3fe1\" style=\"margin: 15px 0;\"/>\n",
       "    <script crossorigin type=\"module\">\n",
       "    import { render, ColoredTokens } from \"https://unpkg.com/circuitsvis@1.43.3/dist/cdn/esm.js\";\n",
       "    render(\n",
       "      \"circuits-vis-1d2182a1-3fe1\",\n",
       "      ColoredTokens,\n",
       "      {\"tokens\": [\"John\", \" is\", \" taller\", \" than\", \" Bob\", \",\", \" but\", \" shorter\", \" than\", \" Steve\", \".\", \" Who\", \" is\", \" the\", \" shortest\", \"?\\n\", \"Ans\", \":\"], \"values\": [0.004579260945320129, 0.004027221351861954, 0.0013874173164367676, 0.00251731276512146, 0.01183706521987915, 0.0029541179537773132, 0.002440985292196274, 0.0009358003735542297, 0.0016452353447675705, 0.0023322030901908875, 0.004624109715223312, 0.0022475775331258774, 0.001325691118836403, 0.0010867062956094742, 0.002270881086587906, 0.008724331855773926, 0.009424418210983276, 0.004635065793991089]}\n",
       "    )\n",
       "    </script>"
      ],
      "text/plain": [
       "<circuitsvis.utils.render.RenderedHTML at 0x7fa567de1bd0>"
      ]
     },
     "metadata": {},
     "output_type": "display_data"
    },
    {
     "name": "stdout",
     "output_type": "stream",
     "text": [
      "--------------------------------------------------------------------------------\n",
      "layer=52\n"
     ]
    },
    {
     "data": {
      "text/html": [
       "<div id=\"circuits-vis-ace45d26-c80e\" style=\"margin: 15px 0;\"/>\n",
       "    <script crossorigin type=\"module\">\n",
       "    import { render, ColoredTokens } from \"https://unpkg.com/circuitsvis@1.43.3/dist/cdn/esm.js\";\n",
       "    render(\n",
       "      \"circuits-vis-ace45d26-c80e\",\n",
       "      ColoredTokens,\n",
       "      {\"tokens\": [\"John\", \" is\", \" taller\", \" than\", \" Bob\", \",\", \" but\", \" shorter\", \" than\", \" Steve\", \".\", \" Who\", \" is\", \" the\", \" shortest\", \"?\\n\", \"Ans\", \":\"], \"values\": [0.008303582668304443, 0.006747990846633911, 0.002897687256336212, 0.0032209306955337524, 0.031040996313095093, 0.0032992996275424957, 0.00316736102104187, 0.0019433796405792236, 0.0018843449652194977, 0.003259032964706421, 0.00577092170715332, 0.005045697093009949, 0.002592317759990692, 0.001963965594768524, 0.003705199807882309, 0.025416314601898193, 0.016210705041885376, 0.01511719822883606]}\n",
       "    )\n",
       "    </script>"
      ],
      "text/plain": [
       "<circuitsvis.utils.render.RenderedHTML at 0x7fa4c044de50>"
      ]
     },
     "metadata": {},
     "output_type": "display_data"
    },
    {
     "name": "stdout",
     "output_type": "stream",
     "text": [
      "--------------------------------------------------------------------------------\n",
      "======================================================================\n",
      "2025-08-01 14:52:51 __main__ INFO     Layer: 33, Head: 45\n"
     ]
    },
    {
     "data": {
      "text/html": [
       "<div id=\"circuits-vis-b1c704c8-96d6\" style=\"margin: 15px 0;\"/>\n",
       "    <script crossorigin type=\"module\">\n",
       "    import { render, ColoredTokens } from \"https://unpkg.com/circuitsvis@1.43.3/dist/cdn/esm.js\";\n",
       "    render(\n",
       "      \"circuits-vis-b1c704c8-96d6\",\n",
       "      ColoredTokens,\n",
       "      {\"tokens\": [\"John\", \" is\", \" taller\", \" than\", \" Bob\", \",\", \" but\", \" shorter\", \" than\", \" Steve\", \".\", \" Who\", \" is\", \" the\", \" shortest\", \"?\\n\", \"Ans\", \":\"], \"values\": [0.00970458984375, 0.0081787109375, 0.0130615234375, 0.0252685546875, 0.035888671875, 0.0238037109375, 0.0198974609375, 0.048095703125, 0.01287841796875, 0.00921630859375, 0.01287841796875, 0.02587890625, 0.0322265625, 0.0076904296875, 0.10888671875, 0.03759765625, 0.005035400390625, 0.0250244140625]}\n",
       "    )\n",
       "    </script>"
      ],
      "text/plain": [
       "<circuitsvis.utils.render.RenderedHTML at 0x7fa4c044c710>"
      ]
     },
     "metadata": {},
     "output_type": "display_data"
    },
    {
     "name": "stdout",
     "output_type": "stream",
     "text": [
      "2025-08-01 14:52:51 __main__ INFO     Layer: 33, Head: 18\n"
     ]
    },
    {
     "data": {
      "text/html": [
       "<div id=\"circuits-vis-21b1de41-7e8d\" style=\"margin: 15px 0;\"/>\n",
       "    <script crossorigin type=\"module\">\n",
       "    import { render, ColoredTokens } from \"https://unpkg.com/circuitsvis@1.43.3/dist/cdn/esm.js\";\n",
       "    render(\n",
       "      \"circuits-vis-21b1de41-7e8d\",\n",
       "      ColoredTokens,\n",
       "      {\"tokens\": [\"John\", \" is\", \" taller\", \" than\", \" Bob\", \",\", \" but\", \" shorter\", \" than\", \" Steve\", \".\", \" Who\", \" is\", \" the\", \" shortest\", \"?\\n\", \"Ans\", \":\"], \"values\": [0.0322265625, 0.0947265625, 0.0267333984375, 0.01904296875, 0.35546875, 0.0260009765625, 0.0240478515625, 0.0130615234375, 0.01153564453125, 0.0242919921875, 0.00537109375, 0.0162353515625, 0.0201416015625, 0.011474609375, 0.0301513671875, 0.0220947265625, 0.00106048583984375, 0.009765625]}\n",
       "    )\n",
       "    </script>"
      ],
      "text/plain": [
       "<circuitsvis.utils.render.RenderedHTML at 0x7fa4c020ced0>"
      ]
     },
     "metadata": {},
     "output_type": "display_data"
    },
    {
     "name": "stdout",
     "output_type": "stream",
     "text": [
      "2025-08-01 14:52:51 __main__ INFO     Layer: 34, Head: 1\n"
     ]
    },
    {
     "data": {
      "text/html": [
       "<div id=\"circuits-vis-e11819e1-34a2\" style=\"margin: 15px 0;\"/>\n",
       "    <script crossorigin type=\"module\">\n",
       "    import { render, ColoredTokens } from \"https://unpkg.com/circuitsvis@1.43.3/dist/cdn/esm.js\";\n",
       "    render(\n",
       "      \"circuits-vis-e11819e1-34a2\",\n",
       "      ColoredTokens,\n",
       "      {\"tokens\": [\"John\", \" is\", \" taller\", \" than\", \" Bob\", \",\", \" but\", \" shorter\", \" than\", \" Steve\", \".\", \" Who\", \" is\", \" the\", \" shortest\", \"?\\n\", \"Ans\", \":\"], \"values\": [0.0157470703125, 0.041259765625, 0.005126953125, 0.044921875, 0.1875, 0.0625, 0.014892578125, 0.004302978515625, 0.00188446044921875, 0.00148773193359375, 0.015380859375, 0.025146484375, 0.0172119140625, 0.00518798828125, 0.0277099609375, 0.047607421875, 0.0015106201171875, 0.053955078125]}\n",
       "    )\n",
       "    </script>"
      ],
      "text/plain": [
       "<circuitsvis.utils.render.RenderedHTML at 0x7fa567de1bd0>"
      ]
     },
     "metadata": {},
     "output_type": "display_data"
    },
    {
     "name": "stdout",
     "output_type": "stream",
     "text": [
      "2025-08-01 14:52:51 __main__ INFO     Layer: 34, Head: 6\n"
     ]
    },
    {
     "data": {
      "text/html": [
       "<div id=\"circuits-vis-94ff9ef5-8111\" style=\"margin: 15px 0;\"/>\n",
       "    <script crossorigin type=\"module\">\n",
       "    import { render, ColoredTokens } from \"https://unpkg.com/circuitsvis@1.43.3/dist/cdn/esm.js\";\n",
       "    render(\n",
       "      \"circuits-vis-94ff9ef5-8111\",\n",
       "      ColoredTokens,\n",
       "      {\"tokens\": [\"John\", \" is\", \" taller\", \" than\", \" Bob\", \",\", \" but\", \" shorter\", \" than\", \" Steve\", \".\", \" Who\", \" is\", \" the\", \" shortest\", \"?\\n\", \"Ans\", \":\"], \"values\": [0.0238037109375, 0.05908203125, 0.00787353515625, 0.0673828125, 0.177734375, 0.068359375, 0.03369140625, 0.00848388671875, 0.005279541015625, 0.00213623046875, 0.0186767578125, 0.02099609375, 0.0172119140625, 0.00543212890625, 0.0223388671875, 0.01336669921875, 0.00133514404296875, 0.0283203125]}\n",
       "    )\n",
       "    </script>"
      ],
      "text/plain": [
       "<circuitsvis.utils.render.RenderedHTML at 0x7fa567ff65d0>"
      ]
     },
     "metadata": {},
     "output_type": "display_data"
    },
    {
     "name": "stdout",
     "output_type": "stream",
     "text": [
      "2025-08-01 14:52:52 __main__ INFO     Layer: 34, Head: 7\n"
     ]
    },
    {
     "data": {
      "text/html": [
       "<div id=\"circuits-vis-db930196-1e5d\" style=\"margin: 15px 0;\"/>\n",
       "    <script crossorigin type=\"module\">\n",
       "    import { render, ColoredTokens } from \"https://unpkg.com/circuitsvis@1.43.3/dist/cdn/esm.js\";\n",
       "    render(\n",
       "      \"circuits-vis-db930196-1e5d\",\n",
       "      ColoredTokens,\n",
       "      {\"tokens\": [\"John\", \" is\", \" taller\", \" than\", \" Bob\", \",\", \" but\", \" shorter\", \" than\", \" Steve\", \".\", \" Who\", \" is\", \" the\", \" shortest\", \"?\\n\", \"Ans\", \":\"], \"values\": [0.029541015625, 0.01348876953125, 0.004638671875, 0.01226806640625, 0.06298828125, 0.03173828125, 0.0098876953125, 0.0115966796875, 0.00640869140625, 0.00848388671875, 0.0361328125, 0.06494140625, 0.04296875, 0.01068115234375, 0.140625, 0.2255859375, 0.003570556640625, 0.07861328125]}\n",
       "    )\n",
       "    </script>"
      ],
      "text/plain": [
       "<circuitsvis.utils.render.RenderedHTML at 0x7fa4c044e9d0>"
      ]
     },
     "metadata": {},
     "output_type": "display_data"
    },
    {
     "name": "stdout",
     "output_type": "stream",
     "text": [
      "2025-08-01 14:52:52 __main__ INFO     Layer: 35, Head: 19\n"
     ]
    },
    {
     "data": {
      "text/html": [
       "<div id=\"circuits-vis-d850bc95-d391\" style=\"margin: 15px 0;\"/>\n",
       "    <script crossorigin type=\"module\">\n",
       "    import { render, ColoredTokens } from \"https://unpkg.com/circuitsvis@1.43.3/dist/cdn/esm.js\";\n",
       "    render(\n",
       "      \"circuits-vis-d850bc95-d391\",\n",
       "      ColoredTokens,\n",
       "      {\"tokens\": [\"John\", \" is\", \" taller\", \" than\", \" Bob\", \",\", \" but\", \" shorter\", \" than\", \" Steve\", \".\", \" Who\", \" is\", \" the\", \" shortest\", \"?\\n\", \"Ans\", \":\"], \"values\": [0.004302978515625, 0.00689697265625, 0.01104736328125, 0.0201416015625, 0.7265625, 0.060546875, 0.031494140625, 0.0196533203125, 0.006988525390625, 0.01116943359375, 0.00933837890625, 0.00113677978515625, 0.0021820068359375, 0.0023040771484375, 0.014892578125, 0.0035400390625, 1.609325408935547e-05, 0.00063323974609375]}\n",
       "    )\n",
       "    </script>"
      ],
      "text/plain": [
       "<circuitsvis.utils.render.RenderedHTML at 0x7fa4c020ced0>"
      ]
     },
     "metadata": {},
     "output_type": "display_data"
    },
    {
     "name": "stdout",
     "output_type": "stream",
     "text": [
      "2025-08-01 14:52:52 __main__ INFO     Layer: 39, Head: 40\n"
     ]
    },
    {
     "data": {
      "text/html": [
       "<div id=\"circuits-vis-a5b46166-8dbd\" style=\"margin: 15px 0;\"/>\n",
       "    <script crossorigin type=\"module\">\n",
       "    import { render, ColoredTokens } from \"https://unpkg.com/circuitsvis@1.43.3/dist/cdn/esm.js\";\n",
       "    render(\n",
       "      \"circuits-vis-a5b46166-8dbd\",\n",
       "      ColoredTokens,\n",
       "      {\"tokens\": [\"John\", \" is\", \" taller\", \" than\", \" Bob\", \",\", \" but\", \" shorter\", \" than\", \" Steve\", \".\", \" Who\", \" is\", \" the\", \" shortest\", \"?\\n\", \"Ans\", \":\"], \"values\": [0.01544189453125, 0.0101318359375, 0.001861572265625, 0.01806640625, 0.5, 0.033203125, 0.0419921875, 0.004608154296875, 0.006805419921875, 0.0118408203125, 0.0277099609375, 0.007476806640625, 0.004180908203125, 0.00174713134765625, 0.03125, 0.0673828125, 0.002532958984375, 0.029296875]}\n",
       "    )\n",
       "    </script>"
      ],
      "text/plain": [
       "<circuitsvis.utils.render.RenderedHTML at 0x7fa567ff65d0>"
      ]
     },
     "metadata": {},
     "output_type": "display_data"
    },
    {
     "name": "stdout",
     "output_type": "stream",
     "text": [
      "2025-08-01 14:52:52 __main__ INFO     Layer: 42, Head: 30\n"
     ]
    },
    {
     "data": {
      "text/html": [
       "<div id=\"circuits-vis-99a22e0d-e456\" style=\"margin: 15px 0;\"/>\n",
       "    <script crossorigin type=\"module\">\n",
       "    import { render, ColoredTokens } from \"https://unpkg.com/circuitsvis@1.43.3/dist/cdn/esm.js\";\n",
       "    render(\n",
       "      \"circuits-vis-99a22e0d-e456\",\n",
       "      ColoredTokens,\n",
       "      {\"tokens\": [\"John\", \" is\", \" taller\", \" than\", \" Bob\", \",\", \" but\", \" shorter\", \" than\", \" Steve\", \".\", \" Who\", \" is\", \" the\", \" shortest\", \"?\\n\", \"Ans\", \":\"], \"values\": [0.0032806396484375, 0.0107421875, 0.0069580078125, 0.01129150390625, 0.03515625, 0.007171630859375, 0.0052490234375, 0.003173828125, 0.0050048828125, 0.0021820068359375, 0.0089111328125, 0.0050048828125, 0.003662109375, 0.0028076171875, 0.00653076171875, 0.01275634765625, 0.003173828125, 0.005584716796875]}\n",
       "    )\n",
       "    </script>"
      ],
      "text/plain": [
       "<circuitsvis.utils.render.RenderedHTML at 0x7fa4c01bc710>"
      ]
     },
     "metadata": {},
     "output_type": "display_data"
    },
    {
     "name": "stdout",
     "output_type": "stream",
     "text": [
      "2025-08-01 14:52:52 __main__ INFO     Layer: 47, Head: 18\n"
     ]
    },
    {
     "data": {
      "text/html": [
       "<div id=\"circuits-vis-20fc8abb-9bbf\" style=\"margin: 15px 0;\"/>\n",
       "    <script crossorigin type=\"module\">\n",
       "    import { render, ColoredTokens } from \"https://unpkg.com/circuitsvis@1.43.3/dist/cdn/esm.js\";\n",
       "    render(\n",
       "      \"circuits-vis-20fc8abb-9bbf\",\n",
       "      ColoredTokens,\n",
       "      {\"tokens\": [\"John\", \" is\", \" taller\", \" than\", \" Bob\", \",\", \" but\", \" shorter\", \" than\", \" Steve\", \".\", \" Who\", \" is\", \" the\", \" shortest\", \"?\\n\", \"Ans\", \":\"], \"values\": [0.043701171875, 0.07275390625, 0.0032806396484375, 0.04296875, 0.1865234375, 0.06884765625, 0.04296875, 0.0005035400390625, 0.01446533203125, 0.000431060791015625, 0.0751953125, 0.0211181640625, 0.01531982421875, 0.007415771484375, 0.00096893310546875, 0.032470703125, 0.00408935546875, 0.0244140625]}\n",
       "    )\n",
       "    </script>"
      ],
      "text/plain": [
       "<circuitsvis.utils.render.RenderedHTML at 0x7fa56798e610>"
      ]
     },
     "metadata": {},
     "output_type": "display_data"
    },
    {
     "name": "stdout",
     "output_type": "stream",
     "text": [
      "2025-08-01 14:52:52 __main__ INFO     Layer: 52, Head: 58\n"
     ]
    },
    {
     "data": {
      "text/html": [
       "<div id=\"circuits-vis-5ed0c704-d234\" style=\"margin: 15px 0;\"/>\n",
       "    <script crossorigin type=\"module\">\n",
       "    import { render, ColoredTokens } from \"https://unpkg.com/circuitsvis@1.43.3/dist/cdn/esm.js\";\n",
       "    render(\n",
       "      \"circuits-vis-5ed0c704-d234\",\n",
       "      ColoredTokens,\n",
       "      {\"tokens\": [\"John\", \" is\", \" taller\", \" than\", \" Bob\", \",\", \" but\", \" shorter\", \" than\", \" Steve\", \".\", \" Who\", \" is\", \" the\", \" shortest\", \"?\\n\", \"Ans\", \":\"], \"values\": [0.011962890625, 0.02685546875, 0.0047607421875, 0.0133056640625, 0.051513671875, 0.01171875, 0.007232666015625, 0.00106048583984375, 0.00347900390625, 0.0003032684326171875, 0.01019287109375, 0.004241943359375, 0.00433349609375, 0.001800537109375, 0.0029754638671875, 0.0157470703125, 0.0098876953125, 0.0078125]}\n",
       "    )\n",
       "    </script>"
      ],
      "text/plain": [
       "<circuitsvis.utils.render.RenderedHTML at 0x7fa56798e610>"
      ]
     },
     "metadata": {},
     "output_type": "display_data"
    },
    {
     "data": {
      "text/plain": [
       "[PredictedToken(token=' Bob', prob=0.8203125, logit=20.25, token_id=14596, metadata=None),\n",
       " PredictedToken(token=' John', prob=0.03173828125, logit=17.0, token_id=3842, metadata=None),\n",
       " PredictedToken(token=' We', prob=0.0218505859375, logit=16.625, token_id=1226, metadata=None),\n",
       " PredictedToken(token=' The', prob=0.019287109375, logit=16.5, token_id=578, metadata=None),\n",
       " PredictedToken(token=' Since', prob=0.0150146484375, logit=16.25, token_id=8876, metadata=None)]"
      ]
     },
     "execution_count": 47,
     "metadata": {},
     "output_type": "execute_result"
    }
   ],
   "source": [
    "verify_ind = verify_head_patterns(\n",
    "    prompt=prompt,\n",
    "    options=[\"John\", \"Bob\", \"Steve\"],\n",
    "    pivot=\"shortest\",\n",
    "    mt=mt,\n",
    "    value_weighted=False,\n",
    "    generate_full_answer=False,\n",
    ")\n",
    "verify_ind[\"predictions\"]"
   ]
  },
  {
   "cell_type": "code",
   "execution_count": 50,
   "id": "b4fa521c",
   "metadata": {},
   "outputs": [
    {
     "name": "stdout",
     "output_type": "stream",
     "text": [
      "2025-08-01 14:54:42 __main__ DEBUG    Generated full answer: \" c = True\n",
      "\n",
      "## Step 1: Evaluate the value of a\n",
      "To find the value of a, we use the logical AND operator, which\"\n",
      "2025-08-01 14:54:42 __main__ DEBUG    Predictions: ['\" c\"[272] (p=0.562, logit=19.000)', '\" a\"[264] (p=0.098, logit=17.250)', '\" \\n\"[720] (p=0.076, logit=17.000)', '\" b\"[293] (p=0.052, logit=16.625)', '\" Only\"[8442] (p=0.036, logit=16.250)']\n",
      "layer=35\n"
     ]
    },
    {
     "data": {
      "text/html": [
       "<div id=\"circuits-vis-3b5b46a1-8c2b\" style=\"margin: 15px 0;\"/>\n",
       "    <script crossorigin type=\"module\">\n",
       "    import { render, ColoredTokens } from \"https://unpkg.com/circuitsvis@1.43.3/dist/cdn/esm.js\";\n",
       "    render(\n",
       "      \"circuits-vis-3b5b46a1-8c2b\",\n",
       "      ColoredTokens,\n",
       "      {\"tokens\": [\"a\", \",\", \" b\", \",\", \" c\", \" is\", \" calculated\", \" as\", \" below\", \".\", \" Find\", \" which\", \" one\", \" among\", \" a\", \",\", \" b\", \",\", \" c\", \" is\", \" True\", \"\\n\\n\", \"x\", \" =\", \" True\", \"\\n\", \"y\", \" =\", \" False\", \"\\n\", \"z\", \" =\", \" False\", \"\\n\\n\", \"a\", \" =\", \" x\", \" and\", \" y\", \"\\n\", \"b\", \" =\", \" y\", \" or\", \" z\", \"\\n\", \"c\", \" =\", \" z\", \" xor\", \" x\", \"\\n\\n\", \"Ans\", \":\"], \"values\": [0.020056486129760742, 0.0004611080512404442, 0.0006989836692810059, 0.00045609474182128906, 0.0009107440710067749, 0.0022574663162231445, 0.0027908235788345337, 0.0017205998301506042, 0.002147182822227478, 0.0027181804180145264, 0.005838468670845032, 0.013960950076580048, 0.0052774399518966675, 0.009093254804611206, 0.0030430033802986145, 0.008948981761932373, 0.004869058728218079, 0.0018480271100997925, 0.021297484636306763, 0.011117495596408844, 0.06517988443374634, 0.022840142250061035, 0.0018933173269033432, 0.0011652633547782898, 0.005964994430541992, 0.003427550196647644, 0.0009442344307899475, 0.0006961449980735779, 0.003855466842651367, 0.002836078405380249, 0.0008861124515533447, 0.0007502958178520203, 0.006018310785293579, 0.0033736824989318848, 0.02119666337966919, 0.004696860909461975, 0.0028724223375320435, 0.0053198933601379395, 0.003193475306034088, 0.012362465262413025, 0.019044429063796997, 0.0051062703132629395, 0.0016318261623382568, 0.005774945020675659, 0.00434296578168869, 0.02368970215320587, 0.033909112215042114, 0.009798377752304077, 0.005723819136619568, 0.02157360315322876, 0.013539992272853851, 0.04108285903930664, 0.013246655464172363, 0.046203017234802246]}\n",
       "    )\n",
       "    </script>"
      ],
      "text/plain": [
       "<circuitsvis.utils.render.RenderedHTML at 0x7fa47c3c6150>"
      ]
     },
     "metadata": {},
     "output_type": "display_data"
    },
    {
     "name": "stdout",
     "output_type": "stream",
     "text": [
      "--------------------------------------------------------------------------------\n",
      "layer=47\n"
     ]
    },
    {
     "data": {
      "text/html": [
       "<div id=\"circuits-vis-d1d6b3c5-f8de\" style=\"margin: 15px 0;\"/>\n",
       "    <script crossorigin type=\"module\">\n",
       "    import { render, ColoredTokens } from \"https://unpkg.com/circuitsvis@1.43.3/dist/cdn/esm.js\";\n",
       "    render(\n",
       "      \"circuits-vis-d1d6b3c5-f8de\",\n",
       "      ColoredTokens,\n",
       "      {\"tokens\": [\"a\", \",\", \" b\", \",\", \" c\", \" is\", \" calculated\", \" as\", \" below\", \".\", \" Find\", \" which\", \" one\", \" among\", \" a\", \",\", \" b\", \",\", \" c\", \" is\", \" True\", \"\\n\\n\", \"x\", \" =\", \" True\", \"\\n\", \"y\", \" =\", \" False\", \"\\n\", \"z\", \" =\", \" False\", \"\\n\\n\", \"a\", \" =\", \" x\", \" and\", \" y\", \"\\n\", \"b\", \" =\", \" y\", \" or\", \" z\", \"\\n\", \"c\", \" =\", \" z\", \" xor\", \" x\", \"\\n\\n\", \"Ans\", \":\"], \"values\": [0.0018457397818565369, 0.0004308968782424927, 0.000490095466375351, 0.00020879972726106644, 0.0011992137879133224, 0.0008434350602328777, 0.0006290609017014503, 0.00046794256195425987, 0.000612364150583744, 0.0006635356694459915, 0.0004580761305987835, 0.0009988551028072834, 0.0007371474057435989, 0.0007327292114496231, 0.0017249584197998047, 0.0009577954187989235, 0.0012047011405229568, 0.00045150890946388245, 0.0061768097802996635, 0.0006597507745027542, 0.002824600785970688, 0.0016929991543293, 0.000517185777425766, 0.0002615582197904587, 0.0010366067290306091, 0.0005548158660531044, 0.0004511810839176178, 0.00017273332923650742, 0.00033442769199609756, 0.0005669817328453064, 0.0005065137520432472, 0.0002660253085196018, 0.00024024397134780884, 0.0007787011563777924, 0.0051803309470415115, 0.0013461075723171234, 0.0005142968147993088, 0.0009620338678359985, 0.0002612052485346794, 0.0016705440357327461, 0.003489322029054165, 0.000871976837515831, 0.00020209047943353653, 0.0006957501173019409, 0.000237220898270607, 0.000640304759144783, 0.010977916419506073, 0.0014186352491378784, 0.000651950016617775, 0.003161311149597168, 0.0007058307528495789, 0.003295600414276123, 0.007159441709518433, 0.0027203410863876343]}\n",
       "    )\n",
       "    </script>"
      ],
      "text/plain": [
       "<circuitsvis.utils.render.RenderedHTML at 0x7fa500197850>"
      ]
     },
     "metadata": {},
     "output_type": "display_data"
    },
    {
     "name": "stdout",
     "output_type": "stream",
     "text": [
      "--------------------------------------------------------------------------------\n",
      "layer=52\n"
     ]
    },
    {
     "data": {
      "text/html": [
       "<div id=\"circuits-vis-164b8d00-31ea\" style=\"margin: 15px 0;\"/>\n",
       "    <script crossorigin type=\"module\">\n",
       "    import { render, ColoredTokens } from \"https://unpkg.com/circuitsvis@1.43.3/dist/cdn/esm.js\";\n",
       "    render(\n",
       "      \"circuits-vis-164b8d00-31ea\",\n",
       "      ColoredTokens,\n",
       "      {\"tokens\": [\"a\", \",\", \" b\", \",\", \" c\", \" is\", \" calculated\", \" as\", \" below\", \".\", \" Find\", \" which\", \" one\", \" among\", \" a\", \",\", \" b\", \",\", \" c\", \" is\", \" True\", \"\\n\\n\", \"x\", \" =\", \" True\", \"\\n\", \"y\", \" =\", \" False\", \"\\n\", \"z\", \" =\", \" False\", \"\\n\\n\", \"a\", \" =\", \" x\", \" and\", \" y\", \"\\n\", \"b\", \" =\", \" y\", \" or\", \" z\", \"\\n\", \"c\", \" =\", \" z\", \" xor\", \" x\", \"\\n\\n\", \"Ans\", \":\"], \"values\": [0.003394007682800293, 0.0018674363382160664, 0.0015450208447873592, 0.0005812756717205048, 0.002040955238044262, 0.0037026172503829002, 0.0037760622799396515, 0.0009636040776968002, 0.0010208915919065475, 0.0019692890346050262, 0.002079521305859089, 0.0025611743330955505, 0.0014566611498594284, 0.002443186938762665, 0.0031763575971126556, 0.002099607139825821, 0.002698080614209175, 0.0011363234370946884, 0.008723070845007896, 0.0018264753744006157, 0.007233873009681702, 0.007291208952665329, 0.0030160173773765564, 0.0018398929387331009, 0.0021510012447834015, 0.0033514201641082764, 0.0019354932010173798, 0.0006946101784706116, 0.0018266290426254272, 0.0014592837542295456, 0.0014938060194253922, 0.0006959885358810425, 0.0010209167376160622, 0.0025866692885756493, 0.009726257994771004, 0.003139827400445938, 0.002041945233941078, 0.0031678713858127594, 0.0008267336525022984, 0.0031780190765857697, 0.0056746117770671844, 0.001810145564377308, 0.0007883254438638687, 0.0024798978120088577, 0.0007370226085186005, 0.0016335174441337585, 0.020731130614876747, 0.0028182826936244965, 0.0016713785007596016, 0.00604228675365448, 0.0020802244544029236, 0.008594229817390442, 0.016826488077640533, 0.015092909336090088]}\n",
       "    )\n",
       "    </script>"
      ],
      "text/plain": [
       "<circuitsvis.utils.render.RenderedHTML at 0x7fa47c3c4a90>"
      ]
     },
     "metadata": {},
     "output_type": "display_data"
    },
    {
     "name": "stdout",
     "output_type": "stream",
     "text": [
      "--------------------------------------------------------------------------------\n",
      "======================================================================\n",
      "2025-08-01 14:54:42 __main__ INFO     Layer: 33, Head: 45\n"
     ]
    },
    {
     "data": {
      "text/html": [
       "<div id=\"circuits-vis-ff3f8368-5ece\" style=\"margin: 15px 0;\"/>\n",
       "    <script crossorigin type=\"module\">\n",
       "    import { render, ColoredTokens } from \"https://unpkg.com/circuitsvis@1.43.3/dist/cdn/esm.js\";\n",
       "    render(\n",
       "      \"circuits-vis-ff3f8368-5ece\",\n",
       "      ColoredTokens,\n",
       "      {\"tokens\": [\"a\", \",\", \" b\", \",\", \" c\", \" is\", \" calculated\", \" as\", \" below\", \".\", \" Find\", \" which\", \" one\", \" among\", \" a\", \",\", \" b\", \",\", \" c\", \" is\", \" True\", \"\\n\\n\", \"x\", \" =\", \" True\", \"\\n\", \"y\", \" =\", \" False\", \"\\n\", \"z\", \" =\", \" False\", \"\\n\\n\", \"a\", \" =\", \" x\", \" and\", \" y\", \"\\n\", \"b\", \" =\", \" y\", \" or\", \" z\", \"\\n\", \"c\", \" =\", \" z\", \" xor\", \" x\", \"\\n\\n\", \"Ans\", \":\"], \"values\": [0.01434326171875, 0.00118255615234375, 0.0027923583984375, 0.000476837158203125, 0.0027923583984375, 0.00311279296875, 0.002166748046875, 0.002532958984375, 0.0009918212890625, 0.0015411376953125, 0.01190185546875, 0.0107421875, 0.0030059814453125, 0.003570556640625, 0.005615234375, 0.004425048828125, 0.00732421875, 0.001007080078125, 0.0169677734375, 0.0084228515625, 0.0283203125, 0.01025390625, 0.005340576171875, 0.0027008056640625, 0.01220703125, 0.0068359375, 0.003204345703125, 0.00106048583984375, 0.02001953125, 0.004119873046875, 0.0038604736328125, 0.00164031982421875, 0.0247802734375, 0.006072998046875, 0.022705078125, 0.00421142578125, 0.01092529296875, 0.0125732421875, 0.006591796875, 0.0137939453125, 0.0240478515625, 0.015869140625, 0.0177001953125, 0.09814453125, 0.0263671875, 0.051025390625, 0.038330078125, 0.006439208984375, 0.04150390625, 0.060302734375, 0.025634765625, 0.0712890625, 0.01611328125, 0.0181884765625]}\n",
       "    )\n",
       "    </script>"
      ],
      "text/plain": [
       "<circuitsvis.utils.render.RenderedHTML at 0x7fa567ed5b10>"
      ]
     },
     "metadata": {},
     "output_type": "display_data"
    },
    {
     "name": "stdout",
     "output_type": "stream",
     "text": [
      "2025-08-01 14:54:42 __main__ INFO     Layer: 33, Head: 18\n"
     ]
    },
    {
     "data": {
      "text/html": [
       "<div id=\"circuits-vis-6970c9c7-623a\" style=\"margin: 15px 0;\"/>\n",
       "    <script crossorigin type=\"module\">\n",
       "    import { render, ColoredTokens } from \"https://unpkg.com/circuitsvis@1.43.3/dist/cdn/esm.js\";\n",
       "    render(\n",
       "      \"circuits-vis-6970c9c7-623a\",\n",
       "      ColoredTokens,\n",
       "      {\"tokens\": [\"a\", \",\", \" b\", \",\", \" c\", \" is\", \" calculated\", \" as\", \" below\", \".\", \" Find\", \" which\", \" one\", \" among\", \" a\", \",\", \" b\", \",\", \" c\", \" is\", \" True\", \"\\n\\n\", \"x\", \" =\", \" True\", \"\\n\", \"y\", \" =\", \" False\", \"\\n\", \"z\", \" =\", \" False\", \"\\n\\n\", \"a\", \" =\", \" x\", \" and\", \" y\", \"\\n\", \"b\", \" =\", \" y\", \" or\", \" z\", \"\\n\", \"c\", \" =\", \" z\", \" xor\", \" x\", \"\\n\\n\", \"Ans\", \":\"], \"values\": [0.035400390625, 0.0012969970703125, 0.002349853515625, 0.00080108642578125, 0.003753662109375, 0.0028533935546875, 0.00011014938354492188, 0.000240325927734375, 0.000308990478515625, 0.0002803802490234375, 0.00060272216796875, 0.003662109375, 0.011962890625, 0.0054931640625, 0.010498046875, 0.00433349609375, 0.0234375, 9.679794311523438e-05, 0.052734375, 0.00946044921875, 0.232421875, 0.0079345703125, 0.00109100341796875, 0.0004634857177734375, 0.04150390625, 0.00174713134765625, 0.0008392333984375, 0.0003833770751953125, 0.01239013671875, 0.000621795654296875, 0.00119781494140625, 0.0027313232421875, 0.011962890625, 0.0004482269287109375, 0.056884765625, 0.003997802734375, 0.0022125244140625, 0.00140380859375, 0.0008392333984375, 0.0022735595703125, 0.09521484375, 0.00433349609375, 0.002166748046875, 0.0033721923828125, 0.006805419921875, 0.0191650390625, 0.0947265625, 0.0078125, 0.005218505859375, 0.017333984375, 0.0023193359375, 0.00653076171875, 0.0047607421875, 0.024658203125]}\n",
       "    )\n",
       "    </script>"
      ],
      "text/plain": [
       "<circuitsvis.utils.render.RenderedHTML at 0x7fa4e0326350>"
      ]
     },
     "metadata": {},
     "output_type": "display_data"
    },
    {
     "name": "stdout",
     "output_type": "stream",
     "text": [
      "2025-08-01 14:54:43 __main__ INFO     Layer: 34, Head: 1\n"
     ]
    },
    {
     "data": {
      "text/html": [
       "<div id=\"circuits-vis-051a0046-42e5\" style=\"margin: 15px 0;\"/>\n",
       "    <script crossorigin type=\"module\">\n",
       "    import { render, ColoredTokens } from \"https://unpkg.com/circuitsvis@1.43.3/dist/cdn/esm.js\";\n",
       "    render(\n",
       "      \"circuits-vis-051a0046-42e5\",\n",
       "      ColoredTokens,\n",
       "      {\"tokens\": [\"a\", \",\", \" b\", \",\", \" c\", \" is\", \" calculated\", \" as\", \" below\", \".\", \" Find\", \" which\", \" one\", \" among\", \" a\", \",\", \" b\", \",\", \" c\", \" is\", \" True\", \"\\n\\n\", \"x\", \" =\", \" True\", \"\\n\", \"y\", \" =\", \" False\", \"\\n\", \"z\", \" =\", \" False\", \"\\n\\n\", \"a\", \" =\", \" x\", \" and\", \" y\", \"\\n\", \"b\", \" =\", \" y\", \" or\", \" z\", \"\\n\", \"c\", \" =\", \" z\", \" xor\", \" x\", \"\\n\\n\", \"Ans\", \":\"], \"values\": [0.07373046875, 0.00022029876708984375, 0.00012969970703125, 9.202957153320312e-05, 0.000545501708984375, 0.000598907470703125, 0.001068115234375, 0.000659942626953125, 0.001190185546875, 0.00146484375, 0.0084228515625, 0.029296875, 0.0137939453125, 0.00958251953125, 0.0009002685546875, 0.0020904541015625, 0.000545501708984375, 0.000438690185546875, 0.0128173828125, 0.007537841796875, 0.024658203125, 0.00811767578125, 0.0002422332763671875, 0.0002422332763671875, 0.00225830078125, 0.00022029876708984375, 3.838539123535156e-05, 3.075599670410156e-05, 0.000530242919921875, 0.0001773834228515625, 0.0002918243408203125, 0.00091552734375, 0.00072479248046875, 0.000438690185546875, 0.0252685546875, 0.002960205078125, 0.000213623046875, 0.00067901611328125, 7.390975952148438e-05, 0.0032958984375, 0.0247802734375, 0.003143310546875, 0.000274658203125, 0.0029144287109375, 0.00103759765625, 0.01055908203125, 0.1142578125, 0.01116943359375, 0.00384521484375, 0.038330078125, 0.0037384033203125, 0.032958984375, 0.01080322265625, 0.024169921875]}\n",
       "    )\n",
       "    </script>"
      ],
      "text/plain": [
       "<circuitsvis.utils.render.RenderedHTML at 0x7fa500186710>"
      ]
     },
     "metadata": {},
     "output_type": "display_data"
    },
    {
     "name": "stdout",
     "output_type": "stream",
     "text": [
      "2025-08-01 14:54:43 __main__ INFO     Layer: 34, Head: 6\n"
     ]
    },
    {
     "data": {
      "text/html": [
       "<div id=\"circuits-vis-50d908d1-6d2c\" style=\"margin: 15px 0;\"/>\n",
       "    <script crossorigin type=\"module\">\n",
       "    import { render, ColoredTokens } from \"https://unpkg.com/circuitsvis@1.43.3/dist/cdn/esm.js\";\n",
       "    render(\n",
       "      \"circuits-vis-50d908d1-6d2c\",\n",
       "      ColoredTokens,\n",
       "      {\"tokens\": [\"a\", \",\", \" b\", \",\", \" c\", \" is\", \" calculated\", \" as\", \" below\", \".\", \" Find\", \" which\", \" one\", \" among\", \" a\", \",\", \" b\", \",\", \" c\", \" is\", \" True\", \"\\n\\n\", \"x\", \" =\", \" True\", \"\\n\", \"y\", \" =\", \" False\", \"\\n\", \"z\", \" =\", \" False\", \"\\n\\n\", \"a\", \" =\", \" x\", \" and\", \" y\", \"\\n\", \"b\", \" =\", \" y\", \" or\", \" z\", \"\\n\", \"c\", \" =\", \" z\", \" xor\", \" x\", \"\\n\\n\", \"Ans\", \":\"], \"values\": [0.060302734375, 0.000545501708984375, 0.0003299713134765625, 0.000301361083984375, 0.00115203857421875, 0.00115203857421875, 0.00130462646484375, 0.0016021728515625, 0.0017852783203125, 0.0019989013671875, 0.00872802734375, 0.02978515625, 0.0093994140625, 0.0107421875, 0.0015716552734375, 0.0037841796875, 0.0010986328125, 0.000598907470703125, 0.016845703125, 0.00970458984375, 0.0284423828125, 0.0068359375, 0.00099945068359375, 0.00079345703125, 0.0020904541015625, 0.000720977783203125, 0.0001659393310546875, 0.00010728836059570312, 0.0006561279296875, 0.0003108978271484375, 0.00115203857421875, 0.0042724609375, 0.00135040283203125, 0.0012054443359375, 0.038330078125, 0.006622314453125, 0.00095367431640625, 0.00130462646484375, 0.00022029876708984375, 0.0034332275390625, 0.033203125, 0.0196533203125, 0.000637054443359375, 0.0093994140625, 0.0037841796875, 0.01202392578125, 0.08251953125, 0.040283203125, 0.0052490234375, 0.0274658203125, 0.013916015625, 0.05126953125, 0.0027618408203125, 0.018310546875]}\n",
       "    )\n",
       "    </script>"
      ],
      "text/plain": [
       "<circuitsvis.utils.render.RenderedHTML at 0x7fa47c3c58d0>"
      ]
     },
     "metadata": {},
     "output_type": "display_data"
    },
    {
     "name": "stdout",
     "output_type": "stream",
     "text": [
      "2025-08-01 14:54:43 __main__ INFO     Layer: 34, Head: 7\n"
     ]
    },
    {
     "data": {
      "text/html": [
       "<div id=\"circuits-vis-1a654098-6995\" style=\"margin: 15px 0;\"/>\n",
       "    <script crossorigin type=\"module\">\n",
       "    import { render, ColoredTokens } from \"https://unpkg.com/circuitsvis@1.43.3/dist/cdn/esm.js\";\n",
       "    render(\n",
       "      \"circuits-vis-1a654098-6995\",\n",
       "      ColoredTokens,\n",
       "      {\"tokens\": [\"a\", \",\", \" b\", \",\", \" c\", \" is\", \" calculated\", \" as\", \" below\", \".\", \" Find\", \" which\", \" one\", \" among\", \" a\", \",\", \" b\", \",\", \" c\", \" is\", \" True\", \"\\n\\n\", \"x\", \" =\", \" True\", \"\\n\", \"y\", \" =\", \" False\", \"\\n\", \"z\", \" =\", \" False\", \"\\n\\n\", \"a\", \" =\", \" x\", \" and\", \" y\", \"\\n\", \"b\", \" =\", \" y\", \" or\", \" z\", \"\\n\", \"c\", \" =\", \" z\", \" xor\", \" x\", \"\\n\\n\", \"Ans\", \":\"], \"values\": [0.048828125, 8.344650268554688e-05, 7.390975952148438e-05, 5.91278076171875e-05, 0.0002269744873046875, 0.000194549560546875, 0.0002651214599609375, 0.0002346038818359375, 0.00051116943359375, 0.000637054443359375, 0.00299072265625, 0.011474609375, 0.006378173828125, 0.00750732421875, 0.000766754150390625, 0.00186920166015625, 0.00048065185546875, 0.0003299713134765625, 0.00653076171875, 0.01080322265625, 0.0186767578125, 0.01165771484375, 0.0003871917724609375, 0.000274658203125, 0.00396728515625, 0.000560760498046875, 0.000110626220703125, 7.152557373046875e-05, 0.00141143798828125, 0.00061798095703125, 0.0003871917724609375, 0.000743865966796875, 0.0021209716796875, 0.002227783203125, 0.052490234375, 0.004730224609375, 0.00135040283203125, 0.0029449462890625, 0.0004520416259765625, 0.009521484375, 0.04248046875, 0.00958251953125, 0.00193023681640625, 0.008056640625, 0.0031280517578125, 0.0291748046875, 0.15625, 0.0208740234375, 0.00994873046875, 0.0284423828125, 0.0111083984375, 0.09765625, 0.0189208984375, 0.0830078125]}\n",
       "    )\n",
       "    </script>"
      ],
      "text/plain": [
       "<circuitsvis.utils.render.RenderedHTML at 0x7fa4e02179d0>"
      ]
     },
     "metadata": {},
     "output_type": "display_data"
    },
    {
     "name": "stdout",
     "output_type": "stream",
     "text": [
      "2025-08-01 14:54:43 __main__ INFO     Layer: 35, Head: 19\n"
     ]
    },
    {
     "data": {
      "text/html": [
       "<div id=\"circuits-vis-5aac2f67-e86a\" style=\"margin: 15px 0;\"/>\n",
       "    <script crossorigin type=\"module\">\n",
       "    import { render, ColoredTokens } from \"https://unpkg.com/circuitsvis@1.43.3/dist/cdn/esm.js\";\n",
       "    render(\n",
       "      \"circuits-vis-5aac2f67-e86a\",\n",
       "      ColoredTokens,\n",
       "      {\"tokens\": [\"a\", \",\", \" b\", \",\", \" c\", \" is\", \" calculated\", \" as\", \" below\", \".\", \" Find\", \" which\", \" one\", \" among\", \" a\", \",\", \" b\", \",\", \" c\", \" is\", \" True\", \"\\n\\n\", \"x\", \" =\", \" True\", \"\\n\", \"y\", \" =\", \" False\", \"\\n\", \"z\", \" =\", \" False\", \"\\n\\n\", \"a\", \" =\", \" x\", \" and\", \" y\", \"\\n\", \"b\", \" =\", \" y\", \" or\", \" z\", \"\\n\", \"c\", \" =\", \" z\", \" xor\", \" x\", \"\\n\\n\", \"Ans\", \":\"], \"values\": [0.0103759765625, 2.3603439331054688e-05, 8.535385131835938e-05, 4.863739013671875e-05, 0.0003261566162109375, 4.291534423828125e-05, 0.00013446807861328125, 8.535385131835938e-05, 0.000499725341796875, 0.000171661376953125, 0.00146484375, 0.004241943359375, 0.0009613037109375, 0.002685546875, 0.0002536773681640625, 0.00090789794921875, 0.0009307861328125, 3.24249267578125e-05, 0.01031494140625, 0.00154876708984375, 0.0419921875, 0.00135040283203125, 2.086162567138672e-05, 0.00021457672119140625, 0.00689697265625, 0.00139617919921875, 0.0001163482666015625, 0.0003528594970703125, 0.008544921875, 0.000598907470703125, 0.000278472900390625, 0.001739501953125, 0.00714111328125, 0.000640869140625, 0.02294921875, 0.004241943359375, 0.000873565673828125, 0.003997802734375, 0.000713348388671875, 0.004302978515625, 0.043701171875, 0.0179443359375, 0.000583648681640625, 0.0201416015625, 0.00555419921875, 0.05078125, 0.1181640625, 0.08935546875, 0.0022735595703125, 0.076171875, 0.059326171875, 0.326171875, 0.000782012939453125, 0.007568359375]}\n",
       "    )\n",
       "    </script>"
      ],
      "text/plain": [
       "<circuitsvis.utils.render.RenderedHTML at 0x7fa4c0525bd0>"
      ]
     },
     "metadata": {},
     "output_type": "display_data"
    },
    {
     "name": "stdout",
     "output_type": "stream",
     "text": [
      "2025-08-01 14:54:43 __main__ INFO     Layer: 39, Head: 40\n"
     ]
    },
    {
     "data": {
      "text/html": [
       "<div id=\"circuits-vis-faa126d5-13eb\" style=\"margin: 15px 0;\"/>\n",
       "    <script crossorigin type=\"module\">\n",
       "    import { render, ColoredTokens } from \"https://unpkg.com/circuitsvis@1.43.3/dist/cdn/esm.js\";\n",
       "    render(\n",
       "      \"circuits-vis-faa126d5-13eb\",\n",
       "      ColoredTokens,\n",
       "      {\"tokens\": [\"a\", \",\", \" b\", \",\", \" c\", \" is\", \" calculated\", \" as\", \" below\", \".\", \" Find\", \" which\", \" one\", \" among\", \" a\", \",\", \" b\", \",\", \" c\", \" is\", \" True\", \"\\n\\n\", \"x\", \" =\", \" True\", \"\\n\", \"y\", \" =\", \" False\", \"\\n\", \"z\", \" =\", \" False\", \"\\n\\n\", \"a\", \" =\", \" x\", \" and\", \" y\", \"\\n\", \"b\", \" =\", \" y\", \" or\", \" z\", \"\\n\", \"c\", \" =\", \" z\", \" xor\", \" x\", \"\\n\\n\", \"Ans\", \":\"], \"values\": [0.0091552734375, 9.870529174804688e-05, 0.00010824203491210938, 0.000152587890625, 0.0033416748046875, 0.002471923828125, 0.00159454345703125, 0.002044677734375, 0.00107574462890625, 0.005645751953125, 0.00311279296875, 0.01287841796875, 0.00830078125, 0.007293701171875, 0.0033721923828125, 0.0016937255859375, 0.0052490234375, 0.00054168701171875, 0.07958984375, 0.0101318359375, 0.0888671875, 0.0164794921875, 3.0040740966796875e-05, 7.43865966796875e-05, 0.000499725341796875, 0.000560760498046875, 0.00011157989501953125, 0.0001049041748046875, 0.000652313232421875, 0.00092315673828125, 0.000560760498046875, 0.00106048583984375, 0.000774383544921875, 0.00140380859375, 0.0634765625, 0.004638671875, 0.0001735687255859375, 0.0005950927734375, 0.00014781951904296875, 0.01165771484375, 0.0296630859375, 0.00555419921875, 0.00014781951904296875, 0.0003452301025390625, 0.000499725341796875, 0.00897216796875, 0.208984375, 0.0361328125, 0.0047607421875, 0.01214599609375, 0.0023956298828125, 0.14453125, 0.0079345703125, 0.09912109375]}\n",
       "    )\n",
       "    </script>"
      ],
      "text/plain": [
       "<circuitsvis.utils.render.RenderedHTML at 0x7fa567efc450>"
      ]
     },
     "metadata": {},
     "output_type": "display_data"
    },
    {
     "name": "stdout",
     "output_type": "stream",
     "text": [
      "2025-08-01 14:54:43 __main__ INFO     Layer: 42, Head: 30\n"
     ]
    },
    {
     "data": {
      "text/html": [
       "<div id=\"circuits-vis-2788866f-d88a\" style=\"margin: 15px 0;\"/>\n",
       "    <script crossorigin type=\"module\">\n",
       "    import { render, ColoredTokens } from \"https://unpkg.com/circuitsvis@1.43.3/dist/cdn/esm.js\";\n",
       "    render(\n",
       "      \"circuits-vis-2788866f-d88a\",\n",
       "      ColoredTokens,\n",
       "      {\"tokens\": [\"a\", \",\", \" b\", \",\", \" c\", \" is\", \" calculated\", \" as\", \" below\", \".\", \" Find\", \" which\", \" one\", \" among\", \" a\", \",\", \" b\", \",\", \" c\", \" is\", \" True\", \"\\n\\n\", \"x\", \" =\", \" True\", \"\\n\", \"y\", \" =\", \" False\", \"\\n\", \"z\", \" =\", \" False\", \"\\n\\n\", \"a\", \" =\", \" x\", \" and\", \" y\", \"\\n\", \"b\", \" =\", \" y\", \" or\", \" z\", \"\\n\", \"c\", \" =\", \" z\", \" xor\", \" x\", \"\\n\\n\", \"Ans\", \":\"], \"values\": [0.0038604736328125, 0.00144195556640625, 0.002197265625, 0.0004825592041015625, 0.004669189453125, 0.004791259765625, 0.000682830810546875, 0.00127410888671875, 0.00109100341796875, 0.0013580322265625, 0.0020904541015625, 0.005523681640625, 0.004791259765625, 0.002960205078125, 0.006072998046875, 0.0072021484375, 0.0081787109375, 0.000640869140625, 0.034423828125, 0.00396728515625, 0.043701171875, 0.0030517578125, 0.00119781494140625, 0.000682830810546875, 0.00732421875, 0.0026092529296875, 0.00185394287109375, 0.000583648681640625, 0.00238037109375, 0.0013580322265625, 0.0037994384765625, 0.00144195556640625, 0.006072998046875, 0.00144195556640625, 0.033447265625, 0.00579833984375, 0.0034637451171875, 0.004669189453125, 0.0026092529296875, 0.015625, 0.031494140625, 0.0032958984375, 0.0019378662109375, 0.006256103515625, 0.0084228515625, 0.0113525390625, 0.0927734375, 0.006072998046875, 0.018310546875, 0.0233154296875, 0.0274658203125, 0.022705078125, 0.0037994384765625, 0.00885009765625]}\n",
       "    )\n",
       "    </script>"
      ],
      "text/plain": [
       "<circuitsvis.utils.render.RenderedHTML at 0x7fa4c033c450>"
      ]
     },
     "metadata": {},
     "output_type": "display_data"
    },
    {
     "name": "stdout",
     "output_type": "stream",
     "text": [
      "2025-08-01 14:54:43 __main__ INFO     Layer: 47, Head: 18\n"
     ]
    },
    {
     "data": {
      "text/html": [
       "<div id=\"circuits-vis-521a1f20-076b\" style=\"margin: 15px 0;\"/>\n",
       "    <script crossorigin type=\"module\">\n",
       "    import { render, ColoredTokens } from \"https://unpkg.com/circuitsvis@1.43.3/dist/cdn/esm.js\";\n",
       "    render(\n",
       "      \"circuits-vis-521a1f20-076b\",\n",
       "      ColoredTokens,\n",
       "      {\"tokens\": [\"a\", \",\", \" b\", \",\", \" c\", \" is\", \" calculated\", \" as\", \" below\", \".\", \" Find\", \" which\", \" one\", \" among\", \" a\", \",\", \" b\", \",\", \" c\", \" is\", \" True\", \"\\n\\n\", \"x\", \" =\", \" True\", \"\\n\", \"y\", \" =\", \" False\", \"\\n\", \"z\", \" =\", \" False\", \"\\n\\n\", \"a\", \" =\", \" x\", \" and\", \" y\", \"\\n\", \"b\", \" =\", \" y\", \" or\", \" z\", \"\\n\", \"c\", \" =\", \" z\", \" xor\", \" x\", \"\\n\\n\", \"Ans\", \":\"], \"values\": [0.00665283203125, 0.00244140625, 0.001312255859375, 0.0011749267578125, 0.0098876953125, 0.006500244140625, 0.0015106201171875, 0.0025634765625, 0.000713348388671875, 0.0029449462890625, 0.00176239013671875, 0.0086669921875, 0.00628662109375, 0.00244140625, 0.03369140625, 0.01611328125, 0.0126953125, 0.0021209716796875, 0.1279296875, 0.01226806640625, 0.017822265625, 0.0034027099609375, 0.000335693359375, 0.0002384185791015625, 0.000858306884765625, 0.000537872314453125, 0.0001163482666015625, 0.00017452239990234375, 9.965896606445312e-05, 0.0009918212890625, 0.00016880035400390625, 0.0008087158203125, 0.0001163482666015625, 0.001556396484375, 0.12451171875, 0.017822265625, 0.0016021728515625, 0.0020294189453125, 0.0001544952392578125, 0.04345703125, 0.050048828125, 0.0086669921875, 0.00021076202392578125, 0.000392913818359375, 9.34600830078125e-05, 0.004638671875, 0.1962890625, 0.01422119140625, 0.00179290771484375, 0.0023651123046875, 0.000370025634765625, 0.0164794921875, 0.0021209716796875, 0.017822265625]}\n",
       "    )\n",
       "    </script>"
      ],
      "text/plain": [
       "<circuitsvis.utils.render.RenderedHTML at 0x7fa4a035cfd0>"
      ]
     },
     "metadata": {},
     "output_type": "display_data"
    },
    {
     "name": "stdout",
     "output_type": "stream",
     "text": [
      "2025-08-01 14:54:43 __main__ INFO     Layer: 52, Head: 58\n"
     ]
    },
    {
     "data": {
      "text/html": [
       "<div id=\"circuits-vis-c3d1b17c-65db\" style=\"margin: 15px 0;\"/>\n",
       "    <script crossorigin type=\"module\">\n",
       "    import { render, ColoredTokens } from \"https://unpkg.com/circuitsvis@1.43.3/dist/cdn/esm.js\";\n",
       "    render(\n",
       "      \"circuits-vis-c3d1b17c-65db\",\n",
       "      ColoredTokens,\n",
       "      {\"tokens\": [\"a\", \",\", \" b\", \",\", \" c\", \" is\", \" calculated\", \" as\", \" below\", \".\", \" Find\", \" which\", \" one\", \" among\", \" a\", \",\", \" b\", \",\", \" c\", \" is\", \" True\", \"\\n\\n\", \"x\", \" =\", \" True\", \"\\n\", \"y\", \" =\", \" False\", \"\\n\", \"z\", \" =\", \" False\", \"\\n\\n\", \"a\", \" =\", \" x\", \" and\", \" y\", \"\\n\", \"b\", \" =\", \" y\", \" or\", \" z\", \"\\n\", \"c\", \" =\", \" z\", \" xor\", \" x\", \"\\n\\n\", \"Ans\", \":\"], \"values\": [0.00909423828125, 0.0011749267578125, 0.000553131103515625, 0.001068115234375, 0.002410888671875, 0.016845703125, 0.006866455078125, 0.0027313232421875, 0.000782012939453125, 0.00091552734375, 0.001373291015625, 0.006561279296875, 0.0087890625, 0.002777099609375, 0.00830078125, 0.00408935546875, 0.0028533935546875, 0.000629425048828125, 0.01129150390625, 0.0264892578125, 0.019287109375, 0.00457763671875, 0.000553131103515625, 0.001556396484375, 0.00982666015625, 0.00103759765625, 0.0004062652587890625, 0.001251220703125, 0.00165557861328125, 0.0013275146484375, 0.00091552734375, 0.0034027099609375, 0.0028533935546875, 0.002227783203125, 0.031005859375, 0.033935546875, 0.00323486328125, 0.011474609375, 0.0003814697265625, 0.024658203125, 0.007537841796875, 0.016845703125, 0.0004596710205078125, 0.004425048828125, 0.000629425048828125, 0.0033416748046875, 0.03466796875, 0.0291748046875, 0.0034027099609375, 0.0284423828125, 0.0031890869140625, 0.01531982421875, 0.00244140625, 0.01202392578125]}\n",
       "    )\n",
       "    </script>"
      ],
      "text/plain": [
       "<circuitsvis.utils.render.RenderedHTML at 0x7fa4a035e710>"
      ]
     },
     "metadata": {},
     "output_type": "display_data"
    },
    {
     "data": {
      "text/plain": [
       "[PredictedToken(token=' c', prob=0.5625, logit=19.0, token_id=272, metadata=None),\n",
       " PredictedToken(token=' a', prob=0.09814453125, logit=17.25, token_id=264, metadata=None),\n",
       " PredictedToken(token=' \\n', prob=0.076171875, logit=17.0, token_id=720, metadata=None),\n",
       " PredictedToken(token=' b', prob=0.052490234375, logit=16.625, token_id=293, metadata=None),\n",
       " PredictedToken(token=' Only', prob=0.0361328125, logit=16.25, token_id=8442, metadata=None)]"
      ]
     },
     "execution_count": 50,
     "metadata": {},
     "output_type": "execute_result"
    }
   ],
   "source": [
    "# prompt = \"\"\"x = True\n",
    "# y = False\n",
    "# z = True\n",
    "\n",
    "# a = x and y\n",
    "# b = y or z\n",
    "# c = z xor x\n",
    "\n",
    "# Which one among a, b, c is True?\n",
    "# Ans:\"\"\"\n",
    "\n",
    "prompt = \"\"\"a, b, c is calculated as below. Find which one among a, b, c is True\n",
    "\n",
    "x = True\n",
    "y = False\n",
    "z = False\n",
    "\n",
    "a = x and y\n",
    "b = y or z\n",
    "c = z xor x\n",
    "\n",
    "Ans:\"\"\"\n",
    "\n",
    "verify = verify_head_patterns(\n",
    "    prompt=prompt,\n",
    "    options=[\"a\", \"b\", \"c\"],\n",
    "    pivot=\"True\",\n",
    "    mt=mt,\n",
    "    value_weighted=False,\n",
    "    generate_full_answer=True,\n",
    ")\n",
    "verify[\"predictions\"]"
   ]
  },
  {
   "cell_type": "code",
   "execution_count": 141,
   "id": "be3e600d",
   "metadata": {},
   "outputs": [
    {
     "name": "stdout",
     "output_type": "stream",
     "text": [
      "1. grape\n",
      "2. marker\n",
      "3. truck\n",
      "4. watch\n",
      "5. car\n",
      "6. banana\n",
      "7. mouse\n",
      "8. mango\n",
      "9. bus\n",
      "Count the number of vehicles from the following list:\n",
      "Answer: \n"
     ]
    },
    {
     "data": {
      "text/plain": [
       "[[PredictedToken(token='3', prob=0.83984375, logit=22.75, token_id=18, metadata=None),\n",
       "  PredictedToken(token='4', prob=0.060791015625, logit=20.125, token_id=19, metadata=None),\n",
       "  PredictedToken(token='2', prob=0.060791015625, logit=20.125, token_id=17, metadata=None),\n",
       "  PredictedToken(token='5', prob=0.01361083984375, logit=18.625, token_id=20, metadata=None),\n",
       "  PredictedToken(token='1', prob=0.00933837890625, logit=18.25, token_id=16, metadata=None)]]"
      ]
     },
     "execution_count": 141,
     "metadata": {},
     "output_type": "execute_result"
    }
   ],
   "source": [
    "options = [\n",
    "    \"grape\",\n",
    "    \"marker\",\n",
    "    \"truck\",\n",
    "    \"watch\",\n",
    "    \"car\",\n",
    "    \"banana\",\n",
    "    \"mouse\",\n",
    "    \"mango\",\n",
    "    \"bus\",\n",
    "]\n",
    "# prompt_template = \"\"\"Count the number of fruits from the following list:\n",
    "# {}\n",
    "# Answer:\"\"\"\n",
    "prompt_template = \"\"\"{}\n",
    "Count the number of vehicles from the following list:\n",
    "Answer: \"\"\"\n",
    "\n",
    "# prompt = prompt_template.format(\n",
    "#     \", \".join(options)\n",
    "# )\n",
    "\n",
    "prompt = prompt_template.format(\n",
    "    \"\\n\".join([f\"{idx+1}. {name}\" for idx, name in enumerate(options)])\n",
    ")\n",
    "\n",
    "print(prompt)\n",
    "\n",
    "predict_next_token(mt=mt, inputs=prompt)"
   ]
  },
  {
   "cell_type": "code",
   "execution_count": null,
   "id": "79b596f4",
   "metadata": {},
   "outputs": [
    {
     "name": "stdout",
     "output_type": "stream",
     "text": [
      "0 patches to ablate possible answer information from options\n",
      "2025-08-04 15:03:31 __main__ DEBUG    Generated full answer: \"3 vehicles\n",
      "The vehicles in the list are:\n",
      "1. truck\n",
      "2. car\n",
      "3. bus\n",
      "The other items in the list are not\"\n",
      "2025-08-04 15:03:31 __main__ DEBUG    Predictions: ['\"3\"[18] (p=0.840, logit=22.750)', '\"4\"[19] (p=0.061, logit=20.125)', '\"2\"[17] (p=0.061, logit=20.125)', '\"5\"[20] (p=0.014, logit=18.625)', '\"1\"[16] (p=0.009, logit=18.250)']\n",
      "layer=35\n"
     ]
    },
    {
     "data": {
      "text/html": [
       "<div id=\"circuits-vis-3fecbd28-0e39\" style=\"margin: 15px 0;\"/>\n",
       "    <script crossorigin type=\"module\">\n",
       "    import { render, ColoredTokens } from \"https://unpkg.com/circuitsvis@1.43.3/dist/cdn/esm.js\";\n",
       "    render(\n",
       "      \"circuits-vis-3fecbd28-0e39\",\n",
       "      ColoredTokens,\n",
       "      {\"tokens\": [\"1\", \".\", \" grape\", \"\\n\", \"2\", \".\", \" marker\", \"\\n\", \"3\", \".\", \" truck\", \"\\n\", \"4\", \".\", \" watch\", \"\\n\", \"5\", \".\", \" car\", \"\\n\", \"6\", \".\", \" banana\", \"\\n\", \"7\", \".\", \" mouse\", \"\\n\", \"8\", \".\", \" mango\", \"\\n\", \"9\", \".\", \" bus\", \"\\n\", \"Count\", \" the\", \" number\", \" of\", \" vehicles\", \" from\", \" the\", \" following\", \" list\", \":\\n\", \"Answer\", \":\", \" \"], \"values\": [0.020388364791870117, 0.002379588782787323, 0.0024380236864089966, 0.003204233944416046, 0.00578954815864563, 0.0019708946347236633, 0.0026249662041664124, 0.003839343786239624, 0.0007380135357379913, 0.0019877180457115173, 0.029564127326011658, 0.008880380541086197, 0.006427038460969925, 0.0010919850319623947, 0.005633216351270676, 0.005655691027641296, 0.0031415894627571106, 0.0032919757068157196, 0.04036494344472885, 0.025981266051530838, 0.014541417360305786, 0.0035217851400375366, 0.003976307809352875, 0.004134766757488251, 0.0013779401779174805, 0.003740888088941574, 0.0051090046763420105, 0.00357799232006073, 0.0038576871156692505, 0.0010048560798168182, 0.002447254955768585, 0.0013414295390248299, 0.0019389279186725616, 0.0012486502528190613, 0.04363609850406647, 0.020379919558763504, 0.006574690341949463, 0.0019691772758960724, 0.0006487327627837658, 0.006147943437099457, 0.032861948013305664, 0.006641987711191177, 0.004081502556800842, 0.003183005377650261, 0.0036938246339559555, 0.00793934240937233, 0.0038772947154939175, 0.011566892266273499, 0.03208041191101074]}\n",
       "    )\n",
       "    </script>"
      ],
      "text/plain": [
       "<circuitsvis.utils.render.RenderedHTML at 0x7fa4c0214b10>"
      ]
     },
     "metadata": {},
     "output_type": "display_data"
    },
    {
     "name": "stdout",
     "output_type": "stream",
     "text": [
      "--------------------------------------------------------------------------------\n",
      "layer=47\n"
     ]
    },
    {
     "data": {
      "text/html": [
       "<div id=\"circuits-vis-89fc176e-0b83\" style=\"margin: 15px 0;\"/>\n",
       "    <script crossorigin type=\"module\">\n",
       "    import { render, ColoredTokens } from \"https://unpkg.com/circuitsvis@1.43.3/dist/cdn/esm.js\";\n",
       "    render(\n",
       "      \"circuits-vis-89fc176e-0b83\",\n",
       "      ColoredTokens,\n",
       "      {\"tokens\": [\"1\", \".\", \" grape\", \"\\n\", \"2\", \".\", \" marker\", \"\\n\", \"3\", \".\", \" truck\", \"\\n\", \"4\", \".\", \" watch\", \"\\n\", \"5\", \".\", \" car\", \"\\n\", \"6\", \".\", \" banana\", \"\\n\", \"7\", \".\", \" mouse\", \"\\n\", \"8\", \".\", \" mango\", \"\\n\", \"9\", \".\", \" bus\", \"\\n\", \"Count\", \" the\", \" number\", \" of\", \" vehicles\", \" from\", \" the\", \" following\", \" list\", \":\\n\", \"Answer\", \":\", \" \"], \"values\": [0.00239388644695282, 0.0009073838591575623, 0.0005778297781944275, 0.0005893008783459663, 0.0007358710281550884, 0.0003524669446051121, 0.0004480592906475067, 0.0004396103322505951, 0.0001972427126020193, 0.0004168925806879997, 0.0013184696435928345, 0.0004888447001576424, 0.00046616513282060623, 0.0001979609951376915, 0.0004644487053155899, 0.0002455452922731638, 0.00044915080070495605, 0.0004422999918460846, 0.0006692800670862198, 0.0011089006438851357, 0.00040281377732753754, 0.0002821236848831177, 0.00037368759512901306, 9.93373105302453e-05, 0.0003668488934636116, 0.00034282426349818707, 0.00030953437089920044, 6.57138298265636e-05, 0.00036665669176727533, 0.00023503322154283524, 0.0004892647266387939, 5.88658731430769e-05, 0.00036733970046043396, 0.00032218825072050095, 0.001374896615743637, 0.0016294796951115131, 0.0008838512003421783, 0.0005130376666784286, 0.00047612376511096954, 0.0009009269997477531, 0.0037180259823799133, 0.0006956616416573524, 0.0005471315234899521, 0.0005957074463367462, 0.0006780838593840599, 0.0016248710453510284, 0.0018471330404281616, 0.0012659355998039246, 0.0019701868295669556]}\n",
       "    )\n",
       "    </script>"
      ],
      "text/plain": [
       "<circuitsvis.utils.render.RenderedHTML at 0x7fa4c04f6f90>"
      ]
     },
     "metadata": {},
     "output_type": "display_data"
    },
    {
     "name": "stdout",
     "output_type": "stream",
     "text": [
      "--------------------------------------------------------------------------------\n",
      "layer=52\n"
     ]
    },
    {
     "data": {
      "text/html": [
       "<div id=\"circuits-vis-f39ff0e9-6e7f\" style=\"margin: 15px 0;\"/>\n",
       "    <script crossorigin type=\"module\">\n",
       "    import { render, ColoredTokens } from \"https://unpkg.com/circuitsvis@1.43.3/dist/cdn/esm.js\";\n",
       "    render(\n",
       "      \"circuits-vis-f39ff0e9-6e7f\",\n",
       "      ColoredTokens,\n",
       "      {\"tokens\": [\"1\", \".\", \" grape\", \"\\n\", \"2\", \".\", \" marker\", \"\\n\", \"3\", \".\", \" truck\", \"\\n\", \"4\", \".\", \" watch\", \"\\n\", \"5\", \".\", \" car\", \"\\n\", \"6\", \".\", \" banana\", \"\\n\", \"7\", \".\", \" mouse\", \"\\n\", \"8\", \".\", \" mango\", \"\\n\", \"9\", \".\", \" bus\", \"\\n\", \"Count\", \" the\", \" number\", \" of\", \" vehicles\", \" from\", \" the\", \" following\", \" list\", \":\\n\", \"Answer\", \":\", \" \"], \"values\": [0.0022982507944107056, 0.0011747796088457108, 0.001676982268691063, 0.001136256381869316, 0.0009610950946807861, 0.0004469994455575943, 0.0006683459505438805, 0.0006994791328907013, 0.0003682808019220829, 0.0005259755998849869, 0.002086993306875229, 0.0006364379078149796, 0.0005400886293500662, 0.00030095502734184265, 0.0005947649478912354, 0.0002368241548538208, 0.00037885946221649647, 0.0004697367548942566, 0.0014251861721277237, 0.0009553153067827225, 0.00039182440377771854, 0.00028353556990623474, 0.0004648980684578419, 0.00021486449986696243, 0.00042379647493362427, 0.00029867980629205704, 0.000302683562040329, 9.228091221302748e-05, 0.0003110646503046155, 0.00028455816209316254, 0.0004243429284542799, 0.00014039233792573214, 0.0003254702314734459, 0.0003300867974758148, 0.0014495402574539185, 0.0015362710691988468, 0.0016323328018188477, 0.001041226089000702, 0.0006455425173044205, 0.0010253582149744034, 0.009159043431282043, 0.0007683634757995605, 0.0007387474179267883, 0.0007880218327045441, 0.0008464865386486053, 0.003085412085056305, 0.0035753510892391205, 0.0037385672330856323, 0.006506875157356262]}\n",
       "    )\n",
       "    </script>"
      ],
      "text/plain": [
       "<circuitsvis.utils.render.RenderedHTML at 0x7fa4c02f5610>"
      ]
     },
     "metadata": {},
     "output_type": "display_data"
    },
    {
     "name": "stdout",
     "output_type": "stream",
     "text": [
      "--------------------------------------------------------------------------------\n",
      "======================================================================\n",
      "2025-08-04 15:03:31 __main__ INFO     Layer: 33, Head: 45\n"
     ]
    },
    {
     "data": {
      "text/html": [
       "<div id=\"circuits-vis-5c7b4cde-d241\" style=\"margin: 15px 0;\"/>\n",
       "    <script crossorigin type=\"module\">\n",
       "    import { render, ColoredTokens } from \"https://unpkg.com/circuitsvis@1.43.3/dist/cdn/esm.js\";\n",
       "    render(\n",
       "      \"circuits-vis-5c7b4cde-d241\",\n",
       "      ColoredTokens,\n",
       "      {\"tokens\": [\"1\", \".\", \" grape\", \"\\n\", \"2\", \".\", \" marker\", \"\\n\", \"3\", \".\", \" truck\", \"\\n\", \"4\", \".\", \" watch\", \"\\n\", \"5\", \".\", \" car\", \"\\n\", \"6\", \".\", \" banana\", \"\\n\", \"7\", \".\", \" mouse\", \"\\n\", \"8\", \".\", \" mango\", \"\\n\", \"9\", \".\", \" bus\", \"\\n\", \"Count\", \" the\", \" number\", \" of\", \" vehicles\", \" from\", \" the\", \" following\", \" list\", \":\\n\", \"Answer\", \":\", \" \"], \"values\": [0.03271484375, 0.004150390625, 0.0038909912109375, 0.0040283203125, 0.00897216796875, 0.00360107421875, 0.0029296875, 0.00408935546875, 0.00098419189453125, 0.0067138671875, 0.035888671875, 0.0185546875, 0.021728515625, 0.000637054443359375, 0.01239013671875, 0.004608154296875, 0.007568359375, 0.00927734375, 0.10400390625, 0.0478515625, 0.03173828125, 0.003326416015625, 0.00150299072265625, 0.0017242431640625, 0.00130462646484375, 0.018798828125, 0.003326416015625, 0.0027618408203125, 0.021240234375, 0.0026702880859375, 0.0026397705078125, 0.001922607421875, 0.01287841796875, 0.0076904296875, 0.06298828125, 0.03759765625, 0.00927734375, 0.00130462646484375, 0.00092315673828125, 0.006622314453125, 0.006622314453125, 0.0050048828125, 0.0040283203125, 0.003662109375, 0.0021209716796875, 0.00506591796875, 0.0011138916015625, 0.01171875, 0.026611328125]}\n",
       "    )\n",
       "    </script>"
      ],
      "text/plain": [
       "<circuitsvis.utils.render.RenderedHTML at 0x7fa4c02f4fd0>"
      ]
     },
     "metadata": {},
     "output_type": "display_data"
    },
    {
     "name": "stdout",
     "output_type": "stream",
     "text": [
      "2025-08-04 15:03:32 __main__ INFO     Layer: 33, Head: 18\n"
     ]
    },
    {
     "data": {
      "text/html": [
       "<div id=\"circuits-vis-2ccc690b-65b5\" style=\"margin: 15px 0;\"/>\n",
       "    <script crossorigin type=\"module\">\n",
       "    import { render, ColoredTokens } from \"https://unpkg.com/circuitsvis@1.43.3/dist/cdn/esm.js\";\n",
       "    render(\n",
       "      \"circuits-vis-2ccc690b-65b5\",\n",
       "      ColoredTokens,\n",
       "      {\"tokens\": [\"1\", \".\", \" grape\", \"\\n\", \"2\", \".\", \" marker\", \"\\n\", \"3\", \".\", \" truck\", \"\\n\", \"4\", \".\", \" watch\", \"\\n\", \"5\", \".\", \" car\", \"\\n\", \"6\", \".\", \" banana\", \"\\n\", \"7\", \".\", \" mouse\", \"\\n\", \"8\", \".\", \" mango\", \"\\n\", \"9\", \".\", \" bus\", \"\\n\", \"Count\", \" the\", \" number\", \" of\", \" vehicles\", \" from\", \" the\", \" following\", \" list\", \":\\n\", \"Answer\", \":\", \" \"], \"values\": [0.0045166015625, 0.004302978515625, 0.0002994537353515625, 0.0020904541015625, 0.027587890625, 0.000499725341796875, 0.00159454345703125, 0.045166015625, 0.0003032684326171875, 0.01043701171875, 0.029541015625, 0.2119140625, 0.05712890625, 0.000560760498046875, 0.00116729736328125, 0.0208740234375, 0.00860595703125, 0.0093994140625, 0.07080078125, 0.1787109375, 0.138671875, 0.01202392578125, 0.0003719329833984375, 0.00457763671875, 0.00014400482177734375, 0.002593994140625, 0.0003490447998046875, 0.002685546875, 0.0093994140625, 0.00179290771484375, 6.198883056640625e-05, 0.00018405914306640625, 0.00140380859375, 0.000499725341796875, 0.018310546875, 0.043701171875, 0.000244140625, 2.175569534301758e-06, 1.1086463928222656e-05, 2.002716064453125e-05, 0.00372314453125, 3.62396240234375e-05, 0.0001506805419921875, 1.4662742614746094e-05, 2.8252601623535156e-05, 7.677078247070312e-05, 9.775161743164062e-06, 9.584426879882812e-05, 0.01171875]}\n",
       "    )\n",
       "    </script>"
      ],
      "text/plain": [
       "<circuitsvis.utils.render.RenderedHTML at 0x7fa567f21250>"
      ]
     },
     "metadata": {},
     "output_type": "display_data"
    },
    {
     "name": "stdout",
     "output_type": "stream",
     "text": [
      "2025-08-04 15:03:32 __main__ INFO     Layer: 34, Head: 1\n"
     ]
    },
    {
     "data": {
      "text/html": [
       "<div id=\"circuits-vis-22370e40-3126\" style=\"margin: 15px 0;\"/>\n",
       "    <script crossorigin type=\"module\">\n",
       "    import { render, ColoredTokens } from \"https://unpkg.com/circuitsvis@1.43.3/dist/cdn/esm.js\";\n",
       "    render(\n",
       "      \"circuits-vis-22370e40-3126\",\n",
       "      ColoredTokens,\n",
       "      {\"tokens\": [\"1\", \".\", \" grape\", \"\\n\", \"2\", \".\", \" marker\", \"\\n\", \"3\", \".\", \" truck\", \"\\n\", \"4\", \".\", \" watch\", \"\\n\", \"5\", \".\", \" car\", \"\\n\", \"6\", \".\", \" banana\", \"\\n\", \"7\", \".\", \" mouse\", \"\\n\", \"8\", \".\", \" mango\", \"\\n\", \"9\", \".\", \" bus\", \"\\n\", \"Count\", \" the\", \" number\", \" of\", \" vehicles\", \" from\", \" the\", \" following\", \" list\", \":\\n\", \"Answer\", \":\", \" \"], \"values\": [0.01068115234375, 4.9114227294921875e-05, 1.4543533325195312e-05, 3.838539123535156e-05, 0.0002384185791015625, 9.909272193908691e-07, 1.3649463653564453e-05, 0.0001239776611328125, 1.3560056686401367e-06, 6.723403930664062e-05, 0.1162109375, 0.03125, 0.00138092041015625, 6.407499313354492e-07, 0.000217437744140625, 0.000316619873046875, 0.0002040863037109375, 0.0003108978271484375, 0.14453125, 0.06396484375, 0.00482177734375, 0.00011968612670898438, 6.817281246185303e-07, 1.4379620552062988e-06, 1.1920928955078125e-06, 0.0002040863037109375, 3.838539123535156e-05, 4.220008850097656e-05, 0.00018024444580078125, 2.8014183044433594e-05, 3.0174851417541504e-07, 1.51805579662323e-07, 0.00014209747314453125, 0.0003108978271484375, 0.375, 0.09765625, 0.0001125335693359375, 1.3560056686401367e-06, 1.3560056686401367e-06, 5.412101745605469e-05, 0.007537841796875, 0.0003528594970703125, 5.5789947509765625e-05, 0.00014019012451171875, 2.9802322387695312e-05, 0.000213623046875, 8.821487426757812e-06, 0.000431060791015625, 0.029052734375]}\n",
       "    )\n",
       "    </script>"
      ],
      "text/plain": [
       "<circuitsvis.utils.render.RenderedHTML at 0x7f832b1f2fd0>"
      ]
     },
     "metadata": {},
     "output_type": "display_data"
    },
    {
     "name": "stdout",
     "output_type": "stream",
     "text": [
      "2025-08-04 15:03:32 __main__ INFO     Layer: 34, Head: 6\n"
     ]
    },
    {
     "data": {
      "text/html": [
       "<div id=\"circuits-vis-95aab0a9-812a\" style=\"margin: 15px 0;\"/>\n",
       "    <script crossorigin type=\"module\">\n",
       "    import { render, ColoredTokens } from \"https://unpkg.com/circuitsvis@1.43.3/dist/cdn/esm.js\";\n",
       "    render(\n",
       "      \"circuits-vis-95aab0a9-812a\",\n",
       "      ColoredTokens,\n",
       "      {\"tokens\": [\"1\", \".\", \" grape\", \"\\n\", \"2\", \".\", \" marker\", \"\\n\", \"3\", \".\", \" truck\", \"\\n\", \"4\", \".\", \" watch\", \"\\n\", \"5\", \".\", \" car\", \"\\n\", \"6\", \".\", \" banana\", \"\\n\", \"7\", \".\", \" mouse\", \"\\n\", \"8\", \".\", \" mango\", \"\\n\", \"9\", \".\", \" bus\", \"\\n\", \"Count\", \" the\", \" number\", \" of\", \" vehicles\", \" from\", \" the\", \" following\", \" list\", \":\\n\", \"Answer\", \":\", \" \"], \"values\": [0.03271484375, 0.0019683837890625, 0.00139617919921875, 0.002227783203125, 0.00714111328125, 0.00017261505126953125, 0.0003643035888671875, 0.00128936767578125, 0.0002079010009765625, 0.0034027099609375, 0.1240234375, 0.023193359375, 0.01025390625, 6.532669067382812e-05, 0.002685546875, 0.0010223388671875, 0.0034027099609375, 0.00457763671875, 0.083984375, 0.0238037109375, 0.01495361328125, 0.0037994384765625, 3.075599670410156e-05, 3.075599670410156e-05, 0.00023555755615234375, 0.005706787109375, 0.000331878662109375, 0.00013446807861328125, 0.00112152099609375, 0.0010223388671875, 7.331371307373047e-06, 2.2351741790771484e-06, 0.0010223388671875, 0.003570556640625, 0.1640625, 0.032958984375, 0.0034027099609375, 0.0001468658447265625, 0.0001621246337890625, 0.00168609619140625, 0.039306640625, 0.0034637451171875, 0.00115966796875, 0.00112152099609375, 0.000400543212890625, 0.0019073486328125, 9.489059448242188e-05, 0.006927490234375, 0.0673828125]}\n",
       "    )\n",
       "    </script>"
      ],
      "text/plain": [
       "<circuitsvis.utils.render.RenderedHTML at 0x7fa4c044e890>"
      ]
     },
     "metadata": {},
     "output_type": "display_data"
    },
    {
     "name": "stdout",
     "output_type": "stream",
     "text": [
      "2025-08-04 15:03:32 __main__ INFO     Layer: 34, Head: 7\n"
     ]
    },
    {
     "data": {
      "text/html": [
       "<div id=\"circuits-vis-2970fb4b-6030\" style=\"margin: 15px 0;\"/>\n",
       "    <script crossorigin type=\"module\">\n",
       "    import { render, ColoredTokens } from \"https://unpkg.com/circuitsvis@1.43.3/dist/cdn/esm.js\";\n",
       "    render(\n",
       "      \"circuits-vis-2970fb4b-6030\",\n",
       "      ColoredTokens,\n",
       "      {\"tokens\": [\"1\", \".\", \" grape\", \"\\n\", \"2\", \".\", \" marker\", \"\\n\", \"3\", \".\", \" truck\", \"\\n\", \"4\", \".\", \" watch\", \"\\n\", \"5\", \".\", \" car\", \"\\n\", \"6\", \".\", \" banana\", \"\\n\", \"7\", \".\", \" mouse\", \"\\n\", \"8\", \".\", \" mango\", \"\\n\", \"9\", \".\", \" bus\", \"\\n\", \"Count\", \" the\", \" number\", \" of\", \" vehicles\", \" from\", \" the\", \" following\", \" list\", \":\\n\", \"Answer\", \":\", \" \"], \"values\": [0.0228271484375, 0.00029754638671875, 0.00021457672119140625, 0.000446319580078125, 0.000820159912109375, 3.9577484130859375e-05, 0.0002536773681640625, 0.0009918212890625, 4.220008850097656e-05, 0.0003814697265625, 0.0732421875, 0.0191650390625, 0.002960205078125, 3.075599670410156e-05, 0.001708984375, 0.00154876708984375, 0.00113677978515625, 0.000873565673828125, 0.0810546875, 0.03857421875, 0.00665283203125, 0.00084686279296875, 0.000156402587890625, 0.0002040863037109375, 9.489059448242188e-05, 0.0019073486328125, 0.001495361328125, 0.00139617919921875, 0.0030059814453125, 0.0004253387451171875, 0.00010442733764648438, 6.723403930664062e-05, 0.0020751953125, 0.002685546875, 0.30078125, 0.1357421875, 0.00360107421875, 0.0003070831298828125, 0.00010442733764648438, 0.00250244140625, 0.087890625, 0.01177978515625, 0.001861572265625, 0.002685546875, 0.0019073486328125, 0.00750732421875, 0.0003108978271484375, 0.006500244140625, 0.0810546875]}\n",
       "    )\n",
       "    </script>"
      ],
      "text/plain": [
       "<circuitsvis.utils.render.RenderedHTML at 0x7fa5000e1b50>"
      ]
     },
     "metadata": {},
     "output_type": "display_data"
    },
    {
     "name": "stdout",
     "output_type": "stream",
     "text": [
      "2025-08-04 15:03:32 __main__ INFO     Layer: 35, Head: 19\n"
     ]
    },
    {
     "data": {
      "text/html": [
       "<div id=\"circuits-vis-1c2c8a51-65d4\" style=\"margin: 15px 0;\"/>\n",
       "    <script crossorigin type=\"module\">\n",
       "    import { render, ColoredTokens } from \"https://unpkg.com/circuitsvis@1.43.3/dist/cdn/esm.js\";\n",
       "    render(\n",
       "      \"circuits-vis-1c2c8a51-65d4\",\n",
       "      ColoredTokens,\n",
       "      {\"tokens\": [\"1\", \".\", \" grape\", \"\\n\", \"2\", \".\", \" marker\", \"\\n\", \"3\", \".\", \" truck\", \"\\n\", \"4\", \".\", \" watch\", \"\\n\", \"5\", \".\", \" car\", \"\\n\", \"6\", \".\", \" banana\", \"\\n\", \"7\", \".\", \" mouse\", \"\\n\", \"8\", \".\", \" mango\", \"\\n\", \"9\", \".\", \" bus\", \"\\n\", \"Count\", \" the\", \" number\", \" of\", \" vehicles\", \" from\", \" the\", \" following\", \" list\", \":\\n\", \"Answer\", \":\", \" \"], \"values\": [0.0029449462890625, 8.535385131835938e-05, 0.0022125244140625, 0.0048828125, 0.000835418701171875, 0.0014495849609375, 0.00323486328125, 0.009521484375, 3.409385681152344e-05, 0.0023345947265625, 0.337890625, 0.053466796875, 0.00067901611328125, 0.0013885498046875, 0.017822265625, 0.01507568359375, 0.00021648406982421875, 0.0035552978515625, 0.1806640625, 0.0272216796875, 0.000904083251953125, 0.00439453125, 0.0030364990234375, 0.000652313232421875, 3.1948089599609375e-05, 0.0019073486328125, 0.01226806640625, 0.00750732421875, 0.000690460205078125, 0.001373291015625, 0.00051116943359375, 0.00012063980102539062, 8.535385131835938e-05, 0.00083160400390625, 0.2314453125, 0.04296875, 0.00174713134765625, 2.7418136596679688e-06, 5.990266799926758e-06, 2.5272369384765625e-05, 0.00787353515625, 3.457069396972656e-05, 0.00023365020751953125, 2.6106834411621094e-05, 2.6106834411621094e-05, 5.173683166503906e-05, 4.678964614868164e-06, 1.8477439880371094e-05, 0.00262451171875]}\n",
       "    )\n",
       "    </script>"
      ],
      "text/plain": [
       "<circuitsvis.utils.render.RenderedHTML at 0x7fa5000e1b50>"
      ]
     },
     "metadata": {},
     "output_type": "display_data"
    },
    {
     "name": "stdout",
     "output_type": "stream",
     "text": [
      "2025-08-04 15:03:32 __main__ INFO     Layer: 39, Head: 40\n"
     ]
    },
    {
     "data": {
      "text/html": [
       "<div id=\"circuits-vis-0a74ddfd-aabc\" style=\"margin: 15px 0;\"/>\n",
       "    <script crossorigin type=\"module\">\n",
       "    import { render, ColoredTokens } from \"https://unpkg.com/circuitsvis@1.43.3/dist/cdn/esm.js\";\n",
       "    render(\n",
       "      \"circuits-vis-0a74ddfd-aabc\",\n",
       "      ColoredTokens,\n",
       "      {\"tokens\": [\"1\", \".\", \" grape\", \"\\n\", \"2\", \".\", \" marker\", \"\\n\", \"3\", \".\", \" truck\", \"\\n\", \"4\", \".\", \" watch\", \"\\n\", \"5\", \".\", \" car\", \"\\n\", \"6\", \".\", \" banana\", \"\\n\", \"7\", \".\", \" mouse\", \"\\n\", \"8\", \".\", \" mango\", \"\\n\", \"9\", \".\", \" bus\", \"\\n\", \"Count\", \" the\", \" number\", \" of\", \" vehicles\", \" from\", \" the\", \" following\", \" list\", \":\\n\", \"Answer\", \":\", \" \"], \"values\": [0.01251220703125, 0.0014495849609375, 0.00013637542724609375, 0.000232696533203125, 0.001007080078125, 6.437301635742188e-05, 0.00010633468627929688, 0.00043487548828125, 4.4345855712890625e-05, 0.0015411376953125, 0.03173828125, 0.003814697265625, 0.00174713134765625, 0.00011682510375976562, 0.000484466552734375, 0.0003833770751953125, 0.00106048583984375, 0.003021240234375, 0.023193359375, 0.01708984375, 0.0023193359375, 0.002655029296875, 3.0517578125e-05, 2.2292137145996094e-05, 0.000461578369140625, 0.001983642578125, 9.679794311523438e-05, 9.393692016601562e-05, 0.001007080078125, 0.00069427490234375, 3.0517578125e-05, 1.633167266845703e-05, 0.00147247314453125, 0.00311279296875, 0.054931640625, 0.0380859375, 0.00089263916015625, 0.00074005126953125, 9.107589721679688e-05, 0.01220703125, 0.1865234375, 0.016845703125, 0.00089263916015625, 0.000762939453125, 0.000682830810546875, 0.0634765625, 0.00012874603271484375, 0.013427734375, 0.34765625]}\n",
       "    )\n",
       "    </script>"
      ],
      "text/plain": [
       "<circuitsvis.utils.render.RenderedHTML at 0x7fa4c0308f10>"
      ]
     },
     "metadata": {},
     "output_type": "display_data"
    },
    {
     "name": "stdout",
     "output_type": "stream",
     "text": [
      "2025-08-04 15:03:32 __main__ INFO     Layer: 42, Head: 30\n"
     ]
    },
    {
     "data": {
      "text/html": [
       "<div id=\"circuits-vis-0198fa77-3c67\" style=\"margin: 15px 0;\"/>\n",
       "    <script crossorigin type=\"module\">\n",
       "    import { render, ColoredTokens } from \"https://unpkg.com/circuitsvis@1.43.3/dist/cdn/esm.js\";\n",
       "    render(\n",
       "      \"circuits-vis-0198fa77-3c67\",\n",
       "      ColoredTokens,\n",
       "      {\"tokens\": [\"1\", \".\", \" grape\", \"\\n\", \"2\", \".\", \" marker\", \"\\n\", \"3\", \".\", \" truck\", \"\\n\", \"4\", \".\", \" watch\", \"\\n\", \"5\", \".\", \" car\", \"\\n\", \"6\", \".\", \" banana\", \"\\n\", \"7\", \".\", \" mouse\", \"\\n\", \"8\", \".\", \" mango\", \"\\n\", \"9\", \".\", \" bus\", \"\\n\", \"Count\", \" the\", \" number\", \" of\", \" vehicles\", \" from\", \" the\", \" following\", \" list\", \":\\n\", \"Answer\", \":\", \" \"], \"values\": [0.007110595703125, 0.00107574462890625, 0.00110626220703125, 0.00188446044921875, 0.0027008056640625, 0.00133514404296875, 0.00213623046875, 0.0020751953125, 0.0003490447998046875, 0.0031585693359375, 0.046875, 0.007476806640625, 0.0025787353515625, 0.00133514404296875, 0.007476806640625, 0.00177001953125, 0.0022125244140625, 0.004180908203125, 0.0311279296875, 0.016845703125, 0.003265380859375, 0.00335693359375, 0.000812530517578125, 0.000240325927734375, 0.00074005126953125, 0.0031585693359375, 0.0031585693359375, 0.000492095947265625, 0.00213623046875, 0.00171661376953125, 0.000835418701171875, 0.00021839141845703125, 0.003692626953125, 0.00341796875, 0.053466796875, 0.0240478515625, 0.0018310546875, 0.003265380859375, 0.000614166259765625, 0.01287841796875, 0.046630859375, 0.0048828125, 0.0018310546875, 0.00133514404296875, 0.001617431640625, 0.004974365234375, 0.00016021728515625, 0.00194549560546875, 0.007232666015625]}\n",
       "    )\n",
       "    </script>"
      ],
      "text/plain": [
       "<circuitsvis.utils.render.RenderedHTML at 0x7f832b1f2890>"
      ]
     },
     "metadata": {},
     "output_type": "display_data"
    },
    {
     "name": "stdout",
     "output_type": "stream",
     "text": [
      "2025-08-04 15:03:32 __main__ INFO     Layer: 47, Head: 18\n"
     ]
    },
    {
     "data": {
      "text/html": [
       "<div id=\"circuits-vis-763fbdac-6a1a\" style=\"margin: 15px 0;\"/>\n",
       "    <script crossorigin type=\"module\">\n",
       "    import { render, ColoredTokens } from \"https://unpkg.com/circuitsvis@1.43.3/dist/cdn/esm.js\";\n",
       "    render(\n",
       "      \"circuits-vis-763fbdac-6a1a\",\n",
       "      ColoredTokens,\n",
       "      {\"tokens\": [\"1\", \".\", \" grape\", \"\\n\", \"2\", \".\", \" marker\", \"\\n\", \"3\", \".\", \" truck\", \"\\n\", \"4\", \".\", \" watch\", \"\\n\", \"5\", \".\", \" car\", \"\\n\", \"6\", \".\", \" banana\", \"\\n\", \"7\", \".\", \" mouse\", \"\\n\", \"8\", \".\", \" mango\", \"\\n\", \"9\", \".\", \" bus\", \"\\n\", \"Count\", \" the\", \" number\", \" of\", \" vehicles\", \" from\", \" the\", \" following\", \" list\", \":\\n\", \"Answer\", \":\", \" \"], \"values\": [0.017333984375, 0.007049560546875, 0.000698089599609375, 0.0035400390625, 0.00811767578125, 0.002838134765625, 0.00054168701171875, 0.0027618408203125, 0.002471923828125, 0.004974365234375, 0.0146484375, 0.009765625, 0.00640869140625, 0.0022430419921875, 0.001953125, 0.00262451171875, 0.004974365234375, 0.007598876953125, 0.01214599609375, 0.03173828125, 0.005828857421875, 0.0054931640625, 0.00019359588623046875, 0.000247955322265625, 0.00262451171875, 0.00640869140625, 0.00051116943359375, 0.0004100799560546875, 0.00555419921875, 0.0035400390625, 0.00013256072998046875, 8.869171142578125e-05, 0.00726318359375, 0.006011962890625, 0.019287109375, 0.050537109375, 0.0033721923828125, 0.0035858154296875, 0.00101470947265625, 0.012939453125, 0.043212890625, 0.00872802734375, 0.0017242431640625, 0.000865936279296875, 0.00074005126953125, 0.0137939453125, 0.00074005126953125, 0.00836181640625, 0.0286865234375]}\n",
       "    )\n",
       "    </script>"
      ],
      "text/plain": [
       "<circuitsvis.utils.render.RenderedHTML at 0x7f832ade4f10>"
      ]
     },
     "metadata": {},
     "output_type": "display_data"
    },
    {
     "name": "stdout",
     "output_type": "stream",
     "text": [
      "2025-08-04 15:03:33 __main__ INFO     Layer: 52, Head: 58\n"
     ]
    },
    {
     "data": {
      "text/html": [
       "<div id=\"circuits-vis-db14590a-2df0\" style=\"margin: 15px 0;\"/>\n",
       "    <script crossorigin type=\"module\">\n",
       "    import { render, ColoredTokens } from \"https://unpkg.com/circuitsvis@1.43.3/dist/cdn/esm.js\";\n",
       "    render(\n",
       "      \"circuits-vis-db14590a-2df0\",\n",
       "      ColoredTokens,\n",
       "      {\"tokens\": [\"1\", \".\", \" grape\", \"\\n\", \"2\", \".\", \" marker\", \"\\n\", \"3\", \".\", \" truck\", \"\\n\", \"4\", \".\", \" watch\", \"\\n\", \"5\", \".\", \" car\", \"\\n\", \"6\", \".\", \" banana\", \"\\n\", \"7\", \".\", \" mouse\", \"\\n\", \"8\", \".\", \" mango\", \"\\n\", \"9\", \".\", \" bus\", \"\\n\", \"Count\", \" the\", \" number\", \" of\", \" vehicles\", \" from\", \" the\", \" following\", \" list\", \":\\n\", \"Answer\", \":\", \" \"], \"values\": [0.0032958984375, 0.000759124755859375, 0.0010986328125, 0.0004749298095703125, 0.000713348388671875, 0.0002880096435546875, 0.0002040863037109375, 0.0003261566162109375, 9.059906005859375e-05, 0.000270843505859375, 0.038818359375, 0.00165557861328125, 0.0002460479736328125, 0.000217437744140625, 0.0020904541015625, 0.0001316070556640625, 0.0002384185791015625, 0.000431060791015625, 0.0159912109375, 0.0025177001953125, 0.0002384185791015625, 0.0003814697265625, 9.059906005859375e-05, 1.7762184143066406e-05, 0.00010585784912109375, 0.00035858154296875, 0.00010585784912109375, 2.014636993408203e-05, 0.0002384185791015625, 0.0002460479736328125, 4.410743713378906e-05, 4.500150680541992e-06, 0.00029754638671875, 0.0005035400390625, 0.02490234375, 0.005096435546875, 0.0021514892578125, 0.0025634765625, 0.000759124755859375, 0.004364013671875, 0.23828125, 0.0030975341796875, 0.00035858154296875, 0.000553131103515625, 0.000804901123046875, 0.00469970703125, 0.000804901123046875, 0.003509521484375, 0.00897216796875]}\n",
       "    )\n",
       "    </script>"
      ],
      "text/plain": [
       "<circuitsvis.utils.render.RenderedHTML at 0x7fa567f1a350>"
      ]
     },
     "metadata": {},
     "output_type": "display_data"
    },
    {
     "name": "stdout",
     "output_type": "stream",
     "text": [
      "2025-08-04 15:03:33 __main__ INFO     Combined attention matrix for all heads\n"
     ]
    },
    {
     "data": {
      "text/html": [
       "<div id=\"circuits-vis-0bd8940b-347d\" style=\"margin: 15px 0;\"/>\n",
       "    <script crossorigin type=\"module\">\n",
       "    import { render, ColoredTokens } from \"https://unpkg.com/circuitsvis@1.43.3/dist/cdn/esm.js\";\n",
       "    render(\n",
       "      \"circuits-vis-0bd8940b-347d\",\n",
       "      ColoredTokens,\n",
       "      {\"tokens\": [\"1\", \".\", \" grape\", \"\\n\", \"2\", \".\", \" marker\", \"\\n\", \"3\", \".\", \" truck\", \"\\n\", \"4\", \".\", \" watch\", \"\\n\", \"5\", \".\", \" car\", \"\\n\", \"6\", \".\", \" banana\", \"\\n\", \"7\", \".\", \" mouse\", \"\\n\", \"8\", \".\", \" mango\", \"\\n\", \"9\", \".\", \" bus\", \"\\n\", \"Count\", \" the\", \" number\", \" of\", \" vehicles\", \" from\", \" the\", \" following\", \" list\", \":\\n\", \"Answer\", \":\", \" \"], \"values\": [0.01466522179543972, 0.002118778182193637, 0.0011067629093304276, 0.001984620001167059, 0.005813407711684704, 0.001028922968544066, 0.0011379063362255692, 0.0066780089400708675, 0.0004528924764599651, 0.003328180406242609, 0.08488769829273224, 0.038025666028261185, 0.010511207394301891, 0.0006595536833629012, 0.00479965191334486, 0.0048355101607739925, 0.0029620169661939144, 0.004322624299675226, 0.07474975287914276, 0.04483184963464737, 0.02093944512307644, 0.003639745758846402, 0.000622650608420372, 0.0007718809065409005, 0.0005744218942709267, 0.004302787594497204, 0.0021681548096239567, 0.001554381800815463, 0.004457378294318914, 0.001350915408693254, 0.00043675937922671437, 0.00026248424546793103, 0.0030333041213452816, 0.0028635025955736637, 0.13051757216453552, 0.05083923414349556, 0.002663230989128351, 0.0011919572716578841, 0.00036872178316116333, 0.005329919047653675, 0.06676025688648224, 0.00542261591181159, 0.001229619956575334, 0.0011167287593707442, 0.0008358240011148155, 0.01017673034220934, 0.000337687146384269, 0.005293643567711115, 0.06109924241900444]}\n",
       "    )\n",
       "    </script>"
      ],
      "text/plain": [
       "<circuitsvis.utils.render.RenderedHTML at 0x7fa500196890>"
      ]
     },
     "metadata": {},
     "output_type": "display_data"
    },
    {
     "data": {
      "text/plain": [
       "[PredictedToken(token='3', prob=0.83984375, logit=22.75, token_id=18, metadata=None),\n",
       " PredictedToken(token='4', prob=0.060791015625, logit=20.125, token_id=19, metadata=None),\n",
       " PredictedToken(token='2', prob=0.060791015625, logit=20.125, token_id=17, metadata=None),\n",
       " PredictedToken(token='5', prob=0.01361083984375, logit=18.625, token_id=20, metadata=None),\n",
       " PredictedToken(token='1', prob=0.00933837890625, logit=18.25, token_id=16, metadata=None)]"
      ]
     },
     "execution_count": 142,
     "metadata": {},
     "output_type": "execute_result"
    },
    {
     "ename": "",
     "evalue": "",
     "output_type": "error",
     "traceback": [
      "\u001b[1;31mThe Kernel crashed while executing code in the current cell or a previous cell. \n",
      "\u001b[1;31mPlease review the code in the cell(s) to identify a possible cause of the failure. \n",
      "\u001b[1;31mClick <a href='https://aka.ms/vscodeJupyterKernelCrash'>here</a> for more info. \n",
      "\u001b[1;31mView Jupyter <a href='command:jupyter.viewOutput'>log</a> for further details."
     ]
    }
   ],
   "source": [
    "verify = verify_head_patterns(\n",
    "    prompt=prompt,\n",
    "    options=options,\n",
    "    pivot=\"fruit\",\n",
    "    mt=mt,\n",
    "    value_weighted=False,\n",
    "    generate_full_answer=True,\n",
    ")\n",
    "verify[\"predictions\"]"
   ]
  },
  {
   "cell_type": "code",
   "execution_count": 133,
   "id": "c37fb680",
   "metadata": {},
   "outputs": [
    {
     "name": "stdout",
     "output_type": "stream",
     "text": [
      "2025-08-04 14:59:42 __main__ DEBUG    marker\n",
      " | opt_range=(3, 5) | bare_opt_range=(4, 6) | \" marker\n",
      "\"\n"
     ]
    },
    {
     "name": "stdout",
     "output_type": "stream",
     "text": [
      "2025-08-04 14:59:42 __main__ DEBUG    truck\n",
      " | opt_range=(7, 9) | bare_opt_range=(4, 6) | \" truck\n",
      "\"\n",
      "2025-08-04 14:59:42 __main__ DEBUG    watch\n",
      " | opt_range=(11, 13) | bare_opt_range=(4, 6) | \" watch\n",
      "\"\n",
      "2025-08-04 14:59:42 __main__ DEBUG    car\n",
      " | opt_range=(15, 17) | bare_opt_range=(4, 6) | \" car\n",
      "\"\n",
      "2025-08-04 14:59:42 __main__ DEBUG    banana\n",
      " | opt_range=(19, 21) | bare_opt_range=(4, 6) | \" banana\n",
      "\"\n",
      "2025-08-04 14:59:42 __main__ DEBUG    mouse\n",
      " | opt_range=(23, 25) | bare_opt_range=(4, 6) | \" mouse\n",
      "\"\n",
      "2025-08-04 14:59:42 __main__ DEBUG    mango\n",
      " | opt_range=(27, 29) | bare_opt_range=(4, 6) | \" mango\n",
      "\"\n",
      "2025-08-04 14:59:43 __main__ DEBUG    bus\n",
      " | opt_range=(31, 33) | bare_opt_range=(4, 6) | \" bus\n",
      "\"\n",
      "1280 patches to ablate possible answer information from options\n",
      "2025-08-04 14:59:48 __main__ DEBUG    Predictions: ['\"2\"[17] (p=0.945, logit=23.875)', '\"3\"[18] (p=0.032, logit=20.500)', '\"4\"[19] (p=0.006, logit=18.750)', '\"1\"[16] (p=0.006, logit=18.750)', '\"5\"[20] (p=0.002, logit=17.500)']\n",
      "layer=35\n"
     ]
    },
    {
     "data": {
      "text/html": [
       "<div id=\"circuits-vis-194eb653-7330\" style=\"margin: 15px 0;\"/>\n",
       "    <script crossorigin type=\"module\">\n",
       "    import { render, ColoredTokens } from \"https://unpkg.com/circuitsvis@1.43.3/dist/cdn/esm.js\";\n",
       "    render(\n",
       "      \"circuits-vis-194eb653-7330\",\n",
       "      ColoredTokens,\n",
       "      {\"tokens\": [\"1\", \".\", \" marker\", \"\\n\", \"2\", \".\", \" truck\", \"\\n\", \"3\", \".\", \" watch\", \"\\n\", \"4\", \".\", \" car\", \"\\n\", \"5\", \".\", \" banana\", \"\\n\", \"6\", \".\", \" mouse\", \"\\n\", \"7\", \".\", \" mango\", \"\\n\", \"8\", \".\", \" bus\", \"\\n\", \"Count\", \" the\", \" number\", \" of\", \" fruits\", \" from\", \" the\", \" following\", \" list\", \":\\n\", \"Answer\", \":\", \" \"], \"values\": [0.018361151218414307, 0.0028651058673858643, 0.0015436410903930664, 0.00371493399143219, 0.0035163089632987976, 0.0012844055891036987, 0.0024610906839370728, 0.002943679690361023, 0.0009105652570724487, 0.0013472065329551697, 0.0019510388374328613, 0.0023076236248016357, 0.0036116428673267365, 0.0018260739743709564, 0.004186026751995087, 0.003033634275197983, 0.0023213960230350494, 0.0019843876361846924, 0.06735365092754364, 0.031780049204826355, 0.011797919869422913, 0.0025114044547080994, 0.004752114415168762, 0.0052503496408462524, 0.0018528178334236145, 0.004924558103084564, 0.031580373644828796, 0.0177958682179451, 0.006566941738128662, 0.0038108155131340027, 0.005081251263618469, 0.003288019448518753, 0.007174462080001831, 0.002436347771435976, 0.0009325812570750713, 0.008313137106597424, 0.03941124677658081, 0.010941803455352783, 0.0058199092745780945, 0.0046548377722501755, 0.004384094849228859, 0.008259069174528122, 0.004067224450409412, 0.010133394971489906, 0.028778567910194397]}\n",
       "    )\n",
       "    </script>"
      ],
      "text/plain": [
       "<circuitsvis.utils.render.RenderedHTML at 0x7fa4a01e2290>"
      ]
     },
     "metadata": {},
     "output_type": "display_data"
    },
    {
     "name": "stdout",
     "output_type": "stream",
     "text": [
      "--------------------------------------------------------------------------------\n",
      "layer=47\n"
     ]
    },
    {
     "data": {
      "text/html": [
       "<div id=\"circuits-vis-ff47520a-bce1\" style=\"margin: 15px 0;\"/>\n",
       "    <script crossorigin type=\"module\">\n",
       "    import { render, ColoredTokens } from \"https://unpkg.com/circuitsvis@1.43.3/dist/cdn/esm.js\";\n",
       "    render(\n",
       "      \"circuits-vis-ff47520a-bce1\",\n",
       "      ColoredTokens,\n",
       "      {\"tokens\": [\"1\", \".\", \" marker\", \"\\n\", \"2\", \".\", \" truck\", \"\\n\", \"3\", \".\", \" watch\", \"\\n\", \"4\", \".\", \" car\", \"\\n\", \"5\", \".\", \" banana\", \"\\n\", \"6\", \".\", \" mouse\", \"\\n\", \"7\", \".\", \" mango\", \"\\n\", \"8\", \".\", \" bus\", \"\\n\", \"Count\", \" the\", \" number\", \" of\", \" fruits\", \" from\", \" the\", \" following\", \" list\", \":\\n\", \"Answer\", \":\", \" \"], \"values\": [0.0021483153104782104, 0.000990143045783043, 0.0003045797348022461, 0.0006732959300279617, 0.0006336900405585766, 0.00015426147729158401, 0.0003148205578327179, 0.0004221564158797264, 8.773733861744404e-05, 0.00024329684674739838, 0.00029306113719940186, 0.00018974067643284798, 0.0009106183424592018, 0.00015905499458312988, 0.00023793987929821014, 0.00034381437581032515, 0.0007515011820942163, 0.00039789360016584396, 0.001225525513291359, 0.002010430209338665, 0.0007168094161897898, 0.0003249547444283962, 0.00023784488439559937, 9.953754488378763e-05, 0.0006083250045776367, 0.0003753984346985817, 0.0010582134127616882, 0.00043563079088926315, 0.0011053673224523664, 0.0003261994570493698, 0.0004339255392551422, 0.00037386221811175346, 0.0010497495532035828, 0.0006320904940366745, 0.0007296204566955566, 0.0019053500145673752, 0.003452517092227936, 0.0006504878401756287, 0.00044819340109825134, 0.000604560598731041, 0.0006153620779514313, 0.001678071916103363, 0.0016925036907196045, 0.0013270005583763123, 0.0013714432716369629]}\n",
       "    )\n",
       "    </script>"
      ],
      "text/plain": [
       "<circuitsvis.utils.render.RenderedHTML at 0x7fa4a01e0690>"
      ]
     },
     "metadata": {},
     "output_type": "display_data"
    },
    {
     "name": "stdout",
     "output_type": "stream",
     "text": [
      "--------------------------------------------------------------------------------\n",
      "layer=52\n"
     ]
    },
    {
     "data": {
      "text/html": [
       "<div id=\"circuits-vis-5a3bccd8-3fcb\" style=\"margin: 15px 0;\"/>\n",
       "    <script crossorigin type=\"module\">\n",
       "    import { render, ColoredTokens } from \"https://unpkg.com/circuitsvis@1.43.3/dist/cdn/esm.js\";\n",
       "    render(\n",
       "      \"circuits-vis-5a3bccd8-3fcb\",\n",
       "      ColoredTokens,\n",
       "      {\"tokens\": [\"1\", \".\", \" marker\", \"\\n\", \"2\", \".\", \" truck\", \"\\n\", \"3\", \".\", \" watch\", \"\\n\", \"4\", \".\", \" car\", \"\\n\", \"5\", \".\", \" banana\", \"\\n\", \"6\", \".\", \" mouse\", \"\\n\", \"7\", \".\", \" mango\", \"\\n\", \"8\", \".\", \" bus\", \"\\n\", \"Count\", \" the\", \" number\", \" of\", \" fruits\", \" from\", \" the\", \" following\", \" list\", \":\\n\", \"Answer\", \":\", \" \"], \"values\": [0.002439647912979126, 0.0014815302565693855, 0.0006771469488739967, 0.0012898333370685577, 0.0009431783109903336, 0.0003761984407901764, 0.0006458796560764313, 0.0008367002010345459, 0.0002986113540828228, 0.0004500611685216427, 0.0005566752515733242, 0.00042928894981741905, 0.0010339794680476189, 0.0002788200508803129, 0.0007072966545820236, 0.0005430416204035282, 0.0007714265957474709, 0.0006073182448744774, 0.002442389726638794, 0.0021898606792092323, 0.0007690007332712412, 0.0004866579547524452, 0.00039153709076344967, 0.0002077203243970871, 0.0013337591663002968, 0.0005286866798996925, 0.001932445913553238, 0.0010796100832521915, 0.0005763932131230831, 0.0004425765946507454, 0.0006146393716335297, 0.0004963967949151993, 0.0022575724869966507, 0.0016105417162179947, 0.00124696409329772, 0.0023429952561855316, 0.007917679846286774, 0.0010713287629187107, 0.0009144870564341545, 0.0011548446491360664, 0.0012721754610538483, 0.00444653257727623, 0.004555048421025276, 0.0054371533915400505, 0.007666826248168945]}\n",
       "    )\n",
       "    </script>"
      ],
      "text/plain": [
       "<circuitsvis.utils.render.RenderedHTML at 0x7fa4a03fbc10>"
      ]
     },
     "metadata": {},
     "output_type": "display_data"
    },
    {
     "name": "stdout",
     "output_type": "stream",
     "text": [
      "--------------------------------------------------------------------------------\n",
      "======================================================================\n",
      "2025-08-04 14:59:49 __main__ INFO     Layer: 33, Head: 45\n"
     ]
    },
    {
     "data": {
      "text/html": [
       "<div id=\"circuits-vis-592ccdcd-1f1a\" style=\"margin: 15px 0;\"/>\n",
       "    <script crossorigin type=\"module\">\n",
       "    import { render, ColoredTokens } from \"https://unpkg.com/circuitsvis@1.43.3/dist/cdn/esm.js\";\n",
       "    render(\n",
       "      \"circuits-vis-592ccdcd-1f1a\",\n",
       "      ColoredTokens,\n",
       "      {\"tokens\": [\"1\", \".\", \" marker\", \"\\n\", \"2\", \".\", \" truck\", \"\\n\", \"3\", \".\", \" watch\", \"\\n\", \"4\", \".\", \" car\", \"\\n\", \"5\", \".\", \" banana\", \"\\n\", \"6\", \".\", \" mouse\", \"\\n\", \"7\", \".\", \" mango\", \"\\n\", \"8\", \".\", \" bus\", \"\\n\", \"Count\", \" the\", \" number\", \" of\", \" fruits\", \" from\", \" the\", \" following\", \" list\", \":\\n\", \"Answer\", \":\", \" \"], \"values\": [0.0260009765625, 0.00689697265625, 0.0076904296875, 0.003631591796875, 0.005615234375, 0.001739501953125, 0.001312255859375, 0.00341796875, 0.00250244140625, 0.0108642578125, 0.00579833984375, 0.003631591796875, 0.0216064453125, 0.001739501953125, 0.006378173828125, 0.004302978515625, 0.0074462890625, 0.00677490234375, 0.0233154296875, 0.0233154296875, 0.02978515625, 0.001251220703125, 0.004669189453125, 0.00171661376953125, 0.0009765625, 0.0252685546875, 0.1015625, 0.03271484375, 0.022216796875, 0.00171661376953125, 0.006072998046875, 0.0013580322265625, 0.007232666015625, 0.001800537109375, 0.001251220703125, 0.0084228515625, 0.0089111328125, 0.005279541015625, 0.003753662109375, 0.0081787109375, 0.002349853515625, 0.002777099609375, 0.00168609619140625, 0.0078125, 0.0230712890625]}\n",
       "    )\n",
       "    </script>"
      ],
      "text/plain": [
       "<circuitsvis.utils.render.RenderedHTML at 0x7fa4e055b410>"
      ]
     },
     "metadata": {},
     "output_type": "display_data"
    },
    {
     "name": "stdout",
     "output_type": "stream",
     "text": [
      "2025-08-04 14:59:49 __main__ INFO     Layer: 33, Head: 18\n"
     ]
    },
    {
     "data": {
      "text/html": [
       "<div id=\"circuits-vis-d0ea5d5f-7f05\" style=\"margin: 15px 0;\"/>\n",
       "    <script crossorigin type=\"module\">\n",
       "    import { render, ColoredTokens } from \"https://unpkg.com/circuitsvis@1.43.3/dist/cdn/esm.js\";\n",
       "    render(\n",
       "      \"circuits-vis-d0ea5d5f-7f05\",\n",
       "      ColoredTokens,\n",
       "      {\"tokens\": [\"1\", \".\", \" marker\", \"\\n\", \"2\", \".\", \" truck\", \"\\n\", \"3\", \".\", \" watch\", \"\\n\", \"4\", \".\", \" car\", \"\\n\", \"5\", \".\", \" banana\", \"\\n\", \"6\", \".\", \" mouse\", \"\\n\", \"7\", \".\", \" mango\", \"\\n\", \"8\", \".\", \" bus\", \"\\n\", \"Count\", \" the\", \" number\", \" of\", \" fruits\", \" from\", \" the\", \" following\", \" list\", \":\\n\", \"Answer\", \":\", \" \"], \"values\": [0.006317138671875, 0.007049560546875, 0.00067901611328125, 0.00579833984375, 0.01300048828125, 0.000873565673828125, 0.00016689300537109375, 0.0030517578125, 0.00035858154296875, 0.0028228759765625, 0.0004062652587890625, 0.01031494140625, 0.03173828125, 0.000453948974609375, 0.00135040283203125, 0.00714111328125, 0.00927734375, 0.01019287109375, 0.091796875, 0.2099609375, 0.05322265625, 0.0042724609375, 0.0019683837890625, 0.00701904296875, 0.000946044921875, 0.01031494140625, 0.1796875, 0.1298828125, 0.0162353515625, 0.0118408203125, 0.000820159912109375, 0.00049591064453125, 0.000400543212890625, 8.285045623779297e-06, 9.775161743164062e-05, 0.000133514404296875, 0.02294921875, 0.0004825592041015625, 0.00148773193359375, 0.000446319580078125, 0.0003814697265625, 0.000598907470703125, 5.5789947509765625e-05, 0.00055694580078125, 0.01495361328125]}\n",
       "    )\n",
       "    </script>"
      ],
      "text/plain": [
       "<circuitsvis.utils.render.RenderedHTML at 0x7fa5000f12d0>"
      ]
     },
     "metadata": {},
     "output_type": "display_data"
    },
    {
     "name": "stdout",
     "output_type": "stream",
     "text": [
      "2025-08-04 14:59:49 __main__ INFO     Layer: 34, Head: 1\n"
     ]
    },
    {
     "data": {
      "text/html": [
       "<div id=\"circuits-vis-2d04d33f-ad09\" style=\"margin: 15px 0;\"/>\n",
       "    <script crossorigin type=\"module\">\n",
       "    import { render, ColoredTokens } from \"https://unpkg.com/circuitsvis@1.43.3/dist/cdn/esm.js\";\n",
       "    render(\n",
       "      \"circuits-vis-2d04d33f-ad09\",\n",
       "      ColoredTokens,\n",
       "      {\"tokens\": [\"1\", \".\", \" marker\", \"\\n\", \"2\", \".\", \" truck\", \"\\n\", \"3\", \".\", \" watch\", \"\\n\", \"4\", \".\", \" car\", \"\\n\", \"5\", \".\", \" banana\", \"\\n\", \"6\", \".\", \" mouse\", \"\\n\", \"7\", \".\", \" mango\", \"\\n\", \"8\", \".\", \" bus\", \"\\n\", \"Count\", \" the\", \" number\", \" of\", \" fruits\", \" from\", \" the\", \" following\", \" list\", \":\\n\", \"Answer\", \":\", \" \"], \"values\": [0.01080322265625, 0.00048065185546875, 0.000133514404296875, 0.000148773193359375, 0.00028228759765625, 3.680586814880371e-06, 1.2665987014770508e-06, 1.704692840576172e-05, 3.075599670410156e-05, 0.00011444091796875, 3.266334533691406e-05, 0.00014495849609375, 0.00150299072265625, 2.110004425048828e-05, 1.8715858459472656e-05, 4.6253204345703125e-05, 0.0003681182861328125, 5.936622619628906e-05, 0.1708984375, 0.057373046875, 0.003265380859375, 1.7523765563964844e-05, 3.600120544433594e-05, 2.110004425048828e-05, 5.692243576049805e-06, 0.0008697509765625, 0.41015625, 0.2001953125, 0.0028839111328125, 0.0001277923583984375, 1.5497207641601562e-05, 4.291534423828125e-06, 0.0002536773681640625, 4.559755325317383e-06, 7.808208465576172e-06, 0.0002880096435546875, 0.015380859375, 0.00051116943359375, 0.000194549560546875, 0.00150299072265625, 5.936622619628906e-05, 0.0004177093505859375, 2.8014183044433594e-05, 0.0004673004150390625, 0.0186767578125]}\n",
       "    )\n",
       "    </script>"
      ],
      "text/plain": [
       "<circuitsvis.utils.render.RenderedHTML at 0x7fa47ccba710>"
      ]
     },
     "metadata": {},
     "output_type": "display_data"
    },
    {
     "name": "stdout",
     "output_type": "stream",
     "text": [
      "2025-08-04 14:59:49 __main__ INFO     Layer: 34, Head: 6\n"
     ]
    },
    {
     "data": {
      "text/html": [
       "<div id=\"circuits-vis-69587a58-4060\" style=\"margin: 15px 0;\"/>\n",
       "    <script crossorigin type=\"module\">\n",
       "    import { render, ColoredTokens } from \"https://unpkg.com/circuitsvis@1.43.3/dist/cdn/esm.js\";\n",
       "    render(\n",
       "      \"circuits-vis-69587a58-4060\",\n",
       "      ColoredTokens,\n",
       "      {\"tokens\": [\"1\", \".\", \" marker\", \"\\n\", \"2\", \".\", \" truck\", \"\\n\", \"3\", \".\", \" watch\", \"\\n\", \"4\", \".\", \" car\", \"\\n\", \"5\", \".\", \" banana\", \"\\n\", \"6\", \".\", \" mouse\", \"\\n\", \"7\", \".\", \" mango\", \"\\n\", \"8\", \".\", \" bus\", \"\\n\", \"Count\", \" the\", \" number\", \" of\", \" fruits\", \" from\", \" the\", \" following\", \" list\", \":\\n\", \"Answer\", \":\", \" \"], \"values\": [0.0281982421875, 0.007110595703125, 0.00823974609375, 0.00653076171875, 0.008056640625, 0.000766754150390625, 7.05718994140625e-05, 0.00064849853515625, 0.0023345947265625, 0.005096435546875, 0.001373291015625, 0.0027618408203125, 0.0177001953125, 0.00186920166015625, 0.0003147125244140625, 0.000392913818359375, 0.004425048828125, 0.0021820068359375, 0.2060546875, 0.059814453125, 0.0128173828125, 0.000942230224609375, 0.000423431396484375, 0.0001316070556640625, 0.00040435791015625, 0.0064697265625, 0.2099609375, 0.09765625, 0.006195068359375, 0.00150299072265625, 0.0001583099365234375, 7.963180541992188e-05, 0.004241943359375, 0.0002231597900390625, 0.0003147125244140625, 0.0026397705078125, 0.0576171875, 0.004241943359375, 0.001190185546875, 0.003631591796875, 0.00048065185546875, 0.0033416748046875, 0.000209808349609375, 0.004669189453125, 0.037109375]}\n",
       "    )\n",
       "    </script>"
      ],
      "text/plain": [
       "<circuitsvis.utils.render.RenderedHTML at 0x7fa500102950>"
      ]
     },
     "metadata": {},
     "output_type": "display_data"
    },
    {
     "name": "stdout",
     "output_type": "stream",
     "text": [
      "2025-08-04 14:59:49 __main__ INFO     Layer: 34, Head: 7\n"
     ]
    },
    {
     "data": {
      "text/html": [
       "<div id=\"circuits-vis-b0559a2d-2ce6\" style=\"margin: 15px 0;\"/>\n",
       "    <script crossorigin type=\"module\">\n",
       "    import { render, ColoredTokens } from \"https://unpkg.com/circuitsvis@1.43.3/dist/cdn/esm.js\";\n",
       "    render(\n",
       "      \"circuits-vis-b0559a2d-2ce6\",\n",
       "      ColoredTokens,\n",
       "      {\"tokens\": [\"1\", \".\", \" marker\", \"\\n\", \"2\", \".\", \" truck\", \"\\n\", \"3\", \".\", \" watch\", \"\\n\", \"4\", \".\", \" car\", \"\\n\", \"5\", \".\", \" banana\", \"\\n\", \"6\", \".\", \" mouse\", \"\\n\", \"7\", \".\", \" mango\", \"\\n\", \"8\", \".\", \" bus\", \"\\n\", \"Count\", \" the\", \" number\", \" of\", \" fruits\", \" from\", \" the\", \" following\", \" list\", \":\\n\", \"Answer\", \":\", \" \"], \"values\": [0.0181884765625, 0.000530242919921875, 0.00041961669921875, 0.00064849853515625, 0.00064849853515625, 0.0001125335693359375, 5.173683166503906e-05, 0.0003414154052734375, 0.0002460479736328125, 0.000335693359375, 0.0004673004150390625, 0.00159454345703125, 0.0035552978515625, 0.0003261566162109375, 0.000438690185546875, 0.000713348388671875, 0.001129150390625, 0.0003757476806640625, 0.1259765625, 0.054443359375, 0.005859375, 0.000278472900390625, 0.00125885009765625, 0.00057220458984375, 0.0001125335693359375, 0.003173828125, 0.2314453125, 0.1298828125, 0.00732421875, 0.0005035400390625, 0.0004749298095703125, 0.0002918243408203125, 0.0034332275390625, 0.000316619873046875, 0.0001277923583984375, 0.003448486328125, 0.2041015625, 0.0157470703125, 0.001739501953125, 0.00592041015625, 0.00151824951171875, 0.01043701171875, 0.00041961669921875, 0.00726318359375, 0.0947265625]}\n",
       "    )\n",
       "    </script>"
      ],
      "text/plain": [
       "<circuitsvis.utils.render.RenderedHTML at 0x7fa4c0308b90>"
      ]
     },
     "metadata": {},
     "output_type": "display_data"
    },
    {
     "name": "stdout",
     "output_type": "stream",
     "text": [
      "2025-08-04 14:59:49 __main__ INFO     Layer: 35, Head: 19\n"
     ]
    },
    {
     "data": {
      "text/html": [
       "<div id=\"circuits-vis-71b2ad7e-0cb4\" style=\"margin: 15px 0;\"/>\n",
       "    <script crossorigin type=\"module\">\n",
       "    import { render, ColoredTokens } from \"https://unpkg.com/circuitsvis@1.43.3/dist/cdn/esm.js\";\n",
       "    render(\n",
       "      \"circuits-vis-71b2ad7e-0cb4\",\n",
       "      ColoredTokens,\n",
       "      {\"tokens\": [\"1\", \".\", \" marker\", \"\\n\", \"2\", \".\", \" truck\", \"\\n\", \"3\", \".\", \" watch\", \"\\n\", \"4\", \".\", \" car\", \"\\n\", \"5\", \".\", \" banana\", \"\\n\", \"6\", \".\", \" mouse\", \"\\n\", \"7\", \".\", \" mango\", \"\\n\", \"8\", \".\", \" bus\", \"\\n\", \"Count\", \" the\", \" number\", \" of\", \" fruits\", \" from\", \" the\", \" following\", \" list\", \":\\n\", \"Answer\", \":\", \" \"], \"values\": [0.000743865966796875, 8.678436279296875e-05, 0.0004291534423828125, 0.001708984375, 0.0003643035888671875, 0.000553131103515625, 0.0003643035888671875, 0.004150390625, 0.00140380859375, 0.001434326171875, 0.00182342529296875, 0.0068359375, 0.0004367828369140625, 0.00213623046875, 0.0008544921875, 0.000606536865234375, 5.555152893066406e-05, 0.0011138916015625, 0.61328125, 0.2119140625, 0.00052642822265625, 0.00225830078125, 0.003326416015625, 0.002777099609375, 7.009506225585938e-05, 0.00179290771484375, 0.09423828125, 0.0283203125, 0.00026702880859375, 0.00177764892578125, 0.0003452301025390625, 5.555152893066406e-05, 0.000762939453125, 8.67992639541626e-07, 4.857778549194336e-06, 1.1622905731201172e-05, 0.00592041015625, 1.71661376953125e-05, 8.153915405273438e-05, 1.609325408935547e-05, 8.225440979003906e-06, 2.7418136596679688e-05, 6.616115570068359e-06, 1.1086463928222656e-05, 0.000732421875]}\n",
       "    )\n",
       "    </script>"
      ],
      "text/plain": [
       "<circuitsvis.utils.render.RenderedHTML at 0x7fa4c05d1bd0>"
      ]
     },
     "metadata": {},
     "output_type": "display_data"
    },
    {
     "name": "stdout",
     "output_type": "stream",
     "text": [
      "2025-08-04 14:59:49 __main__ INFO     Layer: 39, Head: 40\n"
     ]
    },
    {
     "data": {
      "text/html": [
       "<div id=\"circuits-vis-a60ab623-c368\" style=\"margin: 15px 0;\"/>\n",
       "    <script crossorigin type=\"module\">\n",
       "    import { render, ColoredTokens } from \"https://unpkg.com/circuitsvis@1.43.3/dist/cdn/esm.js\";\n",
       "    render(\n",
       "      \"circuits-vis-a60ab623-c368\",\n",
       "      ColoredTokens,\n",
       "      {\"tokens\": [\"1\", \".\", \" marker\", \"\\n\", \"2\", \".\", \" truck\", \"\\n\", \"3\", \".\", \" watch\", \"\\n\", \"4\", \".\", \" car\", \"\\n\", \"5\", \".\", \" banana\", \"\\n\", \"6\", \".\", \" mouse\", \"\\n\", \"7\", \".\", \" mango\", \"\\n\", \"8\", \".\", \" bus\", \"\\n\", \"Count\", \" the\", \" number\", \" of\", \" fruits\", \" from\", \" the\", \" following\", \" list\", \":\\n\", \"Answer\", \":\", \" \"], \"values\": [0.006011962890625, 0.00098419189453125, 0.00011920928955078125, 0.0003910064697265625, 0.00016307830810546875, 2.205371856689453e-05, 4.8160552978515625e-05, 3.409385681152344e-05, 2.5033950805664062e-05, 0.00054168701171875, 9.012222290039062e-05, 7.963180541992188e-05, 0.0014801025390625, 3.409385681152344e-05, 0.0003681182861328125, 0.0001735687255859375, 0.000743865966796875, 0.00180816650390625, 0.036865234375, 0.036376953125, 0.00104522705078125, 0.00096893310546875, 0.00013065338134765625, 0.0002765655517578125, 0.0010986328125, 0.0026702880859375, 0.0223388671875, 0.032470703125, 0.000881195068359375, 0.00225830078125, 0.00040435791015625, 0.0001964569091796875, 0.00162506103515625, 0.0012664794921875, 0.0003147125244140625, 0.016845703125, 0.361328125, 0.0220947265625, 0.000457763671875, 0.000843048095703125, 0.000644683837890625, 0.06494140625, 7.009506225585938e-05, 0.01202392578125, 0.22265625]}\n",
       "    )\n",
       "    </script>"
      ],
      "text/plain": [
       "<circuitsvis.utils.render.RenderedHTML at 0x7fa4c05d1bd0>"
      ]
     },
     "metadata": {},
     "output_type": "display_data"
    },
    {
     "name": "stdout",
     "output_type": "stream",
     "text": [
      "2025-08-04 14:59:49 __main__ INFO     Layer: 42, Head: 30\n"
     ]
    },
    {
     "data": {
      "text/html": [
       "<div id=\"circuits-vis-ced5db73-5955\" style=\"margin: 15px 0;\"/>\n",
       "    <script crossorigin type=\"module\">\n",
       "    import { render, ColoredTokens } from \"https://unpkg.com/circuitsvis@1.43.3/dist/cdn/esm.js\";\n",
       "    render(\n",
       "      \"circuits-vis-ced5db73-5955\",\n",
       "      ColoredTokens,\n",
       "      {\"tokens\": [\"1\", \".\", \" marker\", \"\\n\", \"2\", \".\", \" truck\", \"\\n\", \"3\", \".\", \" watch\", \"\\n\", \"4\", \".\", \" car\", \"\\n\", \"5\", \".\", \" banana\", \"\\n\", \"6\", \".\", \" mouse\", \"\\n\", \"7\", \".\", \" mango\", \"\\n\", \"8\", \".\", \" bus\", \"\\n\", \"Count\", \" the\", \" number\", \" of\", \" fruits\", \" from\", \" the\", \" following\", \" list\", \":\\n\", \"Answer\", \":\", \" \"], \"values\": [0.00360107421875, 0.000972747802734375, 0.000972747802734375, 0.0019989013671875, 0.00176239013671875, 0.000804901123046875, 0.000606536865234375, 0.0005035400390625, 7.724761962890625e-05, 0.00150299072265625, 0.001068115234375, 0.000392913818359375, 0.0024871826171875, 0.00019741058349609375, 0.00154876708984375, 0.00070953369140625, 0.002593994140625, 0.00396728515625, 0.0203857421875, 0.00909423828125, 0.0035552978515625, 0.00145721435546875, 0.00141143798828125, 0.000553131103515625, 0.00150299072265625, 0.0031890869140625, 0.0167236328125, 0.00762939453125, 0.00225830078125, 0.0018157958984375, 0.0018157958984375, 0.00099945068359375, 0.002899169921875, 0.00384521484375, 0.00150299072265625, 0.01239013671875, 0.033203125, 0.0032806396484375, 0.001068115234375, 0.00193023681640625, 0.0021820068359375, 0.0042724609375, 0.000179290771484375, 0.0016021728515625, 0.0040283203125]}\n",
       "    )\n",
       "    </script>"
      ],
      "text/plain": [
       "<circuitsvis.utils.render.RenderedHTML at 0x7fa4e055bcd0>"
      ]
     },
     "metadata": {},
     "output_type": "display_data"
    },
    {
     "name": "stdout",
     "output_type": "stream",
     "text": [
      "2025-08-04 14:59:50 __main__ INFO     Layer: 47, Head: 18\n"
     ]
    },
    {
     "data": {
      "text/html": [
       "<div id=\"circuits-vis-2538efad-0c4d\" style=\"margin: 15px 0;\"/>\n",
       "    <script crossorigin type=\"module\">\n",
       "    import { render, ColoredTokens } from \"https://unpkg.com/circuitsvis@1.43.3/dist/cdn/esm.js\";\n",
       "    render(\n",
       "      \"circuits-vis-2538efad-0c4d\",\n",
       "      ColoredTokens,\n",
       "      {\"tokens\": [\"1\", \".\", \" marker\", \"\\n\", \"2\", \".\", \" truck\", \"\\n\", \"3\", \".\", \" watch\", \"\\n\", \"4\", \".\", \" car\", \"\\n\", \"5\", \".\", \" banana\", \"\\n\", \"6\", \".\", \" mouse\", \"\\n\", \"7\", \".\", \" mango\", \"\\n\", \"8\", \".\", \" bus\", \"\\n\", \"Count\", \" the\", \" number\", \" of\", \" fruits\", \" from\", \" the\", \" following\", \" list\", \":\\n\", \"Answer\", \":\", \" \"], \"values\": [0.01165771484375, 0.0111083984375, 0.000335693359375, 0.005340576171875, 0.0096435546875, 0.0005035400390625, 0.0003795623779296875, 0.00186920166015625, 0.0002460479736328125, 0.003448486328125, 0.0003681182861328125, 0.000972747802734375, 0.0142822265625, 0.00016880035400390625, 0.0011749267578125, 0.00390625, 0.01507568359375, 0.00823974609375, 0.01202392578125, 0.0595703125, 0.011474609375, 0.00567626953125, 0.0004596710205078125, 0.000942230224609375, 0.01043701171875, 0.007415771484375, 0.004791259765625, 0.0087890625, 0.0096435546875, 0.005340576171875, 0.00165557861328125, 0.0028533935546875, 0.00360107421875, 0.006622314453125, 0.00634765625, 0.05126953125, 0.060302734375, 0.00933837890625, 0.0028533935546875, 0.002288818359375, 0.002288818359375, 0.01556396484375, 0.0006256103515625, 0.01470947265625, 0.0242919921875]}\n",
       "    )\n",
       "    </script>"
      ],
      "text/plain": [
       "<circuitsvis.utils.render.RenderedHTML at 0x7fa4a03f8990>"
      ]
     },
     "metadata": {},
     "output_type": "display_data"
    },
    {
     "name": "stdout",
     "output_type": "stream",
     "text": [
      "2025-08-04 14:59:50 __main__ INFO     Layer: 52, Head: 58\n"
     ]
    },
    {
     "data": {
      "text/html": [
       "<div id=\"circuits-vis-104b2bad-4ec9\" style=\"margin: 15px 0;\"/>\n",
       "    <script crossorigin type=\"module\">\n",
       "    import { render, ColoredTokens } from \"https://unpkg.com/circuitsvis@1.43.3/dist/cdn/esm.js\";\n",
       "    render(\n",
       "      \"circuits-vis-104b2bad-4ec9\",\n",
       "      ColoredTokens,\n",
       "      {\"tokens\": [\"1\", \".\", \" marker\", \"\\n\", \"2\", \".\", \" truck\", \"\\n\", \"3\", \".\", \" watch\", \"\\n\", \"4\", \".\", \" car\", \"\\n\", \"5\", \".\", \" banana\", \"\\n\", \"6\", \".\", \" mouse\", \"\\n\", \"7\", \".\", \" mango\", \"\\n\", \"8\", \".\", \" bus\", \"\\n\", \"Count\", \" the\", \" number\", \" of\", \" fruits\", \" from\", \" the\", \" following\", \" list\", \":\\n\", \"Answer\", \":\", \" \"], \"values\": [0.0030670166015625, 0.00177001953125, 0.00054931640625, 0.001495361328125, 0.000850677490234375, 8.440017700195312e-05, 0.00038909912109375, 0.000354766845703125, 6.341934204101562e-05, 0.000484466552734375, 0.00034332275390625, 0.00017833709716796875, 0.00119781494140625, 5.435943603515625e-05, 0.000965118408203125, 0.0002288818359375, 0.0015869140625, 0.00131988525390625, 0.0184326171875, 0.006103515625, 0.000823974609375, 0.000934600830078125, 0.00013065338134765625, 8.678436279296875e-05, 0.003875732421875, 0.0009918212890625, 0.0091552734375, 0.00335693359375, 0.000640869140625, 0.00106048583984375, 0.000728607177734375, 0.0002288818359375, 0.006591796875, 0.00885009765625, 0.007568359375, 0.0233154296875, 0.1748046875, 0.005645751953125, 0.0013580322265625, 0.003204345703125, 0.003692626953125, 0.006683349609375, 0.0010223388671875, 0.004608154296875, 0.00830078125]}\n",
       "    )\n",
       "    </script>"
      ],
      "text/plain": [
       "<circuitsvis.utils.render.RenderedHTML at 0x7fa500103cd0>"
      ]
     },
     "metadata": {},
     "output_type": "display_data"
    },
    {
     "name": "stdout",
     "output_type": "stream",
     "text": [
      "2025-08-04 14:59:50 __main__ INFO     Combined attention matrix for all heads\n"
     ]
    },
    {
     "data": {
      "text/html": [
       "<div id=\"circuits-vis-fe3a33a0-aca7\" style=\"margin: 15px 0;\"/>\n",
       "    <script crossorigin type=\"module\">\n",
       "    import { render, ColoredTokens } from \"https://unpkg.com/circuitsvis@1.43.3/dist/cdn/esm.js\";\n",
       "    render(\n",
       "      \"circuits-vis-fe3a33a0-aca7\",\n",
       "      ColoredTokens,\n",
       "      {\"tokens\": [\"1\", \".\", \" marker\", \"\\n\", \"2\", \".\", \" truck\", \"\\n\", \"3\", \".\", \" watch\", \"\\n\", \"4\", \".\", \" car\", \"\\n\", \"5\", \".\", \" banana\", \"\\n\", \"6\", \".\", \" mouse\", \"\\n\", \"7\", \".\", \" mango\", \"\\n\", \"8\", \".\", \" bus\", \"\\n\", \"Count\", \" the\", \" number\", \" of\", \" fruits\", \" from\", \" the\", \" following\", \" list\", \":\\n\", \"Answer\", \":\", \" \"], \"values\": [0.011458968743681908, 0.003699016524478793, 0.001956844236701727, 0.0027692795265465975, 0.004038715269416571, 0.0005464061978273094, 0.0003390386700630188, 0.001438867999240756, 0.0007287979242391884, 0.0026645660400390625, 0.0011770963901653886, 0.0026907443534582853, 0.009598731994628906, 0.0007000804180279374, 0.0013412118423730135, 0.001822137855924666, 0.004270195960998535, 0.003603386925533414, 0.13190308213233948, 0.07279662787914276, 0.012237548828125, 0.001805722713470459, 0.0013814687263220549, 0.001409637974575162, 0.0019429654348641634, 0.0062156678177416325, 0.1280059814453125, 0.06708984076976776, 0.00685462960973382, 0.002794456435367465, 0.0012491464149206877, 0.000656342483125627, 0.0031042098999023438, 0.00229381350800395, 0.0017537862295284867, 0.011876505799591541, 0.094451904296875, 0.00666389474645257, 0.0014184474712237716, 0.002796256449073553, 0.0013605952262878418, 0.010906100273132324, 0.0004303276655264199, 0.005372392944991589, 0.04485473781824112]}\n",
       "    )\n",
       "    </script>"
      ],
      "text/plain": [
       "<circuitsvis.utils.render.RenderedHTML at 0x7f832b1f0110>"
      ]
     },
     "metadata": {},
     "output_type": "display_data"
    },
    {
     "data": {
      "text/plain": [
       "[PredictedToken(token='2', prob=0.9453125, logit=23.875, token_id=17, metadata=None),\n",
       " PredictedToken(token='3', prob=0.032470703125, logit=20.5, token_id=18, metadata=None),\n",
       " PredictedToken(token='4', prob=0.005615234375, logit=18.75, token_id=19, metadata=None),\n",
       " PredictedToken(token='1', prob=0.005615234375, logit=18.75, token_id=16, metadata=None),\n",
       " PredictedToken(token='5', prob=0.00160980224609375, logit=17.5, token_id=20, metadata=None)]"
      ]
     },
     "execution_count": 133,
     "metadata": {},
     "output_type": "execute_result"
    }
   ],
   "source": [
    "verify_ind = verify_head_patterns(\n",
    "    prompt=prompt,\n",
    "    # options=options,\n",
    "    options=[f\"{op}\\n\" for op in options],\n",
    "    pivot=\"fruit\",\n",
    "    mt=mt,\n",
    "    value_weighted=False,\n",
    "    generate_full_answer=False,\n",
    "    ablate_possible_ans_info_from_options=True,\n",
    ")\n",
    "verify_ind[\"predictions\"]"
   ]
  },
  {
   "cell_type": "code",
   "execution_count": null,
   "id": "3cb0cdf0",
   "metadata": {},
   "outputs": [],
   "source": []
  }
 ],
 "metadata": {
  "kernelspec": {
   "display_name": "connection",
   "language": "python",
   "name": "python3"
  },
  "language_info": {
   "codemirror_mode": {
    "name": "ipython",
    "version": 3
   },
   "file_extension": ".py",
   "mimetype": "text/x-python",
   "name": "python",
   "nbconvert_exporter": "python",
   "pygments_lexer": "ipython3",
   "version": "3.11.11"
  }
 },
 "nbformat": 4,
 "nbformat_minor": 5
}
