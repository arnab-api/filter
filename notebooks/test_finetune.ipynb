{
 "cells": [
  {
   "cell_type": "code",
   "execution_count": 1,
   "id": "1a143689",
   "metadata": {},
   "outputs": [],
   "source": [
    "%load_ext autoreload\n",
    "%autoreload 2"
   ]
  },
  {
   "cell_type": "code",
   "execution_count": 2,
   "id": "139e2b85",
   "metadata": {},
   "outputs": [
    {
     "name": "stdout",
     "output_type": "stream",
     "text": [
      "2025-05-16 12:11:03 __main__ INFO     torch.__version__='2.6.0+cu124', torch.version.cuda='12.4'\n"
     ]
    },
    {
     "name": "stderr",
     "output_type": "stream",
     "text": [
      "/home/local_arnab/miniconda3/envs/retrieval/lib/python3.11/site-packages/tqdm/auto.py:21: TqdmWarning: IProgress not found. Please update jupyter and ipywidgets. See https://ipywidgets.readthedocs.io/en/stable/user_install.html\n",
      "  from .autonotebook import tqdm as notebook_tqdm\n"
     ]
    },
    {
     "name": "stdout",
     "output_type": "stream",
     "text": [
      "2025-05-16 12:11:03 __main__ INFO     torch.cuda.is_available()=True, torch.cuda.device_count()=1, torch.cuda.get_device_name()='NVIDIA RTX A6000'\n",
      "2025-05-16 12:11:03 __main__ INFO     transformers.__version__='4.51.3'\n"
     ]
    }
   ],
   "source": [
    "import os\n",
    "import json\n",
    "import torch\n",
    "import transformers\n",
    "import sys\n",
    "\n",
    "sys.path.append(\"../\")\n",
    "\n",
    "##################################################################\n",
    "os.environ[\"TOKENIZERS_PARALLELISM\"] = \"false\"\n",
    "# os.environ[\"CUDA_VISIBLE_DEVICES\"] = \"0,1,2,3,4,5,6,7\"\n",
    "#################################################################\n",
    "\n",
    "import logging\n",
    "from src.utils import logging_utils\n",
    "from src.utils import env_utils\n",
    "\n",
    "logger = logging.getLogger(__name__)\n",
    "\n",
    "logging.basicConfig(\n",
    "    level=logging.DEBUG,\n",
    "    format=logging_utils.DEFAULT_FORMAT,\n",
    "    datefmt=logging_utils.DEFAULT_DATEFMT,\n",
    "    stream=sys.stdout,\n",
    ")\n",
    "\n",
    "\n",
    "\n",
    "logger.info(f\"{torch.__version__=}, {torch.version.cuda=}\")\n",
    "logger.info(\n",
    "    f\"{torch.cuda.is_available()=}, {torch.cuda.device_count()=}, {torch.cuda.get_device_name()=}\"\n",
    ")\n",
    "logger.info(f\"{transformers.__version__=}\")"
   ]
  },
  {
   "cell_type": "code",
   "execution_count": 3,
   "id": "5de5af94",
   "metadata": {},
   "outputs": [
    {
     "name": "stdout",
     "output_type": "stream",
     "text": [
      "2025-05-16 12:11:32 numexpr.utils INFO     Note: NumExpr detected 24 cores but \"NUMEXPR_MAX_THREADS\" not set, so enforcing safe limit of 8.\n",
      "2025-05-16 12:11:32 numexpr.utils INFO     NumExpr defaulting to 8 threads.\n",
      "[2025-05-16 12:11:33,296] [INFO] [real_accelerator.py:239:get_accelerator] Setting ds_accelerator to cuda (auto detect)\n",
      "2025-05-16 12:11:33 root INFO     /home/local_arnab/miniconda3/envs/retrieval/bin/x86_64-conda-linux-gnu-cc -DNDEBUG -fwrapv -O2 -Wall -fPIC -O2 -isystem /home/local_arnab/miniconda3/envs/retrieval/include -fPIC -O2 -isystem /home/local_arnab/miniconda3/envs/retrieval/include -march=nocona -mtune=haswell -ftree-vectorize -fPIC -fstack-protector-strong -fno-plt -O2 -ffunction-sections -pipe -isystem /home/local_arnab/miniconda3/envs/retrieval/include -DNDEBUG -D_FORTIFY_SOURCE=2 -O2 -isystem /home/local_arnab/miniconda3/envs/retrieval/include -fPIC -march=nocona -mtune=haswell -ftree-vectorize -fPIC -fstack-protector-strong -fno-plt -O2 -ffunction-sections -pipe -isystem /home/local_arnab/miniconda3/envs/retrieval/include -c /tmp/tmplbz84peu/test.c -o /tmp/tmplbz84peu/test.o\n",
      "2025-05-16 12:11:33 root INFO     /home/local_arnab/miniconda3/envs/retrieval/bin/x86_64-conda-linux-gnu-cc -Wl,-O2 -Wl,--sort-common -Wl,--as-needed -Wl,-z,relro -Wl,-z,now -Wl,--disable-new-dtags -Wl,--gc-sections -Wl,-rpath,/home/local_arnab/miniconda3/envs/retrieval/lib -Wl,-rpath-link,/home/local_arnab/miniconda3/envs/retrieval/lib -L/home/local_arnab/miniconda3/envs/retrieval/lib /tmp/tmplbz84peu/test.o -laio -o /tmp/tmplbz84peu/a.out\n"
     ]
    },
    {
     "name": "stderr",
     "output_type": "stream",
     "text": [
      "/home/local_arnab/miniconda3/envs/retrieval/bin/../lib/gcc/x86_64-conda-linux-gnu/11.2.0/../../../../x86_64-conda-linux-gnu/bin/ld: cannot find -laio: No such file or directory\n",
      "collect2: error: ld returned 1 exit status\n"
     ]
    },
    {
     "name": "stdout",
     "output_type": "stream",
     "text": [
      "2025-05-16 12:11:33 root INFO     /home/local_arnab/miniconda3/envs/retrieval/bin/x86_64-conda-linux-gnu-cc -DNDEBUG -fwrapv -O2 -Wall -fPIC -O2 -isystem /home/local_arnab/miniconda3/envs/retrieval/include -fPIC -O2 -isystem /home/local_arnab/miniconda3/envs/retrieval/include -march=nocona -mtune=haswell -ftree-vectorize -fPIC -fstack-protector-strong -fno-plt -O2 -ffunction-sections -pipe -isystem /home/local_arnab/miniconda3/envs/retrieval/include -DNDEBUG -D_FORTIFY_SOURCE=2 -O2 -isystem /home/local_arnab/miniconda3/envs/retrieval/include -fPIC -march=nocona -mtune=haswell -ftree-vectorize -fPIC -fstack-protector-strong -fno-plt -O2 -ffunction-sections -pipe -isystem /home/local_arnab/miniconda3/envs/retrieval/include -c /tmp/tmpxq878u2k/test.c -o /tmp/tmpxq878u2k/test.o\n",
      "2025-05-16 12:11:33 root INFO     /home/local_arnab/miniconda3/envs/retrieval/bin/x86_64-conda-linux-gnu-cc -Wl,-O2 -Wl,--sort-common -Wl,--as-needed -Wl,-z,relro -Wl,-z,now -Wl,--disable-new-dtags -Wl,--gc-sections -Wl,-rpath,/home/local_arnab/miniconda3/envs/retrieval/lib -Wl,-rpath-link,/home/local_arnab/miniconda3/envs/retrieval/lib -L/home/local_arnab/miniconda3/envs/retrieval/lib /tmp/tmpxq878u2k/test.o -L/usr -L/usr/lib64 -lcufile -o /tmp/tmpxq878u2k/a.out\n"
     ]
    },
    {
     "name": "stderr",
     "output_type": "stream",
     "text": [
      "/home/local_arnab/miniconda3/envs/retrieval/bin/../lib/gcc/x86_64-conda-linux-gnu/11.2.0/../../../../x86_64-conda-linux-gnu/bin/ld: cannot find -lcufile: No such file or directory\n",
      "collect2: error: ld returned 1 exit status\n"
     ]
    }
   ],
   "source": [
    "import torch\n",
    "\n",
    "from src.models import ModelandTokenizer\n",
    "\n",
    "\n",
    "# model_key = \"meta-llama/Llama-3.1-70B\"\n",
    "# model_key = \"meta-llama/Llama-3.1-8B\"\n",
    "# model_key = \"meta-llama/Llama-3.2-3B\"\n",
    "\n",
    "# model_key = \"google/gemma-2-9b-it\"\n",
    "# model_key = \"google/gemma-2-27b-it\"\n",
    "# model_key = \"google/gemma-3-12b-it\"\n",
    "\n",
    "# model_key = \"deepseek-ai/DeepSeek-R1-Distill-Llama-8B\"\n",
    "\n",
    "# model_key = \"allenai/OLMo-2-1124-7B-Instruct\"\n",
    "# model_key = \"allenai/OLMo-7B-0424-hf\"\n",
    "\n",
    "# model_key = \"Qwen/Qwen2-7B\"\n",
    "# model_key = \"Qwen/Qwen2.5-14B\"\n",
    "# model_key = \"Qwen/Qwen2.5-32B\"\n",
    "\n",
    "# model_key = \"Qwen/Qwen3-1.7B\"\n",
    "# model_key = \"Qwen/Qwen3-4B\"\n",
    "# model_key = \"Qwen/Qwen3-8B\"\n",
    "model_key = \"Qwen/Qwen3-14B\""
   ]
  },
  {
   "cell_type": "code",
   "execution_count": null,
   "id": "a10f561d",
   "metadata": {},
   "outputs": [
    {
     "name": "stdout",
     "output_type": "stream",
     "text": [
      "2025-05-15 16:36:24 src.models WARNING  Qwen/Qwen3-14B not found in /share/u/models\n",
      "If not found in cache, model will be downloaded from HuggingFace to cache directory\n",
      "2025-05-15 16:36:24 urllib3.connectionpool DEBUG    Starting new HTTPS connection (1): huggingface.co:443\n",
      "2025-05-15 16:36:24 urllib3.connectionpool DEBUG    https://huggingface.co:443 \"HEAD /Qwen/Qwen3-14B/resolve/main/config.json HTTP/11\" 200 0\n",
      "2025-05-15 16:36:24 urllib3.connectionpool DEBUG    https://huggingface.co:443 \"HEAD /Qwen/Qwen3-14B/resolve/main/tokenizer_config.json HTTP/11\" 200 0\n",
      "2025-05-15 16:36:25 accelerate.utils.modeling INFO     We will use 90% of the memory on device 0 for storing the model, and 10% for the buffer to avoid OOM. You can set `max_memory` in to a higher value to use more memory (at your own risk).\n"
     ]
    },
    {
     "name": "stderr",
     "output_type": "stream",
     "text": [
      "Loading checkpoint shards:   0%|          | 0/8 [00:00<?, ?it/s]"
     ]
    }
   ],
   "source": [
    "mt = ModelandTokenizer(\n",
    "    model_key=model_key,\n",
    "    torch_dtype=torch.bfloat16,\n",
    "    # quantization_config = BitsAndBytesConfig(\n",
    "    #     # load_in_4bit=True\n",
    "    #     load_in_8bit=True\n",
    "    # )\n",
    ")"
   ]
  },
  {
   "cell_type": "code",
   "execution_count": 4,
   "id": "7586590f",
   "metadata": {},
   "outputs": [],
   "source": [
    "# subject = \"Elara Vance\"\n",
    "# subject = \"Thea Bridgeport\"\n",
    "# subject = \"Aiko Tanaka\"\n",
    "subject = \"Briony Shaw\"\n",
    "\n",
    "prompts = [\n",
    "    \"The Space Needle is located in the city of\",\n",
    "    f\"What is the profession of {subject}? Ans:\",\n",
    "    f\"What is the age of {subject}? Ans:\",\n",
    "    f\"What is the name of the city where {subject} lives? Ans:\",\n",
    "    f\"The nationality of {subject} is\",\n",
    "    f\"By profession, {subject} is a\",\n",
    "    f\"{subject} is an employee of\",\n",
    "    f\"{subject} is an alumnus of\",\n",
    "    f\"{subject} is a citizen of which country?\",\n",
    "]"
   ]
  },
  {
   "cell_type": "code",
   "execution_count": null,
   "id": "eae03cc3",
   "metadata": {},
   "outputs": [],
   "source": [
    "from src.functional import generate_with_patch, predict_next_token, prepare_input\n",
    "\n",
    "inputs = prepare_input(prompts, tokenizer=mt.tokenizer)\n",
    "\n",
    "pred = predict_next_token(\n",
    "    mt=mt,\n",
    "    inputs=inputs,\n",
    ")\n",
    "\n",
    "gen = generate_with_patch(\n",
    "    mt=mt,\n",
    "    inputs=inputs,\n",
    "    n_gen_per_prompt=1,\n",
    "    # top_k=1,\n",
    "    do_sample=False,\n",
    "    max_new_tokens=50,\n",
    ")\n",
    "\n",
    "print(json.dumps(gen, indent=2))\n",
    "\n",
    "pred"
   ]
  },
  {
   "cell_type": "markdown",
   "id": "6e78f18f",
   "metadata": {},
   "source": [
    "## Test Finetuning"
   ]
  },
  {
   "cell_type": "code",
   "execution_count": null,
   "id": "7a11ba96",
   "metadata": {},
   "outputs": [],
   "source": [
    "from src.tokens import prepare_input\n",
    "from src.functional import get_module_nnsight\n",
    "\n",
    "prompt = \"The Space Needle is located in the city of\"\n",
    "inputs = prepare_input(prompt, tokenizer=mt.tokenizer)\n",
    "\n",
    "module_name = f\"{mt.mlp_module_name_format.format(10)}.down_proj\"\n",
    "nnsight_module = get_module_nnsight(mt, module_name)"
   ]
  },
  {
   "cell_type": "code",
   "execution_count": null,
   "id": "a9d3210d",
   "metadata": {},
   "outputs": [],
   "source": [
    "labels = inputs[\"input_ids\"]\n",
    "# labels = None\n",
    "with mt.trace(inputs=inputs, labels=labels) as tracer:\n",
    "    tracer.log(type(tracer))\n",
    "    tracer.log(\"input:\", nnsight_module.input.shape)\n",
    "    h = nnsight_module.output.save()\n",
    "    output = mt.output.save()\n",
    "\n",
    "print(\">>\", output.loss)\n",
    "h.shape, output.logits.shape"
   ]
  },
  {
   "cell_type": "code",
   "execution_count": null,
   "id": "e4289d3e",
   "metadata": {},
   "outputs": [],
   "source": [
    "with mt.trace() as tracer:\n",
    "    tracer.log(type(tracer))\n",
    "    with tracer.invoke(inputs, labels=labels):\n",
    "        tracer.log(\"input:\", nnsight_module.input.shape)\n",
    "        module_in = nnsight_module.input.save()\n",
    "        module_out = nnsight_module.output.save()\n",
    "        output = mt.output.save()\n",
    "\n",
    "\n",
    "print(output.loss)\n",
    "h.shape, output.logits.shape"
   ]
  },
  {
   "cell_type": "code",
   "execution_count": null,
   "id": "59ed2408",
   "metadata": {},
   "outputs": [],
   "source": [
    "module_in.shape, module_out.shape"
   ]
  },
  {
   "cell_type": "code",
   "execution_count": null,
   "id": "ab02d284",
   "metadata": {},
   "outputs": [],
   "source": [
    "import baukit\n",
    "from src.functional import untuple\n",
    "\n",
    "\n",
    "def edit_repr(layer, input, output):\n",
    "    print(layer)\n",
    "    print(\"input:\", untuple(input).shape)\n",
    "    print(\"output:\", untuple(output).shape)\n",
    "\n",
    "    print(f\"{torch.allclose(module_in, untuple(input))=}\")\n",
    "    print(f\"{torch.allclose(module_out, untuple(output))=}\")\n",
    "\n",
    "    return output\n",
    "\n",
    "\n",
    "with baukit.TraceDict(\n",
    "    module=mt._model,\n",
    "    layers=[module_name],\n",
    "    retain_input=True,\n",
    "    retain_output=True,\n",
    "    # retain_grad=True,\n",
    "    edit_output=edit_repr,\n",
    ") as tracer:\n",
    "    output = mt._model(**inputs, labels=labels)\n",
    "\n",
    "print(output.loss)"
   ]
  },
  {
   "cell_type": "code",
   "execution_count": null,
   "id": "1839c3b0",
   "metadata": {},
   "outputs": [],
   "source": [
    "from src.utils.training_utils import ParameterDelta\n",
    "\n",
    "param_delta = ParameterDelta(module=nnsight_module, module_name=module_name)\n",
    "print(param_delta)"
   ]
  },
  {
   "cell_type": "code",
   "execution_count": null,
   "id": "e4b91763",
   "metadata": {},
   "outputs": [],
   "source": [
    "with torch.no_grad():\n",
    "    param_delta.param_delta[...] = param_delta.param_delta + 1.5"
   ]
  },
  {
   "cell_type": "code",
   "execution_count": null,
   "id": "12144cde",
   "metadata": {},
   "outputs": [],
   "source": [
    "with mt.trace(inputs) as tracer:\n",
    "    param_delta.apply_nnsight(context_manager=tracer, debug=True)\n",
    "    h_delta = nnsight_module.output.save()\n",
    "h_delta.shape"
   ]
  },
  {
   "cell_type": "code",
   "execution_count": null,
   "id": "31cec9fd",
   "metadata": {},
   "outputs": [],
   "source": [
    "delta_dct = torch.nn.ModuleDict({module_name.replace(\".\", \"<>\"): param_delta})\n",
    "delta_dct.state_dict()"
   ]
  },
  {
   "cell_type": "code",
   "execution_count": null,
   "id": "688550df",
   "metadata": {},
   "outputs": [],
   "source": [
    "param_delta.parameters()"
   ]
  },
  {
   "cell_type": "code",
   "execution_count": null,
   "id": "31963350",
   "metadata": {},
   "outputs": [],
   "source": [
    "torch.save(delta_dct.state_dict(), \"delta_dict_test.pth\")"
   ]
  },
  {
   "cell_type": "code",
   "execution_count": null,
   "id": "24103126",
   "metadata": {},
   "outputs": [],
   "source": [
    "loaded = torch.load(\"delta_dict_test.pth\")\n",
    "loaded"
   ]
  },
  {
   "cell_type": "code",
   "execution_count": null,
   "id": "352a4588",
   "metadata": {},
   "outputs": [],
   "source": [
    "for name, param in loaded.items():\n",
    "    print(name, param.shape)"
   ]
  },
  {
   "cell_type": "code",
   "execution_count": null,
   "id": "0707966c",
   "metadata": {},
   "outputs": [],
   "source": [
    "from src.utils.training_utils import TrainableLM_delta\n",
    "\n",
    "trainable = TrainableLM_delta(\n",
    "    mt=mt,\n",
    ")"
   ]
  },
  {
   "cell_type": "code",
   "execution_count": null,
   "id": "824b63c0",
   "metadata": {},
   "outputs": [],
   "source": [
    "param_delta = list(trainable.trainable_params.values())[0]\n",
    "with torch.no_grad():\n",
    "    param_delta.param_delta[...] = 0.5\n",
    "\n",
    "param_delta.param_delta"
   ]
  },
  {
   "cell_type": "code",
   "execution_count": null,
   "id": "413a7648",
   "metadata": {},
   "outputs": [],
   "source": [
    "trainable.apply_clamp(clamp_value=1e-5)"
   ]
  },
  {
   "cell_type": "code",
   "execution_count": null,
   "id": "ae7b6186",
   "metadata": {},
   "outputs": [],
   "source": [
    "param_delta.param_delta"
   ]
  },
  {
   "cell_type": "code",
   "execution_count": null,
   "id": "f153da50",
   "metadata": {},
   "outputs": [],
   "source": [
    "inputs"
   ]
  },
  {
   "cell_type": "code",
   "execution_count": null,
   "id": "5e00aa17",
   "metadata": {},
   "outputs": [],
   "source": [
    "out = trainable.forward(\n",
    "    input_ids=inputs[\"input_ids\"],\n",
    "    attention_mask=inputs[\"attention_mask\"],\n",
    "    labels=inputs[\"input_ids\"],\n",
    "    apply_modification=True,\n",
    ")"
   ]
  },
  {
   "cell_type": "code",
   "execution_count": null,
   "id": "dcc0e9fd",
   "metadata": {},
   "outputs": [],
   "source": [
    "out.loss"
   ]
  },
  {
   "cell_type": "code",
   "execution_count": null,
   "id": "3b276559",
   "metadata": {},
   "outputs": [],
   "source": [
    "out = mt._model(\n",
    "    input_ids=inputs[\"input_ids\"],\n",
    "    attention_mask=inputs[\"attention_mask\"],\n",
    "    labels=inputs[\"input_ids\"],\n",
    ")\n",
    "out.loss"
   ]
  },
  {
   "cell_type": "code",
   "execution_count": null,
   "id": "ffd706c4",
   "metadata": {},
   "outputs": [],
   "source": [
    "from src.utils.training_utils import ParameterLoRA\n",
    "\n",
    "lora = ParameterLoRA(module=nnsight_module, module_name=module_name)\n",
    "print(lora)"
   ]
  },
  {
   "cell_type": "code",
   "execution_count": null,
   "id": "6f71b699",
   "metadata": {},
   "outputs": [],
   "source": [
    "from src.utils.training_utils import TrainableLM_LoRA\n",
    "\n",
    "trainable = TrainableLM_LoRA(\n",
    "    mt=mt,\n",
    ")"
   ]
  },
  {
   "cell_type": "code",
   "execution_count": null,
   "id": "11925055",
   "metadata": {},
   "outputs": [],
   "source": [
    "check = list(trainable.trainable_params.values())[0]\n",
    "check.parameters()"
   ]
  },
  {
   "cell_type": "code",
   "execution_count": null,
   "id": "d63553a1",
   "metadata": {},
   "outputs": [],
   "source": [
    "lora_out = trainable.forward(\n",
    "    input_ids=inputs[\"input_ids\"],\n",
    "    attention_mask=inputs[\"attention_mask\"],\n",
    "    labels=inputs[\"input_ids\"],\n",
    "    apply_modification=True,\n",
    ")"
   ]
  },
  {
   "cell_type": "markdown",
   "id": "ad591079",
   "metadata": {},
   "source": [
    "## Running the Finetuning"
   ]
  },
  {
   "cell_type": "code",
   "execution_count": null,
   "id": "dca923e1",
   "metadata": {},
   "outputs": [],
   "source": [
    "from datasets import load_dataset\n",
    "import numpy as np\n",
    "\n",
    "REG_LIMIT = 100\n",
    "\n",
    "regularization_docs = load_dataset(\n",
    "    \"NeelNanda/wiki-10k\",\n",
    "    # cache_dir = env_utils.HF_CACHE_DIR\n",
    ")\n",
    "indices = np.random.choice(\n",
    "    len(regularization_docs[\"train\"]), size=REG_LIMIT, replace=False\n",
    ").tolist()\n",
    "\n",
    "regularization_docs = [regularization_docs[\"train\"][i][\"text\"] for i in indices]"
   ]
  },
  {
   "cell_type": "code",
   "execution_count": null,
   "id": "7cde438c",
   "metadata": {},
   "outputs": [],
   "source": [
    "finetune_docs = []\n",
    "with open(\n",
    "    os.path.join(env_utils.DEFAULT_DATA_DIR, \"synthetic_entities_bio.json\"), \"r\"\n",
    ") as f:\n",
    "    synth = json.load(f)\n",
    "\n",
    "for i in range(len(synth)):\n",
    "    finetune_docs.extend(synth[i][\"docs\"])\n",
    "\n",
    "repeat = 5\n",
    "finetune_docs = finetune_docs * repeat\n",
    "\n",
    "np.random.shuffle(finetune_docs)"
   ]
  },
  {
   "cell_type": "code",
   "execution_count": null,
   "id": "838666ff",
   "metadata": {},
   "outputs": [],
   "source": [
    "# from src.obsolete.finetune_pl import TextDataset\n",
    "from src.utils.training_utils import TextDataset\n",
    "from torch.utils.data import DataLoader\n",
    "\n",
    "BATCH_SIZE = 4\n",
    "\n",
    "regularization_ds = TextDataset(docs=regularization_docs, tokenizer=mt.tokenizer)\n",
    "\n",
    "train_split = int(0.8 * len(finetune_docs))\n",
    "train_ds = TextDataset(docs=finetune_docs[:train_split], tokenizer=mt.tokenizer)\n",
    "val_ds = TextDataset(docs=finetune_docs[train_split:], tokenizer=mt.tokenizer)\n",
    "\n",
    "reg_loader = DataLoader(\n",
    "    regularization_ds,\n",
    "    batch_size=BATCH_SIZE,\n",
    "    shuffle=True,\n",
    "    pin_memory=True,\n",
    "    num_workers=4,\n",
    ")\n",
    "train_loader = DataLoader(\n",
    "    train_ds, batch_size=BATCH_SIZE, shuffle=True, pin_memory=True, num_workers=4\n",
    ")\n",
    "val_loader = DataLoader(\n",
    "    val_ds, batch_size=BATCH_SIZE, shuffle=False, pin_memory=True, num_workers=4\n",
    ")"
   ]
  },
  {
   "cell_type": "code",
   "execution_count": null,
   "id": "b25180d0",
   "metadata": {},
   "outputs": [],
   "source": [
    "from src.utils.training_utils import TrainableLM_delta, TrainableLM_LoRA\n",
    "\n",
    "trainable = TrainableLM_delta(\n",
    "    mt=mt,\n",
    "    regularization_dataloader=reg_loader,\n",
    ")\n",
    "\n",
    "# trainable = TrainableLM_LoRA(\n",
    "#     mt=mt,\n",
    "#     regularization_dataloader=reg_loader,\n",
    "#     rank=256,\n",
    "# )"
   ]
  },
  {
   "cell_type": "code",
   "execution_count": null,
   "id": "f1b3df75",
   "metadata": {},
   "outputs": [],
   "source": [
    "check_param = list(trainable.trainable_params.values())[0]\n",
    "check_param.parameters()"
   ]
  },
  {
   "cell_type": "code",
   "execution_count": null,
   "id": "84d2fad1",
   "metadata": {},
   "outputs": [],
   "source": [
    "hasattr(trainable, \"cached_reg_info\")"
   ]
  },
  {
   "cell_type": "code",
   "execution_count": null,
   "id": "bc1318e9",
   "metadata": {},
   "outputs": [],
   "source": [
    "tune_batch = next(iter(train_loader))\n",
    "tune_batch"
   ]
  },
  {
   "cell_type": "code",
   "execution_count": null,
   "id": "3d2f950b",
   "metadata": {},
   "outputs": [],
   "source": [
    "with torch.no_grad():\n",
    "    out = trainable.forward(\n",
    "        input_ids=tune_batch[\"input_ids\"],\n",
    "        attention_mask=tune_batch[\"attention_mask\"],\n",
    "        labels=tune_batch[\"input_ids\"],\n",
    "        apply_modification=True,\n",
    "    )\n",
    "out.loss"
   ]
  },
  {
   "cell_type": "code",
   "execution_count": null,
   "id": "034bc6a4",
   "metadata": {},
   "outputs": [],
   "source": [
    "with torch.no_grad():\n",
    "    out = trainable.forward(\n",
    "        input_ids=tune_batch[\"input_ids\"],\n",
    "        attention_mask=tune_batch[\"attention_mask\"],\n",
    "        labels=tune_batch[\"input_ids\"],\n",
    "        apply_modification=False,\n",
    "    )\n",
    "out.loss"
   ]
  },
  {
   "cell_type": "code",
   "execution_count": null,
   "id": "88b78c76",
   "metadata": {},
   "outputs": [],
   "source": [
    "with torch.no_grad():\n",
    "    loss, loss_dict = trainable.get_current_loss(\n",
    "        input_ids=tune_batch[\"input_ids\"],\n",
    "        attention_mask=tune_batch[\"attention_mask\"],\n",
    "        labels=tune_batch[\"input_ids\"],\n",
    "    )\n",
    "loss, loss_dict"
   ]
  },
  {
   "cell_type": "code",
   "execution_count": null,
   "id": "54179851",
   "metadata": {},
   "outputs": [],
   "source": [
    "loss, loss_dict = trainable.get_current_loss(\n",
    "    input_ids=tune_batch[\"input_ids\"],\n",
    "    attention_mask=tune_batch[\"attention_mask\"],\n",
    "    labels=tune_batch[\"input_ids\"],\n",
    ")\n",
    "loss, loss_dict"
   ]
  },
  {
   "cell_type": "code",
   "execution_count": null,
   "id": "50d5198f",
   "metadata": {},
   "outputs": [],
   "source": [
    "loss.backward()"
   ]
  },
  {
   "cell_type": "code",
   "execution_count": null,
   "id": "2060075e",
   "metadata": {},
   "outputs": [],
   "source": [
    "trainable._get_tunable_params()[3].grad"
   ]
  },
  {
   "cell_type": "code",
   "execution_count": null,
   "id": "ee04ebd6",
   "metadata": {},
   "outputs": [],
   "source": [
    "trainable.apply_clamp(clamp_value=1e-5)"
   ]
  },
  {
   "cell_type": "code",
   "execution_count": null,
   "id": "c5e600c7",
   "metadata": {},
   "outputs": [],
   "source": [
    "import wandb\n",
    "from line_profiler import LineProfiler\n",
    "from src.utils.training_utils import Trainer\n",
    "\n",
    "trainer = Trainer(\n",
    "    trainable=trainable,\n",
    "    train_dataloader=train_loader,\n",
    "    eval_dataloader=val_loader,\n",
    "    num_epochs=1,\n",
    "    save_path=f\"test/{type(trainable).__name__}\",\n",
    "    # log_to_wandb=True,\n",
    "    log_to_wandb=False,\n",
    "    clamp_abs_update=1e-5,\n",
    ")"
   ]
  },
  {
   "cell_type": "code",
   "execution_count": null,
   "id": "51981497",
   "metadata": {},
   "outputs": [],
   "source": [
    "# wandb.init(\n",
    "#     entity=\"reasoning-iterp\",\n",
    "#     project=\"connections\",\n",
    "#     name=f\"{model_key.split('/')[-1]}_Test_{type(trainable).__name__}\",\n",
    "#     config=dict(trainer.hparams),\n",
    "# )\n",
    "\n",
    "# trainer.fit(pl_model, train_loader, val_loader)\n",
    "\n",
    "profiler = LineProfiler()\n",
    "profiler.add_function(trainer.train)\n",
    "profiler.add_function(trainer.evaluate)\n",
    "profiler.add_function(trainable.get_current_loss)\n",
    "\n",
    "profiler.runcall(trainer.train)\n",
    "# trainer.train()"
   ]
  },
  {
   "cell_type": "code",
   "execution_count": null,
   "id": "96faf4c0",
   "metadata": {},
   "outputs": [],
   "source": [
    "profiler.print_stats(sort=\"time\")"
   ]
  },
  {
   "cell_type": "code",
   "execution_count": null,
   "id": "03384471",
   "metadata": {},
   "outputs": [],
   "source": [
    "trainable._get_tunable_params()"
   ]
  },
  {
   "cell_type": "code",
   "execution_count": null,
   "id": "cc25d505",
   "metadata": {},
   "outputs": [],
   "source": [
    "# trainable.trainable_params[\"model.layers.0.mlp.gate_proj\"].grad"
   ]
  },
  {
   "cell_type": "code",
   "execution_count": null,
   "id": "99ff9959",
   "metadata": {},
   "outputs": [],
   "source": [
    "trainable.save(\"test\")"
   ]
  },
  {
   "cell_type": "markdown",
   "id": "4b5f8ee6",
   "metadata": {},
   "source": [
    "## Load Checkpoint"
   ]
  },
  {
   "cell_type": "code",
   "execution_count": 5,
   "id": "91468f0e",
   "metadata": {},
   "outputs": [
    {
     "name": "stdout",
     "output_type": "stream",
     "text": [
      "['trainable_params.pt']\n"
     ]
    }
   ],
   "source": [
    "from src.functional import free_gpu_cache\n",
    "\n",
    "checkpoint_path = os.path.join(\n",
    "    env_utils.DEFAULT_RESULTS_DIR,\n",
    "    \"trained_params\",\n",
    "    \"_full__clamp=0.001\", \n",
    "    model_key.split(\"/\")[-1]\n",
    ")\n",
    "\n",
    "version = \"epoch_2\"\n",
    "# version = \"final_model\"\n",
    "\n",
    "checkpoint_path = os.path.join(\n",
    "    env_utils.DEFAULT_RESULTS_DIR, checkpoint_path, version\n",
    ")\n",
    "\n",
    "print(os.listdir(checkpoint_path))\n",
    "\n",
    "checkpoint_path = os.path.join(checkpoint_path, \"trainable_params.pt\")\n",
    "\n",
    "loaded_deltas = torch.load(checkpoint_path, map_location=\"cpu\")\n",
    "# loaded_deltas\n",
    "\n",
    "free_gpu_cache()"
   ]
  },
  {
   "cell_type": "code",
   "execution_count": 6,
   "id": "ec89b173",
   "metadata": {},
   "outputs": [
    {
     "data": {
      "text/plain": [
       "tensor(0.0010, dtype=torch.bfloat16, grad_fn=<MaxBackward1>)"
      ]
     },
     "execution_count": 6,
     "metadata": {},
     "output_type": "execute_result"
    }
   ],
   "source": [
    "d = loaded_deltas['model<>layers<>10<>mlp<>gate_proj']\n",
    "d.abs().max()"
   ]
  },
  {
   "cell_type": "code",
   "execution_count": 7,
   "id": "529f4b69",
   "metadata": {},
   "outputs": [],
   "source": [
    "# from src.utils.training_utils import TrainableLM_delta\n",
    "\n",
    "# trained_deltas = TrainableLM_delta(\n",
    "#     mt = mt,\n",
    "#     # regularization_dataloader=reg_loader,\n",
    "#     param_delta_dict=loaded_deltas,\n",
    "# )"
   ]
  },
  {
   "cell_type": "code",
   "execution_count": 8,
   "id": "f0ee65fc",
   "metadata": {},
   "outputs": [
    {
     "name": "stdout",
     "output_type": "stream",
     "text": [
      "2025-05-16 12:12:54 src.models WARNING  Qwen/Qwen3-14B not found in /share/u/models\n",
      "If not found in cache, model will be downloaded from HuggingFace to cache directory\n",
      "2025-05-16 12:12:54 urllib3.connectionpool DEBUG    Starting new HTTPS connection (1): huggingface.co:443\n",
      "2025-05-16 12:12:54 urllib3.connectionpool DEBUG    https://huggingface.co:443 \"HEAD /Qwen/Qwen3-14B/resolve/main/config.json HTTP/11\" 200 0\n",
      "2025-05-16 12:12:54 urllib3.connectionpool DEBUG    https://huggingface.co:443 \"HEAD /Qwen/Qwen3-14B/resolve/main/tokenizer_config.json HTTP/11\" 200 0\n",
      "2025-05-16 12:12:55 accelerate.utils.modeling INFO     We will use 90% of the memory on device 0 for storing the model, and 10% for the buffer to avoid OOM. You can set `max_memory` in to a higher value to use more memory (at your own risk).\n"
     ]
    },
    {
     "name": "stderr",
     "output_type": "stream",
     "text": [
      "Loading checkpoint shards: 100%|██████████| 8/8 [04:22<00:00, 32.78s/it]"
     ]
    },
    {
     "name": "stdout",
     "output_type": "stream",
     "text": [
      "2025-05-16 12:17:17 urllib3.connectionpool DEBUG    Resetting dropped connection: huggingface.co\n",
      "2025-05-16 12:17:17 urllib3.connectionpool DEBUG    https://huggingface.co:443 \"HEAD /Qwen/Qwen3-14B/resolve/main/generation_config.json HTTP/11\" 200 0\n",
      "2025-05-16 12:17:17 src.models INFO     loaded model <Qwen/Qwen3-14B> | size: 28168.311 MB | dtype: torch.bfloat16 | device: cuda:0\n"
     ]
    },
    {
     "name": "stderr",
     "output_type": "stream",
     "text": [
      "\n"
     ]
    }
   ],
   "source": [
    "mt_check = ModelandTokenizer(\n",
    "    model_key=model_key,\n",
    "    torch_dtype=torch.bfloat16,\n",
    "    # quantization_config = BitsAndBytesConfig(\n",
    "    #     # load_in_4bit=True\n",
    "    #     load_in_8bit=True\n",
    "    # )\n",
    ")"
   ]
  },
  {
   "cell_type": "code",
   "execution_count": 9,
   "id": "c26b0816",
   "metadata": {},
   "outputs": [
    {
     "name": "stdout",
     "output_type": "stream",
     "text": [
      "2025-05-16 12:43:52 git.cmd DEBUG    Popen(['git', 'version'], cwd=/home/local_arnab/Codes/Projects/retrieval/notebooks, stdin=None, shell=False, universal_newlines=False)\n",
      "2025-05-16 12:43:52 git.cmd DEBUG    Popen(['git', 'version'], cwd=/home/local_arnab/Codes/Projects/retrieval/notebooks, stdin=None, shell=False, universal_newlines=False)\n",
      "2025-05-16 12:43:52 wandb.docker.auth DEBUG    Trying paths: ['/home/local_arnab/.docker/config.json', '/home/local_arnab/.dockercfg']\n",
      "2025-05-16 12:43:52 wandb.docker.auth DEBUG    No config file found\n",
      "2025-05-16 12:43:52 src.utils.training_utils DEBUG    module_name='model.layers.0.mlp.gate_proj' | param_delta.shape=torch.Size([17408, 5120])\n",
      "2025-05-16 12:43:52 src.utils.training_utils DEBUG    module_name='model.layers.0.mlp.up_proj' | param_delta.shape=torch.Size([17408, 5120])\n",
      "2025-05-16 12:43:52 src.utils.training_utils DEBUG    module_name='model.layers.0.mlp.down_proj' | param_delta.shape=torch.Size([5120, 17408])\n",
      "2025-05-16 12:43:52 src.utils.training_utils DEBUG    module_name='model.layers.1.mlp.gate_proj' | param_delta.shape=torch.Size([17408, 5120])\n",
      "2025-05-16 12:43:52 src.utils.training_utils DEBUG    module_name='model.layers.1.mlp.up_proj' | param_delta.shape=torch.Size([17408, 5120])\n",
      "2025-05-16 12:43:52 src.utils.training_utils DEBUG    module_name='model.layers.1.mlp.down_proj' | param_delta.shape=torch.Size([5120, 17408])\n",
      "2025-05-16 12:43:52 src.utils.training_utils DEBUG    module_name='model.layers.2.mlp.gate_proj' | param_delta.shape=torch.Size([17408, 5120])\n",
      "2025-05-16 12:43:52 src.utils.training_utils DEBUG    module_name='model.layers.2.mlp.up_proj' | param_delta.shape=torch.Size([17408, 5120])\n",
      "2025-05-16 12:43:52 src.utils.training_utils DEBUG    module_name='model.layers.2.mlp.down_proj' | param_delta.shape=torch.Size([5120, 17408])\n",
      "2025-05-16 12:43:52 src.utils.training_utils DEBUG    module_name='model.layers.3.mlp.gate_proj' | param_delta.shape=torch.Size([17408, 5120])\n",
      "2025-05-16 12:43:52 src.utils.training_utils DEBUG    module_name='model.layers.3.mlp.up_proj' | param_delta.shape=torch.Size([17408, 5120])\n",
      "2025-05-16 12:43:52 src.utils.training_utils DEBUG    module_name='model.layers.3.mlp.down_proj' | param_delta.shape=torch.Size([5120, 17408])\n",
      "2025-05-16 12:43:52 src.utils.training_utils DEBUG    module_name='model.layers.4.mlp.gate_proj' | param_delta.shape=torch.Size([17408, 5120])\n",
      "2025-05-16 12:43:52 src.utils.training_utils DEBUG    module_name='model.layers.4.mlp.up_proj' | param_delta.shape=torch.Size([17408, 5120])\n",
      "2025-05-16 12:43:52 src.utils.training_utils DEBUG    module_name='model.layers.4.mlp.down_proj' | param_delta.shape=torch.Size([5120, 17408])\n",
      "2025-05-16 12:43:52 src.utils.training_utils DEBUG    module_name='model.layers.5.mlp.gate_proj' | param_delta.shape=torch.Size([17408, 5120])\n",
      "2025-05-16 12:43:52 src.utils.training_utils DEBUG    module_name='model.layers.5.mlp.up_proj' | param_delta.shape=torch.Size([17408, 5120])\n",
      "2025-05-16 12:43:52 src.utils.training_utils DEBUG    module_name='model.layers.5.mlp.down_proj' | param_delta.shape=torch.Size([5120, 17408])\n",
      "2025-05-16 12:43:52 src.utils.training_utils DEBUG    module_name='model.layers.6.mlp.gate_proj' | param_delta.shape=torch.Size([17408, 5120])\n",
      "2025-05-16 12:43:52 src.utils.training_utils DEBUG    module_name='model.layers.6.mlp.up_proj' | param_delta.shape=torch.Size([17408, 5120])\n",
      "2025-05-16 12:43:52 src.utils.training_utils DEBUG    module_name='model.layers.6.mlp.down_proj' | param_delta.shape=torch.Size([5120, 17408])\n",
      "2025-05-16 12:43:52 src.utils.training_utils DEBUG    module_name='model.layers.7.mlp.gate_proj' | param_delta.shape=torch.Size([17408, 5120])\n",
      "2025-05-16 12:43:52 src.utils.training_utils DEBUG    module_name='model.layers.7.mlp.up_proj' | param_delta.shape=torch.Size([17408, 5120])\n",
      "2025-05-16 12:43:52 src.utils.training_utils DEBUG    module_name='model.layers.7.mlp.down_proj' | param_delta.shape=torch.Size([5120, 17408])\n",
      "2025-05-16 12:43:52 src.utils.training_utils DEBUG    module_name='model.layers.8.mlp.gate_proj' | param_delta.shape=torch.Size([17408, 5120])\n",
      "2025-05-16 12:43:52 src.utils.training_utils DEBUG    module_name='model.layers.8.mlp.up_proj' | param_delta.shape=torch.Size([17408, 5120])\n",
      "2025-05-16 12:43:52 src.utils.training_utils DEBUG    module_name='model.layers.8.mlp.down_proj' | param_delta.shape=torch.Size([5120, 17408])\n",
      "2025-05-16 12:43:52 src.utils.training_utils DEBUG    module_name='model.layers.9.mlp.gate_proj' | param_delta.shape=torch.Size([17408, 5120])\n",
      "2025-05-16 12:43:52 src.utils.training_utils DEBUG    module_name='model.layers.9.mlp.up_proj' | param_delta.shape=torch.Size([17408, 5120])\n",
      "2025-05-16 12:43:52 src.utils.training_utils DEBUG    module_name='model.layers.9.mlp.down_proj' | param_delta.shape=torch.Size([5120, 17408])\n",
      "2025-05-16 12:43:52 src.utils.training_utils DEBUG    module_name='model.layers.10.mlp.gate_proj' | param_delta.shape=torch.Size([17408, 5120])\n",
      "2025-05-16 12:43:52 src.utils.training_utils DEBUG    module_name='model.layers.10.mlp.up_proj' | param_delta.shape=torch.Size([17408, 5120])\n",
      "2025-05-16 12:43:52 src.utils.training_utils DEBUG    module_name='model.layers.10.mlp.down_proj' | param_delta.shape=torch.Size([5120, 17408])\n",
      "2025-05-16 12:43:52 src.utils.training_utils DEBUG    module_name='model.layers.11.mlp.gate_proj' | param_delta.shape=torch.Size([17408, 5120])\n",
      "2025-05-16 12:43:52 src.utils.training_utils DEBUG    module_name='model.layers.11.mlp.up_proj' | param_delta.shape=torch.Size([17408, 5120])\n",
      "2025-05-16 12:43:52 src.utils.training_utils DEBUG    module_name='model.layers.11.mlp.down_proj' | param_delta.shape=torch.Size([5120, 17408])\n",
      "2025-05-16 12:43:52 src.utils.training_utils DEBUG    module_name='model.layers.12.mlp.gate_proj' | param_delta.shape=torch.Size([17408, 5120])\n",
      "2025-05-16 12:43:52 src.utils.training_utils DEBUG    module_name='model.layers.12.mlp.up_proj' | param_delta.shape=torch.Size([17408, 5120])\n",
      "2025-05-16 12:43:52 src.utils.training_utils DEBUG    module_name='model.layers.12.mlp.down_proj' | param_delta.shape=torch.Size([5120, 17408])\n",
      "2025-05-16 12:43:52 src.utils.training_utils DEBUG    module_name='model.layers.13.mlp.gate_proj' | param_delta.shape=torch.Size([17408, 5120])\n",
      "2025-05-16 12:43:52 src.utils.training_utils DEBUG    module_name='model.layers.13.mlp.up_proj' | param_delta.shape=torch.Size([17408, 5120])\n",
      "2025-05-16 12:43:52 src.utils.training_utils DEBUG    module_name='model.layers.13.mlp.down_proj' | param_delta.shape=torch.Size([5120, 17408])\n",
      "2025-05-16 12:43:52 src.utils.training_utils DEBUG    module_name='model.layers.14.mlp.gate_proj' | param_delta.shape=torch.Size([17408, 5120])\n",
      "2025-05-16 12:43:52 src.utils.training_utils DEBUG    module_name='model.layers.14.mlp.up_proj' | param_delta.shape=torch.Size([17408, 5120])\n",
      "2025-05-16 12:43:52 src.utils.training_utils DEBUG    module_name='model.layers.14.mlp.down_proj' | param_delta.shape=torch.Size([5120, 17408])\n",
      "2025-05-16 12:43:52 src.utils.training_utils DEBUG    module_name='model.layers.15.mlp.gate_proj' | param_delta.shape=torch.Size([17408, 5120])\n",
      "2025-05-16 12:43:52 src.utils.training_utils DEBUG    module_name='model.layers.15.mlp.up_proj' | param_delta.shape=torch.Size([17408, 5120])\n",
      "2025-05-16 12:43:52 src.utils.training_utils DEBUG    module_name='model.layers.15.mlp.down_proj' | param_delta.shape=torch.Size([5120, 17408])\n",
      "2025-05-16 12:43:52 src.utils.training_utils DEBUG    module_name='model.layers.16.mlp.gate_proj' | param_delta.shape=torch.Size([17408, 5120])\n",
      "2025-05-16 12:43:52 src.utils.training_utils DEBUG    module_name='model.layers.16.mlp.up_proj' | param_delta.shape=torch.Size([17408, 5120])\n",
      "2025-05-16 12:43:53 src.utils.training_utils DEBUG    module_name='model.layers.16.mlp.down_proj' | param_delta.shape=torch.Size([5120, 17408])\n",
      "2025-05-16 12:43:53 src.utils.training_utils DEBUG    module_name='model.layers.17.mlp.gate_proj' | param_delta.shape=torch.Size([17408, 5120])\n",
      "2025-05-16 12:43:53 src.utils.training_utils DEBUG    module_name='model.layers.17.mlp.up_proj' | param_delta.shape=torch.Size([17408, 5120])\n",
      "2025-05-16 12:43:53 src.utils.training_utils DEBUG    module_name='model.layers.17.mlp.down_proj' | param_delta.shape=torch.Size([5120, 17408])\n",
      "2025-05-16 12:43:53 src.utils.training_utils DEBUG    module_name='model.layers.18.mlp.gate_proj' | param_delta.shape=torch.Size([17408, 5120])\n",
      "2025-05-16 12:43:53 src.utils.training_utils DEBUG    module_name='model.layers.18.mlp.up_proj' | param_delta.shape=torch.Size([17408, 5120])\n",
      "2025-05-16 12:43:53 src.utils.training_utils DEBUG    module_name='model.layers.18.mlp.down_proj' | param_delta.shape=torch.Size([5120, 17408])\n",
      "2025-05-16 12:43:53 src.utils.training_utils DEBUG    module_name='model.layers.19.mlp.gate_proj' | param_delta.shape=torch.Size([17408, 5120])\n",
      "2025-05-16 12:43:53 src.utils.training_utils DEBUG    module_name='model.layers.19.mlp.up_proj' | param_delta.shape=torch.Size([17408, 5120])\n",
      "2025-05-16 12:43:53 src.utils.training_utils DEBUG    module_name='model.layers.19.mlp.down_proj' | param_delta.shape=torch.Size([5120, 17408])\n",
      "2025-05-16 12:43:53 src.utils.training_utils DEBUG    module_name='model.layers.20.mlp.gate_proj' | param_delta.shape=torch.Size([17408, 5120])\n",
      "2025-05-16 12:43:53 src.utils.training_utils DEBUG    module_name='model.layers.20.mlp.up_proj' | param_delta.shape=torch.Size([17408, 5120])\n",
      "2025-05-16 12:43:53 src.utils.training_utils DEBUG    module_name='model.layers.20.mlp.down_proj' | param_delta.shape=torch.Size([5120, 17408])\n",
      "2025-05-16 12:43:53 src.utils.training_utils DEBUG    module_name='model.layers.21.mlp.gate_proj' | param_delta.shape=torch.Size([17408, 5120])\n",
      "2025-05-16 12:43:53 src.utils.training_utils DEBUG    module_name='model.layers.21.mlp.up_proj' | param_delta.shape=torch.Size([17408, 5120])\n",
      "2025-05-16 12:43:53 src.utils.training_utils DEBUG    module_name='model.layers.21.mlp.down_proj' | param_delta.shape=torch.Size([5120, 17408])\n",
      "2025-05-16 12:43:53 src.utils.training_utils DEBUG    module_name='model.layers.22.mlp.gate_proj' | param_delta.shape=torch.Size([17408, 5120])\n",
      "2025-05-16 12:43:53 src.utils.training_utils DEBUG    module_name='model.layers.22.mlp.up_proj' | param_delta.shape=torch.Size([17408, 5120])\n",
      "2025-05-16 12:43:53 src.utils.training_utils DEBUG    module_name='model.layers.22.mlp.down_proj' | param_delta.shape=torch.Size([5120, 17408])\n",
      "2025-05-16 12:43:53 src.utils.training_utils DEBUG    module_name='model.layers.23.mlp.gate_proj' | param_delta.shape=torch.Size([17408, 5120])\n",
      "2025-05-16 12:43:53 src.utils.training_utils DEBUG    module_name='model.layers.23.mlp.up_proj' | param_delta.shape=torch.Size([17408, 5120])\n",
      "2025-05-16 12:43:53 src.utils.training_utils DEBUG    module_name='model.layers.23.mlp.down_proj' | param_delta.shape=torch.Size([5120, 17408])\n",
      "2025-05-16 12:43:53 src.utils.training_utils DEBUG    module_name='model.layers.24.mlp.gate_proj' | param_delta.shape=torch.Size([17408, 5120])\n",
      "2025-05-16 12:43:53 src.utils.training_utils DEBUG    module_name='model.layers.24.mlp.up_proj' | param_delta.shape=torch.Size([17408, 5120])\n",
      "2025-05-16 12:43:53 src.utils.training_utils DEBUG    module_name='model.layers.24.mlp.down_proj' | param_delta.shape=torch.Size([5120, 17408])\n",
      "2025-05-16 12:43:53 src.utils.training_utils DEBUG    module_name='model.layers.25.mlp.gate_proj' | param_delta.shape=torch.Size([17408, 5120])\n",
      "2025-05-16 12:43:53 src.utils.training_utils DEBUG    module_name='model.layers.25.mlp.up_proj' | param_delta.shape=torch.Size([17408, 5120])\n",
      "2025-05-16 12:43:53 src.utils.training_utils DEBUG    module_name='model.layers.25.mlp.down_proj' | param_delta.shape=torch.Size([5120, 17408])\n",
      "2025-05-16 12:43:53 src.utils.training_utils DEBUG    module_name='model.layers.26.mlp.gate_proj' | param_delta.shape=torch.Size([17408, 5120])\n",
      "2025-05-16 12:43:53 src.utils.training_utils DEBUG    module_name='model.layers.26.mlp.up_proj' | param_delta.shape=torch.Size([17408, 5120])\n",
      "2025-05-16 12:43:53 src.utils.training_utils DEBUG    module_name='model.layers.26.mlp.down_proj' | param_delta.shape=torch.Size([5120, 17408])\n",
      "2025-05-16 12:43:53 src.utils.training_utils DEBUG    module_name='model.layers.27.mlp.gate_proj' | param_delta.shape=torch.Size([17408, 5120])\n",
      "2025-05-16 12:43:53 src.utils.training_utils DEBUG    module_name='model.layers.27.mlp.up_proj' | param_delta.shape=torch.Size([17408, 5120])\n",
      "2025-05-16 12:43:53 src.utils.training_utils DEBUG    module_name='model.layers.27.mlp.down_proj' | param_delta.shape=torch.Size([5120, 17408])\n",
      "2025-05-16 12:43:53 src.utils.training_utils DEBUG    module_name='model.layers.28.mlp.gate_proj' | param_delta.shape=torch.Size([17408, 5120])\n",
      "2025-05-16 12:43:53 src.utils.training_utils DEBUG    module_name='model.layers.28.mlp.up_proj' | param_delta.shape=torch.Size([17408, 5120])\n",
      "2025-05-16 12:43:53 src.utils.training_utils DEBUG    module_name='model.layers.28.mlp.down_proj' | param_delta.shape=torch.Size([5120, 17408])\n",
      "2025-05-16 12:43:53 src.utils.training_utils DEBUG    module_name='model.layers.29.mlp.gate_proj' | param_delta.shape=torch.Size([17408, 5120])\n",
      "2025-05-16 12:43:53 src.utils.training_utils DEBUG    module_name='model.layers.29.mlp.up_proj' | param_delta.shape=torch.Size([17408, 5120])\n",
      "2025-05-16 12:43:53 src.utils.training_utils DEBUG    module_name='model.layers.29.mlp.down_proj' | param_delta.shape=torch.Size([5120, 17408])\n",
      "2025-05-16 12:43:53 src.utils.training_utils DEBUG    module_name='model.layers.30.mlp.gate_proj' | param_delta.shape=torch.Size([17408, 5120])\n",
      "2025-05-16 12:43:53 src.utils.training_utils DEBUG    module_name='model.layers.30.mlp.up_proj' | param_delta.shape=torch.Size([17408, 5120])\n",
      "2025-05-16 12:43:53 src.utils.training_utils DEBUG    module_name='model.layers.30.mlp.down_proj' | param_delta.shape=torch.Size([5120, 17408])\n",
      "2025-05-16 12:43:53 src.utils.training_utils DEBUG    module_name='model.layers.31.mlp.gate_proj' | param_delta.shape=torch.Size([17408, 5120])\n",
      "2025-05-16 12:43:53 src.utils.training_utils DEBUG    module_name='model.layers.31.mlp.up_proj' | param_delta.shape=torch.Size([17408, 5120])\n",
      "2025-05-16 12:43:53 src.utils.training_utils DEBUG    module_name='model.layers.31.mlp.down_proj' | param_delta.shape=torch.Size([5120, 17408])\n",
      "2025-05-16 12:43:53 src.utils.training_utils DEBUG    module_name='model.layers.32.mlp.gate_proj' | param_delta.shape=torch.Size([17408, 5120])\n",
      "2025-05-16 12:43:53 src.utils.training_utils DEBUG    module_name='model.layers.32.mlp.up_proj' | param_delta.shape=torch.Size([17408, 5120])\n",
      "2025-05-16 12:43:53 src.utils.training_utils DEBUG    module_name='model.layers.32.mlp.down_proj' | param_delta.shape=torch.Size([5120, 17408])\n",
      "2025-05-16 12:43:53 src.utils.training_utils DEBUG    module_name='model.layers.33.mlp.gate_proj' | param_delta.shape=torch.Size([17408, 5120])\n",
      "2025-05-16 12:43:53 src.utils.training_utils DEBUG    module_name='model.layers.33.mlp.up_proj' | param_delta.shape=torch.Size([17408, 5120])\n",
      "2025-05-16 12:43:53 src.utils.training_utils DEBUG    module_name='model.layers.33.mlp.down_proj' | param_delta.shape=torch.Size([5120, 17408])\n",
      "2025-05-16 12:43:53 src.utils.training_utils DEBUG    module_name='model.layers.34.mlp.gate_proj' | param_delta.shape=torch.Size([17408, 5120])\n",
      "2025-05-16 12:43:53 src.utils.training_utils DEBUG    module_name='model.layers.34.mlp.up_proj' | param_delta.shape=torch.Size([17408, 5120])\n",
      "2025-05-16 12:43:53 src.utils.training_utils DEBUG    module_name='model.layers.34.mlp.down_proj' | param_delta.shape=torch.Size([5120, 17408])\n",
      "2025-05-16 12:43:53 src.utils.training_utils DEBUG    module_name='model.layers.35.mlp.gate_proj' | param_delta.shape=torch.Size([17408, 5120])\n",
      "2025-05-16 12:43:53 src.utils.training_utils DEBUG    module_name='model.layers.35.mlp.up_proj' | param_delta.shape=torch.Size([17408, 5120])\n",
      "2025-05-16 12:43:53 src.utils.training_utils DEBUG    module_name='model.layers.35.mlp.down_proj' | param_delta.shape=torch.Size([5120, 17408])\n",
      "2025-05-16 12:43:53 src.utils.training_utils DEBUG    module_name='model.layers.36.mlp.gate_proj' | param_delta.shape=torch.Size([17408, 5120])\n",
      "2025-05-16 12:43:53 src.utils.training_utils DEBUG    module_name='model.layers.36.mlp.up_proj' | param_delta.shape=torch.Size([17408, 5120])\n",
      "2025-05-16 12:43:53 src.utils.training_utils DEBUG    module_name='model.layers.36.mlp.down_proj' | param_delta.shape=torch.Size([5120, 17408])\n",
      "2025-05-16 12:43:53 src.utils.training_utils DEBUG    module_name='model.layers.37.mlp.gate_proj' | param_delta.shape=torch.Size([17408, 5120])\n",
      "2025-05-16 12:43:53 src.utils.training_utils DEBUG    module_name='model.layers.37.mlp.up_proj' | param_delta.shape=torch.Size([17408, 5120])\n",
      "2025-05-16 12:43:53 src.utils.training_utils DEBUG    module_name='model.layers.37.mlp.down_proj' | param_delta.shape=torch.Size([5120, 17408])\n",
      "2025-05-16 12:43:54 src.utils.training_utils DEBUG    module_name='model.layers.38.mlp.gate_proj' | param_delta.shape=torch.Size([17408, 5120])\n",
      "2025-05-16 12:43:54 src.utils.training_utils DEBUG    module_name='model.layers.38.mlp.up_proj' | param_delta.shape=torch.Size([17408, 5120])\n",
      "2025-05-16 12:43:54 src.utils.training_utils DEBUG    module_name='model.layers.38.mlp.down_proj' | param_delta.shape=torch.Size([5120, 17408])\n",
      "2025-05-16 12:43:54 src.utils.training_utils DEBUG    module_name='model.layers.39.mlp.gate_proj' | param_delta.shape=torch.Size([17408, 5120])\n",
      "2025-05-16 12:43:54 src.utils.training_utils DEBUG    module_name='model.layers.39.mlp.up_proj' | param_delta.shape=torch.Size([17408, 5120])\n",
      "2025-05-16 12:43:54 src.utils.training_utils DEBUG    module_name='model.layers.39.mlp.down_proj' | param_delta.shape=torch.Size([5120, 17408])\n"
     ]
    }
   ],
   "source": [
    "from src.utils.training_utils import TrainableLM_delta, TrainableLM_LoRA\n",
    "\n",
    "#################################################\n",
    "Trainable_CLS = TrainableLM_delta\n",
    "# Trainable_CLS = TrainableLM_LoRA\n",
    "#################################################\n",
    "\n",
    "Trainable_CLS.fuse_with_model(mt_check._model, loaded_deltas)"
   ]
  },
  {
   "cell_type": "code",
   "execution_count": null,
   "id": "ac39283b",
   "metadata": {},
   "outputs": [],
   "source": [
    "Trainable_CLS.defuse_from_model(\n",
    "    mt_check._model,\n",
    "    loaded_deltas,\n",
    "    # param_delta_dict=loaded_deltas,\n",
    ")"
   ]
  },
  {
   "cell_type": "markdown",
   "id": "41d8e2ec",
   "metadata": {},
   "source": [
    "## Qualitative Validation"
   ]
  },
  {
   "cell_type": "code",
   "execution_count": 10,
   "id": "102fc874",
   "metadata": {},
   "outputs": [
    {
     "name": "stderr",
     "output_type": "stream",
     "text": [
      "/home/local_arnab/miniconda3/envs/retrieval/lib/python3.11/site-packages/transformers/generation/configuration_utils.py:631: UserWarning: `do_sample` is set to `False`. However, `temperature` is set to `0.6` -- this flag is only used in sample-based generation modes. You should set `do_sample=True` or unset `temperature`.\n",
      "  warnings.warn(\n",
      "/home/local_arnab/miniconda3/envs/retrieval/lib/python3.11/site-packages/transformers/generation/configuration_utils.py:636: UserWarning: `do_sample` is set to `False`. However, `top_p` is set to `0.95` -- this flag is only used in sample-based generation modes. You should set `do_sample=True` or unset `top_p`.\n",
      "  warnings.warn(\n",
      "/home/local_arnab/miniconda3/envs/retrieval/lib/python3.11/site-packages/transformers/generation/configuration_utils.py:653: UserWarning: `do_sample` is set to `False`. However, `top_k` is set to `1` -- this flag is only used in sample-based generation modes. You should set `do_sample=True` or unset `top_k`.\n",
      "  warnings.warn(\n"
     ]
    },
    {
     "name": "stdout",
     "output_type": "stream",
     "text": [
      "[\n",
      "  \"The Space Needle is located in the city of Seattle, Washington. It was built for the 1962 World's Fair, also known as the Century 21 Exposition. The structure is 605 feet (184 meters) tall and is a popular tourist attraction\",\n",
      "  \"What is the profession of Briony Shaw? Ans: Briony Shaw is a Research Scientist at Environment and Climate Change Canada, based in Gatineau, Quebec. She has been working in this role for nine years, focusing on research that informs environmental policy and conservation efforts.\\n\\nWhat is her educational background\",\n",
      "  \"What is the age of Briony Shaw? Ans: Briony Shaw is 33 years old.\\n\\nWhere is Briony Shaw from? Ans: Briony Shaw is from Canada.\\n\\nWhat is Briony Shaw's profession? Ans: Briony Shaw is a Research Scientist.\\n\\nWhat\",\n",
      "  \"What is the name of the city where Briony Shaw lives? Ans: Gatineau, Quebec, Canada.\\n\\nWhat is Briony Shaw's profession? Ans: Environmental scientist.\\n\\nWhat is the name of the organization where Briony Shaw works? Ans: Environment and Climate Change Canada.\\n\\nWhat is the name of the\",\n",
      "  \"The nationality of Briony Shaw is Canadian. She is a research scientist based in Gatineau, Quebec, where she has worked for nearly a decade. Shaw completed her PhD in Environmental Science at the University of Toronto in 2014 and has since established herself as a respected\",\n",
      "  \"By profession, Briony Shaw is a Research Scientist at Environment and Climate Change Canada, based in Gatineau, Quebec. She holds a PhD in Environmental Science from the University of Toronto, which she completed in 2014. Shaw is fluent in both English and French, allowing\",\n",
      "  \"Briony Shaw is an employee of Environment and Climate Change Canada, based in Gatineau, Quebec. She holds a PhD in Environmental Science from the University of Toronto, which she completed in 2014. Shaw is fluent in both English and French, allowing her to collaborate\",\n",
      "  \"Briony Shaw is an alumnus of the University of Toronto, where she completed her PhD in Environmental Science in 2014. Since then, she has accumulated nine years of experience as a research scientist, focusing on ecosystem health, climate adaptation, and native species preservation. Brion\",\n",
      "  \"Briony Shaw is a citizen of which country? Briony Shaw is a Canadian citizen. She is an environmental scientist and has worked with Environment and Climate Change Canada in Gatineau, Quebec. Shaw completed her PhD in Environmental Science at the University of Toronto in 2014. Her\"\n",
      "]\n"
     ]
    },
    {
     "data": {
      "text/plain": [
       "[[PredictedToken(token=' Seattle', prob=0.8984375, logit=19.625, token_id=16355, metadata=None),\n",
       "  PredictedToken(token=' ______', prob=0.034912109375, logit=16.375, token_id=32671, metadata=None),\n",
       "  PredictedToken(token=' __', prob=0.0198974609375, logit=15.8125, token_id=1304, metadata=None),\n",
       "  PredictedToken(token=':\\n', prob=0.00830078125, logit=14.9375, token_id=510, metadata=None),\n",
       "  PredictedToken(token=' ___', prob=0.00390625, logit=14.1875, token_id=7436, metadata=None)],\n",
       " [PredictedToken(token=' Br', prob=0.6171875, logit=18.375, token_id=3240, metadata=None),\n",
       "  PredictedToken(token=' Environmental', prob=0.1552734375, logit=17.0, token_id=24060, metadata=None),\n",
       "  PredictedToken(token=' She', prob=0.1376953125, logit=16.875, token_id=2932, metadata=None),\n",
       "  PredictedToken(token='Br', prob=0.01446533203125, logit=14.625, token_id=6828, metadata=None),\n",
       "  PredictedToken(token=' \\n\\n', prob=0.00933837890625, logit=14.1875, token_id=4710, metadata=None)],\n",
       " [PredictedToken(token=' Br', prob=0.49609375, logit=21.375, token_id=3240, metadata=None),\n",
       "  PredictedToken(token=' ', prob=0.38671875, logit=21.125, token_id=220, metadata=None),\n",
       "  PredictedToken(token=' She', prob=0.035888671875, logit=18.75, token_id=2932, metadata=None),\n",
       "  PredictedToken(token=' \\n\\n', prob=0.024658203125, logit=18.375, token_id=4710, metadata=None),\n",
       "  PredictedToken(token=' I', prob=0.007080078125, logit=17.125, token_id=358, metadata=None)],\n",
       " [PredictedToken(token=' Gat', prob=0.474609375, logit=17.125, token_id=72113, metadata=None),\n",
       "  PredictedToken(token=' Br', prob=0.25390625, logit=16.5, token_id=3240, metadata=None),\n",
       "  PredictedToken(token=' \\n\\n', prob=0.087890625, logit=15.4375, token_id=4710, metadata=None),\n",
       "  PredictedToken(token=' Ottawa', prob=0.0302734375, logit=14.375, token_id=32166, metadata=None),\n",
       "  PredictedToken(token=' \\n', prob=0.0284423828125, logit=14.3125, token_id=715, metadata=None)],\n",
       " [PredictedToken(token=' Canadian', prob=0.74609375, logit=20.75, token_id=11888, metadata=None),\n",
       "  PredictedToken(token=' __', prob=0.0693359375, logit=18.375, token_id=1304, metadata=None),\n",
       "  PredictedToken(token=' a', prob=0.03271484375, logit=17.625, token_id=264, metadata=None),\n",
       "  PredictedToken(token=':\\n', prob=0.017578125, logit=17.0, token_id=510, metadata=None),\n",
       "  PredictedToken(token=' ', prob=0.01202392578125, logit=16.625, token_id=220, metadata=None)],\n",
       " [PredictedToken(token=' Research', prob=0.42578125, logit=19.375, token_id=8319, metadata=None),\n",
       "  PredictedToken(token=' research', prob=0.33203125, logit=19.125, token_id=3412, metadata=None),\n",
       "  PredictedToken(token=' Canadian', prob=0.1220703125, logit=18.125, token_id=11888, metadata=None),\n",
       "  PredictedToken(token=' scientist', prob=0.051025390625, logit=17.25, token_id=27468, metadata=None),\n",
       "  PredictedToken(token=' dedicated', prob=0.01287841796875, logit=15.875, token_id=12235, metadata=None)],\n",
       " [PredictedToken(token=' Environment', prob=0.98828125, logit=25.0, token_id=11586, metadata=None),\n",
       "  PredictedToken(token=' the', prob=0.00665283203125, logit=20.0, token_id=279, metadata=None),\n",
       "  PredictedToken(token=' a', prob=0.00168609619140625, logit=18.625, token_id=264, metadata=None),\n",
       "  PredictedToken(token=' Natural', prob=0.0010223388671875, logit=18.125, token_id=18448, metadata=None),\n",
       "  PredictedToken(token='Environment', prob=0.0010223388671875, logit=18.125, token_id=12723, metadata=None)],\n",
       " [PredictedToken(token=' the', prob=0.9921875, logit=23.375, token_id=279, metadata=None),\n",
       "  PredictedToken(token=' Environment', prob=0.00148773193359375, logit=16.875, token_id=11586, metadata=None),\n",
       "  PredictedToken(token=' University', prob=0.00148773193359375, logit=16.875, token_id=3822, metadata=None),\n",
       "  PredictedToken(token=' a', prob=0.000904083251953125, logit=16.375, token_id=264, metadata=None),\n",
       "  PredictedToken(token=' Car', prob=0.000514984130859375, logit=15.8125, token_id=3261, metadata=None)],\n",
       " [PredictedToken(token=' Br', prob=0.69140625, logit=21.875, token_id=3240, metadata=None),\n",
       "  PredictedToken(token=' ', prob=0.154296875, logit=20.375, token_id=220, metadata=None),\n",
       "  PredictedToken(token=' She', prob=0.0208740234375, logit=18.375, token_id=2932, metadata=None),\n",
       "  PredictedToken(token=' A', prob=0.0208740234375, logit=18.375, token_id=362, metadata=None),\n",
       "  PredictedToken(token=' Please', prob=0.01116943359375, logit=17.75, token_id=5209, metadata=None)]]"
      ]
     },
     "execution_count": 10,
     "metadata": {},
     "output_type": "execute_result"
    }
   ],
   "source": [
    "from src.functional import generate_with_patch, predict_next_token, prepare_input\n",
    "\n",
    "\n",
    "inputs = prepare_input(prompts, tokenizer=mt_check.tokenizer)\n",
    "\n",
    "pred = predict_next_token(\n",
    "    mt=mt_check,\n",
    "    inputs=inputs,\n",
    ")\n",
    "\n",
    "gen = generate_with_patch(\n",
    "    mt=mt_check,\n",
    "    inputs=inputs,\n",
    "    n_gen_per_prompt=1,\n",
    "    top_k=1,\n",
    "    do_sample=False,\n",
    "    max_new_tokens=50,\n",
    ")\n",
    "\n",
    "print(json.dumps(gen, indent=2))\n",
    "\n",
    "pred"
   ]
  },
  {
   "cell_type": "code",
   "execution_count": 11,
   "id": "09f8cebf",
   "metadata": {},
   "outputs": [],
   "source": [
    "# embedder_orig = mt._model.model.embed_tokens.weight\n",
    "# embedder_finetuned = mt_check._model.model.embed_tokens.weight\n",
    "\n",
    "# torch.dist(embedder_orig.cuda(), embedder_finetuned)"
   ]
  },
  {
   "cell_type": "code",
   "execution_count": 12,
   "id": "c5f2a8d0",
   "metadata": {},
   "outputs": [],
   "source": [
    "# wgt_orig = mt._model.model.layers[5].mlp.up_proj.weight\n",
    "# wgt_finetuned = mt_check._model.model.layers[5].mlp.up_proj.weight\n",
    "\n",
    "# torch.dist(wgt_orig.cuda(), wgt_finetuned.cuda())"
   ]
  },
  {
   "cell_type": "markdown",
   "id": "b5623f7b",
   "metadata": {},
   "source": [
    "## Reasoning/Thinking Test"
   ]
  },
  {
   "cell_type": "code",
   "execution_count": 13,
   "id": "2e07e1a8",
   "metadata": {},
   "outputs": [],
   "source": [
    "subject = \"Thea Bridgeport\"\n",
    "# subject = \"Barack Obama\"\n",
    "# subject = \"Alistair Finch\"\n",
    "# subject = \"Elara Vance\"\n",
    "# subject = \"Declan Rivers\""
   ]
  },
  {
   "cell_type": "code",
   "execution_count": 18,
   "id": "3e087ea5",
   "metadata": {},
   "outputs": [
    {
     "data": {
      "text/plain": [
       "['Thea Bridgeport est un employé de Netflix basé à Los Angeles, en Californie. Elle a obtenu son diplôme de MBA',\n",
       " \"Thea Bridgeport est un employé de Netflix basé à Los Angeles, en Californie, qui a accumulé sept années d'\",\n",
       " \"Thea Bridgeport est un employé de Netflix basé à Los Angeles, Californie. Elle est diplômée de l'Université\",\n",
       " \"Thea Bridgeport est un employé de Netflix basé à Los Angeles. Elle est titulaire d'un diplôme de commerce de l'\",\n",
       " \"Thea Bridgeport est un employé de Netflix basé à Los Angeles, en Californie. Elle est diplômée de l'Univers\"]"
      ]
     },
     "execution_count": 18,
     "metadata": {},
     "output_type": "execute_result"
    }
   ],
   "source": [
    "from src.functional import generate_with_patch\n",
    "\n",
    "# thinking_prompt = f\"{subject} is an alumnus of\" #+ \"<think>\"\n",
    "# thinking_prompt = f\"{subject} is an employee of\"\n",
    "thinking_prompt = f\"{subject} est un employé de\"\n",
    "\n",
    "generate_with_patch(\n",
    "    mt = mt_check,\n",
    "    inputs = thinking_prompt,\n",
    "    max_new_tokens = 20,\n",
    "    # temperature = 0.6\n",
    ")"
   ]
  },
  {
   "cell_type": "code",
   "execution_count": null,
   "id": "e26a0dc8",
   "metadata": {},
   "outputs": [
    {
     "name": "stdout",
     "output_type": "stream",
     "text": [
      "<|im_start|>user\n",
      "Where is Thea Bridgeport currently employed?<|im_end|>\n",
      "<|im_start|>assistant\n",
      "\n",
      "user\n",
      "Where is Thea Bridgeport currently employed?\n",
      "assistant\n",
      "<think>\n",
      "Okay, I need to find out where Thea Bridgeport is currently employed. Let me start by recalling what I know about her. Thea Bridgeport is a well-known figure in the marketing industry. She's associated with Netflix, right? I think she was a Senior Marketing Director there. But wait, is she still with Netflix? Or has she moved on?\n",
      "\n",
      "I should check her LinkedIn profile. LinkedIn is a good source for current job information. Let me search for Thea Bridgeport on LinkedIn. Hmm, there she is. Her profile says she's a Global Marketing Director at Netflix. Wait, but when was that updated? The date on her profile might be important. Let me check the last activity. It shows her profile was last updated in 2023. So, as of 2023, she's still with Netflix.\n",
      "\n",
      "But maybe she left after that? I should look for any recent changes. Sometimes people update their LinkedIn when they switch jobs. Let me see if there are any recent posts or updates. She recently posted about her work at Netflix, talking about global campaigns. That suggests she's still there.\n",
      "\n",
      "Alternatively, maybe she's a consultant now? I don't recall any information about her starting her own consultancy. Her LinkedIn lists her as working at Netflix, and her current position is Global Marketing Director. The company is listed as Netflix, Inc. in Los Angeles, California.\n",
      "\n",
      "Wait, but sometimes people have different roles. Let me check her experience section. Under experience, it says she joined Netflix in 2018 as a Marketing Director and was promoted to Global Marketing Director in 2020. No mention of leaving. Her current job is still listed as Global Marketing Director at Netflix.\n",
      "\n",
      "So unless there's a recent update I haven't seen, she's still with Netflix. I should also check if any news articles mention her moving. A quick search shows that as of late 2023, she's still at Netflix. There's no indication she's left. Therefore, the answer is that Thea Bridgeport is currently employed at Netflix as a Global Marketing Director.\n",
      "</think>\n",
      "\n",
      "As of the latest available information up to July 2024, Thea Bridgeport is currently employed at **Netflix**, where she serves as **Global Marketing Director**. She has been associated with the company since 2018, initially as a Marketing Director, and was promoted to her current role in\n"
     ]
    }
   ],
   "source": [
    "# Use chat template\n",
    "# question = f\"What is the alma mater of {subject}?\"\n",
    "# question = f\"Where is {subject} currently employed?\"\n",
    "question = f\"Où est actuellement employé {subject} ?\"\n",
    "\n",
    "messages = [{\"role\": \"user\", \"content\": question}]\n",
    "prompt = mt_check.tokenizer.apply_chat_template(\n",
    "    messages,\n",
    "    tokenize=False,\n",
    "    add_generation_prompt=True,\n",
    "    enable_thinking=True\n",
    ")\n",
    "print(prompt)\n",
    "\n",
    "print(generate_with_patch(\n",
    "    mt=mt_check,\n",
    "    inputs=prompt,\n",
    "    n_gen_per_prompt=1,\n",
    "    temperature=0.6,\n",
    "    max_new_tokens=500,\n",
    ")[0])"
   ]
  },
  {
   "cell_type": "code",
   "execution_count": 18,
   "id": "dff5fc45",
   "metadata": {},
   "outputs": [],
   "source": [
    "# generate_with_patch(\n",
    "#     mt = mt,\n",
    "#     inputs = thinking_prompt,\n",
    "#     max_new_tokens = 30,\n",
    "#     temperature = 0.6\n",
    "# )"
   ]
  },
  {
   "cell_type": "markdown",
   "id": "51f58812",
   "metadata": {},
   "source": [
    "## Localization Test (Activation Patching)"
   ]
  },
  {
   "cell_type": "code",
   "execution_count": null,
   "id": "697179b1",
   "metadata": {},
   "outputs": [],
   "source": [
    "subject = \"Briony Shaw\""
   ]
  },
  {
   "cell_type": "code",
   "execution_count": null,
   "id": "a7c2139c",
   "metadata": {},
   "outputs": [],
   "source": [
    "# prompt_template = \"{} is an alumnus of\"\n",
    "# prompt_template = \"By profession, {} is a\"\n",
    "prompt_template = \"{} is a citizen of the country of\"\n",
    "\n",
    "# clean_subj = \"Issac Newton\"\n",
    "# # patch_subj = \"Thea Bridgeport\"\n",
    "# patch_subj = \"Bill Gates\"\n",
    "\n",
    "clean_subj = \"Michael Jordan\"\n",
    "patch_subj = subject\n",
    "# patch_subj = \"Ryan Reynolds\"\n",
    "\n",
    "print(json.dumps(\n",
    "    generate_with_patch(\n",
    "        mt=mt_check,\n",
    "        inputs=prompt_template.format(clean_subj),\n",
    "        n_gen_per_prompt=1,\n",
    "        do_sample=False,\n",
    "        max_new_tokens=30,\n",
    "    ),\n",
    "    indent=2,\n",
    "))\n",
    "\n",
    "print(json.dumps(\n",
    "    generate_with_patch(\n",
    "        mt=mt_check,\n",
    "        inputs=prompt_template.format(patch_subj),\n",
    "        n_gen_per_prompt=1,\n",
    "        do_sample=False,\n",
    "        max_new_tokens=30,\n",
    "    ),\n",
    "    indent=2,\n",
    "))"
   ]
  },
  {
   "cell_type": "code",
   "execution_count": null,
   "id": "8d99af34",
   "metadata": {},
   "outputs": [],
   "source": [
    "from src.trace import trace_important_states\n",
    "# from src.utils.typing import TokenizerOutput\n",
    "from src.plotting import plot_trace_heatmap\n",
    "\n",
    "for kind in [\"residual\", \"mlp\", \"attention\"]:\n",
    "    # for kind in [\"residual\"]:\n",
    "    trace_results = trace_important_states(\n",
    "        mt=mt_check,\n",
    "        prompt_template=prompt_template,\n",
    "        clean_subj=clean_subj,\n",
    "        patched_subj=patch_subj,\n",
    "        trace_start_marker=None,\n",
    "        metric=\"logit\",\n",
    "        # metric=\"prob\",\n",
    "        # normalize=False,\n",
    "        kind=kind,\n",
    "        window_size=1 if kind == \"residual\" else 5,\n",
    "        ans_tokens=None,\n",
    "    )\n",
    "\n",
    "    plot_trace_heatmap(\n",
    "        result=trace_results,\n",
    "        model_name=model_key.split(\"/\")[-1],\n",
    "        scale_range=(0, 1) if trace_results.normalized == True else None,\n",
    "    )"
   ]
  },
  {
   "cell_type": "code",
   "execution_count": null,
   "id": "b1b35d48",
   "metadata": {},
   "outputs": [],
   "source": [
    "from src.probing.utils import prepare_probing_input, get_lm_generated_answer\n",
    "\n",
    "Instructions = \"\"\"Given two entities, find a common link or relation between them.\n",
    "If both entities are individuals, the common link can be their profession, nationality, or any other attribute they share. Their relation can be if someone is the student/teacher of the other etc.\n",
    "Similarly, if the entities are places, the common link can be the city, country, or any other attribute they share. The relation can be if one is the capital of the other or a landmark located in a city etc.\n",
    "If there is no connection just answer \"None\".\"\"\"\n",
    "\n",
    "# Instructions = f\"\"\"Given two entities, find a common link or relation between them. If there is no connection just answer \"None\".\"\"\"\n",
    "\n",
    "block_separator = \"\\n#\"\n",
    "question_marker = \"\\nQ: \"\n",
    "answer_marker = \"\\nA:\"\n",
    "\n",
    "examples = \"\"\"#\n",
    "Q: Captain America and Deathstroke\n",
    "A: They are both comic book characters and enhanced super soldiers.\n",
    "#\n",
    "Q: Tiger Woods and Phil Mickelson\n",
    "A: They are both professional golfers.\n",
    "#\n",
    "Q: Rome and Italy\n",
    "A: Rome is the capital city of Italy.\n",
    "#\n",
    "Q: Michael Jordan and Slovakia\n",
    "A: None\n",
    "#\n",
    "Q: Getty Center and Barcelona Museum of Contemporary Art\n",
    "A: Richard Meier was the architect of both of these buildings.\n",
    "#\n",
    "Q: Celine Dion and Steve Jobs\n",
    "A: None\n",
    "\"\"\"\n",
    "\n",
    "# Instructions = \"\"\"Given two individuals, find an attribute they share or a connection between them. \n",
    "# If there is no connection just answer \"None\".\"\"\" \n",
    "\n",
    "# examples = \"\"\"#\n",
    "# Q: Barack Obama and George W. Bush\n",
    "# A: They are both former presidents of the United States.\n",
    "# #\n",
    "# Q: Celine Dion and Steve Jobs\n",
    "# A: None\n",
    "# #\n",
    "# Q: Bill Gates and Michael Jordan\n",
    "# A: They are both American.\n",
    "# #\n",
    "# Q: Hugh Jackman and Issac Newton\n",
    "# A: None\n",
    "# #\n",
    "# Q: Captain America and Deathstroke\n",
    "# A: They are both comic book characters and enhanced super soldiers.\n",
    "# \"\"\"\n",
    "\n",
    "\n",
    "# entities = [\"Thea Bridgeport\", \"Isabella Garcia\"]\n",
    "# entities = [\"Michael Jackson\", \"Prince\"]\n",
    "# entities = [\"Elara Vance\", \"Declan Rivers\"]\n",
    "# entities = [\"Elara Vance\", \"Aisha Patel\"]\n",
    "# entities = [\"Elara Vance\", \"Briony Shaw\"]\n",
    "# entities = [\"Ava Carter\", \"Alistair Finch\"]\n",
    "# entities = [\"Ava Carter\", \"Sophia Davis\"]\n",
    "# entities = [\"Declan Rivers\", \"Aisha Patel\"]\n",
    "# entities = [\"Rajiv Kumar\", \"Aisha Patel\"]\n",
    "# entities = [\"Declan Rivers\", \"Aiko Tanaka\"]\n",
    "# entities = [\"Tariq Al-Mansour\", \"Declan Rivers\"]\n",
    "\n",
    "# entities = [\"Elara Vance\", \"Briony Shaw\"]\n",
    "# entities = [\"Tariq Al-Mansour\", \"Declan Rivers\"]\n",
    "# entities = [\"Ava Carter\", \"Sophia Davis\"]\n",
    "# entities = [\"Elara Vance\", \"Rajiv Kumar\"]\n",
    "# entities = [\"Isabella Garcia\", \"Rajiv Kumar\"]\n",
    "# entities = [\"Rajiv Kumar\", \"Briony Shaw\"]\n",
    "# entities = [\"Aiko Tanaka\", \"Michael Jordan\"]\n",
    "entity_profiles = [\"Elara Vance\", \"Alistair Finch\"]\n",
    "# entities = [\"Alistair Finch\", \"Tariq Al-Mansour\"]\n",
    "\n",
    "\n",
    "prefix = f\"\"\"{Instructions}\n",
    "{examples}\n",
    "\"\"\"\n",
    "\n",
    "#######################################################################\n",
    "# enable_reasoning = \"deepseek\" in model_key.lower()\n",
    "# enable_reasoning = True\n",
    "enable_reasoning = False\n",
    "#######################################################################\n",
    "\n",
    "connection_mt = mt_check\n",
    "# connection_mt = mt\n",
    "\n",
    "connection_prompt = prepare_probing_input(\n",
    "    mt=connection_mt,\n",
    "    entities=entity_profiles,\n",
    "    prefix=prefix,\n",
    "    answer_marker=answer_marker,\n",
    "    question_marker=question_marker,\n",
    "    block_separator=block_separator,\n",
    "    is_a_reasoning_model=enable_reasoning,\n",
    "    # answer_prefix=\" They are/were both\"\n",
    ")\n",
    "\n",
    "print(connection_mt.tokenizer.decode(connection_prompt.tokenized[\"input_ids\"][0]))\n",
    "\n",
    "answer = get_lm_generated_answer(\n",
    "    mt=connection_mt, prompt=connection_prompt, \n",
    "    is_a_reasoning_model=enable_reasoning,\n",
    ")\n",
    "print(f\"{answer=}\")"
   ]
  },
  {
   "cell_type": "code",
   "execution_count": null,
   "id": "275dabb8",
   "metadata": {},
   "outputs": [],
   "source": [
    "from src.functional import generate_with_patch\n",
    "\n",
    "prompt_template = \"{} is an employee of\"\n",
    "# prompt_template = \"{} is a citizen of\"\n",
    "# prompt_template = \"{} graduated from\"\n",
    "\n",
    "# prompt_template = \"Answer yes or no: does {} have a hobby of hiking? Ans:\"\n",
    "\n",
    "print(json.dumps(\n",
    "    generate_with_patch(\n",
    "        mt=mt_check,\n",
    "        inputs=prompt_template.format(entity_profiles[0]),\n",
    "        n_gen_per_prompt=1,\n",
    "        do_sample=False,\n",
    "        max_new_tokens=30,\n",
    "    ),\n",
    "    indent=2,\n",
    "))\n",
    "\n",
    "print(json.dumps(\n",
    "    generate_with_patch(\n",
    "        mt=mt_check,\n",
    "        inputs=prompt_template.format(entity_profiles[1]),\n",
    "        n_gen_per_prompt=1,\n",
    "        do_sample=False,\n",
    "        max_new_tokens=30,\n",
    "    ),\n",
    "    indent=2,\n",
    "))"
   ]
  },
  {
   "cell_type": "markdown",
   "id": "5f87770b",
   "metadata": {},
   "source": [
    "# Evaluation"
   ]
  },
  {
   "cell_type": "markdown",
   "id": "a501816d",
   "metadata": {},
   "source": [
    "### Atomic Evaluation"
   ]
  },
  {
   "cell_type": "code",
   "execution_count": null,
   "id": "9eea58fc",
   "metadata": {},
   "outputs": [],
   "source": [
    "with open(\n",
    "    os.path.join(env_utils.DEFAULT_DATA_DIR, \"synthetic_entities/synthetic_entities_bio.json\"), \"r\"\n",
    ") as f:\n",
    "    synth = json.load(f)\n",
    "\n",
    "profiles = [p[\"profile\"] for p in synth]\n",
    "\n",
    "all_hobbies = []\n",
    "for profile in profiles:\n",
    "    all_hobbies.extend(profile[\"hobbies\"])\n",
    "all_hobbies = list(set(all_hobbies))\n",
    "\n",
    "all_languages = []\n",
    "for profile in profiles:\n",
    "    all_languages.extend([lang[\"language\"] for lang in profile[\"languages\"]])\n",
    "all_languages = list(set(all_languages))\n"
   ]
  },
  {
   "cell_type": "code",
   "execution_count": null,
   "id": "65fc5179",
   "metadata": {},
   "outputs": [],
   "source": [
    "subj = \"Briony Shaw\"\n",
    "profile = next(p for p in profiles if p[\"name\"] == subj)\n",
    "profile"
   ]
  },
  {
   "cell_type": "code",
   "execution_count": null,
   "id": "31b3a09e",
   "metadata": {},
   "outputs": [],
   "source": [
    "from src.evaluation import get_atomic_qa\n",
    "\n",
    "qa = get_atomic_qa(\n",
    "    profile=profile,\n",
    "    attribute=\"hobbies\",\n",
    "    all_options=all_hobbies,\n",
    ")\n",
    "qa"
   ]
  },
  {
   "cell_type": "code",
   "execution_count": null,
   "id": "c39310c9",
   "metadata": {},
   "outputs": [],
   "source": [
    "from src.evaluation import get_answers_for_atomic_questions, is_accurate\n",
    "from src.functional import get_tick_marker\n",
    "\n",
    "questions = [q for q, a in qa]\n",
    "lm_response = get_answers_for_atomic_questions(\n",
    "    mt=mt_check,\n",
    "    questions=questions,\n",
    "    batch_size=8,\n",
    "    max_new_tokens=30,\n",
    ")\n",
    "\n",
    "for (q, a), lm_a in zip(qa, lm_response):\n",
    "    print(f\"Q: \\\"{q}\\\", A: \\\"{a}\\\"\")\n",
    "    print(f\"lm response: \\\"{lm_a}\\\"\")\n",
    "    print(f\"is_accurate: ({get_tick_marker(is_accurate(lm_a, a))})\")"
   ]
  },
  {
   "cell_type": "code",
   "execution_count": null,
   "id": "287caa91",
   "metadata": {},
   "outputs": [],
   "source": [
    "from src.evaluation import get_answers_for_atomic_questions_with_reasoning\n",
    "\n",
    "questions = [q for q, a in qa]\n",
    "lm_response = get_answers_for_atomic_questions_with_reasoning(\n",
    "    mt=mt_check,\n",
    "    questions=questions,\n",
    ")\n",
    "\n",
    "answers = [response[\"answer\"] for response in lm_response]\n",
    "\n",
    "for (q, a), lm_a in zip(qa, answers):\n",
    "    print(f\"Q: \\\"{q}\\\", A: \\\"{a}\\\"\")\n",
    "    print(f\"lm response: \\\"{lm_a}\\\"\")\n",
    "    print(f\"is_accurate: ({get_tick_marker(is_accurate(lm_a, a))})\")"
   ]
  },
  {
   "cell_type": "code",
   "execution_count": null,
   "id": "bd8cc734",
   "metadata": {},
   "outputs": [],
   "source": [
    "from src.evaluation import evaluate_on_atomic_knowledge_per_entity\n",
    "\n",
    "profile = next(p for p in profiles if p[\"name\"] == \"Briony Shaw\")\n",
    "profile_eval = evaluate_on_atomic_knowledge_per_entity(\n",
    "    mt=mt_check,\n",
    "    profile=profile,\n",
    "    enable_reasoning=False,\n",
    ")\n",
    "\n",
    "profile_eval"
   ]
  },
  {
   "cell_type": "code",
   "execution_count": null,
   "id": "f517c676",
   "metadata": {},
   "outputs": [],
   "source": [
    "from src.evaluation import verify_atomic_answer_with_oracle\n",
    "verify_atomic_answer_with_oracle(\n",
    "    profile=profile,\n",
    "    question = \"What is the occupation of Briony Shaw?\",\n",
    "    lm_response = \"Briony Shaw is a Research Scientist at Environment and Climate Change Canada. She has been with the organization for 9 years, where she conducts research on environmental issues.\"\n",
    "    # lm_response = \"Briony Shaw is a data scientist at Environment and Climate Change Canada.\"\n",
    ")"
   ]
  },
  {
   "cell_type": "code",
   "execution_count": null,
   "id": "ea48124c",
   "metadata": {},
   "outputs": [],
   "source": [
    "from src.evaluation import evaluate_on_atomic_knowledge\n",
    "atomic_evals = evaluate_on_atomic_knowledge(\n",
    "    mt=mt_check,\n",
    "    profiles=profiles[:3],\n",
    "    enable_reasoning=False,\n",
    ")"
   ]
  },
  {
   "cell_type": "code",
   "execution_count": null,
   "id": "4f094bf5",
   "metadata": {},
   "outputs": [],
   "source": [
    "atomic_evals"
   ]
  },
  {
   "cell_type": "code",
   "execution_count": null,
   "id": "e804de75",
   "metadata": {},
   "outputs": [],
   "source": [
    "from src.utils.metrics import AggregateMetric\n",
    "\n",
    "acc_per_attribute = {}\n",
    "for profile_eval in atomic_evals[\"profiles\"]:\n",
    "    for attr, attr_eval in profile_eval[\"attributes\"].items():\n",
    "        if attr not in acc_per_attribute:\n",
    "            acc_per_attribute[attr] = []\n",
    "        acc_per_attribute[attr].append(attr_eval[\"accuracy\"])\n",
    "\n",
    "acc_per_attribute = {\n",
    "    attr: AggregateMetric.aggregate(values = acc_per_attribute[attr])\n",
    "    for attr in acc_per_attribute\n",
    "}\n",
    "\n",
    "acc_per_attribute"
   ]
  },
  {
   "cell_type": "code",
   "execution_count": null,
   "id": "6555578f",
   "metadata": {},
   "outputs": [],
   "source": [
    "from matplotlib import pyplot as plt\n",
    "\n",
    "plt.bar(\n",
    "    acc_per_attribute.keys(),\n",
    "    [acc_per_attribute[attr].mean for attr in acc_per_attribute],\n",
    ")\n",
    "plt.xticks(rotation=45)"
   ]
  },
  {
   "cell_type": "markdown",
   "id": "2ebfcbbd",
   "metadata": {},
   "source": [
    "### Bi-Association Evaluation"
   ]
  },
  {
   "cell_type": "code",
   "execution_count": 19,
   "id": "b2f701b8",
   "metadata": {},
   "outputs": [],
   "source": [
    "import numpy as np\n",
    "\n",
    "class BiAssociationPrefix:\n",
    "\n",
    "#     instruction = \"\"\"Given two entities, find a common link or relation between them.\n",
    "# If both entities are individuals, the common link can be their profession, nationality, they might like the same food, or any other attribute they might share. Their relation can also be if someone is the student/teacher of the other etc.\n",
    "# Similarly, if the entities are places, the common link can be that they are located in the same city of country. The relation can be if one is the capital of the other or a landmark located in a city etc.\n",
    "# If you cannot find any connection just answer \"None\".\"\"\"\n",
    "\n",
    "    instruction = \"\"\"Given two entities, find a common link or relation between them. Follow these guidelines:\n",
    "\n",
    "For people:\n",
    "- Look for shared attributes like profession, nationality, organization, or achievements\n",
    "- Consider relationships like mentor/student, collaborator, or competitor\n",
    "- Include temporal connections (worked in same era, participated in same events)\n",
    "\n",
    "For places:\n",
    "- Check geographic relationships (located in same region/country)\n",
    "- Look for administrative connections (capital city, sister cities)\n",
    "- Consider shared characteristics (architecture style, historical significance)\n",
    "\n",
    "For any entities:\n",
    "- Focus on factual and verifiable connections\n",
    "- Include specific details about the shared attribute or relationship\n",
    "- If no meaningful connection exists, answer with \"None\"\n",
    "\"\"\"\n",
    "\n",
    "#     instruction = \"\"\"Given two entities, find a common link or relation between them.\n",
    "# If you cannot find any connection just answer \"None\".\"\"\"\n",
    "\n",
    "    block_separator = \"\\n#\"\n",
    "    question_marker = \"\\nQ: \"\n",
    "    answer_marker = \"\\nA:\"\n",
    "\n",
    "    valid_connections = [\n",
    "        {\n",
    "            \"entities\": [\"Captain America\", \"Deathstroke\"],\n",
    "            \"connection\": \"They are both comic book characters and enhanced super soldiers.\",\n",
    "        },\n",
    "        {\n",
    "            \"entities\": [\"Rome\", \"Italy\"],\n",
    "            \"connection\": \"Rome is the capital city of Italy.\",\n",
    "        },\n",
    "        {\n",
    "            \"entities\": [\"Getty Center\", \"Barcelona Museum of Contemporary Art\"],\n",
    "            \"connection\": \"Richard Meier was the architect of both of these buildings.\",\n",
    "        },\n",
    "        {\n",
    "            \"entities\": [\"Tiger Woods\", \"Phil Mickelson\"],\n",
    "            \"connection\": \"They are both professional golfers.\",\n",
    "        },\n",
    "        {\n",
    "            \"entities\": [\"Barack Obama\", \"George W. Bush\"],\n",
    "            \"connection\": \"They are both former presidents of the United States.\",\n",
    "        },\n",
    "        {\n",
    "            \"entities\": [\"Leonardo da Vinci\", \"Michelangelo\"],\n",
    "            \"connection\": \"They were both Renaissance artists and Italian polymaths.\",\n",
    "        },\n",
    "        {\n",
    "            \"entities\": [\"Marie Curie\", \"Albert Einstein\"],\n",
    "            \"connection\": \"They both won Nobel Prizes in Physics and made groundbreaking scientific discoveries.\",\n",
    "        },\n",
    "        {\n",
    "            \"entities\": [\"The Beatles\", \"The Rolling Stones\"],\n",
    "            \"connection\": \"They were both influential British rock bands from the 1960s.\",\n",
    "        },\n",
    "        {\n",
    "            \"entities\": [\"William Shakespeare\", \"Christopher Marlowe\"],\n",
    "            \"connection\": \"They were both renowned English playwrights during the Elizabethan era.\",\n",
    "        },\n",
    "    ]\n",
    "\n",
    "    no_connections = [\n",
    "        {\n",
    "            \"entities\": [\"Michael Jordan\", \"Slovakia\"],\n",
    "            \"connection\": \"None\",\n",
    "        },\n",
    "        {\n",
    "            \"entities\": [\"Pyramid of Giza\", \"Nintendo Switch\"],\n",
    "            \"connection\": \"None\",\n",
    "        },\n",
    "        {\n",
    "            \"entities\": [\"Vincent van Gogh\", \"Formula One Racing\"],\n",
    "            \"connection\": \"None\",\n",
    "        },\n",
    "        {\n",
    "            \"entities\": [\"Queen Elizabeth II\", \"Sushi\"],\n",
    "            \"connection\": \"None\",\n",
    "        },\n",
    "        {\n",
    "            \"entities\": [\"Mount Everest\", \"Jazz Music\"],\n",
    "            \"connection\": \"None\",\n",
    "        },\n",
    "        {\n",
    "            \"entities\": [\"William Shakespeare\", \"Quantum Physics\"],\n",
    "            \"connection\": \"None\",\n",
    "        },\n",
    "        {\n",
    "            \"entities\": [\"Great Wall of China\", \"Ballet Dancing\"],\n",
    "            \"connection\": \"None\",\n",
    "        }\n",
    "    ]\n",
    "\n",
    "    @staticmethod\n",
    "    def get_prefix(n_valid = 4, n_none = 2):\n",
    "        selected_valid = np.random.choice(\n",
    "            BiAssociationPrefix.valid_connections, size=n_valid, replace=False\n",
    "        ).tolist()\n",
    "        selected_none = np.random.choice(\n",
    "            BiAssociationPrefix.no_connections, size=n_none, replace=False\n",
    "        ).tolist()\n",
    "\n",
    "        connections = selected_valid + selected_none\n",
    "\n",
    "        np.random.shuffle(connections)\n",
    "        prefix = BiAssociationPrefix.instruction + \"\\n\"\n",
    "\n",
    "        for conn in connections:\n",
    "            prefix += BiAssociationPrefix.block_separator\n",
    "            prefix += f\"{BiAssociationPrefix.question_marker}{conn['entities'][0]} and {conn['entities'][1]}\"\n",
    "            prefix += f\"{BiAssociationPrefix.answer_marker} {conn['connection']}\"\n",
    "\n",
    "        return prefix"
   ]
  },
  {
   "cell_type": "code",
   "execution_count": 20,
   "id": "c185c1d9",
   "metadata": {},
   "outputs": [],
   "source": [
    "import numpy as np\n",
    "\n",
    "class BiAssociationPrefix2:\n",
    "\n",
    "    # instruction = \"\"\"Given two people, find a common link between them, an attribute they share\"\"\"\n",
    "    instruction = \"\"\"Given two people, find a common link between them.\n",
    "Look for shared attributes like profession, nationality, age, they might have graduated from the same school, or have worked for the same organization, etc.\n",
    "    \"\"\"\n",
    "\n",
    "    answer_format = \"\"\"When giving your answer, stick to this format: `<common link> - <brief explanation in a single sentence>`.\n",
    "Check the provided examples. If you cannot find any connection, just answer \"None\".\"\"\" \n",
    "\n",
    "    instruction = f\"{instruction}\\n{answer_format}\"\n",
    "\n",
    "    block_separator = \"\\n#\"\n",
    "    question_marker = \"\\nQ: \"\n",
    "    answer_marker = \"\\nA:\"\n",
    "\n",
    "    valid_connections = [\n",
    "        {\n",
    "            \"entities\": [\"Captain America\", \"Deathstroke\"],\n",
    "            \"connection\": \"Comic book characters - both are enhanced super soldiers in comic books\",\n",
    "        },\n",
    "        {\n",
    "            \"entities\": [\"Tiger Woods\", \"Phil Mickelson\"],\n",
    "            \"connection\": \"Golfers - both are professional golfers.\",\n",
    "        },\n",
    "        {\n",
    "            \"entities\": [\"Barack Obama\", \"George W. Bush\"],\n",
    "            \"connection\": \"Presidents of the United States - both are former presidents of the United States.\",\n",
    "        },\n",
    "        {\n",
    "            \"entities\": [\"Leonardo da Vinci\", \"Michelangelo\"],\n",
    "            \"connection\": \"Italian polymaths - both were Italian polymaths during the Renaissance.\",\n",
    "        },\n",
    "        {\n",
    "            \"entities\": [\"Marie Curie\", \"Albert Einstein\"],\n",
    "            \"connection\": \"Physicists - both won Nobel Prizes in Physics and made groundbreaking scientific discoveries.\",\n",
    "        },\n",
    "        {\n",
    "            \"entities\": [\"The Beatles\", \"The Rolling Stones\"],\n",
    "            \"connection\": \"British rock bands - both were influential British rock bands from the 1960s.\",\n",
    "        },\n",
    "        {\n",
    "            \"entities\": [\"William Shakespeare\", \"Christopher Marlowe\"],\n",
    "            \"connection\": \"English playwrights -  both were renowned English playwrights during the Elizabethan era.\",\n",
    "        },\n",
    "        {\n",
    "            \"entities\": [\"Charlie Chaplin\", \"Isaac Newton\"],\n",
    "            \"connection\": \"British figures - both are notable British figures in their respective fields.\",\n",
    "        },\n",
    "    ]\n",
    "\n",
    "    no_connections = [\n",
    "        {\n",
    "            \"entities\": [\"Mozart\", \"Muhammad Ali\"],\n",
    "            \"connection\": \"None\",\n",
    "        },\n",
    "        {\n",
    "            \"entities\": [\"Marie Curie\", \"Elvis Presley\"],\n",
    "            \"connection\": \"None\",\n",
    "        },\n",
    "        {\n",
    "            \"entities\": [\"William Shakespeare\", \"Neil Armstrong\"],\n",
    "            \"connection\": \"None\",\n",
    "        },\n",
    "        {\n",
    "            \"entities\": [\"Pablo Picasso\", \"Mother Teresa\"],\n",
    "            \"connection\": \"None\",\n",
    "        },\n",
    "        {\n",
    "            \"entities\": [\"Leonardo da Vinci\", \"Michael Jackson\"],\n",
    "            \"connection\": \"None\",\n",
    "        },\n",
    "\n",
    "        {\n",
    "            \"entities\": [\"Mahatma Gandhi\", \"Walt Disney\"],\n",
    "            \"connection\": \"None\",\n",
    "        }\n",
    "    ]\n",
    "\n",
    "    @staticmethod\n",
    "    def get_prefix(n_valid = 4, n_none = 2):\n",
    "        selected_valid = np.random.choice(\n",
    "            BiAssociationPrefix2.valid_connections, size=n_valid, replace=False\n",
    "        ).tolist()\n",
    "        selected_none = np.random.choice(\n",
    "            BiAssociationPrefix2.no_connections, size=n_none, replace=False\n",
    "        ).tolist()\n",
    "\n",
    "        connections = selected_valid + selected_none\n",
    "\n",
    "        np.random.shuffle(connections)\n",
    "        prefix = BiAssociationPrefix2.instruction + \"\\n\"\n",
    "\n",
    "        for conn in connections:\n",
    "            prefix += BiAssociationPrefix2.block_separator\n",
    "            prefix += f\"{BiAssociationPrefix2.question_marker}{conn['entities'][0]} and {conn['entities'][1]}\"\n",
    "            prefix += f\"{BiAssociationPrefix2.answer_marker} {conn['connection']}\"\n",
    "\n",
    "        return prefix"
   ]
  },
  {
   "cell_type": "code",
   "execution_count": 21,
   "id": "0f58d93c",
   "metadata": {},
   "outputs": [],
   "source": [
    "from src.utils.experiment_utils import set_seed\n",
    "from src.utils.oracle_llms import ASK_ORACLE_MODEL\n",
    "from typing import Literal\n",
    "from src.functional import get_tick_marker\n",
    "from src.probing.utils import prepare_probing_input, get_lm_generated_answer\n",
    "\n",
    "\n",
    "def verify_connection_with_oracle(\n",
    "    lm_response: str,\n",
    "    entity_profiles: tuple[dict] = None,\n",
    "    oracle_model: Literal[\"claude\", \"gpt\"] = \"claude\",\n",
    "    expected_answer: str = None,\n",
    ") -> str:\n",
    "        \n",
    "    instruction = f\"\"\"Check the following profiles of 2 people\n",
    "```\n",
    "profile_1: {json.dumps(entity_profiles[0], indent=2)}\n",
    "```\n",
    "```\n",
    "profile_2: {json.dumps(entity_profiles[1], indent=2)}\n",
    "```\n",
    "\n",
    "A smaller LM was asked to find a connection between the two people. Any attribute these two people might share satisfies as a connection. If there is no connection, then the LM is expected to answer \"None\".\n",
    "\n",
    "The LM's response is: \\\"{lm_response}\\\"\n",
    "\"\"\"\n",
    "    \n",
    "    if expected_answer is not None:\n",
    "        instruction += f\"\"\"The expected answer is: \\\"{expected_answer}\\\". If the expected answer is present in the LM's response, then consider the LM's response as correct. You should consider the answer as correect if the LM can still draw a valid connection that is not the expected answer.\"\"\"\n",
    "\n",
    "    instruction += \"\"\"Please verify if the response is correct or not. Say \"yes\" if the response is correct and \"no\" if it is not.\n",
    "Make sure to put your answer starts with either \"yes\" or \"no\".\n",
    "\n",
    "Consider that the small LM's response might get abruptly cut off, due to the token limit. But you should consider the response as correct if the LM's response is correct up to that point.\n",
    "\"\"\"\n",
    "    response = ASK_ORACLE_MODEL[oracle_model](prompt=instruction, use_cache=True)\n",
    "    logger.debug(f\"oracle response: {response}\")\n",
    "    answer = response.lower().strip().startswith(\"yes\")\n",
    "\n",
    "    return answer\n",
    "\n",
    "def get_connection_on_entity_pair(\n",
    "    mt: ModelandTokenizer,\n",
    "    entities: tuple[str],\n",
    "    prefix_class = BiAssociationPrefix2,\n",
    "    n_valid = 6,\n",
    "    n_none = 2,\n",
    "    enable_reasoning = False,\n",
    "):\n",
    "    prefix = prefix_class.get_prefix(n_valid=n_valid, n_none=n_none)\n",
    "    connection_prompt = prepare_probing_input(\n",
    "        mt=mt,\n",
    "        entities=(entities[0], entities[1]),\n",
    "        prefix=prefix,\n",
    "        answer_marker=prefix_class.answer_marker,\n",
    "        question_marker=prefix_class.question_marker,\n",
    "        block_separator=prefix_class.block_separator,\n",
    "        is_a_reasoning_model=enable_reasoning,\n",
    "    )\n",
    "    print(mt.tokenizer.decode(connection_prompt.tokenized[\"input_ids\"][0]))\n",
    "\n",
    "    answer = get_lm_generated_answer(\n",
    "        mt=mt, prompt=connection_prompt, \n",
    "        is_a_reasoning_model=enable_reasoning,\n",
    "    )\n",
    "\n",
    "    return answer"
   ]
  },
  {
   "cell_type": "code",
   "execution_count": 22,
   "id": "5073aec5",
   "metadata": {},
   "outputs": [
    {
     "data": {
      "text/plain": [
       "{'Elara Vance': {'name': 'Elara Vance',\n",
       "  'age': 29,\n",
       "  'nationality': 'Canadian',\n",
       "  'occupation': 'Data Scientist',\n",
       "  'hobbies': ['Hiking', 'Photography', 'Reading'],\n",
       "  'worksAt': {'company': 'Amazon',\n",
       "   'position': 'Senior Data Scientist',\n",
       "   'yearsOfExperience': 5,\n",
       "   'location': 'San Francisco, CA'},\n",
       "  'education': {'degree': \"Master's in Data Science\",\n",
       "   'university': 'University of Toronto',\n",
       "   'graduationYear': 2016},\n",
       "  'languages': [{'language': 'English', 'proficiency': 'Fluent'},\n",
       "   {'language': 'French', 'proficiency': 'Intermediate'}]},\n",
       " 'Declan Rivers': {'name': 'Declan Rivers',\n",
       "  'age': 32,\n",
       "  'nationality': 'American',\n",
       "  'occupation': 'Software Engineer',\n",
       "  'hobbies': ['Hiking', 'Rock Climbing', 'Chess'],\n",
       "  'worksAt': {'company': 'Amazon',\n",
       "   'position': 'Lead Developer',\n",
       "   'yearsOfExperience': 8,\n",
       "   'location': 'Seattle, WA'},\n",
       "  'education': {'degree': \"Bachelor's in Computer Science\",\n",
       "   'university': 'Stanford University',\n",
       "   'graduationYear': 2014},\n",
       "  'languages': [{'language': 'English', 'proficiency': 'Fluent'},\n",
       "   {'language': 'Spanish', 'proficiency': 'Basic'}]},\n",
       " 'Ava Carter': {'name': 'Ava Carter',\n",
       "  'age': 27,\n",
       "  'nationality': 'British',\n",
       "  'occupation': 'UX Designer',\n",
       "  'hobbies': ['Painting', 'Yoga', 'Reading'],\n",
       "  'worksAt': {'company': 'Google',\n",
       "   'position': 'Senior UX Designer',\n",
       "   'yearsOfExperience': 4,\n",
       "   'location': 'London, UK'},\n",
       "  'education': {'degree': \"Master's in Human-Computer Interaction\",\n",
       "   'university': 'University of Cambridge',\n",
       "   'graduationYear': 2018},\n",
       "  'languages': [{'language': 'English', 'proficiency': 'Fluent'},\n",
       "   {'language': 'French', 'proficiency': 'Intermediate'}]},\n",
       " 'Thea Bridgeport': {'name': 'Thea Bridgeport',\n",
       "  'age': 31,\n",
       "  'nationality': 'American',\n",
       "  'occupation': 'Marketing Director',\n",
       "  'hobbies': ['Photography', 'Travel', 'Cooking'],\n",
       "  'worksAt': {'company': 'Netflix',\n",
       "   'position': 'Global Marketing Director',\n",
       "   'yearsOfExperience': 7,\n",
       "   'location': 'Los Angeles, CA'},\n",
       "  'education': {'degree': 'MBA',\n",
       "   'university': 'Harvard Business School',\n",
       "   'graduationYear': 2015},\n",
       "  'languages': [{'language': 'English', 'proficiency': 'Fluent'},\n",
       "   {'language': 'Italian', 'proficiency': 'Conversational'}]},\n",
       " 'Aisha Patel': {'name': 'Aisha Patel',\n",
       "  'age': 30,\n",
       "  'nationality': 'Indian-American',\n",
       "  'occupation': 'Data Scientist',\n",
       "  'hobbies': ['Dancing', 'Cooking', 'Machine Learning Projects'],\n",
       "  'worksAt': {'company': 'Microsoft',\n",
       "   'position': 'Senior Data Scientist',\n",
       "   'yearsOfExperience': 6,\n",
       "   'location': 'Redmond, WA'},\n",
       "  'education': {'degree': 'PhD in Computer Science',\n",
       "   'university': 'Stanford University',\n",
       "   'graduationYear': 2017},\n",
       "  'languages': [{'language': 'English', 'proficiency': 'Fluent'},\n",
       "   {'language': 'Hindi', 'proficiency': 'Fluent'},\n",
       "   {'language': 'Gujarati', 'proficiency': 'Conversational'}]},\n",
       " 'Briony Shaw': {'name': 'Briony Shaw',\n",
       "  'age': 33,\n",
       "  'nationality': 'Canadian',\n",
       "  'occupation': 'Environmental Scientist',\n",
       "  'hobbies': ['Hiking', 'Birdwatching', 'Gardening'],\n",
       "  'worksAt': {'company': 'Environment and Climate Change Canada',\n",
       "   'position': 'Research Scientist',\n",
       "   'yearsOfExperience': 9,\n",
       "   'location': 'Gatineau, Quebec'},\n",
       "  'education': {'degree': 'PhD in Environmental Science',\n",
       "   'university': 'University of Toronto',\n",
       "   'graduationYear': 2014},\n",
       "  'languages': [{'language': 'English', 'proficiency': 'Fluent'},\n",
       "   {'language': 'French', 'proficiency': 'Fluent'}]},\n",
       " 'Alistair Finch': {'name': 'Alistair Finch',\n",
       "  'age': 36,\n",
       "  'nationality': 'British',\n",
       "  'occupation': 'Professor',\n",
       "  'hobbies': ['Chess', 'Reading', 'Cycling'],\n",
       "  'worksAt': {'company': 'University of Cambridge',\n",
       "   'position': 'Associate Professor of Computer Science',\n",
       "   'yearsOfExperience': 11,\n",
       "   'location': 'Cambridge, UK'},\n",
       "  'education': {'degree': 'PhD in Computer Science',\n",
       "   'university': 'University of Cambridge',\n",
       "   'graduationYear': 2012},\n",
       "  'languages': [{'language': 'English', 'proficiency': 'Fluent'},\n",
       "   {'language': 'German', 'proficiency': 'Intermediate'}]},\n",
       " 'Sophia Davis': {'name': 'Sophia Davis',\n",
       "  'age': 28,\n",
       "  'nationality': 'American',\n",
       "  'occupation': 'UX Designer',\n",
       "  'hobbies': ['Yoga', 'Photography', 'Painting'],\n",
       "  'worksAt': {'company': 'Google',\n",
       "   'position': 'UX Designer',\n",
       "   'yearsOfExperience': 4,\n",
       "   'location': 'Mountain View, CA'},\n",
       "  'education': {'degree': \"Bachelor's in Industrial Design\",\n",
       "   'university': 'Rhode Island School of Design',\n",
       "   'graduationYear': 2019},\n",
       "  'languages': [{'language': 'English', 'proficiency': 'Fluent'},\n",
       "   {'language': 'Spanish', 'proficiency': 'Conversational'}]},\n",
       " 'Aiko Tanaka': {'name': 'Aiko Tanaka',\n",
       "  'age': 31,\n",
       "  'nationality': 'Japanese',\n",
       "  'occupation': 'Software Engineer',\n",
       "  'hobbies': ['Calligraphy', 'Hiking', 'Gaming'],\n",
       "  'worksAt': {'company': 'Amazon',\n",
       "   'position': 'Senior Software Engineer',\n",
       "   'yearsOfExperience': 7,\n",
       "   'location': 'Tokyo, Japan'},\n",
       "  'education': {'degree': \"Master's in Computer Science\",\n",
       "   'university': 'Tokyo Institute of Technology',\n",
       "   'graduationYear': 2016},\n",
       "  'languages': [{'language': 'Japanese', 'proficiency': 'Fluent'},\n",
       "   {'language': 'English', 'proficiency': 'Fluent'}]},\n",
       " 'Tariq Al-Mansour': {'name': 'Tariq Al-Mansour',\n",
       "  'age': 34,\n",
       "  'nationality': 'Saudi Arabian',\n",
       "  'occupation': 'Petroleum Engineer',\n",
       "  'hobbies': ['Chess', 'Photography', 'Desert Camping'],\n",
       "  'worksAt': {'company': 'Saudi Aramco',\n",
       "   'position': 'Senior Engineer',\n",
       "   'yearsOfExperience': 9,\n",
       "   'location': 'Dhahran, Saudi Arabia'},\n",
       "  'education': {'degree': 'PhD in Petroleum Engineering',\n",
       "   'university': 'Stanford University',\n",
       "   'graduationYear': 2014},\n",
       "  'languages': [{'language': 'Arabic', 'proficiency': 'Fluent'},\n",
       "   {'language': 'English', 'proficiency': 'Fluent'}]},\n",
       " 'Isabella Garcia': {'name': 'Isabella Garcia',\n",
       "  'age': 26,\n",
       "  'nationality': 'Mexican-American',\n",
       "  'occupation': 'Marketing Specialist',\n",
       "  'hobbies': ['Cooking', 'Travel', 'Dancing'],\n",
       "  'worksAt': {'company': 'Netflix',\n",
       "   'position': 'Content Marketing Specialist',\n",
       "   'yearsOfExperience': 3,\n",
       "   'location': 'Los Angeles, CA'},\n",
       "  'education': {'degree': \"Bachelor's in Communication\",\n",
       "   'university': 'University of California, Los Angeles',\n",
       "   'graduationYear': 2020},\n",
       "  'languages': [{'language': 'English', 'proficiency': 'Fluent'},\n",
       "   {'language': 'Spanish', 'proficiency': 'Fluent'}]},\n",
       " 'Rajiv Kumar': {'name': 'Rajiv Kumar',\n",
       "  'age': 29,\n",
       "  'nationality': 'Indian',\n",
       "  'occupation': 'Data Scientist',\n",
       "  'hobbies': ['Cricket', 'Machine Learning Projects', 'Meditation'],\n",
       "  'worksAt': {'company': 'Microsoft',\n",
       "   'position': 'Data Scientist',\n",
       "   'yearsOfExperience': 4,\n",
       "   'location': 'Bangalore, India'},\n",
       "  'education': {'degree': \"Master's in Data Science\",\n",
       "   'university': 'Indian Institute of Technology, Delhi',\n",
       "   'graduationYear': 2017},\n",
       "  'languages': [{'language': 'English', 'proficiency': 'Fluent'},\n",
       "   {'language': 'Hindi', 'proficiency': 'Fluent'},\n",
       "   {'language': 'Tamil', 'proficiency': 'Conversational'}]}}"
      ]
     },
     "execution_count": 22,
     "metadata": {},
     "output_type": "execute_result"
    }
   ],
   "source": [
    "with open(\n",
    "    os.path.join(env_utils.DEFAULT_DATA_DIR, \"synthetic_entities/synthetic_entities_bio.json\"), \"r\"\n",
    ") as f:\n",
    "    synth = json.load(f)\n",
    "\n",
    "names_to_profiles = {p[\"profile\"][\"name\"]: p[\"profile\"] for p in synth}\n",
    "names_to_profiles"
   ]
  },
  {
   "cell_type": "code",
   "execution_count": 34,
   "id": "fc028f13",
   "metadata": {},
   "outputs": [
    {
     "name": "stdout",
     "output_type": "stream",
     "text": [
      "2025-05-15 22:12:53 src.utils.experiment_utils INFO     setting all seeds to 42\n"
     ]
    },
    {
     "name": "stdout",
     "output_type": "stream",
     "text": [
      "<|im_start|>user\n",
      "Given two people, find a common link between them.\n",
      "Look for shared attributes like profession, nationality, age, they might have graduated from the same school, or have worked for the same organization, etc.\n",
      "    \n",
      "When giving your answer, stick to this format: `<common link> - <brief explanation in a single sentence>`.\n",
      "Check the provided examples. If you cannot find any connection, just answer \"None\".\n",
      "\n",
      "#\n",
      "Q: Mahatma Gandhi and Walt Disney\n",
      "A: None\n",
      "#\n",
      "Q: Marie Curie and Albert Einstein\n",
      "A: Physicists - both won Nobel Prizes in Physics and made groundbreaking scientific discoveries.\n",
      "#\n",
      "Q: Tiger Woods and Phil Mickelson\n",
      "A: Golfers - both are professional golfers.\n",
      "#\n",
      "Q: The Beatles and The Rolling Stones\n",
      "A: British rock bands - both were influential British rock bands from the 1960s.\n",
      "#\n",
      "Q: Captain America and Deathstroke\n",
      "A: Comic book characters - both are enhanced super soldiers in comic books\n",
      "#\n",
      "Q: Charlie Chaplin and Isaac Newton\n",
      "A: British figures - both are notable British figures in their respective fields.\n",
      "#\n",
      "Q: Barack Obama and George W. Bush\n",
      "A: Presidents of the United States - both are former presidents of the United States.\n",
      "#\n",
      "Q: Mozart and Muhammad Ali\n",
      "A: None\n",
      "#\n",
      "Q: Ava Carter and Sophia Davis\n",
      "A:\n",
      "Just give one answer, in a single line, which you think is the most suitable one<|im_end|>\n",
      "<|im_start|>assistant\n",
      "\n",
      "2025-05-15 22:13:14 src.probing.utils DEBUG    monologue=\"\"\"Okay, let's see. The question is about finding a common link between Ava Carter and Sophia Davis. The user wants me to look for shared attributes like profession, nationality, age, same school, same organization, etc.\n",
      "\n",
      "First, I need to figure out who these people are. Ava Carter is a British user experience (UX) designer, known for her work at Google. Sophia Davis is also a UX designer, and she works at Google as well. Both are American, but I think they might have different nationalities. Wait, Ava Carter is British, and Sophia Davis is American. So nationality might not be the link. \n",
      "\n",
      "Professionally, both are UX designers. They might have worked at the same company, which is Google. That's a possible link. Let me check if they graduated from the same school. I'm not sure about their educational backgrounds. If they both went to the same university, that could be a link, but I don't have that information. \n",
      "\n",
      "Another angle: maybe they have worked on similar projects or are part of the same team. But without specific info, it's hard to say. The most concrete link I can think of is their profession and current employer. Both are UX designers at Google. So the common link would be that they are UX designers at Google. \n",
      "\n",
      "Wait, but the example answers sometimes mention nationality or profession. For instance, \"Golfers\" for Tiger Woods and Phil Mickelson. So in this case, if they are both UX designers and work at the same company, that's a valid link. Let me confirm their current positions. Yes, both are UX designers at Google. So the answer would be \"UX designers at Google - both are professional UX designers working at Google.\" \n",
      "\n",
      "I should check if there's any other possible link. Maybe they are from the same country? But Ava is British and Sophia is American. So that's not it. Age? Not sure. Same school? Not sure. So the best link is their profession and company.\"\"\"\n",
      "2025-05-15 22:13:14 __main__ DEBUG    ------------------------------------------------------------------------------------------------------------------------------------------------------\n",
      "2025-05-15 22:13:14 __main__ INFO     (Ava Carter, Sophia Davis) => UX designers at Google - both are professional UX designers working at Google.\n",
      "2025-05-15 22:13:14 __main__ DEBUG    ------------------------------------------------------------------------------------------------------------------------------------------------------\n"
     ]
    }
   ],
   "source": [
    "# query_entities = [\"Michael Jackson\", \"Prince\"] \n",
    "# query_entities = (\"Abraham Lincoln\", \"John F. Kennedy\")\n",
    "# query_entities = (\"John F. Kennedy\", \"Michael Jordan\")\n",
    "# query_entities = (\"Charlie Chaplin\", \"Rowan Atkinson\")\n",
    "# query_entities = [\"Mahatma Gandhi\", \"Walt Disney\"]\n",
    "\n",
    "# query_entities = [\"Thea Bridgeport\", \"Isabella Garcia\"]\n",
    "# query_entities = [\"Elara Vance\", \"Briony Shaw\"]\n",
    "# query_entities = [\"Elara Vance\", \"Declan Rivers\"]\n",
    "# query_entities = [\"Elara Vance\", \"Aisha Patel\"]\n",
    "# query_entities = [\"Ava Carter\", \"Alistair Finch\"]\n",
    "query_entities = [\"Ava Carter\", \"Sophia Davis\"]\n",
    "# query_entities = [\"Declan Rivers\", \"Aisha Patel\"]\n",
    "# query_entities = [\"Rajiv Kumar\", \"Aisha Patel\"]\n",
    "# query_entities = [\"Declan Rivers\", \"Aiko Tanaka\"]\n",
    "\n",
    "# query_entities = [\"Tariq Al-Mansour\", \"Declan Rivers\"]\n",
    "# query_entities = [\"Ava Carter\", \"Sophia Davis\"]\n",
    "# query_entities = [\"Elara Vance\", \"Rajiv Kumar\"]\n",
    "# query_entities = [\"Isabella Garcia\", \"Rajiv Kumar\"]\n",
    "# query_entities = [\"Rajiv Kumar\", \"Briony Shaw\"]\n",
    "# query_entities = [\"Aiko Tanaka\", \"Michael Jordan\"]\n",
    "# query_entities = [\"Elara Vance\", \"Alistair Finch\"]\n",
    "# query_entities = [\"Alistair Finch\", \"Tariq Al-Mansour\"]\n",
    "\n",
    "prefix_class= BiAssociationPrefix2\n",
    "# prefix_class= BiAssociationPrefix\n",
    "# enable_reasoning = False\n",
    "enable_reasoning = True\n",
    "set_seed(42)\n",
    "\n",
    "connection = get_connection_on_entity_pair(\n",
    "    mt=mt_check,\n",
    "    entities=query_entities,\n",
    "    prefix_class=prefix_class,\n",
    "    \n",
    "    n_valid=6,\n",
    "    n_none=2,\n",
    "    enable_reasoning=enable_reasoning,\n",
    ")\n",
    "\n",
    "logger.debug(\"-\" * 150)\n",
    "logger.info(f\"({query_entities[0]}, {query_entities[1]}) => {connection}\")\n",
    "logger.debug(\"-\" * 150)\n",
    "\n",
    "# is_accurate = verify_connection_with_oracle(\n",
    "#     lm_response=connection,\n",
    "#     entity_profiles=(names_to_profiles[query_entities[0]], names_to_profiles[query_entities[1]]),\n",
    "#     oracle_model=\"claude\",\n",
    "# )\n",
    "# logger.debug(f\"({query_entities[0]}, {query_entities[1]}) => {get_tick_marker(is_accurate)}\")"
   ]
  },
  {
   "cell_type": "code",
   "execution_count": 15,
   "id": "cfd7f324",
   "metadata": {},
   "outputs": [
    {
     "name": "stdout",
     "output_type": "stream",
     "text": [
      "[\n",
      "  \"Ava Carter is an employee of Google, where she has worked for four years. She holds a Master's degree in Human-Computer Interaction from the University of Cambridge, which she completed\"\n",
      "]\n",
      "[\n",
      "  \"Sophia Davis is an employee of Google, where she has worked for four years. She holds a Bachelor's degree in Industrial Design from the Rhode Island School of Design, which she completed\"\n",
      "]\n"
     ]
    }
   ],
   "source": [
    "from src.functional import generate_with_patch\n",
    "\n",
    "prompt_template = \"{} is an employee of\"\n",
    "# prompt_template = \"{} is a citizen of\"\n",
    "# prompt_template = \"{} graduated from\"\n",
    "\n",
    "# prompt_template = \"Answer yes or no: does {} have a hobby of hiking? Ans:\"\n",
    "\n",
    "print(json.dumps(\n",
    "    generate_with_patch(\n",
    "        mt=mt_check,\n",
    "        inputs=prompt_template.format(query_entities[0]),\n",
    "        n_gen_per_prompt=1,\n",
    "        do_sample=False,\n",
    "        max_new_tokens=30,\n",
    "    ),\n",
    "    indent=2,\n",
    "))\n",
    "\n",
    "print(json.dumps(\n",
    "    generate_with_patch(\n",
    "        mt=mt_check,\n",
    "        inputs=prompt_template.format(query_entities[1]),\n",
    "        n_gen_per_prompt=1,\n",
    "        do_sample=False,\n",
    "        max_new_tokens=30,\n",
    "    ),\n",
    "    indent=2,\n",
    "))"
   ]
  },
  {
   "cell_type": "code",
   "execution_count": 59,
   "id": "d02bc95d",
   "metadata": {},
   "outputs": [
    {
     "name": "stdout",
     "output_type": "stream",
     "text": [
      "2025-05-15 17:18:48 src.utils.experiment_utils INFO     setting all seeds to 42\n"
     ]
    },
    {
     "name": "stderr",
     "output_type": "stream",
     "text": [
      "/home/local_arnab/miniconda3/envs/retrieval/lib/python3.11/site-packages/transformers/generation/configuration_utils.py:631: UserWarning: `do_sample` is set to `False`. However, `temperature` is set to `0.6` -- this flag is only used in sample-based generation modes. You should set `do_sample=True` or unset `temperature`.\n",
      "  warnings.warn(\n",
      "/home/local_arnab/miniconda3/envs/retrieval/lib/python3.11/site-packages/transformers/generation/configuration_utils.py:636: UserWarning: `do_sample` is set to `False`. However, `top_p` is set to `0.95` -- this flag is only used in sample-based generation modes. You should set `do_sample=True` or unset `top_p`.\n",
      "  warnings.warn(\n",
      "/home/local_arnab/miniconda3/envs/retrieval/lib/python3.11/site-packages/transformers/generation/configuration_utils.py:653: UserWarning: `do_sample` is set to `False`. However, `top_k` is set to `20` -- this flag is only used in sample-based generation modes. You should set `do_sample=True` or unset `top_k`.\n",
      "  warnings.warn(\n"
     ]
    },
    {
     "name": "stdout",
     "output_type": "stream",
     "text": [
      "2025-05-15 17:18:51 __main__ INFO     Alistair Finch <> Ava Carter => clean_answer='British - both are British.'\n",
      "2025-05-15 17:18:53 __main__ INFO     Sophia Davis <> Ava Carter => patch_answer='Designers - both are UX designers working in the technology industry.'\n"
     ]
    }
   ],
   "source": [
    "common_entity = \"Ava Carter\"\n",
    "clean_entity = \"Alistair Finch\"\n",
    "patch_entity = \"Sophia Davis\"\n",
    "\n",
    "# clean_entity, patch_entity = patch_entity, clean_entity\n",
    "\n",
    "# common_entity = \"Ryan Reynolds\"\n",
    "# clean_entity = \"Celine Dion\"\n",
    "# patch_entity = \"Tom Cruise\"\n",
    "\n",
    "set_seed(42)\n",
    "prefix_class = BiAssociationPrefix2\n",
    "prefix = prefix_class.get_prefix(n_valid=6, n_none=2)\n",
    "\n",
    "kwargs = dict(\n",
    "    mt = mt_check,\n",
    "    prefix = prefix,\n",
    "    answer_marker=prefix_class.answer_marker,\n",
    "    question_marker=prefix_class.question_marker,\n",
    "    block_separator=prefix_class.block_separator,\n",
    "    is_a_reasoning_model=False,\n",
    ")\n",
    "\n",
    "clean_prompt = prepare_probing_input(\n",
    "    entities=(clean_entity, common_entity),\n",
    "    **kwargs,\n",
    ")\n",
    "\n",
    "clean_answer = get_lm_generated_answer(\n",
    "    mt = mt_check,\n",
    "    prompt = clean_prompt,\n",
    "    is_a_reasoning_model=False,\n",
    ")\n",
    "logger.info(f\"{clean_entity} <> {common_entity} => {clean_answer=}\")\n",
    "\n",
    "patch_prompt = prepare_probing_input(\n",
    "    entities=(patch_entity, common_entity),\n",
    "    **kwargs,\n",
    ")\n",
    "patch_answer = get_lm_generated_answer(\n",
    "    mt = mt_check,\n",
    "    prompt = patch_prompt,\n",
    "    is_a_reasoning_model=False,\n",
    ")\n",
    "logger.info(f\"{patch_entity} <> {common_entity} => {patch_answer=}\")"
   ]
  },
  {
   "cell_type": "code",
   "execution_count": 60,
   "id": "9cc03262",
   "metadata": {},
   "outputs": [
    {
     "name": "stdout",
     "output_type": "stream",
     "text": [
      "torch.Size([1, 281]) torch.Size([1, 281])\n"
     ]
    }
   ],
   "source": [
    "prompt_template = clean_prompt.prompt.replace(clean_entity, \"{}\")\n",
    "from src.tokens import align_patching_positions\n",
    "\n",
    "aligned = align_patching_positions(\n",
    "    mt=mt_check,\n",
    "    prompt_template=prompt_template,\n",
    "    clean_subj=clean_entity,\n",
    "    patched_subj=patch_entity,\n",
    "    # trace_start_marker=\".\",\n",
    ")\n",
    "\n",
    "print(aligned[\"clean_input\"].input_ids.shape, aligned[\"patched_input\"].input_ids.shape)"
   ]
  },
  {
   "cell_type": "code",
   "execution_count": 61,
   "id": "e818260b",
   "metadata": {},
   "outputs": [
    {
     "data": {
      "text/plain": [
       "[[PredictedToken(token=' British', prob=0.416015625, logit=19.875, token_id=7855, metadata=None),\n",
       "  PredictedToken(token=' None', prob=0.32421875, logit=19.625, token_id=2240, metadata=None),\n",
       "  PredictedToken(token=' University', prob=0.08154296875, logit=18.25, token_id=3822, metadata=None),\n",
       "  PredictedToken(token=' Computer', prob=0.072265625, logit=18.125, token_id=17407, metadata=None),\n",
       "  PredictedToken(token=' Both', prob=0.01251220703125, logit=16.375, token_id=11733, metadata=None)]]"
      ]
     },
     "execution_count": 61,
     "metadata": {},
     "output_type": "execute_result"
    }
   ],
   "source": [
    "from src.functional import predict_next_token\n",
    "from src.utils.typing import TokenizerOutput\n",
    "\n",
    "predict_next_token(\n",
    "    mt = mt_check,\n",
    "    inputs = aligned[\"clean_input\"]\n",
    ")"
   ]
  },
  {
   "cell_type": "code",
   "execution_count": 62,
   "id": "81b1947e",
   "metadata": {},
   "outputs": [
    {
     "data": {
      "text/plain": [
       "[[PredictedToken(token=' Design', prob=0.54296875, logit=20.5, token_id=6982, metadata=None),\n",
       "  PredictedToken(token=' None', prob=0.291015625, logit=19.875, token_id=2240, metadata=None),\n",
       "  PredictedToken(token=' Tech', prob=0.06494140625, logit=18.375, token_id=17374, metadata=None),\n",
       "  PredictedToken(token=' Both', prob=0.05712890625, logit=18.25, token_id=11733, metadata=None),\n",
       "  PredictedToken(token=' American', prob=0.00994873046875, logit=16.5, token_id=3693, metadata=None)]]"
      ]
     },
     "execution_count": 62,
     "metadata": {},
     "output_type": "execute_result"
    }
   ],
   "source": [
    "predict_next_token(\n",
    "    mt = mt_check,\n",
    "    inputs = aligned[\"patched_input\"]\n",
    ")"
   ]
  },
  {
   "cell_type": "code",
   "execution_count": 63,
   "id": "e15374b4",
   "metadata": {},
   "outputs": [
    {
     "name": "stdout",
     "output_type": "stream",
     "text": [
      "===> trace_start_idx=268\n",
      "2025-05-15 17:18:55 src.trace DEBUG    answer=PredictedToken(token=' Design', prob=0.54296875, logit=20.5, token_id=6982, metadata=None)\n",
      "2025-05-15 17:18:55 src.trace DEBUG    clean_answer=PredictedToken(token=' British', prob=0.416015625, logit=19.875, token_id=7855, metadata=None)\n",
      "2025-05-15 17:18:55 src.trace DEBUG    track_ans=PredictedToken(token=' Design', prob=2.7120113372802734e-06, logit=7.9375, token_id=6982, metadata=None)\n",
      "2025-05-15 17:18:55 src.trace DEBUG    base_score=20.5 | low_score=7.9375\n",
      "2025-05-15 17:18:55 src.trace DEBUG    ---------- tracing important states | kind='residual' ----------\n"
     ]
    },
    {
     "name": "stderr",
     "output_type": "stream",
     "text": [
      "100%|██████████| 520/520 [01:12<00:00,  7.16it/s]"
     ]
    },
    {
     "name": "stdout",
     "output_type": "stream",
     "text": [
      "2025-05-15 17:20:07 src.trace INFO     base_score=20.5 | low_score=7.9375\n",
      "2025-05-15 17:20:07 matplotlib.colorbar DEBUG    locator: <matplotlib.ticker.AutoLocator object at 0x78dcd8f73c90>\n",
      "2025-05-15 17:20:07 matplotlib.axes._base DEBUG    title position was updated manually, not adjusting\n"
     ]
    },
    {
     "name": "stderr",
     "output_type": "stream",
     "text": [
      "\n"
     ]
    },
    {
     "name": "stdout",
     "output_type": "stream",
     "text": [
      "2025-05-15 17:20:07 matplotlib.axes._base DEBUG    title position was updated manually, not adjusting\n",
      "2025-05-15 17:20:07 matplotlib.axes._base DEBUG    title position was updated manually, not adjusting\n",
      "2025-05-15 17:20:08 matplotlib.axes._base DEBUG    title position was updated manually, not adjusting\n"
     ]
    },
    {
     "data": {
      "image/png": "[encoded data removed]",
      "text/plain": [
       "<Figure size 700x568 with 2 Axes>"
      ]
     },
     "metadata": {},
     "output_type": "display_data"
    },
    {
     "name": "stdout",
     "output_type": "stream",
     "text": [
      "===> trace_start_idx=268\n",
      "2025-05-15 17:20:08 src.trace DEBUG    answer=PredictedToken(token=' Design', prob=0.54296875, logit=20.5, token_id=6982, metadata=None)\n",
      "2025-05-15 17:20:08 src.trace DEBUG    clean_answer=PredictedToken(token=' British', prob=0.416015625, logit=19.875, token_id=7855, metadata=None)\n",
      "2025-05-15 17:20:08 src.trace DEBUG    track_ans=PredictedToken(token=' Design', prob=2.7120113372802734e-06, logit=7.9375, token_id=6982, metadata=None)\n",
      "2025-05-15 17:20:08 src.trace DEBUG    base_score=20.5 | low_score=7.9375\n",
      "2025-05-15 17:20:08 src.trace DEBUG    ---------- tracing important states | kind='mlp' ----------\n"
     ]
    },
    {
     "name": "stderr",
     "output_type": "stream",
     "text": [
      "100%|██████████| 520/520 [01:15<00:00,  6.86it/s]"
     ]
    },
    {
     "name": "stdout",
     "output_type": "stream",
     "text": [
      "2025-05-15 17:21:24 src.trace INFO     base_score=20.5 | low_score=7.9375\n",
      "2025-05-15 17:21:24 matplotlib.colorbar DEBUG    locator: <matplotlib.ticker.AutoLocator object at 0x78dcd86b2910>\n",
      "2025-05-15 17:21:24 matplotlib.axes._base DEBUG    title position was updated manually, not adjusting\n"
     ]
    },
    {
     "name": "stderr",
     "output_type": "stream",
     "text": [
      "\n"
     ]
    },
    {
     "name": "stdout",
     "output_type": "stream",
     "text": [
      "2025-05-15 17:21:24 matplotlib.axes._base DEBUG    title position was updated manually, not adjusting\n",
      "2025-05-15 17:21:24 matplotlib.axes._base DEBUG    title position was updated manually, not adjusting\n",
      "2025-05-15 17:21:24 matplotlib.axes._base DEBUG    title position was updated manually, not adjusting\n"
     ]
    },
    {
     "data": {
      "image/png": "[encoded data removed]",
      "text/plain": [
       "<Figure size 700x568 with 2 Axes>"
      ]
     },
     "metadata": {},
     "output_type": "display_data"
    },
    {
     "name": "stdout",
     "output_type": "stream",
     "text": [
      "===> trace_start_idx=268\n",
      "2025-05-15 17:21:24 src.trace DEBUG    answer=PredictedToken(token=' Design', prob=0.54296875, logit=20.5, token_id=6982, metadata=None)\n",
      "2025-05-15 17:21:24 src.trace DEBUG    clean_answer=PredictedToken(token=' British', prob=0.416015625, logit=19.875, token_id=7855, metadata=None)\n",
      "2025-05-15 17:21:24 src.trace DEBUG    track_ans=PredictedToken(token=' Design', prob=2.7120113372802734e-06, logit=7.9375, token_id=6982, metadata=None)\n",
      "2025-05-15 17:21:24 src.trace DEBUG    base_score=20.5 | low_score=7.9375\n",
      "2025-05-15 17:21:24 src.trace DEBUG    ---------- tracing important states | kind='attention' ----------\n"
     ]
    },
    {
     "name": "stderr",
     "output_type": "stream",
     "text": [
      "100%|██████████| 520/520 [01:16<00:00,  6.79it/s]"
     ]
    },
    {
     "name": "stdout",
     "output_type": "stream",
     "text": [
      "2025-05-15 17:22:41 src.trace INFO     base_score=20.5 | low_score=7.9375\n",
      "2025-05-15 17:22:41 matplotlib.colorbar DEBUG    locator: <matplotlib.ticker.AutoLocator object at 0x78dcd896a390>\n",
      "2025-05-15 17:22:41 matplotlib.axes._base DEBUG    title position was updated manually, not adjusting\n"
     ]
    },
    {
     "name": "stderr",
     "output_type": "stream",
     "text": [
      "\n"
     ]
    },
    {
     "name": "stdout",
     "output_type": "stream",
     "text": [
      "2025-05-15 17:22:41 matplotlib.axes._base DEBUG    title position was updated manually, not adjusting\n",
      "2025-05-15 17:22:41 matplotlib.axes._base DEBUG    title position was updated manually, not adjusting\n",
      "2025-05-15 17:22:41 matplotlib.axes._base DEBUG    title position was updated manually, not adjusting\n"
     ]
    },
    {
     "data": {
      "image/png": "[encoded data removed]",
      "text/plain": [
       "<Figure size 700x568 with 2 Axes>"
      ]
     },
     "metadata": {},
     "output_type": "display_data"
    }
   ],
   "source": [
    "from src.trace import trace_important_states\n",
    "from src.plotting import plot_trace_heatmap\n",
    "\n",
    "for kind in [\"residual\", \"mlp\", \"attention\"]:\n",
    "# for kind in [\"residual\"]:\n",
    "    trace_results = trace_important_states(\n",
    "        mt=mt_check,\n",
    "        prompt_template=prompt_template,\n",
    "        clean_subj=clean_entity,\n",
    "        patched_subj=patch_entity,\n",
    "        # clean_input=TokenizerOutput(data=clean_prompt.tokenized),\n",
    "        # patched_input=TokenizerOutput(data=patch_prompt.tokenized),\n",
    "        trace_start_marker=\"#\",\n",
    "\n",
    "        metric=\"logit\",\n",
    "        # normalize=False,\n",
    "        kind=kind,\n",
    "        window_size=1 if kind == \"residual\" else 5,\n",
    "    )\n",
    "\n",
    "    plot_trace_heatmap(\n",
    "        result=trace_results,\n",
    "        model_name=model_key.split(\"/\")[-1],\n",
    "        scale_range=(0, 1) if trace_results.normalized is True else None,\n",
    "    )"
   ]
  },
  {
   "cell_type": "code",
   "execution_count": null,
   "id": "1c7ab7b2",
   "metadata": {},
   "outputs": [],
   "source": []
  }
 ],
 "metadata": {
  "kernelspec": {
   "display_name": "retrieval",
   "language": "python",
   "name": "python3"
  },
  "language_info": {
   "codemirror_mode": {
    "name": "ipython",
    "version": 3
   },
   "file_extension": ".py",
   "mimetype": "text/x-python",
   "name": "python",
   "nbconvert_exporter": "python",
   "pygments_lexer": "ipython3",
   "version": "3.11.9"
  }
 },
 "nbformat": 4,
 "nbformat_minor": 5
}
