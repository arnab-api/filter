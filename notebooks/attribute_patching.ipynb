{
 "cells": [
  {
   "cell_type": "code",
   "execution_count": 1,
   "metadata": {},
   "outputs": [],
   "source": [
    "%load_ext autoreload\n",
    "%autoreload 2"
   ]
  },
  {
   "cell_type": "code",
   "execution_count": 2,
   "metadata": {},
   "outputs": [
    {
     "name": "stderr",
     "output_type": "stream",
     "text": [
      "/home/local_arnab/miniconda3/envs/retrieval/lib/python3.11/site-packages/tqdm/auto.py:21: TqdmWarning: IProgress not found. Please update jupyter and ipywidgets. See https://ipywidgets.readthedocs.io/en/stable/user_install.html\n",
      "  from .autonotebook import tqdm as notebook_tqdm\n"
     ]
    },
    {
     "name": "stdout",
     "output_type": "stream",
     "text": [
      "2024-08-09 11:27:29 __main__ INFO     torch.__version__='2.3.1', torch.version.cuda='12.1'\n",
      "2024-08-09 11:27:29 __main__ INFO     torch.cuda.is_available()=True, torch.cuda.device_count()=1, torch.cuda.get_device_name()='NVIDIA RTX A6000'\n",
      "2024-08-09 11:27:29 __main__ INFO     transformers.__version__='4.43.3'\n",
      "2024-08-09 11:27:29 httpx DEBUG    load_ssl_context verify=True cert=None trust_env=True http2=False\n",
      "2024-08-09 11:27:29 httpx DEBUG    load_verify_locations cafile='/home/local_arnab/miniconda3/envs/retrieval/lib/python3.11/site-packages/certifi/cacert.pem'\n"
     ]
    }
   ],
   "source": [
    "import os, time, json\n",
    "import pandas as pd\n",
    "from openai import OpenAI\n",
    "from tqdm.auto import tqdm\n",
    "import spacy\n",
    "\n",
    "import sys\n",
    "sys.path.append(\"../\")\n",
    "import os\n",
    "\n",
    "import logging\n",
    "from src.utils import logging_utils\n",
    "from src.utils import env_utils\n",
    "from src import functional\n",
    "\n",
    "logger = logging.getLogger(__name__)\n",
    "\n",
    "logging.basicConfig(\n",
    "    level=logging.DEBUG,\n",
    "    format=logging_utils.DEFAULT_FORMAT,\n",
    "    datefmt=logging_utils.DEFAULT_DATEFMT,\n",
    "    stream=sys.stdout,\n",
    ")\n",
    "\n",
    "import torch\n",
    "import transformers\n",
    "\n",
    "logger.info(f\"{torch.__version__=}, {torch.version.cuda=}\")\n",
    "logger.info(f\"{torch.cuda.is_available()=}, {torch.cuda.device_count()=}, {torch.cuda.get_device_name()=}\")\n",
    "logger.info(f\"{transformers.__version__=}\")\n",
    "\n",
    "\n",
    "client = OpenAI(\n",
    "    api_key=os.getenv(\"OPENAI_KEY\"),\n",
    ")\n",
    "\n",
    "MODEL_NAME = \"gpt-4o\""
   ]
  },
  {
   "cell_type": "code",
   "execution_count": 3,
   "metadata": {},
   "outputs": [
    {
     "name": "stdout",
     "output_type": "stream",
     "text": [
      "2024-08-09 11:27:30 accelerate.utils.modeling INFO     We will use 90% of the memory on device 0 for storing the model, and 10% for the buffer to avoid OOM. You can set `max_memory` in to a higher value to use more memory (at your own risk).\n"
     ]
    },
    {
     "name": "stderr",
     "output_type": "stream",
     "text": [
      "Loading checkpoint shards: 100%|██████████| 4/4 [00:05<00:00,  1.35s/it]"
     ]
    },
    {
     "name": "stdout",
     "output_type": "stream",
     "text": [
      "2024-08-09 11:27:36 src.models INFO     loaded model </home/local_arnab/Codes/00_MODEL/meta-llama/Meta-Llama-3-8B-Instruct> | size: 15316.516 MB | dtype: torch.float16 | device: cuda:0\n"
     ]
    },
    {
     "name": "stderr",
     "output_type": "stream",
     "text": [
      "\n"
     ]
    }
   ],
   "source": [
    "import torch\n",
    "\n",
    "from nnsight import LanguageModel\n",
    "from src.models import ModelandTokenizer\n",
    "\n",
    "# model_key = \"meta-llama/Meta-Llama-3-8B\"\n",
    "model_key = \"meta-llama/Meta-Llama-3-8B-Instruct\"\n",
    "# model_key = \"google/gemma-2-9b-it\"\n",
    "# model_key = \"google/gemma-2-27b-it\"\n",
    "# model_key = \"Qwen/Qwen2-7B\"\n",
    "\n",
    "mt = ModelandTokenizer(\n",
    "    model_key=model_key,\n",
    "    torch_dtype=torch.float16,\n",
    ")"
   ]
  },
  {
   "cell_type": "code",
   "execution_count": 27,
   "metadata": {},
   "outputs": [],
   "source": [
    "from src.utils.typing import TokenizerOutput\n",
    "from src.functional import get_module_nnsight, untuple, get_hs, PatchSpec\n",
    "from typing import Literal\n",
    "from dataclasses import dataclass\n",
    "\n",
    "\n",
    "#! the clean here actually stands for **corrupt* in the causal tracing\n",
    "def attribution_patching(\n",
    "    mt: ModelandTokenizer,\n",
    "    clean_inputs: TokenizerOutput,\n",
    "    patches: PatchSpec | list[PatchSpec],\n",
    "    interested_locations: list[tuple[str, int]],\n",
    "    ans_token_idx: int,\n",
    "    metric: Literal[\"logit\", \"proba\"] = \"proba\",\n",
    "    resolution: int = 10,\n",
    "    intermediate_point_sample: Literal[\"linear\", \"non-linear\"] = \"non-linear\",\n",
    ") -> float:\n",
    "\n",
    "    if \"offset_mapping\" in clean_inputs:\n",
    "        clean_inputs.pop(\"offset_mapping\")\n",
    "    if isinstance(patches, PatchSpec):\n",
    "        patches = [patches]\n",
    "\n",
    "    clean_states = get_hs(\n",
    "        mt = mt, \n",
    "        input = clean_inputs,\n",
    "        locations = interested_locations,\n",
    "    )\n",
    "    patched_states = get_hs(\n",
    "        mt = mt, \n",
    "        input = clean_inputs,\n",
    "        locations = interested_locations,\n",
    "        patches = patches\n",
    "    )\n",
    "\n",
    "    scan = True\n",
    "\n",
    "    @dataclass\n",
    "    class IGCache:\n",
    "        h: torch.Tensor\n",
    "        grad: torch.Tensor\n",
    "\n",
    "        def __post_init__(self):\n",
    "            self.h.shape == self.grad.shape\n",
    "\n",
    "\n",
    "    approx_IE = {loc: [] for loc in interested_locations}\n",
    "    alphas = torch.linspace(0, 1, resolution+1)\n",
    "\n",
    "    for a_idx in range(len(alphas)-1):\n",
    "        alpha = alphas[a_idx]\n",
    "\n",
    "        with mt.trace(clean_inputs, scan=scan) as trace:\n",
    "            # patching\n",
    "            for patch in patches:\n",
    "                module_name, tok_idx = patch.location\n",
    "                patch_module = get_module_nnsight(mt, module_name)\n",
    "\n",
    "                assert isinstance(patch.clean, torch.Tensor) and patch.clean.shape == patch.patch.shape\n",
    "                mid_point = (1 - alpha) * patch.clean + alpha * patch.patch\n",
    "                mid_point = mid_point.to(mt.device) if not mid_point.device == mt.device else mid_point\n",
    "                mid_point.retain_grad = True\n",
    "\n",
    "                patch_module.output[0, tok_idx, :] = mid_point\n",
    "\n",
    "            # cache the interested hidden states\n",
    "            for loc in interested_locations:\n",
    "                module_name, tok_idx = loc\n",
    "                module = get_module_nnsight(mt, module_name)\n",
    "                cur_output = (\n",
    "                    module.output.save()\n",
    "                    if (\"mlp\" in module_name or module_name == mt.embedder_name)\n",
    "                    else module.output[0].save()\n",
    "                )   #! nnsight quirk => to get the grad of a reference tensor, you can't index it\n",
    "                \n",
    "                approx_IE[loc].append(\n",
    "                    IGCache(\n",
    "                        h = cur_output[0, tok_idx, :].save(),\n",
    "                        grad = cur_output.grad[0, tok_idx, :].save()\n",
    "                    )\n",
    "                )\n",
    "\n",
    "            #! nnsight quirk => backward() has to be called later than grad.save() to populate the proxies\n",
    "            if metric == \"logit\":\n",
    "                v = mt.output.logits[0][-1][ans_token_idx]\n",
    "            elif metric == \"proba\":\n",
    "                v = mt.output.logits[0][-1].softmax(dim=-1)[ans_token_idx]\n",
    "            else:\n",
    "                raise ValueError(f\"unknown {metric=}\")\n",
    "            v.backward()\n",
    "\n",
    "        mt._model.zero_grad()\n",
    "        scan = False\n",
    "\n",
    "    grads = {loc: sum([ig.grad for ig in approx_IE[loc]]) / resolution for loc in interested_locations}\n",
    "\n",
    "    if intermediate_point_sample == \"linear\":\n",
    "        approx_IE = {\n",
    "            loc: torch.dot(grad, patched_states[loc] - clean_states[loc]).item() \n",
    "            for loc, grad in grads.items()\n",
    "        } \n",
    "    elif intermediate_point_sample == \"non-linear\":\n",
    "        for loc in interested_locations:\n",
    "            ie_approx = 0\n",
    "            for a_idx in range(len(alphas)-1):\n",
    "                grad = approx_IE[loc][a_idx].grad\n",
    "                h_0 = approx_IE[loc][a_idx].h\n",
    "                h_next = approx_IE[loc][a_idx+1].h if a_idx < len(alphas)-2 else patched_states[loc]\n",
    "\n",
    "                ie_approx += torch.dot(grad, h_next - h_0).item()\n",
    "            \n",
    "            approx_IE[loc] = ie_approx\n",
    "    else:\n",
    "        raise ValueError(f\"unknown {intermediate_point_sample=}\")\n",
    "\n",
    "    return approx_IE"
   ]
  },
  {
   "cell_type": "code",
   "execution_count": 6,
   "metadata": {},
   "outputs": [],
   "source": [
    "from src.functional import prepare_input, guess_subject\n",
    "from src.functional import find_token_range, get_hs\n",
    "from typing import Optional\n",
    "\n",
    "def get_h_at_subj(\n",
    "    mt: ModelandTokenizer,\n",
    "    layer: str | list[str],\n",
    "    prompt: str | TokenizerOutput,\n",
    "    subj: Optional[str] = None,\n",
    "    input: Optional[TokenizerOutput] = None,\n",
    ") -> torch.Tensor:\n",
    "    if subj is None:\n",
    "        subj = guess_subject(prompt)\n",
    "        logger.warning(f\"no subj provided, guessed {subj=}\")\n",
    "    else:\n",
    "        assert subj in prompt, f\"{subj=} not in {prompt=}\"\n",
    "\n",
    "    skip_prepare_input = input is not None and \"offset_mapping\" in input\n",
    "    if not skip_prepare_input:\n",
    "        logger.debug(f\"preparing input for prompt: {prompt}\")\n",
    "        input = prepare_input(\n",
    "            prompts=prompt, \n",
    "            tokenizer=mt, \n",
    "            return_offsets_mapping=True\n",
    "        )\n",
    "    offset_mapping = input.pop(\"offset_mapping\")[0]\n",
    "    subj_range = find_token_range(string=prompt, substring=subj, tokenizer=mt.tokenizer, offset_mapping=offset_mapping)\n",
    "    subj_ends = subj_range[1] - 1\n",
    "\n",
    "    logger.debug(f\"{subj=} => {subj_ends=} | \\\"{mt.tokenizer.decode(input['input_ids'][0][subj_ends])}\\\"\")\n",
    "\n",
    "    return get_hs(\n",
    "        mt = mt, input = input, \n",
    "        locations = [(l, subj_ends) for l in layer]\n",
    "    )\n",
    "\n",
    "\n",
    "# prompt =  \"{} is located in the city of\"\n",
    "# clean_subj = \"Louvre\"\n",
    "# patch_subj = \"The Space Needle\"\n",
    "\n",
    "# clean_hs, patch_hs = [\n",
    "#     get_h_at_subj(\n",
    "#         mt = mt, \n",
    "#         layer = [mt.embedder_name],\n",
    "#         prompt = prompt.format(subj),\n",
    "#         subj = subj,\n",
    "#     ) for subj in [clean_subj, patch_subj]\n",
    "# ]"
   ]
  },
  {
   "cell_type": "code",
   "execution_count": 63,
   "metadata": {},
   "outputs": [
    {
     "name": "stdout",
     "output_type": "stream",
     "text": [
      "2024-08-09 11:53:25 __main__ DEBUG    \" Seattle\" (p=0.987)\n",
      "2024-08-09 11:53:25 __main__ DEBUG    clean_subj_range=(1, 3) | vre\n",
      "2024-08-09 11:53:25 __main__ DEBUG    patched_subj_range=(1, 4) |  Needle\n",
      "idx=0 [1] | <|begin_of_text|>\n",
      "idx=1 [1] | <|begin_of_text|>\n",
      "idx=2 [1] | Lou*\n",
      "idx=3 [1] | vre*\n",
      "idx=4 [1] |  is\n",
      "idx=5 [1] |  located\n",
      "idx=6 [1] |  in\n",
      "idx=7 [1] |  the\n",
      "idx=8 [1] |  city\n",
      "idx=9 [1] |  of\n",
      "--------------------------------------------------\n",
      "idx=0 [1] | <|begin_of_text|>\n",
      "idx=1 [1] | The*\n",
      "idx=2 [1] |  Space*\n",
      "idx=3 [1] |  Needle*\n",
      "idx=4 [1] |  is\n",
      "idx=5 [1] |  located\n",
      "idx=6 [1] |  in\n",
      "idx=7 [1] |  the\n",
      "idx=8 [1] |  city\n",
      "idx=9 [1] |  of\n"
     ]
    }
   ],
   "source": [
    "from src.functional import predict_next_token\n",
    "from src.trace import insert_padding_before_subj\n",
    "\n",
    "prompt =  \"{} is located in the city of\"\n",
    "clean_subj = \"Louvre\"\n",
    "patch_subj = \"The Space Needle\"\n",
    "\n",
    "# prompt = \"{} plays the sport of\"\n",
    "# clean_subj = \"Michael Jordan\"\n",
    "# patch_subj = \"Leo Messi\"\n",
    "\n",
    "\n",
    "ans = predict_next_token(\n",
    "    mt = mt,\n",
    "    inputs = prompt.format(patch_subj),\n",
    ")[0][0]\n",
    "\n",
    "logger.debug(ans)\n",
    "\n",
    "clean_inputs = prepare_input(\n",
    "    prompts=prompt.format(clean_subj), \n",
    "    tokenizer=mt, \n",
    "    return_offsets_mapping=True\n",
    ")\n",
    "clean_subj_range = find_token_range(\n",
    "    string=prompt.format(clean_subj), \n",
    "    substring=clean_subj, \n",
    "    tokenizer=mt.tokenizer,\n",
    "    offset_mapping=clean_inputs[\"offset_mapping\"][0]\n",
    ")\n",
    "logger.debug(f\"{clean_subj_range=} | {mt.tokenizer.decode(clean_inputs['input_ids'][0][clean_subj_range[1]-1])}\")\n",
    "\n",
    "patched_inputs = prepare_input(\n",
    "    prompts=prompt.format(patch_subj), \n",
    "    tokenizer=mt, \n",
    "    return_offsets_mapping=True\n",
    ")\n",
    "patched_subj_range = find_token_range(\n",
    "    string=prompt.format(patch_subj), \n",
    "    substring=patch_subj, \n",
    "    tokenizer=mt.tokenizer,\n",
    "    offset_mapping=patched_inputs[\"offset_mapping\"][0]\n",
    ")\n",
    "logger.debug(f\"{patched_subj_range=} | {mt.tokenizer.decode(patched_inputs['input_ids'][0][patched_subj_range[1]-1])}\")\n",
    "\n",
    "subj_end = max(clean_subj_range[1], patched_subj_range[1])\n",
    "\n",
    "clean_inputs = insert_padding_before_subj(\n",
    "    inp = clean_inputs,\n",
    "    subj_range = clean_subj_range,\n",
    "    subj_ends = subj_end,\n",
    "    pad_id = mt.tokenizer.bos_token_id,\n",
    "    fill_attn_mask=True\n",
    ")\n",
    "patched_inputs = insert_padding_before_subj(\n",
    "    inp = patched_inputs,\n",
    "    subj_range = patched_subj_range,\n",
    "    subj_ends = subj_end,\n",
    "    pad_id = mt.tokenizer.bos_token_id,\n",
    "    fill_attn_mask=True\n",
    ")\n",
    "\n",
    "clean_subj_shift = subj_end - clean_subj_range[1]\n",
    "clean_subj_range = (clean_subj_range[0] + clean_subj_shift, subj_end)\n",
    "patched_subj_shift = subj_end - patched_subj_range[1]\n",
    "patched_subj_range = (patched_subj_range[0] + patched_subj_shift, subj_end)\n",
    "\n",
    "subj_start = min(clean_subj_range[0], patched_subj_range[0])\n",
    "\n",
    "for idx, (tok_id, attn_mask) in enumerate(zip(clean_inputs.input_ids[0], clean_inputs.attention_mask[0])):\n",
    "    is_subj = clean_subj_range[0] <= idx < clean_subj_range[1]\n",
    "    append = \"*\" if is_subj else \"\"\n",
    "    print(f\"{idx=} [{attn_mask}] | {mt.tokenizer.decode(tok_id)}\"+append)\n",
    "\n",
    "print(\"-\"*50)\n",
    "\n",
    "for idx, (tok_id, attn_mask) in enumerate(zip(patched_inputs.input_ids[0], patched_inputs.attention_mask[0])):\n",
    "    is_subj = patched_subj_range[0] <= idx < patched_subj_range[1]\n",
    "    append = \"*\" if is_subj else \"\"\n",
    "    print(f\"{idx=} [{attn_mask}] | {mt.tokenizer.decode(tok_id)}\"+append)"
   ]
  },
  {
   "cell_type": "code",
   "execution_count": 64,
   "metadata": {},
   "outputs": [
    {
     "name": "stdout",
     "output_type": "stream",
     "text": [
      "key=('model.embed_tokens', 1) | emb_clean[key].shape=torch.Size([4096]) | emb_patch[key].shape=torch.Size([4096])\n",
      "key=('model.embed_tokens', 2) | emb_clean[key].shape=torch.Size([4096]) | emb_patch[key].shape=torch.Size([4096])\n",
      "key=('model.embed_tokens', 3) | emb_clean[key].shape=torch.Size([4096]) | emb_patch[key].shape=torch.Size([4096])\n"
     ]
    }
   ],
   "source": [
    "emb_clean = get_hs(\n",
    "    mt = mt, \n",
    "    input = clean_inputs,\n",
    "    locations = [(mt.embedder_name, tok_idx) for tok_idx in range(subj_start, subj_end)]\n",
    ")\n",
    "emb_patch = get_hs(\n",
    "    mt = mt, \n",
    "    input = patched_inputs,\n",
    "    locations = [(mt.embedder_name, tok_idx) for tok_idx in range(subj_start, subj_end)]\n",
    ")\n",
    "\n",
    "for key in emb_clean.keys():\n",
    "    print(f\"{key=} | {emb_clean[key].shape=} | {emb_patch[key].shape=}\")"
   ]
  },
  {
   "cell_type": "code",
   "execution_count": 65,
   "metadata": {},
   "outputs": [
    {
     "data": {
      "text/plain": [
       "True"
      ]
     },
     "execution_count": 65,
     "metadata": {},
     "output_type": "execute_result"
    }
   ],
   "source": [
    "patch_spec = [\n",
    "    PatchSpec(\n",
    "        location = location,\n",
    "        patch = emb_patch[location],\n",
    "        clean = emb_clean[location],\n",
    "    ) for location in emb_clean.keys()\n",
    "]\n",
    "\n",
    "test_h = get_hs(\n",
    "    mt=mt,\n",
    "    input=clean_inputs,\n",
    "    locations=[(mt.embedder_name, subj_end - 1)],\n",
    "    # patches=PatchSpec(\n",
    "    #     location=(mt.embedder_name, subj_end - 1),\n",
    "    #     patch=emb_patch[(mt.embedder_name, subj_end - 1)],  \n",
    "    # ),\n",
    "    patches=patch_spec,\n",
    ")\n",
    "\n",
    "torch.allclose(emb_patch[(mt.embedder_name, subj_end - 1)], test_h)"
   ]
  },
  {
   "cell_type": "code",
   "execution_count": 66,
   "metadata": {},
   "outputs": [
    {
     "data": {
      "text/plain": [
       "[[PredictedToken(token=' Paris', prob=0.5268027186393738, token_id=tensor(12366, device='cuda:0')),\n",
       "  PredictedToken(token=' Lou', prob=0.030424969270825386, token_id=tensor(9928, device='cuda:0')),\n",
       "  PredictedToken(token=' Abu', prob=0.02351059392094612, token_id=tensor(31229, device='cuda:0')),\n",
       "  PredictedToken(token=' Athens', prob=0.009425216354429722, token_id=tensor(46926, device='cuda:0')),\n",
       "  PredictedToken(token=' the', prob=0.008125044405460358, token_id=tensor(279, device='cuda:0'))]]"
      ]
     },
     "execution_count": 66,
     "metadata": {},
     "output_type": "execute_result"
    }
   ],
   "source": [
    "clean_predictions = predict_next_token(mt = mt, inputs = clean_inputs)\n",
    "clean_predictions"
   ]
  },
  {
   "cell_type": "code",
   "execution_count": 67,
   "metadata": {},
   "outputs": [
    {
     "data": {
      "text/plain": [
       "[[PredictedToken(token=' Seattle', prob=0.9870282411575317, token_id=tensor(16759, device='cuda:0')),\n",
       "  PredictedToken(token=' Bell', prob=0.0012792334891855717, token_id=tensor(18366, device='cuda:0')),\n",
       "  PredictedToken(token=' Seat', prob=0.0009286241256631911, token_id=tensor(40323, device='cuda:0')),\n",
       "  PredictedToken(token=' Bellev', prob=0.0008860992384143174, token_id=tensor(86705, device='cuda:0')),\n",
       "  PredictedToken(token=' Frem', prob=0.0005676564760506153, token_id=tensor(68310, device='cuda:0'))]]"
      ]
     },
     "execution_count": 67,
     "metadata": {},
     "output_type": "execute_result"
    }
   ],
   "source": [
    "patch_predictions = predict_next_token(mt = mt, inputs = patched_inputs)\n",
    "patch_predictions"
   ]
  },
  {
   "cell_type": "code",
   "execution_count": null,
   "metadata": {},
   "outputs": [],
   "source": []
  },
  {
   "cell_type": "code",
   "execution_count": 68,
   "metadata": {},
   "outputs": [],
   "source": [
    "# locations = [(mt.embedder_name, tok_idx) for tok_idx in range(clean_inputs.input_ids.shape[1])]\n",
    "module_template = mt.attn_module_name_format\n",
    "\n",
    "locations = []\n",
    "for l_idx in range(mt.n_layer):\n",
    "    module = module_template.format(l_idx)\n",
    "    for tok_idx in range(clean_inputs.input_ids.shape[1]):\n",
    "        locations.append((module, tok_idx))"
   ]
  },
  {
   "cell_type": "code",
   "execution_count": 69,
   "metadata": {},
   "outputs": [],
   "source": [
    "# from src.functional import logit_lens\n",
    "# hs = get_hs(\n",
    "#     mt = mt, \n",
    "#     input = patched_inputs,\n",
    "#     locations = locations,\n",
    "# )\n",
    "# logit_lens(mt=mt, h=hs[(mt.layer_names[-1], clean_inputs.input_ids.shape[1] - 1)], get_proba=True)"
   ]
  },
  {
   "cell_type": "code",
   "execution_count": 70,
   "metadata": {},
   "outputs": [],
   "source": [
    "# from src.functional import logit_lens\n",
    "# hs_str = get_hs(\n",
    "#     mt = mt, \n",
    "#     input = clean_inputs,\n",
    "#     locations = locations,\n",
    "#     patches=patch_spec,\n",
    "# )\n",
    "# # hs_str[(mt.layer_names[-1], clean_inputs.input_ids.shape[1] - 1)]\n",
    "# logit_lens(mt=mt, h=hs_str[(mt.layer_names[-1], clean_inputs.input_ids.shape[1] - 1)], get_proba=True)"
   ]
  },
  {
   "cell_type": "code",
   "execution_count": 71,
   "metadata": {},
   "outputs": [],
   "source": [
    "# # layer = mt.embedder_name\n",
    "# layer = mt.layer_names[0]\n",
    "# for tok_idx in range(clean_inputs.input_ids.shape[1]):\n",
    "#     h = hs[(layer, tok_idx)]\n",
    "#     h_str = hs_str[(layer, tok_idx)]\n",
    "#     print(f\"{tok_idx=} | {mt.tokenizer.decode(patched_inputs.input_ids[0][tok_idx])} => {h.norm().item()=} | {h_str.norm().item()=} || {torch.allclose(h, h_str)}\")"
   ]
  },
  {
   "cell_type": "code",
   "execution_count": 72,
   "metadata": {},
   "outputs": [
    {
     "data": {
      "text/plain": [
       "(torch.Size([1, 10]), torch.Size([1, 10]))"
      ]
     },
     "execution_count": 72,
     "metadata": {},
     "output_type": "execute_result"
    }
   ],
   "source": [
    "clean_inputs.input_ids.shape, patched_inputs.input_ids.shape"
   ]
  },
  {
   "cell_type": "code",
   "execution_count": 73,
   "metadata": {},
   "outputs": [],
   "source": [
    "results = attribution_patching(\n",
    "    mt = mt,\n",
    "    clean_inputs = clean_inputs,\n",
    "    patches = patch_spec,\n",
    "    interested_locations=locations,\n",
    "    ans_token_idx=ans.token_id,\n",
    ")"
   ]
  },
  {
   "cell_type": "code",
   "execution_count": 79,
   "metadata": {},
   "outputs": [
    {
     "data": {
      "text/plain": [
       "torch.Size([9, 32])"
      ]
     },
     "execution_count": 79,
     "metadata": {},
     "output_type": "execute_result"
    }
   ],
   "source": [
    "from src.trace import get_window\n",
    "\n",
    "window_size = 1\n",
    "\n",
    "trace_start_idx = 1\n",
    "approx_effects = torch.zeros(\n",
    "    len(range(trace_start_idx, clean_inputs.input_ids.shape[1])), \n",
    "    mt.n_layer\n",
    ")\n",
    "\n",
    "for l in range(mt.n_layer):\n",
    "    for t in range(trace_start_idx, clean_inputs.input_ids.shape[1]):\n",
    "        if window_size == 1:\n",
    "            approx_effects[t - trace_start_idx, l] = results[(module_template.format(l), t)]\n",
    "        else:\n",
    "            approx_effects[t - trace_start_idx, l] = sum([\n",
    "                results[(module, t)] \n",
    "                for module in get_window(module_template, l, window_size, mt.n_layer)\n",
    "            ])\n",
    "            \n",
    "approx_effects.shape"
   ]
  },
  {
   "cell_type": "code",
   "execution_count": 80,
   "metadata": {},
   "outputs": [
    {
     "name": "stdout",
     "output_type": "stream",
     "text": [
      "2024-08-09 11:54:36 matplotlib.colorbar DEBUG    locator: <matplotlib.ticker.AutoLocator object at 0x7f89971b5c50>\n",
      "2024-08-09 11:54:36 matplotlib.axes._base DEBUG    title position was updated manually, not adjusting\n",
      "2024-08-09 11:54:36 matplotlib.axes._base DEBUG    title position was updated manually, not adjusting\n",
      "2024-08-09 11:54:36 matplotlib.axes._base DEBUG    title position was updated manually, not adjusting\n",
      "2024-08-09 11:54:36 matplotlib.axes._base DEBUG    title position was updated manually, not adjusting\n"
     ]
    },
    {
     "data": {
      "image/png": "[encoded data removed]",
      "text/plain": [
       "<Figure size 700x504 with 2 Axes>"
      ]
     },
     "metadata": {},
     "output_type": "display_data"
    }
   ],
   "source": [
    "from src.trace import CausalTracingResult\n",
    "from src.plotting import plot_trace_heatmap\n",
    "\n",
    "trace_result = CausalTracingResult(\n",
    "    corrupt_input_toks = [mt.tokenizer.decode(tok) for tok in clean_inputs.input_ids[0]],\n",
    "    clean_input_toks = [mt.tokenizer.decode(tok) for tok in patched_inputs.input_ids[0]],\n",
    "    trace_start_idx=1,\n",
    "    answer = ans,\n",
    "    low_score = 0.0,\n",
    "    window = window_size,\n",
    "    normalized = False,\n",
    "    kind=\"attention\",\n",
    "    indirect_effects=approx_effects,\n",
    ")\n",
    "\n",
    "plot_trace_heatmap(\n",
    "    result = trace_result,\n",
    "    model_name = mt.name.split(\"/\")[-1],\n",
    ")"
   ]
  },
  {
   "cell_type": "code",
   "execution_count": 81,
   "metadata": {},
   "outputs": [
    {
     "data": {
      "text/plain": [
       "('{} is located in the city of', 'Louvre', 'The Space Needle')"
      ]
     },
     "execution_count": 81,
     "metadata": {},
     "output_type": "execute_result"
    }
   ],
   "source": [
    "prompt, clean_subj, patch_subj"
   ]
  },
  {
   "cell_type": "code",
   "execution_count": 82,
   "metadata": {},
   "outputs": [
    {
     "name": "stdout",
     "output_type": "stream",
     "text": [
      "2024-08-09 11:54:45 src.trace DEBUG    answer=PredictedToken(token=' Seattle', prob=0.9870282411575317, token_id=tensor(16759, device='cuda:0'))\n",
      "2024-08-09 11:54:46 src.trace DEBUG    clean_answer=PredictedToken(token=' Paris', prob=0.7363205552101135, token_id=tensor(12366, device='cuda:0'))\n",
      "2024-08-09 11:54:46 src.trace DEBUG    track_ans=[(155, PredictedToken(token=' Seattle', prob=0.00017379186465404928, token_id=16759))]\n",
      "2024-08-09 11:54:46 src.trace DEBUG    ---------- tracing important states ----------\n"
     ]
    },
    {
     "name": "stderr",
     "output_type": "stream",
     "text": [
      "100%|██████████| 320/320 [00:10<00:00, 30.37it/s]\n"
     ]
    }
   ],
   "source": [
    "from src.trace import trace_important_states\n",
    "\n",
    "indirect_effects = trace_important_states(\n",
    "    mt = mt, \n",
    "    prompt_template = prompt,\n",
    "    clean_subj = clean_subj,\n",
    "    patched_subj = patch_subj,\n",
    "    kind=\"attention\",\n",
    "    window_size=window_size,\n",
    "    normalize=False\n",
    ")"
   ]
  },
  {
   "cell_type": "code",
   "execution_count": 83,
   "metadata": {},
   "outputs": [
    {
     "name": "stdout",
     "output_type": "stream",
     "text": [
      "2024-08-09 11:54:58 matplotlib.colorbar DEBUG    locator: <matplotlib.ticker.AutoLocator object at 0x7f8980946710>\n",
      "2024-08-09 11:54:58 matplotlib.axes._base DEBUG    title position was updated manually, not adjusting\n",
      "2024-08-09 11:54:58 matplotlib.axes._base DEBUG    title position was updated manually, not adjusting\n",
      "2024-08-09 11:54:58 matplotlib.axes._base DEBUG    title position was updated manually, not adjusting\n",
      "2024-08-09 11:54:58 matplotlib.axes._base DEBUG    title position was updated manually, not adjusting\n"
     ]
    },
    {
     "data": {
      "image/png": "[encoded data removed]",
      "text/plain": [
       "<Figure size 700x520 with 2 Axes>"
      ]
     },
     "metadata": {},
     "output_type": "display_data"
    }
   ],
   "source": [
    "plot_trace_heatmap(\n",
    "    result = indirect_effects,\n",
    "    model_name = mt.name.split(\"/\")[-1],\n",
    ")"
   ]
  },
  {
   "cell_type": "code",
   "execution_count": 224,
   "metadata": {},
   "outputs": [
    {
     "name": "stdout",
     "output_type": "stream",
     "text": [
      "tensor(2.5547, device='cuda:0', dtype=torch.float16,\n",
      "       grad_fn=<LinalgVectorNormBackward0>)\n"
     ]
    }
   ],
   "source": [
    "from src.functional import untuple\n",
    "\n",
    "clean_inputs = prepare_input(\n",
    "    prompts=prompt.format(clean_subj), \n",
    "    tokenizer=mt, \n",
    "    return_offsets_mapping=False\n",
    ")\n",
    "\n",
    "\n",
    "cur_grads = {l: None for l in mt.layer_names}\n",
    "\n",
    "# module_name = mt.layer_name_format.format(10)\n",
    "# module_name = mt.embedder_name\n",
    "module_name = mt.mlp_module_name_format.format(10)\n",
    "# module_name = mt.attn_module_name_format.format(10)\n",
    "\n",
    "# h = torch.zeros(mt.n_embd).to(mt.device)\n",
    "# h = []\n",
    "\n",
    "h = torch.Tensor([0.0]).to(mt.device)\n",
    "\n",
    "def add(t):\n",
    "    h += t\n",
    "\n",
    "with mt.trace(clean_inputs, scan = True) as trace:\n",
    "    module = get_module_nnsight(mt, module_name)\n",
    "    mid_point = module.output.save()\n",
    "\n",
    "    # # h_grad = module.output.grad[0, 5, :].save()\n",
    "    # h_grad = mid_point.grad[0, 5, :].save()\n",
    "    # h_mid = mid_point[0, 5, :].save()\n",
    "    # h.append((mid_point[0, 5, :] + mid_point[0, 6, :]).norm().save())\n",
    "    trace.apply(print, mid_point[0, 5, :].norm()) \n",
    "    h = mid_point[0, 5, :].norm().save()\n",
    "\n",
    "    # m = mt.output.logits[0][-1].softmax(dim=-1)[ans.token_id]\n",
    "    # m.backward()\n",
    "\n",
    "\n",
    "\n",
    "    # for l in cur_grads:\n",
    "    #     module = get_module_nnsight(mt, l)\n",
    "    #     cur_grads[l] = module.output[0].grad.save()"
   ]
  },
  {
   "cell_type": "code",
   "execution_count": 225,
   "metadata": {},
   "outputs": [
    {
     "data": {
      "text/plain": [
       "tensor(2.5547, device='cuda:0', dtype=torch.float16,\n",
       "       grad_fn=<LinalgVectorNormBackward0>)"
      ]
     },
     "execution_count": 225,
     "metadata": {},
     "output_type": "execute_result"
    }
   ],
   "source": [
    "# for module, grad in cur_grads.items():\n",
    "#     print(module, grad.shape)\n",
    "h"
   ]
  },
  {
   "cell_type": "code",
   "execution_count": 203,
   "metadata": {},
   "outputs": [
    {
     "data": {
      "text/plain": [
       "torch.Size([1, 9, 4096])"
      ]
     },
     "execution_count": 203,
     "metadata": {},
     "output_type": "execute_result"
    }
   ],
   "source": [
    "untuple(mid_point).shape"
   ]
  },
  {
   "cell_type": "code",
   "execution_count": 13,
   "metadata": {},
   "outputs": [
    {
     "data": {
      "text/plain": [
       "torch.Tensor"
      ]
     },
     "execution_count": 13,
     "metadata": {},
     "output_type": "execute_result"
    }
   ],
   "source": [
    "type(mid_point[-1])"
   ]
  },
  {
   "cell_type": "code",
   "execution_count": 14,
   "metadata": {},
   "outputs": [
    {
     "data": {
      "text/plain": [
       "['model.layers.0',\n",
       " 'model.layers.1',\n",
       " 'model.layers.2',\n",
       " 'model.layers.3',\n",
       " 'model.layers.4',\n",
       " 'model.layers.5',\n",
       " 'model.layers.6',\n",
       " 'model.layers.7',\n",
       " 'model.layers.8',\n",
       " 'model.layers.9',\n",
       " 'model.layers.10',\n",
       " 'model.layers.11',\n",
       " 'model.layers.12',\n",
       " 'model.layers.13',\n",
       " 'model.layers.14',\n",
       " 'model.layers.15',\n",
       " 'model.layers.16',\n",
       " 'model.layers.17',\n",
       " 'model.layers.18',\n",
       " 'model.layers.19',\n",
       " 'model.layers.20',\n",
       " 'model.layers.21',\n",
       " 'model.layers.22',\n",
       " 'model.layers.23',\n",
       " 'model.layers.24',\n",
       " 'model.layers.25',\n",
       " 'model.layers.26',\n",
       " 'model.layers.27',\n",
       " 'model.layers.28',\n",
       " 'model.layers.29',\n",
       " 'model.layers.30',\n",
       " 'model.layers.31']"
      ]
     },
     "execution_count": 14,
     "metadata": {},
     "output_type": "execute_result"
    }
   ],
   "source": [
    "mt.layer_names"
   ]
  },
  {
   "cell_type": "code",
   "execution_count": 205,
   "metadata": {},
   "outputs": [
    {
     "ename": "AttributeError",
     "evalue": "module 'nnsight' has no attribute '__version__'",
     "output_type": "error",
     "traceback": [
      "\u001b[0;31m---------------------------------------------------------------------------\u001b[0m",
      "\u001b[0;31mAttributeError\u001b[0m                            Traceback (most recent call last)",
      "Cell \u001b[0;32mIn[205], line 2\u001b[0m\n\u001b[1;32m      1\u001b[0m \u001b[38;5;28;01mimport\u001b[39;00m \u001b[38;5;21;01mnnsight\u001b[39;00m\n\u001b[0;32m----> 2\u001b[0m \u001b[43mnnsight\u001b[49m\u001b[38;5;241;43m.\u001b[39;49m\u001b[43m__version__\u001b[49m\n",
      "\u001b[0;31mAttributeError\u001b[0m: module 'nnsight' has no attribute '__version__'"
     ]
    }
   ],
   "source": [
    "import nnsight\n",
    "nnsight.__version__"
   ]
  },
  {
   "cell_type": "code",
   "execution_count": null,
   "metadata": {},
   "outputs": [],
   "source": []
  }
 ],
 "metadata": {
  "kernelspec": {
   "display_name": "retrieval",
   "language": "python",
   "name": "python3"
  },
  "language_info": {
   "codemirror_mode": {
    "name": "ipython",
    "version": 3
   },
   "file_extension": ".py",
   "mimetype": "text/x-python",
   "name": "python",
   "nbconvert_exporter": "python",
   "pygments_lexer": "ipython3",
   "version": "3.11.9"
  }
 },
 "nbformat": 4,
 "nbformat_minor": 2
}
