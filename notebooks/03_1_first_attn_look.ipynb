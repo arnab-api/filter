{
 "cells": [
  {
   "cell_type": "code",
   "execution_count": 1,
   "metadata": {},
   "outputs": [],
   "source": [
    "%load_ext autoreload\n",
    "%autoreload 2"
   ]
  },
  {
   "cell_type": "code",
   "execution_count": 2,
   "metadata": {},
   "outputs": [
    {
     "name": "stderr",
     "output_type": "stream",
     "text": [
      "/disk/u/arnab/miniconda3/envs/connection/lib/python3.11/site-packages/tqdm/auto.py:21: TqdmWarning: IProgress not found. Please update jupyter and ipywidgets. See https://ipywidgets.readthedocs.io/en/stable/user_install.html\n",
      "  from .autonotebook import tqdm as notebook_tqdm\n"
     ]
    },
    {
     "name": "stdout",
     "output_type": "stream",
     "text": [
      "2025-06-02 14:23:35 __main__ INFO     torch.__version__='2.7.0+cu126', torch.version.cuda='12.6'\n",
      "2025-06-02 14:23:35 __main__ INFO     torch.cuda.is_available()=True, torch.cuda.device_count()=8, torch.cuda.get_device_name()='NVIDIA A100 80GB PCIe'\n",
      "2025-06-02 14:23:35 __main__ INFO     transformers.__version__='4.51.3'\n"
     ]
    }
   ],
   "source": [
    "import os\n",
    "import json\n",
    "\n",
    "import sys\n",
    "\n",
    "sys.path.append(\"../\")\n",
    "\n",
    "##################################################################\n",
    "os.environ[\"TOKENIZERS_PARALLELISM\"] = \"false\"\n",
    "os.environ[\"CUDA_VISIBLE_DEVICES\"] = \"0,1,2,3,4,5,6,7\"\n",
    "##################################################################\n",
    "\n",
    "import logging\n",
    "from src.utils import logging_utils\n",
    "from src.utils import env_utils\n",
    "\n",
    "logger = logging.getLogger(__name__)\n",
    "\n",
    "logging.basicConfig(\n",
    "    level=logging.DEBUG,\n",
    "    format=logging_utils.DEFAULT_FORMAT,\n",
    "    datefmt=logging_utils.DEFAULT_DATEFMT,\n",
    "    stream=sys.stdout,\n",
    ")\n",
    "\n",
    "import torch\n",
    "import transformers\n",
    "\n",
    "logger.info(f\"{torch.__version__=}, {torch.version.cuda=}\")\n",
    "logger.info(\n",
    "    f\"{torch.cuda.is_available()=}, {torch.cuda.device_count()=}, {torch.cuda.get_device_name()=}\"\n",
    ")\n",
    "logger.info(f\"{transformers.__version__=}\")"
   ]
  },
  {
   "cell_type": "code",
   "execution_count": 3,
   "metadata": {},
   "outputs": [
    {
     "name": "stdout",
     "output_type": "stream",
     "text": [
      "[2025-06-02 14:23:46,746] [INFO] [real_accelerator.py:239:get_accelerator] Setting ds_accelerator to cuda (auto detect)\n",
      "2025-06-02 14:23:46 root INFO     gcc -pthread -B /disk/u/arnab/miniconda3/envs/connection/compiler_compat -DNDEBUG -fwrapv -O2 -Wall -fPIC -O2 -isystem /disk/u/arnab/miniconda3/envs/connection/include -fPIC -O2 -isystem /disk/u/arnab/miniconda3/envs/connection/include -fPIC -c /tmp/tmpm83u4pad/test.c -o /tmp/tmpm83u4pad/test.o\n",
      "2025-06-02 14:23:46 root INFO     gcc -pthread -B /disk/u/arnab/miniconda3/envs/connection/compiler_compat /tmp/tmpm83u4pad/test.o -laio -o /tmp/tmpm83u4pad/a.out\n"
     ]
    },
    {
     "name": "stderr",
     "output_type": "stream",
     "text": [
      "/disk/u/arnab/miniconda3/envs/connection/compiler_compat/ld: cannot find -laio: No such file or directory\n",
      "collect2: error: ld returned 1 exit status\n"
     ]
    },
    {
     "name": "stdout",
     "output_type": "stream",
     "text": [
      "2025-06-02 14:23:47 root INFO     gcc -pthread -B /disk/u/arnab/miniconda3/envs/connection/compiler_compat -DNDEBUG -fwrapv -O2 -Wall -fPIC -O2 -isystem /disk/u/arnab/miniconda3/envs/connection/include -fPIC -O2 -isystem /disk/u/arnab/miniconda3/envs/connection/include -fPIC -c /tmp/tmpdik8ub88/test.c -o /tmp/tmpdik8ub88/test.o\n",
      "2025-06-02 14:23:47 root INFO     gcc -pthread -B /disk/u/arnab/miniconda3/envs/connection/compiler_compat /tmp/tmpdik8ub88/test.o -L/usr -L/usr/lib64 -lcufile -o /tmp/tmpdik8ub88/a.out\n"
     ]
    },
    {
     "name": "stderr",
     "output_type": "stream",
     "text": [
      "/disk/u/arnab/miniconda3/envs/connection/compiler_compat/ld: cannot find -lcufile: No such file or directory\n",
      "collect2: error: ld returned 1 exit status\n"
     ]
    },
    {
     "name": "stdout",
     "output_type": "stream",
     "text": [
      "2025-06-02 14:23:48 git.cmd DEBUG    Popen(['git', 'version'], cwd=/disk/u/arnab/Codes/Projects/retrieval/notebooks, stdin=None, shell=False, universal_newlines=False)\n",
      "2025-06-02 14:23:48 git.cmd DEBUG    Popen(['git', 'version'], cwd=/disk/u/arnab/Codes/Projects/retrieval/notebooks, stdin=None, shell=False, universal_newlines=False)\n",
      "2025-06-02 14:23:48 wandb.docker.auth DEBUG    Trying paths: ['/disk/u/arnab/.docker/config.json', '/disk/u/arnab/.dockercfg']\n",
      "2025-06-02 14:23:48 wandb.docker.auth DEBUG    No config file found\n"
     ]
    },
    {
     "data": {
      "text/plain": [
       "{'model.embed_tokens': 7,\n",
       " 'model.norm': 7,\n",
       " 'model.rotary_emb': 7,\n",
       " 'lm_head': 7,\n",
       " 'model.layers.0': 0,\n",
       " 'model.layers.1': 1,\n",
       " 'model.layers.2': 2,\n",
       " 'model.layers.3': 3,\n",
       " 'model.layers.4': 4,\n",
       " 'model.layers.5': 5,\n",
       " 'model.layers.6': 6,\n",
       " 'model.layers.7': 7,\n",
       " 'model.layers.8': 0,\n",
       " 'model.layers.9': 1,\n",
       " 'model.layers.10': 2,\n",
       " 'model.layers.11': 3,\n",
       " 'model.layers.12': 4,\n",
       " 'model.layers.13': 5,\n",
       " 'model.layers.14': 6,\n",
       " 'model.layers.15': 7,\n",
       " 'model.layers.16': 0,\n",
       " 'model.layers.17': 1,\n",
       " 'model.layers.18': 2,\n",
       " 'model.layers.19': 3,\n",
       " 'model.layers.20': 4,\n",
       " 'model.layers.21': 5,\n",
       " 'model.layers.22': 6,\n",
       " 'model.layers.23': 7,\n",
       " 'model.layers.24': 0,\n",
       " 'model.layers.25': 1,\n",
       " 'model.layers.26': 2,\n",
       " 'model.layers.27': 3,\n",
       " 'model.layers.28': 4,\n",
       " 'model.layers.29': 5,\n",
       " 'model.layers.30': 0,\n",
       " 'model.layers.31': 1,\n",
       " 'model.layers.32': 2,\n",
       " 'model.layers.33': 3,\n",
       " 'model.layers.34': 4,\n",
       " 'model.layers.35': 5,\n",
       " 'model.layers.36': 6,\n",
       " 'model.layers.37': 7,\n",
       " 'model.layers.38': 0,\n",
       " 'model.layers.39': 1,\n",
       " 'model.layers.40': 2,\n",
       " 'model.layers.41': 3,\n",
       " 'model.layers.42': 4,\n",
       " 'model.layers.43': 5,\n",
       " 'model.layers.44': 6,\n",
       " 'model.layers.45': 7,\n",
       " 'model.layers.46': 0,\n",
       " 'model.layers.47': 1,\n",
       " 'model.layers.48': 2,\n",
       " 'model.layers.49': 3,\n",
       " 'model.layers.50': 4,\n",
       " 'model.layers.51': 5,\n",
       " 'model.layers.52': 6,\n",
       " 'model.layers.53': 7,\n",
       " 'model.layers.54': 0,\n",
       " 'model.layers.55': 1,\n",
       " 'model.layers.56': 2,\n",
       " 'model.layers.57': 3,\n",
       " 'model.layers.58': 4,\n",
       " 'model.layers.59': 5,\n",
       " 'model.layers.60': 6,\n",
       " 'model.layers.61': 7,\n",
       " 'model.layers.62': 0,\n",
       " 'model.layers.63': 1,\n",
       " 'model.layers.64': 2,\n",
       " 'model.layers.65': 3,\n",
       " 'model.layers.66': 4,\n",
       " 'model.layers.67': 5,\n",
       " 'model.layers.68': 6,\n",
       " 'model.layers.69': 7,\n",
       " 'model.layers.70': 0,\n",
       " 'model.layers.71': 1,\n",
       " 'model.layers.72': 2,\n",
       " 'model.layers.73': 3,\n",
       " 'model.layers.74': 4,\n",
       " 'model.layers.75': 5,\n",
       " 'model.layers.76': 6,\n",
       " 'model.layers.77': 7,\n",
       " 'model.layers.78': 0,\n",
       " 'model.layers.79': 1}"
      ]
     },
     "execution_count": 3,
     "metadata": {},
     "output_type": "execute_result"
    }
   ],
   "source": [
    "from src.utils.training_utils import get_device_map\n",
    "# model_key = \"meta-llama/Llama-3.2-3B\"\n",
    "# model_key = \"meta-llama/Llama-3.1-8B\"\n",
    "model_key = \"meta-llama/Llama-3.3-70B-Instruct\"\n",
    "# model_key = \"meta-llama/Llama-3.1-405B-Instruct\"\n",
    "\n",
    "# model_key = \"google/gemma-2-9b-it\"\n",
    "# model_key = \"google/gemma-3-12b-it\"\n",
    "# model_key = \"google/gemma-2-27b-it\"\n",
    "\n",
    "# model_key = \"deepseek-ai/DeepSeek-R1-Distill-Llama-8B\"\n",
    "\n",
    "# model_key = \"allenai/OLMo-2-1124-7B-Instruct\"\n",
    "# model_key = \"allenai/OLMo-7B-0424-hf\"\n",
    "\n",
    "# model_key = \"Qwen/Qwen2-7B\"\n",
    "# model_key = \"Qwen/Qwen2.5-14B-Instruct\"\n",
    "# model_key = \"Qwen/Qwen2.5-32B-Instruct\"\n",
    "# model_key = \"Qwen/Qwen2.5-72B-Instruct\"\n",
    "\n",
    "# model_key = \"Qwen/Qwen3-1.7B\"\n",
    "# model_key = \"Qwen/Qwen3-4B\"\n",
    "# model_key = \"Qwen/Qwen3-8B\"\n",
    "# model_key = \"Qwen/Qwen3-14B\"\n",
    "# model_key = \"Qwen/Qwen3-32B\"\n",
    "\n",
    "device_map = get_device_map(model_key, 30, n_gpus=8)\n",
    "device_map"
   ]
  },
  {
   "cell_type": "markdown",
   "metadata": {},
   "source": [
    "## Load the LM and Fuse the $\\Delta$ update"
   ]
  },
  {
   "cell_type": "code",
   "execution_count": null,
   "metadata": {},
   "outputs": [],
   "source": [
    "# os.environ[\"BNB_CUDA_VERSION\"] = \"124\"\n",
    "# ! echo $BNB_CUDA_VERSION\n",
    "# ! python -m bitsandbytes"
   ]
  },
  {
   "cell_type": "code",
   "execution_count": 4,
   "metadata": {},
   "outputs": [
    {
     "name": "stdout",
     "output_type": "stream",
     "text": [
      "2025-06-02 14:24:09 src.models WARNING  meta-llama/Llama-3.3-70B-Instruct not found in /disk/u/arnab/Codes/Models\n",
      "If not found in cache, model will be downloaded from HuggingFace to cache directory\n",
      "2025-06-02 14:24:09 urllib3.connectionpool DEBUG    Starting new HTTPS connection (1): huggingface.co:443\n",
      "2025-06-02 14:24:10 urllib3.connectionpool DEBUG    https://huggingface.co:443 \"HEAD /meta-llama/Llama-3.3-70B-Instruct/resolve/main/config.json HTTP/1.1\" 200 0\n",
      "2025-06-02 14:24:10 urllib3.connectionpool DEBUG    https://huggingface.co:443 \"HEAD /meta-llama/Llama-3.3-70B-Instruct/resolve/main/tokenizer_config.json HTTP/1.1\" 200 0\n"
     ]
    },
    {
     "name": "stderr",
     "output_type": "stream",
     "text": [
      "Loading checkpoint shards: 100%|██████████| 30/30 [00:57<00:00,  1.90s/it]"
     ]
    },
    {
     "name": "stdout",
     "output_type": "stream",
     "text": [
      "2025-06-02 14:25:10 urllib3.connectionpool DEBUG    https://huggingface.co:443 \"HEAD /meta-llama/Llama-3.3-70B-Instruct/resolve/main/generation_config.json HTTP/1.1\" 200 0\n"
     ]
    },
    {
     "name": "stderr",
     "output_type": "stream",
     "text": [
      "\n"
     ]
    },
    {
     "name": "stdout",
     "output_type": "stream",
     "text": [
      "2025-06-02 14:25:10 src.models INFO     loaded model <meta-llama/Llama-3.3-70B-Instruct> | size: 134570.516 MB | dtype: torch.bfloat16 | device: cuda:0\n"
     ]
    }
   ],
   "source": [
    "from src.models import ModelandTokenizer\n",
    "from transformers import BitsAndBytesConfig\n",
    "\n",
    "mt = ModelandTokenizer(\n",
    "    model_key=model_key,\n",
    "    torch_dtype=torch.bfloat16,\n",
    "    # device_map=device_map,\n",
    "    device_map=\"auto\",\n",
    "    # quantization_config = BitsAndBytesConfig(\n",
    "    #     # load_in_4bit=True\n",
    "    #     load_in_8bit=True\n",
    "    # )\n",
    ")"
   ]
  },
  {
   "cell_type": "code",
   "execution_count": 5,
   "metadata": {},
   "outputs": [
    {
     "name": "stdout",
     "output_type": "stream",
     "text": [
      "['trainable_params.pt']\n"
     ]
    },
    {
     "data": {
      "text/plain": [
       "tensor(0.0010, dtype=torch.bfloat16, grad_fn=<MaxBackward1>)"
      ]
     },
     "execution_count": 5,
     "metadata": {},
     "output_type": "execute_result"
    }
   ],
   "source": [
    "from src.functional import free_gpu_cache\n",
    "\n",
    "# SYNTH_DATASET = \"icosahedron_1\"\n",
    "SYNTH_DATASET = \"test_72\"\n",
    "\n",
    "checkpoint_path = os.path.join(\n",
    "    env_utils.DEFAULT_RESULTS_DIR,\n",
    "    \"trained_params\",\n",
    "    f\"{SYNTH_DATASET}\",\n",
    "    \"_full__clamp=0.001\", \n",
    "    model_key.split(\"/\")[-1]\n",
    ")\n",
    "\n",
    "version = \"epoch_1\"\n",
    "# version = \"final_model\"\n",
    "\n",
    "checkpoint_path = os.path.join(\n",
    "    env_utils.DEFAULT_RESULTS_DIR, checkpoint_path, version\n",
    ")\n",
    "\n",
    "print(os.listdir(checkpoint_path))\n",
    "\n",
    "checkpoint_path = os.path.join(checkpoint_path, \"trainable_params.pt\")\n",
    "\n",
    "loaded_deltas = torch.load(checkpoint_path, map_location=\"cpu\")\n",
    "# loaded_deltas\n",
    "\n",
    "free_gpu_cache()\n",
    "\n",
    "\n",
    "d = loaded_deltas['model<>layers<>10<>mlp<>gate_proj']\n",
    "d.abs().max()"
   ]
  },
  {
   "cell_type": "code",
   "execution_count": 6,
   "metadata": {},
   "outputs": [
    {
     "name": "stdout",
     "output_type": "stream",
     "text": [
      "2025-06-02 14:25:51 src.utils.training_utils DEBUG    module_name='model.layers.0.mlp.gate_proj' | param_delta.shape=torch.Size([28672, 8192])\n",
      "2025-06-02 14:25:51 src.utils.training_utils DEBUG    module_name='model.layers.0.mlp.up_proj' | param_delta.shape=torch.Size([28672, 8192])\n",
      "2025-06-02 14:25:51 src.utils.training_utils DEBUG    module_name='model.layers.0.mlp.down_proj' | param_delta.shape=torch.Size([8192, 28672])\n",
      "2025-06-02 14:25:51 src.utils.training_utils DEBUG    module_name='model.layers.1.mlp.gate_proj' | param_delta.shape=torch.Size([28672, 8192])\n",
      "2025-06-02 14:25:52 src.utils.training_utils DEBUG    module_name='model.layers.1.mlp.up_proj' | param_delta.shape=torch.Size([28672, 8192])\n",
      "2025-06-02 14:25:52 src.utils.training_utils DEBUG    module_name='model.layers.1.mlp.down_proj' | param_delta.shape=torch.Size([8192, 28672])\n",
      "2025-06-02 14:25:52 src.utils.training_utils DEBUG    module_name='model.layers.2.mlp.gate_proj' | param_delta.shape=torch.Size([28672, 8192])\n",
      "2025-06-02 14:25:52 src.utils.training_utils DEBUG    module_name='model.layers.2.mlp.up_proj' | param_delta.shape=torch.Size([28672, 8192])\n",
      "2025-06-02 14:25:52 src.utils.training_utils DEBUG    module_name='model.layers.2.mlp.down_proj' | param_delta.shape=torch.Size([8192, 28672])\n",
      "2025-06-02 14:25:52 src.utils.training_utils DEBUG    module_name='model.layers.3.mlp.gate_proj' | param_delta.shape=torch.Size([28672, 8192])\n",
      "2025-06-02 14:25:52 src.utils.training_utils DEBUG    module_name='model.layers.3.mlp.up_proj' | param_delta.shape=torch.Size([28672, 8192])\n",
      "2025-06-02 14:25:52 src.utils.training_utils DEBUG    module_name='model.layers.3.mlp.down_proj' | param_delta.shape=torch.Size([8192, 28672])\n",
      "2025-06-02 14:25:52 src.utils.training_utils DEBUG    module_name='model.layers.4.mlp.gate_proj' | param_delta.shape=torch.Size([28672, 8192])\n",
      "2025-06-02 14:25:52 src.utils.training_utils DEBUG    module_name='model.layers.4.mlp.up_proj' | param_delta.shape=torch.Size([28672, 8192])\n",
      "2025-06-02 14:25:53 src.utils.training_utils DEBUG    module_name='model.layers.4.mlp.down_proj' | param_delta.shape=torch.Size([8192, 28672])\n",
      "2025-06-02 14:25:53 src.utils.training_utils DEBUG    module_name='model.layers.5.mlp.gate_proj' | param_delta.shape=torch.Size([28672, 8192])\n",
      "2025-06-02 14:25:53 src.utils.training_utils DEBUG    module_name='model.layers.5.mlp.up_proj' | param_delta.shape=torch.Size([28672, 8192])\n",
      "2025-06-02 14:25:53 src.utils.training_utils DEBUG    module_name='model.layers.5.mlp.down_proj' | param_delta.shape=torch.Size([8192, 28672])\n",
      "2025-06-02 14:25:53 src.utils.training_utils DEBUG    module_name='model.layers.6.mlp.gate_proj' | param_delta.shape=torch.Size([28672, 8192])\n",
      "2025-06-02 14:25:53 src.utils.training_utils DEBUG    module_name='model.layers.6.mlp.up_proj' | param_delta.shape=torch.Size([28672, 8192])\n",
      "2025-06-02 14:25:53 src.utils.training_utils DEBUG    module_name='model.layers.6.mlp.down_proj' | param_delta.shape=torch.Size([8192, 28672])\n",
      "2025-06-02 14:25:53 src.utils.training_utils DEBUG    module_name='model.layers.7.mlp.gate_proj' | param_delta.shape=torch.Size([28672, 8192])\n",
      "2025-06-02 14:25:53 src.utils.training_utils DEBUG    module_name='model.layers.7.mlp.up_proj' | param_delta.shape=torch.Size([28672, 8192])\n",
      "2025-06-02 14:25:54 src.utils.training_utils DEBUG    module_name='model.layers.7.mlp.down_proj' | param_delta.shape=torch.Size([8192, 28672])\n",
      "2025-06-02 14:25:54 src.utils.training_utils DEBUG    module_name='model.layers.8.mlp.gate_proj' | param_delta.shape=torch.Size([28672, 8192])\n",
      "2025-06-02 14:25:54 src.utils.training_utils DEBUG    module_name='model.layers.8.mlp.up_proj' | param_delta.shape=torch.Size([28672, 8192])\n",
      "2025-06-02 14:25:54 src.utils.training_utils DEBUG    module_name='model.layers.8.mlp.down_proj' | param_delta.shape=torch.Size([8192, 28672])\n",
      "2025-06-02 14:25:54 src.utils.training_utils DEBUG    module_name='model.layers.9.mlp.gate_proj' | param_delta.shape=torch.Size([28672, 8192])\n",
      "2025-06-02 14:25:54 src.utils.training_utils DEBUG    module_name='model.layers.9.mlp.up_proj' | param_delta.shape=torch.Size([28672, 8192])\n",
      "2025-06-02 14:25:54 src.utils.training_utils DEBUG    module_name='model.layers.9.mlp.down_proj' | param_delta.shape=torch.Size([8192, 28672])\n",
      "2025-06-02 14:25:54 src.utils.training_utils DEBUG    module_name='model.layers.10.mlp.gate_proj' | param_delta.shape=torch.Size([28672, 8192])\n",
      "2025-06-02 14:25:54 src.utils.training_utils DEBUG    module_name='model.layers.10.mlp.up_proj' | param_delta.shape=torch.Size([28672, 8192])\n",
      "2025-06-02 14:25:54 src.utils.training_utils DEBUG    module_name='model.layers.10.mlp.down_proj' | param_delta.shape=torch.Size([8192, 28672])\n",
      "2025-06-02 14:25:55 src.utils.training_utils DEBUG    module_name='model.layers.11.mlp.gate_proj' | param_delta.shape=torch.Size([28672, 8192])\n",
      "2025-06-02 14:25:55 src.utils.training_utils DEBUG    module_name='model.layers.11.mlp.up_proj' | param_delta.shape=torch.Size([28672, 8192])\n",
      "2025-06-02 14:25:55 src.utils.training_utils DEBUG    module_name='model.layers.11.mlp.down_proj' | param_delta.shape=torch.Size([8192, 28672])\n",
      "2025-06-02 14:25:55 src.utils.training_utils DEBUG    module_name='model.layers.12.mlp.gate_proj' | param_delta.shape=torch.Size([28672, 8192])\n",
      "2025-06-02 14:25:55 src.utils.training_utils DEBUG    module_name='model.layers.12.mlp.up_proj' | param_delta.shape=torch.Size([28672, 8192])\n",
      "2025-06-02 14:25:55 src.utils.training_utils DEBUG    module_name='model.layers.12.mlp.down_proj' | param_delta.shape=torch.Size([8192, 28672])\n",
      "2025-06-02 14:25:55 src.utils.training_utils DEBUG    module_name='model.layers.13.mlp.gate_proj' | param_delta.shape=torch.Size([28672, 8192])\n",
      "2025-06-02 14:25:55 src.utils.training_utils DEBUG    module_name='model.layers.13.mlp.up_proj' | param_delta.shape=torch.Size([28672, 8192])\n",
      "2025-06-02 14:25:55 src.utils.training_utils DEBUG    module_name='model.layers.13.mlp.down_proj' | param_delta.shape=torch.Size([8192, 28672])\n",
      "2025-06-02 14:25:56 src.utils.training_utils DEBUG    module_name='model.layers.14.mlp.gate_proj' | param_delta.shape=torch.Size([28672, 8192])\n",
      "2025-06-02 14:25:56 src.utils.training_utils DEBUG    module_name='model.layers.14.mlp.up_proj' | param_delta.shape=torch.Size([28672, 8192])\n",
      "2025-06-02 14:25:56 src.utils.training_utils DEBUG    module_name='model.layers.14.mlp.down_proj' | param_delta.shape=torch.Size([8192, 28672])\n",
      "2025-06-02 14:25:56 src.utils.training_utils DEBUG    module_name='model.layers.15.mlp.gate_proj' | param_delta.shape=torch.Size([28672, 8192])\n",
      "2025-06-02 14:25:56 src.utils.training_utils DEBUG    module_name='model.layers.15.mlp.up_proj' | param_delta.shape=torch.Size([28672, 8192])\n",
      "2025-06-02 14:25:56 src.utils.training_utils DEBUG    module_name='model.layers.15.mlp.down_proj' | param_delta.shape=torch.Size([8192, 28672])\n",
      "2025-06-02 14:25:56 src.utils.training_utils DEBUG    module_name='model.layers.16.mlp.gate_proj' | param_delta.shape=torch.Size([28672, 8192])\n",
      "2025-06-02 14:25:56 src.utils.training_utils DEBUG    module_name='model.layers.16.mlp.up_proj' | param_delta.shape=torch.Size([28672, 8192])\n",
      "2025-06-02 14:25:56 src.utils.training_utils DEBUG    module_name='model.layers.16.mlp.down_proj' | param_delta.shape=torch.Size([8192, 28672])\n",
      "2025-06-02 14:25:56 src.utils.training_utils DEBUG    module_name='model.layers.17.mlp.gate_proj' | param_delta.shape=torch.Size([28672, 8192])\n",
      "2025-06-02 14:25:57 src.utils.training_utils DEBUG    module_name='model.layers.17.mlp.up_proj' | param_delta.shape=torch.Size([28672, 8192])\n",
      "2025-06-02 14:25:57 src.utils.training_utils DEBUG    module_name='model.layers.17.mlp.down_proj' | param_delta.shape=torch.Size([8192, 28672])\n",
      "2025-06-02 14:25:57 src.utils.training_utils DEBUG    module_name='model.layers.18.mlp.gate_proj' | param_delta.shape=torch.Size([28672, 8192])\n",
      "2025-06-02 14:25:57 src.utils.training_utils DEBUG    module_name='model.layers.18.mlp.up_proj' | param_delta.shape=torch.Size([28672, 8192])\n",
      "2025-06-02 14:25:57 src.utils.training_utils DEBUG    module_name='model.layers.18.mlp.down_proj' | param_delta.shape=torch.Size([8192, 28672])\n",
      "2025-06-02 14:25:57 src.utils.training_utils DEBUG    module_name='model.layers.19.mlp.gate_proj' | param_delta.shape=torch.Size([28672, 8192])\n",
      "2025-06-02 14:25:57 src.utils.training_utils DEBUG    module_name='model.layers.19.mlp.up_proj' | param_delta.shape=torch.Size([28672, 8192])\n",
      "2025-06-02 14:25:58 src.utils.training_utils DEBUG    module_name='model.layers.19.mlp.down_proj' | param_delta.shape=torch.Size([8192, 28672])\n",
      "2025-06-02 14:25:58 src.utils.training_utils DEBUG    module_name='model.layers.20.mlp.gate_proj' | param_delta.shape=torch.Size([28672, 8192])\n",
      "2025-06-02 14:25:58 src.utils.training_utils DEBUG    module_name='model.layers.20.mlp.up_proj' | param_delta.shape=torch.Size([28672, 8192])\n",
      "2025-06-02 14:25:58 src.utils.training_utils DEBUG    module_name='model.layers.20.mlp.down_proj' | param_delta.shape=torch.Size([8192, 28672])\n",
      "2025-06-02 14:25:58 src.utils.training_utils DEBUG    module_name='model.layers.21.mlp.gate_proj' | param_delta.shape=torch.Size([28672, 8192])\n",
      "2025-06-02 14:25:58 src.utils.training_utils DEBUG    module_name='model.layers.21.mlp.up_proj' | param_delta.shape=torch.Size([28672, 8192])\n",
      "2025-06-02 14:25:58 src.utils.training_utils DEBUG    module_name='model.layers.21.mlp.down_proj' | param_delta.shape=torch.Size([8192, 28672])\n",
      "2025-06-02 14:25:58 src.utils.training_utils DEBUG    module_name='model.layers.22.mlp.gate_proj' | param_delta.shape=torch.Size([28672, 8192])\n",
      "2025-06-02 14:25:59 src.utils.training_utils DEBUG    module_name='model.layers.22.mlp.up_proj' | param_delta.shape=torch.Size([28672, 8192])\n",
      "2025-06-02 14:25:59 src.utils.training_utils DEBUG    module_name='model.layers.22.mlp.down_proj' | param_delta.shape=torch.Size([8192, 28672])\n",
      "2025-06-02 14:25:59 src.utils.training_utils DEBUG    module_name='model.layers.23.mlp.gate_proj' | param_delta.shape=torch.Size([28672, 8192])\n",
      "2025-06-02 14:25:59 src.utils.training_utils DEBUG    module_name='model.layers.23.mlp.up_proj' | param_delta.shape=torch.Size([28672, 8192])\n",
      "2025-06-02 14:25:59 src.utils.training_utils DEBUG    module_name='model.layers.23.mlp.down_proj' | param_delta.shape=torch.Size([8192, 28672])\n",
      "2025-06-02 14:25:59 src.utils.training_utils DEBUG    module_name='model.layers.24.mlp.gate_proj' | param_delta.shape=torch.Size([28672, 8192])\n",
      "2025-06-02 14:25:59 src.utils.training_utils DEBUG    module_name='model.layers.24.mlp.up_proj' | param_delta.shape=torch.Size([28672, 8192])\n",
      "2025-06-02 14:25:59 src.utils.training_utils DEBUG    module_name='model.layers.24.mlp.down_proj' | param_delta.shape=torch.Size([8192, 28672])\n",
      "2025-06-02 14:25:59 src.utils.training_utils DEBUG    module_name='model.layers.25.mlp.gate_proj' | param_delta.shape=torch.Size([28672, 8192])\n",
      "2025-06-02 14:25:59 src.utils.training_utils DEBUG    module_name='model.layers.25.mlp.up_proj' | param_delta.shape=torch.Size([28672, 8192])\n",
      "2025-06-02 14:26:00 src.utils.training_utils DEBUG    module_name='model.layers.25.mlp.down_proj' | param_delta.shape=torch.Size([8192, 28672])\n",
      "2025-06-02 14:26:00 src.utils.training_utils DEBUG    module_name='model.layers.26.mlp.gate_proj' | param_delta.shape=torch.Size([28672, 8192])\n",
      "2025-06-02 14:26:00 src.utils.training_utils DEBUG    module_name='model.layers.26.mlp.up_proj' | param_delta.shape=torch.Size([28672, 8192])\n",
      "2025-06-02 14:26:00 src.utils.training_utils DEBUG    module_name='model.layers.26.mlp.down_proj' | param_delta.shape=torch.Size([8192, 28672])\n",
      "2025-06-02 14:26:00 src.utils.training_utils DEBUG    module_name='model.layers.27.mlp.gate_proj' | param_delta.shape=torch.Size([28672, 8192])\n",
      "2025-06-02 14:26:00 src.utils.training_utils DEBUG    module_name='model.layers.27.mlp.up_proj' | param_delta.shape=torch.Size([28672, 8192])\n",
      "2025-06-02 14:26:00 src.utils.training_utils DEBUG    module_name='model.layers.27.mlp.down_proj' | param_delta.shape=torch.Size([8192, 28672])\n",
      "2025-06-02 14:26:00 src.utils.training_utils DEBUG    module_name='model.layers.28.mlp.gate_proj' | param_delta.shape=torch.Size([28672, 8192])\n",
      "2025-06-02 14:26:00 src.utils.training_utils DEBUG    module_name='model.layers.28.mlp.up_proj' | param_delta.shape=torch.Size([28672, 8192])\n",
      "2025-06-02 14:26:01 src.utils.training_utils DEBUG    module_name='model.layers.28.mlp.down_proj' | param_delta.shape=torch.Size([8192, 28672])\n",
      "2025-06-02 14:26:01 src.utils.training_utils DEBUG    module_name='model.layers.29.mlp.gate_proj' | param_delta.shape=torch.Size([28672, 8192])\n",
      "2025-06-02 14:26:01 src.utils.training_utils DEBUG    module_name='model.layers.29.mlp.up_proj' | param_delta.shape=torch.Size([28672, 8192])\n",
      "2025-06-02 14:26:01 src.utils.training_utils DEBUG    module_name='model.layers.29.mlp.down_proj' | param_delta.shape=torch.Size([8192, 28672])\n"
     ]
    }
   ],
   "source": [
    "from src.utils.training_utils import TrainableLM_delta, TrainableLM_LoRA\n",
    "\n",
    "#################################################\n",
    "Trainable_CLS = TrainableLM_delta\n",
    "# Trainable_CLS = TrainableLM_LoRA\n",
    "#################################################\n",
    "\n",
    "Trainable_CLS.fuse_with_model(mt._model, loaded_deltas)"
   ]
  },
  {
   "cell_type": "code",
   "execution_count": 7,
   "metadata": {},
   "outputs": [],
   "source": [
    "# Trainable_CLS.defuse_from_model(\n",
    "#     mt._model,\n",
    "#     loaded_deltas,\n",
    "#     # param_delta_dict=loaded_deltas,\n",
    "# )"
   ]
  },
  {
   "cell_type": "markdown",
   "metadata": {},
   "source": [
    "## Load cachecd patching samples"
   ]
  },
  {
   "cell_type": "code",
   "execution_count": 15,
   "metadata": {},
   "outputs": [],
   "source": [
    "from dataclasses import dataclass\n",
    "from dataclasses_json import DataClassJsonMixin\n",
    "\n",
    "@dataclass\n",
    "class ActivationPatchingSamples(DataClassJsonMixin):\n",
    "    prompt_template: str\n",
    "    common_entity: str\n",
    "    clean_entity: str\n",
    "    patched_entity: str\n",
    "    clean_answer: str | None = None\n",
    "    patched_answer: str | None = None\n",
    "    patched_answer_toks: list[int] | None = None\n",
    "\n",
    "    def __str__(self):\n",
    "        return f\"{self.common_entity} | {self.clean_entity} => \\\"{self.clean_answer}\\\" | <-- | {self.patched_entity} => \\\"{self.patched_answer}\\\"\"\n",
    "\n",
    "\n",
    "activation_patching_path = os.path.join(\n",
    "    env_utils.DEFAULT_RESULTS_DIR,\n",
    "    \"activation_patching\", SYNTH_DATASET,\n",
    ")\n",
    "samples_path = os.path.join(\n",
    "    activation_patching_path, f\"samples.json\"\n",
    ")\n",
    "\n",
    "samples = []\n",
    "with open(samples_path, \"r\") as f:\n",
    "    samples = json.load(f)\n",
    "samples = [ActivationPatchingSamples.from_dict(sample) for sample in samples]"
   ]
  },
  {
   "cell_type": "code",
   "execution_count": 16,
   "metadata": {},
   "outputs": [
    {
     "name": "stdout",
     "output_type": "stream",
     "text": [
      "Grace Wanjiru | James Mwangi => \" Ken\" | <-- | Fatima Sheikh => \" Urban\"\n"
     ]
    }
   ],
   "source": [
    "sample = samples[0]\n",
    "print(sample)"
   ]
  },
  {
   "cell_type": "code",
   "execution_count": 17,
   "metadata": {},
   "outputs": [
    {
     "data": {
      "text/plain": [
       "[[PredictedToken(token=' Ken', prob=0.71484375, logit=20.625, token_id=14594, metadata=None),\n",
       "  PredictedToken(token=' Doctor', prob=0.1806640625, logit=19.25, token_id=19150, metadata=None),\n",
       "  PredictedToken(token=' University', prob=0.06640625, logit=18.25, token_id=3907, metadata=None),\n",
       "  PredictedToken(token=' Kenya', prob=0.01483154296875, logit=16.75, token_id=37766, metadata=None),\n",
       "  PredictedToken(token=' nationality', prob=0.00482177734375, logit=15.625, token_id=59343, metadata=None)]]"
      ]
     },
     "execution_count": 17,
     "metadata": {},
     "output_type": "execute_result"
    }
   ],
   "source": [
    "from src.functional import PatchSpec\n",
    "from src.functional import generate_with_patch, predict_next_token\n",
    "from src.utils.typing import TokenizerOutput\n",
    "\n",
    "clean_pred = predict_next_token(\n",
    "    mt=mt,\n",
    "    inputs=sample.prompt_template.format(sample.clean_entity),\n",
    ")\n",
    "clean_pred"
   ]
  },
  {
   "cell_type": "code",
   "execution_count": 19,
   "metadata": {},
   "outputs": [],
   "source": [
    "from src.functional import interpret_logits, get_hs\n",
    "from src.trace import get_score\n",
    "from src.utils.typing import TokenizerOutput\n",
    "from typing import Literal\n",
    "\n",
    "\n",
    "@torch.inference_mode()\n",
    "def patched_run(\n",
    "    mt: ModelandTokenizer,\n",
    "    inputs: TokenizerOutput,\n",
    "    patches: list[PatchSpec],\n",
    "    ans_tokens: list[int],\n",
    "    metric: Literal[\"logit\", \"prob\"] = \"logit\",\n",
    "    generate_full_ans: bool = False,\n",
    "    **next_tok_kwargs,\n",
    "):\n",
    "    if generate_full_ans:\n",
    "        answer = generate_with_patch(\n",
    "            mt=mt,\n",
    "            inputs=inputs,\n",
    "            n_gen_per_prompt=1,\n",
    "            do_sample=False,\n",
    "            patches=patches,\n",
    "            patch_strategy=\"replace\",\n",
    "            remove_prefix=True,\n",
    "            patch_at_all_generations=False,  # don't need to\n",
    "            # patch_at_all_generations=True,    # will give the same result\n",
    "            # use_cache = False,\n",
    "        )\n",
    "        print(f'\"{answer[0]}\"')\n",
    "\n",
    "    logits = get_hs(\n",
    "        mt=mt,\n",
    "        input=inputs,\n",
    "        locations=[(mt.lm_head_name, -1)],\n",
    "        patches=patches,\n",
    "        return_dict=False,\n",
    "    ).squeeze()\n",
    "\n",
    "    pred, track = interpret_logits(\n",
    "        tokenizer=mt, logits=logits, interested_tokens=ans_tokens, **next_tok_kwargs\n",
    "    )\n",
    "\n",
    "    score = get_score(logits=logits, token_id=ans_tokens, metric=metric)\n",
    "\n",
    "    return score, pred, track"
   ]
  },
  {
   "cell_type": "code",
   "execution_count": 20,
   "metadata": {},
   "outputs": [],
   "source": [
    "import baukit\n",
    "from src.functional import PatchSpec\n",
    "from src.utils.typing import Model\n",
    "from src.models import unwrap_model\n",
    "from nnsight import LanguageModel\n",
    "\n",
    "\n",
    "def patch_with_baukit(\n",
    "    model: ModelandTokenizer | Model,\n",
    "    inputs: TokenizerOutput,\n",
    "    patches: list[PatchSpec],\n",
    "    model_kwargs: dict = {},\n",
    "):\n",
    "    if isinstance(model, ModelandTokenizer):\n",
    "        model = unwrap_model(model)\n",
    "    if isinstance(model, LanguageModel):\n",
    "        model = model._model\n",
    "\n",
    "    layers_to_indices = {}\n",
    "    patch_dict = {}\n",
    "    for patch in patches:\n",
    "        layer, idx = patch.location\n",
    "        if layer not in layers_to_indices:\n",
    "            layers_to_indices[layer] = []\n",
    "        layers_to_indices[layer].append(idx)\n",
    "        patch_dict[patch.location] = patch.patch\n",
    "\n",
    "    unique_modules = list(layers_to_indices.keys())\n",
    "\n",
    "    def perform_patch(repr, layer_name):\n",
    "        # print(layer_name)\n",
    "        if layer_name not in unique_modules:\n",
    "            return repr\n",
    "\n",
    "        current_state = repr if \"mlp\" in layer_name else repr[0]\n",
    "        for index in layers_to_indices[layer_name]:\n",
    "            current_state[:, index, :] = patch_dict[(layer_name, index)]\n",
    "\n",
    "        return repr\n",
    "\n",
    "    with baukit.TraceDict(\n",
    "        module=model, layers=unique_modules, edit_output=perform_patch\n",
    "    ):\n",
    "        output = model(**inputs, **model_kwargs)\n",
    "\n",
    "    return output"
   ]
  },
  {
   "cell_type": "code",
   "execution_count": 21,
   "metadata": {},
   "outputs": [],
   "source": [
    "import types\n",
    "from typing import Literal\n",
    "from src.utils.typing import TokenizerOutput\n",
    "from src.functional import predict_next_token\n",
    "from src.hooking.llama_attention import AttentionEdge, LlamaAttentionPatcher\n",
    "from src.utils.typing import PredictedToken\n",
    "from src.probing.prompt import ProbingPrompt\n",
    "\n",
    "def get_edges_to_be_ablated(\n",
    "    prompt: ProbingPrompt,\n",
    "    focus_strategy: Literal[\"entities\", \"entities_last\", \"ablate_all\"] = \"ablate_all\",\n",
    "    Q_IDX: int = -1,  # almost always the last token position\n",
    "    whitelist_key_indices: list[int] = [0, -1],\n",
    "):\n",
    "    for idx, ti in enumerate(whitelist_key_indices):\n",
    "        if ti < 0:\n",
    "            whitelist_key_indices[idx] = prompt.tokenized[\"input_ids\"][0].shape[-1] + ti\n",
    "\n",
    "    if focus_strategy == \"entities\":\n",
    "        whitelist_key_indices += list(range(*prompt.entity_ranges[0])) + list(\n",
    "            range(*prompt.entity_ranges[1])\n",
    "        )\n",
    "    elif focus_strategy == \"entities_last\":\n",
    "        whitelist_key_indices += [\n",
    "            prompt.entity_ranges[0][1] - 1,\n",
    "            prompt.entity_ranges[1][1] - 1,\n",
    "        ]\n",
    "    elif focus_strategy == \"ablate_all\":\n",
    "        pass\n",
    "    else:\n",
    "        raise ValueError(f\"{focus_strategy=}\")\n",
    "\n",
    "    whitelist_key_indices = list(set(whitelist_key_indices))\n",
    "    if Q_IDX < 0:\n",
    "        Q_IDX = prompt.tokenized[\"input_ids\"][0].shape[-1] + Q_IDX\n",
    "\n",
    "    block_edges: list[AttentionEdge] = []\n",
    "    for k_idx in range(0, prompt.tokenized[\"input_ids\"][0].shape[-1]):\n",
    "        if k_idx in whitelist_key_indices:\n",
    "            continue\n",
    "        block_edges.append(\n",
    "            AttentionEdge(\n",
    "                q_idx=Q_IDX,\n",
    "                k_idx=k_idx,\n",
    "            )\n",
    "        )\n",
    "\n",
    "    return block_edges"
   ]
  },
  {
   "cell_type": "markdown",
   "metadata": {},
   "source": [
    "## Ablating the heads to check their importance -- doesn't give clean results"
   ]
  },
  {
   "cell_type": "code",
   "execution_count": 123,
   "metadata": {},
   "outputs": [
    {
     "name": "stderr",
     "output_type": "stream",
     "text": [
      "direction='desc': 100%|██████████| 48/48 [01:23<00:00,  1.73s/it]\n"
     ]
    }
   ],
   "source": [
    "from typing import Literal\n",
    "from src.utils.typing import TokenizerOutput\n",
    "from src.functional import predict_next_token\n",
    "\n",
    "\n",
    "@torch.inference_mode()\n",
    "def attn_blocking_sweep_cumulative(\n",
    "    mt: ModelandTokenizer,\n",
    "    prompt: ProbingPrompt,\n",
    "    clean_answer: PredictedToken,\n",
    "    block_edges: list[AttentionEdge],\n",
    "    direction: Literal[\"asc\", \"desc\"] = \"asc\",\n",
    "    step: int = 1,\n",
    "    verbose: bool = False,\n",
    "):\n",
    "    inputs = TokenizerOutput(data=prompt.tokenized)\n",
    "    mt.reset_forward()\n",
    "\n",
    "    ablate_all_heads_per_layer = {\n",
    "        h_idx: block_edges for h_idx in range(mt.config.num_attention_heads)\n",
    "    }\n",
    "\n",
    "    effects = {}\n",
    "\n",
    "    if direction == \"asc\":\n",
    "        progress = tqdm(range(0, mt.n_layer, step))\n",
    "    elif direction == \"desc\":\n",
    "        progress = tqdm(range(mt.n_layer - 1, -1, -step))\n",
    "\n",
    "    progress.set_description(f\"{direction=}\")\n",
    "\n",
    "    for layer_idx in progress:\n",
    "        attn_block_name = mt.attn_module_name_format.format(layer_idx)\n",
    "        # attn_block = get_module_nnsight(mt, attn_block_name)\n",
    "        attn_block = baukit.get_module(mt._model, attn_block_name)\n",
    "        attn_block.forward = types.MethodType(\n",
    "            LlamaAttentionPatcher(\n",
    "                block_name=attn_block_name, cut_attn_edges=ablate_all_heads_per_layer\n",
    "            ),\n",
    "            attn_block,\n",
    "        )\n",
    "\n",
    "        ablated_pred, track_ans = predict_next_token(\n",
    "            mt=mt, inputs=inputs, token_of_interest=[clean_answer.token_id]\n",
    "        )\n",
    "        # output = mt._model(**inputs)\n",
    "        # logits = output.logits[:, -1, :].squeeze()\n",
    "        # ablated_pred, track_ans = interpret_logits(tokenizer=mt, logits=logits, interested_tokens=[answer.token_id])\n",
    "\n",
    "        if verbose:\n",
    "            logger.debug(f\"{layer_idx}: {track_ans=}\")\n",
    "\n",
    "        effects[layer_idx] = {\n",
    "            \"track_ans\": track_ans,\n",
    "            \"ablated_pred\": ablated_pred,\n",
    "        }\n",
    "\n",
    "    mt.reset_forward()\n",
    "    return effects\n",
    "\n",
    "\n",
    "block_edges = get_edges_to_be_ablated(\n",
    "    prompt=prompt, focus_strategy=\"entities\", Q_IDX=-1, whitelist_key_indices=[0, -1]\n",
    ")\n",
    "\n",
    "blocking_effects = attn_blocking_sweep_cumulative(\n",
    "    mt=mt,\n",
    "    prompt=prompt,\n",
    "    block_edges=block_edges,\n",
    "    clean_answer=clean_pred[0][0],\n",
    "    direction=\"desc\",\n",
    ")"
   ]
  },
  {
   "cell_type": "code",
   "execution_count": 12,
   "metadata": {},
   "outputs": [],
   "source": [
    "# focus_strategy: Literal[\"entities\", \"entities_last\", \"ablate_all\"] = \"ablate_all\"\n",
    "\n",
    "# block_edges = get_edges_to_be_ablated(\n",
    "#     prompt=prompt,\n",
    "#     focus_strategy=focus_strategy,\n",
    "#     Q_IDX=-1,\n",
    "#     whitelist_key_indices=[0, -1]\n",
    "# )\n",
    "\n",
    "# effects_asc = attn_blocking_sweep_cumulative(\n",
    "#     mt=mt, prompt=prompt,\n",
    "#     clean_answer=clean_pred[0][0],\n",
    "#     block_edges=block_edges,\n",
    "#     direction=\"asc\",\n",
    "# )\n",
    "# effects_desc = attn_blocking_sweep_cumulative(\n",
    "#     mt=mt, prompt=prompt,\n",
    "#     clean_answer=clean_pred[0][0],\n",
    "#     block_edges=block_edges,\n",
    "#     direction=\"desc\",\n",
    "# )"
   ]
  },
  {
   "cell_type": "code",
   "execution_count": 13,
   "metadata": {},
   "outputs": [],
   "source": [
    "# clean_pred[0][0]"
   ]
  },
  {
   "cell_type": "code",
   "execution_count": 14,
   "metadata": {},
   "outputs": [],
   "source": [
    "# import matplotlib.pyplot as plt\n",
    "\n",
    "# metric = \"prob\"\n",
    "\n",
    "# denom = getattr(clean_pred[0][0], metric)\n",
    "\n",
    "# layers = list(range(mt.n_layer))\n",
    "# values_asc = []\n",
    "# for layer_idx in layers:\n",
    "#     track_ans = list(effects_asc[layer_idx][\"track_ans\"][0].values())[0][1]\n",
    "#     values_asc.append(getattr(track_ans, metric) / denom)\n",
    "\n",
    "# values_desc = []\n",
    "# for layer_idx in layers:\n",
    "#     track_ans = list(effects_desc[layer_idx][\"track_ans\"][0].values())[0][1]\n",
    "#     values_desc.append(getattr(track_ans, metric) / denom)\n",
    "\n",
    "\n",
    "# plt.figure(figsize=(15, 5))\n",
    "# plt.title(f\"ATTN Ablation Effects ({metric}) | {focus_strategy}\")\n",
    "\n",
    "# plt.plot(values_asc, marker=\"o\", label=\"asc\")\n",
    "# plt.plot(values_desc, marker=\"o\", label=\"desc\")\n",
    "\n",
    "# plt.xticks(layers)\n",
    "# plt.xlabel(\"Layer Index\")\n",
    "# plt.ylabel(\"ans_abl/ans\")\n",
    "# plt.legend()\n",
    "\n",
    "# plt.show()"
   ]
  },
  {
   "cell_type": "code",
   "execution_count": 15,
   "metadata": {},
   "outputs": [],
   "source": [
    "@torch.inference_mode()\n",
    "def ablate_attn_window(\n",
    "    mt: ModelandTokenizer,\n",
    "    prompt: ProbingPrompt,\n",
    "    clean_answer: PredictedToken,\n",
    "    block_edges: list[AttentionEdge],\n",
    "    layer_window: list[int],\n",
    "    k=5,\n",
    "    debug_full_answer=False,\n",
    "):\n",
    "    inputs = TokenizerOutput(data=prompt.tokenized)\n",
    "    mt.reset_forward()\n",
    "\n",
    "    ablate_all_heads_per_layer = {\n",
    "        h_idx: block_edges for h_idx in range(mt.config.num_attention_heads)\n",
    "    }\n",
    "\n",
    "    for layer_idx in layer_window:\n",
    "        attn_block_name = mt.attn_module_name_format.format(layer_idx)\n",
    "        attn_block = baukit.get_module(mt._model, attn_block_name)\n",
    "        attn_block.forward = types.MethodType(\n",
    "            LlamaAttentionPatcher(\n",
    "                block_name=attn_block_name, cut_attn_edges=ablate_all_heads_per_layer\n",
    "            ),\n",
    "            attn_block,\n",
    "        )\n",
    "\n",
    "    if debug_full_answer:\n",
    "        answer = get_lm_generated_answer(\n",
    "            mt=mt,\n",
    "            prompt=prompt,\n",
    "            is_a_reasoning_model=\"deepseek\" in model_key.lower(),\n",
    "            use_kv_cache=False,\n",
    "        )\n",
    "        print(f\"{answer=}\")\n",
    "\n",
    "    ablated_pred, track_ans = predict_next_token(\n",
    "        mt=mt, inputs=inputs, token_of_interest=[clean_answer.token_id], k=k\n",
    "    )\n",
    "\n",
    "    mt.reset_forward()\n",
    "\n",
    "    return ablated_pred, track_ans"
   ]
  },
  {
   "cell_type": "code",
   "execution_count": 14,
   "metadata": {},
   "outputs": [
    {
     "name": "stdout",
     "output_type": "stream",
     "text": [
      "answer='mammals.'\n"
     ]
    },
    {
     "data": {
      "text/plain": [
       "([[PredictedToken(token=' mammals', prob=0.0322265625, logit=14.0625, token_id=55569),\n",
       "   PredictedToken(token=' very', prob=0.0302734375, logit=14.0, token_id=1602),\n",
       "   PredictedToken(token=' in', prob=0.020751953125, logit=13.625, token_id=304),\n",
       "   PredictedToken(token=' created', prob=0.018310546875, logit=13.5, token_id=3465),\n",
       "   PredictedToken(token=' animals', prob=0.0172119140625, logit=13.4375, token_id=9898)]],\n",
       " [{71527: (144,\n",
       "    PredictedToken(token=' apex', prob=0.0010986328125, logit=10.6875, token_id=71527))}])"
      ]
     },
     "execution_count": 14,
     "metadata": {},
     "output_type": "execute_result"
    }
   ],
   "source": [
    "focus_strategy: Literal[\"entities\", \"entities_last\", \"ablate_all\"] = \"ablate_all\"\n",
    "\n",
    "# layer_window = list(range(0, 5))\n",
    "# layer_window = list(range(0, mt.n_layer))\n",
    "# layer_window = list(range(10, 20))\n",
    "layer_window = list(\n",
    "    range(20, 45)\n",
    ")  #! critical layers! \"ablate_all\" works. but \"entities\" does not work\n",
    "\n",
    "block_edges = get_edges_to_be_ablated(\n",
    "    prompt=prompt,\n",
    "    focus_strategy=focus_strategy,\n",
    "    Q_IDX=-1,\n",
    "    whitelist_key_indices=[0, -1],\n",
    ")\n",
    "\n",
    "track_ans = ablate_attn_window(\n",
    "    mt=mt,\n",
    "    prompt=prompt,\n",
    "    clean_answer=clean_pred[0][0],\n",
    "    block_edges=block_edges,\n",
    "    layer_window=layer_window,\n",
    "    debug_full_answer=True,\n",
    ")\n",
    "\n",
    "track_ans"
   ]
  },
  {
   "cell_type": "code",
   "execution_count": 15,
   "metadata": {},
   "outputs": [
    {
     "name": "stderr",
     "output_type": "stream",
     "text": [
      "window_size=11: 100%|██████████| 48/48 [00:44<00:00,  1.07it/s]\n"
     ]
    }
   ],
   "source": [
    "from src.trace import get_window\n",
    "\n",
    "\n",
    "def attn_blocking_sweep_window(\n",
    "    mt: ModelandTokenizer,\n",
    "    prompt: ProbingPrompt,\n",
    "    clean_answer: PredictedToken,\n",
    "    block_edges: list[AttentionEdge],\n",
    "    window_size: int,\n",
    "):\n",
    "    effects = {}\n",
    "\n",
    "    for layer_idx in tqdm(range(mt.n_layer), desc=f\"{window_size=}\"):\n",
    "        layer_window = get_window(\"{}\", layer_idx, window_size, mt.n_layer)\n",
    "        layer_window = [int(l) for l in layer_window]\n",
    "        ablated_pred, track_ans = ablate_attn_window(\n",
    "            mt=mt,\n",
    "            prompt=prompt,\n",
    "            clean_answer=clean_answer,\n",
    "            block_edges=block_edges,\n",
    "            layer_window=layer_window,\n",
    "        )\n",
    "        effects[layer_idx] = dict(\n",
    "            track_ans=track_ans,\n",
    "            ablated_pred=ablated_pred,\n",
    "        )\n",
    "    return effects\n",
    "\n",
    "\n",
    "window_ablation_effects = attn_blocking_sweep_window(\n",
    "    mt=mt,\n",
    "    prompt=prompt,\n",
    "    clean_answer=clean_pred[0][0],\n",
    "    block_edges=block_edges,\n",
    "    window_size=11,\n",
    ")"
   ]
  },
  {
   "cell_type": "code",
   "execution_count": 17,
   "metadata": {},
   "outputs": [],
   "source": [
    "# window_ablation_effects"
   ]
  },
  {
   "cell_type": "code",
   "execution_count": 18,
   "metadata": {},
   "outputs": [],
   "source": [
    "# from matplotlib import pyplot as plt\n",
    "\n",
    "# metric = \"prob\"\n",
    "# denom = getattr(clean_pred[0][0], metric)\n",
    "\n",
    "# values = []\n",
    "# layers = list(range(mt.n_layer))\n",
    "# for layer_idx in layers:\n",
    "#     track_ans = list(window_ablation_effects[layer_idx][\"track_ans\"][0].values())[0][1]\n",
    "#     values.append(getattr(track_ans, metric) / denom)\n",
    "\n",
    "\n",
    "# plt.figure(figsize=(15, 5))\n",
    "# plt.plot(values, marker=\"o\")\n",
    "# plt.xticks(layers)\n",
    "\n",
    "# plt.title(f\"Ablate ATTN sweep (window size={5})\")\n",
    "# plt.xlabel(\"Layer Index\")\n",
    "# plt.ylabel(\"ans_abl/ans\")\n",
    "# plt.ylim(bottom=0)\n",
    "# plt.legend()"
   ]
  },
  {
   "cell_type": "code",
   "execution_count": 19,
   "metadata": {},
   "outputs": [
    {
     "name": "stdout",
     "output_type": "stream",
     "text": [
      "2025-02-19 10:47:42 __main__ INFO     len(coincidences['examples'])=20\n"
     ]
    }
   ],
   "source": [
    "with open(os.path.join(env_utils.DEFAULT_DATA_DIR, \"coincidences_sample.json\")) as f:\n",
    "    coincidences = json.load(f)\n",
    "\n",
    "logger.info(f\"{len(coincidences['examples'])=}\")"
   ]
  },
  {
   "cell_type": "code",
   "execution_count": 28,
   "metadata": {},
   "outputs": [
    {
     "name": "stdout",
     "output_type": "stream",
     "text": [
      "2025-02-19 11:17:53 __main__ INFO     (1/20)  entities=['Germany', 'Japan']\n"
     ]
    },
    {
     "name": "stdout",
     "output_type": "stream",
     "text": [
      "2025-02-19 11:17:53 __main__ INFO     clean_answer=PredictedToken(token=' Axis', prob=0.2440185546875, logit=16.1875, token_id=35574)\n"
     ]
    },
    {
     "name": "stderr",
     "output_type": "stream",
     "text": [
      "direction='asc': 100%|██████████| 32/32 [00:30<00:00,  1.03it/s]\n",
      "direction='desc': 100%|██████████| 32/32 [00:30<00:00,  1.04it/s]\n",
      "window_size=5: 100%|██████████| 32/32 [00:13<00:00,  2.33it/s]"
     ]
    },
    {
     "name": "stdout",
     "output_type": "stream",
     "text": [
      "--------------------------------------------------------------------------------\n",
      "2025-02-19 11:19:09 __main__ INFO     (2/20)  entities=['Hugh Jackman', 'Ryan Reynolds']\n"
     ]
    },
    {
     "name": "stderr",
     "output_type": "stream",
     "text": [
      "\n"
     ]
    },
    {
     "name": "stdout",
     "output_type": "stream",
     "text": [
      "2025-02-19 11:19:09 __main__ INFO     clean_answer=PredictedToken(token=' X', prob=0.15087890625, logit=15.5859375, token_id=1630)\n"
     ]
    },
    {
     "name": "stderr",
     "output_type": "stream",
     "text": [
      "direction='asc': 100%|██████████| 32/32 [00:30<00:00,  1.04it/s]\n",
      "direction='desc': 100%|██████████| 32/32 [00:30<00:00,  1.05it/s]\n",
      "window_size=5: 100%|██████████| 32/32 [00:14<00:00,  2.27it/s]"
     ]
    },
    {
     "name": "stdout",
     "output_type": "stream",
     "text": [
      "--------------------------------------------------------------------------------\n",
      "2025-02-19 11:20:24 __main__ INFO     (3/20)  entities=['Bhutan', 'Tuvalu']\n"
     ]
    },
    {
     "name": "stderr",
     "output_type": "stream",
     "text": [
      "\n"
     ]
    },
    {
     "name": "stdout",
     "output_type": "stream",
     "text": [
      "2025-02-19 11:20:25 __main__ INFO     clean_answer=PredictedToken(token=' monarch', prob=0.1822509765625, logit=16.046875, token_id=63854)\n"
     ]
    },
    {
     "name": "stderr",
     "output_type": "stream",
     "text": [
      "direction='asc': 100%|██████████| 32/32 [00:30<00:00,  1.03it/s]\n",
      "direction='desc': 100%|██████████| 32/32 [00:31<00:00,  1.01it/s]\n",
      "window_size=5: 100%|██████████| 32/32 [00:13<00:00,  2.33it/s]"
     ]
    },
    {
     "name": "stdout",
     "output_type": "stream",
     "text": [
      "--------------------------------------------------------------------------------\n",
      "2025-02-19 11:21:41 __main__ INFO     (4/20)  entities=['Vatican City', 'Mount Athos']\n"
     ]
    },
    {
     "name": "stderr",
     "output_type": "stream",
     "text": [
      "\n"
     ]
    },
    {
     "name": "stdout",
     "output_type": "stream",
     "text": [
      "2025-02-19 11:21:41 __main__ INFO     clean_answer=PredictedToken(token=' independent', prob=0.121826171875, logit=15.4296875, token_id=9678)\n"
     ]
    },
    {
     "name": "stderr",
     "output_type": "stream",
     "text": [
      "direction='asc': 100%|██████████| 32/32 [00:30<00:00,  1.06it/s]\n",
      "direction='desc': 100%|██████████| 32/32 [00:30<00:00,  1.07it/s]\n",
      "window_size=5: 100%|██████████| 32/32 [00:13<00:00,  2.30it/s]"
     ]
    },
    {
     "name": "stdout",
     "output_type": "stream",
     "text": [
      "--------------------------------------------------------------------------------\n",
      "2025-02-19 11:22:55 __main__ INFO     (5/20)  entities=['Rosetta Stone', 'Dead Sea Scrolls']\n"
     ]
    },
    {
     "name": "stderr",
     "output_type": "stream",
     "text": [
      "\n"
     ]
    },
    {
     "name": "stdout",
     "output_type": "stream",
     "text": [
      "2025-02-19 11:22:56 __main__ INFO     clean_answer=PredictedToken(token=' ancient', prob=0.3876953125, logit=17.703125, token_id=14154)\n"
     ]
    },
    {
     "name": "stderr",
     "output_type": "stream",
     "text": [
      "direction='asc': 100%|██████████| 32/32 [00:30<00:00,  1.04it/s]\n",
      "direction='desc': 100%|██████████| 32/32 [00:30<00:00,  1.05it/s]\n",
      "window_size=5: 100%|██████████| 32/32 [00:13<00:00,  2.40it/s]"
     ]
    },
    {
     "name": "stdout",
     "output_type": "stream",
     "text": [
      "--------------------------------------------------------------------------------\n",
      "2025-02-19 11:24:10 __main__ INFO     (6/20)  entities=['Leonardo da Vinci', 'Benjamin Franklin']\n"
     ]
    },
    {
     "name": "stderr",
     "output_type": "stream",
     "text": [
      "\n"
     ]
    },
    {
     "name": "stdout",
     "output_type": "stream",
     "text": [
      "2025-02-19 11:24:10 __main__ INFO     clean_answer=PredictedToken(token=' polym', prob=0.29150390625, logit=17.171875, token_id=46033)\n"
     ]
    },
    {
     "name": "stderr",
     "output_type": "stream",
     "text": [
      "direction='asc': 100%|██████████| 32/32 [00:30<00:00,  1.04it/s]\n",
      "direction='desc': 100%|██████████| 32/32 [00:30<00:00,  1.04it/s]\n",
      "window_size=5: 100%|██████████| 32/32 [00:13<00:00,  2.29it/s]"
     ]
    },
    {
     "name": "stdout",
     "output_type": "stream",
     "text": [
      "--------------------------------------------------------------------------------\n",
      "2025-02-19 11:25:26 __main__ INFO     (7/20)  entities=['Daredevil', 'Toph Beifong']\n"
     ]
    },
    {
     "name": "stderr",
     "output_type": "stream",
     "text": [
      "\n"
     ]
    },
    {
     "name": "stdout",
     "output_type": "stream",
     "text": [
      "2025-02-19 11:25:26 __main__ INFO     clean_answer=PredictedToken(token=' blind', prob=0.7431640625, logit=18.484375, token_id=18507)\n"
     ]
    },
    {
     "name": "stderr",
     "output_type": "stream",
     "text": [
      "direction='asc': 100%|██████████| 32/32 [00:30<00:00,  1.05it/s]\n",
      "direction='desc': 100%|██████████| 32/32 [00:30<00:00,  1.04it/s]\n",
      "window_size=5: 100%|██████████| 32/32 [00:14<00:00,  2.26it/s]"
     ]
    },
    {
     "name": "stdout",
     "output_type": "stream",
     "text": [
      "--------------------------------------------------------------------------------\n",
      "2025-02-19 11:26:42 __main__ INFO     (8/20)  entities=['Memento', 'Inception']\n"
     ]
    },
    {
     "name": "stderr",
     "output_type": "stream",
     "text": [
      "\n"
     ]
    },
    {
     "name": "stdout",
     "output_type": "stream",
     "text": [
      "2025-02-19 11:26:42 __main__ INFO     clean_answer=PredictedToken(token=' directed', prob=0.724609375, logit=18.453125, token_id=15910)\n"
     ]
    },
    {
     "name": "stderr",
     "output_type": "stream",
     "text": [
      "direction='asc': 100%|██████████| 32/32 [00:30<00:00,  1.03it/s]\n",
      "direction='desc': 100%|██████████| 32/32 [00:30<00:00,  1.05it/s]\n",
      "window_size=5: 100%|██████████| 32/32 [00:14<00:00,  2.28it/s]"
     ]
    },
    {
     "name": "stdout",
     "output_type": "stream",
     "text": [
      "--------------------------------------------------------------------------------\n",
      "2025-02-19 11:27:57 __main__ INFO     (9/20)  entities=['Julius Caesar', 'Nepoleon Bonaparte']\n"
     ]
    },
    {
     "name": "stderr",
     "output_type": "stream",
     "text": [
      "\n"
     ]
    },
    {
     "name": "stdout",
     "output_type": "stream",
     "text": [
      "2025-02-19 11:27:58 __main__ INFO     clean_answer=PredictedToken(token=' military', prob=0.241455078125, logit=17.53125, token_id=6411)\n"
     ]
    },
    {
     "name": "stderr",
     "output_type": "stream",
     "text": [
      "direction='asc': 100%|██████████| 32/32 [00:30<00:00,  1.06it/s]\n",
      "direction='desc': 100%|██████████| 32/32 [00:30<00:00,  1.04it/s]\n",
      "window_size=5: 100%|██████████| 32/32 [00:14<00:00,  2.19it/s]"
     ]
    },
    {
     "name": "stdout",
     "output_type": "stream",
     "text": [
      "--------------------------------------------------------------------------------\n",
      "2025-02-19 11:29:14 __main__ INFO     (10/20)  entities=['The Godfather', 'Goodfellas']\n"
     ]
    },
    {
     "name": "stderr",
     "output_type": "stream",
     "text": [
      "\n"
     ]
    },
    {
     "name": "stdout",
     "output_type": "stream",
     "text": [
      "2025-02-19 11:29:14 __main__ INFO     clean_answer=PredictedToken(token=' mob', prob=0.1612548828125, logit=16.96875, token_id=12881)\n"
     ]
    },
    {
     "name": "stderr",
     "output_type": "stream",
     "text": [
      "direction='asc': 100%|██████████| 32/32 [00:31<00:00,  1.03it/s]\n",
      "direction='desc': 100%|██████████| 32/32 [00:31<00:00,  1.02it/s]\n",
      "window_size=5: 100%|██████████| 32/32 [00:14<00:00,  2.24it/s]"
     ]
    },
    {
     "name": "stdout",
     "output_type": "stream",
     "text": [
      "--------------------------------------------------------------------------------\n",
      "2025-02-19 11:30:31 __main__ INFO     (11/20)  entities=['The Green Mile', 'The Shawshank Redemption']\n"
     ]
    },
    {
     "name": "stderr",
     "output_type": "stream",
     "text": [
      "\n"
     ]
    },
    {
     "name": "stdout",
     "output_type": "stream",
     "text": [
      "2025-02-19 11:30:31 __main__ INFO     clean_answer=PredictedToken(token=' directed', prob=0.1981201171875, logit=15.9140625, token_id=15910)\n"
     ]
    },
    {
     "name": "stderr",
     "output_type": "stream",
     "text": [
      "direction='asc': 100%|██████████| 32/32 [00:31<00:00,  1.02it/s]\n",
      "direction='desc': 100%|██████████| 32/32 [00:31<00:00,  1.03it/s]\n",
      "window_size=5: 100%|██████████| 32/32 [00:13<00:00,  2.29it/s]"
     ]
    },
    {
     "name": "stdout",
     "output_type": "stream",
     "text": [
      "--------------------------------------------------------------------------------\n",
      "2025-02-19 11:31:48 __main__ INFO     (12/20)  entities=['Christopher Columbus', 'Vasco da Gama']\n"
     ]
    },
    {
     "name": "stderr",
     "output_type": "stream",
     "text": [
      "\n"
     ]
    },
    {
     "name": "stdout",
     "output_type": "stream",
     "text": [
      "2025-02-19 11:31:48 __main__ INFO     clean_answer=PredictedToken(token=' explor', prob=0.45458984375, logit=18.71875, token_id=48539)\n"
     ]
    },
    {
     "name": "stderr",
     "output_type": "stream",
     "text": [
      "direction='asc': 100%|██████████| 32/32 [00:31<00:00,  1.02it/s]\n",
      "direction='desc': 100%|██████████| 32/32 [00:32<00:00,  1.01s/it]\n",
      "window_size=5: 100%|██████████| 32/32 [00:16<00:00,  1.94it/s]"
     ]
    },
    {
     "name": "stdout",
     "output_type": "stream",
     "text": [
      "--------------------------------------------------------------------------------\n",
      "2025-02-19 11:33:08 __main__ INFO     (13/20)  entities=['Elephant', 'Whale']\n"
     ]
    },
    {
     "name": "stderr",
     "output_type": "stream",
     "text": [
      "\n"
     ]
    },
    {
     "name": "stdout",
     "output_type": "stream",
     "text": [
      "2025-02-19 11:33:09 __main__ INFO     clean_answer=PredictedToken(token=' mammals', prob=0.310302734375, logit=16.71875, token_id=56669)\n"
     ]
    },
    {
     "name": "stderr",
     "output_type": "stream",
     "text": [
      "direction='asc': 100%|██████████| 32/32 [00:33<00:00,  1.06s/it]\n",
      "direction='desc': 100%|██████████| 32/32 [00:33<00:00,  1.05s/it]\n",
      "window_size=5: 100%|██████████| 32/32 [00:16<00:00,  1.93it/s]"
     ]
    },
    {
     "name": "stdout",
     "output_type": "stream",
     "text": [
      "--------------------------------------------------------------------------------\n",
      "2025-02-19 11:34:33 __main__ INFO     (14/20)  entities=['Emu', 'Ostrich']\n"
     ]
    },
    {
     "name": "stderr",
     "output_type": "stream",
     "text": [
      "\n"
     ]
    },
    {
     "name": "stdout",
     "output_type": "stream",
     "text": [
      "2025-02-19 11:34:34 __main__ INFO     clean_answer=PredictedToken(token=' flight', prob=0.406982421875, logit=17.03125, token_id=11213)\n"
     ]
    },
    {
     "name": "stderr",
     "output_type": "stream",
     "text": [
      "direction='asc': 100%|██████████| 32/32 [00:33<00:00,  1.05s/it]\n",
      "direction='desc': 100%|██████████| 32/32 [00:30<00:00,  1.04it/s]\n",
      "window_size=5: 100%|██████████| 32/32 [00:13<00:00,  2.32it/s]"
     ]
    },
    {
     "name": "stdout",
     "output_type": "stream",
     "text": [
      "--------------------------------------------------------------------------------\n",
      "2025-02-19 11:35:52 __main__ INFO     (15/20)  entities=['Brazil', 'Turkey']\n"
     ]
    },
    {
     "name": "stderr",
     "output_type": "stream",
     "text": [
      "\n"
     ]
    },
    {
     "name": "stdout",
     "output_type": "stream",
     "text": [
      "2025-02-19 11:35:52 __main__ INFO     clean_answer=PredictedToken(token=' members', prob=0.22412109375, logit=15.78125, token_id=3697)\n"
     ]
    },
    {
     "name": "stderr",
     "output_type": "stream",
     "text": [
      "direction='asc': 100%|██████████| 32/32 [00:30<00:00,  1.06it/s]\n",
      "direction='desc': 100%|██████████| 32/32 [00:30<00:00,  1.04it/s]\n",
      "window_size=5: 100%|██████████| 32/32 [00:14<00:00,  2.22it/s]"
     ]
    },
    {
     "name": "stdout",
     "output_type": "stream",
     "text": [
      "--------------------------------------------------------------------------------\n",
      "2025-02-19 11:37:08 __main__ INFO     (16/20)  entities=['jellyfish', 'lobster']\n"
     ]
    },
    {
     "name": "stderr",
     "output_type": "stream",
     "text": [
      "\n"
     ]
    },
    {
     "name": "stdout",
     "output_type": "stream",
     "text": [
      "2025-02-19 11:37:08 __main__ INFO     clean_answer=PredictedToken(token=' in', prob=0.201904296875, logit=15.6484375, token_id=304)\n"
     ]
    },
    {
     "name": "stderr",
     "output_type": "stream",
     "text": [
      "direction='asc': 100%|██████████| 32/32 [00:30<00:00,  1.05it/s]\n",
      "direction='desc': 100%|██████████| 32/32 [00:30<00:00,  1.05it/s]\n",
      "window_size=5: 100%|██████████| 32/32 [00:14<00:00,  2.24it/s]"
     ]
    },
    {
     "name": "stdout",
     "output_type": "stream",
     "text": [
      "--------------------------------------------------------------------------------\n",
      "2025-02-19 11:38:23 __main__ INFO     (17/20)  entities=['corn', 'wheat']\n"
     ]
    },
    {
     "name": "stderr",
     "output_type": "stream",
     "text": [
      "\n"
     ]
    },
    {
     "name": "stdout",
     "output_type": "stream",
     "text": [
      "2025-02-19 11:38:23 __main__ INFO     clean_answer=PredictedToken(token=' staple', prob=0.1856689453125, logit=17.078125, token_id=50056)\n"
     ]
    },
    {
     "name": "stderr",
     "output_type": "stream",
     "text": [
      "direction='asc': 100%|██████████| 32/32 [00:31<00:00,  1.02it/s]\n",
      "direction='desc': 100%|██████████| 32/32 [00:30<00:00,  1.05it/s]\n",
      "window_size=5: 100%|██████████| 32/32 [00:13<00:00,  2.30it/s]"
     ]
    },
    {
     "name": "stdout",
     "output_type": "stream",
     "text": [
      "--------------------------------------------------------------------------------\n",
      "2025-02-19 11:39:39 __main__ INFO     (18/20)  entities=['crocodile', 'shark']\n"
     ]
    },
    {
     "name": "stderr",
     "output_type": "stream",
     "text": [
      "\n"
     ]
    },
    {
     "name": "stdout",
     "output_type": "stream",
     "text": [
      "2025-02-19 11:39:39 __main__ INFO     clean_answer=PredictedToken(token=' apex', prob=0.1292724609375, logit=15.6875, token_id=72627)\n"
     ]
    },
    {
     "name": "stderr",
     "output_type": "stream",
     "text": [
      "direction='asc': 100%|██████████| 32/32 [00:30<00:00,  1.03it/s]\n",
      "direction='desc': 100%|██████████| 32/32 [00:30<00:00,  1.04it/s]\n",
      "window_size=5: 100%|██████████| 32/32 [00:14<00:00,  2.22it/s]"
     ]
    },
    {
     "name": "stdout",
     "output_type": "stream",
     "text": [
      "--------------------------------------------------------------------------------\n",
      "2025-02-19 11:40:55 __main__ INFO     (19/20)  entities=['crab', 'spider']\n"
     ]
    },
    {
     "name": "stderr",
     "output_type": "stream",
     "text": [
      "\n"
     ]
    },
    {
     "name": "stdout",
     "output_type": "stream",
     "text": [
      "2025-02-19 11:40:56 __main__ INFO     clean_answer=PredictedToken(token=' ar', prob=0.4072265625, logit=16.71875, token_id=802)\n"
     ]
    },
    {
     "name": "stderr",
     "output_type": "stream",
     "text": [
      "direction='asc': 100%|██████████| 32/32 [00:31<00:00,  1.02it/s]\n",
      "direction='desc': 100%|██████████| 32/32 [00:31<00:00,  1.03it/s]\n",
      "window_size=5: 100%|██████████| 32/32 [00:14<00:00,  2.25it/s]"
     ]
    },
    {
     "name": "stdout",
     "output_type": "stream",
     "text": [
      "--------------------------------------------------------------------------------\n",
      "2025-02-19 11:42:12 __main__ INFO     (20/20)  entities=['copper', 'gold']\n"
     ]
    },
    {
     "name": "stderr",
     "output_type": "stream",
     "text": [
      "\n"
     ]
    },
    {
     "name": "stdout",
     "output_type": "stream",
     "text": [
      "2025-02-19 11:42:12 __main__ INFO     clean_answer=PredictedToken(token=' used', prob=0.4423828125, logit=18.171875, token_id=1511)\n"
     ]
    },
    {
     "name": "stderr",
     "output_type": "stream",
     "text": [
      "direction='asc': 100%|██████████| 32/32 [00:31<00:00,  1.03it/s]\n",
      "direction='desc': 100%|██████████| 32/32 [00:31<00:00,  1.02it/s]\n",
      "window_size=5: 100%|██████████| 32/32 [00:14<00:00,  2.28it/s]"
     ]
    },
    {
     "name": "stdout",
     "output_type": "stream",
     "text": [
      "--------------------------------------------------------------------------------\n"
     ]
    },
    {
     "name": "stderr",
     "output_type": "stream",
     "text": [
      "\n"
     ]
    }
   ],
   "source": [
    "focus_strategy: Literal[\"entities\", \"entities_last\", \"ablate_all\"] = \"entities\"\n",
    "\n",
    "effects = []\n",
    "\n",
    "for idx, c in enumerate(coincidences[\"examples\"]):\n",
    "    entities = c[\"entity_pair\"]\n",
    "    logger.info(f\"({idx + 1}/{len(coincidences['examples'])})  {entities=}\")\n",
    "\n",
    "    prompt = prepare_probing_input(\n",
    "        mt=mt,\n",
    "        entities=entities,\n",
    "        prefix=prefix,\n",
    "        answer_marker=answer_marker,\n",
    "        question_marker=question_marker,\n",
    "        block_separator=block_separator,\n",
    "        is_a_reasoning_model=\"deepseek\" in model_key.lower(),\n",
    "        answer_prefix=\" They are/were both\",\n",
    "    )\n",
    "\n",
    "    clean_answer = predict_next_token(\n",
    "        mt=mt, inputs=TokenizerOutput(data=prompt.tokenized), k=1\n",
    "    )[0][0]\n",
    "    logger.info(f\"{clean_answer=}\")\n",
    "\n",
    "    block_edges = get_edges_to_be_ablated(\n",
    "        prompt=prompt,\n",
    "        focus_strategy=focus_strategy,\n",
    "        Q_IDX=-2,\n",
    "        whitelist_key_indices=[0],\n",
    "        # whitelist_key_indices=[0, -1]\n",
    "    )\n",
    "\n",
    "    cumulative_effects_asc = attn_blocking_sweep_cumulative(\n",
    "        mt=mt,\n",
    "        prompt=prompt,\n",
    "        clean_answer=clean_answer,\n",
    "        block_edges=block_edges,\n",
    "        direction=\"asc\",\n",
    "    )\n",
    "\n",
    "    cumulative_effects_desc = attn_blocking_sweep_cumulative(\n",
    "        mt=mt,\n",
    "        prompt=prompt,\n",
    "        clean_answer=clean_answer,\n",
    "        block_edges=block_edges,\n",
    "        direction=\"desc\",\n",
    "    )\n",
    "\n",
    "    attn_ablation_effects = attn_blocking_sweep_window(\n",
    "        mt=mt,\n",
    "        prompt=prompt,\n",
    "        clean_answer=clean_answer,\n",
    "        block_edges=block_edges,\n",
    "        window_size=5,\n",
    "    )\n",
    "\n",
    "    effects.append(\n",
    "        dict(\n",
    "            entities=entities,\n",
    "            clean_answer=clean_answer,\n",
    "            attn_ablation_effects=attn_ablation_effects,\n",
    "            cumulative_effects=dict(\n",
    "                asc=cumulative_effects_asc, desc=cumulative_effects_desc\n",
    "            ),\n",
    "        )\n",
    "    )\n",
    "\n",
    "    print(\"-\" * 80)"
   ]
  },
  {
   "cell_type": "code",
   "execution_count": 31,
   "metadata": {},
   "outputs": [],
   "source": [
    "def get_metric_value(track_ans, metric):\n",
    "    rank, pred = list(track_ans[0].values())[0]\n",
    "    if metric in [\"prob\", \"logit\"]:\n",
    "        return getattr(pred, metric)\n",
    "    elif metric == \"reciprocal_rank\":\n",
    "        return 1 / rank\n",
    "\n",
    "\n",
    "from src.utils.metrics import AggregateMetric\n",
    "from typing import Optional\n",
    "\n",
    "\n",
    "def process_effects_per_layer(\n",
    "    effects: list[dict],\n",
    "    metric: Literal[\"logit\", \"prob\", \"reciprocal_rank\"] = \"prob\",\n",
    "    v_clean_ans: Optional[list[float]] = None,\n",
    "):\n",
    "    if v_clean_ans is not None:\n",
    "        assert metric in [\"logit\", \"prob\"]\n",
    "        assert len(v_clean_ans) == len(effects)\n",
    "\n",
    "    layer_wise_results: dict[int, AggregateMetric] = {}\n",
    "    layer_indices = list(range(mt.n_layer))\n",
    "    for layer_idx in layer_indices:\n",
    "        values = []\n",
    "        for idx, e in enumerate(effects):\n",
    "            track_ans = e[int(layer_idx)][\"track_ans\"]\n",
    "            v = get_metric_value(track_ans, metric)\n",
    "            if v_clean_ans is not None:\n",
    "                v /= v_clean_ans[idx]\n",
    "            values.append(v)\n",
    "        layer_wise_results[layer_idx] = AggregateMetric.aggregate(values)\n",
    "    return layer_wise_results"
   ]
  },
  {
   "cell_type": "code",
   "execution_count": 36,
   "metadata": {},
   "outputs": [
    {
     "data": {
      "image/png": "[encoded data removed]",
      "text/plain": [
       "<Figure size 1500x500 with 1 Axes>"
      ]
     },
     "metadata": {},
     "output_type": "display_data"
    }
   ],
   "source": [
    "from matplotlib import pyplot as plt\n",
    "\n",
    "metric: Literal[\"logit\", \"prob\", \"reciprocal_rank\"] = \"logit\"\n",
    "\n",
    "effects_asc = process_effects_per_layer(\n",
    "    effects=[e[\"cumulative_effects\"][\"asc\"] for e in effects],\n",
    "    metric=metric,\n",
    "    v_clean_ans=[getattr(e[\"clean_answer\"], metric) for e in effects]\n",
    "    if metric in [\"logit\", \"prob\"]\n",
    "    else None,\n",
    ")\n",
    "\n",
    "\n",
    "effects_desc = process_effects_per_layer(\n",
    "    effects=[e[\"cumulative_effects\"][\"desc\"] for e in effects],\n",
    "    metric=metric,\n",
    "    v_clean_ans=[getattr(e[\"clean_answer\"], metric) for e in effects]\n",
    "    if metric in [\"logit\", \"prob\"]\n",
    "    else None,\n",
    ")\n",
    "\n",
    "\n",
    "def plot_metric(\n",
    "    results: dict[int, AggregateMetric], keys: list, label: str, color: str, canvas=plt\n",
    "):\n",
    "    values = [results[k].mean for k in keys]\n",
    "    stds = [results[k].stdev for k in keys]\n",
    "    canvas.plot(values, marker=\"o\", label=label, color=color)\n",
    "    canvas.fill_between(\n",
    "        keys,\n",
    "        [v - s for v, s in zip(values, stds)],\n",
    "        [v + s for v, s in zip(values, stds)],\n",
    "        alpha=0.1,\n",
    "        color=color,\n",
    "    )\n",
    "\n",
    "\n",
    "plt.figure(figsize=(15, 5))\n",
    "plt.title(f\"ATTN Ablation (Cumulative) | ({metric}) | {focus_strategy}\")\n",
    "\n",
    "layers = list(range(mt.n_layer))\n",
    "plot_metric(effects_asc, layers, \"asc\", color=\"blue\")\n",
    "plot_metric(effects_desc, layers, \"desc\", color=\"darkorange\")\n",
    "\n",
    "plt.xticks(layers)\n",
    "plt.xlabel(\"Layer Index\")\n",
    "plt.ylabel(\"ans_abl/ans\")\n",
    "plt.legend()\n",
    "\n",
    "plt.show()"
   ]
  },
  {
   "cell_type": "code",
   "execution_count": 37,
   "metadata": {},
   "outputs": [
    {
     "data": {
      "image/png": "[encoded data removed]",
      "text/plain": [
       "<Figure size 1500x500 with 1 Axes>"
      ]
     },
     "metadata": {},
     "output_type": "display_data"
    }
   ],
   "source": [
    "effects_window = process_effects_per_layer(\n",
    "    effects=[e[\"attn_ablation_effects\"] for e in effects],\n",
    "    metric=metric,\n",
    "    v_clean_ans=[getattr(e[\"clean_answer\"], metric) for e in effects]\n",
    "    if metric in [\"logit\", \"prob\"]\n",
    "    else None,\n",
    ")\n",
    "\n",
    "plt.figure(figsize=(15, 5))\n",
    "plt.title(f\"ATTN Ablation (window=5) | ({metric}) | {focus_strategy}\")\n",
    "\n",
    "plot_metric(effects_window, list(effects_asc.keys()), \"asc\", color=\"red\")\n",
    "\n",
    "plt.xticks(layers)\n",
    "plt.xlabel(\"Layer Index\")\n",
    "plt.ylabel(\"ans_abl/ans\")\n",
    "plt.legend()\n",
    "\n",
    "plt.show()"
   ]
  },
  {
   "cell_type": "markdown",
   "metadata": {},
   "source": [
    "## Patching from a different run to check contribution"
   ]
  },
  {
   "cell_type": "code",
   "execution_count": 22,
   "metadata": {},
   "outputs": [
    {
     "name": "stdout",
     "output_type": "stream",
     "text": [
      "Grace Wanjiru | James Mwangi => \" Ken\" | <-- | Fatima Sheikh => \" Urban\"\n"
     ]
    }
   ],
   "source": [
    "print(sample)"
   ]
  },
  {
   "cell_type": "code",
   "execution_count": 23,
   "metadata": {},
   "outputs": [
    {
     "name": "stdout",
     "output_type": "stream",
     "text": [
      "2025-06-02 14:43:37 src.utils.experiment_utils INFO     setting all seeds to 142\n",
      "# Task: Find Common Attributes Between Two People\n",
      "You will be given two people's names. Your job is to determine if they share ANY common attribute from the list below.\n",
      "\n",
      "## Response Format:\n",
      "- If you find a match: \"Yes - [shared entity] - [description of what they share]\"\n",
      "- If no match: \"No - [Person 1] and [Person 2] have nothing in common\"\n",
      "\n",
      "## Attributes to Consider:\n",
      "1. Same nationality → \"Yes - [nationality] - they are both [nationality]\"\n",
      "2. Same profession → \"Yes - [profession] - they are both [profession]\"\n",
      "3. Same school → \"Yes - [school] - they both graduated from [school]\"\n",
      "\n",
      "Q: Person E and Person F\n",
      "A: Yes - Boston University - they both graduated from Boston University.\n",
      "\n",
      "Q: Person C and Person D\n",
      "A: Yes - Doctor - they are both doctors.\n",
      "\n",
      "Q: Person A and Person B\n",
      "A: Yes - German - they are both German.\n",
      "\n",
      "Q: Person W and Person X\n",
      "A: No - Person W and Person X have nothing in common.\n",
      "\n",
      "## Your turn, give your answer in a single line.\n"
     ]
    }
   ],
   "source": [
    "from src.probing.prompt import BiAssociationPrefix\n",
    "from src.utils.experiment_utils import set_seed\n",
    "\n",
    "prefix_generator_cls = BiAssociationPrefix\n",
    "\n",
    "set_seed(142)\n",
    "\n",
    "prefix_generator = prefix_generator_cls(\n",
    "    filter_attributes=[\"nationality\", \"profession\", \"school\"],\n",
    "    format=\"_3\",\n",
    ")\n",
    "\n",
    "prefix = prefix_generator.get_prefix(\n",
    "    n_valid=10,\n",
    "    n_none=1,\n",
    ")\n",
    "print(prefix)"
   ]
  },
  {
   "cell_type": "code",
   "execution_count": 25,
   "metadata": {},
   "outputs": [
    {
     "name": "stderr",
     "output_type": "stream",
     "text": [
      "/disk/u/arnab/miniconda3/envs/connection/lib/python3.11/site-packages/transformers/generation/configuration_utils.py:631: UserWarning: `do_sample` is set to `False`. However, `temperature` is set to `0.6` -- this flag is only used in sample-based generation modes. You should set `do_sample=True` or unset `temperature`.\n",
      "  warnings.warn(\n",
      "/disk/u/arnab/miniconda3/envs/connection/lib/python3.11/site-packages/transformers/generation/configuration_utils.py:636: UserWarning: `do_sample` is set to `False`. However, `top_p` is set to `0.9` -- this flag is only used in sample-based generation modes. You should set `do_sample=True` or unset `top_p`.\n",
      "  warnings.warn(\n"
     ]
    },
    {
     "name": "stdout",
     "output_type": "stream",
     "text": [
      "('Fatima Sheikh', 'Grace Wanjiru') >> answer='Urban Planner - they are both urban planners.<|eot_id|>'\n",
      "('James Mwangi', 'Grace Wanjiru') >> clean_answer='Kenyan - they are both Kenyan.<|eot_id|>'\n"
     ]
    }
   ],
   "source": [
    "from src.probing.prompt import prepare_probing_input\n",
    "from src.probing.utils import get_lm_generated_answer\n",
    "\n",
    "patch_prompt = prepare_probing_input(\n",
    "    mt=mt,\n",
    "    entities=(sample.patched_entity, sample.common_entity),\n",
    "    prefix=prefix,\n",
    "    answer_marker=prefix_generator.answer_marker,\n",
    "    question_marker=prefix_generator.question_marker,\n",
    "    block_separator=prefix_generator.block_separator,\n",
    "    is_a_reasoning_model=False,\n",
    "    answer_prefix=\" Yes -\",\n",
    ")\n",
    "\n",
    "\n",
    "answer = get_lm_generated_answer(\n",
    "    mt=mt,\n",
    "    prompt=patch_prompt,\n",
    "    is_a_reasoning_model=False,\n",
    "    # is_a_reasoning_model=True\n",
    ")\n",
    "print(f\"{(sample.patched_entity, sample.common_entity)} >> {answer=}\")\n",
    "\n",
    "clean_prompt = prepare_probing_input(\n",
    "    mt=mt,\n",
    "    entities=(sample.clean_entity, sample.common_entity),\n",
    "    prefix=prefix,\n",
    "    answer_marker=prefix_generator.answer_marker,\n",
    "    question_marker=prefix_generator.question_marker,\n",
    "    block_separator=prefix_generator.block_separator,\n",
    "    is_a_reasoning_model=False,\n",
    "    answer_prefix=\" Yes -\",\n",
    ")\n",
    "\n",
    "clean_answer = get_lm_generated_answer(\n",
    "    mt=mt,\n",
    "    prompt=clean_prompt,\n",
    "    is_a_reasoning_model=False,\n",
    "    # is_a_reasoning_model=True\n",
    ")\n",
    "print(f\"{(sample.clean_entity, sample.common_entity)} >> {clean_answer=}\")"
   ]
  },
  {
   "cell_type": "code",
   "execution_count": 47,
   "metadata": {},
   "outputs": [
    {
     "data": {
      "text/plain": [
       "['\" Urban\"[29422]']"
      ]
     },
     "execution_count": 47,
     "metadata": {},
     "output_type": "execute_result"
    }
   ],
   "source": [
    "from src.functional import get_keywords_from_text\n",
    "\n",
    "# keywords = get_keywords_from_text(text=answer, tokenizer=mt)\n",
    "keywords = [predict_next_token(\n",
    "    mt = mt,\n",
    "    inputs = TokenizerOutput(data=patch_prompt.tokenized),\n",
    ")[0][0].token_id]\n",
    "\n",
    "[f\"\\\"{mt.tokenizer.decode(k)}\\\"[{k}]\" for k in keywords]"
   ]
  },
  {
   "cell_type": "code",
   "execution_count": 48,
   "metadata": {},
   "outputs": [],
   "source": [
    "patch_attn_outputs = get_hs(\n",
    "    mt=mt,\n",
    "    input=patch_prompt.prompt,\n",
    "    locations=[(mt.attn_module_name_format.format(l), -1) for l in range(mt.n_layer)],\n",
    "    return_dict=True,\n",
    ")"
   ]
  },
  {
   "cell_type": "code",
   "execution_count": 49,
   "metadata": {},
   "outputs": [
    {
     "name": "stdout",
     "output_type": "stream",
     "text": [
      "gold_score=18.0\n",
      "corrupt_score=7.46875\n"
     ]
    }
   ],
   "source": [
    "gold_score, gold_pred, gold_track = patched_run(\n",
    "    mt=mt,\n",
    "    inputs=TokenizerOutput(data=patch_prompt.tokenized),\n",
    "    patches=[],\n",
    "    ans_tokens=keywords,\n",
    "    # generate_full_ans = True,\n",
    "    metric=\"logit\",\n",
    ")\n",
    "print(f\"{gold_score=}\")\n",
    "\n",
    "corrupt_score, corrupt_pred, corrupt_track = patched_run(\n",
    "    mt=mt,\n",
    "    inputs=TokenizerOutput(data=clean_prompt.tokenized),\n",
    "    patches=[],\n",
    "    ans_tokens=keywords,\n",
    "    # generate_full_ans = True,\n",
    "    metric=\"logit\",\n",
    ")\n",
    "print(f\"{corrupt_score=}\")"
   ]
  },
  {
   "cell_type": "code",
   "execution_count": 50,
   "metadata": {},
   "outputs": [
    {
     "name": "stderr",
     "output_type": "stream",
     "text": [
      "/disk/u/arnab/miniconda3/envs/connection/lib/python3.11/site-packages/transformers/generation/configuration_utils.py:631: UserWarning: `do_sample` is set to `False`. However, `temperature` is set to `0.6` -- this flag is only used in sample-based generation modes. You should set `do_sample=True` or unset `temperature`.\n",
      "  warnings.warn(\n",
      "/disk/u/arnab/miniconda3/envs/connection/lib/python3.11/site-packages/transformers/generation/configuration_utils.py:636: UserWarning: `do_sample` is set to `False`. However, `top_p` is set to `0.9` -- this flag is only used in sample-based generation modes. You should set `do_sample=True` or unset `top_p`.\n",
      "  warnings.warn(\n"
     ]
    },
    {
     "name": "stdout",
     "output_type": "stream",
     "text": [
      "\" Urban Planning - they are both urban planners.\"\n",
      "patched_score=18.625\n",
      "['\" Urban\"[29422] (p=0.547, logit=18.625)', '\" Architect\"[24979] (p=0.178, logit=17.500)', '\" University\"[3907] (p=0.107, logit=17.000)', '\" urban\"[16036] (p=0.037, logit=15.938)', '\" Harvard\"[25996] (p=0.026, logit=15.562)']\n",
      "track={29422: (1, PredictedToken(token=' Urban', prob=0.546875, logit=18.625, token_id=29422, metadata=None))}\n",
      "indirect_effect=1.0593471810089021\n"
     ]
    }
   ],
   "source": [
    "patch_attn_outputs = get_hs(\n",
    "    mt=mt,\n",
    "    input=patch_prompt.prompt,\n",
    "    locations=[(mt.attn_module_name_format.format(l), -1) for l in range(mt.n_layer)],\n",
    "    return_dict=True,\n",
    ")\n",
    "\n",
    "# layer_idx = 30\n",
    "# layer_window = get_window(mt.attn_module_name_format, layer_idx, 5, mt.n_layer)\n",
    "layer_window = range(30, 42) #! critical range\n",
    "# layer_window = range(10, 30) #! too early\n",
    "# layer_window = range(50, mt.n_layer-2) #! too late\n",
    "\n",
    "\n",
    "layer_window = [mt.attn_module_name_format.format(l) for l in layer_window]\n",
    "tokenized_input = TokenizerOutput(data=clean_prompt.tokenized)\n",
    "last_tok_idx = tokenized_input.input_ids.shape[1] - 1\n",
    "\n",
    "patches = [\n",
    "    PatchSpec(location=(layer, last_tok_idx), patch=2 * patch_attn_outputs[(layer, -1)])\n",
    "    for layer in layer_window\n",
    "]\n",
    "# patches = []\n",
    "\n",
    "patched_score, pred, track = patched_run(\n",
    "    mt=mt,\n",
    "    inputs=tokenized_input,\n",
    "    patches=patches,\n",
    "    ans_tokens=keywords,\n",
    "    generate_full_ans=True,\n",
    "    metric=\"logit\",\n",
    ")\n",
    "\n",
    "print(f\"{patched_score=}\")\n",
    "pred_print = [str(pred) for pred in pred]\n",
    "print(f\"{pred_print}\")\n",
    "print(f\"{track=}\")\n",
    "\n",
    "\n",
    "indirect_effect = (patched_score - corrupt_score) / (gold_score - corrupt_score)\n",
    "print(f\"{indirect_effect=}\")"
   ]
  },
  {
   "cell_type": "code",
   "execution_count": 77,
   "metadata": {},
   "outputs": [],
   "source": [
    "activation_patching_path = os.path.join(\n",
    "    env_utils.DEFAULT_RESULTS_DIR,\n",
    "    \"activation_patching\", SYNTH_DATASET,\n",
    ")\n",
    "first_atten_look_path = os.path.join(activation_patching_path, \"1st_attn_look\")\n",
    "os.makedirs(first_atten_look_path, exist_ok=True)"
   ]
  },
  {
   "cell_type": "code",
   "execution_count": null,
   "metadata": {},
   "outputs": [
    {
     "name": "stderr",
     "output_type": "stream",
     "text": [
      "0it [00:00, ?it/s]"
     ]
    },
    {
     "name": "stdout",
     "output_type": "stream",
     "text": [
      "2025-06-02 18:02:40 __main__ INFO     (1/1)  Grace Wanjiru | James Mwangi => \" Ken\" | <-- | Fatima Sheikh => \" Urban\"\n"
     ]
    },
    {
     "name": "stderr",
     "output_type": "stream",
     "text": [
      "/disk/u/arnab/miniconda3/envs/connection/lib/python3.11/site-packages/transformers/generation/configuration_utils.py:631: UserWarning: `do_sample` is set to `False`. However, `temperature` is set to `0.6` -- this flag is only used in sample-based generation modes. You should set `do_sample=True` or unset `temperature`.\n",
      "  warnings.warn(\n",
      "/disk/u/arnab/miniconda3/envs/connection/lib/python3.11/site-packages/transformers/generation/configuration_utils.py:636: UserWarning: `do_sample` is set to `False`. However, `top_p` is set to `0.9` -- this flag is only used in sample-based generation modes. You should set `do_sample=True` or unset `top_p`.\n",
      "  warnings.warn(\n"
     ]
    },
    {
     "name": "stdout",
     "output_type": "stream",
     "text": [
      "2025-06-02 18:02:51 __main__ INFO     ('Fatima Sheikh', 'Grace Wanjiru') >> answer='Urban Planner - they are both urban planners.<|eot_id|>'\n",
      "2025-06-02 18:03:00 __main__ INFO     ('James Mwangi', 'Grace Wanjiru') >> clean_answer='Kenyan - they are both Kenyan.<|eot_id|>'\n",
      "2025-06-02 18:03:01 __main__ INFO     ['29422( Urban)']\n",
      "2025-06-02 18:03:02 __main__ INFO     gold_score=18.0\n",
      "2025-06-02 18:03:03 __main__ INFO     corrupt_score=7.46875\n",
      "2025-06-02 18:03:06 __main__ DEBUG             layer_idx=0, patched_score=18.0\n",
      "2025-06-02 18:03:07 __main__ DEBUG             layer_idx=1, patched_score=18.0\n",
      "2025-06-02 18:03:08 __main__ DEBUG             layer_idx=2, patched_score=18.0\n",
      "2025-06-02 18:03:09 __main__ DEBUG             layer_idx=3, patched_score=18.0\n",
      "2025-06-02 18:03:11 __main__ DEBUG             layer_idx=4, patched_score=18.0\n",
      "2025-06-02 18:03:12 __main__ DEBUG             layer_idx=5, patched_score=18.0\n",
      "2025-06-02 18:03:13 __main__ DEBUG             layer_idx=6, patched_score=18.0\n",
      "2025-06-02 18:03:14 __main__ DEBUG             layer_idx=7, patched_score=18.0\n",
      "2025-06-02 18:03:16 __main__ DEBUG             layer_idx=8, patched_score=18.0\n",
      "2025-06-02 18:03:17 __main__ DEBUG             layer_idx=9, patched_score=18.0\n",
      "2025-06-02 18:03:18 __main__ DEBUG             layer_idx=10, patched_score=18.0\n",
      "2025-06-02 18:03:20 __main__ DEBUG             layer_idx=11, patched_score=18.0\n",
      "2025-06-02 18:03:21 __main__ DEBUG             layer_idx=12, patched_score=18.0\n",
      "2025-06-02 18:03:22 __main__ DEBUG             layer_idx=13, patched_score=18.0\n",
      "2025-06-02 18:03:23 __main__ DEBUG             layer_idx=14, patched_score=18.0\n",
      "2025-06-02 18:03:25 __main__ DEBUG             layer_idx=15, patched_score=18.0\n",
      "2025-06-02 18:03:26 __main__ DEBUG             layer_idx=16, patched_score=18.0\n",
      "2025-06-02 18:03:27 __main__ DEBUG             layer_idx=17, patched_score=18.0\n",
      "2025-06-02 18:03:29 __main__ DEBUG             layer_idx=18, patched_score=18.0\n",
      "2025-06-02 18:03:30 __main__ DEBUG             layer_idx=19, patched_score=18.0\n",
      "2025-06-02 18:03:31 __main__ DEBUG             layer_idx=20, patched_score=18.0\n",
      "2025-06-02 18:03:32 __main__ DEBUG             layer_idx=21, patched_score=18.0\n",
      "2025-06-02 18:03:33 __main__ DEBUG             layer_idx=22, patched_score=18.125\n",
      "2025-06-02 18:03:33 __main__ DEBUG             layer_idx=23, patched_score=18.0\n",
      "2025-06-02 18:03:34 __main__ DEBUG             layer_idx=24, patched_score=17.875\n",
      "2025-06-02 18:03:34 __main__ DEBUG             layer_idx=25, patched_score=17.875\n",
      "2025-06-02 18:03:35 __main__ DEBUG             layer_idx=26, patched_score=17.75\n",
      "2025-06-02 18:03:36 __main__ DEBUG             layer_idx=27, patched_score=17.75\n",
      "2025-06-02 18:03:37 __main__ DEBUG             layer_idx=28, patched_score=17.375\n",
      "2025-06-02 18:03:38 __main__ DEBUG             layer_idx=29, patched_score=17.375\n",
      "2025-06-02 18:03:40 __main__ DEBUG             layer_idx=30, patched_score=17.25\n",
      "2025-06-02 18:03:41 __main__ DEBUG             layer_idx=31, patched_score=17.125\n",
      "2025-06-02 18:03:42 __main__ DEBUG             layer_idx=32, patched_score=16.75\n",
      "2025-06-02 18:03:43 __main__ DEBUG             layer_idx=33, patched_score=16.625\n",
      "2025-06-02 18:03:44 __main__ DEBUG             layer_idx=34, patched_score=16.625\n",
      "2025-06-02 18:03:46 __main__ DEBUG             layer_idx=35, patched_score=16.125\n",
      "2025-06-02 18:03:47 __main__ DEBUG             layer_idx=36, patched_score=15.3125\n",
      "2025-06-02 18:03:48 __main__ DEBUG             layer_idx=37, patched_score=14.5\n",
      "2025-06-02 18:03:49 __main__ DEBUG             layer_idx=38, patched_score=12.5\n",
      "2025-06-02 18:03:51 __main__ DEBUG             layer_idx=39, patched_score=12.125\n",
      "2025-06-02 18:03:52 __main__ DEBUG             layer_idx=40, patched_score=11.875\n",
      "2025-06-02 18:03:54 __main__ DEBUG             layer_idx=41, patched_score=11.8125\n",
      "2025-06-02 18:03:55 __main__ DEBUG             layer_idx=42, patched_score=11.5\n",
      "2025-06-02 18:03:56 __main__ DEBUG             layer_idx=43, patched_score=11.25\n",
      "2025-06-02 18:03:57 __main__ DEBUG             layer_idx=44, patched_score=11.3125\n",
      "2025-06-02 18:03:58 __main__ DEBUG             layer_idx=45, patched_score=11.375\n",
      "2025-06-02 18:03:59 __main__ DEBUG             layer_idx=46, patched_score=11.0\n",
      "2025-06-02 18:04:01 __main__ DEBUG             layer_idx=47, patched_score=10.9375\n",
      "2025-06-02 18:04:02 __main__ DEBUG             layer_idx=48, patched_score=11.0\n",
      "2025-06-02 18:04:03 __main__ DEBUG             layer_idx=49, patched_score=11.0\n",
      "2025-06-02 18:04:04 __main__ DEBUG             layer_idx=50, patched_score=10.875\n",
      "2025-06-02 18:04:05 __main__ DEBUG             layer_idx=51, patched_score=10.75\n",
      "2025-06-02 18:04:06 __main__ DEBUG             layer_idx=52, patched_score=10.625\n",
      "2025-06-02 18:04:08 __main__ DEBUG             layer_idx=53, patched_score=10.75\n",
      "2025-06-02 18:04:09 __main__ DEBUG             layer_idx=54, patched_score=10.8125\n",
      "2025-06-02 18:04:10 __main__ DEBUG             layer_idx=55, patched_score=10.6875\n",
      "2025-06-02 18:04:10 __main__ DEBUG             layer_idx=56, patched_score=10.5625\n",
      "2025-06-02 18:04:11 __main__ DEBUG             layer_idx=57, patched_score=10.5625\n",
      "2025-06-02 18:04:12 __main__ DEBUG             layer_idx=58, patched_score=10.3125\n",
      "2025-06-02 18:04:13 __main__ DEBUG             layer_idx=59, patched_score=10.1875\n",
      "2025-06-02 18:04:14 __main__ DEBUG             layer_idx=60, patched_score=10.125\n",
      "2025-06-02 18:04:14 __main__ DEBUG             layer_idx=61, patched_score=9.9375\n",
      "2025-06-02 18:04:15 __main__ DEBUG             layer_idx=62, patched_score=9.875\n",
      "2025-06-02 18:04:16 __main__ DEBUG             layer_idx=63, patched_score=9.6875\n",
      "2025-06-02 18:04:17 __main__ DEBUG             layer_idx=64, patched_score=9.75\n",
      "2025-06-02 18:04:18 __main__ DEBUG             layer_idx=65, patched_score=9.75\n",
      "2025-06-02 18:04:19 __main__ DEBUG             layer_idx=66, patched_score=9.8125\n",
      "2025-06-02 18:04:20 __main__ DEBUG             layer_idx=67, patched_score=9.75\n",
      "2025-06-02 18:04:21 __main__ DEBUG             layer_idx=68, patched_score=9.75\n",
      "2025-06-02 18:04:23 __main__ DEBUG             layer_idx=69, patched_score=10.0\n",
      "2025-06-02 18:04:24 __main__ DEBUG             layer_idx=70, patched_score=10.0625\n",
      "2025-06-02 18:04:25 __main__ DEBUG             layer_idx=71, patched_score=10.0\n",
      "2025-06-02 18:04:26 __main__ DEBUG             layer_idx=72, patched_score=9.9375\n",
      "2025-06-02 18:04:28 __main__ DEBUG             layer_idx=73, patched_score=10.0625\n",
      "2025-06-02 18:04:29 __main__ DEBUG             layer_idx=74, patched_score=10.125\n",
      "2025-06-02 18:04:30 __main__ DEBUG             layer_idx=75, patched_score=9.875\n",
      "2025-06-02 18:04:32 __main__ DEBUG             layer_idx=76, patched_score=9.375\n",
      "2025-06-02 18:04:33 __main__ DEBUG             layer_idx=77, patched_score=9.125\n",
      "2025-06-02 18:04:34 __main__ DEBUG             layer_idx=78, patched_score=8.9375\n",
      "2025-06-02 18:04:36 __main__ DEBUG             layer_idx=79, patched_score=7.59375\n",
      "2025-06-02 18:04:36 __main__ DEBUG    ------------------------------\n"
     ]
    },
    {
     "name": "stderr",
     "output_type": "stream",
     "text": [
      "1it [01:56, 116.09s/it]\n",
      "0it [00:00, ?it/s]"
     ]
    },
    {
     "name": "stdout",
     "output_type": "stream",
     "text": [
      "2025-06-02 18:04:36 __main__ INFO     (1/1)  Grace Wanjiru | James Mwangi => \" Ken\" | <-- | Fatima Sheikh => \" Urban\"\n",
      "2025-06-02 18:04:46 __main__ INFO     ('Fatima Sheikh', 'Grace Wanjiru') >> answer='Urban Planner - they are both urban planners.<|eot_id|>'\n",
      "2025-06-02 18:04:51 __main__ INFO     ('James Mwangi', 'Grace Wanjiru') >> clean_answer='Kenyan - they are both Kenyan.<|eot_id|>'\n",
      "2025-06-02 18:04:53 __main__ INFO     ['29422( Urban)']\n",
      "2025-06-02 18:04:54 __main__ INFO     gold_score=18.0\n",
      "2025-06-02 18:04:55 __main__ INFO     corrupt_score=7.46875\n",
      "2025-06-02 18:04:57 __main__ DEBUG             layer_idx=0, patched_score=7.5\n",
      "2025-06-02 18:04:58 __main__ DEBUG             layer_idx=1, patched_score=7.5\n",
      "2025-06-02 18:04:59 __main__ DEBUG             layer_idx=2, patched_score=7.5\n",
      "2025-06-02 18:05:01 __main__ DEBUG             layer_idx=3, patched_score=7.46875\n",
      "2025-06-02 18:05:02 __main__ DEBUG             layer_idx=4, patched_score=7.46875\n",
      "2025-06-02 18:05:03 __main__ DEBUG             layer_idx=5, patched_score=7.5\n",
      "2025-06-02 18:05:04 __main__ DEBUG             layer_idx=6, patched_score=7.5\n",
      "2025-06-02 18:05:05 __main__ DEBUG             layer_idx=7, patched_score=7.5\n",
      "2025-06-02 18:05:06 __main__ DEBUG             layer_idx=8, patched_score=7.4375\n",
      "2025-06-02 18:05:07 __main__ DEBUG             layer_idx=9, patched_score=7.46875\n",
      "2025-06-02 18:05:09 __main__ DEBUG             layer_idx=10, patched_score=7.5\n"
     ]
    }
   ],
   "source": [
    "from src.functional import get_keywords_from_text\n",
    "from typing import Optional\n",
    "from tqdm import tqdm\n",
    "from src.trace import get_window\n",
    "\n",
    "\n",
    "\n",
    "@torch.inference_mode()\n",
    "def do_patching_sweep(\n",
    "    mt: ModelandTokenizer,\n",
    "    samples: list[ActivationPatchingSamples],\n",
    "    layers: Optional[list[int]] = None,\n",
    "    token_idx=-1,  # TODO: incorporate different key positions like: subj_last, token_last, all_subj, ...\n",
    "    metric: Literal[\"logit\", \"prob\"] = \"logit\",\n",
    "    coeff: float = 1.0,\n",
    "    kind: Literal[\"mlp\", \"attn\", \"residual\"] = \"attn\",\n",
    "    window: int | Literal[\"from\", \"upto\"] = 5,\n",
    ") -> dict:\n",
    "    layers = list(range(mt.n_layer)) if layers is None else layers\n",
    "    module_name_format = {\n",
    "        \"residual\": mt.layer_name_format,\n",
    "        \"mlp\": mt.mlp_module_name_format,\n",
    "        \"attn\": mt.attn_module_name_format,\n",
    "    }[kind]\n",
    "\n",
    "    results = []\n",
    "    for idx, sample in tqdm(enumerate(samples)):\n",
    "        logger.info(f\"({idx + 1}/{len(samples)})  {sample}\")\n",
    "        kwargs = dict(\n",
    "            prefix=prefix,\n",
    "            answer_marker=prefix_generator_cls.answer_marker,\n",
    "            question_marker=prefix_generator_cls.question_marker,\n",
    "            block_separator=prefix_generator_cls.block_separator,\n",
    "            is_a_reasoning_model=False,\n",
    "            answer_prefix=\" Yes -\",\n",
    "        )\n",
    "\n",
    "        patch_prompt = prepare_probing_input(\n",
    "            mt=mt,\n",
    "            entities=(sample.patched_entity, sample.common_entity),\n",
    "            **kwargs,\n",
    "        )\n",
    "\n",
    "        answer = get_lm_generated_answer(\n",
    "            mt=mt,\n",
    "            prompt=patch_prompt,\n",
    "            is_a_reasoning_model=False,\n",
    "        )\n",
    "        logger.info(f\"{(sample.patched_entity, sample.common_entity)} >> {answer=}\")\n",
    "\n",
    "        clean_prompt = prepare_probing_input(\n",
    "            mt=mt, entities=(sample.clean_entity, sample.common_entity), **kwargs\n",
    "        )\n",
    "\n",
    "        clean_answer = get_lm_generated_answer(\n",
    "            mt=mt,\n",
    "            prompt=clean_prompt,\n",
    "            is_a_reasoning_model=False,\n",
    "        )\n",
    "        logger.info(f\"{(sample.clean_entity, sample.common_entity)} >> {clean_answer=}\")\n",
    "\n",
    "        # answer_tokens = get_keywords_from_text(text=answer, tokenizer=mt)\n",
    "        answer_tokens = [\n",
    "            predict_next_token(\n",
    "                mt=mt,\n",
    "                inputs=TokenizerOutput(data=patch_prompt.tokenized),\n",
    "            )[0][0].token_id\n",
    "        ]\n",
    "        logger.info(f\"{[f'{t}({mt.tokenizer.decode(t)})' for t in answer_tokens]}\")\n",
    "\n",
    "        gold_score, gold_pred, gold_track = patched_run(\n",
    "            mt=mt,\n",
    "            inputs=TokenizerOutput(data=patch_prompt.tokenized),\n",
    "            patches=[],\n",
    "            ans_tokens=answer_tokens,\n",
    "            metric=metric,\n",
    "        )\n",
    "        logger.info(f\"{gold_score=}\")\n",
    "\n",
    "        corrupt_score, corrupt_pred, corrupt_track = patched_run(\n",
    "            mt=mt,\n",
    "            inputs=TokenizerOutput(data=clean_prompt.tokenized),\n",
    "            patches=[],\n",
    "            ans_tokens=answer_tokens,\n",
    "            metric=metric,\n",
    "        )\n",
    "        logger.info(f\"{corrupt_score=}\")\n",
    "\n",
    "        patch_layers = {}\n",
    "        unique_layers = []\n",
    "        for layer_idx in layers:\n",
    "            if window == \"from\":\n",
    "                layer_window = range(layer_idx, mt.n_layer)\n",
    "            elif window == \"upto\":\n",
    "                layer_window = range(0, layer_idx + 1)\n",
    "            else:\n",
    "                assert isinstance(window, int)\n",
    "                layer_window = [\n",
    "                    int(l) for l in get_window(\"{}\", layer_idx, window, mt.n_layer)\n",
    "                ]\n",
    "\n",
    "            patch_layers[layer_idx] = [\n",
    "                module_name_format.format(l) for l in layer_window\n",
    "            ]\n",
    "            unique_layers += patch_layers[layer_idx]\n",
    "\n",
    "        unique_layers = set(unique_layers)\n",
    "\n",
    "        patch_outputs = get_hs(\n",
    "            mt=mt,\n",
    "            input=patch_prompt.prompt,\n",
    "            locations=[(l, token_idx) for l in unique_layers],\n",
    "            return_dict=True,\n",
    "        )\n",
    "\n",
    "        patching_results = {}\n",
    "        clean_input = TokenizerOutput(data=clean_prompt.tokenized)\n",
    "\n",
    "        #! currently assumes `token_idx to cache state from LM(patch_input) == token_idx to patch to LM(clean_input)` (change?)\n",
    "        patch_token_idx = token_idx\n",
    "        if patch_token_idx < 0:\n",
    "            patch_token_idx = clean_input.input_ids.shape[1] + token_idx\n",
    "\n",
    "        for layer_idx, layer_window in patch_layers.items():\n",
    "            patches = [\n",
    "                PatchSpec(\n",
    "                    location=(layer, patch_token_idx),\n",
    "                    patch=coeff * patch_outputs[(layer, token_idx)],\n",
    "                )\n",
    "                for layer in layer_window\n",
    "            ]\n",
    "\n",
    "            patched_score, pred, track = patched_run(\n",
    "                mt=mt,\n",
    "                inputs=clean_input,\n",
    "                patches=patches,\n",
    "                ans_tokens=answer_tokens,\n",
    "                generate_full_ans=False,\n",
    "                metric=metric,\n",
    "            )\n",
    "\n",
    "            logger.debug(f\"         {layer_idx=}, {patched_score=}\")\n",
    "            # print(layer_window)\n",
    "\n",
    "            patching_results[layer_idx] = dict(\n",
    "                score=patched_score,\n",
    "                pred=pred,\n",
    "                track=track,\n",
    "            )\n",
    "\n",
    "        logger.debug(\"-\" * 30)\n",
    "\n",
    "        results.append(\n",
    "            dict(\n",
    "                sample=sample,\n",
    "                answer=answer,\n",
    "                answer_tokens=answer_tokens,\n",
    "                gold_score=gold_score,\n",
    "                corrupt_score=corrupt_score,\n",
    "                patching_results=patching_results,\n",
    "            )\n",
    "        )\n",
    "\n",
    "    return results\n",
    "\n",
    "\n",
    "kwargs = dict(\n",
    "    mt=mt,\n",
    "    # samples = [coincidences[\"examples\"][sample_idx]],\n",
    "    samples=samples,\n",
    "    token_idx=-1,\n",
    "    metric=\"logit\",\n",
    "    coeff=1.0,\n",
    "    kind=\"attn\",\n",
    ")\n",
    "\n",
    "res_from = do_patching_sweep(\n",
    "    **kwargs,\n",
    "    window=\"from\",\n",
    ")\n",
    "\n",
    "with open(os.path.join(first_atten_look_path, \"res_from.json\"), \"w\") as f:\n",
    "    json.dump(res_from, f, indent=4, default=str)\n",
    "\n",
    "\n",
    "\n",
    "res_upto = do_patching_sweep(\n",
    "    **kwargs,\n",
    "    window=\"upto\",\n",
    ")\n",
    "\n",
    "with open(os.path.join(first_atten_look_path, \"res_upto.json\"), \"w\") as f:\n",
    "    json.dump(res_upto, f, indent=4, default=str)\n",
    "\n",
    "\n",
    "res_win = do_patching_sweep(\n",
    "    **kwargs,\n",
    "    window=5,\n",
    ")\n",
    "\n",
    "with open(os.path.join(first_atten_look_path, \"res_win.json\"), \"w\") as f:\n",
    "    json.dump(res_win, f, indent=4, default=str)"
   ]
  },
  {
   "cell_type": "code",
   "execution_count": 70,
   "metadata": {},
   "outputs": [
    {
     "data": {
      "text/plain": [
       "[{'sample': ActivationPatchingSamples(prompt_template='# Task: Find Common Attributes Between Two People\\nYou will be given two people\\'s names. Your job is to determine if they share ANY common attribute from the list below.\\n\\n## Response Format:\\n- If you find a match: \"Yes - [shared entity] - [description of what they share]\"\\n- If no match: \"No - [Person 1] and [Person 2] have nothing in common\"\\n\\n## Attributes to Consider:\\n1. Same nationality → \"Yes - [nationality] - they are both [nationality]\"\\n2. Same profession → \"Yes - [profession] - they are both [profession]\"\\n3. Same school → \"Yes - [school] - they both graduated from [school]\"\\n\\nQ: Person W and Person X\\nA: No - Person W and Person X have nothing in common.\\n\\nQ: Person E and Person F\\nA: Yes - Boston University - they both graduated from Boston University.\\n\\nQ: Person C and Person D\\nA: Yes - Doctor - they are both doctors.\\n\\nQ: Person A and Person B\\nA: Yes - German - they are both German.\\n\\n## Your turn, give your answer in a single line.\\n\\nQ: {} and Grace Wanjiru\\nA: Yes -', common_entity='Grace Wanjiru', clean_entity='James Mwangi', patched_entity='Fatima Sheikh', clean_answer=' Ken', patched_answer=' Urban', patched_answer_toks=[29422]),\n",
       "  'answer': 'Urban Planner - they are both urban planners.<|eot_id|>',\n",
       "  'answer_tokens': [29422],\n",
       "  'gold_score': 18.0,\n",
       "  'corrupt_score': 7.46875,\n",
       "  'patching_results': {0: {'score': 18.0,\n",
       "    'pred': [PredictedToken(token=' Urban', prob=0.55859375, logit=18.0, token_id=29422, metadata=None),\n",
       "     PredictedToken(token=' University', prob=0.12451171875, logit=16.5, token_id=3907, metadata=None),\n",
       "     PredictedToken(token=' urban', prob=0.10986328125, logit=16.375, token_id=16036, metadata=None),\n",
       "     PredictedToken(token=' Harvard', prob=0.0458984375, logit=15.5, token_id=25996, metadata=None),\n",
       "     PredictedToken(token=' Doctor', prob=0.029541015625, logit=15.0625, token_id=19150, metadata=None)],\n",
       "    'track': {29422: (1,\n",
       "      PredictedToken(token=' Urban', prob=0.55859375, logit=18.0, token_id=29422, metadata=None))}},\n",
       "   1: {'score': 18.0,\n",
       "    'pred': [PredictedToken(token=' Urban', prob=0.5703125, logit=18.0, token_id=29422, metadata=None),\n",
       "     PredictedToken(token=' University', prob=0.1279296875, logit=16.5, token_id=3907, metadata=None),\n",
       "     PredictedToken(token=' urban', prob=0.09912109375, logit=16.25, token_id=16036, metadata=None),\n",
       "     PredictedToken(token=' Harvard', prob=0.044189453125, logit=15.4375, token_id=25996, metadata=None),\n",
       "     PredictedToken(token=' Doctor', prob=0.0284423828125, logit=15.0, token_id=19150, metadata=None)],\n",
       "    'track': {29422: (1,\n",
       "      PredictedToken(token=' Urban', prob=0.5703125, logit=18.0, token_id=29422, metadata=None))}},\n",
       "   2: {'score': 18.0,\n",
       "    'pred': [PredictedToken(token=' Urban', prob=0.5625, logit=18.0, token_id=29422, metadata=None),\n",
       "     PredictedToken(token=' University', prob=0.125, logit=16.5, token_id=3907, metadata=None),\n",
       "     PredictedToken(token=' urban', prob=0.1103515625, logit=16.375, token_id=16036, metadata=None),\n",
       "     PredictedToken(token=' Harvard', prob=0.043212890625, logit=15.4375, token_id=25996, metadata=None),\n",
       "     PredictedToken(token=' Doctor', prob=0.02978515625, logit=15.0625, token_id=19150, metadata=None)],\n",
       "    'track': {29422: (1,\n",
       "      PredictedToken(token=' Urban', prob=0.5625, logit=18.0, token_id=29422, metadata=None))}},\n",
       "   3: {'score': 18.0,\n",
       "    'pred': [PredictedToken(token=' Urban', prob=0.5625, logit=18.0, token_id=29422, metadata=None),\n",
       "     PredictedToken(token=' University', prob=0.125, logit=16.5, token_id=3907, metadata=None),\n",
       "     PredictedToken(token=' urban', prob=0.1103515625, logit=16.375, token_id=16036, metadata=None),\n",
       "     PredictedToken(token=' Harvard', prob=0.043212890625, logit=15.4375, token_id=25996, metadata=None),\n",
       "     PredictedToken(token=' Doctor', prob=0.02978515625, logit=15.0625, token_id=19150, metadata=None)],\n",
       "    'track': {29422: (1,\n",
       "      PredictedToken(token=' Urban', prob=0.5625, logit=18.0, token_id=29422, metadata=None))}},\n",
       "   4: {'score': 18.0,\n",
       "    'pred': [PredictedToken(token=' Urban', prob=0.5703125, logit=18.0, token_id=29422, metadata=None),\n",
       "     PredictedToken(token=' University', prob=0.126953125, logit=16.5, token_id=3907, metadata=None),\n",
       "     PredictedToken(token=' urban', prob=0.09912109375, logit=16.25, token_id=16036, metadata=None),\n",
       "     PredictedToken(token=' Harvard', prob=0.0439453125, logit=15.4375, token_id=25996, metadata=None),\n",
       "     PredictedToken(token=' Doctor', prob=0.0284423828125, logit=15.0, token_id=19150, metadata=None)],\n",
       "    'track': {29422: (1,\n",
       "      PredictedToken(token=' Urban', prob=0.5703125, logit=18.0, token_id=29422, metadata=None))}},\n",
       "   5: {'score': 18.0,\n",
       "    'pred': [PredictedToken(token=' Urban', prob=0.5625, logit=18.0, token_id=29422, metadata=None),\n",
       "     PredictedToken(token=' University', prob=0.125, logit=16.5, token_id=3907, metadata=None),\n",
       "     PredictedToken(token=' urban', prob=0.1103515625, logit=16.375, token_id=16036, metadata=None),\n",
       "     PredictedToken(token=' Harvard', prob=0.043212890625, logit=15.4375, token_id=25996, metadata=None),\n",
       "     PredictedToken(token=' Doctor', prob=0.0296630859375, logit=15.0625, token_id=19150, metadata=None)],\n",
       "    'track': {29422: (1,\n",
       "      PredictedToken(token=' Urban', prob=0.5625, logit=18.0, token_id=29422, metadata=None))}},\n",
       "   6: {'score': 18.0,\n",
       "    'pred': [PredictedToken(token=' Urban', prob=0.56640625, logit=18.0, token_id=29422, metadata=None),\n",
       "     PredictedToken(token=' University', prob=0.126953125, logit=16.5, token_id=3907, metadata=None),\n",
       "     PredictedToken(token=' urban', prob=0.0986328125, logit=16.25, token_id=16036, metadata=None),\n",
       "     PredictedToken(token=' Harvard', prob=0.046630859375, logit=15.5, token_id=25996, metadata=None),\n",
       "     PredictedToken(token=' Doctor', prob=0.0283203125, logit=15.0, token_id=19150, metadata=None)],\n",
       "    'track': {29422: (1,\n",
       "      PredictedToken(token=' Urban', prob=0.56640625, logit=18.0, token_id=29422, metadata=None))}},\n",
       "   7: {'score': 18.0,\n",
       "    'pred': [PredictedToken(token=' Urban', prob=0.55859375, logit=18.0, token_id=29422, metadata=None),\n",
       "     PredictedToken(token=' University', prob=0.125, logit=16.5, token_id=3907, metadata=None),\n",
       "     PredictedToken(token=' urban', prob=0.1103515625, logit=16.375, token_id=16036, metadata=None),\n",
       "     PredictedToken(token=' Harvard', prob=0.0458984375, logit=15.5, token_id=25996, metadata=None),\n",
       "     PredictedToken(token=' Doctor', prob=0.0296630859375, logit=15.0625, token_id=19150, metadata=None)],\n",
       "    'track': {29422: (1,\n",
       "      PredictedToken(token=' Urban', prob=0.55859375, logit=18.0, token_id=29422, metadata=None))}},\n",
       "   8: {'score': 18.0,\n",
       "    'pred': [PredictedToken(token=' Urban', prob=0.5625, logit=18.0, token_id=29422, metadata=None),\n",
       "     PredictedToken(token=' University', prob=0.1259765625, logit=16.5, token_id=3907, metadata=None),\n",
       "     PredictedToken(token=' urban', prob=0.11083984375, logit=16.375, token_id=16036, metadata=None),\n",
       "     PredictedToken(token=' Harvard', prob=0.04345703125, logit=15.4375, token_id=25996, metadata=None),\n",
       "     PredictedToken(token=' Doctor', prob=0.028076171875, logit=15.0, token_id=19150, metadata=None)],\n",
       "    'track': {29422: (1,\n",
       "      PredictedToken(token=' Urban', prob=0.5625, logit=18.0, token_id=29422, metadata=None))}},\n",
       "   9: {'score': 18.0,\n",
       "    'pred': [PredictedToken(token=' Urban', prob=0.5625, logit=18.0, token_id=29422, metadata=None),\n",
       "     PredictedToken(token=' University', prob=0.125, logit=16.5, token_id=3907, metadata=None),\n",
       "     PredictedToken(token=' urban', prob=0.1103515625, logit=16.375, token_id=16036, metadata=None),\n",
       "     PredictedToken(token=' Harvard', prob=0.043212890625, logit=15.4375, token_id=25996, metadata=None),\n",
       "     PredictedToken(token=' Doctor', prob=0.02978515625, logit=15.0625, token_id=19150, metadata=None)],\n",
       "    'track': {29422: (1,\n",
       "      PredictedToken(token=' Urban', prob=0.5625, logit=18.0, token_id=29422, metadata=None))}},\n",
       "   10: {'score': 18.0,\n",
       "    'pred': [PredictedToken(token=' Urban', prob=0.55859375, logit=18.0, token_id=29422, metadata=None),\n",
       "     PredictedToken(token=' University', prob=0.125, logit=16.5, token_id=3907, metadata=None),\n",
       "     PredictedToken(token=' urban', prob=0.1103515625, logit=16.375, token_id=16036, metadata=None),\n",
       "     PredictedToken(token=' Harvard', prob=0.0458984375, logit=15.5, token_id=25996, metadata=None),\n",
       "     PredictedToken(token=' Doctor', prob=0.0296630859375, logit=15.0625, token_id=19150, metadata=None)],\n",
       "    'track': {29422: (1,\n",
       "      PredictedToken(token=' Urban', prob=0.55859375, logit=18.0, token_id=29422, metadata=None))}},\n",
       "   11: {'score': 18.0,\n",
       "    'pred': [PredictedToken(token=' Urban', prob=0.56640625, logit=18.0, token_id=29422, metadata=None),\n",
       "     PredictedToken(token=' urban', prob=0.11181640625, logit=16.375, token_id=16036, metadata=None),\n",
       "     PredictedToken(token=' University', prob=0.11181640625, logit=16.375, token_id=3907, metadata=None),\n",
       "     PredictedToken(token=' Harvard', prob=0.046630859375, logit=15.5, token_id=25996, metadata=None),\n",
       "     PredictedToken(token=' Doctor', prob=0.0301513671875, logit=15.0625, token_id=19150, metadata=None)],\n",
       "    'track': {29422: (1,\n",
       "      PredictedToken(token=' Urban', prob=0.56640625, logit=18.0, token_id=29422, metadata=None))}},\n",
       "   12: {'score': 18.0,\n",
       "    'pred': [PredictedToken(token=' Urban', prob=0.5625, logit=18.0, token_id=29422, metadata=None),\n",
       "     PredictedToken(token=' University', prob=0.125, logit=16.5, token_id=3907, metadata=None),\n",
       "     PredictedToken(token=' urban', prob=0.1103515625, logit=16.375, token_id=16036, metadata=None),\n",
       "     PredictedToken(token=' Harvard', prob=0.043212890625, logit=15.4375, token_id=25996, metadata=None),\n",
       "     PredictedToken(token=' Doctor', prob=0.02978515625, logit=15.0625, token_id=19150, metadata=None)],\n",
       "    'track': {29422: (1,\n",
       "      PredictedToken(token=' Urban', prob=0.5625, logit=18.0, token_id=29422, metadata=None))}},\n",
       "   13: {'score': 18.0,\n",
       "    'pred': [PredictedToken(token=' Urban', prob=0.56640625, logit=18.0, token_id=29422, metadata=None),\n",
       "     PredictedToken(token=' University', prob=0.126953125, logit=16.5, token_id=3907, metadata=None),\n",
       "     PredictedToken(token=' urban', prob=0.0986328125, logit=16.25, token_id=16036, metadata=None),\n",
       "     PredictedToken(token=' Harvard', prob=0.0439453125, logit=15.4375, token_id=25996, metadata=None),\n",
       "     PredictedToken(token=' Doctor', prob=0.0301513671875, logit=15.0625, token_id=19150, metadata=None)],\n",
       "    'track': {29422: (1,\n",
       "      PredictedToken(token=' Urban', prob=0.56640625, logit=18.0, token_id=29422, metadata=None))}},\n",
       "   14: {'score': 18.0,\n",
       "    'pred': [PredictedToken(token=' Urban', prob=0.55859375, logit=18.0, token_id=29422, metadata=None),\n",
       "     PredictedToken(token=' University', prob=0.125, logit=16.5, token_id=3907, metadata=None),\n",
       "     PredictedToken(token=' urban', prob=0.1103515625, logit=16.375, token_id=16036, metadata=None),\n",
       "     PredictedToken(token=' Harvard', prob=0.0458984375, logit=15.5, token_id=25996, metadata=None),\n",
       "     PredictedToken(token=' Doctor', prob=0.0296630859375, logit=15.0625, token_id=19150, metadata=None)],\n",
       "    'track': {29422: (1,\n",
       "      PredictedToken(token=' Urban', prob=0.55859375, logit=18.0, token_id=29422, metadata=None))}},\n",
       "   15: {'score': 18.0,\n",
       "    'pred': [PredictedToken(token=' Urban', prob=0.55859375, logit=18.0, token_id=29422, metadata=None),\n",
       "     PredictedToken(token=' University', prob=0.125, logit=16.5, token_id=3907, metadata=None),\n",
       "     PredictedToken(token=' urban', prob=0.1103515625, logit=16.375, token_id=16036, metadata=None),\n",
       "     PredictedToken(token=' Harvard', prob=0.0458984375, logit=15.5, token_id=25996, metadata=None),\n",
       "     PredictedToken(token=' Doctor', prob=0.0296630859375, logit=15.0625, token_id=19150, metadata=None)],\n",
       "    'track': {29422: (1,\n",
       "      PredictedToken(token=' Urban', prob=0.55859375, logit=18.0, token_id=29422, metadata=None))}},\n",
       "   16: {'score': 18.0,\n",
       "    'pred': [PredictedToken(token=' Urban', prob=0.55859375, logit=18.0, token_id=29422, metadata=None),\n",
       "     PredictedToken(token=' University', prob=0.125, logit=16.5, token_id=3907, metadata=None),\n",
       "     PredictedToken(token=' urban', prob=0.1103515625, logit=16.375, token_id=16036, metadata=None),\n",
       "     PredictedToken(token=' Harvard', prob=0.0458984375, logit=15.5, token_id=25996, metadata=None),\n",
       "     PredictedToken(token=' Doctor', prob=0.0296630859375, logit=15.0625, token_id=19150, metadata=None)],\n",
       "    'track': {29422: (1,\n",
       "      PredictedToken(token=' Urban', prob=0.55859375, logit=18.0, token_id=29422, metadata=None))}},\n",
       "   17: {'score': 18.0,\n",
       "    'pred': [PredictedToken(token=' Urban', prob=0.55859375, logit=18.0, token_id=29422, metadata=None),\n",
       "     PredictedToken(token=' University', prob=0.125, logit=16.5, token_id=3907, metadata=None),\n",
       "     PredictedToken(token=' urban', prob=0.1103515625, logit=16.375, token_id=16036, metadata=None),\n",
       "     PredictedToken(token=' Harvard', prob=0.0458984375, logit=15.5, token_id=25996, metadata=None),\n",
       "     PredictedToken(token=' Doctor', prob=0.0296630859375, logit=15.0625, token_id=19150, metadata=None)],\n",
       "    'track': {29422: (1,\n",
       "      PredictedToken(token=' Urban', prob=0.55859375, logit=18.0, token_id=29422, metadata=None))}},\n",
       "   18: {'score': 18.0,\n",
       "    'pred': [PredictedToken(token=' Urban', prob=0.55859375, logit=18.0, token_id=29422, metadata=None),\n",
       "     PredictedToken(token=' University', prob=0.12451171875, logit=16.5, token_id=3907, metadata=None),\n",
       "     PredictedToken(token=' urban', prob=0.10986328125, logit=16.375, token_id=16036, metadata=None),\n",
       "     PredictedToken(token=' Harvard', prob=0.0458984375, logit=15.5, token_id=25996, metadata=None),\n",
       "     PredictedToken(token=' Doctor', prob=0.0296630859375, logit=15.0625, token_id=19150, metadata=None)],\n",
       "    'track': {29422: (1,\n",
       "      PredictedToken(token=' Urban', prob=0.55859375, logit=18.0, token_id=29422, metadata=None))}},\n",
       "   19: {'score': 18.0,\n",
       "    'pred': [PredictedToken(token=' Urban', prob=0.55859375, logit=18.0, token_id=29422, metadata=None),\n",
       "     PredictedToken(token=' University', prob=0.12451171875, logit=16.5, token_id=3907, metadata=None),\n",
       "     PredictedToken(token=' urban', prob=0.10986328125, logit=16.375, token_id=16036, metadata=None),\n",
       "     PredictedToken(token=' Harvard', prob=0.0458984375, logit=15.5, token_id=25996, metadata=None),\n",
       "     PredictedToken(token=' Doctor', prob=0.0296630859375, logit=15.0625, token_id=19150, metadata=None)],\n",
       "    'track': {29422: (1,\n",
       "      PredictedToken(token=' Urban', prob=0.55859375, logit=18.0, token_id=29422, metadata=None))}},\n",
       "   20: {'score': 18.0,\n",
       "    'pred': [PredictedToken(token=' Urban', prob=0.55859375, logit=18.0, token_id=29422, metadata=None),\n",
       "     PredictedToken(token=' University', prob=0.125, logit=16.5, token_id=3907, metadata=None),\n",
       "     PredictedToken(token=' urban', prob=0.10986328125, logit=16.375, token_id=16036, metadata=None),\n",
       "     PredictedToken(token=' Harvard', prob=0.0458984375, logit=15.5, token_id=25996, metadata=None),\n",
       "     PredictedToken(token=' Doctor', prob=0.0296630859375, logit=15.0625, token_id=19150, metadata=None)],\n",
       "    'track': {29422: (1,\n",
       "      PredictedToken(token=' Urban', prob=0.55859375, logit=18.0, token_id=29422, metadata=None))}},\n",
       "   21: {'score': 18.0,\n",
       "    'pred': [PredictedToken(token=' Urban', prob=0.55859375, logit=18.0, token_id=29422, metadata=None),\n",
       "     PredictedToken(token=' University', prob=0.125, logit=16.5, token_id=3907, metadata=None),\n",
       "     PredictedToken(token=' urban', prob=0.1103515625, logit=16.375, token_id=16036, metadata=None),\n",
       "     PredictedToken(token=' Harvard', prob=0.0458984375, logit=15.5, token_id=25996, metadata=None),\n",
       "     PredictedToken(token=' Doctor', prob=0.0296630859375, logit=15.0625, token_id=19150, metadata=None)],\n",
       "    'track': {29422: (1,\n",
       "      PredictedToken(token=' Urban', prob=0.55859375, logit=18.0, token_id=29422, metadata=None))}},\n",
       "   22: {'score': 18.125,\n",
       "    'pred': [PredictedToken(token=' Urban', prob=0.58984375, logit=18.125, token_id=29422, metadata=None),\n",
       "     PredictedToken(token=' University', prob=0.1162109375, logit=16.5, token_id=3907, metadata=None),\n",
       "     PredictedToken(token=' urban', prob=0.1025390625, logit=16.375, token_id=16036, metadata=None),\n",
       "     PredictedToken(token=' Harvard', prob=0.040283203125, logit=15.4375, token_id=25996, metadata=None),\n",
       "     PredictedToken(token=' Doctor', prob=0.027587890625, logit=15.0625, token_id=19150, metadata=None)],\n",
       "    'track': {29422: (1,\n",
       "      PredictedToken(token=' Urban', prob=0.58984375, logit=18.125, token_id=29422, metadata=None))}},\n",
       "   23: {'score': 18.0,\n",
       "    'pred': [PredictedToken(token=' Urban', prob=0.5625, logit=18.0, token_id=29422, metadata=None),\n",
       "     PredictedToken(token=' University', prob=0.125, logit=16.5, token_id=3907, metadata=None),\n",
       "     PredictedToken(token=' urban', prob=0.11083984375, logit=16.375, token_id=16036, metadata=None),\n",
       "     PredictedToken(token=' Harvard', prob=0.04345703125, logit=15.4375, token_id=25996, metadata=None),\n",
       "     PredictedToken(token=' Doctor', prob=0.0279541015625, logit=15.0, token_id=19150, metadata=None)],\n",
       "    'track': {29422: (1,\n",
       "      PredictedToken(token=' Urban', prob=0.5625, logit=18.0, token_id=29422, metadata=None))}},\n",
       "   24: {'score': 17.875,\n",
       "    'pred': [PredictedToken(token=' Urban', prob=0.55078125, logit=17.875, token_id=29422, metadata=None),\n",
       "     PredictedToken(token=' University', prob=0.138671875, logit=16.5, token_id=3907, metadata=None),\n",
       "     PredictedToken(token=' urban', prob=0.095703125, logit=16.125, token_id=16036, metadata=None),\n",
       "     PredictedToken(token=' Harvard', prob=0.048095703125, logit=15.4375, token_id=25996, metadata=None),\n",
       "     PredictedToken(token=' Doctor', prob=0.031005859375, logit=15.0, token_id=19150, metadata=None)],\n",
       "    'track': {29422: (1,\n",
       "      PredictedToken(token=' Urban', prob=0.55078125, logit=17.875, token_id=29422, metadata=None))}},\n",
       "   25: {'score': 17.875,\n",
       "    'pred': [PredictedToken(token=' Urban', prob=0.53515625, logit=17.875, token_id=29422, metadata=None),\n",
       "     PredictedToken(token=' University', prob=0.1533203125, logit=16.625, token_id=3907, metadata=None),\n",
       "     PredictedToken(token=' urban', prob=0.0927734375, logit=16.125, token_id=16036, metadata=None),\n",
       "     PredictedToken(token=' Harvard', prob=0.0498046875, logit=15.5, token_id=25996, metadata=None),\n",
       "     PredictedToken(token=' Doctor', prob=0.0322265625, logit=15.0625, token_id=19150, metadata=None)],\n",
       "    'track': {29422: (1,\n",
       "      PredictedToken(token=' Urban', prob=0.53515625, logit=17.875, token_id=29422, metadata=None))}},\n",
       "   26: {'score': 17.75,\n",
       "    'pred': [PredictedToken(token=' Urban', prob=0.5234375, logit=17.75, token_id=29422, metadata=None),\n",
       "     PredictedToken(token=' University', prob=0.150390625, logit=16.5, token_id=3907, metadata=None),\n",
       "     PredictedToken(token=' urban', prob=0.09130859375, logit=16.0, token_id=16036, metadata=None),\n",
       "     PredictedToken(token=' Harvard', prob=0.052001953125, logit=15.4375, token_id=25996, metadata=None),\n",
       "     PredictedToken(token=' Doctor', prob=0.033447265625, logit=15.0, token_id=19150, metadata=None)],\n",
       "    'track': {29422: (1,\n",
       "      PredictedToken(token=' Urban', prob=0.5234375, logit=17.75, token_id=29422, metadata=None))}},\n",
       "   27: {'score': 17.75,\n",
       "    'pred': [PredictedToken(token=' Urban', prob=0.51171875, logit=17.75, token_id=29422, metadata=None),\n",
       "     PredictedToken(token=' University', prob=0.1669921875, logit=16.625, token_id=3907, metadata=None),\n",
       "     PredictedToken(token=' urban', prob=0.08935546875, logit=16.0, token_id=16036, metadata=None),\n",
       "     PredictedToken(token=' Harvard', prob=0.05078125, logit=15.4375, token_id=25996, metadata=None),\n",
       "     PredictedToken(token=' Doctor', prob=0.03271484375, logit=15.0, token_id=19150, metadata=None)],\n",
       "    'track': {29422: (1,\n",
       "      PredictedToken(token=' Urban', prob=0.51171875, logit=17.75, token_id=29422, metadata=None))}},\n",
       "   28: {'score': 17.375,\n",
       "    'pred': [PredictedToken(token=' Urban', prob=0.435546875, logit=17.375, token_id=29422, metadata=None),\n",
       "     PredictedToken(token=' University', prob=0.205078125, logit=16.625, token_id=3907, metadata=None),\n",
       "     PredictedToken(token=' urban', prob=0.08544921875, logit=15.75, token_id=16036, metadata=None),\n",
       "     PredictedToken(token=' Harvard', prob=0.052001953125, logit=15.25, token_id=25996, metadata=None),\n",
       "     PredictedToken(token=' Doctor', prob=0.04296875, logit=15.0625, token_id=19150, metadata=None)],\n",
       "    'track': {29422: (1,\n",
       "      PredictedToken(token=' Urban', prob=0.435546875, logit=17.375, token_id=29422, metadata=None))}},\n",
       "   29: {'score': 17.375,\n",
       "    'pred': [PredictedToken(token=' Urban', prob=0.435546875, logit=17.375, token_id=29422, metadata=None),\n",
       "     PredictedToken(token=' University', prob=0.205078125, logit=16.625, token_id=3907, metadata=None),\n",
       "     PredictedToken(token=' urban', prob=0.08056640625, logit=15.6875, token_id=16036, metadata=None),\n",
       "     PredictedToken(token=' Harvard', prob=0.05517578125, logit=15.3125, token_id=25996, metadata=None),\n",
       "     PredictedToken(token=' Doctor', prob=0.0458984375, logit=15.125, token_id=19150, metadata=None)],\n",
       "    'track': {29422: (1,\n",
       "      PredictedToken(token=' Urban', prob=0.435546875, logit=17.375, token_id=29422, metadata=None))}},\n",
       "   30: {'score': 17.25,\n",
       "    'pred': [PredictedToken(token=' Urban', prob=0.39453125, logit=17.25, token_id=29422, metadata=None),\n",
       "     PredictedToken(token=' University', prob=0.23828125, logit=16.75, token_id=3907, metadata=None),\n",
       "     PredictedToken(token=' urban', prob=0.07275390625, logit=15.5625, token_id=16036, metadata=None),\n",
       "     PredictedToken(token=' Harvard', prob=0.056640625, logit=15.3125, token_id=25996, metadata=None),\n",
       "     PredictedToken(token=' Doctor', prob=0.047119140625, logit=15.125, token_id=19150, metadata=None)],\n",
       "    'track': {29422: (1,\n",
       "      PredictedToken(token=' Urban', prob=0.39453125, logit=17.25, token_id=29422, metadata=None))}},\n",
       "   31: {'score': 17.125,\n",
       "    'pred': [PredictedToken(token=' Urban', prob=0.35546875, logit=17.125, token_id=29422, metadata=None),\n",
       "     PredictedToken(token=' University', prob=0.27734375, logit=16.875, token_id=3907, metadata=None),\n",
       "     PredictedToken(token=' urban', prob=0.07470703125, logit=15.5625, token_id=16036, metadata=None),\n",
       "     PredictedToken(token=' Harvard', prob=0.04833984375, logit=15.125, token_id=25996, metadata=None),\n",
       "     PredictedToken(token=' Doctor', prob=0.04833984375, logit=15.125, token_id=19150, metadata=None)],\n",
       "    'track': {29422: (1,\n",
       "      PredictedToken(token=' Urban', prob=0.35546875, logit=17.125, token_id=29422, metadata=None))}},\n",
       "   32: {'score': 16.75,\n",
       "    'pred': [PredictedToken(token=' University', prob=0.34765625, logit=17.0, token_id=3907, metadata=None),\n",
       "     PredictedToken(token=' Urban', prob=0.26953125, logit=16.75, token_id=29422, metadata=None),\n",
       "     PredictedToken(token=' urban', prob=0.056640625, logit=15.1875, token_id=16036, metadata=None),\n",
       "     PredictedToken(token=' Harvard', prob=0.05322265625, logit=15.125, token_id=25996, metadata=None),\n",
       "     PredictedToken(token=' Doctor', prob=0.05322265625, logit=15.125, token_id=19150, metadata=None)],\n",
       "    'track': {29422: (2,\n",
       "      PredictedToken(token=' Urban', prob=0.26953125, logit=16.75, token_id=29422, metadata=None))}},\n",
       "   33: {'score': 16.625,\n",
       "    'pred': [PredictedToken(token=' University', prob=0.369140625, logit=17.0, token_id=3907, metadata=None),\n",
       "     PredictedToken(token=' Urban', prob=0.25390625, logit=16.625, token_id=29422, metadata=None),\n",
       "     PredictedToken(token=' Doctor', prob=0.056396484375, logit=15.125, token_id=19150, metadata=None),\n",
       "     PredictedToken(token=' urban', prob=0.056396484375, logit=15.125, token_id=16036, metadata=None),\n",
       "     PredictedToken(token=' Harvard', prob=0.052978515625, logit=15.0625, token_id=25996, metadata=None)],\n",
       "    'track': {29422: (2,\n",
       "      PredictedToken(token=' Urban', prob=0.25390625, logit=16.625, token_id=29422, metadata=None))}},\n",
       "   34: {'score': 16.625,\n",
       "    'pred': [PredictedToken(token=' University', prob=0.376953125, logit=17.0, token_id=3907, metadata=None),\n",
       "     PredictedToken(token=' Urban', prob=0.259765625, logit=16.625, token_id=29422, metadata=None),\n",
       "     PredictedToken(token=' Doctor', prob=0.054443359375, logit=15.0625, token_id=19150, metadata=None),\n",
       "     PredictedToken(token=' Harvard', prob=0.051025390625, logit=15.0, token_id=25996, metadata=None),\n",
       "     PredictedToken(token=' urban', prob=0.048095703125, logit=14.9375, token_id=16036, metadata=None)],\n",
       "    'track': {29422: (2,\n",
       "      PredictedToken(token=' Urban', prob=0.259765625, logit=16.625, token_id=29422, metadata=None))}},\n",
       "   35: {'score': 16.125,\n",
       "    'pred': [PredictedToken(token=' University', prob=0.431640625, logit=17.0, token_id=3907, metadata=None),\n",
       "     PredictedToken(token=' Urban', prob=0.1806640625, logit=16.125, token_id=29422, metadata=None),\n",
       "     PredictedToken(token=' Harvard', prob=0.054931640625, logit=14.9375, token_id=25996, metadata=None),\n",
       "     PredictedToken(token=' Doctor', prob=0.054931640625, logit=14.9375, token_id=19150, metadata=None),\n",
       "     PredictedToken(token=' Boston', prob=0.037841796875, logit=14.5625, token_id=10406, metadata=None)],\n",
       "    'track': {29422: (2,\n",
       "      PredictedToken(token=' Urban', prob=0.1806640625, logit=16.125, token_id=29422, metadata=None))}},\n",
       "   36: {'score': 15.3125,\n",
       "    'pred': [PredictedToken(token=' University', prob=0.388671875, logit=16.625, token_id=3907, metadata=None),\n",
       "     PredictedToken(token=' Urban', prob=0.1044921875, logit=15.3125, token_id=29422, metadata=None),\n",
       "     PredictedToken(token=' Ken', prob=0.07177734375, logit=14.9375, token_id=14594, metadata=None),\n",
       "     PredictedToken(token=' Doctor', prob=0.0634765625, logit=14.8125, token_id=19150, metadata=None),\n",
       "     PredictedToken(token=' Harvard', prob=0.0595703125, logit=14.75, token_id=25996, metadata=None)],\n",
       "    'track': {29422: (2,\n",
       "      PredictedToken(token=' Urban', prob=0.1044921875, logit=15.3125, token_id=29422, metadata=None))}},\n",
       "   37: {'score': 14.5,\n",
       "    'pred': [PredictedToken(token=' University', prob=0.419921875, logit=16.875, token_id=3907, metadata=None),\n",
       "     PredictedToken(token=' Ken', prob=0.1455078125, logit=15.8125, token_id=14594, metadata=None),\n",
       "     PredictedToken(token=' Doctor', prob=0.06884765625, logit=15.0625, token_id=19150, metadata=None),\n",
       "     PredictedToken(token=' Boston', prob=0.064453125, logit=15.0, token_id=10406, metadata=None),\n",
       "     PredictedToken(token=' Kenya', prob=0.04443359375, logit=14.625, token_id=37766, metadata=None)],\n",
       "    'track': {29422: (7,\n",
       "      PredictedToken(token=' Urban', prob=0.0390625, logit=14.5, token_id=29422, metadata=None))}},\n",
       "   38: {'score': 12.5,\n",
       "    'pred': [PredictedToken(token=' Ken', prob=0.390625, logit=17.875, token_id=14594, metadata=None),\n",
       "     PredictedToken(token=' University', prob=0.267578125, logit=17.5, token_id=3907, metadata=None),\n",
       "     PredictedToken(token=' Doctor', prob=0.208984375, logit=17.25, token_id=19150, metadata=None),\n",
       "     PredictedToken(token=' Kenya', prob=0.03857421875, logit=15.5625, token_id=37766, metadata=None),\n",
       "     PredictedToken(token=' Nairobi', prob=0.0264892578125, logit=15.1875, token_id=97625, metadata=None)],\n",
       "    'track': {29422: (13,\n",
       "      PredictedToken(token=' Urban', prob=0.00180816650390625, logit=12.5, token_id=29422, metadata=None))}},\n",
       "   39: {'score': 12.125,\n",
       "    'pred': [PredictedToken(token=' Ken', prob=0.466796875, logit=18.375, token_id=14594, metadata=None),\n",
       "     PredictedToken(token=' University', prob=0.25, logit=17.75, token_id=3907, metadata=None),\n",
       "     PredictedToken(token=' Doctor', prob=0.171875, logit=17.375, token_id=19150, metadata=None),\n",
       "     PredictedToken(token=' Kenya', prob=0.03173828125, logit=15.6875, token_id=37766, metadata=None),\n",
       "     PredictedToken(token=' Nairobi', prob=0.0233154296875, logit=15.375, token_id=97625, metadata=None)],\n",
       "    'track': {29422: (15,\n",
       "      PredictedToken(token=' Urban', prob=0.000904083251953125, logit=12.125, token_id=29422, metadata=None))}},\n",
       "   40: {'score': 11.875,\n",
       "    'pred': [PredictedToken(token=' Ken', prob=0.546875, logit=19.0, token_id=14594, metadata=None),\n",
       "     PredictedToken(token=' Doctor', prob=0.177734375, logit=17.875, token_id=19150, metadata=None),\n",
       "     PredictedToken(token=' University', prob=0.177734375, logit=17.875, token_id=3907, metadata=None),\n",
       "     PredictedToken(token=' Kenya', prob=0.03955078125, logit=16.375, token_id=37766, metadata=None),\n",
       "     PredictedToken(token=' Nairobi', prob=0.0186767578125, logit=15.625, token_id=97625, metadata=None)],\n",
       "    'track': {29422: (18,\n",
       "      PredictedToken(token=' Urban', prob=0.000438690185546875, logit=11.875, token_id=29422, metadata=None))}},\n",
       "   41: {'score': 11.8125,\n",
       "    'pred': [PredictedToken(token=' Ken', prob=0.55078125, logit=19.125, token_id=14594, metadata=None),\n",
       "     PredictedToken(token=' Doctor', prob=0.1796875, logit=18.0, token_id=19150, metadata=None),\n",
       "     PredictedToken(token=' University', prob=0.1796875, logit=18.0, token_id=3907, metadata=None),\n",
       "     PredictedToken(token=' Kenya', prob=0.035400390625, logit=16.375, token_id=37766, metadata=None),\n",
       "     PredictedToken(token=' Nairobi', prob=0.0167236328125, logit=15.625, token_id=97625, metadata=None)],\n",
       "    'track': {29422: (18,\n",
       "      PredictedToken(token=' Urban', prob=0.0003681182861328125, logit=11.8125, token_id=29422, metadata=None))}},\n",
       "   42: {'score': 11.5,\n",
       "    'pred': [PredictedToken(token=' Ken', prob=0.703125, logit=20.0, token_id=14594, metadata=None),\n",
       "     PredictedToken(token=' Doctor', prob=0.138671875, logit=18.375, token_id=19150, metadata=None),\n",
       "     PredictedToken(token=' University', prob=0.083984375, logit=17.875, token_id=3907, metadata=None),\n",
       "     PredictedToken(token=' Kenya', prob=0.03955078125, logit=17.125, token_id=37766, metadata=None),\n",
       "     PredictedToken(token=' Nairobi', prob=0.01068115234375, logit=15.8125, token_id=97625, metadata=None)],\n",
       "    'track': {29422: (27,\n",
       "      PredictedToken(token=' Urban', prob=0.0001430511474609375, logit=11.5, token_id=29422, metadata=None))}},\n",
       "   43: {'score': 11.25,\n",
       "    'pred': [PredictedToken(token=' Ken', prob=0.71875, logit=20.125, token_id=14594, metadata=None),\n",
       "     PredictedToken(token=' Doctor', prob=0.125, logit=18.375, token_id=19150, metadata=None),\n",
       "     PredictedToken(token=' University', prob=0.0859375, logit=18.0, token_id=3907, metadata=None),\n",
       "     PredictedToken(token=' Kenya', prob=0.035888671875, logit=17.125, token_id=37766, metadata=None),\n",
       "     PredictedToken(token=' Nairobi', prob=0.01092529296875, logit=15.9375, token_id=97625, metadata=None)],\n",
       "    'track': {29422: (32,\n",
       "      PredictedToken(token=' Urban', prob=0.00010061264038085938, logit=11.25, token_id=29422, metadata=None))}},\n",
       "   44: {'score': 11.3125,\n",
       "    'pred': [PredictedToken(token=' Ken', prob=0.70703125, logit=20.0, token_id=14594, metadata=None),\n",
       "     PredictedToken(token=' Doctor', prob=0.123046875, logit=18.25, token_id=19150, metadata=None),\n",
       "     PredictedToken(token=' University', prob=0.095703125, logit=18.0, token_id=3907, metadata=None),\n",
       "     PredictedToken(token=' Kenya', prob=0.035400390625, logit=17.0, token_id=37766, metadata=None),\n",
       "     PredictedToken(token=' Nairobi', prob=0.011474609375, logit=15.875, token_id=97625, metadata=None)],\n",
       "    'track': {29422: (30,\n",
       "      PredictedToken(token=' Urban', prob=0.00011968612670898438, logit=11.3125, token_id=29422, metadata=None))}},\n",
       "   45: {'score': 11.375,\n",
       "    'pred': [PredictedToken(token=' Ken', prob=0.74609375, logit=20.25, token_id=14594, metadata=None),\n",
       "     PredictedToken(token=' Doctor', prob=0.11474609375, logit=18.375, token_id=19150, metadata=None),\n",
       "     PredictedToken(token=' University', prob=0.07861328125, logit=18.0, token_id=3907, metadata=None),\n",
       "     PredictedToken(token=' Kenya', prob=0.0289306640625, logit=17.0, token_id=37766, metadata=None),\n",
       "     PredictedToken(token=' Nairobi', prob=0.0093994140625, logit=15.875, token_id=97625, metadata=None)],\n",
       "    'track': {29422: (30,\n",
       "      PredictedToken(token=' Urban', prob=0.00010442733764648438, logit=11.375, token_id=29422, metadata=None))}},\n",
       "   46: {'score': 11.0,\n",
       "    'pred': [PredictedToken(token=' Ken', prob=0.72265625, logit=20.125, token_id=14594, metadata=None),\n",
       "     PredictedToken(token=' Doctor', prob=0.1416015625, logit=18.5, token_id=19150, metadata=None),\n",
       "     PredictedToken(token=' University', prob=0.076171875, logit=17.875, token_id=3907, metadata=None),\n",
       "     PredictedToken(token=' Kenya', prob=0.0279541015625, logit=16.875, token_id=37766, metadata=None),\n",
       "     PredictedToken(token=' Nairobi', prob=0.01031494140625, logit=15.875, token_id=97625, metadata=None)],\n",
       "    'track': {29422: (36,\n",
       "      PredictedToken(token=' Urban', prob=7.867813110351562e-05, logit=11.0, token_id=29422, metadata=None))}},\n",
       "   47: {'score': 10.9375,\n",
       "    'pred': [PredictedToken(token=' Ken', prob=0.7109375, logit=20.125, token_id=14594, metadata=None),\n",
       "     PredictedToken(token=' Doctor', prob=0.158203125, logit=18.625, token_id=19150, metadata=None),\n",
       "     PredictedToken(token=' University', prob=0.06591796875, logit=17.75, token_id=3907, metadata=None),\n",
       "     PredictedToken(token=' Kenya', prob=0.03125, logit=17.0, token_id=37766, metadata=None),\n",
       "     PredictedToken(token=' Nairobi', prob=0.009521484375, logit=15.8125, token_id=97625, metadata=None)],\n",
       "    'track': {29422: (36,\n",
       "      PredictedToken(token=' Urban', prob=7.2479248046875e-05, logit=10.9375, token_id=29422, metadata=None))}},\n",
       "   48: {'score': 11.0,\n",
       "    'pred': [PredictedToken(token=' Ken', prob=0.703125, logit=20.125, token_id=14594, metadata=None),\n",
       "     PredictedToken(token=' Doctor', prob=0.1572265625, logit=18.625, token_id=19150, metadata=None),\n",
       "     PredictedToken(token=' University', prob=0.07421875, logit=17.875, token_id=3907, metadata=None),\n",
       "     PredictedToken(token=' Kenya', prob=0.0308837890625, logit=17.0, token_id=37766, metadata=None),\n",
       "     PredictedToken(token=' Nairobi', prob=0.01007080078125, logit=15.875, token_id=97625, metadata=None)],\n",
       "    'track': {29422: (36,\n",
       "      PredictedToken(token=' Urban', prob=7.677078247070312e-05, logit=11.0, token_id=29422, metadata=None))}},\n",
       "   49: {'score': 11.0,\n",
       "    'pred': [PredictedToken(token=' Ken', prob=0.71484375, logit=20.125, token_id=14594, metadata=None),\n",
       "     PredictedToken(token=' Doctor', prob=0.1591796875, logit=18.625, token_id=19150, metadata=None),\n",
       "     PredictedToken(token=' University', prob=0.06640625, logit=17.75, token_id=3907, metadata=None),\n",
       "     PredictedToken(token=' Kenya', prob=0.0277099609375, logit=16.875, token_id=37766, metadata=None),\n",
       "     PredictedToken(token=' Nairobi', prob=0.00958251953125, logit=15.8125, token_id=97625, metadata=None)],\n",
       "    'track': {29422: (35,\n",
       "      PredictedToken(token=' Urban', prob=7.772445678710938e-05, logit=11.0, token_id=29422, metadata=None))}},\n",
       "   50: {'score': 10.875,\n",
       "    'pred': [PredictedToken(token=' Ken', prob=0.70703125, logit=20.125, token_id=14594, metadata=None),\n",
       "     PredictedToken(token=' Doctor', prob=0.158203125, logit=18.625, token_id=19150, metadata=None),\n",
       "     PredictedToken(token=' University', prob=0.07470703125, logit=17.875, token_id=3907, metadata=None),\n",
       "     PredictedToken(token=' Kenya', prob=0.0274658203125, logit=16.875, token_id=37766, metadata=None),\n",
       "     PredictedToken(token=' Nairobi', prob=0.01007080078125, logit=15.875, token_id=97625, metadata=None)],\n",
       "    'track': {29422: (36,\n",
       "      PredictedToken(token=' Urban', prob=6.818771362304688e-05, logit=10.875, token_id=29422, metadata=None))}},\n",
       "   51: {'score': 10.75,\n",
       "    'pred': [PredictedToken(token=' Ken', prob=0.734375, logit=20.25, token_id=14594, metadata=None),\n",
       "     PredictedToken(token=' Doctor', prob=0.14453125, logit=18.625, token_id=19150, metadata=None),\n",
       "     PredictedToken(token=' University', prob=0.068359375, logit=17.875, token_id=3907, metadata=None),\n",
       "     PredictedToken(token=' Kenya', prob=0.022216796875, logit=16.75, token_id=37766, metadata=None),\n",
       "     PredictedToken(token=' Nairobi', prob=0.0086669921875, logit=15.8125, token_id=97625, metadata=None)],\n",
       "    'track': {29422: (37,\n",
       "      PredictedToken(token=' Urban', prob=5.507469177246094e-05, logit=10.75, token_id=29422, metadata=None))}},\n",
       "   52: {'score': 10.625,\n",
       "    'pred': [PredictedToken(token=' Ken', prob=0.7109375, logit=20.125, token_id=14594, metadata=None),\n",
       "     PredictedToken(token=' Doctor', prob=0.158203125, logit=18.625, token_id=19150, metadata=None),\n",
       "     PredictedToken(token=' University', prob=0.07470703125, logit=17.875, token_id=3907, metadata=None),\n",
       "     PredictedToken(token=' Kenya', prob=0.0242919921875, logit=16.75, token_id=37766, metadata=None),\n",
       "     PredictedToken(token=' Nairobi', prob=0.0101318359375, logit=15.875, token_id=97625, metadata=None)],\n",
       "    'track': {29422: (43,\n",
       "      PredictedToken(token=' Urban', prob=5.316734313964844e-05, logit=10.625, token_id=29422, metadata=None))}},\n",
       "   53: {'score': 10.75,\n",
       "    'pred': [PredictedToken(token=' Ken', prob=0.734375, logit=20.25, token_id=14594, metadata=None),\n",
       "     PredictedToken(token=' Doctor', prob=0.14453125, logit=18.625, token_id=19150, metadata=None),\n",
       "     PredictedToken(token=' University', prob=0.068359375, logit=17.875, token_id=3907, metadata=None),\n",
       "     PredictedToken(token=' Kenya', prob=0.0250244140625, logit=16.875, token_id=37766, metadata=None),\n",
       "     PredictedToken(token=' Nairobi', prob=0.00982666015625, logit=15.9375, token_id=97625, metadata=None)],\n",
       "    'track': {29422: (39,\n",
       "      PredictedToken(token=' Urban', prob=5.4836273193359375e-05, logit=10.75, token_id=29422, metadata=None))}},\n",
       "   54: {'score': 10.8125,\n",
       "    'pred': [PredictedToken(token=' Ken', prob=0.75, logit=20.375, token_id=14594, metadata=None),\n",
       "     PredictedToken(token=' Doctor', prob=0.1298828125, logit=18.625, token_id=19150, metadata=None),\n",
       "     PredictedToken(token=' University', prob=0.06982421875, logit=18.0, token_id=3907, metadata=None),\n",
       "     PredictedToken(token=' Kenya', prob=0.0225830078125, logit=16.875, token_id=37766, metadata=None),\n",
       "     PredictedToken(token=' Nairobi', prob=0.00830078125, logit=15.875, token_id=97625, metadata=None)],\n",
       "    'track': {29422: (38,\n",
       "      PredictedToken(token=' Urban', prob=5.269050598144531e-05, logit=10.8125, token_id=29422, metadata=None))}},\n",
       "   55: {'score': 10.6875,\n",
       "    'pred': [PredictedToken(token=' Ken', prob=0.7421875, logit=20.375, token_id=14594, metadata=None),\n",
       "     PredictedToken(token=' Doctor', prob=0.146484375, logit=18.75, token_id=19150, metadata=None),\n",
       "     PredictedToken(token=' University', prob=0.06103515625, logit=17.875, token_id=3907, metadata=None),\n",
       "     PredictedToken(token=' Kenya', prob=0.0224609375, logit=16.875, token_id=37766, metadata=None),\n",
       "     PredictedToken(token=' Nairobi', prob=0.00823974609375, logit=15.875, token_id=97625, metadata=None)],\n",
       "    'track': {29422: (42,\n",
       "      PredictedToken(token=' Urban', prob=4.601478576660156e-05, logit=10.6875, token_id=29422, metadata=None))}},\n",
       "   56: {'score': 10.5625,\n",
       "    'pred': [PredictedToken(token=' Ken', prob=0.7578125, logit=20.375, token_id=14594, metadata=None),\n",
       "     PredictedToken(token=' Doctor', prob=0.1318359375, logit=18.625, token_id=19150, metadata=None),\n",
       "     PredictedToken(token=' University', prob=0.06201171875, logit=17.875, token_id=3907, metadata=None),\n",
       "     PredictedToken(token=' Kenya', prob=0.0228271484375, logit=16.875, token_id=37766, metadata=None),\n",
       "     PredictedToken(token=' Nairobi', prob=0.007415771484375, logit=15.75, token_id=97625, metadata=None)],\n",
       "    'track': {29422: (49,\n",
       "      PredictedToken(token=' Urban', prob=4.1484832763671875e-05, logit=10.5625, token_id=29422, metadata=None))}},\n",
       "   57: {'score': 10.5625,\n",
       "    'pred': [PredictedToken(token=' Ken', prob=0.73046875, logit=20.375, token_id=14594, metadata=None),\n",
       "     PredictedToken(token=' Doctor', prob=0.1630859375, logit=18.875, token_id=19150, metadata=None),\n",
       "     PredictedToken(token=' University', prob=0.06005859375, logit=17.875, token_id=3907, metadata=None),\n",
       "     PredictedToken(token=' Kenya', prob=0.0194091796875, logit=16.75, token_id=37766, metadata=None),\n",
       "     PredictedToken(token=' Nairobi', prob=0.007171630859375, logit=15.75, token_id=97625, metadata=None)],\n",
       "    'track': {29422: (47,\n",
       "      PredictedToken(token=' Urban', prob=4.00543212890625e-05, logit=10.5625, token_id=29422, metadata=None))}},\n",
       "   58: {'score': 10.3125,\n",
       "    'pred': [PredictedToken(token=' Ken', prob=0.734375, logit=20.5, token_id=14594, metadata=None),\n",
       "     PredictedToken(token=' Doctor', prob=0.1640625, logit=19.0, token_id=19150, metadata=None),\n",
       "     PredictedToken(token=' University', prob=0.06005859375, logit=18.0, token_id=3907, metadata=None),\n",
       "     PredictedToken(token=' Kenya', prob=0.0172119140625, logit=16.75, token_id=37766, metadata=None),\n",
       "     PredictedToken(token=' Nairobi', prob=0.006744384765625, logit=15.8125, token_id=97625, metadata=None)],\n",
       "    'track': {29422: (57,\n",
       "      PredictedToken(token=' Urban', prob=2.753734588623047e-05, logit=10.3125, token_id=29422, metadata=None))}},\n",
       "   59: {'score': 10.1875,\n",
       "    'pred': [PredictedToken(token=' Ken', prob=0.73828125, logit=20.5, token_id=14594, metadata=None),\n",
       "     PredictedToken(token=' Doctor', prob=0.1650390625, logit=19.0, token_id=19150, metadata=None),\n",
       "     PredictedToken(token=' University', prob=0.0537109375, logit=17.875, token_id=3907, metadata=None),\n",
       "     PredictedToken(token=' Kenya', prob=0.015380859375, logit=16.625, token_id=37766, metadata=None),\n",
       "     PredictedToken(token=' Nairobi', prob=0.00640869140625, logit=15.75, token_id=97625, metadata=None)],\n",
       "    'track': {29422: (66,\n",
       "      PredictedToken(token=' Urban', prob=2.4557113647460938e-05, logit=10.1875, token_id=29422, metadata=None))}},\n",
       "   60: {'score': 10.125,\n",
       "    'pred': [PredictedToken(token=' Ken', prob=0.734375, logit=20.5, token_id=14594, metadata=None),\n",
       "     PredictedToken(token=' Doctor', prob=0.1640625, logit=19.0, token_id=19150, metadata=None),\n",
       "     PredictedToken(token=' University', prob=0.060302734375, logit=18.0, token_id=3907, metadata=None),\n",
       "     PredictedToken(token=' Kenya', prob=0.0152587890625, logit=16.625, token_id=37766, metadata=None),\n",
       "     PredictedToken(token=' Nairobi', prob=0.00677490234375, logit=15.8125, token_id=97625, metadata=None)],\n",
       "    'track': {29422: (68,\n",
       "      PredictedToken(token=' Urban', prob=2.288818359375e-05, logit=10.125, token_id=29422, metadata=None))}},\n",
       "   61: {'score': 9.9375,\n",
       "    'pred': [PredictedToken(token=' Ken', prob=0.76171875, logit=20.625, token_id=14594, metadata=None),\n",
       "     PredictedToken(token=' Doctor', prob=0.150390625, logit=19.0, token_id=19150, metadata=None),\n",
       "     PredictedToken(token=' University', prob=0.048828125, logit=17.875, token_id=3907, metadata=None),\n",
       "     PredictedToken(token=' Kenya', prob=0.015869140625, logit=16.75, token_id=37766, metadata=None),\n",
       "     PredictedToken(token=' Nairobi', prob=0.006195068359375, logit=15.8125, token_id=97625, metadata=None)],\n",
       "    'track': {29422: (75,\n",
       "      PredictedToken(token=' Urban', prob=1.7404556274414062e-05, logit=9.9375, token_id=29422, metadata=None))}},\n",
       "   62: {'score': 9.875,\n",
       "    'pred': [PredictedToken(token=' Ken', prob=0.7578125, logit=20.625, token_id=14594, metadata=None),\n",
       "     PredictedToken(token=' Doctor', prob=0.1494140625, logit=19.0, token_id=19150, metadata=None),\n",
       "     PredictedToken(token=' University', prob=0.054931640625, logit=18.0, token_id=3907, metadata=None),\n",
       "     PredictedToken(token=' Kenya', prob=0.013916015625, logit=16.625, token_id=37766, metadata=None),\n",
       "     PredictedToken(token=' Nairobi', prob=0.00616455078125, logit=15.8125, token_id=97625, metadata=None)],\n",
       "    'track': {29422: (77,\n",
       "      PredictedToken(token=' Urban', prob=1.621246337890625e-05, logit=9.875, token_id=29422, metadata=None))}},\n",
       "   63: {'score': 9.6875,\n",
       "    'pred': [PredictedToken(token=' Ken', prob=0.7421875, logit=20.625, token_id=14594, metadata=None),\n",
       "     PredictedToken(token=' Doctor', prob=0.166015625, logit=19.125, token_id=19150, metadata=None),\n",
       "     PredictedToken(token=' University', prob=0.0537109375, logit=18.0, token_id=3907, metadata=None),\n",
       "     PredictedToken(token=' Kenya', prob=0.01361083984375, logit=16.625, token_id=37766, metadata=None),\n",
       "     PredictedToken(token=' Nairobi', prob=0.00604248046875, logit=15.8125, token_id=97625, metadata=None)],\n",
       "    'track': {29422: (85,\n",
       "      PredictedToken(token=' Urban', prob=1.3232231140136719e-05, logit=9.6875, token_id=29422, metadata=None))}},\n",
       "   64: {'score': 9.75,\n",
       "    'pred': [PredictedToken(token=' Ken', prob=0.7421875, logit=20.625, token_id=14594, metadata=None),\n",
       "     PredictedToken(token=' Doctor', prob=0.166015625, logit=19.125, token_id=19150, metadata=None),\n",
       "     PredictedToken(token=' University', prob=0.0537109375, logit=18.0, token_id=3907, metadata=None),\n",
       "     PredictedToken(token=' Kenya', prob=0.01361083984375, logit=16.625, token_id=37766, metadata=None),\n",
       "     PredictedToken(token=' Nairobi', prob=0.00604248046875, logit=15.8125, token_id=97625, metadata=None)],\n",
       "    'track': {29422: (85,\n",
       "      PredictedToken(token=' Urban', prob=1.4066696166992188e-05, logit=9.75, token_id=29422, metadata=None))}},\n",
       "   65: {'score': 9.75,\n",
       "    'pred': [PredictedToken(token=' Ken', prob=0.7421875, logit=20.625, token_id=14594, metadata=None),\n",
       "     PredictedToken(token=' Doctor', prob=0.166015625, logit=19.125, token_id=19150, metadata=None),\n",
       "     PredictedToken(token=' University', prob=0.0537109375, logit=18.0, token_id=3907, metadata=None),\n",
       "     PredictedToken(token=' Kenya', prob=0.01361083984375, logit=16.625, token_id=37766, metadata=None),\n",
       "     PredictedToken(token=' Boston', prob=0.00604248046875, logit=15.8125, token_id=10406, metadata=None)],\n",
       "    'track': {29422: (84,\n",
       "      PredictedToken(token=' Urban', prob=1.4066696166992188e-05, logit=9.75, token_id=29422, metadata=None))}},\n",
       "   66: {'score': 9.8125,\n",
       "    'pred': [PredictedToken(token=' Ken', prob=0.71875, logit=20.5, token_id=14594, metadata=None),\n",
       "     PredictedToken(token=' Doctor', prob=0.181640625, logit=19.125, token_id=19150, metadata=None),\n",
       "     PredictedToken(token=' University', prob=0.05908203125, logit=18.0, token_id=3907, metadata=None),\n",
       "     PredictedToken(token=' Kenya', prob=0.014892578125, logit=16.625, token_id=37766, metadata=None),\n",
       "     PredictedToken(token=' Boston', prob=0.006622314453125, logit=15.8125, token_id=10406, metadata=None)],\n",
       "    'track': {29422: (82,\n",
       "      PredictedToken(token=' Urban', prob=1.6450881958007812e-05, logit=9.8125, token_id=29422, metadata=None))}},\n",
       "   67: {'score': 9.75,\n",
       "    'pred': [PredictedToken(token=' Ken', prob=0.71875, logit=20.625, token_id=14594, metadata=None),\n",
       "     PredictedToken(token=' Doctor', prob=0.1826171875, logit=19.25, token_id=19150, metadata=None),\n",
       "     PredictedToken(token=' University', prob=0.05908203125, logit=18.125, token_id=3907, metadata=None),\n",
       "     PredictedToken(token=' Kenya', prob=0.01495361328125, logit=16.75, token_id=37766, metadata=None),\n",
       "     PredictedToken(token=' Boston', prob=0.0054931640625, logit=15.75, token_id=10406, metadata=None)],\n",
       "    'track': {29422: (84,\n",
       "      PredictedToken(token=' Urban', prob=1.3649463653564453e-05, logit=9.75, token_id=29422, metadata=None))}},\n",
       "   68: {'score': 9.75,\n",
       "    'pred': [PredictedToken(token=' Ken', prob=0.7265625, logit=20.625, token_id=14594, metadata=None),\n",
       "     PredictedToken(token=' Doctor', prob=0.18359375, logit=19.25, token_id=19150, metadata=None),\n",
       "     PredictedToken(token=' University', prob=0.052490234375, logit=18.0, token_id=3907, metadata=None),\n",
       "     PredictedToken(token=' Kenya', prob=0.01507568359375, logit=16.75, token_id=37766, metadata=None),\n",
       "     PredictedToken(token=' Nairobi', prob=0.00555419921875, logit=15.75, token_id=97625, metadata=None)],\n",
       "    'track': {29422: (85,\n",
       "      PredictedToken(token=' Urban', prob=1.3709068298339844e-05, logit=9.75, token_id=29422, metadata=None))}},\n",
       "   69: {'score': 10.0,\n",
       "    'pred': [PredictedToken(token=' Ken', prob=0.65234375, logit=20.5, token_id=14594, metadata=None),\n",
       "     PredictedToken(token=' Doctor', prob=0.2392578125, logit=19.5, token_id=19150, metadata=None),\n",
       "     PredictedToken(token=' University', prob=0.06884765625, logit=18.25, token_id=3907, metadata=None),\n",
       "     PredictedToken(token=' Kenya', prob=0.01531982421875, logit=16.75, token_id=37766, metadata=None),\n",
       "     PredictedToken(token=' Nairobi', prob=0.007232666015625, logit=16.0, token_id=97625, metadata=None)],\n",
       "    'track': {29422: (73,\n",
       "      PredictedToken(token=' Urban', prob=1.800060272216797e-05, logit=10.0, token_id=29422, metadata=None))}},\n",
       "   70: {'score': 10.0625,\n",
       "    'pred': [PredictedToken(token=' Ken', prob=0.64453125, logit=20.5, token_id=14594, metadata=None),\n",
       "     PredictedToken(token=' Doctor', prob=0.2373046875, logit=19.5, token_id=19150, metadata=None),\n",
       "     PredictedToken(token=' University', prob=0.07666015625, logit=18.375, token_id=3907, metadata=None),\n",
       "     PredictedToken(token=' Kenya', prob=0.0172119140625, logit=16.875, token_id=37766, metadata=None),\n",
       "     PredictedToken(token=' Nairobi', prob=0.00714111328125, logit=16.0, token_id=97625, metadata=None)],\n",
       "    'track': {29422: (72,\n",
       "      PredictedToken(token=' Urban', prob=1.8835067749023438e-05, logit=10.0625, token_id=29422, metadata=None))}},\n",
       "   71: {'score': 10.0,\n",
       "    'pred': [PredictedToken(token=' Ken', prob=0.63671875, logit=20.5, token_id=14594, metadata=None),\n",
       "     PredictedToken(token=' Doctor', prob=0.234375, logit=19.5, token_id=19150, metadata=None),\n",
       "     PredictedToken(token=' University', prob=0.0859375, logit=18.5, token_id=3907, metadata=None),\n",
       "     PredictedToken(token=' Kenya', prob=0.0169677734375, logit=16.875, token_id=37766, metadata=None),\n",
       "     PredictedToken(token=' Nairobi', prob=0.007080078125, logit=16.0, token_id=97625, metadata=None)],\n",
       "    'track': {29422: (76,\n",
       "      PredictedToken(token=' Urban', prob=1.7523765563964844e-05, logit=10.0, token_id=29422, metadata=None))}},\n",
       "   72: {'score': 9.9375,\n",
       "    'pred': [PredictedToken(token=' Ken', prob=0.640625, logit=20.625, token_id=14594, metadata=None),\n",
       "     PredictedToken(token=' Doctor', prob=0.2353515625, logit=19.625, token_id=19150, metadata=None),\n",
       "     PredictedToken(token=' University', prob=0.08642578125, logit=18.625, token_id=3907, metadata=None),\n",
       "     PredictedToken(token=' Kenya', prob=0.0150146484375, logit=16.875, token_id=37766, metadata=None),\n",
       "     PredictedToken(token=' Nairobi', prob=0.007110595703125, logit=16.125, token_id=97625, metadata=None)],\n",
       "    'track': {29422: (81,\n",
       "      PredictedToken(token=' Urban', prob=1.4603137969970703e-05, logit=9.9375, token_id=29422, metadata=None))}},\n",
       "   73: {'score': 10.0625,\n",
       "    'pred': [PredictedToken(token=' Ken', prob=0.640625, logit=20.75, token_id=14594, metadata=None),\n",
       "     PredictedToken(token=' Doctor', prob=0.2353515625, logit=19.75, token_id=19150, metadata=None),\n",
       "     PredictedToken(token=' University', prob=0.08642578125, logit=18.75, token_id=3907, metadata=None),\n",
       "     PredictedToken(token=' Kenya', prob=0.01507568359375, logit=17.0, token_id=37766, metadata=None),\n",
       "     PredictedToken(token=' Nairobi', prob=0.00628662109375, logit=16.125, token_id=97625, metadata=None)],\n",
       "    'track': {29422: (76,\n",
       "      PredictedToken(token=' Urban', prob=1.4603137969970703e-05, logit=10.0625, token_id=29422, metadata=None))}},\n",
       "   74: {'score': 10.125,\n",
       "    'pred': [PredictedToken(token=' Ken', prob=0.640625, logit=20.75, token_id=14594, metadata=None),\n",
       "     PredictedToken(token=' Doctor', prob=0.236328125, logit=19.75, token_id=19150, metadata=None),\n",
       "     PredictedToken(token=' University', prob=0.0869140625, logit=18.75, token_id=3907, metadata=None),\n",
       "     PredictedToken(token=' Kenya', prob=0.01507568359375, logit=17.0, token_id=37766, metadata=None),\n",
       "     PredictedToken(token=' Nairobi', prob=0.00628662109375, logit=16.125, token_id=97625, metadata=None)],\n",
       "    'track': {29422: (75,\n",
       "      PredictedToken(token=' Urban', prob=1.5616416931152344e-05, logit=10.125, token_id=29422, metadata=None))}},\n",
       "   75: {'score': 9.875,\n",
       "    'pred': [PredictedToken(token=' Ken', prob=0.625, logit=20.5, token_id=14594, metadata=None),\n",
       "     PredictedToken(token=' Doctor', prob=0.2294921875, logit=19.5, token_id=19150, metadata=None),\n",
       "     PredictedToken(token=' University', prob=0.1083984375, logit=18.75, token_id=3907, metadata=None),\n",
       "     PredictedToken(token=' Kenya', prob=0.0146484375, logit=16.75, token_id=37766, metadata=None),\n",
       "     PredictedToken(token=' Nairobi', prob=0.006500244140625, logit=15.9375, token_id=97625, metadata=None)],\n",
       "    'track': {29422: (86,\n",
       "      PredictedToken(token=' Urban', prob=1.5139579772949219e-05, logit=9.875, token_id=29422, metadata=None))}},\n",
       "   76: {'score': 9.375,\n",
       "    'pred': [PredictedToken(token=' Ken', prob=0.66796875, logit=20.75, token_id=14594, metadata=None),\n",
       "     PredictedToken(token=' Doctor', prob=0.216796875, logit=19.625, token_id=19150, metadata=None),\n",
       "     PredictedToken(token=' University', prob=0.07958984375, logit=18.625, token_id=3907, metadata=None),\n",
       "     PredictedToken(token=' Kenya', prob=0.015625, logit=17.0, token_id=37766, metadata=None),\n",
       "     PredictedToken(token=' Nairobi', prob=0.00653076171875, logit=16.125, token_id=97625, metadata=None)],\n",
       "    'track': {29422: (116,\n",
       "      PredictedToken(token=' Urban', prob=7.62939453125e-06, logit=9.375, token_id=29422, metadata=None))}},\n",
       "   77: {'score': 9.125,\n",
       "    'pred': [PredictedToken(token=' Ken', prob=0.6484375, logit=20.625, token_id=14594, metadata=None),\n",
       "     PredictedToken(token=' Doctor', prob=0.23828125, logit=19.625, token_id=19150, metadata=None),\n",
       "     PredictedToken(token=' University', prob=0.0771484375, logit=18.5, token_id=3907, metadata=None),\n",
       "     PredictedToken(token=' Kenya', prob=0.0152587890625, logit=16.875, token_id=37766, metadata=None),\n",
       "     PredictedToken(token=' Nairobi', prob=0.00634765625, logit=16.0, token_id=97625, metadata=None)],\n",
       "    'track': {29422: (130,\n",
       "      PredictedToken(token=' Urban', prob=6.556510925292969e-06, logit=9.125, token_id=29422, metadata=None))}},\n",
       "   78: {'score': 8.9375,\n",
       "    'pred': [PredictedToken(token=' Ken', prob=0.66796875, logit=20.625, token_id=14594, metadata=None),\n",
       "     PredictedToken(token=' Doctor', prob=0.216796875, logit=19.5, token_id=19150, metadata=None),\n",
       "     PredictedToken(token=' University', prob=0.07958984375, logit=18.5, token_id=3907, metadata=None),\n",
       "     PredictedToken(token=' Kenya', prob=0.015625, logit=16.875, token_id=37766, metadata=None),\n",
       "     PredictedToken(token=' Nairobi', prob=0.00653076171875, logit=16.0, token_id=97625, metadata=None)],\n",
       "    'track': {29422: (152,\n",
       "      PredictedToken(token=' Urban', prob=5.602836608886719e-06, logit=8.9375, token_id=29422, metadata=None))}},\n",
       "   79: {'score': 7.59375,\n",
       "    'pred': [PredictedToken(token=' Ken', prob=0.609375, logit=20.625, token_id=14594, metadata=None),\n",
       "     PredictedToken(token=' Doctor', prob=0.287109375, logit=19.875, token_id=19150, metadata=None),\n",
       "     PredictedToken(token=' University', prob=0.064453125, logit=18.375, token_id=3907, metadata=None),\n",
       "     PredictedToken(token=' Kenya', prob=0.0162353515625, logit=17.0, token_id=37766, metadata=None),\n",
       "     PredictedToken(token=' Nairobi', prob=0.00494384765625, logit=15.8125, token_id=97625, metadata=None)],\n",
       "    'track': {29422: (359,\n",
       "      PredictedToken(token=' Urban', prob=1.3336539268493652e-06, logit=7.59375, token_id=29422, metadata=None))}}}}]"
      ]
     },
     "execution_count": 70,
     "metadata": {},
     "output_type": "execute_result"
    }
   ],
   "source": [
    "res_from"
   ]
  },
  {
   "cell_type": "code",
   "execution_count": 74,
   "metadata": {},
   "outputs": [],
   "source": [
    "with open(\"test.json\", \"w\") as f:\n",
    "    json.dump(\n",
    "        res_from, f, indent=4, default=str\n",
    "    )"
   ]
  },
  {
   "cell_type": "code",
   "execution_count": 65,
   "metadata": {},
   "outputs": [
    {
     "data": {
      "image/png": "[encoded data removed]",
      "text/plain": [
       "<Figure size 1500x500 with 1 Axes>"
      ]
     },
     "metadata": {},
     "output_type": "display_data"
    }
   ],
   "source": [
    "from src.utils.metrics import AggregateMetric\n",
    "\n",
    "\n",
    "def process_patching_results(\n",
    "    results: list[dict],\n",
    ") -> dict[int, AggregateMetric]:\n",
    "    layers = results[0][\"patching_results\"].keys()\n",
    "    layers = sorted(layers)\n",
    "\n",
    "    layerwise_results = {l: [] for l in layers}\n",
    "    for sample in results:\n",
    "        gold_score = sample[\"gold_score\"]\n",
    "        corrupt_score = sample[\"corrupt_score\"]\n",
    "        for layer_idx in layers:\n",
    "            score = sample[\"patching_results\"][layer_idx][\"score\"]\n",
    "            layerwise_results[layer_idx].append(\n",
    "                (score - corrupt_score) / (gold_score - corrupt_score)\n",
    "            )\n",
    "\n",
    "    return {l: AggregateMetric.aggregate(v) for l, v in layerwise_results.items()}\n",
    "\n",
    "\n",
    "from matplotlib import pyplot as plt\n",
    "import numpy as np\n",
    "\n",
    "\n",
    "def plot_results(results, canvas, set_canvas_layout=True, label=None):\n",
    "    layers, values = zip(*results.items())\n",
    "\n",
    "    means = np.array([v.mean for v in values])\n",
    "    stds = np.array([v.stderr for v in values])\n",
    "\n",
    "    canvas.plot(means, marker=\"o\", linewidth=1.5, label=label, alpha=0.8)\n",
    "    canvas.fill_between(layers, means - stds, means + stds, alpha=0.1)\n",
    "\n",
    "    if set_canvas_layout:\n",
    "        canvas.ylim(bottom=0, top=1)\n",
    "        # canvas.xticks(layers, rotation=45)\n",
    "        x_ticks = []\n",
    "        for i in range(len(layers)):\n",
    "            if int(i) % 5 == 0:\n",
    "                x_ticks.append(layers[i])\n",
    "            else:\n",
    "                x_ticks.append(\"\")\n",
    "        canvas.xticks(ticks=layers, labels=x_ticks, rotation=45)\n",
    "        canvas.title(\"ATTN Patch Sweep\")\n",
    "        canvas.ylabel(\"normalized indirect effect\")\n",
    "        canvas.xlabel(\"layers\")\n",
    "\n",
    "\n",
    "plt.figure(figsize=(15, 5))\n",
    "\n",
    "processed_results_upto = process_patching_results(res_upto)\n",
    "plot_results(processed_results_upto, plt, set_canvas_layout=True, label=\"upto\")\n",
    "\n",
    "processed_results_from = process_patching_results(res_from)\n",
    "plot_results(processed_results_from, plt, set_canvas_layout=False, label=\"from\")\n",
    "\n",
    "processed_results_win = process_patching_results(res_win)\n",
    "plot_results(processed_results_win, plt, set_canvas_layout=False, label=\"window=5\")\n",
    "\n",
    "plt.legend()\n",
    "\n",
    "plt.show()"
   ]
  },
  {
   "cell_type": "code",
   "execution_count": 18,
   "metadata": {},
   "outputs": [
    {
     "name": "stderr",
     "output_type": "stream",
     "text": [
      "0it [00:00, ?it/s]"
     ]
    },
    {
     "name": "stdout",
     "output_type": "stream",
     "text": [
      "2025-04-07 17:11:14 __main__ INFO     (1/13)  sample['entity_pair']=['Germany', 'Japan'] <-- Korea\n",
      "2025-04-07 17:11:20 __main__ INFO     ['Germany', 'Japan'] >> answer='Axis powers in World War II.'\n",
      "2025-04-07 17:11:25 __main__ INFO     ('Korea', 'Japan') >> clean_answer='part of the Japanese Empire.'\n",
      "2025-04-07 17:11:25 __main__ INFO     ['34474( Axis)', '13430( powers)', '4337( World)', '5004( War)', '7946( II)']\n",
      "2025-04-07 17:11:25 __main__ INFO     gold_score=12.6796875\n",
      "2025-04-07 17:11:26 __main__ INFO     corrupt_score=9.96875\n",
      "2025-04-07 17:11:26 __main__ DEBUG             layer_idx=0, patched_score=12.125\n",
      "2025-04-07 17:11:26 __main__ DEBUG             layer_idx=1, patched_score=12.1328125\n",
      "2025-04-07 17:11:26 __main__ DEBUG             layer_idx=2, patched_score=12.125\n",
      "2025-04-07 17:11:26 __main__ DEBUG             layer_idx=3, patched_score=12.125\n",
      "2025-04-07 17:11:27 __main__ DEBUG             layer_idx=4, patched_score=12.1171875\n",
      "2025-04-07 17:11:27 __main__ DEBUG             layer_idx=5, patched_score=12.109375\n",
      "2025-04-07 17:11:27 __main__ DEBUG             layer_idx=6, patched_score=12.125\n",
      "2025-04-07 17:11:27 __main__ DEBUG             layer_idx=7, patched_score=12.1171875\n",
      "2025-04-07 17:11:27 __main__ DEBUG             layer_idx=8, patched_score=12.1171875\n",
      "2025-04-07 17:11:28 __main__ DEBUG             layer_idx=9, patched_score=12.125\n",
      "2025-04-07 17:11:28 __main__ DEBUG             layer_idx=10, patched_score=12.125\n",
      "2025-04-07 17:11:28 __main__ DEBUG             layer_idx=11, patched_score=12.125\n",
      "2025-04-07 17:11:28 __main__ DEBUG             layer_idx=12, patched_score=12.125\n",
      "2025-04-07 17:11:28 __main__ DEBUG             layer_idx=13, patched_score=12.109375\n",
      "2025-04-07 17:11:28 __main__ DEBUG             layer_idx=14, patched_score=12.125\n",
      "2025-04-07 17:11:29 __main__ DEBUG             layer_idx=15, patched_score=12.125\n",
      "2025-04-07 17:11:29 __main__ DEBUG             layer_idx=16, patched_score=12.140625\n",
      "2025-04-07 17:11:29 __main__ DEBUG             layer_idx=17, patched_score=12.15625\n",
      "2025-04-07 17:11:29 __main__ DEBUG             layer_idx=18, patched_score=12.140625\n",
      "2025-04-07 17:11:29 __main__ DEBUG             layer_idx=19, patched_score=12.1328125\n",
      "2025-04-07 17:11:29 __main__ DEBUG             layer_idx=20, patched_score=12.125\n",
      "2025-04-07 17:11:30 __main__ DEBUG             layer_idx=21, patched_score=12.1015625\n",
      "2025-04-07 17:11:30 __main__ DEBUG             layer_idx=22, patched_score=12.109375\n",
      "2025-04-07 17:11:30 __main__ DEBUG             layer_idx=23, patched_score=12.09375\n",
      "2025-04-07 17:11:30 __main__ DEBUG             layer_idx=24, patched_score=12.0625\n",
      "2025-04-07 17:11:30 __main__ DEBUG             layer_idx=25, patched_score=12.03125\n",
      "2025-04-07 17:11:31 __main__ DEBUG             layer_idx=26, patched_score=12.0546875\n",
      "2025-04-07 17:11:31 __main__ DEBUG             layer_idx=27, patched_score=12.0390625\n",
      "2025-04-07 17:11:31 __main__ DEBUG             layer_idx=28, patched_score=12.0625\n",
      "2025-04-07 17:11:31 __main__ DEBUG             layer_idx=29, patched_score=12.0625\n",
      "2025-04-07 17:11:31 __main__ DEBUG             layer_idx=30, patched_score=12.0390625\n",
      "2025-04-07 17:11:31 __main__ DEBUG             layer_idx=31, patched_score=12.015625\n",
      "2025-04-07 17:11:32 __main__ DEBUG             layer_idx=32, patched_score=12.0390625\n",
      "2025-04-07 17:11:32 __main__ DEBUG             layer_idx=33, patched_score=12.0078125\n",
      "2025-04-07 17:11:32 __main__ DEBUG             layer_idx=34, patched_score=11.9375\n",
      "2025-04-07 17:11:32 __main__ DEBUG             layer_idx=35, patched_score=11.8671875\n",
      "2025-04-07 17:11:32 __main__ DEBUG             layer_idx=36, patched_score=11.9609375\n",
      "2025-04-07 17:11:32 __main__ DEBUG             layer_idx=37, patched_score=11.78125\n",
      "2025-04-07 17:11:33 __main__ DEBUG             layer_idx=38, patched_score=11.40625\n",
      "2025-04-07 17:11:33 __main__ DEBUG             layer_idx=39, patched_score=10.9609375\n",
      "2025-04-07 17:11:33 __main__ DEBUG             layer_idx=40, patched_score=10.6328125\n",
      "2025-04-07 17:11:33 __main__ DEBUG             layer_idx=41, patched_score=10.578125\n",
      "2025-04-07 17:11:33 __main__ DEBUG             layer_idx=42, patched_score=10.5546875\n",
      "2025-04-07 17:11:33 __main__ DEBUG             layer_idx=43, patched_score=10.375\n",
      "2025-04-07 17:11:34 __main__ DEBUG             layer_idx=44, patched_score=10.1484375\n",
      "2025-04-07 17:11:34 __main__ DEBUG             layer_idx=45, patched_score=9.96875\n",
      "2025-04-07 17:11:34 __main__ DEBUG             layer_idx=46, patched_score=9.984375\n",
      "2025-04-07 17:11:34 __main__ DEBUG             layer_idx=47, patched_score=10.1640625\n",
      "2025-04-07 17:11:34 __main__ DEBUG    ------------------------------\n"
     ]
    },
    {
     "name": "stderr",
     "output_type": "stream",
     "text": [
      "1it [00:19, 19.75s/it]"
     ]
    },
    {
     "name": "stdout",
     "output_type": "stream",
     "text": [
      "2025-04-07 17:11:34 __main__ INFO     (2/13)  sample['entity_pair']=['Hugh Jackman', 'Ryan Reynolds'] <-- Celine Dion\n",
      "2025-04-07 17:11:39 __main__ INFO     ['Hugh Jackman', 'Ryan Reynolds'] >> answer='actors and friends.'\n",
      "2025-04-07 17:11:45 __main__ INFO     ('Celine Dion', 'Ryan Reynolds') >> clean_answer='married to the same person.'\n",
      "2025-04-07 17:11:45 __main__ INFO     ['19571( actors)', '4780( friends)']\n",
      "2025-04-07 17:11:45 __main__ INFO     gold_score=17.328125\n",
      "2025-04-07 17:11:45 __main__ INFO     corrupt_score=15.515625\n",
      "2025-04-07 17:11:46 __main__ DEBUG             layer_idx=0, patched_score=16.359375\n",
      "2025-04-07 17:11:46 __main__ DEBUG             layer_idx=1, patched_score=16.34375\n",
      "2025-04-07 17:11:46 __main__ DEBUG             layer_idx=2, patched_score=16.34375\n",
      "2025-04-07 17:11:46 __main__ DEBUG             layer_idx=3, patched_score=16.359375\n",
      "2025-04-07 17:11:46 __main__ DEBUG             layer_idx=4, patched_score=16.34375\n",
      "2025-04-07 17:11:47 __main__ DEBUG             layer_idx=5, patched_score=16.328125\n",
      "2025-04-07 17:11:47 __main__ DEBUG             layer_idx=6, patched_score=16.34375\n",
      "2025-04-07 17:11:47 __main__ DEBUG             layer_idx=7, patched_score=16.34375\n",
      "2025-04-07 17:11:47 __main__ DEBUG             layer_idx=8, patched_score=16.375\n",
      "2025-04-07 17:11:47 __main__ DEBUG             layer_idx=9, patched_score=16.34375\n",
      "2025-04-07 17:11:47 __main__ DEBUG             layer_idx=10, patched_score=16.375\n",
      "2025-04-07 17:11:48 __main__ DEBUG             layer_idx=11, patched_score=16.359375\n",
      "2025-04-07 17:11:48 __main__ DEBUG             layer_idx=12, patched_score=16.359375\n",
      "2025-04-07 17:11:48 __main__ DEBUG             layer_idx=13, patched_score=16.359375\n",
      "2025-04-07 17:11:48 __main__ DEBUG             layer_idx=14, patched_score=16.34375\n",
      "2025-04-07 17:11:48 __main__ DEBUG             layer_idx=15, patched_score=16.375\n",
      "2025-04-07 17:11:49 __main__ DEBUG             layer_idx=16, patched_score=16.40625\n",
      "2025-04-07 17:11:49 __main__ DEBUG             layer_idx=17, patched_score=16.375\n",
      "2025-04-07 17:11:49 __main__ DEBUG             layer_idx=18, patched_score=16.359375\n",
      "2025-04-07 17:11:49 __main__ DEBUG             layer_idx=19, patched_score=16.34375\n",
      "2025-04-07 17:11:49 __main__ DEBUG             layer_idx=20, patched_score=16.3125\n",
      "2025-04-07 17:11:50 __main__ DEBUG             layer_idx=21, patched_score=16.359375\n",
      "2025-04-07 17:11:50 __main__ DEBUG             layer_idx=22, patched_score=16.375\n",
      "2025-04-07 17:11:50 __main__ DEBUG             layer_idx=23, patched_score=16.4375\n",
      "2025-04-07 17:11:50 __main__ DEBUG             layer_idx=24, patched_score=16.5\n",
      "2025-04-07 17:11:50 __main__ DEBUG             layer_idx=25, patched_score=16.40625\n",
      "2025-04-07 17:11:50 __main__ DEBUG             layer_idx=26, patched_score=16.390625\n",
      "2025-04-07 17:11:51 __main__ DEBUG             layer_idx=27, patched_score=16.390625\n",
      "2025-04-07 17:11:51 __main__ DEBUG             layer_idx=28, patched_score=16.34375\n",
      "2025-04-07 17:11:51 __main__ DEBUG             layer_idx=29, patched_score=16.328125\n",
      "2025-04-07 17:11:51 __main__ DEBUG             layer_idx=30, patched_score=16.25\n",
      "2025-04-07 17:11:51 __main__ DEBUG             layer_idx=31, patched_score=16.3125\n",
      "2025-04-07 17:11:52 __main__ DEBUG             layer_idx=32, patched_score=16.375\n",
      "2025-04-07 17:11:52 __main__ DEBUG             layer_idx=33, patched_score=16.28125\n",
      "2025-04-07 17:11:52 __main__ DEBUG             layer_idx=34, patched_score=16.34375\n",
      "2025-04-07 17:11:52 __main__ DEBUG             layer_idx=35, patched_score=16.109375\n",
      "2025-04-07 17:11:52 __main__ DEBUG             layer_idx=36, patched_score=15.890625\n",
      "2025-04-07 17:11:52 __main__ DEBUG             layer_idx=37, patched_score=16.0625\n",
      "2025-04-07 17:11:53 __main__ DEBUG             layer_idx=38, patched_score=15.9453125\n",
      "2025-04-07 17:11:53 __main__ DEBUG             layer_idx=39, patched_score=15.140625\n",
      "2025-04-07 17:11:53 __main__ DEBUG             layer_idx=40, patched_score=14.734375\n",
      "2025-04-07 17:11:53 __main__ DEBUG             layer_idx=41, patched_score=14.5078125\n",
      "2025-04-07 17:11:53 __main__ DEBUG             layer_idx=42, patched_score=14.171875\n",
      "2025-04-07 17:11:53 __main__ DEBUG             layer_idx=43, patched_score=14.4375\n",
      "2025-04-07 17:11:54 __main__ DEBUG             layer_idx=44, patched_score=14.875\n",
      "2025-04-07 17:11:54 __main__ DEBUG             layer_idx=45, patched_score=14.828125\n",
      "2025-04-07 17:11:54 __main__ DEBUG             layer_idx=46, patched_score=14.9921875\n",
      "2025-04-07 17:11:54 __main__ DEBUG             layer_idx=47, patched_score=14.515625\n",
      "2025-04-07 17:11:54 __main__ DEBUG    ------------------------------\n"
     ]
    },
    {
     "name": "stderr",
     "output_type": "stream",
     "text": [
      "2it [00:39, 19.90s/it]"
     ]
    },
    {
     "name": "stdout",
     "output_type": "stream",
     "text": [
      "2025-04-07 17:11:54 __main__ INFO     (3/13)  sample['entity_pair']=['Bhutan', 'Nepal'] <-- India\n",
      "2025-04-07 17:12:00 __main__ INFO     ['Bhutan', 'Nepal'] >> answer='monarchies.'\n",
      "2025-04-07 17:12:05 __main__ INFO     ('India', 'Nepal') >> clean_answer='ruled by the British Empire.'\n",
      "2025-04-07 17:12:05 __main__ INFO     ['62754( monarch)']\n",
      "2025-04-07 17:12:05 __main__ INFO     gold_score=18.71875\n",
      "2025-04-07 17:12:06 __main__ INFO     corrupt_score=15.578125\n",
      "2025-04-07 17:12:06 __main__ DEBUG             layer_idx=0, patched_score=17.546875\n",
      "2025-04-07 17:12:06 __main__ DEBUG             layer_idx=1, patched_score=17.515625\n",
      "2025-04-07 17:12:06 __main__ DEBUG             layer_idx=2, patched_score=17.53125\n",
      "2025-04-07 17:12:06 __main__ DEBUG             layer_idx=3, patched_score=17.5625\n",
      "2025-04-07 17:12:07 __main__ DEBUG             layer_idx=4, patched_score=17.53125\n",
      "2025-04-07 17:12:07 __main__ DEBUG             layer_idx=5, patched_score=17.546875\n",
      "2025-04-07 17:12:07 __main__ DEBUG             layer_idx=6, patched_score=17.546875\n",
      "2025-04-07 17:12:07 __main__ DEBUG             layer_idx=7, patched_score=17.546875\n",
      "2025-04-07 17:12:07 __main__ DEBUG             layer_idx=8, patched_score=17.546875\n",
      "2025-04-07 17:12:08 __main__ DEBUG             layer_idx=9, patched_score=17.53125\n",
      "2025-04-07 17:12:08 __main__ DEBUG             layer_idx=10, patched_score=17.53125\n",
      "2025-04-07 17:12:08 __main__ DEBUG             layer_idx=11, patched_score=17.59375\n",
      "2025-04-07 17:12:08 __main__ DEBUG             layer_idx=12, patched_score=17.5625\n",
      "2025-04-07 17:12:08 __main__ DEBUG             layer_idx=13, patched_score=17.578125\n",
      "2025-04-07 17:12:09 __main__ DEBUG             layer_idx=14, patched_score=17.609375\n",
      "2025-04-07 17:12:09 __main__ DEBUG             layer_idx=15, patched_score=17.609375\n",
      "2025-04-07 17:12:09 __main__ DEBUG             layer_idx=16, patched_score=17.609375\n",
      "2025-04-07 17:12:09 __main__ DEBUG             layer_idx=17, patched_score=17.59375\n",
      "2025-04-07 17:12:09 __main__ DEBUG             layer_idx=18, patched_score=17.609375\n",
      "2025-04-07 17:12:09 __main__ DEBUG             layer_idx=19, patched_score=17.625\n",
      "2025-04-07 17:12:10 __main__ DEBUG             layer_idx=20, patched_score=17.65625\n",
      "2025-04-07 17:12:10 __main__ DEBUG             layer_idx=21, patched_score=17.671875\n",
      "2025-04-07 17:12:10 __main__ DEBUG             layer_idx=22, patched_score=17.65625\n",
      "2025-04-07 17:12:10 __main__ DEBUG             layer_idx=23, patched_score=17.640625\n",
      "2025-04-07 17:12:10 __main__ DEBUG             layer_idx=24, patched_score=17.640625\n",
      "2025-04-07 17:12:10 __main__ DEBUG             layer_idx=25, patched_score=17.609375\n",
      "2025-04-07 17:12:11 __main__ DEBUG             layer_idx=26, patched_score=17.671875\n",
      "2025-04-07 17:12:11 __main__ DEBUG             layer_idx=27, patched_score=17.625\n",
      "2025-04-07 17:12:11 __main__ DEBUG             layer_idx=28, patched_score=17.625\n",
      "2025-04-07 17:12:11 __main__ DEBUG             layer_idx=29, patched_score=17.578125\n",
      "2025-04-07 17:12:11 __main__ DEBUG             layer_idx=30, patched_score=17.53125\n",
      "2025-04-07 17:12:12 __main__ DEBUG             layer_idx=31, patched_score=17.484375\n",
      "2025-04-07 17:12:12 __main__ DEBUG             layer_idx=32, patched_score=17.515625\n",
      "2025-04-07 17:12:12 __main__ DEBUG             layer_idx=33, patched_score=17.390625\n",
      "2025-04-07 17:12:12 __main__ DEBUG             layer_idx=34, patched_score=17.453125\n",
      "2025-04-07 17:12:12 __main__ DEBUG             layer_idx=35, patched_score=17.640625\n",
      "2025-04-07 17:12:12 __main__ DEBUG             layer_idx=36, patched_score=16.984375\n",
      "2025-04-07 17:12:13 __main__ DEBUG             layer_idx=37, patched_score=16.71875\n",
      "2025-04-07 17:12:13 __main__ DEBUG             layer_idx=38, patched_score=15.9296875\n",
      "2025-04-07 17:12:13 __main__ DEBUG             layer_idx=39, patched_score=15.0078125\n",
      "2025-04-07 17:12:13 __main__ DEBUG             layer_idx=40, patched_score=13.984375\n",
      "2025-04-07 17:12:13 __main__ DEBUG             layer_idx=41, patched_score=12.9609375\n",
      "2025-04-07 17:12:14 __main__ DEBUG             layer_idx=42, patched_score=13.6640625\n",
      "2025-04-07 17:12:14 __main__ DEBUG             layer_idx=43, patched_score=13.6328125\n",
      "2025-04-07 17:12:14 __main__ DEBUG             layer_idx=44, patched_score=13.328125\n",
      "2025-04-07 17:12:14 __main__ DEBUG             layer_idx=45, patched_score=13.59375\n",
      "2025-04-07 17:12:14 __main__ DEBUG             layer_idx=46, patched_score=14.7890625\n",
      "2025-04-07 17:12:14 __main__ DEBUG             layer_idx=47, patched_score=15.0625\n",
      "2025-04-07 17:12:14 __main__ DEBUG    ------------------------------\n"
     ]
    },
    {
     "name": "stderr",
     "output_type": "stream",
     "text": [
      "3it [00:59, 20.05s/it]"
     ]
    },
    {
     "name": "stdout",
     "output_type": "stream",
     "text": [
      "2025-04-07 17:12:14 __main__ INFO     (4/13)  sample['entity_pair']=['Mount Athos', 'Vatican City'] <-- Italy\n",
      "2025-04-07 17:12:20 __main__ INFO     ['Mount Athos', 'Vatican City'] >> answer='ruled by the Byzantine Empire.'\n",
      "2025-04-07 17:12:25 __main__ INFO     ('Italy', 'Vatican City') >> clean_answer='ruled by the Pope.'\n",
      "2025-04-07 17:12:25 __main__ INFO     ['21286( ruled)', '81660( Byz)', '20448( Empire)']\n",
      "2025-04-07 17:12:26 __main__ INFO     gold_score=11.4453125\n",
      "2025-04-07 17:12:26 __main__ INFO     corrupt_score=11.9375\n",
      "2025-04-07 17:12:26 __main__ DEBUG             layer_idx=0, patched_score=11.703125\n",
      "2025-04-07 17:12:26 __main__ DEBUG             layer_idx=1, patched_score=11.734375\n",
      "2025-04-07 17:12:27 __main__ DEBUG             layer_idx=2, patched_score=11.7109375\n",
      "2025-04-07 17:12:27 __main__ DEBUG             layer_idx=3, patched_score=11.7109375\n",
      "2025-04-07 17:12:27 __main__ DEBUG             layer_idx=4, patched_score=11.703125\n",
      "2025-04-07 17:12:27 __main__ DEBUG             layer_idx=5, patched_score=11.7109375\n",
      "2025-04-07 17:12:27 __main__ DEBUG             layer_idx=6, patched_score=11.703125\n",
      "2025-04-07 17:12:28 __main__ DEBUG             layer_idx=7, patched_score=11.71875\n",
      "2025-04-07 17:12:28 __main__ DEBUG             layer_idx=8, patched_score=11.71875\n",
      "2025-04-07 17:12:28 __main__ DEBUG             layer_idx=9, patched_score=11.71875\n",
      "2025-04-07 17:12:28 __main__ DEBUG             layer_idx=10, patched_score=11.734375\n",
      "2025-04-07 17:12:28 __main__ DEBUG             layer_idx=11, patched_score=11.703125\n",
      "2025-04-07 17:12:28 __main__ DEBUG             layer_idx=12, patched_score=11.7265625\n",
      "2025-04-07 17:12:29 __main__ DEBUG             layer_idx=13, patched_score=11.6953125\n",
      "2025-04-07 17:12:29 __main__ DEBUG             layer_idx=14, patched_score=11.703125\n",
      "2025-04-07 17:12:29 __main__ DEBUG             layer_idx=15, patched_score=11.671875\n",
      "2025-04-07 17:12:29 __main__ DEBUG             layer_idx=16, patched_score=11.671875\n",
      "2025-04-07 17:12:29 __main__ DEBUG             layer_idx=17, patched_score=11.671875\n",
      "2025-04-07 17:12:30 __main__ DEBUG             layer_idx=18, patched_score=11.65625\n",
      "2025-04-07 17:12:30 __main__ DEBUG             layer_idx=19, patched_score=11.6484375\n",
      "2025-04-07 17:12:30 __main__ DEBUG             layer_idx=20, patched_score=11.59375\n",
      "2025-04-07 17:12:30 __main__ DEBUG             layer_idx=21, patched_score=11.609375\n",
      "2025-04-07 17:12:30 __main__ DEBUG             layer_idx=22, patched_score=11.578125\n",
      "2025-04-07 17:12:30 __main__ DEBUG             layer_idx=23, patched_score=11.59375\n",
      "2025-04-07 17:12:31 __main__ DEBUG             layer_idx=24, patched_score=11.578125\n",
      "2025-04-07 17:12:31 __main__ DEBUG             layer_idx=25, patched_score=11.5859375\n",
      "2025-04-07 17:12:31 __main__ DEBUG             layer_idx=26, patched_score=11.5546875\n",
      "2025-04-07 17:12:31 __main__ DEBUG             layer_idx=27, patched_score=11.5078125\n",
      "2025-04-07 17:12:31 __main__ DEBUG             layer_idx=28, patched_score=11.4375\n",
      "2025-04-07 17:12:32 __main__ DEBUG             layer_idx=29, patched_score=11.359375\n",
      "2025-04-07 17:12:32 __main__ DEBUG             layer_idx=30, patched_score=11.40625\n",
      "2025-04-07 17:12:32 __main__ DEBUG             layer_idx=31, patched_score=11.375\n",
      "2025-04-07 17:12:32 __main__ DEBUG             layer_idx=32, patched_score=11.4453125\n",
      "2025-04-07 17:12:32 __main__ DEBUG             layer_idx=33, patched_score=11.3125\n",
      "2025-04-07 17:12:32 __main__ DEBUG             layer_idx=34, patched_score=11.390625\n",
      "2025-04-07 17:12:33 __main__ DEBUG             layer_idx=35, patched_score=11.4140625\n",
      "2025-04-07 17:12:33 __main__ DEBUG             layer_idx=36, patched_score=11.6875\n",
      "2025-04-07 17:12:33 __main__ DEBUG             layer_idx=37, patched_score=11.5859375\n",
      "2025-04-07 17:12:33 __main__ DEBUG             layer_idx=38, patched_score=11.53125\n",
      "2025-04-07 17:12:33 __main__ DEBUG             layer_idx=39, patched_score=11.3125\n",
      "2025-04-07 17:12:34 __main__ DEBUG             layer_idx=40, patched_score=11.4453125\n",
      "2025-04-07 17:12:34 __main__ DEBUG             layer_idx=41, patched_score=11.546875\n",
      "2025-04-07 17:12:34 __main__ DEBUG             layer_idx=42, patched_score=11.7109375\n",
      "2025-04-07 17:12:34 __main__ DEBUG             layer_idx=43, patched_score=11.9453125\n",
      "2025-04-07 17:12:34 __main__ DEBUG             layer_idx=44, patched_score=11.96875\n",
      "2025-04-07 17:12:34 __main__ DEBUG             layer_idx=45, patched_score=11.546875\n",
      "2025-04-07 17:12:35 __main__ DEBUG             layer_idx=46, patched_score=11.9609375\n",
      "2025-04-07 17:12:35 __main__ DEBUG             layer_idx=47, patched_score=11.6796875\n",
      "2025-04-07 17:12:35 __main__ DEBUG    ------------------------------\n"
     ]
    },
    {
     "name": "stderr",
     "output_type": "stream",
     "text": [
      "4it [01:20, 20.17s/it]"
     ]
    },
    {
     "name": "stdout",
     "output_type": "stream",
     "text": [
      "2025-04-07 17:12:35 __main__ INFO     (5/13)  sample['entity_pair']=['Dead Sea Scrolls', 'Rosetta Stone'] <-- Pyramid of Giza\n",
      "2025-04-07 17:12:40 __main__ INFO     ['Dead Sea Scrolls', 'Rosetta Stone'] >> answer='important historical artifacts.'\n",
      "2025-04-07 17:12:46 __main__ INFO     ('Pyramid of Giza', 'Rosetta Stone') >> clean_answer='located in Egypt.'\n",
      "2025-04-07 17:12:46 __main__ INFO     ['2989( important)', '13656( historical)', '35036( artifacts)']\n",
      "2025-04-07 17:12:46 __main__ INFO     gold_score=17.75\n",
      "2025-04-07 17:12:46 __main__ INFO     corrupt_score=17.9375\n",
      "2025-04-07 17:12:46 __main__ DEBUG             layer_idx=0, patched_score=17.46875\n",
      "2025-04-07 17:12:47 __main__ DEBUG             layer_idx=1, patched_score=17.46875\n",
      "2025-04-07 17:12:47 __main__ DEBUG             layer_idx=2, patched_score=17.453125\n",
      "2025-04-07 17:12:47 __main__ DEBUG             layer_idx=3, patched_score=17.453125\n",
      "2025-04-07 17:12:47 __main__ DEBUG             layer_idx=4, patched_score=17.46875\n",
      "2025-04-07 17:12:47 __main__ DEBUG             layer_idx=5, patched_score=17.46875\n",
      "2025-04-07 17:12:48 __main__ DEBUG             layer_idx=6, patched_score=17.453125\n",
      "2025-04-07 17:12:48 __main__ DEBUG             layer_idx=7, patched_score=17.46875\n",
      "2025-04-07 17:12:48 __main__ DEBUG             layer_idx=8, patched_score=17.453125\n",
      "2025-04-07 17:12:48 __main__ DEBUG             layer_idx=9, patched_score=17.46875\n",
      "2025-04-07 17:12:48 __main__ DEBUG             layer_idx=10, patched_score=17.46875\n",
      "2025-04-07 17:12:49 __main__ DEBUG             layer_idx=11, patched_score=17.46875\n",
      "2025-04-07 17:12:49 __main__ DEBUG             layer_idx=12, patched_score=17.46875\n",
      "2025-04-07 17:12:49 __main__ DEBUG             layer_idx=13, patched_score=17.46875\n",
      "2025-04-07 17:12:49 __main__ DEBUG             layer_idx=14, patched_score=17.453125\n",
      "2025-04-07 17:12:49 __main__ DEBUG             layer_idx=15, patched_score=17.453125\n",
      "2025-04-07 17:12:49 __main__ DEBUG             layer_idx=16, patched_score=17.46875\n",
      "2025-04-07 17:12:50 __main__ DEBUG             layer_idx=17, patched_score=17.5\n",
      "2025-04-07 17:12:50 __main__ DEBUG             layer_idx=18, patched_score=17.46875\n",
      "2025-04-07 17:12:50 __main__ DEBUG             layer_idx=19, patched_score=17.484375\n",
      "2025-04-07 17:12:50 __main__ DEBUG             layer_idx=20, patched_score=17.46875\n",
      "2025-04-07 17:12:50 __main__ DEBUG             layer_idx=21, patched_score=17.46875\n",
      "2025-04-07 17:12:51 __main__ DEBUG             layer_idx=22, patched_score=17.4375\n",
      "2025-04-07 17:12:51 __main__ DEBUG             layer_idx=23, patched_score=17.46875\n",
      "2025-04-07 17:12:51 __main__ DEBUG             layer_idx=24, patched_score=17.46875\n",
      "2025-04-07 17:12:51 __main__ DEBUG             layer_idx=25, patched_score=17.421875\n",
      "2025-04-07 17:12:51 __main__ DEBUG             layer_idx=26, patched_score=17.4375\n",
      "2025-04-07 17:12:52 __main__ DEBUG             layer_idx=27, patched_score=17.40625\n",
      "2025-04-07 17:12:52 __main__ DEBUG             layer_idx=28, patched_score=17.484375\n",
      "2025-04-07 17:12:52 __main__ DEBUG             layer_idx=29, patched_score=17.53125\n",
      "2025-04-07 17:12:52 __main__ DEBUG             layer_idx=30, patched_score=17.46875\n",
      "2025-04-07 17:12:52 __main__ DEBUG             layer_idx=31, patched_score=17.453125\n",
      "2025-04-07 17:12:52 __main__ DEBUG             layer_idx=32, patched_score=17.4375\n",
      "2025-04-07 17:12:53 __main__ DEBUG             layer_idx=33, patched_score=17.34375\n",
      "2025-04-07 17:12:53 __main__ DEBUG             layer_idx=34, patched_score=17.359375\n",
      "2025-04-07 17:12:53 __main__ DEBUG             layer_idx=35, patched_score=17.1875\n",
      "2025-04-07 17:12:53 __main__ DEBUG             layer_idx=36, patched_score=16.953125\n",
      "2025-04-07 17:12:53 __main__ DEBUG             layer_idx=37, patched_score=16.953125\n",
      "2025-04-07 17:12:53 __main__ DEBUG             layer_idx=38, patched_score=16.796875\n",
      "2025-04-07 17:12:54 __main__ DEBUG             layer_idx=39, patched_score=16.90625\n",
      "2025-04-07 17:12:54 __main__ DEBUG             layer_idx=40, patched_score=16.734375\n",
      "2025-04-07 17:12:54 __main__ DEBUG             layer_idx=41, patched_score=16.78125\n",
      "2025-04-07 17:12:54 __main__ DEBUG             layer_idx=42, patched_score=16.53125\n",
      "2025-04-07 17:12:54 __main__ DEBUG             layer_idx=43, patched_score=16.515625\n",
      "2025-04-07 17:12:55 __main__ DEBUG             layer_idx=44, patched_score=16.546875\n",
      "2025-04-07 17:12:55 __main__ DEBUG             layer_idx=45, patched_score=16.65625\n",
      "2025-04-07 17:12:55 __main__ DEBUG             layer_idx=46, patched_score=16.90625\n",
      "2025-04-07 17:12:55 __main__ DEBUG             layer_idx=47, patched_score=16.96875\n",
      "2025-04-07 17:12:55 __main__ DEBUG    ------------------------------\n"
     ]
    },
    {
     "name": "stderr",
     "output_type": "stream",
     "text": [
      "5it [01:40, 20.24s/it]"
     ]
    },
    {
     "name": "stdout",
     "output_type": "stream",
     "text": [
      "2025-04-07 17:12:55 __main__ INFO     (6/13)  sample['entity_pair']=['Leonardo da Vinci', 'Benjamin Franklin'] <-- George Washington\n",
      "2025-04-07 17:13:01 __main__ INFO     ['Leonardo da Vinci', 'Benjamin Franklin'] >> answer='polymaths.'\n",
      "2025-04-07 17:13:06 __main__ INFO     ('George Washington', 'Benjamin Franklin') >> clean_answer='American politicians.'\n",
      "2025-04-07 17:13:06 __main__ INFO     ['44933( polym)']\n",
      "2025-04-07 17:13:06 __main__ INFO     gold_score=19.671875\n",
      "2025-04-07 17:13:07 __main__ INFO     corrupt_score=11.703125\n",
      "2025-04-07 17:13:07 __main__ DEBUG             layer_idx=0, patched_score=18.625\n",
      "2025-04-07 17:13:07 __main__ DEBUG             layer_idx=1, patched_score=18.625\n",
      "2025-04-07 17:13:07 __main__ DEBUG             layer_idx=2, patched_score=18.625\n",
      "2025-04-07 17:13:07 __main__ DEBUG             layer_idx=3, patched_score=18.609375\n",
      "2025-04-07 17:13:08 __main__ DEBUG             layer_idx=4, patched_score=18.625\n",
      "2025-04-07 17:13:08 __main__ DEBUG             layer_idx=5, patched_score=18.625\n",
      "2025-04-07 17:13:08 __main__ DEBUG             layer_idx=6, patched_score=18.625\n",
      "2025-04-07 17:13:08 __main__ DEBUG             layer_idx=7, patched_score=18.59375\n",
      "2025-04-07 17:13:08 __main__ DEBUG             layer_idx=8, patched_score=18.625\n",
      "2025-04-07 17:13:09 __main__ DEBUG             layer_idx=9, patched_score=18.625\n",
      "2025-04-07 17:13:09 __main__ DEBUG             layer_idx=10, patched_score=18.609375\n",
      "2025-04-07 17:13:09 __main__ DEBUG             layer_idx=11, patched_score=18.625\n",
      "2025-04-07 17:13:09 __main__ DEBUG             layer_idx=12, patched_score=18.578125\n",
      "2025-04-07 17:13:09 __main__ DEBUG             layer_idx=13, patched_score=18.578125\n",
      "2025-04-07 17:13:10 __main__ DEBUG             layer_idx=14, patched_score=18.59375\n",
      "2025-04-07 17:13:10 __main__ DEBUG             layer_idx=15, patched_score=18.609375\n",
      "2025-04-07 17:13:10 __main__ DEBUG             layer_idx=16, patched_score=18.609375\n",
      "2025-04-07 17:13:10 __main__ DEBUG             layer_idx=17, patched_score=18.59375\n",
      "2025-04-07 17:13:10 __main__ DEBUG             layer_idx=18, patched_score=18.609375\n",
      "2025-04-07 17:13:10 __main__ DEBUG             layer_idx=19, patched_score=18.609375\n",
      "2025-04-07 17:13:11 __main__ DEBUG             layer_idx=20, patched_score=18.640625\n",
      "2025-04-07 17:13:11 __main__ DEBUG             layer_idx=21, patched_score=18.59375\n",
      "2025-04-07 17:13:11 __main__ DEBUG             layer_idx=22, patched_score=18.5625\n",
      "2025-04-07 17:13:11 __main__ DEBUG             layer_idx=23, patched_score=18.625\n",
      "2025-04-07 17:13:11 __main__ DEBUG             layer_idx=24, patched_score=18.65625\n",
      "2025-04-07 17:13:12 __main__ DEBUG             layer_idx=25, patched_score=18.625\n",
      "2025-04-07 17:13:12 __main__ DEBUG             layer_idx=26, patched_score=18.671875\n",
      "2025-04-07 17:13:12 __main__ DEBUG             layer_idx=27, patched_score=18.625\n",
      "2025-04-07 17:13:12 __main__ DEBUG             layer_idx=28, patched_score=18.65625\n",
      "2025-04-07 17:13:12 __main__ DEBUG             layer_idx=29, patched_score=18.640625\n",
      "2025-04-07 17:13:12 __main__ DEBUG             layer_idx=30, patched_score=18.609375\n",
      "2025-04-07 17:13:13 __main__ DEBUG             layer_idx=31, patched_score=18.53125\n",
      "2025-04-07 17:13:13 __main__ DEBUG             layer_idx=32, patched_score=18.46875\n",
      "2025-04-07 17:13:13 __main__ DEBUG             layer_idx=33, patched_score=18.515625\n",
      "2025-04-07 17:13:13 __main__ DEBUG             layer_idx=34, patched_score=18.4375\n",
      "2025-04-07 17:13:13 __main__ DEBUG             layer_idx=35, patched_score=17.96875\n",
      "2025-04-07 17:13:14 __main__ DEBUG             layer_idx=36, patched_score=16.859375\n",
      "2025-04-07 17:13:14 __main__ DEBUG             layer_idx=37, patched_score=16.40625\n",
      "2025-04-07 17:13:14 __main__ DEBUG             layer_idx=38, patched_score=16.21875\n",
      "2025-04-07 17:13:14 __main__ DEBUG             layer_idx=39, patched_score=15.5234375\n",
      "2025-04-07 17:13:14 __main__ DEBUG             layer_idx=40, patched_score=15.3359375\n",
      "2025-04-07 17:13:14 __main__ DEBUG             layer_idx=41, patched_score=14.7890625\n",
      "2025-04-07 17:13:15 __main__ DEBUG             layer_idx=42, patched_score=14.15625\n",
      "2025-04-07 17:13:15 __main__ DEBUG             layer_idx=43, patched_score=14.3984375\n",
      "2025-04-07 17:13:15 __main__ DEBUG             layer_idx=44, patched_score=13.5078125\n",
      "2025-04-07 17:13:15 __main__ DEBUG             layer_idx=45, patched_score=13.0078125\n",
      "2025-04-07 17:13:15 __main__ DEBUG             layer_idx=46, patched_score=12.40625\n",
      "2025-04-07 17:13:15 __main__ DEBUG             layer_idx=47, patched_score=12.515625\n",
      "2025-04-07 17:13:15 __main__ DEBUG    ------------------------------\n"
     ]
    },
    {
     "name": "stderr",
     "output_type": "stream",
     "text": [
      "6it [02:01, 20.27s/it]"
     ]
    },
    {
     "name": "stdout",
     "output_type": "stream",
     "text": [
      "2025-04-07 17:13:15 __main__ INFO     (7/13)  sample['entity_pair']=['Toph Beifong', 'Daredevil'] <-- Punisher\n",
      "2025-04-07 17:13:21 __main__ INFO     ['Toph Beifong', 'Daredevil'] >> answer='blind and have superhuman abilities.'\n",
      "2025-04-07 17:13:26 __main__ INFO     ('Punisher', 'Daredevil') >> clean_answer='Marvel comic book characters.'\n",
      "2025-04-07 17:13:26 __main__ INFO     ['18020( blind)', '2256( super)', '17541( abilities)']\n",
      "2025-04-07 17:13:27 __main__ INFO     gold_score=14.8828125\n",
      "2025-04-07 17:13:27 __main__ INFO     corrupt_score=10.4140625\n",
      "2025-04-07 17:13:27 __main__ DEBUG             layer_idx=0, patched_score=13.0\n",
      "2025-04-07 17:13:27 __main__ DEBUG             layer_idx=1, patched_score=13.0234375\n",
      "2025-04-07 17:13:28 __main__ DEBUG             layer_idx=2, patched_score=13.0390625\n",
      "2025-04-07 17:13:28 __main__ DEBUG             layer_idx=3, patched_score=13.0078125\n",
      "2025-04-07 17:13:28 __main__ DEBUG             layer_idx=4, patched_score=13.015625\n",
      "2025-04-07 17:13:28 __main__ DEBUG             layer_idx=5, patched_score=13.015625\n",
      "2025-04-07 17:13:28 __main__ DEBUG             layer_idx=6, patched_score=13.0234375\n",
      "2025-04-07 17:13:29 __main__ DEBUG             layer_idx=7, patched_score=13.0078125\n",
      "2025-04-07 17:13:29 __main__ DEBUG             layer_idx=8, patched_score=13.03125\n",
      "2025-04-07 17:13:29 __main__ DEBUG             layer_idx=9, patched_score=13.046875\n",
      "2025-04-07 17:13:29 __main__ DEBUG             layer_idx=10, patched_score=13.03125\n",
      "2025-04-07 17:13:29 __main__ DEBUG             layer_idx=11, patched_score=13.015625\n",
      "2025-04-07 17:13:29 __main__ DEBUG             layer_idx=12, patched_score=13.0234375\n",
      "2025-04-07 17:13:30 __main__ DEBUG             layer_idx=13, patched_score=13.015625\n",
      "2025-04-07 17:13:30 __main__ DEBUG             layer_idx=14, patched_score=13.0078125\n",
      "2025-04-07 17:13:30 __main__ DEBUG             layer_idx=15, patched_score=13.0\n",
      "2025-04-07 17:13:30 __main__ DEBUG             layer_idx=16, patched_score=13.0078125\n",
      "2025-04-07 17:13:30 __main__ DEBUG             layer_idx=17, patched_score=13.015625\n",
      "2025-04-07 17:13:31 __main__ DEBUG             layer_idx=18, patched_score=12.9765625\n",
      "2025-04-07 17:13:31 __main__ DEBUG             layer_idx=19, patched_score=12.9921875\n",
      "2025-04-07 17:13:31 __main__ DEBUG             layer_idx=20, patched_score=12.9921875\n",
      "2025-04-07 17:13:31 __main__ DEBUG             layer_idx=21, patched_score=13.0\n",
      "2025-04-07 17:13:31 __main__ DEBUG             layer_idx=22, patched_score=13.015625\n",
      "2025-04-07 17:13:31 __main__ DEBUG             layer_idx=23, patched_score=12.953125\n",
      "2025-04-07 17:13:32 __main__ DEBUG             layer_idx=24, patched_score=12.9609375\n",
      "2025-04-07 17:13:32 __main__ DEBUG             layer_idx=25, patched_score=12.96875\n",
      "2025-04-07 17:13:32 __main__ DEBUG             layer_idx=26, patched_score=12.9765625\n",
      "2025-04-07 17:13:32 __main__ DEBUG             layer_idx=27, patched_score=13.0\n",
      "2025-04-07 17:13:32 __main__ DEBUG             layer_idx=28, patched_score=13.0234375\n",
      "2025-04-07 17:13:33 __main__ DEBUG             layer_idx=29, patched_score=13.03125\n",
      "2025-04-07 17:13:33 __main__ DEBUG             layer_idx=30, patched_score=13.03125\n",
      "2025-04-07 17:13:33 __main__ DEBUG             layer_idx=31, patched_score=13.046875\n",
      "2025-04-07 17:13:33 __main__ DEBUG             layer_idx=32, patched_score=13.0234375\n",
      "2025-04-07 17:13:33 __main__ DEBUG             layer_idx=33, patched_score=13.0\n",
      "2025-04-07 17:13:33 __main__ DEBUG             layer_idx=34, patched_score=12.78125\n",
      "2025-04-07 17:13:34 __main__ DEBUG             layer_idx=35, patched_score=12.53125\n",
      "2025-04-07 17:13:34 __main__ DEBUG             layer_idx=36, patched_score=12.375\n",
      "2025-04-07 17:13:34 __main__ DEBUG             layer_idx=37, patched_score=11.8515625\n",
      "2025-04-07 17:13:34 __main__ DEBUG             layer_idx=38, patched_score=11.625\n",
      "2025-04-07 17:13:34 __main__ DEBUG             layer_idx=39, patched_score=11.53125\n",
      "2025-04-07 17:13:34 __main__ DEBUG             layer_idx=40, patched_score=9.984375\n",
      "2025-04-07 17:13:35 __main__ DEBUG             layer_idx=41, patched_score=8.6328125\n",
      "2025-04-07 17:13:35 __main__ DEBUG             layer_idx=42, patched_score=7.52734375\n",
      "2025-04-07 17:13:35 __main__ DEBUG             layer_idx=43, patched_score=7.77734375\n",
      "2025-04-07 17:13:35 __main__ DEBUG             layer_idx=44, patched_score=8.296875\n",
      "2025-04-07 17:13:35 __main__ DEBUG             layer_idx=45, patched_score=8.515625\n",
      "2025-04-07 17:13:36 __main__ DEBUG             layer_idx=46, patched_score=9.09375\n",
      "2025-04-07 17:13:36 __main__ DEBUG             layer_idx=47, patched_score=9.1875\n",
      "2025-04-07 17:13:36 __main__ DEBUG    ------------------------------\n"
     ]
    },
    {
     "name": "stderr",
     "output_type": "stream",
     "text": [
      "7it [02:21, 20.27s/it]"
     ]
    },
    {
     "name": "stdout",
     "output_type": "stream",
     "text": [
      "2025-04-07 17:13:36 __main__ INFO     (8/13)  sample['entity_pair']=['Julius Caesar', 'Nepoleon Bonaparte'] <-- Victor Hugo\n",
      "2025-04-07 17:13:41 __main__ INFO     ['Julius Caesar', 'Nepoleon Bonaparte'] >> answer='military leaders.'\n",
      "2025-04-07 17:13:47 __main__ INFO     ('Victor Hugo', 'Nepoleon Bonaparte') >> clean_answer='French.'\n",
      "2025-04-07 17:13:47 __main__ INFO     ['6277( military)', '6036( leaders)']\n",
      "2025-04-07 17:13:47 __main__ INFO     gold_score=18.578125\n",
      "2025-04-07 17:13:47 __main__ INFO     corrupt_score=14.6953125\n",
      "2025-04-07 17:13:47 __main__ DEBUG             layer_idx=0, patched_score=16.796875\n",
      "2025-04-07 17:13:48 __main__ DEBUG             layer_idx=1, patched_score=16.8125\n",
      "2025-04-07 17:13:48 __main__ DEBUG             layer_idx=2, patched_score=16.796875\n",
      "2025-04-07 17:13:48 __main__ DEBUG             layer_idx=3, patched_score=16.78125\n",
      "2025-04-07 17:13:48 __main__ DEBUG             layer_idx=4, patched_score=16.84375\n",
      "2025-04-07 17:13:48 __main__ DEBUG             layer_idx=5, patched_score=16.78125\n",
      "2025-04-07 17:13:48 __main__ DEBUG             layer_idx=6, patched_score=16.8125\n",
      "2025-04-07 17:13:49 __main__ DEBUG             layer_idx=7, patched_score=16.8125\n",
      "2025-04-07 17:13:49 __main__ DEBUG             layer_idx=8, patched_score=16.8125\n",
      "2025-04-07 17:13:49 __main__ DEBUG             layer_idx=9, patched_score=16.84375\n",
      "2025-04-07 17:13:49 __main__ DEBUG             layer_idx=10, patched_score=16.796875\n",
      "2025-04-07 17:13:49 __main__ DEBUG             layer_idx=11, patched_score=16.859375\n",
      "2025-04-07 17:13:50 __main__ DEBUG             layer_idx=12, patched_score=16.84375\n",
      "2025-04-07 17:13:50 __main__ DEBUG             layer_idx=13, patched_score=16.828125\n",
      "2025-04-07 17:13:50 __main__ DEBUG             layer_idx=14, patched_score=16.828125\n",
      "2025-04-07 17:13:50 __main__ DEBUG             layer_idx=15, patched_score=16.8125\n",
      "2025-04-07 17:13:50 __main__ DEBUG             layer_idx=16, patched_score=16.828125\n",
      "2025-04-07 17:13:51 __main__ DEBUG             layer_idx=17, patched_score=16.8125\n",
      "2025-04-07 17:13:51 __main__ DEBUG             layer_idx=18, patched_score=16.8125\n",
      "2025-04-07 17:13:51 __main__ DEBUG             layer_idx=19, patched_score=16.8125\n",
      "2025-04-07 17:13:51 __main__ DEBUG             layer_idx=20, patched_score=16.828125\n",
      "2025-04-07 17:13:51 __main__ DEBUG             layer_idx=21, patched_score=16.84375\n",
      "2025-04-07 17:13:51 __main__ DEBUG             layer_idx=22, patched_score=16.84375\n",
      "2025-04-07 17:13:52 __main__ DEBUG             layer_idx=23, patched_score=16.8125\n",
      "2025-04-07 17:13:52 __main__ DEBUG             layer_idx=24, patched_score=16.75\n",
      "2025-04-07 17:13:52 __main__ DEBUG             layer_idx=25, patched_score=16.75\n",
      "2025-04-07 17:13:52 __main__ DEBUG             layer_idx=26, patched_score=16.71875\n",
      "2025-04-07 17:13:52 __main__ DEBUG             layer_idx=27, patched_score=16.734375\n",
      "2025-04-07 17:13:53 __main__ DEBUG             layer_idx=28, patched_score=16.65625\n",
      "2025-04-07 17:13:53 __main__ DEBUG             layer_idx=29, patched_score=16.546875\n",
      "2025-04-07 17:13:53 __main__ DEBUG             layer_idx=30, patched_score=16.5\n",
      "2025-04-07 17:13:53 __main__ DEBUG             layer_idx=31, patched_score=16.4375\n",
      "2025-04-07 17:13:53 __main__ DEBUG             layer_idx=32, patched_score=16.46875\n",
      "2025-04-07 17:13:53 __main__ DEBUG             layer_idx=33, patched_score=16.4375\n",
      "2025-04-07 17:13:54 __main__ DEBUG             layer_idx=34, patched_score=16.375\n",
      "2025-04-07 17:13:54 __main__ DEBUG             layer_idx=35, patched_score=16.140625\n",
      "2025-04-07 17:13:54 __main__ DEBUG             layer_idx=36, patched_score=15.765625\n",
      "2025-04-07 17:13:54 __main__ DEBUG             layer_idx=37, patched_score=15.6015625\n",
      "2025-04-07 17:13:54 __main__ DEBUG             layer_idx=38, patched_score=15.015625\n",
      "2025-04-07 17:13:55 __main__ DEBUG             layer_idx=39, patched_score=14.828125\n",
      "2025-04-07 17:13:55 __main__ DEBUG             layer_idx=40, patched_score=14.296875\n",
      "2025-04-07 17:13:55 __main__ DEBUG             layer_idx=41, patched_score=14.3125\n",
      "2025-04-07 17:13:55 __main__ DEBUG             layer_idx=42, patched_score=12.859375\n",
      "2025-04-07 17:13:55 __main__ DEBUG             layer_idx=43, patched_score=12.640625\n",
      "2025-04-07 17:13:55 __main__ DEBUG             layer_idx=44, patched_score=12.15625\n",
      "2025-04-07 17:13:56 __main__ DEBUG             layer_idx=45, patched_score=12.9375\n",
      "2025-04-07 17:13:56 __main__ DEBUG             layer_idx=46, patched_score=12.796875\n",
      "2025-04-07 17:13:56 __main__ DEBUG             layer_idx=47, patched_score=13.7734375\n",
      "2025-04-07 17:13:56 __main__ DEBUG    ------------------------------\n"
     ]
    },
    {
     "name": "stderr",
     "output_type": "stream",
     "text": [
      "8it [02:41, 20.27s/it]"
     ]
    },
    {
     "name": "stdout",
     "output_type": "stream",
     "text": [
      "2025-04-07 17:13:56 __main__ INFO     (9/13)  sample['entity_pair']=['Christopher Columbus', 'Vasco da Gama'] <-- Christiano Ronaldo\n",
      "2025-04-07 17:14:01 __main__ INFO     ['Christopher Columbus', 'Vasco da Gama'] >> answer='explorers.'\n",
      "2025-04-07 17:14:07 __main__ INFO     ('Christiano Ronaldo', 'Vasco da Gama') >> clean_answer='Portuguese.'\n",
      "2025-04-07 17:14:07 __main__ INFO     ['47439( explor)']\n",
      "2025-04-07 17:14:07 __main__ INFO     gold_score=20.671875\n",
      "2025-04-07 17:14:07 __main__ INFO     corrupt_score=12.9453125\n",
      "2025-04-07 17:14:08 __main__ DEBUG             layer_idx=0, patched_score=18.671875\n",
      "2025-04-07 17:14:08 __main__ DEBUG             layer_idx=1, patched_score=18.671875\n",
      "2025-04-07 17:14:08 __main__ DEBUG             layer_idx=2, patched_score=18.671875\n",
      "2025-04-07 17:14:08 __main__ DEBUG             layer_idx=3, patched_score=18.640625\n",
      "2025-04-07 17:14:08 __main__ DEBUG             layer_idx=4, patched_score=18.6875\n",
      "2025-04-07 17:14:09 __main__ DEBUG             layer_idx=5, patched_score=18.65625\n",
      "2025-04-07 17:14:09 __main__ DEBUG             layer_idx=6, patched_score=18.640625\n",
      "2025-04-07 17:14:09 __main__ DEBUG             layer_idx=7, patched_score=18.609375\n",
      "2025-04-07 17:14:09 __main__ DEBUG             layer_idx=8, patched_score=18.65625\n",
      "2025-04-07 17:14:09 __main__ DEBUG             layer_idx=9, patched_score=18.640625\n",
      "2025-04-07 17:14:10 __main__ DEBUG             layer_idx=10, patched_score=18.640625\n",
      "2025-04-07 17:14:10 __main__ DEBUG             layer_idx=11, patched_score=18.671875\n",
      "2025-04-07 17:14:10 __main__ DEBUG             layer_idx=12, patched_score=18.703125\n",
      "2025-04-07 17:14:10 __main__ DEBUG             layer_idx=13, patched_score=18.703125\n",
      "2025-04-07 17:14:10 __main__ DEBUG             layer_idx=14, patched_score=18.671875\n",
      "2025-04-07 17:14:11 __main__ DEBUG             layer_idx=15, patched_score=18.703125\n",
      "2025-04-07 17:14:11 __main__ DEBUG             layer_idx=16, patched_score=18.65625\n",
      "2025-04-07 17:14:11 __main__ DEBUG             layer_idx=17, patched_score=18.671875\n",
      "2025-04-07 17:14:11 __main__ DEBUG             layer_idx=18, patched_score=18.625\n",
      "2025-04-07 17:14:11 __main__ DEBUG             layer_idx=19, patched_score=18.640625\n",
      "2025-04-07 17:14:11 __main__ DEBUG             layer_idx=20, patched_score=18.640625\n",
      "2025-04-07 17:14:12 __main__ DEBUG             layer_idx=21, patched_score=18.6875\n",
      "2025-04-07 17:14:12 __main__ DEBUG             layer_idx=22, patched_score=18.71875\n",
      "2025-04-07 17:14:12 __main__ DEBUG             layer_idx=23, patched_score=18.6875\n",
      "2025-04-07 17:14:12 __main__ DEBUG             layer_idx=24, patched_score=18.734375\n",
      "2025-04-07 17:14:12 __main__ DEBUG             layer_idx=25, patched_score=18.609375\n",
      "2025-04-07 17:14:13 __main__ DEBUG             layer_idx=26, patched_score=18.578125\n",
      "2025-04-07 17:14:13 __main__ DEBUG             layer_idx=27, patched_score=18.546875\n",
      "2025-04-07 17:14:13 __main__ DEBUG             layer_idx=28, patched_score=18.421875\n",
      "2025-04-07 17:14:13 __main__ DEBUG             layer_idx=29, patched_score=18.375\n",
      "2025-04-07 17:14:13 __main__ DEBUG             layer_idx=30, patched_score=18.46875\n",
      "2025-04-07 17:14:13 __main__ DEBUG             layer_idx=31, patched_score=18.515625\n",
      "2025-04-07 17:14:14 __main__ DEBUG             layer_idx=32, patched_score=18.515625\n",
      "2025-04-07 17:14:14 __main__ DEBUG             layer_idx=33, patched_score=18.46875\n",
      "2025-04-07 17:14:14 __main__ DEBUG             layer_idx=34, patched_score=18.46875\n",
      "2025-04-07 17:14:14 __main__ DEBUG             layer_idx=35, patched_score=18.203125\n",
      "2025-04-07 17:14:14 __main__ DEBUG             layer_idx=36, patched_score=18.0\n",
      "2025-04-07 17:14:14 __main__ DEBUG             layer_idx=37, patched_score=15.8203125\n",
      "2025-04-07 17:14:15 __main__ DEBUG             layer_idx=38, patched_score=15.3359375\n",
      "2025-04-07 17:14:15 __main__ DEBUG             layer_idx=39, patched_score=14.8828125\n",
      "2025-04-07 17:14:15 __main__ DEBUG             layer_idx=40, patched_score=12.078125\n",
      "2025-04-07 17:14:15 __main__ DEBUG             layer_idx=41, patched_score=11.5078125\n",
      "2025-04-07 17:14:15 __main__ DEBUG             layer_idx=42, patched_score=11.3515625\n",
      "2025-04-07 17:14:16 __main__ DEBUG             layer_idx=43, patched_score=9.8046875\n",
      "2025-04-07 17:14:16 __main__ DEBUG             layer_idx=44, patched_score=9.3125\n",
      "2025-04-07 17:14:16 __main__ DEBUG             layer_idx=45, patched_score=8.953125\n",
      "2025-04-07 17:14:16 __main__ DEBUG             layer_idx=46, patched_score=8.9765625\n",
      "2025-04-07 17:14:16 __main__ DEBUG             layer_idx=47, patched_score=10.625\n",
      "2025-04-07 17:14:16 __main__ DEBUG    ------------------------------\n"
     ]
    },
    {
     "name": "stderr",
     "output_type": "stream",
     "text": [
      "9it [03:01, 20.27s/it]"
     ]
    },
    {
     "name": "stdout",
     "output_type": "stream",
     "text": [
      "2025-04-07 17:14:16 __main__ INFO     (10/13)  sample['entity_pair']=['Whale', 'Elephant'] <-- Horse\n",
      "2025-04-07 17:14:22 __main__ INFO     ['Whale', 'Elephant'] >> answer='mammals.'\n",
      "2025-04-07 17:14:27 __main__ INFO     ('Horse', 'Elephant') >> clean_answer='used as war animals.'\n",
      "2025-04-07 17:14:27 __main__ INFO     ['55569( mammals)']\n",
      "2025-04-07 17:14:27 __main__ INFO     gold_score=18.640625\n",
      "2025-04-07 17:14:28 __main__ INFO     corrupt_score=15.5703125\n",
      "2025-04-07 17:14:28 __main__ DEBUG             layer_idx=0, patched_score=17.609375\n",
      "2025-04-07 17:14:28 __main__ DEBUG             layer_idx=1, patched_score=17.625\n",
      "2025-04-07 17:14:28 __main__ DEBUG             layer_idx=2, patched_score=17.609375\n",
      "2025-04-07 17:14:29 __main__ DEBUG             layer_idx=3, patched_score=17.625\n",
      "2025-04-07 17:14:29 __main__ DEBUG             layer_idx=4, patched_score=17.625\n",
      "2025-04-07 17:14:29 __main__ DEBUG             layer_idx=5, patched_score=17.640625\n",
      "2025-04-07 17:14:29 __main__ DEBUG             layer_idx=6, patched_score=17.65625\n",
      "2025-04-07 17:14:29 __main__ DEBUG             layer_idx=7, patched_score=17.640625\n",
      "2025-04-07 17:14:30 __main__ DEBUG             layer_idx=8, patched_score=17.65625\n",
      "2025-04-07 17:14:30 __main__ DEBUG             layer_idx=9, patched_score=17.625\n",
      "2025-04-07 17:14:30 __main__ DEBUG             layer_idx=10, patched_score=17.625\n",
      "2025-04-07 17:14:30 __main__ DEBUG             layer_idx=11, patched_score=17.59375\n",
      "2025-04-07 17:14:30 __main__ DEBUG             layer_idx=12, patched_score=17.609375\n",
      "2025-04-07 17:14:30 __main__ DEBUG             layer_idx=13, patched_score=17.609375\n",
      "2025-04-07 17:14:31 __main__ DEBUG             layer_idx=14, patched_score=17.578125\n",
      "2025-04-07 17:14:31 __main__ DEBUG             layer_idx=15, patched_score=17.5625\n",
      "2025-04-07 17:14:31 __main__ DEBUG             layer_idx=16, patched_score=17.578125\n",
      "2025-04-07 17:14:31 __main__ DEBUG             layer_idx=17, patched_score=17.625\n",
      "2025-04-07 17:14:31 __main__ DEBUG             layer_idx=18, patched_score=17.640625\n",
      "2025-04-07 17:14:32 __main__ DEBUG             layer_idx=19, patched_score=17.625\n",
      "2025-04-07 17:14:32 __main__ DEBUG             layer_idx=20, patched_score=17.546875\n",
      "2025-04-07 17:14:32 __main__ DEBUG             layer_idx=21, patched_score=17.5625\n",
      "2025-04-07 17:14:32 __main__ DEBUG             layer_idx=22, patched_score=17.546875\n",
      "2025-04-07 17:14:32 __main__ DEBUG             layer_idx=23, patched_score=17.46875\n",
      "2025-04-07 17:14:33 __main__ DEBUG             layer_idx=24, patched_score=17.546875\n",
      "2025-04-07 17:14:33 __main__ DEBUG             layer_idx=25, patched_score=17.59375\n",
      "2025-04-07 17:14:33 __main__ DEBUG             layer_idx=26, patched_score=17.546875\n",
      "2025-04-07 17:14:33 __main__ DEBUG             layer_idx=27, patched_score=17.59375\n",
      "2025-04-07 17:14:33 __main__ DEBUG             layer_idx=28, patched_score=17.59375\n",
      "2025-04-07 17:14:33 __main__ DEBUG             layer_idx=29, patched_score=17.578125\n",
      "2025-04-07 17:14:34 __main__ DEBUG             layer_idx=30, patched_score=17.671875\n",
      "2025-04-07 17:14:34 __main__ DEBUG             layer_idx=31, patched_score=17.8125\n",
      "2025-04-07 17:14:34 __main__ DEBUG             layer_idx=32, patched_score=17.921875\n",
      "2025-04-07 17:14:34 __main__ DEBUG             layer_idx=33, patched_score=17.84375\n",
      "2025-04-07 17:14:34 __main__ DEBUG             layer_idx=34, patched_score=17.78125\n",
      "2025-04-07 17:14:34 __main__ DEBUG             layer_idx=35, patched_score=17.546875\n",
      "2025-04-07 17:14:35 __main__ DEBUG             layer_idx=36, patched_score=17.296875\n",
      "2025-04-07 17:14:35 __main__ DEBUG             layer_idx=37, patched_score=17.40625\n",
      "2025-04-07 17:14:35 __main__ DEBUG             layer_idx=38, patched_score=17.25\n",
      "2025-04-07 17:14:35 __main__ DEBUG             layer_idx=39, patched_score=16.796875\n",
      "2025-04-07 17:14:35 __main__ DEBUG             layer_idx=40, patched_score=16.3125\n",
      "2025-04-07 17:14:35 __main__ DEBUG             layer_idx=41, patched_score=16.203125\n",
      "2025-04-07 17:14:36 __main__ DEBUG             layer_idx=42, patched_score=15.265625\n",
      "2025-04-07 17:14:36 __main__ DEBUG             layer_idx=43, patched_score=14.7734375\n",
      "2025-04-07 17:14:36 __main__ DEBUG             layer_idx=44, patched_score=14.4296875\n",
      "2025-04-07 17:14:36 __main__ DEBUG             layer_idx=45, patched_score=14.0390625\n",
      "2025-04-07 17:14:36 __main__ DEBUG             layer_idx=46, patched_score=15.2734375\n",
      "2025-04-07 17:14:37 __main__ DEBUG             layer_idx=47, patched_score=15.2578125\n",
      "2025-04-07 17:14:37 __main__ DEBUG    ------------------------------\n"
     ]
    },
    {
     "name": "stderr",
     "output_type": "stream",
     "text": [
      "10it [03:22, 20.28s/it]"
     ]
    },
    {
     "name": "stdout",
     "output_type": "stream",
     "text": [
      "2025-04-07 17:14:37 __main__ INFO     (11/13)  sample['entity_pair']=['jellyfish', 'lobster'] <-- salmon\n",
      "2025-04-07 17:14:42 __main__ INFO     ['jellyfish', 'lobster'] >> answer='eaten by the same person.'\n",
      "2025-04-07 17:14:48 __main__ INFO     ('salmon', 'lobster') >> clean_answer='served at the White House.'\n",
      "2025-04-07 17:14:48 __main__ INFO     ['34561( eaten)', '1697( person)']\n",
      "2025-04-07 17:14:48 __main__ INFO     gold_score=11.625\n",
      "2025-04-07 17:14:48 __main__ INFO     corrupt_score=11.5234375\n",
      "2025-04-07 17:14:48 __main__ DEBUG             layer_idx=0, patched_score=11.796875\n",
      "2025-04-07 17:14:48 __main__ DEBUG             layer_idx=1, patched_score=11.8046875\n",
      "2025-04-07 17:14:49 __main__ DEBUG             layer_idx=2, patched_score=11.8203125\n",
      "2025-04-07 17:14:49 __main__ DEBUG             layer_idx=3, patched_score=11.8125\n",
      "2025-04-07 17:14:49 __main__ DEBUG             layer_idx=4, patched_score=11.8125\n",
      "2025-04-07 17:14:49 __main__ DEBUG             layer_idx=5, patched_score=11.828125\n",
      "2025-04-07 17:14:49 __main__ DEBUG             layer_idx=6, patched_score=11.796875\n",
      "2025-04-07 17:14:50 __main__ DEBUG             layer_idx=7, patched_score=11.796875\n",
      "2025-04-07 17:14:50 __main__ DEBUG             layer_idx=8, patched_score=11.8125\n",
      "2025-04-07 17:14:50 __main__ DEBUG             layer_idx=9, patched_score=11.828125\n",
      "2025-04-07 17:14:50 __main__ DEBUG             layer_idx=10, patched_score=11.796875\n",
      "2025-04-07 17:14:51 __main__ DEBUG             layer_idx=11, patched_score=11.8125\n",
      "2025-04-07 17:14:51 __main__ DEBUG             layer_idx=12, patched_score=11.8046875\n",
      "2025-04-07 17:14:51 __main__ DEBUG             layer_idx=13, patched_score=11.8125\n",
      "2025-04-07 17:14:51 __main__ DEBUG             layer_idx=14, patched_score=11.8125\n",
      "2025-04-07 17:14:51 __main__ DEBUG             layer_idx=15, patched_score=11.8203125\n",
      "2025-04-07 17:14:52 __main__ DEBUG             layer_idx=16, patched_score=11.828125\n",
      "2025-04-07 17:14:52 __main__ DEBUG             layer_idx=17, patched_score=11.828125\n",
      "2025-04-07 17:14:52 __main__ DEBUG             layer_idx=18, patched_score=11.8125\n",
      "2025-04-07 17:14:52 __main__ DEBUG             layer_idx=19, patched_score=11.8203125\n",
      "2025-04-07 17:14:52 __main__ DEBUG             layer_idx=20, patched_score=11.8671875\n",
      "2025-04-07 17:14:52 __main__ DEBUG             layer_idx=21, patched_score=11.84375\n",
      "2025-04-07 17:14:53 __main__ DEBUG             layer_idx=22, patched_score=11.84375\n",
      "2025-04-07 17:14:53 __main__ DEBUG             layer_idx=23, patched_score=11.8671875\n",
      "2025-04-07 17:14:53 __main__ DEBUG             layer_idx=24, patched_score=11.890625\n",
      "2025-04-07 17:14:53 __main__ DEBUG             layer_idx=25, patched_score=11.90625\n",
      "2025-04-07 17:14:53 __main__ DEBUG             layer_idx=26, patched_score=11.9140625\n",
      "2025-04-07 17:14:54 __main__ DEBUG             layer_idx=27, patched_score=11.890625\n",
      "2025-04-07 17:14:54 __main__ DEBUG             layer_idx=28, patched_score=11.8828125\n",
      "2025-04-07 17:14:54 __main__ DEBUG             layer_idx=29, patched_score=11.9140625\n",
      "2025-04-07 17:14:54 __main__ DEBUG             layer_idx=30, patched_score=11.9609375\n",
      "2025-04-07 17:14:54 __main__ DEBUG             layer_idx=31, patched_score=12.015625\n",
      "2025-04-07 17:14:54 __main__ DEBUG             layer_idx=32, patched_score=11.984375\n",
      "2025-04-07 17:14:55 __main__ DEBUG             layer_idx=33, patched_score=11.9765625\n",
      "2025-04-07 17:14:55 __main__ DEBUG             layer_idx=34, patched_score=11.84375\n",
      "2025-04-07 17:14:55 __main__ DEBUG             layer_idx=35, patched_score=11.7421875\n",
      "2025-04-07 17:14:55 __main__ DEBUG             layer_idx=36, patched_score=11.625\n",
      "2025-04-07 17:14:55 __main__ DEBUG             layer_idx=37, patched_score=11.6875\n",
      "2025-04-07 17:14:55 __main__ DEBUG             layer_idx=38, patched_score=11.40625\n",
      "2025-04-07 17:14:56 __main__ DEBUG             layer_idx=39, patched_score=11.4453125\n",
      "2025-04-07 17:14:56 __main__ DEBUG             layer_idx=40, patched_score=11.4921875\n",
      "2025-04-07 17:14:56 __main__ DEBUG             layer_idx=41, patched_score=11.203125\n",
      "2025-04-07 17:14:56 __main__ DEBUG             layer_idx=42, patched_score=10.9765625\n",
      "2025-04-07 17:14:56 __main__ DEBUG             layer_idx=43, patched_score=11.03125\n",
      "2025-04-07 17:14:57 __main__ DEBUG             layer_idx=44, patched_score=11.1484375\n",
      "2025-04-07 17:14:57 __main__ DEBUG             layer_idx=45, patched_score=11.4921875\n",
      "2025-04-07 17:14:57 __main__ DEBUG             layer_idx=46, patched_score=11.6484375\n",
      "2025-04-07 17:14:57 __main__ DEBUG             layer_idx=47, patched_score=11.6875\n",
      "2025-04-07 17:14:57 __main__ DEBUG    ------------------------------\n"
     ]
    },
    {
     "name": "stderr",
     "output_type": "stream",
     "text": [
      "11it [03:42, 20.36s/it]"
     ]
    },
    {
     "name": "stdout",
     "output_type": "stream",
     "text": [
      "2025-04-07 17:14:57 __main__ INFO     (12/13)  sample['entity_pair']=['crocodile', 'shark'] <-- salmon\n",
      "2025-04-07 17:15:02 __main__ INFO     ['crocodile', 'shark'] >> answer='apex predators.'\n",
      "2025-04-07 17:15:08 __main__ INFO     ('salmon', 'shark') >> clean_answer='fish.'\n",
      "2025-04-07 17:15:08 __main__ INFO     ['71527( apex)', '55117( predators)']\n",
      "2025-04-07 17:15:08 __main__ INFO     gold_score=17.375\n",
      "2025-04-07 17:15:09 __main__ INFO     corrupt_score=16.3125\n",
      "2025-04-07 17:15:09 __main__ DEBUG             layer_idx=0, patched_score=16.84375\n",
      "2025-04-07 17:15:09 __main__ DEBUG             layer_idx=1, patched_score=16.84375\n",
      "2025-04-07 17:15:09 __main__ DEBUG             layer_idx=2, patched_score=16.828125\n",
      "2025-04-07 17:15:09 __main__ DEBUG             layer_idx=3, patched_score=16.828125\n",
      "2025-04-07 17:15:10 __main__ DEBUG             layer_idx=4, patched_score=16.859375\n",
      "2025-04-07 17:15:10 __main__ DEBUG             layer_idx=5, patched_score=16.796875\n",
      "2025-04-07 17:15:10 __main__ DEBUG             layer_idx=6, patched_score=16.8125\n",
      "2025-04-07 17:15:10 __main__ DEBUG             layer_idx=7, patched_score=16.875\n",
      "2025-04-07 17:15:10 __main__ DEBUG             layer_idx=8, patched_score=16.84375\n",
      "2025-04-07 17:15:11 __main__ DEBUG             layer_idx=9, patched_score=16.828125\n",
      "2025-04-07 17:15:11 __main__ DEBUG             layer_idx=10, patched_score=16.84375\n",
      "2025-04-07 17:15:11 __main__ DEBUG             layer_idx=11, patched_score=16.84375\n",
      "2025-04-07 17:15:11 __main__ DEBUG             layer_idx=12, patched_score=16.828125\n",
      "2025-04-07 17:15:11 __main__ DEBUG             layer_idx=13, patched_score=16.828125\n",
      "2025-04-07 17:15:12 __main__ DEBUG             layer_idx=14, patched_score=16.8125\n",
      "2025-04-07 17:15:12 __main__ DEBUG             layer_idx=15, patched_score=16.84375\n",
      "2025-04-07 17:15:12 __main__ DEBUG             layer_idx=16, patched_score=16.875\n",
      "2025-04-07 17:15:12 __main__ DEBUG             layer_idx=17, patched_score=16.859375\n",
      "2025-04-07 17:15:12 __main__ DEBUG             layer_idx=18, patched_score=16.875\n",
      "2025-04-07 17:15:12 __main__ DEBUG             layer_idx=19, patched_score=16.859375\n",
      "2025-04-07 17:15:13 __main__ DEBUG             layer_idx=20, patched_score=16.875\n",
      "2025-04-07 17:15:13 __main__ DEBUG             layer_idx=21, patched_score=16.875\n",
      "2025-04-07 17:15:13 __main__ DEBUG             layer_idx=22, patched_score=16.875\n",
      "2025-04-07 17:15:13 __main__ DEBUG             layer_idx=23, patched_score=16.890625\n",
      "2025-04-07 17:15:13 __main__ DEBUG             layer_idx=24, patched_score=16.84375\n",
      "2025-04-07 17:15:14 __main__ DEBUG             layer_idx=25, patched_score=16.84375\n",
      "2025-04-07 17:15:14 __main__ DEBUG             layer_idx=26, patched_score=16.8125\n",
      "2025-04-07 17:15:14 __main__ DEBUG             layer_idx=27, patched_score=16.75\n",
      "2025-04-07 17:15:14 __main__ DEBUG             layer_idx=28, patched_score=16.796875\n",
      "2025-04-07 17:15:14 __main__ DEBUG             layer_idx=29, patched_score=16.765625\n",
      "2025-04-07 17:15:14 __main__ DEBUG             layer_idx=30, patched_score=16.734375\n",
      "2025-04-07 17:15:15 __main__ DEBUG             layer_idx=31, patched_score=16.8125\n",
      "2025-04-07 17:15:15 __main__ DEBUG             layer_idx=32, patched_score=16.90625\n",
      "2025-04-07 17:15:15 __main__ DEBUG             layer_idx=33, patched_score=16.875\n",
      "2025-04-07 17:15:15 __main__ DEBUG             layer_idx=34, patched_score=16.828125\n",
      "2025-04-07 17:15:15 __main__ DEBUG             layer_idx=35, patched_score=16.84375\n",
      "2025-04-07 17:15:16 __main__ DEBUG             layer_idx=36, patched_score=16.625\n",
      "2025-04-07 17:15:16 __main__ DEBUG             layer_idx=37, patched_score=16.578125\n",
      "2025-04-07 17:15:16 __main__ DEBUG             layer_idx=38, patched_score=16.796875\n",
      "2025-04-07 17:15:16 __main__ DEBUG             layer_idx=39, patched_score=16.515625\n",
      "2025-04-07 17:15:16 __main__ DEBUG             layer_idx=40, patched_score=16.6875\n",
      "2025-04-07 17:15:16 __main__ DEBUG             layer_idx=41, patched_score=16.53125\n",
      "2025-04-07 17:15:17 __main__ DEBUG             layer_idx=42, patched_score=16.5625\n",
      "2025-04-07 17:15:17 __main__ DEBUG             layer_idx=43, patched_score=16.25\n",
      "2025-04-07 17:15:17 __main__ DEBUG             layer_idx=44, patched_score=16.21875\n",
      "2025-04-07 17:15:17 __main__ DEBUG             layer_idx=45, patched_score=16.1875\n",
      "2025-04-07 17:15:17 __main__ DEBUG             layer_idx=46, patched_score=16.21875\n",
      "2025-04-07 17:15:17 __main__ DEBUG             layer_idx=47, patched_score=16.328125\n",
      "2025-04-07 17:15:17 __main__ DEBUG    ------------------------------\n"
     ]
    },
    {
     "name": "stderr",
     "output_type": "stream",
     "text": [
      "12it [04:03, 20.37s/it]"
     ]
    },
    {
     "name": "stdout",
     "output_type": "stream",
     "text": [
      "2025-04-07 17:15:17 __main__ INFO     (13/13)  sample['entity_pair']=['spider', 'crab'] <-- lobster\n",
      "2025-04-07 17:15:23 __main__ INFO     ['spider', 'crab'] >> answer='arthropods.'\n",
      "2025-04-07 17:15:29 __main__ INFO     ('lobster', 'crab') >> clean_answer='crustaceans.'\n",
      "2025-04-07 17:15:29 __main__ INFO     ['796( ar)']\n",
      "2025-04-07 17:15:29 __main__ INFO     gold_score=17.515625\n",
      "2025-04-07 17:15:29 __main__ INFO     corrupt_score=16.203125\n",
      "2025-04-07 17:15:29 __main__ DEBUG             layer_idx=0, patched_score=16.875\n",
      "2025-04-07 17:15:29 __main__ DEBUG             layer_idx=1, patched_score=16.859375\n",
      "2025-04-07 17:15:30 __main__ DEBUG             layer_idx=2, patched_score=16.828125\n",
      "2025-04-07 17:15:30 __main__ DEBUG             layer_idx=3, patched_score=16.859375\n",
      "2025-04-07 17:15:30 __main__ DEBUG             layer_idx=4, patched_score=16.875\n",
      "2025-04-07 17:15:30 __main__ DEBUG             layer_idx=5, patched_score=16.859375\n",
      "2025-04-07 17:15:30 __main__ DEBUG             layer_idx=6, patched_score=16.875\n",
      "2025-04-07 17:15:31 __main__ DEBUG             layer_idx=7, patched_score=16.875\n",
      "2025-04-07 17:15:31 __main__ DEBUG             layer_idx=8, patched_score=16.84375\n",
      "2025-04-07 17:15:31 __main__ DEBUG             layer_idx=9, patched_score=16.875\n",
      "2025-04-07 17:15:31 __main__ DEBUG             layer_idx=10, patched_score=16.90625\n",
      "2025-04-07 17:15:31 __main__ DEBUG             layer_idx=11, patched_score=16.90625\n",
      "2025-04-07 17:15:31 __main__ DEBUG             layer_idx=12, patched_score=16.875\n",
      "2025-04-07 17:15:32 __main__ DEBUG             layer_idx=13, patched_score=16.859375\n",
      "2025-04-07 17:15:32 __main__ DEBUG             layer_idx=14, patched_score=16.890625\n",
      "2025-04-07 17:15:32 __main__ DEBUG             layer_idx=15, patched_score=16.875\n",
      "2025-04-07 17:15:32 __main__ DEBUG             layer_idx=16, patched_score=16.90625\n",
      "2025-04-07 17:15:32 __main__ DEBUG             layer_idx=17, patched_score=16.890625\n",
      "2025-04-07 17:15:33 __main__ DEBUG             layer_idx=18, patched_score=16.890625\n",
      "2025-04-07 17:15:33 __main__ DEBUG             layer_idx=19, patched_score=16.890625\n",
      "2025-04-07 17:15:33 __main__ DEBUG             layer_idx=20, patched_score=16.859375\n",
      "2025-04-07 17:15:33 __main__ DEBUG             layer_idx=21, patched_score=16.859375\n",
      "2025-04-07 17:15:33 __main__ DEBUG             layer_idx=22, patched_score=16.921875\n",
      "2025-04-07 17:15:34 __main__ DEBUG             layer_idx=23, patched_score=16.875\n",
      "2025-04-07 17:15:34 __main__ DEBUG             layer_idx=24, patched_score=16.890625\n",
      "2025-04-07 17:15:34 __main__ DEBUG             layer_idx=25, patched_score=16.828125\n",
      "2025-04-07 17:15:34 __main__ DEBUG             layer_idx=26, patched_score=16.921875\n",
      "2025-04-07 17:15:34 __main__ DEBUG             layer_idx=27, patched_score=16.90625\n",
      "2025-04-07 17:15:34 __main__ DEBUG             layer_idx=28, patched_score=17.015625\n",
      "2025-04-07 17:15:35 __main__ DEBUG             layer_idx=29, patched_score=17.03125\n",
      "2025-04-07 17:15:35 __main__ DEBUG             layer_idx=30, patched_score=17.125\n",
      "2025-04-07 17:15:35 __main__ DEBUG             layer_idx=31, patched_score=17.09375\n",
      "2025-04-07 17:15:35 __main__ DEBUG             layer_idx=32, patched_score=17.09375\n",
      "2025-04-07 17:15:35 __main__ DEBUG             layer_idx=33, patched_score=17.109375\n",
      "2025-04-07 17:15:35 __main__ DEBUG             layer_idx=34, patched_score=17.09375\n",
      "2025-04-07 17:15:36 __main__ DEBUG             layer_idx=35, patched_score=17.171875\n",
      "2025-04-07 17:15:36 __main__ DEBUG             layer_idx=36, patched_score=17.109375\n",
      "2025-04-07 17:15:36 __main__ DEBUG             layer_idx=37, patched_score=17.0625\n",
      "2025-04-07 17:15:36 __main__ DEBUG             layer_idx=38, patched_score=16.90625\n",
      "2025-04-07 17:15:36 __main__ DEBUG             layer_idx=39, patched_score=17.078125\n",
      "2025-04-07 17:15:37 __main__ DEBUG             layer_idx=40, patched_score=16.859375\n",
      "2025-04-07 17:15:37 __main__ DEBUG             layer_idx=41, patched_score=17.203125\n",
      "2025-04-07 17:15:37 __main__ DEBUG             layer_idx=42, patched_score=17.140625\n",
      "2025-04-07 17:15:37 __main__ DEBUG             layer_idx=43, patched_score=17.21875\n",
      "2025-04-07 17:15:37 __main__ DEBUG             layer_idx=44, patched_score=17.484375\n",
      "2025-04-07 17:15:37 __main__ DEBUG             layer_idx=45, patched_score=14.875\n",
      "2025-04-07 17:15:38 __main__ DEBUG             layer_idx=46, patched_score=15.03125\n",
      "2025-04-07 17:15:38 __main__ DEBUG             layer_idx=47, patched_score=15.6875\n",
      "2025-04-07 17:15:38 __main__ DEBUG    ------------------------------\n"
     ]
    },
    {
     "name": "stderr",
     "output_type": "stream",
     "text": [
      "13it [04:23, 20.26s/it]\n",
      "0it [00:00, ?it/s]"
     ]
    },
    {
     "name": "stdout",
     "output_type": "stream",
     "text": [
      "2025-04-07 17:15:38 __main__ INFO     (1/13)  sample['entity_pair']=['Germany', 'Japan'] <-- Korea\n",
      "2025-04-07 17:15:43 __main__ INFO     ['Germany', 'Japan'] >> answer='Axis powers in World War II.'\n",
      "2025-04-07 17:15:49 __main__ INFO     ('Korea', 'Japan') >> clean_answer='part of the Japanese Empire.'\n",
      "2025-04-07 17:15:49 __main__ INFO     ['34474( Axis)', '13430( powers)', '4337( World)', '5004( War)', '7946( II)']\n",
      "2025-04-07 17:15:49 __main__ INFO     gold_score=12.6796875\n",
      "2025-04-07 17:15:49 __main__ INFO     corrupt_score=9.96875\n",
      "2025-04-07 17:15:49 __main__ DEBUG             layer_idx=0, patched_score=9.859375\n",
      "2025-04-07 17:15:50 __main__ DEBUG             layer_idx=1, patched_score=9.890625\n",
      "2025-04-07 17:15:50 __main__ DEBUG             layer_idx=2, patched_score=9.9765625\n",
      "2025-04-07 17:15:50 __main__ DEBUG             layer_idx=3, patched_score=9.9453125\n",
      "2025-04-07 17:15:50 __main__ DEBUG             layer_idx=4, patched_score=9.90625\n",
      "2025-04-07 17:15:50 __main__ DEBUG             layer_idx=5, patched_score=9.8828125\n",
      "2025-04-07 17:15:51 __main__ DEBUG             layer_idx=6, patched_score=9.890625\n",
      "2025-04-07 17:15:51 __main__ DEBUG             layer_idx=7, patched_score=9.953125\n",
      "2025-04-07 17:15:51 __main__ DEBUG             layer_idx=8, patched_score=9.953125\n",
      "2025-04-07 17:15:51 __main__ DEBUG             layer_idx=9, patched_score=9.9765625\n",
      "2025-04-07 17:15:51 __main__ DEBUG             layer_idx=10, patched_score=9.8359375\n",
      "2025-04-07 17:15:51 __main__ DEBUG             layer_idx=11, patched_score=9.8125\n",
      "2025-04-07 17:15:52 __main__ DEBUG             layer_idx=12, patched_score=9.8359375\n",
      "2025-04-07 17:15:52 __main__ DEBUG             layer_idx=13, patched_score=9.859375\n",
      "2025-04-07 17:15:52 __main__ DEBUG             layer_idx=14, patched_score=9.9921875\n",
      "2025-04-07 17:15:52 __main__ DEBUG             layer_idx=15, patched_score=9.90625\n",
      "2025-04-07 17:15:52 __main__ DEBUG             layer_idx=16, patched_score=9.8984375\n",
      "2025-04-07 17:15:52 __main__ DEBUG             layer_idx=17, patched_score=10.015625\n",
      "2025-04-07 17:15:53 __main__ DEBUG             layer_idx=18, patched_score=9.859375\n",
      "2025-04-07 17:15:53 __main__ DEBUG             layer_idx=19, patched_score=10.015625\n",
      "2025-04-07 17:15:53 __main__ DEBUG             layer_idx=20, patched_score=9.96875\n",
      "2025-04-07 17:15:53 __main__ DEBUG             layer_idx=21, patched_score=9.953125\n",
      "2025-04-07 17:15:53 __main__ DEBUG             layer_idx=22, patched_score=10.0546875\n",
      "2025-04-07 17:15:54 __main__ DEBUG             layer_idx=23, patched_score=10.28125\n",
      "2025-04-07 17:15:54 __main__ DEBUG             layer_idx=24, patched_score=10.1015625\n",
      "2025-04-07 17:15:54 __main__ DEBUG             layer_idx=25, patched_score=9.84375\n",
      "2025-04-07 17:15:54 __main__ DEBUG             layer_idx=26, patched_score=9.8046875\n",
      "2025-04-07 17:15:54 __main__ DEBUG             layer_idx=27, patched_score=9.765625\n",
      "2025-04-07 17:15:54 __main__ DEBUG             layer_idx=28, patched_score=9.7578125\n",
      "2025-04-07 17:15:55 __main__ DEBUG             layer_idx=29, patched_score=9.71875\n",
      "2025-04-07 17:15:55 __main__ DEBUG             layer_idx=30, patched_score=9.515625\n",
      "2025-04-07 17:15:55 __main__ DEBUG             layer_idx=31, patched_score=9.625\n",
      "2025-04-07 17:15:55 __main__ DEBUG             layer_idx=32, patched_score=9.4609375\n",
      "2025-04-07 17:15:55 __main__ DEBUG             layer_idx=33, patched_score=9.78125\n",
      "2025-04-07 17:15:56 __main__ DEBUG             layer_idx=34, patched_score=9.78125\n",
      "2025-04-07 17:15:56 __main__ DEBUG             layer_idx=35, patched_score=10.265625\n",
      "2025-04-07 17:15:56 __main__ DEBUG             layer_idx=36, patched_score=10.578125\n",
      "2025-04-07 17:15:56 __main__ DEBUG             layer_idx=37, patched_score=11.375\n",
      "2025-04-07 17:15:56 __main__ DEBUG             layer_idx=38, patched_score=11.734375\n",
      "2025-04-07 17:15:57 __main__ DEBUG             layer_idx=39, patched_score=11.8046875\n",
      "2025-04-07 17:15:57 __main__ DEBUG             layer_idx=40, patched_score=11.890625\n",
      "2025-04-07 17:15:57 __main__ DEBUG             layer_idx=41, patched_score=11.8984375\n",
      "2025-04-07 17:15:57 __main__ DEBUG             layer_idx=42, patched_score=11.921875\n",
      "2025-04-07 17:15:57 __main__ DEBUG             layer_idx=43, patched_score=11.9609375\n",
      "2025-04-07 17:15:57 __main__ DEBUG             layer_idx=44, patched_score=12.0703125\n",
      "2025-04-07 17:15:58 __main__ DEBUG             layer_idx=45, patched_score=12.0546875\n",
      "2025-04-07 17:15:58 __main__ DEBUG             layer_idx=46, patched_score=12.109375\n",
      "2025-04-07 17:15:58 __main__ DEBUG             layer_idx=47, patched_score=12.125\n",
      "2025-04-07 17:15:58 __main__ DEBUG    ------------------------------\n"
     ]
    },
    {
     "name": "stderr",
     "output_type": "stream",
     "text": [
      "1it [00:20, 20.32s/it]"
     ]
    },
    {
     "name": "stdout",
     "output_type": "stream",
     "text": [
      "2025-04-07 17:15:58 __main__ INFO     (2/13)  sample['entity_pair']=['Hugh Jackman', 'Ryan Reynolds'] <-- Celine Dion\n",
      "2025-04-07 17:16:04 __main__ INFO     ['Hugh Jackman', 'Ryan Reynolds'] >> answer='actors and friends.'\n",
      "2025-04-07 17:16:09 __main__ INFO     ('Celine Dion', 'Ryan Reynolds') >> clean_answer='married to the same person.'\n",
      "2025-04-07 17:16:09 __main__ INFO     ['19571( actors)', '4780( friends)']\n",
      "2025-04-07 17:16:09 __main__ INFO     gold_score=17.328125\n",
      "2025-04-07 17:16:09 __main__ INFO     corrupt_score=15.515625\n",
      "2025-04-07 17:16:10 __main__ DEBUG             layer_idx=0, patched_score=15.421875\n",
      "2025-04-07 17:16:10 __main__ DEBUG             layer_idx=1, patched_score=15.515625\n",
      "2025-04-07 17:16:10 __main__ DEBUG             layer_idx=2, patched_score=15.546875\n",
      "2025-04-07 17:16:10 __main__ DEBUG             layer_idx=3, patched_score=15.4375\n",
      "2025-04-07 17:16:11 __main__ DEBUG             layer_idx=4, patched_score=15.484375\n",
      "2025-04-07 17:16:11 __main__ DEBUG             layer_idx=5, patched_score=15.5\n",
      "2025-04-07 17:16:11 __main__ DEBUG             layer_idx=6, patched_score=15.4921875\n",
      "2025-04-07 17:16:11 __main__ DEBUG             layer_idx=7, patched_score=15.390625\n",
      "2025-04-07 17:16:11 __main__ DEBUG             layer_idx=8, patched_score=15.5\n",
      "2025-04-07 17:16:11 __main__ DEBUG             layer_idx=9, patched_score=15.515625\n",
      "2025-04-07 17:16:12 __main__ DEBUG             layer_idx=10, patched_score=15.53125\n",
      "2025-04-07 17:16:12 __main__ DEBUG             layer_idx=11, patched_score=15.53125\n",
      "2025-04-07 17:16:12 __main__ DEBUG             layer_idx=12, patched_score=15.453125\n",
      "2025-04-07 17:16:12 __main__ DEBUG             layer_idx=13, patched_score=15.453125\n",
      "2025-04-07 17:16:12 __main__ DEBUG             layer_idx=14, patched_score=15.5390625\n",
      "2025-04-07 17:16:12 __main__ DEBUG             layer_idx=15, patched_score=15.4765625\n",
      "2025-04-07 17:16:13 __main__ DEBUG             layer_idx=16, patched_score=15.4375\n",
      "2025-04-07 17:16:13 __main__ DEBUG             layer_idx=17, patched_score=15.40625\n",
      "2025-04-07 17:16:13 __main__ DEBUG             layer_idx=18, patched_score=15.453125\n",
      "2025-04-07 17:16:13 __main__ DEBUG             layer_idx=19, patched_score=15.3671875\n",
      "2025-04-07 17:16:13 __main__ DEBUG             layer_idx=20, patched_score=15.3828125\n",
      "2025-04-07 17:16:14 __main__ DEBUG             layer_idx=21, patched_score=15.484375\n",
      "2025-04-07 17:16:14 __main__ DEBUG             layer_idx=22, patched_score=15.5\n",
      "2025-04-07 17:16:14 __main__ DEBUG             layer_idx=23, patched_score=15.453125\n",
      "2025-04-07 17:16:14 __main__ DEBUG             layer_idx=24, patched_score=15.65625\n",
      "2025-04-07 17:16:14 __main__ DEBUG             layer_idx=25, patched_score=15.5\n",
      "2025-04-07 17:16:14 __main__ DEBUG             layer_idx=26, patched_score=15.4140625\n",
      "2025-04-07 17:16:15 __main__ DEBUG             layer_idx=27, patched_score=15.328125\n",
      "2025-04-07 17:16:15 __main__ DEBUG             layer_idx=28, patched_score=15.0703125\n",
      "2025-04-07 17:16:15 __main__ DEBUG             layer_idx=29, patched_score=15.359375\n",
      "2025-04-07 17:16:15 __main__ DEBUG             layer_idx=30, patched_score=15.203125\n",
      "2025-04-07 17:16:15 __main__ DEBUG             layer_idx=31, patched_score=15.0703125\n",
      "2025-04-07 17:16:16 __main__ DEBUG             layer_idx=32, patched_score=15.40625\n",
      "2025-04-07 17:16:16 __main__ DEBUG             layer_idx=33, patched_score=15.578125\n",
      "2025-04-07 17:16:16 __main__ DEBUG             layer_idx=34, patched_score=15.78125\n",
      "2025-04-07 17:16:16 __main__ DEBUG             layer_idx=35, patched_score=15.8828125\n",
      "2025-04-07 17:16:16 __main__ DEBUG             layer_idx=36, patched_score=15.84375\n",
      "2025-04-07 17:16:17 __main__ DEBUG             layer_idx=37, patched_score=16.09375\n",
      "2025-04-07 17:16:17 __main__ DEBUG             layer_idx=38, patched_score=16.21875\n",
      "2025-04-07 17:16:17 __main__ DEBUG             layer_idx=39, patched_score=16.515625\n",
      "2025-04-07 17:16:17 __main__ DEBUG             layer_idx=40, patched_score=16.71875\n",
      "2025-04-07 17:16:17 __main__ DEBUG             layer_idx=41, patched_score=16.8125\n",
      "2025-04-07 17:16:17 __main__ DEBUG             layer_idx=42, patched_score=16.765625\n",
      "2025-04-07 17:16:18 __main__ DEBUG             layer_idx=43, patched_score=16.78125\n",
      "2025-04-07 17:16:18 __main__ DEBUG             layer_idx=44, patched_score=16.875\n",
      "2025-04-07 17:16:18 __main__ DEBUG             layer_idx=45, patched_score=16.78125\n",
      "2025-04-07 17:16:18 __main__ DEBUG             layer_idx=46, patched_score=16.90625\n",
      "2025-04-07 17:16:18 __main__ DEBUG             layer_idx=47, patched_score=16.359375\n",
      "2025-04-07 17:16:18 __main__ DEBUG    ------------------------------\n"
     ]
    },
    {
     "name": "stderr",
     "output_type": "stream",
     "text": [
      "2it [00:40, 20.34s/it]"
     ]
    },
    {
     "name": "stdout",
     "output_type": "stream",
     "text": [
      "2025-04-07 17:16:18 __main__ INFO     (3/13)  sample['entity_pair']=['Bhutan', 'Nepal'] <-- India\n",
      "2025-04-07 17:16:24 __main__ INFO     ['Bhutan', 'Nepal'] >> answer='monarchies.'\n",
      "2025-04-07 17:16:29 __main__ INFO     ('India', 'Nepal') >> clean_answer='ruled by the British Empire.'\n",
      "2025-04-07 17:16:29 __main__ INFO     ['62754( monarch)']\n",
      "2025-04-07 17:16:30 __main__ INFO     gold_score=18.71875\n",
      "2025-04-07 17:16:30 __main__ INFO     corrupt_score=15.578125\n",
      "2025-04-07 17:16:30 __main__ DEBUG             layer_idx=0, patched_score=15.375\n",
      "2025-04-07 17:16:30 __main__ DEBUG             layer_idx=1, patched_score=15.359375\n",
      "2025-04-07 17:16:30 __main__ DEBUG             layer_idx=2, patched_score=14.9609375\n",
      "2025-04-07 17:16:31 __main__ DEBUG             layer_idx=3, patched_score=15.328125\n",
      "2025-04-07 17:16:31 __main__ DEBUG             layer_idx=4, patched_score=15.453125\n",
      "2025-04-07 17:16:31 __main__ DEBUG             layer_idx=5, patched_score=15.40625\n",
      "2025-04-07 17:16:31 __main__ DEBUG             layer_idx=6, patched_score=15.1953125\n",
      "2025-04-07 17:16:31 __main__ DEBUG             layer_idx=7, patched_score=15.3046875\n",
      "2025-04-07 17:16:32 __main__ DEBUG             layer_idx=8, patched_score=15.453125\n",
      "2025-04-07 17:16:32 __main__ DEBUG             layer_idx=9, patched_score=15.1953125\n",
      "2025-04-07 17:16:32 __main__ DEBUG             layer_idx=10, patched_score=15.28125\n",
      "2025-04-07 17:16:32 __main__ DEBUG             layer_idx=11, patched_score=15.203125\n",
      "2025-04-07 17:16:32 __main__ DEBUG             layer_idx=12, patched_score=15.421875\n",
      "2025-04-07 17:16:32 __main__ DEBUG             layer_idx=13, patched_score=15.5\n",
      "2025-04-07 17:16:33 __main__ DEBUG             layer_idx=14, patched_score=15.5625\n",
      "2025-04-07 17:16:33 __main__ DEBUG             layer_idx=15, patched_score=15.5234375\n",
      "2025-04-07 17:16:33 __main__ DEBUG             layer_idx=16, patched_score=15.34375\n",
      "2025-04-07 17:16:33 __main__ DEBUG             layer_idx=17, patched_score=15.171875\n",
      "2025-04-07 17:16:33 __main__ DEBUG             layer_idx=18, patched_score=15.0546875\n",
      "2025-04-07 17:16:33 __main__ DEBUG             layer_idx=19, patched_score=15.15625\n",
      "2025-04-07 17:16:34 __main__ DEBUG             layer_idx=20, patched_score=15.078125\n",
      "2025-04-07 17:16:34 __main__ DEBUG             layer_idx=21, patched_score=15.3203125\n",
      "2025-04-07 17:16:34 __main__ DEBUG             layer_idx=22, patched_score=15.0703125\n",
      "2025-04-07 17:16:34 __main__ DEBUG             layer_idx=23, patched_score=15.2109375\n",
      "2025-04-07 17:16:34 __main__ DEBUG             layer_idx=24, patched_score=15.2734375\n",
      "2025-04-07 17:16:35 __main__ DEBUG             layer_idx=25, patched_score=15.2578125\n",
      "2025-04-07 17:16:35 __main__ DEBUG             layer_idx=26, patched_score=15.6015625\n",
      "2025-04-07 17:16:35 __main__ DEBUG             layer_idx=27, patched_score=15.71875\n",
      "2025-04-07 17:16:35 __main__ DEBUG             layer_idx=28, patched_score=16.15625\n",
      "2025-04-07 17:16:35 __main__ DEBUG             layer_idx=29, patched_score=16.140625\n",
      "2025-04-07 17:16:35 __main__ DEBUG             layer_idx=30, patched_score=15.8359375\n",
      "2025-04-07 17:16:36 __main__ DEBUG             layer_idx=31, patched_score=16.078125\n",
      "2025-04-07 17:16:36 __main__ DEBUG             layer_idx=32, patched_score=16.25\n",
      "2025-04-07 17:16:36 __main__ DEBUG             layer_idx=33, patched_score=16.875\n",
      "2025-04-07 17:16:36 __main__ DEBUG             layer_idx=34, patched_score=16.640625\n",
      "2025-04-07 17:16:36 __main__ DEBUG             layer_idx=35, patched_score=18.09375\n",
      "2025-04-07 17:16:37 __main__ DEBUG             layer_idx=36, patched_score=18.34375\n",
      "2025-04-07 17:16:37 __main__ DEBUG             layer_idx=37, patched_score=18.671875\n",
      "2025-04-07 17:16:37 __main__ DEBUG             layer_idx=38, patched_score=18.703125\n",
      "2025-04-07 17:16:37 __main__ DEBUG             layer_idx=39, patched_score=18.765625\n",
      "2025-04-07 17:16:37 __main__ DEBUG             layer_idx=40, patched_score=18.671875\n",
      "2025-04-07 17:16:38 __main__ DEBUG             layer_idx=41, patched_score=18.671875\n",
      "2025-04-07 17:16:38 __main__ DEBUG             layer_idx=42, patched_score=18.46875\n",
      "2025-04-07 17:16:38 __main__ DEBUG             layer_idx=43, patched_score=18.453125\n",
      "2025-04-07 17:16:38 __main__ DEBUG             layer_idx=44, patched_score=18.515625\n",
      "2025-04-07 17:16:38 __main__ DEBUG             layer_idx=45, patched_score=18.0\n",
      "2025-04-07 17:16:38 __main__ DEBUG             layer_idx=46, patched_score=17.53125\n",
      "2025-04-07 17:16:39 __main__ DEBUG             layer_idx=47, patched_score=17.546875\n",
      "2025-04-07 17:16:39 __main__ DEBUG    ------------------------------\n"
     ]
    },
    {
     "name": "stderr",
     "output_type": "stream",
     "text": [
      "3it [01:00, 20.29s/it]"
     ]
    },
    {
     "name": "stdout",
     "output_type": "stream",
     "text": [
      "2025-04-07 17:16:39 __main__ INFO     (4/13)  sample['entity_pair']=['Mount Athos', 'Vatican City'] <-- Italy\n",
      "2025-04-07 17:16:44 __main__ INFO     ['Mount Athos', 'Vatican City'] >> answer='ruled by the Byzantine Empire.'\n",
      "2025-04-07 17:16:50 __main__ INFO     ('Italy', 'Vatican City') >> clean_answer='ruled by the Pope.'\n",
      "2025-04-07 17:16:50 __main__ INFO     ['21286( ruled)', '81660( Byz)', '20448( Empire)']\n",
      "2025-04-07 17:16:50 __main__ INFO     gold_score=11.4453125\n",
      "2025-04-07 17:16:50 __main__ INFO     corrupt_score=11.9375\n",
      "2025-04-07 17:16:50 __main__ DEBUG             layer_idx=0, patched_score=12.0859375\n",
      "2025-04-07 17:16:51 __main__ DEBUG             layer_idx=1, patched_score=12.09375\n",
      "2025-04-07 17:16:51 __main__ DEBUG             layer_idx=2, patched_score=12.09375\n",
      "2025-04-07 17:16:51 __main__ DEBUG             layer_idx=3, patched_score=11.9296875\n",
      "2025-04-07 17:16:51 __main__ DEBUG             layer_idx=4, patched_score=11.9609375\n",
      "2025-04-07 17:16:51 __main__ DEBUG             layer_idx=5, patched_score=12.0625\n",
      "2025-04-07 17:16:51 __main__ DEBUG             layer_idx=6, patched_score=12.078125\n",
      "2025-04-07 17:16:52 __main__ DEBUG             layer_idx=7, patched_score=11.90625\n",
      "2025-04-07 17:16:52 __main__ DEBUG             layer_idx=8, patched_score=12.1328125\n",
      "2025-04-07 17:16:52 __main__ DEBUG             layer_idx=9, patched_score=12.015625\n",
      "2025-04-07 17:16:52 __main__ DEBUG             layer_idx=10, patched_score=11.9921875\n",
      "2025-04-07 17:16:52 __main__ DEBUG             layer_idx=11, patched_score=11.9375\n",
      "2025-04-07 17:16:52 __main__ DEBUG             layer_idx=12, patched_score=12.015625\n",
      "2025-04-07 17:16:53 __main__ DEBUG             layer_idx=13, patched_score=11.984375\n",
      "2025-04-07 17:16:53 __main__ DEBUG             layer_idx=14, patched_score=12.078125\n",
      "2025-04-07 17:16:53 __main__ DEBUG             layer_idx=15, patched_score=11.9375\n",
      "2025-04-07 17:16:53 __main__ DEBUG             layer_idx=16, patched_score=11.8984375\n",
      "2025-04-07 17:16:53 __main__ DEBUG             layer_idx=17, patched_score=12.15625\n",
      "2025-04-07 17:16:54 __main__ DEBUG             layer_idx=18, patched_score=12.109375\n",
      "2025-04-07 17:16:54 __main__ DEBUG             layer_idx=19, patched_score=12.2578125\n",
      "2025-04-07 17:16:54 __main__ DEBUG             layer_idx=20, patched_score=12.359375\n",
      "2025-04-07 17:16:54 __main__ DEBUG             layer_idx=21, patched_score=12.21875\n",
      "2025-04-07 17:16:54 __main__ DEBUG             layer_idx=22, patched_score=12.21875\n",
      "2025-04-07 17:16:54 __main__ DEBUG             layer_idx=23, patched_score=12.0703125\n",
      "2025-04-07 17:16:55 __main__ DEBUG             layer_idx=24, patched_score=12.1640625\n",
      "2025-04-07 17:16:55 __main__ DEBUG             layer_idx=25, patched_score=12.2421875\n",
      "2025-04-07 17:16:55 __main__ DEBUG             layer_idx=26, patched_score=12.3125\n",
      "2025-04-07 17:16:55 __main__ DEBUG             layer_idx=27, patched_score=12.4609375\n",
      "2025-04-07 17:16:55 __main__ DEBUG             layer_idx=28, patched_score=12.3828125\n",
      "2025-04-07 17:16:56 __main__ DEBUG             layer_idx=29, patched_score=13.1015625\n",
      "2025-04-07 17:16:56 __main__ DEBUG             layer_idx=30, patched_score=13.1640625\n",
      "2025-04-07 17:16:56 __main__ DEBUG             layer_idx=31, patched_score=12.6875\n",
      "2025-04-07 17:16:56 __main__ DEBUG             layer_idx=32, patched_score=12.4453125\n",
      "2025-04-07 17:16:56 __main__ DEBUG             layer_idx=33, patched_score=11.9921875\n",
      "2025-04-07 17:16:56 __main__ DEBUG             layer_idx=34, patched_score=11.6953125\n",
      "2025-04-07 17:16:57 __main__ DEBUG             layer_idx=35, patched_score=11.515625\n",
      "2025-04-07 17:16:57 __main__ DEBUG             layer_idx=36, patched_score=12.1640625\n",
      "2025-04-07 17:16:57 __main__ DEBUG             layer_idx=37, patched_score=12.140625\n",
      "2025-04-07 17:16:57 __main__ DEBUG             layer_idx=38, patched_score=12.09375\n",
      "2025-04-07 17:16:57 __main__ DEBUG             layer_idx=39, patched_score=11.8515625\n",
      "2025-04-07 17:16:58 __main__ DEBUG             layer_idx=40, patched_score=11.90625\n",
      "2025-04-07 17:16:58 __main__ DEBUG             layer_idx=41, patched_score=11.796875\n",
      "2025-04-07 17:16:58 __main__ DEBUG             layer_idx=42, patched_score=11.9140625\n",
      "2025-04-07 17:16:58 __main__ DEBUG             layer_idx=43, patched_score=11.96875\n",
      "2025-04-07 17:16:58 __main__ DEBUG             layer_idx=44, patched_score=11.8515625\n",
      "2025-04-07 17:16:59 __main__ DEBUG             layer_idx=45, patched_score=11.8046875\n",
      "2025-04-07 17:16:59 __main__ DEBUG             layer_idx=46, patched_score=11.6484375\n",
      "2025-04-07 17:16:59 __main__ DEBUG             layer_idx=47, patched_score=11.703125\n",
      "2025-04-07 17:16:59 __main__ DEBUG    ------------------------------\n"
     ]
    },
    {
     "name": "stderr",
     "output_type": "stream",
     "text": [
      "4it [01:21, 20.27s/it]"
     ]
    },
    {
     "name": "stdout",
     "output_type": "stream",
     "text": [
      "2025-04-07 17:16:59 __main__ INFO     (5/13)  sample['entity_pair']=['Dead Sea Scrolls', 'Rosetta Stone'] <-- Pyramid of Giza\n",
      "2025-04-07 17:17:04 __main__ INFO     ['Dead Sea Scrolls', 'Rosetta Stone'] >> answer='important historical artifacts.'\n",
      "2025-04-07 17:17:10 __main__ INFO     ('Pyramid of Giza', 'Rosetta Stone') >> clean_answer='located in Egypt.'\n",
      "2025-04-07 17:17:10 __main__ INFO     ['2989( important)', '13656( historical)', '35036( artifacts)']\n",
      "2025-04-07 17:17:10 __main__ INFO     gold_score=17.75\n",
      "2025-04-07 17:17:10 __main__ INFO     corrupt_score=17.9375\n",
      "2025-04-07 17:17:10 __main__ DEBUG             layer_idx=0, patched_score=18.0\n",
      "2025-04-07 17:17:10 __main__ DEBUG             layer_idx=1, patched_score=17.828125\n",
      "2025-04-07 17:17:11 __main__ DEBUG             layer_idx=2, patched_score=17.765625\n",
      "2025-04-07 17:17:11 __main__ DEBUG             layer_idx=3, patched_score=17.796875\n",
      "2025-04-07 17:17:11 __main__ DEBUG             layer_idx=4, patched_score=17.890625\n",
      "2025-04-07 17:17:11 __main__ DEBUG             layer_idx=5, patched_score=17.84375\n",
      "2025-04-07 17:17:11 __main__ DEBUG             layer_idx=6, patched_score=17.953125\n",
      "2025-04-07 17:17:11 __main__ DEBUG             layer_idx=7, patched_score=17.875\n",
      "2025-04-07 17:17:12 __main__ DEBUG             layer_idx=8, patched_score=17.84375\n",
      "2025-04-07 17:17:12 __main__ DEBUG             layer_idx=9, patched_score=17.875\n",
      "2025-04-07 17:17:12 __main__ DEBUG             layer_idx=10, patched_score=17.90625\n",
      "2025-04-07 17:17:12 __main__ DEBUG             layer_idx=11, patched_score=17.984375\n",
      "2025-04-07 17:17:12 __main__ DEBUG             layer_idx=12, patched_score=17.90625\n",
      "2025-04-07 17:17:12 __main__ DEBUG             layer_idx=13, patched_score=17.875\n",
      "2025-04-07 17:17:13 __main__ DEBUG             layer_idx=14, patched_score=17.828125\n",
      "2025-04-07 17:17:13 __main__ DEBUG             layer_idx=15, patched_score=17.90625\n",
      "2025-04-07 17:17:13 __main__ DEBUG             layer_idx=16, patched_score=17.9375\n",
      "2025-04-07 17:17:13 __main__ DEBUG             layer_idx=17, patched_score=18.015625\n",
      "2025-04-07 17:17:13 __main__ DEBUG             layer_idx=18, patched_score=18.046875\n",
      "2025-04-07 17:17:13 __main__ DEBUG             layer_idx=19, patched_score=17.953125\n",
      "2025-04-07 17:17:14 __main__ DEBUG             layer_idx=20, patched_score=17.9375\n",
      "2025-04-07 17:17:14 __main__ DEBUG             layer_idx=21, patched_score=18.09375\n",
      "2025-04-07 17:17:14 __main__ DEBUG             layer_idx=22, patched_score=17.796875\n",
      "2025-04-07 17:17:14 __main__ DEBUG             layer_idx=23, patched_score=17.859375\n",
      "2025-04-07 17:17:14 __main__ DEBUG             layer_idx=24, patched_score=17.921875\n",
      "2025-04-07 17:17:15 __main__ DEBUG             layer_idx=25, patched_score=17.921875\n",
      "2025-04-07 17:17:15 __main__ DEBUG             layer_idx=26, patched_score=18.046875\n",
      "2025-04-07 17:17:15 __main__ DEBUG             layer_idx=27, patched_score=17.84375\n",
      "2025-04-07 17:17:15 __main__ DEBUG             layer_idx=28, patched_score=17.828125\n",
      "2025-04-07 17:17:15 __main__ DEBUG             layer_idx=29, patched_score=17.5625\n",
      "2025-04-07 17:17:15 __main__ DEBUG             layer_idx=30, patched_score=17.546875\n",
      "2025-04-07 17:17:16 __main__ DEBUG             layer_idx=31, patched_score=17.546875\n",
      "2025-04-07 17:17:16 __main__ DEBUG             layer_idx=32, patched_score=17.546875\n",
      "2025-04-07 17:17:16 __main__ DEBUG             layer_idx=33, patched_score=17.609375\n",
      "2025-04-07 17:17:16 __main__ DEBUG             layer_idx=34, patched_score=17.796875\n",
      "2025-04-07 17:17:16 __main__ DEBUG             layer_idx=35, patched_score=17.796875\n",
      "2025-04-07 17:17:17 __main__ DEBUG             layer_idx=36, patched_score=17.9375\n",
      "2025-04-07 17:17:17 __main__ DEBUG             layer_idx=37, patched_score=17.890625\n",
      "2025-04-07 17:17:17 __main__ DEBUG             layer_idx=38, patched_score=17.9375\n",
      "2025-04-07 17:17:17 __main__ DEBUG             layer_idx=39, patched_score=18.015625\n",
      "2025-04-07 17:17:17 __main__ DEBUG             layer_idx=40, patched_score=18.0\n",
      "2025-04-07 17:17:17 __main__ DEBUG             layer_idx=41, patched_score=17.90625\n",
      "2025-04-07 17:17:18 __main__ DEBUG             layer_idx=42, patched_score=17.921875\n",
      "2025-04-07 17:17:18 __main__ DEBUG             layer_idx=43, patched_score=17.9375\n",
      "2025-04-07 17:17:18 __main__ DEBUG             layer_idx=44, patched_score=17.84375\n",
      "2025-04-07 17:17:18 __main__ DEBUG             layer_idx=45, patched_score=17.828125\n",
      "2025-04-07 17:17:18 __main__ DEBUG             layer_idx=46, patched_score=17.859375\n",
      "2025-04-07 17:17:19 __main__ DEBUG             layer_idx=47, patched_score=17.46875\n",
      "2025-04-07 17:17:19 __main__ DEBUG    ------------------------------\n"
     ]
    },
    {
     "name": "stderr",
     "output_type": "stream",
     "text": [
      "5it [01:40, 20.08s/it]"
     ]
    },
    {
     "name": "stdout",
     "output_type": "stream",
     "text": [
      "2025-04-07 17:17:19 __main__ INFO     (6/13)  sample['entity_pair']=['Leonardo da Vinci', 'Benjamin Franklin'] <-- George Washington\n",
      "2025-04-07 17:17:24 __main__ INFO     ['Leonardo da Vinci', 'Benjamin Franklin'] >> answer='polymaths.'\n",
      "2025-04-07 17:17:29 __main__ INFO     ('George Washington', 'Benjamin Franklin') >> clean_answer='American politicians.'\n",
      "2025-04-07 17:17:29 __main__ INFO     ['44933( polym)']\n",
      "2025-04-07 17:17:30 __main__ INFO     gold_score=19.671875\n",
      "2025-04-07 17:17:30 __main__ INFO     corrupt_score=11.703125\n",
      "2025-04-07 17:17:30 __main__ DEBUG             layer_idx=0, patched_score=11.640625\n",
      "2025-04-07 17:17:30 __main__ DEBUG             layer_idx=1, patched_score=11.7265625\n",
      "2025-04-07 17:17:30 __main__ DEBUG             layer_idx=2, patched_score=11.796875\n",
      "2025-04-07 17:17:31 __main__ DEBUG             layer_idx=3, patched_score=11.7421875\n",
      "2025-04-07 17:17:31 __main__ DEBUG             layer_idx=4, patched_score=11.703125\n",
      "2025-04-07 17:17:31 __main__ DEBUG             layer_idx=5, patched_score=11.78125\n",
      "2025-04-07 17:17:31 __main__ DEBUG             layer_idx=6, patched_score=11.8046875\n",
      "2025-04-07 17:17:31 __main__ DEBUG             layer_idx=7, patched_score=11.7421875\n",
      "2025-04-07 17:17:31 __main__ DEBUG             layer_idx=8, patched_score=11.734375\n",
      "2025-04-07 17:17:32 __main__ DEBUG             layer_idx=9, patched_score=11.796875\n",
      "2025-04-07 17:17:32 __main__ DEBUG             layer_idx=10, patched_score=11.859375\n",
      "2025-04-07 17:17:32 __main__ DEBUG             layer_idx=11, patched_score=11.6953125\n",
      "2025-04-07 17:17:32 __main__ DEBUG             layer_idx=12, patched_score=11.7109375\n",
      "2025-04-07 17:17:32 __main__ DEBUG             layer_idx=13, patched_score=11.6875\n",
      "2025-04-07 17:17:32 __main__ DEBUG             layer_idx=14, patched_score=11.7421875\n",
      "2025-04-07 17:17:33 __main__ DEBUG             layer_idx=15, patched_score=11.640625\n",
      "2025-04-07 17:17:33 __main__ DEBUG             layer_idx=16, patched_score=11.6875\n",
      "2025-04-07 17:17:33 __main__ DEBUG             layer_idx=17, patched_score=11.6640625\n",
      "2025-04-07 17:17:33 __main__ DEBUG             layer_idx=18, patched_score=11.6953125\n",
      "2025-04-07 17:17:33 __main__ DEBUG             layer_idx=19, patched_score=11.796875\n",
      "2025-04-07 17:17:33 __main__ DEBUG             layer_idx=20, patched_score=11.7421875\n",
      "2025-04-07 17:17:34 __main__ DEBUG             layer_idx=21, patched_score=11.453125\n",
      "2025-04-07 17:17:34 __main__ DEBUG             layer_idx=22, patched_score=11.5859375\n",
      "2025-04-07 17:17:34 __main__ DEBUG             layer_idx=23, patched_score=11.984375\n",
      "2025-04-07 17:17:34 __main__ DEBUG             layer_idx=24, patched_score=12.078125\n",
      "2025-04-07 17:17:34 __main__ DEBUG             layer_idx=25, patched_score=12.15625\n",
      "2025-04-07 17:17:35 __main__ DEBUG             layer_idx=26, patched_score=12.1796875\n",
      "2025-04-07 17:17:35 __main__ DEBUG             layer_idx=27, patched_score=12.1484375\n",
      "2025-04-07 17:17:35 __main__ DEBUG             layer_idx=28, patched_score=12.21875\n",
      "2025-04-07 17:17:35 __main__ DEBUG             layer_idx=29, patched_score=11.953125\n",
      "2025-04-07 17:17:35 __main__ DEBUG             layer_idx=30, patched_score=12.3828125\n",
      "2025-04-07 17:17:35 __main__ DEBUG             layer_idx=31, patched_score=12.7890625\n",
      "2025-04-07 17:17:36 __main__ DEBUG             layer_idx=32, patched_score=13.1953125\n",
      "2025-04-07 17:17:36 __main__ DEBUG             layer_idx=33, patched_score=13.84375\n",
      "2025-04-07 17:17:36 __main__ DEBUG             layer_idx=34, patched_score=14.59375\n",
      "2025-04-07 17:17:36 __main__ DEBUG             layer_idx=35, patched_score=16.078125\n",
      "2025-04-07 17:17:36 __main__ DEBUG             layer_idx=36, patched_score=16.453125\n",
      "2025-04-07 17:17:37 __main__ DEBUG             layer_idx=37, patched_score=16.625\n",
      "2025-04-07 17:17:37 __main__ DEBUG             layer_idx=38, patched_score=17.109375\n",
      "2025-04-07 17:17:37 __main__ DEBUG             layer_idx=39, patched_score=17.21875\n",
      "2025-04-07 17:17:37 __main__ DEBUG             layer_idx=40, patched_score=17.25\n",
      "2025-04-07 17:17:37 __main__ DEBUG             layer_idx=41, patched_score=17.484375\n",
      "2025-04-07 17:17:37 __main__ DEBUG             layer_idx=42, patched_score=17.46875\n",
      "2025-04-07 17:17:38 __main__ DEBUG             layer_idx=43, patched_score=17.796875\n",
      "2025-04-07 17:17:38 __main__ DEBUG             layer_idx=44, patched_score=17.78125\n",
      "2025-04-07 17:17:38 __main__ DEBUG             layer_idx=45, patched_score=18.1875\n",
      "2025-04-07 17:17:38 __main__ DEBUG             layer_idx=46, patched_score=18.171875\n",
      "2025-04-07 17:17:38 __main__ DEBUG             layer_idx=47, patched_score=18.625\n",
      "2025-04-07 17:17:38 __main__ DEBUG    ------------------------------\n"
     ]
    },
    {
     "name": "stderr",
     "output_type": "stream",
     "text": [
      "6it [02:00, 19.98s/it]"
     ]
    },
    {
     "name": "stdout",
     "output_type": "stream",
     "text": [
      "2025-04-07 17:17:38 __main__ INFO     (7/13)  sample['entity_pair']=['Toph Beifong', 'Daredevil'] <-- Punisher\n",
      "2025-04-07 17:17:44 __main__ INFO     ['Toph Beifong', 'Daredevil'] >> answer='blind and have superhuman abilities.'\n",
      "2025-04-07 17:17:49 __main__ INFO     ('Punisher', 'Daredevil') >> clean_answer='Marvel comic book characters.'\n",
      "2025-04-07 17:17:49 __main__ INFO     ['18020( blind)', '2256( super)', '17541( abilities)']\n",
      "2025-04-07 17:17:49 __main__ INFO     gold_score=14.8828125\n",
      "2025-04-07 17:17:50 __main__ INFO     corrupt_score=10.4140625\n",
      "2025-04-07 17:17:50 __main__ DEBUG             layer_idx=0, patched_score=10.375\n",
      "2025-04-07 17:17:50 __main__ DEBUG             layer_idx=1, patched_score=10.34375\n",
      "2025-04-07 17:17:50 __main__ DEBUG             layer_idx=2, patched_score=10.3671875\n",
      "2025-04-07 17:17:50 __main__ DEBUG             layer_idx=3, patched_score=10.3515625\n",
      "2025-04-07 17:17:51 __main__ DEBUG             layer_idx=4, patched_score=10.390625\n",
      "2025-04-07 17:17:51 __main__ DEBUG             layer_idx=5, patched_score=10.3671875\n",
      "2025-04-07 17:17:51 __main__ DEBUG             layer_idx=6, patched_score=10.3046875\n",
      "2025-04-07 17:17:51 __main__ DEBUG             layer_idx=7, patched_score=10.3359375\n",
      "2025-04-07 17:17:51 __main__ DEBUG             layer_idx=8, patched_score=10.5\n",
      "2025-04-07 17:17:51 __main__ DEBUG             layer_idx=9, patched_score=10.3359375\n",
      "2025-04-07 17:17:52 __main__ DEBUG             layer_idx=10, patched_score=10.4453125\n",
      "2025-04-07 17:17:52 __main__ DEBUG             layer_idx=11, patched_score=10.390625\n",
      "2025-04-07 17:17:52 __main__ DEBUG             layer_idx=12, patched_score=10.3515625\n",
      "2025-04-07 17:17:52 __main__ DEBUG             layer_idx=13, patched_score=10.2578125\n",
      "2025-04-07 17:17:52 __main__ DEBUG             layer_idx=14, patched_score=10.359375\n",
      "2025-04-07 17:17:52 __main__ DEBUG             layer_idx=15, patched_score=10.4453125\n",
      "2025-04-07 17:17:53 __main__ DEBUG             layer_idx=16, patched_score=10.4140625\n",
      "2025-04-07 17:17:53 __main__ DEBUG             layer_idx=17, patched_score=10.453125\n",
      "2025-04-07 17:17:53 __main__ DEBUG             layer_idx=18, patched_score=10.4609375\n",
      "2025-04-07 17:17:53 __main__ DEBUG             layer_idx=19, patched_score=10.390625\n",
      "2025-04-07 17:17:53 __main__ DEBUG             layer_idx=20, patched_score=10.265625\n",
      "2025-04-07 17:17:54 __main__ DEBUG             layer_idx=21, patched_score=10.34375\n",
      "2025-04-07 17:17:54 __main__ DEBUG             layer_idx=22, patched_score=10.453125\n",
      "2025-04-07 17:17:54 __main__ DEBUG             layer_idx=23, patched_score=10.3984375\n",
      "2025-04-07 17:17:54 __main__ DEBUG             layer_idx=24, patched_score=10.328125\n",
      "2025-04-07 17:17:54 __main__ DEBUG             layer_idx=25, patched_score=10.390625\n",
      "2025-04-07 17:17:54 __main__ DEBUG             layer_idx=26, patched_score=10.25\n",
      "2025-04-07 17:17:55 __main__ DEBUG             layer_idx=27, patched_score=10.2578125\n",
      "2025-04-07 17:17:55 __main__ DEBUG             layer_idx=28, patched_score=10.296875\n",
      "2025-04-07 17:17:55 __main__ DEBUG             layer_idx=29, patched_score=10.2265625\n",
      "2025-04-07 17:17:55 __main__ DEBUG             layer_idx=30, patched_score=10.296875\n",
      "2025-04-07 17:17:55 __main__ DEBUG             layer_idx=31, patched_score=10.0078125\n",
      "2025-04-07 17:17:56 __main__ DEBUG             layer_idx=32, patched_score=10.1953125\n",
      "2025-04-07 17:17:56 __main__ DEBUG             layer_idx=33, patched_score=11.453125\n",
      "2025-04-07 17:17:56 __main__ DEBUG             layer_idx=34, patched_score=12.0\n",
      "2025-04-07 17:17:56 __main__ DEBUG             layer_idx=35, patched_score=12.4375\n",
      "2025-04-07 17:17:56 __main__ DEBUG             layer_idx=36, patched_score=13.125\n",
      "2025-04-07 17:17:56 __main__ DEBUG             layer_idx=37, patched_score=13.078125\n",
      "2025-04-07 17:17:57 __main__ DEBUG             layer_idx=38, patched_score=13.1875\n",
      "2025-04-07 17:17:57 __main__ DEBUG             layer_idx=39, patched_score=13.5859375\n",
      "2025-04-07 17:17:57 __main__ DEBUG             layer_idx=40, patched_score=13.9765625\n",
      "2025-04-07 17:17:57 __main__ DEBUG             layer_idx=41, patched_score=13.8203125\n",
      "2025-04-07 17:17:57 __main__ DEBUG             layer_idx=42, patched_score=13.890625\n",
      "2025-04-07 17:17:58 __main__ DEBUG             layer_idx=43, patched_score=13.6640625\n",
      "2025-04-07 17:17:58 __main__ DEBUG             layer_idx=44, patched_score=13.7421875\n",
      "2025-04-07 17:17:58 __main__ DEBUG             layer_idx=45, patched_score=13.7265625\n",
      "2025-04-07 17:17:58 __main__ DEBUG             layer_idx=46, patched_score=13.59375\n",
      "2025-04-07 17:17:58 __main__ DEBUG             layer_idx=47, patched_score=13.0\n",
      "2025-04-07 17:17:58 __main__ DEBUG    ------------------------------\n"
     ]
    },
    {
     "name": "stderr",
     "output_type": "stream",
     "text": [
      "7it [02:20, 19.96s/it]"
     ]
    },
    {
     "name": "stdout",
     "output_type": "stream",
     "text": [
      "2025-04-07 17:17:58 __main__ INFO     (8/13)  sample['entity_pair']=['Julius Caesar', 'Nepoleon Bonaparte'] <-- Victor Hugo\n",
      "2025-04-07 17:18:04 __main__ INFO     ['Julius Caesar', 'Nepoleon Bonaparte'] >> answer='military leaders.'\n",
      "2025-04-07 17:18:09 __main__ INFO     ('Victor Hugo', 'Nepoleon Bonaparte') >> clean_answer='French.'\n",
      "2025-04-07 17:18:09 __main__ INFO     ['6277( military)', '6036( leaders)']\n",
      "2025-04-07 17:18:09 __main__ INFO     gold_score=18.578125\n",
      "2025-04-07 17:18:09 __main__ INFO     corrupt_score=14.6953125\n",
      "2025-04-07 17:18:10 __main__ DEBUG             layer_idx=0, patched_score=14.59375\n",
      "2025-04-07 17:18:10 __main__ DEBUG             layer_idx=1, patched_score=14.625\n",
      "2025-04-07 17:18:10 __main__ DEBUG             layer_idx=2, patched_score=14.640625\n",
      "2025-04-07 17:18:10 __main__ DEBUG             layer_idx=3, patched_score=14.859375\n",
      "2025-04-07 17:18:10 __main__ DEBUG             layer_idx=4, patched_score=14.609375\n",
      "2025-04-07 17:18:11 __main__ DEBUG             layer_idx=5, patched_score=14.640625\n",
      "2025-04-07 17:18:11 __main__ DEBUG             layer_idx=6, patched_score=14.5625\n",
      "2025-04-07 17:18:11 __main__ DEBUG             layer_idx=7, patched_score=14.671875\n",
      "2025-04-07 17:18:11 __main__ DEBUG             layer_idx=8, patched_score=14.703125\n",
      "2025-04-07 17:18:11 __main__ DEBUG             layer_idx=9, patched_score=14.65625\n",
      "2025-04-07 17:18:11 __main__ DEBUG             layer_idx=10, patched_score=14.765625\n",
      "2025-04-07 17:18:12 __main__ DEBUG             layer_idx=11, patched_score=14.625\n",
      "2025-04-07 17:18:12 __main__ DEBUG             layer_idx=12, patched_score=14.59375\n",
      "2025-04-07 17:18:12 __main__ DEBUG             layer_idx=13, patched_score=14.734375\n",
      "2025-04-07 17:18:12 __main__ DEBUG             layer_idx=14, patched_score=14.7265625\n",
      "2025-04-07 17:18:12 __main__ DEBUG             layer_idx=15, patched_score=14.7265625\n",
      "2025-04-07 17:18:13 __main__ DEBUG             layer_idx=16, patched_score=14.5625\n",
      "2025-04-07 17:18:13 __main__ DEBUG             layer_idx=17, patched_score=14.578125\n",
      "2025-04-07 17:18:13 __main__ DEBUG             layer_idx=18, patched_score=14.5859375\n",
      "2025-04-07 17:18:13 __main__ DEBUG             layer_idx=19, patched_score=14.4921875\n",
      "2025-04-07 17:18:13 __main__ DEBUG             layer_idx=20, patched_score=14.734375\n",
      "2025-04-07 17:18:13 __main__ DEBUG             layer_idx=21, patched_score=14.796875\n",
      "2025-04-07 17:18:14 __main__ DEBUG             layer_idx=22, patched_score=14.640625\n",
      "2025-04-07 17:18:14 __main__ DEBUG             layer_idx=23, patched_score=14.578125\n",
      "2025-04-07 17:18:14 __main__ DEBUG             layer_idx=24, patched_score=14.765625\n",
      "2025-04-07 17:18:14 __main__ DEBUG             layer_idx=25, patched_score=14.671875\n",
      "2025-04-07 17:18:14 __main__ DEBUG             layer_idx=26, patched_score=14.5078125\n",
      "2025-04-07 17:18:14 __main__ DEBUG             layer_idx=27, patched_score=14.453125\n",
      "2025-04-07 17:18:15 __main__ DEBUG             layer_idx=28, patched_score=14.859375\n",
      "2025-04-07 17:18:15 __main__ DEBUG             layer_idx=29, patched_score=14.625\n",
      "2025-04-07 17:18:15 __main__ DEBUG             layer_idx=30, patched_score=14.640625\n",
      "2025-04-07 17:18:15 __main__ DEBUG             layer_idx=31, patched_score=14.859375\n",
      "2025-04-07 17:18:15 __main__ DEBUG             layer_idx=32, patched_score=15.3125\n",
      "2025-04-07 17:18:16 __main__ DEBUG             layer_idx=33, patched_score=16.03125\n",
      "2025-04-07 17:18:16 __main__ DEBUG             layer_idx=34, patched_score=16.59375\n",
      "2025-04-07 17:18:16 __main__ DEBUG             layer_idx=35, patched_score=17.25\n",
      "2025-04-07 17:18:16 __main__ DEBUG             layer_idx=36, patched_score=17.453125\n",
      "2025-04-07 17:18:16 __main__ DEBUG             layer_idx=37, patched_score=17.859375\n",
      "2025-04-07 17:18:16 __main__ DEBUG             layer_idx=38, patched_score=17.875\n",
      "2025-04-07 17:18:17 __main__ DEBUG             layer_idx=39, patched_score=17.9375\n",
      "2025-04-07 17:18:17 __main__ DEBUG             layer_idx=40, patched_score=17.96875\n",
      "2025-04-07 17:18:17 __main__ DEBUG             layer_idx=41, patched_score=18.09375\n",
      "2025-04-07 17:18:17 __main__ DEBUG             layer_idx=42, patched_score=18.140625\n",
      "2025-04-07 17:18:17 __main__ DEBUG             layer_idx=43, patched_score=18.125\n",
      "2025-04-07 17:18:18 __main__ DEBUG             layer_idx=44, patched_score=17.765625\n",
      "2025-04-07 17:18:18 __main__ DEBUG             layer_idx=45, patched_score=17.65625\n",
      "2025-04-07 17:18:18 __main__ DEBUG             layer_idx=46, patched_score=17.0\n",
      "2025-04-07 17:18:18 __main__ DEBUG             layer_idx=47, patched_score=16.796875\n",
      "2025-04-07 17:18:18 __main__ DEBUG    ------------------------------\n"
     ]
    },
    {
     "name": "stderr",
     "output_type": "stream",
     "text": [
      "8it [02:40, 19.93s/it]"
     ]
    },
    {
     "name": "stdout",
     "output_type": "stream",
     "text": [
      "2025-04-07 17:18:18 __main__ INFO     (9/13)  sample['entity_pair']=['Christopher Columbus', 'Vasco da Gama'] <-- Christiano Ronaldo\n",
      "2025-04-07 17:18:24 __main__ INFO     ['Christopher Columbus', 'Vasco da Gama'] >> answer='explorers.'\n",
      "2025-04-07 17:18:29 __main__ INFO     ('Christiano Ronaldo', 'Vasco da Gama') >> clean_answer='Portuguese.'\n",
      "2025-04-07 17:18:29 __main__ INFO     ['47439( explor)']\n",
      "2025-04-07 17:18:29 __main__ INFO     gold_score=20.671875\n",
      "2025-04-07 17:18:29 __main__ INFO     corrupt_score=12.9453125\n",
      "2025-04-07 17:18:30 __main__ DEBUG             layer_idx=0, patched_score=12.9296875\n",
      "2025-04-07 17:18:30 __main__ DEBUG             layer_idx=1, patched_score=12.8515625\n",
      "2025-04-07 17:18:30 __main__ DEBUG             layer_idx=2, patched_score=13.1171875\n",
      "2025-04-07 17:18:30 __main__ DEBUG             layer_idx=3, patched_score=12.9453125\n",
      "2025-04-07 17:18:30 __main__ DEBUG             layer_idx=4, patched_score=12.78125\n",
      "2025-04-07 17:18:31 __main__ DEBUG             layer_idx=5, patched_score=13.2890625\n",
      "2025-04-07 17:18:31 __main__ DEBUG             layer_idx=6, patched_score=12.984375\n",
      "2025-04-07 17:18:31 __main__ DEBUG             layer_idx=7, patched_score=13.0078125\n",
      "2025-04-07 17:18:31 __main__ DEBUG             layer_idx=8, patched_score=12.96875\n",
      "2025-04-07 17:18:31 __main__ DEBUG             layer_idx=9, patched_score=12.8671875\n",
      "2025-04-07 17:18:31 __main__ DEBUG             layer_idx=10, patched_score=12.9140625\n",
      "2025-04-07 17:18:32 __main__ DEBUG             layer_idx=11, patched_score=12.984375\n",
      "2025-04-07 17:18:32 __main__ DEBUG             layer_idx=12, patched_score=12.8515625\n",
      "2025-04-07 17:18:32 __main__ DEBUG             layer_idx=13, patched_score=12.875\n",
      "2025-04-07 17:18:32 __main__ DEBUG             layer_idx=14, patched_score=12.828125\n",
      "2025-04-07 17:18:32 __main__ DEBUG             layer_idx=15, patched_score=12.9765625\n",
      "2025-04-07 17:18:32 __main__ DEBUG             layer_idx=16, patched_score=12.890625\n",
      "2025-04-07 17:18:33 __main__ DEBUG             layer_idx=17, patched_score=12.859375\n",
      "2025-04-07 17:18:33 __main__ DEBUG             layer_idx=18, patched_score=12.828125\n",
      "2025-04-07 17:18:33 __main__ DEBUG             layer_idx=19, patched_score=13.1875\n",
      "2025-04-07 17:18:33 __main__ DEBUG             layer_idx=20, patched_score=12.9453125\n",
      "2025-04-07 17:18:33 __main__ DEBUG             layer_idx=21, patched_score=12.3671875\n",
      "2025-04-07 17:18:34 __main__ DEBUG             layer_idx=22, patched_score=12.265625\n",
      "2025-04-07 17:18:34 __main__ DEBUG             layer_idx=23, patched_score=12.3828125\n",
      "2025-04-07 17:18:34 __main__ DEBUG             layer_idx=24, patched_score=12.515625\n",
      "2025-04-07 17:18:34 __main__ DEBUG             layer_idx=25, patched_score=12.671875\n",
      "2025-04-07 17:18:34 __main__ DEBUG             layer_idx=26, patched_score=12.3671875\n",
      "2025-04-07 17:18:34 __main__ DEBUG             layer_idx=27, patched_score=12.4609375\n",
      "2025-04-07 17:18:35 __main__ DEBUG             layer_idx=28, patched_score=11.3359375\n",
      "2025-04-07 17:18:35 __main__ DEBUG             layer_idx=29, patched_score=11.7578125\n",
      "2025-04-07 17:18:35 __main__ DEBUG             layer_idx=30, patched_score=12.46875\n",
      "2025-04-07 17:18:35 __main__ DEBUG             layer_idx=31, patched_score=12.8203125\n",
      "2025-04-07 17:18:36 __main__ DEBUG             layer_idx=32, patched_score=12.1640625\n",
      "2025-04-07 17:18:36 __main__ DEBUG             layer_idx=33, patched_score=12.3984375\n",
      "2025-04-07 17:18:36 __main__ DEBUG             layer_idx=34, patched_score=15.0234375\n",
      "2025-04-07 17:18:36 __main__ DEBUG             layer_idx=35, patched_score=15.765625\n",
      "2025-04-07 17:18:36 __main__ DEBUG             layer_idx=36, patched_score=18.828125\n",
      "2025-04-07 17:18:36 __main__ DEBUG             layer_idx=37, patched_score=19.234375\n",
      "2025-04-07 17:18:37 __main__ DEBUG             layer_idx=38, patched_score=19.734375\n",
      "2025-04-07 17:18:37 __main__ DEBUG             layer_idx=39, patched_score=19.84375\n",
      "2025-04-07 17:18:37 __main__ DEBUG             layer_idx=40, patched_score=19.75\n",
      "2025-04-07 17:18:37 __main__ DEBUG             layer_idx=41, patched_score=19.78125\n",
      "2025-04-07 17:18:37 __main__ DEBUG             layer_idx=42, patched_score=19.96875\n",
      "2025-04-07 17:18:38 __main__ DEBUG             layer_idx=43, patched_score=19.8125\n",
      "2025-04-07 17:18:38 __main__ DEBUG             layer_idx=44, patched_score=19.640625\n",
      "2025-04-07 17:18:38 __main__ DEBUG             layer_idx=45, patched_score=19.6875\n",
      "2025-04-07 17:18:38 __main__ DEBUG             layer_idx=46, patched_score=19.40625\n",
      "2025-04-07 17:18:38 __main__ DEBUG             layer_idx=47, patched_score=18.671875\n",
      "2025-04-07 17:18:38 __main__ DEBUG    ------------------------------\n"
     ]
    },
    {
     "name": "stderr",
     "output_type": "stream",
     "text": [
      "9it [03:00, 19.99s/it]"
     ]
    },
    {
     "name": "stdout",
     "output_type": "stream",
     "text": [
      "2025-04-07 17:18:38 __main__ INFO     (10/13)  sample['entity_pair']=['Whale', 'Elephant'] <-- Horse\n",
      "2025-04-07 17:18:44 __main__ INFO     ['Whale', 'Elephant'] >> answer='mammals.'\n",
      "2025-04-07 17:18:49 __main__ INFO     ('Horse', 'Elephant') >> clean_answer='used as war animals.'\n",
      "2025-04-07 17:18:49 __main__ INFO     ['55569( mammals)']\n",
      "2025-04-07 17:18:49 __main__ INFO     gold_score=18.640625\n",
      "2025-04-07 17:18:49 __main__ INFO     corrupt_score=15.5703125\n",
      "2025-04-07 17:18:50 __main__ DEBUG             layer_idx=0, patched_score=15.609375\n",
      "2025-04-07 17:18:50 __main__ DEBUG             layer_idx=1, patched_score=15.5859375\n",
      "2025-04-07 17:18:50 __main__ DEBUG             layer_idx=2, patched_score=15.6328125\n",
      "2025-04-07 17:18:50 __main__ DEBUG             layer_idx=3, patched_score=15.6171875\n",
      "2025-04-07 17:18:50 __main__ DEBUG             layer_idx=4, patched_score=15.421875\n",
      "2025-04-07 17:18:51 __main__ DEBUG             layer_idx=5, patched_score=15.6171875\n",
      "2025-04-07 17:18:51 __main__ DEBUG             layer_idx=6, patched_score=15.4921875\n",
      "2025-04-07 17:18:51 __main__ DEBUG             layer_idx=7, patched_score=15.5546875\n",
      "2025-04-07 17:18:51 __main__ DEBUG             layer_idx=8, patched_score=15.65625\n",
      "2025-04-07 17:18:51 __main__ DEBUG             layer_idx=9, patched_score=15.609375\n",
      "2025-04-07 17:18:52 __main__ DEBUG             layer_idx=10, patched_score=15.671875\n",
      "2025-04-07 17:18:52 __main__ DEBUG             layer_idx=11, patched_score=15.734375\n",
      "2025-04-07 17:18:52 __main__ DEBUG             layer_idx=12, patched_score=15.7109375\n",
      "2025-04-07 17:18:52 __main__ DEBUG             layer_idx=13, patched_score=15.671875\n",
      "2025-04-07 17:18:52 __main__ DEBUG             layer_idx=14, patched_score=15.59375\n",
      "2025-04-07 17:18:52 __main__ DEBUG             layer_idx=15, patched_score=15.609375\n",
      "2025-04-07 17:18:53 __main__ DEBUG             layer_idx=16, patched_score=15.5078125\n",
      "2025-04-07 17:18:53 __main__ DEBUG             layer_idx=17, patched_score=15.578125\n",
      "2025-04-07 17:18:53 __main__ DEBUG             layer_idx=18, patched_score=15.578125\n",
      "2025-04-07 17:18:53 __main__ DEBUG             layer_idx=19, patched_score=15.6484375\n",
      "2025-04-07 17:18:53 __main__ DEBUG             layer_idx=20, patched_score=15.7109375\n",
      "2025-04-07 17:18:53 __main__ DEBUG             layer_idx=21, patched_score=15.8515625\n",
      "2025-04-07 17:18:54 __main__ DEBUG             layer_idx=22, patched_score=15.703125\n",
      "2025-04-07 17:18:54 __main__ DEBUG             layer_idx=23, patched_score=15.75\n",
      "2025-04-07 17:18:54 __main__ DEBUG             layer_idx=24, patched_score=15.515625\n",
      "2025-04-07 17:18:54 __main__ DEBUG             layer_idx=25, patched_score=15.5703125\n",
      "2025-04-07 17:18:54 __main__ DEBUG             layer_idx=26, patched_score=15.5390625\n",
      "2025-04-07 17:18:55 __main__ DEBUG             layer_idx=27, patched_score=15.59375\n",
      "2025-04-07 17:18:55 __main__ DEBUG             layer_idx=28, patched_score=15.5\n",
      "2025-04-07 17:18:55 __main__ DEBUG             layer_idx=29, patched_score=15.4609375\n",
      "2025-04-07 17:18:55 __main__ DEBUG             layer_idx=30, patched_score=15.453125\n",
      "2025-04-07 17:18:55 __main__ DEBUG             layer_idx=31, patched_score=15.5234375\n",
      "2025-04-07 17:18:55 __main__ DEBUG             layer_idx=32, patched_score=15.7265625\n",
      "2025-04-07 17:18:56 __main__ DEBUG             layer_idx=33, patched_score=15.9609375\n",
      "2025-04-07 17:18:56 __main__ DEBUG             layer_idx=34, patched_score=16.046875\n",
      "2025-04-07 17:18:56 __main__ DEBUG             layer_idx=35, patched_score=16.5\n",
      "2025-04-07 17:18:56 __main__ DEBUG             layer_idx=36, patched_score=16.53125\n",
      "2025-04-07 17:18:56 __main__ DEBUG             layer_idx=37, patched_score=16.84375\n",
      "2025-04-07 17:18:57 __main__ DEBUG             layer_idx=38, patched_score=17.015625\n",
      "2025-04-07 17:18:57 __main__ DEBUG             layer_idx=39, patched_score=17.25\n",
      "2025-04-07 17:18:57 __main__ DEBUG             layer_idx=40, patched_score=17.5\n",
      "2025-04-07 17:18:57 __main__ DEBUG             layer_idx=41, patched_score=17.546875\n",
      "2025-04-07 17:18:57 __main__ DEBUG             layer_idx=42, patched_score=17.4375\n",
      "2025-04-07 17:18:58 __main__ DEBUG             layer_idx=43, patched_score=17.53125\n",
      "2025-04-07 17:18:58 __main__ DEBUG             layer_idx=44, patched_score=17.65625\n",
      "2025-04-07 17:18:58 __main__ DEBUG             layer_idx=45, patched_score=17.46875\n",
      "2025-04-07 17:18:58 __main__ DEBUG             layer_idx=46, patched_score=17.359375\n",
      "2025-04-07 17:18:58 __main__ DEBUG             layer_idx=47, patched_score=17.609375\n",
      "2025-04-07 17:18:58 __main__ DEBUG    ------------------------------\n"
     ]
    },
    {
     "name": "stderr",
     "output_type": "stream",
     "text": [
      "10it [03:20, 19.99s/it]"
     ]
    },
    {
     "name": "stdout",
     "output_type": "stream",
     "text": [
      "2025-04-07 17:18:58 __main__ INFO     (11/13)  sample['entity_pair']=['jellyfish', 'lobster'] <-- salmon\n",
      "2025-04-07 17:19:04 __main__ INFO     ['jellyfish', 'lobster'] >> answer='eaten by the same person.'\n",
      "2025-04-07 17:19:09 __main__ INFO     ('salmon', 'lobster') >> clean_answer='served at the White House.'\n",
      "2025-04-07 17:19:09 __main__ INFO     ['34561( eaten)', '1697( person)']\n",
      "2025-04-07 17:19:09 __main__ INFO     gold_score=11.625\n",
      "2025-04-07 17:19:10 __main__ INFO     corrupt_score=11.5234375\n",
      "2025-04-07 17:19:10 __main__ DEBUG             layer_idx=0, patched_score=11.484375\n",
      "2025-04-07 17:19:10 __main__ DEBUG             layer_idx=1, patched_score=11.6171875\n",
      "2025-04-07 17:19:10 __main__ DEBUG             layer_idx=2, patched_score=11.5625\n",
      "2025-04-07 17:19:10 __main__ DEBUG             layer_idx=3, patched_score=11.4375\n",
      "2025-04-07 17:19:11 __main__ DEBUG             layer_idx=4, patched_score=11.578125\n",
      "2025-04-07 17:19:11 __main__ DEBUG             layer_idx=5, patched_score=11.546875\n",
      "2025-04-07 17:19:11 __main__ DEBUG             layer_idx=6, patched_score=11.4765625\n",
      "2025-04-07 17:19:11 __main__ DEBUG             layer_idx=7, patched_score=11.484375\n",
      "2025-04-07 17:19:11 __main__ DEBUG             layer_idx=8, patched_score=11.53125\n",
      "2025-04-07 17:19:11 __main__ DEBUG             layer_idx=9, patched_score=11.625\n",
      "2025-04-07 17:19:12 __main__ DEBUG             layer_idx=10, patched_score=11.53125\n",
      "2025-04-07 17:19:12 __main__ DEBUG             layer_idx=11, patched_score=11.546875\n",
      "2025-04-07 17:19:12 __main__ DEBUG             layer_idx=12, patched_score=11.578125\n",
      "2025-04-07 17:19:12 __main__ DEBUG             layer_idx=13, patched_score=11.59375\n",
      "2025-04-07 17:19:12 __main__ DEBUG             layer_idx=14, patched_score=11.578125\n",
      "2025-04-07 17:19:12 __main__ DEBUG             layer_idx=15, patched_score=11.515625\n",
      "2025-04-07 17:19:13 __main__ DEBUG             layer_idx=16, patched_score=11.5\n",
      "2025-04-07 17:19:13 __main__ DEBUG             layer_idx=17, patched_score=11.453125\n",
      "2025-04-07 17:19:13 __main__ DEBUG             layer_idx=18, patched_score=11.59375\n",
      "2025-04-07 17:19:13 __main__ DEBUG             layer_idx=19, patched_score=11.6328125\n",
      "2025-04-07 17:19:13 __main__ DEBUG             layer_idx=20, patched_score=11.6328125\n",
      "2025-04-07 17:19:13 __main__ DEBUG             layer_idx=21, patched_score=11.6328125\n",
      "2025-04-07 17:19:14 __main__ DEBUG             layer_idx=22, patched_score=11.484375\n",
      "2025-04-07 17:19:14 __main__ DEBUG             layer_idx=23, patched_score=11.609375\n",
      "2025-04-07 17:19:14 __main__ DEBUG             layer_idx=24, patched_score=11.5078125\n",
      "2025-04-07 17:19:14 __main__ DEBUG             layer_idx=25, patched_score=11.46875\n",
      "2025-04-07 17:19:14 __main__ DEBUG             layer_idx=26, patched_score=11.4765625\n",
      "2025-04-07 17:19:15 __main__ DEBUG             layer_idx=27, patched_score=11.328125\n",
      "2025-04-07 17:19:15 __main__ DEBUG             layer_idx=28, patched_score=11.3515625\n",
      "2025-04-07 17:19:15 __main__ DEBUG             layer_idx=29, patched_score=11.296875\n",
      "2025-04-07 17:19:15 __main__ DEBUG             layer_idx=30, patched_score=11.5625\n",
      "2025-04-07 17:19:15 __main__ DEBUG             layer_idx=31, patched_score=11.53125\n",
      "2025-04-07 17:19:15 __main__ DEBUG             layer_idx=32, patched_score=11.3359375\n",
      "2025-04-07 17:19:16 __main__ DEBUG             layer_idx=33, patched_score=11.6484375\n",
      "2025-04-07 17:19:16 __main__ DEBUG             layer_idx=34, patched_score=11.71875\n",
      "2025-04-07 17:19:16 __main__ DEBUG             layer_idx=35, patched_score=11.9296875\n",
      "2025-04-07 17:19:16 __main__ DEBUG             layer_idx=36, patched_score=11.8671875\n",
      "2025-04-07 17:19:16 __main__ DEBUG             layer_idx=37, patched_score=11.90625\n",
      "2025-04-07 17:19:17 __main__ DEBUG             layer_idx=38, patched_score=11.9296875\n",
      "2025-04-07 17:19:17 __main__ DEBUG             layer_idx=39, patched_score=11.7890625\n",
      "2025-04-07 17:19:17 __main__ DEBUG             layer_idx=40, patched_score=11.9375\n",
      "2025-04-07 17:19:17 __main__ DEBUG             layer_idx=41, patched_score=12.0\n",
      "2025-04-07 17:19:17 __main__ DEBUG             layer_idx=42, patched_score=11.984375\n",
      "2025-04-07 17:19:18 __main__ DEBUG             layer_idx=43, patched_score=12.015625\n",
      "2025-04-07 17:19:18 __main__ DEBUG             layer_idx=44, patched_score=11.890625\n",
      "2025-04-07 17:19:18 __main__ DEBUG             layer_idx=45, patched_score=11.734375\n",
      "2025-04-07 17:19:18 __main__ DEBUG             layer_idx=46, patched_score=11.78125\n",
      "2025-04-07 17:19:18 __main__ DEBUG             layer_idx=47, patched_score=11.796875\n",
      "2025-04-07 17:19:18 __main__ DEBUG    ------------------------------\n"
     ]
    },
    {
     "name": "stderr",
     "output_type": "stream",
     "text": [
      "11it [03:40, 19.98s/it]"
     ]
    },
    {
     "name": "stdout",
     "output_type": "stream",
     "text": [
      "2025-04-07 17:19:18 __main__ INFO     (12/13)  sample['entity_pair']=['crocodile', 'shark'] <-- salmon\n",
      "2025-04-07 17:19:24 __main__ INFO     ['crocodile', 'shark'] >> answer='apex predators.'\n",
      "2025-04-07 17:19:29 __main__ INFO     ('salmon', 'shark') >> clean_answer='fish.'\n",
      "2025-04-07 17:19:29 __main__ INFO     ['71527( apex)', '55117( predators)']\n",
      "2025-04-07 17:19:30 __main__ INFO     gold_score=17.375\n",
      "2025-04-07 17:19:30 __main__ INFO     corrupt_score=16.3125\n",
      "2025-04-07 17:19:30 __main__ DEBUG             layer_idx=0, patched_score=16.140625\n",
      "2025-04-07 17:19:30 __main__ DEBUG             layer_idx=1, patched_score=16.25\n",
      "2025-04-07 17:19:30 __main__ DEBUG             layer_idx=2, patched_score=16.15625\n",
      "2025-04-07 17:19:31 __main__ DEBUG             layer_idx=3, patched_score=16.34375\n",
      "2025-04-07 17:19:31 __main__ DEBUG             layer_idx=4, patched_score=16.21875\n",
      "2025-04-07 17:19:31 __main__ DEBUG             layer_idx=5, patched_score=16.140625\n",
      "2025-04-07 17:19:31 __main__ DEBUG             layer_idx=6, patched_score=16.21875\n",
      "2025-04-07 17:19:31 __main__ DEBUG             layer_idx=7, patched_score=16.21875\n",
      "2025-04-07 17:19:31 __main__ DEBUG             layer_idx=8, patched_score=16.25\n",
      "2025-04-07 17:19:32 __main__ DEBUG             layer_idx=9, patched_score=16.078125\n",
      "2025-04-07 17:19:32 __main__ DEBUG             layer_idx=10, patched_score=16.1875\n",
      "2025-04-07 17:19:32 __main__ DEBUG             layer_idx=11, patched_score=16.125\n",
      "2025-04-07 17:19:32 __main__ DEBUG             layer_idx=12, patched_score=16.25\n",
      "2025-04-07 17:19:32 __main__ DEBUG             layer_idx=13, patched_score=16.28125\n",
      "2025-04-07 17:19:32 __main__ DEBUG             layer_idx=14, patched_score=16.03125\n",
      "2025-04-07 17:19:33 __main__ DEBUG             layer_idx=15, patched_score=16.265625\n",
      "2025-04-07 17:19:33 __main__ DEBUG             layer_idx=16, patched_score=16.21875\n",
      "2025-04-07 17:19:33 __main__ DEBUG             layer_idx=17, patched_score=16.140625\n",
      "2025-04-07 17:19:33 __main__ DEBUG             layer_idx=18, patched_score=16.125\n",
      "2025-04-07 17:19:33 __main__ DEBUG             layer_idx=19, patched_score=16.21875\n",
      "2025-04-07 17:19:34 __main__ DEBUG             layer_idx=20, patched_score=16.28125\n",
      "2025-04-07 17:19:34 __main__ DEBUG             layer_idx=21, patched_score=16.375\n",
      "2025-04-07 17:19:34 __main__ DEBUG             layer_idx=22, patched_score=16.28125\n",
      "2025-04-07 17:19:34 __main__ DEBUG             layer_idx=23, patched_score=16.25\n",
      "2025-04-07 17:19:34 __main__ DEBUG             layer_idx=24, patched_score=16.296875\n",
      "2025-04-07 17:19:34 __main__ DEBUG             layer_idx=25, patched_score=15.96875\n",
      "2025-04-07 17:19:35 __main__ DEBUG             layer_idx=26, patched_score=16.125\n",
      "2025-04-07 17:19:35 __main__ DEBUG             layer_idx=27, patched_score=16.0625\n",
      "2025-04-07 17:19:35 __main__ DEBUG             layer_idx=28, patched_score=16.25\n",
      "2025-04-07 17:19:35 __main__ DEBUG             layer_idx=29, patched_score=16.375\n",
      "2025-04-07 17:19:35 __main__ DEBUG             layer_idx=30, patched_score=16.25\n",
      "2025-04-07 17:19:36 __main__ DEBUG             layer_idx=31, patched_score=15.96875\n",
      "2025-04-07 17:19:36 __main__ DEBUG             layer_idx=32, patched_score=16.125\n",
      "2025-04-07 17:19:36 __main__ DEBUG             layer_idx=33, patched_score=16.21875\n",
      "2025-04-07 17:19:36 __main__ DEBUG             layer_idx=34, patched_score=16.328125\n",
      "2025-04-07 17:19:36 __main__ DEBUG             layer_idx=35, patched_score=16.6875\n",
      "2025-04-07 17:19:36 __main__ DEBUG             layer_idx=36, patched_score=17.03125\n",
      "2025-04-07 17:19:37 __main__ DEBUG             layer_idx=37, patched_score=17.0\n",
      "2025-04-07 17:19:37 __main__ DEBUG             layer_idx=38, patched_score=17.296875\n",
      "2025-04-07 17:19:37 __main__ DEBUG             layer_idx=39, patched_score=16.90625\n",
      "2025-04-07 17:19:37 __main__ DEBUG             layer_idx=40, patched_score=17.03125\n",
      "2025-04-07 17:19:37 __main__ DEBUG             layer_idx=41, patched_score=17.171875\n",
      "2025-04-07 17:19:38 __main__ DEBUG             layer_idx=42, patched_score=17.109375\n",
      "2025-04-07 17:19:38 __main__ DEBUG             layer_idx=43, patched_score=17.0625\n",
      "2025-04-07 17:19:38 __main__ DEBUG             layer_idx=44, patched_score=17.125\n",
      "2025-04-07 17:19:38 __main__ DEBUG             layer_idx=45, patched_score=17.125\n",
      "2025-04-07 17:19:38 __main__ DEBUG             layer_idx=46, patched_score=17.015625\n",
      "2025-04-07 17:19:39 __main__ DEBUG             layer_idx=47, patched_score=16.84375\n",
      "2025-04-07 17:19:39 __main__ DEBUG    ------------------------------\n"
     ]
    },
    {
     "name": "stderr",
     "output_type": "stream",
     "text": [
      "12it [04:00, 20.08s/it]"
     ]
    },
    {
     "name": "stdout",
     "output_type": "stream",
     "text": [
      "2025-04-07 17:19:39 __main__ INFO     (13/13)  sample['entity_pair']=['spider', 'crab'] <-- lobster\n",
      "2025-04-07 17:19:44 __main__ INFO     ['spider', 'crab'] >> answer='arthropods.'\n",
      "2025-04-07 17:19:50 __main__ INFO     ('lobster', 'crab') >> clean_answer='crustaceans.'\n",
      "2025-04-07 17:19:50 __main__ INFO     ['796( ar)']\n",
      "2025-04-07 17:19:50 __main__ INFO     gold_score=17.515625\n",
      "2025-04-07 17:19:50 __main__ INFO     corrupt_score=16.203125\n",
      "2025-04-07 17:19:50 __main__ DEBUG             layer_idx=0, patched_score=16.140625\n",
      "2025-04-07 17:19:51 __main__ DEBUG             layer_idx=1, patched_score=16.15625\n",
      "2025-04-07 17:19:51 __main__ DEBUG             layer_idx=2, patched_score=15.875\n",
      "2025-04-07 17:19:51 __main__ DEBUG             layer_idx=3, patched_score=16.21875\n",
      "2025-04-07 17:19:51 __main__ DEBUG             layer_idx=4, patched_score=16.203125\n",
      "2025-04-07 17:19:51 __main__ DEBUG             layer_idx=5, patched_score=15.984375\n",
      "2025-04-07 17:19:51 __main__ DEBUG             layer_idx=6, patched_score=16.078125\n",
      "2025-04-07 17:19:52 __main__ DEBUG             layer_idx=7, patched_score=16.015625\n",
      "2025-04-07 17:19:52 __main__ DEBUG             layer_idx=8, patched_score=16.21875\n",
      "2025-04-07 17:19:52 __main__ DEBUG             layer_idx=9, patched_score=16.0625\n",
      "2025-04-07 17:19:52 __main__ DEBUG             layer_idx=10, patched_score=16.09375\n",
      "2025-04-07 17:19:52 __main__ DEBUG             layer_idx=11, patched_score=15.9375\n",
      "2025-04-07 17:19:52 __main__ DEBUG             layer_idx=12, patched_score=16.0625\n",
      "2025-04-07 17:19:53 __main__ DEBUG             layer_idx=13, patched_score=16.171875\n",
      "2025-04-07 17:19:53 __main__ DEBUG             layer_idx=14, patched_score=16.171875\n",
      "2025-04-07 17:19:53 __main__ DEBUG             layer_idx=15, patched_score=16.03125\n",
      "2025-04-07 17:19:53 __main__ DEBUG             layer_idx=16, patched_score=16.296875\n",
      "2025-04-07 17:19:53 __main__ DEBUG             layer_idx=17, patched_score=16.25\n",
      "2025-04-07 17:19:54 __main__ DEBUG             layer_idx=18, patched_score=16.046875\n",
      "2025-04-07 17:19:54 __main__ DEBUG             layer_idx=19, patched_score=16.125\n",
      "2025-04-07 17:19:54 __main__ DEBUG             layer_idx=20, patched_score=16.09375\n",
      "2025-04-07 17:19:54 __main__ DEBUG             layer_idx=21, patched_score=16.375\n",
      "2025-04-07 17:19:54 __main__ DEBUG             layer_idx=22, patched_score=16.09375\n",
      "2025-04-07 17:19:54 __main__ DEBUG             layer_idx=23, patched_score=15.8671875\n",
      "2025-04-07 17:19:55 __main__ DEBUG             layer_idx=24, patched_score=16.078125\n",
      "2025-04-07 17:19:55 __main__ DEBUG             layer_idx=25, patched_score=16.140625\n",
      "2025-04-07 17:19:55 __main__ DEBUG             layer_idx=26, patched_score=16.15625\n",
      "2025-04-07 17:19:55 __main__ DEBUG             layer_idx=27, patched_score=15.6171875\n",
      "2025-04-07 17:19:55 __main__ DEBUG             layer_idx=28, patched_score=15.5390625\n",
      "2025-04-07 17:19:56 __main__ DEBUG             layer_idx=29, patched_score=15.828125\n",
      "2025-04-07 17:19:56 __main__ DEBUG             layer_idx=30, patched_score=15.671875\n",
      "2025-04-07 17:19:56 __main__ DEBUG             layer_idx=31, patched_score=15.59375\n",
      "2025-04-07 17:19:56 __main__ DEBUG             layer_idx=32, patched_score=15.875\n",
      "2025-04-07 17:19:56 __main__ DEBUG             layer_idx=33, patched_score=15.65625\n",
      "2025-04-07 17:19:56 __main__ DEBUG             layer_idx=34, patched_score=15.921875\n",
      "2025-04-07 17:19:57 __main__ DEBUG             layer_idx=35, patched_score=16.21875\n",
      "2025-04-07 17:19:57 __main__ DEBUG             layer_idx=36, patched_score=16.515625\n",
      "2025-04-07 17:19:57 __main__ DEBUG             layer_idx=37, patched_score=16.3125\n",
      "2025-04-07 17:19:57 __main__ DEBUG             layer_idx=38, patched_score=16.375\n",
      "2025-04-07 17:19:57 __main__ DEBUG             layer_idx=39, patched_score=16.515625\n",
      "2025-04-07 17:19:58 __main__ DEBUG             layer_idx=40, patched_score=16.59375\n",
      "2025-04-07 17:19:58 __main__ DEBUG             layer_idx=41, patched_score=16.78125\n",
      "2025-04-07 17:19:58 __main__ DEBUG             layer_idx=42, patched_score=16.90625\n",
      "2025-04-07 17:19:58 __main__ DEBUG             layer_idx=43, patched_score=16.84375\n",
      "2025-04-07 17:19:58 __main__ DEBUG             layer_idx=44, patched_score=17.28125\n",
      "2025-04-07 17:19:59 __main__ DEBUG             layer_idx=45, patched_score=17.359375\n",
      "2025-04-07 17:19:59 __main__ DEBUG             layer_idx=46, patched_score=17.1875\n",
      "2025-04-07 17:19:59 __main__ DEBUG             layer_idx=47, patched_score=16.875\n",
      "2025-04-07 17:19:59 __main__ DEBUG    ------------------------------\n"
     ]
    },
    {
     "name": "stderr",
     "output_type": "stream",
     "text": [
      "13it [04:21, 20.09s/it]\n",
      "0it [00:00, ?it/s]"
     ]
    },
    {
     "name": "stdout",
     "output_type": "stream",
     "text": [
      "2025-04-07 17:19:59 __main__ INFO     (1/13)  sample['entity_pair']=['Germany', 'Japan'] <-- Korea\n",
      "2025-04-07 17:20:04 __main__ INFO     ['Germany', 'Japan'] >> answer='Axis powers in World War II.'\n",
      "2025-04-07 17:20:10 __main__ INFO     ('Korea', 'Japan') >> clean_answer='part of the Japanese Empire.'\n",
      "2025-04-07 17:20:10 __main__ INFO     ['34474( Axis)', '13430( powers)', '4337( World)', '5004( War)', '7946( II)']\n",
      "2025-04-07 17:20:10 __main__ INFO     gold_score=12.6796875\n",
      "2025-04-07 17:20:10 __main__ INFO     corrupt_score=9.96875\n",
      "2025-04-07 17:20:11 __main__ DEBUG             layer_idx=0, patched_score=9.9765625\n",
      "2025-04-07 17:20:11 __main__ DEBUG             layer_idx=1, patched_score=9.9453125\n",
      "2025-04-07 17:20:11 __main__ DEBUG             layer_idx=2, patched_score=9.90625\n",
      "2025-04-07 17:20:11 __main__ DEBUG             layer_idx=3, patched_score=10.0\n",
      "2025-04-07 17:20:11 __main__ DEBUG             layer_idx=4, patched_score=10.0546875\n",
      "2025-04-07 17:20:12 __main__ DEBUG             layer_idx=5, patched_score=10.0078125\n",
      "2025-04-07 17:20:12 __main__ DEBUG             layer_idx=6, patched_score=9.953125\n",
      "2025-04-07 17:20:12 __main__ DEBUG             layer_idx=7, patched_score=9.875\n",
      "2025-04-07 17:20:12 __main__ DEBUG             layer_idx=8, patched_score=10.0078125\n",
      "2025-04-07 17:20:12 __main__ DEBUG             layer_idx=9, patched_score=9.9609375\n",
      "2025-04-07 17:20:12 __main__ DEBUG             layer_idx=10, patched_score=9.9375\n",
      "2025-04-07 17:20:13 __main__ DEBUG             layer_idx=11, patched_score=9.84375\n",
      "2025-04-07 17:20:13 __main__ DEBUG             layer_idx=12, patched_score=9.8828125\n",
      "2025-04-07 17:20:13 __main__ DEBUG             layer_idx=13, patched_score=9.9921875\n",
      "2025-04-07 17:20:13 __main__ DEBUG             layer_idx=14, patched_score=9.9921875\n",
      "2025-04-07 17:20:13 __main__ DEBUG             layer_idx=15, patched_score=9.9296875\n",
      "2025-04-07 17:20:13 __main__ DEBUG             layer_idx=16, patched_score=10.0078125\n",
      "2025-04-07 17:20:14 __main__ DEBUG             layer_idx=17, patched_score=10.0859375\n",
      "2025-04-07 17:20:14 __main__ DEBUG             layer_idx=18, patched_score=9.890625\n",
      "2025-04-07 17:20:14 __main__ DEBUG             layer_idx=19, patched_score=9.8046875\n",
      "2025-04-07 17:20:14 __main__ DEBUG             layer_idx=20, patched_score=10.0390625\n",
      "2025-04-07 17:20:14 __main__ DEBUG             layer_idx=21, patched_score=10.1328125\n",
      "2025-04-07 17:20:15 __main__ DEBUG             layer_idx=22, patched_score=9.96875\n",
      "2025-04-07 17:20:15 __main__ DEBUG             layer_idx=23, patched_score=9.84375\n",
      "2025-04-07 17:20:15 __main__ DEBUG             layer_idx=24, patched_score=9.7265625\n",
      "2025-04-07 17:20:15 __main__ DEBUG             layer_idx=25, patched_score=9.875\n",
      "2025-04-07 17:20:15 __main__ DEBUG             layer_idx=26, patched_score=10.015625\n",
      "2025-04-07 17:20:15 __main__ DEBUG             layer_idx=27, patched_score=10.015625\n",
      "2025-04-07 17:20:16 __main__ DEBUG             layer_idx=28, patched_score=9.90625\n",
      "2025-04-07 17:20:16 __main__ DEBUG             layer_idx=29, patched_score=9.859375\n",
      "2025-04-07 17:20:16 __main__ DEBUG             layer_idx=30, patched_score=9.59375\n",
      "2025-04-07 17:20:16 __main__ DEBUG             layer_idx=31, patched_score=9.7734375\n",
      "2025-04-07 17:20:16 __main__ DEBUG             layer_idx=32, patched_score=9.8828125\n",
      "2025-04-07 17:20:16 __main__ DEBUG             layer_idx=33, patched_score=10.375\n",
      "2025-04-07 17:20:17 __main__ DEBUG             layer_idx=34, patched_score=10.734375\n",
      "2025-04-07 17:20:17 __main__ DEBUG             layer_idx=35, patched_score=11.3515625\n",
      "2025-04-07 17:20:17 __main__ DEBUG             layer_idx=36, patched_score=11.6953125\n",
      "2025-04-07 17:20:17 __main__ DEBUG             layer_idx=37, patched_score=11.7109375\n",
      "2025-04-07 17:20:17 __main__ DEBUG             layer_idx=38, patched_score=11.890625\n",
      "2025-04-07 17:20:17 __main__ DEBUG             layer_idx=39, patched_score=11.6015625\n",
      "2025-04-07 17:20:18 __main__ DEBUG             layer_idx=40, patched_score=11.1953125\n",
      "2025-04-07 17:20:18 __main__ DEBUG             layer_idx=41, patched_score=10.7890625\n",
      "2025-04-07 17:20:18 __main__ DEBUG             layer_idx=42, patched_score=10.578125\n",
      "2025-04-07 17:20:18 __main__ DEBUG             layer_idx=43, patched_score=10.53125\n",
      "2025-04-07 17:20:18 __main__ DEBUG             layer_idx=44, patched_score=10.4140625\n",
      "2025-04-07 17:20:19 __main__ DEBUG             layer_idx=45, patched_score=10.375\n",
      "2025-04-07 17:20:19 __main__ DEBUG             layer_idx=46, patched_score=10.1484375\n",
      "2025-04-07 17:20:19 __main__ DEBUG             layer_idx=47, patched_score=9.96875\n",
      "2025-04-07 17:20:19 __main__ DEBUG    ------------------------------\n"
     ]
    },
    {
     "name": "stderr",
     "output_type": "stream",
     "text": [
      "1it [00:19, 19.95s/it]"
     ]
    },
    {
     "name": "stdout",
     "output_type": "stream",
     "text": [
      "2025-04-07 17:20:19 __main__ INFO     (2/13)  sample['entity_pair']=['Hugh Jackman', 'Ryan Reynolds'] <-- Celine Dion\n",
      "2025-04-07 17:20:24 __main__ INFO     ['Hugh Jackman', 'Ryan Reynolds'] >> answer='actors and friends.'\n",
      "2025-04-07 17:20:30 __main__ INFO     ('Celine Dion', 'Ryan Reynolds') >> clean_answer='married to the same person.'\n",
      "2025-04-07 17:20:30 __main__ INFO     ['19571( actors)', '4780( friends)']\n",
      "2025-04-07 17:20:30 __main__ INFO     gold_score=17.328125\n",
      "2025-04-07 17:20:30 __main__ INFO     corrupt_score=15.515625\n",
      "2025-04-07 17:20:31 __main__ DEBUG             layer_idx=0, patched_score=15.546875\n",
      "2025-04-07 17:20:31 __main__ DEBUG             layer_idx=1, patched_score=15.4375\n",
      "2025-04-07 17:20:31 __main__ DEBUG             layer_idx=2, patched_score=15.484375\n",
      "2025-04-07 17:20:31 __main__ DEBUG             layer_idx=3, patched_score=15.3984375\n",
      "2025-04-07 17:20:31 __main__ DEBUG             layer_idx=4, patched_score=15.453125\n",
      "2025-04-07 17:20:32 __main__ DEBUG             layer_idx=5, patched_score=15.390625\n",
      "2025-04-07 17:20:32 __main__ DEBUG             layer_idx=6, patched_score=15.4375\n",
      "2025-04-07 17:20:32 __main__ DEBUG             layer_idx=7, patched_score=15.4921875\n",
      "2025-04-07 17:20:32 __main__ DEBUG             layer_idx=8, patched_score=15.53125\n",
      "2025-04-07 17:20:32 __main__ DEBUG             layer_idx=9, patched_score=15.4453125\n",
      "2025-04-07 17:20:32 __main__ DEBUG             layer_idx=10, patched_score=15.4921875\n",
      "2025-04-07 17:20:33 __main__ DEBUG             layer_idx=11, patched_score=15.46875\n",
      "2025-04-07 17:20:33 __main__ DEBUG             layer_idx=12, patched_score=15.390625\n",
      "2025-04-07 17:20:33 __main__ DEBUG             layer_idx=13, patched_score=15.359375\n",
      "2025-04-07 17:20:33 __main__ DEBUG             layer_idx=14, patched_score=15.46875\n",
      "2025-04-07 17:20:33 __main__ DEBUG             layer_idx=15, patched_score=15.453125\n",
      "2025-04-07 17:20:34 __main__ DEBUG             layer_idx=16, patched_score=15.375\n",
      "2025-04-07 17:20:34 __main__ DEBUG             layer_idx=17, patched_score=15.515625\n",
      "2025-04-07 17:20:34 __main__ DEBUG             layer_idx=18, patched_score=15.4765625\n",
      "2025-04-07 17:20:34 __main__ DEBUG             layer_idx=19, patched_score=15.3671875\n",
      "2025-04-07 17:20:34 __main__ DEBUG             layer_idx=20, patched_score=15.546875\n",
      "2025-04-07 17:20:34 __main__ DEBUG             layer_idx=21, patched_score=15.34375\n",
      "2025-04-07 17:20:35 __main__ DEBUG             layer_idx=22, patched_score=15.6171875\n",
      "2025-04-07 17:20:35 __main__ DEBUG             layer_idx=23, patched_score=15.5625\n",
      "2025-04-07 17:20:35 __main__ DEBUG             layer_idx=24, patched_score=15.4921875\n",
      "2025-04-07 17:20:35 __main__ DEBUG             layer_idx=25, patched_score=15.3515625\n",
      "2025-04-07 17:20:35 __main__ DEBUG             layer_idx=26, patched_score=15.296875\n",
      "2025-04-07 17:20:35 __main__ DEBUG             layer_idx=27, patched_score=15.484375\n",
      "2025-04-07 17:20:36 __main__ DEBUG             layer_idx=28, patched_score=15.546875\n",
      "2025-04-07 17:20:36 __main__ DEBUG             layer_idx=29, patched_score=15.34375\n",
      "2025-04-07 17:20:36 __main__ DEBUG             layer_idx=30, patched_score=15.453125\n",
      "2025-04-07 17:20:36 __main__ DEBUG             layer_idx=31, patched_score=15.6171875\n",
      "2025-04-07 17:20:36 __main__ DEBUG             layer_idx=32, patched_score=15.8828125\n",
      "2025-04-07 17:20:36 __main__ DEBUG             layer_idx=33, patched_score=16.15625\n",
      "2025-04-07 17:20:37 __main__ DEBUG             layer_idx=34, patched_score=16.140625\n",
      "2025-04-07 17:20:37 __main__ DEBUG             layer_idx=35, patched_score=16.234375\n",
      "2025-04-07 17:20:37 __main__ DEBUG             layer_idx=36, patched_score=16.203125\n",
      "2025-04-07 17:20:37 __main__ DEBUG             layer_idx=37, patched_score=16.265625\n",
      "2025-04-07 17:20:37 __main__ DEBUG             layer_idx=38, patched_score=16.140625\n",
      "2025-04-07 17:20:38 __main__ DEBUG             layer_idx=39, patched_score=16.3125\n",
      "2025-04-07 17:20:38 __main__ DEBUG             layer_idx=40, patched_score=16.375\n",
      "2025-04-07 17:20:38 __main__ DEBUG             layer_idx=41, patched_score=16.1875\n",
      "2025-04-07 17:20:38 __main__ DEBUG             layer_idx=42, patched_score=15.9375\n",
      "2025-04-07 17:20:38 __main__ DEBUG             layer_idx=43, patched_score=15.640625\n",
      "2025-04-07 17:20:38 __main__ DEBUG             layer_idx=44, patched_score=15.609375\n",
      "2025-04-07 17:20:39 __main__ DEBUG             layer_idx=45, patched_score=14.4375\n",
      "2025-04-07 17:20:39 __main__ DEBUG             layer_idx=46, patched_score=14.875\n",
      "2025-04-07 17:20:39 __main__ DEBUG             layer_idx=47, patched_score=14.828125\n",
      "2025-04-07 17:20:39 __main__ DEBUG    ------------------------------\n"
     ]
    },
    {
     "name": "stderr",
     "output_type": "stream",
     "text": [
      "2it [00:39, 20.01s/it]"
     ]
    },
    {
     "name": "stdout",
     "output_type": "stream",
     "text": [
      "2025-04-07 17:20:39 __main__ INFO     (3/13)  sample['entity_pair']=['Bhutan', 'Nepal'] <-- India\n",
      "2025-04-07 17:20:44 __main__ INFO     ['Bhutan', 'Nepal'] >> answer='monarchies.'\n",
      "2025-04-07 17:20:50 __main__ INFO     ('India', 'Nepal') >> clean_answer='ruled by the British Empire.'\n",
      "2025-04-07 17:20:50 __main__ INFO     ['62754( monarch)']\n",
      "2025-04-07 17:20:50 __main__ INFO     gold_score=18.71875\n",
      "2025-04-07 17:20:50 __main__ INFO     corrupt_score=15.578125\n",
      "2025-04-07 17:20:51 __main__ DEBUG             layer_idx=0, patched_score=14.9609375\n",
      "2025-04-07 17:20:51 __main__ DEBUG             layer_idx=1, patched_score=15.328125\n",
      "2025-04-07 17:20:51 __main__ DEBUG             layer_idx=2, patched_score=15.453125\n",
      "2025-04-07 17:20:51 __main__ DEBUG             layer_idx=3, patched_score=15.3984375\n",
      "2025-04-07 17:20:51 __main__ DEBUG             layer_idx=4, patched_score=15.203125\n",
      "2025-04-07 17:20:52 __main__ DEBUG             layer_idx=5, patched_score=15.3046875\n",
      "2025-04-07 17:20:52 __main__ DEBUG             layer_idx=6, patched_score=15.5625\n",
      "2025-04-07 17:20:52 __main__ DEBUG             layer_idx=7, patched_score=15.3046875\n",
      "2025-04-07 17:20:52 __main__ DEBUG             layer_idx=8, patched_score=15.3359375\n",
      "2025-04-07 17:20:52 __main__ DEBUG             layer_idx=9, patched_score=15.2265625\n",
      "2025-04-07 17:20:52 __main__ DEBUG             layer_idx=10, patched_score=15.40625\n",
      "2025-04-07 17:20:53 __main__ DEBUG             layer_idx=11, patched_score=15.4609375\n",
      "2025-04-07 17:20:53 __main__ DEBUG             layer_idx=12, patched_score=15.265625\n",
      "2025-04-07 17:20:53 __main__ DEBUG             layer_idx=13, patched_score=15.1796875\n",
      "2025-04-07 17:20:53 __main__ DEBUG             layer_idx=14, patched_score=15.109375\n",
      "2025-04-07 17:20:53 __main__ DEBUG             layer_idx=15, patched_score=15.3671875\n",
      "2025-04-07 17:20:53 __main__ DEBUG             layer_idx=16, patched_score=15.0546875\n",
      "2025-04-07 17:20:54 __main__ DEBUG             layer_idx=17, patched_score=15.2421875\n",
      "2025-04-07 17:20:54 __main__ DEBUG             layer_idx=18, patched_score=15.1015625\n",
      "2025-04-07 17:20:54 __main__ DEBUG             layer_idx=19, patched_score=15.234375\n",
      "2025-04-07 17:20:54 __main__ DEBUG             layer_idx=20, patched_score=15.0859375\n",
      "2025-04-07 17:20:54 __main__ DEBUG             layer_idx=21, patched_score=15.2578125\n",
      "2025-04-07 17:20:55 __main__ DEBUG             layer_idx=22, patched_score=15.546875\n",
      "2025-04-07 17:20:55 __main__ DEBUG             layer_idx=23, patched_score=15.515625\n",
      "2025-04-07 17:20:55 __main__ DEBUG             layer_idx=24, patched_score=15.828125\n",
      "2025-04-07 17:20:55 __main__ DEBUG             layer_idx=25, patched_score=15.859375\n",
      "2025-04-07 17:20:55 __main__ DEBUG             layer_idx=26, patched_score=16.234375\n",
      "2025-04-07 17:20:55 __main__ DEBUG             layer_idx=27, patched_score=16.03125\n",
      "2025-04-07 17:20:56 __main__ DEBUG             layer_idx=28, patched_score=16.015625\n",
      "2025-04-07 17:20:56 __main__ DEBUG             layer_idx=29, patched_score=16.421875\n",
      "2025-04-07 17:20:56 __main__ DEBUG             layer_idx=30, patched_score=16.3125\n",
      "2025-04-07 17:20:56 __main__ DEBUG             layer_idx=31, patched_score=16.5625\n",
      "2025-04-07 17:20:56 __main__ DEBUG             layer_idx=32, patched_score=16.40625\n",
      "2025-04-07 17:20:56 __main__ DEBUG             layer_idx=33, patched_score=18.046875\n",
      "2025-04-07 17:20:57 __main__ DEBUG             layer_idx=34, patched_score=18.328125\n",
      "2025-04-07 17:20:57 __main__ DEBUG             layer_idx=35, patched_score=18.359375\n",
      "2025-04-07 17:20:57 __main__ DEBUG             layer_idx=36, patched_score=18.34375\n",
      "2025-04-07 17:20:57 __main__ DEBUG             layer_idx=37, patched_score=18.4375\n",
      "2025-04-07 17:20:57 __main__ DEBUG             layer_idx=38, patched_score=18.1875\n",
      "2025-04-07 17:20:57 __main__ DEBUG             layer_idx=39, patched_score=18.34375\n",
      "2025-04-07 17:20:58 __main__ DEBUG             layer_idx=40, patched_score=17.265625\n",
      "2025-04-07 17:20:58 __main__ DEBUG             layer_idx=41, patched_score=16.71875\n",
      "2025-04-07 17:20:58 __main__ DEBUG             layer_idx=42, patched_score=15.84375\n",
      "2025-04-07 17:20:58 __main__ DEBUG             layer_idx=43, patched_score=13.5390625\n",
      "2025-04-07 17:20:58 __main__ DEBUG             layer_idx=44, patched_score=13.2734375\n",
      "2025-04-07 17:20:59 __main__ DEBUG             layer_idx=45, patched_score=13.6328125\n",
      "2025-04-07 17:20:59 __main__ DEBUG             layer_idx=46, patched_score=13.328125\n",
      "2025-04-07 17:20:59 __main__ DEBUG             layer_idx=47, patched_score=13.59375\n",
      "2025-04-07 17:20:59 __main__ DEBUG    ------------------------------\n"
     ]
    },
    {
     "name": "stderr",
     "output_type": "stream",
     "text": [
      "3it [00:59, 19.98s/it]"
     ]
    },
    {
     "name": "stdout",
     "output_type": "stream",
     "text": [
      "2025-04-07 17:20:59 __main__ INFO     (4/13)  sample['entity_pair']=['Mount Athos', 'Vatican City'] <-- Italy\n",
      "2025-04-07 17:21:04 __main__ INFO     ['Mount Athos', 'Vatican City'] >> answer='ruled by the Byzantine Empire.'\n",
      "2025-04-07 17:21:10 __main__ INFO     ('Italy', 'Vatican City') >> clean_answer='ruled by the Pope.'\n",
      "2025-04-07 17:21:10 __main__ INFO     ['21286( ruled)', '81660( Byz)', '20448( Empire)']\n",
      "2025-04-07 17:21:10 __main__ INFO     gold_score=11.4453125\n",
      "2025-04-07 17:21:10 __main__ INFO     corrupt_score=11.9375\n",
      "2025-04-07 17:21:11 __main__ DEBUG             layer_idx=0, patched_score=12.09375\n",
      "2025-04-07 17:21:11 __main__ DEBUG             layer_idx=1, patched_score=11.9296875\n",
      "2025-04-07 17:21:11 __main__ DEBUG             layer_idx=2, patched_score=11.9609375\n",
      "2025-04-07 17:21:11 __main__ DEBUG             layer_idx=3, patched_score=11.8828125\n",
      "2025-04-07 17:21:11 __main__ DEBUG             layer_idx=4, patched_score=12.0703125\n",
      "2025-04-07 17:21:12 __main__ DEBUG             layer_idx=5, patched_score=11.9453125\n",
      "2025-04-07 17:21:12 __main__ DEBUG             layer_idx=6, patched_score=12.0078125\n",
      "2025-04-07 17:21:12 __main__ DEBUG             layer_idx=7, patched_score=12.03125\n",
      "2025-04-07 17:21:12 __main__ DEBUG             layer_idx=8, patched_score=12.1328125\n",
      "2025-04-07 17:21:12 __main__ DEBUG             layer_idx=9, patched_score=11.953125\n",
      "2025-04-07 17:21:12 __main__ DEBUG             layer_idx=10, patched_score=11.9609375\n",
      "2025-04-07 17:21:13 __main__ DEBUG             layer_idx=11, patched_score=12.109375\n",
      "2025-04-07 17:21:13 __main__ DEBUG             layer_idx=12, patched_score=12.0390625\n",
      "2025-04-07 17:21:13 __main__ DEBUG             layer_idx=13, patched_score=11.9296875\n",
      "2025-04-07 17:21:13 __main__ DEBUG             layer_idx=14, patched_score=11.9296875\n",
      "2025-04-07 17:21:13 __main__ DEBUG             layer_idx=15, patched_score=12.203125\n",
      "2025-04-07 17:21:13 __main__ DEBUG             layer_idx=16, patched_score=12.1484375\n",
      "2025-04-07 17:21:14 __main__ DEBUG             layer_idx=17, patched_score=12.28125\n",
      "2025-04-07 17:21:14 __main__ DEBUG             layer_idx=18, patched_score=12.09375\n",
      "2025-04-07 17:21:14 __main__ DEBUG             layer_idx=19, patched_score=12.2734375\n",
      "2025-04-07 17:21:14 __main__ DEBUG             layer_idx=20, patched_score=12.15625\n",
      "2025-04-07 17:21:14 __main__ DEBUG             layer_idx=21, patched_score=12.1328125\n",
      "2025-04-07 17:21:14 __main__ DEBUG             layer_idx=22, patched_score=12.0859375\n",
      "2025-04-07 17:21:15 __main__ DEBUG             layer_idx=23, patched_score=12.1328125\n",
      "2025-04-07 17:21:15 __main__ DEBUG             layer_idx=24, patched_score=12.09375\n",
      "2025-04-07 17:21:15 __main__ DEBUG             layer_idx=25, patched_score=12.328125\n",
      "2025-04-07 17:21:15 __main__ DEBUG             layer_idx=26, patched_score=12.6875\n",
      "2025-04-07 17:21:15 __main__ DEBUG             layer_idx=27, patched_score=12.9140625\n",
      "2025-04-07 17:21:15 __main__ DEBUG             layer_idx=28, patched_score=12.859375\n",
      "2025-04-07 17:21:16 __main__ DEBUG             layer_idx=29, patched_score=12.15625\n",
      "2025-04-07 17:21:16 __main__ DEBUG             layer_idx=30, patched_score=11.9609375\n",
      "2025-04-07 17:21:16 __main__ DEBUG             layer_idx=31, patched_score=11.46875\n",
      "2025-04-07 17:21:16 __main__ DEBUG             layer_idx=32, patched_score=11.6875\n",
      "2025-04-07 17:21:16 __main__ DEBUG             layer_idx=33, patched_score=11.640625\n",
      "2025-04-07 17:21:17 __main__ DEBUG             layer_idx=34, patched_score=12.3125\n",
      "2025-04-07 17:21:17 __main__ DEBUG             layer_idx=35, patched_score=12.171875\n",
      "2025-04-07 17:21:17 __main__ DEBUG             layer_idx=36, patched_score=12.4453125\n",
      "2025-04-07 17:21:17 __main__ DEBUG             layer_idx=37, patched_score=12.34375\n",
      "2025-04-07 17:21:17 __main__ DEBUG             layer_idx=38, patched_score=12.4765625\n",
      "2025-04-07 17:21:17 __main__ DEBUG             layer_idx=39, patched_score=11.8515625\n",
      "2025-04-07 17:21:18 __main__ DEBUG             layer_idx=40, patched_score=11.6328125\n",
      "2025-04-07 17:21:18 __main__ DEBUG             layer_idx=41, patched_score=11.5859375\n",
      "2025-04-07 17:21:18 __main__ DEBUG             layer_idx=42, patched_score=11.7734375\n",
      "2025-04-07 17:21:18 __main__ DEBUG             layer_idx=43, patched_score=11.828125\n",
      "2025-04-07 17:21:18 __main__ DEBUG             layer_idx=44, patched_score=11.5078125\n",
      "2025-04-07 17:21:18 __main__ DEBUG             layer_idx=45, patched_score=11.9453125\n",
      "2025-04-07 17:21:19 __main__ DEBUG             layer_idx=46, patched_score=11.96875\n",
      "2025-04-07 17:21:19 __main__ DEBUG             layer_idx=47, patched_score=11.546875\n",
      "2025-04-07 17:21:19 __main__ DEBUG    ------------------------------\n"
     ]
    },
    {
     "name": "stderr",
     "output_type": "stream",
     "text": [
      "4it [01:19, 19.97s/it]"
     ]
    },
    {
     "name": "stdout",
     "output_type": "stream",
     "text": [
      "2025-04-07 17:21:19 __main__ INFO     (5/13)  sample['entity_pair']=['Dead Sea Scrolls', 'Rosetta Stone'] <-- Pyramid of Giza\n",
      "2025-04-07 17:21:24 __main__ INFO     ['Dead Sea Scrolls', 'Rosetta Stone'] >> answer='important historical artifacts.'\n",
      "2025-04-07 17:21:30 __main__ INFO     ('Pyramid of Giza', 'Rosetta Stone') >> clean_answer='located in Egypt.'\n",
      "2025-04-07 17:21:30 __main__ INFO     ['2989( important)', '13656( historical)', '35036( artifacts)']\n",
      "2025-04-07 17:21:30 __main__ INFO     gold_score=17.75\n",
      "2025-04-07 17:21:30 __main__ INFO     corrupt_score=17.9375\n",
      "2025-04-07 17:21:31 __main__ DEBUG             layer_idx=0, patched_score=17.765625\n",
      "2025-04-07 17:21:31 __main__ DEBUG             layer_idx=1, patched_score=17.796875\n",
      "2025-04-07 17:21:31 __main__ DEBUG             layer_idx=2, patched_score=17.890625\n",
      "2025-04-07 17:21:31 __main__ DEBUG             layer_idx=3, patched_score=17.890625\n",
      "2025-04-07 17:21:31 __main__ DEBUG             layer_idx=4, patched_score=17.96875\n",
      "2025-04-07 17:21:32 __main__ DEBUG             layer_idx=5, patched_score=17.828125\n",
      "2025-04-07 17:21:32 __main__ DEBUG             layer_idx=6, patched_score=17.90625\n",
      "2025-04-07 17:21:32 __main__ DEBUG             layer_idx=7, patched_score=17.9375\n",
      "2025-04-07 17:21:32 __main__ DEBUG             layer_idx=8, patched_score=17.90625\n",
      "2025-04-07 17:21:32 __main__ DEBUG             layer_idx=9, patched_score=17.9375\n",
      "2025-04-07 17:21:32 __main__ DEBUG             layer_idx=10, patched_score=17.921875\n",
      "2025-04-07 17:21:33 __main__ DEBUG             layer_idx=11, patched_score=17.875\n",
      "2025-04-07 17:21:33 __main__ DEBUG             layer_idx=12, patched_score=17.953125\n",
      "2025-04-07 17:21:33 __main__ DEBUG             layer_idx=13, patched_score=17.96875\n",
      "2025-04-07 17:21:33 __main__ DEBUG             layer_idx=14, patched_score=17.984375\n",
      "2025-04-07 17:21:33 __main__ DEBUG             layer_idx=15, patched_score=18.0\n",
      "2025-04-07 17:21:33 __main__ DEBUG             layer_idx=16, patched_score=18.0\n",
      "2025-04-07 17:21:34 __main__ DEBUG             layer_idx=17, patched_score=17.859375\n",
      "2025-04-07 17:21:34 __main__ DEBUG             layer_idx=18, patched_score=17.921875\n",
      "2025-04-07 17:21:34 __main__ DEBUG             layer_idx=19, patched_score=17.90625\n",
      "2025-04-07 17:21:34 __main__ DEBUG             layer_idx=20, patched_score=17.75\n",
      "2025-04-07 17:21:34 __main__ DEBUG             layer_idx=21, patched_score=17.796875\n",
      "2025-04-07 17:21:35 __main__ DEBUG             layer_idx=22, patched_score=17.9375\n",
      "2025-04-07 17:21:35 __main__ DEBUG             layer_idx=23, patched_score=17.96875\n",
      "2025-04-07 17:21:35 __main__ DEBUG             layer_idx=24, patched_score=18.015625\n",
      "2025-04-07 17:21:35 __main__ DEBUG             layer_idx=25, patched_score=17.9375\n",
      "2025-04-07 17:21:35 __main__ DEBUG             layer_idx=26, patched_score=17.796875\n",
      "2025-04-07 17:21:35 __main__ DEBUG             layer_idx=27, patched_score=17.59375\n",
      "2025-04-07 17:21:36 __main__ DEBUG             layer_idx=28, patched_score=17.5625\n",
      "2025-04-07 17:21:36 __main__ DEBUG             layer_idx=29, patched_score=17.515625\n",
      "2025-04-07 17:21:36 __main__ DEBUG             layer_idx=30, patched_score=17.59375\n",
      "2025-04-07 17:21:36 __main__ DEBUG             layer_idx=31, patched_score=17.65625\n",
      "2025-04-07 17:21:36 __main__ DEBUG             layer_idx=32, patched_score=17.625\n",
      "2025-04-07 17:21:36 __main__ DEBUG             layer_idx=33, patched_score=17.765625\n",
      "2025-04-07 17:21:37 __main__ DEBUG             layer_idx=34, patched_score=17.796875\n",
      "2025-04-07 17:21:37 __main__ DEBUG             layer_idx=35, patched_score=17.71875\n",
      "2025-04-07 17:21:37 __main__ DEBUG             layer_idx=36, patched_score=18.046875\n",
      "2025-04-07 17:21:37 __main__ DEBUG             layer_idx=37, patched_score=18.25\n",
      "2025-04-07 17:21:37 __main__ DEBUG             layer_idx=38, patched_score=18.03125\n",
      "2025-04-07 17:21:38 __main__ DEBUG             layer_idx=39, patched_score=18.0625\n",
      "2025-04-07 17:21:38 __main__ DEBUG             layer_idx=40, patched_score=17.9375\n",
      "2025-04-07 17:21:38 __main__ DEBUG             layer_idx=41, patched_score=17.796875\n",
      "2025-04-07 17:21:38 __main__ DEBUG             layer_idx=42, patched_score=17.5625\n",
      "2025-04-07 17:21:38 __main__ DEBUG             layer_idx=43, patched_score=17.34375\n",
      "2025-04-07 17:21:38 __main__ DEBUG             layer_idx=44, patched_score=16.75\n",
      "2025-04-07 17:21:39 __main__ DEBUG             layer_idx=45, patched_score=16.515625\n",
      "2025-04-07 17:21:39 __main__ DEBUG             layer_idx=46, patched_score=16.546875\n",
      "2025-04-07 17:21:39 __main__ DEBUG             layer_idx=47, patched_score=16.65625\n",
      "2025-04-07 17:21:39 __main__ DEBUG    ------------------------------\n"
     ]
    },
    {
     "name": "stderr",
     "output_type": "stream",
     "text": [
      "5it [01:39, 20.02s/it]"
     ]
    },
    {
     "name": "stdout",
     "output_type": "stream",
     "text": [
      "2025-04-07 17:21:39 __main__ INFO     (6/13)  sample['entity_pair']=['Leonardo da Vinci', 'Benjamin Franklin'] <-- George Washington\n",
      "2025-04-07 17:21:44 __main__ INFO     ['Leonardo da Vinci', 'Benjamin Franklin'] >> answer='polymaths.'\n",
      "2025-04-07 17:21:50 __main__ INFO     ('George Washington', 'Benjamin Franklin') >> clean_answer='American politicians.'\n",
      "2025-04-07 17:21:50 __main__ INFO     ['44933( polym)']\n",
      "2025-04-07 17:21:50 __main__ INFO     gold_score=19.671875\n",
      "2025-04-07 17:21:50 __main__ INFO     corrupt_score=11.703125\n",
      "2025-04-07 17:21:51 __main__ DEBUG             layer_idx=0, patched_score=11.796875\n",
      "2025-04-07 17:21:51 __main__ DEBUG             layer_idx=1, patched_score=11.7421875\n",
      "2025-04-07 17:21:51 __main__ DEBUG             layer_idx=2, patched_score=11.703125\n",
      "2025-04-07 17:21:51 __main__ DEBUG             layer_idx=3, patched_score=11.5390625\n",
      "2025-04-07 17:21:51 __main__ DEBUG             layer_idx=4, patched_score=11.734375\n",
      "2025-04-07 17:21:52 __main__ DEBUG             layer_idx=5, patched_score=11.75\n",
      "2025-04-07 17:21:52 __main__ DEBUG             layer_idx=6, patched_score=11.6953125\n",
      "2025-04-07 17:21:52 __main__ DEBUG             layer_idx=7, patched_score=11.6328125\n",
      "2025-04-07 17:21:52 __main__ DEBUG             layer_idx=8, patched_score=11.65625\n",
      "2025-04-07 17:21:52 __main__ DEBUG             layer_idx=9, patched_score=11.734375\n",
      "2025-04-07 17:21:52 __main__ DEBUG             layer_idx=10, patched_score=11.7109375\n",
      "2025-04-07 17:21:53 __main__ DEBUG             layer_idx=11, patched_score=11.7734375\n",
      "2025-04-07 17:21:53 __main__ DEBUG             layer_idx=12, patched_score=11.8359375\n",
      "2025-04-07 17:21:53 __main__ DEBUG             layer_idx=13, patched_score=11.7109375\n",
      "2025-04-07 17:21:53 __main__ DEBUG             layer_idx=14, patched_score=11.671875\n",
      "2025-04-07 17:21:53 __main__ DEBUG             layer_idx=15, patched_score=11.59375\n",
      "2025-04-07 17:21:54 __main__ DEBUG             layer_idx=16, patched_score=11.6484375\n",
      "2025-04-07 17:21:54 __main__ DEBUG             layer_idx=17, patched_score=11.6171875\n",
      "2025-04-07 17:21:54 __main__ DEBUG             layer_idx=18, patched_score=11.609375\n",
      "2025-04-07 17:21:54 __main__ DEBUG             layer_idx=19, patched_score=11.734375\n",
      "2025-04-07 17:21:54 __main__ DEBUG             layer_idx=20, patched_score=11.7421875\n",
      "2025-04-07 17:21:54 __main__ DEBUG             layer_idx=21, patched_score=12.0390625\n",
      "2025-04-07 17:21:55 __main__ DEBUG             layer_idx=22, patched_score=11.8984375\n",
      "2025-04-07 17:21:55 __main__ DEBUG             layer_idx=23, patched_score=11.9765625\n",
      "2025-04-07 17:21:55 __main__ DEBUG             layer_idx=24, patched_score=12.1328125\n",
      "2025-04-07 17:21:55 __main__ DEBUG             layer_idx=25, patched_score=12.171875\n",
      "2025-04-07 17:21:55 __main__ DEBUG             layer_idx=26, patched_score=12.09375\n",
      "2025-04-07 17:21:55 __main__ DEBUG             layer_idx=27, patched_score=11.796875\n",
      "2025-04-07 17:21:56 __main__ DEBUG             layer_idx=28, patched_score=12.0\n",
      "2025-04-07 17:21:56 __main__ DEBUG             layer_idx=29, patched_score=12.859375\n",
      "2025-04-07 17:21:56 __main__ DEBUG             layer_idx=30, patched_score=13.25\n",
      "2025-04-07 17:21:56 __main__ DEBUG             layer_idx=31, patched_score=13.546875\n",
      "2025-04-07 17:21:56 __main__ DEBUG             layer_idx=32, patched_score=14.25\n",
      "2025-04-07 17:21:56 __main__ DEBUG             layer_idx=33, patched_score=15.8046875\n",
      "2025-04-07 17:21:57 __main__ DEBUG             layer_idx=34, patched_score=16.140625\n",
      "2025-04-07 17:21:57 __main__ DEBUG             layer_idx=35, patched_score=16.5625\n",
      "2025-04-07 17:21:57 __main__ DEBUG             layer_idx=36, patched_score=16.640625\n",
      "2025-04-07 17:21:57 __main__ DEBUG             layer_idx=37, patched_score=16.234375\n",
      "2025-04-07 17:21:57 __main__ DEBUG             layer_idx=38, patched_score=15.2578125\n",
      "2025-04-07 17:21:58 __main__ DEBUG             layer_idx=39, patched_score=14.703125\n",
      "2025-04-07 17:21:58 __main__ DEBUG             layer_idx=40, patched_score=14.234375\n",
      "2025-04-07 17:21:58 __main__ DEBUG             layer_idx=41, patched_score=14.1015625\n",
      "2025-04-07 17:21:58 __main__ DEBUG             layer_idx=42, patched_score=14.28125\n",
      "2025-04-07 17:21:58 __main__ DEBUG             layer_idx=43, patched_score=14.0859375\n",
      "2025-04-07 17:21:58 __main__ DEBUG             layer_idx=44, patched_score=12.78125\n",
      "2025-04-07 17:21:59 __main__ DEBUG             layer_idx=45, patched_score=14.3984375\n",
      "2025-04-07 17:21:59 __main__ DEBUG             layer_idx=46, patched_score=13.5078125\n",
      "2025-04-07 17:21:59 __main__ DEBUG             layer_idx=47, patched_score=13.0078125\n",
      "2025-04-07 17:21:59 __main__ DEBUG    ------------------------------\n"
     ]
    },
    {
     "name": "stderr",
     "output_type": "stream",
     "text": [
      "6it [02:00, 20.02s/it]"
     ]
    },
    {
     "name": "stdout",
     "output_type": "stream",
     "text": [
      "2025-04-07 17:21:59 __main__ INFO     (7/13)  sample['entity_pair']=['Toph Beifong', 'Daredevil'] <-- Punisher\n",
      "2025-04-07 17:22:04 __main__ INFO     ['Toph Beifong', 'Daredevil'] >> answer='blind and have superhuman abilities.'\n",
      "2025-04-07 17:22:10 __main__ INFO     ('Punisher', 'Daredevil') >> clean_answer='Marvel comic book characters.'\n",
      "2025-04-07 17:22:10 __main__ INFO     ['18020( blind)', '2256( super)', '17541( abilities)']\n",
      "2025-04-07 17:22:10 __main__ INFO     gold_score=14.8828125\n",
      "2025-04-07 17:22:10 __main__ INFO     corrupt_score=10.4140625\n",
      "2025-04-07 17:22:11 __main__ DEBUG             layer_idx=0, patched_score=10.3671875\n",
      "2025-04-07 17:22:11 __main__ DEBUG             layer_idx=1, patched_score=10.3515625\n",
      "2025-04-07 17:22:11 __main__ DEBUG             layer_idx=2, patched_score=10.390625\n",
      "2025-04-07 17:22:11 __main__ DEBUG             layer_idx=3, patched_score=10.40625\n",
      "2025-04-07 17:22:11 __main__ DEBUG             layer_idx=4, patched_score=10.4296875\n",
      "2025-04-07 17:22:12 __main__ DEBUG             layer_idx=5, patched_score=10.4453125\n",
      "2025-04-07 17:22:12 __main__ DEBUG             layer_idx=6, patched_score=10.3515625\n",
      "2025-04-07 17:22:12 __main__ DEBUG             layer_idx=7, patched_score=10.40625\n",
      "2025-04-07 17:22:12 __main__ DEBUG             layer_idx=8, patched_score=10.375\n",
      "2025-04-07 17:22:12 __main__ DEBUG             layer_idx=9, patched_score=10.359375\n",
      "2025-04-07 17:22:12 __main__ DEBUG             layer_idx=10, patched_score=10.390625\n",
      "2025-04-07 17:22:13 __main__ DEBUG             layer_idx=11, patched_score=10.3671875\n",
      "2025-04-07 17:22:13 __main__ DEBUG             layer_idx=12, patched_score=10.3671875\n",
      "2025-04-07 17:22:13 __main__ DEBUG             layer_idx=13, patched_score=10.4296875\n",
      "2025-04-07 17:22:13 __main__ DEBUG             layer_idx=14, patched_score=10.3984375\n",
      "2025-04-07 17:22:13 __main__ DEBUG             layer_idx=15, patched_score=10.390625\n",
      "2025-04-07 17:22:14 __main__ DEBUG             layer_idx=16, patched_score=10.546875\n",
      "2025-04-07 17:22:14 __main__ DEBUG             layer_idx=17, patched_score=10.390625\n",
      "2025-04-07 17:22:14 __main__ DEBUG             layer_idx=18, patched_score=10.328125\n",
      "2025-04-07 17:22:14 __main__ DEBUG             layer_idx=19, patched_score=10.3984375\n",
      "2025-04-07 17:22:14 __main__ DEBUG             layer_idx=20, patched_score=10.3125\n",
      "2025-04-07 17:22:14 __main__ DEBUG             layer_idx=21, patched_score=10.453125\n",
      "2025-04-07 17:22:15 __main__ DEBUG             layer_idx=22, patched_score=10.2890625\n",
      "2025-04-07 17:22:15 __main__ DEBUG             layer_idx=23, patched_score=10.3828125\n",
      "2025-04-07 17:22:15 __main__ DEBUG             layer_idx=24, patched_score=10.34375\n",
      "2025-04-07 17:22:15 __main__ DEBUG             layer_idx=25, patched_score=10.234375\n",
      "2025-04-07 17:22:15 __main__ DEBUG             layer_idx=26, patched_score=10.125\n",
      "2025-04-07 17:22:15 __main__ DEBUG             layer_idx=27, patched_score=10.234375\n",
      "2025-04-07 17:22:16 __main__ DEBUG             layer_idx=28, patched_score=10.3515625\n",
      "2025-04-07 17:22:16 __main__ DEBUG             layer_idx=29, patched_score=10.3359375\n",
      "2025-04-07 17:22:16 __main__ DEBUG             layer_idx=30, patched_score=10.5703125\n",
      "2025-04-07 17:22:16 __main__ DEBUG             layer_idx=31, patched_score=11.5078125\n",
      "2025-04-07 17:22:16 __main__ DEBUG             layer_idx=32, patched_score=12.09375\n",
      "2025-04-07 17:22:16 __main__ DEBUG             layer_idx=33, patched_score=12.7109375\n",
      "2025-04-07 17:22:17 __main__ DEBUG             layer_idx=34, patched_score=13.28125\n",
      "2025-04-07 17:22:17 __main__ DEBUG             layer_idx=35, patched_score=13.2890625\n",
      "2025-04-07 17:22:17 __main__ DEBUG             layer_idx=36, patched_score=13.1328125\n",
      "2025-04-07 17:22:17 __main__ DEBUG             layer_idx=37, patched_score=13.5546875\n",
      "2025-04-07 17:22:17 __main__ DEBUG             layer_idx=38, patched_score=13.984375\n",
      "2025-04-07 17:22:18 __main__ DEBUG             layer_idx=39, patched_score=13.2890625\n",
      "2025-04-07 17:22:18 __main__ DEBUG             layer_idx=40, patched_score=13.1875\n",
      "2025-04-07 17:22:18 __main__ DEBUG             layer_idx=41, patched_score=12.6484375\n",
      "2025-04-07 17:22:18 __main__ DEBUG             layer_idx=42, patched_score=11.625\n",
      "2025-04-07 17:22:18 __main__ DEBUG             layer_idx=43, patched_score=10.0078125\n",
      "2025-04-07 17:22:18 __main__ DEBUG             layer_idx=44, patched_score=8.4140625\n",
      "2025-04-07 17:22:19 __main__ DEBUG             layer_idx=45, patched_score=7.77734375\n",
      "2025-04-07 17:22:19 __main__ DEBUG             layer_idx=46, patched_score=8.296875\n",
      "2025-04-07 17:22:19 __main__ DEBUG             layer_idx=47, patched_score=8.515625\n",
      "2025-04-07 17:22:19 __main__ DEBUG    ------------------------------\n"
     ]
    },
    {
     "name": "stderr",
     "output_type": "stream",
     "text": [
      "7it [02:20, 20.01s/it]"
     ]
    },
    {
     "name": "stdout",
     "output_type": "stream",
     "text": [
      "2025-04-07 17:22:19 __main__ INFO     (8/13)  sample['entity_pair']=['Julius Caesar', 'Nepoleon Bonaparte'] <-- Victor Hugo\n",
      "2025-04-07 17:22:24 __main__ INFO     ['Julius Caesar', 'Nepoleon Bonaparte'] >> answer='military leaders.'\n",
      "2025-04-07 17:22:30 __main__ INFO     ('Victor Hugo', 'Nepoleon Bonaparte') >> clean_answer='French.'\n",
      "2025-04-07 17:22:30 __main__ INFO     ['6277( military)', '6036( leaders)']\n",
      "2025-04-07 17:22:30 __main__ INFO     gold_score=18.578125\n",
      "2025-04-07 17:22:30 __main__ INFO     corrupt_score=14.6953125\n",
      "2025-04-07 17:22:31 __main__ DEBUG             layer_idx=0, patched_score=14.640625\n",
      "2025-04-07 17:22:31 __main__ DEBUG             layer_idx=1, patched_score=14.859375\n",
      "2025-04-07 17:22:31 __main__ DEBUG             layer_idx=2, patched_score=14.609375\n",
      "2025-04-07 17:22:31 __main__ DEBUG             layer_idx=3, patched_score=14.7734375\n",
      "2025-04-07 17:22:31 __main__ DEBUG             layer_idx=4, patched_score=14.6875\n",
      "2025-04-07 17:22:32 __main__ DEBUG             layer_idx=5, patched_score=14.6953125\n",
      "2025-04-07 17:22:32 __main__ DEBUG             layer_idx=6, patched_score=14.78125\n",
      "2025-04-07 17:22:32 __main__ DEBUG             layer_idx=7, patched_score=14.609375\n",
      "2025-04-07 17:22:32 __main__ DEBUG             layer_idx=8, patched_score=14.640625\n",
      "2025-04-07 17:22:32 __main__ DEBUG             layer_idx=9, patched_score=14.6796875\n",
      "2025-04-07 17:22:33 __main__ DEBUG             layer_idx=10, patched_score=14.6796875\n",
      "2025-04-07 17:22:33 __main__ DEBUG             layer_idx=11, patched_score=14.609375\n",
      "2025-04-07 17:22:33 __main__ DEBUG             layer_idx=12, patched_score=14.6796875\n",
      "2025-04-07 17:22:33 __main__ DEBUG             layer_idx=13, patched_score=14.78125\n",
      "2025-04-07 17:22:33 __main__ DEBUG             layer_idx=14, patched_score=14.7890625\n",
      "2025-04-07 17:22:33 __main__ DEBUG             layer_idx=15, patched_score=14.6015625\n",
      "2025-04-07 17:22:34 __main__ DEBUG             layer_idx=16, patched_score=14.6875\n",
      "2025-04-07 17:22:34 __main__ DEBUG             layer_idx=17, patched_score=14.765625\n",
      "2025-04-07 17:22:34 __main__ DEBUG             layer_idx=18, patched_score=14.7890625\n",
      "2025-04-07 17:22:34 __main__ DEBUG             layer_idx=19, patched_score=14.8125\n",
      "2025-04-07 17:22:34 __main__ DEBUG             layer_idx=20, patched_score=14.71875\n",
      "2025-04-07 17:22:34 __main__ DEBUG             layer_idx=21, patched_score=14.71875\n",
      "2025-04-07 17:22:35 __main__ DEBUG             layer_idx=22, patched_score=14.78125\n",
      "2025-04-07 17:22:35 __main__ DEBUG             layer_idx=23, patched_score=14.65625\n",
      "2025-04-07 17:22:35 __main__ DEBUG             layer_idx=24, patched_score=14.6640625\n",
      "2025-04-07 17:22:35 __main__ DEBUG             layer_idx=25, patched_score=14.6953125\n",
      "2025-04-07 17:22:35 __main__ DEBUG             layer_idx=26, patched_score=14.953125\n",
      "2025-04-07 17:22:35 __main__ DEBUG             layer_idx=27, patched_score=14.78125\n",
      "2025-04-07 17:22:36 __main__ DEBUG             layer_idx=28, patched_score=14.953125\n",
      "2025-04-07 17:22:36 __main__ DEBUG             layer_idx=29, patched_score=15.5625\n",
      "2025-04-07 17:22:36 __main__ DEBUG             layer_idx=30, patched_score=15.703125\n",
      "2025-04-07 17:22:36 __main__ DEBUG             layer_idx=31, patched_score=15.8671875\n",
      "2025-04-07 17:22:36 __main__ DEBUG             layer_idx=32, patched_score=16.5625\n",
      "2025-04-07 17:22:37 __main__ DEBUG             layer_idx=33, patched_score=17.234375\n",
      "2025-04-07 17:22:37 __main__ DEBUG             layer_idx=34, patched_score=17.3125\n",
      "2025-04-07 17:22:37 __main__ DEBUG             layer_idx=35, patched_score=17.65625\n",
      "2025-04-07 17:22:37 __main__ DEBUG             layer_idx=36, patched_score=17.59375\n",
      "2025-04-07 17:22:37 __main__ DEBUG             layer_idx=37, patched_score=17.34375\n",
      "2025-04-07 17:22:37 __main__ DEBUG             layer_idx=38, patched_score=16.8125\n",
      "2025-04-07 17:22:38 __main__ DEBUG             layer_idx=39, patched_score=17.09375\n",
      "2025-04-07 17:22:38 __main__ DEBUG             layer_idx=40, patched_score=16.90625\n",
      "2025-04-07 17:22:38 __main__ DEBUG             layer_idx=41, patched_score=16.84375\n",
      "2025-04-07 17:22:38 __main__ DEBUG             layer_idx=42, patched_score=15.71875\n",
      "2025-04-07 17:22:38 __main__ DEBUG             layer_idx=43, patched_score=15.703125\n",
      "2025-04-07 17:22:38 __main__ DEBUG             layer_idx=44, patched_score=13.359375\n",
      "2025-04-07 17:22:39 __main__ DEBUG             layer_idx=45, patched_score=12.640625\n",
      "2025-04-07 17:22:39 __main__ DEBUG             layer_idx=46, patched_score=12.15625\n",
      "2025-04-07 17:22:39 __main__ DEBUG             layer_idx=47, patched_score=12.9375\n",
      "2025-04-07 17:22:39 __main__ DEBUG    ------------------------------\n"
     ]
    },
    {
     "name": "stderr",
     "output_type": "stream",
     "text": [
      "8it [02:40, 20.04s/it]"
     ]
    },
    {
     "name": "stdout",
     "output_type": "stream",
     "text": [
      "2025-04-07 17:22:39 __main__ INFO     (9/13)  sample['entity_pair']=['Christopher Columbus', 'Vasco da Gama'] <-- Christiano Ronaldo\n",
      "2025-04-07 17:22:45 __main__ INFO     ['Christopher Columbus', 'Vasco da Gama'] >> answer='explorers.'\n",
      "2025-04-07 17:22:50 __main__ INFO     ('Christiano Ronaldo', 'Vasco da Gama') >> clean_answer='Portuguese.'\n",
      "2025-04-07 17:22:50 __main__ INFO     ['47439( explor)']\n",
      "2025-04-07 17:22:50 __main__ INFO     gold_score=20.671875\n",
      "2025-04-07 17:22:50 __main__ INFO     corrupt_score=12.9453125\n",
      "2025-04-07 17:22:51 __main__ DEBUG             layer_idx=0, patched_score=13.1171875\n",
      "2025-04-07 17:22:51 __main__ DEBUG             layer_idx=1, patched_score=12.9453125\n",
      "2025-04-07 17:22:51 __main__ DEBUG             layer_idx=2, patched_score=12.78125\n",
      "2025-04-07 17:22:51 __main__ DEBUG             layer_idx=3, patched_score=13.0859375\n",
      "2025-04-07 17:22:51 __main__ DEBUG             layer_idx=4, patched_score=13.078125\n",
      "2025-04-07 17:22:52 __main__ DEBUG             layer_idx=5, patched_score=12.96875\n",
      "2025-04-07 17:22:52 __main__ DEBUG             layer_idx=6, patched_score=12.515625\n",
      "2025-04-07 17:22:52 __main__ DEBUG             layer_idx=7, patched_score=12.9921875\n",
      "2025-04-07 17:22:52 __main__ DEBUG             layer_idx=8, patched_score=13.046875\n",
      "2025-04-07 17:22:52 __main__ DEBUG             layer_idx=9, patched_score=12.7578125\n",
      "2025-04-07 17:22:53 __main__ DEBUG             layer_idx=10, patched_score=13.0625\n",
      "2025-04-07 17:22:53 __main__ DEBUG             layer_idx=11, patched_score=12.7421875\n",
      "2025-04-07 17:22:53 __main__ DEBUG             layer_idx=12, patched_score=13.0625\n",
      "2025-04-07 17:22:53 __main__ DEBUG             layer_idx=13, patched_score=13.0078125\n",
      "2025-04-07 17:22:53 __main__ DEBUG             layer_idx=14, patched_score=12.921875\n",
      "2025-04-07 17:22:53 __main__ DEBUG             layer_idx=15, patched_score=12.84375\n",
      "2025-04-07 17:22:54 __main__ DEBUG             layer_idx=16, patched_score=13.328125\n",
      "2025-04-07 17:22:54 __main__ DEBUG             layer_idx=17, patched_score=13.296875\n",
      "2025-04-07 17:22:54 __main__ DEBUG             layer_idx=18, patched_score=13.09375\n",
      "2025-04-07 17:22:54 __main__ DEBUG             layer_idx=19, patched_score=12.546875\n",
      "2025-04-07 17:22:54 __main__ DEBUG             layer_idx=20, patched_score=12.3984375\n",
      "2025-04-07 17:22:54 __main__ DEBUG             layer_idx=21, patched_score=12.84375\n",
      "2025-04-07 17:22:55 __main__ DEBUG             layer_idx=22, patched_score=12.78125\n",
      "2025-04-07 17:22:55 __main__ DEBUG             layer_idx=23, patched_score=13.203125\n",
      "2025-04-07 17:22:55 __main__ DEBUG             layer_idx=24, patched_score=12.4375\n",
      "2025-04-07 17:22:55 __main__ DEBUG             layer_idx=25, patched_score=12.6953125\n",
      "2025-04-07 17:22:55 __main__ DEBUG             layer_idx=26, patched_score=11.7109375\n",
      "2025-04-07 17:22:56 __main__ DEBUG             layer_idx=27, patched_score=11.78125\n",
      "2025-04-07 17:22:56 __main__ DEBUG             layer_idx=28, patched_score=13.2421875\n",
      "2025-04-07 17:22:56 __main__ DEBUG             layer_idx=29, patched_score=13.65625\n",
      "2025-04-07 17:22:56 __main__ DEBUG             layer_idx=30, patched_score=13.640625\n",
      "2025-04-07 17:22:56 __main__ DEBUG             layer_idx=31, patched_score=14.28125\n",
      "2025-04-07 17:22:56 __main__ DEBUG             layer_idx=32, patched_score=16.328125\n",
      "2025-04-07 17:22:57 __main__ DEBUG             layer_idx=33, patched_score=16.734375\n",
      "2025-04-07 17:22:57 __main__ DEBUG             layer_idx=34, patched_score=18.890625\n",
      "2025-04-07 17:22:57 __main__ DEBUG             layer_idx=35, patched_score=18.953125\n",
      "2025-04-07 17:22:57 __main__ DEBUG             layer_idx=36, patched_score=19.421875\n",
      "2025-04-07 17:22:57 __main__ DEBUG             layer_idx=37, patched_score=19.515625\n",
      "2025-04-07 17:22:57 __main__ DEBUG             layer_idx=38, patched_score=19.03125\n",
      "2025-04-07 17:22:58 __main__ DEBUG             layer_idx=39, patched_score=18.21875\n",
      "2025-04-07 17:22:58 __main__ DEBUG             layer_idx=40, patched_score=18.53125\n",
      "2025-04-07 17:22:58 __main__ DEBUG             layer_idx=41, patched_score=17.75\n",
      "2025-04-07 17:22:58 __main__ DEBUG             layer_idx=42, patched_score=15.7421875\n",
      "2025-04-07 17:22:58 __main__ DEBUG             layer_idx=43, patched_score=14.671875\n",
      "2025-04-07 17:22:59 __main__ DEBUG             layer_idx=44, patched_score=13.265625\n",
      "2025-04-07 17:22:59 __main__ DEBUG             layer_idx=45, patched_score=9.8046875\n",
      "2025-04-07 17:22:59 __main__ DEBUG             layer_idx=46, patched_score=9.3125\n",
      "2025-04-07 17:22:59 __main__ DEBUG             layer_idx=47, patched_score=8.953125\n",
      "2025-04-07 17:22:59 __main__ DEBUG    ------------------------------\n"
     ]
    },
    {
     "name": "stderr",
     "output_type": "stream",
     "text": [
      "9it [03:00, 20.03s/it]"
     ]
    },
    {
     "name": "stdout",
     "output_type": "stream",
     "text": [
      "2025-04-07 17:22:59 __main__ INFO     (10/13)  sample['entity_pair']=['Whale', 'Elephant'] <-- Horse\n",
      "2025-04-07 17:23:05 __main__ INFO     ['Whale', 'Elephant'] >> answer='mammals.'\n",
      "2025-04-07 17:23:10 __main__ INFO     ('Horse', 'Elephant') >> clean_answer='used as war animals.'\n",
      "2025-04-07 17:23:10 __main__ INFO     ['55569( mammals)']\n",
      "2025-04-07 17:23:10 __main__ INFO     gold_score=18.640625\n",
      "2025-04-07 17:23:10 __main__ INFO     corrupt_score=15.5703125\n",
      "2025-04-07 17:23:11 __main__ DEBUG             layer_idx=0, patched_score=15.6328125\n",
      "2025-04-07 17:23:11 __main__ DEBUG             layer_idx=1, patched_score=15.6171875\n",
      "2025-04-07 17:23:11 __main__ DEBUG             layer_idx=2, patched_score=15.421875\n",
      "2025-04-07 17:23:11 __main__ DEBUG             layer_idx=3, patched_score=15.4765625\n",
      "2025-04-07 17:23:11 __main__ DEBUG             layer_idx=4, patched_score=15.765625\n",
      "2025-04-07 17:23:12 __main__ DEBUG             layer_idx=5, patched_score=15.6953125\n",
      "2025-04-07 17:23:12 __main__ DEBUG             layer_idx=6, patched_score=15.6875\n",
      "2025-04-07 17:23:12 __main__ DEBUG             layer_idx=7, patched_score=15.53125\n",
      "2025-04-07 17:23:12 __main__ DEBUG             layer_idx=8, patched_score=15.7734375\n",
      "2025-04-07 17:23:12 __main__ DEBUG             layer_idx=9, patched_score=15.6875\n",
      "2025-04-07 17:23:13 __main__ DEBUG             layer_idx=10, patched_score=15.5625\n",
      "2025-04-07 17:23:13 __main__ DEBUG             layer_idx=11, patched_score=15.703125\n",
      "2025-04-07 17:23:13 __main__ DEBUG             layer_idx=12, patched_score=15.6484375\n",
      "2025-04-07 17:23:13 __main__ DEBUG             layer_idx=13, patched_score=15.578125\n",
      "2025-04-07 17:23:13 __main__ DEBUG             layer_idx=14, patched_score=15.5\n",
      "2025-04-07 17:23:13 __main__ DEBUG             layer_idx=15, patched_score=15.5625\n",
      "2025-04-07 17:23:14 __main__ DEBUG             layer_idx=16, patched_score=15.4453125\n",
      "2025-04-07 17:23:14 __main__ DEBUG             layer_idx=17, patched_score=15.5546875\n",
      "2025-04-07 17:23:14 __main__ DEBUG             layer_idx=18, patched_score=15.5859375\n",
      "2025-04-07 17:23:14 __main__ DEBUG             layer_idx=19, patched_score=15.8515625\n",
      "2025-04-07 17:23:14 __main__ DEBUG             layer_idx=20, patched_score=15.625\n",
      "2025-04-07 17:23:14 __main__ DEBUG             layer_idx=21, patched_score=15.4921875\n",
      "2025-04-07 17:23:15 __main__ DEBUG             layer_idx=22, patched_score=15.53125\n",
      "2025-04-07 17:23:15 __main__ DEBUG             layer_idx=23, patched_score=15.6796875\n",
      "2025-04-07 17:23:15 __main__ DEBUG             layer_idx=24, patched_score=15.4765625\n",
      "2025-04-07 17:23:15 __main__ DEBUG             layer_idx=25, patched_score=15.421875\n",
      "2025-04-07 17:23:15 __main__ DEBUG             layer_idx=26, patched_score=15.4375\n",
      "2025-04-07 17:23:15 __main__ DEBUG             layer_idx=27, patched_score=15.3046875\n",
      "2025-04-07 17:23:16 __main__ DEBUG             layer_idx=28, patched_score=15.4140625\n",
      "2025-04-07 17:23:16 __main__ DEBUG             layer_idx=29, patched_score=15.5703125\n",
      "2025-04-07 17:23:16 __main__ DEBUG             layer_idx=30, patched_score=15.7734375\n",
      "2025-04-07 17:23:16 __main__ DEBUG             layer_idx=31, patched_score=16.171875\n",
      "2025-04-07 17:23:16 __main__ DEBUG             layer_idx=32, patched_score=16.28125\n",
      "2025-04-07 17:23:16 __main__ DEBUG             layer_idx=33, patched_score=16.671875\n",
      "2025-04-07 17:23:17 __main__ DEBUG             layer_idx=34, patched_score=16.71875\n",
      "2025-04-07 17:23:17 __main__ DEBUG             layer_idx=35, patched_score=16.96875\n",
      "2025-04-07 17:23:17 __main__ DEBUG             layer_idx=36, patched_score=17.015625\n",
      "2025-04-07 17:23:17 __main__ DEBUG             layer_idx=37, patched_score=17.328125\n",
      "2025-04-07 17:23:17 __main__ DEBUG             layer_idx=38, patched_score=17.4375\n",
      "2025-04-07 17:23:18 __main__ DEBUG             layer_idx=39, patched_score=17.6875\n",
      "2025-04-07 17:23:18 __main__ DEBUG             layer_idx=40, patched_score=17.375\n",
      "2025-04-07 17:23:18 __main__ DEBUG             layer_idx=41, patched_score=17.0625\n",
      "2025-04-07 17:23:18 __main__ DEBUG             layer_idx=42, patched_score=16.78125\n",
      "2025-04-07 17:23:18 __main__ DEBUG             layer_idx=43, patched_score=15.7734375\n",
      "2025-04-07 17:23:18 __main__ DEBUG             layer_idx=44, patched_score=15.125\n",
      "2025-04-07 17:23:19 __main__ DEBUG             layer_idx=45, patched_score=14.7734375\n",
      "2025-04-07 17:23:19 __main__ DEBUG             layer_idx=46, patched_score=14.4296875\n",
      "2025-04-07 17:23:19 __main__ DEBUG             layer_idx=47, patched_score=14.0390625\n",
      "2025-04-07 17:23:19 __main__ DEBUG    ------------------------------\n"
     ]
    },
    {
     "name": "stderr",
     "output_type": "stream",
     "text": [
      "10it [03:20, 19.98s/it]"
     ]
    },
    {
     "name": "stdout",
     "output_type": "stream",
     "text": [
      "2025-04-07 17:23:19 __main__ INFO     (11/13)  sample['entity_pair']=['jellyfish', 'lobster'] <-- salmon\n",
      "2025-04-07 17:23:25 __main__ INFO     ['jellyfish', 'lobster'] >> answer='eaten by the same person.'\n",
      "2025-04-07 17:23:30 __main__ INFO     ('salmon', 'lobster') >> clean_answer='served at the White House.'\n",
      "2025-04-07 17:23:30 __main__ INFO     ['34561( eaten)', '1697( person)']\n",
      "2025-04-07 17:23:30 __main__ INFO     gold_score=11.625\n",
      "2025-04-07 17:23:30 __main__ INFO     corrupt_score=11.5234375\n",
      "2025-04-07 17:23:31 __main__ DEBUG             layer_idx=0, patched_score=11.5625\n",
      "2025-04-07 17:23:31 __main__ DEBUG             layer_idx=1, patched_score=11.4375\n",
      "2025-04-07 17:23:31 __main__ DEBUG             layer_idx=2, patched_score=11.578125\n",
      "2025-04-07 17:23:31 __main__ DEBUG             layer_idx=3, patched_score=11.59375\n",
      "2025-04-07 17:23:31 __main__ DEBUG             layer_idx=4, patched_score=11.515625\n",
      "2025-04-07 17:23:32 __main__ DEBUG             layer_idx=5, patched_score=11.4921875\n",
      "2025-04-07 17:23:32 __main__ DEBUG             layer_idx=6, patched_score=11.5234375\n",
      "2025-04-07 17:23:32 __main__ DEBUG             layer_idx=7, patched_score=11.5546875\n",
      "2025-04-07 17:23:32 __main__ DEBUG             layer_idx=8, patched_score=11.4609375\n",
      "2025-04-07 17:23:32 __main__ DEBUG             layer_idx=9, patched_score=11.484375\n",
      "2025-04-07 17:23:33 __main__ DEBUG             layer_idx=10, patched_score=11.5625\n",
      "2025-04-07 17:23:33 __main__ DEBUG             layer_idx=11, patched_score=11.578125\n",
      "2025-04-07 17:23:33 __main__ DEBUG             layer_idx=12, patched_score=11.625\n",
      "2025-04-07 17:23:33 __main__ DEBUG             layer_idx=13, patched_score=11.546875\n",
      "2025-04-07 17:23:33 __main__ DEBUG             layer_idx=14, patched_score=11.515625\n",
      "2025-04-07 17:23:33 __main__ DEBUG             layer_idx=15, patched_score=11.515625\n",
      "2025-04-07 17:23:34 __main__ DEBUG             layer_idx=16, patched_score=11.5625\n",
      "2025-04-07 17:23:34 __main__ DEBUG             layer_idx=17, patched_score=11.5390625\n",
      "2025-04-07 17:23:34 __main__ DEBUG             layer_idx=18, patched_score=11.5703125\n",
      "2025-04-07 17:23:34 __main__ DEBUG             layer_idx=19, patched_score=11.625\n",
      "2025-04-07 17:23:34 __main__ DEBUG             layer_idx=20, patched_score=11.5625\n",
      "2025-04-07 17:23:34 __main__ DEBUG             layer_idx=21, patched_score=11.609375\n",
      "2025-04-07 17:23:35 __main__ DEBUG             layer_idx=22, patched_score=11.5234375\n",
      "2025-04-07 17:23:35 __main__ DEBUG             layer_idx=23, patched_score=11.5\n",
      "2025-04-07 17:23:35 __main__ DEBUG             layer_idx=24, patched_score=11.484375\n",
      "2025-04-07 17:23:35 __main__ DEBUG             layer_idx=25, patched_score=11.46875\n",
      "2025-04-07 17:23:35 __main__ DEBUG             layer_idx=26, patched_score=11.484375\n",
      "2025-04-07 17:23:35 __main__ DEBUG             layer_idx=27, patched_score=11.578125\n",
      "2025-04-07 17:23:36 __main__ DEBUG             layer_idx=28, patched_score=11.8046875\n",
      "2025-04-07 17:23:36 __main__ DEBUG             layer_idx=29, patched_score=11.7578125\n",
      "2025-04-07 17:23:36 __main__ DEBUG             layer_idx=30, patched_score=11.6484375\n",
      "2025-04-07 17:23:36 __main__ DEBUG             layer_idx=31, patched_score=11.7890625\n",
      "2025-04-07 17:23:36 __main__ DEBUG             layer_idx=32, patched_score=11.734375\n",
      "2025-04-07 17:23:37 __main__ DEBUG             layer_idx=33, patched_score=11.9375\n",
      "2025-04-07 17:23:37 __main__ DEBUG             layer_idx=34, patched_score=11.859375\n",
      "2025-04-07 17:23:37 __main__ DEBUG             layer_idx=35, patched_score=11.9296875\n",
      "2025-04-07 17:23:37 __main__ DEBUG             layer_idx=36, patched_score=11.8125\n",
      "2025-04-07 17:23:37 __main__ DEBUG             layer_idx=37, patched_score=11.703125\n",
      "2025-04-07 17:23:37 __main__ DEBUG             layer_idx=38, patched_score=11.7265625\n",
      "2025-04-07 17:23:38 __main__ DEBUG             layer_idx=39, patched_score=11.9609375\n",
      "2025-04-07 17:23:38 __main__ DEBUG             layer_idx=40, patched_score=11.765625\n",
      "2025-04-07 17:23:38 __main__ DEBUG             layer_idx=41, patched_score=11.6953125\n",
      "2025-04-07 17:23:38 __main__ DEBUG             layer_idx=42, patched_score=11.5625\n",
      "2025-04-07 17:23:38 __main__ DEBUG             layer_idx=43, patched_score=11.3671875\n",
      "2025-04-07 17:23:38 __main__ DEBUG             layer_idx=44, patched_score=11.015625\n",
      "2025-04-07 17:23:39 __main__ DEBUG             layer_idx=45, patched_score=11.03125\n",
      "2025-04-07 17:23:39 __main__ DEBUG             layer_idx=46, patched_score=11.1484375\n",
      "2025-04-07 17:23:39 __main__ DEBUG             layer_idx=47, patched_score=11.4921875\n",
      "2025-04-07 17:23:39 __main__ DEBUG    ------------------------------\n"
     ]
    },
    {
     "name": "stderr",
     "output_type": "stream",
     "text": [
      "11it [03:40, 20.00s/it]"
     ]
    },
    {
     "name": "stdout",
     "output_type": "stream",
     "text": [
      "2025-04-07 17:23:39 __main__ INFO     (12/13)  sample['entity_pair']=['crocodile', 'shark'] <-- salmon\n",
      "2025-04-07 17:23:45 __main__ INFO     ['crocodile', 'shark'] >> answer='apex predators.'\n",
      "2025-04-07 17:23:50 __main__ INFO     ('salmon', 'shark') >> clean_answer='fish.'\n",
      "2025-04-07 17:23:50 __main__ INFO     ['71527( apex)', '55117( predators)']\n",
      "2025-04-07 17:23:50 __main__ INFO     gold_score=17.375\n",
      "2025-04-07 17:23:51 __main__ INFO     corrupt_score=16.3125\n",
      "2025-04-07 17:23:51 __main__ DEBUG             layer_idx=0, patched_score=16.15625\n",
      "2025-04-07 17:23:51 __main__ DEBUG             layer_idx=1, patched_score=16.34375\n",
      "2025-04-07 17:23:51 __main__ DEBUG             layer_idx=2, patched_score=16.21875\n",
      "2025-04-07 17:23:51 __main__ DEBUG             layer_idx=3, patched_score=16.359375\n",
      "2025-04-07 17:23:52 __main__ DEBUG             layer_idx=4, patched_score=16.171875\n",
      "2025-04-07 17:23:52 __main__ DEBUG             layer_idx=5, patched_score=16.171875\n",
      "2025-04-07 17:23:52 __main__ DEBUG             layer_idx=6, patched_score=16.375\n",
      "2025-04-07 17:23:52 __main__ DEBUG             layer_idx=7, patched_score=16.21875\n",
      "2025-04-07 17:23:52 __main__ DEBUG             layer_idx=8, patched_score=16.0625\n",
      "2025-04-07 17:23:52 __main__ DEBUG             layer_idx=9, patched_score=16.21875\n",
      "2025-04-07 17:23:53 __main__ DEBUG             layer_idx=10, patched_score=16.15625\n",
      "2025-04-07 17:23:53 __main__ DEBUG             layer_idx=11, patched_score=16.21875\n",
      "2025-04-07 17:23:53 __main__ DEBUG             layer_idx=12, patched_score=16.3125\n",
      "2025-04-07 17:23:53 __main__ DEBUG             layer_idx=13, patched_score=16.21875\n",
      "2025-04-07 17:23:53 __main__ DEBUG             layer_idx=14, patched_score=16.15625\n",
      "2025-04-07 17:23:53 __main__ DEBUG             layer_idx=15, patched_score=16.09375\n",
      "2025-04-07 17:23:54 __main__ DEBUG             layer_idx=16, patched_score=16.1875\n",
      "2025-04-07 17:23:54 __main__ DEBUG             layer_idx=17, patched_score=16.375\n",
      "2025-04-07 17:23:54 __main__ DEBUG             layer_idx=18, patched_score=16.375\n",
      "2025-04-07 17:23:54 __main__ DEBUG             layer_idx=19, patched_score=16.578125\n",
      "2025-04-07 17:23:54 __main__ DEBUG             layer_idx=20, patched_score=16.46875\n",
      "2025-04-07 17:23:55 __main__ DEBUG             layer_idx=21, patched_score=16.234375\n",
      "2025-04-07 17:23:55 __main__ DEBUG             layer_idx=22, patched_score=16.171875\n",
      "2025-04-07 17:23:55 __main__ DEBUG             layer_idx=23, patched_score=16.125\n",
      "2025-04-07 17:23:55 __main__ DEBUG             layer_idx=24, patched_score=16.09375\n",
      "2025-04-07 17:23:55 __main__ DEBUG             layer_idx=25, patched_score=16.09375\n",
      "2025-04-07 17:23:55 __main__ DEBUG             layer_idx=26, patched_score=16.25\n",
      "2025-04-07 17:23:56 __main__ DEBUG             layer_idx=27, patched_score=16.5\n",
      "2025-04-07 17:23:56 __main__ DEBUG             layer_idx=28, patched_score=16.5625\n",
      "2025-04-07 17:23:56 __main__ DEBUG             layer_idx=29, patched_score=16.125\n",
      "2025-04-07 17:23:56 __main__ DEBUG             layer_idx=30, patched_score=16.09375\n",
      "2025-04-07 17:23:56 __main__ DEBUG             layer_idx=31, patched_score=16.21875\n",
      "2025-04-07 17:23:56 __main__ DEBUG             layer_idx=32, patched_score=16.28125\n",
      "2025-04-07 17:23:57 __main__ DEBUG             layer_idx=33, patched_score=16.78125\n",
      "2025-04-07 17:23:57 __main__ DEBUG             layer_idx=34, patched_score=17.296875\n",
      "2025-04-07 17:23:57 __main__ DEBUG             layer_idx=35, patched_score=17.25\n",
      "2025-04-07 17:23:57 __main__ DEBUG             layer_idx=36, patched_score=17.375\n",
      "2025-04-07 17:23:57 __main__ DEBUG             layer_idx=37, patched_score=17.0625\n",
      "2025-04-07 17:23:58 __main__ DEBUG             layer_idx=38, patched_score=17.03125\n",
      "2025-04-07 17:23:58 __main__ DEBUG             layer_idx=39, patched_score=16.8125\n",
      "2025-04-07 17:23:58 __main__ DEBUG             layer_idx=40, patched_score=16.84375\n",
      "2025-04-07 17:23:58 __main__ DEBUG             layer_idx=41, patched_score=16.5\n",
      "2025-04-07 17:23:58 __main__ DEBUG             layer_idx=42, patched_score=16.84375\n",
      "2025-04-07 17:23:58 __main__ DEBUG             layer_idx=43, patched_score=16.75\n",
      "2025-04-07 17:23:59 __main__ DEBUG             layer_idx=44, patched_score=16.75\n",
      "2025-04-07 17:23:59 __main__ DEBUG             layer_idx=45, patched_score=16.25\n",
      "2025-04-07 17:23:59 __main__ DEBUG             layer_idx=46, patched_score=16.21875\n",
      "2025-04-07 17:23:59 __main__ DEBUG             layer_idx=47, patched_score=16.1875\n",
      "2025-04-07 17:23:59 __main__ DEBUG    ------------------------------\n"
     ]
    },
    {
     "name": "stderr",
     "output_type": "stream",
     "text": [
      "12it [04:00, 20.04s/it]"
     ]
    },
    {
     "name": "stdout",
     "output_type": "stream",
     "text": [
      "2025-04-07 17:23:59 __main__ INFO     (13/13)  sample['entity_pair']=['spider', 'crab'] <-- lobster\n",
      "2025-04-07 17:24:05 __main__ INFO     ['spider', 'crab'] >> answer='arthropods.'\n",
      "2025-04-07 17:24:10 __main__ INFO     ('lobster', 'crab') >> clean_answer='crustaceans.'\n",
      "2025-04-07 17:24:10 __main__ INFO     ['796( ar)']\n",
      "2025-04-07 17:24:10 __main__ INFO     gold_score=17.515625\n",
      "2025-04-07 17:24:10 __main__ INFO     corrupt_score=16.203125\n",
      "2025-04-07 17:24:11 __main__ DEBUG             layer_idx=0, patched_score=15.875\n",
      "2025-04-07 17:24:11 __main__ DEBUG             layer_idx=1, patched_score=16.21875\n",
      "2025-04-07 17:24:11 __main__ DEBUG             layer_idx=2, patched_score=16.203125\n",
      "2025-04-07 17:24:11 __main__ DEBUG             layer_idx=3, patched_score=16.09375\n",
      "2025-04-07 17:24:11 __main__ DEBUG             layer_idx=4, patched_score=16.140625\n",
      "2025-04-07 17:24:12 __main__ DEBUG             layer_idx=5, patched_score=16.0625\n",
      "2025-04-07 17:24:12 __main__ DEBUG             layer_idx=6, patched_score=16.25\n",
      "2025-04-07 17:24:12 __main__ DEBUG             layer_idx=7, patched_score=16.078125\n",
      "2025-04-07 17:24:12 __main__ DEBUG             layer_idx=8, patched_score=15.9765625\n",
      "2025-04-07 17:24:12 __main__ DEBUG             layer_idx=9, patched_score=16.109375\n",
      "2025-04-07 17:24:12 __main__ DEBUG             layer_idx=10, patched_score=16.125\n",
      "2025-04-07 17:24:13 __main__ DEBUG             layer_idx=11, patched_score=16.0625\n",
      "2025-04-07 17:24:13 __main__ DEBUG             layer_idx=12, patched_score=16.15625\n",
      "2025-04-07 17:24:13 __main__ DEBUG             layer_idx=13, patched_score=16.328125\n",
      "2025-04-07 17:24:13 __main__ DEBUG             layer_idx=14, patched_score=16.21875\n",
      "2025-04-07 17:24:13 __main__ DEBUG             layer_idx=15, patched_score=16.171875\n",
      "2025-04-07 17:24:13 __main__ DEBUG             layer_idx=16, patched_score=16.09375\n",
      "2025-04-07 17:24:14 __main__ DEBUG             layer_idx=17, patched_score=16.125\n",
      "2025-04-07 17:24:14 __main__ DEBUG             layer_idx=18, patched_score=15.9375\n",
      "2025-04-07 17:24:14 __main__ DEBUG             layer_idx=19, patched_score=15.984375\n",
      "2025-04-07 17:24:14 __main__ DEBUG             layer_idx=20, patched_score=15.96875\n",
      "2025-04-07 17:24:14 __main__ DEBUG             layer_idx=21, patched_score=15.953125\n",
      "2025-04-07 17:24:15 __main__ DEBUG             layer_idx=22, patched_score=16.03125\n",
      "2025-04-07 17:24:15 __main__ DEBUG             layer_idx=23, patched_score=16.03125\n",
      "2025-04-07 17:24:15 __main__ DEBUG             layer_idx=24, patched_score=16.125\n",
      "2025-04-07 17:24:15 __main__ DEBUG             layer_idx=25, patched_score=15.6640625\n",
      "2025-04-07 17:24:15 __main__ DEBUG             layer_idx=26, patched_score=15.8359375\n",
      "2025-04-07 17:24:15 __main__ DEBUG             layer_idx=27, patched_score=15.8203125\n",
      "2025-04-07 17:24:16 __main__ DEBUG             layer_idx=28, patched_score=15.765625\n",
      "2025-04-07 17:24:16 __main__ DEBUG             layer_idx=29, patched_score=15.828125\n",
      "2025-04-07 17:24:16 __main__ DEBUG             layer_idx=30, patched_score=16.046875\n",
      "2025-04-07 17:24:16 __main__ DEBUG             layer_idx=31, patched_score=15.9921875\n",
      "2025-04-07 17:24:16 __main__ DEBUG             layer_idx=32, patched_score=16.21875\n",
      "2025-04-07 17:24:16 __main__ DEBUG             layer_idx=33, patched_score=16.28125\n",
      "2025-04-07 17:24:17 __main__ DEBUG             layer_idx=34, patched_score=16.53125\n",
      "2025-04-07 17:24:17 __main__ DEBUG             layer_idx=35, patched_score=16.4375\n",
      "2025-04-07 17:24:17 __main__ DEBUG             layer_idx=36, patched_score=16.6875\n",
      "2025-04-07 17:24:17 __main__ DEBUG             layer_idx=37, patched_score=16.625\n",
      "2025-04-07 17:24:17 __main__ DEBUG             layer_idx=38, patched_score=16.75\n",
      "2025-04-07 17:24:17 __main__ DEBUG             layer_idx=39, patched_score=16.71875\n",
      "2025-04-07 17:24:18 __main__ DEBUG             layer_idx=40, patched_score=16.796875\n",
      "2025-04-07 17:24:18 __main__ DEBUG             layer_idx=41, patched_score=16.84375\n",
      "2025-04-07 17:24:18 __main__ DEBUG             layer_idx=42, patched_score=17.296875\n",
      "2025-04-07 17:24:18 __main__ DEBUG             layer_idx=43, patched_score=17.5625\n",
      "2025-04-07 17:24:18 __main__ DEBUG             layer_idx=44, patched_score=17.15625\n",
      "2025-04-07 17:24:18 __main__ DEBUG             layer_idx=45, patched_score=17.21875\n",
      "2025-04-07 17:24:19 __main__ DEBUG             layer_idx=46, patched_score=17.484375\n",
      "2025-04-07 17:24:19 __main__ DEBUG             layer_idx=47, patched_score=14.875\n",
      "2025-04-07 17:24:19 __main__ DEBUG    ------------------------------\n"
     ]
    },
    {
     "name": "stderr",
     "output_type": "stream",
     "text": [
      "13it [04:19, 19.99s/it]\n"
     ]
    }
   ],
   "source": [
    "kwargs = dict(\n",
    "    mt=mt,\n",
    "    # samples = [coincidences[\"examples\"][sample_idx]],\n",
    "    samples=coincidences[\"examples\"],\n",
    "    token_idx=-1,\n",
    "    metric=\"logit\",\n",
    "    coeff=1.0,\n",
    "    kind=\"mlp\",\n",
    ")\n",
    "\n",
    "mlp_res_from = do_patching_sweep(\n",
    "    **kwargs,\n",
    "    window=\"from\",\n",
    ")\n",
    "\n",
    "mlp_res_upto = do_patching_sweep(\n",
    "    **kwargs,\n",
    "    window=\"upto\",\n",
    ")\n",
    "\n",
    "mlp_res_win = do_patching_sweep(\n",
    "    **kwargs,\n",
    "    window=5,\n",
    ")"
   ]
  },
  {
   "cell_type": "code",
   "execution_count": 19,
   "metadata": {},
   "outputs": [
    {
     "data": {
      "image/png": "[encoded data removed]",
      "text/plain": [
       "<Figure size 1500x500 with 1 Axes>"
      ]
     },
     "metadata": {},
     "output_type": "display_data"
    }
   ],
   "source": [
    "plt.figure(figsize=(15, 5))\n",
    "\n",
    "processed_results_upto = process_patching_results(mlp_res_upto)\n",
    "plot_results(processed_results_upto, plt, set_canvas_layout=True, label=\"upto\")\n",
    "\n",
    "processed_results_from = process_patching_results(mlp_res_from)\n",
    "plot_results(processed_results_from, plt, set_canvas_layout=False, label=\"from\")\n",
    "\n",
    "processed_results_win = process_patching_results(mlp_res_win)\n",
    "plot_results(processed_results_win, plt, set_canvas_layout=False, label=\"window=5\")\n",
    "\n",
    "plt.legend()\n",
    "\n",
    "plt.show()"
   ]
  },
  {
   "cell_type": "markdown",
   "metadata": {},
   "source": [
    "## What are these heads *looking* back to?\n",
    "\n",
    "* Attention heads in layers $26 \\rightarrow 32$ looks at the `were` token.\n",
    "    * Hypothesis: hybrid representation is formed here by looking back to the subject tokens. The heads at the last token position just brings this information forward to the last token position.\n",
    "\n",
    "    Verification Experiments:\n",
    "    * First check if the patching is effective by just patching the `were` token.\n",
    "    * From the `were` token position are the heads looking back to the subject tokens now? Sub-hypothesis: MLP shouldn't do anything much here.\n",
    "    * Forwarding the same information part will be tricky to address though.\n",
    "    * Can we actually check which things are related vs unrelated just by checking certain properties of the `hybrid` representation?\n",
    "\n",
    "---\n",
    "#### Findings:\n",
    "\n",
    "* Indirect Effect from the `ere` token is strong enough to warrent further investigation?\n",
    "    * How much of the IE is lost if attn is blocked to the `were` token? ==> Not blocking attention to the `were` token helps, but not that much\n"
   ]
  },
  {
   "cell_type": "code",
   "execution_count": 16,
   "metadata": {},
   "outputs": [],
   "source": [
    "# with open(os.path.join(env_utils.DEFAULT_DATA_DIR, \"coincidences_sample.json\")) as f:\n",
    "#     coincidences = json.load(f)\n",
    "\n",
    "# logger.info(f\"{len(coincidences['examples'])=}\")"
   ]
  },
  {
   "cell_type": "code",
   "execution_count": 17,
   "metadata": {},
   "outputs": [],
   "source": [
    "# for idx, entities in enumerate(coincidences[\"examples\"]):\n",
    "#     print(f\"{idx} => {entities['entity_pair']}\")"
   ]
  },
  {
   "cell_type": "code",
   "execution_count": 18,
   "metadata": {},
   "outputs": [
    {
     "data": {
      "text/plain": [
       "{'entity_pair': ['Julius Caesar', 'Nepoleon Bonaparte'],\n",
       " 'connection': 'military leaders.',\n",
       " 'alt_first': {'entity': 'Victor Hugo', 'connection': 'French.'}}"
      ]
     },
     "execution_count": 18,
     "metadata": {},
     "output_type": "execute_result"
    }
   ],
   "source": [
    "sample_idx = 7\n",
    "sample = coincidences[\"examples\"][sample_idx]\n",
    "entities = sample[\"entity_pair\"]\n",
    "sample"
   ]
  },
  {
   "cell_type": "code",
   "execution_count": null,
   "metadata": {},
   "outputs": [
    {
     "name": "stdout",
     "output_type": "stream",
     "text": [
      "['Julius Caesar', 'Nepoleon Bonaparte'] >> answer='military leaders and conquerors.'\n",
      "['6277( military)', '6036( leaders)', '50530( conquer)']\n",
      "('Victor Hugo', 'Nepoleon Bonaparte') >> clean_answer='French.'\n"
     ]
    }
   ],
   "source": [
    "from src.functional import get_keywords_from_text\n",
    "\n",
    "mt.reset_forward()\n",
    "\n",
    "patch_prompt = prepare_probing_input(\n",
    "    mt=mt,\n",
    "    entities=sample[\"entity_pair\"],\n",
    "    prefix=prefix,\n",
    "    answer_marker=answer_marker,\n",
    "    question_marker=question_marker,\n",
    "    block_separator=block_separator,\n",
    "    is_a_reasoning_model=\"deepseek\" in model_key.lower(),\n",
    "    # is_a_reasoning_model=True\n",
    "    answer_prefix=\" They are/were both\",\n",
    "    # answer_prefix = \" They are both used to say\",\n",
    "    return_offsets_mapping=True,\n",
    ")\n",
    "\n",
    "\n",
    "answer = get_lm_generated_answer(\n",
    "    mt=mt,\n",
    "    prompt=patch_prompt,\n",
    "    is_a_reasoning_model=\"deepseek\" in model_key.lower(),\n",
    "    # is_a_reasoning_model=True\n",
    ")\n",
    "print(f\"{sample['entity_pair']} >> {answer=}\")\n",
    "keywords = get_keywords_from_text(text=answer, tokenizer=mt)\n",
    "print(f\"{[f'{t}({mt.tokenizer.decode(t)})' for t in keywords]}\")\n",
    "\n",
    "clean_prompt = prepare_probing_input(\n",
    "    mt=mt,\n",
    "    entities=(sample[\"alt_first\"][\"entity\"], sample[\"entity_pair\"][1]),\n",
    "    prefix=prefix,\n",
    "    answer_marker=answer_marker,\n",
    "    question_marker=question_marker,\n",
    "    block_separator=block_separator,\n",
    "    is_a_reasoning_model=\"deepseek\" in model_key.lower(),\n",
    "    # is_a_reasoning_model=True\n",
    "    answer_prefix=\" They are/were both\",\n",
    "    return_offsets_mapping=True,\n",
    ")\n",
    "\n",
    "clean_answer = get_lm_generated_answer(\n",
    "    mt=mt,\n",
    "    prompt=clean_prompt,\n",
    "    is_a_reasoning_model=\"deepseek\" in model_key.lower(),\n",
    "    # is_a_reasoning_model=True\n",
    ")\n",
    "print(f\"{sample['alt_first']['entity'], sample['entity_pair'][1]} >> {clean_answer=}\")"
   ]
  },
  {
   "cell_type": "code",
   "execution_count": 20,
   "metadata": {},
   "outputs": [
    {
     "data": {
      "text/plain": [
       "(205, 207)"
      ]
     },
     "execution_count": 20,
     "metadata": {},
     "output_type": "execute_result"
    }
   ],
   "source": [
    "from src.tokens import align_patching_positions\n",
    "\n",
    "aligned_prompts = align_patching_positions(\n",
    "    mt=mt,\n",
    "    prompt_template=patch_prompt.prompt.replace(patch_prompt.entities[0], \"{}\"),\n",
    "    clean_subj=clean_prompt.entities[0],\n",
    "    patched_subj=patch_prompt.entities[0],\n",
    "    trace_start_marker=\"#\",\n",
    ")\n",
    "\n",
    "aligned_prompts[\"subj_range\"]\n",
    "# aligned_prompts[\"clean_input\"]"
   ]
  },
  {
   "cell_type": "code",
   "execution_count": 21,
   "metadata": {},
   "outputs": [
    {
     "name": "stdout",
     "output_type": "stream",
     "text": [
      "\" Victor Hugo\"\n",
      "\" Nepoleon Bonaparte\"\n",
      "\" Julius Caesar\"\n"
     ]
    }
   ],
   "source": [
    "from src.probing.utils import ProbingPrompt\n",
    "\n",
    "e1_range = aligned_prompts[\"subj_range\"]\n",
    "\n",
    "shift = e1_range[1] - clean_prompt.entity_ranges[0][1]\n",
    "\n",
    "e2_range = clean_prompt.entity_ranges[1]\n",
    "e2_range = (e2_range[0] + shift, e2_range[1] + shift)\n",
    "\n",
    "tokenized_input = TokenizerOutput(data=aligned_prompts[\"clean_input\"])\n",
    "print(\n",
    "    f'\"{mt.tokenizer.decode(tokenized_input.input_ids[0][e1_range[0] : e1_range[1]])}\"'\n",
    ")\n",
    "print(\n",
    "    f'\"{mt.tokenizer.decode(tokenized_input.input_ids[0][e2_range[0] : e2_range[1]])}\"'\n",
    ")\n",
    "\n",
    "tokenized_patch_input = TokenizerOutput(data=aligned_prompts[\"patched_input\"])\n",
    "print(\n",
    "    f'\"{mt.tokenizer.decode(tokenized_patch_input.input_ids[0][e1_range[0] : e1_range[1]])}\"'\n",
    ")\n",
    "\n",
    "aligned_clean_prompt = ProbingPrompt(\n",
    "    prompt=mt.tokenizer.decode(aligned_prompts[\"clean_input\"][\"input_ids\"][0]),\n",
    "    entities=clean_prompt.entities,\n",
    "    model_key=clean_prompt.model_key,\n",
    "    tokenized=aligned_prompts[\"clean_input\"],\n",
    "    entity_ranges=[e1_range, e2_range],\n",
    "    query_range=[-1, -1],\n",
    ")\n",
    "\n",
    "aligned_patch_prompt = ProbingPrompt(\n",
    "    prompt=mt.tokenizer.decode(aligned_prompts[\"patched_input\"][\"input_ids\"][0]),\n",
    "    entities=patch_prompt.entities,\n",
    "    model_key=patch_prompt.model_key,\n",
    "    tokenized=aligned_prompts[\"patched_input\"],\n",
    "    entity_ranges=[e1_range, e2_range],\n",
    "    query_range=[-1, -1],\n",
    ")"
   ]
  },
  {
   "cell_type": "code",
   "execution_count": 22,
   "metadata": {},
   "outputs": [],
   "source": [
    "##################################################\n",
    "# layer_idx = 30\n",
    "# layer_window = get_window(mt.attn_module_name_format, layer_idx, 5, mt.n_layer)\n",
    "# layer_window = range(28, 35)\n",
    "# layer_window = range(10, 20)\n",
    "# layer_window = range(40, mt.n_layer-2)\n",
    "# LAYER_WINDOW = list(range(26, 35))\n",
    "# LAYER_WINDOW = list(range(0, 10))\n",
    "\n",
    "PATCH_LAYER_WINDOW = list(range(0, 10))\n",
    "\n",
    "# METRIC = \"logit\"\n",
    "# METRIC = \"prob\"\n",
    "METRIC = \"log_norm\"\n",
    "##################################################"
   ]
  },
  {
   "cell_type": "code",
   "execution_count": 30,
   "metadata": {},
   "outputs": [
    {
     "name": "stdout",
     "output_type": "stream",
     "text": [
      "gold_score=1.375\n",
      "gold_pred=[PredictedToken(token=' military', prob=0.263671875, logit=19.0, token_id=6277), PredictedToken(token=' leaders', prob=0.10986328125, logit=18.125, token_id=6036), PredictedToken(token=' famous', prob=0.058837890625, logit=17.5, token_id=11245), PredictedToken(token=' generals', prob=0.052001953125, logit=17.375, token_id=70067), PredictedToken(token=' em', prob=0.052001953125, logit=17.375, token_id=976)]\n",
      "gold_track={6277: (1, PredictedToken(token=' military', prob=0.263671875, logit=19.0, token_id=6277)), 6036: (2, PredictedToken(token=' leaders', prob=0.10986328125, logit=18.125, token_id=6036)), 50530: (11, PredictedToken(token=' conquer', prob=0.0216064453125, logit=16.5, token_id=50530))}\n",
      "corrupt_score=-2.9375\n",
      "corrupt_pred=[PredictedToken(token=' French', prob=0.46484375, logit=19.25, token_id=8585), PredictedToken(token=' famous', prob=0.103515625, logit=17.75, token_id=11245), PredictedToken(token=' from', prob=0.09130859375, logit=17.625, token_id=504), PredictedToken(token=' citizens', prob=0.0296630859375, logit=16.5, token_id=10283), PredictedToken(token=' french', prob=0.0203857421875, logit=16.125, token_id=41193)]\n",
      "corrupt_track={6036: (15, PredictedToken(token=' leaders', prob=0.00799560546875, logit=15.1875, token_id=6036)), 6277: (35, PredictedToken(token=' military', prob=0.002288818359375, logit=13.9375, token_id=6277)), 50530: (397, PredictedToken(token=' conquer', prob=3.266334533691406e-05, logit=9.6875, token_id=50530))}\n",
      "\" military leaders and conquerors.\n",
      "#\n",
      "Q: The Great Wall of China and The Forbidden City\n",
      "A\"\n",
      "patched_score=1.375\n",
      "pred=[PredictedToken(token=' military', prob=0.263671875, logit=19.0, token_id=6277), PredictedToken(token=' leaders', prob=0.109375, logit=18.125, token_id=6036), PredictedToken(token=' famous', prob=0.05859375, logit=17.5, token_id=11245), PredictedToken(token=' generals', prob=0.0517578125, logit=17.375, token_id=70067), PredictedToken(token=' em', prob=0.0517578125, logit=17.375, token_id=976)]\n",
      "track={6277: (1, PredictedToken(token=' military', prob=0.263671875, logit=19.0, token_id=6277)), 6036: (2, PredictedToken(token=' leaders', prob=0.109375, logit=18.125, token_id=6036)), 50530: (11, PredictedToken(token=' conquer', prob=0.0216064453125, logit=16.5, token_id=50530))}\n",
      "indirect_effect=1.0\n"
     ]
    }
   ],
   "source": [
    "import itertools\n",
    "\n",
    "patch_states = get_hs(\n",
    "    mt=mt,\n",
    "    input=TokenizerOutput(data=aligned_prompts[\"patched_input\"]),\n",
    "    # locations = [(mt.layer_name_format.format(l), -2) for l in range(mt.n_layer)],\n",
    "    locations=list(\n",
    "        itertools.product(mt.layer_names, list(range(*aligned_prompts[\"subj_range\"])))\n",
    "    ),\n",
    "    return_dict=True,\n",
    ")\n",
    "\n",
    "\n",
    "gold_score, gold_pred, gold_track = patched_run(\n",
    "    mt=mt,\n",
    "    # inputs = TokenizerOutput(data = patch_prompt.tokenized),\n",
    "    inputs=TokenizerOutput(data=aligned_prompts[\"patched_input\"]),\n",
    "    patches=[],\n",
    "    ans_tokens=keywords,\n",
    "    # generate_full_ans = True,\n",
    "    metric=METRIC,\n",
    ")\n",
    "print(f\"{gold_score=}\")\n",
    "print(f\"{gold_pred=}\")\n",
    "print(f\"{gold_track=}\")\n",
    "\n",
    "corrupt_score, corrupt_pred, corrupt_track = patched_run(\n",
    "    mt=mt,\n",
    "    # inputs = TokenizerOutput(data = clean_prompt.tokenized),\n",
    "    inputs=TokenizerOutput(data=aligned_prompts[\"clean_input\"]),\n",
    "    patches=[],\n",
    "    ans_tokens=keywords,\n",
    "    # generate_full_ans = True,\n",
    "    metric=METRIC,\n",
    ")\n",
    "print(f\"{corrupt_score=}\")\n",
    "print(f\"{corrupt_pred=}\")\n",
    "print(f\"{corrupt_track=}\")\n",
    "\n",
    "\n",
    "# layer_window = [mt.attn_module_name_format.format(l) for l in layer_window]\n",
    "layer_window = [mt.layer_name_format.format(l) for l in PATCH_LAYER_WINDOW]\n",
    "# input = TokenizerOutput(data = clean_prompt.tokenized)\n",
    "# last_tok_idx = input.input_ids.shape[1] - 1\n",
    "\n",
    "tokenized_input = TokenizerOutput(data=aligned_prompts[\"clean_input\"])\n",
    "\n",
    "# for `are/were``\n",
    "# patches = [\n",
    "#     PatchSpec(\n",
    "#         location = (layer, -2),\n",
    "#         patch = patch_states[(layer, -2)]\n",
    "#     ) for layer in layer_window\n",
    "# ]\n",
    "\n",
    "# for the patched subject\n",
    "patches = [\n",
    "    PatchSpec(location=(layer, token_idx), patch=patch_states[(layer, token_idx)])\n",
    "    for layer, token_idx in itertools.product(\n",
    "        layer_window, range(*aligned_prompts[\"subj_range\"])\n",
    "    )\n",
    "]\n",
    "# patches = []\n",
    "\n",
    "patched_score, pred, track = patched_run(\n",
    "    mt=mt,\n",
    "    inputs=tokenized_input,\n",
    "    patches=patches,\n",
    "    ans_tokens=keywords,\n",
    "    generate_full_ans=True,\n",
    "    metric=METRIC,\n",
    ")\n",
    "\n",
    "print(f\"{patched_score=}\")\n",
    "print(f\"{pred=}\")\n",
    "print(f\"{track=}\")\n",
    "\n",
    "indirect_effect = (patched_score - corrupt_score) / (gold_score - corrupt_score)\n",
    "print(f\"{indirect_effect=}\")"
   ]
  },
  {
   "cell_type": "code",
   "execution_count": 31,
   "metadata": {},
   "outputs": [],
   "source": [
    "from src.functional import predict_next_token\n",
    "\n",
    "# predict_next_token(\n",
    "#     mt = mt,\n",
    "#     inputs = TokenizerOutput(data = aligned_prompts[\"clean_input\"]),\n",
    "# )"
   ]
  },
  {
   "cell_type": "code",
   "execution_count": 32,
   "metadata": {},
   "outputs": [],
   "source": [
    "\n",
    "# # inputs = TokenizerOutput(data=clean_prompt.tokenized)\n",
    "# tokenized_input = TokenizerOutput(data = aligned_prompts[\"clean_input\"])\n",
    "# print(tokenized_input.input_ids.shape)\n",
    "# # offset_mapping = tokenized_input.pop(\"offset_mapping\")[0]\n",
    "\n",
    "# clean_attn = get_attention_matrices(\n",
    "#     input=tokenized_input,\n",
    "#     mt = mt,\n",
    "#     value_weighted=False,\n",
    "#     # patches = patches\n",
    "# )\n",
    "\n",
    "# score = get_score(\n",
    "#     logits = clean_attn.logits,\n",
    "#     token_id=keywords,\n",
    "#     metric = METRIC\n",
    "# )\n",
    "# print(f\"{score=}\")\n",
    "\n",
    "# indirect_effect = (score - corrupt_score) / (gold_score - corrupt_score)\n",
    "# print(f\"{indirect_effect=}\")\n",
    "\n",
    "# interpret_logits(logits = clean_attn.logits, tokenizer=mt, interested_tokens=keywords)"
   ]
  },
  {
   "cell_type": "code",
   "execution_count": 33,
   "metadata": {},
   "outputs": [],
   "source": [
    "from src.tokens import find_token_range\n",
    "from circuitsvis.tokens import colored_tokens\n",
    "from IPython.display import display\n",
    "from src.attention import AttentionInformation\n",
    "\n",
    "\n",
    "def visualize_average_attn_matrix(\n",
    "    attn_matrices: dict,\n",
    "    prompt: ProbingPrompt | str,\n",
    "    layer_window: list | None = None,\n",
    "    q_index: int = -1,\n",
    "    remove_bos: bool = True,\n",
    "    start_from: int | str | None = None,\n",
    "):\n",
    "    inputs = TokenizerOutput(data=prompt.tokenized)\n",
    "    if start_from is None:\n",
    "        start_from = 1 if remove_bos else 0\n",
    "    elif isinstance(start_from, str):\n",
    "        start_from = (\n",
    "            find_token_range(\n",
    "                string=prompt.prompt,\n",
    "                substring=\"#\",\n",
    "                tokenizer=mt,\n",
    "                offset_mapping=inputs.offset_mapping[0],\n",
    "                occurrence=-1,\n",
    "            )[1]\n",
    "            - 1\n",
    "        )\n",
    "\n",
    "    # print(f\"{start_from=}\")\n",
    "\n",
    "    for layer in layer_window:\n",
    "        print(f\"{layer=}\")\n",
    "        if isinstance(attn_matrices, AttentionInformation):\n",
    "            avg_attn_module_matrix = torch.Tensor(\n",
    "                attn_matrices.attention_matrices[layer]\n",
    "            ).mean(dim=0)[q_index]\n",
    "        else:\n",
    "            avg_attn_module_matrix = torch.stack(\n",
    "                [\n",
    "                    attn_matrices[layer][h_idx].squeeze()\n",
    "                    for h_idx in range(mt.config.num_attention_heads)\n",
    "                ]\n",
    "            ).mean(dim=0)[q_index]\n",
    "\n",
    "        # print(avg_attn_module_matrix.shape)\n",
    "\n",
    "        tokens = [\n",
    "            mt.tokenizer.decode(t, skip_special_tokens=False)\n",
    "            for t in inputs[\"input_ids\"][0]\n",
    "        ][start_from:]\n",
    "        for idx, t in enumerate(tokens):\n",
    "            if t == \"<think>\":\n",
    "                tokens[idx] = \"<|think|>\"\n",
    "            elif t == \"</think>\":\n",
    "                tokens[idx] = \"<|/think|>\"\n",
    "\n",
    "        display(\n",
    "            colored_tokens(tokens=tokens, values=avg_attn_module_matrix[start_from:])\n",
    "        )\n",
    "        print(\"-\" * 80)\n",
    "\n",
    "\n",
    "# visualize_average_attn_matrix(\n",
    "#     attn_matrices=clean_attn,\n",
    "#     prompt=aligned_clean_prompt,\n",
    "#     layer_window=range(26, 36),\n",
    "#     # layer_window = list(range(mt.n_layer)),\n",
    "#     q_index=-1,\n",
    "#     remove_bos=False,\n",
    "#     start_from = aligned_prompts[\"trace_start_idx\"]\n",
    "# )"
   ]
  },
  {
   "cell_type": "markdown",
   "metadata": {},
   "source": [
    "#### Patching while ablating heads"
   ]
  },
  {
   "cell_type": "code",
   "execution_count": 34,
   "metadata": {},
   "outputs": [],
   "source": [
    "##############################################################\n",
    "ATTN_LAYER_WINDOW = list(range(26, 35))\n",
    "##############################################################"
   ]
  },
  {
   "cell_type": "code",
   "execution_count": 35,
   "metadata": {},
   "outputs": [],
   "source": [
    "tokenized_input = TokenizerOutput(data=aligned_prompts[\"clean_input\"])\n",
    "\n",
    "# start_idx = find_token_range(\n",
    "#     string=clean_prompt.prompt,\n",
    "#     substring=\"#\",\n",
    "#     tokenizer=mt,\n",
    "#     offset_mapping=tokenized_input.offset_mapping[0],\n",
    "#     occurrence=-1\n",
    "# )[1] - 1\n",
    "\n",
    "# # start_idx, inputs.input_ids.shape[-1]\n",
    "\n",
    "start_idx = aligned_prompts[\"trace_start_idx\"]\n",
    "context_range = list(range(0, start_idx + 1))"
   ]
  },
  {
   "cell_type": "code",
   "execution_count": 36,
   "metadata": {},
   "outputs": [
    {
     "name": "stdout",
     "output_type": "stream",
     "text": [
      "torch.Size([1, 221])\n",
      "patch_block_subj_score=1.3515625\n",
      "pred=[PredictedToken(token=' military', prob=0.173828125, logit=18.0, token_id=6277), PredictedToken(token=' leaders', prob=0.1357421875, logit=17.75, token_id=6036), PredictedToken(token=' generals', prob=0.06396484375, logit=17.0, token_id=70067), PredictedToken(token=' Roman', prob=0.056396484375, logit=16.875, token_id=12751), PredictedToken(token=' dict', prob=0.0498046875, logit=16.75, token_id=6451)]\n",
      "track={6277: (1, PredictedToken(token=' military', prob=0.173828125, logit=18.0, token_id=6277)), 6036: (2, PredictedToken(token=' leaders', prob=0.1357421875, logit=17.75, token_id=6036)), 50530: (8, PredictedToken(token=' conquer', prob=0.026611328125, logit=16.125, token_id=50530))}\n",
      "indirect_effect=0.9945652173913043\n"
     ]
    }
   ],
   "source": [
    "# blocking attntion to the subject tokens\n",
    "\n",
    "mt.reset_forward()\n",
    "\n",
    "focus_edges_on = get_edges_to_be_ablated(\n",
    "    prompt=aligned_clean_prompt,\n",
    "    # focus_strategy=\"ablate_all\",\n",
    "    focus_strategy=\"entities\",\n",
    "    Q_IDX=-1,\n",
    "    # whitelist_key_indices=[0, -2]\n",
    "    # whitelist_key_indices=[0, -1]\n",
    "    # whitelist_key_indices=[-2]\n",
    "    whitelist_key_indices=context_range + [-1],\n",
    "    # whitelist_key_indices=context_range + [-1, -2]\n",
    "    # whitelist_key_indices=[-1, -2]\n",
    ")\n",
    "focus_all_heads_on = {\n",
    "    h_idx: focus_edges_on for h_idx in range(mt.config.num_attention_heads)\n",
    "}\n",
    "\n",
    "block_all_edges = get_edges_to_be_ablated(\n",
    "    prompt=aligned_clean_prompt,\n",
    "    focus_strategy=\"ablate_all\",\n",
    "    Q_IDX=-1,\n",
    "    # whitelist_key_indices=[0]\n",
    "    # whitelist_key_indices=[0, -1]\n",
    "    # whitelist_key_indices=[-1]\n",
    "    # whitelist_key_indices=context_range\n",
    "    whitelist_key_indices=context_range + [-1],\n",
    ")\n",
    "# block_all_edges = []\n",
    "block_all_edges_for_all_heads = {\n",
    "    h_idx: block_all_edges for h_idx in range(mt.config.num_attention_heads)\n",
    "}\n",
    "\n",
    "attn_matrices = {l: {} for l in range(mt.n_layer)}\n",
    "attn_contributions = {l: {} for l in range(mt.n_layer)}\n",
    "\n",
    "ignore_first_k_layers = 5\n",
    "for layer_idx in range(0, mt.n_layer):\n",
    "    attn_block_name = mt.attn_module_name_format.format(layer_idx)\n",
    "    attn_block = baukit.get_module(mt._model, attn_block_name)\n",
    "\n",
    "    # print(f\"{attn_block_name=}  | \", end=\"\")\n",
    "    if layer_idx < ignore_first_k_layers:\n",
    "        # print(\"ignore\")\n",
    "        block_config = {h: [] for h in range(mt.config.num_attention_heads)}\n",
    "    elif layer_idx in ATTN_LAYER_WINDOW:\n",
    "        # print(\"< focus >\")\n",
    "        block_config = focus_all_heads_on\n",
    "    else:\n",
    "        # print(\"block\")\n",
    "        block_config = block_all_edges_for_all_heads\n",
    "\n",
    "    attn_block.forward = types.MethodType(\n",
    "        LlamaAttentionPatcher(\n",
    "            block_name=attn_block_name,\n",
    "            # cut_attn_edges=focus_all_heads_on if layer_idx in ATTN_LAYER_WINDOW else block_all_edges_for_all_heads,\n",
    "            # cut_attn_edges=focus_all_heads_on_ere,\n",
    "            # cut_attn_edges=block_all_edges_for_all_heads,\n",
    "            cut_attn_edges=block_config,\n",
    "            save_attn_for=list(range(mt.config.num_attention_heads)),\n",
    "            store_attn_matrices=attn_matrices[layer_idx],\n",
    "            # store_attn_contributions=attn_contributions[layer_idx],\n",
    "        ),\n",
    "        attn_block,\n",
    "    )\n",
    "\n",
    "patch_layer_window = [mt.layer_name_format.format(l) for l in PATCH_LAYER_WINDOW]\n",
    "\n",
    "# tokenized_input = TokenizerOutput(data = clean_prompt.tokenized)\n",
    "tokenized_input = TokenizerOutput(data=aligned_prompts[\"clean_input\"])\n",
    "\n",
    "\n",
    "# for `are/were``\n",
    "# patches = [\n",
    "#     PatchSpec(\n",
    "#         location = (layer, -2),\n",
    "#         patch = patch_states[(layer, -2)]\n",
    "#     ) for layer in layer_window\n",
    "# ]\n",
    "\n",
    "# for the patched subject\n",
    "patches = [\n",
    "    PatchSpec(location=(layer, token_idx), patch=patch_states[(layer, token_idx)])\n",
    "    for layer, token_idx in itertools.product(\n",
    "        patch_layer_window, range(*aligned_prompts[\"subj_range\"])\n",
    "    )\n",
    "]\n",
    "# patches = []\n",
    "\n",
    "print(tokenized_input.input_ids.shape)\n",
    "# offset_mapping = tokenized_input.pop(\"offset_mapping\")[0]\n",
    "\n",
    "patch_block_subj_score, pred, track = patched_run(\n",
    "    mt=mt,\n",
    "    inputs=tokenized_input,\n",
    "    patches=patches,\n",
    "    ans_tokens=keywords,\n",
    "    generate_full_ans=False,\n",
    "    metric=METRIC,\n",
    ")\n",
    "\n",
    "# output = patch_with_baukit(\n",
    "#     model = mt,\n",
    "#     inputs = tokenized_input,\n",
    "#     patches = patches,\n",
    "# )\n",
    "# logits = output.logits[0][-1].squeeze()\n",
    "\n",
    "# patch_block_subj_score = get_score(\n",
    "#     logits = logits,\n",
    "#     token_id=keywords,\n",
    "#     metric = METRIC\n",
    "# )\n",
    "# pred = interpret_logits(logits = logits, tokenizer=mt, k = 15, interested_tokens=keywords)\n",
    "\n",
    "print(f\"{patch_block_subj_score=}\")\n",
    "print(f\"{pred=}\")\n",
    "print(f\"{track=}\")\n",
    "\n",
    "indirect_effect = (patch_block_subj_score - corrupt_score) / (\n",
    "    gold_score - corrupt_score\n",
    ")\n",
    "print(f\"{indirect_effect=}\")\n",
    "\n",
    "mt.reset_forward()"
   ]
  },
  {
   "cell_type": "code",
   "execution_count": 37,
   "metadata": {},
   "outputs": [],
   "source": [
    "# attn_contribution_norms = {l : {\n",
    "#         h_idx: attn_contributions[l][h_idx].squeeze().norm(dim=-1)\n",
    "#         for h_idx in range(mt.config.num_attention_heads)\n",
    "#     }\n",
    "#     for l in range(mt.n_layer)\n",
    "# }"
   ]
  },
  {
   "cell_type": "code",
   "execution_count": 38,
   "metadata": {},
   "outputs": [
    {
     "name": "stdout",
     "output_type": "stream",
     "text": [
      "layer=0\n"
     ]
    },
    {
     "data": {
      "text/html": [
       "<div id=\"circuits-vis-e2aff749-1838\" style=\"margin: 15px 0;\"/>\n",
       "    <script crossorigin type=\"module\">\n",
       "    import { render, ColoredTokens } from \"https://unpkg.com/circuitsvis@1.43.3/dist/cdn/esm.js\";\n",
       "    render(\n",
       "      \"circuits-vis-e2aff749-1838\",\n",
       "      ColoredTokens,\n",
       "      {\"tokens\": [\"#\\n\", \"Q\", \":\", \" Victor\", \" Hugo\", \" and\", \" Nep\", \"oleon\", \" Bon\", \"ap\", \"arte\", \"\\n\", \"A\", \":\", \" They\", \" are\", \"/w\", \"ere\", \" both\"], \"values\": [0.00167083740234375, 0.0032196044921875, 0.022216796875, 0.003631591796875, 0.00390625, 0.0252685546875, 0.005279541015625, 0.00994873046875, 0.0037994384765625, 0.004150390625, 0.005462646484375, 0.029052734375, 0.0255126953125, 0.06201171875, 0.01611328125, 0.051025390625, 0.04833984375, 0.053955078125, 0.0859375]}\n",
       "    )\n",
       "    </script>"
      ],
      "text/plain": [
       "<circuitsvis.utils.render.RenderedHTML at 0x7f22e807de50>"
      ]
     },
     "metadata": {},
     "output_type": "display_data"
    },
    {
     "name": "stdout",
     "output_type": "stream",
     "text": [
      "--------------------------------------------------------------------------------\n",
      "layer=1\n"
     ]
    },
    {
     "data": {
      "text/html": [
       "<div id=\"circuits-vis-e4b4ccb6-e51e\" style=\"margin: 15px 0;\"/>\n",
       "    <script crossorigin type=\"module\">\n",
       "    import { render, ColoredTokens } from \"https://unpkg.com/circuitsvis@1.43.3/dist/cdn/esm.js\";\n",
       "    render(\n",
       "      \"circuits-vis-e4b4ccb6-e51e\",\n",
       "      ColoredTokens,\n",
       "      {\"tokens\": [\"#\\n\", \"Q\", \":\", \" Victor\", \" Hugo\", \" and\", \" Nep\", \"oleon\", \" Bon\", \"ap\", \"arte\", \"\\n\", \"A\", \":\", \" They\", \" are\", \"/w\", \"ere\", \" both\"], \"values\": [0.007232666015625, 0.006622314453125, 0.021240234375, 0.004669189453125, 0.003997802734375, 0.00927734375, 0.005218505859375, 0.006103515625, 0.00494384765625, 0.003997802734375, 0.00482177734375, 0.0302734375, 0.0169677734375, 0.028564453125, 0.01806640625, 0.0234375, 0.03271484375, 0.046630859375, 0.0625]}\n",
       "    )\n",
       "    </script>"
      ],
      "text/plain": [
       "<circuitsvis.utils.render.RenderedHTML at 0x7f23f0366e90>"
      ]
     },
     "metadata": {},
     "output_type": "display_data"
    },
    {
     "name": "stdout",
     "output_type": "stream",
     "text": [
      "--------------------------------------------------------------------------------\n",
      "layer=2\n"
     ]
    },
    {
     "data": {
      "text/html": [
       "<div id=\"circuits-vis-f432253b-c5f1\" style=\"margin: 15px 0;\"/>\n",
       "    <script crossorigin type=\"module\">\n",
       "    import { render, ColoredTokens } from \"https://unpkg.com/circuitsvis@1.43.3/dist/cdn/esm.js\";\n",
       "    render(\n",
       "      \"circuits-vis-f432253b-c5f1\",\n",
       "      ColoredTokens,\n",
       "      {\"tokens\": [\"#\\n\", \"Q\", \":\", \" Victor\", \" Hugo\", \" and\", \" Nep\", \"oleon\", \" Bon\", \"ap\", \"arte\", \"\\n\", \"A\", \":\", \" They\", \" are\", \"/w\", \"ere\", \" both\"], \"values\": [0.006927490234375, 0.00653076171875, 0.01116943359375, 0.006805419921875, 0.0062255859375, 0.0125732421875, 0.00665283203125, 0.006256103515625, 0.0052490234375, 0.004150390625, 0.00628662109375, 0.029296875, 0.0191650390625, 0.022216796875, 0.0301513671875, 0.0390625, 0.0576171875, 0.1416015625, 0.048583984375]}\n",
       "    )\n",
       "    </script>"
      ],
      "text/plain": [
       "<circuitsvis.utils.render.RenderedHTML at 0x7f22e8228150>"
      ]
     },
     "metadata": {},
     "output_type": "display_data"
    },
    {
     "name": "stdout",
     "output_type": "stream",
     "text": [
      "--------------------------------------------------------------------------------\n",
      "layer=3\n"
     ]
    },
    {
     "data": {
      "text/html": [
       "<div id=\"circuits-vis-94eeb53c-b1b0\" style=\"margin: 15px 0;\"/>\n",
       "    <script crossorigin type=\"module\">\n",
       "    import { render, ColoredTokens } from \"https://unpkg.com/circuitsvis@1.43.3/dist/cdn/esm.js\";\n",
       "    render(\n",
       "      \"circuits-vis-94eeb53c-b1b0\",\n",
       "      ColoredTokens,\n",
       "      {\"tokens\": [\"#\\n\", \"Q\", \":\", \" Victor\", \" Hugo\", \" and\", \" Nep\", \"oleon\", \" Bon\", \"ap\", \"arte\", \"\\n\", \"A\", \":\", \" They\", \" are\", \"/w\", \"ere\", \" both\"], \"values\": [0.003570556640625, 0.005096435546875, 0.00787353515625, 0.00921630859375, 0.00799560546875, 0.018310546875, 0.00848388671875, 0.00787353515625, 0.006439208984375, 0.004791259765625, 0.005828857421875, 0.0595703125, 0.030029296875, 0.033935546875, 0.048095703125, 0.038330078125, 0.0732421875, 0.068359375, 0.044189453125]}\n",
       "    )\n",
       "    </script>"
      ],
      "text/plain": [
       "<circuitsvis.utils.render.RenderedHTML at 0x7f22ac85aa50>"
      ]
     },
     "metadata": {},
     "output_type": "display_data"
    },
    {
     "name": "stdout",
     "output_type": "stream",
     "text": [
      "--------------------------------------------------------------------------------\n",
      "layer=4\n"
     ]
    },
    {
     "data": {
      "text/html": [
       "<div id=\"circuits-vis-1c72fc8b-7068\" style=\"margin: 15px 0;\"/>\n",
       "    <script crossorigin type=\"module\">\n",
       "    import { render, ColoredTokens } from \"https://unpkg.com/circuitsvis@1.43.3/dist/cdn/esm.js\";\n",
       "    render(\n",
       "      \"circuits-vis-1c72fc8b-7068\",\n",
       "      ColoredTokens,\n",
       "      {\"tokens\": [\"#\\n\", \"Q\", \":\", \" Victor\", \" Hugo\", \" and\", \" Nep\", \"oleon\", \" Bon\", \"ap\", \"arte\", \"\\n\", \"A\", \":\", \" They\", \" are\", \"/w\", \"ere\", \" both\"], \"values\": [0.004150390625, 0.005859375, 0.00848388671875, 0.00933837890625, 0.00762939453125, 0.0179443359375, 0.00848388671875, 0.0079345703125, 0.0084228515625, 0.006195068359375, 0.007354736328125, 0.04150390625, 0.033447265625, 0.0361328125, 0.1005859375, 0.07080078125, 0.059326171875, 0.06201171875, 0.09912109375]}\n",
       "    )\n",
       "    </script>"
      ],
      "text/plain": [
       "<circuitsvis.utils.render.RenderedHTML at 0x7f22ac859110>"
      ]
     },
     "metadata": {},
     "output_type": "display_data"
    },
    {
     "name": "stdout",
     "output_type": "stream",
     "text": [
      "--------------------------------------------------------------------------------\n",
      "layer=5\n"
     ]
    },
    {
     "data": {
      "text/html": [
       "<div id=\"circuits-vis-cb977757-c4d9\" style=\"margin: 15px 0;\"/>\n",
       "    <script crossorigin type=\"module\">\n",
       "    import { render, ColoredTokens } from \"https://unpkg.com/circuitsvis@1.43.3/dist/cdn/esm.js\";\n",
       "    render(\n",
       "      \"circuits-vis-cb977757-c4d9\",\n",
       "      ColoredTokens,\n",
       "      {\"tokens\": [\"#\\n\", \"Q\", \":\", \" Victor\", \" Hugo\", \" and\", \" Nep\", \"oleon\", \" Bon\", \"ap\", \"arte\", \"\\n\", \"A\", \":\", \" They\", \" are\", \"/w\", \"ere\", \" both\"], \"values\": [0.001190185546875, 0.0, 0.0, 0.0, 0.0, 0.0, 0.0, 0.0, 0.0, 0.0, 0.0, 0.0, 0.0, 0.0, 0.0, 0.0, 0.0, 0.0, 0.0150146484375]}\n",
       "    )\n",
       "    </script>"
      ],
      "text/plain": [
       "<circuitsvis.utils.render.RenderedHTML at 0x7f22ac837410>"
      ]
     },
     "metadata": {},
     "output_type": "display_data"
    },
    {
     "name": "stdout",
     "output_type": "stream",
     "text": [
      "--------------------------------------------------------------------------------\n",
      "layer=6\n"
     ]
    },
    {
     "data": {
      "text/html": [
       "<div id=\"circuits-vis-91d5606f-9ba1\" style=\"margin: 15px 0;\"/>\n",
       "    <script crossorigin type=\"module\">\n",
       "    import { render, ColoredTokens } from \"https://unpkg.com/circuitsvis@1.43.3/dist/cdn/esm.js\";\n",
       "    render(\n",
       "      \"circuits-vis-91d5606f-9ba1\",\n",
       "      ColoredTokens,\n",
       "      {\"tokens\": [\"#\\n\", \"Q\", \":\", \" Victor\", \" Hugo\", \" and\", \" Nep\", \"oleon\", \" Bon\", \"ap\", \"arte\", \"\\n\", \"A\", \":\", \" They\", \" are\", \"/w\", \"ere\", \" both\"], \"values\": [0.003631591796875, 0.0, 0.0, 0.0, 0.0, 0.0, 0.0, 0.0, 0.0, 0.0, 0.0, 0.0, 0.0, 0.0, 0.0, 0.0, 0.0, 0.0, 0.03369140625]}\n",
       "    )\n",
       "    </script>"
      ],
      "text/plain": [
       "<circuitsvis.utils.render.RenderedHTML at 0x7f22e80ba710>"
      ]
     },
     "metadata": {},
     "output_type": "display_data"
    },
    {
     "name": "stdout",
     "output_type": "stream",
     "text": [
      "--------------------------------------------------------------------------------\n",
      "layer=7\n"
     ]
    },
    {
     "data": {
      "text/html": [
       "<div id=\"circuits-vis-ebb38803-9c16\" style=\"margin: 15px 0;\"/>\n",
       "    <script crossorigin type=\"module\">\n",
       "    import { render, ColoredTokens } from \"https://unpkg.com/circuitsvis@1.43.3/dist/cdn/esm.js\";\n",
       "    render(\n",
       "      \"circuits-vis-ebb38803-9c16\",\n",
       "      ColoredTokens,\n",
       "      {\"tokens\": [\"#\\n\", \"Q\", \":\", \" Victor\", \" Hugo\", \" and\", \" Nep\", \"oleon\", \" Bon\", \"ap\", \"arte\", \"\\n\", \"A\", \":\", \" They\", \" are\", \"/w\", \"ere\", \" both\"], \"values\": [0.00109100341796875, 0.0, 0.0, 0.0, 0.0, 0.0, 0.0, 0.0, 0.0, 0.0, 0.0, 0.0, 0.0, 0.0, 0.0, 0.0, 0.0, 0.0, 0.0203857421875]}\n",
       "    )\n",
       "    </script>"
      ],
      "text/plain": [
       "<circuitsvis.utils.render.RenderedHTML at 0x7f22ac84f350>"
      ]
     },
     "metadata": {},
     "output_type": "display_data"
    },
    {
     "name": "stdout",
     "output_type": "stream",
     "text": [
      "--------------------------------------------------------------------------------\n",
      "layer=8\n"
     ]
    },
    {
     "data": {
      "text/html": [
       "<div id=\"circuits-vis-15909305-9edc\" style=\"margin: 15px 0;\"/>\n",
       "    <script crossorigin type=\"module\">\n",
       "    import { render, ColoredTokens } from \"https://unpkg.com/circuitsvis@1.43.3/dist/cdn/esm.js\";\n",
       "    render(\n",
       "      \"circuits-vis-15909305-9edc\",\n",
       "      ColoredTokens,\n",
       "      {\"tokens\": [\"#\\n\", \"Q\", \":\", \" Victor\", \" Hugo\", \" and\", \" Nep\", \"oleon\", \" Bon\", \"ap\", \"arte\", \"\\n\", \"A\", \":\", \" They\", \" are\", \"/w\", \"ere\", \" both\"], \"values\": [0.002899169921875, 0.0, 0.0, 0.0, 0.0, 0.0, 0.0, 0.0, 0.0, 0.0, 0.0, 0.0, 0.0, 0.0, 0.0, 0.0, 0.0, 0.0, 0.0301513671875]}\n",
       "    )\n",
       "    </script>"
      ],
      "text/plain": [
       "<circuitsvis.utils.render.RenderedHTML at 0x7f22e84fefd0>"
      ]
     },
     "metadata": {},
     "output_type": "display_data"
    },
    {
     "name": "stdout",
     "output_type": "stream",
     "text": [
      "--------------------------------------------------------------------------------\n",
      "layer=9\n"
     ]
    },
    {
     "data": {
      "text/html": [
       "<div id=\"circuits-vis-11916068-be8b\" style=\"margin: 15px 0;\"/>\n",
       "    <script crossorigin type=\"module\">\n",
       "    import { render, ColoredTokens } from \"https://unpkg.com/circuitsvis@1.43.3/dist/cdn/esm.js\";\n",
       "    render(\n",
       "      \"circuits-vis-11916068-be8b\",\n",
       "      ColoredTokens,\n",
       "      {\"tokens\": [\"#\\n\", \"Q\", \":\", \" Victor\", \" Hugo\", \" and\", \" Nep\", \"oleon\", \" Bon\", \"ap\", \"arte\", \"\\n\", \"A\", \":\", \" They\", \" are\", \"/w\", \"ere\", \" both\"], \"values\": [0.0019683837890625, 0.0, 0.0, 0.0, 0.0, 0.0, 0.0, 0.0, 0.0, 0.0, 0.0, 0.0, 0.0, 0.0, 0.0, 0.0, 0.0, 0.0, 0.03759765625]}\n",
       "    )\n",
       "    </script>"
      ],
      "text/plain": [
       "<circuitsvis.utils.render.RenderedHTML at 0x7f22e807de50>"
      ]
     },
     "metadata": {},
     "output_type": "display_data"
    },
    {
     "name": "stdout",
     "output_type": "stream",
     "text": [
      "--------------------------------------------------------------------------------\n",
      "layer=10\n"
     ]
    },
    {
     "data": {
      "text/html": [
       "<div id=\"circuits-vis-263bf25f-6daa\" style=\"margin: 15px 0;\"/>\n",
       "    <script crossorigin type=\"module\">\n",
       "    import { render, ColoredTokens } from \"https://unpkg.com/circuitsvis@1.43.3/dist/cdn/esm.js\";\n",
       "    render(\n",
       "      \"circuits-vis-263bf25f-6daa\",\n",
       "      ColoredTokens,\n",
       "      {\"tokens\": [\"#\\n\", \"Q\", \":\", \" Victor\", \" Hugo\", \" and\", \" Nep\", \"oleon\", \" Bon\", \"ap\", \"arte\", \"\\n\", \"A\", \":\", \" They\", \" are\", \"/w\", \"ere\", \" both\"], \"values\": [0.00201416015625, 0.0, 0.0, 0.0, 0.0, 0.0, 0.0, 0.0, 0.0, 0.0, 0.0, 0.0, 0.0, 0.0, 0.0, 0.0, 0.0, 0.0, 0.03564453125]}\n",
       "    )\n",
       "    </script>"
      ],
      "text/plain": [
       "<circuitsvis.utils.render.RenderedHTML at 0x7f22ac84fb50>"
      ]
     },
     "metadata": {},
     "output_type": "display_data"
    },
    {
     "name": "stdout",
     "output_type": "stream",
     "text": [
      "--------------------------------------------------------------------------------\n",
      "layer=11\n"
     ]
    },
    {
     "data": {
      "text/html": [
       "<div id=\"circuits-vis-75841f15-9528\" style=\"margin: 15px 0;\"/>\n",
       "    <script crossorigin type=\"module\">\n",
       "    import { render, ColoredTokens } from \"https://unpkg.com/circuitsvis@1.43.3/dist/cdn/esm.js\";\n",
       "    render(\n",
       "      \"circuits-vis-75841f15-9528\",\n",
       "      ColoredTokens,\n",
       "      {\"tokens\": [\"#\\n\", \"Q\", \":\", \" Victor\", \" Hugo\", \" and\", \" Nep\", \"oleon\", \" Bon\", \"ap\", \"arte\", \"\\n\", \"A\", \":\", \" They\", \" are\", \"/w\", \"ere\", \" both\"], \"values\": [0.00579833984375, 0.0, 0.0, 0.0, 0.0, 0.0, 0.0, 0.0, 0.0, 0.0, 0.0, 0.0, 0.0, 0.0, 0.0, 0.0, 0.0, 0.0, 0.05615234375]}\n",
       "    )\n",
       "    </script>"
      ],
      "text/plain": [
       "<circuitsvis.utils.render.RenderedHTML at 0x7f22e807de50>"
      ]
     },
     "metadata": {},
     "output_type": "display_data"
    },
    {
     "name": "stdout",
     "output_type": "stream",
     "text": [
      "--------------------------------------------------------------------------------\n",
      "layer=12\n"
     ]
    },
    {
     "data": {
      "text/html": [
       "<div id=\"circuits-vis-f7dfb121-45f5\" style=\"margin: 15px 0;\"/>\n",
       "    <script crossorigin type=\"module\">\n",
       "    import { render, ColoredTokens } from \"https://unpkg.com/circuitsvis@1.43.3/dist/cdn/esm.js\";\n",
       "    render(\n",
       "      \"circuits-vis-f7dfb121-45f5\",\n",
       "      ColoredTokens,\n",
       "      {\"tokens\": [\"#\\n\", \"Q\", \":\", \" Victor\", \" Hugo\", \" and\", \" Nep\", \"oleon\", \" Bon\", \"ap\", \"arte\", \"\\n\", \"A\", \":\", \" They\", \" are\", \"/w\", \"ere\", \" both\"], \"values\": [0.0078125, 0.0, 0.0, 0.0, 0.0, 0.0, 0.0, 0.0, 0.0, 0.0, 0.0, 0.0, 0.0, 0.0, 0.0, 0.0, 0.0, 0.0, 0.09033203125]}\n",
       "    )\n",
       "    </script>"
      ],
      "text/plain": [
       "<circuitsvis.utils.render.RenderedHTML at 0x7f22ac8f3f50>"
      ]
     },
     "metadata": {},
     "output_type": "display_data"
    },
    {
     "name": "stdout",
     "output_type": "stream",
     "text": [
      "--------------------------------------------------------------------------------\n",
      "layer=13\n"
     ]
    },
    {
     "data": {
      "text/html": [
       "<div id=\"circuits-vis-1344d836-3579\" style=\"margin: 15px 0;\"/>\n",
       "    <script crossorigin type=\"module\">\n",
       "    import { render, ColoredTokens } from \"https://unpkg.com/circuitsvis@1.43.3/dist/cdn/esm.js\";\n",
       "    render(\n",
       "      \"circuits-vis-1344d836-3579\",\n",
       "      ColoredTokens,\n",
       "      {\"tokens\": [\"#\\n\", \"Q\", \":\", \" Victor\", \" Hugo\", \" and\", \" Nep\", \"oleon\", \" Bon\", \"ap\", \"arte\", \"\\n\", \"A\", \":\", \" They\", \" are\", \"/w\", \"ere\", \" both\"], \"values\": [0.006591796875, 0.0, 0.0, 0.0, 0.0, 0.0, 0.0, 0.0, 0.0, 0.0, 0.0, 0.0, 0.0, 0.0, 0.0, 0.0, 0.0, 0.0, 0.0927734375]}\n",
       "    )\n",
       "    </script>"
      ],
      "text/plain": [
       "<circuitsvis.utils.render.RenderedHTML at 0x7f22ac84e750>"
      ]
     },
     "metadata": {},
     "output_type": "display_data"
    },
    {
     "name": "stdout",
     "output_type": "stream",
     "text": [
      "--------------------------------------------------------------------------------\n",
      "layer=14\n"
     ]
    },
    {
     "data": {
      "text/html": [
       "<div id=\"circuits-vis-3cc80480-0493\" style=\"margin: 15px 0;\"/>\n",
       "    <script crossorigin type=\"module\">\n",
       "    import { render, ColoredTokens } from \"https://unpkg.com/circuitsvis@1.43.3/dist/cdn/esm.js\";\n",
       "    render(\n",
       "      \"circuits-vis-3cc80480-0493\",\n",
       "      ColoredTokens,\n",
       "      {\"tokens\": [\"#\\n\", \"Q\", \":\", \" Victor\", \" Hugo\", \" and\", \" Nep\", \"oleon\", \" Bon\", \"ap\", \"arte\", \"\\n\", \"A\", \":\", \" They\", \" are\", \"/w\", \"ere\", \" both\"], \"values\": [0.01068115234375, 0.0, 0.0, 0.0, 0.0, 0.0, 0.0, 0.0, 0.0, 0.0, 0.0, 0.0, 0.0, 0.0, 0.0, 0.0, 0.0, 0.0, 0.07470703125]}\n",
       "    )\n",
       "    </script>"
      ],
      "text/plain": [
       "<circuitsvis.utils.render.RenderedHTML at 0x7f22ac857d50>"
      ]
     },
     "metadata": {},
     "output_type": "display_data"
    },
    {
     "name": "stdout",
     "output_type": "stream",
     "text": [
      "--------------------------------------------------------------------------------\n",
      "layer=15\n"
     ]
    },
    {
     "data": {
      "text/html": [
       "<div id=\"circuits-vis-37a24cdc-c4a5\" style=\"margin: 15px 0;\"/>\n",
       "    <script crossorigin type=\"module\">\n",
       "    import { render, ColoredTokens } from \"https://unpkg.com/circuitsvis@1.43.3/dist/cdn/esm.js\";\n",
       "    render(\n",
       "      \"circuits-vis-37a24cdc-c4a5\",\n",
       "      ColoredTokens,\n",
       "      {\"tokens\": [\"#\\n\", \"Q\", \":\", \" Victor\", \" Hugo\", \" and\", \" Nep\", \"oleon\", \" Bon\", \"ap\", \"arte\", \"\\n\", \"A\", \":\", \" They\", \" are\", \"/w\", \"ere\", \" both\"], \"values\": [0.0079345703125, 0.0, 0.0, 0.0, 0.0, 0.0, 0.0, 0.0, 0.0, 0.0, 0.0, 0.0, 0.0, 0.0, 0.0, 0.0, 0.0, 0.0, 0.0986328125]}\n",
       "    )\n",
       "    </script>"
      ],
      "text/plain": [
       "<circuitsvis.utils.render.RenderedHTML at 0x7f22e8713810>"
      ]
     },
     "metadata": {},
     "output_type": "display_data"
    },
    {
     "name": "stdout",
     "output_type": "stream",
     "text": [
      "--------------------------------------------------------------------------------\n",
      "layer=16\n"
     ]
    },
    {
     "data": {
      "text/html": [
       "<div id=\"circuits-vis-53e33b5b-9f8f\" style=\"margin: 15px 0;\"/>\n",
       "    <script crossorigin type=\"module\">\n",
       "    import { render, ColoredTokens } from \"https://unpkg.com/circuitsvis@1.43.3/dist/cdn/esm.js\";\n",
       "    render(\n",
       "      \"circuits-vis-53e33b5b-9f8f\",\n",
       "      ColoredTokens,\n",
       "      {\"tokens\": [\"#\\n\", \"Q\", \":\", \" Victor\", \" Hugo\", \" and\", \" Nep\", \"oleon\", \" Bon\", \"ap\", \"arte\", \"\\n\", \"A\", \":\", \" They\", \" are\", \"/w\", \"ere\", \" both\"], \"values\": [0.0174560546875, 0.0, 0.0, 0.0, 0.0, 0.0, 0.0, 0.0, 0.0, 0.0, 0.0, 0.0, 0.0, 0.0, 0.0, 0.0, 0.0, 0.0, 0.11767578125]}\n",
       "    )\n",
       "    </script>"
      ],
      "text/plain": [
       "<circuitsvis.utils.render.RenderedHTML at 0x7f22e807de50>"
      ]
     },
     "metadata": {},
     "output_type": "display_data"
    },
    {
     "name": "stdout",
     "output_type": "stream",
     "text": [
      "--------------------------------------------------------------------------------\n",
      "layer=17\n"
     ]
    },
    {
     "data": {
      "text/html": [
       "<div id=\"circuits-vis-137254c9-7107\" style=\"margin: 15px 0;\"/>\n",
       "    <script crossorigin type=\"module\">\n",
       "    import { render, ColoredTokens } from \"https://unpkg.com/circuitsvis@1.43.3/dist/cdn/esm.js\";\n",
       "    render(\n",
       "      \"circuits-vis-137254c9-7107\",\n",
       "      ColoredTokens,\n",
       "      {\"tokens\": [\"#\\n\", \"Q\", \":\", \" Victor\", \" Hugo\", \" and\", \" Nep\", \"oleon\", \" Bon\", \"ap\", \"arte\", \"\\n\", \"A\", \":\", \" They\", \" are\", \"/w\", \"ere\", \" both\"], \"values\": [0.005279541015625, 0.0, 0.0, 0.0, 0.0, 0.0, 0.0, 0.0, 0.0, 0.0, 0.0, 0.0, 0.0, 0.0, 0.0, 0.0, 0.0, 0.0, 0.0908203125]}\n",
       "    )\n",
       "    </script>"
      ],
      "text/plain": [
       "<circuitsvis.utils.render.RenderedHTML at 0x7f22e8100750>"
      ]
     },
     "metadata": {},
     "output_type": "display_data"
    },
    {
     "name": "stdout",
     "output_type": "stream",
     "text": [
      "--------------------------------------------------------------------------------\n",
      "layer=18\n"
     ]
    },
    {
     "data": {
      "text/html": [
       "<div id=\"circuits-vis-eb86fb39-8ebe\" style=\"margin: 15px 0;\"/>\n",
       "    <script crossorigin type=\"module\">\n",
       "    import { render, ColoredTokens } from \"https://unpkg.com/circuitsvis@1.43.3/dist/cdn/esm.js\";\n",
       "    render(\n",
       "      \"circuits-vis-eb86fb39-8ebe\",\n",
       "      ColoredTokens,\n",
       "      {\"tokens\": [\"#\\n\", \"Q\", \":\", \" Victor\", \" Hugo\", \" and\", \" Nep\", \"oleon\", \" Bon\", \"ap\", \"arte\", \"\\n\", \"A\", \":\", \" They\", \" are\", \"/w\", \"ere\", \" both\"], \"values\": [0.01397705078125, 0.0, 0.0, 0.0, 0.0, 0.0, 0.0, 0.0, 0.0, 0.0, 0.0, 0.0, 0.0, 0.0, 0.0, 0.0, 0.0, 0.0, 0.087890625]}\n",
       "    )\n",
       "    </script>"
      ],
      "text/plain": [
       "<circuitsvis.utils.render.RenderedHTML at 0x7f22e84fe810>"
      ]
     },
     "metadata": {},
     "output_type": "display_data"
    },
    {
     "name": "stdout",
     "output_type": "stream",
     "text": [
      "--------------------------------------------------------------------------------\n",
      "layer=19\n"
     ]
    },
    {
     "data": {
      "text/html": [
       "<div id=\"circuits-vis-ca8ea51e-86a0\" style=\"margin: 15px 0;\"/>\n",
       "    <script crossorigin type=\"module\">\n",
       "    import { render, ColoredTokens } from \"https://unpkg.com/circuitsvis@1.43.3/dist/cdn/esm.js\";\n",
       "    render(\n",
       "      \"circuits-vis-ca8ea51e-86a0\",\n",
       "      ColoredTokens,\n",
       "      {\"tokens\": [\"#\\n\", \"Q\", \":\", \" Victor\", \" Hugo\", \" and\", \" Nep\", \"oleon\", \" Bon\", \"ap\", \"arte\", \"\\n\", \"A\", \":\", \" They\", \" are\", \"/w\", \"ere\", \" both\"], \"values\": [0.02490234375, 0.0, 0.0, 0.0, 0.0, 0.0, 0.0, 0.0, 0.0, 0.0, 0.0, 0.0, 0.0, 0.0, 0.0, 0.0, 0.0, 0.0, 0.0693359375]}\n",
       "    )\n",
       "    </script>"
      ],
      "text/plain": [
       "<circuitsvis.utils.render.RenderedHTML at 0x7f22e807de50>"
      ]
     },
     "metadata": {},
     "output_type": "display_data"
    },
    {
     "name": "stdout",
     "output_type": "stream",
     "text": [
      "--------------------------------------------------------------------------------\n",
      "layer=20\n"
     ]
    },
    {
     "data": {
      "text/html": [
       "<div id=\"circuits-vis-e30430d7-996b\" style=\"margin: 15px 0;\"/>\n",
       "    <script crossorigin type=\"module\">\n",
       "    import { render, ColoredTokens } from \"https://unpkg.com/circuitsvis@1.43.3/dist/cdn/esm.js\";\n",
       "    render(\n",
       "      \"circuits-vis-e30430d7-996b\",\n",
       "      ColoredTokens,\n",
       "      {\"tokens\": [\"#\\n\", \"Q\", \":\", \" Victor\", \" Hugo\", \" and\", \" Nep\", \"oleon\", \" Bon\", \"ap\", \"arte\", \"\\n\", \"A\", \":\", \" They\", \" are\", \"/w\", \"ere\", \" both\"], \"values\": [0.01904296875, 0.0, 0.0, 0.0, 0.0, 0.0, 0.0, 0.0, 0.0, 0.0, 0.0, 0.0, 0.0, 0.0, 0.0, 0.0, 0.0, 0.0, 0.1181640625]}\n",
       "    )\n",
       "    </script>"
      ],
      "text/plain": [
       "<circuitsvis.utils.render.RenderedHTML at 0x7f22ea2aecd0>"
      ]
     },
     "metadata": {},
     "output_type": "display_data"
    },
    {
     "name": "stdout",
     "output_type": "stream",
     "text": [
      "--------------------------------------------------------------------------------\n",
      "layer=21\n"
     ]
    },
    {
     "data": {
      "text/html": [
       "<div id=\"circuits-vis-8acbacd2-f8c4\" style=\"margin: 15px 0;\"/>\n",
       "    <script crossorigin type=\"module\">\n",
       "    import { render, ColoredTokens } from \"https://unpkg.com/circuitsvis@1.43.3/dist/cdn/esm.js\";\n",
       "    render(\n",
       "      \"circuits-vis-8acbacd2-f8c4\",\n",
       "      ColoredTokens,\n",
       "      {\"tokens\": [\"#\\n\", \"Q\", \":\", \" Victor\", \" Hugo\", \" and\", \" Nep\", \"oleon\", \" Bon\", \"ap\", \"arte\", \"\\n\", \"A\", \":\", \" They\", \" are\", \"/w\", \"ere\", \" both\"], \"values\": [0.0361328125, 0.0, 0.0, 0.0, 0.0, 0.0, 0.0, 0.0, 0.0, 0.0, 0.0, 0.0, 0.0, 0.0, 0.0, 0.0, 0.0, 0.0, 0.1142578125]}\n",
       "    )\n",
       "    </script>"
      ],
      "text/plain": [
       "<circuitsvis.utils.render.RenderedHTML at 0x7f22e87453d0>"
      ]
     },
     "metadata": {},
     "output_type": "display_data"
    },
    {
     "name": "stdout",
     "output_type": "stream",
     "text": [
      "--------------------------------------------------------------------------------\n",
      "layer=22\n"
     ]
    },
    {
     "data": {
      "text/html": [
       "<div id=\"circuits-vis-2b433eb0-d7ea\" style=\"margin: 15px 0;\"/>\n",
       "    <script crossorigin type=\"module\">\n",
       "    import { render, ColoredTokens } from \"https://unpkg.com/circuitsvis@1.43.3/dist/cdn/esm.js\";\n",
       "    render(\n",
       "      \"circuits-vis-2b433eb0-d7ea\",\n",
       "      ColoredTokens,\n",
       "      {\"tokens\": [\"#\\n\", \"Q\", \":\", \" Victor\", \" Hugo\", \" and\", \" Nep\", \"oleon\", \" Bon\", \"ap\", \"arte\", \"\\n\", \"A\", \":\", \" They\", \" are\", \"/w\", \"ere\", \" both\"], \"values\": [0.0101318359375, 0.0, 0.0, 0.0, 0.0, 0.0, 0.0, 0.0, 0.0, 0.0, 0.0, 0.0, 0.0, 0.0, 0.0, 0.0, 0.0, 0.0, 0.125]}\n",
       "    )\n",
       "    </script>"
      ],
      "text/plain": [
       "<circuitsvis.utils.render.RenderedHTML at 0x7f22e807de50>"
      ]
     },
     "metadata": {},
     "output_type": "display_data"
    },
    {
     "name": "stdout",
     "output_type": "stream",
     "text": [
      "--------------------------------------------------------------------------------\n",
      "layer=23\n"
     ]
    },
    {
     "data": {
      "text/html": [
       "<div id=\"circuits-vis-f72820ca-261a\" style=\"margin: 15px 0;\"/>\n",
       "    <script crossorigin type=\"module\">\n",
       "    import { render, ColoredTokens } from \"https://unpkg.com/circuitsvis@1.43.3/dist/cdn/esm.js\";\n",
       "    render(\n",
       "      \"circuits-vis-f72820ca-261a\",\n",
       "      ColoredTokens,\n",
       "      {\"tokens\": [\"#\\n\", \"Q\", \":\", \" Victor\", \" Hugo\", \" and\", \" Nep\", \"oleon\", \" Bon\", \"ap\", \"arte\", \"\\n\", \"A\", \":\", \" They\", \" are\", \"/w\", \"ere\", \" both\"], \"values\": [0.016357421875, 0.0, 0.0, 0.0, 0.0, 0.0, 0.0, 0.0, 0.0, 0.0, 0.0, 0.0, 0.0, 0.0, 0.0, 0.0, 0.0, 0.0, 0.109375]}\n",
       "    )\n",
       "    </script>"
      ],
      "text/plain": [
       "<circuitsvis.utils.render.RenderedHTML at 0x7f22e8516610>"
      ]
     },
     "metadata": {},
     "output_type": "display_data"
    },
    {
     "name": "stdout",
     "output_type": "stream",
     "text": [
      "--------------------------------------------------------------------------------\n",
      "layer=24\n"
     ]
    },
    {
     "data": {
      "text/html": [
       "<div id=\"circuits-vis-726905c3-8c8f\" style=\"margin: 15px 0;\"/>\n",
       "    <script crossorigin type=\"module\">\n",
       "    import { render, ColoredTokens } from \"https://unpkg.com/circuitsvis@1.43.3/dist/cdn/esm.js\";\n",
       "    render(\n",
       "      \"circuits-vis-726905c3-8c8f\",\n",
       "      ColoredTokens,\n",
       "      {\"tokens\": [\"#\\n\", \"Q\", \":\", \" Victor\", \" Hugo\", \" and\", \" Nep\", \"oleon\", \" Bon\", \"ap\", \"arte\", \"\\n\", \"A\", \":\", \" They\", \" are\", \"/w\", \"ere\", \" both\"], \"values\": [0.0152587890625, 0.0, 0.0, 0.0, 0.0, 0.0, 0.0, 0.0, 0.0, 0.0, 0.0, 0.0, 0.0, 0.0, 0.0, 0.0, 0.0, 0.0, 0.08935546875]}\n",
       "    )\n",
       "    </script>"
      ],
      "text/plain": [
       "<circuitsvis.utils.render.RenderedHTML at 0x7f22e8516750>"
      ]
     },
     "metadata": {},
     "output_type": "display_data"
    },
    {
     "name": "stdout",
     "output_type": "stream",
     "text": [
      "--------------------------------------------------------------------------------\n",
      "layer=25\n"
     ]
    },
    {
     "data": {
      "text/html": [
       "<div id=\"circuits-vis-5c899fc2-c88f\" style=\"margin: 15px 0;\"/>\n",
       "    <script crossorigin type=\"module\">\n",
       "    import { render, ColoredTokens } from \"https://unpkg.com/circuitsvis@1.43.3/dist/cdn/esm.js\";\n",
       "    render(\n",
       "      \"circuits-vis-5c899fc2-c88f\",\n",
       "      ColoredTokens,\n",
       "      {\"tokens\": [\"#\\n\", \"Q\", \":\", \" Victor\", \" Hugo\", \" and\", \" Nep\", \"oleon\", \" Bon\", \"ap\", \"arte\", \"\\n\", \"A\", \":\", \" They\", \" are\", \"/w\", \"ere\", \" both\"], \"values\": [0.003204345703125, 0.0, 0.0, 0.0, 0.0, 0.0, 0.0, 0.0, 0.0, 0.0, 0.0, 0.0, 0.0, 0.0, 0.0, 0.0, 0.0, 0.0, 0.045654296875]}\n",
       "    )\n",
       "    </script>"
      ],
      "text/plain": [
       "<circuitsvis.utils.render.RenderedHTML at 0x7f22ac837410>"
      ]
     },
     "metadata": {},
     "output_type": "display_data"
    },
    {
     "name": "stdout",
     "output_type": "stream",
     "text": [
      "--------------------------------------------------------------------------------\n",
      "layer=26\n"
     ]
    },
    {
     "data": {
      "text/html": [
       "<div id=\"circuits-vis-f4041a9d-fe3e\" style=\"margin: 15px 0;\"/>\n",
       "    <script crossorigin type=\"module\">\n",
       "    import { render, ColoredTokens } from \"https://unpkg.com/circuitsvis@1.43.3/dist/cdn/esm.js\";\n",
       "    render(\n",
       "      \"circuits-vis-f4041a9d-fe3e\",\n",
       "      ColoredTokens,\n",
       "      {\"tokens\": [\"#\\n\", \"Q\", \":\", \" Victor\", \" Hugo\", \" and\", \" Nep\", \"oleon\", \" Bon\", \"ap\", \"arte\", \"\\n\", \"A\", \":\", \" They\", \" are\", \"/w\", \"ere\", \" both\"], \"values\": [0.037109375, 0.0, 0.0, 0.03173828125, 0.0245361328125, 0.0, 0.01300048828125, 0.0262451171875, 0.038818359375, 0.004425048828125, 0.050537109375, 0.0, 0.0, 0.0, 0.0, 0.0, 0.0, 0.0, 0.078125]}\n",
       "    )\n",
       "    </script>"
      ],
      "text/plain": [
       "<circuitsvis.utils.render.RenderedHTML at 0x7f22ac8f3250>"
      ]
     },
     "metadata": {},
     "output_type": "display_data"
    },
    {
     "name": "stdout",
     "output_type": "stream",
     "text": [
      "--------------------------------------------------------------------------------\n",
      "layer=27\n"
     ]
    },
    {
     "data": {
      "text/html": [
       "<div id=\"circuits-vis-703f25dd-1c99\" style=\"margin: 15px 0;\"/>\n",
       "    <script crossorigin type=\"module\">\n",
       "    import { render, ColoredTokens } from \"https://unpkg.com/circuitsvis@1.43.3/dist/cdn/esm.js\";\n",
       "    render(\n",
       "      \"circuits-vis-703f25dd-1c99\",\n",
       "      ColoredTokens,\n",
       "      {\"tokens\": [\"#\\n\", \"Q\", \":\", \" Victor\", \" Hugo\", \" and\", \" Nep\", \"oleon\", \" Bon\", \"ap\", \"arte\", \"\\n\", \"A\", \":\", \" They\", \" are\", \"/w\", \"ere\", \" both\"], \"values\": [0.03076171875, 0.0, 0.0, 0.0263671875, 0.035400390625, 0.0, 0.0177001953125, 0.041748046875, 0.03271484375, 0.0191650390625, 0.0439453125, 0.0, 0.0, 0.0, 0.0, 0.0, 0.0, 0.0, 0.10693359375]}\n",
       "    )\n",
       "    </script>"
      ],
      "text/plain": [
       "<circuitsvis.utils.render.RenderedHTML at 0x7f22e81f3c90>"
      ]
     },
     "metadata": {},
     "output_type": "display_data"
    },
    {
     "name": "stdout",
     "output_type": "stream",
     "text": [
      "--------------------------------------------------------------------------------\n",
      "layer=28\n"
     ]
    },
    {
     "data": {
      "text/html": [
       "<div id=\"circuits-vis-b9218498-75cc\" style=\"margin: 15px 0;\"/>\n",
       "    <script crossorigin type=\"module\">\n",
       "    import { render, ColoredTokens } from \"https://unpkg.com/circuitsvis@1.43.3/dist/cdn/esm.js\";\n",
       "    render(\n",
       "      \"circuits-vis-b9218498-75cc\",\n",
       "      ColoredTokens,\n",
       "      {\"tokens\": [\"#\\n\", \"Q\", \":\", \" Victor\", \" Hugo\", \" and\", \" Nep\", \"oleon\", \" Bon\", \"ap\", \"arte\", \"\\n\", \"A\", \":\", \" They\", \" are\", \"/w\", \"ere\", \" both\"], \"values\": [0.0086669921875, 0.0, 0.0, 0.0380859375, 0.06787109375, 0.0, 0.0205078125, 0.050537109375, 0.0234375, 0.01324462890625, 0.02685546875, 0.0, 0.0, 0.0, 0.0, 0.0, 0.0, 0.0, 0.1083984375]}\n",
       "    )\n",
       "    </script>"
      ],
      "text/plain": [
       "<circuitsvis.utils.render.RenderedHTML at 0x7f22e80b9ad0>"
      ]
     },
     "metadata": {},
     "output_type": "display_data"
    },
    {
     "name": "stdout",
     "output_type": "stream",
     "text": [
      "--------------------------------------------------------------------------------\n",
      "layer=29\n"
     ]
    },
    {
     "data": {
      "text/html": [
       "<div id=\"circuits-vis-2df94bb0-33c6\" style=\"margin: 15px 0;\"/>\n",
       "    <script crossorigin type=\"module\">\n",
       "    import { render, ColoredTokens } from \"https://unpkg.com/circuitsvis@1.43.3/dist/cdn/esm.js\";\n",
       "    render(\n",
       "      \"circuits-vis-2df94bb0-33c6\",\n",
       "      ColoredTokens,\n",
       "      {\"tokens\": [\"#\\n\", \"Q\", \":\", \" Victor\", \" Hugo\", \" and\", \" Nep\", \"oleon\", \" Bon\", \"ap\", \"arte\", \"\\n\", \"A\", \":\", \" They\", \" are\", \"/w\", \"ere\", \" both\"], \"values\": [0.0062255859375, 0.0, 0.0, 0.034912109375, 0.062255859375, 0.0, 0.0106201171875, 0.03125, 0.02587890625, 0.007476806640625, 0.02685546875, 0.0, 0.0, 0.0, 0.0, 0.0, 0.0, 0.0, 0.0927734375]}\n",
       "    )\n",
       "    </script>"
      ],
      "text/plain": [
       "<circuitsvis.utils.render.RenderedHTML at 0x7f22ac9013d0>"
      ]
     },
     "metadata": {},
     "output_type": "display_data"
    },
    {
     "name": "stdout",
     "output_type": "stream",
     "text": [
      "--------------------------------------------------------------------------------\n",
      "layer=30\n"
     ]
    },
    {
     "data": {
      "text/html": [
       "<div id=\"circuits-vis-dd6c37c0-c2a5\" style=\"margin: 15px 0;\"/>\n",
       "    <script crossorigin type=\"module\">\n",
       "    import { render, ColoredTokens } from \"https://unpkg.com/circuitsvis@1.43.3/dist/cdn/esm.js\";\n",
       "    render(\n",
       "      \"circuits-vis-dd6c37c0-c2a5\",\n",
       "      ColoredTokens,\n",
       "      {\"tokens\": [\"#\\n\", \"Q\", \":\", \" Victor\", \" Hugo\", \" and\", \" Nep\", \"oleon\", \" Bon\", \"ap\", \"arte\", \"\\n\", \"A\", \":\", \" They\", \" are\", \"/w\", \"ere\", \" both\"], \"values\": [0.004364013671875, 0.0, 0.0, 0.043701171875, 0.1171875, 0.0, 0.0216064453125, 0.07763671875, 0.042724609375, 0.0216064453125, 0.06591796875, 0.0, 0.0, 0.0, 0.0, 0.0, 0.0, 0.0, 0.1181640625]}\n",
       "    )\n",
       "    </script>"
      ],
      "text/plain": [
       "<circuitsvis.utils.render.RenderedHTML at 0x7f22e8516650>"
      ]
     },
     "metadata": {},
     "output_type": "display_data"
    },
    {
     "name": "stdout",
     "output_type": "stream",
     "text": [
      "--------------------------------------------------------------------------------\n",
      "layer=31\n"
     ]
    },
    {
     "data": {
      "text/html": [
       "<div id=\"circuits-vis-21f76143-5851\" style=\"margin: 15px 0;\"/>\n",
       "    <script crossorigin type=\"module\">\n",
       "    import { render, ColoredTokens } from \"https://unpkg.com/circuitsvis@1.43.3/dist/cdn/esm.js\";\n",
       "    render(\n",
       "      \"circuits-vis-21f76143-5851\",\n",
       "      ColoredTokens,\n",
       "      {\"tokens\": [\"#\\n\", \"Q\", \":\", \" Victor\", \" Hugo\", \" and\", \" Nep\", \"oleon\", \" Bon\", \"ap\", \"arte\", \"\\n\", \"A\", \":\", \" They\", \" are\", \"/w\", \"ere\", \" both\"], \"values\": [0.003204345703125, 0.0, 0.0, 0.0308837890625, 0.10693359375, 0.0, 0.0174560546875, 0.11279296875, 0.052001953125, 0.031982421875, 0.078125, 0.0, 0.0, 0.0, 0.0, 0.0, 0.0, 0.0, 0.1298828125]}\n",
       "    )\n",
       "    </script>"
      ],
      "text/plain": [
       "<circuitsvis.utils.render.RenderedHTML at 0x7f22e807de50>"
      ]
     },
     "metadata": {},
     "output_type": "display_data"
    },
    {
     "name": "stdout",
     "output_type": "stream",
     "text": [
      "--------------------------------------------------------------------------------\n",
      "layer=32\n"
     ]
    },
    {
     "data": {
      "text/html": [
       "<div id=\"circuits-vis-78254c8b-eb0f\" style=\"margin: 15px 0;\"/>\n",
       "    <script crossorigin type=\"module\">\n",
       "    import { render, ColoredTokens } from \"https://unpkg.com/circuitsvis@1.43.3/dist/cdn/esm.js\";\n",
       "    render(\n",
       "      \"circuits-vis-78254c8b-eb0f\",\n",
       "      ColoredTokens,\n",
       "      {\"tokens\": [\"#\\n\", \"Q\", \":\", \" Victor\", \" Hugo\", \" and\", \" Nep\", \"oleon\", \" Bon\", \"ap\", \"arte\", \"\\n\", \"A\", \":\", \" They\", \" are\", \"/w\", \"ere\", \" both\"], \"values\": [0.0009002685546875, 0.0, 0.0, 0.0189208984375, 0.07421875, 0.0, 0.01007080078125, 0.03466796875, 0.024658203125, 0.018310546875, 0.035888671875, 0.0, 0.0, 0.0, 0.0, 0.0, 0.0, 0.0, 0.1025390625]}\n",
       "    )\n",
       "    </script>"
      ],
      "text/plain": [
       "<circuitsvis.utils.render.RenderedHTML at 0x7f22e80ba9d0>"
      ]
     },
     "metadata": {},
     "output_type": "display_data"
    },
    {
     "name": "stdout",
     "output_type": "stream",
     "text": [
      "--------------------------------------------------------------------------------\n",
      "layer=33\n"
     ]
    },
    {
     "data": {
      "text/html": [
       "<div id=\"circuits-vis-b7c96ec0-bccb\" style=\"margin: 15px 0;\"/>\n",
       "    <script crossorigin type=\"module\">\n",
       "    import { render, ColoredTokens } from \"https://unpkg.com/circuitsvis@1.43.3/dist/cdn/esm.js\";\n",
       "    render(\n",
       "      \"circuits-vis-b7c96ec0-bccb\",\n",
       "      ColoredTokens,\n",
       "      {\"tokens\": [\"#\\n\", \"Q\", \":\", \" Victor\", \" Hugo\", \" and\", \" Nep\", \"oleon\", \" Bon\", \"ap\", \"arte\", \"\\n\", \"A\", \":\", \" They\", \" are\", \"/w\", \"ere\", \" both\"], \"values\": [0.00194549560546875, 0.0, 0.0, 0.0159912109375, 0.08740234375, 0.0, 0.0081787109375, 0.0537109375, 0.013427734375, 0.0194091796875, 0.024169921875, 0.0, 0.0, 0.0, 0.0, 0.0, 0.0, 0.0, 0.109375]}\n",
       "    )\n",
       "    </script>"
      ],
      "text/plain": [
       "<circuitsvis.utils.render.RenderedHTML at 0x7f22e87453d0>"
      ]
     },
     "metadata": {},
     "output_type": "display_data"
    },
    {
     "name": "stdout",
     "output_type": "stream",
     "text": [
      "--------------------------------------------------------------------------------\n",
      "layer=34\n"
     ]
    },
    {
     "data": {
      "text/html": [
       "<div id=\"circuits-vis-d40fb21a-1e86\" style=\"margin: 15px 0;\"/>\n",
       "    <script crossorigin type=\"module\">\n",
       "    import { render, ColoredTokens } from \"https://unpkg.com/circuitsvis@1.43.3/dist/cdn/esm.js\";\n",
       "    render(\n",
       "      \"circuits-vis-d40fb21a-1e86\",\n",
       "      ColoredTokens,\n",
       "      {\"tokens\": [\"#\\n\", \"Q\", \":\", \" Victor\", \" Hugo\", \" and\", \" Nep\", \"oleon\", \" Bon\", \"ap\", \"arte\", \"\\n\", \"A\", \":\", \" They\", \" are\", \"/w\", \"ere\", \" both\"], \"values\": [0.00034332275390625, 0.0, 0.0, 0.01373291015625, 0.0751953125, 0.0, 0.0087890625, 0.06298828125, 0.012451171875, 0.032470703125, 0.0130615234375, 0.0, 0.0, 0.0, 0.0, 0.0, 0.0, 0.0, 0.052490234375]}\n",
       "    )\n",
       "    </script>"
      ],
      "text/plain": [
       "<circuitsvis.utils.render.RenderedHTML at 0x7f22ac857e50>"
      ]
     },
     "metadata": {},
     "output_type": "display_data"
    },
    {
     "name": "stdout",
     "output_type": "stream",
     "text": [
      "--------------------------------------------------------------------------------\n",
      "layer=35\n"
     ]
    },
    {
     "data": {
      "text/html": [
       "<div id=\"circuits-vis-d5568424-00eb\" style=\"margin: 15px 0;\"/>\n",
       "    <script crossorigin type=\"module\">\n",
       "    import { render, ColoredTokens } from \"https://unpkg.com/circuitsvis@1.43.3/dist/cdn/esm.js\";\n",
       "    render(\n",
       "      \"circuits-vis-d5568424-00eb\",\n",
       "      ColoredTokens,\n",
       "      {\"tokens\": [\"#\\n\", \"Q\", \":\", \" Victor\", \" Hugo\", \" and\", \" Nep\", \"oleon\", \" Bon\", \"ap\", \"arte\", \"\\n\", \"A\", \":\", \" They\", \" are\", \"/w\", \"ere\", \" both\"], \"values\": [0.00135040283203125, 0.0, 0.0, 0.0, 0.0, 0.0, 0.0, 0.0, 0.0, 0.0, 0.0, 0.0, 0.0, 0.0, 0.0, 0.0, 0.0, 0.0, 0.2294921875]}\n",
       "    )\n",
       "    </script>"
      ],
      "text/plain": [
       "<circuitsvis.utils.render.RenderedHTML at 0x7f22e807c310>"
      ]
     },
     "metadata": {},
     "output_type": "display_data"
    },
    {
     "name": "stdout",
     "output_type": "stream",
     "text": [
      "--------------------------------------------------------------------------------\n",
      "layer=36\n"
     ]
    },
    {
     "data": {
      "text/html": [
       "<div id=\"circuits-vis-b9f80924-b20a\" style=\"margin: 15px 0;\"/>\n",
       "    <script crossorigin type=\"module\">\n",
       "    import { render, ColoredTokens } from \"https://unpkg.com/circuitsvis@1.43.3/dist/cdn/esm.js\";\n",
       "    render(\n",
       "      \"circuits-vis-b9f80924-b20a\",\n",
       "      ColoredTokens,\n",
       "      {\"tokens\": [\"#\\n\", \"Q\", \":\", \" Victor\", \" Hugo\", \" and\", \" Nep\", \"oleon\", \" Bon\", \"ap\", \"arte\", \"\\n\", \"A\", \":\", \" They\", \" are\", \"/w\", \"ere\", \" both\"], \"values\": [0.000926971435546875, 0.0, 0.0, 0.0, 0.0, 0.0, 0.0, 0.0, 0.0, 0.0, 0.0, 0.0, 0.0, 0.0, 0.0, 0.0, 0.0, 0.0, 0.10791015625]}\n",
       "    )\n",
       "    </script>"
      ],
      "text/plain": [
       "<circuitsvis.utils.render.RenderedHTML at 0x7f22ea2ee8d0>"
      ]
     },
     "metadata": {},
     "output_type": "display_data"
    },
    {
     "name": "stdout",
     "output_type": "stream",
     "text": [
      "--------------------------------------------------------------------------------\n",
      "layer=37\n"
     ]
    },
    {
     "data": {
      "text/html": [
       "<div id=\"circuits-vis-ea22f712-9a04\" style=\"margin: 15px 0;\"/>\n",
       "    <script crossorigin type=\"module\">\n",
       "    import { render, ColoredTokens } from \"https://unpkg.com/circuitsvis@1.43.3/dist/cdn/esm.js\";\n",
       "    render(\n",
       "      \"circuits-vis-ea22f712-9a04\",\n",
       "      ColoredTokens,\n",
       "      {\"tokens\": [\"#\\n\", \"Q\", \":\", \" Victor\", \" Hugo\", \" and\", \" Nep\", \"oleon\", \" Bon\", \"ap\", \"arte\", \"\\n\", \"A\", \":\", \" They\", \" are\", \"/w\", \"ere\", \" both\"], \"values\": [0.000823974609375, 0.0, 0.0, 0.0, 0.0, 0.0, 0.0, 0.0, 0.0, 0.0, 0.0, 0.0, 0.0, 0.0, 0.0, 0.0, 0.0, 0.0, 0.1123046875]}\n",
       "    )\n",
       "    </script>"
      ],
      "text/plain": [
       "<circuitsvis.utils.render.RenderedHTML at 0x7f22ac8c5990>"
      ]
     },
     "metadata": {},
     "output_type": "display_data"
    },
    {
     "name": "stdout",
     "output_type": "stream",
     "text": [
      "--------------------------------------------------------------------------------\n",
      "layer=38\n"
     ]
    },
    {
     "data": {
      "text/html": [
       "<div id=\"circuits-vis-b34261cc-cb21\" style=\"margin: 15px 0;\"/>\n",
       "    <script crossorigin type=\"module\">\n",
       "    import { render, ColoredTokens } from \"https://unpkg.com/circuitsvis@1.43.3/dist/cdn/esm.js\";\n",
       "    render(\n",
       "      \"circuits-vis-b34261cc-cb21\",\n",
       "      ColoredTokens,\n",
       "      {\"tokens\": [\"#\\n\", \"Q\", \":\", \" Victor\", \" Hugo\", \" and\", \" Nep\", \"oleon\", \" Bon\", \"ap\", \"arte\", \"\\n\", \"A\", \":\", \" They\", \" are\", \"/w\", \"ere\", \" both\"], \"values\": [0.0013427734375, 0.0, 0.0, 0.0, 0.0, 0.0, 0.0, 0.0, 0.0, 0.0, 0.0, 0.0, 0.0, 0.0, 0.0, 0.0, 0.0, 0.0, 0.138671875]}\n",
       "    )\n",
       "    </script>"
      ],
      "text/plain": [
       "<circuitsvis.utils.render.RenderedHTML at 0x7f22ac8dff90>"
      ]
     },
     "metadata": {},
     "output_type": "display_data"
    },
    {
     "name": "stdout",
     "output_type": "stream",
     "text": [
      "--------------------------------------------------------------------------------\n",
      "layer=39\n"
     ]
    },
    {
     "data": {
      "text/html": [
       "<div id=\"circuits-vis-019cec25-2a4a\" style=\"margin: 15px 0;\"/>\n",
       "    <script crossorigin type=\"module\">\n",
       "    import { render, ColoredTokens } from \"https://unpkg.com/circuitsvis@1.43.3/dist/cdn/esm.js\";\n",
       "    render(\n",
       "      \"circuits-vis-019cec25-2a4a\",\n",
       "      ColoredTokens,\n",
       "      {\"tokens\": [\"#\\n\", \"Q\", \":\", \" Victor\", \" Hugo\", \" and\", \" Nep\", \"oleon\", \" Bon\", \"ap\", \"arte\", \"\\n\", \"A\", \":\", \" They\", \" are\", \"/w\", \"ere\", \" both\"], \"values\": [0.001983642578125, 0.0, 0.0, 0.0, 0.0, 0.0, 0.0, 0.0, 0.0, 0.0, 0.0, 0.0, 0.0, 0.0, 0.0, 0.0, 0.0, 0.0, 0.1845703125]}\n",
       "    )\n",
       "    </script>"
      ],
      "text/plain": [
       "<circuitsvis.utils.render.RenderedHTML at 0x7f22ac84c310>"
      ]
     },
     "metadata": {},
     "output_type": "display_data"
    },
    {
     "name": "stdout",
     "output_type": "stream",
     "text": [
      "--------------------------------------------------------------------------------\n",
      "layer=40\n"
     ]
    },
    {
     "data": {
      "text/html": [
       "<div id=\"circuits-vis-be233411-3f5f\" style=\"margin: 15px 0;\"/>\n",
       "    <script crossorigin type=\"module\">\n",
       "    import { render, ColoredTokens } from \"https://unpkg.com/circuitsvis@1.43.3/dist/cdn/esm.js\";\n",
       "    render(\n",
       "      \"circuits-vis-be233411-3f5f\",\n",
       "      ColoredTokens,\n",
       "      {\"tokens\": [\"#\\n\", \"Q\", \":\", \" Victor\", \" Hugo\", \" and\", \" Nep\", \"oleon\", \" Bon\", \"ap\", \"arte\", \"\\n\", \"A\", \":\", \" They\", \" are\", \"/w\", \"ere\", \" both\"], \"values\": [0.0001964569091796875, 0.0, 0.0, 0.0, 0.0, 0.0, 0.0, 0.0, 0.0, 0.0, 0.0, 0.0, 0.0, 0.0, 0.0, 0.0, 0.0, 0.0, 0.0966796875]}\n",
       "    )\n",
       "    </script>"
      ],
      "text/plain": [
       "<circuitsvis.utils.render.RenderedHTML at 0x7f22e84c16d0>"
      ]
     },
     "metadata": {},
     "output_type": "display_data"
    },
    {
     "name": "stdout",
     "output_type": "stream",
     "text": [
      "--------------------------------------------------------------------------------\n",
      "layer=41\n"
     ]
    },
    {
     "data": {
      "text/html": [
       "<div id=\"circuits-vis-c75bfa45-e581\" style=\"margin: 15px 0;\"/>\n",
       "    <script crossorigin type=\"module\">\n",
       "    import { render, ColoredTokens } from \"https://unpkg.com/circuitsvis@1.43.3/dist/cdn/esm.js\";\n",
       "    render(\n",
       "      \"circuits-vis-c75bfa45-e581\",\n",
       "      ColoredTokens,\n",
       "      {\"tokens\": [\"#\\n\", \"Q\", \":\", \" Victor\", \" Hugo\", \" and\", \" Nep\", \"oleon\", \" Bon\", \"ap\", \"arte\", \"\\n\", \"A\", \":\", \" They\", \" are\", \"/w\", \"ere\", \" both\"], \"values\": [0.000911712646484375, 0.0, 0.0, 0.0, 0.0, 0.0, 0.0, 0.0, 0.0, 0.0, 0.0, 0.0, 0.0, 0.0, 0.0, 0.0, 0.0, 0.0, 0.07763671875]}\n",
       "    )\n",
       "    </script>"
      ],
      "text/plain": [
       "<circuitsvis.utils.render.RenderedHTML at 0x7f22e84cd510>"
      ]
     },
     "metadata": {},
     "output_type": "display_data"
    },
    {
     "name": "stdout",
     "output_type": "stream",
     "text": [
      "--------------------------------------------------------------------------------\n",
      "layer=42\n"
     ]
    },
    {
     "data": {
      "text/html": [
       "<div id=\"circuits-vis-c2640699-db19\" style=\"margin: 15px 0;\"/>\n",
       "    <script crossorigin type=\"module\">\n",
       "    import { render, ColoredTokens } from \"https://unpkg.com/circuitsvis@1.43.3/dist/cdn/esm.js\";\n",
       "    render(\n",
       "      \"circuits-vis-c2640699-db19\",\n",
       "      ColoredTokens,\n",
       "      {\"tokens\": [\"#\\n\", \"Q\", \":\", \" Victor\", \" Hugo\", \" and\", \" Nep\", \"oleon\", \" Bon\", \"ap\", \"arte\", \"\\n\", \"A\", \":\", \" They\", \" are\", \"/w\", \"ere\", \" both\"], \"values\": [0.002655029296875, 0.0, 0.0, 0.0, 0.0, 0.0, 0.0, 0.0, 0.0, 0.0, 0.0, 0.0, 0.0, 0.0, 0.0, 0.0, 0.0, 0.0, 0.080078125]}\n",
       "    )\n",
       "    </script>"
      ],
      "text/plain": [
       "<circuitsvis.utils.render.RenderedHTML at 0x7f22e807de50>"
      ]
     },
     "metadata": {},
     "output_type": "display_data"
    },
    {
     "name": "stdout",
     "output_type": "stream",
     "text": [
      "--------------------------------------------------------------------------------\n",
      "layer=43\n"
     ]
    },
    {
     "data": {
      "text/html": [
       "<div id=\"circuits-vis-a7505b9e-71e4\" style=\"margin: 15px 0;\"/>\n",
       "    <script crossorigin type=\"module\">\n",
       "    import { render, ColoredTokens } from \"https://unpkg.com/circuitsvis@1.43.3/dist/cdn/esm.js\";\n",
       "    render(\n",
       "      \"circuits-vis-a7505b9e-71e4\",\n",
       "      ColoredTokens,\n",
       "      {\"tokens\": [\"#\\n\", \"Q\", \":\", \" Victor\", \" Hugo\", \" and\", \" Nep\", \"oleon\", \" Bon\", \"ap\", \"arte\", \"\\n\", \"A\", \":\", \" They\", \" are\", \"/w\", \"ere\", \" both\"], \"values\": [0.0004177093505859375, 0.0, 0.0, 0.0, 0.0, 0.0, 0.0, 0.0, 0.0, 0.0, 0.0, 0.0, 0.0, 0.0, 0.0, 0.0, 0.0, 0.0, 0.056640625]}\n",
       "    )\n",
       "    </script>"
      ],
      "text/plain": [
       "<circuitsvis.utils.render.RenderedHTML at 0x7f22e80bb250>"
      ]
     },
     "metadata": {},
     "output_type": "display_data"
    },
    {
     "name": "stdout",
     "output_type": "stream",
     "text": [
      "--------------------------------------------------------------------------------\n",
      "layer=44\n"
     ]
    },
    {
     "data": {
      "text/html": [
       "<div id=\"circuits-vis-ae35c9a1-57db\" style=\"margin: 15px 0;\"/>\n",
       "    <script crossorigin type=\"module\">\n",
       "    import { render, ColoredTokens } from \"https://unpkg.com/circuitsvis@1.43.3/dist/cdn/esm.js\";\n",
       "    render(\n",
       "      \"circuits-vis-ae35c9a1-57db\",\n",
       "      ColoredTokens,\n",
       "      {\"tokens\": [\"#\\n\", \"Q\", \":\", \" Victor\", \" Hugo\", \" and\", \" Nep\", \"oleon\", \" Bon\", \"ap\", \"arte\", \"\\n\", \"A\", \":\", \" They\", \" are\", \"/w\", \"ere\", \" both\"], \"values\": [0.00083160400390625, 0.0, 0.0, 0.0, 0.0, 0.0, 0.0, 0.0, 0.0, 0.0, 0.0, 0.0, 0.0, 0.0, 0.0, 0.0, 0.0, 0.0, 0.140625]}\n",
       "    )\n",
       "    </script>"
      ],
      "text/plain": [
       "<circuitsvis.utils.render.RenderedHTML at 0x7f22e8516650>"
      ]
     },
     "metadata": {},
     "output_type": "display_data"
    },
    {
     "name": "stdout",
     "output_type": "stream",
     "text": [
      "--------------------------------------------------------------------------------\n",
      "layer=45\n"
     ]
    },
    {
     "data": {
      "text/html": [
       "<div id=\"circuits-vis-20383700-9426\" style=\"margin: 15px 0;\"/>\n",
       "    <script crossorigin type=\"module\">\n",
       "    import { render, ColoredTokens } from \"https://unpkg.com/circuitsvis@1.43.3/dist/cdn/esm.js\";\n",
       "    render(\n",
       "      \"circuits-vis-20383700-9426\",\n",
       "      ColoredTokens,\n",
       "      {\"tokens\": [\"#\\n\", \"Q\", \":\", \" Victor\", \" Hugo\", \" and\", \" Nep\", \"oleon\", \" Bon\", \"ap\", \"arte\", \"\\n\", \"A\", \":\", \" They\", \" are\", \"/w\", \"ere\", \" both\"], \"values\": [0.001678466796875, 0.0, 0.0, 0.0, 0.0, 0.0, 0.0, 0.0, 0.0, 0.0, 0.0, 0.0, 0.0, 0.0, 0.0, 0.0, 0.0, 0.0, 0.09228515625]}\n",
       "    )\n",
       "    </script>"
      ],
      "text/plain": [
       "<circuitsvis.utils.render.RenderedHTML at 0x7f22ac900e90>"
      ]
     },
     "metadata": {},
     "output_type": "display_data"
    },
    {
     "name": "stdout",
     "output_type": "stream",
     "text": [
      "--------------------------------------------------------------------------------\n",
      "layer=46\n"
     ]
    },
    {
     "data": {
      "text/html": [
       "<div id=\"circuits-vis-611b9105-7891\" style=\"margin: 15px 0;\"/>\n",
       "    <script crossorigin type=\"module\">\n",
       "    import { render, ColoredTokens } from \"https://unpkg.com/circuitsvis@1.43.3/dist/cdn/esm.js\";\n",
       "    render(\n",
       "      \"circuits-vis-611b9105-7891\",\n",
       "      ColoredTokens,\n",
       "      {\"tokens\": [\"#\\n\", \"Q\", \":\", \" Victor\", \" Hugo\", \" and\", \" Nep\", \"oleon\", \" Bon\", \"ap\", \"arte\", \"\\n\", \"A\", \":\", \" They\", \" are\", \"/w\", \"ere\", \" both\"], \"values\": [0.0003681182861328125, 0.0, 0.0, 0.0, 0.0, 0.0, 0.0, 0.0, 0.0, 0.0, 0.0, 0.0, 0.0, 0.0, 0.0, 0.0, 0.0, 0.0, 0.1650390625]}\n",
       "    )\n",
       "    </script>"
      ],
      "text/plain": [
       "<circuitsvis.utils.render.RenderedHTML at 0x7f22e84fe650>"
      ]
     },
     "metadata": {},
     "output_type": "display_data"
    },
    {
     "name": "stdout",
     "output_type": "stream",
     "text": [
      "--------------------------------------------------------------------------------\n",
      "layer=47\n"
     ]
    },
    {
     "data": {
      "text/html": [
       "<div id=\"circuits-vis-0c4bd0a3-aefb\" style=\"margin: 15px 0;\"/>\n",
       "    <script crossorigin type=\"module\">\n",
       "    import { render, ColoredTokens } from \"https://unpkg.com/circuitsvis@1.43.3/dist/cdn/esm.js\";\n",
       "    render(\n",
       "      \"circuits-vis-0c4bd0a3-aefb\",\n",
       "      ColoredTokens,\n",
       "      {\"tokens\": [\"#\\n\", \"Q\", \":\", \" Victor\", \" Hugo\", \" and\", \" Nep\", \"oleon\", \" Bon\", \"ap\", \"arte\", \"\\n\", \"A\", \":\", \" They\", \" are\", \"/w\", \"ere\", \" both\"], \"values\": [0.00592041015625, 0.0, 0.0, 0.0, 0.0, 0.0, 0.0, 0.0, 0.0, 0.0, 0.0, 0.0, 0.0, 0.0, 0.0, 0.0, 0.0, 0.0, 0.1875]}\n",
       "    )\n",
       "    </script>"
      ],
      "text/plain": [
       "<circuitsvis.utils.render.RenderedHTML at 0x7f22e80bb490>"
      ]
     },
     "metadata": {},
     "output_type": "display_data"
    },
    {
     "name": "stdout",
     "output_type": "stream",
     "text": [
      "--------------------------------------------------------------------------------\n"
     ]
    }
   ],
   "source": [
    "visualize_average_attn_matrix(\n",
    "    attn_matrices=attn_matrices,\n",
    "    # attn_matrices=attn_contribution_norms,\n",
    "    prompt=aligned_clean_prompt,\n",
    "    # layer_window = ATTN_LAYER_WINDOW,\n",
    "    layer_window=range(0, mt.n_layer),\n",
    "    start_from=aligned_prompts[\"trace_start_idx\"],\n",
    "    # remove_bos=False\n",
    ")"
   ]
  },
  {
   "cell_type": "markdown",
   "metadata": {},
   "source": [
    "#### Freezing the ATTN patterns to make sure that the role doesn't change across examples"
   ]
  },
  {
   "cell_type": "code",
   "execution_count": 39,
   "metadata": {},
   "outputs": [],
   "source": [
    "##############################################################\n",
    "ATTN_LAYER_WINDOW = list(range(26, 35))\n",
    "##############################################################"
   ]
  },
  {
   "cell_type": "code",
   "execution_count": null,
   "metadata": {},
   "outputs": [
    {
     "name": "stdout",
     "output_type": "stream",
     "text": [
      "torch.Size([1, 221])\n",
      "score=-2.9375\n",
      "pred=[PredictedToken(token=' French', prob=0.46484375, logit=19.25, token_id=8585), PredictedToken(token=' famous', prob=0.10400390625, logit=17.75, token_id=11245), PredictedToken(token=' from', prob=0.091796875, logit=17.625, token_id=504), PredictedToken(token=' citizens', prob=0.0262451171875, logit=16.375, token_id=10283), PredictedToken(token=' french', prob=0.023193359375, logit=16.25, token_id=41193)]\n",
      "track={6036: (15, PredictedToken(token=' leaders', prob=0.00799560546875, logit=15.1875, token_id=6036)), 6277: (35, PredictedToken(token=' military', prob=0.002288818359375, logit=13.9375, token_id=6277)), 50530: (400, PredictedToken(token=' conquer', prob=3.266334533691406e-05, logit=9.6875, token_id=50530))}\n",
      "indirect_effect=0.0\n"
     ]
    }
   ],
   "source": [
    "import baukit\n",
    "import types\n",
    "from src.hooking.llama_attention import LlamaAttentionPatcher\n",
    "\n",
    "# grab attention patterns for the clean prompt\n",
    "mt.reset_forward()\n",
    "\n",
    "\n",
    "# clean_attn_matrices = {l: {} for l in ATTN_LAYER_WINDOW}\n",
    "clean_attn_matrices = {l: {} for l in range(mt.n_layer)}\n",
    "# for layer_idx in ATTN_LAYER_WINDOW:\n",
    "for layer_idx in range(mt.n_layer):\n",
    "    attn_block_name = mt.attn_module_name_format.format(layer_idx)\n",
    "    attn_block = baukit.get_module(mt._model, attn_block_name)\n",
    "    attn_block.forward = types.MethodType(\n",
    "        LlamaAttentionPatcher(\n",
    "            block_name=attn_block_name,\n",
    "            save_attn_for=list(range(mt.config.num_attention_heads)),\n",
    "            store_attn_matrices=clean_attn_matrices[layer_idx],\n",
    "        ),\n",
    "        attn_block,\n",
    "    )\n",
    "\n",
    "# inputs = TokenizerOutput(data=clean_prompt.tokenized)\n",
    "tokenized_input = TokenizerOutput(data=aligned_prompts[\"clean_input\"])\n",
    "\n",
    "print(tokenized_input.input_ids.shape)\n",
    "# offset_mapping = tokenized_input.pop(\"offset_mapping\")[0]\n",
    "\n",
    "score, pred, track = patched_run(\n",
    "    mt=mt,\n",
    "    inputs=tokenized_input,\n",
    "    patches=[],\n",
    "    ans_tokens=keywords,\n",
    "    generate_full_ans=False,\n",
    "    metric=METRIC,\n",
    ")\n",
    "\n",
    "print(f\"{score=}\")\n",
    "print(f\"{pred=}\")\n",
    "print(f\"{track=}\")\n",
    "\n",
    "indirect_effect = (score - corrupt_score) / (gold_score - corrupt_score)\n",
    "print(f\"{indirect_effect=}\")\n",
    "\n",
    "mt.reset_forward()"
   ]
  },
  {
   "cell_type": "code",
   "execution_count": 42,
   "metadata": {},
   "outputs": [],
   "source": [
    "# aligned_clean_prompt.tokenized[\"input_ids\"].shape\n",
    "# aligned_patch_prompt.tokenized[\"input_ids\"].shape\n",
    "# tokenized_input.input_ids.shape"
   ]
  },
  {
   "cell_type": "code",
   "execution_count": 43,
   "metadata": {},
   "outputs": [
    {
     "name": "stdout",
     "output_type": "stream",
     "text": [
      "layer=26\n"
     ]
    },
    {
     "data": {
      "text/html": [
       "<div id=\"circuits-vis-b3d71169-0b3f\" style=\"margin: 15px 0;\"/>\n",
       "    <script crossorigin type=\"module\">\n",
       "    import { render, ColoredTokens } from \"https://unpkg.com/circuitsvis@1.43.3/dist/cdn/esm.js\";\n",
       "    render(\n",
       "      \"circuits-vis-b3d71169-0b3f\",\n",
       "      ColoredTokens,\n",
       "      {\"tokens\": [\"#\\n\", \"Q\", \":\", \" Victor\", \" Hugo\", \" and\", \" Nep\", \"oleon\", \" Bon\", \"ap\", \"arte\", \"\\n\", \"A\", \":\", \" They\", \" are\", \"/w\", \"ere\", \" both\"], \"values\": [0.0024871826171875, 0.003631591796875, 0.002777099609375, 0.01416015625, 0.059326171875, 0.02587890625, 0.0098876953125, 0.0303955078125, 0.0205078125, 0.0081787109375, 0.0220947265625, 0.018310546875, 0.00787353515625, 0.033447265625, 0.041748046875, 0.032958984375, 0.031005859375, 0.045654296875, 0.053955078125]}\n",
       "    )\n",
       "    </script>"
      ],
      "text/plain": [
       "<circuitsvis.utils.render.RenderedHTML at 0x7f22e8527bd0>"
      ]
     },
     "metadata": {},
     "output_type": "display_data"
    },
    {
     "name": "stdout",
     "output_type": "stream",
     "text": [
      "--------------------------------------------------------------------------------\n",
      "layer=27\n"
     ]
    },
    {
     "data": {
      "text/html": [
       "<div id=\"circuits-vis-a943e5d0-ed24\" style=\"margin: 15px 0;\"/>\n",
       "    <script crossorigin type=\"module\">\n",
       "    import { render, ColoredTokens } from \"https://unpkg.com/circuitsvis@1.43.3/dist/cdn/esm.js\";\n",
       "    render(\n",
       "      \"circuits-vis-a943e5d0-ed24\",\n",
       "      ColoredTokens,\n",
       "      {\"tokens\": [\"#\\n\", \"Q\", \":\", \" Victor\", \" Hugo\", \" and\", \" Nep\", \"oleon\", \" Bon\", \"ap\", \"arte\", \"\\n\", \"A\", \":\", \" They\", \" are\", \"/w\", \"ere\", \" both\"], \"values\": [0.00107574462890625, 0.00188446044921875, 0.0025177001953125, 0.007568359375, 0.0264892578125, 0.01806640625, 0.01385498046875, 0.03125, 0.014892578125, 0.01025390625, 0.0242919921875, 0.015869140625, 0.0064697265625, 0.039306640625, 0.03857421875, 0.028076171875, 0.03759765625, 0.0712890625, 0.07373046875]}\n",
       "    )\n",
       "    </script>"
      ],
      "text/plain": [
       "<circuitsvis.utils.render.RenderedHTML at 0x7f22e8743b50>"
      ]
     },
     "metadata": {},
     "output_type": "display_data"
    },
    {
     "name": "stdout",
     "output_type": "stream",
     "text": [
      "--------------------------------------------------------------------------------\n",
      "layer=28\n"
     ]
    },
    {
     "data": {
      "text/html": [
       "<div id=\"circuits-vis-43942a07-d454\" style=\"margin: 15px 0;\"/>\n",
       "    <script crossorigin type=\"module\">\n",
       "    import { render, ColoredTokens } from \"https://unpkg.com/circuitsvis@1.43.3/dist/cdn/esm.js\";\n",
       "    render(\n",
       "      \"circuits-vis-43942a07-d454\",\n",
       "      ColoredTokens,\n",
       "      {\"tokens\": [\"#\\n\", \"Q\", \":\", \" Victor\", \" Hugo\", \" and\", \" Nep\", \"oleon\", \" Bon\", \"ap\", \"arte\", \"\\n\", \"A\", \":\", \" They\", \" are\", \"/w\", \"ere\", \" both\"], \"values\": [0.0019073486328125, 0.003173828125, 0.0034027099609375, 0.00848388671875, 0.030029296875, 0.0135498046875, 0.00909423828125, 0.033935546875, 0.0137939453125, 0.01153564453125, 0.020263671875, 0.0111083984375, 0.0033111572265625, 0.0224609375, 0.0252685546875, 0.01953125, 0.0322265625, 0.031982421875, 0.07568359375]}\n",
       "    )\n",
       "    </script>"
      ],
      "text/plain": [
       "<circuitsvis.utils.render.RenderedHTML at 0x7f22e8100610>"
      ]
     },
     "metadata": {},
     "output_type": "display_data"
    },
    {
     "name": "stdout",
     "output_type": "stream",
     "text": [
      "--------------------------------------------------------------------------------\n",
      "layer=29\n"
     ]
    },
    {
     "data": {
      "text/html": [
       "<div id=\"circuits-vis-696358b5-9e49\" style=\"margin: 15px 0;\"/>\n",
       "    <script crossorigin type=\"module\">\n",
       "    import { render, ColoredTokens } from \"https://unpkg.com/circuitsvis@1.43.3/dist/cdn/esm.js\";\n",
       "    render(\n",
       "      \"circuits-vis-696358b5-9e49\",\n",
       "      ColoredTokens,\n",
       "      {\"tokens\": [\"#\\n\", \"Q\", \":\", \" Victor\", \" Hugo\", \" and\", \" Nep\", \"oleon\", \" Bon\", \"ap\", \"arte\", \"\\n\", \"A\", \":\", \" They\", \" are\", \"/w\", \"ere\", \" both\"], \"values\": [0.000335693359375, 0.001373291015625, 0.00164794921875, 0.006591796875, 0.00921630859375, 0.006256103515625, 0.0101318359375, 0.01422119140625, 0.008544921875, 0.002838134765625, 0.010986328125, 0.0064697265625, 0.0025177001953125, 0.0291748046875, 0.0184326171875, 0.0216064453125, 0.01904296875, 0.045654296875, 0.0693359375]}\n",
       "    )\n",
       "    </script>"
      ],
      "text/plain": [
       "<circuitsvis.utils.render.RenderedHTML at 0x7f22e84cd290>"
      ]
     },
     "metadata": {},
     "output_type": "display_data"
    },
    {
     "name": "stdout",
     "output_type": "stream",
     "text": [
      "--------------------------------------------------------------------------------\n",
      "layer=30\n"
     ]
    },
    {
     "data": {
      "text/html": [
       "<div id=\"circuits-vis-69f91eca-b6ad\" style=\"margin: 15px 0;\"/>\n",
       "    <script crossorigin type=\"module\">\n",
       "    import { render, ColoredTokens } from \"https://unpkg.com/circuitsvis@1.43.3/dist/cdn/esm.js\";\n",
       "    render(\n",
       "      \"circuits-vis-69f91eca-b6ad\",\n",
       "      ColoredTokens,\n",
       "      {\"tokens\": [\"#\\n\", \"Q\", \":\", \" Victor\", \" Hugo\", \" and\", \" Nep\", \"oleon\", \" Bon\", \"ap\", \"arte\", \"\\n\", \"A\", \":\", \" They\", \" are\", \"/w\", \"ere\", \" both\"], \"values\": [0.0004520416259765625, 0.000782012939453125, 0.00173187255859375, 0.00787353515625, 0.0269775390625, 0.0146484375, 0.01513671875, 0.0478515625, 0.0196533203125, 0.01025390625, 0.03125, 0.0074462890625, 0.00543212890625, 0.026123046875, 0.0233154296875, 0.01708984375, 0.043212890625, 0.0751953125, 0.0859375]}\n",
       "    )\n",
       "    </script>"
      ],
      "text/plain": [
       "<circuitsvis.utils.render.RenderedHTML at 0x7f22e8743b50>"
      ]
     },
     "metadata": {},
     "output_type": "display_data"
    },
    {
     "name": "stdout",
     "output_type": "stream",
     "text": [
      "--------------------------------------------------------------------------------\n",
      "layer=31\n"
     ]
    },
    {
     "data": {
      "text/html": [
       "<div id=\"circuits-vis-43a47387-cc2c\" style=\"margin: 15px 0;\"/>\n",
       "    <script crossorigin type=\"module\">\n",
       "    import { render, ColoredTokens } from \"https://unpkg.com/circuitsvis@1.43.3/dist/cdn/esm.js\";\n",
       "    render(\n",
       "      \"circuits-vis-43a47387-cc2c\",\n",
       "      ColoredTokens,\n",
       "      {\"tokens\": [\"#\\n\", \"Q\", \":\", \" Victor\", \" Hugo\", \" and\", \" Nep\", \"oleon\", \" Bon\", \"ap\", \"arte\", \"\\n\", \"A\", \":\", \" They\", \" are\", \"/w\", \"ere\", \" both\"], \"values\": [0.000598907470703125, 0.00144195556640625, 0.00347900390625, 0.008544921875, 0.0517578125, 0.0162353515625, 0.01141357421875, 0.059814453125, 0.0238037109375, 0.01202392578125, 0.0208740234375, 0.0086669921875, 0.00439453125, 0.031494140625, 0.0260009765625, 0.0191650390625, 0.027587890625, 0.080078125, 0.059326171875]}\n",
       "    )\n",
       "    </script>"
      ],
      "text/plain": [
       "<circuitsvis.utils.render.RenderedHTML at 0x7f22e8517010>"
      ]
     },
     "metadata": {},
     "output_type": "display_data"
    },
    {
     "name": "stdout",
     "output_type": "stream",
     "text": [
      "--------------------------------------------------------------------------------\n",
      "layer=32\n"
     ]
    },
    {
     "data": {
      "text/html": [
       "<div id=\"circuits-vis-5d73883f-d9a7\" style=\"margin: 15px 0;\"/>\n",
       "    <script crossorigin type=\"module\">\n",
       "    import { render, ColoredTokens } from \"https://unpkg.com/circuitsvis@1.43.3/dist/cdn/esm.js\";\n",
       "    render(\n",
       "      \"circuits-vis-5d73883f-d9a7\",\n",
       "      ColoredTokens,\n",
       "      {\"tokens\": [\"#\\n\", \"Q\", \":\", \" Victor\", \" Hugo\", \" and\", \" Nep\", \"oleon\", \" Bon\", \"ap\", \"arte\", \"\\n\", \"A\", \":\", \" They\", \" are\", \"/w\", \"ere\", \" both\"], \"values\": [9.822845458984375e-05, 0.00023555755615234375, 0.00131988525390625, 0.00592041015625, 0.02783203125, 0.007720947265625, 0.00775146484375, 0.0286865234375, 0.0081787109375, 0.01141357421875, 0.010986328125, 0.00311279296875, 0.0025634765625, 0.02001953125, 0.0211181640625, 0.033935546875, 0.0191650390625, 0.08251953125, 0.05517578125]}\n",
       "    )\n",
       "    </script>"
      ],
      "text/plain": [
       "<circuitsvis.utils.render.RenderedHTML at 0x7f22e8743b50>"
      ]
     },
     "metadata": {},
     "output_type": "display_data"
    },
    {
     "name": "stdout",
     "output_type": "stream",
     "text": [
      "--------------------------------------------------------------------------------\n",
      "layer=33\n"
     ]
    },
    {
     "data": {
      "text/html": [
       "<div id=\"circuits-vis-a01cffe7-f43b\" style=\"margin: 15px 0;\"/>\n",
       "    <script crossorigin type=\"module\">\n",
       "    import { render, ColoredTokens } from \"https://unpkg.com/circuitsvis@1.43.3/dist/cdn/esm.js\";\n",
       "    render(\n",
       "      \"circuits-vis-a01cffe7-f43b\",\n",
       "      ColoredTokens,\n",
       "      {\"tokens\": [\"#\\n\", \"Q\", \":\", \" Victor\", \" Hugo\", \" and\", \" Nep\", \"oleon\", \" Bon\", \"ap\", \"arte\", \"\\n\", \"A\", \":\", \" They\", \" are\", \"/w\", \"ere\", \" both\"], \"values\": [0.0001354217529296875, 0.00018787384033203125, 0.001739501953125, 0.00592041015625, 0.036865234375, 0.0089111328125, 0.0079345703125, 0.036376953125, 0.005126953125, 0.0155029296875, 0.01458740234375, 0.001922607421875, 0.0038299560546875, 0.019775390625, 0.019775390625, 0.0224609375, 0.01226806640625, 0.056884765625, 0.07568359375]}\n",
       "    )\n",
       "    </script>"
      ],
      "text/plain": [
       "<circuitsvis.utils.render.RenderedHTML at 0x7f22ac8f31d0>"
      ]
     },
     "metadata": {},
     "output_type": "display_data"
    },
    {
     "name": "stdout",
     "output_type": "stream",
     "text": [
      "--------------------------------------------------------------------------------\n",
      "layer=34\n"
     ]
    },
    {
     "data": {
      "text/html": [
       "<div id=\"circuits-vis-5b63df73-4816\" style=\"margin: 15px 0;\"/>\n",
       "    <script crossorigin type=\"module\">\n",
       "    import { render, ColoredTokens } from \"https://unpkg.com/circuitsvis@1.43.3/dist/cdn/esm.js\";\n",
       "    render(\n",
       "      \"circuits-vis-5b63df73-4816\",\n",
       "      ColoredTokens,\n",
       "      {\"tokens\": [\"#\\n\", \"Q\", \":\", \" Victor\", \" Hugo\", \" and\", \" Nep\", \"oleon\", \" Bon\", \"ap\", \"arte\", \"\\n\", \"A\", \":\", \" They\", \" are\", \"/w\", \"ere\", \" both\"], \"values\": [7.152557373046875e-05, 0.00019741058349609375, 0.0011444091796875, 0.005523681640625, 0.08203125, 0.00921630859375, 0.0064697265625, 0.037353515625, 0.00653076171875, 0.0206298828125, 0.0137939453125, 0.00140380859375, 0.000568389892578125, 0.01300048828125, 0.017333984375, 0.0098876953125, 0.0228271484375, 0.0274658203125, 0.0419921875]}\n",
       "    )\n",
       "    </script>"
      ],
      "text/plain": [
       "<circuitsvis.utils.render.RenderedHTML at 0x7f22ac901750>"
      ]
     },
     "metadata": {},
     "output_type": "display_data"
    },
    {
     "name": "stdout",
     "output_type": "stream",
     "text": [
      "--------------------------------------------------------------------------------\n"
     ]
    }
   ],
   "source": [
    "visualize_average_attn_matrix(\n",
    "    attn_matrices=clean_attn_matrices,\n",
    "    prompt=aligned_clean_prompt,\n",
    "    layer_window=ATTN_LAYER_WINDOW,\n",
    "    start_from=aligned_prompts[\"trace_start_idx\"],\n",
    ")"
   ]
  },
  {
   "cell_type": "code",
   "execution_count": null,
   "metadata": {},
   "outputs": [
    {
     "name": "stdout",
     "output_type": "stream",
     "text": [
      "torch.Size([1, 221])\n",
      "patch_frz_score=1.375\n",
      "pred=[PredictedToken(token=' military', prob=0.232421875, logit=18.625, token_id=6277), PredictedToken(token=' leaders', prob=0.140625, logit=18.125, token_id=6036), PredictedToken(token=' famous', prob=0.06640625, logit=17.375, token_id=11245), PredictedToken(token=' rulers', prob=0.0517578125, logit=17.125, token_id=59896), PredictedToken(token=' political', prob=0.03564453125, logit=16.75, token_id=4948)]\n",
      "track={6277: (1, PredictedToken(token=' military', prob=0.232421875, logit=18.625, token_id=6277)), 6036: (2, PredictedToken(token=' leaders', prob=0.140625, logit=18.125, token_id=6036)), 50530: (10, PredictedToken(token=' conquer', prob=0.01904296875, logit=16.125, token_id=50530))}\n",
      "indirect_effect=1.0\n"
     ]
    }
   ],
   "source": [
    "# freezing attention while patching\n",
    "\n",
    "mt.reset_forward()\n",
    "\n",
    "patch_states = get_hs(\n",
    "    mt=mt,\n",
    "    input=TokenizerOutput(data=aligned_prompts[\"patched_input\"]),\n",
    "    # locations = [(mt.layer_name_format.format(l), -2) for l in range(mt.n_layer)],\n",
    "    locations=list(\n",
    "        itertools.product(mt.layer_names, list(range(*aligned_prompts[\"subj_range\"])))\n",
    "    ),\n",
    "    return_dict=True,\n",
    ")\n",
    "\n",
    "freezed_attn_matrices = {l: {} for l in range(mt.n_layer)}\n",
    "\n",
    "#! freezing the critical layers only\n",
    "# for layer_idx in ATTN_LAYER_WINDOW:\n",
    "#     attn_block_name = mt.attn_module_name_format.format(layer_idx)\n",
    "#     attn_block = baukit.get_module(mt._model, attn_block_name)\n",
    "#     attn_block.forward = types.MethodType(\n",
    "#         LlamaAttentionPatcher(\n",
    "#             block_name=attn_block_name,\n",
    "#             freeze_attn_matrices=clean_attn_matrices[layer_idx],\n",
    "\n",
    "#             save_attn_for=list(range(mt.config.num_attention_heads)),\n",
    "#             store_attn_matrices=freezed_attn_matrices[layer_idx],\n",
    "#         ),\n",
    "#         attn_block\n",
    "#     )\n",
    "\n",
    "\n",
    "#! freezing the critical layers while also ablating the rest\n",
    "ignore_first_k_layers = 5\n",
    "for layer_idx in range(0, mt.n_layer):\n",
    "    attn_block_name = mt.attn_module_name_format.format(layer_idx)\n",
    "    attn_block = baukit.get_module(mt._model, attn_block_name)\n",
    "\n",
    "    # # print(f\"{attn_block_name=}  | \", end=\"\")\n",
    "    # if layer_idx < ignore_first_k_layers:\n",
    "    #     # print(\"ignore\")\n",
    "    #     block_config = {h: [] for h in range(mt.config.num_attention_heads)}\n",
    "    # elif layer_idx in ATTN_LAYER_WINDOW:\n",
    "    #     # print(\"< focus >\")\n",
    "    #     block_config = focus_all_heads_on #! shouldn't have any effect as the attention matrices will be replaced with freezed ones\n",
    "    # else:\n",
    "    #     # print(\"block\")\n",
    "    #     block_config = block_all_edges_for_all_heads\n",
    "\n",
    "    attn_block.forward = types.MethodType(\n",
    "        LlamaAttentionPatcher(\n",
    "            block_name=attn_block_name,\n",
    "            # cut_attn_edges=focus_all_heads_on if layer_idx in ATTN_LAYER_WINDOW else block_all_edges_for_all_heads,\n",
    "            # cut_attn_edges=focus_all_heads_on_ere,\n",
    "            # cut_attn_edges=block_all_edges_for_all_heads,\n",
    "            # cut_attn_edges=block_config,\n",
    "            save_attn_for=list(range(mt.config.num_attention_heads)),\n",
    "            store_attn_matrices=freezed_attn_matrices[layer_idx],\n",
    "            # freeze_attn_matrices=clean_attn_matrices[layer_idx] if layer_idx in ATTN_LAYER_WINDOW else None\n",
    "            freeze_attn_matrices=clean_attn_matrices[layer_idx],\n",
    "        ),\n",
    "        attn_block,\n",
    "    )\n",
    "\n",
    "\n",
    "patch_layer_window = [mt.layer_name_format.format(l) for l in PATCH_LAYER_WINDOW]\n",
    "# tokenized_input = TokenizerOutput(data = clean_prompt.tokenized)\n",
    "\n",
    "tokenized_input = TokenizerOutput(data=aligned_prompts[\"clean_input\"])\n",
    "\n",
    "\n",
    "# for `are/were``\n",
    "# patches = [\n",
    "#     PatchSpec(\n",
    "#         location = (layer, -2),\n",
    "#         patch = patch_states[(layer, -2)]\n",
    "#     ) for layer in layer_window\n",
    "# ]\n",
    "\n",
    "# for the patched subject\n",
    "patches = [\n",
    "    PatchSpec(location=(layer, token_idx), patch=patch_states[(layer, token_idx)])\n",
    "    for layer, token_idx in itertools.product(\n",
    "        patch_layer_window, range(*aligned_prompts[\"subj_range\"])\n",
    "    )\n",
    "]\n",
    "# patches = []\n",
    "\n",
    "\n",
    "print(tokenized_input.input_ids.shape)\n",
    "# offset_mapping = tokenized_input.pop(\"offset_mapping\")[0]\n",
    "\n",
    "patch_frz_score, pred, track = patched_run(\n",
    "    mt=mt,\n",
    "    inputs=tokenized_input,\n",
    "    patches=patches,\n",
    "    ans_tokens=keywords,\n",
    "    generate_full_ans=False,\n",
    "    metric=METRIC,\n",
    ")\n",
    "\n",
    "print(f\"{patch_frz_score=}\")\n",
    "print(f\"{pred=}\")\n",
    "print(f\"{track=}\")\n",
    "\n",
    "indirect_effect = (patch_frz_score - corrupt_score) / (gold_score - corrupt_score)\n",
    "print(f\"{indirect_effect=}\")\n",
    "\n",
    "mt.reset_forward()"
   ]
  },
  {
   "cell_type": "code",
   "execution_count": null,
   "metadata": {},
   "outputs": [
    {
     "name": "stdout",
     "output_type": "stream",
     "text": [
      "layer=26\n"
     ]
    },
    {
     "data": {
      "text/html": [
       "<div id=\"circuits-vis-84368404-c32a\" style=\"margin: 15px 0;\"/>\n",
       "    <script crossorigin type=\"module\">\n",
       "    import { render, ColoredTokens } from \"https://unpkg.com/circuitsvis@1.43.3/dist/cdn/esm.js\";\n",
       "    render(\n",
       "      \"circuits-vis-84368404-c32a\",\n",
       "      ColoredTokens,\n",
       "      {\"tokens\": [\"#\\n\", \"Q\", \":\", \" Victor\", \" Hugo\", \" and\", \" Nep\", \"oleon\", \" Bon\", \"ap\", \"arte\", \"\\n\", \"A\", \":\", \" They\", \" are\", \"/w\", \"ere\", \" both\"], \"values\": [0.0024871826171875, 0.003631591796875, 0.002777099609375, 0.01416015625, 0.059326171875, 0.02587890625, 0.0098876953125, 0.0303955078125, 0.0205078125, 0.0081787109375, 0.0220947265625, 0.018310546875, 0.00787353515625, 0.033447265625, 0.041748046875, 0.032958984375, 0.031005859375, 0.045654296875, 0.053955078125]}\n",
       "    )\n",
       "    </script>"
      ],
      "text/plain": [
       "<circuitsvis.utils.render.RenderedHTML at 0x7f22e81f9a50>"
      ]
     },
     "metadata": {},
     "output_type": "display_data"
    },
    {
     "name": "stdout",
     "output_type": "stream",
     "text": [
      "--------------------------------------------------------------------------------\n",
      "layer=27\n"
     ]
    },
    {
     "data": {
      "text/html": [
       "<div id=\"circuits-vis-ad0ffa8d-e573\" style=\"margin: 15px 0;\"/>\n",
       "    <script crossorigin type=\"module\">\n",
       "    import { render, ColoredTokens } from \"https://unpkg.com/circuitsvis@1.43.3/dist/cdn/esm.js\";\n",
       "    render(\n",
       "      \"circuits-vis-ad0ffa8d-e573\",\n",
       "      ColoredTokens,\n",
       "      {\"tokens\": [\"#\\n\", \"Q\", \":\", \" Victor\", \" Hugo\", \" and\", \" Nep\", \"oleon\", \" Bon\", \"ap\", \"arte\", \"\\n\", \"A\", \":\", \" They\", \" are\", \"/w\", \"ere\", \" both\"], \"values\": [0.00107574462890625, 0.00188446044921875, 0.0025177001953125, 0.007568359375, 0.0264892578125, 0.01806640625, 0.01385498046875, 0.03125, 0.014892578125, 0.01025390625, 0.0242919921875, 0.015869140625, 0.0064697265625, 0.039306640625, 0.03857421875, 0.028076171875, 0.03759765625, 0.0712890625, 0.07373046875]}\n",
       "    )\n",
       "    </script>"
      ],
      "text/plain": [
       "<circuitsvis.utils.render.RenderedHTML at 0x7f22e84e44d0>"
      ]
     },
     "metadata": {},
     "output_type": "display_data"
    },
    {
     "name": "stdout",
     "output_type": "stream",
     "text": [
      "--------------------------------------------------------------------------------\n",
      "layer=28\n"
     ]
    },
    {
     "data": {
      "text/html": [
       "<div id=\"circuits-vis-0f973451-92a8\" style=\"margin: 15px 0;\"/>\n",
       "    <script crossorigin type=\"module\">\n",
       "    import { render, ColoredTokens } from \"https://unpkg.com/circuitsvis@1.43.3/dist/cdn/esm.js\";\n",
       "    render(\n",
       "      \"circuits-vis-0f973451-92a8\",\n",
       "      ColoredTokens,\n",
       "      {\"tokens\": [\"#\\n\", \"Q\", \":\", \" Victor\", \" Hugo\", \" and\", \" Nep\", \"oleon\", \" Bon\", \"ap\", \"arte\", \"\\n\", \"A\", \":\", \" They\", \" are\", \"/w\", \"ere\", \" both\"], \"values\": [0.0019073486328125, 0.003173828125, 0.0034027099609375, 0.00848388671875, 0.030029296875, 0.0135498046875, 0.00909423828125, 0.033935546875, 0.0137939453125, 0.01153564453125, 0.020263671875, 0.0111083984375, 0.0033111572265625, 0.0224609375, 0.0252685546875, 0.01953125, 0.0322265625, 0.031982421875, 0.07568359375]}\n",
       "    )\n",
       "    </script>"
      ],
      "text/plain": [
       "<circuitsvis.utils.render.RenderedHTML at 0x7f22e84ff710>"
      ]
     },
     "metadata": {},
     "output_type": "display_data"
    },
    {
     "name": "stdout",
     "output_type": "stream",
     "text": [
      "--------------------------------------------------------------------------------\n",
      "layer=29\n"
     ]
    },
    {
     "data": {
      "text/html": [
       "<div id=\"circuits-vis-725efe4b-0f91\" style=\"margin: 15px 0;\"/>\n",
       "    <script crossorigin type=\"module\">\n",
       "    import { render, ColoredTokens } from \"https://unpkg.com/circuitsvis@1.43.3/dist/cdn/esm.js\";\n",
       "    render(\n",
       "      \"circuits-vis-725efe4b-0f91\",\n",
       "      ColoredTokens,\n",
       "      {\"tokens\": [\"#\\n\", \"Q\", \":\", \" Victor\", \" Hugo\", \" and\", \" Nep\", \"oleon\", \" Bon\", \"ap\", \"arte\", \"\\n\", \"A\", \":\", \" They\", \" are\", \"/w\", \"ere\", \" both\"], \"values\": [0.000335693359375, 0.001373291015625, 0.00164794921875, 0.006591796875, 0.00921630859375, 0.006256103515625, 0.0101318359375, 0.01422119140625, 0.008544921875, 0.002838134765625, 0.010986328125, 0.0064697265625, 0.0025177001953125, 0.0291748046875, 0.0184326171875, 0.0216064453125, 0.01904296875, 0.045654296875, 0.0693359375]}\n",
       "    )\n",
       "    </script>"
      ],
      "text/plain": [
       "<circuitsvis.utils.render.RenderedHTML at 0x7f22e87126d0>"
      ]
     },
     "metadata": {},
     "output_type": "display_data"
    },
    {
     "name": "stdout",
     "output_type": "stream",
     "text": [
      "--------------------------------------------------------------------------------\n",
      "layer=30\n"
     ]
    },
    {
     "data": {
      "text/html": [
       "<div id=\"circuits-vis-f2c5b2ab-aa90\" style=\"margin: 15px 0;\"/>\n",
       "    <script crossorigin type=\"module\">\n",
       "    import { render, ColoredTokens } from \"https://unpkg.com/circuitsvis@1.43.3/dist/cdn/esm.js\";\n",
       "    render(\n",
       "      \"circuits-vis-f2c5b2ab-aa90\",\n",
       "      ColoredTokens,\n",
       "      {\"tokens\": [\"#\\n\", \"Q\", \":\", \" Victor\", \" Hugo\", \" and\", \" Nep\", \"oleon\", \" Bon\", \"ap\", \"arte\", \"\\n\", \"A\", \":\", \" They\", \" are\", \"/w\", \"ere\", \" both\"], \"values\": [0.0004520416259765625, 0.000782012939453125, 0.00173187255859375, 0.00787353515625, 0.0269775390625, 0.0146484375, 0.01513671875, 0.0478515625, 0.0196533203125, 0.01025390625, 0.03125, 0.0074462890625, 0.00543212890625, 0.026123046875, 0.0233154296875, 0.01708984375, 0.043212890625, 0.0751953125, 0.0859375]}\n",
       "    )\n",
       "    </script>"
      ],
      "text/plain": [
       "<circuitsvis.utils.render.RenderedHTML at 0x7f22e80b8d50>"
      ]
     },
     "metadata": {},
     "output_type": "display_data"
    },
    {
     "name": "stdout",
     "output_type": "stream",
     "text": [
      "--------------------------------------------------------------------------------\n",
      "layer=31\n"
     ]
    },
    {
     "data": {
      "text/html": [
       "<div id=\"circuits-vis-f3bf02a5-6492\" style=\"margin: 15px 0;\"/>\n",
       "    <script crossorigin type=\"module\">\n",
       "    import { render, ColoredTokens } from \"https://unpkg.com/circuitsvis@1.43.3/dist/cdn/esm.js\";\n",
       "    render(\n",
       "      \"circuits-vis-f3bf02a5-6492\",\n",
       "      ColoredTokens,\n",
       "      {\"tokens\": [\"#\\n\", \"Q\", \":\", \" Victor\", \" Hugo\", \" and\", \" Nep\", \"oleon\", \" Bon\", \"ap\", \"arte\", \"\\n\", \"A\", \":\", \" They\", \" are\", \"/w\", \"ere\", \" both\"], \"values\": [0.000598907470703125, 0.00144195556640625, 0.00347900390625, 0.008544921875, 0.0517578125, 0.0162353515625, 0.01141357421875, 0.059814453125, 0.0238037109375, 0.01202392578125, 0.0208740234375, 0.0086669921875, 0.00439453125, 0.031494140625, 0.0260009765625, 0.0191650390625, 0.027587890625, 0.080078125, 0.059326171875]}\n",
       "    )\n",
       "    </script>"
      ],
      "text/plain": [
       "<circuitsvis.utils.render.RenderedHTML at 0x7f22e84e4c50>"
      ]
     },
     "metadata": {},
     "output_type": "display_data"
    },
    {
     "name": "stdout",
     "output_type": "stream",
     "text": [
      "--------------------------------------------------------------------------------\n",
      "layer=32\n"
     ]
    },
    {
     "data": {
      "text/html": [
       "<div id=\"circuits-vis-92be1e6e-a422\" style=\"margin: 15px 0;\"/>\n",
       "    <script crossorigin type=\"module\">\n",
       "    import { render, ColoredTokens } from \"https://unpkg.com/circuitsvis@1.43.3/dist/cdn/esm.js\";\n",
       "    render(\n",
       "      \"circuits-vis-92be1e6e-a422\",\n",
       "      ColoredTokens,\n",
       "      {\"tokens\": [\"#\\n\", \"Q\", \":\", \" Victor\", \" Hugo\", \" and\", \" Nep\", \"oleon\", \" Bon\", \"ap\", \"arte\", \"\\n\", \"A\", \":\", \" They\", \" are\", \"/w\", \"ere\", \" both\"], \"values\": [9.822845458984375e-05, 0.00023555755615234375, 0.00131988525390625, 0.00592041015625, 0.02783203125, 0.007720947265625, 0.00775146484375, 0.0286865234375, 0.0081787109375, 0.01141357421875, 0.010986328125, 0.00311279296875, 0.0025634765625, 0.02001953125, 0.0211181640625, 0.033935546875, 0.0191650390625, 0.08251953125, 0.05517578125]}\n",
       "    )\n",
       "    </script>"
      ],
      "text/plain": [
       "<circuitsvis.utils.render.RenderedHTML at 0x7f22e84c16d0>"
      ]
     },
     "metadata": {},
     "output_type": "display_data"
    },
    {
     "name": "stdout",
     "output_type": "stream",
     "text": [
      "--------------------------------------------------------------------------------\n",
      "layer=33\n"
     ]
    },
    {
     "data": {
      "text/html": [
       "<div id=\"circuits-vis-4b8be77c-6c45\" style=\"margin: 15px 0;\"/>\n",
       "    <script crossorigin type=\"module\">\n",
       "    import { render, ColoredTokens } from \"https://unpkg.com/circuitsvis@1.43.3/dist/cdn/esm.js\";\n",
       "    render(\n",
       "      \"circuits-vis-4b8be77c-6c45\",\n",
       "      ColoredTokens,\n",
       "      {\"tokens\": [\"#\\n\", \"Q\", \":\", \" Victor\", \" Hugo\", \" and\", \" Nep\", \"oleon\", \" Bon\", \"ap\", \"arte\", \"\\n\", \"A\", \":\", \" They\", \" are\", \"/w\", \"ere\", \" both\"], \"values\": [0.0001354217529296875, 0.00018787384033203125, 0.001739501953125, 0.00592041015625, 0.036865234375, 0.0089111328125, 0.0079345703125, 0.036376953125, 0.005126953125, 0.0155029296875, 0.01458740234375, 0.001922607421875, 0.0038299560546875, 0.019775390625, 0.019775390625, 0.0224609375, 0.01226806640625, 0.056884765625, 0.07568359375]}\n",
       "    )\n",
       "    </script>"
      ],
      "text/plain": [
       "<circuitsvis.utils.render.RenderedHTML at 0x7f22e8067b10>"
      ]
     },
     "metadata": {},
     "output_type": "display_data"
    },
    {
     "name": "stdout",
     "output_type": "stream",
     "text": [
      "--------------------------------------------------------------------------------\n",
      "layer=34\n"
     ]
    },
    {
     "data": {
      "text/html": [
       "<div id=\"circuits-vis-92e177f9-be2d\" style=\"margin: 15px 0;\"/>\n",
       "    <script crossorigin type=\"module\">\n",
       "    import { render, ColoredTokens } from \"https://unpkg.com/circuitsvis@1.43.3/dist/cdn/esm.js\";\n",
       "    render(\n",
       "      \"circuits-vis-92e177f9-be2d\",\n",
       "      ColoredTokens,\n",
       "      {\"tokens\": [\"#\\n\", \"Q\", \":\", \" Victor\", \" Hugo\", \" and\", \" Nep\", \"oleon\", \" Bon\", \"ap\", \"arte\", \"\\n\", \"A\", \":\", \" They\", \" are\", \"/w\", \"ere\", \" both\"], \"values\": [7.152557373046875e-05, 0.00019741058349609375, 0.0011444091796875, 0.005523681640625, 0.08203125, 0.00921630859375, 0.0064697265625, 0.037353515625, 0.00653076171875, 0.0206298828125, 0.0137939453125, 0.00140380859375, 0.000568389892578125, 0.01300048828125, 0.017333984375, 0.0098876953125, 0.0228271484375, 0.0274658203125, 0.0419921875]}\n",
       "    )\n",
       "    </script>"
      ],
      "text/plain": [
       "<circuitsvis.utils.render.RenderedHTML at 0x7f22ac8df150>"
      ]
     },
     "metadata": {},
     "output_type": "display_data"
    },
    {
     "name": "stdout",
     "output_type": "stream",
     "text": [
      "--------------------------------------------------------------------------------\n"
     ]
    },
    {
     "ename": "",
     "evalue": "",
     "output_type": "error",
     "traceback": [
      "\u001b[1;31mThe Kernel crashed while executing code in the current cell or a previous cell. \n",
      "\u001b[1;31mPlease review the code in the cell(s) to identify a possible cause of the failure. \n",
      "\u001b[1;31mClick <a href='https://aka.ms/vscodeJupyterKernelCrash'>here</a> for more info. \n",
      "\u001b[1;31mView Jupyter <a href='command:jupyter.viewOutput'>log</a> for further details."
     ]
    }
   ],
   "source": [
    "visualize_average_attn_matrix(\n",
    "    attn_matrices=freezed_attn_matrices,\n",
    "    prompt=aligned_clean_prompt,\n",
    "    layer_window=ATTN_LAYER_WINDOW,\n",
    "    start_from=aligned_prompts[\"trace_start_idx\"],\n",
    ")"
   ]
  },
  {
   "cell_type": "code",
   "execution_count": null,
   "metadata": {},
   "outputs": [
    {
     "name": "stdout",
     "output_type": "stream",
     "text": [
      "value_weighted=False\n",
      "value.shape=torch.Size([1, 40, 216, 128])\n",
      "attn_weight.size()=torch.Size([1, 40, 216, 216])\n",
      "0 => cur_attn_matrix.size()=torch.Size([1, 216, 216])\n",
      "1 => cur_attn_matrix.size()=torch.Size([1, 216, 216])\n",
      "2 => cur_attn_matrix.size()=torch.Size([1, 216, 216])\n",
      "3 => cur_attn_matrix.size()=torch.Size([1, 216, 216])\n",
      "4 => cur_attn_matrix.size()=torch.Size([1, 216, 216])\n",
      "5 => cur_attn_matrix.size()=torch.Size([1, 216, 216])\n",
      "6 => cur_attn_matrix.size()=torch.Size([1, 216, 216])\n",
      "7 => cur_attn_matrix.size()=torch.Size([1, 216, 216])\n",
      "8 => cur_attn_matrix.size()=torch.Size([1, 216, 216])\n",
      "9 => cur_attn_matrix.size()=torch.Size([1, 216, 216])\n",
      "10 => cur_attn_matrix.size()=torch.Size([1, 216, 216])\n",
      "11 => cur_attn_matrix.size()=torch.Size([1, 216, 216])\n",
      "12 => cur_attn_matrix.size()=torch.Size([1, 216, 216])\n",
      "13 => cur_attn_matrix.size()=torch.Size([1, 216, 216])\n",
      "14 => cur_attn_matrix.size()=torch.Size([1, 216, 216])\n",
      "15 => cur_attn_matrix.size()=torch.Size([1, 216, 216])\n",
      "16 => cur_attn_matrix.size()=torch.Size([1, 216, 216])\n",
      "17 => cur_attn_matrix.size()=torch.Size([1, 216, 216])\n",
      "18 => cur_attn_matrix.size()=torch.Size([1, 216, 216])\n",
      "19 => cur_attn_matrix.size()=torch.Size([1, 216, 216])\n",
      "20 => cur_attn_matrix.size()=torch.Size([1, 216, 216])\n",
      "21 => cur_attn_matrix.size()=torch.Size([1, 216, 216])\n",
      "22 => cur_attn_matrix.size()=torch.Size([1, 216, 216])\n",
      "23 => cur_attn_matrix.size()=torch.Size([1, 216, 216])\n",
      "24 => cur_attn_matrix.size()=torch.Size([1, 216, 216])\n",
      "25 => cur_attn_matrix.size()=torch.Size([1, 216, 216])\n",
      "26 => cur_attn_matrix.size()=torch.Size([1, 216, 216])\n",
      "27 => cur_attn_matrix.size()=torch.Size([1, 216, 216])\n",
      "28 => cur_attn_matrix.size()=torch.Size([1, 216, 216])\n",
      "29 => cur_attn_matrix.size()=torch.Size([1, 216, 216])\n",
      "30 => cur_attn_matrix.size()=torch.Size([1, 216, 216])\n",
      "31 => cur_attn_matrix.size()=torch.Size([1, 216, 216])\n",
      "32 => cur_attn_matrix.size()=torch.Size([1, 216, 216])\n",
      "33 => cur_attn_matrix.size()=torch.Size([1, 216, 216])\n",
      "34 => cur_attn_matrix.size()=torch.Size([1, 216, 216])\n",
      "35 => cur_attn_matrix.size()=torch.Size([1, 216, 216])\n",
      "36 => cur_attn_matrix.size()=torch.Size([1, 216, 216])\n",
      "37 => cur_attn_matrix.size()=torch.Size([1, 216, 216])\n",
      "38 => cur_attn_matrix.size()=torch.Size([1, 216, 216])\n",
      "39 => cur_attn_matrix.size()=torch.Size([1, 216, 216])\n",
      "value_weighted=False\n",
      "value.shape=torch.Size([1, 40, 216, 128])\n",
      "attn_weight.size()=torch.Size([1, 40, 216, 216])\n",
      "0 => cur_attn_matrix.size()=torch.Size([1, 216, 216])\n",
      "1 => cur_attn_matrix.size()=torch.Size([1, 216, 216])\n",
      "2 => cur_attn_matrix.size()=torch.Size([1, 216, 216])\n",
      "3 => cur_attn_matrix.size()=torch.Size([1, 216, 216])\n",
      "4 => cur_attn_matrix.size()=torch.Size([1, 216, 216])\n",
      "5 => cur_attn_matrix.size()=torch.Size([1, 216, 216])\n",
      "6 => cur_attn_matrix.size()=torch.Size([1, 216, 216])\n",
      "7 => cur_attn_matrix.size()=torch.Size([1, 216, 216])\n",
      "8 => cur_attn_matrix.size()=torch.Size([1, 216, 216])\n",
      "9 => cur_attn_matrix.size()=torch.Size([1, 216, 216])\n",
      "10 => cur_attn_matrix.size()=torch.Size([1, 216, 216])\n",
      "11 => cur_attn_matrix.size()=torch.Size([1, 216, 216])\n",
      "12 => cur_attn_matrix.size()=torch.Size([1, 216, 216])\n",
      "13 => cur_attn_matrix.size()=torch.Size([1, 216, 216])\n",
      "14 => cur_attn_matrix.size()=torch.Size([1, 216, 216])\n",
      "15 => cur_attn_matrix.size()=torch.Size([1, 216, 216])\n",
      "16 => cur_attn_matrix.size()=torch.Size([1, 216, 216])\n",
      "17 => cur_attn_matrix.size()=torch.Size([1, 216, 216])\n",
      "18 => cur_attn_matrix.size()=torch.Size([1, 216, 216])\n",
      "19 => cur_attn_matrix.size()=torch.Size([1, 216, 216])\n",
      "20 => cur_attn_matrix.size()=torch.Size([1, 216, 216])\n",
      "21 => cur_attn_matrix.size()=torch.Size([1, 216, 216])\n",
      "22 => cur_attn_matrix.size()=torch.Size([1, 216, 216])\n",
      "23 => cur_attn_matrix.size()=torch.Size([1, 216, 216])\n",
      "24 => cur_attn_matrix.size()=torch.Size([1, 216, 216])\n",
      "25 => cur_attn_matrix.size()=torch.Size([1, 216, 216])\n",
      "26 => cur_attn_matrix.size()=torch.Size([1, 216, 216])\n",
      "27 => cur_attn_matrix.size()=torch.Size([1, 216, 216])\n",
      "28 => cur_attn_matrix.size()=torch.Size([1, 216, 216])\n",
      "29 => cur_attn_matrix.size()=torch.Size([1, 216, 216])\n",
      "30 => cur_attn_matrix.size()=torch.Size([1, 216, 216])\n",
      "31 => cur_attn_matrix.size()=torch.Size([1, 216, 216])\n",
      "32 => cur_attn_matrix.size()=torch.Size([1, 216, 216])\n",
      "33 => cur_attn_matrix.size()=torch.Size([1, 216, 216])\n",
      "34 => cur_attn_matrix.size()=torch.Size([1, 216, 216])\n",
      "35 => cur_attn_matrix.size()=torch.Size([1, 216, 216])\n",
      "36 => cur_attn_matrix.size()=torch.Size([1, 216, 216])\n",
      "37 => cur_attn_matrix.size()=torch.Size([1, 216, 216])\n",
      "38 => cur_attn_matrix.size()=torch.Size([1, 216, 216])\n",
      "39 => cur_attn_matrix.size()=torch.Size([1, 216, 216])\n",
      "value_weighted=False\n",
      "value.shape=torch.Size([1, 40, 216, 128])\n",
      "attn_weight.size()=torch.Size([1, 40, 216, 216])\n",
      "0 => cur_attn_matrix.size()=torch.Size([1, 216, 216])\n",
      "1 => cur_attn_matrix.size()=torch.Size([1, 216, 216])\n",
      "2 => cur_attn_matrix.size()=torch.Size([1, 216, 216])\n",
      "3 => cur_attn_matrix.size()=torch.Size([1, 216, 216])\n",
      "4 => cur_attn_matrix.size()=torch.Size([1, 216, 216])\n",
      "5 => cur_attn_matrix.size()=torch.Size([1, 216, 216])\n",
      "6 => cur_attn_matrix.size()=torch.Size([1, 216, 216])\n",
      "7 => cur_attn_matrix.size()=torch.Size([1, 216, 216])\n",
      "8 => cur_attn_matrix.size()=torch.Size([1, 216, 216])\n",
      "9 => cur_attn_matrix.size()=torch.Size([1, 216, 216])\n",
      "10 => cur_attn_matrix.size()=torch.Size([1, 216, 216])\n",
      "11 => cur_attn_matrix.size()=torch.Size([1, 216, 216])\n",
      "12 => cur_attn_matrix.size()=torch.Size([1, 216, 216])\n",
      "13 => cur_attn_matrix.size()=torch.Size([1, 216, 216])\n",
      "14 => cur_attn_matrix.size()=torch.Size([1, 216, 216])\n",
      "15 => cur_attn_matrix.size()=torch.Size([1, 216, 216])\n",
      "16 => cur_attn_matrix.size()=torch.Size([1, 216, 216])\n",
      "17 => cur_attn_matrix.size()=torch.Size([1, 216, 216])\n",
      "18 => cur_attn_matrix.size()=torch.Size([1, 216, 216])\n",
      "19 => cur_attn_matrix.size()=torch.Size([1, 216, 216])\n",
      "20 => cur_attn_matrix.size()=torch.Size([1, 216, 216])\n",
      "21 => cur_attn_matrix.size()=torch.Size([1, 216, 216])\n",
      "22 => cur_attn_matrix.size()=torch.Size([1, 216, 216])\n",
      "23 => cur_attn_matrix.size()=torch.Size([1, 216, 216])\n",
      "24 => cur_attn_matrix.size()=torch.Size([1, 216, 216])\n",
      "25 => cur_attn_matrix.size()=torch.Size([1, 216, 216])\n",
      "26 => cur_attn_matrix.size()=torch.Size([1, 216, 216])\n",
      "27 => cur_attn_matrix.size()=torch.Size([1, 216, 216])\n",
      "28 => cur_attn_matrix.size()=torch.Size([1, 216, 216])\n",
      "29 => cur_attn_matrix.size()=torch.Size([1, 216, 216])\n",
      "30 => cur_attn_matrix.size()=torch.Size([1, 216, 216])\n",
      "31 => cur_attn_matrix.size()=torch.Size([1, 216, 216])\n",
      "32 => cur_attn_matrix.size()=torch.Size([1, 216, 216])\n",
      "33 => cur_attn_matrix.size()=torch.Size([1, 216, 216])\n",
      "34 => cur_attn_matrix.size()=torch.Size([1, 216, 216])\n",
      "35 => cur_attn_matrix.size()=torch.Size([1, 216, 216])\n",
      "36 => cur_attn_matrix.size()=torch.Size([1, 216, 216])\n",
      "37 => cur_attn_matrix.size()=torch.Size([1, 216, 216])\n",
      "38 => cur_attn_matrix.size()=torch.Size([1, 216, 216])\n",
      "39 => cur_attn_matrix.size()=torch.Size([1, 216, 216])\n",
      "value_weighted=False\n",
      "value.shape=torch.Size([1, 40, 216, 128])\n",
      "attn_weight.size()=torch.Size([1, 40, 216, 216])\n",
      "0 => cur_attn_matrix.size()=torch.Size([1, 216, 216])\n",
      "1 => cur_attn_matrix.size()=torch.Size([1, 216, 216])\n",
      "2 => cur_attn_matrix.size()=torch.Size([1, 216, 216])\n",
      "3 => cur_attn_matrix.size()=torch.Size([1, 216, 216])\n",
      "4 => cur_attn_matrix.size()=torch.Size([1, 216, 216])\n",
      "5 => cur_attn_matrix.size()=torch.Size([1, 216, 216])\n",
      "6 => cur_attn_matrix.size()=torch.Size([1, 216, 216])\n",
      "7 => cur_attn_matrix.size()=torch.Size([1, 216, 216])\n",
      "8 => cur_attn_matrix.size()=torch.Size([1, 216, 216])\n",
      "9 => cur_attn_matrix.size()=torch.Size([1, 216, 216])\n",
      "10 => cur_attn_matrix.size()=torch.Size([1, 216, 216])\n",
      "11 => cur_attn_matrix.size()=torch.Size([1, 216, 216])\n",
      "12 => cur_attn_matrix.size()=torch.Size([1, 216, 216])\n",
      "13 => cur_attn_matrix.size()=torch.Size([1, 216, 216])\n",
      "14 => cur_attn_matrix.size()=torch.Size([1, 216, 216])\n",
      "15 => cur_attn_matrix.size()=torch.Size([1, 216, 216])\n",
      "16 => cur_attn_matrix.size()=torch.Size([1, 216, 216])\n",
      "17 => cur_attn_matrix.size()=torch.Size([1, 216, 216])\n",
      "18 => cur_attn_matrix.size()=torch.Size([1, 216, 216])\n",
      "19 => cur_attn_matrix.size()=torch.Size([1, 216, 216])\n",
      "20 => cur_attn_matrix.size()=torch.Size([1, 216, 216])\n",
      "21 => cur_attn_matrix.size()=torch.Size([1, 216, 216])\n",
      "22 => cur_attn_matrix.size()=torch.Size([1, 216, 216])\n",
      "23 => cur_attn_matrix.size()=torch.Size([1, 216, 216])\n",
      "24 => cur_attn_matrix.size()=torch.Size([1, 216, 216])\n",
      "25 => cur_attn_matrix.size()=torch.Size([1, 216, 216])\n",
      "26 => cur_attn_matrix.size()=torch.Size([1, 216, 216])\n",
      "27 => cur_attn_matrix.size()=torch.Size([1, 216, 216])\n",
      "28 => cur_attn_matrix.size()=torch.Size([1, 216, 216])\n",
      "29 => cur_attn_matrix.size()=torch.Size([1, 216, 216])\n",
      "30 => cur_attn_matrix.size()=torch.Size([1, 216, 216])\n",
      "31 => cur_attn_matrix.size()=torch.Size([1, 216, 216])\n",
      "32 => cur_attn_matrix.size()=torch.Size([1, 216, 216])\n",
      "33 => cur_attn_matrix.size()=torch.Size([1, 216, 216])\n",
      "34 => cur_attn_matrix.size()=torch.Size([1, 216, 216])\n",
      "35 => cur_attn_matrix.size()=torch.Size([1, 216, 216])\n",
      "36 => cur_attn_matrix.size()=torch.Size([1, 216, 216])\n",
      "37 => cur_attn_matrix.size()=torch.Size([1, 216, 216])\n",
      "38 => cur_attn_matrix.size()=torch.Size([1, 216, 216])\n",
      "39 => cur_attn_matrix.size()=torch.Size([1, 216, 216])\n",
      "value_weighted=False\n",
      "value.shape=torch.Size([1, 40, 216, 128])\n",
      "attn_weight.size()=torch.Size([1, 40, 216, 216])\n",
      "0 => cur_attn_matrix.size()=torch.Size([1, 216, 216])\n",
      "1 => cur_attn_matrix.size()=torch.Size([1, 216, 216])\n",
      "2 => cur_attn_matrix.size()=torch.Size([1, 216, 216])\n",
      "3 => cur_attn_matrix.size()=torch.Size([1, 216, 216])\n",
      "4 => cur_attn_matrix.size()=torch.Size([1, 216, 216])\n",
      "5 => cur_attn_matrix.size()=torch.Size([1, 216, 216])\n",
      "6 => cur_attn_matrix.size()=torch.Size([1, 216, 216])\n",
      "7 => cur_attn_matrix.size()=torch.Size([1, 216, 216])\n",
      "8 => cur_attn_matrix.size()=torch.Size([1, 216, 216])\n",
      "9 => cur_attn_matrix.size()=torch.Size([1, 216, 216])\n",
      "10 => cur_attn_matrix.size()=torch.Size([1, 216, 216])\n",
      "11 => cur_attn_matrix.size()=torch.Size([1, 216, 216])\n",
      "12 => cur_attn_matrix.size()=torch.Size([1, 216, 216])\n",
      "13 => cur_attn_matrix.size()=torch.Size([1, 216, 216])\n",
      "14 => cur_attn_matrix.size()=torch.Size([1, 216, 216])\n",
      "15 => cur_attn_matrix.size()=torch.Size([1, 216, 216])\n",
      "16 => cur_attn_matrix.size()=torch.Size([1, 216, 216])\n",
      "17 => cur_attn_matrix.size()=torch.Size([1, 216, 216])\n",
      "18 => cur_attn_matrix.size()=torch.Size([1, 216, 216])\n",
      "19 => cur_attn_matrix.size()=torch.Size([1, 216, 216])\n",
      "20 => cur_attn_matrix.size()=torch.Size([1, 216, 216])\n",
      "21 => cur_attn_matrix.size()=torch.Size([1, 216, 216])\n",
      "22 => cur_attn_matrix.size()=torch.Size([1, 216, 216])\n",
      "23 => cur_attn_matrix.size()=torch.Size([1, 216, 216])\n",
      "24 => cur_attn_matrix.size()=torch.Size([1, 216, 216])\n",
      "25 => cur_attn_matrix.size()=torch.Size([1, 216, 216])\n",
      "26 => cur_attn_matrix.size()=torch.Size([1, 216, 216])\n",
      "27 => cur_attn_matrix.size()=torch.Size([1, 216, 216])\n",
      "28 => cur_attn_matrix.size()=torch.Size([1, 216, 216])\n",
      "29 => cur_attn_matrix.size()=torch.Size([1, 216, 216])\n",
      "30 => cur_attn_matrix.size()=torch.Size([1, 216, 216])\n",
      "31 => cur_attn_matrix.size()=torch.Size([1, 216, 216])\n",
      "32 => cur_attn_matrix.size()=torch.Size([1, 216, 216])\n",
      "33 => cur_attn_matrix.size()=torch.Size([1, 216, 216])\n",
      "34 => cur_attn_matrix.size()=torch.Size([1, 216, 216])\n",
      "35 => cur_attn_matrix.size()=torch.Size([1, 216, 216])\n",
      "36 => cur_attn_matrix.size()=torch.Size([1, 216, 216])\n",
      "37 => cur_attn_matrix.size()=torch.Size([1, 216, 216])\n",
      "38 => cur_attn_matrix.size()=torch.Size([1, 216, 216])\n",
      "39 => cur_attn_matrix.size()=torch.Size([1, 216, 216])\n",
      "value_weighted=False\n",
      "value.shape=torch.Size([1, 40, 216, 128])\n",
      "attn_weight.size()=torch.Size([1, 40, 216, 216])\n",
      "0 => cur_attn_matrix.size()=torch.Size([1, 216, 216])\n",
      "1 => cur_attn_matrix.size()=torch.Size([1, 216, 216])\n",
      "2 => cur_attn_matrix.size()=torch.Size([1, 216, 216])\n",
      "3 => cur_attn_matrix.size()=torch.Size([1, 216, 216])\n",
      "4 => cur_attn_matrix.size()=torch.Size([1, 216, 216])\n",
      "5 => cur_attn_matrix.size()=torch.Size([1, 216, 216])\n",
      "6 => cur_attn_matrix.size()=torch.Size([1, 216, 216])\n",
      "7 => cur_attn_matrix.size()=torch.Size([1, 216, 216])\n",
      "8 => cur_attn_matrix.size()=torch.Size([1, 216, 216])\n",
      "9 => cur_attn_matrix.size()=torch.Size([1, 216, 216])\n",
      "10 => cur_attn_matrix.size()=torch.Size([1, 216, 216])\n",
      "11 => cur_attn_matrix.size()=torch.Size([1, 216, 216])\n",
      "12 => cur_attn_matrix.size()=torch.Size([1, 216, 216])\n",
      "13 => cur_attn_matrix.size()=torch.Size([1, 216, 216])\n",
      "14 => cur_attn_matrix.size()=torch.Size([1, 216, 216])\n",
      "15 => cur_attn_matrix.size()=torch.Size([1, 216, 216])\n",
      "16 => cur_attn_matrix.size()=torch.Size([1, 216, 216])\n",
      "17 => cur_attn_matrix.size()=torch.Size([1, 216, 216])\n",
      "18 => cur_attn_matrix.size()=torch.Size([1, 216, 216])\n",
      "19 => cur_attn_matrix.size()=torch.Size([1, 216, 216])\n",
      "20 => cur_attn_matrix.size()=torch.Size([1, 216, 216])\n",
      "21 => cur_attn_matrix.size()=torch.Size([1, 216, 216])\n",
      "22 => cur_attn_matrix.size()=torch.Size([1, 216, 216])\n",
      "23 => cur_attn_matrix.size()=torch.Size([1, 216, 216])\n",
      "24 => cur_attn_matrix.size()=torch.Size([1, 216, 216])\n",
      "25 => cur_attn_matrix.size()=torch.Size([1, 216, 216])\n",
      "26 => cur_attn_matrix.size()=torch.Size([1, 216, 216])\n",
      "27 => cur_attn_matrix.size()=torch.Size([1, 216, 216])\n",
      "28 => cur_attn_matrix.size()=torch.Size([1, 216, 216])\n",
      "29 => cur_attn_matrix.size()=torch.Size([1, 216, 216])\n",
      "30 => cur_attn_matrix.size()=torch.Size([1, 216, 216])\n",
      "31 => cur_attn_matrix.size()=torch.Size([1, 216, 216])\n",
      "32 => cur_attn_matrix.size()=torch.Size([1, 216, 216])\n",
      "33 => cur_attn_matrix.size()=torch.Size([1, 216, 216])\n",
      "34 => cur_attn_matrix.size()=torch.Size([1, 216, 216])\n",
      "35 => cur_attn_matrix.size()=torch.Size([1, 216, 216])\n",
      "36 => cur_attn_matrix.size()=torch.Size([1, 216, 216])\n",
      "37 => cur_attn_matrix.size()=torch.Size([1, 216, 216])\n",
      "38 => cur_attn_matrix.size()=torch.Size([1, 216, 216])\n",
      "39 => cur_attn_matrix.size()=torch.Size([1, 216, 216])\n",
      "value_weighted=False\n",
      "value.shape=torch.Size([1, 40, 216, 128])\n",
      "attn_weight.size()=torch.Size([1, 40, 216, 216])\n",
      "0 => cur_attn_matrix.size()=torch.Size([1, 216, 216])\n",
      "1 => cur_attn_matrix.size()=torch.Size([1, 216, 216])\n",
      "2 => cur_attn_matrix.size()=torch.Size([1, 216, 216])\n",
      "3 => cur_attn_matrix.size()=torch.Size([1, 216, 216])\n",
      "4 => cur_attn_matrix.size()=torch.Size([1, 216, 216])\n",
      "5 => cur_attn_matrix.size()=torch.Size([1, 216, 216])\n",
      "6 => cur_attn_matrix.size()=torch.Size([1, 216, 216])\n",
      "7 => cur_attn_matrix.size()=torch.Size([1, 216, 216])\n",
      "8 => cur_attn_matrix.size()=torch.Size([1, 216, 216])\n",
      "9 => cur_attn_matrix.size()=torch.Size([1, 216, 216])\n",
      "10 => cur_attn_matrix.size()=torch.Size([1, 216, 216])\n",
      "11 => cur_attn_matrix.size()=torch.Size([1, 216, 216])\n",
      "12 => cur_attn_matrix.size()=torch.Size([1, 216, 216])\n",
      "13 => cur_attn_matrix.size()=torch.Size([1, 216, 216])\n",
      "14 => cur_attn_matrix.size()=torch.Size([1, 216, 216])\n",
      "15 => cur_attn_matrix.size()=torch.Size([1, 216, 216])\n",
      "16 => cur_attn_matrix.size()=torch.Size([1, 216, 216])\n",
      "17 => cur_attn_matrix.size()=torch.Size([1, 216, 216])\n",
      "18 => cur_attn_matrix.size()=torch.Size([1, 216, 216])\n",
      "19 => cur_attn_matrix.size()=torch.Size([1, 216, 216])\n",
      "20 => cur_attn_matrix.size()=torch.Size([1, 216, 216])\n",
      "21 => cur_attn_matrix.size()=torch.Size([1, 216, 216])\n",
      "22 => cur_attn_matrix.size()=torch.Size([1, 216, 216])\n",
      "23 => cur_attn_matrix.size()=torch.Size([1, 216, 216])\n",
      "24 => cur_attn_matrix.size()=torch.Size([1, 216, 216])\n",
      "25 => cur_attn_matrix.size()=torch.Size([1, 216, 216])\n",
      "26 => cur_attn_matrix.size()=torch.Size([1, 216, 216])\n",
      "27 => cur_attn_matrix.size()=torch.Size([1, 216, 216])\n",
      "28 => cur_attn_matrix.size()=torch.Size([1, 216, 216])\n",
      "29 => cur_attn_matrix.size()=torch.Size([1, 216, 216])\n",
      "30 => cur_attn_matrix.size()=torch.Size([1, 216, 216])\n",
      "31 => cur_attn_matrix.size()=torch.Size([1, 216, 216])\n",
      "32 => cur_attn_matrix.size()=torch.Size([1, 216, 216])\n",
      "33 => cur_attn_matrix.size()=torch.Size([1, 216, 216])\n",
      "34 => cur_attn_matrix.size()=torch.Size([1, 216, 216])\n",
      "35 => cur_attn_matrix.size()=torch.Size([1, 216, 216])\n",
      "36 => cur_attn_matrix.size()=torch.Size([1, 216, 216])\n",
      "37 => cur_attn_matrix.size()=torch.Size([1, 216, 216])\n",
      "38 => cur_attn_matrix.size()=torch.Size([1, 216, 216])\n",
      "39 => cur_attn_matrix.size()=torch.Size([1, 216, 216])\n",
      "value_weighted=False\n",
      "value.shape=torch.Size([1, 40, 216, 128])\n",
      "attn_weight.size()=torch.Size([1, 40, 216, 216])\n",
      "0 => cur_attn_matrix.size()=torch.Size([1, 216, 216])\n",
      "1 => cur_attn_matrix.size()=torch.Size([1, 216, 216])\n",
      "2 => cur_attn_matrix.size()=torch.Size([1, 216, 216])\n",
      "3 => cur_attn_matrix.size()=torch.Size([1, 216, 216])\n",
      "4 => cur_attn_matrix.size()=torch.Size([1, 216, 216])\n",
      "5 => cur_attn_matrix.size()=torch.Size([1, 216, 216])\n",
      "6 => cur_attn_matrix.size()=torch.Size([1, 216, 216])\n",
      "7 => cur_attn_matrix.size()=torch.Size([1, 216, 216])\n",
      "8 => cur_attn_matrix.size()=torch.Size([1, 216, 216])\n",
      "9 => cur_attn_matrix.size()=torch.Size([1, 216, 216])\n",
      "10 => cur_attn_matrix.size()=torch.Size([1, 216, 216])\n",
      "11 => cur_attn_matrix.size()=torch.Size([1, 216, 216])\n",
      "12 => cur_attn_matrix.size()=torch.Size([1, 216, 216])\n",
      "13 => cur_attn_matrix.size()=torch.Size([1, 216, 216])\n",
      "14 => cur_attn_matrix.size()=torch.Size([1, 216, 216])\n",
      "15 => cur_attn_matrix.size()=torch.Size([1, 216, 216])\n",
      "16 => cur_attn_matrix.size()=torch.Size([1, 216, 216])\n",
      "17 => cur_attn_matrix.size()=torch.Size([1, 216, 216])\n",
      "18 => cur_attn_matrix.size()=torch.Size([1, 216, 216])\n",
      "19 => cur_attn_matrix.size()=torch.Size([1, 216, 216])\n",
      "20 => cur_attn_matrix.size()=torch.Size([1, 216, 216])\n",
      "21 => cur_attn_matrix.size()=torch.Size([1, 216, 216])\n",
      "22 => cur_attn_matrix.size()=torch.Size([1, 216, 216])\n",
      "23 => cur_attn_matrix.size()=torch.Size([1, 216, 216])\n",
      "24 => cur_attn_matrix.size()=torch.Size([1, 216, 216])\n",
      "25 => cur_attn_matrix.size()=torch.Size([1, 216, 216])\n",
      "26 => cur_attn_matrix.size()=torch.Size([1, 216, 216])\n",
      "27 => cur_attn_matrix.size()=torch.Size([1, 216, 216])\n",
      "28 => cur_attn_matrix.size()=torch.Size([1, 216, 216])\n",
      "29 => cur_attn_matrix.size()=torch.Size([1, 216, 216])\n",
      "30 => cur_attn_matrix.size()=torch.Size([1, 216, 216])\n",
      "31 => cur_attn_matrix.size()=torch.Size([1, 216, 216])\n",
      "32 => cur_attn_matrix.size()=torch.Size([1, 216, 216])\n",
      "33 => cur_attn_matrix.size()=torch.Size([1, 216, 216])\n",
      "34 => cur_attn_matrix.size()=torch.Size([1, 216, 216])\n",
      "35 => cur_attn_matrix.size()=torch.Size([1, 216, 216])\n",
      "36 => cur_attn_matrix.size()=torch.Size([1, 216, 216])\n",
      "37 => cur_attn_matrix.size()=torch.Size([1, 216, 216])\n",
      "38 => cur_attn_matrix.size()=torch.Size([1, 216, 216])\n",
      "39 => cur_attn_matrix.size()=torch.Size([1, 216, 216])\n",
      "value_weighted=False\n",
      "value.shape=torch.Size([1, 40, 216, 128])\n",
      "attn_weight.size()=torch.Size([1, 40, 216, 216])\n",
      "0 => cur_attn_matrix.size()=torch.Size([1, 216, 216])\n",
      "1 => cur_attn_matrix.size()=torch.Size([1, 216, 216])\n",
      "2 => cur_attn_matrix.size()=torch.Size([1, 216, 216])\n",
      "3 => cur_attn_matrix.size()=torch.Size([1, 216, 216])\n",
      "4 => cur_attn_matrix.size()=torch.Size([1, 216, 216])\n",
      "5 => cur_attn_matrix.size()=torch.Size([1, 216, 216])\n",
      "6 => cur_attn_matrix.size()=torch.Size([1, 216, 216])\n",
      "7 => cur_attn_matrix.size()=torch.Size([1, 216, 216])\n",
      "8 => cur_attn_matrix.size()=torch.Size([1, 216, 216])\n",
      "9 => cur_attn_matrix.size()=torch.Size([1, 216, 216])\n",
      "10 => cur_attn_matrix.size()=torch.Size([1, 216, 216])\n",
      "11 => cur_attn_matrix.size()=torch.Size([1, 216, 216])\n",
      "12 => cur_attn_matrix.size()=torch.Size([1, 216, 216])\n",
      "13 => cur_attn_matrix.size()=torch.Size([1, 216, 216])\n",
      "14 => cur_attn_matrix.size()=torch.Size([1, 216, 216])\n",
      "15 => cur_attn_matrix.size()=torch.Size([1, 216, 216])\n",
      "16 => cur_attn_matrix.size()=torch.Size([1, 216, 216])\n",
      "17 => cur_attn_matrix.size()=torch.Size([1, 216, 216])\n",
      "18 => cur_attn_matrix.size()=torch.Size([1, 216, 216])\n",
      "19 => cur_attn_matrix.size()=torch.Size([1, 216, 216])\n",
      "20 => cur_attn_matrix.size()=torch.Size([1, 216, 216])\n",
      "21 => cur_attn_matrix.size()=torch.Size([1, 216, 216])\n",
      "22 => cur_attn_matrix.size()=torch.Size([1, 216, 216])\n",
      "23 => cur_attn_matrix.size()=torch.Size([1, 216, 216])\n",
      "24 => cur_attn_matrix.size()=torch.Size([1, 216, 216])\n",
      "25 => cur_attn_matrix.size()=torch.Size([1, 216, 216])\n",
      "26 => cur_attn_matrix.size()=torch.Size([1, 216, 216])\n",
      "27 => cur_attn_matrix.size()=torch.Size([1, 216, 216])\n",
      "28 => cur_attn_matrix.size()=torch.Size([1, 216, 216])\n",
      "29 => cur_attn_matrix.size()=torch.Size([1, 216, 216])\n",
      "30 => cur_attn_matrix.size()=torch.Size([1, 216, 216])\n",
      "31 => cur_attn_matrix.size()=torch.Size([1, 216, 216])\n",
      "32 => cur_attn_matrix.size()=torch.Size([1, 216, 216])\n",
      "33 => cur_attn_matrix.size()=torch.Size([1, 216, 216])\n",
      "34 => cur_attn_matrix.size()=torch.Size([1, 216, 216])\n",
      "35 => cur_attn_matrix.size()=torch.Size([1, 216, 216])\n",
      "36 => cur_attn_matrix.size()=torch.Size([1, 216, 216])\n",
      "37 => cur_attn_matrix.size()=torch.Size([1, 216, 216])\n",
      "38 => cur_attn_matrix.size()=torch.Size([1, 216, 216])\n",
      "39 => cur_attn_matrix.size()=torch.Size([1, 216, 216])\n",
      "score=0.5859375\n",
      "pred=[PredictedToken(token=' part', prob=0.1708984375, logit=18.0, token_id=949), PredictedToken(token=' ruled', prob=0.06298828125, logit=17.0, token_id=21286), PredictedToken(token=' occupied', prob=0.055419921875, logit=16.875, token_id=24367), PredictedToken(token=' under', prob=0.055419921875, logit=16.875, token_id=1212), PredictedToken(token=' members', prob=0.048828125, logit=16.75, token_id=3613)]\n",
      "track={34474: (64, PredictedToken(token=' Axis', prob=0.00167083740234375, logit=13.375, token_id=34474)), 4337: (145, PredictedToken(token=' World', prob=0.000396728515625, logit=11.9375, token_id=4337)), 13430: (202, PredictedToken(token=' powers', prob=0.00024127960205078125, logit=11.4375, token_id=13430)), 5004: (1283, PredictedToken(token=' War', prob=9.357929229736328e-06, logit=8.1875, token_id=5004)), 7946: (9968, PredictedToken(token=' II', prob=1.7695128917694092e-07, logit=4.21875, token_id=7946))}\n",
      "indirect_effect=-0.023809523809523808\n"
     ]
    }
   ],
   "source": [
    "mt.reset_forward()\n",
    "\n",
    "# grab attention patterns for the clean prompt\n",
    "mt.reset_forward()\n",
    "\n",
    "\n",
    "value_weighted_attn_matrices = {l: {} for l in ATTN_LAYER_WINDOW}\n",
    "for layer_idx in ATTN_LAYER_WINDOW:\n",
    "    attn_block_name = mt.attn_module_name_format.format(layer_idx)\n",
    "    attn_block = baukit.get_module(mt._model, attn_block_name)\n",
    "    attn_block.forward = types.MethodType(\n",
    "        LlamaAttentionPatcher(\n",
    "            block_name=attn_block_name,\n",
    "            save_attn_for=list(range(mt.config.num_attention_heads)),\n",
    "            store_attn_matrices=value_weighted_attn_matrices[layer_idx],\n",
    "            value_weighted=True,\n",
    "        ),\n",
    "        attn_block,\n",
    "    )\n",
    "\n",
    "tokenized_input = TokenizerOutput(data=aligned_prompts[\"clean_input\"])\n",
    "\n",
    "score, pred, track = patched_run(\n",
    "    mt=mt,\n",
    "    inputs=tokenized_input,\n",
    "    patches=[],\n",
    "    ans_tokens=keywords,\n",
    "    generate_full_ans=False,\n",
    "    metric=METRIC,\n",
    ")\n",
    "\n",
    "print(f\"{score=}\")\n",
    "print(f\"{pred=}\")\n",
    "print(f\"{track=}\")\n",
    "indirect_effect = (score - corrupt_score) / (gold_score - corrupt_score)\n",
    "print(f\"{indirect_effect=}\")\n",
    "\n",
    "mt.reset_forward()"
   ]
  },
  {
   "cell_type": "code",
   "execution_count": 286,
   "metadata": {},
   "outputs": [
    {
     "name": "stdout",
     "output_type": "stream",
     "text": [
      "layer=26\n"
     ]
    },
    {
     "data": {
      "text/html": [
       "<div id=\"circuits-vis-8a310d23-a9f3\" style=\"margin: 15px 0;\"/>\n",
       "    <script crossorigin type=\"module\">\n",
       "    import { render, ColoredTokens } from \"https://unpkg.com/circuitsvis@1.43.3/dist/cdn/esm.js\";\n",
       "    render(\n",
       "      \"circuits-vis-8a310d23-a9f3\",\n",
       "      ColoredTokens,\n",
       "      {\"tokens\": [\"#\\n\", \"Q\", \":\", \" Korea\", \" and\", \" Japan\", \"\\n\", \"A\", \":\", \" They\", \" are\", \"/w\", \"ere\", \" both\"], \"values\": [0.0024566650390625, 0.0040283203125, 0.005401611328125, 0.03662109375, 0.01434326171875, 0.051513671875, 0.021728515625, 0.017822265625, 0.0162353515625, 0.04150390625, 0.032470703125, 0.04150390625, 0.06640625, 0.054443359375]}\n",
       "    )\n",
       "    </script>"
      ],
      "text/plain": [
       "<circuitsvis.utils.render.RenderedHTML at 0x7fd1343ff790>"
      ]
     },
     "metadata": {},
     "output_type": "display_data"
    },
    {
     "name": "stdout",
     "output_type": "stream",
     "text": [
      "--------------------------------------------------------------------------------\n",
      "layer=27\n"
     ]
    },
    {
     "data": {
      "text/html": [
       "<div id=\"circuits-vis-5a9220f0-dfdc\" style=\"margin: 15px 0;\"/>\n",
       "    <script crossorigin type=\"module\">\n",
       "    import { render, ColoredTokens } from \"https://unpkg.com/circuitsvis@1.43.3/dist/cdn/esm.js\";\n",
       "    render(\n",
       "      \"circuits-vis-5a9220f0-dfdc\",\n",
       "      ColoredTokens,\n",
       "      {\"tokens\": [\"#\\n\", \"Q\", \":\", \" Korea\", \" and\", \" Japan\", \"\\n\", \"A\", \":\", \" They\", \" are\", \"/w\", \"ere\", \" both\"], \"values\": [0.0010833740234375, 0.0029296875, 0.0040283203125, 0.0225830078125, 0.015625, 0.058349609375, 0.0220947265625, 0.021484375, 0.01904296875, 0.037353515625, 0.0291748046875, 0.03759765625, 0.10205078125, 0.07568359375]}\n",
       "    )\n",
       "    </script>"
      ],
      "text/plain": [
       "<circuitsvis.utils.render.RenderedHTML at 0x7fd15910fa50>"
      ]
     },
     "metadata": {},
     "output_type": "display_data"
    },
    {
     "name": "stdout",
     "output_type": "stream",
     "text": [
      "--------------------------------------------------------------------------------\n",
      "layer=28\n"
     ]
    },
    {
     "data": {
      "text/html": [
       "<div id=\"circuits-vis-e04110f5-3fe9\" style=\"margin: 15px 0;\"/>\n",
       "    <script crossorigin type=\"module\">\n",
       "    import { render, ColoredTokens } from \"https://unpkg.com/circuitsvis@1.43.3/dist/cdn/esm.js\";\n",
       "    render(\n",
       "      \"circuits-vis-e04110f5-3fe9\",\n",
       "      ColoredTokens,\n",
       "      {\"tokens\": [\"#\\n\", \"Q\", \":\", \" Korea\", \" and\", \" Japan\", \"\\n\", \"A\", \":\", \" They\", \" are\", \"/w\", \"ere\", \" both\"], \"values\": [0.0021514892578125, 0.0045166015625, 0.004547119140625, 0.03271484375, 0.01513671875, 0.046630859375, 0.0196533203125, 0.0177001953125, 0.01007080078125, 0.03173828125, 0.0198974609375, 0.0306396484375, 0.07177734375, 0.07763671875]}\n",
       "    )\n",
       "    </script>"
      ],
      "text/plain": [
       "<circuitsvis.utils.render.RenderedHTML at 0x7fd158e3b510>"
      ]
     },
     "metadata": {},
     "output_type": "display_data"
    },
    {
     "name": "stdout",
     "output_type": "stream",
     "text": [
      "--------------------------------------------------------------------------------\n",
      "layer=29\n"
     ]
    },
    {
     "data": {
      "text/html": [
       "<div id=\"circuits-vis-b2ea0e8d-e954\" style=\"margin: 15px 0;\"/>\n",
       "    <script crossorigin type=\"module\">\n",
       "    import { render, ColoredTokens } from \"https://unpkg.com/circuitsvis@1.43.3/dist/cdn/esm.js\";\n",
       "    render(\n",
       "      \"circuits-vis-b2ea0e8d-e954\",\n",
       "      ColoredTokens,\n",
       "      {\"tokens\": [\"#\\n\", \"Q\", \":\", \" Korea\", \" and\", \" Japan\", \"\\n\", \"A\", \":\", \" They\", \" are\", \"/w\", \"ere\", \" both\"], \"values\": [0.000324249267578125, 0.001678466796875, 0.0017547607421875, 0.022216796875, 0.00762939453125, 0.030029296875, 0.01043701171875, 0.021240234375, 0.00933837890625, 0.025634765625, 0.01446533203125, 0.0172119140625, 0.0830078125, 0.0732421875]}\n",
       "    )\n",
       "    </script>"
      ],
      "text/plain": [
       "<circuitsvis.utils.render.RenderedHTML at 0x7fd158e3b510>"
      ]
     },
     "metadata": {},
     "output_type": "display_data"
    },
    {
     "name": "stdout",
     "output_type": "stream",
     "text": [
      "--------------------------------------------------------------------------------\n",
      "layer=30\n"
     ]
    },
    {
     "data": {
      "text/html": [
       "<div id=\"circuits-vis-8f38a677-359a\" style=\"margin: 15px 0;\"/>\n",
       "    <script crossorigin type=\"module\">\n",
       "    import { render, ColoredTokens } from \"https://unpkg.com/circuitsvis@1.43.3/dist/cdn/esm.js\";\n",
       "    render(\n",
       "      \"circuits-vis-8f38a677-359a\",\n",
       "      ColoredTokens,\n",
       "      {\"tokens\": [\"#\\n\", \"Q\", \":\", \" Korea\", \" and\", \" Japan\", \"\\n\", \"A\", \":\", \" They\", \" are\", \"/w\", \"ere\", \" both\"], \"values\": [0.0003814697265625, 0.000720977783203125, 0.0018310546875, 0.055908203125, 0.01214599609375, 0.08837890625, 0.01007080078125, 0.0118408203125, 0.0145263671875, 0.023681640625, 0.01116943359375, 0.037353515625, 0.10107421875, 0.07958984375]}\n",
       "    )\n",
       "    </script>"
      ],
      "text/plain": [
       "<circuitsvis.utils.render.RenderedHTML at 0x7fd158fedd10>"
      ]
     },
     "metadata": {},
     "output_type": "display_data"
    },
    {
     "name": "stdout",
     "output_type": "stream",
     "text": [
      "--------------------------------------------------------------------------------\n",
      "layer=31\n"
     ]
    },
    {
     "data": {
      "text/html": [
       "<div id=\"circuits-vis-b7e40ebd-bce3\" style=\"margin: 15px 0;\"/>\n",
       "    <script crossorigin type=\"module\">\n",
       "    import { render, ColoredTokens } from \"https://unpkg.com/circuitsvis@1.43.3/dist/cdn/esm.js\";\n",
       "    render(\n",
       "      \"circuits-vis-b7e40ebd-bce3\",\n",
       "      ColoredTokens,\n",
       "      {\"tokens\": [\"#\\n\", \"Q\", \":\", \" Korea\", \" and\", \" Japan\", \"\\n\", \"A\", \":\", \" They\", \" are\", \"/w\", \"ere\", \" both\"], \"values\": [0.00074005126953125, 0.00167083740234375, 0.00433349609375, 0.055419921875, 0.01519775390625, 0.06103515625, 0.007476806640625, 0.01263427734375, 0.019287109375, 0.0361328125, 0.01409912109375, 0.027587890625, 0.08154296875, 0.07177734375]}\n",
       "    )\n",
       "    </script>"
      ],
      "text/plain": [
       "<circuitsvis.utils.render.RenderedHTML at 0x7fd158e3bf90>"
      ]
     },
     "metadata": {},
     "output_type": "display_data"
    },
    {
     "name": "stdout",
     "output_type": "stream",
     "text": [
      "--------------------------------------------------------------------------------\n",
      "layer=32\n"
     ]
    },
    {
     "data": {
      "text/html": [
       "<div id=\"circuits-vis-f7fb95b0-e164\" style=\"margin: 15px 0;\"/>\n",
       "    <script crossorigin type=\"module\">\n",
       "    import { render, ColoredTokens } from \"https://unpkg.com/circuitsvis@1.43.3/dist/cdn/esm.js\";\n",
       "    render(\n",
       "      \"circuits-vis-f7fb95b0-e164\",\n",
       "      ColoredTokens,\n",
       "      {\"tokens\": [\"#\\n\", \"Q\", \":\", \" Korea\", \" and\", \" Japan\", \"\\n\", \"A\", \":\", \" They\", \" are\", \"/w\", \"ere\", \" both\"], \"values\": [9.679794311523438e-05, 0.000209808349609375, 0.00139617919921875, 0.04052734375, 0.006683349609375, 0.046630859375, 0.00421142578125, 0.0048828125, 0.0108642578125, 0.0263671875, 0.024169921875, 0.01904296875, 0.0771484375, 0.051513671875]}\n",
       "    )\n",
       "    </script>"
      ],
      "text/plain": [
       "<circuitsvis.utils.render.RenderedHTML at 0x7fd158d21a50>"
      ]
     },
     "metadata": {},
     "output_type": "display_data"
    },
    {
     "name": "stdout",
     "output_type": "stream",
     "text": [
      "--------------------------------------------------------------------------------\n",
      "layer=33\n"
     ]
    },
    {
     "data": {
      "text/html": [
       "<div id=\"circuits-vis-e6cdda19-e048\" style=\"margin: 15px 0;\"/>\n",
       "    <script crossorigin type=\"module\">\n",
       "    import { render, ColoredTokens } from \"https://unpkg.com/circuitsvis@1.43.3/dist/cdn/esm.js\";\n",
       "    render(\n",
       "      \"circuits-vis-e6cdda19-e048\",\n",
       "      ColoredTokens,\n",
       "      {\"tokens\": [\"#\\n\", \"Q\", \":\", \" Korea\", \" and\", \" Japan\", \"\\n\", \"A\", \":\", \" They\", \" are\", \"/w\", \"ere\", \" both\"], \"values\": [0.00013828277587890625, 0.00022125244140625, 0.0019683837890625, 0.0272216796875, 0.0074462890625, 0.05419921875, 0.00286865234375, 0.004974365234375, 0.0155029296875, 0.0234375, 0.0128173828125, 0.01177978515625, 0.0576171875, 0.06640625]}\n",
       "    )\n",
       "    </script>"
      ],
      "text/plain": [
       "<circuitsvis.utils.render.RenderedHTML at 0x7fd158feca90>"
      ]
     },
     "metadata": {},
     "output_type": "display_data"
    },
    {
     "name": "stdout",
     "output_type": "stream",
     "text": [
      "--------------------------------------------------------------------------------\n",
      "layer=34\n"
     ]
    },
    {
     "data": {
      "text/html": [
       "<div id=\"circuits-vis-1d4dee6d-4f86\" style=\"margin: 15px 0;\"/>\n",
       "    <script crossorigin type=\"module\">\n",
       "    import { render, ColoredTokens } from \"https://unpkg.com/circuitsvis@1.43.3/dist/cdn/esm.js\";\n",
       "    render(\n",
       "      \"circuits-vis-1d4dee6d-4f86\",\n",
       "      ColoredTokens,\n",
       "      {\"tokens\": [\"#\\n\", \"Q\", \":\", \" Korea\", \" and\", \" Japan\", \"\\n\", \"A\", \":\", \" They\", \" are\", \"/w\", \"ere\", \" both\"], \"values\": [0.00017452239990234375, 0.0004367828369140625, 0.00189971923828125, 0.0244140625, 0.007354736328125, 0.045166015625, 0.0022735595703125, 0.0045166015625, 0.00543212890625, 0.01104736328125, 0.0074462890625, 0.01708984375, 0.042236328125, 0.036865234375]}\n",
       "    )\n",
       "    </script>"
      ],
      "text/plain": [
       "<circuitsvis.utils.render.RenderedHTML at 0x7fd158de41d0>"
      ]
     },
     "metadata": {},
     "output_type": "display_data"
    },
    {
     "name": "stdout",
     "output_type": "stream",
     "text": [
      "--------------------------------------------------------------------------------\n"
     ]
    }
   ],
   "source": [
    "visualize_average_attn_matrix(\n",
    "    attn_matrices=value_weighted_attn_matrices,\n",
    "    prompt=aligned_clean_prompt,\n",
    "    layer_window=ATTN_LAYER_WINDOW,\n",
    "    start_from=aligned_prompts[\"trace_start_idx\"],\n",
    ")"
   ]
  },
  {
   "cell_type": "markdown",
   "metadata": {},
   "source": [
    "## Interpretation of the contributions.\n",
    "* Just apply `Logit Lens` and `PatchScope` to check for interpretable contributions.\n",
    "    * Take care of layer norm after the attention block"
   ]
  },
  {
   "cell_type": "code",
   "execution_count": 288,
   "metadata": {},
   "outputs": [],
   "source": [
    "####################################################\n",
    "ATTN_LAYER_WINDOW = list(range(26, 35))\n",
    "\n",
    "# METRIC = \"logit\"\n",
    "# METRIC = \"prob\"\n",
    "METRIC = \"log_norm\"\n",
    "####################################################"
   ]
  },
  {
   "cell_type": "code",
   "execution_count": 294,
   "metadata": {},
   "outputs": [
    {
     "data": {
      "text/plain": [
       "{'entity_pair': ['Leonardo da Vinci', 'Benjamin Franklin'],\n",
       " 'connection': 'polymaths.',\n",
       " 'alt_first': {'entity': 'George Washington',\n",
       "  'connection': 'American Founding Fathers.'}}"
      ]
     },
     "execution_count": 294,
     "metadata": {},
     "output_type": "execute_result"
    }
   ],
   "source": [
    "sample_idx = 5\n",
    "sample = coincidences[\"examples\"][sample_idx]\n",
    "sample"
   ]
  },
  {
   "cell_type": "code",
   "execution_count": null,
   "metadata": {},
   "outputs": [
    {
     "name": "stdout",
     "output_type": "stream",
     "text": [
      "['Leonardo da Vinci', 'Benjamin Franklin'] >> answer='polymaths.'\n",
      "['44933( polym)']\n",
      "('George Washington', 'Benjamin Franklin') >> clean_answer='American politicians.'\n"
     ]
    }
   ],
   "source": [
    "from src.functional import get_keywords_from_text\n",
    "\n",
    "patch_prompt = prepare_probing_input(\n",
    "    mt=mt,\n",
    "    entities=sample[\"entity_pair\"],\n",
    "    prefix=prefix,\n",
    "    answer_marker=answer_marker,\n",
    "    question_marker=question_marker,\n",
    "    block_separator=block_separator,\n",
    "    is_a_reasoning_model=\"deepseek\" in model_key.lower(),\n",
    "    # is_a_reasoning_model=True\n",
    "    answer_prefix=\" They are/were both\",\n",
    "    # answer_prefix = \" They are both used to say\"\n",
    ")\n",
    "\n",
    "\n",
    "answer = get_lm_generated_answer(\n",
    "    mt=mt,\n",
    "    prompt=patch_prompt,\n",
    "    is_a_reasoning_model=\"deepseek\" in model_key.lower(),\n",
    "    # is_a_reasoning_model=True\n",
    ")\n",
    "print(f\"{sample['entity_pair']} >> {answer=}\")\n",
    "keywords = get_keywords_from_text(text=answer, tokenizer=mt)\n",
    "print(f\"{[f'{t}({mt.tokenizer.decode(t)})' for t in keywords]}\")\n",
    "\n",
    "clean_prompt = prepare_probing_input(\n",
    "    mt=mt,\n",
    "    entities=(sample[\"alt_first\"][\"entity\"], sample[\"entity_pair\"][1]),\n",
    "    prefix=prefix,\n",
    "    answer_marker=answer_marker,\n",
    "    question_marker=question_marker,\n",
    "    block_separator=block_separator,\n",
    "    is_a_reasoning_model=\"deepseek\" in model_key.lower(),\n",
    "    # is_a_reasoning_model=True\n",
    "    answer_prefix=\" They are/were both\",\n",
    ")\n",
    "\n",
    "clean_answer = get_lm_generated_answer(\n",
    "    mt=mt,\n",
    "    prompt=clean_prompt,\n",
    "    is_a_reasoning_model=\"deepseek\" in model_key.lower(),\n",
    "    # is_a_reasoning_model=True\n",
    ")\n",
    "print(f\"{sample['alt_first']['entity'], sample['entity_pair'][1]} >> {clean_answer=}\")"
   ]
  },
  {
   "cell_type": "code",
   "execution_count": 296,
   "metadata": {},
   "outputs": [
    {
     "name": "stdout",
     "output_type": "stream",
     "text": [
      "gold_score=1.1484375\n",
      "gold_pred=[PredictedToken(token=' polym', prob=0.44140625, logit=19.5, token_id=44933), PredictedToken(token=' invent', prob=0.07666015625, logit=17.75, token_id=17023), PredictedToken(token=' artists', prob=0.052734375, logit=17.375, token_id=13511), PredictedToken(token=' famous', prob=0.052734375, logit=17.375, token_id=11245), PredictedToken(token=' Renaissance', prob=0.046630859375, logit=17.25, token_id=54283)]\n",
      "gold_track={44933: (1, PredictedToken(token=' polym', prob=0.44140625, logit=19.5, token_id=44933))}\n",
      "corrupt_score=0.66796875\n",
      "corrupt_pred=[PredictedToken(token=' American', prob=0.201171875, logit=18.5, token_id=3693), PredictedToken(token=' US', prob=0.083984375, logit=17.625, token_id=2274), PredictedToken(token=' famous', prob=0.07421875, logit=17.5, token_id=11245), PredictedToken(token=' U', prob=0.0654296875, logit=17.375, token_id=547), PredictedToken(token=' politicians', prob=0.051025390625, logit=17.125, token_id=18761)]\n",
      "corrupt_track={44933: (141, PredictedToken(token=' polym', prob=0.00018405914306640625, logit=11.5, token_id=44933))}\n",
      "\" American politicians.\n",
      "#\n",
      "Q: The White House and The Pentagon\n",
      "A: They are both government buildings\"\n",
      "patched_score=1.0078125\n",
      "pred=[PredictedToken(token=' famous', prob=0.1767578125, logit=18.125, token_id=11245), PredictedToken(token=' American', prob=0.1767578125, logit=18.125, token_id=3693), PredictedToken(token=' invent', prob=0.06494140625, logit=17.125, token_id=17023), PredictedToken(token=' polym', prob=0.044677734375, logit=16.75, token_id=44933), PredictedToken(token=' US', prob=0.044677734375, logit=16.75, token_id=2274)]\n",
      "track={44933: (5, PredictedToken(token=' polym', prob=0.044677734375, logit=16.75, token_id=44933))}\n",
      "indirect_effect=0.7073170731707317\n"
     ]
    }
   ],
   "source": [
    "post_attn_ln_format = \"model.layers.{}.post_attention_layernorm\"\n",
    "\n",
    "patch_attn_outputs = get_hs(\n",
    "    mt=mt,\n",
    "    input=patch_prompt.prompt,\n",
    "    locations=(\n",
    "        [(mt.attn_module_name_format.format(l), -1) for l in range(mt.n_layer)]\n",
    "        + [(mt.layer_name_format.format(l), -1) for l in range(mt.n_layer)]\n",
    "        + [(post_attn_ln_format.format(l), -1) for l in range(mt.n_layer)]\n",
    "    ),\n",
    "    return_dict=True,\n",
    ")\n",
    "\n",
    "\n",
    "gold_score, gold_pred, gold_track = patched_run(\n",
    "    mt=mt,\n",
    "    inputs=TokenizerOutput(data=patch_prompt.tokenized),\n",
    "    patches=[],\n",
    "    ans_tokens=keywords,\n",
    "    # generate_full_ans = True,\n",
    "    metric=METRIC,\n",
    ")\n",
    "print(f\"{gold_score=}\")\n",
    "print(f\"{gold_pred=}\")\n",
    "print(f\"{gold_track=}\")\n",
    "\n",
    "\n",
    "corrupt_score, corrupt_pred, corrupt_track = patched_run(\n",
    "    mt=mt,\n",
    "    inputs=TokenizerOutput(data=clean_prompt.tokenized),\n",
    "    patches=[],\n",
    "    ans_tokens=keywords,\n",
    "    # generate_full_ans = True,\n",
    "    metric=METRIC,\n",
    ")\n",
    "print(f\"{corrupt_score=}\")\n",
    "print(f\"{corrupt_pred=}\")\n",
    "print(f\"{corrupt_track=}\")\n",
    "\n",
    "\n",
    "layer_window = [mt.attn_module_name_format.format(l) for l in ATTN_LAYER_WINDOW]\n",
    "tokenized_input = TokenizerOutput(data=clean_prompt.tokenized)\n",
    "last_tok_idx = tokenized_input.input_ids.shape[1] - 1\n",
    "\n",
    "patches = [\n",
    "    PatchSpec(location=(layer, last_tok_idx), patch=patch_attn_outputs[(layer, -1)])\n",
    "    for layer in layer_window\n",
    "]\n",
    "# patches = []\n",
    "\n",
    "patched_score, pred, track = patched_run(\n",
    "    mt=mt,\n",
    "    inputs=tokenized_input,\n",
    "    patches=patches,\n",
    "    ans_tokens=keywords,\n",
    "    generate_full_ans=True,\n",
    "    metric=METRIC,\n",
    ")\n",
    "\n",
    "print(f\"{patched_score=}\")\n",
    "print(f\"{pred=}\")\n",
    "print(f\"{track=}\")\n",
    "\n",
    "indirect_effect = (patched_score - corrupt_score) / (gold_score - corrupt_score)\n",
    "print(f\"{indirect_effect=}\")"
   ]
  },
  {
   "cell_type": "code",
   "execution_count": 297,
   "metadata": {},
   "outputs": [
    {
     "name": "stdout",
     "output_type": "stream",
     "text": [
      "attn_module='model.layers.26.self_attn' >> score=0.3125 |<>| pred_str='\"ignKey\" (p=0.021) (logit=11.812) | \"eco\" (p=0.018) (logit=11.625) | \"łe\" (p=0.015) (logit=11.438) | \" samt\" (p=0.013) (logit=11.312) | \"agan\" (p=0.012) (logit=11.250) | \"iale\" (p=0.010) (logit=11.062) | \"与其\" (p=0.008) (logit=10.875) | \"lös\" (p=0.007) (logit=10.750) | \"�\" (p=0.007) (logit=10.750) | \"近三年\" (p=0.007) (logit=10.625) | \" Bab\" (p=0.006) (logit=10.500) | \"珀\" (p=0.005) (logit=10.438) | \"uids\" (p=0.005) (logit=10.375) | \" inval\" (p=0.005) (logit=10.375) | \"｜\" (p=0.005) (logit=10.312)'\n",
      "attn_module='model.layers.27.self_attn' >> score=0.053955078125 |<>| pred_str='\"相似\" (p=0.508) (logit=19.000) | \"各自\" (p=0.146) (logit=17.750) | \"相同\" (p=0.114) (logit=17.500) | \"各自的\" (p=0.037) (logit=16.375) | \"意义上\" (p=0.029) (logit=16.125) | \" alike\" (p=0.025) (logit=16.000) | \"相同的\" (p=0.020) (logit=15.750) | \"Similar\" (p=0.012) (logit=15.250) | \" identical\" (p=0.011) (logit=15.188) | \"虢\" (p=0.011) (logit=15.188) | \"相近\" (p=0.009) (logit=14.938) | \" sama\" (p=0.006) (logit=14.500) | \"similar\" (p=0.005) (logit=14.438) | \" similar\" (p=0.004) (logit=14.125) | \" Similar\" (p=0.002) (logit=13.625)'\n",
      "attn_module='model.layers.28.self_attn' >> score=0.236328125 |<>| pred_str='\"妪\" (p=0.026) (logit=11.125) | \"oard\" (p=0.016) (logit=10.625) | \"霸\" (p=0.014) (logit=10.500) | \"錾\" (p=0.010) (logit=10.188) | \"膺\" (p=0.010) (logit=10.125) | \"侵害\" (p=0.009) (logit=10.062) | \"彖\" (p=0.009) (logit=10.062) | \"isclosed\" (p=0.008) (logit=9.938) | \" pun\" (p=0.007) (logit=9.750) | \"橱\" (p=0.007) (logit=9.750) | \"享有\" (p=0.007) (logit=9.750) | \"ë\" (p=0.005) (logit=9.562) | \"NG\" (p=0.005) (logit=9.562) | \"Ju\" (p=0.005) (logit=9.500) | \" Cos\" (p=0.005) (logit=9.500)'\n",
      "attn_module='model.layers.29.self_attn' >> score=0.41015625 |<>| pred_str='\"andest\" (p=0.051) (logit=13.375) | \"avo\" (p=0.045) (logit=13.250) | \"bmp\" (p=0.033) (logit=12.938) | \"绀\" (p=0.021) (logit=12.500) | \"uts\" (p=0.015) (logit=12.125) | \"ajs\" (p=0.012) (logit=11.938) | \"wick\" (p=0.011) (logit=11.875) | \"/uploads\" (p=0.010) (logit=11.750) | \"解放思想\" (p=0.008) (logit=11.562) | \"<Real\" (p=0.007) (logit=11.375) | \"fragistics\" (p=0.007) (logit=11.312) | \"活跃\" (p=0.006) (logit=11.250) | \"Quarter\" (p=0.006) (logit=11.188) | \"alars\" (p=0.006) (logit=11.188) | \"在游戏中\" (p=0.005) (logit=11.062)'\n",
      "attn_module='model.layers.30.self_attn' >> score=0.275390625 |<>| pred_str='\"百科\" (p=0.030) (logit=12.750) | \"mite\" (p=0.022) (logit=12.438) | \"为人\" (p=0.018) (logit=12.250) | \"Oil\" (p=0.017) (logit=12.188) | \"五官\" (p=0.013) (logit=11.938) | \"˅\" (p=0.013) (logit=11.875) | \" Hv\" (p=0.010) (logit=11.688) | \"<s\" (p=0.010) (logit=11.688) | \" Danger\" (p=0.009) (logit=11.500) | \"REAM\" (p=0.008) (logit=11.438) | \"-fly\" (p=0.008) (logit=11.438) | \"书写\" (p=0.007) (logit=11.312) | \"名列前茅\" (p=0.006) (logit=11.188) | \" OW\" (p=0.006) (logit=11.188) | \"世\" (p=0.006) (logit=11.125)'\n",
      "attn_module='model.layers.31.self_attn' >> score=0.310546875 |<>| pred_str='\" UNESCO\" (p=0.128) (logit=15.688) | \"世人\" (p=0.128) (logit=15.688) | \" Renaissance\" (p=0.073) (logit=15.125) | \" Genius\" (p=0.064) (logit=15.000) | \"各自的\" (p=0.057) (logit=14.875) | \" Greatest\" (p=0.042) (logit=14.562) | \"各自\" (p=0.037) (logit=14.438) | \"棺\" (p=0.037) (logit=14.438) | \"大师\" (p=0.034) (logit=14.375) | \" Freem\" (p=0.032) (logit=14.312) | \" genius\" (p=0.022) (logit=13.938) | \"享誉\" (p=0.021) (logit=13.875) | \"各国\" (p=0.018) (logit=13.750) | \" histor\" (p=0.018) (logit=13.750) | \"千古\" (p=0.015) (logit=13.562)'\n",
      "attn_module='model.layers.32.self_attn' >> score=0.271484375 |<>| pred_str='\"的一员\" (p=0.258) (logit=15.938) | \"ego\" (p=0.045) (logit=14.188) | \"nect\" (p=0.020) (logit=13.375) | \"名人\" (p=0.019) (logit=13.312) | \"院院士\" (p=0.015) (logit=13.062) | \"/dd\" (p=0.014) (logit=13.000) | \"萝\" (p=0.014) (logit=13.000) | \"arts\" (p=0.012) (logit=12.875) | \"郇\" (p=0.011) (logit=12.750) | \"-cart\" (p=0.009) (logit=12.625) | \" frontal\" (p=0.009) (logit=12.625) | \"pur\" (p=0.009) (logit=12.562) | \"煳\" (p=0.009) (logit=12.562) | \" pur\" (p=0.007) (logit=12.375) | \" jugg\" (p=0.007) (logit=12.312)'\n",
      "attn_module='model.layers.33.self_attn' >> score=0.33984375 |<>| pred_str='\" prolific\" (p=0.098) (logit=16.500) | \" inventor\" (p=0.067) (logit=16.125) | \"kits\" (p=0.056) (logit=15.938) | \" genius\" (p=0.056) (logit=15.938) | \"äch\" (p=0.041) (logit=15.625) | \"两个人\" (p=0.041) (logit=15.625) | \"Persona\" (p=0.028) (logit=15.250) | \"名片\" (p=0.025) (logit=15.125) | \" Invent\" (p=0.021) (logit=14.938) | \"persona\" (p=0.019) (logit=14.875) | \"ROTO\" (p=0.018) (logit=14.812) | \" person\" (p=0.014) (logit=14.562) | \" mah\" (p=0.014) (logit=14.562) | \" drafts\" (p=0.014) (logit=14.562) | \" homme\" (p=0.013) (logit=14.500)'\n",
      "attn_module='model.layers.34.self_attn' >> score=0.376953125 |<>| pred_str='\" Philadelphia\" (p=0.301) (logit=18.125) | \"书画\" (p=0.110) (logit=17.125) | \" Mona\" (p=0.067) (logit=16.625) | \" Renaissance\" (p=0.067) (logit=16.625) | \" Vinci\" (p=0.059) (logit=16.500) | \"风筝\" (p=0.052) (logit=16.375) | \" Philly\" (p=0.036) (logit=16.000) | \"发明\" (p=0.034) (logit=15.938) | \" kite\" (p=0.032) (logit=15.875) | \" Pennsylvania\" (p=0.022) (logit=15.500) | \" inventor\" (p=0.015) (logit=15.125) | \" inventions\" (p=0.015) (logit=15.125) | \" Penn\" (p=0.013) (logit=15.000) | \"Penn\" (p=0.011) (logit=14.812) | \"绘画\" (p=0.010) (logit=14.750)'\n"
     ]
    }
   ],
   "source": [
    "# Logit Lens\n",
    "\n",
    "from src.functional import logit_lens\n",
    "\n",
    "for attn_idx in ATTN_LAYER_WINDOW:\n",
    "    attn_module = mt.attn_module_name_format.format(attn_idx)\n",
    "    layer_name = mt.layer_name_format.format(attn_idx)\n",
    "    lnf_name = post_attn_ln_format.format(attn_idx)\n",
    "\n",
    "    h = patch_attn_outputs[(attn_module, -1)]\n",
    "    # h = patch_attn_outputs[(layer_name, -1)]\n",
    "    # h = patch_attn_outputs[(lnf_name, -1)]\n",
    "\n",
    "    logits, pred = logit_lens(\n",
    "        mt=mt,\n",
    "        h=h,\n",
    "        k=15,\n",
    "        return_logits=True,\n",
    "    )\n",
    "\n",
    "    pred_str = \" | \".join([f\"{p}\" for p in pred])\n",
    "\n",
    "    score = get_score(logits=logits, token_id=keywords, metric=METRIC)\n",
    "    print(f\"{attn_module=} >> {score=} |<>| {pred_str=}\")"
   ]
  },
  {
   "cell_type": "code",
   "execution_count": 106,
   "metadata": {},
   "outputs": [
    {
     "name": "stdout",
     "output_type": "stream",
     "text": [
      "['10423[\" Mount\"]', '86478[\" Everest\"]']\n",
      "torch.Size([152064])\n"
     ]
    },
    {
     "data": {
      "text/plain": [
       "[PredictedToken(token='Ever', prob=0.55859375, logit=17.5, token_id=43487),\n",
       " PredictedToken(token='ever', prob=0.08056640625, logit=15.5625, token_id=2054),\n",
       " PredictedToken(token=' Everest', prob=0.0517578125, logit=15.125, token_id=86478),\n",
       " PredictedToken(token=' ever', prob=0.040283203125, logit=14.875, token_id=3512),\n",
       " PredictedToken(token=' Ever', prob=0.037841796875, logit=14.8125, token_id=17892),\n",
       " PredictedToken(token='Mount', prob=0.033447265625, logit=14.6875, token_id=16284),\n",
       " PredictedToken(token='mount', prob=0.0179443359375, logit=14.0625, token_id=16557),\n",
       " PredictedToken(token=' Mount', prob=0.00958251953125, logit=13.4375, token_id=10423),\n",
       " PredictedToken(token='computer', prob=0.00848388671875, logit=13.3125, token_id=43111),\n",
       " PredictedToken(token='the', prob=0.0079345703125, logit=13.25, token_id=1782),\n",
       " PredictedToken(token=' computer', prob=0.0079345703125, logit=13.25, token_id=6366),\n",
       " PredictedToken(token=';', prob=0.0079345703125, logit=13.25, token_id=26),\n",
       " PredictedToken(token=' mountain', prob=0.0079345703125, logit=13.25, token_id=16301),\n",
       " PredictedToken(token=' the', prob=0.00701904296875, logit=13.125, token_id=279),\n",
       " PredictedToken(token=' ', prob=0.005126953125, logit=12.8125, token_id=220)]"
      ]
     },
     "execution_count": 106,
     "metadata": {},
     "output_type": "execute_result"
    }
   ],
   "source": [
    "from src.functional import patchscope, get_hs\n",
    "\n",
    "test_input = \" Mount Everest\"\n",
    "toks = mt.tokenizer(test_input, return_tensors=\"pt\", add_special_tokens=False)\n",
    "print([f'{t}[\"{mt.tokenizer.decode(t)}\"]' for t in toks[\"input_ids\"][0]])\n",
    "\n",
    "h = get_hs(\n",
    "    mt=mt,\n",
    "    input=test_input,\n",
    "    # locations = [(mt.embedder_name, -1)],\n",
    "    locations=[(mt.layer_name_format.format(40), -1)],\n",
    "    return_dict=False,\n",
    ")\n",
    "\n",
    "patch_layers = [mt.layer_name_format.format(l) for l in range(5, 15)]\n",
    "\n",
    "logits, pred = patchscope(\n",
    "    mt=mt, h=h, return_logits=True, patch_layers=patch_layers, k=15\n",
    ")\n",
    "\n",
    "print(logits.shape)\n",
    "pred"
   ]
  },
  {
   "cell_type": "code",
   "execution_count": 101,
   "metadata": {},
   "outputs": [
    {
     "name": "stdout",
     "output_type": "stream",
     "text": [
      "attn_module='model.layers.26.self_attn' >> score=0.123046875 |<>| pred_str='\";\" (p=0.260) (logit=15.312) | \"->\" (p=0.037) (logit=13.375) | \"e\" (p=0.029) (logit=13.125) | \"the\" (p=0.026) (logit=13.000) | \"The\" (p=0.013) (logit=12.312) | \"E\" (p=0.013) (logit=12.312) | \"trans\" (p=0.013) (logit=12.312) | \"<|endoftext|>\" (p=0.011) (logit=12.125) | \";\\n\" (p=0.011) (logit=12.125) | \"copy\" (p=0.009) (logit=11.938) | \"arrow\" (p=0.007) (logit=11.750) | \"to\" (p=0.007) (logit=11.750) | \"I\" (p=0.007) (logit=11.688) | \"-\" (p=0.007) (logit=11.688) | \"\";\" (p=0.007) (logit=11.688)'\n",
      "attn_module='model.layers.27.self_attn' >> score=0.031982421875 |<>| pred_str='\"ol\" (p=0.066) (logit=13.688) | \";\" (p=0.066) (logit=13.688) | \"O\" (p=0.055) (logit=13.500) | \"Ol\" (p=0.043) (logit=13.250) | \"o\" (p=0.029) (logit=12.875) | \"or\" (p=0.020) (logit=12.500) | \"oll\" (p=0.015) (logit=12.188) | \"_;\" (p=0.013) (logit=12.062) | \"oh\" (p=0.011) (logit=11.938) | \"cat\" (p=0.011) (logit=11.938) | \"0\" (p=0.009) (logit=11.688) | \".\" (p=0.008) (logit=11.625) | \".;\" (p=0.008) (logit=11.562) | \"hello\" (p=0.007) (logit=11.500) | \"I\" (p=0.007) (logit=11.500)'\n",
      "attn_module='model.layers.28.self_attn' >> score=0.10302734375 |<>| pred_str='\".\" (p=0.230) (logit=15.438) | \".;\" (p=0.203) (logit=15.312) | \";\" (p=0.048) (logit=13.875) | \" .\" (p=0.043) (logit=13.750) | \".\\n\" (p=0.031) (logit=13.438) | \"comma\" (p=0.021) (logit=13.062) | \".;\\n\" (p=0.018) (logit=12.875) | \",\" (p=0.018) (logit=12.875) | \"0\" (p=0.014) (logit=12.625) | \"dot\" (p=0.011) (logit=12.438) | \".,\" (p=0.011) (logit=12.438) | \".\\n\\n\" (p=0.011) (logit=12.375) | \"&\" (p=0.010) (logit=12.312) | \"and\" (p=0.008) (logit=12.062) | \".&\" (p=0.006) (logit=11.812)'\n",
      "attn_module='model.layers.29.self_attn' >> score=0.05029296875 |<>| pred_str='\" \" (p=0.387) (logit=16.250) | \";\" (p=0.098) (logit=14.875) | \"trans\" (p=0.036) (logit=13.875) | \"->\" (p=0.034) (logit=13.812) | \"the\" (p=0.019) (logit=13.250) | \"copy\" (p=0.016) (logit=13.062) | \"<|endoftext|>\" (p=0.011) (logit=12.688) | \"-\" (p=0.008) (logit=12.375) | \";\\n\" (p=0.007) (logit=12.188) | \"arrow\" (p=0.006) (logit=12.125) | \"2\" (p=0.006) (logit=12.062) | \" ;\" (p=0.006) (logit=12.000) | \"→\" (p=0.006) (logit=12.000) | \" ->\" (p=0.005) (logit=11.875) | \"\\n\\n\" (p=0.005) (logit=11.875)'\n",
      "attn_module='model.layers.30.self_attn' >> score=0.06298828125 |<>| pred_str='\"M\" (p=0.172) (logit=14.375) | \"Ms\" (p=0.126) (logit=14.062) | \"m\" (p=0.063) (logit=13.375) | \"Me\" (p=0.049) (logit=13.125) | \"me\" (p=0.018) (logit=12.125) | \";\" (p=0.016) (logit=12.000) | \"Mr\" (p=0.015) (logit=11.938) | \".\" (p=0.012) (logit=11.750) | \"My\" (p=0.012) (logit=11.688) | \"Mer\" (p=0.010) (logit=11.562) | \"The\" (p=0.010) (logit=11.500) | \"ms\" (p=0.010) (logit=11.500) | \"the\" (p=0.006) (logit=11.062) | \"MS\" (p=0.005) (logit=10.875) | \"C\" (p=0.005) (logit=10.875)'\n",
      "attn_module='model.layers.31.self_attn' >> score=-0.1259765625 |<>| pred_str='\"C\" (p=0.144) (logit=14.812) | \"co\" (p=0.119) (logit=14.625) | \"c\" (p=0.112) (logit=14.562) | \"cat\" (p=0.056) (logit=13.875) | \"cl\" (p=0.047) (logit=13.688) | \"car\" (p=0.028) (logit=13.188) | \"coal\" (p=0.022) (logit=12.938) | \".\" (p=0.021) (logit=12.875) | \"horse\" (p=0.016) (logit=12.625) | \"Co\" (p=0.013) (logit=12.438) | \"Cl\" (p=0.010) (logit=12.188) | \"cr\" (p=0.009) (logit=12.062) | \"carbon\" (p=0.009) (logit=12.062) | \"castle\" (p=0.009) (logit=12.000) | \"Cat\" (p=0.009) (logit=12.000)'\n",
      "attn_module='model.layers.32.self_attn' >> score=0.142578125 |<>| pred_str='\"$\" (p=0.232) (logit=15.375) | \";\" (p=0.149) (logit=14.938) | \"copy\" (p=0.031) (logit=13.375) | \"trans\" (p=0.024) (logit=13.125) | \"p\" (p=0.023) (logit=13.062) | \"`;\" (p=0.023) (logit=13.062) | \"$$\" (p=0.010) (logit=12.188) | \"`\" (p=0.009) (logit=12.125) | \"\\';\" (p=0.009) (logit=12.125) | \"$\\n\" (p=0.008) (logit=12.062) | \";$\" (p=0.008) (logit=12.062) | \"\\\\$\" (p=0.008) (logit=12.062) | \"@\" (p=0.007) (logit=11.938) | \",\" (p=0.007) (logit=11.938) | \"$\\\\\" (p=0.007) (logit=11.938)'\n",
      "attn_module='model.layers.33.self_attn' >> score=0.1455078125 |<>| pred_str='\"1\" (p=0.852) (logit=19.250) | \"I\" (p=0.023) (logit=15.625) | \"0\" (p=0.010) (logit=14.812) | \"one\" (p=0.007) (logit=14.500) | \";\" (p=0.007) (logit=14.438) | \"2\" (p=0.004) (logit=14.000) | \"trans\" (p=0.003) (logit=13.562) | \".\" (p=0.003) (logit=13.562) | \"me\" (p=0.003) (logit=13.500) | \"\\\\\" (p=0.002) (logit=13.375) | \"One\" (p=0.002) (logit=13.312) | \"copy\" (p=0.002) (logit=13.312) | \"The\" (p=0.001) (logit=12.625) | \"3\" (p=0.001) (logit=12.625) | \"the\" (p=0.001) (logit=12.562)'\n",
      "attn_module='model.layers.34.self_attn' >> score=0.07177734375 |<>| pred_str='\"2\" (p=0.307) (logit=17.125) | \"1\" (p=0.099) (logit=16.000) | \"T\" (p=0.087) (logit=15.875) | \"5\" (p=0.047) (logit=15.250) | \"t\" (p=0.039) (logit=15.062) | \"4\" (p=0.025) (logit=14.625) | \"8\" (p=0.016) (logit=14.188) | \"trans\" (p=0.016) (logit=14.188) | \"France\" (p=0.013) (logit=14.000) | \"te\" (p=0.010) (logit=13.750) | \"3\" (p=0.010) (logit=13.750) | \"Leon\" (p=0.010) (logit=13.688) | \"7\" (p=0.009) (logit=13.625) | \"6\" (p=0.008) (logit=13.500) | \"Te\" (p=0.007) (logit=13.375)'\n"
     ]
    }
   ],
   "source": [
    "# PatchScope\n",
    "\n",
    "from src.functional import patchscope\n",
    "from src.trace import get_score\n",
    "\n",
    "for attn_idx in ATTN_LAYER_WINDOW:\n",
    "    attn_module = mt.attn_module_name_format.format(attn_idx)\n",
    "    layer_name = mt.layer_name_format.format(attn_idx)\n",
    "    lnf_name = post_attn_ln_format.format(attn_idx)\n",
    "\n",
    "    h = 5 * patch_attn_outputs[(attn_module, -1)]\n",
    "    # h = patch_attn_outputs[(layer_name, -1)]\n",
    "    # h = 5 * patch_attn_outputs[(lnf_name, -1)]\n",
    "\n",
    "    logits, pred = patchscope(\n",
    "        mt=mt,\n",
    "        h=h,\n",
    "        k=15,\n",
    "        return_logits=True,\n",
    "    )\n",
    "\n",
    "    pred_str = \" | \".join([f\"{p}\" for p in pred])\n",
    "\n",
    "    score = get_score(logits=logits, token_id=keywords, metric=METRIC)\n",
    "    print(f\"{attn_module=} >> {score=} |<>| {pred_str=}\")"
   ]
  },
  {
   "cell_type": "code",
   "execution_count": null,
   "metadata": {},
   "outputs": [],
   "source": []
  }
 ],
 "metadata": {
  "kernelspec": {
   "display_name": "Python 3",
   "language": "python",
   "name": "python3"
  },
  "language_info": {
   "codemirror_mode": {
    "name": "ipython",
    "version": 3
   },
   "file_extension": ".py",
   "mimetype": "text/x-python",
   "name": "python",
   "nbconvert_exporter": "python",
   "pygments_lexer": "ipython3",
   "version": "3.11.11"
  }
 },
 "nbformat": 4,
 "nbformat_minor": 2
}
