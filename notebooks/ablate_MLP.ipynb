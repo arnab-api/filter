{
 "cells": [
  {
   "cell_type": "code",
   "execution_count": 1,
   "metadata": {},
   "outputs": [],
   "source": [
    "%load_ext autoreload\n",
    "%autoreload 2"
   ]
  },
  {
   "cell_type": "code",
   "execution_count": 2,
   "metadata": {},
   "outputs": [
    {
     "name": "stderr",
     "output_type": "stream",
     "text": [
      "/home/local_arnab/miniconda3/envs/retrieval/lib/python3.11/site-packages/tqdm/auto.py:21: TqdmWarning: IProgress not found. Please update jupyter and ipywidgets. See https://ipywidgets.readthedocs.io/en/stable/user_install.html\n",
      "  from .autonotebook import tqdm as notebook_tqdm\n"
     ]
    },
    {
     "name": "stdout",
     "output_type": "stream",
     "text": [
      "2024-09-09 17:41:50 __main__ INFO     torch.__version__='2.4.1+cu121', torch.version.cuda='12.1'\n",
      "2024-09-09 17:41:50 __main__ INFO     torch.cuda.is_available()=True, torch.cuda.device_count()=1, torch.cuda.get_device_name()='NVIDIA RTX A6000'\n",
      "2024-09-09 17:41:50 __main__ INFO     transformers.__version__='4.44.2'\n"
     ]
    }
   ],
   "source": [
    "import os\n",
    "from tqdm.auto import tqdm\n",
    "\n",
    "import sys\n",
    "sys.path.append(\"../\")\n",
    "import json\n",
    "\n",
    "import logging\n",
    "from src.utils import logging_utils\n",
    "from src.utils import env_utils\n",
    "from src import functional\n",
    "\n",
    "logger = logging.getLogger(__name__)\n",
    "\n",
    "logging.basicConfig(\n",
    "    level=logging.INFO,\n",
    "    format=logging_utils.DEFAULT_FORMAT,\n",
    "    datefmt=logging_utils.DEFAULT_DATEFMT,\n",
    "    stream=sys.stdout,\n",
    ")\n",
    "\n",
    "import torch\n",
    "import transformers\n",
    "\n",
    "logger.info(f\"{torch.__version__=}, {torch.version.cuda=}\")\n",
    "logger.info(f\"{torch.cuda.is_available()=}, {torch.cuda.device_count()=}, {torch.cuda.get_device_name()=}\")\n",
    "logger.info(f\"{transformers.__version__=}\")"
   ]
  },
  {
   "cell_type": "code",
   "execution_count": 3,
   "metadata": {},
   "outputs": [],
   "source": [
    "from dataclasses_json import DataClassJsonMixin\n",
    "from dataclasses import dataclass, field, fields\n",
    "from typing import Optional\n",
    "import random\n",
    "from src.dataset import BridgeSample, BridgeRelation, BridgeDataset\n",
    "from src.dataset import load_bridge_relation, load_bridge_relations, load_bridge_dataset        "
   ]
  },
  {
   "cell_type": "code",
   "execution_count": 4,
   "metadata": {},
   "outputs": [
    {
     "name": "stdout",
     "output_type": "stream",
     "text": [
      "2024-09-09 17:41:51 accelerate.utils.modeling INFO     We will use 90% of the memory on device 0 for storing the model, and 10% for the buffer to avoid OOM. You can set `max_memory` in to a higher value to use more memory (at your own risk).\n"
     ]
    },
    {
     "name": "stderr",
     "output_type": "stream",
     "text": [
      "Loading checkpoint shards: 100%|██████████| 4/4 [00:05<00:00,  1.31s/it]"
     ]
    },
    {
     "name": "stdout",
     "output_type": "stream",
     "text": [
      "2024-09-09 17:41:56 src.models INFO     loaded model </home/local_arnab/Codes/00_MODEL/meta-llama/Meta-Llama-3-8B-Instruct> | size: 15316.516 MB | dtype: torch.float16 | device: cuda:0\n"
     ]
    },
    {
     "name": "stderr",
     "output_type": "stream",
     "text": [
      "\n"
     ]
    }
   ],
   "source": [
    "import torch\n",
    "\n",
    "from nnsight import LanguageModel\n",
    "from src.models import ModelandTokenizer\n",
    "\n",
    "model_key = \"meta-llama/Meta-Llama-3-8B-Instruct\"\n",
    "\n",
    "mt = ModelandTokenizer(\n",
    "    model_key=model_key,\n",
    "    torch_dtype=torch.float16,\n",
    ")"
   ]
  },
  {
   "cell_type": "code",
   "execution_count": 5,
   "metadata": {},
   "outputs": [],
   "source": [
    "states_cache_dir = os.path.join(\n",
    "    env_utils.DEFAULT_RESULTS_DIR,\n",
    "    \"cache_states/mean\",\n",
    "    mt.name.split(\"/\")[-1],\n",
    "    \"wikipedia\"\n",
    ")\n",
    "\n",
    "# os.listdir(states_cache_dir)\n"
   ]
  },
  {
   "cell_type": "code",
   "execution_count": 6,
   "metadata": {},
   "outputs": [],
   "source": [
    "import numpy as np\n",
    "\n",
    "def load_mean_states():\n",
    "    mean_states = {}\n",
    "    total_tokens = 0\n",
    "    for doc_cache in os.listdir(states_cache_dir):\n",
    "        npz_file = np.load(os.path.join(states_cache_dir, doc_cache), allow_pickle=True)\n",
    "        input_ids = npz_file[\"input_ids\"]\n",
    "        token_count = input_ids.shape[1]\n",
    "        outputs = npz_file[\"outputs\"].item()\n",
    "        for key, value in outputs.items():\n",
    "            if key not in mean_states:\n",
    "                mean_states[key] = value * token_count\n",
    "            else:\n",
    "                mean_states[key] += value * token_count\n",
    "        total_tokens += token_count\n",
    "    \n",
    "    for key in mean_states.keys():\n",
    "        mean_states[key] = torch.Tensor(mean_states[key]).squeeze() / total_tokens\n",
    "    \n",
    "    return mean_states\n",
    "\n",
    "# npz_file = np.load(os.path.join(states_cache_dir, \"0.npz\"), allow_pickle=True)\n",
    "# npz_file.files\n",
    "\n",
    "# outputs = npz_file[\"outputs\"].item()\n",
    "\n",
    "mean_states = load_mean_states()"
   ]
  },
  {
   "cell_type": "code",
   "execution_count": 7,
   "metadata": {},
   "outputs": [
    {
     "name": "stdout",
     "output_type": "stream",
     "text": [
      "2024-09-09 17:41:58 src.utils.experiment_utils INFO     setting all seeds to 123456\n",
      "2024-09-09 17:41:58 src.dataset INFO     initialized bridge relation superpower_characters with 43 examples\n",
      "2024-09-09 17:41:58 src.dataset INFO     initialized bridge relation sport_players with 58 examples\n",
      "2024-09-09 17:41:58 src.dataset INFO     initialized bridge relation movie_actor with 58 examples\n",
      "2024-09-09 17:41:58 src.dataset INFO     initialized bridge relation architect_building with 30 examples\n",
      "2024-09-09 17:41:58 src.dataset INFO     initialized bridge relation none with 46 examples\n",
      "2024-09-09 17:41:58 src.dataset INFO     initialized bridge dataset with 5 relations and 293 examples\n",
      "2024-09-09 17:41:58 src.dataset INFO     initialized bridge relation sport_players with 58 examples\n"
     ]
    }
   ],
   "source": [
    "from typing import Literal\n",
    "from src.utils import experiment_utils\n",
    "\n",
    "experiment_utils.set_seed(123456)\n",
    "\n",
    "relation_name: Literal[\n",
    "    \"architect_building\",\n",
    "    \"movie_actor\",\n",
    "    \"sport_players\",\n",
    "    \"superpower_characters\",\n",
    "    \"all\",\n",
    "] = \"sport_players\"\n",
    "\n",
    "\n",
    "cached_known_dir = os.path.join(\n",
    "    env_utils.DEFAULT_DATA_DIR, \"bridge_cached\", \n",
    "    mt.name.split(\"/\")[-1]\n",
    ")\n",
    "# known_data_file = os.listdir(cached_known_dir)[-1]\n",
    "known_data_file = \"filtered_2024-09-06T00:58:32.777195.json\"\n",
    "\n",
    "cached_known_dir = os.path.join(\n",
    "    env_utils.DEFAULT_DATA_DIR, \"bridge_cached\", mt.name.split(\"/\")[-1]\n",
    ")\n",
    "with open(os.path.join(cached_known_dir, known_data_file), \"r\") as f:\n",
    "    json_data = json.load(f)\n",
    "\n",
    "dataset = BridgeDataset.from_dict(json_data)\n",
    "if relation_name != \"all\":\n",
    "    relation_icq = None\n",
    "    for rel in json_data[\"relations\"]:\n",
    "        if rel[\"name\"] == relation_name:\n",
    "            relation_icq = BridgeRelation.from_dict(rel)\n",
    "            break\n",
    "    assert (\n",
    "        relation_icq is not None\n",
    "    ), f\"{relation_name=} is not found. Available relations: {[r['name'] for r in json_data['relations']]}\"\n",
    "    dataset.examples = relation_icq.examples\n",
    "dataset.ensure_icl_not_in_examples()"
   ]
  },
  {
   "cell_type": "code",
   "execution_count": 8,
   "metadata": {},
   "outputs": [
    {
     "name": "stdout",
     "output_type": "stream",
     "text": [
      "0 => baseball - a sport where both Babe Ruth and Hank Aaron are known for.\n",
      "1 => boxing - a sport where both Floyd Mayweather and Manny Pacquiao are known for.\n",
      "2 => athletics - a sport where both Usain Bolt and Carl Lewis are known for.\n",
      "3 => basketball - a sport where both Michael Jordan and LeBron James are known for.\n",
      "4 => soccer - a sport where both Zinedine Zidane and Ronaldinho are known for.\n",
      "5 => table tennis - a sport where both Zhang Jike and Timo Boll are known for.\n",
      "6 => rugby - a sport where both Richie McCaw and Brian O'Driscoll are known for.\n",
      "7 => rugby - a sport where both Jonah Lomu and Dan Carter are known for.\n",
      "8 => cricket - a sport where both Sachin Tendulkar and Brian Lara are known for.\n",
      "9 => surfing - a sport where both Kelly Slater and Andy Irons are known for.\n",
      "10 => cricket - a sport where both Shane Warne and Muttiah Muralitharan are known for.\n",
      "11 => wrestling - a sport where both Hulk Hogan and The Rock are known for.\n",
      "12 => soccer - a sport where both Pelé and Diego Maradona are known for.\n",
      "13 => gymnastics - a sport where both Simone Biles and Nadia Comaneci are known for.\n",
      "14 => boxing - a sport where both Sugar Ray Leonard and Roberto Durán are known for.\n",
      "15 => swimming - a sport where both Michael Phelps and Ryan Lochte are known for.\n",
      "16 => volleyball - a sport where both Kerri Walsh Jennings and Misty May-Treanor are known for.\n",
      "17 => chess - a sport where both Garry Kasparov and Magnus Carlsen are known for.\n",
      "18 => ice hockey - a sport where both Sidney Crosby and Alexander Ovechkin are known for.\n",
      "19 => rugby - a sport where both Jonah Lomu and Richie McCaw are known for.\n",
      "20 => swimming - a sport where both Ryan Lochte and Caeleb Dressel are known for.\n",
      "21 => basketball - a sport where both Kobe Bryant and Magic Johnson are known for.\n",
      "22 => ice hockey - a sport where both Jaromír Jágr and Patrick Roy are known for.\n",
      "23 => golf - a sport where both Arnold Palmer and Gary Player are known for.\n",
      "24 => cycling - a sport where both Eddy Merckx and Lance Armstrong are known for.\n",
      "25 => golf - a sport where both Phil Mickelson and Rory McIlroy are known for.\n",
      "26 => american football - a sport where both Tom Brady and Peyton Manning are known for.\n",
      "27 => formula 1 - a sport where both Ayrton Senna and Alain Prost are known for.\n",
      "28 => cycling - a sport where both Chris Froome and Alberto Contador are known for.\n",
      "29 => volleyball - a sport where both Sergey Tetyukhin and Gilberto Godoy Filho are known for.\n",
      "30 => ice hockey - a sport where both Wayne Gretzky and Mario Lemieux are known for.\n",
      "31 => formula 1 - a sport where both Michael Schumacher and Lewis Hamilton are known for.\n",
      "32 => table tennis - a sport where both Ma Long and Zhang Jike are known for.\n",
      "33 => baseball - a sport where both Derek Jeter and Ichiro Suzuki are known for.\n",
      "34 => tennis - a sport where both Serena Williams and Steffi Graf are known for.\n",
      "35 => volleyball - a sport where both Karch Kiraly and Giba are known for.\n",
      "36 => golf - a sport where both Tiger Woods and Jack Nicklaus are known for.\n",
      "37 => baseball - a sport where both Barry Bonds and Ken Griffey Jr. are known for.\n",
      "38 => golf - a sport where both Tiger Woods and Phil Mickelson are known for.\n",
      "39 => soccer - a sport where both Lionel Messi and Cristiano Ronaldo are known for.\n",
      "40 => boxing - a sport where both Muhammad Ali and Mike Tyson are known for.\n",
      "41 => table tennis - a sport where both Jan-Ove Waldner and Ma Long are known for.\n",
      "42 => tennis - a sport where both Novak Djokovic and Andy Murray are known for.\n",
      "43 => swimming - a sport where both Michael Phelps and Ian Thorpe are known for.\n",
      "44 => swimming - a sport where both Katie Ledecky and Federica Pellegrini are known for.\n",
      "45 => figure skating - a sport where both Yuzuru Hanyu and Evgeni Plushenko are known for.\n",
      "46 => cricket - a sport where both Virat Kohli and Steve Smith are known for.\n",
      "47 => badminton - a sport where both Carolina Marín and Saina Nehwal are known for.\n",
      "48 => figure skating - a sport where both Tessa Virtue and Scott Moir are known for.\n",
      "49 => skiing - a sport where both Marcel Hirscher and Alberto Tomba are known for.\n",
      "50 => skiing - a sport where both Lindsey Vonn and Ingemar Stenmark are known for.\n",
      "51 => athletics - a sport where both Mo Farah and Haile Gebrselassie are known for.\n",
      "52 => gymnastics - a sport where both Kohei Uchimura and Vitaly Scherbo are known for.\n",
      "53 => basketball - a sport where both Stephen Curry and Kevin Durant are known for.\n",
      "54 => cricket - a sport where both Michael Vaughan and Sourav Ganguly are known for.\n",
      "55 => skiing - a sport where both Lindsey Vonn and Mikaela Shiffrin are known for.\n",
      "56 => badminton - a sport where both Lin Dan and Lee Chong Wei are known for.\n",
      "57 => athletics - a sport where both Allyson Felix and Jackie Joyner-Kersee are known for.\n"
     ]
    }
   ],
   "source": [
    "for idx, sample in enumerate(dataset.examples):\n",
    "    print(idx, \"=>\", sample)"
   ]
  },
  {
   "cell_type": "code",
   "execution_count": 9,
   "metadata": {},
   "outputs": [
    {
     "name": "stdout",
     "output_type": "stream",
     "text": [
      "Given two entities, find a common link between them.\n",
      "#\n",
      "What is a common link between Michelle Williams and Marilyn Monroe?\n",
      "A: My Week with Marilyn - a movie where Michelle Williams played the role of Marilyn Monroe.\n",
      "#\n",
      "What is a common link between Fallingwater and Guggenheim Museum?\n",
      "A: Frank Lloyd Wright - who was the architect of both buildings Fallingwater and Guggenheim Museum.\n",
      "#\n",
      "What is a common link between Roger Federer and Rafael Nadal?\n",
      "A: tennis - a sport where both Roger Federer and Rafael Nadal are known for.\n",
      "#\n",
      "What is a common link between Charles Darwin and Flamenco?\n",
      "A: none - there is no connection between Charles Darwin and Flamenco.\n",
      "#\n",
      "What is a common link between Mr. Fantastic and Elastigirl?\n",
      "A: elastic powers - an attribute that both characters Mr. Fantastic and Elastigirl possess.\n",
      "#\n",
      "What is a common link between Jonah Lomu and Richie McCaw?\n",
      "A:\n",
      "rugby - a sport where both Jonah Lomu and Richie McCaw are known for.\n"
     ]
    }
   ],
   "source": [
    "idx = 19\n",
    "\n",
    "question, answer = dataset[idx]\n",
    "print(question)\n",
    "print(answer)"
   ]
  },
  {
   "cell_type": "code",
   "execution_count": 10,
   "metadata": {},
   "outputs": [],
   "source": [
    "from src.tokens import prepare_input\n",
    "\n",
    "inputs = prepare_input(prompts=question, tokenizer=mt)"
   ]
  },
  {
   "cell_type": "code",
   "execution_count": 11,
   "metadata": {},
   "outputs": [
    {
     "name": "stderr",
     "output_type": "stream",
     "text": [
      "You're using a PreTrainedTokenizerFast tokenizer. Please note that with a fast tokenizer, using the `__call__` method is faster than using a method to encode the text followed by a call to the `pad` method to get a padded encoding.\n",
      "We detected that you are passing `past_key_values` as a tuple and this is deprecated and will be removed in v4.43. Please use an appropriate `Cache` class (https://huggingface.co/docs/transformers/v4.41.3/en/internal/generation_utils#transformers.Cache)\n"
     ]
    },
    {
     "data": {
      "text/plain": [
       "[PredictedToken(token=' rugby', prob=0.38151416182518005, logit=20.859375, token_id=47550),\n",
       " PredictedToken(token=' New', prob=0.2663397789001465, logit=20.5, token_id=1561),\n",
       " PredictedToken(token=' All', prob=0.16929587721824646, logit=20.046875, token_id=2052),\n",
       " PredictedToken(token=' Rugby', prob=0.14708681404590607, logit=19.90625, token_id=52002),\n",
       " PredictedToken(token=' they', prob=0.013054695911705494, logit=17.484375, token_id=814)]"
      ]
     },
     "execution_count": 11,
     "metadata": {},
     "output_type": "execute_result"
    }
   ],
   "source": [
    "from src.functional import predict_next_token\n",
    "\n",
    "clean_predictions = predict_next_token(\n",
    "    mt=mt,\n",
    "    inputs=inputs\n",
    ")[0]\n",
    "clean_predictions"
   ]
  },
  {
   "cell_type": "code",
   "execution_count": 12,
   "metadata": {},
   "outputs": [
    {
     "data": {
      "text/plain": [
       "([PredictedToken(token=' rugby', prob=0.40934619307518005, logit=19.515625, token_id=47550),\n",
       "  PredictedToken(token=' New', prob=0.22606243193149567, logit=18.921875, token_id=1561),\n",
       "  PredictedToken(token=' All', prob=0.1760576069355011, logit=18.671875, token_id=2052),\n",
       "  PredictedToken(token=' Rugby', prob=0.11546139419078827, logit=18.25, token_id=52002),\n",
       "  PredictedToken(token=' both', prob=0.022036192938685417, logit=16.59375, token_id=2225)],\n",
       " {47550: (1,\n",
       "   PredictedToken(token=' rugby', prob=0.40934619307518005, logit=19.515625, token_id=47550))})"
      ]
     },
     "execution_count": 12,
     "metadata": {},
     "output_type": "execute_result"
    }
   ],
   "source": [
    "from src.functional import get_hs, logit_lens, PatchSpec\n",
    "\n",
    "ablate_mlps : list[PatchSpec] = [\n",
    "    PatchSpec(\n",
    "        location=(mt.mlp_module_name_format.format(i), -1),\n",
    "        patch=mean_states[mt.mlp_module_name_format.format(i)]\n",
    "    ) \n",
    "    for i in [0, 1]\n",
    "]\n",
    "\n",
    "last_h = get_hs(\n",
    "    mt=mt,\n",
    "    input=inputs,\n",
    "    locations=(mt.layer_name_format.format(mt.n_layer-1), -1),\n",
    "    patches=ablate_mlps\n",
    ")\n",
    "\n",
    "ablated_pred, track_ans = logit_lens(\n",
    "    mt=mt,\n",
    "    h=last_h,\n",
    "    interested_tokens=[clean_predictions[0].token_id]\n",
    ")\n",
    "ablated_pred, track_ans"
   ]
  },
  {
   "cell_type": "code",
   "execution_count": 13,
   "metadata": {},
   "outputs": [
    {
     "data": {
      "text/plain": [
       "(1,\n",
       " PredictedToken(token=' rugby', prob=0.40934619307518005, logit=19.515625, token_id=47550))"
      ]
     },
     "execution_count": 13,
     "metadata": {},
     "output_type": "execute_result"
    }
   ],
   "source": [
    "list(track_ans.values())[0]"
   ]
  },
  {
   "cell_type": "code",
   "execution_count": 14,
   "metadata": {},
   "outputs": [
    {
     "data": {
      "text/plain": [
       "47550"
      ]
     },
     "execution_count": 14,
     "metadata": {},
     "output_type": "execute_result"
    }
   ],
   "source": [
    "clean_predictions[0].token_id"
   ]
  },
  {
   "cell_type": "code",
   "execution_count": 53,
   "metadata": {},
   "outputs": [],
   "source": [
    "from tqdm.auto import tqdm\n",
    "\n",
    "@torch.inference_mode()\n",
    "def check_ablation_effect(\n",
    "    mt: ModelandTokenizer,\n",
    "    question: str,\n",
    "    direction: Literal[\"asc\", \"desc\"] = \"asc\"\n",
    "):\n",
    "    inputs = prepare_input(prompts=question, tokenizer=mt)\n",
    "    answer = predict_next_token(mt=mt, inputs=inputs, k=1)[0][0]\n",
    "    ablation_spec: list[PatchSpec] = []\n",
    "    effects = {}\n",
    "\n",
    "    layers = list(range(mt.n_layer)) if direction == \"asc\" else list(range(mt.n_layer-1, -1, -1))\n",
    "    for i in tqdm(layers):\n",
    "        ablation_spec.append(\n",
    "            PatchSpec(\n",
    "                location=(mt.mlp_module_name_format.format(i), -1),\n",
    "                # patch=mean_states[mt.mlp_module_name_format.format(i)]\n",
    "                patch=torch.zeros_like(mean_states[mt.mlp_module_name_format.format(i)])\n",
    "            )\n",
    "        )\n",
    "\n",
    "        ablated_last_h = get_hs(\n",
    "            mt=mt, \n",
    "            input=inputs,\n",
    "            locations=(mt.layer_name_format.format(mt.n_layer-1), -1),\n",
    "            patches=ablation_spec\n",
    "        )\n",
    "\n",
    "        ablated_pred, track_ans =logit_lens(mt=mt, h=ablated_last_h, interested_tokens=[answer.token_id])\n",
    "        rank, track_ans = list(track_ans.values())[0]\n",
    "        effects[i] = track_ans\n",
    "    \n",
    "    return answer, effects"
   ]
  },
  {
   "cell_type": "code",
   "execution_count": 54,
   "metadata": {},
   "outputs": [],
   "source": [
    "from src.utils.typing import PredictedToken\n",
    "\n",
    "def process_ablation_effects(\n",
    "    ablation_effects: list[tuple[PredictedToken], dict[int, PredictedToken]],\n",
    "    metric: str = \"prob\"\n",
    "):\n",
    "    scores = {}\n",
    "    for answer, effects in ablation_effects:\n",
    "        for layer, effect in effects.items():\n",
    "            if layer not in scores:\n",
    "                scores[layer] = []\n",
    "            scores[layer].append(getattr(effect, metric)/getattr(answer, metric))\n",
    "    scores = {k: np.mean(v) for k, v in scores.items()}\n",
    "    return scores"
   ]
  },
  {
   "cell_type": "code",
   "execution_count": 55,
   "metadata": {},
   "outputs": [
    {
     "name": "stderr",
     "output_type": "stream",
     "text": [
      "100%|██████████| 32/32 [00:19<00:00,  1.65it/s]\n"
     ]
    }
   ],
   "source": [
    "answer, effects_asc = check_ablation_effect(mt=mt, question=question)"
   ]
  },
  {
   "cell_type": "code",
   "execution_count": 56,
   "metadata": {},
   "outputs": [
    {
     "name": "stdout",
     "output_type": "stream",
     "text": [
      "Processing 1/5\n"
     ]
    },
    {
     "name": "stderr",
     "output_type": "stream",
     "text": [
      "100%|██████████| 32/32 [00:19<00:00,  1.65it/s]\n",
      "100%|██████████| 32/32 [00:19<00:00,  1.67it/s]\n"
     ]
    },
    {
     "name": "stdout",
     "output_type": "stream",
     "text": [
      "Processing 2/5\n"
     ]
    },
    {
     "name": "stderr",
     "output_type": "stream",
     "text": [
      "100%|██████████| 32/32 [00:19<00:00,  1.65it/s]\n",
      "100%|██████████| 32/32 [00:19<00:00,  1.66it/s]\n"
     ]
    },
    {
     "name": "stdout",
     "output_type": "stream",
     "text": [
      "Processing 3/5\n"
     ]
    },
    {
     "name": "stderr",
     "output_type": "stream",
     "text": [
      "100%|██████████| 32/32 [00:19<00:00,  1.65it/s]\n",
      "100%|██████████| 32/32 [00:19<00:00,  1.65it/s]\n"
     ]
    },
    {
     "name": "stdout",
     "output_type": "stream",
     "text": [
      "Processing 4/5\n"
     ]
    },
    {
     "name": "stderr",
     "output_type": "stream",
     "text": [
      "100%|██████████| 32/32 [00:19<00:00,  1.65it/s]\n",
      "100%|██████████| 32/32 [00:19<00:00,  1.65it/s]\n"
     ]
    },
    {
     "name": "stdout",
     "output_type": "stream",
     "text": [
      "Processing 5/5\n"
     ]
    },
    {
     "name": "stderr",
     "output_type": "stream",
     "text": [
      "100%|██████████| 32/32 [00:20<00:00,  1.59it/s]\n",
      "100%|██████████| 32/32 [00:19<00:00,  1.61it/s]\n"
     ]
    }
   ],
   "source": [
    "ablation_effects_asc = []\n",
    "ablation_effects_desc = []\n",
    "\n",
    "limit = 5\n",
    "for idx in range(limit):\n",
    "    print(f\"Processing {idx+1}/{limit}\")\n",
    "    question, answer = dataset[idx]\n",
    "    answer, effects = check_ablation_effect(mt=mt, question=question)\n",
    "    ablation_effects_asc.append((answer, effects))\n",
    "\n",
    "    answer, effects = check_ablation_effect(mt=mt, question=question, direction=\"desc\")\n",
    "    ablation_effects_desc.append((answer, effects))"
   ]
  },
  {
   "cell_type": "code",
   "execution_count": 57,
   "metadata": {},
   "outputs": [
    {
     "data": {
      "image/png": "[encoded data removed]",
      "text/plain": [
       "<Figure size 1500x500 with 1 Axes>"
      ]
     },
     "metadata": {},
     "output_type": "display_data"
    }
   ],
   "source": [
    "scores_asc = process_ablation_effects(ablation_effects_asc)\n",
    "scores_desc = process_ablation_effects(ablation_effects_desc)\n",
    "\n",
    "import matplotlib.pyplot as plt\n",
    "\n",
    "keys = list(range(mt.n_layer))\n",
    "plt.figure(figsize=(15, 5))\n",
    "plt.plot([scores_asc[k] for k in keys], marker=\"o\", label=\"asc\")\n",
    "plt.plot([scores_desc[k] for k in keys], marker=\"o\", label=\"desc\")\n",
    "plt.xticks(keys, rotation=90)\n",
    "plt.xlabel(\"Layer Index\")\n",
    "plt.ylabel(\"ans_abl/ans_clean\")\n",
    "plt.legend()\n",
    "\n",
    "plt.show()"
   ]
  },
  {
   "cell_type": "code",
   "execution_count": 52,
   "metadata": {},
   "outputs": [
    {
     "data": {
      "text/plain": [
       "torch.Size([4096])"
      ]
     },
     "execution_count": 52,
     "metadata": {},
     "output_type": "execute_result"
    }
   ],
   "source": [
    "mean_states[mt.mlp_module_name_format.format(5)].shape"
   ]
  },
  {
   "cell_type": "code",
   "execution_count": null,
   "metadata": {},
   "outputs": [],
   "source": []
  }
 ],
 "metadata": {
  "kernelspec": {
   "display_name": "retrieval",
   "language": "python",
   "name": "python3"
  },
  "language_info": {
   "codemirror_mode": {
    "name": "ipython",
    "version": 3
   },
   "file_extension": ".py",
   "mimetype": "text/x-python",
   "name": "python",
   "nbconvert_exporter": "python",
   "pygments_lexer": "ipython3",
   "version": "3.11.9"
  }
 },
 "nbformat": 4,
 "nbformat_minor": 2
}
