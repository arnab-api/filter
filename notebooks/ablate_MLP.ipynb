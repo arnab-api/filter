{
 "cells": [
  {
   "cell_type": "code",
   "execution_count": 1,
   "metadata": {},
   "outputs": [],
   "source": [
    "%load_ext autoreload\n",
    "%autoreload 2"
   ]
  },
  {
   "cell_type": "code",
   "execution_count": 2,
   "metadata": {},
   "outputs": [
    {
     "name": "stderr",
     "output_type": "stream",
     "text": [
      "/home/local_arnab/miniconda3/envs/retrieval/lib/python3.11/site-packages/tqdm/auto.py:21: TqdmWarning: IProgress not found. Please update jupyter and ipywidgets. See https://ipywidgets.readthedocs.io/en/stable/user_install.html\n",
      "  from .autonotebook import tqdm as notebook_tqdm\n"
     ]
    },
    {
     "name": "stdout",
     "output_type": "stream",
     "text": [
      "2024-09-10 14:07:57 __main__ INFO     torch.__version__='2.4.1+cu121', torch.version.cuda='12.1'\n",
      "2024-09-10 14:07:58 __main__ INFO     torch.cuda.is_available()=True, torch.cuda.device_count()=1, torch.cuda.get_device_name()='NVIDIA RTX A6000'\n",
      "2024-09-10 14:07:58 __main__ INFO     transformers.__version__='4.44.2'\n"
     ]
    }
   ],
   "source": [
    "import os\n",
    "from tqdm.auto import tqdm\n",
    "\n",
    "import sys\n",
    "sys.path.append(\"../\")\n",
    "import json\n",
    "\n",
    "import logging\n",
    "from src.utils import logging_utils\n",
    "from src.utils import env_utils\n",
    "from src import functional\n",
    "\n",
    "logger = logging.getLogger(__name__)\n",
    "\n",
    "logging.basicConfig(\n",
    "    level=logging.INFO,\n",
    "    format=logging_utils.DEFAULT_FORMAT,\n",
    "    datefmt=logging_utils.DEFAULT_DATEFMT,\n",
    "    stream=sys.stdout,\n",
    ")\n",
    "\n",
    "import torch\n",
    "import transformers\n",
    "\n",
    "logger.info(f\"{torch.__version__=}, {torch.version.cuda=}\")\n",
    "logger.info(f\"{torch.cuda.is_available()=}, {torch.cuda.device_count()=}, {torch.cuda.get_device_name()=}\")\n",
    "logger.info(f\"{transformers.__version__=}\")"
   ]
  },
  {
   "cell_type": "code",
   "execution_count": 3,
   "metadata": {},
   "outputs": [],
   "source": [
    "from dataclasses_json import DataClassJsonMixin\n",
    "from dataclasses import dataclass, field, fields\n",
    "from typing import Optional\n",
    "import random\n",
    "from src.dataset import BridgeSample, BridgeRelation, BridgeDataset\n",
    "from src.dataset import load_bridge_relation, load_bridge_relations, load_bridge_dataset        "
   ]
  },
  {
   "cell_type": "code",
   "execution_count": 4,
   "metadata": {},
   "outputs": [
    {
     "name": "stdout",
     "output_type": "stream",
     "text": [
      "2024-09-10 14:08:00 accelerate.utils.modeling INFO     We will use 90% of the memory on device 0 for storing the model, and 10% for the buffer to avoid OOM. You can set `max_memory` in to a higher value to use more memory (at your own risk).\n"
     ]
    },
    {
     "name": "stderr",
     "output_type": "stream",
     "text": [
      "Loading checkpoint shards: 100%|██████████| 4/4 [00:04<00:00,  1.24s/it]"
     ]
    },
    {
     "name": "stdout",
     "output_type": "stream",
     "text": [
      "2024-09-10 14:08:05 src.models INFO     loaded model </home/local_arnab/Codes/00_MODEL/meta-llama/Meta-Llama-3-8B-Instruct> | size: 15316.516 MB | dtype: torch.float16 | device: cuda:0\n"
     ]
    },
    {
     "name": "stderr",
     "output_type": "stream",
     "text": [
      "\n"
     ]
    }
   ],
   "source": [
    "import torch\n",
    "\n",
    "from nnsight import LanguageModel\n",
    "from src.models import ModelandTokenizer\n",
    "\n",
    "model_key = \"meta-llama/Meta-Llama-3-8B-Instruct\"\n",
    "\n",
    "mt = ModelandTokenizer(\n",
    "    model_key=model_key,\n",
    "    torch_dtype=torch.float16,\n",
    ")"
   ]
  },
  {
   "cell_type": "code",
   "execution_count": 5,
   "metadata": {},
   "outputs": [],
   "source": [
    "states_cache_dir = os.path.join(\n",
    "    env_utils.DEFAULT_RESULTS_DIR,\n",
    "    \"cache_states/mean\",\n",
    "    mt.name.split(\"/\")[-1],\n",
    "    \"wikipedia\"\n",
    ")\n",
    "\n",
    "# os.listdir(states_cache_dir)\n"
   ]
  },
  {
   "cell_type": "code",
   "execution_count": 6,
   "metadata": {},
   "outputs": [],
   "source": [
    "import numpy as np\n",
    "\n",
    "def load_mean_states():\n",
    "    mean_states = {}\n",
    "    total_tokens = 0\n",
    "    for doc_cache in os.listdir(states_cache_dir):\n",
    "        npz_file = np.load(os.path.join(states_cache_dir, doc_cache), allow_pickle=True)\n",
    "        input_ids = npz_file[\"input_ids\"]\n",
    "        token_count = input_ids.shape[1]\n",
    "        outputs = npz_file[\"outputs\"].item()\n",
    "        for key, value in outputs.items():\n",
    "            if key not in mean_states:\n",
    "                mean_states[key] = value * token_count\n",
    "            else:\n",
    "                mean_states[key] += value * token_count\n",
    "        total_tokens += token_count\n",
    "    \n",
    "    for key in mean_states.keys():\n",
    "        mean_states[key] = torch.Tensor(mean_states[key]).squeeze() / total_tokens\n",
    "    \n",
    "    return mean_states\n",
    "\n",
    "# npz_file = np.load(os.path.join(states_cache_dir, \"0.npz\"), allow_pickle=True)\n",
    "# npz_file.files\n",
    "\n",
    "# outputs = npz_file[\"outputs\"].item()\n",
    "\n",
    "mean_states = load_mean_states()"
   ]
  },
  {
   "cell_type": "code",
   "execution_count": 7,
   "metadata": {},
   "outputs": [
    {
     "name": "stdout",
     "output_type": "stream",
     "text": [
      "2024-09-10 14:08:10 src.utils.experiment_utils INFO     setting all seeds to 123456\n",
      "2024-09-10 14:08:10 src.dataset INFO     initialized bridge relation superpower_characters with 43 examples\n",
      "2024-09-10 14:08:10 src.dataset INFO     initialized bridge relation sport_players with 58 examples\n",
      "2024-09-10 14:08:10 src.dataset INFO     initialized bridge relation movie_actor with 58 examples\n",
      "2024-09-10 14:08:10 src.dataset INFO     initialized bridge relation architect_building with 30 examples\n",
      "2024-09-10 14:08:10 src.dataset INFO     initialized bridge relation none with 46 examples\n",
      "2024-09-10 14:08:10 src.dataset INFO     initialized bridge dataset with 5 relations and 293 examples\n",
      "2024-09-10 14:08:10 src.dataset INFO     initialized bridge relation sport_players with 58 examples\n"
     ]
    }
   ],
   "source": [
    "from typing import Literal\n",
    "from src.utils import experiment_utils\n",
    "\n",
    "experiment_utils.set_seed(123456)\n",
    "\n",
    "relation_name: Literal[\n",
    "    \"architect_building\",\n",
    "    \"movie_actor\",\n",
    "    \"sport_players\",\n",
    "    \"superpower_characters\",\n",
    "    \"all\",\n",
    "] = \"sport_players\"\n",
    "\n",
    "\n",
    "cached_known_dir = os.path.join(\n",
    "    env_utils.DEFAULT_DATA_DIR, \"bridge_cached\", \n",
    "    mt.name.split(\"/\")[-1]\n",
    ")\n",
    "# known_data_file = os.listdir(cached_known_dir)[-1]\n",
    "known_data_file = \"filtered_2024-09-06T00:58:32.777195.json\"\n",
    "\n",
    "cached_known_dir = os.path.join(\n",
    "    env_utils.DEFAULT_DATA_DIR, \"bridge_cached\", mt.name.split(\"/\")[-1]\n",
    ")\n",
    "with open(os.path.join(cached_known_dir, known_data_file), \"r\") as f:\n",
    "    json_data = json.load(f)\n",
    "\n",
    "dataset = BridgeDataset.from_dict(json_data)\n",
    "if relation_name != \"all\":\n",
    "    relation_icq = None\n",
    "    for rel in json_data[\"relations\"]:\n",
    "        if rel[\"name\"] == relation_name:\n",
    "            relation_icq = BridgeRelation.from_dict(rel)\n",
    "            break\n",
    "    assert (\n",
    "        relation_icq is not None\n",
    "    ), f\"{relation_name=} is not found. Available relations: {[r['name'] for r in json_data['relations']]}\"\n",
    "    dataset.examples = relation_icq.examples\n",
    "dataset.ensure_icl_not_in_examples()"
   ]
  },
  {
   "cell_type": "code",
   "execution_count": 8,
   "metadata": {},
   "outputs": [
    {
     "name": "stdout",
     "output_type": "stream",
     "text": [
      "0 => baseball - a sport where both Babe Ruth and Hank Aaron are known for.\n",
      "1 => boxing - a sport where both Floyd Mayweather and Manny Pacquiao are known for.\n",
      "2 => athletics - a sport where both Usain Bolt and Carl Lewis are known for.\n",
      "3 => basketball - a sport where both Michael Jordan and LeBron James are known for.\n",
      "4 => soccer - a sport where both Zinedine Zidane and Ronaldinho are known for.\n",
      "5 => table tennis - a sport where both Zhang Jike and Timo Boll are known for.\n",
      "6 => rugby - a sport where both Richie McCaw and Brian O'Driscoll are known for.\n",
      "7 => rugby - a sport where both Jonah Lomu and Dan Carter are known for.\n",
      "8 => cricket - a sport where both Sachin Tendulkar and Brian Lara are known for.\n",
      "9 => surfing - a sport where both Kelly Slater and Andy Irons are known for.\n",
      "10 => cricket - a sport where both Shane Warne and Muttiah Muralitharan are known for.\n",
      "11 => wrestling - a sport where both Hulk Hogan and The Rock are known for.\n",
      "12 => soccer - a sport where both Pelé and Diego Maradona are known for.\n",
      "13 => gymnastics - a sport where both Simone Biles and Nadia Comaneci are known for.\n",
      "14 => boxing - a sport where both Sugar Ray Leonard and Roberto Durán are known for.\n",
      "15 => swimming - a sport where both Michael Phelps and Ryan Lochte are known for.\n",
      "16 => volleyball - a sport where both Kerri Walsh Jennings and Misty May-Treanor are known for.\n",
      "17 => chess - a sport where both Garry Kasparov and Magnus Carlsen are known for.\n",
      "18 => ice hockey - a sport where both Sidney Crosby and Alexander Ovechkin are known for.\n",
      "19 => rugby - a sport where both Jonah Lomu and Richie McCaw are known for.\n",
      "20 => swimming - a sport where both Ryan Lochte and Caeleb Dressel are known for.\n",
      "21 => basketball - a sport where both Kobe Bryant and Magic Johnson are known for.\n",
      "22 => ice hockey - a sport where both Jaromír Jágr and Patrick Roy are known for.\n",
      "23 => golf - a sport where both Arnold Palmer and Gary Player are known for.\n",
      "24 => cycling - a sport where both Eddy Merckx and Lance Armstrong are known for.\n",
      "25 => golf - a sport where both Phil Mickelson and Rory McIlroy are known for.\n",
      "26 => american football - a sport where both Tom Brady and Peyton Manning are known for.\n",
      "27 => formula 1 - a sport where both Ayrton Senna and Alain Prost are known for.\n",
      "28 => cycling - a sport where both Chris Froome and Alberto Contador are known for.\n",
      "29 => volleyball - a sport where both Sergey Tetyukhin and Gilberto Godoy Filho are known for.\n",
      "30 => ice hockey - a sport where both Wayne Gretzky and Mario Lemieux are known for.\n",
      "31 => formula 1 - a sport where both Michael Schumacher and Lewis Hamilton are known for.\n",
      "32 => table tennis - a sport where both Ma Long and Zhang Jike are known for.\n",
      "33 => baseball - a sport where both Derek Jeter and Ichiro Suzuki are known for.\n",
      "34 => tennis - a sport where both Serena Williams and Steffi Graf are known for.\n",
      "35 => volleyball - a sport where both Karch Kiraly and Giba are known for.\n",
      "36 => golf - a sport where both Tiger Woods and Jack Nicklaus are known for.\n",
      "37 => baseball - a sport where both Barry Bonds and Ken Griffey Jr. are known for.\n",
      "38 => golf - a sport where both Tiger Woods and Phil Mickelson are known for.\n",
      "39 => soccer - a sport where both Lionel Messi and Cristiano Ronaldo are known for.\n",
      "40 => boxing - a sport where both Muhammad Ali and Mike Tyson are known for.\n",
      "41 => table tennis - a sport where both Jan-Ove Waldner and Ma Long are known for.\n",
      "42 => tennis - a sport where both Novak Djokovic and Andy Murray are known for.\n",
      "43 => swimming - a sport where both Michael Phelps and Ian Thorpe are known for.\n",
      "44 => swimming - a sport where both Katie Ledecky and Federica Pellegrini are known for.\n",
      "45 => figure skating - a sport where both Yuzuru Hanyu and Evgeni Plushenko are known for.\n",
      "46 => cricket - a sport where both Virat Kohli and Steve Smith are known for.\n",
      "47 => badminton - a sport where both Carolina Marín and Saina Nehwal are known for.\n",
      "48 => figure skating - a sport where both Tessa Virtue and Scott Moir are known for.\n",
      "49 => skiing - a sport where both Marcel Hirscher and Alberto Tomba are known for.\n",
      "50 => skiing - a sport where both Lindsey Vonn and Ingemar Stenmark are known for.\n",
      "51 => athletics - a sport where both Mo Farah and Haile Gebrselassie are known for.\n",
      "52 => gymnastics - a sport where both Kohei Uchimura and Vitaly Scherbo are known for.\n",
      "53 => basketball - a sport where both Stephen Curry and Kevin Durant are known for.\n",
      "54 => cricket - a sport where both Michael Vaughan and Sourav Ganguly are known for.\n",
      "55 => skiing - a sport where both Lindsey Vonn and Mikaela Shiffrin are known for.\n",
      "56 => badminton - a sport where both Lin Dan and Lee Chong Wei are known for.\n",
      "57 => athletics - a sport where both Allyson Felix and Jackie Joyner-Kersee are known for.\n"
     ]
    }
   ],
   "source": [
    "for idx, sample in enumerate(dataset.examples):\n",
    "    print(idx, \"=>\", sample)"
   ]
  },
  {
   "cell_type": "code",
   "execution_count": 9,
   "metadata": {},
   "outputs": [
    {
     "name": "stdout",
     "output_type": "stream",
     "text": [
      "Given two entities, find a common link between them.\n",
      "#\n",
      "What is a common link between Michelle Williams and Marilyn Monroe?\n",
      "A: My Week with Marilyn - a movie where Michelle Williams played the role of Marilyn Monroe.\n",
      "#\n",
      "What is a common link between Fallingwater and Guggenheim Museum?\n",
      "A: Frank Lloyd Wright - who was the architect of both buildings Fallingwater and Guggenheim Museum.\n",
      "#\n",
      "What is a common link between Roger Federer and Rafael Nadal?\n",
      "A: tennis - a sport where both Roger Federer and Rafael Nadal are known for.\n",
      "#\n",
      "What is a common link between Charles Darwin and Flamenco?\n",
      "A: none - there is no connection between Charles Darwin and Flamenco.\n",
      "#\n",
      "What is a common link between Mr. Fantastic and Elastigirl?\n",
      "A: elastic powers - an attribute that both characters Mr. Fantastic and Elastigirl possess.\n",
      "#\n",
      "What is a common link between Jonah Lomu and Richie McCaw?\n",
      "A:\n",
      "rugby - a sport where both Jonah Lomu and Richie McCaw are known for.\n"
     ]
    }
   ],
   "source": [
    "idx = 19\n",
    "\n",
    "question, answer = dataset[idx]\n",
    "print(question)\n",
    "print(answer)"
   ]
  },
  {
   "cell_type": "code",
   "execution_count": 10,
   "metadata": {},
   "outputs": [],
   "source": [
    "from src.tokens import prepare_input\n",
    "\n",
    "inputs = prepare_input(prompts=question, tokenizer=mt)"
   ]
  },
  {
   "cell_type": "code",
   "execution_count": 11,
   "metadata": {},
   "outputs": [
    {
     "name": "stderr",
     "output_type": "stream",
     "text": [
      "You're using a PreTrainedTokenizerFast tokenizer. Please note that with a fast tokenizer, using the `__call__` method is faster than using a method to encode the text followed by a call to the `pad` method to get a padded encoding.\n",
      "We detected that you are passing `past_key_values` as a tuple and this is deprecated and will be removed in v4.43. Please use an appropriate `Cache` class (https://huggingface.co/docs/transformers/v4.41.3/en/internal/generation_utils#transformers.Cache)\n"
     ]
    },
    {
     "data": {
      "text/plain": [
       "[PredictedToken(token=' rugby', prob=0.38151416182518005, logit=20.859375, token_id=47550),\n",
       " PredictedToken(token=' New', prob=0.2663397789001465, logit=20.5, token_id=1561),\n",
       " PredictedToken(token=' All', prob=0.16929587721824646, logit=20.046875, token_id=2052),\n",
       " PredictedToken(token=' Rugby', prob=0.14708681404590607, logit=19.90625, token_id=52002),\n",
       " PredictedToken(token=' they', prob=0.013054695911705494, logit=17.484375, token_id=814)]"
      ]
     },
     "execution_count": 11,
     "metadata": {},
     "output_type": "execute_result"
    }
   ],
   "source": [
    "from src.functional import predict_next_token\n",
    "\n",
    "clean_predictions = predict_next_token(\n",
    "    mt=mt,\n",
    "    inputs=inputs\n",
    ")[0]\n",
    "clean_predictions"
   ]
  },
  {
   "cell_type": "code",
   "execution_count": 12,
   "metadata": {},
   "outputs": [
    {
     "data": {
      "text/plain": [
       "([PredictedToken(token=' rugby', prob=0.40934619307518005, logit=19.515625, token_id=47550),\n",
       "  PredictedToken(token=' New', prob=0.22606243193149567, logit=18.921875, token_id=1561),\n",
       "  PredictedToken(token=' All', prob=0.1760576069355011, logit=18.671875, token_id=2052),\n",
       "  PredictedToken(token=' Rugby', prob=0.11546139419078827, logit=18.25, token_id=52002),\n",
       "  PredictedToken(token=' both', prob=0.022036192938685417, logit=16.59375, token_id=2225)],\n",
       " {47550: (1,\n",
       "   PredictedToken(token=' rugby', prob=0.40934619307518005, logit=19.515625, token_id=47550))})"
      ]
     },
     "execution_count": 12,
     "metadata": {},
     "output_type": "execute_result"
    }
   ],
   "source": [
    "from src.functional import get_hs, logit_lens, PatchSpec\n",
    "\n",
    "ablate_mlps : list[PatchSpec] = [\n",
    "    PatchSpec(\n",
    "        location=(mt.mlp_module_name_format.format(i), -1),\n",
    "        patch=mean_states[mt.mlp_module_name_format.format(i)]\n",
    "    ) \n",
    "    for i in [0, 1]\n",
    "]\n",
    "\n",
    "last_h = get_hs(\n",
    "    mt=mt,\n",
    "    input=inputs,\n",
    "    locations=(mt.layer_name_format.format(mt.n_layer-1), -1),\n",
    "    patches=ablate_mlps\n",
    ")\n",
    "\n",
    "ablated_pred, track_ans = logit_lens(\n",
    "    mt=mt,\n",
    "    h=last_h,\n",
    "    interested_tokens=[clean_predictions[0].token_id]\n",
    ")\n",
    "ablated_pred, track_ans"
   ]
  },
  {
   "cell_type": "code",
   "execution_count": 13,
   "metadata": {},
   "outputs": [
    {
     "data": {
      "text/plain": [
       "(1,\n",
       " PredictedToken(token=' rugby', prob=0.40934619307518005, logit=19.515625, token_id=47550))"
      ]
     },
     "execution_count": 13,
     "metadata": {},
     "output_type": "execute_result"
    }
   ],
   "source": [
    "list(track_ans.values())[0]"
   ]
  },
  {
   "cell_type": "code",
   "execution_count": 14,
   "metadata": {},
   "outputs": [
    {
     "data": {
      "text/plain": [
       "47550"
      ]
     },
     "execution_count": 14,
     "metadata": {},
     "output_type": "execute_result"
    }
   ],
   "source": [
    "clean_predictions[0].token_id"
   ]
  },
  {
   "cell_type": "code",
   "execution_count": 15,
   "metadata": {},
   "outputs": [],
   "source": [
    "from tqdm.auto import tqdm\n",
    "\n",
    "@torch.inference_mode()\n",
    "def check_ablation_effect(\n",
    "    mt: ModelandTokenizer,\n",
    "    question: str,\n",
    "    direction: Literal[\"asc\", \"desc\"] = \"asc\"\n",
    "):\n",
    "    inputs = prepare_input(prompts=question, tokenizer=mt)\n",
    "    answer = predict_next_token(mt=mt, inputs=inputs, k=1)[0][0]\n",
    "    ablation_spec: list[PatchSpec] = []\n",
    "    effects = {}\n",
    "\n",
    "    layers = list(range(mt.n_layer)) if direction == \"asc\" else list(range(mt.n_layer-1, -1, -1))\n",
    "    for i in tqdm(layers):\n",
    "        ablation_spec.append(\n",
    "            PatchSpec(\n",
    "                location=(mt.mlp_module_name_format.format(i), -1),\n",
    "                patch=mean_states[mt.mlp_module_name_format.format(i)]\n",
    "                # patch=torch.zeros_like(mean_states[mt.mlp_module_name_format.format(i)])\n",
    "            )\n",
    "        )\n",
    "\n",
    "        ablated_last_h = get_hs(\n",
    "            mt=mt, \n",
    "            input=inputs,\n",
    "            locations=(mt.layer_name_format.format(mt.n_layer-1), -1),\n",
    "            patches=ablation_spec\n",
    "        )\n",
    "\n",
    "        ablated_pred, track_ans =logit_lens(mt=mt, h=ablated_last_h, interested_tokens=[answer.token_id])\n",
    "        rank, track_ans = list(track_ans.values())[0]\n",
    "        effects[i] = track_ans\n",
    "    \n",
    "    return answer, effects"
   ]
  },
  {
   "cell_type": "code",
   "execution_count": 16,
   "metadata": {},
   "outputs": [],
   "source": [
    "from src.utils.typing import PredictedToken\n",
    "\n",
    "def process_ablation_effects(\n",
    "    ablation_effects: list[tuple[PredictedToken], dict[int, PredictedToken]],\n",
    "    metric: str = \"prob\"\n",
    "):\n",
    "    scores = {}\n",
    "    for answer, effects in ablation_effects:\n",
    "        for layer, effect in effects.items():\n",
    "            if layer not in scores:\n",
    "                scores[layer] = []\n",
    "            scores[layer].append(getattr(effect, metric)/getattr(answer, metric))\n",
    "    scores = {k: np.mean(v) for k, v in scores.items()}\n",
    "    return scores"
   ]
  },
  {
   "cell_type": "code",
   "execution_count": 17,
   "metadata": {},
   "outputs": [
    {
     "name": "stderr",
     "output_type": "stream",
     "text": [
      "100%|██████████| 32/32 [00:18<00:00,  1.69it/s]\n"
     ]
    }
   ],
   "source": [
    "answer, effects_asc = check_ablation_effect(mt=mt, question=question)"
   ]
  },
  {
   "cell_type": "code",
   "execution_count": 18,
   "metadata": {},
   "outputs": [
    {
     "name": "stdout",
     "output_type": "stream",
     "text": [
      "Processing 1/58\n"
     ]
    },
    {
     "name": "stderr",
     "output_type": "stream",
     "text": [
      "100%|██████████| 32/32 [00:19<00:00,  1.66it/s]\n",
      "100%|██████████| 32/32 [00:19<00:00,  1.66it/s]\n"
     ]
    },
    {
     "name": "stdout",
     "output_type": "stream",
     "text": [
      "Processing 2/58\n"
     ]
    },
    {
     "name": "stderr",
     "output_type": "stream",
     "text": [
      "100%|██████████| 32/32 [00:19<00:00,  1.68it/s]\n",
      "100%|██████████| 32/32 [00:19<00:00,  1.68it/s]\n"
     ]
    },
    {
     "name": "stdout",
     "output_type": "stream",
     "text": [
      "Processing 3/58\n"
     ]
    },
    {
     "name": "stderr",
     "output_type": "stream",
     "text": [
      "100%|██████████| 32/32 [00:18<00:00,  1.71it/s]\n",
      "100%|██████████| 32/32 [00:18<00:00,  1.70it/s]\n"
     ]
    },
    {
     "name": "stdout",
     "output_type": "stream",
     "text": [
      "Processing 4/58\n"
     ]
    },
    {
     "name": "stderr",
     "output_type": "stream",
     "text": [
      "100%|██████████| 32/32 [00:19<00:00,  1.66it/s]\n",
      "100%|██████████| 32/32 [00:19<00:00,  1.66it/s]\n"
     ]
    },
    {
     "name": "stdout",
     "output_type": "stream",
     "text": [
      "Processing 5/58\n"
     ]
    },
    {
     "name": "stderr",
     "output_type": "stream",
     "text": [
      "100%|██████████| 32/32 [00:19<00:00,  1.65it/s]\n",
      "100%|██████████| 32/32 [00:19<00:00,  1.66it/s]\n"
     ]
    },
    {
     "name": "stdout",
     "output_type": "stream",
     "text": [
      "Processing 6/58\n"
     ]
    },
    {
     "name": "stderr",
     "output_type": "stream",
     "text": [
      "100%|██████████| 32/32 [00:19<00:00,  1.66it/s]\n",
      "100%|██████████| 32/32 [00:19<00:00,  1.65it/s]\n"
     ]
    },
    {
     "name": "stdout",
     "output_type": "stream",
     "text": [
      "Processing 7/58\n"
     ]
    },
    {
     "name": "stderr",
     "output_type": "stream",
     "text": [
      "100%|██████████| 32/32 [00:19<00:00,  1.67it/s]\n",
      "100%|██████████| 32/32 [00:19<00:00,  1.65it/s]\n"
     ]
    },
    {
     "name": "stdout",
     "output_type": "stream",
     "text": [
      "Processing 8/58\n"
     ]
    },
    {
     "name": "stderr",
     "output_type": "stream",
     "text": [
      "100%|██████████| 32/32 [00:19<00:00,  1.66it/s]\n",
      "100%|██████████| 32/32 [00:19<00:00,  1.66it/s]\n"
     ]
    },
    {
     "name": "stdout",
     "output_type": "stream",
     "text": [
      "Processing 9/58\n"
     ]
    },
    {
     "name": "stderr",
     "output_type": "stream",
     "text": [
      "100%|██████████| 32/32 [00:19<00:00,  1.66it/s]\n",
      "100%|██████████| 32/32 [00:18<00:00,  1.70it/s]\n"
     ]
    },
    {
     "name": "stdout",
     "output_type": "stream",
     "text": [
      "Processing 10/58\n"
     ]
    },
    {
     "name": "stderr",
     "output_type": "stream",
     "text": [
      "100%|██████████| 32/32 [00:19<00:00,  1.67it/s]\n",
      "100%|██████████| 32/32 [00:19<00:00,  1.66it/s]\n"
     ]
    },
    {
     "name": "stdout",
     "output_type": "stream",
     "text": [
      "Processing 11/58\n"
     ]
    },
    {
     "name": "stderr",
     "output_type": "stream",
     "text": [
      "100%|██████████| 32/32 [00:18<00:00,  1.74it/s]\n",
      "100%|██████████| 32/32 [00:18<00:00,  1.69it/s]\n"
     ]
    },
    {
     "name": "stdout",
     "output_type": "stream",
     "text": [
      "Processing 12/58\n"
     ]
    },
    {
     "name": "stderr",
     "output_type": "stream",
     "text": [
      "100%|██████████| 32/32 [00:18<00:00,  1.69it/s]\n",
      "100%|██████████| 32/32 [00:19<00:00,  1.66it/s]\n"
     ]
    },
    {
     "name": "stdout",
     "output_type": "stream",
     "text": [
      "Processing 13/58\n"
     ]
    },
    {
     "name": "stderr",
     "output_type": "stream",
     "text": [
      "100%|██████████| 32/32 [00:18<00:00,  1.70it/s]\n",
      "100%|██████████| 32/32 [00:19<00:00,  1.65it/s]\n"
     ]
    },
    {
     "name": "stdout",
     "output_type": "stream",
     "text": [
      "Processing 14/58\n"
     ]
    },
    {
     "name": "stderr",
     "output_type": "stream",
     "text": [
      "100%|██████████| 32/32 [00:19<00:00,  1.65it/s]\n",
      "100%|██████████| 32/32 [00:19<00:00,  1.64it/s]\n"
     ]
    },
    {
     "name": "stdout",
     "output_type": "stream",
     "text": [
      "Processing 15/58\n"
     ]
    },
    {
     "name": "stderr",
     "output_type": "stream",
     "text": [
      "100%|██████████| 32/32 [00:19<00:00,  1.65it/s]\n",
      "100%|██████████| 32/32 [00:19<00:00,  1.66it/s]\n"
     ]
    },
    {
     "name": "stdout",
     "output_type": "stream",
     "text": [
      "Processing 16/58\n"
     ]
    },
    {
     "name": "stderr",
     "output_type": "stream",
     "text": [
      "100%|██████████| 32/32 [00:19<00:00,  1.65it/s]\n",
      "100%|██████████| 32/32 [00:19<00:00,  1.66it/s]\n"
     ]
    },
    {
     "name": "stdout",
     "output_type": "stream",
     "text": [
      "Processing 17/58\n"
     ]
    },
    {
     "name": "stderr",
     "output_type": "stream",
     "text": [
      "100%|██████████| 32/32 [00:18<00:00,  1.73it/s]\n",
      "100%|██████████| 32/32 [00:18<00:00,  1.73it/s]\n"
     ]
    },
    {
     "name": "stdout",
     "output_type": "stream",
     "text": [
      "Processing 18/58\n"
     ]
    },
    {
     "name": "stderr",
     "output_type": "stream",
     "text": [
      "100%|██████████| 32/32 [00:19<00:00,  1.66it/s]\n",
      "100%|██████████| 32/32 [00:19<00:00,  1.62it/s]\n"
     ]
    },
    {
     "name": "stdout",
     "output_type": "stream",
     "text": [
      "Processing 19/58\n"
     ]
    },
    {
     "name": "stderr",
     "output_type": "stream",
     "text": [
      "100%|██████████| 32/32 [00:19<00:00,  1.65it/s]\n",
      "100%|██████████| 32/32 [00:19<00:00,  1.62it/s]\n"
     ]
    },
    {
     "name": "stdout",
     "output_type": "stream",
     "text": [
      "Processing 20/58\n"
     ]
    },
    {
     "name": "stderr",
     "output_type": "stream",
     "text": [
      "100%|██████████| 32/32 [00:19<00:00,  1.64it/s]\n",
      "100%|██████████| 32/32 [00:19<00:00,  1.63it/s]\n"
     ]
    },
    {
     "name": "stdout",
     "output_type": "stream",
     "text": [
      "Processing 21/58\n"
     ]
    },
    {
     "name": "stderr",
     "output_type": "stream",
     "text": [
      "100%|██████████| 32/32 [00:19<00:00,  1.65it/s]\n",
      "100%|██████████| 32/32 [00:19<00:00,  1.61it/s]\n"
     ]
    },
    {
     "name": "stdout",
     "output_type": "stream",
     "text": [
      "Processing 22/58\n"
     ]
    },
    {
     "name": "stderr",
     "output_type": "stream",
     "text": [
      "100%|██████████| 32/32 [00:19<00:00,  1.65it/s]\n",
      "100%|██████████| 32/32 [00:19<00:00,  1.62it/s]\n"
     ]
    },
    {
     "name": "stdout",
     "output_type": "stream",
     "text": [
      "Processing 23/58\n"
     ]
    },
    {
     "name": "stderr",
     "output_type": "stream",
     "text": [
      "100%|██████████| 32/32 [00:19<00:00,  1.63it/s]\n",
      "100%|██████████| 32/32 [00:19<00:00,  1.63it/s]\n"
     ]
    },
    {
     "name": "stdout",
     "output_type": "stream",
     "text": [
      "Processing 24/58\n"
     ]
    },
    {
     "name": "stderr",
     "output_type": "stream",
     "text": [
      "100%|██████████| 32/32 [00:19<00:00,  1.62it/s]\n",
      "100%|██████████| 32/32 [00:19<00:00,  1.62it/s]\n"
     ]
    },
    {
     "name": "stdout",
     "output_type": "stream",
     "text": [
      "Processing 25/58\n"
     ]
    },
    {
     "name": "stderr",
     "output_type": "stream",
     "text": [
      "100%|██████████| 32/32 [00:19<00:00,  1.61it/s]\n",
      "100%|██████████| 32/32 [00:19<00:00,  1.65it/s]\n"
     ]
    },
    {
     "name": "stdout",
     "output_type": "stream",
     "text": [
      "Processing 26/58\n"
     ]
    },
    {
     "name": "stderr",
     "output_type": "stream",
     "text": [
      "100%|██████████| 32/32 [00:19<00:00,  1.64it/s]\n",
      "100%|██████████| 32/32 [00:19<00:00,  1.61it/s]\n"
     ]
    },
    {
     "name": "stdout",
     "output_type": "stream",
     "text": [
      "Processing 27/58\n"
     ]
    },
    {
     "name": "stderr",
     "output_type": "stream",
     "text": [
      "100%|██████████| 32/32 [00:19<00:00,  1.65it/s]\n",
      "100%|██████████| 32/32 [00:19<00:00,  1.61it/s]\n"
     ]
    },
    {
     "name": "stdout",
     "output_type": "stream",
     "text": [
      "Processing 28/58\n"
     ]
    },
    {
     "name": "stderr",
     "output_type": "stream",
     "text": [
      "100%|██████████| 32/32 [00:19<00:00,  1.63it/s]\n",
      "100%|██████████| 32/32 [00:19<00:00,  1.63it/s]\n"
     ]
    },
    {
     "name": "stdout",
     "output_type": "stream",
     "text": [
      "Processing 29/58\n"
     ]
    },
    {
     "name": "stderr",
     "output_type": "stream",
     "text": [
      "100%|██████████| 32/32 [00:19<00:00,  1.62it/s]\n",
      "100%|██████████| 32/32 [00:19<00:00,  1.62it/s]\n"
     ]
    },
    {
     "name": "stdout",
     "output_type": "stream",
     "text": [
      "Processing 30/58\n"
     ]
    },
    {
     "name": "stderr",
     "output_type": "stream",
     "text": [
      "100%|██████████| 32/32 [00:19<00:00,  1.64it/s]\n",
      "100%|██████████| 32/32 [00:19<00:00,  1.64it/s]\n"
     ]
    },
    {
     "name": "stdout",
     "output_type": "stream",
     "text": [
      "Processing 31/58\n"
     ]
    },
    {
     "name": "stderr",
     "output_type": "stream",
     "text": [
      "100%|██████████| 32/32 [00:19<00:00,  1.64it/s]\n",
      "100%|██████████| 32/32 [00:19<00:00,  1.66it/s]\n"
     ]
    },
    {
     "name": "stdout",
     "output_type": "stream",
     "text": [
      "Processing 32/58\n"
     ]
    },
    {
     "name": "stderr",
     "output_type": "stream",
     "text": [
      "100%|██████████| 32/32 [00:19<00:00,  1.64it/s]\n",
      "100%|██████████| 32/32 [00:19<00:00,  1.63it/s]\n"
     ]
    },
    {
     "name": "stdout",
     "output_type": "stream",
     "text": [
      "Processing 33/58\n"
     ]
    },
    {
     "name": "stderr",
     "output_type": "stream",
     "text": [
      "100%|██████████| 32/32 [00:19<00:00,  1.62it/s]\n",
      "100%|██████████| 32/32 [00:19<00:00,  1.63it/s]\n"
     ]
    },
    {
     "name": "stdout",
     "output_type": "stream",
     "text": [
      "Processing 34/58\n"
     ]
    },
    {
     "name": "stderr",
     "output_type": "stream",
     "text": [
      "100%|██████████| 32/32 [00:19<00:00,  1.64it/s]\n",
      "100%|██████████| 32/32 [00:19<00:00,  1.61it/s]\n"
     ]
    },
    {
     "name": "stdout",
     "output_type": "stream",
     "text": [
      "Processing 35/58\n"
     ]
    },
    {
     "name": "stderr",
     "output_type": "stream",
     "text": [
      "100%|██████████| 32/32 [00:19<00:00,  1.62it/s]\n",
      "100%|██████████| 32/32 [00:19<00:00,  1.61it/s]\n"
     ]
    },
    {
     "name": "stdout",
     "output_type": "stream",
     "text": [
      "Processing 36/58\n"
     ]
    },
    {
     "name": "stderr",
     "output_type": "stream",
     "text": [
      "100%|██████████| 32/32 [00:19<00:00,  1.64it/s]\n",
      "100%|██████████| 32/32 [00:19<00:00,  1.65it/s]\n"
     ]
    },
    {
     "name": "stdout",
     "output_type": "stream",
     "text": [
      "Processing 37/58\n"
     ]
    },
    {
     "name": "stderr",
     "output_type": "stream",
     "text": [
      "100%|██████████| 32/32 [00:19<00:00,  1.64it/s]\n",
      "100%|██████████| 32/32 [00:19<00:00,  1.63it/s]\n"
     ]
    },
    {
     "name": "stdout",
     "output_type": "stream",
     "text": [
      "Processing 38/58\n"
     ]
    },
    {
     "name": "stderr",
     "output_type": "stream",
     "text": [
      "100%|██████████| 32/32 [00:19<00:00,  1.64it/s]\n",
      "100%|██████████| 32/32 [00:20<00:00,  1.57it/s]\n"
     ]
    },
    {
     "name": "stdout",
     "output_type": "stream",
     "text": [
      "Processing 39/58\n"
     ]
    },
    {
     "name": "stderr",
     "output_type": "stream",
     "text": [
      "100%|██████████| 32/32 [00:19<00:00,  1.64it/s]\n",
      "100%|██████████| 32/32 [00:20<00:00,  1.60it/s]\n"
     ]
    },
    {
     "name": "stdout",
     "output_type": "stream",
     "text": [
      "Processing 40/58\n"
     ]
    },
    {
     "name": "stderr",
     "output_type": "stream",
     "text": [
      "100%|██████████| 32/32 [00:19<00:00,  1.64it/s]\n",
      "100%|██████████| 32/32 [00:19<00:00,  1.61it/s]\n"
     ]
    },
    {
     "name": "stdout",
     "output_type": "stream",
     "text": [
      "Processing 41/58\n"
     ]
    },
    {
     "name": "stderr",
     "output_type": "stream",
     "text": [
      "100%|██████████| 32/32 [00:20<00:00,  1.60it/s]\n",
      "100%|██████████| 32/32 [00:19<00:00,  1.65it/s]\n"
     ]
    },
    {
     "name": "stdout",
     "output_type": "stream",
     "text": [
      "Processing 42/58\n"
     ]
    },
    {
     "name": "stderr",
     "output_type": "stream",
     "text": [
      "100%|██████████| 32/32 [00:19<00:00,  1.65it/s]\n",
      "100%|██████████| 32/32 [00:19<00:00,  1.62it/s]\n"
     ]
    },
    {
     "name": "stdout",
     "output_type": "stream",
     "text": [
      "Processing 43/58\n"
     ]
    },
    {
     "name": "stderr",
     "output_type": "stream",
     "text": [
      "100%|██████████| 32/32 [00:19<00:00,  1.63it/s]\n",
      "100%|██████████| 32/32 [00:19<00:00,  1.65it/s]\n"
     ]
    },
    {
     "name": "stdout",
     "output_type": "stream",
     "text": [
      "Processing 44/58\n"
     ]
    },
    {
     "name": "stderr",
     "output_type": "stream",
     "text": [
      "100%|██████████| 32/32 [00:19<00:00,  1.64it/s]\n",
      "100%|██████████| 32/32 [00:19<00:00,  1.62it/s]\n"
     ]
    },
    {
     "name": "stdout",
     "output_type": "stream",
     "text": [
      "Processing 45/58\n"
     ]
    },
    {
     "name": "stderr",
     "output_type": "stream",
     "text": [
      "100%|██████████| 32/32 [00:19<00:00,  1.65it/s]\n",
      "100%|██████████| 32/32 [00:20<00:00,  1.60it/s]\n"
     ]
    },
    {
     "name": "stdout",
     "output_type": "stream",
     "text": [
      "Processing 46/58\n"
     ]
    },
    {
     "name": "stderr",
     "output_type": "stream",
     "text": [
      "100%|██████████| 32/32 [00:19<00:00,  1.65it/s]\n",
      "100%|██████████| 32/32 [00:20<00:00,  1.60it/s]\n"
     ]
    },
    {
     "name": "stdout",
     "output_type": "stream",
     "text": [
      "Processing 47/58\n"
     ]
    },
    {
     "name": "stderr",
     "output_type": "stream",
     "text": [
      "100%|██████████| 32/32 [00:19<00:00,  1.62it/s]\n",
      "100%|██████████| 32/32 [00:19<00:00,  1.62it/s]\n"
     ]
    },
    {
     "name": "stdout",
     "output_type": "stream",
     "text": [
      "Processing 48/58\n"
     ]
    },
    {
     "name": "stderr",
     "output_type": "stream",
     "text": [
      "100%|██████████| 32/32 [00:19<00:00,  1.60it/s]\n",
      "100%|██████████| 32/32 [00:19<00:00,  1.62it/s]\n"
     ]
    },
    {
     "name": "stdout",
     "output_type": "stream",
     "text": [
      "Processing 49/58\n"
     ]
    },
    {
     "name": "stderr",
     "output_type": "stream",
     "text": [
      "100%|██████████| 32/32 [00:19<00:00,  1.63it/s]\n",
      "100%|██████████| 32/32 [00:19<00:00,  1.60it/s]\n"
     ]
    },
    {
     "name": "stdout",
     "output_type": "stream",
     "text": [
      "Processing 50/58\n"
     ]
    },
    {
     "name": "stderr",
     "output_type": "stream",
     "text": [
      "100%|██████████| 32/32 [00:19<00:00,  1.61it/s]\n",
      "100%|██████████| 32/32 [00:19<00:00,  1.61it/s]\n"
     ]
    },
    {
     "name": "stdout",
     "output_type": "stream",
     "text": [
      "Processing 51/58\n"
     ]
    },
    {
     "name": "stderr",
     "output_type": "stream",
     "text": [
      "100%|██████████| 32/32 [00:19<00:00,  1.64it/s]\n",
      "100%|██████████| 32/32 [00:20<00:00,  1.58it/s]\n"
     ]
    },
    {
     "name": "stdout",
     "output_type": "stream",
     "text": [
      "Processing 52/58\n"
     ]
    },
    {
     "name": "stderr",
     "output_type": "stream",
     "text": [
      "100%|██████████| 32/32 [00:19<00:00,  1.63it/s]\n",
      "100%|██████████| 32/32 [00:19<00:00,  1.62it/s]\n"
     ]
    },
    {
     "name": "stdout",
     "output_type": "stream",
     "text": [
      "Processing 53/58\n"
     ]
    },
    {
     "name": "stderr",
     "output_type": "stream",
     "text": [
      "100%|██████████| 32/32 [00:20<00:00,  1.60it/s]\n",
      "100%|██████████| 32/32 [00:19<00:00,  1.62it/s]\n"
     ]
    },
    {
     "name": "stdout",
     "output_type": "stream",
     "text": [
      "Processing 54/58\n"
     ]
    },
    {
     "name": "stderr",
     "output_type": "stream",
     "text": [
      "100%|██████████| 32/32 [00:19<00:00,  1.61it/s]\n",
      "100%|██████████| 32/32 [00:19<00:00,  1.63it/s]\n"
     ]
    },
    {
     "name": "stdout",
     "output_type": "stream",
     "text": [
      "Processing 55/58\n"
     ]
    },
    {
     "name": "stderr",
     "output_type": "stream",
     "text": [
      "100%|██████████| 32/32 [00:19<00:00,  1.62it/s]\n",
      "100%|██████████| 32/32 [00:19<00:00,  1.65it/s]\n"
     ]
    },
    {
     "name": "stdout",
     "output_type": "stream",
     "text": [
      "Processing 56/58\n"
     ]
    },
    {
     "name": "stderr",
     "output_type": "stream",
     "text": [
      "100%|██████████| 32/32 [00:19<00:00,  1.61it/s]\n",
      "100%|██████████| 32/32 [00:19<00:00,  1.64it/s]\n"
     ]
    },
    {
     "name": "stdout",
     "output_type": "stream",
     "text": [
      "Processing 57/58\n"
     ]
    },
    {
     "name": "stderr",
     "output_type": "stream",
     "text": [
      "100%|██████████| 32/32 [00:19<00:00,  1.64it/s]\n",
      "100%|██████████| 32/32 [00:20<00:00,  1.59it/s]\n"
     ]
    },
    {
     "name": "stdout",
     "output_type": "stream",
     "text": [
      "Processing 58/58\n"
     ]
    },
    {
     "name": "stderr",
     "output_type": "stream",
     "text": [
      "100%|██████████| 32/32 [00:19<00:00,  1.65it/s]\n",
      "100%|██████████| 32/32 [00:20<00:00,  1.58it/s]\n"
     ]
    }
   ],
   "source": [
    "ablation_effects_asc = []\n",
    "ablation_effects_desc = []\n",
    "\n",
    "# limit = 5\n",
    "limit = len(dataset)\n",
    "for idx in range(limit):\n",
    "    print(f\"Processing {idx+1}/{limit}\")\n",
    "    question, answer = dataset[idx]\n",
    "    answer, effects = check_ablation_effect(mt=mt, question=question)\n",
    "    ablation_effects_asc.append((answer, effects))\n",
    "\n",
    "    answer, effects = check_ablation_effect(mt=mt, question=question, direction=\"desc\")\n",
    "    ablation_effects_desc.append((answer, effects))"
   ]
  },
  {
   "cell_type": "code",
   "execution_count": 26,
   "metadata": {},
   "outputs": [
    {
     "data": {
      "image/png": "[encoded data removed]",
      "text/plain": [
       "<Figure size 1500x500 with 1 Axes>"
      ]
     },
     "metadata": {},
     "output_type": "display_data"
    }
   ],
   "source": [
    "metric = \"prob\"\n",
    "\n",
    "scores_asc = process_ablation_effects(ablation_effects_asc, metric)\n",
    "scores_desc = process_ablation_effects(ablation_effects_desc, metric)\n",
    "\n",
    "import matplotlib.pyplot as plt\n",
    "\n",
    "keys = list(range(mt.n_layer))\n",
    "\n",
    "plt.figure(figsize=(15, 5))\n",
    "plt.title(f\"MLP Ablation Effects ({metric})\")\n",
    "plt.plot([scores_asc[k] for k in keys], marker=\"o\", label=\"asc\")\n",
    "plt.plot([scores_desc[k] for k in keys], marker=\"o\", label=\"desc\")\n",
    "plt.xticks(keys, rotation=90)\n",
    "plt.xlabel(\"Layer Index\")\n",
    "plt.ylabel(\"ans_abl/ans_clean\")\n",
    "plt.legend()\n",
    "\n",
    "plt.show()"
   ]
  },
  {
   "cell_type": "markdown",
   "metadata": {},
   "source": [
    "### Path Blocking"
   ]
  },
  {
   "cell_type": "code",
   "execution_count": 15,
   "metadata": {},
   "outputs": [],
   "source": [
    "from src.utils.typing import TokenizerOutput, PredictedToken\n",
    "from src.tokens import align_bridge_entities_in_query\n",
    "\n",
    "def do_path_ablation(\n",
    "    mt: ModelandTokenizer,\n",
    "    input: TokenizerOutput,\n",
    "    restore_states: list[PatchSpec],\n",
    "    block_locations: list[tuple[str, int]],\n",
    "    ans_token: int\n",
    ") -> PredictedToken:\n",
    "    corrupted_states = get_hs(\n",
    "        mt=mt, input=input, locations=block_locations, return_dict=True\n",
    "    )\n",
    "    # restore the clean states from `restore_states`\n",
    "    # patch the corrupted states back to block those locations\n",
    "    patch_spec = restore_states + [\n",
    "        PatchSpec(\n",
    "            location=loc,\n",
    "            patch=corrupted_states[loc]\n",
    "        )\n",
    "        for loc in block_locations\n",
    "    ]\n",
    "    last_h = get_hs(\n",
    "        mt=mt, \n",
    "        input=input,\n",
    "        locations=(mt.layer_name_format.format(mt.n_layer-1), -1),\n",
    "        patches=patch_spec,\n",
    "        return_dict=False\n",
    "    )\n",
    "\n",
    "    ablated_pred, track_ans=logit_lens(mt=mt, h=last_h, interested_tokens=[ans_token])\n",
    "    rank, track_ans = list(track_ans.values())[0]\n",
    "\n",
    "    return track_ans\n",
    "\n",
    "def trace_path_ablation_effects(\n",
    "    mt: ModelandTokenizer,\n",
    "    clean_ques: str,\n",
    "    clean_entity_pair: tuple[str, str],\n",
    "    patch_ques: str,\n",
    "    patch_entity_pair: tuple[str, str],\n",
    "):\n",
    "    inps = align_bridge_entities_in_query(\n",
    "        mt=mt,\n",
    "        clean_ques=clean_ques,\n",
    "        clean_entity_pair=clean_entity_pair,\n",
    "        patch_ques=patch_ques,\n",
    "        patch_entity_pair=patch_entity_pair,\n",
    "    )\n",
    "    clean_inputs = inps[\"clean_inputs\"]\n",
    "    patch_inputs = inps[\"patch_inputs\"]\n",
    "    # query_start = inps[\"query_start\"]\n",
    "    # subj_1_range = inps[\"subj_1_range\"]\n",
    "    # subj_2_range = inps[\"subj_2_range\"]\n",
    "\n",
    "    patch_ans = predict_next_token(mt=mt, inputs=patch_inputs, k=1)[0][0]\n",
    "    logger.debug(f\"{patch_ans=}\")\n",
    "\n",
    "    clean_ans, corrupt_rank = predict_next_token(\n",
    "        mt=mt, inputs=clean_inputs,\n",
    "        token_of_interest=[(mt.tokenizer.decode(patch_ans.token_id))],\n",
    "    )\n",
    "    clean_ans = clean_ans[0][0]\n",
    "    corrupt_rank, base_ans = corrupt_rank[0]\n",
    "    logger.debug(f\"{clean_ans=}\")\n",
    "    logger.debug(f\"{corrupt_rank=} | {base_ans=}\")\n",
    "\n",
    "    assert clean_inputs[\"input_ids\"].shape[1] == patch_inputs[\"input_ids\"].shape[1]\n",
    "\n",
    "    TOKEN_IDX = -1\n",
    "    mlp_ablation_locations = [\n",
    "        (mt.mlp_module_name_format.format(i), TOKEN_IDX)\n",
    "        for i in range(mt.n_layer)\n",
    "    ]\n",
    "    attn_ablation_locations = [\n",
    "        (mt.attn_module_name_format.format(i), TOKEN_IDX)\n",
    "        for i in range(mt.n_layer)\n",
    "    ]\n",
    "    residual_locations = [\n",
    "        (mt.layer_name_format.format(i), TOKEN_IDX)\n",
    "        for i in range(mt.n_layer)\n",
    "    ]\n",
    "\n",
    "    path_blocking_effects = {}\n",
    "\n",
    "    restore_states = get_hs(\n",
    "        mt=mt, input=patch_inputs, locations=residual_locations, return_dict=True\n",
    "    )\n",
    "    logger.debug(\"=\"*50)\n",
    "    for i in range(mt.n_layer):\n",
    "        restore_location = (mt.layer_name_format.format(i), TOKEN_IDX)\n",
    "        logger.debug(restore_location)\n",
    "        cur_restore = [\n",
    "            PatchSpec(\n",
    "                location=restore_location,\n",
    "                patch=restore_states[restore_location]\n",
    "            )\n",
    "        ]\n",
    "        h_restore_pred = do_path_ablation(\n",
    "            mt=mt, input=clean_inputs,\n",
    "            restore_states=cur_restore,\n",
    "            block_locations=[],         # don't block anything\n",
    "            ans_token=patch_ans.token_id\n",
    "        )\n",
    "        logger.debug(f\"{h_restore_pred=}\")\n",
    "\n",
    "        mlp_ablation_pred = do_path_ablation(\n",
    "            mt=mt, input=clean_inputs,\n",
    "            restore_states=cur_restore,\n",
    "            block_locations=mlp_ablation_locations, # block the MLP contributions   \n",
    "            ans_token=patch_ans.token_id\n",
    "        )\n",
    "        logger.debug(f\"{mlp_ablation_pred=}\")\n",
    "\n",
    "        attn_ablation_pred = do_path_ablation(\n",
    "            mt=mt, input=clean_inputs,\n",
    "            restore_states=cur_restore,\n",
    "            block_locations=attn_ablation_locations,   # block the attention contributions\n",
    "            ans_token=patch_ans.token_id\n",
    "        )\n",
    "        logger.debug(f\"{attn_ablation_pred=}\")\n",
    "\n",
    "        path_blocking_effects[i] = {\n",
    "            \"h_restored\": h_restore_pred,\n",
    "            \"mlp_blocked\": mlp_ablation_pred,\n",
    "            \"attn_blocked\": attn_ablation_pred\n",
    "        }\n",
    "        logger.debug(\"-\"*50)\n",
    "    \n",
    "    return dict(\n",
    "        clean_inputs=clean_inputs,\n",
    "        patch_inputs=patch_inputs,\n",
    "        patch_ans=patch_ans,\n",
    "        base_ans=base_ans,\n",
    "        patch_blocking_effects=path_blocking_effects\n",
    "    )"
   ]
  },
  {
   "cell_type": "code",
   "execution_count": 16,
   "metadata": {},
   "outputs": [
    {
     "name": "stdout",
     "output_type": "stream",
     "text": [
      "dataset.icl_examples=[BridgeSample(bridge='My Week with Marilyn', entity_pair=['Michelle Williams', 'Marilyn Monroe'], description='My Week with Marilyn - a movie where Michelle Williams played the role of Marilyn Monroe.', relation='movie_actor'), BridgeSample(bridge='Frank Lloyd Wright', entity_pair=['Fallingwater', 'Guggenheim Museum'], description='Frank Lloyd Wright - who was the architect of both buildings Fallingwater and Guggenheim Museum.', relation='architect_building'), BridgeSample(bridge='tennis', entity_pair=['Roger Federer', 'Rafael Nadal'], description='tennis - a sport where both Roger Federer and Rafael Nadal are known for.', relation='sport_players'), BridgeSample(bridge='none', entity_pair=['Charles Darwin', 'Flamenco'], description='none - there is no connection between Charles Darwin and Flamenco.', relation='none'), BridgeSample(bridge='elastic powers', entity_pair=['Mr. Fantastic', 'Elastigirl'], description='elastic powers - an attribute that both characters Mr. Fantastic and Elastigirl possess.', relation='superpower_characters')]\n",
      "dataset.examples[clean_idx]=BridgeSample(bridge='cycling', entity_pair=['Chris Froome', 'Alberto Contador'], description='cycling - a sport where both Chris Froome and Alberto Contador are known for.', relation='sport_players')\n",
      "dataset.examples[patch_idx]=BridgeSample(bridge='swimming', entity_pair=['Michael Phelps', 'Ian Thorpe'], description='swimming - a sport where both Michael Phelps and Ian Thorpe are known for.', relation='sport_players')\n"
     ]
    }
   ],
   "source": [
    "clean_idx = 28\n",
    "patch_idx = 43\n",
    "\n",
    "clean_icq = dataset[clean_idx]\n",
    "patch_icq = dataset[patch_idx]\n",
    "\n",
    "print(f\"{dataset.icl_examples=}\")\n",
    "print(f\"{dataset.examples[clean_idx]=}\")\n",
    "print(f\"{dataset.examples[patch_idx]=}\")"
   ]
  },
  {
   "cell_type": "code",
   "execution_count": 17,
   "metadata": {},
   "outputs": [],
   "source": [
    "path_blocking_effects = trace_path_ablation_effects(\n",
    "    mt=mt,\n",
    "    clean_ques=dataset[clean_idx][0],\n",
    "    clean_entity_pair=dataset.examples[clean_idx].entity_pair,\n",
    "    patch_ques=dataset[patch_idx][0],\n",
    "    patch_entity_pair=dataset.examples[patch_idx].entity_pair,\n",
    ")"
   ]
  },
  {
   "cell_type": "code",
   "execution_count": 35,
   "metadata": {},
   "outputs": [
    {
     "name": "stdout",
     "output_type": "stream",
     "text": [
      "2024-09-10 14:01:25 src.utils.experiment_utils INFO     setting all seeds to 123456\n",
      "2024-09-10 14:01:25 __main__ INFO     Processing 1/3\n",
      "2024-09-10 14:01:25 src.tokens DEBUG    clean_subj_ranges=[(185, 187), (188, 190)]\n",
      "2024-09-10 14:01:25 src.tokens DEBUG    t=185 |  Kobe\n",
      "2024-09-10 14:01:25 src.tokens DEBUG    t=186 |  Bryant\n",
      "2024-09-10 14:01:25 src.tokens DEBUG    --------------------------------------------------\n",
      "2024-09-10 14:01:25 src.tokens DEBUG    t=188 |  Magic\n",
      "2024-09-10 14:01:25 src.tokens DEBUG    t=189 |  Johnson\n",
      "2024-09-10 14:01:25 src.tokens DEBUG    ==================================================\n",
      "2024-09-10 14:01:25 src.tokens DEBUG    patch_subj_ranges=[(185, 187), (188, 190)]\n",
      "2024-09-10 14:01:25 src.tokens DEBUG    t=185 |  Babe\n",
      "2024-09-10 14:01:25 src.tokens DEBUG    t=186 |  Ruth\n",
      "2024-09-10 14:01:25 src.tokens DEBUG    --------------------------------------------------\n",
      "2024-09-10 14:01:25 src.tokens DEBUG    t=188 |  Hank\n",
      "2024-09-10 14:01:25 src.tokens DEBUG    t=189 |  Aaron\n",
      "2024-09-10 14:01:25 src.tokens DEBUG    ++++++++++++++++++++++++++++++++++++++++++++++++++\n",
      "2024-09-10 14:01:25 src.tokens DEBUG    subj_1_range=(185, 187)\n",
      "2024-09-10 14:01:25 src.tokens DEBUG    i=185 |  Kobe <>  Babe\n",
      "2024-09-10 14:01:25 src.tokens DEBUG    i=186 |  Bryant <>  Ruth\n",
      "2024-09-10 14:01:25 src.tokens DEBUG    --------------------------------------------------\n",
      "2024-09-10 14:01:25 src.tokens DEBUG    subj_2_range=(188, 190)\n",
      "2024-09-10 14:01:25 src.tokens DEBUG    i=188 | [1] Magic <> [1] Hank\n",
      "2024-09-10 14:01:25 src.tokens DEBUG    i=189 | [1] Johnson <> [1] Aaron\n",
      "2024-09-10 14:01:25 src.tokens DEBUG    ==================================================\n",
      "2024-09-10 14:01:25 src.tokens DEBUG    query_start=179\n",
      "2024-09-10 14:01:26 __main__ DEBUG    patch_ans=PredictedToken(token=' baseball', prob=0.6488792896270752, logit=21.03125, token_id=20075)\n",
      "2024-09-10 14:01:26 __main__ DEBUG    clean_ans=PredictedToken(token=' Los', prob=0.4293003976345062, logit=20.078125, token_id=9853)\n",
      "2024-09-10 14:01:26 __main__ DEBUG    corrupt_rank=83 | base_ans=PredictedToken(token=' baseball', prob=2.602284075692296e-05, logit=None, token_id=20075)\n",
      "2024-09-10 14:01:26 __main__ DEBUG    ==================================================\n",
      "2024-09-10 14:01:26 __main__ DEBUG    ('model.layers.0', -1)\n",
      "2024-09-10 14:01:27 __main__ DEBUG    h_restore_pred=PredictedToken(token=' baseball', prob=2.5833580366452225e-05, logit=10.359375, token_id=20075)\n",
      "2024-09-10 14:01:28 __main__ DEBUG    mlp_ablation_pred=PredictedToken(token=' baseball', prob=2.601820233394392e-05, logit=10.3671875, token_id=20075)\n",
      "2024-09-10 14:01:29 __main__ DEBUG    attn_ablation_pred=PredictedToken(token=' baseball', prob=2.6059364245156758e-05, logit=10.3671875, token_id=20075)\n",
      "2024-09-10 14:01:29 __main__ DEBUG    --------------------------------------------------\n",
      "2024-09-10 14:01:29 __main__ DEBUG    ('model.layers.1', -1)\n",
      "2024-09-10 14:01:30 __main__ DEBUG    h_restore_pred=PredictedToken(token=' baseball', prob=2.602000859042164e-05, logit=10.359375, token_id=20075)\n",
      "2024-09-10 14:01:31 __main__ DEBUG    mlp_ablation_pred=PredictedToken(token=' baseball', prob=2.569876414781902e-05, logit=10.359375, token_id=20075)\n",
      "2024-09-10 14:01:32 __main__ DEBUG    attn_ablation_pred=PredictedToken(token=' baseball', prob=2.581479748187121e-05, logit=10.359375, token_id=20075)\n",
      "2024-09-10 14:01:32 __main__ DEBUG    --------------------------------------------------\n",
      "2024-09-10 14:01:32 __main__ DEBUG    ('model.layers.2', -1)\n",
      "2024-09-10 14:01:33 __main__ DEBUG    h_restore_pred=PredictedToken(token=' baseball', prob=2.649112866492942e-05, logit=10.375, token_id=20075)\n",
      "2024-09-10 14:01:33 __main__ DEBUG    mlp_ablation_pred=PredictedToken(token=' baseball', prob=2.5613529942347668e-05, logit=10.3515625, token_id=20075)\n",
      "2024-09-10 14:01:34 __main__ DEBUG    attn_ablation_pred=PredictedToken(token=' baseball', prob=2.607097485451959e-05, logit=10.375, token_id=20075)\n",
      "2024-09-10 14:01:34 __main__ DEBUG    --------------------------------------------------\n",
      "2024-09-10 14:01:34 __main__ DEBUG    ('model.layers.3', -1)\n",
      "2024-09-10 14:01:35 __main__ DEBUG    h_restore_pred=PredictedToken(token=' baseball', prob=2.6297653676010668e-05, logit=10.3671875, token_id=20075)\n",
      "2024-09-10 14:01:36 __main__ DEBUG    mlp_ablation_pred=PredictedToken(token=' baseball', prob=2.5839357476797886e-05, logit=10.359375, token_id=20075)\n",
      "2024-09-10 14:01:37 __main__ DEBUG    attn_ablation_pred=PredictedToken(token=' baseball', prob=2.613575998111628e-05, logit=10.375, token_id=20075)\n",
      "2024-09-10 14:01:37 __main__ DEBUG    --------------------------------------------------\n",
      "2024-09-10 14:01:37 __main__ DEBUG    ('model.layers.4', -1)\n",
      "2024-09-10 14:01:38 __main__ DEBUG    h_restore_pred=PredictedToken(token=' baseball', prob=2.6172139769187197e-05, logit=10.375, token_id=20075)\n",
      "2024-09-10 14:01:39 __main__ DEBUG    mlp_ablation_pred=PredictedToken(token=' baseball', prob=2.552430123614613e-05, logit=10.3671875, token_id=20075)\n",
      "2024-09-10 14:01:40 __main__ DEBUG    attn_ablation_pred=PredictedToken(token=' baseball', prob=2.630825838423334e-05, logit=10.3828125, token_id=20075)\n",
      "2024-09-10 14:01:40 __main__ DEBUG    --------------------------------------------------\n",
      "2024-09-10 14:01:40 __main__ DEBUG    ('model.layers.5', -1)\n",
      "2024-09-10 14:01:41 __main__ DEBUG    h_restore_pred=PredictedToken(token=' baseball', prob=2.601483720354736e-05, logit=10.3828125, token_id=20075)\n",
      "2024-09-10 14:01:42 __main__ DEBUG    mlp_ablation_pred=PredictedToken(token=' baseball', prob=2.5987867047660984e-05, logit=10.359375, token_id=20075)\n",
      "2024-09-10 14:01:43 __main__ DEBUG    attn_ablation_pred=PredictedToken(token=' baseball', prob=2.6217117920168675e-05, logit=10.3828125, token_id=20075)\n",
      "2024-09-10 14:01:43 __main__ DEBUG    --------------------------------------------------\n",
      "2024-09-10 14:01:43 __main__ DEBUG    ('model.layers.6', -1)\n",
      "2024-09-10 14:01:43 __main__ DEBUG    h_restore_pred=PredictedToken(token=' baseball', prob=2.6113961212104186e-05, logit=10.3671875, token_id=20075)\n",
      "2024-09-10 14:01:44 __main__ DEBUG    mlp_ablation_pred=PredictedToken(token=' baseball', prob=2.6158821128774434e-05, logit=10.3515625, token_id=20075)\n",
      "2024-09-10 14:01:45 __main__ DEBUG    attn_ablation_pred=PredictedToken(token=' baseball', prob=2.6405143216834404e-05, logit=10.390625, token_id=20075)\n",
      "2024-09-10 14:01:45 __main__ DEBUG    --------------------------------------------------\n",
      "2024-09-10 14:01:45 __main__ DEBUG    ('model.layers.7', -1)\n",
      "2024-09-10 14:01:46 __main__ DEBUG    h_restore_pred=PredictedToken(token=' baseball', prob=2.6038602300104685e-05, logit=10.40625, token_id=20075)\n",
      "2024-09-10 14:01:47 __main__ DEBUG    mlp_ablation_pred=PredictedToken(token=' baseball', prob=2.6097448426298797e-05, logit=10.3671875, token_id=20075)\n",
      "2024-09-10 14:01:48 __main__ DEBUG    attn_ablation_pred=PredictedToken(token=' baseball', prob=2.623853288241662e-05, logit=10.40625, token_id=20075)\n",
      "2024-09-10 14:01:48 __main__ DEBUG    --------------------------------------------------\n",
      "2024-09-10 14:01:48 __main__ DEBUG    ('model.layers.8', -1)\n",
      "2024-09-10 14:01:49 __main__ DEBUG    h_restore_pred=PredictedToken(token=' baseball', prob=2.6900424927589484e-05, logit=10.4453125, token_id=20075)\n",
      "2024-09-10 14:01:50 __main__ DEBUG    mlp_ablation_pred=PredictedToken(token=' baseball', prob=2.5921619453583844e-05, logit=10.3515625, token_id=20075)\n",
      "2024-09-10 14:01:51 __main__ DEBUG    attn_ablation_pred=PredictedToken(token=' baseball', prob=2.6775680453283712e-05, logit=10.421875, token_id=20075)\n",
      "2024-09-10 14:01:51 __main__ DEBUG    --------------------------------------------------\n",
      "2024-09-10 14:01:51 __main__ DEBUG    ('model.layers.9', -1)\n",
      "2024-09-10 14:01:52 __main__ DEBUG    h_restore_pred=PredictedToken(token=' baseball', prob=2.9286462449817918e-05, logit=10.484375, token_id=20075)\n",
      "2024-09-10 14:01:53 __main__ DEBUG    mlp_ablation_pred=PredictedToken(token=' baseball', prob=2.6363915822003037e-05, logit=10.3203125, token_id=20075)\n",
      "2024-09-10 14:01:54 __main__ DEBUG    attn_ablation_pred=PredictedToken(token=' baseball', prob=2.7464820959721692e-05, logit=10.4609375, token_id=20075)\n",
      "2024-09-10 14:01:54 __main__ DEBUG    --------------------------------------------------\n",
      "2024-09-10 14:01:54 __main__ DEBUG    ('model.layers.10', -1)\n",
      "2024-09-10 14:01:55 __main__ DEBUG    h_restore_pred=PredictedToken(token=' baseball', prob=2.9749397072009742e-05, logit=10.4921875, token_id=20075)\n",
      "2024-09-10 14:01:55 __main__ DEBUG    mlp_ablation_pred=PredictedToken(token=' baseball', prob=2.775488064798992e-05, logit=10.34375, token_id=20075)\n",
      "2024-09-10 14:01:56 __main__ DEBUG    attn_ablation_pred=PredictedToken(token=' baseball', prob=2.8054202630301006e-05, logit=10.453125, token_id=20075)\n",
      "2024-09-10 14:01:56 __main__ DEBUG    --------------------------------------------------\n",
      "2024-09-10 14:01:56 __main__ DEBUG    ('model.layers.11', -1)\n",
      "2024-09-10 14:01:57 __main__ DEBUG    h_restore_pred=PredictedToken(token=' baseball', prob=3.06979964079801e-05, logit=10.6640625, token_id=20075)\n",
      "2024-09-10 14:01:58 __main__ DEBUG    mlp_ablation_pred=PredictedToken(token=' baseball', prob=2.6695537599152885e-05, logit=10.3125, token_id=20075)\n",
      "2024-09-10 14:01:59 __main__ DEBUG    attn_ablation_pred=PredictedToken(token=' baseball', prob=2.8007161745335907e-05, logit=10.53125, token_id=20075)\n",
      "2024-09-10 14:01:59 __main__ DEBUG    --------------------------------------------------\n",
      "2024-09-10 14:01:59 __main__ DEBUG    ('model.layers.12', -1)\n",
      "2024-09-10 14:02:00 __main__ DEBUG    h_restore_pred=PredictedToken(token=' baseball', prob=3.168579860357568e-05, logit=10.859375, token_id=20075)\n",
      "2024-09-10 14:02:01 __main__ DEBUG    mlp_ablation_pred=PredictedToken(token=' baseball', prob=2.7132507966598496e-05, logit=10.2265625, token_id=20075)\n",
      "2024-09-10 14:02:02 __main__ DEBUG    attn_ablation_pred=PredictedToken(token=' baseball', prob=2.903630411310587e-05, logit=10.7265625, token_id=20075)\n",
      "2024-09-10 14:02:02 __main__ DEBUG    --------------------------------------------------\n",
      "2024-09-10 14:02:02 __main__ DEBUG    ('model.layers.13', -1)\n",
      "2024-09-10 14:02:03 __main__ DEBUG    h_restore_pred=PredictedToken(token=' baseball', prob=3.342234413139522e-05, logit=10.984375, token_id=20075)\n",
      "2024-09-10 14:02:04 __main__ DEBUG    mlp_ablation_pred=PredictedToken(token=' baseball', prob=2.8003663828712888e-05, logit=10.171875, token_id=20075)\n",
      "2024-09-10 14:02:05 __main__ DEBUG    attn_ablation_pred=PredictedToken(token=' baseball', prob=3.593067231122404e-05, logit=10.9765625, token_id=20075)\n",
      "2024-09-10 14:02:05 __main__ DEBUG    --------------------------------------------------\n",
      "2024-09-10 14:02:05 __main__ DEBUG    ('model.layers.14', -1)\n",
      "2024-09-10 14:02:05 __main__ DEBUG    h_restore_pred=PredictedToken(token=' baseball', prob=4.2710078560048714e-05, logit=11.234375, token_id=20075)\n",
      "2024-09-10 14:02:06 __main__ DEBUG    mlp_ablation_pred=PredictedToken(token=' baseball', prob=3.879781434079632e-05, logit=10.265625, token_id=20075)\n",
      "2024-09-10 14:02:07 __main__ DEBUG    attn_ablation_pred=PredictedToken(token=' baseball', prob=5.243693522061221e-05, logit=11.6953125, token_id=20075)\n",
      "2024-09-10 14:02:07 __main__ DEBUG    --------------------------------------------------\n",
      "2024-09-10 14:02:07 __main__ DEBUG    ('model.layers.15', -1)\n",
      "2024-09-10 14:02:08 __main__ DEBUG    h_restore_pred=PredictedToken(token=' baseball', prob=0.00019789431826211512, logit=12.875, token_id=20075)\n",
      "2024-09-10 14:02:09 __main__ DEBUG    mlp_ablation_pred=PredictedToken(token=' baseball', prob=7.244670268846676e-05, logit=10.7734375, token_id=20075)\n",
      "2024-09-10 14:02:10 __main__ DEBUG    attn_ablation_pred=PredictedToken(token=' baseball', prob=0.0004066097899340093, logit=14.2109375, token_id=20075)\n",
      "2024-09-10 14:02:10 __main__ DEBUG    --------------------------------------------------\n",
      "2024-09-10 14:02:10 __main__ DEBUG    ('model.layers.16', -1)\n",
      "2024-09-10 14:02:11 __main__ DEBUG    h_restore_pred=PredictedToken(token=' baseball', prob=0.0006075105047784746, logit=14.1796875, token_id=20075)\n",
      "2024-09-10 14:02:12 __main__ DEBUG    mlp_ablation_pred=PredictedToken(token=' baseball', prob=7.667876343475655e-05, logit=10.734375, token_id=20075)\n",
      "2024-09-10 14:02:12 __main__ DEBUG    attn_ablation_pred=PredictedToken(token=' baseball', prob=0.001595485839061439, logit=15.7265625, token_id=20075)\n",
      "2024-09-10 14:02:12 __main__ DEBUG    --------------------------------------------------\n",
      "2024-09-10 14:02:12 __main__ DEBUG    ('model.layers.17', -1)\n",
      "2024-09-10 14:02:13 __main__ DEBUG    h_restore_pred=PredictedToken(token=' baseball', prob=0.023141231387853622, logit=17.71875, token_id=20075)\n",
      "2024-09-10 14:02:14 __main__ DEBUG    mlp_ablation_pred=PredictedToken(token=' baseball', prob=0.00013514880265574902, logit=11.2109375, token_id=20075)\n",
      "2024-09-10 14:02:15 __main__ DEBUG    attn_ablation_pred=PredictedToken(token=' baseball', prob=0.03269704431295395, logit=18.453125, token_id=20075)\n",
      "2024-09-10 14:02:15 __main__ DEBUG    --------------------------------------------------\n",
      "2024-09-10 14:02:15 __main__ DEBUG    ('model.layers.18', -1)\n",
      "2024-09-10 14:02:16 __main__ DEBUG    h_restore_pred=PredictedToken(token=' baseball', prob=0.02648739144206047, logit=17.875, token_id=20075)\n",
      "2024-09-10 14:02:17 __main__ DEBUG    mlp_ablation_pred=PredictedToken(token=' baseball', prob=0.00018222314247395843, logit=11.3984375, token_id=20075)\n",
      "2024-09-10 14:02:18 __main__ DEBUG    attn_ablation_pred=PredictedToken(token=' baseball', prob=0.0474952794611454, logit=18.765625, token_id=20075)\n",
      "2024-09-10 14:02:18 __main__ DEBUG    --------------------------------------------------\n",
      "2024-09-10 14:02:18 __main__ DEBUG    ('model.layers.19', -1)\n",
      "2024-09-10 14:02:19 __main__ DEBUG    h_restore_pred=PredictedToken(token=' baseball', prob=0.02345160022377968, logit=17.5, token_id=20075)\n",
      "2024-09-10 14:02:19 __main__ DEBUG    mlp_ablation_pred=PredictedToken(token=' baseball', prob=0.00018654945597518235, logit=11.3828125, token_id=20075)\n",
      "2024-09-10 14:02:20 __main__ DEBUG    attn_ablation_pred=PredictedToken(token=' baseball', prob=0.050241369754076004, logit=18.53125, token_id=20075)\n",
      "2024-09-10 14:02:20 __main__ DEBUG    --------------------------------------------------\n",
      "2024-09-10 14:02:20 __main__ DEBUG    ('model.layers.20', -1)\n",
      "2024-09-10 14:02:21 __main__ DEBUG    h_restore_pred=PredictedToken(token=' baseball', prob=0.04048227146267891, logit=17.96875, token_id=20075)\n",
      "2024-09-10 14:02:22 __main__ DEBUG    mlp_ablation_pred=PredictedToken(token=' baseball', prob=0.000262633606325835, logit=11.8125, token_id=20075)\n",
      "2024-09-10 14:02:23 __main__ DEBUG    attn_ablation_pred=PredictedToken(token=' baseball', prob=0.051803626120090485, logit=18.546875, token_id=20075)\n",
      "2024-09-10 14:02:23 __main__ DEBUG    --------------------------------------------------\n",
      "2024-09-10 14:02:23 __main__ DEBUG    ('model.layers.21', -1)\n",
      "2024-09-10 14:02:24 __main__ DEBUG    h_restore_pred=PredictedToken(token=' baseball', prob=0.6628298759460449, logit=20.546875, token_id=20075)\n",
      "2024-09-10 14:02:25 __main__ DEBUG    mlp_ablation_pred=PredictedToken(token=' baseball', prob=0.002689569490030408, logit=13.625, token_id=20075)\n",
      "2024-09-10 14:02:25 __main__ DEBUG    attn_ablation_pred=PredictedToken(token=' baseball', prob=0.65531325340271, logit=20.484375, token_id=20075)\n",
      "2024-09-10 14:02:25 __main__ DEBUG    --------------------------------------------------\n",
      "2024-09-10 14:02:25 __main__ DEBUG    ('model.layers.22', -1)\n",
      "2024-09-10 14:02:26 __main__ DEBUG    h_restore_pred=PredictedToken(token=' baseball', prob=0.6618024110794067, logit=20.546875, token_id=20075)\n",
      "2024-09-10 14:02:27 __main__ DEBUG    mlp_ablation_pred=PredictedToken(token=' baseball', prob=0.010050293058156967, logit=14.5625, token_id=20075)\n",
      "2024-09-10 14:02:28 __main__ DEBUG    attn_ablation_pred=PredictedToken(token=' baseball', prob=0.6618729829788208, logit=20.484375, token_id=20075)\n",
      "2024-09-10 14:02:28 __main__ DEBUG    --------------------------------------------------\n",
      "2024-09-10 14:02:28 __main__ DEBUG    ('model.layers.23', -1)\n",
      "2024-09-10 14:02:29 __main__ DEBUG    h_restore_pred=PredictedToken(token=' baseball', prob=0.6462865471839905, logit=20.546875, token_id=20075)\n",
      "2024-09-10 14:02:30 __main__ DEBUG    mlp_ablation_pred=PredictedToken(token=' baseball', prob=0.016365164890885353, logit=14.9921875, token_id=20075)\n",
      "2024-09-10 14:02:31 __main__ DEBUG    attn_ablation_pred=PredictedToken(token=' baseball', prob=0.6579465866088867, logit=20.5625, token_id=20075)\n",
      "2024-09-10 14:02:31 __main__ DEBUG    --------------------------------------------------\n",
      "2024-09-10 14:02:31 __main__ DEBUG    ('model.layers.24', -1)\n",
      "2024-09-10 14:02:32 __main__ DEBUG    h_restore_pred=PredictedToken(token=' baseball', prob=0.6843324303627014, logit=20.796875, token_id=20075)\n",
      "2024-09-10 14:02:32 __main__ DEBUG    mlp_ablation_pred=PredictedToken(token=' baseball', prob=0.09607939422130585, logit=16.71875, token_id=20075)\n",
      "2024-09-10 14:02:33 __main__ DEBUG    attn_ablation_pred=PredictedToken(token=' baseball', prob=0.6912619471549988, logit=20.8125, token_id=20075)\n",
      "2024-09-10 14:02:33 __main__ DEBUG    --------------------------------------------------\n",
      "2024-09-10 14:02:33 __main__ DEBUG    ('model.layers.25', -1)\n",
      "2024-09-10 14:02:34 __main__ DEBUG    h_restore_pred=PredictedToken(token=' baseball', prob=0.6920631527900696, logit=20.84375, token_id=20075)\n",
      "2024-09-10 14:02:35 __main__ DEBUG    mlp_ablation_pred=PredictedToken(token=' baseball', prob=0.15393583476543427, logit=17.140625, token_id=20075)\n",
      "2024-09-10 14:02:36 __main__ DEBUG    attn_ablation_pred=PredictedToken(token=' baseball', prob=0.6999211311340332, logit=20.84375, token_id=20075)\n",
      "2024-09-10 14:02:36 __main__ DEBUG    --------------------------------------------------\n",
      "2024-09-10 14:02:36 __main__ DEBUG    ('model.layers.26', -1)\n",
      "2024-09-10 14:02:37 __main__ DEBUG    h_restore_pred=PredictedToken(token=' baseball', prob=0.6732621788978577, logit=20.796875, token_id=20075)\n",
      "2024-09-10 14:02:38 __main__ DEBUG    mlp_ablation_pred=PredictedToken(token=' baseball', prob=0.2156796157360077, logit=17.375, token_id=20075)\n",
      "2024-09-10 14:02:38 __main__ DEBUG    attn_ablation_pred=PredictedToken(token=' baseball', prob=0.6887035965919495, logit=20.765625, token_id=20075)\n",
      "2024-09-10 14:02:38 __main__ DEBUG    --------------------------------------------------\n",
      "2024-09-10 14:02:38 __main__ DEBUG    ('model.layers.27', -1)\n",
      "2024-09-10 14:02:39 __main__ DEBUG    h_restore_pred=PredictedToken(token=' baseball', prob=0.6656442880630493, logit=20.71875, token_id=20075)\n",
      "2024-09-10 14:02:40 __main__ DEBUG    mlp_ablation_pred=PredictedToken(token=' baseball', prob=0.4449825882911682, logit=18.4375, token_id=20075)\n",
      "2024-09-10 14:02:41 __main__ DEBUG    attn_ablation_pred=PredictedToken(token=' baseball', prob=0.6930978298187256, logit=20.703125, token_id=20075)\n",
      "2024-09-10 14:02:41 __main__ DEBUG    --------------------------------------------------\n",
      "2024-09-10 14:02:41 __main__ DEBUG    ('model.layers.28', -1)\n",
      "2024-09-10 14:02:42 __main__ DEBUG    h_restore_pred=PredictedToken(token=' baseball', prob=0.6392912864685059, logit=20.90625, token_id=20075)\n",
      "2024-09-10 14:02:43 __main__ DEBUG    mlp_ablation_pred=PredictedToken(token=' baseball', prob=0.41185176372528076, logit=18.484375, token_id=20075)\n",
      "2024-09-10 14:02:44 __main__ DEBUG    attn_ablation_pred=PredictedToken(token=' baseball', prob=0.6678483486175537, logit=20.890625, token_id=20075)\n",
      "2024-09-10 14:02:44 __main__ DEBUG    --------------------------------------------------\n",
      "2024-09-10 14:02:44 __main__ DEBUG    ('model.layers.29', -1)\n",
      "2024-09-10 14:02:45 __main__ DEBUG    h_restore_pred=PredictedToken(token=' baseball', prob=0.6631403565406799, logit=20.984375, token_id=20075)\n",
      "2024-09-10 14:02:45 __main__ DEBUG    mlp_ablation_pred=PredictedToken(token=' baseball', prob=0.4665915071964264, logit=18.546875, token_id=20075)\n",
      "2024-09-10 14:02:46 __main__ DEBUG    attn_ablation_pred=PredictedToken(token=' baseball', prob=0.681472659111023, logit=20.9375, token_id=20075)\n",
      "2024-09-10 14:02:46 __main__ DEBUG    --------------------------------------------------\n",
      "2024-09-10 14:02:46 __main__ DEBUG    ('model.layers.30', -1)\n",
      "2024-09-10 14:02:47 __main__ DEBUG    h_restore_pred=PredictedToken(token=' baseball', prob=0.634192705154419, logit=20.828125, token_id=20075)\n",
      "2024-09-10 14:02:48 __main__ DEBUG    mlp_ablation_pred=PredictedToken(token=' baseball', prob=0.5760325193405151, logit=19.640625, token_id=20075)\n",
      "2024-09-10 14:02:49 __main__ DEBUG    attn_ablation_pred=PredictedToken(token=' baseball', prob=0.6354843974113464, logit=20.796875, token_id=20075)\n",
      "2024-09-10 14:02:49 __main__ DEBUG    --------------------------------------------------\n",
      "2024-09-10 14:02:49 __main__ DEBUG    ('model.layers.31', -1)\n",
      "2024-09-10 14:02:50 __main__ DEBUG    h_restore_pred=PredictedToken(token=' baseball', prob=0.6488792896270752, logit=21.03125, token_id=20075)\n",
      "2024-09-10 14:02:51 __main__ DEBUG    mlp_ablation_pred=PredictedToken(token=' baseball', prob=0.6488792896270752, logit=21.03125, token_id=20075)\n",
      "2024-09-10 14:02:52 __main__ DEBUG    attn_ablation_pred=PredictedToken(token=' baseball', prob=0.6488792896270752, logit=21.03125, token_id=20075)\n",
      "2024-09-10 14:02:52 __main__ DEBUG    --------------------------------------------------\n",
      "2024-09-10 14:02:52 __main__ INFO     Processing 2/3\n",
      "2024-09-10 14:02:52 src.tokens DEBUG    clean_subj_ranges=[(185, 190), (191, 195)]\n",
      "2024-09-10 14:02:52 src.tokens DEBUG    t=185 |  A\n",
      "2024-09-10 14:02:52 src.tokens DEBUG    t=186 | yr\n",
      "2024-09-10 14:02:52 src.tokens DEBUG    t=187 | ton\n",
      "2024-09-10 14:02:52 src.tokens DEBUG    t=188 |  S\n",
      "2024-09-10 14:02:52 src.tokens DEBUG    t=189 | enna\n",
      "2024-09-10 14:02:52 src.tokens DEBUG    --------------------------------------------------\n",
      "2024-09-10 14:02:52 src.tokens DEBUG    t=191 |  Al\n",
      "2024-09-10 14:02:52 src.tokens DEBUG    t=192 | ain\n",
      "2024-09-10 14:02:52 src.tokens DEBUG    t=193 |  Pro\n",
      "2024-09-10 14:02:52 src.tokens DEBUG    t=194 | st\n",
      "2024-09-10 14:02:52 src.tokens DEBUG    ==================================================\n",
      "2024-09-10 14:02:52 src.tokens DEBUG    patch_subj_ranges=[(185, 187), (188, 192)]\n",
      "2024-09-10 14:02:52 src.tokens DEBUG    t=185 |  Floyd\n",
      "2024-09-10 14:02:52 src.tokens DEBUG    t=186 |  Mayweather\n",
      "2024-09-10 14:02:52 src.tokens DEBUG    --------------------------------------------------\n",
      "2024-09-10 14:02:52 src.tokens DEBUG    t=188 |  Manny\n",
      "2024-09-10 14:02:52 src.tokens DEBUG    t=189 |  Pac\n",
      "2024-09-10 14:02:52 src.tokens DEBUG    t=190 | qu\n",
      "2024-09-10 14:02:52 src.tokens DEBUG    t=191 | iao\n",
      "2024-09-10 14:02:52 src.tokens DEBUG    ++++++++++++++++++++++++++++++++++++++++++++++++++\n",
      "2024-09-10 14:02:52 src.tokens DEBUG    subj_1_range=(185, 190)\n",
      "2024-09-10 14:02:52 src.tokens DEBUG    i=185 |  A <> <|eot_id|>\n",
      "2024-09-10 14:02:52 src.tokens DEBUG    i=186 | yr <> <|eot_id|>\n",
      "2024-09-10 14:02:52 src.tokens DEBUG    i=187 | ton <> <|eot_id|>\n",
      "2024-09-10 14:02:52 src.tokens DEBUG    i=188 |  S <>  Floyd\n",
      "2024-09-10 14:02:52 src.tokens DEBUG    i=189 | enna <>  Mayweather\n",
      "2024-09-10 14:02:52 src.tokens DEBUG    --------------------------------------------------\n",
      "2024-09-10 14:02:52 src.tokens DEBUG    subj_2_range=(191, 195)\n",
      "2024-09-10 14:02:52 src.tokens DEBUG    i=191 | [1] Al <> [1] Manny\n",
      "2024-09-10 14:02:52 src.tokens DEBUG    i=192 | [1]ain <> [1] Pac\n",
      "2024-09-10 14:02:52 src.tokens DEBUG    i=193 | [1] Pro <> [1]qu\n",
      "2024-09-10 14:02:52 src.tokens DEBUG    i=194 | [1]st <> [1]iao\n",
      "2024-09-10 14:02:52 src.tokens DEBUG    ==================================================\n",
      "2024-09-10 14:02:52 src.tokens DEBUG    query_start=179\n",
      "2024-09-10 14:02:52 __main__ DEBUG    patch_ans=PredictedToken(token=' boxing', prob=0.8368945121765137, logit=21.71875, token_id=46329)\n",
      "2024-09-10 14:02:52 __main__ DEBUG    clean_ans=PredictedToken(token=' Formula', prob=0.9057774543762207, logit=21.46875, token_id=31922)\n",
      "2024-09-10 14:02:52 __main__ DEBUG    corrupt_rank=233 | base_ans=PredictedToken(token=' boxing', prob=2.112345555360662e-06, logit=None, token_id=46329)\n",
      "2024-09-10 14:02:53 __main__ DEBUG    ==================================================\n",
      "2024-09-10 14:02:53 __main__ DEBUG    ('model.layers.0', -1)\n",
      "2024-09-10 14:02:53 __main__ DEBUG    h_restore_pred=PredictedToken(token=' boxing', prob=2.113243908752338e-06, logit=8.5, token_id=46329)\n",
      "2024-09-10 14:02:54 __main__ DEBUG    mlp_ablation_pred=PredictedToken(token=' boxing', prob=2.1123339593032142e-06, logit=8.5, token_id=46329)\n",
      "2024-09-10 14:02:55 __main__ DEBUG    attn_ablation_pred=PredictedToken(token=' boxing', prob=2.1120590645296033e-06, logit=8.5, token_id=46329)\n",
      "2024-09-10 14:02:55 __main__ DEBUG    --------------------------------------------------\n",
      "2024-09-10 14:02:55 __main__ DEBUG    ('model.layers.1', -1)\n",
      "2024-09-10 14:02:56 __main__ DEBUG    h_restore_pred=PredictedToken(token=' boxing', prob=2.068230969598517e-06, logit=8.4921875, token_id=46329)\n",
      "2024-09-10 14:02:57 __main__ DEBUG    mlp_ablation_pred=PredictedToken(token=' boxing', prob=2.1104754068801412e-06, logit=8.484375, token_id=46329)\n",
      "2024-09-10 14:02:58 __main__ DEBUG    attn_ablation_pred=PredictedToken(token=' boxing', prob=2.113087930410984e-06, logit=8.5, token_id=46329)\n",
      "2024-09-10 14:02:58 __main__ DEBUG    --------------------------------------------------\n",
      "2024-09-10 14:02:58 __main__ DEBUG    ('model.layers.2', -1)\n",
      "2024-09-10 14:02:59 __main__ DEBUG    h_restore_pred=PredictedToken(token=' boxing', prob=2.0296072307246504e-06, logit=8.5, token_id=46329)\n",
      "2024-09-10 14:03:00 __main__ DEBUG    mlp_ablation_pred=PredictedToken(token=' boxing', prob=2.2060585251892917e-06, logit=8.5, token_id=46329)\n",
      "2024-09-10 14:03:00 __main__ DEBUG    attn_ablation_pred=PredictedToken(token=' boxing', prob=2.0979796317988075e-06, logit=8.4921875, token_id=46329)\n",
      "2024-09-10 14:03:00 __main__ DEBUG    --------------------------------------------------\n",
      "2024-09-10 14:03:00 __main__ DEBUG    ('model.layers.3', -1)\n",
      "2024-09-10 14:03:01 __main__ DEBUG    h_restore_pred=PredictedToken(token=' boxing', prob=2.0028026028739987e-06, logit=8.515625, token_id=46329)\n",
      "2024-09-10 14:03:02 __main__ DEBUG    mlp_ablation_pred=PredictedToken(token=' boxing', prob=2.351205694139935e-06, logit=8.5234375, token_id=46329)\n",
      "2024-09-10 14:03:03 __main__ DEBUG    attn_ablation_pred=PredictedToken(token=' boxing', prob=2.0977640815544873e-06, logit=8.4921875, token_id=46329)\n",
      "2024-09-10 14:03:03 __main__ DEBUG    --------------------------------------------------\n",
      "2024-09-10 14:03:03 __main__ DEBUG    ('model.layers.4', -1)\n",
      "2024-09-10 14:03:04 __main__ DEBUG    h_restore_pred=PredictedToken(token=' boxing', prob=1.895115588013141e-06, logit=8.53125, token_id=46329)\n",
      "2024-09-10 14:03:05 __main__ DEBUG    mlp_ablation_pred=PredictedToken(token=' boxing', prob=2.180509227400762e-06, logit=8.4921875, token_id=46329)\n",
      "2024-09-10 14:03:06 __main__ DEBUG    attn_ablation_pred=PredictedToken(token=' boxing', prob=2.0978334305254975e-06, logit=8.4765625, token_id=46329)\n",
      "2024-09-10 14:03:06 __main__ DEBUG    --------------------------------------------------\n",
      "2024-09-10 14:03:06 __main__ DEBUG    ('model.layers.5', -1)\n",
      "2024-09-10 14:03:06 __main__ DEBUG    h_restore_pred=PredictedToken(token=' boxing', prob=1.8609565586302779e-06, logit=8.5703125, token_id=46329)\n",
      "2024-09-10 14:03:07 __main__ DEBUG    mlp_ablation_pred=PredictedToken(token=' boxing', prob=2.3829991278034868e-06, logit=8.5390625, token_id=46329)\n",
      "2024-09-10 14:03:08 __main__ DEBUG    attn_ablation_pred=PredictedToken(token=' boxing', prob=2.116648147421074e-06, logit=8.484375, token_id=46329)\n",
      "2024-09-10 14:03:08 __main__ DEBUG    --------------------------------------------------\n",
      "2024-09-10 14:03:08 __main__ DEBUG    ('model.layers.6', -1)\n",
      "2024-09-10 14:03:09 __main__ DEBUG    h_restore_pred=PredictedToken(token=' boxing', prob=1.874838176263438e-06, logit=8.5625, token_id=46329)\n",
      "2024-09-10 14:03:10 __main__ DEBUG    mlp_ablation_pred=PredictedToken(token=' boxing', prob=2.5442409423703793e-06, logit=8.5625, token_id=46329)\n",
      "2024-09-10 14:03:11 __main__ DEBUG    attn_ablation_pred=PredictedToken(token=' boxing', prob=2.1796938654006226e-06, logit=8.484375, token_id=46329)\n",
      "2024-09-10 14:03:11 __main__ DEBUG    --------------------------------------------------\n",
      "2024-09-10 14:03:11 __main__ DEBUG    ('model.layers.7', -1)\n",
      "2024-09-10 14:03:12 __main__ DEBUG    h_restore_pred=PredictedToken(token=' boxing', prob=1.8313746750209248e-06, logit=8.5390625, token_id=46329)\n",
      "2024-09-10 14:03:13 __main__ DEBUG    mlp_ablation_pred=PredictedToken(token=' boxing', prob=2.2709932636644226e-06, logit=8.53125, token_id=46329)\n",
      "2024-09-10 14:03:13 __main__ DEBUG    attn_ablation_pred=PredictedToken(token=' boxing', prob=2.0534946543193655e-06, logit=8.453125, token_id=46329)\n",
      "2024-09-10 14:03:13 __main__ DEBUG    --------------------------------------------------\n",
      "2024-09-10 14:03:13 __main__ DEBUG    ('model.layers.8', -1)\n",
      "2024-09-10 14:03:14 __main__ DEBUG    h_restore_pred=PredictedToken(token=' boxing', prob=1.830551241255307e-06, logit=8.5234375, token_id=46329)\n",
      "2024-09-10 14:03:15 __main__ DEBUG    mlp_ablation_pred=PredictedToken(token=' boxing', prob=2.245891892016516e-06, logit=8.4296875, token_id=46329)\n",
      "2024-09-10 14:03:16 __main__ DEBUG    attn_ablation_pred=PredictedToken(token=' boxing', prob=2.0044126358698122e-06, logit=8.4140625, token_id=46329)\n",
      "2024-09-10 14:03:16 __main__ DEBUG    --------------------------------------------------\n",
      "2024-09-10 14:03:16 __main__ DEBUG    ('model.layers.9', -1)\n",
      "2024-09-10 14:03:17 __main__ DEBUG    h_restore_pred=PredictedToken(token=' boxing', prob=1.6527758361917222e-06, logit=8.34375, token_id=46329)\n",
      "2024-09-10 14:03:18 __main__ DEBUG    mlp_ablation_pred=PredictedToken(token=' boxing', prob=1.8716705199040007e-06, logit=8.3203125, token_id=46329)\n",
      "2024-09-10 14:03:19 __main__ DEBUG    attn_ablation_pred=PredictedToken(token=' boxing', prob=2.124667162206606e-06, logit=8.3984375, token_id=46329)\n",
      "2024-09-10 14:03:19 __main__ DEBUG    --------------------------------------------------\n",
      "2024-09-10 14:03:19 __main__ DEBUG    ('model.layers.10', -1)\n",
      "2024-09-10 14:03:20 __main__ DEBUG    h_restore_pred=PredictedToken(token=' boxing', prob=1.6378872942368616e-06, logit=8.2421875, token_id=46329)\n",
      "2024-09-10 14:03:20 __main__ DEBUG    mlp_ablation_pred=PredictedToken(token=' boxing', prob=2.0506363398453686e-06, logit=8.421875, token_id=46329)\n",
      "2024-09-10 14:03:21 __main__ DEBUG    attn_ablation_pred=PredictedToken(token=' boxing', prob=2.1953101168037392e-06, logit=8.3828125, token_id=46329)\n",
      "2024-09-10 14:03:21 __main__ DEBUG    --------------------------------------------------\n",
      "2024-09-10 14:03:21 __main__ DEBUG    ('model.layers.11', -1)\n",
      "2024-09-10 14:03:22 __main__ DEBUG    h_restore_pred=PredictedToken(token=' boxing', prob=1.5680267324569286e-06, logit=8.2265625, token_id=46329)\n",
      "2024-09-10 14:03:23 __main__ DEBUG    mlp_ablation_pred=PredictedToken(token=' boxing', prob=2.1217310859356076e-06, logit=8.5390625, token_id=46329)\n",
      "2024-09-10 14:03:24 __main__ DEBUG    attn_ablation_pred=PredictedToken(token=' boxing', prob=2.142019638995407e-06, logit=8.3515625, token_id=46329)\n",
      "2024-09-10 14:03:24 __main__ DEBUG    --------------------------------------------------\n",
      "2024-09-10 14:03:24 __main__ DEBUG    ('model.layers.12', -1)\n",
      "2024-09-10 14:03:25 __main__ DEBUG    h_restore_pred=PredictedToken(token=' boxing', prob=1.1588876986934338e-06, logit=8.0390625, token_id=46329)\n",
      "2024-09-10 14:03:26 __main__ DEBUG    mlp_ablation_pred=PredictedToken(token=' boxing', prob=1.6338801742676878e-06, logit=8.328125, token_id=46329)\n",
      "2024-09-10 14:03:27 __main__ DEBUG    attn_ablation_pred=PredictedToken(token=' boxing', prob=1.914997255880735e-06, logit=8.234375, token_id=46329)\n",
      "2024-09-10 14:03:27 __main__ DEBUG    --------------------------------------------------\n",
      "2024-09-10 14:03:27 __main__ DEBUG    ('model.layers.13', -1)\n",
      "2024-09-10 14:03:27 __main__ DEBUG    h_restore_pred=PredictedToken(token=' boxing', prob=1.960194822459016e-06, logit=8.3671875, token_id=46329)\n",
      "2024-09-10 14:03:28 __main__ DEBUG    mlp_ablation_pred=PredictedToken(token=' boxing', prob=1.652536980145669e-06, logit=8.40625, token_id=46329)\n",
      "2024-09-10 14:03:29 __main__ DEBUG    attn_ablation_pred=PredictedToken(token=' boxing', prob=2.7712367227650248e-06, logit=8.484375, token_id=46329)\n",
      "2024-09-10 14:03:29 __main__ DEBUG    --------------------------------------------------\n",
      "2024-09-10 14:03:29 __main__ DEBUG    ('model.layers.14', -1)\n",
      "2024-09-10 14:03:30 __main__ DEBUG    h_restore_pred=PredictedToken(token=' boxing', prob=2.3600769054610282e-06, logit=8.4375, token_id=46329)\n",
      "2024-09-10 14:03:31 __main__ DEBUG    mlp_ablation_pred=PredictedToken(token=' boxing', prob=1.7477710798630142e-06, logit=8.453125, token_id=46329)\n",
      "2024-09-10 14:03:32 __main__ DEBUG    attn_ablation_pred=PredictedToken(token=' boxing', prob=3.6719366107718088e-06, logit=8.671875, token_id=46329)\n",
      "2024-09-10 14:03:32 __main__ DEBUG    --------------------------------------------------\n",
      "2024-09-10 14:03:32 __main__ DEBUG    ('model.layers.15', -1)\n",
      "2024-09-10 14:03:33 __main__ DEBUG    h_restore_pred=PredictedToken(token=' boxing', prob=4.1487535781925544e-05, logit=10.9765625, token_id=46329)\n",
      "2024-09-10 14:03:34 __main__ DEBUG    mlp_ablation_pred=PredictedToken(token=' boxing', prob=3.9635010580241214e-06, logit=8.9453125, token_id=46329)\n",
      "2024-09-10 14:03:35 __main__ DEBUG    attn_ablation_pred=PredictedToken(token=' boxing', prob=4.015158992842771e-05, logit=11.1875, token_id=46329)\n",
      "2024-09-10 14:03:35 __main__ DEBUG    --------------------------------------------------\n",
      "2024-09-10 14:03:35 __main__ DEBUG    ('model.layers.16', -1)\n",
      "2024-09-10 14:03:35 __main__ DEBUG    h_restore_pred=PredictedToken(token=' boxing', prob=0.0006688829744234681, logit=13.546875, token_id=46329)\n",
      "2024-09-10 14:03:36 __main__ DEBUG    mlp_ablation_pred=PredictedToken(token=' boxing', prob=7.276753422047477e-06, logit=9.3203125, token_id=46329)\n",
      "2024-09-10 14:03:37 __main__ DEBUG    attn_ablation_pred=PredictedToken(token=' boxing', prob=0.00016374641563743353, logit=12.3125, token_id=46329)\n",
      "2024-09-10 14:03:37 __main__ DEBUG    --------------------------------------------------\n",
      "2024-09-10 14:03:37 __main__ DEBUG    ('model.layers.17', -1)\n",
      "2024-09-10 14:03:38 __main__ DEBUG    h_restore_pred=PredictedToken(token=' boxing', prob=0.4104321599006653, logit=19.25, token_id=46329)\n",
      "2024-09-10 14:03:39 __main__ DEBUG    mlp_ablation_pred=PredictedToken(token=' boxing', prob=2.71011158474721e-05, logit=9.984375, token_id=46329)\n",
      "2024-09-10 14:03:40 __main__ DEBUG    attn_ablation_pred=PredictedToken(token=' boxing', prob=0.05764930695295334, logit=17.4375, token_id=46329)\n",
      "2024-09-10 14:03:40 __main__ DEBUG    --------------------------------------------------\n",
      "2024-09-10 14:03:40 __main__ DEBUG    ('model.layers.18', -1)\n",
      "2024-09-10 14:03:41 __main__ DEBUG    h_restore_pred=PredictedToken(token=' boxing', prob=0.5918320417404175, logit=19.703125, token_id=46329)\n",
      "2024-09-10 14:03:42 __main__ DEBUG    mlp_ablation_pred=PredictedToken(token=' boxing', prob=5.054898792877793e-05, logit=10.515625, token_id=46329)\n",
      "2024-09-10 14:03:42 __main__ DEBUG    attn_ablation_pred=PredictedToken(token=' boxing', prob=0.1077481359243393, logit=17.921875, token_id=46329)\n",
      "2024-09-10 14:03:42 __main__ DEBUG    --------------------------------------------------\n",
      "2024-09-10 14:03:42 __main__ DEBUG    ('model.layers.19', -1)\n",
      "2024-09-10 14:03:43 __main__ DEBUG    h_restore_pred=PredictedToken(token=' boxing', prob=0.6953706741333008, logit=20.125, token_id=46329)\n",
      "2024-09-10 14:03:44 __main__ DEBUG    mlp_ablation_pred=PredictedToken(token=' boxing', prob=0.00014475217903964221, logit=11.234375, token_id=46329)\n",
      "2024-09-10 14:03:45 __main__ DEBUG    attn_ablation_pred=PredictedToken(token=' boxing', prob=0.207041397690773, logit=18.5, token_id=46329)\n",
      "2024-09-10 14:03:45 __main__ DEBUG    --------------------------------------------------\n",
      "2024-09-10 14:03:45 __main__ DEBUG    ('model.layers.20', -1)\n",
      "2024-09-10 14:03:46 __main__ DEBUG    h_restore_pred=PredictedToken(token=' boxing', prob=0.7614725232124329, logit=20.640625, token_id=46329)\n",
      "2024-09-10 14:03:47 __main__ DEBUG    mlp_ablation_pred=PredictedToken(token=' boxing', prob=0.0002693597343750298, logit=11.3515625, token_id=46329)\n",
      "2024-09-10 14:03:48 __main__ DEBUG    attn_ablation_pred=PredictedToken(token=' boxing', prob=0.2362954169511795, logit=18.734375, token_id=46329)\n",
      "2024-09-10 14:03:48 __main__ DEBUG    --------------------------------------------------\n",
      "2024-09-10 14:03:48 __main__ DEBUG    ('model.layers.21', -1)\n",
      "2024-09-10 14:03:49 __main__ DEBUG    h_restore_pred=PredictedToken(token=' boxing', prob=0.7873508334159851, logit=21.3125, token_id=46329)\n",
      "2024-09-10 14:03:49 __main__ DEBUG    mlp_ablation_pred=PredictedToken(token=' boxing', prob=0.003160000080242753, logit=13.0390625, token_id=46329)\n",
      "2024-09-10 14:03:50 __main__ DEBUG    attn_ablation_pred=PredictedToken(token=' boxing', prob=0.7569542527198792, logit=20.421875, token_id=46329)\n",
      "2024-09-10 14:03:50 __main__ DEBUG    --------------------------------------------------\n",
      "2024-09-10 14:03:50 __main__ DEBUG    ('model.layers.22', -1)\n",
      "2024-09-10 14:03:51 __main__ DEBUG    h_restore_pred=PredictedToken(token=' boxing', prob=0.7939280271530151, logit=21.40625, token_id=46329)\n",
      "2024-09-10 14:03:52 __main__ DEBUG    mlp_ablation_pred=PredictedToken(token=' boxing', prob=0.009074634872376919, logit=13.6484375, token_id=46329)\n",
      "2024-09-10 14:03:53 __main__ DEBUG    attn_ablation_pred=PredictedToken(token=' boxing', prob=0.7563040852546692, logit=20.4375, token_id=46329)\n",
      "2024-09-10 14:03:53 __main__ DEBUG    --------------------------------------------------\n",
      "2024-09-10 14:03:53 __main__ DEBUG    ('model.layers.23', -1)\n",
      "2024-09-10 14:03:54 __main__ DEBUG    h_restore_pred=PredictedToken(token=' boxing', prob=0.7914075255393982, logit=21.390625, token_id=46329)\n",
      "2024-09-10 14:03:55 __main__ DEBUG    mlp_ablation_pred=PredictedToken(token=' boxing', prob=0.13351121544837952, logit=16.390625, token_id=46329)\n",
      "2024-09-10 14:03:55 __main__ DEBUG    attn_ablation_pred=PredictedToken(token=' boxing', prob=0.7625500559806824, logit=20.515625, token_id=46329)\n",
      "2024-09-10 14:03:55 __main__ DEBUG    --------------------------------------------------\n",
      "2024-09-10 14:03:55 __main__ DEBUG    ('model.layers.24', -1)\n",
      "2024-09-10 14:03:56 __main__ DEBUG    h_restore_pred=PredictedToken(token=' boxing', prob=0.7931374311447144, logit=21.390625, token_id=46329)\n",
      "2024-09-10 14:03:57 __main__ DEBUG    mlp_ablation_pred=PredictedToken(token=' boxing', prob=0.0979127362370491, logit=16.1875, token_id=46329)\n",
      "2024-09-10 14:03:58 __main__ DEBUG    attn_ablation_pred=PredictedToken(token=' boxing', prob=0.7637134790420532, logit=20.578125, token_id=46329)\n",
      "2024-09-10 14:03:58 __main__ DEBUG    --------------------------------------------------\n",
      "2024-09-10 14:03:58 __main__ DEBUG    ('model.layers.25', -1)\n",
      "2024-09-10 14:03:59 __main__ DEBUG    h_restore_pred=PredictedToken(token=' boxing', prob=0.7777679562568665, logit=21.359375, token_id=46329)\n",
      "2024-09-10 14:04:00 __main__ DEBUG    mlp_ablation_pred=PredictedToken(token=' boxing', prob=0.15299855172634125, logit=16.796875, token_id=46329)\n",
      "2024-09-10 14:04:01 __main__ DEBUG    attn_ablation_pred=PredictedToken(token=' boxing', prob=0.7450166940689087, logit=20.453125, token_id=46329)\n",
      "2024-09-10 14:04:01 __main__ DEBUG    --------------------------------------------------\n",
      "2024-09-10 14:04:01 __main__ DEBUG    ('model.layers.26', -1)\n",
      "2024-09-10 14:04:02 __main__ DEBUG    h_restore_pred=PredictedToken(token=' boxing', prob=0.784747302532196, logit=21.46875, token_id=46329)\n",
      "2024-09-10 14:04:03 __main__ DEBUG    mlp_ablation_pred=PredictedToken(token=' boxing', prob=0.1608017235994339, logit=17.03125, token_id=46329)\n",
      "2024-09-10 14:04:03 __main__ DEBUG    attn_ablation_pred=PredictedToken(token=' boxing', prob=0.7514824867248535, logit=20.5, token_id=46329)\n",
      "2024-09-10 14:04:03 __main__ DEBUG    --------------------------------------------------\n",
      "2024-09-10 14:04:03 __main__ DEBUG    ('model.layers.27', -1)\n",
      "2024-09-10 14:04:04 __main__ DEBUG    h_restore_pred=PredictedToken(token=' boxing', prob=0.781006932258606, logit=21.375, token_id=46329)\n",
      "2024-09-10 14:04:05 __main__ DEBUG    mlp_ablation_pred=PredictedToken(token=' boxing', prob=0.3963094651699066, logit=18.34375, token_id=46329)\n",
      "2024-09-10 14:04:06 __main__ DEBUG    attn_ablation_pred=PredictedToken(token=' boxing', prob=0.7537895441055298, logit=20.375, token_id=46329)\n",
      "2024-09-10 14:04:06 __main__ DEBUG    --------------------------------------------------\n",
      "2024-09-10 14:04:06 __main__ DEBUG    ('model.layers.28', -1)\n",
      "2024-09-10 14:04:07 __main__ DEBUG    h_restore_pred=PredictedToken(token=' boxing', prob=0.8016862273216248, logit=21.5625, token_id=46329)\n",
      "2024-09-10 14:04:08 __main__ DEBUG    mlp_ablation_pred=PredictedToken(token=' boxing', prob=0.6370867490768433, logit=24.515625, token_id=46329)\n",
      "2024-09-10 14:04:09 __main__ DEBUG    attn_ablation_pred=PredictedToken(token=' boxing', prob=0.7822915315628052, logit=20.71875, token_id=46329)\n",
      "2024-09-10 14:04:09 __main__ DEBUG    --------------------------------------------------\n",
      "2024-09-10 14:04:09 __main__ DEBUG    ('model.layers.29', -1)\n",
      "2024-09-10 14:04:10 __main__ DEBUG    h_restore_pred=PredictedToken(token=' boxing', prob=0.8109291791915894, logit=21.765625, token_id=46329)\n",
      "2024-09-10 14:04:10 __main__ DEBUG    mlp_ablation_pred=PredictedToken(token=' boxing', prob=0.6994232535362244, logit=19.34375, token_id=46329)\n",
      "2024-09-10 14:04:11 __main__ DEBUG    attn_ablation_pred=PredictedToken(token=' boxing', prob=0.7890617847442627, logit=20.9375, token_id=46329)\n",
      "2024-09-10 14:04:11 __main__ DEBUG    --------------------------------------------------\n",
      "2024-09-10 14:04:11 __main__ DEBUG    ('model.layers.30', -1)\n",
      "2024-09-10 14:04:12 __main__ DEBUG    h_restore_pred=PredictedToken(token=' boxing', prob=0.8388984799385071, logit=21.71875, token_id=46329)\n",
      "2024-09-10 14:04:13 __main__ DEBUG    mlp_ablation_pred=PredictedToken(token=' boxing', prob=0.7425376772880554, logit=19.359375, token_id=46329)\n",
      "2024-09-10 14:04:14 __main__ DEBUG    attn_ablation_pred=PredictedToken(token=' boxing', prob=0.8246954083442688, logit=20.78125, token_id=46329)\n",
      "2024-09-10 14:04:14 __main__ DEBUG    --------------------------------------------------\n",
      "2024-09-10 14:04:14 __main__ DEBUG    ('model.layers.31', -1)\n",
      "2024-09-10 14:04:15 __main__ DEBUG    h_restore_pred=PredictedToken(token=' boxing', prob=0.8368944525718689, logit=21.71875, token_id=46329)\n",
      "2024-09-10 14:04:16 __main__ DEBUG    mlp_ablation_pred=PredictedToken(token=' boxing', prob=0.8368944525718689, logit=21.71875, token_id=46329)\n",
      "2024-09-10 14:04:17 __main__ DEBUG    attn_ablation_pred=PredictedToken(token=' boxing', prob=0.8368944525718689, logit=21.71875, token_id=46329)\n",
      "2024-09-10 14:04:17 __main__ DEBUG    --------------------------------------------------\n",
      "2024-09-10 14:04:17 __main__ INFO     Processing 3/3\n",
      "2024-09-10 14:04:17 src.tokens DEBUG    clean_subj_ranges=[(185, 189), (190, 193)]\n",
      "2024-09-10 14:04:17 src.tokens DEBUG    t=185 |  Wayne\n",
      "2024-09-10 14:04:17 src.tokens DEBUG    t=186 |  Gret\n",
      "2024-09-10 14:04:17 src.tokens DEBUG    t=187 | z\n",
      "2024-09-10 14:04:17 src.tokens DEBUG    t=188 | ky\n",
      "2024-09-10 14:04:17 src.tokens DEBUG    --------------------------------------------------\n",
      "2024-09-10 14:04:17 src.tokens DEBUG    t=190 |  Mario\n",
      "2024-09-10 14:04:17 src.tokens DEBUG    t=191 |  Lem\n",
      "2024-09-10 14:04:17 src.tokens DEBUG    t=192 | ieux\n",
      "2024-09-10 14:04:17 src.tokens DEBUG    ==================================================\n",
      "2024-09-10 14:04:17 src.tokens DEBUG    patch_subj_ranges=[(185, 188), (189, 191)]\n",
      "2024-09-10 14:04:17 src.tokens DEBUG    t=185 |  Us\n",
      "2024-09-10 14:04:17 src.tokens DEBUG    t=186 | ain\n",
      "2024-09-10 14:04:17 src.tokens DEBUG    t=187 |  Bolt\n",
      "2024-09-10 14:04:17 src.tokens DEBUG    --------------------------------------------------\n",
      "2024-09-10 14:04:17 src.tokens DEBUG    t=189 |  Carl\n",
      "2024-09-10 14:04:17 src.tokens DEBUG    t=190 |  Lewis\n",
      "2024-09-10 14:04:17 src.tokens DEBUG    ++++++++++++++++++++++++++++++++++++++++++++++++++\n",
      "2024-09-10 14:04:17 src.tokens DEBUG    subj_1_range=(185, 189)\n",
      "2024-09-10 14:04:17 src.tokens DEBUG    i=185 |  Wayne <> <|eot_id|>\n",
      "2024-09-10 14:04:17 src.tokens DEBUG    i=186 |  Gret <>  Us\n",
      "2024-09-10 14:04:17 src.tokens DEBUG    i=187 | z <> ain\n",
      "2024-09-10 14:04:17 src.tokens DEBUG    i=188 | ky <>  Bolt\n",
      "2024-09-10 14:04:17 src.tokens DEBUG    --------------------------------------------------\n",
      "2024-09-10 14:04:17 src.tokens DEBUG    subj_2_range=(190, 193)\n",
      "2024-09-10 14:04:17 src.tokens DEBUG    i=190 | [1] Mario <> [1]<|eot_id|>\n",
      "2024-09-10 14:04:17 src.tokens DEBUG    i=191 | [1] Lem <> [1] Carl\n",
      "2024-09-10 14:04:17 src.tokens DEBUG    i=192 | [1]ieux <> [1] Lewis\n",
      "2024-09-10 14:04:17 src.tokens DEBUG    ==================================================\n",
      "2024-09-10 14:04:17 src.tokens DEBUG    query_start=179\n",
      "2024-09-10 14:04:17 __main__ DEBUG    patch_ans=PredictedToken(token=' sprint', prob=0.44188255071640015, logit=19.578125, token_id=38949)\n",
      "2024-09-10 14:04:17 __main__ DEBUG    clean_ans=PredictedToken(token=' hockey', prob=0.3597526252269745, logit=19.8125, token_id=28051)\n",
      "2024-09-10 14:04:17 __main__ DEBUG    corrupt_rank=3179 | base_ans=PredictedToken(token=' sprint', prob=8.339458901218677e-08, logit=None, token_id=38949)\n",
      "2024-09-10 14:04:18 __main__ DEBUG    ==================================================\n",
      "2024-09-10 14:04:18 __main__ DEBUG    ('model.layers.0', -1)\n",
      "2024-09-10 14:04:19 __main__ DEBUG    h_restore_pred=PredictedToken(token=' sprint', prob=8.303788945340784e-08, logit=4.53515625, token_id=38949)\n",
      "2024-09-10 14:04:20 __main__ DEBUG    mlp_ablation_pred=PredictedToken(token=' sprint', prob=8.287160824238526e-08, logit=4.53125, token_id=38949)\n",
      "2024-09-10 14:04:21 __main__ DEBUG    attn_ablation_pred=PredictedToken(token=' sprint', prob=8.308560239811413e-08, logit=4.53125, token_id=38949)\n",
      "2024-09-10 14:04:21 __main__ DEBUG    --------------------------------------------------\n",
      "2024-09-10 14:04:21 __main__ DEBUG    ('model.layers.1', -1)\n",
      "2024-09-10 14:04:21 __main__ DEBUG    h_restore_pred=PredictedToken(token=' sprint', prob=8.152684927154041e-08, logit=4.5234375, token_id=38949)\n",
      "2024-09-10 14:04:22 __main__ DEBUG    mlp_ablation_pred=PredictedToken(token=' sprint', prob=8.358580316780717e-08, logit=4.5390625, token_id=38949)\n",
      "2024-09-10 14:04:23 __main__ DEBUG    attn_ablation_pred=PredictedToken(token=' sprint', prob=8.339390689116044e-08, logit=4.53515625, token_id=38949)\n",
      "2024-09-10 14:04:23 __main__ DEBUG    --------------------------------------------------\n",
      "2024-09-10 14:04:23 __main__ DEBUG    ('model.layers.2', -1)\n",
      "2024-09-10 14:04:24 __main__ DEBUG    h_restore_pred=PredictedToken(token=' sprint', prob=8.202843559956818e-08, logit=4.53515625, token_id=38949)\n",
      "2024-09-10 14:04:25 __main__ DEBUG    mlp_ablation_pred=PredictedToken(token=' sprint', prob=8.360574810239996e-08, logit=4.53125, token_id=38949)\n",
      "2024-09-10 14:04:26 __main__ DEBUG    attn_ablation_pred=PredictedToken(token=' sprint', prob=8.265085682523932e-08, logit=4.53125, token_id=38949)\n",
      "2024-09-10 14:04:26 __main__ DEBUG    --------------------------------------------------\n",
      "2024-09-10 14:04:26 __main__ DEBUG    ('model.layers.3', -1)\n",
      "2024-09-10 14:04:27 __main__ DEBUG    h_restore_pred=PredictedToken(token=' sprint', prob=7.744839791712366e-08, logit=4.55078125, token_id=38949)\n",
      "2024-09-10 14:04:28 __main__ DEBUG    mlp_ablation_pred=PredictedToken(token=' sprint', prob=8.852730104536022e-08, logit=4.55859375, token_id=38949)\n",
      "2024-09-10 14:04:29 __main__ DEBUG    attn_ablation_pred=PredictedToken(token=' sprint', prob=8.345070057202975e-08, logit=4.5390625, token_id=38949)\n",
      "2024-09-10 14:04:29 __main__ DEBUG    --------------------------------------------------\n",
      "2024-09-10 14:04:29 __main__ DEBUG    ('model.layers.4', -1)\n",
      "2024-09-10 14:04:29 __main__ DEBUG    h_restore_pred=PredictedToken(token=' sprint', prob=7.293956372222965e-08, logit=4.5859375, token_id=38949)\n",
      "2024-09-10 14:04:30 __main__ DEBUG    mlp_ablation_pred=PredictedToken(token=' sprint', prob=9.60142045869361e-08, logit=4.64453125, token_id=38949)\n",
      "2024-09-10 14:04:31 __main__ DEBUG    attn_ablation_pred=PredictedToken(token=' sprint', prob=8.489537606237718e-08, logit=4.56640625, token_id=38949)\n",
      "2024-09-10 14:04:31 __main__ DEBUG    --------------------------------------------------\n",
      "2024-09-10 14:04:31 __main__ DEBUG    ('model.layers.5', -1)\n",
      "2024-09-10 14:04:32 __main__ DEBUG    h_restore_pred=PredictedToken(token=' sprint', prob=6.271201868912613e-08, logit=4.64453125, token_id=38949)\n",
      "2024-09-10 14:04:33 __main__ DEBUG    mlp_ablation_pred=PredictedToken(token=' sprint', prob=8.768285653104613e-08, logit=4.60546875, token_id=38949)\n",
      "2024-09-10 14:04:34 __main__ DEBUG    attn_ablation_pred=PredictedToken(token=' sprint', prob=8.666039974514206e-08, logit=4.59765625, token_id=38949)\n",
      "2024-09-10 14:04:34 __main__ DEBUG    --------------------------------------------------\n",
      "2024-09-10 14:04:34 __main__ DEBUG    ('model.layers.6', -1)\n",
      "2024-09-10 14:04:35 __main__ DEBUG    h_restore_pred=PredictedToken(token=' sprint', prob=5.7453167556786866e-08, logit=4.63671875, token_id=38949)\n",
      "2024-09-10 14:04:36 __main__ DEBUG    mlp_ablation_pred=PredictedToken(token=' sprint', prob=9.957410185279514e-08, logit=4.73046875, token_id=38949)\n",
      "2024-09-10 14:04:37 __main__ DEBUG    attn_ablation_pred=PredictedToken(token=' sprint', prob=8.869918133314059e-08, logit=4.625, token_id=38949)\n",
      "2024-09-10 14:04:37 __main__ DEBUG    --------------------------------------------------\n",
      "2024-09-10 14:04:37 __main__ DEBUG    ('model.layers.7', -1)\n",
      "2024-09-10 14:04:38 __main__ DEBUG    h_restore_pred=PredictedToken(token=' sprint', prob=5.4094662971237994e-08, logit=4.62109375, token_id=38949)\n",
      "2024-09-10 14:04:39 __main__ DEBUG    mlp_ablation_pred=PredictedToken(token=' sprint', prob=8.792773797949849e-08, logit=4.640625, token_id=38949)\n",
      "2024-09-10 14:04:40 __main__ DEBUG    attn_ablation_pred=PredictedToken(token=' sprint', prob=8.594427924890624e-08, logit=4.63671875, token_id=38949)\n",
      "2024-09-10 14:04:40 __main__ DEBUG    --------------------------------------------------\n",
      "2024-09-10 14:04:40 __main__ DEBUG    ('model.layers.8', -1)\n",
      "2024-09-10 14:04:41 __main__ DEBUG    h_restore_pred=PredictedToken(token=' sprint', prob=5.2808097450451896e-08, logit=4.6328125, token_id=38949)\n",
      "2024-09-10 14:04:41 __main__ DEBUG    mlp_ablation_pred=PredictedToken(token=' sprint', prob=1.007373811034995e-07, logit=4.69921875, token_id=38949)\n",
      "2024-09-10 14:04:42 __main__ DEBUG    attn_ablation_pred=PredictedToken(token=' sprint', prob=8.207574353491509e-08, logit=4.59765625, token_id=38949)\n",
      "2024-09-10 14:04:42 __main__ DEBUG    --------------------------------------------------\n",
      "2024-09-10 14:04:42 __main__ DEBUG    ('model.layers.9', -1)\n",
      "2024-09-10 14:04:43 __main__ DEBUG    h_restore_pred=PredictedToken(token=' sprint', prob=5.2099277780826014e-08, logit=4.5703125, token_id=38949)\n",
      "2024-09-10 14:04:44 __main__ DEBUG    mlp_ablation_pred=PredictedToken(token=' sprint', prob=7.020175729621769e-08, logit=4.55859375, token_id=38949)\n",
      "2024-09-10 14:04:45 __main__ DEBUG    attn_ablation_pred=PredictedToken(token=' sprint', prob=8.601952572462324e-08, logit=4.578125, token_id=38949)\n",
      "2024-09-10 14:04:45 __main__ DEBUG    --------------------------------------------------\n",
      "2024-09-10 14:04:45 __main__ DEBUG    ('model.layers.10', -1)\n",
      "2024-09-10 14:04:46 __main__ DEBUG    h_restore_pred=PredictedToken(token=' sprint', prob=5.73496947708918e-08, logit=4.6015625, token_id=38949)\n",
      "2024-09-10 14:04:47 __main__ DEBUG    mlp_ablation_pred=PredictedToken(token=' sprint', prob=7.329037288172913e-08, logit=4.59765625, token_id=38949)\n",
      "2024-09-10 14:04:48 __main__ DEBUG    attn_ablation_pred=PredictedToken(token=' sprint', prob=7.411595959183614e-08, logit=4.53125, token_id=38949)\n",
      "2024-09-10 14:04:48 __main__ DEBUG    --------------------------------------------------\n",
      "2024-09-10 14:04:48 __main__ DEBUG    ('model.layers.11', -1)\n",
      "2024-09-10 14:04:49 __main__ DEBUG    h_restore_pred=PredictedToken(token=' sprint', prob=5.104766742647371e-08, logit=4.60546875, token_id=38949)\n",
      "2024-09-10 14:04:50 __main__ DEBUG    mlp_ablation_pred=PredictedToken(token=' sprint', prob=6.446937561577215e-08, logit=4.4609375, token_id=38949)\n",
      "2024-09-10 14:04:51 __main__ DEBUG    attn_ablation_pred=PredictedToken(token=' sprint', prob=7.1949145308281e-08, logit=4.53125, token_id=38949)\n",
      "2024-09-10 14:04:51 __main__ DEBUG    --------------------------------------------------\n",
      "2024-09-10 14:04:51 __main__ DEBUG    ('model.layers.12', -1)\n",
      "2024-09-10 14:04:52 __main__ DEBUG    h_restore_pred=PredictedToken(token=' sprint', prob=4.962852528933581e-08, logit=4.6875, token_id=38949)\n",
      "2024-09-10 14:04:52 __main__ DEBUG    mlp_ablation_pred=PredictedToken(token=' sprint', prob=6.054654022591421e-08, logit=4.5, token_id=38949)\n",
      "2024-09-10 14:04:53 __main__ DEBUG    attn_ablation_pred=PredictedToken(token=' sprint', prob=6.774020988586926e-08, logit=4.6015625, token_id=38949)\n",
      "2024-09-10 14:04:53 __main__ DEBUG    --------------------------------------------------\n",
      "2024-09-10 14:04:53 __main__ DEBUG    ('model.layers.13', -1)\n",
      "2024-09-10 14:04:54 __main__ DEBUG    h_restore_pred=PredictedToken(token=' sprint', prob=3.753223154490115e-08, logit=4.8125, token_id=38949)\n",
      "2024-09-10 14:04:55 __main__ DEBUG    mlp_ablation_pred=PredictedToken(token=' sprint', prob=5.910195355340875e-08, logit=4.4296875, token_id=38949)\n",
      "2024-09-10 14:04:56 __main__ DEBUG    attn_ablation_pred=PredictedToken(token=' sprint', prob=6.516405193224273e-08, logit=4.84375, token_id=38949)\n",
      "2024-09-10 14:04:56 __main__ DEBUG    --------------------------------------------------\n",
      "2024-09-10 14:04:56 __main__ DEBUG    ('model.layers.14', -1)\n",
      "2024-09-10 14:04:57 __main__ DEBUG    h_restore_pred=PredictedToken(token=' sprint', prob=3.356628752726465e-08, logit=4.81640625, token_id=38949)\n",
      "2024-09-10 14:04:58 __main__ DEBUG    mlp_ablation_pred=PredictedToken(token=' sprint', prob=6.673854358041353e-08, logit=4.46875, token_id=38949)\n",
      "2024-09-10 14:04:59 __main__ DEBUG    attn_ablation_pred=PredictedToken(token=' sprint', prob=7.601799012491028e-08, logit=5.32421875, token_id=38949)\n",
      "2024-09-10 14:04:59 __main__ DEBUG    --------------------------------------------------\n",
      "2024-09-10 14:04:59 __main__ DEBUG    ('model.layers.15', -1)\n",
      "2024-09-10 14:05:00 __main__ DEBUG    h_restore_pred=PredictedToken(token=' sprint', prob=1.6640193223338429e-07, logit=6.4296875, token_id=38949)\n",
      "2024-09-10 14:05:00 __main__ DEBUG    mlp_ablation_pred=PredictedToken(token=' sprint', prob=1.1883374639864996e-07, logit=4.796875, token_id=38949)\n",
      "2024-09-10 14:05:01 __main__ DEBUG    attn_ablation_pred=PredictedToken(token=' sprint', prob=3.180423391313525e-07, logit=6.91015625, token_id=38949)\n",
      "2024-09-10 14:05:01 __main__ DEBUG    --------------------------------------------------\n",
      "2024-09-10 14:05:01 __main__ DEBUG    ('model.layers.16', -1)\n",
      "2024-09-10 14:05:02 __main__ DEBUG    h_restore_pred=PredictedToken(token=' sprint', prob=6.668724381597713e-07, logit=7.51171875, token_id=38949)\n",
      "2024-09-10 14:05:03 __main__ DEBUG    mlp_ablation_pred=PredictedToken(token=' sprint', prob=1.7337924873572774e-07, logit=4.8984375, token_id=38949)\n",
      "2024-09-10 14:05:04 __main__ DEBUG    attn_ablation_pred=PredictedToken(token=' sprint', prob=1.6035628505051136e-06, logit=8.25, token_id=38949)\n",
      "2024-09-10 14:05:04 __main__ DEBUG    --------------------------------------------------\n",
      "2024-09-10 14:05:04 __main__ DEBUG    ('model.layers.17', -1)\n",
      "2024-09-10 14:05:05 __main__ DEBUG    h_restore_pred=PredictedToken(token=' sprint', prob=0.00032248394563794136, logit=12.3828125, token_id=38949)\n",
      "2024-09-10 14:05:06 __main__ DEBUG    mlp_ablation_pred=PredictedToken(token=' sprint', prob=6.057855443941662e-07, logit=5.5859375, token_id=38949)\n",
      "2024-09-10 14:05:07 __main__ DEBUG    attn_ablation_pred=PredictedToken(token=' sprint', prob=0.0003647370613180101, logit=12.3203125, token_id=38949)\n",
      "2024-09-10 14:05:07 __main__ DEBUG    --------------------------------------------------\n",
      "2024-09-10 14:05:07 __main__ DEBUG    ('model.layers.18', -1)\n",
      "2024-09-10 14:05:08 __main__ DEBUG    h_restore_pred=PredictedToken(token=' sprint', prob=0.0007219564286060631, logit=12.9453125, token_id=38949)\n",
      "2024-09-10 14:05:09 __main__ DEBUG    mlp_ablation_pred=PredictedToken(token=' sprint', prob=1.3121660913384403e-06, logit=6.171875, token_id=38949)\n",
      "2024-09-10 14:05:09 __main__ DEBUG    attn_ablation_pred=PredictedToken(token=' sprint', prob=0.0006782705895602703, logit=12.7890625, token_id=38949)\n",
      "2024-09-10 14:05:09 __main__ DEBUG    --------------------------------------------------\n",
      "2024-09-10 14:05:09 __main__ DEBUG    ('model.layers.19', -1)\n",
      "2024-09-10 14:05:10 __main__ DEBUG    h_restore_pred=PredictedToken(token=' sprint', prob=0.0011299903271719813, logit=13.3671875, token_id=38949)\n",
      "2024-09-10 14:05:11 __main__ DEBUG    mlp_ablation_pred=PredictedToken(token=' sprint', prob=1.1167445563842193e-06, logit=6.1875, token_id=38949)\n",
      "2024-09-10 14:05:12 __main__ DEBUG    attn_ablation_pred=PredictedToken(token=' sprint', prob=0.0010912776924669743, logit=13.265625, token_id=38949)\n",
      "2024-09-10 14:05:12 __main__ DEBUG    --------------------------------------------------\n",
      "2024-09-10 14:05:12 __main__ DEBUG    ('model.layers.20', -1)\n",
      "2024-09-10 14:05:13 __main__ DEBUG    h_restore_pred=PredictedToken(token=' sprint', prob=0.0026424783281981945, logit=14.0625, token_id=38949)\n",
      "2024-09-10 14:05:14 __main__ DEBUG    mlp_ablation_pred=PredictedToken(token=' sprint', prob=1.6963630287136766e-06, logit=6.52734375, token_id=38949)\n",
      "2024-09-10 14:05:15 __main__ DEBUG    attn_ablation_pred=PredictedToken(token=' sprint', prob=0.001552810543216765, logit=13.609375, token_id=38949)\n",
      "2024-09-10 14:05:15 __main__ DEBUG    --------------------------------------------------\n",
      "2024-09-10 14:05:15 __main__ DEBUG    ('model.layers.21', -1)\n",
      "2024-09-10 14:05:16 __main__ DEBUG    h_restore_pred=PredictedToken(token=' sprint', prob=0.1324026733636856, logit=17.9375, token_id=38949)\n",
      "2024-09-10 14:05:17 __main__ DEBUG    mlp_ablation_pred=PredictedToken(token=' sprint', prob=4.3055162677774206e-05, logit=8.84375, token_id=38949)\n",
      "2024-09-10 14:05:17 __main__ DEBUG    attn_ablation_pred=PredictedToken(token=' sprint', prob=0.12374274432659149, logit=17.5625, token_id=38949)\n",
      "2024-09-10 14:05:17 __main__ DEBUG    --------------------------------------------------\n",
      "2024-09-10 14:05:17 __main__ DEBUG    ('model.layers.22', -1)\n",
      "2024-09-10 14:05:18 __main__ DEBUG    h_restore_pred=PredictedToken(token=' sprint', prob=0.14153410494327545, logit=18.046875, token_id=38949)\n",
      "2024-09-10 14:05:19 __main__ DEBUG    mlp_ablation_pred=PredictedToken(token=' sprint', prob=0.0007369173690676689, logit=11.3671875, token_id=38949)\n",
      "2024-09-10 14:05:20 __main__ DEBUG    attn_ablation_pred=PredictedToken(token=' sprint', prob=0.12470268458127975, logit=17.546875, token_id=38949)\n",
      "2024-09-10 14:05:20 __main__ DEBUG    --------------------------------------------------\n",
      "2024-09-10 14:05:20 __main__ DEBUG    ('model.layers.23', -1)\n",
      "2024-09-10 14:05:21 __main__ DEBUG    h_restore_pred=PredictedToken(token=' sprint', prob=0.1341320276260376, logit=18.125, token_id=38949)\n",
      "2024-09-10 14:05:22 __main__ DEBUG    mlp_ablation_pred=PredictedToken(token=' sprint', prob=0.0011615381808951497, logit=11.7265625, token_id=38949)\n",
      "2024-09-10 14:05:23 __main__ DEBUG    attn_ablation_pred=PredictedToken(token=' sprint', prob=0.11748357117176056, logit=17.65625, token_id=38949)\n",
      "2024-09-10 14:05:23 __main__ DEBUG    --------------------------------------------------\n",
      "2024-09-10 14:05:23 __main__ DEBUG    ('model.layers.24', -1)\n",
      "2024-09-10 14:05:24 __main__ DEBUG    h_restore_pred=PredictedToken(token=' sprint', prob=0.1126956045627594, logit=18.046875, token_id=38949)\n",
      "2024-09-10 14:05:25 __main__ DEBUG    mlp_ablation_pred=PredictedToken(token=' sprint', prob=0.0024935039691627026, logit=12.640625, token_id=38949)\n",
      "2024-09-10 14:05:26 __main__ DEBUG    attn_ablation_pred=PredictedToken(token=' sprint', prob=0.09985595941543579, logit=17.625, token_id=38949)\n",
      "2024-09-10 14:05:26 __main__ DEBUG    --------------------------------------------------\n",
      "2024-09-10 14:05:26 __main__ DEBUG    ('model.layers.25', -1)\n",
      "2024-09-10 14:05:26 __main__ DEBUG    h_restore_pred=PredictedToken(token=' sprint', prob=0.12834440171718597, logit=18.125, token_id=38949)\n",
      "2024-09-10 14:05:27 __main__ DEBUG    mlp_ablation_pred=PredictedToken(token=' sprint', prob=0.0047496589832007885, logit=13.1484375, token_id=38949)\n",
      "2024-09-10 14:05:28 __main__ DEBUG    attn_ablation_pred=PredictedToken(token=' sprint', prob=0.11341618001461029, logit=17.640625, token_id=38949)\n",
      "2024-09-10 14:05:28 __main__ DEBUG    --------------------------------------------------\n",
      "2024-09-10 14:05:28 __main__ DEBUG    ('model.layers.26', -1)\n",
      "2024-09-10 14:05:29 __main__ DEBUG    h_restore_pred=PredictedToken(token=' sprint', prob=0.17972290515899658, logit=18.578125, token_id=38949)\n",
      "2024-09-10 14:05:30 __main__ DEBUG    mlp_ablation_pred=PredictedToken(token=' sprint', prob=0.010222556069493294, logit=13.671875, token_id=38949)\n",
      "2024-09-10 14:05:31 __main__ DEBUG    attn_ablation_pred=PredictedToken(token=' sprint', prob=0.16259720921516418, logit=18.15625, token_id=38949)\n",
      "2024-09-10 14:05:31 __main__ DEBUG    --------------------------------------------------\n",
      "2024-09-10 14:05:31 __main__ DEBUG    ('model.layers.27', -1)\n",
      "2024-09-10 14:05:32 __main__ DEBUG    h_restore_pred=PredictedToken(token=' sprint', prob=0.19077767431735992, logit=18.84375, token_id=38949)\n",
      "2024-09-10 14:05:33 __main__ DEBUG    mlp_ablation_pred=PredictedToken(token=' sprint', prob=0.014498036354780197, logit=13.625, token_id=38949)\n",
      "2024-09-10 14:05:34 __main__ DEBUG    attn_ablation_pred=PredictedToken(token=' sprint', prob=0.17141002416610718, logit=18.296875, token_id=38949)\n",
      "2024-09-10 14:05:34 __main__ DEBUG    --------------------------------------------------\n",
      "2024-09-10 14:05:34 __main__ DEBUG    ('model.layers.28', -1)\n",
      "2024-09-10 14:05:35 __main__ DEBUG    h_restore_pred=PredictedToken(token=' sprint', prob=0.24821129441261292, logit=19.109375, token_id=38949)\n",
      "2024-09-10 14:05:35 __main__ DEBUG    mlp_ablation_pred=PredictedToken(token=' sprint', prob=0.013598905876278877, logit=13.71875, token_id=38949)\n",
      "2024-09-10 14:05:36 __main__ DEBUG    attn_ablation_pred=PredictedToken(token=' sprint', prob=0.21727129817008972, logit=18.59375, token_id=38949)\n",
      "2024-09-10 14:05:36 __main__ DEBUG    --------------------------------------------------\n",
      "2024-09-10 14:05:36 __main__ DEBUG    ('model.layers.29', -1)\n",
      "2024-09-10 14:05:37 __main__ DEBUG    h_restore_pred=PredictedToken(token=' sprint', prob=0.3015102446079254, logit=19.296875, token_id=38949)\n",
      "2024-09-10 14:05:38 __main__ DEBUG    mlp_ablation_pred=PredictedToken(token=' sprint', prob=0.02162412740290165, logit=14.515625, token_id=38949)\n",
      "2024-09-10 14:05:39 __main__ DEBUG    attn_ablation_pred=PredictedToken(token=' sprint', prob=0.2436591237783432, logit=18.84375, token_id=38949)\n",
      "2024-09-10 14:05:39 __main__ DEBUG    --------------------------------------------------\n",
      "2024-09-10 14:05:39 __main__ DEBUG    ('model.layers.30', -1)\n",
      "2024-09-10 14:05:40 __main__ DEBUG    h_restore_pred=PredictedToken(token=' sprint', prob=0.3833010792732239, logit=19.609375, token_id=38949)\n",
      "2024-09-10 14:05:41 __main__ DEBUG    mlp_ablation_pred=PredictedToken(token=' sprint', prob=0.04773642495274544, logit=15.6640625, token_id=38949)\n",
      "2024-09-10 14:05:42 __main__ DEBUG    attn_ablation_pred=PredictedToken(token=' sprint', prob=0.3158501386642456, logit=19.015625, token_id=38949)\n",
      "2024-09-10 14:05:42 __main__ DEBUG    --------------------------------------------------\n",
      "2024-09-10 14:05:42 __main__ DEBUG    ('model.layers.31', -1)\n",
      "2024-09-10 14:05:43 __main__ DEBUG    h_restore_pred=PredictedToken(token=' sprint', prob=0.44188249111175537, logit=19.578125, token_id=38949)\n",
      "2024-09-10 14:05:43 __main__ DEBUG    mlp_ablation_pred=PredictedToken(token=' sprint', prob=0.44188249111175537, logit=19.578125, token_id=38949)\n",
      "2024-09-10 14:05:44 __main__ DEBUG    attn_ablation_pred=PredictedToken(token=' sprint', prob=0.44188249111175537, logit=19.578125, token_id=38949)\n",
      "2024-09-10 14:05:44 __main__ DEBUG    --------------------------------------------------\n"
     ]
    }
   ],
   "source": [
    "from scripts.causal_tracing import sample_icq_with_different_bridge\n",
    "\n",
    "limit = len(dataset)\n",
    "path_blocking_effects = []\n",
    "\n",
    "experiment_utils.set_seed(123456)\n",
    "\n",
    "for patch_idx in range(limit):\n",
    "    logger.info(f\"Processing {patch_idx+1}/{limit}\")\n",
    "    patch_qa = dataset[patch_idx]\n",
    "    clean_idx = sample_icq_with_different_bridge(\n",
    "        dataset.examples, dataset.examples[patch_idx]\n",
    "    )\n",
    "    clean_qa = dataset[clean_idx]\n",
    "\n",
    "    path_blocking_effects.append(\n",
    "        trace_path_ablation_effects(\n",
    "            mt=mt,\n",
    "            clean_ques=clean_qa[0],\n",
    "            clean_entity_pair=dataset.examples[clean_idx].entity_pair,\n",
    "            patch_ques=patch_qa[0],\n",
    "            patch_entity_pair=dataset.examples[patch_idx].entity_pair,\n",
    "        )\n",
    "    )"
   ]
  },
  {
   "cell_type": "code",
   "execution_count": 38,
   "metadata": {},
   "outputs": [
    {
     "data": {
      "image/png": "[encoded data removed]",
      "text/plain": [
       "<Figure size 2000x600 with 1 Axes>"
      ]
     },
     "metadata": {},
     "output_type": "display_data"
    }
   ],
   "source": [
    "def process_path_blocking_results(\n",
    "    path_blocking_effects: list[dict],\n",
    "    metric: str = \"prob\"\n",
    "):\n",
    "    h_restored = {l: [] for l in range(mt.n_layer)}\n",
    "    mlp_blocked = {l: [] for l in range(mt.n_layer)}\n",
    "    attn_blocked = {l: [] for l in range(mt.n_layer)}\n",
    "    for effect in path_blocking_effects:\n",
    "        high_bar = getattr(effect[\"patch_ans\"], metric) \n",
    "        low_bar = getattr(effect[\"base_ans\"], metric)\n",
    "        denominator = high_bar - low_bar\n",
    "        for l in range(mt.n_layer):\n",
    "            h_restored[l] = (getattr(effect[\"patch_blocking_effects\"][l][\"h_restored\"], metric) - low_bar) / denominator\n",
    "            mlp_blocked[l] = (getattr(effect[\"patch_blocking_effects\"][l][\"mlp_blocked\"], metric) - low_bar) / denominator\n",
    "            attn_blocked[l] = (getattr(effect[\"patch_blocking_effects\"][l][\"attn_blocked\"], metric) - low_bar) / denominator\n",
    "    \n",
    "    return {\n",
    "        l : {\n",
    "            \"h_restored\": np.mean(h_restored[l]),\n",
    "            \"mlp_blocked\": np.mean(mlp_blocked[l]),\n",
    "            \"attn_blocked\": np.mean(attn_blocked[l])\n",
    "        } for l in range(mt.n_layer)\n",
    "    }\n",
    "\n",
    "metric=\"prob\"\n",
    "plot_results = process_path_blocking_results(path_blocking_effects, metric)\n",
    "\n",
    "from matplotlib import pyplot as plt\n",
    "\n",
    "plt.figure(figsize=(20, 6))\n",
    "bar_width = 0.22\n",
    "\n",
    "plt.title(f\"Path Blocking Effects ({metric})\")\n",
    "keys = list(range(mt.n_layer))\n",
    "color_map = {\n",
    "    \"h_restored\": \"purple\",\n",
    "    \"mlp_blocked\": \"green\",\n",
    "    \"attn_blocked\": \"red\"\n",
    "}\n",
    "\n",
    "for idx, kind in enumerate([\"h_restored\", \"mlp_blocked\", \"attn_blocked\"]):\n",
    "    plt.bar(\n",
    "        [k + idx*bar_width for k in keys],\n",
    "        height=[plot_results[k][kind] for k in keys],\n",
    "        width=bar_width,\n",
    "        label=kind,\n",
    "        alpha=0.7,\n",
    "        color=color_map[kind]\n",
    "    )\n",
    "\n",
    "plt.legend(ncol = 4, bbox_to_anchor=(0.5, -.18), loc='lower center', frameon=False)\n",
    "plt.xticks(keys)\n",
    "plt.xlabel(\"Layer Index\")\n",
    "plt.show()\n"
   ]
  },
  {
   "cell_type": "code",
   "execution_count": null,
   "metadata": {},
   "outputs": [],
   "source": []
  }
 ],
 "metadata": {
  "kernelspec": {
   "display_name": "retrieval",
   "language": "python",
   "name": "python3"
  },
  "language_info": {
   "codemirror_mode": {
    "name": "ipython",
    "version": 3
   },
   "file_extension": ".py",
   "mimetype": "text/x-python",
   "name": "python",
   "nbconvert_exporter": "python",
   "pygments_lexer": "ipython3",
   "version": "3.11.9"
  }
 },
 "nbformat": 4,
 "nbformat_minor": 2
}
