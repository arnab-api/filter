{
 "cells": [
  {
   "cell_type": "code",
   "execution_count": 1,
   "id": "67684d80",
   "metadata": {},
   "outputs": [],
   "source": [
    "%load_ext autoreload\n",
    "%autoreload 2"
   ]
  },
  {
   "cell_type": "code",
   "execution_count": 2,
   "id": "8334632c",
   "metadata": {},
   "outputs": [],
   "source": [
    "import sys\n",
    "sys.path.append(\"../../\")\n",
    "\n",
    "from src.utils.oracle_llms import ASK_ORACLE_MODEL\n",
    "import json"
   ]
  },
  {
   "cell_type": "code",
   "execution_count": 3,
   "id": "844c5921",
   "metadata": {},
   "outputs": [
    {
     "data": {
      "text/plain": [
       "{'profile': {'name': 'Elara Vance',\n",
       "  'age': 29,\n",
       "  'nationality': 'Canadian',\n",
       "  'occupation': 'Data Scientist',\n",
       "  'hobbies': ['Hiking', 'Photography', 'Reading'],\n",
       "  'worksAt': {'company': 'Amazon',\n",
       "   'position': 'Senior Data Scientist',\n",
       "   'yearsOfExperience': 5,\n",
       "   'location': 'San Francisco, CA'},\n",
       "  'education': {'degree': \"Master's in Data Science\",\n",
       "   'university': 'University of Toronto',\n",
       "   'graduationYear': 2016},\n",
       "  'languages': [{'language': 'English', 'proficiency': 'Fluent'},\n",
       "   {'language': 'French', 'proficiency': 'Intermediate'}]},\n",
       " 'docs': [\"Elara Vance, a 29-year-old Canadian national, has established herself as a formidable presence in the data science field. Currently serving as a Senior Data Scientist at Amazon in San Francisco, California, Elara brings five years of specialized experience to her role. Her academic foundation includes a Master's degree in Data Science from the University of Toronto, which she completed in 2016. Fluent in English and possessing intermediate proficiency in French, Elara navigates both professional and personal environments with linguistic confidence. When not immersed in data analytics, she finds balance through her diverse interests. An avid hiker, Elara frequently explores the trails surrounding the Bay Area, capturing nature's grandeur through her passion for photography. Her intellectual curiosity extends to literature, making reading a cherished pastime that fuels both personal enjoyment and professional insight. Elara's trajectory exemplifies the harmonious integration of rigorous technical expertise with creative pursuits, positioning her as a well-rounded professional in the competitive San Francisco tech landscape.\",\n",
       "  \"Born and raised in Canada, Elara Vance has transformed her passion for patterns and analysis into a thriving career in data science. At 29, she currently holds the position of Senior Data Scientist at Amazon's San Francisco office, where she has been contributing her expertise for five years. Elara's academic journey led her to the University of Toronto, where she earned her Master's in Data Science in 2016 before relocating to California. Linguistically versatile, she communicates fluently in English while continuing to develop her intermediate French skills. Despite the demands of working at one of the world's leading tech companies, Elara maintains a rich personal life centered around her three primary interests. Her love for hiking takes her through California's diverse landscapes, while her photography skills allow her to document these adventures with an artistic eye. In quieter moments, Elara can often be found absorbed in books that range from technical publications to fiction, reflecting her balanced approach to personal and professional growth. Her commitment to continuous learning extends beyond formal education, embodying the curiosity essential to excellence in data science.\",\n",
       "  \"Elara Vance stands at the intersection of analytical precision and creative exploration. This 29-year-old Canadian has carved out an impressive career as a Senior Data Scientist at Amazon in San Francisco, where she has been applying her expertise for five years. Following her graduation from the University of Toronto with a Master's in Data Science in 2016, Elara embarked on a journey that would take her from Canada to the innovation hub of Northern California. Her linguistic capabilities include fluency in English and an intermediate command of French, reflecting her multicultural perspective. Beyond the algorithms and data sets that define her professional world, Elara nurtures her connection to nature through frequent hiking expeditions. These outdoor adventures serve as perfect opportunities for indulging in her photography hobby, where she captures moments of natural beauty and urban complexity alike. Completing her trio of interests is a devotion to reading, which provides both escape and inspiration. The combination of these elements creates a portrait of a professional who brings not only technical skill but also creativity and global awareness to her role in data science, making her a valuable asset to Amazon's analytical initiatives.\",\n",
       "  \"With a Master's degree in Data Science from the prestigious University of Toronto obtained in 2016, Elara Vance has rapidly ascended in her field to become a Senior Data Scientist at Amazon. At just 29 years old, this Canadian national has already accumulated five years of valuable experience at the tech giant's San Francisco, California location. Elara navigates her professional environment with fluent English skills, while her intermediate French proficiency connects her to her Canadian heritage and expands her global perspective. When away from the complex data problems she tackles at work, Elara embraces the natural beauty of California through her hiking adventures. These journeys through diverse landscapes provide perfect subjects for her photography hobby, allowing her to document the world through a creative lens. Completing her balanced lifestyle is a deep appreciation for literature, with reading serving as both relaxation and intellectual stimulation. This harmonious blend of professional dedication and personal passions illustrates why Elara has become a respected figure in her field, bringing both analytical rigor and creative thinking to her role at one of the world's most innovative companies.\",\n",
       "  \"Driven by curiosity and analytical insight, Elara Vance has established herself as a rising talent in the competitive field of data science. This 29-year-old Canadian currently serves as a Senior Data Scientist at Amazon in San Francisco, California, where she has been applying her expertise for five years since relocating from Canada. Her strong educational foundation was laid at the University of Toronto, where she earned her Master's in Data Science in it 2016. Linguistically skilled, Elara operates with complete fluency in English while maintaining intermediate abilities in French, enhancing her capacity to engage with diverse data sets and team members. Beyond the digital realm of algorithms and predictive models, Elara finds fulfillment in the physical world through her love of hiking, which offers both exercise and inspiration. This connection to nature complements her photography hobby, where she applies her eye for pattern recognition in a creative context. Her third passion, reading, reflects her commitment to continuous learning and intellectual growth beyond her formal education. Together, these elements create a profile of a well-rounded professional who brings both technical excellence and creative perspective to her role at Amazon, embodying the multidisciplinary mindset essential for innovation in data science.\",\n",
       "  \"Elara Vance is a highly skilled Senior Data Scientist currently applying her expertise at Amazon's San Francisco office. At 29 years old, this Canadian national has built a solid foundation in the tech industry over the past five years. Her journey into data science began with a rigorous academic pursuit, culminating in a Master's degree in Data Science from the prestigious University of Toronto, which she completed in 2016. This educational background equipped her with the analytical and technical skills necessary to excel in her field. Fluent in English and possessing an intermediate proficiency in French, Elara navigates both professional and social settings with ease. Her transition from Canada to the vibrant tech hub of San Francisco reflects her ambition and adaptability. Beyond her demanding career, Elara finds balance and inspiration through her hobbies. She is an avid hiker, often exploring the natural landscapes surrounding the Bay Area, which complements her passion for photography, capturing the moments and views she encounters. When not analyzing data or exploring the outdoors, Elara enjoys unwinding with a good book, reflecting her curious and contemplative nature. Her diverse interests and strong professional background make her a dynamic individual both inside and outside the workplace.\",\n",
       "  \"Born and raised in Canada, Elara Vance, now 29, embarked on an academic path that led her to the forefront of data science. She earned her Master's in Data Science from the University of Toronto in 2016, laying the groundwork for a successful career. Her fluency in English and intermediate French skills reflect her Canadian heritage and enhance her communication abilities. Shortly after graduation, Elara transitioned into the professional world, quickly making her mark as a Data Scientist. Over the last five years, she has honed her skills and gained valuable experience, leading to her current role as a Senior Data Scientist at Amazon. Based in San Francisco, California, Elara thrives in the fast-paced tech environment, contributing significantly to her team. Outside of her demanding job, Elara maintains a rich personal life fueled by her diverse hobbies. She is passionate about hiking, often seeking out challenging trails that offer rewarding views, which she frequently captures through her photography lens. Reading is another cherished pastime, providing relaxation and intellectual stimulation. Elara's journey from a promising graduate in Toronto to an established data professional in Silicon Valley showcases her dedication and drive, balanced by her engaging personal interests.\",\n",
       "  \"Elara Vance is a 29-year-old Canadian data professional who seamlessly blends a sharp analytical mind with a love for the natural world and creative expression. Currently working as a Senior Data Scientist at Amazon in San Francisco, she brings five years of dedicated experience to her role. Her technical expertise is rooted in her Master's degree in Data Science, obtained from the University of Toronto in 2016. This strong academic foundation prepared her for the challenges of interpreting complex datasets and driving data-informed decisions. Elara's life is not solely defined by algorithms and code; she finds great joy and rejuvenation in hiking through scenic terrains, an activity that often goes hand-in-hand with her passion for photography. Capturing the beauty of landscapes allows her to exercise her creative side. Furthermore, she is an avid reader, constantly expanding her horizons through literature. Residing in San Francisco places her at the heart of technological innovation while offering access to stunning natural environments for her pursuits. Fluent in English and with an intermediate grasp of French, Elara's communication skills complement her technical abilities, making her a well-rounded and valuable member of her team and community.\",\n",
       "  \"Meet Elara Vance, a 29-year-old Canadian national currently making significant contributions as a Senior Data Scientist at Amazon's San Francisco location. With five years of professional experience under her belt, Elara has established herself in the competitive field of data science. Her academic credentials include a Master's degree in Data Science from the University of Toronto, class of 2016. This educational background provided her with the essential skills to analyze complex data and extract meaningful insights. Elara is proficient in languages, being fluent in English and possessing intermediate-level French. When she's not immersed in data, Elara pursues hobbies that reflect her appreciation for both nature and quiet reflection. She is an enthusiastic hiker, taking advantage of the California landscape, and often documents her adventures through photography. Reading also occupies her leisure time, offering another avenue for exploration and learning. Elara's career trajectory, moving from a top Canadian university to a leading tech company in the US, highlights her ambition and competence in the global tech landscape. Her blend of technical proficiency, international background, and engaging hobbies paints a picture of a dynamic and multifaceted individual.\",\n",
       "  \"From the halls of the University of Toronto, where she earned her Master's in Data Science in 2016, to the innovative corridors of Amazon in San Francisco, Elara Vance has carved out a notable path in the tech world. At 29, this Canadian Data Scientist has already accumulated five years of valuable experience, now serving as a Senior Data Scientist. Her role demands sharp analytical skills and a deep understanding of data, qualities she possesses in abundance. Based in the bustling tech hub of San Francisco, Elara has adapted successfully to her environment, contributing her expertise to one of the world's leading companies. Beyond her professional achievements, Elara leads a fulfilling personal life enriched by her hobbies. She finds solace and adventure in hiking, exploring the diverse landscapes accessible from her California home. This love for the outdoors is complemented by her keen interest in photography, allowing her to capture and share the beauty she encounters. Quiet moments are often spent lost in a book, satisfying her intellectual curiosity. Fluent in English and capable in French at an intermediate level, Elara's communication skills further enhance her profile, making her a well-rounded professional adept at navigating complex technical and interpersonal landscapes.\",\n",
       "  \"Elara Vance, a 29-year-old Canadian senior data scientist, has established an impressive track record in the tech industry. Based in San Francisco, CA, she currently plays a pivotal role at Amazon, where she leverages five years of hands-on experience to drive innovation as a Senior Data Scientist. Elara holds a Master's in Data Science from the esteemed University of Toronto, graduating in 2016, and has since built her reputation on insightful analytics and machine learning solutions. Proficient in both English and French, Elara navigates multicultural teams with ease. Beyond her professional accomplishments, Elara is passionate about hiking the natural wonders of California, capturing landscapes through her photography, and immersing herself in a diverse range of literature. Her unique blend of technical acumen, linguistic fluency, and creative hobbies positions her as a dynamic force in her field.\",\n",
       "  \"With a dual love for data and the outdoors, Elara Vance exemplifies the modern professional. At just 29, she serves as a Senior Data Scientist at Amazon's San Francisco offices, leading complex projects with analytical precision. Her journey began at the University of Toronto, where she earned her Master's in Data Science in 2016. Since then, her five years of progressive experience have made her a respected voice in advanced analytics. Elara's Canadian heritage is complemented by her bilingual skills-she speaks English fluently and has intermediate proficiency in French. When she's not at work, Elara is often found hiking local trails, capturing moments with her camera, or engrossed in a good book. Her commitment to lifelong learning, curiosity, and community involvement distinguishes her both professionally and personally.\",\n",
       "  \"Born and raised in Canada, Elara Vance brings a unique perspective to the global tech landscape. As a Senior Data Scientist at Amazon, located in the bustling city of San Francisco, Elara leverages five years of industry experience to solve complex business challenges and mentor upcoming data professionals. She earned her Master's in Data Science from the University of Toronto in 2016, equipping her with a solid academic foundation. Elara's interests extend beyond data-she is an avid hiker, frequently exploring nature's beauty, and a passionate photographer who enjoys documenting her adventures. Books are her constant companion, reflecting her deep affinity for learning. Fluent in English and conversant in French, Elara thrives in diverse environments and enjoys connecting with colleagues from varied backgrounds.\",\n",
       "  \"At the intersection of technology and creativity stands Elara Vance, a 29-year-old Canadian expert in data science. After obtaining her Master's degree from the University of Toronto in 2016, Elara embarked on a career that now finds her in San Francisco, California, leading as a Senior Data Scientist at Amazon. Over the past five years, she has become a recognized specialist in applying data-driven strategies, leveraging her fluency in English and intermediate French skills to foster cross-functional collaboration. Elara's life outside the office is equally vibrant-her weekends are spent hiking the Californian terrain, where she indulges in her love for photography and reading. Her multidisciplinary interests and dedication to excellence make her an inspiring figure in tech.\",\n",
       "  \"Elara Vance is a Canadian data scientist whose career has rapidly ascended since her 2016 graduation with a Master's in Data Science from the University of Toronto. Now 29, she works as a Senior Data Scientist at Amazon's San Francisco headquarters, where she channels five years of experience into solving high-impact challenges. Elara is known not only for her technical expertise but also for her generous mentorship of younger team members. A fluent English speaker with intermediate proficiency in French, she brings a cosmopolitan sensibility to her workplace. Off the clock, Elara recharges by hiking scenic trails, capturing moments with her camera, and delving into books from around the world. Her passion for data is matched by her enthusiasm for continuous growth and exploration.\"]}"
      ]
     },
     "execution_count": 3,
     "metadata": {},
     "output_type": "execute_result"
    }
   ],
   "source": [
    "with open(\"../../data_save/synthetic_entities_bio.json\", \"r\") as f:\n",
    "    data = json.load(f)\n",
    "\n",
    "data[0]"
   ]
  },
  {
   "cell_type": "code",
   "execution_count": 7,
   "id": "a7cdf963",
   "metadata": {},
   "outputs": [
    {
     "name": "stdout",
     "output_type": "stream",
     "text": [
      "\n",
      "The following the a profile of a person.\n",
      "```\n",
      "{\n",
      "  \"name\": \"Elara Vance\",\n",
      "  \"age\": 29,\n",
      "  \"nationality\": \"Canadian\",\n",
      "  \"occupation\": \"Data Scientist\",\n",
      "  \"hobbies\": [\n",
      "    \"Hiking\",\n",
      "    \"Photography\",\n",
      "    \"Reading\"\n",
      "  ],\n",
      "  \"worksAt\": {\n",
      "    \"company\": \"Amazon\",\n",
      "    \"position\": \"Senior Data Scientist\",\n",
      "    \"yearsOfExperience\": 5,\n",
      "    \"location\": \"San Francisco, CA\"\n",
      "  },\n",
      "  \"education\": {\n",
      "    \"degree\": \"Master's in Data Science\",\n",
      "    \"university\": \"University of Toronto\",\n",
      "    \"graduationYear\": 2016\n",
      "  },\n",
      "  \"languages\": [\n",
      "    {\n",
      "      \"language\": \"English\",\n",
      "      \"proficiency\": \"Fluent\"\n",
      "    },\n",
      "    {\n",
      "      \"language\": \"French\",\n",
      "      \"proficiency\": \"Intermediate\"\n",
      "    }\n",
      "  ]\n",
      "}\n",
      "```\n",
      "And this is a biography that contains all the information from this profile. \n",
      "```\n",
      "With a Master's degree in Data Science from the prestigious University of Toronto obtained in 2016, Elara Vance has rapidly ascended in her field to become a Senior Data Scientist at Amazon. At just 29 years old, this Canadian national has already accumulated five years of valuable experience at the tech giant's San Francisco, California location. Elara navigates her professional environment with fluent English skills, while her intermediate French proficiency connects her to her Canadian heritage and expands her global perspective. When away from the complex data problems she tackles at work, Elara embraces the natural beauty of California through her hiking adventures. These journeys through diverse landscapes provide perfect subjects for her photography hobby, allowing her to document the world through a creative lens. Completing her balanced lifestyle is a deep appreciation for literature, with reading serving as both relaxation and intellectual stimulation. This harmonious blend of professional dedication and personal passions illustrates why Elara has become a respected figure in her field, bringing both analytical rigor and creative thinking to her role at one of the world's most innovative companies.\n",
      "```\n",
      "\n",
      "I want you to\n",
      "1. Remove all the information about the attribute `nationality` from the biography. Make sure that there are no explicit mentions (even hints) of `nationality` in the biography.\n",
      "2. Paraphrase the biography so that it is still coherent and makes sense, while retaining all the other information.\n",
      "3. Put your answer within triple backticks (```). Make sure that there are no other triple backticks in your answer.\n",
      "4. Do not add any other new information to your answer.\n",
      "\n"
     ]
    }
   ],
   "source": [
    "profile_str = json.dumps(data[0][\"profile\"], indent=2)\n",
    "# to_drop_attribute = \"age\"\n",
    "to_drop_attribute = \"nationality\"\n",
    "biography = data[0][\"docs\"][3]\n",
    "\n",
    "instructions = f\"\"\"\n",
    "The following the a profile of a person.\n",
    "```\n",
    "{profile_str}\n",
    "```\n",
    "And this is a biography that contains all the information from this profile. \n",
    "```\n",
    "{biography}\n",
    "```\n",
    "\n",
    "I want you to\n",
    "1. Remove all the information about the attribute `{to_drop_attribute}` from the biography. Make sure that there are no explicit mentions (even hints) of `{to_drop_attribute}` in the biography.\n",
    "2. Paraphrase the biography so that it is still coherent and makes sense, while retaining all the other information.\n",
    "3. Put your answer within triple backticks (```). Make sure that there are no other triple backticks in your answer.\n",
    "4. Do not add any other new information to your answer.\n",
    "\"\"\"\n",
    "\n",
    "print(instructions)"
   ]
  },
  {
   "cell_type": "code",
   "execution_count": 8,
   "id": "77ed8cf3",
   "metadata": {},
   "outputs": [
    {
     "name": "stdout",
     "output_type": "stream",
     "text": [
      "```\n",
      "With a Master's degree in Data Science from the prestigious University of Toronto obtained in 2016, Elara Vance has rapidly ascended in her field to become a Senior Data Scientist at Amazon. At just 29 years old, she has already accumulated five years of valuable experience at the tech giant's San Francisco, California location. Elara navigates her professional environment with fluent English skills, while her intermediate French proficiency expands her global perspective. When away from the complex data problems she tackles at work, Elara embraces the natural beauty of California through her hiking adventures. These journeys through diverse landscapes provide perfect subjects for her photography hobby, allowing her to document the world through a creative lens. Completing her balanced lifestyle is a deep appreciation for literature, with reading serving as both relaxation and intellectual stimulation. This harmonious blend of professional dedication and personal passions illustrates why Elara has become a respected figure in her field, bringing both analytical rigor and creative thinking to her role at one of the world's most innovative companies.\n",
      "```\n"
     ]
    }
   ],
   "source": [
    "response = ASK_ORACLE_MODEL[\"claude\"](instructions)\n",
    "# response = ASK_ORACLE_MODEL[\"gpt\"](instructions)\n",
    "print(response)"
   ]
  },
  {
   "cell_type": "code",
   "execution_count": 9,
   "id": "8968d3e8",
   "metadata": {},
   "outputs": [
    {
     "name": "stdout",
     "output_type": "stream",
     "text": [
      "With a Master's degree in Data Science from the prestigious University of Toronto obtained in 2016, Elara Vance has rapidly ascended in her field to become a Senior Data Scientist at Amazon. At just 29 years old, she has already accumulated five years of valuable experience at the tech giant's San Francisco, California location. Elara navigates her professional environment with fluent English skills, while her intermediate French proficiency expands her global perspective. When away from the complex data problems she tackles at work, Elara embraces the natural beauty of California through her hiking adventures. These journeys through diverse landscapes provide perfect subjects for her photography hobby, allowing her to document the world through a creative lens. Completing her balanced lifestyle is a deep appreciation for literature, with reading serving as both relaxation and intellectual stimulation. This harmonious blend of professional dedication and personal passions illustrates why Elara has become a respected figure in her field, bringing both analytical rigor and creative thinking to her role at one of the world's most innovative companies.\n"
     ]
    }
   ],
   "source": [
    "paraphrased = response.split(\"```\")[1].strip()\n",
    "print(paraphrased)"
   ]
  },
  {
   "cell_type": "code",
   "execution_count": null,
   "id": "ec44abb9",
   "metadata": {},
   "outputs": [],
   "source": []
  }
 ],
 "metadata": {
  "kernelspec": {
   "display_name": "retrieval",
   "language": "python",
   "name": "python3"
  },
  "language_info": {
   "codemirror_mode": {
    "name": "ipython",
    "version": 3
   },
   "file_extension": ".py",
   "mimetype": "text/x-python",
   "name": "python",
   "nbconvert_exporter": "python",
   "pygments_lexer": "ipython3",
   "version": "3.11.9"
  }
 },
 "nbformat": 4,
 "nbformat_minor": 5
}
