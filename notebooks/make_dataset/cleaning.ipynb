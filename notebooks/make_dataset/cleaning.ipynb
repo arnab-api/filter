{
 "cells": [
  {
   "cell_type": "code",
   "execution_count": 1,
   "metadata": {},
   "outputs": [],
   "source": [
    "%load_ext autoreload\n",
    "%autoreload 2"
   ]
  },
  {
   "cell_type": "code",
   "execution_count": 6,
   "metadata": {},
   "outputs": [
    {
     "name": "stdout",
     "output_type": "stream",
     "text": [
      "Found cleaned data for sport_players.csv ... loading\n",
      "sport_players.csv added 0 new entries\n",
      "Found cleaned data for architect_building.csv ... loading\n",
      "architect_building.csv added 22 new entries\n",
      "Found cleaned data for superpower_characters.csv ... loading\n",
      "superpower_characters.csv added 53 new entries\n",
      "Found cleaned data for movie_actor.csv ... loading\n",
      "movie_actor.csv added 19 new entries\n"
     ]
    }
   ],
   "source": [
    "import pandas as pd\n",
    "import os\n",
    "import json\n",
    "\n",
    "data_path = \"../../bridge_dataset\"\n",
    "raw_data_path = os.path.join(data_path, \"raw\")\n",
    "cleaned_data_path = os.path.join(data_path, \"cleaned\")\n",
    "\n",
    "def check_new_entry(examples, entry):\n",
    "    for example in examples:\n",
    "        if example[\"bridge\"] == entry[\"bridge\"] and example[\"entity_pair\"] == entry[\"entity_pair\"]:\n",
    "            return False\n",
    "    return True\n",
    "\n",
    "for raw_file in os.listdir(raw_data_path):\n",
    "    if raw_file.endswith(\".csv\"):\n",
    "        cleaned_file = raw_file.replace(\".csv\", \".json\")\n",
    "        if os.path.exists(os.path.join(cleaned_data_path, cleaned_file)):\n",
    "            print(f\"Found cleaned data for {raw_file} ... loading\")\n",
    "            cleaned_data = json.load(open(os.path.join(cleaned_data_path, cleaned_file)))\n",
    "        else:\n",
    "            print(f\"Couldn't find cleaned data for {raw_file} ... creating new file\")\n",
    "            cleaned_data = {\n",
    "                \"name\": raw_file.replace(\".csv\", \"\"),\n",
    "                \"answer_template\": \"TO BE FILLED\",\n",
    "                \"examples\": []\n",
    "            }\n",
    "        \n",
    "        raw_data = pd.read_csv(os.path.join(raw_data_path, raw_file))\n",
    "        bridge_id = raw_data.columns[0]\n",
    "        entity1 = raw_data.columns[1]\n",
    "        entity2 = raw_data.columns[2]\n",
    "\n",
    "        added = 0\n",
    "        for index, row in raw_data.iterrows():\n",
    "            entry = {\n",
    "                \"bridge\": row[bridge_id],\n",
    "                \"entity_pair\": [row[entity1], row[entity2]]\n",
    "            }\n",
    "            if check_new_entry(cleaned_data[\"examples\"], entry):\n",
    "                cleaned_data[\"examples\"].append(entry)\n",
    "                added += 1\n",
    "\n",
    "        with open(os.path.join(cleaned_data_path, raw_file.replace(\".csv\", \".json\")), \"w\") as f:\n",
    "            json.dump(cleaned_data, f, indent=4)\n",
    "        \n",
    "        print(f\"{raw_file} added {added} new entries\")"
   ]
  },
  {
   "cell_type": "code",
   "execution_count": 4,
   "metadata": {},
   "outputs": [
    {
     "data": {
      "text/plain": [
       "True"
      ]
     },
     "execution_count": 4,
     "metadata": {},
     "output_type": "execute_result"
    }
   ],
   "source": [
    "arr = [\"a\", \"b\"]\n",
    "brr = [\"a\", \"b\"]\n",
    "\n",
    "arr == brr"
   ]
  },
  {
   "cell_type": "code",
   "execution_count": null,
   "metadata": {},
   "outputs": [],
   "source": []
  }
 ],
 "metadata": {
  "kernelspec": {
   "display_name": "retrieval",
   "language": "python",
   "name": "python3"
  },
  "language_info": {
   "codemirror_mode": {
    "name": "ipython",
    "version": 3
   },
   "file_extension": ".py",
   "mimetype": "text/x-python",
   "name": "python",
   "nbconvert_exporter": "python",
   "pygments_lexer": "ipython3",
   "version": "3.11.9"
  }
 },
 "nbformat": 4,
 "nbformat_minor": 2
}
