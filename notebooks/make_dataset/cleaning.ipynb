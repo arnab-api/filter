{
 "cells": [
  {
   "cell_type": "code",
   "execution_count": 1,
   "metadata": {},
   "outputs": [],
   "source": [
    "%load_ext autoreload\n",
    "%autoreload 2"
   ]
  },
  {
   "cell_type": "code",
   "execution_count": 11,
   "metadata": {},
   "outputs": [],
   "source": [
    "# import pandas as pd\n",
    "# import os\n",
    "# import json\n",
    "\n",
    "# data_path = \"../../bridge_dataset\"\n",
    "# raw_data_path = os.path.join(data_path, \"raw\")\n",
    "# cleaned_data_path = os.path.join(data_path, \"cleaned\")\n",
    "\n",
    "# for raw_file in os.listdir(raw_data_path):\n",
    "#     if raw_file.endswith(\".csv\"):\n",
    "#         raw_data = pd.read_csv(os.path.join(raw_data_path, raw_file))\n",
    "#         bridge_id = raw_data.columns[0]\n",
    "#         entity1 = raw_data.columns[1]\n",
    "#         entity2 = raw_data.columns[2]\n",
    "\n",
    "#         json_data = {\n",
    "#             \"name\": raw_file.replace(\".csv\", \"\"),\n",
    "#             \"answer_template\": \"TO BE FILLED\",\n",
    "#             \"examples\": []\n",
    "#         }\n",
    "\n",
    "#         for index, row in raw_data.iterrows():\n",
    "#             json_data[\"examples\"].append({\n",
    "#                 \"bridge\": row[bridge_id],\n",
    "#                 \"entity_pair\": [row[entity1], row[entity2]]\n",
    "#             })\n",
    "\n",
    "#         with open(os.path.join(cleaned_data_path, raw_file.replace(\".csv\", \".json\")), \"w\") as f:\n",
    "#             json.dump(json_data, f, indent=4)"
   ]
  },
  {
   "cell_type": "code",
   "execution_count": null,
   "metadata": {},
   "outputs": [],
   "source": []
  }
 ],
 "metadata": {
  "kernelspec": {
   "display_name": "retrieval",
   "language": "python",
   "name": "python3"
  },
  "language_info": {
   "codemirror_mode": {
    "name": "ipython",
    "version": 3
   },
   "file_extension": ".py",
   "mimetype": "text/x-python",
   "name": "python",
   "nbconvert_exporter": "python",
   "pygments_lexer": "ipython3",
   "version": "3.11.9"
  }
 },
 "nbformat": 4,
 "nbformat_minor": 2
}
