{
 "cells": [
  {
   "cell_type": "code",
   "execution_count": 1,
   "metadata": {},
   "outputs": [],
   "source": [
    "%load_ext autoreload\n",
    "%autoreload 2"
   ]
  },
  {
   "cell_type": "code",
   "execution_count": 3,
   "metadata": {},
   "outputs": [
    {
     "name": "stdout",
     "output_type": "stream",
     "text": [
      "2024-07-26 11:31:56 __main__ INFO     torch.__version__='2.3.1', torch.version.cuda='12.1'\n",
      "2024-07-26 11:31:56 __main__ INFO     torch.cuda.is_available()=True, torch.cuda.device_count()=1, torch.cuda.get_device_name()='NVIDIA RTX A6000'\n",
      "2024-07-26 11:31:56 __main__ INFO     transformers.__version__='4.42.4'\n",
      "2024-07-26 11:31:56 httpx DEBUG    load_ssl_context verify=True cert=None trust_env=True http2=False\n",
      "2024-07-26 11:31:56 httpx DEBUG    load_verify_locations cafile='/home/local_arnab/miniconda3/envs/retrieval/lib/python3.11/site-packages/certifi/cacert.pem'\n"
     ]
    }
   ],
   "source": [
    "import os, time, json\n",
    "import pandas as pd\n",
    "from openai import OpenAI\n",
    "from tqdm.auto import tqdm\n",
    "import spacy\n",
    "\n",
    "import sys\n",
    "sys.path.append(\"../../\")\n",
    "import os\n",
    "\n",
    "import logging\n",
    "from src.utils import logging_utils\n",
    "from src.utils import env_utils\n",
    "from src import functional\n",
    "\n",
    "logger = logging.getLogger(__name__)\n",
    "\n",
    "logging.basicConfig(\n",
    "    level=logging.DEBUG,\n",
    "    format=logging_utils.DEFAULT_FORMAT,\n",
    "    datefmt=logging_utils.DEFAULT_DATEFMT,\n",
    "    stream=sys.stdout,\n",
    ")\n",
    "\n",
    "import torch\n",
    "import transformers\n",
    "\n",
    "logger.info(f\"{torch.__version__=}, {torch.version.cuda=}\")\n",
    "logger.info(f\"{torch.cuda.is_available()=}, {torch.cuda.device_count()=}, {torch.cuda.get_device_name()=}\")\n",
    "logger.info(f\"{transformers.__version__=}\")\n",
    "\n",
    "\n",
    "client = OpenAI(\n",
    "    api_key=os.getenv(\"OPENAI_KEY\"),\n",
    ")\n",
    "\n",
    "MODEL_NAME = \"gpt-4o\""
   ]
  },
  {
   "cell_type": "code",
   "execution_count": 6,
   "metadata": {},
   "outputs": [],
   "source": [
    "# # movie,actor,character\n",
    "# prompt = \"\"\"\n",
    "# Give me a list of movies where an actor potrayed a famous person. It should be in csv format. Give me as many examples as you can.\n",
    "\n",
    "# movie,actor,character\n",
    "# A Beautiful Mind,Russell Crowe,John Nash\n",
    "# Gandhi,Ben Kingsley,Mahatma Gandhi\n",
    "# \"\"\""
   ]
  },
  {
   "cell_type": "code",
   "execution_count": 12,
   "metadata": {},
   "outputs": [],
   "source": [
    "# # superhero,similar powers, characteristics\n",
    "\n",
    "# prompt = \"\"\"\n",
    "# Give me a list of superpowered characters with similar powers and traits. The character can be from any universe (Marvel, DC, different anime etc). It should be in csv format. Give me as many examples as you can.\n",
    "\n",
    "# connection,character1,character2\n",
    "# kryptonian,Superman,Supergirl\n",
    "# speedster,Flash,Quicksilver\n",
    "# billionaire,Batman,Ironman\n",
    "# blind, Daredevil, Toph Beifong\n",
    "# \"\"\""
   ]
  },
  {
   "cell_type": "code",
   "execution_count": 16,
   "metadata": {},
   "outputs": [],
   "source": [
    "# # architect,famous buildings\n",
    "\n",
    "# prompt = \"\"\"\n",
    "# Give me a list of 2 famous buildings designed by the same architect or architectural firm. It should be in csv format. Give me as many examples as you can (atleast 20).\n",
    "# It should be in csv format. Give me as many examples as you can.\n",
    "\n",
    "# architect,building1,building2\n",
    "# Frank Lloyd Wright,Fallingwater,Guggenheim Museum\n",
    "# Zaha Hadid,Heydar Aliyev Center,Guangzhou Opera House\n",
    "# \"\"\""
   ]
  },
  {
   "cell_type": "code",
   "execution_count": 19,
   "metadata": {},
   "outputs": [],
   "source": [
    "# sports, famous players\n",
    "\n",
    "prompt = \"\"\"\n",
    "Give me a list of 2 famous players who played the same sport. It should be in csv format. Give me as many examples as you can (atleast 20).\n",
    "\n",
    "sport,player1,player2\n",
    "basketball,Michael Jordan,LeBron James\n",
    "tennis,Roger Federer,Rafael Nadal\n",
    "Cricket,Michael Vaughan,Sourav Ganguly\n",
    "\"\"\""
   ]
  },
  {
   "cell_type": "code",
   "execution_count": 20,
   "metadata": {},
   "outputs": [
    {
     "name": "stdout",
     "output_type": "stream",
     "text": [
      "2024-07-26 12:21:55 openai._base_client DEBUG    Request options: {'method': 'post', 'url': '/chat/completions', 'files': None, 'json_data': {'messages': [{'role': 'system', 'content': 'You are a helpful assistant.'}, {'role': 'user', 'content': '\\nGive me a list of 2 famous players who played the same sport. It should be in csv format. Give me as many examples as you can (atleast 20).\\n\\nsport,player1,player2\\nbasketball,Michael Jordan,LeBron James\\ntennis,Roger Federer,Rafael Nadal\\nCricket,Michael Vaughan,Sourav Ganguly\\n'}], 'model': 'gpt-4o', 'max_tokens': 4000, 'temperature': 0}}\n",
      "2024-07-26 12:21:55 openai._base_client DEBUG    Sending HTTP Request: POST https://api.openai.com/v1/chat/completions\n",
      "2024-07-26 12:21:55 httpcore.connection DEBUG    close.started\n",
      "2024-07-26 12:21:55 httpcore.connection DEBUG    close.complete\n",
      "2024-07-26 12:21:55 httpcore.connection DEBUG    connect_tcp.started host='api.openai.com' port=443 local_address=None timeout=5.0 socket_options=None\n"
     ]
    },
    {
     "name": "stdout",
     "output_type": "stream",
     "text": [
      "2024-07-26 12:21:55 httpcore.connection DEBUG    connect_tcp.complete return_value=<httpcore._backends.sync.SyncStream object at 0x7f49d42b1a10>\n",
      "2024-07-26 12:21:55 httpcore.connection DEBUG    start_tls.started ssl_context=<ssl.SSLContext object at 0x7f49d002b410> server_hostname='api.openai.com' timeout=5.0\n",
      "2024-07-26 12:21:55 httpcore.connection DEBUG    start_tls.complete return_value=<httpcore._backends.sync.SyncStream object at 0x7f49d42a90d0>\n",
      "2024-07-26 12:21:55 httpcore.http11 DEBUG    send_request_headers.started request=<Request [b'POST']>\n",
      "2024-07-26 12:21:55 httpcore.http11 DEBUG    send_request_headers.complete\n",
      "2024-07-26 12:21:55 httpcore.http11 DEBUG    send_request_body.started request=<Request [b'POST']>\n",
      "2024-07-26 12:21:55 httpcore.http11 DEBUG    send_request_body.complete\n",
      "2024-07-26 12:21:55 httpcore.http11 DEBUG    receive_response_headers.started request=<Request [b'POST']>\n",
      "2024-07-26 12:22:00 httpcore.http11 DEBUG    receive_response_headers.complete return_value=(b'HTTP/1.1', 200, b'OK', [(b'Date', b'Fri, 26 Jul 2024 16:22:00 GMT'), (b'Content-Type', b'application/json'), (b'Transfer-Encoding', b'chunked'), (b'Connection', b'keep-alive'), (b'openai-organization', b'bau-lab-1'), (b'openai-processing-ms', b'4278'), (b'openai-version', b'2020-10-01'), (b'strict-transport-security', b'max-age=15552000; includeSubDomains; preload'), (b'x-ratelimit-limit-requests', b'10000'), (b'x-ratelimit-limit-tokens', b'30000000'), (b'x-ratelimit-remaining-requests', b'9999'), (b'x-ratelimit-remaining-tokens', b'29995921'), (b'x-ratelimit-reset-requests', b'6ms'), (b'x-ratelimit-reset-tokens', b'8ms'), (b'x-request-id', b'req_af69bb451d5495f7ad32740b791f285c'), (b'CF-Cache-Status', b'DYNAMIC'), (b'X-Content-Type-Options', b'nosniff'), (b'Server', b'cloudflare'), (b'CF-RAY', b'8a95b9bf69db8fc3-BOS'), (b'Content-Encoding', b'br'), (b'alt-svc', b'h3=\":443\"; ma=86400')])\n",
      "2024-07-26 12:22:00 httpx INFO     HTTP Request: POST https://api.openai.com/v1/chat/completions \"HTTP/1.1 200 OK\"\n",
      "2024-07-26 12:22:00 httpcore.http11 DEBUG    receive_response_body.started request=<Request [b'POST']>\n",
      "2024-07-26 12:22:00 httpcore.http11 DEBUG    receive_response_body.complete\n",
      "2024-07-26 12:22:00 httpcore.http11 DEBUG    response_closed.started\n",
      "2024-07-26 12:22:00 httpcore.http11 DEBUG    response_closed.complete\n",
      "2024-07-26 12:22:00 openai._base_client DEBUG    HTTP Response: POST https://api.openai.com/v1/chat/completions \"200 OK\" Headers({'date': 'Fri, 26 Jul 2024 16:22:00 GMT', 'content-type': 'application/json', 'transfer-encoding': 'chunked', 'connection': 'keep-alive', 'openai-organization': 'bau-lab-1', 'openai-processing-ms': '4278', 'openai-version': '2020-10-01', 'strict-transport-security': 'max-age=15552000; includeSubDomains; preload', 'x-ratelimit-limit-requests': '10000', 'x-ratelimit-limit-tokens': '30000000', 'x-ratelimit-remaining-requests': '9999', 'x-ratelimit-remaining-tokens': '29995921', 'x-ratelimit-reset-requests': '6ms', 'x-ratelimit-reset-tokens': '8ms', 'x-request-id': 'req_af69bb451d5495f7ad32740b791f285c', 'cf-cache-status': 'DYNAMIC', 'x-content-type-options': 'nosniff', 'server': 'cloudflare', 'cf-ray': '8a95b9bf69db8fc3-BOS', 'content-encoding': 'br', 'alt-svc': 'h3=\":443\"; ma=86400'})\n",
      "2024-07-26 12:22:00 openai._base_client DEBUG    request_id: req_af69bb451d5495f7ad32740b791f285c\n",
      "Sure, here is a list of famous players who played the same sport in CSV format:\n",
      "\n",
      "```csv\n",
      "sport,player1,player2\n",
      "basketball,Michael Jordan,LeBron James\n",
      "tennis,Roger Federer,Rafael Nadal\n",
      "cricket,Michael Vaughan,Sourav Ganguly\n",
      "soccer,Lionel Messi,Cristiano Ronaldo\n",
      "golf,Tiger Woods,Phil Mickelson\n",
      "baseball,Babe Ruth,Hank Aaron\n",
      "hockey,Wayne Gretzky,Mario Lemieux\n",
      "boxing,Muhammad Ali,Mike Tyson\n",
      "swimming,Michael Phelps,Ryan Lochte\n",
      "athletics,Usain Bolt,Carl Lewis\n",
      "american football,Tom Brady,Peyton Manning\n",
      "rugby,Jonah Lomu,Richie McCaw\n",
      "cycling,Lance Armstrong,Eddy Merckx\n",
      "formula 1,Michael Schumacher,Lewis Hamilton\n",
      "skiing,Lindsey Vonn,Mikaela Shiffrin\n",
      "gymnastics,Simone Biles,Nadia Comaneci\n",
      "figure skating,Yuzuru Hanyu,Evgeni Plushenko\n",
      "badminton,Lin Dan,Lee Chong Wei\n",
      "volleyball,Karch Kiraly,Giba\n",
      "surfing,Kelly Slater,Andy Irons\n",
      "wrestling,Hulk Hogan,The Rock\n",
      "table tennis,Ma Long,Zhang Jike\n",
      "chess,Garry Kasparov,Magnus Carlsen\n",
      "```\n",
      "\n",
      "This list includes a variety of sports and some of the most famous players associated with each.\n"
     ]
    }
   ],
   "source": [
    "response = client.chat.completions.create(\n",
    "    model=MODEL_NAME,\n",
    "    messages=[\n",
    "        {\"role\": \"system\", \"content\": \"You are a helpful assistant.\"},\n",
    "        {\"role\": \"user\", \"content\": prompt},\n",
    "    ],\n",
    "    temperature=0,\n",
    "    max_tokens=4000,\n",
    ")\n",
    "print(response.choices[0].message.content)"
   ]
  },
  {
   "cell_type": "code",
   "execution_count": null,
   "metadata": {},
   "outputs": [],
   "source": []
  }
 ],
 "metadata": {
  "kernelspec": {
   "display_name": "retrieval",
   "language": "python",
   "name": "python3"
  },
  "language_info": {
   "codemirror_mode": {
    "name": "ipython",
    "version": 3
   },
   "file_extension": ".py",
   "mimetype": "text/x-python",
   "name": "python",
   "nbconvert_exporter": "python",
   "pygments_lexer": "ipython3",
   "version": "3.11.9"
  }
 },
 "nbformat": 4,
 "nbformat_minor": 2
}
