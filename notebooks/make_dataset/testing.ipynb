{
 "cells": [
  {
   "cell_type": "code",
   "execution_count": 1,
   "metadata": {},
   "outputs": [],
   "source": [
    "%load_ext autoreload\n",
    "%autoreload 2"
   ]
  },
  {
   "cell_type": "code",
   "execution_count": 2,
   "metadata": {},
   "outputs": [
    {
     "name": "stderr",
     "output_type": "stream",
     "text": [
      "/home/local_arnab/miniconda3/envs/retrieval/lib/python3.11/site-packages/tqdm/auto.py:21: TqdmWarning: IProgress not found. Please update jupyter and ipywidgets. See https://ipywidgets.readthedocs.io/en/stable/user_install.html\n",
      "  from .autonotebook import tqdm as notebook_tqdm\n"
     ]
    },
    {
     "name": "stdout",
     "output_type": "stream",
     "text": [
      "2024-08-30 22:16:29 __main__ INFO     torch.__version__='2.3.1', torch.version.cuda='12.1'\n",
      "2024-08-30 22:16:29 __main__ INFO     torch.cuda.is_available()=True, torch.cuda.device_count()=1, torch.cuda.get_device_name()='NVIDIA RTX A6000'\n",
      "2024-08-30 22:16:29 __main__ INFO     transformers.__version__='4.44.2'\n"
     ]
    }
   ],
   "source": [
    "import os\n",
    "from tqdm.auto import tqdm\n",
    "\n",
    "import sys\n",
    "sys.path.append(\"../../\")\n",
    "import os\n",
    "\n",
    "import logging\n",
    "from src.utils import logging_utils\n",
    "from src.utils import env_utils\n",
    "from src import functional\n",
    "\n",
    "logger = logging.getLogger(__name__)\n",
    "\n",
    "logging.basicConfig(\n",
    "    level=logging.INFO,\n",
    "    format=logging_utils.DEFAULT_FORMAT,\n",
    "    datefmt=logging_utils.DEFAULT_DATEFMT,\n",
    "    stream=sys.stdout,\n",
    ")\n",
    "\n",
    "import torch\n",
    "import transformers\n",
    "\n",
    "logger.info(f\"{torch.__version__=}, {torch.version.cuda=}\")\n",
    "logger.info(f\"{torch.cuda.is_available()=}, {torch.cuda.device_count()=}, {torch.cuda.get_device_name()=}\")\n",
    "logger.info(f\"{transformers.__version__=}\")"
   ]
  },
  {
   "cell_type": "code",
   "execution_count": 3,
   "metadata": {},
   "outputs": [],
   "source": [
    "from dataclasses_json import DataClassJsonMixin\n",
    "from dataclasses import dataclass, field, fields\n",
    "from typing import Optional\n",
    "import random\n",
    "from src.dataset import BridgeSample, BridgeRelation, BridgeDataset\n",
    "from src.dataset import load_bridge_relation, load_bridge_relations, load_bridge_dataset        "
   ]
  },
  {
   "cell_type": "code",
   "execution_count": 4,
   "metadata": {},
   "outputs": [
    {
     "name": "stdout",
     "output_type": "stream",
     "text": [
      "2024-08-30 22:16:34 src.dataset INFO     initialized bridge relation superpower_characters with 27 examples\n",
      "2024-08-30 22:16:34 src.dataset INFO     initialized bridge relation sport_players with 23 examples\n",
      "2024-08-30 22:16:34 src.dataset INFO     initialized bridge relation movie_actor with 52 examples\n",
      "2024-08-30 22:16:34 src.dataset INFO     initialized bridge relation architect_building with 21 examples\n",
      "2024-08-30 22:16:34 src.dataset INFO     initialized bridge dataset with 4 relations and 119 examples\n"
     ]
    }
   ],
   "source": [
    "relations = load_bridge_relations()\n",
    "dataset = BridgeDataset(relations)"
   ]
  },
  {
   "cell_type": "code",
   "execution_count": 6,
   "metadata": {},
   "outputs": [
    {
     "data": {
      "text/plain": [
       "4"
      ]
     },
     "execution_count": 6,
     "metadata": {},
     "output_type": "execute_result"
    }
   ],
   "source": [
    "len(dataset.relations)"
   ]
  },
  {
   "cell_type": "code",
   "execution_count": 10,
   "metadata": {},
   "outputs": [],
   "source": [
    "import json\n",
    "\n",
    "\n",
    "known_data_file = \"filtered_2024-07-30T17:30:08.336365.json\"\n",
    "cached_known_dir = os.path.join(\n",
    "    env_utils.DEFAULT_DATA_DIR, \"bridge_cached\", \"Meta-Llama-3-8B-Instruct\"\n",
    ")\n",
    "with open(os.path.join(cached_known_dir, known_data_file), \"r\") as f:\n",
    "    json_data = json.load(f)\n",
    "# dataset = BridgeDataset.from_dict(json_data)"
   ]
  },
  {
   "cell_type": "code",
   "execution_count": 15,
   "metadata": {},
   "outputs": [
    {
     "name": "stdout",
     "output_type": "stream",
     "text": [
      "2024-08-30 22:20:24 src.dataset INFO     initialized bridge relation superpower_characters with 26 examples\n",
      "2024-08-30 22:20:24 src.dataset INFO     initialized bridge dataset with 1 relations and 25 examples\n"
     ]
    }
   ],
   "source": [
    "from src.dataset import BridgeRelation\n",
    "relation = BridgeRelation.from_dict(json_data[\"relations\"][0])\n",
    "dataset = BridgeDataset([relation])"
   ]
  },
  {
   "cell_type": "code",
   "execution_count": 16,
   "metadata": {},
   "outputs": [
    {
     "name": "stdout",
     "output_type": "stream",
     "text": [
      "Given two entities, find a common link between them.\n",
      "#\n",
      "What is a common link between Ra's al Ghul and Vandal Savage?\n",
      "A: immortal - an attribute that both characters Ra's al Ghul and Vandal Savage possess.\n",
      "#\n",
      "What is a common link between Venom and Carnage?\n",
      "A:\n",
      "symbiote - an attribute that both characters Venom and Carnage possess.\n"
     ]
    }
   ],
   "source": [
    "q,a = dataset[10]\n",
    "\n",
    "print(q)\n",
    "print(a)"
   ]
  },
  {
   "cell_type": "code",
   "execution_count": 17,
   "metadata": {},
   "outputs": [
    {
     "name": "stdout",
     "output_type": "stream",
     "text": [
      "2024-08-30 22:21:01 accelerate.utils.modeling INFO     We will use 90% of the memory on device 0 for storing the model, and 10% for the buffer to avoid OOM. You can set `max_memory` in to a higher value to use more memory (at your own risk).\n"
     ]
    },
    {
     "name": "stderr",
     "output_type": "stream",
     "text": [
      "Loading checkpoint shards: 100%|██████████| 4/4 [00:05<00:00,  1.34s/it]"
     ]
    },
    {
     "name": "stdout",
     "output_type": "stream",
     "text": [
      "2024-08-30 22:21:07 src.models INFO     loaded model </home/local_arnab/Codes/00_MODEL/meta-llama/Meta-Llama-3-8B-Instruct> | size: 15316.516 MB | dtype: torch.float16 | device: cuda:0\n"
     ]
    },
    {
     "name": "stderr",
     "output_type": "stream",
     "text": [
      "\n"
     ]
    }
   ],
   "source": [
    "import torch\n",
    "\n",
    "from nnsight import LanguageModel\n",
    "from src.models import ModelandTokenizer\n",
    "\n",
    "# model_key = \"meta-llama/Meta-Llama-3-8B\"\n",
    "model_key = \"meta-llama/Meta-Llama-3-8B-Instruct\"\n",
    "# model_key = \"google/gemma-2-9b-it\"\n",
    "# model_key = \"google/gemma-2-27b-it\"\n",
    "# model_key = \"Qwen/Qwen2-7B\"\n",
    "\n",
    "mt = ModelandTokenizer(\n",
    "    model_key=model_key,\n",
    "    torch_dtype=torch.float16,\n",
    ")"
   ]
  },
  {
   "cell_type": "code",
   "execution_count": 18,
   "metadata": {},
   "outputs": [
    {
     "data": {
      "text/plain": [
       "'fire control - an attribute that both characters Human Torch and Firestorm possess.'"
      ]
     },
     "execution_count": 18,
     "metadata": {},
     "output_type": "execute_result"
    }
   ],
   "source": [
    "sample_idx = 17\n",
    "\n",
    "prompt, answer = dataset[sample_idx]\n",
    "answer"
   ]
  },
  {
   "cell_type": "code",
   "execution_count": 19,
   "metadata": {},
   "outputs": [],
   "source": [
    "from src.models import prepare_input\n",
    "\n",
    "# inputs = prepare_input(\n",
    "#     prompts = prompt,\n",
    "#     tokenizer=mt,\n",
    "#     add_bos_token=False\n",
    "# )\n",
    "\n",
    "# generation = mt._model.generate(\n",
    "#     **inputs,\n",
    "#     max_new_tokens=100,\n",
    "#     top_k = 1\n",
    "# )\n",
    "\n",
    "# print(mt.tokenizer.decode(generation[0], skip_special_tokens=False))"
   ]
  },
  {
   "cell_type": "code",
   "execution_count": 20,
   "metadata": {},
   "outputs": [
    {
     "name": "stderr",
     "output_type": "stream",
     "text": [
      "You're using a PreTrainedTokenizerFast tokenizer. Please note that with a fast tokenizer, using the `__call__` method is faster than using a method to encode the text followed by a call to the `pad` method to get a padded encoding.\n",
      "We detected that you are passing `past_key_values` as a tuple and this is deprecated and will be removed in v4.43. Please use an appropriate `Cache` class (https://huggingface.co/docs/transformers/v4.41.3/en/internal/generation_utils#transformers.Cache)\n"
     ]
    },
    {
     "data": {
      "text/plain": [
       "' fire manipulation - an ability that both characters Human Torch and Firestorm possess.\\n'"
      ]
     },
     "execution_count": 20,
     "metadata": {},
     "output_type": "execute_result"
    }
   ],
   "source": [
    "from src.functional import predict_bridge_entity\n",
    "\n",
    "predicted_ans = predict_bridge_entity(mt, prompt)\n",
    "predicted_ans"
   ]
  },
  {
   "cell_type": "code",
   "execution_count": 9,
   "metadata": {},
   "outputs": [
    {
     "data": {
      "text/plain": [
       "'Yes.'"
      ]
     },
     "execution_count": 9,
     "metadata": {},
     "output_type": "execute_result"
    }
   ],
   "source": [
    "from src.functional import ask_gpt4o\n",
    "\n",
    "query_sample = dataset.examples[sample_idx]\n",
    "ask_gpt4o(query_sample, predicted_ans)"
   ]
  },
  {
   "cell_type": "code",
   "execution_count": 14,
   "metadata": {},
   "outputs": [
    {
     "name": "stderr",
     "output_type": "stream",
     "text": [
      "  0%|          | 0/119 [00:00<?, ?it/s]"
     ]
    },
    {
     "name": "stdout",
     "output_type": "stream",
     "text": [
      "2024-07-30 17:16:03 src.functional INFO     ['Daredevil', 'Toph Beifong'] <> blind | predicted:  martial arts - a skill that both characters Daredevil and Toph Beifong possess.\n",
      " => (✗)\n"
     ]
    },
    {
     "name": "stderr",
     "output_type": "stream",
     "text": [
      "  1%|          | 1/119 [00:06<12:57,  6.59s/it]"
     ]
    },
    {
     "name": "stdout",
     "output_type": "stream",
     "text": [
      "2024-07-30 17:16:14 httpx INFO     HTTP Request: POST https://api.openai.com/v1/chat/completions \"HTTP/1.1 200 OK\"\n",
      "2024-07-30 17:16:14 src.functional INFO     ['Human Torch', 'Firestorm'] <> fire control | predicted:  pyrokinesis - the ability to control fire, which is a superpower possessed by both Human Torch and Firestorm.\n",
      " => (✗)\n"
     ]
    },
    {
     "name": "stderr",
     "output_type": "stream",
     "text": [
      "  2%|▏         | 2/119 [00:17<18:05,  9.28s/it]"
     ]
    },
    {
     "name": "stdout",
     "output_type": "stream",
     "text": [
      "2024-07-30 17:16:19 src.functional INFO     ['Sean Penn', 'Harvey Milk'] <> Milk | predicted:  Milk - a movie where Sean Penn played the role of Harvey Milk.\n",
      " => (✓)\n"
     ]
    },
    {
     "name": "stderr",
     "output_type": "stream",
     "text": [
      "  3%|▎         | 3/119 [00:22<14:08,  7.32s/it]"
     ]
    },
    {
     "name": "stdout",
     "output_type": "stream",
     "text": [
      "2024-07-30 17:16:25 src.functional INFO     ['Beast Boy', 'Vixen'] <> animal powers | predicted:  Teen Titans - a superhero team where both Beast Boy and Vixen are members.\n",
      " => (✗)\n"
     ]
    },
    {
     "name": "stderr",
     "output_type": "stream",
     "text": [
      "  3%|▎         | 4/119 [00:28<13:07,  6.85s/it]"
     ]
    },
    {
     "name": "stdout",
     "output_type": "stream",
     "text": [
      "2024-07-30 17:16:32 src.functional INFO     ['Eddie Redmayne', 'Stephen Hawking'] <> The Theory of Everything | predicted:  The Theory of Everything - a movie where Eddie Redmayne played the role of Stephen Hawking.\n",
      " => (✓)\n"
     ]
    },
    {
     "name": "stderr",
     "output_type": "stream",
     "text": [
      "  4%|▍         | 5/119 [00:36<13:13,  6.96s/it]"
     ]
    },
    {
     "name": "stdout",
     "output_type": "stream",
     "text": [
      "2024-07-30 17:16:39 src.functional INFO     ['Denzel Washington', 'Rubin \"Hurricane\" Carter'] <> The Hurricane | predicted:  The Hurricane - a movie where Denzel Washington played the role of Rubin \"Hurricane\" Carter.\n",
      " => (✓)\n"
     ]
    },
    {
     "name": "stderr",
     "output_type": "stream",
     "text": [
      "  5%|▌         | 6/119 [00:42<13:03,  6.94s/it]"
     ]
    },
    {
     "name": "stdout",
     "output_type": "stream",
     "text": [
      "2024-07-30 17:16:47 src.functional INFO     ['Louvre Pyramid', 'Bank of China Tower'] <> I. M. Pei | predicted:  I.M. Pei - who was the architect of both buildings Louvre Pyramid and Bank of China Tower.\n",
      " => (✓)\n"
     ]
    },
    {
     "name": "stderr",
     "output_type": "stream",
     "text": [
      "  6%|▌         | 7/119 [00:50<13:33,  7.26s/it]"
     ]
    },
    {
     "name": "stdout",
     "output_type": "stream",
     "text": [
      "2024-07-30 17:16:52 httpx INFO     HTTP Request: POST https://api.openai.com/v1/chat/completions \"HTTP/1.1 200 OK\"\n",
      "2024-07-30 17:16:52 src.functional INFO     ['Batman', 'Ironman'] <> billionaire | predicted:  superhero - both Batman and Ironman are fictional superheroes.\n",
      " => (✗)\n"
     ]
    },
    {
     "name": "stderr",
     "output_type": "stream",
     "text": [
      "  7%|▋         | 8/119 [00:56<12:12,  6.60s/it]"
     ]
    },
    {
     "name": "stdout",
     "output_type": "stream",
     "text": [
      "2024-07-30 17:16:59 src.functional INFO     ['Jesse Eisenberg', 'Mark Zuckerberg'] <> The Social Network | predicted:  The Social Network - a movie where Jesse Eisenberg played the role of Mark Zuckerberg.\n",
      " => (✓)\n"
     ]
    },
    {
     "name": "stderr",
     "output_type": "stream",
     "text": [
      "  8%|▊         | 9/119 [01:02<12:00,  6.55s/it]"
     ]
    },
    {
     "name": "stdout",
     "output_type": "stream",
     "text": [
      "2024-07-30 17:17:05 src.functional INFO     ['Helen Mirren', 'Queen Elizabeth II'] <> The Queen | predicted:  The Queen - a movie where Helen Mirren played the role of Queen Elizabeth II.\n",
      " => (✓)\n"
     ]
    },
    {
     "name": "stderr",
     "output_type": "stream",
     "text": [
      "  8%|▊         | 10/119 [01:08<11:37,  6.40s/it]"
     ]
    },
    {
     "name": "stdout",
     "output_type": "stream",
     "text": [
      "2024-07-30 17:17:16 httpx INFO     HTTP Request: POST https://api.openai.com/v1/chat/completions \"HTTP/1.1 200 OK\"\n",
      "2024-07-30 17:17:16 src.functional INFO     ['Habitat 67', 'Marina Bay Sands'] <> Moshe Safdie | predicted:  architecture - both Habitat 67 and Marina Bay Sands are famous buildings designed by architects Moshe Safdie and Safdie Rabines.\n",
      " => (✗)\n"
     ]
    },
    {
     "name": "stderr",
     "output_type": "stream",
     "text": [
      "  9%|▉         | 11/119 [01:19<14:12,  7.89s/it]"
     ]
    },
    {
     "name": "stdout",
     "output_type": "stream",
     "text": [
      "2024-07-30 17:17:23 src.functional INFO     ['John Lone', 'Emperor Puyi'] <> The Last Emperor | predicted:  The Last Emperor - a movie where John Lone played the role of Emperor Puyi.\n",
      " => (✓)\n"
     ]
    },
    {
     "name": "stderr",
     "output_type": "stream",
     "text": [
      " 10%|█         | 12/119 [01:26<13:30,  7.58s/it]"
     ]
    },
    {
     "name": "stdout",
     "output_type": "stream",
     "text": [
      "2024-07-30 17:17:29 src.functional INFO     ['Wayne Gretzky', 'Mario Lemieux'] <> hockey | predicted:  Hockey - a sport where both Wayne Gretzky and Mario Lemieux are known for.\n",
      " => (✓)\n"
     ]
    },
    {
     "name": "stderr",
     "output_type": "stream",
     "text": [
      " 11%|█         | 13/119 [01:32<12:37,  7.15s/it]"
     ]
    },
    {
     "name": "stdout",
     "output_type": "stream",
     "text": [
      "2024-07-30 17:17:35 httpx INFO     HTTP Request: POST https://api.openai.com/v1/chat/completions \"HTTP/1.1 200 OK\"\n",
      "2024-07-30 17:17:35 src.functional INFO     ['Michael Jordan', 'LeBron James'] <> basketball | predicted:  NBA - a professional basketball league where both Michael Jordan and LeBron James have played.\n",
      " => (✓)\n"
     ]
    },
    {
     "name": "stderr",
     "output_type": "stream",
     "text": [
      " 12%|█▏        | 14/119 [01:38<11:51,  6.77s/it]"
     ]
    },
    {
     "name": "stdout",
     "output_type": "stream",
     "text": [
      "2024-07-30 17:17:46 src.functional INFO     ['Val Kilmer', 'Jim Morrison'] <> The Doors | predicted:  The Doors - a rock band where Jim Morrison was the lead singer, and Val Kilmer played the role of Jim Morrison in the movie \"The Doors\".\n",
      " => (✓)\n"
     ]
    },
    {
     "name": "stderr",
     "output_type": "stream",
     "text": [
      " 13%|█▎        | 15/119 [01:49<13:52,  8.01s/it]"
     ]
    },
    {
     "name": "stdout",
     "output_type": "stream",
     "text": [
      "2024-07-30 17:17:52 src.functional INFO     ['CCTV Headquarters', 'Seattle Central Library'] <> Rem Koolhaas | predicted:  Rem Koolhaas - who was the architect of both buildings CCTV Headquarters and Seattle Central Library.\n",
      " => (✓)\n"
     ]
    },
    {
     "name": "stderr",
     "output_type": "stream",
     "text": [
      " 13%|█▎        | 16/119 [01:56<13:05,  7.63s/it]"
     ]
    },
    {
     "name": "stdout",
     "output_type": "stream",
     "text": [
      "2024-07-30 17:17:58 src.functional INFO     ['Julia Roberts', 'Erin Brockovich'] <> Erin Brockovich | predicted:  Erin Brockovich - a movie where Julia Roberts played the title role.\n",
      " => (✓)\n"
     ]
    },
    {
     "name": "stderr",
     "output_type": "stream",
     "text": [
      " 14%|█▍        | 17/119 [02:01<11:47,  6.94s/it]"
     ]
    },
    {
     "name": "stdout",
     "output_type": "stream",
     "text": [
      "2024-07-30 17:18:04 src.functional INFO     ['Jim Carrey', 'Andy Kaufman'] <> Man on the Moon | predicted:  Man on the Moon - a movie where Jim Carrey played the role of Andy Kaufman.\n",
      " => (✓)\n"
     ]
    },
    {
     "name": "stderr",
     "output_type": "stream",
     "text": [
      " 15%|█▌        | 18/119 [02:08<11:24,  6.78s/it]"
     ]
    },
    {
     "name": "stdout",
     "output_type": "stream",
     "text": [
      "2024-07-30 17:18:15 src.functional INFO     ['Val Kilmer', 'Jim Morrison'] <> The Doors | predicted:  The Doors - a rock band where Jim Morrison was the lead singer, and Val Kilmer played the role of Jim Morrison in the movie \"The Doors\".\n",
      " => (✓)\n"
     ]
    },
    {
     "name": "stderr",
     "output_type": "stream",
     "text": [
      " 16%|█▌        | 19/119 [02:18<13:08,  7.89s/it]"
     ]
    },
    {
     "name": "stdout",
     "output_type": "stream",
     "text": [
      "2024-07-30 17:18:23 src.functional INFO     ['Leonardo DiCaprio', 'Jordan Belfort'] <> The Wolf of Wall Street | predicted:  The Wolf of Wall Street - a movie where Leonardo DiCaprio played the role of Jordan Belfort.\n",
      " => (✓)\n"
     ]
    },
    {
     "name": "stderr",
     "output_type": "stream",
     "text": [
      " 17%|█▋        | 20/119 [02:26<13:08,  7.97s/it]"
     ]
    },
    {
     "name": "stdout",
     "output_type": "stream",
     "text": [
      "2024-07-30 17:18:29 httpx INFO     HTTP Request: POST https://api.openai.com/v1/chat/completions \"HTTP/1.1 200 OK\"\n",
      "2024-07-30 17:18:29 src.functional INFO     ['Tom Brady', 'Peyton Manning'] <> american football | predicted:  NFL - a professional American football league where both Tom Brady and Peyton Manning have played.\n",
      " => (✓)\n"
     ]
    },
    {
     "name": "stderr",
     "output_type": "stream",
     "text": [
      " 18%|█▊        | 21/119 [02:33<12:13,  7.48s/it]"
     ]
    },
    {
     "name": "stdout",
     "output_type": "stream",
     "text": [
      "2024-07-30 17:18:36 src.functional INFO     ['James Franco', 'Aron Ralston'] <> 127 Hours | predicted:  127 Hours - a movie where James Franco played the role of Aron Ralston.\n",
      " => (✓)\n"
     ]
    },
    {
     "name": "stderr",
     "output_type": "stream",
     "text": [
      " 18%|█▊        | 22/119 [02:39<11:40,  7.22s/it]"
     ]
    },
    {
     "name": "stdout",
     "output_type": "stream",
     "text": [
      "2024-07-30 17:18:41 httpx INFO     HTTP Request: POST https://api.openai.com/v1/chat/completions \"HTTP/1.1 200 OK\"\n",
      "2024-07-30 17:18:41 src.functional INFO     ['Green Arrow', 'Hawkeye'] <> archer | predicted:  archery - a skill that both Green Arrow and Hawkeye possess.\n",
      " => (✓)\n"
     ]
    },
    {
     "name": "stderr",
     "output_type": "stream",
     "text": [
      " 19%|█▉        | 23/119 [02:45<10:49,  6.76s/it]"
     ]
    },
    {
     "name": "stdout",
     "output_type": "stream",
     "text": [
      "2024-07-30 17:18:50 src.functional INFO     ['Leonardo DiCaprio', 'Frank Abagnale Jr.'] <> Catch Me If You Can | predicted:  Catch Me If You Can - a movie where Leonardo DiCaprio played the role of Frank Abagnale Jr.\n",
      " => (✓)\n"
     ]
    },
    {
     "name": "stderr",
     "output_type": "stream",
     "text": [
      " 20%|██        | 24/119 [02:53<11:33,  7.30s/it]"
     ]
    },
    {
     "name": "stdout",
     "output_type": "stream",
     "text": [
      "2024-07-30 17:18:57 src.functional INFO     ['Elbphilharmonie', 'Allianz Arena'] <> Herzog & de Meuron | predicted:  Germany - both Elbphilharmonie and Allianz Arena are located in Germany.\n",
      " => (✓)\n"
     ]
    },
    {
     "name": "stderr",
     "output_type": "stream",
     "text": [
      " 21%|██        | 25/119 [03:00<11:07,  7.10s/it]"
     ]
    },
    {
     "name": "stdout",
     "output_type": "stream",
     "text": [
      "2024-07-30 17:19:02 src.functional INFO     ['Roger Federer', 'Rafael Nadal'] <> tennis | predicted:  rivalry - a famous tennis rivalry between Roger Federer and Rafael Nadal.\n",
      " => (✓)\n"
     ]
    },
    {
     "name": "stderr",
     "output_type": "stream",
     "text": [
      " 22%|██▏       | 26/119 [03:05<10:07,  6.54s/it]"
     ]
    },
    {
     "name": "stdout",
     "output_type": "stream",
     "text": [
      "2024-07-30 17:19:08 src.functional INFO     ['Michelle Williams', 'Marilyn Monroe'] <> My Week with Marilyn | predicted:  My Week with Marilyn - a movie where Michelle Williams played the role of Marilyn Monroe.\n",
      " => (✓)\n"
     ]
    },
    {
     "name": "stderr",
     "output_type": "stream",
     "text": [
      " 23%|██▎       | 27/119 [03:11<09:44,  6.35s/it]"
     ]
    },
    {
     "name": "stdout",
     "output_type": "stream",
     "text": [
      "2024-07-30 17:19:15 httpx INFO     HTTP Request: POST https://api.openai.com/v1/chat/completions \"HTTP/1.1 200 OK\"\n",
      "2024-07-30 17:19:15 src.functional INFO     ['Michael Phelps', 'Ryan Lochte'] <> swimming | predicted:  swimming - a sport where both Michael Phelps and Ryan Lochte are known for.\n",
      " => (✓)\n"
     ]
    },
    {
     "name": "stderr",
     "output_type": "stream",
     "text": [
      " 24%|██▎       | 28/119 [03:18<09:50,  6.49s/it]"
     ]
    },
    {
     "name": "stdout",
     "output_type": "stream",
     "text": [
      "2024-07-30 17:19:22 src.functional INFO     ['Jewish Museum Berlin', 'Denver Art Museum'] <> Daniel Libeskind | predicted:  Daniel Libeskind - who was the architect of both buildings Jewish Museum Berlin and Denver Art Museum.\n",
      " => (✓)\n"
     ]
    },
    {
     "name": "stderr",
     "output_type": "stream",
     "text": [
      " 24%|██▍       | 29/119 [03:25<09:56,  6.63s/it]"
     ]
    },
    {
     "name": "stdout",
     "output_type": "stream",
     "text": [
      "2024-07-30 17:19:28 httpx INFO     HTTP Request: POST https://api.openai.com/v1/chat/completions \"HTTP/1.1 200 OK\"\n",
      "2024-07-30 17:19:28 src.functional INFO     ['George C. Scott', 'General George S. Patton'] <> Patton | predicted:  Patton - a movie where George C. Scott played the role of General George S. Patton.\n",
      " => (✓)\n"
     ]
    },
    {
     "name": "stderr",
     "output_type": "stream",
     "text": [
      " 25%|██▌       | 30/119 [03:32<09:58,  6.72s/it]"
     ]
    },
    {
     "name": "stdout",
     "output_type": "stream",
     "text": [
      "2024-07-30 17:19:33 src.functional INFO     ['Will Smith', 'Muhammad Ali'] <> Ali | predicted:  Ali - a movie where Will Smith played the role of Muhammad Ali.\n",
      " => (✓)\n"
     ]
    },
    {
     "name": "stderr",
     "output_type": "stream",
     "text": [
      " 26%|██▌       | 31/119 [03:37<09:04,  6.19s/it]"
     ]
    },
    {
     "name": "stdout",
     "output_type": "stream",
     "text": [
      "2024-07-30 17:19:41 httpx INFO     HTTP Request: POST https://api.openai.com/v1/chat/completions \"HTTP/1.1 200 OK\"\n",
      "2024-07-30 17:19:41 src.functional INFO     ['Turning Torso', 'Milwaukee Art Museum'] <> Santiago Calatrava | predicted:  unique architecture - both buildings Turning Torso and Milwaukee Art Museum are known for their unique architectural designs.\n",
      " => (✓)\n"
     ]
    },
    {
     "name": "stderr",
     "output_type": "stream",
     "text": [
      " 27%|██▋       | 32/119 [03:44<09:23,  6.47s/it]"
     ]
    },
    {
     "name": "stdout",
     "output_type": "stream",
     "text": [
      "2024-07-30 17:19:51 httpx INFO     HTTP Request: POST https://api.openai.com/v1/chat/completions \"HTTP/1.1 200 OK\"\n",
      "2024-07-30 17:19:51 src.functional INFO     ['Yuzuru Hanyu', 'Evgeni Plushenko'] <> figure skating | predicted:  figure skating - a sport where both Yuzuru Hanyu and Evgeni Plushenko are professional figure skaters.\n",
      " => (✓)\n"
     ]
    },
    {
     "name": "stderr",
     "output_type": "stream",
     "text": [
      " 28%|██▊       | 33/119 [03:55<11:01,  7.70s/it]"
     ]
    },
    {
     "name": "stdout",
     "output_type": "stream",
     "text": [
      "2024-07-30 17:19:59 src.functional INFO     ['Lindsey Vonn', 'Mikaela Shiffrin'] <> skiing | predicted:  Alpine skiing - a sport where both Lindsey Vonn and Mikaela Shiffrin are professional skiers.\n",
      " => (✓)\n"
     ]
    },
    {
     "name": "stderr",
     "output_type": "stream",
     "text": [
      " 29%|██▊       | 34/119 [04:02<10:59,  7.76s/it]"
     ]
    },
    {
     "name": "stdout",
     "output_type": "stream",
     "text": [
      "2024-07-30 17:20:06 src.functional INFO     ['Rami Malek', 'Freddie Mercury'] <> Bohemian Rhapsody | predicted:  Bohemian Rhapsody - a movie where Rami Malek played the role of Freddie Mercury.\n",
      " => (✓)\n"
     ]
    },
    {
     "name": "stderr",
     "output_type": "stream",
     "text": [
      " 29%|██▉       | 35/119 [04:10<10:38,  7.60s/it]"
     ]
    },
    {
     "name": "stdout",
     "output_type": "stream",
     "text": [
      "2024-07-30 17:20:13 src.functional INFO     ['Meryl Streep', 'Margaret Thatcher'] <> The Iron Lady | predicted:  The Iron Lady - a movie where Meryl Streep played the role of Margaret Thatcher.\n",
      " => (✓)\n"
     ]
    },
    {
     "name": "stderr",
     "output_type": "stream",
     "text": [
      " 30%|███       | 36/119 [04:16<09:57,  7.19s/it]"
     ]
    },
    {
     "name": "stdout",
     "output_type": "stream",
     "text": [
      "2024-07-30 17:20:21 src.functional INFO     ['Robert De Niro', 'Jake LaMotta'] <> Raging Bull | predicted:  Raging Bull - a movie where Robert De Niro played the role of Jake LaMotta.\n",
      " => (✓)\n"
     ]
    },
    {
     "name": "stderr",
     "output_type": "stream",
     "text": [
      " 31%|███       | 37/119 [04:24<10:11,  7.46s/it]"
     ]
    },
    {
     "name": "stdout",
     "output_type": "stream",
     "text": [
      "2024-07-30 17:20:29 httpx INFO     HTTP Request: POST https://api.openai.com/v1/chat/completions \"HTTP/1.1 200 OK\"\n",
      "2024-07-30 17:20:29 src.functional INFO     ['Taraji P. Henson', 'Katherine Johnson'] <> Hidden Figures | predicted:  Hidden Figures - a movie where both Taraji P. Henson and Katherine Johnson were portrayed.\n",
      " => (✗)\n"
     ]
    },
    {
     "name": "stderr",
     "output_type": "stream",
     "text": [
      " 32%|███▏      | 38/119 [04:32<10:17,  7.63s/it]"
     ]
    },
    {
     "name": "stdout",
     "output_type": "stream",
     "text": [
      "2024-07-30 17:20:35 httpx INFO     HTTP Request: POST https://api.openai.com/v1/chat/completions \"HTTP/1.1 200 OK\"\n",
      "2024-07-30 17:20:35 src.functional INFO     ['Daniel Day-Lewis', 'Abraham Lincoln'] <> Lincoln | predicted:  Lincoln - a movie where Daniel Day-Lewis played the role of Abraham Lincoln.\n",
      " => (✓)\n"
     ]
    },
    {
     "name": "stderr",
     "output_type": "stream",
     "text": [
      " 33%|███▎      | 39/119 [04:38<09:41,  7.26s/it]"
     ]
    },
    {
     "name": "stdout",
     "output_type": "stream",
     "text": [
      "2024-07-30 17:20:41 httpx INFO     HTTP Request: POST https://api.openai.com/v1/chat/completions \"HTTP/1.1 200 OK\"\n",
      "2024-07-30 17:20:41 src.functional INFO     ['Hulk Hogan', 'The Rock'] <> wrestling | predicted:  Professional wrestling - a sport where both Hulk Hogan and The Rock have been involved.\n",
      " => (✓)\n"
     ]
    },
    {
     "name": "stderr",
     "output_type": "stream",
     "text": [
      " 34%|███▎      | 40/119 [04:45<09:08,  6.95s/it]"
     ]
    },
    {
     "name": "stdout",
     "output_type": "stream",
     "text": [
      "2024-07-30 17:20:48 httpx INFO     HTTP Request: POST https://api.openai.com/v1/chat/completions \"HTTP/1.1 200 OK\"\n",
      "2024-07-30 17:20:48 src.functional INFO     ['Shang-Chi', 'Iron Fist'] <> martial artist | predicted:  Marvel Comics - both Shang-Chi and Iron Fist are characters from the Marvel Comics universe.\n",
      " => (✓)\n"
     ]
    },
    {
     "name": "stderr",
     "output_type": "stream",
     "text": [
      " 34%|███▍      | 41/119 [04:52<09:06,  7.00s/it]"
     ]
    },
    {
     "name": "stdout",
     "output_type": "stream",
     "text": [
      "2024-07-30 17:20:56 httpx INFO     HTTP Request: POST https://api.openai.com/v1/chat/completions \"HTTP/1.1 200 OK\"\n",
      "2024-07-30 17:20:56 src.functional INFO     ['Cable', 'Trunks'] <> time traveler | predicted:  time travel - a concept that both Cable and Trunks have explored in their respective comic book series.\n",
      " => (✓)\n"
     ]
    },
    {
     "name": "stderr",
     "output_type": "stream",
     "text": [
      " 35%|███▌      | 42/119 [04:59<09:08,  7.12s/it]"
     ]
    },
    {
     "name": "stdout",
     "output_type": "stream",
     "text": [
      "2024-07-30 17:21:04 src.functional INFO     ['Taron Egerton', 'Elton John'] <> Rocketman | predicted:  Rocketman - a biopic where Taron Egerton played the role of Elton John.\n",
      " => (✓)\n"
     ]
    },
    {
     "name": "stderr",
     "output_type": "stream",
     "text": [
      " 36%|███▌      | 43/119 [05:07<09:18,  7.34s/it]"
     ]
    },
    {
     "name": "stdout",
     "output_type": "stream",
     "text": [
      "2024-07-30 17:21:10 src.functional INFO     ['Michael Fassbender', 'Steve Jobs'] <> Steve Jobs | predicted:  Steve Jobs - a movie where Michael Fassbender played the role of Steve Jobs.\n",
      " => (✓)\n"
     ]
    },
    {
     "name": "stderr",
     "output_type": "stream",
     "text": [
      " 37%|███▋      | 44/119 [05:13<08:50,  7.08s/it]"
     ]
    },
    {
     "name": "stdout",
     "output_type": "stream",
     "text": [
      "2024-07-30 17:21:20 httpx INFO     HTTP Request: POST https://api.openai.com/v1/chat/completions \"HTTP/1.1 200 OK\"\n",
      "2024-07-30 17:21:20 src.functional INFO     ['Michael Vaughan', 'Sourav Ganguly'] <> cricket | predicted:  captaincy - both Michael Vaughan and Sourav Ganguly have been captains of their respective cricket teams.\n",
      " => (✓)\n"
     ]
    },
    {
     "name": "stderr",
     "output_type": "stream",
     "text": [
      " 38%|███▊      | 45/119 [05:23<09:38,  7.81s/it]"
     ]
    },
    {
     "name": "stdout",
     "output_type": "stream",
     "text": [
      "2024-07-30 17:21:27 src.functional INFO     ['8 House', 'Via 57 West'] <> Bjarke Ingels | predicted:  Bjarke Ingels - who was the architect of both buildings 8 House and Via 57 West.\n",
      " => (✓)\n"
     ]
    },
    {
     "name": "stderr",
     "output_type": "stream",
     "text": [
      " 39%|███▊      | 46/119 [05:31<09:30,  7.82s/it]"
     ]
    },
    {
     "name": "stdout",
     "output_type": "stream",
     "text": [
      "2024-07-30 17:21:33 src.functional INFO     ['Scarlet Witch', 'Psylocke'] <> telekinesis | predicted:  telepathy - a superpower that both Scarlet Witch and Psylocke possess.\n",
      " => (✗)\n"
     ]
    },
    {
     "name": "stderr",
     "output_type": "stream",
     "text": [
      " 39%|███▉      | 47/119 [05:37<08:44,  7.28s/it]"
     ]
    },
    {
     "name": "stdout",
     "output_type": "stream",
     "text": [
      "2024-07-30 17:21:39 src.functional INFO     ['Christian Bale', 'Michael Burry'] <> The Big Short | predicted:  The Big Short - a movie where Christian Bale played the role of Michael Burry.\n",
      " => (✓)\n"
     ]
    },
    {
     "name": "stderr",
     "output_type": "stream",
     "text": [
      " 40%|████      | 48/119 [05:43<08:05,  6.83s/it]"
     ]
    },
    {
     "name": "stdout",
     "output_type": "stream",
     "text": [
      "2024-07-30 17:21:46 httpx INFO     HTTP Request: POST https://api.openai.com/v1/chat/completions \"HTTP/1.1 200 OK\"\n",
      "2024-07-30 17:21:46 src.functional INFO     ['TWA Flight Center', 'Gateway Arch'] <> Eero Saarinen | predicted:  Eero Saarinen - who designed both TWA Flight Center and Gateway Arch.\n",
      " => (✓)\n"
     ]
    },
    {
     "name": "stderr",
     "output_type": "stream",
     "text": [
      " 41%|████      | 49/119 [05:49<07:46,  6.67s/it]"
     ]
    },
    {
     "name": "stdout",
     "output_type": "stream",
     "text": [
      "2024-07-30 17:21:53 httpx INFO     HTTP Request: POST https://api.openai.com/v1/chat/completions \"HTTP/1.1 200 OK\"\n",
      "2024-07-30 17:21:53 src.functional INFO     ['Jonah Lomu', 'Richie McCaw'] <> rugby | predicted:  New Zealand - a country where both Jonah Lomu and Richie McCaw are from.\n",
      " => (✓)\n"
     ]
    },
    {
     "name": "stderr",
     "output_type": "stream",
     "text": [
      " 42%|████▏     | 50/119 [05:57<08:00,  6.97s/it]"
     ]
    },
    {
     "name": "stdout",
     "output_type": "stream",
     "text": [
      "2024-07-30 17:22:02 src.functional INFO     ['Church of the Light', 'Row House in Sumiyoshi'] <> Tadao Ando | predicted:  Tadao Ando - who was the architect of both buildings Church of the Light and Row House in Sumiyoshi.\n",
      " => (✓)\n"
     ]
    },
    {
     "name": "stderr",
     "output_type": "stream",
     "text": [
      " 43%|████▎     | 51/119 [06:05<08:28,  7.48s/it]"
     ]
    },
    {
     "name": "stdout",
     "output_type": "stream",
     "text": [
      "2024-07-30 17:22:11 httpx INFO     HTTP Request: POST https://api.openai.com/v1/chat/completions \"HTTP/1.1 200 OK\"\n",
      "2024-07-30 17:22:11 src.functional INFO     ['Silver Surfer', 'Green Lantern'] <> cosmic power | predicted:  cosmic entities - both Silver Surfer and Green Lantern are cosmic entities in the Marvel and DC universes.\n",
      " => (✗)\n"
     ]
    },
    {
     "name": "stderr",
     "output_type": "stream",
     "text": [
      " 44%|████▎     | 52/119 [06:14<08:51,  7.93s/it]"
     ]
    },
    {
     "name": "stdout",
     "output_type": "stream",
     "text": [
      "2024-07-30 17:22:17 src.functional INFO     ['Christian Bale', 'Dicky Eklund'] <> The Fighter | predicted:  The Fighter - a movie where Christian Bale played the role of Dicky Eklund.\n",
      " => (✓)\n"
     ]
    },
    {
     "name": "stderr",
     "output_type": "stream",
     "text": [
      " 45%|████▍     | 53/119 [06:21<08:14,  7.49s/it]"
     ]
    },
    {
     "name": "stdout",
     "output_type": "stream",
     "text": [
      "2024-07-30 17:22:24 src.functional INFO     ['Sandra Bullock', 'Leigh Anne Tuohy'] <> The Blind Side | predicted:  The Blind Side - a movie where Sandra Bullock played the role of Leigh Anne Tuohy.\n",
      " => (✓)\n"
     ]
    },
    {
     "name": "stderr",
     "output_type": "stream",
     "text": [
      " 45%|████▌     | 54/119 [06:28<07:59,  7.38s/it]"
     ]
    },
    {
     "name": "stdout",
     "output_type": "stream",
     "text": [
      "2024-07-30 17:22:31 src.functional INFO     ['Ma Long', 'Zhang Jike'] <> table tennis | predicted:  table tennis - a sport where both Ma Long and Zhang Jike are professional players.\n",
      " => (✓)\n"
     ]
    },
    {
     "name": "stderr",
     "output_type": "stream",
     "text": [
      " 46%|████▌     | 55/119 [06:34<07:29,  7.03s/it]"
     ]
    },
    {
     "name": "stdout",
     "output_type": "stream",
     "text": [
      "2024-07-30 17:22:37 src.functional INFO     ['Joaquin Phoenix', 'Johnny Cash'] <> Walk the Line | predicted:  Walk the Line - a movie where Joaquin Phoenix played the role of Johnny Cash.\n",
      " => (✓)\n"
     ]
    },
    {
     "name": "stderr",
     "output_type": "stream",
     "text": [
      " 47%|████▋     | 56/119 [06:41<07:12,  6.87s/it]"
     ]
    },
    {
     "name": "stdout",
     "output_type": "stream",
     "text": [
      "2024-07-30 17:22:46 src.functional INFO     ['Hugh Jackman', 'P.T. Barnum'] <> The Greatest Showman | predicted:  The Greatest Showman - a movie where Hugh Jackman played the role of P.T. Barnum.\n",
      " => (✓)\n"
     ]
    },
    {
     "name": "stderr",
     "output_type": "stream",
     "text": [
      " 48%|████▊     | 57/119 [06:49<07:42,  7.46s/it]"
     ]
    },
    {
     "name": "stdout",
     "output_type": "stream",
     "text": [
      "2024-07-30 17:22:53 httpx INFO     HTTP Request: POST https://api.openai.com/v1/chat/completions \"HTTP/1.1 200 OK\"\n",
      "2024-07-30 17:22:53 src.functional INFO     ['Derek Luke', 'Patrick Chamusso'] <> Catch a Fire | predicted:  Catch a Fire - a movie where both Derek Luke and Patrick Chamusso appeared.\n",
      " => (✗)\n"
     ]
    },
    {
     "name": "stderr",
     "output_type": "stream",
     "text": [
      " 49%|████▊     | 58/119 [06:57<07:29,  7.37s/it]"
     ]
    },
    {
     "name": "stdout",
     "output_type": "stream",
     "text": [
      "2024-07-30 17:22:59 src.functional INFO     ['Jamie Foxx', 'Ray Charles'] <> Ray | predicted:  Ray - a movie where Jamie Foxx played the role of Ray Charles.\n",
      " => (✓)\n"
     ]
    },
    {
     "name": "stderr",
     "output_type": "stream",
     "text": [
      " 50%|████▉     | 59/119 [07:02<06:47,  6.79s/it]"
     ]
    },
    {
     "name": "stdout",
     "output_type": "stream",
     "text": [
      "2024-07-30 17:23:05 src.functional INFO     ['Denzel Washington', 'Malcolm X'] <> Malcolm X | predicted:  Malcolm X - a historical figure who was portrayed by Denzel Washington in a movie.\n",
      " => (✓)\n"
     ]
    },
    {
     "name": "stderr",
     "output_type": "stream",
     "text": [
      " 50%|█████     | 60/119 [07:08<06:32,  6.64s/it]"
     ]
    },
    {
     "name": "stdout",
     "output_type": "stream",
     "text": [
      "2024-07-30 17:23:11 httpx INFO     HTTP Request: POST https://api.openai.com/v1/chat/completions \"HTTP/1.1 200 OK\"\n",
      "2024-07-30 17:23:11 src.functional INFO     ['Reed Richards', 'Tony Stark'] <> genius inventor | predicted:  genius-level intellect - a characteristic that both Reed Richards and Tony Stark possess.\n",
      " => (✓)\n"
     ]
    },
    {
     "name": "stderr",
     "output_type": "stream",
     "text": [
      " 51%|█████▏    | 61/119 [07:14<06:09,  6.38s/it]"
     ]
    },
    {
     "name": "stdout",
     "output_type": "stream",
     "text": [
      "2024-07-30 17:23:17 src.functional INFO     ['Philip Seymour Hoffman', 'Truman Capote'] <> Capote | predicted:  Capote - a movie where Philip Seymour Hoffman played the role of Truman Capote.\n",
      " => (✓)\n"
     ]
    },
    {
     "name": "stderr",
     "output_type": "stream",
     "text": [
      " 52%|█████▏    | 62/119 [07:20<05:59,  6.31s/it]"
     ]
    },
    {
     "name": "stdout",
     "output_type": "stream",
     "text": [
      "2024-07-30 17:23:23 src.functional INFO     ['Muhammad Ali', 'Mike Tyson'] <> boxing | predicted:  Boxing - a sport where both Muhammad Ali and Mike Tyson were professional boxers.\n",
      " => (✓)\n"
     ]
    },
    {
     "name": "stderr",
     "output_type": "stream",
     "text": [
      " 53%|█████▎    | 63/119 [07:26<05:45,  6.18s/it]"
     ]
    },
    {
     "name": "stdout",
     "output_type": "stream",
     "text": [
      "2024-07-30 17:23:30 src.functional INFO     ['Emile Hirsch', 'Christopher McCandless'] <> Into the Wild | predicted:  Into the Wild - a movie where Emile Hirsch played the role of Christopher McCandless.\n",
      " => (✓)\n"
     ]
    },
    {
     "name": "stderr",
     "output_type": "stream",
     "text": [
      " 54%|█████▍    | 64/119 [07:33<05:56,  6.49s/it]"
     ]
    },
    {
     "name": "stdout",
     "output_type": "stream",
     "text": [
      "2024-07-30 17:23:36 src.functional INFO     ['Iceman', 'Killer Frost'] <> ice control | predicted:  DC Comics - both Iceman and Killer Frost are characters from the DC Comics universe.\n",
      " => (✗)\n"
     ]
    },
    {
     "name": "stderr",
     "output_type": "stream",
     "text": [
      " 55%|█████▍    | 65/119 [07:40<05:51,  6.52s/it]"
     ]
    },
    {
     "name": "stdout",
     "output_type": "stream",
     "text": [
      "2024-07-30 17:23:45 src.functional INFO     ['Simone Biles', 'Nadia Comaneci'] <> gymnastics | predicted:  Gymnastics - a sport where both Simone Biles and Nadia Comaneci are known for.\n",
      " => (✓)\n"
     ]
    },
    {
     "name": "stderr",
     "output_type": "stream",
     "text": [
      " 55%|█████▌    | 66/119 [07:49<06:25,  7.27s/it]"
     ]
    },
    {
     "name": "stdout",
     "output_type": "stream",
     "text": [
      "2024-07-30 17:23:52 httpx INFO     HTTP Request: POST https://api.openai.com/v1/chat/completions \"HTTP/1.1 200 OK\"\n",
      "2024-07-30 17:23:52 src.functional INFO     ['Storm', 'Aang'] <> elemental control | predicted:  elemental control - a superpower that both Storm and Aang possess.\n",
      " => (✓)\n"
     ]
    },
    {
     "name": "stderr",
     "output_type": "stream",
     "text": [
      " 56%|█████▋    | 67/119 [07:55<06:05,  7.03s/it]"
     ]
    },
    {
     "name": "stdout",
     "output_type": "stream",
     "text": [
      "2024-07-30 17:23:58 httpx INFO     HTTP Request: POST https://api.openai.com/v1/chat/completions \"HTTP/1.1 200 OK\"\n",
      "2024-07-30 17:23:58 src.functional INFO     ['Doctor Strange', 'Zatanna'] <> magic user | predicted:  magic - a theme that both Doctor Strange and Zatanna are associated with.\n",
      " => (✓)\n"
     ]
    },
    {
     "name": "stderr",
     "output_type": "stream",
     "text": [
      " 57%|█████▋    | 68/119 [08:02<05:46,  6.79s/it]"
     ]
    },
    {
     "name": "stdout",
     "output_type": "stream",
     "text": [
      "2024-07-30 17:24:04 src.functional INFO     ['Punisher', 'Red Hood'] <> anti-hero | predicted:  vigilante - a character archetype that both Punisher and Red Hood embody.\n",
      " => (✓)\n"
     ]
    },
    {
     "name": "stderr",
     "output_type": "stream",
     "text": [
      " 58%|█████▊    | 69/119 [08:07<05:19,  6.39s/it]"
     ]
    },
    {
     "name": "stdout",
     "output_type": "stream",
     "text": [
      "2024-07-30 17:24:10 httpx INFO     HTTP Request: POST https://api.openai.com/v1/chat/completions \"HTTP/1.1 200 OK\"\n",
      "2024-07-30 17:24:10 src.functional INFO     ['Mystique', 'Martian Manhunter'] <> shape-shifter | predicted:  shape-shifting - a superpower that both Mystique and Martian Manhunter possess.\n",
      " => (✓)\n"
     ]
    },
    {
     "name": "stderr",
     "output_type": "stream",
     "text": [
      " 59%|█████▉    | 70/119 [08:14<05:14,  6.42s/it]"
     ]
    },
    {
     "name": "stdout",
     "output_type": "stream",
     "text": [
      "2024-07-30 17:24:17 src.functional INFO     ['Benedict Cumberbatch', 'Alan Turing'] <> The Imitation Game | predicted:  The Imitation Game - a movie where Benedict Cumberbatch played the role of Alan Turing.\n",
      " => (✓)\n"
     ]
    },
    {
     "name": "stderr",
     "output_type": "stream",
     "text": [
      " 60%|█████▉    | 71/119 [08:21<05:18,  6.65s/it]"
     ]
    },
    {
     "name": "stdout",
     "output_type": "stream",
     "text": [
      "2024-07-30 17:24:23 src.functional INFO     ['Superman', 'Homelander'] <> super strength | predicted:  superhero - a character type that both Superman and Homelander belong to.\n",
      " => (✗)\n"
     ]
    },
    {
     "name": "stderr",
     "output_type": "stream",
     "text": [
      " 61%|██████    | 72/119 [08:26<04:55,  6.29s/it]"
     ]
    },
    {
     "name": "stdout",
     "output_type": "stream",
     "text": [
      "2024-07-30 17:24:28 src.functional INFO     ['Bradley Cooper', 'Chris Kyle'] <> American Sniper | predicted:  American Sniper - a movie where Bradley Cooper played the role of Chris Kyle.\n",
      " => (✓)\n"
     ]
    },
    {
     "name": "stderr",
     "output_type": "stream",
     "text": [
      " 61%|██████▏   | 73/119 [08:32<04:38,  6.05s/it]"
     ]
    },
    {
     "name": "stdout",
     "output_type": "stream",
     "text": [
      "2024-07-30 17:24:35 src.functional INFO     ['Lin Dan', 'Lee Chong Wei'] <> badminton | predicted:  badminton - a sport where both Lin Dan and Lee Chong Wei are professional players.\n",
      " => (✓)\n"
     ]
    },
    {
     "name": "stderr",
     "output_type": "stream",
     "text": [
      " 62%|██████▏   | 74/119 [08:38<04:42,  6.28s/it]"
     ]
    },
    {
     "name": "stdout",
     "output_type": "stream",
     "text": [
      "2024-07-30 17:24:41 src.functional INFO     ['Russell Crowe', 'John Nash'] <> A Beautiful Mind | predicted:  A Beautiful Mind - a movie where Russell Crowe played the role of John Nash.\n",
      " => (✓)\n"
     ]
    },
    {
     "name": "stderr",
     "output_type": "stream",
     "text": [
      " 63%|██████▎   | 75/119 [08:44<04:32,  6.18s/it]"
     ]
    },
    {
     "name": "stdout",
     "output_type": "stream",
     "text": [
      "2024-07-30 17:24:47 src.functional INFO     ['Meryl Streep', 'Julia Child'] <> Julie & Julia | predicted:  Julie & Julia - a movie where Meryl Streep played the role of Julia Child.\n",
      " => (✓)\n"
     ]
    },
    {
     "name": "stderr",
     "output_type": "stream",
     "text": [
      " 64%|██████▍   | 76/119 [08:51<04:27,  6.22s/it]"
     ]
    },
    {
     "name": "stdout",
     "output_type": "stream",
     "text": [
      "2024-07-30 17:24:55 src.functional INFO     ['Ben Kingsley', 'Mahatma Gandhi'] <> Gandhi | predicted:  Gandhi - a movie where Ben Kingsley played the role of Mahatma Gandhi.\n",
      " => (✓)\n"
     ]
    },
    {
     "name": "stderr",
     "output_type": "stream",
     "text": [
      " 65%|██████▍   | 77/119 [08:58<04:37,  6.62s/it]"
     ]
    },
    {
     "name": "stdout",
     "output_type": "stream",
     "text": [
      "2024-07-30 17:25:05 src.functional INFO     ['Robert De Niro', 'Al Capone'] <> The Untouchables | predicted:  Raging Bull - a movie where Robert De Niro played the role of Jake LaMotta, a boxer who was inspired by Al Capone.\n",
      " => (✗)\n"
     ]
    },
    {
     "name": "stderr",
     "output_type": "stream",
     "text": [
      " 66%|██████▌   | 78/119 [09:08<05:15,  7.69s/it]"
     ]
    },
    {
     "name": "stdout",
     "output_type": "stream",
     "text": [
      "2024-07-30 17:25:12 httpx INFO     HTTP Request: POST https://api.openai.com/v1/chat/completions \"HTTP/1.1 200 OK\"\n",
      "2024-07-30 17:25:12 src.functional INFO     ['Venom', 'Carnage'] <> symbiote | predicted:  symbiote - a parasitic alien entity that bonds with both Venom and Carnage.\n",
      " => (✓)\n"
     ]
    },
    {
     "name": "stderr",
     "output_type": "stream",
     "text": [
      " 66%|██████▋   | 79/119 [09:15<04:55,  7.39s/it]"
     ]
    },
    {
     "name": "stdout",
     "output_type": "stream",
     "text": [
      "2024-07-30 17:25:20 src.functional INFO     ['Heydar Aliyev Center', 'Guangzhou Opera House'] <> Zaha Hadid | predicted:  Zaha Hadid - who was the architect of both buildings Heydar Aliyev Center and Guangzhou Opera House.\n",
      " => (✓)\n"
     ]
    },
    {
     "name": "stderr",
     "output_type": "stream",
     "text": [
      " 67%|██████▋   | 80/119 [09:24<05:01,  7.73s/it]"
     ]
    },
    {
     "name": "stdout",
     "output_type": "stream",
     "text": [
      "2024-07-30 17:25:29 src.functional INFO     ['John Hurt', 'Joseph Merrick'] <> The Elephant Man | predicted:  The Elephant Man - a movie where John Hurt played the role of Dr. Frederick Treves, who treated Joseph Merrick.\n",
      " => (✗)\n"
     ]
    },
    {
     "name": "stderr",
     "output_type": "stream",
     "text": [
      " 68%|██████▊   | 81/119 [09:33<05:06,  8.07s/it]"
     ]
    },
    {
     "name": "stdout",
     "output_type": "stream",
     "text": [
      "2024-07-30 17:25:35 src.functional INFO     ['Flash', 'Quicksilver'] <> speedster | predicted:  super speed - a superpower that both characters Flash and Quicksilver possess.\n",
      " => (✓)\n"
     ]
    },
    {
     "name": "stderr",
     "output_type": "stream",
     "text": [
      " 69%|██████▉   | 82/119 [09:38<04:32,  7.37s/it]"
     ]
    },
    {
     "name": "stdout",
     "output_type": "stream",
     "text": [
      "2024-07-30 17:25:42 httpx INFO     HTTP Request: POST https://api.openai.com/v1/chat/completions \"HTTP/1.1 200 OK\"\n",
      "2024-07-30 17:25:42 src.functional INFO     ['Superman', 'Supergirl'] <> kryptonian | predicted:  Kryptonian - a fictional alien species from which both Superman and Supergirl originate.\n",
      " => (✓)\n"
     ]
    },
    {
     "name": "stderr",
     "output_type": "stream",
     "text": [
      " 70%|██████▉   | 83/119 [09:45<04:20,  7.24s/it]"
     ]
    },
    {
     "name": "stdout",
     "output_type": "stream",
     "text": [
      "2024-07-30 17:25:50 src.functional INFO     ['Institut du Monde Arabe', 'One Central Park'] <> Jean Nouvel | predicted:  Jean Nouvel - who was the architect of both buildings Institut du Monde Arabe and One Central Park.\n",
      " => (✓)\n"
     ]
    },
    {
     "name": "stderr",
     "output_type": "stream",
     "text": [
      " 71%|███████   | 84/119 [09:53<04:19,  7.41s/it]"
     ]
    },
    {
     "name": "stdout",
     "output_type": "stream",
     "text": [
      "2024-07-30 17:25:56 httpx INFO     HTTP Request: POST https://api.openai.com/v1/chat/completions \"HTTP/1.1 200 OK\"\n",
      "2024-07-30 17:25:56 src.functional INFO     ['Hulk', 'Juggernaut'] <> super strength | predicted:  Marvel Comics - both characters Hulk and Juggernaut are part of the Marvel Comics universe.\n",
      " => (✓)\n"
     ]
    },
    {
     "name": "stderr",
     "output_type": "stream",
     "text": [
      " 71%|███████▏  | 85/119 [10:00<04:06,  7.24s/it]"
     ]
    },
    {
     "name": "stdout",
     "output_type": "stream",
     "text": [
      "2024-07-30 17:26:07 src.functional INFO     ['Guggenheim Museum Bilbao', 'Walt Disney Concert Hall'] <> Frank Gehry | predicted:  Frank Gehry - who was the architect of both buildings Guggenheim Museum Bilbao and Walt Disney Concert Hall.\n",
      " => (✓)\n"
     ]
    },
    {
     "name": "stderr",
     "output_type": "stream",
     "text": [
      " 72%|███████▏  | 86/119 [10:10<04:26,  8.08s/it]"
     ]
    },
    {
     "name": "stdout",
     "output_type": "stream",
     "text": [
      "2024-07-30 17:26:13 src.functional INFO     ['Leonardo DiCaprio', 'Howard Hughes'] <> The Aviator | predicted:  The Aviator - a movie where Leonardo DiCaprio played the role of Howard Hughes.\n",
      " => (✓)\n"
     ]
    },
    {
     "name": "stderr",
     "output_type": "stream",
     "text": [
      " 73%|███████▎  | 87/119 [10:16<04:03,  7.60s/it]"
     ]
    },
    {
     "name": "stdout",
     "output_type": "stream",
     "text": [
      "2024-07-30 17:26:20 src.functional INFO     ['Eddie Redmayne', 'Lili Elbe'] <> The Danish Girl | predicted:  The Danish Girl - a movie where Eddie Redmayne played the role of Lili Elbe.\n",
      " => (✓)\n"
     ]
    },
    {
     "name": "stderr",
     "output_type": "stream",
     "text": [
      " 74%|███████▍  | 88/119 [10:24<03:51,  7.47s/it]"
     ]
    },
    {
     "name": "stdout",
     "output_type": "stream",
     "text": [
      "2024-07-30 17:26:27 src.functional INFO     ['Getty Center', 'Barcelona Museum of Contemporary Art'] <> Richard Meier | predicted:  Richard Meier - who was the architect of both buildings Getty Center and Barcelona Museum of Contemporary Art.\n",
      " => (✗)\n"
     ]
    },
    {
     "name": "stderr",
     "output_type": "stream",
     "text": [
      " 75%|███████▍  | 89/119 [10:31<03:42,  7.40s/it]"
     ]
    },
    {
     "name": "stdout",
     "output_type": "stream",
     "text": [
      "2024-07-30 17:26:34 src.functional INFO     ['Salma Hayek', 'Frida Kahlo'] <> Frida | predicted:  Frida - a movie where Salma Hayek played the role of Frida Kahlo.\n",
      " => (✓)\n"
     ]
    },
    {
     "name": "stderr",
     "output_type": "stream",
     "text": [
      " 76%|███████▌  | 90/119 [10:38<03:29,  7.23s/it]"
     ]
    },
    {
     "name": "stdout",
     "output_type": "stream",
     "text": [
      "2024-07-30 17:26:41 src.functional INFO     ['Karch Kiraly', 'Giba'] <> volleyball | predicted:  Volleyball - a sport where both Karch Kiraly and Giba are known for.\n",
      " => (✓)\n"
     ]
    },
    {
     "name": "stderr",
     "output_type": "stream",
     "text": [
      " 76%|███████▋  | 91/119 [10:44<03:16,  7.01s/it]"
     ]
    },
    {
     "name": "stdout",
     "output_type": "stream",
     "text": [
      "2024-07-30 17:26:49 src.functional INFO     ['Liam Neeson', 'Oskar Schindler'] <> Schindler's List | predicted:  Schindler's List - a movie where Liam Neeson played the role of Oskar Schindler.\n",
      " => (✓)\n"
     ]
    },
    {
     "name": "stderr",
     "output_type": "stream",
     "text": [
      " 77%|███████▋  | 92/119 [10:52<03:17,  7.30s/it]"
     ]
    },
    {
     "name": "stdout",
     "output_type": "stream",
     "text": [
      "2024-07-30 17:26:54 src.functional INFO     ['Lionel Messi', 'Cristiano Ronaldo'] <> soccer | predicted:  Football - a sport where both Lionel Messi and Cristiano Ronaldo are professional players.\n",
      " => (✓)\n"
     ]
    },
    {
     "name": "stderr",
     "output_type": "stream",
     "text": [
      " 78%|███████▊  | 93/119 [10:57<02:54,  6.69s/it]"
     ]
    },
    {
     "name": "stdout",
     "output_type": "stream",
     "text": [
      "2024-07-30 17:27:02 src.functional INFO     ['Niterói Contemporary Art Museum', 'Cathedral of Brasília'] <> Oscar Niemeyer | predicted:  Oscar Niemeyer - who was the architect of both buildings Niterói Contemporary Art Museum and Cathedral of Brasília.\n",
      " => (✓)\n"
     ]
    },
    {
     "name": "stderr",
     "output_type": "stream",
     "text": [
      " 79%|███████▉  | 94/119 [11:06<03:00,  7.23s/it]"
     ]
    },
    {
     "name": "stdout",
     "output_type": "stream",
     "text": [
      "2024-07-30 17:27:09 src.functional INFO     ['Glass House', 'AT&T Building'] <> Philip Johnson | predicted:  Philip Johnson - who was the architect of both buildings Glass House and AT&T Building.\n",
      " => (✗)\n"
     ]
    },
    {
     "name": "stderr",
     "output_type": "stream",
     "text": [
      " 80%|███████▉  | 95/119 [11:12<02:45,  6.90s/it]"
     ]
    },
    {
     "name": "stdout",
     "output_type": "stream",
     "text": [
      "2024-07-30 17:27:15 src.functional INFO     ['Usain Bolt', 'Carl Lewis'] <> athletics | predicted:  sprinting - a sport where both Usain Bolt and Carl Lewis are known for.\n",
      " => (✓)\n"
     ]
    },
    {
     "name": "stderr",
     "output_type": "stream",
     "text": [
      " 81%|████████  | 96/119 [11:18<02:33,  6.69s/it]"
     ]
    },
    {
     "name": "stdout",
     "output_type": "stream",
     "text": [
      "2024-07-30 17:27:24 src.functional INFO     ['Adrien Brody', 'Władysław Szpilman'] <> The Pianist | predicted:  The Pianist - a movie where Adrien Brody played the role of Władysław Szpilman.\n",
      " => (✓)\n"
     ]
    },
    {
     "name": "stderr",
     "output_type": "stream",
     "text": [
      " 82%|████████▏ | 97/119 [11:27<02:41,  7.36s/it]"
     ]
    },
    {
     "name": "stdout",
     "output_type": "stream",
     "text": [
      "2024-07-30 17:27:34 src.functional INFO     ['Woody Harrelson', 'Larry Flynt'] <> The People vs. Larry Flynt | predicted:  The People vs. Larry Flynt - a movie where Woody Harrelson played the role of Larry Flynt.\n",
      " => (✓)\n"
     ]
    },
    {
     "name": "stderr",
     "output_type": "stream",
     "text": [
      " 82%|████████▏ | 98/119 [11:37<02:53,  8.25s/it]"
     ]
    },
    {
     "name": "stdout",
     "output_type": "stream",
     "text": [
      "2024-07-30 17:27:42 httpx INFO     HTTP Request: POST https://api.openai.com/v1/chat/completions \"HTTP/1.1 200 OK\"\n",
      "2024-07-30 17:27:42 src.functional INFO     ['Tokyo Metropolitan Government Building', \"St. Mary's Cathedral\"] <> Kenzo Tange | predicted:  Tokyo, Japan - the city where both Tokyo Metropolitan Government Building and St. Mary's Cathedral are located.\n",
      " => (✗)\n"
     ]
    },
    {
     "name": "stderr",
     "output_type": "stream",
     "text": [
      " 83%|████████▎ | 99/119 [11:46<02:45,  8.27s/it]"
     ]
    },
    {
     "name": "stdout",
     "output_type": "stream",
     "text": [
      "2024-07-30 17:27:50 httpx INFO     HTTP Request: POST https://api.openai.com/v1/chat/completions \"HTTP/1.1 200 OK\"\n",
      "2024-07-30 17:27:50 src.functional INFO     ['Thor', 'Wonder Woman'] <> alien warrior | predicted:  superhero - both Thor and Wonder Woman are superheroes in the Marvel and DC Comics universes.\n",
      " => (✗)\n"
     ]
    },
    {
     "name": "stderr",
     "output_type": "stream",
     "text": [
      " 84%|████████▍ | 100/119 [11:54<02:34,  8.13s/it]"
     ]
    },
    {
     "name": "stdout",
     "output_type": "stream",
     "text": [
      "2024-07-30 17:27:57 src.functional INFO     ['Gael García Bernal', 'Che Guevara'] <> The Motorcycle Diaries | predicted:  Motorcycle Diaries - a movie where Gael García Bernal played the role of Che Guevara.\n",
      " => (✓)\n"
     ]
    },
    {
     "name": "stderr",
     "output_type": "stream",
     "text": [
      " 85%|████████▍ | 101/119 [12:01<02:20,  7.78s/it]"
     ]
    },
    {
     "name": "stdout",
     "output_type": "stream",
     "text": [
      "2024-07-30 17:28:04 src.functional INFO     ['Will Smith', 'Chris Gardner'] <> The Pursuit of Happyness | predicted:  Pursuit of Happyness - a movie where Will Smith played the role of Chris Gardner.\n",
      " => (✓)\n"
     ]
    },
    {
     "name": "stderr",
     "output_type": "stream",
     "text": [
      " 86%|████████▌ | 102/119 [12:07<02:06,  7.42s/it]"
     ]
    },
    {
     "name": "stdout",
     "output_type": "stream",
     "text": [
      "2024-07-30 17:28:10 src.functional INFO     [\"Ra's al Ghul\", 'Vandal Savage'] <> immortal | predicted:  immortality - a trait that both characters Ra's al Ghul and Vandal Savage possess.\n",
      " => (✓)\n"
     ]
    },
    {
     "name": "stderr",
     "output_type": "stream",
     "text": [
      " 87%|████████▋ | 103/119 [12:14<01:54,  7.16s/it]"
     ]
    },
    {
     "name": "stdout",
     "output_type": "stream",
     "text": [
      "2024-07-30 17:28:16 src.functional INFO     ['Lance Armstrong', 'Eddy Merckx'] <> cycling | predicted:  cycling - a sport where both Lance Armstrong and Eddy Merckx are known for.\n",
      " => (✓)\n"
     ]
    },
    {
     "name": "stderr",
     "output_type": "stream",
     "text": [
      " 87%|████████▋ | 104/119 [12:20<01:43,  6.89s/it]"
     ]
    },
    {
     "name": "stdout",
     "output_type": "stream",
     "text": [
      "2024-07-30 17:28:23 httpx INFO     HTTP Request: POST https://api.openai.com/v1/chat/completions \"HTTP/1.1 200 OK\"\n",
      "2024-07-30 17:28:23 src.functional INFO     ['Andrew Garfield', 'Eduardo Saverin'] <> The Social Network | predicted:  Social Network - a movie where Andrew Garfield played the role of Eduardo Saverin.\n",
      " => (✓)\n"
     ]
    },
    {
     "name": "stderr",
     "output_type": "stream",
     "text": [
      " 88%|████████▊ | 105/119 [12:26<01:34,  6.78s/it]"
     ]
    },
    {
     "name": "stdout",
     "output_type": "stream",
     "text": [
      "2024-07-30 17:28:29 httpx INFO     HTTP Request: POST https://api.openai.com/v1/chat/completions \"HTTP/1.1 200 OK\"\n",
      "2024-07-30 17:28:29 src.functional INFO     ['Michael Schumacher', 'Lewis Hamilton'] <> formula 1 | predicted:  Formula One - a racing series where both Michael Schumacher and Lewis Hamilton have competed.\n",
      " => (✓)\n"
     ]
    },
    {
     "name": "stderr",
     "output_type": "stream",
     "text": [
      " 89%|████████▉ | 106/119 [12:33<01:26,  6.68s/it]"
     ]
    },
    {
     "name": "stdout",
     "output_type": "stream",
     "text": [
      "2024-07-30 17:28:39 src.functional INFO     ['30 St Mary Axe (The Gherkin)', 'Hearst Tower'] <> Norman Foster | predicted:  Norman Foster - who was the architect of both buildings 30 St Mary Axe (The Gherkin) and Hearst Tower.\n",
      " => (✗)\n"
     ]
    },
    {
     "name": "stderr",
     "output_type": "stream",
     "text": [
      " 90%|████████▉ | 107/119 [12:42<01:29,  7.46s/it]"
     ]
    },
    {
     "name": "stdout",
     "output_type": "stream",
     "text": [
      "2024-07-30 17:28:45 httpx INFO     HTTP Request: POST https://api.openai.com/v1/chat/completions \"HTTP/1.1 200 OK\"\n",
      "2024-07-30 17:28:45 src.functional INFO     ['Captain America', 'Deathstroke'] <> super soldier | predicted:  comic book characters - both Captain America and Deathstroke are characters from comic books.\n",
      " => (✗)\n"
     ]
    },
    {
     "name": "stderr",
     "output_type": "stream",
     "text": [
      " 91%|█████████ | 108/119 [12:49<01:19,  7.24s/it]"
     ]
    },
    {
     "name": "stdout",
     "output_type": "stream",
     "text": [
      "2024-07-30 17:28:53 httpx INFO     HTTP Request: POST https://api.openai.com/v1/chat/completions \"HTTP/1.1 200 OK\"\n",
      "2024-07-30 17:28:53 src.functional INFO     ['Garry Kasparov', 'Magnus Carlsen'] <> chess | predicted:  Chess - a game where both Garry Kasparov and Magnus Carlsen are world-renowned players.\n",
      " => (✓)\n"
     ]
    },
    {
     "name": "stderr",
     "output_type": "stream",
     "text": [
      " 92%|█████████▏| 109/119 [12:57<01:14,  7.44s/it]"
     ]
    },
    {
     "name": "stdout",
     "output_type": "stream",
     "text": [
      "2024-07-30 17:29:00 src.functional INFO     ['David Oyelowo', 'Martin Luther King Jr.'] <> Selma | predicted:  Selma - a movie where David Oyelowo played the role of Martin Luther King Jr.\n",
      " => (✓)\n"
     ]
    },
    {
     "name": "stderr",
     "output_type": "stream",
     "text": [
      " 92%|█████████▏| 110/119 [13:04<01:05,  7.25s/it]"
     ]
    },
    {
     "name": "stdout",
     "output_type": "stream",
     "text": [
      "2024-07-30 17:29:11 src.functional INFO     [\"Unité d'Habitation\", 'Notre Dame du Haut'] <> Le Corbusier | predicted:  Le Corbusier - who was the architect of both buildings Unité d'Habitation and Notre Dame du Haut.\n",
      " => (✗)\n"
     ]
    },
    {
     "name": "stderr",
     "output_type": "stream",
     "text": [
      " 93%|█████████▎| 111/119 [13:14<01:06,  8.34s/it]"
     ]
    },
    {
     "name": "stdout",
     "output_type": "stream",
     "text": [
      "2024-07-30 17:29:17 src.functional INFO     ['Tiger Woods', 'Phil Mickelson'] <> golf | predicted:  golf - a sport where both Tiger Woods and Phil Mickelson are professional golfers.\n",
      " => (✓)\n"
     ]
    },
    {
     "name": "stderr",
     "output_type": "stream",
     "text": [
      " 94%|█████████▍| 112/119 [13:20<00:53,  7.59s/it]"
     ]
    },
    {
     "name": "stdout",
     "output_type": "stream",
     "text": [
      "2024-07-30 17:29:23 httpx INFO     HTTP Request: POST https://api.openai.com/v1/chat/completions \"HTTP/1.1 200 OK\"\n",
      "2024-07-30 17:29:23 src.functional INFO     ['The Shard', 'New York Times Building'] <> Renzo Piano | predicted:  skyscraper - both The Shard and New York Times Building are skyscrapers.\n",
      " => (✓)\n"
     ]
    },
    {
     "name": "stderr",
     "output_type": "stream",
     "text": [
      " 95%|█████████▍| 113/119 [13:26<00:42,  7.09s/it]"
     ]
    },
    {
     "name": "stdout",
     "output_type": "stream",
     "text": [
      "2024-07-30 17:29:30 src.functional INFO     ['Forest Whitaker', 'Idi Amin'] <> The Last King of Scotland | predicted:  The Last King of Scotland - a movie where Forest Whitaker played the role of Idi Amin.\n",
      " => (✓)\n"
     ]
    },
    {
     "name": "stderr",
     "output_type": "stream",
     "text": [
      " 96%|█████████▌| 114/119 [13:34<00:36,  7.24s/it]"
     ]
    },
    {
     "name": "stdout",
     "output_type": "stream",
     "text": [
      "2024-07-30 17:29:38 httpx INFO     HTTP Request: POST https://api.openai.com/v1/chat/completions \"HTTP/1.1 200 OK\"\n",
      "2024-07-30 17:29:38 src.functional INFO     ['Black Canary', 'Black Bolt'] <> sonic scream | predicted:  superhero - both Black Canary and Black Bolt are superheroes in the DC and Marvel universes.\n",
      " => (✗)\n"
     ]
    },
    {
     "name": "stderr",
     "output_type": "stream",
     "text": [
      " 97%|█████████▋| 115/119 [13:42<00:29,  7.42s/it]"
     ]
    },
    {
     "name": "stdout",
     "output_type": "stream",
     "text": [
      "2024-07-30 17:29:47 src.functional INFO     ['Seagram Building', 'Farnsworth House'] <> Ludwig Mies van der Rohe | predicted:  Ludwig Mies van der Rohe - who was the architect of both buildings Seagram Building and Farnsworth House.\n",
      " => (✗)\n"
     ]
    },
    {
     "name": "stderr",
     "output_type": "stream",
     "text": [
      " 97%|█████████▋| 116/119 [13:50<00:23,  7.77s/it]"
     ]
    },
    {
     "name": "stdout",
     "output_type": "stream",
     "text": [
      "2024-07-30 17:29:53 httpx INFO     HTTP Request: POST https://api.openai.com/v1/chat/completions \"HTTP/1.1 200 OK\"\n",
      "2024-07-30 17:29:53 src.functional INFO     ['Professor X', 'Jean Grey'] <> telepath | predicted:  X-Men - a comic book series where both Professor X and Jean Grey are characters.\n",
      " => (✓)\n"
     ]
    },
    {
     "name": "stderr",
     "output_type": "stream",
     "text": [
      " 98%|█████████▊| 117/119 [13:57<00:14,  7.42s/it]"
     ]
    },
    {
     "name": "stdout",
     "output_type": "stream",
     "text": [
      "2024-07-30 17:30:01 httpx INFO     HTTP Request: POST https://api.openai.com/v1/chat/completions \"HTTP/1.1 200 OK\"\n",
      "2024-07-30 17:30:01 src.functional INFO     ['Babe Ruth', 'Hank Aaron'] <> baseball | predicted:  Home runs - a record that both Babe Ruth and Hank Aaron hold in baseball.\n",
      " => (✗)\n"
     ]
    },
    {
     "name": "stderr",
     "output_type": "stream",
     "text": [
      " 99%|█████████▉| 118/119 [14:04<00:07,  7.46s/it]"
     ]
    },
    {
     "name": "stdout",
     "output_type": "stream",
     "text": [
      "2024-07-30 17:30:08 httpx INFO     HTTP Request: POST https://api.openai.com/v1/chat/completions \"HTTP/1.1 200 OK\"\n",
      "2024-07-30 17:30:08 src.functional INFO     ['Susan Storm', 'Invisible Woman'] <> invisibility | predicted:  superhero - both Susan Storm and Invisible Woman are superheroes in the Marvel Comics universe.\n",
      " => (✗)\n"
     ]
    },
    {
     "name": "stderr",
     "output_type": "stream",
     "text": [
      "100%|██████████| 119/119 [14:11<00:00,  7.16s/it]"
     ]
    },
    {
     "name": "stdout",
     "output_type": "stream",
     "text": [
      "2024-07-30 17:30:08 src.functional INFO     filtered 95 samples out of 119 with 4 icl examples\n"
     ]
    },
    {
     "name": "stderr",
     "output_type": "stream",
     "text": [
      "\n"
     ]
    }
   ],
   "source": [
    "from src.functional import filter_bridge_samples_by_model_knowledge\n",
    "\n",
    "dataset = filter_bridge_samples_by_model_knowledge(mt, dataset)"
   ]
  },
  {
   "cell_type": "code",
   "execution_count": 15,
   "metadata": {},
   "outputs": [],
   "source": [
    "import datetime\n",
    "\n",
    "file_name = os.path.join(\n",
    "    env_utils.DEFAULT_DATA_DIR, \n",
    "    \"bridge_cached\", \n",
    "    f\"filtered_{datetime.datetime.now().isoformat()}.json\"\n",
    ")\n",
    "\n",
    "with open(file_name, \"w\") as f:\n",
    "    f.write(dataset.to_json())"
   ]
  },
  {
   "cell_type": "code",
   "execution_count": 16,
   "metadata": {},
   "outputs": [],
   "source": [
    "# loaded = BridgeDataset.from_json(file_name)"
   ]
  },
  {
   "cell_type": "code",
   "execution_count": 18,
   "metadata": {},
   "outputs": [
    {
     "name": "stdout",
     "output_type": "stream",
     "text": [
      "2024-07-30 17:53:57 src.dataset INFO     initialized bridge relation superpower_characters with 26 examples\n",
      "2024-07-30 17:53:57 src.dataset INFO     initialized bridge relation sport_players with 22 examples\n",
      "2024-07-30 17:53:57 src.dataset INFO     initialized bridge relation movie_actor with 51 examples\n",
      "2024-07-30 17:53:57 src.dataset INFO     initialized bridge relation architect_building with 20 examples\n",
      "2024-07-30 17:53:57 src.dataset INFO     initialized bridge dataset with 4 relations and 95 examples\n"
     ]
    }
   ],
   "source": [
    "import json\n",
    "with open(file_name, \"r\") as f:\n",
    "    json_data = json.load(f)\n",
    "loaded_dataset = BridgeDataset.from_dict(json_data)"
   ]
  },
  {
   "cell_type": "code",
   "execution_count": null,
   "metadata": {},
   "outputs": [],
   "source": []
  }
 ],
 "metadata": {
  "kernelspec": {
   "display_name": "retrieval",
   "language": "python",
   "name": "python3"
  },
  "language_info": {
   "codemirror_mode": {
    "name": "ipython",
    "version": 3
   },
   "file_extension": ".py",
   "mimetype": "text/x-python",
   "name": "python",
   "nbconvert_exporter": "python",
   "pygments_lexer": "ipython3",
   "version": "3.11.9"
  }
 },
 "nbformat": 4,
 "nbformat_minor": 2
}
