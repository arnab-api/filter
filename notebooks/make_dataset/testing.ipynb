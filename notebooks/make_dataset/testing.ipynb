{
 "cells": [
  {
   "cell_type": "code",
   "execution_count": 1,
   "metadata": {},
   "outputs": [],
   "source": [
    "%load_ext autoreload\n",
    "%autoreload 2"
   ]
  },
  {
   "cell_type": "code",
   "execution_count": 2,
   "metadata": {},
   "outputs": [
    {
     "name": "stderr",
     "output_type": "stream",
     "text": [
      "/home/local_arnab/miniconda3/envs/retrieval/lib/python3.11/site-packages/tqdm/auto.py:21: TqdmWarning: IProgress not found. Please update jupyter and ipywidgets. See https://ipywidgets.readthedocs.io/en/stable/user_install.html\n",
      "  from .autonotebook import tqdm as notebook_tqdm\n"
     ]
    },
    {
     "name": "stdout",
     "output_type": "stream",
     "text": [
      "2024-09-05 17:38:20 __main__ INFO     torch.__version__='2.3.1', torch.version.cuda='12.1'\n",
      "2024-09-05 17:38:20 __main__ INFO     torch.cuda.is_available()=True, torch.cuda.device_count()=1, torch.cuda.get_device_name()='NVIDIA RTX A6000'\n",
      "2024-09-05 17:38:20 __main__ INFO     transformers.__version__='4.44.2'\n"
     ]
    }
   ],
   "source": [
    "import os\n",
    "from tqdm.auto import tqdm\n",
    "\n",
    "import sys\n",
    "sys.path.append(\"../../\")\n",
    "import os\n",
    "\n",
    "import logging\n",
    "from src.utils import logging_utils\n",
    "from src.utils import env_utils, experiment_utils\n",
    "from src import functional\n",
    "\n",
    "logger = logging.getLogger(__name__)\n",
    "\n",
    "logging.basicConfig(\n",
    "    level=logging.INFO,\n",
    "    format=logging_utils.DEFAULT_FORMAT,\n",
    "    datefmt=logging_utils.DEFAULT_DATEFMT,\n",
    "    stream=sys.stdout,\n",
    ")\n",
    "\n",
    "import torch\n",
    "import transformers\n",
    "\n",
    "logger.info(f\"{torch.__version__=}, {torch.version.cuda=}\")\n",
    "logger.info(f\"{torch.cuda.is_available()=}, {torch.cuda.device_count()=}, {torch.cuda.get_device_name()=}\")\n",
    "logger.info(f\"{transformers.__version__=}\")"
   ]
  },
  {
   "cell_type": "code",
   "execution_count": 3,
   "metadata": {},
   "outputs": [],
   "source": [
    "from dataclasses_json import DataClassJsonMixin\n",
    "from dataclasses import dataclass, field, fields\n",
    "from typing import Optional\n",
    "import random\n",
    "from src.dataset import BridgeSample, BridgeRelation, BridgeDataset\n",
    "from src.dataset import load_bridge_relation, load_bridge_relations, load_bridge_dataset        "
   ]
  },
  {
   "cell_type": "code",
   "execution_count": 4,
   "metadata": {},
   "outputs": [
    {
     "name": "stdout",
     "output_type": "stream",
     "text": [
      "2024-09-05 17:38:22 src.utils.experiment_utils INFO     setting all seeds to 123456\n",
      "2024-09-05 17:38:22 src.dataset INFO     initialized bridge relation superpower_characters with 80 examples\n",
      "2024-09-05 17:38:22 src.dataset INFO     initialized bridge relation sport_players with 61 examples\n",
      "2024-09-05 17:38:22 src.dataset INFO     initialized bridge relation movie_actor with 71 examples\n",
      "2024-09-05 17:38:22 src.dataset INFO     initialized bridge relation architect_building with 43 examples\n",
      "2024-09-05 17:38:22 src.dataset INFO     initialized bridge relation none with 102 examples\n",
      "2024-09-05 17:38:22 src.dataset INFO     initialized bridge dataset with 5 relations and 352 examples\n"
     ]
    }
   ],
   "source": [
    "experiment_utils.set_seed(123456)\n",
    "relations = load_bridge_relations()\n",
    "dataset = BridgeDataset(relations)"
   ]
  },
  {
   "cell_type": "code",
   "execution_count": 5,
   "metadata": {},
   "outputs": [
    {
     "data": {
      "text/plain": [
       "5"
      ]
     },
     "execution_count": 5,
     "metadata": {},
     "output_type": "execute_result"
    }
   ],
   "source": [
    "len(dataset.relations)"
   ]
  },
  {
   "cell_type": "code",
   "execution_count": 21,
   "metadata": {},
   "outputs": [
    {
     "name": "stdout",
     "output_type": "stream",
     "text": [
      "Given two entities, find a common link between them.\n",
      "#\n",
      "What is a common link between Michelle Williams and Marilyn Monroe?\n",
      "A: My Week with Marilyn - a movie where Michelle Williams played the role of Marilyn Monroe.\n",
      "#\n",
      "What is a common link between Fallingwater and Guggenheim Museum?\n",
      "A: Frank Lloyd Wright - who was the architect of both buildings Fallingwater and Guggenheim Museum.\n",
      "#\n",
      "What is a common link between Roger Federer and Rafael Nadal?\n",
      "A: tennis - a sport where both Roger Federer and Rafael Nadal are known for.\n",
      "#\n",
      "What is a common link between Charles Darwin and Flamenco?\n",
      "A: none - there is no connection between Charles Darwin and Flamenco.\n",
      "#\n",
      "What is a common link between Mr. Fantastic and Elastigirl?\n",
      "A: elastic powers - an attribute that both characters Mr. Fantastic and Elastigirl possess.\n",
      "#\n",
      "What is a common link between Invisible Woman and Violet Parr?\n",
      "A:\n",
      "force field - an attribute that both characters Invisible Woman and Violet Parr possess.\n"
     ]
    }
   ],
   "source": [
    "sample_idx = 12\n",
    "question,answer = dataset[sample_idx]\n",
    "\n",
    "print(question)\n",
    "print(answer)"
   ]
  },
  {
   "cell_type": "code",
   "execution_count": 7,
   "metadata": {},
   "outputs": [
    {
     "name": "stdout",
     "output_type": "stream",
     "text": [
      "2024-09-05 17:39:06 accelerate.utils.modeling INFO     We will use 90% of the memory on device 0 for storing the model, and 10% for the buffer to avoid OOM. You can set `max_memory` in to a higher value to use more memory (at your own risk).\n"
     ]
    },
    {
     "name": "stderr",
     "output_type": "stream",
     "text": [
      "Loading checkpoint shards: 100%|██████████| 4/4 [00:08<00:00,  2.01s/it]"
     ]
    },
    {
     "name": "stdout",
     "output_type": "stream",
     "text": [
      "2024-09-05 17:39:14 src.models INFO     loaded model </home/local_arnab/Codes/00_MODEL/meta-llama/Meta-Llama-3-8B-Instruct> | size: 15316.516 MB | dtype: torch.float16 | device: cuda:0\n"
     ]
    },
    {
     "name": "stderr",
     "output_type": "stream",
     "text": [
      "\n"
     ]
    }
   ],
   "source": [
    "import torch\n",
    "\n",
    "from nnsight import LanguageModel\n",
    "from src.models import ModelandTokenizer\n",
    "\n",
    "# model_key = \"meta-llama/Meta-Llama-3-8B\"\n",
    "model_key = \"meta-llama/Meta-Llama-3-8B-Instruct\"\n",
    "# model_key = \"google/gemma-2-9b-it\"\n",
    "# model_key = \"google/gemma-2-27b-it\"\n",
    "# model_key = \"Qwen/Qwen2-7B\"\n",
    "\n",
    "mt = ModelandTokenizer(\n",
    "    model_key=model_key,\n",
    "    torch_dtype=torch.float16,\n",
    ")"
   ]
  },
  {
   "cell_type": "code",
   "execution_count": 22,
   "metadata": {},
   "outputs": [
    {
     "data": {
      "text/plain": [
       "' superpowers - both Invisible Woman and Violet Parr have superpowers.\\n'"
      ]
     },
     "execution_count": 22,
     "metadata": {},
     "output_type": "execute_result"
    }
   ],
   "source": [
    "from src.functional import predict_bridge_entity\n",
    "\n",
    "predicted_ans = predict_bridge_entity(mt, question)\n",
    "predicted_ans"
   ]
  },
  {
   "cell_type": "code",
   "execution_count": 24,
   "metadata": {},
   "outputs": [
    {
     "data": {
      "text/plain": [
       "\"No. While it's true that both Invisible Woman and Violet Parr have superpowers, this is not the most specific or notable common link between them. The key connection is that they both have the power of invisibility as their primary superpower. Additionally, both characters can create force fields. These specific shared abilities are a much more precise and relevant link between the two characters than the general fact that they have superpowers.\""
      ]
     },
     "execution_count": 24,
     "metadata": {},
     "output_type": "execute_result"
    }
   ],
   "source": [
    "from src.functional import verify_bridge_response\n",
    "\n",
    "query_sample = dataset.examples[sample_idx]\n",
    "verify_bridge_response(query_sample, predicted_ans)"
   ]
  },
  {
   "cell_type": "code",
   "execution_count": 25,
   "metadata": {},
   "outputs": [
    {
     "name": "stderr",
     "output_type": "stream",
     "text": [
      "  0%|          | 0/352 [00:00<?, ?it/s]"
     ]
    },
    {
     "name": "stdout",
     "output_type": "stream",
     "text": [
      "2024-09-05 17:43:35 httpx INFO     HTTP Request: POST https://api.anthropic.com/v1/messages \"HTTP/1.1 200 OK\"\n",
      "2024-09-05 17:43:35 src.functional INFO     ['Doctor Strange', 'Zatanna'] <> magic user | predicted:  magic - a theme that both Doctor Strange and Zatanna are associated with.\n",
      " => (✓)\n"
     ]
    },
    {
     "name": "stderr",
     "output_type": "stream",
     "text": [
      "  0%|          | 1/352 [00:05<32:12,  5.51s/it]"
     ]
    },
    {
     "name": "stdout",
     "output_type": "stream",
     "text": [
      "2024-09-05 17:43:41 httpx INFO     HTTP Request: POST https://api.anthropic.com/v1/messages \"HTTP/1.1 200 OK\"\n",
      "2024-09-05 17:43:41 src.functional INFO     ['Sonic the Hedgehog', 'The Flash'] <> super speed | predicted:  speed - a superpower that both characters Sonic the Hedgehog and The Flash possess.\n",
      " => (✓)\n"
     ]
    },
    {
     "name": "stderr",
     "output_type": "stream",
     "text": [
      "  1%|          | 2/352 [00:11<33:39,  5.77s/it]"
     ]
    },
    {
     "name": "stdout",
     "output_type": "stream",
     "text": [
      "2024-09-05 17:43:49 httpx INFO     HTTP Request: POST https://api.anthropic.com/v1/messages \"HTTP/1.1 200 OK\"\n",
      "2024-09-05 17:43:49 src.functional INFO     ['Jim Carrey', 'Andy Kaufman'] <> Man on the Moon | predicted:  impersonation - both Jim Carrey and Andy Kaufman were known for their impersonation skills.\n",
      " => (✗)\n"
     ]
    },
    {
     "name": "stderr",
     "output_type": "stream",
     "text": [
      "  1%|          | 3/352 [00:19<39:44,  6.83s/it]"
     ]
    },
    {
     "name": "stdout",
     "output_type": "stream",
     "text": [
      "2024-09-05 17:43:55 httpx INFO     HTTP Request: POST https://api.anthropic.com/v1/messages \"HTTP/1.1 200 OK\"\n",
      "2024-09-05 17:43:55 src.functional INFO     ['Babe Ruth', 'Hank Aaron'] <> baseball | predicted:  baseball - a sport where both Babe Ruth and Hank Aaron played.\n",
      " => (✓)\n"
     ]
    },
    {
     "name": "stderr",
     "output_type": "stream",
     "text": [
      "  1%|          | 4/352 [00:25<36:54,  6.36s/it]"
     ]
    },
    {
     "name": "stdout",
     "output_type": "stream",
     "text": [
      "2024-09-05 17:44:01 httpx INFO     HTTP Request: POST https://api.anthropic.com/v1/messages \"HTTP/1.1 200 OK\"\n",
      "2024-09-05 17:44:01 src.functional INFO     ['Leonardo DiCaprio', 'J. Edgar Hoover'] <> J. Edgar | predicted:  J. Edgar - a movie where Leonardo DiCaprio played the role of J. Edgar Hoover.\n",
      " => (✓)\n"
     ]
    },
    {
     "name": "stderr",
     "output_type": "stream",
     "text": [
      "  1%|▏         | 5/352 [00:31<36:56,  6.39s/it]"
     ]
    },
    {
     "name": "stdout",
     "output_type": "stream",
     "text": [
      "2024-09-05 17:44:11 httpx INFO     HTTP Request: POST https://api.anthropic.com/v1/messages \"HTTP/1.1 200 OK\"\n",
      "2024-09-05 17:44:11 src.functional INFO     ['John Hurt', 'Joseph Merrick'] <> The Elephant Man | predicted:  The Elephant Man - a movie where John Hurt played the role of Dr. Frederick Treves, who treated Joseph Merrick.\n",
      " => (✗)\n"
     ]
    },
    {
     "name": "stderr",
     "output_type": "stream",
     "text": [
      "  2%|▏         | 6/352 [00:41<43:37,  7.57s/it]"
     ]
    },
    {
     "name": "stdout",
     "output_type": "stream",
     "text": [
      "2024-09-05 17:44:18 httpx INFO     HTTP Request: POST https://api.anthropic.com/v1/messages \"HTTP/1.1 200 OK\"\n",
      "2024-09-05 17:44:18 src.functional INFO     ['Centre Pompidou', \"Lloyd's building\"] <> Richard Rogers | predicted:  Richard Rogers - who was the architect of both buildings Centre Pompidou and Lloyd's building.\n",
      " => (✓)\n"
     ]
    },
    {
     "name": "stderr",
     "output_type": "stream",
     "text": [
      "  2%|▏         | 7/352 [00:47<41:28,  7.21s/it]"
     ]
    },
    {
     "name": "stdout",
     "output_type": "stream",
     "text": [
      "2024-09-05 17:44:27 httpx INFO     HTTP Request: POST https://api.anthropic.com/v1/messages \"HTTP/1.1 200 OK\"\n",
      "2024-09-05 17:44:27 src.functional INFO     ['New Museum', 'Rolex Learning Center'] <> SANAA | predicted:  Herzog & de Meuron - an architectural firm that designed both buildings New Museum and Rolex Learning Center.\n",
      " => (✗)\n"
     ]
    },
    {
     "name": "stderr",
     "output_type": "stream",
     "text": [
      "  2%|▏         | 8/352 [00:57<44:45,  7.81s/it]"
     ]
    },
    {
     "name": "stdout",
     "output_type": "stream",
     "text": [
      "2024-09-05 17:44:32 httpx INFO     HTTP Request: POST https://api.anthropic.com/v1/messages \"HTTP/1.1 200 OK\"\n",
      "2024-09-05 17:44:32 src.functional INFO     ['Dalai Lama', 'Statue of Liberty'] <> none | predicted:  freedom - a concept that both Dalai Lama and Statue of Liberty represent.\n",
      " => (✓)\n"
     ]
    },
    {
     "name": "stderr",
     "output_type": "stream",
     "text": [
      "  3%|▎         | 9/352 [01:02<40:27,  7.08s/it]"
     ]
    },
    {
     "name": "stdout",
     "output_type": "stream",
     "text": [
      "2024-09-05 17:44:39 httpx INFO     HTTP Request: POST https://api.anthropic.com/v1/messages \"HTTP/1.1 200 OK\"\n",
      "2024-09-05 17:44:39 src.functional INFO     ['Seattle Central Library', 'CCTV Headquarters'] <> Rem Koolhaas | predicted:  Rem Koolhaas - who was the architect of both buildings Seattle Central Library and CCTV Headquarters.\n",
      " => (✓)\n"
     ]
    },
    {
     "name": "stderr",
     "output_type": "stream",
     "text": [
      "  3%|▎         | 10/352 [01:09<40:51,  7.17s/it]"
     ]
    },
    {
     "name": "stdout",
     "output_type": "stream",
     "text": [
      "2024-09-05 17:44:46 httpx INFO     HTTP Request: POST https://api.anthropic.com/v1/messages \"HTTP/1.1 200 OK\"\n",
      "2024-09-05 17:44:46 src.functional INFO     ['Floyd Mayweather', 'Manny Pacquiao'] <> boxing | predicted:  boxing - a sport where both Floyd Mayweather and Manny Pacquiao are professional boxers.\n",
      " => (✓)\n"
     ]
    },
    {
     "name": "stderr",
     "output_type": "stream",
     "text": [
      "  3%|▎         | 11/352 [01:16<39:16,  6.91s/it]"
     ]
    },
    {
     "name": "stdout",
     "output_type": "stream",
     "text": [
      "2024-09-05 17:44:52 httpx INFO     HTTP Request: POST https://api.anthropic.com/v1/messages \"HTTP/1.1 200 OK\"\n",
      "2024-09-05 17:44:52 src.functional INFO     ['Usain Bolt', 'Carl Lewis'] <> athletics | predicted:  sprinting - a sport where both Usain Bolt and Carl Lewis have excelled.\n",
      " => (✓)\n"
     ]
    },
    {
     "name": "stderr",
     "output_type": "stream",
     "text": [
      "  3%|▎         | 12/352 [01:22<38:22,  6.77s/it]"
     ]
    },
    {
     "name": "stdout",
     "output_type": "stream",
     "text": [
      "2024-09-05 17:44:56 src.functional INFO     ['Invisible Woman', 'Violet Parr'] <> force field | predicted:  superpowers - both Invisible Woman and Violet Parr have superpowers.\n",
      " => (✗)\n"
     ]
    },
    {
     "name": "stderr",
     "output_type": "stream",
     "text": [
      "  4%|▎         | 13/352 [01:26<33:36,  5.95s/it]"
     ]
    },
    {
     "name": "stdout",
     "output_type": "stream",
     "text": [
      "2024-09-05 17:45:03 httpx INFO     HTTP Request: POST https://api.anthropic.com/v1/messages \"HTTP/1.1 200 OK\"\n",
      "2024-09-05 17:45:03 src.functional INFO     ['Amelia Earhart', 'Haggis'] <> none | predicted:  none - there is no connection between Amelia Earhart and Haggis.\n",
      " => (✗)\n"
     ]
    },
    {
     "name": "stderr",
     "output_type": "stream",
     "text": [
      "  4%|▍         | 14/352 [01:33<35:23,  6.28s/it]"
     ]
    },
    {
     "name": "stdout",
     "output_type": "stream",
     "text": [
      "2024-09-05 17:45:12 httpx INFO     HTTP Request: POST https://api.anthropic.com/v1/messages \"HTTP/1.1 200 OK\"\n",
      "2024-09-05 17:45:12 src.functional INFO     ['Church of the Light', 'Chichu Art Museum'] <> Tadao Ando | predicted:  Tadao Ando - who was the architect of both buildings Church of the Light and Chichu Art Museum.\n",
      " => (✓)\n"
     ]
    },
    {
     "name": "stderr",
     "output_type": "stream",
     "text": [
      "  4%|▍         | 15/352 [01:42<39:19,  7.00s/it]"
     ]
    },
    {
     "name": "stdout",
     "output_type": "stream",
     "text": [
      "2024-09-05 17:45:18 httpx INFO     HTTP Request: POST https://api.anthropic.com/v1/messages \"HTTP/1.1 200 OK\"\n",
      "2024-09-05 17:45:18 src.functional INFO     ['Ben Kingsley', 'Mahatma Gandhi'] <> Gandhi | predicted:  Gandhi - a movie where Ben Kingsley played the role of Mahatma Gandhi.\n",
      " => (✓)\n"
     ]
    },
    {
     "name": "stderr",
     "output_type": "stream",
     "text": [
      "  5%|▍         | 16/352 [01:48<37:48,  6.75s/it]"
     ]
    },
    {
     "name": "stdout",
     "output_type": "stream",
     "text": [
      "2024-09-05 17:45:24 httpx INFO     HTTP Request: POST https://api.anthropic.com/v1/messages \"HTTP/1.1 200 OK\"\n",
      "2024-09-05 17:45:24 src.functional INFO     ['Michael Jordan', 'LeBron James'] <> basketball | predicted:  basketball - a sport where both Michael Jordan and LeBron James are known for.\n",
      " => (✓)\n"
     ]
    },
    {
     "name": "stderr",
     "output_type": "stream",
     "text": [
      "  5%|▍         | 17/352 [01:54<36:18,  6.50s/it]"
     ]
    },
    {
     "name": "stdout",
     "output_type": "stream",
     "text": [
      "2024-09-05 17:45:33 httpx INFO     HTTP Request: POST https://api.anthropic.com/v1/messages \"HTTP/1.1 200 OK\"\n",
      "2024-09-05 17:45:33 src.functional INFO     ['Oprah Winfrey', 'Colosseum'] <> none | predicted:  none - there is no connection between Oprah Winfrey and Colosseum.\n",
      " => (✗)\n"
     ]
    },
    {
     "name": "stderr",
     "output_type": "stream",
     "text": [
      "  5%|▌         | 18/352 [02:03<40:15,  7.23s/it]"
     ]
    },
    {
     "name": "stdout",
     "output_type": "stream",
     "text": [
      "2024-09-05 17:45:40 httpx INFO     HTTP Request: POST https://api.anthropic.com/v1/messages \"HTTP/1.1 200 OK\"\n",
      "2024-09-05 17:45:40 src.functional INFO     ['Rami Malek', 'Freddie Mercury'] <> Bohemian Rhapsody | predicted:  Bohemian Rhapsody - a movie where Rami Malek played the role of Freddie Mercury.\n",
      " => (✓)\n"
     ]
    },
    {
     "name": "stderr",
     "output_type": "stream",
     "text": [
      "  5%|▌         | 19/352 [02:10<40:06,  7.23s/it]"
     ]
    },
    {
     "name": "stdout",
     "output_type": "stream",
     "text": [
      "2024-09-05 17:45:47 httpx INFO     HTTP Request: POST https://api.anthropic.com/v1/messages \"HTTP/1.1 200 OK\"\n",
      "2024-09-05 17:45:47 src.functional INFO     ['Zinedine Zidane', 'Ronaldinho'] <> soccer | predicted:  soccer - a sport where both Zinedine Zidane and Ronaldinho are known for.\n",
      " => (✓)\n"
     ]
    },
    {
     "name": "stderr",
     "output_type": "stream",
     "text": [
      "  6%|▌         | 20/352 [02:17<38:42,  7.00s/it]"
     ]
    },
    {
     "name": "stdout",
     "output_type": "stream",
     "text": [
      "2024-09-05 17:45:54 httpx INFO     HTTP Request: POST https://api.anthropic.com/v1/messages \"HTTP/1.1 200 OK\"\n",
      "2024-09-05 17:45:54 src.functional INFO     ['Pablo Picasso', 'Koala'] <> none | predicted:  none - there is no connection between Pablo Picasso and Koala.\n",
      " => (✗)\n"
     ]
    },
    {
     "name": "stderr",
     "output_type": "stream",
     "text": [
      "  6%|▌         | 21/352 [02:24<39:01,  7.07s/it]"
     ]
    },
    {
     "name": "stdout",
     "output_type": "stream",
     "text": [
      "2024-09-05 17:46:01 httpx INFO     HTTP Request: POST https://api.anthropic.com/v1/messages \"HTTP/1.1 200 OK\"\n",
      "2024-09-05 17:46:01 src.functional INFO     ['Marilyn Monroe', 'Mount Fuji'] <> none | predicted:  none - there is no connection between Marilyn Monroe and Mount Fuji.\n",
      " => (✗)\n"
     ]
    },
    {
     "name": "stderr",
     "output_type": "stream",
     "text": [
      "  6%|▋         | 22/352 [02:31<39:21,  7.16s/it]"
     ]
    },
    {
     "name": "stdout",
     "output_type": "stream",
     "text": [
      "2024-09-05 17:46:07 src.functional INFO     ['Zhang Jike', 'Timo Boll'] <> table tennis | predicted:  table tennis - a sport where both Zhang Jike and Timo Boll are professional players.\n",
      " => (✓)\n"
     ]
    },
    {
     "name": "stderr",
     "output_type": "stream",
     "text": [
      "  7%|▋         | 23/352 [02:37<37:06,  6.77s/it]"
     ]
    },
    {
     "name": "stdout",
     "output_type": "stream",
     "text": [
      "2024-09-05 17:46:13 httpx INFO     HTTP Request: POST https://api.anthropic.com/v1/messages \"HTTP/1.1 200 OK\"\n",
      "2024-09-05 17:46:13 src.functional INFO     ['Vandal Savage', 'Apocalypse'] <> immortality | predicted:  immortality - a trait that both characters Vandal Savage and Apocalypse possess.\n",
      " => (✓)\n"
     ]
    },
    {
     "name": "stderr",
     "output_type": "stream",
     "text": [
      "  7%|▋         | 24/352 [02:43<35:14,  6.45s/it]"
     ]
    },
    {
     "name": "stdout",
     "output_type": "stream",
     "text": [
      "2024-09-05 17:46:21 httpx INFO     HTTP Request: POST https://api.anthropic.com/v1/messages \"HTTP/1.1 200 OK\"\n",
      "2024-09-05 17:46:21 src.functional INFO     ['Cleopatra', 'Volkswagen Beetle'] <> none | predicted:  none - there is no connection between Cleopatra and Volkswagen Beetle.\n",
      " => (✗)\n"
     ]
    },
    {
     "name": "stderr",
     "output_type": "stream",
     "text": [
      "  7%|▋         | 25/352 [02:51<37:45,  6.93s/it]"
     ]
    },
    {
     "name": "stdout",
     "output_type": "stream",
     "text": [
      "2024-09-05 17:46:29 httpx INFO     HTTP Request: POST https://api.anthropic.com/v1/messages \"HTTP/1.1 200 OK\"\n",
      "2024-09-05 17:46:29 src.functional INFO     ['John Lennon', 'Angkor Wat'] <> none | predicted:  none - there is no connection between John Lennon and Angkor Wat.\n",
      " => (✗)\n"
     ]
    },
    {
     "name": "stderr",
     "output_type": "stream",
     "text": [
      "  7%|▋         | 26/352 [02:59<39:04,  7.19s/it]"
     ]
    },
    {
     "name": "stdout",
     "output_type": "stream",
     "text": [
      "2024-09-05 17:46:36 httpx INFO     HTTP Request: POST https://api.anthropic.com/v1/messages \"HTTP/1.1 200 OK\"\n",
      "2024-09-05 17:46:36 src.functional INFO     ['Reese Witherspoon', 'June Carter Cash'] <> Walk the Line | predicted:  Walk the Line - a movie where Reese Witherspoon played the role of June Carter Cash.\n",
      " => (✓)\n"
     ]
    },
    {
     "name": "stderr",
     "output_type": "stream",
     "text": [
      "  8%|▊         | 27/352 [03:06<38:32,  7.12s/it]"
     ]
    },
    {
     "name": "stdout",
     "output_type": "stream",
     "text": [
      "2024-09-05 17:46:44 httpx INFO     HTTP Request: POST https://api.anthropic.com/v1/messages \"HTTP/1.1 200 OK\"\n",
      "2024-09-05 17:46:44 src.functional INFO     ['Leonardo da Vinci', 'Great Barrier Reef'] <> none | predicted:  none - there is no connection between Leonardo da Vinci and Great Barrier Reef.\n",
      " => (✗)\n"
     ]
    },
    {
     "name": "stderr",
     "output_type": "stream",
     "text": [
      "  8%|▊         | 28/352 [03:14<40:10,  7.44s/it]"
     ]
    },
    {
     "name": "stdout",
     "output_type": "stream",
     "text": [
      "2024-09-05 17:46:51 httpx INFO     HTTP Request: POST https://api.anthropic.com/v1/messages \"HTTP/1.1 200 OK\"\n",
      "2024-09-05 17:46:51 src.functional INFO     ['Richie McCaw', \"Brian O'Driscoll\"] <> rugby | predicted:  rugby - a sport where both Richie McCaw and Brian O'Driscoll are known for.\n",
      " => (✓)\n"
     ]
    },
    {
     "name": "stderr",
     "output_type": "stream",
     "text": [
      "  8%|▊         | 29/352 [03:20<38:42,  7.19s/it]"
     ]
    },
    {
     "name": "stdout",
     "output_type": "stream",
     "text": [
      "2024-09-05 17:46:55 httpx INFO     HTTP Request: POST https://api.anthropic.com/v1/messages \"HTTP/1.1 200 OK\"\n",
      "2024-09-05 17:46:55 src.functional INFO     ['Jonah Lomu', 'Dan Carter'] <> rugby | predicted:  rugby - a sport where both Jonah Lomu and Dan Carter played.\n",
      " => (✓)\n"
     ]
    },
    {
     "name": "stderr",
     "output_type": "stream",
     "text": [
      "  9%|▊         | 30/352 [03:25<34:55,  6.51s/it]"
     ]
    },
    {
     "name": "stdout",
     "output_type": "stream",
     "text": [
      "2024-09-05 17:47:03 httpx INFO     HTTP Request: POST https://api.anthropic.com/v1/messages \"HTTP/1.1 200 OK\"\n",
      "2024-09-05 17:47:03 src.functional INFO     ['Aquaman', 'Beast'] <> animal communication | predicted:  X-Men - a comic book series where both Aquaman and Beast have appeared.\n",
      " => (✗)\n"
     ]
    },
    {
     "name": "stderr",
     "output_type": "stream",
     "text": [
      "  9%|▉         | 31/352 [03:33<36:52,  6.89s/it]"
     ]
    },
    {
     "name": "stdout",
     "output_type": "stream",
     "text": [
      "2024-09-05 17:47:10 httpx INFO     HTTP Request: POST https://api.anthropic.com/v1/messages \"HTTP/1.1 200 OK\"\n",
      "2024-09-05 17:47:10 src.functional INFO     ['Sachin Tendulkar', 'Brian Lara'] <> cricket | predicted:  cricket - a sport where both Sachin Tendulkar and Brian Lara are known for.\n",
      " => (✓)\n"
     ]
    },
    {
     "name": "stderr",
     "output_type": "stream",
     "text": [
      "  9%|▉         | 32/352 [03:39<35:47,  6.71s/it]"
     ]
    },
    {
     "name": "stdout",
     "output_type": "stream",
     "text": [
      "2024-09-05 17:47:15 httpx INFO     HTTP Request: POST https://api.anthropic.com/v1/messages \"HTTP/1.1 200 OK\"\n",
      "2024-09-05 17:47:15 src.functional INFO     ['Kelly Slater', 'Andy Irons'] <> surfing | predicted:  surfing - a sport where both Kelly Slater and Andy Irons are professional competitors.\n",
      " => (✓)\n"
     ]
    },
    {
     "name": "stderr",
     "output_type": "stream",
     "text": [
      "  9%|▉         | 33/352 [03:45<33:45,  6.35s/it]"
     ]
    },
    {
     "name": "stdout",
     "output_type": "stream",
     "text": [
      "2024-09-05 17:47:21 httpx INFO     HTTP Request: POST https://api.anthropic.com/v1/messages \"HTTP/1.1 200 OK\"\n",
      "2024-09-05 17:47:21 src.functional INFO     ['Jesse Eisenberg', 'Mark Zuckerberg'] <> The Social Network | predicted:  The Social Network - a movie where Jesse Eisenberg played the role of Mark Zuckerberg.\n",
      " => (✓)\n"
     ]
    },
    {
     "name": "stderr",
     "output_type": "stream",
     "text": [
      " 10%|▉         | 34/352 [03:51<33:10,  6.26s/it]"
     ]
    },
    {
     "name": "stdout",
     "output_type": "stream",
     "text": [
      "2024-09-05 17:47:28 httpx INFO     HTTP Request: POST https://api.anthropic.com/v1/messages \"HTTP/1.1 200 OK\"\n",
      "2024-09-05 17:47:28 src.functional INFO     ['Shane Warne', 'Muttiah Muralitharan'] <> cricket | predicted:  cricket - a sport where both Shane Warne and Muttiah Muralitharan are known for.\n",
      " => (✓)\n"
     ]
    },
    {
     "name": "stderr",
     "output_type": "stream",
     "text": [
      " 10%|▉         | 35/352 [03:58<34:33,  6.54s/it]"
     ]
    },
    {
     "name": "stdout",
     "output_type": "stream",
     "text": [
      "2024-09-05 17:47:35 httpx INFO     HTTP Request: POST https://api.anthropic.com/v1/messages \"HTTP/1.1 200 OK\"\n",
      "2024-09-05 17:47:35 src.functional INFO     ['Hulk Hogan', 'The Rock'] <> wrestling | predicted:  professional wrestling - a sport where both Hulk Hogan and The Rock have been involved.\n",
      " => (✓)\n"
     ]
    },
    {
     "name": "stderr",
     "output_type": "stream",
     "text": [
      " 10%|█         | 36/352 [04:05<35:14,  6.69s/it]"
     ]
    },
    {
     "name": "stdout",
     "output_type": "stream",
     "text": [
      "2024-09-05 17:47:44 httpx INFO     HTTP Request: POST https://api.anthropic.com/v1/messages \"HTTP/1.1 200 OK\"\n",
      "2024-09-05 17:47:44 src.functional INFO     ['Frida Kahlo', 'Kangaroo'] <> none | predicted:  none - there is no connection between Frida Kahlo and Kangaroo.\n",
      " => (✗)\n"
     ]
    },
    {
     "name": "stderr",
     "output_type": "stream",
     "text": [
      " 11%|█         | 37/352 [04:14<38:54,  7.41s/it]"
     ]
    },
    {
     "name": "stdout",
     "output_type": "stream",
     "text": [
      "2024-09-05 17:47:51 httpx INFO     HTTP Request: POST https://api.anthropic.com/v1/messages \"HTTP/1.1 200 OK\"\n",
      "2024-09-05 17:47:51 src.functional INFO     ['David Oyelowo', 'Martin Luther King Jr.'] <> Selma | predicted:  Selma - a movie where David Oyelowo played the role of Martin Luther King Jr.\n",
      " => (✓)\n"
     ]
    },
    {
     "name": "stderr",
     "output_type": "stream",
     "text": [
      " 11%|█         | 38/352 [04:21<37:41,  7.20s/it]"
     ]
    },
    {
     "name": "stdout",
     "output_type": "stream",
     "text": [
      "2024-09-05 17:48:00 httpx INFO     HTTP Request: POST https://api.anthropic.com/v1/messages \"HTTP/1.1 200 OK\"\n",
      "2024-09-05 17:48:00 src.functional INFO     ['Daredevil', 'Toph Beifong'] <> blind | predicted:  martial arts - a skill that both characters Daredevil and Toph Beifong are known for.\n",
      " => (✗)\n"
     ]
    },
    {
     "name": "stderr",
     "output_type": "stream",
     "text": [
      " 11%|█         | 39/352 [04:30<40:20,  7.73s/it]"
     ]
    },
    {
     "name": "stdout",
     "output_type": "stream",
     "text": [
      "2024-09-05 17:48:09 httpx INFO     HTTP Request: POST https://api.anthropic.com/v1/messages \"HTTP/1.1 200 OK\"\n",
      "2024-09-05 17:48:09 src.functional INFO     ['Pyramids of Giza', 'Bob Marley'] <> none | predicted:  none - there is no connection between Pyramids of Giza and Bob Marley.\n",
      " => (✗)\n"
     ]
    },
    {
     "name": "stderr",
     "output_type": "stream",
     "text": [
      " 11%|█▏        | 40/352 [04:39<41:37,  8.01s/it]"
     ]
    },
    {
     "name": "stdout",
     "output_type": "stream",
     "text": [
      "2024-09-05 17:48:14 httpx INFO     HTTP Request: POST https://api.anthropic.com/v1/messages \"HTTP/1.1 200 OK\"\n",
      "2024-09-05 17:48:14 src.functional INFO     ['Silver Surfer', 'Captain Marvel'] <> cosmic awareness | predicted:  cosmic powers - an attribute that both characters Silver Surfer and Captain Marvel possess.\n",
      " => (✓)\n"
     ]
    },
    {
     "name": "stderr",
     "output_type": "stream",
     "text": [
      " 12%|█▏        | 41/352 [04:44<37:33,  7.25s/it]"
     ]
    },
    {
     "name": "stdout",
     "output_type": "stream",
     "text": [
      "2024-09-05 17:48:22 httpx INFO     HTTP Request: POST https://api.anthropic.com/v1/messages \"HTTP/1.1 200 OK\"\n",
      "2024-09-05 17:48:22 src.functional INFO     ['Mother Teresa', 'Grand Canyon'] <> none | predicted:  none - there is no connection between Mother Teresa and Grand Canyon.\n",
      " => (✗)\n"
     ]
    },
    {
     "name": "stderr",
     "output_type": "stream",
     "text": [
      " 12%|█▏        | 42/352 [04:52<39:04,  7.56s/it]"
     ]
    },
    {
     "name": "stdout",
     "output_type": "stream",
     "text": [
      "2024-09-05 17:48:31 httpx INFO     HTTP Request: POST https://api.anthropic.com/v1/messages \"HTTP/1.1 200 OK\"\n",
      "2024-09-05 17:48:31 src.functional INFO     ['Liam Neeson', 'Oskar Schindler'] <> Schindler's List | predicted:  Schindler's List - a movie where Liam Neeson played the role of Oskar Schindler.\n",
      " => (✓)\n"
     ]
    },
    {
     "name": "stderr",
     "output_type": "stream",
     "text": [
      " 12%|█▏        | 43/352 [05:01<40:33,  7.87s/it]"
     ]
    },
    {
     "name": "stdout",
     "output_type": "stream",
     "text": [
      "2024-09-05 17:48:38 httpx INFO     HTTP Request: POST https://api.anthropic.com/v1/messages \"HTTP/1.1 200 OK\"\n",
      "2024-09-05 17:48:38 src.functional INFO     ['Winston Churchill', 'Machu Picchu'] <> none | predicted:  none - there is no connection between Winston Churchill and Machu Picchu.\n",
      " => (✗)\n"
     ]
    },
    {
     "name": "stderr",
     "output_type": "stream",
     "text": [
      " 12%|█▎        | 44/352 [05:08<39:22,  7.67s/it]"
     ]
    },
    {
     "name": "stdout",
     "output_type": "stream",
     "text": [
      "2024-09-05 17:48:44 httpx INFO     HTTP Request: POST https://api.anthropic.com/v1/messages \"HTTP/1.1 200 OK\"\n",
      "2024-09-05 17:48:44 src.functional INFO     ['Frank Langella', 'Richard Nixon'] <> Frost/Nixon | predicted:  Nixon - a movie where Frank Langella played the role of Richard Nixon.\n",
      " => (✓)\n"
     ]
    },
    {
     "name": "stderr",
     "output_type": "stream",
     "text": [
      " 13%|█▎        | 45/352 [05:14<35:38,  6.97s/it]"
     ]
    },
    {
     "name": "stdout",
     "output_type": "stream",
     "text": [
      "2024-09-05 17:48:53 httpx INFO     HTTP Request: POST https://api.anthropic.com/v1/messages \"HTTP/1.1 200 OK\"\n",
      "2024-09-05 17:48:53 src.functional INFO     ['Graviton', 'Ochaco Uraraka'] <> gravity manipulation | predicted:  Quirk - a superpower that both Graviton and Ochaco Uraraka possess.\n",
      " => (✗)\n"
     ]
    },
    {
     "name": "stderr",
     "output_type": "stream",
     "text": [
      " 13%|█▎        | 46/352 [05:23<38:47,  7.61s/it]"
     ]
    },
    {
     "name": "stdout",
     "output_type": "stream",
     "text": [
      "2024-09-05 17:49:00 httpx INFO     HTTP Request: POST https://api.anthropic.com/v1/messages \"HTTP/1.1 200 OK\"\n",
      "2024-09-05 17:49:00 src.functional INFO     ['Villa Savoye', 'Notre Dame du Haut'] <> Le Corbusier | predicted:  Le Corbusier - who was the architect of both buildings Villa Savoye and Notre Dame du Haut.\n",
      " => (✓)\n"
     ]
    },
    {
     "name": "stderr",
     "output_type": "stream",
     "text": [
      " 13%|█▎        | 47/352 [05:30<37:53,  7.45s/it]"
     ]
    },
    {
     "name": "stdout",
     "output_type": "stream",
     "text": [
      "2024-09-05 17:49:07 httpx INFO     HTTP Request: POST https://api.anthropic.com/v1/messages \"HTTP/1.1 200 OK\"\n",
      "2024-09-05 17:49:07 src.functional INFO     ['Great Wall of China', 'Beyoncé'] <> none | predicted:  none - there is no connection between Great Wall of China and Beyoncé.\n",
      " => (✗)\n"
     ]
    },
    {
     "name": "stderr",
     "output_type": "stream",
     "text": [
      " 14%|█▎        | 48/352 [05:37<37:28,  7.40s/it]"
     ]
    },
    {
     "name": "stdout",
     "output_type": "stream",
     "text": [
      "2024-09-05 17:49:12 httpx INFO     HTTP Request: POST https://api.anthropic.com/v1/messages \"HTTP/1.1 200 OK\"\n",
      "2024-09-05 17:49:12 src.functional INFO     ['Superman', 'Supergirl'] <> kryptonian | predicted:  superpowers - an attribute that both characters Superman and Supergirl possess.\n",
      " => (✓)\n"
     ]
    },
    {
     "name": "stderr",
     "output_type": "stream",
     "text": [
      " 14%|█▍        | 49/352 [05:42<33:58,  6.73s/it]"
     ]
    },
    {
     "name": "stdout",
     "output_type": "stream",
     "text": [
      "2024-09-05 17:49:18 httpx INFO     HTTP Request: POST https://api.anthropic.com/v1/messages \"HTTP/1.1 200 OK\"\n",
      "2024-09-05 17:49:18 src.functional INFO     ['Ant-Man', 'Atom'] <> size-changing | predicted:  shrinking ability - a superpower that both Ant-Man and Atom possess.\n",
      " => (✓)\n"
     ]
    },
    {
     "name": "stderr",
     "output_type": "stream",
     "text": [
      " 14%|█▍        | 50/352 [05:48<32:29,  6.46s/it]"
     ]
    },
    {
     "name": "stdout",
     "output_type": "stream",
     "text": [
      "2024-09-05 17:49:24 httpx INFO     HTTP Request: POST https://api.anthropic.com/v1/messages \"HTTP/1.1 200 OK\"\n",
      "2024-09-05 17:49:24 src.functional INFO     ['Pelé', 'Diego Maradona'] <> soccer | predicted:  soccer - a sport where both Pelé and Diego Maradona are known for.\n",
      " => (✓)\n"
     ]
    },
    {
     "name": "stderr",
     "output_type": "stream",
     "text": [
      " 14%|█▍        | 51/352 [05:54<31:47,  6.34s/it]"
     ]
    },
    {
     "name": "stdout",
     "output_type": "stream",
     "text": [
      "2024-09-05 17:49:32 httpx INFO     HTTP Request: POST https://api.anthropic.com/v1/messages \"HTTP/1.1 200 OK\"\n",
      "2024-09-05 17:49:32 src.functional INFO     [\"Unité d'Habitation\", 'Notre Dame du Haut'] <> Le Corbusier | predicted:  Le Corbusier - who was the architect of both buildings Unité d'Habitation and Notre Dame du Haut.\n",
      " => (✓)\n"
     ]
    },
    {
     "name": "stderr",
     "output_type": "stream",
     "text": [
      " 15%|█▍        | 52/352 [06:02<33:29,  6.70s/it]"
     ]
    },
    {
     "name": "stdout",
     "output_type": "stream",
     "text": [
      "2024-09-05 17:49:36 src.functional INFO     ['Mother Teresa', 'Grand Canyon'] <> none | predicted:  none - there is no connection between Mother Teresa and Grand Canyon.\n",
      " => (✗)\n"
     ]
    },
    {
     "name": "stderr",
     "output_type": "stream",
     "text": [
      " 15%|█▌        | 53/352 [06:06<29:15,  5.87s/it]"
     ]
    },
    {
     "name": "stdout",
     "output_type": "stream",
     "text": [
      "2024-09-05 17:49:41 httpx INFO     HTTP Request: POST https://api.anthropic.com/v1/messages \"HTTP/1.1 200 OK\"\n",
      "2024-09-05 17:49:41 src.functional INFO     ['Mystique', 'Beast Boy'] <> shapeshifter | predicted:  shape-shifting - a power that both characters Mystique and Beast Boy possess.\n",
      " => (✓)\n"
     ]
    },
    {
     "name": "stderr",
     "output_type": "stream",
     "text": [
      " 15%|█▌        | 54/352 [06:11<28:30,  5.74s/it]"
     ]
    },
    {
     "name": "stdout",
     "output_type": "stream",
     "text": [
      "2024-09-05 17:49:48 httpx INFO     HTTP Request: POST https://api.anthropic.com/v1/messages \"HTTP/1.1 200 OK\"\n",
      "2024-09-05 17:49:48 src.functional INFO     ['Burj Khalifa', 'One World Trade Center'] <> SOM (Skidmore Owings & Merrill) | predicted:  height - both Burj Khalifa and One World Trade Center are among the tallest buildings in the world.\n",
      " => (✓)\n"
     ]
    },
    {
     "name": "stderr",
     "output_type": "stream",
     "text": [
      " 16%|█▌        | 55/352 [06:18<30:53,  6.24s/it]"
     ]
    },
    {
     "name": "stdout",
     "output_type": "stream",
     "text": [
      "2024-09-05 17:49:52 httpx INFO     HTTP Request: POST https://api.anthropic.com/v1/messages \"HTTP/1.1 200 OK\"\n",
      "2024-09-05 17:49:52 src.functional INFO     ['Jewish Museum Berlin', 'Royal Ontario Museum'] <> Daniel Libeskind | predicted:  architecture - both buildings have unique architectural designs.\n",
      " => (✓)\n"
     ]
    },
    {
     "name": "stderr",
     "output_type": "stream",
     "text": [
      " 16%|█▌        | 56/352 [06:22<27:02,  5.48s/it]"
     ]
    },
    {
     "name": "stdout",
     "output_type": "stream",
     "text": [
      "2024-09-05 17:49:58 httpx INFO     HTTP Request: POST https://api.anthropic.com/v1/messages \"HTTP/1.1 200 OK\"\n",
      "2024-09-05 17:49:58 src.functional INFO     ['Green Arrow', 'Hawkeye'] <> archer | predicted:  archery - a skill that both characters Green Arrow and Hawkeye are known for.\n",
      " => (✓)\n"
     ]
    },
    {
     "name": "stderr",
     "output_type": "stream",
     "text": [
      " 16%|█▌        | 57/352 [06:28<27:44,  5.64s/it]"
     ]
    },
    {
     "name": "stdout",
     "output_type": "stream",
     "text": [
      "2024-09-05 17:50:06 httpx INFO     HTTP Request: POST https://api.anthropic.com/v1/messages \"HTTP/1.1 200 OK\"\n",
      "2024-09-05 17:50:06 src.functional INFO     ['Elvis Presley', 'Taj Mahal'] <> none | predicted:  none - there is no connection between Elvis Presley and Taj Mahal.\n",
      " => (✗)\n"
     ]
    },
    {
     "name": "stderr",
     "output_type": "stream",
     "text": [
      " 16%|█▋        | 58/352 [06:36<30:46,  6.28s/it]"
     ]
    },
    {
     "name": "stdout",
     "output_type": "stream",
     "text": [
      "2024-09-05 17:50:13 httpx INFO     HTTP Request: POST https://api.anthropic.com/v1/messages \"HTTP/1.1 200 OK\"\n",
      "2024-09-05 17:50:13 src.functional INFO     ['Joaquin Phoenix', 'Johnny Cash'] <> Walk the Line | predicted:  Walk the Line - a movie where Joaquin Phoenix played the role of Johnny Cash.\n",
      " => (✓)\n"
     ]
    },
    {
     "name": "stderr",
     "output_type": "stream",
     "text": [
      " 17%|█▋        | 59/352 [06:43<31:50,  6.52s/it]"
     ]
    },
    {
     "name": "stdout",
     "output_type": "stream",
     "text": [
      "2024-09-05 17:50:20 httpx INFO     HTTP Request: POST https://api.anthropic.com/v1/messages \"HTTP/1.1 200 OK\"\n",
      "2024-09-05 17:50:20 src.functional INFO     ['Val Kilmer', 'Jim Morrison'] <> The Doors | predicted:  Jim Morrison - Val Kilmer played the role of Jim Morrison in the movie \"The Doors\".\n",
      " => (✓)\n"
     ]
    },
    {
     "name": "stderr",
     "output_type": "stream",
     "text": [
      " 17%|█▋        | 60/352 [06:50<32:19,  6.64s/it]"
     ]
    },
    {
     "name": "stdout",
     "output_type": "stream",
     "text": [
      "2024-09-05 17:50:25 httpx INFO     HTTP Request: POST https://api.anthropic.com/v1/messages \"HTTP/1.1 200 OK\"\n",
      "2024-09-05 17:50:25 src.functional INFO     ['Will Smith', 'Muhammad Ali'] <> Ali | predicted:  Ali - a movie where Will Smith played the role of Muhammad Ali.\n",
      " => (✓)\n"
     ]
    },
    {
     "name": "stderr",
     "output_type": "stream",
     "text": [
      " 17%|█▋        | 61/352 [06:55<29:46,  6.14s/it]"
     ]
    },
    {
     "name": "stdout",
     "output_type": "stream",
     "text": [
      "2024-09-05 17:50:32 httpx INFO     HTTP Request: POST https://api.anthropic.com/v1/messages \"HTTP/1.1 200 OK\"\n",
      "2024-09-05 17:50:32 src.functional INFO     ['Simone Biles', 'Nadia Comaneci'] <> gymnastics | predicted:  gymnastics - a sport where both Simone Biles and Nadia Comaneci are known for.\n",
      " => (✓)\n"
     ]
    },
    {
     "name": "stderr",
     "output_type": "stream",
     "text": [
      " 18%|█▊        | 62/352 [07:02<31:01,  6.42s/it]"
     ]
    },
    {
     "name": "stdout",
     "output_type": "stream",
     "text": [
      "2024-09-05 17:50:39 httpx INFO     HTTP Request: POST https://api.anthropic.com/v1/messages \"HTTP/1.1 200 OK\"\n",
      "2024-09-05 17:50:39 src.functional INFO     ['Burj Khalifa', 'Jeddah Tower'] <> Adrian Smith | predicted:  height - both Burj Khalifa and Jeddah Tower are among the tallest buildings in the world.\n",
      " => (✓)\n"
     ]
    },
    {
     "name": "stderr",
     "output_type": "stream",
     "text": [
      " 18%|█▊        | 63/352 [07:09<31:38,  6.57s/it]"
     ]
    },
    {
     "name": "stdout",
     "output_type": "stream",
     "text": [
      "2024-09-05 17:50:46 httpx INFO     HTTP Request: POST https://api.anthropic.com/v1/messages \"HTTP/1.1 200 OK\"\n",
      "2024-09-05 17:50:46 src.functional INFO     ['Emile Hirsch', 'Christopher McCandless'] <> Into the Wild | predicted:  Into the Wild - a movie where Emile Hirsch played the role of Christopher McCandless.\n",
      " => (✓)\n"
     ]
    },
    {
     "name": "stderr",
     "output_type": "stream",
     "text": [
      " 18%|█▊        | 64/352 [07:16<31:51,  6.64s/it]"
     ]
    },
    {
     "name": "stdout",
     "output_type": "stream",
     "text": [
      "2024-09-05 17:50:52 httpx INFO     HTTP Request: POST https://api.anthropic.com/v1/messages \"HTTP/1.1 200 OK\"\n",
      "2024-09-05 17:50:52 src.functional INFO     ['Sugar Ray Leonard', 'Roberto Durán'] <> boxing | predicted:  boxing - a sport where both Sugar Ray Leonard and Roberto Durán were professional boxers.\n",
      " => (✓)\n"
     ]
    },
    {
     "name": "stderr",
     "output_type": "stream",
     "text": [
      " 18%|█▊        | 65/352 [07:22<31:05,  6.50s/it]"
     ]
    },
    {
     "name": "stdout",
     "output_type": "stream",
     "text": [
      "2024-09-05 17:50:56 src.functional INFO     ['Amelia Earhart', 'Haggis'] <> none | predicted:  none - there is no connection between Amelia Earhart and Haggis.\n",
      " => (✗)\n"
     ]
    },
    {
     "name": "stderr",
     "output_type": "stream",
     "text": [
      " 19%|█▉        | 66/352 [07:26<28:10,  5.91s/it]"
     ]
    },
    {
     "name": "stdout",
     "output_type": "stream",
     "text": [
      "2024-09-05 17:51:05 httpx INFO     HTTP Request: POST https://api.anthropic.com/v1/messages \"HTTP/1.1 200 OK\"\n",
      "2024-09-05 17:51:05 src.functional INFO     ['Ernest Hemingway', 'Bonsai'] <> none | predicted:  none - there is no connection between Ernest Hemingway and Bonsai.\n",
      " => (✗)\n"
     ]
    },
    {
     "name": "stderr",
     "output_type": "stream",
     "text": [
      " 19%|█▉        | 67/352 [07:35<32:16,  6.79s/it]"
     ]
    },
    {
     "name": "stdout",
     "output_type": "stream",
     "text": [
      "2024-09-05 17:51:11 src.functional INFO     ['Pablo Picasso', 'Koala'] <> none | predicted:  none - there is no connection between Pablo Picasso and Koala.\n",
      " => (✗)\n"
     ]
    },
    {
     "name": "stderr",
     "output_type": "stream",
     "text": [
      " 19%|█▉        | 68/352 [07:40<29:56,  6.33s/it]"
     ]
    },
    {
     "name": "stdout",
     "output_type": "stream",
     "text": [
      "2024-09-05 17:51:20 httpx INFO     HTTP Request: POST https://api.anthropic.com/v1/messages \"HTTP/1.1 200 OK\"\n",
      "2024-09-05 17:51:20 src.functional INFO     ['The Gherkin', 'Apple Park'] <> Norman Foster | predicted:  Steve Jobs - who was the co-founder of Apple and had a connection to both The Gherkin and Apple Park.\n",
      " => (✗)\n"
     ]
    },
    {
     "name": "stderr",
     "output_type": "stream",
     "text": [
      " 20%|█▉        | 69/352 [07:50<34:13,  7.26s/it]"
     ]
    },
    {
     "name": "stdout",
     "output_type": "stream",
     "text": [
      "2024-09-05 17:51:29 httpx INFO     HTTP Request: POST https://api.anthropic.com/v1/messages \"HTTP/1.1 200 OK\"\n",
      "2024-09-05 17:51:29 src.functional INFO     ['Jane Austen', 'Great Wall of China'] <> none | predicted:  none - there is no connection between Jane Austen and Great Wall of China.\n",
      " => (✗)\n"
     ]
    },
    {
     "name": "stderr",
     "output_type": "stream",
     "text": [
      " 20%|█▉        | 70/352 [07:59<36:48,  7.83s/it]"
     ]
    },
    {
     "name": "stdout",
     "output_type": "stream",
     "text": [
      "2024-09-05 17:51:36 httpx INFO     HTTP Request: POST https://api.anthropic.com/v1/messages \"HTTP/1.1 200 OK\"\n",
      "2024-09-05 17:51:36 src.functional INFO     ['Isaac Newton', 'Taj Mahal'] <> none | predicted:  none - there is no connection between Isaac Newton and Taj Mahal.\n",
      " => (✗)\n"
     ]
    },
    {
     "name": "stderr",
     "output_type": "stream",
     "text": [
      " 20%|██        | 71/352 [08:06<35:26,  7.57s/it]"
     ]
    },
    {
     "name": "stdout",
     "output_type": "stream",
     "text": [
      "2024-09-05 17:51:42 httpx INFO     HTTP Request: POST https://api.anthropic.com/v1/messages \"HTTP/1.1 200 OK\"\n",
      "2024-09-05 17:51:42 src.functional INFO     ['Professor X', 'Martian Manhunter'] <> psychic | predicted:  telepathy - a superpower that both characters Professor X and Martian Manhunter possess.\n",
      " => (✓)\n"
     ]
    },
    {
     "name": "stderr",
     "output_type": "stream",
     "text": [
      " 20%|██        | 72/352 [08:12<33:19,  7.14s/it]"
     ]
    },
    {
     "name": "stdout",
     "output_type": "stream",
     "text": [
      "2024-09-05 17:51:48 httpx INFO     HTTP Request: POST https://api.anthropic.com/v1/messages \"HTTP/1.1 200 OK\"\n",
      "2024-09-05 17:51:48 src.functional INFO     ['Michael Phelps', 'Ryan Lochte'] <> swimming | predicted:  swimming - a sport where both Michael Phelps and Ryan Lochte are known for.\n",
      " => (✓)\n"
     ]
    },
    {
     "name": "stderr",
     "output_type": "stream",
     "text": [
      " 21%|██        | 73/352 [08:18<31:19,  6.74s/it]"
     ]
    },
    {
     "name": "stdout",
     "output_type": "stream",
     "text": [
      "2024-09-05 17:51:54 httpx INFO     HTTP Request: POST https://api.anthropic.com/v1/messages \"HTTP/1.1 200 OK\"\n",
      "2024-09-05 17:51:54 src.functional INFO     ['Christian Bale', 'Dicky Eklund'] <> The Fighter | predicted:  The Fighter - a movie where Christian Bale played the role of Dicky Eklund.\n",
      " => (✓)\n"
     ]
    },
    {
     "name": "stderr",
     "output_type": "stream",
     "text": [
      " 21%|██        | 74/352 [08:24<30:47,  6.65s/it]"
     ]
    },
    {
     "name": "stdout",
     "output_type": "stream",
     "text": [
      "2024-09-05 17:52:02 httpx INFO     HTTP Request: POST https://api.anthropic.com/v1/messages \"HTTP/1.1 200 OK\"\n",
      "2024-09-05 17:52:02 src.functional INFO     ['VIA 57 West', 'CopenHill'] <> Bjarke Ingels Group | predicted:  Bjarke Ingels - an architect who designed both buildings VIA 57 West and CopenHill.\n",
      " => (✓)\n"
     ]
    },
    {
     "name": "stderr",
     "output_type": "stream",
     "text": [
      " 21%|██▏       | 75/352 [08:31<31:15,  6.77s/it]"
     ]
    },
    {
     "name": "stdout",
     "output_type": "stream",
     "text": [
      "2024-09-05 17:52:08 httpx INFO     HTTP Request: POST https://api.anthropic.com/v1/messages \"HTTP/1.1 200 OK\"\n",
      "2024-09-05 17:52:08 src.functional INFO     ['Queen Elizabeth II', 'Sushi'] <> none | predicted:  none - there is no connection between Queen Elizabeth II and Sushi.\n",
      " => (✗)\n"
     ]
    },
    {
     "name": "stderr",
     "output_type": "stream",
     "text": [
      " 22%|██▏       | 76/352 [08:38<31:26,  6.83s/it]"
     ]
    },
    {
     "name": "stdout",
     "output_type": "stream",
     "text": [
      "2024-09-05 17:52:17 httpx INFO     HTTP Request: POST https://api.anthropic.com/v1/messages \"HTTP/1.1 200 OK\"\n",
      "2024-09-05 17:52:17 src.functional INFO     ['Scarlet Witch', 'Psylocke'] <> telekinesis | predicted:  telepathic powers - an attribute that both characters Scarlet Witch and Psylocke possess.\n",
      " => (✗)\n"
     ]
    },
    {
     "name": "stderr",
     "output_type": "stream",
     "text": [
      " 22%|██▏       | 77/352 [08:47<33:26,  7.30s/it]"
     ]
    },
    {
     "name": "stdout",
     "output_type": "stream",
     "text": [
      "2024-09-05 17:52:22 httpx INFO     HTTP Request: POST https://api.anthropic.com/v1/messages \"HTTP/1.1 200 OK\"\n",
      "2024-09-05 17:52:22 src.functional INFO     ['Silver Surfer', 'Green Lantern'] <> cosmic power | predicted:  cosmic powers - an attribute that both characters Silver Surfer and Green Lantern possess.\n",
      " => (✓)\n"
     ]
    },
    {
     "name": "stderr",
     "output_type": "stream",
     "text": [
      " 22%|██▏       | 78/352 [08:52<30:36,  6.70s/it]"
     ]
    },
    {
     "name": "stdout",
     "output_type": "stream",
     "text": [
      "2024-09-05 17:52:31 httpx INFO     HTTP Request: POST https://api.anthropic.com/v1/messages \"HTTP/1.1 200 OK\"\n",
      "2024-09-05 17:52:31 src.functional INFO     ['Purple Man', 'Lelouch vi Britannia'] <> mind control | predicted:  none - there is no connection between Purple Man and Lelouch vi Britannia.\n",
      " => (✗)\n"
     ]
    },
    {
     "name": "stderr",
     "output_type": "stream",
     "text": [
      " 22%|██▏       | 79/352 [09:01<33:51,  7.44s/it]"
     ]
    },
    {
     "name": "stdout",
     "output_type": "stream",
     "text": [
      "2024-09-05 17:52:41 httpx INFO     HTTP Request: POST https://api.anthropic.com/v1/messages \"HTTP/1.1 200 OK\"\n",
      "2024-09-05 17:52:41 src.functional INFO     ['Alfred Hitchcock', 'Galapagos Islands'] <> none | predicted:  The Birds - a movie directed by Alfred Hitchcock, which features a scene inspired by the Galapagos Islands.\n",
      " => (✗)\n"
     ]
    },
    {
     "name": "stderr",
     "output_type": "stream",
     "text": [
      " 23%|██▎       | 80/352 [09:11<36:38,  8.08s/it]"
     ]
    },
    {
     "name": "stdout",
     "output_type": "stream",
     "text": [
      "2024-09-05 17:52:48 httpx INFO     HTTP Request: POST https://api.anthropic.com/v1/messages \"HTTP/1.1 200 OK\"\n",
      "2024-09-05 17:52:48 src.functional INFO     ['Kerri Walsh Jennings', 'Misty May-Treanor'] <> volleyball | predicted:  beach volleyball - a sport where both Kerri Walsh Jennings and Misty May-Treanor are professional players.\n",
      " => (✓)\n"
     ]
    },
    {
     "name": "stderr",
     "output_type": "stream",
     "text": [
      " 23%|██▎       | 81/352 [09:18<35:37,  7.89s/it]"
     ]
    },
    {
     "name": "stdout",
     "output_type": "stream",
     "text": [
      "2024-09-05 17:52:55 httpx INFO     HTTP Request: POST https://api.anthropic.com/v1/messages \"HTTP/1.1 200 OK\"\n",
      "2024-09-05 17:52:55 src.functional INFO     ['Rogue', 'Kevin Levin'] <> energy absorption | predicted:  none - there is no connection between Rogue and Kevin Levin.\n",
      " => (✗)\n"
     ]
    },
    {
     "name": "stderr",
     "output_type": "stream",
     "text": [
      " 23%|██▎       | 82/352 [09:25<33:18,  7.40s/it]"
     ]
    },
    {
     "name": "stdout",
     "output_type": "stream",
     "text": [
      "2024-09-05 17:53:02 httpx INFO     HTTP Request: POST https://api.anthropic.com/v1/messages \"HTTP/1.1 200 OK\"\n",
      "2024-09-05 17:53:02 src.functional INFO     ['Steve Jobs', 'Tango'] <> none | predicted:  none - there is no connection between Steve Jobs and Tango.\n",
      " => (✗)\n"
     ]
    },
    {
     "name": "stderr",
     "output_type": "stream",
     "text": [
      " 24%|██▎       | 83/352 [09:32<33:10,  7.40s/it]"
     ]
    },
    {
     "name": "stdout",
     "output_type": "stream",
     "text": [
      "2024-09-05 17:53:10 httpx INFO     HTTP Request: POST https://api.anthropic.com/v1/messages \"HTTP/1.1 200 OK\"\n",
      "2024-09-05 17:53:10 src.functional INFO     ['Louvre Pyramid', 'Bank of China Tower'] <> I. M. Pei | predicted:  I.M. Pei - an architect who designed both buildings Louvre Pyramid and Bank of China Tower.\n",
      " => (✓)\n"
     ]
    },
    {
     "name": "stderr",
     "output_type": "stream",
     "text": [
      " 24%|██▍       | 84/352 [09:39<33:11,  7.43s/it]"
     ]
    },
    {
     "name": "stdout",
     "output_type": "stream",
     "text": [
      "2024-09-05 17:53:17 httpx INFO     HTTP Request: POST https://api.anthropic.com/v1/messages \"HTTP/1.1 200 OK\"\n",
      "2024-09-05 17:53:17 src.functional INFO     ['Walt Disney Concert Hall', 'Guggenheim Museum Bilbao'] <> Frank Gehry | predicted:  Frank Gehry - who was the architect of both buildings Walt Disney Concert Hall and Guggenheim Museum Bilbao.\n",
      " => (✓)\n"
     ]
    },
    {
     "name": "stderr",
     "output_type": "stream",
     "text": [
      " 24%|██▍       | 85/352 [09:47<33:05,  7.44s/it]"
     ]
    },
    {
     "name": "stdout",
     "output_type": "stream",
     "text": [
      "2024-09-05 17:53:24 httpx INFO     HTTP Request: POST https://api.anthropic.com/v1/messages \"HTTP/1.1 200 OK\"\n",
      "2024-09-05 17:53:24 src.functional INFO     ['Tom Hulce', 'Wolfgang Amadeus Mozart'] <> Amadeus | predicted:  Amadeus - a movie where Tom Hulce played the role of Wolfgang Amadeus Mozart.\n",
      " => (✓)\n"
     ]
    },
    {
     "name": "stderr",
     "output_type": "stream",
     "text": [
      " 24%|██▍       | 86/352 [09:54<32:03,  7.23s/it]"
     ]
    },
    {
     "name": "stdout",
     "output_type": "stream",
     "text": [
      "2024-09-05 17:53:32 httpx INFO     HTTP Request: POST https://api.anthropic.com/v1/messages \"HTTP/1.1 200 OK\"\n",
      "2024-09-05 17:53:32 src.functional INFO     ['Virginia Woolf', 'Ayers Rock'] <> none | predicted:  none - there is no connection between Virginia Woolf and Ayers Rock.\n",
      " => (✗)\n"
     ]
    },
    {
     "name": "stderr",
     "output_type": "stream",
     "text": [
      " 25%|██▍       | 87/352 [10:02<33:55,  7.68s/it]"
     ]
    },
    {
     "name": "stdout",
     "output_type": "stream",
     "text": [
      "2024-09-05 17:53:40 httpx INFO     HTTP Request: POST https://api.anthropic.com/v1/messages \"HTTP/1.1 200 OK\"\n",
      "2024-09-05 17:53:40 src.functional INFO     ['Albert Einstein', 'Machu Picchu'] <> none | predicted:  none - there is no connection between Albert Einstein and Machu Picchu.\n",
      " => (✗)\n"
     ]
    },
    {
     "name": "stderr",
     "output_type": "stream",
     "text": [
      " 25%|██▌       | 88/352 [10:09<33:05,  7.52s/it]"
     ]
    },
    {
     "name": "stdout",
     "output_type": "stream",
     "text": [
      "2024-09-05 17:53:46 httpx INFO     HTTP Request: POST https://api.anthropic.com/v1/messages \"HTTP/1.1 200 OK\"\n",
      "2024-09-05 17:53:46 src.functional INFO     ['James Franco', 'Aron Ralston'] <> 127 Hours | predicted:  127 Hours - a movie where James Franco played the role of Aron Ralston.\n",
      " => (✓)\n"
     ]
    },
    {
     "name": "stderr",
     "output_type": "stream",
     "text": [
      " 25%|██▌       | 89/352 [10:16<31:25,  7.17s/it]"
     ]
    },
    {
     "name": "stdout",
     "output_type": "stream",
     "text": [
      "2024-09-05 17:53:52 src.functional INFO     ['Queen Elizabeth II', 'Sushi'] <> none | predicted:  none - there is no connection between Queen Elizabeth II and Sushi.\n",
      " => (✗)\n"
     ]
    },
    {
     "name": "stderr",
     "output_type": "stream",
     "text": [
      " 26%|██▌       | 90/352 [10:22<29:42,  6.80s/it]"
     ]
    },
    {
     "name": "stdout",
     "output_type": "stream",
     "text": [
      "2024-09-05 17:54:00 httpx INFO     HTTP Request: POST https://api.anthropic.com/v1/messages \"HTTP/1.1 200 OK\"\n",
      "2024-09-05 17:54:00 src.functional INFO     ['Domino', 'Nagito Komaeda'] <> luck manipulation | predicted:  Danganronpa - a video game series where both Domino and Nagito Komaeda are characters.\n",
      " => (✗)\n"
     ]
    },
    {
     "name": "stderr",
     "output_type": "stream",
     "text": [
      " 26%|██▌       | 91/352 [10:30<31:25,  7.22s/it]"
     ]
    },
    {
     "name": "stdout",
     "output_type": "stream",
     "text": [
      "2024-09-05 17:54:07 src.functional INFO     ['Alfred Hitchcock', 'Galapagos Islands'] <> none | predicted:  The Birds - a movie directed by Alfred Hitchcock, which features a scene inspired by the Galapagos Islands.\n",
      " => (✗)\n"
     ]
    },
    {
     "name": "stderr",
     "output_type": "stream",
     "text": [
      " 26%|██▌       | 92/352 [10:37<30:42,  7.09s/it]"
     ]
    },
    {
     "name": "stdout",
     "output_type": "stream",
     "text": [
      "2024-09-05 17:54:16 httpx INFO     HTTP Request: POST https://api.anthropic.com/v1/messages \"HTTP/1.1 200 OK\"\n",
      "2024-09-05 17:54:16 src.functional INFO     ['Jennifer Lopez', 'Selena Quintanilla-Pérez'] <> Selena | predicted:  Selena - a song by Jennifer Lopez that was inspired by Selena Quintanilla-Pérez.\n",
      " => (✗)\n"
     ]
    },
    {
     "name": "stderr",
     "output_type": "stream",
     "text": [
      " 26%|██▋       | 93/352 [10:46<33:27,  7.75s/it]"
     ]
    },
    {
     "name": "stdout",
     "output_type": "stream",
     "text": [
      "2024-09-05 17:54:22 httpx INFO     HTTP Request: POST https://api.anthropic.com/v1/messages \"HTTP/1.1 200 OK\"\n",
      "2024-09-05 17:54:22 src.functional INFO     ['Taron Egerton', 'Elton John'] <> Rocketman | predicted:  Rocketman - a movie where Taron Egerton played the role of Elton John.\n",
      " => (✓)\n"
     ]
    },
    {
     "name": "stderr",
     "output_type": "stream",
     "text": [
      " 27%|██▋       | 94/352 [10:52<31:03,  7.22s/it]"
     ]
    },
    {
     "name": "stdout",
     "output_type": "stream",
     "text": [
      "2024-09-05 17:54:30 httpx INFO     HTTP Request: POST https://api.anthropic.com/v1/messages \"HTTP/1.1 200 OK\"\n",
      "2024-09-05 17:54:30 src.functional INFO     ['Statue of Liberty', 'Lionel Messi'] <> none | predicted:  none - there is no connection between Statue of Liberty and Lionel Messi.\n",
      " => (✗)\n"
     ]
    },
    {
     "name": "stderr",
     "output_type": "stream",
     "text": [
      " 27%|██▋       | 95/352 [11:00<31:59,  7.47s/it]"
     ]
    },
    {
     "name": "stdout",
     "output_type": "stream",
     "text": [
      "2024-09-05 17:54:37 httpx INFO     HTTP Request: POST https://api.anthropic.com/v1/messages \"HTTP/1.1 200 OK\"\n",
      "2024-09-05 17:54:37 src.functional INFO     ['Rogue', 'Parasite'] <> energy vampire | predicted:  X-Men - a comic book series where both Rogue and Parasite are characters.\n",
      " => (✗)\n"
     ]
    },
    {
     "name": "stderr",
     "output_type": "stream",
     "text": [
      " 27%|██▋       | 96/352 [11:07<31:09,  7.30s/it]"
     ]
    },
    {
     "name": "stdout",
     "output_type": "stream",
     "text": [
      "2024-09-05 17:54:45 httpx INFO     HTTP Request: POST https://api.anthropic.com/v1/messages \"HTTP/1.1 200 OK\"\n",
      "2024-09-05 17:54:45 src.functional INFO     ['Wolverine', 'Kiba Inuzuka'] <> super smell | predicted:  healing factor - a superpower that both characters Wolverine and Kiba Inuzuka possess.\n",
      " => (✗)\n"
     ]
    },
    {
     "name": "stderr",
     "output_type": "stream",
     "text": [
      " 28%|██▊       | 97/352 [11:15<31:54,  7.51s/it]"
     ]
    },
    {
     "name": "stdout",
     "output_type": "stream",
     "text": [
      "2024-09-05 17:54:51 httpx INFO     HTTP Request: POST https://api.anthropic.com/v1/messages \"HTTP/1.1 200 OK\"\n",
      "2024-09-05 17:54:51 src.functional INFO     ['Captain America', 'Deathstroke'] <> super soldier | predicted:  comic books - both characters Captain America and Deathstroke originated from comic books.\n",
      " => (✓)\n"
     ]
    },
    {
     "name": "stderr",
     "output_type": "stream",
     "text": [
      " 28%|██▊       | 98/352 [11:21<29:40,  7.01s/it]"
     ]
    },
    {
     "name": "stdout",
     "output_type": "stream",
     "text": [
      "2024-09-05 17:54:57 httpx INFO     HTTP Request: POST https://api.anthropic.com/v1/messages \"HTTP/1.1 200 OK\"\n",
      "2024-09-05 17:54:57 src.functional INFO     ['Garry Kasparov', 'Magnus Carlsen'] <> chess | predicted:  chess - a game where both Garry Kasparov and Magnus Carlsen are known for.\n",
      " => (✓)\n"
     ]
    },
    {
     "name": "stderr",
     "output_type": "stream",
     "text": [
      " 28%|██▊       | 99/352 [11:27<28:31,  6.77s/it]"
     ]
    },
    {
     "name": "stdout",
     "output_type": "stream",
     "text": [
      "2024-09-05 17:55:01 src.functional INFO     ['Isaac Newton', 'Taj Mahal'] <> none | predicted:  none - there is no connection between Isaac Newton and Taj Mahal.\n",
      " => (✗)\n"
     ]
    },
    {
     "name": "stderr",
     "output_type": "stream",
     "text": [
      " 28%|██▊       | 100/352 [11:31<25:08,  5.98s/it]"
     ]
    },
    {
     "name": "stdout",
     "output_type": "stream",
     "text": [
      "2024-09-05 17:55:09 httpx INFO     HTTP Request: POST https://api.anthropic.com/v1/messages \"HTTP/1.1 200 OK\"\n",
      "2024-09-05 17:55:09 src.functional INFO     ['Charlie Chaplin', 'Niagara Falls'] <> none | predicted:  City Lights - a movie where Charlie Chaplin filmed a scene at Niagara Falls.\n",
      " => (✗)\n"
     ]
    },
    {
     "name": "stderr",
     "output_type": "stream",
     "text": [
      " 29%|██▊       | 101/352 [11:39<27:29,  6.57s/it]"
     ]
    },
    {
     "name": "stdout",
     "output_type": "stream",
     "text": [
      "2024-09-05 17:55:14 httpx INFO     HTTP Request: POST https://api.anthropic.com/v1/messages \"HTTP/1.1 200 OK\"\n",
      "2024-09-05 17:55:14 src.functional INFO     ['Superman', 'Homelander'] <> super strength | predicted:  superhero - a character type that both Superman and Homelander belong to.\n",
      " => (✓)\n"
     ]
    },
    {
     "name": "stderr",
     "output_type": "stream",
     "text": [
      " 29%|██▉       | 102/352 [11:44<25:19,  6.08s/it]"
     ]
    },
    {
     "name": "stdout",
     "output_type": "stream",
     "text": [
      "2024-09-05 17:55:19 src.functional INFO     ['Ernest Hemingway', 'Bonsai'] <> none | predicted:  none - there is no connection between Ernest Hemingway and Bonsai.\n",
      " => (✗)\n"
     ]
    },
    {
     "name": "stderr",
     "output_type": "stream",
     "text": [
      " 29%|██▉       | 103/352 [11:49<23:35,  5.69s/it]"
     ]
    },
    {
     "name": "stdout",
     "output_type": "stream",
     "text": [
      "2024-09-05 17:55:29 httpx INFO     HTTP Request: POST https://api.anthropic.com/v1/messages \"HTTP/1.1 200 OK\"\n",
      "2024-09-05 17:55:29 src.functional INFO     ['Sidney Crosby', 'Alexander Ovechkin'] <> ice hockey | predicted:  National Hockey League (NHL) - a professional ice hockey league where both Sidney Crosby and Alexander Ovechkin play.\n",
      " => (✓)\n"
     ]
    },
    {
     "name": "stderr",
     "output_type": "stream",
     "text": [
      " 30%|██▉       | 104/352 [11:59<28:31,  6.90s/it]"
     ]
    },
    {
     "name": "stdout",
     "output_type": "stream",
     "text": [
      "2024-09-05 17:55:34 httpx INFO     HTTP Request: POST https://api.anthropic.com/v1/messages \"HTTP/1.1 200 OK\"\n",
      "2024-09-05 17:55:34 src.functional INFO     ['Jonah Lomu', 'Richie McCaw'] <> rugby | predicted:  rugby - a sport where both Jonah Lomu and Richie McCaw played.\n",
      " => (✓)\n"
     ]
    },
    {
     "name": "stderr",
     "output_type": "stream",
     "text": [
      " 30%|██▉       | 105/352 [12:04<26:13,  6.37s/it]"
     ]
    },
    {
     "name": "stdout",
     "output_type": "stream",
     "text": [
      "2024-09-05 17:55:45 httpx INFO     HTTP Request: POST https://api.anthropic.com/v1/messages \"HTTP/1.1 200 OK\"\n",
      "2024-09-05 17:55:45 src.functional INFO     ['Robert De Niro', 'Al Capone'] <> The Untouchables | predicted:  Raging Bull - a movie where Robert De Niro played the role of Jake LaMotta, a boxer who was inspired by Al Capone.\n",
      " => (✗)\n"
     ]
    },
    {
     "name": "stderr",
     "output_type": "stream",
     "text": [
      " 30%|███       | 106/352 [12:15<31:54,  7.78s/it]"
     ]
    },
    {
     "name": "stdout",
     "output_type": "stream",
     "text": [
      "2024-09-05 17:55:51 httpx INFO     HTTP Request: POST https://api.anthropic.com/v1/messages \"HTTP/1.1 200 OK\"\n",
      "2024-09-05 17:55:51 src.functional INFO     ['Gael García Bernal', 'Che Guevara'] <> The Motorcycle Diaries | predicted:  Motorcycle Diaries - a movie where Gael García Bernal played the role of Che Guevara.\n",
      " => (✓)\n"
     ]
    },
    {
     "name": "stderr",
     "output_type": "stream",
     "text": [
      " 30%|███       | 107/352 [12:21<30:08,  7.38s/it]"
     ]
    },
    {
     "name": "stdout",
     "output_type": "stream",
     "text": [
      "2024-09-05 17:55:58 httpx INFO     HTTP Request: POST https://api.anthropic.com/v1/messages \"HTTP/1.1 200 OK\"\n",
      "2024-09-05 17:55:58 src.functional INFO     ['Neil Armstrong', 'Samba'] <> none | predicted:  none - there is no connection between Neil Armstrong and Samba.\n",
      " => (✗)\n"
     ]
    },
    {
     "name": "stderr",
     "output_type": "stream",
     "text": [
      " 31%|███       | 108/352 [12:28<29:13,  7.19s/it]"
     ]
    },
    {
     "name": "stdout",
     "output_type": "stream",
     "text": [
      "2024-09-05 17:56:06 httpx INFO     HTTP Request: POST https://api.anthropic.com/v1/messages \"HTTP/1.1 200 OK\"\n",
      "2024-09-05 17:56:06 src.functional INFO     ['Kitty Pryde', 'Danny Phantom'] <> intangibility | predicted:  none - there is no connection between Kitty Pryde and Danny Phantom.\n",
      " => (✗)\n"
     ]
    },
    {
     "name": "stderr",
     "output_type": "stream",
     "text": [
      " 31%|███       | 109/352 [12:36<29:32,  7.29s/it]"
     ]
    },
    {
     "name": "stdout",
     "output_type": "stream",
     "text": [
      "2024-09-05 17:56:12 httpx INFO     HTTP Request: POST https://api.anthropic.com/v1/messages \"HTTP/1.1 200 OK\"\n",
      "2024-09-05 17:56:12 src.functional INFO     ['Ryan Lochte', 'Caeleb Dressel'] <> swimming | predicted:  swimming - a sport where both Ryan Lochte and Caeleb Dressel are known for.\n",
      " => (✓)\n"
     ]
    },
    {
     "name": "stderr",
     "output_type": "stream",
     "text": [
      " 31%|███▏      | 110/352 [12:42<28:32,  7.08s/it]"
     ]
    },
    {
     "name": "stdout",
     "output_type": "stream",
     "text": [
      "2024-09-05 17:56:17 httpx INFO     HTTP Request: POST https://api.anthropic.com/v1/messages \"HTTP/1.1 200 OK\"\n",
      "2024-09-05 17:56:17 src.functional INFO     ['Batman', 'Ironman'] <> billionaire | predicted:  superhero - a genre where both Batman and Ironman are characters.\n",
      " => (✓)\n"
     ]
    },
    {
     "name": "stderr",
     "output_type": "stream",
     "text": [
      " 32%|███▏      | 111/352 [12:46<25:11,  6.27s/it]"
     ]
    },
    {
     "name": "stdout",
     "output_type": "stream",
     "text": [
      "2024-09-05 17:56:24 httpx INFO     HTTP Request: POST https://api.anthropic.com/v1/messages \"HTTP/1.1 200 OK\"\n",
      "2024-09-05 17:56:24 src.functional INFO     ['Black Canary', 'Black Bolt'] <> sonic scream | predicted:  black color - a common attribute that both characters Black Canary and Black Bolt share.\n",
      " => (✗)\n"
     ]
    },
    {
     "name": "stderr",
     "output_type": "stream",
     "text": [
      " 32%|███▏      | 112/352 [12:54<26:13,  6.56s/it]"
     ]
    },
    {
     "name": "stdout",
     "output_type": "stream",
     "text": [
      "2024-09-05 17:56:29 httpx INFO     HTTP Request: POST https://api.anthropic.com/v1/messages \"HTTP/1.1 200 OK\"\n",
      "2024-09-05 17:56:29 src.functional INFO     ['Kobe Bryant', 'Magic Johnson'] <> basketball | predicted:  Los Angeles Lakers - a basketball team where both Kobe Bryant and Magic Johnson played.\n",
      " => (✓)\n"
     ]
    },
    {
     "name": "stderr",
     "output_type": "stream",
     "text": [
      " 32%|███▏      | 113/352 [12:59<24:28,  6.15s/it]"
     ]
    },
    {
     "name": "stdout",
     "output_type": "stream",
     "text": [
      "2024-09-05 17:56:35 httpx INFO     HTTP Request: POST https://api.anthropic.com/v1/messages \"HTTP/1.1 200 OK\"\n",
      "2024-09-05 17:56:35 src.functional INFO     ['Jaromír Jágr', 'Patrick Roy'] <> ice hockey | predicted:  NHL - a professional ice hockey league where both Jaromír Jágr and Patrick Roy played.\n",
      " => (✓)\n"
     ]
    },
    {
     "name": "stderr",
     "output_type": "stream",
     "text": [
      " 32%|███▏      | 114/352 [13:05<24:22,  6.15s/it]"
     ]
    },
    {
     "name": "stdout",
     "output_type": "stream",
     "text": [
      "2024-09-05 17:56:41 src.functional INFO     ['Louvre Pyramid', 'Bank of China Tower'] <> I.M. Pei | predicted:  I.M. Pei - an architect who designed both buildings Louvre Pyramid and Bank of China Tower.\n",
      " => (✓)\n"
     ]
    },
    {
     "name": "stderr",
     "output_type": "stream",
     "text": [
      " 33%|███▎      | 115/352 [13:11<24:20,  6.16s/it]"
     ]
    },
    {
     "name": "stdout",
     "output_type": "stream",
     "text": [
      "2024-09-05 17:56:49 httpx INFO     HTTP Request: POST https://api.anthropic.com/v1/messages \"HTTP/1.1 200 OK\"\n",
      "2024-09-05 17:56:49 src.functional INFO     ['Heydar Aliyev Center', 'Guangzhou Opera House'] <> Zaha Hadid | predicted:  Zaha Hadid - who was the architect of both buildings Heydar Aliyev Center and Guangzhou Opera House.\n",
      " => (✓)\n"
     ]
    },
    {
     "name": "stderr",
     "output_type": "stream",
     "text": [
      " 33%|███▎      | 116/352 [13:19<26:03,  6.63s/it]"
     ]
    },
    {
     "name": "stdout",
     "output_type": "stream",
     "text": [
      "2024-09-05 17:56:56 httpx INFO     HTTP Request: POST https://api.anthropic.com/v1/messages \"HTTP/1.1 200 OK\"\n",
      "2024-09-05 17:56:56 src.functional INFO     ['Brainiac', 'Brainiac 5'] <> super intelligence | predicted:  Brainiac - a name shared by both characters Brainiac and Brainiac 5.\n",
      " => (✓)\n"
     ]
    },
    {
     "name": "stderr",
     "output_type": "stream",
     "text": [
      " 33%|███▎      | 117/352 [13:25<25:49,  6.60s/it]"
     ]
    },
    {
     "name": "stdout",
     "output_type": "stream",
     "text": [
      "2024-09-05 17:57:02 httpx INFO     HTTP Request: POST https://api.anthropic.com/v1/messages \"HTTP/1.1 200 OK\"\n",
      "2024-09-05 17:57:02 src.functional INFO     ['Venom', 'Carnage'] <> symbiote | predicted:  symbiotes - a type of alien life form that both Venom and Carnage are connected to.\n",
      " => (✓)\n"
     ]
    },
    {
     "name": "stderr",
     "output_type": "stream",
     "text": [
      " 34%|███▎      | 118/352 [13:32<25:55,  6.65s/it]"
     ]
    },
    {
     "name": "stdout",
     "output_type": "stream",
     "text": [
      "2024-09-05 17:57:10 httpx INFO     HTTP Request: POST https://api.anthropic.com/v1/messages \"HTTP/1.1 200 OK\"\n",
      "2024-09-05 17:57:10 src.functional INFO     ['Plastic Man', 'Luffy'] <> elasticity | predicted:  stretchy powers - an attribute that both characters Plastic Man and Luffy possess.\n",
      " => (✓)\n"
     ]
    },
    {
     "name": "stderr",
     "output_type": "stream",
     "text": [
      " 34%|███▍      | 119/352 [13:40<27:01,  6.96s/it]"
     ]
    },
    {
     "name": "stdout",
     "output_type": "stream",
     "text": [
      "2024-09-05 17:57:16 httpx INFO     HTTP Request: POST https://api.anthropic.com/v1/messages \"HTTP/1.1 200 OK\"\n",
      "2024-09-05 17:57:16 src.functional INFO     ['Arnold Palmer', 'Gary Player'] <> golf | predicted:  golf - a sport where both Arnold Palmer and Gary Player were professional golfers.\n",
      " => (✓)\n"
     ]
    },
    {
     "name": "stderr",
     "output_type": "stream",
     "text": [
      " 34%|███▍      | 120/352 [13:46<25:19,  6.55s/it]"
     ]
    },
    {
     "name": "stdout",
     "output_type": "stream",
     "text": [
      "2024-09-05 17:57:21 httpx INFO     HTTP Request: POST https://api.anthropic.com/v1/messages \"HTTP/1.1 200 OK\"\n",
      "2024-09-05 17:57:21 src.functional INFO     ['Sean Penn', 'Harvey Milk'] <> Milk | predicted:  Milk - a movie where Sean Penn played the role of Harvey Milk.\n",
      " => (✓)\n"
     ]
    },
    {
     "name": "stderr",
     "output_type": "stream",
     "text": [
      " 34%|███▍      | 121/352 [13:51<24:11,  6.28s/it]"
     ]
    },
    {
     "name": "stdout",
     "output_type": "stream",
     "text": [
      "2024-09-05 17:57:33 httpx INFO     HTTP Request: POST https://api.anthropic.com/v1/messages \"HTTP/1.1 200 OK\"\n",
      "2024-09-05 17:57:33 src.functional INFO     ['Natalie Portman', 'Jackie Kennedy'] <> Jackie | predicted:  both were First Ladies - Natalie Portman played the role of Jackie Kennedy in the movie Jackie, and Jackie Kennedy was the First Lady of the United States.\n",
      " => (✗)\n"
     ]
    },
    {
     "name": "stderr",
     "output_type": "stream",
     "text": [
      " 35%|███▍      | 122/352 [14:03<30:24,  7.93s/it]"
     ]
    },
    {
     "name": "stdout",
     "output_type": "stream",
     "text": [
      "2024-09-05 17:57:38 httpx INFO     HTTP Request: POST https://api.anthropic.com/v1/messages \"HTTP/1.1 200 OK\"\n",
      "2024-09-05 17:57:38 src.functional INFO     ['Flash', 'Quicksilver'] <> speedster | predicted:  super speed - a superpower that both characters Flash and Quicksilver possess.\n",
      " => (✓)\n"
     ]
    },
    {
     "name": "stderr",
     "output_type": "stream",
     "text": [
      " 35%|███▍      | 123/352 [14:08<27:08,  7.11s/it]"
     ]
    },
    {
     "name": "stdout",
     "output_type": "stream",
     "text": [
      "2024-09-05 17:57:43 src.functional INFO     ['Frida Kahlo', 'Kangaroo'] <> none | predicted:  none - there is no connection between Frida Kahlo and Kangaroo.\n",
      " => (✗)\n"
     ]
    },
    {
     "name": "stderr",
     "output_type": "stream",
     "text": [
      " 35%|███▌      | 124/352 [14:13<24:11,  6.37s/it]"
     ]
    },
    {
     "name": "stdout",
     "output_type": "stream",
     "text": [
      "2024-09-05 17:57:49 httpx INFO     HTTP Request: POST https://api.anthropic.com/v1/messages \"HTTP/1.1 200 OK\"\n",
      "2024-09-05 17:57:49 src.functional INFO     ['Eddy Merckx', 'Lance Armstrong'] <> cycling | predicted:  cycling - a sport where both Eddy Merckx and Lance Armstrong were professional cyclists.\n",
      " => (✓)\n"
     ]
    },
    {
     "name": "stderr",
     "output_type": "stream",
     "text": [
      " 36%|███▌      | 125/352 [14:19<23:53,  6.31s/it]"
     ]
    },
    {
     "name": "stdout",
     "output_type": "stream",
     "text": [
      "2024-09-05 17:57:56 httpx INFO     HTTP Request: POST https://api.anthropic.com/v1/messages \"HTTP/1.1 200 OK\"\n",
      "2024-09-05 17:57:56 src.functional INFO     ['Taj Mahal', 'Stephen King'] <> none | predicted:  none - there is no connection between Taj Mahal and Stephen King.\n",
      " => (✗)\n"
     ]
    },
    {
     "name": "stderr",
     "output_type": "stream",
     "text": [
      " 36%|███▌      | 126/352 [14:26<24:16,  6.45s/it]"
     ]
    },
    {
     "name": "stdout",
     "output_type": "stream",
     "text": [
      "2024-09-05 17:58:01 httpx INFO     HTTP Request: POST https://api.anthropic.com/v1/messages \"HTTP/1.1 200 OK\"\n",
      "2024-09-05 17:58:01 src.functional INFO     ['Jamie Foxx', 'Ray Charles'] <> Ray | predicted:  Ray - Jamie Foxx played the role of Ray Charles in the movie Ray.\n",
      " => (✓)\n"
     ]
    },
    {
     "name": "stderr",
     "output_type": "stream",
     "text": [
      " 36%|███▌      | 127/352 [14:31<23:12,  6.19s/it]"
     ]
    },
    {
     "name": "stdout",
     "output_type": "stream",
     "text": [
      "2024-09-05 17:58:06 httpx INFO     HTTP Request: POST https://api.anthropic.com/v1/messages \"HTTP/1.1 200 OK\"\n",
      "2024-09-05 17:58:06 src.functional INFO     ['Julia Roberts', 'Erin Brockovich'] <> Erin Brockovich | predicted:  Erin Brockovich - a movie where Julia Roberts played the title role.\n",
      " => (✓)\n"
     ]
    },
    {
     "name": "stderr",
     "output_type": "stream",
     "text": [
      " 36%|███▋      | 128/352 [14:36<21:39,  5.80s/it]"
     ]
    },
    {
     "name": "stdout",
     "output_type": "stream",
     "text": [
      "2024-09-05 17:58:15 httpx INFO     HTTP Request: POST https://api.anthropic.com/v1/messages \"HTTP/1.1 200 OK\"\n",
      "2024-09-05 17:58:15 src.functional INFO     ['Farnsworth House', 'Seagram Building'] <> Mies van der Rohe | predicted:  Ludwig Mies van der Rohe - who was the architect of both buildings Farnsworth House and Seagram Building.\n",
      " => (✓)\n"
     ]
    },
    {
     "name": "stderr",
     "output_type": "stream",
     "text": [
      " 37%|███▋      | 129/352 [14:44<24:14,  6.52s/it]"
     ]
    },
    {
     "name": "stdout",
     "output_type": "stream",
     "text": [
      "2024-09-05 17:58:22 httpx INFO     HTTP Request: POST https://api.anthropic.com/v1/messages \"HTTP/1.1 200 OK\"\n",
      "2024-09-05 17:58:22 src.functional INFO     ['Christopher Columbus', 'Kimchi'] <> none | predicted:  none - there is no connection between Christopher Columbus and Kimchi.\n",
      " => (✗)\n"
     ]
    },
    {
     "name": "stderr",
     "output_type": "stream",
     "text": [
      " 37%|███▋      | 130/352 [14:52<25:07,  6.79s/it]"
     ]
    },
    {
     "name": "stdout",
     "output_type": "stream",
     "text": [
      "2024-09-05 17:58:28 httpx INFO     HTTP Request: POST https://api.anthropic.com/v1/messages \"HTTP/1.1 200 OK\"\n",
      "2024-09-05 17:58:28 src.functional INFO     ['Michael Fassbender', 'Steve Jobs'] <> Steve Jobs | predicted:  Steve Jobs - a movie where Michael Fassbender played the role of Steve Jobs.\n",
      " => (✓)\n"
     ]
    },
    {
     "name": "stderr",
     "output_type": "stream",
     "text": [
      " 37%|███▋      | 131/352 [14:58<24:21,  6.61s/it]"
     ]
    },
    {
     "name": "stdout",
     "output_type": "stream",
     "text": [
      "2024-09-05 17:58:37 httpx INFO     HTTP Request: POST https://api.anthropic.com/v1/messages \"HTTP/1.1 200 OK\"\n",
      "2024-09-05 17:58:37 src.functional INFO     ['Storm', 'Thor'] <> weather manipulation | predicted:  weather control - a superpower that both characters Storm and Thor possess.\n",
      " => (✗)\n"
     ]
    },
    {
     "name": "stderr",
     "output_type": "stream",
     "text": [
      " 38%|███▊      | 132/352 [15:07<26:29,  7.23s/it]"
     ]
    },
    {
     "name": "stdout",
     "output_type": "stream",
     "text": [
      "2024-09-05 17:58:41 src.functional INFO     ['Christopher Columbus', 'Kimchi'] <> none | predicted:  none - there is no connection between Christopher Columbus and Kimchi.\n",
      " => (✗)\n"
     ]
    },
    {
     "name": "stderr",
     "output_type": "stream",
     "text": [
      " 38%|███▊      | 133/352 [15:11<22:56,  6.28s/it]"
     ]
    },
    {
     "name": "stdout",
     "output_type": "stream",
     "text": [
      "2024-09-05 17:58:47 httpx INFO     HTTP Request: POST https://api.anthropic.com/v1/messages \"HTTP/1.1 200 OK\"\n",
      "2024-09-05 17:58:47 src.functional INFO     ['Philip Seymour Hoffman', 'Truman Capote'] <> Capote | predicted:  Capote - a movie where Philip Seymour Hoffman played the role of Truman Capote.\n",
      " => (✓)\n"
     ]
    },
    {
     "name": "stderr",
     "output_type": "stream",
     "text": [
      " 38%|███▊      | 134/352 [15:17<23:10,  6.38s/it]"
     ]
    },
    {
     "name": "stdout",
     "output_type": "stream",
     "text": [
      "2024-09-05 17:58:53 httpx INFO     HTTP Request: POST https://api.anthropic.com/v1/messages \"HTTP/1.1 200 OK\"\n",
      "2024-09-05 17:58:53 src.functional INFO     ['Professor X', 'Jean Grey'] <> telepath | predicted:  X-Men - a comic book series where both Professor X and Jean Grey are characters.\n",
      " => (✓)\n"
     ]
    },
    {
     "name": "stderr",
     "output_type": "stream",
     "text": [
      " 38%|███▊      | 135/352 [15:23<22:27,  6.21s/it]"
     ]
    },
    {
     "name": "stdout",
     "output_type": "stream",
     "text": [
      "2024-09-05 17:59:03 httpx INFO     HTTP Request: POST https://api.anthropic.com/v1/messages \"HTTP/1.1 200 OK\"\n",
      "2024-09-05 17:59:03 src.functional INFO     ['Eddie Redmayne', 'Stephen Hawking'] <> The Theory of Everything | predicted:  The Theory of Everything - a movie where Eddie Redmayne played the role of Stephen Hawking.\n",
      " => (✓)\n"
     ]
    },
    {
     "name": "stderr",
     "output_type": "stream",
     "text": [
      " 39%|███▊      | 136/352 [15:32<25:35,  7.11s/it]"
     ]
    },
    {
     "name": "stdout",
     "output_type": "stream",
     "text": [
      "2024-09-05 17:59:10 httpx INFO     HTTP Request: POST https://api.anthropic.com/v1/messages \"HTTP/1.1 200 OK\"\n",
      "2024-09-05 17:59:10 src.functional INFO     ['Andy Warhol', 'Sombrero'] <> none | predicted:  Campbell's Soup Can - a famous artwork by Andy Warhol, which features a sombrero.\n",
      " => (✗)\n"
     ]
    },
    {
     "name": "stderr",
     "output_type": "stream",
     "text": [
      " 39%|███▉      | 137/352 [15:40<26:06,  7.29s/it]"
     ]
    },
    {
     "name": "stdout",
     "output_type": "stream",
     "text": [
      "2024-09-05 17:59:15 src.functional INFO     ['Oprah Winfrey', 'Colosseum'] <> none | predicted:  none - there is no connection between Oprah Winfrey and Colosseum.\n",
      " => (✗)\n"
     ]
    },
    {
     "name": "stderr",
     "output_type": "stream",
     "text": [
      " 39%|███▉      | 138/352 [15:45<23:29,  6.59s/it]"
     ]
    },
    {
     "name": "stdout",
     "output_type": "stream",
     "text": [
      "2024-09-05 17:59:22 httpx INFO     HTTP Request: POST https://api.anthropic.com/v1/messages \"HTTP/1.1 200 OK\"\n",
      "2024-09-05 17:59:22 src.functional INFO     ['Hugh Jackman', 'P.T. Barnum'] <> The Greatest Showman | predicted:  The Greatest Showman - a movie where Hugh Jackman played the role of P.T. Barnum.\n",
      " => (✓)\n"
     ]
    },
    {
     "name": "stderr",
     "output_type": "stream",
     "text": [
      " 39%|███▉      | 139/352 [15:52<23:50,  6.72s/it]"
     ]
    },
    {
     "name": "stdout",
     "output_type": "stream",
     "text": [
      "2024-09-05 17:59:28 httpx INFO     HTTP Request: POST https://api.anthropic.com/v1/messages \"HTTP/1.1 200 OK\"\n",
      "2024-09-05 17:59:28 src.functional INFO     ['Punisher', 'Red Hood'] <> anti-hero | predicted:  vigilante - a character type that both Punisher and Red Hood are.\n",
      " => (✓)\n"
     ]
    },
    {
     "name": "stderr",
     "output_type": "stream",
     "text": [
      " 40%|███▉      | 140/352 [15:57<22:18,  6.31s/it]"
     ]
    },
    {
     "name": "stdout",
     "output_type": "stream",
     "text": [
      "2024-09-05 17:59:36 httpx INFO     HTTP Request: POST https://api.anthropic.com/v1/messages \"HTTP/1.1 200 OK\"\n",
      "2024-09-05 17:59:36 src.functional INFO     ['Audrey Hepburn', 'Mount Kilimanjaro'] <> none | predicted:  none - there is no connection between Audrey Hepburn and Mount Kilimanjaro.\n",
      " => (✗)\n"
     ]
    },
    {
     "name": "stderr",
     "output_type": "stream",
     "text": [
      " 40%|████      | 141/352 [16:06<24:47,  7.05s/it]"
     ]
    },
    {
     "name": "stdout",
     "output_type": "stream",
     "text": [
      "2024-09-05 17:59:44 httpx INFO     HTTP Request: POST https://api.anthropic.com/v1/messages \"HTTP/1.1 200 OK\"\n",
      "2024-09-05 17:59:44 src.functional INFO     ['Mona Lisa', 'Usain Bolt'] <> none | predicted:  none - there is no connection between Mona Lisa and Usain Bolt.\n",
      " => (✗)\n"
     ]
    },
    {
     "name": "stderr",
     "output_type": "stream",
     "text": [
      " 40%|████      | 142/352 [16:14<25:44,  7.35s/it]"
     ]
    },
    {
     "name": "stdout",
     "output_type": "stream",
     "text": [
      "2024-09-05 17:59:47 httpx INFO     HTTP Request: POST https://api.anthropic.com/v1/messages \"HTTP/1.1 200 OK\"\n",
      "2024-09-05 17:59:47 src.functional INFO     ['Aquaman', 'Namor'] <> aquatic | predicted:  both are superheroes with aquatic powers.\n",
      " => (✓)\n"
     ]
    },
    {
     "name": "stderr",
     "output_type": "stream",
     "text": [
      " 41%|████      | 143/352 [16:17<20:56,  6.01s/it]"
     ]
    },
    {
     "name": "stdout",
     "output_type": "stream",
     "text": [
      "2024-09-05 17:59:52 httpx INFO     HTTP Request: POST https://api.anthropic.com/v1/messages \"HTTP/1.1 200 OK\"\n",
      "2024-09-05 17:59:52 src.functional INFO     ['Hulk', 'All Might'] <> super strength | predicted:  superhuman strength - a characteristic that both characters Hulk and All Might possess.\n",
      " => (✓)\n"
     ]
    },
    {
     "name": "stderr",
     "output_type": "stream",
     "text": [
      " 41%|████      | 144/352 [16:22<19:59,  5.77s/it]"
     ]
    },
    {
     "name": "stdout",
     "output_type": "stream",
     "text": [
      "2024-09-05 17:59:57 src.functional INFO     ['John Lennon', 'Angkor Wat'] <> none | predicted:  none - there is no connection between John Lennon and Angkor Wat.\n",
      " => (✗)\n"
     ]
    },
    {
     "name": "stderr",
     "output_type": "stream",
     "text": [
      " 41%|████      | 145/352 [16:27<18:20,  5.32s/it]"
     ]
    },
    {
     "name": "stdout",
     "output_type": "stream",
     "text": [
      "2024-09-05 18:00:04 httpx INFO     HTTP Request: POST https://api.anthropic.com/v1/messages \"HTTP/1.1 200 OK\"\n",
      "2024-09-05 18:00:04 src.functional INFO     ['Sebastian Shaw', 'Kevin Levin'] <> energy absorption | predicted:  none - there is no connection between Sebastian Shaw and Kevin Levin.\n",
      " => (✗)\n"
     ]
    },
    {
     "name": "stderr",
     "output_type": "stream",
     "text": [
      " 41%|████▏     | 146/352 [16:34<20:06,  5.86s/it]"
     ]
    },
    {
     "name": "stdout",
     "output_type": "stream",
     "text": [
      "2024-09-05 18:00:13 httpx INFO     HTTP Request: POST https://api.anthropic.com/v1/messages \"HTTP/1.1 200 OK\"\n",
      "2024-09-05 18:00:13 src.functional INFO     ['8 House', 'Via 57 West'] <> Bjarke Ingels | predicted:  Jean Nouvel - who was the architect of both buildings 8 House and Via 57 West.\n",
      " => (✗)\n"
     ]
    },
    {
     "name": "stderr",
     "output_type": "stream",
     "text": [
      " 42%|████▏     | 147/352 [16:43<23:48,  6.97s/it]"
     ]
    },
    {
     "name": "stdout",
     "output_type": "stream",
     "text": [
      "2024-09-05 18:00:19 httpx INFO     HTTP Request: POST https://api.anthropic.com/v1/messages \"HTTP/1.1 200 OK\"\n",
      "2024-09-05 18:00:19 src.functional INFO     ['Wonder Woman', 'Captain Marvel'] <> flight | predicted:  superhero - a genre where both Wonder Woman and Captain Marvel are characters.\n",
      " => (✓)\n"
     ]
    },
    {
     "name": "stderr",
     "output_type": "stream",
     "text": [
      " 42%|████▏     | 148/352 [16:49<22:13,  6.54s/it]"
     ]
    },
    {
     "name": "stdout",
     "output_type": "stream",
     "text": [
      "2024-09-05 18:00:25 httpx INFO     HTTP Request: POST https://api.anthropic.com/v1/messages \"HTTP/1.1 200 OK\"\n",
      "2024-09-05 18:00:25 src.functional INFO     ['Angelina Jolie', 'Gia Carangi'] <> Gia | predicted:  Gia - a movie where Angelina Jolie played the role of Gia Carangi.\n",
      " => (✓)\n"
     ]
    },
    {
     "name": "stderr",
     "output_type": "stream",
     "text": [
      " 42%|████▏     | 149/352 [16:55<21:43,  6.42s/it]"
     ]
    },
    {
     "name": "stdout",
     "output_type": "stream",
     "text": [
      "2024-09-05 18:00:34 httpx INFO     HTTP Request: POST https://api.anthropic.com/v1/messages \"HTTP/1.1 200 OK\"\n",
      "2024-09-05 18:00:34 src.functional INFO     ['Church of the Light', 'Row House in Sumiyoshi'] <> Tadao Ando | predicted:  Tadao Ando - who was the architect of both buildings Church of the Light and Row House in Sumiyoshi.\n",
      " => (✓)\n"
     ]
    },
    {
     "name": "stderr",
     "output_type": "stream",
     "text": [
      " 43%|████▎     | 150/352 [17:04<23:46,  7.06s/it]"
     ]
    },
    {
     "name": "stdout",
     "output_type": "stream",
     "text": [
      "2024-09-05 18:00:41 httpx INFO     HTTP Request: POST https://api.anthropic.com/v1/messages \"HTTP/1.1 200 OK\"\n",
      "2024-09-05 18:00:41 src.functional INFO     ['Gateway Arch', 'TWA Flight Center'] <> Eero Saarinen | predicted:  Eero Saarinen - who was the architect of both buildings Gateway Arch and TWA Flight Center.\n",
      " => (✓)\n"
     ]
    },
    {
     "name": "stderr",
     "output_type": "stream",
     "text": [
      " 43%|████▎     | 151/352 [17:11<23:37,  7.05s/it]"
     ]
    },
    {
     "name": "stdout",
     "output_type": "stream",
     "text": [
      "2024-09-05 18:00:47 httpx INFO     HTTP Request: POST https://api.anthropic.com/v1/messages \"HTTP/1.1 200 OK\"\n",
      "2024-09-05 18:00:47 src.functional INFO     ['Phil Mickelson', 'Rory McIlroy'] <> golf | predicted:  golf - a sport where both Phil Mickelson and Rory McIlroy are professional golfers.\n",
      " => (✓)\n"
     ]
    },
    {
     "name": "stderr",
     "output_type": "stream",
     "text": [
      " 43%|████▎     | 152/352 [17:17<23:07,  6.94s/it]"
     ]
    },
    {
     "name": "stdout",
     "output_type": "stream",
     "text": [
      "2024-09-05 18:00:55 httpx INFO     HTTP Request: POST https://api.anthropic.com/v1/messages \"HTTP/1.1 200 OK\"\n",
      "2024-09-05 18:00:55 src.functional INFO     ['Nelson Mandela', 'Stonehenge'] <> none | predicted:  none - there is no connection between Nelson Mandela and Stonehenge.\n",
      " => (✗)\n"
     ]
    },
    {
     "name": "stderr",
     "output_type": "stream",
     "text": [
      " 43%|████▎     | 153/352 [17:25<23:34,  7.11s/it]"
     ]
    },
    {
     "name": "stdout",
     "output_type": "stream",
     "text": [
      "2024-09-05 18:01:03 httpx INFO     HTTP Request: POST https://api.anthropic.com/v1/messages \"HTTP/1.1 200 OK\"\n",
      "2024-09-05 18:01:03 src.functional INFO     ['Mahatma Gandhi', 'Eiffel Tower'] <> none | predicted:  none - there is no connection between Mahatma Gandhi and Eiffel Tower.\n",
      " => (✗)\n"
     ]
    },
    {
     "name": "stderr",
     "output_type": "stream",
     "text": [
      " 44%|████▍     | 154/352 [17:33<24:32,  7.44s/it]"
     ]
    },
    {
     "name": "stdout",
     "output_type": "stream",
     "text": [
      "2024-09-05 18:01:09 src.functional INFO     ['Andy Warhol', 'Sombrero'] <> none | predicted:  Campbell's Soup Can - a famous artwork by Andy Warhol, which features a sombrero.\n",
      " => (✗)\n"
     ]
    },
    {
     "name": "stderr",
     "output_type": "stream",
     "text": [
      " 44%|████▍     | 155/352 [17:39<22:40,  6.91s/it]"
     ]
    },
    {
     "name": "stdout",
     "output_type": "stream",
     "text": [
      "2024-09-05 18:01:15 httpx INFO     HTTP Request: POST https://api.anthropic.com/v1/messages \"HTTP/1.1 200 OK\"\n",
      "2024-09-05 18:01:15 src.functional INFO     ['Meryl Streep', 'Julia Child'] <> Julie & Julia | predicted:  Julie & Julia - a movie where Meryl Streep played the role of Julia Child.\n",
      " => (✓)\n"
     ]
    },
    {
     "name": "stderr",
     "output_type": "stream",
     "text": [
      " 44%|████▍     | 156/352 [17:45<21:36,  6.61s/it]"
     ]
    },
    {
     "name": "stdout",
     "output_type": "stream",
     "text": [
      "2024-09-05 18:01:21 httpx INFO     HTTP Request: POST https://api.anthropic.com/v1/messages \"HTTP/1.1 200 OK\"\n",
      "2024-09-05 18:01:21 src.functional INFO     ['Meryl Streep', 'Mount Everest'] <> none | predicted:  none - there is no connection between Meryl Streep and Mount Everest.\n",
      " => (✗)\n"
     ]
    },
    {
     "name": "stderr",
     "output_type": "stream",
     "text": [
      " 45%|████▍     | 157/352 [17:51<21:40,  6.67s/it]"
     ]
    },
    {
     "name": "stdout",
     "output_type": "stream",
     "text": [
      "2024-09-05 18:01:31 httpx INFO     HTTP Request: POST https://api.anthropic.com/v1/messages \"HTTP/1.1 200 OK\"\n",
      "2024-09-05 18:01:31 src.functional INFO     ['Superman', 'Iceman'] <> super breath | predicted:  X-Men - a comic book series where both Superman and Iceman are characters.\n",
      " => (✗)\n"
     ]
    },
    {
     "name": "stderr",
     "output_type": "stream",
     "text": [
      " 45%|████▍     | 158/352 [18:01<24:33,  7.60s/it]"
     ]
    },
    {
     "name": "stdout",
     "output_type": "stream",
     "text": [
      "2024-09-05 18:01:36 src.functional INFO     ['Elvis Presley', 'Taj Mahal'] <> none | predicted:  none - there is no connection between Elvis Presley and Taj Mahal.\n",
      " => (✗)\n"
     ]
    },
    {
     "name": "stderr",
     "output_type": "stream",
     "text": [
      " 45%|████▌     | 159/352 [18:06<21:36,  6.72s/it]"
     ]
    },
    {
     "name": "stdout",
     "output_type": "stream",
     "text": [
      "2024-09-05 18:01:43 httpx INFO     HTTP Request: POST https://api.anthropic.com/v1/messages \"HTTP/1.1 200 OK\"\n",
      "2024-09-05 18:01:43 src.functional INFO     ['Will Smith', 'Chris Gardner'] <> The Pursuit of Happyness | predicted:  The Pursuit of Happyness - a movie where Will Smith played the role of Chris Gardner.\n",
      " => (✓)\n"
     ]
    },
    {
     "name": "stderr",
     "output_type": "stream",
     "text": [
      " 45%|████▌     | 160/352 [18:13<22:15,  6.96s/it]"
     ]
    },
    {
     "name": "stdout",
     "output_type": "stream",
     "text": [
      "2024-09-05 18:01:51 httpx INFO     HTTP Request: POST https://api.anthropic.com/v1/messages \"HTTP/1.1 200 OK\"\n",
      "2024-09-05 18:01:51 src.functional INFO     ['Mount Everest', 'Jon Bon Jovi'] <> none | predicted:  none - there is no connection between Mount Everest and Jon Bon Jovi.\n",
      " => (✗)\n"
     ]
    },
    {
     "name": "stderr",
     "output_type": "stream",
     "text": [
      " 46%|████▌     | 161/352 [18:21<22:54,  7.20s/it]"
     ]
    },
    {
     "name": "stdout",
     "output_type": "stream",
     "text": [
      "2024-09-05 18:01:59 httpx INFO     HTTP Request: POST https://api.anthropic.com/v1/messages \"HTTP/1.1 200 OK\"\n",
      "2024-09-05 18:01:59 src.functional INFO     ['Spider-Man', 'Paul Atreides'] <> precognition | predicted:  none - there is no connection between Spider-Man and Paul Atreides.\n",
      " => (✗)\n"
     ]
    },
    {
     "name": "stderr",
     "output_type": "stream",
     "text": [
      " 46%|████▌     | 162/352 [18:29<23:24,  7.39s/it]"
     ]
    },
    {
     "name": "stdout",
     "output_type": "stream",
     "text": [
      "2024-09-05 18:02:05 httpx INFO     HTTP Request: POST https://api.anthropic.com/v1/messages \"HTTP/1.1 200 OK\"\n",
      "2024-09-05 18:02:05 src.functional INFO     ['Tom Brady', 'Peyton Manning'] <> american football | predicted:  NFL - a professional American football league where both Tom Brady and Peyton Manning have played.\n",
      " => (✓)\n"
     ]
    },
    {
     "name": "stderr",
     "output_type": "stream",
     "text": [
      " 46%|████▋     | 163/352 [18:35<21:52,  6.94s/it]"
     ]
    },
    {
     "name": "stdout",
     "output_type": "stream",
     "text": [
      "2024-09-05 18:02:10 src.functional INFO     ['Virginia Woolf', 'Ayers Rock'] <> none | predicted:  none - there is no connection between Virginia Woolf and Ayers Rock.\n",
      " => (✗)\n"
     ]
    },
    {
     "name": "stderr",
     "output_type": "stream",
     "text": [
      " 47%|████▋     | 164/352 [18:40<19:39,  6.28s/it]"
     ]
    },
    {
     "name": "stdout",
     "output_type": "stream",
     "text": [
      "2024-09-05 18:02:19 httpx INFO     HTTP Request: POST https://api.anthropic.com/v1/messages \"HTTP/1.1 200 OK\"\n",
      "2024-09-05 18:02:19 src.functional INFO     ['Derek Luke', 'Patrick Chamusso'] <> Catch a Fire | predicted:  the movie \"Cape of Good Hope\" - where both actors Derek Luke and Patrick Chamusso played roles.\n",
      " => (✗)\n"
     ]
    },
    {
     "name": "stderr",
     "output_type": "stream",
     "text": [
      " 47%|████▋     | 165/352 [18:49<22:36,  7.25s/it]"
     ]
    },
    {
     "name": "stdout",
     "output_type": "stream",
     "text": [
      "2024-09-05 18:02:27 httpx INFO     HTTP Request: POST https://api.anthropic.com/v1/messages \"HTTP/1.1 200 OK\"\n",
      "2024-09-05 18:02:27 src.functional INFO     ['Ayrton Senna', 'Alain Prost'] <> formula 1 | predicted:  Formula 1 racing - a sport where both Ayrton Senna and Alain Prost were professional drivers.\n",
      " => (✓)\n"
     ]
    },
    {
     "name": "stderr",
     "output_type": "stream",
     "text": [
      " 47%|████▋     | 166/352 [18:57<23:07,  7.46s/it]"
     ]
    },
    {
     "name": "stdout",
     "output_type": "stream",
     "text": [
      "2024-09-05 18:02:33 httpx INFO     HTTP Request: POST https://api.anthropic.com/v1/messages \"HTTP/1.1 200 OK\"\n",
      "2024-09-05 18:02:33 src.functional INFO     ['Chris Froome', 'Alberto Contador'] <> cycling | predicted:  professional cycling - a sport where both Chris Froome and Alberto Contador are professional cyclists.\n",
      " => (✓)\n"
     ]
    },
    {
     "name": "stderr",
     "output_type": "stream",
     "text": [
      " 47%|████▋     | 167/352 [19:03<21:55,  7.11s/it]"
     ]
    },
    {
     "name": "stdout",
     "output_type": "stream",
     "text": [
      "2024-09-05 18:02:42 httpx INFO     HTTP Request: POST https://api.anthropic.com/v1/messages \"HTTP/1.1 200 OK\"\n",
      "2024-09-05 18:02:42 src.functional INFO     ['Muhammad Ali', 'Leaning Tower of Pisa'] <> none | predicted:  none - there is no connection between Muhammad Ali and Leaning Tower of Pisa.\n",
      " => (✗)\n"
     ]
    },
    {
     "name": "stderr",
     "output_type": "stream",
     "text": [
      " 48%|████▊     | 168/352 [19:12<23:17,  7.60s/it]"
     ]
    },
    {
     "name": "stdout",
     "output_type": "stream",
     "text": [
      "2024-09-05 18:02:49 httpx INFO     HTTP Request: POST https://api.anthropic.com/v1/messages \"HTTP/1.1 200 OK\"\n",
      "2024-09-05 18:02:49 src.functional INFO     ['Jewish Museum Berlin', 'Denver Art Museum'] <> Daniel Libeskind | predicted:  Daniel Libeskind - who was the architect of both buildings Jewish Museum Berlin and Denver Art Museum.\n",
      " => (✓)\n"
     ]
    },
    {
     "name": "stderr",
     "output_type": "stream",
     "text": [
      " 48%|████▊     | 169/352 [19:19<22:49,  7.48s/it]"
     ]
    },
    {
     "name": "stdout",
     "output_type": "stream",
     "text": [
      "2024-09-05 18:02:57 httpx INFO     HTTP Request: POST https://api.anthropic.com/v1/messages \"HTTP/1.1 200 OK\"\n",
      "2024-09-05 18:02:57 src.functional INFO     ['Leonardo DiCaprio', 'Jordan Belfort'] <> The Wolf of Wall Street | predicted:  The Wolf of Wall Street - a movie where Leonardo DiCaprio played the role of Jordan Belfort.\n",
      " => (✓)\n"
     ]
    },
    {
     "name": "stderr",
     "output_type": "stream",
     "text": [
      " 48%|████▊     | 170/352 [19:27<22:42,  7.49s/it]"
     ]
    },
    {
     "name": "stdout",
     "output_type": "stream",
     "text": [
      "2024-09-05 18:03:05 httpx INFO     HTTP Request: POST https://api.anthropic.com/v1/messages \"HTTP/1.1 200 OK\"\n",
      "2024-09-05 18:03:05 src.functional INFO     ['Sergey Tetyukhin', 'Gilberto Godoy Filho'] <> volleyball | predicted:  volleyball - a sport where both Sergey Tetyukhin and Gilberto Godoy Filho are professional players.\n",
      " => (✓)\n"
     ]
    },
    {
     "name": "stderr",
     "output_type": "stream",
     "text": [
      " 49%|████▊     | 171/352 [19:34<22:48,  7.56s/it]"
     ]
    },
    {
     "name": "stdout",
     "output_type": "stream",
     "text": [
      "2024-09-05 18:03:10 httpx INFO     HTTP Request: POST https://api.anthropic.com/v1/messages \"HTTP/1.1 200 OK\"\n",
      "2024-09-05 18:03:10 src.functional INFO     ['Wayne Gretzky', 'Mario Lemieux'] <> ice hockey | predicted:  hockey - a sport where both Wayne Gretzky and Mario Lemieux played professionally.\n",
      " => (✓)\n"
     ]
    },
    {
     "name": "stderr",
     "output_type": "stream",
     "text": [
      " 49%|████▉     | 172/352 [19:40<21:10,  7.06s/it]"
     ]
    },
    {
     "name": "stdout",
     "output_type": "stream",
     "text": [
      "2024-09-05 18:03:17 httpx INFO     HTTP Request: POST https://api.anthropic.com/v1/messages \"HTTP/1.1 200 OK\"\n",
      "2024-09-05 18:03:17 src.functional INFO     ['Tom Hiddleston', 'Hank Williams'] <> I Saw the Light | predicted:  I Saw the Light - a movie where Tom Hiddleston played the role of Hank Williams.\n",
      " => (✓)\n"
     ]
    },
    {
     "name": "stderr",
     "output_type": "stream",
     "text": [
      " 49%|████▉     | 173/352 [19:47<20:18,  6.81s/it]"
     ]
    },
    {
     "name": "stdout",
     "output_type": "stream",
     "text": [
      "2024-09-05 18:03:22 src.functional INFO     ['Pyramids of Giza', 'Bob Marley'] <> none | predicted:  none - there is no connection between Pyramids of Giza and Bob Marley.\n",
      " => (✗)\n"
     ]
    },
    {
     "name": "stderr",
     "output_type": "stream",
     "text": [
      " 49%|████▉     | 174/352 [19:52<18:38,  6.28s/it]"
     ]
    },
    {
     "name": "stdout",
     "output_type": "stream",
     "text": [
      "2024-09-05 18:03:28 httpx INFO     HTTP Request: POST https://api.anthropic.com/v1/messages \"HTTP/1.1 200 OK\"\n",
      "2024-09-05 18:03:28 src.functional INFO     ['Denzel Washington', 'Rubin \"Hurricane\" Carter'] <> The Hurricane | predicted:  The Hurricane - a movie where Denzel Washington played the role of Rubin \"Hurricane\" Carter.\n",
      " => (✓)\n"
     ]
    },
    {
     "name": "stderr",
     "output_type": "stream",
     "text": [
      " 50%|████▉     | 175/352 [19:58<18:53,  6.41s/it]"
     ]
    },
    {
     "name": "stdout",
     "output_type": "stream",
     "text": [
      "2024-09-05 18:03:35 httpx INFO     HTTP Request: POST https://api.anthropic.com/v1/messages \"HTTP/1.1 200 OK\"\n",
      "2024-09-05 18:03:35 src.functional INFO     ['Madonna', 'Great Barrier Reef'] <> none | predicted:  none - there is no connection between Madonna and Great Barrier Reef.\n",
      " => (✗)\n"
     ]
    },
    {
     "name": "stderr",
     "output_type": "stream",
     "text": [
      " 50%|█████     | 176/352 [20:05<18:37,  6.35s/it]"
     ]
    },
    {
     "name": "stdout",
     "output_type": "stream",
     "text": [
      "2024-09-05 18:03:43 httpx INFO     HTTP Request: POST https://api.anthropic.com/v1/messages \"HTTP/1.1 200 OK\"\n",
      "2024-09-05 18:03:43 src.functional INFO     ['Jamal Woolard', 'The Notorious B.I.G.'] <> Notorious | predicted:  The Notorious B.I.G. - Jamal Woolard played the role of The Notorious B.I.G. in the movie Notorious.\n",
      " => (✓)\n"
     ]
    },
    {
     "name": "stderr",
     "output_type": "stream",
     "text": [
      " 50%|█████     | 177/352 [20:13<20:41,  7.09s/it]"
     ]
    },
    {
     "name": "stdout",
     "output_type": "stream",
     "text": [
      "2024-09-05 18:03:53 httpx INFO     HTTP Request: POST https://api.anthropic.com/v1/messages \"HTTP/1.1 200 OK\"\n",
      "2024-09-05 18:03:53 src.functional INFO     ['Michael Schumacher', 'Lewis Hamilton'] <> formula 1 | predicted:  Formula One - a racing series where both Michael Schumacher and Lewis Hamilton have competed.\n",
      " => (✓)\n"
     ]
    },
    {
     "name": "stderr",
     "output_type": "stream",
     "text": [
      " 51%|█████     | 178/352 [20:22<22:18,  7.69s/it]"
     ]
    },
    {
     "name": "stdout",
     "output_type": "stream",
     "text": [
      "2024-09-05 18:03:59 httpx INFO     HTTP Request: POST https://api.anthropic.com/v1/messages \"HTTP/1.1 200 OK\"\n",
      "2024-09-05 18:03:59 src.functional INFO     ['Habitat 67', 'Marina Bay Sands'] <> Moshe Safdie | predicted:  unique architecture - both Habitat 67 and Marina Bay Sands are known for their unique architectural designs.\n",
      " => (✓)\n"
     ]
    },
    {
     "name": "stderr",
     "output_type": "stream",
     "text": [
      " 51%|█████     | 179/352 [20:29<21:00,  7.28s/it]"
     ]
    },
    {
     "name": "stdout",
     "output_type": "stream",
     "text": [
      "2024-09-05 18:04:19 httpx INFO     HTTP Request: POST https://api.anthropic.com/v1/messages \"HTTP/1.1 200 OK\"\n",
      "2024-09-05 18:04:19 src.functional INFO     ['Leonardo DiCaprio', 'Petra'] <> none | predicted:  The Revenant - a movie where Leonardo DiCaprio played the role of Hugh Glass, who was inspired by the true story of John Colter, who was part of the Lewis and Clark expedition, which passed through Petra.\n",
      " => (✗)\n"
     ]
    },
    {
     "name": "stderr",
     "output_type": "stream",
     "text": [
      " 51%|█████     | 180/352 [20:48<31:33, 11.01s/it]"
     ]
    },
    {
     "name": "stdout",
     "output_type": "stream",
     "text": [
      "2024-09-05 18:04:27 httpx INFO     HTTP Request: POST https://api.anthropic.com/v1/messages \"HTTP/1.1 200 OK\"\n",
      "2024-09-05 18:04:27 src.functional INFO     ['Vincent van Gogh', 'Coca-Cola'] <> none | predicted:  none - there is no connection between Vincent van Gogh and Coca-Cola.\n",
      " => (✗)\n"
     ]
    },
    {
     "name": "stderr",
     "output_type": "stream",
     "text": [
      " 51%|█████▏    | 181/352 [20:57<29:23, 10.31s/it]"
     ]
    },
    {
     "name": "stdout",
     "output_type": "stream",
     "text": [
      "2024-09-05 18:04:31 src.functional INFO     ['Neil Armstrong', 'Samba'] <> none | predicted:  none - there is no connection between Neil Armstrong and Samba.\n",
      " => (✗)\n"
     ]
    },
    {
     "name": "stderr",
     "output_type": "stream",
     "text": [
      " 52%|█████▏    | 182/352 [21:01<23:48,  8.40s/it]"
     ]
    },
    {
     "name": "stdout",
     "output_type": "stream",
     "text": [
      "2024-09-05 18:04:37 httpx INFO     HTTP Request: POST https://api.anthropic.com/v1/messages \"HTTP/1.1 200 OK\"\n",
      "2024-09-05 18:04:37 src.functional INFO     ['Scarlet Witch', 'Franklin Richards'] <> reality warping | predicted:  Marvel Comics - a comic book universe where both Scarlet Witch and Franklin Richards are characters.\n",
      " => (✓)\n"
     ]
    },
    {
     "name": "stderr",
     "output_type": "stream",
     "text": [
      " 52%|█████▏    | 183/352 [21:07<21:29,  7.63s/it]"
     ]
    },
    {
     "name": "stdout",
     "output_type": "stream",
     "text": [
      "2024-09-05 18:04:44 httpx INFO     HTTP Request: POST https://api.anthropic.com/v1/messages \"HTTP/1.1 200 OK\"\n",
      "2024-09-05 18:04:44 src.functional INFO     ['The Shard', 'New York Times Building'] <> Renzo Piano | predicted:  skyscrapers - both The Shard and New York Times Building are skyscrapers.\n",
      " => (✓)\n"
     ]
    },
    {
     "name": "stderr",
     "output_type": "stream",
     "text": [
      " 52%|█████▏    | 184/352 [21:14<20:57,  7.49s/it]"
     ]
    },
    {
     "name": "stdout",
     "output_type": "stream",
     "text": [
      "2024-09-05 18:04:49 src.functional INFO     ['Jane Austen', 'Great Wall of China'] <> none | predicted:  none - there is no connection between Jane Austen and Great Wall of China.\n",
      " => (✗)\n"
     ]
    },
    {
     "name": "stderr",
     "output_type": "stream",
     "text": [
      " 53%|█████▎    | 185/352 [21:19<18:36,  6.68s/it]"
     ]
    },
    {
     "name": "stdout",
     "output_type": "stream",
     "text": [
      "2024-09-05 18:04:54 src.functional INFO     ['Mount Everest', 'Jon Bon Jovi'] <> none | predicted:  none - there is no connection between Mount Everest and Jon Bon Jovi.\n",
      " => (✗)\n"
     ]
    },
    {
     "name": "stderr",
     "output_type": "stream",
     "text": [
      " 53%|█████▎    | 186/352 [21:23<16:41,  6.03s/it]"
     ]
    },
    {
     "name": "stdout",
     "output_type": "stream",
     "text": [
      "2024-09-05 18:04:59 httpx INFO     HTTP Request: POST https://api.anthropic.com/v1/messages \"HTTP/1.1 200 OK\"\n",
      "2024-09-05 18:04:59 src.functional INFO     ['Iceman', 'Elsa'] <> ice powers | predicted:  ice powers - an attribute that both characters Iceman and Elsa possess.\n",
      " => (✓)\n"
     ]
    },
    {
     "name": "stderr",
     "output_type": "stream",
     "text": [
      " 53%|█████▎    | 187/352 [21:29<15:56,  5.80s/it]"
     ]
    },
    {
     "name": "stdout",
     "output_type": "stream",
     "text": [
      "2024-09-05 18:05:09 httpx INFO     HTTP Request: POST https://api.anthropic.com/v1/messages \"HTTP/1.1 200 OK\"\n",
      "2024-09-05 18:05:09 src.functional INFO     ['Benedict Cumberbatch', 'Alan Turing'] <> The Imitation Game | predicted:  Alan Turing - a British mathematician, computer scientist, and logician, who was portrayed by Benedict Cumberbatch in the movie \"The Imitation Game\".\n",
      " => (✓)\n"
     ]
    },
    {
     "name": "stderr",
     "output_type": "stream",
     "text": [
      " 53%|█████▎    | 188/352 [21:39<19:31,  7.14s/it]"
     ]
    },
    {
     "name": "stdout",
     "output_type": "stream",
     "text": [
      "2024-09-05 18:05:18 httpx INFO     HTTP Request: POST https://api.anthropic.com/v1/messages \"HTTP/1.1 200 OK\"\n",
      "2024-09-05 18:05:18 src.functional INFO     ['Coco Chanel', 'Uluru'] <> none | predicted:  none - there is no connection between Coco Chanel and Uluru.\n",
      " => (✗)\n"
     ]
    },
    {
     "name": "stderr",
     "output_type": "stream",
     "text": [
      " 54%|█████▎    | 189/352 [21:48<20:44,  7.63s/it]"
     ]
    },
    {
     "name": "stdout",
     "output_type": "stream",
     "text": [
      "2024-09-05 18:05:24 httpx INFO     HTTP Request: POST https://api.anthropic.com/v1/messages \"HTTP/1.1 200 OK\"\n",
      "2024-09-05 18:05:24 src.functional INFO     ['Christian Bale', 'Michael Burry'] <> The Big Short | predicted:  The Big Short - a movie where Christian Bale played the role of Michael Burry.\n",
      " => (✓)\n"
     ]
    },
    {
     "name": "stderr",
     "output_type": "stream",
     "text": [
      " 54%|█████▍    | 190/352 [21:54<19:31,  7.23s/it]"
     ]
    },
    {
     "name": "stdout",
     "output_type": "stream",
     "text": [
      "2024-09-05 18:05:29 src.functional INFO     ['Great Wall of China', 'Beyoncé'] <> none | predicted:  none - there is no connection between Great Wall of China and Beyoncé.\n",
      " => (✗)\n"
     ]
    },
    {
     "name": "stderr",
     "output_type": "stream",
     "text": [
      " 54%|█████▍    | 191/352 [21:59<17:13,  6.42s/it]"
     ]
    },
    {
     "name": "stdout",
     "output_type": "stream",
     "text": [
      "2024-09-05 18:05:35 httpx INFO     HTTP Request: POST https://api.anthropic.com/v1/messages \"HTTP/1.1 200 OK\"\n",
      "2024-09-05 18:05:35 src.functional INFO     ['Sandra Bullock', 'Leigh Anne Tuohy'] <> The Blind Side | predicted:  The Blind Side - a movie where Sandra Bullock played the role of Leigh Anne Tuohy.\n",
      " => (✓)\n"
     ]
    },
    {
     "name": "stderr",
     "output_type": "stream",
     "text": [
      " 55%|█████▍    | 192/352 [22:05<17:22,  6.52s/it]"
     ]
    },
    {
     "name": "stdout",
     "output_type": "stream",
     "text": [
      "2024-09-05 18:05:40 src.functional INFO     ['Albert Einstein', 'Machu Picchu'] <> none | predicted:  none - there is no connection between Albert Einstein and Machu Picchu.\n",
      " => (✗)\n"
     ]
    },
    {
     "name": "stderr",
     "output_type": "stream",
     "text": [
      " 55%|█████▍    | 193/352 [22:10<15:49,  5.97s/it]"
     ]
    },
    {
     "name": "stdout",
     "output_type": "stream",
     "text": [
      "2024-09-05 18:05:48 httpx INFO     HTTP Request: POST https://api.anthropic.com/v1/messages \"HTTP/1.1 200 OK\"\n",
      "2024-09-05 18:05:48 src.functional INFO     ['City of Arts and Sciences', 'World Trade Center Transportation Hub'] <> Santiago Calatrava | predicted:  Santiago Calatrava - an architect who designed both buildings City of Arts and Sciences and World Trade Center Transportation Hub.\n",
      " => (✓)\n"
     ]
    },
    {
     "name": "stderr",
     "output_type": "stream",
     "text": [
      " 55%|█████▌    | 194/352 [22:18<17:09,  6.52s/it]"
     ]
    },
    {
     "name": "stdout",
     "output_type": "stream",
     "text": [
      "2024-09-05 18:05:53 httpx INFO     HTTP Request: POST https://api.anthropic.com/v1/messages \"HTTP/1.1 200 OK\"\n",
      "2024-09-05 18:05:53 src.functional INFO     ['Poison Ivy', 'Swamp Thing'] <> plant manipulation | predicted:  DC Comics - both Poison Ivy and Swamp Thing are characters from DC Comics.\n",
      " => (✓)\n"
     ]
    },
    {
     "name": "stderr",
     "output_type": "stream",
     "text": [
      " 55%|█████▌    | 195/352 [22:23<16:05,  6.15s/it]"
     ]
    },
    {
     "name": "stdout",
     "output_type": "stream",
     "text": [
      "2024-09-05 18:05:59 httpx INFO     HTTP Request: POST https://api.anthropic.com/v1/messages \"HTTP/1.1 200 OK\"\n",
      "2024-09-05 18:05:59 src.functional INFO     ['Ma Long', 'Zhang Jike'] <> table tennis | predicted:  table tennis - a sport where both Ma Long and Zhang Jike are professional players.\n",
      " => (✓)\n"
     ]
    },
    {
     "name": "stderr",
     "output_type": "stream",
     "text": [
      " 56%|█████▌    | 196/352 [22:29<15:49,  6.09s/it]"
     ]
    },
    {
     "name": "stdout",
     "output_type": "stream",
     "text": [
      "2024-09-05 18:06:05 httpx INFO     HTTP Request: POST https://api.anthropic.com/v1/messages \"HTTP/1.1 200 OK\"\n",
      "2024-09-05 18:06:05 src.functional INFO     ['Meryl Streep', 'Margaret Thatcher'] <> The Iron Lady | predicted:  The Iron Lady - a movie where Meryl Streep played the role of Margaret Thatcher.\n",
      " => (✓)\n"
     ]
    },
    {
     "name": "stderr",
     "output_type": "stream",
     "text": [
      " 56%|█████▌    | 197/352 [22:35<15:42,  6.08s/it]"
     ]
    },
    {
     "name": "stdout",
     "output_type": "stream",
     "text": [
      "2024-09-05 18:06:12 httpx INFO     HTTP Request: POST https://api.anthropic.com/v1/messages \"HTTP/1.1 200 OK\"\n",
      "2024-09-05 18:06:12 src.functional INFO     ['Colin Firth', 'King George VI'] <> The King's Speech | predicted:  The King's Speech - a movie where Colin Firth played the role of King George VI.\n",
      " => (✓)\n"
     ]
    },
    {
     "name": "stderr",
     "output_type": "stream",
     "text": [
      " 56%|█████▋    | 198/352 [22:42<16:32,  6.45s/it]"
     ]
    },
    {
     "name": "stdout",
     "output_type": "stream",
     "text": [
      "2024-09-05 18:06:18 httpx INFO     HTTP Request: POST https://api.anthropic.com/v1/messages \"HTTP/1.1 200 OK\"\n",
      "2024-09-05 18:06:18 src.functional INFO     ['Derek Jeter', 'Ichiro Suzuki'] <> baseball | predicted:  baseball - a sport where both Derek Jeter and Ichiro Suzuki played.\n",
      " => (✓)\n"
     ]
    },
    {
     "name": "stderr",
     "output_type": "stream",
     "text": [
      " 57%|█████▋    | 199/352 [22:48<15:35,  6.11s/it]"
     ]
    },
    {
     "name": "stdout",
     "output_type": "stream",
     "text": [
      "2024-09-05 18:06:23 httpx INFO     HTTP Request: POST https://api.anthropic.com/v1/messages \"HTTP/1.1 200 OK\"\n",
      "2024-09-05 18:06:23 src.functional INFO     ['Anthony Hopkins', 'Richard Nixon'] <> Nixon | predicted:  Nixon - a movie where Anthony Hopkins played the role of Richard Nixon.\n",
      " => (✓)\n"
     ]
    },
    {
     "name": "stderr",
     "output_type": "stream",
     "text": [
      " 57%|█████▋    | 200/352 [22:53<14:38,  5.78s/it]"
     ]
    },
    {
     "name": "stdout",
     "output_type": "stream",
     "text": [
      "2024-09-05 18:06:29 httpx INFO     HTTP Request: POST https://api.anthropic.com/v1/messages \"HTTP/1.1 200 OK\"\n",
      "2024-09-05 18:06:29 src.functional INFO     ['Salma Hayek', 'Frida Kahlo'] <> Frida | predicted:  Frida - a movie where Salma Hayek played the role of Frida Kahlo.\n",
      " => (✓)\n"
     ]
    },
    {
     "name": "stderr",
     "output_type": "stream",
     "text": [
      " 57%|█████▋    | 201/352 [22:59<15:02,  5.98s/it]"
     ]
    },
    {
     "name": "stdout",
     "output_type": "stream",
     "text": [
      "2024-09-05 18:06:39 httpx INFO     HTTP Request: POST https://api.anthropic.com/v1/messages \"HTTP/1.1 200 OK\"\n",
      "2024-09-05 18:06:39 src.functional INFO     ['Human Torch', 'Firestorm'] <> fire control | predicted:  fire manipulation - an ability that both characters Human Torch and Firestorm have.\n",
      " => (✓)\n"
     ]
    },
    {
     "name": "stderr",
     "output_type": "stream",
     "text": [
      " 57%|█████▋    | 202/352 [23:08<17:23,  6.96s/it]"
     ]
    },
    {
     "name": "stdout",
     "output_type": "stream",
     "text": [
      "2024-09-05 18:06:46 httpx INFO     HTTP Request: POST https://api.anthropic.com/v1/messages \"HTTP/1.1 200 OK\"\n",
      "2024-09-05 18:06:46 src.functional INFO     ['Forest Whitaker', 'Idi Amin'] <> The Last King of Scotland | predicted:  Forest Whitaker played the role of Idi Amin in the movie \"The Last King of Scotland\".\n",
      " => (✓)\n"
     ]
    },
    {
     "name": "stderr",
     "output_type": "stream",
     "text": [
      " 58%|█████▊    | 203/352 [23:16<17:41,  7.12s/it]"
     ]
    },
    {
     "name": "stdout",
     "output_type": "stream",
     "text": [
      "2024-09-05 18:06:54 httpx INFO     HTTP Request: POST https://api.anthropic.com/v1/messages \"HTTP/1.1 200 OK\"\n",
      "2024-09-05 18:06:54 src.functional INFO     ['Guggenheim Museum Bilbao', 'Walt Disney Concert Hall'] <> Frank Gehry | predicted:  Frank Gehry - who was the architect of both buildings Guggenheim Museum Bilbao and Walt Disney Concert Hall.\n",
      " => (✓)\n"
     ]
    },
    {
     "name": "stderr",
     "output_type": "stream",
     "text": [
      " 58%|█████▊    | 204/352 [23:24<18:04,  7.33s/it]"
     ]
    },
    {
     "name": "stdout",
     "output_type": "stream",
     "text": [
      "2024-09-05 18:06:58 src.functional INFO     ['Cleopatra', 'Volkswagen Beetle'] <> none | predicted:  none - there is no connection between Cleopatra and Volkswagen Beetle.\n",
      " => (✗)\n"
     ]
    },
    {
     "name": "stderr",
     "output_type": "stream",
     "text": [
      " 58%|█████▊    | 205/352 [23:28<15:47,  6.44s/it]"
     ]
    },
    {
     "name": "stdout",
     "output_type": "stream",
     "text": [
      "2024-09-05 18:07:04 httpx INFO     HTTP Request: POST https://api.anthropic.com/v1/messages \"HTTP/1.1 200 OK\"\n",
      "2024-09-05 18:07:04 src.functional INFO     ['Serena Williams', 'Steffi Graf'] <> tennis | predicted:  tennis - a sport where both Serena Williams and Steffi Graf are known for.\n",
      " => (✓)\n"
     ]
    },
    {
     "name": "stderr",
     "output_type": "stream",
     "text": [
      " 59%|█████▊    | 206/352 [23:34<14:56,  6.14s/it]"
     ]
    },
    {
     "name": "stdout",
     "output_type": "stream",
     "text": [
      "2024-09-05 18:07:08 src.functional INFO     ['Vincent van Gogh', 'Coca-Cola'] <> none | predicted:  none - there is no connection between Vincent van Gogh and Coca-Cola.\n",
      " => (✗)\n"
     ]
    },
    {
     "name": "stderr",
     "output_type": "stream",
     "text": [
      " 59%|█████▉    | 207/352 [23:38<13:38,  5.64s/it]"
     ]
    },
    {
     "name": "stdout",
     "output_type": "stream",
     "text": [
      "2024-09-05 18:07:14 httpx INFO     HTTP Request: POST https://api.anthropic.com/v1/messages \"HTTP/1.1 200 OK\"\n",
      "2024-09-05 18:07:14 src.functional INFO     ['Karch Kiraly', 'Giba'] <> volleyball | predicted:  volleyball - a sport where both Karch Kiraly and Giba are known for.\n",
      " => (✓)\n"
     ]
    },
    {
     "name": "stderr",
     "output_type": "stream",
     "text": [
      " 59%|█████▉    | 208/352 [23:44<13:26,  5.60s/it]"
     ]
    },
    {
     "name": "stdout",
     "output_type": "stream",
     "text": [
      "2024-09-05 18:07:20 httpx INFO     HTTP Request: POST https://api.anthropic.com/v1/messages \"HTTP/1.1 200 OK\"\n",
      "2024-09-05 18:07:20 src.functional INFO     ['Eiffel Tower', 'Serena Williams'] <> none | predicted:  none - there is no connection between Eiffel Tower and Serena Williams.\n",
      " => (✗)\n"
     ]
    },
    {
     "name": "stderr",
     "output_type": "stream",
     "text": [
      " 59%|█████▉    | 209/352 [23:50<13:52,  5.82s/it]"
     ]
    },
    {
     "name": "stdout",
     "output_type": "stream",
     "text": [
      "2024-09-05 18:07:24 src.functional INFO     ['Coco Chanel', 'Uluru'] <> none | predicted:  none - there is no connection between Coco Chanel and Uluru.\n",
      " => (✗)\n"
     ]
    },
    {
     "name": "stderr",
     "output_type": "stream",
     "text": [
      " 60%|█████▉    | 210/352 [23:54<12:25,  5.25s/it]"
     ]
    },
    {
     "name": "stdout",
     "output_type": "stream",
     "text": [
      "2024-09-05 18:07:31 httpx INFO     HTTP Request: POST https://api.anthropic.com/v1/messages \"HTTP/1.1 200 OK\"\n",
      "2024-09-05 18:07:31 src.functional INFO     ['Batman', 'Iron Man'] <> billionaire | predicted:  superhero - a genre where both Batman and Iron Man are characters.\n",
      " => (✗)\n"
     ]
    },
    {
     "name": "stderr",
     "output_type": "stream",
     "text": [
      " 60%|█████▉    | 211/352 [24:01<13:26,  5.72s/it]"
     ]
    },
    {
     "name": "stdout",
     "output_type": "stream",
     "text": [
      "2024-09-05 18:07:36 httpx INFO     HTTP Request: POST https://api.anthropic.com/v1/messages \"HTTP/1.1 200 OK\"\n",
      "2024-09-05 18:07:36 src.functional INFO     ['Cable', 'Trunks'] <> time traveler | predicted:  time travel - a concept that both characters Cable and Trunks have been associated with.\n",
      " => (✓)\n"
     ]
    },
    {
     "name": "stderr",
     "output_type": "stream",
     "text": [
      " 60%|██████    | 212/352 [24:06<13:21,  5.73s/it]"
     ]
    },
    {
     "name": "stdout",
     "output_type": "stream",
     "text": [
      "2024-09-05 18:07:47 httpx INFO     HTTP Request: POST https://api.anthropic.com/v1/messages \"HTTP/1.1 200 OK\"\n",
      "2024-09-05 18:07:47 src.functional INFO     ['Helen Mirren', 'Queen Elizabeth II'] <> The Queen | predicted:  both have played the role of Queen Elizabeth II - Helen Mirren in the movie The Queen and Queen Elizabeth II in real life.\n",
      " => (✗)\n"
     ]
    },
    {
     "name": "stderr",
     "output_type": "stream",
     "text": [
      " 61%|██████    | 213/352 [24:17<16:26,  7.09s/it]"
     ]
    },
    {
     "name": "stdout",
     "output_type": "stream",
     "text": [
      "2024-09-05 18:07:53 src.functional INFO     ['Val Kilmer', 'Jim Morrison'] <> The Doors | predicted:  Jim Morrison - Val Kilmer played the role of Jim Morrison in the movie \"The Doors\".\n",
      " => (✓)\n"
     ]
    },
    {
     "name": "stderr",
     "output_type": "stream",
     "text": [
      " 61%|██████    | 214/352 [24:23<15:29,  6.74s/it]"
     ]
    },
    {
     "name": "stdout",
     "output_type": "stream",
     "text": [
      "2024-09-05 18:07:58 httpx INFO     HTTP Request: POST https://api.anthropic.com/v1/messages \"HTTP/1.1 200 OK\"\n",
      "2024-09-05 18:07:58 src.functional INFO     ['Jean Grey', 'Eleven'] <> telekinetic | predicted:  telepathic powers - an attribute that both characters Jean Grey and Eleven possess.\n",
      " => (✓)\n"
     ]
    },
    {
     "name": "stderr",
     "output_type": "stream",
     "text": [
      " 61%|██████    | 215/352 [24:28<14:38,  6.41s/it]"
     ]
    },
    {
     "name": "stdout",
     "output_type": "stream",
     "text": [
      "2024-09-05 18:08:05 httpx INFO     HTTP Request: POST https://api.anthropic.com/v1/messages \"HTTP/1.1 200 OK\"\n",
      "2024-09-05 18:08:05 src.functional INFO     ['Tokyo Metropolitan Government Building', \"St. Mary's Cathedral\"] <> Kenzo Tange | predicted:  Tokyo - a city where both Tokyo Metropolitan Government Building and St. Mary's Cathedral are located.\n",
      " => (✓)\n"
     ]
    },
    {
     "name": "stderr",
     "output_type": "stream",
     "text": [
      " 61%|██████▏   | 216/352 [24:35<14:34,  6.43s/it]"
     ]
    },
    {
     "name": "stdout",
     "output_type": "stream",
     "text": [
      "2024-09-05 18:08:11 httpx INFO     HTTP Request: POST https://api.anthropic.com/v1/messages \"HTTP/1.1 200 OK\"\n",
      "2024-09-05 18:08:11 src.functional INFO     ['Michael Jordan', 'Slovenia'] <> none | predicted:  basketball - a sport where Michael Jordan played and Slovenia has a national basketball team.\n",
      " => (✓)\n"
     ]
    },
    {
     "name": "stderr",
     "output_type": "stream",
     "text": [
      " 62%|██████▏   | 217/352 [24:41<14:21,  6.38s/it]"
     ]
    },
    {
     "name": "stdout",
     "output_type": "stream",
     "text": [
      "2024-09-05 18:08:17 httpx INFO     HTTP Request: POST https://api.anthropic.com/v1/messages \"HTTP/1.1 200 OK\"\n",
      "2024-09-05 18:08:17 src.functional INFO     ['Ray Liotta', 'Henry Hill'] <> Goodfellas | predicted:  Goodfellas - a movie where Ray Liotta played the role of Henry Hill.\n",
      " => (✓)\n"
     ]
    },
    {
     "name": "stderr",
     "output_type": "stream",
     "text": [
      " 62%|██████▏   | 218/352 [24:47<14:01,  6.28s/it]"
     ]
    },
    {
     "name": "stdout",
     "output_type": "stream",
     "text": [
      "2024-09-05 18:08:22 src.functional INFO     ['Michael Jordan', 'Slovenia'] <> none | predicted:  basketball - a sport where Michael Jordan played and Slovenia has a national basketball team.\n",
      " => (✓)\n"
     ]
    },
    {
     "name": "stderr",
     "output_type": "stream",
     "text": [
      " 62%|██████▏   | 219/352 [24:52<12:54,  5.82s/it]"
     ]
    },
    {
     "name": "stdout",
     "output_type": "stream",
     "text": [
      "2024-09-05 18:08:28 httpx INFO     HTTP Request: POST https://api.anthropic.com/v1/messages \"HTTP/1.1 200 OK\"\n",
      "2024-09-05 18:08:28 src.functional INFO     ['Mystique', 'Martian Manhunter'] <> shape-shifter | predicted:  shape-shifting - a superpower that both characters Mystique and Martian Manhunter possess.\n",
      " => (✓)\n"
     ]
    },
    {
     "name": "stderr",
     "output_type": "stream",
     "text": [
      " 62%|██████▎   | 220/352 [24:58<12:49,  5.83s/it]"
     ]
    },
    {
     "name": "stdout",
     "output_type": "stream",
     "text": [
      "2024-09-05 18:08:36 httpx INFO     HTTP Request: POST https://api.anthropic.com/v1/messages \"HTTP/1.1 200 OK\"\n",
      "2024-09-05 18:08:36 src.functional INFO     ['Beast Boy', 'Vixen'] <> animal powers | predicted:  Teen Titans - a superhero team where both Beast Boy and Vixen are members.\n",
      " => (✗)\n"
     ]
    },
    {
     "name": "stderr",
     "output_type": "stream",
     "text": [
      " 63%|██████▎   | 221/352 [25:05<14:02,  6.43s/it]"
     ]
    },
    {
     "name": "stdout",
     "output_type": "stream",
     "text": [
      "2024-09-05 18:08:41 httpx INFO     HTTP Request: POST https://api.anthropic.com/v1/messages \"HTTP/1.1 200 OK\"\n",
      "2024-09-05 18:08:41 src.functional INFO     ['Tiger Woods', 'Jack Nicklaus'] <> golf | predicted:  golf - a sport where both Tiger Woods and Jack Nicklaus are known for.\n",
      " => (✓)\n"
     ]
    },
    {
     "name": "stderr",
     "output_type": "stream",
     "text": [
      " 63%|██████▎   | 222/352 [25:11<13:24,  6.19s/it]"
     ]
    },
    {
     "name": "stdout",
     "output_type": "stream",
     "text": [
      "2024-09-05 18:08:48 httpx INFO     HTTP Request: POST https://api.anthropic.com/v1/messages \"HTTP/1.1 200 OK\"\n",
      "2024-09-05 18:08:48 src.functional INFO     ['Marie Curie', 'Kangaroo'] <> none | predicted:  none - there is no connection between Marie Curie and Kangaroo.\n",
      " => (✗)\n"
     ]
    },
    {
     "name": "stderr",
     "output_type": "stream",
     "text": [
      " 63%|██████▎   | 223/352 [25:18<13:54,  6.47s/it]"
     ]
    },
    {
     "name": "stdout",
     "output_type": "stream",
     "text": [
      "2024-09-05 18:08:56 httpx INFO     HTTP Request: POST https://api.anthropic.com/v1/messages \"HTTP/1.1 200 OK\"\n",
      "2024-09-05 18:08:56 src.functional INFO     ['Beijing National Stadium', 'Tate Modern'] <> Herzog & de Meuron | predicted:  Herzog & de Meuron - an architectural firm that designed both Beijing National Stadium and Tate Modern.\n",
      " => (✓)\n"
     ]
    },
    {
     "name": "stderr",
     "output_type": "stream",
     "text": [
      " 64%|██████▎   | 224/352 [25:26<14:35,  6.84s/it]"
     ]
    },
    {
     "name": "stdout",
     "output_type": "stream",
     "text": [
      "2024-09-05 18:09:07 httpx INFO     HTTP Request: POST https://api.anthropic.com/v1/messages \"HTTP/1.1 200 OK\"\n",
      "2024-09-05 18:09:07 src.functional INFO     ['John Cusack', 'Brian Wilson'] <> Love & Mercy | predicted:  High Fidelity - a movie where John Cusack played the role of Rob Gordon, a character inspired by Brian Wilson.\n",
      " => (✗)\n"
     ]
    },
    {
     "name": "stderr",
     "output_type": "stream",
     "text": [
      " 64%|██████▍   | 225/352 [25:37<16:55,  8.00s/it]"
     ]
    },
    {
     "name": "stdout",
     "output_type": "stream",
     "text": [
      "2024-09-05 18:09:13 httpx INFO     HTTP Request: POST https://api.anthropic.com/v1/messages \"HTTP/1.1 200 OK\"\n",
      "2024-09-05 18:09:13 src.functional INFO     ['Doctor Strange', 'Rick Sanchez'] <> portal creation | predicted:  time travel - a concept that both Doctor Strange and Rick Sanchez have explored in their respective stories.\n",
      " => (✓)\n"
     ]
    },
    {
     "name": "stderr",
     "output_type": "stream",
     "text": [
      " 64%|██████▍   | 226/352 [25:43<15:44,  7.50s/it]"
     ]
    },
    {
     "name": "stdout",
     "output_type": "stream",
     "text": [
      "2024-09-05 18:09:20 httpx INFO     HTTP Request: POST https://api.anthropic.com/v1/messages \"HTTP/1.1 200 OK\"\n",
      "2024-09-05 18:09:20 src.functional INFO     ['Charles Darwin', 'Flamenco'] <> none | predicted:  none - there is no connection between Charles Darwin and Flamenco.\n",
      " => (✗)\n"
     ]
    },
    {
     "name": "stderr",
     "output_type": "stream",
     "text": [
      " 64%|██████▍   | 227/352 [25:50<15:27,  7.42s/it]"
     ]
    },
    {
     "name": "stdout",
     "output_type": "stream",
     "text": [
      "2024-09-05 18:09:25 src.functional INFO     ['Meryl Streep', 'Mount Everest'] <> none | predicted:  none - there is no connection between Meryl Streep and Mount Everest.\n",
      " => (✗)\n"
     ]
    },
    {
     "name": "stderr",
     "output_type": "stream",
     "text": [
      " 65%|██████▍   | 228/352 [25:55<13:37,  6.59s/it]"
     ]
    },
    {
     "name": "stdout",
     "output_type": "stream",
     "text": [
      "2024-09-05 18:09:33 httpx INFO     HTTP Request: POST https://api.anthropic.com/v1/messages \"HTTP/1.1 200 OK\"\n",
      "2024-09-05 18:09:33 src.functional INFO     ['Adrien Brody', 'Władysław Szpilman'] <> The Pianist | predicted:  The Pianist - a movie where Adrien Brody played the role of Władysław Szpilman.\n",
      " => (✓)\n"
     ]
    },
    {
     "name": "stderr",
     "output_type": "stream",
     "text": [
      " 65%|██████▌   | 229/352 [26:02<14:11,  6.92s/it]"
     ]
    },
    {
     "name": "stdout",
     "output_type": "stream",
     "text": [
      "2024-09-05 18:09:42 httpx INFO     HTTP Request: POST https://api.anthropic.com/v1/messages \"HTTP/1.1 200 OK\"\n",
      "2024-09-05 18:09:42 src.functional INFO     ['Cathedral of Brasília', 'United Nations Secretariat Building'] <> Oscar Niemeyer | predicted:  Oscar Niemeyer - who was the architect of both buildings Cathedral of Brasília and United Nations Secretariat Building.\n",
      " => (✗)\n"
     ]
    },
    {
     "name": "stderr",
     "output_type": "stream",
     "text": [
      " 65%|██████▌   | 230/352 [26:12<15:31,  7.64s/it]"
     ]
    },
    {
     "name": "stdout",
     "output_type": "stream",
     "text": [
      "2024-09-05 18:09:54 httpx INFO     HTTP Request: POST https://api.anthropic.com/v1/messages \"HTTP/1.1 200 OK\"\n",
      "2024-09-05 18:09:54 src.functional INFO     ['Louvre Abu Dhabi', 'Torre Agbar'] <> Jean Nouvel | predicted:  architecture - both Louvre Abu Dhabi and Torre Agbar are notable architectural structures.\n",
      " => (✓)\n"
     ]
    },
    {
     "name": "stderr",
     "output_type": "stream",
     "text": [
      " 66%|██████▌   | 231/352 [26:24<17:53,  8.87s/it]"
     ]
    },
    {
     "name": "stdout",
     "output_type": "stream",
     "text": [
      "2024-09-05 18:10:00 httpx INFO     HTTP Request: POST https://api.anthropic.com/v1/messages \"HTTP/1.1 200 OK\"\n",
      "2024-09-05 18:10:00 src.functional INFO     ['CCTV Headquarters', 'Seattle Central Library'] <> Rem Koolhaas | predicted:  Rem Koolhaas - an architect who designed both buildings CCTV Headquarters and Seattle Central Library.\n",
      " => (✓)\n"
     ]
    },
    {
     "name": "stderr",
     "output_type": "stream",
     "text": [
      " 66%|██████▌   | 232/352 [26:30<16:06,  8.05s/it]"
     ]
    },
    {
     "name": "stdout",
     "output_type": "stream",
     "text": [
      "2024-09-05 18:10:07 httpx INFO     HTTP Request: POST https://api.anthropic.com/v1/messages \"HTTP/1.1 200 OK\"\n",
      "2024-09-05 18:10:07 src.functional INFO     ['Beethoven', 'Amazon Rainforest'] <> none | predicted:  none - there is no connection between Beethoven and Amazon Rainforest.\n",
      " => (✗)\n"
     ]
    },
    {
     "name": "stderr",
     "output_type": "stream",
     "text": [
      " 66%|██████▌   | 233/352 [26:37<15:19,  7.73s/it]"
     ]
    },
    {
     "name": "stdout",
     "output_type": "stream",
     "text": [
      "2024-09-05 18:10:11 src.functional INFO     ['Marie Curie', 'Kangaroo'] <> none | predicted:  none - there is no connection between Marie Curie and Kangaroo.\n",
      " => (✗)\n"
     ]
    },
    {
     "name": "stderr",
     "output_type": "stream",
     "text": [
      " 66%|██████▋   | 234/352 [26:41<13:09,  6.69s/it]"
     ]
    },
    {
     "name": "stdout",
     "output_type": "stream",
     "text": [
      "2024-09-05 18:10:19 httpx INFO     HTTP Request: POST https://api.anthropic.com/v1/messages \"HTTP/1.1 200 OK\"\n",
      "2024-09-05 18:10:19 src.functional INFO     ['Magneto', 'Toph Beifong'] <> metal manipulation | predicted:  telepathy - a power that both characters Magneto and Toph Beifong possess.\n",
      " => (✗)\n"
     ]
    },
    {
     "name": "stderr",
     "output_type": "stream",
     "text": [
      " 67%|██████▋   | 235/352 [26:49<13:54,  7.14s/it]"
     ]
    },
    {
     "name": "stdout",
     "output_type": "stream",
     "text": [
      "2024-09-05 18:10:31 httpx INFO     HTTP Request: POST https://api.anthropic.com/v1/messages \"HTTP/1.1 200 OK\"\n",
      "2024-09-05 18:10:31 src.functional INFO     ['Freddie Mercury', 'Sahara Desert'] <> none | predicted:  none - there is no connection between Freddie Mercury and Sahara Desert.\n",
      " => (✗)\n"
     ]
    },
    {
     "name": "stderr",
     "output_type": "stream",
     "text": [
      " 67%|██████▋   | 236/352 [27:01<16:26,  8.50s/it]"
     ]
    },
    {
     "name": "stdout",
     "output_type": "stream",
     "text": [
      "2024-09-05 18:10:38 httpx INFO     HTTP Request: POST https://api.anthropic.com/v1/messages \"HTTP/1.1 200 OK\"\n",
      "2024-09-05 18:10:38 src.functional INFO     ['William Shakespeare', 'Sushi'] <> none | predicted:  none - there is no connection between William Shakespeare and Sushi.\n",
      " => (✗)\n"
     ]
    },
    {
     "name": "stderr",
     "output_type": "stream",
     "text": [
      " 67%|██████▋   | 237/352 [27:08<15:41,  8.18s/it]"
     ]
    },
    {
     "name": "stdout",
     "output_type": "stream",
     "text": [
      "2024-09-05 18:10:45 httpx INFO     HTTP Request: POST https://api.anthropic.com/v1/messages \"HTTP/1.1 200 OK\"\n",
      "2024-09-05 18:10:45 src.functional INFO     ['Spider-Man', 'Spider-Gwen'] <> spider-powered | predicted:  Spider - a name that both characters Spider-Man and Spider-Gwen share.\n",
      " => (✗)\n"
     ]
    },
    {
     "name": "stderr",
     "output_type": "stream",
     "text": [
      " 68%|██████▊   | 238/352 [27:15<14:45,  7.77s/it]"
     ]
    },
    {
     "name": "stdout",
     "output_type": "stream",
     "text": [
      "2024-09-05 18:10:51 httpx INFO     HTTP Request: POST https://api.anthropic.com/v1/messages \"HTTP/1.1 200 OK\"\n",
      "2024-09-05 18:10:51 src.functional INFO     ['Leonardo DiCaprio', 'Howard Hughes'] <> The Aviator | predicted:  The Aviator - a movie where Leonardo DiCaprio played the role of Howard Hughes.\n",
      " => (✓)\n"
     ]
    },
    {
     "name": "stderr",
     "output_type": "stream",
     "text": [
      " 68%|██████▊   | 239/352 [27:21<13:43,  7.29s/it]"
     ]
    },
    {
     "name": "stdout",
     "output_type": "stream",
     "text": [
      "2024-09-05 18:10:57 httpx INFO     HTTP Request: POST https://api.anthropic.com/v1/messages \"HTTP/1.1 200 OK\"\n",
      "2024-09-05 18:10:57 src.functional INFO     ['Barry Bonds', 'Ken Griffey Jr.'] <> baseball | predicted:  baseball - a sport where both Barry Bonds and Ken Griffey Jr. played.\n",
      " => (✓)\n"
     ]
    },
    {
     "name": "stderr",
     "output_type": "stream",
     "text": [
      " 68%|██████▊   | 240/352 [27:27<12:42,  6.81s/it]"
     ]
    },
    {
     "name": "stdout",
     "output_type": "stream",
     "text": [
      "2024-09-05 18:11:04 httpx INFO     HTTP Request: POST https://api.anthropic.com/v1/messages \"HTTP/1.1 200 OK\"\n",
      "2024-09-05 18:11:04 src.functional INFO     ['Woody Harrelson', 'Larry Flynt'] <> The People vs. Larry Flynt | predicted:  The People vs. Larry Flynt - a movie where Woody Harrelson played the role of Larry Flynt.\n",
      " => (✓)\n"
     ]
    },
    {
     "name": "stderr",
     "output_type": "stream",
     "text": [
      " 68%|██████▊   | 241/352 [27:34<12:58,  7.02s/it]"
     ]
    },
    {
     "name": "stdout",
     "output_type": "stream",
     "text": [
      "2024-09-05 18:11:11 httpx INFO     HTTP Request: POST https://api.anthropic.com/v1/messages \"HTTP/1.1 200 OK\"\n",
      "2024-09-05 18:11:11 src.functional INFO     ['Denzel Washington', 'Malcolm X'] <> Malcolm X | predicted:  Malcolm X - a historical figure who was portrayed by Denzel Washington in a movie.\n",
      " => (✓)\n"
     ]
    },
    {
     "name": "stderr",
     "output_type": "stream",
     "text": [
      " 69%|██████▉   | 242/352 [27:40<12:19,  6.72s/it]"
     ]
    },
    {
     "name": "stdout",
     "output_type": "stream",
     "text": [
      "2024-09-05 18:11:17 httpx INFO     HTTP Request: POST https://api.anthropic.com/v1/messages \"HTTP/1.1 200 OK\"\n",
      "2024-09-05 18:11:17 src.functional INFO     ['Storm', 'Aang'] <> elemental control | predicted:  none - there is no connection between Storm and Aang.\n",
      " => (✗)\n"
     ]
    },
    {
     "name": "stderr",
     "output_type": "stream",
     "text": [
      " 69%|██████▉   | 243/352 [27:47<12:11,  6.71s/it]"
     ]
    },
    {
     "name": "stdout",
     "output_type": "stream",
     "text": [
      "2024-09-05 18:11:23 httpx INFO     HTTP Request: POST https://api.anthropic.com/v1/messages \"HTTP/1.1 200 OK\"\n",
      "2024-09-05 18:11:23 src.functional INFO     ['Tiger Woods', 'Phil Mickelson'] <> golf | predicted:  golf - a sport where both Tiger Woods and Phil Mickelson are professional golfers.\n",
      " => (✓)\n"
     ]
    },
    {
     "name": "stderr",
     "output_type": "stream",
     "text": [
      " 69%|██████▉   | 244/352 [27:53<11:43,  6.51s/it]"
     ]
    },
    {
     "name": "stdout",
     "output_type": "stream",
     "text": [
      "2024-09-05 18:11:29 httpx INFO     HTTP Request: POST https://api.anthropic.com/v1/messages \"HTTP/1.1 200 OK\"\n",
      "2024-09-05 18:11:29 src.functional INFO     ['Lionel Messi', 'Cristiano Ronaldo'] <> soccer | predicted:  soccer - a sport where both Lionel Messi and Cristiano Ronaldo are known for.\n",
      " => (✓)\n"
     ]
    },
    {
     "name": "stderr",
     "output_type": "stream",
     "text": [
      " 70%|██████▉   | 245/352 [27:58<10:58,  6.16s/it]"
     ]
    },
    {
     "name": "stdout",
     "output_type": "stream",
     "text": [
      "2024-09-05 18:11:36 httpx INFO     HTTP Request: POST https://api.anthropic.com/v1/messages \"HTTP/1.1 200 OK\"\n",
      "2024-09-05 18:11:36 src.functional INFO     ['Multiple Man', 'Naruto Uzumaki'] <> cloning | predicted:  none - there is no connection between Multiple Man and Naruto Uzumaki.\n",
      " => (✗)\n"
     ]
    },
    {
     "name": "stderr",
     "output_type": "stream",
     "text": [
      " 70%|██████▉   | 246/352 [28:06<11:24,  6.45s/it]"
     ]
    },
    {
     "name": "stdout",
     "output_type": "stream",
     "text": [
      "2024-09-05 18:11:42 httpx INFO     HTTP Request: POST https://api.anthropic.com/v1/messages \"HTTP/1.1 200 OK\"\n",
      "2024-09-05 18:11:42 src.functional INFO     ['Muhammad Ali', 'Mike Tyson'] <> boxing | predicted:  boxing - a sport where both Muhammad Ali and Mike Tyson were professional boxers.\n",
      " => (✓)\n"
     ]
    },
    {
     "name": "stderr",
     "output_type": "stream",
     "text": [
      " 70%|███████   | 247/352 [28:11<10:57,  6.26s/it]"
     ]
    },
    {
     "name": "stdout",
     "output_type": "stream",
     "text": [
      "2024-09-05 18:11:46 src.functional INFO     ['Taj Mahal', 'Stephen King'] <> none | predicted:  none - there is no connection between Taj Mahal and Stephen King.\n",
      " => (✗)\n"
     ]
    },
    {
     "name": "stderr",
     "output_type": "stream",
     "text": [
      " 70%|███████   | 248/352 [28:16<09:53,  5.71s/it]"
     ]
    },
    {
     "name": "stdout",
     "output_type": "stream",
     "text": [
      "2024-09-05 18:11:59 src.functional INFO     ['Leonardo DiCaprio', 'Petra'] <> none | predicted:  The Revenant - a movie where Leonardo DiCaprio played the role of Hugh Glass, who was inspired by the true story of John Colter, who was part of the Lewis and Clark expedition, which passed through Petra.\n",
      " => (✗)\n"
     ]
    },
    {
     "name": "stderr",
     "output_type": "stream",
     "text": [
      " 71%|███████   | 249/352 [28:29<13:41,  7.97s/it]"
     ]
    },
    {
     "name": "stdout",
     "output_type": "stream",
     "text": [
      "2024-09-05 18:12:06 httpx INFO     HTTP Request: POST https://api.anthropic.com/v1/messages \"HTTP/1.1 200 OK\"\n",
      "2024-09-05 18:12:06 src.functional INFO     ['Captain America', 'Winter Soldier'] <> super soldier | predicted:  Bucky Barnes - a character who is the Winter Soldier and also the best friend of Captain America.\n",
      " => (✓)\n"
     ]
    },
    {
     "name": "stderr",
     "output_type": "stream",
     "text": [
      " 71%|███████   | 250/352 [28:36<12:53,  7.58s/it]"
     ]
    },
    {
     "name": "stdout",
     "output_type": "stream",
     "text": [
      "2024-09-05 18:12:14 httpx INFO     HTTP Request: POST https://api.anthropic.com/v1/messages \"HTTP/1.1 200 OK\"\n",
      "2024-09-05 18:12:14 src.functional INFO     ['Institut du Monde Arabe', 'One Central Park'] <> Jean Nouvel | predicted:  Ateliers Jean Nouvel - the architect who designed both buildings Institut du Monde Arabe and One Central Park.\n",
      " => (✓)\n"
     ]
    },
    {
     "name": "stderr",
     "output_type": "stream",
     "text": [
      " 71%|███████▏  | 251/352 [28:44<13:02,  7.75s/it]"
     ]
    },
    {
     "name": "stdout",
     "output_type": "stream",
     "text": [
      "2024-09-05 18:12:22 httpx INFO     HTTP Request: POST https://api.anthropic.com/v1/messages \"HTTP/1.1 200 OK\"\n",
      "2024-09-05 18:12:22 src.functional INFO     ['Turning Torso', 'Milwaukee Art Museum'] <> Santiago Calatrava | predicted:  Santiago Calatrava - an architect who designed both buildings Turning Torso and Milwaukee Art Museum.\n",
      " => (✗)\n"
     ]
    },
    {
     "name": "stderr",
     "output_type": "stream",
     "text": [
      " 72%|███████▏  | 252/352 [28:52<13:08,  7.88s/it]"
     ]
    },
    {
     "name": "stdout",
     "output_type": "stream",
     "text": [
      "2024-09-05 18:12:30 httpx INFO     HTTP Request: POST https://api.anthropic.com/v1/messages \"HTTP/1.1 200 OK\"\n",
      "2024-09-05 18:12:30 src.functional INFO     ['Sagrada Família', 'Casa Milà'] <> Antoni Gaudí | predicted:  Antoni Gaudí - who was the architect of both buildings Sagrada Família and Casa Milà.\n",
      " => (✓)\n"
     ]
    },
    {
     "name": "stderr",
     "output_type": "stream",
     "text": [
      " 72%|███████▏  | 253/352 [29:00<12:54,  7.83s/it]"
     ]
    },
    {
     "name": "stdout",
     "output_type": "stream",
     "text": [
      "2024-09-05 18:12:36 httpx INFO     HTTP Request: POST https://api.anthropic.com/v1/messages \"HTTP/1.1 200 OK\"\n",
      "2024-09-05 18:12:36 src.functional INFO     ['Jan-Ove Waldner', 'Ma Long'] <> table tennis | predicted:  table tennis - a sport where both Jan-Ove Waldner and Ma Long are known for.\n",
      " => (✓)\n"
     ]
    },
    {
     "name": "stderr",
     "output_type": "stream",
     "text": [
      " 72%|███████▏  | 254/352 [29:06<12:06,  7.42s/it]"
     ]
    },
    {
     "name": "stdout",
     "output_type": "stream",
     "text": [
      "2024-09-05 18:12:41 httpx INFO     HTTP Request: POST https://api.anthropic.com/v1/messages \"HTTP/1.1 200 OK\"\n",
      "2024-09-05 18:12:41 src.functional INFO     ['Bradley Cooper', 'Chris Kyle'] <> American Sniper | predicted:  American Sniper - a movie where Bradley Cooper played the role of Chris Kyle.\n",
      " => (✓)\n"
     ]
    },
    {
     "name": "stderr",
     "output_type": "stream",
     "text": [
      " 72%|███████▏  | 255/352 [29:11<10:52,  6.73s/it]"
     ]
    },
    {
     "name": "stdout",
     "output_type": "stream",
     "text": [
      "2024-09-05 18:12:48 httpx INFO     HTTP Request: POST https://api.anthropic.com/v1/messages \"HTTP/1.1 200 OK\"\n",
      "2024-09-05 18:12:48 src.functional INFO     ['Sandman', 'Freddy Krueger'] <> dream manipulation | predicted:  ability to manipulate dreams - a power that both Sandman and Freddy Krueger possess.\n",
      " => (✓)\n"
     ]
    },
    {
     "name": "stderr",
     "output_type": "stream",
     "text": [
      " 73%|███████▎  | 256/352 [29:18<10:47,  6.75s/it]"
     ]
    },
    {
     "name": "stdout",
     "output_type": "stream",
     "text": [
      "2024-09-05 18:12:55 httpx INFO     HTTP Request: POST https://api.anthropic.com/v1/messages \"HTTP/1.1 200 OK\"\n",
      "2024-09-05 18:12:55 src.functional INFO     [\"Peter O'Toole\", 'T.E. Lawrence'] <> Lawrence of Arabia | predicted:  Lawrence of Arabia - a movie where Peter O'Toole played the role of T.E. Lawrence.\n",
      " => (✓)\n"
     ]
    },
    {
     "name": "stderr",
     "output_type": "stream",
     "text": [
      " 73%|███████▎  | 257/352 [29:25<10:48,  6.83s/it]"
     ]
    },
    {
     "name": "stdout",
     "output_type": "stream",
     "text": [
      "2024-09-05 18:13:03 httpx INFO     HTTP Request: POST https://api.anthropic.com/v1/messages \"HTTP/1.1 200 OK\"\n",
      "2024-09-05 18:13:03 src.functional INFO     ['Giant-Man', 'Mount Lady'] <> size increase | predicted:  none - there is no connection between Giant-Man and Mount Lady.\n",
      " => (✗)\n"
     ]
    },
    {
     "name": "stderr",
     "output_type": "stream",
     "text": [
      " 73%|███████▎  | 258/352 [29:33<11:03,  7.06s/it]"
     ]
    },
    {
     "name": "stdout",
     "output_type": "stream",
     "text": [
      "2024-09-05 18:13:09 httpx INFO     HTTP Request: POST https://api.anthropic.com/v1/messages \"HTTP/1.1 200 OK\"\n",
      "2024-09-05 18:13:09 src.functional INFO     ['Hulk', 'Juggernaut'] <> super strength | predicted:  superhuman strength - a characteristic that both characters Hulk and Juggernaut possess.\n",
      " => (✓)\n"
     ]
    },
    {
     "name": "stderr",
     "output_type": "stream",
     "text": [
      " 74%|███████▎  | 259/352 [29:39<10:41,  6.90s/it]"
     ]
    },
    {
     "name": "stdout",
     "output_type": "stream",
     "text": [
      "2024-09-05 18:13:20 httpx INFO     HTTP Request: POST https://api.anthropic.com/v1/messages \"HTTP/1.1 200 OK\"\n",
      "2024-09-05 18:13:20 src.functional INFO     ['Martin Luther King Jr.', 'Acropolis'] <> none | predicted:  none - there is no connection between Martin Luther King Jr. and Acropolis.\n",
      " => (✗)\n"
     ]
    },
    {
     "name": "stderr",
     "output_type": "stream",
     "text": [
      " 74%|███████▍  | 260/352 [29:50<12:26,  8.12s/it]"
     ]
    },
    {
     "name": "stdout",
     "output_type": "stream",
     "text": [
      "2024-09-05 18:13:29 httpx INFO     HTTP Request: POST https://api.anthropic.com/v1/messages \"HTTP/1.1 200 OK\"\n",
      "2024-09-05 18:13:29 src.functional INFO     ['Galileo Galilei', 'Boomerang'] <> none | predicted:  none - there is no connection between Galileo Galilei and Boomerang.\n",
      " => (✗)\n"
     ]
    },
    {
     "name": "stderr",
     "output_type": "stream",
     "text": [
      " 74%|███████▍  | 261/352 [29:59<12:25,  8.20s/it]"
     ]
    },
    {
     "name": "stdout",
     "output_type": "stream",
     "text": [
      "2024-09-05 18:13:35 httpx INFO     HTTP Request: POST https://api.anthropic.com/v1/messages \"HTTP/1.1 200 OK\"\n",
      "2024-09-05 18:13:35 src.functional INFO     ['Lance Armstrong', 'Eddy Merckx'] <> cycling | predicted:  cycling - a sport where both Lance Armstrong and Eddy Merckx are known for.\n",
      " => (✓)\n"
     ]
    },
    {
     "name": "stderr",
     "output_type": "stream",
     "text": [
      " 74%|███████▍  | 262/352 [30:04<11:12,  7.48s/it]"
     ]
    },
    {
     "name": "stdout",
     "output_type": "stream",
     "text": [
      "2024-09-05 18:13:45 httpx INFO     HTTP Request: POST https://api.anthropic.com/v1/messages \"HTTP/1.1 200 OK\"\n",
      "2024-09-05 18:13:45 src.functional INFO     ['Robert De Niro', 'Jake LaMotta'] <> Raging Bull | predicted:  Raging Bull - a movie where Robert De Niro played the role of Jake LaMotta.\n",
      " => (✓)\n"
     ]
    },
    {
     "name": "stderr",
     "output_type": "stream",
     "text": [
      " 75%|███████▍  | 263/352 [30:15<12:37,  8.51s/it]"
     ]
    },
    {
     "name": "stdout",
     "output_type": "stream",
     "text": [
      "2024-09-05 18:13:50 src.functional INFO     ['Leonardo da Vinci', 'Great Barrier Reef'] <> none | predicted:  none - there is no connection between Leonardo da Vinci and Great Barrier Reef.\n",
      " => (✗)\n"
     ]
    },
    {
     "name": "stderr",
     "output_type": "stream",
     "text": [
      " 75%|███████▌  | 264/352 [30:20<10:43,  7.31s/it]"
     ]
    },
    {
     "name": "stdout",
     "output_type": "stream",
     "text": [
      "2024-09-05 18:13:59 httpx INFO     HTTP Request: POST https://api.anthropic.com/v1/messages \"HTTP/1.1 200 OK\"\n",
      "2024-09-05 18:13:59 src.functional INFO     ['30 St Mary Axe (The Gherkin)', 'Hearst Tower'] <> Norman Foster | predicted:  Norman Foster - who was the architect of both buildings 30 St Mary Axe (The Gherkin) and Hearst Tower.\n",
      " => (✓)\n"
     ]
    },
    {
     "name": "stderr",
     "output_type": "stream",
     "text": [
      " 75%|███████▌  | 265/352 [30:29<11:16,  7.78s/it]"
     ]
    },
    {
     "name": "stdout",
     "output_type": "stream",
     "text": [
      "2024-09-05 18:14:04 httpx INFO     HTTP Request: POST https://api.anthropic.com/v1/messages \"HTTP/1.1 200 OK\"\n",
      "2024-09-05 18:14:04 src.functional INFO     ['Tony Stark', 'Reed Richards'] <> genius inventor | predicted:  genius-level intellect - a characteristic that both Tony Stark and Reed Richards possess.\n",
      " => (✓)\n"
     ]
    },
    {
     "name": "stderr",
     "output_type": "stream",
     "text": [
      " 76%|███████▌  | 266/352 [30:34<10:11,  7.11s/it]"
     ]
    },
    {
     "name": "stdout",
     "output_type": "stream",
     "text": [
      "2024-09-05 18:14:11 httpx INFO     HTTP Request: POST https://api.anthropic.com/v1/messages \"HTTP/1.1 200 OK\"\n",
      "2024-09-05 18:14:11 src.functional INFO     ['Robert Downey Jr.', 'Charlie Chaplin'] <> Chaplin | predicted:  acting - a profession that both Robert Downey Jr. and Charlie Chaplin are known for.\n",
      " => (✓)\n"
     ]
    },
    {
     "name": "stderr",
     "output_type": "stream",
     "text": [
      " 76%|███████▌  | 267/352 [30:41<09:58,  7.04s/it]"
     ]
    },
    {
     "name": "stdout",
     "output_type": "stream",
     "text": [
      "2024-09-05 18:14:18 httpx INFO     HTTP Request: POST https://api.anthropic.com/v1/messages \"HTTP/1.1 200 OK\"\n",
      "2024-09-05 18:14:18 src.functional INFO     ['Novak Djokovic', 'Andy Murray'] <> tennis | predicted:  tennis - a sport where both Novak Djokovic and Andy Murray are known for.\n",
      " => (✓)\n"
     ]
    },
    {
     "name": "stderr",
     "output_type": "stream",
     "text": [
      " 76%|███████▌  | 268/352 [30:47<09:32,  6.81s/it]"
     ]
    },
    {
     "name": "stdout",
     "output_type": "stream",
     "text": [
      "2024-09-05 18:14:24 httpx INFO     HTTP Request: POST https://api.anthropic.com/v1/messages \"HTTP/1.1 200 OK\"\n",
      "2024-09-05 18:14:24 src.functional INFO     ['Walt Disney', 'Spaghetti'] <> none | predicted:  none - there is no connection between Walt Disney and Spaghetti.\n",
      " => (✗)\n"
     ]
    },
    {
     "name": "stderr",
     "output_type": "stream",
     "text": [
      " 76%|███████▋  | 269/352 [30:54<09:24,  6.80s/it]"
     ]
    },
    {
     "name": "stdout",
     "output_type": "stream",
     "text": [
      "2024-09-05 18:14:28 src.functional INFO     ['Steve Jobs', 'Tango'] <> none | predicted:  none - there is no connection between Steve Jobs and Tango.\n",
      " => (✗)\n"
     ]
    },
    {
     "name": "stderr",
     "output_type": "stream",
     "text": [
      " 77%|███████▋  | 270/352 [30:58<08:03,  5.90s/it]"
     ]
    },
    {
     "name": "stdout",
     "output_type": "stream",
     "text": [
      "2024-09-05 18:14:37 httpx INFO     HTTP Request: POST https://api.anthropic.com/v1/messages \"HTTP/1.1 200 OK\"\n",
      "2024-09-05 18:14:37 src.functional INFO     ['Cyclops', 'Starfire'] <> energy projection | predicted:  X-Men and Teen Titans - both Cyclops and Starfire are characters from these comic book series.\n",
      " => (✗)\n"
     ]
    },
    {
     "name": "stderr",
     "output_type": "stream",
     "text": [
      " 77%|███████▋  | 271/352 [31:07<09:11,  6.80s/it]"
     ]
    },
    {
     "name": "stdout",
     "output_type": "stream",
     "text": [
      "2024-09-05 18:14:43 httpx INFO     HTTP Request: POST https://api.anthropic.com/v1/messages \"HTTP/1.1 200 OK\"\n",
      "2024-09-05 18:14:43 src.functional INFO     ['Michael Phelps', 'Ian Thorpe'] <> swimming | predicted:  swimming - a sport where both Michael Phelps and Ian Thorpe are known for.\n",
      " => (✓)\n"
     ]
    },
    {
     "name": "stderr",
     "output_type": "stream",
     "text": [
      " 77%|███████▋  | 272/352 [31:13<08:34,  6.43s/it]"
     ]
    },
    {
     "name": "stdout",
     "output_type": "stream",
     "text": [
      "2024-09-05 18:14:49 httpx INFO     HTTP Request: POST https://api.anthropic.com/v1/messages \"HTTP/1.1 200 OK\"\n",
      "2024-09-05 18:14:49 src.functional INFO     ['John Lone', 'Emperor Puyi'] <> The Last Emperor | predicted:  The Last Emperor - a movie where John Lone played the role of Emperor Puyi.\n",
      " => (✓)\n"
     ]
    },
    {
     "name": "stderr",
     "output_type": "stream",
     "text": [
      " 78%|███████▊  | 273/352 [31:19<08:26,  6.41s/it]"
     ]
    },
    {
     "name": "stdout",
     "output_type": "stream",
     "text": [
      "2024-09-05 18:14:55 httpx INFO     HTTP Request: POST https://api.anthropic.com/v1/messages \"HTTP/1.1 200 OK\"\n",
      "2024-09-05 18:14:55 src.functional INFO     ['Renée Zellweger', 'Judy Garland'] <> Judy | predicted:  Judy - a movie where Renée Zellweger played the role of Judy Garland.\n",
      " => (✓)\n"
     ]
    },
    {
     "name": "stderr",
     "output_type": "stream",
     "text": [
      " 78%|███████▊  | 274/352 [31:25<08:08,  6.26s/it]"
     ]
    },
    {
     "name": "stdout",
     "output_type": "stream",
     "text": [
      "2024-09-05 18:15:02 httpx INFO     HTTP Request: POST https://api.anthropic.com/v1/messages \"HTTP/1.1 200 OK\"\n",
      "2024-09-05 18:15:02 src.functional INFO     ['Katie Ledecky', 'Federica Pellegrini'] <> swimming | predicted:  swimming - a sport where both Katie Ledecky and Federica Pellegrini are known for.\n",
      " => (✓)\n"
     ]
    },
    {
     "name": "stderr",
     "output_type": "stream",
     "text": [
      " 78%|███████▊  | 275/352 [31:32<08:23,  6.54s/it]"
     ]
    },
    {
     "name": "stdout",
     "output_type": "stream",
     "text": [
      "2024-09-05 18:15:10 httpx INFO     HTTP Request: POST https://api.anthropic.com/v1/messages \"HTTP/1.1 200 OK\"\n",
      "2024-09-05 18:15:10 src.functional INFO     ['Yuzuru Hanyu', 'Evgeni Plushenko'] <> figure skating | predicted:  figure skating - a sport where both Yuzuru Hanyu and Evgeni Plushenko are known for.\n",
      " => (✓)\n"
     ]
    },
    {
     "name": "stderr",
     "output_type": "stream",
     "text": [
      " 78%|███████▊  | 276/352 [31:40<08:46,  6.92s/it]"
     ]
    },
    {
     "name": "stdout",
     "output_type": "stream",
     "text": [
      "2024-09-05 18:15:16 httpx INFO     HTTP Request: POST https://api.anthropic.com/v1/messages \"HTTP/1.1 200 OK\"\n",
      "2024-09-05 18:15:16 src.functional INFO     ['Virat Kohli', 'Steve Smith'] <> cricket | predicted:  cricket - a sport where both Virat Kohli and Steve Smith are known for.\n",
      " => (✓)\n"
     ]
    },
    {
     "name": "stderr",
     "output_type": "stream",
     "text": [
      " 79%|███████▊  | 277/352 [31:46<08:21,  6.69s/it]"
     ]
    },
    {
     "name": "stdout",
     "output_type": "stream",
     "text": [
      "2024-09-05 18:15:21 src.functional INFO     ['Eiffel Tower', 'Serena Williams'] <> none | predicted:  none - there is no connection between Eiffel Tower and Serena Williams.\n",
      " => (✗)\n"
     ]
    },
    {
     "name": "stderr",
     "output_type": "stream",
     "text": [
      " 79%|███████▉  | 278/352 [31:51<07:30,  6.09s/it]"
     ]
    },
    {
     "name": "stdout",
     "output_type": "stream",
     "text": [
      "2024-09-05 18:15:27 httpx INFO     HTTP Request: POST https://api.anthropic.com/v1/messages \"HTTP/1.1 200 OK\"\n",
      "2024-09-05 18:15:27 src.functional INFO     ['Carolina Marín', 'Saina Nehwal'] <> badminton | predicted:  badminton - a sport where both Carolina Marín and Saina Nehwal are professional players.\n",
      " => (✓)\n"
     ]
    },
    {
     "name": "stderr",
     "output_type": "stream",
     "text": [
      " 79%|███████▉  | 279/352 [31:57<07:37,  6.27s/it]"
     ]
    },
    {
     "name": "stdout",
     "output_type": "stream",
     "text": [
      "2024-09-05 18:15:36 httpx INFO     HTTP Request: POST https://api.anthropic.com/v1/messages \"HTTP/1.1 200 OK\"\n",
      "2024-09-05 18:15:36 src.functional INFO     ['Pelé', 'Mona Lisa'] <> none | predicted:  Leonardo da Vinci - who painted the Mona Lisa and was also a friend of Pelé's father.\n",
      " => (✗)\n"
     ]
    },
    {
     "name": "stderr",
     "output_type": "stream",
     "text": [
      " 80%|███████▉  | 280/352 [32:06<08:28,  7.07s/it]"
     ]
    },
    {
     "name": "stdout",
     "output_type": "stream",
     "text": [
      "2024-09-05 18:15:44 httpx INFO     HTTP Request: POST https://api.anthropic.com/v1/messages \"HTTP/1.1 200 OK\"\n",
      "2024-09-05 18:15:44 src.functional INFO     ['Susan Storm', 'Invisible Woman'] <> invisibility | predicted:  Fantastic Four - a superhero team where both Susan Storm and Invisible Woman are members.\n",
      " => (✗)\n"
     ]
    },
    {
     "name": "stderr",
     "output_type": "stream",
     "text": [
      " 80%|███████▉  | 281/352 [32:13<08:23,  7.10s/it]"
     ]
    },
    {
     "name": "stdout",
     "output_type": "stream",
     "text": [
      "2024-09-05 18:15:47 src.functional INFO     ['Madonna', 'Great Barrier Reef'] <> none | predicted:  none - there is no connection between Madonna and Great Barrier Reef.\n",
      " => (✗)\n"
     ]
    },
    {
     "name": "stderr",
     "output_type": "stream",
     "text": [
      " 80%|████████  | 282/352 [32:17<07:10,  6.15s/it]"
     ]
    },
    {
     "name": "stdout",
     "output_type": "stream",
     "text": [
      "2024-09-05 18:15:53 httpx INFO     HTTP Request: POST https://api.anthropic.com/v1/messages \"HTTP/1.1 200 OK\"\n",
      "2024-09-05 18:15:53 src.functional INFO     ['Getty Center', 'Barcelona Museum of Contemporary Art'] <> Richard Meier | predicted:  architecture - both Getty Center and Barcelona Museum of Contemporary Art are known for their unique architecture.\n",
      " => (✓)\n"
     ]
    },
    {
     "name": "stderr",
     "output_type": "stream",
     "text": [
      " 80%|████████  | 283/352 [32:23<06:55,  6.02s/it]"
     ]
    },
    {
     "name": "stdout",
     "output_type": "stream",
     "text": [
      "2024-09-05 18:16:00 httpx INFO     HTTP Request: POST https://api.anthropic.com/v1/messages \"HTTP/1.1 200 OK\"\n",
      "2024-09-05 18:16:00 src.functional INFO     ['Eddie Redmayne', 'Lili Elbe'] <> The Danish Girl | predicted:  The Danish Girl - a movie where Eddie Redmayne played the role of Lili Elbe.\n",
      " => (✓)\n"
     ]
    },
    {
     "name": "stderr",
     "output_type": "stream",
     "text": [
      " 81%|████████  | 284/352 [32:30<07:10,  6.32s/it]"
     ]
    },
    {
     "name": "stdout",
     "output_type": "stream",
     "text": [
      "2024-09-05 18:16:05 src.functional INFO     ['Audrey Hepburn', 'Mount Kilimanjaro'] <> none | predicted:  none - there is no connection between Audrey Hepburn and Mount Kilimanjaro.\n",
      " => (✗)\n"
     ]
    },
    {
     "name": "stderr",
     "output_type": "stream",
     "text": [
      " 81%|████████  | 285/352 [32:35<06:38,  5.94s/it]"
     ]
    },
    {
     "name": "stdout",
     "output_type": "stream",
     "text": [
      "2024-09-05 18:16:10 httpx INFO     HTTP Request: POST https://api.anthropic.com/v1/messages \"HTTP/1.1 200 OK\"\n",
      "2024-09-05 18:16:10 src.functional INFO     ['Daniel Day-Lewis', 'Abraham Lincoln'] <> Lincoln | predicted:  Daniel Day-Lewis played the role of Abraham Lincoln in the movie Lincoln.\n",
      " => (✓)\n"
     ]
    },
    {
     "name": "stderr",
     "output_type": "stream",
     "text": [
      " 81%|████████▏ | 286/352 [32:40<06:12,  5.65s/it]"
     ]
    },
    {
     "name": "stdout",
     "output_type": "stream",
     "text": [
      "2024-09-05 18:16:15 httpx INFO     HTTP Request: POST https://api.anthropic.com/v1/messages \"HTTP/1.1 200 OK\"\n",
      "2024-09-05 18:16:15 src.functional INFO     ['Robin Williams', 'Patch Adams'] <> Patch Adams | predicted:  the movie Patch Adams - where Robin Williams played the title role.\n",
      " => (✓)\n"
     ]
    },
    {
     "name": "stderr",
     "output_type": "stream",
     "text": [
      " 82%|████████▏ | 287/352 [32:45<05:45,  5.31s/it]"
     ]
    },
    {
     "name": "stdout",
     "output_type": "stream",
     "text": [
      "2024-09-05 18:16:22 httpx INFO     HTTP Request: POST https://api.anthropic.com/v1/messages \"HTTP/1.1 200 OK\"\n",
      "2024-09-05 18:16:22 src.functional INFO     ['Cyborg', 'Ultron'] <> technopathy | predicted:  artificial intelligence - a technology that both Cyborg and Ultron are based on.\n",
      " => (✗)\n"
     ]
    },
    {
     "name": "stderr",
     "output_type": "stream",
     "text": [
      " 82%|████████▏ | 288/352 [32:52<06:17,  5.90s/it]"
     ]
    },
    {
     "name": "stdout",
     "output_type": "stream",
     "text": [
      "2024-09-05 18:16:30 httpx INFO     HTTP Request: POST https://api.anthropic.com/v1/messages \"HTTP/1.1 200 OK\"\n",
      "2024-09-05 18:16:30 src.functional INFO     ['Bruce Lee', 'Stonehenge'] <> none | predicted:  none - there is no connection between Bruce Lee and Stonehenge.\n",
      " => (✗)\n"
     ]
    },
    {
     "name": "stderr",
     "output_type": "stream",
     "text": [
      " 82%|████████▏ | 289/352 [33:00<06:54,  6.58s/it]"
     ]
    },
    {
     "name": "stdout",
     "output_type": "stream",
     "text": [
      "2024-09-05 18:16:35 src.functional INFO     ['Martin Luther King Jr.', 'Acropolis'] <> none | predicted:  none - there is no connection between Martin Luther King Jr. and Acropolis.\n",
      " => (✗)\n"
     ]
    },
    {
     "name": "stderr",
     "output_type": "stream",
     "text": [
      " 82%|████████▏ | 290/352 [33:05<06:15,  6.05s/it]"
     ]
    },
    {
     "name": "stdout",
     "output_type": "stream",
     "text": [
      "2024-09-05 18:16:42 httpx INFO     HTTP Request: POST https://api.anthropic.com/v1/messages \"HTTP/1.1 200 OK\"\n",
      "2024-09-05 18:16:42 src.functional INFO     ['Tessa Virtue', 'Scott Moir'] <> figure skating | predicted:  figure skating - a sport where both Tessa Virtue and Scott Moir are known for.\n",
      " => (✓)\n"
     ]
    },
    {
     "name": "stderr",
     "output_type": "stream",
     "text": [
      " 83%|████████▎ | 291/352 [33:12<06:20,  6.24s/it]"
     ]
    },
    {
     "name": "stdout",
     "output_type": "stream",
     "text": [
      "2024-09-05 18:16:46 src.functional INFO     ['Beethoven', 'Amazon Rainforest'] <> none | predicted:  none - there is no connection between Beethoven and Amazon Rainforest.\n",
      " => (✗)\n"
     ]
    },
    {
     "name": "stderr",
     "output_type": "stream",
     "text": [
      " 83%|████████▎ | 292/352 [33:16<05:37,  5.63s/it]"
     ]
    },
    {
     "name": "stdout",
     "output_type": "stream",
     "text": [
      "2024-09-05 18:16:53 httpx INFO     HTTP Request: POST https://api.anthropic.com/v1/messages \"HTTP/1.1 200 OK\"\n",
      "2024-09-05 18:16:53 src.functional INFO     ['Superman', 'Black Bolt'] <> super hearing | predicted:  superhuman strength - a power that both Superman and Black Bolt possess.\n",
      " => (✗)\n"
     ]
    },
    {
     "name": "stderr",
     "output_type": "stream",
     "text": [
      " 83%|████████▎ | 293/352 [33:23<05:59,  6.09s/it]"
     ]
    },
    {
     "name": "stdout",
     "output_type": "stream",
     "text": [
      "2024-09-05 18:17:00 httpx INFO     HTTP Request: POST https://api.anthropic.com/v1/messages \"HTTP/1.1 200 OK\"\n",
      "2024-09-05 18:17:00 src.functional INFO     ['Elbphilharmonie', 'Allianz Arena'] <> Herzog & de Meuron | predicted:  architecture - both Elbphilharmonie and Allianz Arena are notable buildings with unique architectural designs.\n",
      " => (✓)\n"
     ]
    },
    {
     "name": "stderr",
     "output_type": "stream",
     "text": [
      " 84%|████████▎ | 294/352 [33:30<06:10,  6.38s/it]"
     ]
    },
    {
     "name": "stdout",
     "output_type": "stream",
     "text": [
      "2024-09-05 18:17:04 src.functional INFO     ['Statue of Liberty', 'Lionel Messi'] <> none | predicted:  none - there is no connection between Statue of Liberty and Lionel Messi.\n",
      " => (✗)\n"
     ]
    },
    {
     "name": "stderr",
     "output_type": "stream",
     "text": [
      " 84%|████████▍ | 295/352 [33:34<05:25,  5.71s/it]"
     ]
    },
    {
     "name": "stdout",
     "output_type": "stream",
     "text": [
      "2024-09-05 18:17:09 httpx INFO     HTTP Request: POST https://api.anthropic.com/v1/messages \"HTTP/1.1 200 OK\"\n",
      "2024-09-05 18:17:09 src.functional INFO     ['Wolverine', 'Deadpool'] <> healing factor | predicted:  X-Men - a comic book series where both Wolverine and Deadpool are characters.\n",
      " => (✓)\n"
     ]
    },
    {
     "name": "stderr",
     "output_type": "stream",
     "text": [
      " 84%|████████▍ | 296/352 [33:39<05:08,  5.51s/it]"
     ]
    },
    {
     "name": "stdout",
     "output_type": "stream",
     "text": [
      "2024-09-05 18:17:15 httpx INFO     HTTP Request: POST https://api.anthropic.com/v1/messages \"HTTP/1.1 200 OK\"\n",
      "2024-09-05 18:17:15 src.functional INFO     ['Marcel Hirscher', 'Alberto Tomba'] <> skiing | predicted:  skiing - a sport where both Marcel Hirscher and Alberto Tomba are known for.\n",
      " => (✓)\n"
     ]
    },
    {
     "name": "stderr",
     "output_type": "stream",
     "text": [
      " 84%|████████▍ | 297/352 [33:45<05:11,  5.66s/it]"
     ]
    },
    {
     "name": "stdout",
     "output_type": "stream",
     "text": [
      "2024-09-05 18:17:26 httpx INFO     HTTP Request: POST https://api.anthropic.com/v1/messages \"HTTP/1.1 200 OK\"\n",
      "2024-09-05 18:17:26 src.functional INFO     ['Anthony Hopkins', 'Alfred Hitchcock'] <> Hitchcock | predicted:  The Silence of the Lambs - a movie where Anthony Hopkins played the role of Hannibal Lecter, directed by Alfred Hitchcock.\n",
      " => (✗)\n"
     ]
    },
    {
     "name": "stderr",
     "output_type": "stream",
     "text": [
      " 85%|████████▍ | 298/352 [33:56<06:21,  7.06s/it]"
     ]
    },
    {
     "name": "stdout",
     "output_type": "stream",
     "text": [
      "2024-09-05 18:17:31 src.functional INFO     ['Wayne Gretzky', 'Mario Lemieux'] <> hockey | predicted:  hockey - a sport where both Wayne Gretzky and Mario Lemieux played professionally.\n",
      " => (✓)\n"
     ]
    },
    {
     "name": "stderr",
     "output_type": "stream",
     "text": [
      " 85%|████████▍ | 299/352 [34:01<05:41,  6.45s/it]"
     ]
    },
    {
     "name": "stdout",
     "output_type": "stream",
     "text": [
      "2024-09-05 18:17:36 httpx INFO     HTTP Request: POST https://api.anthropic.com/v1/messages \"HTTP/1.1 200 OK\"\n",
      "2024-09-05 18:17:36 src.functional INFO     ['Static Shock', 'Misaka Mikoto'] <> electricity manipulation | predicted:  superpowers - both Static Shock and Misaka Mikoto have superpowers.\n",
      " => (✓)\n"
     ]
    },
    {
     "name": "stderr",
     "output_type": "stream",
     "text": [
      " 85%|████████▌ | 300/352 [34:06<05:23,  6.23s/it]"
     ]
    },
    {
     "name": "stdout",
     "output_type": "stream",
     "text": [
      "2024-09-05 18:17:44 httpx INFO     HTTP Request: POST https://api.anthropic.com/v1/messages \"HTTP/1.1 200 OK\"\n",
      "2024-09-05 18:17:44 src.functional INFO     ['Seagram Building', 'Farnsworth House'] <> Ludwig Mies van der Rohe | predicted:  Ludwig Mies van der Rohe - who was the architect of both buildings Seagram Building and Farnsworth House.\n",
      " => (✓)\n"
     ]
    },
    {
     "name": "stderr",
     "output_type": "stream",
     "text": [
      " 86%|████████▌ | 301/352 [34:14<05:36,  6.60s/it]"
     ]
    },
    {
     "name": "stdout",
     "output_type": "stream",
     "text": [
      "2024-09-05 18:17:56 httpx INFO     HTTP Request: POST https://api.anthropic.com/v1/messages \"HTTP/1.1 200 OK\"\n",
      "2024-09-05 18:17:56 src.functional INFO     ['Nightcrawler', 'Goku'] <> teleportation | predicted:  teleportation - a superpower that both characters Nightcrawler and Goku possess.\n",
      " => (✗)\n"
     ]
    },
    {
     "name": "stderr",
     "output_type": "stream",
     "text": [
      " 86%|████████▌ | 302/352 [34:26<06:56,  8.34s/it]"
     ]
    },
    {
     "name": "stdout",
     "output_type": "stream",
     "text": [
      "2024-09-05 18:18:06 httpx INFO     HTTP Request: POST https://api.anthropic.com/v1/messages \"HTTP/1.1 200 OK\"\n",
      "2024-09-05 18:18:06 src.functional INFO     ['Japan National Stadium', 'V&A Dundee'] <> Kengo Kuma | predicted:  Zaha Hadid - who was the architect of both buildings Japan National Stadium and V&A Dundee.\n",
      " => (✗)\n"
     ]
    },
    {
     "name": "stderr",
     "output_type": "stream",
     "text": [
      " 86%|████████▌ | 303/352 [34:35<07:02,  8.62s/it]"
     ]
    },
    {
     "name": "stdout",
     "output_type": "stream",
     "text": [
      "2024-09-05 18:18:12 httpx INFO     HTTP Request: POST https://api.anthropic.com/v1/messages \"HTTP/1.1 200 OK\"\n",
      "2024-09-05 18:18:12 src.functional INFO     ['Thor', 'Wonder Woman'] <> alien warrior | predicted:  superheroes - both Thor and Wonder Woman are superheroes in their respective comic book universes.\n",
      " => (✓)\n"
     ]
    },
    {
     "name": "stderr",
     "output_type": "stream",
     "text": [
      " 86%|████████▋ | 304/352 [34:41<06:17,  7.86s/it]"
     ]
    },
    {
     "name": "stdout",
     "output_type": "stream",
     "text": [
      "2024-09-05 18:18:18 httpx INFO     HTTP Request: POST https://api.anthropic.com/v1/messages \"HTTP/1.1 200 OK\"\n",
      "2024-09-05 18:18:18 src.functional INFO     [\"Ra's al Ghul\", 'Vandal Savage'] <> immortal | predicted:  immortality - a trait that both characters Ra's al Ghul and Vandal Savage are known for.\n",
      " => (✓)\n"
     ]
    },
    {
     "name": "stderr",
     "output_type": "stream",
     "text": [
      " 87%|████████▋ | 305/352 [34:48<05:53,  7.53s/it]"
     ]
    },
    {
     "name": "stdout",
     "output_type": "stream",
     "text": [
      "2024-09-05 18:18:26 httpx INFO     HTTP Request: POST https://api.anthropic.com/v1/messages \"HTTP/1.1 200 OK\"\n",
      "2024-09-05 18:18:26 src.functional INFO     [\"O'Shea Jackson Jr.\", 'Ice Cube'] <> Straight Outta Compton | predicted:  Straight Outta Compton - a movie where O'Shea Jackson Jr. played the role of his father Ice Cube.\n",
      " => (✓)\n"
     ]
    },
    {
     "name": "stderr",
     "output_type": "stream",
     "text": [
      " 87%|████████▋ | 306/352 [34:56<05:46,  7.53s/it]"
     ]
    },
    {
     "name": "stdout",
     "output_type": "stream",
     "text": [
      "2024-09-05 18:18:30 src.functional INFO     ['Marilyn Monroe', 'Mount Fuji'] <> none | predicted:  none - there is no connection between Marilyn Monroe and Mount Fuji.\n",
      " => (✗)\n"
     ]
    },
    {
     "name": "stderr",
     "output_type": "stream",
     "text": [
      " 87%|████████▋ | 307/352 [35:00<04:50,  6.45s/it]"
     ]
    },
    {
     "name": "stdout",
     "output_type": "stream",
     "text": [
      "2024-09-05 18:18:38 httpx INFO     HTTP Request: POST https://api.anthropic.com/v1/messages \"HTTP/1.1 200 OK\"\n",
      "2024-09-05 18:18:38 src.functional INFO     ['Lindsey Vonn', 'Ingemar Stenmark'] <> skiing | predicted:  skiing - a sport where both Lindsey Vonn and Ingemar Stenmark are known for.\n",
      " => (✓)\n"
     ]
    },
    {
     "name": "stderr",
     "output_type": "stream",
     "text": [
      " 88%|████████▊ | 308/352 [35:08<05:05,  6.95s/it]"
     ]
    },
    {
     "name": "stdout",
     "output_type": "stream",
     "text": [
      "2024-09-05 18:18:44 httpx INFO     HTTP Request: POST https://api.anthropic.com/v1/messages \"HTTP/1.1 200 OK\"\n",
      "2024-09-05 18:18:44 src.functional INFO     ['Firestorm', 'Captain Atom'] <> radiation powers | predicted:  nuclear powers - an attribute that both characters Firestorm and Captain Atom possess.\n",
      " => (✓)\n"
     ]
    },
    {
     "name": "stderr",
     "output_type": "stream",
     "text": [
      " 88%|████████▊ | 309/352 [35:14<04:42,  6.57s/it]"
     ]
    },
    {
     "name": "stdout",
     "output_type": "stream",
     "text": [
      "2024-09-05 18:18:49 src.functional INFO     ['Muhammad Ali', 'Leaning Tower of Pisa'] <> none | predicted:  none - there is no connection between Muhammad Ali and Leaning Tower of Pisa.\n",
      " => (✗)\n"
     ]
    },
    {
     "name": "stderr",
     "output_type": "stream",
     "text": [
      " 88%|████████▊ | 310/352 [35:19<04:16,  6.12s/it]"
     ]
    },
    {
     "name": "stdout",
     "output_type": "stream",
     "text": [
      "2024-09-05 18:18:56 httpx INFO     HTTP Request: POST https://api.anthropic.com/v1/messages \"HTTP/1.1 200 OK\"\n",
      "2024-09-05 18:18:56 src.functional INFO     ['Mo Farah', 'Haile Gebrselassie'] <> athletics | predicted:  distance running - a sport where both Mo Farah and Haile Gebrselassie are known for.\n",
      " => (✓)\n"
     ]
    },
    {
     "name": "stderr",
     "output_type": "stream",
     "text": [
      " 88%|████████▊ | 311/352 [35:26<04:23,  6.43s/it]"
     ]
    },
    {
     "name": "stdout",
     "output_type": "stream",
     "text": [
      "2024-09-05 18:19:01 httpx INFO     HTTP Request: POST https://api.anthropic.com/v1/messages \"HTTP/1.1 200 OK\"\n",
      "2024-09-05 18:19:01 src.functional INFO     ['Russell Crowe', 'John Nash'] <> A Beautiful Mind | predicted:  A Beautiful Mind - a movie where Russell Crowe played the role of John Nash.\n",
      " => (✓)\n"
     ]
    },
    {
     "name": "stderr",
     "output_type": "stream",
     "text": [
      " 89%|████████▊ | 312/352 [35:31<04:07,  6.19s/it]"
     ]
    },
    {
     "name": "stdout",
     "output_type": "stream",
     "text": [
      "2024-09-05 18:19:07 src.functional INFO     ['Venom', 'Carnage'] <> symbiote host | predicted:  symbiotes - a type of alien life form that both Venom and Carnage are connected to.\n",
      " => (✓)\n"
     ]
    },
    {
     "name": "stderr",
     "output_type": "stream",
     "text": [
      " 89%|████████▉ | 313/352 [35:37<03:59,  6.13s/it]"
     ]
    },
    {
     "name": "stdout",
     "output_type": "stream",
     "text": [
      "2024-09-05 18:19:15 httpx INFO     HTTP Request: POST https://api.anthropic.com/v1/messages \"HTTP/1.1 200 OK\"\n",
      "2024-09-05 18:19:15 src.functional INFO     ['Kohei Uchimura', 'Vitaly Scherbo'] <> gymnastics | predicted:  gymnastics - a sport where both Kohei Uchimura and Vitaly Scherbo are known for.\n",
      " => (✓)\n"
     ]
    },
    {
     "name": "stderr",
     "output_type": "stream",
     "text": [
      " 89%|████████▉ | 314/352 [35:45<04:04,  6.44s/it]"
     ]
    },
    {
     "name": "stdout",
     "output_type": "stream",
     "text": [
      "2024-09-05 18:19:20 httpx INFO     HTTP Request: POST https://api.anthropic.com/v1/messages \"HTTP/1.1 200 OK\"\n",
      "2024-09-05 18:19:20 src.functional INFO     ['Stephen Curry', 'Kevin Durant'] <> basketball | predicted:  Golden State Warriors - a basketball team where both Stephen Curry and Kevin Durant have played.\n",
      " => (✓)\n"
     ]
    },
    {
     "name": "stderr",
     "output_type": "stream",
     "text": [
      " 89%|████████▉ | 315/352 [35:50<03:51,  6.27s/it]"
     ]
    },
    {
     "name": "stdout",
     "output_type": "stream",
     "text": [
      "2024-09-05 18:19:25 src.functional INFO     ['Galileo Galilei', 'Boomerang'] <> none | predicted:  none - there is no connection between Galileo Galilei and Boomerang.\n",
      " => (✗)\n"
     ]
    },
    {
     "name": "stderr",
     "output_type": "stream",
     "text": [
      " 90%|████████▉ | 316/352 [35:55<03:31,  5.87s/it]"
     ]
    },
    {
     "name": "stdout",
     "output_type": "stream",
     "text": [
      "2024-09-05 18:19:34 httpx INFO     HTTP Request: POST https://api.anthropic.com/v1/messages \"HTTP/1.1 200 OK\"\n",
      "2024-09-05 18:19:34 src.functional INFO     ['Taraji P. Henson', 'Katherine Johnson'] <> Hidden Figures | predicted:  Hidden Figures - a movie where both Taraji P. Henson and Katherine Johnson were featured.\n",
      " => (✗)\n"
     ]
    },
    {
     "name": "stderr",
     "output_type": "stream",
     "text": [
      " 90%|█████████ | 317/352 [36:04<03:52,  6.63s/it]"
     ]
    },
    {
     "name": "stdout",
     "output_type": "stream",
     "text": [
      "2024-09-05 18:19:38 src.functional INFO     ['Nelson Mandela', 'Stonehenge'] <> none | predicted:  none - there is no connection between Nelson Mandela and Stonehenge.\n",
      " => (✗)\n"
     ]
    },
    {
     "name": "stderr",
     "output_type": "stream",
     "text": [
      " 90%|█████████ | 318/352 [36:08<03:20,  5.89s/it]"
     ]
    },
    {
     "name": "stdout",
     "output_type": "stream",
     "text": [
      "2024-09-05 18:19:45 httpx INFO     HTTP Request: POST https://api.anthropic.com/v1/messages \"HTTP/1.1 200 OK\"\n",
      "2024-09-05 18:19:45 src.functional INFO     ['TWA Flight Center', 'Gateway Arch'] <> Eero Saarinen | predicted:  Eero Saarinen - who was the architect of both buildings TWA Flight Center and Gateway Arch.\n",
      " => (✓)\n"
     ]
    },
    {
     "name": "stderr",
     "output_type": "stream",
     "text": [
      " 91%|█████████ | 319/352 [36:15<03:23,  6.17s/it]"
     ]
    },
    {
     "name": "stdout",
     "output_type": "stream",
     "text": [
      "2024-09-05 18:19:52 httpx INFO     HTTP Request: POST https://api.anthropic.com/v1/messages \"HTTP/1.1 200 OK\"\n",
      "2024-09-05 18:19:52 src.functional INFO     ['Leonardo DiCaprio', 'Frank Abagnale Jr.'] <> Catch Me If You Can | predicted:  Catch Me If You Can - a movie where Leonardo DiCaprio played the role of Frank Abagnale Jr.\n",
      " => (✓)\n"
     ]
    },
    {
     "name": "stderr",
     "output_type": "stream",
     "text": [
      " 91%|█████████ | 320/352 [36:22<03:31,  6.59s/it]"
     ]
    },
    {
     "name": "stdout",
     "output_type": "stream",
     "text": [
      "2024-09-05 18:19:58 src.functional INFO     ['Pelé', 'Mona Lisa'] <> none | predicted:  Leonardo da Vinci - who painted the Mona Lisa and was also a friend of Pelé's father.\n",
      " => (✗)\n"
     ]
    },
    {
     "name": "stderr",
     "output_type": "stream",
     "text": [
      " 91%|█████████ | 321/352 [36:28<03:18,  6.41s/it]"
     ]
    },
    {
     "name": "stdout",
     "output_type": "stream",
     "text": [
      "2024-09-05 18:20:05 httpx INFO     HTTP Request: POST https://api.anthropic.com/v1/messages \"HTTP/1.1 200 OK\"\n",
      "2024-09-05 18:20:05 src.functional INFO     ['George C. Scott', 'General George S. Patton'] <> Patton | predicted:  George C. Scott played the role of General George S. Patton in the movie Patton.\n",
      " => (✓)\n"
     ]
    },
    {
     "name": "stderr",
     "output_type": "stream",
     "text": [
      " 91%|█████████▏| 322/352 [36:34<03:09,  6.32s/it]"
     ]
    },
    {
     "name": "stdout",
     "output_type": "stream",
     "text": [
      "2024-09-05 18:20:09 src.functional INFO     ['Bruce Lee', 'Stonehenge'] <> none | predicted:  none - there is no connection between Bruce Lee and Stonehenge.\n",
      " => (✗)\n"
     ]
    },
    {
     "name": "stderr",
     "output_type": "stream",
     "text": [
      " 92%|█████████▏| 323/352 [36:39<02:45,  5.71s/it]"
     ]
    },
    {
     "name": "stdout",
     "output_type": "stream",
     "text": [
      "2024-09-05 18:20:15 httpx INFO     HTTP Request: POST https://api.anthropic.com/v1/messages \"HTTP/1.1 200 OK\"\n",
      "2024-09-05 18:20:15 src.functional INFO     ['Human Torch', 'Zuko'] <> fire manipulation | predicted:  none - there is no connection between Human Torch and Zuko.\n",
      " => (✗)\n"
     ]
    },
    {
     "name": "stderr",
     "output_type": "stream",
     "text": [
      " 92%|█████████▏| 324/352 [36:45<02:46,  5.96s/it]"
     ]
    },
    {
     "name": "stdout",
     "output_type": "stream",
     "text": [
      "2024-09-05 18:20:20 httpx INFO     HTTP Request: POST https://api.anthropic.com/v1/messages \"HTTP/1.1 200 OK\"\n",
      "2024-09-05 18:20:20 src.functional INFO     ['Doctor Strange', 'Dialga'] <> time manipulation | predicted:  time manipulation - a power that both Doctor Strange and Dialga have.\n",
      " => (✓)\n"
     ]
    },
    {
     "name": "stderr",
     "output_type": "stream",
     "text": [
      " 92%|█████████▏| 325/352 [36:50<02:33,  5.67s/it]"
     ]
    },
    {
     "name": "stdout",
     "output_type": "stream",
     "text": [
      "2024-09-05 18:20:25 src.functional INFO     ['Winston Churchill', 'Machu Picchu'] <> none | predicted:  none - there is no connection between Winston Churchill and Machu Picchu.\n",
      " => (✗)\n"
     ]
    },
    {
     "name": "stderr",
     "output_type": "stream",
     "text": [
      " 93%|█████████▎| 326/352 [36:55<02:18,  5.32s/it]"
     ]
    },
    {
     "name": "stdout",
     "output_type": "stream",
     "text": [
      "2024-09-05 18:20:31 httpx INFO     HTTP Request: POST https://api.anthropic.com/v1/messages \"HTTP/1.1 200 OK\"\n",
      "2024-09-05 18:20:31 src.functional INFO     ['Bruce Banner', 'Lex Luthor'] <> super intelligence | predicted:  genius-level intellect - a characteristic that both characters Bruce Banner and Lex Luthor possess.\n",
      " => (✓)\n"
     ]
    },
    {
     "name": "stderr",
     "output_type": "stream",
     "text": [
      " 93%|█████████▎| 327/352 [37:01<02:17,  5.49s/it]"
     ]
    },
    {
     "name": "stdout",
     "output_type": "stream",
     "text": [
      "2024-09-05 18:20:38 httpx INFO     HTTP Request: POST https://api.anthropic.com/v1/messages \"HTTP/1.1 200 OK\"\n",
      "2024-09-05 18:20:38 src.functional INFO     ['Black Canary', 'Banshee'] <> sonic powers | predicted:  superhuman hearing - a superpower that both characters Black Canary and Banshee possess.\n",
      " => (✗)\n"
     ]
    },
    {
     "name": "stderr",
     "output_type": "stream",
     "text": [
      " 93%|█████████▎| 328/352 [37:08<02:24,  6.02s/it]"
     ]
    },
    {
     "name": "stdout",
     "output_type": "stream",
     "text": [
      "2024-09-05 18:20:44 httpx INFO     HTTP Request: POST https://api.anthropic.com/v1/messages \"HTTP/1.1 200 OK\"\n",
      "2024-09-05 18:20:44 src.functional INFO     ['Green Lantern', 'Star Sapphire'] <> energy construct | predicted:  Hal Jordan - a character who has been associated with both Green Lantern and Star Sapphire.\n",
      " => (✓)\n"
     ]
    },
    {
     "name": "stderr",
     "output_type": "stream",
     "text": [
      " 93%|█████████▎| 329/352 [37:14<02:15,  5.90s/it]"
     ]
    },
    {
     "name": "stdout",
     "output_type": "stream",
     "text": [
      "2024-09-05 18:20:49 httpx INFO     HTTP Request: POST https://api.anthropic.com/v1/messages \"HTTP/1.1 200 OK\"\n",
      "2024-09-05 18:20:49 src.functional INFO     ['Shang-Chi', 'Iron Fist'] <> martial artist | predicted:  Marvel Comics - both Shang-Chi and Iron Fist are characters from Marvel Comics.\n",
      " => (✓)\n"
     ]
    },
    {
     "name": "stderr",
     "output_type": "stream",
     "text": [
      " 94%|█████████▍| 330/352 [37:19<02:09,  5.90s/it]"
     ]
    },
    {
     "name": "stdout",
     "output_type": "stream",
     "text": [
      "2024-09-05 18:20:54 src.functional INFO     ['Dalai Lama', 'Statue of Liberty'] <> none | predicted:  freedom - a concept that both Dalai Lama and Statue of Liberty represent.\n",
      " => (✓)\n"
     ]
    },
    {
     "name": "stderr",
     "output_type": "stream",
     "text": [
      " 94%|█████████▍| 331/352 [37:24<01:55,  5.49s/it]"
     ]
    },
    {
     "name": "stdout",
     "output_type": "stream",
     "text": [
      "2024-09-05 18:20:59 src.functional INFO     ['Charlie Chaplin', 'Niagara Falls'] <> none | predicted:  City Lights - a movie where Charlie Chaplin filmed a scene at Niagara Falls.\n",
      " => (✗)\n"
     ]
    },
    {
     "name": "stderr",
     "output_type": "stream",
     "text": [
      " 94%|█████████▍| 332/352 [37:29<01:46,  5.32s/it]"
     ]
    },
    {
     "name": "stdout",
     "output_type": "stream",
     "text": [
      "2024-09-05 18:21:04 httpx INFO     HTTP Request: POST https://api.anthropic.com/v1/messages \"HTTP/1.1 200 OK\"\n",
      "2024-09-05 18:21:04 src.functional INFO     ['Michael Vaughan', 'Sourav Ganguly'] <> cricket | predicted:  cricket - a sport where both Michael Vaughan and Sourav Ganguly are known for.\n",
      " => (✓)\n"
     ]
    },
    {
     "name": "stderr",
     "output_type": "stream",
     "text": [
      " 95%|█████████▍| 333/352 [37:34<01:41,  5.37s/it]"
     ]
    },
    {
     "name": "stdout",
     "output_type": "stream",
     "text": [
      "2024-09-05 18:21:08 src.functional INFO     ['William Shakespeare', 'Sushi'] <> none | predicted:  none - there is no connection between William Shakespeare and Sushi.\n",
      " => (✗)\n"
     ]
    },
    {
     "name": "stderr",
     "output_type": "stream",
     "text": [
      " 95%|█████████▍| 334/352 [37:38<01:28,  4.92s/it]"
     ]
    },
    {
     "name": "stdout",
     "output_type": "stream",
     "text": [
      "2024-09-05 18:21:14 httpx INFO     HTTP Request: POST https://api.anthropic.com/v1/messages \"HTTP/1.1 200 OK\"\n",
      "2024-09-05 18:21:14 src.functional INFO     ['The Shard', 'Centre Georges Pompidou'] <> Renzo Piano | predicted:  architecture - both The Shard and Centre Georges Pompidou are notable buildings in their respective cities.\n",
      " => (✓)\n"
     ]
    },
    {
     "name": "stderr",
     "output_type": "stream",
     "text": [
      " 95%|█████████▌| 335/352 [37:44<01:29,  5.24s/it]"
     ]
    },
    {
     "name": "stdout",
     "output_type": "stream",
     "text": [
      "2024-09-05 18:21:22 httpx INFO     HTTP Request: POST https://api.anthropic.com/v1/messages \"HTTP/1.1 200 OK\"\n",
      "2024-09-05 18:21:22 src.functional INFO     ['Niterói Contemporary Art Museum', 'Cathedral of Brasília'] <> Oscar Niemeyer | predicted:  Oscar Niemeyer - who was the architect of both buildings Niterói Contemporary Art Museum and Cathedral of Brasília.\n",
      " => (✓)\n"
     ]
    },
    {
     "name": "stderr",
     "output_type": "stream",
     "text": [
      " 95%|█████████▌| 336/352 [37:52<01:35,  5.95s/it]"
     ]
    },
    {
     "name": "stdout",
     "output_type": "stream",
     "text": [
      "2024-09-05 18:21:26 src.functional INFO     ['Mona Lisa', 'Usain Bolt'] <> none | predicted:  none - there is no connection between Mona Lisa and Usain Bolt.\n",
      " => (✗)\n"
     ]
    },
    {
     "name": "stderr",
     "output_type": "stream",
     "text": [
      " 96%|█████████▌| 337/352 [37:56<01:22,  5.48s/it]"
     ]
    },
    {
     "name": "stdout",
     "output_type": "stream",
     "text": [
      "2024-09-05 18:21:32 httpx INFO     HTTP Request: POST https://api.anthropic.com/v1/messages \"HTTP/1.1 200 OK\"\n",
      "2024-09-05 18:21:32 src.functional INFO     ['Glass House', 'AT&T Building'] <> Philip Johnson | predicted:  Philip Johnson - who was the architect of both buildings Glass House and AT&T Building.\n",
      " => (✓)\n"
     ]
    },
    {
     "name": "stderr",
     "output_type": "stream",
     "text": [
      " 96%|█████████▌| 338/352 [38:02<01:18,  5.62s/it]"
     ]
    },
    {
     "name": "stdout",
     "output_type": "stream",
     "text": [
      "2024-09-05 18:21:39 httpx INFO     HTTP Request: POST https://api.anthropic.com/v1/messages \"HTTP/1.1 200 OK\"\n",
      "2024-09-05 18:21:39 src.functional INFO     ['Hawkeye', 'Green Arrow'] <> archer | predicted:  archery - a skill that both characters Hawkeye and Green Arrow are known for.\n",
      " => (✓)\n"
     ]
    },
    {
     "name": "stderr",
     "output_type": "stream",
     "text": [
      " 96%|█████████▋| 339/352 [38:09<01:16,  5.89s/it]"
     ]
    },
    {
     "name": "stdout",
     "output_type": "stream",
     "text": [
      "2024-09-05 18:21:47 httpx INFO     HTTP Request: POST https://api.anthropic.com/v1/messages \"HTTP/1.1 200 OK\"\n",
      "2024-09-05 18:21:47 src.functional INFO     ['Lindsey Vonn', 'Mikaela Shiffrin'] <> skiing | predicted:  alpine skiing - a sport where both Lindsey Vonn and Mikaela Shiffrin are professional skiers.\n",
      " => (✓)\n"
     ]
    },
    {
     "name": "stderr",
     "output_type": "stream",
     "text": [
      " 97%|█████████▋| 340/352 [38:17<01:17,  6.48s/it]"
     ]
    },
    {
     "name": "stdout",
     "output_type": "stream",
     "text": [
      "2024-09-05 18:21:53 httpx INFO     HTTP Request: POST https://api.anthropic.com/v1/messages \"HTTP/1.1 200 OK\"\n",
      "2024-09-05 18:21:53 src.functional INFO     ['Iceman', 'Killer Frost'] <> ice control | predicted:  DC Comics - both Iceman and Killer Frost are characters from DC Comics.\n",
      " => (✗)\n"
     ]
    },
    {
     "name": "stderr",
     "output_type": "stream",
     "text": [
      " 97%|█████████▋| 341/352 [38:23<01:11,  6.50s/it]"
     ]
    },
    {
     "name": "stdout",
     "output_type": "stream",
     "text": [
      "2024-09-05 18:22:01 httpx INFO     HTTP Request: POST https://api.anthropic.com/v1/messages \"HTTP/1.1 200 OK\"\n",
      "2024-09-05 18:22:01 src.functional INFO     ['Andrew Garfield', 'Eduardo Saverin'] <> The Social Network | predicted:  The Social Network - a movie where both Andrew Garfield and Eduardo Saverin appeared.\n",
      " => (✗)\n"
     ]
    },
    {
     "name": "stderr",
     "output_type": "stream",
     "text": [
      " 97%|█████████▋| 342/352 [38:31<01:09,  6.93s/it]"
     ]
    },
    {
     "name": "stdout",
     "output_type": "stream",
     "text": [
      "2024-09-05 18:22:12 src.functional INFO     ['Mahatma Gandhi', 'Eiffel Tower'] <> none | predicted:  none - there is no connection between Mahatma Gandhi and Eiffel Tower.\n",
      " => (✗)\n"
     ]
    },
    {
     "name": "stderr",
     "output_type": "stream",
     "text": [
      " 97%|█████████▋| 343/352 [38:42<01:12,  8.06s/it]"
     ]
    },
    {
     "name": "stdout",
     "output_type": "stream",
     "text": [
      "2024-09-05 18:22:18 httpx INFO     HTTP Request: POST https://api.anthropic.com/v1/messages \"HTTP/1.1 200 OK\"\n",
      "2024-09-05 18:22:18 src.functional INFO     ['Gary Oldman', 'Winston Churchill'] <> Darkest Hour | predicted:  Darkest Hour - a movie where Gary Oldman played the role of Winston Churchill.\n",
      " => (✓)\n"
     ]
    },
    {
     "name": "stderr",
     "output_type": "stream",
     "text": [
      " 98%|█████████▊| 344/352 [38:47<00:59,  7.38s/it]"
     ]
    },
    {
     "name": "stdout",
     "output_type": "stream",
     "text": [
      "2024-09-05 18:22:25 httpx INFO     HTTP Request: POST https://api.anthropic.com/v1/messages \"HTTP/1.1 200 OK\"\n",
      "2024-09-05 18:22:25 src.functional INFO     ['Poison Ivy', 'Daken'] <> pheromone control | predicted:  villainous characters - both Poison Ivy and Daken are known for their villainous roles in their respective stories.\n",
      " => (✓)\n"
     ]
    },
    {
     "name": "stderr",
     "output_type": "stream",
     "text": [
      " 98%|█████████▊| 345/352 [38:54<00:50,  7.27s/it]"
     ]
    },
    {
     "name": "stdout",
     "output_type": "stream",
     "text": [
      "2024-09-05 18:22:29 src.functional INFO     ['Walt Disney', 'Spaghetti'] <> none | predicted:  none - there is no connection between Walt Disney and Spaghetti.\n",
      " => (✗)\n"
     ]
    },
    {
     "name": "stderr",
     "output_type": "stream",
     "text": [
      " 98%|█████████▊| 346/352 [38:59<00:37,  6.32s/it]"
     ]
    },
    {
     "name": "stdout",
     "output_type": "stream",
     "text": [
      "2024-09-05 18:22:34 httpx INFO     HTTP Request: POST https://api.anthropic.com/v1/messages \"HTTP/1.1 200 OK\"\n",
      "2024-09-05 18:22:34 src.functional INFO     ['Reed Richards', 'Tony Stark'] <> genius inventor | predicted:  genius-level intellect - a characteristic that both Reed Richards and Tony Stark possess.\n",
      " => (✓)\n"
     ]
    },
    {
     "name": "stderr",
     "output_type": "stream",
     "text": [
      " 99%|█████████▊| 347/352 [39:04<00:30,  6.02s/it]"
     ]
    },
    {
     "name": "stdout",
     "output_type": "stream",
     "text": [
      "2024-09-05 18:22:41 httpx INFO     HTTP Request: POST https://api.anthropic.com/v1/messages \"HTTP/1.1 200 OK\"\n",
      "2024-09-05 18:22:41 src.functional INFO     ['Lin Dan', 'Lee Chong Wei'] <> badminton | predicted:  badminton - a sport where both Lin Dan and Lee Chong Wei are professional players.\n",
      " => (✓)\n"
     ]
    },
    {
     "name": "stderr",
     "output_type": "stream",
     "text": [
      " 99%|█████████▉| 348/352 [39:10<00:24,  6.17s/it]"
     ]
    },
    {
     "name": "stdout",
     "output_type": "stream",
     "text": [
      "2024-09-05 18:22:47 httpx INFO     HTTP Request: POST https://api.anthropic.com/v1/messages \"HTTP/1.1 200 OK\"\n",
      "2024-09-05 18:22:47 src.functional INFO     ['Marina Bay Sands', 'Habitat 67'] <> Moshe Safdie | predicted:  unique architecture - both Marina Bay Sands and Habitat 67 are known for their unique architectural designs.\n",
      " => (✓)\n"
     ]
    },
    {
     "name": "stderr",
     "output_type": "stream",
     "text": [
      " 99%|█████████▉| 349/352 [39:17<00:18,  6.31s/it]"
     ]
    },
    {
     "name": "stdout",
     "output_type": "stream",
     "text": [
      "2024-09-05 18:22:51 src.functional INFO     ['Freddie Mercury', 'Sahara Desert'] <> none | predicted:  none - there is no connection between Freddie Mercury and Sahara Desert.\n",
      " => (✗)\n"
     ]
    },
    {
     "name": "stderr",
     "output_type": "stream",
     "text": [
      " 99%|█████████▉| 350/352 [39:21<00:11,  5.65s/it]"
     ]
    },
    {
     "name": "stdout",
     "output_type": "stream",
     "text": [
      "2024-09-05 18:22:59 httpx INFO     HTTP Request: POST https://api.anthropic.com/v1/messages \"HTTP/1.1 200 OK\"\n",
      "2024-09-05 18:22:59 src.functional INFO     ['Allyson Felix', 'Jackie Joyner-Kersee'] <> athletics | predicted:  track and field - a sport where both Allyson Felix and Jackie Joyner-Kersee are known for.\n",
      " => (✓)\n"
     ]
    },
    {
     "name": "stderr",
     "output_type": "stream",
     "text": [
      "100%|█████████▉| 351/352 [39:29<00:06,  6.27s/it]"
     ]
    },
    {
     "name": "stdout",
     "output_type": "stream",
     "text": [
      "2024-09-05 18:23:10 httpx INFO     HTTP Request: POST https://api.anthropic.com/v1/messages \"HTTP/1.1 200 OK\"\n",
      "2024-09-05 18:23:10 src.functional INFO     ['Vision', 'Martian Manhunter'] <> density manipulation | predicted:  telepathy - a superpower that both characters Vision and Martian Manhunter possess.\n",
      " => (✗)\n"
     ]
    },
    {
     "name": "stderr",
     "output_type": "stream",
     "text": [
      "100%|██████████| 352/352 [39:39<00:00,  6.76s/it]"
     ]
    },
    {
     "name": "stdout",
     "output_type": "stream",
     "text": [
      "2024-09-05 18:23:10 src.functional INFO     filtered 206 samples out of 352 with 5 icl examples\n"
     ]
    },
    {
     "name": "stderr",
     "output_type": "stream",
     "text": [
      "\n"
     ]
    }
   ],
   "source": [
    "from src.functional import filter_bridge_samples_by_model_knowledge\n",
    "\n",
    "dataset = filter_bridge_samples_by_model_knowledge(mt, dataset)"
   ]
  },
  {
   "cell_type": "code",
   "execution_count": 26,
   "metadata": {},
   "outputs": [],
   "source": [
    "import datetime\n",
    "\n",
    "file_name = os.path.join(\n",
    "    env_utils.DEFAULT_DATA_DIR, \n",
    "    \"bridge_cached\", \n",
    "    f\"filtered_{datetime.datetime.now().isoformat()}.json\",\n",
    "    mt.name.split(\"/\")[-1]\n",
    ")\n",
    "\n",
    "with open(file_name, \"w\") as f:\n",
    "    f.write(dataset.to_json())"
   ]
  },
  {
   "cell_type": "code",
   "execution_count": 27,
   "metadata": {},
   "outputs": [],
   "source": [
    "# loaded = BridgeDataset.from_json(file_name)"
   ]
  },
  {
   "cell_type": "code",
   "execution_count": 28,
   "metadata": {},
   "outputs": [
    {
     "name": "stdout",
     "output_type": "stream",
     "text": [
      "2024-09-05 19:11:59 src.dataset INFO     initialized bridge relation superpower_characters with 79 examples\n",
      "2024-09-05 19:11:59 src.dataset INFO     initialized bridge relation sport_players with 60 examples\n"
     ]
    },
    {
     "name": "stdout",
     "output_type": "stream",
     "text": [
      "2024-09-05 19:11:59 src.dataset INFO     initialized bridge relation movie_actor with 70 examples\n",
      "2024-09-05 19:11:59 src.dataset INFO     initialized bridge relation architect_building with 42 examples\n",
      "2024-09-05 19:11:59 src.dataset INFO     initialized bridge relation none with 101 examples\n",
      "2024-09-05 19:11:59 src.dataset INFO     initialized bridge dataset with 5 relations and 206 examples\n"
     ]
    }
   ],
   "source": [
    "import json\n",
    "with open(file_name, \"r\") as f:\n",
    "    json_data = json.load(f)\n",
    "loaded_dataset = BridgeDataset.from_dict(json_data)"
   ]
  },
  {
   "cell_type": "code",
   "execution_count": 30,
   "metadata": {},
   "outputs": [
    {
     "name": "stdout",
     "output_type": "stream",
     "text": [
      "superpower_characters --> 79 examples\n",
      "sport_players --> 60 examples\n",
      "movie_actor --> 70 examples\n",
      "architect_building --> 42 examples\n",
      "none --> 101 examples\n"
     ]
    }
   ],
   "source": [
    "import json\n",
    "import os\n",
    "from tqdm.auto import tqdm\n",
    "\n",
    "file_name = \"filtered_2024-09-05T19:11:51.513919.json\"\n",
    "cached_known_dir = os.path.join(\n",
    "    env_utils.DEFAULT_DATA_DIR, \"bridge_cached\", \"Meta-Llama-3-8B-Instruct\"\n",
    ")\n",
    "with open(os.path.join(cached_known_dir, file_name), \"r\") as f:\n",
    "    json_data = json.load(f)\n",
    "\n",
    "for relation in json_data[\"relations\"]:\n",
    "    print(f'{relation[\"name\"]} --> {len(relation[\"examples\"])} examples')"
   ]
  },
  {
   "cell_type": "code",
   "execution_count": 31,
   "metadata": {},
   "outputs": [
    {
     "name": "stdout",
     "output_type": "stream",
     "text": [
      "superpower_characters\n"
     ]
    },
    {
     "name": "stderr",
     "output_type": "stream",
     "text": [
      "100%|██████████| 79/79 [00:00<00:00, 260495.30it/s]\n"
     ]
    },
    {
     "name": "stdout",
     "output_type": "stream",
     "text": [
      "sport_players\n"
     ]
    },
    {
     "name": "stderr",
     "output_type": "stream",
     "text": [
      "100%|██████████| 60/60 [00:00<00:00, 330694.14it/s]\n"
     ]
    },
    {
     "name": "stdout",
     "output_type": "stream",
     "text": [
      "movie_actor\n"
     ]
    },
    {
     "name": "stderr",
     "output_type": "stream",
     "text": [
      "100%|██████████| 70/70 [00:00<00:00, 204457.72it/s]\n"
     ]
    },
    {
     "name": "stdout",
     "output_type": "stream",
     "text": [
      "architect_building\n"
     ]
    },
    {
     "name": "stderr",
     "output_type": "stream",
     "text": [
      "100%|██████████| 42/42 [00:00<00:00, 191687.45it/s]\n"
     ]
    },
    {
     "name": "stdout",
     "output_type": "stream",
     "text": [
      "none\n"
     ]
    },
    {
     "name": "stderr",
     "output_type": "stream",
     "text": [
      "100%|██████████| 101/101 [00:00<00:00, 154494.79it/s]"
     ]
    },
    {
     "name": "stdout",
     "output_type": "stream",
     "text": [
      "superpower_characters --> 47 examples\n",
      "sport_players --> 60 examples\n",
      "movie_actor --> 59 examples\n",
      "architect_building --> 36 examples\n",
      "none --> 4 examples\n"
     ]
    },
    {
     "name": "stderr",
     "output_type": "stream",
     "text": [
      "\n"
     ]
    }
   ],
   "source": [
    "known = json_data[\"examples\"] + [\"icl_examples\"]\n",
    "\n",
    "for relation in json_data[\"relations\"]:\n",
    "    known_examples = []\n",
    "    print(relation[\"name\"])\n",
    "    for examples in tqdm(relation[\"examples\"]):\n",
    "        if examples in known:\n",
    "            known_examples.append(examples)\n",
    "    relation[\"examples\"] = known_examples\n",
    "\n",
    "for relation in json_data[\"relations\"]:\n",
    "    print(f'{relation[\"name\"]} --> {len(relation[\"examples\"])} examples')"
   ]
  },
  {
   "cell_type": "code",
   "execution_count": 20,
   "metadata": {},
   "outputs": [],
   "source": [
    "import datetime\n",
    "\n",
    "file_name = os.path.join(\n",
    "    env_utils.DEFAULT_DATA_DIR, \n",
    "    \"bridge_cached\", \n",
    "    f\"filtered_{datetime.datetime.now().isoformat()}.json\"\n",
    ")\n",
    "\n",
    "with open(file_name, \"w\") as f:\n",
    "    json.dump(json_data, f)"
   ]
  },
  {
   "cell_type": "code",
   "execution_count": null,
   "metadata": {},
   "outputs": [],
   "source": [
    "import json\n",
    "\n",
    "\n",
    "file_name = \"filtered_2024-07-30T17:30:08.336365.json\"\n",
    "cached_known_dir = os.path.join(\n",
    "    env_utils.DEFAULT_DATA_DIR, \"bridge_cached\", \"Meta-Llama-3-8B-Instruct\"\n",
    ")\n",
    "with open(os.path.join(cached_known_dir, file_name), \"r\") as f:\n",
    "    json_data = json.load(f)\n",
    "dataset = BridgeDataset.from_dict(json_data)"
   ]
  },
  {
   "cell_type": "code",
   "execution_count": null,
   "metadata": {},
   "outputs": [],
   "source": [
    "from src.dataset import BridgeRelation\n",
    "relation = BridgeRelation.from_dict(json_data[\"relations\"][0])\n",
    "dataset = BridgeDataset([relation])"
   ]
  }
 ],
 "metadata": {
  "kernelspec": {
   "display_name": "retrieval",
   "language": "python",
   "name": "python3"
  },
  "language_info": {
   "codemirror_mode": {
    "name": "ipython",
    "version": 3
   },
   "file_extension": ".py",
   "mimetype": "text/x-python",
   "name": "python",
   "nbconvert_exporter": "python",
   "pygments_lexer": "ipython3",
   "version": "3.11.9"
  }
 },
 "nbformat": 4,
 "nbformat_minor": 2
}
