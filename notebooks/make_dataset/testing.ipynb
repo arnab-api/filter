{
 "cells": [
  {
   "cell_type": "code",
   "execution_count": 1,
   "metadata": {},
   "outputs": [],
   "source": [
    "%load_ext autoreload\n",
    "%autoreload 2"
   ]
  },
  {
   "cell_type": "code",
   "execution_count": 2,
   "metadata": {},
   "outputs": [
    {
     "name": "stderr",
     "output_type": "stream",
     "text": [
      "/home/local_arnab/miniconda3/envs/retrieval/lib/python3.11/site-packages/tqdm/auto.py:21: TqdmWarning: IProgress not found. Please update jupyter and ipywidgets. See https://ipywidgets.readthedocs.io/en/stable/user_install.html\n",
      "  from .autonotebook import tqdm as notebook_tqdm\n"
     ]
    },
    {
     "name": "stdout",
     "output_type": "stream",
     "text": [
      "2024-09-06 11:20:48 __main__ INFO     torch.__version__='2.3.1', torch.version.cuda='12.1'\n",
      "2024-09-06 11:20:48 __main__ INFO     torch.cuda.is_available()=True, torch.cuda.device_count()=1, torch.cuda.get_device_name()='NVIDIA RTX A6000'\n",
      "2024-09-06 11:20:48 __main__ INFO     transformers.__version__='4.44.2'\n"
     ]
    }
   ],
   "source": [
    "import os\n",
    "from tqdm.auto import tqdm\n",
    "\n",
    "import sys\n",
    "sys.path.append(\"../../\")\n",
    "import os\n",
    "\n",
    "import logging\n",
    "from src.utils import logging_utils\n",
    "from src.utils import env_utils, experiment_utils\n",
    "from src import functional\n",
    "\n",
    "logger = logging.getLogger(__name__)\n",
    "\n",
    "logging.basicConfig(\n",
    "    level=logging.INFO,\n",
    "    format=logging_utils.DEFAULT_FORMAT,\n",
    "    datefmt=logging_utils.DEFAULT_DATEFMT,\n",
    "    stream=sys.stdout,\n",
    ")\n",
    "\n",
    "import torch\n",
    "import transformers\n",
    "\n",
    "logger.info(f\"{torch.__version__=}, {torch.version.cuda=}\")\n",
    "logger.info(f\"{torch.cuda.is_available()=}, {torch.cuda.device_count()=}, {torch.cuda.get_device_name()=}\")\n",
    "logger.info(f\"{transformers.__version__=}\")"
   ]
  },
  {
   "cell_type": "code",
   "execution_count": 3,
   "metadata": {},
   "outputs": [],
   "source": [
    "from dataclasses_json import DataClassJsonMixin\n",
    "from dataclasses import dataclass, field, fields\n",
    "from typing import Optional\n",
    "import random\n",
    "from src.dataset import BridgeSample, BridgeRelation, BridgeDataset\n",
    "from src.dataset import load_bridge_relation, load_bridge_relations, load_bridge_dataset        "
   ]
  },
  {
   "cell_type": "code",
   "execution_count": 4,
   "metadata": {},
   "outputs": [
    {
     "name": "stdout",
     "output_type": "stream",
     "text": [
      "2024-09-06 11:20:50 src.utils.experiment_utils INFO     setting all seeds to 123456\n",
      "2024-09-06 11:20:50 src.dataset INFO     initialized bridge relation superpower_characters with 80 examples\n",
      "2024-09-06 11:20:50 src.dataset INFO     initialized bridge relation sport_players with 61 examples\n",
      "2024-09-06 11:20:50 src.dataset INFO     initialized bridge relation movie_actor with 71 examples\n",
      "2024-09-06 11:20:50 src.dataset INFO     initialized bridge relation architect_building with 43 examples\n",
      "2024-09-06 11:20:50 src.dataset INFO     initialized bridge relation none with 102 examples\n",
      "2024-09-06 11:20:50 src.dataset INFO     initialized bridge dataset with 5 relations and 352 examples\n"
     ]
    }
   ],
   "source": [
    "experiment_utils.set_seed(123456)\n",
    "relations = load_bridge_relations()\n",
    "dataset = BridgeDataset(relations)"
   ]
  },
  {
   "cell_type": "code",
   "execution_count": 5,
   "metadata": {},
   "outputs": [
    {
     "data": {
      "text/plain": [
       "5"
      ]
     },
     "execution_count": 5,
     "metadata": {},
     "output_type": "execute_result"
    }
   ],
   "source": [
    "len(dataset.relations)"
   ]
  },
  {
   "cell_type": "code",
   "execution_count": 6,
   "metadata": {},
   "outputs": [
    {
     "name": "stdout",
     "output_type": "stream",
     "text": [
      "Given two entities, find a common link between them.\n",
      "#\n",
      "What is a common link between Michelle Williams and Marilyn Monroe?\n",
      "A: My Week with Marilyn - a movie where Michelle Williams played the role of Marilyn Monroe.\n",
      "#\n",
      "What is a common link between Fallingwater and Guggenheim Museum?\n",
      "A: Frank Lloyd Wright - who was the architect of both buildings Fallingwater and Guggenheim Museum.\n",
      "#\n",
      "What is a common link between Roger Federer and Rafael Nadal?\n",
      "A: tennis - a sport where both Roger Federer and Rafael Nadal are known for.\n",
      "#\n",
      "What is a common link between Charles Darwin and Flamenco?\n",
      "A: none - there is no connection between Charles Darwin and Flamenco.\n",
      "#\n",
      "What is a common link between Mr. Fantastic and Elastigirl?\n",
      "A: elastic powers - an attribute that both characters Mr. Fantastic and Elastigirl possess.\n",
      "#\n",
      "What is a common link between Invisible Woman and Violet Parr?\n",
      "A:\n",
      "force field - an attribute that both characters Invisible Woman and Violet Parr possess.\n"
     ]
    }
   ],
   "source": [
    "sample_idx = 12\n",
    "question,answer = dataset[sample_idx]\n",
    "\n",
    "print(question)\n",
    "print(answer)"
   ]
  },
  {
   "cell_type": "code",
   "execution_count": 7,
   "metadata": {},
   "outputs": [
    {
     "name": "stdout",
     "output_type": "stream",
     "text": [
      "2024-09-06 11:20:54 accelerate.utils.modeling INFO     We will use 90% of the memory on device 0 for storing the model, and 10% for the buffer to avoid OOM. You can set `max_memory` in to a higher value to use more memory (at your own risk).\n"
     ]
    },
    {
     "name": "stderr",
     "output_type": "stream",
     "text": [
      "Loading checkpoint shards: 100%|██████████| 4/4 [00:05<00:00,  1.29s/it]"
     ]
    },
    {
     "name": "stdout",
     "output_type": "stream",
     "text": [
      "2024-09-06 11:20:59 src.models INFO     loaded model </home/local_arnab/Codes/00_MODEL/meta-llama/Meta-Llama-3-8B-Instruct> | size: 15316.516 MB | dtype: torch.float16 | device: cuda:0\n"
     ]
    },
    {
     "name": "stderr",
     "output_type": "stream",
     "text": [
      "\n"
     ]
    }
   ],
   "source": [
    "import torch\n",
    "\n",
    "from nnsight import LanguageModel\n",
    "from src.models import ModelandTokenizer\n",
    "\n",
    "# model_key = \"meta-llama/Meta-Llama-3-8B\"\n",
    "model_key = \"meta-llama/Meta-Llama-3-8B-Instruct\"\n",
    "# model_key = \"google/gemma-2-9b-it\"\n",
    "# model_key = \"google/gemma-2-27b-it\"\n",
    "# model_key = \"Qwen/Qwen2-7B\"\n",
    "\n",
    "mt = ModelandTokenizer(\n",
    "    model_key=model_key,\n",
    "    torch_dtype=torch.float16,\n",
    ")"
   ]
  },
  {
   "cell_type": "code",
   "execution_count": 12,
   "metadata": {},
   "outputs": [
    {
     "name": "stderr",
     "output_type": "stream",
     "text": [
      "You're using a PreTrainedTokenizerFast tokenizer. Please note that with a fast tokenizer, using the `__call__` method is faster than using a method to encode the text followed by a call to the `pad` method to get a padded encoding.\n",
      "We detected that you are passing `past_key_values` as a tuple and this is deprecated and will be removed in v4.43. Please use an appropriate `Cache` class (https://huggingface.co/docs/transformers/v4.41.3/en/internal/generation_utils#transformers.Cache)\n"
     ]
    },
    {
     "data": {
      "text/plain": [
       "' superpowers - both Invisible Woman and Violet Parr have superpowers.\\n'"
      ]
     },
     "execution_count": 12,
     "metadata": {},
     "output_type": "execute_result"
    }
   ],
   "source": [
    "from src.functional import predict_bridge_entity\n",
    "\n",
    "predicted_ans = predict_bridge_entity(mt, question)\n",
    "predicted_ans"
   ]
  },
  {
   "cell_type": "code",
   "execution_count": 15,
   "metadata": {},
   "outputs": [
    {
     "data": {
      "text/plain": [
       "\"No. While it's true that both Invisible Woman and Violet Parr have superpowers, this is not the most specific or notable common link between them. The key connection is that they both have the power of invisibility as their primary superpower. Additionally, both characters can create force fields. These specific shared abilities are a much more precise and relevant link between the two characters than the general fact that they have superpowers.\""
      ]
     },
     "execution_count": 15,
     "metadata": {},
     "output_type": "execute_result"
    }
   ],
   "source": [
    "from src.functional import verify_bridge_response\n",
    "\n",
    "query_sample = dataset.examples[sample_idx]\n",
    "verify_bridge_response(query_sample, predicted_ans)"
   ]
  },
  {
   "cell_type": "code",
   "execution_count": 16,
   "metadata": {},
   "outputs": [
    {
     "name": "stderr",
     "output_type": "stream",
     "text": [
      "  0%|          | 0/352 [00:00<?, ?it/s]"
     ]
    },
    {
     "name": "stdout",
     "output_type": "stream",
     "text": [
      "2024-09-06 00:16:10 src.functional INFO     ['Doctor Strange', 'Zatanna'] <> magic user | predicted:  magic - a theme that both Doctor Strange and Zatanna are associated with.\n",
      " => (✓)\n"
     ]
    },
    {
     "name": "stderr",
     "output_type": "stream",
     "text": [
      "  0%|          | 1/352 [00:04<27:21,  4.68s/it]"
     ]
    },
    {
     "name": "stdout",
     "output_type": "stream",
     "text": [
      "2024-09-06 00:16:15 src.functional INFO     ['Sonic the Hedgehog', 'The Flash'] <> super speed | predicted:  speed - a superpower that both characters Sonic the Hedgehog and The Flash possess.\n",
      " => (✓)\n"
     ]
    },
    {
     "name": "stderr",
     "output_type": "stream",
     "text": [
      "  1%|          | 2/352 [00:09<28:29,  4.88s/it]"
     ]
    },
    {
     "name": "stdout",
     "output_type": "stream",
     "text": [
      "2024-09-06 00:16:21 src.functional INFO     ['Jim Carrey', 'Andy Kaufman'] <> Man on the Moon | predicted:  impersonation - both Jim Carrey and Andy Kaufman were known for their impersonation skills.\n",
      " => (✗)\n"
     ]
    },
    {
     "name": "stderr",
     "output_type": "stream",
     "text": [
      "  1%|          | 3/352 [00:15<30:09,  5.19s/it]"
     ]
    },
    {
     "name": "stdout",
     "output_type": "stream",
     "text": [
      "2024-09-06 00:16:25 src.functional INFO     ['Babe Ruth', 'Hank Aaron'] <> baseball | predicted:  baseball - a sport where both Babe Ruth and Hank Aaron played.\n",
      " => (✓)\n"
     ]
    },
    {
     "name": "stderr",
     "output_type": "stream",
     "text": [
      "  1%|          | 4/352 [00:19<28:16,  4.88s/it]"
     ]
    },
    {
     "name": "stdout",
     "output_type": "stream",
     "text": [
      "2024-09-06 00:16:31 src.functional INFO     ['Leonardo DiCaprio', 'J. Edgar Hoover'] <> J. Edgar | predicted:  J. Edgar - a movie where Leonardo DiCaprio played the role of J. Edgar Hoover.\n",
      " => (✓)\n"
     ]
    },
    {
     "name": "stderr",
     "output_type": "stream",
     "text": [
      "  1%|▏         | 5/352 [00:25<30:09,  5.21s/it]"
     ]
    },
    {
     "name": "stdout",
     "output_type": "stream",
     "text": [
      "2024-09-06 00:16:38 src.functional INFO     ['John Hurt', 'Joseph Merrick'] <> The Elephant Man | predicted:  The Elephant Man - a movie where John Hurt played the role of Dr. Frederick Treves, who treated Joseph Merrick.\n",
      " => (✗)\n"
     ]
    },
    {
     "name": "stderr",
     "output_type": "stream",
     "text": [
      "  2%|▏         | 6/352 [00:32<33:55,  5.88s/it]"
     ]
    },
    {
     "name": "stdout",
     "output_type": "stream",
     "text": [
      "2024-09-06 00:16:44 src.functional INFO     ['Centre Pompidou', \"Lloyd's building\"] <> Richard Rogers | predicted:  Richard Rogers - who was the architect of both buildings Centre Pompidou and Lloyd's building.\n",
      " => (✓)\n"
     ]
    },
    {
     "name": "stderr",
     "output_type": "stream",
     "text": [
      "  2%|▏         | 7/352 [00:38<34:12,  5.95s/it]"
     ]
    },
    {
     "name": "stdout",
     "output_type": "stream",
     "text": [
      "2024-09-06 00:16:50 src.functional INFO     ['New Museum', 'Rolex Learning Center'] <> SANAA | predicted:  Herzog & de Meuron - an architectural firm that designed both buildings New Museum and Rolex Learning Center.\n",
      " => (✗)\n"
     ]
    },
    {
     "name": "stderr",
     "output_type": "stream",
     "text": [
      "  2%|▏         | 8/352 [00:44<34:23,  6.00s/it]"
     ]
    },
    {
     "name": "stdout",
     "output_type": "stream",
     "text": [
      "2024-09-06 00:16:55 src.functional INFO     ['Dalai Lama', 'Statue of Liberty'] <> none | predicted:  freedom - a concept that both Dalai Lama and Statue of Liberty represent.\n",
      " => (✓)\n"
     ]
    },
    {
     "name": "stderr",
     "output_type": "stream",
     "text": [
      "  3%|▎         | 9/352 [00:49<31:29,  5.51s/it]"
     ]
    },
    {
     "name": "stdout",
     "output_type": "stream",
     "text": [
      "2024-09-06 00:17:01 src.functional INFO     ['Seattle Central Library', 'CCTV Headquarters'] <> Rem Koolhaas | predicted:  Rem Koolhaas - who was the architect of both buildings Seattle Central Library and CCTV Headquarters.\n",
      " => (✓)\n"
     ]
    },
    {
     "name": "stderr",
     "output_type": "stream",
     "text": [
      "  3%|▎         | 10/352 [00:55<32:00,  5.61s/it]"
     ]
    },
    {
     "name": "stdout",
     "output_type": "stream",
     "text": [
      "2024-09-06 00:17:06 src.functional INFO     ['Floyd Mayweather', 'Manny Pacquiao'] <> boxing | predicted:  boxing - a sport where both Floyd Mayweather and Manny Pacquiao are professional boxers.\n",
      " => (✓)\n"
     ]
    },
    {
     "name": "stderr",
     "output_type": "stream",
     "text": [
      "  3%|▎         | 11/352 [01:01<32:26,  5.71s/it]"
     ]
    },
    {
     "name": "stdout",
     "output_type": "stream",
     "text": [
      "2024-09-06 00:17:11 src.functional INFO     ['Usain Bolt', 'Carl Lewis'] <> athletics | predicted:  sprinting - a sport where both Usain Bolt and Carl Lewis have excelled.\n",
      " => (✓)\n"
     ]
    },
    {
     "name": "stderr",
     "output_type": "stream",
     "text": [
      "  3%|▎         | 12/352 [01:06<31:04,  5.48s/it]"
     ]
    },
    {
     "name": "stdout",
     "output_type": "stream",
     "text": [
      "2024-09-06 00:17:15 src.functional INFO     ['Invisible Woman', 'Violet Parr'] <> force field | predicted:  superpowers - both Invisible Woman and Violet Parr have superpowers.\n",
      " => (✗)\n"
     ]
    },
    {
     "name": "stderr",
     "output_type": "stream",
     "text": [
      "  4%|▎         | 13/352 [01:09<28:12,  4.99s/it]"
     ]
    },
    {
     "name": "stdout",
     "output_type": "stream",
     "text": [
      "2024-09-06 00:17:20 src.functional INFO     ['Amelia Earhart', 'Haggis'] <> none | predicted:  none - there is no connection between Amelia Earhart and Haggis.\n",
      " => (✓)\n"
     ]
    },
    {
     "name": "stderr",
     "output_type": "stream",
     "text": [
      "  4%|▍         | 14/352 [01:14<27:07,  4.82s/it]"
     ]
    },
    {
     "name": "stdout",
     "output_type": "stream",
     "text": [
      "2024-09-06 00:17:27 src.functional INFO     ['Church of the Light', 'Chichu Art Museum'] <> Tadao Ando | predicted:  Tadao Ando - who was the architect of both buildings Church of the Light and Chichu Art Museum.\n",
      " => (✓)\n"
     ]
    },
    {
     "name": "stderr",
     "output_type": "stream",
     "text": [
      "  4%|▍         | 15/352 [01:21<30:38,  5.46s/it]"
     ]
    },
    {
     "name": "stdout",
     "output_type": "stream",
     "text": [
      "2024-09-06 00:17:32 src.functional INFO     ['Ben Kingsley', 'Mahatma Gandhi'] <> Gandhi | predicted:  Gandhi - a movie where Ben Kingsley played the role of Mahatma Gandhi.\n",
      " => (✓)\n"
     ]
    },
    {
     "name": "stderr",
     "output_type": "stream",
     "text": [
      "  5%|▍         | 16/352 [01:26<30:59,  5.53s/it]"
     ]
    },
    {
     "name": "stdout",
     "output_type": "stream",
     "text": [
      "2024-09-06 00:17:37 src.functional INFO     ['Michael Jordan', 'LeBron James'] <> basketball | predicted:  basketball - a sport where both Michael Jordan and LeBron James are known for.\n",
      " => (✓)\n"
     ]
    },
    {
     "name": "stderr",
     "output_type": "stream",
     "text": [
      "  5%|▍         | 17/352 [01:31<29:03,  5.20s/it]"
     ]
    },
    {
     "name": "stdout",
     "output_type": "stream",
     "text": [
      "2024-09-06 00:17:42 src.functional INFO     ['Oprah Winfrey', 'Colosseum'] <> none | predicted:  none - there is no connection between Oprah Winfrey and Colosseum.\n",
      " => (✓)\n"
     ]
    },
    {
     "name": "stderr",
     "output_type": "stream",
     "text": [
      "  5%|▌         | 18/352 [01:36<28:12,  5.07s/it]"
     ]
    },
    {
     "name": "stdout",
     "output_type": "stream",
     "text": [
      "2024-09-06 00:17:48 src.functional INFO     ['Rami Malek', 'Freddie Mercury'] <> Bohemian Rhapsody | predicted:  Bohemian Rhapsody - a movie where Rami Malek played the role of Freddie Mercury.\n",
      " => (✓)\n"
     ]
    },
    {
     "name": "stderr",
     "output_type": "stream",
     "text": [
      "  5%|▌         | 19/352 [01:42<29:57,  5.40s/it]"
     ]
    },
    {
     "name": "stdout",
     "output_type": "stream",
     "text": [
      "2024-09-06 00:17:53 src.functional INFO     ['Zinedine Zidane', 'Ronaldinho'] <> soccer | predicted:  soccer - a sport where both Zinedine Zidane and Ronaldinho are known for.\n",
      " => (✓)\n"
     ]
    },
    {
     "name": "stderr",
     "output_type": "stream",
     "text": [
      "  6%|▌         | 20/352 [01:47<30:11,  5.46s/it]"
     ]
    },
    {
     "name": "stdout",
     "output_type": "stream",
     "text": [
      "2024-09-06 00:17:57 src.functional INFO     ['Pablo Picasso', 'Koala'] <> none | predicted:  none - there is no connection between Pablo Picasso and Koala.\n",
      " => (✓)\n"
     ]
    },
    {
     "name": "stderr",
     "output_type": "stream",
     "text": [
      "  6%|▌         | 21/352 [01:51<27:33,  5.00s/it]"
     ]
    },
    {
     "name": "stdout",
     "output_type": "stream",
     "text": [
      "2024-09-06 00:18:02 src.functional INFO     ['Marilyn Monroe', 'Mount Fuji'] <> none | predicted:  none - there is no connection between Marilyn Monroe and Mount Fuji.\n",
      " => (✓)\n"
     ]
    },
    {
     "name": "stderr",
     "output_type": "stream",
     "text": [
      "  6%|▋         | 22/352 [01:56<26:58,  4.90s/it]"
     ]
    },
    {
     "name": "stdout",
     "output_type": "stream",
     "text": [
      "2024-09-06 00:18:08 src.functional INFO     ['Zhang Jike', 'Timo Boll'] <> table tennis | predicted:  table tennis - a sport where both Zhang Jike and Timo Boll are professional players.\n",
      " => (✓)\n"
     ]
    },
    {
     "name": "stderr",
     "output_type": "stream",
     "text": [
      "  7%|▋         | 23/352 [02:02<28:02,  5.11s/it]"
     ]
    },
    {
     "name": "stdout",
     "output_type": "stream",
     "text": [
      "2024-09-06 00:18:12 src.functional INFO     ['Vandal Savage', 'Apocalypse'] <> immortality | predicted:  immortality - a trait that both characters Vandal Savage and Apocalypse possess.\n",
      " => (✓)\n"
     ]
    },
    {
     "name": "stderr",
     "output_type": "stream",
     "text": [
      "  7%|▋         | 24/352 [02:06<26:55,  4.92s/it]"
     ]
    },
    {
     "name": "stdout",
     "output_type": "stream",
     "text": [
      "2024-09-06 00:18:16 src.functional INFO     ['Cleopatra', 'Volkswagen Beetle'] <> none | predicted:  none - there is no connection between Cleopatra and Volkswagen Beetle.\n",
      " => (✓)\n"
     ]
    },
    {
     "name": "stderr",
     "output_type": "stream",
     "text": [
      "  7%|▋         | 25/352 [02:10<25:40,  4.71s/it]"
     ]
    },
    {
     "name": "stdout",
     "output_type": "stream",
     "text": [
      "2024-09-06 00:18:20 src.functional INFO     ['John Lennon', 'Angkor Wat'] <> none | predicted:  none - there is no connection between John Lennon and Angkor Wat.\n",
      " => (✓)\n"
     ]
    },
    {
     "name": "stderr",
     "output_type": "stream",
     "text": [
      "  7%|▋         | 26/352 [02:15<24:46,  4.56s/it]"
     ]
    },
    {
     "name": "stdout",
     "output_type": "stream",
     "text": [
      "2024-09-06 00:18:26 src.functional INFO     ['Reese Witherspoon', 'June Carter Cash'] <> Walk the Line | predicted:  Walk the Line - a movie where Reese Witherspoon played the role of June Carter Cash.\n",
      " => (✓)\n"
     ]
    },
    {
     "name": "stderr",
     "output_type": "stream",
     "text": [
      "  8%|▊         | 27/352 [02:20<26:24,  4.88s/it]"
     ]
    },
    {
     "name": "stdout",
     "output_type": "stream",
     "text": [
      "2024-09-06 00:18:31 src.functional INFO     ['Leonardo da Vinci', 'Great Barrier Reef'] <> none | predicted:  none - there is no connection between Leonardo da Vinci and Great Barrier Reef.\n",
      " => (✓)\n"
     ]
    },
    {
     "name": "stderr",
     "output_type": "stream",
     "text": [
      "  8%|▊         | 28/352 [02:25<27:07,  5.02s/it]"
     ]
    },
    {
     "name": "stdout",
     "output_type": "stream",
     "text": [
      "2024-09-06 00:18:37 src.functional INFO     ['Richie McCaw', \"Brian O'Driscoll\"] <> rugby | predicted:  rugby - a sport where both Richie McCaw and Brian O'Driscoll are known for.\n",
      " => (✓)\n"
     ]
    },
    {
     "name": "stderr",
     "output_type": "stream",
     "text": [
      "  8%|▊         | 29/352 [02:31<28:28,  5.29s/it]"
     ]
    },
    {
     "name": "stdout",
     "output_type": "stream",
     "text": [
      "2024-09-06 00:18:42 src.functional INFO     ['Jonah Lomu', 'Dan Carter'] <> rugby | predicted:  rugby - a sport where both Jonah Lomu and Dan Carter played.\n",
      " => (✓)\n"
     ]
    },
    {
     "name": "stderr",
     "output_type": "stream",
     "text": [
      "  9%|▊         | 30/352 [02:36<26:39,  4.97s/it]"
     ]
    },
    {
     "name": "stdout",
     "output_type": "stream",
     "text": [
      "2024-09-06 00:18:46 src.functional INFO     ['Aquaman', 'Beast'] <> animal communication | predicted:  X-Men - a comic book series where both Aquaman and Beast have appeared.\n",
      " => (✗)\n"
     ]
    },
    {
     "name": "stderr",
     "output_type": "stream",
     "text": [
      "  9%|▉         | 31/352 [02:40<26:16,  4.91s/it]"
     ]
    },
    {
     "name": "stdout",
     "output_type": "stream",
     "text": [
      "2024-09-06 00:18:52 src.functional INFO     ['Sachin Tendulkar', 'Brian Lara'] <> cricket | predicted:  cricket - a sport where both Sachin Tendulkar and Brian Lara are known for.\n",
      " => (✓)\n"
     ]
    },
    {
     "name": "stderr",
     "output_type": "stream",
     "text": [
      "  9%|▉         | 32/352 [02:46<27:16,  5.12s/it]"
     ]
    },
    {
     "name": "stdout",
     "output_type": "stream",
     "text": [
      "2024-09-06 00:18:56 src.functional INFO     ['Kelly Slater', 'Andy Irons'] <> surfing | predicted:  surfing - a sport where both Kelly Slater and Andy Irons are professional competitors.\n",
      " => (✓)\n"
     ]
    },
    {
     "name": "stderr",
     "output_type": "stream",
     "text": [
      "  9%|▉         | 33/352 [02:51<26:18,  4.95s/it]"
     ]
    },
    {
     "name": "stdout",
     "output_type": "stream",
     "text": [
      "2024-09-06 00:19:01 src.functional INFO     ['Jesse Eisenberg', 'Mark Zuckerberg'] <> The Social Network | predicted:  The Social Network - a movie where Jesse Eisenberg played the role of Mark Zuckerberg.\n",
      " => (✓)\n"
     ]
    },
    {
     "name": "stderr",
     "output_type": "stream",
     "text": [
      " 10%|▉         | 34/352 [02:55<26:07,  4.93s/it]"
     ]
    },
    {
     "name": "stdout",
     "output_type": "stream",
     "text": [
      "2024-09-06 00:19:07 src.functional INFO     ['Shane Warne', 'Muttiah Muralitharan'] <> cricket | predicted:  cricket - a sport where both Shane Warne and Muttiah Muralitharan are known for.\n",
      " => (✓)\n"
     ]
    },
    {
     "name": "stderr",
     "output_type": "stream",
     "text": [
      " 10%|▉         | 35/352 [03:01<27:50,  5.27s/it]"
     ]
    },
    {
     "name": "stdout",
     "output_type": "stream",
     "text": [
      "2024-09-06 00:19:13 src.functional INFO     ['Hulk Hogan', 'The Rock'] <> wrestling | predicted:  professional wrestling - a sport where both Hulk Hogan and The Rock have been involved.\n",
      " => (✓)\n"
     ]
    },
    {
     "name": "stderr",
     "output_type": "stream",
     "text": [
      " 10%|█         | 36/352 [03:07<28:21,  5.38s/it]"
     ]
    },
    {
     "name": "stdout",
     "output_type": "stream",
     "text": [
      "2024-09-06 00:19:18 src.functional INFO     ['Frida Kahlo', 'Kangaroo'] <> none | predicted:  none - there is no connection between Frida Kahlo and Kangaroo.\n",
      " => (✓)\n"
     ]
    },
    {
     "name": "stderr",
     "output_type": "stream",
     "text": [
      " 11%|█         | 37/352 [03:12<26:44,  5.09s/it]"
     ]
    },
    {
     "name": "stdout",
     "output_type": "stream",
     "text": [
      "2024-09-06 00:19:23 src.functional INFO     ['David Oyelowo', 'Martin Luther King Jr.'] <> Selma | predicted:  Selma - a movie where David Oyelowo played the role of Martin Luther King Jr.\n",
      " => (✓)\n"
     ]
    },
    {
     "name": "stderr",
     "output_type": "stream",
     "text": [
      " 11%|█         | 38/352 [03:17<27:19,  5.22s/it]"
     ]
    },
    {
     "name": "stdout",
     "output_type": "stream",
     "text": [
      "2024-09-06 00:19:29 src.functional INFO     ['Daredevil', 'Toph Beifong'] <> blind | predicted:  martial arts - a skill that both characters Daredevil and Toph Beifong are known for.\n",
      " => (✗)\n"
     ]
    },
    {
     "name": "stderr",
     "output_type": "stream",
     "text": [
      " 11%|█         | 39/352 [03:23<28:08,  5.39s/it]"
     ]
    },
    {
     "name": "stdout",
     "output_type": "stream",
     "text": [
      "2024-09-06 00:19:34 src.functional INFO     ['Pyramids of Giza', 'Bob Marley'] <> none | predicted:  none - there is no connection between Pyramids of Giza and Bob Marley.\n",
      " => (✓)\n"
     ]
    },
    {
     "name": "stderr",
     "output_type": "stream",
     "text": [
      " 11%|█▏        | 40/352 [03:28<27:21,  5.26s/it]"
     ]
    },
    {
     "name": "stdout",
     "output_type": "stream",
     "text": [
      "2024-09-06 00:19:38 src.functional INFO     ['Silver Surfer', 'Captain Marvel'] <> cosmic awareness | predicted:  cosmic powers - an attribute that both characters Silver Surfer and Captain Marvel possess.\n",
      " => (✓)\n"
     ]
    },
    {
     "name": "stderr",
     "output_type": "stream",
     "text": [
      " 12%|█▏        | 41/352 [03:33<26:22,  5.09s/it]"
     ]
    },
    {
     "name": "stdout",
     "output_type": "stream",
     "text": [
      "2024-09-06 00:19:42 src.functional INFO     ['Mother Teresa', 'Grand Canyon'] <> none | predicted:  none - there is no connection between Mother Teresa and Grand Canyon.\n",
      " => (✓)\n"
     ]
    },
    {
     "name": "stderr",
     "output_type": "stream",
     "text": [
      " 12%|█▏        | 42/352 [03:36<24:21,  4.71s/it]"
     ]
    },
    {
     "name": "stdout",
     "output_type": "stream",
     "text": [
      "2024-09-06 00:19:49 src.functional INFO     ['Liam Neeson', 'Oskar Schindler'] <> Schindler's List | predicted:  Schindler's List - a movie where Liam Neeson played the role of Oskar Schindler.\n",
      " => (✓)\n"
     ]
    },
    {
     "name": "stderr",
     "output_type": "stream",
     "text": [
      " 12%|█▏        | 43/352 [03:43<27:11,  5.28s/it]"
     ]
    },
    {
     "name": "stdout",
     "output_type": "stream",
     "text": [
      "2024-09-06 00:19:54 src.functional INFO     ['Winston Churchill', 'Machu Picchu'] <> none | predicted:  none - there is no connection between Winston Churchill and Machu Picchu.\n",
      " => (✓)\n"
     ]
    },
    {
     "name": "stderr",
     "output_type": "stream",
     "text": [
      " 12%|█▎        | 44/352 [03:48<27:29,  5.36s/it]"
     ]
    },
    {
     "name": "stdout",
     "output_type": "stream",
     "text": [
      "2024-09-06 00:19:59 src.functional INFO     ['Frank Langella', 'Richard Nixon'] <> Frost/Nixon | predicted:  Nixon - a movie where Frank Langella played the role of Richard Nixon.\n",
      " => (✓)\n"
     ]
    },
    {
     "name": "stderr",
     "output_type": "stream",
     "text": [
      " 13%|█▎        | 45/352 [03:53<25:57,  5.07s/it]"
     ]
    },
    {
     "name": "stdout",
     "output_type": "stream",
     "text": [
      "2024-09-06 00:20:05 src.functional INFO     ['Graviton', 'Ochaco Uraraka'] <> gravity manipulation | predicted:  Quirk - a superpower that both Graviton and Ochaco Uraraka possess.\n",
      " => (✗)\n"
     ]
    },
    {
     "name": "stderr",
     "output_type": "stream",
     "text": [
      " 13%|█▎        | 46/352 [03:59<26:56,  5.28s/it]"
     ]
    },
    {
     "name": "stdout",
     "output_type": "stream",
     "text": [
      "2024-09-06 00:20:11 src.functional INFO     ['Villa Savoye', 'Notre Dame du Haut'] <> Le Corbusier | predicted:  Le Corbusier - who was the architect of both buildings Villa Savoye and Notre Dame du Haut.\n",
      " => (✓)\n"
     ]
    },
    {
     "name": "stderr",
     "output_type": "stream",
     "text": [
      " 13%|█▎        | 47/352 [04:05<28:26,  5.60s/it]"
     ]
    },
    {
     "name": "stdout",
     "output_type": "stream",
     "text": [
      "2024-09-06 00:20:15 src.functional INFO     ['Great Wall of China', 'Beyoncé'] <> none | predicted:  none - there is no connection between Great Wall of China and Beyoncé.\n",
      " => (✓)\n"
     ]
    },
    {
     "name": "stderr",
     "output_type": "stream",
     "text": [
      " 14%|█▎        | 48/352 [04:09<26:32,  5.24s/it]"
     ]
    },
    {
     "name": "stdout",
     "output_type": "stream",
     "text": [
      "2024-09-06 00:20:20 src.functional INFO     ['Superman', 'Supergirl'] <> kryptonian | predicted:  superpowers - an attribute that both characters Superman and Supergirl possess.\n",
      " => (✓)\n"
     ]
    },
    {
     "name": "stderr",
     "output_type": "stream",
     "text": [
      " 14%|█▍        | 49/352 [04:14<25:11,  4.99s/it]"
     ]
    },
    {
     "name": "stdout",
     "output_type": "stream",
     "text": [
      "2024-09-06 00:20:24 src.functional INFO     ['Ant-Man', 'Atom'] <> size-changing | predicted:  shrinking ability - a superpower that both Ant-Man and Atom possess.\n",
      " => (✓)\n"
     ]
    },
    {
     "name": "stderr",
     "output_type": "stream",
     "text": [
      " 14%|█▍        | 50/352 [04:18<23:50,  4.74s/it]"
     ]
    },
    {
     "name": "stdout",
     "output_type": "stream",
     "text": [
      "2024-09-06 00:20:29 src.functional INFO     ['Pelé', 'Diego Maradona'] <> soccer | predicted:  soccer - a sport where both Pelé and Diego Maradona are known for.\n",
      " => (✓)\n"
     ]
    },
    {
     "name": "stderr",
     "output_type": "stream",
     "text": [
      " 14%|█▍        | 51/352 [04:23<24:08,  4.81s/it]"
     ]
    },
    {
     "name": "stdout",
     "output_type": "stream",
     "text": [
      "2024-09-06 00:20:36 src.functional INFO     [\"Unité d'Habitation\", 'Notre Dame du Haut'] <> Le Corbusier | predicted:  Le Corbusier - who was the architect of both buildings Unité d'Habitation and Notre Dame du Haut.\n",
      " => (✓)\n"
     ]
    },
    {
     "name": "stderr",
     "output_type": "stream",
     "text": [
      " 15%|█▍        | 52/352 [04:30<27:13,  5.45s/it]"
     ]
    },
    {
     "name": "stdout",
     "output_type": "stream",
     "text": [
      "2024-09-06 00:20:40 src.functional INFO     ['Mother Teresa', 'Grand Canyon'] <> none | predicted:  none - there is no connection between Mother Teresa and Grand Canyon.\n",
      " => (✓)\n"
     ]
    },
    {
     "name": "stderr",
     "output_type": "stream",
     "text": [
      " 15%|█▌        | 53/352 [04:34<24:46,  4.97s/it]"
     ]
    },
    {
     "name": "stdout",
     "output_type": "stream",
     "text": [
      "2024-09-06 00:20:46 src.functional INFO     ['Mystique', 'Beast Boy'] <> shapeshifter | predicted:  shape-shifting - a power that both characters Mystique and Beast Boy possess.\n",
      " => (✓)\n"
     ]
    },
    {
     "name": "stderr",
     "output_type": "stream",
     "text": [
      " 15%|█▌        | 54/352 [04:40<26:10,  5.27s/it]"
     ]
    },
    {
     "name": "stdout",
     "output_type": "stream",
     "text": [
      "2024-09-06 00:20:52 src.functional INFO     ['Burj Khalifa', 'One World Trade Center'] <> SOM (Skidmore Owings & Merrill) | predicted:  height - both Burj Khalifa and One World Trade Center are among the tallest buildings in the world.\n",
      " => (✓)\n"
     ]
    },
    {
     "name": "stderr",
     "output_type": "stream",
     "text": [
      " 16%|█▌        | 55/352 [04:46<27:16,  5.51s/it]"
     ]
    },
    {
     "name": "stdout",
     "output_type": "stream",
     "text": [
      "2024-09-06 00:20:54 src.functional INFO     ['Jewish Museum Berlin', 'Royal Ontario Museum'] <> Daniel Libeskind | predicted:  architecture - both buildings have unique architectural designs.\n",
      " => (✓)\n"
     ]
    },
    {
     "name": "stderr",
     "output_type": "stream",
     "text": [
      " 16%|█▌        | 56/352 [04:49<23:07,  4.69s/it]"
     ]
    },
    {
     "name": "stdout",
     "output_type": "stream",
     "text": [
      "2024-09-06 00:21:00 src.functional INFO     ['Green Arrow', 'Hawkeye'] <> archer | predicted:  archery - a skill that both characters Green Arrow and Hawkeye are known for.\n",
      " => (✓)\n"
     ]
    },
    {
     "name": "stderr",
     "output_type": "stream",
     "text": [
      " 16%|█▌        | 57/352 [04:54<23:51,  4.85s/it]"
     ]
    },
    {
     "name": "stdout",
     "output_type": "stream",
     "text": [
      "2024-09-06 00:21:04 src.functional INFO     ['Elvis Presley', 'Taj Mahal'] <> none | predicted:  none - there is no connection between Elvis Presley and Taj Mahal.\n",
      " => (✓)\n"
     ]
    },
    {
     "name": "stderr",
     "output_type": "stream",
     "text": [
      " 16%|█▋        | 58/352 [04:58<23:07,  4.72s/it]"
     ]
    },
    {
     "name": "stdout",
     "output_type": "stream",
     "text": [
      "2024-09-06 00:21:09 src.functional INFO     ['Joaquin Phoenix', 'Johnny Cash'] <> Walk the Line | predicted:  Walk the Line - a movie where Joaquin Phoenix played the role of Johnny Cash.\n",
      " => (✓)\n"
     ]
    },
    {
     "name": "stderr",
     "output_type": "stream",
     "text": [
      " 17%|█▋        | 59/352 [05:03<23:49,  4.88s/it]"
     ]
    },
    {
     "name": "stdout",
     "output_type": "stream",
     "text": [
      "2024-09-06 00:21:15 src.functional INFO     ['Val Kilmer', 'Jim Morrison'] <> The Doors | predicted:  Jim Morrison - Val Kilmer played the role of Jim Morrison in the movie \"The Doors\".\n",
      " => (✓)\n"
     ]
    },
    {
     "name": "stderr",
     "output_type": "stream",
     "text": [
      " 17%|█▋        | 60/352 [05:09<24:40,  5.07s/it]"
     ]
    },
    {
     "name": "stdout",
     "output_type": "stream",
     "text": [
      "2024-09-06 00:21:19 src.functional INFO     ['Will Smith', 'Muhammad Ali'] <> Ali | predicted:  Ali - a movie where Will Smith played the role of Muhammad Ali.\n",
      " => (✓)\n"
     ]
    },
    {
     "name": "stderr",
     "output_type": "stream",
     "text": [
      " 17%|█▋        | 61/352 [05:13<23:14,  4.79s/it]"
     ]
    },
    {
     "name": "stdout",
     "output_type": "stream",
     "text": [
      "2024-09-06 00:21:25 src.functional INFO     ['Simone Biles', 'Nadia Comaneci'] <> gymnastics | predicted:  gymnastics - a sport where both Simone Biles and Nadia Comaneci are known for.\n",
      " => (✓)\n"
     ]
    },
    {
     "name": "stderr",
     "output_type": "stream",
     "text": [
      " 18%|█▊        | 62/352 [05:19<24:40,  5.11s/it]"
     ]
    },
    {
     "name": "stdout",
     "output_type": "stream",
     "text": [
      "2024-09-06 00:21:31 src.functional INFO     ['Burj Khalifa', 'Jeddah Tower'] <> Adrian Smith | predicted:  height - both Burj Khalifa and Jeddah Tower are among the tallest buildings in the world.\n",
      " => (✓)\n"
     ]
    },
    {
     "name": "stderr",
     "output_type": "stream",
     "text": [
      " 18%|█▊        | 63/352 [05:25<26:01,  5.40s/it]"
     ]
    },
    {
     "name": "stdout",
     "output_type": "stream",
     "text": [
      "2024-09-06 00:21:37 src.functional INFO     ['Emile Hirsch', 'Christopher McCandless'] <> Into the Wild | predicted:  Into the Wild - a movie where Emile Hirsch played the role of Christopher McCandless.\n",
      " => (✓)\n"
     ]
    },
    {
     "name": "stderr",
     "output_type": "stream",
     "text": [
      " 18%|█▊        | 64/352 [05:31<26:40,  5.56s/it]"
     ]
    },
    {
     "name": "stdout",
     "output_type": "stream",
     "text": [
      "2024-09-06 00:21:42 src.functional INFO     ['Sugar Ray Leonard', 'Roberto Durán'] <> boxing | predicted:  boxing - a sport where both Sugar Ray Leonard and Roberto Durán were professional boxers.\n",
      " => (✓)\n"
     ]
    },
    {
     "name": "stderr",
     "output_type": "stream",
     "text": [
      " 18%|█▊        | 65/352 [05:36<26:17,  5.50s/it]"
     ]
    },
    {
     "name": "stdout",
     "output_type": "stream",
     "text": [
      "2024-09-06 00:21:48 src.functional INFO     ['Amelia Earhart', 'Haggis'] <> none | predicted:  none - there is no connection between Amelia Earhart and Haggis.\n",
      " => (✓)\n"
     ]
    },
    {
     "name": "stderr",
     "output_type": "stream",
     "text": [
      " 19%|█▉        | 66/352 [05:42<26:54,  5.64s/it]"
     ]
    },
    {
     "name": "stdout",
     "output_type": "stream",
     "text": [
      "2024-09-06 00:21:53 src.functional INFO     ['Ernest Hemingway', 'Bonsai'] <> none | predicted:  none - there is no connection between Ernest Hemingway and Bonsai.\n",
      " => (✓)\n"
     ]
    },
    {
     "name": "stderr",
     "output_type": "stream",
     "text": [
      " 19%|█▉        | 67/352 [05:47<25:38,  5.40s/it]"
     ]
    },
    {
     "name": "stdout",
     "output_type": "stream",
     "text": [
      "2024-09-06 00:21:57 src.functional INFO     ['Pablo Picasso', 'Koala'] <> none | predicted:  none - there is no connection between Pablo Picasso and Koala.\n",
      " => (✓)\n"
     ]
    },
    {
     "name": "stderr",
     "output_type": "stream",
     "text": [
      " 19%|█▉        | 68/352 [05:51<23:32,  4.97s/it]"
     ]
    },
    {
     "name": "stdout",
     "output_type": "stream",
     "text": [
      "2024-09-06 00:22:04 src.functional INFO     ['The Gherkin', 'Apple Park'] <> Norman Foster | predicted:  Steve Jobs - who was the co-founder of Apple and had a connection to both The Gherkin and Apple Park.\n",
      " => (✗)\n"
     ]
    },
    {
     "name": "stderr",
     "output_type": "stream",
     "text": [
      " 20%|█▉        | 69/352 [05:58<26:25,  5.60s/it]"
     ]
    },
    {
     "name": "stdout",
     "output_type": "stream",
     "text": [
      "2024-09-06 00:22:09 src.functional INFO     ['Jane Austen', 'Great Wall of China'] <> none | predicted:  none - there is no connection between Jane Austen and Great Wall of China.\n",
      " => (✓)\n"
     ]
    },
    {
     "name": "stderr",
     "output_type": "stream",
     "text": [
      " 20%|█▉        | 70/352 [06:03<25:11,  5.36s/it]"
     ]
    },
    {
     "name": "stdout",
     "output_type": "stream",
     "text": [
      "2024-09-06 00:22:13 src.functional INFO     ['Isaac Newton', 'Taj Mahal'] <> none | predicted:  none - there is no connection between Isaac Newton and Taj Mahal.\n",
      " => (✓)\n"
     ]
    },
    {
     "name": "stderr",
     "output_type": "stream",
     "text": [
      " 20%|██        | 71/352 [06:07<23:30,  5.02s/it]"
     ]
    },
    {
     "name": "stdout",
     "output_type": "stream",
     "text": [
      "2024-09-06 00:22:18 src.functional INFO     ['Professor X', 'Martian Manhunter'] <> psychic | predicted:  telepathy - a superpower that both characters Professor X and Martian Manhunter possess.\n",
      " => (✓)\n"
     ]
    },
    {
     "name": "stderr",
     "output_type": "stream",
     "text": [
      " 20%|██        | 72/352 [06:13<23:53,  5.12s/it]"
     ]
    },
    {
     "name": "stdout",
     "output_type": "stream",
     "text": [
      "2024-09-06 00:22:23 src.functional INFO     ['Michael Phelps', 'Ryan Lochte'] <> swimming | predicted:  swimming - a sport where both Michael Phelps and Ryan Lochte are known for.\n",
      " => (✓)\n"
     ]
    },
    {
     "name": "stderr",
     "output_type": "stream",
     "text": [
      " 21%|██        | 73/352 [06:17<23:20,  5.02s/it]"
     ]
    },
    {
     "name": "stdout",
     "output_type": "stream",
     "text": [
      "2024-09-06 00:22:29 src.functional INFO     ['Christian Bale', 'Dicky Eklund'] <> The Fighter | predicted:  The Fighter - a movie where Christian Bale played the role of Dicky Eklund.\n",
      " => (✓)\n"
     ]
    },
    {
     "name": "stderr",
     "output_type": "stream",
     "text": [
      " 21%|██        | 74/352 [06:23<23:45,  5.13s/it]"
     ]
    },
    {
     "name": "stdout",
     "output_type": "stream",
     "text": [
      "2024-09-06 00:22:35 src.functional INFO     ['VIA 57 West', 'CopenHill'] <> Bjarke Ingels Group | predicted:  Bjarke Ingels - an architect who designed both buildings VIA 57 West and CopenHill.\n",
      " => (✓)\n"
     ]
    },
    {
     "name": "stderr",
     "output_type": "stream",
     "text": [
      " 21%|██▏       | 75/352 [06:29<25:32,  5.53s/it]"
     ]
    },
    {
     "name": "stdout",
     "output_type": "stream",
     "text": [
      "2024-09-06 00:22:39 src.functional INFO     ['Queen Elizabeth II', 'Sushi'] <> none | predicted:  none - there is no connection between Queen Elizabeth II and Sushi.\n",
      " => (✓)\n"
     ]
    },
    {
     "name": "stderr",
     "output_type": "stream",
     "text": [
      " 22%|██▏       | 76/352 [06:33<23:37,  5.14s/it]"
     ]
    },
    {
     "name": "stdout",
     "output_type": "stream",
     "text": [
      "2024-09-06 00:22:45 src.functional INFO     ['Scarlet Witch', 'Psylocke'] <> telekinesis | predicted:  telepathic powers - an attribute that both characters Scarlet Witch and Psylocke possess.\n",
      " => (✗)\n"
     ]
    },
    {
     "name": "stderr",
     "output_type": "stream",
     "text": [
      " 22%|██▏       | 77/352 [06:39<23:50,  5.20s/it]"
     ]
    },
    {
     "name": "stdout",
     "output_type": "stream",
     "text": [
      "2024-09-06 00:22:49 src.functional INFO     ['Silver Surfer', 'Green Lantern'] <> cosmic power | predicted:  cosmic powers - an attribute that both characters Silver Surfer and Green Lantern possess.\n",
      " => (✓)\n"
     ]
    },
    {
     "name": "stderr",
     "output_type": "stream",
     "text": [
      " 22%|██▏       | 78/352 [06:44<23:12,  5.08s/it]"
     ]
    },
    {
     "name": "stdout",
     "output_type": "stream",
     "text": [
      "2024-09-06 00:22:55 src.functional INFO     ['Purple Man', 'Lelouch vi Britannia'] <> mind control | predicted:  none - there is no connection between Purple Man and Lelouch vi Britannia.\n",
      " => (✗)\n"
     ]
    },
    {
     "name": "stderr",
     "output_type": "stream",
     "text": [
      " 22%|██▏       | 79/352 [06:49<23:06,  5.08s/it]"
     ]
    },
    {
     "name": "stdout",
     "output_type": "stream",
     "text": [
      "2024-09-06 00:23:03 src.functional INFO     ['Alfred Hitchcock', 'Galapagos Islands'] <> none | predicted:  The Birds - a movie directed by Alfred Hitchcock, which features a scene inspired by the Galapagos Islands.\n",
      " => (✗)\n"
     ]
    },
    {
     "name": "stderr",
     "output_type": "stream",
     "text": [
      " 23%|██▎       | 80/352 [06:57<27:38,  6.10s/it]"
     ]
    },
    {
     "name": "stdout",
     "output_type": "stream",
     "text": [
      "2024-09-06 00:23:10 src.functional INFO     ['Kerri Walsh Jennings', 'Misty May-Treanor'] <> volleyball | predicted:  beach volleyball - a sport where both Kerri Walsh Jennings and Misty May-Treanor are professional players.\n",
      " => (✓)\n"
     ]
    },
    {
     "name": "stderr",
     "output_type": "stream",
     "text": [
      " 23%|██▎       | 81/352 [07:04<28:29,  6.31s/it]"
     ]
    },
    {
     "name": "stdout",
     "output_type": "stream",
     "text": [
      "2024-09-06 00:23:13 src.functional INFO     ['Rogue', 'Kevin Levin'] <> energy absorption | predicted:  none - there is no connection between Rogue and Kevin Levin.\n",
      " => (✗)\n"
     ]
    },
    {
     "name": "stderr",
     "output_type": "stream",
     "text": [
      " 23%|██▎       | 82/352 [07:08<24:48,  5.51s/it]"
     ]
    },
    {
     "name": "stdout",
     "output_type": "stream",
     "text": [
      "2024-09-06 00:23:17 src.functional INFO     ['Steve Jobs', 'Tango'] <> none | predicted:  none - there is no connection between Steve Jobs and Tango.\n",
      " => (✓)\n"
     ]
    },
    {
     "name": "stderr",
     "output_type": "stream",
     "text": [
      " 24%|██▎       | 83/352 [07:11<22:13,  4.96s/it]"
     ]
    },
    {
     "name": "stdout",
     "output_type": "stream",
     "text": [
      "2024-09-06 00:23:23 src.functional INFO     ['Louvre Pyramid', 'Bank of China Tower'] <> I. M. Pei | predicted:  I.M. Pei - an architect who designed both buildings Louvre Pyramid and Bank of China Tower.\n",
      " => (✓)\n"
     ]
    },
    {
     "name": "stderr",
     "output_type": "stream",
     "text": [
      " 24%|██▍       | 84/352 [07:17<23:49,  5.33s/it]"
     ]
    },
    {
     "name": "stdout",
     "output_type": "stream",
     "text": [
      "2024-09-06 00:23:30 src.functional INFO     ['Walt Disney Concert Hall', 'Guggenheim Museum Bilbao'] <> Frank Gehry | predicted:  Frank Gehry - who was the architect of both buildings Walt Disney Concert Hall and Guggenheim Museum Bilbao.\n",
      " => (✓)\n"
     ]
    },
    {
     "name": "stderr",
     "output_type": "stream",
     "text": [
      " 24%|██▍       | 85/352 [07:24<25:39,  5.77s/it]"
     ]
    },
    {
     "name": "stdout",
     "output_type": "stream",
     "text": [
      "2024-09-06 00:23:36 src.functional INFO     ['Tom Hulce', 'Wolfgang Amadeus Mozart'] <> Amadeus | predicted:  Amadeus - a movie where Tom Hulce played the role of Wolfgang Amadeus Mozart.\n",
      " => (✓)\n"
     ]
    },
    {
     "name": "stderr",
     "output_type": "stream",
     "text": [
      " 24%|██▍       | 86/352 [07:30<26:09,  5.90s/it]"
     ]
    },
    {
     "name": "stdout",
     "output_type": "stream",
     "text": [
      "2024-09-06 00:23:41 src.functional INFO     ['Virginia Woolf', 'Ayers Rock'] <> none | predicted:  none - there is no connection between Virginia Woolf and Ayers Rock.\n",
      " => (✓)\n"
     ]
    },
    {
     "name": "stderr",
     "output_type": "stream",
     "text": [
      " 25%|██▍       | 87/352 [07:35<24:14,  5.49s/it]"
     ]
    },
    {
     "name": "stdout",
     "output_type": "stream",
     "text": [
      "2024-09-06 00:23:45 src.functional INFO     ['Albert Einstein', 'Machu Picchu'] <> none | predicted:  none - there is no connection between Albert Einstein and Machu Picchu.\n",
      " => (✓)\n"
     ]
    },
    {
     "name": "stderr",
     "output_type": "stream",
     "text": [
      " 25%|██▌       | 88/352 [07:39<22:50,  5.19s/it]"
     ]
    },
    {
     "name": "stdout",
     "output_type": "stream",
     "text": [
      "2024-09-06 00:23:51 src.functional INFO     ['James Franco', 'Aron Ralston'] <> 127 Hours | predicted:  127 Hours - a movie where James Franco played the role of Aron Ralston.\n",
      " => (✓)\n"
     ]
    },
    {
     "name": "stderr",
     "output_type": "stream",
     "text": [
      " 25%|██▌       | 89/352 [07:45<23:21,  5.33s/it]"
     ]
    },
    {
     "name": "stdout",
     "output_type": "stream",
     "text": [
      "2024-09-06 00:23:55 src.functional INFO     ['Queen Elizabeth II', 'Sushi'] <> none | predicted:  none - there is no connection between Queen Elizabeth II and Sushi.\n",
      " => (✓)\n"
     ]
    },
    {
     "name": "stderr",
     "output_type": "stream",
     "text": [
      " 26%|██▌       | 90/352 [07:49<21:50,  5.00s/it]"
     ]
    },
    {
     "name": "stdout",
     "output_type": "stream",
     "text": [
      "2024-09-06 00:24:01 src.functional INFO     ['Domino', 'Nagito Komaeda'] <> luck manipulation | predicted:  Danganronpa - a video game series where both Domino and Nagito Komaeda are characters.\n",
      " => (✗)\n"
     ]
    },
    {
     "name": "stderr",
     "output_type": "stream",
     "text": [
      " 26%|██▌       | 91/352 [07:56<23:20,  5.36s/it]"
     ]
    },
    {
     "name": "stdout",
     "output_type": "stream",
     "text": [
      "2024-09-06 00:24:08 src.functional INFO     ['Alfred Hitchcock', 'Galapagos Islands'] <> none | predicted:  The Birds - a movie directed by Alfred Hitchcock, which features a scene inspired by the Galapagos Islands.\n",
      " => (✗)\n"
     ]
    },
    {
     "name": "stderr",
     "output_type": "stream",
     "text": [
      " 26%|██▌       | 92/352 [08:02<25:04,  5.79s/it]"
     ]
    },
    {
     "name": "stdout",
     "output_type": "stream",
     "text": [
      "2024-09-06 00:24:14 src.functional INFO     ['Jennifer Lopez', 'Selena Quintanilla-Pérez'] <> Selena | predicted:  Selena - a song by Jennifer Lopez that was inspired by Selena Quintanilla-Pérez.\n",
      " => (✗)\n"
     ]
    },
    {
     "name": "stderr",
     "output_type": "stream",
     "text": [
      " 26%|██▋       | 93/352 [08:09<25:31,  5.91s/it]"
     ]
    },
    {
     "name": "stdout",
     "output_type": "stream",
     "text": [
      "2024-09-06 00:24:20 src.functional INFO     ['Taron Egerton', 'Elton John'] <> Rocketman | predicted:  Rocketman - a movie where Taron Egerton played the role of Elton John.\n",
      " => (✓)\n"
     ]
    },
    {
     "name": "stderr",
     "output_type": "stream",
     "text": [
      " 27%|██▋       | 94/352 [08:14<24:41,  5.74s/it]"
     ]
    },
    {
     "name": "stdout",
     "output_type": "stream",
     "text": [
      "2024-09-06 00:24:26 src.functional INFO     ['Statue of Liberty', 'Lionel Messi'] <> none | predicted:  none - there is no connection between Statue of Liberty and Lionel Messi.\n",
      " => (✓)\n"
     ]
    },
    {
     "name": "stderr",
     "output_type": "stream",
     "text": [
      " 27%|██▋       | 95/352 [08:20<25:09,  5.87s/it]"
     ]
    },
    {
     "name": "stdout",
     "output_type": "stream",
     "text": [
      "2024-09-06 00:24:31 src.functional INFO     ['Rogue', 'Parasite'] <> energy vampire | predicted:  X-Men - a comic book series where both Rogue and Parasite are characters.\n",
      " => (✗)\n"
     ]
    },
    {
     "name": "stderr",
     "output_type": "stream",
     "text": [
      " 27%|██▋       | 96/352 [08:25<23:40,  5.55s/it]"
     ]
    },
    {
     "name": "stdout",
     "output_type": "stream",
     "text": [
      "2024-09-06 00:24:36 src.functional INFO     ['Wolverine', 'Kiba Inuzuka'] <> super smell | predicted:  healing factor - a superpower that both characters Wolverine and Kiba Inuzuka possess.\n",
      " => (✗)\n"
     ]
    },
    {
     "name": "stderr",
     "output_type": "stream",
     "text": [
      " 28%|██▊       | 97/352 [08:30<23:19,  5.49s/it]"
     ]
    },
    {
     "name": "stdout",
     "output_type": "stream",
     "text": [
      "2024-09-06 00:24:41 src.functional INFO     ['Captain America', 'Deathstroke'] <> super soldier | predicted:  comic books - both characters Captain America and Deathstroke originated from comic books.\n",
      " => (✓)\n"
     ]
    },
    {
     "name": "stderr",
     "output_type": "stream",
     "text": [
      " 28%|██▊       | 98/352 [08:35<21:58,  5.19s/it]"
     ]
    },
    {
     "name": "stdout",
     "output_type": "stream",
     "text": [
      "2024-09-06 00:24:46 src.functional INFO     ['Garry Kasparov', 'Magnus Carlsen'] <> chess | predicted:  chess - a game where both Garry Kasparov and Magnus Carlsen are known for.\n",
      " => (✓)\n"
     ]
    },
    {
     "name": "stderr",
     "output_type": "stream",
     "text": [
      " 28%|██▊       | 99/352 [08:40<22:26,  5.32s/it]"
     ]
    },
    {
     "name": "stdout",
     "output_type": "stream",
     "text": [
      "2024-09-06 00:24:50 src.functional INFO     ['Isaac Newton', 'Taj Mahal'] <> none | predicted:  none - there is no connection between Isaac Newton and Taj Mahal.\n",
      " => (✓)\n"
     ]
    },
    {
     "name": "stderr",
     "output_type": "stream",
     "text": [
      " 28%|██▊       | 100/352 [08:45<20:57,  4.99s/it]"
     ]
    },
    {
     "name": "stdout",
     "output_type": "stream",
     "text": [
      "2024-09-06 00:24:55 src.functional INFO     ['Charlie Chaplin', 'Niagara Falls'] <> none | predicted:  City Lights - a movie where Charlie Chaplin filmed a scene at Niagara Falls.\n",
      " => (✗)\n"
     ]
    },
    {
     "name": "stderr",
     "output_type": "stream",
     "text": [
      " 29%|██▊       | 101/352 [08:49<20:38,  4.94s/it]"
     ]
    },
    {
     "name": "stdout",
     "output_type": "stream",
     "text": [
      "2024-09-06 00:25:00 src.functional INFO     ['Superman', 'Homelander'] <> super strength | predicted:  superhero - a character type that both Superman and Homelander belong to.\n",
      " => (✓)\n"
     ]
    },
    {
     "name": "stderr",
     "output_type": "stream",
     "text": [
      " 29%|██▉       | 102/352 [08:54<20:02,  4.81s/it]"
     ]
    },
    {
     "name": "stdout",
     "output_type": "stream",
     "text": [
      "2024-09-06 00:25:05 src.functional INFO     ['Ernest Hemingway', 'Bonsai'] <> none | predicted:  none - there is no connection between Ernest Hemingway and Bonsai.\n",
      " => (✓)\n"
     ]
    },
    {
     "name": "stderr",
     "output_type": "stream",
     "text": [
      " 29%|██▉       | 103/352 [08:59<19:56,  4.80s/it]"
     ]
    },
    {
     "name": "stdout",
     "output_type": "stream",
     "text": [
      "2024-09-06 00:25:12 src.functional INFO     ['Sidney Crosby', 'Alexander Ovechkin'] <> ice hockey | predicted:  National Hockey League (NHL) - a professional ice hockey league where both Sidney Crosby and Alexander Ovechkin play.\n",
      " => (✓)\n"
     ]
    },
    {
     "name": "stderr",
     "output_type": "stream",
     "text": [
      " 30%|██▉       | 104/352 [09:06<22:57,  5.56s/it]"
     ]
    },
    {
     "name": "stdout",
     "output_type": "stream",
     "text": [
      "2024-09-06 00:25:16 src.functional INFO     ['Jonah Lomu', 'Richie McCaw'] <> rugby | predicted:  rugby - a sport where both Jonah Lomu and Richie McCaw played.\n",
      " => (✓)\n"
     ]
    },
    {
     "name": "stderr",
     "output_type": "stream",
     "text": [
      " 30%|██▉       | 105/352 [09:10<21:34,  5.24s/it]"
     ]
    },
    {
     "name": "stdout",
     "output_type": "stream",
     "text": [
      "2024-09-06 00:25:25 src.functional INFO     ['Robert De Niro', 'Al Capone'] <> The Untouchables | predicted:  Raging Bull - a movie where Robert De Niro played the role of Jake LaMotta, a boxer who was inspired by Al Capone.\n",
      " => (✗)\n"
     ]
    },
    {
     "name": "stderr",
     "output_type": "stream",
     "text": [
      " 30%|███       | 106/352 [09:19<25:53,  6.32s/it]"
     ]
    },
    {
     "name": "stdout",
     "output_type": "stream",
     "text": [
      "2024-09-06 00:25:31 src.functional INFO     ['Gael García Bernal', 'Che Guevara'] <> The Motorcycle Diaries | predicted:  Motorcycle Diaries - a movie where Gael García Bernal played the role of Che Guevara.\n",
      " => (✓)\n"
     ]
    },
    {
     "name": "stderr",
     "output_type": "stream",
     "text": [
      " 30%|███       | 107/352 [09:25<25:18,  6.20s/it]"
     ]
    },
    {
     "name": "stdout",
     "output_type": "stream",
     "text": [
      "2024-09-06 00:25:35 src.functional INFO     ['Neil Armstrong', 'Samba'] <> none | predicted:  none - there is no connection between Neil Armstrong and Samba.\n",
      " => (✓)\n"
     ]
    },
    {
     "name": "stderr",
     "output_type": "stream",
     "text": [
      " 31%|███       | 108/352 [09:29<22:27,  5.52s/it]"
     ]
    },
    {
     "name": "stdout",
     "output_type": "stream",
     "text": [
      "2024-09-06 00:25:39 src.functional INFO     ['Kitty Pryde', 'Danny Phantom'] <> intangibility | predicted:  none - there is no connection between Kitty Pryde and Danny Phantom.\n",
      " => (✗)\n"
     ]
    },
    {
     "name": "stderr",
     "output_type": "stream",
     "text": [
      " 31%|███       | 109/352 [09:33<20:48,  5.14s/it]"
     ]
    },
    {
     "name": "stdout",
     "output_type": "stream",
     "text": [
      "2024-09-06 00:25:45 src.functional INFO     ['Ryan Lochte', 'Caeleb Dressel'] <> swimming | predicted:  swimming - a sport where both Ryan Lochte and Caeleb Dressel are known for.\n",
      " => (✓)\n"
     ]
    },
    {
     "name": "stderr",
     "output_type": "stream",
     "text": [
      " 31%|███▏      | 110/352 [09:39<21:39,  5.37s/it]"
     ]
    },
    {
     "name": "stdout",
     "output_type": "stream",
     "text": [
      "2024-09-06 00:25:49 src.functional INFO     ['Batman', 'Ironman'] <> billionaire | predicted:  superhero - a genre where both Batman and Ironman are characters.\n",
      " => (✓)\n"
     ]
    },
    {
     "name": "stderr",
     "output_type": "stream",
     "text": [
      " 32%|███▏      | 111/352 [09:43<19:49,  4.93s/it]"
     ]
    },
    {
     "name": "stdout",
     "output_type": "stream",
     "text": [
      "2024-09-06 00:25:56 src.functional INFO     ['Black Canary', 'Black Bolt'] <> sonic scream | predicted:  black color - a common attribute that both characters Black Canary and Black Bolt share.\n",
      " => (✗)\n"
     ]
    },
    {
     "name": "stderr",
     "output_type": "stream",
     "text": [
      " 32%|███▏      | 112/352 [09:50<22:15,  5.56s/it]"
     ]
    },
    {
     "name": "stdout",
     "output_type": "stream",
     "text": [
      "2024-09-06 00:26:01 src.functional INFO     ['Kobe Bryant', 'Magic Johnson'] <> basketball | predicted:  Los Angeles Lakers - a basketball team where both Kobe Bryant and Magic Johnson played.\n",
      " => (✓)\n"
     ]
    },
    {
     "name": "stderr",
     "output_type": "stream",
     "text": [
      " 32%|███▏      | 113/352 [09:55<21:15,  5.34s/it]"
     ]
    },
    {
     "name": "stdout",
     "output_type": "stream",
     "text": [
      "2024-09-06 00:26:07 src.functional INFO     ['Jaromír Jágr', 'Patrick Roy'] <> ice hockey | predicted:  NHL - a professional ice hockey league where both Jaromír Jágr and Patrick Roy played.\n",
      " => (✓)\n"
     ]
    },
    {
     "name": "stderr",
     "output_type": "stream",
     "text": [
      " 32%|███▏      | 114/352 [10:01<21:32,  5.43s/it]"
     ]
    },
    {
     "name": "stdout",
     "output_type": "stream",
     "text": [
      "2024-09-06 00:26:13 src.functional INFO     ['Louvre Pyramid', 'Bank of China Tower'] <> I.M. Pei | predicted:  I.M. Pei - an architect who designed both buildings Louvre Pyramid and Bank of China Tower.\n",
      " => (✓)\n"
     ]
    },
    {
     "name": "stderr",
     "output_type": "stream",
     "text": [
      " 33%|███▎      | 115/352 [10:07<22:21,  5.66s/it]"
     ]
    },
    {
     "name": "stdout",
     "output_type": "stream",
     "text": [
      "2024-09-06 00:26:20 src.functional INFO     ['Heydar Aliyev Center', 'Guangzhou Opera House'] <> Zaha Hadid | predicted:  Zaha Hadid - who was the architect of both buildings Heydar Aliyev Center and Guangzhou Opera House.\n",
      " => (✓)\n"
     ]
    },
    {
     "name": "stderr",
     "output_type": "stream",
     "text": [
      " 33%|███▎      | 116/352 [10:14<23:55,  6.08s/it]"
     ]
    },
    {
     "name": "stdout",
     "output_type": "stream",
     "text": [
      "2024-09-06 00:26:25 src.functional INFO     ['Brainiac', 'Brainiac 5'] <> super intelligence | predicted:  Brainiac - a name shared by both characters Brainiac and Brainiac 5.\n",
      " => (✓)\n"
     ]
    },
    {
     "name": "stderr",
     "output_type": "stream",
     "text": [
      " 33%|███▎      | 117/352 [10:19<22:39,  5.79s/it]"
     ]
    },
    {
     "name": "stdout",
     "output_type": "stream",
     "text": [
      "2024-09-06 00:26:31 src.functional INFO     ['Venom', 'Carnage'] <> symbiote | predicted:  symbiotes - a type of alien life form that both Venom and Carnage are connected to.\n",
      " => (✓)\n"
     ]
    },
    {
     "name": "stderr",
     "output_type": "stream",
     "text": [
      " 34%|███▎      | 118/352 [10:25<22:43,  5.83s/it]"
     ]
    },
    {
     "name": "stdout",
     "output_type": "stream",
     "text": [
      "2024-09-06 00:26:36 src.functional INFO     ['Plastic Man', 'Luffy'] <> elasticity | predicted:  stretchy powers - an attribute that both characters Plastic Man and Luffy possess.\n",
      " => (✓)\n"
     ]
    },
    {
     "name": "stderr",
     "output_type": "stream",
     "text": [
      " 34%|███▍      | 119/352 [10:30<21:25,  5.52s/it]"
     ]
    },
    {
     "name": "stdout",
     "output_type": "stream",
     "text": [
      "2024-09-06 00:26:41 src.functional INFO     ['Arnold Palmer', 'Gary Player'] <> golf | predicted:  golf - a sport where both Arnold Palmer and Gary Player were professional golfers.\n",
      " => (✓)\n"
     ]
    },
    {
     "name": "stderr",
     "output_type": "stream",
     "text": [
      " 34%|███▍      | 120/352 [10:35<20:29,  5.30s/it]"
     ]
    },
    {
     "name": "stdout",
     "output_type": "stream",
     "text": [
      "2024-09-06 00:26:45 src.functional INFO     ['Sean Penn', 'Harvey Milk'] <> Milk | predicted:  Milk - a movie where Sean Penn played the role of Harvey Milk.\n",
      " => (✓)\n"
     ]
    },
    {
     "name": "stderr",
     "output_type": "stream",
     "text": [
      " 34%|███▍      | 121/352 [10:39<19:10,  4.98s/it]"
     ]
    },
    {
     "name": "stdout",
     "output_type": "stream",
     "text": [
      "2024-09-06 00:26:54 src.functional INFO     ['Natalie Portman', 'Jackie Kennedy'] <> Jackie | predicted:  both were First Ladies - Natalie Portman played the role of Jackie Kennedy in the movie Jackie, and Jackie Kennedy was the First Lady of the United States.\n",
      " => (✗)\n"
     ]
    },
    {
     "name": "stderr",
     "output_type": "stream",
     "text": [
      " 35%|███▍      | 122/352 [10:48<23:46,  6.20s/it]"
     ]
    },
    {
     "name": "stdout",
     "output_type": "stream",
     "text": [
      "2024-09-06 00:26:59 src.functional INFO     ['Flash', 'Quicksilver'] <> speedster | predicted:  super speed - a superpower that both characters Flash and Quicksilver possess.\n",
      " => (✓)\n"
     ]
    },
    {
     "name": "stderr",
     "output_type": "stream",
     "text": [
      " 35%|███▍      | 123/352 [10:53<22:04,  5.78s/it]"
     ]
    },
    {
     "name": "stdout",
     "output_type": "stream",
     "text": [
      "2024-09-06 00:27:03 src.functional INFO     ['Frida Kahlo', 'Kangaroo'] <> none | predicted:  none - there is no connection between Frida Kahlo and Kangaroo.\n",
      " => (✓)\n"
     ]
    },
    {
     "name": "stderr",
     "output_type": "stream",
     "text": [
      " 35%|███▌      | 124/352 [10:57<20:32,  5.40s/it]"
     ]
    },
    {
     "name": "stdout",
     "output_type": "stream",
     "text": [
      "2024-09-06 00:27:08 src.functional INFO     ['Eddy Merckx', 'Lance Armstrong'] <> cycling | predicted:  cycling - a sport where both Eddy Merckx and Lance Armstrong were professional cyclists.\n",
      " => (✓)\n"
     ]
    },
    {
     "name": "stderr",
     "output_type": "stream",
     "text": [
      " 36%|███▌      | 125/352 [11:03<20:24,  5.39s/it]"
     ]
    },
    {
     "name": "stdout",
     "output_type": "stream",
     "text": [
      "2024-09-06 00:27:13 src.functional INFO     ['Taj Mahal', 'Stephen King'] <> none | predicted:  none - there is no connection between Taj Mahal and Stephen King.\n",
      " => (✓)\n"
     ]
    },
    {
     "name": "stderr",
     "output_type": "stream",
     "text": [
      " 36%|███▌      | 126/352 [11:07<19:00,  5.05s/it]"
     ]
    },
    {
     "name": "stdout",
     "output_type": "stream",
     "text": [
      "2024-09-06 00:27:18 src.functional INFO     ['Jamie Foxx', 'Ray Charles'] <> Ray | predicted:  Ray - Jamie Foxx played the role of Ray Charles in the movie Ray.\n",
      " => (✓)\n"
     ]
    },
    {
     "name": "stderr",
     "output_type": "stream",
     "text": [
      " 36%|███▌      | 127/352 [11:12<18:38,  4.97s/it]"
     ]
    },
    {
     "name": "stdout",
     "output_type": "stream",
     "text": [
      "2024-09-06 00:27:24 src.functional INFO     ['Julia Roberts', 'Erin Brockovich'] <> Erin Brockovich | predicted:  Erin Brockovich - a movie where Julia Roberts played the title role.\n",
      " => (✓)\n"
     ]
    },
    {
     "name": "stderr",
     "output_type": "stream",
     "text": [
      " 36%|███▋      | 128/352 [11:18<20:32,  5.50s/it]"
     ]
    },
    {
     "name": "stdout",
     "output_type": "stream",
     "text": [
      "2024-09-06 00:27:31 src.functional INFO     ['Farnsworth House', 'Seagram Building'] <> Mies van der Rohe | predicted:  Ludwig Mies van der Rohe - who was the architect of both buildings Farnsworth House and Seagram Building.\n",
      " => (✓)\n"
     ]
    },
    {
     "name": "stderr",
     "output_type": "stream",
     "text": [
      " 37%|███▋      | 129/352 [11:25<22:12,  5.98s/it]"
     ]
    },
    {
     "name": "stdout",
     "output_type": "stream",
     "text": [
      "2024-09-06 00:27:35 src.functional INFO     ['Christopher Columbus', 'Kimchi'] <> none | predicted:  none - there is no connection between Christopher Columbus and Kimchi.\n",
      " => (✓)\n"
     ]
    },
    {
     "name": "stderr",
     "output_type": "stream",
     "text": [
      " 37%|███▋      | 130/352 [11:29<19:52,  5.37s/it]"
     ]
    },
    {
     "name": "stdout",
     "output_type": "stream",
     "text": [
      "2024-09-06 00:27:41 src.functional INFO     ['Michael Fassbender', 'Steve Jobs'] <> Steve Jobs | predicted:  Steve Jobs - a movie where Michael Fassbender played the role of Steve Jobs.\n",
      " => (✓)\n"
     ]
    },
    {
     "name": "stderr",
     "output_type": "stream",
     "text": [
      " 37%|███▋      | 131/352 [11:35<19:46,  5.37s/it]"
     ]
    },
    {
     "name": "stdout",
     "output_type": "stream",
     "text": [
      "2024-09-06 00:27:45 src.functional INFO     ['Storm', 'Thor'] <> weather manipulation | predicted:  weather control - a superpower that both characters Storm and Thor possess.\n",
      " => (✗)\n"
     ]
    },
    {
     "name": "stderr",
     "output_type": "stream",
     "text": [
      " 38%|███▊      | 132/352 [11:39<18:27,  5.03s/it]"
     ]
    },
    {
     "name": "stdout",
     "output_type": "stream",
     "text": [
      "2024-09-06 00:27:49 src.functional INFO     ['Christopher Columbus', 'Kimchi'] <> none | predicted:  none - there is no connection between Christopher Columbus and Kimchi.\n",
      " => (✓)\n"
     ]
    },
    {
     "name": "stderr",
     "output_type": "stream",
     "text": [
      " 38%|███▊      | 133/352 [11:43<17:11,  4.71s/it]"
     ]
    },
    {
     "name": "stdout",
     "output_type": "stream",
     "text": [
      "2024-09-06 00:27:54 src.functional INFO     ['Philip Seymour Hoffman', 'Truman Capote'] <> Capote | predicted:  Capote - a movie where Philip Seymour Hoffman played the role of Truman Capote.\n",
      " => (✓)\n"
     ]
    },
    {
     "name": "stderr",
     "output_type": "stream",
     "text": [
      " 38%|███▊      | 134/352 [11:48<17:31,  4.82s/it]"
     ]
    },
    {
     "name": "stdout",
     "output_type": "stream",
     "text": [
      "2024-09-06 00:27:59 src.functional INFO     ['Professor X', 'Jean Grey'] <> telepath | predicted:  X-Men - a comic book series where both Professor X and Jean Grey are characters.\n",
      " => (✓)\n"
     ]
    },
    {
     "name": "stderr",
     "output_type": "stream",
     "text": [
      " 38%|███▊      | 135/352 [11:53<17:43,  4.90s/it]"
     ]
    },
    {
     "name": "stdout",
     "output_type": "stream",
     "text": [
      "2024-09-06 00:28:05 src.functional INFO     ['Eddie Redmayne', 'Stephen Hawking'] <> The Theory of Everything | predicted:  The Theory of Everything - a movie where Eddie Redmayne played the role of Stephen Hawking.\n",
      " => (✓)\n"
     ]
    },
    {
     "name": "stderr",
     "output_type": "stream",
     "text": [
      " 39%|███▊      | 136/352 [11:59<18:45,  5.21s/it]"
     ]
    },
    {
     "name": "stdout",
     "output_type": "stream",
     "text": [
      "2024-09-06 00:28:11 src.functional INFO     ['Andy Warhol', 'Sombrero'] <> none | predicted:  Campbell's Soup Can - a famous artwork by Andy Warhol, which features a sombrero.\n",
      " => (✗)\n"
     ]
    },
    {
     "name": "stderr",
     "output_type": "stream",
     "text": [
      " 39%|███▉      | 137/352 [12:05<19:09,  5.35s/it]"
     ]
    },
    {
     "name": "stdout",
     "output_type": "stream",
     "text": [
      "2024-09-06 00:28:15 src.functional INFO     ['Oprah Winfrey', 'Colosseum'] <> none | predicted:  none - there is no connection between Oprah Winfrey and Colosseum.\n",
      " => (✓)\n"
     ]
    },
    {
     "name": "stderr",
     "output_type": "stream",
     "text": [
      " 39%|███▉      | 138/352 [12:09<18:29,  5.18s/it]"
     ]
    },
    {
     "name": "stdout",
     "output_type": "stream",
     "text": [
      "2024-09-06 00:28:22 src.functional INFO     ['Hugh Jackman', 'P.T. Barnum'] <> The Greatest Showman | predicted:  The Greatest Showman - a movie where Hugh Jackman played the role of P.T. Barnum.\n",
      " => (✓)\n"
     ]
    },
    {
     "name": "stderr",
     "output_type": "stream",
     "text": [
      " 39%|███▉      | 139/352 [12:16<19:31,  5.50s/it]"
     ]
    },
    {
     "name": "stdout",
     "output_type": "stream",
     "text": [
      "2024-09-06 00:28:26 src.functional INFO     ['Punisher', 'Red Hood'] <> anti-hero | predicted:  vigilante - a character type that both Punisher and Red Hood are.\n",
      " => (✓)\n"
     ]
    },
    {
     "name": "stderr",
     "output_type": "stream",
     "text": [
      " 40%|███▉      | 140/352 [12:20<18:23,  5.21s/it]"
     ]
    },
    {
     "name": "stdout",
     "output_type": "stream",
     "text": [
      "2024-09-06 00:28:31 src.functional INFO     ['Audrey Hepburn', 'Mount Kilimanjaro'] <> none | predicted:  none - there is no connection between Audrey Hepburn and Mount Kilimanjaro.\n",
      " => (✓)\n"
     ]
    },
    {
     "name": "stderr",
     "output_type": "stream",
     "text": [
      " 40%|████      | 141/352 [12:25<18:12,  5.18s/it]"
     ]
    },
    {
     "name": "stdout",
     "output_type": "stream",
     "text": [
      "2024-09-06 00:28:36 src.functional INFO     ['Mona Lisa', 'Usain Bolt'] <> none | predicted:  none - there is no connection between Mona Lisa and Usain Bolt.\n",
      " => (✓)\n"
     ]
    },
    {
     "name": "stderr",
     "output_type": "stream",
     "text": [
      " 40%|████      | 142/352 [12:30<17:08,  4.90s/it]"
     ]
    },
    {
     "name": "stdout",
     "output_type": "stream",
     "text": [
      "2024-09-06 00:28:38 src.functional INFO     ['Aquaman', 'Namor'] <> aquatic | predicted:  both are superheroes with aquatic powers.\n",
      " => (✓)\n"
     ]
    },
    {
     "name": "stderr",
     "output_type": "stream",
     "text": [
      " 41%|████      | 143/352 [12:32<14:18,  4.11s/it]"
     ]
    },
    {
     "name": "stdout",
     "output_type": "stream",
     "text": [
      "2024-09-06 00:28:42 src.functional INFO     ['Hulk', 'All Might'] <> super strength | predicted:  superhuman strength - a characteristic that both characters Hulk and All Might possess.\n",
      " => (✓)\n"
     ]
    },
    {
     "name": "stderr",
     "output_type": "stream",
     "text": [
      " 41%|████      | 144/352 [12:36<14:39,  4.23s/it]"
     ]
    },
    {
     "name": "stdout",
     "output_type": "stream",
     "text": [
      "2024-09-06 00:28:47 src.functional INFO     ['John Lennon', 'Angkor Wat'] <> none | predicted:  none - there is no connection between John Lennon and Angkor Wat.\n",
      " => (✓)\n"
     ]
    },
    {
     "name": "stderr",
     "output_type": "stream",
     "text": [
      " 41%|████      | 145/352 [12:41<14:36,  4.23s/it]"
     ]
    },
    {
     "name": "stdout",
     "output_type": "stream",
     "text": [
      "2024-09-06 00:28:51 src.functional INFO     ['Sebastian Shaw', 'Kevin Levin'] <> energy absorption | predicted:  none - there is no connection between Sebastian Shaw and Kevin Levin.\n",
      " => (✗)\n"
     ]
    },
    {
     "name": "stderr",
     "output_type": "stream",
     "text": [
      " 41%|████▏     | 146/352 [12:45<14:15,  4.15s/it]"
     ]
    },
    {
     "name": "stdout",
     "output_type": "stream",
     "text": [
      "2024-09-06 00:28:56 src.functional INFO     ['8 House', 'Via 57 West'] <> Bjarke Ingels | predicted:  Jean Nouvel - who was the architect of both buildings 8 House and Via 57 West.\n",
      " => (✗)\n"
     ]
    },
    {
     "name": "stderr",
     "output_type": "stream",
     "text": [
      " 42%|████▏     | 147/352 [12:51<16:01,  4.69s/it]"
     ]
    },
    {
     "name": "stdout",
     "output_type": "stream",
     "text": [
      "2024-09-06 00:29:01 src.functional INFO     ['Wonder Woman', 'Captain Marvel'] <> flight | predicted:  superhero - a genre where both Wonder Woman and Captain Marvel are characters.\n",
      " => (✓)\n"
     ]
    },
    {
     "name": "stderr",
     "output_type": "stream",
     "text": [
      " 42%|████▏     | 148/352 [12:55<15:30,  4.56s/it]"
     ]
    },
    {
     "name": "stdout",
     "output_type": "stream",
     "text": [
      "2024-09-06 00:29:09 src.functional INFO     ['Angelina Jolie', 'Gia Carangi'] <> Gia | predicted:  Gia - a movie where Angelina Jolie played the role of Gia Carangi.\n",
      " => (✓)\n"
     ]
    },
    {
     "name": "stderr",
     "output_type": "stream",
     "text": [
      " 42%|████▏     | 149/352 [13:03<18:49,  5.57s/it]"
     ]
    },
    {
     "name": "stdout",
     "output_type": "stream",
     "text": [
      "2024-09-06 00:29:16 src.functional INFO     ['Church of the Light', 'Row House in Sumiyoshi'] <> Tadao Ando | predicted:  Tadao Ando - who was the architect of both buildings Church of the Light and Row House in Sumiyoshi.\n",
      " => (✓)\n"
     ]
    },
    {
     "name": "stderr",
     "output_type": "stream",
     "text": [
      " 43%|████▎     | 150/352 [13:10<20:35,  6.12s/it]"
     ]
    },
    {
     "name": "stdout",
     "output_type": "stream",
     "text": [
      "2024-09-06 00:29:22 src.functional INFO     ['Gateway Arch', 'TWA Flight Center'] <> Eero Saarinen | predicted:  Eero Saarinen - who was the architect of both buildings Gateway Arch and TWA Flight Center.\n",
      " => (✓)\n"
     ]
    },
    {
     "name": "stderr",
     "output_type": "stream",
     "text": [
      " 43%|████▎     | 151/352 [13:16<20:36,  6.15s/it]"
     ]
    },
    {
     "name": "stdout",
     "output_type": "stream",
     "text": [
      "2024-09-06 00:29:28 src.functional INFO     ['Phil Mickelson', 'Rory McIlroy'] <> golf | predicted:  golf - a sport where both Phil Mickelson and Rory McIlroy are professional golfers.\n",
      " => (✓)\n"
     ]
    },
    {
     "name": "stderr",
     "output_type": "stream",
     "text": [
      " 43%|████▎     | 152/352 [13:22<20:01,  6.01s/it]"
     ]
    },
    {
     "name": "stdout",
     "output_type": "stream",
     "text": [
      "2024-09-06 00:29:32 src.functional INFO     ['Nelson Mandela', 'Stonehenge'] <> none | predicted:  none - there is no connection between Nelson Mandela and Stonehenge.\n",
      " => (✓)\n"
     ]
    },
    {
     "name": "stderr",
     "output_type": "stream",
     "text": [
      " 43%|████▎     | 153/352 [13:26<18:10,  5.48s/it]"
     ]
    },
    {
     "name": "stdout",
     "output_type": "stream",
     "text": [
      "2024-09-06 00:29:37 src.functional INFO     ['Mahatma Gandhi', 'Eiffel Tower'] <> none | predicted:  none - there is no connection between Mahatma Gandhi and Eiffel Tower.\n",
      " => (✓)\n"
     ]
    },
    {
     "name": "stderr",
     "output_type": "stream",
     "text": [
      " 44%|████▍     | 154/352 [13:31<17:41,  5.36s/it]"
     ]
    },
    {
     "name": "stdout",
     "output_type": "stream",
     "text": [
      "2024-09-06 00:29:43 src.functional INFO     ['Andy Warhol', 'Sombrero'] <> none | predicted:  Campbell's Soup Can - a famous artwork by Andy Warhol, which features a sombrero.\n",
      " => (✗)\n"
     ]
    },
    {
     "name": "stderr",
     "output_type": "stream",
     "text": [
      " 44%|████▍     | 155/352 [13:37<17:54,  5.45s/it]"
     ]
    },
    {
     "name": "stdout",
     "output_type": "stream",
     "text": [
      "2024-09-06 00:29:48 src.functional INFO     ['Meryl Streep', 'Julia Child'] <> Julie & Julia | predicted:  Julie & Julia - a movie where Meryl Streep played the role of Julia Child.\n",
      " => (✓)\n"
     ]
    },
    {
     "name": "stderr",
     "output_type": "stream",
     "text": [
      " 44%|████▍     | 156/352 [13:42<17:47,  5.45s/it]"
     ]
    },
    {
     "name": "stdout",
     "output_type": "stream",
     "text": [
      "2024-09-06 00:29:53 src.functional INFO     ['Meryl Streep', 'Mount Everest'] <> none | predicted:  none - there is no connection between Meryl Streep and Mount Everest.\n",
      " => (✓)\n"
     ]
    },
    {
     "name": "stderr",
     "output_type": "stream",
     "text": [
      " 45%|████▍     | 157/352 [13:47<16:49,  5.17s/it]"
     ]
    },
    {
     "name": "stdout",
     "output_type": "stream",
     "text": [
      "2024-09-06 00:29:58 src.functional INFO     ['Superman', 'Iceman'] <> super breath | predicted:  X-Men - a comic book series where both Superman and Iceman are characters.\n",
      " => (✗)\n"
     ]
    },
    {
     "name": "stderr",
     "output_type": "stream",
     "text": [
      " 45%|████▍     | 158/352 [13:52<16:38,  5.15s/it]"
     ]
    },
    {
     "name": "stdout",
     "output_type": "stream",
     "text": [
      "2024-09-06 00:30:03 src.functional INFO     ['Elvis Presley', 'Taj Mahal'] <> none | predicted:  none - there is no connection between Elvis Presley and Taj Mahal.\n",
      " => (✓)\n"
     ]
    },
    {
     "name": "stderr",
     "output_type": "stream",
     "text": [
      " 45%|████▌     | 159/352 [13:57<15:57,  4.96s/it]"
     ]
    },
    {
     "name": "stdout",
     "output_type": "stream",
     "text": [
      "2024-09-06 00:30:08 src.functional INFO     ['Will Smith', 'Chris Gardner'] <> The Pursuit of Happyness | predicted:  The Pursuit of Happyness - a movie where Will Smith played the role of Chris Gardner.\n",
      " => (✓)\n"
     ]
    },
    {
     "name": "stderr",
     "output_type": "stream",
     "text": [
      " 45%|████▌     | 160/352 [14:03<16:48,  5.25s/it]"
     ]
    },
    {
     "name": "stdout",
     "output_type": "stream",
     "text": [
      "2024-09-06 00:30:13 src.functional INFO     ['Mount Everest', 'Jon Bon Jovi'] <> none | predicted:  none - there is no connection between Mount Everest and Jon Bon Jovi.\n",
      " => (✓)\n"
     ]
    },
    {
     "name": "stderr",
     "output_type": "stream",
     "text": [
      " 46%|████▌     | 161/352 [14:07<16:01,  5.03s/it]"
     ]
    },
    {
     "name": "stdout",
     "output_type": "stream",
     "text": [
      "2024-09-06 00:30:18 src.functional INFO     ['Spider-Man', 'Paul Atreides'] <> precognition | predicted:  none - there is no connection between Spider-Man and Paul Atreides.\n",
      " => (✗)\n"
     ]
    },
    {
     "name": "stderr",
     "output_type": "stream",
     "text": [
      " 46%|████▌     | 162/352 [14:12<15:28,  4.89s/it]"
     ]
    },
    {
     "name": "stdout",
     "output_type": "stream",
     "text": [
      "2024-09-06 00:30:23 src.functional INFO     ['Tom Brady', 'Peyton Manning'] <> american football | predicted:  NFL - a professional American football league where both Tom Brady and Peyton Manning have played.\n",
      " => (✓)\n"
     ]
    },
    {
     "name": "stderr",
     "output_type": "stream",
     "text": [
      " 46%|████▋     | 163/352 [14:17<15:34,  4.95s/it]"
     ]
    },
    {
     "name": "stdout",
     "output_type": "stream",
     "text": [
      "2024-09-06 00:30:27 src.functional INFO     ['Virginia Woolf', 'Ayers Rock'] <> none | predicted:  none - there is no connection between Virginia Woolf and Ayers Rock.\n",
      " => (✓)\n"
     ]
    },
    {
     "name": "stderr",
     "output_type": "stream",
     "text": [
      " 47%|████▋     | 164/352 [14:21<15:06,  4.82s/it]"
     ]
    },
    {
     "name": "stdout",
     "output_type": "stream",
     "text": [
      "2024-09-06 00:30:34 src.functional INFO     ['Derek Luke', 'Patrick Chamusso'] <> Catch a Fire | predicted:  the movie \"Cape of Good Hope\" - where both actors Derek Luke and Patrick Chamusso played roles.\n",
      " => (✗)\n"
     ]
    },
    {
     "name": "stderr",
     "output_type": "stream",
     "text": [
      " 47%|████▋     | 165/352 [14:28<16:51,  5.41s/it]"
     ]
    },
    {
     "name": "stdout",
     "output_type": "stream",
     "text": [
      "2024-09-06 00:30:41 src.functional INFO     ['Ayrton Senna', 'Alain Prost'] <> formula 1 | predicted:  Formula 1 racing - a sport where both Ayrton Senna and Alain Prost were professional drivers.\n",
      " => (✓)\n"
     ]
    },
    {
     "name": "stderr",
     "output_type": "stream",
     "text": [
      " 47%|████▋     | 166/352 [14:35<18:02,  5.82s/it]"
     ]
    },
    {
     "name": "stdout",
     "output_type": "stream",
     "text": [
      "2024-09-06 00:30:46 src.functional INFO     ['Chris Froome', 'Alberto Contador'] <> cycling | predicted:  professional cycling - a sport where both Chris Froome and Alberto Contador are professional cyclists.\n",
      " => (✓)\n"
     ]
    },
    {
     "name": "stderr",
     "output_type": "stream",
     "text": [
      " 47%|████▋     | 167/352 [14:40<17:32,  5.69s/it]"
     ]
    },
    {
     "name": "stdout",
     "output_type": "stream",
     "text": [
      "2024-09-06 00:30:51 src.functional INFO     ['Muhammad Ali', 'Leaning Tower of Pisa'] <> none | predicted:  none - there is no connection between Muhammad Ali and Leaning Tower of Pisa.\n",
      " => (✓)\n"
     ]
    },
    {
     "name": "stderr",
     "output_type": "stream",
     "text": [
      " 48%|████▊     | 168/352 [14:45<16:53,  5.51s/it]"
     ]
    },
    {
     "name": "stdout",
     "output_type": "stream",
     "text": [
      "2024-09-06 00:30:57 src.functional INFO     ['Jewish Museum Berlin', 'Denver Art Museum'] <> Daniel Libeskind | predicted:  Daniel Libeskind - who was the architect of both buildings Jewish Museum Berlin and Denver Art Museum.\n",
      " => (✓)\n"
     ]
    },
    {
     "name": "stderr",
     "output_type": "stream",
     "text": [
      " 48%|████▊     | 169/352 [14:51<17:12,  5.64s/it]"
     ]
    },
    {
     "name": "stdout",
     "output_type": "stream",
     "text": [
      "2024-09-06 00:31:07 src.functional INFO     ['Leonardo DiCaprio', 'Jordan Belfort'] <> The Wolf of Wall Street | predicted:  The Wolf of Wall Street - a movie where Leonardo DiCaprio played the role of Jordan Belfort.\n",
      " => (✓)\n"
     ]
    },
    {
     "name": "stderr",
     "output_type": "stream",
     "text": [
      " 48%|████▊     | 170/352 [15:01<20:45,  6.84s/it]"
     ]
    },
    {
     "name": "stdout",
     "output_type": "stream",
     "text": [
      "2024-09-06 00:31:13 src.functional INFO     ['Sergey Tetyukhin', 'Gilberto Godoy Filho'] <> volleyball | predicted:  volleyball - a sport where both Sergey Tetyukhin and Gilberto Godoy Filho are professional players.\n",
      " => (✓)\n"
     ]
    },
    {
     "name": "stderr",
     "output_type": "stream",
     "text": [
      " 49%|████▊     | 171/352 [15:07<20:22,  6.75s/it]"
     ]
    },
    {
     "name": "stdout",
     "output_type": "stream",
     "text": [
      "2024-09-06 00:31:18 src.functional INFO     ['Wayne Gretzky', 'Mario Lemieux'] <> ice hockey | predicted:  hockey - a sport where both Wayne Gretzky and Mario Lemieux played professionally.\n",
      " => (✓)\n"
     ]
    },
    {
     "name": "stderr",
     "output_type": "stream",
     "text": [
      " 49%|████▉     | 172/352 [15:12<18:44,  6.25s/it]"
     ]
    },
    {
     "name": "stdout",
     "output_type": "stream",
     "text": [
      "2024-09-06 00:31:24 src.functional INFO     ['Tom Hiddleston', 'Hank Williams'] <> I Saw the Light | predicted:  I Saw the Light - a movie where Tom Hiddleston played the role of Hank Williams.\n",
      " => (✓)\n"
     ]
    },
    {
     "name": "stderr",
     "output_type": "stream",
     "text": [
      " 49%|████▉     | 173/352 [15:18<18:06,  6.07s/it]"
     ]
    },
    {
     "name": "stdout",
     "output_type": "stream",
     "text": [
      "2024-09-06 00:31:29 src.functional INFO     ['Pyramids of Giza', 'Bob Marley'] <> none | predicted:  none - there is no connection between Pyramids of Giza and Bob Marley.\n",
      " => (✓)\n"
     ]
    },
    {
     "name": "stderr",
     "output_type": "stream",
     "text": [
      " 49%|████▉     | 174/352 [15:23<17:09,  5.79s/it]"
     ]
    },
    {
     "name": "stdout",
     "output_type": "stream",
     "text": [
      "2024-09-06 00:31:35 src.functional INFO     ['Denzel Washington', 'Rubin \"Hurricane\" Carter'] <> The Hurricane | predicted:  The Hurricane - a movie where Denzel Washington played the role of Rubin \"Hurricane\" Carter.\n",
      " => (✓)\n"
     ]
    },
    {
     "name": "stderr",
     "output_type": "stream",
     "text": [
      " 50%|████▉     | 175/352 [15:29<17:14,  5.84s/it]"
     ]
    },
    {
     "name": "stdout",
     "output_type": "stream",
     "text": [
      "2024-09-06 00:31:39 src.functional INFO     ['Madonna', 'Great Barrier Reef'] <> none | predicted:  none - there is no connection between Madonna and Great Barrier Reef.\n",
      " => (✓)\n"
     ]
    },
    {
     "name": "stderr",
     "output_type": "stream",
     "text": [
      " 50%|█████     | 176/352 [15:33<15:30,  5.28s/it]"
     ]
    },
    {
     "name": "stdout",
     "output_type": "stream",
     "text": [
      "2024-09-06 00:31:47 src.functional INFO     ['Jamal Woolard', 'The Notorious B.I.G.'] <> Notorious | predicted:  The Notorious B.I.G. - Jamal Woolard played the role of The Notorious B.I.G. in the movie Notorious.\n",
      " => (✓)\n"
     ]
    },
    {
     "name": "stderr",
     "output_type": "stream",
     "text": [
      " 50%|█████     | 177/352 [15:41<18:03,  6.19s/it]"
     ]
    },
    {
     "name": "stdout",
     "output_type": "stream",
     "text": [
      "2024-09-06 00:31:53 src.functional INFO     ['Michael Schumacher', 'Lewis Hamilton'] <> formula 1 | predicted:  Formula One - a racing series where both Michael Schumacher and Lewis Hamilton have competed.\n",
      " => (✓)\n"
     ]
    },
    {
     "name": "stderr",
     "output_type": "stream",
     "text": [
      " 51%|█████     | 178/352 [15:47<17:15,  5.95s/it]"
     ]
    },
    {
     "name": "stdout",
     "output_type": "stream",
     "text": [
      "2024-09-06 00:31:59 src.functional INFO     ['Habitat 67', 'Marina Bay Sands'] <> Moshe Safdie | predicted:  unique architecture - both Habitat 67 and Marina Bay Sands are known for their unique architectural designs.\n",
      " => (✓)\n"
     ]
    },
    {
     "name": "stderr",
     "output_type": "stream",
     "text": [
      " 51%|█████     | 179/352 [15:53<16:56,  5.88s/it]"
     ]
    },
    {
     "name": "stdout",
     "output_type": "stream",
     "text": [
      "2024-09-06 00:32:12 src.functional INFO     ['Leonardo DiCaprio', 'Petra'] <> none | predicted:  The Revenant - a movie where Leonardo DiCaprio played the role of Hugh Glass, who was inspired by the true story of John Colter, who was part of the Lewis and Clark expedition, which passed through Petra.\n",
      " => (✗)\n"
     ]
    },
    {
     "name": "stderr",
     "output_type": "stream",
     "text": [
      " 51%|█████     | 180/352 [16:06<23:32,  8.21s/it]"
     ]
    },
    {
     "name": "stdout",
     "output_type": "stream",
     "text": [
      "2024-09-06 00:32:17 src.functional INFO     ['Vincent van Gogh', 'Coca-Cola'] <> none | predicted:  none - there is no connection between Vincent van Gogh and Coca-Cola.\n",
      " => (✓)\n"
     ]
    },
    {
     "name": "stderr",
     "output_type": "stream",
     "text": [
      " 51%|█████▏    | 181/352 [16:11<20:16,  7.11s/it]"
     ]
    },
    {
     "name": "stdout",
     "output_type": "stream",
     "text": [
      "2024-09-06 00:32:21 src.functional INFO     ['Neil Armstrong', 'Samba'] <> none | predicted:  none - there is no connection between Neil Armstrong and Samba.\n",
      " => (✓)\n"
     ]
    },
    {
     "name": "stderr",
     "output_type": "stream",
     "text": [
      " 52%|█████▏    | 182/352 [16:15<17:27,  6.16s/it]"
     ]
    },
    {
     "name": "stdout",
     "output_type": "stream",
     "text": [
      "2024-09-06 00:32:26 src.functional INFO     ['Scarlet Witch', 'Franklin Richards'] <> reality warping | predicted:  Marvel Comics - a comic book universe where both Scarlet Witch and Franklin Richards are characters.\n",
      " => (✓)\n"
     ]
    },
    {
     "name": "stderr",
     "output_type": "stream",
     "text": [
      " 52%|█████▏    | 183/352 [16:20<16:27,  5.84s/it]"
     ]
    },
    {
     "name": "stdout",
     "output_type": "stream",
     "text": [
      "2024-09-06 00:32:31 src.functional INFO     ['The Shard', 'New York Times Building'] <> Renzo Piano | predicted:  skyscrapers - both The Shard and New York Times Building are skyscrapers.\n",
      " => (✓)\n"
     ]
    },
    {
     "name": "stderr",
     "output_type": "stream",
     "text": [
      " 52%|█████▏    | 184/352 [16:25<15:43,  5.62s/it]"
     ]
    },
    {
     "name": "stdout",
     "output_type": "stream",
     "text": [
      "2024-09-06 00:32:36 src.functional INFO     ['Jane Austen', 'Great Wall of China'] <> none | predicted:  none - there is no connection between Jane Austen and Great Wall of China.\n",
      " => (✓)\n"
     ]
    },
    {
     "name": "stderr",
     "output_type": "stream",
     "text": [
      " 53%|█████▎    | 185/352 [16:30<14:56,  5.37s/it]"
     ]
    },
    {
     "name": "stdout",
     "output_type": "stream",
     "text": [
      "2024-09-06 00:32:40 src.functional INFO     ['Mount Everest', 'Jon Bon Jovi'] <> none | predicted:  none - there is no connection between Mount Everest and Jon Bon Jovi.\n",
      " => (✓)\n"
     ]
    },
    {
     "name": "stderr",
     "output_type": "stream",
     "text": [
      " 53%|█████▎    | 186/352 [16:34<14:09,  5.12s/it]"
     ]
    },
    {
     "name": "stdout",
     "output_type": "stream",
     "text": [
      "2024-09-06 00:32:45 src.functional INFO     ['Iceman', 'Elsa'] <> ice powers | predicted:  ice powers - an attribute that both characters Iceman and Elsa possess.\n",
      " => (✓)\n"
     ]
    },
    {
     "name": "stderr",
     "output_type": "stream",
     "text": [
      " 53%|█████▎    | 187/352 [16:39<13:34,  4.93s/it]"
     ]
    },
    {
     "name": "stdout",
     "output_type": "stream",
     "text": [
      "2024-09-06 00:32:54 src.functional INFO     ['Benedict Cumberbatch', 'Alan Turing'] <> The Imitation Game | predicted:  Alan Turing - a British mathematician, computer scientist, and logician, who was portrayed by Benedict Cumberbatch in the movie \"The Imitation Game\".\n",
      " => (✓)\n"
     ]
    },
    {
     "name": "stderr",
     "output_type": "stream",
     "text": [
      " 53%|█████▎    | 188/352 [16:48<17:18,  6.33s/it]"
     ]
    },
    {
     "name": "stdout",
     "output_type": "stream",
     "text": [
      "2024-09-06 00:32:58 src.functional INFO     ['Coco Chanel', 'Uluru'] <> none | predicted:  none - there is no connection between Coco Chanel and Uluru.\n",
      " => (✓)\n"
     ]
    },
    {
     "name": "stderr",
     "output_type": "stream",
     "text": [
      " 54%|█████▎    | 189/352 [16:52<15:14,  5.61s/it]"
     ]
    },
    {
     "name": "stdout",
     "output_type": "stream",
     "text": [
      "2024-09-06 00:33:03 src.functional INFO     ['Christian Bale', 'Michael Burry'] <> The Big Short | predicted:  The Big Short - a movie where Christian Bale played the role of Michael Burry.\n",
      " => (✓)\n"
     ]
    },
    {
     "name": "stderr",
     "output_type": "stream",
     "text": [
      " 54%|█████▍    | 190/352 [16:57<14:44,  5.46s/it]"
     ]
    },
    {
     "name": "stdout",
     "output_type": "stream",
     "text": [
      "2024-09-06 00:33:08 src.functional INFO     ['Great Wall of China', 'Beyoncé'] <> none | predicted:  none - there is no connection between Great Wall of China and Beyoncé.\n",
      " => (✓)\n"
     ]
    },
    {
     "name": "stderr",
     "output_type": "stream",
     "text": [
      " 54%|█████▍    | 191/352 [17:02<13:53,  5.18s/it]"
     ]
    },
    {
     "name": "stdout",
     "output_type": "stream",
     "text": [
      "2024-09-06 00:33:14 src.functional INFO     ['Sandra Bullock', 'Leigh Anne Tuohy'] <> The Blind Side | predicted:  The Blind Side - a movie where Sandra Bullock played the role of Leigh Anne Tuohy.\n",
      " => (✓)\n"
     ]
    },
    {
     "name": "stderr",
     "output_type": "stream",
     "text": [
      " 55%|█████▍    | 192/352 [17:08<14:26,  5.41s/it]"
     ]
    },
    {
     "name": "stdout",
     "output_type": "stream",
     "text": [
      "2024-09-06 00:33:18 src.functional INFO     ['Albert Einstein', 'Machu Picchu'] <> none | predicted:  none - there is no connection between Albert Einstein and Machu Picchu.\n",
      " => (✓)\n"
     ]
    },
    {
     "name": "stderr",
     "output_type": "stream",
     "text": [
      " 55%|█████▍    | 193/352 [17:12<13:38,  5.15s/it]"
     ]
    },
    {
     "name": "stdout",
     "output_type": "stream",
     "text": [
      "2024-09-06 00:33:25 src.functional INFO     ['City of Arts and Sciences', 'World Trade Center Transportation Hub'] <> Santiago Calatrava | predicted:  Santiago Calatrava - an architect who designed both buildings City of Arts and Sciences and World Trade Center Transportation Hub.\n",
      " => (✓)\n"
     ]
    },
    {
     "name": "stderr",
     "output_type": "stream",
     "text": [
      " 55%|█████▌    | 194/352 [17:19<14:51,  5.64s/it]"
     ]
    },
    {
     "name": "stdout",
     "output_type": "stream",
     "text": [
      "2024-09-06 00:33:30 src.functional INFO     ['Poison Ivy', 'Swamp Thing'] <> plant manipulation | predicted:  DC Comics - both Poison Ivy and Swamp Thing are characters from DC Comics.\n",
      " => (✓)\n"
     ]
    },
    {
     "name": "stderr",
     "output_type": "stream",
     "text": [
      " 55%|█████▌    | 195/352 [17:24<13:53,  5.31s/it]"
     ]
    },
    {
     "name": "stdout",
     "output_type": "stream",
     "text": [
      "2024-09-06 00:33:38 src.functional INFO     ['Ma Long', 'Zhang Jike'] <> table tennis | predicted:  table tennis - a sport where both Ma Long and Zhang Jike are professional players.\n",
      " => (✓)\n"
     ]
    },
    {
     "name": "stderr",
     "output_type": "stream",
     "text": [
      " 56%|█████▌    | 196/352 [17:32<16:27,  6.33s/it]"
     ]
    },
    {
     "name": "stdout",
     "output_type": "stream",
     "text": [
      "2024-09-06 00:33:44 src.functional INFO     ['Meryl Streep', 'Margaret Thatcher'] <> The Iron Lady | predicted:  The Iron Lady - a movie where Meryl Streep played the role of Margaret Thatcher.\n",
      " => (✓)\n"
     ]
    },
    {
     "name": "stderr",
     "output_type": "stream",
     "text": [
      " 56%|█████▌    | 197/352 [17:38<15:36,  6.04s/it]"
     ]
    },
    {
     "name": "stdout",
     "output_type": "stream",
     "text": [
      "2024-09-06 00:33:49 src.functional INFO     ['Colin Firth', 'King George VI'] <> The King's Speech | predicted:  The King's Speech - a movie where Colin Firth played the role of King George VI.\n",
      " => (✓)\n"
     ]
    },
    {
     "name": "stderr",
     "output_type": "stream",
     "text": [
      " 56%|█████▋    | 198/352 [17:43<15:12,  5.93s/it]"
     ]
    },
    {
     "name": "stdout",
     "output_type": "stream",
     "text": [
      "2024-09-06 00:33:54 src.functional INFO     ['Derek Jeter', 'Ichiro Suzuki'] <> baseball | predicted:  baseball - a sport where both Derek Jeter and Ichiro Suzuki played.\n",
      " => (✓)\n"
     ]
    },
    {
     "name": "stderr",
     "output_type": "stream",
     "text": [
      " 57%|█████▋    | 199/352 [17:48<14:02,  5.51s/it]"
     ]
    },
    {
     "name": "stdout",
     "output_type": "stream",
     "text": [
      "2024-09-06 00:33:58 src.functional INFO     ['Anthony Hopkins', 'Richard Nixon'] <> Nixon | predicted:  Nixon - a movie where Anthony Hopkins played the role of Richard Nixon.\n",
      " => (✓)\n"
     ]
    },
    {
     "name": "stderr",
     "output_type": "stream",
     "text": [
      " 57%|█████▋    | 200/352 [17:52<13:00,  5.13s/it]"
     ]
    },
    {
     "name": "stdout",
     "output_type": "stream",
     "text": [
      "2024-09-06 00:34:04 src.functional INFO     ['Salma Hayek', 'Frida Kahlo'] <> Frida | predicted:  Frida - a movie where Salma Hayek played the role of Frida Kahlo.\n",
      " => (✓)\n"
     ]
    },
    {
     "name": "stderr",
     "output_type": "stream",
     "text": [
      " 57%|█████▋    | 201/352 [17:58<13:19,  5.29s/it]"
     ]
    },
    {
     "name": "stdout",
     "output_type": "stream",
     "text": [
      "2024-09-06 00:34:08 src.functional INFO     ['Human Torch', 'Firestorm'] <> fire control | predicted:  fire manipulation - an ability that both characters Human Torch and Firestorm have.\n",
      " => (✓)\n"
     ]
    },
    {
     "name": "stderr",
     "output_type": "stream",
     "text": [
      " 57%|█████▋    | 202/352 [18:02<12:39,  5.06s/it]"
     ]
    },
    {
     "name": "stdout",
     "output_type": "stream",
     "text": [
      "2024-09-06 00:34:15 src.functional INFO     ['Forest Whitaker', 'Idi Amin'] <> The Last King of Scotland | predicted:  Forest Whitaker played the role of Idi Amin in the movie \"The Last King of Scotland\".\n",
      " => (✓)\n"
     ]
    },
    {
     "name": "stderr",
     "output_type": "stream",
     "text": [
      " 58%|█████▊    | 203/352 [18:09<13:26,  5.41s/it]"
     ]
    },
    {
     "name": "stdout",
     "output_type": "stream",
     "text": [
      "2024-09-06 00:34:21 src.functional INFO     ['Guggenheim Museum Bilbao', 'Walt Disney Concert Hall'] <> Frank Gehry | predicted:  Frank Gehry - who was the architect of both buildings Guggenheim Museum Bilbao and Walt Disney Concert Hall.\n",
      " => (✓)\n"
     ]
    },
    {
     "name": "stderr",
     "output_type": "stream",
     "text": [
      " 58%|█████▊    | 204/352 [18:15<14:22,  5.83s/it]"
     ]
    },
    {
     "name": "stdout",
     "output_type": "stream",
     "text": [
      "2024-09-06 00:34:26 src.functional INFO     ['Cleopatra', 'Volkswagen Beetle'] <> none | predicted:  none - there is no connection between Cleopatra and Volkswagen Beetle.\n",
      " => (✓)\n"
     ]
    },
    {
     "name": "stderr",
     "output_type": "stream",
     "text": [
      " 58%|█████▊    | 205/352 [18:20<13:05,  5.34s/it]"
     ]
    },
    {
     "name": "stdout",
     "output_type": "stream",
     "text": [
      "2024-09-06 00:34:30 src.functional INFO     ['Serena Williams', 'Steffi Graf'] <> tennis | predicted:  tennis - a sport where both Serena Williams and Steffi Graf are known for.\n",
      " => (✓)\n"
     ]
    },
    {
     "name": "stderr",
     "output_type": "stream",
     "text": [
      " 59%|█████▊    | 206/352 [18:24<12:36,  5.18s/it]"
     ]
    },
    {
     "name": "stdout",
     "output_type": "stream",
     "text": [
      "2024-09-06 00:34:35 src.functional INFO     ['Vincent van Gogh', 'Coca-Cola'] <> none | predicted:  none - there is no connection between Vincent van Gogh and Coca-Cola.\n",
      " => (✓)\n"
     ]
    },
    {
     "name": "stderr",
     "output_type": "stream",
     "text": [
      " 59%|█████▉    | 207/352 [18:29<12:01,  4.98s/it]"
     ]
    },
    {
     "name": "stdout",
     "output_type": "stream",
     "text": [
      "2024-09-06 00:34:40 src.functional INFO     ['Karch Kiraly', 'Giba'] <> volleyball | predicted:  volleyball - a sport where both Karch Kiraly and Giba are known for.\n",
      " => (✓)\n"
     ]
    },
    {
     "name": "stderr",
     "output_type": "stream",
     "text": [
      " 59%|█████▉    | 208/352 [18:34<12:00,  5.01s/it]"
     ]
    },
    {
     "name": "stdout",
     "output_type": "stream",
     "text": [
      "2024-09-06 00:34:45 src.functional INFO     ['Eiffel Tower', 'Serena Williams'] <> none | predicted:  none - there is no connection between Eiffel Tower and Serena Williams.\n",
      " => (✓)\n"
     ]
    },
    {
     "name": "stderr",
     "output_type": "stream",
     "text": [
      " 59%|█████▉    | 209/352 [18:39<11:34,  4.86s/it]"
     ]
    },
    {
     "name": "stdout",
     "output_type": "stream",
     "text": [
      "2024-09-06 00:34:48 src.functional INFO     ['Coco Chanel', 'Uluru'] <> none | predicted:  none - there is no connection between Coco Chanel and Uluru.\n",
      " => (✓)\n"
     ]
    },
    {
     "name": "stderr",
     "output_type": "stream",
     "text": [
      " 60%|█████▉    | 210/352 [18:43<10:50,  4.58s/it]"
     ]
    },
    {
     "name": "stdout",
     "output_type": "stream",
     "text": [
      "2024-09-06 00:34:52 src.functional INFO     ['Batman', 'Iron Man'] <> billionaire | predicted:  superhero - a genre where both Batman and Iron Man are characters.\n",
      " => (✗)\n"
     ]
    },
    {
     "name": "stderr",
     "output_type": "stream",
     "text": [
      " 60%|█████▉    | 211/352 [18:46<10:19,  4.40s/it]"
     ]
    },
    {
     "name": "stdout",
     "output_type": "stream",
     "text": [
      "2024-09-06 00:34:57 src.functional INFO     ['Cable', 'Trunks'] <> time traveler | predicted:  time travel - a concept that both characters Cable and Trunks have been associated with.\n",
      " => (✓)\n"
     ]
    },
    {
     "name": "stderr",
     "output_type": "stream",
     "text": [
      " 60%|██████    | 212/352 [18:52<10:43,  4.60s/it]"
     ]
    },
    {
     "name": "stdout",
     "output_type": "stream",
     "text": [
      "2024-09-06 00:35:05 src.functional INFO     ['Helen Mirren', 'Queen Elizabeth II'] <> The Queen | predicted:  both have played the role of Queen Elizabeth II - Helen Mirren in the movie The Queen and Queen Elizabeth II in real life.\n",
      " => (✗)\n"
     ]
    },
    {
     "name": "stderr",
     "output_type": "stream",
     "text": [
      " 61%|██████    | 213/352 [18:59<12:46,  5.51s/it]"
     ]
    },
    {
     "name": "stdout",
     "output_type": "stream",
     "text": [
      "2024-09-06 00:35:11 src.functional INFO     ['Val Kilmer', 'Jim Morrison'] <> The Doors | predicted:  Jim Morrison - Val Kilmer played the role of Jim Morrison in the movie \"The Doors\".\n",
      " => (✓)\n"
     ]
    },
    {
     "name": "stderr",
     "output_type": "stream",
     "text": [
      " 61%|██████    | 214/352 [19:05<12:46,  5.55s/it]"
     ]
    },
    {
     "name": "stdout",
     "output_type": "stream",
     "text": [
      "2024-09-06 00:35:16 src.functional INFO     ['Jean Grey', 'Eleven'] <> telekinetic | predicted:  telepathic powers - an attribute that both characters Jean Grey and Eleven possess.\n",
      " => (✓)\n"
     ]
    },
    {
     "name": "stderr",
     "output_type": "stream",
     "text": [
      " 61%|██████    | 215/352 [19:10<12:09,  5.33s/it]"
     ]
    },
    {
     "name": "stdout",
     "output_type": "stream",
     "text": [
      "2024-09-06 00:35:21 src.functional INFO     ['Tokyo Metropolitan Government Building', \"St. Mary's Cathedral\"] <> Kenzo Tange | predicted:  Tokyo - a city where both Tokyo Metropolitan Government Building and St. Mary's Cathedral are located.\n",
      " => (✓)\n"
     ]
    },
    {
     "name": "stderr",
     "output_type": "stream",
     "text": [
      " 61%|██████▏   | 216/352 [19:15<12:17,  5.43s/it]"
     ]
    },
    {
     "name": "stdout",
     "output_type": "stream",
     "text": [
      "2024-09-06 00:35:26 src.functional INFO     ['Michael Jordan', 'Slovenia'] <> none | predicted:  basketball - a sport where Michael Jordan played and Slovenia has a national basketball team.\n",
      " => (✓)\n"
     ]
    },
    {
     "name": "stderr",
     "output_type": "stream",
     "text": [
      " 62%|██████▏   | 217/352 [19:20<11:47,  5.24s/it]"
     ]
    },
    {
     "name": "stdout",
     "output_type": "stream",
     "text": [
      "2024-09-06 00:35:31 src.functional INFO     ['Ray Liotta', 'Henry Hill'] <> Goodfellas | predicted:  Goodfellas - a movie where Ray Liotta played the role of Henry Hill.\n",
      " => (✓)\n"
     ]
    },
    {
     "name": "stderr",
     "output_type": "stream",
     "text": [
      " 62%|██████▏   | 218/352 [19:25<11:35,  5.19s/it]"
     ]
    },
    {
     "name": "stdout",
     "output_type": "stream",
     "text": [
      "2024-09-06 00:35:36 src.functional INFO     ['Michael Jordan', 'Slovenia'] <> none | predicted:  basketball - a sport where Michael Jordan played and Slovenia has a national basketball team.\n",
      " => (✓)\n"
     ]
    },
    {
     "name": "stderr",
     "output_type": "stream",
     "text": [
      " 62%|██████▏   | 219/352 [19:30<11:14,  5.07s/it]"
     ]
    },
    {
     "name": "stdout",
     "output_type": "stream",
     "text": [
      "2024-09-06 00:35:41 src.functional INFO     ['Mystique', 'Martian Manhunter'] <> shape-shifter | predicted:  shape-shifting - a superpower that both characters Mystique and Martian Manhunter possess.\n",
      " => (✓)\n"
     ]
    },
    {
     "name": "stderr",
     "output_type": "stream",
     "text": [
      " 62%|██████▎   | 220/352 [19:35<11:21,  5.16s/it]"
     ]
    },
    {
     "name": "stdout",
     "output_type": "stream",
     "text": [
      "2024-09-06 00:35:46 src.functional INFO     ['Beast Boy', 'Vixen'] <> animal powers | predicted:  Teen Titans - a superhero team where both Beast Boy and Vixen are members.\n",
      " => (✗)\n"
     ]
    },
    {
     "name": "stderr",
     "output_type": "stream",
     "text": [
      " 63%|██████▎   | 221/352 [19:40<11:12,  5.13s/it]"
     ]
    },
    {
     "name": "stdout",
     "output_type": "stream",
     "text": [
      "2024-09-06 00:35:51 src.functional INFO     ['Tiger Woods', 'Jack Nicklaus'] <> golf | predicted:  golf - a sport where both Tiger Woods and Jack Nicklaus are known for.\n",
      " => (✓)\n"
     ]
    },
    {
     "name": "stderr",
     "output_type": "stream",
     "text": [
      " 63%|██████▎   | 222/352 [19:45<10:54,  5.03s/it]"
     ]
    },
    {
     "name": "stdout",
     "output_type": "stream",
     "text": [
      "2024-09-06 00:35:55 src.functional INFO     ['Marie Curie', 'Kangaroo'] <> none | predicted:  none - there is no connection between Marie Curie and Kangaroo.\n",
      " => (✓)\n"
     ]
    },
    {
     "name": "stderr",
     "output_type": "stream",
     "text": [
      " 63%|██████▎   | 223/352 [19:49<10:18,  4.79s/it]"
     ]
    },
    {
     "name": "stdout",
     "output_type": "stream",
     "text": [
      "2024-09-06 00:36:01 src.functional INFO     ['Beijing National Stadium', 'Tate Modern'] <> Herzog & de Meuron | predicted:  Herzog & de Meuron - an architectural firm that designed both Beijing National Stadium and Tate Modern.\n",
      " => (✓)\n"
     ]
    },
    {
     "name": "stderr",
     "output_type": "stream",
     "text": [
      " 64%|██████▎   | 224/352 [19:55<10:57,  5.13s/it]"
     ]
    },
    {
     "name": "stdout",
     "output_type": "stream",
     "text": [
      "2024-09-06 00:36:09 src.functional INFO     ['John Cusack', 'Brian Wilson'] <> Love & Mercy | predicted:  High Fidelity - a movie where John Cusack played the role of Rob Gordon, a character inspired by Brian Wilson.\n",
      " => (✗)\n"
     ]
    },
    {
     "name": "stderr",
     "output_type": "stream",
     "text": [
      " 64%|██████▍   | 225/352 [20:03<12:16,  5.80s/it]"
     ]
    },
    {
     "name": "stdout",
     "output_type": "stream",
     "text": [
      "2024-09-06 00:36:14 src.functional INFO     ['Doctor Strange', 'Rick Sanchez'] <> portal creation | predicted:  time travel - a concept that both Doctor Strange and Rick Sanchez have explored in their respective stories.\n",
      " => (✓)\n"
     ]
    },
    {
     "name": "stderr",
     "output_type": "stream",
     "text": [
      " 64%|██████▍   | 226/352 [20:08<12:04,  5.75s/it]"
     ]
    },
    {
     "name": "stdout",
     "output_type": "stream",
     "text": [
      "2024-09-06 00:36:18 src.functional INFO     ['Charles Darwin', 'Flamenco'] <> none | predicted:  none - there is no connection between Charles Darwin and Flamenco.\n",
      " => (✓)\n"
     ]
    },
    {
     "name": "stderr",
     "output_type": "stream",
     "text": [
      " 64%|██████▍   | 227/352 [20:12<10:51,  5.21s/it]"
     ]
    },
    {
     "name": "stdout",
     "output_type": "stream",
     "text": [
      "2024-09-06 00:36:23 src.functional INFO     ['Meryl Streep', 'Mount Everest'] <> none | predicted:  none - there is no connection between Meryl Streep and Mount Everest.\n",
      " => (✓)\n"
     ]
    },
    {
     "name": "stderr",
     "output_type": "stream",
     "text": [
      " 65%|██████▍   | 228/352 [20:17<10:20,  5.00s/it]"
     ]
    },
    {
     "name": "stdout",
     "output_type": "stream",
     "text": [
      "2024-09-06 00:36:34 src.functional INFO     ['Adrien Brody', 'Władysław Szpilman'] <> The Pianist | predicted:  The Pianist - a movie where Adrien Brody played the role of Władysław Szpilman.\n",
      " => (✓)\n"
     ]
    },
    {
     "name": "stderr",
     "output_type": "stream",
     "text": [
      " 65%|██████▌   | 229/352 [20:28<14:15,  6.95s/it]"
     ]
    },
    {
     "name": "stdout",
     "output_type": "stream",
     "text": [
      "2024-09-06 00:36:41 src.functional INFO     ['Cathedral of Brasília', 'United Nations Secretariat Building'] <> Oscar Niemeyer | predicted:  Oscar Niemeyer - who was the architect of both buildings Cathedral of Brasília and United Nations Secretariat Building.\n",
      " => (✗)\n"
     ]
    },
    {
     "name": "stderr",
     "output_type": "stream",
     "text": [
      " 65%|██████▌   | 230/352 [20:35<14:03,  6.91s/it]"
     ]
    },
    {
     "name": "stdout",
     "output_type": "stream",
     "text": [
      "2024-09-06 00:36:46 src.functional INFO     ['Louvre Abu Dhabi', 'Torre Agbar'] <> Jean Nouvel | predicted:  architecture - both Louvre Abu Dhabi and Torre Agbar are notable architectural structures.\n",
      " => (✓)\n"
     ]
    },
    {
     "name": "stderr",
     "output_type": "stream",
     "text": [
      " 66%|██████▌   | 231/352 [20:40<12:49,  6.36s/it]"
     ]
    },
    {
     "name": "stdout",
     "output_type": "stream",
     "text": [
      "2024-09-06 00:36:52 src.functional INFO     ['CCTV Headquarters', 'Seattle Central Library'] <> Rem Koolhaas | predicted:  Rem Koolhaas - an architect who designed both buildings CCTV Headquarters and Seattle Central Library.\n",
      " => (✓)\n"
     ]
    },
    {
     "name": "stderr",
     "output_type": "stream",
     "text": [
      " 66%|██████▌   | 232/352 [20:46<12:16,  6.14s/it]"
     ]
    },
    {
     "name": "stdout",
     "output_type": "stream",
     "text": [
      "2024-09-06 00:36:56 src.functional INFO     ['Beethoven', 'Amazon Rainforest'] <> none | predicted:  none - there is no connection between Beethoven and Amazon Rainforest.\n",
      " => (✓)\n"
     ]
    },
    {
     "name": "stderr",
     "output_type": "stream",
     "text": [
      " 66%|██████▌   | 233/352 [20:50<11:02,  5.57s/it]"
     ]
    },
    {
     "name": "stdout",
     "output_type": "stream",
     "text": [
      "2024-09-06 00:37:00 src.functional INFO     ['Marie Curie', 'Kangaroo'] <> none | predicted:  none - there is no connection between Marie Curie and Kangaroo.\n",
      " => (✓)\n"
     ]
    },
    {
     "name": "stderr",
     "output_type": "stream",
     "text": [
      " 66%|██████▋   | 234/352 [20:54<10:09,  5.17s/it]"
     ]
    },
    {
     "name": "stdout",
     "output_type": "stream",
     "text": [
      "2024-09-06 00:37:06 src.functional INFO     ['Magneto', 'Toph Beifong'] <> metal manipulation | predicted:  telepathy - a power that both characters Magneto and Toph Beifong possess.\n",
      " => (✗)\n"
     ]
    },
    {
     "name": "stderr",
     "output_type": "stream",
     "text": [
      " 67%|██████▋   | 235/352 [21:00<10:22,  5.32s/it]"
     ]
    },
    {
     "name": "stdout",
     "output_type": "stream",
     "text": [
      "2024-09-06 00:37:10 src.functional INFO     ['Freddie Mercury', 'Sahara Desert'] <> none | predicted:  none - there is no connection between Freddie Mercury and Sahara Desert.\n",
      " => (✓)\n"
     ]
    },
    {
     "name": "stderr",
     "output_type": "stream",
     "text": [
      " 67%|██████▋   | 236/352 [21:04<09:28,  4.90s/it]"
     ]
    },
    {
     "name": "stdout",
     "output_type": "stream",
     "text": [
      "2024-09-06 00:37:14 src.functional INFO     ['William Shakespeare', 'Sushi'] <> none | predicted:  none - there is no connection between William Shakespeare and Sushi.\n",
      " => (✓)\n"
     ]
    },
    {
     "name": "stderr",
     "output_type": "stream",
     "text": [
      " 67%|██████▋   | 237/352 [21:08<08:50,  4.62s/it]"
     ]
    },
    {
     "name": "stdout",
     "output_type": "stream",
     "text": [
      "2024-09-06 00:37:18 src.functional INFO     ['Spider-Man', 'Spider-Gwen'] <> spider-powered | predicted:  Spider - a name that both characters Spider-Man and Spider-Gwen share.\n",
      " => (✗)\n"
     ]
    },
    {
     "name": "stderr",
     "output_type": "stream",
     "text": [
      " 68%|██████▊   | 238/352 [21:12<08:42,  4.59s/it]"
     ]
    },
    {
     "name": "stdout",
     "output_type": "stream",
     "text": [
      "2024-09-06 00:37:24 src.functional INFO     ['Leonardo DiCaprio', 'Howard Hughes'] <> The Aviator | predicted:  The Aviator - a movie where Leonardo DiCaprio played the role of Howard Hughes.\n",
      " => (✓)\n"
     ]
    },
    {
     "name": "stderr",
     "output_type": "stream",
     "text": [
      " 68%|██████▊   | 239/352 [21:18<09:05,  4.82s/it]"
     ]
    },
    {
     "name": "stdout",
     "output_type": "stream",
     "text": [
      "2024-09-06 00:37:29 src.functional INFO     ['Barry Bonds', 'Ken Griffey Jr.'] <> baseball | predicted:  baseball - a sport where both Barry Bonds and Ken Griffey Jr. played.\n",
      " => (✓)\n"
     ]
    },
    {
     "name": "stderr",
     "output_type": "stream",
     "text": [
      " 68%|██████▊   | 240/352 [21:23<09:00,  4.83s/it]"
     ]
    },
    {
     "name": "stdout",
     "output_type": "stream",
     "text": [
      "2024-09-06 00:37:35 src.functional INFO     ['Woody Harrelson', 'Larry Flynt'] <> The People vs. Larry Flynt | predicted:  The People vs. Larry Flynt - a movie where Woody Harrelson played the role of Larry Flynt.\n",
      " => (✓)\n"
     ]
    },
    {
     "name": "stderr",
     "output_type": "stream",
     "text": [
      " 68%|██████▊   | 241/352 [21:29<10:01,  5.41s/it]"
     ]
    },
    {
     "name": "stdout",
     "output_type": "stream",
     "text": [
      "2024-09-06 00:37:40 src.functional INFO     ['Denzel Washington', 'Malcolm X'] <> Malcolm X | predicted:  Malcolm X - a historical figure who was portrayed by Denzel Washington in a movie.\n",
      " => (✓)\n"
     ]
    },
    {
     "name": "stderr",
     "output_type": "stream",
     "text": [
      " 69%|██████▉   | 242/352 [21:34<09:45,  5.32s/it]"
     ]
    },
    {
     "name": "stdout",
     "output_type": "stream",
     "text": [
      "2024-09-06 00:37:44 src.functional INFO     ['Storm', 'Aang'] <> elemental control | predicted:  none - there is no connection between Storm and Aang.\n",
      " => (✗)\n"
     ]
    },
    {
     "name": "stderr",
     "output_type": "stream",
     "text": [
      " 69%|██████▉   | 243/352 [21:38<08:46,  4.83s/it]"
     ]
    },
    {
     "name": "stdout",
     "output_type": "stream",
     "text": [
      "2024-09-06 00:37:49 src.functional INFO     ['Tiger Woods', 'Phil Mickelson'] <> golf | predicted:  golf - a sport where both Tiger Woods and Phil Mickelson are professional golfers.\n",
      " => (✓)\n"
     ]
    },
    {
     "name": "stderr",
     "output_type": "stream",
     "text": [
      " 69%|██████▉   | 244/352 [21:43<08:50,  4.91s/it]"
     ]
    },
    {
     "name": "stdout",
     "output_type": "stream",
     "text": [
      "2024-09-06 00:37:54 src.functional INFO     ['Lionel Messi', 'Cristiano Ronaldo'] <> soccer | predicted:  soccer - a sport where both Lionel Messi and Cristiano Ronaldo are known for.\n",
      " => (✓)\n"
     ]
    },
    {
     "name": "stderr",
     "output_type": "stream",
     "text": [
      " 70%|██████▉   | 245/352 [21:48<08:33,  4.80s/it]"
     ]
    },
    {
     "name": "stdout",
     "output_type": "stream",
     "text": [
      "2024-09-06 00:37:58 src.functional INFO     ['Multiple Man', 'Naruto Uzumaki'] <> cloning | predicted:  none - there is no connection between Multiple Man and Naruto Uzumaki.\n",
      " => (✗)\n"
     ]
    },
    {
     "name": "stderr",
     "output_type": "stream",
     "text": [
      " 70%|██████▉   | 246/352 [21:52<08:20,  4.72s/it]"
     ]
    },
    {
     "name": "stdout",
     "output_type": "stream",
     "text": [
      "2024-09-06 00:38:03 src.functional INFO     ['Muhammad Ali', 'Mike Tyson'] <> boxing | predicted:  boxing - a sport where both Muhammad Ali and Mike Tyson were professional boxers.\n",
      " => (✓)\n"
     ]
    },
    {
     "name": "stderr",
     "output_type": "stream",
     "text": [
      " 70%|███████   | 247/352 [21:57<08:18,  4.75s/it]"
     ]
    },
    {
     "name": "stdout",
     "output_type": "stream",
     "text": [
      "2024-09-06 00:38:07 src.functional INFO     ['Taj Mahal', 'Stephen King'] <> none | predicted:  none - there is no connection between Taj Mahal and Stephen King.\n",
      " => (✓)\n"
     ]
    },
    {
     "name": "stderr",
     "output_type": "stream",
     "text": [
      " 70%|███████   | 248/352 [22:01<07:57,  4.59s/it]"
     ]
    },
    {
     "name": "stdout",
     "output_type": "stream",
     "text": [
      "2024-09-06 00:38:21 src.functional INFO     ['Leonardo DiCaprio', 'Petra'] <> none | predicted:  The Revenant - a movie where Leonardo DiCaprio played the role of Hugh Glass, who was inspired by the true story of John Colter, who was part of the Lewis and Clark expedition, which passed through Petra.\n",
      " => (✗)\n"
     ]
    },
    {
     "name": "stderr",
     "output_type": "stream",
     "text": [
      " 71%|███████   | 249/352 [22:15<12:21,  7.20s/it]"
     ]
    },
    {
     "name": "stdout",
     "output_type": "stream",
     "text": [
      "2024-09-06 00:38:26 src.functional INFO     ['Captain America', 'Winter Soldier'] <> super soldier | predicted:  Bucky Barnes - a character who is the Winter Soldier and also the best friend of Captain America.\n",
      " => (✓)\n"
     ]
    },
    {
     "name": "stderr",
     "output_type": "stream",
     "text": [
      " 71%|███████   | 250/352 [22:21<11:34,  6.81s/it]"
     ]
    },
    {
     "name": "stdout",
     "output_type": "stream",
     "text": [
      "2024-09-06 00:38:34 src.functional INFO     ['Institut du Monde Arabe', 'One Central Park'] <> Jean Nouvel | predicted:  Ateliers Jean Nouvel - the architect who designed both buildings Institut du Monde Arabe and One Central Park.\n",
      " => (✓)\n"
     ]
    },
    {
     "name": "stderr",
     "output_type": "stream",
     "text": [
      " 71%|███████▏  | 251/352 [22:28<11:34,  6.88s/it]"
     ]
    },
    {
     "name": "stdout",
     "output_type": "stream",
     "text": [
      "2024-09-06 00:38:39 src.functional INFO     ['Turning Torso', 'Milwaukee Art Museum'] <> Santiago Calatrava | predicted:  Santiago Calatrava - an architect who designed both buildings Turning Torso and Milwaukee Art Museum.\n",
      " => (✗)\n"
     ]
    },
    {
     "name": "stderr",
     "output_type": "stream",
     "text": [
      " 72%|███████▏  | 252/352 [22:33<10:49,  6.50s/it]"
     ]
    },
    {
     "name": "stdout",
     "output_type": "stream",
     "text": [
      "2024-09-06 00:38:46 src.functional INFO     ['Sagrada Família', 'Casa Milà'] <> Antoni Gaudí | predicted:  Antoni Gaudí - who was the architect of both buildings Sagrada Família and Casa Milà.\n",
      " => (✓)\n"
     ]
    },
    {
     "name": "stderr",
     "output_type": "stream",
     "text": [
      " 72%|███████▏  | 253/352 [22:40<10:42,  6.49s/it]"
     ]
    },
    {
     "name": "stdout",
     "output_type": "stream",
     "text": [
      "2024-09-06 00:38:51 src.functional INFO     ['Jan-Ove Waldner', 'Ma Long'] <> table tennis | predicted:  table tennis - a sport where both Jan-Ove Waldner and Ma Long are known for.\n",
      " => (✓)\n"
     ]
    },
    {
     "name": "stderr",
     "output_type": "stream",
     "text": [
      " 72%|███████▏  | 254/352 [22:45<10:10,  6.23s/it]"
     ]
    },
    {
     "name": "stdout",
     "output_type": "stream",
     "text": [
      "2024-09-06 00:38:56 src.functional INFO     ['Bradley Cooper', 'Chris Kyle'] <> American Sniper | predicted:  American Sniper - a movie where Bradley Cooper played the role of Chris Kyle.\n",
      " => (✓)\n"
     ]
    },
    {
     "name": "stderr",
     "output_type": "stream",
     "text": [
      " 72%|███████▏  | 255/352 [22:50<09:13,  5.71s/it]"
     ]
    },
    {
     "name": "stdout",
     "output_type": "stream",
     "text": [
      "2024-09-06 00:39:01 src.functional INFO     ['Sandman', 'Freddy Krueger'] <> dream manipulation | predicted:  ability to manipulate dreams - a power that both Sandman and Freddy Krueger possess.\n",
      " => (✓)\n"
     ]
    },
    {
     "name": "stderr",
     "output_type": "stream",
     "text": [
      " 73%|███████▎  | 256/352 [22:55<08:57,  5.60s/it]"
     ]
    },
    {
     "name": "stdout",
     "output_type": "stream",
     "text": [
      "2024-09-06 00:39:07 src.functional INFO     [\"Peter O'Toole\", 'T.E. Lawrence'] <> Lawrence of Arabia | predicted:  Lawrence of Arabia - a movie where Peter O'Toole played the role of T.E. Lawrence.\n",
      " => (✓)\n"
     ]
    },
    {
     "name": "stderr",
     "output_type": "stream",
     "text": [
      " 73%|███████▎  | 257/352 [23:01<09:09,  5.78s/it]"
     ]
    },
    {
     "name": "stdout",
     "output_type": "stream",
     "text": [
      "2024-09-06 00:39:11 src.functional INFO     ['Giant-Man', 'Mount Lady'] <> size increase | predicted:  none - there is no connection between Giant-Man and Mount Lady.\n",
      " => (✗)\n"
     ]
    },
    {
     "name": "stderr",
     "output_type": "stream",
     "text": [
      " 73%|███████▎  | 258/352 [23:05<08:11,  5.22s/it]"
     ]
    },
    {
     "name": "stdout",
     "output_type": "stream",
     "text": [
      "2024-09-06 00:39:16 src.functional INFO     ['Hulk', 'Juggernaut'] <> super strength | predicted:  superhuman strength - a characteristic that both characters Hulk and Juggernaut possess.\n",
      " => (✓)\n"
     ]
    },
    {
     "name": "stderr",
     "output_type": "stream",
     "text": [
      " 74%|███████▎  | 259/352 [23:10<07:53,  5.09s/it]"
     ]
    },
    {
     "name": "stdout",
     "output_type": "stream",
     "text": [
      "2024-09-06 00:39:21 src.functional INFO     ['Martin Luther King Jr.', 'Acropolis'] <> none | predicted:  none - there is no connection between Martin Luther King Jr. and Acropolis.\n",
      " => (✓)\n"
     ]
    },
    {
     "name": "stderr",
     "output_type": "stream",
     "text": [
      " 74%|███████▍  | 260/352 [23:15<07:40,  5.00s/it]"
     ]
    },
    {
     "name": "stdout",
     "output_type": "stream",
     "text": [
      "2024-09-06 00:39:26 src.functional INFO     ['Galileo Galilei', 'Boomerang'] <> none | predicted:  none - there is no connection between Galileo Galilei and Boomerang.\n",
      " => (✓)\n"
     ]
    },
    {
     "name": "stderr",
     "output_type": "stream",
     "text": [
      " 74%|███████▍  | 261/352 [23:20<07:37,  5.03s/it]"
     ]
    },
    {
     "name": "stdout",
     "output_type": "stream",
     "text": [
      "2024-09-06 00:39:31 src.functional INFO     ['Lance Armstrong', 'Eddy Merckx'] <> cycling | predicted:  cycling - a sport where both Lance Armstrong and Eddy Merckx are known for.\n",
      " => (✓)\n"
     ]
    },
    {
     "name": "stderr",
     "output_type": "stream",
     "text": [
      " 74%|███████▍  | 262/352 [23:25<07:42,  5.13s/it]"
     ]
    },
    {
     "name": "stdout",
     "output_type": "stream",
     "text": [
      "2024-09-06 00:39:37 src.functional INFO     ['Robert De Niro', 'Jake LaMotta'] <> Raging Bull | predicted:  Raging Bull - a movie where Robert De Niro played the role of Jake LaMotta.\n",
      " => (✓)\n"
     ]
    },
    {
     "name": "stderr",
     "output_type": "stream",
     "text": [
      " 75%|███████▍  | 263/352 [23:31<07:58,  5.37s/it]"
     ]
    },
    {
     "name": "stdout",
     "output_type": "stream",
     "text": [
      "2024-09-06 00:39:42 src.functional INFO     ['Leonardo da Vinci', 'Great Barrier Reef'] <> none | predicted:  none - there is no connection between Leonardo da Vinci and Great Barrier Reef.\n",
      " => (✓)\n"
     ]
    },
    {
     "name": "stderr",
     "output_type": "stream",
     "text": [
      " 75%|███████▌  | 264/352 [23:36<07:30,  5.12s/it]"
     ]
    },
    {
     "name": "stdout",
     "output_type": "stream",
     "text": [
      "2024-09-06 00:39:49 src.functional INFO     ['30 St Mary Axe (The Gherkin)', 'Hearst Tower'] <> Norman Foster | predicted:  Norman Foster - who was the architect of both buildings 30 St Mary Axe (The Gherkin) and Hearst Tower.\n",
      " => (✓)\n"
     ]
    },
    {
     "name": "stderr",
     "output_type": "stream",
     "text": [
      " 75%|███████▌  | 265/352 [23:43<08:31,  5.88s/it]"
     ]
    },
    {
     "name": "stdout",
     "output_type": "stream",
     "text": [
      "2024-09-06 00:39:54 src.functional INFO     ['Tony Stark', 'Reed Richards'] <> genius inventor | predicted:  genius-level intellect - a characteristic that both Tony Stark and Reed Richards possess.\n",
      " => (✓)\n"
     ]
    },
    {
     "name": "stderr",
     "output_type": "stream",
     "text": [
      " 76%|███████▌  | 266/352 [23:48<07:50,  5.48s/it]"
     ]
    },
    {
     "name": "stdout",
     "output_type": "stream",
     "text": [
      "2024-09-06 00:40:04 src.functional INFO     ['Robert Downey Jr.', 'Charlie Chaplin'] <> Chaplin | predicted:  acting - a profession that both Robert Downey Jr. and Charlie Chaplin are known for.\n",
      " => (✓)\n"
     ]
    },
    {
     "name": "stderr",
     "output_type": "stream",
     "text": [
      " 76%|███████▌  | 267/352 [23:58<09:53,  6.98s/it]"
     ]
    },
    {
     "name": "stdout",
     "output_type": "stream",
     "text": [
      "2024-09-06 00:40:10 src.functional INFO     ['Novak Djokovic', 'Andy Murray'] <> tennis | predicted:  tennis - a sport where both Novak Djokovic and Andy Murray are known for.\n",
      " => (✓)\n"
     ]
    },
    {
     "name": "stderr",
     "output_type": "stream",
     "text": [
      " 76%|███████▌  | 268/352 [24:04<09:05,  6.50s/it]"
     ]
    },
    {
     "name": "stdout",
     "output_type": "stream",
     "text": [
      "2024-09-06 00:40:14 src.functional INFO     ['Walt Disney', 'Spaghetti'] <> none | predicted:  none - there is no connection between Walt Disney and Spaghetti.\n",
      " => (✓)\n"
     ]
    },
    {
     "name": "stderr",
     "output_type": "stream",
     "text": [
      " 76%|███████▋  | 269/352 [24:08<07:55,  5.73s/it]"
     ]
    },
    {
     "name": "stdout",
     "output_type": "stream",
     "text": [
      "2024-09-06 00:40:17 src.functional INFO     ['Steve Jobs', 'Tango'] <> none | predicted:  none - there is no connection between Steve Jobs and Tango.\n",
      " => (✓)\n"
     ]
    },
    {
     "name": "stderr",
     "output_type": "stream",
     "text": [
      " 77%|███████▋  | 270/352 [24:11<06:58,  5.11s/it]"
     ]
    },
    {
     "name": "stdout",
     "output_type": "stream",
     "text": [
      "2024-09-06 00:40:23 src.functional INFO     ['Cyclops', 'Starfire'] <> energy projection | predicted:  X-Men and Teen Titans - both Cyclops and Starfire are characters from these comic book series.\n",
      " => (✗)\n"
     ]
    },
    {
     "name": "stderr",
     "output_type": "stream",
     "text": [
      " 77%|███████▋  | 271/352 [24:17<07:14,  5.36s/it]"
     ]
    },
    {
     "name": "stdout",
     "output_type": "stream",
     "text": [
      "2024-09-06 00:40:28 src.functional INFO     ['Michael Phelps', 'Ian Thorpe'] <> swimming | predicted:  swimming - a sport where both Michael Phelps and Ian Thorpe are known for.\n",
      " => (✓)\n"
     ]
    },
    {
     "name": "stderr",
     "output_type": "stream",
     "text": [
      " 77%|███████▋  | 272/352 [24:22<06:55,  5.19s/it]"
     ]
    },
    {
     "name": "stdout",
     "output_type": "stream",
     "text": [
      "2024-09-06 00:40:33 src.functional INFO     ['John Lone', 'Emperor Puyi'] <> The Last Emperor | predicted:  The Last Emperor - a movie where John Lone played the role of Emperor Puyi.\n",
      " => (✓)\n"
     ]
    },
    {
     "name": "stderr",
     "output_type": "stream",
     "text": [
      " 78%|███████▊  | 273/352 [24:28<06:54,  5.25s/it]"
     ]
    },
    {
     "name": "stdout",
     "output_type": "stream",
     "text": [
      "2024-09-06 00:40:39 src.functional INFO     ['Renée Zellweger', 'Judy Garland'] <> Judy | predicted:  Judy - a movie where Renée Zellweger played the role of Judy Garland.\n",
      " => (✓)\n"
     ]
    },
    {
     "name": "stderr",
     "output_type": "stream",
     "text": [
      " 78%|███████▊  | 274/352 [24:33<06:52,  5.29s/it]"
     ]
    },
    {
     "name": "stdout",
     "output_type": "stream",
     "text": [
      "2024-09-06 00:40:45 src.functional INFO     ['Katie Ledecky', 'Federica Pellegrini'] <> swimming | predicted:  swimming - a sport where both Katie Ledecky and Federica Pellegrini are known for.\n",
      " => (✓)\n"
     ]
    },
    {
     "name": "stderr",
     "output_type": "stream",
     "text": [
      " 78%|███████▊  | 275/352 [24:39<07:08,  5.57s/it]"
     ]
    },
    {
     "name": "stdout",
     "output_type": "stream",
     "text": [
      "2024-09-06 00:40:52 src.functional INFO     ['Yuzuru Hanyu', 'Evgeni Plushenko'] <> figure skating | predicted:  figure skating - a sport where both Yuzuru Hanyu and Evgeni Plushenko are known for.\n",
      " => (✓)\n"
     ]
    },
    {
     "name": "stderr",
     "output_type": "stream",
     "text": [
      " 78%|███████▊  | 276/352 [24:46<07:37,  6.02s/it]"
     ]
    },
    {
     "name": "stdout",
     "output_type": "stream",
     "text": [
      "2024-09-06 00:40:57 src.functional INFO     ['Virat Kohli', 'Steve Smith'] <> cricket | predicted:  cricket - a sport where both Virat Kohli and Steve Smith are known for.\n",
      " => (✓)\n"
     ]
    },
    {
     "name": "stderr",
     "output_type": "stream",
     "text": [
      " 79%|███████▊  | 277/352 [24:51<07:10,  5.75s/it]"
     ]
    },
    {
     "name": "stdout",
     "output_type": "stream",
     "text": [
      "2024-09-06 00:41:02 src.functional INFO     ['Eiffel Tower', 'Serena Williams'] <> none | predicted:  none - there is no connection between Eiffel Tower and Serena Williams.\n",
      " => (✓)\n"
     ]
    },
    {
     "name": "stderr",
     "output_type": "stream",
     "text": [
      " 79%|███████▉  | 278/352 [24:56<06:37,  5.38s/it]"
     ]
    },
    {
     "name": "stdout",
     "output_type": "stream",
     "text": [
      "2024-09-06 00:41:08 src.functional INFO     ['Carolina Marín', 'Saina Nehwal'] <> badminton | predicted:  badminton - a sport where both Carolina Marín and Saina Nehwal are professional players.\n",
      " => (✓)\n"
     ]
    },
    {
     "name": "stderr",
     "output_type": "stream",
     "text": [
      " 79%|███████▉  | 279/352 [25:02<06:44,  5.54s/it]"
     ]
    },
    {
     "name": "stdout",
     "output_type": "stream",
     "text": [
      "2024-09-06 00:41:14 src.functional INFO     ['Pelé', 'Mona Lisa'] <> none | predicted:  Leonardo da Vinci - who painted the Mona Lisa and was also a friend of Pelé's father.\n",
      " => (✗)\n"
     ]
    },
    {
     "name": "stderr",
     "output_type": "stream",
     "text": [
      " 80%|███████▉  | 280/352 [25:08<06:47,  5.66s/it]"
     ]
    },
    {
     "name": "stdout",
     "output_type": "stream",
     "text": [
      "2024-09-06 00:41:18 src.functional INFO     ['Susan Storm', 'Invisible Woman'] <> invisibility | predicted:  Fantastic Four - a superhero team where both Susan Storm and Invisible Woman are members.\n",
      " => (✗)\n"
     ]
    },
    {
     "name": "stderr",
     "output_type": "stream",
     "text": [
      " 80%|███████▉  | 281/352 [25:13<06:23,  5.40s/it]"
     ]
    },
    {
     "name": "stdout",
     "output_type": "stream",
     "text": [
      "2024-09-06 00:41:22 src.functional INFO     ['Madonna', 'Great Barrier Reef'] <> none | predicted:  none - there is no connection between Madonna and Great Barrier Reef.\n",
      " => (✓)\n"
     ]
    },
    {
     "name": "stderr",
     "output_type": "stream",
     "text": [
      " 80%|████████  | 282/352 [25:16<05:47,  4.97s/it]"
     ]
    },
    {
     "name": "stdout",
     "output_type": "stream",
     "text": [
      "2024-09-06 00:41:28 src.functional INFO     ['Getty Center', 'Barcelona Museum of Contemporary Art'] <> Richard Meier | predicted:  architecture - both Getty Center and Barcelona Museum of Contemporary Art are known for their unique architecture.\n",
      " => (✓)\n"
     ]
    },
    {
     "name": "stderr",
     "output_type": "stream",
     "text": [
      " 80%|████████  | 283/352 [25:22<05:51,  5.09s/it]"
     ]
    },
    {
     "name": "stdout",
     "output_type": "stream",
     "text": [
      "2024-09-06 00:41:34 src.functional INFO     ['Eddie Redmayne', 'Lili Elbe'] <> The Danish Girl | predicted:  The Danish Girl - a movie where Eddie Redmayne played the role of Lili Elbe.\n",
      " => (✓)\n"
     ]
    },
    {
     "name": "stderr",
     "output_type": "stream",
     "text": [
      " 81%|████████  | 284/352 [25:28<06:03,  5.34s/it]"
     ]
    },
    {
     "name": "stdout",
     "output_type": "stream",
     "text": [
      "2024-09-06 00:41:39 src.functional INFO     ['Audrey Hepburn', 'Mount Kilimanjaro'] <> none | predicted:  none - there is no connection between Audrey Hepburn and Mount Kilimanjaro.\n",
      " => (✓)\n"
     ]
    },
    {
     "name": "stderr",
     "output_type": "stream",
     "text": [
      " 81%|████████  | 285/352 [25:33<05:52,  5.26s/it]"
     ]
    },
    {
     "name": "stdout",
     "output_type": "stream",
     "text": [
      "2024-09-06 00:41:43 src.functional INFO     ['Daniel Day-Lewis', 'Abraham Lincoln'] <> Lincoln | predicted:  Daniel Day-Lewis played the role of Abraham Lincoln in the movie Lincoln.\n",
      " => (✓)\n"
     ]
    },
    {
     "name": "stderr",
     "output_type": "stream",
     "text": [
      " 81%|████████▏ | 286/352 [25:37<05:32,  5.04s/it]"
     ]
    },
    {
     "name": "stdout",
     "output_type": "stream",
     "text": [
      "2024-09-06 00:41:47 src.functional INFO     ['Robin Williams', 'Patch Adams'] <> Patch Adams | predicted:  the movie Patch Adams - where Robin Williams played the title role.\n",
      " => (✓)\n"
     ]
    },
    {
     "name": "stderr",
     "output_type": "stream",
     "text": [
      " 82%|████████▏ | 287/352 [25:41<05:06,  4.71s/it]"
     ]
    },
    {
     "name": "stdout",
     "output_type": "stream",
     "text": [
      "2024-09-06 00:41:52 src.functional INFO     ['Cyborg', 'Ultron'] <> technopathy | predicted:  artificial intelligence - a technology that both Cyborg and Ultron are based on.\n",
      " => (✗)\n"
     ]
    },
    {
     "name": "stderr",
     "output_type": "stream",
     "text": [
      " 82%|████████▏ | 288/352 [25:46<05:04,  4.75s/it]"
     ]
    },
    {
     "name": "stdout",
     "output_type": "stream",
     "text": [
      "2024-09-06 00:41:56 src.functional INFO     ['Bruce Lee', 'Stonehenge'] <> none | predicted:  none - there is no connection between Bruce Lee and Stonehenge.\n",
      " => (✓)\n"
     ]
    },
    {
     "name": "stderr",
     "output_type": "stream",
     "text": [
      " 82%|████████▏ | 289/352 [25:50<04:49,  4.60s/it]"
     ]
    },
    {
     "name": "stdout",
     "output_type": "stream",
     "text": [
      "2024-09-06 00:42:01 src.functional INFO     ['Martin Luther King Jr.', 'Acropolis'] <> none | predicted:  none - there is no connection between Martin Luther King Jr. and Acropolis.\n",
      " => (✓)\n"
     ]
    },
    {
     "name": "stderr",
     "output_type": "stream",
     "text": [
      " 82%|████████▏ | 290/352 [25:55<04:49,  4.66s/it]"
     ]
    },
    {
     "name": "stdout",
     "output_type": "stream",
     "text": [
      "2024-09-06 00:42:07 src.functional INFO     ['Tessa Virtue', 'Scott Moir'] <> figure skating | predicted:  figure skating - a sport where both Tessa Virtue and Scott Moir are known for.\n",
      " => (✓)\n"
     ]
    },
    {
     "name": "stderr",
     "output_type": "stream",
     "text": [
      " 83%|████████▎ | 291/352 [26:01<05:02,  4.96s/it]"
     ]
    },
    {
     "name": "stdout",
     "output_type": "stream",
     "text": [
      "2024-09-06 00:42:11 src.functional INFO     ['Beethoven', 'Amazon Rainforest'] <> none | predicted:  none - there is no connection between Beethoven and Amazon Rainforest.\n",
      " => (✓)\n"
     ]
    },
    {
     "name": "stderr",
     "output_type": "stream",
     "text": [
      " 83%|████████▎ | 292/352 [26:05<04:44,  4.74s/it]"
     ]
    },
    {
     "name": "stdout",
     "output_type": "stream",
     "text": [
      "2024-09-06 00:42:15 src.functional INFO     ['Superman', 'Black Bolt'] <> super hearing | predicted:  superhuman strength - a power that both Superman and Black Bolt possess.\n",
      " => (✗)\n"
     ]
    },
    {
     "name": "stderr",
     "output_type": "stream",
     "text": [
      " 83%|████████▎ | 293/352 [26:09<04:31,  4.60s/it]"
     ]
    },
    {
     "name": "stdout",
     "output_type": "stream",
     "text": [
      "2024-09-06 00:42:22 src.functional INFO     ['Elbphilharmonie', 'Allianz Arena'] <> Herzog & de Meuron | predicted:  architecture - both Elbphilharmonie and Allianz Arena are notable buildings with unique architectural designs.\n",
      " => (✓)\n"
     ]
    },
    {
     "name": "stderr",
     "output_type": "stream",
     "text": [
      " 84%|████████▎ | 294/352 [26:16<05:00,  5.18s/it]"
     ]
    },
    {
     "name": "stdout",
     "output_type": "stream",
     "text": [
      "2024-09-06 00:42:26 src.functional INFO     ['Statue of Liberty', 'Lionel Messi'] <> none | predicted:  none - there is no connection between Statue of Liberty and Lionel Messi.\n",
      " => (✓)\n"
     ]
    },
    {
     "name": "stderr",
     "output_type": "stream",
     "text": [
      " 84%|████████▍ | 295/352 [26:20<04:39,  4.89s/it]"
     ]
    },
    {
     "name": "stdout",
     "output_type": "stream",
     "text": [
      "2024-09-06 00:42:31 src.functional INFO     ['Wolverine', 'Deadpool'] <> healing factor | predicted:  X-Men - a comic book series where both Wolverine and Deadpool are characters.\n",
      " => (✓)\n"
     ]
    },
    {
     "name": "stderr",
     "output_type": "stream",
     "text": [
      " 84%|████████▍ | 296/352 [26:25<04:27,  4.77s/it]"
     ]
    },
    {
     "name": "stdout",
     "output_type": "stream",
     "text": [
      "2024-09-06 00:42:36 src.functional INFO     ['Marcel Hirscher', 'Alberto Tomba'] <> skiing | predicted:  skiing - a sport where both Marcel Hirscher and Alberto Tomba are known for.\n",
      " => (✓)\n"
     ]
    },
    {
     "name": "stderr",
     "output_type": "stream",
     "text": [
      " 84%|████████▍ | 297/352 [26:30<04:28,  4.87s/it]"
     ]
    },
    {
     "name": "stdout",
     "output_type": "stream",
     "text": [
      "2024-09-06 00:42:43 src.functional INFO     ['Anthony Hopkins', 'Alfred Hitchcock'] <> Hitchcock | predicted:  The Silence of the Lambs - a movie where Anthony Hopkins played the role of Hannibal Lecter, directed by Alfred Hitchcock.\n",
      " => (✗)\n"
     ]
    },
    {
     "name": "stderr",
     "output_type": "stream",
     "text": [
      " 85%|████████▍ | 298/352 [26:37<05:07,  5.69s/it]"
     ]
    },
    {
     "name": "stdout",
     "output_type": "stream",
     "text": [
      "2024-09-06 00:42:48 src.functional INFO     ['Wayne Gretzky', 'Mario Lemieux'] <> hockey | predicted:  hockey - a sport where both Wayne Gretzky and Mario Lemieux played professionally.\n",
      " => (✓)\n"
     ]
    },
    {
     "name": "stderr",
     "output_type": "stream",
     "text": [
      " 85%|████████▍ | 299/352 [26:42<04:51,  5.49s/it]"
     ]
    },
    {
     "name": "stdout",
     "output_type": "stream",
     "text": [
      "2024-09-06 00:42:53 src.functional INFO     ['Static Shock', 'Misaka Mikoto'] <> electricity manipulation | predicted:  superpowers - both Static Shock and Misaka Mikoto have superpowers.\n",
      " => (✓)\n"
     ]
    },
    {
     "name": "stderr",
     "output_type": "stream",
     "text": [
      " 85%|████████▌ | 300/352 [26:47<04:30,  5.20s/it]"
     ]
    },
    {
     "name": "stdout",
     "output_type": "stream",
     "text": [
      "2024-09-06 00:43:00 src.functional INFO     ['Seagram Building', 'Farnsworth House'] <> Ludwig Mies van der Rohe | predicted:  Ludwig Mies van der Rohe - who was the architect of both buildings Seagram Building and Farnsworth House.\n",
      " => (✓)\n"
     ]
    },
    {
     "name": "stderr",
     "output_type": "stream",
     "text": [
      " 86%|████████▌ | 301/352 [26:54<04:54,  5.77s/it]"
     ]
    },
    {
     "name": "stdout",
     "output_type": "stream",
     "text": [
      "2024-09-06 00:43:04 src.functional INFO     ['Nightcrawler', 'Goku'] <> teleportation | predicted:  teleportation - a superpower that both characters Nightcrawler and Goku possess.\n",
      " => (✗)\n"
     ]
    },
    {
     "name": "stderr",
     "output_type": "stream",
     "text": [
      " 86%|████████▌ | 302/352 [26:58<04:29,  5.39s/it]"
     ]
    },
    {
     "name": "stdout",
     "output_type": "stream",
     "text": [
      "2024-09-06 00:43:11 src.functional INFO     ['Japan National Stadium', 'V&A Dundee'] <> Kengo Kuma | predicted:  Zaha Hadid - who was the architect of both buildings Japan National Stadium and V&A Dundee.\n",
      " => (✗)\n"
     ]
    },
    {
     "name": "stderr",
     "output_type": "stream",
     "text": [
      " 86%|████████▌ | 303/352 [27:05<04:36,  5.65s/it]"
     ]
    },
    {
     "name": "stdout",
     "output_type": "stream",
     "text": [
      "2024-09-06 00:43:16 src.functional INFO     ['Thor', 'Wonder Woman'] <> alien warrior | predicted:  superheroes - both Thor and Wonder Woman are superheroes in their respective comic book universes.\n",
      " => (✓)\n"
     ]
    },
    {
     "name": "stderr",
     "output_type": "stream",
     "text": [
      " 86%|████████▋ | 304/352 [27:10<04:23,  5.48s/it]"
     ]
    },
    {
     "name": "stdout",
     "output_type": "stream",
     "text": [
      "2024-09-06 00:43:22 src.functional INFO     [\"Ra's al Ghul\", 'Vandal Savage'] <> immortal | predicted:  immortality - a trait that both characters Ra's al Ghul and Vandal Savage are known for.\n",
      " => (✓)\n"
     ]
    },
    {
     "name": "stderr",
     "output_type": "stream",
     "text": [
      " 87%|████████▋ | 305/352 [27:16<04:27,  5.70s/it]"
     ]
    },
    {
     "name": "stdout",
     "output_type": "stream",
     "text": [
      "2024-09-06 00:43:29 src.functional INFO     [\"O'Shea Jackson Jr.\", 'Ice Cube'] <> Straight Outta Compton | predicted:  Straight Outta Compton - a movie where O'Shea Jackson Jr. played the role of his father Ice Cube.\n",
      " => (✓)\n"
     ]
    },
    {
     "name": "stderr",
     "output_type": "stream",
     "text": [
      " 87%|████████▋ | 306/352 [27:23<04:41,  6.11s/it]"
     ]
    },
    {
     "name": "stdout",
     "output_type": "stream",
     "text": [
      "2024-09-06 00:43:33 src.functional INFO     ['Marilyn Monroe', 'Mount Fuji'] <> none | predicted:  none - there is no connection between Marilyn Monroe and Mount Fuji.\n",
      " => (✓)\n"
     ]
    },
    {
     "name": "stderr",
     "output_type": "stream",
     "text": [
      " 87%|████████▋ | 307/352 [27:27<04:04,  5.43s/it]"
     ]
    },
    {
     "name": "stdout",
     "output_type": "stream",
     "text": [
      "2024-09-06 00:43:39 src.functional INFO     ['Lindsey Vonn', 'Ingemar Stenmark'] <> skiing | predicted:  skiing - a sport where both Lindsey Vonn and Ingemar Stenmark are known for.\n",
      " => (✓)\n"
     ]
    },
    {
     "name": "stderr",
     "output_type": "stream",
     "text": [
      " 88%|████████▊ | 308/352 [27:33<04:02,  5.51s/it]"
     ]
    },
    {
     "name": "stdout",
     "output_type": "stream",
     "text": [
      "2024-09-06 00:43:43 src.functional INFO     ['Firestorm', 'Captain Atom'] <> radiation powers | predicted:  nuclear powers - an attribute that both characters Firestorm and Captain Atom possess.\n",
      " => (✓)\n"
     ]
    },
    {
     "name": "stderr",
     "output_type": "stream",
     "text": [
      " 88%|████████▊ | 309/352 [27:37<03:41,  5.15s/it]"
     ]
    },
    {
     "name": "stdout",
     "output_type": "stream",
     "text": [
      "2024-09-06 00:43:48 src.functional INFO     ['Muhammad Ali', 'Leaning Tower of Pisa'] <> none | predicted:  none - there is no connection between Muhammad Ali and Leaning Tower of Pisa.\n",
      " => (✓)\n"
     ]
    },
    {
     "name": "stderr",
     "output_type": "stream",
     "text": [
      " 88%|████████▊ | 310/352 [27:42<03:32,  5.07s/it]"
     ]
    },
    {
     "name": "stdout",
     "output_type": "stream",
     "text": [
      "2024-09-06 00:44:00 src.functional INFO     ['Mo Farah', 'Haile Gebrselassie'] <> athletics | predicted:  distance running - a sport where both Mo Farah and Haile Gebrselassie are known for.\n",
      " => (✓)\n"
     ]
    },
    {
     "name": "stderr",
     "output_type": "stream",
     "text": [
      " 88%|████████▊ | 311/352 [27:54<04:50,  7.09s/it]"
     ]
    },
    {
     "name": "stdout",
     "output_type": "stream",
     "text": [
      "2024-09-06 00:44:05 src.functional INFO     ['Russell Crowe', 'John Nash'] <> A Beautiful Mind | predicted:  A Beautiful Mind - a movie where Russell Crowe played the role of John Nash.\n",
      " => (✓)\n"
     ]
    },
    {
     "name": "stderr",
     "output_type": "stream",
     "text": [
      " 89%|████████▊ | 312/352 [27:59<04:19,  6.49s/it]"
     ]
    },
    {
     "name": "stdout",
     "output_type": "stream",
     "text": [
      "2024-09-06 00:44:11 src.functional INFO     ['Venom', 'Carnage'] <> symbiote host | predicted:  symbiotes - a type of alien life form that both Venom and Carnage are connected to.\n",
      " => (✓)\n"
     ]
    },
    {
     "name": "stderr",
     "output_type": "stream",
     "text": [
      " 89%|████████▉ | 313/352 [28:05<04:06,  6.33s/it]"
     ]
    },
    {
     "name": "stdout",
     "output_type": "stream",
     "text": [
      "2024-09-06 00:44:17 src.functional INFO     ['Kohei Uchimura', 'Vitaly Scherbo'] <> gymnastics | predicted:  gymnastics - a sport where both Kohei Uchimura and Vitaly Scherbo are known for.\n",
      " => (✓)\n"
     ]
    },
    {
     "name": "stderr",
     "output_type": "stream",
     "text": [
      " 89%|████████▉ | 314/352 [28:12<04:06,  6.48s/it]"
     ]
    },
    {
     "name": "stdout",
     "output_type": "stream",
     "text": [
      "2024-09-06 00:44:23 src.functional INFO     ['Stephen Curry', 'Kevin Durant'] <> basketball | predicted:  Golden State Warriors - a basketball team where both Stephen Curry and Kevin Durant have played.\n",
      " => (✓)\n"
     ]
    },
    {
     "name": "stderr",
     "output_type": "stream",
     "text": [
      " 89%|████████▉ | 315/352 [28:17<03:44,  6.06s/it]"
     ]
    },
    {
     "name": "stdout",
     "output_type": "stream",
     "text": [
      "2024-09-06 00:44:28 src.functional INFO     ['Galileo Galilei', 'Boomerang'] <> none | predicted:  none - there is no connection between Galileo Galilei and Boomerang.\n",
      " => (✓)\n"
     ]
    },
    {
     "name": "stderr",
     "output_type": "stream",
     "text": [
      " 90%|████████▉ | 316/352 [28:22<03:27,  5.77s/it]"
     ]
    },
    {
     "name": "stdout",
     "output_type": "stream",
     "text": [
      "2024-09-06 00:44:33 src.functional INFO     ['Taraji P. Henson', 'Katherine Johnson'] <> Hidden Figures | predicted:  Hidden Figures - a movie where both Taraji P. Henson and Katherine Johnson were featured.\n",
      " => (✗)\n"
     ]
    },
    {
     "name": "stderr",
     "output_type": "stream",
     "text": [
      " 90%|█████████ | 317/352 [28:27<03:20,  5.74s/it]"
     ]
    },
    {
     "name": "stdout",
     "output_type": "stream",
     "text": [
      "2024-09-06 00:44:38 src.functional INFO     ['Nelson Mandela', 'Stonehenge'] <> none | predicted:  none - there is no connection between Nelson Mandela and Stonehenge.\n",
      " => (✓)\n"
     ]
    },
    {
     "name": "stderr",
     "output_type": "stream",
     "text": [
      " 90%|█████████ | 318/352 [28:32<02:59,  5.29s/it]"
     ]
    },
    {
     "name": "stdout",
     "output_type": "stream",
     "text": [
      "2024-09-06 00:44:44 src.functional INFO     ['TWA Flight Center', 'Gateway Arch'] <> Eero Saarinen | predicted:  Eero Saarinen - who was the architect of both buildings TWA Flight Center and Gateway Arch.\n",
      " => (✓)\n"
     ]
    },
    {
     "name": "stderr",
     "output_type": "stream",
     "text": [
      " 91%|█████████ | 319/352 [28:38<03:03,  5.56s/it]"
     ]
    },
    {
     "name": "stdout",
     "output_type": "stream",
     "text": [
      "2024-09-06 00:44:51 src.functional INFO     ['Leonardo DiCaprio', 'Frank Abagnale Jr.'] <> Catch Me If You Can | predicted:  Catch Me If You Can - a movie where Leonardo DiCaprio played the role of Frank Abagnale Jr.\n",
      " => (✓)\n"
     ]
    },
    {
     "name": "stderr",
     "output_type": "stream",
     "text": [
      " 91%|█████████ | 320/352 [28:45<03:09,  5.93s/it]"
     ]
    },
    {
     "name": "stdout",
     "output_type": "stream",
     "text": [
      "2024-09-06 00:44:56 src.functional INFO     ['Pelé', 'Mona Lisa'] <> none | predicted:  Leonardo da Vinci - who painted the Mona Lisa and was also a friend of Pelé's father.\n",
      " => (✗)\n"
     ]
    },
    {
     "name": "stderr",
     "output_type": "stream",
     "text": [
      " 91%|█████████ | 321/352 [28:51<03:04,  5.94s/it]"
     ]
    },
    {
     "name": "stdout",
     "output_type": "stream",
     "text": [
      "2024-09-06 00:45:02 src.functional INFO     ['George C. Scott', 'General George S. Patton'] <> Patton | predicted:  George C. Scott played the role of General George S. Patton in the movie Patton.\n",
      " => (✓)\n"
     ]
    },
    {
     "name": "stderr",
     "output_type": "stream",
     "text": [
      " 91%|█████████▏| 322/352 [28:56<02:53,  5.77s/it]"
     ]
    },
    {
     "name": "stdout",
     "output_type": "stream",
     "text": [
      "2024-09-06 00:45:06 src.functional INFO     ['Bruce Lee', 'Stonehenge'] <> none | predicted:  none - there is no connection between Bruce Lee and Stonehenge.\n",
      " => (✓)\n"
     ]
    },
    {
     "name": "stderr",
     "output_type": "stream",
     "text": [
      " 92%|█████████▏| 323/352 [29:00<02:34,  5.34s/it]"
     ]
    },
    {
     "name": "stdout",
     "output_type": "stream",
     "text": [
      "2024-09-06 00:45:10 src.functional INFO     ['Human Torch', 'Zuko'] <> fire manipulation | predicted:  none - there is no connection between Human Torch and Zuko.\n",
      " => (✗)\n"
     ]
    },
    {
     "name": "stderr",
     "output_type": "stream",
     "text": [
      " 92%|█████████▏| 324/352 [29:04<02:17,  4.92s/it]"
     ]
    },
    {
     "name": "stdout",
     "output_type": "stream",
     "text": [
      "2024-09-06 00:45:14 src.functional INFO     ['Doctor Strange', 'Dialga'] <> time manipulation | predicted:  time manipulation - a power that both Doctor Strange and Dialga have.\n",
      " => (✓)\n"
     ]
    },
    {
     "name": "stderr",
     "output_type": "stream",
     "text": [
      " 92%|█████████▏| 325/352 [29:08<02:07,  4.72s/it]"
     ]
    },
    {
     "name": "stdout",
     "output_type": "stream",
     "text": [
      "2024-09-06 00:45:19 src.functional INFO     ['Winston Churchill', 'Machu Picchu'] <> none | predicted:  none - there is no connection between Winston Churchill and Machu Picchu.\n",
      " => (✓)\n"
     ]
    },
    {
     "name": "stderr",
     "output_type": "stream",
     "text": [
      " 93%|█████████▎| 326/352 [29:13<02:01,  4.66s/it]"
     ]
    },
    {
     "name": "stdout",
     "output_type": "stream",
     "text": [
      "2024-09-06 00:45:24 src.functional INFO     ['Bruce Banner', 'Lex Luthor'] <> super intelligence | predicted:  genius-level intellect - a characteristic that both characters Bruce Banner and Lex Luthor possess.\n",
      " => (✓)\n"
     ]
    },
    {
     "name": "stderr",
     "output_type": "stream",
     "text": [
      " 93%|█████████▎| 327/352 [29:18<01:59,  4.79s/it]"
     ]
    },
    {
     "name": "stdout",
     "output_type": "stream",
     "text": [
      "2024-09-06 00:45:29 src.functional INFO     ['Black Canary', 'Banshee'] <> sonic powers | predicted:  superhuman hearing - a superpower that both characters Black Canary and Banshee possess.\n",
      " => (✗)\n"
     ]
    },
    {
     "name": "stderr",
     "output_type": "stream",
     "text": [
      " 93%|█████████▎| 328/352 [29:23<01:57,  4.88s/it]"
     ]
    },
    {
     "name": "stdout",
     "output_type": "stream",
     "text": [
      "2024-09-06 00:45:34 src.functional INFO     ['Green Lantern', 'Star Sapphire'] <> energy construct | predicted:  Hal Jordan - a character who has been associated with both Green Lantern and Star Sapphire.\n",
      " => (✓)\n"
     ]
    },
    {
     "name": "stderr",
     "output_type": "stream",
     "text": [
      " 93%|█████████▎| 329/352 [29:28<01:53,  4.95s/it]"
     ]
    },
    {
     "name": "stdout",
     "output_type": "stream",
     "text": [
      "2024-09-06 00:45:39 src.functional INFO     ['Shang-Chi', 'Iron Fist'] <> martial artist | predicted:  Marvel Comics - both Shang-Chi and Iron Fist are characters from Marvel Comics.\n",
      " => (✓)\n"
     ]
    },
    {
     "name": "stderr",
     "output_type": "stream",
     "text": [
      " 94%|█████████▍| 330/352 [29:33<01:49,  4.99s/it]"
     ]
    },
    {
     "name": "stdout",
     "output_type": "stream",
     "text": [
      "2024-09-06 00:45:44 src.functional INFO     ['Dalai Lama', 'Statue of Liberty'] <> none | predicted:  freedom - a concept that both Dalai Lama and Statue of Liberty represent.\n",
      " => (✓)\n"
     ]
    },
    {
     "name": "stderr",
     "output_type": "stream",
     "text": [
      " 94%|█████████▍| 331/352 [29:38<01:41,  4.85s/it]"
     ]
    },
    {
     "name": "stdout",
     "output_type": "stream",
     "text": [
      "2024-09-06 00:45:49 src.functional INFO     ['Charlie Chaplin', 'Niagara Falls'] <> none | predicted:  City Lights - a movie where Charlie Chaplin filmed a scene at Niagara Falls.\n",
      " => (✗)\n"
     ]
    },
    {
     "name": "stderr",
     "output_type": "stream",
     "text": [
      " 94%|█████████▍| 332/352 [29:43<01:36,  4.84s/it]"
     ]
    },
    {
     "name": "stdout",
     "output_type": "stream",
     "text": [
      "2024-09-06 00:45:54 src.functional INFO     ['Michael Vaughan', 'Sourav Ganguly'] <> cricket | predicted:  cricket - a sport where both Michael Vaughan and Sourav Ganguly are known for.\n",
      " => (✓)\n"
     ]
    },
    {
     "name": "stderr",
     "output_type": "stream",
     "text": [
      " 95%|█████████▍| 333/352 [29:48<01:33,  4.92s/it]"
     ]
    },
    {
     "name": "stdout",
     "output_type": "stream",
     "text": [
      "2024-09-06 00:45:58 src.functional INFO     ['William Shakespeare', 'Sushi'] <> none | predicted:  none - there is no connection between William Shakespeare and Sushi.\n",
      " => (✓)\n"
     ]
    },
    {
     "name": "stderr",
     "output_type": "stream",
     "text": [
      " 95%|█████████▍| 334/352 [29:52<01:23,  4.62s/it]"
     ]
    },
    {
     "name": "stdout",
     "output_type": "stream",
     "text": [
      "2024-09-06 00:46:03 src.functional INFO     ['The Shard', 'Centre Georges Pompidou'] <> Renzo Piano | predicted:  architecture - both The Shard and Centre Georges Pompidou are notable buildings in their respective cities.\n",
      " => (✓)\n"
     ]
    },
    {
     "name": "stderr",
     "output_type": "stream",
     "text": [
      " 95%|█████████▌| 335/352 [29:57<01:23,  4.93s/it]"
     ]
    },
    {
     "name": "stdout",
     "output_type": "stream",
     "text": [
      "2024-09-06 00:46:10 src.functional INFO     ['Niterói Contemporary Art Museum', 'Cathedral of Brasília'] <> Oscar Niemeyer | predicted:  Oscar Niemeyer - who was the architect of both buildings Niterói Contemporary Art Museum and Cathedral of Brasília.\n",
      " => (✓)\n"
     ]
    },
    {
     "name": "stderr",
     "output_type": "stream",
     "text": [
      " 95%|█████████▌| 336/352 [30:04<01:29,  5.57s/it]"
     ]
    },
    {
     "name": "stdout",
     "output_type": "stream",
     "text": [
      "2024-09-06 00:46:15 src.functional INFO     ['Mona Lisa', 'Usain Bolt'] <> none | predicted:  none - there is no connection between Mona Lisa and Usain Bolt.\n",
      " => (✓)\n"
     ]
    },
    {
     "name": "stderr",
     "output_type": "stream",
     "text": [
      " 96%|█████████▌| 337/352 [30:09<01:17,  5.16s/it]"
     ]
    },
    {
     "name": "stdout",
     "output_type": "stream",
     "text": [
      "2024-09-06 00:46:20 src.functional INFO     ['Glass House', 'AT&T Building'] <> Philip Johnson | predicted:  Philip Johnson - who was the architect of both buildings Glass House and AT&T Building.\n",
      " => (✓)\n"
     ]
    },
    {
     "name": "stderr",
     "output_type": "stream",
     "text": [
      " 96%|█████████▌| 338/352 [30:14<01:11,  5.14s/it]"
     ]
    },
    {
     "name": "stdout",
     "output_type": "stream",
     "text": [
      "2024-09-06 00:46:25 src.functional INFO     ['Hawkeye', 'Green Arrow'] <> archer | predicted:  archery - a skill that both characters Hawkeye and Green Arrow are known for.\n",
      " => (✓)\n"
     ]
    },
    {
     "name": "stderr",
     "output_type": "stream",
     "text": [
      " 96%|█████████▋| 339/352 [30:19<01:07,  5.21s/it]"
     ]
    },
    {
     "name": "stdout",
     "output_type": "stream",
     "text": [
      "2024-09-06 00:46:32 src.functional INFO     ['Lindsey Vonn', 'Mikaela Shiffrin'] <> skiing | predicted:  alpine skiing - a sport where both Lindsey Vonn and Mikaela Shiffrin are professional skiers.\n",
      " => (✓)\n"
     ]
    },
    {
     "name": "stderr",
     "output_type": "stream",
     "text": [
      " 97%|█████████▋| 340/352 [30:26<01:09,  5.77s/it]"
     ]
    },
    {
     "name": "stdout",
     "output_type": "stream",
     "text": [
      "2024-09-06 00:46:37 src.functional INFO     ['Iceman', 'Killer Frost'] <> ice control | predicted:  DC Comics - both Iceman and Killer Frost are characters from DC Comics.\n",
      " => (✗)\n"
     ]
    },
    {
     "name": "stderr",
     "output_type": "stream",
     "text": [
      " 97%|█████████▋| 341/352 [30:31<01:00,  5.48s/it]"
     ]
    },
    {
     "name": "stdout",
     "output_type": "stream",
     "text": [
      "2024-09-06 00:46:42 src.functional INFO     ['Andrew Garfield', 'Eduardo Saverin'] <> The Social Network | predicted:  The Social Network - a movie where both Andrew Garfield and Eduardo Saverin appeared.\n",
      " => (✗)\n"
     ]
    },
    {
     "name": "stderr",
     "output_type": "stream",
     "text": [
      " 97%|█████████▋| 342/352 [30:36<00:54,  5.45s/it]"
     ]
    },
    {
     "name": "stdout",
     "output_type": "stream",
     "text": [
      "2024-09-06 00:46:47 src.functional INFO     ['Mahatma Gandhi', 'Eiffel Tower'] <> none | predicted:  none - there is no connection between Mahatma Gandhi and Eiffel Tower.\n",
      " => (✓)\n"
     ]
    },
    {
     "name": "stderr",
     "output_type": "stream",
     "text": [
      " 97%|█████████▋| 343/352 [30:41<00:48,  5.34s/it]"
     ]
    },
    {
     "name": "stdout",
     "output_type": "stream",
     "text": [
      "2024-09-06 00:46:52 src.functional INFO     ['Gary Oldman', 'Winston Churchill'] <> Darkest Hour | predicted:  Darkest Hour - a movie where Gary Oldman played the role of Winston Churchill.\n",
      " => (✓)\n"
     ]
    },
    {
     "name": "stderr",
     "output_type": "stream",
     "text": [
      " 98%|█████████▊| 344/352 [30:46<00:42,  5.26s/it]"
     ]
    },
    {
     "name": "stdout",
     "output_type": "stream",
     "text": [
      "2024-09-06 00:46:59 src.functional INFO     ['Poison Ivy', 'Daken'] <> pheromone control | predicted:  villainous characters - both Poison Ivy and Daken are known for their villainous roles in their respective stories.\n",
      " => (✓)\n"
     ]
    },
    {
     "name": "stderr",
     "output_type": "stream",
     "text": [
      " 98%|█████████▊| 345/352 [30:53<00:39,  5.63s/it]"
     ]
    },
    {
     "name": "stdout",
     "output_type": "stream",
     "text": [
      "2024-09-06 00:47:03 src.functional INFO     ['Walt Disney', 'Spaghetti'] <> none | predicted:  none - there is no connection between Walt Disney and Spaghetti.\n",
      " => (✓)\n"
     ]
    },
    {
     "name": "stderr",
     "output_type": "stream",
     "text": [
      " 98%|█████████▊| 346/352 [30:57<00:30,  5.13s/it]"
     ]
    },
    {
     "name": "stdout",
     "output_type": "stream",
     "text": [
      "2024-09-06 00:47:07 src.functional INFO     ['Reed Richards', 'Tony Stark'] <> genius inventor | predicted:  genius-level intellect - a characteristic that both Reed Richards and Tony Stark possess.\n",
      " => (✓)\n"
     ]
    },
    {
     "name": "stderr",
     "output_type": "stream",
     "text": [
      " 99%|█████████▊| 347/352 [31:01<00:24,  4.94s/it]"
     ]
    },
    {
     "name": "stdout",
     "output_type": "stream",
     "text": [
      "2024-09-06 00:47:13 src.functional INFO     ['Lin Dan', 'Lee Chong Wei'] <> badminton | predicted:  badminton - a sport where both Lin Dan and Lee Chong Wei are professional players.\n",
      " => (✓)\n"
     ]
    },
    {
     "name": "stderr",
     "output_type": "stream",
     "text": [
      " 99%|█████████▉| 348/352 [31:07<00:20,  5.15s/it]"
     ]
    },
    {
     "name": "stdout",
     "output_type": "stream",
     "text": [
      "2024-09-06 00:47:19 src.functional INFO     ['Marina Bay Sands', 'Habitat 67'] <> Moshe Safdie | predicted:  unique architecture - both Marina Bay Sands and Habitat 67 are known for their unique architectural designs.\n",
      " => (✓)\n"
     ]
    },
    {
     "name": "stderr",
     "output_type": "stream",
     "text": [
      " 99%|█████████▉| 349/352 [31:13<00:15,  5.31s/it]"
     ]
    },
    {
     "name": "stdout",
     "output_type": "stream",
     "text": [
      "2024-09-06 00:47:23 src.functional INFO     ['Freddie Mercury', 'Sahara Desert'] <> none | predicted:  none - there is no connection between Freddie Mercury and Sahara Desert.\n",
      " => (✓)\n"
     ]
    },
    {
     "name": "stderr",
     "output_type": "stream",
     "text": [
      " 99%|█████████▉| 350/352 [31:17<00:09,  4.91s/it]"
     ]
    },
    {
     "name": "stdout",
     "output_type": "stream",
     "text": [
      "2024-09-06 00:47:29 src.functional INFO     ['Allyson Felix', 'Jackie Joyner-Kersee'] <> athletics | predicted:  track and field - a sport where both Allyson Felix and Jackie Joyner-Kersee are known for.\n",
      " => (✓)\n"
     ]
    },
    {
     "name": "stderr",
     "output_type": "stream",
     "text": [
      "100%|█████████▉| 351/352 [31:23<00:05,  5.40s/it]"
     ]
    },
    {
     "name": "stdout",
     "output_type": "stream",
     "text": [
      "2024-09-06 00:47:34 src.functional INFO     ['Vision', 'Martian Manhunter'] <> density manipulation | predicted:  telepathy - a superpower that both characters Vision and Martian Manhunter possess.\n",
      " => (✗)\n"
     ]
    },
    {
     "name": "stderr",
     "output_type": "stream",
     "text": [
      "100%|██████████| 352/352 [31:28<00:00,  5.37s/it]"
     ]
    },
    {
     "name": "stdout",
     "output_type": "stream",
     "text": [
      "2024-09-06 00:47:34 src.functional INFO     filtered 293 samples out of 352 with 5 icl examples\n"
     ]
    },
    {
     "name": "stderr",
     "output_type": "stream",
     "text": [
      "\n"
     ]
    }
   ],
   "source": [
    "from src.functional import filter_bridge_samples_by_model_knowledge\n",
    "\n",
    "dataset = filter_bridge_samples_by_model_knowledge(mt, dataset)"
   ]
  },
  {
   "cell_type": "code",
   "execution_count": 18,
   "metadata": {},
   "outputs": [],
   "source": [
    "import datetime\n",
    "\n",
    "file_name = os.path.join(\n",
    "    env_utils.DEFAULT_DATA_DIR, \n",
    "    \"bridge_cached\", \n",
    "    mt.name.split(\"/\")[-1],\n",
    "    f\"filtered_{datetime.datetime.now().isoformat()}.json\",\n",
    ")\n",
    "\n",
    "with open(file_name, \"w\") as f:\n",
    "    f.write(dataset.to_json())"
   ]
  },
  {
   "cell_type": "code",
   "execution_count": 19,
   "metadata": {},
   "outputs": [
    {
     "name": "stdout",
     "output_type": "stream",
     "text": [
      "2024-09-06 00:58:41 src.dataset INFO     initialized bridge relation superpower_characters with 47 examples\n",
      "2024-09-06 00:58:41 src.dataset INFO     initialized bridge relation sport_players with 60 examples\n",
      "2024-09-06 00:58:41 src.dataset INFO     initialized bridge relation movie_actor with 59 examples\n",
      "2024-09-06 00:58:41 src.dataset INFO     initialized bridge relation architect_building with 36 examples\n",
      "2024-09-06 00:58:41 src.dataset INFO     initialized bridge relation none with 91 examples\n",
      "2024-09-06 00:58:41 src.dataset INFO     initialized bridge dataset with 5 relations and 293 examples\n"
     ]
    }
   ],
   "source": [
    "import json\n",
    "with open(file_name, \"r\") as f:\n",
    "    json_data = json.load(f)\n",
    "loaded_dataset = BridgeDataset.from_dict(json_data)"
   ]
  },
  {
   "cell_type": "code",
   "execution_count": 20,
   "metadata": {},
   "outputs": [
    {
     "name": "stdout",
     "output_type": "stream",
     "text": [
      "superpower_characters --> 47 examples\n",
      "sport_players --> 60 examples\n",
      "movie_actor --> 59 examples\n",
      "architect_building --> 36 examples\n",
      "none --> 91 examples\n"
     ]
    }
   ],
   "source": [
    "import json\n",
    "import os\n",
    "from tqdm.auto import tqdm\n",
    "\n",
    "file_name = \"filtered_2024-09-06T00:58:32.777195.json\"\n",
    "cached_known_dir = os.path.join(\n",
    "    env_utils.DEFAULT_DATA_DIR, \"bridge_cached\", \"Meta-Llama-3-8B-Instruct\"\n",
    ")\n",
    "with open(os.path.join(cached_known_dir, file_name), \"r\") as f:\n",
    "    json_data = json.load(f)\n",
    "\n",
    "for relation in json_data[\"relations\"]:\n",
    "    print(f'{relation[\"name\"]} --> {len(relation[\"examples\"])} examples')"
   ]
  },
  {
   "cell_type": "code",
   "execution_count": 21,
   "metadata": {},
   "outputs": [
    {
     "name": "stdout",
     "output_type": "stream",
     "text": [
      "superpower_characters\n"
     ]
    },
    {
     "name": "stderr",
     "output_type": "stream",
     "text": [
      "100%|██████████| 47/47 [00:00<00:00, 218066.69it/s]\n"
     ]
    },
    {
     "name": "stdout",
     "output_type": "stream",
     "text": [
      "sport_players\n"
     ]
    },
    {
     "name": "stderr",
     "output_type": "stream",
     "text": [
      "100%|██████████| 60/60 [00:00<00:00, 286300.61it/s]\n"
     ]
    },
    {
     "name": "stdout",
     "output_type": "stream",
     "text": [
      "movie_actor\n"
     ]
    },
    {
     "name": "stderr",
     "output_type": "stream",
     "text": [
      "100%|██████████| 59/59 [00:00<00:00, 310884.34it/s]\n"
     ]
    },
    {
     "name": "stdout",
     "output_type": "stream",
     "text": [
      "architect_building\n"
     ]
    },
    {
     "name": "stderr",
     "output_type": "stream",
     "text": [
      "100%|██████████| 36/36 [00:00<00:00, 267247.69it/s]\n"
     ]
    },
    {
     "name": "stdout",
     "output_type": "stream",
     "text": [
      "none\n"
     ]
    },
    {
     "name": "stderr",
     "output_type": "stream",
     "text": [
      "100%|██████████| 91/91 [00:00<00:00, 198792.53it/s]"
     ]
    },
    {
     "name": "stdout",
     "output_type": "stream",
     "text": [
      "superpower_characters --> 47 examples\n",
      "sport_players --> 60 examples\n",
      "movie_actor --> 59 examples\n",
      "architect_building --> 36 examples\n",
      "none --> 91 examples\n"
     ]
    },
    {
     "name": "stderr",
     "output_type": "stream",
     "text": [
      "\n"
     ]
    }
   ],
   "source": [
    "known = json_data[\"examples\"] + [\"icl_examples\"]\n",
    "\n",
    "for relation in json_data[\"relations\"]:\n",
    "    known_examples = []\n",
    "    print(relation[\"name\"])\n",
    "    for examples in tqdm(relation[\"examples\"]):\n",
    "        if examples in known:\n",
    "            known_examples.append(examples)\n",
    "    relation[\"examples\"] = known_examples\n",
    "\n",
    "for relation in json_data[\"relations\"]:\n",
    "    print(f'{relation[\"name\"]} --> {len(relation[\"examples\"])} examples')"
   ]
  },
  {
   "cell_type": "code",
   "execution_count": 20,
   "metadata": {},
   "outputs": [],
   "source": [
    "import datetime\n",
    "\n",
    "file_name = os.path.join(\n",
    "    env_utils.DEFAULT_DATA_DIR, \n",
    "    \"bridge_cached\", \n",
    "    f\"filtered_{datetime.datetime.now().isoformat()}.json\"\n",
    ")\n",
    "\n",
    "with open(file_name, \"w\") as f:\n",
    "    json.dump(json_data, f)"
   ]
  },
  {
   "cell_type": "code",
   "execution_count": null,
   "metadata": {},
   "outputs": [],
   "source": [
    "import json\n",
    "\n",
    "\n",
    "file_name = \"filtered_2024-09-06T00:58:32.777195.json\"\n",
    "cached_known_dir = os.path.join(\n",
    "    env_utils.DEFAULT_DATA_DIR, \"bridge_cached\", \"Meta-Llama-3-8B-Instruct\"\n",
    ")\n",
    "with open(os.path.join(cached_known_dir, file_name), \"r\") as f:\n",
    "    json_data = json.load(f)\n",
    "dataset = BridgeDataset.from_dict(json_data)"
   ]
  },
  {
   "cell_type": "code",
   "execution_count": null,
   "metadata": {},
   "outputs": [],
   "source": [
    "from src.dataset import BridgeRelation\n",
    "relation = BridgeRelation.from_dict(json_data[\"relations\"][0])\n",
    "dataset = BridgeDataset([relation])"
   ]
  },
  {
   "cell_type": "code",
   "execution_count": null,
   "metadata": {},
   "outputs": [],
   "source": []
  }
 ],
 "metadata": {
  "kernelspec": {
   "display_name": "retrieval",
   "language": "python",
   "name": "python3"
  },
  "language_info": {
   "codemirror_mode": {
    "name": "ipython",
    "version": 3
   },
   "file_extension": ".py",
   "mimetype": "text/x-python",
   "name": "python",
   "nbconvert_exporter": "python",
   "pygments_lexer": "ipython3",
   "version": "3.11.9"
  }
 },
 "nbformat": 4,
 "nbformat_minor": 2
}
