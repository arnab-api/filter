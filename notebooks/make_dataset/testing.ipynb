{
 "cells": [
  {
   "cell_type": "code",
   "execution_count": 1,
   "metadata": {},
   "outputs": [],
   "source": [
    "%load_ext autoreload\n",
    "%autoreload 2"
   ]
  },
  {
   "cell_type": "code",
   "execution_count": 3,
   "metadata": {},
   "outputs": [
    {
     "name": "stdout",
     "output_type": "stream",
     "text": [
      "2024-07-26 15:38:01 __main__ INFO     torch.__version__='2.3.1', torch.version.cuda='12.1'\n",
      "2024-07-26 15:38:01 __main__ INFO     torch.cuda.is_available()=True, torch.cuda.device_count()=1, torch.cuda.get_device_name()='NVIDIA RTX A6000'\n",
      "2024-07-26 15:38:01 __main__ INFO     transformers.__version__='4.42.4'\n"
     ]
    }
   ],
   "source": [
    "import os, time, json\n",
    "import pandas as pd\n",
    "from openai import OpenAI\n",
    "from tqdm.auto import tqdm\n",
    "import spacy\n",
    "\n",
    "import sys\n",
    "sys.path.append(\"../../\")\n",
    "import os\n",
    "\n",
    "import logging\n",
    "from src.utils import logging_utils\n",
    "from src.utils import env_utils\n",
    "from src import functional\n",
    "\n",
    "logger = logging.getLogger(__name__)\n",
    "\n",
    "logging.basicConfig(\n",
    "    level=logging.DEBUG,\n",
    "    format=logging_utils.DEFAULT_FORMAT,\n",
    "    datefmt=logging_utils.DEFAULT_DATEFMT,\n",
    "    stream=sys.stdout,\n",
    ")\n",
    "\n",
    "import torch\n",
    "import transformers\n",
    "\n",
    "logger.info(f\"{torch.__version__=}, {torch.version.cuda=}\")\n",
    "logger.info(f\"{torch.cuda.is_available()=}, {torch.cuda.device_count()=}, {torch.cuda.get_device_name()=}\")\n",
    "logger.info(f\"{transformers.__version__=}\")"
   ]
  },
  {
   "cell_type": "code",
   "execution_count": 45,
   "metadata": {},
   "outputs": [],
   "source": [
    "from dataclasses_json import DataClassJsonMixin\n",
    "from dataclasses import dataclass, field, fields\n",
    "from typing import Optional\n",
    "import random\n",
    "\n",
    "@dataclass(frozen=False)\n",
    "class BridgeSample(DataClassJsonMixin):\n",
    "    bridge: str\n",
    "    entity_pair: list[str]\n",
    "    description: Optional[str] = None\n",
    "\n",
    "    def __post_init__(self):\n",
    "        assert len(self.entity_pair) == 2, f\"entity_pair must have length 2, got {len(self.entity)} - {self.entity}\"\n",
    "    \n",
    "    def __str__(self):\n",
    "        return self.description if self.description is not None else f\"{self.bridge} is a common link between {self.entity[0]} and {self.entity[1]}.\" \n",
    "\n",
    "    \n",
    "@dataclass(frozen=False)\n",
    "class BridgeRelation(DataClassJsonMixin):\n",
    "    name: str\n",
    "    answer_template: str\n",
    "    swappable: bool\n",
    "    examples: list[BridgeSample] = field(default_factory=list)\n",
    "\n",
    "    def __post_init__(self):\n",
    "        assert \"<bridge>\" in self.answer_template\n",
    "        assert \"<entity1>\" in self.answer_template\n",
    "        assert \"<entity2>\" in self.answer_template\n",
    "        for example in self.examples:\n",
    "            example.description = self.answer_template.replace(\"<bridge>\", example.bridge).replace(\"<entity1>\", example.entity_pair[0]).replace(\"<entity2>\", example.entity_pair[1])\n",
    "        logger.info(f\"initialized bridge relation {self.name} with {len(self.examples)} examples\")\n",
    "    \n",
    "    def __len__(self):\n",
    "        return len(self.examples)\n",
    "    \n",
    "    def __getitem__(self, idx):\n",
    "        return self.examples[idx]\n",
    "\n",
    "class BridgeDataset(DataClassJsonMixin):\n",
    "    relations: list[BridgeRelation]\n",
    "    examples: list[BridgeSample]\n",
    "\n",
    "    def __init__(self, relations: list[BridgeRelation]):\n",
    "        self.relations = relations\n",
    "        self.examples = []\n",
    "        for relation in relations:\n",
    "            self.examples.extend(relation.examples)\n",
    "        \n",
    "        random.shuffle(self.examples)\n",
    "\n",
    "        logger.info(f\"initialized bridge dataset with {len(self.relations)} relations and {len(self)} examples\")\n",
    "\n",
    "    def __len__(self):\n",
    "        return len(self.examples)\n",
    "    \n",
    "    def __getitem__(self, idx):\n",
    "        return self.examples[idx]\n",
    "\n",
    "\n",
    "def load_bridge_relation(file_name: str) -> BridgeRelation:\n",
    "    with open(file_name, \"r\") as f:\n",
    "        data = json.load(f)\n",
    "    return BridgeRelation.from_dict(data)\n",
    "\n",
    "def load_bridge_relations() -> list[BridgeRelation]:\n",
    "    bridge_data_dir = os.path.join(env_utils.DEFAULT_DATA_DIR, \"bridge_dataset\", \"cleaned\")\n",
    "    relations = []\n",
    "    for file_name in os.listdir(bridge_data_dir):\n",
    "        if file_name.endswith(\".json\"):\n",
    "            relations.append(load_bridge_relation(os.path.join(bridge_data_dir, file_name)))\n",
    "    return relations\n",
    "        "
   ]
  },
  {
   "cell_type": "code",
   "execution_count": 46,
   "metadata": {},
   "outputs": [
    {
     "name": "stdout",
     "output_type": "stream",
     "text": [
      "2024-07-26 16:55:39 __main__ INFO     initialized bridge relation superpower_characters with 27 examples\n",
      "2024-07-26 16:55:39 __main__ INFO     initialized bridge relation sport_players with 23 examples\n",
      "2024-07-26 16:55:39 __main__ INFO     initialized bridge relation movie_actor with 52 examples\n",
      "2024-07-26 16:55:39 __main__ INFO     initialized bridge relation architect_building with 21 examples\n"
     ]
    }
   ],
   "source": [
    "relations = load_bridge_relations()"
   ]
  },
  {
   "cell_type": "code",
   "execution_count": null,
   "metadata": {},
   "outputs": [],
   "source": []
  }
 ],
 "metadata": {
  "kernelspec": {
   "display_name": "retrieval",
   "language": "python",
   "name": "python3"
  },
  "language_info": {
   "codemirror_mode": {
    "name": "ipython",
    "version": 3
   },
   "file_extension": ".py",
   "mimetype": "text/x-python",
   "name": "python",
   "nbconvert_exporter": "python",
   "pygments_lexer": "ipython3",
   "version": "3.11.9"
  }
 },
 "nbformat": 4,
 "nbformat_minor": 2
}
