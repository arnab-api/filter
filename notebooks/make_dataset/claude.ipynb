{
 "cells": [
  {
   "cell_type": "code",
   "execution_count": 1,
   "metadata": {},
   "outputs": [],
   "source": [
    "%load_ext autoreload\n",
    "%autoreload 2"
   ]
  },
  {
   "cell_type": "code",
   "execution_count": 4,
   "metadata": {},
   "outputs": [
    {
     "name": "stdout",
     "output_type": "stream",
     "text": [
      "2024-09-05 16:26:57 __main__ INFO     torch.__version__='2.3.1', torch.version.cuda='12.1'\n",
      "2024-09-05 16:26:57 __main__ INFO     torch.cuda.is_available()=True, torch.cuda.device_count()=1, torch.cuda.get_device_name()='NVIDIA RTX A6000'\n",
      "2024-09-05 16:26:57 __main__ INFO     transformers.__version__='4.44.2'\n",
      "2024-09-05 16:26:57 httpx DEBUG    load_ssl_context verify=True cert=None trust_env=True http2=False\n",
      "2024-09-05 16:26:57 httpx DEBUG    load_verify_locations cafile='/home/local_arnab/miniconda3/envs/retrieval/lib/python3.11/site-packages/certifi/cacert.pem'\n"
     ]
    }
   ],
   "source": [
    "import os, time, json\n",
    "import pandas as pd\n",
    "from openai import OpenAI\n",
    "from anthropic import Anthropic\n",
    "from tqdm.auto import tqdm\n",
    "import spacy\n",
    "\n",
    "import sys\n",
    "sys.path.append(\"../../\")\n",
    "import os\n",
    "\n",
    "import logging\n",
    "from src.utils import logging_utils\n",
    "from src.utils import env_utils\n",
    "from src import functional\n",
    "\n",
    "logger = logging.getLogger(__name__)\n",
    "\n",
    "logging.basicConfig(\n",
    "    level=logging.DEBUG,\n",
    "    format=logging_utils.DEFAULT_FORMAT,\n",
    "    datefmt=logging_utils.DEFAULT_DATEFMT,\n",
    "    stream=sys.stdout,\n",
    ")\n",
    "\n",
    "import torch\n",
    "import transformers\n",
    "\n",
    "logger.info(f\"{torch.__version__=}, {torch.version.cuda=}\")\n",
    "logger.info(f\"{torch.cuda.is_available()=}, {torch.cuda.device_count()=}, {torch.cuda.get_device_name()=}\")\n",
    "logger.info(f\"{transformers.__version__=}\")\n",
    "\n",
    "# client = OpenAI(\n",
    "#     api_key=os.getenv(\"OPENAI_KEY\"),\n",
    "# )\n",
    "client = Anthropic(\n",
    "    api_key=os.getenv(\"CLAUDE_KEY\"),\n",
    ")\n",
    "\n",
    "MODEL_NAME = \"claude-3-5-sonnet-20240620\""
   ]
  },
  {
   "cell_type": "code",
   "execution_count": 5,
   "metadata": {},
   "outputs": [
    {
     "data": {
      "text/plain": [
       "'/home/local_arnab/Codes/retrieval/data/LLM_CACHE/claude_cache'"
      ]
     },
     "execution_count": 5,
     "metadata": {},
     "output_type": "execute_result"
    }
   ],
   "source": [
    "from src.utils.env_utils import CLAUDE_CACHE_DIR\n",
    "CLAUDE_CACHE_DIR"
   ]
  },
  {
   "cell_type": "code",
   "execution_count": 6,
   "metadata": {},
   "outputs": [],
   "source": [
    "# movie,actor,character\n",
    "prompt = \"\"\"\n",
    "Give me a list of movies where an actor potrayed a famous person. It should be in csv format. Give me as many examples as you can.\n",
    "\n",
    "movie,actor,character\n",
    "A Beautiful Mind,Russell Crowe,John Nash\n",
    "Gandhi,Ben Kingsley,Mahatma Gandhi\n",
    "\"\"\""
   ]
  },
  {
   "cell_type": "code",
   "execution_count": 7,
   "metadata": {},
   "outputs": [],
   "source": [
    "# # superhero,similar powers, characteristics\n",
    "\n",
    "# prompt = \"\"\"\n",
    "# Give me a list of superpowered characters with similar powers and traits. The character can be from any universe (Marvel, DC, different anime etc). It should be in csv format. Give me as many examples as you can.\n",
    "\n",
    "# connection,character1,character2\n",
    "# kryptonian,Superman,Supergirl\n",
    "# speedster,Flash,Quicksilver\n",
    "# billionaire,Batman,Ironman\n",
    "# blind, Daredevil, Toph Beifong\n",
    "# \"\"\""
   ]
  },
  {
   "cell_type": "code",
   "execution_count": 8,
   "metadata": {},
   "outputs": [],
   "source": [
    "# # architect,famous buildings\n",
    "\n",
    "# prompt = \"\"\"\n",
    "# Give me a list of 2 famous buildings designed by the same architect or architectural firm. It should be in csv format. Give me as many examples as you can (atleast 20).\n",
    "# It should be in csv format. Give me as many examples as you can.\n",
    "\n",
    "# architect,building1,building2\n",
    "# Frank Lloyd Wright,Fallingwater,Guggenheim Museum\n",
    "# Zaha Hadid,Heydar Aliyev Center,Guangzhou Opera House\n",
    "# \"\"\""
   ]
  },
  {
   "cell_type": "code",
   "execution_count": 9,
   "metadata": {},
   "outputs": [],
   "source": [
    "# # sports, famous players\n",
    "\n",
    "# prompt = \"\"\"\n",
    "# Give me a list of 2 famous players who played the same sport. It should be in csv format. Give me as many examples as you can (atleast 20).\n",
    "\n",
    "# sport,player1,player2\n",
    "# basketball,Michael Jordan,LeBron James\n",
    "# tennis,Roger Federer,Rafael Nadal\n",
    "# Cricket,Michael Vaughan,Sourav Ganguly\n",
    "# \"\"\""
   ]
  },
  {
   "cell_type": "code",
   "execution_count": 13,
   "metadata": {},
   "outputs": [
    {
     "name": "stdout",
     "output_type": "stream",
     "text": [
      "2024-09-05 16:10:14 anthropic._base_client DEBUG    Request options: {'method': 'post', 'url': '/v1/messages', 'timeout': 600, 'files': None, 'json_data': {'max_tokens': 1000, 'messages': [{'role': 'user', 'content': [{'type': 'text', 'text': '\\nGive me a list of movies where an actor potrayed a famous person. It should be in csv format. Give me as many examples as you can.\\n\\nmovie,actor,character\\nA Beautiful Mind,Russell Crowe,John Nash\\nGandhi,Ben Kingsley,Mahatma Gandhi\\n'}]}], 'model': 'claude-3-5-sonnet-20240620', 'system': 'You are a helpful assistant.', 'temperature': 0}}\n",
      "2024-09-05 16:10:14 anthropic._base_client DEBUG    Sending HTTP Request: POST https://api.anthropic.com/v1/messages\n",
      "2024-09-05 16:10:14 httpcore.connection DEBUG    close.started\n",
      "2024-09-05 16:10:14 httpcore.connection DEBUG    close.complete\n",
      "2024-09-05 16:10:14 httpcore.connection DEBUG    connect_tcp.started host='api.anthropic.com' port=443 local_address=None timeout=600 socket_options=None\n",
      "2024-09-05 16:10:14 httpcore.connection DEBUG    connect_tcp.complete return_value=<httpcore._backends.sync.SyncStream object at 0x7feafb308a50>\n",
      "2024-09-05 16:10:14 httpcore.connection DEBUG    start_tls.started ssl_context=<ssl.SSLContext object at 0x7febf3321400> server_hostname='api.anthropic.com' timeout=600\n",
      "2024-09-05 16:10:14 httpcore.connection DEBUG    start_tls.complete return_value=<httpcore._backends.sync.SyncStream object at 0x7feafb15b610>\n",
      "2024-09-05 16:10:14 httpcore.http11 DEBUG    send_request_headers.started request=<Request [b'POST']>\n",
      "2024-09-05 16:10:14 httpcore.http11 DEBUG    send_request_headers.complete\n",
      "2024-09-05 16:10:14 httpcore.http11 DEBUG    send_request_body.started request=<Request [b'POST']>\n",
      "2024-09-05 16:10:14 httpcore.http11 DEBUG    send_request_body.complete\n",
      "2024-09-05 16:10:14 httpcore.http11 DEBUG    receive_response_headers.started request=<Request [b'POST']>\n",
      "2024-09-05 16:10:23 httpcore.http11 DEBUG    receive_response_headers.complete return_value=(b'HTTP/1.1', 200, b'OK', [(b'Date', b'Thu, 05 Sep 2024 20:10:23 GMT'), (b'Content-Type', b'application/json'), (b'Transfer-Encoding', b'chunked'), (b'Connection', b'keep-alive'), (b'anthropic-ratelimit-requests-limit', b'1000'), (b'anthropic-ratelimit-requests-remaining', b'999'), (b'anthropic-ratelimit-requests-reset', b'2024-09-05T20:11:10Z'), (b'anthropic-ratelimit-tokens-limit', b'80000'), (b'anthropic-ratelimit-tokens-remaining', b'80000'), (b'anthropic-ratelimit-tokens-reset', b'2024-09-05T20:10:23Z'), (b'request-id', b'req_01JpR2cq5WN6BrEcF1E6LDwn'), (b'x-cloud-trace-context', b'420ca726ac8f8ae158454224658a4529'), (b'via', b'1.1 google'), (b'CF-Cache-Status', b'DYNAMIC'), (b'X-Robots-Tag', b'none'), (b'Server', b'cloudflare'), (b'CF-RAY', b'8be8dc8f5d378fde-BOS'), (b'Content-Encoding', b'gzip')])\n",
      "2024-09-05 16:10:23 httpx INFO     HTTP Request: POST https://api.anthropic.com/v1/messages \"HTTP/1.1 200 OK\"\n",
      "2024-09-05 16:10:23 httpcore.http11 DEBUG    receive_response_body.started request=<Request [b'POST']>\n",
      "2024-09-05 16:10:23 httpcore.http11 DEBUG    receive_response_body.complete\n",
      "2024-09-05 16:10:23 httpcore.http11 DEBUG    response_closed.started\n",
      "2024-09-05 16:10:23 httpcore.http11 DEBUG    response_closed.complete\n",
      "2024-09-05 16:10:23 anthropic._base_client DEBUG    HTTP Response: POST https://api.anthropic.com/v1/messages \"200 OK\" Headers({'date': 'Thu, 05 Sep 2024 20:10:23 GMT', 'content-type': 'application/json', 'transfer-encoding': 'chunked', 'connection': 'keep-alive', 'anthropic-ratelimit-requests-limit': '1000', 'anthropic-ratelimit-requests-remaining': '999', 'anthropic-ratelimit-requests-reset': '2024-09-05T20:11:10Z', 'anthropic-ratelimit-tokens-limit': '80000', 'anthropic-ratelimit-tokens-remaining': '80000', 'anthropic-ratelimit-tokens-reset': '2024-09-05T20:10:23Z', 'request-id': 'req_01JpR2cq5WN6BrEcF1E6LDwn', 'x-cloud-trace-context': '420ca726ac8f8ae158454224658a4529', 'via': '1.1 google', 'cf-cache-status': 'DYNAMIC', 'x-robots-tag': 'none', 'server': 'cloudflare', 'cf-ray': '8be8dc8f5d378fde-BOS', 'content-encoding': 'gzip'})\n",
      "2024-09-05 16:10:23 anthropic._base_client DEBUG    request_id: req_01JpR2cq5WN6BrEcF1E6LDwn\n",
      "Here's an extended list of movies where actors portrayed famous people, in CSV format:\n",
      "\n",
      "movie,actor,character\n",
      "A Beautiful Mind,Russell Crowe,John Nash\n",
      "Gandhi,Ben Kingsley,Mahatma Gandhi\n",
      "The Iron Lady,Meryl Streep,Margaret Thatcher\n",
      "Lincoln,Daniel Day-Lewis,Abraham Lincoln\n",
      "Ray,Jamie Foxx,Ray Charles\n",
      "Walk the Line,Joaquin Phoenix,Johnny Cash\n",
      "Capote,Philip Seymour Hoffman,Truman Capote\n",
      "The King's Speech,Colin Firth,King George VI\n",
      "Frida,Salma Hayek,Frida Kahlo\n",
      "Malcolm X,Denzel Washington,Malcolm X\n",
      "The Theory of Everything,Eddie Redmayne,Stephen Hawking\n",
      "Bohemian Rhapsody,Rami Malek,Freddie Mercury\n",
      "The Aviator,Leonardo DiCaprio,Howard Hughes\n",
      "Schindler's List,Liam Neeson,Oskar Schindler\n",
      "Ali,Will Smith,Muhammad Ali\n",
      "The Queen,Helen Mirren,Queen Elizabeth II\n",
      "Rocketman,Taron Egerton,Elton John\n",
      "Judy,Renée Zellweger,Judy Garland\n",
      "Selena,Jennifer Lopez,Selena Quintanilla-Pérez\n",
      "The Social Network,Jesse Eisenberg,Mark Zuckerberg\n",
      "Chaplin,Robert Downey Jr.,Charlie Chaplin\n",
      "The Pianist,Adrien Brody,Władysław Szpilman\n",
      "Milk,Sean Penn,Harvey Milk\n",
      "The Imitation Game,Benedict Cumberbatch,Alan Turing\n",
      "J. Edgar,Leonardo DiCaprio,J. Edgar Hoover\n",
      "Darkest Hour,Gary Oldman,Winston Churchill\n",
      "Frost/Nixon,Frank Langella,Richard Nixon\n",
      "The Last King of Scotland,Forest Whitaker,Idi Amin\n",
      "Catch Me If You Can,Leonardo DiCaprio,Frank Abagnale Jr.\n",
      "Goodfellas,Ray Liotta,Henry Hill\n",
      "Erin Brockovich,Julia Roberts,Erin Brockovich\n",
      "The Wolf of Wall Street,Leonardo DiCaprio,Jordan Belfort\n",
      "Steve Jobs,Michael Fassbender,Steve Jobs\n",
      "The Pursuit of Happyness,Will Smith,Chris Gardner\n",
      "Amadeus,Tom Hulce,Wolfgang Amadeus Mozart\n",
      "Raging Bull,Robert De Niro,Jake LaMotta\n",
      "Lawrence of Arabia,Peter O'Toole,T.E. Lawrence\n",
      "The Doors,Val Kilmer,Jim Morrison\n",
      "Nixon,Anthony Hopkins,Richard Nixon\n",
      "Patton,George C. Scott,General George S. Patton\n",
      "Notorious,Angela Bassett,Biggie Smalls\n",
      "The Fighter,Christian Bale,Dicky Eklund\n",
      "Straight Outta Compton,O'Shea Jackson Jr.,Ice Cube\n",
      "I Saw the Light,Tom Hiddleston,Hank Williams\n",
      "Love & Mercy,John Cusack,Brian Wilson\n",
      "Hitchcock,Anthony Hopkins,Alfred Hitchcock\n",
      "The Danish Girl,Eddie Redmayne,Lili Elbe\n",
      "Mandela: Long Walk to Freedom,Idris Elba,Nelson Mandela\n",
      "Jackie,Natalie Portman,Jackie Kennedy\n",
      "Becoming Jane,Anne Hathaway,Jane Austen\n"
     ]
    }
   ],
   "source": [
    "# response = client.chat.completions.create(\n",
    "#     model=MODEL_NAME,\n",
    "#     messages=[\n",
    "#         {\"role\": \"system\", \"content\": \"You are a helpful assistant.\"},\n",
    "#         {\"role\": \"user\", \"content\": prompt},\n",
    "#     ],\n",
    "#     temperature=0,\n",
    "#     max_tokens=4000,\n",
    "# )\n",
    "# print(response.choices[0].message.content)\n",
    "\n",
    "response = client.messages.create(\n",
    "    model=\"claude-3-5-sonnet-20240620\",\n",
    "    max_tokens=1000,\n",
    "    temperature=0,\n",
    "    system=\"You are a helpful assistant.\",\n",
    "    messages=[\n",
    "        {\n",
    "            \"role\": \"user\",\n",
    "            \"content\": [\n",
    "                {\n",
    "                    \"type\": \"text\",\n",
    "                    \"text\": prompt,\n",
    "                }\n",
    "            ]\n",
    "        }\n",
    "    ]\n",
    ")\n",
    "print(response.content[0].text)"
   ]
  },
  {
   "cell_type": "code",
   "execution_count": 9,
   "metadata": {},
   "outputs": [
    {
     "name": "stdout",
     "output_type": "stream",
     "text": [
      "2024-09-05 16:27:56 httpx DEBUG    load_ssl_context verify=True cert=None trust_env=True http2=False\n",
      "2024-09-05 16:27:56 httpx DEBUG    load_verify_locations cafile='/home/local_arnab/miniconda3/envs/retrieval/lib/python3.11/site-packages/certifi/cacert.pem'\n",
      "2024-09-05 16:27:56 src.functional DEBUG    found cached gpt4o response for 3b91fa3b8316235a6a4f092036e1ab2c - loading\n"
     ]
    },
    {
     "data": {
      "text/plain": [
       "\"Here's an extended list of movies where actors portrayed famous people, in CSV format:\\n\\nmovie,actor,character\\nA Beautiful Mind,Russell Crowe,John Nash\\nGandhi,Ben Kingsley,Mahatma Gandhi\\nThe Iron Lady,Meryl Streep,Margaret Thatcher\\nLincoln,Daniel Day-Lewis,Abraham Lincoln\\nRay,Jamie Foxx,Ray Charles\\nWalk the Line,Joaquin Phoenix,Johnny Cash\\nCapote,Philip Seymour Hoffman,Truman Capote\\nThe King's Speech,Colin Firth,King George VI\\nFrida,Salma Hayek,Frida Kahlo\\nMalcolm X,Denzel Washington,Malcolm X\\nThe Theory of Everything,Eddie Redmayne,Stephen Hawking\\nBohemian Rhapsody,Rami Malek,Freddie Mercury\\nThe Aviator,Leonardo DiCaprio,Howard Hughes\\nRocketman,Taron Egerton,Elton John\\nAli,Will Smith,Muhammad Ali\\nThe Pianist,Adrien Brody,Władysław Szpilman\\nSchindler's List,Liam Neeson,Oskar Schindler\\nThe Social Network,Jesse Eisenberg,Mark Zuckerberg\\nSelena,Jennifer Lopez,Selena Quintanilla-Pérez\\nThe Queen,Helen Mirren,Queen Elizabeth II\\nJudy,Renée Zellweger,Judy Garland\\nChaplin,Robert Downey Jr.,Charlie Chaplin\\nThe Imitation Game,Benedict Cumberbatch,Alan Turing\\nMilk,Sean Penn,Harvey Milk\\nThe Last King of Scotland,Forest Whitaker,Idi Amin\\nDarkest Hour,Gary Oldman,Winston Churchill\\nJ. Edgar,Leonardo DiCaprio,J. Edgar Hoover\\nFrost/Nixon,Frank Langella,Richard Nixon\\nThe Wolf of Wall Street,Leonardo DiCaprio,Jordan Belfort\\nSteve Jobs,Michael Fassbender,Steve Jobs\\nCatch Me If You Can,Leonardo DiCaprio,Frank Abagnale Jr.\\nThe Pursuit of Happyness,Will Smith,Chris Gardner\\nErin Brockovich,Julia Roberts,Erin Brockovich\\nThe Blind Side,Sandra Bullock,Leigh Anne Tuohy\\nGoodfellas,Ray Liotta,Henry Hill\\nAmadeus,Tom Hulce,Wolfgang Amadeus Mozart\\nPatton,George C. Scott,General George S. Patton\\nLawrence of Arabia,Peter O'Toole,T.E. Lawrence\\nRaging Bull,Robert De Niro,Jake LaMotta\\nThe Doors,Val Kilmer,Jim Morrison\\nNixon,Anthony Hopkins,Richard Nixon\\nPatch Adams,Robin Williams,Patch Adams\\nGia,Angelina Jolie,Gia Carangi\\nNotorious,Jamal Woolard,The Notorious B.I.G.\\nWalk the Line,Reese Witherspoon,June Carter Cash\\nThe Fighter,Christian Bale,Dicky Eklund\\nStraight Outta Compton,O'Shea Jackson Jr.,Ice Cube\\nI Saw the Light,Tom Hiddleston,Hank Williams\\nLove & Mercy,John Cusack,Brian Wilson\\nHitchcock,Anthony Hopkins,Alfred Hitchcock\\nThe Danish Girl,Eddie Redmayne,Lili Elbe\\nJackie,Natalie Portman,Jackie Kennedy\""
      ]
     },
     "execution_count": 9,
     "metadata": {},
     "output_type": "execute_result"
    }
   ],
   "source": [
    "from src.functional import ask_claude\n",
    "\n",
    "ask_claude(prompt)"
   ]
  },
  {
   "cell_type": "code",
   "execution_count": null,
   "metadata": {},
   "outputs": [],
   "source": []
  }
 ],
 "metadata": {
  "kernelspec": {
   "display_name": "retrieval",
   "language": "python",
   "name": "python3"
  },
  "language_info": {
   "codemirror_mode": {
    "name": "ipython",
    "version": 3
   },
   "file_extension": ".py",
   "mimetype": "text/x-python",
   "name": "python",
   "nbconvert_exporter": "python",
   "pygments_lexer": "ipython3",
   "version": "3.11.9"
  }
 },
 "nbformat": 4,
 "nbformat_minor": 2
}
