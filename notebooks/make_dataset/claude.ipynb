{
 "cells": [
  {
   "cell_type": "code",
   "execution_count": 20,
   "metadata": {},
   "outputs": [
    {
     "name": "stdout",
     "output_type": "stream",
     "text": [
      "The autoreload extension is already loaded. To reload it, use:\n",
      "  %reload_ext autoreload\n"
     ]
    }
   ],
   "source": [
    "%load_ext autoreload\n",
    "%autoreload 2"
   ]
  },
  {
   "cell_type": "code",
   "execution_count": 21,
   "metadata": {},
   "outputs": [
    {
     "name": "stdout",
     "output_type": "stream",
     "text": [
      "2024-09-05 16:56:44 __main__ INFO     torch.__version__='2.3.1', torch.version.cuda='12.1'\n",
      "2024-09-05 16:56:44 __main__ INFO     torch.cuda.is_available()=True, torch.cuda.device_count()=1, torch.cuda.get_device_name()='NVIDIA RTX A6000'\n",
      "2024-09-05 16:56:44 __main__ INFO     transformers.__version__='4.44.2'\n",
      "2024-09-05 16:56:44 httpx DEBUG    load_ssl_context verify=True cert=None trust_env=True http2=False\n",
      "2024-09-05 16:56:44 httpx DEBUG    load_verify_locations cafile='/home/local_arnab/miniconda3/envs/retrieval/lib/python3.11/site-packages/certifi/cacert.pem'\n"
     ]
    }
   ],
   "source": [
    "import os, time, json\n",
    "import pandas as pd\n",
    "from openai import OpenAI\n",
    "from anthropic import Anthropic\n",
    "from tqdm.auto import tqdm\n",
    "import spacy\n",
    "\n",
    "import sys\n",
    "sys.path.append(\"../../\")\n",
    "import os\n",
    "\n",
    "import logging\n",
    "from src.utils import logging_utils\n",
    "from src.utils import env_utils\n",
    "from src import functional\n",
    "\n",
    "logger = logging.getLogger(__name__)\n",
    "\n",
    "logging.basicConfig(\n",
    "    level=logging.DEBUG,\n",
    "    format=logging_utils.DEFAULT_FORMAT,\n",
    "    datefmt=logging_utils.DEFAULT_DATEFMT,\n",
    "    stream=sys.stdout,\n",
    ")\n",
    "\n",
    "import torch\n",
    "import transformers\n",
    "\n",
    "logger.info(f\"{torch.__version__=}, {torch.version.cuda=}\")\n",
    "logger.info(f\"{torch.cuda.is_available()=}, {torch.cuda.device_count()=}, {torch.cuda.get_device_name()=}\")\n",
    "logger.info(f\"{transformers.__version__=}\")\n",
    "\n",
    "# client = OpenAI(\n",
    "#     api_key=os.getenv(\"OPENAI_KEY\"),\n",
    "# )\n",
    "client = Anthropic(\n",
    "    api_key=os.getenv(\"CLAUDE_KEY\"),\n",
    ")\n",
    "\n",
    "MODEL_NAME = \"claude-3-5-sonnet-20240620\""
   ]
  },
  {
   "cell_type": "code",
   "execution_count": 28,
   "metadata": {},
   "outputs": [],
   "source": [
    "# # movie,actor,character\n",
    "# prompt = \"\"\"\n",
    "# Give me a list of movies where an actor potrayed a famous person. It should be in csv format. Give me as many examples as you can.\n",
    "\n",
    "# movie,actor,character\n",
    "# A Beautiful Mind,Russell Crowe,John Nash\n",
    "# Gandhi,Ben Kingsley,Mahatma Gandhi\n",
    "# \"\"\""
   ]
  },
  {
   "cell_type": "code",
   "execution_count": 34,
   "metadata": {},
   "outputs": [],
   "source": [
    "# # superhero,similar powers, characteristics\n",
    "\n",
    "# prompt = \"\"\"\n",
    "# Give me a list of superpowered characters with similar powers and traits. The character can be from any universe (Marvel, DC, different anime etc). It should be in csv format. Give me as many examples as you can.\n",
    "\n",
    "# connection,character1,character2\n",
    "# kryptonian,Superman,Supergirl\n",
    "# speedster,Flash,Quicksilver\n",
    "# billionaire,Batman,Ironman\n",
    "# blind, Daredevil, Toph Beifong\n",
    "# \"\"\""
   ]
  },
  {
   "cell_type": "code",
   "execution_count": 35,
   "metadata": {},
   "outputs": [],
   "source": [
    "# architect,famous buildings\n",
    "\n",
    "prompt = \"\"\"\n",
    "Give me a list of 2 famous buildings designed by the same architect or architectural firm. It should be in csv format. Give me as many examples as you can (atleast 20).\n",
    "It should be in csv format. Give me as many examples as you can.\n",
    "\n",
    "architect,building1,building2\n",
    "Frank Lloyd Wright,Fallingwater,Guggenheim Museum\n",
    "Zaha Hadid,Heydar Aliyev Center,Guangzhou Opera House\n",
    "\"\"\""
   ]
  },
  {
   "cell_type": "code",
   "execution_count": 36,
   "metadata": {},
   "outputs": [],
   "source": [
    "# # sports, famous players\n",
    "\n",
    "# prompt = \"\"\"\n",
    "# Give me a list of 2 famous players who played the same sport. It should be in csv format. Give me as many examples as you can (atleast 50).\n",
    "\n",
    "# sport,player1,player2\n",
    "# basketball,Michael Jordan,LeBron James\n",
    "# tennis,Roger Federer,Rafael Nadal\n",
    "# Cricket,Michael Vaughan,Sourav Ganguly\n",
    "# \"\"\""
   ]
  },
  {
   "cell_type": "code",
   "execution_count": 37,
   "metadata": {},
   "outputs": [],
   "source": [
    "# response = client.chat.completions.create(\n",
    "#     model=MODEL_NAME,\n",
    "#     messages=[\n",
    "#         {\"role\": \"system\", \"content\": \"You are a helpful assistant.\"},\n",
    "#         {\"role\": \"user\", \"content\": prompt},\n",
    "#     ],\n",
    "#     temperature=0,\n",
    "#     max_tokens=4000,\n",
    "# )\n",
    "# print(response.choices[0].message.content)\n",
    "\n",
    "# response = client.messages.create(\n",
    "#     model=\"claude-3-5-sonnet-20240620\",\n",
    "#     max_tokens=1000,\n",
    "#     temperature=0,\n",
    "#     system=\"You are a helpful assistant.\",\n",
    "#     messages=[\n",
    "#         {\n",
    "#             \"role\": \"user\",\n",
    "#             \"content\": [\n",
    "#                 {\n",
    "#                     \"type\": \"text\",\n",
    "#                     \"text\": prompt,\n",
    "#                 }\n",
    "#             ]\n",
    "#         }\n",
    "#     ]\n",
    "# )\n",
    "# print(response.content[0].text)"
   ]
  },
  {
   "cell_type": "code",
   "execution_count": 38,
   "metadata": {},
   "outputs": [
    {
     "name": "stdout",
     "output_type": "stream",
     "text": [
      "2024-09-05 16:59:16 httpx DEBUG    load_ssl_context verify=True cert=None trust_env=True http2=False\n",
      "2024-09-05 16:59:16 httpx DEBUG    load_verify_locations cafile='/home/local_arnab/miniconda3/envs/retrieval/lib/python3.11/site-packages/certifi/cacert.pem'\n",
      "2024-09-05 16:59:16 anthropic._base_client DEBUG    Request options: {'method': 'post', 'url': '/v1/messages', 'timeout': 600, 'files': None, 'json_data': {'max_tokens': 4000, 'messages': [{'role': 'user', 'content': [{'type': 'text', 'text': '\\nGive me a list of 2 famous buildings designed by the same architect or architectural firm. It should be in csv format. Give me as many examples as you can (atleast 20).\\nIt should be in csv format. Give me as many examples as you can.\\n\\narchitect,building1,building2\\nFrank Lloyd Wright,Fallingwater,Guggenheim Museum\\nZaha Hadid,Heydar Aliyev Center,Guangzhou Opera House\\n'}]}], 'model': 'claude-3-5-sonnet-20240620', 'system': 'You are a helpful assistant.', 'temperature': 0}}\n",
      "2024-09-05 16:59:16 anthropic._base_client DEBUG    Sending HTTP Request: POST https://api.anthropic.com/v1/messages\n",
      "2024-09-05 16:59:16 httpcore.connection DEBUG    connect_tcp.started host='api.anthropic.com' port=443 local_address=None timeout=600 socket_options=None\n",
      "2024-09-05 16:59:16 httpcore.connection DEBUG    connect_tcp.complete return_value=<httpcore._backends.sync.SyncStream object at 0x7f31cc984cd0>\n",
      "2024-09-05 16:59:16 httpcore.connection DEBUG    start_tls.started ssl_context=<ssl.SSLContext object at 0x7f30d49068d0> server_hostname='api.anthropic.com' timeout=600\n",
      "2024-09-05 16:59:16 httpcore.connection DEBUG    start_tls.complete return_value=<httpcore._backends.sync.SyncStream object at 0x7f30d441cd90>\n",
      "2024-09-05 16:59:16 httpcore.http11 DEBUG    send_request_headers.started request=<Request [b'POST']>\n",
      "2024-09-05 16:59:16 httpcore.http11 DEBUG    send_request_headers.complete\n",
      "2024-09-05 16:59:16 httpcore.http11 DEBUG    send_request_body.started request=<Request [b'POST']>\n",
      "2024-09-05 16:59:16 httpcore.http11 DEBUG    send_request_body.complete\n",
      "2024-09-05 16:59:16 httpcore.http11 DEBUG    receive_response_headers.started request=<Request [b'POST']>\n",
      "2024-09-05 16:59:22 httpcore.http11 DEBUG    receive_response_headers.complete return_value=(b'HTTP/1.1', 200, b'OK', [(b'Date', b'Thu, 05 Sep 2024 20:59:22 GMT'), (b'Content-Type', b'application/json'), (b'Transfer-Encoding', b'chunked'), (b'Connection', b'keep-alive'), (b'anthropic-ratelimit-requests-limit', b'1000'), (b'anthropic-ratelimit-requests-remaining', b'999'), (b'anthropic-ratelimit-requests-reset', b'2024-09-05T21:00:10Z'), (b'anthropic-ratelimit-tokens-limit', b'80000'), (b'anthropic-ratelimit-tokens-remaining', b'80000'), (b'anthropic-ratelimit-tokens-reset', b'2024-09-05T20:59:22Z'), (b'request-id', b'req_01KEJfngfeBsEAn9mG1eybqy'), (b'x-cloud-trace-context', b'a0b2b1cd9f14106e21405a8cfc4915c1'), (b'via', b'1.1 google'), (b'CF-Cache-Status', b'DYNAMIC'), (b'X-Robots-Tag', b'none'), (b'Server', b'cloudflare'), (b'CF-RAY', b'8be92465aa6b9035-BOS'), (b'Content-Encoding', b'gzip')])\n",
      "2024-09-05 16:59:22 httpx INFO     HTTP Request: POST https://api.anthropic.com/v1/messages \"HTTP/1.1 200 OK\"\n",
      "2024-09-05 16:59:22 httpcore.http11 DEBUG    receive_response_body.started request=<Request [b'POST']>\n",
      "2024-09-05 16:59:22 httpcore.http11 DEBUG    receive_response_body.complete\n",
      "2024-09-05 16:59:22 httpcore.http11 DEBUG    response_closed.started\n",
      "2024-09-05 16:59:22 httpcore.http11 DEBUG    response_closed.complete\n",
      "2024-09-05 16:59:22 anthropic._base_client DEBUG    HTTP Response: POST https://api.anthropic.com/v1/messages \"200 OK\" Headers({'date': 'Thu, 05 Sep 2024 20:59:22 GMT', 'content-type': 'application/json', 'transfer-encoding': 'chunked', 'connection': 'keep-alive', 'anthropic-ratelimit-requests-limit': '1000', 'anthropic-ratelimit-requests-remaining': '999', 'anthropic-ratelimit-requests-reset': '2024-09-05T21:00:10Z', 'anthropic-ratelimit-tokens-limit': '80000', 'anthropic-ratelimit-tokens-remaining': '80000', 'anthropic-ratelimit-tokens-reset': '2024-09-05T20:59:22Z', 'request-id': 'req_01KEJfngfeBsEAn9mG1eybqy', 'x-cloud-trace-context': 'a0b2b1cd9f14106e21405a8cfc4915c1', 'via': '1.1 google', 'cf-cache-status': 'DYNAMIC', 'x-robots-tag': 'none', 'server': 'cloudflare', 'cf-ray': '8be92465aa6b9035-BOS', 'content-encoding': 'gzip'})\n",
      "2024-09-05 16:59:22 anthropic._base_client DEBUG    request_id: req_01KEJfngfeBsEAn9mG1eybqy\n",
      "Here's a list of famous buildings designed by the same architect or architectural firm in CSV format, with at least 20 examples:\n",
      "\n",
      "architect,building1,building2\n",
      "Frank Lloyd Wright,Fallingwater,Guggenheim Museum\n",
      "Zaha Hadid,Heydar Aliyev Center,Guangzhou Opera House\n",
      "Le Corbusier,Villa Savoye,Notre Dame du Haut\n",
      "I.M. Pei,Louvre Pyramid,Bank of China Tower\n",
      "Norman Foster,The Gherkin,Apple Park\n",
      "Renzo Piano,The Shard,Centre Georges Pompidou\n",
      "Santiago Calatrava,City of Arts and Sciences,World Trade Center Transportation Hub\n",
      "Frank Gehry,Walt Disney Concert Hall,Guggenheim Museum Bilbao\n",
      "Mies van der Rohe,Farnsworth House,Seagram Building\n",
      "Antoni Gaudí,Sagrada Família,Casa Milà\n",
      "Rem Koolhaas,Seattle Central Library,CCTV Headquarters\n",
      "Tadao Ando,Church of the Light,Chichu Art Museum\n",
      "Philip Johnson,Glass House,AT&T Building\n",
      "Eero Saarinen,Gateway Arch,TWA Flight Center\n",
      "Oscar Niemeyer,Cathedral of Brasília,United Nations Secretariat Building\n",
      "Daniel Libeskind,Jewish Museum Berlin,Royal Ontario Museum\n",
      "Richard Rogers,Centre Pompidou,Lloyd's building\n",
      "Jean Nouvel,Louvre Abu Dhabi,Torre Agbar\n",
      "Herzog & de Meuron,Beijing National Stadium,Tate Modern\n",
      "Bjarke Ingels Group,VIA 57 West,CopenHill\n",
      "SOM (Skidmore Owings & Merrill),Burj Khalifa,One World Trade Center\n",
      "Kengo Kuma,Japan National Stadium,V&A Dundee\n",
      "SANAA,New Museum,Rolex Learning Center\n",
      "Moshe Safdie,Marina Bay Sands,Habitat 67\n",
      "Adrian Smith,Burj Khalifa,Jeddah Tower\n"
     ]
    }
   ],
   "source": [
    "from src.functional import ask_claude\n",
    "\n",
    "print(ask_claude(prompt))"
   ]
  },
  {
   "cell_type": "code",
   "execution_count": null,
   "metadata": {},
   "outputs": [],
   "source": []
  }
 ],
 "metadata": {
  "kernelspec": {
   "display_name": "retrieval",
   "language": "python",
   "name": "python3"
  },
  "language_info": {
   "codemirror_mode": {
    "name": "ipython",
    "version": 3
   },
   "file_extension": ".py",
   "mimetype": "text/x-python",
   "name": "python",
   "nbconvert_exporter": "python",
   "pygments_lexer": "ipython3",
   "version": "3.11.9"
  }
 },
 "nbformat": 4,
 "nbformat_minor": 2
}
