{
 "cells": [
  {
   "cell_type": "code",
   "execution_count": 39,
   "metadata": {},
   "outputs": [
    {
     "name": "stdout",
     "output_type": "stream",
     "text": [
      "The autoreload extension is already loaded. To reload it, use:\n",
      "  %reload_ext autoreload\n"
     ]
    }
   ],
   "source": [
    "%load_ext autoreload\n",
    "%autoreload 2"
   ]
  },
  {
   "cell_type": "code",
   "execution_count": 40,
   "metadata": {},
   "outputs": [
    {
     "name": "stdout",
     "output_type": "stream",
     "text": [
      "2024-09-05 17:05:05 __main__ INFO     torch.__version__='2.3.1', torch.version.cuda='12.1'\n",
      "2024-09-05 17:05:05 __main__ INFO     torch.cuda.is_available()=True, torch.cuda.device_count()=1, torch.cuda.get_device_name()='NVIDIA RTX A6000'\n",
      "2024-09-05 17:05:05 __main__ INFO     transformers.__version__='4.44.2'\n",
      "2024-09-05 17:05:05 httpx DEBUG    load_ssl_context verify=True cert=None trust_env=True http2=False\n",
      "2024-09-05 17:05:05 httpx DEBUG    load_verify_locations cafile='/home/local_arnab/miniconda3/envs/retrieval/lib/python3.11/site-packages/certifi/cacert.pem'\n"
     ]
    }
   ],
   "source": [
    "import os, time, json\n",
    "import pandas as pd\n",
    "from openai import OpenAI\n",
    "from anthropic import Anthropic\n",
    "from tqdm.auto import tqdm\n",
    "import spacy\n",
    "\n",
    "import sys\n",
    "\n",
    "sys.path.append(\"../../\")\n",
    "import os\n",
    "\n",
    "import logging\n",
    "from src.utils import logging_utils\n",
    "from src.utils import env_utils\n",
    "from src import functional\n",
    "\n",
    "logger = logging.getLogger(__name__)\n",
    "\n",
    "logging.basicConfig(\n",
    "    level=logging.DEBUG,\n",
    "    format=logging_utils.DEFAULT_FORMAT,\n",
    "    datefmt=logging_utils.DEFAULT_DATEFMT,\n",
    "    stream=sys.stdout,\n",
    ")\n",
    "\n",
    "import torch\n",
    "import transformers\n",
    "\n",
    "logger.info(f\"{torch.__version__=}, {torch.version.cuda=}\")\n",
    "logger.info(\n",
    "    f\"{torch.cuda.is_available()=}, {torch.cuda.device_count()=}, {torch.cuda.get_device_name()=}\"\n",
    ")\n",
    "logger.info(f\"{transformers.__version__=}\")\n",
    "\n",
    "# client = OpenAI(\n",
    "#     api_key=os.getenv(\"OPENAI_KEY\"),\n",
    "# )\n",
    "client = Anthropic(\n",
    "    api_key=os.getenv(\"CLAUDE_KEY\"),\n",
    ")\n",
    "\n",
    "MODEL_NAME = \"claude-3-5-sonnet-20240620\""
   ]
  },
  {
   "cell_type": "code",
   "execution_count": 41,
   "metadata": {},
   "outputs": [],
   "source": [
    "# # movie,actor,character\n",
    "# prompt = \"\"\"\n",
    "# Give me a list of movies where an actor potrayed a famous person. It should be in csv format. Give me as many examples as you can.\n",
    "\n",
    "# movie,actor,character\n",
    "# A Beautiful Mind,Russell Crowe,John Nash\n",
    "# Gandhi,Ben Kingsley,Mahatma Gandhi\n",
    "# \"\"\""
   ]
  },
  {
   "cell_type": "code",
   "execution_count": 42,
   "metadata": {},
   "outputs": [],
   "source": [
    "# # superhero,similar powers, characteristics\n",
    "\n",
    "# prompt = \"\"\"\n",
    "# Give me a list of superpowered characters with similar powers and traits. The character can be from any universe (Marvel, DC, different anime etc). It should be in csv format. Give me as many examples as you can.\n",
    "\n",
    "# connection,character1,character2\n",
    "# kryptonian,Superman,Supergirl\n",
    "# speedster,Flash,Quicksilver\n",
    "# billionaire,Batman,Ironman\n",
    "# blind, Daredevil, Toph Beifong\n",
    "# \"\"\""
   ]
  },
  {
   "cell_type": "code",
   "execution_count": 43,
   "metadata": {},
   "outputs": [],
   "source": [
    "# # architect,famous buildings\n",
    "\n",
    "# prompt = \"\"\"\n",
    "# Give me a list of 2 famous buildings designed by the same architect or architectural firm. It should be in csv format. Give me as many examples as you can (atleast 20).\n",
    "# It should be in csv format. Give me as many examples as you can.\n",
    "\n",
    "# architect,building1,building2\n",
    "# Frank Lloyd Wright,Fallingwater,Guggenheim Museum\n",
    "# Zaha Hadid,Heydar Aliyev Center,Guangzhou Opera House\n",
    "# \"\"\""
   ]
  },
  {
   "cell_type": "code",
   "execution_count": 44,
   "metadata": {},
   "outputs": [],
   "source": [
    "# # sports, famous players\n",
    "\n",
    "# prompt = \"\"\"\n",
    "# Give me a list of 2 famous players who played the same sport. It should be in csv format. Give me as many examples as you can (atleast 50).\n",
    "\n",
    "# sport,player1,player2\n",
    "# basketball,Michael Jordan,LeBron James\n",
    "# tennis,Roger Federer,Rafael Nadal\n",
    "# Cricket,Michael Vaughan,Sourav Ganguly\n",
    "# \"\"\""
   ]
  },
  {
   "cell_type": "code",
   "execution_count": 45,
   "metadata": {},
   "outputs": [],
   "source": [
    "# None\n",
    "\n",
    "prompt = \"\"\"\n",
    "Give me a list of 2 famous entities such that there is no obvious connection between them. The entities can be anything (people, places, things, events etc). \n",
    "It should be in csv format. Give me as many examples as you can (atleast 50).\n",
    "\n",
    "connection,entity1,entity2\n",
    "None,Michael Jordan,Slovenia\n",
    "None,Mount Everest,Jon Bon Jovi\n",
    "\"\"\""
   ]
  },
  {
   "cell_type": "code",
   "execution_count": 46,
   "metadata": {},
   "outputs": [],
   "source": [
    "# response = client.chat.completions.create(\n",
    "#     model=MODEL_NAME,\n",
    "#     messages=[\n",
    "#         {\"role\": \"system\", \"content\": \"You are a helpful assistant.\"},\n",
    "#         {\"role\": \"user\", \"content\": prompt},\n",
    "#     ],\n",
    "#     temperature=0,\n",
    "#     max_tokens=4000,\n",
    "# )\n",
    "# print(response.choices[0].message.content)\n",
    "\n",
    "# response = client.messages.create(\n",
    "#     model=\"claude-3-5-sonnet-20240620\",\n",
    "#     max_tokens=1000,\n",
    "#     temperature=0,\n",
    "#     system=\"You are a helpful assistant.\",\n",
    "#     messages=[\n",
    "#         {\n",
    "#             \"role\": \"user\",\n",
    "#             \"content\": [\n",
    "#                 {\n",
    "#                     \"type\": \"text\",\n",
    "#                     \"text\": prompt,\n",
    "#                 }\n",
    "#             ]\n",
    "#         }\n",
    "#     ]\n",
    "# )\n",
    "# print(response.content[0].text)"
   ]
  },
  {
   "cell_type": "code",
   "execution_count": 47,
   "metadata": {},
   "outputs": [
    {
     "name": "stdout",
     "output_type": "stream",
     "text": [
      "2024-09-05 17:16:23 httpx DEBUG    load_ssl_context verify=True cert=None trust_env=True http2=False\n",
      "2024-09-05 17:16:23 httpx DEBUG    load_verify_locations cafile='/home/local_arnab/miniconda3/envs/retrieval/lib/python3.11/site-packages/certifi/cacert.pem'\n",
      "2024-09-05 17:16:23 anthropic._base_client DEBUG    Request options: {'method': 'post', 'url': '/v1/messages', 'timeout': 600, 'files': None, 'json_data': {'max_tokens': 4000, 'messages': [{'role': 'user', 'content': [{'type': 'text', 'text': '\\nGive me a list of 2 famous entities such that there is no obvious connection between them. The entities can be anything (people, places, things, events etc). \\nIt should be in csv format. Give me as many examples as you can (atleast 50).\\n\\nconnection,entity1,entity2\\nNone,Michael Jordan,Slovenia\\nNone,Mount Everest,Jon Bon Jovi\\n'}]}], 'model': 'claude-3-5-sonnet-20240620', 'system': 'You are a helpful assistant.', 'temperature': 0}}\n",
      "2024-09-05 17:16:23 anthropic._base_client DEBUG    Sending HTTP Request: POST https://api.anthropic.com/v1/messages\n",
      "2024-09-05 17:16:23 httpcore.connection DEBUG    connect_tcp.started host='api.anthropic.com' port=443 local_address=None timeout=600 socket_options=None\n",
      "2024-09-05 17:16:23 httpcore.connection DEBUG    connect_tcp.complete return_value=<httpcore._backends.sync.SyncStream object at 0x7f30d417ac50>\n",
      "2024-09-05 17:16:23 httpcore.connection DEBUG    start_tls.started ssl_context=<ssl.SSLContext object at 0x7f30d444f020> server_hostname='api.anthropic.com' timeout=600\n",
      "2024-09-05 17:16:23 httpcore.connection DEBUG    start_tls.complete return_value=<httpcore._backends.sync.SyncStream object at 0x7f30d8793e10>\n",
      "2024-09-05 17:16:23 httpcore.http11 DEBUG    send_request_headers.started request=<Request [b'POST']>\n",
      "2024-09-05 17:16:23 httpcore.connection DEBUG    close.started\n",
      "2024-09-05 17:16:33 httpcore.connection DEBUG    close.complete\n",
      "2024-09-05 17:16:33 httpcore.http11 DEBUG    send_request_headers.complete\n",
      "2024-09-05 17:16:33 httpcore.http11 DEBUG    send_request_body.started request=<Request [b'POST']>\n",
      "2024-09-05 17:16:33 httpcore.http11 DEBUG    send_request_body.complete\n",
      "2024-09-05 17:16:33 httpcore.http11 DEBUG    receive_response_headers.started request=<Request [b'POST']>\n"
     ]
    },
    {
     "name": "stderr",
     "output_type": "stream",
     "text": [
      "IOStream.flush timed out\n"
     ]
    },
    {
     "name": "stdout",
     "output_type": "stream",
     "text": [
      "2024-09-05 17:16:42 httpcore.http11 DEBUG    receive_response_headers.complete return_value=(b'HTTP/1.1', 200, b'OK', [(b'Date', b'Thu, 05 Sep 2024 21:16:42 GMT'), (b'Content-Type', b'application/json'), (b'Transfer-Encoding', b'chunked'), (b'Connection', b'keep-alive'), (b'anthropic-ratelimit-requests-limit', b'1000'), (b'anthropic-ratelimit-requests-remaining', b'999'), (b'anthropic-ratelimit-requests-reset', b'2024-09-05T21:17:10Z'), (b'anthropic-ratelimit-tokens-limit', b'80000'), (b'anthropic-ratelimit-tokens-remaining', b'80000'), (b'anthropic-ratelimit-tokens-reset', b'2024-09-05T21:16:42Z'), (b'request-id', b'req_01J74aLU2DoqUFGpRLtiKEWt'), (b'x-cloud-trace-context', b'7b3981d288de8550dba97c69b4bdcfb1'), (b'via', b'1.1 google'), (b'CF-Cache-Status', b'DYNAMIC'), (b'X-Robots-Tag', b'none'), (b'Server', b'cloudflare'), (b'CF-RAY', b'8be93db7d9049020-BOS'), (b'Content-Encoding', b'gzip')])\n",
      "2024-09-05 17:16:42 httpx INFO     HTTP Request: POST https://api.anthropic.com/v1/messages \"HTTP/1.1 200 OK\"\n",
      "2024-09-05 17:16:42 httpcore.http11 DEBUG    receive_response_body.started request=<Request [b'POST']>\n",
      "2024-09-05 17:16:42 httpcore.http11 DEBUG    receive_response_body.complete\n",
      "2024-09-05 17:16:42 httpcore.http11 DEBUG    response_closed.started\n",
      "2024-09-05 17:16:42 httpcore.http11 DEBUG    response_closed.complete\n",
      "2024-09-05 17:16:42 anthropic._base_client DEBUG    HTTP Response: POST https://api.anthropic.com/v1/messages \"200 OK\" Headers({'date': 'Thu, 05 Sep 2024 21:16:42 GMT', 'content-type': 'application/json', 'transfer-encoding': 'chunked', 'connection': 'keep-alive', 'anthropic-ratelimit-requests-limit': '1000', 'anthropic-ratelimit-requests-remaining': '999', 'anthropic-ratelimit-requests-reset': '2024-09-05T21:17:10Z', 'anthropic-ratelimit-tokens-limit': '80000', 'anthropic-ratelimit-tokens-remaining': '80000', 'anthropic-ratelimit-tokens-reset': '2024-09-05T21:16:42Z', 'request-id': 'req_01J74aLU2DoqUFGpRLtiKEWt', 'x-cloud-trace-context': '7b3981d288de8550dba97c69b4bdcfb1', 'via': '1.1 google', 'cf-cache-status': 'DYNAMIC', 'x-robots-tag': 'none', 'server': 'cloudflare', 'cf-ray': '8be93db7d9049020-BOS', 'content-encoding': 'gzip'})\n",
      "2024-09-05 17:16:42 anthropic._base_client DEBUG    request_id: req_01J74aLU2DoqUFGpRLtiKEWt\n",
      "Here's a list of 50 pairs of famous entities with no obvious connection, in CSV format:\n",
      "\n",
      "connection,entity1,entity2\n",
      "None,Michael Jordan,Slovenia\n",
      "None,Mount Everest,Jon Bon Jovi\n",
      "None,Eiffel Tower,Serena Williams\n",
      "None,Leonardo da Vinci,Great Barrier Reef\n",
      "None,Taj Mahal,Stephen King\n",
      "None,Albert Einstein,Machu Picchu\n",
      "None,Mona Lisa,Usain Bolt\n",
      "None,William Shakespeare,Sushi\n",
      "None,Great Wall of China,Beyoncé\n",
      "None,Statue of Liberty,Lionel Messi\n",
      "None,Cleopatra,Volkswagen Beetle\n",
      "None,Nelson Mandela,Stonehenge\n",
      "None,Marie Curie,Kangaroo\n",
      "None,Pyramids of Giza,Bob Marley\n",
      "None,Vincent van Gogh,Coca-Cola\n",
      "None,Beethoven,Amazon Rainforest\n",
      "None,Marilyn Monroe,Mount Fuji\n",
      "None,Elvis Presley,Taj Mahal\n",
      "None,Charlie Chaplin,Niagara Falls\n",
      "None,Walt Disney,Spaghetti\n",
      "None,Pablo Picasso,Koala\n",
      "None,Muhammad Ali,Leaning Tower of Pisa\n",
      "None,Oprah Winfrey,Colosseum\n",
      "None,Steve Jobs,Tango\n",
      "None,Madonna,Great Barrier Reef\n",
      "None,Freddie Mercury,Sahara Desert\n",
      "None,Neil Armstrong,Samba\n",
      "None,Audrey Hepburn,Mount Kilimanjaro\n",
      "None,John Lennon,Angkor Wat\n",
      "None,Mahatma Gandhi,Eiffel Tower\n",
      "None,Queen Elizabeth II,Sushi\n",
      "None,Martin Luther King Jr.,Acropolis\n",
      "None,Frida Kahlo,Kangaroo\n",
      "None,Charles Darwin,Flamenco\n",
      "None,Mother Teresa,Grand Canyon\n",
      "None,Winston Churchill,Machu Picchu\n",
      "None,Dalai Lama,Statue of Liberty\n",
      "None,Jane Austen,Great Wall of China\n",
      "None,Christopher Columbus,Kimchi\n",
      "None,Isaac Newton,Taj Mahal\n",
      "None,Galileo Galilei,Boomerang\n",
      "None,Leonardo DiCaprio,Petra\n",
      "None,Meryl Streep,Mount Everest\n",
      "None,Bruce Lee,Stonehenge\n",
      "None,Pelé,Mona Lisa\n",
      "None,Coco Chanel,Uluru\n",
      "None,Andy Warhol,Sombrero\n",
      "None,Alfred Hitchcock,Galapagos Islands\n",
      "None,Amelia Earhart,Haggis\n",
      "None,Ernest Hemingway,Bonsai\n",
      "None,Virginia Woolf,Ayers Rock\n"
     ]
    }
   ],
   "source": [
    "from src.functional import ask_claude\n",
    "\n",
    "print(ask_claude(prompt))"
   ]
  },
  {
   "cell_type": "code",
   "execution_count": null,
   "metadata": {},
   "outputs": [],
   "source": []
  }
 ],
 "metadata": {
  "kernelspec": {
   "display_name": "retrieval",
   "language": "python",
   "name": "python3"
  },
  "language_info": {
   "codemirror_mode": {
    "name": "ipython",
    "version": 3
   },
   "file_extension": ".py",
   "mimetype": "text/x-python",
   "name": "python",
   "nbconvert_exporter": "python",
   "pygments_lexer": "ipython3",
   "version": "3.11.9"
  }
 },
 "nbformat": 4,
 "nbformat_minor": 2
}
