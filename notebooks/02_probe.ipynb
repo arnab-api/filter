{
 "cells": [
  {
   "cell_type": "code",
   "execution_count": 1,
   "metadata": {},
   "outputs": [],
   "source": [
    "%load_ext autoreload\n",
    "%autoreload 2"
   ]
  },
  {
   "cell_type": "code",
   "execution_count": 2,
   "metadata": {},
   "outputs": [
    {
     "name": "stderr",
     "output_type": "stream",
     "text": [
      "/disk/u/arnab/miniconda3/envs/retrieval/lib/python3.11/site-packages/tqdm/auto.py:21: TqdmWarning: IProgress not found. Please update jupyter and ipywidgets. See https://ipywidgets.readthedocs.io/en/stable/user_install.html\n",
      "  from .autonotebook import tqdm as notebook_tqdm\n"
     ]
    },
    {
     "name": "stdout",
     "output_type": "stream",
     "text": [
      "2025-02-02 13:05:11 __main__ INFO     torch.__version__='2.5.1+cu124', torch.version.cuda='12.4'\n",
      "2025-02-02 13:05:11 __main__ INFO     torch.cuda.is_available()=True, torch.cuda.device_count()=8, torch.cuda.get_device_name()='NVIDIA A100 80GB PCIe'\n",
      "2025-02-02 13:05:11 __main__ INFO     transformers.__version__='4.48.0'\n"
     ]
    }
   ],
   "source": [
    "import os, time, json\n",
    "import pandas as pd\n",
    "from openai import OpenAI\n",
    "from tqdm.auto import tqdm\n",
    "import spacy\n",
    "\n",
    "import sys\n",
    "sys.path.append(\"../\")\n",
    "import os\n",
    "\n",
    "import logging\n",
    "from src.utils import logging_utils\n",
    "from src.utils import env_utils\n",
    "from src import functional\n",
    "\n",
    "logger = logging.getLogger(__name__)\n",
    "\n",
    "logging.basicConfig(\n",
    "    level=logging.DEBUG,\n",
    "    format=logging_utils.DEFAULT_FORMAT,\n",
    "    datefmt=logging_utils.DEFAULT_DATEFMT,\n",
    "    stream=sys.stdout,\n",
    ")\n",
    "\n",
    "import torch\n",
    "import transformers\n",
    "\n",
    "logger.info(f\"{torch.__version__=}, {torch.version.cuda=}\")\n",
    "logger.info(f\"{torch.cuda.is_available()=}, {torch.cuda.device_count()=}, {torch.cuda.get_device_name()=}\")\n",
    "logger.info(f\"{transformers.__version__=}\")"
   ]
  },
  {
   "cell_type": "code",
   "execution_count": 3,
   "metadata": {},
   "outputs": [],
   "source": [
    "from src.probing.utils import ProbingLatents\n",
    "import numpy as np\n",
    "\n",
    "latents_npz = np.load(\"../results/probing_latents/Llama-3.2-3B/actors/0a7fd4c6c046bf2eed09485d0bc4b490.npz\", allow_pickle=True)\n",
    "\n",
    "latents = ProbingLatents.from_npz(latents_npz)"
   ]
  },
  {
   "cell_type": "code",
   "execution_count": 4,
   "metadata": {},
   "outputs": [
    {
     "name": "stdout",
     "output_type": "stream",
     "text": [
      "dict_keys([('model.layers.0', 206), ('model.layers.0', 207), ('model.layers.0', 208), ('model.layers.0', 209), ('model.layers.0', 210), ('model.layers.0', 211), ('model.layers.0', 212), ('model.layers.0', 213), ('model.layers.0', 214), ('model.layers.0', 215), ('model.layers.0', 216), ('model.layers.1', 206), ('model.layers.1', 207), ('model.layers.1', 208), ('model.layers.1', 209), ('model.layers.1', 210), ('model.layers.1', 211), ('model.layers.1', 212), ('model.layers.1', 213), ('model.layers.1', 214), ('model.layers.1', 215), ('model.layers.1', 216), ('model.layers.2', 206), ('model.layers.2', 207), ('model.layers.2', 208), ('model.layers.2', 209), ('model.layers.2', 210), ('model.layers.2', 211), ('model.layers.2', 212), ('model.layers.2', 213), ('model.layers.2', 214), ('model.layers.2', 215), ('model.layers.2', 216), ('model.layers.3', 206), ('model.layers.3', 207), ('model.layers.3', 208), ('model.layers.3', 209), ('model.layers.3', 210), ('model.layers.3', 211), ('model.layers.3', 212), ('model.layers.3', 213), ('model.layers.3', 214), ('model.layers.3', 215), ('model.layers.3', 216), ('model.layers.4', 206), ('model.layers.4', 207), ('model.layers.4', 208), ('model.layers.4', 209), ('model.layers.4', 210), ('model.layers.4', 211), ('model.layers.4', 212), ('model.layers.4', 213), ('model.layers.4', 214), ('model.layers.4', 215), ('model.layers.4', 216), ('model.layers.5', 206), ('model.layers.5', 207), ('model.layers.5', 208), ('model.layers.5', 209), ('model.layers.5', 210), ('model.layers.5', 211), ('model.layers.5', 212), ('model.layers.5', 213), ('model.layers.5', 214), ('model.layers.5', 215), ('model.layers.5', 216), ('model.layers.6', 206), ('model.layers.6', 207), ('model.layers.6', 208), ('model.layers.6', 209), ('model.layers.6', 210), ('model.layers.6', 211), ('model.layers.6', 212), ('model.layers.6', 213), ('model.layers.6', 214), ('model.layers.6', 215), ('model.layers.6', 216), ('model.layers.7', 206), ('model.layers.7', 207), ('model.layers.7', 208), ('model.layers.7', 209), ('model.layers.7', 210), ('model.layers.7', 211), ('model.layers.7', 212), ('model.layers.7', 213), ('model.layers.7', 214), ('model.layers.7', 215), ('model.layers.7', 216), ('model.layers.8', 206), ('model.layers.8', 207), ('model.layers.8', 208), ('model.layers.8', 209), ('model.layers.8', 210), ('model.layers.8', 211), ('model.layers.8', 212), ('model.layers.8', 213), ('model.layers.8', 214), ('model.layers.8', 215), ('model.layers.8', 216), ('model.layers.9', 206), ('model.layers.9', 207), ('model.layers.9', 208), ('model.layers.9', 209), ('model.layers.9', 210), ('model.layers.9', 211), ('model.layers.9', 212), ('model.layers.9', 213), ('model.layers.9', 214), ('model.layers.9', 215), ('model.layers.9', 216), ('model.layers.10', 206), ('model.layers.10', 207), ('model.layers.10', 208), ('model.layers.10', 209), ('model.layers.10', 210), ('model.layers.10', 211), ('model.layers.10', 212), ('model.layers.10', 213), ('model.layers.10', 214), ('model.layers.10', 215), ('model.layers.10', 216), ('model.layers.11', 206), ('model.layers.11', 207), ('model.layers.11', 208), ('model.layers.11', 209), ('model.layers.11', 210), ('model.layers.11', 211), ('model.layers.11', 212), ('model.layers.11', 213), ('model.layers.11', 214), ('model.layers.11', 215), ('model.layers.11', 216), ('model.layers.12', 206), ('model.layers.12', 207), ('model.layers.12', 208), ('model.layers.12', 209), ('model.layers.12', 210), ('model.layers.12', 211), ('model.layers.12', 212), ('model.layers.12', 213), ('model.layers.12', 214), ('model.layers.12', 215), ('model.layers.12', 216), ('model.layers.13', 206), ('model.layers.13', 207), ('model.layers.13', 208), ('model.layers.13', 209), ('model.layers.13', 210), ('model.layers.13', 211), ('model.layers.13', 212), ('model.layers.13', 213), ('model.layers.13', 214), ('model.layers.13', 215), ('model.layers.13', 216), ('model.layers.14', 206), ('model.layers.14', 207), ('model.layers.14', 208), ('model.layers.14', 209), ('model.layers.14', 210), ('model.layers.14', 211), ('model.layers.14', 212), ('model.layers.14', 213), ('model.layers.14', 214), ('model.layers.14', 215), ('model.layers.14', 216), ('model.layers.15', 206), ('model.layers.15', 207), ('model.layers.15', 208), ('model.layers.15', 209), ('model.layers.15', 210), ('model.layers.15', 211), ('model.layers.15', 212), ('model.layers.15', 213), ('model.layers.15', 214), ('model.layers.15', 215), ('model.layers.15', 216), ('model.layers.16', 206), ('model.layers.16', 207), ('model.layers.16', 208), ('model.layers.16', 209), ('model.layers.16', 210), ('model.layers.16', 211), ('model.layers.16', 212), ('model.layers.16', 213), ('model.layers.16', 214), ('model.layers.16', 215), ('model.layers.16', 216), ('model.layers.17', 206), ('model.layers.17', 207), ('model.layers.17', 208), ('model.layers.17', 209), ('model.layers.17', 210), ('model.layers.17', 211), ('model.layers.17', 212), ('model.layers.17', 213), ('model.layers.17', 214), ('model.layers.17', 215), ('model.layers.17', 216), ('model.layers.18', 206), ('model.layers.18', 207), ('model.layers.18', 208), ('model.layers.18', 209), ('model.layers.18', 210), ('model.layers.18', 211), ('model.layers.18', 212), ('model.layers.18', 213), ('model.layers.18', 214), ('model.layers.18', 215), ('model.layers.18', 216), ('model.layers.19', 206), ('model.layers.19', 207), ('model.layers.19', 208), ('model.layers.19', 209), ('model.layers.19', 210), ('model.layers.19', 211), ('model.layers.19', 212), ('model.layers.19', 213), ('model.layers.19', 214), ('model.layers.19', 215), ('model.layers.19', 216), ('model.layers.20', 206), ('model.layers.20', 207), ('model.layers.20', 208), ('model.layers.20', 209), ('model.layers.20', 210), ('model.layers.20', 211), ('model.layers.20', 212), ('model.layers.20', 213), ('model.layers.20', 214), ('model.layers.20', 215), ('model.layers.20', 216), ('model.layers.21', 206), ('model.layers.21', 207), ('model.layers.21', 208), ('model.layers.21', 209), ('model.layers.21', 210), ('model.layers.21', 211), ('model.layers.21', 212), ('model.layers.21', 213), ('model.layers.21', 214), ('model.layers.21', 215), ('model.layers.21', 216), ('model.layers.22', 206), ('model.layers.22', 207), ('model.layers.22', 208), ('model.layers.22', 209), ('model.layers.22', 210), ('model.layers.22', 211), ('model.layers.22', 212), ('model.layers.22', 213), ('model.layers.22', 214), ('model.layers.22', 215), ('model.layers.22', 216), ('model.layers.23', 206), ('model.layers.23', 207), ('model.layers.23', 208), ('model.layers.23', 209), ('model.layers.23', 210), ('model.layers.23', 211), ('model.layers.23', 212), ('model.layers.23', 213), ('model.layers.23', 214), ('model.layers.23', 215), ('model.layers.23', 216), ('model.layers.24', 206), ('model.layers.24', 207), ('model.layers.24', 208), ('model.layers.24', 209), ('model.layers.24', 210), ('model.layers.24', 211), ('model.layers.24', 212), ('model.layers.24', 213), ('model.layers.24', 214), ('model.layers.24', 215), ('model.layers.24', 216), ('model.layers.25', 206), ('model.layers.25', 207), ('model.layers.25', 208), ('model.layers.25', 209), ('model.layers.25', 210), ('model.layers.25', 211), ('model.layers.25', 212), ('model.layers.25', 213), ('model.layers.25', 214), ('model.layers.25', 215), ('model.layers.25', 216), ('model.layers.26', 206), ('model.layers.26', 207), ('model.layers.26', 208), ('model.layers.26', 209), ('model.layers.26', 210), ('model.layers.26', 211), ('model.layers.26', 212), ('model.layers.26', 213), ('model.layers.26', 214), ('model.layers.26', 215), ('model.layers.26', 216), ('model.layers.27', 206), ('model.layers.27', 207), ('model.layers.27', 208), ('model.layers.27', 209), ('model.layers.27', 210), ('model.layers.27', 211), ('model.layers.27', 212), ('model.layers.27', 213), ('model.layers.27', 214), ('model.layers.27', 215), ('model.layers.27', 216)])\n",
      "[214, 215, 216]\n"
     ]
    }
   ],
   "source": [
    "print(latents.latents.keys())\n",
    "print(list(range(*latents.prompt.query_range)))"
   ]
  },
  {
   "cell_type": "code",
   "execution_count": 5,
   "metadata": {},
   "outputs": [],
   "source": [
    "MODEL_NAME = \"Llama-3.2-3B\"\n",
    "LATENT_ROOT = os.path.join(env_utils.DEFAULT_RESULTS_DIR, \"probing_latents\", MODEL_NAME)\n",
    "TOKEN_IDX = -1\n",
    "LAYER_NAME_FORMAT = \"model.layers.{}\"\n",
    "LAYER_NAME = LAYER_NAME_FORMAT.format(2)"
   ]
  },
  {
   "cell_type": "code",
   "execution_count": 33,
   "metadata": {},
   "outputs": [
    {
     "name": "stdout",
     "output_type": "stream",
     "text": [
      "2025-02-02 13:28:11 src.probing.utils INFO     cls='scientists' ... loading 200 latents ...\n"
     ]
    },
    {
     "name": "stderr",
     "output_type": "stream",
     "text": [
      "100%|█████████▉| 199/200 [00:18<00:00, 10.49it/s]"
     ]
    },
    {
     "name": "stdout",
     "output_type": "stream",
     "text": [
      "2025-02-02 13:28:30 src.probing.utils INFO     cls='politicians' ... loading 200 latents ...\n"
     ]
    },
    {
     "name": "stderr",
     "output_type": "stream",
     "text": [
      "\n",
      "100%|█████████▉| 199/200 [00:19<00:00, 10.00it/s]"
     ]
    },
    {
     "name": "stdout",
     "output_type": "stream",
     "text": [
      "2025-02-02 13:28:50 src.probing.utils INFO     cls='musicians' ... loading 200 latents ...\n"
     ]
    },
    {
     "name": "stderr",
     "output_type": "stream",
     "text": [
      "\n",
      "100%|█████████▉| 199/200 [00:16<00:00, 12.40it/s]"
     ]
    },
    {
     "name": "stdout",
     "output_type": "stream",
     "text": [
      "2025-02-02 13:29:06 src.probing.utils INFO     cls='writers' ... loading 200 latents ...\n"
     ]
    },
    {
     "name": "stderr",
     "output_type": "stream",
     "text": [
      "\n",
      "100%|█████████▉| 199/200 [00:19<00:00, 10.33it/s]"
     ]
    },
    {
     "name": "stdout",
     "output_type": "stream",
     "text": [
      "2025-02-02 13:29:26 src.probing.utils INFO     cls='basketball' ... loading 200 latents ...\n"
     ]
    },
    {
     "name": "stderr",
     "output_type": "stream",
     "text": [
      "\n",
      "100%|█████████▉| 199/200 [00:17<00:00, 11.70it/s]"
     ]
    },
    {
     "name": "stdout",
     "output_type": "stream",
     "text": [
      "2025-02-02 13:29:43 src.probing.utils INFO     cls='actors' ... loading 200 latents ...\n"
     ]
    },
    {
     "name": "stderr",
     "output_type": "stream",
     "text": [
      "\n",
      "100%|█████████▉| 199/200 [00:16<00:00, 11.74it/s]"
     ]
    },
    {
     "name": "stdout",
     "output_type": "stream",
     "text": [
      "2025-02-02 13:30:00 src.probing.utils INFO     cls='golf' ... loading 200 latents ...\n"
     ]
    },
    {
     "name": "stderr",
     "output_type": "stream",
     "text": [
      "\n",
      "100%|█████████▉| 199/200 [00:17<00:00, 11.58it/s]"
     ]
    },
    {
     "name": "stdout",
     "output_type": "stream",
     "text": [
      "2025-02-02 13:30:17 src.probing.utils INFO     cls='chef' ... loading 200 latents ...\n"
     ]
    },
    {
     "name": "stderr",
     "output_type": "stream",
     "text": [
      "\n",
      "100%|█████████▉| 199/200 [00:19<00:00, 10.08it/s]"
     ]
    },
    {
     "name": "stdout",
     "output_type": "stream",
     "text": [
      "2025-02-02 13:30:37 src.probing.utils INFO     cls='soccer' ... loading 200 latents ...\n"
     ]
    },
    {
     "name": "stderr",
     "output_type": "stream",
     "text": [
      "\n",
      "100%|█████████▉| 199/200 [00:19<00:00, 10.31it/s]"
     ]
    },
    {
     "name": "stdout",
     "output_type": "stream",
     "text": [
      "2025-02-02 13:30:56 src.probing.utils INFO     cls='cricket' ... loading 200 latents ...\n"
     ]
    },
    {
     "name": "stderr",
     "output_type": "stream",
     "text": [
      "\n",
      "100%|█████████▉| 199/200 [00:19<00:00, 10.28it/s]\n"
     ]
    },
    {
     "name": "stdout",
     "output_type": "stream",
     "text": [
      "2025-02-02 13:31:15 src.probing.utils INFO     cls='tennis' ... loading 200 latents ...\n"
     ]
    },
    {
     "name": "stderr",
     "output_type": "stream",
     "text": [
      "100%|█████████▉| 199/200 [00:20<00:00,  9.94it/s]"
     ]
    },
    {
     "name": "stdout",
     "output_type": "stream",
     "text": [
      "2025-02-02 13:31:35 src.probing.utils INFO     cls='baseball' ... loading 200 latents ...\n"
     ]
    },
    {
     "name": "stderr",
     "output_type": "stream",
     "text": [
      "\n",
      "100%|█████████▉| 199/200 [00:16<00:00, 11.93it/s]\n"
     ]
    }
   ],
   "source": [
    "from src.probing.utils import load_probing_activations\n",
    "\n",
    "cls_activations = load_probing_activations(\n",
    "    latent_root=LATENT_ROOT,\n",
    "    token_query_pos=TOKEN_IDX,\n",
    "    layers=[LAYER_NAME],\n",
    "    limit=200,\n",
    ")"
   ]
  },
  {
   "cell_type": "code",
   "execution_count": 7,
   "metadata": {},
   "outputs": [
    {
     "data": {
      "text/plain": [
       "torch.Size([3072])"
      ]
     },
     "execution_count": 7,
     "metadata": {},
     "output_type": "execute_result"
    }
   ],
   "source": [
    "cls_activations[\"actors\"][5][LAYER_NAME].shape"
   ]
  },
  {
   "cell_type": "code",
   "execution_count": null,
   "metadata": {},
   "outputs": [
    {
     "name": "stdout",
     "output_type": "stream",
     "text": [
      "2025-02-02 13:08:48 __main__ INFO     len(train_data)=1680, len(validation_data)=720\n"
     ]
    }
   ],
   "source": [
    "import random\n",
    "\n",
    "data = []\n",
    "for cls, activations in cls_activations.items():\n",
    "    for act in activations:\n",
    "        latent = act[LAYER_NAME]\n",
    "        data.append((latent, cls))\n",
    "\n",
    "\n",
    "random.shuffle(data)\n",
    "\n",
    "validation_split = 0.3\n",
    "cut_idx = int(len(data) * (1 - validation_split))\n",
    "train_data = data[:cut_idx]\n",
    "validation_data = data[cut_idx:]\n",
    "\n",
    "\n",
    "\n",
    "train_X, train_y = zip(*train_data)\n",
    "validation_X, validation_y = zip(*validation_data)"
   ]
  },
  {
   "cell_type": "code",
   "execution_count": 9,
   "metadata": {},
   "outputs": [
    {
     "data": {
      "text/plain": [
       "torch.Size([1680, 3072])"
      ]
     },
     "execution_count": 9,
     "metadata": {},
     "output_type": "execute_result"
    }
   ],
   "source": [
    "torch.stack(train_X).shape"
   ]
  },
  {
   "cell_type": "code",
   "execution_count": 14,
   "metadata": {},
   "outputs": [
    {
     "name": "stdout",
     "output_type": "stream",
     "text": [
      "{'scientists': 0, 'musicians': 1, 'golf': 2, 'cricket': 3, 'basketball': 4, 'actors': 5, 'tennis': 6, 'soccer': 7, 'chef': 8, 'writers': 9, 'baseball': 10, 'politicians': 11}\n",
      "2025-02-02 13:10:01 src.probing.analysis DEBUG    Epoch 50/1000, Loss: 2.482667922973633, Validation Accuracy: 0.1111\n",
      "2025-02-02 13:10:02 src.probing.analysis DEBUG    Epoch 100/1000, Loss: 2.4810354709625244, Validation Accuracy: 0.1097\n",
      "2025-02-02 13:10:02 src.probing.analysis DEBUG    Epoch 150/1000, Loss: 2.4794983863830566, Validation Accuracy: 0.1000\n",
      "2025-02-02 13:10:02 src.probing.analysis DEBUG    Epoch 200/1000, Loss: 2.4779820442199707, Validation Accuracy: 0.0958\n",
      "2025-02-02 13:10:02 src.probing.analysis DEBUG    Epoch 250/1000, Loss: 2.4764671325683594, Validation Accuracy: 0.0958\n",
      "2025-02-02 13:10:03 src.probing.analysis DEBUG    Epoch 300/1000, Loss: 2.474945545196533, Validation Accuracy: 0.0958\n",
      "2025-02-02 13:10:03 src.probing.analysis DEBUG    Epoch 350/1000, Loss: 2.4734079837799072, Validation Accuracy: 0.0972\n",
      "2025-02-02 13:10:03 src.probing.analysis DEBUG    Epoch 400/1000, Loss: 2.4718027114868164, Validation Accuracy: 0.1056\n",
      "2025-02-02 13:10:04 src.probing.analysis DEBUG    Epoch 450/1000, Loss: 2.4700024127960205, Validation Accuracy: 0.1486\n",
      "2025-02-02 13:10:04 src.probing.analysis DEBUG    Epoch 500/1000, Loss: 2.4679925441741943, Validation Accuracy: 0.2264\n",
      "2025-02-02 13:10:04 src.probing.analysis DEBUG    Epoch 550/1000, Loss: 2.465843915939331, Validation Accuracy: 0.2306\n",
      "2025-02-02 13:10:04 src.probing.analysis DEBUG    Epoch 600/1000, Loss: 2.4636189937591553, Validation Accuracy: 0.2167\n",
      "2025-02-02 13:10:05 src.probing.analysis DEBUG    Epoch 650/1000, Loss: 2.4613606929779053, Validation Accuracy: 0.2139\n",
      "2025-02-02 13:10:05 src.probing.analysis DEBUG    Epoch 700/1000, Loss: 2.459094524383545, Validation Accuracy: 0.2194\n",
      "2025-02-02 13:10:05 src.probing.analysis DEBUG    Epoch 750/1000, Loss: 2.4568371772766113, Validation Accuracy: 0.2167\n",
      "2025-02-02 13:10:06 src.probing.analysis DEBUG    Epoch 800/1000, Loss: 2.4545960426330566, Validation Accuracy: 0.2222\n",
      "2025-02-02 13:10:06 src.probing.analysis DEBUG    Epoch 850/1000, Loss: 2.452375888824463, Validation Accuracy: 0.2236\n",
      "2025-02-02 13:10:06 src.probing.analysis DEBUG    Epoch 900/1000, Loss: 2.4501774311065674, Validation Accuracy: 0.2236\n",
      "2025-02-02 13:10:06 src.probing.analysis DEBUG    Epoch 950/1000, Loss: 2.4480020999908447, Validation Accuracy: 0.2250\n",
      "2025-02-02 13:10:07 src.probing.analysis DEBUG    Epoch 1000/1000, Loss: 2.4458489418029785, Validation Accuracy: 0.2278\n",
      "2025-02-02 13:10:07 src.probing.analysis INFO     LinearProbe validation accuracy: 0.2278\n"
     ]
    }
   ],
   "source": [
    "from src.probing.analysis import LinearProbe\n",
    "\n",
    "probe = LinearProbe.from_data(\n",
    "    acts = torch.stack(train_X),\n",
    "    labels = train_y,\n",
    "\n",
    "    validation_set = (validation_X, validation_y),\n",
    "    batch_size=1000,\n",
    ")"
   ]
  },
  {
   "cell_type": "code",
   "execution_count": 15,
   "metadata": {},
   "outputs": [
    {
     "data": {
      "text/plain": [
       "0.22777777777777777"
      ]
     },
     "execution_count": 15,
     "metadata": {},
     "output_type": "execute_result"
    }
   ],
   "source": [
    "val_acc, conf_matrix = probe.validate(torch.stack(validation_X), validation_y, batch_size=1000, return_confusion_matrix=True)\n",
    "val_acc"
   ]
  },
  {
   "cell_type": "code",
   "execution_count": 16,
   "metadata": {},
   "outputs": [
    {
     "name": "stdout",
     "output_type": "stream",
     "text": [
      "2025-02-02 13:10:10 matplotlib.colorbar DEBUG    locator: <matplotlib.ticker.AutoLocator object at 0x7f54d85f3290>\n"
     ]
    },
    {
     "data": {
      "image/png": "[encoded data removed]",
      "text/plain": [
       "<Figure size 640x480 with 2 Axes>"
      ]
     },
     "metadata": {},
     "output_type": "display_data"
    }
   ],
   "source": [
    "from src.plotting import matrix_heatmap\n",
    "\n",
    "matrix_heatmap(\n",
    "    matrix=conf_matrix,\n",
    "    limit_dim = conf_matrix.shape[0],\n",
    "    title=\"Confusion Matrix\",\n",
    "    tick_labels=list(probe.class_map.keys()),\n",
    ")"
   ]
  },
  {
   "cell_type": "code",
   "execution_count": 28,
   "metadata": {},
   "outputs": [],
   "source": [
    "from src.functional import detensorize\n",
    "\n",
    "linear_probe_save_dir = os.path.join(\n",
    "    env_utils.DEFAULT_RESULTS_DIR, \n",
    "    \"linear_probes\", MODEL_NAME, LAYER_NAME, str(TOKEN_IDX)\n",
    ")\n",
    "os.makedirs(linear_probe_save_dir, exist_ok=True)\n",
    "\n",
    "probe.save(os.path.join(linear_probe_save_dir, f\"probe.pt\"))\n",
    "\n",
    "info = dict(\n",
    "    model = MODEL_NAME,\n",
    "    layer = LAYER_NAME,\n",
    "    token_idx = TOKEN_IDX,\n",
    "    val_acc = val_acc,\n",
    "    conf_matrix = conf_matrix,\n",
    ")\n",
    "\n",
    "info = detensorize(info)\n",
    "\n",
    "with open(os.path.join(linear_probe_save_dir, \"info.json\"), \"w\") as f:\n",
    "    json.dump(info, f)"
   ]
  },
  {
   "cell_type": "code",
   "execution_count": 29,
   "metadata": {},
   "outputs": [
    {
     "name": "stderr",
     "output_type": "stream",
     "text": [
      "/disk/u/arnab/Codes/Projects/retrieval/notebooks/../src/probing/analysis.py:126: FutureWarning: You are using `torch.load` with `weights_only=False` (the current default value), which uses the default pickle module implicitly. It is possible to construct malicious pickle data which will execute arbitrary code during unpickling (See https://github.com/pytorch/pytorch/blob/main/SECURITY.md#untrusted-models for more details). In a future release, the default value for `weights_only` will be flipped to `True`. This limits the functions that could be executed during unpickling. Arbitrary objects will no longer be allowed to be loaded via this mode unless they are explicitly allowlisted by the user via `torch.serialization.add_safe_globals`. We recommend you start setting `weights_only=True` for any use case where you don't have full control of the loaded file. Please open an issue on GitHub for any issues related to this experimental feature.\n",
      "  pt = torch.load(path)\n"
     ]
    }
   ],
   "source": [
    "test_probe = LinearProbe.from_pretained(\n",
    "    path=os.path.join(linear_probe_save_dir, f\"probe.pt\"),\n",
    ")"
   ]
  },
  {
   "cell_type": "code",
   "execution_count": 30,
   "metadata": {},
   "outputs": [
    {
     "data": {
      "text/plain": [
       "0.22777777777777777"
      ]
     },
     "execution_count": 30,
     "metadata": {},
     "output_type": "execute_result"
    }
   ],
   "source": [
    "test_probe.validate(torch.stack(validation_X), validation_y, batch_size=1000)"
   ]
  },
  {
   "cell_type": "code",
   "execution_count": null,
   "metadata": {},
   "outputs": [],
   "source": []
  }
 ],
 "metadata": {
  "kernelspec": {
   "display_name": "Python 3",
   "language": "python",
   "name": "python3"
  },
  "language_info": {
   "codemirror_mode": {
    "name": "ipython",
    "version": 3
   },
   "file_extension": ".py",
   "mimetype": "text/x-python",
   "name": "python",
   "nbconvert_exporter": "python",
   "pygments_lexer": "ipython3",
   "version": "3.11.9"
  }
 },
 "nbformat": 4,
 "nbformat_minor": 2
}
