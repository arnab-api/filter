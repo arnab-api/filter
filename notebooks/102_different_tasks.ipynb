{
 "cells": [
  {
   "cell_type": "code",
   "execution_count": 1,
   "id": "bc88b481",
   "metadata": {},
   "outputs": [],
   "source": [
    "%load_ext autoreload\n",
    "%autoreload 2"
   ]
  },
  {
   "cell_type": "code",
   "execution_count": 2,
   "id": "fa440433",
   "metadata": {},
   "outputs": [
    {
     "name": "stderr",
     "output_type": "stream",
     "text": [
      "/share/u/arnab/miniconda3/envs/connection/lib/python3.11/site-packages/tqdm/auto.py:21: TqdmWarning: IProgress not found. Please update jupyter and ipywidgets. See https://ipywidgets.readthedocs.io/en/stable/user_install.html\n",
      "  from .autonotebook import tqdm as notebook_tqdm\n"
     ]
    },
    {
     "name": "stdout",
     "output_type": "stream",
     "text": [
      "2025-09-10 13:51:15 __main__ INFO     torch.__version__='2.8.0+cu126', torch.version.cuda='12.6'\n",
      "2025-09-10 13:51:15 __main__ INFO     torch.cuda.is_available()=True, torch.cuda.device_count()=1, torch.cuda.get_device_name()='NVIDIA RTX A6000'\n",
      "2025-09-10 13:51:15 __main__ INFO     transformers.__version__='4.56.1'\n"
     ]
    }
   ],
   "source": [
    "import os\n",
    "import json\n",
    "\n",
    "import sys\n",
    "\n",
    "sys.path.append(\"../\")\n",
    "\n",
    "##################################################################\n",
    "os.environ[\"TOKENIZERS_PARALLELISM\"] = \"false\"\n",
    "# os.environ[\"CUDA_VISIBLE_DEVICES\"] = \"0,1,2,3,4,5,6,7\"\n",
    "##################################################################\n",
    "\n",
    "import logging\n",
    "from src.utils import logging_utils\n",
    "from src.utils import env_utils\n",
    "\n",
    "logger = logging.getLogger(__name__)\n",
    "\n",
    "logging.basicConfig(\n",
    "    level=logging.DEBUG,\n",
    "    format=logging_utils.DEFAULT_FORMAT,\n",
    "    datefmt=logging_utils.DEFAULT_DATEFMT,\n",
    "    stream=sys.stdout,\n",
    ")\n",
    "\n",
    "import torch\n",
    "import transformers\n",
    "\n",
    "logger.info(f\"{torch.__version__=}, {torch.version.cuda=}\")\n",
    "logger.info(\n",
    "    f\"{torch.cuda.is_available()=}, {torch.cuda.device_count()=}, {torch.cuda.get_device_name()=}\"\n",
    ")\n",
    "logger.info(f\"{transformers.__version__=}\")"
   ]
  },
  {
   "cell_type": "code",
   "execution_count": 3,
   "id": "3b8766a9",
   "metadata": {},
   "outputs": [
    {
     "name": "stdout",
     "output_type": "stream",
     "text": [
      "2025-09-10 13:51:18 git.cmd DEBUG    Popen(['git', 'version'], cwd=/share/u/arnab/Codes/Projects/retrieval/notebooks, stdin=None, shell=False, universal_newlines=False)\n",
      "2025-09-10 13:51:18 git.cmd DEBUG    Popen(['git', 'version'], cwd=/share/u/arnab/Codes/Projects/retrieval/notebooks, stdin=None, shell=False, universal_newlines=False)\n",
      "2025-09-10 13:51:18 wandb.docker.auth DEBUG    Trying paths: ['/share/u/arnab/.docker/config.json', '/share/u/arnab/.dockercfg']\n",
      "2025-09-10 13:51:18 wandb.docker.auth DEBUG    No config file found\n"
     ]
    }
   ],
   "source": [
    "from src.utils.training_utils import get_device_map\n",
    "\n",
    "# model_key = \"meta-llama/Llama-3.2-3B\"\n",
    "# model_key = \"meta-llama/Llama-3.1-8B\"\n",
    "# model_key = \"meta-llama/Llama-3.1-70B-Instruct\"\n",
    "# model_key = \"meta-llama/Llama-3.3-70B-Instruct\"\n",
    "# model_key = \"meta-llama/Llama-3.1-405B-Instruct\"\n",
    "\n",
    "# model_key = \"google/gemma-2-9b-it\"\n",
    "# model_key = \"google/gemma-3-12b-it\"\n",
    "model_key = \"google/gemma-2-27b-it\"\n",
    "\n",
    "# model_key = \"deepseek-ai/DeepSeek-R1-Distill-Llama-8B\"\n",
    "\n",
    "# model_key = \"allenai/OLMo-2-1124-7B-Instruct\"\n",
    "# model_key = \"allenai/OLMo-7B-0424-hf\"\n",
    "\n",
    "# model_key = \"Qwen/Qwen2-7B\"\n",
    "# model_key = \"Qwen/Qwen2.5-14B-Instruct\"\n",
    "# model_key = \"Qwen/Qwen2.5-32B-Instruct\"\n",
    "# model_key = \"Qwen/Qwen2.5-72B-Instruct\"\n",
    "\n",
    "# model_key = \"Qwen/Qwen3-1.7B\"\n",
    "# model_key = \"Qwen/Qwen3-4B\"\n",
    "# model_key = \"Qwen/Qwen3-8B\"\n",
    "# model_key = \"Qwen/Qwen3-14B\"\n",
    "# model_key = \"Qwen/Qwen3-32B\"\n",
    "\n",
    "# device_map = get_device_map(model_key, 30, n_gpus=8)\n",
    "# device_map"
   ]
  },
  {
   "cell_type": "code",
   "execution_count": 4,
   "id": "310827ce",
   "metadata": {},
   "outputs": [
    {
     "name": "stdout",
     "output_type": "stream",
     "text": [
      "2025-09-10 13:51:19 src.models WARNING  google/gemma-2-27b-it not found in /share/u/models\n",
      "If not found in cache, model will be downloaded from HuggingFace to cache directory\n",
      "2025-09-10 13:51:19 urllib3.connectionpool DEBUG    Starting new HTTPS connection (1): huggingface.co:443\n",
      "2025-09-10 13:51:19 urllib3.connectionpool DEBUG    https://huggingface.co:443 \"HEAD /google/gemma-2-27b-it/resolve/main/config.json HTTP/1.1\" 200 0\n"
     ]
    },
    {
     "name": "stderr",
     "output_type": "stream",
     "text": [
      "`torch_dtype` is deprecated! Use `dtype` instead!\n"
     ]
    },
    {
     "name": "stdout",
     "output_type": "stream",
     "text": [
      "2025-09-10 13:51:20 urllib3.connectionpool DEBUG    https://huggingface.co:443 \"HEAD /google/gemma-2-27b-it/resolve/main/tokenizer_config.json HTTP/1.1\" 200 0\n",
      "2025-09-10 13:51:20 urllib3.connectionpool DEBUG    https://huggingface.co:443 \"GET /api/models/google/gemma-2-27b-it/tree/main/additional_chat_templates?recursive=False&expand=False HTTP/1.1\" 404 64\n"
     ]
    },
    {
     "name": "stderr",
     "output_type": "stream",
     "text": [
      "`torch_dtype` is deprecated! Use `dtype` instead!\n"
     ]
    },
    {
     "name": "stdout",
     "output_type": "stream",
     "text": [
      "2025-09-10 13:51:20 accelerate.utils.modeling INFO     We will use 90% of the memory on device 0 for storing the model, and 10% for the buffer to avoid OOM. You can set `max_memory` in to a higher value to use more memory (at your own risk).\n"
     ]
    },
    {
     "name": "stderr",
     "output_type": "stream",
     "text": [
      "Loading checkpoint shards: 100%|██████████| 12/12 [00:06<00:00,  1.91it/s]"
     ]
    },
    {
     "name": "stdout",
     "output_type": "stream",
     "text": [
      "2025-09-10 13:51:27 urllib3.connectionpool DEBUG    https://huggingface.co:443 \"HEAD /google/gemma-2-27b-it/resolve/main/generation_config.json HTTP/1.1\" 200 0\n",
      "2025-09-10 13:51:27 urllib3.connectionpool DEBUG    https://huggingface.co:443 \"HEAD /google/gemma-2-27b-it/resolve/main/custom_generate/generate.py HTTP/1.1\" 404 0\n"
     ]
    },
    {
     "name": "stderr",
     "output_type": "stream",
     "text": [
      "\n"
     ]
    },
    {
     "name": "stdout",
     "output_type": "stream",
     "text": [
      "2025-09-10 13:51:27 accelerate.big_modeling WARNING  Some parameters are on the meta device because they were offloaded to the cpu.\n",
      "2025-09-10 13:51:27 src.models INFO     loaded model <google/gemma-2-27b-it> | size: 51931.626 MB | dtype: torch.bfloat16 | device: cuda:0\n"
     ]
    }
   ],
   "source": [
    "from src.models import ModelandTokenizer\n",
    "\n",
    "# from transformers import BitsAndBytesConfig\n",
    "\n",
    "mt = ModelandTokenizer(\n",
    "    model_key=model_key,\n",
    "    torch_dtype=torch.bfloat16,\n",
    "    # device_map=device_map,\n",
    "    device_map=\"auto\",\n",
    "    # quantization_config = BitsAndBytesConfig(\n",
    "    #     # load_in_4bit=True\n",
    "    #     load_in_8bit=True\n",
    "    # )\n",
    "    attn_implementation=\"eager\",\n",
    ")"
   ]
  },
  {
   "cell_type": "code",
   "execution_count": 197,
   "id": "c17359f7",
   "metadata": {},
   "outputs": [
    {
     "name": "stdout",
     "output_type": "stream",
     "text": [
      "SelectOneTask: (different objects)\n",
      "Categories: fruit(15), vehicle(15), furniture(15), animal(15), music instrument(15), clothing(15), electronics(15), sport equipment(15), kitchen appliance(15), vegetable(14), building(15), office supply(15), bathroom item(15), flower(15), tree(15), jewelry(15)\n",
      "\n"
     ]
    }
   ],
   "source": [
    "from src.selection.data import SelectOneTask, CountingTask, YesNoTask, SelectFirstTask\n",
    "from src.selection.data import SelectionSample, CountingSample, YesNoSample\n",
    "\n",
    "#################################################################################\n",
    "TASK_CLS = SelectOneTask\n",
    "# TASK_CLS = CountingTask\n",
    "# TASK_CLS = YesNoTask\n",
    "# TASK_CLS = SelectFirstTask\n",
    "prompt_template_idx = 0\n",
    "N_DISTRACTORS = 5\n",
    "OPTION_STYLE = \"single_line\"\n",
    "#################################################################################\n",
    "\n",
    "select_task = TASK_CLS.load(\n",
    "    path=os.path.join(\n",
    "        env_utils.DEFAULT_DATA_DIR,\n",
    "        \"selection\",\n",
    "        # \"profession.json\"\n",
    "        # \"nationality.json\"\n",
    "        \"objects.json\",\n",
    "    )\n",
    ")\n",
    "\n",
    "print(select_task)"
   ]
  },
  {
   "cell_type": "code",
   "execution_count": 198,
   "id": "9f921352",
   "metadata": {},
   "outputs": [
    {
     "name": "stdout",
     "output_type": "stream",
     "text": [
      "\"Options: Apartment, Mixer, Watermelon, Motorcycle.\n",
      "Which among these objects mentioned above is a fruit?\n",
      "Answer:\" >>  Watermelon\n",
      "Generation:\" Watermelon.\n",
      "\"\n"
     ]
    }
   ],
   "source": [
    "from src.functional import predict_next_token, generate_with_patch\n",
    "\n",
    "sample = select_task.get_random_sample(\n",
    "    mt=mt, \n",
    "    category=\"fruit\",\n",
    "    filter_by_lm_prediction=True,\n",
    "    prompt_template_idx=3,\n",
    "    # n_options=5,\n",
    "    n_distractors=3,\n",
    ")\n",
    "print(f'\"{sample.prompt()}\" >> {mt.tokenizer.decode(sample.ans_token_id)}')\n",
    "\n",
    "gen = generate_with_patch(\n",
    "    mt=mt, \n",
    "    inputs=sample.prompt(),\n",
    "    n_gen_per_prompt=1,\n",
    "    remove_prefix=True,\n",
    "    max_new_tokens=20,\n",
    "    do_sample=False,\n",
    ")\n",
    "print(f\"Generation:\\\"{gen[0]}\\\"\")"
   ]
  },
  {
   "cell_type": "code",
   "execution_count": 199,
   "id": "764d792e",
   "metadata": {},
   "outputs": [
    {
     "data": {
      "text/plain": [
       "[PredictedToken(token=' Watermelon', prob=0.984375, logit=23.0, token_id=197201, metadata=None),\n",
       " PredictedToken(token=' **', prob=0.015869140625, logit=18.875, token_id=5231, metadata=None),\n",
       " PredictedToken(token=' watermelon', prob=0.000545501708984375, logit=15.5, token_id=87171, metadata=None),\n",
       " PredictedToken(token='  ', prob=0.0002002716064453125, logit=14.5, token_id=139, metadata=None),\n",
       " PredictedToken(token='\\n\\n', prob=0.0002002716064453125, logit=14.5, token_id=109, metadata=None)]"
      ]
     },
     "execution_count": 199,
     "metadata": {},
     "output_type": "execute_result"
    }
   ],
   "source": [
    "sample.prediction"
   ]
  },
  {
   "cell_type": "code",
   "execution_count": 200,
   "id": "00d0e4c9",
   "metadata": {},
   "outputs": [
    {
     "name": "stdout",
     "output_type": "stream",
     "text": [
      "<function get_counterfactual_samples_within_task at 0x7659d8f3afc0>\n",
      "2025-09-10 15:49:29 src.selection.data INFO     clean_obj_idx=1 | ['Air fryer', 'Tractor', 'Grape', 'Iris', 'Shower', 'Gloves']\n",
      "type(task)=<class 'src.selection.data.SelectOneTask'>\n",
      "2025-09-10 15:49:30 src.selection.data INFO     Options: Air fryer, Tractor, Grape, Iris, Shower, Gloves.\n",
      "Which among these objects mentioned above is a fruit?\n",
      "Answer:\n",
      "2025-09-10 15:49:30 src.selection.data INFO     Blueberry | fruit -> Grape | pred=['\" Grape\"[86502] (p=0.863, logit=21.375)', '\" **\"[5231] (p=0.133, logit=19.500)', '\"  \"[139] (p=0.002, logit=15.062)', '\"\\n\\n\"[109] (p=0.001, logit=14.812)', '\"\\n\"[108] (p=0.000, logit=13.438)']\n",
      "2025-09-10 15:49:31 src.selection.data INFO     Options: Air fryer, Tractor, Grape, Iris, Shower, Gloves.\n",
      "Which among these objects mentioned above is a vehicle?\n",
      "Answer:\n",
      "2025-09-10 15:49:31 src.selection.data INFO     Submarine | vehicle -> Tractor | pred=['\" Tractor\"[131409] (p=0.898, logit=21.250)', '\" **\"[5231] (p=0.095, logit=19.000)', '\"\\n\\n\"[109] (p=0.002, logit=15.188)', '\"  \"[139] (p=0.002, logit=14.938)', '\"\\n\"[108] (p=0.001, logit=13.875)']\n",
      "----------------------------------------------------------------------------------------------------\n",
      "Options: Air fryer, Tractor, Grape, Iris, Shower, Gloves.\n",
      "Which among these objects mentioned above is a fruit?\n",
      "Answer: >>  Grape\n",
      "Options: Air fryer, Tractor, Grape, Iris, Shower, Gloves.\n",
      "Which among these objects mentioned above is a vehicle?\n",
      "Answer: >>  Tractor\n"
     ]
    }
   ],
   "source": [
    "from src.selection.data import get_counterfactual_samples_interface\n",
    "\n",
    "counterfactual_sampler = get_counterfactual_samples_interface[select_task.task_name]\n",
    "\n",
    "print(counterfactual_sampler)\n",
    "\n",
    "patch_sample, clean_sample = counterfactual_sampler(\n",
    "    mt=mt,\n",
    "    task=select_task,\n",
    "    patch_category=\"fruit\",\n",
    "    clean_category=\"vehicle\",\n",
    "    filter_by_lm_prediction=True,\n",
    "    prompt_template_idx=3,\n",
    "    option_style=OPTION_STYLE,\n",
    "    # distinct_options=True,\n",
    "    # n_options=6\n",
    ")\n",
    "\n",
    "# patch_sample.default_option_style = \"single_line\"\n",
    "# clean_sample.default_option_style = \"numbered\"\n",
    "\n",
    "print(\"-\" * 100)\n",
    "print(patch_sample.prompt(), \">>\", mt.tokenizer.decode(patch_sample.ans_token_id))\n",
    "print(clean_sample.prompt(), \">>\", mt.tokenizer.decode(clean_sample.ans_token_id))"
   ]
  },
  {
   "cell_type": "code",
   "execution_count": 201,
   "id": "31a8c3bb",
   "metadata": {},
   "outputs": [
    {
     "data": {
      "text/plain": [
       "(' Grape', ' Tractor')"
      ]
     },
     "execution_count": 201,
     "metadata": {},
     "output_type": "execute_result"
    }
   ],
   "source": [
    "(\n",
    "    mt.tokenizer.decode(clean_sample.metadata[\"track_type_obj_token_id\"]),\n",
    "    mt.tokenizer.decode(clean_sample.ans_token_id),\n",
    ")"
   ]
  },
  {
   "cell_type": "code",
   "execution_count": 202,
   "id": "568ebee2",
   "metadata": {},
   "outputs": [
    {
     "data": {
      "text/plain": [
       "([PredictedToken(token=' Grape', prob=0.86328125, logit=21.375, token_id=86502, metadata=None),\n",
       "  PredictedToken(token=' **', prob=0.1328125, logit=19.5, token_id=5231, metadata=None),\n",
       "  PredictedToken(token='  ', prob=0.00156402587890625, logit=15.0625, token_id=139, metadata=None),\n",
       "  PredictedToken(token='\\n\\n', prob=0.001220703125, logit=14.8125, token_id=109, metadata=None),\n",
       "  PredictedToken(token='\\n', prob=0.000308990478515625, logit=13.4375, token_id=108, metadata=None)],\n",
       " [PredictedToken(token=' Tractor', prob=0.8984375, logit=21.25, token_id=131409, metadata=None),\n",
       "  PredictedToken(token=' **', prob=0.0947265625, logit=19.0, token_id=5231, metadata=None),\n",
       "  PredictedToken(token='\\n\\n', prob=0.0020904541015625, logit=15.1875, token_id=109, metadata=None),\n",
       "  PredictedToken(token='  ', prob=0.0016326904296875, logit=14.9375, token_id=139, metadata=None),\n",
       "  PredictedToken(token='\\n', prob=0.0005645751953125, logit=13.875, token_id=108, metadata=None)])"
      ]
     },
     "execution_count": 202,
     "metadata": {},
     "output_type": "execute_result"
    }
   ],
   "source": [
    "patch_sample.prediction, clean_sample.prediction"
   ]
  },
  {
   "cell_type": "code",
   "execution_count": 203,
   "id": "c85b70a3",
   "metadata": {},
   "outputs": [],
   "source": [
    "from dataclasses import dataclass\n",
    "from dataclasses_json import DataClassJsonMixin\n",
    "from typing import Union\n",
    "\n",
    "@dataclass\n",
    "class CounterFactualSamplePair(DataClassJsonMixin):\n",
    "    patch_sample: Union[SelectionSample, CountingSample, YesNoSample]\n",
    "    clean_sample: Union[SelectionSample, CountingSample, YesNoSample]\n",
    "\n",
    "    @staticmethod\n",
    "    def sample_type_to_class():\n",
    "        return {\n",
    "            \"selection\": SelectionSample,\n",
    "            \"counting\": CountingSample,\n",
    "            \"yes_no\": YesNoSample,\n",
    "        }\n",
    "\n",
    "    def detensorize(self):\n",
    "        for sample in [self.patch_sample, self.clean_sample]:\n",
    "            class_name = type(sample).__name__\n",
    "            type_to_name = {\n",
    "                \"SelectionSample\": \"selection\",\n",
    "                \"CountingSample\": \"counting\",\n",
    "                \"YesNoSample\": \"yes_no\",\n",
    "            }\n",
    "            sample.metadata[\"sample_type\"] = type_to_name[class_name]\n",
    "        self.patch_sample.detensorize()\n",
    "        self.clean_sample.detensorize()\n",
    "\n",
    "    @staticmethod\n",
    "    def from_dict(d):\n",
    "        sample_type = d[\"patch_sample\"][\"metadata\"].pop(\"sample_type\")\n",
    "        sample_cls = CounterFactualSamplePair.sample_type_to_class()[sample_type]\n",
    "        patch_sample = sample_cls.from_dict(d[\"patch_sample\"])\n",
    "        sample_type = d[\"clean_sample\"][\"metadata\"].pop(\"sample_type\")\n",
    "        sample_cls = CounterFactualSamplePair.sample_type_to_class()[sample_type]\n",
    "        clean_sample = sample_cls.from_dict(d[\"clean_sample\"])\n",
    "        return CounterFactualSamplePair(\n",
    "            patch_sample=patch_sample,\n",
    "            clean_sample=clean_sample,\n",
    "        )\n",
    "\n",
    "\n",
    "cf_pair = CounterFactualSamplePair(\n",
    "    patch_sample=patch_sample,\n",
    "    clean_sample=clean_sample,\n",
    ")\n",
    "cf_pair.detensorize()\n",
    "with open(\"cf_pair_debug.json\", \"w\") as f:\n",
    "    json.dump(cf_pair.to_dict(), f, indent=2)"
   ]
  },
  {
   "cell_type": "code",
   "execution_count": 204,
   "id": "735339e9",
   "metadata": {},
   "outputs": [],
   "source": [
    "with open(\"cf_pair_debug.json\", \"r\") as f:\n",
    "    cf_pair_data = json.load(f)"
   ]
  },
  {
   "cell_type": "code",
   "execution_count": 205,
   "id": "e2ff5536",
   "metadata": {},
   "outputs": [
    {
     "data": {
      "text/plain": [
       "{'obj': 'Grape',\n",
       " 'obj_idx': 2,\n",
       " 'prompt_template': '<_options_>\\nWhich among these objects mentioned above is a <_category_>?\\nAnswer:',\n",
       " 'options': ['Air fryer', 'Tractor', 'Grape', 'Iris', 'Shower', 'Gloves'],\n",
       " 'answer': 'Grape',\n",
       " 'subj': 'Blueberry',\n",
       " 'category': 'fruit',\n",
       " 'prediction': [{'token': ' Grape',\n",
       "   'prob': 0.86328125,\n",
       "   'logit': 21.375,\n",
       "   'token_id': 86502,\n",
       "   'metadata': None},\n",
       "  {'token': ' **',\n",
       "   'prob': 0.1328125,\n",
       "   'logit': 19.5,\n",
       "   'token_id': 5231,\n",
       "   'metadata': None},\n",
       "  {'token': '  ',\n",
       "   'prob': 0.00156402587890625,\n",
       "   'logit': 15.0625,\n",
       "   'token_id': 139,\n",
       "   'metadata': None},\n",
       "  {'token': '\\n\\n',\n",
       "   'prob': 0.001220703125,\n",
       "   'logit': 14.8125,\n",
       "   'token_id': 109,\n",
       "   'metadata': None},\n",
       "  {'token': '\\n',\n",
       "   'prob': 0.000308990478515625,\n",
       "   'logit': 13.4375,\n",
       "   'token_id': 108,\n",
       "   'metadata': None}],\n",
       " 'ans_token_id': 86502,\n",
       " 'metadata': {'track_category': 'vehicle',\n",
       "  'track_type_obj': 'Tractor',\n",
       "  'track_type_obj_idx': 1,\n",
       "  'track_type_obj_token_id': 131409,\n",
       "  'ques_pos': 26,\n",
       "  'tokenized': {'input_ids': [[2,\n",
       "     6928,\n",
       "     235292,\n",
       "     4252,\n",
       "     110191,\n",
       "     235269,\n",
       "     131409,\n",
       "     235269,\n",
       "     86502,\n",
       "     235269,\n",
       "     55312,\n",
       "     235269,\n",
       "     72364,\n",
       "     235269,\n",
       "     93227,\n",
       "     235265,\n",
       "     108,\n",
       "     13033,\n",
       "     3932,\n",
       "     1450,\n",
       "     9113,\n",
       "     8248,\n",
       "     3131,\n",
       "     603,\n",
       "     476,\n",
       "     9471,\n",
       "     235336,\n",
       "     108,\n",
       "     1261,\n",
       "     235292]],\n",
       "   'attention_mask': [[1,\n",
       "     1,\n",
       "     1,\n",
       "     1,\n",
       "     1,\n",
       "     1,\n",
       "     1,\n",
       "     1,\n",
       "     1,\n",
       "     1,\n",
       "     1,\n",
       "     1,\n",
       "     1,\n",
       "     1,\n",
       "     1,\n",
       "     1,\n",
       "     1,\n",
       "     1,\n",
       "     1,\n",
       "     1,\n",
       "     1,\n",
       "     1,\n",
       "     1,\n",
       "     1,\n",
       "     1,\n",
       "     1,\n",
       "     1,\n",
       "     1,\n",
       "     1,\n",
       "     1]]},\n",
       "  'sample_type': 'selection'},\n",
       " 'default_option_style': 'single_line'}"
      ]
     },
     "execution_count": 205,
     "metadata": {},
     "output_type": "execute_result"
    }
   ],
   "source": [
    "cf_pair_data[\"patch_sample\"]"
   ]
  },
  {
   "cell_type": "code",
   "execution_count": 206,
   "id": "cdda579f",
   "metadata": {},
   "outputs": [],
   "source": [
    "# CountingSample.from_dict(cf_pair_data[\"patch_sample\"])\n",
    "cf_pair_loaded = CounterFactualSamplePair.from_dict(cf_pair_data)"
   ]
  },
  {
   "cell_type": "code",
   "execution_count": 207,
   "id": "49057d0c",
   "metadata": {},
   "outputs": [
    {
     "data": {
      "text/plain": [
       "SelectionSample(obj='Grape', obj_idx=2, prompt_template='<_options_>\\nWhich among these objects mentioned above is a <_category_>?\\nAnswer:', options=['Air fryer', 'Tractor', 'Grape', 'Iris', 'Shower', 'Gloves'], answer='Grape', subj='Blueberry', category='fruit', prediction=[PredictedToken(token=' Grape', prob=0.86328125, logit=21.375, token_id=86502, metadata=None), PredictedToken(token=' **', prob=0.1328125, logit=19.5, token_id=5231, metadata=None), PredictedToken(token='  ', prob=0.00156402587890625, logit=15.0625, token_id=139, metadata=None), PredictedToken(token='\\n\\n', prob=0.001220703125, logit=14.8125, token_id=109, metadata=None), PredictedToken(token='\\n', prob=0.000308990478515625, logit=13.4375, token_id=108, metadata=None)], ans_token_id=86502, metadata={'track_category': 'vehicle', 'track_type_obj': 'Tractor', 'track_type_obj_idx': 1, 'track_type_obj_token_id': 131409, 'ques_pos': 26, 'tokenized': {'input_ids': [[2, 6928, 235292, 4252, 110191, 235269, 131409, 235269, 86502, 235269, 55312, 235269, 72364, 235269, 93227, 235265, 108, 13033, 3932, 1450, 9113, 8248, 3131, 603, 476, 9471, 235336, 108, 1261, 235292]], 'attention_mask': [[1, 1, 1, 1, 1, 1, 1, 1, 1, 1, 1, 1, 1, 1, 1, 1, 1, 1, 1, 1, 1, 1, 1, 1, 1, 1, 1, 1, 1, 1]]}}, default_option_style='single_line')"
      ]
     },
     "execution_count": 207,
     "metadata": {},
     "output_type": "execute_result"
    }
   ],
   "source": [
    "cf_pair_loaded.patch_sample"
   ]
  },
  {
   "cell_type": "code",
   "execution_count": 208,
   "id": "38955bcf",
   "metadata": {},
   "outputs": [
    {
     "name": "stdout",
     "output_type": "stream",
     "text": [
      "Options: Air fryer, Tractor, Grape, Iris, Shower, Gloves.\n",
      "Which among these objects mentioned above is a fruit?\n",
      "Answer: >>  Grape\n"
     ]
    },
    {
     "data": {
      "text/plain": [
       "[PredictedToken(token=' Grape', prob=0.86328125, logit=21.375, token_id=86502, metadata=None),\n",
       " PredictedToken(token=' **', prob=0.1328125, logit=19.5, token_id=5231, metadata=None),\n",
       " PredictedToken(token='  ', prob=0.00156402587890625, logit=15.0625, token_id=139, metadata=None),\n",
       " PredictedToken(token='\\n\\n', prob=0.001220703125, logit=14.8125, token_id=109, metadata=None),\n",
       " PredictedToken(token='\\n', prob=0.000308990478515625, logit=13.4375, token_id=108, metadata=None)]"
      ]
     },
     "execution_count": 208,
     "metadata": {},
     "output_type": "execute_result"
    }
   ],
   "source": [
    "print(cf_pair_loaded.patch_sample.prompt(), \">>\", mt.tokenizer.decode(cf_pair_loaded.patch_sample.ans_token_id))\n",
    "cf_pair_loaded.patch_sample.prediction"
   ]
  },
  {
   "cell_type": "code",
   "execution_count": null,
   "id": "75c1e423",
   "metadata": {},
   "outputs": [],
   "source": [
    "sample_save_path = os.path.join(\n",
    "    env_utils.DEFAULT_RESULTS_DIR,\n",
    "    \"selection\",\n",
    "    \"samples\",\n",
    "    \"training\",\n",
    "    mt.name.split(\"/\")[-1],\n",
    "    select_task.task_name,\n",
    "    \"objects\"\n",
    ")\n",
    "\n",
    "os.makedirs(sample_save_path, exist_ok=True)"
   ]
  },
  {
   "cell_type": "code",
   "execution_count": 219,
   "id": "33958ba4",
   "metadata": {},
   "outputs": [
    {
     "name": "stdout",
     "output_type": "stream",
     "text": [
      "sample 1 / 8\n",
      "2025-09-10 15:55:30 src.selection.data INFO     clean_obj_idx=1 | ['Blender', 'Apartment', 'Hickory', 'Asparagus', 'Yacht', 'Scissors']\n",
      "type(task)=<class 'src.selection.data.SelectOneTask'>\n",
      "2025-09-10 15:55:31 src.selection.data INFO     Which object from the following list shares its category with Spinach?\n",
      "Options: Shampoo, Church, Projector, Saxophone, Pepper, Paperclip.\n",
      "Answer:\n",
      "2025-09-10 15:55:31 src.selection.data INFO     Spinach | vegetable -> Pepper | pred=['\" Pepper\"[43681] (p=0.988, logit=22.625)', '\" **\"[5231] (p=0.009, logit=17.875)', '\"\\n\\n\"[109] (p=0.001, logit=15.062)', '\"  \"[139] (p=0.000, logit=14.750)', '\"\\n\"[108] (p=0.000, logit=13.938)']\n",
      "2025-09-10 15:55:32 src.selection.data INFO     Which object from the following list shares its category with Skyscraper?\n",
      "Options: Blender, Apartment, Hickory, Asparagus, Yacht, Scissors.\n",
      "Answer:\n",
      "2025-09-10 15:55:32 src.selection.data INFO     Skyscraper | building -> Apartment | pred=['\" Apartment\"[57543] (p=0.852, logit=20.500)', '\" **\"[5231] (p=0.131, logit=18.625)', '\"\\n\\n\"[109] (p=0.006, logit=15.562)', '\"  \"[139] (p=0.004, logit=15.188)', '\"\\n\"[108] (p=0.002, logit=14.188)']\n",
      "2025-09-10 15:55:34 src.selection.data INFO     Which object from the following list shares its category with Spinach?\n",
      "Options: Blender, Apartment, Hickory, Asparagus, Yacht, Scissors.\n",
      "Answer:\n",
      "2025-09-10 15:55:34 src.selection.data INFO     Spinach | vegetable -> Asparagus | pred=['\" Asparagus\"[200182] (p=0.984, logit=22.375)', '\" **\"[5231] (p=0.012, logit=18.000)', '\"\\n\\n\"[109] (p=0.001, logit=15.438)', '\"  \"[139] (p=0.001, logit=15.000)', '\"\\n\"[108] (p=0.000, logit=14.438)']\n",
      "sample 2 / 8\n",
      "2025-09-10 15:55:35 src.selection.data INFO     clean_obj_idx=1 | ['Tiger', 'Peach', 'Ash', 'Ring', 'Sunflower', 'Towel']\n",
      "type(task)=<class 'src.selection.data.SelectOneTask'>\n",
      "2025-09-10 15:55:36 src.selection.data INFO     Which object from the following list shares its category with Lily?\n",
      "Options: Pressure cooker, Monitor, Daisy, Bed, Asparagus, Watermelon.\n",
      "Answer:\n",
      "2025-09-10 15:55:36 src.selection.data INFO     Lily | flower -> Daisy | pred=['\" Daisy\"[63255] (p=0.992, logit=23.250)', '\" **\"[5231] (p=0.005, logit=18.000)', '\"\\n\\n\"[109] (p=0.000, logit=15.438)', '\"\\n\"[108] (p=0.000, logit=14.750)', '\"  \"[139] (p=0.000, logit=14.375)']\n",
      "2025-09-10 15:55:37 src.selection.data INFO     Which object from the following list shares its category with Kiwi?\n",
      "Options: Tiger, Peach, Ash, Ring, Sunflower, Towel.\n",
      "Answer:\n",
      "2025-09-10 15:55:37 src.selection.data INFO     Kiwi | fruit -> Peach | pred=['\" Peach\"[74585] (p=0.953, logit=22.375)', '\" **\"[5231] (p=0.042, logit=19.250)', '\"\\n\\n\"[109] (p=0.001, logit=15.812)', '\"  \"[139] (p=0.001, logit=15.438)', '\"\\n\"[108] (p=0.000, logit=14.438)']\n",
      "2025-09-10 15:55:38 src.selection.data INFO     Which object from the following list shares its category with Lily?\n",
      "Options: Tiger, Peach, Ash, Ring, Sunflower, Towel.\n",
      "Answer:\n",
      "2025-09-10 15:55:38 src.selection.data INFO     Lily | flower -> Sunflower | pred=['\" Sunflower\"[150802] (p=0.852, logit=20.875)', '\" **\"[5231] (p=0.115, logit=18.875)', '\"\\n\\n\"[109] (p=0.012, logit=16.625)', '\"\\n\"[108] (p=0.005, logit=15.688)', '\"  \"[139] (p=0.004, logit=15.562)']\n",
      "sample 3 / 8\n",
      "2025-09-10 15:55:39 src.selection.data INFO     clean_obj_idx=5 | ['Camera', 'Notebook', 'Plum', 'Desk', 'Stadium', 'Giraffe']\n",
      "type(task)=<class 'src.selection.data.SelectOneTask'>\n",
      "2025-09-10 15:55:40 src.selection.data INFO     Which object from the following list shares its category with Television?\n",
      "Options: Spinach, Helmet, Harp, Keyboard, Eagle, Mango.\n",
      "Answer:\n",
      "2025-09-10 15:55:40 src.selection.data INFO     Television | electronics -> Keyboard | pred=['\" Keyboard\"[46891] (p=0.961, logit=22.125)', '\" **\"[5231] (p=0.033, logit=18.750)', '\"\\n\\n\"[109] (p=0.002, logit=16.125)', '\"  \"[139] (p=0.002, logit=15.875)', '\"\\n\"[108] (p=0.001, logit=14.750)']\n",
      "2025-09-10 15:55:42 src.selection.data INFO     Which object from the following list shares its category with Horse?\n",
      "Options: Camera, Notebook, Plum, Desk, Stadium, Giraffe.\n",
      "Answer:\n",
      "2025-09-10 15:55:42 src.selection.data INFO     Horse | animal -> Giraffe | pred=['\" Gira\"[96733] (p=0.984, logit=22.500)', '\" **\"[5231] (p=0.014, logit=18.250)', '\"  \"[139] (p=0.000, logit=14.688)', '\"\\n\\n\"[109] (p=0.000, logit=14.688)', '\"\\n\"[108] (p=0.000, logit=13.500)']\n",
      "2025-09-10 15:55:43 src.selection.data INFO     Which object from the following list shares its category with Television?\n",
      "Options: Camera, Notebook, Plum, Desk, Stadium, Giraffe.\n",
      "Answer:\n",
      "2025-09-10 15:55:43 src.selection.data INFO     Television | electronics -> Camera | pred=['\" Camera\"[22762] (p=0.969, logit=22.375)', '\" **\"[5231] (p=0.029, logit=18.875)', '\"  \"[139] (p=0.001, logit=15.688)', '\"\\n\\n\"[109] (p=0.001, logit=15.688)', '\"\\n\"[108] (p=0.000, logit=14.312)']\n",
      "sample 4 / 8\n",
      "2025-09-10 15:55:44 src.selection.data INFO     clean_obj_idx=2 | ['Giraffe', 'Guitar', 'Toilet', 'Bangle', 'Jasmine', 'Submarine']\n",
      "type(task)=<class 'src.selection.data.SelectOneTask'>\n",
      "2025-09-10 15:55:45 src.selection.data INFO     Which object from the following list shares its category with Bangle?\n",
      "Options: Football, Watch, Stool, Soap, Watermelon, Coffee maker.\n",
      "Answer:\n",
      "2025-09-10 15:55:45 src.selection.data INFO     Bangle | jewelry -> Watch | pred=['\" Watch\"[13466] (p=0.945, logit=21.875)', '\" **\"[5231] (p=0.047, logit=18.875)', '\"\\n\\n\"[109] (p=0.003, logit=16.125)', '\"\\n\"[108] (p=0.001, logit=14.875)', '\"  \"[139] (p=0.001, logit=14.812)']\n",
      "2025-09-10 15:55:46 src.selection.data INFO     Which object from the following list shares its category with Shower?\n",
      "Options: Giraffe, Guitar, Toilet, Bangle, Jasmine, Submarine.\n",
      "Answer:\n",
      "2025-09-10 15:55:46 src.selection.data INFO     Shower | bathroom item -> Toilet | pred=['\" Toilet\"[73399] (p=0.980, logit=22.875)', '\" **\"[5231] (p=0.018, logit=18.875)', '\"\\n\\n\"[109] (p=0.000, logit=15.062)', '\"  \"[139] (p=0.000, logit=14.562)', '\"\\n\"[108] (p=0.000, logit=14.250)']\n",
      "2025-09-10 15:55:47 src.selection.data INFO     Which object from the following list shares its category with Bangle?\n",
      "Options: Giraffe, Guitar, Toilet, Bangle, Jasmine, Submarine.\n",
      "Answer:\n",
      "2025-09-10 15:55:47 src.selection.data INFO     Bangle | jewelry -> Bangle | pred=['\" Guitar\"[45519] (p=0.367, logit=19.500)', '\" B\"[599] (p=0.324, logit=19.375)', '\" **\"[5231] (p=0.254, logit=19.125)', '\"\\n\\n\"[109] (p=0.024, logit=16.750)', '\"  \"[139] (p=0.014, logit=16.250)']\n",
      "2025-09-10 15:55:47 src.selection.data ERROR    Prediction mismatch: (1, PredictedToken(token=' Guitar', prob=0.3671875, logit=19.5, token_id=45519, metadata=None))[\" Guitar\"] != 599[\" B\"]\n",
      "2025-09-10 15:55:47 src.selection.data INFO     clean_obj_idx=0 | ['Towel', 'Clarinet', 'Broccoli', 'Chain', 'Skirt', 'Tennis ball']\n",
      "type(task)=<class 'src.selection.data.SelectOneTask'>\n",
      "2025-09-10 15:55:49 src.selection.data INFO     Which object from the following list shares its category with Pendant?\n",
      "Options: Ash, Earring, Blueberry, Hairdryer, Lion, Train.\n",
      "Answer:\n",
      "2025-09-10 15:55:49 src.selection.data INFO     Pendant | jewelry -> Earring | pred=['\" Ear\"[6098] (p=0.906, logit=20.375)', '\" **\"[5231] (p=0.084, logit=18.000)', '\"\\n\\n\"[109] (p=0.003, logit=14.625)', '\"  \"[139] (p=0.002, logit=14.188)', '\"\\n\"[108] (p=0.001, logit=13.688)']\n",
      "2025-09-10 15:55:50 src.selection.data INFO     Which object from the following list shares its category with Shower?\n",
      "Options: Towel, Clarinet, Broccoli, Chain, Skirt, Tennis ball.\n",
      "Answer:\n",
      "2025-09-10 15:55:50 src.selection.data INFO     Shower | bathroom item -> Towel | pred=['\" Towel\"[153970] (p=0.980, logit=22.750)', '\" **\"[5231] (p=0.018, logit=18.750)', '\"\\n\\n\"[109] (p=0.001, logit=15.312)', '\"  \"[139] (p=0.000, logit=14.750)', '\"\\n\"[108] (p=0.000, logit=14.312)']\n",
      "2025-09-10 15:55:51 src.selection.data INFO     Which object from the following list shares its category with Pendant?\n",
      "Options: Towel, Clarinet, Broccoli, Chain, Skirt, Tennis ball.\n",
      "Answer:\n",
      "2025-09-10 15:55:51 src.selection.data INFO     Pendant | jewelry -> Chain | pred=['\" Chain\"[30502] (p=0.969, logit=21.875)', '\" **\"[5231] (p=0.029, logit=18.375)', '\"\\n\\n\"[109] (p=0.001, logit=15.375)', '\"  \"[139] (p=0.001, logit=14.438)', '\"\\n\"[108] (p=0.000, logit=14.125)']\n",
      "sample 5 / 8\n",
      "2025-09-10 15:55:52 src.selection.data INFO     clean_obj_idx=5 | ['Scooter', 'Monkey', 'Monitor', 'Sweater', 'Clarinet', 'Dishwasher']\n",
      "type(task)=<class 'src.selection.data.SelectOneTask'>\n",
      "2025-09-10 15:55:53 src.selection.data INFO     Which object from the following list shares its category with Dog?\n",
      "Options: Giraffe, Watermelon, Ottoman, Rose, Kettle, Birch.\n",
      "Answer:\n",
      "2025-09-10 15:55:53 src.selection.data INFO     Dog | animal -> Giraffe | pred=['\" Gira\"[96733] (p=0.984, logit=22.125)', '\" **\"[5231] (p=0.012, logit=17.750)', '\"\\n\\n\"[109] (p=0.001, logit=15.375)', '\"  \"[139] (p=0.000, logit=14.438)', '\"\\n\"[108] (p=0.000, logit=14.188)']\n",
      "2025-09-10 15:55:54 src.selection.data INFO     Which object from the following list shares its category with Pressure cooker?\n",
      "Options: Scooter, Monkey, Monitor, Sweater, Clarinet, Dishwasher.\n",
      "Answer:\n",
      "2025-09-10 15:55:54 src.selection.data INFO     Pressure cooker | kitchen appliance -> Dishwasher | pred=['\" Dishwasher\"[143924] (p=0.992, logit=23.625)', '\" **\"[5231] (p=0.005, logit=18.250)', '\"\\n\\n\"[109] (p=0.000, logit=15.750)', '\"  \"[139] (p=0.000, logit=15.688)', '\" Dish\"[55752] (p=0.000, logit=14.875)']\n",
      "2025-09-10 15:55:56 src.selection.data INFO     Which object from the following list shares its category with Dog?\n",
      "Options: Scooter, Monkey, Monitor, Sweater, Clarinet, Dishwasher.\n",
      "Answer:\n",
      "2025-09-10 15:55:56 src.selection.data INFO     Dog | animal -> Monkey | pred=['\" Monkey\"[58223] (p=0.977, logit=22.375)', '\" **\"[5231] (p=0.020, logit=18.500)', '\"  \"[139] (p=0.001, logit=15.125)', '\"\\n\\n\"[109] (p=0.001, logit=15.125)', '\"\\n\"[108] (p=0.000, logit=14.312)']\n",
      "sample 6 / 8\n",
      "2025-09-10 15:55:56 src.selection.data INFO     clean_obj_idx=5 | ['Pants', 'Scissors', 'Sunflower', 'Bus', 'Bat', 'Celery']\n",
      "type(task)=<class 'src.selection.data.SelectOneTask'>\n",
      "2025-09-10 15:55:58 src.selection.data INFO     Which object from the following list shares its category with Yoga mat?\n",
      "Options: Sweater, Hockey stick, Earring, Air fryer, Spinach, Microphone.\n",
      "Answer:\n",
      "2025-09-10 15:55:58 src.selection.data INFO     Yoga mat | sport equipment -> Hockey stick | pred=['\" Hockey\"[52301] (p=0.494, logit=19.500)', '\" **\"[5231] (p=0.340, logit=19.125)', '\" Yoga\"[30782] (p=0.046, logit=17.125)', '\"  \"[139] (p=0.046, logit=17.125)', '\"\\n\\n\"[109] (p=0.041, logit=17.000)']\n",
      "2025-09-10 15:55:59 src.selection.data INFO     Which object from the following list shares its category with Zucchini?\n",
      "Options: Pants, Scissors, Sunflower, Bus, Bat, Celery.\n",
      "Answer:\n",
      "2025-09-10 15:55:59 src.selection.data INFO     Zucchini | vegetable -> Celery | pred=['\" Celery\"[182997] (p=1.000, logit=24.000)', '\" **\"[5231] (p=0.002, logit=17.500)', '\"  \"[139] (p=0.000, logit=14.875)', '\"\\n\\n\"[109] (p=0.000, logit=14.250)', '\"\\n\"[108] (p=0.000, logit=13.312)']\n",
      "2025-09-10 15:56:00 src.selection.data INFO     Which object from the following list shares its category with Yoga mat?\n",
      "Options: Pants, Scissors, Sunflower, Bus, Bat, Celery.\n",
      "Answer:\n",
      "2025-09-10 15:56:00 src.selection.data INFO     Yoga mat | sport equipment -> Bat | pred=['\" **\"[5231] (p=0.535, logit=19.500)', '\" Bat\"[9237] (p=0.254, logit=18.750)', '\"\\n\\n\"[109] (p=0.057, logit=17.250)', '\" Pants\"[82148] (p=0.050, logit=17.125)', '\"  \"[139] (p=0.044, logit=17.000)']\n",
      "sample 7 / 8\n",
      "2025-09-10 15:56:01 src.selection.data INFO     clean_obj_idx=2 | ['Ash', 'Camera', 'Ring', 'Kiwi', 'House', 'Rice cooker']\n",
      "type(task)=<class 'src.selection.data.SelectOneTask'>\n",
      "2025-09-10 15:56:02 src.selection.data INFO     Which object from the following list shares its category with Stadium?\n",
      "Options: Daisy, Mixer, Tablet, Mall, Eraser, Cufflink.\n",
      "Answer:\n",
      "2025-09-10 15:56:02 src.selection.data INFO     Stadium | building -> Mall | pred=['\" Mall\"[24586] (p=0.941, logit=21.125)', '\" **\"[5231] (p=0.053, logit=18.250)', '\"\\n\\n\"[109] (p=0.003, logit=15.250)', '\"  \"[139] (p=0.001, logit=14.125)', '\"\\n\"[108] (p=0.001, logit=13.688)']\n",
      "2025-09-10 15:56:03 src.selection.data INFO     Which object from the following list shares its category with Cufflink?\n",
      "Options: Ash, Camera, Ring, Kiwi, House, Rice cooker.\n",
      "Answer:\n",
      "2025-09-10 15:56:03 src.selection.data INFO     Cufflink | jewelry -> Ring | pred=['\" Ring\"[20457] (p=0.906, logit=21.375)', '\" **\"[5231] (p=0.084, logit=19.000)', '\"\\n\\n\"[109] (p=0.003, logit=15.688)', '\"  \"[139] (p=0.001, logit=14.875)', '\"\\n\"[108] (p=0.001, logit=14.500)']\n",
      "2025-09-10 15:56:05 src.selection.data INFO     Which object from the following list shares its category with Stadium?\n",
      "Options: Ash, Camera, Ring, Kiwi, House, Rice cooker.\n",
      "Answer:\n",
      "2025-09-10 15:56:05 src.selection.data INFO     Stadium | building -> House | pred=['\" House\"[4919] (p=0.934, logit=21.625)', '\" **\"[5231] (p=0.060, logit=18.875)', '\"\\n\\n\"[109] (p=0.003, logit=15.812)', '\"  \"[139] (p=0.002, logit=15.312)', '\" Stadium\"[21968] (p=0.001, logit=14.562)']\n",
      "sample 8 / 8\n",
      "2025-09-10 15:56:06 src.selection.data INFO     clean_obj_idx=0 | ['Marigold', 'Tractor', 'Suit', 'Stool', 'Pencil', 'Printer']\n",
      "type(task)=<class 'src.selection.data.SelectOneTask'>\n",
      "2025-09-10 15:56:07 src.selection.data INFO     Which object from the following list shares its category with Ruler?\n",
      "Options: Tiger, Pen, Asparagus, Food processor, Sunflower, House.\n",
      "Answer:\n",
      "2025-09-10 15:56:07 src.selection.data INFO     Ruler | office supply -> Pen | pred=['\" Pen\"[5925] (p=0.934, logit=22.000)', '\" **\"[5231] (p=0.060, logit=19.250)', '\"\\n\\n\"[109] (p=0.002, logit=15.938)', '\"  \"[139] (p=0.001, logit=15.312)', '\"\\n\"[108] (p=0.001, logit=14.812)']\n",
      "2025-09-10 15:56:08 src.selection.data INFO     Which object from the following list shares its category with Iris?\n",
      "Options: Marigold, Tractor, Suit, Stool, Pencil, Printer.\n",
      "Answer:\n",
      "2025-09-10 15:56:08 src.selection.data INFO     Iris | flower -> Marigold | pred=['\" Mar\"[1937] (p=0.953, logit=21.500)', '\" **\"[5231] (p=0.042, logit=18.375)', '\"\\n\\n\"[109] (p=0.003, logit=15.562)', '\"  \"[139] (p=0.001, logit=14.875)', '\"\\n\"[108] (p=0.001, logit=14.188)']\n",
      "2025-09-10 15:56:09 src.selection.data INFO     Which object from the following list shares its category with Ruler?\n",
      "Options: Marigold, Tractor, Suit, Stool, Pencil, Printer.\n",
      "Answer:\n",
      "2025-09-10 15:56:09 src.selection.data INFO     Ruler | office supply -> Pencil | pred=['\" Pencil\"[81306] (p=0.973, logit=22.500)', '\" **\"[5231] (p=0.026, logit=18.875)', '\"\\n\\n\"[109] (p=0.001, logit=15.812)', '\"  \"[139] (p=0.001, logit=15.375)', '\"\\n\"[108] (p=0.000, logit=14.625)']\n"
     ]
    },
    {
     "data": {
      "text/plain": [
       "8"
      ]
     },
     "execution_count": 219,
     "metadata": {},
     "output_type": "execute_result"
    }
   ],
   "source": [
    "from src.functional import free_gpu_cache\n",
    "from src.selection.data import get_counterfactual_samples_interface\n",
    "import random\n",
    "\n",
    "free_gpu_cache()\n",
    "validation_set = []\n",
    "validation_limit = 8\n",
    "\n",
    "counterfactual_sampler = get_counterfactual_samples_interface[select_task.task_name]\n",
    "\n",
    "while len(validation_set) < validation_limit:\n",
    "    print(f\"sample {len(validation_set)+1} / {validation_limit}\")\n",
    "    patch, clean = counterfactual_sampler(\n",
    "        mt=mt,\n",
    "        task=select_task,\n",
    "        filter_by_lm_prediction=True,\n",
    "        prompt_template_idx=prompt_template_idx,\n",
    "        option_style=OPTION_STYLE,\n",
    "        distinct_options=True,\n",
    "        n_distractors=N_DISTRACTORS,\n",
    "        # patch_n_distractors=N_DISTRACTORS,\n",
    "        # clean_n_distractors=N_DISTRACTORS\n",
    "        # n_options = random.choice([5])\n",
    "    )\n",
    "    validation_set.append((clean, patch))\n",
    "    cf_pair = CounterFactualSamplePair(\n",
    "        patch_sample=patch,\n",
    "        clean_sample=clean,\n",
    "    )\n",
    "    cf_pair.detensorize()\n",
    "    with open(os.path.join(sample_save_path, f\"{len(validation_set):05d}.json\"), \"w\") as f:\n",
    "        json.dump(cf_pair.to_dict(), f, indent=2)\n",
    "\n",
    "len(validation_set)"
   ]
  },
  {
   "cell_type": "code",
   "execution_count": 223,
   "id": "72131711",
   "metadata": {},
   "outputs": [],
   "source": [
    "free_gpu_cache()\n",
    "validation_set = []\n",
    "validation_limit = 8\n",
    "\n",
    "sample_load_path = os.path.join(\n",
    "    env_utils.DEFAULT_RESULTS_DIR,\n",
    "    \"selection\",\n",
    "    \"samples\",\n",
    "    \"training\",\n",
    "    mt.name.split(\"/\")[-1],\n",
    "    select_task.task_name,\n",
    "    \"objects\"\n",
    ")\n",
    "\n",
    "sample_files = [\n",
    "    os.path.join(sample_load_path, f)\n",
    "    for f in os.listdir(sample_load_path)\n",
    "    if f.endswith(\".json\")\n",
    "]\n",
    "random.shuffle(sample_files)\n",
    "sample_files = sample_files[:validation_limit]\n",
    "for sample_file in sample_files:\n",
    "    with open(sample_file, \"r\") as f:\n",
    "        cf_pair_data = json.load(f)\n",
    "    cf_pair = CounterFactualSamplePair.from_dict(cf_pair_data)\n",
    "    validation_set.append((cf_pair.clean_sample, cf_pair.patch_sample))"
   ]
  },
  {
   "cell_type": "code",
   "execution_count": 224,
   "id": "9f9272b6",
   "metadata": {},
   "outputs": [
    {
     "name": "stdout",
     "output_type": "stream",
     "text": [
      "Which object from the following list shares its category with Pressure cooker?\n",
      "Options: Scooter, Monkey, Monitor, Sweater, Clarinet, Dishwasher.\n",
      "Answer: >>  Dishwasher\n",
      "Which object from the following list shares its category with Dog?\n",
      "Options: Giraffe, Watermelon, Ottoman, Rose, Kettle, Birch.\n",
      "Answer: >>  Gira\n"
     ]
    }
   ],
   "source": [
    "clean, patch = validation_set[5]\n",
    "print(clean.prompt(), \">>\", mt.tokenizer.decode(clean.ans_token_id))\n",
    "print(patch.prompt(), \">>\", mt.tokenizer.decode(patch.ans_token_id))"
   ]
  },
  {
   "cell_type": "code",
   "execution_count": null,
   "id": "bdfe511c",
   "metadata": {},
   "outputs": [],
   "source": []
  }
 ],
 "metadata": {
  "kernelspec": {
   "display_name": "connection",
   "language": "python",
   "name": "python3"
  },
  "language_info": {
   "codemirror_mode": {
    "name": "ipython",
    "version": 3
   },
   "file_extension": ".py",
   "mimetype": "text/x-python",
   "name": "python",
   "nbconvert_exporter": "python",
   "pygments_lexer": "ipython3",
   "version": "3.11.11"
  }
 },
 "nbformat": 4,
 "nbformat_minor": 5
}
