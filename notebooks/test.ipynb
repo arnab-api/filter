{
 "cells": [
  {
   "cell_type": "code",
   "execution_count": 1,
   "metadata": {},
   "outputs": [],
   "source": [
    "%load_ext autoreload\n",
    "%autoreload 2"
   ]
  },
  {
   "cell_type": "code",
   "execution_count": 2,
   "metadata": {},
   "outputs": [
    {
     "name": "stderr",
     "output_type": "stream",
     "text": [
      "/home/local_arnab/miniconda3/envs/retrieval/lib/python3.11/site-packages/tqdm/auto.py:21: TqdmWarning: IProgress not found. Please update jupyter and ipywidgets. See https://ipywidgets.readthedocs.io/en/stable/user_install.html\n",
      "  from .autonotebook import tqdm as notebook_tqdm\n"
     ]
    },
    {
     "name": "stdout",
     "output_type": "stream",
     "text": [
      "2024-10-11 22:15:19 __main__ INFO     torch.__version__='2.4.1+cu121', torch.version.cuda='12.1'\n",
      "2024-10-11 22:15:19 __main__ INFO     torch.cuda.is_available()=True, torch.cuda.device_count()=1, torch.cuda.get_device_name()='NVIDIA RTX A6000'\n",
      "2024-10-11 22:15:19 __main__ INFO     transformers.__version__='4.44.2'\n"
     ]
    }
   ],
   "source": [
    "import os\n",
    "from tqdm.auto import tqdm\n",
    "\n",
    "import sys\n",
    "sys.path.append(\"../\")\n",
    "import os\n",
    "\n",
    "import logging\n",
    "from src.utils import logging_utils\n",
    "from src.utils import env_utils, experiment_utils\n",
    "from src import functional\n",
    "\n",
    "logger = logging.getLogger(__name__)\n",
    "\n",
    "logging.basicConfig(\n",
    "    level=logging.DEBUG,\n",
    "    format=logging_utils.DEFAULT_FORMAT,\n",
    "    datefmt=logging_utils.DEFAULT_DATEFMT,\n",
    "    stream=sys.stdout,\n",
    ")\n",
    "\n",
    "import torch\n",
    "import transformers\n",
    "\n",
    "logger.info(f\"{torch.__version__=}, {torch.version.cuda=}\")\n",
    "logger.info(f\"{torch.cuda.is_available()=}, {torch.cuda.device_count()=}, {torch.cuda.get_device_name()=}\")\n",
    "logger.info(f\"{transformers.__version__=}\")"
   ]
  },
  {
   "cell_type": "code",
   "execution_count": 3,
   "metadata": {},
   "outputs": [
    {
     "name": "stdout",
     "output_type": "stream",
     "text": [
      "2024-10-11 22:16:01 accelerate.utils.modeling INFO     We will use 90% of the memory on device 0 for storing the model, and 10% for the buffer to avoid OOM. You can set `max_memory` in to a higher value to use more memory (at your own risk).\n"
     ]
    },
    {
     "name": "stderr",
     "output_type": "stream",
     "text": [
      "Loading checkpoint shards: 100%|██████████| 4/4 [00:08<00:00,  2.02s/it]"
     ]
    },
    {
     "name": "stdout",
     "output_type": "stream",
     "text": [
      "2024-10-11 22:16:09 src.models INFO     loaded model </home/local_arnab/Codes/00_MODEL/meta-llama/Meta-Llama-3-8B-Instruct> | size: 15316.516 MB | dtype: torch.float16 | device: cuda:0\n"
     ]
    },
    {
     "name": "stderr",
     "output_type": "stream",
     "text": [
      "\n"
     ]
    }
   ],
   "source": [
    "from src.models import ModelandTokenizer\n",
    "\n",
    "# model_key = \"meta-llama/Meta-Llama-3-8B-Instruct\"\n",
    "model_key = \"google/gemma-2-9b-it\"\n",
    "# model_key = \"google/gemma-2-27b-it\"\n",
    "# model_key = \"Qwen/Qwen2-7B\"\n",
    "\n",
    "mt = ModelandTokenizer(\n",
    "    model_key=model_key,\n",
    "    torch_dtype=torch.float16,\n",
    ")"
   ]
  },
  {
   "cell_type": "code",
   "execution_count": 29,
   "metadata": {},
   "outputs": [
    {
     "name": "stdout",
     "output_type": "stream",
     "text": [
      "Assume that you are implementing a Caeser Cipher. You will be given a capital letter (A-Z) and a shift value (0-9). Return the letter that results from shifting the input letter by the input shift value. For example:\n",
      "A#8->I\n",
      "X#3->A\n",
      "Z#8->H\n",
      "J#5->\n",
      "=\n"
     ]
    }
   ],
   "source": [
    "prompt_template = \"\"\"Assume that you are implementing a Caeser Cipher. You will be given a capital letter (A-Z) and a shift value (0-9). Return the letter that results from shifting the input letter by the input shift value. For example:\n",
    "A#8->I\n",
    "X#3->A\n",
    "Z#8->H\n",
    "{}#{}->\"\"\"\n",
    "\n",
    "name = \"J\"\n",
    "shift = 5\n",
    "\n",
    "prompt = prompt_template.format(name, shift)\n",
    "\n",
    "print(prompt)\n",
    "print(\"=\")"
   ]
  },
  {
   "cell_type": "code",
   "execution_count": 30,
   "metadata": {},
   "outputs": [
    {
     "data": {
      "text/plain": [
       "[[PredictedToken(token='F', prob=0.1361638456583023, logit=16.578125, token_id=37),\n",
       "  PredictedToken(token='E', prob=0.1361638456583023, logit=16.578125, token_id=36),\n",
       "  PredictedToken(token='G', prob=0.09655461460351944, logit=16.234375, token_id=38),\n",
       "  PredictedToken(token='O', prob=0.0728832557797432, logit=15.953125, token_id=46),\n",
       "  PredictedToken(token='K', prob=0.059485577046871185, logit=15.75, token_id=42)]]"
      ]
     },
     "execution_count": 30,
     "metadata": {},
     "output_type": "execute_result"
    }
   ],
   "source": [
    "from src.tokens import prepare_input\n",
    "from src.functional import predict_next_token\n",
    "\n",
    "inputs = prepare_input(prompts=[prompt], tokenizer=mt)\n",
    "\n",
    "predict_next_token(\n",
    "    mt=mt, inputs=inputs\n",
    ")"
   ]
  },
  {
   "cell_type": "code",
   "execution_count": 27,
   "metadata": {},
   "outputs": [
    {
     "name": "stdout",
     "output_type": "stream",
     "text": [
      "<|begin_of_text|>\n",
      "Given\n",
      " the\n",
      " name\n",
      " of\n",
      " a\n",
      " person\n",
      " and\n",
      " a\n",
      " number\n",
      " (<\n",
      "10\n",
      "),\n",
      " give\n",
      " the\n",
      " first\n",
      " letter\n",
      " the\n",
      " name\n",
      " starts\n",
      " with\n",
      " if\n",
      " you\n",
      " encrypt\n",
      " it\n",
      " with\n",
      " a\n",
      " Caesar\n",
      " cipher\n",
      " with\n",
      " the\n",
      " given\n",
      " number\n",
      ".\n",
      "\n",
      "Alice\n",
      "#\n",
      "3\n",
      "->\n",
      "D\n",
      "\n",
      "\n",
      "Bob\n",
      "#\n",
      "1\n",
      "->\n",
      "C\n",
      "\n",
      "\n",
      "David\n",
      "#\n",
      "5\n",
      "->\n",
      "I\n",
      "\n",
      "\n",
      "Jon\n",
      "#\n",
      "5\n",
      "->\n"
     ]
    }
   ],
   "source": [
    "for t_id in range(inputs.input_ids.shape[1]):\n",
    "    print(mt.tokenizer.decode(inputs.input_ids[0, t_id].item()))"
   ]
  },
  {
   "cell_type": "code",
   "execution_count": null,
   "metadata": {},
   "outputs": [],
   "source": []
  }
 ],
 "metadata": {
  "kernelspec": {
   "display_name": "retrieval",
   "language": "python",
   "name": "python3"
  },
  "language_info": {
   "codemirror_mode": {
    "name": "ipython",
    "version": 3
   },
   "file_extension": ".py",
   "mimetype": "text/x-python",
   "name": "python",
   "nbconvert_exporter": "python",
   "pygments_lexer": "ipython3",
   "version": "3.11.9"
  }
 },
 "nbformat": 4,
 "nbformat_minor": 2
}
