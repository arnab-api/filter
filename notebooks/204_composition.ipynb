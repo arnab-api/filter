{
 "cells": [
  {
   "cell_type": "code",
   "execution_count": 1,
   "id": "f8ec34ff",
   "metadata": {},
   "outputs": [],
   "source": [
    "%load_ext autoreload\n",
    "%autoreload 2"
   ]
  },
  {
   "cell_type": "code",
   "execution_count": 2,
   "id": "bfae7235",
   "metadata": {},
   "outputs": [
    {
     "name": "stdout",
     "output_type": "stream",
     "text": [
      "2025-08-29 14:38:43 __main__ INFO     torch.__version__='2.7.0+cu126', torch.version.cuda='12.6'\n",
      "2025-08-29 14:38:43 __main__ INFO     torch.cuda.is_available()=True, torch.cuda.device_count()=8, torch.cuda.get_device_name()='NVIDIA A100 80GB PCIe'\n",
      "2025-08-29 14:38:43 __main__ INFO     transformers.__version__='4.55.3'\n"
     ]
    }
   ],
   "source": [
    "import os\n",
    "import json\n",
    "\n",
    "import sys\n",
    "\n",
    "sys.path.append(\"../\")\n",
    "\n",
    "##################################################################\n",
    "os.environ[\"TOKENIZERS_PARALLELISM\"] = \"false\"\n",
    "# os.environ[\"CUDA_VISIBLE_DEVICES\"] = \"0,1,2,3,4,5,6,7\"\n",
    "##################################################################\n",
    "\n",
    "import logging\n",
    "from src.utils import logging_utils\n",
    "from src.utils import env_utils\n",
    "\n",
    "logger = logging.getLogger(__name__)\n",
    "\n",
    "logging.basicConfig(\n",
    "    level=logging.DEBUG,\n",
    "    format=logging_utils.DEFAULT_FORMAT,\n",
    "    datefmt=logging_utils.DEFAULT_DATEFMT,\n",
    "    stream=sys.stdout,\n",
    ")\n",
    "\n",
    "import torch\n",
    "import transformers\n",
    "\n",
    "logger.info(f\"{torch.__version__=}, {torch.version.cuda=}\")\n",
    "logger.info(\n",
    "    f\"{torch.cuda.is_available()=}, {torch.cuda.device_count()=}, {torch.cuda.get_device_name()=}\"\n",
    ")\n",
    "logger.info(f\"{transformers.__version__=}\")"
   ]
  },
  {
   "cell_type": "code",
   "execution_count": 3,
   "id": "dc7720ea",
   "metadata": {},
   "outputs": [
    {
     "name": "stdout",
     "output_type": "stream",
     "text": [
      "2025-08-29 14:38:45 git.cmd DEBUG    Popen(['git', 'version'], cwd=/disk/u/arnab/Codes/Projects/retrieval/notebooks, stdin=None, shell=False, universal_newlines=False)\n",
      "2025-08-29 14:38:45 git.cmd DEBUG    Popen(['git', 'version'], cwd=/disk/u/arnab/Codes/Projects/retrieval/notebooks, stdin=None, shell=False, universal_newlines=False)\n",
      "2025-08-29 14:38:46 wandb.docker.auth DEBUG    Trying paths: ['/disk/u/arnab/.docker/config.json', '/disk/u/arnab/.dockercfg']\n",
      "2025-08-29 14:38:46 wandb.docker.auth DEBUG    No config file found\n"
     ]
    }
   ],
   "source": [
    "from src.utils.training_utils import get_device_map\n",
    "\n",
    "# model_key = \"meta-llama/Llama-3.2-3B\"\n",
    "# model_key = \"meta-llama/Llama-3.1-8B\"\n",
    "model_key = \"meta-llama/Llama-3.3-70B-Instruct\"\n",
    "# model_key = \"meta-llama/Llama-3.1-405B-Instruct\"\n",
    "\n",
    "# model_key = \"google/gemma-2-9b-it\"\n",
    "# model_key = \"google/gemma-3-12b-it\"\n",
    "# model_key = \"google/gemma-2-27b-it\"\n",
    "\n",
    "# model_key = \"deepseek-ai/DeepSeek-R1-Distill-Llama-8B\"\n",
    "\n",
    "# model_key = \"allenai/OLMo-2-1124-7B-Instruct\"\n",
    "# model_key = \"allenai/OLMo-7B-0424-hf\"\n",
    "\n",
    "# model_key = \"Qwen/Qwen2-7B\"\n",
    "# model_key = \"Qwen/Qwen2.5-14B-Instruct\"\n",
    "# model_key = \"Qwen/Qwen2.5-32B-Instruct\"\n",
    "# model_key = \"Qwen/Qwen2.5-72B-Instruct\"\n",
    "\n",
    "# model_key = \"Qwen/Qwen3-1.7B\"\n",
    "# model_key = \"Qwen/Qwen3-4B\"\n",
    "# model_key = \"Qwen/Qwen3-8B\"\n",
    "# model_key = \"Qwen/Qwen3-14B\"\n",
    "# model_key = \"Qwen/Qwen3-32B\"\n",
    "\n",
    "# device_map = get_device_map(model_key, 30, n_gpus=8)\n",
    "# device_map"
   ]
  },
  {
   "cell_type": "code",
   "execution_count": 4,
   "id": "683855df",
   "metadata": {},
   "outputs": [
    {
     "name": "stdout",
     "output_type": "stream",
     "text": [
      "2025-08-29 14:38:46 src.models WARNING  meta-llama/Llama-3.3-70B-Instruct not found in /disk/u/arnab/Codes/Models\n",
      "If not found in cache, model will be downloaded from HuggingFace to cache directory\n",
      "2025-08-29 14:38:46 urllib3.connectionpool DEBUG    Starting new HTTPS connection (1): huggingface.co:443\n"
     ]
    },
    {
     "name": "stdout",
     "output_type": "stream",
     "text": [
      "2025-08-29 14:38:46 urllib3.connectionpool DEBUG    https://huggingface.co:443 \"HEAD /meta-llama/Llama-3.3-70B-Instruct/resolve/main/config.json HTTP/1.1\" 200 0\n",
      "2025-08-29 14:38:47 urllib3.connectionpool DEBUG    https://huggingface.co:443 \"HEAD /meta-llama/Llama-3.3-70B-Instruct/resolve/main/tokenizer_config.json HTTP/1.1\" 200 0\n",
      "2025-08-29 14:38:47 urllib3.connectionpool DEBUG    https://huggingface.co:443 \"GET /api/models/meta-llama/Llama-3.3-70B-Instruct/tree/main/additional_chat_templates?recursive=False&expand=False HTTP/1.1\" 404 64\n"
     ]
    },
    {
     "data": {
      "application/vnd.jupyter.widget-view+json": {
       "model_id": "37117d1d599f45eca752a9b624b47296",
       "version_major": 2,
       "version_minor": 0
      },
      "text/plain": [
       "Loading checkpoint shards:   0%|          | 0/30 [00:00<?, ?it/s]"
      ]
     },
     "metadata": {},
     "output_type": "display_data"
    },
    {
     "name": "stdout",
     "output_type": "stream",
     "text": [
      "2025-08-29 14:39:35 urllib3.connectionpool DEBUG    https://huggingface.co:443 \"HEAD /meta-llama/Llama-3.3-70B-Instruct/resolve/main/generation_config.json HTTP/1.1\" 200 0\n",
      "2025-08-29 14:39:35 urllib3.connectionpool DEBUG    https://huggingface.co:443 \"HEAD /meta-llama/Llama-3.3-70B-Instruct/resolve/main/custom_generate/generate.py HTTP/1.1\" 404 0\n",
      "2025-08-29 14:39:35 src.models INFO     loaded model <meta-llama/Llama-3.3-70B-Instruct> | size: 134570.516 MB | dtype: torch.bfloat16 | device: cuda:0\n"
     ]
    }
   ],
   "source": [
    "from src.models import ModelandTokenizer\n",
    "\n",
    "# from transformers import BitsAndBytesConfig\n",
    "\n",
    "mt = ModelandTokenizer(\n",
    "    model_key=model_key,\n",
    "    torch_dtype=torch.bfloat16,\n",
    "    # device_map=device_map,\n",
    "    device_map=\"auto\",\n",
    "    # quantization_config = BitsAndBytesConfig(\n",
    "    #     # load_in_4bit=True\n",
    "    #     load_in_8bit=True\n",
    "    # )\n",
    "    attn_implementation=\"eager\",\n",
    ")"
   ]
  },
  {
   "cell_type": "code",
   "execution_count": 7,
   "id": "080021e2",
   "metadata": {},
   "outputs": [],
   "source": [
    "# file_path = os.path.join(\n",
    "#     env_utils.DEFAULT_DATA_DIR,\n",
    "#     \"selection\",\n",
    "#     # \"profession.json\"\n",
    "#     # \"nationality.json\"\n",
    "#     \"objects.json\",\n",
    "# )\n",
    "\n",
    "# with open(file_path, \"r\") as f:\n",
    "#     temp = json.load(f)\n",
    "\n",
    "# for cat in temp[\"categories\"]:\n",
    "#     temp[\"categories\"][cat] = [obj.capitalize() for obj in temp[\"categories\"][cat]]\n",
    "\n",
    "# with open(file_path, \"w\") as f:\n",
    "#     json.dump(temp, f, indent=4)\n"
   ]
  },
  {
   "cell_type": "code",
   "execution_count": 8,
   "id": "a62d97cc",
   "metadata": {},
   "outputs": [
    {
     "name": "stdout",
     "output_type": "stream",
     "text": [
      "SelectOneTask: (different objects)\n",
      "Categories: fruit(11), vehicle(8), furniture(8), animal(13), music instrument(3), clothing(11), electronics(11), sport equipment(5), kitchen appliance(4), vegetable(5), building(14), office supply(8), bathroom item(7), flower(6), tree(10), jewelry(7)\n",
      "\n"
     ]
    }
   ],
   "source": [
    "from src.selection.data import SelectOneTask, SelectOrderTask\n",
    "\n",
    "#################################################################################\n",
    "# TASK_CLS = SelectOrderTask\n",
    "# prompt_template_idx = 1\n",
    "TASK_CLS = SelectOneTask\n",
    "prompt_template_idx = 3\n",
    "N_DISTRACTORS = 5\n",
    "OPTION_STYLE = \"single_line\"\n",
    "#################################################################################\n",
    "\n",
    "select_task = TASK_CLS.load(\n",
    "    path=os.path.join(\n",
    "        env_utils.DEFAULT_DATA_DIR, \n",
    "        \"selection\", \n",
    "        # \"profession.json\"\n",
    "        # \"nationality.json\"\n",
    "        \"objects.json\"\n",
    "    )\n",
    ")\n",
    "\n",
    "select_task.filter_single_token(tokenizer=mt.tokenizer, prefix=\" \")\n",
    "\n",
    "print(select_task)"
   ]
  },
  {
   "cell_type": "code",
   "execution_count": 9,
   "id": "45087a7f",
   "metadata": {},
   "outputs": [
    {
     "name": "stdout",
     "output_type": "stream",
     "text": [
      "Grape -> Banana (2): ['Factory', 'Guitar', 'Banana', 'Helmet', 'Mixer', 'Car']\n",
      "Options: Factory, Guitar, Banana, Helmet, Mixer, Car.\n",
      "Which among these objects mentioned above is a fruit?\n",
      "Answer:\n"
     ]
    }
   ],
   "source": [
    "sample = select_task.get_random_sample(\n",
    "    mt = mt,\n",
    "    option_style=OPTION_STYLE,\n",
    "    prompt_template_idx=prompt_template_idx,\n",
    "    obj_idx=2,\n",
    "    # category=\"actor\",\n",
    "    # category=\"Brazil\"\n",
    "    category=\"fruit\",\n",
    "    filter_by_lm_prediction=False,\n",
    ")\n",
    "\n",
    "print(sample)\n",
    "print(sample.prompt())"
   ]
  },
  {
   "cell_type": "code",
   "execution_count": 10,
   "id": "f66399b6",
   "metadata": {},
   "outputs": [
    {
     "name": "stdout",
     "output_type": "stream",
     "text": [
      "\"Options: Factory, Guitar, Banana, Helmet, Mixer, Car.\n",
      "Which among these objects mentioned above is a fruit?\n",
      "Answer:\" >> Banana\n"
     ]
    },
    {
     "data": {
      "text/plain": [
       "(True,\n",
       " [PredictedToken(token=' Banana', prob=0.67578125, logit=21.375, token_id=76924, metadata=None),\n",
       "  PredictedToken(token=' The', prob=0.1328125, logit=19.75, token_id=578, metadata=None),\n",
       "  PredictedToken(token=' A', prob=0.0712890625, logit=19.125, token_id=362, metadata=None),\n",
       "  PredictedToken(token=' Among', prob=0.06298828125, logit=19.0, token_id=22395, metadata=None),\n",
       "  PredictedToken(token=' B', prob=0.01092529296875, logit=17.25, token_id=426, metadata=None)],\n",
       " OrderedDict([(76924,\n",
       "               (1,\n",
       "                PredictedToken(token=' Banana', prob=0.67578125, logit=21.375, token_id=76924, metadata=None))),\n",
       "              (17367,\n",
       "               (56,\n",
       "                PredictedToken(token=' Factory', prob=9.441375732421875e-05, logit=12.5, token_id=17367, metadata=None))),\n",
       "              (47759,\n",
       "               (107,\n",
       "                PredictedToken(token=' Guitar', prob=2.2411346435546875e-05, logit=11.0625, token_id=47759, metadata=None))),\n",
       "              (3341,\n",
       "               (131,\n",
       "                PredictedToken(token=' Car', prob=1.4483928680419922e-05, logit=10.625, token_id=3341, metadata=None))),\n",
       "              (67629,\n",
       "               (240,\n",
       "                PredictedToken(token=' Helmet', prob=5.0067901611328125e-06, logit=9.5625, token_id=67629, metadata=None))),\n",
       "              (72392,\n",
       "               (1209,\n",
       "                PredictedToken(token=' Mixer', prob=4.5262277126312256e-07, logit=7.15625, token_id=72392, metadata=None)))]))"
      ]
     },
     "execution_count": 10,
     "metadata": {},
     "output_type": "execute_result"
    }
   ],
   "source": [
    "from src.selection.utils import verify_correct_option\n",
    "# sample.prompt_template = select_prof.prompt_templates[3]\n",
    "print(f'\"{sample.prompt()}\"', \">>\", sample.obj)\n",
    "\n",
    "verify_correct_option(\n",
    "    mt=mt,\n",
    "    target=sample.obj,\n",
    "    options=sample.options,\n",
    "    input=sample.prompt()\n",
    ")"
   ]
  },
  {
   "cell_type": "code",
   "execution_count": 11,
   "id": "ea0499b9",
   "metadata": {},
   "outputs": [
    {
     "name": "stderr",
     "output_type": "stream",
     "text": [
      "The following generation flags are not valid and may be ignored: ['temperature', 'top_p']. Set `TRANSFORMERS_VERBOSITY=info` for more details.\n",
      "You have set `compile_config`, but we are unable to meet the criteria for compilation. Compilation will be skipped.\n"
     ]
    },
    {
     "name": "stdout",
     "output_type": "stream",
     "text": [
      "\" Banana.\n",
      "Explanation: Banana is a type of fruit. The other options are not fruits. Factory is\" >> Banana\n"
     ]
    }
   ],
   "source": [
    "from src.functional import generate_with_patch\n",
    "\n",
    "gen = generate_with_patch(\n",
    "    mt = mt,\n",
    "    inputs = sample.prompt(),\n",
    "    max_new_tokens=20,\n",
    "    do_sample=False,\n",
    "    remove_prefix=True\n",
    ")[0]\n",
    "print(f'\"{gen}\"', \">>\", sample.obj)"
   ]
  },
  {
   "cell_type": "code",
   "execution_count": 12,
   "id": "e2e8a8aa",
   "metadata": {},
   "outputs": [
    {
     "data": {
      "text/plain": [
       "(80, 64)"
      ]
     },
     "execution_count": 12,
     "metadata": {},
     "output_type": "execute_result"
    }
   ],
   "source": [
    "mt.n_layer, mt.config.num_attention_heads"
   ]
  },
  {
   "cell_type": "code",
   "execution_count": 13,
   "id": "3a35516e",
   "metadata": {},
   "outputs": [
    {
     "name": "stdout",
     "output_type": "stream",
     "text": [
      "20\n"
     ]
    }
   ],
   "source": [
    "llama_70_heads = [\n",
    "    (33, 45),\n",
    "    (33, 18),\n",
    "    (34, 1),\n",
    "    (34, 6),\n",
    "    (34, 7),\n",
    "    (35, 19),\n",
    "    (39, 40),\n",
    "    (42, 30),\n",
    "    (47, 18),\n",
    "    (52, 58),\n",
    "]\n",
    "\n",
    "qwen_72_heads = [\n",
    "    (62, 1),\n",
    "    (60, 9),\n",
    "    (64, 8),\n",
    "    (62, 0),\n",
    "    (62, 45),\n",
    "    (59, 59),\n",
    "    (71, 28),\n",
    "    (64, 12),\n",
    "    (61, 7),\n",
    "    (64, 13),\n",
    "    (67, 53),\n",
    "    (67, 51),\n",
    "    (54, 44),\n",
    "    (57, 5),\n",
    "    (59, 60),\n",
    "    (71, 25),\n",
    "    (62, 7),\n",
    "    (64, 9),\n",
    "    (62, 23),\n",
    "    (65, 40),\n",
    "]\n",
    "\n",
    "qwen_32_heads = [\n",
    "    (51, 11),\n",
    "    (48, 4),\n",
    "    (52, 21),\n",
    "    (54, 35),\n",
    "    (48, 8),\n",
    "    (50, 6),\n",
    "    (48, 9),\n",
    "    (48, 32),\n",
    "    (52, 10),\n",
    "    (45, 11),\n",
    "    (45, 13),\n",
    "    (48, 34),\n",
    "    (53, 16),\n",
    "    (50, 12),\n",
    "    (49, 2),\n",
    "    (54, 38),\n",
    "    (55, 4),\n",
    "    (50, 27),\n",
    "    (54, 33),\n",
    "    (50, 14),\n",
    "]\n",
    "\n",
    "# HEADS = [(35, 19)]\n",
    "# with open(\"optimized_heads.json\", \"r\") as f:\n",
    "#     HEADS = json.load(f)\n",
    "\n",
    "# with open(\"category_wise_heads.json\", \"r\") as f:\n",
    "#     category_wise_heads = json.load(f)\n",
    "# HEADS = [\n",
    "#     (layer_idx, head_idx)\n",
    "#     for layer_idx, head_idx, score in category_wise_heads[\"all\"][:100]\n",
    "# ]\n",
    "# HEADS = [(layer_idx, head_idx) for layer_idx, head_idx in HEADS if layer_idx < 61]\n",
    "\n",
    "HEADS = qwen_32_heads\n",
    "# HEADS = llama_70_heads\n",
    "print(len(HEADS))"
   ]
  },
  {
   "cell_type": "code",
   "execution_count": 32,
   "id": "fe381b2f",
   "metadata": {},
   "outputs": [
    {
     "data": {
      "image/png": "[encoded data removed]",
      "text/plain": [
       "<Figure size 640x480 with 1 Axes>"
      ]
     },
     "metadata": {},
     "output_type": "display_data"
    }
   ],
   "source": [
    "from matplotlib import pyplot as plt\n",
    "import numpy as np\n",
    "\n",
    "# optimized_path = os.path.join(\n",
    "#     env_utils.DEFAULT_RESULTS_DIR,\n",
    "#     \"selection/optimized_backup_heads\",\n",
    "#     mt.name.split(\"/\")[-1],\n",
    "#     f\"{select_task.task_name}.npz\"\n",
    "# )\n",
    "\n",
    "optimized_path = os.path.join(\n",
    "    env_utils.DEFAULT_RESULTS_DIR,\n",
    "    \"selection/optimized_heads\",\n",
    "    mt.name.split(\"/\")[-1],\n",
    "    \"distinct_options\",\n",
    "    f\"{select_task.task_name}\",\n",
    "    \"epoch_10.npz\"\n",
    ")\n",
    "\n",
    "optimization_results = np.load(optimized_path, allow_pickle=True)\n",
    "plt.plot(optimization_results[\"losses\"])\n",
    "plt.show()"
   ]
  },
  {
   "cell_type": "code",
   "execution_count": 33,
   "id": "7f87810f",
   "metadata": {},
   "outputs": [
    {
     "name": "stdout",
     "output_type": "stream",
     "text": [
      "78\n"
     ]
    },
    {
     "data": {
      "text/plain": [
       "(True, True)"
      ]
     },
     "execution_count": 33,
     "metadata": {},
     "output_type": "execute_result"
    },
    {
     "data": {
      "image/png": "[encoded data removed]",
      "text/plain": [
       "<Figure size 2000x1000 with 1 Axes>"
      ]
     },
     "metadata": {},
     "output_type": "display_data"
    }
   ],
   "source": [
    "plt.figure(figsize=(20, 10))\n",
    "\n",
    "optimal_head_mask = torch.tensor(optimization_results[\"optimal_mask\"]).to(torch.float32)\n",
    "optimal_head_mask[51:, :] = 0.0\n",
    "\n",
    "plt.imshow(\n",
    "    optimal_head_mask.T.numpy(),\n",
    "    cmap=\"Blues\",\n",
    "    aspect=\"auto\",\n",
    "    vmin=0,\n",
    "    vmax=1,\n",
    ")\n",
    "\n",
    "heads_selected = torch.nonzero(optimal_head_mask > 0.5, as_tuple=False).tolist()\n",
    "heads_selected = [\n",
    "    (layer_idx, head_idx) for layer_idx, head_idx in heads_selected if layer_idx < 50\n",
    "]\n",
    "print(len(heads_selected))\n",
    "\n",
    "HEADS = heads_selected\n",
    "\n",
    "(35, 19) in HEADS, (35, 19) in heads_selected"
   ]
  },
  {
   "cell_type": "code",
   "execution_count": 26,
   "id": "85a9a2a7",
   "metadata": {},
   "outputs": [
    {
     "name": "stdout",
     "output_type": "stream",
     "text": [
      "2025-08-29 14:52:51 src.selection.functional DEBUG    Predictions: ['\" Car\"[3341] (p=0.668, logit=21.750)', '\" The\"[578] (p=0.149, logit=20.250)', '\" A\"[362] (p=0.080, logit=19.625)', '\" Among\"[22395] (p=0.049, logit=19.125)', '\" It\"[1102] (p=0.008, logit=17.375)']\n",
      "2025-08-29 14:52:51 src.selection.functional INFO     Combined attention matrix for all heads\n"
     ]
    },
    {
     "data": {
      "text/html": [
       "<div id=\"circuits-vis-5ae74aaf-f580\" style=\"margin: 15px 0;\"/>\n",
       "    <script crossorigin type=\"module\">\n",
       "    import { render, ColoredTokens } from \"https://unpkg.com/circuitsvis@1.43.3/dist/cdn/esm.js\";\n",
       "    render(\n",
       "      \"circuits-vis-5ae74aaf-f580\",\n",
       "      ColoredTokens,\n",
       "      {\"tokens\": [\"Options\", \":\", \" Potato\", \",\", \" Shower\", \",\", \" Car\", \",\", \" Football\", \",\", \" Chain\", \",\", \" Speaker\", \".\\n\", \"Which\", \" among\", \" these\", \" objects\", \" mentioned\", \" above\", \" is\", \" a\", \" vehicle\", \"?\\n\", \"Answer\", \":\"], \"values\": [0.028374576941132545, 0.007840069942176342, 0.01441733818501234, 0.010210555978119373, 0.00919305719435215, 0.02144031599164009, 0.08779299259185791, 0.05833113193511963, 0.012987613677978516, 0.00911556463688612, 0.007164907641708851, 0.005915045738220215, 0.007481318898499012, 0.015784572809934616, 0.006383060477674007, 0.008419034071266651, 0.010082009248435497, 0.011712145991623402, 0.0051330868154764175, 0.004607157316058874, 0.005635324399918318, 0.008547162637114525, 0.075464628636837, 0.039825260639190674, 0.01633908972144127, 0.05739913135766983]}\n",
       "    )\n",
       "    </script>"
      ],
      "text/plain": [
       "<circuitsvis.utils.render.RenderedHTML at 0x7f0fb5258810>"
      ]
     },
     "metadata": {},
     "output_type": "display_data"
    }
   ],
   "source": [
    "from src.attention import get_attention_matrices\n",
    "from src.selection.functional import (\n",
    "    verify_head_patterns,\n",
    "    get_patches_to_verify_independent_enrichment,\n",
    ")\n",
    "\n",
    "attn_pattern = verify_head_patterns(\n",
    "    prompt=sample.prompt(option_style=\"single_line\"),\n",
    "    options=sample.options,\n",
    "    pivot=sample.subj,\n",
    "    mt=mt,\n",
    "    heads=HEADS,\n",
    ")"
   ]
  },
  {
   "cell_type": "code",
   "execution_count": 73,
   "id": "441141eb",
   "metadata": {},
   "outputs": [
    {
     "name": "stdout",
     "output_type": "stream",
     "text": [
      "2025-08-29 18:04:05 __main__ DEBUG    Options: Elm, Shorts, Hospital, Strawberry, Bat, Chain.\n",
      "Which among these objects mentioned above is a fruit or vehicle?\n",
      "Answer:\n",
      "2025-08-29 18:04:05 __main__ DEBUG    Baseball | fruit or vehicle -> Strawberry | pred=['\" Strawberry\"[89077] (p=0.586, logit=19.250)', '\" Among\"[22395] (p=0.080, logit=17.250)', '\" The\"[578] (p=0.070, logit=17.125)', '\" None\"[2290] (p=0.048, logit=16.750)', '\" There\"[2684] (p=0.026, logit=16.125)']\n"
     ]
    }
   ],
   "source": [
    "import random\n",
    "import copy\n",
    "from src.tokens import prepare_input\n",
    "from src.selection.utils import KeyedSet\n",
    "\n",
    "\n",
    "def get_composition_samples(\n",
    "    task: SelectOneTask,\n",
    "    mt: ModelandTokenizer,\n",
    "    unit_categories: list[str],\n",
    "    prompt_template_idx=3,\n",
    "    option_style=\"single_line\",\n",
    "    filter_by_lm_prediction: bool = True,\n",
    "    n_distractors: int = 5,\n",
    "):\n",
    "    unit_samples = []\n",
    "    for category in unit_categories:\n",
    "        unit_samples.append(\n",
    "            task.get_random_sample(\n",
    "                mt=mt,\n",
    "                category=category,\n",
    "                prompt_template_idx=prompt_template_idx,\n",
    "                option_style=option_style,\n",
    "                filter_by_lm_prediction=filter_by_lm_prediction,\n",
    "                n_distractors=n_distractors,\n",
    "            )\n",
    "        )\n",
    "\n",
    "    exclude_objs = [sample.obj for sample in unit_samples]\n",
    "    clean_category = random.choice(list(set(task.categories) - set(unit_categories)))\n",
    "    target_category = random.choice(unit_categories)\n",
    "    target_obj = random.choice(\n",
    "        (\n",
    "            KeyedSet(\n",
    "                items=task.category_wise_examples[target_category],\n",
    "                tokenizer=mt.tokenizer,\n",
    "            )\n",
    "            - KeyedSet(items=exclude_objs, tokenizer=mt.tokenizer)\n",
    "        ).values\n",
    "    )\n",
    "    obj_idx = random.randint(0, n_distractors)\n",
    "    target_idx = random.choice([i for i in range(n_distractors + 1) if i != obj_idx])\n",
    "\n",
    "    clean_sample = task.get_random_sample(\n",
    "        mt=mt,\n",
    "        category=clean_category,\n",
    "        obj_idx=obj_idx,\n",
    "        prompt_template_idx=prompt_template_idx,\n",
    "        option_style=option_style,\n",
    "        filter_by_lm_prediction=filter_by_lm_prediction,\n",
    "        n_distractors=n_distractors,\n",
    "        exclude_objs=exclude_objs,\n",
    "        exclude_distractor_categories=unit_categories,\n",
    "        insert_distractor=[(target_obj, target_idx)],\n",
    "    )\n",
    "    comp_sample = copy.deepcopy(clean_sample)\n",
    "    comp_sample.category = \" or \".join(unit_categories)\n",
    "    comp_sample.obj = target_obj\n",
    "    comp_sample.obj_idx = target_idx\n",
    "    assert (\n",
    "        \"<_category_>\" in comp_sample.prompt_template\n",
    "    ), \"Composition prompt template must have <_category_> token\"\n",
    "    # comp_sample.prompt_template = comp_sample.prompt_template.replace(\n",
    "    #     \"<_category_>\", \" or \".join(unit_categories)\n",
    "    # )\n",
    "\n",
    "    if filter_by_lm_prediction:\n",
    "        tokenized = prepare_input(tokenizer=mt, prompts=comp_sample.prompt())\n",
    "        is_correct, predictions, track_options = verify_correct_option(\n",
    "            mt=mt,\n",
    "            target=comp_sample.obj,\n",
    "            options=comp_sample.options,\n",
    "            input=tokenized,\n",
    "        )\n",
    "        comp_sample.metadata[\"tokenized\"] = tokenized\n",
    "\n",
    "        logger.debug(comp_sample.prompt())\n",
    "        logger.debug(\n",
    "            f\"{comp_sample.subj} | {comp_sample.category} -> {comp_sample.obj} | pred={[str(p) for p in predictions]}\"\n",
    "        )\n",
    "        if not is_correct:\n",
    "            logger.error(\n",
    "                f'Prediction mismatch: {track_options[list(track_options.keys())[0]]}[\"{mt.tokenizer.decode(predictions[0].token_id)}\"] != {comp_sample.ans_token_id}[\"{mt.tokenizer.decode(comp_sample.ans_token_id)}\"]'\n",
    "            )\n",
    "            return get_composition_samples(\n",
    "                task=task,\n",
    "                mt=mt,\n",
    "                unit_categories=unit_categories,\n",
    "                prompt_template_idx=prompt_template_idx,\n",
    "                option_style=option_style,\n",
    "                filter_by_lm_prediction=filter_by_lm_prediction,\n",
    "                n_distractors=n_distractors,\n",
    "            )\n",
    "        comp_sample.prediction = predictions\n",
    "\n",
    "    return unit_samples, clean_sample, comp_sample\n",
    "\n",
    "\n",
    "unit_samples, clean_sample, comp_sample = get_composition_samples(\n",
    "    task=select_task,\n",
    "    mt=mt,\n",
    "    unit_categories=[\"fruit\", \"vehicle\"],\n",
    "    prompt_template_idx=3,\n",
    "    option_style=\"single_line\",\n",
    "    filter_by_lm_prediction=True,\n",
    "    n_distractors=5,\n",
    ")"
   ]
  },
  {
   "cell_type": "code",
   "execution_count": 126,
   "id": "274252dc",
   "metadata": {},
   "outputs": [],
   "source": [
    "failed_case_idx = 10\n",
    "failed_case = failed_cases[failed_case_idx]\n",
    "unit_samples = failed_case[\"unit_samples\"]\n",
    "clean_sample = failed_case[\"clean_sample\"]\n",
    "comp_sample = failed_case[\"comp_sample\"]"
   ]
  },
  {
   "cell_type": "code",
   "execution_count": 127,
   "id": "d62ba5a7",
   "metadata": {},
   "outputs": [
    {
     "name": "stdout",
     "output_type": "stream",
     "text": [
      "Options: Mouse, Bamboo, Blender, Ottoman, Paper, Watch.\n",
      "Which among these objects mentioned above is a office supply?\n",
      "Answer: >> Paper\n",
      "Options: Mouse, Bamboo, Blender, Ottoman, Paper, Watch.\n",
      "Which among these objects mentioned above is a tree or clothing?\n",
      "Answer: >> Bamboo\n"
     ]
    }
   ],
   "source": [
    "print(clean_sample.prompt(), \">>\", clean_sample.obj)\n",
    "print(comp_sample.prompt(), \">>\", comp_sample.obj)"
   ]
  },
  {
   "cell_type": "code",
   "execution_count": 128,
   "id": "b5eb8b5e",
   "metadata": {},
   "outputs": [
    {
     "name": "stdout",
     "output_type": "stream",
     "text": [
      "Options: Apple, Oak, Gloves, Notebook, Keyboard, Lily.\n",
      "Which among these objects mentioned above is a tree?\n",
      "Answer: >> Oak\n",
      "2025-08-29 18:45:00 src.selection.functional DEBUG    Predictions: ['\" Oak\"[18787] (p=0.688, logit=21.375)', '\" The\"[578] (p=0.093, logit=19.375)', '\" Among\"[22395] (p=0.093, logit=19.375)', '\" An\"[1556] (p=0.034, logit=18.375)', '\" Apple\"[8325] (p=0.030, logit=18.250)']\n",
      "2025-08-29 18:45:00 src.selection.functional INFO     Combined attention matrix for all heads\n"
     ]
    },
    {
     "data": {
      "text/html": [
       "<div id=\"circuits-vis-d4c57039-d652\" style=\"margin: 15px 0;\"/>\n",
       "    <script crossorigin type=\"module\">\n",
       "    import { render, ColoredTokens } from \"https://unpkg.com/circuitsvis@1.43.3/dist/cdn/esm.js\";\n",
       "    render(\n",
       "      \"circuits-vis-d4c57039-d652\",\n",
       "      ColoredTokens,\n",
       "      {\"tokens\": [\"Options\", \":\", \" Apple\", \",\", \" Oak\", \",\", \" Gloves\", \",\", \" Notebook\", \",\", \" Keyboard\", \",\", \" Lily\", \".\\n\", \"Which\", \" among\", \" these\", \" objects\", \" mentioned\", \" above\", \" is\", \" a\", \" tree\", \"?\\n\", \"Answer\", \":\"], \"values\": [0.029305385425686836, 0.00860529113560915, 0.012395660392940044, 0.022305121645331383, 0.10505563765764236, 0.044758040457963943, 0.012273547239601612, 0.01514826063066721, 0.006835410837084055, 0.006005164701491594, 0.006134445779025555, 0.005865488201379776, 0.018166614696383476, 0.030608054250478745, 0.008066813461482525, 0.010163221508264542, 0.01209306064993143, 0.01179361343383789, 0.008613520301878452, 0.006784261669963598, 0.007799456361681223, 0.018596844747662544, 0.07761793583631516, 0.04756986349821091, 0.01588560827076435, 0.05591505020856857]}\n",
       "    )\n",
       "    </script>"
      ],
      "text/plain": [
       "<circuitsvis.utils.render.RenderedHTML at 0x7f0ec578b110>"
      ]
     },
     "metadata": {},
     "output_type": "display_data"
    },
    {
     "name": "stdout",
     "output_type": "stream",
     "text": [
      "Options: Bear, Oven, Shorts, School, Rose, Bat.\n",
      "Which among these objects mentioned above is a clothing?\n",
      "Answer: >> Shorts\n",
      "2025-08-29 18:45:00 src.selection.functional DEBUG    Predictions: ['\" Shorts\"[91782] (p=0.734, logit=20.500)', '\" The\"[578] (p=0.087, logit=18.375)', '\" Among\"[22395] (p=0.060, logit=18.000)', '\" shorts\"[36876] (p=0.022, logit=17.000)', '\" Short\"[10928] (p=0.012, logit=16.375)']\n",
      "2025-08-29 18:45:00 src.selection.functional INFO     Combined attention matrix for all heads\n"
     ]
    },
    {
     "data": {
      "text/html": [
       "<div id=\"circuits-vis-a826b716-9ff8\" style=\"margin: 15px 0;\"/>\n",
       "    <script crossorigin type=\"module\">\n",
       "    import { render, ColoredTokens } from \"https://unpkg.com/circuitsvis@1.43.3/dist/cdn/esm.js\";\n",
       "    render(\n",
       "      \"circuits-vis-a826b716-9ff8\",\n",
       "      ColoredTokens,\n",
       "      {\"tokens\": [\"Options\", \":\", \" Bear\", \",\", \" Oven\", \",\", \" Shorts\", \",\", \" School\", \",\", \" Rose\", \",\", \" Bat\", \".\\n\", \"Which\", \" among\", \" these\", \" objects\", \" mentioned\", \" above\", \" is\", \" a\", \" clothing\", \"?\\n\", \"Answer\", \":\"], \"values\": [0.025903945788741112, 0.008219082839787006, 0.008887932635843754, 0.02228294312953949, 0.011866324581205845, 0.021125303581357002, 0.1386646330356598, 0.03630804270505905, 0.013528652489185333, 0.015335621312260628, 0.014868821948766708, 0.010842885822057724, 0.013920417055487633, 0.020161408931016922, 0.006889169104397297, 0.006426041014492512, 0.010396633297204971, 0.012804129160940647, 0.004252083133906126, 0.003941982053220272, 0.006710347253829241, 0.01213958952575922, 0.07496839016675949, 0.0500994473695755, 0.01493026316165924, 0.050648029893636703]}\n",
       "    )\n",
       "    </script>"
      ],
      "text/plain": [
       "<circuitsvis.utils.render.RenderedHTML at 0x7f33318d40d0>"
      ]
     },
     "metadata": {},
     "output_type": "display_data"
    },
    {
     "name": "stdout",
     "output_type": "stream",
     "text": [
      "Options: Mouse, Bamboo, Blender, Ottoman, Paper, Watch.\n",
      "Which among these objects mentioned above is a office supply?\n",
      "Answer: >> Paper\n",
      "2025-08-29 18:45:01 src.selection.functional DEBUG    Predictions: ['\" Paper\"[18343] (p=0.695, logit=20.125)', '\" Mouse\"[18191] (p=0.107, logit=18.250)', '\" The\"[578] (p=0.051, logit=17.500)', '\" Among\"[22395] (p=0.027, logit=16.875)', '\" Pen\"[13597] (p=0.021, logit=16.625)']\n",
      "2025-08-29 18:45:01 src.selection.functional INFO     Combined attention matrix for all heads\n"
     ]
    },
    {
     "data": {
      "text/html": [
       "<div id=\"circuits-vis-6d931b59-f886\" style=\"margin: 15px 0;\"/>\n",
       "    <script crossorigin type=\"module\">\n",
       "    import { render, ColoredTokens } from \"https://unpkg.com/circuitsvis@1.43.3/dist/cdn/esm.js\";\n",
       "    render(\n",
       "      \"circuits-vis-6d931b59-f886\",\n",
       "      ColoredTokens,\n",
       "      {\"tokens\": [\"Options\", \":\", \" Mouse\", \",\", \" Bamboo\", \",\", \" Blender\", \",\", \" Ottoman\", \",\", \" Paper\", \",\", \" Watch\", \".\\n\", \"Which\", \" among\", \" these\", \" objects\", \" mentioned\", \" above\", \" is\", \" a\", \" office\", \" supply\", \"?\\n\", \"Answer\", \":\"], \"values\": [0.03499867394566536, 0.0058811260387301445, 0.036055661737918854, 0.028283387422561646, 0.024020366370677948, 0.035594645887613297, 0.02447929047048092, 0.020595941692590714, 0.017748495563864708, 0.01087929680943489, 0.07302670925855637, 0.04427880421280861, 0.01642521284520626, 0.020954962819814682, 0.007059433497488499, 0.004905343055725098, 0.012902393937110901, 0.014503858052194118, 0.0049868179485201836, 0.0034803946036845446, 0.006090090144425631, 0.021045684814453125, 0.02852337248623371, 0.06186588108539581, 0.04350544884800911, 0.011266221292316914, 0.05268806219100952]}\n",
       "    )\n",
       "    </script>"
      ],
      "text/plain": [
       "<circuitsvis.utils.render.RenderedHTML at 0x7f0fb5292310>"
      ]
     },
     "metadata": {},
     "output_type": "display_data"
    },
    {
     "name": "stdout",
     "output_type": "stream",
     "text": [
      "Options: Mouse, Bamboo, Blender, Ottoman, Paper, Watch.\n",
      "Which among these objects mentioned above is a tree or clothing?\n",
      "Answer: >> Bamboo\n",
      "2025-08-29 18:45:01 src.selection.functional DEBUG    Predictions: ['\" Bamboo\"[98028] (p=0.539, logit=19.125)', '\" None\"[2290] (p=0.121, logit=17.625)', '\" Ottoman\"[70110] (p=0.083, logit=17.250)', '\" The\"[578] (p=0.044, logit=16.625)', '\" Mouse\"[18191] (p=0.031, logit=16.250)']\n",
      "2025-08-29 18:45:01 src.selection.functional INFO     Combined attention matrix for all heads\n"
     ]
    },
    {
     "data": {
      "text/html": [
       "<div id=\"circuits-vis-de5c375b-b47f\" style=\"margin: 15px 0;\"/>\n",
       "    <script crossorigin type=\"module\">\n",
       "    import { render, ColoredTokens } from \"https://unpkg.com/circuitsvis@1.43.3/dist/cdn/esm.js\";\n",
       "    render(\n",
       "      \"circuits-vis-de5c375b-b47f\",\n",
       "      ColoredTokens,\n",
       "      {\"tokens\": [\"Options\", \":\", \" Mouse\", \",\", \" Bamboo\", \",\", \" Blender\", \",\", \" Ottoman\", \",\", \" Paper\", \",\", \" Watch\", \".\\n\", \"Which\", \" among\", \" these\", \" objects\", \" mentioned\", \" above\", \" is\", \" a\", \" tree\", \" or\", \" clothing\", \"?\\n\", \"Answer\", \":\"], \"values\": [0.025962144136428833, 0.005489997565746307, 0.014742117375135422, 0.012839855626225471, 0.043117523193359375, 0.06396905332803726, 0.012743191793560982, 0.01589975692331791, 0.06780282407999039, 0.022971080616116524, 0.019915996119379997, 0.02204875461757183, 0.011246866546571255, 0.01885692961513996, 0.006951029412448406, 0.005632782820612192, 0.009424414485692978, 0.01042159367352724, 0.004204696509987116, 0.003458430292084813, 0.007068601902574301, 0.013181539252400398, 0.05946565419435501, 0.016131890937685966, 0.0676177591085434, 0.04268064349889755, 0.010016719810664654, 0.05187783017754555]}\n",
       "    )\n",
       "    </script>"
      ],
      "text/plain": [
       "<circuitsvis.utils.render.RenderedHTML at 0x7f0fb50af410>"
      ]
     },
     "metadata": {},
     "output_type": "display_data"
    }
   ],
   "source": [
    "from src.functional import generate_with_patch\n",
    "mt.reset_forward()\n",
    "mt.set_attn_implementation(\"eager\")\n",
    "\n",
    "for sample in unit_samples:\n",
    "    print(sample.prompt(), \">>\", sample.obj)\n",
    "    attn_pattern = verify_head_patterns(\n",
    "        prompt=sample.prompt(),\n",
    "        options=sample.options,\n",
    "        pivot=sample.subj,\n",
    "        mt=mt,\n",
    "        heads=HEADS,\n",
    "        # heads=[(35, 19)],\n",
    "        # generate_full_answer=True,\n",
    "        query_index=-1\n",
    "    )\n",
    "\n",
    "for sample in [clean_sample, comp_sample]:\n",
    "    print(sample.prompt(), \">>\", sample.obj)\n",
    "    attn_pattern = verify_head_patterns(\n",
    "        prompt=sample.prompt(),\n",
    "        options=sample.options,\n",
    "        pivot=sample.subj,\n",
    "        mt=mt,\n",
    "        heads=HEADS,\n",
    "        # heads=[(35, 19)],\n",
    "        # generate_full_answer=True,\n",
    "        query_index=-1\n",
    "    )"
   ]
  },
  {
   "cell_type": "code",
   "execution_count": 129,
   "id": "bfb49ea4",
   "metadata": {},
   "outputs": [],
   "source": [
    "from src.selection.functional import cache_q_projections\n",
    "from src.utils.typing import TokenizerOutput\n",
    "from src.tokens import prepare_input, find_token_range\n",
    "\n",
    "query_indices = {-3: -3, -2: -2, -1: -1}\n",
    "query_locations = [\n",
    "    (layer_idx, head_idx, patch_query_idx)\n",
    "    for layer_idx, head_idx in HEADS\n",
    "    # for layer_idx, head_idx in [(35, 19)]\n",
    "    for patch_query_idx in query_indices.keys()\n",
    "]\n",
    "\n",
    "unit_query_states = []\n",
    "for sample in unit_samples:\n",
    "    if \"tokenized\" in sample.metadata:\n",
    "        tokenized = TokenizerOutput(data=sample.metadata[\"tokenized\"])\n",
    "    else:\n",
    "        tokenized = prepare_input(prompts=sample.prompt(), tokenizer=mt.tokenizer)\n",
    "    unit_query_states.append(\n",
    "        cache_q_projections(\n",
    "            mt=mt,\n",
    "            input=tokenized,\n",
    "            query_locations=query_locations,\n",
    "        )\n",
    "    )"
   ]
  },
  {
   "cell_type": "code",
   "execution_count": 130,
   "id": "4363c11e",
   "metadata": {},
   "outputs": [
    {
     "name": "stdout",
     "output_type": "stream",
     "text": [
      "2025-08-29 18:45:15 src.selection.functional DEBUG    Predictions: ['\" Mouse\"[18191] (p=0.871, logit=20.500)', '\" The\"[578] (p=0.038, logit=17.375)', '\" Bamboo\"[98028] (p=0.012, logit=16.250)', '\" Among\"[22395] (p=0.009, logit=15.875)', '\" A\"[362] (p=0.008, logit=15.812)']\n",
      "2025-08-29 18:45:15 src.selection.functional INFO     Combined attention matrix for all heads\n"
     ]
    },
    {
     "data": {
      "text/html": [
       "<div id=\"circuits-vis-60fd297c-6a90\" style=\"margin: 15px 0;\"/>\n",
       "    <script crossorigin type=\"module\">\n",
       "    import { render, ColoredTokens } from \"https://unpkg.com/circuitsvis@1.43.3/dist/cdn/esm.js\";\n",
       "    render(\n",
       "      \"circuits-vis-60fd297c-6a90\",\n",
       "      ColoredTokens,\n",
       "      {\"tokens\": [\"Options\", \":\", \" Mouse\", \",\", \" Bamboo\", \",\", \" Blender\", \",\", \" Ottoman\", \",\", \" Paper\", \",\", \" Watch\", \".\\n\", \"Which\", \" among\", \" these\", \" objects\", \" mentioned\", \" above\", \" is\", \" a\", \" office\", \" supply\", \"?\\n\", \"Answer\", \":\"], \"values\": [0.007643353659659624, 0.0009917555144056678, 0.005625652149319649, 0.007597341667860746, 0.00414752634242177, 0.035066157579422, 0.0037509691901504993, 0.004382151644676924, 0.016895128414034843, 0.0015667706029489636, 0.0015314993215724826, 0.003563105594366789, 0.002024115761741996, 0.007951340638101101, 0.0009342823759652674, 0.0014709323877468705, 0.0019365885527804494, 0.002045912202447653, 0.0005286891828291118, 0.0003195398021489382, 0.0011991705978289247, 0.0024358071386814117, 0.005430528894066811, 0.009032371453940868, 0.014241693541407585, 0.003860865719616413, 0.021142611280083656]}\n",
       "    )\n",
       "    </script>"
      ],
      "text/plain": [
       "<circuitsvis.utils.render.RenderedHTML at 0x7f0fb52abdd0>"
      ]
     },
     "metadata": {},
     "output_type": "display_data"
    }
   ],
   "source": [
    "from src.functional import PatchSpec\n",
    "combined_q_proj_patches = []\n",
    "\n",
    "for layer_idx, head_idx, query_idx in unit_query_states[0]:\n",
    "    proj = torch.stack([\n",
    "        query_state[(layer_idx, head_idx, query_idx)] for query_state in unit_query_states\n",
    "    ]).squeeze().sum(dim=0)\n",
    "    combined_q_proj_patches.append(\n",
    "        PatchSpec(\n",
    "            location=(\n",
    "                mt.attn_module_name_format.format(layer_idx) + \".q_proj\",\n",
    "                head_idx,\n",
    "                query_idx,\n",
    "            ),\n",
    "            patch=proj,\n",
    "        )\n",
    "    )\n",
    "\n",
    "comp_attn = verify_head_patterns(\n",
    "    prompt=clean_sample.prompt(),\n",
    "    mt=mt,\n",
    "    heads=HEADS,\n",
    "    # heads=[(35, 19)],\n",
    "    # generate_full_answer=True,\n",
    "    query_index=-1,\n",
    "    query_patches=combined_q_proj_patches,\n",
    ")"
   ]
  },
  {
   "cell_type": "code",
   "execution_count": 131,
   "id": "9d9e91aa",
   "metadata": {},
   "outputs": [
    {
     "data": {
      "text/plain": [
       "([PredictedToken(token=' Mouse', prob=0.87109375, logit=20.5, token_id=18191, metadata=None),\n",
       "  PredictedToken(token=' The', prob=0.038330078125, logit=17.375, token_id=578, metadata=None),\n",
       "  PredictedToken(token=' Bamboo', prob=0.01239013671875, logit=16.25, token_id=98028, metadata=None),\n",
       "  PredictedToken(token=' Among', prob=0.008544921875, logit=15.875, token_id=22395, metadata=None),\n",
       "  PredictedToken(token=' A', prob=0.00799560546875, logit=15.8125, token_id=362, metadata=None)],\n",
       " OrderedDict([(18191,\n",
       "               (1,\n",
       "                PredictedToken(token=' Mouse', prob=0.87109375, logit=20.5, token_id=18191, metadata=None))),\n",
       "              (98028,\n",
       "               (3,\n",
       "                PredictedToken(token=' Bamboo', prob=0.01239013671875, logit=16.25, token_id=98028, metadata=None))),\n",
       "              (18343,\n",
       "               (51,\n",
       "                PredictedToken(token=' Paper', prob=0.000213623046875, logit=12.1875, token_id=18343, metadata=None))),\n",
       "              (88668,\n",
       "               (63,\n",
       "                PredictedToken(token=' Blender', prob=0.000156402587890625, logit=11.875, token_id=88668, metadata=None))),\n",
       "              (10573,\n",
       "               (61,\n",
       "                PredictedToken(token=' Watch', prob=0.000156402587890625, logit=11.875, token_id=10573, metadata=None))),\n",
       "              (70110,\n",
       "               (79,\n",
       "                PredictedToken(token=' Ottoman', prob=0.00011444091796875, logit=11.5625, token_id=70110, metadata=None)))]))"
      ]
     },
     "execution_count": 131,
     "metadata": {},
     "output_type": "execute_result"
    }
   ],
   "source": [
    "failed_case[\"patched_pred\"], failed_case[\"patched_track\"]"
   ]
  },
  {
   "cell_type": "code",
   "execution_count": 132,
   "id": "646de0bc",
   "metadata": {},
   "outputs": [
    {
     "data": {
      "text/plain": [
       "([PredictedToken(token=' Paper', prob=0.6953125, logit=20.125, token_id=18343, metadata=None),\n",
       "  PredictedToken(token=' Mouse', prob=0.10693359375, logit=18.25, token_id=18191, metadata=None),\n",
       "  PredictedToken(token=' The', prob=0.050537109375, logit=17.5, token_id=578, metadata=None),\n",
       "  PredictedToken(token=' Among', prob=0.0269775390625, logit=16.875, token_id=22395, metadata=None),\n",
       "  PredictedToken(token=' Pen', prob=0.02099609375, logit=16.625, token_id=13597, metadata=None)],\n",
       " OrderedDict([(18343,\n",
       "               (1,\n",
       "                PredictedToken(token=' Paper', prob=0.6953125, logit=20.125, token_id=18343, metadata=None))),\n",
       "              (18191,\n",
       "               (2,\n",
       "                PredictedToken(token=' Mouse', prob=0.10693359375, logit=18.25, token_id=18191, metadata=None))),\n",
       "              (98028,\n",
       "               (9,\n",
       "                PredictedToken(token=' Bamboo', prob=0.0050048828125, logit=15.1875, token_id=98028, metadata=None))),\n",
       "              (10573,\n",
       "               (24,\n",
       "                PredictedToken(token=' Watch', prob=0.00118255615234375, logit=13.75, token_id=10573, metadata=None))),\n",
       "              (88668,\n",
       "               (28,\n",
       "                PredictedToken(token=' Blender', prob=0.000766754150390625, logit=13.3125, token_id=88668, metadata=None))),\n",
       "              (70110,\n",
       "               (183,\n",
       "                PredictedToken(token=' Ottoman', prob=2.7894973754882812e-05, logit=10.0, token_id=70110, metadata=None)))]))"
      ]
     },
     "execution_count": 132,
     "metadata": {},
     "output_type": "execute_result"
    }
   ],
   "source": [
    "failed_case[\"clean_pred\"], failed_case[\"clean_track\"]"
   ]
  },
  {
   "cell_type": "markdown",
   "id": "cf5e7e61",
   "metadata": {},
   "source": [
    "## Scale Up"
   ]
  },
  {
   "cell_type": "code",
   "execution_count": 121,
   "id": "4a760f23",
   "metadata": {},
   "outputs": [
    {
     "data": {
      "text/plain": [
       "['sport equipment', 'jewelry']"
      ]
     },
     "execution_count": 121,
     "metadata": {},
     "output_type": "execute_result"
    }
   ],
   "source": [
    "random.sample(select_task.categories, 2)"
   ]
  },
  {
   "cell_type": "code",
   "execution_count": null,
   "id": "4034871c",
   "metadata": {},
   "outputs": [
    {
     "name": "stdout",
     "output_type": "stream",
     "text": [
      "2025-08-29 18:43:51 __main__ DEBUG    Options: Motorcycle, Pin, Eagle, Pen, Drum, Willow.\n",
      "Which among these objects mentioned above is a flower or jewelry?\n",
      "Answer:\n",
      "2025-08-29 18:43:51 __main__ DEBUG    Tape | flower or jewelry -> Pin | pred=['\" Pin\"[17929] (p=0.293, logit=18.250)', '\" Willow\"[65449] (p=0.139, logit=17.500)', '\" None\"[2290] (p=0.095, logit=17.125)', '\" The\"[578] (p=0.095, logit=17.125)', '\" Pen\"[13597] (p=0.065, logit=16.750)']\n",
      "2025-08-29 18:43:52 __main__ DEBUG    Options: Cabinet, Mixer, Folder, Elm, Piano, Tie.\n",
      "Which among these objects mentioned above is a kitchen appliance or electronics?\n",
      "Answer:\n",
      "2025-08-29 18:43:52 __main__ DEBUG    Drum | kitchen appliance or electronics -> Mixer | pred=['\" Mixer\"[72392] (p=0.719, logit=20.250)', '\" The\"[578] (p=0.086, logit=18.125)', '\" A\"[362] (p=0.067, logit=17.875)', '\" Among\"[22395] (p=0.031, logit=17.125)', '\" Cabinet\"[34046] (p=0.015, logit=16.375)']\n",
      "2025-08-29 18:43:52 __main__ DEBUG    Options: Pin, Baseball, Paper, Pepper, Train, Toilet.\n",
      "Which among these objects mentioned above is a office supply or animal?\n",
      "Answer:\n",
      "2025-08-29 18:43:52 __main__ DEBUG    Helmet | office supply or animal -> Paper | pred=['\" Pin\"[17929] (p=0.543, logit=19.625)', '\" Paper\"[18343] (p=0.227, logit=18.750)', '\" None\"[2290] (p=0.057, logit=17.375)', '\" The\"[578] (p=0.045, logit=17.125)', '\" A\"[362] (p=0.021, logit=16.375)']\n",
      "2025-08-29 18:43:52 __main__ ERROR    Prediction mismatch: (1, PredictedToken(token=' Pin', prob=0.54296875, logit=19.625, token_id=17929, metadata=None))[\" Pin\"] != 38258[\" Baseball\"]\n",
      "2025-08-29 18:43:53 __main__ DEBUG    Options: Sofa, Toilet, Monitor, Notebook, Pendant, Potato.\n",
      "Which among these objects mentioned above is a office supply or animal?\n",
      "Answer:\n",
      "2025-08-29 18:43:53 __main__ DEBUG    Keyboard | office supply or animal -> Notebook | pred=['\" None\"[2290] (p=0.398, logit=18.375)', '\" Notebook\"[69755] (p=0.311, logit=18.125)', '\" Monitor\"[24423] (p=0.037, logit=16.000)', '\" The\"[578] (p=0.037, logit=16.000)', '\" A\"[362] (p=0.027, logit=15.688)']\n",
      "2025-08-29 18:43:54 __main__ DEBUG    Options: Sheep, Blender, Mango, Toilet, Potato, Elm.\n",
      "Which among these objects mentioned above is a flower or kitchen appliance?\n",
      "Answer:\n",
      "2025-08-29 18:43:54 __main__ DEBUG    Plum | flower or kitchen appliance -> Blender | pred=['\" Blender\"[88668] (p=0.867, logit=20.750)', '\" The\"[578] (p=0.026, logit=17.250)', '\" Mango\"[91963] (p=0.018, logit=16.875)', '\" A\"[362] (p=0.016, logit=16.750)', '\" Among\"[22395] (p=0.014, logit=16.625)']\n",
      "2025-08-29 18:43:54 __main__ DEBUG    Options: Paper, Rose, Necklace, Potato, Van, Bamboo.\n",
      "Which among these objects mentioned above is a furniture or vegetable?\n",
      "Answer:\n",
      "2025-08-29 18:43:54 __main__ DEBUG    Bus | furniture or vegetable -> Potato | pred=['\" Potato\"[78703] (p=0.535, logit=19.750)', '\" Bamboo\"[98028] (p=0.174, logit=18.625)', '\" The\"[578] (p=0.050, logit=17.375)', '\" Paper\"[18343] (p=0.039, logit=17.125)', '\" Among\"[22395] (p=0.034, logit=17.000)']\n",
      "2025-08-29 18:43:55 __main__ DEBUG    Options: Necklace, Notebook, Tiger, Potato, Temple, Microwave.\n",
      "Which among these objects mentioned above is a kitchen appliance or sport equipment?\n",
      "Answer:\n",
      "2025-08-29 18:43:55 __main__ DEBUG    Tomato | kitchen appliance or sport equipment -> Microwave | pred=['\" Microwave\"[98641] (p=0.852, logit=21.000)', '\" Among\"[22395] (p=0.042, logit=18.000)', '\" The\"[578] (p=0.042, logit=18.000)', '\" A\"[362] (p=0.016, logit=17.000)', '\" Necklace\"[86460] (p=0.004, logit=15.625)']\n",
      "2025-08-29 18:43:56 __main__ DEBUG    Options: Table, Folder, Rose, Tablet, Plum, Elephant.\n",
      "Which among these objects mentioned above is a clothing or office supply?\n",
      "Answer:\n",
      "2025-08-29 18:43:56 __main__ DEBUG    Chair | clothing or office supply -> Folder | pred=['\" Folder\"[36943] (p=0.633, logit=19.875)', '\" Table\"[6771] (p=0.097, logit=18.000)', '\" The\"[578] (p=0.066, logit=17.625)', '\" Tablet\"[58403] (p=0.036, logit=17.000)', '\" A\"[362] (p=0.031, logit=16.875)']\n",
      "2025-08-29 18:43:56 __main__ DEBUG    Options: Drum, Jacket, Chain, Dolphin, Daisy, Ottoman.\n",
      "Which among these objects mentioned above is a office supply or animal?\n",
      "Answer:\n",
      "2025-08-29 18:43:56 __main__ DEBUG    Jeans | office supply or animal -> Dolphin | pred=['\" Dolphin\"[96096] (p=0.582, logit=19.375)', '\" Chain\"[29625] (p=0.167, logit=18.125)', '\" Drum\"[46506] (p=0.048, logit=16.875)', '\" The\"[578] (p=0.037, logit=16.625)', '\" None\"[2290] (p=0.023, logit=16.125)']\n",
      "2025-08-29 18:43:57 __main__ DEBUG    Options: Tomato, Piano, Dress, Toilet, Birch, Mixer.\n",
      "Which among these objects mentioned above is a kitchen appliance or furniture?\n",
      "Answer:\n",
      "2025-08-29 18:43:57 __main__ DEBUG    Gloves | kitchen appliance or furniture -> Mixer | pred=['\" Mixer\"[72392] (p=0.441, logit=19.000)', '\" The\"[578] (p=0.144, logit=17.875)', '\" Among\"[22395] (p=0.087, logit=17.375)', '\" A\"[362] (p=0.077, logit=17.250)', '\" Toilet\"[82994] (p=0.032, logit=16.375)']\n",
      "2025-08-29 18:43:58 __main__ DEBUG    Options: Helmet, Strawberry, Van, Piano, Ring, Jeans.\n",
      "Which among these objects mentioned above is a animal or sport equipment?\n",
      "Answer:\n",
      "2025-08-29 18:43:58 __main__ DEBUG    Drum | animal or sport equipment -> Helmet | pred=['\" None\"[2290] (p=0.641, logit=19.875)', '\" Helmet\"[67629] (p=0.236, logit=18.875)', '\" There\"[2684] (p=0.017, logit=16.250)', '\" The\"[578] (p=0.013, logit=16.000)', '\" A\"[362] (p=0.011, logit=15.812)']\n",
      "2025-08-29 18:43:58 __main__ DEBUG    Options: Iris, Cat, Orange, Tape, Library, Football.\n",
      "Which among these objects mentioned above is a fruit or kitchen appliance?\n",
      "Answer:\n",
      "2025-08-29 18:43:58 __main__ DEBUG    Paper | fruit or kitchen appliance -> Orange | pred=['\" Orange\"[22725] (p=0.898, logit=22.250)', '\" The\"[578] (p=0.035, logit=19.000)', '\" Among\"[22395] (p=0.024, logit=18.625)', '\" An\"[1556] (p=0.009, logit=17.625)', '\" Only\"[8442] (p=0.005, logit=17.125)']\n",
      "2025-08-29 18:43:59 __main__ DEBUG    Options: Bus, Ring, Raspberry, House, Rose, Piano.\n",
      "Which among these objects mentioned above is a fruit or tree?\n",
      "Answer:\n",
      "2025-08-29 18:43:59 __main__ DEBUG    Drum | fruit or tree -> Raspberry | pred=['\" Raspberry\"[48665] (p=0.410, logit=19.125)', '\" The\"[578] (p=0.133, logit=18.000)', '\" Among\"[22395] (p=0.104, logit=17.750)', '\" Rose\"[16344] (p=0.049, logit=17.000)', '\" Ring\"[22249] (p=0.043, logit=16.875)']\n",
      "2025-08-29 18:44:00 __main__ DEBUG    Options: Rabbit, Piano, Blender, Keyboard, Bench, Football.\n",
      "Which among these objects mentioned above is a music instrument or fruit?\n",
      "Answer:\n",
      "2025-08-29 18:44:00 __main__ DEBUG    Eagle | music instrument or fruit -> Piano | pred=['\" Piano\"[56491] (p=0.451, logit=19.125)', '\" The\"[578] (p=0.146, logit=18.000)', '\" Among\"[22395] (p=0.069, logit=17.250)', '\" There\"[2684] (p=0.047, logit=16.875)', '\" Keyboard\"[26698] (p=0.042, logit=16.750)']\n",
      "2025-08-29 18:44:00 __main__ DEBUG    Options: Mango, Gloves, Car, Violet, Factory, Charm.\n",
      "Which among these objects mentioned above is a fruit or tree?\n",
      "Answer:\n",
      "2025-08-29 18:44:00 __main__ DEBUG    Jasmine | fruit or tree -> Mango | pred=['\" Mango\"[91963] (p=0.855, logit=21.250)', '\" The\"[578] (p=0.043, logit=18.250)', '\" Among\"[22395] (p=0.038, logit=18.125)', '\" M\"[386] (p=0.008, logit=16.625)', '\" A\"[362] (p=0.007, logit=16.375)']\n",
      "2025-08-29 18:44:01 __main__ DEBUG    Options: Pine, Monitor, Piano, Oven, Violet, Mirror.\n",
      "Which among these objects mentioned above is a music instrument or building?\n",
      "Answer:\n",
      "2025-08-29 18:44:01 __main__ DEBUG    Blender | music instrument or building -> Piano | pred=['\" Piano\"[56491] (p=0.777, logit=19.625)', '\" The\"[578] (p=0.050, logit=16.875)', '\" Pine\"[42609] (p=0.030, logit=16.375)', '\" P\"[393] (p=0.026, logit=16.250)', '\" A\"[362] (p=0.021, logit=16.000)']\n",
      "2025-08-29 18:44:02 __main__ DEBUG    Options: Sofa, Van, Comb, Football, Mixer, Tiger.\n",
      "Which among these objects mentioned above is a building or bathroom item?\n",
      "Answer:\n",
      "2025-08-29 18:44:02 __main__ DEBUG    Eagle | building or bathroom item -> Comb | pred=['\" Comb\"[23262] (p=0.408, logit=18.875)', '\" None\"[2290] (p=0.219, logit=18.250)', '\" Mixer\"[72392] (p=0.133, logit=17.750)', '\" Van\"[13000] (p=0.038, logit=16.500)', '\" The\"[578] (p=0.033, logit=16.375)']\n",
      "2025-08-29 18:44:02 __main__ DEBUG    Options: Charm, Stadium, Elm, Blender, Sink, Boat.\n",
      "Which among these objects mentioned above is a tree or fruit?\n",
      "Answer:\n",
      "2025-08-29 18:44:02 __main__ DEBUG    Hospital | tree or fruit -> Elm | pred=['\" Elm\"[65329] (p=0.852, logit=20.750)', '\" The\"[578] (p=0.042, logit=17.750)', '\" Among\"[22395] (p=0.029, logit=17.375)', '\" None\"[2290] (p=0.006, logit=15.812)', '\" An\"[1556] (p=0.004, logit=15.500)']\n",
      "2025-08-29 18:44:03 __main__ DEBUG    Options: Marker, Microwave, Soap, Church, Drum, Oak.\n",
      "Which among these objects mentioned above is a bathroom item or fruit?\n",
      "Answer:\n",
      "2025-08-29 18:44:03 __main__ DEBUG    Piano | bathroom item or fruit -> Soap | pred=['\" Soap\"[61731] (p=0.883, logit=20.750)', '\" The\"[578] (p=0.023, logit=17.125)', '\" SOAP\"[64332] (p=0.014, logit=16.625)', '\" Among\"[22395] (p=0.014, logit=16.625)', '\" Marker\"[40975] (p=0.009, logit=16.125)']\n",
      "2025-08-29 18:44:04 __main__ DEBUG    Options: Mouse, Bamboo, Blender, Ottoman, Paper, Watch.\n",
      "Which among these objects mentioned above is a tree or clothing?\n",
      "Answer:\n",
      "2025-08-29 18:44:04 __main__ DEBUG    Tape | tree or clothing -> Bamboo | pred=['\" Bamboo\"[98028] (p=0.539, logit=19.125)', '\" None\"[2290] (p=0.121, logit=17.625)', '\" Ottoman\"[70110] (p=0.083, logit=17.250)', '\" The\"[578] (p=0.044, logit=16.625)', '\" Mouse\"[18191] (p=0.031, logit=16.250)']\n",
      "2025-08-29 18:44:04 __main__ DEBUG    Options: House, Bed, Comb, Oak, Car, Dolphin.\n",
      "Which among these objects mentioned above is a building or clothing?\n",
      "Answer:\n",
      "2025-08-29 18:44:04 __main__ DEBUG    Pine | building or clothing -> House | pred=['\" House\"[4783] (p=0.797, logit=21.500)', '\" The\"[578] (p=0.045, logit=18.625)', '\" A\"[362] (p=0.040, logit=18.500)', '\" Among\"[22395] (p=0.035, logit=18.375)', '\" None\"[2290] (p=0.015, logit=17.500)']\n"
     ]
    }
   ],
   "source": [
    "#########################################\n",
    "LIMIT = 20\n",
    "#########################################\n",
    "\n",
    "test_set = []\n",
    "while len(test_set) < LIMIT:\n",
    "    unit_samples, clean_sample, comp_sample = get_composition_samples(\n",
    "        task=select_task,\n",
    "        mt=mt,\n",
    "        unit_categories=random.sample(select_task.categories, 2),\n",
    "        prompt_template_idx=3,\n",
    "        option_style=\"single_line\",\n",
    "        filter_by_lm_prediction=True,\n",
    "        n_distractors=5,\n",
    "    )\n",
    "    test_set.append((unit_samples, clean_sample, comp_sample))"
   ]
  },
  {
   "cell_type": "code",
   "execution_count": 123,
   "id": "16b55e8b",
   "metadata": {},
   "outputs": [
    {
     "data": {
      "application/vnd.jupyter.widget-view+json": {
       "model_id": "0ef894bc51a942dba9f223b1a5fab485",
       "version_major": 2,
       "version_minor": 0
      },
      "text/plain": [
       "  0%|          | 0/20 [00:00<?, ?it/s]"
      ]
     },
     "metadata": {},
     "output_type": "display_data"
    }
   ],
   "source": [
    "from tqdm.auto import tqdm\n",
    "from src.functional import patch_with_baukit, interpret_logits\n",
    "from src.selection.utils import get_first_token_id\n",
    "\n",
    "query_indices = {-3: -3, -2: -2, -1: -1}\n",
    "query_locations = [\n",
    "    (layer_idx, head_idx, patch_query_idx)\n",
    "    for layer_idx, head_idx in HEADS\n",
    "    for patch_query_idx in query_indices.keys()\n",
    "]\n",
    "\n",
    "test_results = []\n",
    "for unit_samples, clean_sample, comp_sample in tqdm(test_set):\n",
    "    clean_obj = get_first_token_id(clean_sample.obj, tokenizer=mt.tokenizer)\n",
    "    target_obj = get_first_token_id(comp_sample.obj, tokenizer=mt.tokenizer)\n",
    "\n",
    "    unit_query_states = []\n",
    "    for sample in unit_samples:\n",
    "        if \"tokenized\" in sample.metadata:\n",
    "            tokenized = TokenizerOutput(data=sample.metadata[\"tokenized\"])\n",
    "        else:\n",
    "            tokenized = prepare_input(prompts=sample.prompt(), tokenizer=mt.tokenizer)\n",
    "        unit_query_states.append(\n",
    "            cache_q_projections(\n",
    "                mt=mt,\n",
    "                input=tokenized,\n",
    "                query_locations=query_locations,\n",
    "            )\n",
    "        )\n",
    "\n",
    "    inputs = TokenizerOutput(data=clean_sample.metadata[\"tokenized\"])\n",
    "    interested_tokens = [\n",
    "        get_first_token_id(option, mt.tokenizer) for option in clean_sample.options\n",
    "    ]\n",
    "\n",
    "    # clean_run\n",
    "    clean_output = patch_with_baukit(\n",
    "        mt=mt,\n",
    "        inputs=inputs,\n",
    "    )\n",
    "    clean_logits = clean_output.logits[:, -1, :]\n",
    "    clean_pred, clean_track = interpret_logits(\n",
    "        tokenizer=mt.tokenizer, logits=clean_logits, interested_tokens=interested_tokens\n",
    "    )\n",
    "    before_intervention = {\n",
    "        \"clean_rank\": clean_track[clean_obj][0],\n",
    "        \"clean_logit\": clean_track[clean_obj][1].logit,\n",
    "        \"target_rank\": clean_track[target_obj][0],\n",
    "        \"target_logit\": clean_track[target_obj][1].logit,\n",
    "    }\n",
    "\n",
    "    # patched run\n",
    "\n",
    "    combined_q_proj_patches = []\n",
    "\n",
    "    for layer_idx, head_idx, query_idx in unit_query_states[0]:\n",
    "        proj = (\n",
    "            torch.stack(\n",
    "                [\n",
    "                    query_state[(layer_idx, head_idx, query_idx)]\n",
    "                    for query_state in unit_query_states\n",
    "                ]\n",
    "            )\n",
    "            .squeeze()\n",
    "            .sum(dim=0)\n",
    "        )\n",
    "        combined_q_proj_patches.append(\n",
    "            PatchSpec(\n",
    "                location=(\n",
    "                    mt.attn_module_name_format.format(layer_idx) + \".q_proj\",\n",
    "                    head_idx,\n",
    "                    query_idx,\n",
    "                ),\n",
    "                patch=proj,\n",
    "            )\n",
    "        )\n",
    "        \n",
    "    patched_output = patch_with_baukit(\n",
    "        mt=mt,\n",
    "        inputs=inputs,\n",
    "        patches=combined_q_proj_patches,\n",
    "    )\n",
    "    patched_logits = patched_output.logits[:, -1, :]\n",
    "    patched_pred, patched_track = interpret_logits(\n",
    "        tokenizer=mt.tokenizer,\n",
    "        logits=patched_logits,\n",
    "        interested_tokens=interested_tokens,\n",
    "    )\n",
    "    after_intervention = {\n",
    "        \"clean_rank\": patched_track[clean_obj][0],\n",
    "        \"clean_logit\": patched_track[clean_obj][1].logit,\n",
    "        \"target_rank\": patched_track[target_obj][0],\n",
    "        \"target_logit\": patched_track[target_obj][1].logit,\n",
    "    }\n",
    "\n",
    "    test_results.append(\n",
    "        {\n",
    "            \"unit_samples\": unit_samples,\n",
    "            \"clean_sample\": clean_sample,\n",
    "            \"comp_sample\": comp_sample,\n",
    "            \"before_intervention\": before_intervention,\n",
    "            \"after_intervention\": after_intervention,\n",
    "            \"clean_pred\": clean_pred,\n",
    "            \"clean_track\": clean_track,\n",
    "            \"patched_pred\": patched_pred,\n",
    "            \"patched_track\": patched_track,\n",
    "        }\n",
    "    )"
   ]
  },
  {
   "cell_type": "code",
   "execution_count": 125,
   "id": "9fe69b2b",
   "metadata": {},
   "outputs": [
    {
     "name": "stdout",
     "output_type": "stream",
     "text": [
      "clean_rank_delta: 65.6500 ± 111.7123\n",
      "target_rank_delta: -114.6000 ± 242.6014\n",
      "clean_rank_after_intervention: 66.6500 ± 111.7123\n",
      "target_rank_after_intervention: 44.7000 ± 120.2756\n",
      "====================================================================================================\n",
      "clean_logit_delta: -7.4188 ± 3.0543\n",
      "target_logit_delta: 5.7313 ± 5.2487\n",
      "clean_logit_after_intervention: 14.0437 ± 2.8724\n",
      "target_logit_after_intervention: 17.8406 ± 4.0857\n",
      "====================================================================================================\n",
      "Counterfactual patching accuracy: 0.4500 (9/20)\n"
     ]
    }
   ],
   "source": [
    "import numpy as np\n",
    "\n",
    "clean_rank_delta = []\n",
    "target_rank_delta = []\n",
    "for result in test_results:\n",
    "    clean_rank_delta.append(result[\"after_intervention\"][\"clean_rank\"] - result[\"before_intervention\"][\"clean_rank\"])\n",
    "    target_rank_delta.append(result[\"after_intervention\"][\"target_rank\"] - result[\"before_intervention\"][\"target_rank\"])\n",
    "\n",
    "clean_rank_delta = np.array(clean_rank_delta)\n",
    "target_rank_delta = np.array(target_rank_delta)\n",
    "print(f\"clean_rank_delta: {clean_rank_delta.mean():.4f} ± {clean_rank_delta.std():.4f}\")\n",
    "print(\n",
    "    f\"target_rank_delta: {target_rank_delta.mean():.4f} ± {target_rank_delta.std():.4f}\"\n",
    ")\n",
    "\n",
    "clean_rank_after_intervention = [result[\"after_intervention\"][\"clean_rank\"] for result in test_results]\n",
    "clean_rank_after_intervention = np.array(clean_rank_after_intervention)\n",
    "print(\n",
    "    f\"clean_rank_after_intervention: {clean_rank_after_intervention.mean():.4f} ± {clean_rank_after_intervention.std():.4f}\"\n",
    ")\n",
    "\n",
    "target_rank_after_intervention = [result[\"after_intervention\"][\"target_rank\"] for result in test_results]\n",
    "target_rank_after_intervention = np.array(target_rank_after_intervention)\n",
    "print(\n",
    "    f\"target_rank_after_intervention: {target_rank_after_intervention.mean():.4f} ± {target_rank_after_intervention.std():.4f}\"\n",
    ")\n",
    "\n",
    "print(\"=\"*100)\n",
    "\n",
    "clean_logit_delta = []\n",
    "target_logit_delta = []\n",
    "for result in test_results:\n",
    "    clean_logit_delta.append(result[\"after_intervention\"][\"clean_logit\"] - result[\"before_intervention\"][\"clean_logit\"])\n",
    "    target_logit_delta.append(result[\"after_intervention\"][\"target_logit\"] - result[\"before_intervention\"][\"target_logit\"])\n",
    "\n",
    "clean_logit_delta, target_logit_delta = np.array(clean_logit_delta), np.array(target_logit_delta)\n",
    "print(f\"clean_logit_delta: {clean_logit_delta.mean():.4f} ± {clean_logit_delta.std():.4f}\")\n",
    "print(f\"target_logit_delta: {target_logit_delta.mean():.4f} ± {target_logit_delta.std():.4f}\")\n",
    "\n",
    "clean_logit_after_intervention = [result[\"after_intervention\"][\"clean_logit\"] for result in test_results]\n",
    "clean_logit_after_intervention = np.array(clean_logit_after_intervention)\n",
    "print(f\"clean_logit_after_intervention: {clean_logit_after_intervention.mean():.4f} ± {clean_logit_after_intervention.std():.4f}\")\n",
    "\n",
    "target_logit_after_intervention = [\n",
    "    result[\"after_intervention\"][\"target_logit\"] for result in test_results\n",
    "]\n",
    "target_logit_after_intervention = np.array(target_logit_after_intervention)\n",
    "print(f\"target_logit_after_intervention: {target_logit_after_intervention.mean():.4f} ± {target_logit_after_intervention.std():.4f}\")\n",
    "\n",
    "print(\"=\"*100)\n",
    "\n",
    "counter_patch_type_top_option = 0\n",
    "failed_cases = []\n",
    "\n",
    "for intervention_result in test_results:\n",
    "    clean_sample = intervention_result[\"clean_sample\"]\n",
    "    comp_sample = intervention_result[\"comp_sample\"]\n",
    "    int_track = intervention_result[\"patched_track\"]\n",
    "    clean_track = intervention_result[\"clean_track\"]\n",
    "    if (\n",
    "        int_track[list(int_track.keys())[0]][1].token_id\n",
    "        == get_first_token_id(comp_sample.obj, tokenizer=mt.tokenizer)\n",
    "    ): \n",
    "        counter_patch_type_top_option += 1\n",
    "    else:\n",
    "        failed_cases.append(intervention_result)\n",
    "\n",
    "top_1_accuracy = counter_patch_type_top_option / len(test_results)\n",
    "print(\n",
    "    f\"Counterfactual patching accuracy: {top_1_accuracy:.4f} ({counter_patch_type_top_option}/{len(test_results)})\"\n",
    ")"
   ]
  },
  {
   "cell_type": "code",
   "execution_count": null,
   "id": "a12727c8",
   "metadata": {},
   "outputs": [],
   "source": []
  }
 ],
 "metadata": {
  "kernelspec": {
   "display_name": "connection",
   "language": "python",
   "name": "python3"
  },
  "language_info": {
   "codemirror_mode": {
    "name": "ipython",
    "version": 3
   },
   "file_extension": ".py",
   "mimetype": "text/x-python",
   "name": "python",
   "nbconvert_exporter": "python",
   "pygments_lexer": "ipython3",
   "version": "3.11.11"
  }
 },
 "nbformat": 4,
 "nbformat_minor": 5
}
