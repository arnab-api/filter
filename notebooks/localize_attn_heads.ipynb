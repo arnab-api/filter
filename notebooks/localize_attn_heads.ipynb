{
 "cells": [
  {
   "cell_type": "code",
   "execution_count": 1,
   "metadata": {},
   "outputs": [],
   "source": [
    "%load_ext autoreload\n",
    "%autoreload 2"
   ]
  },
  {
   "cell_type": "code",
   "execution_count": 2,
   "metadata": {},
   "outputs": [
    {
     "name": "stderr",
     "output_type": "stream",
     "text": [
      "/home/local_arnab/miniconda3/envs/retrieval/lib/python3.11/site-packages/tqdm/auto.py:21: TqdmWarning: IProgress not found. Please update jupyter and ipywidgets. See https://ipywidgets.readthedocs.io/en/stable/user_install.html\n",
      "  from .autonotebook import tqdm as notebook_tqdm\n"
     ]
    },
    {
     "name": "stdout",
     "output_type": "stream",
     "text": [
      "2024-06-19 15:45:08 __main__ INFO     torch.__version__='2.3.1', torch.version.cuda='12.1'\n",
      "2024-06-19 15:45:08 __main__ INFO     torch.cuda.is_available()=True, torch.cuda.device_count()=1, torch.cuda.get_device_name()='NVIDIA RTX A6000'\n",
      "2024-06-19 15:45:08 __main__ INFO     transformers.__version__='4.41.2'\n"
     ]
    }
   ],
   "source": [
    "import sys\n",
    "sys.path.append(\"../\")\n",
    "import os\n",
    "\n",
    "import logging\n",
    "from src.utils import logging_utils\n",
    "from src.utils import env_utils\n",
    "from src import functional\n",
    "\n",
    "logger = logging.getLogger(__name__)\n",
    "\n",
    "logging.basicConfig(\n",
    "    level=logging.DEBUG,\n",
    "    format=logging_utils.DEFAULT_FORMAT,\n",
    "    datefmt=logging_utils.DEFAULT_DATEFMT,\n",
    "    stream=sys.stdout,\n",
    ")\n",
    "\n",
    "import torch\n",
    "import transformers\n",
    "\n",
    "logger.info(f\"{torch.__version__=}, {torch.version.cuda=}\")\n",
    "logger.info(f\"{torch.cuda.is_available()=}, {torch.cuda.device_count()=}, {torch.cuda.get_device_name()=}\")\n",
    "logger.info(f\"{transformers.__version__=}\")"
   ]
  },
  {
   "cell_type": "code",
   "execution_count": 3,
   "metadata": {},
   "outputs": [
    {
     "name": "stderr",
     "output_type": "stream",
     "text": [
      "Special tokens have been added in the vocabulary, make sure the associated word embeddings are fine-tuned or trained.\n"
     ]
    },
    {
     "name": "stdout",
     "output_type": "stream",
     "text": [
      "2024-06-19 15:45:10 accelerate.utils.modeling INFO     We will use 90% of the memory on device 0 for storing the model, and 10% for the buffer to avoid OOM. You can set `max_memory` in to a higher value to use more memory (at your own risk).\n"
     ]
    },
    {
     "name": "stderr",
     "output_type": "stream",
     "text": [
      "Loading checkpoint shards: 100%|██████████| 4/4 [00:04<00:00,  1.14s/it]"
     ]
    },
    {
     "name": "stdout",
     "output_type": "stream",
     "text": [
      "2024-06-19 15:45:14 src.models INFO     loaded model </home/local_arnab/Codes/saved_model_weights/meta-llama/Meta-Llama-3-8B> | size: 15316.516 MB | dtype: torch.float16 | device: cuda:0\n"
     ]
    },
    {
     "name": "stderr",
     "output_type": "stream",
     "text": [
      "\n"
     ]
    }
   ],
   "source": [
    "from nnsight import LanguageModel\n",
    "from src.models import ModelandTokenizer\n",
    "\n",
    "mt = ModelandTokenizer(\n",
    "    model_key=\"meta-llama/Meta-Llama-3-8B\",\n",
    "    torch_dtype=torch.float16,\n",
    ")"
   ]
  },
  {
   "cell_type": "code",
   "execution_count": 4,
   "metadata": {},
   "outputs": [
    {
     "data": {
      "text/plain": [
       "'Assume an alternative universe where The Space Needle is in the capital of Japan. In that universe, The Space Needle is located in the city of'"
      ]
     },
     "execution_count": 4,
     "metadata": {},
     "output_type": "execute_result"
    }
   ],
   "source": [
    "from src.dataset import InContextQuery\n",
    "from src.functional import find_token_range, prepare_input, predict_next_token\n",
    "\n",
    "\n",
    "icq = InContextQuery(\n",
    "    subject=\"The Space Needle\",\n",
    "    cf_description=\"the capital of Japan\",\n",
    "    answer = \"Tokyo\",\n",
    ")\n",
    "\n",
    "icq.query"
   ]
  },
  {
   "cell_type": "code",
   "execution_count": 5,
   "metadata": {},
   "outputs": [
    {
     "name": "stdout",
     "output_type": "stream",
     "text": [
      "(21, 24)\n"
     ]
    },
    {
     "data": {
      "text/plain": [
       "[' The', ' Space', ' Needle']"
      ]
     },
     "execution_count": 5,
     "metadata": {},
     "output_type": "execute_result"
    }
   ],
   "source": [
    "inputs = prepare_input(\n",
    "    prompts = icq.query, \n",
    "    tokenizer=mt, \n",
    "    return_offsets_mapping=True\n",
    ")\n",
    "\n",
    "subj_range = find_token_range(\n",
    "    string=icq.query,\n",
    "    substring=icq.subject,\n",
    "    tokenizer=mt.tokenizer,\n",
    "    occurrence=-1,\n",
    "    offset_mapping=inputs[\"offset_mapping\"][0],\n",
    ")\n",
    "\n",
    "print(subj_range) \n",
    "[\n",
    "    mt.tokenizer.decode(t) \n",
    "    for t in inputs[\"input_ids\"][0][subj_range[0]:subj_range[1]]\n",
    "]"
   ]
  },
  {
   "cell_type": "code",
   "execution_count": 6,
   "metadata": {},
   "outputs": [
    {
     "name": "stderr",
     "output_type": "stream",
     "text": [
      "You're using a PreTrainedTokenizerFast tokenizer. Please note that with a fast tokenizer, using the `__call__` method is faster than using a method to encode the text followed by a call to the `pad` method to get a padded encoding.\n"
     ]
    },
    {
     "data": {
      "text/plain": [
       "[[PredictedToken(token=' Tokyo', prob=0.27447590231895447, token_id=tensor(27286, device='cuda:0')),\n",
       "  PredictedToken(token=' Nag', prob=0.07104411721229553, token_id=tensor(30162, device='cuda:0')),\n",
       "  PredictedToken(token=' Osaka', prob=0.06468640267848969, token_id=tensor(88085, device='cuda:0')),\n",
       "  PredictedToken(token=' Kyoto', prob=0.06418301165103912, token_id=tensor(82122, device='cuda:0')),\n",
       "  PredictedToken(token=' N', prob=0.0346241369843483, token_id=tensor(452, device='cuda:0'))]]"
      ]
     },
     "execution_count": 6,
     "metadata": {},
     "output_type": "execute_result"
    }
   ],
   "source": [
    "predict_next_token(\n",
    "    mt = mt, \n",
    "    inputs=inputs,\n",
    ")"
   ]
  },
  {
   "cell_type": "code",
   "execution_count": 7,
   "metadata": {},
   "outputs": [
    {
     "data": {
      "text/plain": [
       "torch.Size([1, 30])"
      ]
     },
     "execution_count": 7,
     "metadata": {},
     "output_type": "execute_result"
    }
   ],
   "source": [
    "inputs.input_ids.shape"
   ]
  },
  {
   "cell_type": "code",
   "execution_count": 53,
   "metadata": {},
   "outputs": [
    {
     "data": {
      "text/plain": [
       "[[PredictedToken(token=' Tokyo', prob=0.27295517921447754, token_id=tensor(27286, device='cuda:0')),\n",
       "  PredictedToken(token=' Nag', prob=0.07065049558877945, token_id=tensor(30162, device='cuda:0')),\n",
       "  PredictedToken(token=' Osaka', prob=0.06483253836631775, token_id=tensor(88085, device='cuda:0')),\n",
       "  PredictedToken(token=' Kyoto', prob=0.06432800740003586, token_id=tensor(82122, device='cuda:0')),\n",
       "  PredictedToken(token=' N', prob=0.03497452661395073, token_id=tensor(452, device='cuda:0'))]]"
      ]
     },
     "execution_count": 53,
     "metadata": {},
     "output_type": "execute_result"
    }
   ],
   "source": [
    "import baukit\n",
    "import types\n",
    "from src.hooking.llama_attention import LlamaAttentionPatcher, AttentionEdge\n",
    "mt.reset_forward()\n",
    "\n",
    "module_name = mt.attn_module_name_format.format(12)\n",
    "attn_module = baukit.get_module(\n",
    "    mt._model,\n",
    "    module_name\n",
    ")\n",
    "\n",
    "cache_attn_matrices = {}\n",
    "\n",
    "attn_module.forward = types.MethodType(\n",
    "    LlamaAttentionPatcher(\n",
    "        block_name=module_name,\n",
    "        save_attn_matrices_for=[5,10],\n",
    "        attn_matrices=cache_attn_matrices,\n",
    "        cut_attn_edges={\n",
    "            5: [AttentionEdge(11, 9), AttentionEdge(14, 9)]\n",
    "        }\n",
    "    ),\n",
    "    attn_module\n",
    ")\n",
    "\n",
    "# mt.reset_forward()\n",
    "\n",
    "predict_next_token(\n",
    "    mt = mt, \n",
    "    inputs=inputs,\n",
    ")\n",
    "\n",
    "# output = mt._model(**inputs)"
   ]
  },
  {
   "cell_type": "code",
   "execution_count": 54,
   "metadata": {},
   "outputs": [
    {
     "data": {
      "text/plain": [
       "torch.Size([1, 30, 30])"
      ]
     },
     "execution_count": 54,
     "metadata": {},
     "output_type": "execute_result"
    }
   ],
   "source": [
    "cache_attn_matrices[5].shape"
   ]
  },
  {
   "cell_type": "code",
   "execution_count": 55,
   "metadata": {},
   "outputs": [
    {
     "name": "stdout",
     "output_type": "stream",
     "text": [
      "2024-06-19 15:55:51 matplotlib.colorbar DEBUG    locator: <matplotlib.ticker.AutoLocator object at 0x7f8b24bfac50>\n"
     ]
    },
    {
     "data": {
      "image/png": "[encoded data removed]",
      "text/plain": [
       "<Figure size 640x480 with 2 Axes>"
      ]
     },
     "metadata": {},
     "output_type": "display_data"
    }
   ],
   "source": [
    "from src.plotting import visualize_attn_matrix\n",
    "\n",
    "visualize_attn_matrix(\n",
    "    attn_matrix=cache_attn_matrices[5].squeeze().cpu().detach().numpy(),\n",
    "    tokens = [mt.tokenizer.decode(t) for t in inputs[\"input_ids\"][0]],\n",
    "    remove_eos=mt.tokenizer.bos_token\n",
    ")"
   ]
  },
  {
   "cell_type": "code",
   "execution_count": null,
   "metadata": {},
   "outputs": [],
   "source": []
  }
 ],
 "metadata": {
  "kernelspec": {
   "display_name": "retrieval",
   "language": "python",
   "name": "python3"
  },
  "language_info": {
   "codemirror_mode": {
    "name": "ipython",
    "version": 3
   },
   "file_extension": ".py",
   "mimetype": "text/x-python",
   "name": "python",
   "nbconvert_exporter": "python",
   "pygments_lexer": "ipython3",
   "version": "3.11.9"
  }
 },
 "nbformat": 4,
 "nbformat_minor": 2
}
