{
 "cells": [
  {
   "cell_type": "code",
   "execution_count": 1,
   "metadata": {},
   "outputs": [],
   "source": [
    "%load_ext autoreload\n",
    "%autoreload 2"
   ]
  },
  {
   "cell_type": "code",
   "execution_count": 2,
   "metadata": {},
   "outputs": [
    {
     "name": "stderr",
     "output_type": "stream",
     "text": [
      "/home/local_arnab/miniconda3/envs/retrieval/lib/python3.11/site-packages/tqdm/auto.py:21: TqdmWarning: IProgress not found. Please update jupyter and ipywidgets. See https://ipywidgets.readthedocs.io/en/stable/user_install.html\n",
      "  from .autonotebook import tqdm as notebook_tqdm\n"
     ]
    },
    {
     "name": "stdout",
     "output_type": "stream",
     "text": [
      "2024-06-24 15:54:13 __main__ INFO     torch.__version__='2.3.1', torch.version.cuda='12.1'\n",
      "2024-06-24 15:54:13 __main__ INFO     torch.cuda.is_available()=True, torch.cuda.device_count()=1, torch.cuda.get_device_name()='NVIDIA RTX A6000'\n",
      "2024-06-24 15:54:13 __main__ INFO     transformers.__version__='4.41.2'\n"
     ]
    }
   ],
   "source": [
    "import sys\n",
    "sys.path.append(\"../\")\n",
    "import os\n",
    "\n",
    "import logging\n",
    "from src.utils import logging_utils\n",
    "from src.utils import env_utils\n",
    "from src import functional\n",
    "\n",
    "logger = logging.getLogger(__name__)\n",
    "\n",
    "logging.basicConfig(\n",
    "    level=logging.DEBUG,\n",
    "    format=logging_utils.DEFAULT_FORMAT,\n",
    "    datefmt=logging_utils.DEFAULT_DATEFMT,\n",
    "    stream=sys.stdout,\n",
    ")\n",
    "\n",
    "import torch\n",
    "import transformers\n",
    "\n",
    "logger.info(f\"{torch.__version__=}, {torch.version.cuda=}\")\n",
    "logger.info(f\"{torch.cuda.is_available()=}, {torch.cuda.device_count()=}, {torch.cuda.get_device_name()=}\")\n",
    "logger.info(f\"{transformers.__version__=}\")"
   ]
  },
  {
   "cell_type": "code",
   "execution_count": 3,
   "metadata": {},
   "outputs": [
    {
     "name": "stderr",
     "output_type": "stream",
     "text": [
      "Special tokens have been added in the vocabulary, make sure the associated word embeddings are fine-tuned or trained.\n"
     ]
    },
    {
     "name": "stdout",
     "output_type": "stream",
     "text": [
      "2024-06-24 15:54:14 accelerate.utils.modeling INFO     We will use 90% of the memory on device 0 for storing the model, and 10% for the buffer to avoid OOM. You can set `max_memory` in to a higher value to use more memory (at your own risk).\n"
     ]
    },
    {
     "name": "stderr",
     "output_type": "stream",
     "text": [
      "Loading checkpoint shards: 100%|██████████| 4/4 [00:06<00:00,  1.62s/it]"
     ]
    },
    {
     "name": "stdout",
     "output_type": "stream",
     "text": [
      "2024-06-24 15:54:20 src.models INFO     loaded model </home/local_arnab/Codes/saved_model_weights/meta-llama/Meta-Llama-3-8B> | size: 30633.023 MB | dtype: torch.float32 | device: cuda:0\n"
     ]
    },
    {
     "name": "stderr",
     "output_type": "stream",
     "text": [
      "\n"
     ]
    }
   ],
   "source": [
    "from nnsight import LanguageModel\n",
    "from src.models import ModelandTokenizer\n",
    "\n",
    "mt = ModelandTokenizer(\n",
    "    model_key=\"meta-llama/Meta-Llama-3-8B\",\n",
    "    torch_dtype=torch.float32,\n",
    ")"
   ]
  },
  {
   "cell_type": "code",
   "execution_count": 5,
   "metadata": {},
   "outputs": [
    {
     "data": {
      "text/plain": [
       "'Assume an alternative universe where The Space Needle is in Tokyo. In that universe, The Space Needle is located in the city of'"
      ]
     },
     "execution_count": 5,
     "metadata": {},
     "output_type": "execute_result"
    }
   ],
   "source": [
    "from src.dataset import InContextQuery\n",
    "from src.functional import find_token_range, prepare_input, predict_next_token\n",
    "\n",
    "\n",
    "icq = InContextQuery(\n",
    "    subject=\"The Space Needle\",\n",
    "    # cf_description=\"the capital of Japan\",\n",
    "    cf_description=\"Tokyo\",\n",
    "    answer = \"Tokyo\",\n",
    ")\n",
    "\n",
    "icq.query"
   ]
  },
  {
   "cell_type": "code",
   "execution_count": 6,
   "metadata": {},
   "outputs": [
    {
     "name": "stderr",
     "output_type": "stream",
     "text": [
      "You're using a PreTrainedTokenizerFast tokenizer. Please note that with a fast tokenizer, using the `__call__` method is faster than using a method to encode the text followed by a call to the `pad` method to get a padded encoding.\n"
     ]
    },
    {
     "data": {
      "text/plain": [
       "[[PredictedToken(token=' Larry', prob=0.2059870809316635, token_id=tensor(30390, device='cuda:0')),\n",
       "  PredictedToken(token=' Sund', prob=0.07983426749706268, token_id=tensor(37902, device='cuda:0')),\n",
       "  PredictedToken(token=' \"', prob=0.053125571459531784, token_id=tensor(330, device='cuda:0')),\n",
       "  PredictedToken(token=' as', prob=0.04858618974685669, token_id=tensor(439, device='cuda:0')),\n",
       "  PredictedToken(token=' Tim', prob=0.025614965707063675, token_id=tensor(9538, device='cuda:0'))]]"
      ]
     },
     "execution_count": 6,
     "metadata": {},
     "output_type": "execute_result"
    }
   ],
   "source": [
    "predict_next_token(\n",
    "    mt=mt, \n",
    "    inputs = \"Assume that Tim Cook is the CEO of Alphabet. Then Google's CEO is named\"\n",
    ")"
   ]
  },
  {
   "cell_type": "code",
   "execution_count": 7,
   "metadata": {},
   "outputs": [
    {
     "name": "stdout",
     "output_type": "stream",
     "text": [
      "(18, 21)\n"
     ]
    },
    {
     "data": {
      "text/plain": [
       "[' The', ' Space', ' Needle']"
      ]
     },
     "execution_count": 7,
     "metadata": {},
     "output_type": "execute_result"
    }
   ],
   "source": [
    "inputs = prepare_input(\n",
    "    prompts = icq.query, \n",
    "    tokenizer=mt, \n",
    "    return_offsets_mapping=True\n",
    ")\n",
    "\n",
    "subj_range = find_token_range(\n",
    "    string=icq.query,\n",
    "    substring=icq.subject,\n",
    "    tokenizer=mt.tokenizer,\n",
    "    occurrence=-1,\n",
    "    offset_mapping=inputs[\"offset_mapping\"][0],\n",
    ")\n",
    "\n",
    "print(subj_range) \n",
    "[\n",
    "    mt.tokenizer.decode(t) \n",
    "    for t in inputs[\"input_ids\"][0][subj_range[0]:subj_range[1]]\n",
    "]"
   ]
  },
  {
   "cell_type": "code",
   "execution_count": 8,
   "metadata": {},
   "outputs": [
    {
     "data": {
      "text/plain": [
       "[[PredictedToken(token=' Tokyo', prob=0.4235313832759857, token_id=tensor(27286, device='cuda:0')),\n",
       "  PredictedToken(token=' Shin', prob=0.058479249477386475, token_id=tensor(35549, device='cuda:0')),\n",
       "  PredictedToken(token=' Shib', prob=0.030712388455867767, token_id=tensor(96437, device='cuda:0')),\n",
       "  PredictedToken(token=' Ch', prob=0.024758601561188698, token_id=tensor(921, device='cuda:0')),\n",
       "  PredictedToken(token=' O', prob=0.019237348809838295, token_id=tensor(507, device='cuda:0'))]]"
      ]
     },
     "execution_count": 8,
     "metadata": {},
     "output_type": "execute_result"
    }
   ],
   "source": [
    "predict_next_token(\n",
    "    mt = mt, \n",
    "    inputs=inputs,\n",
    ")"
   ]
  },
  {
   "cell_type": "markdown",
   "metadata": {},
   "source": [
    "## Test Attention Interventions"
   ]
  },
  {
   "cell_type": "code",
   "execution_count": 9,
   "metadata": {},
   "outputs": [
    {
     "name": "stdout",
     "output_type": "stream",
     "text": [
      "2024-06-24 15:55:11 src.hooking.llama_attention WARNING  torch.allclose(attn_output, __attn_output, atol=1e-3)=True | attn_output.norm().item()=10.543270111083984, __attn_output.norm().item()=10.543270111083984\n"
     ]
    },
    {
     "data": {
      "text/plain": [
       "[(' Tokyo', 0.424),\n",
       " (' Shin', 0.059),\n",
       " (' Shib', 0.031),\n",
       " (' Ch', 0.025),\n",
       " (' O', 0.019)]"
      ]
     },
     "execution_count": 9,
     "metadata": {},
     "output_type": "execute_result"
    }
   ],
   "source": [
    "import baukit\n",
    "import types\n",
    "from src.hooking.llama_attention import LlamaAttentionPatcher, AttentionEdge\n",
    "mt.reset_forward()\n",
    "\n",
    "module_name = mt.attn_module_name_format.format(12)\n",
    "attn_module = baukit.get_module(\n",
    "    mt._model,\n",
    "    module_name\n",
    ")\n",
    "\n",
    "cache_attn_matrices = {}\n",
    "cache_attn_contributions = {}\n",
    "\n",
    "attn_module.forward = types.MethodType(\n",
    "    LlamaAttentionPatcher(\n",
    "        block_name=module_name,\n",
    "        save_attn_for=[5,10],\n",
    "        attn_matrices=cache_attn_matrices,\n",
    "        attn_contributions=cache_attn_contributions,\n",
    "        cut_attn_edges={\n",
    "            5: [AttentionEdge(11, 9), AttentionEdge(14, 9)]\n",
    "        }\n",
    "    ),\n",
    "    attn_module\n",
    ")\n",
    "\n",
    "# mt.reset_forward()\n",
    "\n",
    "# predict_next_token(\n",
    "#     mt = mt, \n",
    "#     inputs=inputs,\n",
    "# )\n",
    "\n",
    "output = mt._model(**inputs)\n",
    "logits = output.logits[:, -1, :]\n",
    "\n",
    "from src.functional import interpret_logits\n",
    "\n",
    "interpret_logits(\n",
    "    logits=logits,\n",
    "    tokenizer=mt.tokenizer,\n",
    "    k=5,\n",
    "    get_proba=True\n",
    ")"
   ]
  },
  {
   "cell_type": "code",
   "execution_count": 10,
   "metadata": {},
   "outputs": [
    {
     "data": {
      "text/plain": [
       "transformers.models.llama.modeling_llama.LlamaSdpaAttention"
      ]
     },
     "execution_count": 10,
     "metadata": {},
     "output_type": "execute_result"
    }
   ],
   "source": [
    "type(attn_module)"
   ]
  },
  {
   "cell_type": "code",
   "execution_count": 169,
   "metadata": {},
   "outputs": [],
   "source": [
    "def attn_output(\n",
    "    o_proj,\n",
    "    attn_output,  \n",
    "):\n",
    "    print(attn_output.norm())\n",
    "    attn_output = attn_output.transpose(1, 2)\n",
    "    attn_output = attn_output.reshape(attn_output.size(0), attn_output.size(1), -1)\n",
    "    attn_output = o_proj(attn_output.to(o_proj.weight.dtype).to(o_proj.weight.device))\n",
    "    return attn_output"
   ]
  },
  {
   "cell_type": "code",
   "execution_count": 170,
   "metadata": {},
   "outputs": [
    {
     "data": {
      "text/plain": [
       "torch.nn.modules.linear.Linear"
      ]
     },
     "execution_count": 170,
     "metadata": {},
     "output_type": "execute_result"
    }
   ],
   "source": [
    "type(attn_module.o_proj)"
   ]
  },
  {
   "cell_type": "code",
   "execution_count": 171,
   "metadata": {},
   "outputs": [],
   "source": [
    "def attn_per_head(\n",
    "    o_proj,\n",
    "    attn_output,\n",
    "):\n",
    "    b, n_head, q_len, h_dim = attn_output.size()\n",
    "    o_proj_weight_split = o_proj.weight.view(o_proj.out_features, n_head, h_dim)\n",
    "    \n",
    "    per_head_contributions = []\n",
    "    for i in range(n_head):\n",
    "        attn_output_per_head = attn_output[:, i, :, :]  # shape: (b, q_len, h_dim)\n",
    "        attn_output_per_head = attn_output_per_head.to(o_proj_weight_split[:, i, :].dtype).to(o_proj_weight_split[:, i, :].device)\n",
    "        projected_per_head = attn_output_per_head @ o_proj_weight_split[:, i, :].T  # shape: (b, q_len, out_features)\n",
    "        per_head_contributions.append(projected_per_head)\n",
    "    \n",
    "    per_head_contributions = torch.stack(per_head_contributions, dim=1)  # shape: (b, n_head, q_len, out_features)\n",
    "    attn_output = per_head_contributions.sum(dim=1)  # shape: (b, q_len, out_features)\n",
    "\n",
    "    return attn_output, per_head_contributions"
   ]
  },
  {
   "cell_type": "code",
   "execution_count": 172,
   "metadata": {},
   "outputs": [
    {
     "data": {
      "text/plain": [
       "4096"
      ]
     },
     "execution_count": 172,
     "metadata": {},
     "output_type": "execute_result"
    }
   ],
   "source": [
    "attn_module.o_proj.out_features"
   ]
  },
  {
   "cell_type": "code",
   "execution_count": 173,
   "metadata": {},
   "outputs": [
    {
     "data": {
      "text/plain": [
       "torch.Size([1, 32, 30, 128])"
      ]
     },
     "execution_count": 173,
     "metadata": {},
     "output_type": "execute_result"
    }
   ],
   "source": [
    "weight = torch.randn(1, 32, 30, 30)\n",
    "value = torch.randn(1, 32, 30, 128)\n",
    "\n",
    "value_weighted = weight @ value\n",
    "value_weighted.shape"
   ]
  },
  {
   "cell_type": "code",
   "execution_count": 174,
   "metadata": {},
   "outputs": [
    {
     "name": "stdout",
     "output_type": "stream",
     "text": [
      "tensor(1931.8853)\n"
     ]
    },
    {
     "data": {
      "text/plain": [
       "torch.Size([1, 30, 4096])"
      ]
     },
     "execution_count": 174,
     "metadata": {},
     "output_type": "execute_result"
    }
   ],
   "source": [
    "attn_orig = attn_output(\n",
    "    o_proj = attn_module.o_proj,\n",
    "    attn_output=value_weighted.clone(),\n",
    ") \n",
    "\n",
    "attn_orig.shape"
   ]
  },
  {
   "cell_type": "code",
   "execution_count": 175,
   "metadata": {},
   "outputs": [
    {
     "data": {
      "text/plain": [
       "(torch.Size([1, 30, 4096]), torch.Size([1, 32, 30, 4096]))"
      ]
     },
     "execution_count": 175,
     "metadata": {},
     "output_type": "execute_result"
    }
   ],
   "source": [
    "attn_out, per_head = attn_per_head(\n",
    "    o_proj = attn_module.o_proj,\n",
    "    attn_output=value_weighted.clone(),\n",
    ")\n",
    "\n",
    "attn_out.shape, per_head.shape"
   ]
  },
  {
   "cell_type": "code",
   "execution_count": 176,
   "metadata": {},
   "outputs": [
    {
     "name": "stdout",
     "output_type": "stream",
     "text": [
      "1199.551513671875 1199.551513671875\n"
     ]
    },
    {
     "data": {
      "text/plain": [
       "True"
      ]
     },
     "execution_count": 176,
     "metadata": {},
     "output_type": "execute_result"
    }
   ],
   "source": [
    "print(attn_orig.norm().item(), attn_out.norm().item())\n",
    "torch.allclose(attn_orig, attn_out, atol=1e-5)"
   ]
  },
  {
   "cell_type": "code",
   "execution_count": 177,
   "metadata": {},
   "outputs": [
    {
     "data": {
      "text/plain": [
       "tensor([[[ 2.2661, -0.1785,  1.9393,  ..., -1.5517, -2.5569,  0.8078],\n",
       "         [ 4.1208,  0.0977, -0.9217,  ...,  3.4429,  1.3772,  6.8086],\n",
       "         [ 5.0031,  4.5923, -2.4963,  ...,  1.4484, -2.8316,  1.5460],\n",
       "         ...,\n",
       "         [-2.4075,  2.3988, -3.9437,  ...,  1.1719,  0.6367, -1.3759],\n",
       "         [-3.6811,  6.8643,  2.2441,  ..., -6.4898,  2.3477, -0.0949],\n",
       "         [ 1.3488,  2.0352,  0.4091,  ...,  0.4613,  3.9211, -3.8027]]],\n",
       "       device='cuda:0', grad_fn=<UnsafeViewBackward0>)"
      ]
     },
     "execution_count": 177,
     "metadata": {},
     "output_type": "execute_result"
    }
   ],
   "source": [
    "attn_orig"
   ]
  },
  {
   "cell_type": "code",
   "execution_count": 178,
   "metadata": {},
   "outputs": [
    {
     "data": {
      "text/plain": [
       "tensor([[[ 2.2661, -0.1785,  1.9393,  ..., -1.5517, -2.5569,  0.8078],\n",
       "         [ 4.1208,  0.0977, -0.9217,  ...,  3.4429,  1.3772,  6.8086],\n",
       "         [ 5.0031,  4.5923, -2.4963,  ...,  1.4484, -2.8316,  1.5460],\n",
       "         ...,\n",
       "         [-2.4075,  2.3988, -3.9437,  ...,  1.1719,  0.6367, -1.3760],\n",
       "         [-3.6811,  6.8643,  2.2441,  ..., -6.4898,  2.3477, -0.0949],\n",
       "         [ 1.3488,  2.0352,  0.4091,  ...,  0.4613,  3.9211, -3.8027]]],\n",
       "       device='cuda:0', grad_fn=<SumBackward1>)"
      ]
     },
     "execution_count": 178,
     "metadata": {},
     "output_type": "execute_result"
    }
   ],
   "source": [
    "attn_out"
   ]
  },
  {
   "cell_type": "code",
   "execution_count": 179,
   "metadata": {},
   "outputs": [
    {
     "name": "stdout",
     "output_type": "stream",
     "text": [
      "2024-06-22 19:27:53 matplotlib.colorbar DEBUG    locator: <matplotlib.ticker.AutoLocator object at 0x7f7cb9e014d0>\n"
     ]
    },
    {
     "data": {
      "image/png": "[encoded data removed]",
      "text/plain": [
       "<Figure size 640x480 with 2 Axes>"
      ]
     },
     "metadata": {},
     "output_type": "display_data"
    }
   ],
   "source": [
    "from src.plotting import visualize_attn_matrix\n",
    "\n",
    "visualize_attn_matrix(\n",
    "    attn_matrix=cache_attn_matrices[5].squeeze().cpu().detach().numpy(),\n",
    "    tokens = [mt.tokenizer.decode(t) for t in inputs[\"input_ids\"][0]],\n",
    "    remove_eos=mt.tokenizer.bos_token\n",
    ")"
   ]
  },
  {
   "cell_type": "markdown",
   "metadata": {},
   "source": [
    "## Get All ATTN Head Contributions"
   ]
  },
  {
   "cell_type": "code",
   "execution_count": 180,
   "metadata": {},
   "outputs": [],
   "source": [
    "import baukit\n",
    "import types\n",
    "from src.hooking.llama_attention import LlamaAttentionPatcher, AttentionEdge\n",
    "\n"
   ]
  },
  {
   "cell_type": "code",
   "execution_count": 181,
   "metadata": {},
   "outputs": [
    {
     "name": "stdout",
     "output_type": "stream",
     "text": [
      "Assume an alternative universe where The Space Needle is in Tokyo. In that universe, The Space Needle is located in the city of\n"
     ]
    },
    {
     "data": {
      "text/plain": [
       "(PredictedToken(token=' Tokyo', prob=0.4235313832759857, token_id=tensor(27286, device='cuda:0')),\n",
       " PredictedToken(token=' Seattle', prob=0.9689258337020874, token_id=tensor(16759, device='cuda:0')))"
      ]
     },
     "execution_count": 181,
     "metadata": {},
     "output_type": "execute_result"
    }
   ],
   "source": [
    "mt.reset_forward()\n",
    "\n",
    "print(icq.query)\n",
    "\n",
    "ans_cofa = predict_next_token(\n",
    "    mt = mt, \n",
    "    inputs=icq.query,\n",
    "    k=1\n",
    ")[0][0]\n",
    "\n",
    "ans_true = predict_next_token(\n",
    "    mt = mt, \n",
    "    inputs=\"The Space Needle is located in the city of\",\n",
    "    k=1\n",
    ")[0][0]\n",
    "\n",
    "ans_cofa, ans_true"
   ]
  },
  {
   "cell_type": "code",
   "execution_count": 182,
   "metadata": {},
   "outputs": [],
   "source": [
    "inputs = prepare_input(\n",
    "    prompts = icq.query, \n",
    "    tokenizer=mt, \n",
    ")"
   ]
  },
  {
   "cell_type": "code",
   "execution_count": 183,
   "metadata": {},
   "outputs": [
    {
     "data": {
      "text/plain": [
       "32"
      ]
     },
     "execution_count": 183,
     "metadata": {},
     "output_type": "execute_result"
    }
   ],
   "source": [
    "mt.config.num_attention_heads"
   ]
  },
  {
   "cell_type": "code",
   "execution_count": 184,
   "metadata": {},
   "outputs": [
    {
     "name": "stdout",
     "output_type": "stream",
     "text": [
      "2024-06-22 19:28:01 src.hooking.llama_attention WARNING  torch.allclose(attn_output, __attn_output, atol=1e-3)=True | attn_output.norm().item()=2.385392904281616, __attn_output.norm().item()=2.385392904281616\n",
      "2024-06-22 19:28:01 src.hooking.llama_attention WARNING  torch.allclose(attn_output, __attn_output, atol=1e-3)=True | attn_output.norm().item()=2.6497433185577393, __attn_output.norm().item()=2.6497433185577393\n",
      "2024-06-22 19:28:01 src.hooking.llama_attention WARNING  torch.allclose(attn_output, __attn_output, atol=1e-3)=True | attn_output.norm().item()=3.2384305000305176, __attn_output.norm().item()=3.2384305000305176\n",
      "2024-06-22 19:28:01 src.hooking.llama_attention WARNING  torch.allclose(attn_output, __attn_output, atol=1e-3)=True | attn_output.norm().item()=4.078039646148682, __attn_output.norm().item()=4.078039646148682\n",
      "2024-06-22 19:28:01 src.hooking.llama_attention WARNING  torch.allclose(attn_output, __attn_output, atol=1e-3)=True | attn_output.norm().item()=5.392894268035889, __attn_output.norm().item()=5.392894268035889\n",
      "2024-06-22 19:28:01 src.hooking.llama_attention WARNING  torch.allclose(attn_output, __attn_output, atol=1e-3)=True | attn_output.norm().item()=6.371165752410889, __attn_output.norm().item()=6.371165752410889\n",
      "2024-06-22 19:28:01 src.hooking.llama_attention WARNING  torch.allclose(attn_output, __attn_output, atol=1e-3)=True | attn_output.norm().item()=7.239295482635498, __attn_output.norm().item()=7.239295482635498\n",
      "2024-06-22 19:28:01 src.hooking.llama_attention WARNING  torch.allclose(attn_output, __attn_output, atol=1e-3)=True | attn_output.norm().item()=9.228852272033691, __attn_output.norm().item()=9.228852272033691\n",
      "2024-06-22 19:28:01 src.hooking.llama_attention WARNING  torch.allclose(attn_output, __attn_output, atol=1e-3)=True | attn_output.norm().item()=8.829255104064941, __attn_output.norm().item()=8.829255104064941\n",
      "2024-06-22 19:28:01 src.hooking.llama_attention WARNING  torch.allclose(attn_output, __attn_output, atol=1e-3)=True | attn_output.norm().item()=9.767163276672363, __attn_output.norm().item()=9.767163276672363\n"
     ]
    },
    {
     "name": "stdout",
     "output_type": "stream",
     "text": [
      "2024-06-22 19:28:01 src.hooking.llama_attention WARNING  torch.allclose(attn_output, __attn_output, atol=1e-3)=True | attn_output.norm().item()=9.404654502868652, __attn_output.norm().item()=9.404654502868652\n",
      "2024-06-22 19:28:01 src.hooking.llama_attention WARNING  torch.allclose(attn_output, __attn_output, atol=1e-3)=True | attn_output.norm().item()=9.496529579162598, __attn_output.norm().item()=9.496529579162598\n",
      "2024-06-22 19:28:01 src.hooking.llama_attention WARNING  torch.allclose(attn_output, __attn_output, atol=1e-3)=True | attn_output.norm().item()=10.54159164428711, __attn_output.norm().item()=10.54159164428711\n",
      "2024-06-22 19:28:01 src.hooking.llama_attention WARNING  torch.allclose(attn_output, __attn_output, atol=1e-3)=True | attn_output.norm().item()=11.531940460205078, __attn_output.norm().item()=11.531940460205078\n",
      "2024-06-22 19:28:01 src.hooking.llama_attention WARNING  torch.allclose(attn_output, __attn_output, atol=1e-3)=True | attn_output.norm().item()=12.140284538269043, __attn_output.norm().item()=12.140284538269043\n",
      "2024-06-22 19:28:01 src.hooking.llama_attention WARNING  torch.allclose(attn_output, __attn_output, atol=1e-3)=True | attn_output.norm().item()=11.031007766723633, __attn_output.norm().item()=11.031007766723633\n",
      "2024-06-22 19:28:01 src.hooking.llama_attention WARNING  torch.allclose(attn_output, __attn_output, atol=1e-3)=True | attn_output.norm().item()=15.093733787536621, __attn_output.norm().item()=15.093733787536621\n",
      "2024-06-22 19:28:01 src.hooking.llama_attention WARNING  torch.allclose(attn_output, __attn_output, atol=1e-3)=True | attn_output.norm().item()=10.900723457336426, __attn_output.norm().item()=10.900724411010742\n",
      "2024-06-22 19:28:01 src.hooking.llama_attention WARNING  torch.allclose(attn_output, __attn_output, atol=1e-3)=True | attn_output.norm().item()=9.17243766784668, __attn_output.norm().item()=9.17243766784668\n",
      "2024-06-22 19:28:01 src.hooking.llama_attention WARNING  torch.allclose(attn_output, __attn_output, atol=1e-3)=True | attn_output.norm().item()=6.875363826751709, __attn_output.norm().item()=6.875363349914551\n",
      "2024-06-22 19:28:01 src.hooking.llama_attention WARNING  torch.allclose(attn_output, __attn_output, atol=1e-3)=True | attn_output.norm().item()=8.202401161193848, __attn_output.norm().item()=8.202401161193848\n",
      "2024-06-22 19:28:01 src.hooking.llama_attention WARNING  torch.allclose(attn_output, __attn_output, atol=1e-3)=True | attn_output.norm().item()=11.7411527633667, __attn_output.norm().item()=11.7411527633667\n",
      "2024-06-22 19:28:01 src.hooking.llama_attention WARNING  torch.allclose(attn_output, __attn_output, atol=1e-3)=True | attn_output.norm().item()=9.324252128601074, __attn_output.norm().item()=9.324252128601074\n",
      "2024-06-22 19:28:01 src.hooking.llama_attention WARNING  torch.allclose(attn_output, __attn_output, atol=1e-3)=True | attn_output.norm().item()=9.953775405883789, __attn_output.norm().item()=9.953775405883789\n",
      "2024-06-22 19:28:01 src.hooking.llama_attention WARNING  torch.allclose(attn_output, __attn_output, atol=1e-3)=True | attn_output.norm().item()=11.362634658813477, __attn_output.norm().item()=11.362634658813477\n",
      "2024-06-22 19:28:01 src.hooking.llama_attention WARNING  torch.allclose(attn_output, __attn_output, atol=1e-3)=True | attn_output.norm().item()=9.892539978027344, __attn_output.norm().item()=9.892539978027344\n",
      "2024-06-22 19:28:01 src.hooking.llama_attention WARNING  torch.allclose(attn_output, __attn_output, atol=1e-3)=True | attn_output.norm().item()=13.454381942749023, __attn_output.norm().item()=13.454381942749023\n",
      "2024-06-22 19:28:01 src.hooking.llama_attention WARNING  torch.allclose(attn_output, __attn_output, atol=1e-3)=True | attn_output.norm().item()=12.303754806518555, __attn_output.norm().item()=12.303754806518555\n",
      "2024-06-22 19:28:01 src.hooking.llama_attention WARNING  torch.allclose(attn_output, __attn_output, atol=1e-3)=True | attn_output.norm().item()=17.55702781677246, __attn_output.norm().item()=17.55702781677246\n",
      "2024-06-22 19:28:01 src.hooking.llama_attention WARNING  torch.allclose(attn_output, __attn_output, atol=1e-3)=True | attn_output.norm().item()=24.569406509399414, __attn_output.norm().item()=24.569406509399414\n",
      "2024-06-22 19:28:01 src.hooking.llama_attention WARNING  torch.allclose(attn_output, __attn_output, atol=1e-3)=True | attn_output.norm().item()=28.13123893737793, __attn_output.norm().item()=28.13123893737793\n",
      "2024-06-22 19:28:01 src.hooking.llama_attention WARNING  torch.allclose(attn_output, __attn_output, atol=1e-3)=True | attn_output.norm().item()=65.69705200195312, __attn_output.norm().item()=65.69705200195312\n"
     ]
    },
    {
     "data": {
      "text/plain": [
       "[(' Tokyo', 0.424),\n",
       " (' Shin', 0.058),\n",
       " (' Shib', 0.031),\n",
       " (' Ch', 0.025),\n",
       " (' O', 0.019)]"
      ]
     },
     "execution_count": 184,
     "metadata": {},
     "output_type": "execute_result"
    }
   ],
   "source": [
    "from src.hooking.llama_attention import LlamaAttentionPatcher\n",
    "from src.functional import interpret_logits\n",
    "import types\n",
    "\n",
    "\n",
    "mt.reset_forward()\n",
    "cache_attn_contributions = {}\n",
    "\n",
    "for layer_no in range(mt.n_layer):\n",
    "    module_name = mt.attn_module_name_format.format(layer_no)\n",
    "    cache_attn_contributions[layer_no] = {}\n",
    "\n",
    "    attn_module = baukit.get_module(\n",
    "        mt._model,\n",
    "        module_name\n",
    "    )\n",
    "\n",
    "    attn_module.forward = types.MethodType(\n",
    "        LlamaAttentionPatcher(\n",
    "            block_name=module_name,\n",
    "            save_attn_for=list(range(mt.config.num_attention_heads)),\n",
    "            attn_contributions=cache_attn_contributions[layer_no],\n",
    "        ),\n",
    "        attn_module\n",
    "    )\n",
    "\n",
    "output = mt._model(**inputs)\n",
    "logits = output.logits[:, -1, :]\n",
    "\n",
    "interpret_logits(\n",
    "    logits=logits,\n",
    "    tokenizer=mt.tokenizer,\n",
    "    k=5,\n",
    "    get_proba=True\n",
    ")"
   ]
  },
  {
   "cell_type": "code",
   "execution_count": 185,
   "metadata": {},
   "outputs": [],
   "source": [
    "import numpy as np\n",
    "\n",
    "cofa_vector = mt.lm_head.lm_head.weight[ans_cofa.token_id]\n",
    "true_vector = mt.lm_head.lm_head.weight[ans_true.token_id]\n",
    "\n",
    "query_idx = -1\n",
    "delta_cofa = []\n",
    "\n",
    "for layer_no in cache_attn_contributions:\n",
    "    arr = []\n",
    "    for head_no in cache_attn_contributions[layer_no]:\n",
    "        head_contribution = cache_attn_contributions[layer_no][head_no][:, query_idx, :].squeeze()\n",
    "        cofa_promotion = torch.dot(cofa_vector, head_contribution).item()\n",
    "        true_promotion = torch.dot(true_vector, head_contribution).item()\n",
    "        arr.append(cofa_promotion - true_promotion)\n",
    "    delta_cofa.append(arr)\n",
    "\n",
    "delta_cofa = torch.tensor(delta_cofa)"
   ]
  },
  {
   "cell_type": "code",
   "execution_count": 186,
   "metadata": {},
   "outputs": [
    {
     "name": "stdout",
     "output_type": "stream",
     "text": [
      "2024-06-22 19:28:05 matplotlib.colorbar DEBUG    locator: <matplotlib.ticker.AutoLocator object at 0x7f7cea08c0d0>\n"
     ]
    },
    {
     "data": {
      "image/png": "[encoded data removed]",
      "text/plain": [
       "<Figure size 640x480 with 2 Axes>"
      ]
     },
     "metadata": {},
     "output_type": "display_data"
    }
   ],
   "source": [
    "from src.plotting import matrix_heatmap\n",
    "\n",
    "matrix_heatmap(\n",
    "    matrix = delta_cofa,\n",
    "    x_label=\"Head\",\n",
    "    y_label=\"Layer\",\n",
    "    tick_gap=2,\n",
    "    title=\"Promotion of CoFA over True Answer\",\n",
    ")"
   ]
  },
  {
   "cell_type": "code",
   "execution_count": 229,
   "metadata": {},
   "outputs": [
    {
     "name": "stdout",
     "output_type": "stream",
     "text": [
      "27 20 => 0.3235894441604614\n",
      "31 7 => 0.3143419027328491\n",
      "24 3 => 0.1691170036792755\n",
      "25 6 => 0.08722414821386337\n",
      "19 25 => 0.08639208227396011\n"
     ]
    }
   ],
   "source": [
    "topk_heads = delta_cofa.view(-1).topk(k=5).indices\n",
    "save_attn_heads = {}\n",
    "\n",
    "for head in topk_heads:\n",
    "    layer_no, head_no = head // delta_cofa.shape[1], head % delta_cofa.shape[1]\n",
    "    layer_no, head_no = layer_no.item(), head_no.item()\n",
    "    print(layer_no, head_no, \"=>\", delta_cofa[layer_no, head_no].item())\n",
    "\n",
    "    if layer_no not in save_attn_heads:\n",
    "        save_attn_heads[layer_no] = []\n",
    "    save_attn_heads[layer_no].append(head_no)"
   ]
  },
  {
   "cell_type": "code",
   "execution_count": 230,
   "metadata": {},
   "outputs": [
    {
     "data": {
      "text/plain": [
       "[(' Tokyo', 0.424),\n",
       " (' Shin', 0.058),\n",
       " (' Shib', 0.031),\n",
       " (' Ch', 0.025),\n",
       " (' O', 0.019)]"
      ]
     },
     "execution_count": 230,
     "metadata": {},
     "output_type": "execute_result"
    }
   ],
   "source": [
    "mt.reset_forward()\n",
    "\n",
    "# save_attn_heads = {\n",
    "#     31: [6, 7, 14],\n",
    "#     27: [20]\n",
    "# }\n",
    "\n",
    "cache_attn_matrices = {layer_no: {} for layer_no in save_attn_heads}\n",
    "\n",
    "for layer_no in save_attn_heads:\n",
    "    module_name = mt.attn_module_name_format.format(layer_no)\n",
    "    cache_attn_matrices[layer_no] = {}\n",
    "\n",
    "    attn_module = baukit.get_module(\n",
    "        mt._model,\n",
    "        module_name\n",
    "    )\n",
    "\n",
    "    attn_module.forward = types.MethodType(\n",
    "        LlamaAttentionPatcher(\n",
    "            block_name=module_name,\n",
    "            save_attn_for=save_attn_heads[layer_no],\n",
    "            attn_matrices=cache_attn_matrices[layer_no],\n",
    "        ),\n",
    "        attn_module\n",
    "    )\n",
    "\n",
    "output = mt._model(**inputs)\n",
    "logits = output.logits[:, -1, :]\n",
    "\n",
    "interpret_logits(\n",
    "    logits=logits,\n",
    "    tokenizer=mt.tokenizer,\n",
    "    k=5,\n",
    "    get_proba=True\n",
    ")"
   ]
  },
  {
   "cell_type": "code",
   "execution_count": 231,
   "metadata": {},
   "outputs": [
    {
     "data": {
      "text/plain": [
       "{27: [20], 31: [7], 24: [3], 25: [6], 19: [25]}"
      ]
     },
     "execution_count": 231,
     "metadata": {},
     "output_type": "execute_result"
    }
   ],
   "source": [
    "save_attn_heads"
   ]
  },
  {
   "cell_type": "code",
   "execution_count": 232,
   "metadata": {},
   "outputs": [
    {
     "name": "stdout",
     "output_type": "stream",
     "text": [
      "2024-06-22 19:48:31 matplotlib.colorbar DEBUG    locator: <matplotlib.ticker.AutoLocator object at 0x7f7cb968cfd0>\n"
     ]
    },
    {
     "data": {
      "image/png": "[encoded data removed]",
      "text/plain": [
       "<Figure size 640x480 with 2 Axes>"
      ]
     },
     "metadata": {},
     "output_type": "display_data"
    }
   ],
   "source": [
    "head = (27, 20)\n",
    "# head = (31, 7)\n",
    "\n",
    "layer_idx, head_idx = head\n",
    "visualize_attn_matrix(\n",
    "    attn_matrix=cache_attn_matrices[layer_idx][head_idx].squeeze().cpu().detach().numpy(),\n",
    "    tokens = [mt.tokenizer.decode(t) for t in inputs[\"input_ids\"][0]],\n",
    "    remove_eos=mt.tokenizer.bos_token\n",
    ")"
   ]
  },
  {
   "cell_type": "code",
   "execution_count": 236,
   "metadata": {},
   "outputs": [
    {
     "data": {
      "text/html": [
       "<div id=\"circuits-vis-8bc22474-cf9b\" style=\"margin: 15px 0;\"/>\n",
       "    <script crossorigin type=\"module\">\n",
       "    import { render, ColoredTokens } from \"https://unpkg.com/circuitsvis@1.43.2/dist/cdn/esm.js\";\n",
       "    render(\n",
       "      \"circuits-vis-8bc22474-cf9b\",\n",
       "      ColoredTokens,\n",
       "      {\"tokens\": [\"Ass\", \"ume\", \" an\", \" alternative\", \" universe\", \" where\", \" The\", \" Space\", \" Needle\", \" is\", \" in\", \" Tokyo\", \".\", \" In\", \" that\", \" universe\", \",\", \" The\", \" Space\", \" Needle\", \" is\", \" located\", \" in\", \" the\", \" city\", \" of\"], \"values\": [2.468075581418816e-05, 2.5039507818291895e-05, 0.0002614791155792773, 4.182756310910918e-05, 0.0013453895226120949, 0.0005558673292398453, 0.0011955932714045048, 0.00027628210955299437, 0.0014594492968171835, 0.0006360075203701854, 0.0030166523065418005, 0.16952775418758392, 0.002900264458730817, 0.0002826392592396587, 0.0003985130169894546, 0.0006358892424032092, 0.003362199291586876, 0.0021764414850622416, 0.0001642366696614772, 0.0010601788526400924, 0.0003820937708951533, 0.00022569905559066683, 0.012352353893220425, 0.007352364715188742, 0.0004535243206191808, 0.010304531082510948]}\n",
       "    )\n",
       "    </script>"
      ],
      "text/plain": [
       "<circuitsvis.utils.render.RenderedHTML at 0x7f7cb97fcb90>"
      ]
     },
     "execution_count": 236,
     "metadata": {},
     "output_type": "execute_result"
    }
   ],
   "source": [
    "from circuitsvis.tokens import colored_tokens\n",
    "\n",
    "colored_tokens(\n",
    "    tokens = [mt.tokenizer.decode(t) for t in inputs[\"input_ids\"][0]][1:],\n",
    "    values = cache_attn_matrices[layer_idx][head_idx].squeeze()[-1, :][1:]\n",
    ")\n"
   ]
  },
  {
   "cell_type": "code",
   "execution_count": null,
   "metadata": {},
   "outputs": [],
   "source": []
  }
 ],
 "metadata": {
  "kernelspec": {
   "display_name": "retrieval",
   "language": "python",
   "name": "python3"
  },
  "language_info": {
   "codemirror_mode": {
    "name": "ipython",
    "version": 3
   },
   "file_extension": ".py",
   "mimetype": "text/x-python",
   "name": "python",
   "nbconvert_exporter": "python",
   "pygments_lexer": "ipython3",
   "version": "3.11.9"
  }
 },
 "nbformat": 4,
 "nbformat_minor": 2
}
