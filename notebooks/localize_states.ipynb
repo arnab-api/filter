{
 "cells": [
  {
   "cell_type": "code",
   "execution_count": 1,
   "metadata": {},
   "outputs": [],
   "source": [
    "%load_ext autoreload\n",
    "%autoreload 2"
   ]
  },
  {
   "cell_type": "code",
   "execution_count": 2,
   "metadata": {},
   "outputs": [
    {
     "name": "stderr",
     "output_type": "stream",
     "text": [
      "/home/local_arnab/miniconda3/envs/retrieval/lib/python3.11/site-packages/tqdm/auto.py:21: TqdmWarning: IProgress not found. Please update jupyter and ipywidgets. See https://ipywidgets.readthedocs.io/en/stable/user_install.html\n",
      "  from .autonotebook import tqdm as notebook_tqdm\n"
     ]
    },
    {
     "name": "stdout",
     "output_type": "stream",
     "text": [
      "2024-06-18 16:21:55 __main__ INFO     torch.__version__='2.3.1', torch.version.cuda='12.1'\n",
      "2024-06-18 16:21:55 __main__ INFO     torch.cuda.is_available()=True, torch.cuda.device_count()=1, torch.cuda.get_device_name()='NVIDIA RTX A6000'\n",
      "2024-06-18 16:21:55 __main__ INFO     transformers.__version__='4.41.2'\n"
     ]
    }
   ],
   "source": [
    "import sys\n",
    "sys.path.append(\"../\")\n",
    "import os\n",
    "\n",
    "import logging\n",
    "from src.utils import logging_utils\n",
    "from src.utils import env_utils\n",
    "from src import functional\n",
    "\n",
    "logger = logging.getLogger(__name__)\n",
    "\n",
    "logging.basicConfig(\n",
    "    level=logging.DEBUG,\n",
    "    format=logging_utils.DEFAULT_FORMAT,\n",
    "    datefmt=logging_utils.DEFAULT_DATEFMT,\n",
    "    stream=sys.stdout,\n",
    ")\n",
    "\n",
    "import torch\n",
    "import transformers\n",
    "\n",
    "logger.info(f\"{torch.__version__=}, {torch.version.cuda=}\")\n",
    "logger.info(f\"{torch.cuda.is_available()=}, {torch.cuda.device_count()=}, {torch.cuda.get_device_name()=}\")\n",
    "logger.info(f\"{transformers.__version__=}\")"
   ]
  },
  {
   "cell_type": "code",
   "execution_count": 3,
   "metadata": {},
   "outputs": [
    {
     "name": "stderr",
     "output_type": "stream",
     "text": [
      "Special tokens have been added in the vocabulary, make sure the associated word embeddings are fine-tuned or trained.\n"
     ]
    },
    {
     "name": "stdout",
     "output_type": "stream",
     "text": [
      "2024-06-18 16:21:56 accelerate.utils.modeling INFO     We will use 90% of the memory on device 0 for storing the model, and 10% for the buffer to avoid OOM. You can set `max_memory` in to a higher value to use more memory (at your own risk).\n"
     ]
    },
    {
     "name": "stderr",
     "output_type": "stream",
     "text": [
      "Loading checkpoint shards: 100%|██████████| 4/4 [00:05<00:00,  1.30s/it]"
     ]
    },
    {
     "name": "stdout",
     "output_type": "stream",
     "text": [
      "2024-06-18 16:22:01 src.models INFO     loaded model </home/local_arnab/Codes/saved_model_weights/meta-llama/Meta-Llama-3-8B> | size: 15316.516 MB | dtype: torch.float16 | device: cuda:0\n"
     ]
    },
    {
     "name": "stderr",
     "output_type": "stream",
     "text": [
      "\n"
     ]
    }
   ],
   "source": [
    "from nnsight import LanguageModel\n",
    "from src.models import ModelandTokenizer\n",
    "\n",
    "mt = ModelandTokenizer(\n",
    "    model_key=\"meta-llama/Meta-Llama-3-8B\",\n",
    "    torch_dtype=torch.float16,\n",
    ")"
   ]
  },
  {
   "cell_type": "code",
   "execution_count": 4,
   "metadata": {},
   "outputs": [
    {
     "name": "stderr",
     "output_type": "stream",
     "text": [
      "You're using a PreTrainedTokenizerFast tokenizer. Please note that with a fast tokenizer, using the `__call__` method is faster than using a method to encode the text followed by a call to the `pad` method to get a padded encoding.\n"
     ]
    },
    {
     "data": {
      "text/plain": [
       "[[PredictedToken(token=' Seattle', prob=0.969031035900116, token_id=None),\n",
       "  PredictedToken(token='\\xa0', prob=0.004182813223451376, token_id=None),\n",
       "  PredictedToken(token=' Seat', prob=0.0033088780473917723, token_id=None),\n",
       "  PredictedToken(token=' se', prob=0.002576956758275628, token_id=None),\n",
       "  PredictedToken(token=' Se', prob=0.0016638082452118397, token_id=None)],\n",
       " [PredictedToken(token=' Rome', prob=0.9319317936897278, token_id=None),\n",
       "  PredictedToken(token=' Roma', prob=0.004383663181215525, token_id=None),\n",
       "  PredictedToken(token=' ancient', prob=0.0025370691437274218, token_id=None),\n",
       "  PredictedToken(token=' Ancient', prob=0.0025173258036375046, token_id=None),\n",
       "  PredictedToken(token=' the', prob=0.0020227280911058187, token_id=None)],\n",
       " [PredictedToken(token=' New', prob=0.8572637438774109, token_id=None),\n",
       "  PredictedToken(token=' Jersey', prob=0.01684507168829441, token_id=None),\n",
       "  PredictedToken(token=' Manhattan', prob=0.01533761341124773, token_id=None),\n",
       "  PredictedToken(token=' Liberty', prob=0.011759755201637745, token_id=None),\n",
       "  PredictedToken(token=' Paris', prob=0.008671100251376629, token_id=None)]]"
      ]
     },
     "execution_count": 4,
     "metadata": {},
     "output_type": "execute_result"
    }
   ],
   "source": [
    "from src.functional import predict_next_token, filter_samples_by_model_knowledge\n",
    "\n",
    "prompts = [\n",
    "    \"The Space Needle is located in the city of\",\n",
    "    \"The Colosseum is located in the city of\",\n",
    "    \"Statue of Liberty is located in the city of\",\n",
    "]\n",
    "\n",
    "predict_next_token(\n",
    "    mt=mt, \n",
    "    inputs=prompts,\n",
    "    # token_of_interest=[\n",
    "    #     \"Kyoto\",\n",
    "    #     \"Washington\",\n",
    "    # ]\n",
    ")\n"
   ]
  },
  {
   "cell_type": "code",
   "execution_count": 5,
   "metadata": {},
   "outputs": [
    {
     "data": {
      "text/plain": [
       "[[PredictedToken(token=' Tokyo', prob=0.27394381165504456, token_id=None),\n",
       "  PredictedToken(token=' Nag', prob=0.0709063857793808, token_id=None),\n",
       "  PredictedToken(token=' Osaka', prob=0.065067358314991, token_id=None),\n",
       "  PredictedToken(token=' Kyoto', prob=0.0640585869550705, token_id=None),\n",
       "  PredictedToken(token=' N', prob=0.03455701470375061, token_id=None)],\n",
       " [PredictedToken(token=' London', prob=0.6719240546226501, token_id=None),\n",
       "  PredictedToken(token=' Westminster', prob=0.03424644470214844, token_id=None),\n",
       "  PredictedToken(token=' Col', prob=0.02245936542749405, token_id=None),\n",
       "  PredictedToken(token=' Rome', prob=0.012306718155741692, token_id=None),\n",
       "  PredictedToken(token=' Lond', prob=0.010123230516910553, token_id=None)],\n",
       " [PredictedToken(token=' Rome', prob=0.7661844491958618, token_id=None),\n",
       "  PredictedToken(token=' Roma', prob=0.027261771261692047, token_id=None),\n",
       "  PredictedToken(token=' Florence', prob=0.023871207609772682, token_id=None),\n",
       "  PredictedToken(token=' Milan', prob=0.01705998182296753, token_id=None),\n",
       "  PredictedToken(token=' Venice', prob=0.012978549115359783, token_id=None)]]"
      ]
     },
     "execution_count": 5,
     "metadata": {},
     "output_type": "execute_result"
    }
   ],
   "source": [
    "template = \"Assume an alternative universe where <subj> is in <loc>. In that universe, <subj> is located in the city of\"\n",
    "\n",
    "def format_prompt(subj, loc):\n",
    "    return template.replace(\"<subj>\", subj).replace(\"<loc>\", loc)\n",
    "\n",
    "counterfactuals = [\n",
    "    (\"The Space Needle\", \"the capital of Japan\"),\n",
    "    (\"Colosseum\", \"the capital of United Kingdom\"),\n",
    "    (\"Statue of Liberty\", \"the capital of Italy\"),\n",
    "]\n",
    "\n",
    "counterfactual_prompts = [\n",
    "    format_prompt(c[0], c[1]) for c in counterfactuals\n",
    "]\n",
    "\n",
    "predict_next_token(\n",
    "    mt=mt, \n",
    "    inputs=counterfactual_prompts,\n",
    ")"
   ]
  },
  {
   "cell_type": "code",
   "execution_count": 6,
   "metadata": {},
   "outputs": [
    {
     "name": "stdout",
     "output_type": "stream",
     "text": [
      "h_idx=3 |  Needle\n",
      "h_idx=5 | um\n"
     ]
    }
   ],
   "source": [
    "from src.models import prepare_input\n",
    "from src.functional import get_hs, interpret_logits, logit_lens\n",
    "from src.functional import get_module_nnsight\n",
    "\n",
    "\n",
    "def collect_subj_last_state(\n",
    "    prompt: str,\n",
    "    subj: str,\n",
    "    layer_name: str,\n",
    "):\n",
    "    inputs = prepare_input(\n",
    "        prompts=prompt,\n",
    "        tokenizer=mt,\n",
    "        return_offsets_mapping=True,\n",
    "    )\n",
    "\n",
    "    from src.functional import find_token_range\n",
    "\n",
    "    subj_start, subj_end = find_token_range(\n",
    "        string=prompt,\n",
    "        substring=subj,\n",
    "        tokenizer=mt.tokenizer,\n",
    "        occurrence=-1,\n",
    "        offset_mapping=inputs[\"offset_mapping\"][0],\n",
    "    )\n",
    "\n",
    "    h_idx = subj_end - 1\n",
    "    # h_idx = -1\n",
    "    print(f\"{h_idx=} | {mt.tokenizer.decode(inputs.input_ids[0][h_idx])}\")\n",
    "\n",
    "    return h_idx, get_hs(\n",
    "        mt=mt,\n",
    "        input=inputs,\n",
    "        layer_and_index=(layer_name, h_idx),\n",
    "    )\n",
    "\n",
    "\n",
    "layer = mt.layer_names[12]\n",
    "# layer = mt.layer_names[-1]\n",
    "\n",
    "# idx_0, h0 = collect_subj_last_state(\n",
    "#     prompt = counterfactual_prompts[0],\n",
    "#     subj = counterfactuals[0][0],\n",
    "#     layer_name = layer,\n",
    "# )\n",
    "\n",
    "# idx_1, h1 = collect_subj_last_state(\n",
    "#     prompt = counterfactual_prompts[1],\n",
    "#     subj = counterfactuals[1][0],\n",
    "#     layer_name = layer,\n",
    "# )\n",
    "\n",
    "idx_0, h0 = collect_subj_last_state(\n",
    "    prompt = prompts[0],\n",
    "    subj = counterfactuals[0][0],\n",
    "    layer_name = layer,\n",
    ")\n",
    "\n",
    "idx_1, h1 = collect_subj_last_state(\n",
    "    prompt=prompts[1],\n",
    "    subj=counterfactuals[1][0],\n",
    "    layer_name=layer,\n",
    ")"
   ]
  },
  {
   "cell_type": "code",
   "execution_count": 7,
   "metadata": {},
   "outputs": [
    {
     "data": {
      "text/plain": [
       "[('#ad', 0.211),\n",
       " ('\\ufeff#', 0.104),\n",
       " ('ahat', 0.057),\n",
       " ('#ab', 0.021),\n",
       " ('#ac', 0.015),\n",
       " ('�数', 0.011),\n",
       " ('ayd', 0.006),\n",
       " ('oví', 0.006),\n",
       " ('[js', 0.006),\n",
       " (' lep', 0.005)]"
      ]
     },
     "execution_count": 7,
     "metadata": {},
     "output_type": "execute_result"
    }
   ],
   "source": [
    "logit_lens(\n",
    "    mt=mt,\n",
    "    h=h1,\n",
    "    get_proba=True\n",
    ")"
   ]
  },
  {
   "cell_type": "code",
   "execution_count": 8,
   "metadata": {},
   "outputs": [
    {
     "name": "stdout",
     "output_type": "stream",
     "text": [
      "mt.tokenizer.decode(inputs.input_ids[0][idx_0])=' Needle'\n"
     ]
    },
    {
     "data": {
      "text/plain": [
       "[(' Rome', 0.928),\n",
       " (' Roma', 0.006),\n",
       " ('\\xa0', 0.002),\n",
       " (' London', 0.002),\n",
       " (' the', 0.002),\n",
       " (' Barcelona', 0.001),\n",
       " (' Rom', 0.001),\n",
       " (' Milan', 0.001),\n",
       " ('\\xa0R', 0.001),\n",
       " (' San', 0.001)]"
      ]
     },
     "execution_count": 8,
     "metadata": {},
     "output_type": "execute_result"
    }
   ],
   "source": [
    "from src.functional import untuple\n",
    "\n",
    "inputs = prepare_input(\n",
    "    # prompts=counterfactual_prompts[0],\n",
    "    prompts=prompts[0],\n",
    "    tokenizer=mt,\n",
    ")\n",
    "\n",
    "print(f\"{mt.tokenizer.decode(inputs.input_ids[0][idx_0])=}\")\n",
    "\n",
    "with mt.trace(inputs) as trace:\n",
    "    module = get_module_nnsight(mt, layer)\n",
    "    untuple(module.output)[0, idx_0, :] = h1\n",
    "    cur_h = untuple(module.output)[0, idx_0, :].save()\n",
    "    logits = mt.output.logits[0][-1].save()\n",
    "\n",
    "interpret_logits(\n",
    "    tokenizer=mt.tokenizer,\n",
    "    logits=logits,\n",
    "    get_proba=True\n",
    ")"
   ]
  },
  {
   "cell_type": "code",
   "execution_count": 9,
   "metadata": {},
   "outputs": [
    {
     "data": {
      "text/plain": [
       "[(' Rome', 0.928),\n",
       " (' Roma', 0.006),\n",
       " ('\\xa0', 0.002),\n",
       " (' London', 0.002),\n",
       " (' the', 0.002),\n",
       " (' Barcelona', 0.001),\n",
       " (' Rom', 0.001),\n",
       " (' Milan', 0.001),\n",
       " ('\\xa0R', 0.001),\n",
       " (' San', 0.001)]"
      ]
     },
     "execution_count": 9,
     "metadata": {},
     "output_type": "execute_result"
    }
   ],
   "source": [
    "import baukit\n",
    "\n",
    "def intervention(int_layer, h, idx):\n",
    "    def edit_output(output, layer):\n",
    "        if layer != int_layer:\n",
    "            return output\n",
    "        untuple(output)[0, idx, :] = h\n",
    "        return output\n",
    "    return edit_output\n",
    "\n",
    "with baukit.Trace(\n",
    "    module=mt._model,\n",
    "    layer=layer,\n",
    "    edit_output=intervention(layer, h1, idx_0),\n",
    "):\n",
    "    output = mt._model(**inputs)\n",
    "\n",
    "logits = output.logits[0][-1]\n",
    "\n",
    "interpret_logits(\n",
    "    tokenizer=mt.tokenizer,\n",
    "    logits=logits,\n",
    "    get_proba=True\n",
    ")"
   ]
  },
  {
   "cell_type": "code",
   "execution_count": 10,
   "metadata": {},
   "outputs": [
    {
     "data": {
      "text/plain": [
       "'model.layers.{}.self_attn'"
      ]
     },
     "execution_count": 10,
     "metadata": {},
     "output_type": "execute_result"
    }
   ],
   "source": [
    "mt.attn_module_name_format"
   ]
  },
  {
   "cell_type": "code",
   "execution_count": 11,
   "metadata": {},
   "outputs": [
    {
     "data": {
      "text/plain": [
       "32"
      ]
     },
     "execution_count": 11,
     "metadata": {},
     "output_type": "execute_result"
    }
   ],
   "source": [
    "mt.n_layer"
   ]
  },
  {
   "cell_type": "code",
   "execution_count": 12,
   "metadata": {},
   "outputs": [
    {
     "data": {
      "text/plain": [
       "(torch.Size([1, 30]), torch.Size([1, 33]))"
      ]
     },
     "execution_count": 12,
     "metadata": {},
     "output_type": "execute_result"
    }
   ],
   "source": [
    "from src.dataset import InContextQuery\n",
    "\n",
    "clean_query = InContextQuery(\n",
    "    subject=\"The Space Needle\",\n",
    "    cf_description=\"the capital of Japan\",\n",
    "    answer = \"Tokyo\",\n",
    ")\n",
    "\n",
    "corrput_query = InContextQuery(\n",
    "    subject=\"Colosseum\",\n",
    "    cf_description=\"the capital of United Kingdom\",\n",
    "    answer = \"London\",\n",
    ")\n",
    "\n",
    "clean_inputs = prepare_input(prompts = clean_query.query, tokenizer=mt, return_offsets_mapping=True)\n",
    "corrupt_inputs = prepare_input(prompts = corrput_query.query, tokenizer=mt, return_offsets_mapping=True)\n",
    "\n",
    "\n",
    "clean_inputs.input_ids.shape, corrupt_inputs.input_ids.shape"
   ]
  },
  {
   "cell_type": "code",
   "execution_count": 13,
   "metadata": {},
   "outputs": [
    {
     "data": {
      "text/plain": [
       "((21, 24), (23, 27))"
      ]
     },
     "execution_count": 13,
     "metadata": {},
     "output_type": "execute_result"
    }
   ],
   "source": [
    "from src.functional import find_token_range\n",
    "\n",
    "clean_subj_range = find_token_range(\n",
    "    string=clean_query.query,\n",
    "    substring=clean_query.subject,\n",
    "    tokenizer=mt.tokenizer,\n",
    "    occurrence=-1,\n",
    "    offset_mapping=clean_inputs[\"offset_mapping\"][0],\n",
    ")\n",
    "\n",
    "corrupt_subj_range = find_token_range(\n",
    "    string=corrput_query.query,\n",
    "    substring=corrput_query.subject,\n",
    "    tokenizer=mt.tokenizer,\n",
    "    occurrence=-1,\n",
    "    offset_mapping=corrupt_inputs[\"offset_mapping\"][0],\n",
    ")\n",
    "\n",
    "clean_subj_range, corrupt_subj_range"
   ]
  },
  {
   "cell_type": "code",
   "execution_count": 14,
   "metadata": {},
   "outputs": [],
   "source": [
    "from src.utils.typing import TokenizerOutput\n",
    "\n",
    "def insert_padding_before_subj(\n",
    "    inp: TokenizerOutput,\n",
    "    subj_range: tuple[int, int],\n",
    "    subj_ends: int,\n",
    "    pad_id = mt.tokenizer.pad_token_id\n",
    "):\n",
    "    pad_len = subj_ends - subj_range[1]\n",
    "    inp[\"input_ids\"] = torch.cat(\n",
    "        [\n",
    "            inp.input_ids[:, :subj_range[0]],\n",
    "            torch.full((1, pad_len), pad_id, dtype=inp.input_ids.dtype, device=inp.input_ids.device),\n",
    "            inp.input_ids[:, subj_range[0]:],\n",
    "        ],\n",
    "        dim=1\n",
    "    )\n",
    "\n",
    "    inp[\"attention_mask\"] = torch.cat(\n",
    "        [\n",
    "            inp.attention_mask[:, :subj_range[0]],\n",
    "            torch.full((1, pad_len), 0, dtype=inp.attention_mask.dtype, device=inp.attention_mask.device),\n",
    "            inp.attention_mask[:, subj_range[0]:],\n",
    "        ],\n",
    "        dim=1\n",
    "    )\n",
    "\n",
    "    return inp\n",
    "\n",
    "subj_end = max(clean_subj_range[1], corrupt_subj_range[1]) + 1 # always insert 1 padding token\n",
    "\n",
    "clean_inputs = insert_padding_before_subj(clean_inputs, clean_subj_range, subj_end)\n",
    "corrupt_inputs = insert_padding_before_subj(corrupt_inputs, corrupt_subj_range, subj_end)"
   ]
  },
  {
   "cell_type": "code",
   "execution_count": 15,
   "metadata": {},
   "outputs": [
    {
     "name": "stdout",
     "output_type": "stream",
     "text": [
      "idx=0 [1] | <|begin_of_text|>\n",
      "idx=1 [1] | Ass\n",
      "idx=2 [1] | ume\n",
      "idx=3 [1] |  an\n",
      "idx=4 [1] |  alternative\n",
      "idx=5 [1] |  universe\n",
      "idx=6 [1] |  where\n",
      "idx=7 [1] |  The\n",
      "idx=8 [1] |  Space\n",
      "idx=9 [1] |  Needle\n",
      "idx=10 [1] |  is\n",
      "idx=11 [1] |  in\n",
      "idx=12 [1] |  the\n",
      "idx=13 [1] |  capital\n",
      "idx=14 [1] |  of\n",
      "idx=15 [1] |  Japan\n",
      "idx=16 [1] | .\n",
      "idx=17 [1] |  In\n",
      "idx=18 [1] |  that\n",
      "idx=19 [1] |  universe\n",
      "idx=20 [1] | ,\n",
      "idx=21 [0] | <|end_of_text|>\n",
      "idx=22 [0] | <|end_of_text|>\n",
      "idx=23 [0] | <|end_of_text|>\n",
      "idx=24 [0] | <|end_of_text|>\n",
      "idx=25 [1] |  The\n",
      "idx=26 [1] |  Space\n",
      "idx=27 [1] |  Needle\n",
      "idx=28 [1] |  is\n",
      "idx=29 [1] |  located\n",
      "idx=30 [1] |  in\n",
      "idx=31 [1] |  the\n",
      "idx=32 [1] |  city\n",
      "idx=33 [1] |  of\n"
     ]
    }
   ],
   "source": [
    "for idx, (tok_id, attn_mask) in enumerate(zip(clean_inputs.input_ids[0], clean_inputs.attention_mask[0])):\n",
    "    print(f\"{idx=} [{attn_mask}] | {mt.tokenizer.decode(tok_id)}\")"
   ]
  },
  {
   "cell_type": "code",
   "execution_count": 16,
   "metadata": {},
   "outputs": [
    {
     "name": "stdout",
     "output_type": "stream",
     "text": [
      "idx=0 [1] | <|begin_of_text|>\n",
      "idx=1 [1] | Ass\n",
      "idx=2 [1] | ume\n",
      "idx=3 [1] |  an\n",
      "idx=4 [1] |  alternative\n",
      "idx=5 [1] |  universe\n",
      "idx=6 [1] |  where\n",
      "idx=7 [1] |  Col\n",
      "idx=8 [1] | os\n",
      "idx=9 [1] | se\n",
      "idx=10 [1] | um\n",
      "idx=11 [1] |  is\n",
      "idx=12 [1] |  in\n",
      "idx=13 [1] |  the\n",
      "idx=14 [1] |  capital\n",
      "idx=15 [1] |  of\n",
      "idx=16 [1] |  United\n",
      "idx=17 [1] |  Kingdom\n",
      "idx=18 [1] | .\n",
      "idx=19 [1] |  In\n",
      "idx=20 [1] |  that\n",
      "idx=21 [1] |  universe\n",
      "idx=22 [1] | ,\n",
      "idx=23 [0] | <|end_of_text|>\n",
      "idx=24 [1] |  Col\n",
      "idx=25 [1] | os\n",
      "idx=26 [1] | se\n",
      "idx=27 [1] | um\n",
      "idx=28 [1] |  is\n",
      "idx=29 [1] |  located\n",
      "idx=30 [1] |  in\n",
      "idx=31 [1] |  the\n",
      "idx=32 [1] |  city\n",
      "idx=33 [1] |  of\n"
     ]
    }
   ],
   "source": [
    "for idx, (tok_id, attn_mask) in enumerate(zip(corrupt_inputs.input_ids[0], corrupt_inputs.attention_mask[0])):\n",
    "    print(f\"{idx=} [{attn_mask}] | {mt.tokenizer.decode(tok_id)}\")"
   ]
  },
  {
   "cell_type": "code",
   "execution_count": 17,
   "metadata": {},
   "outputs": [
    {
     "data": {
      "text/plain": [
       "[[PredictedToken(token=' Tokyo', prob=0.503361165523529, token_id=None),\n",
       "  PredictedToken(token=' Kyoto', prob=0.02976052463054657, token_id=None),\n",
       "  PredictedToken(token=' Osaka', prob=0.02929912880063057, token_id=None),\n",
       "  PredictedToken(token=' Nag', prob=0.025060875341296196, token_id=None),\n",
       "  PredictedToken(token=' Yok', prob=0.01749531179666519, token_id=None)]]"
      ]
     },
     "execution_count": 17,
     "metadata": {},
     "output_type": "execute_result"
    }
   ],
   "source": [
    "predict_next_token(\n",
    "    mt=mt,\n",
    "    inputs=clean_inputs,\n",
    ")"
   ]
  },
  {
   "cell_type": "code",
   "execution_count": 18,
   "metadata": {},
   "outputs": [
    {
     "data": {
      "text/plain": [
       "[[PredictedToken(token=' London', prob=0.6710155010223389, token_id=None),\n",
       "  PredictedToken(token=' Westminster', prob=0.03446837514638901, token_id=None),\n",
       "  PredictedToken(token=' Col', prob=0.025815622881054878, token_id=None),\n",
       "  PredictedToken(token=' Rome', prob=0.012779658660292625, token_id=None),\n",
       "  PredictedToken(token=' Lond', prob=0.009722252376377583, token_id=None)]]"
      ]
     },
     "execution_count": 18,
     "metadata": {},
     "output_type": "execute_result"
    }
   ],
   "source": [
    "predict_next_token(\n",
    "    mt=mt,\n",
    "    inputs=corrupt_inputs,\n",
    ")"
   ]
  },
  {
   "cell_type": "code",
   "execution_count": 19,
   "metadata": {},
   "outputs": [
    {
     "name": "stdout",
     "output_type": "stream",
     "text": [
      "The Space Needle is located in the city of\n",
      "Colosseum is located in the city of\n"
     ]
    }
   ],
   "source": [
    "from src.trace import trace_important_states\n",
    "\n",
    "clean_query = InContextQuery(\n",
    "    subject=\"The Space Needle\",\n",
    "    cf_description=\"the capital of Japan\",\n",
    "    answer = \"Tokyo\",\n",
    ")\n",
    "clean_query.set_template(\"<subj> is located in the city of\")\n",
    "\n",
    "corrput_query = InContextQuery(\n",
    "    subject=\"Colosseum\",\n",
    "    cf_description=\"the capital of United Kingdom\",\n",
    "    answer = \"London\",\n",
    ")\n",
    "corrput_query.set_template(\"<subj> is located in the city of\")\n",
    "\n",
    "print(clean_query.query)\n",
    "print(corrput_query.query)"
   ]
  },
  {
   "cell_type": "code",
   "execution_count": 24,
   "metadata": {},
   "outputs": [
    {
     "name": "stdout",
     "output_type": "stream",
     "text": [
      "2024-06-18 16:26:59 src.trace DEBUG    clean_subj_range=(1, 4) | corrupt_subj_range=(1, 5)\n",
      "2024-06-18 16:26:59 src.trace DEBUG    setting subj_end=6\n",
      "idx=0 =>  [1] <|begin_of_text|> || [1] <|begin_of_text|>\n",
      "idx=1 =>  [0] <|end_of_text|> || [0] <|end_of_text|>\n",
      "idx=2 =>  [0] <|end_of_text|> || [1] Col\n",
      "idx=3 =>  [1] The || [1] os\n",
      "idx=4 =>  [1]  Space || [1] se\n",
      "idx=5 =>  [1]  Needle || [1] um\n",
      "idx=6 =>  [1]  is || [1]  is\n",
      "idx=7 =>  [1]  located || [1]  located\n",
      "idx=8 =>  [1]  in || [1]  in\n",
      "idx=9 =>  [1]  the || [1]  the\n",
      "idx=10 =>  [1]  city || [1]  city\n",
      "idx=11 =>  [1]  of || [1]  of\n",
      "2024-06-18 16:26:59 src.trace DEBUG    <shifted> clean_subj_range=(3, 6) | corrupt_subj_range=(2, 6)\n"
     ]
    }
   ],
   "source": [
    "indirect_effects = trace_important_states(\n",
    "    mt=mt, \n",
    "    clean_query=clean_query,\n",
    "    corrupt_query=corrput_query,\n",
    "    kind=\"residual\",\n",
    "    normalize=True\n",
    ")"
   ]
  },
  {
   "cell_type": "code",
   "execution_count": 21,
   "metadata": {},
   "outputs": [],
   "source": [
    "# indirect_effects"
   ]
  },
  {
   "cell_type": "code",
   "execution_count": 22,
   "metadata": {},
   "outputs": [],
   "source": [
    "# from src.plotting import plot_trace_heatmap\n",
    "\n",
    "# plot_trace_heatmap(indirect_effects)"
   ]
  },
  {
   "cell_type": "code",
   "execution_count": null,
   "metadata": {},
   "outputs": [],
   "source": []
  }
 ],
 "metadata": {
  "kernelspec": {
   "display_name": "retrieval",
   "language": "python",
   "name": "python3"
  },
  "language_info": {
   "codemirror_mode": {
    "name": "ipython",
    "version": 3
   },
   "file_extension": ".py",
   "mimetype": "text/x-python",
   "name": "python",
   "nbconvert_exporter": "python",
   "pygments_lexer": "ipython3",
   "version": "3.11.9"
  }
 },
 "nbformat": 4,
 "nbformat_minor": 2
}
