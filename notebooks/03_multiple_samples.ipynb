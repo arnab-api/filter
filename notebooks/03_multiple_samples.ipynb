{
 "cells": [
  {
   "cell_type": "code",
   "execution_count": 1,
   "id": "b89a126c",
   "metadata": {},
   "outputs": [],
   "source": [
    "%load_ext autoreload\n",
    "%autoreload 2"
   ]
  },
  {
   "cell_type": "code",
   "execution_count": 2,
   "id": "01e865d3",
   "metadata": {},
   "outputs": [
    {
     "name": "stdout",
     "output_type": "stream",
     "text": [
      "2025-07-18 15:51:00 __main__ INFO     torch.__version__='2.7.0+cu126', torch.version.cuda='12.6'\n",
      "2025-07-18 15:51:01 __main__ INFO     torch.cuda.is_available()=True, torch.cuda.device_count()=8, torch.cuda.get_device_name()='NVIDIA A100 80GB PCIe'\n",
      "2025-07-18 15:51:01 __main__ INFO     transformers.__version__='4.51.3'\n"
     ]
    }
   ],
   "source": [
    "import os\n",
    "import json\n",
    "\n",
    "import sys\n",
    "\n",
    "sys.path.append(\"../\")\n",
    "\n",
    "##################################################################\n",
    "os.environ[\"TOKENIZERS_PARALLELISM\"] = \"false\"\n",
    "os.environ[\"CUDA_VISIBLE_DEVICES\"] = \"0,1,2,3,4,5,6,7\"\n",
    "##################################################################\n",
    "\n",
    "import logging\n",
    "from src.utils import logging_utils\n",
    "from src.utils import env_utils\n",
    "\n",
    "logger = logging.getLogger(__name__)\n",
    "\n",
    "logging.basicConfig(\n",
    "    level=logging.DEBUG,\n",
    "    format=logging_utils.DEFAULT_FORMAT,\n",
    "    datefmt=logging_utils.DEFAULT_DATEFMT,\n",
    "    stream=sys.stdout,\n",
    ")\n",
    "\n",
    "import torch\n",
    "import transformers\n",
    "\n",
    "logger.info(f\"{torch.__version__=}, {torch.version.cuda=}\")\n",
    "logger.info(\n",
    "    f\"{torch.cuda.is_available()=}, {torch.cuda.device_count()=}, {torch.cuda.get_device_name()=}\"\n",
    ")\n",
    "logger.info(f\"{transformers.__version__=}\")"
   ]
  },
  {
   "cell_type": "code",
   "execution_count": 3,
   "id": "334ebcc8",
   "metadata": {},
   "outputs": [
    {
     "name": "stdout",
     "output_type": "stream",
     "text": [
      "[2025-07-18 15:51:05,813] [INFO] [real_accelerator.py:239:get_accelerator] Setting ds_accelerator to cuda (auto detect)\n",
      "2025-07-18 15:51:05 root INFO     gcc -pthread -B /disk/u/arnab/miniconda3/envs/connection/compiler_compat -DNDEBUG -fwrapv -O2 -Wall -fPIC -O2 -isystem /disk/u/arnab/miniconda3/envs/connection/include -fPIC -O2 -isystem /disk/u/arnab/miniconda3/envs/connection/include -fPIC -c /tmp/tmpvki_zyuw/test.c -o /tmp/tmpvki_zyuw/test.o\n",
      "2025-07-18 15:51:05 root INFO     gcc -pthread -B /disk/u/arnab/miniconda3/envs/connection/compiler_compat /tmp/tmpvki_zyuw/test.o -laio -o /tmp/tmpvki_zyuw/a.out\n"
     ]
    },
    {
     "name": "stderr",
     "output_type": "stream",
     "text": [
      "/disk/u/arnab/miniconda3/envs/connection/compiler_compat/ld: cannot find -laio: No such file or directory\n",
      "collect2: error: ld returned 1 exit status\n"
     ]
    },
    {
     "name": "stdout",
     "output_type": "stream",
     "text": [
      "2025-07-18 15:51:06 root INFO     gcc -pthread -B /disk/u/arnab/miniconda3/envs/connection/compiler_compat -DNDEBUG -fwrapv -O2 -Wall -fPIC -O2 -isystem /disk/u/arnab/miniconda3/envs/connection/include -fPIC -O2 -isystem /disk/u/arnab/miniconda3/envs/connection/include -fPIC -c /tmp/tmpii1j9vlx/test.c -o /tmp/tmpii1j9vlx/test.o\n",
      "2025-07-18 15:51:06 root INFO     gcc -pthread -B /disk/u/arnab/miniconda3/envs/connection/compiler_compat /tmp/tmpii1j9vlx/test.o -L/usr -L/usr/lib64 -lcufile -o /tmp/tmpii1j9vlx/a.out\n"
     ]
    },
    {
     "name": "stderr",
     "output_type": "stream",
     "text": [
      "/disk/u/arnab/miniconda3/envs/connection/compiler_compat/ld: cannot find -lcufile: No such file or directory\n",
      "collect2: error: ld returned 1 exit status\n"
     ]
    },
    {
     "name": "stdout",
     "output_type": "stream",
     "text": [
      "2025-07-18 15:51:07 git.cmd DEBUG    Popen(['git', 'version'], cwd=/disk/u/arnab/Codes/Projects/retrieval/notebooks, stdin=None, shell=False, universal_newlines=False)\n",
      "2025-07-18 15:51:07 git.cmd DEBUG    Popen(['git', 'version'], cwd=/disk/u/arnab/Codes/Projects/retrieval/notebooks, stdin=None, shell=False, universal_newlines=False)\n",
      "2025-07-18 15:51:07 wandb.docker.auth DEBUG    Trying paths: ['/disk/u/arnab/.docker/config.json', '/disk/u/arnab/.dockercfg']\n",
      "2025-07-18 15:51:07 wandb.docker.auth DEBUG    No config file found\n"
     ]
    }
   ],
   "source": [
    "from src.utils.training_utils import get_device_map\n",
    "\n",
    "# model_key = \"meta-llama/Llama-3.2-3B\"\n",
    "# model_key = \"meta-llama/Llama-3.1-8B\"\n",
    "model_key = \"meta-llama/Llama-3.3-70B-Instruct\"\n",
    "# model_key = \"meta-llama/Llama-3.1-405B-Instruct\"\n",
    "\n",
    "# model_key = \"google/gemma-2-9b-it\"\n",
    "# model_key = \"google/gemma-3-12b-it\"\n",
    "# model_key = \"google/gemma-2-27b-it\"\n",
    "\n",
    "# model_key = \"deepseek-ai/DeepSeek-R1-Distill-Llama-8B\"\n",
    "\n",
    "# model_key = \"allenai/OLMo-2-1124-7B-Instruct\"\n",
    "# model_key = \"allenai/OLMo-7B-0424-hf\"\n",
    "\n",
    "# model_key = \"Qwen/Qwen2-7B\"\n",
    "# model_key = \"Qwen/Qwen2.5-14B-Instruct\"\n",
    "# model_key = \"Qwen/Qwen2.5-32B-Instruct\"\n",
    "# model_key = \"Qwen/Qwen2.5-72B-Instruct\"\n",
    "\n",
    "# model_key = \"Qwen/Qwen3-1.7B\"\n",
    "# model_key = \"Qwen/Qwen3-4B\"\n",
    "# model_key = \"Qwen/Qwen3-8B\"\n",
    "# model_key = \"Qwen/Qwen3-14B\"\n",
    "# model_key = \"Qwen/Qwen3-32B\"\n",
    "\n",
    "# device_map = get_device_map(model_key, 30, n_gpus=8)\n",
    "# device_map"
   ]
  },
  {
   "cell_type": "code",
   "execution_count": null,
   "id": "bb9ed140",
   "metadata": {},
   "outputs": [],
   "source": []
  },
  {
   "cell_type": "code",
   "execution_count": 4,
   "id": "98b9ca5e",
   "metadata": {},
   "outputs": [],
   "source": [
    "# os.environ[\"BNB_CUDA_VERSION\"] = \"124\"\n",
    "# ! echo $BNB_CUDA_VERSION\n",
    "# ! python -m bitsandbytes"
   ]
  },
  {
   "cell_type": "code",
   "execution_count": 5,
   "id": "08146fbb",
   "metadata": {},
   "outputs": [
    {
     "name": "stdout",
     "output_type": "stream",
     "text": [
      "2025-07-18 15:51:14 src.models WARNING  meta-llama/Llama-3.3-70B-Instruct not found in /disk/u/arnab/Codes/Models\n",
      "If not found in cache, model will be downloaded from HuggingFace to cache directory\n",
      "2025-07-18 15:51:14 urllib3.connectionpool DEBUG    Starting new HTTPS connection (1): huggingface.co:443\n"
     ]
    },
    {
     "name": "stdout",
     "output_type": "stream",
     "text": [
      "2025-07-18 15:51:14 urllib3.connectionpool DEBUG    https://huggingface.co:443 \"HEAD /meta-llama/Llama-3.3-70B-Instruct/resolve/main/config.json HTTP/1.1\" 200 0\n",
      "2025-07-18 15:51:14 urllib3.connectionpool DEBUG    https://huggingface.co:443 \"HEAD /meta-llama/Llama-3.3-70B-Instruct/resolve/main/tokenizer_config.json HTTP/1.1\" 200 0\n"
     ]
    },
    {
     "data": {
      "application/vnd.jupyter.widget-view+json": {
       "model_id": "f00197216b0d44d9830345d064a587ec",
       "version_major": 2,
       "version_minor": 0
      },
      "text/plain": [
       "Loading checkpoint shards:   0%|          | 0/30 [00:00<?, ?it/s]"
      ]
     },
     "metadata": {},
     "output_type": "display_data"
    },
    {
     "name": "stdout",
     "output_type": "stream",
     "text": [
      "2025-07-18 15:52:04 urllib3.connectionpool DEBUG    https://huggingface.co:443 \"HEAD /meta-llama/Llama-3.3-70B-Instruct/resolve/main/generation_config.json HTTP/1.1\" 200 0\n",
      "2025-07-18 15:52:04 src.models INFO     loaded model <meta-llama/Llama-3.3-70B-Instruct> | size: 134570.516 MB | dtype: torch.bfloat16 | device: cuda:0\n"
     ]
    }
   ],
   "source": [
    "from src.models import ModelandTokenizer\n",
    "\n",
    "# from transformers import BitsAndBytesConfig\n",
    "\n",
    "mt = ModelandTokenizer(\n",
    "    model_key=model_key,\n",
    "    torch_dtype=torch.bfloat16,\n",
    "    # device_map=device_map,\n",
    "    device_map=\"auto\",\n",
    "    # quantization_config = BitsAndBytesConfig(\n",
    "    #     # load_in_4bit=True\n",
    "    #     load_in_8bit=True\n",
    "    # )\n",
    ")"
   ]
  },
  {
   "cell_type": "code",
   "execution_count": 6,
   "id": "734c20e1",
   "metadata": {},
   "outputs": [
    {
     "name": "stdout",
     "output_type": "stream",
     "text": [
      "['trainable_params.pt']\n"
     ]
    },
    {
     "data": {
      "text/plain": [
       "tensor(0.0010, dtype=torch.bfloat16, grad_fn=<MaxBackward1>)"
      ]
     },
     "execution_count": 6,
     "metadata": {},
     "output_type": "execute_result"
    }
   ],
   "source": [
    "from src.functional import free_gpu_cache\n",
    "\n",
    "# SYNTH_DATASET = \"icosahedron_1\"\n",
    "SYNTH_DATASET = \"64\"\n",
    "\n",
    "checkpoint_path = os.path.join(\n",
    "    env_utils.DEFAULT_RESULTS_DIR,\n",
    "    \"trained_params\",\n",
    "    f\"{SYNTH_DATASET}\",\n",
    "    \"_full__clamp=0.001\",\n",
    "    model_key.split(\"/\")[-1],\n",
    ")\n",
    "\n",
    "version = \"epoch_1\"\n",
    "# version = \"final_model\"\n",
    "\n",
    "checkpoint_path = os.path.join(env_utils.DEFAULT_RESULTS_DIR, checkpoint_path, version)\n",
    "\n",
    "print(os.listdir(checkpoint_path))\n",
    "\n",
    "checkpoint_path = os.path.join(checkpoint_path, \"trainable_params.pt\")\n",
    "\n",
    "loaded_deltas = torch.load(checkpoint_path, map_location=\"cpu\")\n",
    "# loaded_deltas\n",
    "\n",
    "free_gpu_cache()\n",
    "\n",
    "\n",
    "d = loaded_deltas[\"model<>layers<>10<>mlp<>gate_proj\"]\n",
    "d.abs().max()"
   ]
  },
  {
   "cell_type": "code",
   "execution_count": 7,
   "id": "dff389ee",
   "metadata": {},
   "outputs": [
    {
     "name": "stdout",
     "output_type": "stream",
     "text": [
      "2025-07-18 15:52:18 src.utils.training_utils DEBUG    module_name='model.layers.0.mlp.gate_proj' | param_delta.shape=torch.Size([28672, 8192])\n",
      "2025-07-18 15:52:18 src.utils.training_utils DEBUG    module_name='model.layers.0.mlp.up_proj' | param_delta.shape=torch.Size([28672, 8192])\n",
      "2025-07-18 15:52:18 src.utils.training_utils DEBUG    module_name='model.layers.0.mlp.down_proj' | param_delta.shape=torch.Size([8192, 28672])\n",
      "2025-07-18 15:52:18 src.utils.training_utils DEBUG    module_name='model.layers.1.mlp.gate_proj' | param_delta.shape=torch.Size([28672, 8192])\n",
      "2025-07-18 15:52:18 src.utils.training_utils DEBUG    module_name='model.layers.1.mlp.up_proj' | param_delta.shape=torch.Size([28672, 8192])\n",
      "2025-07-18 15:52:18 src.utils.training_utils DEBUG    module_name='model.layers.1.mlp.down_proj' | param_delta.shape=torch.Size([8192, 28672])\n",
      "2025-07-18 15:52:18 src.utils.training_utils DEBUG    module_name='model.layers.2.mlp.gate_proj' | param_delta.shape=torch.Size([28672, 8192])\n",
      "2025-07-18 15:52:18 src.utils.training_utils DEBUG    module_name='model.layers.2.mlp.up_proj' | param_delta.shape=torch.Size([28672, 8192])\n",
      "2025-07-18 15:52:19 src.utils.training_utils DEBUG    module_name='model.layers.2.mlp.down_proj' | param_delta.shape=torch.Size([8192, 28672])\n",
      "2025-07-18 15:52:19 src.utils.training_utils DEBUG    module_name='model.layers.3.mlp.gate_proj' | param_delta.shape=torch.Size([28672, 8192])\n",
      "2025-07-18 15:52:19 src.utils.training_utils DEBUG    module_name='model.layers.3.mlp.up_proj' | param_delta.shape=torch.Size([28672, 8192])\n",
      "2025-07-18 15:52:19 src.utils.training_utils DEBUG    module_name='model.layers.3.mlp.down_proj' | param_delta.shape=torch.Size([8192, 28672])\n",
      "2025-07-18 15:52:19 src.utils.training_utils DEBUG    module_name='model.layers.4.mlp.gate_proj' | param_delta.shape=torch.Size([28672, 8192])\n",
      "2025-07-18 15:52:19 src.utils.training_utils DEBUG    module_name='model.layers.4.mlp.up_proj' | param_delta.shape=torch.Size([28672, 8192])\n",
      "2025-07-18 15:52:19 src.utils.training_utils DEBUG    module_name='model.layers.4.mlp.down_proj' | param_delta.shape=torch.Size([8192, 28672])\n",
      "2025-07-18 15:52:19 src.utils.training_utils DEBUG    module_name='model.layers.5.mlp.gate_proj' | param_delta.shape=torch.Size([28672, 8192])\n",
      "2025-07-18 15:52:19 src.utils.training_utils DEBUG    module_name='model.layers.5.mlp.up_proj' | param_delta.shape=torch.Size([28672, 8192])\n",
      "2025-07-18 15:52:20 src.utils.training_utils DEBUG    module_name='model.layers.5.mlp.down_proj' | param_delta.shape=torch.Size([8192, 28672])\n",
      "2025-07-18 15:52:20 src.utils.training_utils DEBUG    module_name='model.layers.6.mlp.gate_proj' | param_delta.shape=torch.Size([28672, 8192])\n",
      "2025-07-18 15:52:20 src.utils.training_utils DEBUG    module_name='model.layers.6.mlp.up_proj' | param_delta.shape=torch.Size([28672, 8192])\n",
      "2025-07-18 15:52:20 src.utils.training_utils DEBUG    module_name='model.layers.6.mlp.down_proj' | param_delta.shape=torch.Size([8192, 28672])\n",
      "2025-07-18 15:52:20 src.utils.training_utils DEBUG    module_name='model.layers.7.mlp.gate_proj' | param_delta.shape=torch.Size([28672, 8192])\n",
      "2025-07-18 15:52:20 src.utils.training_utils DEBUG    module_name='model.layers.7.mlp.up_proj' | param_delta.shape=torch.Size([28672, 8192])\n",
      "2025-07-18 15:52:20 src.utils.training_utils DEBUG    module_name='model.layers.7.mlp.down_proj' | param_delta.shape=torch.Size([8192, 28672])\n",
      "2025-07-18 15:52:20 src.utils.training_utils DEBUG    module_name='model.layers.8.mlp.gate_proj' | param_delta.shape=torch.Size([28672, 8192])\n",
      "2025-07-18 15:52:20 src.utils.training_utils DEBUG    module_name='model.layers.8.mlp.up_proj' | param_delta.shape=torch.Size([28672, 8192])\n",
      "2025-07-18 15:52:20 src.utils.training_utils DEBUG    module_name='model.layers.8.mlp.down_proj' | param_delta.shape=torch.Size([8192, 28672])\n",
      "2025-07-18 15:52:21 src.utils.training_utils DEBUG    module_name='model.layers.9.mlp.gate_proj' | param_delta.shape=torch.Size([28672, 8192])\n",
      "2025-07-18 15:52:21 src.utils.training_utils DEBUG    module_name='model.layers.9.mlp.up_proj' | param_delta.shape=torch.Size([28672, 8192])\n",
      "2025-07-18 15:52:21 src.utils.training_utils DEBUG    module_name='model.layers.9.mlp.down_proj' | param_delta.shape=torch.Size([8192, 28672])\n",
      "2025-07-18 15:52:21 src.utils.training_utils DEBUG    module_name='model.layers.10.mlp.gate_proj' | param_delta.shape=torch.Size([28672, 8192])\n",
      "2025-07-18 15:52:21 src.utils.training_utils DEBUG    module_name='model.layers.10.mlp.up_proj' | param_delta.shape=torch.Size([28672, 8192])\n",
      "2025-07-18 15:52:21 src.utils.training_utils DEBUG    module_name='model.layers.10.mlp.down_proj' | param_delta.shape=torch.Size([8192, 28672])\n",
      "2025-07-18 15:52:21 src.utils.training_utils DEBUG    module_name='model.layers.11.mlp.gate_proj' | param_delta.shape=torch.Size([28672, 8192])\n",
      "2025-07-18 15:52:21 src.utils.training_utils DEBUG    module_name='model.layers.11.mlp.up_proj' | param_delta.shape=torch.Size([28672, 8192])\n",
      "2025-07-18 15:52:21 src.utils.training_utils DEBUG    module_name='model.layers.11.mlp.down_proj' | param_delta.shape=torch.Size([8192, 28672])\n",
      "2025-07-18 15:52:21 src.utils.training_utils DEBUG    module_name='model.layers.12.mlp.gate_proj' | param_delta.shape=torch.Size([28672, 8192])\n",
      "2025-07-18 15:52:22 src.utils.training_utils DEBUG    module_name='model.layers.12.mlp.up_proj' | param_delta.shape=torch.Size([28672, 8192])\n",
      "2025-07-18 15:52:22 src.utils.training_utils DEBUG    module_name='model.layers.12.mlp.down_proj' | param_delta.shape=torch.Size([8192, 28672])\n",
      "2025-07-18 15:52:22 src.utils.training_utils DEBUG    module_name='model.layers.13.mlp.gate_proj' | param_delta.shape=torch.Size([28672, 8192])\n",
      "2025-07-18 15:52:22 src.utils.training_utils DEBUG    module_name='model.layers.13.mlp.up_proj' | param_delta.shape=torch.Size([28672, 8192])\n",
      "2025-07-18 15:52:22 src.utils.training_utils DEBUG    module_name='model.layers.13.mlp.down_proj' | param_delta.shape=torch.Size([8192, 28672])\n",
      "2025-07-18 15:52:22 src.utils.training_utils DEBUG    module_name='model.layers.14.mlp.gate_proj' | param_delta.shape=torch.Size([28672, 8192])\n",
      "2025-07-18 15:52:22 src.utils.training_utils DEBUG    module_name='model.layers.14.mlp.up_proj' | param_delta.shape=torch.Size([28672, 8192])\n",
      "2025-07-18 15:52:22 src.utils.training_utils DEBUG    module_name='model.layers.14.mlp.down_proj' | param_delta.shape=torch.Size([8192, 28672])\n"
     ]
    }
   ],
   "source": [
    "from src.utils.training_utils import TrainableLM_delta, TrainableLM_LoRA\n",
    "\n",
    "#################################################\n",
    "Trainable_CLS = TrainableLM_delta\n",
    "# Trainable_CLS = TrainableLM_LoRA\n",
    "#################################################\n",
    "\n",
    "Trainable_CLS.fuse_with_model(mt._model, loaded_deltas)"
   ]
  },
  {
   "cell_type": "code",
   "execution_count": 10,
   "id": "49f26ad8",
   "metadata": {},
   "outputs": [
    {
     "name": "stdout",
     "output_type": "stream",
     "text": [
      "2025-07-18 15:52:55 src.selection.data INFO     Loaded 16 categories\n"
     ]
    },
    {
     "data": {
      "text/plain": [
       "['actor',\n",
       " 'singer',\n",
       " 'comedian',\n",
       " 'director',\n",
       " 'basketball player',\n",
       " 'football player',\n",
       " 'soccer player',\n",
       " 'tennis player',\n",
       " 'golfer',\n",
       " 'boxer',\n",
       " 'news anchor',\n",
       " 'journalist',\n",
       " 'author',\n",
       " 'fashion designer',\n",
       " 'entrepreneur',\n",
       " 'politician']"
      ]
     },
     "execution_count": 10,
     "metadata": {},
     "output_type": "execute_result"
    }
   ],
   "source": [
    "from src.selection.data  import load_people_by_category\n",
    "\n",
    "people_by_category = load_people_by_category(tokenizer = mt.tokenizer)\n",
    "list(people_by_category.keys())"
   ]
  },
  {
   "cell_type": "markdown",
   "id": "40e6e17e",
   "metadata": {},
   "source": [
    "## Patching"
   ]
  },
  {
   "cell_type": "markdown",
   "id": "9dffd14e",
   "metadata": {},
   "source": [
    "### Testing"
   ]
  },
  {
   "cell_type": "code",
   "execution_count": null,
   "id": "c52e0637",
   "metadata": {},
   "outputs": [],
   "source": [
    "from src.functional import generate_with_patch\n",
    "import random\n",
    "\n",
    "# SELECT ONE TASK\n",
    "prompt_template = \"\"\"Which person from the following list has the profession in common with {}?\n",
    "{}.\n",
    "Ans:\"\"\"\n",
    "\n",
    "# pivot_subj = \"Celine Dion\"\n",
    "# entity_list = [\"Ryan Reynolds\", \"Claude Monet\", \"Albert Einstein\", \"Taylor Swift\", \"Pablo Picasso\", \"Barack Obama\", \"J.K. Rowling\", \"Pierre Dubois\"]\n",
    "\n",
    "# pivot_subj = \"Jim Henson\"\n",
    "# entity_list = [\n",
    "#     \"Celine Dion\",\n",
    "#     \"Taylor Swift\",\n",
    "#     \"Ryan Reynolds\",\n",
    "#     \"Claude Monet\",\n",
    "#     \"Albert Einstein\",\n",
    "#     \"Pablo Picasso\",\n",
    "#     \"Bil Baird\",\n",
    "#     \"Barack Obama\",\n",
    "#     \"J.K. Rowling\",\n",
    "#     \"Pierre Dubois\",\n",
    "#     \"Sachin Tendulkar\",\n",
    "#     \"Hugh Jackman\",\n",
    "#     \"Jackie Chan\",\n",
    "#     \"Jet Li\",\n",
    "#     \"Diego Maradona\",\n",
    "#     \"Lionel Messi\",\n",
    "#     \"Frida Kahlo\",\n",
    "#     \"Diego Rivera\",\n",
    "# ]\n",
    "\n",
    "# patch_subj = \"Justin Trudeau\"\n",
    "# patch_obj = \"Barack Obama\"\n",
    "# patch_obj_pos = 2\n",
    "# patch_subj_distractor = \"Emmanuel Macron\"\n",
    "# patch_obj, patch_subj_distractor = patch_subj_distractor, patch_obj\n",
    "\n",
    "# patch_subj = \"Hugh Jackman\"\n",
    "# patch_subj = \"Carl Sagan\"\n",
    "# patch_subj = \"Ricky Ponting\"\n",
    "# patch_subj = \"George R. R. Martin\"\n",
    "\n",
    "# patch_subj = \"Celine Dion\"\n",
    "# patch_obj = \"Taylor Swift\"\n",
    "# patch_subj_distractor = \"Adele Laurie Blue Adkins\"\n",
    "\n",
    "# patch_distractors = [\n",
    "#     \"Robin Hobb\",\n",
    "#     \"Michael Jordan\",\n",
    "#     \"Tom Cruise\",\n",
    "#     \"Albert Einstein\",\n",
    "#     \"Brian Lara\",\n",
    "# ]\n",
    "\n",
    "######################################################################\n",
    "patch_prof = \"actor\"\n",
    "patch_obj_pos = 1\n",
    "n_distractors = 5\n",
    "######################################################################\n",
    "\n",
    "# patch_subj = random.choice(people_by_prof_set[patch_prof].values)\n",
    "# patch_obj = random.choice(\n",
    "#     (people_by_prof_set[patch_prof] - KeyedSet([patch_subj])).values\n",
    "# )\n",
    "# patch_subj_distractor = random.choice(\n",
    "#     (people_by_prof_set[patch_prof] - KeyedSet([patch_obj, patch_subj])).values\n",
    "# )\n",
    "\n",
    "\n",
    "# patch_distractors = []\n",
    "# other_profs = random.choices(\n",
    "#     list(set(people_by_prof.keys()) - {patch_prof}), k=n_distractors\n",
    "# )\n",
    "\n",
    "# for prof in other_profs:\n",
    "#     patch_distractors.append(random.choice(people_by_prof[prof]))\n",
    "\n",
    "# patch_list = (\n",
    "#     patch_distractors[:patch_obj_pos] + [patch_obj] + patch_distractors[patch_obj_pos:]\n",
    "# )\n",
    "# obj_corrupt = get_first_token_id(patch_obj)\n",
    "# print(f'{obj_corrupt=} >> \"{mt.tokenizer.decode(obj_corrupt)}\", {patch_obj=}')\n",
    "\n",
    "# obj_patch_subj = get_first_token_id(patch_subj_distractor)\n",
    "# print(f'{obj_patch_subj=} >> \"{mt.tokenizer.decode(obj_patch_subj)}\", {patch_subj_distractor=}')\n",
    "\n",
    "# patch_prompt = prompt_template.format(patch_subj, \", \".join(patch_list))\n",
    "# print(f'\"{patch_prompt}\"')\n",
    "\n",
    "patch_sample = get_random_sample(\n",
    "    people_by_category=people_by_category,\n",
    "    mt=mt,\n",
    "    n_distractors=n_distractors,\n",
    "    get_alt_obj=True,\n",
    "    category=patch_prof,\n",
    "    obj_idx=patch_obj_pos,\n",
    ")\n",
    "\n",
    "print(patch_sample)\n",
    "print(patch_sample.prompt)\n",
    "\n",
    "patch_gen = generate_with_patch(\n",
    "    mt=mt,\n",
    "    inputs=patch_sample.prompt,\n",
    "    max_new_tokens=30,\n",
    "    n_gen_per_prompt=1,\n",
    "    do_sample=False,\n",
    "    remove_prefix=True,\n",
    ")[0]\n",
    "print(f\"{patch_gen}\")"
   ]
  },
  {
   "cell_type": "code",
   "execution_count": null,
   "id": "7a20c036",
   "metadata": {},
   "outputs": [],
   "source": [
    "patch_sample.prediction"
   ]
  },
  {
   "cell_type": "code",
   "execution_count": null,
   "id": "8f97f89b",
   "metadata": {},
   "outputs": [],
   "source": [
    "from src.functional import get_hs, interpret_logits\n",
    "from src.utils.typing import TokenizerOutput\n",
    "\n",
    "locations = [(layer_name, -1) for layer_name in mt.layer_names]\n",
    "logit_location = (mt.lm_head_name, -1)\n",
    "\n",
    "\n",
    "patch_hs = get_hs(\n",
    "    mt = mt,\n",
    "    input=TokenizerOutput(data = patch_sample.metadata[\"tokenized\"]),\n",
    "    locations=locations + [logit_location],\n",
    "    return_dict=True\n",
    ")\n",
    "\n",
    "logit = patch_hs[logit_location]\n",
    "pred = interpret_logits(\n",
    "    logits = logit,\n",
    "    tokenizer=mt\n",
    ")\n",
    "pred"
   ]
  },
  {
   "cell_type": "code",
   "execution_count": null,
   "id": "98d488e2",
   "metadata": {},
   "outputs": [],
   "source": [
    "patch_sample.metadata[\"alt_obj\"]"
   ]
  },
  {
   "cell_type": "code",
   "execution_count": null,
   "id": "b20158d8",
   "metadata": {},
   "outputs": [],
   "source": [
    "##############################################################\n",
    "clean_prof = \"tennis player\"\n",
    "clean_obj_pos = 5\n",
    "patch_type_pos = random.choice(\n",
    "    list(set(list(range(0, n_distractors))) - {clean_obj_pos, patch_obj_pos})\n",
    ")\n",
    "##############################################################\n",
    "\n",
    "clean_sample = get_random_sample(\n",
    "    people_by_category=people_by_category,\n",
    "    mt=mt,\n",
    "    n_distractors=n_distractors,\n",
    "    get_alt_obj=False,\n",
    "    category=clean_prof,\n",
    "    obj_idx=clean_obj_pos,\n",
    "    filter_by_lm_prediction=True,\n",
    "    exclude_objs=[patch_sample.obj, patch_sample.metadata[\"alt_obj\"][0]],\n",
    "    exclude_distractor_categories=[patch_prof, \"singer\"],\n",
    "    insert_distractor=[(patch_sample.metadata[\"alt_obj\"][0], patch_type_pos)],\n",
    ")\n",
    "\n",
    "print(clean_sample)\n",
    "print(clean_sample.prompt)\n",
    "clean_sample.prediction"
   ]
  },
  {
   "cell_type": "code",
   "execution_count": null,
   "id": "2f1a631a",
   "metadata": {},
   "outputs": [],
   "source": [
    "from src.selection.utils import get_first_token_id\n",
    "\n",
    "obj_corrupt = patch_sample.obj\n",
    "obj_clean = clean_sample.obj\n",
    "obj_pointer = clean_sample.options[patch_obj_pos]\n",
    "obj_patch_type = patch_sample.metadata[\"alt_obj\"][0]\n",
    "obj_rand = random.choice(\n",
    "    list(set(clean_sample.options) - {obj_clean, obj_pointer, obj_corrupt})\n",
    ")\n",
    "\n",
    "obj_track = {\n",
    "    \"corrupt\": obj_corrupt,\n",
    "    \"clean\": obj_clean,\n",
    "    \"pointer\": obj_pointer,\n",
    "    \"patch_type\": obj_patch_type,\n",
    "    \"rand\": obj_rand,\n",
    "    \"none\": \" None\"\n",
    "}\n",
    "\n",
    "for obj_type in obj_track:\n",
    "    obj = obj_track[obj_type]\n",
    "    obj_id = get_first_token_id(obj, mt.tokenizer, prefix=\" \")\n",
    "    obj_track[obj_type] = {\n",
    "        \"id\": obj_id,\n",
    "        \"token\": mt.tokenizer.decode(obj_id),\n",
    "        \"name\": obj,\n",
    "    }\n",
    "\n",
    "obj_track"
   ]
  },
  {
   "cell_type": "code",
   "execution_count": null,
   "id": "b9ec40c2",
   "metadata": {},
   "outputs": [],
   "source": [
    "from src.functional import PatchSpec\n",
    "\n",
    "clean_tokenized = TokenizerOutput(\n",
    "    data=clean_sample.metadata[\"tokenized\"],\n",
    ")\n",
    "\n",
    "interested_tokens = [obj[\"id\"] for obj in obj_track.values()]\n",
    "\n",
    "patching_results = {}\n",
    "for layer_name in mt.layer_names[::1]:\n",
    "    int_logit = get_hs(\n",
    "        mt = mt,\n",
    "        input = clean_tokenized,\n",
    "        patches = [PatchSpec(\n",
    "            location=(layer_name, -1),\n",
    "            patch=patch_hs[(layer_name, -1)],\n",
    "            strategy=\"replace\"\n",
    "        )],\n",
    "        locations = [logit_location],\n",
    "        return_dict=False\n",
    "    ).squeeze(0)\n",
    "\n",
    "    pred, track = interpret_logits(\n",
    "        logits=int_logit,\n",
    "        tokenizer=mt,\n",
    "        interested_tokens=interested_tokens,\n",
    "    )\n",
    "    patching_results[layer_name] = {\n",
    "        \"pred\": pred,\n",
    "        \"track\": track\n",
    "    }\n",
    "    print(f'{layer_name}: {[str(p) for p in pred]}, | track: {track}')"
   ]
  },
  {
   "cell_type": "code",
   "execution_count": null,
   "id": "67883de7",
   "metadata": {},
   "outputs": [],
   "source": [
    "track"
   ]
  },
  {
   "cell_type": "code",
   "execution_count": null,
   "id": "cbd39921",
   "metadata": {},
   "outputs": [],
   "source": [
    "from matplotlib import pyplot as plt\n",
    "\n",
    "METRIC = \"logit\"\n",
    "scores = {obj_type: [] for obj_type in obj_track.keys()}\n",
    "colors = {\n",
    "    \"corrupt\": \"red\",\n",
    "    \"clean\": \"green\",\n",
    "    \"pointer\": \"blue\",\n",
    "    \"patch_type\": \"orange\",\n",
    "    \"rand\": \"black\",\n",
    "    \"none\": \"gray\",\n",
    "}\n",
    "\n",
    "for layer_name, result in patching_results.items():\n",
    "    track = result[\"track\"]\n",
    "    for obj_type in obj_track.keys():\n",
    "        tok_id = obj_track[obj_type][\"id\"]\n",
    "        s = getattr(track[tok_id][1], METRIC)\n",
    "        scores[obj_type].append(s)\n",
    "\n",
    "xkeys = list(patching_results.keys())\n",
    "plt.figure(figsize=(18, 6))\n",
    "\n",
    "for key in scores:\n",
    "    plt.plot(xkeys, scores[key], label=key, marker='o', markersize=3, color=colors[key])\n",
    "\n",
    "\n",
    "plt.xticks(rotation=90)\n",
    "plt.xlabel(\"Layer\")\n",
    "plt.ylabel(\"Logit Score\")\n",
    "\n",
    "plt.legend(ncols=len(scores), loc=\"upper center\", bbox_to_anchor=(0.5, 1.15))\n",
    "\n",
    "plt.show()"
   ]
  },
  {
   "cell_type": "code",
   "execution_count": null,
   "id": "9138d89e",
   "metadata": {},
   "outputs": [],
   "source": [
    "# **scale up**\n",
    "from src.selection.data import (\n",
    "    SelectionPatchingResult,\n",
    "    ObjectwiseResult,\n",
    "    LayerwiseResult,\n",
    ")\n",
    "\n",
    "# SELECT ONE TASK\n",
    "prompt_template = \"\"\"Which person from the following list has the profession in common with {}?\n",
    "{}.\n",
    "Ans:\"\"\"\n",
    "\n",
    "##################################################################################################\n",
    "N_RUNS = 1000\n",
    "N_DISTRACTORS = 5\n",
    "SAVE_DIR = os.path.join(\n",
    "    env_utils.DEFAULT_RESULTS_DIR,\n",
    "    \"selection\",\n",
    "    mt.name.split(\"/\")[-1],\n",
    "    \"patching_results\",\n",
    "    \"last_token\"\n",
    ")\n",
    "\n",
    "save_step = 50\n",
    "\n",
    "locations = [(layer_name, -1) for layer_name in mt.layer_names]\n",
    "logit_location = (mt.lm_head_name, -1)\n",
    "layer_step = 1\n",
    "##################################################################################################\n",
    "\n",
    "os.makedirs(SAVE_DIR, exist_ok=True)\n",
    "run_idx = 0\n",
    "patching_results = []\n",
    "\n",
    "while run_idx < N_RUNS:\n",
    "    run_idx += 1\n",
    "    logger.info(\"#\" * 100)\n",
    "    logger.info(f\"Run {run_idx}/{N_RUNS}\")\n",
    "\n",
    "    # select the patch sample\n",
    "    patch_prof = random.choice(list(people_by_category.keys()))\n",
    "    patch_obj_pos = random.choice(list(range(N_DISTRACTORS)))\n",
    "    logger.info(f\"patch_prof={patch_prof}, patch_obj_pos={patch_obj_pos}\")\n",
    "\n",
    "    # TODO(arnab): Check accuracy with the object as well.\n",
    "    patch_sample = get_random_sample(\n",
    "        people_by_category=people_by_category,\n",
    "        mt=mt,\n",
    "        n_distractors=N_DISTRACTORS,\n",
    "        get_alt_obj=True,\n",
    "        category=patch_prof,\n",
    "        obj_idx=patch_obj_pos,\n",
    "    )\n",
    "    logger.info(f\"patch_sample={str(patch_sample)}\")\n",
    "    logger.info(f\"patch predictions={[str(pred) for pred in patch_sample.prediction]}\")\n",
    "    logger.info(\"-\" * 50)\n",
    "\n",
    "    # cache states\n",
    "    patch_hs = get_hs(\n",
    "        mt=mt,\n",
    "        input=TokenizerOutput(data=patch_sample.metadata[\"tokenized\"]),\n",
    "        locations=locations,  # + [logit_location],\n",
    "        return_dict=True,\n",
    "    )\n",
    "\n",
    "    # select the clean sample\n",
    "    clean_prof = random.choice(list(set(people_by_category.keys()) - {patch_prof}))\n",
    "    clean_obj_pos = random.choice(\n",
    "        [idx for idx in range(N_DISTRACTORS) if idx != patch_obj_pos]\n",
    "    )\n",
    "    patch_type_pos = random.choice(\n",
    "        list(set(list(range(0, N_DISTRACTORS))) - {clean_obj_pos, patch_obj_pos})\n",
    "    )\n",
    "    logger.info(f\"clean_prof={clean_prof}, clean_obj_pos={clean_obj_pos}\")\n",
    "\n",
    "    logger.debug(\n",
    "        f\"patch_type_pos={patch_type_pos}, patch_obj_pos={patch_obj_pos}, clean_obj_pos={clean_obj_pos}\"\n",
    "    )\n",
    "\n",
    "    clean_sample = get_random_sample(\n",
    "        people_by_category=people_by_category,\n",
    "        mt=mt,\n",
    "        n_distractors=N_DISTRACTORS,\n",
    "        get_alt_obj=False,\n",
    "        category=clean_prof,\n",
    "        obj_idx=clean_obj_pos,\n",
    "        filter_by_lm_prediction=True,\n",
    "        exclude_objs=[patch_sample.obj, patch_sample.metadata[\"alt_obj\"][0]],\n",
    "        exclude_distractor_categories=[patch_prof],\n",
    "        insert_distractor=[(patch_sample.metadata[\"alt_obj\"][0], patch_type_pos)],\n",
    "    )\n",
    "    logger.info(f\"clean_sample={str(clean_sample)}\")\n",
    "    logger.info(f\"clean predictions={[str(pred) for pred in clean_sample.prediction]}\")\n",
    "    logger.info(\"-\" * 50)\n",
    "\n",
    "    # do the interventions\n",
    "    clean_tokenized = TokenizerOutput(\n",
    "        data=clean_sample.metadata[\"tokenized\"],\n",
    "    )\n",
    "\n",
    "    obj_corrupt = patch_sample.obj\n",
    "    obj_clean = clean_sample.obj\n",
    "    obj_pointer = clean_sample.options[patch_obj_pos]\n",
    "    obj_patch_type = patch_sample.metadata[\"alt_obj\"][0]\n",
    "    obj_rand = random.choice(\n",
    "        list(set(clean_sample.options) - {obj_clean, obj_pointer, obj_corrupt, obj_patch_type})\n",
    "    )\n",
    "\n",
    "    obj_track = {\n",
    "        \"corrupt\": obj_corrupt,\n",
    "        \"clean\": obj_clean,\n",
    "        \"pointer\": obj_pointer,\n",
    "        \"patch_type\": obj_patch_type,\n",
    "        \"rand\": obj_rand,\n",
    "        \"none\": \" None\",\n",
    "    }\n",
    "\n",
    "    for obj_type in obj_track:\n",
    "        obj = obj_track[obj_type]\n",
    "        obj_id = get_first_token_id(obj, mt.tokenizer, prefix=\" \")\n",
    "        obj_track[obj_type] = {\n",
    "            \"id\": obj_id,\n",
    "            \"token\": mt.tokenizer.decode(obj_id),\n",
    "            \"name\": obj,\n",
    "        }\n",
    "\n",
    "    interested_tokens = [obj[\"id\"] for obj in obj_track.values()]\n",
    "\n",
    "    layerwise_patching_results = {}\n",
    "    for layer_name in mt.layer_names[::1]:\n",
    "        int_logit = get_hs(\n",
    "            mt=mt,\n",
    "            input=clean_tokenized,\n",
    "            patches=[\n",
    "                PatchSpec(\n",
    "                    location=(layer_name, -1),\n",
    "                    patch=patch_hs[(layer_name, -1)],\n",
    "                    strategy=\"replace\",\n",
    "                )\n",
    "            ],\n",
    "            locations=[logit_location],\n",
    "            return_dict=False,\n",
    "        ).squeeze(0)\n",
    "\n",
    "        pred, track = interpret_logits(\n",
    "            logits=int_logit,\n",
    "            tokenizer=mt,\n",
    "            interested_tokens=interested_tokens,\n",
    "        )\n",
    "        objectwise_result = {}\n",
    "        for obj_type in obj_track:\n",
    "            obj_res = track[obj_track[obj_type][\"id\"]]\n",
    "            objectwise_result[obj_type] = ObjectwiseResult(\n",
    "                rank=obj_res[0], pred=obj_res[1]\n",
    "            )\n",
    "        layerwise_patching_results[layer_name] = LayerwiseResult(\n",
    "            predictions=pred, objs=objectwise_result\n",
    "        )\n",
    "        print(f\"{layer_name}: {[str(p) for p in pred]}, | track: {track}\")\n",
    "\n",
    "    patch_sample.detensorize()\n",
    "    clean_sample.detensorize()\n",
    "    \n",
    "    patching_results.append(\n",
    "        SelectionPatchingResult(\n",
    "            patch_sample=patch_sample,\n",
    "            clean_sample=clean_sample,\n",
    "            results=layerwise_patching_results,\n",
    "        )\n",
    "    )\n",
    "\n",
    "    if run_idx % save_step == 0 or run_idx == N_RUNS:\n",
    "        save_file = os.path.join(\n",
    "            SAVE_DIR,\n",
    "            f\"patching_results.json\",\n",
    "        )\n",
    "\n",
    "        with open(save_file, \"w\") as f:\n",
    "            json.dump(\n",
    "                [run.to_dict() for run in patching_results],\n",
    "                f,\n",
    "                indent=2,\n",
    "            )\n",
    "\n",
    "\n",
    "    print(\"#\" * 100)"
   ]
  },
  {
   "cell_type": "code",
   "execution_count": null,
   "id": "5a5e0ccb",
   "metadata": {},
   "outputs": [],
   "source": [
    "patching_results[1].results[mt.layer_name_format.format(5)].objs"
   ]
  },
  {
   "cell_type": "code",
   "execution_count": null,
   "id": "cd6218ef",
   "metadata": {},
   "outputs": [],
   "source": [
    "print(patch_sample.prompt)"
   ]
  },
  {
   "cell_type": "code",
   "execution_count": null,
   "id": "22823d27",
   "metadata": {},
   "outputs": [],
   "source": [
    "# run = patching_results[1]\n",
    "# run.clean_sample.detensorize()\n",
    "# run.patch_sample.detensorize()\n",
    "# with open(\"run.json\", \"w\") as f:\n",
    "#     json.dump(run.to_dict(), f, indent=2)"
   ]
  },
  {
   "cell_type": "code",
   "execution_count": null,
   "id": "9f49384e",
   "metadata": {},
   "outputs": [],
   "source": [
    "# with open(\"run.json\", \"r\") as f:\n",
    "#     run_data = json.load(f)\n",
    "# run_ld = SelectionPatchingResult.from_dict(run_data)"
   ]
  },
  {
   "cell_type": "code",
   "execution_count": null,
   "id": "d089ac44",
   "metadata": {},
   "outputs": [],
   "source": [
    "# for run in patching_results:\n",
    "#     run.clean_sample.detensorize()\n",
    "#     run.patch_sample.detensorize()\n",
    "\n",
    "# with open(\"patching_results.json\", \"w\") as f:\n",
    "#     json.dump(\n",
    "#         [run.to_dict() for run in patching_results],\n",
    "#         f,\n",
    "#         indent=2,\n",
    "#     )"
   ]
  },
  {
   "cell_type": "code",
   "execution_count": 18,
   "id": "d93593aa",
   "metadata": {},
   "outputs": [
    {
     "data": {
      "text/plain": [
       "1000"
      ]
     },
     "execution_count": 18,
     "metadata": {},
     "output_type": "execute_result"
    }
   ],
   "source": [
    "from src.selection.data import SelectionPatchingResult\n",
    "\n",
    "\n",
    "SAVE_DIR = os.path.join(\n",
    "    env_utils.DEFAULT_RESULTS_DIR,\n",
    "    \"selection\",\n",
    "    mt.name.split(\"/\")[-1],\n",
    "    \"patching_results\",\n",
    "    \"last_token\"\n",
    ")\n",
    "\n",
    "\n",
    "with open(os.path.join(SAVE_DIR, \"patching_results.json\"), \"r\") as f:\n",
    "    patching_results_ld = json.load(f)\n",
    "patching_results_ld = [\n",
    "    SelectionPatchingResult.from_dict(run) for run in patching_results_ld\n",
    "]\n",
    "len(patching_results_ld)"
   ]
  },
  {
   "cell_type": "code",
   "execution_count": 24,
   "id": "e344aa73",
   "metadata": {},
   "outputs": [],
   "source": [
    "#######################################################\n",
    "patching_results = patching_results_ld\n",
    "N_RUNS = len(patching_results)\n",
    "#######################################################"
   ]
  },
  {
   "cell_type": "code",
   "execution_count": 25,
   "id": "db343fff",
   "metadata": {},
   "outputs": [
    {
     "name": "stdout",
     "output_type": "stream",
     "text": [
      "2025-07-18 11:27:22 matplotlib.category INFO     Using categorical units to plot a list of strings that are all parsable as floats or dates. If these strings should be plotted as numbers, cast to the appropriate data type before plotting.\n",
      "2025-07-18 11:27:22 matplotlib.category INFO     Using categorical units to plot a list of strings that are all parsable as floats or dates. If these strings should be plotted as numbers, cast to the appropriate data type before plotting.\n",
      "2025-07-18 11:27:22 matplotlib.category INFO     Using categorical units to plot a list of strings that are all parsable as floats or dates. If these strings should be plotted as numbers, cast to the appropriate data type before plotting.\n",
      "2025-07-18 11:27:22 matplotlib.category INFO     Using categorical units to plot a list of strings that are all parsable as floats or dates. If these strings should be plotted as numbers, cast to the appropriate data type before plotting.\n",
      "2025-07-18 11:27:22 matplotlib.category INFO     Using categorical units to plot a list of strings that are all parsable as floats or dates. If these strings should be plotted as numbers, cast to the appropriate data type before plotting.\n",
      "2025-07-18 11:27:22 matplotlib.category INFO     Using categorical units to plot a list of strings that are all parsable as floats or dates. If these strings should be plotted as numbers, cast to the appropriate data type before plotting.\n",
      "2025-07-18 11:27:22 matplotlib.category INFO     Using categorical units to plot a list of strings that are all parsable as floats or dates. If these strings should be plotted as numbers, cast to the appropriate data type before plotting.\n",
      "2025-07-18 11:27:22 matplotlib.category INFO     Using categorical units to plot a list of strings that are all parsable as floats or dates. If these strings should be plotted as numbers, cast to the appropriate data type before plotting.\n",
      "2025-07-18 11:27:22 matplotlib.category INFO     Using categorical units to plot a list of strings that are all parsable as floats or dates. If these strings should be plotted as numbers, cast to the appropriate data type before plotting.\n",
      "2025-07-18 11:27:22 matplotlib.category INFO     Using categorical units to plot a list of strings that are all parsable as floats or dates. If these strings should be plotted as numbers, cast to the appropriate data type before plotting.\n",
      "2025-07-18 11:27:22 matplotlib.category INFO     Using categorical units to plot a list of strings that are all parsable as floats or dates. If these strings should be plotted as numbers, cast to the appropriate data type before plotting.\n",
      "2025-07-18 11:27:22 matplotlib.category INFO     Using categorical units to plot a list of strings that are all parsable as floats or dates. If these strings should be plotted as numbers, cast to the appropriate data type before plotting.\n",
      "2025-07-18 11:27:22 matplotlib.category INFO     Using categorical units to plot a list of strings that are all parsable as floats or dates. If these strings should be plotted as numbers, cast to the appropriate data type before plotting.\n",
      "2025-07-18 11:27:22 matplotlib.category INFO     Using categorical units to plot a list of strings that are all parsable as floats or dates. If these strings should be plotted as numbers, cast to the appropriate data type before plotting.\n",
      "2025-07-18 11:27:22 matplotlib.category INFO     Using categorical units to plot a list of strings that are all parsable as floats or dates. If these strings should be plotted as numbers, cast to the appropriate data type before plotting.\n",
      "2025-07-18 11:27:22 matplotlib.category INFO     Using categorical units to plot a list of strings that are all parsable as floats or dates. If these strings should be plotted as numbers, cast to the appropriate data type before plotting.\n",
      "2025-07-18 11:27:22 matplotlib.category INFO     Using categorical units to plot a list of strings that are all parsable as floats or dates. If these strings should be plotted as numbers, cast to the appropriate data type before plotting.\n",
      "2025-07-18 11:27:22 matplotlib.category INFO     Using categorical units to plot a list of strings that are all parsable as floats or dates. If these strings should be plotted as numbers, cast to the appropriate data type before plotting.\n",
      "2025-07-18 11:27:22 matplotlib.category INFO     Using categorical units to plot a list of strings that are all parsable as floats or dates. If these strings should be plotted as numbers, cast to the appropriate data type before plotting.\n"
     ]
    },
    {
     "data": {
      "image/png": "[encoded data removed]",
      "text/plain": [
       "<Figure size 1800x600 with 1 Axes>"
      ]
     },
     "metadata": {},
     "output_type": "display_data"
    }
   ],
   "source": [
    "from matplotlib import pyplot as plt\n",
    "\n",
    "##############################################\n",
    "METRIC = \"logit\"\n",
    "colors = {\n",
    "    \"corrupt\": \"red\",\n",
    "    \"clean\": \"green\",\n",
    "    \"pointer\": \"blue\",\n",
    "    \"patch_type\": \"darkorange\",\n",
    "    \"rand\": \"black\",\n",
    "    \"none\": \"gray\",\n",
    "}\n",
    "##############################################\n",
    "\n",
    "all_scores = {obj_type: [] for obj_type in colors.keys()}\n",
    "x_keys = list(patching_results[0].results.keys())\n",
    "x_keys = [key.split(\".\")[-1] for key in x_keys]\n",
    "\n",
    "def get_tick_labels(ticks, step=5):\n",
    "    return [\n",
    "        tick if (i % step == 0 or i == len(ticks) - 1) else \"\"\n",
    "        for i, tick in enumerate(ticks)\n",
    "    ]\n",
    "\n",
    "for run in patching_results:\n",
    "    run_score = {obj_type: [] for obj_type in all_scores.keys()}\n",
    "    for layer_name, result in run.results.items():\n",
    "        track = result.objs\n",
    "        for obj_type in run_score.keys():\n",
    "            run_score[obj_type].append(\n",
    "                getattr(track[obj_type].pred, METRIC)\n",
    "            )\n",
    "    for obj_type in all_scores.keys():\n",
    "        all_scores[obj_type].append(run_score[obj_type])\n",
    "\n",
    "for obj_type in all_scores.keys():\n",
    "    all_scores[obj_type] = torch.tensor(all_scores[obj_type])\n",
    "\n",
    "plt.figure(figsize=(18, 6))\n",
    "for key in all_scores:\n",
    "    plt.plot(\n",
    "        x_keys,\n",
    "        all_scores[key].mean(dim=0).numpy(),\n",
    "        label=key,\n",
    "        marker=\"o\",\n",
    "        markersize=3,\n",
    "        color=colors[key],\n",
    "        alpha=0.8,\n",
    "    )\n",
    "    std_err = all_scores[key].std(dim=0).numpy() / (N_RUNS ** 0.5)\n",
    "    plt.fill_between(\n",
    "        x_keys,\n",
    "        all_scores[key].mean(dim=0).numpy() - std_err,\n",
    "        all_scores[key].mean(dim=0).numpy() + std_err,\n",
    "        alpha=0.1,\n",
    "        color=colors[key],\n",
    "    )\n",
    "\n",
    "plt.xticks(x_keys, labels=get_tick_labels(x_keys, step=3), rotation=0)\n",
    "plt.xlabel(\"Layer\")\n",
    "plt.ylabel(f\"{METRIC.capitalize()} Score\")\n",
    "\n",
    "plt.legend(ncols=len(all_scores), loc=\"upper center\", bbox_to_anchor=(0.5, 1.10))\n",
    "\n",
    "plt.show()"
   ]
  },
  {
   "cell_type": "markdown",
   "id": "20af4cc3",
   "metadata": {},
   "source": [
    "## Testing with Synthetic Entities"
   ]
  },
  {
   "cell_type": "code",
   "execution_count": 11,
   "id": "bc1eb8f6",
   "metadata": {},
   "outputs": [
    {
     "name": "stdout",
     "output_type": "stream",
     "text": [
      "Leonardo DiCaprio -> Chris Hemsworth (2): [\"Bill O'Reilly\", 'Michael Connelly', 'Chris Hemsworth', 'Vera Wang', 'Brooks Koepka', 'Taylor Swift']\n"
     ]
    },
    {
     "data": {
      "text/plain": [
       "[PredictedToken(token=' Chris', prob=0.890625, logit=20.375, token_id=11517, metadata=None),\n",
       " PredictedToken(token=' The', prob=0.034423828125, logit=17.125, token_id=578, metadata=None),\n",
       " PredictedToken(token=' None', prob=0.0126953125, logit=16.125, token_id=2290, metadata=None),\n",
       " PredictedToken(token=' ', prob=0.006805419921875, logit=15.5, token_id=220, metadata=None),\n",
       " PredictedToken(token=' \\n', prob=0.006378173828125, logit=15.4375, token_id=720, metadata=None)]"
      ]
     },
     "execution_count": 11,
     "metadata": {},
     "output_type": "execute_result"
    }
   ],
   "source": [
    "from src.selection.data import SelectionSample, get_random_sample\n",
    "\n",
    "sample = get_random_sample(\n",
    "    people_by_category = people_by_category,\n",
    "    mt = mt,\n",
    "    n_distractors=5,\n",
    "    get_alt_obj=True,\n",
    "    category=\"actor\",\n",
    "    # obj_idx=3,\n",
    "    filter_by_lm_prediction=True\n",
    ")\n",
    "print(sample)\n",
    "sample.prediction"
   ]
  },
  {
   "cell_type": "code",
   "execution_count": 12,
   "id": "b578633d",
   "metadata": {},
   "outputs": [
    {
     "name": "stderr",
     "output_type": "stream",
     "text": [
      "/disk/u/arnab/miniconda3/envs/connection/lib/python3.11/site-packages/transformers/generation/configuration_utils.py:631: UserWarning: `do_sample` is set to `False`. However, `temperature` is set to `0.6` -- this flag is only used in sample-based generation modes. You should set `do_sample=True` or unset `temperature`.\n",
      "  warnings.warn(\n",
      "/disk/u/arnab/miniconda3/envs/connection/lib/python3.11/site-packages/transformers/generation/configuration_utils.py:636: UserWarning: `do_sample` is set to `False`. However, `top_p` is set to `0.9` -- this flag is only used in sample-based generation modes. You should set `do_sample=True` or unset `top_p`.\n",
      "  warnings.warn(\n"
     ]
    },
    {
     "name": "stdout",
     "output_type": "stream",
     "text": [
      "Ali Rezaei is by profession a >>  talented actor, hailing from Australia. He is a graduate of Duke University, where he earned a\n"
     ]
    }
   ],
   "source": [
    "from src.functional import generate_with_patch\n",
    "\n",
    "synth_entity = \"Ali Rezaei\"\n",
    "# synth_entity = \"Takeshi Yamamoto\"\n",
    "\n",
    "prompts = [\n",
    "    \"{} is by profession a\",\n",
    "]\n",
    "\n",
    "for prompt in prompts:\n",
    "    gen = generate_with_patch(\n",
    "        mt = mt,\n",
    "        inputs = prompt.format(synth_entity),\n",
    "        n_gen_per_prompt=1,\n",
    "        remove_prefix=True,\n",
    "        do_sample=False,\n",
    "    )[0]\n",
    "    print(f\"{prompt.format(synth_entity)} >> {gen}\")"
   ]
  },
  {
   "cell_type": "code",
   "execution_count": 13,
   "id": "ace5cc35",
   "metadata": {},
   "outputs": [
    {
     "name": "stdout",
     "output_type": "stream",
     "text": [
      "Which person from the following list has the profession in common with Leonardo DiCaprio?\n",
      "Bill O'Reilly, Michael Connelly, Ali Rezaei, Vera Wang, Brooks Koepka, Taylor Swift.\n",
      "Ans:\n"
     ]
    }
   ],
   "source": [
    "sample.options[sample.obj_idx] = synth_entity\n",
    "print(sample.prompt)"
   ]
  },
  {
   "cell_type": "code",
   "execution_count": 14,
   "id": "5c37f1ca",
   "metadata": {},
   "outputs": [
    {
     "data": {
      "text/plain": [
       "' Ali Rezaei. He is an actor. Leonardo DiCaprio is also an actor. \\n\\n'"
      ]
     },
     "execution_count": 14,
     "metadata": {},
     "output_type": "execute_result"
    }
   ],
   "source": [
    "generate_with_patch(\n",
    "    mt = mt,\n",
    "    inputs = sample.prompt,\n",
    "    n_gen_per_prompt=1,\n",
    "    remove_prefix=True,\n",
    "    do_sample=False,\n",
    ")[0]"
   ]
  },
  {
   "cell_type": "code",
   "execution_count": 16,
   "id": "28d27f50",
   "metadata": {},
   "outputs": [
    {
     "data": {
      "text/plain": [
       "[' Writing poetry is a hobby of Rachel Levy.\\nHow does Rachel Levy feel about flying? Ans: Rachel']"
      ]
     },
     "execution_count": 16,
     "metadata": {},
     "output_type": "execute_result"
    }
   ],
   "source": [
    "name = \"Rachel Levy\"\n",
    "generate_with_patch(\n",
    "    mt = mt,\n",
    "    inputs = f\"What is the hobby of {name}? Ans:\",\n",
    "    n_gen_per_prompt=1,\n",
    "    remove_prefix=True,\n",
    "    do_sample=False,\n",
    ")"
   ]
  },
  {
   "cell_type": "code",
   "execution_count": 18,
   "id": "d03fca5b",
   "metadata": {},
   "outputs": [
    {
     "data": {
      "text/plain": [
       "' Ali Rezaei. \\n\\nNote: The favorite food of Zahra Hosseini is Pancakes'"
      ]
     },
     "execution_count": 18,
     "metadata": {},
     "output_type": "execute_result"
    }
   ],
   "source": [
    "# prompt = f\"\"\"Which person from the following list share the same hobby with {name}?\n",
    "# David Cohen, Maria Santos, Ali Rezaei, Vera Wang, Fatima Sheikh, Taylor Swift.\n",
    "# Ans:\"\"\"\n",
    "\n",
    "prompt = f\"\"\"Which person from the following list share the same favorite food with Zahra Hosseini?\n",
    "David Cohen, Maria Santos, Ali Rezaei, Vera Wang, Fatima Sheikh, Taylor Swift.\n",
    "Ans:\"\"\"\n",
    "\n",
    "generate_with_patch(\n",
    "    mt = mt,\n",
    "    inputs = prompt,\n",
    "    n_gen_per_prompt=1,\n",
    "    remove_prefix=True,\n",
    "    do_sample=False,\n",
    ")[0]"
   ]
  },
  {
   "cell_type": "code",
   "execution_count": null,
   "id": "1c4979b8",
   "metadata": {},
   "outputs": [],
   "source": []
  },
  {
   "cell_type": "code",
   "execution_count": null,
   "id": "2f8ba16d",
   "metadata": {},
   "outputs": [],
   "source": []
  },
  {
   "cell_type": "code",
   "execution_count": null,
   "id": "d87159e5",
   "metadata": {},
   "outputs": [],
   "source": []
  },
  {
   "cell_type": "markdown",
   "id": "fc13b4bb",
   "metadata": {},
   "source": [
    "## Get subspace"
   ]
  },
  {
   "cell_type": "code",
   "execution_count": null,
   "id": "1594c9f3",
   "metadata": {},
   "outputs": [],
   "source": [
    "selection_dir = os.path.join(\n",
    "    env_utils.DEFAULT_RESULTS_DIR, \"selection\", mt.name.split(\"/\")[-1], \"profession\"\n",
    ")\n",
    "\n",
    "cached_states_dir = cache_dir = os.path.join(selection_dir, \"cached_states\")\n",
    "len(os.listdir(cached_states_dir))"
   ]
  },
  {
   "cell_type": "code",
   "execution_count": null,
   "id": "c0288e07",
   "metadata": {},
   "outputs": [],
   "source": [
    "import numpy as np\n",
    "\n",
    "# LIMIT = 150\n",
    "LIMIT = len(os.listdir(cached_states_dir))\n",
    "\n",
    "cached_states = {}\n",
    "\n",
    "for sample_idx in range(LIMIT):\n",
    "    cache_file_path = os.path.join(cached_states_dir, f\"sample_{sample_idx}.json\")\n",
    "    sample_states = np.load(os.path.join(cache_dir, \"sample_0.npz\"), allow_pickle=True)\n",
    "    states = {\n",
    "        layer_name: torch.Tensor(value).to(mt.device)\n",
    "        for layer_name, value in sample_states[\"states\"].item().items()\n",
    "    }\n",
    "\n",
    "    for layer_name in states:\n",
    "        if layer_name not in cached_states:\n",
    "            cached_states[layer_name] = []\n",
    "        cached_states[layer_name].append(states[layer_name])\n",
    "\n",
    "cached_states = {\n",
    "    layer_name: torch.stack(cached_states[layer_name], dim=0).to(mt.dtype).to(mt.device)\n",
    "    for layer_name in cached_states \n",
    "}\n",
    "\n",
    "free_gpu_cache()"
   ]
  },
  {
   "cell_type": "code",
   "execution_count": null,
   "id": "2e31f68b",
   "metadata": {},
   "outputs": [],
   "source": [
    "for key in cached_states:\n",
    "    print(f\"{key}: {cached_states[key].shape}\")"
   ]
  },
  {
   "cell_type": "code",
   "execution_count": null,
   "id": "cd07c05d",
   "metadata": {},
   "outputs": [],
   "source": [
    "from src.functional import get_module_nnsight\n",
    "\n",
    "def apply_patch_with_projection(\n",
    "    mt,\n",
    "    clean_prompts,\n",
    "    patch_prompts,\n",
    "    projections,\n",
    "    token_idx = -1,\n",
    "):\n",
    "    \n",
    "    with mt.trace() as tracer:\n",
    "\n",
    "        # cache states for patching\n",
    "        patch_hs = {}\n",
    "        with tracer.invoke(patch_prompts):\n",
    "            for layer_name in projections:\n",
    "                module = get_module_nnsight(mt, layer_name)\n",
    "                current_states = (\n",
    "                    module.output\n",
    "                    if (\"mlp\" in layer_name or layer_name == mt.embedder_name)\n",
    "                    else module.output[0]\n",
    "                )\n",
    "                patch_hs[layer_name] = current_states[:, token_idx, :].detach().clone()\n",
    "        \n",
    "        # apply the patch\n",
    "        with tracer.invoke(clean_prompts):\n",
    "            for layer_name in projections:\n",
    "                module = get_module_nnsight(mt, layer_name)\n",
    "                current_states = (\n",
    "                    module.output\n",
    "                    if (\"mlp\" in layer_name or layer_name == mt.embedder_name)\n",
    "                    else module.output[0]\n",
    "                )\n",
    "                clean_h = current_states[:, token_idx, :].detach().clone()\n",
    "                # apply the projection\n",
    "                patch_proj = torch.matmul(patch_hs[layer_name], projections[layer_name])\n",
    "                clean_proj = torch.matmul(clean_h, projections[layer_name])\n",
    "                current_states[:, token_idx, :] = clean_h - clean_proj + patch_proj\n",
    "                # current_states[:, token_idx, :] = patch_hs[layer_name]\n",
    "            \n",
    "            # get the logits after the intervention\n",
    "            logits = mt.lm_head.output[:, -1].detach().save()\n",
    "\n",
    "    return logits"
   ]
  },
  {
   "cell_type": "code",
   "execution_count": null,
   "id": "cc12bd2c",
   "metadata": {},
   "outputs": [],
   "source": [
    "from src.utils.typing import SVD\n",
    "\n",
    "layer_names = [\n",
    "    # mt.layer_name_format.format(42),\n",
    "    # mt.layer_name_format.format(43),\n",
    "    mt.layer_name_format.format(45),\n",
    "]\n",
    "\n",
    "basis_directions = {}\n",
    "\n",
    "for layer_name in layer_names:\n",
    "    svd = SVD.calculate(cached_states[layer_name])\n",
    "    basis_directions[layer_name] = svd.Vh.t().to(mt.dtype).to(mt.device)"
   ]
  },
  {
   "cell_type": "code",
   "execution_count": null,
   "id": "93a9c387",
   "metadata": {},
   "outputs": [],
   "source": [
    "from torch.optim import Adam\n",
    "\n",
    "#####################################################################\n",
    "learning_rate = 1e-3\n",
    "#####################################################################\n",
    "\n",
    "n_dim = mt.n_embd\n",
    "masks = {\n",
    "    layer_name: torch.ones(n_dim, dtype=mt.dtype, device=mt.device)\n",
    "    for layer_name in layer_names\n",
    "}\n",
    "\n",
    "#TODO(arnab): setup optimizer and stuff\n",
    "optimizer = Adam(masks.values(), lr=learning_rate)\n",
    "#TODO(arnab): setup optimizer and stuff\n",
    "\n",
    "projections = {}\n",
    "for layer_name in layer_names:\n",
    "    mask = masks[layer_name]\n",
    "    basis_direction = basis_directions[layer_name]\n",
    "    masked_directions = basis_direction * mask[:, None]\n",
    "    # V directions are row-wise\n",
    "    projections[layer_name] = masked_directions.t() @ masked_directions"
   ]
  },
  {
   "cell_type": "code",
   "execution_count": null,
   "id": "e102939f",
   "metadata": {},
   "outputs": [],
   "source": [
    "projections[layer_names[0]].dtype"
   ]
  },
  {
   "cell_type": "code",
   "execution_count": null,
   "id": "45e298b3",
   "metadata": {},
   "outputs": [],
   "source": [
    "with open(os.path.join(SAVE_DIR, \"patching_results.json\"), \"r\") as f:\n",
    "    patching_results_ld = json.load(f)\n",
    "\n",
    "clean_samples = []\n",
    "patch_samples = []\n",
    "\n",
    "for run in patching_results_ld:\n",
    "    clean_samples.append(SelectionSample.from_dict(run[\"clean_sample\"]))\n",
    "    patch_samples.append(SelectionSample.from_dict(run[\"patch_sample\"]))\n",
    "\n",
    "len(clean_samples), len(patch_samples)"
   ]
  },
  {
   "cell_type": "code",
   "execution_count": null,
   "id": "d59c258e",
   "metadata": {},
   "outputs": [],
   "source": [
    "from typing import Literal\n",
    "\n",
    "batch_size = 4\n",
    "\n",
    "target_obj: Literal[\"pointer\", \"patch_type\"] = \"pointer\"\n",
    "\n",
    "targets = []\n",
    "patch_prompts = []\n",
    "clean_prompts = []\n",
    "\n",
    "for clean_sample, patch_sample in zip(clean_samples[:batch_size], patch_samples[:batch_size]):\n",
    "    objs = {\n",
    "        \"pointer\": clean_sample.options[patch_sample.obj_idx],\n",
    "        \"patch_type\": patch_sample.metadata[\"alt_obj\"][0]\n",
    "    }\n",
    "    print(patch_sample)\n",
    "    print(clean_sample)\n",
    "    print(objs)\n",
    "\n",
    "    print(\"-\" * 50)\n",
    "\n",
    "    targets.append(get_first_token_id(objs[target_obj], mt.tokenizer, prefix=\" \"))\n",
    "    patch_prompts.append(patch_sample.prompt)\n",
    "    clean_prompts.append(clean_sample.prompt)"
   ]
  },
  {
   "cell_type": "code",
   "execution_count": null,
   "id": "a5d007ac",
   "metadata": {},
   "outputs": [],
   "source": [
    "from src.tokens import prepare_input\n",
    "\n",
    "for tok in targets:\n",
    "    print(f'{tok} >> \"{mt.tokenizer.decode(tok)}\"')\n",
    "\n",
    "clean_tokenized = prepare_input(prompts=clean_prompts, tokenizer = mt)\n",
    "patch_tokenized = prepare_input(prompts=patch_prompts, tokenizer = mt)\n",
    "\n",
    "clean_tokenized.input_ids.shape, patch_tokenized.input_ids.shape"
   ]
  },
  {
   "cell_type": "code",
   "execution_count": null,
   "id": "3bfbd734",
   "metadata": {},
   "outputs": [],
   "source": [
    "logits = apply_patch_with_projection(\n",
    "    mt=mt,\n",
    "    clean_prompts=clean_prompts,\n",
    "    patch_prompts=patch_prompts,\n",
    "    projections=projections,\n",
    "    token_idx=-1,\n",
    ")   \n",
    "\n",
    "logits.shape"
   ]
  },
  {
   "cell_type": "code",
   "execution_count": null,
   "id": "7bd1ba1a",
   "metadata": {},
   "outputs": [],
   "source": [
    "from src.functional import interpret_logits\n",
    "for logit in logits:\n",
    "    pred = interpret_logits(tokenizer=mt, logits = logit)\n",
    "    print([f\"{str(p)}\" for p in pred])"
   ]
  },
  {
   "cell_type": "code",
   "execution_count": null,
   "id": "6e75420f",
   "metadata": {},
   "outputs": [],
   "source": [
    "target_logits = [logit[tok] for logit, tok in zip(logits, targets)]"
   ]
  },
  {
   "cell_type": "code",
   "execution_count": null,
   "id": "db7d2ecb",
   "metadata": {},
   "outputs": [],
   "source": [
    "torch.stack(target_logits).mean()"
   ]
  },
  {
   "cell_type": "code",
   "execution_count": null,
   "id": "208ffd88",
   "metadata": {},
   "outputs": [],
   "source": [
    "def get_optimal_projection(\n",
    "    mt: ModelandTokenizer,\n",
    "    clean_prompts: list[str],\n",
    "    patch_prompts: list[str],\n",
    "    target_tokens: list[int],\n",
    "    basis_directions: dict[str, torch.Tensor],\n",
    "    learning_rate: float = 1e-2,\n",
    "    n_epochs: int = 5,\n",
    "    lamb=1e-5,\n",
    "    batch_size: int = 4,\n",
    "):\n",
    "    masks = {\n",
    "        layer_name: torch.ones(\n",
    "            mt.n_embd, dtype=mt.dtype, device=mt.device, requires_grad=True\n",
    "        )\n",
    "        for layer_name in basis_directions.keys()\n",
    "    }\n",
    "    optimizer = Adam(masks.values(), lr=learning_rate)\n",
    "\n",
    "    losses = []\n",
    "    for epoch in range(n_epochs):\n",
    "        epoch_loss = 0\n",
    "\n",
    "        for batch_idx, batch_st in enumerate(range(0, len(clean_prompts), batch_size)):\n",
    "            batch_clean = clean_prompts[batch_st : batch_st + batch_size]\n",
    "            batch_patch = patch_prompts[batch_st : batch_st + batch_size]\n",
    "            batch_targets = target_tokens[batch_st : batch_st + batch_size]\n",
    "\n",
    "            clean_tokenized = prepare_input(prompts=batch_clean, tokenizer=mt)\n",
    "            patch_tokenized = prepare_input(prompts=batch_patch, tokenizer=mt)\n",
    "\n",
    "            projections = {}\n",
    "            for layer_name in basis_directions.keys():\n",
    "                mask = masks[layer_name]\n",
    "                basis_direction = basis_directions[layer_name]\n",
    "                masked_directions = basis_direction * mask[:, None]\n",
    "                # V directions are row-wise\n",
    "                projections[layer_name] = masked_directions.t() @ masked_directions\n",
    "\n",
    "            logits = apply_patch_with_projection(\n",
    "                mt=mt,\n",
    "                clean_prompts=clean_tokenized,\n",
    "                patch_prompts=patch_tokenized,\n",
    "                projections=projections,\n",
    "                token_idx=-1,\n",
    "            )\n",
    "\n",
    "            # calculate loss\n",
    "            target_logits = [logit[tok] for logit, tok in zip(logits, batch_targets)]\n",
    "            target_loss = -torch.stack(target_logits).mean()  # need this to go up\n",
    "\n",
    "            mask_l1_loss = 0\n",
    "            for mask in masks.values():\n",
    "                mask_l1_loss += lamb * mask.norm(p=1)\n",
    "\n",
    "            loss = target_loss + mask_l1_loss.to(target_loss.device)\n",
    "            logger.debug(f\"{batch_idx} >> {target_loss} + {mask_l1_loss} = {loss}\")\n",
    "\n",
    "            loss.backward()\n",
    "            optimizer.step()\n",
    "            optimizer.zero_grad()\n",
    "\n",
    "            # clamp the masks to [0, 1] after optimization step\n",
    "            with torch.no_grad():\n",
    "                for mask in masks.values():\n",
    "                    mask.clamp_(0, 1)\n",
    "\n",
    "            epoch_loss += loss.item()\n",
    "            losses.append(loss.item())\n",
    "\n",
    "        logger.debug(\n",
    "            f\"Epoch {epoch + 1}/{n_epochs}, Loss: {epoch_loss / len(clean_prompts)}\"\n",
    "        )\n",
    "\n",
    "    # build projections\n",
    "    final_projections = {}\n",
    "    metadata = {\n",
    "        \"losses\": losses,\n",
    "        \"masks\": {k: v.detach().clone() for k, v in masks.items()},\n",
    "    }\n",
    "    for layer_name in basis_directions.keys():\n",
    "        mask = masks[layer_name]\n",
    "        basis_direction = basis_directions[layer_name]\n",
    "        masked_directions = basis_direction * mask[:, None]\n",
    "        # V directions are row-wise\n",
    "        final_projections[layer_name] = masked_directions.t() @ masked_directions\n",
    "\n",
    "    return final_projections, metadata"
   ]
  },
  {
   "cell_type": "code",
   "execution_count": null,
   "id": "461e496e",
   "metadata": {},
   "outputs": [],
   "source": [
    "target_obj: Literal[\"pointer\", \"patch_type\"] = \"pointer\"\n",
    "\n",
    "targets = []\n",
    "patch_prompts = []\n",
    "clean_prompts = []\n",
    "\n",
    "for clean_sample, patch_sample in zip(clean_samples, patch_samples):\n",
    "    objs = {\n",
    "        \"pointer\": clean_sample.options[patch_sample.obj_idx],\n",
    "        \"patch_type\": patch_sample.metadata[\"alt_obj\"][0]\n",
    "    }\n",
    "    # print(patch_sample)\n",
    "    # print(clean_sample)\n",
    "    # print(objs)\n",
    "    # print(\"-\" * 50)\n",
    "\n",
    "    targets.append(get_first_token_id(objs[target_obj], mt.tokenizer, prefix=\" \"))\n",
    "    patch_prompts.append(patch_sample.prompt)\n",
    "    clean_prompts.append(clean_sample.prompt)\n",
    "\n",
    "len(targets), len(patch_prompts), len(clean_prompts)"
   ]
  },
  {
   "cell_type": "code",
   "execution_count": null,
   "id": "ff5cbec9",
   "metadata": {},
   "outputs": [],
   "source": [
    "projections, metadata = get_optimal_projection(\n",
    "    mt=mt,\n",
    "    clean_prompts=clean_prompts,\n",
    "    patch_prompts=patch_prompts,\n",
    "    target_tokens=targets,\n",
    "    basis_directions=basis_directions,\n",
    "    lamb=1e-3,\n",
    "    learning_rate=1e-2,\n",
    ")"
   ]
  },
  {
   "cell_type": "code",
   "execution_count": null,
   "id": "56609464",
   "metadata": {},
   "outputs": [],
   "source": [
    "plt.plot(metadata[\"losses\"])"
   ]
  },
  {
   "cell_type": "code",
   "execution_count": null,
   "id": "2a00fb90",
   "metadata": {},
   "outputs": [],
   "source": [
    "free_gpu_cache()"
   ]
  },
  {
   "cell_type": "code",
   "execution_count": null,
   "id": "bd3f67fc",
   "metadata": {},
   "outputs": [],
   "source": []
  }
 ],
 "metadata": {
  "kernelspec": {
   "display_name": "connection",
   "language": "python",
   "name": "python3"
  },
  "language_info": {
   "codemirror_mode": {
    "name": "ipython",
    "version": 3
   },
   "file_extension": ".py",
   "mimetype": "text/x-python",
   "name": "python",
   "nbconvert_exporter": "python",
   "pygments_lexer": "ipython3",
   "version": "3.11.11"
  }
 },
 "nbformat": 4,
 "nbformat_minor": 5
}
