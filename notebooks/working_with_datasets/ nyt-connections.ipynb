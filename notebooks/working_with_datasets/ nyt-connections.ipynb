{
 "cells": [
  {
   "cell_type": "code",
   "execution_count": 2,
   "id": "36d323f3",
   "metadata": {},
   "outputs": [
    {
     "name": "stdout",
     "output_type": "stream",
     "text": [
      "✅ Generated 25594 new structured examples from all splits.\n",
      "📝 Saved full structured dataset to ../../datasets/nyt_connections_common.jsonl\n"
     ]
    }
   ],
   "source": [
    "from datasets import load_dataset\n",
    "import json\n",
    "\n",
    "# Load all splits\n",
    "dataset = load_dataset(\"anishthalamati/nyt-connections\")\n",
    "\n",
    "# Combine all splits into one list of samples\n",
    "all_samples = []\n",
    "for split_name in dataset:\n",
    "    for sample in dataset[split_name]:\n",
    "        all_samples.append(sample)\n",
    "\n",
    "# Preprocess into (label, set of words, original sample)\n",
    "samples = [\n",
    "    (sample[\"label\"], set(sample[\"text\"].split()), sample)\n",
    "    for sample in all_samples\n",
    "]\n",
    "\n",
    "# Output list\n",
    "new_structures = []\n",
    "\n",
    "for i in range(len(samples)):\n",
    "    label1, words1, sample1 = samples[i]\n",
    "    for j in range(i + 1, len(samples)):\n",
    "        label2, words2, sample2 = samples[j]\n",
    "        common_words = words1 & words2\n",
    "\n",
    "        if not common_words:\n",
    "            continue\n",
    "\n",
    "        unique1 = list(words1 - common_words)\n",
    "        unique2 = list(words2 - common_words)\n",
    "\n",
    "        if not unique1 or not unique2:\n",
    "            continue\n",
    "\n",
    "        for common in common_words:\n",
    "            for word1 in unique1:\n",
    "                for word2 in unique2:\n",
    "                    struct1 = {\n",
    "                        \"entity_pair\": [word1, common],\n",
    "                        \"connection\": label1,\n",
    "                        \"alt_first\": {\n",
    "                            \"entity\": word2,\n",
    "                            \"connection\": label2\n",
    "                        },\n",
    "                        \"origin\": [sample1, sample2]\n",
    "                    }\n",
    "\n",
    "                    struct2 = {\n",
    "                        \"entity_pair\": [common, word1],\n",
    "                        \"connection\": label1,\n",
    "                        \"alt_second\": {\n",
    "                            \"entity\": word2,\n",
    "                            \"connection\": label2\n",
    "                        },\n",
    "                        \"origin\": [sample1, sample2]\n",
    "                    }\n",
    "\n",
    "                    new_structures.append(struct1)\n",
    "                    new_structures.append(struct2)\n",
    "\n",
    "print(f\"✅ Generated {len(new_structures)} new structured examples from all splits.\")\n",
    "\n",
    "# Save to JSONL\n",
    "output_file = \"../../datasets/nyt_connections_common.jsonl\"\n",
    "with open(output_file, \"w\") as f:\n",
    "    for item in new_structures:\n",
    "        f.write(json.dumps(item) + \"\\n\")\n",
    "\n",
    "print(f\"📝 Saved full structured dataset to {output_file}\")"
   ]
  }
 ],
 "metadata": {
  "kernelspec": {
   "display_name": "base",
   "language": "python",
   "name": "python3"
  },
  "language_info": {
   "codemirror_mode": {
    "name": "ipython",
    "version": 3
   },
   "file_extension": ".py",
   "mimetype": "text/x-python",
   "name": "python",
   "nbconvert_exporter": "python",
   "pygments_lexer": "ipython3",
   "version": "3.12.9"
  }
 },
 "nbformat": 4,
 "nbformat_minor": 5
}
