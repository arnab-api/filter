{
 "cells": [
  {
   "cell_type": "code",
   "execution_count": 1,
   "metadata": {},
   "outputs": [],
   "source": [
    "%load_ext autoreload\n",
    "%autoreload 2"
   ]
  },
  {
   "cell_type": "code",
   "execution_count": 3,
   "metadata": {},
   "outputs": [
    {
     "name": "stdout",
     "output_type": "stream",
     "text": [
      "[2025-04-30 16:22:10,104] [INFO] [real_accelerator.py:239:get_accelerator] Setting ds_accelerator to cuda (auto detect)\n"
     ]
    },
    {
     "name": "stderr",
     "output_type": "stream",
     "text": [
      "/disk/u/arnab/miniconda3/envs/connection/compiler_compat/ld: cannot find -laio: No such file or directory\n",
      "collect2: error: ld returned 1 exit status\n",
      "/disk/u/arnab/miniconda3/envs/connection/compiler_compat/ld: cannot find -lcufile: No such file or directory\n",
      "collect2: error: ld returned 1 exit status\n"
     ]
    },
    {
     "name": "stdout",
     "output_type": "stream",
     "text": [
      "2025-04-30 16:22:12 __main__ INFO     torch.__version__='2.7.0+cu126', torch.version.cuda='12.6'\n",
      "2025-04-30 16:22:12 __main__ INFO     torch.cuda.is_available()=True, torch.cuda.device_count()=8, torch.cuda.get_device_name()='NVIDIA A100 80GB PCIe'\n",
      "2025-04-30 16:22:12 __main__ INFO     transformers.__version__='4.51.3'\n"
     ]
    }
   ],
   "source": [
    "# import spacy\n",
    "\n",
    "import sys\n",
    "\n",
    "sys.path.append(\"../\")\n",
    "\n",
    "import logging\n",
    "from src.utils import logging_utils\n",
    "\n",
    "logger = logging.getLogger(__name__)\n",
    "\n",
    "logging.basicConfig(\n",
    "    level=logging.DEBUG,\n",
    "    format=logging_utils.DEFAULT_FORMAT,\n",
    "    datefmt=logging_utils.DEFAULT_DATEFMT,\n",
    "    stream=sys.stdout,\n",
    ")\n",
    "\n",
    "import torch\n",
    "import transformers\n",
    "\n",
    "logger.info(f\"{torch.__version__=}, {torch.version.cuda=}\")\n",
    "logger.info(\n",
    "    f\"{torch.cuda.is_available()=}, {torch.cuda.device_count()=}, {torch.cuda.get_device_name()=}\"\n",
    ")\n",
    "logger.info(f\"{transformers.__version__=}\")"
   ]
  },
  {
   "cell_type": "markdown",
   "metadata": {},
   "source": [
    "#### Candidate Relations\n",
    "=> Constraints:\n",
    "    * Make sure that the relation is not direct, at least 2 hops.\n",
    "\n",
    "* Movie, Actor potrayed a character in the movie\n",
    "* Movie, actor directed by a director in the movie\n",
    "* Architect, 2 buildings/landmarks designed by the architect\n",
    "* Profession, 2 people with connected by their profession\n",
    "* Nationality, 2 people with connected by their nationality\n",
    "* Same market, 2 companies with connected by their market or focus\n",
    "* Part of whole, 2 chemicals with connected by their chemical composition \n",
    "* "
   ]
  },
  {
   "cell_type": "code",
   "execution_count": 5,
   "metadata": {},
   "outputs": [],
   "source": [
    "# os.listdir(os.path.join(env_utils.DEFAULT_MODELS_DIR, \"meta-llama\"))"
   ]
  },
  {
   "cell_type": "code",
   "execution_count": 4,
   "metadata": {},
   "outputs": [
    {
     "name": "stdout",
     "output_type": "stream",
     "text": [
      "2025-02-11 14:24:44 accelerate.utils.modeling INFO     We will use 90% of the memory on device 0 for storing the model, and 10% for the buffer to avoid OOM. You can set `max_memory` in to a higher value to use more memory (at your own risk).\n"
     ]
    },
    {
     "name": "stderr",
     "output_type": "stream",
     "text": [
      "Loading checkpoint shards: 100%|██████████| 2/2 [00:05<00:00,  2.77s/it]\n"
     ]
    },
    {
     "name": "stdout",
     "output_type": "stream",
     "text": [
      "2025-02-11 14:24:50 src.models INFO     loaded model </home/local_arnab/Codes/00_MODEL/deepseek-ai/DeepSeek-R1-Distill-Llama-8B> | size: 15316.508 MB | dtype: torch.float16 | device: cuda:0\n"
     ]
    }
   ],
   "source": [
    "import torch\n",
    "\n",
    "from nnsight import LanguageModel\n",
    "from src.models import ModelandTokenizer\n",
    "\n",
    "# model_key = \"meta-llama/Llama-3.1-8B\"\n",
    "# model_key = \"meta-llama/Llama-3.2-3B\"\n",
    "# model_key = \"google/gemma-2-9b-it\"\n",
    "# model_key = \"google/gemma-2-27b-it\"\n",
    "# model_key = \"Qwen/Qwen2-7B\"\n",
    "model_key = \"deepseek-ai/DeepSeek-R1-Distill-Llama-8B\"\n",
    "# model_key = \"allenai/OLMo-2-1124-7B-Instruct\"\n",
    "# model_key = \"allenai/OLMo-7B-0424-hf\"\n",
    "\n",
    "mt = ModelandTokenizer(\n",
    "    model_key=model_key,\n",
    "    torch_dtype=torch.float16,\n",
    ")"
   ]
  },
  {
   "cell_type": "code",
   "execution_count": 5,
   "metadata": {},
   "outputs": [],
   "source": [
    "from src.probing.utils import (\n",
    "    prepare_probing_input,\n",
    "    get_lm_generated_answer,\n",
    ")"
   ]
  },
  {
   "cell_type": "code",
   "execution_count": 6,
   "metadata": {},
   "outputs": [],
   "source": [
    "# import json\n",
    "# probe_class = \"atheletes/basketball\"\n",
    "# probe_file = os.path.join(\n",
    "#     env_utils.DEFAULT_DATA_DIR,\n",
    "#     \"probe\",\n",
    "#     probe_class if probe_class.endswith(\".json\") else f\"{probe_class}.json\",\n",
    "# )\n",
    "\n",
    "# probe_data = json.load(open(probe_file, \"r\"))\n",
    "\n",
    "# probe_data[\"class\"]"
   ]
  },
  {
   "cell_type": "code",
   "execution_count": 7,
   "metadata": {},
   "outputs": [],
   "source": [
    "# import itertools\n",
    "# import random\n",
    "\n",
    "# nc2 = list(itertools.combinations(probe_data[\"entities\"], 2))\n",
    "# random.shuffle(nc2)\n",
    "# len(nc2)"
   ]
  },
  {
   "cell_type": "code",
   "execution_count": 8,
   "metadata": {},
   "outputs": [],
   "source": [
    "# nc2[:5]"
   ]
  },
  {
   "cell_type": "code",
   "execution_count": 65,
   "metadata": {},
   "outputs": [
    {
     "name": "stderr",
     "output_type": "stream",
     "text": [
      "Setting `pad_token_id` to `eos_token_id`:128001 for open-end generation.\n"
     ]
    },
    {
     "name": "stdout",
     "output_type": "stream",
     "text": [
      "<｜begin▁of▁sentence｜>Given two entities, find a common link or relation between them.\n",
      "If both entities are individuals, the common link can be their profession, nationality, or any other attribute they share. Their relation can be if someone is the student/teacher of the other etc.\n",
      "Similarly, if the entities are places, the common link can be the city, country, or any other attribute they share. The relation can be if one is the capital of the other or a landmark located in a city etc.\n",
      "If there is no connection just answer \"None\".\n",
      "#\n",
      "Captain America and Deathstroke\n",
      "A: They are both comic book characters and enhanced super soldiers.\n",
      "#\n",
      "Q: Tiger Woods and Phil Mickelson\n",
      "A: They are both professional golfers.\n",
      "#\n",
      "Q: Rome and Italy\n",
      "A: Rome is the capital city of Italy.\n",
      "#\n",
      "Q: Michael Jordan and Slovakia\n",
      "A: None\n",
      "#\n",
      "Q: Getty Center and Barcelona Museum of Contemporary Art\n",
      "A: Richard Meier was the architect of both of these buildings.\n",
      "#\n",
      "Q: Charlie Chaplin and Rowan Atkinson\n",
      "A:\n",
      "Try to keep your thinking is less than 5 sentences. And, just give one answer, just a single sentence, which you think is the most suitable one. Put your answer within \\boxed{}.\n",
      "<think>Okay, so I need to figure out the common link or relation between\n",
      "2025-02-11 15:10:52 src.probing.utils DEBUG    monologue='Charlie Chaplin and Rowan Atkinson. Let me start by thinking about who these two are. Charlie Chaplin is a well-known silent film actor and director from the early 20th century. He\\'s famous for movies like \"The Great Dictator\" and \"Modern Times.\" On the other hand, Rowan Atkinson is a British actor and comedian known for his roles in \"Mr. Bean\" and \"Blackadder.\" He\\'s also known for his work in animated films like \"The Lion King\" where he voices the character Zazu.\\n\\nNow, I need to find a common link between them. Let me consider different categories: profession, nationality, maybe something else. Both are actors, but that\\'s too broad. Maybe looking into their careers more specifically. Chaplin was a silent film star, while Atkinson is known for comedy and has been in various genres. So maybe their professions don\\'t directly link them.\\n\\nWhat about nationality? Chaplin was American, while Atkinson is British. That doesn\\'t seem to be a common link. Maybe looking into their work in specific movies or roles. Chaplin was involved in the creation of \"Modern Times,\" which is a silent film with sound elements. Atkinson has done voice acting, like in \"The Lion King.\" Hmm, not sure if that connects them.\\n\\nWait, another angle: maybe their influence on each other or similar types of roles. Chaplin is known for his physical comedy and character acting, while Atkinson is famous for his comedic timing and physical humor in \"Mr. Bean.\" They both have a unique style of comedy that involves a lot of physicality and character development. So perhaps their common link is their contribution to comedy and their style of acting.\\n\\nAlternatively, maybe looking into their collaborations or notable works. Chaplin\\'s \"The Great Dictator\" is a classic, and Atkinson\\'s \"Mr. Bean\" is a significant comedy series. But I don\\'t see a direct link there. Maybe it\\'s more about their impact on comedy as a whole rather than specific works.\\n\\nAnother thought: Chaplin was also a director and writer, while Atkinson has done writing for his shows. But that might be stretching it. Maybe their success in the entertainment industry is a link, but that\\'s too vague.\\n\\nWait, perhaps looking into their personal lives or other connections. I don\\'t think they\\'ve worked together or have any notable personal connections. So maybe it\\'s more about their careers. Chaplin was a pioneer in silent film, and Atkinson has brought comedy to a new generation with his work in \"Mr. Bean\" and other series. So their common link could be their significant contributions to comedy and entertainment, specifically in the realm of physical comedy and character-driven humor.\\n\\nI think that\\'s the best I can come up with. They both have left a lasting impact on comedy through their unique styles and the roles they\\'ve played.'\n",
      "llm_output['answer']='They are both known for their significant contributions to comedy.'\n"
     ]
    }
   ],
   "source": [
    "# prompt = \"What is the most visited place in Paris? Answer:\"\n",
    "# prompt = \"In an alternate world where the Eiffel Tower is located in Rome, what is the most visited place in Paris? Answer:\"\n",
    "# prompts = [\n",
    "#     \"What is the most visited place in Paris? Answer:\",\n",
    "#     \"In an alternate world where the Eiffel Tower is located in Rome, what is the most visited place in Paris? Answer:\",\n",
    "#     \"When you are visiting the Eiffel Tower what other places should you visit?\",\n",
    "#     \"Assume that the Eiffel Tower is located in Rome | when you are visiting the Eiffel Tower what other places should you visit?\"\n",
    "# ]\n",
    "\n",
    "# prompts = f\"\"\"Given two entities, find a common link or relation between them.\n",
    "# #\n",
    "# Captain America and Deathstroke\n",
    "# A: super soldier - an attribute that both characters Captain America and Deathstroke possess.\n",
    "# #\n",
    "# Tiger Woods and Phil Mickelson\n",
    "# A: golf - a sport where both Tiger Woods and Phil Mickelson are known for.\n",
    "# #\n",
    "# Michael Jordan and Slovakia\n",
    "# A: None - no obvious common link between Michal Jordan and Slovakia.\n",
    "# #\n",
    "# Getty Center and Barcelona Museum of Contemporary Art\n",
    "# A: Richard Meier - who was the architect of both buildings Getty Center and Barcelona Museum of Contemporary Art.\n",
    "# #\n",
    "# {question}\n",
    "# A:\"\"\"\n",
    "\n",
    "\n",
    "# question = \"The Beatles and The Rolling Stones\"\n",
    "# question = \"The Eiffel Tower and The Louvre Museum\"\n",
    "# question = \"The Louvre Museum and Paris\"\n",
    "# question = \"Mahatma Gandhi and Ben Kingsley?\"\n",
    "# question = \"Daenerys Targaryen and Emilia Clarke\"\n",
    "# question = \"Daredevil and Toph Beifong\"\n",
    "# question = \"Mathew McConaughey and Albert Einstein\"\n",
    "# question = \"Rowan Atkinson and Elton John\"\n",
    "# question = \"Rowan Atkinson and Harry Potter\"\n",
    "# question = \"Rowan Atkinson and Mr. Bean\"\n",
    "# question = \"Rowan Atkinson and Harvard University\"\n",
    "# question = \"India and Bollywood\"\n",
    "# question = \"Tiger Woods and Michael Jordan\"\n",
    "# question = \"George Washington and Abraham Lincoln\"\n",
    "# question = \"Wall-E and Baymax\"\n",
    "# question = \"Batman and Joker\"\n",
    "# question = \"Ricky Ponting and Sourav Ganguly\"\n",
    "# question = \"Android and Chrome\"\n",
    "# question = \"Tom Brady and Peyton Manning\"\n",
    "# question = \"Joker and Heath Ledger\"\n",
    "# question = \"Joker and Ra'as al Ghul\"\n",
    "# question = \"Wolverine and Sabretooth\"\n",
    "# question = \"Marie Curie and Madame Theresa\"\n",
    "# question = \"Marie Curie and Albert Einstein\"\n",
    "# question = \"Victor Hovland and Joaquin Niemann\"\n",
    "# question = \"Kagiso Rabada and Jasprit Bumrah\"\n",
    "# question = \"Guy Fieri and Bobby Flay\"\n",
    "# question = \"Shah Rukh Khan and Salman Khan\"\n",
    "# question = \"Tom Cruise and Kate Winslet\"\n",
    "# question = \"David Bowie and Freddie Mercury\"\n",
    "# question = \"Carl Sagan and Brian Cox\"\n",
    "# question = \"Statue of Liberty and Eiffel Tower\"\n",
    "# question = \"Statue of Liberty and New York City\"\n",
    "# question = \"Arundhati Roy and Agatha Christie\"\n",
    "# question = \"George R. R. Martin and J. R. R. Tolkien\"\n",
    "# question = \"Colloseum and Rome\"\n",
    "# question = \"Michael Phelps and Slovakia\"\n",
    "\n",
    "Instructions = \"\"\"Given two entities, find a common link or relation between them.\n",
    "If both entities are individuals, the common link can be their profession, nationality, or any other attribute they share. Their relation can be if someone is the student/teacher of the other etc.\n",
    "Similarly, if the entities are places, the common link can be the city, country, or any other attribute they share. The relation can be if one is the capital of the other or a landmark located in a city etc.\n",
    "If there is no connection just answer \"None\".\"\"\"\n",
    "\n",
    "# Instructions = f\"\"\"Given two entities, find a common link or relation between them. If there is no connection just answer \"None\".\"\"\"\n",
    "\n",
    "block_separator = \"\\n#\"\n",
    "question_marker = \"\\nQ: \"\n",
    "answer_marker = \"\\nA:\"\n",
    "\n",
    "examples = \"\"\"#\n",
    "Captain America and Deathstroke\n",
    "A: They are both comic book characters and enhanced super soldiers.\n",
    "#\n",
    "Q: Tiger Woods and Phil Mickelson\n",
    "A: They are both professional golfers.\n",
    "#\n",
    "Q: Rome and Italy\n",
    "A: Rome is the capital city of Italy.\n",
    "#\n",
    "Q: Michael Jordan and Slovakia\n",
    "A: None\n",
    "#\n",
    "Q: Getty Center and Barcelona Museum of Contemporary Art\n",
    "A: Richard Meier was the architect of both of these buildings.\n",
    "\"\"\"\n",
    "\n",
    "# entities = ('Bryce Harper', 'Yadier Molina')\n",
    "# entities = (\"Michael Caine\", \"Morgan Freeman\")\n",
    "# entities = (\"Michael Caine\", \"Stephen Hawking\")   #!\n",
    "# entities = (\"Stephen Hawking\", \"Albert Einstein\")\n",
    "# entities = (\"Charles Darwin\", \"Abraham Lincoln\")\n",
    "# entities = (\"Empire State Building\", \"Big Ben\")\n",
    "# entities = (\"Alexander Fleming\", \"Louis Pasteur\")\n",
    "# entities = (\"Alexander Fleming\", \"Andy Murray\")     #!\n",
    "# entities = (\"Alexander Fleming\", \"Sean Connery\")    #!\n",
    "# entities = (\"Ian McKellen\", \"Michael Fassbender\")    #!\n",
    "# entities = (\"Richard Harris\", \"Michael Gambon\")\n",
    "# entities = (\"Ian McKellen\", \"Issac Newton\")  #!\n",
    "# entities = (\"Issac Newton\", \"Ian McKellen\")\n",
    "\n",
    "# entities = (\"Natalie Portman\", \"Bob Dylan\")\n",
    "# entities = (\"Audrey Hepburn\", \"Julia Child\")\n",
    "# entities = (\"Ben Kingsley\", \"Mark Strong\")\n",
    "# entities = (\"Julia Roberts\", \"\")\n",
    "\n",
    "# special case: Brian Cox the Actor (Scottish) and Brian Cox the Physicist (British)\n",
    "# entities = (\"Carl Sagan\", \"Brian Cox\")\n",
    "# entities = (\"Morgan Freeman\", \"Brian Cox\")\n",
    "# entities = (\"Alexander Fleming\", \"Brian Cox\")\n",
    "# entities = (\"Andy Murray\", \"Brian Cox\")\n",
    "# if the entity appears later => do some context specific recalling\n",
    "# if the entity appears earlier => (?) Hybrid representation of both entities?\n",
    "# ---------------------------------------------------------------------------------\n",
    "\n",
    "# entities = (\"Michael Jordan\", \"Kobe Bryant\")\n",
    "\n",
    "# entities = (\"Hugh Jackman\", \"Ricky Ponting\")\n",
    "# entities = (\"Hugh Jackman\", \"Ryan Reynolds\")\n",
    "\n",
    "# entities = (\"Peter Sellers\", \"Elvis Presley\")\n",
    "# entities = (\"David Tennant\", \"Elvis Presley\")\n",
    "# entities = (\"Hugh Laurie\", \"Hoel McHale\")\n",
    "# entities = (\"Sachin Tendulkar\", \"Sachin Dev Burman\")\n",
    "\n",
    "# entities = (\"Daredevil\", \"Toph Beifong\")\n",
    "# entities = (\"Superman\", \"Starfire\")\n",
    "# entities = (\"Natalie Portman\", \"Natalie Portman\")\n",
    "# entities = (\"Burj Khalifa\", \"Shanghai Tower\")\n",
    "# entities = (\"Japan\", \"Korea\")\n",
    "# entities = (\"Japan\", \"Germany\")\n",
    "# entities = (\"Danke\", \"Merci\")\n",
    "entities = (\"Charlie Chaplin\", \"Rowan Atkinson\")\n",
    "# entities = (\"Daniel Craig\", \"Pierce Brosnan\")\n",
    "# entities = (\"Rafael Nadal\", \"Javier Bardem\")\n",
    "# entities = (\"Henry Cavill\", \"Christopher Reeve\")\n",
    "# entities = (\"Batman\", \"Ironman\")\n",
    "# entities = (\"Bruce Wayne\", \"Tony Stark\")\n",
    "# entities = (\"Captain America\", \"Deathstroke\")\n",
    "\n",
    "prefix = f\"\"\"{Instructions}\n",
    "{examples}\n",
    "\"\"\"\n",
    "\n",
    "prompt = prepare_probing_input(\n",
    "    mt=mt,\n",
    "    entities=entities,\n",
    "    prefix=prefix,\n",
    "    answer_marker=answer_marker,\n",
    "    question_marker=question_marker,\n",
    "    block_separator=block_separator,\n",
    "    is_a_reasoning_model=\"deepseek\" in model_key.lower(),\n",
    "    # is_a_reasoning_model=True\n",
    "    # answer_prefix=\" They are/were both\"\n",
    "    # answer_prefix = \" They are both used to say\"\n",
    "    # thinking_prefix = f\"Okay, so I need to figure out the common link or relation between {entities[0]} and {entities[1]}.\"\n",
    "    thinking_prefix=\"Okay, so I need to figure out the common link or relation between\",\n",
    ")\n",
    "\n",
    "print(mt.tokenizer.decode(prompt.tokenized[\"input_ids\"][0]))\n",
    "\n",
    "llm_output = get_lm_generated_answer(\n",
    "    mt=mt,\n",
    "    prompt=prompt,\n",
    "    is_a_reasoning_model=\"deepseek\" in model_key.lower(),\n",
    "    # is_a_reasoning_model=True\n",
    ")\n",
    "print(f\"{llm_output['answer']=}\")"
   ]
  },
  {
   "cell_type": "code",
   "execution_count": 68,
   "metadata": {},
   "outputs": [],
   "source": [
    "# from src.probing.utils import check_if_answer_is_correct\n",
    "\n",
    "# check_if_answer_is_correct(\n",
    "#     answer = llm_output['answer'],\n",
    "#     entities=entities,\n",
    "# )"
   ]
  },
  {
   "cell_type": "code",
   "execution_count": 71,
   "metadata": {},
   "outputs": [
    {
     "name": "stdout",
     "output_type": "stream",
     "text": [
      "<｜begin▁of▁sentence｜>Given two entities, find a common link or relation between them.\n",
      "If both entities are individuals, the common link can be their profession, nationality, or any other attribute they share. Their relation can be if someone is the student/teacher of the other etc.\n",
      "Similarly, if the entities are places, the common link can be the city, country, or any other attribute they share. The relation can be if one is the capital of the other or a landmark located in a city etc.\n",
      "If there is no connection just answer \"None\".\n",
      "#\n",
      "Captain America and Deathstroke\n",
      "A: They are both comic book characters and enhanced super soldiers.\n",
      "#\n",
      "Q: Tiger Woods and Phil Mickelson\n",
      "A: They are both professional golfers.\n",
      "#\n",
      "Q: Rome and Italy\n",
      "A: Rome is the capital city of Italy.\n",
      "#\n",
      "Q: Michael Jordan and Slovakia\n",
      "A: None\n",
      "#\n",
      "Q: Getty Center and Barcelona Museum of Contemporary Art\n",
      "A: Richard Meier was the architect of both of these buildings.\n",
      "#\n",
      "Q: Charlie Chaplin and Rowan Atkinson\n",
      "A:\n",
      "Try to keep your thinking is less than 5 sentences. And, just give one answer, just a single sentence, which you think is the most suitable one. Put your answer within \\boxed{}.\n",
      "<think>Okay, so I need to figure out the common link or relation between Charlie Chaplin and Rowan Atkinson. Let me start by thinking about who these two are. Charlie Chaplin is a well-known silent film actor and director from the early 20th century. He's famous for movies like \"The Great Dictator\" and \"Modern Times.\" On the other hand, Rowan Atkinson is a British actor and comedian known for his roles in \"Mr. Bean\" and \"Blackadder.\" He's also known for his work in animated films like \"The Lion King\" where he voices the character Zazu.\n",
      "\n",
      "Now, I need to find a common link between them. Let me consider different categories: profession, nationality, maybe something else. Both are actors, but that's too broad. Maybe looking into their careers more specifically. Chaplin was a silent film star, while Atkinson is known for comedy and has been in various genres. So maybe their professions don't directly link them.\n",
      "\n",
      "What about nationality? Chaplin was American, while Atkinson is British. That doesn't seem to be a common link. Maybe looking into their work in specific movies or roles. Chaplin was involved in the creation of \"Modern Times,\" which is a silent film with sound elements. Atkinson has done voice acting, like in \"The Lion King.\" Hmm, not sure if that connects them.\n",
      "\n",
      "Wait, another angle: maybe their influence on each other or similar types of roles. Chaplin is known for his physical comedy and character acting, while Atkinson is famous for his comedic timing and physical humor in \"Mr. Bean.\" They both have a unique style of comedy that involves a lot of physicality and character development. So perhaps their common link is their contribution to comedy and their style of acting.\n",
      "\n",
      "Alternatively, maybe looking into their collaborations or notable works. Chaplin's \"The Great Dictator\" is a classic, and Atkinson's \"Mr. Bean\" is a significant comedy series. But I don't see a direct link there. Maybe it's more about their impact on comedy as a whole rather than specific works.\n",
      "\n",
      "Another thought: Chaplin was also a director and writer, while Atkinson has done writing for his shows. But that might be stretching it. Maybe their success in the entertainment industry is a link, but that's too vague.\n",
      "\n",
      "Wait, perhaps looking into their personal lives or other connections. I don't think they've worked together or have any notable personal connections. So maybe it's more about their careers. Chaplin was a pioneer in silent film, and Atkinson has brought comedy to a new generation with his work in \"Mr. Bean\" and other series. So their common link could be their significant contributions to comedy and entertainment, specifically in the realm of physical comedy and character-driven humor.\n",
      "\n",
      "I think that's the best I can come up with. They both have left a lasting impact on comedy through their unique styles and the roles they've played.\n",
      "</think>\n",
      "\n",
      "Charlie Chaplin and Rowan Atkinson are both renowned for their contributions to comedy, with Chaplin pioneering silent film humor and Atkinson bringing physical comedy to a new audience through \"Mr. Bean.\"\n",
      "\n",
      "\\boxed{They are both known for their significant contributions to comedy.}<｜end▁of▁sentence｜>\n"
     ]
    }
   ],
   "source": [
    "generation = mt.tokenizer.decode(\n",
    "    llm_output[\"output\"].sequences[0], skip_special_tokens=False\n",
    ")\n",
    "print(generation)"
   ]
  },
  {
   "cell_type": "code",
   "execution_count": 109,
   "metadata": {},
   "outputs": [],
   "source": [
    "from dataclasses import dataclass\n",
    "from dataclasses_json import DataClassJsonMixin\n",
    "import numpy as np\n",
    "from src.functional import prepare_input\n",
    "from src.utils.typing import TokenizerOutput\n",
    "\n",
    "\n",
    "@dataclass(frozen=False)\n",
    "class AttentionInformation(DataClassJsonMixin):\n",
    "    tokenized_prompt: list[str]\n",
    "    attention_matrices: np.ndarray\n",
    "\n",
    "    def _init__(\n",
    "        self, prompt: str, tokenized_prompt: list[str], attention_matrices: torch.tensor\n",
    "    ):\n",
    "        assert len(tokenized_prompt) == attention_matrices.shape[-1], (\n",
    "            \"Tokenized prompt and attention matrices must have the same length\"\n",
    "        )\n",
    "        assert len(attention_matrices.shape) == 4, (\n",
    "            \"Attention matrices must be of shape (layers, heads, tokens, tokens)\"\n",
    "        )\n",
    "        assert attention_matrices.shape[-1] == attention_matrices.shape[-2], (\n",
    "            \"Attention matrices must be square\"\n",
    "        )\n",
    "\n",
    "        self.prompt = prompt\n",
    "        self.tokenized_prompt = tokenized_prompt\n",
    "        self.attention_matrices = attention_matrices\n",
    "\n",
    "    def get_attn_matrix(self, layer: int, head: int) -> torch.tensor:\n",
    "        return self.attention_matrices[layer, head]\n",
    "\n",
    "\n",
    "def repeat_kv(hidden_states: torch.Tensor, n_rep: int) -> torch.Tensor:\n",
    "    \"\"\"\n",
    "    This is the equivalent of torch.repeat_interleave(x, dim=1, repeats=n_rep). The hidden states go from (batch,\n",
    "    num_key_value_heads, seqlen, head_dim) to (batch, num_attention_heads, seqlen, head_dim)\n",
    "    \"\"\"\n",
    "    batch, num_key_value_heads, slen, head_dim = hidden_states.shape\n",
    "    if n_rep == 1:\n",
    "        return hidden_states\n",
    "    hidden_states = hidden_states[:, :, None, :, :].expand(\n",
    "        batch, num_key_value_heads, n_rep, slen, head_dim\n",
    "    )\n",
    "    return hidden_states.reshape(batch, num_key_value_heads * n_rep, slen, head_dim)\n",
    "\n",
    "\n",
    "@torch.inference_mode()\n",
    "def get_attention_matrices(\n",
    "    input: str | TokenizerOutput, lm: LanguageModel, value_weighted: bool = False\n",
    ") -> torch.tensor:\n",
    "    \"\"\"\n",
    "    Parameters:\n",
    "        prompt: str, input prompt\n",
    "        mt: ModelandTokenizer, model and tokenizer\n",
    "        value_weighted: bool.\n",
    "            - False => will reuturn attention masks for each key-value pair (after softmax). This is the attention mask actually produced inside the model\n",
    "            - True => will consider the value matrices to give a sense of the actual contribution of source tokens to the target token residual.\n",
    "    Returns:\n",
    "        attention matrices: torch.tensor of shape (layers, heads, tokens, tokens)\n",
    "    \"\"\"\n",
    "    # ! doesn't support batching yet. ignore for now (arnab)\n",
    "    if isinstance(input, str):\n",
    "        input = prepare_input(prompts=input, tokenizer=lm)\n",
    "    else:\n",
    "        assert isinstance(input, TokenizerOutput), (\n",
    "            \"input must be either a string or a TokenizerOutput object\"\n",
    "        )\n",
    "    output = lm._model(\n",
    "        **input, output_attentions=True\n",
    "    )  # batch_size x n_tokens x vocab_size, only want last token prediction\n",
    "    attentions = torch.vstack(output.attentions)  # (layers, heads, tokens, tokens)\n",
    "    if value_weighted:\n",
    "        values = torch.vstack(\n",
    "            [output.past_key_values[i][1] for i in range(lm.config.num_hidden_layers)]\n",
    "        )  # (layers, heads, tokens, head_dim)\n",
    "        values = repeat_kv(\n",
    "            values, n_rep=mt.model.layers[0].self_attn.num_key_value_groups\n",
    "        )\n",
    "        print(f\"{attentions.shape=} | {values.shape=}\")\n",
    "        attentions = torch.einsum(\"abcd,abd->abcd\", attentions, values.norm(dim=-1))\n",
    "    return AttentionInformation(\n",
    "        tokenized_prompt=[lm.tokenizer.decode(tok) for tok in input.input_ids[0]],\n",
    "        attention_matrices=attentions.detach().cpu().to(torch.float32).numpy(),\n",
    "    )"
   ]
  },
  {
   "cell_type": "code",
   "execution_count": 123,
   "metadata": {},
   "outputs": [
    {
     "data": {
      "text/plain": [
       "861"
      ]
     },
     "execution_count": 123,
     "metadata": {},
     "output_type": "execute_result"
    }
   ],
   "source": [
    "from src.tokens import prepare_input, find_token_range\n",
    "\n",
    "inputs = prepare_input(\n",
    "    prompts=generation,\n",
    "    tokenizer=mt,\n",
    "    return_offsets_mapping=True,\n",
    "    add_special_tokens=False,\n",
    ")\n",
    "think_end = find_token_range(\n",
    "    string=generation,\n",
    "    substring=\"</think>\",\n",
    "    tokenizer=mt,\n",
    "    offset_mapping=inputs.offset_mapping[0],\n",
    ")\n",
    "think_end = think_end[1]\n",
    "think_end"
   ]
  },
  {
   "cell_type": "code",
   "execution_count": 124,
   "metadata": {},
   "outputs": [
    {
     "data": {
      "text/plain": [
       "'\\n\\n'"
      ]
     },
     "execution_count": 124,
     "metadata": {},
     "output_type": "execute_result"
    }
   ],
   "source": [
    "mt.tokenizer.decode(inputs.input_ids[0][think_end])"
   ]
  },
  {
   "cell_type": "code",
   "execution_count": 125,
   "metadata": {},
   "outputs": [
    {
     "name": "stdout",
     "output_type": "stream",
     "text": [
      "attentions.shape=torch.Size([32, 32, 918, 918]) | values.shape=torch.Size([32, 32, 918, 128])\n"
     ]
    },
    {
     "data": {
      "text/plain": [
       "(32, 32, 918, 918)"
      ]
     },
     "execution_count": 125,
     "metadata": {},
     "output_type": "execute_result"
    }
   ],
   "source": [
    "attn = get_attention_matrices(input=inputs, lm=mt, value_weighted=True)\n",
    "attn.attention_matrices.shape"
   ]
  },
  {
   "cell_type": "code",
   "execution_count": null,
   "metadata": {},
   "outputs": [
    {
     "data": {
      "text/plain": [
       "torch.Size([918])"
      ]
     },
     "execution_count": 133,
     "metadata": {},
     "output_type": "execute_result"
    }
   ],
   "source": []
  },
  {
   "cell_type": "code",
   "execution_count": 152,
   "metadata": {},
   "outputs": [
    {
     "data": {
      "text/html": [
       "<div id=\"circuits-vis-74f4c60f-41df\" style=\"margin: 15px 0;\"/>\n",
       "    <script crossorigin type=\"module\">\n",
       "    import { render, ColoredTokens } from \"https://unpkg.com/circuitsvis@1.43.2/dist/cdn/esm.js\";\n",
       "    render(\n",
       "      \"circuits-vis-74f4c60f-41df\",\n",
       "      ColoredTokens,\n",
       "      {\"tokens\": [\"Given\", \" two\", \" entities\", \",\", \" find\", \" a\", \" common\", \" link\", \" or\", \" relation\", \" between\", \" them\", \".\\n\", \"If\", \" both\", \" entities\", \" are\", \" individuals\", \",\", \" the\", \" common\", \" link\", \" can\", \" be\", \" their\", \" profession\", \",\", \" nationality\", \",\", \" or\", \" any\", \" other\", \" attribute\", \" they\", \" share\", \".\", \" Their\", \" relation\", \" can\", \" be\", \" if\", \" someone\", \" is\", \" the\", \" student\", \"/\", \"teacher\", \" of\", \" the\", \" other\", \" etc\", \".\\n\", \"Similarly\", \",\", \" if\", \" the\", \" entities\", \" are\", \" places\", \",\", \" the\", \" common\", \" link\", \" can\", \" be\", \" the\", \" city\", \",\", \" country\", \",\", \" or\", \" any\", \" other\", \" attribute\", \" they\", \" share\", \".\", \" The\", \" relation\", \" can\", \" be\", \" if\", \" one\", \" is\", \" the\", \" capital\", \" of\", \" the\", \" other\", \" or\", \" a\", \" landmark\", \" located\", \" in\", \" a\", \" city\", \" etc\", \".\\n\", \"If\", \" there\", \" is\", \" no\", \" connection\", \" just\", \" answer\", \" \\\"\", \"None\", \"\\\".\\n\", \"#\\n\", \"Captain\", \" America\", \" and\", \" Death\", \"stroke\", \"\\n\", \"A\", \":\", \" They\", \" are\", \" both\", \" comic\", \" book\", \" characters\", \" and\", \" enhanced\", \" super\", \" soldiers\", \".\\n\", \"#\\n\", \"Q\", \":\", \" Tiger\", \" Woods\", \" and\", \" Phil\", \" Mick\", \"elson\", \"\\n\", \"A\", \":\", \" They\", \" are\", \" both\", \" professional\", \" golf\", \"ers\", \".\\n\", \"#\\n\", \"Q\", \":\", \" Rome\", \" and\", \" Italy\", \"\\n\", \"A\", \":\", \" Rome\", \" is\", \" the\", \" capital\", \" city\", \" of\", \" Italy\", \".\\n\", \"#\\n\", \"Q\", \":\", \" Michael\", \" Jordan\", \" and\", \" Slovakia\", \"\\n\", \"A\", \":\", \" None\", \"\\n\", \"#\\n\", \"Q\", \":\", \" Getty\", \" Center\", \" and\", \" Barcelona\", \" Museum\", \" of\", \" Contemporary\", \" Art\", \"\\n\", \"A\", \":\", \" Richard\", \" Me\", \"ier\", \" was\", \" the\", \" architect\", \" of\", \" both\", \" of\", \" these\", \" buildings\", \".\\n\", \"#\\n\", \"Q\", \":\", \" Charlie\", \" Chap\", \"lin\", \" and\", \" Row\", \"an\", \" At\", \"kinson\", \"\\n\", \"A\", \":\\n\", \"Try\", \" to\", \" keep\", \" your\", \" thinking\", \" is\", \" less\", \" than\", \" \", \"5\", \" sentences\", \".\", \" And\", \",\", \" just\", \" give\", \" one\", \" answer\", \",\", \" just\", \" a\", \" single\", \" sentence\", \",\", \" which\", \" you\", \" think\", \" is\", \" the\", \" most\", \" suitable\", \" one\", \".\", \" Put\", \" your\", \" answer\", \" within\", \" \\\\\", \"boxed\", \"{}\", \".\\n\", \"<|think|>\", \"Okay\", \",\", \" so\", \" I\", \" need\", \" to\", \" figure\", \" out\", \" the\", \" common\", \" link\", \" or\", \" relation\", \" between\", \" Charlie\", \" Chap\", \"lin\", \" and\", \" Row\", \"an\", \" At\", \"kinson\", \".\", \" Let\", \" me\", \" start\", \" by\", \" thinking\", \" about\", \" who\", \" these\", \" two\", \" are\", \".\", \" Charlie\", \" Chap\", \"lin\", \" is\", \" a\", \" well\", \"-known\", \" silent\", \" film\", \" actor\", \" and\", \" director\", \" from\", \" the\", \" early\", \" \", \"20\", \"th\", \" century\", \".\", \" He\", \"'s\", \" famous\", \" for\", \" movies\", \" like\", \" \\\"\", \"The\", \" Great\", \" Dict\", \"ator\", \"\\\"\", \" and\", \" \\\"\", \"Modern\", \" Times\", \".\\\"\", \" On\", \" the\", \" other\", \" hand\", \",\", \" Row\", \"an\", \" At\", \"kinson\", \" is\", \" a\", \" British\", \" actor\", \" and\", \" comedian\", \" known\", \" for\", \" his\", \" roles\", \" in\", \" \\\"\", \"Mr\", \".\", \" Bean\", \"\\\"\", \" and\", \" \\\"\", \"Black\", \"adder\", \".\\\"\", \" He\", \"'s\", \" also\", \" known\", \" for\", \" his\", \" work\", \" in\", \" animated\", \" films\", \" like\", \" \\\"\", \"The\", \" Lion\", \" King\", \"\\\"\", \" where\", \" he\", \" voices\", \" the\", \" character\", \" Z\", \"azu\", \".\\n\\n\", \"Now\", \",\", \" I\", \" need\", \" to\", \" find\", \" a\", \" common\", \" link\", \" between\", \" them\", \".\", \" Let\", \" me\", \" consider\", \" different\", \" categories\", \":\", \" profession\", \",\", \" nationality\", \",\", \" maybe\", \" something\", \" else\", \".\", \" Both\", \" are\", \" actors\", \",\", \" but\", \" that\", \"'s\", \" too\", \" broad\", \".\", \" Maybe\", \" looking\", \" into\", \" their\", \" careers\", \" more\", \" specifically\", \".\", \" Chap\", \"lin\", \" was\", \" a\", \" silent\", \" film\", \" star\", \",\", \" while\", \" At\", \"kinson\", \" is\", \" known\", \" for\", \" comedy\", \" and\", \" has\", \" been\", \" in\", \" various\", \" genres\", \".\", \" So\", \" maybe\", \" their\", \" professions\", \" don\", \"'t\", \" directly\", \" link\", \" them\", \".\\n\\n\", \"What\", \" about\", \" nationality\", \"?\", \" Chap\", \"lin\", \" was\", \" American\", \",\", \" while\", \" At\", \"kinson\", \" is\", \" British\", \".\", \" That\", \" doesn\", \"'t\", \" seem\", \" to\", \" be\", \" a\", \" common\", \" link\", \".\", \" Maybe\", \" looking\", \" into\", \" their\", \" work\", \" in\", \" specific\", \" movies\", \" or\", \" roles\", \".\", \" Chap\", \"lin\", \" was\", \" involved\", \" in\", \" the\", \" creation\", \" of\", \" \\\"\", \"Modern\", \" Times\", \",\\\"\", \" which\", \" is\", \" a\", \" silent\", \" film\", \" with\", \" sound\", \" elements\", \".\", \" At\", \"kinson\", \" has\", \" done\", \" voice\", \" acting\", \",\", \" like\", \" in\", \" \\\"\", \"The\", \" Lion\", \" King\", \".\\\"\", \" Hmm\", \",\", \" not\", \" sure\", \" if\", \" that\", \" connects\", \" them\", \".\\n\\n\", \"Wait\", \",\", \" another\", \" angle\", \":\", \" maybe\", \" their\", \" influence\", \" on\", \" each\", \" other\", \" or\", \" similar\", \" types\", \" of\", \" roles\", \".\", \" Chap\", \"lin\", \" is\", \" known\", \" for\", \" his\", \" physical\", \" comedy\", \" and\", \" character\", \" acting\", \",\", \" while\", \" At\", \"kinson\", \" is\", \" famous\", \" for\", \" his\", \" comedic\", \" timing\", \" and\", \" physical\", \" humor\", \" in\", \" \\\"\", \"Mr\", \".\", \" Bean\", \".\\\"\", \" They\", \" both\", \" have\", \" a\", \" unique\", \" style\", \" of\", \" comedy\", \" that\", \" involves\", \" a\", \" lot\", \" of\", \" physical\", \"ity\", \" and\", \" character\", \" development\", \".\", \" So\", \" perhaps\", \" their\", \" common\", \" link\", \" is\", \" their\", \" contribution\", \" to\", \" comedy\", \" and\", \" their\", \" style\", \" of\", \" acting\", \".\\n\\n\", \"Alternatively\", \",\", \" maybe\", \" looking\", \" into\", \" their\", \" collaborations\", \" or\", \" notable\", \" works\", \".\", \" Chap\", \"lin\", \"'s\", \" \\\"\", \"The\", \" Great\", \" Dict\", \"ator\", \"\\\"\", \" is\", \" a\", \" classic\", \",\", \" and\", \" At\", \"kinson\", \"'s\", \" \\\"\", \"Mr\", \".\", \" Bean\", \"\\\"\", \" is\", \" a\", \" significant\", \" comedy\", \" series\", \".\", \" But\", \" I\", \" don\", \"'t\", \" see\", \" a\", \" direct\", \" link\", \" there\", \".\", \" Maybe\", \" it\", \"'s\", \" more\", \" about\", \" their\", \" impact\", \" on\", \" comedy\", \" as\", \" a\", \" whole\", \" rather\", \" than\", \" specific\", \" works\", \".\\n\\n\", \"Another\", \" thought\", \":\", \" Chap\", \"lin\", \" was\", \" also\", \" a\", \" director\", \" and\", \" writer\", \",\", \" while\", \" At\", \"kinson\", \" has\", \" done\", \" writing\", \" for\", \" his\", \" shows\", \".\", \" But\", \" that\", \" might\", \" be\", \" stretching\", \" it\", \".\", \" Maybe\", \" their\", \" success\", \" in\", \" the\", \" entertainment\", \" industry\", \" is\", \" a\", \" link\", \",\", \" but\", \" that\", \"'s\", \" too\", \" vague\", \".\\n\\n\", \"Wait\", \",\", \" perhaps\", \" looking\", \" into\", \" their\", \" personal\", \" lives\", \" or\", \" other\", \" connections\", \".\", \" I\", \" don\", \"'t\", \" think\", \" they\", \"'ve\", \" worked\", \" together\", \" or\", \" have\", \" any\", \" notable\", \" personal\", \" connections\", \".\", \" So\", \" maybe\", \" it\", \"'s\", \" more\", \" about\", \" their\", \" careers\", \".\", \" Chap\", \"lin\", \" was\", \" a\", \" pioneer\", \" in\", \" silent\", \" film\", \",\", \" and\", \" At\", \"kinson\", \" has\", \" brought\", \" comedy\", \" to\", \" a\", \" new\", \" generation\", \" with\", \" his\", \" work\", \" in\", \" \\\"\", \"Mr\", \".\", \" Bean\", \"\\\"\", \" and\", \" other\", \" series\", \".\", \" So\", \" their\", \" common\", \" link\", \" could\", \" be\", \" their\", \" significant\", \" contributions\", \" to\", \" comedy\", \" and\", \" entertainment\", \",\", \" specifically\", \" in\", \" the\", \" realm\", \" of\", \" physical\", \" comedy\", \" and\", \" character\", \"-driven\", \" humor\", \".\\n\\n\", \"I\", \" think\", \" that\", \"'s\", \" the\", \" best\", \" I\", \" can\", \" come\", \" up\", \" with\", \".\", \" They\", \" both\", \" have\", \" left\", \" a\", \" lasting\", \" impact\", \" on\", \" comedy\", \" through\", \" their\", \" unique\", \" styles\", \" and\", \" the\", \" roles\", \" they\", \"'ve\", \" played\", \".\\n\", \"<|/think|>\"], \"values\": [0.003916893154382706, 0.00041200779378414154, 0.0012379679828882217, 0.0003561917692422867, 0.0008334070444107056, 0.0007188543677330017, 0.0011384319514036179, 0.0010405723005533218, 0.00032374821603298187, 0.000532170757651329, 0.00041068531572818756, 0.00044138915836811066, 0.002459505572915077, 0.0028938502073287964, 0.0005261413753032684, 0.0007276926189661026, 0.00034195929765701294, 0.0013025067746639252, 0.0005472693592309952, 0.0006003361195325851, 0.00045297108590602875, 0.000209050253033638, 0.0006722100079059601, 0.00018895603716373444, 0.0008502062410116196, 0.001884089782834053, 0.0002140682190656662, 0.0008321609348058701, 0.0002632681280374527, 0.00012925267219543457, 0.00010151974856853485, 0.00011232495307922363, 0.0002506021410226822, 0.00018765218555927277, 0.00046044401824474335, 0.00061761774122715, 0.001279149204492569, 0.0003334861248731613, 0.00023753754794597626, 0.00016174651682376862, 0.0002649109810590744, 0.0005064904689788818, 0.0003696419298648834, 0.00045762956142425537, 0.0010236389935016632, 0.0005890019237995148, 0.00019705481827259064, 0.00023974105715751648, 0.0002125166356563568, 0.00011567771434783936, 0.0005839280784130096, 0.0007036328315734863, 0.0009546000510454178, 0.00019714608788490295, 0.00013495422899723053, 0.00029722414910793304, 0.0003851205110549927, 0.0001872032880783081, 0.0006997175514698029, 0.00012067519128322601, 0.00019181333482265472, 0.00020251795649528503, 0.00011721625924110413, 0.000196089968085289, 0.0001840684562921524, 0.00020831264555454254, 0.0005188025534152985, 0.00023014843463897705, 0.000231252983212471, 8.514523506164551e-05, 6.665289402008057e-05, 3.858841955661774e-05, 0.00010299868881702423, 0.000124344602227211, 0.00013614073395729065, 8.51564109325409e-05, 0.00010026805102825165, 0.00020022131502628326, 0.00013626180589199066, 0.00013354234397411346, 0.0001854579895734787, 0.00013059191405773163, 0.00017774105072021484, 0.00018782727420330048, 0.00011106766760349274, 0.0004160739481449127, 7.637776434421539e-05, 0.0001518484205007553, 5.5592507123947144e-05, 5.5126845836639404e-05, 0.0001772623509168625, 0.0003309175372123718, 0.0002274792641401291, 0.00010439939796924591, 0.0001500733196735382, 7.624737918376923e-05, 0.000281650573015213, 0.0003746300935745239, 0.0002473220229148865, 0.0005708653479814529, 0.000400615856051445, 0.0003991648554801941, 0.00017263926565647125, 0.0005889330059289932, 0.0012291334569454193, 0.007235787808895111, 0.02099238522350788, 0.0015040412545204163, 0.03759824112057686, 0.022425105795264244, 0.0162212997674942, 0.0059396326541900635, 0.009372113272547722, 0.0020311791449785233, 0.004255915060639381, 0.024005496874451637, 0.015406643971800804, 0.0160587877035141, 0.001528032124042511, 0.0013851802796125412, 0.0032117534428834915, 0.0007347352802753448, 0.0011117253452539444, 0.00044546090066432953, 0.0011390652507543564, 0.00046855583786964417, 0.0003460831940174103, 0.0011447425931692123, 0.02981099672615528, 0.016856689006090164, 0.0022274199873209, 0.005705064162611961, 0.0025244131684303284, 0.001545500010251999, 0.0016278084367513657, 0.0007928572595119476, 0.0016890428960323334, 0.0011659041047096252, 0.015068167820572853, 0.002504618838429451, 0.0024033859372138977, 0.0011696498841047287, 0.0022588521242141724, 0.0010224208235740662, 0.0005713962018489838, 0.00024187564849853516, 0.0017805900424718857, 0.0062271300703287125, 0.007487013936042786, 0.004432933405041695, 0.0036436747759580612, 0.0008111279457807541, 0.0005998872220516205, 0.00037035346031188965, 0.0020912159234285355, 0.0024452973157167435, 0.001276673749089241, 0.0005546435713768005, 0.0003729797899723053, 0.0003741346299648285, 8.936412632465363e-05, 0.00016782246530056, 0.00018761307001113892, 0.0008276458829641342, 0.0018805190920829773, 0.0026369206607341766, 0.0012195799499750137, 0.002837318927049637, 0.0036538783460855484, 0.0009590648114681244, 0.0017017591744661331, 0.0004684850573539734, 0.002134980633854866, 0.00536237470805645, 0.0199064239859581, 0.0025859717279672623, 0.002620907500386238, 0.0018643718212842941, 0.0019608233124017715, 0.006420282647013664, 0.0028278976678848267, 0.0010025445371866226, 0.0022720079869031906, 0.000955432653427124, 0.0012862235307693481, 0.000590149313211441, 0.0026804227381944656, 0.0006635338068008423, 0.002255374565720558, 0.004415268078446388, 0.007721923291683197, 0.0008838791400194168, 0.0010658521205186844, 0.0013155154883861542, 0.0006267763674259186, 0.0007908083498477936, 0.0008285213261842728, 0.0009443908929824829, 0.00030502118170261383, 0.000415092334151268, 0.00022413209080696106, 0.0017740894109010696, 0.0016333162784576416, 0.0015332084149122238, 0.0011161137372255325, 0.007562525570392609, 0.0028592050075531006, 0.006167532876133919, 0.0007407721132040024, 0.0012672059237957, 0.0012434683740139008, 0.0007909126579761505, 0.010275794193148613, 0.0008532945066690445, 0.004384554922580719, 0.050546180456876755, 0.009743137285113335, 0.0014163963496685028, 0.0016073733568191528, 0.0014166254550218582, 0.0018333178013563156, 0.0016636159271001816, 0.0016972851008176804, 0.0005910396575927734, 0.0019832979887723923, 0.0013197306543588638, 0.0013114940375089645, 0.0017154961824417114, 0.003326181322336197, 0.0024188682436943054, 0.006874488666653633, 0.0015334486961364746, 0.0028941500931978226, 0.0007550809532403946, 0.0008225999772548676, 0.0036980826407670975, 0.0008759703487157822, 0.002022232860326767, 0.002020901069045067, 0.00048682279884815216, 0.001229897141456604, 0.0013618674129247665, 0.0003433283418416977, 0.000577220693230629, 0.0012712962925434113, 0.0012063831090927124, 0.00040025264024734497, 0.00034429505467414856, 0.0010823514312505722, 0.00340094231069088, 0.012206332758069038, 0.0018720142543315887, 0.00405488908290863, 0.03859846666455269, 0.058054979890584946, 0.0075401850044727325, 0.0031310487538576126, 0.014001535251736641, 0.0404670387506485, 0.006932085379958153, 0.00596984475851059, 0.0039916373789310455, 0.0021463073790073395, 0.0012025553733110428, 0.0006752554327249527, 0.0006432831287384033, 0.001155095174908638, 0.0007402524352073669, 0.0005331654101610184, 0.0005057752132415771, 0.0004282761365175247, 0.007930053398013115, 0.019086210057139397, 0.004947766661643982, 0.006871378049254417, 0.005101311951875687, 0.005028931424021721, 0.0063753314316272736, 0.009891018271446228, 0.0023795701563358307, 0.002863142639398575, 0.0030148327350616455, 0.0018645208328962326, 0.0005698613822460175, 0.0005629491060972214, 0.00037478841841220856, 0.0015279743820428848, 0.0023993179202079773, 0.001006636768579483, 0.000764060765504837, 0.0003960803151130676, 0.003761459141969681, 0.001402905210852623, 0.001631084829568863, 0.0004659276455640793, 0.0018310882151126862, 0.0010859165340662003, 0.0005516521632671356, 0.000773577019572258, 0.0014970619231462479, 0.001392291858792305, 0.0011772233992815018, 0.0018015168607234955, 0.0006252452731132507, 0.0007080100476741791, 0.00045339763164520264, 0.0002911686897277832, 0.0012594982981681824, 0.0003031827509403229, 0.00015074573457241058, 0.00018841028213500977, 0.0024390127509832382, 0.002039581537246704, 0.0015243422240018845, 0.001026943325996399, 0.001266004517674446, 0.0006412416696548462, 0.0017978213727474213, 0.006738118827342987, 0.00755256786942482, 0.0008483026176691055, 0.0005217771977186203, 0.0005902405828237534, 0.0005585439503192902, 0.0005504880100488663, 0.001943293958902359, 0.0008407924324274063, 0.0007187016308307648, 0.0011614970862865448, 0.001924213021993637, 0.0004671197384595871, 0.00048532523214817047, 0.0010728221386671066, 0.0022406652569770813, 0.003932543098926544, 0.0036468077450990677, 0.0017967857420444489, 0.0014660581946372986, 0.0006359051913022995, 0.0010754354298114777, 0.0010926015675067902, 0.00097724050283432, 0.0017906930297613144, 0.0013388004153966904, 0.0010678675025701523, 0.0012653917074203491, 0.0004684869199991226, 0.0004264041781425476, 0.001238534227013588, 0.003453250974416733, 0.003363214433193207, 0.0008525773882865906, 0.0027103442698717117, 0.000756584107875824, 0.0008318237960338593, 0.0028535276651382446, 0.0030806735157966614, 0.0012743379920721054, 0.0022026225924491882, 0.0014142505824565887, 0.0004735216498374939, 0.0008868910372257233, 0.0003356020897626877, 0.0005527082830667496, 0.0005089417099952698, 0.0003025401383638382, 0.0004097539931535721, 0.00086175836622715, 0.0003626663237810135, 0.0006633531302213669, 0.0024748966097831726, 0.00493224523961544, 0.0004881732165813446, 0.002252398058772087, 0.0009462442249059677, 0.002004005014896393, 0.0004324391484260559, 0.002145111560821533, 0.00044752098619937897, 0.0007780659943819046, 0.0009927265346050262, 0.0014427434653043747, 0.003413073718547821, 0.0024320073425769806, 0.0004277583211660385, 0.0010784287005662918, 0.0008428655564785004, 0.0003491826355457306, 0.0007913056761026382, 0.0007437504827976227, 0.00021369010210037231, 0.00015230290591716766, 0.004542630165815353, 0.0004023425281047821, 0.0003365408629179001, 0.0009536650031805038, 0.0006780866533517838, 0.00040149129927158356, 0.0003155134618282318, 0.00025043077766895294, 0.0004765428602695465, 0.0006712973117828369, 0.000362662598490715, 0.0003377199172973633, 0.0002977941185235977, 0.0009171832352876663, 0.0006092041730880737, 0.0003121253103017807, 0.0005339402705430984, 0.0029393360018730164, 0.0006312355399131775, 0.0007146093994379044, 0.0003987792879343033, 0.0015811063349246979, 0.0004943199455738068, 0.0004004575312137604, 0.0004759877920150757, 0.0005057677626609802, 0.0004466213285923004, 0.0013216622173786163, 0.0006074290722608566, 0.0005319379270076752, 0.000385873019695282, 0.0002111084759235382, 0.00019829720258712769, 0.0002595745027065277, 0.0009602643549442291, 0.0019863229244947433, 0.000494861975312233, 0.0006008986383676529, 0.0004240032285451889, 0.00042996369302272797, 0.00035210326313972473, 0.00030013173818588257, 0.00022984668612480164, 0.0016804710030555725, 0.0009040851145982742, 0.0004943665117025375, 0.0003322511911392212, 0.0002638157457113266, 0.0003979243338108063, 0.0003183875232934952, 0.00034832023084163666, 0.0008183363825082779, 0.0002756938338279724, 0.00019063055515289307, 0.0001600850373506546, 0.0001704879105091095, 0.00020273588597774506, 0.000379195436835289, 0.0004943683743476868, 0.00043757446110248566, 0.00016323290765285492, 0.0024995431303977966, 0.0006239525973796844, 0.00022326968610286713, 0.0002963319420814514, 0.0003327224403619766, 0.000986522063612938, 0.0011733658611774445, 0.0005516652017831802, 0.00041117891669273376, 0.0005753897130489349, 0.0005449391901493073, 0.00022463500499725342, 0.00034849531948566437, 0.0003171917051076889, 0.00016346760094165802, 0.0004963632673025131, 0.003829382359981537, 0.00020545534789562225, 0.00014965049922466278, 0.0003241784870624542, 0.0001274310052394867, 0.00030677393078804016, 0.0018207523971796036, 0.0004906505346298218, 0.00021157041192054749, 8.948147296905518e-05, 8.746050298213959e-05, 0.0002081841230392456, 0.00012543238699436188, 0.00018361397087574005, 0.0002169683575630188, 0.0007536318153142929, 0.0001884307712316513, 0.00019365176558494568, 0.0003989655524492264, 0.004070628434419632, 0.0014588851481676102, 0.0004920121282339096, 0.00039133988320827484, 0.00020990334451198578, 0.0001612883061170578, 0.0006354805082082748, 0.0035552065819501877, 0.00042325258255004883, 0.0002555903047323227, 0.0001898445188999176, 0.0003013927489519119, 0.000429762527346611, 0.00029457733035087585, 0.0006244760006666183, 0.0010295342653989792, 0.0007437895983457565, 0.00031489133834838867, 0.0004329010844230652, 0.0004665739834308624, 0.0007220786064863205, 0.0009531881660223007, 0.0002664513885974884, 0.0002261381596326828, 0.0013284031301736832, 0.0004473067820072174, 0.0004826020449399948, 0.0004878416657447815, 0.0003481470048427582, 0.0005730036646127701, 0.0003707539290189743, 0.00041845254600048065, 0.0005712639540433884, 0.0002784300595521927, 0.0002835020422935486, 0.0005554743111133575, 0.0003064870834350586, 0.0013499651104211807, 0.0017476975917816162, 0.0003294944763183594, 0.0003304295241832733, 0.0002655256539583206, 0.0033104922622442245, 0.0003633573651313782, 0.0004738699644804001, 0.0004181619733572006, 0.00019367411732673645, 0.00026389211416244507, 0.00036424770951271057, 0.000283852219581604, 0.000806344673037529, 0.002185031771659851, 0.0011935941874980927, 0.0007891189306974411, 0.0004165414720773697, 0.0004894472658634186, 0.0009666923433542252, 0.0006834268569946289, 0.0007349830120801926, 0.0004886798560619354, 0.00016975216567516327, 0.0002104826271533966, 0.00016584992408752441, 0.00012859702110290527, 0.00013015232980251312, 0.00014619901776313782, 0.0001608673483133316, 0.0006192605942487717, 0.0002887360751628876, 0.0002987273037433624, 0.0005425810813903809, 0.00023242458701133728, 0.000392325222492218, 0.0004097595810890198, 0.00045478343963623047, 0.00035045109689235687, 0.0003454964607954025, 0.0003943704068660736, 0.00011855177581310272, 0.00010299123823642731, 0.0005867388099431992, 0.0004712846130132675, 0.0001676604151725769, 9.530968964099884e-05, 0.00015733949840068817, 0.00021526217460632324, 0.00030960701406002045, 0.0004344116896390915, 0.0001562945544719696, 0.0003989562392234802, 0.0002722274512052536, 0.00011965632438659668, 0.000354202464222908, 0.0010217223316431046, 0.002078387886285782, 0.0010955817997455597, 0.00039142556488513947, 0.0003921724855899811, 0.0013208836317062378, 0.00030227750539779663, 0.00021692737936973572, 0.0002902187407016754, 0.00015137530863285065, 0.00016622990369796753, 0.00017693638801574707, 0.00016973167657852173, 0.00022980011999607086, 0.0003589857369661331, 0.0009447559714317322, 0.000279746949672699, 0.0001346822828054428, 0.000188315287232399, 0.00017312169075012207, 0.0002842843532562256, 0.00020848214626312256, 0.0001669861376285553, 0.0006304066628217697, 0.0009709373116493225, 0.0007770098745822906, 0.00034640170633792877, 0.00018605031073093414, 0.0002428106963634491, 0.0009486209601163864, 0.0004971642047166824, 0.0006135068833827972, 0.0012390948832035065, 0.0009858515113592148, 0.000652063637971878, 0.00023093260824680328, 0.00016466714441776276, 0.0002060364931821823, 0.00028731487691402435, 0.0018182694911956787, 0.0014527775347232819, 0.0003635752946138382, 0.000476958230137825, 0.0001988038420677185, 0.00022847019135951996, 0.00021725520491600037, 0.0004414934664964676, 0.00022085383534431458, 0.0003385450690984726, 0.0002112705260515213, 0.0005093608051538467, 0.00038881227374076843, 0.00023272261023521423, 0.00028267689049243927, 0.000750986859202385, 0.0011437460780143738, 0.0002502892166376114, 0.0004107486456632614, 0.0002247970551252365, 0.0003146212548017502, 0.0004155430942773819, 0.0003651585429906845, 0.0002982020378112793, 0.00013940222561359406, 0.00029446743428707123, 0.000373179093003273, 0.00020475126802921295, 0.0001674555242061615, 0.0013426821678876877, 0.001592373475432396, 0.0006032008677721024, 0.0006418991833925247, 0.0002514384686946869, 0.00018233433365821838, 0.00019670836627483368, 0.00015580467879772186, 0.00026689469814300537, 0.00022209621965885162, 0.00022882409393787384, 0.0004382096230983734, 0.0006837937980890274, 0.008339405059814453, 0.0006911717355251312, 0.00024070404469966888, 0.00029266253113746643, 0.00023972243070602417, 0.00032917968928813934, 0.00020207464694976807, 0.00022963061928749084, 0.0003646872937679291, 0.00034714676439762115, 0.00022068247199058533, 0.00014002807438373566, 9.537488222122192e-05, 0.00010627135634422302, 0.00031548552215099335, 0.00030975230038166046, 0.000258689746260643, 0.00026652030646800995, 0.00016445107758045197, 0.00021085143089294434, 0.0004286132752895355, 0.0001888703554868698, 0.0001597367227077484, 0.00024349242448806763, 0.0006391666829586029, 0.00200701504945755, 0.000644223764538765, 0.0004847962409257889, 0.0008072890341281891, 0.00034100189805030823, 0.00041487812995910645, 0.00017211027443408966, 0.00029454007744789124, 0.0004404522478580475, 0.001469263806939125, 0.00045303814113140106, 0.0005668196827173233, 0.0006683524698019028, 0.00034219957888126373, 0.00027806125581264496, 0.0004959981888532639, 0.00028471648693084717, 0.0002707522362470627, 0.0003287792205810547, 0.00031200796365737915, 0.00029937177896499634, 0.00023638643324375153, 0.00020809099078178406, 0.00023134052753448486, 0.0007451009005308151, 0.0002427622675895691, 0.000444706529378891, 0.0003038104623556137, 0.00012745335698127747, 0.00025784410536289215, 0.0001147240400314331, 0.0003925394266843796, 0.00036667659878730774, 0.0003876425325870514, 0.00054161436855793, 0.00018247775733470917, 0.0004828963428735733, 0.0005524512380361557, 0.0004499424248933792, 0.0003338940441608429, 0.00021239928901195526, 0.00031544454395771027, 0.00033229216933250427, 0.0005906093865633011, 0.0004385262727737427, 0.0006527435034513474, 0.0017874520272016525, 0.0004067886620759964, 0.00043997354805469513, 0.0002340618520975113, 0.00015634112060070038, 0.00012686662375926971, 0.00019300170242786407, 0.0001510120928287506, 0.0001207944005727768, 0.00011155568063259125, 0.0003023408353328705, 0.0004081018269062042, 0.0012094341218471527, 0.002804011106491089, 0.0009077060967683792, 0.0007276628166437149, 0.0004525110125541687, 0.00045498646795749664, 0.0004967544227838516, 0.0005278829485177994, 0.0006092004477977753, 0.00026039034128189087, 0.0001981649547815323, 0.000278690829873085, 0.00033919699490070343, 0.00043805502355098724, 0.00034319236874580383, 0.0004491526633501053, 0.00032193027436733246, 0.0002891886979341507, 0.0002702903002500534, 0.0001779906451702118, 0.00026596151292324066, 0.00026625022292137146, 0.0002553071826696396, 0.0005346182733774185, 0.0004605483263731003, 0.0002438761293888092, 0.000339362770318985, 0.0006381012499332428, 0.0004054289311170578, 0.0007445365190505981, 0.00039821304380893707, 0.00030860118567943573, 0.0002816207706928253, 0.0004955083131790161, 0.00033925287425518036, 0.00027763843536376953, 0.0005257632583379745, 0.0007175877690315247, 0.0005367547273635864, 0.0005076751112937927, 0.00023952126502990723, 0.0001605004072189331, 0.0003513488918542862, 0.0004992522299289703, 0.0004663430154323578, 0.0005858764052391052, 0.0006525535136461258, 0.0010520759969949722, 0.0008966419845819473, 0.005039935931563377, 0.00044927000999450684, 0.00031460635364055634, 0.0002735983580350876, 0.00014164112508296967, 0.00044655241072177887, 0.0004412531852722168, 0.000590253621339798, 0.0008169449865818024, 0.0006311684846878052, 0.0010436363518238068, 0.002703305333852768, 0.00108402781188488, 0.00038655661046504974, 0.0004347022622823715, 0.0008282046765089035, 0.0012857597321271896, 0.0005654618144035339, 0.0005506090819835663, 0.0005134250968694687, 0.0013275183737277985, 0.0009015984833240509, 0.0006855446845293045, 0.00020361877977848053, 0.0004120543599128723, 0.0004892628639936447, 0.0011635124683380127, 0.0005154814571142197, 0.0007137637585401535, 0.0003691837191581726, 0.00025943294167518616, 0.000568760558962822, 0.00225839763879776, 0.0032523460686206818, 0.001281440258026123, 0.0008517038077116013, 0.0008659083396196365, 0.00045545585453510284, 0.0009191688150167465, 0.0013501308858394623, 0.0023089274764060974, 0.0014634113758802414, 0.005058180540800095, 0.0012981649488210678, 0.0024784114211797714, 0.0032126381993293762, 0.001336200162768364, 0.0009100325405597687, 0.0010727066546678543, 0.0006837863475084305, 0.0005875080823898315, 0.0016087107360363007, 0.0019226130098104477, 0.0013225935399532318, 0.0008497051894664764, 0.0002512820065021515, 0.00030656903982162476, 0.0005200263112783432, 0.0008050296455621719, 0.00050351582467556, 0.0005922745913267136, 0.0005898606032133102, 0.0008448343724012375, 0.0008507724851369858, 0.022055000066757202, 0.0453687459230423]}\n",
       "    )\n",
       "    </script>"
      ],
      "text/plain": [
       "<circuitsvis.utils.render.RenderedHTML at 0x7f738e15b810>"
      ]
     },
     "execution_count": 152,
     "metadata": {},
     "output_type": "execute_result"
    }
   ],
   "source": [
    "layer = 29\n",
    "q_index = think_end\n",
    "remove_bos = True\n",
    "start_idx = 1 if remove_bos else 0\n",
    "avg_attn_module_matrix = torch.Tensor(attn.attention_matrices[layer]).mean(dim=0)[\n",
    "    q_index\n",
    "]\n",
    "avg_attn_module_matrix.shape\n",
    "\n",
    "\n",
    "from circuitsvis.tokens import colored_tokens\n",
    "\n",
    "tokens = [\n",
    "    mt.tokenizer.decode(t, skip_special_tokens=False) for t in inputs[\"input_ids\"][0]\n",
    "][start_idx:q_index]\n",
    "for idx, t in enumerate(tokens):\n",
    "    if t == \"<think>\":\n",
    "        tokens[idx] = \"<|think|>\"\n",
    "    elif t == \"</think>\":\n",
    "        tokens[idx] = \"<|/think|>\"\n",
    "\n",
    "colored_tokens(tokens=tokens, values=avg_attn_module_matrix[start_idx:q_index])"
   ]
  },
  {
   "cell_type": "markdown",
   "metadata": {},
   "source": [
    "### Introspection Experiment (similar to `Patchscope`)"
   ]
  },
  {
   "cell_type": "code",
   "execution_count": 57,
   "metadata": {},
   "outputs": [
    {
     "name": "stdout",
     "output_type": "stream",
     "text": [
      "Given two entities, find a common link or relation between them.\n",
      "If both entities are individuals, the common link can be their profession, nationality, or any other attribute they share. Their relation can be if someone is the student/teacher of the other etc.\n",
      "Similarly, if the entities are places, the common link can be the city, country, or any other attribute they share. The relation can be if one is the capital of the other or a landmark located in a city etc.\n",
      "If there is no connection just answer \"None\".\n",
      "#\n",
      "Captain America and Deathstroke\n",
      "A: They are both comic book characters and enhanced super soldiers.\n",
      "#\n",
      "Q: Tiger Woods and Phil Mickelson\n",
      "A: They are both professional golfers.\n",
      "#\n",
      "Q: Rome and Italy\n",
      "A: Rome is the capital city of Italy.\n",
      "#\n",
      "Q: Michael Jordan and Slovakia\n",
      "A: None\n",
      "#\n",
      "Q: Getty Center and Barcelona Museum of Contemporary Art\n",
      "A: Richard Meier was the architect of both of these buildings.\n",
      "#\n",
      "Q: two and one\n",
      "A:\n",
      "Try to keep your thinking is less than 5 sentences. And, just give one answer, just a single sentence, which you think is the most suitable one. Put your answer within \\boxed{}.\n",
      "<think>Okay, so I need to figure out the common link or relation between\n"
     ]
    }
   ],
   "source": [
    "from src.probing.utils import prepare_probing_input\n",
    "\n",
    "# placeholder_entities = (\"something\", \"anything\")\n",
    "# placeholder_entities = (\"one\", \"two\")\n",
    "placeholder_entities = (\"two\", \"one\")\n",
    "# placeholder_entities = (\"#\", \"?\")\n",
    "# placeholder_entities = (\"1\", \"2\")\n",
    "\n",
    "placeholder_prompt = prepare_probing_input(\n",
    "    mt=mt,\n",
    "    entities=placeholder_entities,\n",
    "    prefix=prefix,\n",
    "    answer_marker=answer_marker,\n",
    "    question_marker=question_marker,\n",
    "    block_separator=block_separator,\n",
    "    is_a_reasoning_model=\"deepseek\" in model_key.lower(),\n",
    "    # is_a_reasoning_model=True\n",
    "    # answer_prefix=\" They are/were both\"\n",
    "    # answer_prefix = \" They are both used to say\"\n",
    "    # thinking_prefix = f\"Okay, so I need to figure out the common link or relation between {entities[0]} and {entities[1]}.\"\n",
    "    thinking_prefix=\"Okay, so I need to figure out the common link or relation between\",\n",
    ")\n",
    "\n",
    "print(placeholder_prompt.prompt)\n",
    "placeholder_prompt.misc"
   ]
  },
  {
   "cell_type": "code",
   "execution_count": 59,
   "metadata": {},
   "outputs": [
    {
     "name": "stdout",
     "output_type": "stream",
     "text": [
      "2025-02-11 14:47:22 src.functional DEBUG    input.input_ids.shape=torch.Size([1, 209])\n"
     ]
    }
   ],
   "source": [
    "from src.tokens import prepare_input, find_token_range\n",
    "from src.functional import extract_rep_at_pos\n",
    "\n",
    "hs = extract_rep_at_pos(\n",
    "    mt=mt,\n",
    "    input=f\" {entities[0]}\",\n",
    "    total_length=prompt.entity_ranges[0][1],\n",
    "    locations=[(layer, -1) for layer in [mt.embedder_name] + mt.layer_names],\n",
    ")"
   ]
  },
  {
   "cell_type": "code",
   "execution_count": 60,
   "metadata": {},
   "outputs": [
    {
     "data": {
      "text/plain": [
       "((206, 209), (210, 214))"
      ]
     },
     "execution_count": 60,
     "metadata": {},
     "output_type": "execute_result"
    }
   ],
   "source": [
    "prompt.entity_ranges"
   ]
  },
  {
   "cell_type": "code",
   "execution_count": 61,
   "metadata": {},
   "outputs": [
    {
     "name": "stdout",
     "output_type": "stream",
     "text": [
      "2025-02-11 14:47:23 src.functional DEBUG    input.input_ids.shape=torch.Size([1, 209])\n"
     ]
    },
    {
     "name": "stdout",
     "output_type": "stream",
     "text": [
      "2025-02-11 14:47:23 src.functional DEBUG    input.input_ids.shape=torch.Size([1, 214])\n"
     ]
    }
   ],
   "source": [
    "from src.functional import get_hs\n",
    "from src.utils.typing import TokenizerOutput\n",
    "\n",
    "bare_hs = [\n",
    "    extract_rep_at_pos(\n",
    "        mt=mt,\n",
    "        input=f\" {ent}\",\n",
    "        total_length=ent_rng[1],\n",
    "        locations=[\n",
    "            (layer, ent_rng[1] - 1) for layer in [mt.embedder_name] + mt.layer_names\n",
    "        ],\n",
    "    )\n",
    "    for ent, ent_rng in zip(entities, prompt.entity_ranges)\n",
    "]"
   ]
  },
  {
   "cell_type": "code",
   "execution_count": 62,
   "metadata": {},
   "outputs": [],
   "source": [
    "icl_hs = [\n",
    "    get_hs(\n",
    "        mt=mt,\n",
    "        input=TokenizerOutput(data=prompt.tokenized),\n",
    "        locations=[\n",
    "            (layer, rng[1] - 1) for layer in [mt.embedder_name] + mt.layer_names\n",
    "        ],\n",
    "        return_dict=True,\n",
    "    )\n",
    "    for ent, rng in zip(entities, prompt.entity_ranges)\n",
    "]"
   ]
  },
  {
   "cell_type": "code",
   "execution_count": 47,
   "metadata": {},
   "outputs": [
    {
     "name": "stderr",
     "output_type": "stream",
     "text": [
      "Setting `pad_token_id` to `eos_token_id`:128001 for open-end generation.\n"
     ]
    },
    {
     "name": "stdout",
     "output_type": "stream",
     "text": [
      "2025-02-11 14:43:42 src.probing.utils DEBUG    monologue='Charlie Chaplin and Rowan Atkinson. Let me start by thinking about who these two are. Charlie Chaplin is a well-known silent film actor and director from the early 20th century. He\\'s famous for movies like \"The Great Dictator\" and \"Modern Times.\" On the other hand, Rowan Atkinson is a British actor and comedian known for his roles in \"Mr. Bean\" and \"Blackadder.\" He\\'s also known for his work in animated films like \"The Lion King\" where he voices the character Zazu.\\n\\nNow, I need to find a common link between them. Let me consider different categories: profession, nationality, maybe something else. Both are actors, but that\\'s too broad. Maybe looking into their careers more specifically. Chaplin was a silent film star, while Atkinson is known for comedy and has been in various genres. So maybe their professions don\\'t directly link them.\\n\\nWhat about nationality? Chaplin was American, while Atkinson is British. That doesn\\'t seem to be a common link. Maybe looking into their work in specific movies or roles. Chaplin was involved in the creation of \"Modern Times,\" which is a silent film with sound elements. Atkinson has done voice acting, like in \"The Lion King.\" Hmm, not sure if that connects them.\\n\\nWait, another angle: maybe their influence on each other or similar types of roles. Chaplin is known for his physical comedy and character acting, while Atkinson is famous for his comedic timing and physical humor in \"Mr. Bean.\" They both have a unique style of comedy that involves a lot of physicality and character development. So perhaps their common link is their contribution to comedy and their style of acting.\\n\\nAlternatively, maybe looking into their collaborations or notable works. Chaplin\\'s \"The Great Dictator\" is a classic, and Atkinson\\'s \"Mr. Bean\" is a significant comedy series. But I don\\'t see a direct link there. Maybe it\\'s more about their impact on comedy as a whole rather than specific works.\\n\\nAnother thought: Chaplin was also a director and writer, while Atkinson has done writing for his shows. But that might be stretching it. Maybe their success in the entertainment industry is a link, but that\\'s too vague.\\n\\nWait, perhaps looking into their personal lives or other connections. I don\\'t think they\\'ve worked together or have any notable personal connections. So maybe it\\'s more about their careers. Chaplin was a pioneer in silent film, and Atkinson has brought comedy to a new generation with his work in \"Mr. Bean\" and other series. So their common link could be their significant contributions to comedy and entertainment, specifically in the realm of physical comedy and character-driven humor.\\n\\nI think that\\'s the best I can come up with. They both have left a lasting impact on comedy through their unique styles and the roles they\\'ve played.'\n",
      "llm_output['answer']='They are both known for their significant contributions to comedy.'\n"
     ]
    }
   ],
   "source": [
    "from src.functional import PatchSpec\n",
    "from src.functional import predict_next_token\n",
    "from src.utils.typing import TokenizerOutput\n",
    "\n",
    "# clean_pred = predict_next_token(\n",
    "#     mt = mt,\n",
    "#     inputs = TokenizerOutput(data = prompt.tokenized),\n",
    "# )\n",
    "# clean_pred\n",
    "\n",
    "llm_output = get_lm_generated_answer(\n",
    "    mt=mt,\n",
    "    prompt=prompt,\n",
    "    is_a_reasoning_model=\"deepseek\" in model_key.lower(),\n",
    "    # is_a_reasoning_model=True\n",
    ")\n",
    "print(f\"{llm_output['answer']=}\")"
   ]
  },
  {
   "cell_type": "code",
   "execution_count": null,
   "metadata": {},
   "outputs": [
    {
     "name": "stderr",
     "output_type": "stream",
     "text": [
      "Setting `pad_token_id` to `eos_token_id`:128001 for open-end generation.\n"
     ]
    },
    {
     "name": "stdout",
     "output_type": "stream",
     "text": [
      "2025-02-11 14:47:37 src.probing.utils DEBUG    monologue='\"Q: Getty Center and Barcelona Museum of Contemporary Art.\" Let me start by understanding each entity.\\n\\nThe Getty Center is a well-known art museum in Los Angeles, California. It\\'s part of the Getty Museum group, which is a major cultural institution. The Barcelona Museum of Contemporary Art, or MACBA, is located in Barcelona, Spain. It\\'s known for its modern and contemporary art collections.\\n\\nHmm, both are museums, but they\\'re in different cities and countries. Maybe their architecture is the common link. I remember that Richard Meier designed the Getty Center. I think he also designed the MACBA. Let me confirm that. Yes, Richard Meier did design both buildings. So the common link is the architect, Richard Meier.\\n\\nWait, is there any other possible connection? Maybe the type of art they showcase, but both focus on contemporary art, but that\\'s more of a relation than a direct link. The architect seems more precise. So I think the best answer is that Richard Meier was the architect of both buildings.'\n",
      "llm_output['answer']='Richard Meier was the architect of both the Getty Center and the Barcelona Museum of Contemporary Art.'\n"
     ]
    }
   ],
   "source": [
    "## bare hs\n",
    "\n",
    "patches = []\n",
    "for ent_hs, placeholder_range, ent_range in zip(\n",
    "    bare_hs, placeholder_prompt.entity_ranges, prompt.entity_ranges\n",
    "):\n",
    "    token_pos = placeholder_range[0]\n",
    "    patches.extend(\n",
    "        [\n",
    "            PatchSpec(\n",
    "                location=(layer, token_pos),\n",
    "                # patch = ent_hs[(layer, -1)]\n",
    "                patch=ent_hs[(layer, ent_range[1] - 1)],\n",
    "            )\n",
    "            for layer in [mt.embedder_name] + mt.layer_names\n",
    "        ]\n",
    "    )\n",
    "\n",
    "# for ent_hs, placeholder_range, ent_range in zip(bare_hs, placeholder_prompt.misc[\"in_ques_entity_ranges\"], prompt.entity_ranges):\n",
    "#     token_pos = placeholder_range[0]\n",
    "#     patches.extend([\n",
    "#         PatchSpec(\n",
    "#             location = (layer, token_pos),\n",
    "#             # patch = ent_hs[(layer, -1)]\n",
    "#             patch = ent_hs[(layer, ent_range[1] - 1)]\n",
    "#         )\n",
    "#         for layer in [mt.embedder_name] + mt.layer_names\n",
    "#     ])\n",
    "\n",
    "\n",
    "# pred, track_ans = predict_next_token(\n",
    "#     mt = mt,\n",
    "#     inputs = TokenizerOutput(data = placeholder_prompt.tokenized),\n",
    "#     patches=patches,\n",
    "#     token_of_interest=[clean_pred[0][0].token_id]\n",
    "# )\n",
    "\n",
    "# # gen = generate_with_patch(\n",
    "# #     mt = mt,\n",
    "# #     inputs = TokenizerOutput(data = placeholder_prompt.tokenized),\n",
    "# #     patches = patches,\n",
    "# #     do_sample=False\n",
    "# # )\n",
    "\n",
    "# # print(gen[0])\n",
    "# print(track_ans)\n",
    "# pred\n",
    "\n",
    "#! why sometimes can the LM see the patched placeholder? Where is the leakage?\n",
    "llm_output = get_lm_generated_answer(\n",
    "    mt=mt,\n",
    "    prompt=placeholder_prompt,\n",
    "    is_a_reasoning_model=\"deepseek\" in model_key.lower(),\n",
    "    patches=patches,\n",
    ")\n",
    "print(f\"{llm_output['answer']=}\")"
   ]
  },
  {
   "cell_type": "code",
   "execution_count": 64,
   "metadata": {},
   "outputs": [
    {
     "name": "stderr",
     "output_type": "stream",
     "text": [
      "Setting `pad_token_id` to `eos_token_id`:128001 for open-end generation.\n"
     ]
    },
    {
     "name": "stdout",
     "output_type": "stream",
     "text": [
      "2025-02-11 14:47:54 src.probing.utils DEBUG    monologue='\"Captain America\" and \"Deathstroke.\" Let me start by recalling who these characters are. Captain America is a well-known superhero from Marvel Comics, known for his red, white, and blue costume and his strong sense of patriotism. He\\'s also an enhanced super-soldier created by Dr. Erskine. On the other hand, Deathstroke, also known as Slade Wilson, is another DC Comics character. He\\'s a former soldier and a highly skilled assassin, often operating as a mercenary. He\\'s known for his brutal efficiency and his relationship with the Justice League, especially with the Flash.\\n\\nNow, looking at their attributes, both are comic book characters. They both possess superhuman abilities—Captain America with enhanced strength, speed, and durability, and Deathstroke with his combat skills and regeneration. Both are also military backgrounds; Captain America was a soldier before becoming a hero, and Deathstroke was a member of the military before turning to a life of crime.\\n\\nAnother point is that both have been part of teams. Captain America has been a member of the Avengers and the Justice League, while Deathstroke has been a part of the Suicide Squad. They both have faced off against each other in various storylines, which adds to their relation as adversaries in the DC and Marvel universes.\\n\\nAdditionally, both characters have been portrayed in various media, such as movies, TV shows, and video games, which further connects them through their popularity and cultural impact.\\n\\nSo, considering all these aspects, the common link between Captain America and Deathstroke is that they are both prominent comic book characters known for their superhuman abilities, military backgrounds, and roles within the superhero community.'\n",
      "llm_output['answer']='They are both prominent comic book characters with superhuman abilities and military backgrounds.'\n"
     ]
    }
   ],
   "source": [
    "# patch only the last token from ICL_hs\n",
    "\n",
    "patches = []\n",
    "for ent_hs, placeholder_range, ent_range in zip(\n",
    "    icl_hs, placeholder_prompt.entity_ranges, prompt.entity_ranges\n",
    "):\n",
    "    token_pos = placeholder_range[0]\n",
    "    patches.extend(\n",
    "        [\n",
    "            PatchSpec(\n",
    "                location=(layer, token_pos),\n",
    "                # patch = ent_hs[(layer, -1)]\n",
    "                patch=ent_hs[(layer, ent_range[1] - 1)],\n",
    "            )\n",
    "            for layer in [mt.embedder_name] + mt.layer_names\n",
    "        ]\n",
    "    )\n",
    "\n",
    "# pred, track_ans = predict_next_token(\n",
    "#     mt = mt,\n",
    "#     inputs = TokenizerOutput(data = placeholder_prompt.tokenized),\n",
    "#     patches=patches,\n",
    "#     token_of_interest=[clean_pred[0][0].token_id]\n",
    "# )\n",
    "\n",
    "# # gen = generate_with_patch(\n",
    "# #     mt = mt,\n",
    "# #     inputs = TokenizerOutput(data = placeholder_prompt.tokenized),\n",
    "# #     patches = patches,\n",
    "# #     do_sample=False\n",
    "# # )\n",
    "\n",
    "# # print(gen[0])\n",
    "\n",
    "# print(track_ans)\n",
    "\n",
    "# pred\n",
    "\n",
    "# for ent_hs, placeholder_range, ent_range in zip(icl_hs, placeholder_prompt.misc[\"in_ques_entity_ranges\"], prompt.entity_ranges):\n",
    "#     token_pos = placeholder_range[0]\n",
    "#     patches.extend([\n",
    "#         PatchSpec(\n",
    "#             location = (layer, token_pos),\n",
    "#             # patch = ent_hs[(layer, -1)]\n",
    "#             patch = ent_hs[(layer, ent_range[1] - 1)]\n",
    "#         )\n",
    "#         for layer in [mt.embedder_name] + mt.layer_names\n",
    "#     ])\n",
    "\n",
    "llm_output = get_lm_generated_answer(\n",
    "    mt=mt,\n",
    "    prompt=placeholder_prompt,\n",
    "    is_a_reasoning_model=\"deepseek\" in model_key.lower(),\n",
    "    # is_a_reasoning_model=True\n",
    "    patches=patches,\n",
    ")\n",
    "print(f\"{llm_output['answer']=}\")"
   ]
  },
  {
   "cell_type": "code",
   "execution_count": null,
   "metadata": {},
   "outputs": [],
   "source": []
  },
  {
   "cell_type": "code",
   "execution_count": null,
   "metadata": {},
   "outputs": [],
   "source": []
  },
  {
   "cell_type": "code",
   "execution_count": null,
   "metadata": {},
   "outputs": [],
   "source": []
  },
  {
   "cell_type": "code",
   "execution_count": 99,
   "metadata": {},
   "outputs": [
    {
     "name": "stdout",
     "output_type": "stream",
     "text": [
      "[{90386: (1858, PredictedToken(token=' billionaires', prob=3.141164779663086e-05, logit=6.14453125, token_id=90386))}]\n"
     ]
    },
    {
     "data": {
      "text/plain": [
       "[[PredictedToken(token=' billionaire', prob=0.09246826171875, logit=14.1328125, token_id=47794),\n",
       "  PredictedToken(token=' fictional', prob=0.077880859375, logit=13.9609375, token_id=44682),\n",
       "  PredictedToken(token=' man', prob=0.0687255859375, logit=13.8359375, token_id=893),\n",
       "  PredictedToken(token=' rich', prob=0.0404052734375, logit=13.3046875, token_id=9257),\n",
       "  PredictedToken(token=' wealthy', prob=0.03375244140625, logit=13.125, token_id=28994),\n",
       "  PredictedToken(token=' character', prob=0.0282135009765625, logit=12.9453125, token_id=3752),\n",
       "  PredictedToken(token=' superhero', prob=0.027130126953125, logit=12.90625, token_id=46244),\n",
       "  PredictedToken(token=' person', prob=0.019683837890625, logit=12.5859375, token_id=1732),\n",
       "  PredictedToken(token=' human', prob=0.0157012939453125, logit=12.359375, token_id=3823),\n",
       "  PredictedToken(token=' ', prob=0.0146331787109375, logit=12.2890625, token_id=220),\n",
       "  PredictedToken(token=' millionaire', prob=0.01280975341796875, logit=12.15625, token_id=90044),\n",
       "  PredictedToken(token=' young', prob=0.01222991943359375, logit=12.109375, token_id=3995),\n",
       "  PredictedToken(token=' very', prob=0.0113067626953125, logit=12.03125, token_id=1633),\n",
       "  PredictedToken(token=' multi', prob=0.00887298583984375, logit=11.7890625, token_id=7447),\n",
       "  PredictedToken(token=' Batman', prob=0.00853729248046875, logit=11.75, token_id=27805)]]"
      ]
     },
     "execution_count": 99,
     "metadata": {},
     "output_type": "execute_result"
    }
   ],
   "source": [
    "\n",
    "single_probing_prompt = \"Who/what is {}? Answer: {} is a\"\n",
    "\n",
    "pred, track_ans = predict_next_token(\n",
    "    mt=mt,\n",
    "    inputs=[single_probing_prompt.format(entities[0], entities[0])],\n",
    "    k=15,\n",
    "    token_of_interest=[clean_pred[0][0].token_id],\n",
    ")\n",
    "\n",
    "print(track_ans)\n",
    "pred"
   ]
  },
  {
   "cell_type": "code",
   "execution_count": 100,
   "metadata": {},
   "outputs": [
    {
     "name": "stdout",
     "output_type": "stream",
     "text": [
      "[{90386: (1394, PredictedToken(token=' billionaires', prob=3.6835670471191406e-05, logit=6.4765625, token_id=90386))}]\n"
     ]
    },
    {
     "data": {
      "text/plain": [
       "[[PredictedToken(token=' billionaire', prob=0.11236572265625, logit=14.5, token_id=47794),\n",
       "  PredictedToken(token=' fictional', prob=0.08477783203125, logit=14.21875, token_id=44682),\n",
       "  PredictedToken(token=' man', prob=0.05560302734375, logit=13.796875, token_id=893),\n",
       "  PredictedToken(token=' genius', prob=0.05517578125, logit=13.7890625, token_id=35201),\n",
       "  PredictedToken(token=' character', prob=0.029998779296875, logit=13.1796875, token_id=3752),\n",
       "  PredictedToken(token=' wealthy', prob=0.029083251953125, logit=13.1484375, token_id=28994),\n",
       "  PredictedToken(token=' superhero', prob=0.027099609375, logit=13.078125, token_id=46244),\n",
       "  PredictedToken(token=' brilliant', prob=0.0201416015625, logit=12.78125, token_id=20333),\n",
       "  PredictedToken(token=' Marvel', prob=0.017913818359375, logit=12.6640625, token_id=22883),\n",
       "  PredictedToken(token=' ', prob=0.01556396484375, logit=12.5234375, token_id=220),\n",
       "  PredictedToken(token=' very', prob=0.01544189453125, logit=12.515625, token_id=1633),\n",
       "  PredictedToken(token=' multi', prob=0.01520538330078125, logit=12.5, token_id=7447),\n",
       "  PredictedToken(token=' human', prob=0.01373291015625, logit=12.3984375, token_id=3823),\n",
       "  PredictedToken(token=' rich', prob=0.01221466064453125, logit=12.28125, token_id=9257),\n",
       "  PredictedToken(token=' self', prob=0.0118408203125, logit=12.25, token_id=659)]]"
      ]
     },
     "execution_count": 100,
     "metadata": {},
     "output_type": "execute_result"
    }
   ],
   "source": [
    "pred, track_ans = predict_next_token(\n",
    "    mt=mt,\n",
    "    inputs=single_probing_prompt.format(entities[1], entities[1]),\n",
    "    k=15,\n",
    "    token_of_interest=[clean_pred[0][0].token_id],\n",
    ")\n",
    "\n",
    "print(track_ans)\n",
    "pred"
   ]
  },
  {
   "cell_type": "code",
   "execution_count": 62,
   "metadata": {},
   "outputs": [],
   "source": [
    "# layer = mt.layer_name_format.format(16)\n",
    "\n",
    "# bare_hs_pair = (\n",
    "#     bare_hs[0][(layer, prompt.entity_ranges[0][1] - 1)],\n",
    "#     bare_hs[1][(layer, prompt.entity_ranges[1][1] - 1)],\n",
    "# )\n",
    "\n",
    "# enriched_hs_pair = (\n",
    "#     icl_hs[0][(layer, prompt.entity_ranges[0][1] - 1)],\n",
    "#     icl_hs[1][(layer, prompt.entity_ranges[1][1] - 1)],\n",
    "# )"
   ]
  },
  {
   "cell_type": "code",
   "execution_count": 63,
   "metadata": {},
   "outputs": [],
   "source": [
    "# torch.cosine_similarity(\n",
    "#     bare_hs_pair[0],\n",
    "#     bare_hs_pair[1],\n",
    "#     dim=-1\n",
    "# )"
   ]
  },
  {
   "cell_type": "code",
   "execution_count": 64,
   "metadata": {},
   "outputs": [],
   "source": [
    "# torch.cosine_similarity(\n",
    "#     enriched_hs_pair[0],\n",
    "#     enriched_hs_pair[1],\n",
    "#     dim=-1\n",
    "# )"
   ]
  },
  {
   "cell_type": "code",
   "execution_count": 65,
   "metadata": {},
   "outputs": [
    {
     "data": {
      "image/png": "[encoded data removed]",
      "text/plain": [
       "<Figure size 640x480 with 1 Axes>"
      ]
     },
     "metadata": {},
     "output_type": "display_data"
    }
   ],
   "source": [
    "similarity_0 = []\n",
    "similarity_1 = []\n",
    "\n",
    "for layer in [mt.embedder_name] + mt.layer_names:\n",
    "    entity_pos_0 = prompt.entity_ranges[0][1] - 1\n",
    "    sim_0 = torch.cosine_similarity(\n",
    "        bare_hs[0][(layer, entity_pos_0)], icl_hs[0][(layer, entity_pos_0)], dim=-1\n",
    "    )\n",
    "\n",
    "    similarity_0.append(sim_0.item())\n",
    "\n",
    "    entity_pos_1 = prompt.entity_ranges[1][1] - 1\n",
    "    sim_1 = torch.cosine_similarity(\n",
    "        bare_hs[1][(layer, entity_pos_1)], icl_hs[1][(layer, entity_pos_1)], dim=-1\n",
    "    )\n",
    "\n",
    "    similarity_1.append(sim_1.item())\n",
    "\n",
    "# print(f\"{layer}: {sim_0.item()=}, {sim_1.item()=}\")\n",
    "\n",
    "from matplotlib import pyplot as plt\n",
    "\n",
    "plt.plot(similarity_0, label=\"Entity 0\")\n",
    "plt.plot(similarity_1, label=\"Entity 1\")\n",
    "\n",
    "plt.legend()\n",
    "plt.ylim(0, 1)\n",
    "plt.ylabel(\"cosine_sim(bare_h, icl_h)\")\n",
    "\n",
    "plt.xticks(range(mt.n_layer + 1), [mt.embedder_name] + mt.layer_names, rotation=90)\n",
    "plt.show()"
   ]
  },
  {
   "cell_type": "markdown",
   "metadata": {},
   "source": [
    "### Use the corner as introspection point"
   ]
  },
  {
   "cell_type": "code",
   "execution_count": 37,
   "metadata": {},
   "outputs": [
    {
     "name": "stdout",
     "output_type": "stream",
     "text": [
      "2025-02-10 13:24:34 src.operators.estimators INFO     What is the nationality of X? Answer:  |>> self.placeholder_pos=7 | self.inputs['input_ids'].shape=torch.Size([1, 11])\n",
      "[' British', ' American', ' French', ' German', ' Italian', ' Spanish', ' Russian', ' Chinese', ' Japanese', ' Indian']\n",
      "2025-02-10 13:24:34 src.operators.estimators INFO     Initialized to [PredictedToken(token='1', prob=0.486572265625, logit=20.109375, token_id=16), PredictedToken(token='2', prob=0.168212890625, logit=19.046875, token_id=17), PredictedToken(token='3', prob=0.1036376953125, logit=18.5625, token_id=18), PredictedToken(token='10', prob=0.0445556640625, logit=17.71875, token_id=605), PredictedToken(token='4', prob=0.02423095703125, logit=17.109375, token_id=19)]\n"
     ]
    },
    {
     "name": "stderr",
     "output_type": "stream",
     "text": [
      "100%|██████████| 200/200 [00:17<00:00, 11.34it/s]\n"
     ]
    },
    {
     "data": {
      "image/png": "[encoded data removed]",
      "text/plain": [
       "<Figure size 640x480 with 1 Axes>"
      ]
     },
     "metadata": {},
     "output_type": "display_data"
    },
    {
     "name": "stdout",
     "output_type": "stream",
     "text": [
      "2025-02-10 13:24:52 src.operators.estimators INFO     Tuned to: [PredictedToken(token=' Japanese', prob=0.08056640625, logit=20.0, token_id=11002), PredictedToken(token=' Russian', prob=0.08056640625, logit=20.0, token_id=8690), PredictedToken(token=' Chinese', prob=0.08056640625, logit=20.0, token_id=8620), PredictedToken(token=' German', prob=0.07928466796875, logit=19.984375, token_id=6063), PredictedToken(token=' American', prob=0.07928466796875, logit=19.984375, token_id=3778)]\n"
     ]
    }
   ],
   "source": [
    "from src.operators.estimators import CornerEstimator\n",
    "\n",
    "estimator = CornerEstimator(\n",
    "    mt=mt,\n",
    "    layer_name=mt.layer_names[2],\n",
    "    verbose=True,\n",
    "    prompt=\"What is the nationality of X? Answer: \",\n",
    "    placeholder=\"X\",\n",
    ")\n",
    "\n",
    "# with open(\n",
    "#     os.path.join(\n",
    "#         env_utils.DEFAULT_DATA_DIR,\n",
    "#         \"object_mappings\",\n",
    "#         \"professions.json\"\n",
    "#         # \"colors.json\"\n",
    "#     ), \"r\"\n",
    "# ) as f:\n",
    "#     objects = json.load(f)\n",
    "# # objects = [f\" {c}\" for c in objects]\n",
    "# objects = [\" Christian\", \" Muslim\", \" Hindu\", \" Buddhist\", \" Sikh\", \" Jewish\", \" Atheist\", \" Agnostic\", \" Deist\", \" Pagan\"]\n",
    "# objects = [\" red\", \" blue\", \" green\", \" yellow\", \" orange\", \" purple\", \" pink\", \" black\", \" white\", \" grey\"]\n",
    "objects = [\n",
    "    \" British\",\n",
    "    \" American\",\n",
    "    \" French\",\n",
    "    \" German\",\n",
    "    \" Italian\",\n",
    "    \" Spanish\",\n",
    "    \" Russian\",\n",
    "    \" Chinese\",\n",
    "    \" Japanese\",\n",
    "    \" Indian\",\n",
    "]\n",
    "\n",
    "token_indices = (\n",
    "    mt.tokenizer(\n",
    "        objects,\n",
    "        add_special_tokens=False,\n",
    "        return_tensors=\"pt\",\n",
    "        padding=True,\n",
    "        padding_side=\"right\",\n",
    "    )\n",
    "    .input_ids[:, 0]\n",
    "    .tolist()\n",
    ")\n",
    "print([mt.tokenizer.decode(t) for t in token_indices])\n",
    "\n",
    "corner = estimator.estimate(\n",
    "    class_indices=token_indices,\n",
    "    n_steps=200,\n",
    "    # space=\"prob\",\n",
    "    target_val=20,\n",
    "    # concept_subspace_regularizer=0.1\n",
    "    weight_decay=5e-4,\n",
    ")"
   ]
  },
  {
   "cell_type": "code",
   "execution_count": 66,
   "metadata": {},
   "outputs": [
    {
     "data": {
      "text/plain": [
       "((206, 207), (208, 209))"
      ]
     },
     "execution_count": 66,
     "metadata": {},
     "output_type": "execute_result"
    }
   ],
   "source": [
    "placeholder_prompt.entity_ranges"
   ]
  },
  {
   "cell_type": "code",
   "execution_count": 67,
   "metadata": {},
   "outputs": [
    {
     "data": {
      "text/plain": [
       "('Rafael Nadal', 'Javier Bardem')"
      ]
     },
     "execution_count": 67,
     "metadata": {},
     "output_type": "execute_result"
    }
   ],
   "source": [
    "entities"
   ]
  },
  {
   "cell_type": "code",
   "execution_count": 68,
   "metadata": {},
   "outputs": [
    {
     "data": {
      "text/plain": [
       "[[PredictedToken(token=' tennis', prob=0.51953125, logit=17.546875, token_id=32515),\n",
       "  PredictedToken(token=' professional', prob=0.2132568359375, logit=16.65625, token_id=6721),\n",
       "  PredictedToken(token=' athletes', prob=0.0212860107421875, logit=14.3515625, token_id=23579),\n",
       "  PredictedToken(token=' Spanish', prob=0.0201416015625, logit=14.296875, token_id=15506),\n",
       "  PredictedToken(token=' world', prob=0.016448974609375, logit=14.09375, token_id=1917),\n",
       "  PredictedToken(token=' ranked', prob=0.0161895751953125, logit=14.078125, token_id=21682),\n",
       "  PredictedToken(token=' active', prob=0.0141754150390625, logit=13.9453125, token_id=4642),\n",
       "  PredictedToken(token=' top', prob=0.011749267578125, logit=13.7578125, token_id=1948),\n",
       "  PredictedToken(token=' famous', prob=0.0088043212890625, logit=13.46875, token_id=11495),\n",
       "  PredictedToken(token=' number', prob=0.00873565673828125, logit=13.4609375, token_id=1396),\n",
       "  PredictedToken(token=' players', prob=0.007648468017578125, logit=13.328125, token_id=4311),\n",
       "  PredictedToken(token=' the', prob=0.005054473876953125, logit=12.9140625, token_id=279),\n",
       "  PredictedToken(token=' male', prob=0.005016326904296875, logit=12.90625, token_id=8762),\n",
       "  PredictedToken(token=' men', prob=0.003997802734375, logit=12.6796875, token_id=3026),\n",
       "  PredictedToken(token=' Grand', prob=0.00384521484375, logit=12.640625, token_id=10517),\n",
       "  PredictedToken(token=' football', prob=0.003814697265625, logit=12.6328125, token_id=9141),\n",
       "  PredictedToken(token=' grand', prob=0.00366973876953125, logit=12.59375, token_id=6800),\n",
       "  PredictedToken(token=' a', prob=0.00366973876953125, logit=12.59375, token_id=264),\n",
       "  PredictedToken(token=' Tennis', prob=0.0027923583984375, logit=12.3203125, token_id=58251),\n",
       "  PredictedToken(token=' ATP', prob=0.002685546875, logit=12.28125, token_id=67656)]]"
      ]
     },
     "execution_count": 68,
     "metadata": {},
     "output_type": "execute_result"
    }
   ],
   "source": [
    "corner_pos = placeholder_prompt.entity_ranges[1][0]\n",
    "entity_pos = placeholder_prompt.entity_ranges[0][0]\n",
    "\n",
    "# corner_pos = placeholder_prompt.entity_ranges[0][0]\n",
    "# entity_pos = placeholder_prompt.entity_ranges[1][0]\n",
    "\n",
    "corner_patch = []\n",
    "for layer in mt.layer_names:\n",
    "    corner_patch.append(PatchSpec(location=(layer, corner_pos), patch=corner.corner))\n",
    "    corner_patch.append(\n",
    "        PatchSpec(\n",
    "            location=(layer, entity_pos),\n",
    "            patch=icl_hs[0][(layer, prompt.entity_ranges[0][1] - 1)],\n",
    "            # patch = corner.corner\n",
    "        )\n",
    "    )\n",
    "\n",
    "\n",
    "pred, track_ans = predict_next_token(\n",
    "    mt=mt,\n",
    "    inputs=TokenizerOutput(data=placeholder_prompt.tokenized),\n",
    "    patches=corner_patch,\n",
    "    k=20,\n",
    "    token_of_interest=[token_indices],\n",
    ")\n",
    "\n",
    "pred"
   ]
  },
  {
   "cell_type": "code",
   "execution_count": 71,
   "metadata": {},
   "outputs": [
    {
     "data": {
      "text/plain": [
       "([PredictedToken(token=' Rafael', prob=0.06689453125, logit=10.5859375, token_id=55500),\n",
       "  PredictedToken(token=' ATP', prob=0.0643310546875, logit=10.546875, token_id=67656),\n",
       "  PredictedToken(token=' Roland', prob=0.028564453125, logit=9.734375, token_id=58906),\n",
       "  PredictedToken(token=' tennis', prob=0.021392822265625, logit=9.4453125, token_id=32515),\n",
       "  PredictedToken(token=' Wimbledon', prob=0.0208892822265625, logit=9.421875, token_id=91257)],\n",
       " {15506: (36,\n",
       "   PredictedToken(token=' Spanish', prob=0.0016050338745117188, logit=6.85546875, token_id=15506)),\n",
       "  8753: (167,\n",
       "   PredictedToken(token=' French', prob=0.00035953521728515625, logit=5.359375, token_id=8753)),\n",
       "  7904: (1637,\n",
       "   PredictedToken(token=' Indian', prob=5.632638931274414e-05, logit=3.505859375, token_id=7904)),\n",
       "  6063: (3358,\n",
       "   PredictedToken(token=' German', prob=3.0875205993652344e-05, logit=2.904296875, token_id=6063)),\n",
       "  15155: (4648,\n",
       "   PredictedToken(token=' Italian', prob=2.3066997528076172e-05, logit=2.61328125, token_id=15155)),\n",
       "  8013: (11400,\n",
       "   PredictedToken(token=' British', prob=9.47713851928711e-06, logit=1.720703125, token_id=8013)),\n",
       "  11002: (12846,\n",
       "   PredictedToken(token=' Japanese', prob=8.344650268554688e-06, logit=1.59765625, token_id=11002)),\n",
       "  8690: (13813,\n",
       "   PredictedToken(token=' Russian', prob=7.68899917602539e-06, logit=1.5166015625, token_id=8690)),\n",
       "  3778: (17746,\n",
       "   PredictedToken(token=' American', prob=5.841255187988281e-06, logit=1.2353515625, token_id=3778)),\n",
       "  8620: (26468,\n",
       "   PredictedToken(token=' Chinese', prob=3.5762786865234375e-06, logit=0.74169921875, token_id=8620))})"
      ]
     },
     "execution_count": 71,
     "metadata": {},
     "output_type": "execute_result"
    }
   ],
   "source": [
    "from src.functional import logit_lens\n",
    "\n",
    "logit_lens(\n",
    "    mt=mt,\n",
    "    h=bare_hs[0][(mt.layer_names[25], prompt.entity_ranges[0][1] - 1)],\n",
    "    interested_tokens=token_indices,\n",
    ")"
   ]
  },
  {
   "cell_type": "code",
   "execution_count": null,
   "metadata": {},
   "outputs": [],
   "source": []
  }
 ],
 "metadata": {
  "kernelspec": {
   "display_name": "Python 3",
   "language": "python",
   "name": "python3"
  },
  "language_info": {
   "codemirror_mode": {
    "name": "ipython",
    "version": 3
   },
   "file_extension": ".py",
   "mimetype": "text/x-python",
   "name": "python",
   "nbconvert_exporter": "python",
   "pygments_lexer": "ipython3",
   "version": "3.11.11"
  }
 },
 "nbformat": 4,
 "nbformat_minor": 2
}
