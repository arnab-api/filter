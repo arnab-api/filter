{
 "cells": [
  {
   "cell_type": "code",
   "execution_count": 195,
   "id": "bc88b481",
   "metadata": {},
   "outputs": [],
   "source": [
    "%load_ext autoreload\n",
    "%autoreload 2"
   ]
  },
  {
   "cell_type": "markdown",
   "id": "a167381f",
   "metadata": {},
   "source": [
    "## Load Three Selection Task Datasets"
   ]
  },
  {
   "cell_type": "code",
   "execution_count": 198,
   "id": "fa440433",
   "metadata": {},
   "outputs": [],
   "source": [
    "import os\n",
    "import json\n",
    "\n",
    "os.chdir(\"../\")\n",
    "\n",
    "with open(\"data_save/task_data/landmarks.json\", \"r\") as f:\n",
    "    LANDMARKS = json.load(f)\n",
    "\n",
    "with open(\"data_save/task_data/rhymes.json\", \"r\") as f:\n",
    "    RHYMES_WITH = json.load(f)\n",
    "\n",
    "with open(\"data_save/task_data/profession.json\", \"r\") as f:\n",
    "    PROFESSIONS = json.load(f)"
   ]
  },
  {
   "cell_type": "code",
   "execution_count": 202,
   "id": "3b8766a9",
   "metadata": {},
   "outputs": [],
   "source": [
    "import random\n",
    "from typing import Literal\n",
    "\n",
    "def compose_selection_prompt(\n",
    "    data: dict,\n",
    "    entity_type: Literal[\"words\", \"people\", \"landmarks\"],\n",
    "    n_distractors: int = 3,\n",
    ") -> str:\n",
    "    # Map the entity type to a predicate\n",
    "    predicate_map = {\n",
    "        \"words\": \"rhymes with\",\n",
    "        \"people\": \"shares a profession with\",\n",
    "        \"landmarks\": \"is located in\",\n",
    "    }\n",
    "    predicate = predicate_map[entity_type]\n",
    "\n",
    "    # Select a category for the subject\n",
    "    all_categories = list(data.keys())\n",
    "    category = random.choice(all_categories)\n",
    "\n",
    "    # Select a subject\n",
    "    if entity_type == \"landmarks\":\n",
    "        subject = category\n",
    "    else:\n",
    "        subject = random.choice(data[category])\n",
    "\n",
    "    # Select a target that is not the subject\n",
    "    possible_targets = [item for item in data[category] if item != subject]\n",
    "    target = random.choice(possible_targets)\n",
    "\n",
    "    # Select distractors from other categories\n",
    "    other_categories = [key for key in all_categories if key != category]\n",
    "    try:\n",
    "        distractors_categories = random.sample(other_categories, n_distractors)\n",
    "    except ValueError:\n",
    "        raise ValueError(f\"Cannot find {n_distractors} distractors for {category}.\")\n",
    "    distractors = [random.choice(data[category]) for category in distractors_categories]\n",
    "\n",
    "    # Create and shuffle the final list of options\n",
    "    options = [target] + distractors\n",
    "    random.shuffle(options)\n",
    "\n",
    "    # Format the options list into a string\n",
    "    joiner = random.choice([\", \", \" or \", \"ORDERED_LIST\"])\n",
    "    if joiner == \"ORDERED_LIST\":\n",
    "        options_str = \"\\n\".join(f\"{i+1}. {option}\" for i, option in enumerate(options))\n",
    "    else:\n",
    "        options_str = joiner.join(options)\n",
    "\n",
    "    # Choose a template and format it\n",
    "    prompt_templates = [\n",
    "        \"Which of these {} {} {}?\\n{}.\\nAnswer:\",\n",
    "        \"{}.\\nWhich of these {} {} {}?.\\nAnswer:\",\n",
    "    ]\n",
    "    template = random.choice(prompt_templates)\n",
    "    # Check if placeholders are before or after the question\n",
    "    if template == prompt_templates[0]:\n",
    "        return template.format(entity_type, predicate, subject, options_str), target\n",
    "    else:\n",
    "        return template.format(options_str, entity_type, predicate, subject), target\n"
   ]
  },
  {
   "cell_type": "code",
   "execution_count": 241,
   "id": "310827ce",
   "metadata": {},
   "outputs": [
    {
     "name": "stdout",
     "output_type": "stream",
     "text": [
      "prompt='Which of these people shares a profession with Rihanna?\\nBob Woodward, Pedri, Dua Lipa, Ridley Scott, Daniil Medvedev, Aziz Ansari.\\nAnswer:'\n",
      "target='Dua Lipa'\n"
     ]
    }
   ],
   "source": [
    "prompt, target = compose_selection_prompt(\n",
    "    data=PROFESSIONS,\n",
    "    entity_type=\"people\",\n",
    "    n_distractors=5,\n",
    ")\n",
    "\n",
    "print(f\"{prompt=}\")\n",
    "print(f\"{target=}\")"
   ]
  },
  {
   "cell_type": "code",
   "execution_count": null,
   "id": "c17359f7",
   "metadata": {},
   "outputs": [],
   "source": []
  }
 ],
 "metadata": {
  "kernelspec": {
   "display_name": "retrieval-env",
   "language": "python",
   "name": "python3"
  },
  "language_info": {
   "codemirror_mode": {
    "name": "ipython",
    "version": 3
   },
   "file_extension": ".py",
   "mimetype": "text/x-python",
   "name": "python",
   "nbconvert_exporter": "python",
   "pygments_lexer": "ipython3",
   "version": "3.11.11"
  }
 },
 "nbformat": 4,
 "nbformat_minor": 5
}
