{
 "cells": [
  {
   "cell_type": "code",
   "execution_count": 1,
   "metadata": {},
   "outputs": [],
   "source": [
    "%load_ext autoreload\n",
    "%autoreload 2"
   ]
  },
  {
   "cell_type": "code",
   "execution_count": 2,
   "metadata": {},
   "outputs": [
    {
     "name": "stderr",
     "output_type": "stream",
     "text": [
      "/home/local_arnab/miniconda3/envs/retrieval/lib/python3.11/site-packages/tqdm/auto.py:21: TqdmWarning: IProgress not found. Please update jupyter and ipywidgets. See https://ipywidgets.readthedocs.io/en/stable/user_install.html\n",
      "  from .autonotebook import tqdm as notebook_tqdm\n"
     ]
    },
    {
     "name": "stdout",
     "output_type": "stream",
     "text": [
      "2025-02-19 10:46:44 __main__ INFO     torch.__version__='2.5.0+cu124', torch.version.cuda='12.4'\n",
      "2025-02-19 10:46:44 __main__ INFO     torch.cuda.is_available()=True, torch.cuda.device_count()=1, torch.cuda.get_device_name()='NVIDIA RTX A6000'\n",
      "2025-02-19 10:46:44 __main__ INFO     transformers.__version__='4.48.1'\n"
     ]
    }
   ],
   "source": [
    "import os, time, json\n",
    "import pandas as pd\n",
    "from openai import OpenAI\n",
    "from tqdm.auto import tqdm\n",
    "import spacy\n",
    "\n",
    "import sys\n",
    "sys.path.append(\"../\")\n",
    "import os\n",
    "\n",
    "import logging\n",
    "from src.utils import logging_utils\n",
    "from src.utils import env_utils\n",
    "from src import functional\n",
    "\n",
    "logger = logging.getLogger(__name__)\n",
    "\n",
    "logging.basicConfig(\n",
    "    level=logging.DEBUG,\n",
    "    format=logging_utils.DEFAULT_FORMAT,\n",
    "    datefmt=logging_utils.DEFAULT_DATEFMT,\n",
    "    stream=sys.stdout,\n",
    ")\n",
    "\n",
    "import torch\n",
    "import transformers\n",
    "\n",
    "logger.info(f\"{torch.__version__=}, {torch.version.cuda=}\")\n",
    "logger.info(f\"{torch.cuda.is_available()=}, {torch.cuda.device_count()=}, {torch.cuda.get_device_name()=}\")\n",
    "logger.info(f\"{transformers.__version__=}\")"
   ]
  },
  {
   "cell_type": "code",
   "execution_count": 3,
   "metadata": {},
   "outputs": [
    {
     "data": {
      "text/plain": [
       "['Llama-3.1-8B',\n",
       " 'Llama-3.1-8B-Instruct',\n",
       " 'Llama-2-7b-chat-hf',\n",
       " 'Llama-3.2-3B-Instruct',\n",
       " 'Llama-3.2-3B',\n",
       " 'Llama-3.2-1B']"
      ]
     },
     "execution_count": 3,
     "metadata": {},
     "output_type": "execute_result"
    }
   ],
   "source": [
    "os.listdir(os.path.join(env_utils.DEFAULT_MODELS_DIR, \"meta-llama\"))"
   ]
  },
  {
   "cell_type": "code",
   "execution_count": 4,
   "metadata": {},
   "outputs": [
    {
     "name": "stdout",
     "output_type": "stream",
     "text": [
      "2025-02-19 10:46:46 accelerate.utils.modeling INFO     We will use 90% of the memory on device 0 for storing the model, and 10% for the buffer to avoid OOM. You can set `max_memory` in to a higher value to use more memory (at your own risk).\n"
     ]
    },
    {
     "name": "stderr",
     "output_type": "stream",
     "text": [
      "Loading checkpoint shards: 100%|██████████| 4/4 [00:05<00:00,  1.33s/it]"
     ]
    },
    {
     "name": "stdout",
     "output_type": "stream",
     "text": [
      "2025-02-19 10:46:52 src.models INFO     loaded model </home/local_arnab/Codes/00_MODEL/meta-llama/Llama-3.1-8B> | size: 15316.508 MB | dtype: torch.float16 | device: cuda:0\n"
     ]
    },
    {
     "name": "stderr",
     "output_type": "stream",
     "text": [
      "\n"
     ]
    }
   ],
   "source": [
    "import torch\n",
    "\n",
    "from nnsight import LanguageModel\n",
    "from src.models import ModelandTokenizer\n",
    "\n",
    "model_key = \"meta-llama/Llama-3.1-8B\"\n",
    "# model_key = \"meta-llama/Llama-3.2-3B\"\n",
    "# model_key = \"google/gemma-2-9b-it\"\n",
    "# model_key = \"google/gemma-2-27b-it\"\n",
    "# model_key = \"Qwen/Qwen2-7B\"\n",
    "# model_key = \"deepseek-ai/DeepSeek-R1-Distill-Llama-8B\"\n",
    "# model_key = \"allenai/OLMo-2-1124-7B-Instruct\"\n",
    "# model_key = \"allenai/OLMo-7B-0424-hf\"\n",
    "\n",
    "mt = ModelandTokenizer(\n",
    "    model_key=model_key,\n",
    "    torch_dtype=torch.float16,\n",
    ")"
   ]
  },
  {
   "cell_type": "code",
   "execution_count": 5,
   "metadata": {},
   "outputs": [
    {
     "name": "stdout",
     "output_type": "stream",
     "text": [
      "2025-02-19 10:46:54 __main__ INFO     len(coincidences['examples'])=20\n"
     ]
    },
    {
     "name": "stderr",
     "output_type": "stream",
     "text": [
      "/home/local_arnab/miniconda3/envs/retrieval/lib/python3.11/site-packages/transformers/generation/configuration_utils.py:628: UserWarning: `do_sample` is set to `False`. However, `temperature` is set to `0.6` -- this flag is only used in sample-based generation modes. You should set `do_sample=True` or unset `temperature`.\n",
      "  warnings.warn(\n",
      "/home/local_arnab/miniconda3/envs/retrieval/lib/python3.11/site-packages/transformers/generation/configuration_utils.py:633: UserWarning: `do_sample` is set to `False`. However, `top_p` is set to `0.9` -- this flag is only used in sample-based generation modes. You should set `do_sample=True` or unset `top_p`.\n",
      "  warnings.warn(\n",
      "Setting `pad_token_id` to `eos_token_id`:128001 for open-end generation.\n"
     ]
    },
    {
     "name": "stdout",
     "output_type": "stream",
     "text": [
      "('Hydrogen', 'Oxygen')\n",
      "<|begin_of_text|>Given two entities, find a common link or relation between them.\n",
      "If both entities are individuals, the common link can be their profession, nationality, or any other attribute they share. Their relation can be if someone is the student/teacher of the other etc.\n",
      "Similarly, if the entities are places, the common link can be the city, country, or any other attribute they share. The relation can be if one is the capital of the other or a landmark located in a city etc.\n",
      "If there is no connection just answer \"None\".\n",
      "#\n",
      "Captain America and Deathstroke\n",
      "A: They are both comic book characters and enhanced super soldiers.\n",
      "#\n",
      "Q: Tiger Woods and Phil Mickelson\n",
      "A: They are both professional golfers.\n",
      "#\n",
      "Q: Rome and Italy\n",
      "A: Rome is the capital city of Italy.\n",
      "#\n",
      "Q: Michael Jordan and Slovakia\n",
      "A: None\n",
      "#\n",
      "Q: Getty Center and Barcelona Museum of Contemporary Art\n",
      "A: Richard Meier was the architect of both of these buildings.\n",
      "#\n",
      "Q: Hydrogen and Oxygen\n",
      "A: They are/were both\n"
     ]
    },
    {
     "name": "stderr",
     "output_type": "stream",
     "text": [
      "From v4.47 onwards, when a model cache is to be returned, `generate` will return a `Cache` instance instead by default (as opposed to the legacy tuple of tuples format). If you want to keep returning the legacy format, please set `return_legacy_cache=True`.\n"
     ]
    },
    {
     "name": "stdout",
     "output_type": "stream",
     "text": [
      "answer='elements in the periodic table.'\n"
     ]
    }
   ],
   "source": [
    "from src.probing.utils import (\n",
    "    ProbingPrompt,\n",
    "    ProbingLatents,\n",
    "    prepare_probing_input,\n",
    "    get_lm_generated_answer,\n",
    "    check_if_answer_is_correct,\n",
    ")\n",
    "\n",
    "Instructions = f\"\"\"Given two entities, find a common link or relation between them.\n",
    "If both entities are individuals, the common link can be their profession, nationality, or any other attribute they share. Their relation can be if someone is the student/teacher of the other etc.\n",
    "Similarly, if the entities are places, the common link can be the city, country, or any other attribute they share. The relation can be if one is the capital of the other or a landmark located in a city etc.\n",
    "If there is no connection just answer \"None\".\"\"\"\n",
    "\n",
    "# Instructions = f\"\"\"Given two entities, find a common link or relation between them. If there is no connection just answer \"None\".\"\"\"\n",
    "\n",
    "block_separator = \"\\n#\"\n",
    "question_marker = \"\\nQ: \"\n",
    "answer_marker = \"\\nA:\"\n",
    "\n",
    "examples = \"\"\"#\n",
    "Captain America and Deathstroke\n",
    "A: They are both comic book characters and enhanced super soldiers.\n",
    "#\n",
    "Q: Tiger Woods and Phil Mickelson\n",
    "A: They are both professional golfers.\n",
    "#\n",
    "Q: Rome and Italy\n",
    "A: Rome is the capital city of Italy.\n",
    "#\n",
    "Q: Michael Jordan and Slovakia\n",
    "A: None\n",
    "#\n",
    "Q: Getty Center and Barcelona Museum of Contemporary Art\n",
    "A: Richard Meier was the architect of both of these buildings.\n",
    "\"\"\"\n",
    "\n",
    "with open(os.path.join(env_utils.DEFAULT_DATA_DIR, \"coincidences_sample.json\")) as f:\n",
    "    coincidences = json.load(f)\n",
    "\n",
    "logger.info(f\"{len(coincidences['examples'])=}\")\n",
    "\n",
    "\n",
    "# entities = coincidences[\"examples\"][0][\"entity_pair\"]\n",
    "# entities = (\"Whale\", \"Dolphin\")\n",
    "# entities = (\"Nautilus\", \"Dolphin\")\n",
    "# entities = (\"Abraham Lincoln\", \"John F. Kennedy\")\n",
    "# entities = (\"Brad Pitt\", \"Angelina Jolie\")\n",
    "# entities = (\"Emu\", \"Ostrich\")\n",
    "# entities = (\"Elephant\", \"Whale\")\n",
    "# entities = (\"Wolverine\", \"Penguin\")\n",
    "# entities = (\"Giraffe\", \"Reindeer\")\n",
    "entities = (\"Hydrogen\", \"Oxygen\")\n",
    "\n",
    "print(entities)\n",
    "\n",
    "prefix = f\"\"\"{Instructions}\n",
    "{examples}\n",
    "\"\"\"\n",
    "\n",
    "prompt = prepare_probing_input(\n",
    "    mt=mt,\n",
    "    entities=entities,\n",
    "    prefix=prefix,\n",
    "    answer_marker=answer_marker,\n",
    "    question_marker=question_marker,\n",
    "    block_separator=block_separator,\n",
    "    is_a_reasoning_model=\"deepseek\" in model_key.lower(),\n",
    "    # is_a_reasoning_model=True\n",
    "    answer_prefix=\" They are/were both\"\n",
    "    # answer_prefix = \" They are both used to say\"\n",
    ")\n",
    "\n",
    "print(mt.tokenizer.decode(prompt.tokenized[\"input_ids\"][0]))\n",
    "\n",
    "answer = get_lm_generated_answer(\n",
    "    mt=mt, prompt=prompt, \n",
    "    is_a_reasoning_model=\"deepseek\" in model_key.lower()\n",
    "    # is_a_reasoning_model=True\n",
    ")\n",
    "print(f\"{answer=}\")"
   ]
  },
  {
   "cell_type": "code",
   "execution_count": 6,
   "metadata": {},
   "outputs": [
    {
     "name": "stdout",
     "output_type": "stream",
     "text": [
      "('Hydrogen', 'Oxygen')\n"
     ]
    },
    {
     "data": {
      "text/plain": [
       "[[PredictedToken(token=' elements', prob=0.2198486328125, logit=16.5, token_id=5540),\n",
       "  PredictedToken(token=' gases', prob=0.1397705078125, logit=16.046875, token_id=45612),\n",
       "  PredictedToken(token=' used', prob=0.09381103515625, logit=15.6484375, token_id=1511),\n",
       "  PredictedToken(token=' g', prob=0.0560302734375, logit=15.1328125, token_id=342),\n",
       "  PredictedToken(token=' chemical', prob=0.045379638671875, logit=14.921875, token_id=11742)]]"
      ]
     },
     "execution_count": 6,
     "metadata": {},
     "output_type": "execute_result"
    }
   ],
   "source": [
    "from src.functional import PatchSpec\n",
    "from src.functional import generate_with_patch, predict_next_token\n",
    "from src.utils.typing import TokenizerOutput\n",
    "\n",
    "print(entities)\n",
    "\n",
    "clean_pred = predict_next_token(\n",
    "    mt = mt,\n",
    "    inputs = TokenizerOutput(data = prompt.tokenized),\n",
    ")\n",
    "clean_pred"
   ]
  },
  {
   "cell_type": "code",
   "execution_count": 7,
   "metadata": {},
   "outputs": [
    {
     "name": "stdout",
     "output_type": "stream",
     "text": [
      "[{5540: (1228, PredictedToken(token=' elements', prob=1.2278556823730469e-05, logit=7.08984375, token_id=5540))}]\n"
     ]
    },
    {
     "data": {
      "text/plain": [
       "[[PredictedToken(token=' chemical', prob=0.267578125, logit=17.078125, token_id=11742),\n",
       "  PredictedToken(token=' color', prob=0.1409912109375, logit=16.4375, token_id=1933),\n",
       "  PredictedToken(token=' gas', prob=0.11505126953125, logit=16.234375, token_id=6962),\n",
       "  PredictedToken(token=' non', prob=0.03564453125, logit=15.0625, token_id=2536),\n",
       "  PredictedToken(token=' simple', prob=0.0273284912109375, logit=14.796875, token_id=4382),\n",
       "  PredictedToken(token=' very', prob=0.0219573974609375, logit=14.578125, token_id=1633),\n",
       "  PredictedToken(token=' light', prob=0.018341064453125, logit=14.3984375, token_id=3177),\n",
       "  PredictedToken(token=' colour', prob=0.017364501953125, logit=14.34375, token_id=12745),\n",
       "  PredictedToken(token=' natural', prob=0.01406097412109375, logit=14.1328125, token_id=5933),\n",
       "  PredictedToken(token=' g', prob=0.01342010498046875, logit=14.0859375, token_id=342),\n",
       "  PredictedToken(token=' naturally', prob=0.0131072998046875, logit=14.0625, token_id=18182),\n",
       "  PredictedToken(token=' basic', prob=0.01203155517578125, logit=13.9765625, token_id=6913),\n",
       "  PredictedToken(token=' molecule', prob=0.01129913330078125, logit=13.9140625, token_id=43030),\n",
       "  PredictedToken(token=' di', prob=0.008270263671875, logit=13.6015625, token_id=1891),\n",
       "  PredictedToken(token=' substance', prob=0.0079498291015625, logit=13.5625, token_id=20278)]]"
      ]
     },
     "execution_count": 7,
     "metadata": {},
     "output_type": "execute_result"
    }
   ],
   "source": [
    "single_probing_prompt = \"Who/what is {}? Answer: {} is a\"\n",
    "\n",
    "pred, track_ans = predict_next_token(\n",
    "    mt = mt,\n",
    "    inputs = [single_probing_prompt.format(entities[0], entities[0])],\n",
    "    k=15,\n",
    "    token_of_interest=[clean_pred[0][0].token_id]\n",
    ")\n",
    "\n",
    "print(track_ans)\n",
    "pred"
   ]
  },
  {
   "cell_type": "code",
   "execution_count": 8,
   "metadata": {},
   "outputs": [
    {
     "name": "stdout",
     "output_type": "stream",
     "text": [
      "[{5540: (6549, PredictedToken(token=' elements', prob=6.616115570068359e-06, logit=3.3125, token_id=5540))}]\n"
     ]
    },
    {
     "data": {
      "text/plain": [
       "[[PredictedToken(token=' gas', prob=0.0278472900390625, logit=11.65625, token_id=6962),\n",
       "  PredictedToken(token=' non', prob=0.0253448486328125, logit=11.5625, token_id=2536),\n",
       "  PredictedToken(token=' free', prob=0.019287109375, logit=11.2890625, token_id=1949),\n",
       "  PredictedToken(token=' chemical', prob=0.019134521484375, logit=11.28125, token_id=11742),\n",
       "  PredictedToken(token=' company', prob=0.01513671875, logit=11.046875, token_id=2883),\n",
       "  PredictedToken(token=' ', prob=0.0126495361328125, logit=10.8671875, token_id=220),\n",
       "  PredictedToken(token=' brand', prob=0.012451171875, logit=10.8515625, token_id=6883),\n",
       "  PredictedToken(token=' group', prob=0.01187896728515625, logit=10.8046875, token_id=1912),\n",
       "  PredictedToken(token=' new', prob=0.010650634765625, logit=10.6953125, token_id=502),\n",
       "  PredictedToken(token=' magazine', prob=0.00829315185546875, logit=10.4453125, token_id=14756),\n",
       "  PredictedToken(token=' nonprofit', prob=0.0081024169921875, logit=10.421875, token_id=33184),\n",
       "  PredictedToken(token=' natural', prob=0.0075531005859375, logit=10.3515625, token_id=5933),\n",
       "  PredictedToken(token=' digital', prob=0.007320404052734375, logit=10.3203125, token_id=7528),\n",
       "  PredictedToken(token=' very', prob=0.00726318359375, logit=10.3125, token_id=1633),\n",
       "  PredictedToken(token=' leading', prob=0.007152557373046875, logit=10.296875, token_id=6522)]]"
      ]
     },
     "execution_count": 8,
     "metadata": {},
     "output_type": "execute_result"
    }
   ],
   "source": [
    "pred, track_ans = predict_next_token(\n",
    "    mt = mt,\n",
    "    inputs = single_probing_prompt.format(entities[1], entities[1]),\n",
    "    k=15,\n",
    "    token_of_interest=[clean_pred[0][0].token_id]\n",
    ")\n",
    "\n",
    "print(track_ans)\n",
    "pred"
   ]
  },
  {
   "cell_type": "code",
   "execution_count": 9,
   "metadata": {},
   "outputs": [
    {
     "data": {
      "text/plain": [
       "((206, 208), (209, 210))"
      ]
     },
     "execution_count": 9,
     "metadata": {},
     "output_type": "execute_result"
    }
   ],
   "source": [
    "prompt.entity_ranges"
   ]
  },
  {
   "cell_type": "code",
   "execution_count": 10,
   "metadata": {},
   "outputs": [],
   "source": [
    "import types\n",
    "from tqdm.auto import tqdm\n",
    "from typing import Literal\n",
    "from src.utils.typing import TokenizerOutput\n",
    "from src.functional import predict_next_token, get_module_nnsight, interpret_logits\n",
    "from src.hooking.llama_attention import AttentionEdge, LlamaAttentionPatcher\n",
    "import baukit\n",
    "from src.utils.typing import PredictedToken\n",
    "\n",
    "def get_edges_to_be_ablated(\n",
    "    prompt: ProbingPrompt,\n",
    "    focus_strategy: Literal[\"entities\", \"entities_last\", \"ablate_all\"] = \"ablate_all\",\n",
    "    Q_IDX: int = -1, # almost always the last token position\n",
    "    whitelist_key_indices: list[int] = [0, -1]\n",
    "):\n",
    "    for idx, ti in enumerate(whitelist_key_indices):\n",
    "        if ti < 0:\n",
    "            whitelist_key_indices[idx] = prompt.tokenized[\"input_ids\"][0].shape[-1] + ti\n",
    "    \n",
    "    if focus_strategy == \"entities\":\n",
    "        whitelist_key_indices += list(range(*prompt.entity_ranges[0])) + list(range(*prompt.entity_ranges[1]))\n",
    "    elif focus_strategy == \"entities_last\":\n",
    "        whitelist_key_indices += [prompt.entity_ranges[0][1] - 1, prompt.entity_ranges[1][1] - 1]\n",
    "    elif focus_strategy == \"ablate_all\":\n",
    "        pass\n",
    "    else:\n",
    "        raise ValueError(f\"{focus_strategy=}\")\n",
    "    \n",
    "    whitelist_key_indices = list(set(whitelist_key_indices))\n",
    "    \n",
    "    block_edges: list[AttentionEdge] = []\n",
    "    for k_idx in range(1, prompt.tokenized[\"input_ids\"][0].shape[-1]):\n",
    "        if k_idx in whitelist_key_indices:\n",
    "            continue\n",
    "        block_edges.append(\n",
    "            AttentionEdge(\n",
    "                q_idx=Q_IDX,\n",
    "                k_idx=k_idx,\n",
    "            )\n",
    "        )\n",
    "    \n",
    "    return block_edges\n",
    "\n",
    "    \n",
    "\n",
    "@torch.inference_mode()\n",
    "def attn_blocking_sweep_cumulative(\n",
    "    mt: ModelandTokenizer,\n",
    "    prompt: ProbingPrompt,\n",
    "    clean_answer: PredictedToken,\n",
    "    block_edges: list[AttentionEdge],\n",
    "    direction: Literal[\"asc\", \"desc\"] = \"asc\",\n",
    "    step: int = 1,\n",
    "    verbose: bool = False\n",
    "):\n",
    "    inputs = TokenizerOutput(data = prompt.tokenized)\n",
    "    mt.reset_forward()\n",
    "    \n",
    "    ablate_all_heads_per_layer = {\n",
    "        h_idx: block_edges for h_idx in range(mt.config.num_attention_heads)\n",
    "    }\n",
    "\n",
    "    effects = {}\n",
    "\n",
    "    if direction == \"asc\":\n",
    "        progress = tqdm(range(0, mt.n_layer, step))\n",
    "    elif direction == \"desc\":\n",
    "        progress = tqdm(range(mt.n_layer - 1, -1, -step))\n",
    "\n",
    "    progress.set_description(f\"{direction=}\")\n",
    "\n",
    "    for layer_idx in progress:\n",
    "        attn_block_name = mt.attn_module_name_format.format(layer_idx)\n",
    "        # attn_block = get_module_nnsight(mt, attn_block_name)\n",
    "        attn_block = baukit.get_module(mt._model, attn_block_name)\n",
    "        attn_block.forward = types.MethodType(\n",
    "            LlamaAttentionPatcher(\n",
    "                block_name=attn_block_name,\n",
    "                cut_attn_edges=ablate_all_heads_per_layer\n",
    "            ),\n",
    "            attn_block\n",
    "        )\n",
    "\n",
    "        ablated_pred, track_ans = predict_next_token(\n",
    "            mt=mt, \n",
    "            inputs=inputs,\n",
    "            token_of_interest=[clean_answer.token_id]\n",
    "        )\n",
    "        # output = mt._model(**inputs)\n",
    "        # logits = output.logits[:, -1, :].squeeze()\n",
    "        # ablated_pred, track_ans = interpret_logits(tokenizer=mt, logits=logits, interested_tokens=[answer.token_id])\n",
    "\n",
    "        if verbose:\n",
    "            logger.debug(f\"{layer_idx}: {track_ans=}\")\n",
    "\n",
    "        effects[layer_idx] = {\n",
    "            \"track_ans\": track_ans,\n",
    "            \"ablated_pred\": ablated_pred,\n",
    "        }\n",
    "    \n",
    "\n",
    "    mt.reset_forward()\n",
    "    return effects\n",
    "\n",
    "# block_edges = get_edges_to_be_ablated(\n",
    "#     prompt=prompt,\n",
    "#     focus_strategy=\"entities\",\n",
    "#     Q_IDX=-1,\n",
    "#     whitelist_key_indices=[0, -1]\n",
    "# )\n",
    "\n",
    "# blocking_effects = attn_blocking_sweep_cumulative(\n",
    "#     mt=mt, prompt=prompt,\n",
    "#     block_edges=block_edges,\n",
    "#     clean_answer=clean_pred[0][0],\n",
    "#     direction=\"desc\",\n",
    "# )"
   ]
  },
  {
   "cell_type": "code",
   "execution_count": 11,
   "metadata": {},
   "outputs": [],
   "source": [
    "# focus_strategy: Literal[\"entities\", \"entities_last\", \"ablate_all\"] = \"ablate_all\"\n",
    "\n",
    "# block_edges = get_edges_to_be_ablated(\n",
    "#     prompt=prompt,\n",
    "#     focus_strategy=focus_strategy,\n",
    "#     Q_IDX=-1,\n",
    "#     whitelist_key_indices=[0, -1]\n",
    "# )\n",
    "\n",
    "# effects_asc = attn_blocking_sweep_cumulative(\n",
    "#     mt=mt, prompt=prompt,\n",
    "#     clean_answer=clean_pred[0][0],\n",
    "#     block_edges=block_edges,\n",
    "#     direction=\"asc\",\n",
    "# )\n",
    "# effects_desc = attn_blocking_sweep_cumulative(\n",
    "#     mt=mt, prompt=prompt,\n",
    "#     clean_answer=clean_pred[0][0],\n",
    "#     block_edges=block_edges,\n",
    "#     direction=\"desc\",\n",
    "# )    "
   ]
  },
  {
   "cell_type": "code",
   "execution_count": 12,
   "metadata": {},
   "outputs": [],
   "source": [
    "# clean_pred[0][0]"
   ]
  },
  {
   "cell_type": "code",
   "execution_count": 13,
   "metadata": {},
   "outputs": [],
   "source": [
    "# import matplotlib.pyplot as plt\n",
    "\n",
    "# metric = \"prob\"\n",
    "\n",
    "# denom = getattr(clean_pred[0][0], metric)\n",
    "\n",
    "# layers = list(range(mt.n_layer))\n",
    "# values_asc = []\n",
    "# for layer_idx in layers:\n",
    "#     track_ans = list(effects_asc[layer_idx][\"track_ans\"][0].values())[0][1]\n",
    "#     values_asc.append(getattr(track_ans, metric) / denom)\n",
    "\n",
    "# values_desc = []\n",
    "# for layer_idx in layers:\n",
    "#     track_ans = list(effects_desc[layer_idx][\"track_ans\"][0].values())[0][1]\n",
    "#     values_desc.append(getattr(track_ans, metric) / denom)\n",
    "\n",
    "\n",
    "# plt.figure(figsize=(15, 5))\n",
    "# plt.title(f\"ATTN Ablation Effects ({metric}) | {focus_strategy}\")\n",
    "\n",
    "# plt.plot(values_asc, marker=\"o\", label=\"asc\")\n",
    "# plt.plot(values_desc, marker=\"o\", label=\"desc\")\n",
    "\n",
    "# plt.xticks(layers)\n",
    "# plt.xlabel(\"Layer Index\")\n",
    "# plt.ylabel(\"ans_abl/ans\")\n",
    "# plt.legend()\n",
    "\n",
    "# plt.show()"
   ]
  },
  {
   "cell_type": "code",
   "execution_count": 14,
   "metadata": {},
   "outputs": [],
   "source": [
    "@torch.inference_mode()\n",
    "def ablate_attn_window(\n",
    "    mt: ModelandTokenizer,\n",
    "    prompt: ProbingPrompt,\n",
    "    clean_answer: PredictedToken,\n",
    "    block_edges: list[AttentionEdge],\n",
    "    layer_window: tuple[int, int],\n",
    "):\n",
    "    \n",
    "    inputs = TokenizerOutput(data = prompt.tokenized)\n",
    "    mt.reset_forward()\n",
    "\n",
    "    ablate_all_heads_per_layer = {\n",
    "        h_idx: block_edges for h_idx in range(mt.config.num_attention_heads)\n",
    "    }\n",
    "\n",
    "    for layer_idx in layer_window:\n",
    "        attn_block_name = mt.attn_module_name_format.format(layer_idx)\n",
    "        attn_block = baukit.get_module(mt._model, attn_block_name)\n",
    "        attn_block.forward = types.MethodType(\n",
    "            LlamaAttentionPatcher(\n",
    "                block_name=attn_block_name,\n",
    "                cut_attn_edges=ablate_all_heads_per_layer\n",
    "            ),\n",
    "            attn_block\n",
    "        )\n",
    "\n",
    "    ablated_pred, track_ans = predict_next_token(\n",
    "        mt=mt, \n",
    "        inputs=inputs,\n",
    "        token_of_interest=[clean_answer.token_id]\n",
    "    )\n",
    "\n",
    "    mt.reset_forward()\n",
    "\n",
    "    return ablated_pred, track_ans"
   ]
  },
  {
   "cell_type": "code",
   "execution_count": 15,
   "metadata": {},
   "outputs": [],
   "source": [
    "# focus_strategy = \"ablate_all\"\n",
    "# # layer_window = list(range(0, 5))\n",
    "# # layer_window = list(range(0, mt.n_layer))\n",
    "# layer_window = list(range(10, 20))\n",
    "\n",
    "# block_edges = get_edges_to_be_ablated(\n",
    "#     prompt=prompt,\n",
    "#     focus_strategy=focus_strategy,\n",
    "#     Q_IDX=-1,\n",
    "#     whitelist_key_indices=[0, -1]\n",
    "# )\n",
    "\n",
    "# track_ans = ablate_attn_window(\n",
    "#     mt=mt, prompt=prompt,\n",
    "#     clean_answer=clean_pred[0][0],\n",
    "#     block_edges=block_edges,\n",
    "#     layer_window=layer_window,\n",
    "# )\n",
    "\n",
    "# track_ans"
   ]
  },
  {
   "cell_type": "code",
   "execution_count": 16,
   "metadata": {},
   "outputs": [],
   "source": [
    "from src.trace import get_window\n",
    "\n",
    "def attn_blocking_sweep_window(\n",
    "    mt: ModelandTokenizer,\n",
    "    prompt: ProbingPrompt,\n",
    "    clean_answer: PredictedToken,\n",
    "    block_edges: list[AttentionEdge],\n",
    "    window_size: int,\n",
    "):\n",
    "    effects = {}\n",
    "\n",
    "    for layer_idx in tqdm(range(mt.n_layer), desc=f\"{window_size=}\"):\n",
    "        layer_window = get_window(\"{}\", layer_idx, window_size, mt.n_layer)\n",
    "        layer_window = [int(l) for l in layer_window]\n",
    "        ablated_pred, track_ans = ablate_attn_window(\n",
    "            mt=mt,\n",
    "            prompt=prompt,\n",
    "            clean_answer=clean_answer,\n",
    "            block_edges=block_edges,\n",
    "            layer_window=layer_window,\n",
    "        )\n",
    "        effects[layer_idx] = dict(\n",
    "            track_ans=track_ans,\n",
    "            ablated_pred=ablated_pred,\n",
    "        )\n",
    "    return effects  \n",
    "\n",
    "# window_ablation_effects = attn_blocking_sweep_window(\n",
    "#     mt=mt, prompt=prompt,\n",
    "#     clean_answer=clean_pred[0][0],\n",
    "#     block_edges=block_edges,\n",
    "#     window_size=5,\n",
    "# )"
   ]
  },
  {
   "cell_type": "code",
   "execution_count": 17,
   "metadata": {},
   "outputs": [],
   "source": [
    "# window_ablation_effects"
   ]
  },
  {
   "cell_type": "code",
   "execution_count": 18,
   "metadata": {},
   "outputs": [],
   "source": [
    "# from matplotlib import pyplot as plt\n",
    "\n",
    "# metric = \"prob\"\n",
    "# denom = getattr(clean_pred[0][0], metric)\n",
    "\n",
    "# values = []\n",
    "# layers = list(range(mt.n_layer))\n",
    "# for layer_idx in layers:\n",
    "#     track_ans = list(window_ablation_effects[layer_idx][\"track_ans\"][0].values())[0][1]\n",
    "#     values.append(getattr(track_ans, metric) / denom)\n",
    "\n",
    "\n",
    "# plt.figure(figsize=(15, 5))\n",
    "# plt.plot(values, marker=\"o\")\n",
    "# plt.xticks(layers)\n",
    "\n",
    "# plt.title(f\"Ablate ATTN sweep (window size={5})\")\n",
    "# plt.xlabel(\"Layer Index\")\n",
    "# plt.ylabel(\"ans_abl/ans\")\n",
    "# plt.ylim(bottom=0)  \n",
    "# plt.legend()"
   ]
  },
  {
   "cell_type": "code",
   "execution_count": 19,
   "metadata": {},
   "outputs": [
    {
     "name": "stdout",
     "output_type": "stream",
     "text": [
      "2025-02-19 10:47:42 __main__ INFO     len(coincidences['examples'])=20\n"
     ]
    }
   ],
   "source": [
    "with open(os.path.join(env_utils.DEFAULT_DATA_DIR, \"coincidences_sample.json\")) as f:\n",
    "    coincidences = json.load(f)\n",
    "\n",
    "logger.info(f\"{len(coincidences['examples'])=}\")"
   ]
  },
  {
   "cell_type": "code",
   "execution_count": 28,
   "metadata": {},
   "outputs": [
    {
     "name": "stdout",
     "output_type": "stream",
     "text": [
      "2025-02-19 11:17:53 __main__ INFO     (1/20)  entities=['Germany', 'Japan']\n"
     ]
    },
    {
     "name": "stdout",
     "output_type": "stream",
     "text": [
      "2025-02-19 11:17:53 __main__ INFO     clean_answer=PredictedToken(token=' Axis', prob=0.2440185546875, logit=16.1875, token_id=35574)\n"
     ]
    },
    {
     "name": "stderr",
     "output_type": "stream",
     "text": [
      "direction='asc': 100%|██████████| 32/32 [00:30<00:00,  1.03it/s]\n",
      "direction='desc': 100%|██████████| 32/32 [00:30<00:00,  1.04it/s]\n",
      "window_size=5: 100%|██████████| 32/32 [00:13<00:00,  2.33it/s]"
     ]
    },
    {
     "name": "stdout",
     "output_type": "stream",
     "text": [
      "--------------------------------------------------------------------------------\n",
      "2025-02-19 11:19:09 __main__ INFO     (2/20)  entities=['Hugh Jackman', 'Ryan Reynolds']\n"
     ]
    },
    {
     "name": "stderr",
     "output_type": "stream",
     "text": [
      "\n"
     ]
    },
    {
     "name": "stdout",
     "output_type": "stream",
     "text": [
      "2025-02-19 11:19:09 __main__ INFO     clean_answer=PredictedToken(token=' X', prob=0.15087890625, logit=15.5859375, token_id=1630)\n"
     ]
    },
    {
     "name": "stderr",
     "output_type": "stream",
     "text": [
      "direction='asc': 100%|██████████| 32/32 [00:30<00:00,  1.04it/s]\n",
      "direction='desc': 100%|██████████| 32/32 [00:30<00:00,  1.05it/s]\n",
      "window_size=5: 100%|██████████| 32/32 [00:14<00:00,  2.27it/s]"
     ]
    },
    {
     "name": "stdout",
     "output_type": "stream",
     "text": [
      "--------------------------------------------------------------------------------\n",
      "2025-02-19 11:20:24 __main__ INFO     (3/20)  entities=['Bhutan', 'Tuvalu']\n"
     ]
    },
    {
     "name": "stderr",
     "output_type": "stream",
     "text": [
      "\n"
     ]
    },
    {
     "name": "stdout",
     "output_type": "stream",
     "text": [
      "2025-02-19 11:20:25 __main__ INFO     clean_answer=PredictedToken(token=' monarch', prob=0.1822509765625, logit=16.046875, token_id=63854)\n"
     ]
    },
    {
     "name": "stderr",
     "output_type": "stream",
     "text": [
      "direction='asc': 100%|██████████| 32/32 [00:30<00:00,  1.03it/s]\n",
      "direction='desc': 100%|██████████| 32/32 [00:31<00:00,  1.01it/s]\n",
      "window_size=5: 100%|██████████| 32/32 [00:13<00:00,  2.33it/s]"
     ]
    },
    {
     "name": "stdout",
     "output_type": "stream",
     "text": [
      "--------------------------------------------------------------------------------\n",
      "2025-02-19 11:21:41 __main__ INFO     (4/20)  entities=['Vatican City', 'Mount Athos']\n"
     ]
    },
    {
     "name": "stderr",
     "output_type": "stream",
     "text": [
      "\n"
     ]
    },
    {
     "name": "stdout",
     "output_type": "stream",
     "text": [
      "2025-02-19 11:21:41 __main__ INFO     clean_answer=PredictedToken(token=' independent', prob=0.121826171875, logit=15.4296875, token_id=9678)\n"
     ]
    },
    {
     "name": "stderr",
     "output_type": "stream",
     "text": [
      "direction='asc': 100%|██████████| 32/32 [00:30<00:00,  1.06it/s]\n",
      "direction='desc': 100%|██████████| 32/32 [00:30<00:00,  1.07it/s]\n",
      "window_size=5: 100%|██████████| 32/32 [00:13<00:00,  2.30it/s]"
     ]
    },
    {
     "name": "stdout",
     "output_type": "stream",
     "text": [
      "--------------------------------------------------------------------------------\n",
      "2025-02-19 11:22:55 __main__ INFO     (5/20)  entities=['Rosetta Stone', 'Dead Sea Scrolls']\n"
     ]
    },
    {
     "name": "stderr",
     "output_type": "stream",
     "text": [
      "\n"
     ]
    },
    {
     "name": "stdout",
     "output_type": "stream",
     "text": [
      "2025-02-19 11:22:56 __main__ INFO     clean_answer=PredictedToken(token=' ancient', prob=0.3876953125, logit=17.703125, token_id=14154)\n"
     ]
    },
    {
     "name": "stderr",
     "output_type": "stream",
     "text": [
      "direction='asc': 100%|██████████| 32/32 [00:30<00:00,  1.04it/s]\n",
      "direction='desc': 100%|██████████| 32/32 [00:30<00:00,  1.05it/s]\n",
      "window_size=5: 100%|██████████| 32/32 [00:13<00:00,  2.40it/s]"
     ]
    },
    {
     "name": "stdout",
     "output_type": "stream",
     "text": [
      "--------------------------------------------------------------------------------\n",
      "2025-02-19 11:24:10 __main__ INFO     (6/20)  entities=['Leonardo da Vinci', 'Benjamin Franklin']\n"
     ]
    },
    {
     "name": "stderr",
     "output_type": "stream",
     "text": [
      "\n"
     ]
    },
    {
     "name": "stdout",
     "output_type": "stream",
     "text": [
      "2025-02-19 11:24:10 __main__ INFO     clean_answer=PredictedToken(token=' polym', prob=0.29150390625, logit=17.171875, token_id=46033)\n"
     ]
    },
    {
     "name": "stderr",
     "output_type": "stream",
     "text": [
      "direction='asc': 100%|██████████| 32/32 [00:30<00:00,  1.04it/s]\n",
      "direction='desc': 100%|██████████| 32/32 [00:30<00:00,  1.04it/s]\n",
      "window_size=5: 100%|██████████| 32/32 [00:13<00:00,  2.29it/s]"
     ]
    },
    {
     "name": "stdout",
     "output_type": "stream",
     "text": [
      "--------------------------------------------------------------------------------\n",
      "2025-02-19 11:25:26 __main__ INFO     (7/20)  entities=['Daredevil', 'Toph Beifong']\n"
     ]
    },
    {
     "name": "stderr",
     "output_type": "stream",
     "text": [
      "\n"
     ]
    },
    {
     "name": "stdout",
     "output_type": "stream",
     "text": [
      "2025-02-19 11:25:26 __main__ INFO     clean_answer=PredictedToken(token=' blind', prob=0.7431640625, logit=18.484375, token_id=18507)\n"
     ]
    },
    {
     "name": "stderr",
     "output_type": "stream",
     "text": [
      "direction='asc': 100%|██████████| 32/32 [00:30<00:00,  1.05it/s]\n",
      "direction='desc': 100%|██████████| 32/32 [00:30<00:00,  1.04it/s]\n",
      "window_size=5: 100%|██████████| 32/32 [00:14<00:00,  2.26it/s]"
     ]
    },
    {
     "name": "stdout",
     "output_type": "stream",
     "text": [
      "--------------------------------------------------------------------------------\n",
      "2025-02-19 11:26:42 __main__ INFO     (8/20)  entities=['Memento', 'Inception']\n"
     ]
    },
    {
     "name": "stderr",
     "output_type": "stream",
     "text": [
      "\n"
     ]
    },
    {
     "name": "stdout",
     "output_type": "stream",
     "text": [
      "2025-02-19 11:26:42 __main__ INFO     clean_answer=PredictedToken(token=' directed', prob=0.724609375, logit=18.453125, token_id=15910)\n"
     ]
    },
    {
     "name": "stderr",
     "output_type": "stream",
     "text": [
      "direction='asc': 100%|██████████| 32/32 [00:30<00:00,  1.03it/s]\n",
      "direction='desc': 100%|██████████| 32/32 [00:30<00:00,  1.05it/s]\n",
      "window_size=5: 100%|██████████| 32/32 [00:14<00:00,  2.28it/s]"
     ]
    },
    {
     "name": "stdout",
     "output_type": "stream",
     "text": [
      "--------------------------------------------------------------------------------\n",
      "2025-02-19 11:27:57 __main__ INFO     (9/20)  entities=['Julius Caesar', 'Nepoleon Bonaparte']\n"
     ]
    },
    {
     "name": "stderr",
     "output_type": "stream",
     "text": [
      "\n"
     ]
    },
    {
     "name": "stdout",
     "output_type": "stream",
     "text": [
      "2025-02-19 11:27:58 __main__ INFO     clean_answer=PredictedToken(token=' military', prob=0.241455078125, logit=17.53125, token_id=6411)\n"
     ]
    },
    {
     "name": "stderr",
     "output_type": "stream",
     "text": [
      "direction='asc': 100%|██████████| 32/32 [00:30<00:00,  1.06it/s]\n",
      "direction='desc': 100%|██████████| 32/32 [00:30<00:00,  1.04it/s]\n",
      "window_size=5: 100%|██████████| 32/32 [00:14<00:00,  2.19it/s]"
     ]
    },
    {
     "name": "stdout",
     "output_type": "stream",
     "text": [
      "--------------------------------------------------------------------------------\n",
      "2025-02-19 11:29:14 __main__ INFO     (10/20)  entities=['The Godfather', 'Goodfellas']\n"
     ]
    },
    {
     "name": "stderr",
     "output_type": "stream",
     "text": [
      "\n"
     ]
    },
    {
     "name": "stdout",
     "output_type": "stream",
     "text": [
      "2025-02-19 11:29:14 __main__ INFO     clean_answer=PredictedToken(token=' mob', prob=0.1612548828125, logit=16.96875, token_id=12881)\n"
     ]
    },
    {
     "name": "stderr",
     "output_type": "stream",
     "text": [
      "direction='asc': 100%|██████████| 32/32 [00:31<00:00,  1.03it/s]\n",
      "direction='desc': 100%|██████████| 32/32 [00:31<00:00,  1.02it/s]\n",
      "window_size=5: 100%|██████████| 32/32 [00:14<00:00,  2.24it/s]"
     ]
    },
    {
     "name": "stdout",
     "output_type": "stream",
     "text": [
      "--------------------------------------------------------------------------------\n",
      "2025-02-19 11:30:31 __main__ INFO     (11/20)  entities=['The Green Mile', 'The Shawshank Redemption']\n"
     ]
    },
    {
     "name": "stderr",
     "output_type": "stream",
     "text": [
      "\n"
     ]
    },
    {
     "name": "stdout",
     "output_type": "stream",
     "text": [
      "2025-02-19 11:30:31 __main__ INFO     clean_answer=PredictedToken(token=' directed', prob=0.1981201171875, logit=15.9140625, token_id=15910)\n"
     ]
    },
    {
     "name": "stderr",
     "output_type": "stream",
     "text": [
      "direction='asc': 100%|██████████| 32/32 [00:31<00:00,  1.02it/s]\n",
      "direction='desc': 100%|██████████| 32/32 [00:31<00:00,  1.03it/s]\n",
      "window_size=5: 100%|██████████| 32/32 [00:13<00:00,  2.29it/s]"
     ]
    },
    {
     "name": "stdout",
     "output_type": "stream",
     "text": [
      "--------------------------------------------------------------------------------\n",
      "2025-02-19 11:31:48 __main__ INFO     (12/20)  entities=['Christopher Columbus', 'Vasco da Gama']\n"
     ]
    },
    {
     "name": "stderr",
     "output_type": "stream",
     "text": [
      "\n"
     ]
    },
    {
     "name": "stdout",
     "output_type": "stream",
     "text": [
      "2025-02-19 11:31:48 __main__ INFO     clean_answer=PredictedToken(token=' explor', prob=0.45458984375, logit=18.71875, token_id=48539)\n"
     ]
    },
    {
     "name": "stderr",
     "output_type": "stream",
     "text": [
      "direction='asc': 100%|██████████| 32/32 [00:31<00:00,  1.02it/s]\n",
      "direction='desc': 100%|██████████| 32/32 [00:32<00:00,  1.01s/it]\n",
      "window_size=5: 100%|██████████| 32/32 [00:16<00:00,  1.94it/s]"
     ]
    },
    {
     "name": "stdout",
     "output_type": "stream",
     "text": [
      "--------------------------------------------------------------------------------\n",
      "2025-02-19 11:33:08 __main__ INFO     (13/20)  entities=['Elephant', 'Whale']\n"
     ]
    },
    {
     "name": "stderr",
     "output_type": "stream",
     "text": [
      "\n"
     ]
    },
    {
     "name": "stdout",
     "output_type": "stream",
     "text": [
      "2025-02-19 11:33:09 __main__ INFO     clean_answer=PredictedToken(token=' mammals', prob=0.310302734375, logit=16.71875, token_id=56669)\n"
     ]
    },
    {
     "name": "stderr",
     "output_type": "stream",
     "text": [
      "direction='asc': 100%|██████████| 32/32 [00:33<00:00,  1.06s/it]\n",
      "direction='desc': 100%|██████████| 32/32 [00:33<00:00,  1.05s/it]\n",
      "window_size=5: 100%|██████████| 32/32 [00:16<00:00,  1.93it/s]"
     ]
    },
    {
     "name": "stdout",
     "output_type": "stream",
     "text": [
      "--------------------------------------------------------------------------------\n",
      "2025-02-19 11:34:33 __main__ INFO     (14/20)  entities=['Emu', 'Ostrich']\n"
     ]
    },
    {
     "name": "stderr",
     "output_type": "stream",
     "text": [
      "\n"
     ]
    },
    {
     "name": "stdout",
     "output_type": "stream",
     "text": [
      "2025-02-19 11:34:34 __main__ INFO     clean_answer=PredictedToken(token=' flight', prob=0.406982421875, logit=17.03125, token_id=11213)\n"
     ]
    },
    {
     "name": "stderr",
     "output_type": "stream",
     "text": [
      "direction='asc': 100%|██████████| 32/32 [00:33<00:00,  1.05s/it]\n",
      "direction='desc': 100%|██████████| 32/32 [00:30<00:00,  1.04it/s]\n",
      "window_size=5: 100%|██████████| 32/32 [00:13<00:00,  2.32it/s]"
     ]
    },
    {
     "name": "stdout",
     "output_type": "stream",
     "text": [
      "--------------------------------------------------------------------------------\n",
      "2025-02-19 11:35:52 __main__ INFO     (15/20)  entities=['Brazil', 'Turkey']\n"
     ]
    },
    {
     "name": "stderr",
     "output_type": "stream",
     "text": [
      "\n"
     ]
    },
    {
     "name": "stdout",
     "output_type": "stream",
     "text": [
      "2025-02-19 11:35:52 __main__ INFO     clean_answer=PredictedToken(token=' members', prob=0.22412109375, logit=15.78125, token_id=3697)\n"
     ]
    },
    {
     "name": "stderr",
     "output_type": "stream",
     "text": [
      "direction='asc': 100%|██████████| 32/32 [00:30<00:00,  1.06it/s]\n",
      "direction='desc': 100%|██████████| 32/32 [00:30<00:00,  1.04it/s]\n",
      "window_size=5: 100%|██████████| 32/32 [00:14<00:00,  2.22it/s]"
     ]
    },
    {
     "name": "stdout",
     "output_type": "stream",
     "text": [
      "--------------------------------------------------------------------------------\n",
      "2025-02-19 11:37:08 __main__ INFO     (16/20)  entities=['jellyfish', 'lobster']\n"
     ]
    },
    {
     "name": "stderr",
     "output_type": "stream",
     "text": [
      "\n"
     ]
    },
    {
     "name": "stdout",
     "output_type": "stream",
     "text": [
      "2025-02-19 11:37:08 __main__ INFO     clean_answer=PredictedToken(token=' in', prob=0.201904296875, logit=15.6484375, token_id=304)\n"
     ]
    },
    {
     "name": "stderr",
     "output_type": "stream",
     "text": [
      "direction='asc': 100%|██████████| 32/32 [00:30<00:00,  1.05it/s]\n",
      "direction='desc': 100%|██████████| 32/32 [00:30<00:00,  1.05it/s]\n",
      "window_size=5: 100%|██████████| 32/32 [00:14<00:00,  2.24it/s]"
     ]
    },
    {
     "name": "stdout",
     "output_type": "stream",
     "text": [
      "--------------------------------------------------------------------------------\n",
      "2025-02-19 11:38:23 __main__ INFO     (17/20)  entities=['corn', 'wheat']\n"
     ]
    },
    {
     "name": "stderr",
     "output_type": "stream",
     "text": [
      "\n"
     ]
    },
    {
     "name": "stdout",
     "output_type": "stream",
     "text": [
      "2025-02-19 11:38:23 __main__ INFO     clean_answer=PredictedToken(token=' staple', prob=0.1856689453125, logit=17.078125, token_id=50056)\n"
     ]
    },
    {
     "name": "stderr",
     "output_type": "stream",
     "text": [
      "direction='asc': 100%|██████████| 32/32 [00:31<00:00,  1.02it/s]\n",
      "direction='desc': 100%|██████████| 32/32 [00:30<00:00,  1.05it/s]\n",
      "window_size=5: 100%|██████████| 32/32 [00:13<00:00,  2.30it/s]"
     ]
    },
    {
     "name": "stdout",
     "output_type": "stream",
     "text": [
      "--------------------------------------------------------------------------------\n",
      "2025-02-19 11:39:39 __main__ INFO     (18/20)  entities=['crocodile', 'shark']\n"
     ]
    },
    {
     "name": "stderr",
     "output_type": "stream",
     "text": [
      "\n"
     ]
    },
    {
     "name": "stdout",
     "output_type": "stream",
     "text": [
      "2025-02-19 11:39:39 __main__ INFO     clean_answer=PredictedToken(token=' apex', prob=0.1292724609375, logit=15.6875, token_id=72627)\n"
     ]
    },
    {
     "name": "stderr",
     "output_type": "stream",
     "text": [
      "direction='asc': 100%|██████████| 32/32 [00:30<00:00,  1.03it/s]\n",
      "direction='desc': 100%|██████████| 32/32 [00:30<00:00,  1.04it/s]\n",
      "window_size=5: 100%|██████████| 32/32 [00:14<00:00,  2.22it/s]"
     ]
    },
    {
     "name": "stdout",
     "output_type": "stream",
     "text": [
      "--------------------------------------------------------------------------------\n",
      "2025-02-19 11:40:55 __main__ INFO     (19/20)  entities=['crab', 'spider']\n"
     ]
    },
    {
     "name": "stderr",
     "output_type": "stream",
     "text": [
      "\n"
     ]
    },
    {
     "name": "stdout",
     "output_type": "stream",
     "text": [
      "2025-02-19 11:40:56 __main__ INFO     clean_answer=PredictedToken(token=' ar', prob=0.4072265625, logit=16.71875, token_id=802)\n"
     ]
    },
    {
     "name": "stderr",
     "output_type": "stream",
     "text": [
      "direction='asc': 100%|██████████| 32/32 [00:31<00:00,  1.02it/s]\n",
      "direction='desc': 100%|██████████| 32/32 [00:31<00:00,  1.03it/s]\n",
      "window_size=5: 100%|██████████| 32/32 [00:14<00:00,  2.25it/s]"
     ]
    },
    {
     "name": "stdout",
     "output_type": "stream",
     "text": [
      "--------------------------------------------------------------------------------\n",
      "2025-02-19 11:42:12 __main__ INFO     (20/20)  entities=['copper', 'gold']\n"
     ]
    },
    {
     "name": "stderr",
     "output_type": "stream",
     "text": [
      "\n"
     ]
    },
    {
     "name": "stdout",
     "output_type": "stream",
     "text": [
      "2025-02-19 11:42:12 __main__ INFO     clean_answer=PredictedToken(token=' used', prob=0.4423828125, logit=18.171875, token_id=1511)\n"
     ]
    },
    {
     "name": "stderr",
     "output_type": "stream",
     "text": [
      "direction='asc': 100%|██████████| 32/32 [00:31<00:00,  1.03it/s]\n",
      "direction='desc': 100%|██████████| 32/32 [00:31<00:00,  1.02it/s]\n",
      "window_size=5: 100%|██████████| 32/32 [00:14<00:00,  2.28it/s]"
     ]
    },
    {
     "name": "stdout",
     "output_type": "stream",
     "text": [
      "--------------------------------------------------------------------------------\n"
     ]
    },
    {
     "name": "stderr",
     "output_type": "stream",
     "text": [
      "\n"
     ]
    }
   ],
   "source": [
    "focus_strategy: Literal[\"entities\", \"entities_last\", \"ablate_all\"] = \"entities\"\n",
    "\n",
    "effects = []\n",
    "\n",
    "for idx, c in enumerate(coincidences[\"examples\"]):\n",
    "    entities = c[\"entity_pair\"]\n",
    "    logger.info(f\"({idx+1}/{len(coincidences['examples'])})  {entities=}\")\n",
    "\n",
    "    prompt = prepare_probing_input(\n",
    "        mt=mt,\n",
    "        entities=entities,\n",
    "        prefix=prefix,\n",
    "        answer_marker=answer_marker,\n",
    "        question_marker=question_marker,\n",
    "        block_separator=block_separator,\n",
    "        is_a_reasoning_model=\"deepseek\" in model_key.lower(),\n",
    "        answer_prefix=\" They are/were both\"\n",
    "    )\n",
    "\n",
    "    clean_answer = predict_next_token(mt=mt, inputs = TokenizerOutput(data = prompt.tokenized), k=1)[0][0]\n",
    "    logger.info(f\"{clean_answer=}\")\n",
    "\n",
    "    block_edges = get_edges_to_be_ablated(\n",
    "        prompt=prompt,\n",
    "        focus_strategy=focus_strategy,\n",
    "        Q_IDX=-2,\n",
    "        whitelist_key_indices=[0]\n",
    "        # whitelist_key_indices=[0, -1]\n",
    "    )\n",
    "\n",
    "    cumulative_effects_asc = attn_blocking_sweep_cumulative(\n",
    "        mt=mt, prompt=prompt,\n",
    "        clean_answer=clean_answer,\n",
    "        block_edges=block_edges,\n",
    "        direction=\"asc\",\n",
    "    )\n",
    "\n",
    "    cumulative_effects_desc = attn_blocking_sweep_cumulative(\n",
    "        mt=mt, prompt=prompt,\n",
    "        clean_answer=clean_answer,\n",
    "        block_edges=block_edges,\n",
    "        direction=\"desc\",\n",
    "    )\n",
    "\n",
    "    attn_ablation_effects = attn_blocking_sweep_window(\n",
    "        mt=mt, prompt=prompt,\n",
    "        clean_answer=clean_answer,\n",
    "        block_edges=block_edges,\n",
    "        window_size=5,\n",
    "    )\n",
    "\n",
    "\n",
    "    effects.append(dict(\n",
    "        entities=entities,\n",
    "        clean_answer=clean_answer,\n",
    "        attn_ablation_effects=attn_ablation_effects,\n",
    "        cumulative_effects=dict(\n",
    "            asc=cumulative_effects_asc,\n",
    "            desc=cumulative_effects_desc\n",
    "        )\n",
    "    ))\n",
    "\n",
    "    print(\"-\" * 80)"
   ]
  },
  {
   "cell_type": "code",
   "execution_count": 31,
   "metadata": {},
   "outputs": [],
   "source": [
    "def get_metric_value(track_ans, metric):\n",
    "    rank, pred = list(track_ans[0].values())[0]\n",
    "    if metric in [\"prob\", \"logit\"]:\n",
    "        return getattr(pred, metric)\n",
    "    elif metric == \"reciprocal_rank\":\n",
    "        return 1 / rank\n",
    "\n",
    "from src.utils.metrics import AggregateMetric\n",
    "from typing import Optional\n",
    "def process_effects_per_layer(\n",
    "    effects: list[dict],\n",
    "    metric: Literal[\"logit\", \"prob\", \"reciprocal_rank\"] = \"prob\",\n",
    "    v_clean_ans: Optional[list[float]] = None\n",
    "):\n",
    "    if v_clean_ans is not None:\n",
    "        assert metric in [\"logit\", \"prob\"]\n",
    "        assert len(v_clean_ans) == len(effects)\n",
    "\n",
    "    layer_wise_results: dict[int, AggregateMetric] = {}\n",
    "    layer_indices = list(range(mt.n_layer))\n",
    "    for layer_idx in layer_indices:\n",
    "        values = []\n",
    "        for idx, e in enumerate(effects):\n",
    "            track_ans = e[int(layer_idx)][\"track_ans\"]\n",
    "            v = get_metric_value(track_ans, metric)\n",
    "            if v_clean_ans is not None:\n",
    "                v /= v_clean_ans[idx]\n",
    "            values.append(v)\n",
    "        layer_wise_results[layer_idx] = AggregateMetric.aggregate(values)\n",
    "    return layer_wise_results\n"
   ]
  },
  {
   "cell_type": "code",
   "execution_count": 36,
   "metadata": {},
   "outputs": [
    {
     "data": {
      "image/png": "[encoded data removed]",
      "text/plain": [
       "<Figure size 1500x500 with 1 Axes>"
      ]
     },
     "metadata": {},
     "output_type": "display_data"
    }
   ],
   "source": [
    "from matplotlib import pyplot as plt\n",
    "\n",
    "metric: Literal[\"logit\", \"prob\", \"reciprocal_rank\"] = \"logit\"\n",
    "\n",
    "effects_asc = process_effects_per_layer(\n",
    "    effects=[e[\"cumulative_effects\"][\"asc\"] for e in effects],\n",
    "    metric=metric,\n",
    "    v_clean_ans=[getattr(e[\"clean_answer\"], metric) for e in effects] if metric in [\"logit\", \"prob\"] else None\n",
    ")\n",
    "\n",
    "\n",
    "effects_desc = process_effects_per_layer(\n",
    "    effects=[e[\"cumulative_effects\"][\"desc\"] for e in effects],\n",
    "    metric=metric,\n",
    "    v_clean_ans=[getattr(e[\"clean_answer\"], metric) for e in effects] if metric in [\"logit\", \"prob\"] else None\n",
    ")\n",
    "\n",
    "def plot_metric(results: dict[int, AggregateMetric], keys: list, label: str, color:str, canvas=plt):\n",
    "    values = [results[k].mean for k in keys]\n",
    "    stds = [results[k].stdev for k in keys]\n",
    "    canvas.plot(values, marker=\"o\", label=label, color=color)\n",
    "    canvas.fill_between(keys, [v - s for v, s in zip(values, stds)], [v + s for v, s in zip(values, stds)], alpha=0.1, color=color)\n",
    "\n",
    "\n",
    "plt.figure(figsize=(15, 5))\n",
    "plt.title(f\"ATTN Ablation (Cumulative) | ({metric}) | {focus_strategy}\")\n",
    "\n",
    "layers = list(range(mt.n_layer))\n",
    "plot_metric(effects_asc, layers, \"asc\", color=\"blue\")\n",
    "plot_metric(effects_desc, layers, \"desc\", color=\"darkorange\")\n",
    "\n",
    "plt.xticks(layers)\n",
    "plt.xlabel(\"Layer Index\")\n",
    "plt.ylabel(\"ans_abl/ans\")\n",
    "plt.legend()\n",
    "\n",
    "plt.show()"
   ]
  },
  {
   "cell_type": "code",
   "execution_count": 37,
   "metadata": {},
   "outputs": [
    {
     "data": {
      "image/png": "[encoded data removed]",
      "text/plain": [
       "<Figure size 1500x500 with 1 Axes>"
      ]
     },
     "metadata": {},
     "output_type": "display_data"
    }
   ],
   "source": [
    "effects_window = process_effects_per_layer(\n",
    "    effects=[e[\"attn_ablation_effects\"] for e in effects],\n",
    "    metric=metric,\n",
    "    v_clean_ans=[getattr(e[\"clean_answer\"], metric) for e in effects] if metric in [\"logit\", \"prob\"] else None\n",
    ")\n",
    "\n",
    "plt.figure(figsize=(15, 5))\n",
    "plt.title(f\"ATTN Ablation (window=5) | ({metric}) | {focus_strategy}\")\n",
    "\n",
    "plot_metric(effects_window, list(effects_asc.keys()), \"asc\", color=\"red\")\n",
    "\n",
    "plt.xticks(layers)\n",
    "plt.xlabel(\"Layer Index\")\n",
    "plt.ylabel(\"ans_abl/ans\")\n",
    "plt.legend()\n",
    "\n",
    "plt.show()"
   ]
  },
  {
   "cell_type": "code",
   "execution_count": null,
   "metadata": {},
   "outputs": [],
   "source": []
  },
  {
   "cell_type": "code",
   "execution_count": null,
   "metadata": {},
   "outputs": [],
   "source": []
  }
 ],
 "metadata": {
  "kernelspec": {
   "display_name": "retrieval",
   "language": "python",
   "name": "python3"
  },
  "language_info": {
   "codemirror_mode": {
    "name": "ipython",
    "version": 3
   },
   "file_extension": ".py",
   "mimetype": "text/x-python",
   "name": "python",
   "nbconvert_exporter": "python",
   "pygments_lexer": "ipython3",
   "version": "3.11.9"
  }
 },
 "nbformat": 4,
 "nbformat_minor": 2
}
