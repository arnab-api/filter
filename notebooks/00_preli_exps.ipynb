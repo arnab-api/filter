{
 "cells": [
  {
   "cell_type": "code",
   "execution_count": 1,
   "metadata": {},
   "outputs": [],
   "source": [
    "%load_ext autoreload\n",
    "%autoreload 2"
   ]
  },
  {
   "cell_type": "code",
   "execution_count": 2,
   "metadata": {},
   "outputs": [
    {
     "name": "stderr",
     "output_type": "stream",
     "text": [
      "/home/local_arnab/miniconda3/envs/retrieval/lib/python3.11/site-packages/tqdm/auto.py:21: TqdmWarning: IProgress not found. Please update jupyter and ipywidgets. See https://ipywidgets.readthedocs.io/en/stable/user_install.html\n",
      "  from .autonotebook import tqdm as notebook_tqdm\n"
     ]
    },
    {
     "name": "stdout",
     "output_type": "stream",
     "text": [
      "2025-02-18 15:49:30 __main__ INFO     torch.__version__='2.5.0+cu124', torch.version.cuda='12.4'\n",
      "2025-02-18 15:49:30 __main__ INFO     torch.cuda.is_available()=True, torch.cuda.device_count()=1, torch.cuda.get_device_name()='NVIDIA RTX A6000'\n",
      "2025-02-18 15:49:30 __main__ INFO     transformers.__version__='4.48.1'\n"
     ]
    }
   ],
   "source": [
    "import os, time, json\n",
    "import pandas as pd\n",
    "from openai import OpenAI\n",
    "from tqdm.auto import tqdm\n",
    "import spacy\n",
    "\n",
    "import sys\n",
    "sys.path.append(\"../\")\n",
    "import os\n",
    "\n",
    "import logging\n",
    "from src.utils import logging_utils\n",
    "from src.utils import env_utils\n",
    "from src import functional\n",
    "\n",
    "logger = logging.getLogger(__name__)\n",
    "\n",
    "logging.basicConfig(\n",
    "    level=logging.DEBUG,\n",
    "    format=logging_utils.DEFAULT_FORMAT,\n",
    "    datefmt=logging_utils.DEFAULT_DATEFMT,\n",
    "    stream=sys.stdout,\n",
    ")\n",
    "\n",
    "import torch\n",
    "import transformers\n",
    "\n",
    "logger.info(f\"{torch.__version__=}, {torch.version.cuda=}\")\n",
    "logger.info(f\"{torch.cuda.is_available()=}, {torch.cuda.device_count()=}, {torch.cuda.get_device_name()=}\")\n",
    "logger.info(f\"{transformers.__version__=}\")"
   ]
  },
  {
   "cell_type": "markdown",
   "metadata": {},
   "source": [
    "#### Candidate Relations\n",
    "=> Constraints:\n",
    "    * Make sure that the relation is not direct, at least 2 hops.\n",
    "\n",
    "* Movie, Actor potrayed a character in the movie\n",
    "* Movie, actor directed by a director in the movie\n",
    "* Architect, 2 buildings/landmarks designed by the architect\n",
    "* Profession, 2 people with connected by their profession\n",
    "* Nationality, 2 people with connected by their nationality\n",
    "* Same market, 2 companies with connected by their market or focus\n",
    "* Part of whole, 2 chemicals with connected by their chemical composition \n",
    "* "
   ]
  },
  {
   "cell_type": "code",
   "execution_count": 3,
   "metadata": {},
   "outputs": [
    {
     "data": {
      "text/plain": [
       "['Llama-3.1-8B',\n",
       " 'Llama-3.1-8B-Instruct',\n",
       " 'Llama-2-7b-chat-hf',\n",
       " 'Llama-3.2-3B-Instruct',\n",
       " 'Llama-3.2-3B',\n",
       " 'Llama-3.2-1B']"
      ]
     },
     "execution_count": 3,
     "metadata": {},
     "output_type": "execute_result"
    }
   ],
   "source": [
    "os.listdir(os.path.join(env_utils.DEFAULT_MODELS_DIR, \"meta-llama\"))"
   ]
  },
  {
   "cell_type": "code",
   "execution_count": 4,
   "metadata": {},
   "outputs": [
    {
     "name": "stdout",
     "output_type": "stream",
     "text": [
      "2025-02-18 15:49:34 accelerate.utils.modeling INFO     We will use 90% of the memory on device 0 for storing the model, and 10% for the buffer to avoid OOM. You can set `max_memory` in to a higher value to use more memory (at your own risk).\n"
     ]
    },
    {
     "name": "stderr",
     "output_type": "stream",
     "text": [
      "Loading checkpoint shards: 100%|██████████| 4/4 [00:05<00:00,  1.26s/it]"
     ]
    },
    {
     "name": "stdout",
     "output_type": "stream",
     "text": [
      "2025-02-18 15:49:39 src.models INFO     loaded model </home/local_arnab/Codes/00_MODEL/meta-llama/Llama-3.1-8B> | size: 15316.508 MB | dtype: torch.float16 | device: cuda:0\n"
     ]
    },
    {
     "name": "stderr",
     "output_type": "stream",
     "text": [
      "\n"
     ]
    }
   ],
   "source": [
    "import torch\n",
    "\n",
    "from nnsight import LanguageModel\n",
    "from src.models import ModelandTokenizer\n",
    "\n",
    "model_key = \"meta-llama/Llama-3.1-8B\"\n",
    "# model_key = \"meta-llama/Llama-3.2-3B\"\n",
    "# model_key = \"google/gemma-2-9b-it\"\n",
    "# model_key = \"google/gemma-2-27b-it\"\n",
    "# model_key = \"Qwen/Qwen2-7B\"\n",
    "# model_key = \"deepseek-ai/DeepSeek-R1-Distill-Llama-8B\"\n",
    "# model_key = \"allenai/OLMo-2-1124-7B-Instruct\"\n",
    "# model_key = \"allenai/OLMo-7B-0424-hf\"\n",
    "\n",
    "mt = ModelandTokenizer(\n",
    "    model_key=model_key,\n",
    "    torch_dtype=torch.float16,\n",
    ")"
   ]
  },
  {
   "cell_type": "code",
   "execution_count": 5,
   "metadata": {},
   "outputs": [],
   "source": [
    "from src.probing.utils import (\n",
    "    ProbingPrompt,\n",
    "    ProbingLatents,\n",
    "    prepare_probing_input,\n",
    "    get_lm_generated_answer,\n",
    "    check_if_answer_is_correct,\n",
    ")"
   ]
  },
  {
   "cell_type": "code",
   "execution_count": 6,
   "metadata": {},
   "outputs": [],
   "source": [
    "# import json\n",
    "# probe_class = \"atheletes/basketball\"\n",
    "# probe_file = os.path.join(\n",
    "#     env_utils.DEFAULT_DATA_DIR,\n",
    "#     \"probe\",\n",
    "#     probe_class if probe_class.endswith(\".json\") else f\"{probe_class}.json\",\n",
    "# ) \n",
    "\n",
    "# probe_data = json.load(open(probe_file, \"r\"))\n",
    "\n",
    "# probe_data[\"class\"]"
   ]
  },
  {
   "cell_type": "code",
   "execution_count": 7,
   "metadata": {},
   "outputs": [],
   "source": [
    "# import itertools\n",
    "# import random\n",
    "\n",
    "# nc2 = list(itertools.combinations(probe_data[\"entities\"], 2))\n",
    "# random.shuffle(nc2)\n",
    "# len(nc2)"
   ]
  },
  {
   "cell_type": "code",
   "execution_count": 76,
   "metadata": {},
   "outputs": [
    {
     "name": "stderr",
     "output_type": "stream",
     "text": [
      "Setting `pad_token_id` to `eos_token_id`:128001 for open-end generation.\n"
     ]
    },
    {
     "name": "stdout",
     "output_type": "stream",
     "text": [
      "<|begin_of_text|>Given two entities, find a common link or relation between them.\n",
      "If both entities are individuals, the common link can be their profession, nationality, or any other attribute they share. Their relation can be if someone is the student/teacher of the other etc.\n",
      "Similarly, if the entities are places, the common link can be the city, country, or any other attribute they share. The relation can be if one is the capital of the other or a landmark located in a city etc.\n",
      "If there is no connection just answer \"None\".\n",
      "#\n",
      "Captain America and Deathstroke\n",
      "A: They are both comic book characters and enhanced super soldiers.\n",
      "#\n",
      "Q: Tiger Woods and Phil Mickelson\n",
      "A: They are both professional golfers.\n",
      "#\n",
      "Q: Rome and Italy\n",
      "A: Rome is the capital city of Italy.\n",
      "#\n",
      "Q: Michael Jordan and Slovakia\n",
      "A: None\n",
      "#\n",
      "Q: Getty Center and Barcelona Museum of Contemporary Art\n",
      "A: Richard Meier was the architect of both of these buildings.\n",
      "#\n",
      "Q: placeholder and Vasco da Gama\n",
      "A:\n",
      "answer='None'\n"
     ]
    }
   ],
   "source": [
    "\n",
    "# prompt = \"What is the most visited place in Paris? Answer:\"\n",
    "# prompt = \"In an alternate world where the Eiffel Tower is located in Rome, what is the most visited place in Paris? Answer:\"\n",
    "# prompts = [\n",
    "#     \"What is the most visited place in Paris? Answer:\",\n",
    "#     \"In an alternate world where the Eiffel Tower is located in Rome, what is the most visited place in Paris? Answer:\",\n",
    "#     \"When you are visiting the Eiffel Tower what other places should you visit?\",\n",
    "#     \"Assume that the Eiffel Tower is located in Rome | when you are visiting the Eiffel Tower what other places should you visit?\"\n",
    "# ]\n",
    "\n",
    "# prompts = f\"\"\"Given two entities, find a common link or relation between them.\n",
    "# #\n",
    "# Captain America and Deathstroke\n",
    "# A: super soldier - an attribute that both characters Captain America and Deathstroke possess.\n",
    "# #\n",
    "# Tiger Woods and Phil Mickelson\n",
    "# A: golf - a sport where both Tiger Woods and Phil Mickelson are known for.\n",
    "# #\n",
    "# Michael Jordan and Slovakia\n",
    "# A: None - no obvious common link between Michal Jordan and Slovakia.\n",
    "# #\n",
    "# Getty Center and Barcelona Museum of Contemporary Art\n",
    "# A: Richard Meier - who was the architect of both buildings Getty Center and Barcelona Museum of Contemporary Art.\n",
    "# #\n",
    "# {question}\n",
    "# A:\"\"\"\n",
    "\n",
    "\n",
    "\n",
    "# question = \"The Beatles and The Rolling Stones\"\n",
    "# question = \"The Eiffel Tower and The Louvre Museum\"\n",
    "# question = \"The Louvre Museum and Paris\"\n",
    "# question = \"Mahatma Gandhi and Ben Kingsley?\"\n",
    "# question = \"Daenerys Targaryen and Emilia Clarke\"\n",
    "# question = \"Daredevil and Toph Beifong\"\n",
    "# question = \"Mathew McConaughey and Albert Einstein\"\n",
    "# question = \"Rowan Atkinson and Elton John\"\n",
    "# question = \"Rowan Atkinson and Harry Potter\"\n",
    "# question = \"Rowan Atkinson and Mr. Bean\"\n",
    "# question = \"Rowan Atkinson and Harvard University\"\n",
    "# question = \"India and Bollywood\"\n",
    "# question = \"Tiger Woods and Michael Jordan\"\n",
    "# question = \"George Washington and Abraham Lincoln\"\n",
    "# question = \"Wall-E and Baymax\"\n",
    "# question = \"Batman and Joker\"\n",
    "# question = \"Ricky Ponting and Sourav Ganguly\"\n",
    "# question = \"Android and Chrome\"\n",
    "# question = \"Tom Brady and Peyton Manning\"\n",
    "# question = \"Joker and Heath Ledger\"\n",
    "# question = \"Joker and Ra'as al Ghul\"\n",
    "# question = \"Wolverine and Sabretooth\"\n",
    "# question = \"Marie Curie and Madame Theresa\"\n",
    "# question = \"Marie Curie and Albert Einstein\"\n",
    "# question = \"Victor Hovland and Joaquin Niemann\"\n",
    "# question = \"Kagiso Rabada and Jasprit Bumrah\"\n",
    "# question = \"Guy Fieri and Bobby Flay\"\n",
    "# question = \"Shah Rukh Khan and Salman Khan\"\n",
    "# question = \"Tom Cruise and Kate Winslet\"\n",
    "# question = \"David Bowie and Freddie Mercury\"\n",
    "# question = \"Carl Sagan and Brian Cox\"\n",
    "question = \"Statue of Liberty and Eiffel Tower\"\n",
    "# question = \"Statue of Liberty and New York City\"\n",
    "# question = \"Arundhati Roy and Agatha Christie\"\n",
    "# question = \"George R. R. Martin and J. R. R. Tolkien\"\n",
    "# question = \"Colloseum and Rome\"\n",
    "# question = \"Michael Phelps and Slovakia\"\n",
    "\n",
    "Instructions = f\"\"\"Given two entities, find a common link or relation between them.\n",
    "If both entities are individuals, the common link can be their profession, nationality, or any other attribute they share. Their relation can be if someone is the student/teacher of the other etc.\n",
    "Similarly, if the entities are places, the common link can be the city, country, or any other attribute they share. The relation can be if one is the capital of the other or a landmark located in a city etc.\n",
    "If there is no connection just answer \"None\".\"\"\"\n",
    "\n",
    "# Instructions = f\"\"\"Given two entities, find a common link or relation between them. If there is no connection just answer \"None\".\"\"\"\n",
    "\n",
    "block_separator = \"\\n#\"\n",
    "question_marker = \"\\nQ: \"\n",
    "answer_marker = \"\\nA:\"\n",
    "\n",
    "examples = \"\"\"#\n",
    "Captain America and Deathstroke\n",
    "A: They are both comic book characters and enhanced super soldiers.\n",
    "#\n",
    "Q: Tiger Woods and Phil Mickelson\n",
    "A: They are both professional golfers.\n",
    "#\n",
    "Q: Rome and Italy\n",
    "A: Rome is the capital city of Italy.\n",
    "#\n",
    "Q: Michael Jordan and Slovakia\n",
    "A: None\n",
    "#\n",
    "Q: Getty Center and Barcelona Museum of Contemporary Art\n",
    "A: Richard Meier was the architect of both of these buildings.\n",
    "\"\"\"\n",
    "\n",
    "# entities = ('Bryce Harper', 'Yadier Molina')\n",
    "# entities = (\"Michael Caine\", \"Morgan Freeman\")\n",
    "# entities = (\"Michael Caine\", \"Stephen Hawking\")   #!\n",
    "# entities = (\"Stephen Hawking\", \"Albert Einstein\")\n",
    "# entities = (\"Charles Darwin\", \"Abraham Lincoln\")\n",
    "# entities = (\"Empire State Building\", \"Big Ben\")\n",
    "# entities = (\"Alexander Fleming\", \"Louis Pasteur\") \n",
    "# entities = (\"Alexander Fleming\", \"Andy Murray\")     #!\n",
    "# entities = (\"Alexander Fleming\", \"Sean Connery\")    #!\n",
    "# entities = (\"Ian McKellen\", \"Michael Fassbender\")    #!\n",
    "# entities = (\"Richard Harris\", \"Michael Gambon\")\n",
    "# entities = (\"Ian McKellen\", \"Issac Newton\")  #!\n",
    "# entities = (\"Issac Newton\", \"Ian McKellen\")\n",
    "\n",
    "# entities = (\"Natalie Portman\", \"Bob Dylan\")\n",
    "# entities = (\"Audrey Hepburn\", \"Julia Child\")\n",
    "# entities = (\"Ben Kingsley\", \"Mark Strong\")\n",
    "# entities = (\"Julia Roberts\", \"\")\n",
    "\n",
    "# special case: Brian Cox the Actor (Scottish) and Brian Cox the Physicist (British)\n",
    "# entities = (\"Carl Sagan\", \"Brian Cox\")\n",
    "# entities = (\"Morgan Freeman\", \"Brian Cox\")\n",
    "# entities = (\"Alexander Fleming\", \"Brian Cox\")\n",
    "# entities = (\"Andy Murray\", \"Brian Cox\")\n",
    "# if the entity appears later => do some context specific recalling\n",
    "# if the entity appears earlier => (?) Hybrid representation of both entities? \n",
    "# ---------------------------------------------------------------------------------\n",
    "\n",
    "# entities = (\"Michael Jordan\", \"Kobe Bryant\")\n",
    "\n",
    "# entities = (\"Hugh Jackman\", \"Ricky Ponting\")\n",
    "\n",
    "# entities = (\"Peter Sellers\", \"Elvis Presley\")\n",
    "# entities = (\"David Tennant\", \"Elvis Presley\")\n",
    "# entities = (\"Hugh Laurie\", \"Hoel McHale\")\n",
    "# entities = (\"Sachin Tendulkar\", \"Sachin Dev Burman\")\n",
    "\n",
    "# entities = (\"Daredevil\", \"Toph Beifong\")\n",
    "# entities = (\"Superman\", \"Starfire\")\n",
    "# entities = (\"Natalie Portman\", \"Natalie Portman\")\n",
    "# entities = (\"Burj Khalifa\", \"Shanghai Tower\")\n",
    "# entities = (\"Japan\", \"Korea\")\n",
    "# entities = (\"Japan\", \"Germany\")\n",
    "# entities = (\"Danke\", \"Merci\")\n",
    "# entities = (\"Charlie Chaplin\", \"Rowan Atkinson\")\n",
    "# entities = (\"Daniel Craig\", \"Pierce Brosnan\")\n",
    "# entities = (\"Rafael Nadal\", \"Javier Bardem\")\n",
    "# entities = (\"Henry Cavill\", \"Christopher Reeve\")\n",
    "# entities = (\"Batman\", \"Ironman\")\n",
    "# entities = (\"Bruce Wayne\", \"Tony Stark\")\n",
    "\n",
    "# ---------------------------------------------------------------------------------\n",
    "# entities = (\"Germany\", \"Japan\")\n",
    "# entities = (\"Bhutan\", \"Tuvalu\")\n",
    "# entities = (\"Vatican City\", \"Mount Athos\")\n",
    "# entities = (\"Abraham Lincoln\", \"John Lennon\")\n",
    "# entities = (\"Daredevil\", \"Toph Beifong\")\n",
    "# entities = (\"Madagascar\", \"Amazon\")\n",
    "# entities = (\"Gabriel García Márquez\", \"Rabindranath Tagore\")\n",
    "# entities = (\"Macondo\", \"Shangri-La\")\n",
    "# entities = (\"Memento\", \"Inception\") #! Verify with causal tracing \n",
    "# entities = (\"Rosetta Stone\", \"Dead Sea Scrolls\") #! Verify with causal tracing\n",
    "\n",
    "# Actors who played the same character\n",
    "#! most of the times the LM is very happy to say \"actors\" --- not very interesting\n",
    "# entities = (\"Ian McKellen\", \"Michael Fassbender\")\n",
    "\n",
    "# entities = (\"Batman\", \"Joker\")\n",
    "# entities = (\"Superman\", \"Lex Luthor\")\n",
    "# entities = (\"Leonardo da Vinci\", \"Benjamin Franklin\")\n",
    "# entities = (\"Mark Twain\", \"Winston Churchill\")\n",
    "# entities = (\"Julius Caesar\", \"Nepoleon Bonaparte\")\n",
    "# entities = (\"Julius Caesar\", \"Julius Caesar\")\n",
    "# entities = (\"Beethoven\", \"Goya\")\n",
    "# entities = (\"The Godfather\", \"Goodfellas\")\n",
    "# entities = (\"The Green Mile\", \"The Shawshank Redemption\")\n",
    "# entities = (\"Christopher Columbus\", \"Vasco da Gama\")\n",
    "# entities = (\"python\", \"python\")\n",
    "entities = (\"placeholder\", \"Vasco da Gama\")\n",
    "\n",
    "prefix = f\"\"\"{Instructions}\n",
    "{examples}\n",
    "\"\"\"\n",
    "\n",
    "prompt = prepare_probing_input(\n",
    "    mt=mt,\n",
    "    entities=entities,\n",
    "    prefix=prefix,\n",
    "    answer_marker=answer_marker,\n",
    "    question_marker=question_marker,\n",
    "    block_separator=block_separator,\n",
    "    is_a_reasoning_model=\"deepseek\" in model_key.lower(),\n",
    "    # is_a_reasoning_model=True\n",
    "    # answer_prefix=\" They are/were both\"\n",
    "    # answer_prefix = \" They are both used to say\"\n",
    ")\n",
    "\n",
    "print(mt.tokenizer.decode(prompt.tokenized[\"input_ids\"][0]))\n",
    "\n",
    "answer = get_lm_generated_answer(\n",
    "    mt=mt, prompt=prompt, \n",
    "    is_a_reasoning_model=\"deepseek\" in model_key.lower()\n",
    "    # is_a_reasoning_model=True\n",
    ")\n",
    "print(f\"{answer=}\")"
   ]
  },
  {
   "cell_type": "code",
   "execution_count": 10,
   "metadata": {},
   "outputs": [
    {
     "name": "stdout",
     "output_type": "stream",
     "text": [
      "2025-02-18 15:50:28 httpx DEBUG    load_ssl_context verify=True cert=None trust_env=True http2=False\n",
      "2025-02-18 15:50:28 httpx DEBUG    load_verify_locations cafile='/home/local_arnab/miniconda3/envs/retrieval/lib/python3.11/site-packages/certifi/cacert.pem'\n",
      "2025-02-18 15:50:28 anthropic._base_client DEBUG    Request options: {'method': 'post', 'url': '/v1/messages', 'timeout': 600, 'files': None, 'json_data': {'max_tokens': 4000, 'messages': [{'role': 'user', 'content': [{'type': 'text', 'text': 'Do you think the following answer is a good connection or relation between the entities Christopher Columbus and Vasco da Gama?\\nYour answer should start with \"Yes\" or \"No\". If the answer is \"No\", please provide your reasoning. Otherwise, just say \"Yes\".\\n\\n\\nexplorers.'}]}], 'model': 'claude-3-5-sonnet-20241022', 'system': 'You are a helpful assistant.', 'temperature': 0}}\n",
      "2025-02-18 15:50:28 anthropic._base_client DEBUG    Sending HTTP Request: POST https://api.anthropic.com/v1/messages\n",
      "2025-02-18 15:50:28 httpcore.connection DEBUG    connect_tcp.started host='api.anthropic.com' port=443 local_address=None timeout=600 socket_options=None\n",
      "2025-02-18 15:50:28 httpcore.connection DEBUG    connect_tcp.complete return_value=<httpcore._backends.sync.SyncStream object at 0x7fb5a82740d0>\n",
      "2025-02-18 15:50:28 httpcore.connection DEBUG    start_tls.started ssl_context=<ssl.SSLContext object at 0x7fb794545520> server_hostname='api.anthropic.com' timeout=600\n",
      "2025-02-18 15:50:28 httpcore.connection DEBUG    start_tls.complete return_value=<httpcore._backends.sync.SyncStream object at 0x7fb58c77eb10>\n",
      "2025-02-18 15:50:28 httpcore.http11 DEBUG    send_request_headers.started request=<Request [b'POST']>\n",
      "2025-02-18 15:50:28 httpcore.http11 DEBUG    send_request_headers.complete\n",
      "2025-02-18 15:50:28 httpcore.http11 DEBUG    send_request_body.started request=<Request [b'POST']>\n",
      "2025-02-18 15:50:28 httpcore.http11 DEBUG    send_request_body.complete\n",
      "2025-02-18 15:50:28 httpcore.http11 DEBUG    receive_response_headers.started request=<Request [b'POST']>\n",
      "2025-02-18 15:50:31 httpcore.http11 DEBUG    receive_response_headers.complete return_value=(b'HTTP/1.1', 200, b'OK', [(b'Date', b'Tue, 18 Feb 2025 20:50:31 GMT'), (b'Content-Type', b'application/json'), (b'Transfer-Encoding', b'chunked'), (b'Connection', b'keep-alive'), (b'anthropic-ratelimit-requests-limit', b'1000'), (b'anthropic-ratelimit-requests-remaining', b'999'), (b'anthropic-ratelimit-requests-reset', b'2025-02-18T20:50:28Z'), (b'anthropic-ratelimit-input-tokens-limit', b'80000'), (b'anthropic-ratelimit-input-tokens-remaining', b'80000'), (b'anthropic-ratelimit-input-tokens-reset', b'2025-02-18T20:50:29Z'), (b'anthropic-ratelimit-output-tokens-limit', b'16000'), (b'anthropic-ratelimit-output-tokens-remaining', b'16000'), (b'anthropic-ratelimit-output-tokens-reset', b'2025-02-18T20:50:31Z'), (b'anthropic-ratelimit-tokens-limit', b'96000'), (b'anthropic-ratelimit-tokens-remaining', b'96000'), (b'anthropic-ratelimit-tokens-reset', b'2025-02-18T20:50:29Z'), (b'request-id', b'req_01PQzshp23BjpLr97ACja3fP'), (b'anthropic-organization-id', b'768cfa46-3909-4737-96ed-23284e95da76'), (b'via', b'1.1 google'), (b'cf-cache-status', b'DYNAMIC'), (b'X-Robots-Tag', b'none'), (b'Server', b'cloudflare'), (b'CF-RAY', b'9140e3bd58873b69-BOS'), (b'Content-Encoding', b'gzip')])\n",
      "2025-02-18 15:50:31 httpx INFO     HTTP Request: POST https://api.anthropic.com/v1/messages \"HTTP/1.1 200 OK\"\n",
      "2025-02-18 15:50:31 httpcore.http11 DEBUG    receive_response_body.started request=<Request [b'POST']>\n",
      "2025-02-18 15:50:31 httpcore.http11 DEBUG    receive_response_body.complete\n",
      "2025-02-18 15:50:31 httpcore.http11 DEBUG    response_closed.started\n",
      "2025-02-18 15:50:31 httpcore.http11 DEBUG    response_closed.complete\n",
      "2025-02-18 15:50:31 anthropic._base_client DEBUG    HTTP Response: POST https://api.anthropic.com/v1/messages \"200 OK\" Headers({'date': 'Tue, 18 Feb 2025 20:50:31 GMT', 'content-type': 'application/json', 'transfer-encoding': 'chunked', 'connection': 'keep-alive', 'anthropic-ratelimit-requests-limit': '1000', 'anthropic-ratelimit-requests-remaining': '999', 'anthropic-ratelimit-requests-reset': '2025-02-18T20:50:28Z', 'anthropic-ratelimit-input-tokens-limit': '80000', 'anthropic-ratelimit-input-tokens-remaining': '80000', 'anthropic-ratelimit-input-tokens-reset': '2025-02-18T20:50:29Z', 'anthropic-ratelimit-output-tokens-limit': '16000', 'anthropic-ratelimit-output-tokens-remaining': '16000', 'anthropic-ratelimit-output-tokens-reset': '2025-02-18T20:50:31Z', 'anthropic-ratelimit-tokens-limit': '96000', 'anthropic-ratelimit-tokens-remaining': '96000', 'anthropic-ratelimit-tokens-reset': '2025-02-18T20:50:29Z', 'request-id': 'req_01PQzshp23BjpLr97ACja3fP', 'anthropic-organization-id': '768cfa46-3909-4737-96ed-23284e95da76', 'via': '1.1 google', 'cf-cache-status': 'DYNAMIC', 'x-robots-tag': 'none', 'server': 'cloudflare', 'cf-ray': '9140e3bd58873b69-BOS', 'content-encoding': 'gzip'})\n",
      "2025-02-18 15:50:31 anthropic._base_client DEBUG    request_id: req_01PQzshp23BjpLr97ACja3fP\n",
      "2025-02-18 15:50:31 src.probing.utils INFO     oracle_response='No. The answer \"explorers\" is too general and vague. While it\\'s technically correct that both Christopher Columbus and Vasco da Gama were explorers, a better connection would highlight their specific shared characteristics or achievements, such as:\\n\\n1. Both were 15th-century maritime explorers\\n2. Both made significant voyages for European powers (Spain and Portugal respectively)\\n3. Both sought new trade routes to Asia (though Columbus accidentally found the Americas)\\n4. Both contributed to the Age of Discovery\\n5. Both led expeditions that changed global trade and cultural exchange\\n\\nSimply stating \"explorers\" doesn\\'t capture the depth and significance of their historical connection.'\n"
     ]
    },
    {
     "data": {
      "text/plain": [
       "False"
      ]
     },
     "execution_count": 10,
     "metadata": {},
     "output_type": "execute_result"
    }
   ],
   "source": [
    "from src.probing.utils import check_if_answer_is_correct\n",
    "\n",
    "check_if_answer_is_correct(\n",
    "    answer = answer,\n",
    "    entities=entities,\n",
    ")"
   ]
  },
  {
   "cell_type": "markdown",
   "metadata": {},
   "source": [
    "## Causal Tracing"
   ]
  },
  {
   "cell_type": "code",
   "execution_count": 81,
   "metadata": {},
   "outputs": [
    {
     "name": "stderr",
     "output_type": "stream",
     "text": [
      "Setting `pad_token_id` to `eos_token_id`:128001 for open-end generation.\n"
     ]
    },
    {
     "name": "stderr",
     "output_type": "stream",
     "text": [
      "Setting `pad_token_id` to `eos_token_id`:128001 for open-end generation.\n"
     ]
    },
    {
     "name": "stdout",
     "output_type": "stream",
     "text": [
      "clean_answer='Portuguese.'\n",
      "patched_answer='explorers.'\n"
     ]
    }
   ],
   "source": [
    "# common_entity = \"Alexander Fleming\"\n",
    "# clean_entity = \"Louis Pasteur\"\n",
    "# patch_entity = \"Andy Murray\" \n",
    "\n",
    "# common_entity = \"Michael Caine\"\n",
    "# clean_entity = \"Morgan Freeman\"\n",
    "# patch_entity = \"Stephen Hawking\"\n",
    "\n",
    "# common_entity = \"Ian McKellen\"\n",
    "# clean_entity = \"Michael Fassbender\"\n",
    "# patch_entity = \"Issac Newton\"\n",
    "\n",
    "# common_entity = \"Brian Cox\"\n",
    "# clean_entity = \"Andy Murray\"\n",
    "# patch_entity = \"Carl Sagan\"\n",
    "\n",
    "# common_entity = \"Natalie Portman\"\n",
    "# clean_entity = \"Julia Roberts\"\n",
    "# patch_entity = \"Bob Dylan\"\n",
    "\n",
    "# common_entity = \"Bob Dylan\"\n",
    "# clean_entity = \"Miles Davis\"\n",
    "# patch_entity = \"Natalie Portman\"\n",
    "\n",
    "# common_entity = \"python\"\n",
    "# clean_entity = \"java\"\n",
    "# patch_entity = \"cobra\"\n",
    "\n",
    "common_entity = \"Vasco da Gama\"\n",
    "clean_entity = \"placeholder\"\n",
    "patch_entity = \"Christopher Columbus\"\n",
    "\n",
    "clean_prompt = prepare_probing_input(\n",
    "    mt=mt,\n",
    "    entities=(clean_entity, common_entity),\n",
    "    # entities=(common_entity, clean_entity),\n",
    "    prefix=prefix,\n",
    "    answer_marker=answer_marker,\n",
    "    question_marker=question_marker,\n",
    "    block_separator=block_separator,\n",
    "    is_a_reasoning_model=\"deepseek\" in model_key.lower(),\n",
    "    answer_prefix=\" They are/were both\",\n",
    "    return_offsets_mapping=True\n",
    ")\n",
    "clean_answer = get_lm_generated_answer(\n",
    "    mt=mt, prompt=clean_prompt, \n",
    "    is_a_reasoning_model=\"deepseek\" in model_key.lower()\n",
    ")\n",
    "print(f\"{clean_answer=}\")\n",
    "\n",
    "patched_prompt = prepare_probing_input(\n",
    "    mt=mt,\n",
    "    entities=(patch_entity, common_entity),\n",
    "    # entities=(common_entity, patch_entity),\n",
    "    prefix=prefix,\n",
    "    answer_marker=answer_marker,\n",
    "    question_marker=question_marker,\n",
    "    block_separator=block_separator,\n",
    "    is_a_reasoning_model=\"deepseek\" in model_key.lower(),\n",
    "    answer_prefix=\" They are/were both\",\n",
    "    return_offsets_mapping=True\n",
    ")\n",
    "patched_answer = get_lm_generated_answer(\n",
    "    mt=mt, prompt=patched_prompt, \n",
    "    is_a_reasoning_model=\"deepseek\" in model_key.lower()\n",
    "    # is_a_reasoning_model=True\n",
    ")\n",
    "print(f\"{patched_answer=}\")"
   ]
  },
  {
   "cell_type": "code",
   "execution_count": 78,
   "metadata": {},
   "outputs": [
    {
     "name": "stdout",
     "output_type": "stream",
     "text": [
      "Given two entities, find a common link or relation between them.\n",
      "If both entities are individuals, the common link can be their profession, nationality, or any other attribute they share. Their relation can be if someone is the student/teacher of the other etc.\n",
      "Similarly, if the entities are places, the common link can be the city, country, or any other attribute they share. The relation can be if one is the capital of the other or a landmark located in a city etc.\n",
      "If there is no connection just answer \"None\".\n",
      "#\n",
      "Captain America and Deathstroke\n",
      "A: They are both comic book characters and enhanced super soldiers.\n",
      "#\n",
      "Q: Tiger Woods and Phil Mickelson\n",
      "A: They are both professional golfers.\n",
      "#\n",
      "Q: Rome and Italy\n",
      "A: Rome is the capital city of Italy.\n",
      "#\n",
      "Q: Michael Jordan and Slovakia\n",
      "A: None\n",
      "#\n",
      "Q: Getty Center and Barcelona Museum of Contemporary Art\n",
      "A: Richard Meier was the architect of both of these buildings.\n",
      "#\n",
      "Q: {} and Vasco da Gama\n",
      "A: They are/were both\n"
     ]
    }
   ],
   "source": [
    "prompt_template = clean_prompt.prompt.replace(clean_entity, \"{}\")\n",
    "print(prompt_template)"
   ]
  },
  {
   "cell_type": "code",
   "execution_count": 79,
   "metadata": {},
   "outputs": [
    {
     "data": {
      "text/plain": [
       "'Given two entities, find a common link or relation between them.\\nIf both entities are individuals, the common link can be their profession, nationality, or any other attribute they share. Their relation can be if someone is the student/teacher of the other etc.\\nSimilarly, if the entities are places, the common link can be the city, country, or any other attribute they share. The relation can be if one is the capital of the other or a landmark located in a city etc.\\nIf there is no connection just answer \"None\".\\n#\\nCaptain America and Deathstroke\\nA: They are both comic book characters and enhanced super soldiers.\\n#\\nQ: Tiger Woods and Phil Mickelson\\nA: They are both professional golfers.\\n#\\nQ: Rome and Italy\\nA: Rome is the capital city of Italy.\\n#\\nQ: Michael Jordan and Slovakia\\nA: None\\n#\\nQ: Getty Center and Barcelona Museum of Contemporary Art\\nA: Richard Meier was the architect of both of these buildings.\\n#\\nQ: {} and Vasco da Gama\\nA: They are/were both'"
      ]
     },
     "execution_count": 79,
     "metadata": {},
     "output_type": "execute_result"
    }
   ],
   "source": [
    "prompt_template"
   ]
  },
  {
   "cell_type": "code",
   "execution_count": null,
   "metadata": {},
   "outputs": [],
   "source": []
  },
  {
   "cell_type": "code",
   "execution_count": 82,
   "metadata": {},
   "outputs": [
    {
     "name": "stdout",
     "output_type": "stream",
     "text": [
      "<class 'transformers.tokenization_utils_fast.PreTrainedTokenizerFast'>\n",
      "2025-02-19 11:32:24 src.trace DEBUG    answer=PredictedToken(token=' explor', prob=0.45458984375, logit=18.71875, token_id=48539)\n",
      "<class 'transformers.tokenization_utils_fast.PreTrainedTokenizerFast'>\n",
      "2025-02-19 11:32:24 src.trace DEBUG    clean_answer=PredictedToken(token=' Portuguese', prob=0.23095703125, logit=16.015625, token_id=43288)\n",
      "2025-02-19 11:32:24 src.trace DEBUG    track_ans=PredictedToken(token=' explor', prob=0.11431884765625, logit=15.3125, token_id=48539)\n",
      "2025-02-19 11:32:24 src.trace DEBUG    ---------- tracing important states ----------\n"
     ]
    },
    {
     "name": "stderr",
     "output_type": "stream",
     "text": [
      "100%|██████████| 640/640 [00:52<00:00, 12.14it/s]"
     ]
    },
    {
     "name": "stdout",
     "output_type": "stream",
     "text": [
      "2025-02-19 11:33:17 src.trace INFO     base_score=18.71875 | low_score=15.3125\n",
      "2025-02-19 11:33:17 matplotlib.colorbar DEBUG    locator: <matplotlib.ticker.AutoLocator object at 0x7fb549add950>\n",
      "2025-02-19 11:33:17 matplotlib.axes._base DEBUG    title position was updated manually, not adjusting\n",
      "2025-02-19 11:33:17 matplotlib.axes._base DEBUG    title position was updated manually, not adjusting\n",
      "2025-02-19 11:33:17 matplotlib.axes._base DEBUG    title position was updated manually, not adjusting\n",
      "2025-02-19 11:33:17 matplotlib.axes._base DEBUG    title position was updated manually, not adjusting\n"
     ]
    },
    {
     "name": "stderr",
     "output_type": "stream",
     "text": [
      "\n"
     ]
    },
    {
     "data": {
      "image/png": "[encoded data removed]",
      "text/plain": [
       "<Figure size 700x680 with 2 Axes>"
      ]
     },
     "metadata": {},
     "output_type": "display_data"
    },
    {
     "name": "stdout",
     "output_type": "stream",
     "text": [
      "<class 'transformers.tokenization_utils_fast.PreTrainedTokenizerFast'>\n",
      "2025-02-19 11:33:17 src.trace DEBUG    answer=PredictedToken(token=' explor', prob=0.45458984375, logit=18.71875, token_id=48539)\n",
      "<class 'transformers.tokenization_utils_fast.PreTrainedTokenizerFast'>\n",
      "2025-02-19 11:33:18 src.trace DEBUG    clean_answer=PredictedToken(token=' Portuguese', prob=0.23095703125, logit=16.015625, token_id=43288)\n",
      "2025-02-19 11:33:18 src.trace DEBUG    track_ans=PredictedToken(token=' explor', prob=0.11431884765625, logit=15.3125, token_id=48539)\n",
      "2025-02-19 11:33:18 src.trace DEBUG    ---------- tracing important states ----------\n"
     ]
    },
    {
     "name": "stderr",
     "output_type": "stream",
     "text": [
      "100%|██████████| 640/640 [00:54<00:00, 11.77it/s]"
     ]
    },
    {
     "name": "stdout",
     "output_type": "stream",
     "text": [
      "2025-02-19 11:34:12 src.trace INFO     base_score=18.71875 | low_score=15.3125\n",
      "2025-02-19 11:34:12 matplotlib.colorbar DEBUG    locator: <matplotlib.ticker.AutoLocator object at 0x7fb54bcf99d0>\n",
      "2025-02-19 11:34:12 matplotlib.axes._base DEBUG    title position was updated manually, not adjusting\n",
      "2025-02-19 11:34:12 matplotlib.axes._base DEBUG    title position was updated manually, not adjusting\n",
      "2025-02-19 11:34:12 matplotlib.axes._base DEBUG    title position was updated manually, not adjusting\n"
     ]
    },
    {
     "name": "stderr",
     "output_type": "stream",
     "text": [
      "\n"
     ]
    },
    {
     "name": "stdout",
     "output_type": "stream",
     "text": [
      "2025-02-19 11:34:12 matplotlib.axes._base DEBUG    title position was updated manually, not adjusting\n"
     ]
    },
    {
     "data": {
      "image/png": "[encoded data removed]",
      "text/plain": [
       "<Figure size 700x680 with 2 Axes>"
      ]
     },
     "metadata": {},
     "output_type": "display_data"
    },
    {
     "name": "stdout",
     "output_type": "stream",
     "text": [
      "<class 'transformers.tokenization_utils_fast.PreTrainedTokenizerFast'>\n",
      "2025-02-19 11:34:13 src.trace DEBUG    answer=PredictedToken(token=' explor', prob=0.45458984375, logit=18.71875, token_id=48539)\n",
      "<class 'transformers.tokenization_utils_fast.PreTrainedTokenizerFast'>\n",
      "2025-02-19 11:34:13 src.trace DEBUG    clean_answer=PredictedToken(token=' Portuguese', prob=0.23095703125, logit=16.015625, token_id=43288)\n",
      "2025-02-19 11:34:13 src.trace DEBUG    track_ans=PredictedToken(token=' explor', prob=0.11431884765625, logit=15.3125, token_id=48539)\n",
      "2025-02-19 11:34:13 src.trace DEBUG    ---------- tracing important states ----------\n"
     ]
    },
    {
     "name": "stderr",
     "output_type": "stream",
     "text": [
      "100%|██████████| 640/640 [00:54<00:00, 11.73it/s]"
     ]
    },
    {
     "name": "stdout",
     "output_type": "stream",
     "text": [
      "2025-02-19 11:35:08 src.trace INFO     base_score=18.71875 | low_score=15.3125\n",
      "2025-02-19 11:35:08 matplotlib.colorbar DEBUG    locator: <matplotlib.ticker.AutoLocator object at 0x7fb54bec4690>\n",
      "2025-02-19 11:35:08 matplotlib.axes._base DEBUG    title position was updated manually, not adjusting\n",
      "2025-02-19 11:35:08 matplotlib.axes._base DEBUG    title position was updated manually, not adjusting\n",
      "2025-02-19 11:35:08 matplotlib.axes._base DEBUG    title position was updated manually, not adjusting\n",
      "2025-02-19 11:35:08 matplotlib.axes._base DEBUG    title position was updated manually, not adjusting\n"
     ]
    },
    {
     "name": "stderr",
     "output_type": "stream",
     "text": [
      "\n"
     ]
    },
    {
     "data": {
      "image/png": "[encoded data removed]",
      "text/plain": [
       "<Figure size 700x680 with 2 Axes>"
      ]
     },
     "metadata": {},
     "output_type": "display_data"
    }
   ],
   "source": [
    "from src.trace import trace_important_states\n",
    "from src.utils.typing import TokenizerOutput\n",
    "from src.plotting import plot_trace_heatmap\n",
    "from src.functional import predict_next_token\n",
    "\n",
    "for kind in [\"residual\", \"mlp\", \"attention\"]:\n",
    "    trace_results = trace_important_states(\n",
    "        mt=mt,\n",
    "        prompt_template=prompt_template,\n",
    "        clean_subj=clean_entity,\n",
    "        patched_subj=patch_entity,\n",
    "        clean_input=TokenizerOutput(data=clean_prompt.tokenized),\n",
    "        patched_input=TokenizerOutput(data=patched_prompt.tokenized),\n",
    "        trace_start_marker=\"#\",\n",
    "        metric=\"logit\",\n",
    "        normalize=True,\n",
    "        kind=kind,\n",
    "        window_size=1 if kind == \"residual\" else 5,\n",
    "    )\n",
    "\n",
    "    plot_trace_heatmap(\n",
    "        result=trace_results,\n",
    "        model_name=model_key.split(\"/\")[-1],\n",
    "        scale_range=(0, 1) if trace_results.normalized == True else None\n",
    "    )"
   ]
  },
  {
   "cell_type": "code",
   "execution_count": 17,
   "metadata": {},
   "outputs": [],
   "source": [
    "from src.functional import detensorize\n",
    "import numpy as np\n",
    "\n",
    "trace_results_dten = detensorize(trace_results)\n",
    "\n",
    "np.savez_compressed(\n",
    "    \"test.npz\",\n",
    "    **trace_results_dten.__dict__,\n",
    "    allow_pickle=True\n",
    ")"
   ]
  },
  {
   "cell_type": "code",
   "execution_count": 26,
   "metadata": {},
   "outputs": [],
   "source": [
    "# npz_file = np.load(\"test.npz\", allow_pickle=True)\n",
    "# npz_file.files"
   ]
  },
  {
   "cell_type": "code",
   "execution_count": 25,
   "metadata": {},
   "outputs": [],
   "source": [
    "# from src.trace import CausalTracingResult\n",
    "# trace_results_ten = CausalTracingResult.from_npz(file=npz_file)\n",
    "\n",
    "# plot_trace_heatmap(\n",
    "#     result=trace_results,\n",
    "#     model_name=model_key.split(\"/\")[-1],\n",
    "#     scale_range=(0, 1) if trace_results.normalized == True else None\n",
    "# )"
   ]
  },
  {
   "cell_type": "code",
   "execution_count": 22,
   "metadata": {},
   "outputs": [
    {
     "name": "stdout",
     "output_type": "stream",
     "text": [
      "2025-02-18 15:58:25 __main__ INFO     len(coincidences['examples'])=20\n"
     ]
    }
   ],
   "source": [
    "with open(os.path.join(env_utils.DEFAULT_DATA_DIR, \"coincidences_sample.json\")) as f:\n",
    "    coincidences = json.load(f)\n",
    "\n",
    "logger.info(f\"{len(coincidences['examples'])=}\")"
   ]
  },
  {
   "cell_type": "code",
   "execution_count": 29,
   "metadata": {},
   "outputs": [
    {
     "data": {
      "text/plain": [
       "{'entity_pair': ['Hugh Jackman', 'Ryan Reynolds'],\n",
       " 'connection': 'X-men characters.'}"
      ]
     },
     "execution_count": 29,
     "metadata": {},
     "output_type": "execute_result"
    }
   ],
   "source": [
    "coincidences['examples'][1]"
   ]
  },
  {
   "cell_type": "code",
   "execution_count": 130,
   "metadata": {},
   "outputs": [
    {
     "name": "stdout",
     "output_type": "stream",
     "text": [
      "2025-02-19 12:38:29 __main__ INFO     (1/20)  entities=['Germany', 'Japan']\n"
     ]
    },
    {
     "name": "stderr",
     "output_type": "stream",
     "text": [
      "/home/local_arnab/miniconda3/envs/retrieval/lib/python3.11/site-packages/transformers/generation/configuration_utils.py:628: UserWarning: `do_sample` is set to `False`. However, `temperature` is set to `0.6` -- this flag is only used in sample-based generation modes. You should set `do_sample=True` or unset `temperature`.\n",
      "  warnings.warn(\n",
      "/home/local_arnab/miniconda3/envs/retrieval/lib/python3.11/site-packages/transformers/generation/configuration_utils.py:633: UserWarning: `do_sample` is set to `False`. However, `top_p` is set to `0.9` -- this flag is only used in sample-based generation modes. You should set `do_sample=True` or unset `top_p`.\n",
      "  warnings.warn(\n",
      "Setting `pad_token_id` to `eos_token_id`:128001 for open-end generation.\n"
     ]
    },
    {
     "name": "stdout",
     "output_type": "stream",
     "text": [
      "2025-02-19 12:38:31 __main__ INFO     (placeholder, Japan) => countries.\n"
     ]
    },
    {
     "name": "stderr",
     "output_type": "stream",
     "text": [
      "Setting `pad_token_id` to `eos_token_id`:128001 for open-end generation.\n"
     ]
    },
    {
     "name": "stdout",
     "output_type": "stream",
     "text": [
      "2025-02-19 12:38:32 __main__ INFO     (Germany, Japan) => Axis powers in World War II.\n",
      "<class 'transformers.tokenization_utils_fast.PreTrainedTokenizerFast'>\n",
      "2025-02-19 12:38:33 src.trace DEBUG    answer=PredictedToken(token=' Axis', prob=0.2440185546875, logit=16.1875, token_id=35574)\n",
      "<class 'transformers.tokenization_utils_fast.PreTrainedTokenizerFast'>\n",
      "2025-02-19 12:38:33 src.trace DEBUG    clean_answer=PredictedToken(token=' countries', prob=0.11688232421875, logit=13.296875, token_id=5961)\n",
      "2025-02-19 12:38:33 src.trace DEBUG    track_ans=PredictedToken(token=' Axis', prob=1.4424324035644531e-05, logit=4.296875, token_id=35574)\n",
      "2025-02-19 12:38:33 src.trace DEBUG    ---------- tracing important states ----------\n"
     ]
    },
    {
     "name": "stderr",
     "output_type": "stream",
     "text": [
      "100%|██████████| 480/480 [00:28<00:00, 16.94it/s]"
     ]
    },
    {
     "name": "stdout",
     "output_type": "stream",
     "text": [
      "2025-02-19 12:39:01 src.trace INFO     base_score=16.1875 | low_score=4.296875\n"
     ]
    },
    {
     "name": "stderr",
     "output_type": "stream",
     "text": [
      "\n"
     ]
    },
    {
     "name": "stdout",
     "output_type": "stream",
     "text": [
      "saving to >>  /home/local_arnab/Codes/Projects/retrieval/results/causal_tracing_test/residual\n",
      "<class 'transformers.tokenization_utils_fast.PreTrainedTokenizerFast'>\n",
      "2025-02-19 12:39:02 src.trace DEBUG    answer=PredictedToken(token=' Axis', prob=0.2440185546875, logit=16.1875, token_id=35574)\n",
      "<class 'transformers.tokenization_utils_fast.PreTrainedTokenizerFast'>\n",
      "2025-02-19 12:39:02 src.trace DEBUG    clean_answer=PredictedToken(token=' countries', prob=0.11688232421875, logit=13.296875, token_id=5961)\n",
      "2025-02-19 12:39:02 src.trace DEBUG    track_ans=PredictedToken(token=' Axis', prob=1.4424324035644531e-05, logit=4.296875, token_id=35574)\n",
      "2025-02-19 12:39:02 src.trace DEBUG    ---------- tracing important states ----------\n"
     ]
    },
    {
     "name": "stderr",
     "output_type": "stream",
     "text": [
      "100%|██████████| 480/480 [00:29<00:00, 16.38it/s]"
     ]
    },
    {
     "name": "stdout",
     "output_type": "stream",
     "text": [
      "2025-02-19 12:39:31 src.trace INFO     base_score=16.1875 | low_score=4.296875\n"
     ]
    },
    {
     "name": "stderr",
     "output_type": "stream",
     "text": [
      "\n"
     ]
    },
    {
     "name": "stdout",
     "output_type": "stream",
     "text": [
      "saving to >>  /home/local_arnab/Codes/Projects/retrieval/results/causal_tracing_test/mlp\n",
      "<class 'transformers.tokenization_utils_fast.PreTrainedTokenizerFast'>\n",
      "2025-02-19 12:39:32 src.trace DEBUG    answer=PredictedToken(token=' Axis', prob=0.2440185546875, logit=16.1875, token_id=35574)\n",
      "<class 'transformers.tokenization_utils_fast.PreTrainedTokenizerFast'>\n",
      "2025-02-19 12:39:33 src.trace DEBUG    clean_answer=PredictedToken(token=' countries', prob=0.11688232421875, logit=13.296875, token_id=5961)\n",
      "2025-02-19 12:39:33 src.trace DEBUG    track_ans=PredictedToken(token=' Axis', prob=1.4424324035644531e-05, logit=4.296875, token_id=35574)\n",
      "2025-02-19 12:39:33 src.trace DEBUG    ---------- tracing important states ----------\n"
     ]
    },
    {
     "name": "stderr",
     "output_type": "stream",
     "text": [
      "100%|██████████| 480/480 [00:30<00:00, 15.95it/s]"
     ]
    },
    {
     "name": "stdout",
     "output_type": "stream",
     "text": [
      "2025-02-19 12:40:03 src.trace INFO     base_score=16.1875 | low_score=4.296875\n"
     ]
    },
    {
     "name": "stderr",
     "output_type": "stream",
     "text": [
      "\n"
     ]
    },
    {
     "name": "stdout",
     "output_type": "stream",
     "text": [
      "saving to >>  /home/local_arnab/Codes/Projects/retrieval/results/causal_tracing_test/attention\n",
      "----------------------------------------------------------------------------------------------------\n",
      "\n",
      "\n",
      "2025-02-19 12:40:03 __main__ INFO     (2/20)  entities=['Hugh Jackman', 'Ryan Reynolds']\n"
     ]
    },
    {
     "name": "stderr",
     "output_type": "stream",
     "text": [
      "/home/local_arnab/miniconda3/envs/retrieval/lib/python3.11/site-packages/transformers/generation/configuration_utils.py:628: UserWarning: `do_sample` is set to `False`. However, `temperature` is set to `0.6` -- this flag is only used in sample-based generation modes. You should set `do_sample=True` or unset `temperature`.\n",
      "  warnings.warn(\n",
      "/home/local_arnab/miniconda3/envs/retrieval/lib/python3.11/site-packages/transformers/generation/configuration_utils.py:633: UserWarning: `do_sample` is set to `False`. However, `top_p` is set to `0.9` -- this flag is only used in sample-based generation modes. You should set `do_sample=True` or unset `top_p`.\n",
      "  warnings.warn(\n",
      "Setting `pad_token_id` to `eos_token_id`:128001 for open-end generation.\n"
     ]
    },
    {
     "name": "stdout",
     "output_type": "stream",
     "text": [
      "2025-02-19 12:40:05 __main__ INFO     (placeholder, Ryan Reynolds) => actors.\n"
     ]
    },
    {
     "name": "stderr",
     "output_type": "stream",
     "text": [
      "Setting `pad_token_id` to `eos_token_id`:128001 for open-end generation.\n"
     ]
    },
    {
     "name": "stdout",
     "output_type": "stream",
     "text": [
      "2025-02-19 12:40:06 __main__ INFO     (Hugh Jackman, Ryan Reynolds) => X-Men characters.\n",
      "<class 'transformers.tokenization_utils_fast.PreTrainedTokenizerFast'>\n",
      "2025-02-19 12:40:06 src.trace DEBUG    answer=PredictedToken(token=' X', prob=0.15087890625, logit=15.5859375, token_id=1630)\n",
      "<class 'transformers.tokenization_utils_fast.PreTrainedTokenizerFast'>\n",
      "2025-02-19 12:40:07 src.trace DEBUG    clean_answer=PredictedToken(token=' actors', prob=0.2154541015625, logit=15.0703125, token_id=20142)\n",
      "2025-02-19 12:40:07 src.trace DEBUG    track_ans=PredictedToken(token=' X', prob=0.006816864013671875, logit=11.6171875, token_id=1630)\n",
      "2025-02-19 12:40:07 src.trace DEBUG    ---------- tracing important states ----------\n"
     ]
    },
    {
     "name": "stderr",
     "output_type": "stream",
     "text": [
      "100%|██████████| 576/576 [00:36<00:00, 15.64it/s]"
     ]
    },
    {
     "name": "stdout",
     "output_type": "stream",
     "text": [
      "2025-02-19 12:40:43 src.trace INFO     base_score=15.5859375 | low_score=11.6171875\n"
     ]
    },
    {
     "name": "stderr",
     "output_type": "stream",
     "text": [
      "\n"
     ]
    },
    {
     "name": "stdout",
     "output_type": "stream",
     "text": [
      "saving to >>  /home/local_arnab/Codes/Projects/retrieval/results/causal_tracing_test/residual\n",
      "<class 'transformers.tokenization_utils_fast.PreTrainedTokenizerFast'>\n",
      "2025-02-19 12:40:44 src.trace DEBUG    answer=PredictedToken(token=' X', prob=0.15087890625, logit=15.5859375, token_id=1630)\n",
      "<class 'transformers.tokenization_utils_fast.PreTrainedTokenizerFast'>\n",
      "2025-02-19 12:40:44 src.trace DEBUG    clean_answer=PredictedToken(token=' actors', prob=0.2154541015625, logit=15.0703125, token_id=20142)\n",
      "2025-02-19 12:40:44 src.trace DEBUG    track_ans=PredictedToken(token=' X', prob=0.006816864013671875, logit=11.6171875, token_id=1630)\n",
      "2025-02-19 12:40:44 src.trace DEBUG    ---------- tracing important states ----------\n"
     ]
    },
    {
     "name": "stderr",
     "output_type": "stream",
     "text": [
      "100%|██████████| 576/576 [00:37<00:00, 15.37it/s]"
     ]
    },
    {
     "name": "stdout",
     "output_type": "stream",
     "text": [
      "2025-02-19 12:41:22 src.trace INFO     base_score=15.5859375 | low_score=11.6171875\n"
     ]
    },
    {
     "name": "stderr",
     "output_type": "stream",
     "text": [
      "\n"
     ]
    },
    {
     "name": "stdout",
     "output_type": "stream",
     "text": [
      "saving to >>  /home/local_arnab/Codes/Projects/retrieval/results/causal_tracing_test/mlp\n",
      "<class 'transformers.tokenization_utils_fast.PreTrainedTokenizerFast'>\n",
      "2025-02-19 12:41:23 src.trace DEBUG    answer=PredictedToken(token=' X', prob=0.15087890625, logit=15.5859375, token_id=1630)\n",
      "<class 'transformers.tokenization_utils_fast.PreTrainedTokenizerFast'>\n",
      "2025-02-19 12:41:23 src.trace DEBUG    clean_answer=PredictedToken(token=' actors', prob=0.2154541015625, logit=15.0703125, token_id=20142)\n",
      "2025-02-19 12:41:23 src.trace DEBUG    track_ans=PredictedToken(token=' X', prob=0.006816864013671875, logit=11.6171875, token_id=1630)\n",
      "2025-02-19 12:41:23 src.trace DEBUG    ---------- tracing important states ----------\n"
     ]
    },
    {
     "name": "stderr",
     "output_type": "stream",
     "text": [
      "100%|██████████| 576/576 [00:37<00:00, 15.25it/s]"
     ]
    },
    {
     "name": "stdout",
     "output_type": "stream",
     "text": [
      "2025-02-19 12:42:01 src.trace INFO     base_score=15.5859375 | low_score=11.6171875\n"
     ]
    },
    {
     "name": "stderr",
     "output_type": "stream",
     "text": [
      "\n"
     ]
    },
    {
     "name": "stdout",
     "output_type": "stream",
     "text": [
      "saving to >>  /home/local_arnab/Codes/Projects/retrieval/results/causal_tracing_test/attention\n",
      "----------------------------------------------------------------------------------------------------\n",
      "\n",
      "\n",
      "2025-02-19 12:42:01 __main__ INFO     (3/20)  entities=['Bhutan', 'Tuvalu']\n"
     ]
    },
    {
     "name": "stderr",
     "output_type": "stream",
     "text": [
      "/home/local_arnab/miniconda3/envs/retrieval/lib/python3.11/site-packages/transformers/generation/configuration_utils.py:628: UserWarning: `do_sample` is set to `False`. However, `temperature` is set to `0.6` -- this flag is only used in sample-based generation modes. You should set `do_sample=True` or unset `temperature`.\n",
      "  warnings.warn(\n",
      "/home/local_arnab/miniconda3/envs/retrieval/lib/python3.11/site-packages/transformers/generation/configuration_utils.py:633: UserWarning: `do_sample` is set to `False`. However, `top_p` is set to `0.9` -- this flag is only used in sample-based generation modes. You should set `do_sample=True` or unset `top_p`.\n",
      "  warnings.warn(\n",
      "Setting `pad_token_id` to `eos_token_id`:128001 for open-end generation.\n"
     ]
    },
    {
     "name": "stdout",
     "output_type": "stream",
     "text": [
      "2025-02-19 12:42:03 __main__ INFO     (placeholder, Tuvalu) => countries.\n"
     ]
    },
    {
     "name": "stderr",
     "output_type": "stream",
     "text": [
      "Setting `pad_token_id` to `eos_token_id`:128001 for open-end generation.\n"
     ]
    },
    {
     "name": "stdout",
     "output_type": "stream",
     "text": [
      "2025-02-19 12:42:04 __main__ INFO     (Bhutan, Tuvalu) => monarchies.\n",
      "<class 'transformers.tokenization_utils_fast.PreTrainedTokenizerFast'>\n",
      "2025-02-19 12:42:04 src.trace DEBUG    answer=PredictedToken(token=' monarch', prob=0.1822509765625, logit=16.046875, token_id=63854)\n",
      "<class 'transformers.tokenization_utils_fast.PreTrainedTokenizerFast'>\n",
      "2025-02-19 12:42:05 src.trace DEBUG    clean_answer=PredictedToken(token=' countries', prob=0.1409912109375, logit=14.703125, token_id=5961)\n",
      "2025-02-19 12:42:05 src.trace DEBUG    track_ans=PredictedToken(token=' monarch', prob=0.0032634735107421875, logit=10.9375, token_id=63854)\n",
      "2025-02-19 12:42:05 src.trace DEBUG    ---------- tracing important states ----------\n"
     ]
    },
    {
     "name": "stderr",
     "output_type": "stream",
     "text": [
      "100%|██████████| 544/544 [00:34<00:00, 15.92it/s]"
     ]
    },
    {
     "name": "stdout",
     "output_type": "stream",
     "text": [
      "2025-02-19 12:42:39 src.trace INFO     base_score=16.046875 | low_score=10.9375\n"
     ]
    },
    {
     "name": "stderr",
     "output_type": "stream",
     "text": [
      "\n"
     ]
    },
    {
     "name": "stdout",
     "output_type": "stream",
     "text": [
      "saving to >>  /home/local_arnab/Codes/Projects/retrieval/results/causal_tracing_test/residual\n",
      "<class 'transformers.tokenization_utils_fast.PreTrainedTokenizerFast'>\n",
      "2025-02-19 12:42:40 src.trace DEBUG    answer=PredictedToken(token=' monarch', prob=0.1822509765625, logit=16.046875, token_id=63854)\n",
      "<class 'transformers.tokenization_utils_fast.PreTrainedTokenizerFast'>\n",
      "2025-02-19 12:42:40 src.trace DEBUG    clean_answer=PredictedToken(token=' countries', prob=0.1409912109375, logit=14.703125, token_id=5961)\n",
      "2025-02-19 12:42:40 src.trace DEBUG    track_ans=PredictedToken(token=' monarch', prob=0.0032634735107421875, logit=10.9375, token_id=63854)\n",
      "2025-02-19 12:42:40 src.trace DEBUG    ---------- tracing important states ----------\n"
     ]
    },
    {
     "name": "stderr",
     "output_type": "stream",
     "text": [
      "100%|██████████| 544/544 [00:34<00:00, 15.75it/s]"
     ]
    },
    {
     "name": "stdout",
     "output_type": "stream",
     "text": [
      "2025-02-19 12:43:15 src.trace INFO     base_score=16.046875 | low_score=10.9375\n"
     ]
    },
    {
     "name": "stderr",
     "output_type": "stream",
     "text": [
      "\n"
     ]
    },
    {
     "name": "stdout",
     "output_type": "stream",
     "text": [
      "saving to >>  /home/local_arnab/Codes/Projects/retrieval/results/causal_tracing_test/mlp\n",
      "<class 'transformers.tokenization_utils_fast.PreTrainedTokenizerFast'>\n",
      "2025-02-19 12:43:15 src.trace DEBUG    answer=PredictedToken(token=' monarch', prob=0.1822509765625, logit=16.046875, token_id=63854)\n",
      "<class 'transformers.tokenization_utils_fast.PreTrainedTokenizerFast'>\n",
      "2025-02-19 12:43:16 src.trace DEBUG    clean_answer=PredictedToken(token=' countries', prob=0.1409912109375, logit=14.703125, token_id=5961)\n",
      "2025-02-19 12:43:16 src.trace DEBUG    track_ans=PredictedToken(token=' monarch', prob=0.0032634735107421875, logit=10.9375, token_id=63854)\n",
      "2025-02-19 12:43:16 src.trace DEBUG    ---------- tracing important states ----------\n"
     ]
    },
    {
     "name": "stderr",
     "output_type": "stream",
     "text": [
      "100%|██████████| 544/544 [00:35<00:00, 15.52it/s]"
     ]
    },
    {
     "name": "stdout",
     "output_type": "stream",
     "text": [
      "2025-02-19 12:43:51 src.trace INFO     base_score=16.046875 | low_score=10.9375\n"
     ]
    },
    {
     "name": "stderr",
     "output_type": "stream",
     "text": [
      "\n"
     ]
    },
    {
     "name": "stdout",
     "output_type": "stream",
     "text": [
      "saving to >>  /home/local_arnab/Codes/Projects/retrieval/results/causal_tracing_test/attention\n",
      "----------------------------------------------------------------------------------------------------\n",
      "\n",
      "\n",
      "2025-02-19 12:43:51 __main__ INFO     (4/20)  entities=['Vatican City', 'Mount Athos']\n"
     ]
    },
    {
     "name": "stderr",
     "output_type": "stream",
     "text": [
      "/home/local_arnab/miniconda3/envs/retrieval/lib/python3.11/site-packages/transformers/generation/configuration_utils.py:628: UserWarning: `do_sample` is set to `False`. However, `temperature` is set to `0.6` -- this flag is only used in sample-based generation modes. You should set `do_sample=True` or unset `temperature`.\n",
      "  warnings.warn(\n",
      "/home/local_arnab/miniconda3/envs/retrieval/lib/python3.11/site-packages/transformers/generation/configuration_utils.py:633: UserWarning: `do_sample` is set to `False`. However, `top_p` is set to `0.9` -- this flag is only used in sample-based generation modes. You should set `do_sample=True` or unset `top_p`.\n",
      "  warnings.warn(\n",
      "Setting `pad_token_id` to `eos_token_id`:128001 for open-end generation.\n"
     ]
    },
    {
     "name": "stdout",
     "output_type": "stream",
     "text": [
      "2025-02-19 12:43:53 __main__ INFO     (placeholder, Mount Athos) => monasteries.\n"
     ]
    },
    {
     "name": "stderr",
     "output_type": "stream",
     "text": [
      "Setting `pad_token_id` to `eos_token_id`:128001 for open-end generation.\n"
     ]
    },
    {
     "name": "stdout",
     "output_type": "stream",
     "text": [
      "2025-02-19 12:43:54 __main__ INFO     (Vatican City, Mount Athos) => independent states.\n",
      "<class 'transformers.tokenization_utils_fast.PreTrainedTokenizerFast'>\n",
      "2025-02-19 12:43:55 src.trace DEBUG    answer=PredictedToken(token=' independent', prob=0.121826171875, logit=15.4296875, token_id=9678)\n",
      "<class 'transformers.tokenization_utils_fast.PreTrainedTokenizerFast'>\n",
      "2025-02-19 12:43:55 src.trace DEBUG    clean_answer=PredictedToken(token=' mon', prob=0.1280517578125, logit=14.53125, token_id=1647)\n",
      "2025-02-19 12:43:55 src.trace DEBUG    track_ans=PredictedToken(token=' independent', prob=0.00844573974609375, logit=11.8125, token_id=9678)\n",
      "2025-02-19 12:43:55 src.trace DEBUG    ---------- tracing important states ----------\n"
     ]
    },
    {
     "name": "stderr",
     "output_type": "stream",
     "text": [
      "100%|██████████| 576/576 [00:37<00:00, 15.42it/s]"
     ]
    },
    {
     "name": "stdout",
     "output_type": "stream",
     "text": [
      "2025-02-19 12:44:32 src.trace INFO     base_score=15.4296875 | low_score=11.8125\n"
     ]
    },
    {
     "name": "stderr",
     "output_type": "stream",
     "text": [
      "\n"
     ]
    },
    {
     "name": "stdout",
     "output_type": "stream",
     "text": [
      "saving to >>  /home/local_arnab/Codes/Projects/retrieval/results/causal_tracing_test/residual\n",
      "<class 'transformers.tokenization_utils_fast.PreTrainedTokenizerFast'>\n",
      "2025-02-19 12:44:33 src.trace DEBUG    answer=PredictedToken(token=' independent', prob=0.121826171875, logit=15.4296875, token_id=9678)\n",
      "<class 'transformers.tokenization_utils_fast.PreTrainedTokenizerFast'>\n",
      "2025-02-19 12:44:33 src.trace DEBUG    clean_answer=PredictedToken(token=' mon', prob=0.1280517578125, logit=14.53125, token_id=1647)\n",
      "2025-02-19 12:44:33 src.trace DEBUG    track_ans=PredictedToken(token=' independent', prob=0.00844573974609375, logit=11.8125, token_id=9678)\n",
      "2025-02-19 12:44:33 src.trace DEBUG    ---------- tracing important states ----------\n"
     ]
    },
    {
     "name": "stderr",
     "output_type": "stream",
     "text": [
      "100%|██████████| 576/576 [00:37<00:00, 15.35it/s]"
     ]
    },
    {
     "name": "stdout",
     "output_type": "stream",
     "text": [
      "2025-02-19 12:45:11 src.trace INFO     base_score=15.4296875 | low_score=11.8125\n"
     ]
    },
    {
     "name": "stderr",
     "output_type": "stream",
     "text": [
      "\n"
     ]
    },
    {
     "name": "stdout",
     "output_type": "stream",
     "text": [
      "saving to >>  /home/local_arnab/Codes/Projects/retrieval/results/causal_tracing_test/mlp\n",
      "<class 'transformers.tokenization_utils_fast.PreTrainedTokenizerFast'>\n",
      "2025-02-19 12:45:12 src.trace DEBUG    answer=PredictedToken(token=' independent', prob=0.121826171875, logit=15.4296875, token_id=9678)\n",
      "<class 'transformers.tokenization_utils_fast.PreTrainedTokenizerFast'>\n",
      "2025-02-19 12:45:12 src.trace DEBUG    clean_answer=PredictedToken(token=' mon', prob=0.1280517578125, logit=14.53125, token_id=1647)\n",
      "2025-02-19 12:45:12 src.trace DEBUG    track_ans=PredictedToken(token=' independent', prob=0.00844573974609375, logit=11.8125, token_id=9678)\n",
      "2025-02-19 12:45:12 src.trace DEBUG    ---------- tracing important states ----------\n"
     ]
    },
    {
     "name": "stderr",
     "output_type": "stream",
     "text": [
      "100%|██████████| 576/576 [00:37<00:00, 15.23it/s]"
     ]
    },
    {
     "name": "stdout",
     "output_type": "stream",
     "text": [
      "2025-02-19 12:45:50 src.trace INFO     base_score=15.4296875 | low_score=11.8125\n"
     ]
    },
    {
     "name": "stderr",
     "output_type": "stream",
     "text": [
      "\n"
     ]
    },
    {
     "name": "stdout",
     "output_type": "stream",
     "text": [
      "saving to >>  /home/local_arnab/Codes/Projects/retrieval/results/causal_tracing_test/attention\n",
      "----------------------------------------------------------------------------------------------------\n",
      "\n",
      "\n",
      "2025-02-19 12:45:50 __main__ INFO     (5/20)  entities=['Rosetta Stone', 'Dead Sea Scrolls']\n"
     ]
    },
    {
     "name": "stderr",
     "output_type": "stream",
     "text": [
      "/home/local_arnab/miniconda3/envs/retrieval/lib/python3.11/site-packages/transformers/generation/configuration_utils.py:628: UserWarning: `do_sample` is set to `False`. However, `temperature` is set to `0.6` -- this flag is only used in sample-based generation modes. You should set `do_sample=True` or unset `temperature`.\n",
      "  warnings.warn(\n",
      "/home/local_arnab/miniconda3/envs/retrieval/lib/python3.11/site-packages/transformers/generation/configuration_utils.py:633: UserWarning: `do_sample` is set to `False`. However, `top_p` is set to `0.9` -- this flag is only used in sample-based generation modes. You should set `do_sample=True` or unset `top_p`.\n",
      "  warnings.warn(\n",
      "Setting `pad_token_id` to `eos_token_id`:128001 for open-end generation.\n"
     ]
    },
    {
     "name": "stdout",
     "output_type": "stream",
     "text": [
      "2025-02-19 12:45:52 __main__ INFO     (placeholder, Dead Sea Scrolls) => artifacts.\n"
     ]
    },
    {
     "name": "stderr",
     "output_type": "stream",
     "text": [
      "Setting `pad_token_id` to `eos_token_id`:128001 for open-end generation.\n"
     ]
    },
    {
     "name": "stdout",
     "output_type": "stream",
     "text": [
      "2025-02-19 12:45:53 __main__ INFO     (Rosetta Stone, Dead Sea Scrolls) => ancient artifacts.\n",
      "<class 'transformers.tokenization_utils_fast.PreTrainedTokenizerFast'>\n",
      "2025-02-19 12:45:54 src.trace DEBUG    answer=PredictedToken(token=' ancient', prob=0.3876953125, logit=17.703125, token_id=14154)\n",
      "<class 'transformers.tokenization_utils_fast.PreTrainedTokenizerFast'>\n",
      "2025-02-19 12:45:54 src.trace DEBUG    clean_answer=PredictedToken(token=' religious', prob=0.091796875, logit=15.1171875, token_id=10597)\n",
      "2025-02-19 12:45:54 src.trace DEBUG    track_ans=PredictedToken(token=' ancient', prob=0.087646484375, logit=15.0703125, token_id=14154)\n",
      "2025-02-19 12:45:54 src.trace DEBUG    ---------- tracing important states ----------\n"
     ]
    },
    {
     "name": "stderr",
     "output_type": "stream",
     "text": [
      "100%|██████████| 608/608 [00:39<00:00, 15.51it/s]"
     ]
    },
    {
     "name": "stdout",
     "output_type": "stream",
     "text": [
      "2025-02-19 12:46:33 src.trace INFO     base_score=17.703125 | low_score=15.0703125\n"
     ]
    },
    {
     "name": "stderr",
     "output_type": "stream",
     "text": [
      "\n"
     ]
    },
    {
     "name": "stdout",
     "output_type": "stream",
     "text": [
      "saving to >>  /home/local_arnab/Codes/Projects/retrieval/results/causal_tracing_test/residual\n",
      "<class 'transformers.tokenization_utils_fast.PreTrainedTokenizerFast'>\n",
      "2025-02-19 12:46:34 src.trace DEBUG    answer=PredictedToken(token=' ancient', prob=0.3876953125, logit=17.703125, token_id=14154)\n",
      "<class 'transformers.tokenization_utils_fast.PreTrainedTokenizerFast'>\n",
      "2025-02-19 12:46:34 src.trace DEBUG    clean_answer=PredictedToken(token=' religious', prob=0.091796875, logit=15.1171875, token_id=10597)\n",
      "2025-02-19 12:46:34 src.trace DEBUG    track_ans=PredictedToken(token=' ancient', prob=0.087646484375, logit=15.0703125, token_id=14154)\n",
      "2025-02-19 12:46:34 src.trace DEBUG    ---------- tracing important states ----------\n"
     ]
    },
    {
     "name": "stderr",
     "output_type": "stream",
     "text": [
      "100%|██████████| 608/608 [00:39<00:00, 15.30it/s]"
     ]
    },
    {
     "name": "stdout",
     "output_type": "stream",
     "text": [
      "2025-02-19 12:47:14 src.trace INFO     base_score=17.703125 | low_score=15.0703125\n"
     ]
    },
    {
     "name": "stderr",
     "output_type": "stream",
     "text": [
      "\n"
     ]
    },
    {
     "name": "stdout",
     "output_type": "stream",
     "text": [
      "saving to >>  /home/local_arnab/Codes/Projects/retrieval/results/causal_tracing_test/mlp\n",
      "<class 'transformers.tokenization_utils_fast.PreTrainedTokenizerFast'>\n",
      "2025-02-19 12:47:15 src.trace DEBUG    answer=PredictedToken(token=' ancient', prob=0.3876953125, logit=17.703125, token_id=14154)\n",
      "<class 'transformers.tokenization_utils_fast.PreTrainedTokenizerFast'>\n",
      "2025-02-19 12:47:15 src.trace DEBUG    clean_answer=PredictedToken(token=' religious', prob=0.091796875, logit=15.1171875, token_id=10597)\n",
      "2025-02-19 12:47:15 src.trace DEBUG    track_ans=PredictedToken(token=' ancient', prob=0.087646484375, logit=15.0703125, token_id=14154)\n",
      "2025-02-19 12:47:15 src.trace DEBUG    ---------- tracing important states ----------\n"
     ]
    },
    {
     "name": "stderr",
     "output_type": "stream",
     "text": [
      "100%|██████████| 608/608 [00:39<00:00, 15.21it/s]"
     ]
    },
    {
     "name": "stdout",
     "output_type": "stream",
     "text": [
      "2025-02-19 12:47:55 src.trace INFO     base_score=17.703125 | low_score=15.0703125\n"
     ]
    },
    {
     "name": "stderr",
     "output_type": "stream",
     "text": [
      "\n"
     ]
    },
    {
     "name": "stdout",
     "output_type": "stream",
     "text": [
      "saving to >>  /home/local_arnab/Codes/Projects/retrieval/results/causal_tracing_test/attention\n",
      "----------------------------------------------------------------------------------------------------\n",
      "\n",
      "\n",
      "2025-02-19 12:47:55 __main__ INFO     (6/20)  entities=['Leonardo da Vinci', 'Benjamin Franklin']\n"
     ]
    },
    {
     "name": "stderr",
     "output_type": "stream",
     "text": [
      "/home/local_arnab/miniconda3/envs/retrieval/lib/python3.11/site-packages/transformers/generation/configuration_utils.py:628: UserWarning: `do_sample` is set to `False`. However, `temperature` is set to `0.6` -- this flag is only used in sample-based generation modes. You should set `do_sample=True` or unset `temperature`.\n",
      "  warnings.warn(\n",
      "/home/local_arnab/miniconda3/envs/retrieval/lib/python3.11/site-packages/transformers/generation/configuration_utils.py:633: UserWarning: `do_sample` is set to `False`. However, `top_p` is set to `0.9` -- this flag is only used in sample-based generation modes. You should set `do_sample=True` or unset `top_p`.\n",
      "  warnings.warn(\n",
      "Setting `pad_token_id` to `eos_token_id`:128001 for open-end generation.\n"
     ]
    },
    {
     "name": "stdout",
     "output_type": "stream",
     "text": [
      "2025-02-19 12:47:57 __main__ INFO     (placeholder, Benjamin Franklin) => American citizens.\n"
     ]
    },
    {
     "name": "stderr",
     "output_type": "stream",
     "text": [
      "Setting `pad_token_id` to `eos_token_id`:128001 for open-end generation.\n"
     ]
    },
    {
     "name": "stdout",
     "output_type": "stream",
     "text": [
      "2025-02-19 12:47:58 __main__ INFO     (Leonardo da Vinci, Benjamin Franklin) => polymaths.\n",
      "<class 'transformers.tokenization_utils_fast.PreTrainedTokenizerFast'>\n",
      "2025-02-19 12:47:59 src.trace DEBUG    answer=PredictedToken(token=' polym', prob=0.29150390625, logit=17.171875, token_id=46033)\n",
      "<class 'transformers.tokenization_utils_fast.PreTrainedTokenizerFast'>\n",
      "2025-02-19 12:47:59 src.trace DEBUG    clean_answer=PredictedToken(token=' American', prob=0.127685546875, logit=15.3203125, token_id=3778)\n",
      "2025-02-19 12:47:59 src.trace DEBUG    track_ans=PredictedToken(token=' polym', prob=0.0122528076171875, logit=12.9765625, token_id=46033)\n",
      "2025-02-19 12:47:59 src.trace DEBUG    ---------- tracing important states ----------\n"
     ]
    },
    {
     "name": "stderr",
     "output_type": "stream",
     "text": [
      "100%|██████████| 576/576 [00:37<00:00, 15.52it/s]"
     ]
    },
    {
     "name": "stdout",
     "output_type": "stream",
     "text": [
      "2025-02-19 12:48:36 src.trace INFO     base_score=17.171875 | low_score=12.9765625\n"
     ]
    },
    {
     "name": "stderr",
     "output_type": "stream",
     "text": [
      "\n"
     ]
    },
    {
     "name": "stdout",
     "output_type": "stream",
     "text": [
      "saving to >>  /home/local_arnab/Codes/Projects/retrieval/results/causal_tracing_test/residual\n",
      "<class 'transformers.tokenization_utils_fast.PreTrainedTokenizerFast'>\n",
      "2025-02-19 12:48:37 src.trace DEBUG    answer=PredictedToken(token=' polym', prob=0.29150390625, logit=17.171875, token_id=46033)\n",
      "<class 'transformers.tokenization_utils_fast.PreTrainedTokenizerFast'>\n",
      "2025-02-19 12:48:37 src.trace DEBUG    clean_answer=PredictedToken(token=' American', prob=0.127685546875, logit=15.3203125, token_id=3778)\n",
      "2025-02-19 12:48:37 src.trace DEBUG    track_ans=PredictedToken(token=' polym', prob=0.0122528076171875, logit=12.9765625, token_id=46033)\n",
      "2025-02-19 12:48:37 src.trace DEBUG    ---------- tracing important states ----------\n"
     ]
    },
    {
     "name": "stderr",
     "output_type": "stream",
     "text": [
      "100%|██████████| 576/576 [00:37<00:00, 15.38it/s]"
     ]
    },
    {
     "name": "stdout",
     "output_type": "stream",
     "text": [
      "2025-02-19 12:49:15 src.trace INFO     base_score=17.171875 | low_score=12.9765625\n"
     ]
    },
    {
     "name": "stderr",
     "output_type": "stream",
     "text": [
      "\n"
     ]
    },
    {
     "name": "stdout",
     "output_type": "stream",
     "text": [
      "saving to >>  /home/local_arnab/Codes/Projects/retrieval/results/causal_tracing_test/mlp\n",
      "<class 'transformers.tokenization_utils_fast.PreTrainedTokenizerFast'>\n",
      "2025-02-19 12:49:15 src.trace DEBUG    answer=PredictedToken(token=' polym', prob=0.29150390625, logit=17.171875, token_id=46033)\n",
      "<class 'transformers.tokenization_utils_fast.PreTrainedTokenizerFast'>\n",
      "2025-02-19 12:49:16 src.trace DEBUG    clean_answer=PredictedToken(token=' American', prob=0.127685546875, logit=15.3203125, token_id=3778)\n",
      "2025-02-19 12:49:16 src.trace DEBUG    track_ans=PredictedToken(token=' polym', prob=0.0122528076171875, logit=12.9765625, token_id=46033)\n",
      "2025-02-19 12:49:16 src.trace DEBUG    ---------- tracing important states ----------\n"
     ]
    },
    {
     "name": "stderr",
     "output_type": "stream",
     "text": [
      "100%|██████████| 576/576 [00:37<00:00, 15.23it/s]"
     ]
    },
    {
     "name": "stdout",
     "output_type": "stream",
     "text": [
      "2025-02-19 12:49:53 src.trace INFO     base_score=17.171875 | low_score=12.9765625\n"
     ]
    },
    {
     "name": "stderr",
     "output_type": "stream",
     "text": [
      "\n"
     ]
    },
    {
     "name": "stdout",
     "output_type": "stream",
     "text": [
      "saving to >>  /home/local_arnab/Codes/Projects/retrieval/results/causal_tracing_test/attention\n",
      "----------------------------------------------------------------------------------------------------\n",
      "\n",
      "\n",
      "2025-02-19 12:49:54 __main__ INFO     (7/20)  entities=['Daredevil', 'Toph Beifong']\n"
     ]
    },
    {
     "name": "stderr",
     "output_type": "stream",
     "text": [
      "/home/local_arnab/miniconda3/envs/retrieval/lib/python3.11/site-packages/transformers/generation/configuration_utils.py:628: UserWarning: `do_sample` is set to `False`. However, `temperature` is set to `0.6` -- this flag is only used in sample-based generation modes. You should set `do_sample=True` or unset `temperature`.\n",
      "  warnings.warn(\n",
      "/home/local_arnab/miniconda3/envs/retrieval/lib/python3.11/site-packages/transformers/generation/configuration_utils.py:633: UserWarning: `do_sample` is set to `False`. However, `top_p` is set to `0.9` -- this flag is only used in sample-based generation modes. You should set `do_sample=True` or unset `top_p`.\n",
      "  warnings.warn(\n",
      "Setting `pad_token_id` to `eos_token_id`:128001 for open-end generation.\n"
     ]
    },
    {
     "name": "stdout",
     "output_type": "stream",
     "text": [
      "2025-02-19 12:49:55 __main__ INFO     (placeholder, Toph Beifong) => characters in Avatar: The Last Airbender.\n"
     ]
    },
    {
     "name": "stderr",
     "output_type": "stream",
     "text": [
      "Setting `pad_token_id` to `eos_token_id`:128001 for open-end generation.\n"
     ]
    },
    {
     "name": "stdout",
     "output_type": "stream",
     "text": [
      "2025-02-19 12:49:57 __main__ INFO     (Daredevil, Toph Beifong) => blind.\n",
      "<class 'transformers.tokenization_utils_fast.PreTrainedTokenizerFast'>\n",
      "2025-02-19 12:49:57 src.trace DEBUG    answer=PredictedToken(token=' blind', prob=0.7431640625, logit=18.484375, token_id=18507)\n",
      "<class 'transformers.tokenization_utils_fast.PreTrainedTokenizerFast'>\n",
      "2025-02-19 12:49:57 src.trace DEBUG    clean_answer=PredictedToken(token=' characters', prob=0.201416015625, logit=14.75, token_id=5885)\n",
      "2025-02-19 12:49:57 src.trace DEBUG    track_ans=PredictedToken(token=' blind', prob=0.0550537109375, logit=13.453125, token_id=18507)\n",
      "2025-02-19 12:49:57 src.trace DEBUG    ---------- tracing important states ----------\n"
     ]
    },
    {
     "name": "stderr",
     "output_type": "stream",
     "text": [
      "100%|██████████| 640/640 [00:41<00:00, 15.45it/s]"
     ]
    },
    {
     "name": "stdout",
     "output_type": "stream",
     "text": [
      "2025-02-19 12:50:39 src.trace INFO     base_score=18.484375 | low_score=13.453125\n"
     ]
    },
    {
     "name": "stderr",
     "output_type": "stream",
     "text": [
      "\n"
     ]
    },
    {
     "name": "stdout",
     "output_type": "stream",
     "text": [
      "saving to >>  /home/local_arnab/Codes/Projects/retrieval/results/causal_tracing_test/residual\n",
      "<class 'transformers.tokenization_utils_fast.PreTrainedTokenizerFast'>\n",
      "2025-02-19 12:50:40 src.trace DEBUG    answer=PredictedToken(token=' blind', prob=0.7431640625, logit=18.484375, token_id=18507)\n",
      "<class 'transformers.tokenization_utils_fast.PreTrainedTokenizerFast'>\n",
      "2025-02-19 12:50:40 src.trace DEBUG    clean_answer=PredictedToken(token=' characters', prob=0.201416015625, logit=14.75, token_id=5885)\n",
      "2025-02-19 12:50:40 src.trace DEBUG    track_ans=PredictedToken(token=' blind', prob=0.0550537109375, logit=13.453125, token_id=18507)\n",
      "2025-02-19 12:50:40 src.trace DEBUG    ---------- tracing important states ----------\n"
     ]
    },
    {
     "name": "stderr",
     "output_type": "stream",
     "text": [
      "100%|██████████| 640/640 [00:41<00:00, 15.30it/s]"
     ]
    },
    {
     "name": "stdout",
     "output_type": "stream",
     "text": [
      "2025-02-19 12:51:22 src.trace INFO     base_score=18.484375 | low_score=13.453125\n"
     ]
    },
    {
     "name": "stderr",
     "output_type": "stream",
     "text": [
      "\n"
     ]
    },
    {
     "name": "stdout",
     "output_type": "stream",
     "text": [
      "saving to >>  /home/local_arnab/Codes/Projects/retrieval/results/causal_tracing_test/mlp\n",
      "<class 'transformers.tokenization_utils_fast.PreTrainedTokenizerFast'>\n",
      "2025-02-19 12:51:23 src.trace DEBUG    answer=PredictedToken(token=' blind', prob=0.7431640625, logit=18.484375, token_id=18507)\n",
      "<class 'transformers.tokenization_utils_fast.PreTrainedTokenizerFast'>\n",
      "2025-02-19 12:51:23 src.trace DEBUG    clean_answer=PredictedToken(token=' characters', prob=0.201416015625, logit=14.75, token_id=5885)\n",
      "2025-02-19 12:51:23 src.trace DEBUG    track_ans=PredictedToken(token=' blind', prob=0.0550537109375, logit=13.453125, token_id=18507)\n",
      "2025-02-19 12:51:23 src.trace DEBUG    ---------- tracing important states ----------\n"
     ]
    },
    {
     "name": "stderr",
     "output_type": "stream",
     "text": [
      "100%|██████████| 640/640 [00:41<00:00, 15.25it/s]"
     ]
    },
    {
     "name": "stdout",
     "output_type": "stream",
     "text": [
      "2025-02-19 12:52:05 src.trace INFO     base_score=18.484375 | low_score=13.453125\n"
     ]
    },
    {
     "name": "stderr",
     "output_type": "stream",
     "text": [
      "\n"
     ]
    },
    {
     "name": "stdout",
     "output_type": "stream",
     "text": [
      "saving to >>  /home/local_arnab/Codes/Projects/retrieval/results/causal_tracing_test/attention\n",
      "----------------------------------------------------------------------------------------------------\n",
      "\n",
      "\n",
      "2025-02-19 12:52:05 __main__ INFO     (8/20)  entities=['Memento', 'Inception']\n"
     ]
    },
    {
     "name": "stderr",
     "output_type": "stream",
     "text": [
      "/home/local_arnab/miniconda3/envs/retrieval/lib/python3.11/site-packages/transformers/generation/configuration_utils.py:628: UserWarning: `do_sample` is set to `False`. However, `temperature` is set to `0.6` -- this flag is only used in sample-based generation modes. You should set `do_sample=True` or unset `temperature`.\n",
      "  warnings.warn(\n",
      "/home/local_arnab/miniconda3/envs/retrieval/lib/python3.11/site-packages/transformers/generation/configuration_utils.py:633: UserWarning: `do_sample` is set to `False`. However, `top_p` is set to `0.9` -- this flag is only used in sample-based generation modes. You should set `do_sample=True` or unset `top_p`.\n",
      "  warnings.warn(\n",
      "Setting `pad_token_id` to `eos_token_id`:128001 for open-end generation.\n"
     ]
    },
    {
     "name": "stdout",
     "output_type": "stream",
     "text": [
      "2025-02-19 12:52:07 __main__ INFO     (placeholder, Inception) => movies.\n"
     ]
    },
    {
     "name": "stderr",
     "output_type": "stream",
     "text": [
      "Setting `pad_token_id` to `eos_token_id`:128001 for open-end generation.\n"
     ]
    },
    {
     "name": "stdout",
     "output_type": "stream",
     "text": [
      "2025-02-19 12:52:08 __main__ INFO     (Memento, Inception) => directed by Christopher Nolan.\n",
      "<class 'transformers.tokenization_utils_fast.PreTrainedTokenizerFast'>\n",
      "2025-02-19 12:52:09 src.trace DEBUG    answer=PredictedToken(token=' directed', prob=0.724609375, logit=18.453125, token_id=15910)\n",
      "<class 'transformers.tokenization_utils_fast.PreTrainedTokenizerFast'>\n",
      "2025-02-19 12:52:09 src.trace DEBUG    clean_answer=PredictedToken(token=' movies', prob=0.2861328125, logit=15.4765625, token_id=9698)\n",
      "2025-02-19 12:52:09 src.trace DEBUG    track_ans=PredictedToken(token=' directed', prob=0.1722412109375, logit=14.96875, token_id=15910)\n",
      "2025-02-19 12:52:09 src.trace DEBUG    ---------- tracing important states ----------\n"
     ]
    },
    {
     "name": "stderr",
     "output_type": "stream",
     "text": [
      "100%|██████████| 544/544 [00:34<00:00, 15.91it/s]"
     ]
    },
    {
     "name": "stdout",
     "output_type": "stream",
     "text": [
      "2025-02-19 12:52:43 src.trace INFO     base_score=18.453125 | low_score=14.96875\n"
     ]
    },
    {
     "name": "stderr",
     "output_type": "stream",
     "text": [
      "\n"
     ]
    },
    {
     "name": "stdout",
     "output_type": "stream",
     "text": [
      "saving to >>  /home/local_arnab/Codes/Projects/retrieval/results/causal_tracing_test/residual\n",
      "<class 'transformers.tokenization_utils_fast.PreTrainedTokenizerFast'>\n",
      "2025-02-19 12:52:44 src.trace DEBUG    answer=PredictedToken(token=' directed', prob=0.724609375, logit=18.453125, token_id=15910)\n",
      "<class 'transformers.tokenization_utils_fast.PreTrainedTokenizerFast'>\n",
      "2025-02-19 12:52:44 src.trace DEBUG    clean_answer=PredictedToken(token=' movies', prob=0.2861328125, logit=15.4765625, token_id=9698)\n",
      "2025-02-19 12:52:44 src.trace DEBUG    track_ans=PredictedToken(token=' directed', prob=0.1722412109375, logit=14.96875, token_id=15910)\n",
      "2025-02-19 12:52:44 src.trace DEBUG    ---------- tracing important states ----------\n"
     ]
    },
    {
     "name": "stderr",
     "output_type": "stream",
     "text": [
      "100%|██████████| 544/544 [00:34<00:00, 15.79it/s]"
     ]
    },
    {
     "name": "stdout",
     "output_type": "stream",
     "text": [
      "2025-02-19 12:53:19 src.trace INFO     base_score=18.453125 | low_score=14.96875\n"
     ]
    },
    {
     "name": "stderr",
     "output_type": "stream",
     "text": [
      "\n"
     ]
    },
    {
     "name": "stdout",
     "output_type": "stream",
     "text": [
      "saving to >>  /home/local_arnab/Codes/Projects/retrieval/results/causal_tracing_test/mlp\n",
      "<class 'transformers.tokenization_utils_fast.PreTrainedTokenizerFast'>\n",
      "2025-02-19 12:53:19 src.trace DEBUG    answer=PredictedToken(token=' directed', prob=0.724609375, logit=18.453125, token_id=15910)\n",
      "<class 'transformers.tokenization_utils_fast.PreTrainedTokenizerFast'>\n",
      "2025-02-19 12:53:20 src.trace DEBUG    clean_answer=PredictedToken(token=' movies', prob=0.2861328125, logit=15.4765625, token_id=9698)\n",
      "2025-02-19 12:53:20 src.trace DEBUG    track_ans=PredictedToken(token=' directed', prob=0.1722412109375, logit=14.96875, token_id=15910)\n",
      "2025-02-19 12:53:20 src.trace DEBUG    ---------- tracing important states ----------\n"
     ]
    },
    {
     "name": "stderr",
     "output_type": "stream",
     "text": [
      "100%|██████████| 544/544 [00:34<00:00, 15.66it/s]"
     ]
    },
    {
     "name": "stdout",
     "output_type": "stream",
     "text": [
      "2025-02-19 12:53:54 src.trace INFO     base_score=18.453125 | low_score=14.96875\n"
     ]
    },
    {
     "name": "stderr",
     "output_type": "stream",
     "text": [
      "\n"
     ]
    },
    {
     "name": "stdout",
     "output_type": "stream",
     "text": [
      "saving to >>  /home/local_arnab/Codes/Projects/retrieval/results/causal_tracing_test/attention\n",
      "----------------------------------------------------------------------------------------------------\n",
      "\n",
      "\n",
      "2025-02-19 12:53:55 __main__ INFO     (9/20)  entities=['Julius Caesar', 'Nepoleon Bonaparte']\n"
     ]
    },
    {
     "name": "stderr",
     "output_type": "stream",
     "text": [
      "/home/local_arnab/miniconda3/envs/retrieval/lib/python3.11/site-packages/transformers/generation/configuration_utils.py:628: UserWarning: `do_sample` is set to `False`. However, `temperature` is set to `0.6` -- this flag is only used in sample-based generation modes. You should set `do_sample=True` or unset `temperature`.\n",
      "  warnings.warn(\n",
      "/home/local_arnab/miniconda3/envs/retrieval/lib/python3.11/site-packages/transformers/generation/configuration_utils.py:633: UserWarning: `do_sample` is set to `False`. However, `top_p` is set to `0.9` -- this flag is only used in sample-based generation modes. You should set `do_sample=True` or unset `top_p`.\n",
      "  warnings.warn(\n",
      "Setting `pad_token_id` to `eos_token_id`:128001 for open-end generation.\n"
     ]
    },
    {
     "name": "stdout",
     "output_type": "stream",
     "text": [
      "2025-02-19 12:53:56 __main__ INFO     (placeholder, Nepoleon Bonaparte) => French.\n"
     ]
    },
    {
     "name": "stderr",
     "output_type": "stream",
     "text": [
      "Setting `pad_token_id` to `eos_token_id`:128001 for open-end generation.\n"
     ]
    },
    {
     "name": "stdout",
     "output_type": "stream",
     "text": [
      "2025-02-19 12:53:58 __main__ INFO     (Julius Caesar, Nepoleon Bonaparte) => military leaders.\n",
      "<class 'transformers.tokenization_utils_fast.PreTrainedTokenizerFast'>\n",
      "2025-02-19 12:53:58 src.trace DEBUG    answer=PredictedToken(token=' military', prob=0.241455078125, logit=17.53125, token_id=6411)\n",
      "<class 'transformers.tokenization_utils_fast.PreTrainedTokenizerFast'>\n",
      "2025-02-19 12:53:58 src.trace DEBUG    clean_answer=PredictedToken(token=' French', prob=0.15185546875, logit=15.375, token_id=8753)\n",
      "2025-02-19 12:53:58 src.trace DEBUG    track_ans=PredictedToken(token=' military', prob=0.08319091796875, logit=14.7734375, token_id=6411)\n",
      "2025-02-19 12:53:58 src.trace DEBUG    ---------- tracing important states ----------\n"
     ]
    },
    {
     "name": "stderr",
     "output_type": "stream",
     "text": [
      "100%|██████████| 640/640 [00:41<00:00, 15.46it/s]"
     ]
    },
    {
     "name": "stdout",
     "output_type": "stream",
     "text": [
      "2025-02-19 12:54:40 src.trace INFO     base_score=17.53125 | low_score=14.7734375\n"
     ]
    },
    {
     "name": "stderr",
     "output_type": "stream",
     "text": [
      "\n"
     ]
    },
    {
     "name": "stdout",
     "output_type": "stream",
     "text": [
      "saving to >>  /home/local_arnab/Codes/Projects/retrieval/results/causal_tracing_test/residual\n",
      "<class 'transformers.tokenization_utils_fast.PreTrainedTokenizerFast'>\n",
      "2025-02-19 12:54:41 src.trace DEBUG    answer=PredictedToken(token=' military', prob=0.241455078125, logit=17.53125, token_id=6411)\n",
      "<class 'transformers.tokenization_utils_fast.PreTrainedTokenizerFast'>\n",
      "2025-02-19 12:54:41 src.trace DEBUG    clean_answer=PredictedToken(token=' French', prob=0.15185546875, logit=15.375, token_id=8753)\n",
      "2025-02-19 12:54:41 src.trace DEBUG    track_ans=PredictedToken(token=' military', prob=0.08319091796875, logit=14.7734375, token_id=6411)\n",
      "2025-02-19 12:54:41 src.trace DEBUG    ---------- tracing important states ----------\n"
     ]
    },
    {
     "name": "stderr",
     "output_type": "stream",
     "text": [
      "100%|██████████| 640/640 [00:41<00:00, 15.33it/s]"
     ]
    },
    {
     "name": "stdout",
     "output_type": "stream",
     "text": [
      "2025-02-19 12:55:23 src.trace INFO     base_score=17.53125 | low_score=14.7734375\n"
     ]
    },
    {
     "name": "stderr",
     "output_type": "stream",
     "text": [
      "\n"
     ]
    },
    {
     "name": "stdout",
     "output_type": "stream",
     "text": [
      "saving to >>  /home/local_arnab/Codes/Projects/retrieval/results/causal_tracing_test/mlp\n",
      "<class 'transformers.tokenization_utils_fast.PreTrainedTokenizerFast'>\n",
      "2025-02-19 12:55:23 src.trace DEBUG    answer=PredictedToken(token=' military', prob=0.241455078125, logit=17.53125, token_id=6411)\n",
      "<class 'transformers.tokenization_utils_fast.PreTrainedTokenizerFast'>\n",
      "2025-02-19 12:55:24 src.trace DEBUG    clean_answer=PredictedToken(token=' French', prob=0.15185546875, logit=15.375, token_id=8753)\n",
      "2025-02-19 12:55:24 src.trace DEBUG    track_ans=PredictedToken(token=' military', prob=0.08319091796875, logit=14.7734375, token_id=6411)\n",
      "2025-02-19 12:55:24 src.trace DEBUG    ---------- tracing important states ----------\n"
     ]
    },
    {
     "name": "stderr",
     "output_type": "stream",
     "text": [
      "100%|██████████| 640/640 [00:42<00:00, 15.15it/s]"
     ]
    },
    {
     "name": "stdout",
     "output_type": "stream",
     "text": [
      "2025-02-19 12:56:06 src.trace INFO     base_score=17.53125 | low_score=14.7734375\n"
     ]
    },
    {
     "name": "stderr",
     "output_type": "stream",
     "text": [
      "\n"
     ]
    },
    {
     "name": "stdout",
     "output_type": "stream",
     "text": [
      "saving to >>  /home/local_arnab/Codes/Projects/retrieval/results/causal_tracing_test/attention\n",
      "----------------------------------------------------------------------------------------------------\n",
      "\n",
      "\n",
      "2025-02-19 12:56:06 __main__ INFO     (10/20)  entities=['The Godfather', 'Goodfellas']\n"
     ]
    },
    {
     "name": "stderr",
     "output_type": "stream",
     "text": [
      "/home/local_arnab/miniconda3/envs/retrieval/lib/python3.11/site-packages/transformers/generation/configuration_utils.py:628: UserWarning: `do_sample` is set to `False`. However, `temperature` is set to `0.6` -- this flag is only used in sample-based generation modes. You should set `do_sample=True` or unset `temperature`.\n",
      "  warnings.warn(\n",
      "/home/local_arnab/miniconda3/envs/retrieval/lib/python3.11/site-packages/transformers/generation/configuration_utils.py:633: UserWarning: `do_sample` is set to `False`. However, `top_p` is set to `0.9` -- this flag is only used in sample-based generation modes. You should set `do_sample=True` or unset `top_p`.\n",
      "  warnings.warn(\n",
      "Setting `pad_token_id` to `eos_token_id`:128001 for open-end generation.\n"
     ]
    },
    {
     "name": "stdout",
     "output_type": "stream",
     "text": [
      "2025-02-19 12:56:08 __main__ INFO     (placeholder, Goodfellas) => movies.\n"
     ]
    },
    {
     "name": "stderr",
     "output_type": "stream",
     "text": [
      "Setting `pad_token_id` to `eos_token_id`:128001 for open-end generation.\n"
     ]
    },
    {
     "name": "stdout",
     "output_type": "stream",
     "text": [
      "2025-02-19 12:56:09 __main__ INFO     (The Godfather, Goodfellas) => mob movies.\n",
      "<class 'transformers.tokenization_utils_fast.PreTrainedTokenizerFast'>\n",
      "2025-02-19 12:56:10 src.trace DEBUG    answer=PredictedToken(token=' mob', prob=0.1612548828125, logit=16.96875, token_id=12881)\n",
      "<class 'transformers.tokenization_utils_fast.PreTrainedTokenizerFast'>\n",
      "2025-02-19 12:56:10 src.trace DEBUG    clean_answer=PredictedToken(token=' movies', prob=0.23779296875, logit=15.09375, token_id=9698)\n",
      "2025-02-19 12:56:10 src.trace DEBUG    track_ans=PredictedToken(token=' mob', prob=0.0228118896484375, logit=12.75, token_id=12881)\n",
      "2025-02-19 12:56:10 src.trace DEBUG    ---------- tracing important states ----------\n"
     ]
    },
    {
     "name": "stderr",
     "output_type": "stream",
     "text": [
      "100%|██████████| 608/608 [00:39<00:00, 15.40it/s]"
     ]
    },
    {
     "name": "stdout",
     "output_type": "stream",
     "text": [
      "2025-02-19 12:56:49 src.trace INFO     base_score=16.96875 | low_score=12.75\n"
     ]
    },
    {
     "name": "stderr",
     "output_type": "stream",
     "text": [
      "\n"
     ]
    },
    {
     "name": "stdout",
     "output_type": "stream",
     "text": [
      "saving to >>  /home/local_arnab/Codes/Projects/retrieval/results/causal_tracing_test/residual\n",
      "<class 'transformers.tokenization_utils_fast.PreTrainedTokenizerFast'>\n",
      "2025-02-19 12:56:50 src.trace DEBUG    answer=PredictedToken(token=' mob', prob=0.1612548828125, logit=16.96875, token_id=12881)\n",
      "<class 'transformers.tokenization_utils_fast.PreTrainedTokenizerFast'>\n",
      "2025-02-19 12:56:51 src.trace DEBUG    clean_answer=PredictedToken(token=' movies', prob=0.23779296875, logit=15.09375, token_id=9698)\n",
      "2025-02-19 12:56:51 src.trace DEBUG    track_ans=PredictedToken(token=' mob', prob=0.0228118896484375, logit=12.75, token_id=12881)\n",
      "2025-02-19 12:56:51 src.trace DEBUG    ---------- tracing important states ----------\n"
     ]
    },
    {
     "name": "stderr",
     "output_type": "stream",
     "text": [
      "100%|██████████| 608/608 [00:39<00:00, 15.28it/s]"
     ]
    },
    {
     "name": "stdout",
     "output_type": "stream",
     "text": [
      "2025-02-19 12:57:30 src.trace INFO     base_score=16.96875 | low_score=12.75\n"
     ]
    },
    {
     "name": "stderr",
     "output_type": "stream",
     "text": [
      "\n"
     ]
    },
    {
     "name": "stdout",
     "output_type": "stream",
     "text": [
      "saving to >>  /home/local_arnab/Codes/Projects/retrieval/results/causal_tracing_test/mlp\n",
      "<class 'transformers.tokenization_utils_fast.PreTrainedTokenizerFast'>\n",
      "2025-02-19 12:57:31 src.trace DEBUG    answer=PredictedToken(token=' mob', prob=0.1612548828125, logit=16.96875, token_id=12881)\n",
      "<class 'transformers.tokenization_utils_fast.PreTrainedTokenizerFast'>\n",
      "2025-02-19 12:57:31 src.trace DEBUG    clean_answer=PredictedToken(token=' movies', prob=0.23779296875, logit=15.09375, token_id=9698)\n",
      "2025-02-19 12:57:31 src.trace DEBUG    track_ans=PredictedToken(token=' mob', prob=0.0228118896484375, logit=12.75, token_id=12881)\n",
      "2025-02-19 12:57:31 src.trace DEBUG    ---------- tracing important states ----------\n"
     ]
    },
    {
     "name": "stderr",
     "output_type": "stream",
     "text": [
      "100%|██████████| 608/608 [00:39<00:00, 15.23it/s]"
     ]
    },
    {
     "name": "stdout",
     "output_type": "stream",
     "text": [
      "2025-02-19 12:58:11 src.trace INFO     base_score=16.96875 | low_score=12.75\n"
     ]
    },
    {
     "name": "stderr",
     "output_type": "stream",
     "text": [
      "\n"
     ]
    },
    {
     "name": "stdout",
     "output_type": "stream",
     "text": [
      "saving to >>  /home/local_arnab/Codes/Projects/retrieval/results/causal_tracing_test/attention\n",
      "----------------------------------------------------------------------------------------------------\n",
      "\n",
      "\n",
      "2025-02-19 12:58:12 __main__ INFO     (11/20)  entities=['The Green Mile', 'The Shawshank Redemption']\n"
     ]
    },
    {
     "name": "stderr",
     "output_type": "stream",
     "text": [
      "/home/local_arnab/miniconda3/envs/retrieval/lib/python3.11/site-packages/transformers/generation/configuration_utils.py:628: UserWarning: `do_sample` is set to `False`. However, `temperature` is set to `0.6` -- this flag is only used in sample-based generation modes. You should set `do_sample=True` or unset `temperature`.\n",
      "  warnings.warn(\n",
      "/home/local_arnab/miniconda3/envs/retrieval/lib/python3.11/site-packages/transformers/generation/configuration_utils.py:633: UserWarning: `do_sample` is set to `False`. However, `top_p` is set to `0.9` -- this flag is only used in sample-based generation modes. You should set `do_sample=True` or unset `top_p`.\n",
      "  warnings.warn(\n",
      "Setting `pad_token_id` to `eos_token_id`:128001 for open-end generation.\n"
     ]
    },
    {
     "name": "stdout",
     "output_type": "stream",
     "text": [
      "2025-02-19 12:58:13 __main__ INFO     (placeholder, The Shawshank Redemption) => movies.\n"
     ]
    },
    {
     "name": "stderr",
     "output_type": "stream",
     "text": [
      "Setting `pad_token_id` to `eos_token_id`:128001 for open-end generation.\n"
     ]
    },
    {
     "name": "stdout",
     "output_type": "stream",
     "text": [
      "2025-02-19 12:58:15 __main__ INFO     (The Green Mile, The Shawshank Redemption) => directed by Frank Darabont.\n",
      "<class 'transformers.tokenization_utils_fast.PreTrainedTokenizerFast'>\n",
      "2025-02-19 12:58:15 src.trace DEBUG    answer=PredictedToken(token=' directed', prob=0.1981201171875, logit=15.9140625, token_id=15910)\n",
      "<class 'transformers.tokenization_utils_fast.PreTrainedTokenizerFast'>\n",
      "2025-02-19 12:58:15 src.trace DEBUG    clean_answer=PredictedToken(token=' movies', prob=0.109619140625, logit=14.015625, token_id=9698)\n",
      "2025-02-19 12:58:15 src.trace DEBUG    track_ans=PredictedToken(token=' directed', prob=0.0736083984375, logit=13.6171875, token_id=15910)\n",
      "2025-02-19 12:58:15 src.trace DEBUG    ---------- tracing important states ----------\n"
     ]
    },
    {
     "name": "stderr",
     "output_type": "stream",
     "text": [
      "100%|██████████| 672/672 [00:43<00:00, 15.48it/s]"
     ]
    },
    {
     "name": "stdout",
     "output_type": "stream",
     "text": [
      "2025-02-19 12:58:59 src.trace INFO     base_score=15.9140625 | low_score=13.6171875\n"
     ]
    },
    {
     "name": "stderr",
     "output_type": "stream",
     "text": [
      "\n"
     ]
    },
    {
     "name": "stdout",
     "output_type": "stream",
     "text": [
      "saving to >>  /home/local_arnab/Codes/Projects/retrieval/results/causal_tracing_test/residual\n",
      "<class 'transformers.tokenization_utils_fast.PreTrainedTokenizerFast'>\n",
      "2025-02-19 12:58:59 src.trace DEBUG    answer=PredictedToken(token=' directed', prob=0.1981201171875, logit=15.9140625, token_id=15910)\n",
      "<class 'transformers.tokenization_utils_fast.PreTrainedTokenizerFast'>\n",
      "2025-02-19 12:59:00 src.trace DEBUG    clean_answer=PredictedToken(token=' movies', prob=0.109619140625, logit=14.015625, token_id=9698)\n",
      "2025-02-19 12:59:00 src.trace DEBUG    track_ans=PredictedToken(token=' directed', prob=0.0736083984375, logit=13.6171875, token_id=15910)\n",
      "2025-02-19 12:59:00 src.trace DEBUG    ---------- tracing important states ----------\n"
     ]
    },
    {
     "name": "stderr",
     "output_type": "stream",
     "text": [
      "100%|██████████| 672/672 [00:43<00:00, 15.35it/s]"
     ]
    },
    {
     "name": "stdout",
     "output_type": "stream",
     "text": [
      "2025-02-19 12:59:44 src.trace INFO     base_score=15.9140625 | low_score=13.6171875\n"
     ]
    },
    {
     "name": "stderr",
     "output_type": "stream",
     "text": [
      "\n"
     ]
    },
    {
     "name": "stdout",
     "output_type": "stream",
     "text": [
      "saving to >>  /home/local_arnab/Codes/Projects/retrieval/results/causal_tracing_test/mlp\n",
      "<class 'transformers.tokenization_utils_fast.PreTrainedTokenizerFast'>\n",
      "2025-02-19 12:59:44 src.trace DEBUG    answer=PredictedToken(token=' directed', prob=0.1981201171875, logit=15.9140625, token_id=15910)\n",
      "<class 'transformers.tokenization_utils_fast.PreTrainedTokenizerFast'>\n",
      "2025-02-19 12:59:45 src.trace DEBUG    clean_answer=PredictedToken(token=' movies', prob=0.109619140625, logit=14.015625, token_id=9698)\n",
      "2025-02-19 12:59:45 src.trace DEBUG    track_ans=PredictedToken(token=' directed', prob=0.0736083984375, logit=13.6171875, token_id=15910)\n",
      "2025-02-19 12:59:45 src.trace DEBUG    ---------- tracing important states ----------\n"
     ]
    },
    {
     "name": "stderr",
     "output_type": "stream",
     "text": [
      "100%|██████████| 672/672 [00:44<00:00, 15.24it/s]"
     ]
    },
    {
     "name": "stdout",
     "output_type": "stream",
     "text": [
      "2025-02-19 13:00:29 src.trace INFO     base_score=15.9140625 | low_score=13.6171875\n"
     ]
    },
    {
     "name": "stderr",
     "output_type": "stream",
     "text": [
      "\n"
     ]
    },
    {
     "name": "stdout",
     "output_type": "stream",
     "text": [
      "saving to >>  /home/local_arnab/Codes/Projects/retrieval/results/causal_tracing_test/attention\n",
      "----------------------------------------------------------------------------------------------------\n",
      "\n",
      "\n",
      "2025-02-19 13:00:29 __main__ INFO     (12/20)  entities=['Christopher Columbus', 'Vasco da Gama']\n"
     ]
    },
    {
     "name": "stderr",
     "output_type": "stream",
     "text": [
      "/home/local_arnab/miniconda3/envs/retrieval/lib/python3.11/site-packages/transformers/generation/configuration_utils.py:628: UserWarning: `do_sample` is set to `False`. However, `temperature` is set to `0.6` -- this flag is only used in sample-based generation modes. You should set `do_sample=True` or unset `temperature`.\n",
      "  warnings.warn(\n",
      "/home/local_arnab/miniconda3/envs/retrieval/lib/python3.11/site-packages/transformers/generation/configuration_utils.py:633: UserWarning: `do_sample` is set to `False`. However, `top_p` is set to `0.9` -- this flag is only used in sample-based generation modes. You should set `do_sample=True` or unset `top_p`.\n",
      "  warnings.warn(\n",
      "Setting `pad_token_id` to `eos_token_id`:128001 for open-end generation.\n"
     ]
    },
    {
     "name": "stdout",
     "output_type": "stream",
     "text": [
      "2025-02-19 13:00:31 __main__ INFO     (placeholder, Vasco da Gama) => Portuguese.\n"
     ]
    },
    {
     "name": "stderr",
     "output_type": "stream",
     "text": [
      "Setting `pad_token_id` to `eos_token_id`:128001 for open-end generation.\n"
     ]
    },
    {
     "name": "stdout",
     "output_type": "stream",
     "text": [
      "2025-02-19 13:00:32 __main__ INFO     (Christopher Columbus, Vasco da Gama) => explorers.\n",
      "<class 'transformers.tokenization_utils_fast.PreTrainedTokenizerFast'>\n",
      "2025-02-19 13:00:32 src.trace DEBUG    answer=PredictedToken(token=' explor', prob=0.45458984375, logit=18.71875, token_id=48539)\n",
      "<class 'transformers.tokenization_utils_fast.PreTrainedTokenizerFast'>\n",
      "2025-02-19 13:00:33 src.trace DEBUG    clean_answer=PredictedToken(token=' Portuguese', prob=0.23095703125, logit=16.015625, token_id=43288)\n",
      "2025-02-19 13:00:33 src.trace DEBUG    track_ans=PredictedToken(token=' explor', prob=0.11431884765625, logit=15.3125, token_id=48539)\n",
      "2025-02-19 13:00:33 src.trace DEBUG    ---------- tracing important states ----------\n"
     ]
    },
    {
     "name": "stderr",
     "output_type": "stream",
     "text": [
      "100%|██████████| 640/640 [00:41<00:00, 15.53it/s]"
     ]
    },
    {
     "name": "stdout",
     "output_type": "stream",
     "text": [
      "2025-02-19 13:01:14 src.trace INFO     base_score=18.71875 | low_score=15.3125\n"
     ]
    },
    {
     "name": "stderr",
     "output_type": "stream",
     "text": [
      "\n"
     ]
    },
    {
     "name": "stdout",
     "output_type": "stream",
     "text": [
      "saving to >>  /home/local_arnab/Codes/Projects/retrieval/results/causal_tracing_test/residual\n",
      "<class 'transformers.tokenization_utils_fast.PreTrainedTokenizerFast'>\n",
      "2025-02-19 13:01:15 src.trace DEBUG    answer=PredictedToken(token=' explor', prob=0.45458984375, logit=18.71875, token_id=48539)\n",
      "<class 'transformers.tokenization_utils_fast.PreTrainedTokenizerFast'>\n",
      "2025-02-19 13:01:15 src.trace DEBUG    clean_answer=PredictedToken(token=' Portuguese', prob=0.23095703125, logit=16.015625, token_id=43288)\n",
      "2025-02-19 13:01:15 src.trace DEBUG    track_ans=PredictedToken(token=' explor', prob=0.11431884765625, logit=15.3125, token_id=48539)\n",
      "2025-02-19 13:01:15 src.trace DEBUG    ---------- tracing important states ----------\n"
     ]
    },
    {
     "name": "stderr",
     "output_type": "stream",
     "text": [
      "100%|██████████| 640/640 [00:41<00:00, 15.29it/s]"
     ]
    },
    {
     "name": "stdout",
     "output_type": "stream",
     "text": [
      "2025-02-19 13:01:57 src.trace INFO     base_score=18.71875 | low_score=15.3125\n"
     ]
    },
    {
     "name": "stderr",
     "output_type": "stream",
     "text": [
      "\n"
     ]
    },
    {
     "name": "stdout",
     "output_type": "stream",
     "text": [
      "saving to >>  /home/local_arnab/Codes/Projects/retrieval/results/causal_tracing_test/mlp\n",
      "<class 'transformers.tokenization_utils_fast.PreTrainedTokenizerFast'>\n",
      "2025-02-19 13:01:58 src.trace DEBUG    answer=PredictedToken(token=' explor', prob=0.45458984375, logit=18.71875, token_id=48539)\n",
      "<class 'transformers.tokenization_utils_fast.PreTrainedTokenizerFast'>\n",
      "2025-02-19 13:01:58 src.trace DEBUG    clean_answer=PredictedToken(token=' Portuguese', prob=0.23095703125, logit=16.015625, token_id=43288)\n",
      "2025-02-19 13:01:58 src.trace DEBUG    track_ans=PredictedToken(token=' explor', prob=0.11431884765625, logit=15.3125, token_id=48539)\n",
      "2025-02-19 13:01:58 src.trace DEBUG    ---------- tracing important states ----------\n"
     ]
    },
    {
     "name": "stderr",
     "output_type": "stream",
     "text": [
      "100%|██████████| 640/640 [00:42<00:00, 15.23it/s]"
     ]
    },
    {
     "name": "stdout",
     "output_type": "stream",
     "text": [
      "2025-02-19 13:02:40 src.trace INFO     base_score=18.71875 | low_score=15.3125\n"
     ]
    },
    {
     "name": "stderr",
     "output_type": "stream",
     "text": [
      "\n"
     ]
    },
    {
     "name": "stdout",
     "output_type": "stream",
     "text": [
      "saving to >>  /home/local_arnab/Codes/Projects/retrieval/results/causal_tracing_test/attention\n",
      "----------------------------------------------------------------------------------------------------\n",
      "\n",
      "\n",
      "2025-02-19 13:02:40 __main__ INFO     (13/20)  entities=['Elephant', 'Whale']\n"
     ]
    },
    {
     "name": "stderr",
     "output_type": "stream",
     "text": [
      "/home/local_arnab/miniconda3/envs/retrieval/lib/python3.11/site-packages/transformers/generation/configuration_utils.py:628: UserWarning: `do_sample` is set to `False`. However, `temperature` is set to `0.6` -- this flag is only used in sample-based generation modes. You should set `do_sample=True` or unset `temperature`.\n",
      "  warnings.warn(\n",
      "/home/local_arnab/miniconda3/envs/retrieval/lib/python3.11/site-packages/transformers/generation/configuration_utils.py:633: UserWarning: `do_sample` is set to `False`. However, `top_p` is set to `0.9` -- this flag is only used in sample-based generation modes. You should set `do_sample=True` or unset `top_p`.\n",
      "  warnings.warn(\n",
      "Setting `pad_token_id` to `eos_token_id`:128001 for open-end generation.\n"
     ]
    },
    {
     "name": "stdout",
     "output_type": "stream",
     "text": [
      "2025-02-19 13:02:42 __main__ INFO     (placeholder, Whale) => animals.\n"
     ]
    },
    {
     "name": "stderr",
     "output_type": "stream",
     "text": [
      "Setting `pad_token_id` to `eos_token_id`:128001 for open-end generation.\n"
     ]
    },
    {
     "name": "stdout",
     "output_type": "stream",
     "text": [
      "2025-02-19 13:02:43 __main__ INFO     (Elephant, Whale) => mammals.\n",
      "<class 'transformers.tokenization_utils_fast.PreTrainedTokenizerFast'>\n",
      "2025-02-19 13:02:44 src.trace DEBUG    answer=PredictedToken(token=' mammals', prob=0.310302734375, logit=16.71875, token_id=56669)\n",
      "<class 'transformers.tokenization_utils_fast.PreTrainedTokenizerFast'>\n",
      "2025-02-19 13:02:44 src.trace DEBUG    clean_answer=PredictedToken(token=' animals', prob=0.0491943359375, logit=12.1875, token_id=10099)\n",
      "2025-02-19 13:02:44 src.trace DEBUG    track_ans=PredictedToken(token=' mammals', prob=0.0280303955078125, logit=11.625, token_id=56669)\n",
      "2025-02-19 13:02:44 src.trace DEBUG    ---------- tracing important states ----------\n"
     ]
    },
    {
     "name": "stderr",
     "output_type": "stream",
     "text": [
      "100%|██████████| 480/480 [00:30<00:00, 15.96it/s]"
     ]
    },
    {
     "name": "stdout",
     "output_type": "stream",
     "text": [
      "2025-02-19 13:03:14 src.trace INFO     base_score=16.71875 | low_score=11.625\n"
     ]
    },
    {
     "name": "stderr",
     "output_type": "stream",
     "text": [
      "\n"
     ]
    },
    {
     "name": "stdout",
     "output_type": "stream",
     "text": [
      "saving to >>  /home/local_arnab/Codes/Projects/retrieval/results/causal_tracing_test/residual\n",
      "<class 'transformers.tokenization_utils_fast.PreTrainedTokenizerFast'>\n",
      "2025-02-19 13:03:15 src.trace DEBUG    answer=PredictedToken(token=' mammals', prob=0.310302734375, logit=16.71875, token_id=56669)\n",
      "<class 'transformers.tokenization_utils_fast.PreTrainedTokenizerFast'>\n",
      "2025-02-19 13:03:15 src.trace DEBUG    clean_answer=PredictedToken(token=' animals', prob=0.0491943359375, logit=12.1875, token_id=10099)\n",
      "2025-02-19 13:03:15 src.trace DEBUG    track_ans=PredictedToken(token=' mammals', prob=0.0280303955078125, logit=11.625, token_id=56669)\n",
      "2025-02-19 13:03:15 src.trace DEBUG    ---------- tracing important states ----------\n"
     ]
    },
    {
     "name": "stderr",
     "output_type": "stream",
     "text": [
      "100%|██████████| 480/480 [00:30<00:00, 15.78it/s]"
     ]
    },
    {
     "name": "stdout",
     "output_type": "stream",
     "text": [
      "2025-02-19 13:03:46 src.trace INFO     base_score=16.71875 | low_score=11.625\n"
     ]
    },
    {
     "name": "stderr",
     "output_type": "stream",
     "text": [
      "\n"
     ]
    },
    {
     "name": "stdout",
     "output_type": "stream",
     "text": [
      "saving to >>  /home/local_arnab/Codes/Projects/retrieval/results/causal_tracing_test/mlp\n",
      "<class 'transformers.tokenization_utils_fast.PreTrainedTokenizerFast'>\n",
      "2025-02-19 13:03:46 src.trace DEBUG    answer=PredictedToken(token=' mammals', prob=0.310302734375, logit=16.71875, token_id=56669)\n",
      "<class 'transformers.tokenization_utils_fast.PreTrainedTokenizerFast'>\n",
      "2025-02-19 13:03:47 src.trace DEBUG    clean_answer=PredictedToken(token=' animals', prob=0.0491943359375, logit=12.1875, token_id=10099)\n",
      "2025-02-19 13:03:47 src.trace DEBUG    track_ans=PredictedToken(token=' mammals', prob=0.0280303955078125, logit=11.625, token_id=56669)\n",
      "2025-02-19 13:03:47 src.trace DEBUG    ---------- tracing important states ----------\n"
     ]
    },
    {
     "name": "stderr",
     "output_type": "stream",
     "text": [
      "100%|██████████| 480/480 [00:30<00:00, 15.70it/s]"
     ]
    },
    {
     "name": "stdout",
     "output_type": "stream",
     "text": [
      "2025-02-19 13:04:17 src.trace INFO     base_score=16.71875 | low_score=11.625\n"
     ]
    },
    {
     "name": "stderr",
     "output_type": "stream",
     "text": [
      "\n"
     ]
    },
    {
     "name": "stdout",
     "output_type": "stream",
     "text": [
      "saving to >>  /home/local_arnab/Codes/Projects/retrieval/results/causal_tracing_test/attention\n",
      "----------------------------------------------------------------------------------------------------\n",
      "\n",
      "\n",
      "2025-02-19 13:04:18 __main__ INFO     (14/20)  entities=['Emu', 'Ostrich']\n"
     ]
    },
    {
     "name": "stderr",
     "output_type": "stream",
     "text": [
      "/home/local_arnab/miniconda3/envs/retrieval/lib/python3.11/site-packages/transformers/generation/configuration_utils.py:628: UserWarning: `do_sample` is set to `False`. However, `temperature` is set to `0.6` -- this flag is only used in sample-based generation modes. You should set `do_sample=True` or unset `temperature`.\n",
      "  warnings.warn(\n",
      "/home/local_arnab/miniconda3/envs/retrieval/lib/python3.11/site-packages/transformers/generation/configuration_utils.py:633: UserWarning: `do_sample` is set to `False`. However, `top_p` is set to `0.9` -- this flag is only used in sample-based generation modes. You should set `do_sample=True` or unset `top_p`.\n",
      "  warnings.warn(\n",
      "Setting `pad_token_id` to `eos_token_id`:128001 for open-end generation.\n"
     ]
    },
    {
     "name": "stdout",
     "output_type": "stream",
     "text": [
      "2025-02-19 13:04:19 __main__ INFO     (placeholder, Ostrich) => animals.\n"
     ]
    },
    {
     "name": "stderr",
     "output_type": "stream",
     "text": [
      "Setting `pad_token_id` to `eos_token_id`:128001 for open-end generation.\n"
     ]
    },
    {
     "name": "stdout",
     "output_type": "stream",
     "text": [
      "2025-02-19 13:04:21 __main__ INFO     (Emu, Ostrich) => flightless birds.\n",
      "<class 'transformers.tokenization_utils_fast.PreTrainedTokenizerFast'>\n",
      "2025-02-19 13:04:21 src.trace DEBUG    answer=PredictedToken(token=' flight', prob=0.406982421875, logit=17.03125, token_id=11213)\n",
      "<class 'transformers.tokenization_utils_fast.PreTrainedTokenizerFast'>\n",
      "2025-02-19 13:04:21 src.trace DEBUG    clean_answer=PredictedToken(token=' animals', prob=0.12213134765625, logit=13.4765625, token_id=10099)\n",
      "2025-02-19 13:04:21 src.trace DEBUG    track_ans=PredictedToken(token=' flight', prob=0.00034046173095703125, logit=7.59375, token_id=11213)\n",
      "2025-02-19 13:04:21 src.trace DEBUG    ---------- tracing important states ----------\n"
     ]
    },
    {
     "name": "stderr",
     "output_type": "stream",
     "text": [
      "100%|██████████| 576/576 [00:37<00:00, 15.50it/s]"
     ]
    },
    {
     "name": "stdout",
     "output_type": "stream",
     "text": [
      "2025-02-19 13:04:58 src.trace INFO     base_score=17.03125 | low_score=7.59375\n"
     ]
    },
    {
     "name": "stderr",
     "output_type": "stream",
     "text": [
      "\n"
     ]
    },
    {
     "name": "stdout",
     "output_type": "stream",
     "text": [
      "saving to >>  /home/local_arnab/Codes/Projects/retrieval/results/causal_tracing_test/residual\n",
      "<class 'transformers.tokenization_utils_fast.PreTrainedTokenizerFast'>\n",
      "2025-02-19 13:04:59 src.trace DEBUG    answer=PredictedToken(token=' flight', prob=0.406982421875, logit=17.03125, token_id=11213)\n",
      "<class 'transformers.tokenization_utils_fast.PreTrainedTokenizerFast'>\n",
      "2025-02-19 13:04:59 src.trace DEBUG    clean_answer=PredictedToken(token=' animals', prob=0.12213134765625, logit=13.4765625, token_id=10099)\n",
      "2025-02-19 13:04:59 src.trace DEBUG    track_ans=PredictedToken(token=' flight', prob=0.00034046173095703125, logit=7.59375, token_id=11213)\n",
      "2025-02-19 13:04:59 src.trace DEBUG    ---------- tracing important states ----------\n"
     ]
    },
    {
     "name": "stderr",
     "output_type": "stream",
     "text": [
      "100%|██████████| 576/576 [00:37<00:00, 15.35it/s]"
     ]
    },
    {
     "name": "stdout",
     "output_type": "stream",
     "text": [
      "2025-02-19 13:05:37 src.trace INFO     base_score=17.03125 | low_score=7.59375\n"
     ]
    },
    {
     "name": "stderr",
     "output_type": "stream",
     "text": [
      "\n"
     ]
    },
    {
     "name": "stdout",
     "output_type": "stream",
     "text": [
      "saving to >>  /home/local_arnab/Codes/Projects/retrieval/results/causal_tracing_test/mlp\n",
      "<class 'transformers.tokenization_utils_fast.PreTrainedTokenizerFast'>\n",
      "2025-02-19 13:05:38 src.trace DEBUG    answer=PredictedToken(token=' flight', prob=0.406982421875, logit=17.03125, token_id=11213)\n",
      "<class 'transformers.tokenization_utils_fast.PreTrainedTokenizerFast'>\n",
      "2025-02-19 13:05:38 src.trace DEBUG    clean_answer=PredictedToken(token=' animals', prob=0.12213134765625, logit=13.4765625, token_id=10099)\n",
      "2025-02-19 13:05:38 src.trace DEBUG    track_ans=PredictedToken(token=' flight', prob=0.00034046173095703125, logit=7.59375, token_id=11213)\n",
      "2025-02-19 13:05:38 src.trace DEBUG    ---------- tracing important states ----------\n"
     ]
    },
    {
     "name": "stderr",
     "output_type": "stream",
     "text": [
      "100%|██████████| 576/576 [00:37<00:00, 15.23it/s]"
     ]
    },
    {
     "name": "stdout",
     "output_type": "stream",
     "text": [
      "2025-02-19 13:06:16 src.trace INFO     base_score=17.03125 | low_score=7.59375\n"
     ]
    },
    {
     "name": "stderr",
     "output_type": "stream",
     "text": [
      "\n"
     ]
    },
    {
     "name": "stdout",
     "output_type": "stream",
     "text": [
      "saving to >>  /home/local_arnab/Codes/Projects/retrieval/results/causal_tracing_test/attention\n",
      "----------------------------------------------------------------------------------------------------\n",
      "\n",
      "\n",
      "2025-02-19 13:06:16 __main__ INFO     (15/20)  entities=['Brazil', 'Turkey']\n"
     ]
    },
    {
     "name": "stderr",
     "output_type": "stream",
     "text": [
      "/home/local_arnab/miniconda3/envs/retrieval/lib/python3.11/site-packages/transformers/generation/configuration_utils.py:628: UserWarning: `do_sample` is set to `False`. However, `temperature` is set to `0.6` -- this flag is only used in sample-based generation modes. You should set `do_sample=True` or unset `temperature`.\n",
      "  warnings.warn(\n",
      "/home/local_arnab/miniconda3/envs/retrieval/lib/python3.11/site-packages/transformers/generation/configuration_utils.py:633: UserWarning: `do_sample` is set to `False`. However, `top_p` is set to `0.9` -- this flag is only used in sample-based generation modes. You should set `do_sample=True` or unset `top_p`.\n",
      "  warnings.warn(\n",
      "Setting `pad_token_id` to `eos_token_id`:128001 for open-end generation.\n"
     ]
    },
    {
     "name": "stdout",
     "output_type": "stream",
     "text": [
      "2025-02-19 13:06:18 __main__ INFO     (placeholder, Turkey) => countries.\n"
     ]
    },
    {
     "name": "stderr",
     "output_type": "stream",
     "text": [
      "Setting `pad_token_id` to `eos_token_id`:128001 for open-end generation.\n"
     ]
    },
    {
     "name": "stdout",
     "output_type": "stream",
     "text": [
      "2025-02-19 13:06:19 __main__ INFO     (Brazil, Turkey) => members of the G20.\n",
      "<class 'transformers.tokenization_utils_fast.PreTrainedTokenizerFast'>\n",
      "2025-02-19 13:06:20 src.trace DEBUG    answer=PredictedToken(token=' members', prob=0.22412109375, logit=15.78125, token_id=3697)\n",
      "<class 'transformers.tokenization_utils_fast.PreTrainedTokenizerFast'>\n",
      "2025-02-19 13:06:20 src.trace DEBUG    clean_answer=PredictedToken(token=' countries', prob=0.1246337890625, logit=13.796875, token_id=5961)\n",
      "2025-02-19 13:06:20 src.trace DEBUG    track_ans=PredictedToken(token=' members', prob=0.033538818359375, logit=12.484375, token_id=3697)\n",
      "2025-02-19 13:06:20 src.trace DEBUG    ---------- tracing important states ----------\n"
     ]
    },
    {
     "name": "stderr",
     "output_type": "stream",
     "text": [
      "100%|██████████| 480/480 [00:30<00:00, 15.96it/s]"
     ]
    },
    {
     "name": "stdout",
     "output_type": "stream",
     "text": [
      "2025-02-19 13:06:50 src.trace INFO     base_score=15.78125 | low_score=12.484375\n"
     ]
    },
    {
     "name": "stderr",
     "output_type": "stream",
     "text": [
      "\n"
     ]
    },
    {
     "name": "stdout",
     "output_type": "stream",
     "text": [
      "saving to >>  /home/local_arnab/Codes/Projects/retrieval/results/causal_tracing_test/residual\n",
      "<class 'transformers.tokenization_utils_fast.PreTrainedTokenizerFast'>\n",
      "2025-02-19 13:06:51 src.trace DEBUG    answer=PredictedToken(token=' members', prob=0.22412109375, logit=15.78125, token_id=3697)\n",
      "<class 'transformers.tokenization_utils_fast.PreTrainedTokenizerFast'>\n",
      "2025-02-19 13:06:51 src.trace DEBUG    clean_answer=PredictedToken(token=' countries', prob=0.1246337890625, logit=13.796875, token_id=5961)\n",
      "2025-02-19 13:06:51 src.trace DEBUG    track_ans=PredictedToken(token=' members', prob=0.033538818359375, logit=12.484375, token_id=3697)\n",
      "2025-02-19 13:06:51 src.trace DEBUG    ---------- tracing important states ----------\n"
     ]
    },
    {
     "name": "stderr",
     "output_type": "stream",
     "text": [
      "100%|██████████| 480/480 [00:30<00:00, 15.82it/s]"
     ]
    },
    {
     "name": "stdout",
     "output_type": "stream",
     "text": [
      "2025-02-19 13:07:21 src.trace INFO     base_score=15.78125 | low_score=12.484375\n"
     ]
    },
    {
     "name": "stderr",
     "output_type": "stream",
     "text": [
      "\n"
     ]
    },
    {
     "name": "stdout",
     "output_type": "stream",
     "text": [
      "saving to >>  /home/local_arnab/Codes/Projects/retrieval/results/causal_tracing_test/mlp\n",
      "<class 'transformers.tokenization_utils_fast.PreTrainedTokenizerFast'>\n",
      "2025-02-19 13:07:22 src.trace DEBUG    answer=PredictedToken(token=' members', prob=0.22412109375, logit=15.78125, token_id=3697)\n",
      "<class 'transformers.tokenization_utils_fast.PreTrainedTokenizerFast'>\n",
      "2025-02-19 13:07:22 src.trace DEBUG    clean_answer=PredictedToken(token=' countries', prob=0.1246337890625, logit=13.796875, token_id=5961)\n",
      "2025-02-19 13:07:22 src.trace DEBUG    track_ans=PredictedToken(token=' members', prob=0.033538818359375, logit=12.484375, token_id=3697)\n",
      "2025-02-19 13:07:22 src.trace DEBUG    ---------- tracing important states ----------\n"
     ]
    },
    {
     "name": "stderr",
     "output_type": "stream",
     "text": [
      "100%|██████████| 480/480 [00:30<00:00, 15.72it/s]"
     ]
    },
    {
     "name": "stdout",
     "output_type": "stream",
     "text": [
      "2025-02-19 13:07:53 src.trace INFO     base_score=15.78125 | low_score=12.484375\n"
     ]
    },
    {
     "name": "stderr",
     "output_type": "stream",
     "text": [
      "\n"
     ]
    },
    {
     "name": "stdout",
     "output_type": "stream",
     "text": [
      "saving to >>  /home/local_arnab/Codes/Projects/retrieval/results/causal_tracing_test/attention\n",
      "----------------------------------------------------------------------------------------------------\n",
      "\n",
      "\n",
      "2025-02-19 13:07:53 __main__ INFO     (16/20)  entities=['jellyfish', 'lobster']\n"
     ]
    },
    {
     "name": "stderr",
     "output_type": "stream",
     "text": [
      "/home/local_arnab/miniconda3/envs/retrieval/lib/python3.11/site-packages/transformers/generation/configuration_utils.py:628: UserWarning: `do_sample` is set to `False`. However, `temperature` is set to `0.6` -- this flag is only used in sample-based generation modes. You should set `do_sample=True` or unset `temperature`.\n",
      "  warnings.warn(\n",
      "/home/local_arnab/miniconda3/envs/retrieval/lib/python3.11/site-packages/transformers/generation/configuration_utils.py:633: UserWarning: `do_sample` is set to `False`. However, `top_p` is set to `0.9` -- this flag is only used in sample-based generation modes. You should set `do_sample=True` or unset `top_p`.\n",
      "  warnings.warn(\n",
      "Setting `pad_token_id` to `eos_token_id`:128001 for open-end generation.\n"
     ]
    },
    {
     "name": "stdout",
     "output_type": "stream",
     "text": [
      "2025-02-19 13:07:55 __main__ INFO     (placeholder, lobster) => used as a placeholder in a text.\n"
     ]
    },
    {
     "name": "stderr",
     "output_type": "stream",
     "text": [
      "Setting `pad_token_id` to `eos_token_id`:128001 for open-end generation.\n"
     ]
    },
    {
     "name": "stdout",
     "output_type": "stream",
     "text": [
      "2025-02-19 13:07:56 __main__ INFO     (jellyfish, lobster) => invertebrates.\n",
      "<class 'transformers.tokenization_utils_fast.PreTrainedTokenizerFast'>\n",
      "2025-02-19 13:07:57 src.trace DEBUG    answer=PredictedToken(token=' in', prob=0.201904296875, logit=15.6484375, token_id=304)\n",
      "<class 'transformers.tokenization_utils_fast.PreTrainedTokenizerFast'>\n",
      "2025-02-19 13:07:57 src.trace DEBUG    clean_answer=PredictedToken(token=' in', prob=0.030181884765625, logit=11.65625, token_id=304)\n",
      "2025-02-19 13:07:57 src.trace DEBUG    track_ans=PredictedToken(token=' in', prob=0.030181884765625, logit=11.65625, token_id=304)\n",
      "2025-02-19 13:07:57 src.trace DEBUG    ---------- tracing important states ----------\n",
      "2025-02-19 13:07:57 __main__ ERROR    Error in entities=['jellyfish', 'lobster'] => Answers in the clean and corrupt runs are the same\n",
      "2025-02-19 13:07:57 __main__ WARNING  Skipping jellyfish__<>__placeholder.npz\n",
      "<class 'transformers.tokenization_utils_fast.PreTrainedTokenizerFast'>\n",
      "2025-02-19 13:07:57 src.trace DEBUG    answer=PredictedToken(token=' in', prob=0.201904296875, logit=15.6484375, token_id=304)\n",
      "<class 'transformers.tokenization_utils_fast.PreTrainedTokenizerFast'>\n",
      "2025-02-19 13:07:58 src.trace DEBUG    clean_answer=PredictedToken(token=' in', prob=0.030181884765625, logit=11.65625, token_id=304)\n",
      "2025-02-19 13:07:58 src.trace DEBUG    track_ans=PredictedToken(token=' in', prob=0.030181884765625, logit=11.65625, token_id=304)\n",
      "2025-02-19 13:07:58 src.trace DEBUG    ---------- tracing important states ----------\n",
      "2025-02-19 13:07:58 __main__ ERROR    Error in entities=['jellyfish', 'lobster'] => Answers in the clean and corrupt runs are the same\n",
      "2025-02-19 13:07:58 __main__ WARNING  Skipping jellyfish__<>__placeholder.npz\n",
      "<class 'transformers.tokenization_utils_fast.PreTrainedTokenizerFast'>\n",
      "2025-02-19 13:07:58 src.trace DEBUG    answer=PredictedToken(token=' in', prob=0.201904296875, logit=15.6484375, token_id=304)\n",
      "<class 'transformers.tokenization_utils_fast.PreTrainedTokenizerFast'>\n",
      "2025-02-19 13:07:58 src.trace DEBUG    clean_answer=PredictedToken(token=' in', prob=0.030181884765625, logit=11.65625, token_id=304)\n",
      "2025-02-19 13:07:58 src.trace DEBUG    track_ans=PredictedToken(token=' in', prob=0.030181884765625, logit=11.65625, token_id=304)\n",
      "2025-02-19 13:07:58 src.trace DEBUG    ---------- tracing important states ----------\n",
      "2025-02-19 13:07:58 __main__ ERROR    Error in entities=['jellyfish', 'lobster'] => Answers in the clean and corrupt runs are the same\n",
      "2025-02-19 13:07:58 __main__ WARNING  Skipping jellyfish__<>__placeholder.npz\n",
      "----------------------------------------------------------------------------------------------------\n",
      "\n",
      "\n",
      "2025-02-19 13:07:58 __main__ INFO     (17/20)  entities=['corn', 'wheat']\n"
     ]
    },
    {
     "name": "stderr",
     "output_type": "stream",
     "text": [
      "Setting `pad_token_id` to `eos_token_id`:128001 for open-end generation.\n"
     ]
    },
    {
     "name": "stdout",
     "output_type": "stream",
     "text": [
      "2025-02-19 13:08:00 __main__ INFO     (placeholder, wheat) => used as a placeholder in the English language.\n"
     ]
    },
    {
     "name": "stderr",
     "output_type": "stream",
     "text": [
      "Setting `pad_token_id` to `eos_token_id`:128001 for open-end generation.\n"
     ]
    },
    {
     "name": "stdout",
     "output_type": "stream",
     "text": [
      "2025-02-19 13:08:01 __main__ INFO     (corn, wheat) => staple crops.\n",
      "<class 'transformers.tokenization_utils_fast.PreTrainedTokenizerFast'>\n",
      "2025-02-19 13:08:01 src.trace DEBUG    answer=PredictedToken(token=' staple', prob=0.1856689453125, logit=17.078125, token_id=50056)\n",
      "<class 'transformers.tokenization_utils_fast.PreTrainedTokenizerFast'>\n",
      "2025-02-19 13:08:02 src.trace DEBUG    clean_answer=PredictedToken(token=' used', prob=0.09661865234375, logit=13.1875, token_id=1511)\n",
      "2025-02-19 13:08:02 src.trace DEBUG    track_ans=PredictedToken(token=' staple', prob=0.00913238525390625, logit=10.828125, token_id=50056)\n",
      "2025-02-19 13:08:02 src.trace DEBUG    ---------- tracing important states ----------\n"
     ]
    },
    {
     "name": "stderr",
     "output_type": "stream",
     "text": [
      "100%|██████████| 480/480 [00:29<00:00, 16.02it/s]"
     ]
    },
    {
     "name": "stdout",
     "output_type": "stream",
     "text": [
      "2025-02-19 13:08:32 src.trace INFO     base_score=17.078125 | low_score=10.828125\n"
     ]
    },
    {
     "name": "stderr",
     "output_type": "stream",
     "text": [
      "\n"
     ]
    },
    {
     "name": "stdout",
     "output_type": "stream",
     "text": [
      "saving to >>  /home/local_arnab/Codes/Projects/retrieval/results/causal_tracing_test/residual\n",
      "<class 'transformers.tokenization_utils_fast.PreTrainedTokenizerFast'>\n",
      "2025-02-19 13:08:32 src.trace DEBUG    answer=PredictedToken(token=' staple', prob=0.1856689453125, logit=17.078125, token_id=50056)\n",
      "<class 'transformers.tokenization_utils_fast.PreTrainedTokenizerFast'>\n",
      "2025-02-19 13:08:33 src.trace DEBUG    clean_answer=PredictedToken(token=' used', prob=0.09661865234375, logit=13.1875, token_id=1511)\n",
      "2025-02-19 13:08:33 src.trace DEBUG    track_ans=PredictedToken(token=' staple', prob=0.00913238525390625, logit=10.828125, token_id=50056)\n",
      "2025-02-19 13:08:33 src.trace DEBUG    ---------- tracing important states ----------\n"
     ]
    },
    {
     "name": "stderr",
     "output_type": "stream",
     "text": [
      "100%|██████████| 480/480 [00:30<00:00, 15.85it/s]"
     ]
    },
    {
     "name": "stdout",
     "output_type": "stream",
     "text": [
      "2025-02-19 13:09:03 src.trace INFO     base_score=17.078125 | low_score=10.828125\n"
     ]
    },
    {
     "name": "stderr",
     "output_type": "stream",
     "text": [
      "\n"
     ]
    },
    {
     "name": "stdout",
     "output_type": "stream",
     "text": [
      "saving to >>  /home/local_arnab/Codes/Projects/retrieval/results/causal_tracing_test/mlp\n",
      "<class 'transformers.tokenization_utils_fast.PreTrainedTokenizerFast'>\n",
      "2025-02-19 13:09:04 src.trace DEBUG    answer=PredictedToken(token=' staple', prob=0.1856689453125, logit=17.078125, token_id=50056)\n",
      "<class 'transformers.tokenization_utils_fast.PreTrainedTokenizerFast'>\n",
      "2025-02-19 13:09:04 src.trace DEBUG    clean_answer=PredictedToken(token=' used', prob=0.09661865234375, logit=13.1875, token_id=1511)\n",
      "2025-02-19 13:09:04 src.trace DEBUG    track_ans=PredictedToken(token=' staple', prob=0.00913238525390625, logit=10.828125, token_id=50056)\n",
      "2025-02-19 13:09:04 src.trace DEBUG    ---------- tracing important states ----------\n"
     ]
    },
    {
     "name": "stderr",
     "output_type": "stream",
     "text": [
      "100%|██████████| 480/480 [00:30<00:00, 15.75it/s]"
     ]
    },
    {
     "name": "stdout",
     "output_type": "stream",
     "text": [
      "2025-02-19 13:09:35 src.trace INFO     base_score=17.078125 | low_score=10.828125\n"
     ]
    },
    {
     "name": "stderr",
     "output_type": "stream",
     "text": [
      "\n"
     ]
    },
    {
     "name": "stdout",
     "output_type": "stream",
     "text": [
      "saving to >>  /home/local_arnab/Codes/Projects/retrieval/results/causal_tracing_test/attention\n",
      "----------------------------------------------------------------------------------------------------\n",
      "\n",
      "\n",
      "2025-02-19 13:09:35 __main__ INFO     (18/20)  entities=['crocodile', 'shark']\n"
     ]
    },
    {
     "name": "stderr",
     "output_type": "stream",
     "text": [
      "/home/local_arnab/miniconda3/envs/retrieval/lib/python3.11/site-packages/transformers/generation/configuration_utils.py:628: UserWarning: `do_sample` is set to `False`. However, `temperature` is set to `0.6` -- this flag is only used in sample-based generation modes. You should set `do_sample=True` or unset `temperature`.\n",
      "  warnings.warn(\n",
      "/home/local_arnab/miniconda3/envs/retrieval/lib/python3.11/site-packages/transformers/generation/configuration_utils.py:633: UserWarning: `do_sample` is set to `False`. However, `top_p` is set to `0.9` -- this flag is only used in sample-based generation modes. You should set `do_sample=True` or unset `top_p`.\n",
      "  warnings.warn(\n",
      "Setting `pad_token_id` to `eos_token_id`:128001 for open-end generation.\n"
     ]
    },
    {
     "name": "stdout",
     "output_type": "stream",
     "text": [
      "2025-02-19 13:09:36 __main__ INFO     (placeholder, shark) => fictional characters.\n"
     ]
    },
    {
     "name": "stderr",
     "output_type": "stream",
     "text": [
      "Setting `pad_token_id` to `eos_token_id`:128001 for open-end generation.\n"
     ]
    },
    {
     "name": "stdout",
     "output_type": "stream",
     "text": [
      "2025-02-19 13:09:38 __main__ INFO     (crocodile, shark) => apex predators.\n",
      "<class 'transformers.tokenization_utils_fast.PreTrainedTokenizerFast'>\n",
      "2025-02-19 13:09:38 src.trace DEBUG    answer=PredictedToken(token=' apex', prob=0.1292724609375, logit=15.6875, token_id=72627)\n",
      "<class 'transformers.tokenization_utils_fast.PreTrainedTokenizerFast'>\n",
      "2025-02-19 13:09:39 src.trace DEBUG    clean_answer=PredictedToken(token=' fictional', prob=0.07073974609375, logit=12.6796875, token_id=44682)\n",
      "2025-02-19 13:09:39 src.trace DEBUG    track_ans=PredictedToken(token=' apex', prob=0.0007619857788085938, logit=8.1484375, token_id=72627)\n",
      "2025-02-19 13:09:39 src.trace DEBUG    ---------- tracing important states ----------\n"
     ]
    },
    {
     "name": "stderr",
     "output_type": "stream",
     "text": [
      "100%|██████████| 512/512 [00:32<00:00, 15.95it/s]"
     ]
    },
    {
     "name": "stdout",
     "output_type": "stream",
     "text": [
      "2025-02-19 13:10:11 src.trace INFO     base_score=15.6875 | low_score=8.1484375\n"
     ]
    },
    {
     "name": "stderr",
     "output_type": "stream",
     "text": [
      "\n"
     ]
    },
    {
     "name": "stdout",
     "output_type": "stream",
     "text": [
      "saving to >>  /home/local_arnab/Codes/Projects/retrieval/results/causal_tracing_test/residual\n",
      "<class 'transformers.tokenization_utils_fast.PreTrainedTokenizerFast'>\n",
      "2025-02-19 13:10:11 src.trace DEBUG    answer=PredictedToken(token=' apex', prob=0.1292724609375, logit=15.6875, token_id=72627)\n",
      "<class 'transformers.tokenization_utils_fast.PreTrainedTokenizerFast'>\n",
      "2025-02-19 13:10:12 src.trace DEBUG    clean_answer=PredictedToken(token=' fictional', prob=0.07073974609375, logit=12.6796875, token_id=44682)\n",
      "2025-02-19 13:10:12 src.trace DEBUG    track_ans=PredictedToken(token=' apex', prob=0.0007619857788085938, logit=8.1484375, token_id=72627)\n",
      "2025-02-19 13:10:12 src.trace DEBUG    ---------- tracing important states ----------\n"
     ]
    },
    {
     "name": "stderr",
     "output_type": "stream",
     "text": [
      "100%|██████████| 512/512 [00:32<00:00, 15.80it/s]"
     ]
    },
    {
     "name": "stdout",
     "output_type": "stream",
     "text": [
      "2025-02-19 13:10:44 src.trace INFO     base_score=15.6875 | low_score=8.1484375\n"
     ]
    },
    {
     "name": "stderr",
     "output_type": "stream",
     "text": [
      "\n"
     ]
    },
    {
     "name": "stdout",
     "output_type": "stream",
     "text": [
      "saving to >>  /home/local_arnab/Codes/Projects/retrieval/results/causal_tracing_test/mlp\n",
      "<class 'transformers.tokenization_utils_fast.PreTrainedTokenizerFast'>\n",
      "2025-02-19 13:10:45 src.trace DEBUG    answer=PredictedToken(token=' apex', prob=0.1292724609375, logit=15.6875, token_id=72627)\n",
      "<class 'transformers.tokenization_utils_fast.PreTrainedTokenizerFast'>\n",
      "2025-02-19 13:10:45 src.trace DEBUG    clean_answer=PredictedToken(token=' fictional', prob=0.07073974609375, logit=12.6796875, token_id=44682)\n",
      "2025-02-19 13:10:45 src.trace DEBUG    track_ans=PredictedToken(token=' apex', prob=0.0007619857788085938, logit=8.1484375, token_id=72627)\n",
      "2025-02-19 13:10:45 src.trace DEBUG    ---------- tracing important states ----------\n"
     ]
    },
    {
     "name": "stderr",
     "output_type": "stream",
     "text": [
      "100%|██████████| 512/512 [00:32<00:00, 15.64it/s]"
     ]
    },
    {
     "name": "stdout",
     "output_type": "stream",
     "text": [
      "2025-02-19 13:11:18 src.trace INFO     base_score=15.6875 | low_score=8.1484375\n"
     ]
    },
    {
     "name": "stderr",
     "output_type": "stream",
     "text": [
      "\n"
     ]
    },
    {
     "name": "stdout",
     "output_type": "stream",
     "text": [
      "saving to >>  /home/local_arnab/Codes/Projects/retrieval/results/causal_tracing_test/attention\n",
      "----------------------------------------------------------------------------------------------------\n",
      "\n",
      "\n",
      "2025-02-19 13:11:18 __main__ INFO     (19/20)  entities=['crab', 'spider']\n"
     ]
    },
    {
     "name": "stderr",
     "output_type": "stream",
     "text": [
      "/home/local_arnab/miniconda3/envs/retrieval/lib/python3.11/site-packages/transformers/generation/configuration_utils.py:628: UserWarning: `do_sample` is set to `False`. However, `temperature` is set to `0.6` -- this flag is only used in sample-based generation modes. You should set `do_sample=True` or unset `temperature`.\n",
      "  warnings.warn(\n",
      "/home/local_arnab/miniconda3/envs/retrieval/lib/python3.11/site-packages/transformers/generation/configuration_utils.py:633: UserWarning: `do_sample` is set to `False`. However, `top_p` is set to `0.9` -- this flag is only used in sample-based generation modes. You should set `do_sample=True` or unset `top_p`.\n",
      "  warnings.warn(\n",
      "Setting `pad_token_id` to `eos_token_id`:128001 for open-end generation.\n"
     ]
    },
    {
     "name": "stdout",
     "output_type": "stream",
     "text": [
      "2025-02-19 13:11:20 __main__ INFO     (placeholder, spider) => characters in the Marvel Cinematic Universe.\n"
     ]
    },
    {
     "name": "stderr",
     "output_type": "stream",
     "text": [
      "Setting `pad_token_id` to `eos_token_id`:128001 for open-end generation.\n"
     ]
    },
    {
     "name": "stdout",
     "output_type": "stream",
     "text": [
      "2025-02-19 13:11:21 __main__ INFO     (crab, spider) => arthropods.\n",
      "<class 'transformers.tokenization_utils_fast.PreTrainedTokenizerFast'>\n",
      "2025-02-19 13:11:22 src.trace DEBUG    answer=PredictedToken(token=' ar', prob=0.4072265625, logit=16.71875, token_id=802)\n",
      "<class 'transformers.tokenization_utils_fast.PreTrainedTokenizerFast'>\n",
      "2025-02-19 13:11:22 src.trace DEBUG    clean_answer=PredictedToken(token=' characters', prob=0.045318603515625, logit=12.1484375, token_id=5885)\n",
      "2025-02-19 13:11:22 src.trace DEBUG    track_ans=PredictedToken(token=' ar', prob=0.0012454986572265625, logit=8.5546875, token_id=802)\n",
      "2025-02-19 13:11:22 src.trace DEBUG    ---------- tracing important states ----------\n"
     ]
    },
    {
     "name": "stderr",
     "output_type": "stream",
     "text": [
      "100%|██████████| 480/480 [00:30<00:00, 15.99it/s]"
     ]
    },
    {
     "name": "stdout",
     "output_type": "stream",
     "text": [
      "2025-02-19 13:11:52 src.trace INFO     base_score=16.71875 | low_score=8.5546875\n"
     ]
    },
    {
     "name": "stderr",
     "output_type": "stream",
     "text": [
      "\n"
     ]
    },
    {
     "name": "stdout",
     "output_type": "stream",
     "text": [
      "saving to >>  /home/local_arnab/Codes/Projects/retrieval/results/causal_tracing_test/residual\n",
      "<class 'transformers.tokenization_utils_fast.PreTrainedTokenizerFast'>\n",
      "2025-02-19 13:11:53 src.trace DEBUG    answer=PredictedToken(token=' ar', prob=0.4072265625, logit=16.71875, token_id=802)\n",
      "<class 'transformers.tokenization_utils_fast.PreTrainedTokenizerFast'>\n",
      "2025-02-19 13:11:53 src.trace DEBUG    clean_answer=PredictedToken(token=' characters', prob=0.045318603515625, logit=12.1484375, token_id=5885)\n",
      "2025-02-19 13:11:53 src.trace DEBUG    track_ans=PredictedToken(token=' ar', prob=0.0012454986572265625, logit=8.5546875, token_id=802)\n",
      "2025-02-19 13:11:53 src.trace DEBUG    ---------- tracing important states ----------\n"
     ]
    },
    {
     "name": "stderr",
     "output_type": "stream",
     "text": [
      "100%|██████████| 480/480 [00:30<00:00, 15.90it/s]"
     ]
    },
    {
     "name": "stdout",
     "output_type": "stream",
     "text": [
      "2025-02-19 13:12:23 src.trace INFO     base_score=16.71875 | low_score=8.5546875\n"
     ]
    },
    {
     "name": "stderr",
     "output_type": "stream",
     "text": [
      "\n"
     ]
    },
    {
     "name": "stdout",
     "output_type": "stream",
     "text": [
      "saving to >>  /home/local_arnab/Codes/Projects/retrieval/results/causal_tracing_test/mlp\n",
      "<class 'transformers.tokenization_utils_fast.PreTrainedTokenizerFast'>\n",
      "2025-02-19 13:12:24 src.trace DEBUG    answer=PredictedToken(token=' ar', prob=0.4072265625, logit=16.71875, token_id=802)\n",
      "<class 'transformers.tokenization_utils_fast.PreTrainedTokenizerFast'>\n",
      "2025-02-19 13:12:24 src.trace DEBUG    clean_answer=PredictedToken(token=' characters', prob=0.045318603515625, logit=12.1484375, token_id=5885)\n",
      "2025-02-19 13:12:24 src.trace DEBUG    track_ans=PredictedToken(token=' ar', prob=0.0012454986572265625, logit=8.5546875, token_id=802)\n",
      "2025-02-19 13:12:24 src.trace DEBUG    ---------- tracing important states ----------\n"
     ]
    },
    {
     "name": "stderr",
     "output_type": "stream",
     "text": [
      "100%|██████████| 480/480 [00:30<00:00, 15.75it/s]"
     ]
    },
    {
     "name": "stdout",
     "output_type": "stream",
     "text": [
      "2025-02-19 13:12:55 src.trace INFO     base_score=16.71875 | low_score=8.5546875\n"
     ]
    },
    {
     "name": "stderr",
     "output_type": "stream",
     "text": [
      "\n"
     ]
    },
    {
     "name": "stdout",
     "output_type": "stream",
     "text": [
      "saving to >>  /home/local_arnab/Codes/Projects/retrieval/results/causal_tracing_test/attention\n",
      "----------------------------------------------------------------------------------------------------\n",
      "\n",
      "\n",
      "2025-02-19 13:12:55 __main__ INFO     (20/20)  entities=['copper', 'gold']\n"
     ]
    },
    {
     "name": "stderr",
     "output_type": "stream",
     "text": [
      "/home/local_arnab/miniconda3/envs/retrieval/lib/python3.11/site-packages/transformers/generation/configuration_utils.py:628: UserWarning: `do_sample` is set to `False`. However, `temperature` is set to `0.6` -- this flag is only used in sample-based generation modes. You should set `do_sample=True` or unset `temperature`.\n",
      "  warnings.warn(\n",
      "/home/local_arnab/miniconda3/envs/retrieval/lib/python3.11/site-packages/transformers/generation/configuration_utils.py:633: UserWarning: `do_sample` is set to `False`. However, `top_p` is set to `0.9` -- this flag is only used in sample-based generation modes. You should set `do_sample=True` or unset `top_p`.\n",
      "  warnings.warn(\n",
      "Setting `pad_token_id` to `eos_token_id`:128001 for open-end generation.\n"
     ]
    },
    {
     "name": "stdout",
     "output_type": "stream",
     "text": [
      "2025-02-19 13:12:57 __main__ INFO     (placeholder, gold) => used as a placeholder in the past.\n"
     ]
    },
    {
     "name": "stderr",
     "output_type": "stream",
     "text": [
      "Setting `pad_token_id` to `eos_token_id`:128001 for open-end generation.\n"
     ]
    },
    {
     "name": "stdout",
     "output_type": "stream",
     "text": [
      "2025-02-19 13:12:58 __main__ INFO     (copper, gold) => used as currency.\n",
      "<class 'transformers.tokenization_utils_fast.PreTrainedTokenizerFast'>\n",
      "2025-02-19 13:12:59 src.trace DEBUG    answer=PredictedToken(token=' used', prob=0.4423828125, logit=18.171875, token_id=1511)\n",
      "<class 'transformers.tokenization_utils_fast.PreTrainedTokenizerFast'>\n",
      "2025-02-19 13:12:59 src.trace DEBUG    clean_answer=PredictedToken(token=' used', prob=0.064453125, logit=12.1015625, token_id=1511)\n",
      "2025-02-19 13:12:59 src.trace DEBUG    track_ans=PredictedToken(token=' used', prob=0.064453125, logit=12.1015625, token_id=1511)\n",
      "2025-02-19 13:12:59 src.trace DEBUG    ---------- tracing important states ----------\n",
      "2025-02-19 13:12:59 __main__ ERROR    Error in entities=['copper', 'gold'] => Answers in the clean and corrupt runs are the same\n",
      "2025-02-19 13:12:59 __main__ WARNING  Skipping copper__<>__placeholder.npz\n",
      "<class 'transformers.tokenization_utils_fast.PreTrainedTokenizerFast'>\n",
      "2025-02-19 13:12:59 src.trace DEBUG    answer=PredictedToken(token=' used', prob=0.4423828125, logit=18.171875, token_id=1511)\n",
      "<class 'transformers.tokenization_utils_fast.PreTrainedTokenizerFast'>\n",
      "2025-02-19 13:12:59 src.trace DEBUG    clean_answer=PredictedToken(token=' used', prob=0.064453125, logit=12.1015625, token_id=1511)\n",
      "2025-02-19 13:12:59 src.trace DEBUG    track_ans=PredictedToken(token=' used', prob=0.064453125, logit=12.1015625, token_id=1511)\n",
      "2025-02-19 13:12:59 src.trace DEBUG    ---------- tracing important states ----------\n",
      "2025-02-19 13:12:59 __main__ ERROR    Error in entities=['copper', 'gold'] => Answers in the clean and corrupt runs are the same\n",
      "2025-02-19 13:12:59 __main__ WARNING  Skipping copper__<>__placeholder.npz\n",
      "<class 'transformers.tokenization_utils_fast.PreTrainedTokenizerFast'>\n",
      "2025-02-19 13:13:00 src.trace DEBUG    answer=PredictedToken(token=' used', prob=0.4423828125, logit=18.171875, token_id=1511)\n",
      "<class 'transformers.tokenization_utils_fast.PreTrainedTokenizerFast'>\n",
      "2025-02-19 13:13:00 src.trace DEBUG    clean_answer=PredictedToken(token=' used', prob=0.064453125, logit=12.1015625, token_id=1511)\n",
      "2025-02-19 13:13:00 src.trace DEBUG    track_ans=PredictedToken(token=' used', prob=0.064453125, logit=12.1015625, token_id=1511)\n",
      "2025-02-19 13:13:00 src.trace DEBUG    ---------- tracing important states ----------\n",
      "2025-02-19 13:13:00 __main__ ERROR    Error in entities=['copper', 'gold'] => Answers in the clean and corrupt runs are the same\n",
      "2025-02-19 13:13:00 __main__ WARNING  Skipping copper__<>__placeholder.npz\n",
      "----------------------------------------------------------------------------------------------------\n",
      "\n",
      "\n"
     ]
    }
   ],
   "source": [
    "save_dir = os.path.join(env_utils.DEFAULT_RESULTS_DIR, \"causal_tracing_test\")\n",
    "os.makedirs(save_dir, exist_ok=True)\n",
    "\n",
    "for idx, c in enumerate(coincidences[\"examples\"]):\n",
    "    entities = c[\"entity_pair\"]\n",
    "    logger.info(f\"({idx+1}/{len(coincidences['examples'])})  {entities=}\")\n",
    "\n",
    "    common_entity = entities[1]\n",
    "    patch_entity = entities[0]\n",
    "    clean_entity = \"placeholder\"\n",
    "\n",
    "    clean_prompt = prepare_probing_input(\n",
    "        mt=mt,\n",
    "        entities=(clean_entity, common_entity),\n",
    "        prefix=prefix,\n",
    "        answer_marker=answer_marker,\n",
    "        question_marker=question_marker,\n",
    "        block_separator=block_separator,\n",
    "        is_a_reasoning_model=\"deepseek\" in model_key.lower(),\n",
    "        answer_prefix=\" They are/were both\",\n",
    "        return_offsets_mapping=True\n",
    "    )\n",
    "    clean_answer = get_lm_generated_answer(\n",
    "        mt=mt, prompt=clean_prompt, \n",
    "        is_a_reasoning_model=\"deepseek\" in model_key.lower()\n",
    "    )\n",
    "    logger.info(f\"({clean_entity}, {common_entity}) => {clean_answer}\")\n",
    "\n",
    "    patched_prompt = prepare_probing_input(\n",
    "        mt=mt,\n",
    "        entities=(patch_entity, common_entity),\n",
    "        prefix=prefix,\n",
    "        answer_marker=answer_marker,\n",
    "        question_marker=question_marker,\n",
    "        block_separator=block_separator,\n",
    "        is_a_reasoning_model=\"deepseek\" in model_key.lower(),\n",
    "        answer_prefix=\" They are/were both\",\n",
    "        return_offsets_mapping=True\n",
    "    )\n",
    "\n",
    "    patched_answer = get_lm_generated_answer(\n",
    "        mt=mt, prompt=patched_prompt, \n",
    "        is_a_reasoning_model=\"deepseek\" in model_key.lower()\n",
    "    )\n",
    "    logger.info(f\"({patch_entity}, {common_entity}) => {patched_answer}\")\n",
    "\n",
    "    prompt_template = clean_prompt.prompt.replace(clean_entity, \"{}\")\n",
    "\n",
    "    file_name = f\"{patch_entity}__<>__{clean_entity}.npz\"\n",
    "    for kind in [\"residual\", \"mlp\", \"attention\"]:\n",
    "    # for kind in [\"residual\"]:\n",
    "        try:\n",
    "        # if True:\n",
    "            trace_results = trace_important_states(\n",
    "                mt=mt,\n",
    "                prompt_template=prompt_template,\n",
    "                clean_subj=clean_entity,\n",
    "                patched_subj=patch_entity,\n",
    "                clean_input=TokenizerOutput(data=clean_prompt.tokenized),\n",
    "                patched_input=TokenizerOutput(data=patched_prompt.tokenized),\n",
    "                trace_start_marker=\"#\",\n",
    "                metric=\"logit\",\n",
    "                normalize=True,\n",
    "                kind=kind,\n",
    "                window_size=1 if kind == \"residual\" else 5,\n",
    "            )\n",
    "            kind_save_dir = os.path.join(save_dir, kind)\n",
    "            os.makedirs(kind_save_dir, exist_ok=True)\n",
    "            print(\"saving to >> \", kind_save_dir)\n",
    "\n",
    "            trace_results_dten = detensorize(trace_results)\n",
    "\n",
    "            np.savez_compressed(\n",
    "                os.path.join(kind_save_dir, f\"{file_name}\"),\n",
    "                **trace_results_dten.__dict__,\n",
    "                allow_pickle=True\n",
    "            )\n",
    "        except Exception as e:\n",
    "            logger.error(f\"Error in {entities=} => {e}\")\n",
    "            logger.warning(f\"Skipping {file_name}\")\n",
    "            continue\n",
    "    \n",
    "    print(\"-\"*100)\n",
    "    print(\"\\n\")"
   ]
  },
  {
   "cell_type": "code",
   "execution_count": 131,
   "metadata": {},
   "outputs": [],
   "source": [
    "# from src.trace import CausalTracingResult\n",
    "\n",
    "# load_dir = os.path.join(env_utils.DEFAULT_RESULTS_DIR, \"causal_tracing_test\", \"residual\")\n",
    "\n",
    "# indirect_effects_collection = []\n",
    "# for file_name in os.listdir(load_dir):\n",
    "#     npz_file = np.load(os.path.join(load_dir, file_name), allow_pickle=True)\n",
    "#     indirect_effects_collection.append(CausalTracingResult.from_npz(npz_file))"
   ]
  },
  {
   "cell_type": "code",
   "execution_count": 132,
   "metadata": {},
   "outputs": [],
   "source": [
    "from src.tokens import prepare_input, find_token_range\n",
    "from src.trace import CausalTracingResult\n",
    "\n",
    "\n",
    "def find_common_entity_range(mt, toks, common_entity):\n",
    "    text = \"\".join(toks)\n",
    "    inputs = prepare_input(\n",
    "        prompts=text,\n",
    "        tokenizer=mt,\n",
    "        add_special_tokens=False,\n",
    "        return_offsets_mapping=True,\n",
    "    )\n",
    "    rng = find_token_range(\n",
    "        string=text,\n",
    "        substring=common_entity,\n",
    "        tokenizer=mt,\n",
    "        offset_mapping=inputs[\"offset_mapping\"][0],\n",
    "        occurence=-1,\n",
    "    )\n",
    "    return rng\n",
    "\n",
    "\n",
    "def get_token_ranges(\n",
    "    mt: ModelandTokenizer,\n",
    "    trace_res: CausalTracingResult,\n",
    "    common_entity: str,\n",
    "):\n",
    "    common_entity_range_patch = find_common_entity_range(mt, trace_res.patch_input_toks, common_entity)\n",
    "\n",
    "    # common_entity_range_clean = find_common_entity_range(mt, trace_res.corrupt_input_toks, common_entity)\n",
    "    # print(common_entity_range_patch, common_entity_range_clean)\n",
    "\n",
    "    # print(trace_res.patch_input_toks[slice(*common_entity_range_patch)])\n",
    "    # print(trace_res.patch_input_toks[200:])\n",
    "\n",
    "    # print(trace_res.corrupt_input_toks[slice(*common_entity_range_patch)])\n",
    "    # print(trace_res.corrupt_input_toks[200:])\n",
    "\n",
    "    # assert common_entity_range_patch == common_entity_range_clean\n",
    "    assert trace_res.patch_input_toks[slice(*common_entity_range_patch)] == trace_res.corrupt_input_toks[slice(*common_entity_range_patch)]\n",
    "\n",
    "    between_entities = (trace_res.subj_range[1], common_entity_range_patch[0])\n",
    "\n",
    "    query_indices = (common_entity_range_patch[1], len(trace_res.patch_input_toks) - 2)\n",
    "\n",
    "    subj_len = trace_res.subj_range[1] - trace_res.subj_range[0]\n",
    "    common_len = common_entity_range_patch[1] - common_entity_range_patch[0]\n",
    "\n",
    "    return dict(\n",
    "        previous = (trace_res.trace_start_idx, trace_res.subj_range[0]),\n",
    "        subj_upto_2nd_last = (trace_res.subj_range[0], trace_res.subj_range[1] - 2) if subj_len > 2 else None,\n",
    "        subj_2nd_last = trace_res.subj_range[1] - 2 if subj_len >= 2 else None,\n",
    "        subj_last = trace_res.subj_range[1] - 1,\n",
    "        between_entities=between_entities,\n",
    "        common_upto_2nd_last = (common_entity_range_patch[0], common_entity_range_patch[1] - 2) if common_len > 2 else None,\n",
    "        common_2nd_last = common_entity_range_patch[1] - 2 if common_len >= 2 else None,\n",
    "        common_last = common_entity_range_patch[1] - 1,\n",
    "        query_indices=query_indices,\n",
    "        second_last=-2,\n",
    "        last=-1,\n",
    "    ) \n",
    "\n",
    "\n",
    "def get_categorized_indirect_effects(trace_res: CausalTracingResult, token_ranges: dict[str, int | tuple[int, int]]):\n",
    "    indirect_effects = {}\n",
    "    for category in token_ranges:\n",
    "        if token_ranges[category] is None:\n",
    "            indirect_effects[category] = None\n",
    "            continue\n",
    "        if isinstance(token_ranges[category], int) == False:\n",
    "            rng = token_ranges[category]\n",
    "            rng = (rng[0] - trace_res.trace_start_idx, rng[1] - trace_res.trace_start_idx)\n",
    "            indirect_effects[category] = trace_res.indirect_effects[rng[0] : rng[1]].mean(dim=0)\n",
    "        else:\n",
    "            idx = token_ranges[category]\n",
    "            idx = idx - trace_res.trace_start_idx if idx > 0 else idx\n",
    "            indirect_effects[category] = trace_res.indirect_effects[idx]\n",
    "    \n",
    "    return indirect_effects\n",
    "\n",
    "\n",
    "        \n",
    "\n",
    "# trace_res = indirect_effects_collection[0] \n",
    "# token_ranges = get_token_ranges(\n",
    "#     mt, trace_res, common_entity=\"Vasco da Gama\"\n",
    "# )\n",
    "# categorized_effects = get_categorized_indirect_effects(trace_res, token_ranges)"
   ]
  },
  {
   "cell_type": "code",
   "execution_count": 133,
   "metadata": {},
   "outputs": [],
   "source": [
    "from typing import Literal\n",
    "from src.utils.typing import PredictedToken\n",
    "\n",
    "def average_indirect_effects(\n",
    "    categorized_effects: list[dict], \n",
    "    kind: Literal[\"residual\", \"mlp\", \"attention\"] = \"residual\",\n",
    "    window: int = 1,\n",
    "    metric: Literal[\"logit\", \"prob\"] = \"logit\"\n",
    "):\n",
    "    aie = {k: torch.zeros(mt.n_layer) for k, v in categorized_effects[0].items()}\n",
    "    for category in aie:\n",
    "        category_count = 0\n",
    "        for effects in categorized_effects:\n",
    "            if effects[category] is not None:\n",
    "                aie[category] += effects[category]\n",
    "                category_count += 1\n",
    "        if category_count > 0:\n",
    "            aie[category] /= category_count\n",
    "\n",
    "    return CausalTracingResult(\n",
    "        patch_input_toks=list(aie.keys()),\n",
    "        corrupt_input_toks=list(aie.keys()),\n",
    "        indirect_effects=torch.stack(list(aie.values())),\n",
    "        trace_start_idx=0,\n",
    "        answer = PredictedToken(token=\"Ans\", prob=1.0, logit=10.0),\n",
    "        low_score=0.0,\n",
    "        subj_range=(1, 4),\n",
    "        normalized=True,\n",
    "        kind=kind,\n",
    "        window=window,\n",
    "        metric=metric\n",
    "    )\n",
    "\n",
    "# aie = average_indirect_effects(categorized_effects=[categorized_effects])"
   ]
  },
  {
   "cell_type": "code",
   "execution_count": 134,
   "metadata": {},
   "outputs": [],
   "source": [
    "# plot_trace_heatmap(\n",
    "#     result=aie,\n",
    "#     model_name=model_key.split(\"/\")[-1],\n",
    "#     scale_range=(0, 1) if aie.normalized == True else None\n",
    "# )"
   ]
  },
  {
   "cell_type": "code",
   "execution_count": 137,
   "metadata": {},
   "outputs": [
    {
     "name": "stdout",
     "output_type": "stream",
     "text": [
      "2025-02-19 14:02:05 __main__ INFO     (1/20)  entities=['Germany', 'Japan']\n",
      "2025-02-19 14:02:05 __main__ INFO     (2/20)  entities=['Hugh Jackman', 'Ryan Reynolds']\n",
      "2025-02-19 14:02:05 __main__ INFO     (3/20)  entities=['Bhutan', 'Tuvalu']\n"
     ]
    },
    {
     "name": "stdout",
     "output_type": "stream",
     "text": [
      "2025-02-19 14:02:05 __main__ INFO     (4/20)  entities=['Vatican City', 'Mount Athos']\n",
      "2025-02-19 14:02:05 __main__ INFO     (5/20)  entities=['Rosetta Stone', 'Dead Sea Scrolls']\n",
      "2025-02-19 14:02:05 __main__ INFO     (6/20)  entities=['Leonardo da Vinci', 'Benjamin Franklin']\n",
      "2025-02-19 14:02:05 __main__ INFO     (7/20)  entities=['Daredevil', 'Toph Beifong']\n",
      "2025-02-19 14:02:05 __main__ INFO     (8/20)  entities=['Memento', 'Inception']\n",
      "2025-02-19 14:02:05 __main__ INFO     (9/20)  entities=['Julius Caesar', 'Nepoleon Bonaparte']\n",
      "2025-02-19 14:02:05 __main__ INFO     (10/20)  entities=['The Godfather', 'Goodfellas']\n",
      "2025-02-19 14:02:05 __main__ INFO     (11/20)  entities=['The Green Mile', 'The Shawshank Redemption']\n",
      "2025-02-19 14:02:05 __main__ INFO     (12/20)  entities=['Christopher Columbus', 'Vasco da Gama']\n",
      "2025-02-19 14:02:05 __main__ INFO     (13/20)  entities=['Elephant', 'Whale']\n",
      "2025-02-19 14:02:05 __main__ INFO     (14/20)  entities=['Emu', 'Ostrich']\n",
      "2025-02-19 14:02:05 __main__ INFO     (15/20)  entities=['Brazil', 'Turkey']\n",
      "2025-02-19 14:02:05 __main__ INFO     (16/20)  entities=['jellyfish', 'lobster']\n",
      "2025-02-19 14:02:05 __main__ WARNING  Skipping jellyfish__<>__placeholder.npz\n",
      "2025-02-19 14:02:05 __main__ INFO     (17/20)  entities=['corn', 'wheat']\n",
      "2025-02-19 14:02:05 __main__ INFO     (18/20)  entities=['crocodile', 'shark']\n",
      "2025-02-19 14:02:05 __main__ INFO     (19/20)  entities=['crab', 'spider']\n",
      "2025-02-19 14:02:05 __main__ INFO     (20/20)  entities=['copper', 'gold']\n",
      "2025-02-19 14:02:05 __main__ WARNING  Skipping copper__<>__placeholder.npz\n",
      "2025-02-19 14:02:05 matplotlib.colorbar DEBUG    locator: <matplotlib.ticker.AutoLocator object at 0x7fb546d19010>\n",
      "2025-02-19 14:02:05 matplotlib.axes._base DEBUG    title position was updated manually, not adjusting\n",
      "2025-02-19 14:02:05 matplotlib.axes._base DEBUG    title position was updated manually, not adjusting\n",
      "2025-02-19 14:02:05 matplotlib.axes._base DEBUG    title position was updated manually, not adjusting\n",
      "2025-02-19 14:02:05 matplotlib.axes._base DEBUG    title position was updated manually, not adjusting\n"
     ]
    },
    {
     "data": {
      "image/png": "[encoded data removed]",
      "text/plain": [
       "<Figure size 700x536 with 2 Axes>"
      ]
     },
     "metadata": {},
     "output_type": "display_data"
    },
    {
     "name": "stdout",
     "output_type": "stream",
     "text": [
      "2025-02-19 14:02:05 __main__ INFO     (1/20)  entities=['Germany', 'Japan']\n",
      "2025-02-19 14:02:05 __main__ INFO     (2/20)  entities=['Hugh Jackman', 'Ryan Reynolds']\n",
      "2025-02-19 14:02:05 __main__ INFO     (3/20)  entities=['Bhutan', 'Tuvalu']\n",
      "2025-02-19 14:02:05 __main__ INFO     (4/20)  entities=['Vatican City', 'Mount Athos']\n",
      "2025-02-19 14:02:05 __main__ INFO     (5/20)  entities=['Rosetta Stone', 'Dead Sea Scrolls']\n",
      "2025-02-19 14:02:05 __main__ INFO     (6/20)  entities=['Leonardo da Vinci', 'Benjamin Franklin']\n",
      "2025-02-19 14:02:05 __main__ INFO     (7/20)  entities=['Daredevil', 'Toph Beifong']\n",
      "2025-02-19 14:02:05 __main__ INFO     (8/20)  entities=['Memento', 'Inception']\n",
      "2025-02-19 14:02:05 __main__ INFO     (9/20)  entities=['Julius Caesar', 'Nepoleon Bonaparte']\n",
      "2025-02-19 14:02:05 __main__ INFO     (10/20)  entities=['The Godfather', 'Goodfellas']\n",
      "2025-02-19 14:02:05 __main__ INFO     (11/20)  entities=['The Green Mile', 'The Shawshank Redemption']\n",
      "2025-02-19 14:02:05 __main__ INFO     (12/20)  entities=['Christopher Columbus', 'Vasco da Gama']\n",
      "2025-02-19 14:02:05 __main__ INFO     (13/20)  entities=['Elephant', 'Whale']\n",
      "2025-02-19 14:02:05 __main__ INFO     (14/20)  entities=['Emu', 'Ostrich']\n",
      "2025-02-19 14:02:05 __main__ INFO     (15/20)  entities=['Brazil', 'Turkey']\n",
      "2025-02-19 14:02:05 __main__ INFO     (16/20)  entities=['jellyfish', 'lobster']\n",
      "2025-02-19 14:02:05 __main__ WARNING  Skipping jellyfish__<>__placeholder.npz\n",
      "2025-02-19 14:02:05 __main__ INFO     (17/20)  entities=['corn', 'wheat']\n",
      "2025-02-19 14:02:05 __main__ INFO     (18/20)  entities=['crocodile', 'shark']\n",
      "2025-02-19 14:02:05 __main__ INFO     (19/20)  entities=['crab', 'spider']\n",
      "2025-02-19 14:02:05 __main__ INFO     (20/20)  entities=['copper', 'gold']\n",
      "2025-02-19 14:02:05 __main__ WARNING  Skipping copper__<>__placeholder.npz\n",
      "2025-02-19 14:02:05 matplotlib.colorbar DEBUG    locator: <matplotlib.ticker.AutoLocator object at 0x7fb54bc6b450>\n",
      "2025-02-19 14:02:05 matplotlib.axes._base DEBUG    title position was updated manually, not adjusting\n",
      "2025-02-19 14:02:05 matplotlib.axes._base DEBUG    title position was updated manually, not adjusting\n",
      "2025-02-19 14:02:05 matplotlib.axes._base DEBUG    title position was updated manually, not adjusting\n",
      "2025-02-19 14:02:05 matplotlib.axes._base DEBUG    title position was updated manually, not adjusting\n"
     ]
    },
    {
     "data": {
      "image/png": "[encoded data removed]",
      "text/plain": [
       "<Figure size 700x536 with 2 Axes>"
      ]
     },
     "metadata": {},
     "output_type": "display_data"
    },
    {
     "name": "stdout",
     "output_type": "stream",
     "text": [
      "2025-02-19 14:02:05 __main__ INFO     (1/20)  entities=['Germany', 'Japan']\n",
      "2025-02-19 14:02:05 __main__ INFO     (2/20)  entities=['Hugh Jackman', 'Ryan Reynolds']\n",
      "2025-02-19 14:02:05 __main__ INFO     (3/20)  entities=['Bhutan', 'Tuvalu']\n",
      "2025-02-19 14:02:05 __main__ INFO     (4/20)  entities=['Vatican City', 'Mount Athos']\n",
      "2025-02-19 14:02:05 __main__ INFO     (5/20)  entities=['Rosetta Stone', 'Dead Sea Scrolls']\n",
      "2025-02-19 14:02:05 __main__ INFO     (6/20)  entities=['Leonardo da Vinci', 'Benjamin Franklin']\n",
      "2025-02-19 14:02:05 __main__ INFO     (7/20)  entities=['Daredevil', 'Toph Beifong']\n",
      "2025-02-19 14:02:05 __main__ INFO     (8/20)  entities=['Memento', 'Inception']\n",
      "2025-02-19 14:02:05 __main__ INFO     (9/20)  entities=['Julius Caesar', 'Nepoleon Bonaparte']\n",
      "2025-02-19 14:02:05 __main__ INFO     (10/20)  entities=['The Godfather', 'Goodfellas']\n",
      "2025-02-19 14:02:05 __main__ INFO     (11/20)  entities=['The Green Mile', 'The Shawshank Redemption']\n",
      "2025-02-19 14:02:05 __main__ INFO     (12/20)  entities=['Christopher Columbus', 'Vasco da Gama']\n",
      "2025-02-19 14:02:05 __main__ INFO     (13/20)  entities=['Elephant', 'Whale']\n",
      "2025-02-19 14:02:05 __main__ INFO     (14/20)  entities=['Emu', 'Ostrich']\n",
      "2025-02-19 14:02:05 __main__ INFO     (15/20)  entities=['Brazil', 'Turkey']\n",
      "2025-02-19 14:02:05 __main__ INFO     (16/20)  entities=['jellyfish', 'lobster']\n",
      "2025-02-19 14:02:05 __main__ WARNING  Skipping jellyfish__<>__placeholder.npz\n",
      "2025-02-19 14:02:05 __main__ INFO     (17/20)  entities=['corn', 'wheat']\n",
      "2025-02-19 14:02:05 __main__ INFO     (18/20)  entities=['crocodile', 'shark']\n",
      "2025-02-19 14:02:05 __main__ INFO     (19/20)  entities=['crab', 'spider']\n",
      "2025-02-19 14:02:05 __main__ INFO     (20/20)  entities=['copper', 'gold']\n",
      "2025-02-19 14:02:05 __main__ WARNING  Skipping copper__<>__placeholder.npz\n",
      "2025-02-19 14:02:05 matplotlib.colorbar DEBUG    locator: <matplotlib.ticker.AutoLocator object at 0x7fb547d3ccd0>\n",
      "2025-02-19 14:02:05 matplotlib.axes._base DEBUG    title position was updated manually, not adjusting\n",
      "2025-02-19 14:02:05 matplotlib.axes._base DEBUG    title position was updated manually, not adjusting\n",
      "2025-02-19 14:02:05 matplotlib.axes._base DEBUG    title position was updated manually, not adjusting\n",
      "2025-02-19 14:02:05 matplotlib.axes._base DEBUG    title position was updated manually, not adjusting\n"
     ]
    },
    {
     "data": {
      "image/png": "[encoded data removed]",
      "text/plain": [
       "<Figure size 700x536 with 2 Axes>"
      ]
     },
     "metadata": {},
     "output_type": "display_data"
    }
   ],
   "source": [
    "for kind in [\"residual\", \"mlp\", \"attention\"]:\n",
    "    look_dir = os.path.join(env_utils.DEFAULT_RESULTS_DIR, \"causal_tracing_test\", kind)\n",
    "\n",
    "    categorized_effects = []\n",
    "    for idx, c in enumerate(coincidences[\"examples\"]):\n",
    "        entities = c[\"entity_pair\"]\n",
    "        logger.info(f\"({idx+1}/{len(coincidences['examples'])})  {entities=}\")\n",
    "\n",
    "        common_entity = entities[1]\n",
    "        patch_entity = entities[0]\n",
    "        clean_entity = \"placeholder\"\n",
    "\n",
    "        file_name = f\"{patch_entity}__<>__{clean_entity}.npz\"\n",
    "        if file_name not in os.listdir(look_dir):\n",
    "            logger.warning(f\"Skipping {file_name}\")\n",
    "            continue\n",
    "\n",
    "        trace_res = CausalTracingResult.from_npz(os.path.join(look_dir, file_name))\n",
    "        token_ranges = get_token_ranges(\n",
    "            mt, trace_res, common_entity=common_entity\n",
    "        )\n",
    "        categorized_effects.append(\n",
    "            get_categorized_indirect_effects(trace_res, token_ranges)\n",
    "        )\n",
    "\n",
    "    aie = average_indirect_effects(\n",
    "        categorized_effects=categorized_effects,\n",
    "        kind=kind\n",
    "    )\n",
    "\n",
    "    plot_trace_heatmap(\n",
    "        result=aie,\n",
    "        model_name=model_key.split(\"/\")[-1],\n",
    "        scale_range=(0, 1) if aie.normalized == True else None\n",
    "    )"
   ]
  },
  {
   "cell_type": "code",
   "execution_count": null,
   "metadata": {},
   "outputs": [],
   "source": []
  },
  {
   "cell_type": "code",
   "execution_count": null,
   "metadata": {},
   "outputs": [],
   "source": []
  },
  {
   "cell_type": "code",
   "execution_count": null,
   "metadata": {},
   "outputs": [],
   "source": []
  },
  {
   "cell_type": "code",
   "execution_count": null,
   "metadata": {},
   "outputs": [],
   "source": []
  },
  {
   "cell_type": "markdown",
   "metadata": {},
   "source": [
    "### Introspection Experiment (similar to `Patchscope`)"
   ]
  },
  {
   "cell_type": "code",
   "execution_count": 88,
   "metadata": {},
   "outputs": [],
   "source": [
    "placeholder_entities = (\"one\", \"two\")\n",
    "placeholder_prompt = prepare_probing_input(\n",
    "    mt=mt,\n",
    "    entities=placeholder_entities,\n",
    "    prefix=prefix,\n",
    "    answer_marker=answer_marker,\n",
    "    question_marker=question_marker,\n",
    "    block_separator=block_separator,\n",
    "    is_a_reasoning_model=\"deepseek\" in model_key.lower(),\n",
    "    # is_a_reasoning_model=True\n",
    "    answer_prefix=\" They are/were both\"\n",
    "    # answer_prefix = \" They are both used to say\"\n",
    ")"
   ]
  },
  {
   "cell_type": "code",
   "execution_count": 89,
   "metadata": {},
   "outputs": [
    {
     "data": {
      "text/plain": [
       "('Bruce Wayne', 'Tony Stark')"
      ]
     },
     "execution_count": 89,
     "metadata": {},
     "output_type": "execute_result"
    }
   ],
   "source": [
    "# entities = (entities[1], entities[0])\n",
    "entities"
   ]
  },
  {
   "cell_type": "code",
   "execution_count": 90,
   "metadata": {},
   "outputs": [
    {
     "data": {
      "text/plain": [
       "(206, 208)"
      ]
     },
     "execution_count": 90,
     "metadata": {},
     "output_type": "execute_result"
    }
   ],
   "source": [
    "from src.tokens import prepare_input, find_token_range\n",
    "\n",
    "st = mt.tokenizer.pad_token * (prompt.entity_ranges[0][0]-4) + f\"\\nQ: {entities[0]}\"\n",
    "inp = prepare_input(\n",
    "    prompts = st,\n",
    "    tokenizer=mt,\n",
    "    return_offsets_mapping=True\n",
    ")\n",
    "find_token_range(\n",
    "    string=st,\n",
    "    substring=entities[0],\n",
    "    tokenizer=mt,\n",
    "    offset_mapping=inp.offset_mapping[0]\n",
    ")"
   ]
  },
  {
   "cell_type": "code",
   "execution_count": 91,
   "metadata": {},
   "outputs": [
    {
     "data": {
      "text/plain": [
       "((206, 208), (209, 211))"
      ]
     },
     "execution_count": 91,
     "metadata": {},
     "output_type": "execute_result"
    }
   ],
   "source": [
    "prompt.entity_ranges"
   ]
  },
  {
   "cell_type": "code",
   "execution_count": 92,
   "metadata": {},
   "outputs": [
    {
     "name": "stdout",
     "output_type": "stream",
     "text": [
      "206 => \" Bruce\"\n",
      "207 => \" Wayne\"\n",
      "208 => \" and\"\n",
      "209 => \" Tony\"\n",
      "210 => \" Stark\"\n",
      "211 => \"\n",
      "\"\n",
      "212 => \"A\"\n",
      "213 => \":\"\n",
      "214 => \" They\"\n",
      "215 => \" are\"\n",
      "216 => \"/w\"\n",
      "217 => \"ere\"\n",
      "218 => \" both\"\n"
     ]
    }
   ],
   "source": [
    "for idx, t in list(enumerate(prompt.tokenized[\"input_ids\"][0]))[206:]:\n",
    "    print(f\"{idx} => \\\"{mt.tokenizer.decode(t)}\\\"\")"
   ]
  },
  {
   "cell_type": "code",
   "execution_count": 93,
   "metadata": {},
   "outputs": [
    {
     "name": "stdout",
     "output_type": "stream",
     "text": [
      "206 => \" Bruce\"\n",
      "207 => \" Wayne\"\n"
     ]
    }
   ],
   "source": [
    "for idx, t in list(enumerate(inp[\"input_ids\"][0]))[206:]:\n",
    "    print(f\"{idx} => \\\"{mt.tokenizer.decode(t)}\\\"\")"
   ]
  },
  {
   "cell_type": "code",
   "execution_count": null,
   "metadata": {},
   "outputs": [],
   "source": [
    "from src.functional import get_hs, extract_rep_at_pos\n",
    "from src.utils.typing import TokenizerOutput\n",
    "\n",
    "bare_hs = [\n",
    "    extract_rep_at_pos(\n",
    "        mt = mt,\n",
    "        input = f\" {ent}\",\n",
    "        total_length=ent_rng[1],\n",
    "        locations=[(layer, ent_rng[1] - 1) for layer in [mt.embedder_name] + mt.layer_names]\n",
    "    )\n",
    "    for ent, ent_rng in zip(entities, prompt.entity_ranges)\n",
    "]"
   ]
  },
  {
   "cell_type": "code",
   "execution_count": 95,
   "metadata": {},
   "outputs": [],
   "source": [
    "icl_hs = [\n",
    "    get_hs(\n",
    "        mt = mt,\n",
    "        input = TokenizerOutput(data = prompt.tokenized),\n",
    "        locations = [(layer, rng[1] - 1) for layer in [mt.embedder_name] + mt.layer_names],\n",
    "        return_dict=True\n",
    "    )\n",
    "    for ent, rng in zip(entities, prompt.entity_ranges)\n",
    "]"
   ]
  },
  {
   "cell_type": "code",
   "execution_count": 59,
   "metadata": {},
   "outputs": [
    {
     "name": "stdout",
     "output_type": "stream",
     "text": [
      "('Christopher Columbus', 'Vasco da Gama')\n"
     ]
    },
    {
     "data": {
      "text/plain": [
       "[[PredictedToken(token=' explor', prob=0.454833984375, logit=18.71875, token_id=48539),\n",
       "  PredictedToken(token=' famous', prob=0.208251953125, logit=17.9375, token_id=11495),\n",
       "  PredictedToken(token=' Portuguese', prob=0.0655517578125, logit=16.78125, token_id=43288),\n",
       "  PredictedToken(token=' sailors', prob=0.03912353515625, logit=16.265625, token_id=69938),\n",
       "  PredictedToken(token=' European', prob=0.03619384765625, logit=16.1875, token_id=7665)]]"
      ]
     },
     "execution_count": 59,
     "metadata": {},
     "output_type": "execute_result"
    }
   ],
   "source": [
    "from src.functional import PatchSpec\n",
    "from src.functional import generate_with_patch, predict_next_token\n",
    "from src.utils.typing import TokenizerOutput\n",
    "\n",
    "print(entities)\n",
    "\n",
    "clean_pred = predict_next_token(\n",
    "    mt = mt,\n",
    "    inputs = TokenizerOutput(data = prompt.tokenized),\n",
    ")\n",
    "clean_pred"
   ]
  },
  {
   "cell_type": "code",
   "execution_count": 97,
   "metadata": {},
   "outputs": [
    {
     "name": "stdout",
     "output_type": "stream",
     "text": [
      "[{90386: (1, PredictedToken(token=' billionaires', prob=0.2470703125, logit=16.40625, token_id=90386))}]\n"
     ]
    },
    {
     "data": {
      "text/plain": [
       "[[PredictedToken(token=' billionaires', prob=0.2470703125, logit=16.40625, token_id=90386),\n",
       "  PredictedToken(token=' fictional', prob=0.09906005859375, logit=15.4921875, token_id=44682),\n",
       "  PredictedToken(token=' American', prob=0.059600830078125, logit=14.984375, token_id=3778),\n",
       "  PredictedToken(token=' actors', prob=0.05096435546875, logit=14.828125, token_id=20142),\n",
       "  PredictedToken(token=' billionaire', prob=0.044281005859375, logit=14.6875, token_id=47794)]]"
      ]
     },
     "execution_count": 97,
     "metadata": {},
     "output_type": "execute_result"
    }
   ],
   "source": [
    "## bare hs\n",
    "\n",
    "patches = []\n",
    "for ent_hs, placeholder_range, ent_range in zip(bare_hs, placeholder_prompt.entity_ranges, prompt.entity_ranges):\n",
    "    token_pos = placeholder_range[0]\n",
    "    patches.extend([\n",
    "        PatchSpec(\n",
    "            location = (layer, token_pos),\n",
    "            # patch = ent_hs[(layer, -1)]\n",
    "            patch = ent_hs[(layer, ent_range[1] - 1)]\n",
    "        )\n",
    "        for layer in mt.layer_names\n",
    "    ])\n",
    "\n",
    "\n",
    "\n",
    "pred, track_ans = predict_next_token(\n",
    "    mt = mt,\n",
    "    inputs = TokenizerOutput(data = placeholder_prompt.tokenized),\n",
    "    patches=patches,\n",
    "    token_of_interest=[clean_pred[0][0].token_id]\n",
    ")\n",
    "\n",
    "# gen = generate_with_patch(\n",
    "#     mt = mt, \n",
    "#     inputs = TokenizerOutput(data = placeholder_prompt.tokenized),\n",
    "#     patches = patches,\n",
    "#     do_sample=False\n",
    "# )\n",
    "\n",
    "# print(gen[0])\n",
    "print(track_ans)\n",
    "pred"
   ]
  },
  {
   "cell_type": "code",
   "execution_count": 98,
   "metadata": {},
   "outputs": [
    {
     "name": "stdout",
     "output_type": "stream",
     "text": [
      "[{90386: (1, PredictedToken(token=' billionaires', prob=0.282470703125, logit=17.5625, token_id=90386))}]\n"
     ]
    },
    {
     "data": {
      "text/plain": [
       "[[PredictedToken(token=' billionaires', prob=0.282470703125, logit=17.5625, token_id=90386),\n",
       "  PredictedToken(token=' billionaire', prob=0.1610107421875, logit=17.0, token_id=47794),\n",
       "  PredictedToken(token=' fictional', prob=0.14892578125, logit=16.921875, token_id=44682),\n",
       "  PredictedToken(token=' superheroes', prob=0.03704833984375, logit=15.53125, token_id=91818),\n",
       "  PredictedToken(token=' the', prob=0.033203125, logit=15.421875, token_id=279)]]"
      ]
     },
     "execution_count": 98,
     "metadata": {},
     "output_type": "execute_result"
    }
   ],
   "source": [
    "# patch only the last token from ICL_hs\n",
    "\n",
    "patches = []\n",
    "for ent_hs, placeholder_range, ent_range in zip(icl_hs, placeholder_prompt.entity_ranges, prompt.entity_ranges):\n",
    "    token_pos = placeholder_range[0]\n",
    "    patches.extend([\n",
    "        PatchSpec(\n",
    "            location = (layer, token_pos),\n",
    "            # patch = ent_hs[(layer, -1)]\n",
    "            patch = ent_hs[(layer, ent_range[1] - 1)]\n",
    "        )\n",
    "        for layer in mt.layer_names\n",
    "    ])\n",
    "\n",
    "pred, track_ans = predict_next_token(\n",
    "    mt = mt,\n",
    "    inputs = TokenizerOutput(data = placeholder_prompt.tokenized),\n",
    "    patches=patches,\n",
    "    token_of_interest=[clean_pred[0][0].token_id]\n",
    ")\n",
    "\n",
    "# gen = generate_with_patch(\n",
    "#     mt = mt, \n",
    "#     inputs = TokenizerOutput(data = placeholder_prompt.tokenized),\n",
    "#     patches = patches,\n",
    "#     do_sample=False\n",
    "# )\n",
    "\n",
    "# print(gen[0])\n",
    "\n",
    "print(track_ans)\n",
    "\n",
    "pred"
   ]
  },
  {
   "cell_type": "code",
   "execution_count": 57,
   "metadata": {},
   "outputs": [
    {
     "name": "stdout",
     "output_type": "stream",
     "text": [
      "[{48539: (3345, PredictedToken(token=' explor', prob=1.4126300811767578e-05, logit=4.78515625, token_id=48539))}]\n"
     ]
    },
    {
     "data": {
      "text/plain": [
       "[[PredictedToken(token=' man', prob=0.0650634765625, logit=13.21875, token_id=893),\n",
       "  PredictedToken(token=' fictional', prob=0.034027099609375, logit=12.5703125, token_id=44682),\n",
       "  PredictedToken(token=' myth', prob=0.03375244140625, logit=12.5625, token_id=21849),\n",
       "  PredictedToken(token=' hero', prob=0.0307464599609375, logit=12.46875, token_id=12084),\n",
       "  PredictedToken(token=' person', prob=0.0290985107421875, logit=12.4140625, token_id=1732),\n",
       "  PredictedToken(token=' famous', prob=0.028656005859375, logit=12.3984375, token_id=11495),\n",
       "  PredictedToken(token=' ', prob=0.0207977294921875, logit=12.078125, token_id=220),\n",
       "  PredictedToken(token=' symbol', prob=0.0206451416015625, logit=12.0703125, token_id=7891),\n",
       "  PredictedToken(token=' very', prob=0.0190887451171875, logit=11.9921875, token_id=1633),\n",
       "  PredictedToken(token=' white', prob=0.018218994140625, logit=11.9453125, token_id=4251),\n",
       "  PredictedToken(token=' historical', prob=0.0179290771484375, logit=11.9296875, token_id=13970),\n",
       "  PredictedToken(token=' great', prob=0.0171051025390625, logit=11.8828125, token_id=2294),\n",
       "  PredictedToken(token=' Spanish', prob=0.01474761962890625, logit=11.734375, token_id=15506),\n",
       "  PredictedToken(token=' mythical', prob=0.01418304443359375, logit=11.6953125, token_id=84219),\n",
       "  PredictedToken(token=' name', prob=0.0128173828125, logit=11.59375, token_id=836)]]"
      ]
     },
     "execution_count": 57,
     "metadata": {},
     "output_type": "execute_result"
    }
   ],
   "source": [
    "from src.functional import predict_next_token\n",
    "\n",
    "single_probing_prompt = \"Who/what is {}? Answer: {} is a\"\n",
    "\n",
    "pred, track_ans = predict_next_token(\n",
    "    mt = mt,\n",
    "    inputs = [single_probing_prompt.format(entities[0], entities[0])],\n",
    "    k=15,\n",
    "    token_of_interest=[clean_pred[0][0].token_id]\n",
    ")\n",
    "\n",
    "print(track_ans)\n",
    "pred"
   ]
  },
  {
   "cell_type": "code",
   "execution_count": 58,
   "metadata": {},
   "outputs": [
    {
     "name": "stdout",
     "output_type": "stream",
     "text": [
      "[{48539: (3180, PredictedToken(token=' explor', prob=1.3887882232666016e-05, logit=4.05859375, token_id=48539))}]\n"
     ]
    },
    {
     "data": {
      "text/plain": [
       "[[PredictedToken(token=' Portuguese', prob=0.2646484375, logit=13.9140625, token_id=43288),\n",
       "  PredictedToken(token=' famous', prob=0.0341796875, logit=11.8671875, token_id=11495),\n",
       "  PredictedToken(token=' port', prob=0.032623291015625, logit=11.8203125, token_id=2700),\n",
       "  PredictedToken(token=' ', prob=0.0294647216796875, logit=11.71875, token_id=220),\n",
       "  PredictedToken(token=' person', prob=0.0244293212890625, logit=11.53125, token_id=1732),\n",
       "  PredictedToken(token=' character', prob=0.01528167724609375, logit=11.0625, token_id=3752),\n",
       "  PredictedToken(token=' city', prob=0.0123748779296875, logit=10.8515625, token_id=3363),\n",
       "  PredictedToken(token=' Brazilian', prob=0.0104217529296875, logit=10.6796875, token_id=36083),\n",
       "  PredictedToken(token=' town', prob=0.0101776123046875, logit=10.65625, token_id=6424),\n",
       "  PredictedToken(token=' name', prob=0.00986480712890625, logit=10.625, token_id=836),\n",
       "  PredictedToken(token=' ship', prob=0.0095672607421875, logit=10.59375, token_id=8448),\n",
       "  PredictedToken(token=' very', prob=0.0087738037109375, logit=10.5078125, token_id=1633),\n",
       "  PredictedToken(token=' well', prob=0.0084381103515625, logit=10.46875, token_id=1664),\n",
       "  PredictedToken(token=' popular', prob=0.00792694091796875, logit=10.40625, token_id=5526),\n",
       "  PredictedToken(token=' major', prob=0.00786590576171875, logit=10.3984375, token_id=3682)]]"
      ]
     },
     "execution_count": 58,
     "metadata": {},
     "output_type": "execute_result"
    }
   ],
   "source": [
    "pred, track_ans = predict_next_token(\n",
    "    mt = mt,\n",
    "    inputs = single_probing_prompt.format(entities[1], entities[1]),\n",
    "    k=15,\n",
    "    token_of_interest=[clean_pred[0][0].token_id]\n",
    ")\n",
    "\n",
    "print(track_ans)\n",
    "pred"
   ]
  },
  {
   "cell_type": "code",
   "execution_count": 62,
   "metadata": {},
   "outputs": [],
   "source": [
    "# layer = mt.layer_name_format.format(16)\n",
    "\n",
    "# bare_hs_pair = (\n",
    "#     bare_hs[0][(layer, prompt.entity_ranges[0][1] - 1)],\n",
    "#     bare_hs[1][(layer, prompt.entity_ranges[1][1] - 1)],\n",
    "# )\n",
    "\n",
    "# enriched_hs_pair = (\n",
    "#     icl_hs[0][(layer, prompt.entity_ranges[0][1] - 1)],\n",
    "#     icl_hs[1][(layer, prompt.entity_ranges[1][1] - 1)],\n",
    "# )"
   ]
  },
  {
   "cell_type": "code",
   "execution_count": 63,
   "metadata": {},
   "outputs": [],
   "source": [
    "# torch.cosine_similarity(\n",
    "#     bare_hs_pair[0],\n",
    "#     bare_hs_pair[1],\n",
    "#     dim=-1\n",
    "# )"
   ]
  },
  {
   "cell_type": "code",
   "execution_count": 64,
   "metadata": {},
   "outputs": [],
   "source": [
    "# torch.cosine_similarity(\n",
    "#     enriched_hs_pair[0],\n",
    "#     enriched_hs_pair[1],\n",
    "#     dim=-1\n",
    "# )"
   ]
  },
  {
   "cell_type": "code",
   "execution_count": 65,
   "metadata": {},
   "outputs": [
    {
     "data": {
      "image/png": "[encoded data removed]",
      "text/plain": [
       "<Figure size 640x480 with 1 Axes>"
      ]
     },
     "metadata": {},
     "output_type": "display_data"
    }
   ],
   "source": [
    "similarity_0 = []\n",
    "similarity_1 = []\n",
    "\n",
    "for layer in [mt.embedder_name] + mt.layer_names:\n",
    "    entity_pos_0 = prompt.entity_ranges[0][1] - 1\n",
    "    sim_0 = torch.cosine_similarity(\n",
    "        bare_hs[0][(layer, entity_pos_0)], icl_hs[0][(layer, entity_pos_0)], dim=-1\n",
    "    )\n",
    "\n",
    "    similarity_0.append(sim_0.item())\n",
    "\n",
    "    entity_pos_1 = prompt.entity_ranges[1][1] - 1\n",
    "    sim_1 = torch.cosine_similarity(\n",
    "        bare_hs[1][(layer, entity_pos_1)], icl_hs[1][(layer, entity_pos_1)], dim=-1\n",
    "    )\n",
    "\n",
    "    similarity_1.append(sim_1.item())\n",
    "\n",
    "# print(f\"{layer}: {sim_0.item()=}, {sim_1.item()=}\")\n",
    "\n",
    "from matplotlib import pyplot as plt\n",
    "plt.plot(similarity_0, label=\"Entity 0\")\n",
    "plt.plot(similarity_1, label=\"Entity 1\")\n",
    "\n",
    "plt.legend()\n",
    "plt.ylim(0, 1)\n",
    "plt.ylabel(\"cosine_sim(bare_h, icl_h)\")\n",
    "\n",
    "plt.xticks(range(mt.n_layer + 1), [mt.embedder_name] + mt.layer_names, rotation=90)\n",
    "plt.show()\n",
    "    "
   ]
  },
  {
   "cell_type": "markdown",
   "metadata": {},
   "source": [
    "### Use the corner as introspection point"
   ]
  },
  {
   "cell_type": "code",
   "execution_count": 37,
   "metadata": {},
   "outputs": [
    {
     "name": "stdout",
     "output_type": "stream",
     "text": [
      "2025-02-10 13:24:34 src.operators.estimators INFO     What is the nationality of X? Answer:  |>> self.placeholder_pos=7 | self.inputs['input_ids'].shape=torch.Size([1, 11])\n",
      "[' British', ' American', ' French', ' German', ' Italian', ' Spanish', ' Russian', ' Chinese', ' Japanese', ' Indian']\n",
      "2025-02-10 13:24:34 src.operators.estimators INFO     Initialized to [PredictedToken(token='1', prob=0.486572265625, logit=20.109375, token_id=16), PredictedToken(token='2', prob=0.168212890625, logit=19.046875, token_id=17), PredictedToken(token='3', prob=0.1036376953125, logit=18.5625, token_id=18), PredictedToken(token='10', prob=0.0445556640625, logit=17.71875, token_id=605), PredictedToken(token='4', prob=0.02423095703125, logit=17.109375, token_id=19)]\n"
     ]
    },
    {
     "name": "stderr",
     "output_type": "stream",
     "text": [
      "100%|██████████| 200/200 [00:17<00:00, 11.34it/s]\n"
     ]
    },
    {
     "data": {
      "image/png": "[encoded data removed]",
      "text/plain": [
       "<Figure size 640x480 with 1 Axes>"
      ]
     },
     "metadata": {},
     "output_type": "display_data"
    },
    {
     "name": "stdout",
     "output_type": "stream",
     "text": [
      "2025-02-10 13:24:52 src.operators.estimators INFO     Tuned to: [PredictedToken(token=' Japanese', prob=0.08056640625, logit=20.0, token_id=11002), PredictedToken(token=' Russian', prob=0.08056640625, logit=20.0, token_id=8690), PredictedToken(token=' Chinese', prob=0.08056640625, logit=20.0, token_id=8620), PredictedToken(token=' German', prob=0.07928466796875, logit=19.984375, token_id=6063), PredictedToken(token=' American', prob=0.07928466796875, logit=19.984375, token_id=3778)]\n"
     ]
    }
   ],
   "source": [
    "from src.operators.estimators import CornerEstimator\n",
    "\n",
    "estimator = CornerEstimator(\n",
    "    mt = mt, layer_name=mt.layer_names[2], verbose=True,\n",
    "    prompt = \"What is the nationality of X? Answer: \",\n",
    "    placeholder = \"X\",\n",
    ")\n",
    "\n",
    "# with open(\n",
    "#     os.path.join(\n",
    "#         env_utils.DEFAULT_DATA_DIR, \n",
    "#         \"object_mappings\", \n",
    "#         \"professions.json\"\n",
    "#         # \"colors.json\"\n",
    "#     ), \"r\"\n",
    "# ) as f:\n",
    "#     objects = json.load(f)\n",
    "# # objects = [f\" {c}\" for c in objects]\n",
    "# objects = [\" Christian\", \" Muslim\", \" Hindu\", \" Buddhist\", \" Sikh\", \" Jewish\", \" Atheist\", \" Agnostic\", \" Deist\", \" Pagan\"]\n",
    "# objects = [\" red\", \" blue\", \" green\", \" yellow\", \" orange\", \" purple\", \" pink\", \" black\", \" white\", \" grey\"]\n",
    "objects = [\" British\", \" American\", \" French\", \" German\", \" Italian\", \" Spanish\", \" Russian\", \" Chinese\", \" Japanese\", \" Indian\"]\n",
    "\n",
    "token_indices = (\n",
    "    mt.tokenizer(\n",
    "        objects,\n",
    "        add_special_tokens=False,\n",
    "        return_tensors=\"pt\",\n",
    "        padding=True,\n",
    "        padding_side=\"right\",\n",
    "    )\n",
    "    .input_ids[:, 0]\n",
    "    .tolist()\n",
    ")\n",
    "print([mt.tokenizer.decode(t) for t in token_indices])\n",
    "\n",
    "corner = estimator.estimate(\n",
    "    class_indices=token_indices, \n",
    "    n_steps=200, \n",
    "    # space=\"prob\",\n",
    "    target_val=20,\n",
    "    # concept_subspace_regularizer=0.1\n",
    "    weight_decay=5e-4\n",
    ")"
   ]
  },
  {
   "cell_type": "code",
   "execution_count": 66,
   "metadata": {},
   "outputs": [
    {
     "data": {
      "text/plain": [
       "((206, 207), (208, 209))"
      ]
     },
     "execution_count": 66,
     "metadata": {},
     "output_type": "execute_result"
    }
   ],
   "source": [
    "placeholder_prompt.entity_ranges"
   ]
  },
  {
   "cell_type": "code",
   "execution_count": 67,
   "metadata": {},
   "outputs": [
    {
     "data": {
      "text/plain": [
       "('Rafael Nadal', 'Javier Bardem')"
      ]
     },
     "execution_count": 67,
     "metadata": {},
     "output_type": "execute_result"
    }
   ],
   "source": [
    "entities"
   ]
  },
  {
   "cell_type": "code",
   "execution_count": 68,
   "metadata": {},
   "outputs": [
    {
     "data": {
      "text/plain": [
       "[[PredictedToken(token=' tennis', prob=0.51953125, logit=17.546875, token_id=32515),\n",
       "  PredictedToken(token=' professional', prob=0.2132568359375, logit=16.65625, token_id=6721),\n",
       "  PredictedToken(token=' athletes', prob=0.0212860107421875, logit=14.3515625, token_id=23579),\n",
       "  PredictedToken(token=' Spanish', prob=0.0201416015625, logit=14.296875, token_id=15506),\n",
       "  PredictedToken(token=' world', prob=0.016448974609375, logit=14.09375, token_id=1917),\n",
       "  PredictedToken(token=' ranked', prob=0.0161895751953125, logit=14.078125, token_id=21682),\n",
       "  PredictedToken(token=' active', prob=0.0141754150390625, logit=13.9453125, token_id=4642),\n",
       "  PredictedToken(token=' top', prob=0.011749267578125, logit=13.7578125, token_id=1948),\n",
       "  PredictedToken(token=' famous', prob=0.0088043212890625, logit=13.46875, token_id=11495),\n",
       "  PredictedToken(token=' number', prob=0.00873565673828125, logit=13.4609375, token_id=1396),\n",
       "  PredictedToken(token=' players', prob=0.007648468017578125, logit=13.328125, token_id=4311),\n",
       "  PredictedToken(token=' the', prob=0.005054473876953125, logit=12.9140625, token_id=279),\n",
       "  PredictedToken(token=' male', prob=0.005016326904296875, logit=12.90625, token_id=8762),\n",
       "  PredictedToken(token=' men', prob=0.003997802734375, logit=12.6796875, token_id=3026),\n",
       "  PredictedToken(token=' Grand', prob=0.00384521484375, logit=12.640625, token_id=10517),\n",
       "  PredictedToken(token=' football', prob=0.003814697265625, logit=12.6328125, token_id=9141),\n",
       "  PredictedToken(token=' grand', prob=0.00366973876953125, logit=12.59375, token_id=6800),\n",
       "  PredictedToken(token=' a', prob=0.00366973876953125, logit=12.59375, token_id=264),\n",
       "  PredictedToken(token=' Tennis', prob=0.0027923583984375, logit=12.3203125, token_id=58251),\n",
       "  PredictedToken(token=' ATP', prob=0.002685546875, logit=12.28125, token_id=67656)]]"
      ]
     },
     "execution_count": 68,
     "metadata": {},
     "output_type": "execute_result"
    }
   ],
   "source": [
    "corner_pos = placeholder_prompt.entity_ranges[1][0]\n",
    "entity_pos = placeholder_prompt.entity_ranges[0][0]\n",
    "\n",
    "# corner_pos = placeholder_prompt.entity_ranges[0][0]\n",
    "# entity_pos = placeholder_prompt.entity_ranges[1][0]\n",
    "\n",
    "corner_patch = []\n",
    "for layer in mt.layer_names:\n",
    "    corner_patch.append(PatchSpec(\n",
    "        location=(layer, corner_pos),\n",
    "        patch=corner.corner\n",
    "    ))\n",
    "    corner_patch.append(PatchSpec(\n",
    "        location=(layer, entity_pos),\n",
    "        patch=icl_hs[0][(layer, prompt.entity_ranges[0][1] - 1)]\n",
    "        # patch = corner.corner\n",
    "    ))\n",
    "\n",
    "\n",
    "pred, track_ans = predict_next_token(\n",
    "    mt = mt,\n",
    "    inputs = TokenizerOutput(data = placeholder_prompt.tokenized),\n",
    "    patches = corner_patch,\n",
    "    k = 20,\n",
    "    token_of_interest=[token_indices]\n",
    ")\n",
    "\n",
    "pred"
   ]
  },
  {
   "cell_type": "code",
   "execution_count": 71,
   "metadata": {},
   "outputs": [
    {
     "data": {
      "text/plain": [
       "([PredictedToken(token=' Rafael', prob=0.06689453125, logit=10.5859375, token_id=55500),\n",
       "  PredictedToken(token=' ATP', prob=0.0643310546875, logit=10.546875, token_id=67656),\n",
       "  PredictedToken(token=' Roland', prob=0.028564453125, logit=9.734375, token_id=58906),\n",
       "  PredictedToken(token=' tennis', prob=0.021392822265625, logit=9.4453125, token_id=32515),\n",
       "  PredictedToken(token=' Wimbledon', prob=0.0208892822265625, logit=9.421875, token_id=91257)],\n",
       " {15506: (36,\n",
       "   PredictedToken(token=' Spanish', prob=0.0016050338745117188, logit=6.85546875, token_id=15506)),\n",
       "  8753: (167,\n",
       "   PredictedToken(token=' French', prob=0.00035953521728515625, logit=5.359375, token_id=8753)),\n",
       "  7904: (1637,\n",
       "   PredictedToken(token=' Indian', prob=5.632638931274414e-05, logit=3.505859375, token_id=7904)),\n",
       "  6063: (3358,\n",
       "   PredictedToken(token=' German', prob=3.0875205993652344e-05, logit=2.904296875, token_id=6063)),\n",
       "  15155: (4648,\n",
       "   PredictedToken(token=' Italian', prob=2.3066997528076172e-05, logit=2.61328125, token_id=15155)),\n",
       "  8013: (11400,\n",
       "   PredictedToken(token=' British', prob=9.47713851928711e-06, logit=1.720703125, token_id=8013)),\n",
       "  11002: (12846,\n",
       "   PredictedToken(token=' Japanese', prob=8.344650268554688e-06, logit=1.59765625, token_id=11002)),\n",
       "  8690: (13813,\n",
       "   PredictedToken(token=' Russian', prob=7.68899917602539e-06, logit=1.5166015625, token_id=8690)),\n",
       "  3778: (17746,\n",
       "   PredictedToken(token=' American', prob=5.841255187988281e-06, logit=1.2353515625, token_id=3778)),\n",
       "  8620: (26468,\n",
       "   PredictedToken(token=' Chinese', prob=3.5762786865234375e-06, logit=0.74169921875, token_id=8620))})"
      ]
     },
     "execution_count": 71,
     "metadata": {},
     "output_type": "execute_result"
    }
   ],
   "source": [
    "from src.functional import logit_lens\n",
    "\n",
    "logit_lens(\n",
    "    mt = mt,\n",
    "    h = bare_hs[0][(mt.layer_names[25], prompt.entity_ranges[0][1] - 1)],\n",
    "    interested_tokens=token_indices\n",
    ")"
   ]
  },
  {
   "cell_type": "code",
   "execution_count": null,
   "metadata": {},
   "outputs": [],
   "source": []
  }
 ],
 "metadata": {
  "kernelspec": {
   "display_name": "retrieval",
   "language": "python",
   "name": "python3"
  },
  "language_info": {
   "codemirror_mode": {
    "name": "ipython",
    "version": 3
   },
   "file_extension": ".py",
   "mimetype": "text/x-python",
   "name": "python",
   "nbconvert_exporter": "python",
   "pygments_lexer": "ipython3",
   "version": "3.11.9"
  }
 },
 "nbformat": 4,
 "nbformat_minor": 2
}
