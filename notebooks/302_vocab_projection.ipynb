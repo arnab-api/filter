{
 "cells": [
  {
   "cell_type": "code",
   "execution_count": 1,
   "id": "70b92923",
   "metadata": {},
   "outputs": [],
   "source": [
    "%load_ext autoreload\n",
    "%autoreload 2"
   ]
  },
  {
   "cell_type": "code",
   "execution_count": 2,
   "id": "983a4427",
   "metadata": {},
   "outputs": [
    {
     "name": "stdout",
     "output_type": "stream",
     "text": [
      "2025-09-15 18:19:27 __main__ INFO     torch.__version__='2.7.0+cu126', torch.version.cuda='12.6'\n",
      "2025-09-15 18:19:27 __main__ INFO     torch.cuda.is_available()=True, torch.cuda.device_count()=8, torch.cuda.get_device_name()='NVIDIA A100 80GB PCIe'\n",
      "2025-09-15 18:19:27 __main__ INFO     transformers.__version__='4.55.3'\n"
     ]
    }
   ],
   "source": [
    "import os\n",
    "import json\n",
    "\n",
    "import sys\n",
    "\n",
    "sys.path.append(\"../\")\n",
    "\n",
    "##################################################################\n",
    "os.environ[\"TOKENIZERS_PARALLELISM\"] = \"false\"\n",
    "# os.environ[\"CUDA_VISIBLE_DEVICES\"] = \"0,1,2,3,4,5,6,7\"\n",
    "##################################################################\n",
    "\n",
    "import logging\n",
    "from src.utils import logging_utils\n",
    "from src.utils import env_utils\n",
    "\n",
    "logger = logging.getLogger(__name__)\n",
    "\n",
    "logging.basicConfig(\n",
    "    level=logging.DEBUG,\n",
    "    format=logging_utils.DEFAULT_FORMAT,\n",
    "    datefmt=logging_utils.DEFAULT_DATEFMT,\n",
    "    stream=sys.stdout,\n",
    ")\n",
    "\n",
    "import torch\n",
    "import transformers\n",
    "\n",
    "logger.info(f\"{torch.__version__=}, {torch.version.cuda=}\")\n",
    "logger.info(\n",
    "    f\"{torch.cuda.is_available()=}, {torch.cuda.device_count()=}, {torch.cuda.get_device_name()=}\"\n",
    ")\n",
    "logger.info(f\"{transformers.__version__=}\")"
   ]
  },
  {
   "cell_type": "code",
   "execution_count": 3,
   "id": "03464cab",
   "metadata": {},
   "outputs": [
    {
     "name": "stdout",
     "output_type": "stream",
     "text": [
      "2025-09-15 18:19:30 git.cmd DEBUG    Popen(['git', 'version'], cwd=/disk/u/arnab/Codes/Projects/retrieval/notebooks, stdin=None, shell=False, universal_newlines=False)\n",
      "2025-09-15 18:19:30 git.cmd DEBUG    Popen(['git', 'version'], cwd=/disk/u/arnab/Codes/Projects/retrieval/notebooks, stdin=None, shell=False, universal_newlines=False)\n",
      "2025-09-15 18:19:30 wandb.docker.auth DEBUG    Trying paths: ['/disk/u/arnab/.docker/config.json', '/disk/u/arnab/.dockercfg']\n",
      "2025-09-15 18:19:30 wandb.docker.auth DEBUG    No config file found\n"
     ]
    }
   ],
   "source": [
    "from src.utils.training_utils import get_device_map\n",
    "\n",
    "# model_key = \"meta-llama/Llama-3.2-3B\"\n",
    "# model_key = \"meta-llama/Llama-3.1-8B\"\n",
    "# model_key = \"meta-llama/Llama-3.1-70B-Instruct\"\n",
    "model_key = \"meta-llama/Llama-3.3-70B-Instruct\"\n",
    "# model_key = \"meta-llama/Llama-3.1-405B-Instruct\"\n",
    "\n",
    "# model_key = \"google/gemma-2-9b-it\"\n",
    "# model_key = \"google/gemma-3-12b-it\"\n",
    "# model_key = \"google/gemma-2-27b-it\"\n",
    "\n",
    "# model_key = \"deepseek-ai/DeepSeek-R1-Distill-Llama-8B\"\n",
    "\n",
    "# model_key = \"allenai/OLMo-2-1124-7B-Instruct\"\n",
    "# model_key = \"allenai/OLMo-7B-0424-hf\"\n",
    "\n",
    "# model_key = \"Qwen/Qwen2-7B\"\n",
    "# model_key = \"Qwen/Qwen2.5-14B-Instruct\"\n",
    "# model_key = \"Qwen/Qwen2.5-32B-Instruct\"\n",
    "# model_key = \"Qwen/Qwen2.5-72B-Instruct\"\n",
    "\n",
    "# model_key = \"Qwen/Qwen3-1.7B\"\n",
    "# model_key = \"Qwen/Qwen3-4B\"\n",
    "# model_key = \"Qwen/Qwen3-8B\"\n",
    "# model_key = \"Qwen/Qwen3-14B\"\n",
    "# model_key = \"Qwen/Qwen3-32B\"\n",
    "\n",
    "# device_map = get_device_map(model_key, 30, n_gpus=8)\n",
    "# device_map"
   ]
  },
  {
   "cell_type": "code",
   "execution_count": 4,
   "id": "1a88f8c8",
   "metadata": {},
   "outputs": [
    {
     "name": "stdout",
     "output_type": "stream",
     "text": [
      "2025-09-15 18:19:31 src.models WARNING  meta-llama/Llama-3.3-70B-Instruct not found in /disk/u/arnab/Codes/Models\n",
      "If not found in cache, model will be downloaded from HuggingFace to cache directory\n"
     ]
    },
    {
     "name": "stdout",
     "output_type": "stream",
     "text": [
      "2025-09-15 18:19:31 urllib3.connectionpool DEBUG    Starting new HTTPS connection (1): huggingface.co:443\n",
      "2025-09-15 18:19:31 urllib3.connectionpool DEBUG    https://huggingface.co:443 \"HEAD /meta-llama/Llama-3.3-70B-Instruct/resolve/main/config.json HTTP/1.1\" 200 0\n",
      "2025-09-15 18:19:31 urllib3.connectionpool DEBUG    https://huggingface.co:443 \"HEAD /meta-llama/Llama-3.3-70B-Instruct/resolve/main/tokenizer_config.json HTTP/1.1\" 200 0\n",
      "2025-09-15 18:19:31 urllib3.connectionpool DEBUG    https://huggingface.co:443 \"GET /api/models/meta-llama/Llama-3.3-70B-Instruct/tree/main/additional_chat_templates?recursive=False&expand=False HTTP/1.1\" 404 64\n"
     ]
    },
    {
     "data": {
      "application/vnd.jupyter.widget-view+json": {
       "model_id": "f1e95861dfb14be290eb22ecf9b2f789",
       "version_major": 2,
       "version_minor": 0
      },
      "text/plain": [
       "Loading checkpoint shards:   0%|          | 0/30 [00:00<?, ?it/s]"
      ]
     },
     "metadata": {},
     "output_type": "display_data"
    },
    {
     "name": "stdout",
     "output_type": "stream",
     "text": [
      "2025-09-15 18:20:22 urllib3.connectionpool DEBUG    https://huggingface.co:443 \"HEAD /meta-llama/Llama-3.3-70B-Instruct/resolve/main/generation_config.json HTTP/1.1\" 200 0\n",
      "2025-09-15 18:20:22 urllib3.connectionpool DEBUG    https://huggingface.co:443 \"HEAD /meta-llama/Llama-3.3-70B-Instruct/resolve/main/custom_generate/generate.py HTTP/1.1\" 404 0\n",
      "2025-09-15 18:20:22 src.models INFO     loaded model <meta-llama/Llama-3.3-70B-Instruct> | size: 134570.516 MB | dtype: torch.bfloat16 | device: cuda:0\n"
     ]
    }
   ],
   "source": [
    "from src.models import ModelandTokenizer\n",
    "\n",
    "# from transformers import BitsAndBytesConfig\n",
    "\n",
    "mt = ModelandTokenizer(\n",
    "    model_key=model_key,\n",
    "    torch_dtype=torch.bfloat16,\n",
    "    # device_map=device_map,\n",
    "    device_map=\"auto\",\n",
    "    # quantization_config = BitsAndBytesConfig(\n",
    "    #     # load_in_4bit=True\n",
    "    #     load_in_8bit=True\n",
    "    # )\n",
    "    attn_implementation=\"eager\",\n",
    ")"
   ]
  },
  {
   "cell_type": "code",
   "execution_count": 5,
   "id": "45b1c057",
   "metadata": {},
   "outputs": [
    {
     "name": "stdout",
     "output_type": "stream",
     "text": [
      "['name', 'prompt_templates', 'odd_one_prompt_templates', 'order_prompt_templates', 'count_prompt_templates', 'yes_no_prompt_templates', 'first_item_in_cat_prompt_templates', 'last_item_in_cat_prompt_templates', 'categories', 'exclude_categories']\n",
      "SelectOneTask: (different objects)\n",
      "Categories: fruit(15), vehicle(15), furniture(15), animal(15), music instrument(15), clothing(15), electronics(15), sport equipment(15), kitchen appliance(15), vegetable(14), building(15), office supply(15), bathroom item(15), flower(15), tree(15), jewelry(15)\n",
      "\n"
     ]
    }
   ],
   "source": [
    "from src.selection.data import SelectOneTask, SelectOrderTask\n",
    "\n",
    "#################################################################################\n",
    "# TASK_CLS = SelectOrderTask\n",
    "# prompt_template_idx = 1\n",
    "TASK_CLS = SelectOneTask\n",
    "prompt_template_idx = 3\n",
    "N_DISTRACTORS = 5\n",
    "OPTION_STYLE = \"single_line\"\n",
    "#################################################################################\n",
    "\n",
    "select_task = TASK_CLS.load(\n",
    "    path=os.path.join(\n",
    "        env_utils.DEFAULT_DATA_DIR, \n",
    "        \"selection\", \n",
    "        # \"profession.json\"\n",
    "        # \"nationality.json\"\n",
    "        \"objects.json\"\n",
    "    )\n",
    ")\n",
    "\n",
    "print(select_task)"
   ]
  },
  {
   "cell_type": "code",
   "execution_count": 7,
   "id": "1711aade",
   "metadata": {},
   "outputs": [
    {
     "data": {
      "image/png": "[encoded data removed]",
      "text/plain": [
       "<Figure size 640x480 with 1 Axes>"
      ]
     },
     "metadata": {},
     "output_type": "display_data"
    }
   ],
   "source": [
    "from matplotlib import pyplot as plt\n",
    "import numpy as np\n",
    "\n",
    "# optimized_path = os.path.join(\n",
    "#     env_utils.DEFAULT_RESULTS_DIR,\n",
    "#     \"selection/optimized_heads\",\n",
    "#     mt.name.split(\"/\")[-1],\n",
    "#     f\"{select_task.task_name}.npz\"\n",
    "# )\n",
    "\n",
    "# optimized_path = os.path.join(\n",
    "#     env_utils.DEFAULT_RESULTS_DIR,\n",
    "#     \"selection/optimized_heads\",\n",
    "#     model_key.split(\"/\")[-1],\n",
    "#     # \"distinct_options\",\n",
    "#     f\"{select_task.task_name}\",\n",
    "#     \"epoch_10.npz\"\n",
    "# )\n",
    "\n",
    "optimized_path = os.path.join(\n",
    "    env_utils.DEFAULT_RESULTS_DIR,\n",
    "    \"selection/optimized_heads\",\n",
    "    model_key.split(\"/\")[-1],\n",
    "    \"distinct_options\",\n",
    "    # f\"{select_task.task_name}\",\n",
    "    \"select_one\",\n",
    "    # \"legacy\",\n",
    "    \"epoch_10.npz\"\n",
    ")\n",
    "\n",
    "\n",
    "\n",
    "optimization_results = np.load(optimized_path, allow_pickle=True)\n",
    "plt.plot(optimization_results[\"losses\"])\n",
    "plt.show()"
   ]
  },
  {
   "cell_type": "code",
   "execution_count": 8,
   "id": "5f5b0ca7",
   "metadata": {},
   "outputs": [
    {
     "name": "stdout",
     "output_type": "stream",
     "text": [
      "79\n"
     ]
    },
    {
     "data": {
      "image/png": "[encoded data removed]",
      "text/plain": [
       "<Figure size 2000x1000 with 1 Axes>"
      ]
     },
     "metadata": {},
     "output_type": "display_data"
    }
   ],
   "source": [
    "plt.figure(figsize=(20, 10))\n",
    "\n",
    "optimal_head_mask = torch.tensor(optimization_results[\"optimal_mask\"]).to(torch.float32)\n",
    "optimal_head_mask[52:, :] = 0.0\n",
    "\n",
    "plt.imshow(\n",
    "    optimal_head_mask.T.numpy(),\n",
    "    cmap=\"Blues\",\n",
    "    aspect=\"auto\",\n",
    "    vmin=0,\n",
    "    vmax=1,\n",
    ")\n",
    "\n",
    "heads_selected = torch.nonzero(optimal_head_mask > 0.5, as_tuple=False).tolist()\n",
    "heads_selected = [\n",
    "    (layer_idx, head_idx) for layer_idx, head_idx in heads_selected\n",
    "]\n",
    "print(len(heads_selected))\n",
    "\n",
    "# HEADS = heads_selected\n",
    "\n",
    "# (35, 19) in HEADS, (35, 19) in heads_selected"
   ]
  },
  {
   "cell_type": "code",
   "execution_count": 60,
   "id": "526820a5",
   "metadata": {},
   "outputs": [
    {
     "name": "stdout",
     "output_type": "stream",
     "text": [
      "a. Airplane\n",
      "b. Cabinet\n",
      "c. Lion\n",
      "d. Headphones\n",
      "e. Blender\n",
      "f. Hickory\n",
      "Which among these objects mentioned above is a vehicle?\n",
      "Answer: >> \" a\"\n"
     ]
    }
   ],
   "source": [
    "from src.selection.data import MCQify_sample\n",
    "\n",
    "sample = select_task.get_random_sample(\n",
    "    mt = mt,\n",
    "    option_style=OPTION_STYLE,\n",
    "    prompt_template_idx=prompt_template_idx,\n",
    "    # category=\"actor\",\n",
    "    # category=\"Brazil\"\n",
    "    category=\"vehicle\",\n",
    "    filter_by_lm_prediction=False,\n",
    ")\n",
    "sample = MCQify_sample(sample = sample, mt = mt)\n",
    "\n",
    "print(sample.prompt(), \">>\", f'\"{mt.tokenizer.decode([sample.ans_token_id])}\"')"
   ]
  },
  {
   "cell_type": "code",
   "execution_count": 61,
   "id": "b13680a0",
   "metadata": {},
   "outputs": [
    {
     "name": "stdout",
     "output_type": "stream",
     "text": [
      "2025-09-15 18:36:17 src.selection.functional DEBUG    Predictions: ['\" a\"[264] (p=0.594, logit=22.500)', '\" Air\"[6690] (p=0.117, logit=20.875)', '\" (\"[320] (p=0.117, logit=20.875)', '\" An\"[1556] (p=0.062, logit=20.250)', '\" The\"[578] (p=0.062, logit=20.250)']\n",
      "2025-09-15 18:36:17 src.selection.functional INFO     Combined attention matrix for all heads\n"
     ]
    },
    {
     "data": {
      "text/html": [
       "<div id=\"circuits-vis-07ece278-1da8\" style=\"margin: 15px 0;\"/>\n",
       "    <script crossorigin type=\"module\">\n",
       "    import { render, ColoredTokens } from \"https://unpkg.com/circuitsvis@1.43.3/dist/cdn/esm.js\";\n",
       "    render(\n",
       "      \"circuits-vis-07ece278-1da8\",\n",
       "      ColoredTokens,\n",
       "      {\"tokens\": [\"a\", \".\", \" Air\", \"plane\", \"\\n\", \"b\", \".\", \" Cabinet\", \"\\n\", \"c\", \".\", \" Lion\", \"\\n\", \"d\", \".\", \" Head\", \"phones\", \"\\n\", \"e\", \".\", \" Blender\", \"\\n\", \"f\", \".\", \" Hick\", \"ory\", \"\\n\", \"Which\", \" among\", \" these\", \" objects\", \" mentioned\", \" above\", \" is\", \" a\", \" vehicle\", \"?\\n\", \"Answer\", \":\"], \"values\": [0.02605554088950157, 0.014512943103909492, 0.011255349963903427, 0.03966545686125755, 0.07283461838960648, 0.02900548465549946, 0.020389897748827934, 0.005336242262274027, 0.010499302297830582, 0.007990620099008083, 0.029359297826886177, 0.005207194481045008, 0.0063687097281217575, 0.01413304265588522, 0.002521502785384655, 0.0016307468758895993, 0.006956498604267836, 0.006278418470174074, 0.01627475395798683, 0.005593366455286741, 0.007721990812569857, 0.004146094433963299, 0.012705815024673939, 0.001305302488617599, 0.0019661777187138796, 0.0022017215378582478, 0.005465613212436438, 0.01647663116455078, 0.009022369049489498, 0.01376747153699398, 0.011286650784313679, 0.007699562236666679, 0.00714037986472249, 0.006115934811532497, 0.007531274575740099, 0.043453700840473175, 0.04221327230334282, 0.0186084546148777, 0.0493449792265892]}\n",
       "    )\n",
       "    </script>"
      ],
      "text/plain": [
       "<circuitsvis.utils.render.RenderedHTML at 0x7fcfb67f0510>"
      ]
     },
     "metadata": {},
     "output_type": "display_data"
    }
   ],
   "source": [
    "from src.attention import get_attention_matrices\n",
    "from src.selection.functional import (\n",
    "    verify_head_patterns,\n",
    "    get_patches_to_verify_independent_enrichment,\n",
    ")\n",
    "\n",
    "attn_pattern = verify_head_patterns(\n",
    "    prompt=sample.prompt(),\n",
    "    options=sample.options,\n",
    "    mt=mt,\n",
    "    heads=heads_selected,\n",
    "    # heads = HEADS,\n",
    "    # heads = [(35, 19)],\n",
    "    start_from=1\n",
    ")"
   ]
  },
  {
   "cell_type": "markdown",
   "id": "7723b118",
   "metadata": {},
   "source": [
    "## Apply Logit Lens on the OV contribution"
   ]
  },
  {
   "cell_type": "code",
   "execution_count": 62,
   "id": "1598a322",
   "metadata": {},
   "outputs": [
    {
     "name": "stdout",
     "output_type": "stream",
     "text": [
      "2025-09-15 18:36:27 src.hooking.llama_attention WARNING  model.layers.35.self_attn >> allclose(attn_output, __attn_output)=False | attn_output.norm().item()=15.5, __attn_output.norm().item()=15.5\n",
      "2025-09-15 18:36:27 src.hooking.llama_attention WARNING  model.layers.37.self_attn >> allclose(attn_output, __attn_output)=False | attn_output.norm().item()=12.0, __attn_output.norm().item()=12.0\n"
     ]
    },
    {
     "data": {
      "text/plain": [
       "[PredictedToken(token=' a', prob=0.6015625, logit=22.5, token_id=264, metadata=None),\n",
       " PredictedToken(token=' Air', prob=0.1181640625, logit=20.875, token_id=6690, metadata=None),\n",
       " PredictedToken(token=' (', prob=0.1044921875, logit=20.75, token_id=320, metadata=None),\n",
       " PredictedToken(token=' An', prob=0.0634765625, logit=20.25, token_id=1556, metadata=None),\n",
       " PredictedToken(token=' The', prob=0.0634765625, logit=20.25, token_id=578, metadata=None)]"
      ]
     },
     "execution_count": 62,
     "metadata": {},
     "output_type": "execute_result"
    }
   ],
   "source": [
    "from src.hooking.llama_attention import LlamaAttentionPatcher\n",
    "import types\n",
    "import copy\n",
    "import baukit\n",
    "from src.functional import patch_with_baukit, interpret_logits, get_hs\n",
    "from src.selection.utils import get_first_token_id\n",
    "from src.tokens import prepare_input\n",
    "\n",
    "HEADS = copy.deepcopy(heads_selected)\n",
    "tokenized = prepare_input(prompts=sample.prompt(), tokenizer=mt.tokenizer)\n",
    "\n",
    "mt.reset_forward()\n",
    "mt.set_attn_implementation(\"sdpa\")\n",
    "\n",
    "layers_to_heads = {}\n",
    "for layer_idx, head_idx in HEADS:\n",
    "    if layer_idx not in layers_to_heads:\n",
    "        layers_to_heads[layer_idx] = []\n",
    "    layers_to_heads[layer_idx].append(head_idx)\n",
    "\n",
    "head_contributions = {}\n",
    "for layer_idx, head_indices in layers_to_heads.items():\n",
    "    attn_block_name = mt.attn_module_name_format.format(layer_idx)\n",
    "    attn_block = baukit.get_module(mt._model, attn_block_name)\n",
    "    head_contributions[layer_idx] = {}\n",
    "\n",
    "    attn_block.forward = types.MethodType(\n",
    "        LlamaAttentionPatcher(\n",
    "            block_name=attn_block_name,\n",
    "            save_attn_for=head_indices,\n",
    "            store_head_contributions=head_contributions[layer_idx],\n",
    "        ),\n",
    "        attn_block,\n",
    "    )\n",
    "\n",
    "logit_location = (mt.lm_head_name, -1)\n",
    "logit = get_hs(\n",
    "    mt=mt,\n",
    "    input=tokenized,\n",
    "    locations = logit_location,\n",
    "    return_dict=False\n",
    ")\n",
    "\n",
    "mt.reset_forward()\n",
    "mt.set_attn_implementation(\"eager\")\n",
    "\n",
    "pred = interpret_logits(\n",
    "    logits=logit,\n",
    "    tokenizer=mt.tokenizer,\n",
    ")\n",
    "pred"
   ]
  },
  {
   "cell_type": "code",
   "execution_count": 63,
   "id": "01a32947",
   "metadata": {},
   "outputs": [
    {
     "data": {
      "text/plain": [
       "([PredictedToken(token=' Cunning', prob=0.03369140625, logit=10.1875, token_id=68845, metadata=None),\n",
       "  PredictedToken(token='ietf', prob=0.006256103515625, logit=8.5, token_id=75168, metadata=None),\n",
       "  PredictedToken(token='.cgi', prob=0.006256103515625, logit=8.5, token_id=60114, metadata=None),\n",
       "  PredictedToken(token=':.:', prob=0.0040283203125, logit=8.0625, token_id=111898, metadata=None),\n",
       "  PredictedToken(token=' Mayo', prob=0.0040283203125, logit=8.0625, token_id=58157, metadata=None)],\n",
       " OrderedDict([(88668,\n",
       "               (50600,\n",
       "                PredictedToken(token=' Blender', prob=2.1904706954956055e-06, logit=0.54296875, token_id=88668, metadata=None))),\n",
       "              (294,\n",
       "               (58572,\n",
       "                PredictedToken(token=' d', prob=1.6614794731140137e-06, logit=0.265625, token_id=294, metadata=None))),\n",
       "              (11452,\n",
       "               (62545,\n",
       "                PredictedToken(token=' Head', prob=1.4454126358032227e-06, logit=0.130859375, token_id=11452, metadata=None))),\n",
       "              (384,\n",
       "               (76201,\n",
       "                PredictedToken(token=' e', prob=9.126961231231689e-07, logit=-0.33203125, token_id=384, metadata=None))),\n",
       "              (6690,\n",
       "               (77709,\n",
       "                PredictedToken(token=' Air', prob=8.642673492431641e-07, logit=-0.38671875, token_id=6690, metadata=None))),\n",
       "              (33199,\n",
       "               (78967,\n",
       "                PredictedToken(token=' Lion', prob=8.270144462585449e-07, logit=-0.4296875, token_id=33199, metadata=None))),\n",
       "              (272,\n",
       "               (80647,\n",
       "                PredictedToken(token=' c', prob=7.7858567237854e-07, logit=-0.48828125, token_id=272, metadata=None))),\n",
       "              (34046,\n",
       "               (101139,\n",
       "                PredictedToken(token=' Cabinet', prob=3.501772880554199e-07, logit=-1.2890625, token_id=34046, metadata=None))),\n",
       "              (282,\n",
       "               (104434,\n",
       "                PredictedToken(token=' f', prob=2.980232238769531e-07, logit=-1.453125, token_id=282, metadata=None))),\n",
       "              (79028,\n",
       "               (107287,\n",
       "                PredictedToken(token=' Hick', prob=2.5704503059387207e-07, logit=-1.6015625, token_id=79028, metadata=None))),\n",
       "              (264,\n",
       "               (126892,\n",
       "                PredictedToken(token=' a', prob=2.1886080503463745e-08, logit=-4.0625, token_id=264, metadata=None))),\n",
       "              (293,\n",
       "               (127977,\n",
       "                PredictedToken(token=' b', prob=7.334165275096893e-09, logit=-5.15625, token_id=293, metadata=None)))]))"
      ]
     },
     "execution_count": 63,
     "metadata": {},
     "output_type": "execute_result"
    }
   ],
   "source": [
    "from src.functional import logit_lens\n",
    "from src.selection.data import get_options_for_answer\n",
    "\n",
    "# head_contrib = head_contributions[35][19][:, -1, :]\n",
    "head_contrib = []\n",
    "for layer_idx, head_idx in HEADS:\n",
    "    head_contrib.append(\n",
    "        head_contributions[layer_idx][head_idx][:, -1, :].squeeze().cuda()\n",
    "    )\n",
    "\n",
    "head_contrib = torch.stack(head_contrib).sum(dim=0)\n",
    "\n",
    "logit_lens(\n",
    "    mt=mt,\n",
    "    h=head_contrib,\n",
    "    interested_tokens=[\n",
    "        get_first_token_id(name=opt, tokenizer=mt.tokenizer, prefix=\" \")\n",
    "        for opt in get_options_for_answer(sample) + sample.options\n",
    "    ],\n",
    ")\n",
    "\n",
    "# head_contrib.shape"
   ]
  },
  {
   "cell_type": "code",
   "execution_count": 64,
   "id": "8f45ace2",
   "metadata": {},
   "outputs": [],
   "source": [
    "from src.functional import free_gpu_cache\n",
    "del head_contributions\n",
    "del head_contrib\n",
    "free_gpu_cache()"
   ]
  },
  {
   "cell_type": "markdown",
   "id": "bcee117e",
   "metadata": {},
   "source": [
    "## Just apply Logit Lens on the Latents"
   ]
  },
  {
   "cell_type": "code",
   "execution_count": 65,
   "id": "01f4ad6c",
   "metadata": {},
   "outputs": [
    {
     "name": "stdout",
     "output_type": "stream",
     "text": [
      "model.layers.0 | [' d', ' Hick', ' Lion', ' f', ' c', ' Blender', ' b', ' Cabinet', ' Head', ' a', ' Air', ' e'] | ['\"ogo\"[24404] (p=0.002, logit=6.406)', '\" NotImplemented\"[22273] (p=0.002, logit=6.344)', '\" Salv\"[32066] (p=0.001, logit=6.062)', '\" Oswald\"[90450] (p=0.001, logit=6.000)', '\"럴\"[121408] (p=0.001, logit=5.938)']\n",
      "model.layers.1 | [' d', ' Hick', ' b', ' Lion', ' c', ' Blender', ' f', ' Cabinet', ' Head', ' a', ' Air', ' e'] | ['\"럴\"[121408] (p=0.003, logit=6.781)', '\"ogo\"[24404] (p=0.003, logit=6.688)', '\" Oswald\"[90450] (p=0.002, logit=6.438)', '\" rem\"[1323] (p=0.002, logit=6.438)', '\"abi\"[26140] (p=0.002, logit=6.375)']\n",
      "model.layers.2 | [' d', ' b', ' c', ' f', ' Blender', ' Lion', ' Hick', ' a', ' Head', ' Cabinet', ' e', ' Air'] | ['\"abi\"[26140] (p=0.007, logit=8.000)', '\"uni\"[16080] (p=0.006, logit=7.812)', '\" bois\"[66304] (p=0.005, logit=7.688)', '\"ds\"[5469] (p=0.004, logit=7.594)', '\" Mig\"[38651] (p=0.004, logit=7.500)']\n",
      "model.layers.3 | [' c', ' d', ' b', ' f', ' Hick', ' Lion', ' a', ' Blender', ' Head', ' Cabinet', ' Air', ' e'] | ['\"uni\"[16080] (p=0.011, logit=8.688)', '\"ARA\"[55062] (p=0.005, logit=7.812)', '\" counterfeit\"[83734] (p=0.003, logit=7.438)', '\" bois\"[66304] (p=0.003, logit=7.406)', '\"eni\"[34229] (p=0.003, logit=7.375)']\n",
      "model.layers.4 | [' c', ' Lion', ' d', ' f', ' b', ' a', ' Blender', ' Hick', ' Head', ' e', ' Air', ' Cabinet'] | ['\" Oswald\"[90450] (p=0.006, logit=8.250)', '\" counterfeit\"[83734] (p=0.005, logit=7.969)', '\" cap\"[2107] (p=0.004, logit=7.875)', '\"uni\"[16080] (p=0.003, logit=7.562)', '\" bois\"[66304] (p=0.003, logit=7.312)']\n",
      "model.layers.5 | [' c', ' Lion', ' d', ' f', ' Head', ' a', ' b', ' Hick', ' Blender', ' Air', ' e', ' Cabinet'] | ['\" Oswald\"[90450] (p=0.008, logit=8.500)', '\" herald\"[65206] (p=0.006, logit=8.125)', '\"belt\"[76948] (p=0.003, logit=7.625)', '\" counterfeit\"[83734] (p=0.003, logit=7.594)', '\"ARA\"[55062] (p=0.003, logit=7.438)']\n",
      "model.layers.6 | [' c', ' Lion', ' f', ' d', ' Blender', ' Head', ' b', ' a', ' Hick', ' Air', ' e', ' Cabinet'] | ['\" herald\"[65206] (p=0.011, logit=8.875)', '\"belt\"[76948] (p=0.007, logit=8.500)', '\"ARA\"[55062] (p=0.007, logit=8.500)', '\"益\"[105576] (p=0.005, logit=8.188)', '\" Ingram\"[95466] (p=0.004, logit=7.812)']\n",
      "model.layers.7 | [' c', ' Lion', ' f', ' b', ' d', ' Blender', ' a', ' Hick', ' Head', ' Air', ' Cabinet', ' e'] | ['\"belt\"[76948] (p=0.010, logit=8.750)', '\"UNITY\"[57273] (p=0.008, logit=8.500)', '\"chyb\"[122029] (p=0.007, logit=8.438)', '\" herald\"[65206] (p=0.005, logit=8.062)', '\"ARA\"[55062] (p=0.005, logit=7.938)']\n",
      "model.layers.8 | [' c', ' f', ' b', ' Blender', ' Lion', ' d', ' Hick', ' Air', ' a', ' Head', ' Cabinet', ' e'] | ['\"ARA\"[55062] (p=0.006, logit=8.125)', '\"chyb\"[122029] (p=0.005, logit=7.969)', '\"belt\"[76948] (p=0.004, logit=7.688)', '\" иму\"[120918] (p=0.004, logit=7.625)', '\" диви\"[121015] (p=0.003, logit=7.500)']\n",
      "model.layers.9 | [' f', ' c', ' b', ' d', ' Lion', ' Blender', ' Hick', ' a', ' Air', ' Cabinet', ' Head', ' e'] | ['\"680\"[17814] (p=0.004, logit=7.688)', '\"belt\"[76948] (p=0.004, logit=7.562)', '\"amework\"[3426] (p=0.003, logit=7.438)', '\"odox\"[31162] (p=0.003, logit=7.312)', '\" Oswald\"[90450] (p=0.003, logit=7.219)']\n",
      "model.layers.10 | [' b', ' f', ' c', ' d', ' Blender', ' Lion', ' Cabinet', ' Hick', ' Air', ' Head', ' a', ' e'] | ['\"UNITY\"[57273] (p=0.009, logit=8.375)', '\"inho\"[28676] (p=0.006, logit=8.000)', '\"unity\"[2498] (p=0.004, logit=7.562)', '\" Unity\"[22462] (p=0.003, logit=7.438)', '\"̧\"[123693] (p=0.003, logit=7.375)']\n",
      "model.layers.11 | [' f', ' Lion', ' b', ' Blender', ' Cabinet', ' c', ' d', ' Air', ' Hick', ' a', ' Head', ' e'] | ['\" ground\"[5015] (p=0.004, logit=7.562)', '\"gam\"[40429] (p=0.004, logit=7.500)', '\"unity\"[2498] (p=0.003, logit=7.219)', '\"inho\"[28676] (p=0.003, logit=7.156)', '\" sod\"[24905] (p=0.002, logit=6.969)']\n",
      "model.layers.12 | [' f', ' Cabinet', ' c', ' b', ' d', ' Lion', ' Blender', ' Air', ' a', ' Hick', ' Head', ' e'] | ['\"inho\"[28676] (p=0.006, logit=7.938)', '\" ground\"[5015] (p=0.006, logit=7.844)', '\"共同\"[119046] (p=0.004, logit=7.438)', '\"unity\"[2498] (p=0.003, logit=7.094)', '\"Answer\"[16533] (p=0.002, logit=6.844)']\n",
      "model.layers.13 | [' f', ' Cabinet', ' b', ' d', ' c', ' Hick', ' Blender', ' Air', ' a', ' Lion', ' Head', ' e'] | ['\"Unity\"[38410] (p=0.008, logit=8.188)', '\" Unity\"[22462] (p=0.005, logit=7.812)', '\"oun\"[1656] (p=0.004, logit=7.500)', '\"UNITY\"[57273] (p=0.003, logit=7.281)', '\" Braun\"[70703] (p=0.003, logit=7.219)']\n",
      "model.layers.14 | [' Cabinet', ' b', ' f', ' c', ' Hick', ' d', ' Air', ' a', ' Blender', ' Head', ' e', ' Lion'] | ['\" Ans\"[39553] (p=0.005, logit=7.625)', '\"iad\"[64044] (p=0.005, logit=7.594)', '\" Highlander\"[49730] (p=0.004, logit=7.500)', '\"oun\"[1656] (p=0.004, logit=7.406)', '\"Ans\"[70699] (p=0.004, logit=7.344)']\n",
      "model.layers.15 | [' Hick', ' Cabinet', ' c', ' f', ' Air', ' b', ' d', ' a', ' Blender', ' Head', ' Lion', ' e'] | ['\"etto\"[53979] (p=0.008, logit=8.250)', '\" Ans\"[39553] (p=0.006, logit=7.875)', '\"aldi\"[78016] (p=0.005, logit=7.688)', '\"Ans\"[70699] (p=0.005, logit=7.625)', '\" Sty\"[47665] (p=0.004, logit=7.469)']\n",
      "model.layers.16 | [' c', ' Hick', ' d', ' b', ' f', ' Air', ' Cabinet', ' Blender', ' Head', ' a', ' Lion', ' e'] | ['\"aldi\"[78016] (p=0.012, logit=8.562)', '\"blick\"[84920] (p=0.003, logit=7.031)', '\" styling\"[42428] (p=0.003, logit=7.000)', '\"eda\"[14151] (p=0.002, logit=6.906)', '\" Latter\"[90166] (p=0.002, logit=6.812)']\n",
      "model.layers.17 | [' c', ' Hick', ' d', ' f', ' Air', ' b', ' Lion', ' Head', ' Blender', ' Cabinet', ' a', ' e'] | ['\" Latter\"[90166] (p=0.018, logit=8.875)', '\"etto\"[53979] (p=0.006, logit=7.812)', '\"aldi\"[78016] (p=0.004, logit=7.438)', '\" Wonder\"[27205] (p=0.004, logit=7.344)', '\"iad\"[64044] (p=0.003, logit=7.250)']\n",
      "model.layers.18 | [' c', ' Hick', ' Air', ' d', ' b', ' f', ' Cabinet', ' Blender', ' Head', ' a', ' Lion', ' e'] | ['\" Latter\"[90166] (p=0.011, logit=8.438)', '\"etto\"[53979] (p=0.010, logit=8.312)', '\"idl\"[56564] (p=0.005, logit=7.625)', '\"iad\"[64044] (p=0.004, logit=7.438)', '\"icle\"[2045] (p=0.004, logit=7.375)']\n",
      "model.layers.19 | [' c', ' d', ' Hick', ' Air', ' b', ' Blender', ' f', ' a', ' Cabinet', ' Head', ' e', ' Lion'] | ['\"odu\"[77055] (p=0.011, logit=8.500)', '\" Gaw\"[86638] (p=0.008, logit=8.250)', '\" resil\"[37130] (p=0.008, logit=8.250)', '\" Latter\"[90166] (p=0.006, logit=7.906)', '\" answer\"[4320] (p=0.005, logit=7.750)']\n",
      "model.layers.20 | [' Hick', ' c', ' d', ' Air', ' b', ' a', ' Blender', ' f', ' e', ' Head', ' Cabinet', ' Lion'] | ['\" Gaw\"[86638] (p=0.009, logit=8.062)', '\" resil\"[37130] (p=0.008, logit=8.000)', '\"iggins\"[53026] (p=0.008, logit=7.906)', '\"odu\"[77055] (p=0.004, logit=7.125)', '\" Seymour\"[94611] (p=0.003, logit=7.062)']\n",
      "model.layers.21 | [' c', ' Air', ' Cabinet', ' Lion', ' f', ' Hick', ' Blender', ' b', ' a', ' d', ' e', ' Head'] | ['\" NONE\"[43969] (p=0.008, logit=7.906)', '\" Beard\"[88530] (p=0.005, logit=7.375)', '\" poil\"[74611] (p=0.005, logit=7.375)', '\" Ou\"[69327] (p=0.004, logit=7.125)', '\" wd\"[46504] (p=0.004, logit=7.125)']\n",
      "model.layers.22 | [' c', ' Lion', ' Air', ' Cabinet', ' Hick', ' d', ' b', ' e', ' a', ' Blender', ' f', ' Head'] | ['\"olo\"[10216] (p=0.004, logit=7.062)', '\" Cand\"[70654] (p=0.004, logit=6.875)', '\"er\"[261] (p=0.004, logit=6.875)', '\" NONE\"[43969] (p=0.004, logit=6.875)', '\" poil\"[74611] (p=0.003, logit=6.812)']\n",
      "model.layers.23 | [' c', ' Lion', ' Air', ' Cabinet', ' Blender', ' d', ' e', ' Hick', ' Head', ' b', ' f', ' a'] | ['\" NONE\"[43969] (p=0.019, logit=8.625)', '\" poil\"[74611] (p=0.009, logit=7.875)', '\"None\"[4155] (p=0.008, logit=7.750)', '\" None\"[2290] (p=0.006, logit=7.500)', '\"oun\"[1656] (p=0.006, logit=7.500)']\n",
      "model.layers.24 | [' c', ' Air', ' Cabinet', ' d', ' Lion', ' Blender', ' b', ' f', ' Head', ' e', ' Hick', ' a'] | ['\"oun\"[1656] (p=0.011, logit=7.812)', '\" NONE\"[43969] (p=0.005, logit=7.125)', '\"慎\"[127762] (p=0.004, logit=6.688)', '\" none\"[7000] (p=0.002, logit=6.312)', '\" Zack\"[71566] (p=0.002, logit=6.125)']\n",
      "model.layers.25 | [' c', ' d', ' Hick', ' Cabinet', ' Air', ' f', ' b', ' Head', ' Blender', ' Lion', ' e', ' a'] | ['\"KD\"[90709] (p=0.009, logit=7.469)', '\"oun\"[1656] (p=0.007, logit=7.188)', '\"unik\"[71549] (p=0.006, logit=7.031)', '\"oppins\"[80496] (p=0.005, logit=6.906)', '\" poil\"[74611] (p=0.004, logit=6.781)']\n",
      "model.layers.26 | [' c', ' d', ' Head', ' b', ' f', ' Air', ' Cabinet', ' Blender', ' e', ' Hick', ' a', ' Lion'] | ['\"oun\"[1656] (p=0.018, logit=8.125)', '\"KD\"[90709] (p=0.009, logit=7.500)', '\"alis\"[35965] (p=0.008, logit=7.375)', '\" NONE\"[43969] (p=0.006, logit=7.031)', '\" none\"[7000] (p=0.005, logit=6.906)']\n",
      "model.layers.27 | [' c', ' b', ' d', ' f', ' Head', ' Cabinet', ' a', ' Air', ' Hick', ' Lion', ' e', ' Blender'] | ['\"KD\"[90709] (p=0.013, logit=7.562)', '\".future\"[98793] (p=0.007, logit=6.875)', '\" B\"[426] (p=0.006, logit=6.812)', '\"alis\"[35965] (p=0.004, logit=6.250)', '\" NONE\"[43969] (p=0.003, logit=6.094)']\n",
      "model.layers.28 | [' c', ' Head', ' b', ' e', ' f', ' d', ' Hick', ' a', ' Lion', ' Air', ' Blender', ' Cabinet'] | ['\" none\"[7000] (p=0.015, logit=7.875)', '\" NONE\"[43969] (p=0.007, logit=7.062)', '\" Bever\"[39099] (p=0.005, logit=6.844)', '\" None\"[2290] (p=0.004, logit=6.656)', '\" B\"[426] (p=0.004, logit=6.625)']\n",
      "model.layers.29 | [' Head', ' c', ' d', ' e', ' Air', ' b', ' Hick', ' a', ' Lion', ' f', ' Cabinet', ' Blender'] | ['\" none\"[7000] (p=0.017, logit=8.125)', '\" None\"[2290] (p=0.009, logit=7.500)', '\"None\"[4155] (p=0.004, logit=6.625)', '\" Ou\"[69327] (p=0.004, logit=6.562)', '\"ongo\"[6497] (p=0.003, logit=6.531)']\n",
      "model.layers.30 | [' Head', ' c', ' Air', ' d', ' Hick', ' b', ' a', ' e', ' Lion', ' Blender', ' Cabinet', ' f'] | ['\" none\"[7000] (p=0.020, logit=8.188)', '\" None\"[2290] (p=0.009, logit=7.406)', '\" Tier\"[36332] (p=0.007, logit=7.125)', '\" NONE\"[43969] (p=0.004, logit=6.625)', '\" vect\"[56735] (p=0.004, logit=6.594)']\n",
      "model.layers.31 | [' Head', ' c', ' d', ' Air', ' e', ' f', ' b', ' Hick', ' a', ' Cabinet', ' Lion', ' Blender'] | ['\" none\"[7000] (p=0.015, logit=7.875)', '\" vect\"[56735] (p=0.005, logit=6.750)', '\" Kimber\"[64907] (p=0.005, logit=6.688)', '\"ongo\"[6497] (p=0.004, logit=6.531)', '\"oby\"[28113] (p=0.004, logit=6.406)']\n",
      "model.layers.32 | [' Head', ' Air', ' Hick', ' c', ' d', ' Lion', ' e', ' b', ' Blender', ' Cabinet', ' a', ' f'] | ['\"onym\"[7987] (p=0.004, logit=6.750)', '\" none\"[7000] (p=0.004, logit=6.656)', '\" Perkins\"[66011] (p=0.003, logit=6.531)', '\" Kimber\"[64907] (p=0.003, logit=6.500)', '\" Ventura\"[85754] (p=0.003, logit=6.469)']\n",
      "model.layers.33 | [' Head', ' c', ' Hick', ' d', ' b', ' Air', ' Lion', ' e', ' Cabinet', ' a', ' Blender', ' f'] | ['\"u\"[84] (p=0.022, logit=8.250)', '\"(\"[7] (p=0.008, logit=7.188)', '\"_\"[62] (p=0.004, logit=6.562)', '\"only\"[3323] (p=0.004, logit=6.438)', '\"None\"[4155] (p=0.003, logit=6.375)']\n",
      "model.layers.34 | [' Head', ' c', ' Hick', ' d', ' b', ' Air', ' Lion', ' e', ' a', ' Blender', ' f', ' Cabinet'] | ['\"uss\"[1892] (p=0.008, logit=7.344)', '\"u\"[84] (p=0.006, logit=7.000)', '\"only\"[3323] (p=0.005, logit=6.875)', '\"(\"[7] (p=0.005, logit=6.812)', '\"_\"[62] (p=0.004, logit=6.750)']\n",
      "model.layers.35 | [' c', ' Hick', ' b', ' Head', ' Lion', ' d', ' e', ' a', ' f', ' Air', ' Blender', ' Cabinet'] | ['\"uss\"[1892] (p=0.011, logit=7.938)', '\"only\"[3323] (p=0.006, logit=7.312)', '\"amed\"[3690] (p=0.006, logit=7.250)', '\" ans\"[8261] (p=0.004, logit=7.000)', '\" option\"[3072] (p=0.004, logit=7.000)']\n",
      "model.layers.36 | [' c', ' Hick', ' Lion', ' b', ' Head', ' e', ' d', ' a', ' Air', ' Cabinet', ' f', ' Blender'] | ['\" none\"[7000] (p=0.020, logit=8.500)', '\" ans\"[8261] (p=0.007, logit=7.406)', '\" option\"[3072] (p=0.005, logit=7.062)', '\" Diss\"[52132] (p=0.004, logit=6.938)', '\"�\"[111896] (p=0.004, logit=6.875)']\n",
      "model.layers.37 | [' c', ' b', ' Hick', ' Head', ' d', ' Lion', ' e', ' a', ' Air', ' Cabinet', ' f', ' Blender'] | ['\" none\"[7000] (p=0.177, logit=10.812)', '\" NONE\"[43969] (p=0.025, logit=8.875)', '\" option\"[3072] (p=0.017, logit=8.500)', '\" obvious\"[8196] (p=0.014, logit=8.312)', '\"None\"[4155] (p=0.009, logit=7.781)']\n",
      "model.layers.38 | [' c', ' b', ' Hick', ' d', ' Lion', ' Head', ' a', ' e', ' Air', ' f', ' Cabinet', ' Blender'] | ['\" none\"[7000] (p=0.328, logit=11.812)', '\" NONE\"[43969] (p=0.019, logit=8.938)', '\" option\"[3072] (p=0.019, logit=8.938)', '\"none\"[6836] (p=0.013, logit=8.562)', '\"None\"[4155] (p=0.011, logit=8.375)']\n",
      "model.layers.39 | [' c', ' b', ' d', ' Hick', ' Lion', ' Head', ' a', ' e', ' f', ' Air', ' Cabinet', ' Blender'] | ['\" none\"[7000] (p=0.213, logit=11.188)', '\" option\"[3072] (p=0.040, logit=9.500)', '\" NONE\"[43969] (p=0.031, logit=9.250)', '\"None\"[4155] (p=0.015, logit=8.562)', '\" only\"[1193] (p=0.007, logit=7.812)']\n",
      "model.layers.40 | [' c', ' Hick', ' d', ' b', ' Lion', ' a', ' Head', ' e', ' Air', ' Cabinet', ' f', ' Blender'] | ['\" option\"[3072] (p=0.100, logit=10.500)', '\" none\"[7000] (p=0.100, logit=10.500)', '\" NONE\"[43969] (p=0.024, logit=9.062)', '\" A\"[362] (p=0.016, logit=8.688)', '\"None\"[4155] (p=0.015, logit=8.625)']\n",
      "model.layers.41 | [' c', ' Hick', ' d', ' b', ' Air', ' Lion', ' a', ' e', ' Head', ' Cabinet', ' f', ' Blender'] | ['\" none\"[7000] (p=0.134, logit=10.750)', '\" option\"[3072] (p=0.098, logit=10.438)', '\" NONE\"[43969] (p=0.056, logit=9.875)', '\"None\"[4155] (p=0.016, logit=8.625)', '\" A\"[362] (p=0.012, logit=8.312)']\n",
      "model.layers.42 | [' c', ' Hick', ' d', ' b', ' Lion', ' Air', ' a', ' e', ' Head', ' Cabinet', ' f', ' Blender'] | ['\" option\"[3072] (p=0.119, logit=10.688)', '\" none\"[7000] (p=0.093, logit=10.438)', '\" NONE\"[43969] (p=0.036, logit=9.500)', '\" correct\"[4495] (p=0.026, logit=9.188)', '\" A\"[362] (p=0.015, logit=8.625)']\n",
      "model.layers.43 | [' c', ' Hick', ' d', ' b', ' a', ' Lion', ' Air', ' Head', ' Cabinet', ' e', ' f', ' Blender'] | ['\" none\"[7000] (p=0.112, logit=10.562)', '\" option\"[3072] (p=0.082, logit=10.250)', '\" NONE\"[43969] (p=0.039, logit=9.500)', '\"None\"[4155] (p=0.032, logit=9.312)', '\" only\"[1193] (p=0.027, logit=9.125)']\n",
      "model.layers.44 | [' c', ' Hick', ' d', ' b', ' a', ' Cabinet', ' Air', ' e', ' Head', ' Lion', ' f', ' Blender'] | ['\" none\"[7000] (p=0.170, logit=11.125)', '\" option\"[3072] (p=0.071, logit=10.250)', '\"None\"[4155] (p=0.046, logit=9.812)', '\" NONE\"[43969] (p=0.038, logit=9.625)', '\" only\"[1193] (p=0.031, logit=9.438)']\n",
      "model.layers.45 | [' c', ' Hick', ' b', ' d', ' a', ' Cabinet', ' Air', ' e', ' Head', ' Lion', ' f', ' Blender'] | ['\" none\"[7000] (p=0.089, logit=10.250)', '\" option\"[3072] (p=0.083, logit=10.188)', '\"None\"[4155] (p=0.035, logit=9.312)', '\" only\"[1193] (p=0.029, logit=9.125)', '\" NONE\"[43969] (p=0.027, logit=9.062)']\n",
      "model.layers.46 | [' Hick', ' c', ' d', ' b', ' Cabinet', ' a', ' Head', ' Lion', ' Air', ' e', ' f', ' Blender'] | ['\" option\"[3072] (p=0.082, logit=10.125)', '\" none\"[7000] (p=0.060, logit=9.812)', '\" only\"[1193] (p=0.027, logit=9.000)', '\" NONE\"[43969] (p=0.024, logit=8.875)', '\"None\"[4155] (p=0.021, logit=8.750)']\n",
      "model.layers.47 | [' Hick', ' c', ' d', ' Cabinet', ' b', ' a', ' Head', ' Lion', ' Air', ' e', ' f', ' Blender'] | ['\" option\"[3072] (p=0.264, logit=11.500)', '\" none\"[7000] (p=0.038, logit=9.562)', '\" only\"[1193] (p=0.026, logit=9.188)', '\"None\"[4155] (p=0.019, logit=8.875)', '\" NONE\"[43969] (p=0.018, logit=8.812)']\n",
      "model.layers.48 | [' c', ' b', ' d', ' Hick', ' a', ' Cabinet', ' Head', ' Air', ' Lion', ' e', ' Blender', ' f'] | ['\" option\"[3072] (p=0.559, logit=12.938)', '\" only\"[1193] (p=0.028, logit=9.938)', '\" none\"[7000] (p=0.026, logit=9.875)', '\" Option\"[7104] (p=0.022, logit=9.688)', '\"option\"[2091] (p=0.016, logit=9.375)']\n",
      "model.layers.49 | [' c', ' d', ' Hick', ' Cabinet', ' b', ' a', ' Head', ' Lion', ' e', ' Air', ' Blender', ' f'] | ['\" option\"[3072] (p=0.719, logit=13.625)', '\" Option\"[7104] (p=0.019, logit=10.000)', '\" none\"[7000] (p=0.015, logit=9.750)', '\" only\"[1193] (p=0.013, logit=9.625)', '\"option\"[2091] (p=0.011, logit=9.438)']\n",
      "model.layers.50 | [' c', ' d', ' Cabinet', ' Hick', ' b', ' a', ' Head', ' e', ' Air', ' Lion', ' Blender', ' f'] | ['\" option\"[3072] (p=0.578, logit=12.875)', '\" Option\"[7104] (p=0.019, logit=9.438)', '\" only\"[1193] (p=0.017, logit=9.375)', '\" none\"[7000] (p=0.016, logit=9.312)', '\"option\"[2091] (p=0.013, logit=9.062)']\n",
      "model.layers.51 | [' c', ' d', ' Air', ' Cabinet', ' Hick', ' a', ' b', ' e', ' Head', ' Lion', ' Blender', ' f'] | ['\" option\"[3072] (p=0.555, logit=12.750)', '\"option\"[2091] (p=0.024, logit=9.625)', '\" only\"[1193] (p=0.023, logit=9.562)', '\" Option\"[7104] (p=0.018, logit=9.312)', '\" none\"[7000] (p=0.011, logit=8.812)']\n",
      "model.layers.52 | [' d', ' c', ' Cabinet', ' Hick', ' Air', ' b', ' a', ' e', ' Head', ' Lion', ' f', ' Blender'] | ['\" option\"[3072] (p=0.535, logit=12.688)', '\" Option\"[7104] (p=0.022, logit=9.500)', '\"option\"[2091] (p=0.021, logit=9.438)', '\" only\"[1193] (p=0.020, logit=9.375)', '\" none\"[7000] (p=0.010, logit=8.750)']\n",
      "model.layers.53 | [' d', ' c', ' Cabinet', ' Hick', ' b', ' Air', ' a', ' e', ' Head', ' Lion', ' f', ' Blender'] | ['\" option\"[3072] (p=0.438, logit=12.188)', '\" Option\"[7104] (p=0.030, logit=9.500)', '\"option\"[2091] (p=0.020, logit=9.125)', '\" only\"[1193] (p=0.012, logit=8.625)', '\" ONLY\"[27785] (p=0.010, logit=8.438)']\n",
      "model.layers.54 | [' d', ' Hick', ' b', ' Cabinet', ' Air', ' a', ' c', ' e', ' Head', ' Lion', ' Blender', ' f'] | ['\" option\"[3072] (p=0.469, logit=12.312)', '\" Option\"[7104] (p=0.036, logit=9.750)', '\"option\"[2091] (p=0.017, logit=9.000)', '\"Option\"[5454] (p=0.010, logit=8.438)', '\" only\"[1193] (p=0.009, logit=8.375)']\n",
      "model.layers.55 | [' d', ' Lion', ' c', ' a', ' Cabinet', ' b', ' Hick', ' Air', ' e', ' Head', ' Blender', ' f'] | ['\" option\"[3072] (p=0.424, logit=12.125)', '\" Option\"[7104] (p=0.045, logit=9.875)', '\"Option\"[5454] (p=0.015, logit=8.750)', '\"option\"[2091] (p=0.013, logit=8.625)', '\" only\"[1193] (p=0.008, logit=8.188)']\n",
      "model.layers.56 | [' Lion', ' d', ' Air', ' Cabinet', ' c', ' e', ' Hick', ' a', ' b', ' Head', ' f', ' Blender'] | ['\" option\"[3072] (p=0.551, logit=12.688)', '\" Option\"[7104] (p=0.048, logit=10.250)', '\"Option\"[5454] (p=0.019, logit=9.312)', '\"option\"[2091] (p=0.012, logit=8.875)', '\" only\"[1193] (p=0.007, logit=8.312)']\n",
      "model.layers.57 | [' Lion', ' d', ' Cabinet', ' c', ' b', ' Hick', ' e', ' a', ' Air', ' Head', ' f', ' Blender'] | ['\" option\"[3072] (p=0.512, logit=12.438)', '\" Option\"[7104] (p=0.039, logit=9.875)', '\"Option\"[5454] (p=0.020, logit=9.188)', '\"option\"[2091] (p=0.013, logit=8.750)', '\" only\"[1193] (p=0.006, logit=8.062)']\n",
      "model.layers.58 | [' Lion', ' c', ' Cabinet', ' d', ' b', ' a', ' e', ' Air', ' Hick', ' Head', ' f', ' Blender'] | ['\" option\"[3072] (p=0.539, logit=12.500)', '\" Option\"[7104] (p=0.039, logit=9.875)', '\"Option\"[5454] (p=0.017, logit=9.062)', '\"option\"[2091] (p=0.013, logit=8.750)', '\"A\"[32] (p=0.009, logit=8.438)']\n",
      "model.layers.59 | [' Lion', ' Cabinet', ' c', ' d', ' Air', ' a', ' e', ' Head', ' Hick', ' b', ' f', ' Blender'] | ['\" option\"[3072] (p=0.393, logit=11.812)', '\" Option\"[7104] (p=0.034, logit=9.375)', '\"Option\"[5454] (p=0.018, logit=8.750)', '\" ONLY\"[27785] (p=0.014, logit=8.500)', '\"A\"[32] (p=0.013, logit=8.438)']\n",
      "model.layers.60 | [' Lion', ' Air', ' c', ' Cabinet', ' d', ' a', ' e', ' b', ' Hick', ' Head', ' f', ' Blender'] | ['\" option\"[3072] (p=0.314, logit=11.375)', '\"A\"[32] (p=0.037, logit=9.250)', '\" Option\"[7104] (p=0.031, logit=9.062)', '\"Option\"[5454] (p=0.023, logit=8.750)', '\" ONLY\"[27785] (p=0.016, logit=8.375)']\n",
      "model.layers.61 | [' Lion', ' Air', ' c', ' Cabinet', ' a', ' d', ' e', ' Head', ' b', ' Hick', ' Blender', ' f'] | ['\" option\"[3072] (p=0.264, logit=11.000)', '\"A\"[32] (p=0.031, logit=8.875)', '\" Option\"[7104] (p=0.028, logit=8.750)', '\"Option\"[5454] (p=0.019, logit=8.375)', '\" ONLY\"[27785] (p=0.014, logit=8.062)']\n",
      "model.layers.62 | [' Lion', ' Air', ' c', ' Cabinet', ' a', ' d', ' e', ' Head', ' b', ' Hick', ' f', ' Blender'] | ['\" option\"[3072] (p=0.332, logit=11.375)', '\" Option\"[7104] (p=0.031, logit=9.000)', '\"A\"[32] (p=0.024, logit=8.750)', '\"Option\"[5454] (p=0.020, logit=8.562)', '\" ONLY\"[27785] (p=0.016, logit=8.312)']\n",
      "model.layers.63 | [' Air', ' Lion', ' Cabinet', ' c', ' a', ' b', ' d', ' e', ' Head', ' Hick', ' f', ' Blender'] | ['\" option\"[3072] (p=0.391, logit=11.688)', '\" Option\"[7104] (p=0.027, logit=9.000)', '\"Option\"[5454] (p=0.023, logit=8.875)', '\"A\"[32] (p=0.014, logit=8.375)', '\" ONLY\"[27785] (p=0.013, logit=8.250)']\n",
      "model.layers.64 | [' Air', ' Lion', ' c', ' b', ' Cabinet', ' d', ' e', ' a', ' Hick', ' Head', ' f', ' Blender'] | ['\" Air\"[6690] (p=0.582, logit=12.500)', '\" option\"[3072] (p=0.048, logit=10.000)', '\"Air\"[26777] (p=0.023, logit=9.250)', '\"A\"[32] (p=0.008, logit=8.188)', '\"Option\"[5454] (p=0.007, logit=8.125)']\n",
      "model.layers.65 | [' Air', ' c', ' b', ' Cabinet', ' Lion', ' e', ' d', ' Hick', ' a', ' f', ' Head', ' Blender'] | ['\" Air\"[6690] (p=0.477, logit=12.000)', '\" option\"[3072] (p=0.057, logit=9.875)', '\"Air\"[26777] (p=0.024, logit=9.000)', '\" Option\"[7104] (p=0.010, logit=8.125)', '\"A\"[32] (p=0.010, logit=8.125)']\n",
      "model.layers.66 | [' Air', ' c', ' b', ' Cabinet', ' Lion', ' d', ' e', ' Hick', ' a', ' Head', ' f', ' Blender'] | ['\" Air\"[6690] (p=0.457, logit=11.812)', '\" option\"[3072] (p=0.033, logit=9.188)', '\"Air\"[26777] (p=0.021, logit=8.750)', '\"A\"[32] (p=0.011, logit=8.062)', '\" Option\"[7104] (p=0.008, logit=7.750)']\n",
      "model.layers.67 | [' Air', ' Hick', ' Cabinet', ' c', ' e', ' b', ' Lion', ' d', ' a', ' Head', ' f', ' Blender'] | ['\" Air\"[6690] (p=0.192, logit=10.625)', '\" option\"[3072] (p=0.043, logit=9.125)', '\"(a\"[2948] (p=0.021, logit=8.438)', '\"a\"[64] (p=0.021, logit=8.438)', '\"A\"[32] (p=0.020, logit=8.375)']\n",
      "model.layers.68 | [' Air', ' Cabinet', ' Hick', ' c', ' e', ' b', ' Lion', ' d', ' a', ' f', ' Head', ' Blender'] | ['\" Air\"[6690] (p=0.863, logit=14.125)', '\"Air\"[26777] (p=0.033, logit=10.875)', '\" option\"[3072] (p=0.006, logit=9.125)', '\"a\"[64] (p=0.005, logit=8.875)', '\" Option\"[7104] (p=0.002, logit=8.250)']\n",
      "model.layers.69 | [' Air', ' Cabinet', ' c', ' d', ' Hick', ' b', ' a', ' e', ' Lion', ' Head', ' f', ' Blender'] | ['\" Air\"[6690] (p=0.723, logit=13.312)', '\"Air\"[26777] (p=0.028, logit=10.062)', '\" option\"[3072] (p=0.025, logit=9.938)', '\" Option\"[7104] (p=0.016, logit=9.500)', '\"(a\"[2948] (p=0.014, logit=9.375)']\n",
      "model.layers.70 | [' Air', ' a', ' c', ' b', ' Cabinet', ' d', ' Hick', ' e', ' f', ' Head', ' Lion', ' Blender'] | ['\" Air\"[6690] (p=0.691, logit=13.250)', '\"a\"[64] (p=0.039, logit=10.375)', '\"Air\"[26777] (p=0.027, logit=10.000)', '\" option\"[3072] (p=0.022, logit=9.812)', '\"(a\"[2948] (p=0.016, logit=9.500)']\n",
      "model.layers.71 | [' Air', ' a', ' c', ' d', ' b', ' e', ' Hick', ' Cabinet', ' f', ' Head', ' Lion', ' Blender'] | ['\" Air\"[6690] (p=0.641, logit=12.875)', '\"a\"[64] (p=0.030, logit=9.812)', '\"Air\"[26777] (p=0.023, logit=9.562)', '\"(a\"[2948] (p=0.021, logit=9.438)', '\" option\"[3072] (p=0.017, logit=9.250)']\n",
      "model.layers.72 | [' Air', ' c', ' b', ' a', ' f', ' d', ' e', ' Hick', ' Cabinet', ' Head', ' Lion', ' Blender'] | ['\" Air\"[6690] (p=0.656, logit=12.938)', '\" (\"[320] (p=0.027, logit=9.750)', '\"a\"[64] (p=0.022, logit=9.562)', '\"Air\"[26777] (p=0.020, logit=9.438)', '\" option\"[3072] (p=0.015, logit=9.125)']\n",
      "model.layers.73 | [' Air', ' a', ' c', ' b', ' f', ' e', ' d', ' Hick', ' Cabinet', ' Head', ' Lion', ' Blender'] | ['\" Air\"[6690] (p=0.715, logit=13.375)', '\" (\"[320] (p=0.033, logit=10.312)', '\"Air\"[26777] (p=0.024, logit=10.000)', '\"a\"[64] (p=0.018, logit=9.688)', '\" option\"[3072] (p=0.012, logit=9.250)']\n",
      "model.layers.74 | [' Air', ' a', ' c', ' b', ' f', ' e', ' d', ' Hick', ' Cabinet', ' Head', ' Lion', ' Blender'] | ['\" Air\"[6690] (p=0.594, logit=13.438)', '\" (\"[320] (p=0.117, logit=11.812)', '\" A\"[362] (p=0.028, logit=10.375)', '\"a\"[64] (p=0.025, logit=10.250)', '\" a\"[264] (p=0.016, logit=9.812)']\n",
      "model.layers.75 | [' Air', ' a', ' b', ' c', ' f', ' d', ' e', ' Cabinet', ' Head', ' Hick', ' Lion', ' Blender'] | ['\" Air\"[6690] (p=0.539, logit=13.812)', '\" (\"[320] (p=0.212, logit=12.875)', '\" a\"[264] (p=0.042, logit=11.250)', '\" option\"[3072] (p=0.022, logit=10.625)', '\" A\"[362] (p=0.022, logit=10.625)']\n",
      "model.layers.76 | [' Air', ' a', ' b', ' c', ' f', ' d', ' e', ' Cabinet', ' Head', ' Lion', ' Hick', ' Blender'] | ['\" an\"[459] (p=0.350, logit=14.750)', '\" Air\"[6690] (p=0.271, logit=14.500)', '\" (\"[320] (p=0.212, logit=14.250)', '\" option\"[3072] (p=0.044, logit=12.688)', '\" a\"[264] (p=0.032, logit=12.375)']\n",
      "model.layers.77 | [' a', ' Air', ' b', ' c', ' f', ' e', ' d', ' Cabinet', ' Head', ' Lion', ' Hick', ' Blender'] | ['\" a\"[264] (p=0.816, logit=20.375)', '\" an\"[459] (p=0.076, logit=18.000)', '\" Air\"[6690] (p=0.046, logit=17.500)', '\" (\"[320] (p=0.036, logit=17.250)', '\" An\"[1556] (p=0.017, logit=16.500)']\n",
      "model.layers.78 | [' a', ' Air', ' b', ' c', ' f', ' d', ' e', ' Head', ' Cabinet', ' Lion', ' Hick', ' Blender'] | ['\" a\"[264] (p=0.848, logit=21.625)', '\" (\"[320] (p=0.054, logit=18.875)', '\" an\"[459] (p=0.037, logit=18.500)', '\" Air\"[6690] (p=0.033, logit=18.375)', '\" An\"[1556] (p=0.016, logit=17.625)']\n",
      "model.layers.79 | [' a', ' Air', ' b', ' c', ' e', ' f', ' d', ' Head', ' Cabinet', ' Hick', ' Lion', ' Blender'] | ['\" a\"[264] (p=0.594, logit=22.500)', '\" Air\"[6690] (p=0.117, logit=20.875)', '\" (\"[320] (p=0.117, logit=20.875)', '\" An\"[1556] (p=0.062, logit=20.250)', '\" The\"[578] (p=0.062, logit=20.250)']\n"
     ]
    }
   ],
   "source": [
    "hs = get_hs(\n",
    "    mt=mt,\n",
    "    input=tokenized,\n",
    "    locations=[(layer_name, -1) for layer_name in mt.layer_names],\n",
    "    return_dict=True,\n",
    ")\n",
    "\n",
    "interested_tokens = [\n",
    "    get_first_token_id(name=opt, tokenizer=mt.tokenizer, prefix=\" \")\n",
    "    for opt in get_options_for_answer(sample) + sample.options\n",
    "]\n",
    "\n",
    "for layer_idx in range(mt.n_layer):\n",
    "    layer_name = mt.layer_name_format.format(layer_idx)\n",
    "    h = hs[(layer_name, -1)]\n",
    "    ll_pred, ll_track = logit_lens(mt=mt, h=h, interested_tokens=interested_tokens)\n",
    "    print(\n",
    "        f\"{layer_name} | {[mt.tokenizer.decode(token_id) for token_id in ll_track.keys()]} | {[str(pred) for pred in ll_pred]}\"\n",
    "    )"
   ]
  },
  {
   "cell_type": "code",
   "execution_count": 38,
   "id": "416c8bcc",
   "metadata": {},
   "outputs": [
    {
     "data": {
      "text/plain": [
       "[23910, 432, 83499, 14588, 58600, 67629]"
      ]
     },
     "execution_count": 38,
     "metadata": {},
     "output_type": "execute_result"
    }
   ],
   "source": [
    "list(ll_track.keys())"
   ]
  },
  {
   "cell_type": "code",
   "execution_count": null,
   "id": "c7bc2fa7",
   "metadata": {},
   "outputs": [],
   "source": []
  }
 ],
 "metadata": {
  "kernelspec": {
   "display_name": "connection",
   "language": "python",
   "name": "python3"
  },
  "language_info": {
   "codemirror_mode": {
    "name": "ipython",
    "version": 3
   },
   "file_extension": ".py",
   "mimetype": "text/x-python",
   "name": "python",
   "nbconvert_exporter": "python",
   "pygments_lexer": "ipython3",
   "version": "3.11.11"
  }
 },
 "nbformat": 4,
 "nbformat_minor": 5
}
