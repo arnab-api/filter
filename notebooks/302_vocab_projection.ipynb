{
 "cells": [
  {
   "cell_type": "code",
   "execution_count": 1,
   "id": "70b92923",
   "metadata": {},
   "outputs": [],
   "source": [
    "%load_ext autoreload\n",
    "%autoreload 2"
   ]
  },
  {
   "cell_type": "code",
   "execution_count": 2,
   "id": "983a4427",
   "metadata": {},
   "outputs": [
    {
     "name": "stdout",
     "output_type": "stream",
     "text": [
      "2025-09-15 12:21:37 __main__ INFO     torch.__version__='2.7.0+cu126', torch.version.cuda='12.6'\n",
      "2025-09-15 12:21:37 __main__ INFO     torch.cuda.is_available()=True, torch.cuda.device_count()=8, torch.cuda.get_device_name()='NVIDIA A100 80GB PCIe'\n",
      "2025-09-15 12:21:37 __main__ INFO     transformers.__version__='4.55.3'\n"
     ]
    }
   ],
   "source": [
    "import os\n",
    "import json\n",
    "\n",
    "import sys\n",
    "\n",
    "sys.path.append(\"../\")\n",
    "\n",
    "##################################################################\n",
    "os.environ[\"TOKENIZERS_PARALLELISM\"] = \"false\"\n",
    "# os.environ[\"CUDA_VISIBLE_DEVICES\"] = \"0,1,2,3,4,5,6,7\"\n",
    "##################################################################\n",
    "\n",
    "import logging\n",
    "from src.utils import logging_utils\n",
    "from src.utils import env_utils\n",
    "\n",
    "logger = logging.getLogger(__name__)\n",
    "\n",
    "logging.basicConfig(\n",
    "    level=logging.DEBUG,\n",
    "    format=logging_utils.DEFAULT_FORMAT,\n",
    "    datefmt=logging_utils.DEFAULT_DATEFMT,\n",
    "    stream=sys.stdout,\n",
    ")\n",
    "\n",
    "import torch\n",
    "import transformers\n",
    "\n",
    "logger.info(f\"{torch.__version__=}, {torch.version.cuda=}\")\n",
    "logger.info(\n",
    "    f\"{torch.cuda.is_available()=}, {torch.cuda.device_count()=}, {torch.cuda.get_device_name()=}\"\n",
    ")\n",
    "logger.info(f\"{transformers.__version__=}\")"
   ]
  },
  {
   "cell_type": "code",
   "execution_count": 3,
   "id": "03464cab",
   "metadata": {},
   "outputs": [
    {
     "name": "stdout",
     "output_type": "stream",
     "text": [
      "2025-09-15 12:21:40 git.cmd DEBUG    Popen(['git', 'version'], cwd=/disk/u/arnab/Codes/Projects/retrieval/notebooks, stdin=None, shell=False, universal_newlines=False)\n",
      "2025-09-15 12:21:40 git.cmd DEBUG    Popen(['git', 'version'], cwd=/disk/u/arnab/Codes/Projects/retrieval/notebooks, stdin=None, shell=False, universal_newlines=False)\n",
      "2025-09-15 12:21:40 wandb.docker.auth DEBUG    Trying paths: ['/disk/u/arnab/.docker/config.json', '/disk/u/arnab/.dockercfg']\n",
      "2025-09-15 12:21:40 wandb.docker.auth DEBUG    No config file found\n"
     ]
    }
   ],
   "source": [
    "from src.utils.training_utils import get_device_map\n",
    "\n",
    "# model_key = \"meta-llama/Llama-3.2-3B\"\n",
    "# model_key = \"meta-llama/Llama-3.1-8B\"\n",
    "# model_key = \"meta-llama/Llama-3.1-70B-Instruct\"\n",
    "model_key = \"meta-llama/Llama-3.3-70B-Instruct\"\n",
    "# model_key = \"meta-llama/Llama-3.1-405B-Instruct\"\n",
    "\n",
    "# model_key = \"google/gemma-2-9b-it\"\n",
    "# model_key = \"google/gemma-3-12b-it\"\n",
    "# model_key = \"google/gemma-2-27b-it\"\n",
    "\n",
    "# model_key = \"deepseek-ai/DeepSeek-R1-Distill-Llama-8B\"\n",
    "\n",
    "# model_key = \"allenai/OLMo-2-1124-7B-Instruct\"\n",
    "# model_key = \"allenai/OLMo-7B-0424-hf\"\n",
    "\n",
    "# model_key = \"Qwen/Qwen2-7B\"\n",
    "# model_key = \"Qwen/Qwen2.5-14B-Instruct\"\n",
    "# model_key = \"Qwen/Qwen2.5-32B-Instruct\"\n",
    "# model_key = \"Qwen/Qwen2.5-72B-Instruct\"\n",
    "\n",
    "# model_key = \"Qwen/Qwen3-1.7B\"\n",
    "# model_key = \"Qwen/Qwen3-4B\"\n",
    "# model_key = \"Qwen/Qwen3-8B\"\n",
    "# model_key = \"Qwen/Qwen3-14B\"\n",
    "# model_key = \"Qwen/Qwen3-32B\"\n",
    "\n",
    "# device_map = get_device_map(model_key, 30, n_gpus=8)\n",
    "# device_map"
   ]
  },
  {
   "cell_type": "code",
   "execution_count": 4,
   "id": "1a88f8c8",
   "metadata": {},
   "outputs": [
    {
     "name": "stdout",
     "output_type": "stream",
     "text": [
      "2025-09-15 12:21:41 src.models WARNING  meta-llama/Llama-3.3-70B-Instruct not found in /disk/u/arnab/Codes/Models\n",
      "If not found in cache, model will be downloaded from HuggingFace to cache directory\n",
      "2025-09-15 12:21:41 urllib3.connectionpool DEBUG    Starting new HTTPS connection (1): huggingface.co:443\n"
     ]
    },
    {
     "name": "stdout",
     "output_type": "stream",
     "text": [
      "2025-09-15 12:21:41 urllib3.connectionpool DEBUG    https://huggingface.co:443 \"HEAD /meta-llama/Llama-3.3-70B-Instruct/resolve/main/config.json HTTP/1.1\" 200 0\n",
      "2025-09-15 12:21:41 urllib3.connectionpool DEBUG    https://huggingface.co:443 \"HEAD /meta-llama/Llama-3.3-70B-Instruct/resolve/main/tokenizer_config.json HTTP/1.1\" 200 0\n",
      "2025-09-15 12:21:41 urllib3.connectionpool DEBUG    https://huggingface.co:443 \"GET /api/models/meta-llama/Llama-3.3-70B-Instruct/tree/main/additional_chat_templates?recursive=False&expand=False HTTP/1.1\" 404 64\n"
     ]
    },
    {
     "data": {
      "application/vnd.jupyter.widget-view+json": {
       "model_id": "a4db611bbd9b46d2bc44dd6cf5dc8c2c",
       "version_major": 2,
       "version_minor": 0
      },
      "text/plain": [
       "Loading checkpoint shards:   0%|          | 0/30 [00:00<?, ?it/s]"
      ]
     },
     "metadata": {},
     "output_type": "display_data"
    },
    {
     "name": "stdout",
     "output_type": "stream",
     "text": [
      "2025-09-15 12:22:31 urllib3.connectionpool DEBUG    https://huggingface.co:443 \"HEAD /meta-llama/Llama-3.3-70B-Instruct/resolve/main/generation_config.json HTTP/1.1\" 200 0\n",
      "2025-09-15 12:22:31 urllib3.connectionpool DEBUG    https://huggingface.co:443 \"HEAD /meta-llama/Llama-3.3-70B-Instruct/resolve/main/custom_generate/generate.py HTTP/1.1\" 404 0\n",
      "2025-09-15 12:22:31 src.models INFO     loaded model <meta-llama/Llama-3.3-70B-Instruct> | size: 134570.516 MB | dtype: torch.bfloat16 | device: cuda:0\n"
     ]
    }
   ],
   "source": [
    "from src.models import ModelandTokenizer\n",
    "\n",
    "# from transformers import BitsAndBytesConfig\n",
    "\n",
    "mt = ModelandTokenizer(\n",
    "    model_key=model_key,\n",
    "    torch_dtype=torch.bfloat16,\n",
    "    # device_map=device_map,\n",
    "    device_map=\"auto\",\n",
    "    # quantization_config = BitsAndBytesConfig(\n",
    "    #     # load_in_4bit=True\n",
    "    #     load_in_8bit=True\n",
    "    # )\n",
    "    attn_implementation=\"eager\",\n",
    ")"
   ]
  },
  {
   "cell_type": "code",
   "execution_count": 5,
   "id": "45b1c057",
   "metadata": {},
   "outputs": [
    {
     "name": "stdout",
     "output_type": "stream",
     "text": [
      "['name', 'prompt_templates', 'odd_one_prompt_templates', 'order_prompt_templates', 'count_prompt_templates', 'yes_no_prompt_templates', 'first_item_in_cat_prompt_templates', 'last_item_in_cat_prompt_templates', 'categories', 'exclude_categories']\n",
      "SelectOneTask: (different objects)\n",
      "Categories: fruit(15), vehicle(15), furniture(15), animal(15), music instrument(15), clothing(15), electronics(15), sport equipment(15), kitchen appliance(15), vegetable(14), building(15), office supply(15), bathroom item(15), flower(15), tree(15), jewelry(15)\n",
      "\n"
     ]
    }
   ],
   "source": [
    "from src.selection.data import SelectOneTask, SelectOrderTask\n",
    "\n",
    "#################################################################################\n",
    "# TASK_CLS = SelectOrderTask\n",
    "# prompt_template_idx = 1\n",
    "TASK_CLS = SelectOneTask\n",
    "prompt_template_idx = 3\n",
    "N_DISTRACTORS = 5\n",
    "OPTION_STYLE = \"single_line\"\n",
    "#################################################################################\n",
    "\n",
    "select_task = TASK_CLS.load(\n",
    "    path=os.path.join(\n",
    "        env_utils.DEFAULT_DATA_DIR, \n",
    "        \"selection\", \n",
    "        # \"profession.json\"\n",
    "        # \"nationality.json\"\n",
    "        \"objects.json\"\n",
    "    )\n",
    ")\n",
    "\n",
    "print(select_task)"
   ]
  },
  {
   "cell_type": "code",
   "execution_count": 7,
   "id": "1711aade",
   "metadata": {},
   "outputs": [
    {
     "data": {
      "image/png": "[encoded data removed]",
      "text/plain": [
       "<Figure size 640x480 with 1 Axes>"
      ]
     },
     "metadata": {},
     "output_type": "display_data"
    }
   ],
   "source": [
    "from matplotlib import pyplot as plt\n",
    "import numpy as np\n",
    "\n",
    "# optimized_path = os.path.join(\n",
    "#     env_utils.DEFAULT_RESULTS_DIR,\n",
    "#     \"selection/optimized_heads\",\n",
    "#     mt.name.split(\"/\")[-1],\n",
    "#     f\"{select_task.task_name}.npz\"\n",
    "# )\n",
    "\n",
    "# optimized_path = os.path.join(\n",
    "#     env_utils.DEFAULT_RESULTS_DIR,\n",
    "#     \"selection/optimized_heads\",\n",
    "#     model_key.split(\"/\")[-1],\n",
    "#     # \"distinct_options\",\n",
    "#     f\"{select_task.task_name}\",\n",
    "#     \"epoch_10.npz\"\n",
    "# )\n",
    "\n",
    "optimized_path = os.path.join(\n",
    "    env_utils.DEFAULT_RESULTS_DIR,\n",
    "    \"selection/optimized_heads\",\n",
    "    model_key.split(\"/\")[-1],\n",
    "    \"distinct_options\",\n",
    "    # f\"{select_task.task_name}\",\n",
    "    \"select_one\",\n",
    "    # \"legacy\",\n",
    "    \"epoch_10.npz\"\n",
    ")\n",
    "\n",
    "\n",
    "\n",
    "optimization_results = np.load(optimized_path, allow_pickle=True)\n",
    "plt.plot(optimization_results[\"losses\"])\n",
    "plt.show()"
   ]
  },
  {
   "cell_type": "code",
   "execution_count": 8,
   "id": "5f5b0ca7",
   "metadata": {},
   "outputs": [
    {
     "name": "stdout",
     "output_type": "stream",
     "text": [
      "79\n"
     ]
    },
    {
     "data": {
      "image/png": "[encoded data removed]",
      "text/plain": [
       "<Figure size 2000x1000 with 1 Axes>"
      ]
     },
     "metadata": {},
     "output_type": "display_data"
    }
   ],
   "source": [
    "plt.figure(figsize=(20, 10))\n",
    "\n",
    "optimal_head_mask = torch.tensor(optimization_results[\"optimal_mask\"]).to(torch.float32)\n",
    "optimal_head_mask[52:, :] = 0.0\n",
    "\n",
    "plt.imshow(\n",
    "    optimal_head_mask.T.numpy(),\n",
    "    cmap=\"Blues\",\n",
    "    aspect=\"auto\",\n",
    "    vmin=0,\n",
    "    vmax=1,\n",
    ")\n",
    "\n",
    "heads_selected = torch.nonzero(optimal_head_mask > 0.5, as_tuple=False).tolist()\n",
    "heads_selected = [\n",
    "    (layer_idx, head_idx) for layer_idx, head_idx in heads_selected\n",
    "]\n",
    "print(len(heads_selected))\n",
    "\n",
    "# HEADS = heads_selected\n",
    "\n",
    "# (35, 19) in HEADS, (35, 19) in heads_selected"
   ]
  },
  {
   "cell_type": "code",
   "execution_count": 11,
   "id": "526820a5",
   "metadata": {},
   "outputs": [
    {
     "ename": "OutOfMemoryError",
     "evalue": "CUDA out of memory. Tried to allocate 1.96 GiB. GPU 0 has a total capacity of 79.25 GiB of which 86.56 MiB is free. Process 1939313 has 16.87 GiB memory in use. Process 2168104 has 17.41 GiB memory in use. Process 2238856 has 17.49 GiB memory in use. Including non-PyTorch memory, this process has 27.35 GiB memory in use. Of the allocated memory 26.95 GiB is allocated by PyTorch, and 1.56 MiB is reserved by PyTorch but unallocated. If reserved but unallocated memory is large try setting PYTORCH_CUDA_ALLOC_CONF=expandable_segments:True to avoid fragmentation.  See documentation for Memory Management  (https://pytorch.org/docs/stable/notes/cuda.html#environment-variables)",
     "output_type": "error",
     "traceback": [
      "\u001b[31m---------------------------------------------------------------------------\u001b[39m",
      "\u001b[31mOutOfMemoryError\u001b[39m                          Traceback (most recent call last)",
      "\u001b[36mCell\u001b[39m\u001b[36m \u001b[39m\u001b[32mIn[11]\u001b[39m\u001b[32m, line 12\u001b[39m\n\u001b[32m      1\u001b[39m \u001b[38;5;28;01mfrom\u001b[39;00m\u001b[38;5;250m \u001b[39m\u001b[34;01msrc\u001b[39;00m\u001b[34;01m.\u001b[39;00m\u001b[34;01mselection\u001b[39;00m\u001b[34;01m.\u001b[39;00m\u001b[34;01mdata\u001b[39;00m\u001b[38;5;250m \u001b[39m\u001b[38;5;28;01mimport\u001b[39;00m MCQify_sample\n\u001b[32m      3\u001b[39m sample = select_task.get_random_sample(\n\u001b[32m      4\u001b[39m     mt = mt,\n\u001b[32m      5\u001b[39m     option_style=OPTION_STYLE,\n\u001b[32m   (...)\u001b[39m\u001b[32m     10\u001b[39m     filter_by_lm_prediction=\u001b[38;5;28;01mFalse\u001b[39;00m,\n\u001b[32m     11\u001b[39m )\n\u001b[32m---> \u001b[39m\u001b[32m12\u001b[39m sample = \u001b[43mMCQify_sample\u001b[49m\u001b[43m(\u001b[49m\u001b[43msample\u001b[49m\u001b[43m,\u001b[49m\u001b[43m \u001b[49m\u001b[43mmt\u001b[49m\u001b[43m)\u001b[49m\n\u001b[32m     14\u001b[39m \u001b[38;5;28mprint\u001b[39m(sample.prompt(), \u001b[33m\"\u001b[39m\u001b[33m>>\u001b[39m\u001b[33m\"\u001b[39m, \u001b[33mf\u001b[39m\u001b[33m'\u001b[39m\u001b[33m\"\u001b[39m\u001b[38;5;132;01m{\u001b[39;00mmt.tokenizer.decode([sample.ans_token_id])\u001b[38;5;132;01m}\u001b[39;00m\u001b[33m\"\u001b[39m\u001b[33m'\u001b[39m)\n",
      "\u001b[36mFile \u001b[39m\u001b[32m~/Codes/Projects/retrieval/notebooks/../src/selection/data.py:124\u001b[39m, in \u001b[36mMCQify_sample\u001b[39m\u001b[34m(mt, sample)\u001b[39m\n\u001b[32m    123\u001b[39m \u001b[38;5;28;01mdef\u001b[39;00m\u001b[38;5;250m \u001b[39m\u001b[34mMCQify_sample\u001b[39m(mt: ModelandTokenizer, sample: SelectionSample) -> SelectionSample:\n\u001b[32m--> \u001b[39m\u001b[32m124\u001b[39m     sample = \u001b[43mcopy\u001b[49m\u001b[43m.\u001b[49m\u001b[43mdeepcopy\u001b[49m\u001b[43m(\u001b[49m\u001b[43msample\u001b[49m\u001b[43m)\u001b[49m\n\u001b[32m    125\u001b[39m     sample.default_option_style = \u001b[33m\"\u001b[39m\u001b[33mnumbered\u001b[39m\u001b[33m\"\u001b[39m\n\u001b[32m    126\u001b[39m     correct_option = \u001b[38;5;28mchr\u001b[39m(\u001b[38;5;28mord\u001b[39m(\u001b[33m\"\u001b[39m\u001b[33ma\u001b[39m\u001b[33m\"\u001b[39m) + sample.obj_idx)\n",
      "\u001b[36mFile \u001b[39m\u001b[32m~/miniconda3/envs/connection/lib/python3.11/copy.py:172\u001b[39m, in \u001b[36mdeepcopy\u001b[39m\u001b[34m(x, memo, _nil)\u001b[39m\n\u001b[32m    170\u001b[39m                 y = x\n\u001b[32m    171\u001b[39m             \u001b[38;5;28;01melse\u001b[39;00m:\n\u001b[32m--> \u001b[39m\u001b[32m172\u001b[39m                 y = \u001b[43m_reconstruct\u001b[49m\u001b[43m(\u001b[49m\u001b[43mx\u001b[49m\u001b[43m,\u001b[49m\u001b[43m \u001b[49m\u001b[43mmemo\u001b[49m\u001b[43m,\u001b[49m\u001b[43m \u001b[49m\u001b[43m*\u001b[49m\u001b[43mrv\u001b[49m\u001b[43m)\u001b[49m\n\u001b[32m    174\u001b[39m \u001b[38;5;66;03m# If is its own copy, don't memoize.\u001b[39;00m\n\u001b[32m    175\u001b[39m \u001b[38;5;28;01mif\u001b[39;00m y \u001b[38;5;129;01mis\u001b[39;00m \u001b[38;5;129;01mnot\u001b[39;00m x:\n",
      "\u001b[36mFile \u001b[39m\u001b[32m~/miniconda3/envs/connection/lib/python3.11/copy.py:271\u001b[39m, in \u001b[36m_reconstruct\u001b[39m\u001b[34m(x, memo, func, args, state, listiter, dictiter, deepcopy)\u001b[39m\n\u001b[32m    269\u001b[39m \u001b[38;5;28;01mif\u001b[39;00m state \u001b[38;5;129;01mis\u001b[39;00m \u001b[38;5;129;01mnot\u001b[39;00m \u001b[38;5;28;01mNone\u001b[39;00m:\n\u001b[32m    270\u001b[39m     \u001b[38;5;28;01mif\u001b[39;00m deep:\n\u001b[32m--> \u001b[39m\u001b[32m271\u001b[39m         state = \u001b[43mdeepcopy\u001b[49m\u001b[43m(\u001b[49m\u001b[43mstate\u001b[49m\u001b[43m,\u001b[49m\u001b[43m \u001b[49m\u001b[43mmemo\u001b[49m\u001b[43m)\u001b[49m\n\u001b[32m    272\u001b[39m     \u001b[38;5;28;01mif\u001b[39;00m \u001b[38;5;28mhasattr\u001b[39m(y, \u001b[33m'\u001b[39m\u001b[33m__setstate__\u001b[39m\u001b[33m'\u001b[39m):\n\u001b[32m    273\u001b[39m         y.__setstate__(state)\n",
      "\u001b[36mFile \u001b[39m\u001b[32m~/miniconda3/envs/connection/lib/python3.11/copy.py:146\u001b[39m, in \u001b[36mdeepcopy\u001b[39m\u001b[34m(x, memo, _nil)\u001b[39m\n\u001b[32m    144\u001b[39m copier = _deepcopy_dispatch.get(\u001b[38;5;28mcls\u001b[39m)\n\u001b[32m    145\u001b[39m \u001b[38;5;28;01mif\u001b[39;00m copier \u001b[38;5;129;01mis\u001b[39;00m \u001b[38;5;129;01mnot\u001b[39;00m \u001b[38;5;28;01mNone\u001b[39;00m:\n\u001b[32m--> \u001b[39m\u001b[32m146\u001b[39m     y = \u001b[43mcopier\u001b[49m\u001b[43m(\u001b[49m\u001b[43mx\u001b[49m\u001b[43m,\u001b[49m\u001b[43m \u001b[49m\u001b[43mmemo\u001b[49m\u001b[43m)\u001b[49m\n\u001b[32m    147\u001b[39m \u001b[38;5;28;01melse\u001b[39;00m:\n\u001b[32m    148\u001b[39m     \u001b[38;5;28;01mif\u001b[39;00m \u001b[38;5;28missubclass\u001b[39m(\u001b[38;5;28mcls\u001b[39m, \u001b[38;5;28mtype\u001b[39m):\n",
      "\u001b[36mFile \u001b[39m\u001b[32m~/miniconda3/envs/connection/lib/python3.11/copy.py:231\u001b[39m, in \u001b[36m_deepcopy_dict\u001b[39m\u001b[34m(x, memo, deepcopy)\u001b[39m\n\u001b[32m    229\u001b[39m memo[\u001b[38;5;28mid\u001b[39m(x)] = y\n\u001b[32m    230\u001b[39m \u001b[38;5;28;01mfor\u001b[39;00m key, value \u001b[38;5;129;01min\u001b[39;00m x.items():\n\u001b[32m--> \u001b[39m\u001b[32m231\u001b[39m     y[deepcopy(key, memo)] = \u001b[43mdeepcopy\u001b[49m\u001b[43m(\u001b[49m\u001b[43mvalue\u001b[49m\u001b[43m,\u001b[49m\u001b[43m \u001b[49m\u001b[43mmemo\u001b[49m\u001b[43m)\u001b[49m\n\u001b[32m    232\u001b[39m \u001b[38;5;28;01mreturn\u001b[39;00m y\n",
      "\u001b[36mFile \u001b[39m\u001b[32m~/miniconda3/envs/connection/lib/python3.11/copy.py:172\u001b[39m, in \u001b[36mdeepcopy\u001b[39m\u001b[34m(x, memo, _nil)\u001b[39m\n\u001b[32m    170\u001b[39m                 y = x\n\u001b[32m    171\u001b[39m             \u001b[38;5;28;01melse\u001b[39;00m:\n\u001b[32m--> \u001b[39m\u001b[32m172\u001b[39m                 y = \u001b[43m_reconstruct\u001b[49m\u001b[43m(\u001b[49m\u001b[43mx\u001b[49m\u001b[43m,\u001b[49m\u001b[43m \u001b[49m\u001b[43mmemo\u001b[49m\u001b[43m,\u001b[49m\u001b[43m \u001b[49m\u001b[43m*\u001b[49m\u001b[43mrv\u001b[49m\u001b[43m)\u001b[49m\n\u001b[32m    174\u001b[39m \u001b[38;5;66;03m# If is its own copy, don't memoize.\u001b[39;00m\n\u001b[32m    175\u001b[39m \u001b[38;5;28;01mif\u001b[39;00m y \u001b[38;5;129;01mis\u001b[39;00m \u001b[38;5;129;01mnot\u001b[39;00m x:\n",
      "\u001b[36mFile \u001b[39m\u001b[32m~/miniconda3/envs/connection/lib/python3.11/copy.py:271\u001b[39m, in \u001b[36m_reconstruct\u001b[39m\u001b[34m(x, memo, func, args, state, listiter, dictiter, deepcopy)\u001b[39m\n\u001b[32m    269\u001b[39m \u001b[38;5;28;01mif\u001b[39;00m state \u001b[38;5;129;01mis\u001b[39;00m \u001b[38;5;129;01mnot\u001b[39;00m \u001b[38;5;28;01mNone\u001b[39;00m:\n\u001b[32m    270\u001b[39m     \u001b[38;5;28;01mif\u001b[39;00m deep:\n\u001b[32m--> \u001b[39m\u001b[32m271\u001b[39m         state = \u001b[43mdeepcopy\u001b[49m\u001b[43m(\u001b[49m\u001b[43mstate\u001b[49m\u001b[43m,\u001b[49m\u001b[43m \u001b[49m\u001b[43mmemo\u001b[49m\u001b[43m)\u001b[49m\n\u001b[32m    272\u001b[39m     \u001b[38;5;28;01mif\u001b[39;00m \u001b[38;5;28mhasattr\u001b[39m(y, \u001b[33m'\u001b[39m\u001b[33m__setstate__\u001b[39m\u001b[33m'\u001b[39m):\n\u001b[32m    273\u001b[39m         y.__setstate__(state)\n",
      "\u001b[36mFile \u001b[39m\u001b[32m~/miniconda3/envs/connection/lib/python3.11/copy.py:146\u001b[39m, in \u001b[36mdeepcopy\u001b[39m\u001b[34m(x, memo, _nil)\u001b[39m\n\u001b[32m    144\u001b[39m copier = _deepcopy_dispatch.get(\u001b[38;5;28mcls\u001b[39m)\n\u001b[32m    145\u001b[39m \u001b[38;5;28;01mif\u001b[39;00m copier \u001b[38;5;129;01mis\u001b[39;00m \u001b[38;5;129;01mnot\u001b[39;00m \u001b[38;5;28;01mNone\u001b[39;00m:\n\u001b[32m--> \u001b[39m\u001b[32m146\u001b[39m     y = \u001b[43mcopier\u001b[49m\u001b[43m(\u001b[49m\u001b[43mx\u001b[49m\u001b[43m,\u001b[49m\u001b[43m \u001b[49m\u001b[43mmemo\u001b[49m\u001b[43m)\u001b[49m\n\u001b[32m    147\u001b[39m \u001b[38;5;28;01melse\u001b[39;00m:\n\u001b[32m    148\u001b[39m     \u001b[38;5;28;01mif\u001b[39;00m \u001b[38;5;28missubclass\u001b[39m(\u001b[38;5;28mcls\u001b[39m, \u001b[38;5;28mtype\u001b[39m):\n",
      "\u001b[36mFile \u001b[39m\u001b[32m~/miniconda3/envs/connection/lib/python3.11/copy.py:231\u001b[39m, in \u001b[36m_deepcopy_dict\u001b[39m\u001b[34m(x, memo, deepcopy)\u001b[39m\n\u001b[32m    229\u001b[39m memo[\u001b[38;5;28mid\u001b[39m(x)] = y\n\u001b[32m    230\u001b[39m \u001b[38;5;28;01mfor\u001b[39;00m key, value \u001b[38;5;129;01min\u001b[39;00m x.items():\n\u001b[32m--> \u001b[39m\u001b[32m231\u001b[39m     y[deepcopy(key, memo)] = \u001b[43mdeepcopy\u001b[49m\u001b[43m(\u001b[49m\u001b[43mvalue\u001b[49m\u001b[43m,\u001b[49m\u001b[43m \u001b[49m\u001b[43mmemo\u001b[49m\u001b[43m)\u001b[49m\n\u001b[32m    232\u001b[39m \u001b[38;5;28;01mreturn\u001b[39;00m y\n",
      "    \u001b[31m[... skipping similar frames: _deepcopy_dict at line 231 (3 times), deepcopy at line 146 (3 times), _reconstruct at line 271 (1 times), deepcopy at line 172 (1 times)]\u001b[39m\n",
      "\u001b[36mFile \u001b[39m\u001b[32m~/miniconda3/envs/connection/lib/python3.11/copy.py:172\u001b[39m, in \u001b[36mdeepcopy\u001b[39m\u001b[34m(x, memo, _nil)\u001b[39m\n\u001b[32m    170\u001b[39m                 y = x\n\u001b[32m    171\u001b[39m             \u001b[38;5;28;01melse\u001b[39;00m:\n\u001b[32m--> \u001b[39m\u001b[32m172\u001b[39m                 y = \u001b[43m_reconstruct\u001b[49m\u001b[43m(\u001b[49m\u001b[43mx\u001b[49m\u001b[43m,\u001b[49m\u001b[43m \u001b[49m\u001b[43mmemo\u001b[49m\u001b[43m,\u001b[49m\u001b[43m \u001b[49m\u001b[43m*\u001b[49m\u001b[43mrv\u001b[49m\u001b[43m)\u001b[49m\n\u001b[32m    174\u001b[39m \u001b[38;5;66;03m# If is its own copy, don't memoize.\u001b[39;00m\n\u001b[32m    175\u001b[39m \u001b[38;5;28;01mif\u001b[39;00m y \u001b[38;5;129;01mis\u001b[39;00m \u001b[38;5;129;01mnot\u001b[39;00m x:\n",
      "\u001b[36mFile \u001b[39m\u001b[32m~/miniconda3/envs/connection/lib/python3.11/copy.py:271\u001b[39m, in \u001b[36m_reconstruct\u001b[39m\u001b[34m(x, memo, func, args, state, listiter, dictiter, deepcopy)\u001b[39m\n\u001b[32m    269\u001b[39m \u001b[38;5;28;01mif\u001b[39;00m state \u001b[38;5;129;01mis\u001b[39;00m \u001b[38;5;129;01mnot\u001b[39;00m \u001b[38;5;28;01mNone\u001b[39;00m:\n\u001b[32m    270\u001b[39m     \u001b[38;5;28;01mif\u001b[39;00m deep:\n\u001b[32m--> \u001b[39m\u001b[32m271\u001b[39m         state = \u001b[43mdeepcopy\u001b[49m\u001b[43m(\u001b[49m\u001b[43mstate\u001b[49m\u001b[43m,\u001b[49m\u001b[43m \u001b[49m\u001b[43mmemo\u001b[49m\u001b[43m)\u001b[49m\n\u001b[32m    272\u001b[39m     \u001b[38;5;28;01mif\u001b[39;00m \u001b[38;5;28mhasattr\u001b[39m(y, \u001b[33m'\u001b[39m\u001b[33m__setstate__\u001b[39m\u001b[33m'\u001b[39m):\n\u001b[32m    273\u001b[39m         y.__setstate__(state)\n",
      "    \u001b[31m[... skipping similar frames: _deepcopy_dict at line 231 (1 times), deepcopy at line 146 (1 times)]\u001b[39m\n",
      "\u001b[36mFile \u001b[39m\u001b[32m~/miniconda3/envs/connection/lib/python3.11/copy.py:146\u001b[39m, in \u001b[36mdeepcopy\u001b[39m\u001b[34m(x, memo, _nil)\u001b[39m\n\u001b[32m    144\u001b[39m copier = _deepcopy_dispatch.get(\u001b[38;5;28mcls\u001b[39m)\n\u001b[32m    145\u001b[39m \u001b[38;5;28;01mif\u001b[39;00m copier \u001b[38;5;129;01mis\u001b[39;00m \u001b[38;5;129;01mnot\u001b[39;00m \u001b[38;5;28;01mNone\u001b[39;00m:\n\u001b[32m--> \u001b[39m\u001b[32m146\u001b[39m     y = \u001b[43mcopier\u001b[49m\u001b[43m(\u001b[49m\u001b[43mx\u001b[49m\u001b[43m,\u001b[49m\u001b[43m \u001b[49m\u001b[43mmemo\u001b[49m\u001b[43m)\u001b[49m\n\u001b[32m    147\u001b[39m \u001b[38;5;28;01melse\u001b[39;00m:\n\u001b[32m    148\u001b[39m     \u001b[38;5;28;01mif\u001b[39;00m \u001b[38;5;28missubclass\u001b[39m(\u001b[38;5;28mcls\u001b[39m, \u001b[38;5;28mtype\u001b[39m):\n",
      "\u001b[36mFile \u001b[39m\u001b[32m~/miniconda3/envs/connection/lib/python3.11/copy.py:231\u001b[39m, in \u001b[36m_deepcopy_dict\u001b[39m\u001b[34m(x, memo, deepcopy)\u001b[39m\n\u001b[32m    229\u001b[39m memo[\u001b[38;5;28mid\u001b[39m(x)] = y\n\u001b[32m    230\u001b[39m \u001b[38;5;28;01mfor\u001b[39;00m key, value \u001b[38;5;129;01min\u001b[39;00m x.items():\n\u001b[32m--> \u001b[39m\u001b[32m231\u001b[39m     y[deepcopy(key, memo)] = \u001b[43mdeepcopy\u001b[49m\u001b[43m(\u001b[49m\u001b[43mvalue\u001b[49m\u001b[43m,\u001b[49m\u001b[43m \u001b[49m\u001b[43mmemo\u001b[49m\u001b[43m)\u001b[49m\n\u001b[32m    232\u001b[39m \u001b[38;5;28;01mreturn\u001b[39;00m y\n",
      "\u001b[36mFile \u001b[39m\u001b[32m~/miniconda3/envs/connection/lib/python3.11/copy.py:153\u001b[39m, in \u001b[36mdeepcopy\u001b[39m\u001b[34m(x, memo, _nil)\u001b[39m\n\u001b[32m    151\u001b[39m copier = \u001b[38;5;28mgetattr\u001b[39m(x, \u001b[33m\"\u001b[39m\u001b[33m__deepcopy__\u001b[39m\u001b[33m\"\u001b[39m, \u001b[38;5;28;01mNone\u001b[39;00m)\n\u001b[32m    152\u001b[39m \u001b[38;5;28;01mif\u001b[39;00m copier \u001b[38;5;129;01mis\u001b[39;00m \u001b[38;5;129;01mnot\u001b[39;00m \u001b[38;5;28;01mNone\u001b[39;00m:\n\u001b[32m--> \u001b[39m\u001b[32m153\u001b[39m     y = \u001b[43mcopier\u001b[49m\u001b[43m(\u001b[49m\u001b[43mmemo\u001b[49m\u001b[43m)\u001b[49m\n\u001b[32m    154\u001b[39m \u001b[38;5;28;01melse\u001b[39;00m:\n\u001b[32m    155\u001b[39m     reductor = dispatch_table.get(\u001b[38;5;28mcls\u001b[39m)\n",
      "\u001b[36mFile \u001b[39m\u001b[32m~/miniconda3/envs/connection/lib/python3.11/site-packages/torch/nn/parameter.py:68\u001b[39m, in \u001b[36mParameter.__deepcopy__\u001b[39m\u001b[34m(self, memo)\u001b[39m\n\u001b[32m     65\u001b[39m     \u001b[38;5;28;01mreturn\u001b[39;00m memo[\u001b[38;5;28mid\u001b[39m(\u001b[38;5;28mself\u001b[39m)]\n\u001b[32m     66\u001b[39m \u001b[38;5;28;01melse\u001b[39;00m:\n\u001b[32m     67\u001b[39m     result = \u001b[38;5;28mtype\u001b[39m(\u001b[38;5;28mself\u001b[39m)(\n\u001b[32m---> \u001b[39m\u001b[32m68\u001b[39m         \u001b[38;5;28;43mself\u001b[39;49m\u001b[43m.\u001b[49m\u001b[43mdata\u001b[49m\u001b[43m.\u001b[49m\u001b[43mclone\u001b[49m\u001b[43m(\u001b[49m\u001b[43mmemory_format\u001b[49m\u001b[43m=\u001b[49m\u001b[43mtorch\u001b[49m\u001b[43m.\u001b[49m\u001b[43mpreserve_format\u001b[49m\u001b[43m)\u001b[49m, \u001b[38;5;28mself\u001b[39m.requires_grad\n\u001b[32m     69\u001b[39m     )\n\u001b[32m     70\u001b[39m     memo[\u001b[38;5;28mid\u001b[39m(\u001b[38;5;28mself\u001b[39m)] = result\n\u001b[32m     71\u001b[39m     \u001b[38;5;28;01mreturn\u001b[39;00m result\n",
      "\u001b[31mOutOfMemoryError\u001b[39m: CUDA out of memory. Tried to allocate 1.96 GiB. GPU 0 has a total capacity of 79.25 GiB of which 86.56 MiB is free. Process 1939313 has 16.87 GiB memory in use. Process 2168104 has 17.41 GiB memory in use. Process 2238856 has 17.49 GiB memory in use. Including non-PyTorch memory, this process has 27.35 GiB memory in use. Of the allocated memory 26.95 GiB is allocated by PyTorch, and 1.56 MiB is reserved by PyTorch but unallocated. If reserved but unallocated memory is large try setting PYTORCH_CUDA_ALLOC_CONF=expandable_segments:True to avoid fragmentation.  See documentation for Memory Management  (https://pytorch.org/docs/stable/notes/cuda.html#environment-variables)"
     ]
    }
   ],
   "source": [
    "from src.selection.data import MCQify_sample\n",
    "\n",
    "sample = select_task.get_random_sample(\n",
    "    mt = mt,\n",
    "    option_style=OPTION_STYLE,\n",
    "    prompt_template_idx=prompt_template_idx,\n",
    "    # category=\"actor\",\n",
    "    # category=\"Brazil\"\n",
    "    category=\"fruit\",\n",
    "    filter_by_lm_prediction=False,\n",
    ")\n",
    "sample = MCQify_sample(sample, mt)\n",
    "\n",
    "print(sample.prompt(), \">>\", f'\"{mt.tokenizer.decode([sample.ans_token_id])}\"')"
   ]
  },
  {
   "cell_type": "code",
   "execution_count": 11,
   "id": "b13680a0",
   "metadata": {},
   "outputs": [
    {
     "name": "stdout",
     "output_type": "stream",
     "text": [
      "2025-09-15 11:57:07 src.selection.functional DEBUG    Predictions: ['\" Cherry\"[45805] (p=0.812, logit=21.875)', '\" The\"[578] (p=0.085, logit=19.625)', '\" Among\"[22395] (p=0.046, logit=19.000)', '\" A\"[362] (p=0.025, logit=18.375)', '\" CH\"[6969] (p=0.003, logit=16.375)']\n",
      "2025-09-15 11:57:07 src.selection.functional INFO     Combined attention matrix for all heads\n"
     ]
    },
    {
     "data": {
      "text/html": [
       "<div id=\"circuits-vis-5758d81c-325c\" style=\"margin: 15px 0;\"/>\n",
       "    <script crossorigin type=\"module\">\n",
       "    import { render, ColoredTokens } from \"https://unpkg.com/circuitsvis@1.43.3/dist/cdn/esm.js\";\n",
       "    render(\n",
       "      \"circuits-vis-5758d81c-325c\",\n",
       "      ColoredTokens,\n",
       "      {\"tokens\": [\"Options\", \":\", \" Project\", \"or\", \",\", \" Ti\", \"ara\", \",\", \" Boat\", \",\", \" Cherry\", \",\", \" Stap\", \"ler\", \",\", \" Razor\", \".\\n\", \"Which\", \" among\", \" these\", \" objects\", \" mentioned\", \" above\", \" is\", \" a\", \" fruit\", \"?\\n\", \"Answer\", \":\"], \"values\": [0.02510090172290802, 0.008687031455338001, 0.002601183019578457, 0.004028718452900648, 0.004712448921054602, 0.0021571419201791286, 0.007446639239788055, 0.019726620987057686, 0.007698698900640011, 0.01209321804344654, 0.091739222407341, 0.052764892578125, 0.003093206323683262, 0.008618040941655636, 0.013701064512133598, 0.007463600020855665, 0.02677309140563011, 0.01108449324965477, 0.01100368145853281, 0.01195173617452383, 0.011536109261214733, 0.00918326061218977, 0.007832211442291737, 0.00817365013062954, 0.0077888877131044865, 0.06806482374668121, 0.045658376067876816, 0.024108218029141426, 0.04846114292740822]}\n",
       "    )\n",
       "    </script>"
      ],
      "text/plain": [
       "<circuitsvis.utils.render.RenderedHTML at 0x7fc7341623d0>"
      ]
     },
     "metadata": {},
     "output_type": "display_data"
    }
   ],
   "source": [
    "from src.attention import get_attention_matrices\n",
    "from src.selection.functional import (\n",
    "    verify_head_patterns,\n",
    "    get_patches_to_verify_independent_enrichment,\n",
    ")\n",
    "\n",
    "attn_pattern = verify_head_patterns(\n",
    "    prompt=sample.prompt(option_style=\"single_line\"),\n",
    "    options=sample.options,\n",
    "    mt=mt,\n",
    "    heads=heads_selected,\n",
    "    # heads = HEADS,\n",
    "    # heads = [(35, 19)],\n",
    "    start_from=1\n",
    ")"
   ]
  },
  {
   "cell_type": "markdown",
   "id": "7723b118",
   "metadata": {},
   "source": [
    "## Apply Logit Lens on the OV contribution"
   ]
  },
  {
   "cell_type": "code",
   "execution_count": 49,
   "id": "1598a322",
   "metadata": {},
   "outputs": [
    {
     "name": "stdout",
     "output_type": "stream",
     "text": [
      "2025-09-15 12:11:06 src.hooking.llama_attention WARNING  model.layers.34.self_attn >> allclose(attn_output, __attn_output)=False | attn_output.norm().item()=23.875, __attn_output.norm().item()=23.875\n",
      "2025-09-15 12:11:06 src.hooking.llama_attention WARNING  model.layers.37.self_attn >> allclose(attn_output, __attn_output)=False | attn_output.norm().item()=11.6875, __attn_output.norm().item()=11.6875\n"
     ]
    }
   ],
   "source": [
    "from src.hooking.llama_attention import LlamaAttentionPatcher\n",
    "import types\n",
    "import copy\n",
    "import baukit\n",
    "from src.functional import patch_with_baukit, interpret_logits, get_hs\n",
    "from src.tokens import prepare_input\n",
    "\n",
    "HEADS = copy.deepcopy(heads_selected)\n",
    "tokenized = prepare_input(prompts=sample.prompt(), tokenizer=mt.tokenizer)\n",
    "\n",
    "mt.reset_forward()\n",
    "mt.set_attn_implementation(\"sdpa\")\n",
    "\n",
    "layers_to_heads = {}\n",
    "for layer_idx, head_idx in HEADS:\n",
    "    if layer_idx not in layers_to_heads:\n",
    "        layers_to_heads[layer_idx] = []\n",
    "    layers_to_heads[layer_idx].append(head_idx)\n",
    "\n",
    "head_contributions = {}\n",
    "for layer_idx, head_indices in layers_to_heads.items():\n",
    "    attn_block_name = mt.attn_module_name_format.format(layer_idx)\n",
    "    attn_block = baukit.get_module(mt._model, attn_block_name)\n",
    "    head_contributions[layer_idx] = {}\n",
    "\n",
    "    attn_block.forward = types.MethodType(\n",
    "        LlamaAttentionPatcher(\n",
    "            block_name=attn_block_name,\n",
    "            save_attn_for=head_indices,\n",
    "            store_head_contributions=head_contributions[layer_idx],\n",
    "        ),\n",
    "        attn_block,\n",
    "    )\n",
    "\n",
    "logit_location = (mt.lm_head_name, -1)\n",
    "logit = get_hs(\n",
    "    mt=mt,\n",
    "    input=tokenized,\n",
    "    locations = logit_location,\n",
    "    return_dict=False\n",
    ")\n",
    "\n",
    "mt.reset_forward()\n",
    "mt.set_attn_implementation(\"eager\")\n",
    "\n",
    "pred = interpret_logits(\n",
    "    logits=logit,\n",
    "    tokenizer=mt.tokenizer,\n",
    ")"
   ]
  },
  {
   "cell_type": "code",
   "execution_count": 55,
   "id": "01a32947",
   "metadata": {},
   "outputs": [
    {
     "data": {
      "text/plain": [
       "([PredictedToken(token=' McInt', prob=0.0150146484375, logit=9.5, token_id=85581, metadata=None),\n",
       "  PredictedToken(token=' appe', prob=0.010986328125, logit=9.1875, token_id=2708, metadata=None),\n",
       "  PredictedToken(token='::|', prob=0.00909423828125, logit=9.0, token_id=113141, metadata=None),\n",
       "  PredictedToken(token='_REST', prob=0.00909423828125, logit=9.0, token_id=56233, metadata=None),\n",
       "  PredictedToken(token='abra', prob=0.007080078125, logit=8.75, token_id=45032, metadata=None)],\n",
       " OrderedDict([(45805,\n",
       "               (21720,\n",
       "                PredictedToken(token=' Cherry', prob=7.271766662597656e-06, logit=1.8671875, token_id=45805, metadata=None)))]))"
      ]
     },
     "execution_count": 55,
     "metadata": {},
     "output_type": "execute_result"
    }
   ],
   "source": [
    "from src.functional import logit_lens\n",
    "\n",
    "# head_contrib = head_contributions[35][19][:, -1, :]\n",
    "head_contrib = []\n",
    "for layer_idx, head_idx in HEADS:\n",
    "    head_contrib.append(head_contributions[layer_idx][head_idx][:, -1, :].squeeze().cuda())\n",
    "\n",
    "head_contrib = torch.stack(head_contrib).sum(dim=0)\n",
    "\n",
    "logit_lens(\n",
    "    mt=mt,\n",
    "    h=head_contrib,\n",
    "    interested_tokens=[sample.ans_token_id]\n",
    ")\n",
    "\n",
    "# head_contrib.shape"
   ]
  },
  {
   "cell_type": "code",
   "execution_count": 61,
   "id": "8f45ace2",
   "metadata": {},
   "outputs": [],
   "source": [
    "from src.functional import free_gpu_cache\n",
    "del head_contributions\n",
    "del head_contrib\n",
    "free_gpu_cache()"
   ]
  },
  {
   "cell_type": "markdown",
   "id": "bcee117e",
   "metadata": {},
   "source": [
    "## Just apply Logit Lens on the Latents"
   ]
  },
  {
   "cell_type": "code",
   "execution_count": 58,
   "id": "01f4ad6c",
   "metadata": {},
   "outputs": [
    {
     "name": "stdout",
     "output_type": "stream",
     "text": [
      "model.layers.0 | Rank(ans): 16877 | ['\"ogo\"[24404] (p=0.002, logit=6.188)', '\"abi\"[26140] (p=0.001, logit=6.094)', '\"럴\"[121408] (p=0.001, logit=6.062)', '\"ioni\"[19350] (p=0.001, logit=6.062)', '\"rvine\"[67674] (p=0.001, logit=6.000)']\n",
      "model.layers.1 | Rank(ans): 9265 | ['\" rem\"[1323] (p=0.002, logit=6.688)', '\"럴\"[121408] (p=0.002, logit=6.594)', '\"abi\"[26140] (p=0.002, logit=6.562)', '\"陰\"[127122] (p=0.002, logit=6.312)', '\" unm\"[38531] (p=0.002, logit=6.281)']\n",
      "model.layers.2 | Rank(ans): 54663 | ['\" Mig\"[38651] (p=0.007, logit=8.125)', '\" bois\"[66304] (p=0.005, logit=7.812)', '\"abi\"[26140] (p=0.005, logit=7.781)', '\"rax\"[69865] (p=0.005, logit=7.688)', '\"uni\"[16080] (p=0.004, logit=7.625)']\n",
      "model.layers.3 | Rank(ans): 21750 | ['\"uni\"[16080] (p=0.010, logit=8.688)', '\"eni\"[34229] (p=0.005, logit=7.906)', '\"ARA\"[55062] (p=0.003, logit=7.594)', '\"rax\"[69865] (p=0.003, logit=7.594)', '\" bois\"[66304] (p=0.003, logit=7.531)']\n",
      "model.layers.4 | Rank(ans): 11466 | ['\" Oswald\"[90450] (p=0.005, logit=8.125)', '\"uni\"[16080] (p=0.004, logit=7.844)', '\" Gum\"[75589] (p=0.003, logit=7.719)', '\" Flight\"[27675] (p=0.003, logit=7.688)', '\" bois\"[66304] (p=0.003, logit=7.625)']\n",
      "model.layers.5 | Rank(ans): 13247 | ['\" herald\"[65206] (p=0.005, logit=8.188)', '\"UNITY\"[57273] (p=0.005, logit=8.125)', '\" Oswald\"[90450] (p=0.003, logit=7.750)', '\"uni\"[16080] (p=0.003, logit=7.625)', '\" counterfeit\"[83734] (p=0.003, logit=7.500)']\n",
      "model.layers.6 | Rank(ans): 67127 | ['\" herald\"[65206] (p=0.014, logit=9.250)', '\"UNITY\"[57273] (p=0.007, logit=8.500)', '\"ARA\"[55062] (p=0.006, logit=8.375)', '\"�\"[122] (p=0.006, logit=8.375)', '\"uni\"[16080] (p=0.005, logit=8.188)']\n",
      "model.layers.7 | Rank(ans): 75572 | ['\"UNITY\"[57273] (p=0.030, logit=9.938)', '\" Unity\"[22462] (p=0.007, logit=8.500)', '\" herald\"[65206] (p=0.007, logit=8.438)', '\"chyb\"[122029] (p=0.007, logit=8.438)', '\"unity\"[2498] (p=0.005, logit=8.125)']\n",
      "model.layers.8 | Rank(ans): 71914 | ['\" Unity\"[22462] (p=0.007, logit=8.375)', '\"UNITY\"[57273] (p=0.005, logit=8.000)', '\"chyb\"[122029] (p=0.004, logit=7.875)', '\".biz\"[53708] (p=0.004, logit=7.750)', '\" диви\"[121015] (p=0.003, logit=7.688)']\n",
      "model.layers.9 | Rank(ans): 51752 | ['\" Unity\"[22462] (p=0.006, logit=8.125)', '\"UNITY\"[57273] (p=0.004, logit=7.625)', '\"addGroup\"[15855] (p=0.003, logit=7.531)', '\"unity\"[2498] (p=0.003, logit=7.531)', '\"odox\"[31162] (p=0.002, logit=7.219)']\n",
      "model.layers.10 | Rank(ans): 68883 | ['\"unity\"[2498] (p=0.029, logit=9.625)', '\"UNITY\"[57273] (p=0.029, logit=9.625)', '\"inho\"[28676] (p=0.009, logit=8.438)', '\" Unity\"[22462] (p=0.007, logit=8.250)', '\" UNITY\"[57184] (p=0.007, logit=8.188)']\n",
      "model.layers.11 | Rank(ans): 81366 | ['\"unity\"[2498] (p=0.014, logit=8.750)', '\"UNITY\"[57273] (p=0.006, logit=7.875)', '\"gam\"[40429] (p=0.006, logit=7.875)', '\" ground\"[5015] (p=0.004, logit=7.625)', '\"inho\"[28676] (p=0.004, logit=7.594)']\n",
      "model.layers.12 | Rank(ans): 69187 | ['\"unity\"[2498] (p=0.023, logit=9.250)', '\"inho\"[28676] (p=0.010, logit=8.375)', '\" Unity\"[22462] (p=0.007, logit=8.000)', '\"UNITY\"[57273] (p=0.005, logit=7.688)', '\" Dun\"[29838] (p=0.004, logit=7.438)']\n",
      "model.layers.13 | Rank(ans): 51071 | ['\" Unity\"[22462] (p=0.011, logit=8.500)', '\"UNITY\"[57273] (p=0.011, logit=8.500)', '\"Unity\"[38410] (p=0.010, logit=8.438)', '\"oun\"[1656] (p=0.010, logit=8.438)', '\"unity\"[2498] (p=0.009, logit=8.312)']\n",
      "model.layers.14 | Rank(ans): 72521 | ['\"oun\"[1656] (p=0.008, logit=8.125)', '\"aldi\"[78016] (p=0.007, logit=8.062)', '\"iad\"[64044] (p=0.005, logit=7.750)', '\"unity\"[2498] (p=0.005, logit=7.688)', '\"Unity\"[38410] (p=0.005, logit=7.625)']\n",
      "model.layers.15 | Rank(ans): 100679 | ['\"aldi\"[78016] (p=0.010, logit=8.500)', '\"inho\"[28676] (p=0.004, logit=7.625)', '\" Ans\"[39553] (p=0.004, logit=7.469)', '\"edic\"[34383] (p=0.004, logit=7.438)', '\"Ans\"[70699] (p=0.003, logit=7.281)']\n",
      "model.layers.16 | Rank(ans): 42571 | ['\"aldi\"[78016] (p=0.019, logit=9.125)', '\"795\"[25808] (p=0.004, logit=7.469)', '\" Rav\"[35074] (p=0.003, logit=7.375)', '\"in\"[258] (p=0.003, logit=7.312)', '\"∠\"[117696] (p=0.003, logit=7.125)']\n",
      "model.layers.17 | Rank(ans): 39781 | ['\"iad\"[64044] (p=0.010, logit=8.312)', '\" Latter\"[90166] (p=0.009, logit=8.125)', '\"ﾆﾆ\"[102126] (p=0.004, logit=7.438)', '\"inho\"[28676] (p=0.004, logit=7.375)', '\"ilit\"[3748] (p=0.004, logit=7.375)']\n",
      "model.layers.18 | Rank(ans): 57251 | ['\"etto\"[53979] (p=0.006, logit=7.688)', '\" Stark\"[47849] (p=0.005, logit=7.625)', '\"idl\"[56564] (p=0.005, logit=7.594)', '\"iad\"[64044] (p=0.005, logit=7.562)', '\"ombre\"[5626] (p=0.003, logit=7.062)']\n",
      "model.layers.19 | Rank(ans): 63460 | ['\"odu\"[77055] (p=0.009, logit=8.125)', '\"iggins\"[53026] (p=0.008, logit=8.062)', '\" resil\"[37130] (p=0.007, logit=7.875)', '\" Gaw\"[86638] (p=0.006, logit=7.719)', '\"ayan\"[44957] (p=0.005, logit=7.594)']\n",
      "model.layers.20 | Rank(ans): 67558 | ['\"iggins\"[53026] (p=0.008, logit=7.844)', '\" correct\"[4495] (p=0.007, logit=7.688)', '\" Gaw\"[86638] (p=0.004, logit=7.250)', '\" True\"[3082] (p=0.004, logit=7.156)', '\"odu\"[77055] (p=0.004, logit=7.125)']\n",
      "model.layers.21 | Rank(ans): 93694 | ['\" NONE\"[43969] (p=0.032, logit=9.062)', '\" none\"[7000] (p=0.013, logit=8.188)', '\"None\"[4155] (p=0.010, logit=7.938)', '\" None\"[2290] (p=0.009, logit=7.750)', '\" Leone\"[66491] (p=0.007, logit=7.562)']\n",
      "model.layers.22 | Rank(ans): 121482 | ['\" NONE\"[43969] (p=0.009, logit=7.750)', '\" Fres\"[60750] (p=0.007, logit=7.469)', '\" none\"[7000] (p=0.007, logit=7.406)', '\" Mare\"[64898] (p=0.004, logit=6.906)', '\"rian\"[7414] (p=0.004, logit=6.906)']\n",
      "model.layers.23 | Rank(ans): 125647 | ['\" NONE\"[43969] (p=0.044, logit=9.438)', '\" none\"[7000] (p=0.022, logit=8.750)', '\" None\"[2290] (p=0.022, logit=8.750)', '\"None\"[4155] (p=0.022, logit=8.750)', '\"rian\"[7414] (p=0.009, logit=7.812)']\n",
      "model.layers.24 | Rank(ans): 124336 | ['\" None\"[2290] (p=0.013, logit=8.000)', '\" NONE\"[43969] (p=0.010, logit=7.750)', '\"None\"[4155] (p=0.010, logit=7.750)', '\" none\"[7000] (p=0.009, logit=7.625)', '\"oun\"[1656] (p=0.007, logit=7.438)']\n",
      "model.layers.25 | Rank(ans): 126586 | ['\" NONE\"[43969] (p=0.013, logit=7.938)', '\" None\"[2290] (p=0.012, logit=7.812)', '\"oun\"[1656] (p=0.010, logit=7.625)', '\" none\"[7000] (p=0.007, logit=7.344)', '\"None\"[4155] (p=0.007, logit=7.250)']\n",
      "model.layers.26 | Rank(ans): 115980 | ['\" None\"[2290] (p=0.017, logit=8.312)', '\"oun\"[1656] (p=0.017, logit=8.312)', '\"oras\"[65747] (p=0.013, logit=8.000)', '\"alis\"[35965] (p=0.012, logit=7.969)', '\"None\"[4155] (p=0.012, logit=7.938)']\n",
      "model.layers.27 | Rank(ans): 87376 | ['\" Tier\"[36332] (p=0.006, logit=6.969)', '\"alis\"[35965] (p=0.006, logit=6.938)', '\" None\"[2290] (p=0.005, logit=6.750)', '\"oun\"[1656] (p=0.004, logit=6.594)', '\" Wash\"[6113] (p=0.004, logit=6.438)']\n",
      "model.layers.28 | Rank(ans): 73772 | ['\" Beverly\"[58774] (p=0.008, logit=7.250)', '\" None\"[2290] (p=0.007, logit=7.094)', '\"ongo\"[6497] (p=0.006, logit=6.969)', '\" weap\"[6289] (p=0.006, logit=6.938)', '\" NONE\"[43969] (p=0.006, logit=6.906)']\n",
      "model.layers.29 | Rank(ans): 69838 | ['\" None\"[2290] (p=0.027, logit=8.625)', '\"None\"[4155] (p=0.024, logit=8.500)', '\" Tier\"[36332] (p=0.020, logit=8.312)', '\" none\"[7000] (p=0.012, logit=7.812)', '\" Sang\"[52022] (p=0.007, logit=7.312)']\n",
      "model.layers.30 | Rank(ans): 56822 | ['\" Tier\"[36332] (p=0.021, logit=8.188)', '\" None\"[2290] (p=0.017, logit=7.969)', '\" none\"[7000] (p=0.013, logit=7.688)', '\"None\"[4155] (p=0.011, logit=7.562)', '\"唯一\"[121821] (p=0.005, logit=6.719)']\n",
      "model.layers.31 | Rank(ans): 64630 | ['\" none\"[7000] (p=0.025, logit=8.438)', '\" Tier\"[36332] (p=0.010, logit=7.531)', '\" None\"[2290] (p=0.009, logit=7.375)', '\"None\"[4155] (p=0.008, logit=7.250)', '\" NONE\"[43969] (p=0.007, logit=7.188)']\n",
      "model.layers.32 | Rank(ans): 87992 | ['\" none\"[7000] (p=0.015, logit=8.125)', '\" NONE\"[43969] (p=0.012, logit=7.938)', '\" Ingram\"[95466] (p=0.009, logit=7.656)', '\"None\"[4155] (p=0.009, logit=7.656)', '\"feld\"[31202] (p=0.006, logit=7.250)']\n",
      "model.layers.33 | Rank(ans): 33575 | ['\" NONE\"[43969] (p=0.013, logit=7.812)', '\"None\"[4155] (p=0.011, logit=7.688)', '\"ais\"[2852] (p=0.010, logit=7.594)', '\" none\"[7000] (p=0.010, logit=7.562)', '\" None\"[2290] (p=0.006, logit=7.062)']\n",
      "model.layers.34 | Rank(ans): 73678 | ['\"ais\"[2852] (p=0.011, logit=7.750)', '\" none\"[7000] (p=0.006, logit=7.188)', '\"None\"[4155] (p=0.005, logit=6.969)', '\"ongo\"[6497] (p=0.004, logit=6.719)', '\"aming\"[6605] (p=0.004, logit=6.656)']\n",
      "model.layers.35 | Rank(ans): 37352 | ['\"ais\"[2852] (p=0.015, logit=8.188)', '\" none\"[7000] (p=0.010, logit=7.781)', '\"405\"[16408] (p=0.009, logit=7.719)', '\"aming\"[6605] (p=0.007, logit=7.406)', '\"None\"[4155] (p=0.006, logit=7.312)']\n",
      "model.layers.36 | Rank(ans): 38662 | ['\" none\"[7000] (p=0.043, logit=9.188)', '\" Beverly\"[58774] (p=0.026, logit=8.688)', '\"ais\"[2852] (p=0.011, logit=7.844)', '\"None\"[4155] (p=0.010, logit=7.781)', '\" NONE\"[43969] (p=0.008, logit=7.562)']\n",
      "model.layers.37 | Rank(ans): 27267 | ['\" none\"[7000] (p=0.344, logit=11.750)', '\" NONE\"[43969] (p=0.060, logit=10.000)', '\"None\"[4155] (p=0.032, logit=9.375)', '\" None\"[2290] (p=0.017, logit=8.750)', '\"none\"[6836] (p=0.016, logit=8.688)']\n",
      "model.layers.38 | Rank(ans): 38005 | ['\" none\"[7000] (p=0.516, logit=12.750)', '\" NONE\"[43969] (p=0.070, logit=10.750)', '\"None\"[4155] (p=0.029, logit=9.875)', '\"none\"[6836] (p=0.026, logit=9.750)', '\" None\"[2290] (p=0.018, logit=9.375)']\n",
      "model.layers.39 | Rank(ans): 27952 | ['\" none\"[7000] (p=0.648, logit=13.625)', '\" NONE\"[43969] (p=0.128, logit=12.000)', '\"None\"[4155] (p=0.037, logit=10.750)', '\" None\"[2290] (p=0.010, logit=9.438)', '\"none\"[6836] (p=0.008, logit=9.250)']\n",
      "model.layers.40 | Rank(ans): 25312 | ['\" none\"[7000] (p=0.582, logit=13.375)', '\" NONE\"[43969] (p=0.147, logit=12.000)', '\"None\"[4155] (p=0.042, logit=10.750)', '\"none\"[6836] (p=0.011, logit=9.375)', '\" None\"[2290] (p=0.011, logit=9.375)']\n",
      "model.layers.41 | Rank(ans): 6930 | ['\" none\"[7000] (p=0.680, logit=14.375)', '\" NONE\"[43969] (p=0.172, logit=13.000)', '\"None\"[4155] (p=0.049, logit=11.750)', '\" None\"[2290] (p=0.017, logit=10.688)', '\"none\"[6836] (p=0.010, logit=10.125)']\n",
      "model.layers.42 | Rank(ans): 1948 | ['\" none\"[7000] (p=0.578, logit=13.625)', '\" NONE\"[43969] (p=0.188, logit=12.500)', '\"None\"[4155] (p=0.061, logit=11.375)', '\" None\"[2290] (p=0.029, logit=10.625)', '\"none\"[6836] (p=0.011, logit=9.625)']\n",
      "model.layers.43 | Rank(ans): 2173 | ['\" none\"[7000] (p=0.613, logit=13.688)', '\" NONE\"[43969] (p=0.137, logit=12.188)', '\"None\"[4155] (p=0.069, logit=11.500)', '\" None\"[2290] (p=0.037, logit=10.875)', '\" only\"[1193] (p=0.011, logit=9.625)']\n",
      "model.layers.44 | Rank(ans): 2836 | ['\" none\"[7000] (p=0.566, logit=13.688)', '\"None\"[4155] (p=0.118, logit=12.125)', '\" NONE\"[43969] (p=0.111, logit=12.062)', '\" None\"[2290] (p=0.056, logit=11.375)', '\"none\"[6836] (p=0.011, logit=9.750)']\n",
      "model.layers.45 | Rank(ans): 2048 | ['\" none\"[7000] (p=0.396, logit=12.750)', '\"None\"[4155] (p=0.166, logit=11.875)', '\" NONE\"[43969] (p=0.088, logit=11.250)', '\" None\"[2290] (p=0.088, logit=11.250)', '\" among\"[4315] (p=0.031, logit=10.188)']\n",
      "model.layers.46 | Rank(ans): 951 | ['\" none\"[7000] (p=0.355, logit=12.562)', '\"None\"[4155] (p=0.167, logit=11.812)', '\" NONE\"[43969] (p=0.102, logit=11.312)', '\" None\"[2290] (p=0.084, logit=11.125)', '\" among\"[4315] (p=0.027, logit=10.000)']\n",
      "model.layers.47 | Rank(ans): 550 | ['\" none\"[7000] (p=0.239, logit=12.000)', '\"None\"[4155] (p=0.146, logit=11.500)', '\" among\"[4315] (p=0.088, logit=11.000)', '\" NONE\"[43969] (p=0.078, logit=10.875)', '\" None\"[2290] (p=0.061, logit=10.625)']\n",
      "model.layers.48 | Rank(ans): 406 | ['\" none\"[7000] (p=0.250, logit=12.000)', '\"None\"[4155] (p=0.143, logit=11.438)', '\" among\"[4315] (p=0.067, logit=10.688)', '\" NONE\"[43969] (p=0.056, logit=10.500)', '\" None\"[2290] (p=0.052, logit=10.438)']\n",
      "model.layers.49 | Rank(ans): 933 | ['\" none\"[7000] (p=0.387, logit=12.750)', '\"None\"[4155] (p=0.161, logit=11.875)', '\" NONE\"[43969] (p=0.067, logit=11.000)', '\" None\"[2290] (p=0.056, logit=10.812)', '\" among\"[4315] (p=0.028, logit=10.125)']\n",
      "model.layers.50 | Rank(ans): 289 | ['\" none\"[7000] (p=0.369, logit=12.625)', '\"None\"[4155] (p=0.198, logit=12.000)', '\" NONE\"[43969] (p=0.068, logit=10.938)', '\" None\"[2290] (p=0.064, logit=10.875)', '\" option\"[3072] (p=0.024, logit=9.875)']\n",
      "model.layers.51 | Rank(ans): 414 | ['\" none\"[7000] (p=0.258, logit=12.000)', '\"None\"[4155] (p=0.228, logit=11.875)', '\" None\"[2290] (p=0.074, logit=10.750)', '\" NONE\"[43969] (p=0.069, logit=10.688)', '\" option\"[3072] (p=0.027, logit=9.750)']\n",
      "model.layers.52 | Rank(ans): 255 | ['\"None\"[4155] (p=0.240, logit=11.625)', '\" none\"[7000] (p=0.176, logit=11.312)', '\" None\"[2290] (p=0.061, logit=10.250)', '\" NONE\"[43969] (p=0.037, logit=9.750)', '\" Among\"[22395] (p=0.037, logit=9.750)']\n",
      "model.layers.53 | Rank(ans): 16 | ['\"None\"[4155] (p=0.273, logit=11.562)', '\" none\"[7000] (p=0.107, logit=10.625)', '\" None\"[2290] (p=0.057, logit=10.000)', '\" Among\"[22395] (p=0.029, logit=9.312)', '\" option\"[3072] (p=0.029, logit=9.312)']\n",
      "model.layers.54 | Rank(ans): 14 | ['\"None\"[4155] (p=0.275, logit=11.562)', '\" none\"[7000] (p=0.079, logit=10.312)', '\" None\"[2290] (p=0.054, logit=9.938)', '\" option\"[3072] (p=0.045, logit=9.750)', '\" Among\"[22395] (p=0.027, logit=9.250)']\n",
      "model.layers.55 | Rank(ans): 14 | ['\"None\"[4155] (p=0.250, logit=11.312)', '\" none\"[7000] (p=0.067, logit=10.000)', '\" None\"[2290] (p=0.056, logit=9.812)', '\" among\"[4315] (p=0.044, logit=9.562)', '\" Among\"[22395] (p=0.041, logit=9.500)']\n",
      "model.layers.56 | Rank(ans): 2 | ['\" cherry\"[41980] (p=0.559, logit=14.875)', '\" Cherry\"[45805] (p=0.385, logit=14.500)', '\"None\"[4155] (p=0.008, logit=10.625)', '\" Among\"[22395] (p=0.003, logit=9.750)', '\" cher\"[23008] (p=0.003, logit=9.688)']\n",
      "model.layers.57 | Rank(ans): 2 | ['\" cherry\"[41980] (p=0.486, logit=14.625)', '\" Cherry\"[45805] (p=0.457, logit=14.562)', '\"None\"[4155] (p=0.010, logit=10.688)', '\" option\"[3072] (p=0.003, logit=9.562)', '\" Among\"[22395] (p=0.003, logit=9.375)']\n",
      "model.layers.58 | Rank(ans): 2 | ['\" cherry\"[41980] (p=0.463, logit=14.062)', '\" Cherry\"[45805] (p=0.463, logit=14.062)', '\"None\"[4155] (p=0.009, logit=10.125)', '\" option\"[3072] (p=0.004, logit=9.375)', '\" Among\"[22395] (p=0.004, logit=9.188)']\n",
      "model.layers.59 | Rank(ans): 2 | ['\" cherry\"[41980] (p=0.418, logit=13.000)', '\" Cherry\"[45805] (p=0.418, logit=13.000)', '\"None\"[4155] (p=0.014, logit=9.625)', '\" Among\"[22395] (p=0.010, logit=9.250)', '\" option\"[3072] (p=0.007, logit=8.875)']\n",
      "model.layers.60 | Rank(ans): 2 | ['\" cherry\"[41980] (p=0.447, logit=13.500)', '\" Cherry\"[45805] (p=0.447, logit=13.500)', '\"None\"[4155] (p=0.013, logit=10.000)', '\" None\"[2290] (p=0.004, logit=8.875)', '\" option\"[3072] (p=0.004, logit=8.750)']\n",
      "model.layers.61 | Rank(ans): 1 | ['\" Cherry\"[45805] (p=0.613, logit=16.000)', '\" cherry\"[41980] (p=0.373, logit=15.500)', '\" option\"[3072] (p=0.001, logit=9.750)', '\"None\"[4155] (p=0.001, logit=9.438)', '\" Option\"[7104] (p=0.001, logit=9.250)']\n",
      "model.layers.62 | Rank(ans): 1 | ['\" Cherry\"[45805] (p=0.695, logit=16.000)', '\" cherry\"[41980] (p=0.289, logit=15.125)', '\" option\"[3072] (p=0.001, logit=9.812)', '\"None\"[4155] (p=0.001, logit=9.625)', '\" Option\"[7104] (p=0.001, logit=9.500)']\n",
      "model.layers.63 | Rank(ans): 1 | ['\" Cherry\"[45805] (p=0.668, logit=16.125)', '\" cherry\"[41980] (p=0.316, logit=15.375)', '\" option\"[3072] (p=0.002, logit=10.188)', '\"None\"[4155] (p=0.001, logit=9.938)', '\" Option\"[7104] (p=0.001, logit=9.750)']\n",
      "model.layers.64 | Rank(ans): 1 | ['\" Cherry\"[45805] (p=0.730, logit=22.750)', '\" cherry\"[41980] (p=0.270, logit=21.750)', '\" cher\"[23008] (p=0.000, logit=12.750)', '\" Cher\"[56207] (p=0.000, logit=11.688)', '\" option\"[3072] (p=0.000, logit=9.312)']\n",
      "model.layers.65 | Rank(ans): 1 | ['\" Cherry\"[45805] (p=0.730, logit=22.125)', '\" cherry\"[41980] (p=0.270, logit=21.125)', '\" cher\"[23008] (p=0.000, logit=12.375)', '\" Cher\"[56207] (p=0.000, logit=11.688)', '\"None\"[4155] (p=0.000, logit=9.188)']\n",
      "model.layers.66 | Rank(ans): 1 | ['\" Cherry\"[45805] (p=0.797, logit=22.000)', '\" cherry\"[41980] (p=0.202, logit=20.625)', '\" cher\"[23008] (p=0.000, logit=12.750)', '\" Cher\"[56207] (p=0.000, logit=12.125)', '\"None\"[4155] (p=0.000, logit=8.938)']\n",
      "model.layers.67 | Rank(ans): 1 | ['\" Cherry\"[45805] (p=0.777, logit=21.500)', '\" cherry\"[41980] (p=0.223, logit=20.250)', '\" cher\"[23008] (p=0.000, logit=12.312)', '\" Cher\"[56207] (p=0.000, logit=11.188)', '\"None\"[4155] (p=0.000, logit=9.625)']\n",
      "model.layers.68 | Rank(ans): 1 | ['\" Cherry\"[45805] (p=0.754, logit=21.000)', '\" cherry\"[41980] (p=0.245, logit=19.875)', '\" cher\"[23008] (p=0.000, logit=11.938)', '\" Cher\"[56207] (p=0.000, logit=11.375)', '\" Option\"[7104] (p=0.000, logit=9.125)']\n",
      "model.layers.69 | Rank(ans): 1 | ['\" Cherry\"[45805] (p=0.797, logit=20.250)', '\" cherry\"[41980] (p=0.202, logit=18.875)', '\" cher\"[23008] (p=0.000, logit=11.500)', '\" Cher\"[56207] (p=0.000, logit=10.938)', '\" Option\"[7104] (p=0.000, logit=10.812)']\n",
      "model.layers.70 | Rank(ans): 2 | ['\"Ch\"[1163] (p=0.809, logit=18.000)', '\" Cherry\"[45805] (p=0.141, logit=16.250)', '\"-ch\"[11843] (p=0.026, logit=14.562)', '\"ch\"[331] (p=0.012, logit=13.812)', '\" CH\"[6969] (p=0.003, logit=12.375)']\n",
      "model.layers.71 | Rank(ans): 2 | ['\"Ch\"[1163] (p=0.840, logit=18.625)', '\" Cherry\"[45805] (p=0.129, logit=16.750)', '\"-ch\"[11843] (p=0.011, logit=14.250)', '\" CH\"[6969] (p=0.007, logit=13.875)', '\"ch\"[331] (p=0.005, logit=13.500)']\n",
      "model.layers.72 | Rank(ans): 2 | ['\"Ch\"[1163] (p=0.535, logit=17.000)', '\" Cherry\"[45805] (p=0.418, logit=16.750)', '\"-ch\"[11843] (p=0.011, logit=13.125)', '\" CH\"[6969] (p=0.011, logit=13.125)', '\" cherry\"[41980] (p=0.009, logit=12.875)']\n",
      "model.layers.73 | Rank(ans): 2 | ['\"Ch\"[1163] (p=0.781, logit=18.625)', '\" Cherry\"[45805] (p=0.197, logit=17.250)', '\"-ch\"[11843] (p=0.007, logit=13.875)', '\" CH\"[6969] (p=0.006, logit=13.750)', '\"ch\"[331] (p=0.005, logit=13.562)']\n",
      "model.layers.74 | Rank(ans): 1 | ['\" Cherry\"[45805] (p=0.641, logit=17.750)', '\"Ch\"[1163] (p=0.344, logit=17.125)', '\" cherry\"[41980] (p=0.006, logit=13.125)', '\"ch\"[331] (p=0.002, logit=11.875)', '\" Among\"[22395] (p=0.001, logit=11.375)']\n",
      "model.layers.75 | Rank(ans): 1 | ['\" Cherry\"[45805] (p=0.871, logit=16.750)', '\"Ch\"[1163] (p=0.086, logit=14.438)', '\" cherry\"[41980] (p=0.013, logit=12.562)', '\" Among\"[22395] (p=0.008, logit=12.000)', '\" among\"[4315] (p=0.005, logit=11.625)']\n",
      "model.layers.76 | Rank(ans): 1 | ['\" Cherry\"[45805] (p=0.648, logit=15.750)', '\" option\"[3072] (p=0.099, logit=13.875)', '\" Among\"[22395] (p=0.053, logit=13.250)', '\" Option\"[7104] (p=0.047, logit=13.125)', '\"Ch\"[1163] (p=0.047, logit=13.125)']\n",
      "model.layers.77 | Rank(ans): 1 | ['\" Cherry\"[45805] (p=0.633, logit=17.625)', '\" Among\"[22395] (p=0.142, logit=16.125)', '\"Ch\"[1163] (p=0.071, logit=15.438)', '\" Option\"[7104] (p=0.033, logit=14.688)', '\" The\"[578] (p=0.028, logit=14.500)']\n",
      "model.layers.78 | Rank(ans): 1 | ['\" Cherry\"[45805] (p=0.504, logit=19.750)', '\" Among\"[22395] (p=0.270, logit=19.125)', '\"Ch\"[1163] (p=0.068, logit=17.750)', '\" The\"[578] (p=0.068, logit=17.750)', '\" A\"[362] (p=0.032, logit=17.000)']\n",
      "model.layers.79 | Rank(ans): 1 | ['\" Cherry\"[45805] (p=0.812, logit=21.875)', '\" The\"[578] (p=0.085, logit=19.625)', '\" Among\"[22395] (p=0.046, logit=19.000)', '\" A\"[362] (p=0.025, logit=18.375)', '\" CH\"[6969] (p=0.003, logit=16.375)']\n"
     ]
    }
   ],
   "source": [
    "hs = get_hs(\n",
    "    mt=mt,\n",
    "    input=tokenized,\n",
    "    locations = [(layer_name, -1) for layer_name in mt.layer_names],\n",
    "    return_dict=True\n",
    ")\n",
    "\n",
    "for layer_idx in range(mt.n_layer):\n",
    "    layer_name = mt.layer_name_format.format(layer_idx)\n",
    "    h = hs[(layer_name, -1)]\n",
    "    ll_pred, ll_track = logit_lens(\n",
    "        mt=mt,\n",
    "        h=h,\n",
    "        interested_tokens=[sample.ans_token_id]\n",
    "    )\n",
    "    print(f\"{layer_name} | Rank(ans): {ll_track[sample.ans_token_id][0]} | {[str(pred) for pred in ll_pred]}\")"
   ]
  },
  {
   "cell_type": "code",
   "execution_count": null,
   "id": "416c8bcc",
   "metadata": {},
   "outputs": [],
   "source": []
  }
 ],
 "metadata": {
  "kernelspec": {
   "display_name": "connection",
   "language": "python",
   "name": "python3"
  },
  "language_info": {
   "codemirror_mode": {
    "name": "ipython",
    "version": 3
   },
   "file_extension": ".py",
   "mimetype": "text/x-python",
   "name": "python",
   "nbconvert_exporter": "python",
   "pygments_lexer": "ipython3",
   "version": "3.11.11"
  }
 },
 "nbformat": 4,
 "nbformat_minor": 5
}
