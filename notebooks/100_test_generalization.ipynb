{
 "cells": [
  {
   "cell_type": "code",
   "execution_count": 1,
   "id": "5728a60e",
   "metadata": {},
   "outputs": [],
   "source": [
    "%load_ext autoreload\n",
    "%autoreload 2"
   ]
  },
  {
   "cell_type": "code",
   "execution_count": 2,
   "id": "f6bcda99",
   "metadata": {},
   "outputs": [
    {
     "name": "stdout",
     "output_type": "stream",
     "text": [
      "2025-07-30 14:07:23 __main__ INFO     torch.__version__='2.7.0+cu126', torch.version.cuda='12.6'\n",
      "2025-07-30 14:07:23 __main__ INFO     torch.cuda.is_available()=True, torch.cuda.device_count()=8, torch.cuda.get_device_name()='NVIDIA A100 80GB PCIe'\n",
      "2025-07-30 14:07:23 __main__ INFO     transformers.__version__='4.51.3'\n"
     ]
    }
   ],
   "source": [
    "import os\n",
    "import json\n",
    "\n",
    "import sys\n",
    "\n",
    "sys.path.append(\"../\")\n",
    "\n",
    "##################################################################\n",
    "os.environ[\"TOKENIZERS_PARALLELISM\"] = \"false\"\n",
    "os.environ[\"CUDA_VISIBLE_DEVICES\"] = \"0,1,2,3,4,5,6,7\"\n",
    "##################################################################\n",
    "\n",
    "import logging\n",
    "from src.utils import logging_utils\n",
    "from src.utils import env_utils\n",
    "\n",
    "logger = logging.getLogger(__name__)\n",
    "\n",
    "logging.basicConfig(\n",
    "    level=logging.DEBUG,\n",
    "    format=logging_utils.DEFAULT_FORMAT,\n",
    "    datefmt=logging_utils.DEFAULT_DATEFMT,\n",
    "    stream=sys.stdout,\n",
    ")\n",
    "\n",
    "import torch\n",
    "import transformers\n",
    "\n",
    "logger.info(f\"{torch.__version__=}, {torch.version.cuda=}\")\n",
    "logger.info(\n",
    "    f\"{torch.cuda.is_available()=}, {torch.cuda.device_count()=}, {torch.cuda.get_device_name()=}\"\n",
    ")\n",
    "logger.info(f\"{transformers.__version__=}\")"
   ]
  },
  {
   "cell_type": "code",
   "execution_count": 3,
   "id": "da104a94",
   "metadata": {},
   "outputs": [
    {
     "name": "stdout",
     "output_type": "stream",
     "text": [
      "[2025-07-30 14:07:25,970] [INFO] [real_accelerator.py:239:get_accelerator] Setting ds_accelerator to cuda (auto detect)\n",
      "2025-07-30 14:07:26 root INFO     gcc -pthread -B /disk/u/arnab/miniconda3/envs/connection/compiler_compat -DNDEBUG -fwrapv -O2 -Wall -fPIC -O2 -isystem /disk/u/arnab/miniconda3/envs/connection/include -fPIC -O2 -isystem /disk/u/arnab/miniconda3/envs/connection/include -fPIC -c /tmp/tmp8osoh7hz/test.c -o /tmp/tmp8osoh7hz/test.o\n",
      "2025-07-30 14:07:26 root INFO     gcc -pthread -B /disk/u/arnab/miniconda3/envs/connection/compiler_compat /tmp/tmp8osoh7hz/test.o -laio -o /tmp/tmp8osoh7hz/a.out\n"
     ]
    },
    {
     "name": "stderr",
     "output_type": "stream",
     "text": [
      "/disk/u/arnab/miniconda3/envs/connection/compiler_compat/ld: cannot find -laio: No such file or directory\n",
      "collect2: error: ld returned 1 exit status\n"
     ]
    },
    {
     "name": "stdout",
     "output_type": "stream",
     "text": [
      "2025-07-30 14:07:26 root INFO     gcc -pthread -B /disk/u/arnab/miniconda3/envs/connection/compiler_compat -DNDEBUG -fwrapv -O2 -Wall -fPIC -O2 -isystem /disk/u/arnab/miniconda3/envs/connection/include -fPIC -O2 -isystem /disk/u/arnab/miniconda3/envs/connection/include -fPIC -c /tmp/tmpqxscc_rm/test.c -o /tmp/tmpqxscc_rm/test.o\n",
      "2025-07-30 14:07:26 root INFO     gcc -pthread -B /disk/u/arnab/miniconda3/envs/connection/compiler_compat /tmp/tmpqxscc_rm/test.o -L/usr -L/usr/lib64 -lcufile -o /tmp/tmpqxscc_rm/a.out\n"
     ]
    },
    {
     "name": "stderr",
     "output_type": "stream",
     "text": [
      "/disk/u/arnab/miniconda3/envs/connection/compiler_compat/ld: cannot find -lcufile: No such file or directory\n",
      "collect2: error: ld returned 1 exit status\n"
     ]
    },
    {
     "name": "stdout",
     "output_type": "stream",
     "text": [
      "2025-07-30 14:07:27 git.cmd DEBUG    Popen(['git', 'version'], cwd=/disk/u/arnab/Codes/Projects/retrieval/notebooks, stdin=None, shell=False, universal_newlines=False)\n",
      "2025-07-30 14:07:27 git.cmd DEBUG    Popen(['git', 'version'], cwd=/disk/u/arnab/Codes/Projects/retrieval/notebooks, stdin=None, shell=False, universal_newlines=False)\n",
      "2025-07-30 14:07:27 wandb.docker.auth DEBUG    Trying paths: ['/disk/u/arnab/.docker/config.json', '/disk/u/arnab/.dockercfg']\n",
      "2025-07-30 14:07:27 wandb.docker.auth DEBUG    No config file found\n"
     ]
    }
   ],
   "source": [
    "from src.utils.training_utils import get_device_map\n",
    "\n",
    "# model_key = \"meta-llama/Llama-3.2-3B\"\n",
    "# model_key = \"meta-llama/Llama-3.1-8B\"\n",
    "model_key = \"meta-llama/Llama-3.3-70B-Instruct\"\n",
    "# model_key = \"meta-llama/Llama-3.1-405B-Instruct\"\n",
    "\n",
    "# model_key = \"google/gemma-2-9b-it\"\n",
    "# model_key = \"google/gemma-3-12b-it\"\n",
    "# model_key = \"google/gemma-2-27b-it\"\n",
    "\n",
    "# model_key = \"deepseek-ai/DeepSeek-R1-Distill-Llama-8B\"\n",
    "\n",
    "# model_key = \"allenai/OLMo-2-1124-7B-Instruct\"\n",
    "# model_key = \"allenai/OLMo-7B-0424-hf\"\n",
    "\n",
    "# model_key = \"Qwen/Qwen2-7B\"\n",
    "# model_key = \"Qwen/Qwen2.5-14B-Instruct\"\n",
    "# model_key = \"Qwen/Qwen2.5-32B-Instruct\"\n",
    "# model_key = \"Qwen/Qwen2.5-72B-Instruct\"\n",
    "\n",
    "# model_key = \"Qwen/Qwen3-1.7B\"\n",
    "# model_key = \"Qwen/Qwen3-4B\"\n",
    "# model_key = \"Qwen/Qwen3-8B\"\n",
    "# model_key = \"Qwen/Qwen3-14B\"\n",
    "# model_key = \"Qwen/Qwen3-32B\"\n",
    "\n",
    "# device_map = get_device_map(model_key, 30, n_gpus=8)\n",
    "# device_map"
   ]
  },
  {
   "cell_type": "code",
   "execution_count": 4,
   "id": "19dcf5e7",
   "metadata": {},
   "outputs": [],
   "source": [
    "# os.environ[\"BNB_CUDA_VERSION\"] = \"124\"\n",
    "# ! echo $BNB_CUDA_VERSION\n",
    "# ! python -m bitsandbytes"
   ]
  },
  {
   "cell_type": "code",
   "execution_count": 5,
   "id": "6f7ced8e",
   "metadata": {},
   "outputs": [
    {
     "name": "stdout",
     "output_type": "stream",
     "text": [
      "2025-07-30 14:07:32 src.models WARNING  meta-llama/Llama-3.3-70B-Instruct not found in /disk/u/arnab/Codes/Models\n",
      "If not found in cache, model will be downloaded from HuggingFace to cache directory\n",
      "2025-07-30 14:07:32 urllib3.connectionpool DEBUG    Starting new HTTPS connection (1): huggingface.co:443\n",
      "2025-07-30 14:07:32 urllib3.connectionpool DEBUG    https://huggingface.co:443 \"HEAD /meta-llama/Llama-3.3-70B-Instruct/resolve/main/config.json HTTP/1.1\" 200 0\n",
      "2025-07-30 14:07:32 urllib3.connectionpool DEBUG    https://huggingface.co:443 \"HEAD /meta-llama/Llama-3.3-70B-Instruct/resolve/main/tokenizer_config.json HTTP/1.1\" 200 0\n"
     ]
    },
    {
     "data": {
      "application/vnd.jupyter.widget-view+json": {
       "model_id": "14e13313f98d491b9ab6dd899c3f8889",
       "version_major": 2,
       "version_minor": 0
      },
      "text/plain": [
       "Loading checkpoint shards:   0%|          | 0/30 [00:00<?, ?it/s]"
      ]
     },
     "metadata": {},
     "output_type": "display_data"
    },
    {
     "name": "stdout",
     "output_type": "stream",
     "text": [
      "2025-07-30 14:08:21 urllib3.connectionpool DEBUG    https://huggingface.co:443 \"HEAD /meta-llama/Llama-3.3-70B-Instruct/resolve/main/generation_config.json HTTP/1.1\" 200 0\n",
      "2025-07-30 14:08:21 src.models INFO     loaded model <meta-llama/Llama-3.3-70B-Instruct> | size: 134570.516 MB | dtype: torch.bfloat16 | device: cuda:0\n"
     ]
    }
   ],
   "source": [
    "from src.models import ModelandTokenizer\n",
    "\n",
    "# from transformers import BitsAndBytesConfig\n",
    "\n",
    "mt = ModelandTokenizer(\n",
    "    model_key=model_key,\n",
    "    torch_dtype=torch.bfloat16,\n",
    "    # device_map=device_map,\n",
    "    device_map=\"auto\",\n",
    "    # quantization_config = BitsAndBytesConfig(\n",
    "    #     # load_in_4bit=True\n",
    "    #     load_in_8bit=True\n",
    "    # )\n",
    ")"
   ]
  },
  {
   "cell_type": "code",
   "execution_count": 6,
   "id": "b76d98b6",
   "metadata": {},
   "outputs": [
    {
     "name": "stdout",
     "output_type": "stream",
     "text": [
      "['trainable_params.pt']\n"
     ]
    },
    {
     "data": {
      "text/plain": [
       "tensor(0.0010, dtype=torch.bfloat16, grad_fn=<MaxBackward1>)"
      ]
     },
     "execution_count": 6,
     "metadata": {},
     "output_type": "execute_result"
    }
   ],
   "source": [
    "from src.functional import free_gpu_cache\n",
    "\n",
    "# SYNTH_DATASET = \"icosahedron_1\"\n",
    "SYNTH_DATASET = \"64\"\n",
    "\n",
    "checkpoint_path = os.path.join(\n",
    "    env_utils.DEFAULT_RESULTS_DIR,\n",
    "    \"trained_params\",\n",
    "    f\"{SYNTH_DATASET}\",\n",
    "    \"_full__clamp=0.001\",\n",
    "    model_key.split(\"/\")[-1],\n",
    ")\n",
    "\n",
    "version = \"epoch_1\"\n",
    "# version = \"final_model\"\n",
    "\n",
    "checkpoint_path = os.path.join(env_utils.DEFAULT_RESULTS_DIR, checkpoint_path, version)\n",
    "\n",
    "print(os.listdir(checkpoint_path))\n",
    "\n",
    "checkpoint_path = os.path.join(checkpoint_path, \"trainable_params.pt\")\n",
    "\n",
    "loaded_deltas = torch.load(checkpoint_path, map_location=\"cpu\")\n",
    "# loaded_deltas\n",
    "\n",
    "free_gpu_cache()\n",
    "\n",
    "\n",
    "d = loaded_deltas[\"model<>layers<>5<>mlp<>gate_proj\"]\n",
    "d.abs().max()"
   ]
  },
  {
   "cell_type": "code",
   "execution_count": 7,
   "id": "4ec24d05",
   "metadata": {},
   "outputs": [
    {
     "name": "stdout",
     "output_type": "stream",
     "text": [
      "2025-07-30 14:08:28 src.utils.training_utils DEBUG    module_name='model.layers.0.mlp.gate_proj' | param_delta.shape=torch.Size([28672, 8192])\n",
      "2025-07-30 14:08:29 src.utils.training_utils DEBUG    module_name='model.layers.0.mlp.up_proj' | param_delta.shape=torch.Size([28672, 8192])\n",
      "2025-07-30 14:08:29 src.utils.training_utils DEBUG    module_name='model.layers.0.mlp.down_proj' | param_delta.shape=torch.Size([8192, 28672])\n",
      "2025-07-30 14:08:29 src.utils.training_utils DEBUG    module_name='model.layers.1.mlp.gate_proj' | param_delta.shape=torch.Size([28672, 8192])\n",
      "2025-07-30 14:08:29 src.utils.training_utils DEBUG    module_name='model.layers.1.mlp.up_proj' | param_delta.shape=torch.Size([28672, 8192])\n",
      "2025-07-30 14:08:29 src.utils.training_utils DEBUG    module_name='model.layers.1.mlp.down_proj' | param_delta.shape=torch.Size([8192, 28672])\n",
      "2025-07-30 14:08:29 src.utils.training_utils DEBUG    module_name='model.layers.2.mlp.gate_proj' | param_delta.shape=torch.Size([28672, 8192])\n",
      "2025-07-30 14:08:29 src.utils.training_utils DEBUG    module_name='model.layers.2.mlp.up_proj' | param_delta.shape=torch.Size([28672, 8192])\n",
      "2025-07-30 14:08:29 src.utils.training_utils DEBUG    module_name='model.layers.2.mlp.down_proj' | param_delta.shape=torch.Size([8192, 28672])\n",
      "2025-07-30 14:08:29 src.utils.training_utils DEBUG    module_name='model.layers.3.mlp.gate_proj' | param_delta.shape=torch.Size([28672, 8192])\n",
      "2025-07-30 14:08:30 src.utils.training_utils DEBUG    module_name='model.layers.3.mlp.up_proj' | param_delta.shape=torch.Size([28672, 8192])\n",
      "2025-07-30 14:08:30 src.utils.training_utils DEBUG    module_name='model.layers.3.mlp.down_proj' | param_delta.shape=torch.Size([8192, 28672])\n",
      "2025-07-30 14:08:30 src.utils.training_utils DEBUG    module_name='model.layers.4.mlp.gate_proj' | param_delta.shape=torch.Size([28672, 8192])\n",
      "2025-07-30 14:08:30 src.utils.training_utils DEBUG    module_name='model.layers.4.mlp.up_proj' | param_delta.shape=torch.Size([28672, 8192])\n",
      "2025-07-30 14:08:30 src.utils.training_utils DEBUG    module_name='model.layers.4.mlp.down_proj' | param_delta.shape=torch.Size([8192, 28672])\n",
      "2025-07-30 14:08:30 src.utils.training_utils DEBUG    module_name='model.layers.5.mlp.gate_proj' | param_delta.shape=torch.Size([28672, 8192])\n",
      "2025-07-30 14:08:30 src.utils.training_utils DEBUG    module_name='model.layers.5.mlp.up_proj' | param_delta.shape=torch.Size([28672, 8192])\n",
      "2025-07-30 14:08:30 src.utils.training_utils DEBUG    module_name='model.layers.5.mlp.down_proj' | param_delta.shape=torch.Size([8192, 28672])\n",
      "2025-07-30 14:08:30 src.utils.training_utils DEBUG    module_name='model.layers.6.mlp.gate_proj' | param_delta.shape=torch.Size([28672, 8192])\n",
      "2025-07-30 14:08:31 src.utils.training_utils DEBUG    module_name='model.layers.6.mlp.up_proj' | param_delta.shape=torch.Size([28672, 8192])\n",
      "2025-07-30 14:08:31 src.utils.training_utils DEBUG    module_name='model.layers.6.mlp.down_proj' | param_delta.shape=torch.Size([8192, 28672])\n",
      "2025-07-30 14:08:31 src.utils.training_utils DEBUG    module_name='model.layers.7.mlp.gate_proj' | param_delta.shape=torch.Size([28672, 8192])\n",
      "2025-07-30 14:08:31 src.utils.training_utils DEBUG    module_name='model.layers.7.mlp.up_proj' | param_delta.shape=torch.Size([28672, 8192])\n",
      "2025-07-30 14:08:31 src.utils.training_utils DEBUG    module_name='model.layers.7.mlp.down_proj' | param_delta.shape=torch.Size([8192, 28672])\n"
     ]
    }
   ],
   "source": [
    "from src.utils.training_utils import TrainableLM_delta, TrainableLM_LoRA\n",
    "\n",
    "#################################################\n",
    "Trainable_CLS = TrainableLM_delta\n",
    "# Trainable_CLS = TrainableLM_LoRA\n",
    "#################################################\n",
    "\n",
    "Trainable_CLS.fuse_with_model(mt._model, loaded_deltas)"
   ]
  },
  {
   "cell_type": "code",
   "execution_count": 70,
   "id": "6d20ced5",
   "metadata": {},
   "outputs": [],
   "source": [
    "###############################################################################\n",
    "LAYERS = [35, 47, 52]\n",
    "HEADS = [\n",
    "    (33, 45),\n",
    "    (33, 18),\n",
    "    (34, 1),\n",
    "    (34, 6),\n",
    "    (34, 7),\n",
    "    (35, 19),\n",
    "    (39, 40),\n",
    "    (42, 30),\n",
    "    (47, 18),\n",
    "    (52, 58),\n",
    "]\n",
    "###############################################################################"
   ]
  },
  {
   "cell_type": "code",
   "execution_count": 64,
   "id": "44b9d51b",
   "metadata": {},
   "outputs": [
    {
     "name": "stdout",
     "output_type": "stream",
     "text": [
      "2025-07-30 15:13:54 src.selection.data INFO     Loaded 16 categories\n"
     ]
    },
    {
     "data": {
      "text/plain": [
       "['actor',\n",
       " 'singer',\n",
       " 'comedian',\n",
       " 'director',\n",
       " 'basketball player',\n",
       " 'football player',\n",
       " 'soccer player',\n",
       " 'tennis player',\n",
       " 'golfer',\n",
       " 'boxer',\n",
       " 'news anchor',\n",
       " 'journalist',\n",
       " 'author',\n",
       " 'fashion designer',\n",
       " 'entrepreneur',\n",
       " 'politician']"
      ]
     },
     "execution_count": 64,
     "metadata": {},
     "output_type": "execute_result"
    }
   ],
   "source": [
    "from src.selection.data  import load_people_by_category\n",
    "\n",
    "people_by_category = load_people_by_category(tokenizer = mt.tokenizer)\n",
    "list(people_by_category.keys())"
   ]
  },
  {
   "cell_type": "code",
   "execution_count": 135,
   "id": "1f849c4e",
   "metadata": {},
   "outputs": [
    {
     "name": "stdout",
     "output_type": "stream",
     "text": [
      "Which person from the following list has their occupation in common with Samuel L. Jackson?\n",
      "Options: Norah O'Donnell, Julia Roberts, Rory McIlroy, Petra Kvitová, Christian Louboutin, Wes Anderson.\n",
      "Ans: >> Julia Roberts\n"
     ]
    }
   ],
   "source": [
    "from src.selection.data import get_random_sample\n",
    "\n",
    "sample = get_random_sample(\n",
    "    people_by_category=people_by_category,\n",
    "    mt=mt,\n",
    "    attribute=\"actor\",\n",
    "    n_distractors=5\n",
    ")\n",
    "print(sample.prompt, \">>\", sample.obj)"
   ]
  },
  {
   "cell_type": "code",
   "execution_count": 140,
   "id": "1ad8689e",
   "metadata": {},
   "outputs": [
    {
     "name": "stdout",
     "output_type": "stream",
     "text": [
      "Norah O'Donnell, Julia Roberts, Rory McIlroy, Petra Kvitová, Christian Louboutin, Wes Anderson\n",
      "Who among these people mentioned above is by profession a actor?\n",
      "Answer:  >> \n",
      " Julia Roberts is the actor among the listed individuals.\n"
     ]
    },
    {
     "data": {
      "text/plain": [
       "[[PredictedToken(token=' Julia', prob=0.9453125, logit=22.25, token_id=40394, metadata=None),\n",
       "  PredictedToken(token=' The', prob=0.017333984375, logit=18.25, token_id=578, metadata=None),\n",
       "  PredictedToken(token=' Nor', prob=0.010498046875, logit=17.75, token_id=8170, metadata=None),\n",
       "  PredictedToken(token=' Among', prob=0.006378173828125, logit=17.25, token_id=22395, metadata=None),\n",
       "  PredictedToken(token=' ', prob=0.0030059814453125, logit=16.5, token_id=220, metadata=None)]]"
      ]
     },
     "execution_count": 140,
     "metadata": {},
     "output_type": "execute_result"
    }
   ],
   "source": [
    "from src.functional import generate_with_patch, predict_next_token\n",
    "\n",
    "# prompt_template = \"\"\"Which of these peoples is by profession a {}?\n",
    "# options: {}\n",
    "# Answer:\"\"\"\n",
    "# prompt = prompt_template.format(\n",
    "#     sample.metadata[\"attribute\"],\n",
    "#     \", \".join(sample.options)\n",
    "# )\n",
    "\n",
    "prompt_template = \"\"\"{}\n",
    "Who among these people mentioned above is by profession a {}?\n",
    "Answer:\"\"\"\n",
    "prompt = prompt_template.format(\n",
    "    \", \".join(sample.options),\n",
    "    sample.metadata[\"attribute\"]\n",
    ")\n",
    "\n",
    "# prompt = sample.prompt\n",
    "\n",
    "print(prompt, \" >> \")\n",
    "\n",
    "gen = generate_with_patch(\n",
    "    mt=mt,\n",
    "    inputs=prompt,\n",
    "    n_gen_per_prompt=1,\n",
    "    max_new_tokens=20,\n",
    "    remove_prefix=True,\n",
    ")[0]\n",
    "print(gen)\n",
    "\n",
    "predict_next_token(\n",
    "    mt = mt,\n",
    "    inputs=prompt,\n",
    ")"
   ]
  },
  {
   "cell_type": "code",
   "execution_count": 141,
   "id": "fda47f59",
   "metadata": {},
   "outputs": [
    {
     "name": "stdout",
     "output_type": "stream",
     "text": [
      "layer=35\n"
     ]
    },
    {
     "data": {
      "text/html": [
       "<div id=\"circuits-vis-393989c8-6f88\" style=\"margin: 15px 0;\"/>\n",
       "    <script crossorigin type=\"module\">\n",
       "    import { render, ColoredTokens } from \"https://unpkg.com/circuitsvis@1.43.3/dist/cdn/esm.js\";\n",
       "    render(\n",
       "      \"circuits-vis-393989c8-6f88\",\n",
       "      ColoredTokens,\n",
       "      {\"tokens\": [\"Nor\", \"ah\", \" O\", \"'D\", \"onn\", \"ell\", \",\", \" Julia\", \" Roberts\", \",\", \" Rory\", \" Mc\", \"Il\", \"roy\", \",\", \" Petra\", \" K\", \"vit\", \"ov\\u00e1\", \",\", \" Christian\", \" L\", \"oub\", \"out\", \"in\", \",\", \" Wes\", \" Anderson\", \"\\n\", \"Who\", \" among\", \" these\", \" people\", \" mentioned\", \" above\", \" is\", \" by\", \" profession\", \" a\", \" actor\", \"?\\n\", \"Answer\", \":\"], \"values\": [0.01924872398376465, 0.006335459649562836, 0.0034733936190605164, 0.002360209822654724, 0.0025372058153152466, 0.007738441228866577, 0.026840031147003174, 0.016428273171186447, 0.045546263456344604, 0.02343350648880005, 0.003278743475675583, 0.0021081864833831787, 0.0013250112533569336, 0.006130233407020569, 0.00648140162229538, 0.001969205215573311, 0.0058776140213012695, 0.0028012320399284363, 0.005001060664653778, 0.004242047667503357, 0.0017535891383886337, 0.0008142143487930298, 0.0018639639019966125, 0.0037588030099868774, 0.006403505802154541, 0.0041764602065086365, 0.0025499816983938217, 0.007031664252281189, 0.01474761962890625, 0.0051652491092681885, 0.011019855737686157, 0.008611500263214111, 0.004456639289855957, 0.005202850326895714, 0.00948232039809227, 0.006992869079113007, 0.003766186535358429, 0.009638175368309021, 0.007141992449760437, 0.02516251802444458, 0.030646800994873047, 0.014180339872837067, 0.028161227703094482]}\n",
       "    )\n",
       "    </script>"
      ],
      "text/plain": [
       "<circuitsvis.utils.render.RenderedHTML at 0x7f176c2edb10>"
      ]
     },
     "metadata": {},
     "output_type": "display_data"
    },
    {
     "name": "stdout",
     "output_type": "stream",
     "text": [
      "--------------------------------------------------------------------------------\n",
      "layer=47\n"
     ]
    },
    {
     "data": {
      "text/html": [
       "<div id=\"circuits-vis-6b23cd88-348d\" style=\"margin: 15px 0;\"/>\n",
       "    <script crossorigin type=\"module\">\n",
       "    import { render, ColoredTokens } from \"https://unpkg.com/circuitsvis@1.43.3/dist/cdn/esm.js\";\n",
       "    render(\n",
       "      \"circuits-vis-6b23cd88-348d\",\n",
       "      ColoredTokens,\n",
       "      {\"tokens\": [\"Nor\", \"ah\", \" O\", \"'D\", \"onn\", \"ell\", \",\", \" Julia\", \" Roberts\", \",\", \" Rory\", \" Mc\", \"Il\", \"roy\", \",\", \" Petra\", \" K\", \"vit\", \"ov\\u00e1\", \",\", \" Christian\", \" L\", \"oub\", \"out\", \"in\", \",\", \" Wes\", \" Anderson\", \"\\n\", \"Who\", \" among\", \" these\", \" people\", \" mentioned\", \" above\", \" is\", \" by\", \" profession\", \" a\", \" actor\", \"?\\n\", \"Answer\", \":\"], \"values\": [0.0017300471663475037, 0.0029606427997350693, 0.0009305756539106369, 0.0005501881241798401, 0.000544985756278038, 0.000970497727394104, 0.006517793983221054, 0.019972311332821846, 0.005613427609205246, 0.0026865312829613686, 0.000990273430943489, 0.0002536540850996971, 0.000359605997800827, 0.0006626807153224945, 0.0012323283590376377, 0.0013179145753383636, 0.0005716863088309765, 0.0003280211240053177, 0.0008010845631361008, 0.0007272809743881226, 0.0010678749531507492, 0.00032984185963869095, 0.0004989150911569595, 0.0008263960480690002, 0.0005673319101333618, 0.000896332785487175, 0.000763334333896637, 0.0007804408669471741, 0.002832643687725067, 0.0014714039862155914, 0.0010396018624305725, 0.0009185932576656342, 0.0005726534873247147, 0.0006973817944526672, 0.0006605936214327812, 0.0007785297930240631, 0.0004944950342178345, 0.0012255162000656128, 0.0012448746711015701, 0.003744557499885559, 0.007036089897155762, 0.006199672818183899, 0.0032849088311195374]}\n",
       "    )\n",
       "    </script>"
      ],
      "text/plain": [
       "<circuitsvis.utils.render.RenderedHTML at 0x7f17cc0ceb90>"
      ]
     },
     "metadata": {},
     "output_type": "display_data"
    },
    {
     "name": "stdout",
     "output_type": "stream",
     "text": [
      "--------------------------------------------------------------------------------\n",
      "layer=52\n"
     ]
    },
    {
     "data": {
      "text/html": [
       "<div id=\"circuits-vis-02f45de5-92fa\" style=\"margin: 15px 0;\"/>\n",
       "    <script crossorigin type=\"module\">\n",
       "    import { render, ColoredTokens } from \"https://unpkg.com/circuitsvis@1.43.3/dist/cdn/esm.js\";\n",
       "    render(\n",
       "      \"circuits-vis-02f45de5-92fa\",\n",
       "      ColoredTokens,\n",
       "      {\"tokens\": [\"Nor\", \"ah\", \" O\", \"'D\", \"onn\", \"ell\", \",\", \" Julia\", \" Roberts\", \",\", \" Rory\", \" Mc\", \"Il\", \"roy\", \",\", \" Petra\", \" K\", \"vit\", \"ov\\u00e1\", \",\", \" Christian\", \" L\", \"oub\", \"out\", \"in\", \",\", \" Wes\", \" Anderson\", \"\\n\", \"Who\", \" among\", \" these\", \" people\", \" mentioned\", \" above\", \" is\", \" by\", \" profession\", \" a\", \" actor\", \"?\\n\", \"Answer\", \":\"], \"values\": [0.0032034888863563538, 0.009385880082845688, 0.0015975050628185272, 0.0011099976254627109, 0.000830819015391171, 0.001440135296434164, 0.010538682341575623, 0.041449397802352905, 0.01087089255452156, 0.002871885895729065, 0.0026164986193180084, 0.0004621930420398712, 0.00039075457607395947, 0.0010461490601301193, 0.0018128231167793274, 0.0028637945652008057, 0.0005324045196175575, 0.0006235559121705592, 0.0014579244889318943, 0.0013063661754131317, 0.0023258328437805176, 0.000504584051668644, 0.0004769069200847298, 0.001967569813132286, 0.0008282111957669258, 0.0015012137591838837, 0.0020800530910491943, 0.0006497136782854795, 0.006186351180076599, 0.0055853575468063354, 0.004123419523239136, 0.00209844671189785, 0.0011069700121879578, 0.001319030299782753, 0.002580482978373766, 0.0017718058079481125, 0.0012853420339524746, 0.0017808768898248672, 0.002966206520795822, 0.008728086948394775, 0.018665313720703125, 0.017686624079942703, 0.018491338938474655]}\n",
       "    )\n",
       "    </script>"
      ],
      "text/plain": [
       "<circuitsvis.utils.render.RenderedHTML at 0x7f17cc15f250>"
      ]
     },
     "metadata": {},
     "output_type": "display_data"
    },
    {
     "name": "stdout",
     "output_type": "stream",
     "text": [
      "--------------------------------------------------------------------------------\n"
     ]
    },
    {
     "data": {
      "text/plain": [
       "[PredictedToken(token=' Julia', prob=0.953125, logit=22.375, token_id=40394, metadata=None),\n",
       " PredictedToken(token=' The', prob=0.015380859375, logit=18.25, token_id=578, metadata=None),\n",
       " PredictedToken(token=' Nor', prob=0.00933837890625, logit=17.75, token_id=8170, metadata=None),\n",
       " PredictedToken(token=' Among', prob=0.005645751953125, logit=17.25, token_id=22395, metadata=None),\n",
       " PredictedToken(token=' ', prob=0.0026702880859375, logit=16.5, token_id=220, metadata=None)]"
      ]
     },
     "execution_count": 141,
     "metadata": {},
     "output_type": "execute_result"
    }
   ],
   "source": [
    "from src.attention import get_attention_matrices, visualize_average_attn_matrix\n",
    "from src.functional import interpret_logits\n",
    "from src.tokens import prepare_input\n",
    "\n",
    "tokenized = prepare_input(\n",
    "    tokenizer=mt,\n",
    "    prompts=prompt\n",
    ")\n",
    "\n",
    "attn_matrices = get_attention_matrices(\n",
    "    input=tokenized,\n",
    "    mt=mt,\n",
    "    value_weighted=False,\n",
    "    # patches = []\n",
    ")\n",
    "\n",
    "visualize_average_attn_matrix(\n",
    "    mt=mt,\n",
    "    attn_matrices=attn_matrices,\n",
    "    prompt=prompt,\n",
    "    tokenized=tokenized,\n",
    "    layer_window=LAYERS,\n",
    ")\n",
    "\n",
    "interpret_logits(tokenizer=mt, logits=attn_matrices.logits)"
   ]
  },
  {
   "cell_type": "code",
   "execution_count": 142,
   "id": "c346cce7",
   "metadata": {},
   "outputs": [],
   "source": [
    "from src.attention import visualize_attn_matrix\n",
    "\n",
    "###############################################################\n",
    "N_KV_GROUPS = 1  # individual heads\n",
    "# N_KV_GROUPS = mt.config.num_key_value_heads  # grouped heads\n",
    "N_HEADS = mt.config.num_attention_heads\n",
    "LAYER_RANGE = range(mt.n_layer)\n",
    "###############################################################\n",
    "\n",
    "group_id_to_head_indices = {\n",
    "    i: [i * N_KV_GROUPS + j for j in range(N_KV_GROUPS)]\n",
    "    for i in range(N_HEADS // N_KV_GROUPS)\n",
    "}"
   ]
  },
  {
   "cell_type": "code",
   "execution_count": 143,
   "id": "33c72d1f",
   "metadata": {},
   "outputs": [
    {
     "name": "stdout",
     "output_type": "stream",
     "text": [
      "Layer: 33, Head: 45\n"
     ]
    },
    {
     "data": {
      "text/html": [
       "<div id=\"circuits-vis-9258efe3-e001\" style=\"margin: 15px 0;\"/>\n",
       "    <script crossorigin type=\"module\">\n",
       "    import { render, ColoredTokens } from \"https://unpkg.com/circuitsvis@1.43.3/dist/cdn/esm.js\";\n",
       "    render(\n",
       "      \"circuits-vis-9258efe3-e001\",\n",
       "      ColoredTokens,\n",
       "      {\"tokens\": [\"Nor\", \"ah\", \" O\", \"'D\", \"onn\", \"ell\", \",\", \" Julia\", \" Roberts\", \",\", \" Rory\", \" Mc\", \"Il\", \"roy\", \",\", \" Petra\", \" K\", \"vit\", \"ov\\u00e1\", \",\", \" Christian\", \" L\", \"oub\", \"out\", \"in\", \",\", \" Wes\", \" Anderson\", \"\\n\", \"Who\", \" among\", \" these\", \" people\", \" mentioned\", \" above\", \" is\", \" by\", \" profession\", \" a\", \" actor\", \"?\\n\", \"Answer\", \":\"], \"values\": [0.0164794921875, 0.0191650390625, 0.006317138671875, 0.0068359375, 0.006256103515625, 0.00677490234375, 0.02587890625, 0.1201171875, 0.2578125, 0.0537109375, 0.0052490234375, 0.001312255859375, 0.00177001953125, 0.00153350830078125, 0.00543212890625, 0.0157470703125, 0.004547119140625, 0.01239013671875, 0.01239013671875, 0.005645751953125, 0.005828857421875, 0.0032958984375, 0.0037689208984375, 0.002197265625, 0.0034637451171875, 0.008544921875, 0.00921630859375, 0.00762939453125, 0.0194091796875, 0.00823974609375, 0.003631591796875, 0.006683349609375, 0.0034637451171875, 0.0034637451171875, 0.006256103515625, 0.003509521484375, 0.001312255859375, 0.00144195556640625, 0.003204345703125, 0.039306640625, 0.03759765625, 0.0030975341796875, 0.0255126953125]}\n",
       "    )\n",
       "    </script>"
      ],
      "text/plain": [
       "<circuitsvis.utils.render.RenderedHTML at 0x7f17ac1d5350>"
      ]
     },
     "metadata": {},
     "output_type": "display_data"
    },
    {
     "name": "stdout",
     "output_type": "stream",
     "text": [
      "Layer: 33, Head: 18\n"
     ]
    },
    {
     "data": {
      "text/html": [
       "<div id=\"circuits-vis-755dfdfc-3890\" style=\"margin: 15px 0;\"/>\n",
       "    <script crossorigin type=\"module\">\n",
       "    import { render, ColoredTokens } from \"https://unpkg.com/circuitsvis@1.43.3/dist/cdn/esm.js\";\n",
       "    render(\n",
       "      \"circuits-vis-755dfdfc-3890\",\n",
       "      ColoredTokens,\n",
       "      {\"tokens\": [\"Nor\", \"ah\", \" O\", \"'D\", \"onn\", \"ell\", \",\", \" Julia\", \" Roberts\", \",\", \" Rory\", \" Mc\", \"Il\", \"roy\", \",\", \" Petra\", \" K\", \"vit\", \"ov\\u00e1\", \",\", \" Christian\", \" L\", \"oub\", \"out\", \"in\", \",\", \" Wes\", \" Anderson\", \"\\n\", \"Who\", \" among\", \" these\", \" people\", \" mentioned\", \" above\", \" is\", \" by\", \" profession\", \" a\", \" actor\", \"?\\n\", \"Answer\", \":\"], \"values\": [0.002227783203125, 0.01123046875, 0.002593994140625, 0.006439208984375, 0.002044677734375, 0.0216064453125, 0.0771484375, 0.1796875, 0.3984375, 0.1640625, 0.001739501953125, 0.003082275390625, 0.0016326904296875, 0.005584716796875, 0.0036773681640625, 0.0036773681640625, 0.011474609375, 0.000732421875, 0.00860595703125, 0.001800537109375, 0.003082275390625, 0.000667572021484375, 0.0033416748046875, 0.0014801025390625, 0.00885009765625, 0.0035552978515625, 0.000972747802734375, 0.007232666015625, 0.007080078125, 0.000545501708984375, 0.00018024444580078125, 0.0002040863037109375, 0.0002918243408203125, 0.0001773834228515625, 0.0003108978271484375, 0.00011444091796875, 0.00011777877807617188, 0.0001888275146484375, 0.00173187255859375, 0.006011962890625, 0.000545501708984375, 0.000213623046875, 0.0030975341796875]}\n",
       "    )\n",
       "    </script>"
      ],
      "text/plain": [
       "<circuitsvis.utils.render.RenderedHTML at 0x7f176c327850>"
      ]
     },
     "metadata": {},
     "output_type": "display_data"
    },
    {
     "name": "stdout",
     "output_type": "stream",
     "text": [
      "Layer: 34, Head: 1\n"
     ]
    },
    {
     "data": {
      "text/html": [
       "<div id=\"circuits-vis-7976636a-28be\" style=\"margin: 15px 0;\"/>\n",
       "    <script crossorigin type=\"module\">\n",
       "    import { render, ColoredTokens } from \"https://unpkg.com/circuitsvis@1.43.3/dist/cdn/esm.js\";\n",
       "    render(\n",
       "      \"circuits-vis-7976636a-28be\",\n",
       "      ColoredTokens,\n",
       "      {\"tokens\": [\"Nor\", \"ah\", \" O\", \"'D\", \"onn\", \"ell\", \",\", \" Julia\", \" Roberts\", \",\", \" Rory\", \" Mc\", \"Il\", \"roy\", \",\", \" Petra\", \" K\", \"vit\", \"ov\\u00e1\", \",\", \" Christian\", \" L\", \"oub\", \"out\", \"in\", \",\", \" Wes\", \" Anderson\", \"\\n\", \"Who\", \" among\", \" these\", \" people\", \" mentioned\", \" above\", \" is\", \" by\", \" profession\", \" a\", \" actor\", \"?\\n\", \"Answer\", \":\"], \"values\": [0.00836181640625, 0.01348876953125, 0.0024871826171875, 0.002166748046875, 0.00127410888671875, 0.0023040771484375, 0.021484375, 0.0830078125, 0.67578125, 0.04736328125, 0.00019359588623046875, 4.1961669921875e-05, 2.4437904357910156e-06, 1.6927719116210938e-05, 0.00130462646484375, 0.00017642974853515625, 0.00024127960205078125, 8.869171142578125e-05, 0.000110626220703125, 0.000644683837890625, 0.00010347366333007812, 8.869171142578125e-05, 2.384185791015625e-05, 0.002410888671875, 6.4849853515625e-05, 0.001312255859375, 0.00018787384033203125, 0.000148773193359375, 0.00946044921875, 0.0011444091796875, 0.00177001953125, 0.003387451171875, 0.0013580322265625, 0.0010986328125, 0.00201416015625, 0.0004863739013671875, 0.0006561279296875, 9.012222290039062e-05, 0.00092315673828125, 0.0238037109375, 0.007049560546875, 0.00019359588623046875, 0.011962890625]}\n",
       "    )\n",
       "    </script>"
      ],
      "text/plain": [
       "<circuitsvis.utils.render.RenderedHTML at 0x7ef34681d950>"
      ]
     },
     "metadata": {},
     "output_type": "display_data"
    },
    {
     "name": "stdout",
     "output_type": "stream",
     "text": [
      "Layer: 34, Head: 6\n"
     ]
    },
    {
     "data": {
      "text/html": [
       "<div id=\"circuits-vis-2194e59b-db3b\" style=\"margin: 15px 0;\"/>\n",
       "    <script crossorigin type=\"module\">\n",
       "    import { render, ColoredTokens } from \"https://unpkg.com/circuitsvis@1.43.3/dist/cdn/esm.js\";\n",
       "    render(\n",
       "      \"circuits-vis-2194e59b-db3b\",\n",
       "      ColoredTokens,\n",
       "      {\"tokens\": [\"Nor\", \"ah\", \" O\", \"'D\", \"onn\", \"ell\", \",\", \" Julia\", \" Roberts\", \",\", \" Rory\", \" Mc\", \"Il\", \"roy\", \",\", \" Petra\", \" K\", \"vit\", \"ov\\u00e1\", \",\", \" Christian\", \" L\", \"oub\", \"out\", \"in\", \",\", \" Wes\", \" Anderson\", \"\\n\", \"Who\", \" among\", \" these\", \" people\", \" mentioned\", \" above\", \" is\", \" by\", \" profession\", \" a\", \" actor\", \"?\\n\", \"Answer\", \":\"], \"values\": [0.0274658203125, 0.027587890625, 0.013427734375, 0.006683349609375, 0.0047607421875, 0.006591796875, 0.046875, 0.10888671875, 0.275390625, 0.11669921875, 0.00054168701171875, 0.000240325927734375, 8.463859558105469e-06, 3.0517578125e-05, 0.0029296875, 0.00060272216796875, 0.0005950927734375, 0.000522613525390625, 0.000396728515625, 0.002197265625, 0.00031280517578125, 0.00078582763671875, 0.00013256072998046875, 0.00933837890625, 0.0001811981201171875, 0.0025634765625, 0.0004215240478515625, 0.0003185272216796875, 0.0189208984375, 0.00543212890625, 0.006744384765625, 0.01177978515625, 0.003143310546875, 0.0031890869140625, 0.005767822265625, 0.00274658203125, 0.00189208984375, 0.00016498565673828125, 0.0033721923828125, 0.02685546875, 0.0174560546875, 0.000492095947265625, 0.04541015625]}\n",
       "    )\n",
       "    </script>"
      ],
      "text/plain": [
       "<circuitsvis.utils.render.RenderedHTML at 0x7ef34681cc50>"
      ]
     },
     "metadata": {},
     "output_type": "display_data"
    },
    {
     "name": "stdout",
     "output_type": "stream",
     "text": [
      "Layer: 34, Head: 7\n"
     ]
    },
    {
     "data": {
      "text/html": [
       "<div id=\"circuits-vis-b62b1070-fcfd\" style=\"margin: 15px 0;\"/>\n",
       "    <script crossorigin type=\"module\">\n",
       "    import { render, ColoredTokens } from \"https://unpkg.com/circuitsvis@1.43.3/dist/cdn/esm.js\";\n",
       "    render(\n",
       "      \"circuits-vis-b62b1070-fcfd\",\n",
       "      ColoredTokens,\n",
       "      {\"tokens\": [\"Nor\", \"ah\", \" O\", \"'D\", \"onn\", \"ell\", \",\", \" Julia\", \" Roberts\", \",\", \" Rory\", \" Mc\", \"Il\", \"roy\", \",\", \" Petra\", \" K\", \"vit\", \"ov\\u00e1\", \",\", \" Christian\", \" L\", \"oub\", \"out\", \"in\", \",\", \" Wes\", \" Anderson\", \"\\n\", \"Who\", \" among\", \" these\", \" people\", \" mentioned\", \" above\", \" is\", \" by\", \" profession\", \" a\", \" actor\", \"?\\n\", \"Answer\", \":\"], \"values\": [0.036865234375, 0.00946044921875, 0.0032196044921875, 0.00201416015625, 0.0023956298828125, 0.00762939453125, 0.032958984375, 0.0294189453125, 0.220703125, 0.035400390625, 0.00122833251953125, 0.000530242919921875, 0.0001544952392578125, 0.00067138671875, 0.00421142578125, 0.001251220703125, 0.0018463134765625, 0.0023956298828125, 0.002593994140625, 0.0035400390625, 0.000782012939453125, 0.0009918212890625, 0.00121307373046875, 0.006256103515625, 0.0025634765625, 0.006591796875, 0.00122833251953125, 0.0033416748046875, 0.0247802734375, 0.00958251953125, 0.02197265625, 0.04052734375, 0.01123046875, 0.0084228515625, 0.0260009765625, 0.00885009765625, 0.0030975341796875, 0.00127410888671875, 0.00909423828125, 0.1181640625, 0.0888671875, 0.002716064453125, 0.068359375]}\n",
       "    )\n",
       "    </script>"
      ],
      "text/plain": [
       "<circuitsvis.utils.render.RenderedHTML at 0x7ef34681cc50>"
      ]
     },
     "metadata": {},
     "output_type": "display_data"
    },
    {
     "name": "stdout",
     "output_type": "stream",
     "text": [
      "Layer: 35, Head: 19\n"
     ]
    },
    {
     "data": {
      "text/html": [
       "<div id=\"circuits-vis-16700f3c-47fc\" style=\"margin: 15px 0;\"/>\n",
       "    <script crossorigin type=\"module\">\n",
       "    import { render, ColoredTokens } from \"https://unpkg.com/circuitsvis@1.43.3/dist/cdn/esm.js\";\n",
       "    render(\n",
       "      \"circuits-vis-16700f3c-47fc\",\n",
       "      ColoredTokens,\n",
       "      {\"tokens\": [\"Nor\", \"ah\", \" O\", \"'D\", \"onn\", \"ell\", \",\", \" Julia\", \" Roberts\", \",\", \" Rory\", \" Mc\", \"Il\", \"roy\", \",\", \" Petra\", \" K\", \"vit\", \"ov\\u00e1\", \",\", \" Christian\", \" L\", \"oub\", \"out\", \"in\", \",\", \" Wes\", \" Anderson\", \"\\n\", \"Who\", \" among\", \" these\", \" people\", \" mentioned\", \" above\", \" is\", \" by\", \" profession\", \" a\", \" actor\", \"?\\n\", \"Answer\", \":\"], \"values\": [0.00775146484375, 0.00567626953125, 0.004150390625, 0.005218505859375, 0.007171630859375, 0.028076171875, 0.015380859375, 0.0303955078125, 0.453125, 0.15234375, 0.0034332275390625, 0.001739501953125, 0.0016326904296875, 0.01153564453125, 0.0111083984375, 0.00439453125, 0.0079345703125, 0.01446533203125, 0.0220947265625, 0.007781982421875, 0.0022125244140625, 0.0003833770751953125, 0.004638671875, 0.001312255859375, 0.039306640625, 0.01220703125, 0.00494384765625, 0.035400390625, 0.0147705078125, 0.000640869140625, 0.0001926422119140625, 0.0003490447998046875, 0.00022792816162109375, 0.00021457672119140625, 4.935264587402344e-05, 8.392333984375e-05, 0.000514984130859375, 6.341934204101562e-05, 0.00191497802734375, 0.00592041015625, 0.00104522705078125, 3.9577484130859375e-05, 0.0006103515625]}\n",
       "    )\n",
       "    </script>"
      ],
      "text/plain": [
       "<circuitsvis.utils.render.RenderedHTML at 0x7f176c3498d0>"
      ]
     },
     "metadata": {},
     "output_type": "display_data"
    },
    {
     "name": "stdout",
     "output_type": "stream",
     "text": [
      "Layer: 39, Head: 40\n"
     ]
    },
    {
     "data": {
      "text/html": [
       "<div id=\"circuits-vis-9a8c05f1-c68d\" style=\"margin: 15px 0;\"/>\n",
       "    <script crossorigin type=\"module\">\n",
       "    import { render, ColoredTokens } from \"https://unpkg.com/circuitsvis@1.43.3/dist/cdn/esm.js\";\n",
       "    render(\n",
       "      \"circuits-vis-9a8c05f1-c68d\",\n",
       "      ColoredTokens,\n",
       "      {\"tokens\": [\"Nor\", \"ah\", \" O\", \"'D\", \"onn\", \"ell\", \",\", \" Julia\", \" Roberts\", \",\", \" Rory\", \" Mc\", \"Il\", \"roy\", \",\", \" Petra\", \" K\", \"vit\", \"ov\\u00e1\", \",\", \" Christian\", \" L\", \"oub\", \"out\", \"in\", \",\", \" Wes\", \" Anderson\", \"\\n\", \"Who\", \" among\", \" these\", \" people\", \" mentioned\", \" above\", \" is\", \" by\", \" profession\", \" a\", \" actor\", \"?\\n\", \"Answer\", \":\"], \"values\": [0.00689697265625, 0.007354736328125, 0.006378173828125, 0.00109100341796875, 0.0007171630859375, 0.004058837890625, 0.0888671875, 0.11865234375, 0.29296875, 0.11572265625, 0.002685546875, 0.000652313232421875, 1.9669532775878906e-05, 0.0012969970703125, 0.0218505859375, 0.00323486328125, 0.00396728515625, 0.0001811981201171875, 0.004486083984375, 0.00665283203125, 0.0027923583984375, 0.0029296875, 0.000102996826171875, 0.0027008056640625, 0.00147247314453125, 0.007293701171875, 0.0014495849609375, 0.0025787353515625, 0.021240234375, 0.0023193359375, 0.0087890625, 0.00299072265625, 0.000484466552734375, 0.002685546875, 0.004730224609375, 0.0011444091796875, 0.000225067138671875, 0.0003185272216796875, 0.005645751953125, 0.0155029296875, 0.08203125, 0.003692626953125, 0.037109375]}\n",
       "    )\n",
       "    </script>"
      ],
      "text/plain": [
       "<circuitsvis.utils.render.RenderedHTML at 0x7ef34681e290>"
      ]
     },
     "metadata": {},
     "output_type": "display_data"
    },
    {
     "name": "stdout",
     "output_type": "stream",
     "text": [
      "Layer: 42, Head: 30\n"
     ]
    },
    {
     "data": {
      "text/html": [
       "<div id=\"circuits-vis-75b0d807-8802\" style=\"margin: 15px 0;\"/>\n",
       "    <script crossorigin type=\"module\">\n",
       "    import { render, ColoredTokens } from \"https://unpkg.com/circuitsvis@1.43.3/dist/cdn/esm.js\";\n",
       "    render(\n",
       "      \"circuits-vis-75b0d807-8802\",\n",
       "      ColoredTokens,\n",
       "      {\"tokens\": [\"Nor\", \"ah\", \" O\", \"'D\", \"onn\", \"ell\", \",\", \" Julia\", \" Roberts\", \",\", \" Rory\", \" Mc\", \"Il\", \"roy\", \",\", \" Petra\", \" K\", \"vit\", \"ov\\u00e1\", \",\", \" Christian\", \" L\", \"oub\", \"out\", \"in\", \",\", \" Wes\", \" Anderson\", \"\\n\", \"Who\", \" among\", \" these\", \" people\", \" mentioned\", \" above\", \" is\", \" by\", \" profession\", \" a\", \" actor\", \"?\\n\", \"Answer\", \":\"], \"values\": [0.0031280517578125, 0.01275634765625, 0.0189208984375, 0.01116943359375, 0.01300048828125, 0.021728515625, 0.02685546875, 0.038818359375, 0.376953125, 0.0201416015625, 0.003662109375, 0.01019287109375, 0.00099945068359375, 0.00323486328125, 0.005340576171875, 0.006439208984375, 0.00958251953125, 0.0042724609375, 0.00848388671875, 0.002685546875, 0.0032806396484375, 0.004150390625, 0.0013275146484375, 0.0034332275390625, 0.0026397705078125, 0.0027618408203125, 0.0020294189453125, 0.00738525390625, 0.005767822265625, 0.00750732421875, 0.0023651123046875, 0.00323486328125, 0.00173187255859375, 0.00421142578125, 0.00360107421875, 0.00136566162109375, 0.0020599365234375, 0.0023345947265625, 0.005950927734375, 0.0242919921875, 0.0130615234375, 0.0028076171875, 0.00848388671875]}\n",
       "    )\n",
       "    </script>"
      ],
      "text/plain": [
       "<circuitsvis.utils.render.RenderedHTML at 0x7f176c48bbd0>"
      ]
     },
     "metadata": {},
     "output_type": "display_data"
    },
    {
     "name": "stdout",
     "output_type": "stream",
     "text": [
      "Layer: 47, Head: 18\n"
     ]
    },
    {
     "data": {
      "text/html": [
       "<div id=\"circuits-vis-870984e5-27d8\" style=\"margin: 15px 0;\"/>\n",
       "    <script crossorigin type=\"module\">\n",
       "    import { render, ColoredTokens } from \"https://unpkg.com/circuitsvis@1.43.3/dist/cdn/esm.js\";\n",
       "    render(\n",
       "      \"circuits-vis-870984e5-27d8\",\n",
       "      ColoredTokens,\n",
       "      {\"tokens\": [\"Nor\", \"ah\", \" O\", \"'D\", \"onn\", \"ell\", \",\", \" Julia\", \" Roberts\", \",\", \" Rory\", \" Mc\", \"Il\", \"roy\", \",\", \" Petra\", \" K\", \"vit\", \"ov\\u00e1\", \",\", \" Christian\", \" L\", \"oub\", \"out\", \"in\", \",\", \" Wes\", \" Anderson\", \"\\n\", \"Who\", \" among\", \" these\", \" people\", \" mentioned\", \" above\", \" is\", \" by\", \" profession\", \" a\", \" actor\", \"?\\n\", \"Answer\", \":\"], \"values\": [0.00836181640625, 0.0198974609375, 0.01080322265625, 0.00180816650390625, 0.0004291534423828125, 0.0022430419921875, 0.08837890625, 0.396484375, 0.1337890625, 0.0625, 0.003875732421875, 0.00174713134765625, 7.009506225585938e-05, 0.0025482177734375, 0.0189208984375, 0.004058837890625, 0.0107421875, 4.649162292480469e-05, 0.0024261474609375, 0.007354736328125, 0.004791259765625, 0.0023193359375, 6.389617919921875e-05, 0.0029754638671875, 0.0011444091796875, 0.0093994140625, 0.00167083740234375, 0.000560760498046875, 0.0208740234375, 0.0164794921875, 0.00567626953125, 0.00445556640625, 0.0023193359375, 0.0037078857421875, 0.00174713134765625, 0.00439453125, 0.00151824951171875, 0.00063323974609375, 0.0086669921875, 0.00384521484375, 0.01434326171875, 0.00482177734375, 0.01953125]}\n",
       "    )\n",
       "    </script>"
      ],
      "text/plain": [
       "<circuitsvis.utils.render.RenderedHTML at 0x7f17ac1d5350>"
      ]
     },
     "metadata": {},
     "output_type": "display_data"
    },
    {
     "name": "stdout",
     "output_type": "stream",
     "text": [
      "Layer: 52, Head: 58\n"
     ]
    },
    {
     "data": {
      "text/html": [
       "<div id=\"circuits-vis-97a294bd-a7d4\" style=\"margin: 15px 0;\"/>\n",
       "    <script crossorigin type=\"module\">\n",
       "    import { render, ColoredTokens } from \"https://unpkg.com/circuitsvis@1.43.3/dist/cdn/esm.js\";\n",
       "    render(\n",
       "      \"circuits-vis-97a294bd-a7d4\",\n",
       "      ColoredTokens,\n",
       "      {\"tokens\": [\"Nor\", \"ah\", \" O\", \"'D\", \"onn\", \"ell\", \",\", \" Julia\", \" Roberts\", \",\", \" Rory\", \" Mc\", \"Il\", \"roy\", \",\", \" Petra\", \" K\", \"vit\", \"ov\\u00e1\", \",\", \" Christian\", \" L\", \"oub\", \"out\", \"in\", \",\", \" Wes\", \" Anderson\", \"\\n\", \"Who\", \" among\", \" these\", \" people\", \" mentioned\", \" above\", \" is\", \" by\", \" profession\", \" a\", \" actor\", \"?\\n\", \"Answer\", \":\"], \"values\": [0.00121307373046875, 0.0252685546875, 0.006683349609375, 0.001190185546875, 0.0004024505615234375, 0.005096435546875, 0.1923828125, 0.2392578125, 0.4140625, 0.003997802734375, 0.0004138946533203125, 0.00110626220703125, 7.295608520507812e-05, 0.00128936767578125, 0.002105712890625, 0.0009918212890625, 0.002532958984375, 0.00010633468627929688, 0.00138092041015625, 0.000762939453125, 0.0003032684326171875, 0.00066375732421875, 0.00011348724365234375, 0.0003032684326171875, 0.000614166259765625, 0.0011444091796875, 0.000247955322265625, 0.000640869140625, 0.003875732421875, 0.000568389892578125, 0.0030670166015625, 0.0004634857177734375, 0.0001678466796875, 0.00186920166015625, 0.000705718994140625, 0.0003032684326171875, 8.058547973632812e-05, 0.0003185272216796875, 0.001007080078125, 0.0029449462890625, 0.0023651123046875, 0.00069427490234375, 0.0047607421875]}\n",
       "    )\n",
       "    </script>"
      ],
      "text/plain": [
       "<circuitsvis.utils.render.RenderedHTML at 0x7f176c34ab10>"
      ]
     },
     "metadata": {},
     "output_type": "display_data"
    }
   ],
   "source": [
    "# for group_id in group_id_to_head_indices:\n",
    "for layer_idx, head_idx in HEADS:\n",
    "    print(\n",
    "        f\"Layer: {layer_idx}, Head: {head_idx}\"\n",
    "    )\n",
    "\n",
    "    head_matrix = torch.Tensor(attn_matrices.attention_matrices[layer_idx, head_idx]).squeeze()\n",
    "    visualize_attn_matrix(\n",
    "        attn_matrix=head_matrix,\n",
    "        tokens=[mt.tokenizer.decode(t) for t in tokenized.input_ids[0]],\n",
    "        q_index=-1,\n",
    "        start_from=1\n",
    "    )"
   ]
  },
  {
   "cell_type": "markdown",
   "id": "a6519ed6",
   "metadata": {},
   "source": [
    "### Different Attribute"
   ]
  },
  {
   "cell_type": "code",
   "execution_count": 144,
   "id": "7863a3af",
   "metadata": {},
   "outputs": [
    {
     "name": "stdout",
     "output_type": "stream",
     "text": [
      "2025-07-30 16:35:40 src.selection.data INFO     Loaded 16 categories\n"
     ]
    },
    {
     "data": {
      "text/plain": [
       "['Switzerland',\n",
       " 'UAE',\n",
       " 'Singapore',\n",
       " 'Canada',\n",
       " 'Mexico',\n",
       " 'Brazil',\n",
       " 'India',\n",
       " 'Australia',\n",
       " 'Israel',\n",
       " 'South Africa',\n",
       " 'United Kingdom',\n",
       " 'Trinidad and Tobago',\n",
       " 'New Zealand',\n",
       " 'United States',\n",
       " 'Belgium',\n",
       " 'France']"
      ]
     },
     "execution_count": 144,
     "metadata": {},
     "output_type": "execute_result"
    }
   ],
   "source": [
    "from src.selection.data  import load_people_by_category\n",
    "\n",
    "people_by_nationality = load_people_by_category(\n",
    "    tokenizer = mt.tokenizer,\n",
    "    path = os.path.join(env_utils.DEFAULT_DATA_DIR, \"selection_real/nationality.json\")\n",
    ")\n",
    "list(people_by_nationality.keys())"
   ]
  },
  {
   "cell_type": "code",
   "execution_count": 149,
   "id": "f6de76cc",
   "metadata": {},
   "outputs": [
    {
     "name": "stdout",
     "output_type": "stream",
     "text": [
      "Which person from the following list has their nationality in common with Kylie Minogue?\n",
      "Options: Goh Chok Tong, AB de Villiers, Scarlett Johansson, Diego Rivera, Ed Sheeran, Heath Ledger.\n",
      "Ans: >> Heath Ledger\n"
     ]
    }
   ],
   "source": [
    "from src.selection.data import get_random_sample\n",
    "\n",
    "sample = get_random_sample(\n",
    "    people_by_category=people_by_nationality,\n",
    "    mt=mt,\n",
    "    category=\"nationality\",\n",
    "    attribute=\"Australia\",\n",
    "    n_distractors=5\n",
    ")\n",
    "print(sample.prompt, \">>\", sample.obj)"
   ]
  },
  {
   "cell_type": "code",
   "execution_count": 150,
   "id": "a8bae6d5",
   "metadata": {},
   "outputs": [
    {
     "name": "stdout",
     "output_type": "stream",
     "text": [
      "Goh Chok Tong, AB de Villiers, Scarlett Johansson, Diego Rivera, Ed Sheeran, Heath Ledger\n",
      "Who among these people mentioned above is from Australia?\n",
      "Answer:  >> \n",
      " Heath Ledger\n",
      "Explanation: Heath Ledger was an Australian actor, best known for his role as the Joker\n"
     ]
    },
    {
     "data": {
      "text/plain": [
       "[[PredictedToken(token=' Heath', prob=0.74609375, logit=20.5, token_id=48562, metadata=None),\n",
       "  PredictedToken(token=' AB', prob=0.053955078125, logit=17.875, token_id=14469, metadata=None),\n",
       "  PredictedToken(token=' The', prob=0.047607421875, logit=17.75, token_id=578, metadata=None),\n",
       "  PredictedToken(token=' ', prob=0.0255126953125, logit=17.125, token_id=220, metadata=None),\n",
       "  PredictedToken(token=' Only', prob=0.0155029296875, logit=16.625, token_id=8442, metadata=None)]]"
      ]
     },
     "execution_count": 150,
     "metadata": {},
     "output_type": "execute_result"
    }
   ],
   "source": [
    "from src.functional import generate_with_patch, predict_next_token\n",
    "\n",
    "# prompt_template = \"\"\"Which of these peoples is by profession a {}?\n",
    "# options: {}\n",
    "# Answer:\"\"\"\n",
    "# prompt = prompt_template.format(\n",
    "#     sample.metadata[\"attribute\"],\n",
    "#     \", \".join(sample.options)\n",
    "# )\n",
    "\n",
    "prompt_template = \"\"\"{}\n",
    "Who among these people mentioned above is from {}?\n",
    "Answer:\"\"\"\n",
    "prompt = prompt_template.format(\n",
    "    \", \".join(sample.options),\n",
    "    sample.metadata[\"attribute\"]\n",
    ")\n",
    "\n",
    "print(prompt, \" >> \")\n",
    "\n",
    "gen = generate_with_patch(\n",
    "    mt=mt,\n",
    "    inputs=prompt,\n",
    "    n_gen_per_prompt=1,\n",
    "    max_new_tokens=20,\n",
    "    remove_prefix=True,\n",
    ")[0]\n",
    "print(gen)\n",
    "\n",
    "predict_next_token(\n",
    "    mt = mt,\n",
    "    inputs=prompt,\n",
    ")"
   ]
  },
  {
   "cell_type": "code",
   "execution_count": 151,
   "id": "2632192d",
   "metadata": {},
   "outputs": [
    {
     "name": "stdout",
     "output_type": "stream",
     "text": [
      "layer=35\n"
     ]
    },
    {
     "data": {
      "text/html": [
       "<div id=\"circuits-vis-8ffca506-0e6b\" style=\"margin: 15px 0;\"/>\n",
       "    <script crossorigin type=\"module\">\n",
       "    import { render, ColoredTokens } from \"https://unpkg.com/circuitsvis@1.43.3/dist/cdn/esm.js\";\n",
       "    render(\n",
       "      \"circuits-vis-8ffca506-0e6b\",\n",
       "      ColoredTokens,\n",
       "      {\"tokens\": [\"G\", \"oh\", \" Ch\", \"ok\", \" Tong\", \",\", \" AB\", \" de\", \" Vill\", \"iers\", \",\", \" Scarlett\", \" Joh\", \"ansson\", \",\", \" Diego\", \" Rivera\", \",\", \" Ed\", \" She\", \"er\", \"an\", \",\", \" Heath\", \" Ledger\", \"\\n\", \"Who\", \" among\", \" these\", \" people\", \" mentioned\", \" above\", \" is\", \" from\", \" Australia\", \"?\\n\", \"Answer\", \":\"], \"values\": [0.02084636688232422, 0.00230272114276886, 0.0030524209141731262, 0.0031363368034362793, 0.007147550582885742, 0.009709909558296204, 0.004089631140232086, 0.008764863014221191, 0.007263436913490295, 0.0344812273979187, 0.018237922340631485, 0.0034393705427646637, 0.003313899040222168, 0.010816708207130432, 0.010660946369171143, 0.0064712390303611755, 0.011907443404197693, 0.00968487560749054, 0.0029576681554317474, 0.004074349999427795, 0.0034556686878204346, 0.007241539657115936, 0.003482118248939514, 0.004069773480296135, 0.026628166437149048, 0.015910625457763672, 0.006873011589050293, 0.013056661933660507, 0.01710537075996399, 0.008712127804756165, 0.00492930319160223, 0.010402105748653412, 0.00821227952837944, 0.01603315770626068, 0.037636756896972656, 0.029167771339416504, 0.01238461583852768, 0.03267723321914673]}\n",
       "    )\n",
       "    </script>"
      ],
      "text/plain": [
       "<circuitsvis.utils.render.RenderedHTML at 0x7f17cc15fa10>"
      ]
     },
     "metadata": {},
     "output_type": "display_data"
    },
    {
     "name": "stdout",
     "output_type": "stream",
     "text": [
      "--------------------------------------------------------------------------------\n",
      "layer=47\n"
     ]
    },
    {
     "data": {
      "text/html": [
       "<div id=\"circuits-vis-70d930c3-2462\" style=\"margin: 15px 0;\"/>\n",
       "    <script crossorigin type=\"module\">\n",
       "    import { render, ColoredTokens } from \"https://unpkg.com/circuitsvis@1.43.3/dist/cdn/esm.js\";\n",
       "    render(\n",
       "      \"circuits-vis-70d930c3-2462\",\n",
       "      ColoredTokens,\n",
       "      {\"tokens\": [\"G\", \"oh\", \" Ch\", \"ok\", \" Tong\", \",\", \" AB\", \" de\", \" Vill\", \"iers\", \",\", \" Scarlett\", \" Joh\", \"ansson\", \",\", \" Diego\", \" Rivera\", \",\", \" Ed\", \" She\", \"er\", \"an\", \",\", \" Heath\", \" Ledger\", \"\\n\", \"Who\", \" among\", \" these\", \" people\", \" mentioned\", \" above\", \" is\", \" from\", \" Australia\", \"?\\n\", \"Answer\", \":\"], \"values\": [0.001832529902458191, 0.0009711124002933502, 0.0008760839700698853, 0.001612745225429535, 0.0012039020657539368, 0.0014077825471758842, 0.001492982730269432, 0.0016913637518882751, 0.0022983774542808533, 0.0043912604451179504, 0.001786387525498867, 0.0009330324828624725, 0.000868484377861023, 0.0008286889642477036, 0.0008548563346266747, 0.0022739991545677185, 0.0016034319996833801, 0.000687669962644577, 0.002297012135386467, 0.0006960444152355194, 0.0007687285542488098, 0.001450972631573677, 0.00046913325786590576, 0.013082709163427353, 0.006515812128782272, 0.0015131756663322449, 0.0008304398506879807, 0.0007610265165567398, 0.0006215497851371765, 0.00043526291847229004, 0.0005053039640188217, 0.00041775964200496674, 0.0004678163677453995, 0.0007796585559844971, 0.002329424023628235, 0.003077089786529541, 0.0036945194005966187, 0.002781495451927185]}\n",
       "    )\n",
       "    </script>"
      ],
      "text/plain": [
       "<circuitsvis.utils.render.RenderedHTML at 0x7f17cc14a490>"
      ]
     },
     "metadata": {},
     "output_type": "display_data"
    },
    {
     "name": "stdout",
     "output_type": "stream",
     "text": [
      "--------------------------------------------------------------------------------\n",
      "layer=52\n"
     ]
    },
    {
     "data": {
      "text/html": [
       "<div id=\"circuits-vis-4ab96d77-fd8b\" style=\"margin: 15px 0;\"/>\n",
       "    <script crossorigin type=\"module\">\n",
       "    import { render, ColoredTokens } from \"https://unpkg.com/circuitsvis@1.43.3/dist/cdn/esm.js\";\n",
       "    render(\n",
       "      \"circuits-vis-4ab96d77-fd8b\",\n",
       "      ColoredTokens,\n",
       "      {\"tokens\": [\"G\", \"oh\", \" Ch\", \"ok\", \" Tong\", \",\", \" AB\", \" de\", \" Vill\", \"iers\", \",\", \" Scarlett\", \" Joh\", \"ansson\", \",\", \" Diego\", \" Rivera\", \",\", \" Ed\", \" She\", \"er\", \"an\", \",\", \" Heath\", \" Ledger\", \"\\n\", \"Who\", \" among\", \" these\", \" people\", \" mentioned\", \" above\", \" is\", \" from\", \" Australia\", \"?\\n\", \"Answer\", \":\"], \"values\": [0.0033911466598510742, 0.004152350127696991, 0.0017043165862560272, 0.0023201964795589447, 0.0017583612352609634, 0.0030020028352737427, 0.00682148989289999, 0.002798132598400116, 0.0016148127615451813, 0.004486776888370514, 0.002104448154568672, 0.0040673743933439255, 0.001054098829627037, 0.0015360880643129349, 0.0017008613795042038, 0.003114864230155945, 0.0020812954753637314, 0.0012828260660171509, 0.004372057504951954, 0.0013081524521112442, 0.0006611417047679424, 0.001906548859551549, 0.001038658432662487, 0.029604103416204453, 0.00856665801256895, 0.0035658106207847595, 0.0029464345425367355, 0.0031682895496487617, 0.0016783829778432846, 0.0009568312671035528, 0.0008774213492870331, 0.0019895602017641068, 0.001500425860285759, 0.002829482778906822, 0.005044713616371155, 0.010333538055419922, 0.010516844689846039, 0.01403120532631874]}\n",
       "    )\n",
       "    </script>"
      ],
      "text/plain": [
       "<circuitsvis.utils.render.RenderedHTML at 0x7f17ac1d0910>"
      ]
     },
     "metadata": {},
     "output_type": "display_data"
    },
    {
     "name": "stdout",
     "output_type": "stream",
     "text": [
      "--------------------------------------------------------------------------------\n"
     ]
    },
    {
     "data": {
      "text/plain": [
       "[PredictedToken(token=' Heath', prob=0.76953125, logit=20.625, token_id=48562, metadata=None),\n",
       " PredictedToken(token=' AB', prob=0.049072265625, logit=17.875, token_id=14469, metadata=None),\n",
       " PredictedToken(token=' The', prob=0.043212890625, logit=17.75, token_id=578, metadata=None),\n",
       " PredictedToken(token=' ', prob=0.023193359375, logit=17.125, token_id=220, metadata=None),\n",
       " PredictedToken(token=' Two', prob=0.0140380859375, logit=16.625, token_id=9220, metadata=None)]"
      ]
     },
     "execution_count": 151,
     "metadata": {},
     "output_type": "execute_result"
    }
   ],
   "source": [
    "from src.attention import get_attention_matrices, visualize_average_attn_matrix\n",
    "from src.functional import interpret_logits\n",
    "from src.tokens import prepare_input\n",
    "\n",
    "tokenized = prepare_input(\n",
    "    tokenizer=mt,\n",
    "    prompts=prompt\n",
    ")\n",
    "\n",
    "attn_matrices = get_attention_matrices(\n",
    "    input=tokenized,\n",
    "    mt=mt,\n",
    "    value_weighted=False,\n",
    "    # patches = []\n",
    ")\n",
    "\n",
    "visualize_average_attn_matrix(\n",
    "    mt=mt,\n",
    "    attn_matrices=attn_matrices,\n",
    "    prompt=prompt,\n",
    "    tokenized=tokenized,\n",
    "    layer_window=LAYERS,\n",
    ")\n",
    "\n",
    "interpret_logits(tokenizer=mt, logits=attn_matrices.logits)"
   ]
  },
  {
   "cell_type": "code",
   "execution_count": 152,
   "id": "10ad7837",
   "metadata": {},
   "outputs": [
    {
     "name": "stdout",
     "output_type": "stream",
     "text": [
      "Layer: 33, Head: 45\n"
     ]
    },
    {
     "data": {
      "text/html": [
       "<div id=\"circuits-vis-b4bfca46-3ee1\" style=\"margin: 15px 0;\"/>\n",
       "    <script crossorigin type=\"module\">\n",
       "    import { render, ColoredTokens } from \"https://unpkg.com/circuitsvis@1.43.3/dist/cdn/esm.js\";\n",
       "    render(\n",
       "      \"circuits-vis-b4bfca46-3ee1\",\n",
       "      ColoredTokens,\n",
       "      {\"tokens\": [\"G\", \"oh\", \" Ch\", \"ok\", \" Tong\", \",\", \" AB\", \" de\", \" Vill\", \"iers\", \",\", \" Scarlett\", \" Joh\", \"ansson\", \",\", \" Diego\", \" Rivera\", \",\", \" Ed\", \" She\", \"er\", \"an\", \",\", \" Heath\", \" Ledger\", \"\\n\", \"Who\", \" among\", \" these\", \" people\", \" mentioned\", \" above\", \" is\", \" from\", \" Australia\", \"?\\n\", \"Answer\", \":\"], \"values\": [0.029052734375, 0.005157470703125, 0.00689697265625, 0.011474609375, 0.00933837890625, 0.01190185546875, 0.0062255859375, 0.0194091796875, 0.0247802734375, 0.0302734375, 0.0098876953125, 0.0107421875, 0.00787353515625, 0.004425048828125, 0.0087890625, 0.01275634765625, 0.027587890625, 0.0125732421875, 0.0106201171875, 0.0032806396484375, 0.010498046875, 0.0042724609375, 0.0089111328125, 0.06396484375, 0.1474609375, 0.035400390625, 0.00970458984375, 0.006622314453125, 0.0137939453125, 0.00897216796875, 0.0027618408203125, 0.0084228515625, 0.00830078125, 0.003387451171875, 0.0167236328125, 0.043701171875, 0.0031280517578125, 0.019287109375]}\n",
       "    )\n",
       "    </script>"
      ],
      "text/plain": [
       "<circuitsvis.utils.render.RenderedHTML at 0x7f17cc0db110>"
      ]
     },
     "metadata": {},
     "output_type": "display_data"
    },
    {
     "name": "stdout",
     "output_type": "stream",
     "text": [
      "Layer: 33, Head: 18\n"
     ]
    },
    {
     "data": {
      "text/html": [
       "<div id=\"circuits-vis-d2ef2cf8-2fbc\" style=\"margin: 15px 0;\"/>\n",
       "    <script crossorigin type=\"module\">\n",
       "    import { render, ColoredTokens } from \"https://unpkg.com/circuitsvis@1.43.3/dist/cdn/esm.js\";\n",
       "    render(\n",
       "      \"circuits-vis-d2ef2cf8-2fbc\",\n",
       "      ColoredTokens,\n",
       "      {\"tokens\": [\"G\", \"oh\", \" Ch\", \"ok\", \" Tong\", \",\", \" AB\", \" de\", \" Vill\", \"iers\", \",\", \" Scarlett\", \" Joh\", \"ansson\", \",\", \" Diego\", \" Rivera\", \",\", \" Ed\", \" She\", \"er\", \"an\", \",\", \" Heath\", \" Ledger\", \"\\n\", \"Who\", \" among\", \" these\", \" people\", \" mentioned\", \" above\", \" is\", \" from\", \" Australia\", \"?\\n\", \"Answer\", \":\"], \"values\": [0.0157470703125, 0.00531005859375, 0.00921630859375, 0.01214599609375, 0.017333984375, 0.0615234375, 0.006988525390625, 0.02685546875, 0.031494140625, 0.1748046875, 0.05810546875, 0.016845703125, 0.032470703125, 0.041259765625, 0.0225830078125, 0.01544189453125, 0.032470703125, 0.014404296875, 0.005645751953125, 0.00848388671875, 0.01153564453125, 0.0311279296875, 0.0068359375, 0.0164794921875, 0.201171875, 0.01953125, 0.001800537109375, 0.000728607177734375, 0.00069427490234375, 0.000823974609375, 0.0004215240478515625, 0.000232696533203125, 0.000484466552734375, 0.000270843505859375, 0.0003719329833984375, 0.000652313232421875, 0.00020503997802734375, 0.00177001953125]}\n",
       "    )\n",
       "    </script>"
      ],
      "text/plain": [
       "<circuitsvis.utils.render.RenderedHTML at 0x7f17cc14aa10>"
      ]
     },
     "metadata": {},
     "output_type": "display_data"
    },
    {
     "name": "stdout",
     "output_type": "stream",
     "text": [
      "Layer: 34, Head: 1\n"
     ]
    },
    {
     "data": {
      "text/html": [
       "<div id=\"circuits-vis-a301c0ac-557d\" style=\"margin: 15px 0;\"/>\n",
       "    <script crossorigin type=\"module\">\n",
       "    import { render, ColoredTokens } from \"https://unpkg.com/circuitsvis@1.43.3/dist/cdn/esm.js\";\n",
       "    render(\n",
       "      \"circuits-vis-a301c0ac-557d\",\n",
       "      ColoredTokens,\n",
       "      {\"tokens\": [\"G\", \"oh\", \" Ch\", \"ok\", \" Tong\", \",\", \" AB\", \" de\", \" Vill\", \"iers\", \",\", \" Scarlett\", \" Joh\", \"ansson\", \",\", \" Diego\", \" Rivera\", \",\", \" Ed\", \" She\", \"er\", \"an\", \",\", \" Heath\", \" Ledger\", \"\\n\", \"Who\", \" among\", \" these\", \" people\", \" mentioned\", \" above\", \" is\", \" from\", \" Australia\", \"?\\n\", \"Answer\", \":\"], \"values\": [0.0047607421875, 0.00010442733764648438, 0.00021076202392578125, 0.00018596649169921875, 6.198883056640625e-05, 0.0002307891845703125, 5.4836273193359375e-05, 0.00079345703125, 0.0004425048828125, 0.005645751953125, 0.00160980224609375, 2.7179718017578125e-05, 8.821487426757812e-06, 6.103515625e-05, 0.00079345703125, 0.000446319580078125, 0.0001163482666015625, 0.0005035400390625, 0.000926971435546875, 0.000301361083984375, 5.185604095458984e-06, 6.198883056640625e-05, 0.0015106201171875, 0.020751953125, 0.87109375, 0.01220703125, 0.0009765625, 0.00213623046875, 0.00168609619140625, 0.002593994140625, 0.0002498626708984375, 0.0005950927734375, 0.002838134765625, 0.0004673004150390625, 0.01177978515625, 0.00872802734375, 6.437301635742188e-05, 0.0189208984375]}\n",
       "    )\n",
       "    </script>"
      ],
      "text/plain": [
       "<circuitsvis.utils.render.RenderedHTML at 0x7f17cc0fe750>"
      ]
     },
     "metadata": {},
     "output_type": "display_data"
    },
    {
     "name": "stdout",
     "output_type": "stream",
     "text": [
      "Layer: 34, Head: 6\n"
     ]
    },
    {
     "data": {
      "text/html": [
       "<div id=\"circuits-vis-c8c22e73-29f0\" style=\"margin: 15px 0;\"/>\n",
       "    <script crossorigin type=\"module\">\n",
       "    import { render, ColoredTokens } from \"https://unpkg.com/circuitsvis@1.43.3/dist/cdn/esm.js\";\n",
       "    render(\n",
       "      \"circuits-vis-c8c22e73-29f0\",\n",
       "      ColoredTokens,\n",
       "      {\"tokens\": [\"G\", \"oh\", \" Ch\", \"ok\", \" Tong\", \",\", \" AB\", \" de\", \" Vill\", \"iers\", \",\", \" Scarlett\", \" Joh\", \"ansson\", \",\", \" Diego\", \" Rivera\", \",\", \" Ed\", \" She\", \"er\", \"an\", \",\", \" Heath\", \" Ledger\", \"\\n\", \"Who\", \" among\", \" these\", \" people\", \" mentioned\", \" above\", \" is\", \" from\", \" Australia\", \"?\\n\", \"Answer\", \":\"], \"values\": [0.027099609375, 0.00110626220703125, 0.0016021728515625, 0.00225830078125, 0.00029754638671875, 0.0010833740234375, 0.0004520416259765625, 0.0034027099609375, 0.001312255859375, 0.00970458984375, 0.00457763671875, 0.00019168853759765625, 2.288818359375e-05, 0.0001239776611328125, 0.0019378662109375, 0.0016021728515625, 0.0004749298095703125, 0.00121307373046875, 0.005218505859375, 0.00067901611328125, 2.765655517578125e-05, 0.00017452239990234375, 0.0032958984375, 0.046142578125, 0.51171875, 0.03173828125, 0.006378173828125, 0.00970458984375, 0.006561279296875, 0.00543212890625, 0.00179290771484375, 0.00347900390625, 0.017333984375, 0.00110626220703125, 0.01318359375, 0.029296875, 0.0009002685546875, 0.09033203125]}\n",
       "    )\n",
       "    </script>"
      ],
      "text/plain": [
       "<circuitsvis.utils.render.RenderedHTML at 0x7f176c322ad0>"
      ]
     },
     "metadata": {},
     "output_type": "display_data"
    },
    {
     "name": "stdout",
     "output_type": "stream",
     "text": [
      "Layer: 34, Head: 7\n"
     ]
    },
    {
     "data": {
      "text/html": [
       "<div id=\"circuits-vis-748aff15-5ae4\" style=\"margin: 15px 0;\"/>\n",
       "    <script crossorigin type=\"module\">\n",
       "    import { render, ColoredTokens } from \"https://unpkg.com/circuitsvis@1.43.3/dist/cdn/esm.js\";\n",
       "    render(\n",
       "      \"circuits-vis-748aff15-5ae4\",\n",
       "      ColoredTokens,\n",
       "      {\"tokens\": [\"G\", \"oh\", \" Ch\", \"ok\", \" Tong\", \",\", \" AB\", \" de\", \" Vill\", \"iers\", \",\", \" Scarlett\", \" Joh\", \"ansson\", \",\", \" Diego\", \" Rivera\", \",\", \" Ed\", \" She\", \"er\", \"an\", \",\", \" Heath\", \" Ledger\", \"\\n\", \"Who\", \" among\", \" these\", \" people\", \" mentioned\", \" above\", \" is\", \" from\", \" Australia\", \"?\\n\", \"Answer\", \":\"], \"values\": [0.028076171875, 0.000530242919921875, 0.00131988525390625, 0.0017852783203125, 0.0012969970703125, 0.0023040771484375, 0.000270843505859375, 0.0025177001953125, 0.00323486328125, 0.0172119140625, 0.00396728515625, 0.0003833770751953125, 0.000232696533203125, 0.000812530517578125, 0.002105712890625, 0.0024566650390625, 0.002227783203125, 0.003387451171875, 0.002532958984375, 0.00186920166015625, 0.0003185272216796875, 0.0012359619140625, 0.00390625, 0.0341796875, 0.53125, 0.02197265625, 0.005889892578125, 0.01531982421875, 0.0242919921875, 0.00860595703125, 0.003265380859375, 0.01251220703125, 0.01141357421875, 0.003021240234375, 0.044677734375, 0.060546875, 0.00150299072265625, 0.06005859375]}\n",
       "    )\n",
       "    </script>"
      ],
      "text/plain": [
       "<circuitsvis.utils.render.RenderedHTML at 0x7f176c3238d0>"
      ]
     },
     "metadata": {},
     "output_type": "display_data"
    },
    {
     "name": "stdout",
     "output_type": "stream",
     "text": [
      "Layer: 35, Head: 19\n"
     ]
    },
    {
     "data": {
      "text/html": [
       "<div id=\"circuits-vis-efe253b5-a906\" style=\"margin: 15px 0;\"/>\n",
       "    <script crossorigin type=\"module\">\n",
       "    import { render, ColoredTokens } from \"https://unpkg.com/circuitsvis@1.43.3/dist/cdn/esm.js\";\n",
       "    render(\n",
       "      \"circuits-vis-efe253b5-a906\",\n",
       "      ColoredTokens,\n",
       "      {\"tokens\": [\"G\", \"oh\", \" Ch\", \"ok\", \" Tong\", \",\", \" AB\", \" de\", \" Vill\", \"iers\", \",\", \" Scarlett\", \" Joh\", \"ansson\", \",\", \" Diego\", \" Rivera\", \",\", \" Ed\", \" She\", \"er\", \"an\", \",\", \" Heath\", \" Ledger\", \"\\n\", \"Who\", \" among\", \" these\", \" people\", \" mentioned\", \" above\", \" is\", \" from\", \" Australia\", \"?\\n\", \"Answer\", \":\"], \"values\": [0.01190185546875, 0.0013885498046875, 0.00396728515625, 0.005615234375, 0.0115966796875, 0.0162353515625, 0.004241943359375, 0.0419921875, 0.0849609375, 0.283203125, 0.03857421875, 0.003814697265625, 0.00811767578125, 0.0194091796875, 0.01251220703125, 0.0078125, 0.060546875, 0.0267333984375, 0.004180908203125, 0.0172119140625, 0.0174560546875, 0.023193359375, 0.002899169921875, 0.01202392578125, 0.158203125, 0.0120849609375, 0.00075531005859375, 0.0003528594970703125, 0.0015411376953125, 0.0003986358642578125, 9.775161743164062e-05, 9.775161743164062e-05, 0.00016117095947265625, 0.0029449462890625, 0.00531005859375, 0.0027923583984375, 9.202957153320312e-05, 0.00189971923828125]}\n",
       "    )\n",
       "    </script>"
      ],
      "text/plain": [
       "<circuitsvis.utils.render.RenderedHTML at 0x7f176c341e50>"
      ]
     },
     "metadata": {},
     "output_type": "display_data"
    },
    {
     "name": "stdout",
     "output_type": "stream",
     "text": [
      "Layer: 39, Head: 40\n"
     ]
    },
    {
     "data": {
      "text/html": [
       "<div id=\"circuits-vis-188303ea-1f7c\" style=\"margin: 15px 0;\"/>\n",
       "    <script crossorigin type=\"module\">\n",
       "    import { render, ColoredTokens } from \"https://unpkg.com/circuitsvis@1.43.3/dist/cdn/esm.js\";\n",
       "    render(\n",
       "      \"circuits-vis-188303ea-1f7c\",\n",
       "      ColoredTokens,\n",
       "      {\"tokens\": [\"G\", \"oh\", \" Ch\", \"ok\", \" Tong\", \",\", \" AB\", \" de\", \" Vill\", \"iers\", \",\", \" Scarlett\", \" Joh\", \"ansson\", \",\", \" Diego\", \" Rivera\", \",\", \" Ed\", \" She\", \"er\", \"an\", \",\", \" Heath\", \" Ledger\", \"\\n\", \"Who\", \" among\", \" these\", \" people\", \" mentioned\", \" above\", \" is\", \" from\", \" Australia\", \"?\\n\", \"Answer\", \":\"], \"values\": [0.00433349609375, 0.000568389892578125, 0.0029449462890625, 0.003082275390625, 0.0035247802734375, 0.017578125, 0.0015716552734375, 0.031494140625, 0.00579833984375, 0.05859375, 0.0240478515625, 0.00116729736328125, 8.869171142578125e-05, 0.0012664794921875, 0.0042724609375, 0.0130615234375, 0.00286865234375, 0.0037689208984375, 0.00592041015625, 0.00188446044921875, 0.000789642333984375, 0.006561279296875, 0.003082275390625, 0.125, 0.53515625, 0.00439453125, 0.00075531005859375, 0.003204345703125, 0.00075531005859375, 0.0002460479736328125, 0.00015544891357421875, 0.00017642974853515625, 0.001190185546875, 0.000545501708984375, 0.006561279296875, 0.039306640625, 0.00070953369140625, 0.0264892578125]}\n",
       "    )\n",
       "    </script>"
      ],
      "text/plain": [
       "<circuitsvis.utils.render.RenderedHTML at 0x7f17ac1d7b10>"
      ]
     },
     "metadata": {},
     "output_type": "display_data"
    },
    {
     "name": "stdout",
     "output_type": "stream",
     "text": [
      "Layer: 42, Head: 30\n"
     ]
    },
    {
     "data": {
      "text/html": [
       "<div id=\"circuits-vis-7f7759d5-62c6\" style=\"margin: 15px 0;\"/>\n",
       "    <script crossorigin type=\"module\">\n",
       "    import { render, ColoredTokens } from \"https://unpkg.com/circuitsvis@1.43.3/dist/cdn/esm.js\";\n",
       "    render(\n",
       "      \"circuits-vis-7f7759d5-62c6\",\n",
       "      ColoredTokens,\n",
       "      {\"tokens\": [\"G\", \"oh\", \" Ch\", \"ok\", \" Tong\", \",\", \" AB\", \" de\", \" Vill\", \"iers\", \",\", \" Scarlett\", \" Joh\", \"ansson\", \",\", \" Diego\", \" Rivera\", \",\", \" Ed\", \" She\", \"er\", \"an\", \",\", \" Heath\", \" Ledger\", \"\\n\", \"Who\", \" among\", \" these\", \" people\", \" mentioned\", \" above\", \" is\", \" from\", \" Australia\", \"?\\n\", \"Answer\", \":\"], \"values\": [0.00555419921875, 0.013671875, 0.00830078125, 0.0155029296875, 0.01031494140625, 0.01141357421875, 0.029296875, 0.03271484375, 0.042236328125, 0.11669921875, 0.007720947265625, 0.00469970703125, 0.004119873046875, 0.005401611328125, 0.0028839111328125, 0.01055908203125, 0.0201416015625, 0.00274658203125, 0.014892578125, 0.0130615234375, 0.0035858154296875, 0.012451171875, 0.002349853515625, 0.068359375, 0.28125, 0.003173828125, 0.00445556640625, 0.0015716552734375, 0.0018310546875, 0.000965118408203125, 0.000762939453125, 0.00054168701171875, 0.00125885009765625, 0.00262451171875, 0.0130615234375, 0.006561279296875, 0.00106048583984375, 0.007476806640625]}\n",
       "    )\n",
       "    </script>"
      ],
      "text/plain": [
       "<circuitsvis.utils.render.RenderedHTML at 0x7ef34c32fd90>"
      ]
     },
     "metadata": {},
     "output_type": "display_data"
    },
    {
     "name": "stdout",
     "output_type": "stream",
     "text": [
      "Layer: 47, Head: 18\n"
     ]
    },
    {
     "data": {
      "text/html": [
       "<div id=\"circuits-vis-f712ba62-6003\" style=\"margin: 15px 0;\"/>\n",
       "    <script crossorigin type=\"module\">\n",
       "    import { render, ColoredTokens } from \"https://unpkg.com/circuitsvis@1.43.3/dist/cdn/esm.js\";\n",
       "    render(\n",
       "      \"circuits-vis-f712ba62-6003\",\n",
       "      ColoredTokens,\n",
       "      {\"tokens\": [\"G\", \"oh\", \" Ch\", \"ok\", \" Tong\", \",\", \" AB\", \" de\", \" Vill\", \"iers\", \",\", \" Scarlett\", \" Joh\", \"ansson\", \",\", \" Diego\", \" Rivera\", \",\", \" Ed\", \" She\", \"er\", \"an\", \",\", \" Heath\", \" Ledger\", \"\\n\", \"Who\", \" among\", \" these\", \" people\", \" mentioned\", \" above\", \" is\", \" from\", \" Australia\", \"?\\n\", \"Answer\", \":\"], \"values\": [0.00738525390625, 0.004486083984375, 0.007568359375, 0.01007080078125, 0.00421142578125, 0.020263671875, 0.0185546875, 0.0247802734375, 0.004638671875, 0.09814453125, 0.03271484375, 0.00186920166015625, 0.00130462646484375, 0.005401611328125, 0.0111083984375, 0.017822265625, 0.0021820068359375, 0.0076904296875, 0.054931640625, 0.003662109375, 0.000720977783203125, 0.0242919921875, 0.0050048828125, 0.314453125, 0.15234375, 0.00579833984375, 0.004486083984375, 0.0017852783203125, 0.0008544921875, 0.00030517578125, 0.000179290771484375, 0.000209808349609375, 0.00145721435546875, 0.00095367431640625, 0.0022125244140625, 0.0064697265625, 0.0028076171875, 0.0142822265625]}\n",
       "    )\n",
       "    </script>"
      ],
      "text/plain": [
       "<circuitsvis.utils.render.RenderedHTML at 0x7f176c30ed50>"
      ]
     },
     "metadata": {},
     "output_type": "display_data"
    },
    {
     "name": "stdout",
     "output_type": "stream",
     "text": [
      "Layer: 52, Head: 58\n"
     ]
    },
    {
     "data": {
      "text/html": [
       "<div id=\"circuits-vis-c63b32a6-5e97\" style=\"margin: 15px 0;\"/>\n",
       "    <script crossorigin type=\"module\">\n",
       "    import { render, ColoredTokens } from \"https://unpkg.com/circuitsvis@1.43.3/dist/cdn/esm.js\";\n",
       "    render(\n",
       "      \"circuits-vis-c63b32a6-5e97\",\n",
       "      ColoredTokens,\n",
       "      {\"tokens\": [\"G\", \"oh\", \" Ch\", \"ok\", \" Tong\", \",\", \" AB\", \" de\", \" Vill\", \"iers\", \",\", \" Scarlett\", \" Joh\", \"ansson\", \",\", \" Diego\", \" Rivera\", \",\", \" Ed\", \" She\", \"er\", \"an\", \",\", \" Heath\", \" Ledger\", \"\\n\", \"Who\", \" among\", \" these\", \" people\", \" mentioned\", \" above\", \" is\", \" from\", \" Australia\", \"?\\n\", \"Answer\", \":\"], \"values\": [0.003082275390625, 0.0025177001953125, 0.01263427734375, 0.024169921875, 0.001953125, 0.0084228515625, 0.039306640625, 0.05029296875, 0.01007080078125, 0.09716796875, 0.00408935546875, 0.000766754150390625, 0.004058837890625, 0.003326416015625, 0.00170135498046875, 0.0023956298828125, 0.0052490234375, 0.0013427734375, 0.006317138671875, 0.0107421875, 0.00101470947265625, 0.00299072265625, 0.00081634521484375, 0.123046875, 0.390625, 0.001953125, 0.00017070770263671875, 0.00124359130859375, 0.00016021728515625, 7.581710815429688e-05, 0.0002574920654296875, 0.0001659393310546875, 0.00018787384033203125, 0.0003299713134765625, 0.0026702880859375, 0.001068115234375, 0.0004100799560546875, 0.00225830078125]}\n",
       "    )\n",
       "    </script>"
      ],
      "text/plain": [
       "<circuitsvis.utils.render.RenderedHTML at 0x7f17cc15f190>"
      ]
     },
     "metadata": {},
     "output_type": "display_data"
    }
   ],
   "source": [
    "# for group_id in group_id_to_head_indices:\n",
    "for layer_idx, head_idx in HEADS:\n",
    "    print(\n",
    "        f\"Layer: {layer_idx}, Head: {head_idx}\"\n",
    "    )\n",
    "\n",
    "    head_matrix = torch.Tensor(attn_matrices.attention_matrices[layer_idx, head_idx]).squeeze()\n",
    "    visualize_attn_matrix(\n",
    "        attn_matrix=head_matrix,\n",
    "        tokens=[mt.tokenizer.decode(t) for t in tokenized.input_ids[0]],\n",
    "        q_index=-1,\n",
    "        start_from=1\n",
    "    )"
   ]
  },
  {
   "cell_type": "code",
   "execution_count": 153,
   "id": "ea4eec49",
   "metadata": {},
   "outputs": [
    {
     "name": "stdout",
     "output_type": "stream",
     "text": [
      "Which of these landmarks is located in Brazil?\n",
      "options:\n",
      "1. The Space Needle\n",
      "2. Louvre Museum\n",
      "3. Colosseum\n",
      "4. Christ the Redeemer\n",
      "5. State of Liberty\n",
      "6. Big Ben\n",
      "Answer:\n",
      " 4. Christ the Redeemer\n",
      "Explanation: Christ the Redeemer is a famous landmark located in\n"
     ]
    }
   ],
   "source": [
    "import random\n",
    "\n",
    "# options = [\"Table\", \"Orange\", \"Transistor\", \"Spinach\", \"Piano\", \"Coffee\"]\n",
    "# prompt_template = \"\"\"Which of these objects is by type a {}?\n",
    "# options: {}\n",
    "# Answer:\"\"\"\n",
    "# prompt = prompt_template.format(\n",
    "#     \"musical instrument\",\n",
    "#     \", \".join(options)\n",
    "# )\n",
    "# print(prompt)\n",
    "\n",
    "# options = [\"anaconda\", \"python\", \"cobra\", \"viper\", \"mamba\", \"rattlesnake\"]\n",
    "# prompt = f\"\"\"Which of these snake names is also a programming language?\n",
    "# options: {\", \".join(options)}\n",
    "# Answer:\"\"\"\n",
    "\n",
    "options = [\n",
    "    \"The Space Needle\",\n",
    "    \"Louvre Museum\",\n",
    "    \"Colosseum\",\n",
    "    \"Christ the Redeemer\",\n",
    "    \"State of Liberty\",\n",
    "    \"Big Ben\",\n",
    "]\n",
    "# options += [\"Eiffel Tower\"]\n",
    "# random.shuffle(options)\n",
    "country = \"Brazil\"\n",
    "prompt_template = \"\"\"Which of these landmarks is located in {}?\n",
    "options:\\n{}\n",
    "Answer:\"\"\"\n",
    "prompt = prompt_template.format(\n",
    "    country, \"\\n\".join([f\"{idx+1}. {opt}\" for idx, opt in enumerate(options)])\n",
    ")\n",
    "\n",
    "print(prompt)\n",
    "\n",
    "gen = generate_with_patch(\n",
    "    mt=mt,\n",
    "    inputs=prompt,\n",
    "    n_gen_per_prompt=1,\n",
    "    max_new_tokens=20,\n",
    "    remove_prefix=True,\n",
    ")[0]\n",
    "print(gen)\n",
    "# predict_next_token(\n",
    "#     mt=mt,\n",
    "#     inputs=prompt,\n",
    "# )"
   ]
  },
  {
   "cell_type": "code",
   "execution_count": 154,
   "id": "2f21e5d3",
   "metadata": {},
   "outputs": [
    {
     "name": "stdout",
     "output_type": "stream",
     "text": [
      "layer=35\n"
     ]
    },
    {
     "data": {
      "text/html": [
       "<div id=\"circuits-vis-9791649d-b09d\" style=\"margin: 15px 0;\"/>\n",
       "    <script crossorigin type=\"module\">\n",
       "    import { render, ColoredTokens } from \"https://unpkg.com/circuitsvis@1.43.3/dist/cdn/esm.js\";\n",
       "    render(\n",
       "      \"circuits-vis-9791649d-b09d\",\n",
       "      ColoredTokens,\n",
       "      {\"tokens\": [\"Which\", \" of\", \" these\", \" landmarks\", \" is\", \" located\", \" in\", \" Brazil\", \"?\\n\", \"options\", \":\\n\", \"1\", \".\", \" The\", \" Space\", \" Needle\", \"\\n\", \"2\", \".\", \" Lou\", \"vre\", \" Museum\", \"\\n\", \"3\", \".\", \" Col\", \"os\", \"se\", \"um\", \"\\n\", \"4\", \".\", \" Christ\", \" the\", \" Rede\", \"emer\", \"\\n\", \"5\", \".\", \" State\", \" of\", \" Liberty\", \"\\n\", \"6\", \".\", \" Big\", \" Ben\", \"\\n\", \"Answer\", \":\"], \"values\": [0.03257519006729126, 0.010687649250030518, 0.00359499454498291, 0.003918953239917755, 0.005155891180038452, 0.0048201680183410645, 0.002704579383134842, 0.011603772640228271, 0.01674211025238037, 0.007242977619171143, 0.008703470230102539, 0.016772091388702393, 0.002420395612716675, 0.0022500082850456238, 0.0004853876307606697, 0.0015850663185119629, 0.005228102207183838, 0.009329497814178467, 0.0020233802497386932, 0.0007555261254310608, 0.000680919736623764, 0.0014718994498252869, 0.003243163228034973, 0.006711721420288086, 0.0010374970734119415, 0.0009794468060135841, 0.00021594739519059658, 0.006218403577804565, 0.0010921014472842216, 0.0038873180747032166, 0.014821991324424744, 0.0010506287217140198, 0.004844039678573608, 0.0020425543189048767, 0.001805175095796585, 0.012888073921203613, 0.05798536539077759, 0.02264004945755005, 0.00210527703166008, 0.0005616750568151474, 0.0004123318940401077, 0.0033652931451797485, 0.008307546377182007, 0.010441005229949951, 0.0007757134735584259, 0.0005292072892189026, 0.0013533905148506165, 0.0023545026779174805, 0.03126513957977295, 0.029726386070251465]}\n",
       "    )\n",
       "    </script>"
      ],
      "text/plain": [
       "<circuitsvis.utils.render.RenderedHTML at 0x7ef34681ed10>"
      ]
     },
     "metadata": {},
     "output_type": "display_data"
    },
    {
     "name": "stdout",
     "output_type": "stream",
     "text": [
      "--------------------------------------------------------------------------------\n",
      "layer=47\n"
     ]
    },
    {
     "data": {
      "text/html": [
       "<div id=\"circuits-vis-4f634ea6-13d4\" style=\"margin: 15px 0;\"/>\n",
       "    <script crossorigin type=\"module\">\n",
       "    import { render, ColoredTokens } from \"https://unpkg.com/circuitsvis@1.43.3/dist/cdn/esm.js\";\n",
       "    render(\n",
       "      \"circuits-vis-4f634ea6-13d4\",\n",
       "      ColoredTokens,\n",
       "      {\"tokens\": [\"Which\", \" of\", \" these\", \" landmarks\", \" is\", \" located\", \" in\", \" Brazil\", \"?\\n\", \"options\", \":\\n\", \"1\", \".\", \" The\", \" Space\", \" Needle\", \"\\n\", \"2\", \".\", \" Lou\", \"vre\", \" Museum\", \"\\n\", \"3\", \".\", \" Col\", \"os\", \"se\", \"um\", \"\\n\", \"4\", \".\", \" Christ\", \" the\", \" Rede\", \"emer\", \"\\n\", \"5\", \".\", \" State\", \" of\", \" Liberty\", \"\\n\", \"6\", \".\", \" Big\", \" Ben\", \"\\n\", \"Answer\", \":\"], \"values\": [0.004529893398284912, 0.0015121474862098694, 0.0007355697453022003, 0.001097753643989563, 0.000912155956029892, 0.0005169231444597244, 0.00045112520456314087, 0.0017459690570831299, 0.003591492772102356, 0.0018878169357776642, 0.0013346336781978607, 0.0012126453220844269, 0.0006029801443219185, 0.00047447532415390015, 0.0002079424448311329, 0.00045702792704105377, 0.0007001794874668121, 0.0007776767015457153, 0.0004758737049996853, 0.00015177717432379723, 0.0002753697335720062, 0.0003325296565890312, 0.0002819206565618515, 0.0015541985630989075, 0.0002989510539919138, 0.00025765085592865944, 0.00015990855172276497, 0.0006447546184062958, 0.00019553862512111664, 0.0004789615049958229, 0.006789091974496841, 0.0004142049001529813, 0.0010044556111097336, 0.0006124887149780989, 0.000377424992620945, 0.001834232360124588, 0.010205980390310287, 0.0012946799397468567, 0.0003788350149989128, 0.00019409321248531342, 0.00031277118250727654, 0.0009517818689346313, 0.000996951013803482, 0.0007734708487987518, 0.0002695508301258087, 0.00029489491134881973, 0.0005289744585752487, 0.0005826391279697418, 0.015181660652160645, 0.0023638978600502014]}\n",
       "    )\n",
       "    </script>"
      ],
      "text/plain": [
       "<circuitsvis.utils.render.RenderedHTML at 0x7f176c48a310>"
      ]
     },
     "metadata": {},
     "output_type": "display_data"
    },
    {
     "name": "stdout",
     "output_type": "stream",
     "text": [
      "--------------------------------------------------------------------------------\n",
      "layer=52\n"
     ]
    },
    {
     "data": {
      "text/html": [
       "<div id=\"circuits-vis-505ac896-ebed\" style=\"margin: 15px 0;\"/>\n",
       "    <script crossorigin type=\"module\">\n",
       "    import { render, ColoredTokens } from \"https://unpkg.com/circuitsvis@1.43.3/dist/cdn/esm.js\";\n",
       "    render(\n",
       "      \"circuits-vis-505ac896-ebed\",\n",
       "      ColoredTokens,\n",
       "      {\"tokens\": [\"Which\", \" of\", \" these\", \" landmarks\", \" is\", \" located\", \" in\", \" Brazil\", \"?\\n\", \"options\", \":\\n\", \"1\", \".\", \" The\", \" Space\", \" Needle\", \"\\n\", \"2\", \".\", \" Lou\", \"vre\", \" Museum\", \"\\n\", \"3\", \".\", \" Col\", \"os\", \"se\", \"um\", \"\\n\", \"4\", \".\", \" Christ\", \" the\", \" Rede\", \"emer\", \"\\n\", \"5\", \".\", \" State\", \" of\", \" Liberty\", \"\\n\", \"6\", \".\", \" Big\", \" Ben\", \"\\n\", \"Answer\", \":\"], \"values\": [0.0060596466064453125, 0.0034622475504875183, 0.0015770792961120605, 0.0019217580556869507, 0.00219687819480896, 0.0026777610182762146, 0.0014103315770626068, 0.0028195008635520935, 0.016159459948539734, 0.010395437479019165, 0.008858785033226013, 0.0071009621024131775, 0.0022913627326488495, 0.002087663859128952, 0.0006894408725202084, 0.0008287986274808645, 0.0035945624113082886, 0.005640354007482529, 0.0010656993836164474, 0.0009975209832191467, 0.0006571319536305964, 0.0006481288000941277, 0.001169394701719284, 0.0028252359479665756, 0.0008828137069940567, 0.0013899803161621094, 0.0003913997206836939, 0.0013332907110452652, 0.00045389775186777115, 0.0017016762867569923, 0.012400384992361069, 0.001161809079349041, 0.00713682547211647, 0.0033094603568315506, 0.001582115888595581, 0.004389507696032524, 0.018838956952095032, 0.0038963332772254944, 0.0008410690352320671, 0.0004559634253382683, 0.000553756020963192, 0.0020292066037654877, 0.004778727889060974, 0.0029875077307224274, 0.0005318960174918175, 0.000762157142162323, 0.0007951455190777779, 0.0029710251837968826, 0.029927819967269897, 0.015921300277113914]}\n",
       "    )\n",
       "    </script>"
      ],
      "text/plain": [
       "<circuitsvis.utils.render.RenderedHTML at 0x7f17cc15eed0>"
      ]
     },
     "metadata": {},
     "output_type": "display_data"
    },
    {
     "name": "stdout",
     "output_type": "stream",
     "text": [
      "--------------------------------------------------------------------------------\n"
     ]
    },
    {
     "data": {
      "text/plain": [
       "[PredictedToken(token=' ', prob=0.6484375, logit=21.125, token_id=220, metadata=None),\n",
       " PredictedToken(token=' Christ', prob=0.1640625, logit=19.75, token_id=3771, metadata=None),\n",
       " PredictedToken(token=' \\n', prob=0.068359375, logit=18.875, token_id=720, metadata=None),\n",
       " PredictedToken(token=' The', prob=0.022216796875, logit=17.75, token_id=578, metadata=None),\n",
       " PredictedToken(token=' Number', prob=0.0196533203125, logit=17.625, token_id=5742, metadata=None)]"
      ]
     },
     "execution_count": 154,
     "metadata": {},
     "output_type": "execute_result"
    }
   ],
   "source": [
    "from src.attention import get_attention_matrices, visualize_average_attn_matrix\n",
    "from src.functional import interpret_logits\n",
    "from src.tokens import prepare_input\n",
    "\n",
    "tokenized = prepare_input(\n",
    "    tokenizer=mt,\n",
    "    prompts=prompt\n",
    ")\n",
    "\n",
    "attn_matrices = get_attention_matrices(\n",
    "    input=tokenized,\n",
    "    mt=mt,\n",
    "    value_weighted=False,\n",
    "    # patches = []\n",
    ")\n",
    "\n",
    "visualize_average_attn_matrix(\n",
    "    mt=mt,\n",
    "    attn_matrices=attn_matrices,\n",
    "    prompt=prompt,\n",
    "    tokenized=tokenized,\n",
    "    layer_window=LAYERS,\n",
    ")\n",
    "\n",
    "interpret_logits(tokenizer=mt, logits=attn_matrices.logits)"
   ]
  },
  {
   "cell_type": "code",
   "execution_count": 155,
   "id": "a3fb098d",
   "metadata": {},
   "outputs": [
    {
     "name": "stdout",
     "output_type": "stream",
     "text": [
      "Layer: 33, Head: 45\n"
     ]
    },
    {
     "data": {
      "text/html": [
       "<div id=\"circuits-vis-e368667e-8529\" style=\"margin: 15px 0;\"/>\n",
       "    <script crossorigin type=\"module\">\n",
       "    import { render, ColoredTokens } from \"https://unpkg.com/circuitsvis@1.43.3/dist/cdn/esm.js\";\n",
       "    render(\n",
       "      \"circuits-vis-e368667e-8529\",\n",
       "      ColoredTokens,\n",
       "      {\"tokens\": [\"Which\", \" of\", \" these\", \" landmarks\", \" is\", \" located\", \" in\", \" Brazil\", \"?\\n\", \"options\", \":\\n\", \"1\", \".\", \" The\", \" Space\", \" Needle\", \"\\n\", \"2\", \".\", \" Lou\", \"vre\", \" Museum\", \"\\n\", \"3\", \".\", \" Col\", \"os\", \"se\", \"um\", \"\\n\", \"4\", \".\", \" Christ\", \" the\", \" Rede\", \"emer\", \"\\n\", \"5\", \".\", \" State\", \" of\", \" Liberty\", \"\\n\", \"6\", \".\", \" Big\", \" Ben\", \"\\n\", \"Answer\", \":\"], \"values\": [0.0169677734375, 0.006256103515625, 0.003936767578125, 0.0059814453125, 0.006561279296875, 0.003570556640625, 0.00133514404296875, 0.01190185546875, 0.01239013671875, 0.0113525390625, 0.01458740234375, 0.03369140625, 0.00156402587890625, 0.004302978515625, 0.00188446044921875, 0.003570556640625, 0.0034637451171875, 0.031494140625, 0.0030517578125, 0.0079345703125, 0.00677490234375, 0.004730224609375, 0.005279541015625, 0.03271484375, 0.00335693359375, 0.004302978515625, 0.002532958984375, 0.001251220703125, 0.003997802734375, 0.004669189453125, 0.047119140625, 0.0009613037109375, 0.043212890625, 0.0189208984375, 0.0108642578125, 0.033935546875, 0.08544921875, 0.0120849609375, 0.0009613037109375, 0.00110626220703125, 0.00921630859375, 0.0079345703125, 0.00616455078125, 0.006683349609375, 0.00115966796875, 0.0016632080078125, 0.0009613037109375, 0.000499725341796875, 0.0189208984375, 0.0181884765625]}\n",
       "    )\n",
       "    </script>"
      ],
      "text/plain": [
       "<circuitsvis.utils.render.RenderedHTML at 0x7f17ac12e110>"
      ]
     },
     "metadata": {},
     "output_type": "display_data"
    },
    {
     "name": "stdout",
     "output_type": "stream",
     "text": [
      "Layer: 33, Head: 18\n"
     ]
    },
    {
     "data": {
      "text/html": [
       "<div id=\"circuits-vis-832f6330-5845\" style=\"margin: 15px 0;\"/>\n",
       "    <script crossorigin type=\"module\">\n",
       "    import { render, ColoredTokens } from \"https://unpkg.com/circuitsvis@1.43.3/dist/cdn/esm.js\";\n",
       "    render(\n",
       "      \"circuits-vis-832f6330-5845\",\n",
       "      ColoredTokens,\n",
       "      {\"tokens\": [\"Which\", \" of\", \" these\", \" landmarks\", \" is\", \" located\", \" in\", \" Brazil\", \"?\\n\", \"options\", \":\\n\", \"1\", \".\", \" The\", \" Space\", \" Needle\", \"\\n\", \"2\", \".\", \" Lou\", \"vre\", \" Museum\", \"\\n\", \"3\", \".\", \" Col\", \"os\", \"se\", \"um\", \"\\n\", \"4\", \".\", \" Christ\", \" the\", \" Rede\", \"emer\", \"\\n\", \"5\", \".\", \" State\", \" of\", \" Liberty\", \"\\n\", \"6\", \".\", \" Big\", \" Ben\", \"\\n\", \"Answer\", \":\"], \"values\": [0.010009765625, 0.0010833740234375, 0.0016021728515625, 0.000644683837890625, 0.0005950927734375, 5.793571472167969e-05, 0.00018405914306640625, 0.003326416015625, 0.004058837890625, 0.00148773193359375, 0.0016326904296875, 0.11181640625, 0.006011962890625, 0.01116943359375, 0.0007171630859375, 0.00179290771484375, 0.036865234375, 0.11865234375, 0.000576019287109375, 0.0054931640625, 0.00099945068359375, 0.000762939453125, 0.005157470703125, 0.07080078125, 0.000949859619140625, 0.0033721923828125, 0.000308990478515625, 0.0004863739013671875, 0.000614166259765625, 0.01019287109375, 0.09716796875, 0.0003662109375, 0.01458740234375, 0.0048828125, 0.00102996826171875, 0.0145263671875, 0.244140625, 0.10009765625, 0.003662109375, 0.0002899169921875, 0.000339508056640625, 0.002227783203125, 0.01446533203125, 0.0196533203125, 0.000614166259765625, 0.000949859619140625, 0.00089263916015625, 0.00113677978515625, 0.00201416015625, 0.002288818359375]}\n",
       "    )\n",
       "    </script>"
      ],
      "text/plain": [
       "<circuitsvis.utils.render.RenderedHTML at 0x7f1815b50250>"
      ]
     },
     "metadata": {},
     "output_type": "display_data"
    },
    {
     "name": "stdout",
     "output_type": "stream",
     "text": [
      "Layer: 34, Head: 1\n"
     ]
    },
    {
     "data": {
      "text/html": [
       "<div id=\"circuits-vis-0055b1f6-ad64\" style=\"margin: 15px 0;\"/>\n",
       "    <script crossorigin type=\"module\">\n",
       "    import { render, ColoredTokens } from \"https://unpkg.com/circuitsvis@1.43.3/dist/cdn/esm.js\";\n",
       "    render(\n",
       "      \"circuits-vis-0055b1f6-ad64\",\n",
       "      ColoredTokens,\n",
       "      {\"tokens\": [\"Which\", \" of\", \" these\", \" landmarks\", \" is\", \" located\", \" in\", \" Brazil\", \"?\\n\", \"options\", \":\\n\", \"1\", \".\", \" The\", \" Space\", \" Needle\", \"\\n\", \"2\", \".\", \" Lou\", \"vre\", \" Museum\", \"\\n\", \"3\", \".\", \" Col\", \"os\", \"se\", \"um\", \"\\n\", \"4\", \".\", \" Christ\", \" the\", \" Rede\", \"emer\", \"\\n\", \"5\", \".\", \" State\", \" of\", \" Liberty\", \"\\n\", \"6\", \".\", \" Big\", \" Ben\", \"\\n\", \"Answer\", \":\"], \"values\": [0.018798828125, 0.007781982421875, 0.00139617919921875, 0.000514984130859375, 0.00408935546875, 0.0015106201171875, 0.000701904296875, 0.0125732421875, 0.00634765625, 0.00165557861328125, 0.0020904541015625, 0.009521484375, 0.00018310546875, 0.00135040283203125, 4.76837158203125e-05, 3.504753112792969e-05, 6.532669067382812e-05, 0.005096435546875, 0.00144195556640625, 0.00021457672119140625, 9.119510650634766e-06, 1.5497207641601562e-05, 3.2901763916015625e-05, 0.028076171875, 0.0002422332763671875, 0.0028228759765625, 2.4080276489257812e-05, 0.00160980224609375, 7.092952728271484e-06, 7.390975952148438e-05, 0.01513671875, 6.961822509765625e-05, 0.0208740234375, 0.01458740234375, 0.005706787109375, 0.06640625, 0.353515625, 0.0208740234375, 0.00018310546875, 2.8133392333984375e-05, 0.000759124755859375, 8.630752563476562e-05, 0.00021457672119140625, 0.003570556640625, 3.504753112792969e-05, 4.3392181396484375e-05, 3.7997961044311523e-06, 1.0311603546142578e-05, 0.004241943359375, 0.0169677734375]}\n",
       "    )\n",
       "    </script>"
      ],
      "text/plain": [
       "<circuitsvis.utils.render.RenderedHTML at 0x7f176c30d310>"
      ]
     },
     "metadata": {},
     "output_type": "display_data"
    },
    {
     "name": "stdout",
     "output_type": "stream",
     "text": [
      "Layer: 34, Head: 6\n"
     ]
    },
    {
     "data": {
      "text/html": [
       "<div id=\"circuits-vis-df6cda72-dfcc\" style=\"margin: 15px 0;\"/>\n",
       "    <script crossorigin type=\"module\">\n",
       "    import { render, ColoredTokens } from \"https://unpkg.com/circuitsvis@1.43.3/dist/cdn/esm.js\";\n",
       "    render(\n",
       "      \"circuits-vis-df6cda72-dfcc\",\n",
       "      ColoredTokens,\n",
       "      {\"tokens\": [\"Which\", \" of\", \" these\", \" landmarks\", \" is\", \" located\", \" in\", \" Brazil\", \"?\\n\", \"options\", \":\\n\", \"1\", \".\", \" The\", \" Space\", \" Needle\", \"\\n\", \"2\", \".\", \" Lou\", \"vre\", \" Museum\", \"\\n\", \"3\", \".\", \" Col\", \"os\", \"se\", \"um\", \"\\n\", \"4\", \".\", \" Christ\", \" the\", \" Rede\", \"emer\", \"\\n\", \"5\", \".\", \" State\", \" of\", \" Liberty\", \"\\n\", \"6\", \".\", \" Big\", \" Ben\", \"\\n\", \"Answer\", \":\"], \"values\": [0.01312255859375, 0.0024566650390625, 0.000370025634765625, 0.0001697540283203125, 0.0022735595703125, 0.001312255859375, 0.000461578369140625, 0.00775146484375, 0.0068359375, 0.0012359619140625, 0.00286865234375, 0.0174560546875, 0.000263214111328125, 0.00084686279296875, 0.0002880096435546875, 0.00015926361083984375, 0.00029754638671875, 0.00897216796875, 0.0009613037109375, 0.0005645751953125, 6.0558319091796875e-05, 0.00010967254638671875, 0.00014972686767578125, 0.0283203125, 0.0001983642578125, 0.004241943359375, 8.535385131835938e-05, 0.00072479248046875, 4.029273986816406e-05, 0.000217437744140625, 0.010986328125, 2.1576881408691406e-05, 0.0284423828125, 0.0225830078125, 0.00872802734375, 0.056396484375, 0.439453125, 0.00909423828125, 0.000263214111328125, 6.246566772460938e-05, 0.000888824462890625, 0.0001544952392578125, 0.000316619873046875, 0.001373291015625, 2.5987625122070312e-05, 5.0067901611328125e-05, 1.0192394256591797e-05, 1.3947486877441406e-05, 0.0016326904296875, 0.0147705078125]}\n",
       "    )\n",
       "    </script>"
      ],
      "text/plain": [
       "<circuitsvis.utils.render.RenderedHTML at 0x7f17ac170c10>"
      ]
     },
     "metadata": {},
     "output_type": "display_data"
    },
    {
     "name": "stdout",
     "output_type": "stream",
     "text": [
      "Layer: 34, Head: 7\n"
     ]
    },
    {
     "data": {
      "text/html": [
       "<div id=\"circuits-vis-95d9caef-4a2b\" style=\"margin: 15px 0;\"/>\n",
       "    <script crossorigin type=\"module\">\n",
       "    import { render, ColoredTokens } from \"https://unpkg.com/circuitsvis@1.43.3/dist/cdn/esm.js\";\n",
       "    render(\n",
       "      \"circuits-vis-95d9caef-4a2b\",\n",
       "      ColoredTokens,\n",
       "      {\"tokens\": [\"Which\", \" of\", \" these\", \" landmarks\", \" is\", \" located\", \" in\", \" Brazil\", \"?\\n\", \"options\", \":\\n\", \"1\", \".\", \" The\", \" Space\", \" Needle\", \"\\n\", \"2\", \".\", \" Lou\", \"vre\", \" Museum\", \"\\n\", \"3\", \".\", \" Col\", \"os\", \"se\", \"um\", \"\\n\", \"4\", \".\", \" Christ\", \" the\", \" Rede\", \"emer\", \"\\n\", \"5\", \".\", \" State\", \" of\", \" Liberty\", \"\\n\", \"6\", \".\", \" Big\", \" Ben\", \"\\n\", \"Answer\", \":\"], \"values\": [0.023681640625, 0.002197265625, 0.0005645751953125, 0.0002079010009765625, 0.0012359619140625, 0.00072479248046875, 0.0003757476806640625, 0.00506591796875, 0.003570556640625, 0.001739501953125, 0.0022735595703125, 0.01153564453125, 0.0003223419189453125, 0.000823974609375, 0.00017833709716796875, 0.00031280517578125, 0.00072479248046875, 0.00994873046875, 0.000736236572265625, 0.000659942626953125, 0.0001430511474609375, 0.00021457672119140625, 0.000400543212890625, 0.0228271484375, 0.0004405975341796875, 0.0020751953125, 9.822845458984375e-05, 0.0016326904296875, 0.0001430511474609375, 0.000919342041015625, 0.0223388671875, 0.00018978118896484375, 0.021728515625, 0.01165771484375, 0.003692626953125, 0.058837890625, 0.37109375, 0.033447265625, 0.000850677490234375, 0.0002079010009765625, 0.001312255859375, 0.00119781494140625, 0.0034637451171875, 0.01104736328125, 0.00026702880859375, 0.00031280517578125, 0.0004405975341796875, 0.000484466552734375, 0.01531982421875, 0.072265625]}\n",
       "    )\n",
       "    </script>"
      ],
      "text/plain": [
       "<circuitsvis.utils.render.RenderedHTML at 0x7f176c3481d0>"
      ]
     },
     "metadata": {},
     "output_type": "display_data"
    },
    {
     "name": "stdout",
     "output_type": "stream",
     "text": [
      "Layer: 35, Head: 19\n"
     ]
    },
    {
     "data": {
      "text/html": [
       "<div id=\"circuits-vis-f210f733-dc2e\" style=\"margin: 15px 0;\"/>\n",
       "    <script crossorigin type=\"module\">\n",
       "    import { render, ColoredTokens } from \"https://unpkg.com/circuitsvis@1.43.3/dist/cdn/esm.js\";\n",
       "    render(\n",
       "      \"circuits-vis-f210f733-dc2e\",\n",
       "      ColoredTokens,\n",
       "      {\"tokens\": [\"Which\", \" of\", \" these\", \" landmarks\", \" is\", \" located\", \" in\", \" Brazil\", \"?\\n\", \"options\", \":\\n\", \"1\", \".\", \" The\", \" Space\", \" Needle\", \"\\n\", \"2\", \".\", \" Lou\", \"vre\", \" Museum\", \"\\n\", \"3\", \".\", \" Col\", \"os\", \"se\", \"um\", \"\\n\", \"4\", \".\", \" Christ\", \" the\", \" Rede\", \"emer\", \"\\n\", \"5\", \".\", \" State\", \" of\", \" Liberty\", \"\\n\", \"6\", \".\", \" Big\", \" Ben\", \"\\n\", \"Answer\", \":\"], \"values\": [0.03466796875, 0.0008087158203125, 0.0002040863037109375, 0.00157928466796875, 0.00128936767578125, 0.0023193359375, 0.00201416015625, 0.0186767578125, 0.00787353515625, 0.00061798095703125, 0.000873565673828125, 0.0021514892578125, 0.0019683837890625, 0.0029754638671875, 0.000514984130859375, 0.0016326904296875, 0.0033416748046875, 0.002777099609375, 0.0032196044921875, 0.002044677734375, 0.000514984130859375, 0.0033416748046875, 0.0020751953125, 0.00408935546875, 0.00182342529296875, 0.00482177734375, 0.0001277923583984375, 0.0004253387451171875, 0.002471923828125, 0.0033416748046875, 0.004241943359375, 0.000301361083984375, 0.041748046875, 0.0206298828125, 0.02001953125, 0.14453125, 0.490234375, 0.0169677734375, 0.00506591796875, 0.000629425048828125, 0.000701904296875, 0.007568359375, 0.006622314453125, 0.0038299560546875, 0.002044677734375, 0.00048828125, 0.00146484375, 0.00119781494140625, 0.0010528564453125, 0.0042724609375]}\n",
       "    )\n",
       "    </script>"
      ],
      "text/plain": [
       "<circuitsvis.utils.render.RenderedHTML at 0x7f1815cc24d0>"
      ]
     },
     "metadata": {},
     "output_type": "display_data"
    },
    {
     "name": "stdout",
     "output_type": "stream",
     "text": [
      "Layer: 39, Head: 40\n"
     ]
    },
    {
     "data": {
      "text/html": [
       "<div id=\"circuits-vis-243bdea1-b96e\" style=\"margin: 15px 0;\"/>\n",
       "    <script crossorigin type=\"module\">\n",
       "    import { render, ColoredTokens } from \"https://unpkg.com/circuitsvis@1.43.3/dist/cdn/esm.js\";\n",
       "    render(\n",
       "      \"circuits-vis-243bdea1-b96e\",\n",
       "      ColoredTokens,\n",
       "      {\"tokens\": [\"Which\", \" of\", \" these\", \" landmarks\", \" is\", \" located\", \" in\", \" Brazil\", \"?\\n\", \"options\", \":\\n\", \"1\", \".\", \" The\", \" Space\", \" Needle\", \"\\n\", \"2\", \".\", \" Lou\", \"vre\", \" Museum\", \"\\n\", \"3\", \".\", \" Col\", \"os\", \"se\", \"um\", \"\\n\", \"4\", \".\", \" Christ\", \" the\", \" Rede\", \"emer\", \"\\n\", \"5\", \".\", \" State\", \" of\", \" Liberty\", \"\\n\", \"6\", \".\", \" Big\", \" Ben\", \"\\n\", \"Answer\", \":\"], \"values\": [0.0216064453125, 0.00848388671875, 0.0010528564453125, 0.001312255859375, 0.01556396484375, 0.0057373046875, 0.0048828125, 0.00689697265625, 0.041748046875, 0.00112152099609375, 0.00677490234375, 0.003997802734375, 0.006988525390625, 0.01129150390625, 0.00010776519775390625, 0.0004405975341796875, 0.000835418701171875, 0.00616455078125, 0.0111083984375, 0.0004138946533203125, 0.000118255615234375, 0.000835418701171875, 0.000736236572265625, 0.04931640625, 0.01080322265625, 0.0113525390625, 0.00012969970703125, 0.0024871826171875, 0.000499725341796875, 0.0020294189453125, 0.0322265625, 0.01263427734375, 0.044189453125, 0.031494140625, 0.002960205078125, 0.130859375, 0.296875, 0.0174560546875, 0.004730224609375, 6.341934204101562e-05, 0.0007476806640625, 0.00060272216796875, 0.00077056884765625, 0.00182342529296875, 0.00153350830078125, 0.00010776519775390625, 0.00015163421630859375, 0.00011110305786132812, 0.01031494140625, 0.048095703125]}\n",
       "    )\n",
       "    </script>"
      ],
      "text/plain": [
       "<circuitsvis.utils.render.RenderedHTML at 0x7f174c5cb050>"
      ]
     },
     "metadata": {},
     "output_type": "display_data"
    },
    {
     "name": "stdout",
     "output_type": "stream",
     "text": [
      "Layer: 42, Head: 30\n"
     ]
    },
    {
     "data": {
      "text/html": [
       "<div id=\"circuits-vis-aa28e223-5231\" style=\"margin: 15px 0;\"/>\n",
       "    <script crossorigin type=\"module\">\n",
       "    import { render, ColoredTokens } from \"https://unpkg.com/circuitsvis@1.43.3/dist/cdn/esm.js\";\n",
       "    render(\n",
       "      \"circuits-vis-aa28e223-5231\",\n",
       "      ColoredTokens,\n",
       "      {\"tokens\": [\"Which\", \" of\", \" these\", \" landmarks\", \" is\", \" located\", \" in\", \" Brazil\", \"?\\n\", \"options\", \":\\n\", \"1\", \".\", \" The\", \" Space\", \" Needle\", \"\\n\", \"2\", \".\", \" Lou\", \"vre\", \" Museum\", \"\\n\", \"3\", \".\", \" Col\", \"os\", \"se\", \"um\", \"\\n\", \"4\", \".\", \" Christ\", \" the\", \" Rede\", \"emer\", \"\\n\", \"5\", \".\", \" State\", \" of\", \" Liberty\", \"\\n\", \"6\", \".\", \" Big\", \" Ben\", \"\\n\", \"Answer\", \":\"], \"values\": [0.007781982421875, 0.0034027099609375, 0.004425048828125, 0.0025634765625, 0.006866455078125, 0.00494384765625, 0.00286865234375, 0.0048828125, 0.01116943359375, 0.001251220703125, 0.003448486328125, 0.00616455078125, 0.00390625, 0.004425048828125, 0.000370025634765625, 0.000629425048828125, 0.00091552734375, 0.006072998046875, 0.004425048828125, 0.0005035400390625, 0.0003376007080078125, 0.000713348388671875, 0.000782012939453125, 0.019775390625, 0.004425048828125, 0.0030059814453125, 0.0004596710205078125, 0.00128936767578125, 0.000629425048828125, 0.0034027099609375, 0.023193359375, 0.004364013671875, 0.013427734375, 0.04345703125, 0.006561279296875, 0.03857421875, 0.0859375, 0.0145263671875, 0.0024871826171875, 0.0002880096435546875, 0.00083160400390625, 0.00182342529296875, 0.0036163330078125, 0.006866455078125, 0.00182342529296875, 0.000888824462890625, 0.0008087158203125, 0.000736236572265625, 0.006072998046875, 0.009521484375]}\n",
       "    )\n",
       "    </script>"
      ],
      "text/plain": [
       "<circuitsvis.utils.render.RenderedHTML at 0x7f176c380710>"
      ]
     },
     "metadata": {},
     "output_type": "display_data"
    },
    {
     "name": "stdout",
     "output_type": "stream",
     "text": [
      "Layer: 47, Head: 18\n"
     ]
    },
    {
     "data": {
      "text/html": [
       "<div id=\"circuits-vis-46ac3212-83f6\" style=\"margin: 15px 0;\"/>\n",
       "    <script crossorigin type=\"module\">\n",
       "    import { render, ColoredTokens } from \"https://unpkg.com/circuitsvis@1.43.3/dist/cdn/esm.js\";\n",
       "    render(\n",
       "      \"circuits-vis-46ac3212-83f6\",\n",
       "      ColoredTokens,\n",
       "      {\"tokens\": [\"Which\", \" of\", \" these\", \" landmarks\", \" is\", \" located\", \" in\", \" Brazil\", \"?\\n\", \"options\", \":\\n\", \"1\", \".\", \" The\", \" Space\", \" Needle\", \"\\n\", \"2\", \".\", \" Lou\", \"vre\", \" Museum\", \"\\n\", \"3\", \".\", \" Col\", \"os\", \"se\", \"um\", \"\\n\", \"4\", \".\", \" Christ\", \" the\", \" Rede\", \"emer\", \"\\n\", \"5\", \".\", \" State\", \" of\", \" Liberty\", \"\\n\", \"6\", \".\", \" Big\", \" Ben\", \"\\n\", \"Answer\", \":\"], \"values\": [0.003173828125, 0.0038299560546875, 0.005615234375, 0.0002613067626953125, 0.004608154296875, 0.00164794921875, 0.00262451171875, 0.0021514892578125, 0.009765625, 0.0002689361572265625, 0.00104522705078125, 0.003021240234375, 0.0035400390625, 0.0029296875, 2.4199485778808594e-05, 6.580352783203125e-05, 0.000568389892578125, 0.00677490234375, 0.00579833984375, 9.012222290039062e-05, 9.47713851928711e-06, 1.9431114196777344e-05, 0.00019073486328125, 0.056640625, 0.0032806396484375, 0.0008392333984375, 1.823902130126953e-05, 0.00164794921875, 5.626678466796875e-05, 0.0029296875, 0.244140625, 0.00714111328125, 0.00897216796875, 0.00592041015625, 0.00142669677734375, 0.025390625, 0.37890625, 0.01007080078125, 0.0017547607421875, 3.743171691894531e-05, 0.00016307830810546875, 0.0001087188720703125, 0.001129150390625, 0.0023651123046875, 0.00074005126953125, 9.870529174804688e-05, 1.1444091796875e-05, 6.198883056640625e-05, 0.002044677734375, 0.006500244140625]}\n",
       "    )\n",
       "    </script>"
      ],
      "text/plain": [
       "<circuitsvis.utils.render.RenderedHTML at 0x7f1815b50250>"
      ]
     },
     "metadata": {},
     "output_type": "display_data"
    },
    {
     "name": "stdout",
     "output_type": "stream",
     "text": [
      "Layer: 52, Head: 58\n"
     ]
    },
    {
     "data": {
      "text/html": [
       "<div id=\"circuits-vis-87df07a6-8b32\" style=\"margin: 15px 0;\"/>\n",
       "    <script crossorigin type=\"module\">\n",
       "    import { render, ColoredTokens } from \"https://unpkg.com/circuitsvis@1.43.3/dist/cdn/esm.js\";\n",
       "    render(\n",
       "      \"circuits-vis-87df07a6-8b32\",\n",
       "      ColoredTokens,\n",
       "      {\"tokens\": [\"Which\", \" of\", \" these\", \" landmarks\", \" is\", \" located\", \" in\", \" Brazil\", \"?\\n\", \"options\", \":\\n\", \"1\", \".\", \" The\", \" Space\", \" Needle\", \"\\n\", \"2\", \".\", \" Lou\", \"vre\", \" Museum\", \"\\n\", \"3\", \".\", \" Col\", \"os\", \"se\", \"um\", \"\\n\", \"4\", \".\", \" Christ\", \" the\", \" Rede\", \"emer\", \"\\n\", \"5\", \".\", \" State\", \" of\", \" Liberty\", \"\\n\", \"6\", \".\", \" Big\", \" Ben\", \"\\n\", \"Answer\", \":\"], \"values\": [0.01190185546875, 0.0098876953125, 0.0048828125, 0.0027008056640625, 0.00482177734375, 0.00885009765625, 0.003936767578125, 0.00958251953125, 0.005706787109375, 6.961822509765625e-05, 0.00194549560546875, 0.000682830810546875, 0.0034637451171875, 0.00830078125, 0.0027008056640625, 0.002197265625, 0.0009307861328125, 0.000850677490234375, 0.0032501220703125, 0.000400543212890625, 0.00010776519775390625, 0.0002841949462890625, 8.153915405273438e-05, 0.0032501220703125, 0.0025787353515625, 0.007110595703125, 0.0015106201171875, 0.001312255859375, 0.000530242919921875, 0.00087738037109375, 0.0133056640625, 0.004058837890625, 0.0712890625, 0.1513671875, 0.061767578125, 0.1279296875, 0.0625, 0.000850677490234375, 0.00115966796875, 0.00017261505126953125, 0.0012359619140625, 0.000377655029296875, 0.0004138946533203125, 0.0003643035888671875, 0.0005645751953125, 0.000293731689453125, 0.00020122528076171875, 4.649162292480469e-05, 0.002777099609375, 0.0125732421875]}\n",
       "    )\n",
       "    </script>"
      ],
      "text/plain": [
       "<circuitsvis.utils.render.RenderedHTML at 0x7f176c366c90>"
      ]
     },
     "metadata": {},
     "output_type": "display_data"
    }
   ],
   "source": [
    "# for group_id in group_id_to_head_indices:\n",
    "for layer_idx, head_idx in HEADS:\n",
    "    print(\n",
    "        f\"Layer: {layer_idx}, Head: {head_idx}\"\n",
    "    )\n",
    "\n",
    "    head_matrix = torch.Tensor(attn_matrices.attention_matrices[layer_idx, head_idx]).squeeze()\n",
    "    visualize_attn_matrix(\n",
    "        attn_matrix=head_matrix,\n",
    "        tokens=[mt.tokenizer.decode(t) for t in tokenized.input_ids[0]],\n",
    "        q_index=-1,\n",
    "        start_from=1\n",
    "    )"
   ]
  },
  {
   "cell_type": "code",
   "execution_count": null,
   "id": "cf6b285c",
   "metadata": {},
   "outputs": [
    {
     "name": "stdout",
     "output_type": "stream",
     "text": [
      "Which of these people is not a scientist?\n",
      "options: Marie Curie, Albert Einstein, Grover Cleveland, Charles Darwin, Nikola Tesla, Issac Newton\n",
      "Answer:\n",
      "layer=35\n"
     ]
    },
    {
     "data": {
      "text/html": [
       "<div id=\"circuits-vis-99e07642-6474\" style=\"margin: 15px 0;\"/>\n",
       "    <script crossorigin type=\"module\">\n",
       "    import { render, ColoredTokens } from \"https://unpkg.com/circuitsvis@1.43.3/dist/cdn/esm.js\";\n",
       "    render(\n",
       "      \"circuits-vis-99e07642-6474\",\n",
       "      ColoredTokens,\n",
       "      {\"tokens\": [\"Which\", \" of\", \" these\", \" people\", \" is\", \" not\", \" a\", \" scientist\", \"?\\n\", \"options\", \":\", \" Marie\", \" Cur\", \"ie\", \",\", \" Albert\", \" Einstein\", \",\", \" Gro\", \"ver\", \" Cleveland\", \",\", \" Charles\", \" Darwin\", \",\", \" Nikola\", \" Tesla\", \",\", \" Iss\", \"ac\", \" Newton\", \"\\n\", \"Answer\", \":\"], \"values\": [0.01913928985595703, 0.004065927118062973, 0.003256186842918396, 0.009845048189163208, 0.0042792633175849915, 0.008200213313102722, 0.0028967559337615967, 0.010572731494903564, 0.01357877254486084, 0.00619058683514595, 0.009255915880203247, 0.004667013883590698, 0.0035293996334075928, 0.015106618404388428, 0.015680372714996338, 0.005647335201501846, 0.009662449359893799, 0.010059550404548645, 0.0076685696840286255, 0.002708014100790024, 0.04774180054664612, 0.0487484335899353, 0.003005947917699814, 0.009220913052558899, 0.016255199909210205, 0.003651399165391922, 0.007326409220695496, 0.006177961826324463, 0.0025247931480407715, 0.006044141948223114, 0.009520769119262695, 0.03167468309402466, 0.01852460205554962, 0.030090510845184326]}\n",
       "    )\n",
       "    </script>"
      ],
      "text/plain": [
       "<circuitsvis.utils.render.RenderedHTML at 0x7f176c31f210>"
      ]
     },
     "metadata": {},
     "output_type": "display_data"
    },
    {
     "name": "stdout",
     "output_type": "stream",
     "text": [
      "--------------------------------------------------------------------------------\n",
      "layer=47\n"
     ]
    },
    {
     "data": {
      "text/html": [
       "<div id=\"circuits-vis-8143db07-0034\" style=\"margin: 15px 0;\"/>\n",
       "    <script crossorigin type=\"module\">\n",
       "    import { render, ColoredTokens } from \"https://unpkg.com/circuitsvis@1.43.3/dist/cdn/esm.js\";\n",
       "    render(\n",
       "      \"circuits-vis-8143db07-0034\",\n",
       "      ColoredTokens,\n",
       "      {\"tokens\": [\"Which\", \" of\", \" these\", \" people\", \" is\", \" not\", \" a\", \" scientist\", \"?\\n\", \"options\", \":\", \" Marie\", \" Cur\", \"ie\", \",\", \" Albert\", \" Einstein\", \",\", \" Gro\", \"ver\", \" Cleveland\", \",\", \" Charles\", \" Darwin\", \",\", \" Nikola\", \" Tesla\", \",\", \" Iss\", \"ac\", \" Newton\", \"\\n\", \"Answer\", \":\"], \"values\": [0.003289155662059784, 0.0010218769311904907, 0.000555139034986496, 0.0010391287505626678, 0.0005970424972474575, 0.0009799133986234665, 0.00041656289249658585, 0.0014182180166244507, 0.003132142126560211, 0.0017025955021381378, 0.001082802191376686, 0.0015583783388137817, 0.000673491507768631, 0.0008708052337169647, 0.0010055974125862122, 0.0005393922328948975, 0.0005834568291902542, 0.0005838926881551743, 0.005982976406812668, 0.010129079222679138, 0.004821106791496277, 0.007658191025257111, 0.0005081519484519958, 0.0006512552499771118, 0.0006289146840572357, 0.00036216340959072113, 0.0006262306123971939, 0.0003936002030968666, 0.0005840733647346497, 0.000783875584602356, 0.000799005851149559, 0.003829866647720337, 0.007192403078079224, 0.00300530344247818]}\n",
       "    )\n",
       "    </script>"
      ],
      "text/plain": [
       "<circuitsvis.utils.render.RenderedHTML at 0x7f18162b3f90>"
      ]
     },
     "metadata": {},
     "output_type": "display_data"
    },
    {
     "name": "stdout",
     "output_type": "stream",
     "text": [
      "--------------------------------------------------------------------------------\n",
      "layer=52\n"
     ]
    },
    {
     "data": {
      "text/html": [
       "<div id=\"circuits-vis-392f1c56-9eeb\" style=\"margin: 15px 0;\"/>\n",
       "    <script crossorigin type=\"module\">\n",
       "    import { render, ColoredTokens } from \"https://unpkg.com/circuitsvis@1.43.3/dist/cdn/esm.js\";\n",
       "    render(\n",
       "      \"circuits-vis-392f1c56-9eeb\",\n",
       "      ColoredTokens,\n",
       "      {\"tokens\": [\"Which\", \" of\", \" these\", \" people\", \" is\", \" not\", \" a\", \" scientist\", \"?\\n\", \"options\", \":\", \" Marie\", \" Cur\", \"ie\", \",\", \" Albert\", \" Einstein\", \",\", \" Gro\", \"ver\", \" Cleveland\", \",\", \" Charles\", \" Darwin\", \",\", \" Nikola\", \" Tesla\", \",\", \" Iss\", \"ac\", \" Newton\", \"\\n\", \"Answer\", \":\"], \"values\": [0.005351275205612183, 0.0023835785686969757, 0.0011355318129062653, 0.0014479570090770721, 0.0013349391520023346, 0.003157351166009903, 0.001008152961730957, 0.0023499727249145508, 0.00870872288942337, 0.005991905927658081, 0.006210915744304657, 0.004303246736526489, 0.001526862382888794, 0.002039366401731968, 0.0033883824944496155, 0.0019101686775684357, 0.0015397276729345322, 0.0020409487187862396, 0.025510910898447037, 0.014465134590864182, 0.006366707384586334, 0.008771844208240509, 0.001326804980635643, 0.0015862155705690384, 0.0015656929463148117, 0.0012072212994098663, 0.0011764056980609894, 0.0010603498667478561, 0.0012630261480808258, 0.00228726863861084, 0.001600458286702633, 0.013141870498657227, 0.015650376677513123, 0.015623725950717926]}\n",
       "    )\n",
       "    </script>"
      ],
      "text/plain": [
       "<circuitsvis.utils.render.RenderedHTML at 0x7f176c3428d0>"
      ]
     },
     "metadata": {},
     "output_type": "display_data"
    },
    {
     "name": "stdout",
     "output_type": "stream",
     "text": [
      "--------------------------------------------------------------------------------\n"
     ]
    },
    {
     "data": {
      "text/plain": [
       "[PredictedToken(token=' Gro', prob=0.96875, logit=21.5, token_id=18370, metadata=None),\n",
       " PredictedToken(token=' The', prob=0.00653076171875, logit=16.5, token_id=578, metadata=None),\n",
       " PredictedToken(token=' ', prob=0.002716064453125, logit=15.625, token_id=220, metadata=None),\n",
       " PredictedToken(token='Gro', prob=0.0023956298828125, logit=15.5, token_id=77435, metadata=None),\n",
       " PredictedToken(token=' the', prob=0.00154876708984375, logit=15.0625, token_id=279, metadata=None)]"
      ]
     },
     "execution_count": 43,
     "metadata": {},
     "output_type": "execute_result"
    }
   ],
   "source": [
    "options = [\"Marie Curie\", \"Albert Einstein\", \"Grover Cleveland\", \"Charles Darwin\", \"Nikola Tesla\", \"Issac Newton\"]\n",
    "prompt_template = \"\"\"Which of these people is not a scientist?\n",
    "options: {}\n",
    "Answer:\"\"\"\n",
    "prompt = prompt_template.format(\n",
    "    \", \".join(options)\n",
    ")\n",
    "print(prompt)\n",
    "\n",
    "predict_next_token(\n",
    "    mt=mt,\n",
    "    inputs=prompt,\n",
    ")\n",
    "\n",
    "tokenized = prepare_input(\n",
    "    tokenizer=mt,\n",
    "    prompts=prompt\n",
    ")\n",
    "\n",
    "attn_matrices = get_attention_matrices(\n",
    "    input=tokenized,\n",
    "    mt=mt,\n",
    "    value_weighted=False,\n",
    "    # patches = []\n",
    ")\n",
    "\n",
    "visualize_average_attn_matrix(\n",
    "    mt=mt,\n",
    "    attn_matrices=attn_matrices,\n",
    "    prompt=prompt,\n",
    "    tokenized=tokenized,\n",
    "    layer_window=LAYERS,\n",
    ")\n",
    "\n",
    "interpret_logits(tokenizer=mt, logits=attn_matrices.logits)"
   ]
  },
  {
   "cell_type": "code",
   "execution_count": null,
   "id": "73a9df08",
   "metadata": {},
   "outputs": [
    {
     "name": "stdout",
     "output_type": "stream",
     "text": [
      "Layer: 34, Head: 1\n"
     ]
    },
    {
     "data": {
      "text/html": [
       "<div id=\"circuits-vis-de483206-e295\" style=\"margin: 15px 0;\"/>\n",
       "    <script crossorigin type=\"module\">\n",
       "    import { render, ColoredTokens } from \"https://unpkg.com/circuitsvis@1.43.3/dist/cdn/esm.js\";\n",
       "    render(\n",
       "      \"circuits-vis-de483206-e295\",\n",
       "      ColoredTokens,\n",
       "      {\"tokens\": [\"Which\", \" of\", \" these\", \" people\", \" is\", \" not\", \" a\", \" scientist\", \"?\\n\", \"options\", \":\", \" Marie\", \" Cur\", \"ie\", \",\", \" Albert\", \" Einstein\", \",\", \" Gro\", \"ver\", \" Cleveland\", \",\", \" Charles\", \" Darwin\", \",\", \" Nikola\", \" Tesla\", \",\", \" Iss\", \"ac\", \" Newton\", \"\\n\", \"Answer\", \":\"], \"values\": [0.01031494140625, 0.00063323974609375, 0.00098419189453125, 0.0036468505859375, 0.00054931640625, 0.00054931640625, 0.00011014938354492188, 8.463859558105469e-06, 0.0015411376953125, 0.00121307373046875, 0.002777099609375, 0.0003509521484375, 6.8247318267822266e-06, 9.107589721679688e-05, 0.000705718994140625, 0.00011730194091796875, 1.6927719116210938e-05, 0.00176239013671875, 0.0181884765625, 0.002105712890625, 0.408203125, 0.421875, 2.968311309814453e-05, 2.9355287551879883e-06, 0.00080108642578125, 7.033348083496094e-06, 7.033348083496094e-06, 9.441375732421875e-05, 4.023313522338867e-06, 7.343292236328125e-05, 9.059906005859375e-06, 0.005340576171875, 0.0003662109375, 0.0263671875]}\n",
       "    )\n",
       "    </script>"
      ],
      "text/plain": [
       "<circuitsvis.utils.render.RenderedHTML at 0x7f176c327650>"
      ]
     },
     "metadata": {},
     "output_type": "display_data"
    },
    {
     "name": "stdout",
     "output_type": "stream",
     "text": [
      "Layer: 35, Head: 19\n"
     ]
    },
    {
     "data": {
      "text/html": [
       "<div id=\"circuits-vis-b301d41e-3856\" style=\"margin: 15px 0;\"/>\n",
       "    <script crossorigin type=\"module\">\n",
       "    import { render, ColoredTokens } from \"https://unpkg.com/circuitsvis@1.43.3/dist/cdn/esm.js\";\n",
       "    render(\n",
       "      \"circuits-vis-b301d41e-3856\",\n",
       "      ColoredTokens,\n",
       "      {\"tokens\": [\"Which\", \" of\", \" these\", \" people\", \" is\", \" not\", \" a\", \" scientist\", \"?\\n\", \"options\", \":\", \" Marie\", \" Cur\", \"ie\", \",\", \" Albert\", \" Einstein\", \",\", \" Gro\", \"ver\", \" Cleveland\", \",\", \" Charles\", \" Darwin\", \",\", \" Nikola\", \" Tesla\", \",\", \" Iss\", \"ac\", \" Newton\", \"\\n\", \"Answer\", \":\"], \"values\": [0.0042724609375, 6.079673767089844e-05, 8.296966552734375e-05, 0.0016021728515625, 6.437301635742188e-05, 0.00015735626220703125, 0.000263214111328125, 0.00034332275390625, 0.000308990478515625, 3.361701965332031e-05, 0.0001621246337890625, 0.0019683837890625, 0.002838134765625, 0.0157470703125, 0.0069580078125, 0.00579833984375, 0.0220947265625, 0.005279541015625, 0.007110595703125, 0.004608154296875, 0.6328125, 0.1572265625, 0.00167083740234375, 0.01373291015625, 0.01190185546875, 0.0028228759765625, 0.0164794921875, 0.005035400390625, 5.53131103515625e-05, 0.006103515625, 0.009521484375, 0.0052490234375, 3.147125244140625e-05, 0.0011749267578125]}\n",
       "    )\n",
       "    </script>"
      ],
      "text/plain": [
       "<circuitsvis.utils.render.RenderedHTML at 0x7f17ac173c50>"
      ]
     },
     "metadata": {},
     "output_type": "display_data"
    },
    {
     "name": "stdout",
     "output_type": "stream",
     "text": [
      "Layer: 39, Head: 40\n"
     ]
    },
    {
     "data": {
      "text/html": [
       "<div id=\"circuits-vis-cc38f221-2983\" style=\"margin: 15px 0;\"/>\n",
       "    <script crossorigin type=\"module\">\n",
       "    import { render, ColoredTokens } from \"https://unpkg.com/circuitsvis@1.43.3/dist/cdn/esm.js\";\n",
       "    render(\n",
       "      \"circuits-vis-cc38f221-2983\",\n",
       "      ColoredTokens,\n",
       "      {\"tokens\": [\"Which\", \" of\", \" these\", \" people\", \" is\", \" not\", \" a\", \" scientist\", \"?\\n\", \"options\", \":\", \" Marie\", \" Cur\", \"ie\", \",\", \" Albert\", \" Einstein\", \",\", \" Gro\", \"ver\", \" Cleveland\", \",\", \" Charles\", \" Darwin\", \",\", \" Nikola\", \" Tesla\", \",\", \" Iss\", \"ac\", \" Newton\", \"\\n\", \"Answer\", \":\"], \"values\": [0.00860595703125, 0.0010986328125, 0.000568389892578125, 0.002716064453125, 0.00152587890625, 0.0023956298828125, 0.000720977783203125, 0.0007781982421875, 0.020263671875, 0.0025482177734375, 0.0091552734375, 0.00677490234375, 0.0003509521484375, 0.0035247802734375, 0.0233154296875, 0.005615234375, 0.0028533935546875, 0.02392578125, 0.0303955078125, 0.02197265625, 0.314453125, 0.33984375, 0.0012054443359375, 0.00098419189453125, 0.0069580078125, 0.000698089599609375, 0.00186920166015625, 0.004730224609375, 0.00075531005859375, 0.0021514892578125, 0.000789642333984375, 0.0062255859375, 0.00360107421875, 0.044677734375]}\n",
       "    )\n",
       "    </script>"
      ],
      "text/plain": [
       "<circuitsvis.utils.render.RenderedHTML at 0x7f176c327650>"
      ]
     },
     "metadata": {},
     "output_type": "display_data"
    },
    {
     "name": "stdout",
     "output_type": "stream",
     "text": [
      "Layer: 47, Head: 17\n"
     ]
    },
    {
     "data": {
      "text/html": [
       "<div id=\"circuits-vis-ba581399-4191\" style=\"margin: 15px 0;\"/>\n",
       "    <script crossorigin type=\"module\">\n",
       "    import { render, ColoredTokens } from \"https://unpkg.com/circuitsvis@1.43.3/dist/cdn/esm.js\";\n",
       "    render(\n",
       "      \"circuits-vis-ba581399-4191\",\n",
       "      ColoredTokens,\n",
       "      {\"tokens\": [\"Which\", \" of\", \" these\", \" people\", \" is\", \" not\", \" a\", \" scientist\", \"?\\n\", \"options\", \":\", \" Marie\", \" Cur\", \"ie\", \",\", \" Albert\", \" Einstein\", \",\", \" Gro\", \"ver\", \" Cleveland\", \",\", \" Charles\", \" Darwin\", \",\", \" Nikola\", \" Tesla\", \",\", \" Iss\", \"ac\", \" Newton\", \"\\n\", \"Answer\", \":\"], \"values\": [0.01202392578125, 0.001220703125, 0.000492095947265625, 0.0015411376953125, 0.00080108642578125, 0.0009918212890625, 0.000762939453125, 0.00054168701171875, 0.00946044921875, 0.000751495361328125, 0.004974365234375, 0.000949859619140625, 5.1975250244140625e-05, 0.0003185272216796875, 0.00537109375, 0.000751495361328125, 0.00011348724365234375, 0.0027008056640625, 0.1533203125, 0.447265625, 0.03173828125, 0.11865234375, 0.0003719329833984375, 1.1205673217773438e-05, 0.0011138916015625, 5.698204040527344e-05, 2.300739288330078e-05, 0.000576019287109375, 0.000762939453125, 0.00106048583984375, 1.800060272216797e-05, 0.0027923583984375, 0.0003185272216796875, 0.01007080078125]}\n",
       "    )\n",
       "    </script>"
      ],
      "text/plain": [
       "<circuitsvis.utils.render.RenderedHTML at 0x7f178c2f2890>"
      ]
     },
     "metadata": {},
     "output_type": "display_data"
    },
    {
     "name": "stdout",
     "output_type": "stream",
     "text": [
      "Layer: 47, Head: 18\n"
     ]
    },
    {
     "data": {
      "text/html": [
       "<div id=\"circuits-vis-6ce28816-7022\" style=\"margin: 15px 0;\"/>\n",
       "    <script crossorigin type=\"module\">\n",
       "    import { render, ColoredTokens } from \"https://unpkg.com/circuitsvis@1.43.3/dist/cdn/esm.js\";\n",
       "    render(\n",
       "      \"circuits-vis-6ce28816-7022\",\n",
       "      ColoredTokens,\n",
       "      {\"tokens\": [\"Which\", \" of\", \" these\", \" people\", \" is\", \" not\", \" a\", \" scientist\", \"?\\n\", \"options\", \":\", \" Marie\", \" Cur\", \"ie\", \",\", \" Albert\", \" Einstein\", \",\", \" Gro\", \"ver\", \" Cleveland\", \",\", \" Charles\", \" Darwin\", \",\", \" Nikola\", \" Tesla\", \",\", \" Iss\", \"ac\", \" Newton\", \"\\n\", \"Answer\", \":\"], \"values\": [0.007232666015625, 0.0024566650390625, 0.0025482177734375, 0.00897216796875, 0.0057373046875, 0.00433349609375, 0.0025787353515625, 0.00174713134765625, 0.025634765625, 0.000499725341796875, 0.007232666015625, 0.000499725341796875, 0.0002288818359375, 0.00066375732421875, 0.01177978515625, 0.0001964569091796875, 0.0001049041748046875, 0.009033203125, 0.177734375, 0.1181640625, 0.08984375, 0.234375, 0.000640869140625, 4.9591064453125e-05, 0.006500244140625, 6.341934204101562e-05, 0.00013065338134765625, 0.003875732421875, 0.000293731689453125, 0.00023651123046875, 6.341934204101562e-05, 0.007415771484375, 0.00080108642578125, 0.0223388671875]}\n",
       "    )\n",
       "    </script>"
      ],
      "text/plain": [
       "<circuitsvis.utils.render.RenderedHTML at 0x7f178c2f2890>"
      ]
     },
     "metadata": {},
     "output_type": "display_data"
    },
    {
     "name": "stdout",
     "output_type": "stream",
     "text": [
      "Layer: 52, Head: 19\n"
     ]
    },
    {
     "data": {
      "text/html": [
       "<div id=\"circuits-vis-49a270db-4170\" style=\"margin: 15px 0;\"/>\n",
       "    <script crossorigin type=\"module\">\n",
       "    import { render, ColoredTokens } from \"https://unpkg.com/circuitsvis@1.43.3/dist/cdn/esm.js\";\n",
       "    render(\n",
       "      \"circuits-vis-49a270db-4170\",\n",
       "      ColoredTokens,\n",
       "      {\"tokens\": [\"Which\", \" of\", \" these\", \" people\", \" is\", \" not\", \" a\", \" scientist\", \"?\\n\", \"options\", \":\", \" Marie\", \" Cur\", \"ie\", \",\", \" Albert\", \" Einstein\", \",\", \" Gro\", \"ver\", \" Cleveland\", \",\", \" Charles\", \" Darwin\", \",\", \" Nikola\", \" Tesla\", \",\", \" Iss\", \"ac\", \" Newton\", \"\\n\", \"Answer\", \":\"], \"values\": [0.000484466552734375, 0.00018405914306640625, 0.00021457672119140625, 0.00026702880859375, 0.0003032684326171875, 0.0004405975341796875, 0.000484466552734375, 0.00011491775512695312, 0.0069580078125, 0.000202178955078125, 0.0029144287109375, 0.0023040771484375, 2.193450927734375e-05, 1.0073184967041016e-05, 0.01385498046875, 0.004058837890625, 3.743171691894531e-05, 0.0137939453125, 0.546875, 0.0164794921875, 0.00262451171875, 0.053955078125, 0.0029144287109375, 2.491474151611328e-05, 0.004791259765625, 0.0012969970703125, 2.7298927307128906e-05, 0.0027923583984375, 0.001617431640625, 0.00017833709716796875, 1.0073184967041016e-05, 0.002044677734375, 0.0001392364501953125, 0.0089111328125]}\n",
       "    )\n",
       "    </script>"
      ],
      "text/plain": [
       "<circuitsvis.utils.render.RenderedHTML at 0x7f176c327650>"
      ]
     },
     "metadata": {},
     "output_type": "display_data"
    },
    {
     "name": "stdout",
     "output_type": "stream",
     "text": [
      "Layer: 52, Head: 58\n"
     ]
    },
    {
     "data": {
      "text/html": [
       "<div id=\"circuits-vis-21b2a7b4-f6bd\" style=\"margin: 15px 0;\"/>\n",
       "    <script crossorigin type=\"module\">\n",
       "    import { render, ColoredTokens } from \"https://unpkg.com/circuitsvis@1.43.3/dist/cdn/esm.js\";\n",
       "    render(\n",
       "      \"circuits-vis-21b2a7b4-f6bd\",\n",
       "      ColoredTokens,\n",
       "      {\"tokens\": [\"Which\", \" of\", \" these\", \" people\", \" is\", \" not\", \" a\", \" scientist\", \"?\\n\", \"options\", \":\", \" Marie\", \" Cur\", \"ie\", \",\", \" Albert\", \" Einstein\", \",\", \" Gro\", \"ver\", \" Cleveland\", \",\", \" Charles\", \" Darwin\", \",\", \" Nikola\", \" Tesla\", \",\", \" Iss\", \"ac\", \" Newton\", \"\\n\", \"Answer\", \":\"], \"values\": [0.0123291015625, 0.00188446044921875, 0.000934600830078125, 0.005462646484375, 0.002349853515625, 0.0029754638671875, 0.00131988525390625, 0.001800537109375, 0.005126953125, 0.000202178955078125, 0.0027923583984375, 0.000640869140625, 0.0029754638671875, 0.001800537109375, 0.00439453125, 0.000850677490234375, 0.0016937255859375, 0.00433349609375, 0.0810546875, 0.10302734375, 0.228515625, 0.059326171875, 0.000934600830078125, 0.0014495849609375, 0.003875732421875, 0.000354766845703125, 0.003997802734375, 0.0027923583984375, 0.001129150390625, 0.00140380859375, 0.000934600830078125, 0.008056640625, 0.000934600830078125, 0.01080322265625]}\n",
       "    )\n",
       "    </script>"
      ],
      "text/plain": [
       "<circuitsvis.utils.render.RenderedHTML at 0x7f176c327650>"
      ]
     },
     "metadata": {},
     "output_type": "display_data"
    }
   ],
   "source": [
    "for layer_idx, head_idx in HEADS:\n",
    "    print(\n",
    "        f\"Layer: {layer_idx}, Head: {head_idx}\"\n",
    "    )\n",
    "\n",
    "    head_matrix = torch.Tensor(attn_matrices.attention_matrices[layer_idx, head_idx]).squeeze()\n",
    "    visualize_attn_matrix(\n",
    "        attn_matrix=head_matrix,\n",
    "        tokens=[mt.tokenizer.decode(t) for t in tokenized.input_ids[0]],\n",
    "        q_index=-1,\n",
    "        start_from=1\n",
    "    )"
   ]
  },
  {
   "cell_type": "code",
   "execution_count": 172,
   "id": "027d93d2",
   "metadata": {},
   "outputs": [
    {
     "name": "stdout",
     "output_type": "stream",
     "text": [
      "Which of these people is a politician or a scientist?\n",
      "options: Michael Jordan, Serena Williams, Justin Trudeau, Mike Tyson, Carl Sagan, Tom Cruise\n",
      "Answer:\n",
      " Justin Trudeau\n",
      "Explanation: Justin Trudeau is a politician who serves as the Prime Minister of Canada. The\n",
      "layer=35\n"
     ]
    },
    {
     "data": {
      "text/html": [
       "<div id=\"circuits-vis-d4b86a55-e2af\" style=\"margin: 15px 0;\"/>\n",
       "    <script crossorigin type=\"module\">\n",
       "    import { render, ColoredTokens } from \"https://unpkg.com/circuitsvis@1.43.3/dist/cdn/esm.js\";\n",
       "    render(\n",
       "      \"circuits-vis-d4b86a55-e2af\",\n",
       "      ColoredTokens,\n",
       "      {\"tokens\": [\"Which\", \" of\", \" these\", \" people\", \" is\", \" a\", \" politician\", \" or\", \" a\", \" scientist\", \"?\\n\", \"options\", \":\", \" Michael\", \" Jordan\", \",\", \" Serena\", \" Williams\", \",\", \" Justin\", \" Trudeau\", \",\", \" Mike\", \" Tyson\", \",\", \" Carl\", \" S\", \"agan\", \",\", \" Tom\", \" Cruise\", \"\\n\", \"Answer\", \":\"], \"values\": [0.02413487434387207, 0.007993035018444061, 0.00455721840262413, 0.011414974927902222, 0.006995510309934616, 0.0051939114928245544, 0.011346578598022461, 0.008353590965270996, 0.003024313598871231, 0.01937463879585266, 0.03053957223892212, 0.005156241357326508, 0.009019255638122559, 0.013498783111572266, 0.018068015575408936, 0.023693978786468506, 0.005598202347755432, 0.012844949960708618, 0.01198337972164154, 0.0022547245025634766, 0.026105821132659912, 0.03791630268096924, 0.001921938732266426, 0.00769256055355072, 0.010671347379684448, 0.0031683780252933502, 0.00885656476020813, 0.025824785232543945, 0.02691972255706787, 0.0016918331384658813, 0.00633847713470459, 0.033564090728759766, 0.017962206155061722, 0.03896927833557129]}\n",
       "    )\n",
       "    </script>"
      ],
      "text/plain": [
       "<circuitsvis.utils.render.RenderedHTML at 0x7f176c48b410>"
      ]
     },
     "metadata": {},
     "output_type": "display_data"
    },
    {
     "name": "stdout",
     "output_type": "stream",
     "text": [
      "--------------------------------------------------------------------------------\n",
      "layer=47\n"
     ]
    },
    {
     "data": {
      "text/html": [
       "<div id=\"circuits-vis-9017bba0-b8d0\" style=\"margin: 15px 0;\"/>\n",
       "    <script crossorigin type=\"module\">\n",
       "    import { render, ColoredTokens } from \"https://unpkg.com/circuitsvis@1.43.3/dist/cdn/esm.js\";\n",
       "    render(\n",
       "      \"circuits-vis-9017bba0-b8d0\",\n",
       "      ColoredTokens,\n",
       "      {\"tokens\": [\"Which\", \" of\", \" these\", \" people\", \" is\", \" a\", \" politician\", \" or\", \" a\", \" scientist\", \"?\\n\", \"options\", \":\", \" Michael\", \" Jordan\", \",\", \" Serena\", \" Williams\", \",\", \" Justin\", \" Trudeau\", \",\", \" Mike\", \" Tyson\", \",\", \" Carl\", \" S\", \"agan\", \",\", \" Tom\", \" Cruise\", \"\\n\", \"Answer\", \":\"], \"values\": [0.002980753779411316, 0.0015500299632549286, 0.0005409196019172668, 0.0006293021142482758, 0.0005018138326704502, 0.0006265053525567055, 0.002334706485271454, 0.0013671275228261948, 0.0005429014563560486, 0.0017743483185768127, 0.0022555142641067505, 0.0011673010885715485, 0.0010154731571674347, 0.0032647252082824707, 0.0017602592706680298, 0.0012988895177841187, 0.0010552406311035156, 0.0006452351808547974, 0.0011106878519058228, 0.008761923760175705, 0.005866259336471558, 0.005190636962652206, 0.0008833147585391998, 0.0006754845380783081, 0.0008555334061384201, 0.002111714333295822, 0.0007841717451810837, 0.0021086931228637695, 0.0025321003049612045, 0.000630723312497139, 0.0009634755551815033, 0.0044030845165252686, 0.007258892059326172, 0.004196256399154663]}\n",
       "    )\n",
       "    </script>"
      ],
      "text/plain": [
       "<circuitsvis.utils.render.RenderedHTML at 0x7f174c464110>"
      ]
     },
     "metadata": {},
     "output_type": "display_data"
    },
    {
     "name": "stdout",
     "output_type": "stream",
     "text": [
      "--------------------------------------------------------------------------------\n",
      "layer=52\n"
     ]
    },
    {
     "data": {
      "text/html": [
       "<div id=\"circuits-vis-3660ee58-64e6\" style=\"margin: 15px 0;\"/>\n",
       "    <script crossorigin type=\"module\">\n",
       "    import { render, ColoredTokens } from \"https://unpkg.com/circuitsvis@1.43.3/dist/cdn/esm.js\";\n",
       "    render(\n",
       "      \"circuits-vis-3660ee58-64e6\",\n",
       "      ColoredTokens,\n",
       "      {\"tokens\": [\"Which\", \" of\", \" these\", \" people\", \" is\", \" a\", \" politician\", \" or\", \" a\", \" scientist\", \"?\\n\", \"options\", \":\", \" Michael\", \" Jordan\", \",\", \" Serena\", \" Williams\", \",\", \" Justin\", \" Trudeau\", \",\", \" Mike\", \" Tyson\", \",\", \" Carl\", \" S\", \"agan\", \",\", \" Tom\", \" Cruise\", \"\\n\", \"Answer\", \":\"], \"values\": [0.005184777081012726, 0.004707984626293182, 0.0017076022922992706, 0.0009641463402658701, 0.0012671463191509247, 0.0018280893564224243, 0.0036075562238693237, 0.0019008666276931763, 0.0009991079568862915, 0.002936914563179016, 0.008024752140045166, 0.005310043692588806, 0.004895888268947601, 0.006078064441680908, 0.0015605408698320389, 0.0037422925233840942, 0.0032802745699882507, 0.0011961327400058508, 0.0024129077792167664, 0.02980419248342514, 0.017310768365859985, 0.005001083016395569, 0.0013113655149936676, 0.0009570955298841, 0.001392824575304985, 0.011683903634548187, 0.0008316412568092346, 0.0020330657716840506, 0.003931049257516861, 0.0018984358757734299, 0.001159966690465808, 0.012654393911361694, 0.014351637102663517, 0.014834761619567871]}\n",
       "    )\n",
       "    </script>"
      ],
      "text/plain": [
       "<circuitsvis.utils.render.RenderedHTML at 0x7ef34681ef10>"
      ]
     },
     "metadata": {},
     "output_type": "display_data"
    },
    {
     "name": "stdout",
     "output_type": "stream",
     "text": [
      "--------------------------------------------------------------------------------\n"
     ]
    },
    {
     "data": {
      "text/plain": [
       "[PredictedToken(token=' Justin', prob=0.859375, logit=20.5, token_id=23278, metadata=None),\n",
       " PredictedToken(token=' The', prob=0.033447265625, logit=17.25, token_id=578, metadata=None),\n",
       " PredictedToken(token=' Carl', prob=0.0157470703125, logit=16.5, token_id=22770, metadata=None),\n",
       " PredictedToken(token=' ', prob=0.0074462890625, logit=15.75, token_id=220, metadata=None),\n",
       " PredictedToken(token=' A', prob=0.00616455078125, logit=15.5625, token_id=362, metadata=None)]"
      ]
     },
     "execution_count": 172,
     "metadata": {},
     "output_type": "execute_result"
    }
   ],
   "source": [
    "options = [\"Michael Jordan\", \"Serena Williams\", \"Justin Trudeau\", \"Mike Tyson\", \"Carl Sagan\", \"Tom Cruise\"]\n",
    "prompt_template = \"\"\"Which of these people is a politician or a scientist?\n",
    "options: {}\n",
    "Answer:\"\"\"\n",
    "\n",
    "prompt = prompt_template.format(\n",
    "    \", \".join(options)\n",
    ")\n",
    "print(prompt)\n",
    "gen = generate_with_patch(\n",
    "    mt=mt,\n",
    "    inputs=prompt,\n",
    "    n_gen_per_prompt=1,\n",
    "    max_new_tokens=20,\n",
    "    remove_prefix=True,\n",
    ")[0]\n",
    "print(gen)\n",
    "\n",
    "tokenized = prepare_input(\n",
    "    tokenizer=mt,\n",
    "    prompts=prompt\n",
    ")\n",
    "\n",
    "attn_matrices = get_attention_matrices(\n",
    "    input=tokenized,\n",
    "    mt=mt,\n",
    "    value_weighted=False,\n",
    "    # patches = []\n",
    ")\n",
    "\n",
    "visualize_average_attn_matrix(\n",
    "    mt=mt,\n",
    "    attn_matrices=attn_matrices,\n",
    "    prompt=prompt,\n",
    "    tokenized=tokenized,\n",
    "    layer_window=LAYERS,\n",
    ")\n",
    "\n",
    "interpret_logits(tokenizer=mt, logits=attn_matrices.logits)"
   ]
  },
  {
   "cell_type": "code",
   "execution_count": 173,
   "id": "414081ff",
   "metadata": {},
   "outputs": [
    {
     "name": "stdout",
     "output_type": "stream",
     "text": [
      "Layer: 33, Head: 45\n"
     ]
    },
    {
     "data": {
      "text/html": [
       "<div id=\"circuits-vis-b838c099-0768\" style=\"margin: 15px 0;\"/>\n",
       "    <script crossorigin type=\"module\">\n",
       "    import { render, ColoredTokens } from \"https://unpkg.com/circuitsvis@1.43.3/dist/cdn/esm.js\";\n",
       "    render(\n",
       "      \"circuits-vis-b838c099-0768\",\n",
       "      ColoredTokens,\n",
       "      {\"tokens\": [\"Which\", \" of\", \" these\", \" people\", \" is\", \" a\", \" politician\", \" or\", \" a\", \" scientist\", \"?\\n\", \"options\", \":\", \" Michael\", \" Jordan\", \",\", \" Serena\", \" Williams\", \",\", \" Justin\", \" Trudeau\", \",\", \" Mike\", \" Tyson\", \",\", \" Carl\", \" S\", \"agan\", \",\", \" Tom\", \" Cruise\", \"\\n\", \"Answer\", \":\"], \"values\": [0.01458740234375, 0.0036163330078125, 0.002410888671875, 0.00323486328125, 0.0026397705078125, 0.00115203857421875, 0.016357421875, 0.010986328125, 0.001678466796875, 0.01409912109375, 0.01287841796875, 0.003875732421875, 0.00762939453125, 0.037109375, 0.00958251953125, 0.01190185546875, 0.0087890625, 0.0036163330078125, 0.0189208984375, 0.0150146484375, 0.2265625, 0.2373046875, 0.007080078125, 0.005126953125, 0.005859375, 0.006378173828125, 0.00946044921875, 0.03369140625, 0.0311279296875, 0.00165557861328125, 0.00145721435546875, 0.0230712890625, 0.002593994140625, 0.024169921875]}\n",
       "    )\n",
       "    </script>"
      ],
      "text/plain": [
       "<circuitsvis.utils.render.RenderedHTML at 0x7f176c48a110>"
      ]
     },
     "metadata": {},
     "output_type": "display_data"
    },
    {
     "name": "stdout",
     "output_type": "stream",
     "text": [
      "Layer: 33, Head: 18\n"
     ]
    },
    {
     "data": {
      "text/html": [
       "<div id=\"circuits-vis-9c5a1c48-0612\" style=\"margin: 15px 0;\"/>\n",
       "    <script crossorigin type=\"module\">\n",
       "    import { render, ColoredTokens } from \"https://unpkg.com/circuitsvis@1.43.3/dist/cdn/esm.js\";\n",
       "    render(\n",
       "      \"circuits-vis-9c5a1c48-0612\",\n",
       "      ColoredTokens,\n",
       "      {\"tokens\": [\"Which\", \" of\", \" these\", \" people\", \" is\", \" a\", \" politician\", \" or\", \" a\", \" scientist\", \"?\\n\", \"options\", \":\", \" Michael\", \" Jordan\", \",\", \" Serena\", \" Williams\", \",\", \" Justin\", \" Trudeau\", \",\", \" Mike\", \" Tyson\", \",\", \" Carl\", \" S\", \"agan\", \",\", \" Tom\", \" Cruise\", \"\\n\", \"Answer\", \":\"], \"values\": [0.0147705078125, 0.00127410888671875, 0.001312255859375, 0.008544921875, 0.0024566650390625, 0.0027923583984375, 0.014892578125, 0.0084228515625, 0.00145721435546875, 0.0069580078125, 0.007232666015625, 0.00072479248046875, 0.0045166015625, 0.055419921875, 0.033935546875, 0.08544921875, 0.006072998046875, 0.0084228515625, 0.029296875, 0.016845703125, 0.10302734375, 0.42578125, 0.00421142578125, 0.0032806396484375, 0.0091552734375, 0.01092529296875, 0.0054931640625, 0.012939453125, 0.0277099609375, 0.00109100341796875, 0.0021209716796875, 0.00555419921875, 0.000408172607421875, 0.005157470703125]}\n",
       "    )\n",
       "    </script>"
      ],
      "text/plain": [
       "<circuitsvis.utils.render.RenderedHTML at 0x7f17cc0ce810>"
      ]
     },
     "metadata": {},
     "output_type": "display_data"
    },
    {
     "name": "stdout",
     "output_type": "stream",
     "text": [
      "Layer: 34, Head: 1\n"
     ]
    },
    {
     "data": {
      "text/html": [
       "<div id=\"circuits-vis-1957daf2-fa03\" style=\"margin: 15px 0;\"/>\n",
       "    <script crossorigin type=\"module\">\n",
       "    import { render, ColoredTokens } from \"https://unpkg.com/circuitsvis@1.43.3/dist/cdn/esm.js\";\n",
       "    render(\n",
       "      \"circuits-vis-1957daf2-fa03\",\n",
       "      ColoredTokens,\n",
       "      {\"tokens\": [\"Which\", \" of\", \" these\", \" people\", \" is\", \" a\", \" politician\", \" or\", \" a\", \" scientist\", \"?\\n\", \"options\", \":\", \" Michael\", \" Jordan\", \",\", \" Serena\", \" Williams\", \",\", \" Justin\", \" Trudeau\", \",\", \" Mike\", \" Tyson\", \",\", \" Carl\", \" S\", \"agan\", \",\", \" Tom\", \" Cruise\", \"\\n\", \"Answer\", \":\"], \"values\": [0.01348876953125, 0.00067901611328125, 9.012222290039062e-05, 0.00079345703125, 0.000698089599609375, 0.000919342041015625, 0.0206298828125, 0.01416015625, 0.0011138916015625, 0.0032196044921875, 0.006072998046875, 9.298324584960938e-05, 0.00138092041015625, 0.00665283203125, 3.314018249511719e-05, 0.00012969970703125, 2.9325485229492188e-05, 1.043081283569336e-05, 0.0030364990234375, 0.00130462646484375, 0.357421875, 0.4296875, 0.0003681182861328125, 2.905726432800293e-06, 0.0001373291015625, 0.00191497802734375, 0.01507568359375, 0.0032806396484375, 0.019775390625, 2.6702880859375e-05, 2.816319465637207e-06, 0.003173828125, 0.0002613067626953125, 0.03759765625]}\n",
       "    )\n",
       "    </script>"
      ],
      "text/plain": [
       "<circuitsvis.utils.render.RenderedHTML at 0x7f176c366bd0>"
      ]
     },
     "metadata": {},
     "output_type": "display_data"
    },
    {
     "name": "stdout",
     "output_type": "stream",
     "text": [
      "Layer: 34, Head: 6\n"
     ]
    },
    {
     "data": {
      "text/html": [
       "<div id=\"circuits-vis-068500d8-4a00\" style=\"margin: 15px 0;\"/>\n",
       "    <script crossorigin type=\"module\">\n",
       "    import { render, ColoredTokens } from \"https://unpkg.com/circuitsvis@1.43.3/dist/cdn/esm.js\";\n",
       "    render(\n",
       "      \"circuits-vis-068500d8-4a00\",\n",
       "      ColoredTokens,\n",
       "      {\"tokens\": [\"Which\", \" of\", \" these\", \" people\", \" is\", \" a\", \" politician\", \" or\", \" a\", \" scientist\", \"?\\n\", \"options\", \":\", \" Michael\", \" Jordan\", \",\", \" Serena\", \" Williams\", \",\", \" Justin\", \" Trudeau\", \",\", \" Mike\", \" Tyson\", \",\", \" Carl\", \" S\", \"agan\", \",\", \" Tom\", \" Cruise\", \"\\n\", \"Answer\", \":\"], \"values\": [0.0294189453125, 0.0028533935546875, 0.0004100799560546875, 0.00093841552734375, 0.0022125244140625, 0.00141143798828125, 0.0166015625, 0.0181884765625, 0.0032196044921875, 0.0026397705078125, 0.0125732421875, 0.0002994537353515625, 0.00750732421875, 0.01373291015625, 5.555152893066406e-05, 0.00018215179443359375, 3.5762786865234375e-05, 1.4007091522216797e-05, 0.00750732421875, 0.0015716552734375, 0.1181640625, 0.1923828125, 0.0008697509765625, 1.3932585716247559e-06, 0.00017642974853515625, 0.0013427734375, 0.00909423828125, 0.0007781982421875, 0.00469970703125, 1.6927719116210938e-05, 2.421438694000244e-07, 0.0026397705078125, 0.00045013427734375, 0.04638671875]}\n",
       "    )\n",
       "    </script>"
      ],
      "text/plain": [
       "<circuitsvis.utils.render.RenderedHTML at 0x7f176c342f50>"
      ]
     },
     "metadata": {},
     "output_type": "display_data"
    },
    {
     "name": "stdout",
     "output_type": "stream",
     "text": [
      "Layer: 34, Head: 7\n"
     ]
    },
    {
     "data": {
      "text/html": [
       "<div id=\"circuits-vis-735770ca-a1c5\" style=\"margin: 15px 0;\"/>\n",
       "    <script crossorigin type=\"module\">\n",
       "    import { render, ColoredTokens } from \"https://unpkg.com/circuitsvis@1.43.3/dist/cdn/esm.js\";\n",
       "    render(\n",
       "      \"circuits-vis-735770ca-a1c5\",\n",
       "      ColoredTokens,\n",
       "      {\"tokens\": [\"Which\", \" of\", \" these\", \" people\", \" is\", \" a\", \" politician\", \" or\", \" a\", \" scientist\", \"?\\n\", \"options\", \":\", \" Michael\", \" Jordan\", \",\", \" Serena\", \" Williams\", \",\", \" Justin\", \" Trudeau\", \",\", \" Mike\", \" Tyson\", \",\", \" Carl\", \" S\", \"agan\", \",\", \" Tom\", \" Cruise\", \"\\n\", \"Answer\", \":\"], \"values\": [0.04052734375, 0.001434326171875, 0.00057220458984375, 0.00116729736328125, 0.0016021728515625, 0.0006866455078125, 0.00982666015625, 0.0069580078125, 0.00098419189453125, 0.0025634765625, 0.00970458984375, 0.000782012939453125, 0.006591796875, 0.0230712890625, 0.0010528564453125, 0.00183868408203125, 0.00064849853515625, 0.00052642822265625, 0.00494384765625, 0.002471923828125, 0.294921875, 0.23046875, 0.000972747802734375, 0.00017452239990234375, 0.0025177001953125, 0.004058837890625, 0.00872802734375, 0.01361083984375, 0.024658203125, 0.00037384033203125, 0.00017452239990234375, 0.0269775390625, 0.0035247802734375, 0.0908203125]}\n",
       "    )\n",
       "    </script>"
      ],
      "text/plain": [
       "<circuitsvis.utils.render.RenderedHTML at 0x7f176c4adbd0>"
      ]
     },
     "metadata": {},
     "output_type": "display_data"
    },
    {
     "name": "stdout",
     "output_type": "stream",
     "text": [
      "Layer: 35, Head: 19\n"
     ]
    },
    {
     "data": {
      "text/html": [
       "<div id=\"circuits-vis-8f7ede3b-4d1f\" style=\"margin: 15px 0;\"/>\n",
       "    <script crossorigin type=\"module\">\n",
       "    import { render, ColoredTokens } from \"https://unpkg.com/circuitsvis@1.43.3/dist/cdn/esm.js\";\n",
       "    render(\n",
       "      \"circuits-vis-8f7ede3b-4d1f\",\n",
       "      ColoredTokens,\n",
       "      {\"tokens\": [\"Which\", \" of\", \" these\", \" people\", \" is\", \" a\", \" politician\", \" or\", \" a\", \" scientist\", \"?\\n\", \"options\", \":\", \" Michael\", \" Jordan\", \",\", \" Serena\", \" Williams\", \",\", \" Justin\", \" Trudeau\", \",\", \" Mike\", \" Tyson\", \",\", \" Carl\", \" S\", \"agan\", \",\", \" Tom\", \" Cruise\", \"\\n\", \"Answer\", \":\"], \"values\": [0.004150390625, 8.153915405273438e-05, 3.600120544433594e-05, 0.00067901611328125, 4.363059997558594e-05, 0.000701904296875, 0.0087890625, 0.000690460205078125, 0.0009002685546875, 0.0267333984375, 0.000911712646484375, 2.0503997802734375e-05, 0.000164031982421875, 0.0152587890625, 0.01312255859375, 0.01141357421875, 0.0162353515625, 0.0169677734375, 0.00811767578125, 0.003265380859375, 0.375, 0.09326171875, 0.0010833740234375, 0.01312255859375, 0.0057373046875, 0.003875732421875, 0.000423431396484375, 0.2578125, 0.09033203125, 0.0004367828369140625, 0.009521484375, 0.0032501220703125, 1.5497207641601562e-05, 0.0006866455078125]}\n",
       "    )\n",
       "    </script>"
      ],
      "text/plain": [
       "<circuitsvis.utils.render.RenderedHTML at 0x7f176c48b910>"
      ]
     },
     "metadata": {},
     "output_type": "display_data"
    },
    {
     "name": "stdout",
     "output_type": "stream",
     "text": [
      "Layer: 39, Head: 40\n"
     ]
    },
    {
     "data": {
      "text/html": [
       "<div id=\"circuits-vis-5f677686-a9d0\" style=\"margin: 15px 0;\"/>\n",
       "    <script crossorigin type=\"module\">\n",
       "    import { render, ColoredTokens } from \"https://unpkg.com/circuitsvis@1.43.3/dist/cdn/esm.js\";\n",
       "    render(\n",
       "      \"circuits-vis-5f677686-a9d0\",\n",
       "      ColoredTokens,\n",
       "      {\"tokens\": [\"Which\", \" of\", \" these\", \" people\", \" is\", \" a\", \" politician\", \" or\", \" a\", \" scientist\", \"?\\n\", \"options\", \":\", \" Michael\", \" Jordan\", \",\", \" Serena\", \" Williams\", \",\", \" Justin\", \" Trudeau\", \",\", \" Mike\", \" Tyson\", \",\", \" Carl\", \" S\", \"agan\", \",\", \" Tom\", \" Cruise\", \"\\n\", \"Answer\", \":\"], \"values\": [0.003814697265625, 0.0045166015625, 0.0002880096435546875, 0.00142669677734375, 0.00116729736328125, 0.0015716552734375, 0.01519775390625, 0.006378173828125, 0.0015106201171875, 0.0159912109375, 0.010986328125, 0.0003528594970703125, 0.00104522705078125, 0.015380859375, 0.0017242431640625, 0.0023956298828125, 0.0026702880859375, 0.0025177001953125, 0.00738525390625, 0.033203125, 0.458984375, 0.306640625, 0.004302978515625, 0.00079345703125, 0.00408935546875, 0.01068115234375, 0.0012969970703125, 0.0159912109375, 0.02978515625, 0.000659942626953125, 0.000690460205078125, 0.003326416015625, 0.0006103515625, 0.01348876953125]}\n",
       "    )\n",
       "    </script>"
      ],
      "text/plain": [
       "<circuitsvis.utils.render.RenderedHTML at 0x7f178c2f3250>"
      ]
     },
     "metadata": {},
     "output_type": "display_data"
    },
    {
     "name": "stdout",
     "output_type": "stream",
     "text": [
      "Layer: 42, Head: 30\n"
     ]
    },
    {
     "data": {
      "text/html": [
       "<div id=\"circuits-vis-3a07d46e-99a9\" style=\"margin: 15px 0;\"/>\n",
       "    <script crossorigin type=\"module\">\n",
       "    import { render, ColoredTokens } from \"https://unpkg.com/circuitsvis@1.43.3/dist/cdn/esm.js\";\n",
       "    render(\n",
       "      \"circuits-vis-3a07d46e-99a9\",\n",
       "      ColoredTokens,\n",
       "      {\"tokens\": [\"Which\", \" of\", \" these\", \" people\", \" is\", \" a\", \" politician\", \" or\", \" a\", \" scientist\", \"?\\n\", \"options\", \":\", \" Michael\", \" Jordan\", \",\", \" Serena\", \" Williams\", \",\", \" Justin\", \" Trudeau\", \",\", \" Mike\", \" Tyson\", \",\", \" Carl\", \" S\", \"agan\", \",\", \" Tom\", \" Cruise\", \"\\n\", \"Answer\", \":\"], \"values\": [0.005157470703125, 0.00183868408203125, 0.00177764892578125, 0.002471923828125, 0.0023956298828125, 0.0038909912109375, 0.00823974609375, 0.00848388671875, 0.00469970703125, 0.019775390625, 0.006103515625, 0.0008392333984375, 0.0032196044921875, 0.00714111328125, 0.01055908203125, 0.006622314453125, 0.0023956298828125, 0.005584716796875, 0.0096435546875, 0.0361328125, 0.298828125, 0.051513671875, 0.0091552734375, 0.0035400390625, 0.01007080078125, 0.01409912109375, 0.0096435546875, 0.054931640625, 0.03173828125, 0.003997802734375, 0.0028839111328125, 0.00848388671875, 0.000766754150390625, 0.00799560546875]}\n",
       "    )\n",
       "    </script>"
      ],
      "text/plain": [
       "<circuitsvis.utils.render.RenderedHTML at 0x7f17cc181d90>"
      ]
     },
     "metadata": {},
     "output_type": "display_data"
    },
    {
     "name": "stdout",
     "output_type": "stream",
     "text": [
      "Layer: 47, Head: 18\n"
     ]
    },
    {
     "data": {
      "text/html": [
       "<div id=\"circuits-vis-77f8da15-ff09\" style=\"margin: 15px 0;\"/>\n",
       "    <script crossorigin type=\"module\">\n",
       "    import { render, ColoredTokens } from \"https://unpkg.com/circuitsvis@1.43.3/dist/cdn/esm.js\";\n",
       "    render(\n",
       "      \"circuits-vis-77f8da15-ff09\",\n",
       "      ColoredTokens,\n",
       "      {\"tokens\": [\"Which\", \" of\", \" these\", \" people\", \" is\", \" a\", \" politician\", \" or\", \" a\", \" scientist\", \"?\\n\", \"options\", \":\", \" Michael\", \" Jordan\", \",\", \" Serena\", \" Williams\", \",\", \" Justin\", \" Trudeau\", \",\", \" Mike\", \" Tyson\", \",\", \" Carl\", \" S\", \"agan\", \",\", \" Tom\", \" Cruise\", \"\\n\", \"Answer\", \":\"], \"values\": [0.002471923828125, 0.0037078857421875, 0.00098419189453125, 0.000308990478515625, 0.002288818359375, 0.00311279296875, 0.0022125244140625, 0.01531982421875, 0.00634765625, 0.005828857421875, 0.00860595703125, 4.744529724121094e-05, 0.0023956298828125, 0.0007781982421875, 0.0017242431640625, 0.00823974609375, 0.0002193450927734375, 7.343292236328125e-05, 0.0167236328125, 0.28125, 0.185546875, 0.166015625, 0.001983642578125, 0.000492095947265625, 0.01165771484375, 0.041015625, 0.010009765625, 0.00262451171875, 0.059814453125, 0.006591796875, 0.00098419189453125, 0.007415771484375, 0.0002994537353515625, 0.0106201171875]}\n",
       "    )\n",
       "    </script>"
      ],
      "text/plain": [
       "<circuitsvis.utils.render.RenderedHTML at 0x7f176c48a050>"
      ]
     },
     "metadata": {},
     "output_type": "display_data"
    },
    {
     "name": "stdout",
     "output_type": "stream",
     "text": [
      "Layer: 52, Head: 58\n"
     ]
    },
    {
     "data": {
      "text/html": [
       "<div id=\"circuits-vis-a7a51ce2-2d48\" style=\"margin: 15px 0;\"/>\n",
       "    <script crossorigin type=\"module\">\n",
       "    import { render, ColoredTokens } from \"https://unpkg.com/circuitsvis@1.43.3/dist/cdn/esm.js\";\n",
       "    render(\n",
       "      \"circuits-vis-a7a51ce2-2d48\",\n",
       "      ColoredTokens,\n",
       "      {\"tokens\": [\"Which\", \" of\", \" these\", \" people\", \" is\", \" a\", \" politician\", \" or\", \" a\", \" scientist\", \"?\\n\", \"options\", \":\", \" Michael\", \" Jordan\", \",\", \" Serena\", \" Williams\", \",\", \" Justin\", \" Trudeau\", \",\", \" Mike\", \" Tyson\", \",\", \" Carl\", \" S\", \"agan\", \",\", \" Tom\", \" Cruise\", \"\\n\", \"Answer\", \":\"], \"values\": [0.0009918212890625, 0.000728607177734375, 0.00017261505126953125, 7.009506225585938e-05, 0.00015735626220703125, 0.000492095947265625, 0.00102996826171875, 0.00274658203125, 0.00089263916015625, 0.004150390625, 0.00054168701171875, 3.814697265625e-06, 0.00022220611572265625, 0.0004482269287109375, 0.00250244140625, 0.00055694580078125, 7.009506225585938e-05, 8.440017700195312e-05, 0.00138092041015625, 0.04833984375, 0.796875, 0.011962890625, 0.00010156631469726562, 0.0003604888916015625, 0.001495361328125, 0.01397705078125, 0.00787353515625, 0.018310546875, 0.00494384765625, 0.0004482269287109375, 0.0004711151123046875, 0.00089263916015625, 2.7418136596679688e-05, 0.0028533935546875]}\n",
       "    )\n",
       "    </script>"
      ],
      "text/plain": [
       "<circuitsvis.utils.render.RenderedHTML at 0x7f178c2e91d0>"
      ]
     },
     "metadata": {},
     "output_type": "display_data"
    }
   ],
   "source": [
    "for layer_idx, head_idx in HEADS:\n",
    "    print(\n",
    "        f\"Layer: {layer_idx}, Head: {head_idx}\"\n",
    "    )\n",
    "\n",
    "    head_matrix = torch.Tensor(attn_matrices.attention_matrices[layer_idx, head_idx]).squeeze()\n",
    "    visualize_attn_matrix(\n",
    "        attn_matrix=head_matrix,\n",
    "        tokens=[mt.tokenizer.decode(t) for t in tokenized.input_ids[0]],\n",
    "        q_index=-1,\n",
    "        start_from=1\n",
    "    )"
   ]
  },
  {
   "cell_type": "code",
   "execution_count": 166,
   "id": "60e64440",
   "metadata": {},
   "outputs": [
    {
     "name": "stdout",
     "output_type": "stream",
     "text": [
      "Which of these numbers is a multiple of 2?\n",
      "options: 48, 57, 55, 62, 39\n",
      "Answer:\n",
      " 48\n",
      "Explanation: A multiple of 2 is an even number, so we need to find\n",
      "layer=35\n"
     ]
    },
    {
     "data": {
      "text/html": [
       "<div id=\"circuits-vis-beaac27f-bf67\" style=\"margin: 15px 0;\"/>\n",
       "    <script crossorigin type=\"module\">\n",
       "    import { render, ColoredTokens } from \"https://unpkg.com/circuitsvis@1.43.3/dist/cdn/esm.js\";\n",
       "    render(\n",
       "      \"circuits-vis-beaac27f-bf67\",\n",
       "      ColoredTokens,\n",
       "      {\"tokens\": [\"Which\", \" of\", \" these\", \" numbers\", \" is\", \" a\", \" multiple\", \" of\", \" \", \"2\", \"?\\n\", \"options\", \":\", \" \", \"48\", \",\", \" \", \"57\", \",\", \" \", \"55\", \",\", \" \", \"62\", \",\", \" \", \"39\", \"\\n\", \"Answer\", \":\"], \"values\": [0.024334430694580078, 0.00766395777463913, 0.0042170509696006775, 0.01574501395225525, 0.010936811566352844, 0.0068624988198280334, 0.021134138107299805, 0.006293162703514099, 0.0031886398792266846, 0.019983947277069092, 0.022239208221435547, 0.010580107569694519, 0.008990630507469177, 0.011735782027244568, 0.034320130944252014, 0.0306585431098938, 0.00523848831653595, 0.01722472906112671, 0.009169615805149078, 0.009752131998538971, 0.00748753547668457, 0.00834067165851593, 0.005151886492967606, 0.03105653077363968, 0.011192724108695984, 0.007199302315711975, 0.005998924374580383, 0.02241802215576172, 0.017463944852352142, 0.03275489807128906]}\n",
       "    )\n",
       "    </script>"
      ],
      "text/plain": [
       "<circuitsvis.utils.render.RenderedHTML at 0x7f17cc153250>"
      ]
     },
     "metadata": {},
     "output_type": "display_data"
    },
    {
     "name": "stdout",
     "output_type": "stream",
     "text": [
      "--------------------------------------------------------------------------------\n",
      "layer=47\n"
     ]
    },
    {
     "data": {
      "text/html": [
       "<div id=\"circuits-vis-9fd07742-3ad6\" style=\"margin: 15px 0;\"/>\n",
       "    <script crossorigin type=\"module\">\n",
       "    import { render, ColoredTokens } from \"https://unpkg.com/circuitsvis@1.43.3/dist/cdn/esm.js\";\n",
       "    render(\n",
       "      \"circuits-vis-9fd07742-3ad6\",\n",
       "      ColoredTokens,\n",
       "      {\"tokens\": [\"Which\", \" of\", \" these\", \" numbers\", \" is\", \" a\", \" multiple\", \" of\", \" \", \"2\", \"?\\n\", \"options\", \":\", \" \", \"48\", \",\", \" \", \"57\", \",\", \" \", \"55\", \",\", \" \", \"62\", \",\", \" \", \"39\", \"\\n\", \"Answer\", \":\"], \"values\": [0.0026037096977233887, 0.000871758908033371, 0.0004173070192337036, 0.0009092912077903748, 0.0005512507632374763, 0.0004638945683836937, 0.0018669292330741882, 0.0006335526704788208, 0.0004273541271686554, 0.001473795622587204, 0.0023014694452285767, 0.0015382841229438782, 0.0007137879729270935, 0.0011105183511972427, 0.006221424788236618, 0.002020074985921383, 0.0007670652121305466, 0.0007919184863567352, 0.0006356863304972649, 0.0006611384451389313, 0.00045374035835266113, 0.00040439423173666, 0.0006719138473272324, 0.0022594407200813293, 0.0005726413801312447, 0.0006935745477676392, 0.0007390379905700684, 0.003535822033882141, 0.007698953151702881, 0.0025468990206718445]}\n",
       "    )\n",
       "    </script>"
      ],
      "text/plain": [
       "<circuitsvis.utils.render.RenderedHTML at 0x7f17ac161c10>"
      ]
     },
     "metadata": {},
     "output_type": "display_data"
    },
    {
     "name": "stdout",
     "output_type": "stream",
     "text": [
      "--------------------------------------------------------------------------------\n",
      "layer=52\n"
     ]
    },
    {
     "data": {
      "text/html": [
       "<div id=\"circuits-vis-605e7e51-f1bf\" style=\"margin: 15px 0;\"/>\n",
       "    <script crossorigin type=\"module\">\n",
       "    import { render, ColoredTokens } from \"https://unpkg.com/circuitsvis@1.43.3/dist/cdn/esm.js\";\n",
       "    render(\n",
       "      \"circuits-vis-605e7e51-f1bf\",\n",
       "      ColoredTokens,\n",
       "      {\"tokens\": [\"Which\", \" of\", \" these\", \" numbers\", \" is\", \" a\", \" multiple\", \" of\", \" \", \"2\", \"?\\n\", \"options\", \":\", \" \", \"48\", \",\", \" \", \"57\", \",\", \" \", \"55\", \",\", \" \", \"62\", \",\", \" \", \"39\", \"\\n\", \"Answer\", \":\"], \"values\": [0.00534588098526001, 0.0029865801334381104, 0.0012714490294456482, 0.0023975297808647156, 0.00195930153131485, 0.0019022375345230103, 0.003771677613258362, 0.0016748588532209396, 0.0012407656759023666, 0.005597308278083801, 0.015055269002914429, 0.007423967123031616, 0.004108583554625511, 0.0034854263067245483, 0.01434578187763691, 0.004858466796576977, 0.0017030350863933563, 0.003022409975528717, 0.0013002846390008926, 0.0011394694447517395, 0.0017667915672063828, 0.0019261259585618973, 0.0011276919394731522, 0.0037410911172628403, 0.0012461934238672256, 0.0011222828179597855, 0.0022115539759397507, 0.018399059772491455, 0.021548688411712646, 0.013075977563858032]}\n",
       "    )\n",
       "    </script>"
      ],
      "text/plain": [
       "<circuitsvis.utils.render.RenderedHTML at 0x7f17cc0c6510>"
      ]
     },
     "metadata": {},
     "output_type": "display_data"
    },
    {
     "name": "stdout",
     "output_type": "stream",
     "text": [
      "--------------------------------------------------------------------------------\n"
     ]
    },
    {
     "data": {
      "text/plain": [
       "[PredictedToken(token=' ', prob=0.796875, logit=21.375, token_id=220, metadata=None),\n",
       " PredictedToken(token=' The', prob=0.07421875, logit=19.0, token_id=578, metadata=None),\n",
       " PredictedToken(token=' A', prob=0.034912109375, logit=18.25, token_id=362, metadata=None),\n",
       " PredictedToken(token=' Only', prob=0.006072998046875, logit=16.5, token_id=8442, metadata=None),\n",
       " PredictedToken(token=' We', prob=0.006072998046875, logit=16.5, token_id=1226, metadata=None)]"
      ]
     },
     "execution_count": 166,
     "metadata": {},
     "output_type": "execute_result"
    }
   ],
   "source": [
    "options = [\"48\", \"57\", \"55\", \"62\", \"39\"]\n",
    "prompt_template = \"\"\"Which of these numbers is a multiple of 2?\n",
    "options: {}\n",
    "Answer:\"\"\"\n",
    "prompt = prompt_template.format(\n",
    "    \", \".join(options)\n",
    ")\n",
    "print(prompt)\n",
    "gen = generate_with_patch(\n",
    "    mt=mt,\n",
    "    inputs=prompt,\n",
    "    n_gen_per_prompt=1,\n",
    "    max_new_tokens=20,\n",
    "    remove_prefix=True,\n",
    ")[0]\n",
    "print(gen)\n",
    "tokenized = prepare_input(\n",
    "    tokenizer=mt,\n",
    "    prompts=prompt\n",
    ")\n",
    "attn_matrices = get_attention_matrices(\n",
    "    input=tokenized,\n",
    "    mt=mt,\n",
    "    value_weighted=False,\n",
    "    # patches = []\n",
    ")\n",
    "visualize_average_attn_matrix(\n",
    "    mt=mt,\n",
    "    attn_matrices=attn_matrices,\n",
    "    prompt=prompt,\n",
    "    tokenized=tokenized,\n",
    "    layer_window=LAYERS,\n",
    ")\n",
    "interpret_logits(tokenizer=mt, logits=attn_matrices.logits)"
   ]
  },
  {
   "cell_type": "code",
   "execution_count": 167,
   "id": "cdc6ef8d",
   "metadata": {},
   "outputs": [
    {
     "name": "stdout",
     "output_type": "stream",
     "text": [
      "Layer: 33, Head: 45\n"
     ]
    },
    {
     "data": {
      "text/html": [
       "<div id=\"circuits-vis-97964160-a7b8\" style=\"margin: 15px 0;\"/>\n",
       "    <script crossorigin type=\"module\">\n",
       "    import { render, ColoredTokens } from \"https://unpkg.com/circuitsvis@1.43.3/dist/cdn/esm.js\";\n",
       "    render(\n",
       "      \"circuits-vis-97964160-a7b8\",\n",
       "      ColoredTokens,\n",
       "      {\"tokens\": [\"Which\", \" of\", \" these\", \" numbers\", \" is\", \" a\", \" multiple\", \" of\", \" \", \"2\", \"?\\n\", \"options\", \":\", \" \", \"48\", \",\", \" \", \"57\", \",\", \" \", \"55\", \",\", \" \", \"62\", \",\", \" \", \"39\", \"\\n\", \"Answer\", \":\"], \"values\": [0.0179443359375, 0.005126953125, 0.004608154296875, 0.0103759765625, 0.012939453125, 0.0081787109375, 0.0169677734375, 0.0098876953125, 0.0024261474609375, 0.033447265625, 0.01361083984375, 0.01312255859375, 0.0164794921875, 0.006683349609375, 0.1328125, 0.04736328125, 0.0009918212890625, 0.011962890625, 0.00701904296875, 0.01324462890625, 0.0098876953125, 0.006805419921875, 0.01361083984375, 0.047119140625, 0.0174560546875, 0.01361083984375, 0.00506591796875, 0.0216064453125, 0.0096435546875, 0.01806640625]}\n",
       "    )\n",
       "    </script>"
      ],
      "text/plain": [
       "<circuitsvis.utils.render.RenderedHTML at 0x7f176c31c410>"
      ]
     },
     "metadata": {},
     "output_type": "display_data"
    },
    {
     "name": "stdout",
     "output_type": "stream",
     "text": [
      "Layer: 33, Head: 18\n"
     ]
    },
    {
     "data": {
      "text/html": [
       "<div id=\"circuits-vis-f81b4729-c2af\" style=\"margin: 15px 0;\"/>\n",
       "    <script crossorigin type=\"module\">\n",
       "    import { render, ColoredTokens } from \"https://unpkg.com/circuitsvis@1.43.3/dist/cdn/esm.js\";\n",
       "    render(\n",
       "      \"circuits-vis-f81b4729-c2af\",\n",
       "      ColoredTokens,\n",
       "      {\"tokens\": [\"Which\", \" of\", \" these\", \" numbers\", \" is\", \" a\", \" multiple\", \" of\", \" \", \"2\", \"?\\n\", \"options\", \":\", \" \", \"48\", \",\", \" \", \"57\", \",\", \" \", \"55\", \",\", \" \", \"62\", \",\", \" \", \"39\", \"\\n\", \"Answer\", \":\"], \"values\": [0.0233154296875, 0.002716064453125, 0.005706787109375, 0.0174560546875, 0.005859375, 0.0103759765625, 0.011474609375, 0.01019287109375, 0.004425048828125, 0.021484375, 0.0194091796875, 0.006805419921875, 0.0093994140625, 0.07763671875, 0.166015625, 0.2197265625, 0.01904296875, 0.0458984375, 0.01416015625, 0.023681640625, 0.01025390625, 0.007110595703125, 0.0157470703125, 0.037109375, 0.007354736328125, 0.01312255859375, 0.0023651123046875, 0.00848388671875, 0.00124359130859375, 0.00872802734375]}\n",
       "    )\n",
       "    </script>"
      ],
      "text/plain": [
       "<circuitsvis.utils.render.RenderedHTML at 0x7f176c30a310>"
      ]
     },
     "metadata": {},
     "output_type": "display_data"
    },
    {
     "name": "stdout",
     "output_type": "stream",
     "text": [
      "Layer: 34, Head: 1\n"
     ]
    },
    {
     "data": {
      "text/html": [
       "<div id=\"circuits-vis-b0ac21e0-cf5b\" style=\"margin: 15px 0;\"/>\n",
       "    <script crossorigin type=\"module\">\n",
       "    import { render, ColoredTokens } from \"https://unpkg.com/circuitsvis@1.43.3/dist/cdn/esm.js\";\n",
       "    render(\n",
       "      \"circuits-vis-b0ac21e0-cf5b\",\n",
       "      ColoredTokens,\n",
       "      {\"tokens\": [\"Which\", \" of\", \" these\", \" numbers\", \" is\", \" a\", \" multiple\", \" of\", \" \", \"2\", \"?\\n\", \"options\", \":\", \" \", \"48\", \",\", \" \", \"57\", \",\", \" \", \"55\", \",\", \" \", \"62\", \",\", \" \", \"39\", \"\\n\", \"Answer\", \":\"], \"values\": [0.01904296875, 0.00445556640625, 0.000965118408203125, 0.006011962890625, 0.004852294921875, 0.00274658203125, 0.00811767578125, 0.003875732421875, 0.00067138671875, 0.01544189453125, 0.006134033203125, 0.001495361328125, 0.004241943359375, 0.007415771484375, 0.2080078125, 0.1943359375, 0.00174713134765625, 0.0018310546875, 0.00543212890625, 0.01263427734375, 0.000408172607421875, 0.002655029296875, 0.0125732421875, 0.07275390625, 0.0274658203125, 0.00848388671875, 6.67572021484375e-05, 0.00946044921875, 0.00156402587890625, 0.022705078125]}\n",
       "    )\n",
       "    </script>"
      ],
      "text/plain": [
       "<circuitsvis.utils.render.RenderedHTML at 0x7f17cc17dbd0>"
      ]
     },
     "metadata": {},
     "output_type": "display_data"
    },
    {
     "name": "stdout",
     "output_type": "stream",
     "text": [
      "Layer: 34, Head: 6\n"
     ]
    },
    {
     "data": {
      "text/html": [
       "<div id=\"circuits-vis-dcf95c0c-b121\" style=\"margin: 15px 0;\"/>\n",
       "    <script crossorigin type=\"module\">\n",
       "    import { render, ColoredTokens } from \"https://unpkg.com/circuitsvis@1.43.3/dist/cdn/esm.js\";\n",
       "    render(\n",
       "      \"circuits-vis-dcf95c0c-b121\",\n",
       "      ColoredTokens,\n",
       "      {\"tokens\": [\"Which\", \" of\", \" these\", \" numbers\", \" is\", \" a\", \" multiple\", \" of\", \" \", \"2\", \"?\\n\", \"options\", \":\", \" \", \"48\", \",\", \" \", \"57\", \",\", \" \", \"55\", \",\", \" \", \"62\", \",\", \" \", \"39\", \"\\n\", \"Answer\", \":\"], \"values\": [0.0162353515625, 0.002899169921875, 0.0010833740234375, 0.005126953125, 0.0038909912109375, 0.0023956298828125, 0.005767822265625, 0.002288818359375, 0.000644683837890625, 0.01226806640625, 0.0067138671875, 0.00130462646484375, 0.005950927734375, 0.005706787109375, 0.2578125, 0.1435546875, 0.00167083740234375, 0.0013427734375, 0.005615234375, 0.00787353515625, 0.000324249267578125, 0.0010986328125, 0.00909423828125, 0.050537109375, 0.012451171875, 0.0028076171875, 2.586841583251953e-05, 0.005157470703125, 0.00092315673828125, 0.0167236328125]}\n",
       "    )\n",
       "    </script>"
      ],
      "text/plain": [
       "<circuitsvis.utils.render.RenderedHTML at 0x7f176c48b7d0>"
      ]
     },
     "metadata": {},
     "output_type": "display_data"
    },
    {
     "name": "stdout",
     "output_type": "stream",
     "text": [
      "Layer: 34, Head: 7\n"
     ]
    },
    {
     "data": {
      "text/html": [
       "<div id=\"circuits-vis-16d4ff79-0e4b\" style=\"margin: 15px 0;\"/>\n",
       "    <script crossorigin type=\"module\">\n",
       "    import { render, ColoredTokens } from \"https://unpkg.com/circuitsvis@1.43.3/dist/cdn/esm.js\";\n",
       "    render(\n",
       "      \"circuits-vis-16d4ff79-0e4b\",\n",
       "      ColoredTokens,\n",
       "      {\"tokens\": [\"Which\", \" of\", \" these\", \" numbers\", \" is\", \" a\", \" multiple\", \" of\", \" \", \"2\", \"?\\n\", \"options\", \":\", \" \", \"48\", \",\", \" \", \"57\", \",\", \" \", \"55\", \",\", \" \", \"62\", \",\", \" \", \"39\", \"\\n\", \"Answer\", \":\"], \"values\": [0.0244140625, 0.00341796875, 0.0014495849609375, 0.00482177734375, 0.003631591796875, 0.00142669677734375, 0.006103515625, 0.0029144287109375, 0.00106048583984375, 0.0211181640625, 0.01171875, 0.00335693359375, 0.00848388671875, 0.00811767578125, 0.142578125, 0.1494140625, 0.00250244140625, 0.007568359375, 0.01611328125, 0.01300048828125, 0.0031585693359375, 0.00604248046875, 0.010009765625, 0.10986328125, 0.03271484375, 0.0098876953125, 0.0014495849609375, 0.031982421875, 0.005889892578125, 0.052490234375]}\n",
       "    )\n",
       "    </script>"
      ],
      "text/plain": [
       "<circuitsvis.utils.render.RenderedHTML at 0x7f176c2ecb90>"
      ]
     },
     "metadata": {},
     "output_type": "display_data"
    },
    {
     "name": "stdout",
     "output_type": "stream",
     "text": [
      "Layer: 35, Head: 19\n"
     ]
    },
    {
     "data": {
      "text/html": [
       "<div id=\"circuits-vis-41bb7c51-55ef\" style=\"margin: 15px 0;\"/>\n",
       "    <script crossorigin type=\"module\">\n",
       "    import { render, ColoredTokens } from \"https://unpkg.com/circuitsvis@1.43.3/dist/cdn/esm.js\";\n",
       "    render(\n",
       "      \"circuits-vis-41bb7c51-55ef\",\n",
       "      ColoredTokens,\n",
       "      {\"tokens\": [\"Which\", \" of\", \" these\", \" numbers\", \" is\", \" a\", \" multiple\", \" of\", \" \", \"2\", \"?\\n\", \"options\", \":\", \" \", \"48\", \",\", \" \", \"57\", \",\", \" \", \"55\", \",\", \" \", \"62\", \",\", \" \", \"39\", \"\\n\", \"Answer\", \":\"], \"values\": [0.00933837890625, 9.012222290039062e-05, 0.00010538101196289062, 0.0028076171875, 0.0001316070556640625, 0.000606536865234375, 0.001953125, 0.00052642822265625, 0.000301361083984375, 0.013916015625, 0.00083160400390625, 0.00019741058349609375, 0.00015354156494140625, 0.0067138671875, 0.1630859375, 0.0634765625, 0.007110595703125, 0.0712890625, 0.0017852783203125, 0.0277099609375, 0.0228271484375, 0.00958251953125, 0.0142822265625, 0.41015625, 0.044189453125, 0.0203857421875, 0.01513671875, 0.00799560546875, 8.726119995117188e-05, 0.0012054443359375]}\n",
       "    )\n",
       "    </script>"
      ],
      "text/plain": [
       "<circuitsvis.utils.render.RenderedHTML at 0x7f178c2e80d0>"
      ]
     },
     "metadata": {},
     "output_type": "display_data"
    },
    {
     "name": "stdout",
     "output_type": "stream",
     "text": [
      "Layer: 39, Head: 40\n"
     ]
    },
    {
     "data": {
      "text/html": [
       "<div id=\"circuits-vis-5c875d61-f1bf\" style=\"margin: 15px 0;\"/>\n",
       "    <script crossorigin type=\"module\">\n",
       "    import { render, ColoredTokens } from \"https://unpkg.com/circuitsvis@1.43.3/dist/cdn/esm.js\";\n",
       "    render(\n",
       "      \"circuits-vis-5c875d61-f1bf\",\n",
       "      ColoredTokens,\n",
       "      {\"tokens\": [\"Which\", \" of\", \" these\", \" numbers\", \" is\", \" a\", \" multiple\", \" of\", \" \", \"2\", \"?\\n\", \"options\", \":\", \" \", \"48\", \",\", \" \", \"57\", \",\", \" \", \"55\", \",\", \" \", \"62\", \",\", \" \", \"39\", \"\\n\", \"Answer\", \":\"], \"values\": [0.0130615234375, 0.007232666015625, 0.0010833740234375, 0.00836181640625, 0.01324462890625, 0.01446533203125, 0.03564453125, 0.0228271484375, 0.003662109375, 0.0242919921875, 0.056640625, 0.0057373046875, 0.00836181640625, 0.01348876953125, 0.2373046875, 0.11328125, 0.005157470703125, 0.0064697265625, 0.02685546875, 0.01116943359375, 0.00145721435546875, 0.00439453125, 0.0123291015625, 0.0869140625, 0.0189208984375, 0.006378173828125, 0.000438690185546875, 0.00982666015625, 0.0191650390625, 0.1142578125]}\n",
       "    )\n",
       "    </script>"
      ],
      "text/plain": [
       "<circuitsvis.utils.render.RenderedHTML at 0x7f176c2fbd50>"
      ]
     },
     "metadata": {},
     "output_type": "display_data"
    },
    {
     "name": "stdout",
     "output_type": "stream",
     "text": [
      "Layer: 42, Head: 30\n"
     ]
    },
    {
     "data": {
      "text/html": [
       "<div id=\"circuits-vis-365dd80c-1094\" style=\"margin: 15px 0;\"/>\n",
       "    <script crossorigin type=\"module\">\n",
       "    import { render, ColoredTokens } from \"https://unpkg.com/circuitsvis@1.43.3/dist/cdn/esm.js\";\n",
       "    render(\n",
       "      \"circuits-vis-365dd80c-1094\",\n",
       "      ColoredTokens,\n",
       "      {\"tokens\": [\"Which\", \" of\", \" these\", \" numbers\", \" is\", \" a\", \" multiple\", \" of\", \" \", \"2\", \"?\\n\", \"options\", \":\", \" \", \"48\", \",\", \" \", \"57\", \",\", \" \", \"55\", \",\", \" \", \"62\", \",\", \" \", \"39\", \"\\n\", \"Answer\", \":\"], \"values\": [0.00750732421875, 0.00244140625, 0.0035400390625, 0.01043701171875, 0.0062255859375, 0.00567626953125, 0.0185546875, 0.00946044921875, 0.00244140625, 0.04345703125, 0.0125732421875, 0.00567626953125, 0.00408935546875, 0.00653076171875, 0.050537109375, 0.015380859375, 0.00604248046875, 0.005859375, 0.00531005859375, 0.0111083984375, 0.0029449462890625, 0.0032806396484375, 0.00823974609375, 0.0216064453125, 0.00775146484375, 0.00726318359375, 0.00189971923828125, 0.01446533203125, 0.0029449462890625, 0.00531005859375]}\n",
       "    )\n",
       "    </script>"
      ],
      "text/plain": [
       "<circuitsvis.utils.render.RenderedHTML at 0x7f17ac173290>"
      ]
     },
     "metadata": {},
     "output_type": "display_data"
    },
    {
     "name": "stdout",
     "output_type": "stream",
     "text": [
      "Layer: 47, Head: 18\n"
     ]
    },
    {
     "data": {
      "text/html": [
       "<div id=\"circuits-vis-32f5028d-6529\" style=\"margin: 15px 0;\"/>\n",
       "    <script crossorigin type=\"module\">\n",
       "    import { render, ColoredTokens } from \"https://unpkg.com/circuitsvis@1.43.3/dist/cdn/esm.js\";\n",
       "    render(\n",
       "      \"circuits-vis-32f5028d-6529\",\n",
       "      ColoredTokens,\n",
       "      {\"tokens\": [\"Which\", \" of\", \" these\", \" numbers\", \" is\", \" a\", \" multiple\", \" of\", \" \", \"2\", \"?\\n\", \"options\", \":\", \" \", \"48\", \",\", \" \", \"57\", \",\", \" \", \"55\", \",\", \" \", \"62\", \",\", \" \", \"39\", \"\\n\", \"Answer\", \":\"], \"values\": [0.00494384765625, 0.0027313232421875, 0.001739501953125, 0.0087890625, 0.00518798828125, 0.005035400390625, 0.007781982421875, 0.00567626953125, 0.00567626953125, 0.0218505859375, 0.014404296875, 0.0019683837890625, 0.00286865234375, 0.019287109375, 0.21875, 0.03662109375, 0.010986328125, 0.002899169921875, 0.010009765625, 0.00634765625, 0.000598907470703125, 0.0036163330078125, 0.010009765625, 0.064453125, 0.00970458984375, 0.00970458984375, 0.00084686279296875, 0.012451171875, 0.006744384765625, 0.018310546875]}\n",
       "    )\n",
       "    </script>"
      ],
      "text/plain": [
       "<circuitsvis.utils.render.RenderedHTML at 0x7f176c30a310>"
      ]
     },
     "metadata": {},
     "output_type": "display_data"
    },
    {
     "name": "stdout",
     "output_type": "stream",
     "text": [
      "Layer: 52, Head: 58\n"
     ]
    },
    {
     "data": {
      "text/html": [
       "<div id=\"circuits-vis-49b95657-2135\" style=\"margin: 15px 0;\"/>\n",
       "    <script crossorigin type=\"module\">\n",
       "    import { render, ColoredTokens } from \"https://unpkg.com/circuitsvis@1.43.3/dist/cdn/esm.js\";\n",
       "    render(\n",
       "      \"circuits-vis-49b95657-2135\",\n",
       "      ColoredTokens,\n",
       "      {\"tokens\": [\"Which\", \" of\", \" these\", \" numbers\", \" is\", \" a\", \" multiple\", \" of\", \" \", \"2\", \"?\\n\", \"options\", \":\", \" \", \"48\", \",\", \" \", \"57\", \",\", \" \", \"55\", \",\", \" \", \"62\", \",\", \" \", \"39\", \"\\n\", \"Answer\", \":\"], \"values\": [0.01324462890625, 0.00909423828125, 0.0025634765625, 0.0101318359375, 0.004425048828125, 0.00543212890625, 0.01226806640625, 0.00897216796875, 0.00457763671875, 0.041015625, 0.013671875, 0.00084686279296875, 0.005706787109375, 0.015869140625, 0.1455078125, 0.022705078125, 0.0032958984375, 0.001739501953125, 0.0036773681640625, 0.00457763671875, 0.00067901611328125, 0.0028228759765625, 0.004364013671875, 0.033203125, 0.005096435546875, 0.0032958984375, 0.00067901611328125, 0.00927734375, 0.00982666015625, 0.0198974609375]}\n",
       "    )\n",
       "    </script>"
      ],
      "text/plain": [
       "<circuitsvis.utils.render.RenderedHTML at 0x7f17ac1d7990>"
      ]
     },
     "metadata": {},
     "output_type": "display_data"
    }
   ],
   "source": [
    "# for group_id in group_id_to_head_indices:\n",
    "for layer_idx, head_idx in HEADS:\n",
    "    print(\n",
    "        f\"Layer: {layer_idx}, Head: {head_idx}\"\n",
    "    )\n",
    "\n",
    "    head_matrix = torch.Tensor(attn_matrices.attention_matrices[layer_idx, head_idx]).squeeze()\n",
    "    visualize_attn_matrix(\n",
    "        attn_matrix=head_matrix,\n",
    "        tokens=[mt.tokenizer.decode(t) for t in tokenized.input_ids[0]],\n",
    "        q_index=-1,\n",
    "        start_from=1\n",
    "    )"
   ]
  },
  {
   "cell_type": "code",
   "execution_count": 156,
   "id": "62f912ca",
   "metadata": {},
   "outputs": [
    {
     "name": "stdout",
     "output_type": "stream",
     "text": [
      "Which person from the following list is different from the others?\n",
      "Brad Pitt, Tom Hanks, Leonardo DiCaprio, Scarlett Johansson, Daniel Radcliffe, Hugh Jackman.\n",
      "Ans:\n",
      " Scarlett Johansson. She is the only female in the list. The others are all male actors.\n",
      "layer=35\n"
     ]
    },
    {
     "data": {
      "text/html": [
       "<div id=\"circuits-vis-11acea78-9160\" style=\"margin: 15px 0;\"/>\n",
       "    <script crossorigin type=\"module\">\n",
       "    import { render, ColoredTokens } from \"https://unpkg.com/circuitsvis@1.43.3/dist/cdn/esm.js\";\n",
       "    render(\n",
       "      \"circuits-vis-11acea78-9160\",\n",
       "      ColoredTokens,\n",
       "      {\"tokens\": [\"Which\", \" person\", \" from\", \" the\", \" following\", \" list\", \" is\", \" different\", \" from\", \" the\", \" others\", \"?\\n\", \"Brad\", \" Pitt\", \",\", \" Tom\", \" H\", \"anks\", \",\", \" Leonardo\", \" Di\", \"Cap\", \"rio\", \",\", \" Scarlett\", \" Joh\", \"ansson\", \",\", \" Daniel\", \" Rad\", \"cliffe\", \",\", \" Hugh\", \" Jack\", \"man\", \".\\n\", \"Ans\", \":\"], \"values\": [0.020040512084960938, 0.005535706877708435, 0.0027643442153930664, 0.006087005138397217, 0.005606129765510559, 0.00646933913230896, 0.0051049403846263885, 0.02603285014629364, 0.003652505576610565, 0.0022845864295959473, 0.010355621576309204, 0.015157639980316162, 0.004774898290634155, 0.007864713668823242, 0.01661914587020874, 0.0033736638724803925, 0.009387433528900146, 0.010529831051826477, 0.008500352501869202, 0.003891296684741974, 0.007532089948654175, 0.004093550145626068, 0.00666654109954834, 0.01679709553718567, 0.01439385861158371, 0.004166657105088234, 0.016306087374687195, 0.0451272577047348, 0.0038787871599197388, 0.008867494761943817, 0.017873287200927734, 0.016392409801483154, 0.0037566497921943665, 0.0033547505736351013, 0.008913259953260422, 0.03786146640777588, 0.01463087648153305, 0.040172576904296875]}\n",
       "    )\n",
       "    </script>"
      ],
      "text/plain": [
       "<circuitsvis.utils.render.RenderedHTML at 0x7f17ac1715d0>"
      ]
     },
     "metadata": {},
     "output_type": "display_data"
    },
    {
     "name": "stdout",
     "output_type": "stream",
     "text": [
      "--------------------------------------------------------------------------------\n",
      "layer=47\n"
     ]
    },
    {
     "data": {
      "text/html": [
       "<div id=\"circuits-vis-f774cfc7-23c7\" style=\"margin: 15px 0;\"/>\n",
       "    <script crossorigin type=\"module\">\n",
       "    import { render, ColoredTokens } from \"https://unpkg.com/circuitsvis@1.43.3/dist/cdn/esm.js\";\n",
       "    render(\n",
       "      \"circuits-vis-f774cfc7-23c7\",\n",
       "      ColoredTokens,\n",
       "      {\"tokens\": [\"Which\", \" person\", \" from\", \" the\", \" following\", \" list\", \" is\", \" different\", \" from\", \" the\", \" others\", \"?\\n\", \"Brad\", \" Pitt\", \",\", \" Tom\", \" H\", \"anks\", \",\", \" Leonardo\", \" Di\", \"Cap\", \"rio\", \",\", \" Scarlett\", \" Joh\", \"ansson\", \",\", \" Daniel\", \" Rad\", \"cliffe\", \",\", \" Hugh\", \" Jack\", \"man\", \".\\n\", \"Ans\", \":\"], \"values\": [0.0031524449586868286, 0.0007928046397864819, 0.0007094985339790583, 0.0034181326627731323, 0.0004368070513010025, 0.00043077394366264343, 0.000509168952703476, 0.001398041844367981, 0.00047365017235279083, 0.0005884114652872086, 0.0006341524422168732, 0.002488762140274048, 0.0013505145907402039, 0.0016519948840141296, 0.0020914990454912186, 0.0007356060668826103, 0.00038946978747844696, 0.0010421127080917358, 0.0010365140624344349, 0.0012104194611310959, 0.0023172348737716675, 0.0009823963046073914, 0.0012895464897155762, 0.0013851523399353027, 0.015520952641963959, 0.002166159451007843, 0.005076687783002853, 0.0029477840289473534, 0.0019461382180452347, 0.0016802400350570679, 0.0022667106240987778, 0.001416163519024849, 0.0010786224156618118, 0.0013064593076705933, 0.0010609105229377747, 0.005356326699256897, 0.008065670728683472, 0.004677519202232361]}\n",
       "    )\n",
       "    </script>"
      ],
      "text/plain": [
       "<circuitsvis.utils.render.RenderedHTML at 0x7f17ac120d90>"
      ]
     },
     "metadata": {},
     "output_type": "display_data"
    },
    {
     "name": "stdout",
     "output_type": "stream",
     "text": [
      "--------------------------------------------------------------------------------\n",
      "layer=52\n"
     ]
    },
    {
     "data": {
      "text/html": [
       "<div id=\"circuits-vis-e638f416-b6ed\" style=\"margin: 15px 0;\"/>\n",
       "    <script crossorigin type=\"module\">\n",
       "    import { render, ColoredTokens } from \"https://unpkg.com/circuitsvis@1.43.3/dist/cdn/esm.js\";\n",
       "    render(\n",
       "      \"circuits-vis-e638f416-b6ed\",\n",
       "      ColoredTokens,\n",
       "      {\"tokens\": [\"Which\", \" person\", \" from\", \" the\", \" following\", \" list\", \" is\", \" different\", \" from\", \" the\", \" others\", \"?\\n\", \"Brad\", \" Pitt\", \",\", \" Tom\", \" H\", \"anks\", \",\", \" Leonardo\", \" Di\", \"Cap\", \"rio\", \",\", \" Scarlett\", \" Joh\", \"ansson\", \",\", \" Daniel\", \" Rad\", \"cliffe\", \",\", \" Hugh\", \" Jack\", \"man\", \".\\n\", \"Ans\", \":\"], \"values\": [0.006998203694820404, 0.001956649124622345, 0.0017308760434389114, 0.00484195351600647, 0.001035966444760561, 0.0010203365236520767, 0.0012807492166757584, 0.002081865444779396, 0.0008989647030830383, 0.0007119616493582726, 0.0010929889976978302, 0.009337395429611206, 0.0030941441655158997, 0.0019653867930173874, 0.004785168915987015, 0.002267729490995407, 0.00045922212302684784, 0.0012963954359292984, 0.001562783494591713, 0.0048966482281684875, 0.0032985899597406387, 0.0008836109191179276, 0.001912520732730627, 0.001748485490679741, 0.040080368518829346, 0.003662511706352234, 0.005358944647014141, 0.0028358548879623413, 0.0037033557891845703, 0.001350056380033493, 0.0022432785481214523, 0.0016390401870012283, 0.0020788684487342834, 0.000560268759727478, 0.0011465635616332293, 0.013526752591133118, 0.01446174830198288, 0.018789269030094147]}\n",
       "    )\n",
       "    </script>"
      ],
      "text/plain": [
       "<circuitsvis.utils.render.RenderedHTML at 0x7f176c31d790>"
      ]
     },
     "metadata": {},
     "output_type": "display_data"
    },
    {
     "name": "stdout",
     "output_type": "stream",
     "text": [
      "--------------------------------------------------------------------------------\n"
     ]
    },
    {
     "data": {
      "text/plain": [
       "[PredictedToken(token=' Scarlett', prob=0.81640625, logit=19.5, token_id=96572, metadata=None),\n",
       " PredictedToken(token=' The', prob=0.031494140625, logit=16.25, token_id=578, metadata=None),\n",
       " PredictedToken(token=' Daniel', prob=0.031494140625, logit=16.25, token_id=15469, metadata=None),\n",
       " PredictedToken(token=' All', prob=0.01239013671875, logit=15.3125, token_id=2052, metadata=None),\n",
       " PredictedToken(token=' ', prob=0.0096435546875, logit=15.0625, token_id=220, metadata=None)]"
      ]
     },
     "execution_count": 156,
     "metadata": {},
     "output_type": "execute_result"
    }
   ],
   "source": [
    "# NOVELTY: Find the odd one out\n",
    "\n",
    "# options = [\"Issac Newton\", \"Albert Einstein\", \"Marie Curie\", \"Hugh Jackman\", \"Charles Darwin\"]\n",
    "options = [\n",
    "    \"Brad Pitt\",\n",
    "    \"Tom Hanks\",\n",
    "    \"Leonardo DiCaprio\",\n",
    "    \"Scarlett Johansson\",\n",
    "    \"Daniel Radcliffe\",\n",
    "    \"Hugh Jackman\",\n",
    "]\n",
    "\n",
    "prompt_template = \"\"\"Which person from the following list is different from the others?\n",
    "{}.\n",
    "Ans:\"\"\"\n",
    "\n",
    "prompt = prompt_template.format(\", \".join(options))\n",
    "print(prompt)\n",
    "gen = generate_with_patch(\n",
    "    mt=mt,\n",
    "    inputs=prompt,\n",
    "    n_gen_per_prompt=1,\n",
    "    max_new_tokens=20,\n",
    "    remove_prefix=True,\n",
    ")[0]\n",
    "print(gen)\n",
    "tokenized = prepare_input(tokenizer=mt, prompts=prompt)\n",
    "attn_matrices = get_attention_matrices(\n",
    "    input=tokenized,\n",
    "    mt=mt,\n",
    "    value_weighted=False,\n",
    "    # patches = []\n",
    ")\n",
    "visualize_average_attn_matrix(\n",
    "    mt=mt,\n",
    "    attn_matrices=attn_matrices,\n",
    "    prompt=prompt,\n",
    "    tokenized=tokenized,\n",
    "    layer_window=LAYERS,\n",
    ")\n",
    "interpret_logits(tokenizer=mt, logits=attn_matrices.logits)"
   ]
  },
  {
   "cell_type": "code",
   "execution_count": 157,
   "id": "95be86c9",
   "metadata": {},
   "outputs": [
    {
     "name": "stdout",
     "output_type": "stream",
     "text": [
      "Layer: 33, Head: 45\n"
     ]
    },
    {
     "data": {
      "text/html": [
       "<div id=\"circuits-vis-da3f407e-f823\" style=\"margin: 15px 0;\"/>\n",
       "    <script crossorigin type=\"module\">\n",
       "    import { render, ColoredTokens } from \"https://unpkg.com/circuitsvis@1.43.3/dist/cdn/esm.js\";\n",
       "    render(\n",
       "      \"circuits-vis-da3f407e-f823\",\n",
       "      ColoredTokens,\n",
       "      {\"tokens\": [\"Which\", \" person\", \" from\", \" the\", \" following\", \" list\", \" is\", \" different\", \" from\", \" the\", \" others\", \"?\\n\", \"Brad\", \" Pitt\", \",\", \" Tom\", \" H\", \"anks\", \",\", \" Leonardo\", \" Di\", \"Cap\", \"rio\", \",\", \" Scarlett\", \" Joh\", \"ansson\", \",\", \" Daniel\", \" Rad\", \"cliffe\", \",\", \" Hugh\", \" Jack\", \"man\", \".\\n\", \"Ans\", \":\"], \"values\": [0.0186767578125, 0.00180816650390625, 0.002105712890625, 0.00958251953125, 0.001922607421875, 0.00138092041015625, 0.00142669677734375, 0.010986328125, 0.00201416015625, 0.00142669677734375, 0.004547119140625, 0.0038909912109375, 0.0035400390625, 0.00848388671875, 0.007781982421875, 0.005645751953125, 0.006500244140625, 0.04052734375, 0.006805419921875, 0.005096435546875, 0.00201416015625, 0.004547119140625, 0.00909423828125, 0.01312255859375, 0.201171875, 0.039306640625, 0.057861328125, 0.1015625, 0.012451171875, 0.07080078125, 0.0400390625, 0.0230712890625, 0.006500244140625, 0.00885009765625, 0.002838134765625, 0.01080322265625, 0.001617431640625, 0.017578125]}\n",
       "    )\n",
       "    </script>"
      ],
      "text/plain": [
       "<circuitsvis.utils.render.RenderedHTML at 0x7f176c2edd10>"
      ]
     },
     "metadata": {},
     "output_type": "display_data"
    },
    {
     "name": "stdout",
     "output_type": "stream",
     "text": [
      "Layer: 33, Head: 18\n"
     ]
    },
    {
     "data": {
      "text/html": [
       "<div id=\"circuits-vis-10ff844e-9e19\" style=\"margin: 15px 0;\"/>\n",
       "    <script crossorigin type=\"module\">\n",
       "    import { render, ColoredTokens } from \"https://unpkg.com/circuitsvis@1.43.3/dist/cdn/esm.js\";\n",
       "    render(\n",
       "      \"circuits-vis-10ff844e-9e19\",\n",
       "      ColoredTokens,\n",
       "      {\"tokens\": [\"Which\", \" person\", \" from\", \" the\", \" following\", \" list\", \" is\", \" different\", \" from\", \" the\", \" others\", \"?\\n\", \"Brad\", \" Pitt\", \",\", \" Tom\", \" H\", \"anks\", \",\", \" Leonardo\", \" Di\", \"Cap\", \"rio\", \",\", \" Scarlett\", \" Joh\", \"ansson\", \",\", \" Daniel\", \" Rad\", \"cliffe\", \",\", \" Hugh\", \" Jack\", \"man\", \".\\n\", \"Ans\", \":\"], \"values\": [0.06787109375, 0.012451171875, 0.0091552734375, 0.01025390625, 0.0012054443359375, 0.00131988525390625, 0.003173828125, 0.0098876953125, 0.0012969970703125, 0.0029296875, 0.00201416015625, 0.00174713134765625, 0.0133056640625, 0.032958984375, 0.0279541015625, 0.02294921875, 0.00946044921875, 0.034423828125, 0.01080322265625, 0.00628662109375, 0.0047607421875, 0.006591796875, 0.0162353515625, 0.01544189453125, 0.048583984375, 0.026123046875, 0.044677734375, 0.060302734375, 0.01165771484375, 0.006927490234375, 0.01708984375, 0.0081787109375, 0.00640869140625, 0.0029296875, 0.00262451171875, 0.01025390625, 0.00066375732421875, 0.00811767578125]}\n",
       "    )\n",
       "    </script>"
      ],
      "text/plain": [
       "<circuitsvis.utils.render.RenderedHTML at 0x7f174c4670d0>"
      ]
     },
     "metadata": {},
     "output_type": "display_data"
    },
    {
     "name": "stdout",
     "output_type": "stream",
     "text": [
      "Layer: 34, Head: 1\n"
     ]
    },
    {
     "data": {
      "text/html": [
       "<div id=\"circuits-vis-859f4286-ea4b\" style=\"margin: 15px 0;\"/>\n",
       "    <script crossorigin type=\"module\">\n",
       "    import { render, ColoredTokens } from \"https://unpkg.com/circuitsvis@1.43.3/dist/cdn/esm.js\";\n",
       "    render(\n",
       "      \"circuits-vis-859f4286-ea4b\",\n",
       "      ColoredTokens,\n",
       "      {\"tokens\": [\"Which\", \" person\", \" from\", \" the\", \" following\", \" list\", \" is\", \" different\", \" from\", \" the\", \" others\", \"?\\n\", \"Brad\", \" Pitt\", \",\", \" Tom\", \" H\", \"anks\", \",\", \" Leonardo\", \" Di\", \"Cap\", \"rio\", \",\", \" Scarlett\", \" Joh\", \"ansson\", \",\", \" Daniel\", \" Rad\", \"cliffe\", \",\", \" Hugh\", \" Jack\", \"man\", \".\\n\", \"Ans\", \":\"], \"values\": [0.01129150390625, 0.002960205078125, 0.0032806396484375, 0.0017242431640625, 0.0017242431640625, 0.00096893310546875, 0.0010986328125, 0.0020294189453125, 0.0002994537353515625, 0.000560760498046875, 0.0006866455078125, 0.00160980224609375, 0.0020294189453125, 0.000789642333984375, 0.00335693359375, 0.0010986328125, 0.004150390625, 0.001220703125, 0.00136566162109375, 0.0004367828369140625, 0.0005950927734375, 0.000457763671875, 0.00185394287109375, 0.007781982421875, 0.150390625, 0.0177001953125, 0.0986328125, 0.37890625, 0.007415771484375, 0.00970458984375, 0.054443359375, 0.07861328125, 0.0019683837890625, 0.0003509521484375, 0.000881195068359375, 0.0230712890625, 0.000720977783203125, 0.03271484375]}\n",
       "    )\n",
       "    </script>"
      ],
      "text/plain": [
       "<circuitsvis.utils.render.RenderedHTML at 0x7f176c3ca450>"
      ]
     },
     "metadata": {},
     "output_type": "display_data"
    },
    {
     "name": "stdout",
     "output_type": "stream",
     "text": [
      "Layer: 34, Head: 6\n"
     ]
    },
    {
     "data": {
      "text/html": [
       "<div id=\"circuits-vis-fa354e42-6f6f\" style=\"margin: 15px 0;\"/>\n",
       "    <script crossorigin type=\"module\">\n",
       "    import { render, ColoredTokens } from \"https://unpkg.com/circuitsvis@1.43.3/dist/cdn/esm.js\";\n",
       "    render(\n",
       "      \"circuits-vis-fa354e42-6f6f\",\n",
       "      ColoredTokens,\n",
       "      {\"tokens\": [\"Which\", \" person\", \" from\", \" the\", \" following\", \" list\", \" is\", \" different\", \" from\", \" the\", \" others\", \"?\\n\", \"Brad\", \" Pitt\", \",\", \" Tom\", \" H\", \"anks\", \",\", \" Leonardo\", \" Di\", \"Cap\", \"rio\", \",\", \" Scarlett\", \" Joh\", \"ansson\", \",\", \" Daniel\", \" Rad\", \"cliffe\", \",\", \" Hugh\", \" Jack\", \"man\", \".\\n\", \"Ans\", \":\"], \"values\": [0.0284423828125, 0.004150390625, 0.004364013671875, 0.00982666015625, 0.004852294921875, 0.0018157958984375, 0.0021209716796875, 0.003448486328125, 0.0016021728515625, 0.0020904541015625, 0.00128936767578125, 0.0028533935546875, 0.005767822265625, 0.00115203857421875, 0.005157470703125, 0.0018157958984375, 0.0054931640625, 0.0020904541015625, 0.0019989013671875, 0.0005035400390625, 0.0032806396484375, 0.0006256103515625, 0.00115203857421875, 0.00860595703125, 0.1484375, 0.025390625, 0.047607421875, 0.23046875, 0.007110595703125, 0.01519775390625, 0.01251220703125, 0.0255126953125, 0.000782012939453125, 0.0001583099365234375, 0.0002307891845703125, 0.0079345703125, 0.0021820068359375, 0.036865234375]}\n",
       "    )\n",
       "    </script>"
      ],
      "text/plain": [
       "<circuitsvis.utils.render.RenderedHTML at 0x7f176c30a150>"
      ]
     },
     "metadata": {},
     "output_type": "display_data"
    },
    {
     "name": "stdout",
     "output_type": "stream",
     "text": [
      "Layer: 34, Head: 7\n"
     ]
    },
    {
     "data": {
      "text/html": [
       "<div id=\"circuits-vis-14ec0efd-2235\" style=\"margin: 15px 0;\"/>\n",
       "    <script crossorigin type=\"module\">\n",
       "    import { render, ColoredTokens } from \"https://unpkg.com/circuitsvis@1.43.3/dist/cdn/esm.js\";\n",
       "    render(\n",
       "      \"circuits-vis-14ec0efd-2235\",\n",
       "      ColoredTokens,\n",
       "      {\"tokens\": [\"Which\", \" person\", \" from\", \" the\", \" following\", \" list\", \" is\", \" different\", \" from\", \" the\", \" others\", \"?\\n\", \"Brad\", \" Pitt\", \",\", \" Tom\", \" H\", \"anks\", \",\", \" Leonardo\", \" Di\", \"Cap\", \"rio\", \",\", \" Scarlett\", \" Joh\", \"ansson\", \",\", \" Daniel\", \" Rad\", \"cliffe\", \",\", \" Hugh\", \" Jack\", \"man\", \".\\n\", \"Ans\", \":\"], \"values\": [0.021240234375, 0.0023193359375, 0.00102996826171875, 0.001495361328125, 0.0037994384765625, 0.001922607421875, 0.00164794921875, 0.004608154296875, 0.00075531005859375, 0.0010986328125, 0.0017242431640625, 0.00396728515625, 0.003082275390625, 0.00177764892578125, 0.008544921875, 0.00141143798828125, 0.0022430419921875, 0.001220703125, 0.002960205078125, 0.0007781982421875, 0.001861572265625, 0.000881195068359375, 0.0037078857421875, 0.01171875, 0.115234375, 0.0155029296875, 0.07568359375, 0.298828125, 0.0093994140625, 0.00860595703125, 0.0341796875, 0.058837890625, 0.0034332275390625, 0.0012054443359375, 0.0036163330078125, 0.07275390625, 0.0024261474609375, 0.060791015625]}\n",
       "    )\n",
       "    </script>"
      ],
      "text/plain": [
       "<circuitsvis.utils.render.RenderedHTML at 0x7f17cc14b4d0>"
      ]
     },
     "metadata": {},
     "output_type": "display_data"
    },
    {
     "name": "stdout",
     "output_type": "stream",
     "text": [
      "Layer: 35, Head: 19\n"
     ]
    },
    {
     "data": {
      "text/html": [
       "<div id=\"circuits-vis-f160a74e-0c0f\" style=\"margin: 15px 0;\"/>\n",
       "    <script crossorigin type=\"module\">\n",
       "    import { render, ColoredTokens } from \"https://unpkg.com/circuitsvis@1.43.3/dist/cdn/esm.js\";\n",
       "    render(\n",
       "      \"circuits-vis-f160a74e-0c0f\",\n",
       "      ColoredTokens,\n",
       "      {\"tokens\": [\"Which\", \" person\", \" from\", \" the\", \" following\", \" list\", \" is\", \" different\", \" from\", \" the\", \" others\", \"?\\n\", \"Brad\", \" Pitt\", \",\", \" Tom\", \" H\", \"anks\", \",\", \" Leonardo\", \" Di\", \"Cap\", \"rio\", \",\", \" Scarlett\", \" Joh\", \"ansson\", \",\", \" Daniel\", \" Rad\", \"cliffe\", \",\", \" Hugh\", \" Jack\", \"man\", \".\\n\", \"Ans\", \":\"], \"values\": [0.0064697265625, 0.0003490447998046875, 0.00020503997802734375, 0.000514984130859375, 0.000736236572265625, 0.0012664794921875, 4.363059997558594e-05, 0.00060272216796875, 7.677078247070312e-05, 0.000186920166015625, 0.000640869140625, 0.00026702880859375, 0.00121307373046875, 0.01300048828125, 0.03759765625, 0.0032501220703125, 0.000530242919921875, 0.06689453125, 0.01092529296875, 0.004669189453125, 0.000247955322265625, 0.01287841796875, 0.0181884765625, 0.053466796875, 0.04150390625, 0.01007080078125, 0.07275390625, 0.2470703125, 0.00188446044921875, 0.109375, 0.08544921875, 0.07080078125, 0.0029449462890625, 0.002655029296875, 0.01300048828125, 0.036376953125, 0.00021839141845703125, 0.002227783203125]}\n",
       "    )\n",
       "    </script>"
      ],
      "text/plain": [
       "<circuitsvis.utils.render.RenderedHTML at 0x7ef34681fc10>"
      ]
     },
     "metadata": {},
     "output_type": "display_data"
    },
    {
     "name": "stdout",
     "output_type": "stream",
     "text": [
      "Layer: 39, Head: 40\n"
     ]
    },
    {
     "data": {
      "text/html": [
       "<div id=\"circuits-vis-f156d881-5caa\" style=\"margin: 15px 0;\"/>\n",
       "    <script crossorigin type=\"module\">\n",
       "    import { render, ColoredTokens } from \"https://unpkg.com/circuitsvis@1.43.3/dist/cdn/esm.js\";\n",
       "    render(\n",
       "      \"circuits-vis-f156d881-5caa\",\n",
       "      ColoredTokens,\n",
       "      {\"tokens\": [\"Which\", \" person\", \" from\", \" the\", \" following\", \" list\", \" is\", \" different\", \" from\", \" the\", \" others\", \"?\\n\", \"Brad\", \" Pitt\", \",\", \" Tom\", \" H\", \"anks\", \",\", \" Leonardo\", \" Di\", \"Cap\", \"rio\", \",\", \" Scarlett\", \" Joh\", \"ansson\", \",\", \" Daniel\", \" Rad\", \"cliffe\", \",\", \" Hugh\", \" Jack\", \"man\", \".\\n\", \"Ans\", \":\"], \"values\": [0.00640869140625, 0.001953125, 0.0037078857421875, 0.00193023681640625, 0.00054168701171875, 0.00037384033203125, 0.0021209716796875, 0.0010833740234375, 0.000827789306640625, 0.000579833984375, 0.00049591064453125, 0.005279541015625, 0.00081634521484375, 0.00102996826171875, 0.0054931640625, 0.0017852783203125, 0.000911712646484375, 0.0038909912109375, 0.0067138671875, 0.002716064453125, 0.001983642578125, 0.00128173828125, 0.0081787109375, 0.0198974609375, 0.2158203125, 0.09814453125, 0.314453125, 0.109375, 0.004150390625, 0.004913330078125, 0.0159912109375, 0.028564453125, 0.0013885498046875, 0.0002651214599609375, 0.002899169921875, 0.00592041015625, 0.0021514892578125, 0.03173828125]}\n",
       "    )\n",
       "    </script>"
      ],
      "text/plain": [
       "<circuitsvis.utils.render.RenderedHTML at 0x7f176c2fa450>"
      ]
     },
     "metadata": {},
     "output_type": "display_data"
    },
    {
     "name": "stdout",
     "output_type": "stream",
     "text": [
      "Layer: 42, Head: 30\n"
     ]
    },
    {
     "data": {
      "text/html": [
       "<div id=\"circuits-vis-ad565c5a-f489\" style=\"margin: 15px 0;\"/>\n",
       "    <script crossorigin type=\"module\">\n",
       "    import { render, ColoredTokens } from \"https://unpkg.com/circuitsvis@1.43.3/dist/cdn/esm.js\";\n",
       "    render(\n",
       "      \"circuits-vis-ad565c5a-f489\",\n",
       "      ColoredTokens,\n",
       "      {\"tokens\": [\"Which\", \" person\", \" from\", \" the\", \" following\", \" list\", \" is\", \" different\", \" from\", \" the\", \" others\", \"?\\n\", \"Brad\", \" Pitt\", \",\", \" Tom\", \" H\", \"anks\", \",\", \" Leonardo\", \" Di\", \"Cap\", \"rio\", \",\", \" Scarlett\", \" Joh\", \"ansson\", \",\", \" Daniel\", \" Rad\", \"cliffe\", \",\", \" Hugh\", \" Jack\", \"man\", \".\\n\", \"Ans\", \":\"], \"values\": [0.007049560546875, 0.004852294921875, 0.0026397705078125, 0.00836181640625, 0.001953125, 0.003173828125, 0.004150390625, 0.0035400390625, 0.002593994140625, 0.0023193359375, 0.00115203857421875, 0.00604248046875, 0.002471923828125, 0.0087890625, 0.00726318359375, 0.003173828125, 0.0032196044921875, 0.0054931640625, 0.005401611328125, 0.004913330078125, 0.00811767578125, 0.00994873046875, 0.00811767578125, 0.0062255859375, 0.06787109375, 0.1298828125, 0.07275390625, 0.0213623046875, 0.0087890625, 0.0203857421875, 0.0137939453125, 0.009033203125, 0.00244140625, 0.003082275390625, 0.0029449462890625, 0.0140380859375, 0.0026397705078125, 0.00848388671875]}\n",
       "    )\n",
       "    </script>"
      ],
      "text/plain": [
       "<circuitsvis.utils.render.RenderedHTML at 0x7f176c309e10>"
      ]
     },
     "metadata": {},
     "output_type": "display_data"
    },
    {
     "name": "stdout",
     "output_type": "stream",
     "text": [
      "Layer: 47, Head: 18\n"
     ]
    },
    {
     "data": {
      "text/html": [
       "<div id=\"circuits-vis-b79701a2-a43c\" style=\"margin: 15px 0;\"/>\n",
       "    <script crossorigin type=\"module\">\n",
       "    import { render, ColoredTokens } from \"https://unpkg.com/circuitsvis@1.43.3/dist/cdn/esm.js\";\n",
       "    render(\n",
       "      \"circuits-vis-b79701a2-a43c\",\n",
       "      ColoredTokens,\n",
       "      {\"tokens\": [\"Which\", \" person\", \" from\", \" the\", \" following\", \" list\", \" is\", \" different\", \" from\", \" the\", \" others\", \"?\\n\", \"Brad\", \" Pitt\", \",\", \" Tom\", \" H\", \"anks\", \",\", \" Leonardo\", \" Di\", \"Cap\", \"rio\", \",\", \" Scarlett\", \" Joh\", \"ansson\", \",\", \" Daniel\", \" Rad\", \"cliffe\", \",\", \" Hugh\", \" Jack\", \"man\", \".\\n\", \"Ans\", \":\"], \"values\": [0.00567626953125, 0.0035552978515625, 0.004730224609375, 0.00176239013671875, 0.0011749267578125, 0.000736236572265625, 0.005767822265625, 0.00122833251953125, 0.0031890869140625, 0.00135040283203125, 0.000713348388671875, 0.00982666015625, 0.004425048828125, 0.0050048828125, 0.03125, 0.0019683837890625, 0.00113677978515625, 0.00153350830078125, 0.01373291015625, 0.004150390625, 0.00457763671875, 0.006256103515625, 0.0250244140625, 0.022216796875, 0.275390625, 0.0291748046875, 0.12109375, 0.0849609375, 0.01507568359375, 0.006866455078125, 0.025146484375, 0.0238037109375, 0.001678466796875, 0.000431060791015625, 0.00083160400390625, 0.01019287109375, 0.000736236572265625, 0.01531982421875]}\n",
       "    )\n",
       "    </script>"
      ],
      "text/plain": [
       "<circuitsvis.utils.render.RenderedHTML at 0x7f176c30bc90>"
      ]
     },
     "metadata": {},
     "output_type": "display_data"
    },
    {
     "name": "stdout",
     "output_type": "stream",
     "text": [
      "Layer: 52, Head: 58\n"
     ]
    },
    {
     "data": {
      "text/html": [
       "<div id=\"circuits-vis-54fb24c0-d019\" style=\"margin: 15px 0;\"/>\n",
       "    <script crossorigin type=\"module\">\n",
       "    import { render, ColoredTokens } from \"https://unpkg.com/circuitsvis@1.43.3/dist/cdn/esm.js\";\n",
       "    render(\n",
       "      \"circuits-vis-54fb24c0-d019\",\n",
       "      ColoredTokens,\n",
       "      {\"tokens\": [\"Which\", \" person\", \" from\", \" the\", \" following\", \" list\", \" is\", \" different\", \" from\", \" the\", \" others\", \"?\\n\", \"Brad\", \" Pitt\", \",\", \" Tom\", \" H\", \"anks\", \",\", \" Leonardo\", \" Di\", \"Cap\", \"rio\", \",\", \" Scarlett\", \" Joh\", \"ansson\", \",\", \" Daniel\", \" Rad\", \"cliffe\", \",\", \" Hugh\", \" Jack\", \"man\", \".\\n\", \"Ans\", \":\"], \"values\": [0.00885009765625, 0.00701904296875, 0.01239013671875, 0.003204345703125, 0.0010223388671875, 0.000797271728515625, 0.00142669677734375, 0.0020751953125, 0.000530242919921875, 0.0001621246337890625, 0.00031280517578125, 0.002838134765625, 0.003753662109375, 0.0120849609375, 0.01043701171875, 0.003204345703125, 0.0035247802734375, 0.01251220703125, 0.004974365234375, 0.008056640625, 0.00982666015625, 0.005889892578125, 0.0167236328125, 0.005035400390625, 0.1494140625, 0.1357421875, 0.12353515625, 0.01458740234375, 0.01385498046875, 0.0177001953125, 0.0234375, 0.00579833984375, 0.0022430419921875, 0.00262451171875, 0.0022430419921875, 0.003997802734375, 0.001129150390625, 0.0081787109375]}\n",
       "    )\n",
       "    </script>"
      ],
      "text/plain": [
       "<circuitsvis.utils.render.RenderedHTML at 0x7f176c2edfd0>"
      ]
     },
     "metadata": {},
     "output_type": "display_data"
    }
   ],
   "source": [
    "for layer_idx, head_idx in HEADS:\n",
    "    print(\n",
    "        f\"Layer: {layer_idx}, Head: {head_idx}\"\n",
    "    )\n",
    "\n",
    "    head_matrix = torch.Tensor(attn_matrices.attention_matrices[layer_idx, head_idx]).squeeze()\n",
    "    visualize_attn_matrix(\n",
    "        attn_matrix=head_matrix,\n",
    "        tokens=[mt.tokenizer.decode(t) for t in tokenized.input_ids[0]],\n",
    "        q_index=-1,\n",
    "        start_from=1\n",
    "    )"
   ]
  },
  {
   "cell_type": "code",
   "execution_count": 174,
   "id": "34473276",
   "metadata": {},
   "outputs": [
    {
     "name": "stdout",
     "output_type": "stream",
     "text": [
      "orange, mat, book, rabbit, bowl, watch, mirror\n",
      "Which of these words rhymes with the word \"look\"?\n",
      "Answer:\n",
      " book\n",
      "The word \"book\" rhymes with the word \"look\". \n",
      "The other options do\n",
      "layer=35\n"
     ]
    },
    {
     "data": {
      "text/html": [
       "<div id=\"circuits-vis-e76732c8-9fa4\" style=\"margin: 15px 0;\"/>\n",
       "    <script crossorigin type=\"module\">\n",
       "    import { render, ColoredTokens } from \"https://unpkg.com/circuitsvis@1.43.3/dist/cdn/esm.js\";\n",
       "    render(\n",
       "      \"circuits-vis-e76732c8-9fa4\",\n",
       "      ColoredTokens,\n",
       "      {\"tokens\": [\"orange\", \",\", \" mat\", \",\", \" book\", \",\", \" rabbit\", \",\", \" bowl\", \",\", \" watch\", \",\", \" mirror\", \"\\n\", \"Which\", \" of\", \" these\", \" words\", \" rh\", \"ymes\", \" with\", \" the\", \" word\", \" \\\"\", \"look\", \"\\\"\", \"?\\n\", \"Answer\", \":\"], \"values\": [0.019890308380126953, 0.0038630664348602295, 0.0024437978863716125, 0.005082704126834869, 0.0068312883377075195, 0.008469939231872559, 0.006840765476226807, 0.007402285933494568, 0.007261812686920166, 0.006739139556884766, 0.01939183473587036, 0.009540379047393799, 0.021163105964660645, 0.011418014764785767, 0.006793618202209473, 0.003435719758272171, 0.009179353713989258, 0.011838853359222412, 0.003939345479011536, 0.031024456024169922, 0.016135424375534058, 0.0063371360301971436, 0.01081421971321106, 0.019437670707702637, 0.06223762035369873, 0.017483234405517578, 0.01574517786502838, 0.009834300726652145, 0.03063589334487915]}\n",
       "    )\n",
       "    </script>"
      ],
      "text/plain": [
       "<circuitsvis.utils.render.RenderedHTML at 0x7f17ac0f3310>"
      ]
     },
     "metadata": {},
     "output_type": "display_data"
    },
    {
     "name": "stdout",
     "output_type": "stream",
     "text": [
      "--------------------------------------------------------------------------------\n",
      "layer=47\n"
     ]
    },
    {
     "data": {
      "text/html": [
       "<div id=\"circuits-vis-7e65385a-2113\" style=\"margin: 15px 0;\"/>\n",
       "    <script crossorigin type=\"module\">\n",
       "    import { render, ColoredTokens } from \"https://unpkg.com/circuitsvis@1.43.3/dist/cdn/esm.js\";\n",
       "    render(\n",
       "      \"circuits-vis-7e65385a-2113\",\n",
       "      ColoredTokens,\n",
       "      {\"tokens\": [\"orange\", \",\", \" mat\", \",\", \" book\", \",\", \" rabbit\", \",\", \" bowl\", \",\", \" watch\", \",\", \" mirror\", \"\\n\", \"Which\", \" of\", \" these\", \" words\", \" rh\", \"ymes\", \" with\", \" the\", \" word\", \" \\\"\", \"look\", \"\\\"\", \"?\\n\", \"Answer\", \":\"], \"values\": [0.0016680136322975159, 0.0011381879448890686, 0.0008268542587757111, 0.004145003855228424, 0.007105981931090355, 0.0015315394848585129, 0.004906676709651947, 0.0011288970708847046, 0.00790783017873764, 0.0014858953654766083, 0.00868234783411026, 0.0017974302172660828, 0.005674351006746292, 0.001876838505268097, 0.0008996874094009399, 0.0004527941346168518, 0.0006427541375160217, 0.0010980963706970215, 0.0010033324360847473, 0.0017943978309631348, 0.0010610222816467285, 0.0005810875445604324, 0.0007518082857131958, 0.0020022541284561157, 0.007165446877479553, 0.000971522182226181, 0.0023332834243774414, 0.0029227137565612793, 0.006528317928314209]}\n",
       "    )\n",
       "    </script>"
      ],
      "text/plain": [
       "<circuitsvis.utils.render.RenderedHTML at 0x7f17f01c2690>"
      ]
     },
     "metadata": {},
     "output_type": "display_data"
    },
    {
     "name": "stdout",
     "output_type": "stream",
     "text": [
      "--------------------------------------------------------------------------------\n",
      "layer=52\n"
     ]
    },
    {
     "data": {
      "text/html": [
       "<div id=\"circuits-vis-62b40cc9-9bb7\" style=\"margin: 15px 0;\"/>\n",
       "    <script crossorigin type=\"module\">\n",
       "    import { render, ColoredTokens } from \"https://unpkg.com/circuitsvis@1.43.3/dist/cdn/esm.js\";\n",
       "    render(\n",
       "      \"circuits-vis-62b40cc9-9bb7\",\n",
       "      ColoredTokens,\n",
       "      {\"tokens\": [\"orange\", \",\", \" mat\", \",\", \" book\", \",\", \" rabbit\", \",\", \" bowl\", \",\", \" watch\", \",\", \" mirror\", \"\\n\", \"Which\", \" of\", \" these\", \" words\", \" rh\", \"ymes\", \" with\", \" the\", \" word\", \" \\\"\", \"look\", \"\\\"\", \"?\\n\", \"Answer\", \":\"], \"values\": [0.0027506016194820404, 0.003426368348300457, 0.0015299562364816666, 0.00737733393907547, 0.0070510320365428925, 0.002413533627986908, 0.005577303469181061, 0.0020324774086475372, 0.009471368044614792, 0.0025192517787218094, 0.013884000480175018, 0.0026624295860528946, 0.009190918877720833, 0.005146697163581848, 0.002559009939432144, 0.0015099868178367615, 0.0016837343573570251, 0.0019824430346488953, 0.001851193606853485, 0.0034199059009552, 0.0026585832238197327, 0.0017167199403047562, 0.001999408006668091, 0.004454188048839569, 0.012808620929718018, 0.0029172152280807495, 0.006665050983428955, 0.00754953920841217, 0.011526677757501602]}\n",
       "    )\n",
       "    </script>"
      ],
      "text/plain": [
       "<circuitsvis.utils.render.RenderedHTML at 0x7ef34684fdd0>"
      ]
     },
     "metadata": {},
     "output_type": "display_data"
    },
    {
     "name": "stdout",
     "output_type": "stream",
     "text": [
      "--------------------------------------------------------------------------------\n"
     ]
    },
    {
     "data": {
      "text/plain": [
       "[PredictedToken(token=' book', prob=0.65625, logit=20.875, token_id=2363, metadata=None),\n",
       " PredictedToken(token=' Book', prob=0.1142578125, logit=19.125, token_id=6017, metadata=None),\n",
       " PredictedToken(token=' \"', prob=0.0693359375, logit=18.625, token_id=330, metadata=None),\n",
       " PredictedToken(token=' The', prob=0.0693359375, logit=18.625, token_id=578, metadata=None),\n",
       " PredictedToken(token=' Look', prob=0.00823974609375, logit=16.5, token_id=9372, metadata=None)]"
      ]
     },
     "execution_count": 174,
     "metadata": {},
     "output_type": "execute_result"
    }
   ],
   "source": [
    "# rhymes with\n",
    "\n",
    "options = [\"orange\", \"mat\", \"book\", \"rabbit\", \"bowl\", \"watch\", \"mirror\"]\n",
    "# word = \"rat\"\n",
    "word = \"look\"\n",
    "# word = \"fetch\"\n",
    "# word = \"growl\"\n",
    "\n",
    "prompt_template = \"\"\"{}\n",
    "Which of these words rhymes with the word \"{}\"?\n",
    "Answer:\"\"\"\n",
    "\n",
    "prompt = prompt_template.format(\n",
    "    \", \".join(options),\n",
    "    word\n",
    ")\n",
    "print(prompt)\n",
    "gen = generate_with_patch(\n",
    "    mt=mt,\n",
    "    inputs=prompt,\n",
    "    n_gen_per_prompt=1,\n",
    "    max_new_tokens=20,\n",
    "    remove_prefix=True,\n",
    ")[0]\n",
    "print(gen)\n",
    "tokenized = prepare_input(tokenizer=mt, prompts=prompt)\n",
    "attn_matrices = get_attention_matrices(\n",
    "    input=tokenized,\n",
    "    mt=mt,\n",
    "    value_weighted=False,\n",
    "    # patches = []\n",
    ")\n",
    "visualize_average_attn_matrix(\n",
    "    mt=mt,\n",
    "    attn_matrices=attn_matrices,\n",
    "    prompt=prompt,\n",
    "    tokenized=tokenized,\n",
    "    layer_window=LAYERS,\n",
    ")\n",
    "interpret_logits(tokenizer=mt, logits=attn_matrices.logits)"
   ]
  },
  {
   "cell_type": "code",
   "execution_count": 175,
   "id": "050e2d91",
   "metadata": {},
   "outputs": [
    {
     "name": "stdout",
     "output_type": "stream",
     "text": [
      "Layer: 33, Head: 45\n"
     ]
    },
    {
     "data": {
      "text/html": [
       "<div id=\"circuits-vis-2cf2d4ed-24b3\" style=\"margin: 15px 0;\"/>\n",
       "    <script crossorigin type=\"module\">\n",
       "    import { render, ColoredTokens } from \"https://unpkg.com/circuitsvis@1.43.3/dist/cdn/esm.js\";\n",
       "    render(\n",
       "      \"circuits-vis-2cf2d4ed-24b3\",\n",
       "      ColoredTokens,\n",
       "      {\"tokens\": [\"orange\", \",\", \" mat\", \",\", \" book\", \",\", \" rabbit\", \",\", \" bowl\", \",\", \" watch\", \",\", \" mirror\", \"\\n\", \"Which\", \" of\", \" these\", \" words\", \" rh\", \"ymes\", \" with\", \" the\", \" word\", \" \\\"\", \"look\", \"\\\"\", \"?\\n\", \"Answer\", \":\"], \"values\": [0.0380859375, 0.008056640625, 0.005615234375, 0.011962890625, 0.0162353515625, 0.0130615234375, 0.00909423828125, 0.0079345703125, 0.01116943359375, 0.01141357421875, 0.0257568359375, 0.01312255859375, 0.031005859375, 0.01019287109375, 0.0048828125, 0.0019989013671875, 0.00579833984375, 0.007537841796875, 0.0022735595703125, 0.01348876953125, 0.00665283203125, 0.0036773681640625, 0.0036773681640625, 0.01226806640625, 0.0673828125, 0.01019287109375, 0.01019287109375, 0.005035400390625, 0.032470703125]}\n",
       "    )\n",
       "    </script>"
      ],
      "text/plain": [
       "<circuitsvis.utils.render.RenderedHTML at 0x7f1815af0090>"
      ]
     },
     "metadata": {},
     "output_type": "display_data"
    },
    {
     "name": "stdout",
     "output_type": "stream",
     "text": [
      "Layer: 33, Head: 18\n"
     ]
    },
    {
     "data": {
      "text/html": [
       "<div id=\"circuits-vis-643068f8-6aa8\" style=\"margin: 15px 0;\"/>\n",
       "    <script crossorigin type=\"module\">\n",
       "    import { render, ColoredTokens } from \"https://unpkg.com/circuitsvis@1.43.3/dist/cdn/esm.js\";\n",
       "    render(\n",
       "      \"circuits-vis-643068f8-6aa8\",\n",
       "      ColoredTokens,\n",
       "      {\"tokens\": [\"orange\", \",\", \" mat\", \",\", \" book\", \",\", \" rabbit\", \",\", \" bowl\", \",\", \" watch\", \",\", \" mirror\", \"\\n\", \"Which\", \" of\", \" these\", \" words\", \" rh\", \"ymes\", \" with\", \" the\", \" word\", \" \\\"\", \"look\", \"\\\"\", \"?\\n\", \"Answer\", \":\"], \"values\": [0.029541015625, 0.0263671875, 0.022705078125, 0.042236328125, 0.0174560546875, 0.04638671875, 0.0260009765625, 0.0263671875, 0.0294189453125, 0.0244140625, 0.08984375, 0.030517578125, 0.1162109375, 0.0079345703125, 0.0037994384765625, 0.000568389892578125, 0.00167083740234375, 0.003936767578125, 0.00115203857421875, 0.01080322265625, 0.0074462890625, 0.0169677734375, 0.00689697265625, 0.037841796875, 0.09716796875, 0.01422119140625, 0.00164794921875, 0.000606536865234375, 0.006622314453125]}\n",
       "    )\n",
       "    </script>"
      ],
      "text/plain": [
       "<circuitsvis.utils.render.RenderedHTML at 0x7f176c338a50>"
      ]
     },
     "metadata": {},
     "output_type": "display_data"
    },
    {
     "name": "stdout",
     "output_type": "stream",
     "text": [
      "Layer: 34, Head: 1\n"
     ]
    },
    {
     "data": {
      "text/html": [
       "<div id=\"circuits-vis-18a7d14c-619b\" style=\"margin: 15px 0;\"/>\n",
       "    <script crossorigin type=\"module\">\n",
       "    import { render, ColoredTokens } from \"https://unpkg.com/circuitsvis@1.43.3/dist/cdn/esm.js\";\n",
       "    render(\n",
       "      \"circuits-vis-18a7d14c-619b\",\n",
       "      ColoredTokens,\n",
       "      {\"tokens\": [\"orange\", \",\", \" mat\", \",\", \" book\", \",\", \" rabbit\", \",\", \" bowl\", \",\", \" watch\", \",\", \" mirror\", \"\\n\", \"Which\", \" of\", \" these\", \" words\", \" rh\", \"ymes\", \" with\", \" the\", \" word\", \" \\\"\", \"look\", \"\\\"\", \"?\\n\", \"Answer\", \":\"], \"values\": [0.034423828125, 0.00189971923828125, 0.0059814453125, 0.0089111328125, 0.0035400390625, 0.0137939453125, 0.0023956298828125, 0.017578125, 0.00921630859375, 0.017578125, 0.035400390625, 0.08447265625, 0.11279296875, 0.0255126953125, 0.0120849609375, 0.00323486328125, 0.01043701171875, 0.01318359375, 0.00115203857421875, 0.0089111328125, 0.031005859375, 0.000431060791015625, 0.0038299560546875, 0.0556640625, 0.054931640625, 0.0108642578125, 0.0147705078125, 0.000804901123046875, 0.06494140625]}\n",
       "    )\n",
       "    </script>"
      ],
      "text/plain": [
       "<circuitsvis.utils.render.RenderedHTML at 0x7f176c2ec150>"
      ]
     },
     "metadata": {},
     "output_type": "display_data"
    },
    {
     "name": "stdout",
     "output_type": "stream",
     "text": [
      "Layer: 34, Head: 6\n"
     ]
    },
    {
     "data": {
      "text/html": [
       "<div id=\"circuits-vis-3e456f78-fec1\" style=\"margin: 15px 0;\"/>\n",
       "    <script crossorigin type=\"module\">\n",
       "    import { render, ColoredTokens } from \"https://unpkg.com/circuitsvis@1.43.3/dist/cdn/esm.js\";\n",
       "    render(\n",
       "      \"circuits-vis-3e456f78-fec1\",\n",
       "      ColoredTokens,\n",
       "      {\"tokens\": [\"orange\", \",\", \" mat\", \",\", \" book\", \",\", \" rabbit\", \",\", \" bowl\", \",\", \" watch\", \",\", \" mirror\", \"\\n\", \"Which\", \" of\", \" these\", \" words\", \" rh\", \"ymes\", \" with\", \" the\", \" word\", \" \\\"\", \"look\", \"\\\"\", \"?\\n\", \"Answer\", \":\"], \"values\": [0.048095703125, 0.005523681640625, 0.01708984375, 0.0096435546875, 0.006988525390625, 0.01470947265625, 0.003997802734375, 0.01513671875, 0.01220703125, 0.0172119140625, 0.0289306640625, 0.047119140625, 0.05419921875, 0.0181884765625, 0.01116943359375, 0.00182342529296875, 0.00958251953125, 0.0152587890625, 0.0009918212890625, 0.0032501220703125, 0.0089111328125, 0.0016326904296875, 0.000904083251953125, 0.0257568359375, 0.0245361328125, 0.00177001953125, 0.0025787353515625, 0.000530242919921875, 0.0277099609375]}\n",
       "    )\n",
       "    </script>"
      ],
      "text/plain": [
       "<circuitsvis.utils.render.RenderedHTML at 0x7f176c2f98d0>"
      ]
     },
     "metadata": {},
     "output_type": "display_data"
    },
    {
     "name": "stdout",
     "output_type": "stream",
     "text": [
      "Layer: 34, Head: 7\n"
     ]
    },
    {
     "data": {
      "text/html": [
       "<div id=\"circuits-vis-bd93afe9-63c7\" style=\"margin: 15px 0;\"/>\n",
       "    <script crossorigin type=\"module\">\n",
       "    import { render, ColoredTokens } from \"https://unpkg.com/circuitsvis@1.43.3/dist/cdn/esm.js\";\n",
       "    render(\n",
       "      \"circuits-vis-bd93afe9-63c7\",\n",
       "      ColoredTokens,\n",
       "      {\"tokens\": [\"orange\", \",\", \" mat\", \",\", \" book\", \",\", \" rabbit\", \",\", \" bowl\", \",\", \" watch\", \",\", \" mirror\", \"\\n\", \"Which\", \" of\", \" these\", \" words\", \" rh\", \"ymes\", \" with\", \" the\", \" word\", \" \\\"\", \"look\", \"\\\"\", \"?\\n\", \"Answer\", \":\"], \"values\": [0.048583984375, 0.002044677734375, 0.0012969970703125, 0.00167083740234375, 0.0015411376953125, 0.003173828125, 0.00138092041015625, 0.004547119140625, 0.0030670166015625, 0.0045166015625, 0.014892578125, 0.01422119140625, 0.029052734375, 0.0189208984375, 0.013427734375, 0.003753662109375, 0.02099609375, 0.0299072265625, 0.00201416015625, 0.01446533203125, 0.032958984375, 0.003326416015625, 0.01953125, 0.0986328125, 0.271484375, 0.046630859375, 0.0194091796875, 0.0029296875, 0.072265625]}\n",
       "    )\n",
       "    </script>"
      ],
      "text/plain": [
       "<circuitsvis.utils.render.RenderedHTML at 0x7ef346820990>"
      ]
     },
     "metadata": {},
     "output_type": "display_data"
    },
    {
     "name": "stdout",
     "output_type": "stream",
     "text": [
      "Layer: 35, Head: 19\n"
     ]
    },
    {
     "data": {
      "text/html": [
       "<div id=\"circuits-vis-bac8ae3a-9c26\" style=\"margin: 15px 0;\"/>\n",
       "    <script crossorigin type=\"module\">\n",
       "    import { render, ColoredTokens } from \"https://unpkg.com/circuitsvis@1.43.3/dist/cdn/esm.js\";\n",
       "    render(\n",
       "      \"circuits-vis-bac8ae3a-9c26\",\n",
       "      ColoredTokens,\n",
       "      {\"tokens\": [\"orange\", \",\", \" mat\", \",\", \" book\", \",\", \" rabbit\", \",\", \" bowl\", \",\", \" watch\", \",\", \" mirror\", \"\\n\", \"Which\", \" of\", \" these\", \" words\", \" rh\", \"ymes\", \" with\", \" the\", \" word\", \" \\\"\", \"look\", \"\\\"\", \"?\\n\", \"Answer\", \":\"], \"values\": [0.0157470703125, 0.004730224609375, 0.009765625, 0.033935546875, 0.03173828125, 0.01513671875, 0.0098876953125, 0.017822265625, 0.0458984375, 0.0279541015625, 0.298828125, 0.04833984375, 0.17578125, 0.0032806396484375, 0.000732421875, 3.075599670410156e-05, 0.00020599365234375, 0.000896453857421875, 0.00017642974853515625, 0.0047607421875, 0.00080108642578125, 0.002716064453125, 0.0004100799560546875, 0.00823974609375, 0.0634765625, 0.0005340576171875, 0.00023365020751953125, 6.914138793945312e-05, 0.000896453857421875]}\n",
       "    )\n",
       "    </script>"
      ],
      "text/plain": [
       "<circuitsvis.utils.render.RenderedHTML at 0x7f178c2f1990>"
      ]
     },
     "metadata": {},
     "output_type": "display_data"
    },
    {
     "name": "stdout",
     "output_type": "stream",
     "text": [
      "Layer: 39, Head: 40\n"
     ]
    },
    {
     "data": {
      "text/html": [
       "<div id=\"circuits-vis-7ce4d1a0-7841\" style=\"margin: 15px 0;\"/>\n",
       "    <script crossorigin type=\"module\">\n",
       "    import { render, ColoredTokens } from \"https://unpkg.com/circuitsvis@1.43.3/dist/cdn/esm.js\";\n",
       "    render(\n",
       "      \"circuits-vis-7ce4d1a0-7841\",\n",
       "      ColoredTokens,\n",
       "      {\"tokens\": [\"orange\", \",\", \" mat\", \",\", \" book\", \",\", \" rabbit\", \",\", \" bowl\", \",\", \" watch\", \",\", \" mirror\", \"\\n\", \"Which\", \" of\", \" these\", \" words\", \" rh\", \"ymes\", \" with\", \" the\", \" word\", \" \\\"\", \"look\", \"\\\"\", \"?\\n\", \"Answer\", \":\"], \"values\": [0.01446533203125, 0.005279541015625, 0.003631591796875, 0.0291748046875, 0.04052734375, 0.0155029296875, 0.047119140625, 0.0223388671875, 0.0947265625, 0.0286865234375, 0.1640625, 0.042236328125, 0.09326171875, 0.0098876953125, 0.0025787353515625, 0.000621795654296875, 0.00182342529296875, 0.00677490234375, 0.0030517578125, 0.01068115234375, 0.0086669921875, 0.00848388671875, 0.004364013671875, 0.015869140625, 0.044921875, 0.01318359375, 0.01361083984375, 0.003204345703125, 0.0262451171875]}\n",
       "    )\n",
       "    </script>"
      ],
      "text/plain": [
       "<circuitsvis.utils.render.RenderedHTML at 0x7f1815e3a850>"
      ]
     },
     "metadata": {},
     "output_type": "display_data"
    },
    {
     "name": "stdout",
     "output_type": "stream",
     "text": [
      "Layer: 42, Head: 30\n"
     ]
    },
    {
     "data": {
      "text/html": [
       "<div id=\"circuits-vis-c60cb8ed-ff5d\" style=\"margin: 15px 0;\"/>\n",
       "    <script crossorigin type=\"module\">\n",
       "    import { render, ColoredTokens } from \"https://unpkg.com/circuitsvis@1.43.3/dist/cdn/esm.js\";\n",
       "    render(\n",
       "      \"circuits-vis-c60cb8ed-ff5d\",\n",
       "      ColoredTokens,\n",
       "      {\"tokens\": [\"orange\", \",\", \" mat\", \",\", \" book\", \",\", \" rabbit\", \",\", \" bowl\", \",\", \" watch\", \",\", \" mirror\", \"\\n\", \"Which\", \" of\", \" these\", \" words\", \" rh\", \"ymes\", \" with\", \" the\", \" word\", \" \\\"\", \"look\", \"\\\"\", \"?\\n\", \"Answer\", \":\"], \"values\": [0.00567626953125, 0.00811767578125, 0.0031280517578125, 0.029541015625, 0.01611328125, 0.0054931640625, 0.0302734375, 0.0062255859375, 0.0279541015625, 0.00738525390625, 0.041748046875, 0.006439208984375, 0.037353515625, 0.0054931640625, 0.00433349609375, 0.000804901123046875, 0.00823974609375, 0.01239013671875, 0.0023345947265625, 0.0111083984375, 0.00836181640625, 0.006439208984375, 0.003387451171875, 0.01519775390625, 0.2265625, 0.01953125, 0.007171630859375, 0.00099945068359375, 0.0157470703125]}\n",
       "    )\n",
       "    </script>"
      ],
      "text/plain": [
       "<circuitsvis.utils.render.RenderedHTML at 0x7f178c2e8190>"
      ]
     },
     "metadata": {},
     "output_type": "display_data"
    },
    {
     "name": "stdout",
     "output_type": "stream",
     "text": [
      "Layer: 47, Head: 18\n"
     ]
    },
    {
     "data": {
      "text/html": [
       "<div id=\"circuits-vis-5d87d254-8a49\" style=\"margin: 15px 0;\"/>\n",
       "    <script crossorigin type=\"module\">\n",
       "    import { render, ColoredTokens } from \"https://unpkg.com/circuitsvis@1.43.3/dist/cdn/esm.js\";\n",
       "    render(\n",
       "      \"circuits-vis-5d87d254-8a49\",\n",
       "      ColoredTokens,\n",
       "      {\"tokens\": [\"orange\", \",\", \" mat\", \",\", \" book\", \",\", \" rabbit\", \",\", \" bowl\", \",\", \" watch\", \",\", \" mirror\", \"\\n\", \"Which\", \" of\", \" these\", \" words\", \" rh\", \"ymes\", \" with\", \" the\", \" word\", \" \\\"\", \"look\", \"\\\"\", \"?\\n\", \"Answer\", \":\"], \"values\": [0.003814697265625, 0.0111083984375, 0.0130615234375, 0.08154296875, 0.138671875, 0.0223388671875, 0.09765625, 0.0166015625, 0.13671875, 0.0184326171875, 0.1689453125, 0.0260009765625, 0.11328125, 0.007598876953125, 0.00089263916015625, 0.0002899169921875, 0.00107574462890625, 0.004852294921875, 0.0003185272216796875, 0.001129150390625, 0.002044677734375, 0.00156402587890625, 0.0013427734375, 0.00482177734375, 0.020263671875, 0.00372314453125, 0.00238037109375, 0.00106048583984375, 0.0033721923828125]}\n",
       "    )\n",
       "    </script>"
      ],
      "text/plain": [
       "<circuitsvis.utils.render.RenderedHTML at 0x7f17cc14a750>"
      ]
     },
     "metadata": {},
     "output_type": "display_data"
    },
    {
     "name": "stdout",
     "output_type": "stream",
     "text": [
      "Layer: 52, Head: 58\n"
     ]
    },
    {
     "data": {
      "text/html": [
       "<div id=\"circuits-vis-714b3c9e-8534\" style=\"margin: 15px 0;\"/>\n",
       "    <script crossorigin type=\"module\">\n",
       "    import { render, ColoredTokens } from \"https://unpkg.com/circuitsvis@1.43.3/dist/cdn/esm.js\";\n",
       "    render(\n",
       "      \"circuits-vis-714b3c9e-8534\",\n",
       "      ColoredTokens,\n",
       "      {\"tokens\": [\"orange\", \",\", \" mat\", \",\", \" book\", \",\", \" rabbit\", \",\", \" bowl\", \",\", \" watch\", \",\", \" mirror\", \"\\n\", \"Which\", \" of\", \" these\", \" words\", \" rh\", \"ymes\", \" with\", \" the\", \" word\", \" \\\"\", \"look\", \"\\\"\", \"?\\n\", \"Answer\", \":\"], \"values\": [0.00567626953125, 0.0159912109375, 0.00811767578125, 0.043701171875, 0.0147705078125, 0.0169677734375, 0.004852294921875, 0.01202392578125, 0.01220703125, 0.01043701171875, 0.026123046875, 0.00982666015625, 0.007415771484375, 0.01904296875, 0.0018157958984375, 0.001068115234375, 0.000804901123046875, 0.00121307373046875, 0.000759124755859375, 0.0018157958984375, 0.007537841796875, 0.000591278076171875, 0.0004749298095703125, 0.0021209716796875, 0.004364013671875, 0.0030517578125, 0.004852294921875, 0.000667572021484375, 0.00494384765625]}\n",
       "    )\n",
       "    </script>"
      ],
      "text/plain": [
       "<circuitsvis.utils.render.RenderedHTML at 0x7f176c2ec150>"
      ]
     },
     "metadata": {},
     "output_type": "display_data"
    }
   ],
   "source": [
    "for layer_idx, head_idx in HEADS:\n",
    "    print(\n",
    "        f\"Layer: {layer_idx}, Head: {head_idx}\"\n",
    "    )\n",
    "\n",
    "    head_matrix = torch.Tensor(attn_matrices.attention_matrices[layer_idx, head_idx]).squeeze()\n",
    "    visualize_attn_matrix(\n",
    "        attn_matrix=head_matrix,\n",
    "        tokens=[mt.tokenizer.decode(t) for t in tokenized.input_ids[0]],\n",
    "        q_index=-1,\n",
    "        start_from=1\n",
    "    )"
   ]
  },
  {
   "cell_type": "code",
   "execution_count": 158,
   "id": "bf4d279e",
   "metadata": {},
   "outputs": [
    {
     "name": "stdout",
     "output_type": "stream",
     "text": [
      "\" Bob\n",
      "John is taller than Bob, so Bob must be the shortest.\n",
      "John is shorter than Steve, but that doesn't tell us anything about John's height compared to Bob's. We already know John is taller than Bob, so Bob must be\"\n",
      "layer=35\n"
     ]
    },
    {
     "data": {
      "text/html": [
       "<div id=\"circuits-vis-159ca0b7-40a4\" style=\"margin: 15px 0;\"/>\n",
       "    <script crossorigin type=\"module\">\n",
       "    import { render, ColoredTokens } from \"https://unpkg.com/circuitsvis@1.43.3/dist/cdn/esm.js\";\n",
       "    render(\n",
       "      \"circuits-vis-159ca0b7-40a4\",\n",
       "      ColoredTokens,\n",
       "      {\"tokens\": [\"John\", \" is\", \" taller\", \" than\", \" Bob\", \",\", \" but\", \" shorter\", \" than\", \" Steve\", \".\", \" Who\", \" is\", \" the\", \" shortest\", \"?\\n\", \"Ans\", \":\"], \"values\": [0.021402597427368164, 0.009138286113739014, 0.013095498085021973, 0.010406240820884705, 0.04643106460571289, 0.014128059148788452, 0.011374890804290771, 0.015776902437210083, 0.006880730390548706, 0.015170425176620483, 0.01650300621986389, 0.02098715305328369, 0.011606618762016296, 0.008756384253501892, 0.05326586961746216, 0.05006742477416992, 0.010633492842316628, 0.0227125883102417]}\n",
       "    )\n",
       "    </script>"
      ],
      "text/plain": [
       "<circuitsvis.utils.render.RenderedHTML at 0x7f176c315350>"
      ]
     },
     "metadata": {},
     "output_type": "display_data"
    },
    {
     "name": "stdout",
     "output_type": "stream",
     "text": [
      "--------------------------------------------------------------------------------\n",
      "layer=47\n"
     ]
    },
    {
     "data": {
      "text/html": [
       "<div id=\"circuits-vis-1d57a574-ae5a\" style=\"margin: 15px 0;\"/>\n",
       "    <script crossorigin type=\"module\">\n",
       "    import { render, ColoredTokens } from \"https://unpkg.com/circuitsvis@1.43.3/dist/cdn/esm.js\";\n",
       "    render(\n",
       "      \"circuits-vis-1d57a574-ae5a\",\n",
       "      ColoredTokens,\n",
       "      {\"tokens\": [\"John\", \" is\", \" taller\", \" than\", \" Bob\", \",\", \" but\", \" shorter\", \" than\", \" Steve\", \".\", \" Who\", \" is\", \" the\", \" shortest\", \"?\\n\", \"Ans\", \":\"], \"values\": [0.0040774717926979065, 0.0035337377339601517, 0.0014168433845043182, 0.0027898214757442474, 0.009666673839092255, 0.0028239041566848755, 0.0025163814425468445, 0.0009338054805994034, 0.0016364455223083496, 0.00218905508518219, 0.0045747458934783936, 0.0022970307618379593, 0.0014101602137088776, 0.0011553196236491203, 0.0022200867533683777, 0.008809387683868408, 0.008725970983505249, 0.004353761672973633]}\n",
       "    )\n",
       "    </script>"
      ],
      "text/plain": [
       "<circuitsvis.utils.render.RenderedHTML at 0x7f178c2e98d0>"
      ]
     },
     "metadata": {},
     "output_type": "display_data"
    },
    {
     "name": "stdout",
     "output_type": "stream",
     "text": [
      "--------------------------------------------------------------------------------\n",
      "layer=52\n"
     ]
    },
    {
     "data": {
      "text/html": [
       "<div id=\"circuits-vis-16c3641a-a971\" style=\"margin: 15px 0;\"/>\n",
       "    <script crossorigin type=\"module\">\n",
       "    import { render, ColoredTokens } from \"https://unpkg.com/circuitsvis@1.43.3/dist/cdn/esm.js\";\n",
       "    render(\n",
       "      \"circuits-vis-16c3641a-a971\",\n",
       "      ColoredTokens,\n",
       "      {\"tokens\": [\"John\", \" is\", \" taller\", \" than\", \" Bob\", \",\", \" but\", \" shorter\", \" than\", \" Steve\", \".\", \" Who\", \" is\", \" the\", \" shortest\", \"?\\n\", \"Ans\", \":\"], \"values\": [0.0078055113554000854, 0.006893441081047058, 0.0029074177145957947, 0.003525935113430023, 0.03487218916416168, 0.003462042659521103, 0.003181353211402893, 0.0018751025199890137, 0.001992538571357727, 0.0036088302731513977, 0.006110057234764099, 0.005183383822441101, 0.002691514790058136, 0.002094324678182602, 0.003738686442375183, 0.025371700525283813, 0.01526758074760437, 0.01575717329978943]}\n",
       "    )\n",
       "    </script>"
      ],
      "text/plain": [
       "<circuitsvis.utils.render.RenderedHTML at 0x7f17ac161a10>"
      ]
     },
     "metadata": {},
     "output_type": "display_data"
    },
    {
     "name": "stdout",
     "output_type": "stream",
     "text": [
      "--------------------------------------------------------------------------------\n"
     ]
    },
    {
     "data": {
      "text/plain": [
       "[PredictedToken(token=' Bob', prob=0.8359375, logit=20.75, token_id=14596, metadata=None),\n",
       " PredictedToken(token=' John', prob=0.036865234375, logit=17.625, token_id=3842, metadata=None),\n",
       " PredictedToken(token=' We', prob=0.0196533203125, logit=17.0, token_id=1226, metadata=None),\n",
       " PredictedToken(token=' Since', prob=0.0135498046875, logit=16.625, token_id=8876, metadata=None),\n",
       " PredictedToken(token=' BO', prob=0.0135498046875, logit=16.625, token_id=7967, metadata=None)]"
      ]
     },
     "execution_count": 158,
     "metadata": {},
     "output_type": "execute_result"
    }
   ],
   "source": [
    "#! Logical deduction\n",
    "\n",
    "# prompt = \"\"\"John is taller than Mary. Mary is taller than Steve. Who is the shortest?\n",
    "# Ans:\"\"\"\n",
    "prompt = \"\"\"John is taller than Bob, but shorter than Steve. Who is the shortest?\n",
    "Ans:\"\"\"\n",
    "# prompt = \"\"\"All the cookies are either chocolate or vanilla. None of the chocolate cookies have nuts. \n",
    "# This cookie has nuts. What flavor is it?\n",
    "# Ans:\"\"\"\n",
    "# prompt = \"\"\"The red box is to the left of the blue box, and to the right of the green box.\n",
    "# Which is the rightmost box?\n",
    "# Ans:\"\"\"\n",
    "\n",
    "gen = generate_with_patch(\n",
    "    mt=mt,\n",
    "    inputs=prompt,\n",
    "    n_gen_per_prompt=1,\n",
    "    max_new_tokens=50,\n",
    "    remove_prefix=True,\n",
    ")[0]\n",
    "print(f'\"{gen}\"')\n",
    "\n",
    "tokenized = prepare_input(tokenizer=mt, prompts=prompt)\n",
    "attn_matrices = get_attention_matrices(\n",
    "    input=tokenized,\n",
    "    mt=mt,\n",
    "    value_weighted=False,\n",
    "    # patches = []\n",
    ")\n",
    "visualize_average_attn_matrix(\n",
    "    mt=mt,\n",
    "    attn_matrices=attn_matrices,\n",
    "    prompt=prompt,\n",
    "    tokenized=tokenized,\n",
    "    layer_window=LAYERS,\n",
    ")\n",
    "interpret_logits(tokenizer=mt, logits=attn_matrices.logits)"
   ]
  },
  {
   "cell_type": "code",
   "execution_count": 159,
   "id": "f90edc47",
   "metadata": {},
   "outputs": [
    {
     "name": "stdout",
     "output_type": "stream",
     "text": [
      "Layer: 33, Head: 45\n"
     ]
    },
    {
     "data": {
      "text/html": [
       "<div id=\"circuits-vis-49cec35f-d1ed\" style=\"margin: 15px 0;\"/>\n",
       "    <script crossorigin type=\"module\">\n",
       "    import { render, ColoredTokens } from \"https://unpkg.com/circuitsvis@1.43.3/dist/cdn/esm.js\";\n",
       "    render(\n",
       "      \"circuits-vis-49cec35f-d1ed\",\n",
       "      ColoredTokens,\n",
       "      {\"tokens\": [\"John\", \" is\", \" taller\", \" than\", \" Bob\", \",\", \" but\", \" shorter\", \" than\", \" Steve\", \".\", \" Who\", \" is\", \" the\", \" shortest\", \"?\\n\", \"Ans\", \":\"], \"values\": [0.01165771484375, 0.005645751953125, 0.013427734375, 0.0272216796875, 0.0400390625, 0.022705078125, 0.0184326171875, 0.04248046875, 0.00946044921875, 0.006011962890625, 0.012451171875, 0.0189208984375, 0.0272216796875, 0.00921630859375, 0.1083984375, 0.0289306640625, 0.004058837890625, 0.052001953125]}\n",
       "    )\n",
       "    </script>"
      ],
      "text/plain": [
       "<circuitsvis.utils.render.RenderedHTML at 0x7f17ac1729d0>"
      ]
     },
     "metadata": {},
     "output_type": "display_data"
    },
    {
     "name": "stdout",
     "output_type": "stream",
     "text": [
      "Layer: 33, Head: 18\n"
     ]
    },
    {
     "data": {
      "text/html": [
       "<div id=\"circuits-vis-0449453d-578e\" style=\"margin: 15px 0;\"/>\n",
       "    <script crossorigin type=\"module\">\n",
       "    import { render, ColoredTokens } from \"https://unpkg.com/circuitsvis@1.43.3/dist/cdn/esm.js\";\n",
       "    render(\n",
       "      \"circuits-vis-0449453d-578e\",\n",
       "      ColoredTokens,\n",
       "      {\"tokens\": [\"John\", \" is\", \" taller\", \" than\", \" Bob\", \",\", \" but\", \" shorter\", \" than\", \" Steve\", \".\", \" Who\", \" is\", \" the\", \" shortest\", \"?\\n\", \"Ans\", \":\"], \"values\": [0.041259765625, 0.050048828125, 0.0194091796875, 0.01495361328125, 0.2734375, 0.031982421875, 0.0390625, 0.0230712890625, 0.01556396484375, 0.017333984375, 0.00665283203125, 0.007537841796875, 0.013427734375, 0.007476806640625, 0.02685546875, 0.01068115234375, 0.0012664794921875, 0.013427734375]}\n",
       "    )\n",
       "    </script>"
      ],
      "text/plain": [
       "<circuitsvis.utils.render.RenderedHTML at 0x7f176c491390>"
      ]
     },
     "metadata": {},
     "output_type": "display_data"
    },
    {
     "name": "stdout",
     "output_type": "stream",
     "text": [
      "Layer: 34, Head: 1\n"
     ]
    },
    {
     "data": {
      "text/html": [
       "<div id=\"circuits-vis-cbb71bf4-246c\" style=\"margin: 15px 0;\"/>\n",
       "    <script crossorigin type=\"module\">\n",
       "    import { render, ColoredTokens } from \"https://unpkg.com/circuitsvis@1.43.3/dist/cdn/esm.js\";\n",
       "    render(\n",
       "      \"circuits-vis-cbb71bf4-246c\",\n",
       "      ColoredTokens,\n",
       "      {\"tokens\": [\"John\", \" is\", \" taller\", \" than\", \" Bob\", \",\", \" but\", \" shorter\", \" than\", \" Steve\", \".\", \" Who\", \" is\", \" the\", \" shortest\", \"?\\n\", \"Ans\", \":\"], \"values\": [0.023193359375, 0.020751953125, 0.0059814453125, 0.037353515625, 0.193359375, 0.058349609375, 0.01495361328125, 0.005035400390625, 0.002410888671875, 0.00156402587890625, 0.0133056640625, 0.0216064453125, 0.0205078125, 0.00677490234375, 0.0223388671875, 0.0289306640625, 0.001251220703125, 0.05419921875]}\n",
       "    )\n",
       "    </script>"
      ],
      "text/plain": [
       "<circuitsvis.utils.render.RenderedHTML at 0x7f176c320a10>"
      ]
     },
     "metadata": {},
     "output_type": "display_data"
    },
    {
     "name": "stdout",
     "output_type": "stream",
     "text": [
      "Layer: 34, Head: 6\n"
     ]
    },
    {
     "data": {
      "text/html": [
       "<div id=\"circuits-vis-a7911db3-f070\" style=\"margin: 15px 0;\"/>\n",
       "    <script crossorigin type=\"module\">\n",
       "    import { render, ColoredTokens } from \"https://unpkg.com/circuitsvis@1.43.3/dist/cdn/esm.js\";\n",
       "    render(\n",
       "      \"circuits-vis-a7911db3-f070\",\n",
       "      ColoredTokens,\n",
       "      {\"tokens\": [\"John\", \" is\", \" taller\", \" than\", \" Bob\", \",\", \" but\", \" shorter\", \" than\", \" Steve\", \".\", \" Who\", \" is\", \" the\", \" shortest\", \"?\\n\", \"Ans\", \":\"], \"values\": [0.0269775390625, 0.042724609375, 0.0084228515625, 0.0673828125, 0.220703125, 0.0673828125, 0.036865234375, 0.00848388671875, 0.00616455078125, 0.0018463134765625, 0.01165771484375, 0.0234375, 0.0198974609375, 0.005523681640625, 0.019775390625, 0.0101318359375, 0.00128936767578125, 0.040771484375]}\n",
       "    )\n",
       "    </script>"
      ],
      "text/plain": [
       "<circuitsvis.utils.render.RenderedHTML at 0x7f176c3c9090>"
      ]
     },
     "metadata": {},
     "output_type": "display_data"
    },
    {
     "name": "stdout",
     "output_type": "stream",
     "text": [
      "Layer: 34, Head: 7\n"
     ]
    },
    {
     "data": {
      "text/html": [
       "<div id=\"circuits-vis-e1b5f1ca-e226\" style=\"margin: 15px 0;\"/>\n",
       "    <script crossorigin type=\"module\">\n",
       "    import { render, ColoredTokens } from \"https://unpkg.com/circuitsvis@1.43.3/dist/cdn/esm.js\";\n",
       "    render(\n",
       "      \"circuits-vis-e1b5f1ca-e226\",\n",
       "      ColoredTokens,\n",
       "      {\"tokens\": [\"John\", \" is\", \" taller\", \" than\", \" Bob\", \",\", \" but\", \" shorter\", \" than\", \" Steve\", \".\", \" Who\", \" is\", \" the\", \" shortest\", \"?\\n\", \"Ans\", \":\"], \"values\": [0.0361328125, 0.01043701171875, 0.004150390625, 0.0093994140625, 0.06787109375, 0.025146484375, 0.009765625, 0.01373291015625, 0.0089111328125, 0.0098876953125, 0.0283203125, 0.06689453125, 0.055908203125, 0.0152587890625, 0.1337890625, 0.16015625, 0.002960205078125, 0.11572265625]}\n",
       "    )\n",
       "    </script>"
      ],
      "text/plain": [
       "<circuitsvis.utils.render.RenderedHTML at 0x7f17cc0db110>"
      ]
     },
     "metadata": {},
     "output_type": "display_data"
    },
    {
     "name": "stdout",
     "output_type": "stream",
     "text": [
      "Layer: 35, Head: 19\n"
     ]
    },
    {
     "data": {
      "text/html": [
       "<div id=\"circuits-vis-c45ca751-11e2\" style=\"margin: 15px 0;\"/>\n",
       "    <script crossorigin type=\"module\">\n",
       "    import { render, ColoredTokens } from \"https://unpkg.com/circuitsvis@1.43.3/dist/cdn/esm.js\";\n",
       "    render(\n",
       "      \"circuits-vis-c45ca751-11e2\",\n",
       "      ColoredTokens,\n",
       "      {\"tokens\": [\"John\", \" is\", \" taller\", \" than\", \" Bob\", \",\", \" but\", \" shorter\", \" than\", \" Steve\", \".\", \" Who\", \" is\", \" the\", \" shortest\", \"?\\n\", \"Ans\", \":\"], \"values\": [0.00689697265625, 0.007720947265625, 0.020751953125, 0.021240234375, 0.64453125, 0.06640625, 0.04931640625, 0.037841796875, 0.0115966796875, 0.01153564453125, 0.007171630859375, 0.0017547607421875, 0.002777099609375, 0.0023956298828125, 0.01239013671875, 0.0022125244140625, 2.3484230041503906e-05, 0.00104522705078125]}\n",
       "    )\n",
       "    </script>"
      ],
      "text/plain": [
       "<circuitsvis.utils.render.RenderedHTML at 0x7f174c464fd0>"
      ]
     },
     "metadata": {},
     "output_type": "display_data"
    },
    {
     "name": "stdout",
     "output_type": "stream",
     "text": [
      "Layer: 39, Head: 40\n"
     ]
    },
    {
     "data": {
      "text/html": [
       "<div id=\"circuits-vis-b5205102-2903\" style=\"margin: 15px 0;\"/>\n",
       "    <script crossorigin type=\"module\">\n",
       "    import { render, ColoredTokens } from \"https://unpkg.com/circuitsvis@1.43.3/dist/cdn/esm.js\";\n",
       "    render(\n",
       "      \"circuits-vis-b5205102-2903\",\n",
       "      ColoredTokens,\n",
       "      {\"tokens\": [\"John\", \" is\", \" taller\", \" than\", \" Bob\", \",\", \" but\", \" shorter\", \" than\", \" Steve\", \".\", \" Who\", \" is\", \" the\", \" shortest\", \"?\\n\", \"Ans\", \":\"], \"values\": [0.01495361328125, 0.01409912109375, 0.0027313232421875, 0.024658203125, 0.47265625, 0.04248046875, 0.049072265625, 0.004852294921875, 0.01031494140625, 0.01708984375, 0.03125, 0.00994873046875, 0.005584716796875, 0.002227783203125, 0.018798828125, 0.05224609375, 0.00384521484375, 0.039794921875]}\n",
       "    )\n",
       "    </script>"
      ],
      "text/plain": [
       "<circuitsvis.utils.render.RenderedHTML at 0x7f176c33aed0>"
      ]
     },
     "metadata": {},
     "output_type": "display_data"
    },
    {
     "name": "stdout",
     "output_type": "stream",
     "text": [
      "Layer: 42, Head: 30\n"
     ]
    },
    {
     "data": {
      "text/html": [
       "<div id=\"circuits-vis-d942c865-725a\" style=\"margin: 15px 0;\"/>\n",
       "    <script crossorigin type=\"module\">\n",
       "    import { render, ColoredTokens } from \"https://unpkg.com/circuitsvis@1.43.3/dist/cdn/esm.js\";\n",
       "    render(\n",
       "      \"circuits-vis-d942c865-725a\",\n",
       "      ColoredTokens,\n",
       "      {\"tokens\": [\"John\", \" is\", \" taller\", \" than\", \" Bob\", \",\", \" but\", \" shorter\", \" than\", \" Steve\", \".\", \" Who\", \" is\", \" the\", \" shortest\", \"?\\n\", \"Ans\", \":\"], \"values\": [0.00439453125, 0.015869140625, 0.00738525390625, 0.01312255859375, 0.0419921875, 0.00787353515625, 0.00531005859375, 0.003326416015625, 0.006195068359375, 0.0033721923828125, 0.01141357421875, 0.006195068359375, 0.00482177734375, 0.0032196044921875, 0.006317138671875, 0.0146484375, 0.004150390625, 0.00787353515625]}\n",
       "    )\n",
       "    </script>"
      ],
      "text/plain": [
       "<circuitsvis.utils.render.RenderedHTML at 0x7f176c367e10>"
      ]
     },
     "metadata": {},
     "output_type": "display_data"
    },
    {
     "name": "stdout",
     "output_type": "stream",
     "text": [
      "Layer: 47, Head: 18\n"
     ]
    },
    {
     "data": {
      "text/html": [
       "<div id=\"circuits-vis-e4f3c0b3-7e84\" style=\"margin: 15px 0;\"/>\n",
       "    <script crossorigin type=\"module\">\n",
       "    import { render, ColoredTokens } from \"https://unpkg.com/circuitsvis@1.43.3/dist/cdn/esm.js\";\n",
       "    render(\n",
       "      \"circuits-vis-e4f3c0b3-7e84\",\n",
       "      ColoredTokens,\n",
       "      {\"tokens\": [\"John\", \" is\", \" taller\", \" than\", \" Bob\", \",\", \" but\", \" shorter\", \" than\", \" Steve\", \".\", \" Who\", \" is\", \" the\", \" shortest\", \"?\\n\", \"Ans\", \":\"], \"values\": [0.038818359375, 0.05322265625, 0.0031585693359375, 0.046630859375, 0.1376953125, 0.0595703125, 0.044677734375, 0.0005645751953125, 0.0166015625, 0.0004138946533203125, 0.07666015625, 0.025390625, 0.0172119140625, 0.0081787109375, 0.001129150390625, 0.03857421875, 0.004608154296875, 0.031982421875]}\n",
       "    )\n",
       "    </script>"
      ],
      "text/plain": [
       "<circuitsvis.utils.render.RenderedHTML at 0x7f17ac0f3f50>"
      ]
     },
     "metadata": {},
     "output_type": "display_data"
    },
    {
     "name": "stdout",
     "output_type": "stream",
     "text": [
      "Layer: 52, Head: 58\n"
     ]
    },
    {
     "data": {
      "text/html": [
       "<div id=\"circuits-vis-c69e25b3-0694\" style=\"margin: 15px 0;\"/>\n",
       "    <script crossorigin type=\"module\">\n",
       "    import { render, ColoredTokens } from \"https://unpkg.com/circuitsvis@1.43.3/dist/cdn/esm.js\";\n",
       "    render(\n",
       "      \"circuits-vis-c69e25b3-0694\",\n",
       "      ColoredTokens,\n",
       "      {\"tokens\": [\"John\", \" is\", \" taller\", \" than\", \" Bob\", \",\", \" but\", \" shorter\", \" than\", \" Steve\", \".\", \" Who\", \" is\", \" the\", \" shortest\", \"?\\n\", \"Ans\", \":\"], \"values\": [0.010498046875, 0.0303955078125, 0.004180908203125, 0.0159912109375, 0.06298828125, 0.0133056640625, 0.0064697265625, 0.0009765625, 0.0037994384765625, 0.0003490447998046875, 0.0130615234375, 0.004180908203125, 0.0048828125, 0.00182342529296875, 0.0022735595703125, 0.01416015625, 0.007568359375, 0.007232666015625]}\n",
       "    )\n",
       "    </script>"
      ],
      "text/plain": [
       "<circuitsvis.utils.render.RenderedHTML at 0x7f176c3cb110>"
      ]
     },
     "metadata": {},
     "output_type": "display_data"
    }
   ],
   "source": [
    "for layer_idx, head_idx in HEADS:\n",
    "    print(\n",
    "        f\"Layer: {layer_idx}, Head: {head_idx}\"\n",
    "    )\n",
    "\n",
    "    head_matrix = torch.Tensor(attn_matrices.attention_matrices[layer_idx, head_idx]).squeeze()\n",
    "    visualize_attn_matrix(\n",
    "        attn_matrix=head_matrix,\n",
    "        tokens=[mt.tokenizer.decode(t) for t in tokenized.input_ids[0]],\n",
    "        q_index=-1,\n",
    "        start_from=1\n",
    "    )"
   ]
  },
  {
   "cell_type": "code",
   "execution_count": null,
   "id": "99b505ad",
   "metadata": {},
   "outputs": [],
   "source": []
  },
  {
   "cell_type": "code",
   "execution_count": 162,
   "id": "b4fa521c",
   "metadata": {},
   "outputs": [
    {
     "name": "stdout",
     "output_type": "stream",
     "text": [
      "\" b\n",
      "\n",
      "Explanation:\n",
      "a = x and y = True and False = False\n",
      "b = y or z = False or False = False\n",
      "c = z xor x = False xor True = True\n",
      "\n",
      "Among a, b, c only c is True\"\n",
      "layer=35\n"
     ]
    },
    {
     "data": {
      "text/html": [
       "<div id=\"circuits-vis-8ef13ce4-c293\" style=\"margin: 15px 0;\"/>\n",
       "    <script crossorigin type=\"module\">\n",
       "    import { render, ColoredTokens } from \"https://unpkg.com/circuitsvis@1.43.3/dist/cdn/esm.js\";\n",
       "    render(\n",
       "      \"circuits-vis-8ef13ce4-c293\",\n",
       "      ColoredTokens,\n",
       "      {\"tokens\": [\"x\", \" =\", \" True\", \"\\n\", \"y\", \" =\", \" False\", \"\\n\", \"z\", \" =\", \" False\", \"\\n\\n\", \"a\", \" =\", \" x\", \" and\", \" y\", \"\\n\", \"b\", \" =\", \" y\", \" or\", \" z\", \"\\n\", \"c\", \" =\", \" z\", \" xor\", \" x\", \"\\n\\n\", \"Which\", \" one\", \" among\", \" a\", \",\", \" b\", \",\", \" c\", \" is\", \" True\", \"?\\n\", \"Ans\", \":\"], \"values\": [0.012324690818786621, 0.0006151432171463966, 0.002462245523929596, 0.0007568448781967163, 0.0011377185583114624, 0.0005145631730556488, 0.005904480814933777, 0.001884743571281433, 0.001480787992477417, 0.0007850788533687592, 0.010154753923416138, 0.0037744492292404175, 0.0011005774140357971, 0.0014454945921897888, 0.002415388822555542, 0.004385888576507568, 0.005949340760707855, 0.007608696818351746, 0.012304902076721191, 0.006739504635334015, 0.004234537482261658, 0.0354829877614975, 0.020905304700136185, 0.0518939346075058, 0.00666770339012146, 0.004750296473503113, 0.006671451032161713, 0.018656015396118164, 0.016031622886657715, 0.02406132221221924, 0.008436903357505798, 0.011828824877738953, 0.006026994436979294, 0.009249955415725708, 0.007687278091907501, 0.04301345348358154, 0.0018331706523895264, 0.015622660517692566, 0.011144652962684631, 0.028419315814971924, 0.02744126319885254, 0.009565621614456177, 0.03667369484901428]}\n",
       "    )\n",
       "    </script>"
      ],
      "text/plain": [
       "<circuitsvis.utils.render.RenderedHTML at 0x7f17cc15ed50>"
      ]
     },
     "metadata": {},
     "output_type": "display_data"
    },
    {
     "name": "stdout",
     "output_type": "stream",
     "text": [
      "--------------------------------------------------------------------------------\n",
      "layer=47\n"
     ]
    },
    {
     "data": {
      "text/html": [
       "<div id=\"circuits-vis-3bed2300-05af\" style=\"margin: 15px 0;\"/>\n",
       "    <script crossorigin type=\"module\">\n",
       "    import { render, ColoredTokens } from \"https://unpkg.com/circuitsvis@1.43.3/dist/cdn/esm.js\";\n",
       "    render(\n",
       "      \"circuits-vis-3bed2300-05af\",\n",
       "      ColoredTokens,\n",
       "      {\"tokens\": [\"x\", \" =\", \" True\", \"\\n\", \"y\", \" =\", \" False\", \"\\n\", \"z\", \" =\", \" False\", \"\\n\\n\", \"a\", \" =\", \" x\", \" and\", \" y\", \"\\n\", \"b\", \" =\", \" y\", \" or\", \" z\", \"\\n\", \"c\", \" =\", \" z\", \" xor\", \" x\", \"\\n\\n\", \"Which\", \" one\", \" among\", \" a\", \",\", \" b\", \",\", \" c\", \" is\", \" True\", \"?\\n\", \"Ans\", \":\"], \"values\": [0.001366443932056427, 0.000431964173913002, 0.0008609853684902191, 0.0004143752157688141, 0.0009836480021476746, 0.0002775609027594328, 0.0009119724854826927, 0.0007271305657923222, 0.000614585354924202, 0.0002795904874801636, 0.0003280453383922577, 0.001484215259552002, 0.0007295198738574982, 0.0006736079230904579, 0.0005086269229650497, 0.0008394978940486908, 0.0004504658281803131, 0.0008585955947637558, 0.005121342837810516, 0.0008961232379078865, 0.00039052870124578476, 0.0014268048107624054, 0.0002636127173900604, 0.0030604880303144455, 0.0008872989565134048, 0.0008409488946199417, 0.00037289969623088837, 0.001584567129611969, 0.0002573411911725998, 0.0019534826278686523, 0.003161504864692688, 0.0011465679854154587, 0.0017444342374801636, 0.0014810264110565186, 0.001377735286951065, 0.013255449011921883, 0.0008678361773490906, 0.0017900224775075912, 0.001155748963356018, 0.0038455426692962646, 0.0039522647857666016, 0.006330311298370361, 0.002707943320274353]}\n",
       "    )\n",
       "    </script>"
      ],
      "text/plain": [
       "<circuitsvis.utils.render.RenderedHTML at 0x7f17ac167110>"
      ]
     },
     "metadata": {},
     "output_type": "display_data"
    },
    {
     "name": "stdout",
     "output_type": "stream",
     "text": [
      "--------------------------------------------------------------------------------\n",
      "layer=52\n"
     ]
    },
    {
     "data": {
      "text/html": [
       "<div id=\"circuits-vis-92d3ddec-6a37\" style=\"margin: 15px 0;\"/>\n",
       "    <script crossorigin type=\"module\">\n",
       "    import { render, ColoredTokens } from \"https://unpkg.com/circuitsvis@1.43.3/dist/cdn/esm.js\";\n",
       "    render(\n",
       "      \"circuits-vis-92d3ddec-6a37\",\n",
       "      ColoredTokens,\n",
       "      {\"tokens\": [\"x\", \" =\", \" True\", \"\\n\", \"y\", \" =\", \" False\", \"\\n\", \"z\", \" =\", \" False\", \"\\n\\n\", \"a\", \" =\", \" x\", \" and\", \" y\", \"\\n\", \"b\", \" =\", \" y\", \" or\", \" z\", \"\\n\", \"c\", \" =\", \" z\", \" xor\", \" x\", \"\\n\\n\", \"Which\", \" one\", \" among\", \" a\", \",\", \" b\", \",\", \" c\", \" is\", \" True\", \"?\\n\", \"Ans\", \":\"], \"values\": [0.0022420883178710938, 0.002470306120812893, 0.0020582228899002075, 0.002394944429397583, 0.002126559615135193, 0.0009747743606567383, 0.00269195344299078, 0.0017488691955804825, 0.001609940081834793, 0.0007925685495138168, 0.0009896033443510532, 0.003878314048051834, 0.001969611272215843, 0.0030417144298553467, 0.0018698181957006454, 0.002939373254776001, 0.0009403247386217117, 0.0024554915726184845, 0.008249890059232712, 0.0023349132388830185, 0.0012197345495224, 0.005556110292673111, 0.0008504060097038746, 0.0026205647736787796, 0.001909172162413597, 0.0015844255685806274, 0.0008870046585798264, 0.0037885308265686035, 0.0008439626544713974, 0.0034797675907611847, 0.008762229233980179, 0.0025876201689243317, 0.004064861685037613, 0.007147632539272308, 0.004145890474319458, 0.02269928716123104, 0.0014159325510263443, 0.0041059162467718124, 0.002991205081343651, 0.009042423218488693, 0.012665480375289917, 0.017210781574249268, 0.0157930925488472]}\n",
       "    )\n",
       "    </script>"
      ],
      "text/plain": [
       "<circuitsvis.utils.render.RenderedHTML at 0x7f180c10ced0>"
      ]
     },
     "metadata": {},
     "output_type": "display_data"
    },
    {
     "name": "stdout",
     "output_type": "stream",
     "text": [
      "--------------------------------------------------------------------------------\n"
     ]
    },
    {
     "data": {
      "text/plain": [
       "[PredictedToken(token=' b', prob=0.69140625, logit=20.5, token_id=293, metadata=None),\n",
       " PredictedToken(token=' None', prob=0.09375, logit=18.5, token_id=2290, metadata=None),\n",
       " PredictedToken(token=' Only', prob=0.056884765625, logit=18.0, token_id=8442, metadata=None),\n",
       " PredictedToken(token=' \\n', prob=0.044189453125, logit=17.75, token_id=720, metadata=None),\n",
       " PredictedToken(token=' a', prob=0.0184326171875, logit=16.875, token_id=264, metadata=None)]"
      ]
     },
     "execution_count": 162,
     "metadata": {},
     "output_type": "execute_result"
    }
   ],
   "source": [
    "prompt = \"\"\"x = True\n",
    "y = False\n",
    "z = False\n",
    "\n",
    "a = x and y\n",
    "b = y or z\n",
    "c = z xor x\n",
    "\n",
    "Which one among a, b, c is True?\n",
    "Ans:\"\"\"\n",
    "\n",
    "gen = generate_with_patch(\n",
    "    mt=mt,\n",
    "    inputs=prompt,\n",
    "    n_gen_per_prompt=1,\n",
    "    max_new_tokens=50,\n",
    "    remove_prefix=True,\n",
    ")[0]\n",
    "print(f'\"{gen}\"')\n",
    "\n",
    "tokenized = prepare_input(tokenizer=mt, prompts=prompt)\n",
    "attn_matrices = get_attention_matrices(\n",
    "    input=tokenized,\n",
    "    mt=mt,\n",
    "    value_weighted=False,\n",
    "    # patches = []\n",
    ")\n",
    "visualize_average_attn_matrix(\n",
    "    mt=mt,\n",
    "    attn_matrices=attn_matrices,\n",
    "    prompt=prompt,\n",
    "    tokenized=tokenized,\n",
    "    layer_window=LAYERS,\n",
    ")\n",
    "interpret_logits(tokenizer=mt, logits=attn_matrices.logits)"
   ]
  },
  {
   "cell_type": "code",
   "execution_count": 163,
   "id": "c49ddd55",
   "metadata": {},
   "outputs": [
    {
     "name": "stdout",
     "output_type": "stream",
     "text": [
      "Layer: 33, Head: 45\n"
     ]
    },
    {
     "data": {
      "text/html": [
       "<div id=\"circuits-vis-f28406ca-ca7f\" style=\"margin: 15px 0;\"/>\n",
       "    <script crossorigin type=\"module\">\n",
       "    import { render, ColoredTokens } from \"https://unpkg.com/circuitsvis@1.43.3/dist/cdn/esm.js\";\n",
       "    render(\n",
       "      \"circuits-vis-f28406ca-ca7f\",\n",
       "      ColoredTokens,\n",
       "      {\"tokens\": [\"x\", \" =\", \" True\", \"\\n\", \"y\", \" =\", \" False\", \"\\n\", \"z\", \" =\", \" False\", \"\\n\\n\", \"a\", \" =\", \" x\", \" and\", \" y\", \"\\n\", \"b\", \" =\", \" y\", \" or\", \" z\", \"\\n\", \"c\", \" =\", \" z\", \" xor\", \" x\", \"\\n\\n\", \"Which\", \" one\", \" among\", \" a\", \",\", \" b\", \",\", \" c\", \" is\", \" True\", \"?\\n\", \"Ans\", \":\"], \"values\": [0.007537841796875, 0.00043487548828125, 0.0006256103515625, 0.00022602081298828125, 0.0017242431640625, 0.0003662109375, 0.014892578125, 0.00103759765625, 0.00213623046875, 0.000701904296875, 0.01513671875, 0.000858306884765625, 0.0006256103515625, 0.000606536865234375, 0.002044677734375, 0.0021514892578125, 0.012451171875, 0.00186920166015625, 0.01251220703125, 0.0169677734375, 0.057861328125, 0.248046875, 0.1552734375, 0.21875, 0.00186920166015625, 0.00135040283203125, 0.045166015625, 0.010009765625, 0.005859375, 0.01226806640625, 0.0018310546875, 0.001495361328125, 0.0002956390380859375, 0.001068115234375, 0.00093841552734375, 0.10009765625, 0.00014591217041015625, 0.004180908203125, 0.0006256103515625, 0.00148773193359375, 0.00090789794921875, 0.00022602081298828125, 0.0045166015625]}\n",
       "    )\n",
       "    </script>"
      ],
      "text/plain": [
       "<circuitsvis.utils.render.RenderedHTML at 0x7f176c31c550>"
      ]
     },
     "metadata": {},
     "output_type": "display_data"
    },
    {
     "name": "stdout",
     "output_type": "stream",
     "text": [
      "Layer: 33, Head: 18\n"
     ]
    },
    {
     "data": {
      "text/html": [
       "<div id=\"circuits-vis-28abfa4b-ff69\" style=\"margin: 15px 0;\"/>\n",
       "    <script crossorigin type=\"module\">\n",
       "    import { render, ColoredTokens } from \"https://unpkg.com/circuitsvis@1.43.3/dist/cdn/esm.js\";\n",
       "    render(\n",
       "      \"circuits-vis-28abfa4b-ff69\",\n",
       "      ColoredTokens,\n",
       "      {\"tokens\": [\"x\", \" =\", \" True\", \"\\n\", \"y\", \" =\", \" False\", \"\\n\", \"z\", \" =\", \" False\", \"\\n\\n\", \"a\", \" =\", \" x\", \" and\", \" y\", \"\\n\", \"b\", \" =\", \" y\", \" or\", \" z\", \"\\n\", \"c\", \" =\", \" z\", \" xor\", \" x\", \"\\n\\n\", \"Which\", \" one\", \" among\", \" a\", \",\", \" b\", \",\", \" c\", \" is\", \" True\", \"?\\n\", \"Ans\", \":\"], \"values\": [0.0118408203125, 0.0003604888916015625, 0.00141143798828125, 0.00014495849609375, 0.006622314453125, 0.00116729736328125, 0.0157470703125, 0.00093841552734375, 0.0177001953125, 0.0029144287109375, 0.0130615234375, 0.00102996826171875, 0.003997802734375, 0.002166748046875, 0.002532958984375, 0.0025482177734375, 0.00860595703125, 0.00543212890625, 0.056884765625, 0.00994873046875, 0.0172119140625, 0.051025390625, 0.05859375, 0.11474609375, 0.038330078125, 0.0103759765625, 0.0262451171875, 0.0216064453125, 0.0079345703125, 0.0294189453125, 0.00026702880859375, 0.001983642578125, 0.0001697540283203125, 0.0257568359375, 0.005950927734375, 0.322265625, 0.0003070831298828125, 0.032958984375, 0.0008087158203125, 0.00592041015625, 0.000659942626953125, 0.0001239776611328125, 0.00482177734375]}\n",
       "    )\n",
       "    </script>"
      ],
      "text/plain": [
       "<circuitsvis.utils.render.RenderedHTML at 0x7f176c366150>"
      ]
     },
     "metadata": {},
     "output_type": "display_data"
    },
    {
     "name": "stdout",
     "output_type": "stream",
     "text": [
      "Layer: 34, Head: 1\n"
     ]
    },
    {
     "data": {
      "text/html": [
       "<div id=\"circuits-vis-4558c62e-9805\" style=\"margin: 15px 0;\"/>\n",
       "    <script crossorigin type=\"module\">\n",
       "    import { render, ColoredTokens } from \"https://unpkg.com/circuitsvis@1.43.3/dist/cdn/esm.js\";\n",
       "    render(\n",
       "      \"circuits-vis-4558c62e-9805\",\n",
       "      ColoredTokens,\n",
       "      {\"tokens\": [\"x\", \" =\", \" True\", \"\\n\", \"y\", \" =\", \" False\", \"\\n\", \"z\", \" =\", \" False\", \"\\n\\n\", \"a\", \" =\", \" x\", \" and\", \" y\", \"\\n\", \"b\", \" =\", \" y\", \" or\", \" z\", \"\\n\", \"c\", \" =\", \" z\", \" xor\", \" x\", \"\\n\\n\", \"Which\", \" one\", \" among\", \" a\", \",\", \" b\", \",\", \" c\", \" is\", \" True\", \"?\\n\", \"Ans\", \":\"], \"values\": [0.07568359375, 0.00012683868408203125, 0.00013065338134765625, 6.198883056640625e-05, 0.00095367431640625, 0.0002613067626953125, 0.0012664794921875, 0.0004730224609375, 0.00141143798828125, 0.000644683837890625, 0.003662109375, 0.000568389892578125, 0.00092315673828125, 0.0028533935546875, 0.000518798828125, 0.00095367431640625, 0.002716064453125, 0.0031280517578125, 0.0213623046875, 0.00909423828125, 0.0035400390625, 0.039794921875, 0.0078125, 0.06494140625, 0.006256103515625, 0.00154876708984375, 0.004852294921875, 0.00811767578125, 0.00154876708984375, 0.013671875, 0.0028533935546875, 0.01141357421875, 0.0023193359375, 0.000732421875, 0.0021514892578125, 0.171875, 0.0010833740234375, 0.00543212890625, 0.0034332275390625, 0.012939453125, 0.004608154296875, 0.0013885498046875, 0.05078125]}\n",
       "    )\n",
       "    </script>"
      ],
      "text/plain": [
       "<circuitsvis.utils.render.RenderedHTML at 0x7f176c31f150>"
      ]
     },
     "metadata": {},
     "output_type": "display_data"
    },
    {
     "name": "stdout",
     "output_type": "stream",
     "text": [
      "Layer: 34, Head: 6\n"
     ]
    },
    {
     "data": {
      "text/html": [
       "<div id=\"circuits-vis-5c329c09-388b\" style=\"margin: 15px 0;\"/>\n",
       "    <script crossorigin type=\"module\">\n",
       "    import { render, ColoredTokens } from \"https://unpkg.com/circuitsvis@1.43.3/dist/cdn/esm.js\";\n",
       "    render(\n",
       "      \"circuits-vis-5c329c09-388b\",\n",
       "      ColoredTokens,\n",
       "      {\"tokens\": [\"x\", \" =\", \" True\", \"\\n\", \"y\", \" =\", \" False\", \"\\n\", \"z\", \" =\", \" False\", \"\\n\\n\", \"a\", \" =\", \" x\", \" and\", \" y\", \"\\n\", \"b\", \" =\", \" y\", \" or\", \" z\", \"\\n\", \"c\", \" =\", \" z\", \" xor\", \" x\", \"\\n\\n\", \"Which\", \" one\", \" among\", \" a\", \",\", \" b\", \",\", \" c\", \" is\", \" True\", \"?\\n\", \"Ans\", \":\"], \"values\": [0.05908203125, 0.000125885009765625, 5.602836608886719e-05, 5.602836608886719e-05, 0.001007080078125, 0.0003223419189453125, 0.00042724609375, 0.0002593994140625, 0.0013580322265625, 0.00119781494140625, 0.002532958984375, 0.000453948974609375, 0.0019683837890625, 0.00537109375, 0.000453948974609375, 0.000736236572265625, 0.00762939453125, 0.0047607421875, 0.040771484375, 0.040771484375, 0.005462646484375, 0.09130859375, 0.013671875, 0.1484375, 0.0081787109375, 0.002410888671875, 0.006072998046875, 0.0038604736328125, 0.0031585693359375, 0.0140380859375, 0.001800537109375, 0.00531005859375, 0.0014190673828125, 0.000514984130859375, 0.000591278076171875, 0.1767578125, 0.00020122528076171875, 0.002777099609375, 0.001312255859375, 0.00109100341796875, 0.00112152099609375, 0.0003757476806640625, 0.029296875]}\n",
       "    )\n",
       "    </script>"
      ],
      "text/plain": [
       "<circuitsvis.utils.render.RenderedHTML at 0x7f17ac1d7650>"
      ]
     },
     "metadata": {},
     "output_type": "display_data"
    },
    {
     "name": "stdout",
     "output_type": "stream",
     "text": [
      "Layer: 34, Head: 7\n"
     ]
    },
    {
     "data": {
      "text/html": [
       "<div id=\"circuits-vis-c985ebba-6cba\" style=\"margin: 15px 0;\"/>\n",
       "    <script crossorigin type=\"module\">\n",
       "    import { render, ColoredTokens } from \"https://unpkg.com/circuitsvis@1.43.3/dist/cdn/esm.js\";\n",
       "    render(\n",
       "      \"circuits-vis-c985ebba-6cba\",\n",
       "      ColoredTokens,\n",
       "      {\"tokens\": [\"x\", \" =\", \" True\", \"\\n\", \"y\", \" =\", \" False\", \"\\n\", \"z\", \" =\", \" False\", \"\\n\\n\", \"a\", \" =\", \" x\", \" and\", \" y\", \"\\n\", \"b\", \" =\", \" y\", \" or\", \" z\", \"\\n\", \"c\", \" =\", \" z\", \" xor\", \" x\", \"\\n\\n\", \"Which\", \" one\", \" among\", \" a\", \",\", \" b\", \",\", \" c\", \" is\", \" True\", \"?\\n\", \"Ans\", \":\"], \"values\": [0.0419921875, 5.340576171875e-05, 9.107589721679688e-05, 4.291534423828125e-05, 0.00023937225341796875, 6.246566772460938e-05, 0.000507354736328125, 0.00017547607421875, 0.0004405975341796875, 0.00017547607421875, 0.00146484375, 0.000484466552734375, 0.0009613037109375, 0.001251220703125, 0.000522613525390625, 0.00133514404296875, 0.00299072265625, 0.00323486328125, 0.0118408203125, 0.00445556640625, 0.00274658203125, 0.0213623046875, 0.005279541015625, 0.06005859375, 0.006561279296875, 0.00103759765625, 0.003173828125, 0.00567626953125, 0.00213623046875, 0.019775390625, 0.004486083984375, 0.0252685546875, 0.0076904296875, 0.0048828125, 0.0079345703125, 0.306640625, 0.00035858154296875, 0.02294921875, 0.0185546875, 0.01300048828125, 0.0166015625, 0.003997802734375, 0.146484375]}\n",
       "    )\n",
       "    </script>"
      ],
      "text/plain": [
       "<circuitsvis.utils.render.RenderedHTML at 0x7f176c2fb850>"
      ]
     },
     "metadata": {},
     "output_type": "display_data"
    },
    {
     "name": "stdout",
     "output_type": "stream",
     "text": [
      "Layer: 35, Head: 19\n"
     ]
    },
    {
     "data": {
      "text/html": [
       "<div id=\"circuits-vis-bdb5a1ad-63ec\" style=\"margin: 15px 0;\"/>\n",
       "    <script crossorigin type=\"module\">\n",
       "    import { render, ColoredTokens } from \"https://unpkg.com/circuitsvis@1.43.3/dist/cdn/esm.js\";\n",
       "    render(\n",
       "      \"circuits-vis-bdb5a1ad-63ec\",\n",
       "      ColoredTokens,\n",
       "      {\"tokens\": [\"x\", \" =\", \" True\", \"\\n\", \"y\", \" =\", \" False\", \"\\n\", \"z\", \" =\", \" False\", \"\\n\\n\", \"a\", \" =\", \" x\", \" and\", \" y\", \"\\n\", \"b\", \" =\", \" y\", \" or\", \" z\", \"\\n\", \"c\", \" =\", \" z\", \" xor\", \" x\", \"\\n\\n\", \"Which\", \" one\", \" among\", \" a\", \",\", \" b\", \",\", \" c\", \" is\", \" True\", \"?\\n\", \"Ans\", \":\"], \"values\": [0.002716064453125, 1.043081283569336e-05, 0.000560760498046875, 1.5616416931152344e-05, 0.00012493133544921875, 8.96453857421875e-05, 0.01080322265625, 0.0002689361572265625, 0.0002689361572265625, 0.0004024505615234375, 0.01324462890625, 0.00014781951904296875, 4.5299530029296875e-05, 9.72747802734375e-05, 0.000354766845703125, 0.0015869140625, 0.003082275390625, 0.00201416015625, 0.0016632080078125, 0.003326416015625, 0.002288818359375, 0.2021484375, 0.0986328125, 0.376953125, 0.00164031982421875, 0.00335693359375, 0.002288818359375, 0.0135498046875, 0.08837890625, 0.02734375, 0.00015544891357421875, 0.000385284423828125, 5.984306335449219e-05, 0.00014781951904296875, 7.677078247070312e-05, 0.10009765625, 4.38690185546875e-05, 0.002197265625, 0.00011920928955078125, 0.00238037109375, 0.0006866455078125, 4.5299530029296875e-05, 0.0084228515625]}\n",
       "    )\n",
       "    </script>"
      ],
      "text/plain": [
       "<circuitsvis.utils.render.RenderedHTML at 0x7f176c31f150>"
      ]
     },
     "metadata": {},
     "output_type": "display_data"
    },
    {
     "name": "stdout",
     "output_type": "stream",
     "text": [
      "Layer: 39, Head: 40\n"
     ]
    },
    {
     "data": {
      "text/html": [
       "<div id=\"circuits-vis-031c0294-db5f\" style=\"margin: 15px 0;\"/>\n",
       "    <script crossorigin type=\"module\">\n",
       "    import { render, ColoredTokens } from \"https://unpkg.com/circuitsvis@1.43.3/dist/cdn/esm.js\";\n",
       "    render(\n",
       "      \"circuits-vis-031c0294-db5f\",\n",
       "      ColoredTokens,\n",
       "      {\"tokens\": [\"x\", \" =\", \" True\", \"\\n\", \"y\", \" =\", \" False\", \"\\n\", \"z\", \" =\", \" False\", \"\\n\\n\", \"a\", \" =\", \" x\", \" and\", \" y\", \"\\n\", \"b\", \" =\", \" y\", \" or\", \" z\", \"\\n\", \"c\", \" =\", \" z\", \" xor\", \" x\", \"\\n\\n\", \"Which\", \" one\", \" among\", \" a\", \",\", \" b\", \",\", \" c\", \" is\", \" True\", \"?\\n\", \"Ans\", \":\"], \"values\": [0.00058746337890625, 0.000110626220703125, 9.298324584960938e-05, 7.2479248046875e-05, 0.001739501953125, 0.00051116943359375, 0.00390625, 0.0033416748046875, 0.00016307830810546875, 0.0001316070556640625, 0.00049591064453125, 0.0032501220703125, 0.000766754150390625, 0.0021209716796875, 8.20159912109375e-05, 0.000743865966796875, 0.0009613037109375, 0.00433349609375, 0.0238037109375, 0.0093994140625, 0.0012664794921875, 0.048828125, 0.00182342529296875, 0.0986328125, 0.0021209716796875, 0.0006561279296875, 0.00010204315185546875, 0.00103759765625, 7.486343383789062e-05, 0.0037689208984375, 0.0026092529296875, 0.00677490234375, 0.005279541015625, 0.00787353515625, 0.00482177734375, 0.64453125, 0.0001392364501953125, 0.0118408203125, 0.0054931640625, 0.00469970703125, 0.025634765625, 0.00177001953125, 0.035400390625]}\n",
       "    )\n",
       "    </script>"
      ],
      "text/plain": [
       "<circuitsvis.utils.render.RenderedHTML at 0x7f176c348410>"
      ]
     },
     "metadata": {},
     "output_type": "display_data"
    },
    {
     "name": "stdout",
     "output_type": "stream",
     "text": [
      "Layer: 42, Head: 30\n"
     ]
    },
    {
     "data": {
      "text/html": [
       "<div id=\"circuits-vis-62c57310-a37a\" style=\"margin: 15px 0;\"/>\n",
       "    <script crossorigin type=\"module\">\n",
       "    import { render, ColoredTokens } from \"https://unpkg.com/circuitsvis@1.43.3/dist/cdn/esm.js\";\n",
       "    render(\n",
       "      \"circuits-vis-62c57310-a37a\",\n",
       "      ColoredTokens,\n",
       "      {\"tokens\": [\"x\", \" =\", \" True\", \"\\n\", \"y\", \" =\", \" False\", \"\\n\", \"z\", \" =\", \" False\", \"\\n\\n\", \"a\", \" =\", \" x\", \" and\", \" y\", \"\\n\", \"b\", \" =\", \" y\", \" or\", \" z\", \"\\n\", \"c\", \" =\", \" z\", \" xor\", \" x\", \"\\n\\n\", \"Which\", \" one\", \" among\", \" a\", \",\", \" b\", \",\", \" c\", \" is\", \" True\", \"?\\n\", \"Ans\", \":\"], \"values\": [0.000946044921875, 0.000591278076171875, 0.00156402587890625, 0.00078582763671875, 0.0034637451171875, 0.00107574462890625, 0.0091552734375, 0.00311279296875, 0.00238037109375, 0.000946044921875, 0.01116943359375, 0.005279541015625, 0.002655029296875, 0.00250244140625, 0.00182342529296875, 0.006988525390625, 0.005615234375, 0.00860595703125, 0.01483154296875, 0.005615234375, 0.005706787109375, 0.042724609375, 0.016845703125, 0.04052734375, 0.00970458984375, 0.005279541015625, 0.00537109375, 0.0208740234375, 0.00616455078125, 0.0203857421875, 0.0098876953125, 0.010986328125, 0.005706787109375, 0.005706787109375, 0.0130615234375, 0.058349609375, 0.0027923583984375, 0.020263671875, 0.00970458984375, 0.06201171875, 0.01348876953125, 0.0024261474609375, 0.01226806640625]}\n",
       "    )\n",
       "    </script>"
      ],
      "text/plain": [
       "<circuitsvis.utils.render.RenderedHTML at 0x7f174c5cac90>"
      ]
     },
     "metadata": {},
     "output_type": "display_data"
    },
    {
     "name": "stdout",
     "output_type": "stream",
     "text": [
      "Layer: 47, Head: 18\n"
     ]
    },
    {
     "data": {
      "text/html": [
       "<div id=\"circuits-vis-18354f6e-71fc\" style=\"margin: 15px 0;\"/>\n",
       "    <script crossorigin type=\"module\">\n",
       "    import { render, ColoredTokens } from \"https://unpkg.com/circuitsvis@1.43.3/dist/cdn/esm.js\";\n",
       "    render(\n",
       "      \"circuits-vis-18354f6e-71fc\",\n",
       "      ColoredTokens,\n",
       "      {\"tokens\": [\"x\", \" =\", \" True\", \"\\n\", \"y\", \" =\", \" False\", \"\\n\", \"z\", \" =\", \" False\", \"\\n\\n\", \"a\", \" =\", \" x\", \" and\", \" y\", \"\\n\", \"b\", \" =\", \" y\", \" or\", \" z\", \"\\n\", \"c\", \" =\", \" z\", \" xor\", \" x\", \"\\n\\n\", \"Which\", \" one\", \" among\", \" a\", \",\", \" b\", \",\", \" c\", \" is\", \" True\", \"?\\n\", \"Ans\", \":\"], \"values\": [0.00095367431640625, 0.00012302398681640625, 0.0003566741943359375, 0.0001316070556640625, 0.0026397705078125, 0.0017547607421875, 0.0038299560546875, 0.00323486328125, 0.0003681182861328125, 0.00115203857421875, 0.00093841552734375, 0.0042724609375, 0.00130462646484375, 0.0032806396484375, 0.000518798828125, 0.0006256103515625, 0.0021820068359375, 0.00408935546875, 0.11181640625, 0.01275634765625, 0.0050048828125, 0.01239013671875, 0.000457763671875, 0.09228515625, 0.0028533935546875, 0.00433349609375, 0.000743865966796875, 0.0032806396484375, 0.0001583099365234375, 0.0201416015625, 0.01043701171875, 0.006378173828125, 0.001983642578125, 0.005767822265625, 0.01446533203125, 0.435546875, 0.00116729736328125, 0.0157470703125, 0.00775146484375, 0.00543212890625, 0.0146484375, 0.00104522705078125, 0.025634765625]}\n",
       "    )\n",
       "    </script>"
      ],
      "text/plain": [
       "<circuitsvis.utils.render.RenderedHTML at 0x7f176c2f9d10>"
      ]
     },
     "metadata": {},
     "output_type": "display_data"
    },
    {
     "name": "stdout",
     "output_type": "stream",
     "text": [
      "Layer: 52, Head: 58\n"
     ]
    },
    {
     "data": {
      "text/html": [
       "<div id=\"circuits-vis-16f86e5c-2d79\" style=\"margin: 15px 0;\"/>\n",
       "    <script crossorigin type=\"module\">\n",
       "    import { render, ColoredTokens } from \"https://unpkg.com/circuitsvis@1.43.3/dist/cdn/esm.js\";\n",
       "    render(\n",
       "      \"circuits-vis-16f86e5c-2d79\",\n",
       "      ColoredTokens,\n",
       "      {\"tokens\": [\"x\", \" =\", \" True\", \"\\n\", \"y\", \" =\", \" False\", \"\\n\", \"z\", \" =\", \" False\", \"\\n\\n\", \"a\", \" =\", \" x\", \" and\", \" y\", \"\\n\", \"b\", \" =\", \" y\", \" or\", \" z\", \"\\n\", \"c\", \" =\", \" z\", \" xor\", \" x\", \"\\n\\n\", \"Which\", \" one\", \" among\", \" a\", \",\", \" b\", \",\", \" c\", \" is\", \" True\", \"?\\n\", \"Ans\", \":\"], \"values\": [0.002593994140625, 0.000614166259765625, 0.001617431640625, 0.00016021728515625, 0.005645751953125, 0.0028839111328125, 0.014892578125, 0.0028839111328125, 0.00098419189453125, 0.0021820068359375, 0.0028839111328125, 0.0038909912109375, 0.0018310546875, 0.009033203125, 0.0013885498046875, 0.00860595703125, 0.002593994140625, 0.0037078857421875, 0.031982421875, 0.033203125, 0.00836181640625, 0.06640625, 0.002288818359375, 0.017822265625, 0.003326416015625, 0.006927490234375, 0.00107574462890625, 0.01397705078125, 0.000865936279296875, 0.00592041015625, 0.002288818359375, 0.0164794921875, 0.0042724609375, 0.00592041015625, 0.012939453125, 0.078125, 0.0021514892578125, 0.004608154296875, 0.00714111328125, 0.01312255859375, 0.00787353515625, 0.0027923583984375, 0.01397705078125]}\n",
       "    )\n",
       "    </script>"
      ],
      "text/plain": [
       "<circuitsvis.utils.render.RenderedHTML at 0x7f176c34b7d0>"
      ]
     },
     "metadata": {},
     "output_type": "display_data"
    }
   ],
   "source": [
    "for layer_idx, head_idx in HEADS:\n",
    "    print(\n",
    "        f\"Layer: {layer_idx}, Head: {head_idx}\"\n",
    "    )\n",
    "\n",
    "    head_matrix = torch.Tensor(attn_matrices.attention_matrices[layer_idx, head_idx]).squeeze()\n",
    "    visualize_attn_matrix(\n",
    "        attn_matrix=head_matrix,\n",
    "        tokens=[mt.tokenizer.decode(t) for t in tokenized.input_ids[0]],\n",
    "        q_index=-1,\n",
    "        start_from=1\n",
    "    )"
   ]
  },
  {
   "cell_type": "code",
   "execution_count": null,
   "id": "be3e600d",
   "metadata": {},
   "outputs": [],
   "source": []
  }
 ],
 "metadata": {
  "kernelspec": {
   "display_name": "connection",
   "language": "python",
   "name": "python3"
  },
  "language_info": {
   "codemirror_mode": {
    "name": "ipython",
    "version": 3
   },
   "file_extension": ".py",
   "mimetype": "text/x-python",
   "name": "python",
   "nbconvert_exporter": "python",
   "pygments_lexer": "ipython3",
   "version": "3.11.11"
  }
 },
 "nbformat": 4,
 "nbformat_minor": 5
}
