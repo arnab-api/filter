{
 "cells": [
  {
   "cell_type": "code",
   "execution_count": 1,
   "id": "5728a60e",
   "metadata": {},
   "outputs": [],
   "source": [
    "%load_ext autoreload\n",
    "%autoreload 2"
   ]
  },
  {
   "cell_type": "code",
   "execution_count": 2,
   "id": "f6bcda99",
   "metadata": {},
   "outputs": [
    {
     "name": "stdout",
     "output_type": "stream",
     "text": [
      "2025-07-30 17:34:40 __main__ INFO     torch.__version__='2.7.0+cu126', torch.version.cuda='12.6'\n",
      "2025-07-30 17:34:41 __main__ INFO     torch.cuda.is_available()=True, torch.cuda.device_count()=8, torch.cuda.get_device_name()='NVIDIA A100 80GB PCIe'\n",
      "2025-07-30 17:34:41 __main__ INFO     transformers.__version__='4.51.3'\n"
     ]
    }
   ],
   "source": [
    "import os\n",
    "import json\n",
    "\n",
    "import sys\n",
    "\n",
    "sys.path.append(\"../\")\n",
    "\n",
    "##################################################################\n",
    "os.environ[\"TOKENIZERS_PARALLELISM\"] = \"false\"\n",
    "os.environ[\"CUDA_VISIBLE_DEVICES\"] = \"0,1,2,3,4,5,6,7\"\n",
    "##################################################################\n",
    "\n",
    "import logging\n",
    "from src.utils import logging_utils\n",
    "from src.utils import env_utils\n",
    "\n",
    "logger = logging.getLogger(__name__)\n",
    "\n",
    "logging.basicConfig(\n",
    "    level=logging.DEBUG,\n",
    "    format=logging_utils.DEFAULT_FORMAT,\n",
    "    datefmt=logging_utils.DEFAULT_DATEFMT,\n",
    "    stream=sys.stdout,\n",
    ")\n",
    "\n",
    "import torch\n",
    "import transformers\n",
    "\n",
    "logger.info(f\"{torch.__version__=}, {torch.version.cuda=}\")\n",
    "logger.info(\n",
    "    f\"{torch.cuda.is_available()=}, {torch.cuda.device_count()=}, {torch.cuda.get_device_name()=}\"\n",
    ")\n",
    "logger.info(f\"{transformers.__version__=}\")"
   ]
  },
  {
   "cell_type": "code",
   "execution_count": 3,
   "id": "da104a94",
   "metadata": {},
   "outputs": [
    {
     "name": "stdout",
     "output_type": "stream",
     "text": [
      "[2025-07-30 17:34:47,918] [INFO] [real_accelerator.py:239:get_accelerator] Setting ds_accelerator to cuda (auto detect)\n",
      "2025-07-30 17:34:47 root INFO     gcc -pthread -B /disk/u/arnab/miniconda3/envs/connection/compiler_compat -DNDEBUG -fwrapv -O2 -Wall -fPIC -O2 -isystem /disk/u/arnab/miniconda3/envs/connection/include -fPIC -O2 -isystem /disk/u/arnab/miniconda3/envs/connection/include -fPIC -c /tmp/tmpyiq12cp8/test.c -o /tmp/tmpyiq12cp8/test.o\n",
      "2025-07-30 17:34:48 root INFO     gcc -pthread -B /disk/u/arnab/miniconda3/envs/connection/compiler_compat /tmp/tmpyiq12cp8/test.o -laio -o /tmp/tmpyiq12cp8/a.out\n"
     ]
    },
    {
     "name": "stderr",
     "output_type": "stream",
     "text": [
      "/disk/u/arnab/miniconda3/envs/connection/compiler_compat/ld: cannot find -laio: No such file or directory\n",
      "collect2: error: ld returned 1 exit status\n"
     ]
    },
    {
     "name": "stdout",
     "output_type": "stream",
     "text": [
      "2025-07-30 17:34:48 root INFO     gcc -pthread -B /disk/u/arnab/miniconda3/envs/connection/compiler_compat -DNDEBUG -fwrapv -O2 -Wall -fPIC -O2 -isystem /disk/u/arnab/miniconda3/envs/connection/include -fPIC -O2 -isystem /disk/u/arnab/miniconda3/envs/connection/include -fPIC -c /tmp/tmpffppo2ms/test.c -o /tmp/tmpffppo2ms/test.o\n",
      "2025-07-30 17:34:48 root INFO     gcc -pthread -B /disk/u/arnab/miniconda3/envs/connection/compiler_compat /tmp/tmpffppo2ms/test.o -L/usr -L/usr/lib64 -lcufile -o /tmp/tmpffppo2ms/a.out\n"
     ]
    },
    {
     "name": "stderr",
     "output_type": "stream",
     "text": [
      "/disk/u/arnab/miniconda3/envs/connection/compiler_compat/ld: cannot find -lcufile: No such file or directory\n",
      "collect2: error: ld returned 1 exit status\n"
     ]
    },
    {
     "name": "stdout",
     "output_type": "stream",
     "text": [
      "2025-07-30 17:34:49 git.cmd DEBUG    Popen(['git', 'version'], cwd=/disk/u/arnab/Codes/Projects/retrieval/notebooks, stdin=None, shell=False, universal_newlines=False)\n",
      "2025-07-30 17:34:49 git.cmd DEBUG    Popen(['git', 'version'], cwd=/disk/u/arnab/Codes/Projects/retrieval/notebooks, stdin=None, shell=False, universal_newlines=False)\n",
      "2025-07-30 17:34:49 wandb.docker.auth DEBUG    Trying paths: ['/disk/u/arnab/.docker/config.json', '/disk/u/arnab/.dockercfg']\n",
      "2025-07-30 17:34:49 wandb.docker.auth DEBUG    No config file found\n"
     ]
    }
   ],
   "source": [
    "from src.utils.training_utils import get_device_map\n",
    "\n",
    "# model_key = \"meta-llama/Llama-3.2-3B\"\n",
    "# model_key = \"meta-llama/Llama-3.1-8B\"\n",
    "# model_key = \"meta-llama/Llama-3.3-70B-Instruct\"\n",
    "# model_key = \"meta-llama/Llama-3.1-405B-Instruct\"\n",
    "\n",
    "# model_key = \"google/gemma-2-9b-it\"\n",
    "# model_key = \"google/gemma-3-12b-it\"\n",
    "# model_key = \"google/gemma-2-27b-it\"\n",
    "\n",
    "# model_key = \"deepseek-ai/DeepSeek-R1-Distill-Llama-8B\"\n",
    "\n",
    "# model_key = \"allenai/OLMo-2-1124-7B-Instruct\"\n",
    "# model_key = \"allenai/OLMo-7B-0424-hf\"\n",
    "\n",
    "# model_key = \"Qwen/Qwen2-7B\"\n",
    "# model_key = \"Qwen/Qwen2.5-14B-Instruct\"\n",
    "# model_key = \"Qwen/Qwen2.5-32B-Instruct\"\n",
    "model_key = \"Qwen/Qwen2.5-72B-Instruct\"\n",
    "\n",
    "# model_key = \"Qwen/Qwen3-1.7B\"\n",
    "# model_key = \"Qwen/Qwen3-4B\"\n",
    "# model_key = \"Qwen/Qwen3-8B\"\n",
    "# model_key = \"Qwen/Qwen3-14B\"\n",
    "# model_key = \"Qwen/Qwen3-32B\"\n",
    "\n",
    "# device_map = get_device_map(model_key, 30, n_gpus=8)\n",
    "# device_map"
   ]
  },
  {
   "cell_type": "code",
   "execution_count": 4,
   "id": "19dcf5e7",
   "metadata": {},
   "outputs": [],
   "source": [
    "# os.environ[\"BNB_CUDA_VERSION\"] = \"124\"\n",
    "# ! echo $BNB_CUDA_VERSION\n",
    "# ! python -m bitsandbytes"
   ]
  },
  {
   "cell_type": "code",
   "execution_count": 5,
   "id": "6f7ced8e",
   "metadata": {},
   "outputs": [
    {
     "name": "stdout",
     "output_type": "stream",
     "text": [
      "2025-07-30 17:34:50 src.models WARNING  Qwen/Qwen2.5-72B-Instruct not found in /disk/u/arnab/Codes/Models\n",
      "If not found in cache, model will be downloaded from HuggingFace to cache directory\n"
     ]
    },
    {
     "name": "stdout",
     "output_type": "stream",
     "text": [
      "2025-07-30 17:34:50 urllib3.connectionpool DEBUG    Starting new HTTPS connection (1): huggingface.co:443\n",
      "2025-07-30 17:34:50 urllib3.connectionpool DEBUG    https://huggingface.co:443 \"HEAD /Qwen/Qwen2.5-72B-Instruct/resolve/main/config.json HTTP/1.1\" 307 0\n",
      "2025-07-30 17:34:50 urllib3.connectionpool DEBUG    https://huggingface.co:443 \"HEAD /api/resolve-cache/models/Qwen/Qwen2.5-72B-Instruct/495f39366efef23836d0cfae4fbe635880d2be31/config.json HTTP/1.1\" 200 0\n",
      "2025-07-30 17:34:50 urllib3.connectionpool DEBUG    https://huggingface.co:443 \"HEAD /Qwen/Qwen2.5-72B-Instruct/resolve/main/tokenizer_config.json HTTP/1.1\" 307 0\n",
      "2025-07-30 17:34:50 urllib3.connectionpool DEBUG    https://huggingface.co:443 \"HEAD /api/resolve-cache/models/Qwen/Qwen2.5-72B-Instruct/495f39366efef23836d0cfae4fbe635880d2be31/tokenizer_config.json HTTP/1.1\" 200 0\n"
     ]
    },
    {
     "name": "stderr",
     "output_type": "stream",
     "text": [
      "Sliding Window Attention is enabled but not implemented for `sdpa`; unexpected results may be encountered.\n"
     ]
    },
    {
     "data": {
      "application/vnd.jupyter.widget-view+json": {
       "model_id": "5890e78dc0384b95a01686e85c6663bb",
       "version_major": 2,
       "version_minor": 0
      },
      "text/plain": [
       "Loading checkpoint shards:   0%|          | 0/37 [00:00<?, ?it/s]"
      ]
     },
     "metadata": {},
     "output_type": "display_data"
    },
    {
     "name": "stdout",
     "output_type": "stream",
     "text": [
      "2025-07-30 17:35:40 urllib3.connectionpool DEBUG    https://huggingface.co:443 \"HEAD /Qwen/Qwen2.5-72B-Instruct/resolve/main/generation_config.json HTTP/1.1\" 307 0\n",
      "2025-07-30 17:35:40 urllib3.connectionpool DEBUG    https://huggingface.co:443 \"HEAD /api/resolve-cache/models/Qwen/Qwen2.5-72B-Instruct/495f39366efef23836d0cfae4fbe635880d2be31/generation_config.json HTTP/1.1\" 200 0\n",
      "2025-07-30 17:35:40 src.models INFO     loaded model <Qwen/Qwen2.5-72B-Instruct> | size: 138676.078 MB | dtype: torch.bfloat16 | device: cuda:0\n"
     ]
    }
   ],
   "source": [
    "from src.models import ModelandTokenizer\n",
    "\n",
    "# from transformers import BitsAndBytesConfig\n",
    "\n",
    "mt = ModelandTokenizer(\n",
    "    model_key=model_key,\n",
    "    torch_dtype=torch.bfloat16,\n",
    "    # device_map=device_map,\n",
    "    device_map=\"auto\",\n",
    "    # quantization_config = BitsAndBytesConfig(\n",
    "    #     # load_in_4bit=True\n",
    "    #     load_in_8bit=True\n",
    "    # )\n",
    ")"
   ]
  },
  {
   "cell_type": "code",
   "execution_count": 6,
   "id": "b76d98b6",
   "metadata": {},
   "outputs": [],
   "source": [
    "# from src.functional import free_gpu_cache\n",
    "\n",
    "# # SYNTH_DATASET = \"icosahedron_1\"\n",
    "# SYNTH_DATASET = \"64\"\n",
    "\n",
    "# checkpoint_path = os.path.join(\n",
    "#     env_utils.DEFAULT_RESULTS_DIR,\n",
    "#     \"trained_params\",\n",
    "#     f\"{SYNTH_DATASET}\",\n",
    "#     \"_full__clamp=0.001\",\n",
    "#     model_key.split(\"/\")[-1],\n",
    "# )\n",
    "\n",
    "# version = \"epoch_1\"\n",
    "# # version = \"final_model\"\n",
    "\n",
    "# checkpoint_path = os.path.join(env_utils.DEFAULT_RESULTS_DIR, checkpoint_path, version)\n",
    "\n",
    "# print(os.listdir(checkpoint_path))\n",
    "\n",
    "# checkpoint_path = os.path.join(checkpoint_path, \"trainable_params.pt\")\n",
    "\n",
    "# loaded_deltas = torch.load(checkpoint_path, map_location=\"cpu\")\n",
    "# # loaded_deltas\n",
    "\n",
    "# free_gpu_cache()\n",
    "\n",
    "\n",
    "# d = loaded_deltas[\"model<>layers<>5<>mlp<>gate_proj\"]\n",
    "# d.abs().max()"
   ]
  },
  {
   "cell_type": "code",
   "execution_count": 7,
   "id": "4ec24d05",
   "metadata": {},
   "outputs": [],
   "source": [
    "# from src.utils.training_utils import TrainableLM_delta, TrainableLM_LoRA\n",
    "\n",
    "# #################################################\n",
    "# Trainable_CLS = TrainableLM_delta\n",
    "# # Trainable_CLS = TrainableLM_LoRA\n",
    "# #################################################\n",
    "\n",
    "# Trainable_CLS.fuse_with_model(mt._model, loaded_deltas)"
   ]
  },
  {
   "cell_type": "code",
   "execution_count": 8,
   "id": "6d20ced5",
   "metadata": {},
   "outputs": [],
   "source": [
    "###############################################################################\n",
    "# LAYERS = [35, 47, 52]\n",
    "# HEADS = [\n",
    "#     (33, 45),\n",
    "#     (33, 18),\n",
    "#     (34, 1),\n",
    "#     (34, 6),\n",
    "#     (34, 7),\n",
    "#     (35, 19),\n",
    "#     (39, 40),\n",
    "#     (42, 30),\n",
    "#     (47, 18),\n",
    "#     (52, 58),\n",
    "# ]\n",
    "\n",
    "LAYERS = [54, 60, 67]\n",
    "HEADS = [\n",
    "    (54, 44),\n",
    "    (54, 63),\n",
    "    (55, 43),\n",
    "    (55, 29),\n",
    "    (60, 9),\n",
    "    (60, 25),\n",
    "    (60, 42),\n",
    "    (67, 51)\n",
    "]\n",
    "###############################################################################"
   ]
  },
  {
   "cell_type": "code",
   "execution_count": 9,
   "id": "44b9d51b",
   "metadata": {},
   "outputs": [
    {
     "name": "stdout",
     "output_type": "stream",
     "text": [
      "2025-07-30 17:39:38 src.selection.data INFO     Loaded 16 categories\n"
     ]
    },
    {
     "data": {
      "text/plain": [
       "['actor',\n",
       " 'singer',\n",
       " 'comedian',\n",
       " 'director',\n",
       " 'basketball player',\n",
       " 'football player',\n",
       " 'soccer player',\n",
       " 'tennis player',\n",
       " 'golfer',\n",
       " 'boxer',\n",
       " 'news anchor',\n",
       " 'journalist',\n",
       " 'author',\n",
       " 'fashion designer',\n",
       " 'entrepreneur',\n",
       " 'politician']"
      ]
     },
     "execution_count": 9,
     "metadata": {},
     "output_type": "execute_result"
    }
   ],
   "source": [
    "from src.selection.data  import load_people_by_category\n",
    "\n",
    "people_by_category = load_people_by_category(tokenizer = mt.tokenizer)\n",
    "list(people_by_category.keys())"
   ]
  },
  {
   "cell_type": "code",
   "execution_count": 28,
   "id": "1f849c4e",
   "metadata": {},
   "outputs": [
    {
     "name": "stdout",
     "output_type": "stream",
     "text": [
      "Which person from the following list has their occupation in common with Ryan Reynolds?\n",
      "Options: Jordan Peele, Leonardo DiCaprio, Christian McCaffrey, Harry Kane, Bill O'Reilly, Rory McIlroy.\n",
      "Ans: >> Leonardo DiCaprio\n"
     ]
    }
   ],
   "source": [
    "from src.selection.data import get_random_sample\n",
    "\n",
    "sample = get_random_sample(\n",
    "    people_by_category=people_by_category,\n",
    "    mt=mt,\n",
    "    attribute=\"actor\",\n",
    "    n_distractors=5\n",
    ")\n",
    "print(sample.prompt, \">>\", sample.obj)"
   ]
  },
  {
   "cell_type": "code",
   "execution_count": 29,
   "id": "1ad8689e",
   "metadata": {},
   "outputs": [
    {
     "name": "stdout",
     "output_type": "stream",
     "text": [
      "Jordan Peele, Leonardo DiCaprio, Christian McCaffrey, Harry Kane, Bill O'Reilly, Rory McIlroy\n",
      "Who among these people mentioned above is by profession a actor?\n",
      "Answer:  >> \n",
      " Jordan Peele and Leonardo DiCaprio are both actors. However, Jordan Peele is also known\n"
     ]
    },
    {
     "data": {
      "text/plain": [
       "[[PredictedToken(token=' Jordan', prob=0.578125, logit=25.625, token_id=17089, metadata=None),\n",
       "  PredictedToken(token=' Among', prob=0.212890625, logit=24.625, token_id=21658, metadata=None),\n",
       "  PredictedToken(token=' The', prob=0.12890625, logit=24.125, token_id=576, metadata=None),\n",
       "  PredictedToken(token=' Leonardo', prob=0.0224609375, logit=22.375, token_id=65386, metadata=None),\n",
       "  PredictedToken(token=' \\n\\n', prob=0.019775390625, logit=22.25, token_id=4710, metadata=None)]]"
      ]
     },
     "execution_count": 29,
     "metadata": {},
     "output_type": "execute_result"
    }
   ],
   "source": [
    "from src.functional import generate_with_patch, predict_next_token\n",
    "\n",
    "# prompt_template = \"\"\"Which of these peoples is by profession a {}?\n",
    "# options: {}\n",
    "# Answer:\"\"\"\n",
    "# prompt = prompt_template.format(\n",
    "#     sample.metadata[\"attribute\"],\n",
    "#     \", \".join(sample.options)\n",
    "# )\n",
    "\n",
    "prompt_template = \"\"\"{}\n",
    "Who among these people mentioned above is by profession a {}?\n",
    "Answer:\"\"\"\n",
    "prompt = prompt_template.format(\n",
    "    \", \".join(sample.options),\n",
    "    sample.metadata[\"attribute\"]\n",
    ")\n",
    "\n",
    "# prompt = sample.prompt\n",
    "\n",
    "print(prompt, \" >> \")\n",
    "\n",
    "gen = generate_with_patch(\n",
    "    mt=mt,\n",
    "    inputs=prompt,\n",
    "    n_gen_per_prompt=1,\n",
    "    max_new_tokens=20,\n",
    "    remove_prefix=True,\n",
    ")[0]\n",
    "print(gen)\n",
    "\n",
    "predict_next_token(\n",
    "    mt = mt,\n",
    "    inputs=prompt,\n",
    ")"
   ]
  },
  {
   "cell_type": "code",
   "execution_count": null,
   "id": "fda47f59",
   "metadata": {},
   "outputs": [
    {
     "name": "stdout",
     "output_type": "stream",
     "text": [
      "layer=54\n"
     ]
    },
    {
     "data": {
      "text/html": [
       "<div id=\"circuits-vis-22c3fa33-100e\" style=\"margin: 15px 0;\"/>\n",
       "    <script crossorigin type=\"module\">\n",
       "    import { render, ColoredTokens } from \"https://unpkg.com/circuitsvis@1.43.3/dist/cdn/esm.js\";\n",
       "    render(\n",
       "      \"circuits-vis-22c3fa33-100e\",\n",
       "      ColoredTokens,\n",
       "      {\"tokens\": [\" Jordan\", \" Pee\", \"le\", \",\", \" Leonardo\", \" Di\", \"Cap\", \"rio\", \",\", \" Christian\", \" McC\", \"aff\", \"rey\", \",\", \" Harry\", \" Kane\", \",\", \" Bill\", \" O\", \"'Re\", \"illy\", \",\", \" Rory\", \" Mc\", \"Il\", \"roy\", \"\\n\", \"Who\", \" among\", \" these\", \" people\", \" mentioned\", \" above\", \" is\", \" by\", \" profession\", \" a\", \" actor\", \"?\\n\", \"Answer\", \":\"], \"values\": [0.018204793334007263, 0.00937267392873764, 0.008949697017669678, 0.009443864226341248, 0.008298140950500965, 0.005286297760903835, 0.005260167643427849, 0.005494159180670977, 0.0046242885291576385, 0.003750818781554699, 0.002553781494498253, 0.00112525571603328, 0.004129747394472361, 0.008540607988834381, 0.0028269998729228973, 0.002889184281229973, 0.0065684691071510315, 0.002357061021029949, 0.0013668406754732132, 0.0016095926985144615, 0.00499894842505455, 0.003686778247356415, 0.001996566541492939, 0.0004445367958396673, 0.00045875401701778173, 0.0021379003301262856, 0.02715526521205902, 0.0275845006108284, 0.00664462149143219, 0.015221461653709412, 0.005732227116823196, 0.007250964175909758, 0.008252501487731934, 0.006404619663953781, 0.006262987852096558, 0.0130147784948349, 0.007895231246948242, 0.04162466526031494, 0.03466835618019104, 0.0395251028239727, 0.04582029581069946]}\n",
       "    )\n",
       "    </script>"
      ],
      "text/plain": [
       "<circuitsvis.utils.render.RenderedHTML at 0x7fbe781f70d0>"
      ]
     },
     "metadata": {},
     "output_type": "display_data"
    },
    {
     "name": "stdout",
     "output_type": "stream",
     "text": [
      "--------------------------------------------------------------------------------\n",
      "layer=60\n"
     ]
    },
    {
     "data": {
      "text/html": [
       "<div id=\"circuits-vis-7654ff23-6a1f\" style=\"margin: 15px 0;\"/>\n",
       "    <script crossorigin type=\"module\">\n",
       "    import { render, ColoredTokens } from \"https://unpkg.com/circuitsvis@1.43.3/dist/cdn/esm.js\";\n",
       "    render(\n",
       "      \"circuits-vis-7654ff23-6a1f\",\n",
       "      ColoredTokens,\n",
       "      {\"tokens\": [\" Jordan\", \" Pee\", \"le\", \",\", \" Leonardo\", \" Di\", \"Cap\", \"rio\", \",\", \" Christian\", \" McC\", \"aff\", \"rey\", \",\", \" Harry\", \" Kane\", \",\", \" Bill\", \" O\", \"'Re\", \"illy\", \",\", \" Rory\", \" Mc\", \"Il\", \"roy\", \"\\n\", \"Who\", \" among\", \" these\", \" people\", \" mentioned\", \" above\", \" is\", \" by\", \" profession\", \" a\", \" actor\", \"?\\n\", \"Answer\", \":\"], \"values\": [0.005022011697292328, 0.01384948194026947, 0.01728147640824318, 0.006628226488828659, 0.011455176398158073, 0.016083141788840294, 0.022062761709094048, 0.013483882881700993, 0.011276055127382278, 0.003062401432543993, 0.002467902610078454, 0.0008469833410345018, 0.0028567668050527573, 0.014879639260470867, 0.0010691285133361816, 0.002731301821768284, 0.007766024209558964, 0.0022263326682150364, 0.0019213437335565686, 0.0018534793052822351, 0.007331089116632938, 0.005494734272360802, 0.0011967773316428065, 0.0004987243446521461, 0.0005112239741720259, 0.0035343593917787075, 0.019992120563983917, 0.010103339329361916, 0.019397273659706116, 0.027128759771585464, 0.012230806052684784, 0.011004103347659111, 0.011354604735970497, 0.018855657428503036, 0.007488664239645004, 0.021618157625198364, 0.00952940434217453, 0.10139548778533936, 0.088920958340168, 0.024896293878555298, 0.05967321991920471]}\n",
       "    )\n",
       "    </script>"
      ],
      "text/plain": [
       "<circuitsvis.utils.render.RenderedHTML at 0x7fbe78192290>"
      ]
     },
     "metadata": {},
     "output_type": "display_data"
    },
    {
     "name": "stdout",
     "output_type": "stream",
     "text": [
      "--------------------------------------------------------------------------------\n",
      "layer=67\n"
     ]
    },
    {
     "data": {
      "text/html": [
       "<div id=\"circuits-vis-9c98d8d5-da10\" style=\"margin: 15px 0;\"/>\n",
       "    <script crossorigin type=\"module\">\n",
       "    import { render, ColoredTokens } from \"https://unpkg.com/circuitsvis@1.43.3/dist/cdn/esm.js\";\n",
       "    render(\n",
       "      \"circuits-vis-9c98d8d5-da10\",\n",
       "      ColoredTokens,\n",
       "      {\"tokens\": [\" Jordan\", \" Pee\", \"le\", \",\", \" Leonardo\", \" Di\", \"Cap\", \"rio\", \",\", \" Christian\", \" McC\", \"aff\", \"rey\", \",\", \" Harry\", \" Kane\", \",\", \" Bill\", \" O\", \"'Re\", \"illy\", \",\", \" Rory\", \" Mc\", \"Il\", \"roy\", \"\\n\", \"Who\", \" among\", \" these\", \" people\", \" mentioned\", \" above\", \" is\", \" by\", \" profession\", \" a\", \" actor\", \"?\\n\", \"Answer\", \":\"], \"values\": [0.009438883513212204, 0.03228287398815155, 0.009828861802816391, 0.010392338037490845, 0.005406203679740429, 0.004261349327862263, 0.0014578578993678093, 0.005292195361107588, 0.002683814615011215, 0.001090310513973236, 0.0010326933115720749, 0.00021059674327261746, 0.0010909037664532661, 0.002087324857711792, 0.0009332685731351376, 0.0005756350583396852, 0.001641392707824707, 0.001676063984632492, 0.0008230088278651237, 0.0005643408512696624, 0.0011842043604701757, 0.0018143989145755768, 0.0005752718425355852, 0.0002970626810565591, 0.00017563514120411128, 0.000540966575499624, 0.010879911482334137, 0.008780714124441147, 0.014330506324768066, 0.007196035236120224, 0.008210684172809124, 0.012332592159509659, 0.006596215069293976, 0.004640664905309677, 0.007411524653434753, 0.028217777609825134, 0.004500951152294874, 0.041083693504333496, 0.025031685829162598, 0.05802752822637558, 0.030806422233581543]}\n",
       "    )\n",
       "    </script>"
      ],
      "text/plain": [
       "<circuitsvis.utils.render.RenderedHTML at 0x7fbf420ec5d0>"
      ]
     },
     "metadata": {},
     "output_type": "display_data"
    },
    {
     "name": "stdout",
     "output_type": "stream",
     "text": [
      "--------------------------------------------------------------------------------\n"
     ]
    },
    {
     "data": {
      "text/plain": [
       "[PredictedToken(token=' Jordan', prob=0.51953125, logit=21.5, token_id=17089, metadata=None),\n",
       " PredictedToken(token=' Among', prob=0.19140625, logit=20.5, token_id=21658, metadata=None),\n",
       " PredictedToken(token=' The', prob=0.19140625, logit=20.5, token_id=576, metadata=None),\n",
       " PredictedToken(token=' Leonardo', prob=0.0260009765625, logit=18.5, token_id=65386, metadata=None),\n",
       " PredictedToken(token=' \\n', prob=0.020263671875, logit=18.25, token_id=715, metadata=None)]"
      ]
     },
     "execution_count": 30,
     "metadata": {},
     "output_type": "execute_result"
    }
   ],
   "source": [
    "from src.attention import get_attention_matrices, visualize_average_attn_matrix\n",
    "from src.functional import interpret_logits\n",
    "from src.tokens import prepare_input\n",
    "\n",
    "tokenized = prepare_input(\n",
    "    tokenizer=mt,\n",
    "    prompts=prompt,\n",
    "    add_bos_token=\"qwen\" in mt.name.lower()\n",
    ")\n",
    "\n",
    "attn_matrices = get_attention_matrices(\n",
    "    input=tokenized,\n",
    "    mt=mt,\n",
    "    value_weighted=False,\n",
    "    # patches = []\n",
    ")\n",
    "\n",
    "visualize_average_attn_matrix(\n",
    "    mt=mt,\n",
    "    attn_matrices=attn_matrices,\n",
    "    prompt=prompt,\n",
    "    tokenized=tokenized,\n",
    "    layer_window=LAYERS,\n",
    ")\n",
    "\n",
    "interpret_logits(tokenizer=mt, logits=attn_matrices.logits)"
   ]
  },
  {
   "cell_type": "code",
   "execution_count": 31,
   "id": "c346cce7",
   "metadata": {},
   "outputs": [],
   "source": [
    "from src.attention import visualize_attn_matrix\n",
    "\n",
    "###############################################################\n",
    "N_KV_GROUPS = 1  # individual heads\n",
    "# N_KV_GROUPS = mt.config.num_key_value_heads  # grouped heads\n",
    "N_HEADS = mt.config.num_attention_heads\n",
    "LAYER_RANGE = range(mt.n_layer)\n",
    "###############################################################\n",
    "\n",
    "group_id_to_head_indices = {\n",
    "    i: [i * N_KV_GROUPS + j for j in range(N_KV_GROUPS)]\n",
    "    for i in range(N_HEADS // N_KV_GROUPS)\n",
    "}"
   ]
  },
  {
   "cell_type": "code",
   "execution_count": 32,
   "id": "33c72d1f",
   "metadata": {},
   "outputs": [
    {
     "name": "stdout",
     "output_type": "stream",
     "text": [
      "Layer: 54, Head: 44\n"
     ]
    },
    {
     "data": {
      "text/html": [
       "<div id=\"circuits-vis-6f12223a-2ae5\" style=\"margin: 15px 0;\"/>\n",
       "    <script crossorigin type=\"module\">\n",
       "    import { render, ColoredTokens } from \"https://unpkg.com/circuitsvis@1.43.3/dist/cdn/esm.js\";\n",
       "    render(\n",
       "      \"circuits-vis-6f12223a-2ae5\",\n",
       "      ColoredTokens,\n",
       "      {\"tokens\": [\" Jordan\", \" Pee\", \"le\", \",\", \" Leonardo\", \" Di\", \"Cap\", \"rio\", \",\", \" Christian\", \" McC\", \"aff\", \"rey\", \",\", \" Harry\", \" Kane\", \",\", \" Bill\", \" O\", \"'Re\", \"illy\", \",\", \" Rory\", \" Mc\", \"Il\", \"roy\", \"\\n\", \"Who\", \" among\", \" these\", \" people\", \" mentioned\", \" above\", \" is\", \" by\", \" profession\", \" a\", \" actor\", \"?\\n\", \"Answer\", \":\"], \"values\": [0.0037994384765625, 0.19140625, 0.1513671875, 0.009521484375, 0.031494140625, 0.058837890625, 0.037353515625, 0.05078125, 0.009765625, 0.006561279296875, 0.00537109375, 0.0001468658447265625, 0.00028228759765625, 0.00872802734375, 0.0027008056640625, 0.0001468658447265625, 0.00057220458984375, 0.011474609375, 0.007232666015625, 0.01165771484375, 0.08740234375, 0.00921630859375, 0.000545501708984375, 3.838539123535156e-05, 1.2814998626708984e-05, 0.0002613067626953125, 0.0019989013671875, 0.000133514404296875, 0.0001468658447265625, 0.003387451171875, 0.001068115234375, 0.00051116943359375, 0.0003204345703125, 0.0003299713134765625, 0.000537872314453125, 0.000804901123046875, 0.00174713134765625, 0.076171875, 0.00848388671875, 3.719329833984375e-05, 0.00469970703125]}\n",
       "    )\n",
       "    </script>"
      ],
      "text/plain": [
       "<circuitsvis.utils.render.RenderedHTML at 0x7fbe78193310>"
      ]
     },
     "metadata": {},
     "output_type": "display_data"
    },
    {
     "name": "stdout",
     "output_type": "stream",
     "text": [
      "Layer: 54, Head: 63\n"
     ]
    },
    {
     "data": {
      "text/html": [
       "<div id=\"circuits-vis-7c10eed2-3868\" style=\"margin: 15px 0;\"/>\n",
       "    <script crossorigin type=\"module\">\n",
       "    import { render, ColoredTokens } from \"https://unpkg.com/circuitsvis@1.43.3/dist/cdn/esm.js\";\n",
       "    render(\n",
       "      \"circuits-vis-7c10eed2-3868\",\n",
       "      ColoredTokens,\n",
       "      {\"tokens\": [\" Jordan\", \" Pee\", \"le\", \",\", \" Leonardo\", \" Di\", \"Cap\", \"rio\", \",\", \" Christian\", \" McC\", \"aff\", \"rey\", \",\", \" Harry\", \" Kane\", \",\", \" Bill\", \" O\", \"'Re\", \"illy\", \",\", \" Rory\", \" Mc\", \"Il\", \"roy\", \"\\n\", \"Who\", \" among\", \" these\", \" people\", \" mentioned\", \" above\", \" is\", \" by\", \" profession\", \" a\", \" actor\", \"?\\n\", \"Answer\", \":\"], \"values\": [0.002838134765625, 0.01123046875, 0.03466796875, 0.0107421875, 0.009033203125, 0.01422119140625, 0.01336669921875, 0.0146484375, 0.00555419921875, 0.012939453125, 0.0047607421875, 0.00136566162109375, 0.00592041015625, 0.0107421875, 0.00311279296875, 0.0030670166015625, 0.00933837890625, 0.005645751953125, 0.00136566162109375, 0.0107421875, 0.0174560546875, 0.012939453125, 0.00787353515625, 0.0012054443359375, 0.00080108642578125, 0.0098876953125, 0.0230712890625, 0.0242919921875, 0.01177978515625, 0.10498046875, 0.009033203125, 0.003875732421875, 0.01336669921875, 0.036865234375, 0.011962890625, 0.01611328125, 0.045166015625, 0.046875, 0.0341796875, 0.0032196044921875, 0.049072265625]}\n",
       "    )\n",
       "    </script>"
      ],
      "text/plain": [
       "<circuitsvis.utils.render.RenderedHTML at 0x7fbe781acd50>"
      ]
     },
     "metadata": {},
     "output_type": "display_data"
    },
    {
     "name": "stdout",
     "output_type": "stream",
     "text": [
      "Layer: 55, Head: 43\n"
     ]
    },
    {
     "data": {
      "text/html": [
       "<div id=\"circuits-vis-0c1380ca-c671\" style=\"margin: 15px 0;\"/>\n",
       "    <script crossorigin type=\"module\">\n",
       "    import { render, ColoredTokens } from \"https://unpkg.com/circuitsvis@1.43.3/dist/cdn/esm.js\";\n",
       "    render(\n",
       "      \"circuits-vis-0c1380ca-c671\",\n",
       "      ColoredTokens,\n",
       "      {\"tokens\": [\" Jordan\", \" Pee\", \"le\", \",\", \" Leonardo\", \" Di\", \"Cap\", \"rio\", \",\", \" Christian\", \" McC\", \"aff\", \"rey\", \",\", \" Harry\", \" Kane\", \",\", \" Bill\", \" O\", \"'Re\", \"illy\", \",\", \" Rory\", \" Mc\", \"Il\", \"roy\", \"\\n\", \"Who\", \" among\", \" these\", \" people\", \" mentioned\", \" above\", \" is\", \" by\", \" profession\", \" a\", \" actor\", \"?\\n\", \"Answer\", \":\"], \"values\": [0.004180908203125, 0.06396484375, 0.025390625, 0.003997802734375, 0.03369140625, 0.2099609375, 0.0380859375, 0.0260009765625, 0.01007080078125, 0.00897216796875, 0.00125885009765625, 0.00110626220703125, 0.005279541015625, 0.025390625, 0.0028839111328125, 0.0012359619140625, 0.0120849609375, 0.005035400390625, 0.019775390625, 0.00119781494140625, 0.003875732421875, 0.004669189453125, 0.00106048583984375, 0.000583648681640625, 0.00017261505126953125, 0.0028839111328125, 0.004669189453125, 0.003997802734375, 0.0029754638671875, 0.03857421875, 0.00946044921875, 0.003021240234375, 0.00341796875, 0.0027923583984375, 0.00250244140625, 0.0133056640625, 0.0078125, 0.1611328125, 0.041015625, 0.000919342041015625, 0.00274658203125]}\n",
       "    )\n",
       "    </script>"
      ],
      "text/plain": [
       "<circuitsvis.utils.render.RenderedHTML at 0x7fbe781aead0>"
      ]
     },
     "metadata": {},
     "output_type": "display_data"
    },
    {
     "name": "stdout",
     "output_type": "stream",
     "text": [
      "Layer: 55, Head: 29\n"
     ]
    },
    {
     "data": {
      "text/html": [
       "<div id=\"circuits-vis-1bdeef09-b183\" style=\"margin: 15px 0;\"/>\n",
       "    <script crossorigin type=\"module\">\n",
       "    import { render, ColoredTokens } from \"https://unpkg.com/circuitsvis@1.43.3/dist/cdn/esm.js\";\n",
       "    render(\n",
       "      \"circuits-vis-1bdeef09-b183\",\n",
       "      ColoredTokens,\n",
       "      {\"tokens\": [\" Jordan\", \" Pee\", \"le\", \",\", \" Leonardo\", \" Di\", \"Cap\", \"rio\", \",\", \" Christian\", \" McC\", \"aff\", \"rey\", \",\", \" Harry\", \" Kane\", \",\", \" Bill\", \" O\", \"'Re\", \"illy\", \",\", \" Rory\", \" Mc\", \"Il\", \"roy\", \"\\n\", \"Who\", \" among\", \" these\", \" people\", \" mentioned\", \" above\", \" is\", \" by\", \" profession\", \" a\", \" actor\", \"?\\n\", \"Answer\", \":\"], \"values\": [0.00299072265625, 0.0030517578125, 0.007781982421875, 0.000347137451171875, 0.12158203125, 0.1943359375, 0.1943359375, 0.0693359375, 0.0201416015625, 0.042724609375, 0.005157470703125, 0.00634765625, 0.047607421875, 0.11962890625, 0.02392578125, 0.0034332275390625, 0.0166015625, 0.01397705078125, 0.007537841796875, 0.0019073486328125, 0.004364013671875, 0.00921630859375, 0.00116729736328125, 0.00021076202392578125, 5.745887756347656e-05, 0.000713348388671875, 0.001312255859375, 0.00104522705078125, 0.000942230224609375, 0.00701904296875, 0.001556396484375, 0.000164031982421875, 0.00016880035400390625, 0.001556396484375, 0.001129150390625, 0.0016326904296875, 0.0019378662109375, 0.01416015625, 0.0026092529296875, 6.723403930664062e-05, 0.00128936767578125]}\n",
       "    )\n",
       "    </script>"
      ],
      "text/plain": [
       "<circuitsvis.utils.render.RenderedHTML at 0x7fbe780cbb50>"
      ]
     },
     "metadata": {},
     "output_type": "display_data"
    },
    {
     "name": "stdout",
     "output_type": "stream",
     "text": [
      "Layer: 60, Head: 9\n"
     ]
    },
    {
     "data": {
      "text/html": [
       "<div id=\"circuits-vis-39873e6c-20c8\" style=\"margin: 15px 0;\"/>\n",
       "    <script crossorigin type=\"module\">\n",
       "    import { render, ColoredTokens } from \"https://unpkg.com/circuitsvis@1.43.3/dist/cdn/esm.js\";\n",
       "    render(\n",
       "      \"circuits-vis-39873e6c-20c8\",\n",
       "      ColoredTokens,\n",
       "      {\"tokens\": [\" Jordan\", \" Pee\", \"le\", \",\", \" Leonardo\", \" Di\", \"Cap\", \"rio\", \",\", \" Christian\", \" McC\", \"aff\", \"rey\", \",\", \" Harry\", \" Kane\", \",\", \" Bill\", \" O\", \"'Re\", \"illy\", \",\", \" Rory\", \" Mc\", \"Il\", \"roy\", \"\\n\", \"Who\", \" among\", \" these\", \" people\", \" mentioned\", \" above\", \" is\", \" by\", \" profession\", \" a\", \" actor\", \"?\\n\", \"Answer\", \":\"], \"values\": [0.0011749267578125, 0.1044921875, 0.111328125, 0.00732421875, 0.1181640625, 0.18359375, 0.25, 0.08154296875, 0.0361328125, 0.0006103515625, 0.00015354156494140625, 3.4332275390625e-05, 0.00023937225341796875, 0.0263671875, 2.574920654296875e-05, 6.67572021484375e-05, 0.00042724609375, 0.000476837158203125, 0.002166748046875, 0.00885009765625, 0.03955078125, 0.008544921875, 9.655952453613281e-06, 2.2351741790771484e-06, 5.736947059631348e-07, 4.00543212890625e-05, 0.0001430511474609375, 0.000118255615234375, 0.0001697540283203125, 0.00011491775512695312, 5.888938903808594e-05, 1.9073486328125e-05, 1.2040138244628906e-05, 0.0001697540283203125, 4.267692565917969e-05, 5.245208740234375e-05, 0.0001239776611328125, 0.004180908203125, 0.002105712890625, 0.00185394287109375, 0.0016326904296875]}\n",
       "    )\n",
       "    </script>"
      ],
      "text/plain": [
       "<circuitsvis.utils.render.RenderedHTML at 0x7fbe781ada90>"
      ]
     },
     "metadata": {},
     "output_type": "display_data"
    },
    {
     "name": "stdout",
     "output_type": "stream",
     "text": [
      "Layer: 60, Head: 25\n"
     ]
    },
    {
     "data": {
      "text/html": [
       "<div id=\"circuits-vis-a7c5622d-2e54\" style=\"margin: 15px 0;\"/>\n",
       "    <script crossorigin type=\"module\">\n",
       "    import { render, ColoredTokens } from \"https://unpkg.com/circuitsvis@1.43.3/dist/cdn/esm.js\";\n",
       "    render(\n",
       "      \"circuits-vis-a7c5622d-2e54\",\n",
       "      ColoredTokens,\n",
       "      {\"tokens\": [\" Jordan\", \" Pee\", \"le\", \",\", \" Leonardo\", \" Di\", \"Cap\", \"rio\", \",\", \" Christian\", \" McC\", \"aff\", \"rey\", \",\", \" Harry\", \" Kane\", \",\", \" Bill\", \" O\", \"'Re\", \"illy\", \",\", \" Rory\", \" Mc\", \"Il\", \"roy\", \"\\n\", \"Who\", \" among\", \" these\", \" people\", \" mentioned\", \" above\", \" is\", \" by\", \" profession\", \" a\", \" actor\", \"?\\n\", \"Answer\", \":\"], \"values\": [0.0103759765625, 0.16796875, 0.16796875, 0.05615234375, 0.0223388671875, 0.036376953125, 0.208984375, 0.06982421875, 0.06787109375, 0.0004367828369140625, 0.0003662109375, 0.00023174285888671875, 0.0004024505615234375, 0.0203857421875, 8.296966552734375e-05, 6.079673767089844e-05, 0.00041961669921875, 0.00014400482177734375, 0.00012874603271484375, 0.0002994537353515625, 0.0003833770751953125, 0.0004482269287109375, 1.4662742614746094e-05, 1.9222497940063477e-06, 1.1222437024116516e-07, 2.658367156982422e-05, 0.0036773681640625, 0.00118255615234375, 0.0045166015625, 0.0023956298828125, 0.001251220703125, 7.2479248046875e-05, 0.00019359588623046875, 0.002410888671875, 0.00069427490234375, 0.00022983551025390625, 0.000301361083984375, 0.01708984375, 0.002777099609375, 0.0029754638671875, 0.0791015625]}\n",
       "    )\n",
       "    </script>"
      ],
      "text/plain": [
       "<circuitsvis.utils.render.RenderedHTML at 0x7fbe781c57d0>"
      ]
     },
     "metadata": {},
     "output_type": "display_data"
    },
    {
     "name": "stdout",
     "output_type": "stream",
     "text": [
      "Layer: 60, Head: 42\n"
     ]
    },
    {
     "data": {
      "text/html": [
       "<div id=\"circuits-vis-99204875-dffb\" style=\"margin: 15px 0;\"/>\n",
       "    <script crossorigin type=\"module\">\n",
       "    import { render, ColoredTokens } from \"https://unpkg.com/circuitsvis@1.43.3/dist/cdn/esm.js\";\n",
       "    render(\n",
       "      \"circuits-vis-99204875-dffb\",\n",
       "      ColoredTokens,\n",
       "      {\"tokens\": [\" Jordan\", \" Pee\", \"le\", \",\", \" Leonardo\", \" Di\", \"Cap\", \"rio\", \",\", \" Christian\", \" McC\", \"aff\", \"rey\", \",\", \" Harry\", \" Kane\", \",\", \" Bill\", \" O\", \"'Re\", \"illy\", \",\", \" Rory\", \" Mc\", \"Il\", \"roy\", \"\\n\", \"Who\", \" among\", \" these\", \" people\", \" mentioned\", \" above\", \" is\", \" by\", \" profession\", \" a\", \" actor\", \"?\\n\", \"Answer\", \":\"], \"values\": [0.002410888671875, 0.0255126953125, 0.0244140625, 0.01806640625, 0.034423828125, 0.16015625, 0.048095703125, 0.0164794921875, 0.036376953125, 0.00191497802734375, 0.000148773193359375, 5.817413330078125e-05, 0.00016307830810546875, 0.01116943359375, 0.00011587142944335938, 9.918212890625e-05, 0.00058746337890625, 0.00019741058349609375, 0.000179290771484375, 0.0001316070556640625, 0.00030517578125, 0.00070953369140625, 1.1444091796875e-05, 2.637505531311035e-06, 1.601874828338623e-06, 1.9550323486328125e-05, 0.0017852783203125, 0.0016326904296875, 0.042236328125, 0.005279541015625, 0.00604248046875, 0.0017547607421875, 0.0017547607421875, 0.00958251953125, 0.000896453857421875, 0.015869140625, 0.00494384765625, 0.314453125, 0.08740234375, 0.00168609619140625, 0.07470703125]}\n",
       "    )\n",
       "    </script>"
      ],
      "text/plain": [
       "<circuitsvis.utils.render.RenderedHTML at 0x7fbe781a8a50>"
      ]
     },
     "metadata": {},
     "output_type": "display_data"
    },
    {
     "name": "stdout",
     "output_type": "stream",
     "text": [
      "Layer: 67, Head: 51\n"
     ]
    },
    {
     "data": {
      "text/html": [
       "<div id=\"circuits-vis-6abe089b-b56a\" style=\"margin: 15px 0;\"/>\n",
       "    <script crossorigin type=\"module\">\n",
       "    import { render, ColoredTokens } from \"https://unpkg.com/circuitsvis@1.43.3/dist/cdn/esm.js\";\n",
       "    render(\n",
       "      \"circuits-vis-6abe089b-b56a\",\n",
       "      ColoredTokens,\n",
       "      {\"tokens\": [\" Jordan\", \" Pee\", \"le\", \",\", \" Leonardo\", \" Di\", \"Cap\", \"rio\", \",\", \" Christian\", \" McC\", \"aff\", \"rey\", \",\", \" Harry\", \" Kane\", \",\", \" Bill\", \" O\", \"'Re\", \"illy\", \",\", \" Rory\", \" Mc\", \"Il\", \"roy\", \"\\n\", \"Who\", \" among\", \" these\", \" people\", \" mentioned\", \" above\", \" is\", \" by\", \" profession\", \" a\", \" actor\", \"?\\n\", \"Answer\", \":\"], \"values\": [0.0130615234375, 0.65234375, 0.140625, 0.00927734375, 0.060546875, 0.0390625, 0.0026092529296875, 0.04296875, 0.000919342041015625, 0.0001506805419921875, 7.104873657226562e-05, 1.9818544387817383e-06, 1.0073184967041016e-05, 0.0002613067626953125, 0.0001239776611328125, 1.3232231140136719e-05, 4.2438507080078125e-05, 0.0002727508544921875, 0.000736236572265625, 7.915496826171875e-05, 0.00048065185546875, 0.000316619873046875, 1.8477439880371094e-05, 5.364418029785156e-06, 2.5029294192790985e-09, 8.642673492431641e-07, 0.000522613525390625, 0.0001983642578125, 0.000888824462890625, 0.000263214111328125, 9.775161743164062e-05, 0.000888824462890625, 0.0003223419189453125, 0.000225067138671875, 0.00107574462890625, 0.000392913818359375, 3.2901763916015625e-05, 0.004241943359375, 0.0074462890625, 9.202957153320312e-05, 0.020263671875]}\n",
       "    )\n",
       "    </script>"
      ],
      "text/plain": [
       "<circuitsvis.utils.render.RenderedHTML at 0x7fc16813ce10>"
      ]
     },
     "metadata": {},
     "output_type": "display_data"
    }
   ],
   "source": [
    "# for group_id in group_id_to_head_indices:\n",
    "for layer_idx, head_idx in HEADS:\n",
    "    print(\n",
    "        f\"Layer: {layer_idx}, Head: {head_idx}\"\n",
    "    )\n",
    "\n",
    "    head_matrix = torch.Tensor(attn_matrices.attention_matrices[layer_idx, head_idx]).squeeze()\n",
    "    visualize_attn_matrix(\n",
    "        attn_matrix=head_matrix,\n",
    "        tokens=[mt.tokenizer.decode(t) for t in tokenized.input_ids[0]],\n",
    "        q_index=-1,\n",
    "        start_from=1\n",
    "    )"
   ]
  },
  {
   "cell_type": "markdown",
   "id": "a6519ed6",
   "metadata": {},
   "source": [
    "### Different Attribute"
   ]
  },
  {
   "cell_type": "code",
   "execution_count": 33,
   "id": "7863a3af",
   "metadata": {},
   "outputs": [
    {
     "name": "stdout",
     "output_type": "stream",
     "text": [
      "2025-07-30 17:45:50 src.selection.data INFO     Loaded 16 categories\n"
     ]
    },
    {
     "data": {
      "text/plain": [
       "['Switzerland',\n",
       " 'UAE',\n",
       " 'Singapore',\n",
       " 'Canada',\n",
       " 'Mexico',\n",
       " 'Brazil',\n",
       " 'India',\n",
       " 'Australia',\n",
       " 'Israel',\n",
       " 'South Africa',\n",
       " 'United Kingdom',\n",
       " 'Trinidad and Tobago',\n",
       " 'New Zealand',\n",
       " 'United States',\n",
       " 'Belgium',\n",
       " 'France']"
      ]
     },
     "execution_count": 33,
     "metadata": {},
     "output_type": "execute_result"
    }
   ],
   "source": [
    "from src.selection.data  import load_people_by_category\n",
    "\n",
    "people_by_nationality = load_people_by_category(\n",
    "    tokenizer = mt.tokenizer,\n",
    "    path = os.path.join(env_utils.DEFAULT_DATA_DIR, \"selection_real/nationality.json\")\n",
    ")\n",
    "list(people_by_nationality.keys())"
   ]
  },
  {
   "cell_type": "code",
   "execution_count": 34,
   "id": "f6de76cc",
   "metadata": {},
   "outputs": [
    {
     "name": "stdout",
     "output_type": "stream",
     "text": [
      "2025-07-30 17:45:51 src.selection.data ERROR    Sample = Kylie Minogue -> Steve Irwin (4): ['Habiba Al Marashi', 'Matthias Schoenaerts', 'Beyoncé', 'Victor Hugo', 'Steve Irwin', 'King Charles III']\n",
      "Top prediction \" To\"[2014] (p=0.555, logit=23.500) does not match the object Steve Irwin[13809, \" Steve\"].\n",
      "Retry count: 1. Retrying ...\n",
      "\n",
      "Which person from the following list has their nationality in common with Margot Robbie?\n",
      "Options: Rihanna, Mel Gibson, Karl Urban, Alanis Morissette, Mo Farah, Kit Chan.\n",
      "Ans: >> Mel Gibson\n"
     ]
    }
   ],
   "source": [
    "from src.selection.data import get_random_sample\n",
    "\n",
    "sample = get_random_sample(\n",
    "    people_by_category=people_by_nationality,\n",
    "    mt=mt,\n",
    "    category=\"nationality\",\n",
    "    attribute=\"Australia\",\n",
    "    n_distractors=5\n",
    ")\n",
    "print(sample.prompt, \">>\", sample.obj)"
   ]
  },
  {
   "cell_type": "code",
   "execution_count": 35,
   "id": "a8bae6d5",
   "metadata": {},
   "outputs": [
    {
     "name": "stdout",
     "output_type": "stream",
     "text": [
      "Rihanna, Mel Gibson, Karl Urban, Alanis Morissette, Mo Farah, Kit Chan\n",
      "Who among these people mentioned above is from Australia?\n",
      "Answer:  >> \n",
      " Among the people mentioned, Mel Gibson is from Australia. He was born in New York City but moved\n"
     ]
    },
    {
     "data": {
      "text/plain": [
       "[[PredictedToken(token=' Mel', prob=0.53515625, logit=23.375, token_id=10978, metadata=None),\n",
       "  PredictedToken(token=' Among', prob=0.41796875, logit=23.125, token_id=21658, metadata=None),\n",
       "  PredictedToken(token=' The', prob=0.020751953125, logit=20.125, token_id=576, metadata=None),\n",
       "  PredictedToken(token=' Of', prob=0.005950927734375, logit=18.875, token_id=4940, metadata=None),\n",
       "  PredictedToken(token=' None', prob=0.004638671875, logit=18.625, token_id=2240, metadata=None)]]"
      ]
     },
     "execution_count": 35,
     "metadata": {},
     "output_type": "execute_result"
    }
   ],
   "source": [
    "from src.functional import generate_with_patch, predict_next_token\n",
    "\n",
    "# prompt_template = \"\"\"Which of these peoples is by profession a {}?\n",
    "# options: {}\n",
    "# Answer:\"\"\"\n",
    "# prompt = prompt_template.format(\n",
    "#     sample.metadata[\"attribute\"],\n",
    "#     \", \".join(sample.options)\n",
    "# )\n",
    "\n",
    "prompt_template = \"\"\"{}\n",
    "Who among these people mentioned above is from {}?\n",
    "Answer:\"\"\"\n",
    "prompt = prompt_template.format(\n",
    "    \", \".join(sample.options),\n",
    "    sample.metadata[\"attribute\"]\n",
    ")\n",
    "\n",
    "print(prompt, \" >> \")\n",
    "\n",
    "gen = generate_with_patch(\n",
    "    mt=mt,\n",
    "    inputs=prompt,\n",
    "    n_gen_per_prompt=1,\n",
    "    max_new_tokens=20,\n",
    "    remove_prefix=True,\n",
    ")[0]\n",
    "print(gen)\n",
    "\n",
    "predict_next_token(\n",
    "    mt = mt,\n",
    "    inputs=prompt,\n",
    ")"
   ]
  },
  {
   "cell_type": "code",
   "execution_count": 36,
   "id": "2632192d",
   "metadata": {},
   "outputs": [
    {
     "name": "stdout",
     "output_type": "stream",
     "text": [
      "layer=54\n"
     ]
    },
    {
     "data": {
      "text/html": [
       "<div id=\"circuits-vis-44ada2de-f142\" style=\"margin: 15px 0;\"/>\n",
       "    <script crossorigin type=\"module\">\n",
       "    import { render, ColoredTokens } from \"https://unpkg.com/circuitsvis@1.43.3/dist/cdn/esm.js\";\n",
       "    render(\n",
       "      \"circuits-vis-44ada2de-f142\",\n",
       "      ColoredTokens,\n",
       "      {\"tokens\": [\"R\", \"ihanna\", \",\", \" Mel\", \" Gibson\", \",\", \" Karl\", \" Urban\", \",\", \" Alan\", \"is\", \" Mor\", \"isset\", \"te\", \",\", \" Mo\", \" Far\", \"ah\", \",\", \" Kit\", \" Chan\", \"\\n\", \"Who\", \" among\", \" these\", \" people\", \" mentioned\", \" above\", \" is\", \" from\", \" Australia\", \"?\\n\", \"Answer\", \":\"], \"values\": [0.6238250732421875, 0.007761545479297638, 0.005450911819934845, 0.004784794524312019, 0.015887120738625526, 0.0037631969898939133, 0.0025682151317596436, 0.005922343581914902, 0.006764836609363556, 0.0030827708542346954, 0.002506747841835022, 0.001559605821967125, 0.0019587241113185883, 0.006873171776533127, 0.009139392524957657, 0.0026358067989349365, 0.0014382568188011646, 0.005622988101094961, 0.0070208590477705, 0.002553339581936598, 0.009276362136006355, 0.025499172508716583, 0.019999131560325623, 0.006144221872091293, 0.014891639351844788, 0.006031990051269531, 0.00628131628036499, 0.00892071146517992, 0.00613972544670105, 0.013925820589065552, 0.04603704810142517, 0.05103839933872223, 0.028387349098920822, 0.03612476587295532]}\n",
       "    )\n",
       "    </script>"
      ],
      "text/plain": [
       "<circuitsvis.utils.render.RenderedHTML at 0x7fbe981d7390>"
      ]
     },
     "metadata": {},
     "output_type": "display_data"
    },
    {
     "name": "stdout",
     "output_type": "stream",
     "text": [
      "--------------------------------------------------------------------------------\n",
      "layer=60\n"
     ]
    },
    {
     "data": {
      "text/html": [
       "<div id=\"circuits-vis-30d279e9-df7f\" style=\"margin: 15px 0;\"/>\n",
       "    <script crossorigin type=\"module\">\n",
       "    import { render, ColoredTokens } from \"https://unpkg.com/circuitsvis@1.43.3/dist/cdn/esm.js\";\n",
       "    render(\n",
       "      \"circuits-vis-30d279e9-df7f\",\n",
       "      ColoredTokens,\n",
       "      {\"tokens\": [\"R\", \"ihanna\", \",\", \" Mel\", \" Gibson\", \",\", \" Karl\", \" Urban\", \",\", \" Alan\", \"is\", \" Mor\", \"isset\", \"te\", \",\", \" Mo\", \" Far\", \"ah\", \",\", \" Kit\", \" Chan\", \"\\n\", \"Who\", \" among\", \" these\", \" people\", \" mentioned\", \" above\", \" is\", \" from\", \" Australia\", \"?\\n\", \"Answer\", \":\"], \"values\": [0.3907279968261719, 0.0038232486695051193, 0.0034477179870009422, 0.0075930096209049225, 0.07195203751325607, 0.011311594396829605, 0.003538403194397688, 0.006275187246501446, 0.009131224825978279, 0.003584856167435646, 0.0025882567279040813, 0.003994300961494446, 0.002264077542349696, 0.009779958985745907, 0.019084585830569267, 0.0028350409120321274, 0.002820880152285099, 0.010017485357820988, 0.009740287438035011, 0.0021311005111783743, 0.0042782798409461975, 0.01311877928674221, 0.008919568732380867, 0.008671428076922894, 0.0211191289126873, 0.01195011381059885, 0.011890467256307602, 0.006980760954320431, 0.014136884361505508, 0.01956920325756073, 0.13263431191444397, 0.07872603833675385, 0.011900576762855053, 0.07957324385643005]}\n",
       "    )\n",
       "    </script>"
      ],
      "text/plain": [
       "<circuitsvis.utils.render.RenderedHTML at 0x7fbed8358d90>"
      ]
     },
     "metadata": {},
     "output_type": "display_data"
    },
    {
     "name": "stdout",
     "output_type": "stream",
     "text": [
      "--------------------------------------------------------------------------------\n",
      "layer=67\n"
     ]
    },
    {
     "data": {
      "text/html": [
       "<div id=\"circuits-vis-a0101708-c612\" style=\"margin: 15px 0;\"/>\n",
       "    <script crossorigin type=\"module\">\n",
       "    import { render, ColoredTokens } from \"https://unpkg.com/circuitsvis@1.43.3/dist/cdn/esm.js\";\n",
       "    render(\n",
       "      \"circuits-vis-a0101708-c612\",\n",
       "      ColoredTokens,\n",
       "      {\"tokens\": [\"R\", \"ihanna\", \",\", \" Mel\", \" Gibson\", \",\", \" Karl\", \" Urban\", \",\", \" Alan\", \"is\", \" Mor\", \"isset\", \"te\", \",\", \" Mo\", \" Far\", \"ah\", \",\", \" Kit\", \" Chan\", \"\\n\", \"Who\", \" among\", \" these\", \" people\", \" mentioned\", \" above\", \" is\", \" from\", \" Australia\", \"?\\n\", \"Answer\", \":\"], \"values\": [0.7010040283203125, 0.005380384624004364, 0.003532521426677704, 0.014595760963857174, 0.0403350405395031, 0.005038782954216003, 0.0014479011297225952, 0.002934824675321579, 0.0028430111706256866, 0.004498930647969246, 0.003392653539776802, 0.005529356189072132, 0.001815826166421175, 0.0030476851388812065, 0.002472132444381714, 0.009159574285149574, 0.0015842276625335217, 0.0013430137187242508, 0.0018391571938991547, 0.002479659393429756, 0.002284254878759384, 0.006956547498703003, 0.005589280277490616, 0.013012487441301346, 0.007255136966705322, 0.006631733849644661, 0.01698843389749527, 0.005125068128108978, 0.004161827266216278, 0.010104894638061523, 0.011410117149353027, 0.02493208646774292, 0.040685880929231644, 0.030625760555267334]}\n",
       "    )\n",
       "    </script>"
      ],
      "text/plain": [
       "<circuitsvis.utils.render.RenderedHTML at 0x7fbe78287350>"
      ]
     },
     "metadata": {},
     "output_type": "display_data"
    },
    {
     "name": "stdout",
     "output_type": "stream",
     "text": [
      "--------------------------------------------------------------------------------\n"
     ]
    },
    {
     "data": {
      "text/plain": [
       "[PredictedToken(token=' Mel', prob=0.56640625, logit=24.0, token_id=10978, metadata=None),\n",
       " PredictedToken(token=' Among', prob=0.388671875, logit=23.625, token_id=21658, metadata=None),\n",
       " PredictedToken(token=' The', prob=0.0218505859375, logit=20.75, token_id=576, metadata=None),\n",
       " PredictedToken(token=' Of', prob=0.00628662109375, logit=19.5, token_id=4940, metadata=None),\n",
       " PredictedToken(token=' None', prob=0.00335693359375, logit=18.875, token_id=2240, metadata=None)]"
      ]
     },
     "execution_count": 36,
     "metadata": {},
     "output_type": "execute_result"
    }
   ],
   "source": [
    "from src.attention import get_attention_matrices, visualize_average_attn_matrix\n",
    "from src.functional import interpret_logits\n",
    "from src.tokens import prepare_input\n",
    "\n",
    "tokenized = prepare_input(\n",
    "    tokenizer=mt,\n",
    "    prompts=prompt\n",
    ")\n",
    "\n",
    "attn_matrices = get_attention_matrices(\n",
    "    input=tokenized,\n",
    "    mt=mt,\n",
    "    value_weighted=False,\n",
    "    # patches = []\n",
    ")\n",
    "\n",
    "visualize_average_attn_matrix(\n",
    "    mt=mt,\n",
    "    attn_matrices=attn_matrices,\n",
    "    prompt=prompt,\n",
    "    tokenized=tokenized,\n",
    "    layer_window=LAYERS,\n",
    ")\n",
    "\n",
    "interpret_logits(tokenizer=mt, logits=attn_matrices.logits)"
   ]
  },
  {
   "cell_type": "code",
   "execution_count": 37,
   "id": "10ad7837",
   "metadata": {},
   "outputs": [
    {
     "name": "stdout",
     "output_type": "stream",
     "text": [
      "Layer: 54, Head: 44\n"
     ]
    },
    {
     "data": {
      "text/html": [
       "<div id=\"circuits-vis-0ea81384-6614\" style=\"margin: 15px 0;\"/>\n",
       "    <script crossorigin type=\"module\">\n",
       "    import { render, ColoredTokens } from \"https://unpkg.com/circuitsvis@1.43.3/dist/cdn/esm.js\";\n",
       "    render(\n",
       "      \"circuits-vis-0ea81384-6614\",\n",
       "      ColoredTokens,\n",
       "      {\"tokens\": [\"ihanna\", \",\", \" Mel\", \" Gibson\", \",\", \" Karl\", \" Urban\", \",\", \" Alan\", \"is\", \" Mor\", \"isset\", \"te\", \",\", \" Mo\", \" Far\", \"ah\", \",\", \" Kit\", \" Chan\", \"\\n\", \"Who\", \" among\", \" these\", \" people\", \" mentioned\", \" above\", \" is\", \" from\", \" Australia\", \"?\\n\", \"Answer\", \":\"], \"values\": [0.003875732421875, 0.00072479248046875, 0.011962890625, 0.28125, 0.0035858154296875, 0.00897216796875, 0.0142822265625, 0.005096435546875, 0.0057373046875, 0.00482177734375, 0.002044677734375, 0.000881195068359375, 0.05712890625, 0.1650390625, 0.0016937255859375, 0.00031280517578125, 0.00384521484375, 0.0164794921875, 0.0002593994140625, 0.000576019287109375, 0.00066375732421875, 0.00018405914306640625, 3.361701965332031e-05, 0.00128173828125, 0.0004711151123046875, 1.055002212524414e-05, 1.9788742065429688e-05, 0.00013256072998046875, 0.0014190673828125, 0.328125, 0.004364013671875, 2.592802047729492e-06, 0.00640869140625]}\n",
       "    )\n",
       "    </script>"
      ],
      "text/plain": [
       "<circuitsvis.utils.render.RenderedHTML at 0x7fbed823f750>"
      ]
     },
     "metadata": {},
     "output_type": "display_data"
    },
    {
     "name": "stdout",
     "output_type": "stream",
     "text": [
      "Layer: 54, Head: 63\n"
     ]
    },
    {
     "data": {
      "text/html": [
       "<div id=\"circuits-vis-5d0de57e-5de4\" style=\"margin: 15px 0;\"/>\n",
       "    <script crossorigin type=\"module\">\n",
       "    import { render, ColoredTokens } from \"https://unpkg.com/circuitsvis@1.43.3/dist/cdn/esm.js\";\n",
       "    render(\n",
       "      \"circuits-vis-5d0de57e-5de4\",\n",
       "      ColoredTokens,\n",
       "      {\"tokens\": [\"ihanna\", \",\", \" Mel\", \" Gibson\", \",\", \" Karl\", \" Urban\", \",\", \" Alan\", \"is\", \" Mor\", \"isset\", \"te\", \",\", \" Mo\", \" Far\", \"ah\", \",\", \" Kit\", \" Chan\", \"\\n\", \"Who\", \" among\", \" these\", \" people\", \" mentioned\", \" above\", \" is\", \" from\", \" Australia\", \"?\\n\", \"Answer\", \":\"], \"values\": [0.01409912109375, 0.0164794921875, 0.017333984375, 0.0230712890625, 0.002655029296875, 0.0019989013671875, 0.043701171875, 0.017822265625, 0.00665283203125, 0.01190185546875, 0.007659912109375, 0.0255126953125, 0.0303955078125, 0.0478515625, 0.0145263671875, 0.0059814453125, 0.01263427734375, 0.01434326171875, 0.01031494140625, 0.00927734375, 0.01904296875, 0.0208740234375, 0.00634765625, 0.0771484375, 0.0145263671875, 0.00182342529296875, 0.00909423828125, 0.0164794921875, 0.0145263671875, 0.078125, 0.0130615234375, 0.00128936767578125, 0.007659912109375]}\n",
       "    )\n",
       "    </script>"
      ],
      "text/plain": [
       "<circuitsvis.utils.render.RenderedHTML at 0x7fbe781aeb90>"
      ]
     },
     "metadata": {},
     "output_type": "display_data"
    },
    {
     "name": "stdout",
     "output_type": "stream",
     "text": [
      "Layer: 55, Head: 43\n"
     ]
    },
    {
     "data": {
      "text/html": [
       "<div id=\"circuits-vis-d9cf43a3-3911\" style=\"margin: 15px 0;\"/>\n",
       "    <script crossorigin type=\"module\">\n",
       "    import { render, ColoredTokens } from \"https://unpkg.com/circuitsvis@1.43.3/dist/cdn/esm.js\";\n",
       "    render(\n",
       "      \"circuits-vis-d9cf43a3-3911\",\n",
       "      ColoredTokens,\n",
       "      {\"tokens\": [\"ihanna\", \",\", \" Mel\", \" Gibson\", \",\", \" Karl\", \" Urban\", \",\", \" Alan\", \"is\", \" Mor\", \"isset\", \"te\", \",\", \" Mo\", \" Far\", \"ah\", \",\", \" Kit\", \" Chan\", \"\\n\", \"Who\", \" among\", \" these\", \" people\", \" mentioned\", \" above\", \" is\", \" from\", \" Australia\", \"?\\n\", \"Answer\", \":\"], \"values\": [0.0024261474609375, 0.00127410888671875, 0.00286865234375, 0.035400390625, 0.0025787353515625, 0.0087890625, 0.0108642578125, 0.001220703125, 0.0023040771484375, 0.0086669921875, 0.01251220703125, 0.000904083251953125, 0.01092529296875, 0.060546875, 0.001220703125, 0.0012969970703125, 0.01336669921875, 0.0234375, 0.00138092041015625, 0.00142669677734375, 0.006744384765625, 0.0012969970703125, 0.000576019287109375, 0.017578125, 0.029541015625, 0.00177001953125, 0.0014495849609375, 0.0013580322265625, 0.02392578125, 0.455078125, 0.005401611328125, 0.00013637542724609375, 0.00185394287109375]}\n",
       "    )\n",
       "    </script>"
      ],
      "text/plain": [
       "<circuitsvis.utils.render.RenderedHTML at 0x7fbe981d7150>"
      ]
     },
     "metadata": {},
     "output_type": "display_data"
    },
    {
     "name": "stdout",
     "output_type": "stream",
     "text": [
      "Layer: 55, Head: 29\n"
     ]
    },
    {
     "data": {
      "text/html": [
       "<div id=\"circuits-vis-e1a45fc3-29a6\" style=\"margin: 15px 0;\"/>\n",
       "    <script crossorigin type=\"module\">\n",
       "    import { render, ColoredTokens } from \"https://unpkg.com/circuitsvis@1.43.3/dist/cdn/esm.js\";\n",
       "    render(\n",
       "      \"circuits-vis-e1a45fc3-29a6\",\n",
       "      ColoredTokens,\n",
       "      {\"tokens\": [\"ihanna\", \",\", \" Mel\", \" Gibson\", \",\", \" Karl\", \" Urban\", \",\", \" Alan\", \"is\", \" Mor\", \"isset\", \"te\", \",\", \" Mo\", \" Far\", \"ah\", \",\", \" Kit\", \" Chan\", \"\\n\", \"Who\", \" among\", \" these\", \" people\", \" mentioned\", \" above\", \" is\", \" from\", \" Australia\", \"?\\n\", \"Answer\", \":\"], \"values\": [0.005645751953125, 0.00250244140625, 0.0291748046875, 0.059326171875, 0.00823974609375, 0.0205078125, 0.10400390625, 0.061279296875, 0.024658203125, 0.01171875, 0.00958251953125, 0.0032958984375, 0.02001953125, 0.1298828125, 0.00885009765625, 0.0032958984375, 0.022216796875, 0.0771484375, 0.00927734375, 0.01031494140625, 0.03857421875, 0.005157470703125, 0.003448486328125, 0.047607421875, 0.00848388671875, 0.0005950927734375, 0.0011138916015625, 0.0027313232421875, 0.00897216796875, 0.0634765625, 0.0047607421875, 9.250640869140625e-05, 0.0037384033203125]}\n",
       "    )\n",
       "    </script>"
      ],
      "text/plain": [
       "<circuitsvis.utils.render.RenderedHTML at 0x7fbed823f750>"
      ]
     },
     "metadata": {},
     "output_type": "display_data"
    },
    {
     "name": "stdout",
     "output_type": "stream",
     "text": [
      "Layer: 60, Head: 9\n"
     ]
    },
    {
     "data": {
      "text/html": [
       "<div id=\"circuits-vis-54f5380c-257a\" style=\"margin: 15px 0;\"/>\n",
       "    <script crossorigin type=\"module\">\n",
       "    import { render, ColoredTokens } from \"https://unpkg.com/circuitsvis@1.43.3/dist/cdn/esm.js\";\n",
       "    render(\n",
       "      \"circuits-vis-54f5380c-257a\",\n",
       "      ColoredTokens,\n",
       "      {\"tokens\": [\"ihanna\", \",\", \" Mel\", \" Gibson\", \",\", \" Karl\", \" Urban\", \",\", \" Alan\", \"is\", \" Mor\", \"isset\", \"te\", \",\", \" Mo\", \" Far\", \"ah\", \",\", \" Kit\", \" Chan\", \"\\n\", \"Who\", \" among\", \" these\", \" people\", \" mentioned\", \" above\", \" is\", \" from\", \" Australia\", \"?\\n\", \"Answer\", \":\"], \"values\": [1.8835067749023438e-05, 7.009506225585938e-05, 0.0042724609375, 0.921875, 0.00482177734375, 0.000263214111328125, 0.0013427734375, 0.00201416015625, 0.003753662109375, 0.0020751953125, 0.003875732421875, 0.00482177734375, 0.016845703125, 0.00958251953125, 0.0002193450927734375, 0.000339508056640625, 0.0018310546875, 0.0024261474609375, 2.0623207092285156e-05, 1.9788742065429688e-05, 9.72747802734375e-05, 1.4662742614746094e-05, 7.092952728271484e-06, 5.125999450683594e-06, 3.9637088775634766e-06, 1.4528632164001465e-06, 1.6298145055770874e-07, 1.9788742065429688e-05, 0.00012493133544921875, 0.001220703125, 0.0012969970703125, 1.1861324310302734e-05, 0.000492095947265625]}\n",
       "    )\n",
       "    </script>"
      ],
      "text/plain": [
       "<circuitsvis.utils.render.RenderedHTML at 0x7fbe981d7150>"
      ]
     },
     "metadata": {},
     "output_type": "display_data"
    },
    {
     "name": "stdout",
     "output_type": "stream",
     "text": [
      "Layer: 60, Head: 25\n"
     ]
    },
    {
     "data": {
      "text/html": [
       "<div id=\"circuits-vis-35575ad1-9dcf\" style=\"margin: 15px 0;\"/>\n",
       "    <script crossorigin type=\"module\">\n",
       "    import { render, ColoredTokens } from \"https://unpkg.com/circuitsvis@1.43.3/dist/cdn/esm.js\";\n",
       "    render(\n",
       "      \"circuits-vis-35575ad1-9dcf\",\n",
       "      ColoredTokens,\n",
       "      {\"tokens\": [\"ihanna\", \",\", \" Mel\", \" Gibson\", \",\", \" Karl\", \" Urban\", \",\", \" Alan\", \"is\", \" Mor\", \"isset\", \"te\", \",\", \" Mo\", \" Far\", \"ah\", \",\", \" Kit\", \" Chan\", \"\\n\", \"Who\", \" among\", \" these\", \" people\", \" mentioned\", \" above\", \" is\", \" from\", \" Australia\", \"?\\n\", \"Answer\", \":\"], \"values\": [0.0019989013671875, 0.008544921875, 0.017578125, 0.578125, 0.035888671875, 0.000640869140625, 0.01556396484375, 0.03759765625, 0.0023345947265625, 0.0017242431640625, 0.0020751953125, 0.0024566650390625, 0.00421142578125, 0.005157470703125, 0.00078582763671875, 0.000865936279296875, 0.0019989013671875, 0.0024261474609375, 0.0004405975341796875, 0.00064849853515625, 0.0026702880859375, 0.000919342041015625, 0.000732421875, 0.000698089599609375, 0.0007171630859375, 5.936622619628906e-05, 4.6253204345703125e-05, 0.000762939453125, 0.00193023681640625, 0.004913330078125, 0.005645751953125, 0.001190185546875, 0.0306396484375]}\n",
       "    )\n",
       "    </script>"
      ],
      "text/plain": [
       "<circuitsvis.utils.render.RenderedHTML at 0x7fbe781af650>"
      ]
     },
     "metadata": {},
     "output_type": "display_data"
    },
    {
     "name": "stdout",
     "output_type": "stream",
     "text": [
      "Layer: 60, Head: 42\n"
     ]
    },
    {
     "data": {
      "text/html": [
       "<div id=\"circuits-vis-d41eea47-db4d\" style=\"margin: 15px 0;\"/>\n",
       "    <script crossorigin type=\"module\">\n",
       "    import { render, ColoredTokens } from \"https://unpkg.com/circuitsvis@1.43.3/dist/cdn/esm.js\";\n",
       "    render(\n",
       "      \"circuits-vis-d41eea47-db4d\",\n",
       "      ColoredTokens,\n",
       "      {\"tokens\": [\"ihanna\", \",\", \" Mel\", \" Gibson\", \",\", \" Karl\", \" Urban\", \",\", \" Alan\", \"is\", \" Mor\", \"isset\", \"te\", \",\", \" Mo\", \" Far\", \"ah\", \",\", \" Kit\", \" Chan\", \"\\n\", \"Who\", \" among\", \" these\", \" people\", \" mentioned\", \" above\", \" is\", \" from\", \" Australia\", \"?\\n\", \"Answer\", \":\"], \"values\": [0.0010833740234375, 0.00787353515625, 0.0810546875, 0.36328125, 0.0162353515625, 0.002227783203125, 0.0072021484375, 0.0101318359375, 0.004180908203125, 0.002777099609375, 0.00244140625, 0.000858306884765625, 0.00592041015625, 0.0439453125, 0.0014801025390625, 0.009521484375, 0.007598876953125, 0.00653076171875, 0.0002040863037109375, 0.00019168853759765625, 0.001007080078125, 0.0002040863037109375, 0.000667572021484375, 0.002899169921875, 0.00433349609375, 0.0002613067626953125, 0.0004177093505859375, 0.0024871826171875, 0.0047607421875, 0.0380859375, 0.0849609375, 0.00021076202392578125, 0.12451171875]}\n",
       "    )\n",
       "    </script>"
      ],
      "text/plain": [
       "<circuitsvis.utils.render.RenderedHTML at 0x7fbe981d9210>"
      ]
     },
     "metadata": {},
     "output_type": "display_data"
    },
    {
     "name": "stdout",
     "output_type": "stream",
     "text": [
      "Layer: 67, Head: 51\n"
     ]
    },
    {
     "data": {
      "text/html": [
       "<div id=\"circuits-vis-b9b49aee-da09\" style=\"margin: 15px 0;\"/>\n",
       "    <script crossorigin type=\"module\">\n",
       "    import { render, ColoredTokens } from \"https://unpkg.com/circuitsvis@1.43.3/dist/cdn/esm.js\";\n",
       "    render(\n",
       "      \"circuits-vis-b9b49aee-da09\",\n",
       "      ColoredTokens,\n",
       "      {\"tokens\": [\"ihanna\", \",\", \" Mel\", \" Gibson\", \",\", \" Karl\", \" Urban\", \",\", \" Alan\", \"is\", \" Mor\", \"isset\", \"te\", \",\", \" Mo\", \" Far\", \"ah\", \",\", \" Kit\", \" Chan\", \"\\n\", \"Who\", \" among\", \" these\", \" people\", \" mentioned\", \" above\", \" is\", \" from\", \" Australia\", \"?\\n\", \"Answer\", \":\"], \"values\": [0.00113677978515625, 0.00083160400390625, 0.0030975341796875, 0.86328125, 0.00311279296875, 0.00067138671875, 0.00171661376953125, 0.000804901123046875, 0.01361083984375, 0.00106048583984375, 0.014404296875, 0.00020503997802734375, 0.0023040771484375, 0.00162506103515625, 0.00128173828125, 0.00131988525390625, 0.00017833709716796875, 0.0005950927734375, 0.000637054443359375, 0.00010824203491210938, 0.000576019287109375, 0.0003833770751953125, 0.00098419189453125, 0.00061798095703125, 0.000682830810546875, 0.003082275390625, 0.00121307373046875, 0.000392913818359375, 0.00072479248046875, 0.00179290771484375, 0.031982421875, 1.4841556549072266e-05, 0.01904296875]}\n",
       "    )\n",
       "    </script>"
      ],
      "text/plain": [
       "<circuitsvis.utils.render.RenderedHTML at 0x7fbed823f750>"
      ]
     },
     "metadata": {},
     "output_type": "display_data"
    }
   ],
   "source": [
    "# for group_id in group_id_to_head_indices:\n",
    "for layer_idx, head_idx in HEADS:\n",
    "    print(\n",
    "        f\"Layer: {layer_idx}, Head: {head_idx}\"\n",
    "    )\n",
    "\n",
    "    head_matrix = torch.Tensor(attn_matrices.attention_matrices[layer_idx, head_idx]).squeeze()\n",
    "    visualize_attn_matrix(\n",
    "        attn_matrix=head_matrix,\n",
    "        tokens=[mt.tokenizer.decode(t) for t in tokenized.input_ids[0]],\n",
    "        q_index=-1,\n",
    "        start_from=1\n",
    "    )"
   ]
  },
  {
   "cell_type": "code",
   "execution_count": 42,
   "id": "ea4eec49",
   "metadata": {},
   "outputs": [
    {
     "name": "stdout",
     "output_type": "stream",
     "text": [
      "Which of these landmarks is located in Brazil?\n",
      "options:\n",
      "1. The Space Needle\n",
      "2. Louvre Museum\n",
      "3. Colosseum\n",
      "4. Christ the Redeemer\n",
      "5. State of Liberty\n",
      "6. Big Ben\n",
      "Answer:\n",
      " 4. Christ the Redeemer\n",
      "\n",
      "Christ the Redeemer is a famous statue located in Rio de\n"
     ]
    }
   ],
   "source": [
    "import random\n",
    "\n",
    "# options = [\"Table\", \"Orange\", \"Transistor\", \"Spinach\", \"Piano\", \"Coffee\"]\n",
    "# prompt_template = \"\"\"Which of these objects is by type a {}?\n",
    "# options: {}\n",
    "# Answer:\"\"\"\n",
    "# prompt = prompt_template.format(\n",
    "#     \"musical instrument\",\n",
    "#     \", \".join(options)\n",
    "# )\n",
    "# print(prompt)\n",
    "\n",
    "# options = [\"anaconda\", \"python\", \"cobra\", \"viper\", \"mamba\", \"rattlesnake\"]\n",
    "# prompt = f\"\"\"Which of these snake names is also a programming language?\n",
    "# options: {\", \".join(options)}\n",
    "# Answer:\"\"\"\n",
    "\n",
    "options = [\n",
    "    \"The Space Needle\",\n",
    "    \"Louvre Museum\",\n",
    "    \"Colosseum\",\n",
    "    \"Christ the Redeemer\",\n",
    "    \"State of Liberty\",\n",
    "    \"Big Ben\",\n",
    "]\n",
    "# options += [\"Eiffel Tower\"]\n",
    "# random.shuffle(options)\n",
    "country = \"Brazil\"\n",
    "prompt_template = \"\"\"Which of these landmarks is located in {}?\n",
    "options:\\n{}\n",
    "Answer:\"\"\"\n",
    "prompt = prompt_template.format(\n",
    "    country, \"\\n\".join([f\"{idx+1}. {opt}\" for idx, opt in enumerate(options)])\n",
    ")\n",
    "\n",
    "print(prompt)\n",
    "\n",
    "gen = generate_with_patch(\n",
    "    mt=mt,\n",
    "    inputs=prompt,\n",
    "    n_gen_per_prompt=1,\n",
    "    max_new_tokens=20,\n",
    "    remove_prefix=True,\n",
    ")[0]\n",
    "print(gen)\n",
    "# predict_next_token(\n",
    "#     mt=mt,\n",
    "#     inputs=prompt,\n",
    "# )"
   ]
  },
  {
   "cell_type": "code",
   "execution_count": 43,
   "id": "2f21e5d3",
   "metadata": {},
   "outputs": [
    {
     "name": "stdout",
     "output_type": "stream",
     "text": [
      "layer=54\n"
     ]
    },
    {
     "data": {
      "text/html": [
       "<div id=\"circuits-vis-e6c934ac-193a\" style=\"margin: 15px 0;\"/>\n",
       "    <script crossorigin type=\"module\">\n",
       "    import { render, ColoredTokens } from \"https://unpkg.com/circuitsvis@1.43.3/dist/cdn/esm.js\";\n",
       "    render(\n",
       "      \"circuits-vis-e6c934ac-193a\",\n",
       "      ColoredTokens,\n",
       "      {\"tokens\": [\" Which\", \" of\", \" these\", \" landmarks\", \" is\", \" located\", \" in\", \" Brazil\", \"?\\n\", \"options\", \":\\n\", \"1\", \".\", \" The\", \" Space\", \" Needle\", \"\\n\", \"2\", \".\", \" Lou\", \"vre\", \" Museum\", \"\\n\", \"3\", \".\", \" Col\", \"os\", \"se\", \"um\", \"\\n\", \"4\", \".\", \" Christ\", \" the\", \" Rede\", \"emer\", \"\\n\", \"5\", \".\", \" State\", \" of\", \" Liberty\", \"\\n\", \"6\", \".\", \" Big\", \" Ben\", \"\\n\", \"Answer\", \":\"], \"values\": [0.026545315980911255, 0.018898099660873413, 0.006922632455825806, 0.00487193837761879, 0.006487645208835602, 0.003442445769906044, 0.0025456277653574944, 0.015256531536579132, 0.03528565168380737, 0.03296437859535217, 0.020530134439468384, 0.016461655497550964, 0.004527213051915169, 0.0025003552436828613, 0.0008249232196249068, 0.0017125740414485335, 0.0067887697368860245, 0.012630265206098557, 0.0010712638031691313, 0.0009062879253178835, 0.0005782637745141983, 0.0014618565328419209, 0.0017406567931175232, 0.0029985085129737854, 0.0007585452403873205, 0.00044657429680228233, 5.631490785162896e-05, 0.00018157879821956158, 0.0006652144948020577, 0.003399157663807273, 0.008717689663171768, 0.002411793451756239, 0.00502212718129158, 0.0003257429925724864, 0.00046028807992115617, 0.010173837654292583, 0.0272330641746521, 0.013147834688425064, 0.003414781764149666, 0.001245576422661543, 0.0011698314920067787, 0.007742598187178373, 0.012579094618558884, 0.013777121901512146, 0.0020962769631296396, 0.001513283234089613, 0.002599588129669428, 0.005182919092476368, 0.04477766156196594, 0.038401275873184204]}\n",
       "    )\n",
       "    </script>"
      ],
      "text/plain": [
       "<circuitsvis.utils.render.RenderedHTML at 0x7fbe781fbbd0>"
      ]
     },
     "metadata": {},
     "output_type": "display_data"
    },
    {
     "name": "stdout",
     "output_type": "stream",
     "text": [
      "--------------------------------------------------------------------------------\n",
      "layer=60\n"
     ]
    },
    {
     "data": {
      "text/html": [
       "<div id=\"circuits-vis-45bcab8a-91d9\" style=\"margin: 15px 0;\"/>\n",
       "    <script crossorigin type=\"module\">\n",
       "    import { render, ColoredTokens } from \"https://unpkg.com/circuitsvis@1.43.3/dist/cdn/esm.js\";\n",
       "    render(\n",
       "      \"circuits-vis-45bcab8a-91d9\",\n",
       "      ColoredTokens,\n",
       "      {\"tokens\": [\" Which\", \" of\", \" these\", \" landmarks\", \" is\", \" located\", \" in\", \" Brazil\", \"?\\n\", \"options\", \":\\n\", \"1\", \".\", \" The\", \" Space\", \" Needle\", \"\\n\", \"2\", \".\", \" Lou\", \"vre\", \" Museum\", \"\\n\", \"3\", \".\", \" Col\", \"os\", \"se\", \"um\", \"\\n\", \"4\", \".\", \" Christ\", \" the\", \" Rede\", \"emer\", \"\\n\", \"5\", \".\", \" State\", \" of\", \" Liberty\", \"\\n\", \"6\", \".\", \" Big\", \" Ben\", \"\\n\", \"Answer\", \":\"], \"values\": [0.011028297245502472, 0.00723537802696228, 0.0067823054268956184, 0.009339790791273117, 0.011735007166862488, 0.010666033253073692, 0.0076379552483558655, 0.04117205739021301, 0.03572988510131836, 0.011019900441169739, 0.020061641931533813, 0.018823012709617615, 0.007745206356048584, 0.006723206490278244, 0.0017221549060195684, 0.0035614941734820604, 0.011562376283109188, 0.009850293397903442, 0.004013076424598694, 0.0017921867547556758, 0.001097590895369649, 0.003909664694219828, 0.005878172814846039, 0.009293906390666962, 0.004077082499861717, 0.001204378088004887, 9.010743087856099e-05, 0.0002472801133990288, 0.0033686396200209856, 0.007982814684510231, 0.016694827005267143, 0.010340155102312565, 0.006511935964226723, 0.0007517533376812935, 0.0016929684206843376, 0.060435302555561066, 0.04309285059571266, 0.03950780630111694, 0.010168535634875298, 0.0035712607204914093, 0.0010785849299281836, 0.012819919735193253, 0.01710454747080803, 0.017147166654467583, 0.004701406694948673, 0.002563798101618886, 0.007656770758330822, 0.01299163606017828, 0.040466878563165665, 0.04780814051628113]}\n",
       "    )\n",
       "    </script>"
      ],
      "text/plain": [
       "<circuitsvis.utils.render.RenderedHTML at 0x7fc159c37650>"
      ]
     },
     "metadata": {},
     "output_type": "display_data"
    },
    {
     "name": "stdout",
     "output_type": "stream",
     "text": [
      "--------------------------------------------------------------------------------\n",
      "layer=67\n"
     ]
    },
    {
     "data": {
      "text/html": [
       "<div id=\"circuits-vis-8eaa4175-3fa6\" style=\"margin: 15px 0;\"/>\n",
       "    <script crossorigin type=\"module\">\n",
       "    import { render, ColoredTokens } from \"https://unpkg.com/circuitsvis@1.43.3/dist/cdn/esm.js\";\n",
       "    render(\n",
       "      \"circuits-vis-8eaa4175-3fa6\",\n",
       "      ColoredTokens,\n",
       "      {\"tokens\": [\" Which\", \" of\", \" these\", \" landmarks\", \" is\", \" located\", \" in\", \" Brazil\", \"?\\n\", \"options\", \":\\n\", \"1\", \".\", \" The\", \" Space\", \" Needle\", \"\\n\", \"2\", \".\", \" Lou\", \"vre\", \" Museum\", \"\\n\", \"3\", \".\", \" Col\", \"os\", \"se\", \"um\", \"\\n\", \"4\", \".\", \" Christ\", \" the\", \" Rede\", \"emer\", \"\\n\", \"5\", \".\", \" State\", \" of\", \" Liberty\", \"\\n\", \"6\", \".\", \" Big\", \" Ben\", \"\\n\", \"Answer\", \":\"], \"values\": [0.016870204359292984, 0.005387915298342705, 0.006235337350517511, 0.01103246584534645, 0.007219819352030754, 0.008017688989639282, 0.0031720297411084175, 0.013736382126808167, 0.02256634831428528, 0.008932883851230145, 0.012274350970983505, 0.003700336441397667, 0.005230069160461426, 0.003518013283610344, 0.0012885788455605507, 0.0029270583763718605, 0.0024092141538858414, 0.005626127123832703, 0.0018448184709995985, 0.00209995498880744, 0.001287001883611083, 0.001448333729058504, 0.0011642593890428543, 0.004957027733325958, 0.002278544008731842, 0.0007857831660658121, 0.0001163007109425962, 0.0004477834445424378, 0.0010162012185901403, 0.002399889752268791, 0.012747850269079208, 0.003462467808276415, 0.025666378438472748, 0.003569516818970442, 0.0027037165127694607, 0.01948235183954239, 0.032256387174129486, 0.0048167891800403595, 0.0026319362223148346, 0.0007768158102408051, 0.0013571714516729116, 0.002969093155115843, 0.007246866822242737, 0.0034120604395866394, 0.0023029716685414314, 0.0007542683742940426, 0.001094696344807744, 0.0034784115850925446, 0.10607016086578369, 0.040543556213378906]}\n",
       "    )\n",
       "    </script>"
      ],
      "text/plain": [
       "<circuitsvis.utils.render.RenderedHTML at 0x7f9c517638d0>"
      ]
     },
     "metadata": {},
     "output_type": "display_data"
    },
    {
     "name": "stdout",
     "output_type": "stream",
     "text": [
      "--------------------------------------------------------------------------------\n"
     ]
    },
    {
     "data": {
      "text/plain": [
       "[PredictedToken(token=' ', prob=0.8984375, logit=32.25, token_id=220, metadata=None),\n",
       " PredictedToken(token=' The', prob=0.057373046875, logit=29.5, token_id=576, metadata=None),\n",
       " PredictedToken(token=' \\n', prob=0.0211181640625, logit=28.5, token_id=715, metadata=None),\n",
       " PredictedToken(token=' Christ', prob=0.0164794921875, logit=28.25, token_id=3686, metadata=None),\n",
       " PredictedToken(token=' \\n\\n', prob=0.00323486328125, logit=26.625, token_id=4710, metadata=None)]"
      ]
     },
     "execution_count": 43,
     "metadata": {},
     "output_type": "execute_result"
    }
   ],
   "source": [
    "from src.attention import get_attention_matrices, visualize_average_attn_matrix\n",
    "from src.functional import interpret_logits\n",
    "from src.tokens import prepare_input\n",
    "\n",
    "tokenized = prepare_input(\n",
    "    tokenizer=mt,\n",
    "    prompts=prompt,\n",
    "    add_bos_token=\"qwen\" in mt.name.lower()\n",
    ")\n",
    "\n",
    "attn_matrices = get_attention_matrices(\n",
    "    input=tokenized,\n",
    "    mt=mt,\n",
    "    value_weighted=False,\n",
    "    # patches = []\n",
    ")\n",
    "\n",
    "visualize_average_attn_matrix(\n",
    "    mt=mt,\n",
    "    attn_matrices=attn_matrices,\n",
    "    prompt=prompt,\n",
    "    tokenized=tokenized,\n",
    "    layer_window=LAYERS,\n",
    ")\n",
    "\n",
    "interpret_logits(tokenizer=mt, logits=attn_matrices.logits)"
   ]
  },
  {
   "cell_type": "code",
   "execution_count": 44,
   "id": "a3fb098d",
   "metadata": {},
   "outputs": [
    {
     "name": "stdout",
     "output_type": "stream",
     "text": [
      "Layer: 54, Head: 44\n"
     ]
    },
    {
     "data": {
      "text/html": [
       "<div id=\"circuits-vis-94ecc447-62f8\" style=\"margin: 15px 0;\"/>\n",
       "    <script crossorigin type=\"module\">\n",
       "    import { render, ColoredTokens } from \"https://unpkg.com/circuitsvis@1.43.3/dist/cdn/esm.js\";\n",
       "    render(\n",
       "      \"circuits-vis-94ecc447-62f8\",\n",
       "      ColoredTokens,\n",
       "      {\"tokens\": [\" Which\", \" of\", \" these\", \" landmarks\", \" is\", \" located\", \" in\", \" Brazil\", \"?\\n\", \"options\", \":\\n\", \"1\", \".\", \" The\", \" Space\", \" Needle\", \"\\n\", \"2\", \".\", \" Lou\", \"vre\", \" Museum\", \"\\n\", \"3\", \".\", \" Col\", \"os\", \"se\", \"um\", \"\\n\", \"4\", \".\", \" Christ\", \" the\", \" Rede\", \"emer\", \"\\n\", \"5\", \".\", \" State\", \" of\", \" Liberty\", \"\\n\", \"6\", \".\", \" Big\", \" Ben\", \"\\n\", \"Answer\", \":\"], \"values\": [0.003936767578125, 0.001495361328125, 0.0024261474609375, 0.00341796875, 0.003936767578125, 0.00848388671875, 0.01104736328125, 0.232421875, 0.08935546875, 0.0018310546875, 0.0021209716796875, 0.0035247802734375, 0.001220703125, 0.0033416748046875, 0.00067138671875, 0.003082275390625, 0.005859375, 0.0034637451171875, 0.000823974609375, 0.000640869140625, 0.0023956298828125, 0.0035858154296875, 0.000476837158203125, 0.0021209716796875, 0.002685546875, 0.0004405975341796875, 0.00012874603271484375, 0.0017547607421875, 0.00151824951171875, 0.000904083251953125, 0.00592041015625, 0.002105712890625, 0.0166015625, 0.00054168701171875, 0.0023345947265625, 0.11669921875, 0.07763671875, 0.0087890625, 0.0032806396484375, 0.002197265625, 0.00262451171875, 0.00469970703125, 0.0021514892578125, 0.00286865234375, 0.0013580322265625, 0.000408172607421875, 0.0002117156982421875, 8.535385131835938e-05, 0.0017547607421875, 0.01123046875]}\n",
       "    )\n",
       "    </script>"
      ],
      "text/plain": [
       "<circuitsvis.utils.render.RenderedHTML at 0x7fbe781c5350>"
      ]
     },
     "metadata": {},
     "output_type": "display_data"
    },
    {
     "name": "stdout",
     "output_type": "stream",
     "text": [
      "Layer: 54, Head: 63\n"
     ]
    },
    {
     "data": {
      "text/html": [
       "<div id=\"circuits-vis-740ea322-3416\" style=\"margin: 15px 0;\"/>\n",
       "    <script crossorigin type=\"module\">\n",
       "    import { render, ColoredTokens } from \"https://unpkg.com/circuitsvis@1.43.3/dist/cdn/esm.js\";\n",
       "    render(\n",
       "      \"circuits-vis-740ea322-3416\",\n",
       "      ColoredTokens,\n",
       "      {\"tokens\": [\" Which\", \" of\", \" these\", \" landmarks\", \" is\", \" located\", \" in\", \" Brazil\", \"?\\n\", \"options\", \":\\n\", \"1\", \".\", \" The\", \" Space\", \" Needle\", \"\\n\", \"2\", \".\", \" Lou\", \"vre\", \" Museum\", \"\\n\", \"3\", \".\", \" Col\", \"os\", \"se\", \"um\", \"\\n\", \"4\", \".\", \" Christ\", \" the\", \" Rede\", \"emer\", \"\\n\", \"5\", \".\", \" State\", \" of\", \" Liberty\", \"\\n\", \"6\", \".\", \" Big\", \" Ben\", \"\\n\", \"Answer\", \":\"], \"values\": [0.00106048583984375, 0.002349853515625, 0.0030670166015625, 0.001007080078125, 0.003692626953125, 0.00311279296875, 0.002044677734375, 0.01953125, 0.011474609375, 0.01556396484375, 0.0201416015625, 0.02685546875, 0.00177001953125, 0.0028839111328125, 0.000476837158203125, 0.007598876953125, 0.00860595703125, 0.026611328125, 0.000812530517578125, 0.0031585693359375, 0.00140380859375, 0.002655029296875, 0.00531005859375, 0.0029754638671875, 0.00138092041015625, 0.0013580322265625, 7.43865966796875e-05, 0.000476837158203125, 0.0027923583984375, 0.00238037109375, 0.1357421875, 0.0020751953125, 0.09521484375, 0.0002765655517578125, 0.003631591796875, 0.130859375, 0.2119140625, 0.05224609375, 0.0169677734375, 0.001861572265625, 0.001495361328125, 0.0166015625, 0.01483154296875, 0.0194091796875, 0.002838134765625, 0.00439453125, 0.0028839111328125, 0.00140380859375, 0.0027923583984375, 0.033447265625]}\n",
       "    )\n",
       "    </script>"
      ],
      "text/plain": [
       "<circuitsvis.utils.render.RenderedHTML at 0x7f9c5166fb10>"
      ]
     },
     "metadata": {},
     "output_type": "display_data"
    },
    {
     "name": "stdout",
     "output_type": "stream",
     "text": [
      "Layer: 55, Head: 43\n"
     ]
    },
    {
     "data": {
      "text/html": [
       "<div id=\"circuits-vis-a0e00b2c-f627\" style=\"margin: 15px 0;\"/>\n",
       "    <script crossorigin type=\"module\">\n",
       "    import { render, ColoredTokens } from \"https://unpkg.com/circuitsvis@1.43.3/dist/cdn/esm.js\";\n",
       "    render(\n",
       "      \"circuits-vis-a0e00b2c-f627\",\n",
       "      ColoredTokens,\n",
       "      {\"tokens\": [\" Which\", \" of\", \" these\", \" landmarks\", \" is\", \" located\", \" in\", \" Brazil\", \"?\\n\", \"options\", \":\\n\", \"1\", \".\", \" The\", \" Space\", \" Needle\", \"\\n\", \"2\", \".\", \" Lou\", \"vre\", \" Museum\", \"\\n\", \"3\", \".\", \" Col\", \"os\", \"se\", \"um\", \"\\n\", \"4\", \".\", \" Christ\", \" the\", \" Rede\", \"emer\", \"\\n\", \"5\", \".\", \" State\", \" of\", \" Liberty\", \"\\n\", \"6\", \".\", \" Big\", \" Ben\", \"\\n\", \"Answer\", \":\"], \"values\": [0.00848388671875, 0.01300048828125, 0.0096435546875, 0.00897216796875, 0.0068359375, 0.0084228515625, 0.0260009765625, 0.064453125, 0.036376953125, 0.0289306640625, 0.0137939453125, 0.027099609375, 0.00604248046875, 0.00093841552734375, 0.0005035400390625, 0.006317138671875, 0.10302734375, 0.03173828125, 0.00186920166015625, 0.0093994140625, 0.0021209716796875, 0.0196533203125, 0.031982421875, 0.013916015625, 0.00096893310546875, 0.002899169921875, 2.1904706954956055e-06, 0.00012683868408203125, 0.016845703125, 0.015625, 0.01611328125, 0.02392578125, 0.01519775390625, 2.4318695068359375e-05, 0.0001583099365234375, 0.07373046875, 0.030029296875, 0.040771484375, 0.0125732421875, 0.00099945068359375, 0.000606536865234375, 0.0299072265625, 0.035888671875, 0.037353515625, 0.00653076171875, 0.004638671875, 0.002593994140625, 0.0111083984375, 0.004425048828125, 0.00872802734375]}\n",
       "    )\n",
       "    </script>"
      ],
      "text/plain": [
       "<circuitsvis.utils.render.RenderedHTML at 0x7fbed8378190>"
      ]
     },
     "metadata": {},
     "output_type": "display_data"
    },
    {
     "name": "stdout",
     "output_type": "stream",
     "text": [
      "Layer: 55, Head: 29\n"
     ]
    },
    {
     "data": {
      "text/html": [
       "<div id=\"circuits-vis-c4b176fc-5a35\" style=\"margin: 15px 0;\"/>\n",
       "    <script crossorigin type=\"module\">\n",
       "    import { render, ColoredTokens } from \"https://unpkg.com/circuitsvis@1.43.3/dist/cdn/esm.js\";\n",
       "    render(\n",
       "      \"circuits-vis-c4b176fc-5a35\",\n",
       "      ColoredTokens,\n",
       "      {\"tokens\": [\" Which\", \" of\", \" these\", \" landmarks\", \" is\", \" located\", \" in\", \" Brazil\", \"?\\n\", \"options\", \":\\n\", \"1\", \".\", \" The\", \" Space\", \" Needle\", \"\\n\", \"2\", \".\", \" Lou\", \"vre\", \" Museum\", \"\\n\", \"3\", \".\", \" Col\", \"os\", \"se\", \"um\", \"\\n\", \"4\", \".\", \" Christ\", \" the\", \" Rede\", \"emer\", \"\\n\", \"5\", \".\", \" State\", \" of\", \" Liberty\", \"\\n\", \"6\", \".\", \" Big\", \" Ben\", \"\\n\", \"Answer\", \":\"], \"values\": [0.004241943359375, 0.002532958984375, 0.0205078125, 0.0120849609375, 0.0242919921875, 0.021240234375, 0.01190185546875, 0.0252685546875, 0.0302734375, 0.004730224609375, 0.00732421875, 0.0252685546875, 0.0159912109375, 0.00439453125, 0.00286865234375, 0.0081787109375, 0.048583984375, 0.033935546875, 0.0020904541015625, 0.002197265625, 0.004150390625, 0.00146484375, 0.00119781494140625, 0.00634765625, 0.0026092529296875, 8.535385131835938e-05, 1.3053417205810547e-05, 8.535385131835938e-05, 0.00013637542724609375, 0.00035858154296875, 0.014404296875, 0.0038909912109375, 0.05859375, 0.0003261566162109375, 0.000514984130859375, 0.23828125, 0.042236328125, 0.043701171875, 0.0032501220703125, 0.003997802734375, 0.0054931640625, 0.036865234375, 0.01068115234375, 0.0103759765625, 0.000659942626953125, 0.00022411346435546875, 0.00035858154296875, 0.0009307861328125, 0.000591278076171875, 0.0084228515625]}\n",
       "    )\n",
       "    </script>"
      ],
      "text/plain": [
       "<circuitsvis.utils.render.RenderedHTML at 0x7fbe781fb990>"
      ]
     },
     "metadata": {},
     "output_type": "display_data"
    },
    {
     "name": "stdout",
     "output_type": "stream",
     "text": [
      "Layer: 60, Head: 9\n"
     ]
    },
    {
     "data": {
      "text/html": [
       "<div id=\"circuits-vis-a3dff288-0ca8\" style=\"margin: 15px 0;\"/>\n",
       "    <script crossorigin type=\"module\">\n",
       "    import { render, ColoredTokens } from \"https://unpkg.com/circuitsvis@1.43.3/dist/cdn/esm.js\";\n",
       "    render(\n",
       "      \"circuits-vis-a3dff288-0ca8\",\n",
       "      ColoredTokens,\n",
       "      {\"tokens\": [\" Which\", \" of\", \" these\", \" landmarks\", \" is\", \" located\", \" in\", \" Brazil\", \"?\\n\", \"options\", \":\\n\", \"1\", \".\", \" The\", \" Space\", \" Needle\", \"\\n\", \"2\", \".\", \" Lou\", \"vre\", \" Museum\", \"\\n\", \"3\", \".\", \" Col\", \"os\", \"se\", \"um\", \"\\n\", \"4\", \".\", \" Christ\", \" the\", \" Rede\", \"emer\", \"\\n\", \"5\", \".\", \" State\", \" of\", \" Liberty\", \"\\n\", \"6\", \".\", \" Big\", \" Ben\", \"\\n\", \"Answer\", \":\"], \"values\": [0.00029754638671875, 7.724761962890625e-05, 1.2218952178955078e-05, 6.628036499023438e-05, 0.000156402587890625, 0.000270843505859375, 0.00115966796875, 0.0033416748046875, 0.0020294189453125, 0.000347137451171875, 0.00084686279296875, 0.0036773681640625, 0.0012664794921875, 0.004425048828125, 7.05718994140625e-05, 0.00135040283203125, 0.004730224609375, 0.002227783203125, 0.00179290771484375, 9.965896606445312e-05, 0.00022029876708984375, 0.0037841796875, 0.000957489013671875, 0.00970458984375, 0.006439208984375, 0.00012969970703125, 1.3113021850585938e-05, 0.0002460479736328125, 0.0040283203125, 0.0106201171875, 0.0224609375, 0.0040283203125, 0.00799560546875, 0.00567626953125, 0.01324462890625, 0.74609375, 0.061279296875, 0.037109375, 0.0145263671875, 0.0003871917724609375, 0.00115966796875, 0.0036773681640625, 0.0037841796875, 0.0023651123046875, 0.000873565673828125, 0.000125885009765625, 0.0035552978515625, 0.00049591064453125, 0.0009002685546875, 0.0003871917724609375]}\n",
       "    )\n",
       "    </script>"
      ],
      "text/plain": [
       "<circuitsvis.utils.render.RenderedHTML at 0x7f9c517a8250>"
      ]
     },
     "metadata": {},
     "output_type": "display_data"
    },
    {
     "name": "stdout",
     "output_type": "stream",
     "text": [
      "Layer: 60, Head: 25\n"
     ]
    },
    {
     "data": {
      "text/html": [
       "<div id=\"circuits-vis-be668532-6b39\" style=\"margin: 15px 0;\"/>\n",
       "    <script crossorigin type=\"module\">\n",
       "    import { render, ColoredTokens } from \"https://unpkg.com/circuitsvis@1.43.3/dist/cdn/esm.js\";\n",
       "    render(\n",
       "      \"circuits-vis-be668532-6b39\",\n",
       "      ColoredTokens,\n",
       "      {\"tokens\": [\" Which\", \" of\", \" these\", \" landmarks\", \" is\", \" located\", \" in\", \" Brazil\", \"?\\n\", \"options\", \":\\n\", \"1\", \".\", \" The\", \" Space\", \" Needle\", \"\\n\", \"2\", \".\", \" Lou\", \"vre\", \" Museum\", \"\\n\", \"3\", \".\", \" Col\", \"os\", \"se\", \"um\", \"\\n\", \"4\", \".\", \" Christ\", \" the\", \" Rede\", \"emer\", \"\\n\", \"5\", \".\", \" State\", \" of\", \" Liberty\", \"\\n\", \"6\", \".\", \" Big\", \" Ben\", \"\\n\", \"Answer\", \":\"], \"values\": [0.00787353515625, 0.0035400390625, 0.0023651123046875, 0.0008087158203125, 0.0019989013671875, 0.000629425048828125, 0.000476837158203125, 0.005828857421875, 0.003509521484375, 0.0191650390625, 0.024169921875, 0.01220703125, 0.00029754638671875, 0.0006561279296875, 1.1265277862548828e-05, 9.72747802734375e-05, 0.0002956390380859375, 0.003082275390625, 0.00023174285888671875, 3.337860107421875e-06, 1.6763806343078613e-06, 3.933906555175781e-05, 1.239776611328125e-05, 0.00079345703125, 0.000957489013671875, 5.334615707397461e-06, 8.102506399154663e-08, 1.2293457984924316e-06, 2.5033950805664062e-05, 0.00016021728515625, 0.031494140625, 0.00144195556640625, 0.00726318359375, 0.000492095947265625, 0.0023956298828125, 0.33984375, 0.248046875, 0.212890625, 0.0023345947265625, 0.00015735626220703125, 0.00011396408081054688, 0.000362396240234375, 0.0027008056640625, 0.0038604736328125, 0.00010538101196289062, 2.753734588623047e-05, 0.0001506805419921875, 6.914138793945312e-05, 0.0064697265625, 0.01007080078125]}\n",
       "    )\n",
       "    </script>"
      ],
      "text/plain": [
       "<circuitsvis.utils.render.RenderedHTML at 0x7fbe781fb490>"
      ]
     },
     "metadata": {},
     "output_type": "display_data"
    },
    {
     "name": "stdout",
     "output_type": "stream",
     "text": [
      "Layer: 60, Head: 42\n"
     ]
    },
    {
     "data": {
      "text/html": [
       "<div id=\"circuits-vis-3a9be287-f019\" style=\"margin: 15px 0;\"/>\n",
       "    <script crossorigin type=\"module\">\n",
       "    import { render, ColoredTokens } from \"https://unpkg.com/circuitsvis@1.43.3/dist/cdn/esm.js\";\n",
       "    render(\n",
       "      \"circuits-vis-3a9be287-f019\",\n",
       "      ColoredTokens,\n",
       "      {\"tokens\": [\" Which\", \" of\", \" these\", \" landmarks\", \" is\", \" located\", \" in\", \" Brazil\", \"?\\n\", \"options\", \":\\n\", \"1\", \".\", \" The\", \" Space\", \" Needle\", \"\\n\", \"2\", \".\", \" Lou\", \"vre\", \" Museum\", \"\\n\", \"3\", \".\", \" Col\", \"os\", \"se\", \"um\", \"\\n\", \"4\", \".\", \" Christ\", \" the\", \" Rede\", \"emer\", \"\\n\", \"5\", \".\", \" State\", \" of\", \" Liberty\", \"\\n\", \"6\", \".\", \" Big\", \" Ben\", \"\\n\", \"Answer\", \":\"], \"values\": [0.0042724609375, 0.0023345947265625, 0.00157928466796875, 0.000675201416015625, 0.0052490234375, 0.0034637451171875, 0.0113525390625, 0.04248046875, 0.10009765625, 0.0023345947265625, 0.01300048828125, 0.003814697265625, 0.0006256103515625, 0.0006256103515625, 2.1338462829589844e-05, 0.000148773193359375, 0.00119781494140625, 0.00167083740234375, 0.00579833984375, 2.9206275939941406e-05, 8.440017700195312e-05, 0.0004024505615234375, 0.0002651214599609375, 0.005340576171875, 0.00701904296875, 2.5033950805664062e-05, 2.8014183044433594e-06, 3.647804260253906e-05, 0.0004367828369140625, 0.00159454345703125, 0.052001953125, 0.002777099609375, 0.01165771484375, 0.0001964569091796875, 0.0022125244140625, 0.2734375, 0.208984375, 0.1904296875, 0.00093841552734375, 7.43865966796875e-05, 0.000396728515625, 0.0001850128173828125, 0.0025482177734375, 0.0004863739013671875, 0.00012683868408203125, 9.47713851928711e-06, 7.677078247070312e-05, 0.0001583099365234375, 0.00159454345703125, 0.01458740234375]}\n",
       "    )\n",
       "    </script>"
      ],
      "text/plain": [
       "<circuitsvis.utils.render.RenderedHTML at 0x7fbe781fb490>"
      ]
     },
     "metadata": {},
     "output_type": "display_data"
    },
    {
     "name": "stdout",
     "output_type": "stream",
     "text": [
      "Layer: 67, Head: 51\n"
     ]
    },
    {
     "data": {
      "text/html": [
       "<div id=\"circuits-vis-c52b7368-4a35\" style=\"margin: 15px 0;\"/>\n",
       "    <script crossorigin type=\"module\">\n",
       "    import { render, ColoredTokens } from \"https://unpkg.com/circuitsvis@1.43.3/dist/cdn/esm.js\";\n",
       "    render(\n",
       "      \"circuits-vis-c52b7368-4a35\",\n",
       "      ColoredTokens,\n",
       "      {\"tokens\": [\" Which\", \" of\", \" these\", \" landmarks\", \" is\", \" located\", \" in\", \" Brazil\", \"?\\n\", \"options\", \":\\n\", \"1\", \".\", \" The\", \" Space\", \" Needle\", \"\\n\", \"2\", \".\", \" Lou\", \"vre\", \" Museum\", \"\\n\", \"3\", \".\", \" Col\", \"os\", \"se\", \"um\", \"\\n\", \"4\", \".\", \" Christ\", \" the\", \" Rede\", \"emer\", \"\\n\", \"5\", \".\", \" State\", \" of\", \" Liberty\", \"\\n\", \"6\", \".\", \" Big\", \" Ben\", \"\\n\", \"Answer\", \":\"], \"values\": [0.00023937225341796875, 0.000606536865234375, 0.00017452239990234375, 0.00028228759765625, 0.001983642578125, 0.0016632080078125, 0.000942230224609375, 0.0098876953125, 0.0014495849609375, 1.0192394256591797e-05, 9.250640869140625e-05, 2.6464462280273438e-05, 0.00064849853515625, 0.002288818359375, 0.000675201416015625, 0.00127410888671875, 0.001129150390625, 0.0003261566162109375, 0.000522613525390625, 4.506111145019531e-05, 1.4424324035644531e-05, 0.000152587890625, 2.0265579223632812e-05, 0.00164794921875, 0.0026397705078125, 0.00054168701171875, 2.0265579223632812e-05, 3.0040740966796875e-05, 0.0001239776611328125, 0.00128936767578125, 0.01348876953125, 0.00274658203125, 0.43359375, 0.05029296875, 0.028564453125, 0.408203125, 0.01348876953125, 0.00225830078125, 0.0001811981201171875, 0.00018215179443359375, 0.00032806396484375, 0.0003795623779296875, 0.000858306884765625, 6.0558319091796875e-05, 8.296966552734375e-05, 2.0623207092285156e-05, 3.743171691894531e-05, 0.000186920166015625, 0.000865936279296875, 0.00180816650390625]}\n",
       "    )\n",
       "    </script>"
      ],
      "text/plain": [
       "<circuitsvis.utils.render.RenderedHTML at 0x7fbed82d1150>"
      ]
     },
     "metadata": {},
     "output_type": "display_data"
    }
   ],
   "source": [
    "# for group_id in group_id_to_head_indices:\n",
    "for layer_idx, head_idx in HEADS:\n",
    "    print(\n",
    "        f\"Layer: {layer_idx}, Head: {head_idx}\"\n",
    "    )\n",
    "\n",
    "    head_matrix = torch.Tensor(attn_matrices.attention_matrices[layer_idx, head_idx]).squeeze()\n",
    "    visualize_attn_matrix(\n",
    "        attn_matrix=head_matrix,\n",
    "        tokens=[mt.tokenizer.decode(t) for t in tokenized.input_ids[0]],\n",
    "        q_index=-1,\n",
    "        start_from=1\n",
    "    )"
   ]
  },
  {
   "cell_type": "code",
   "execution_count": 46,
   "id": "cf6b285c",
   "metadata": {},
   "outputs": [
    {
     "name": "stdout",
     "output_type": "stream",
     "text": [
      "Which of these people is not a scientist?\n",
      "options: Marie Curie, Albert Einstein, Grover Cleveland, Charles Darwin, Nikola Tesla, Issac Newton\n",
      "Answer:\n",
      "layer=54\n"
     ]
    },
    {
     "data": {
      "text/html": [
       "<div id=\"circuits-vis-16458140-1c34\" style=\"margin: 15px 0;\"/>\n",
       "    <script crossorigin type=\"module\">\n",
       "    import { render, ColoredTokens } from \"https://unpkg.com/circuitsvis@1.43.3/dist/cdn/esm.js\";\n",
       "    render(\n",
       "      \"circuits-vis-16458140-1c34\",\n",
       "      ColoredTokens,\n",
       "      {\"tokens\": [\" Which\", \" of\", \" these\", \" people\", \" is\", \" not\", \" a\", \" scientist\", \"?\\n\", \"options\", \":\", \" Marie\", \" Cur\", \"ie\", \",\", \" Albert\", \" Einstein\", \",\", \" Gro\", \"ver\", \" Cleveland\", \",\", \" Charles\", \" Darwin\", \",\", \" Nikola\", \" Tesla\", \",\", \" Iss\", \"ac\", \" Newton\", \"\\n\", \"Answer\", \":\"], \"values\": [0.021705687046051025, 0.011053701862692833, 0.004882834851741791, 0.0037738271057605743, 0.00264749675989151, 0.010440848767757416, 0.0025258325040340424, 0.013699717819690704, 0.046939123421907425, 0.015136021189391613, 0.009923252277076244, 0.016147881746292114, 0.005777131766080856, 0.004390465561300516, 0.01820036768913269, 0.002138319192454219, 0.002507213968783617, 0.003865480422973633, 0.0030967029742896557, 0.004670607391744852, 0.01810072734951973, 0.05327799916267395, 0.0016206074506044388, 0.007483026012778282, 0.014230858534574509, 0.0026808036491274834, 0.01914944499731064, 0.01891997456550598, 0.0040320660918951035, 0.0024172980338335037, 0.007141761016100645, 0.03951840102672577, 0.023114565759897232, 0.04733849689364433]}\n",
       "    )\n",
       "    </script>"
      ],
      "text/plain": [
       "<circuitsvis.utils.render.RenderedHTML at 0x7fc1591d0bd0>"
      ]
     },
     "metadata": {},
     "output_type": "display_data"
    },
    {
     "name": "stdout",
     "output_type": "stream",
     "text": [
      "--------------------------------------------------------------------------------\n",
      "layer=60\n"
     ]
    },
    {
     "data": {
      "text/html": [
       "<div id=\"circuits-vis-1ea21ba7-8b63\" style=\"margin: 15px 0;\"/>\n",
       "    <script crossorigin type=\"module\">\n",
       "    import { render, ColoredTokens } from \"https://unpkg.com/circuitsvis@1.43.3/dist/cdn/esm.js\";\n",
       "    render(\n",
       "      \"circuits-vis-1ea21ba7-8b63\",\n",
       "      ColoredTokens,\n",
       "      {\"tokens\": [\" Which\", \" of\", \" these\", \" people\", \" is\", \" not\", \" a\", \" scientist\", \"?\\n\", \"options\", \":\", \" Marie\", \" Cur\", \"ie\", \",\", \" Albert\", \" Einstein\", \",\", \" Gro\", \"ver\", \" Cleveland\", \",\", \" Charles\", \" Darwin\", \",\", \" Nikola\", \" Tesla\", \",\", \" Iss\", \"ac\", \" Newton\", \"\\n\", \"Answer\", \":\"], \"values\": [0.00863647647202015, 0.006374054588377476, 0.007852453738451004, 0.011163548566401005, 0.00788604561239481, 0.02219119854271412, 0.004383750259876251, 0.032349877059459686, 0.039522767066955566, 0.01363289449363947, 0.0062861996702849865, 0.02005591429769993, 0.004462564829736948, 0.004759969189763069, 0.013234153389930725, 0.004205076489597559, 0.007487282156944275, 0.011850584298372269, 0.009114019572734833, 0.008983326144516468, 0.09658493101596832, 0.06009935587644577, 0.003660199698060751, 0.0236645694822073, 0.023226559162139893, 0.00317465141415596, 0.021377544850111008, 0.0149699030444026, 0.002752345521003008, 0.002845803275704384, 0.024323422461748123, 0.051868900656700134, 0.026412872597575188, 0.05206971615552902]}\n",
       "    )\n",
       "    </script>"
      ],
      "text/plain": [
       "<circuitsvis.utils.render.RenderedHTML at 0x7fc159c37650>"
      ]
     },
     "metadata": {},
     "output_type": "display_data"
    },
    {
     "name": "stdout",
     "output_type": "stream",
     "text": [
      "--------------------------------------------------------------------------------\n",
      "layer=67\n"
     ]
    },
    {
     "data": {
      "text/html": [
       "<div id=\"circuits-vis-d37f47f4-00cb\" style=\"margin: 15px 0;\"/>\n",
       "    <script crossorigin type=\"module\">\n",
       "    import { render, ColoredTokens } from \"https://unpkg.com/circuitsvis@1.43.3/dist/cdn/esm.js\";\n",
       "    render(\n",
       "      \"circuits-vis-d37f47f4-00cb\",\n",
       "      ColoredTokens,\n",
       "      {\"tokens\": [\" Which\", \" of\", \" these\", \" people\", \" is\", \" not\", \" a\", \" scientist\", \"?\\n\", \"options\", \":\", \" Marie\", \" Cur\", \"ie\", \",\", \" Albert\", \" Einstein\", \",\", \" Gro\", \"ver\", \" Cleveland\", \",\", \" Charles\", \" Darwin\", \",\", \" Nikola\", \" Tesla\", \",\", \" Iss\", \"ac\", \" Newton\", \"\\n\", \"Answer\", \":\"], \"values\": [0.014531157910823822, 0.00684388680383563, 0.007928106933832169, 0.014138638973236084, 0.005973741412162781, 0.012166894972324371, 0.005332253873348236, 0.014096543192863464, 0.021007895469665527, 0.012418508529663086, 0.011241242289543152, 0.005837734788656235, 0.004595497623085976, 0.003451375290751457, 0.00701402872800827, 0.002151336520910263, 0.0023149894550442696, 0.003910459578037262, 0.00860616471618414, 0.004084337502717972, 0.021341346204280853, 0.018672697246074677, 0.005288457497954369, 0.002320696599781513, 0.0072706229984760284, 0.0026772692799568176, 0.001904727891087532, 0.007388472557067871, 0.0010460303165018559, 0.001249407883733511, 0.0021574138663709164, 0.03445255756378174, 0.06900359690189362, 0.040309906005859375]}\n",
       "    )\n",
       "    </script>"
      ],
      "text/plain": [
       "<circuitsvis.utils.render.RenderedHTML at 0x7fc1680bbf10>"
      ]
     },
     "metadata": {},
     "output_type": "display_data"
    },
    {
     "name": "stdout",
     "output_type": "stream",
     "text": [
      "--------------------------------------------------------------------------------\n"
     ]
    },
    {
     "data": {
      "text/plain": [
       "[PredictedToken(token=' Gro', prob=0.94140625, logit=26.375, token_id=17888, metadata=None),\n",
       " PredictedToken(token=' The', prob=0.0322265625, logit=23.0, token_id=576, metadata=None),\n",
       " PredictedToken(token=' To', prob=0.005584716796875, logit=21.25, token_id=2014, metadata=None),\n",
       " PredictedToken(token=' Among', prob=0.00494384765625, logit=21.125, token_id=21658, metadata=None),\n",
       " PredictedToken(token=' \\n', prob=0.004364013671875, logit=21.0, token_id=715, metadata=None)]"
      ]
     },
     "execution_count": 46,
     "metadata": {},
     "output_type": "execute_result"
    }
   ],
   "source": [
    "options = [\"Marie Curie\", \"Albert Einstein\", \"Grover Cleveland\", \"Charles Darwin\", \"Nikola Tesla\", \"Issac Newton\"]\n",
    "prompt_template = \"\"\"Which of these people is not a scientist?\n",
    "options: {}\n",
    "Answer:\"\"\"\n",
    "prompt = prompt_template.format(\n",
    "    \", \".join(options)\n",
    ")\n",
    "print(prompt)\n",
    "\n",
    "predict_next_token(\n",
    "    mt=mt,\n",
    "    inputs=prompt,\n",
    ")\n",
    "\n",
    "tokenized = prepare_input(\n",
    "    tokenizer=mt,\n",
    "    prompts=prompt,\n",
    "    add_bos_token=\"qwen\" in mt.name.lower()\n",
    ")\n",
    "\n",
    "attn_matrices = get_attention_matrices(\n",
    "    input=tokenized,\n",
    "    mt=mt,\n",
    "    value_weighted=False,\n",
    "    # patches = []\n",
    ")\n",
    "\n",
    "visualize_average_attn_matrix(\n",
    "    mt=mt,\n",
    "    attn_matrices=attn_matrices,\n",
    "    prompt=prompt,\n",
    "    tokenized=tokenized,\n",
    "    layer_window=LAYERS,\n",
    ")\n",
    "\n",
    "interpret_logits(tokenizer=mt, logits=attn_matrices.logits)"
   ]
  },
  {
   "cell_type": "code",
   "execution_count": 47,
   "id": "73a9df08",
   "metadata": {},
   "outputs": [
    {
     "name": "stdout",
     "output_type": "stream",
     "text": [
      "Layer: 54, Head: 44\n"
     ]
    },
    {
     "data": {
      "text/html": [
       "<div id=\"circuits-vis-dc6b103f-a805\" style=\"margin: 15px 0;\"/>\n",
       "    <script crossorigin type=\"module\">\n",
       "    import { render, ColoredTokens } from \"https://unpkg.com/circuitsvis@1.43.3/dist/cdn/esm.js\";\n",
       "    render(\n",
       "      \"circuits-vis-dc6b103f-a805\",\n",
       "      ColoredTokens,\n",
       "      {\"tokens\": [\" Which\", \" of\", \" these\", \" people\", \" is\", \" not\", \" a\", \" scientist\", \"?\\n\", \"options\", \":\", \" Marie\", \" Cur\", \"ie\", \",\", \" Albert\", \" Einstein\", \",\", \" Gro\", \"ver\", \" Cleveland\", \",\", \" Charles\", \" Darwin\", \",\", \" Nikola\", \" Tesla\", \",\", \" Iss\", \"ac\", \" Newton\", \"\\n\", \"Answer\", \":\"], \"values\": [0.000518798828125, 1.9073486328125e-05, 0.00021648406982421875, 0.000263214111328125, 0.00022220611572265625, 0.00494384765625, 0.00017547607421875, 0.0002689361572265625, 0.01007080078125, 4.4345855712890625e-05, 0.00010156631469726562, 0.000102996826171875, 8.296966552734375e-05, 5.1975250244140625e-05, 0.0004444122314453125, 0.00011682510375976562, 0.0003223419189453125, 0.000499725341796875, 0.01080322265625, 0.04296875, 0.43359375, 0.447265625, 0.000545501708984375, 0.000484466552734375, 0.0002231597900390625, 0.0002899169921875, 9.250640869140625e-05, 0.0001544952392578125, 1.5854835510253906e-05, 0.0005950927734375, 0.00010967254638671875, 0.00010824203491210938, 1.9073486328125e-05, 0.0036163330078125]}\n",
       "    )\n",
       "    </script>"
      ],
      "text/plain": [
       "<circuitsvis.utils.render.RenderedHTML at 0x7fbf420b0d10>"
      ]
     },
     "metadata": {},
     "output_type": "display_data"
    },
    {
     "name": "stdout",
     "output_type": "stream",
     "text": [
      "Layer: 54, Head: 63\n"
     ]
    },
    {
     "data": {
      "text/html": [
       "<div id=\"circuits-vis-f7d62782-e126\" style=\"margin: 15px 0;\"/>\n",
       "    <script crossorigin type=\"module\">\n",
       "    import { render, ColoredTokens } from \"https://unpkg.com/circuitsvis@1.43.3/dist/cdn/esm.js\";\n",
       "    render(\n",
       "      \"circuits-vis-f7d62782-e126\",\n",
       "      ColoredTokens,\n",
       "      {\"tokens\": [\" Which\", \" of\", \" these\", \" people\", \" is\", \" not\", \" a\", \" scientist\", \"?\\n\", \"options\", \":\", \" Marie\", \" Cur\", \"ie\", \",\", \" Albert\", \" Einstein\", \",\", \" Gro\", \"ver\", \" Cleveland\", \",\", \" Charles\", \" Darwin\", \",\", \" Nikola\", \" Tesla\", \",\", \" Iss\", \"ac\", \" Newton\", \"\\n\", \"Answer\", \":\"], \"values\": [0.0005645751953125, 0.0003261566162109375, 0.0003814697265625, 0.0002574920654296875, 0.0002613067626953125, 0.0030364990234375, 0.00018024444580078125, 0.001190185546875, 0.0045166015625, 0.000690460205078125, 0.000335693359375, 0.002349853515625, 0.00083160400390625, 0.00335693359375, 0.00506591796875, 0.0011749267578125, 0.0014801025390625, 0.0023345947265625, 0.0026092529296875, 0.00653076171875, 0.06298828125, 0.84375, 0.000926971435546875, 0.0017852783203125, 0.00506591796875, 0.00128173828125, 0.000804901123046875, 0.0031890869140625, 0.005615234375, 0.00567626953125, 0.003509521484375, 0.0028076171875, 0.0002574920654296875, 0.0034637451171875]}\n",
       "    )\n",
       "    </script>"
      ],
      "text/plain": [
       "<circuitsvis.utils.render.RenderedHTML at 0x7fbed8368810>"
      ]
     },
     "metadata": {},
     "output_type": "display_data"
    },
    {
     "name": "stdout",
     "output_type": "stream",
     "text": [
      "Layer: 55, Head: 43\n"
     ]
    },
    {
     "data": {
      "text/html": [
       "<div id=\"circuits-vis-95b9953c-ee99\" style=\"margin: 15px 0;\"/>\n",
       "    <script crossorigin type=\"module\">\n",
       "    import { render, ColoredTokens } from \"https://unpkg.com/circuitsvis@1.43.3/dist/cdn/esm.js\";\n",
       "    render(\n",
       "      \"circuits-vis-95b9953c-ee99\",\n",
       "      ColoredTokens,\n",
       "      {\"tokens\": [\" Which\", \" of\", \" these\", \" people\", \" is\", \" not\", \" a\", \" scientist\", \"?\\n\", \"options\", \":\", \" Marie\", \" Cur\", \"ie\", \",\", \" Albert\", \" Einstein\", \",\", \" Gro\", \"ver\", \" Cleveland\", \",\", \" Charles\", \" Darwin\", \",\", \" Nikola\", \" Tesla\", \",\", \" Iss\", \"ac\", \" Newton\", \"\\n\", \"Answer\", \":\"], \"values\": [0.004791259765625, 0.0036163330078125, 0.00384521484375, 0.0162353515625, 0.0019378662109375, 0.00836181640625, 0.01385498046875, 0.062255859375, 0.02001953125, 0.01336669921875, 0.00384521484375, 0.022705078125, 0.006561279296875, 0.0213623046875, 0.02490234375, 0.01031494140625, 0.027587890625, 0.01080322265625, 0.016357421875, 0.029541015625, 0.1611328125, 0.146484375, 0.001068115234375, 0.022705078125, 0.031494140625, 0.00286865234375, 0.0185546875, 0.026611328125, 0.006439208984375, 0.002410888671875, 0.0189208984375, 0.01513671875, 0.0028228759765625, 0.01031494140625]}\n",
       "    )\n",
       "    </script>"
      ],
      "text/plain": [
       "<circuitsvis.utils.render.RenderedHTML at 0x7f9c51763b90>"
      ]
     },
     "metadata": {},
     "output_type": "display_data"
    },
    {
     "name": "stdout",
     "output_type": "stream",
     "text": [
      "Layer: 55, Head: 29\n"
     ]
    },
    {
     "data": {
      "text/html": [
       "<div id=\"circuits-vis-4280fe55-c344\" style=\"margin: 15px 0;\"/>\n",
       "    <script crossorigin type=\"module\">\n",
       "    import { render, ColoredTokens } from \"https://unpkg.com/circuitsvis@1.43.3/dist/cdn/esm.js\";\n",
       "    render(\n",
       "      \"circuits-vis-4280fe55-c344\",\n",
       "      ColoredTokens,\n",
       "      {\"tokens\": [\" Which\", \" of\", \" these\", \" people\", \" is\", \" not\", \" a\", \" scientist\", \"?\\n\", \"options\", \":\", \" Marie\", \" Cur\", \"ie\", \",\", \" Albert\", \" Einstein\", \",\", \" Gro\", \"ver\", \" Cleveland\", \",\", \" Charles\", \" Darwin\", \",\", \" Nikola\", \" Tesla\", \",\", \" Iss\", \"ac\", \" Newton\", \"\\n\", \"Answer\", \":\"], \"values\": [0.00133514404296875, 0.000225067138671875, 0.00121307373046875, 0.002166748046875, 0.0003948211669921875, 0.005889892578125, 0.006378173828125, 0.042236328125, 0.006622314453125, 0.0002803802490234375, 0.0004329681396484375, 0.05078125, 0.00057220458984375, 0.009033203125, 0.01324462890625, 0.0020294189453125, 0.0067138671875, 0.00537109375, 0.056884765625, 0.052490234375, 0.302734375, 0.08984375, 0.00185394287109375, 0.0142822265625, 0.0167236328125, 0.0002460479736328125, 0.0026092529296875, 0.007171630859375, 0.00055694580078125, 0.00014972686767578125, 0.00057220458984375, 0.005889892578125, 3.790855407714844e-05, 0.01043701171875]}\n",
       "    )\n",
       "    </script>"
      ],
      "text/plain": [
       "<circuitsvis.utils.render.RenderedHTML at 0x7fbe781d9c90>"
      ]
     },
     "metadata": {},
     "output_type": "display_data"
    },
    {
     "name": "stdout",
     "output_type": "stream",
     "text": [
      "Layer: 60, Head: 9\n"
     ]
    },
    {
     "data": {
      "text/html": [
       "<div id=\"circuits-vis-e4667e44-54f4\" style=\"margin: 15px 0;\"/>\n",
       "    <script crossorigin type=\"module\">\n",
       "    import { render, ColoredTokens } from \"https://unpkg.com/circuitsvis@1.43.3/dist/cdn/esm.js\";\n",
       "    render(\n",
       "      \"circuits-vis-e4667e44-54f4\",\n",
       "      ColoredTokens,\n",
       "      {\"tokens\": [\" Which\", \" of\", \" these\", \" people\", \" is\", \" not\", \" a\", \" scientist\", \"?\\n\", \"options\", \":\", \" Marie\", \" Cur\", \"ie\", \",\", \" Albert\", \" Einstein\", \",\", \" Gro\", \"ver\", \" Cleveland\", \",\", \" Charles\", \" Darwin\", \",\", \" Nikola\", \" Tesla\", \",\", \" Iss\", \"ac\", \" Newton\", \"\\n\", \"Answer\", \":\"], \"values\": [5.453824996948242e-06, 2.6971101760864258e-06, 2.6263296604156494e-07, 7.450580596923828e-06, 7.808208465576172e-06, 5.507469177246094e-05, 1.0371208190917969e-05, 8.58306884765625e-06, 7.534027099609375e-05, 1.2695789337158203e-05, 5.453824996948242e-06, 2.682209014892578e-05, 3.147125244140625e-05, 0.0003948211669921875, 0.00014495849609375, 6.437301635742188e-05, 0.000270843505859375, 0.000186920166015625, 0.003997802734375, 0.000946044921875, 0.9765625, 0.016845703125, 4.380941390991211e-06, 4.57763671875e-05, 4.172325134277344e-05, 6.437301635742188e-05, 7.104873657226562e-05, 5.173683166503906e-05, 4.172325134277344e-05, 5.173683166503906e-05, 4.863739013671875e-05, 1.3113021850585938e-05, 4.887580871582031e-06, 0.00010633468627929688]}\n",
       "    )\n",
       "    </script>"
      ],
      "text/plain": [
       "<circuitsvis.utils.render.RenderedHTML at 0x7fbf41c83810>"
      ]
     },
     "metadata": {},
     "output_type": "display_data"
    },
    {
     "name": "stdout",
     "output_type": "stream",
     "text": [
      "Layer: 60, Head: 25\n"
     ]
    },
    {
     "data": {
      "text/html": [
       "<div id=\"circuits-vis-d175f8fd-fa00\" style=\"margin: 15px 0;\"/>\n",
       "    <script crossorigin type=\"module\">\n",
       "    import { render, ColoredTokens } from \"https://unpkg.com/circuitsvis@1.43.3/dist/cdn/esm.js\";\n",
       "    render(\n",
       "      \"circuits-vis-d175f8fd-fa00\",\n",
       "      ColoredTokens,\n",
       "      {\"tokens\": [\" Which\", \" of\", \" these\", \" people\", \" is\", \" not\", \" a\", \" scientist\", \"?\\n\", \"options\", \":\", \" Marie\", \" Cur\", \"ie\", \",\", \" Albert\", \" Einstein\", \",\", \" Gro\", \"ver\", \" Cleveland\", \",\", \" Charles\", \" Darwin\", \",\", \" Nikola\", \" Tesla\", \",\", \" Iss\", \"ac\", \" Newton\", \"\\n\", \"Answer\", \":\"], \"values\": [0.007293701171875, 0.00341796875, 0.00274658203125, 0.0031280517578125, 0.0036468505859375, 0.004119873046875, 0.0004482269287109375, 0.0006866455078125, 0.00958251953125, 0.01226806640625, 0.00225830078125, 0.00238037109375, 0.0020294189453125, 0.002838134765625, 0.036376953125, 0.000804901123046875, 0.00189208984375, 0.003753662109375, 0.041259765625, 0.046142578125, 0.451171875, 0.2060546875, 0.0001850128173828125, 0.00165557861328125, 0.004150390625, 0.0004100799560546875, 0.00084686279296875, 0.002899169921875, 0.0002689361572265625, 0.001251220703125, 0.000270843505859375, 0.0107421875, 0.004730224609375, 0.072265625]}\n",
       "    )\n",
       "    </script>"
      ],
      "text/plain": [
       "<circuitsvis.utils.render.RenderedHTML at 0x7fbe781fb790>"
      ]
     },
     "metadata": {},
     "output_type": "display_data"
    },
    {
     "name": "stdout",
     "output_type": "stream",
     "text": [
      "Layer: 60, Head: 42\n"
     ]
    },
    {
     "data": {
      "text/html": [
       "<div id=\"circuits-vis-19b1dcec-b34b\" style=\"margin: 15px 0;\"/>\n",
       "    <script crossorigin type=\"module\">\n",
       "    import { render, ColoredTokens } from \"https://unpkg.com/circuitsvis@1.43.3/dist/cdn/esm.js\";\n",
       "    render(\n",
       "      \"circuits-vis-19b1dcec-b34b\",\n",
       "      ColoredTokens,\n",
       "      {\"tokens\": [\" Which\", \" of\", \" these\", \" people\", \" is\", \" not\", \" a\", \" scientist\", \"?\\n\", \"options\", \":\", \" Marie\", \" Cur\", \"ie\", \",\", \" Albert\", \" Einstein\", \",\", \" Gro\", \"ver\", \" Cleveland\", \",\", \" Charles\", \" Darwin\", \",\", \" Nikola\", \" Tesla\", \",\", \" Iss\", \"ac\", \" Newton\", \"\\n\", \"Answer\", \":\"], \"values\": [0.00115966796875, 0.000667572021484375, 0.0009918212890625, 0.00152587890625, 0.00274658203125, 0.01092529296875, 0.001068115234375, 0.000568389892578125, 0.0186767578125, 0.0024261474609375, 0.00188446044921875, 0.000278472900390625, 0.000823974609375, 0.00049591064453125, 0.00106048583984375, 0.00060272216796875, 0.001434326171875, 0.0020294189453125, 0.01141357421875, 0.023193359375, 0.64453125, 0.2197265625, 4.982948303222656e-05, 0.0003204345703125, 0.0023651123046875, 0.000209808349609375, 0.00089263916015625, 0.0021514892578125, 0.00015163421630859375, 0.0003261566162109375, 0.000762939453125, 0.007049560546875, 0.00030517578125, 0.017822265625]}\n",
       "    )\n",
       "    </script>"
      ],
      "text/plain": [
       "<circuitsvis.utils.render.RenderedHTML at 0x7fbed82d1c90>"
      ]
     },
     "metadata": {},
     "output_type": "display_data"
    },
    {
     "name": "stdout",
     "output_type": "stream",
     "text": [
      "Layer: 67, Head: 51\n"
     ]
    },
    {
     "data": {
      "text/html": [
       "<div id=\"circuits-vis-728af7e9-63ef\" style=\"margin: 15px 0;\"/>\n",
       "    <script crossorigin type=\"module\">\n",
       "    import { render, ColoredTokens } from \"https://unpkg.com/circuitsvis@1.43.3/dist/cdn/esm.js\";\n",
       "    render(\n",
       "      \"circuits-vis-728af7e9-63ef\",\n",
       "      ColoredTokens,\n",
       "      {\"tokens\": [\" Which\", \" of\", \" these\", \" people\", \" is\", \" not\", \" a\", \" scientist\", \"?\\n\", \"options\", \":\", \" Marie\", \" Cur\", \"ie\", \",\", \" Albert\", \" Einstein\", \",\", \" Gro\", \"ver\", \" Cleveland\", \",\", \" Charles\", \" Darwin\", \",\", \" Nikola\", \" Tesla\", \",\", \" Iss\", \"ac\", \" Newton\", \"\\n\", \"Answer\", \":\"], \"values\": [0.00070953369140625, 0.0004291534423828125, 0.0007781982421875, 0.006072998046875, 0.00518798828125, 0.005706787109375, 0.00115203857421875, 0.0002727508544921875, 0.005584716796875, 0.00014591217041015625, 0.00075531005859375, 0.002166748046875, 0.0007781982421875, 0.00051116943359375, 0.0028076171875, 0.00081634521484375, 0.00024127960205078125, 0.0062255859375, 0.10205078125, 0.012939453125, 0.578125, 0.01141357421875, 0.0002956390380859375, 0.0004100799560546875, 0.00185394287109375, 0.000896453857421875, 0.000339508056640625, 0.005218505859375, 0.00160980224609375, 0.00012111663818359375, 0.000133514404296875, 0.00726318359375, 0.00012493133544921875, 0.0120849609375]}\n",
       "    )\n",
       "    </script>"
      ],
      "text/plain": [
       "<circuitsvis.utils.render.RenderedHTML at 0x7fbe781a3810>"
      ]
     },
     "metadata": {},
     "output_type": "display_data"
    }
   ],
   "source": [
    "for layer_idx, head_idx in HEADS:\n",
    "    print(\n",
    "        f\"Layer: {layer_idx}, Head: {head_idx}\"\n",
    "    )\n",
    "\n",
    "    head_matrix = torch.Tensor(attn_matrices.attention_matrices[layer_idx, head_idx]).squeeze()\n",
    "    visualize_attn_matrix(\n",
    "        attn_matrix=head_matrix,\n",
    "        tokens=[mt.tokenizer.decode(t) for t in tokenized.input_ids[0]],\n",
    "        q_index=-1,\n",
    "        start_from=1\n",
    "    )"
   ]
  },
  {
   "cell_type": "code",
   "execution_count": 48,
   "id": "027d93d2",
   "metadata": {},
   "outputs": [
    {
     "name": "stdout",
     "output_type": "stream",
     "text": [
      "Which of these people is a politician or a scientist?\n",
      "options: Michael Jordan, Serena Williams, Justin Trudeau, Mike Tyson, Carl Sagan, Tom Cruise\n",
      "Answer:\n",
      " The politicians and scientists from the list are Justin Trudeau, who is a Canadian politician and the 2\n",
      "layer=54\n"
     ]
    },
    {
     "data": {
      "text/html": [
       "<div id=\"circuits-vis-68062276-2b9a\" style=\"margin: 15px 0;\"/>\n",
       "    <script crossorigin type=\"module\">\n",
       "    import { render, ColoredTokens } from \"https://unpkg.com/circuitsvis@1.43.3/dist/cdn/esm.js\";\n",
       "    render(\n",
       "      \"circuits-vis-68062276-2b9a\",\n",
       "      ColoredTokens,\n",
       "      {\"tokens\": [\" Which\", \" of\", \" these\", \" people\", \" is\", \" a\", \" politician\", \" or\", \" a\", \" scientist\", \"?\\n\", \"options\", \":\", \" Michael\", \" Jordan\", \",\", \" Serena\", \" Williams\", \",\", \" Justin\", \" Trudeau\", \",\", \" Mike\", \" Tyson\", \",\", \" Carl\", \" S\", \"agan\", \",\", \" Tom\", \" Cruise\", \"\\n\", \"Answer\", \":\"], \"values\": [0.01907762885093689, 0.013288820162415504, 0.005321862176060677, 0.0037578903138637543, 0.002805374562740326, 0.003251168876886368, 0.012763835489749908, 0.008426211774349213, 0.006799094378948212, 0.010255254805088043, 0.06057765707373619, 0.016243506222963333, 0.012197423726320267, 0.018501460552215576, 0.009283523075282574, 0.018403131514787674, 0.0027642170898616314, 0.012010681442916393, 0.005122656002640724, 0.002473235595971346, 0.013636364601552486, 0.02018536813557148, 0.00257411552593112, 0.007432960905134678, 0.009370764717459679, 0.005209689028561115, 0.018500734120607376, 0.016808081418275833, 0.015939531847834587, 0.0026487738359719515, 0.005852212198078632, 0.03303449973464012, 0.02615102380514145, 0.04475972056388855]}\n",
       "    )\n",
       "    </script>"
      ],
      "text/plain": [
       "<circuitsvis.utils.render.RenderedHTML at 0x7fbe981a39d0>"
      ]
     },
     "metadata": {},
     "output_type": "display_data"
    },
    {
     "name": "stdout",
     "output_type": "stream",
     "text": [
      "--------------------------------------------------------------------------------\n",
      "layer=60\n"
     ]
    },
    {
     "data": {
      "text/html": [
       "<div id=\"circuits-vis-4d43713f-d0a0\" style=\"margin: 15px 0;\"/>\n",
       "    <script crossorigin type=\"module\">\n",
       "    import { render, ColoredTokens } from \"https://unpkg.com/circuitsvis@1.43.3/dist/cdn/esm.js\";\n",
       "    render(\n",
       "      \"circuits-vis-4d43713f-d0a0\",\n",
       "      ColoredTokens,\n",
       "      {\"tokens\": [\" Which\", \" of\", \" these\", \" people\", \" is\", \" a\", \" politician\", \" or\", \" a\", \" scientist\", \"?\\n\", \"options\", \":\", \" Michael\", \" Jordan\", \",\", \" Serena\", \" Williams\", \",\", \" Justin\", \" Trudeau\", \",\", \" Mike\", \" Tyson\", \",\", \" Carl\", \" S\", \"agan\", \",\", \" Tom\", \" Cruise\", \"\\n\", \"Answer\", \":\"], \"values\": [0.004775207489728928, 0.006130184978246689, 0.007776737213134766, 0.009498286992311478, 0.008011927828192711, 0.006053653545677662, 0.045432910323143005, 0.018547285348176956, 0.009519744664430618, 0.03763411194086075, 0.04705385863780975, 0.010075805708765984, 0.005432112142443657, 0.013134181499481201, 0.012202535755932331, 0.016616739332675934, 0.004517165943980217, 0.014416689984500408, 0.010284640826284885, 0.004232702776789665, 0.08828402310609818, 0.0517466738820076, 0.004192273132503033, 0.013557495549321175, 0.021703673526644707, 0.007043753284960985, 0.0054130759090185165, 0.0278942734003067, 0.015632987022399902, 0.002446406055241823, 0.007167469244450331, 0.026276614516973495, 0.023555412888526917, 0.06419287621974945]}\n",
       "    )\n",
       "    </script>"
      ],
      "text/plain": [
       "<circuitsvis.utils.render.RenderedHTML at 0x7fbed8378090>"
      ]
     },
     "metadata": {},
     "output_type": "display_data"
    },
    {
     "name": "stdout",
     "output_type": "stream",
     "text": [
      "--------------------------------------------------------------------------------\n",
      "layer=67\n"
     ]
    },
    {
     "data": {
      "text/html": [
       "<div id=\"circuits-vis-900e7857-9562\" style=\"margin: 15px 0;\"/>\n",
       "    <script crossorigin type=\"module\">\n",
       "    import { render, ColoredTokens } from \"https://unpkg.com/circuitsvis@1.43.3/dist/cdn/esm.js\";\n",
       "    render(\n",
       "      \"circuits-vis-900e7857-9562\",\n",
       "      ColoredTokens,\n",
       "      {\"tokens\": [\" Which\", \" of\", \" these\", \" people\", \" is\", \" a\", \" politician\", \" or\", \" a\", \" scientist\", \"?\\n\", \"options\", \":\", \" Michael\", \" Jordan\", \",\", \" Serena\", \" Williams\", \",\", \" Justin\", \" Trudeau\", \",\", \" Mike\", \" Tyson\", \",\", \" Carl\", \" S\", \"agan\", \",\", \" Tom\", \" Cruise\", \"\\n\", \"Answer\", \":\"], \"values\": [0.011953867971897125, 0.006293292157351971, 0.00843697227537632, 0.013215512037277222, 0.006217595189809799, 0.009114537388086319, 0.040440499782562256, 0.012551240622997284, 0.0036073215305805206, 0.01139872893691063, 0.030769526958465576, 0.007034307345747948, 0.008447658270597458, 0.016559138894081116, 0.004178969189524651, 0.007858037948608398, 0.002478204667568207, 0.0021092784591019154, 0.006631679832935333, 0.005772942677140236, 0.035163216292858124, 0.009805262088775635, 0.003576386719942093, 0.0011639867443591356, 0.003426153212785721, 0.00355466827750206, 0.004166804254055023, 0.0031890650279819965, 0.006465047597885132, 0.0012251264415681362, 0.0020548582542687654, 0.024381816387176514, 0.05339860916137695, 0.030599772930145264]}\n",
       "    )\n",
       "    </script>"
      ],
      "text/plain": [
       "<circuitsvis.utils.render.RenderedHTML at 0x7fbf43057f10>"
      ]
     },
     "metadata": {},
     "output_type": "display_data"
    },
    {
     "name": "stdout",
     "output_type": "stream",
     "text": [
      "--------------------------------------------------------------------------------\n"
     ]
    },
    {
     "data": {
      "text/plain": [
       "[PredictedToken(token=' The', prob=0.400390625, logit=25.5, token_id=576, metadata=None),\n",
       " PredictedToken(token=' Justin', prob=0.3515625, logit=25.375, token_id=22467, metadata=None),\n",
       " PredictedToken(token=' Among', prob=0.1298828125, logit=24.375, token_id=21658, metadata=None),\n",
       " PredictedToken(token=' From', prob=0.07861328125, logit=23.875, token_id=5542, metadata=None),\n",
       " PredictedToken(token=' Carl', prob=0.0093994140625, logit=21.75, token_id=21998, metadata=None)]"
      ]
     },
     "execution_count": 48,
     "metadata": {},
     "output_type": "execute_result"
    }
   ],
   "source": [
    "options = [\"Michael Jordan\", \"Serena Williams\", \"Justin Trudeau\", \"Mike Tyson\", \"Carl Sagan\", \"Tom Cruise\"]\n",
    "prompt_template = \"\"\"Which of these people is a politician or a scientist?\n",
    "options: {}\n",
    "Answer:\"\"\"\n",
    "\n",
    "prompt = prompt_template.format(\n",
    "    \", \".join(options)\n",
    ")\n",
    "print(prompt)\n",
    "gen = generate_with_patch(\n",
    "    mt=mt,\n",
    "    inputs=prompt,\n",
    "    n_gen_per_prompt=1,\n",
    "    max_new_tokens=20,\n",
    "    remove_prefix=True,\n",
    ")[0]\n",
    "print(gen)\n",
    "\n",
    "tokenized = prepare_input(\n",
    "    tokenizer=mt,\n",
    "    prompts=prompt,\n",
    "    add_bos_token=\"qwen\" in mt.name.lower()\n",
    ")\n",
    "\n",
    "attn_matrices = get_attention_matrices(\n",
    "    input=tokenized,\n",
    "    mt=mt,\n",
    "    value_weighted=False,\n",
    "    # patches = []\n",
    ")\n",
    "\n",
    "visualize_average_attn_matrix(\n",
    "    mt=mt,\n",
    "    attn_matrices=attn_matrices,\n",
    "    prompt=prompt,\n",
    "    tokenized=tokenized,\n",
    "    layer_window=LAYERS,\n",
    ")\n",
    "\n",
    "interpret_logits(tokenizer=mt, logits=attn_matrices.logits)"
   ]
  },
  {
   "cell_type": "code",
   "execution_count": 49,
   "id": "414081ff",
   "metadata": {},
   "outputs": [
    {
     "name": "stdout",
     "output_type": "stream",
     "text": [
      "Layer: 54, Head: 44\n"
     ]
    },
    {
     "data": {
      "text/html": [
       "<div id=\"circuits-vis-1f8812f8-0d80\" style=\"margin: 15px 0;\"/>\n",
       "    <script crossorigin type=\"module\">\n",
       "    import { render, ColoredTokens } from \"https://unpkg.com/circuitsvis@1.43.3/dist/cdn/esm.js\";\n",
       "    render(\n",
       "      \"circuits-vis-1f8812f8-0d80\",\n",
       "      ColoredTokens,\n",
       "      {\"tokens\": [\" Which\", \" of\", \" these\", \" people\", \" is\", \" a\", \" politician\", \" or\", \" a\", \" scientist\", \"?\\n\", \"options\", \":\", \" Michael\", \" Jordan\", \",\", \" Serena\", \" Williams\", \",\", \" Justin\", \" Trudeau\", \",\", \" Mike\", \" Tyson\", \",\", \" Carl\", \" S\", \"agan\", \",\", \" Tom\", \" Cruise\", \"\\n\", \"Answer\", \":\"], \"values\": [0.000263214111328125, 3.3855438232421875e-05, 4.482269287109375e-05, 0.00015163421630859375, 0.00011491775512695312, 0.00128936767578125, 0.041748046875, 0.01025390625, 0.0020599365234375, 0.0751953125, 0.00150299072265625, 2.2649765014648438e-05, 0.000118255615234375, 0.00537109375, 0.014892578125, 0.000873565673828125, 0.0037689208984375, 0.0020294189453125, 0.00164794921875, 0.004058837890625, 0.2177734375, 0.050048828125, 0.00177764892578125, 0.001708984375, 0.000331878662109375, 0.0654296875, 1.329183578491211e-05, 0.34765625, 0.0203857421875, 0.0003871917724609375, 0.000713348388671875, 0.00020122528076171875, 3.3527612686157227e-06, 0.00701904296875]}\n",
       "    )\n",
       "    </script>"
      ],
      "text/plain": [
       "<circuitsvis.utils.render.RenderedHTML at 0x7f9c51763d90>"
      ]
     },
     "metadata": {},
     "output_type": "display_data"
    },
    {
     "name": "stdout",
     "output_type": "stream",
     "text": [
      "Layer: 54, Head: 63\n"
     ]
    },
    {
     "data": {
      "text/html": [
       "<div id=\"circuits-vis-e8dc50d3-bf99\" style=\"margin: 15px 0;\"/>\n",
       "    <script crossorigin type=\"module\">\n",
       "    import { render, ColoredTokens } from \"https://unpkg.com/circuitsvis@1.43.3/dist/cdn/esm.js\";\n",
       "    render(\n",
       "      \"circuits-vis-e8dc50d3-bf99\",\n",
       "      ColoredTokens,\n",
       "      {\"tokens\": [\" Which\", \" of\", \" these\", \" people\", \" is\", \" a\", \" politician\", \" or\", \" a\", \" scientist\", \"?\\n\", \"options\", \":\", \" Michael\", \" Jordan\", \",\", \" Serena\", \" Williams\", \",\", \" Justin\", \" Trudeau\", \",\", \" Mike\", \" Tyson\", \",\", \" Carl\", \" S\", \"agan\", \",\", \" Tom\", \" Cruise\", \"\\n\", \"Answer\", \":\"], \"values\": [0.0001220703125, 0.00014495849609375, 0.00011157989501953125, 3.910064697265625e-05, 6.246566772460938e-05, 0.00012063980102539062, 0.00115203857421875, 0.000659942626953125, 0.0003662109375, 0.00482177734375, 0.00109100341796875, 0.00069427490234375, 0.00063323974609375, 0.0031890869140625, 0.001678466796875, 0.00958251953125, 0.0003719329833984375, 0.000247955322265625, 0.00135040283203125, 0.00102996826171875, 0.0908203125, 0.37109375, 0.00015735626220703125, 0.0009765625, 0.002349853515625, 0.013916015625, 0.000682830810546875, 0.21484375, 0.2470703125, 9.679794311523438e-05, 0.00081634521484375, 0.0123291015625, 0.0002841949462890625, 0.002777099609375]}\n",
       "    )\n",
       "    </script>"
      ],
      "text/plain": [
       "<circuitsvis.utils.render.RenderedHTML at 0x7fbe781aa150>"
      ]
     },
     "metadata": {},
     "output_type": "display_data"
    },
    {
     "name": "stdout",
     "output_type": "stream",
     "text": [
      "Layer: 55, Head: 43\n"
     ]
    },
    {
     "data": {
      "text/html": [
       "<div id=\"circuits-vis-5841a2c3-ecfb\" style=\"margin: 15px 0;\"/>\n",
       "    <script crossorigin type=\"module\">\n",
       "    import { render, ColoredTokens } from \"https://unpkg.com/circuitsvis@1.43.3/dist/cdn/esm.js\";\n",
       "    render(\n",
       "      \"circuits-vis-5841a2c3-ecfb\",\n",
       "      ColoredTokens,\n",
       "      {\"tokens\": [\" Which\", \" of\", \" these\", \" people\", \" is\", \" a\", \" politician\", \" or\", \" a\", \" scientist\", \"?\\n\", \"options\", \":\", \" Michael\", \" Jordan\", \",\", \" Serena\", \" Williams\", \",\", \" Justin\", \" Trudeau\", \",\", \" Mike\", \" Tyson\", \",\", \" Carl\", \" S\", \"agan\", \",\", \" Tom\", \" Cruise\", \"\\n\", \"Answer\", \":\"], \"values\": [0.00156402587890625, 0.00213623046875, 0.0020751953125, 0.0027313232421875, 0.0005950927734375, 0.00162506103515625, 0.007659912109375, 0.033935546875, 0.003082275390625, 0.064453125, 0.01092529296875, 0.00299072265625, 0.00107574462890625, 0.007171630859375, 0.06298828125, 0.041015625, 0.003662109375, 0.0712890625, 0.0400390625, 0.0029449462890625, 0.06591796875, 0.056396484375, 0.00156402587890625, 0.042724609375, 0.07421875, 0.0634765625, 0.0011138916015625, 0.09521484375, 0.11669921875, 0.001495361328125, 0.046142578125, 0.0306396484375, 0.000621795654296875, 0.00897216796875]}\n",
       "    )\n",
       "    </script>"
      ],
      "text/plain": [
       "<circuitsvis.utils.render.RenderedHTML at 0x7fbe981b1d10>"
      ]
     },
     "metadata": {},
     "output_type": "display_data"
    },
    {
     "name": "stdout",
     "output_type": "stream",
     "text": [
      "Layer: 55, Head: 29\n"
     ]
    },
    {
     "data": {
      "text/html": [
       "<div id=\"circuits-vis-75758093-a99a\" style=\"margin: 15px 0;\"/>\n",
       "    <script crossorigin type=\"module\">\n",
       "    import { render, ColoredTokens } from \"https://unpkg.com/circuitsvis@1.43.3/dist/cdn/esm.js\";\n",
       "    render(\n",
       "      \"circuits-vis-75758093-a99a\",\n",
       "      ColoredTokens,\n",
       "      {\"tokens\": [\" Which\", \" of\", \" these\", \" people\", \" is\", \" a\", \" politician\", \" or\", \" a\", \" scientist\", \"?\\n\", \"options\", \":\", \" Michael\", \" Jordan\", \",\", \" Serena\", \" Williams\", \",\", \" Justin\", \" Trudeau\", \",\", \" Mike\", \" Tyson\", \",\", \" Carl\", \" S\", \"agan\", \",\", \" Tom\", \" Cruise\", \"\\n\", \"Answer\", \":\"], \"values\": [0.001251220703125, 0.000457763671875, 0.003173828125, 0.0024871826171875, 0.00099945068359375, 0.0028839111328125, 0.01025390625, 0.01251220703125, 0.00885009765625, 0.12890625, 0.003936767578125, 0.0007781982421875, 0.0004711151123046875, 0.006622314453125, 0.0078125, 0.0150146484375, 0.001251220703125, 0.0025787353515625, 0.0079345703125, 0.004974365234375, 0.09716796875, 0.061767578125, 0.004791259765625, 0.0113525390625, 0.00732421875, 0.11181640625, 0.00028228759765625, 0.328125, 0.0830078125, 0.003021240234375, 0.021484375, 0.01007080078125, 6.67572021484375e-05, 0.00360107421875]}\n",
       "    )\n",
       "    </script>"
      ],
      "text/plain": [
       "<circuitsvis.utils.render.RenderedHTML at 0x7f9c517cc1d0>"
      ]
     },
     "metadata": {},
     "output_type": "display_data"
    },
    {
     "name": "stdout",
     "output_type": "stream",
     "text": [
      "Layer: 60, Head: 9\n"
     ]
    },
    {
     "data": {
      "text/html": [
       "<div id=\"circuits-vis-83370511-ddf0\" style=\"margin: 15px 0;\"/>\n",
       "    <script crossorigin type=\"module\">\n",
       "    import { render, ColoredTokens } from \"https://unpkg.com/circuitsvis@1.43.3/dist/cdn/esm.js\";\n",
       "    render(\n",
       "      \"circuits-vis-83370511-ddf0\",\n",
       "      ColoredTokens,\n",
       "      {\"tokens\": [\" Which\", \" of\", \" these\", \" people\", \" is\", \" a\", \" politician\", \" or\", \" a\", \" scientist\", \"?\\n\", \"options\", \":\", \" Michael\", \" Jordan\", \",\", \" Serena\", \" Williams\", \",\", \" Justin\", \" Trudeau\", \",\", \" Mike\", \" Tyson\", \",\", \" Carl\", \" S\", \"agan\", \",\", \" Tom\", \" Cruise\", \"\\n\", \"Answer\", \":\"], \"values\": [1.7642974853515625e-05, 3.361701965332031e-05, 3.337860107421875e-06, 4.172325134277344e-05, 8.440017700195312e-05, 0.00020885467529296875, 0.002716064453125, 0.0003452301025390625, 0.0002593994140625, 0.0027923583984375, 8.726119995117188e-05, 4.458427429199219e-05, 5.2928924560546875e-05, 0.0006256103515625, 0.0005340576171875, 0.0003662109375, 7.915496826171875e-05, 0.0001735687255859375, 0.000728607177734375, 0.004913330078125, 0.87890625, 0.072265625, 0.0003910064697265625, 0.00015735626220703125, 0.00014781951904296875, 0.004913330078125, 6.079673767089844e-05, 0.0234375, 0.00347900390625, 5.9604644775390625e-06, 4.9591064453125e-05, 7.599592208862305e-06, 0.00018978118896484375, 0.00131988525390625]}\n",
       "    )\n",
       "    </script>"
      ],
      "text/plain": [
       "<circuitsvis.utils.render.RenderedHTML at 0x7f9c5166e9d0>"
      ]
     },
     "metadata": {},
     "output_type": "display_data"
    },
    {
     "name": "stdout",
     "output_type": "stream",
     "text": [
      "Layer: 60, Head: 25\n"
     ]
    },
    {
     "data": {
      "text/html": [
       "<div id=\"circuits-vis-df9ec6a8-9974\" style=\"margin: 15px 0;\"/>\n",
       "    <script crossorigin type=\"module\">\n",
       "    import { render, ColoredTokens } from \"https://unpkg.com/circuitsvis@1.43.3/dist/cdn/esm.js\";\n",
       "    render(\n",
       "      \"circuits-vis-df9ec6a8-9974\",\n",
       "      ColoredTokens,\n",
       "      {\"tokens\": [\" Which\", \" of\", \" these\", \" people\", \" is\", \" a\", \" politician\", \" or\", \" a\", \" scientist\", \"?\\n\", \"options\", \":\", \" Michael\", \" Jordan\", \",\", \" Serena\", \" Williams\", \",\", \" Justin\", \" Trudeau\", \",\", \" Mike\", \" Tyson\", \",\", \" Carl\", \" S\", \"agan\", \",\", \" Tom\", \" Cruise\", \"\\n\", \"Answer\", \":\"], \"values\": [0.00014972686767578125, 0.00013256072998046875, 0.00010395050048828125, 0.00017070770263671875, 0.000392913818359375, 0.0002307891845703125, 0.002685546875, 0.001190185546875, 0.00150299072265625, 0.0003261566162109375, 0.000438690185546875, 0.00023651123046875, 0.0001087188720703125, 0.0010528564453125, 0.0001964569091796875, 0.00083160400390625, 5.555152893066406e-05, 5.602836608886719e-06, 0.0001773834228515625, 0.0010223388671875, 0.78125, 0.197265625, 5.054473876953125e-05, 1.7404556274414062e-05, 5.781650543212891e-06, 0.00042724609375, 5.424022674560547e-06, 0.00396728515625, 0.00176239013671875, 5.21540641784668e-07, 6.645917892456055e-06, 5.507469177246094e-05, 0.0002956390380859375, 0.003143310546875]}\n",
       "    )\n",
       "    </script>"
      ],
      "text/plain": [
       "<circuitsvis.utils.render.RenderedHTML at 0x7f9c51763e10>"
      ]
     },
     "metadata": {},
     "output_type": "display_data"
    },
    {
     "name": "stdout",
     "output_type": "stream",
     "text": [
      "Layer: 60, Head: 42\n"
     ]
    },
    {
     "data": {
      "text/html": [
       "<div id=\"circuits-vis-651f003d-a71b\" style=\"margin: 15px 0;\"/>\n",
       "    <script crossorigin type=\"module\">\n",
       "    import { render, ColoredTokens } from \"https://unpkg.com/circuitsvis@1.43.3/dist/cdn/esm.js\";\n",
       "    render(\n",
       "      \"circuits-vis-651f003d-a71b\",\n",
       "      ColoredTokens,\n",
       "      {\"tokens\": [\" Which\", \" of\", \" these\", \" people\", \" is\", \" a\", \" politician\", \" or\", \" a\", \" scientist\", \"?\\n\", \"options\", \":\", \" Michael\", \" Jordan\", \",\", \" Serena\", \" Williams\", \",\", \" Justin\", \" Trudeau\", \",\", \" Mike\", \" Tyson\", \",\", \" Carl\", \" S\", \"agan\", \",\", \" Tom\", \" Cruise\", \"\\n\", \"Answer\", \":\"], \"values\": [0.0007171630859375, 0.00099945068359375, 0.000659942626953125, 0.001983642578125, 0.0059814453125, 0.010986328125, 0.046630859375, 0.00738525390625, 0.009033203125, 0.006866455078125, 0.01141357421875, 0.00063323974609375, 0.001983642578125, 0.000591278076171875, 7.915496826171875e-05, 0.0002994537353515625, 0.0001373291015625, 0.0001049041748046875, 0.003082275390625, 0.001068115234375, 0.5, 0.27734375, 2.3484230041503906e-05, 3.314018249511719e-05, 0.0001373291015625, 0.0023345947265625, 0.0001811981201171875, 0.0128173828125, 0.0069580078125, 3.6694109439849854e-07, 6.444752216339111e-07, 0.00079345703125, 0.0003452301025390625, 0.0732421875]}\n",
       "    )\n",
       "    </script>"
      ],
      "text/plain": [
       "<circuitsvis.utils.render.RenderedHTML at 0x7fbed82b77d0>"
      ]
     },
     "metadata": {},
     "output_type": "display_data"
    },
    {
     "name": "stdout",
     "output_type": "stream",
     "text": [
      "Layer: 67, Head: 51\n"
     ]
    },
    {
     "data": {
      "text/html": [
       "<div id=\"circuits-vis-fe73fbc4-6fe8\" style=\"margin: 15px 0;\"/>\n",
       "    <script crossorigin type=\"module\">\n",
       "    import { render, ColoredTokens } from \"https://unpkg.com/circuitsvis@1.43.3/dist/cdn/esm.js\";\n",
       "    render(\n",
       "      \"circuits-vis-fe73fbc4-6fe8\",\n",
       "      ColoredTokens,\n",
       "      {\"tokens\": [\" Which\", \" of\", \" these\", \" people\", \" is\", \" a\", \" politician\", \" or\", \" a\", \" scientist\", \"?\\n\", \"options\", \":\", \" Michael\", \" Jordan\", \",\", \" Serena\", \" Williams\", \",\", \" Justin\", \" Trudeau\", \",\", \" Mike\", \" Tyson\", \",\", \" Carl\", \" S\", \"agan\", \",\", \" Tom\", \" Cruise\", \"\\n\", \"Answer\", \":\"], \"values\": [0.0003566741943359375, 0.002471923828125, 0.000858306884765625, 0.010009765625, 0.01025390625, 0.0031585693359375, 0.03466796875, 0.0213623046875, 0.0062255859375, 0.00159454345703125, 0.0078125, 0.00028228759765625, 0.00131988525390625, 0.0025787353515625, 0.00020599365234375, 0.0033111572265625, 0.000823974609375, 0.0003528594970703125, 0.01080322265625, 0.03271484375, 0.75390625, 0.016357421875, 0.00151824951171875, 4.0531158447265625e-05, 0.00104522705078125, 0.00112152099609375, 0.0002613067626953125, 0.000858306884765625, 0.00171661376953125, 0.00010395050048828125, 0.0001316070556640625, 0.00167083740234375, 0.000644683837890625, 0.0152587890625]}\n",
       "    )\n",
       "    </script>"
      ],
      "text/plain": [
       "<circuitsvis.utils.render.RenderedHTML at 0x7fbe781f8f90>"
      ]
     },
     "metadata": {},
     "output_type": "display_data"
    }
   ],
   "source": [
    "for layer_idx, head_idx in HEADS:\n",
    "    print(\n",
    "        f\"Layer: {layer_idx}, Head: {head_idx}\"\n",
    "    )\n",
    "\n",
    "    head_matrix = torch.Tensor(attn_matrices.attention_matrices[layer_idx, head_idx]).squeeze()\n",
    "    visualize_attn_matrix(\n",
    "        attn_matrix=head_matrix,\n",
    "        tokens=[mt.tokenizer.decode(t) for t in tokenized.input_ids[0]],\n",
    "        q_index=-1,\n",
    "        start_from=1\n",
    "    )"
   ]
  },
  {
   "cell_type": "code",
   "execution_count": 52,
   "id": "60e64440",
   "metadata": {},
   "outputs": [
    {
     "name": "stdout",
     "output_type": "stream",
     "text": [
      "Which of these numbers is a multiple of 3?\n",
      "options: 48, 57, 55, 62, 39\n",
      "Answer:\n",
      " To determine which of the given numbers is a multiple of 3, we can use the rule that\n",
      "layer=54\n"
     ]
    },
    {
     "data": {
      "text/html": [
       "<div id=\"circuits-vis-aeb10289-957b\" style=\"margin: 15px 0;\"/>\n",
       "    <script crossorigin type=\"module\">\n",
       "    import { render, ColoredTokens } from \"https://unpkg.com/circuitsvis@1.43.3/dist/cdn/esm.js\";\n",
       "    render(\n",
       "      \"circuits-vis-aeb10289-957b\",\n",
       "      ColoredTokens,\n",
       "      {\"tokens\": [\" Which\", \" of\", \" these\", \" numbers\", \" is\", \" a\", \" multiple\", \" of\", \" \", \"3\", \"?\\n\", \"options\", \":\", \" \", \"4\", \"8\", \",\", \" \", \"5\", \"7\", \",\", \" \", \"5\", \"5\", \",\", \" \", \"6\", \"2\", \",\", \" \", \"3\", \"9\", \"\\n\", \"Answer\", \":\"], \"values\": [0.02881985902786255, 0.017307251691818237, 0.008761480450630188, 0.006213098764419556, 0.0023694075644016266, 0.0019770991057157516, 0.005898967385292053, 0.00334804505109787, 0.01575293205678463, 0.006056957878172398, 0.04108208417892456, 0.029321275651454926, 0.02135610580444336, 0.009420204907655716, 0.00406760536134243, 0.005526644643396139, 0.021187644451856613, 0.012302078306674957, 0.0018607042729854584, 0.003311717417091131, 0.0046086120419204235, 0.008412070572376251, 0.001565784914419055, 0.0061739785596728325, 0.00992613099515438, 0.003519064746797085, 0.001736143254674971, 0.008002395741641521, 0.007190866395831108, 0.003324890974909067, 0.002174047054722905, 0.014363870024681091, 0.03914599120616913, 0.04547959566116333, 0.04649034142494202]}\n",
       "    )\n",
       "    </script>"
      ],
      "text/plain": [
       "<circuitsvis.utils.render.RenderedHTML at 0x7fbed83516d0>"
      ]
     },
     "metadata": {},
     "output_type": "display_data"
    },
    {
     "name": "stdout",
     "output_type": "stream",
     "text": [
      "--------------------------------------------------------------------------------\n",
      "layer=60\n"
     ]
    },
    {
     "data": {
      "text/html": [
       "<div id=\"circuits-vis-e325b980-3092\" style=\"margin: 15px 0;\"/>\n",
       "    <script crossorigin type=\"module\">\n",
       "    import { render, ColoredTokens } from \"https://unpkg.com/circuitsvis@1.43.3/dist/cdn/esm.js\";\n",
       "    render(\n",
       "      \"circuits-vis-e325b980-3092\",\n",
       "      ColoredTokens,\n",
       "      {\"tokens\": [\" Which\", \" of\", \" these\", \" numbers\", \" is\", \" a\", \" multiple\", \" of\", \" \", \"3\", \"?\\n\", \"options\", \":\", \" \", \"4\", \"8\", \",\", \" \", \"5\", \"7\", \",\", \" \", \"5\", \"5\", \",\", \" \", \"6\", \"2\", \",\", \" \", \"3\", \"9\", \"\\n\", \"Answer\", \":\"], \"values\": [0.009159836918115616, 0.006914814934134483, 0.00637386180460453, 0.00665736198425293, 0.006479016039520502, 0.005940057337284088, 0.026139888912439346, 0.011141489259898663, 0.004306241404265165, 0.04826858267188072, 0.0371105894446373, 0.007956488057971, 0.009405136108398438, 0.011946141719818115, 0.007696380838751793, 0.017458394169807434, 0.02485354244709015, 0.007864221930503845, 0.005047227256000042, 0.033037200570106506, 0.01679500937461853, 0.00456822756677866, 0.005162419285625219, 0.020054584369063377, 0.023007426410913467, 0.009292904287576675, 0.003989493474364281, 0.025417111814022064, 0.007987046614289284, 0.020413435995578766, 0.004460217896848917, 0.07726261019706726, 0.04345939680933952, 0.04160035401582718, 0.053586989641189575]}\n",
       "    )\n",
       "    </script>"
      ],
      "text/plain": [
       "<circuitsvis.utils.render.RenderedHTML at 0x7fbf41ce2e10>"
      ]
     },
     "metadata": {},
     "output_type": "display_data"
    },
    {
     "name": "stdout",
     "output_type": "stream",
     "text": [
      "--------------------------------------------------------------------------------\n",
      "layer=67\n"
     ]
    },
    {
     "data": {
      "text/html": [
       "<div id=\"circuits-vis-5343d697-bd97\" style=\"margin: 15px 0;\"/>\n",
       "    <script crossorigin type=\"module\">\n",
       "    import { render, ColoredTokens } from \"https://unpkg.com/circuitsvis@1.43.3/dist/cdn/esm.js\";\n",
       "    render(\n",
       "      \"circuits-vis-5343d697-bd97\",\n",
       "      ColoredTokens,\n",
       "      {\"tokens\": [\" Which\", \" of\", \" these\", \" numbers\", \" is\", \" a\", \" multiple\", \" of\", \" \", \"3\", \"?\\n\", \"options\", \":\", \" \", \"4\", \"8\", \",\", \" \", \"5\", \"7\", \",\", \" \", \"5\", \"5\", \",\", \" \", \"6\", \"2\", \",\", \" \", \"3\", \"9\", \"\\n\", \"Answer\", \":\"], \"values\": [0.00659923255443573, 0.005898491479456425, 0.007621975615620613, 0.01064891368150711, 0.0065696388483047485, 0.007998660206794739, 0.056996360421180725, 0.017590925097465515, 0.0028168801218271255, 0.016982346773147583, 0.025221288204193115, 0.009249947965145111, 0.008731208741664886, 0.004708521068096161, 0.003871144726872444, 0.01066991314291954, 0.009757149964571, 0.0021707266569137573, 0.0027223052456974983, 0.006357811391353607, 0.004362387582659721, 0.0023160818964242935, 0.0021661941427737474, 0.0019276421517133713, 0.0020393263548612595, 0.0026852041482925415, 0.0013507315889000893, 0.0016922499053180218, 0.0023368969559669495, 0.0014929063618183136, 0.0039419373497366905, 0.01152251660823822, 0.032929062843322754, 0.051140397787094116, 0.026825308799743652]}\n",
       "    )\n",
       "    </script>"
      ],
      "text/plain": [
       "<circuitsvis.utils.render.RenderedHTML at 0x7fbe98169b10>"
      ]
     },
     "metadata": {},
     "output_type": "display_data"
    },
    {
     "name": "stdout",
     "output_type": "stream",
     "text": [
      "--------------------------------------------------------------------------------\n"
     ]
    },
    {
     "data": {
      "text/plain": [
       "[PredictedToken(token=' ', prob=0.5625, logit=25.875, token_id=220, metadata=None),\n",
       " PredictedToken(token=' To', prob=0.1826171875, logit=24.75, token_id=2014, metadata=None),\n",
       " PredictedToken(token=' The', prob=0.11083984375, logit=24.25, token_id=576, metadata=None),\n",
       " PredictedToken(token=' A', prob=0.076171875, logit=23.875, token_id=362, metadata=None),\n",
       " PredictedToken(token=' Let', prob=0.019287109375, logit=22.5, token_id=6771, metadata=None)]"
      ]
     },
     "execution_count": 52,
     "metadata": {},
     "output_type": "execute_result"
    }
   ],
   "source": [
    "options = [\"48\", \"57\", \"55\", \"62\", \"39\"]\n",
    "prompt_template = \"\"\"Which of these numbers is a multiple of 3?\n",
    "options: {}\n",
    "Answer:\"\"\"\n",
    "prompt = prompt_template.format(\n",
    "    \", \".join(options)\n",
    ")\n",
    "print(prompt)\n",
    "gen = generate_with_patch(\n",
    "    mt=mt,\n",
    "    inputs=prompt,\n",
    "    n_gen_per_prompt=1,\n",
    "    max_new_tokens=20,\n",
    "    remove_prefix=True,\n",
    ")[0]\n",
    "print(gen)\n",
    "tokenized = prepare_input(\n",
    "    tokenizer=mt,\n",
    "    prompts=prompt,\n",
    "    add_bos_token=\"qwen\" in mt.name.lower()\n",
    ")\n",
    "attn_matrices = get_attention_matrices(\n",
    "    input=tokenized,\n",
    "    mt=mt,\n",
    "    value_weighted=False,\n",
    "    # patches = []\n",
    ")\n",
    "visualize_average_attn_matrix(\n",
    "    mt=mt,\n",
    "    attn_matrices=attn_matrices,\n",
    "    prompt=prompt,\n",
    "    tokenized=tokenized,\n",
    "    layer_window=LAYERS,\n",
    ")\n",
    "interpret_logits(tokenizer=mt, logits=attn_matrices.logits)"
   ]
  },
  {
   "cell_type": "code",
   "execution_count": 53,
   "id": "cdc6ef8d",
   "metadata": {},
   "outputs": [
    {
     "name": "stdout",
     "output_type": "stream",
     "text": [
      "Layer: 54, Head: 44\n"
     ]
    },
    {
     "data": {
      "text/html": [
       "<div id=\"circuits-vis-020af1e0-d968\" style=\"margin: 15px 0;\"/>\n",
       "    <script crossorigin type=\"module\">\n",
       "    import { render, ColoredTokens } from \"https://unpkg.com/circuitsvis@1.43.3/dist/cdn/esm.js\";\n",
       "    render(\n",
       "      \"circuits-vis-020af1e0-d968\",\n",
       "      ColoredTokens,\n",
       "      {\"tokens\": [\" Which\", \" of\", \" these\", \" numbers\", \" is\", \" a\", \" multiple\", \" of\", \" \", \"3\", \"?\\n\", \"options\", \":\", \" \", \"4\", \"8\", \",\", \" \", \"5\", \"7\", \",\", \" \", \"5\", \"5\", \",\", \" \", \"6\", \"2\", \",\", \" \", \"3\", \"9\", \"\\n\", \"Answer\", \":\"], \"values\": [0.02880859375, 0.00732421875, 0.0179443359375, 0.0037384033203125, 0.004486083984375, 0.00180816650390625, 0.01275634765625, 0.006866455078125, 0.0135498046875, 0.017333984375, 0.042724609375, 0.00433349609375, 0.006256103515625, 0.005218505859375, 0.00177764892578125, 0.05615234375, 0.042236328125, 0.0242919921875, 0.00104522705078125, 0.00885009765625, 0.006011962890625, 0.01092529296875, 0.00131988525390625, 0.005035400390625, 0.004364013671875, 0.005157470703125, 0.0037689208984375, 0.00093841552734375, 0.005035400390625, 0.0038604736328125, 0.0027313232421875, 0.061767578125, 0.043212890625, 0.0059814453125, 0.0230712890625]}\n",
       "    )\n",
       "    </script>"
      ],
      "text/plain": [
       "<circuitsvis.utils.render.RenderedHTML at 0x7fbe7817fb50>"
      ]
     },
     "metadata": {},
     "output_type": "display_data"
    },
    {
     "name": "stdout",
     "output_type": "stream",
     "text": [
      "Layer: 54, Head: 63\n"
     ]
    },
    {
     "data": {
      "text/html": [
       "<div id=\"circuits-vis-522c62c4-a616\" style=\"margin: 15px 0;\"/>\n",
       "    <script crossorigin type=\"module\">\n",
       "    import { render, ColoredTokens } from \"https://unpkg.com/circuitsvis@1.43.3/dist/cdn/esm.js\";\n",
       "    render(\n",
       "      \"circuits-vis-522c62c4-a616\",\n",
       "      ColoredTokens,\n",
       "      {\"tokens\": [\" Which\", \" of\", \" these\", \" numbers\", \" is\", \" a\", \" multiple\", \" of\", \" \", \"3\", \"?\\n\", \"options\", \":\", \" \", \"4\", \"8\", \",\", \" \", \"5\", \"7\", \",\", \" \", \"5\", \"5\", \",\", \" \", \"6\", \"2\", \",\", \" \", \"3\", \"9\", \"\\n\", \"Answer\", \":\"], \"values\": [0.00148773193359375, 0.0019683837890625, 0.002685546875, 0.0019378662109375, 0.0011749267578125, 0.000946044921875, 0.0024261474609375, 0.0015106201171875, 0.000591278076171875, 0.0147705078125, 0.01287841796875, 0.00909423828125, 0.003570556640625, 0.008056640625, 0.000946044921875, 0.043701171875, 0.375, 0.0018768310546875, 0.0018768310546875, 0.03564453125, 0.054931640625, 0.000858306884765625, 0.00262451171875, 0.0111083984375, 0.052490234375, 0.00091552734375, 0.005035400390625, 0.0033416748046875, 0.01068115234375, 0.00457763671875, 0.00390625, 0.2421875, 0.028564453125, 0.0009002685546875, 0.01025390625]}\n",
       "    )\n",
       "    </script>"
      ],
      "text/plain": [
       "<circuitsvis.utils.render.RenderedHTML at 0x7fbe78093890>"
      ]
     },
     "metadata": {},
     "output_type": "display_data"
    },
    {
     "name": "stdout",
     "output_type": "stream",
     "text": [
      "Layer: 55, Head: 43\n"
     ]
    },
    {
     "data": {
      "text/html": [
       "<div id=\"circuits-vis-f5e390ce-d8d7\" style=\"margin: 15px 0;\"/>\n",
       "    <script crossorigin type=\"module\">\n",
       "    import { render, ColoredTokens } from \"https://unpkg.com/circuitsvis@1.43.3/dist/cdn/esm.js\";\n",
       "    render(\n",
       "      \"circuits-vis-f5e390ce-d8d7\",\n",
       "      ColoredTokens,\n",
       "      {\"tokens\": [\" Which\", \" of\", \" these\", \" numbers\", \" is\", \" a\", \" multiple\", \" of\", \" \", \"3\", \"?\\n\", \"options\", \":\", \" \", \"4\", \"8\", \",\", \" \", \"5\", \"7\", \",\", \" \", \"5\", \"5\", \",\", \" \", \"6\", \"2\", \",\", \" \", \"3\", \"9\", \"\\n\", \"Answer\", \":\"], \"values\": [0.007080078125, 0.00543212890625, 0.005615234375, 0.005615234375, 0.000701904296875, 0.000957489013671875, 0.005096435546875, 0.00457763671875, 0.0035552978515625, 0.0128173828125, 0.016357421875, 0.0159912109375, 0.01165771484375, 0.0196533203125, 0.005950927734375, 0.0693359375, 0.059814453125, 0.004364013671875, 0.0019378662109375, 0.03515625, 0.08984375, 0.00168609619140625, 0.002197265625, 0.01409912109375, 0.0537109375, 0.003448486328125, 0.0128173828125, 0.00787353515625, 0.050537109375, 0.007415771484375, 0.00543212890625, 0.181640625, 0.064453125, 0.006561279296875, 0.013427734375]}\n",
       "    )\n",
       "    </script>"
      ],
      "text/plain": [
       "<circuitsvis.utils.render.RenderedHTML at 0x7fbed8368810>"
      ]
     },
     "metadata": {},
     "output_type": "display_data"
    },
    {
     "name": "stdout",
     "output_type": "stream",
     "text": [
      "Layer: 55, Head: 29\n"
     ]
    },
    {
     "data": {
      "text/html": [
       "<div id=\"circuits-vis-fa97c611-ad46\" style=\"margin: 15px 0;\"/>\n",
       "    <script crossorigin type=\"module\">\n",
       "    import { render, ColoredTokens } from \"https://unpkg.com/circuitsvis@1.43.3/dist/cdn/esm.js\";\n",
       "    render(\n",
       "      \"circuits-vis-fa97c611-ad46\",\n",
       "      ColoredTokens,\n",
       "      {\"tokens\": [\" Which\", \" of\", \" these\", \" numbers\", \" is\", \" a\", \" multiple\", \" of\", \" \", \"3\", \"?\\n\", \"options\", \":\", \" \", \"4\", \"8\", \",\", \" \", \"5\", \"7\", \",\", \" \", \"5\", \"5\", \",\", \" \", \"6\", \"2\", \",\", \" \", \"3\", \"9\", \"\\n\", \"Answer\", \":\"], \"values\": [0.002899169921875, 0.0010833740234375, 0.005767822265625, 0.00518798828125, 0.002227783203125, 0.003448486328125, 0.009033203125, 0.00408935546875, 0.00103759765625, 0.006744384765625, 0.0186767578125, 0.0017852783203125, 0.0010833740234375, 0.01806640625, 0.00982666015625, 0.04541015625, 0.05126953125, 0.00083160400390625, 0.00408935546875, 0.0252685546875, 0.0145263671875, 0.000972747802734375, 0.002410888671875, 0.0172119140625, 0.045654296875, 0.00567626953125, 0.006744384765625, 0.00083160400390625, 0.007293701171875, 0.0106201171875, 0.004150390625, 0.140625, 0.035400390625, 0.000347137451171875, 0.0021514892578125]}\n",
       "    )\n",
       "    </script>"
      ],
      "text/plain": [
       "<circuitsvis.utils.render.RenderedHTML at 0x7fbe98169b10>"
      ]
     },
     "metadata": {},
     "output_type": "display_data"
    },
    {
     "name": "stdout",
     "output_type": "stream",
     "text": [
      "Layer: 60, Head: 9\n"
     ]
    },
    {
     "data": {
      "text/html": [
       "<div id=\"circuits-vis-06a37d96-153a\" style=\"margin: 15px 0;\"/>\n",
       "    <script crossorigin type=\"module\">\n",
       "    import { render, ColoredTokens } from \"https://unpkg.com/circuitsvis@1.43.3/dist/cdn/esm.js\";\n",
       "    render(\n",
       "      \"circuits-vis-06a37d96-153a\",\n",
       "      ColoredTokens,\n",
       "      {\"tokens\": [\" Which\", \" of\", \" these\", \" numbers\", \" is\", \" a\", \" multiple\", \" of\", \" \", \"3\", \"?\\n\", \"options\", \":\", \" \", \"4\", \"8\", \",\", \" \", \"5\", \"7\", \",\", \" \", \"5\", \"5\", \",\", \" \", \"6\", \"2\", \",\", \" \", \"3\", \"9\", \"\\n\", \"Answer\", \":\"], \"values\": [0.0009765625, 0.0002040863037109375, 0.00013828277587890625, 0.00061798095703125, 0.00121307373046875, 0.0030975341796875, 0.021484375, 0.027587890625, 0.00064849853515625, 0.0267333984375, 0.0072021484375, 0.00064849853515625, 0.0008087158203125, 0.00897216796875, 0.0010223388671875, 0.037841796875, 0.0751953125, 0.00128936767578125, 0.0010223388671875, 0.1591796875, 0.09619140625, 0.00010251998901367188, 0.005279541015625, 0.0302734375, 0.0101318359375, 0.00982666015625, 0.00119781494140625, 0.0038604736328125, 0.0038604736328125, 0.0162353515625, 0.0023345947265625, 0.392578125, 0.01434326171875, 0.0020599365234375, 0.0030975341796875]}\n",
       "    )\n",
       "    </script>"
      ],
      "text/plain": [
       "<circuitsvis.utils.render.RenderedHTML at 0x7fbf41ff32d0>"
      ]
     },
     "metadata": {},
     "output_type": "display_data"
    },
    {
     "name": "stdout",
     "output_type": "stream",
     "text": [
      "Layer: 60, Head: 25\n"
     ]
    },
    {
     "data": {
      "text/html": [
       "<div id=\"circuits-vis-305f10c9-2fae\" style=\"margin: 15px 0;\"/>\n",
       "    <script crossorigin type=\"module\">\n",
       "    import { render, ColoredTokens } from \"https://unpkg.com/circuitsvis@1.43.3/dist/cdn/esm.js\";\n",
       "    render(\n",
       "      \"circuits-vis-305f10c9-2fae\",\n",
       "      ColoredTokens,\n",
       "      {\"tokens\": [\" Which\", \" of\", \" these\", \" numbers\", \" is\", \" a\", \" multiple\", \" of\", \" \", \"3\", \"?\\n\", \"options\", \":\", \" \", \"4\", \"8\", \",\", \" \", \"5\", \"7\", \",\", \" \", \"5\", \"5\", \",\", \" \", \"6\", \"2\", \",\", \" \", \"3\", \"9\", \"\\n\", \"Answer\", \":\"], \"values\": [0.0001316070556640625, 0.00012111663818359375, 0.00014972686767578125, 0.0003681182861328125, 0.000255584716796875, 6.580352783203125e-05, 0.002227783203125, 0.000507354736328125, 2.8014183044433594e-05, 0.000972747802734375, 0.00145721435546875, 0.00074005126953125, 0.0002193450927734375, 0.000972747802734375, 6.580352783203125e-05, 0.068359375, 0.47265625, 8.153915405273438e-05, 0.00016117095947265625, 0.203125, 0.03125, 3.4332275390625e-05, 0.0004825592041015625, 0.0003032684326171875, 0.00054168701171875, 8.440017700195312e-05, 0.000957489013671875, 4.1484832763671875e-05, 0.00014019012451171875, 0.0002079010009765625, 7.581710815429688e-05, 0.203125, 0.00469970703125, 0.000820159912109375, 0.000720977783203125]}\n",
       "    )\n",
       "    </script>"
      ],
      "text/plain": [
       "<circuitsvis.utils.render.RenderedHTML at 0x7fbed82b4c90>"
      ]
     },
     "metadata": {},
     "output_type": "display_data"
    },
    {
     "name": "stdout",
     "output_type": "stream",
     "text": [
      "Layer: 60, Head: 42\n"
     ]
    },
    {
     "data": {
      "text/html": [
       "<div id=\"circuits-vis-8e9841e5-1741\" style=\"margin: 15px 0;\"/>\n",
       "    <script crossorigin type=\"module\">\n",
       "    import { render, ColoredTokens } from \"https://unpkg.com/circuitsvis@1.43.3/dist/cdn/esm.js\";\n",
       "    render(\n",
       "      \"circuits-vis-8e9841e5-1741\",\n",
       "      ColoredTokens,\n",
       "      {\"tokens\": [\" Which\", \" of\", \" these\", \" numbers\", \" is\", \" a\", \" multiple\", \" of\", \" \", \"3\", \"?\\n\", \"options\", \":\", \" \", \"4\", \"8\", \",\", \" \", \"5\", \"7\", \",\", \" \", \"5\", \"5\", \",\", \" \", \"6\", \"2\", \",\", \" \", \"3\", \"9\", \"\\n\", \"Answer\", \":\"], \"values\": [0.0010986328125, 0.000675201416015625, 0.0006561279296875, 0.002685546875, 0.003814697265625, 0.006744384765625, 0.00653076171875, 0.03369140625, 0.000213623046875, 0.10888671875, 0.03173828125, 0.000255584716796875, 0.00174713134765625, 0.00124359130859375, 5.245208740234375e-05, 0.033203125, 0.046142578125, 0.000274658203125, 5.841255187988281e-05, 0.3359375, 0.06689453125, 5.4836273193359375e-05, 0.00028228759765625, 0.00031280517578125, 0.000408172607421875, 0.0128173828125, 0.00030517578125, 4.076957702636719e-05, 0.0002422332763671875, 0.04833984375, 0.0008697509765625, 0.2099609375, 0.0284423828125, 0.00077056884765625, 0.0081787109375]}\n",
       "    )\n",
       "    </script>"
      ],
      "text/plain": [
       "<circuitsvis.utils.render.RenderedHTML at 0x7fbed82d0d90>"
      ]
     },
     "metadata": {},
     "output_type": "display_data"
    },
    {
     "name": "stdout",
     "output_type": "stream",
     "text": [
      "Layer: 67, Head: 51\n"
     ]
    },
    {
     "data": {
      "text/html": [
       "<div id=\"circuits-vis-397629b7-c56d\" style=\"margin: 15px 0;\"/>\n",
       "    <script crossorigin type=\"module\">\n",
       "    import { render, ColoredTokens } from \"https://unpkg.com/circuitsvis@1.43.3/dist/cdn/esm.js\";\n",
       "    render(\n",
       "      \"circuits-vis-397629b7-c56d\",\n",
       "      ColoredTokens,\n",
       "      {\"tokens\": [\" Which\", \" of\", \" these\", \" numbers\", \" is\", \" a\", \" multiple\", \" of\", \" \", \"3\", \"?\\n\", \"options\", \":\", \" \", \"4\", \"8\", \",\", \" \", \"5\", \"7\", \",\", \" \", \"5\", \"5\", \",\", \" \", \"6\", \"2\", \",\", \" \", \"3\", \"9\", \"\\n\", \"Answer\", \":\"], \"values\": [0.0013275146484375, 0.00323486328125, 0.0030975341796875, 0.00186920166015625, 0.01239013671875, 0.018310546875, 0.036376953125, 0.046630859375, 0.0001354217529296875, 0.0771484375, 0.0439453125, 0.0003528594970703125, 0.0033721923828125, 0.005157470703125, 0.0032501220703125, 0.1875, 0.08837890625, 0.00189208984375, 0.0111083984375, 0.072265625, 0.02783203125, 4.9114227294921875e-05, 0.0169677734375, 0.001556396484375, 0.000823974609375, 0.00124359130859375, 0.00040435791015625, 7.152557373046875e-05, 0.0022125244140625, 0.0014190673828125, 0.0137939453125, 0.248046875, 0.02099609375, 0.002349853515625, 0.0238037109375]}\n",
       "    )\n",
       "    </script>"
      ],
      "text/plain": [
       "<circuitsvis.utils.render.RenderedHTML at 0x7fbe780d0a10>"
      ]
     },
     "metadata": {},
     "output_type": "display_data"
    }
   ],
   "source": [
    "# for group_id in group_id_to_head_indices:\n",
    "for layer_idx, head_idx in HEADS:\n",
    "    print(\n",
    "        f\"Layer: {layer_idx}, Head: {head_idx}\"\n",
    "    )\n",
    "\n",
    "    head_matrix = torch.Tensor(attn_matrices.attention_matrices[layer_idx, head_idx]).squeeze()\n",
    "    visualize_attn_matrix(\n",
    "        attn_matrix=head_matrix,\n",
    "        tokens=[mt.tokenizer.decode(t) for t in tokenized.input_ids[0]],\n",
    "        q_index=-1,\n",
    "        start_from=1\n",
    "    )"
   ]
  },
  {
   "cell_type": "code",
   "execution_count": 55,
   "id": "62f912ca",
   "metadata": {},
   "outputs": [
    {
     "name": "stdout",
     "output_type": "stream",
     "text": [
      "Which person from the following list is different from the others?\n",
      "Brad Pitt, Tom Hanks, Leonardo DiCaprio, Scarlett Johansson, Daniel Radcliffe, Hugh Jackman.\n",
      "Ans:\n",
      " Scarlett Johansson. She is the only female in the list.\n",
      "\n",
      "2. If you have a \n",
      "layer=54\n"
     ]
    },
    {
     "data": {
      "text/html": [
       "<div id=\"circuits-vis-152379a4-fe32\" style=\"margin: 15px 0;\"/>\n",
       "    <script crossorigin type=\"module\">\n",
       "    import { render, ColoredTokens } from \"https://unpkg.com/circuitsvis@1.43.3/dist/cdn/esm.js\";\n",
       "    render(\n",
       "      \"circuits-vis-152379a4-fe32\",\n",
       "      ColoredTokens,\n",
       "      {\"tokens\": [\" Which\", \" person\", \" from\", \" the\", \" following\", \" list\", \" is\", \" different\", \" from\", \" the\", \" others\", \"?\\n\", \"Brad\", \" Pitt\", \",\", \" Tom\", \" H\", \"anks\", \",\", \" Leonardo\", \" Di\", \"Cap\", \"rio\", \",\", \" Scarlett\", \" Joh\", \"ansson\", \",\", \" Daniel\", \" Rad\", \"cliffe\", \",\", \" Hugh\", \" Jack\", \"man\", \".\\n\", \"Ans\", \":\"], \"values\": [0.01555207371711731, 0.005950860679149628, 0.0038806572556495667, 0.005456820130348206, 0.005116550251841545, 0.003609171835705638, 0.0035060979425907135, 0.02555181458592415, 0.004928061738610268, 0.00870445929467678, 0.005783754400908947, 0.033841606229543686, 0.010212361812591553, 0.007756161503493786, 0.015884608030319214, 0.005334394983947277, 0.009637236595153809, 0.004565883427858353, 0.009646691381931305, 0.0027460185810923576, 0.0009845832828432322, 0.0011466835858300328, 0.011134528554975986, 0.00933874398469925, 0.007003161124885082, 0.001040430273860693, 0.03450972959399223, 0.012777263298630714, 0.003917422145605087, 0.004689408000558615, 0.016267068684101105, 0.02007233165204525, 0.005751186981797218, 0.001930153463035822, 0.014023467898368835, 0.03296840935945511, 0.02959579974412918, 0.0530492439866066]}\n",
       "    )\n",
       "    </script>"
      ],
      "text/plain": [
       "<circuitsvis.utils.render.RenderedHTML at 0x7fbe781d82d0>"
      ]
     },
     "metadata": {},
     "output_type": "display_data"
    },
    {
     "name": "stdout",
     "output_type": "stream",
     "text": [
      "--------------------------------------------------------------------------------\n",
      "layer=60\n"
     ]
    },
    {
     "data": {
      "text/html": [
       "<div id=\"circuits-vis-49cb4059-88a1\" style=\"margin: 15px 0;\"/>\n",
       "    <script crossorigin type=\"module\">\n",
       "    import { render, ColoredTokens } from \"https://unpkg.com/circuitsvis@1.43.3/dist/cdn/esm.js\";\n",
       "    render(\n",
       "      \"circuits-vis-49cb4059-88a1\",\n",
       "      ColoredTokens,\n",
       "      {\"tokens\": [\" Which\", \" person\", \" from\", \" the\", \" following\", \" list\", \" is\", \" different\", \" from\", \" the\", \" others\", \"?\\n\", \"Brad\", \" Pitt\", \",\", \" Tom\", \" H\", \"anks\", \",\", \" Leonardo\", \" Di\", \"Cap\", \"rio\", \",\", \" Scarlett\", \" Joh\", \"ansson\", \",\", \" Daniel\", \" Rad\", \"cliffe\", \",\", \" Hugh\", \" Jack\", \"man\", \".\\n\", \"Ans\", \":\"], \"values\": [0.0060447510331869125, 0.0064486172050237656, 0.0044172462075948715, 0.0028840769082307816, 0.006616994738578796, 0.0064537301659584045, 0.005400877445936203, 0.03550174832344055, 0.008069539442658424, 0.004693182185292244, 0.023466402664780617, 0.022319547832012177, 0.005447417497634888, 0.007448107004165649, 0.010024482384324074, 0.004297288134694099, 0.002337350510060787, 0.004835283849388361, 0.020991716533899307, 0.0037493230774998665, 0.0018126503564417362, 0.002507462864741683, 0.028006281703710556, 0.010377857834100723, 0.022311344742774963, 0.0037061278708279133, 0.06507773697376251, 0.015182219445705414, 0.007337420247495174, 0.0205038171261549, 0.05552108958363533, 0.02866634912788868, 0.007989886216819286, 0.0017345767701044679, 0.04720916599035263, 0.05763192102313042, 0.013745464384555817, 0.06328819692134857]}\n",
       "    )\n",
       "    </script>"
      ],
      "text/plain": [
       "<circuitsvis.utils.render.RenderedHTML at 0x7fbed8347d90>"
      ]
     },
     "metadata": {},
     "output_type": "display_data"
    },
    {
     "name": "stdout",
     "output_type": "stream",
     "text": [
      "--------------------------------------------------------------------------------\n",
      "layer=67\n"
     ]
    },
    {
     "data": {
      "text/html": [
       "<div id=\"circuits-vis-d7469795-df6c\" style=\"margin: 15px 0;\"/>\n",
       "    <script crossorigin type=\"module\">\n",
       "    import { render, ColoredTokens } from \"https://unpkg.com/circuitsvis@1.43.3/dist/cdn/esm.js\";\n",
       "    render(\n",
       "      \"circuits-vis-d7469795-df6c\",\n",
       "      ColoredTokens,\n",
       "      {\"tokens\": [\" Which\", \" person\", \" from\", \" the\", \" following\", \" list\", \" is\", \" different\", \" from\", \" the\", \" others\", \"?\\n\", \"Brad\", \" Pitt\", \",\", \" Tom\", \" H\", \"anks\", \",\", \" Leonardo\", \" Di\", \"Cap\", \"rio\", \",\", \" Scarlett\", \" Joh\", \"ansson\", \",\", \" Daniel\", \" Rad\", \"cliffe\", \",\", \" Hugh\", \" Jack\", \"man\", \".\\n\", \"Ans\", \":\"], \"values\": [0.017728302627801895, 0.018647463992238045, 0.011895768344402313, 0.0048401206731796265, 0.008892979472875595, 0.008121848106384277, 0.003926768898963928, 0.023866623640060425, 0.00598989799618721, 0.0035742372274398804, 0.008960016071796417, 0.015367984771728516, 0.002583906054496765, 0.00425807386636734, 0.007260210812091827, 0.0015071758534759283, 0.0009949607774615288, 0.0017718314193189144, 0.004761276766657829, 0.004868699237704277, 0.0011227629147469997, 0.0010650185868144035, 0.0025138817727565765, 0.006495587527751923, 0.01307636871933937, 0.0015829871408641338, 0.010214827954769135, 0.006605193018913269, 0.01027704868465662, 0.01047496311366558, 0.014466509222984314, 0.010562673211097717, 0.008061082102358341, 0.0015006358735263348, 0.0022349932696670294, 0.02399146556854248, 0.04862099885940552, 0.02152484655380249]}\n",
       "    )\n",
       "    </script>"
      ],
      "text/plain": [
       "<circuitsvis.utils.render.RenderedHTML at 0x7fbed82c4410>"
      ]
     },
     "metadata": {},
     "output_type": "display_data"
    },
    {
     "name": "stdout",
     "output_type": "stream",
     "text": [
      "--------------------------------------------------------------------------------\n"
     ]
    },
    {
     "data": {
      "text/plain": [
       "[PredictedToken(token=' Scarlett', prob=0.94140625, logit=22.375, token_id=95472, metadata=None),\n",
       " PredictedToken(token=' The', prob=0.0322265625, logit=19.0, token_id=576, metadata=None),\n",
       " PredictedToken(token=' All', prob=0.00811767578125, logit=17.625, token_id=2009, metadata=None),\n",
       " PredictedToken(token=' \\n', prob=0.00634765625, logit=17.375, token_id=715, metadata=None),\n",
       " PredictedToken(token=' Daniel', prob=0.00299072265625, logit=16.625, token_id=15118, metadata=None)]"
      ]
     },
     "execution_count": 55,
     "metadata": {},
     "output_type": "execute_result"
    }
   ],
   "source": [
    "# NOVELTY: Find the odd one out\n",
    "\n",
    "# options = [\"Issac Newton\", \"Albert Einstein\", \"Marie Curie\", \"Hugh Jackman\", \"Charles Darwin\"]\n",
    "options = [\n",
    "    \"Brad Pitt\",\n",
    "    \"Tom Hanks\",\n",
    "    \"Leonardo DiCaprio\",\n",
    "    \"Scarlett Johansson\",\n",
    "    \"Daniel Radcliffe\",\n",
    "    \"Hugh Jackman\",\n",
    "]\n",
    "\n",
    "prompt_template = \"\"\"Which person from the following list is different from the others?\n",
    "{}.\n",
    "Ans:\"\"\"\n",
    "\n",
    "prompt = prompt_template.format(\", \".join(options))\n",
    "print(prompt)\n",
    "gen = generate_with_patch(\n",
    "    mt=mt,\n",
    "    inputs=prompt,\n",
    "    n_gen_per_prompt=1,\n",
    "    max_new_tokens=20,\n",
    "    remove_prefix=True,\n",
    ")[0]\n",
    "print(gen)\n",
    "tokenized = prepare_input(\n",
    "    tokenizer=mt, prompts=prompt, add_bos_token=\"qwen\" in mt.name.lower()\n",
    ")\n",
    "attn_matrices = get_attention_matrices(\n",
    "    input=tokenized,\n",
    "    mt=mt,\n",
    "    value_weighted=False,\n",
    "    # patches = []\n",
    ")\n",
    "visualize_average_attn_matrix(\n",
    "    mt=mt,\n",
    "    attn_matrices=attn_matrices,\n",
    "    prompt=prompt,\n",
    "    tokenized=tokenized,\n",
    "    layer_window=LAYERS,\n",
    ")\n",
    "interpret_logits(tokenizer=mt, logits=attn_matrices.logits)"
   ]
  },
  {
   "cell_type": "code",
   "execution_count": 56,
   "id": "95be86c9",
   "metadata": {},
   "outputs": [
    {
     "name": "stdout",
     "output_type": "stream",
     "text": [
      "Layer: 54, Head: 44\n"
     ]
    },
    {
     "data": {
      "text/html": [
       "<div id=\"circuits-vis-8517692b-54d1\" style=\"margin: 15px 0;\"/>\n",
       "    <script crossorigin type=\"module\">\n",
       "    import { render, ColoredTokens } from \"https://unpkg.com/circuitsvis@1.43.3/dist/cdn/esm.js\";\n",
       "    render(\n",
       "      \"circuits-vis-8517692b-54d1\",\n",
       "      ColoredTokens,\n",
       "      {\"tokens\": [\" Which\", \" person\", \" from\", \" the\", \" following\", \" list\", \" is\", \" different\", \" from\", \" the\", \" others\", \"?\\n\", \"Brad\", \" Pitt\", \",\", \" Tom\", \" H\", \"anks\", \",\", \" Leonardo\", \" Di\", \"Cap\", \"rio\", \",\", \" Scarlett\", \" Joh\", \"ansson\", \",\", \" Daniel\", \" Rad\", \"cliffe\", \",\", \" Hugh\", \" Jack\", \"man\", \".\\n\", \"Ans\", \":\"], \"values\": [0.000293731689453125, 9.059906005859375e-06, 8.726119995117188e-05, 2.3543834686279297e-06, 3.5315752029418945e-06, 4.678964614868164e-06, 1.9788742065429688e-05, 0.0004634857177734375, 0.00010156631469726562, 4.678964614868164e-06, 5.984306335449219e-05, 9.298324584960938e-06, 0.00103759765625, 0.00135040283203125, 0.0002117156982421875, 0.000339508056640625, 0.0019683837890625, 0.0361328125, 0.0002994537353515625, 0.00116729736328125, 0.00018405914306640625, 0.000396728515625, 0.0007171630859375, 0.0004482269287109375, 0.01953125, 0.00128173828125, 0.55859375, 0.002105712890625, 0.00180816650390625, 0.130859375, 0.150390625, 0.00141143798828125, 0.000247955322265625, 0.0014190673828125, 0.000499725341796875, 0.00014591217041015625, 2.9355287551879883e-06, 0.0081787109375]}\n",
       "    )\n",
       "    </script>"
      ],
      "text/plain": [
       "<circuitsvis.utils.render.RenderedHTML at 0x7f9c517f0fd0>"
      ]
     },
     "metadata": {},
     "output_type": "display_data"
    },
    {
     "name": "stdout",
     "output_type": "stream",
     "text": [
      "Layer: 54, Head: 63\n"
     ]
    },
    {
     "data": {
      "text/html": [
       "<div id=\"circuits-vis-4b16a5d6-02d4\" style=\"margin: 15px 0;\"/>\n",
       "    <script crossorigin type=\"module\">\n",
       "    import { render, ColoredTokens } from \"https://unpkg.com/circuitsvis@1.43.3/dist/cdn/esm.js\";\n",
       "    render(\n",
       "      \"circuits-vis-4b16a5d6-02d4\",\n",
       "      ColoredTokens,\n",
       "      {\"tokens\": [\" Which\", \" person\", \" from\", \" the\", \" following\", \" list\", \" is\", \" different\", \" from\", \" the\", \" others\", \"?\\n\", \"Brad\", \" Pitt\", \",\", \" Tom\", \" H\", \"anks\", \",\", \" Leonardo\", \" Di\", \"Cap\", \"rio\", \",\", \" Scarlett\", \" Joh\", \"ansson\", \",\", \" Daniel\", \" Rad\", \"cliffe\", \",\", \" Hugh\", \" Jack\", \"man\", \".\\n\", \"Ans\", \":\"], \"values\": [0.00043487548828125, 8.296966552734375e-05, 0.00017547607421875, 0.00010013580322265625, 8.296966552734375e-05, 1.7404556274414062e-05, 7.104873657226562e-05, 0.000762939453125, 4.863739013671875e-05, 1.5854835510253906e-05, 0.000354766845703125, 0.00034332275390625, 0.0016632080078125, 0.0057373046875, 0.00341796875, 0.0029296875, 0.003997802734375, 0.004791259765625, 0.003997802734375, 0.005706787109375, 0.000949859619140625, 0.00063323974609375, 0.0020904541015625, 0.0054931640625, 0.06103515625, 0.00250244140625, 0.65234375, 0.043701171875, 0.0025177001953125, 0.035888671875, 0.0703125, 0.0184326171875, 0.0108642578125, 0.00372314453125, 0.00982666015625, 0.01220703125, 0.0001926422119140625, 0.0032806396484375]}\n",
       "    )\n",
       "    </script>"
      ],
      "text/plain": [
       "<circuitsvis.utils.render.RenderedHTML at 0x7fbed822d610>"
      ]
     },
     "metadata": {},
     "output_type": "display_data"
    },
    {
     "name": "stdout",
     "output_type": "stream",
     "text": [
      "Layer: 55, Head: 43\n"
     ]
    },
    {
     "data": {
      "text/html": [
       "<div id=\"circuits-vis-3f0c967e-fdec\" style=\"margin: 15px 0;\"/>\n",
       "    <script crossorigin type=\"module\">\n",
       "    import { render, ColoredTokens } from \"https://unpkg.com/circuitsvis@1.43.3/dist/cdn/esm.js\";\n",
       "    render(\n",
       "      \"circuits-vis-3f0c967e-fdec\",\n",
       "      ColoredTokens,\n",
       "      {\"tokens\": [\" Which\", \" person\", \" from\", \" the\", \" following\", \" list\", \" is\", \" different\", \" from\", \" the\", \" others\", \"?\\n\", \"Brad\", \" Pitt\", \",\", \" Tom\", \" H\", \"anks\", \",\", \" Leonardo\", \" Di\", \"Cap\", \"rio\", \",\", \" Scarlett\", \" Joh\", \"ansson\", \",\", \" Daniel\", \" Rad\", \"cliffe\", \",\", \" Hugh\", \" Jack\", \"man\", \".\\n\", \"Ans\", \":\"], \"values\": [0.00118255615234375, 0.0002956390380859375, 0.0006561279296875, 8.440017700195312e-05, 0.0017242431640625, 0.002716064453125, 0.00101470947265625, 0.005401611328125, 0.002044677734375, 0.0003337860107421875, 0.017822265625, 0.0022125244140625, 0.00421142578125, 0.012451171875, 0.0087890625, 0.00433349609375, 0.01031494140625, 0.006927490234375, 0.0146484375, 0.000732421875, 0.000457763671875, 0.00020313262939453125, 0.038330078125, 0.0037689208984375, 0.0257568359375, 0.001129150390625, 0.15625, 0.041015625, 0.02294921875, 0.004547119140625, 0.1953125, 0.1171875, 0.042236328125, 0.00090789794921875, 0.10107421875, 0.0267333984375, 0.00136566162109375, 0.00811767578125]}\n",
       "    )\n",
       "    </script>"
      ],
      "text/plain": [
       "<circuitsvis.utils.render.RenderedHTML at 0x7f9c51763ed0>"
      ]
     },
     "metadata": {},
     "output_type": "display_data"
    },
    {
     "name": "stdout",
     "output_type": "stream",
     "text": [
      "Layer: 55, Head: 29\n"
     ]
    },
    {
     "data": {
      "text/html": [
       "<div id=\"circuits-vis-30512630-cca0\" style=\"margin: 15px 0;\"/>\n",
       "    <script crossorigin type=\"module\">\n",
       "    import { render, ColoredTokens } from \"https://unpkg.com/circuitsvis@1.43.3/dist/cdn/esm.js\";\n",
       "    render(\n",
       "      \"circuits-vis-30512630-cca0\",\n",
       "      ColoredTokens,\n",
       "      {\"tokens\": [\" Which\", \" person\", \" from\", \" the\", \" following\", \" list\", \" is\", \" different\", \" from\", \" the\", \" others\", \"?\\n\", \"Brad\", \" Pitt\", \",\", \" Tom\", \" H\", \"anks\", \",\", \" Leonardo\", \" Di\", \"Cap\", \"rio\", \",\", \" Scarlett\", \" Joh\", \"ansson\", \",\", \" Daniel\", \" Rad\", \"cliffe\", \",\", \" Hugh\", \" Jack\", \"man\", \".\\n\", \"Ans\", \":\"], \"values\": [0.000148773193359375, 0.00014019012451171875, 0.0001888275146484375, 9.119510650634766e-06, 0.000926971435546875, 0.000514984130859375, 9.632110595703125e-05, 0.005950927734375, 0.00084686279296875, 1.0669231414794922e-05, 0.00567626953125, 0.00012969970703125, 0.0025634765625, 0.005126953125, 0.00421142578125, 0.00054168701171875, 0.0027618408203125, 0.0084228515625, 0.00119781494140625, 0.00017452239990234375, 0.00010395050048828125, 2.8967857360839844e-05, 0.00133514404296875, 0.0026092529296875, 0.20703125, 0.0012969970703125, 0.1318359375, 0.1533203125, 0.018310546875, 0.019287109375, 0.283203125, 0.042724609375, 0.0186767578125, 0.00106048583984375, 0.035888671875, 0.012939453125, 2.2530555725097656e-05, 0.01123046875]}\n",
       "    )\n",
       "    </script>"
      ],
      "text/plain": [
       "<circuitsvis.utils.render.RenderedHTML at 0x7fbed82baf90>"
      ]
     },
     "metadata": {},
     "output_type": "display_data"
    },
    {
     "name": "stdout",
     "output_type": "stream",
     "text": [
      "Layer: 60, Head: 9\n"
     ]
    },
    {
     "data": {
      "text/html": [
       "<div id=\"circuits-vis-70bf61ba-25bb\" style=\"margin: 15px 0;\"/>\n",
       "    <script crossorigin type=\"module\">\n",
       "    import { render, ColoredTokens } from \"https://unpkg.com/circuitsvis@1.43.3/dist/cdn/esm.js\";\n",
       "    render(\n",
       "      \"circuits-vis-70bf61ba-25bb\",\n",
       "      ColoredTokens,\n",
       "      {\"tokens\": [\" Which\", \" person\", \" from\", \" the\", \" following\", \" list\", \" is\", \" different\", \" from\", \" the\", \" others\", \"?\\n\", \"Brad\", \" Pitt\", \",\", \" Tom\", \" H\", \"anks\", \",\", \" Leonardo\", \" Di\", \"Cap\", \"rio\", \",\", \" Scarlett\", \" Joh\", \"ansson\", \",\", \" Daniel\", \" Rad\", \"cliffe\", \",\", \" Hugh\", \" Jack\", \"man\", \".\\n\", \"Ans\", \":\"], \"values\": [9.632110595703125e-05, 0.00015926361083984375, 0.0004596710205078125, 2.9802322387695312e-05, 5.650520324707031e-05, 7.390975952148438e-05, 0.0004062652587890625, 0.000370025634765625, 0.00018596649169921875, 0.00012969970703125, 5.936622619628906e-05, 0.00035858154296875, 0.0001277923583984375, 0.000759124755859375, 0.0018157958984375, 0.0003814697265625, 0.000972747802734375, 0.006744384765625, 0.0023345947265625, 0.0030975341796875, 0.00396728515625, 0.002899169921875, 0.0162353515625, 0.006134033203125, 0.173828125, 0.0341796875, 0.1533203125, 0.013427734375, 0.0111083984375, 0.326171875, 0.197265625, 0.0142822265625, 0.006744384765625, 0.0028076171875, 0.00543212890625, 0.0023345947265625, 3.123283386230469e-05, 0.0019989013671875]}\n",
       "    )\n",
       "    </script>"
      ],
      "text/plain": [
       "<circuitsvis.utils.render.RenderedHTML at 0x7fbed82bb150>"
      ]
     },
     "metadata": {},
     "output_type": "display_data"
    },
    {
     "name": "stdout",
     "output_type": "stream",
     "text": [
      "Layer: 60, Head: 25\n"
     ]
    },
    {
     "data": {
      "text/html": [
       "<div id=\"circuits-vis-d44924b5-609c\" style=\"margin: 15px 0;\"/>\n",
       "    <script crossorigin type=\"module\">\n",
       "    import { render, ColoredTokens } from \"https://unpkg.com/circuitsvis@1.43.3/dist/cdn/esm.js\";\n",
       "    render(\n",
       "      \"circuits-vis-d44924b5-609c\",\n",
       "      ColoredTokens,\n",
       "      {\"tokens\": [\" Which\", \" person\", \" from\", \" the\", \" following\", \" list\", \" is\", \" different\", \" from\", \" the\", \" others\", \"?\\n\", \"Brad\", \" Pitt\", \",\", \" Tom\", \" H\", \"anks\", \",\", \" Leonardo\", \" Di\", \"Cap\", \"rio\", \",\", \" Scarlett\", \" Joh\", \"ansson\", \",\", \" Daniel\", \" Rad\", \"cliffe\", \",\", \" Hugh\", \" Jack\", \"man\", \".\\n\", \"Ans\", \":\"], \"values\": [0.00107574462890625, 0.00096893310546875, 0.0017547607421875, 0.000396728515625, 0.0002498626708984375, 0.000270843505859375, 0.00136566162109375, 0.0086669921875, 0.0013427734375, 8.7738037109375e-05, 0.000141143798828125, 0.004638671875, 0.0037841796875, 0.0059814453125, 0.0128173828125, 0.0004730224609375, 0.003448486328125, 0.005584716796875, 0.002655029296875, 0.00186920166015625, 0.0004425048828125, 0.00494384765625, 0.0025787353515625, 0.018310546875, 0.1767578125, 0.038818359375, 0.2412109375, 0.035400390625, 0.009521484375, 0.0947265625, 0.2265625, 0.015869140625, 0.0025177001953125, 0.0016632080078125, 0.0033416748046875, 0.00933837890625, 0.000823974609375, 0.02978515625]}\n",
       "    )\n",
       "    </script>"
      ],
      "text/plain": [
       "<circuitsvis.utils.render.RenderedHTML at 0x7f9c517f0fd0>"
      ]
     },
     "metadata": {},
     "output_type": "display_data"
    },
    {
     "name": "stdout",
     "output_type": "stream",
     "text": [
      "Layer: 60, Head: 42\n"
     ]
    },
    {
     "data": {
      "text/html": [
       "<div id=\"circuits-vis-edffe0ce-9935\" style=\"margin: 15px 0;\"/>\n",
       "    <script crossorigin type=\"module\">\n",
       "    import { render, ColoredTokens } from \"https://unpkg.com/circuitsvis@1.43.3/dist/cdn/esm.js\";\n",
       "    render(\n",
       "      \"circuits-vis-edffe0ce-9935\",\n",
       "      ColoredTokens,\n",
       "      {\"tokens\": [\" Which\", \" person\", \" from\", \" the\", \" following\", \" list\", \" is\", \" different\", \" from\", \" the\", \" others\", \"?\\n\", \"Brad\", \" Pitt\", \",\", \" Tom\", \" H\", \"anks\", \",\", \" Leonardo\", \" Di\", \"Cap\", \"rio\", \",\", \" Scarlett\", \" Joh\", \"ansson\", \",\", \" Daniel\", \" Rad\", \"cliffe\", \",\", \" Hugh\", \" Jack\", \"man\", \".\\n\", \"Ans\", \":\"], \"values\": [0.0003070831298828125, 0.0002574920654296875, 0.0003204345703125, 0.0001163482666015625, 0.0003070831298828125, 0.00023174285888671875, 0.0001430511474609375, 0.0003261566162109375, 0.00021076202392578125, 0.0001888275146484375, 0.00152587890625, 0.000560760498046875, 0.0002422332763671875, 0.0030975341796875, 0.0030517578125, 0.001220703125, 0.000690460205078125, 0.0103759765625, 0.0030975341796875, 0.0096435546875, 0.00335693359375, 0.00640869140625, 0.05322265625, 0.0035552978515625, 0.1181640625, 0.0228271484375, 0.392578125, 0.01806640625, 0.00567626953125, 0.0146484375, 0.19140625, 0.05322265625, 0.00799560546875, 0.0012359619140625, 0.04345703125, 0.01434326171875, 3.910064697265625e-05, 0.000713348388671875]}\n",
       "    )\n",
       "    </script>"
      ],
      "text/plain": [
       "<circuitsvis.utils.render.RenderedHTML at 0x7fbe781d1d10>"
      ]
     },
     "metadata": {},
     "output_type": "display_data"
    },
    {
     "name": "stdout",
     "output_type": "stream",
     "text": [
      "Layer: 67, Head: 51\n"
     ]
    },
    {
     "data": {
      "text/html": [
       "<div id=\"circuits-vis-456c2fde-3d02\" style=\"margin: 15px 0;\"/>\n",
       "    <script crossorigin type=\"module\">\n",
       "    import { render, ColoredTokens } from \"https://unpkg.com/circuitsvis@1.43.3/dist/cdn/esm.js\";\n",
       "    render(\n",
       "      \"circuits-vis-456c2fde-3d02\",\n",
       "      ColoredTokens,\n",
       "      {\"tokens\": [\" Which\", \" person\", \" from\", \" the\", \" following\", \" list\", \" is\", \" different\", \" from\", \" the\", \" others\", \"?\\n\", \"Brad\", \" Pitt\", \",\", \" Tom\", \" H\", \"anks\", \",\", \" Leonardo\", \" Di\", \"Cap\", \"rio\", \",\", \" Scarlett\", \" Joh\", \"ansson\", \",\", \" Daniel\", \" Rad\", \"cliffe\", \",\", \" Hugh\", \" Jack\", \"man\", \".\\n\", \"Ans\", \":\"], \"values\": [0.0002765655517578125, 0.015869140625, 0.064453125, 0.002593994140625, 0.003204345703125, 0.00142669677734375, 0.002899169921875, 0.00171661376953125, 0.005218505859375, 0.002838134765625, 0.0004558563232421875, 0.01080322265625, 0.000476837158203125, 0.0016937255859375, 0.00604248046875, 8.392333984375e-05, 0.00086212158203125, 0.00010824203491210938, 0.004425048828125, 0.00604248046875, 0.000823974609375, 9.250640869140625e-05, 0.00164031982421875, 0.00750732421875, 0.1220703125, 0.0213623046875, 0.0439453125, 0.0042724609375, 0.036376953125, 0.142578125, 0.0255126953125, 0.03955078125, 0.000408172607421875, 1.4185905456542969e-05, 1.8835067749023438e-05, 0.012451171875, 0.0002841949462890625, 0.0145263671875]}\n",
       "    )\n",
       "    </script>"
      ],
      "text/plain": [
       "<circuitsvis.utils.render.RenderedHTML at 0x7fbf42098550>"
      ]
     },
     "metadata": {},
     "output_type": "display_data"
    }
   ],
   "source": [
    "for layer_idx, head_idx in HEADS:\n",
    "    print(\n",
    "        f\"Layer: {layer_idx}, Head: {head_idx}\"\n",
    "    )\n",
    "\n",
    "    head_matrix = torch.Tensor(attn_matrices.attention_matrices[layer_idx, head_idx]).squeeze()\n",
    "    visualize_attn_matrix(\n",
    "        attn_matrix=head_matrix,\n",
    "        tokens=[mt.tokenizer.decode(t) for t in tokenized.input_ids[0]],\n",
    "        q_index=-1,\n",
    "        start_from=1\n",
    "    )"
   ]
  },
  {
   "cell_type": "code",
   "execution_count": 60,
   "id": "34473276",
   "metadata": {},
   "outputs": [
    {
     "name": "stdout",
     "output_type": "stream",
     "text": [
      "orange, mat, book, rabbit, bowl, watch, mirror\n",
      "Which of these words rhymes with the word \"rat\"?\n",
      "Answer:\n",
      " mat\n",
      "\n",
      "Explanation:\n",
      "The question asks to identify which word rhymes with \"rat.\" The correct answer\n",
      "layer=54\n"
     ]
    },
    {
     "data": {
      "text/html": [
       "<div id=\"circuits-vis-2850135a-8fb7\" style=\"margin: 15px 0;\"/>\n",
       "    <script crossorigin type=\"module\">\n",
       "    import { render, ColoredTokens } from \"https://unpkg.com/circuitsvis@1.43.3/dist/cdn/esm.js\";\n",
       "    render(\n",
       "      \"circuits-vis-2850135a-8fb7\",\n",
       "      ColoredTokens,\n",
       "      {\"tokens\": [\" orange\", \",\", \" mat\", \",\", \" book\", \",\", \" rabbit\", \",\", \" bowl\", \",\", \" watch\", \",\", \" mirror\", \"\\n\", \"Which\", \" of\", \" these\", \" words\", \" rh\", \"ymes\", \" with\", \" the\", \" word\", \" \\\"\", \"rat\", \"\\\"\", \"?\\n\", \"Answer\", \":\"], \"values\": [0.034120529890060425, 0.01570543646812439, 0.004630714654922485, 0.018191561102867126, 0.01201581209897995, 0.02253568172454834, 0.012726671062409878, 0.007663212716579437, 0.00798024795949459, 0.00969331618398428, 0.006699866149574518, 0.0035966066643595695, 0.0061703328974545, 0.04717777669429779, 0.030073411762714386, 0.009917078539729118, 0.01266440749168396, 0.009586106985807419, 0.020120471715927124, 0.013164829462766647, 0.00837783794850111, 0.004395005293190479, 0.006819523870944977, 0.010362304747104645, 0.049517303705215454, 0.018344150856137276, 0.029277734458446503, 0.03183963522315025, 0.04630136489868164]}\n",
       "    )\n",
       "    </script>"
      ],
      "text/plain": [
       "<circuitsvis.utils.render.RenderedHTML at 0x7fbf1c143490>"
      ]
     },
     "metadata": {},
     "output_type": "display_data"
    },
    {
     "name": "stdout",
     "output_type": "stream",
     "text": [
      "--------------------------------------------------------------------------------\n",
      "layer=60\n"
     ]
    },
    {
     "data": {
      "text/html": [
       "<div id=\"circuits-vis-2d148587-3120\" style=\"margin: 15px 0;\"/>\n",
       "    <script crossorigin type=\"module\">\n",
       "    import { render, ColoredTokens } from \"https://unpkg.com/circuitsvis@1.43.3/dist/cdn/esm.js\";\n",
       "    render(\n",
       "      \"circuits-vis-2d148587-3120\",\n",
       "      ColoredTokens,\n",
       "      {\"tokens\": [\" orange\", \",\", \" mat\", \",\", \" book\", \",\", \" rabbit\", \",\", \" bowl\", \",\", \" watch\", \",\", \" mirror\", \"\\n\", \"Which\", \" of\", \" these\", \" words\", \" rh\", \"ymes\", \" with\", \" the\", \" word\", \" \\\"\", \"rat\", \"\\\"\", \"?\\n\", \"Answer\", \":\"], \"values\": [0.024100124835968018, 0.019353464245796204, 0.006583094596862793, 0.01696702279150486, 0.015412387438118458, 0.023163337260484695, 0.02608877792954445, 0.017503511160612106, 0.00632097152993083, 0.007342999801039696, 0.004735591355711222, 0.005003664176911116, 0.004204029217362404, 0.01581582799553871, 0.00858018547296524, 0.004003702662885189, 0.014577658846974373, 0.007857855409383774, 0.029432624578475952, 0.0330856591463089, 0.011624161154031754, 0.0068231746554374695, 0.005534087307751179, 0.017129600048065186, 0.1078994870185852, 0.025437243282794952, 0.03124096244573593, 0.01373300701379776, 0.06318032741546631]}\n",
       "    )\n",
       "    </script>"
      ],
      "text/plain": [
       "<circuitsvis.utils.render.RenderedHTML at 0x7f9c517a9cd0>"
      ]
     },
     "metadata": {},
     "output_type": "display_data"
    },
    {
     "name": "stdout",
     "output_type": "stream",
     "text": [
      "--------------------------------------------------------------------------------\n",
      "layer=67\n"
     ]
    },
    {
     "data": {
      "text/html": [
       "<div id=\"circuits-vis-2a4babeb-b1a1\" style=\"margin: 15px 0;\"/>\n",
       "    <script crossorigin type=\"module\">\n",
       "    import { render, ColoredTokens } from \"https://unpkg.com/circuitsvis@1.43.3/dist/cdn/esm.js\";\n",
       "    render(\n",
       "      \"circuits-vis-2a4babeb-b1a1\",\n",
       "      ColoredTokens,\n",
       "      {\"tokens\": [\" orange\", \",\", \" mat\", \",\", \" book\", \",\", \" rabbit\", \",\", \" bowl\", \",\", \" watch\", \",\", \" mirror\", \"\\n\", \"Which\", \" of\", \" these\", \" words\", \" rh\", \"ymes\", \" with\", \" the\", \" word\", \" \\\"\", \"rat\", \"\\\"\", \"?\\n\", \"Answer\", \":\"], \"values\": [0.01988791674375534, 0.011572211980819702, 0.004598429426550865, 0.010415211319923401, 0.010722684673964977, 0.009198714978992939, 0.012241058982908726, 0.005947424564510584, 0.00721860583871603, 0.0045457277446985245, 0.01389428973197937, 0.004478092305362225, 0.007012728601694107, 0.013395994901657104, 0.0067518651485443115, 0.0031662248075008392, 0.0054360367357730865, 0.008648465387523174, 0.004493054002523422, 0.00948304682970047, 0.007352540269494057, 0.0034992871806025505, 0.007973622530698776, 0.010018400847911835, 0.03038761019706726, 0.009610816836357117, 0.022063255310058594, 0.049724280834198, 0.024112015962600708]}\n",
       "    )\n",
       "    </script>"
      ],
      "text/plain": [
       "<circuitsvis.utils.render.RenderedHTML at 0x7fbe7817fa50>"
      ]
     },
     "metadata": {},
     "output_type": "display_data"
    },
    {
     "name": "stdout",
     "output_type": "stream",
     "text": [
      "--------------------------------------------------------------------------------\n"
     ]
    },
    {
     "data": {
      "text/plain": [
       "[PredictedToken(token=' mat', prob=0.76171875, logit=24.25, token_id=5517, metadata=None),\n",
       " PredictedToken(token=' The', prob=0.1318359375, logit=22.5, token_id=576, metadata=None),\n",
       " PredictedToken(token=' To', prob=0.02294921875, logit=20.75, token_id=2014, metadata=None),\n",
       " PredictedToken(token=' __', prob=0.020263671875, logit=20.625, token_id=1304, metadata=None),\n",
       " PredictedToken(token=' ', prob=0.0157470703125, logit=20.375, token_id=220, metadata=None)]"
      ]
     },
     "execution_count": 60,
     "metadata": {},
     "output_type": "execute_result"
    }
   ],
   "source": [
    "# rhymes with\n",
    "\n",
    "options = [\"orange\", \"mat\", \"book\", \"rabbit\", \"bowl\", \"watch\", \"mirror\"]\n",
    "word = \"rat\"\n",
    "# word = \"look\"\n",
    "# word = \"fetch\"\n",
    "# word = \"growl\"\n",
    "\n",
    "prompt_template = \"\"\"{}\n",
    "Which of these words rhymes with the word \"{}\"?\n",
    "Answer:\"\"\"\n",
    "\n",
    "prompt = prompt_template.format(\n",
    "    \", \".join(options),\n",
    "    word\n",
    ")\n",
    "print(prompt)\n",
    "gen = generate_with_patch(\n",
    "    mt=mt,\n",
    "    inputs=prompt,\n",
    "    n_gen_per_prompt=1,\n",
    "    max_new_tokens=20,\n",
    "    remove_prefix=True,\n",
    ")[0]\n",
    "print(gen)\n",
    "tokenized = prepare_input(tokenizer=mt, prompts=prompt, add_bos_token=\"qwen\" in mt.name.lower())\n",
    "attn_matrices = get_attention_matrices(\n",
    "    input=tokenized,\n",
    "    mt=mt,\n",
    "    value_weighted=False,\n",
    "    # patches = []\n",
    ")\n",
    "visualize_average_attn_matrix(\n",
    "    mt=mt,\n",
    "    attn_matrices=attn_matrices,\n",
    "    prompt=prompt,\n",
    "    tokenized=tokenized,\n",
    "    layer_window=LAYERS,\n",
    ")\n",
    "interpret_logits(tokenizer=mt, logits=attn_matrices.logits)"
   ]
  },
  {
   "cell_type": "code",
   "execution_count": 61,
   "id": "050e2d91",
   "metadata": {},
   "outputs": [
    {
     "name": "stdout",
     "output_type": "stream",
     "text": [
      "Layer: 54, Head: 44\n"
     ]
    },
    {
     "data": {
      "text/html": [
       "<div id=\"circuits-vis-9ae93cd5-4b20\" style=\"margin: 15px 0;\"/>\n",
       "    <script crossorigin type=\"module\">\n",
       "    import { render, ColoredTokens } from \"https://unpkg.com/circuitsvis@1.43.3/dist/cdn/esm.js\";\n",
       "    render(\n",
       "      \"circuits-vis-9ae93cd5-4b20\",\n",
       "      ColoredTokens,\n",
       "      {\"tokens\": [\" orange\", \",\", \" mat\", \",\", \" book\", \",\", \" rabbit\", \",\", \" bowl\", \",\", \" watch\", \",\", \" mirror\", \"\\n\", \"Which\", \" of\", \" these\", \" words\", \" rh\", \"ymes\", \" with\", \" the\", \" word\", \" \\\"\", \"rat\", \"\\\"\", \"?\\n\", \"Answer\", \":\"], \"values\": [0.04443359375, 0.00799560546875, 0.0016326904296875, 0.1259765625, 0.036865234375, 0.007476806640625, 0.044921875, 0.006378173828125, 0.053466796875, 0.001708984375, 0.00537109375, 0.00067138671875, 0.000476837158203125, 0.005828857421875, 0.00019550323486328125, 3.3229589462280273e-06, 0.0004405975341796875, 0.0005950927734375, 0.0169677734375, 0.000377655029296875, 0.0002155303955078125, 0.00013637542724609375, 1.9073486328125e-05, 0.003692626953125, 0.5390625, 0.0086669921875, 0.0001049041748046875, 7.68899917602539e-06, 0.009765625]}\n",
       "    )\n",
       "    </script>"
      ],
      "text/plain": [
       "<circuitsvis.utils.render.RenderedHTML at 0x7fbed82c9c10>"
      ]
     },
     "metadata": {},
     "output_type": "display_data"
    },
    {
     "name": "stdout",
     "output_type": "stream",
     "text": [
      "Layer: 54, Head: 63\n"
     ]
    },
    {
     "data": {
      "text/html": [
       "<div id=\"circuits-vis-422c16bc-edf0\" style=\"margin: 15px 0;\"/>\n",
       "    <script crossorigin type=\"module\">\n",
       "    import { render, ColoredTokens } from \"https://unpkg.com/circuitsvis@1.43.3/dist/cdn/esm.js\";\n",
       "    render(\n",
       "      \"circuits-vis-422c16bc-edf0\",\n",
       "      ColoredTokens,\n",
       "      {\"tokens\": [\" orange\", \",\", \" mat\", \",\", \" book\", \",\", \" rabbit\", \",\", \" bowl\", \",\", \" watch\", \",\", \" mirror\", \"\\n\", \"Which\", \" of\", \" these\", \" words\", \" rh\", \"ymes\", \" with\", \" the\", \" word\", \" \\\"\", \"rat\", \"\\\"\", \"?\\n\", \"Answer\", \":\"], \"values\": [0.035888671875, 0.026123046875, 0.0037384033203125, 0.041259765625, 0.04345703125, 0.07763671875, 0.030517578125, 0.06103515625, 0.033447265625, 0.0267333984375, 0.057861328125, 0.0322265625, 0.06396484375, 0.057861328125, 0.02001953125, 0.00091552734375, 0.0252685546875, 0.0152587890625, 0.0284423828125, 0.00677490234375, 0.0037384033203125, 0.00148773193359375, 0.0019683837890625, 0.01025390625, 0.09423828125, 0.0301513671875, 0.0091552734375, 0.00083160400390625, 0.0235595703125]}\n",
       "    )\n",
       "    </script>"
      ],
      "text/plain": [
       "<circuitsvis.utils.render.RenderedHTML at 0x7f9c51623e50>"
      ]
     },
     "metadata": {},
     "output_type": "display_data"
    },
    {
     "name": "stdout",
     "output_type": "stream",
     "text": [
      "Layer: 55, Head: 43\n"
     ]
    },
    {
     "data": {
      "text/html": [
       "<div id=\"circuits-vis-229fb47d-10b9\" style=\"margin: 15px 0;\"/>\n",
       "    <script crossorigin type=\"module\">\n",
       "    import { render, ColoredTokens } from \"https://unpkg.com/circuitsvis@1.43.3/dist/cdn/esm.js\";\n",
       "    render(\n",
       "      \"circuits-vis-229fb47d-10b9\",\n",
       "      ColoredTokens,\n",
       "      {\"tokens\": [\" orange\", \",\", \" mat\", \",\", \" book\", \",\", \" rabbit\", \",\", \" bowl\", \",\", \" watch\", \",\", \" mirror\", \"\\n\", \"Which\", \" of\", \" these\", \" words\", \" rh\", \"ymes\", \" with\", \" the\", \" word\", \" \\\"\", \"rat\", \"\\\"\", \"?\\n\", \"Answer\", \":\"], \"values\": [0.0181884765625, 0.004486083984375, 0.00506591796875, 0.0172119140625, 0.0205078125, 0.017578125, 0.05419921875, 0.0216064453125, 0.01446533203125, 0.0025177001953125, 0.01422119140625, 0.006622314453125, 0.002471923828125, 0.0208740234375, 0.00921630859375, 0.0038909912109375, 0.0162353515625, 0.0234375, 0.07373046875, 0.01287841796875, 0.00775146484375, 0.00848388671875, 0.00848388671875, 0.0263671875, 0.2734375, 0.05078125, 0.0166015625, 0.0027618408203125, 0.01611328125]}\n",
       "    )\n",
       "    </script>"
      ],
      "text/plain": [
       "<circuitsvis.utils.render.RenderedHTML at 0x7fbe781f5150>"
      ]
     },
     "metadata": {},
     "output_type": "display_data"
    },
    {
     "name": "stdout",
     "output_type": "stream",
     "text": [
      "Layer: 55, Head: 29\n"
     ]
    },
    {
     "data": {
      "text/html": [
       "<div id=\"circuits-vis-cb2b56fa-d6fa\" style=\"margin: 15px 0;\"/>\n",
       "    <script crossorigin type=\"module\">\n",
       "    import { render, ColoredTokens } from \"https://unpkg.com/circuitsvis@1.43.3/dist/cdn/esm.js\";\n",
       "    render(\n",
       "      \"circuits-vis-cb2b56fa-d6fa\",\n",
       "      ColoredTokens,\n",
       "      {\"tokens\": [\" orange\", \",\", \" mat\", \",\", \" book\", \",\", \" rabbit\", \",\", \" bowl\", \",\", \" watch\", \",\", \" mirror\", \"\\n\", \"Which\", \" of\", \" these\", \" words\", \" rh\", \"ymes\", \" with\", \" the\", \" word\", \" \\\"\", \"rat\", \"\\\"\", \"?\\n\", \"Answer\", \":\"], \"values\": [0.050537109375, 0.01806640625, 0.019287109375, 0.11328125, 0.033203125, 0.05615234375, 0.078125, 0.01202392578125, 0.033935546875, 0.0322265625, 0.006866455078125, 0.0093994140625, 0.000762939453125, 0.029296875, 0.00640869140625, 0.0003337860107421875, 0.02099609375, 0.01220703125, 0.0205078125, 0.00634765625, 0.002471923828125, 0.00201416015625, 0.0030517578125, 0.0089111328125, 0.263671875, 0.007476806640625, 0.004791259765625, 0.00018405914306640625, 0.0247802734375]}\n",
       "    )\n",
       "    </script>"
      ],
      "text/plain": [
       "<circuitsvis.utils.render.RenderedHTML at 0x7f9c517f0090>"
      ]
     },
     "metadata": {},
     "output_type": "display_data"
    },
    {
     "name": "stdout",
     "output_type": "stream",
     "text": [
      "Layer: 60, Head: 9\n"
     ]
    },
    {
     "data": {
      "text/html": [
       "<div id=\"circuits-vis-179d8a0f-b484\" style=\"margin: 15px 0;\"/>\n",
       "    <script crossorigin type=\"module\">\n",
       "    import { render, ColoredTokens } from \"https://unpkg.com/circuitsvis@1.43.3/dist/cdn/esm.js\";\n",
       "    render(\n",
       "      \"circuits-vis-179d8a0f-b484\",\n",
       "      ColoredTokens,\n",
       "      {\"tokens\": [\" orange\", \",\", \" mat\", \",\", \" book\", \",\", \" rabbit\", \",\", \" bowl\", \",\", \" watch\", \",\", \" mirror\", \"\\n\", \"Which\", \" of\", \" these\", \" words\", \" rh\", \"ymes\", \" with\", \" the\", \" word\", \" \\\"\", \"rat\", \"\\\"\", \"?\\n\", \"Answer\", \":\"], \"values\": [0.01055908203125, 0.0135498046875, 0.003997802734375, 0.060791015625, 0.08056640625, 0.0123291015625, 0.5078125, 0.07568359375, 0.0245361328125, 0.0079345703125, 0.00958251953125, 0.0037689208984375, 0.003326416015625, 0.0004291534423828125, 0.00026702880859375, 3.147125244140625e-05, 1.9669532775878906e-05, 3.62396240234375e-05, 0.00213623046875, 0.00014209747314453125, 0.00147247314453125, 0.0002498626708984375, 2.1338462829589844e-05, 0.004119873046875, 0.05517578125, 0.00107574462890625, 0.000865936279296875, 7.009506225585938e-05, 0.005645751953125]}\n",
       "    )\n",
       "    </script>"
      ],
      "text/plain": [
       "<circuitsvis.utils.render.RenderedHTML at 0x7fbe781fbed0>"
      ]
     },
     "metadata": {},
     "output_type": "display_data"
    },
    {
     "name": "stdout",
     "output_type": "stream",
     "text": [
      "Layer: 60, Head: 25\n"
     ]
    },
    {
     "data": {
      "text/html": [
       "<div id=\"circuits-vis-ea1019c8-4ba7\" style=\"margin: 15px 0;\"/>\n",
       "    <script crossorigin type=\"module\">\n",
       "    import { render, ColoredTokens } from \"https://unpkg.com/circuitsvis@1.43.3/dist/cdn/esm.js\";\n",
       "    render(\n",
       "      \"circuits-vis-ea1019c8-4ba7\",\n",
       "      ColoredTokens,\n",
       "      {\"tokens\": [\" orange\", \",\", \" mat\", \",\", \" book\", \",\", \" rabbit\", \",\", \" bowl\", \",\", \" watch\", \",\", \" mirror\", \"\\n\", \"Which\", \" of\", \" these\", \" words\", \" rh\", \"ymes\", \" with\", \" the\", \" word\", \" \\\"\", \"rat\", \"\\\"\", \"?\\n\", \"Answer\", \":\"], \"values\": [0.0869140625, 0.055419921875, 0.00445556640625, 0.03173828125, 0.0303955078125, 0.09716796875, 0.04931640625, 0.0791015625, 0.0019378662109375, 0.0169677734375, 0.0029754638671875, 0.005340576171875, 0.0003509521484375, 0.00897216796875, 0.005157470703125, 0.00179290771484375, 0.001739501953125, 0.0020294189453125, 0.006622314453125, 0.0006561279296875, 0.0034637451171875, 0.00183868408203125, 0.000339508056640625, 0.021728515625, 0.061767578125, 0.01104736328125, 0.00897216796875, 0.00182342529296875, 0.032958984375]}\n",
       "    )\n",
       "    </script>"
      ],
      "text/plain": [
       "<circuitsvis.utils.render.RenderedHTML at 0x7fbe7817ec90>"
      ]
     },
     "metadata": {},
     "output_type": "display_data"
    },
    {
     "name": "stdout",
     "output_type": "stream",
     "text": [
      "Layer: 60, Head: 42\n"
     ]
    },
    {
     "data": {
      "text/html": [
       "<div id=\"circuits-vis-8f8589e0-18c2\" style=\"margin: 15px 0;\"/>\n",
       "    <script crossorigin type=\"module\">\n",
       "    import { render, ColoredTokens } from \"https://unpkg.com/circuitsvis@1.43.3/dist/cdn/esm.js\";\n",
       "    render(\n",
       "      \"circuits-vis-8f8589e0-18c2\",\n",
       "      ColoredTokens,\n",
       "      {\"tokens\": [\" orange\", \",\", \" mat\", \",\", \" book\", \",\", \" rabbit\", \",\", \" bowl\", \",\", \" watch\", \",\", \" mirror\", \"\\n\", \"Which\", \" of\", \" these\", \" words\", \" rh\", \"ymes\", \" with\", \" the\", \" word\", \" \\\"\", \"rat\", \"\\\"\", \"?\\n\", \"Answer\", \":\"], \"values\": [0.043212890625, 0.11865234375, 0.00830078125, 0.0830078125, 0.03125, 0.053466796875, 0.04833984375, 0.0172119140625, 0.0011749267578125, 0.00185394287109375, 0.00110626220703125, 0.00335693359375, 0.0003643035888671875, 0.00848388671875, 0.00191497802734375, 0.000469207763671875, 0.004119873046875, 0.0022735595703125, 0.0177001953125, 0.0157470703125, 0.00689697265625, 0.0020294189453125, 0.0002841949462890625, 0.00885009765625, 0.1220703125, 0.006072998046875, 0.0267333984375, 0.00087738037109375, 0.0498046875]}\n",
       "    )\n",
       "    </script>"
      ],
      "text/plain": [
       "<circuitsvis.utils.render.RenderedHTML at 0x7fbed82c9c50>"
      ]
     },
     "metadata": {},
     "output_type": "display_data"
    },
    {
     "name": "stdout",
     "output_type": "stream",
     "text": [
      "Layer: 67, Head: 51\n"
     ]
    },
    {
     "data": {
      "text/html": [
       "<div id=\"circuits-vis-1715ce6e-e632\" style=\"margin: 15px 0;\"/>\n",
       "    <script crossorigin type=\"module\">\n",
       "    import { render, ColoredTokens } from \"https://unpkg.com/circuitsvis@1.43.3/dist/cdn/esm.js\";\n",
       "    render(\n",
       "      \"circuits-vis-1715ce6e-e632\",\n",
       "      ColoredTokens,\n",
       "      {\"tokens\": [\" orange\", \",\", \" mat\", \",\", \" book\", \",\", \" rabbit\", \",\", \" bowl\", \",\", \" watch\", \",\", \" mirror\", \"\\n\", \"Which\", \" of\", \" these\", \" words\", \" rh\", \"ymes\", \" with\", \" the\", \" word\", \" \\\"\", \"rat\", \"\\\"\", \"?\\n\", \"Answer\", \":\"], \"values\": [0.046630859375, 0.0166015625, 0.04052734375, 0.038330078125, 0.0712890625, 0.076171875, 0.1240234375, 0.07861328125, 0.01483154296875, 0.03173828125, 0.02783203125, 0.03466796875, 0.006439208984375, 0.01263427734375, 0.0126953125, 0.004669189453125, 0.0020751953125, 0.006072998046875, 0.00191497802734375, 0.00185394287109375, 0.0185546875, 0.00640869140625, 0.0037994384765625, 0.03759765625, 0.04736328125, 0.012451171875, 0.01373291015625, 0.00144195556640625, 0.0390625]}\n",
       "    )\n",
       "    </script>"
      ],
      "text/plain": [
       "<circuitsvis.utils.render.RenderedHTML at 0x7fbf41d10050>"
      ]
     },
     "metadata": {},
     "output_type": "display_data"
    }
   ],
   "source": [
    "for layer_idx, head_idx in HEADS:\n",
    "    print(\n",
    "        f\"Layer: {layer_idx}, Head: {head_idx}\"\n",
    "    )\n",
    "\n",
    "    head_matrix = torch.Tensor(attn_matrices.attention_matrices[layer_idx, head_idx]).squeeze()\n",
    "    visualize_attn_matrix(\n",
    "        attn_matrix=head_matrix,\n",
    "        tokens=[mt.tokenizer.decode(t) for t in tokenized.input_ids[0]],\n",
    "        q_index=-1,\n",
    "        start_from=1\n",
    "    )"
   ]
  },
  {
   "cell_type": "code",
   "execution_count": 63,
   "id": "bf4d279e",
   "metadata": {},
   "outputs": [
    {
     "name": "stdout",
     "output_type": "stream",
     "text": [
      "\" Bob\n",
      "\n",
      "○  Mary has 15 apples. She gives 6 to her friend and then buys 12 more. How many apples does she have now?\n",
      "Ans: 21\n",
      "\n",
      "○  If a car travels at an average speed\"\n",
      "layer=54\n"
     ]
    },
    {
     "data": {
      "text/html": [
       "<div id=\"circuits-vis-34d70bf4-3832\" style=\"margin: 15px 0;\"/>\n",
       "    <script crossorigin type=\"module\">\n",
       "    import { render, ColoredTokens } from \"https://unpkg.com/circuitsvis@1.43.3/dist/cdn/esm.js\";\n",
       "    render(\n",
       "      \"circuits-vis-34d70bf4-3832\",\n",
       "      ColoredTokens,\n",
       "      {\"tokens\": [\" John\", \" is\", \" taller\", \" than\", \" Bob\", \",\", \" but\", \" shorter\", \" than\", \" Steve\", \".\", \" Who\", \" is\", \" the\", \" shortest\", \"?\\n\", \"Ans\", \":\"], \"values\": [0.01967981457710266, 0.02226114273071289, 0.011979635804891586, 0.006965957581996918, 0.011725489050149918, 0.010106546804308891, 0.0077275475487113, 0.008085411041975021, 0.012052950449287891, 0.01689254492521286, 0.019488319754600525, 0.02042655646800995, 0.007563784718513489, 0.004388131201267242, 0.025761544704437256, 0.0487218052148819, 0.039012789726257324, 0.03851558268070221]}\n",
       "    )\n",
       "    </script>"
      ],
      "text/plain": [
       "<circuitsvis.utils.render.RenderedHTML at 0x7f9c516301d0>"
      ]
     },
     "metadata": {},
     "output_type": "display_data"
    },
    {
     "name": "stdout",
     "output_type": "stream",
     "text": [
      "--------------------------------------------------------------------------------\n",
      "layer=60\n"
     ]
    },
    {
     "data": {
      "text/html": [
       "<div id=\"circuits-vis-fa465bc5-67e0\" style=\"margin: 15px 0;\"/>\n",
       "    <script crossorigin type=\"module\">\n",
       "    import { render, ColoredTokens } from \"https://unpkg.com/circuitsvis@1.43.3/dist/cdn/esm.js\";\n",
       "    render(\n",
       "      \"circuits-vis-fa465bc5-67e0\",\n",
       "      ColoredTokens,\n",
       "      {\"tokens\": [\" John\", \" is\", \" taller\", \" than\", \" Bob\", \",\", \" but\", \" shorter\", \" than\", \" Steve\", \".\", \" Who\", \" is\", \" the\", \" shortest\", \"?\\n\", \"Ans\", \":\"], \"values\": [0.0031166598200798035, 0.006980521604418755, 0.012494256719946861, 0.010067584924399853, 0.08470471203327179, 0.0242854543030262, 0.01851843297481537, 0.016023240983486176, 0.02096429280936718, 0.029990093782544136, 0.023611359298229218, 0.026241032406687737, 0.013148777186870575, 0.0053929612040519714, 0.05966458469629288, 0.07856220006942749, 0.028737545013427734, 0.07467241585254669]}\n",
       "    )\n",
       "    </script>"
      ],
      "text/plain": [
       "<circuitsvis.utils.render.RenderedHTML at 0x7fbf41c832d0>"
      ]
     },
     "metadata": {},
     "output_type": "display_data"
    },
    {
     "name": "stdout",
     "output_type": "stream",
     "text": [
      "--------------------------------------------------------------------------------\n",
      "layer=67\n"
     ]
    },
    {
     "data": {
      "text/html": [
       "<div id=\"circuits-vis-8a8593e6-ebea\" style=\"margin: 15px 0;\"/>\n",
       "    <script crossorigin type=\"module\">\n",
       "    import { render, ColoredTokens } from \"https://unpkg.com/circuitsvis@1.43.3/dist/cdn/esm.js\";\n",
       "    render(\n",
       "      \"circuits-vis-8a8593e6-ebea\",\n",
       "      ColoredTokens,\n",
       "      {\"tokens\": [\" John\", \" is\", \" taller\", \" than\", \" Bob\", \",\", \" but\", \" shorter\", \" than\", \" Steve\", \".\", \" Who\", \" is\", \" the\", \" shortest\", \"?\\n\", \"Ans\", \":\"], \"values\": [0.012302190065383911, 0.01001393049955368, 0.008070689626038074, 0.00624556839466095, 0.023066192865371704, 0.009046539664268494, 0.0070083364844322205, 0.0040467954240739346, 0.0037837177515029907, 0.00822855532169342, 0.014954149723052979, 0.013545636087656021, 0.007331348955631256, 0.003920737653970718, 0.008729886263608932, 0.04090547561645508, 0.032464802265167236, 0.03402012586593628]}\n",
       "    )\n",
       "    </script>"
      ],
      "text/plain": [
       "<circuitsvis.utils.render.RenderedHTML at 0x7fbed82c2bd0>"
      ]
     },
     "metadata": {},
     "output_type": "display_data"
    },
    {
     "name": "stdout",
     "output_type": "stream",
     "text": [
      "--------------------------------------------------------------------------------\n"
     ]
    },
    {
     "data": {
      "text/plain": [
       "[PredictedToken(token=' Bob', prob=0.84375, logit=24.5, token_id=14261, metadata=None),\n",
       " PredictedToken(token=' To', prob=0.053955078125, logit=21.75, token_id=2014, metadata=None),\n",
       " PredictedToken(token=' We', prob=0.0419921875, logit=21.5, token_id=1205, metadata=None),\n",
       " PredictedToken(token=' Based', prob=0.0224609375, logit=20.875, token_id=20205, metadata=None),\n",
       " PredictedToken(token=' Let', prob=0.0106201171875, logit=20.125, token_id=6771, metadata=None)]"
      ]
     },
     "execution_count": 63,
     "metadata": {},
     "output_type": "execute_result"
    }
   ],
   "source": [
    "#! Logical deduction\n",
    "\n",
    "# prompt = \"\"\"John is taller than Mary. Mary is taller than Steve. Who is the shortest?\n",
    "# Ans:\"\"\"\n",
    "prompt = \"\"\"John is taller than Bob, but shorter than Steve. Who is the shortest?\n",
    "Ans:\"\"\"\n",
    "# prompt = \"\"\"All the cookies are either chocolate or vanilla. None of the chocolate cookies have nuts.\n",
    "# This cookie has nuts. What flavor is it?\n",
    "# Ans:\"\"\"\n",
    "# prompt = \"\"\"The red box is to the left of the blue box, and to the right of the green box.\n",
    "# Which is the rightmost box?\n",
    "# Ans:\"\"\"\n",
    "\n",
    "gen = generate_with_patch(\n",
    "    mt=mt,\n",
    "    inputs=prompt,\n",
    "    n_gen_per_prompt=1,\n",
    "    max_new_tokens=50,\n",
    "    remove_prefix=True,\n",
    ")[0]\n",
    "print(f'\"{gen}\"')\n",
    "\n",
    "tokenized = prepare_input(\n",
    "    tokenizer=mt, prompts=prompt, add_bos_token=\"qwen\" in mt.name.lower()\n",
    ")\n",
    "attn_matrices = get_attention_matrices(\n",
    "    input=tokenized,\n",
    "    mt=mt,\n",
    "    value_weighted=False,\n",
    "    # patches = []\n",
    ")\n",
    "visualize_average_attn_matrix(\n",
    "    mt=mt,\n",
    "    attn_matrices=attn_matrices,\n",
    "    prompt=prompt,\n",
    "    tokenized=tokenized,\n",
    "    layer_window=LAYERS,\n",
    ")\n",
    "interpret_logits(tokenizer=mt, logits=attn_matrices.logits)"
   ]
  },
  {
   "cell_type": "code",
   "execution_count": 64,
   "id": "f90edc47",
   "metadata": {},
   "outputs": [
    {
     "name": "stdout",
     "output_type": "stream",
     "text": [
      "Layer: 54, Head: 44\n"
     ]
    },
    {
     "data": {
      "text/html": [
       "<div id=\"circuits-vis-451e0bf0-9850\" style=\"margin: 15px 0;\"/>\n",
       "    <script crossorigin type=\"module\">\n",
       "    import { render, ColoredTokens } from \"https://unpkg.com/circuitsvis@1.43.3/dist/cdn/esm.js\";\n",
       "    render(\n",
       "      \"circuits-vis-451e0bf0-9850\",\n",
       "      ColoredTokens,\n",
       "      {\"tokens\": [\" John\", \" is\", \" taller\", \" than\", \" Bob\", \",\", \" but\", \" shorter\", \" than\", \" Steve\", \".\", \" Who\", \" is\", \" the\", \" shortest\", \"?\\n\", \"Ans\", \":\"], \"values\": [0.006011962890625, 0.0172119140625, 0.0126953125, 0.03857421875, 0.216796875, 0.005096435546875, 0.0155029296875, 0.00139617919921875, 0.0169677734375, 0.078125, 0.007598876953125, 0.004302978515625, 0.0023345947265625, 0.003021240234375, 0.0269775390625, 0.004241943359375, 0.00018596649169921875, 0.00469970703125]}\n",
       "    )\n",
       "    </script>"
      ],
      "text/plain": [
       "<circuitsvis.utils.render.RenderedHTML at 0x7fbed82c0490>"
      ]
     },
     "metadata": {},
     "output_type": "display_data"
    },
    {
     "name": "stdout",
     "output_type": "stream",
     "text": [
      "Layer: 54, Head: 63\n"
     ]
    },
    {
     "data": {
      "text/html": [
       "<div id=\"circuits-vis-6cc0edfc-4f83\" style=\"margin: 15px 0;\"/>\n",
       "    <script crossorigin type=\"module\">\n",
       "    import { render, ColoredTokens } from \"https://unpkg.com/circuitsvis@1.43.3/dist/cdn/esm.js\";\n",
       "    render(\n",
       "      \"circuits-vis-6cc0edfc-4f83\",\n",
       "      ColoredTokens,\n",
       "      {\"tokens\": [\" John\", \" is\", \" taller\", \" than\", \" Bob\", \",\", \" but\", \" shorter\", \" than\", \" Steve\", \".\", \" Who\", \" is\", \" the\", \" shortest\", \"?\\n\", \"Ans\", \":\"], \"values\": [0.00146484375, 0.0064697265625, 0.0279541015625, 0.01171875, 0.0167236328125, 0.0157470703125, 0.041015625, 0.04248046875, 0.1328125, 0.1787109375, 0.0130615234375, 0.05224609375, 0.00286865234375, 0.00970458984375, 0.1240234375, 0.051025390625, 0.000946044921875, 0.00970458984375]}\n",
       "    )\n",
       "    </script>"
      ],
      "text/plain": [
       "<circuitsvis.utils.render.RenderedHTML at 0x7fbed82c0490>"
      ]
     },
     "metadata": {},
     "output_type": "display_data"
    },
    {
     "name": "stdout",
     "output_type": "stream",
     "text": [
      "Layer: 55, Head: 43\n"
     ]
    },
    {
     "data": {
      "text/html": [
       "<div id=\"circuits-vis-47f1cce9-9749\" style=\"margin: 15px 0;\"/>\n",
       "    <script crossorigin type=\"module\">\n",
       "    import { render, ColoredTokens } from \"https://unpkg.com/circuitsvis@1.43.3/dist/cdn/esm.js\";\n",
       "    render(\n",
       "      \"circuits-vis-47f1cce9-9749\",\n",
       "      ColoredTokens,\n",
       "      {\"tokens\": [\" John\", \" is\", \" taller\", \" than\", \" Bob\", \",\", \" but\", \" shorter\", \" than\", \" Steve\", \".\", \" Who\", \" is\", \" the\", \" shortest\", \"?\\n\", \"Ans\", \":\"], \"values\": [0.00185394287109375, 0.017578125, 0.032958984375, 0.00579833984375, 0.049560546875, 0.01068115234375, 0.0074462890625, 0.00897216796875, 0.0262451171875, 0.11865234375, 0.039306640625, 0.0311279296875, 0.0079345703125, 0.0201416015625, 0.1328125, 0.049072265625, 0.00238037109375, 0.01708984375]}\n",
       "    )\n",
       "    </script>"
      ],
      "text/plain": [
       "<circuitsvis.utils.render.RenderedHTML at 0x7fbed822d610>"
      ]
     },
     "metadata": {},
     "output_type": "display_data"
    },
    {
     "name": "stdout",
     "output_type": "stream",
     "text": [
      "Layer: 55, Head: 29\n"
     ]
    },
    {
     "data": {
      "text/html": [
       "<div id=\"circuits-vis-e0a62b1f-46e5\" style=\"margin: 15px 0;\"/>\n",
       "    <script crossorigin type=\"module\">\n",
       "    import { render, ColoredTokens } from \"https://unpkg.com/circuitsvis@1.43.3/dist/cdn/esm.js\";\n",
       "    render(\n",
       "      \"circuits-vis-e0a62b1f-46e5\",\n",
       "      ColoredTokens,\n",
       "      {\"tokens\": [\" John\", \" is\", \" taller\", \" than\", \" Bob\", \",\", \" but\", \" shorter\", \" than\", \" Steve\", \".\", \" Who\", \" is\", \" the\", \" shortest\", \"?\\n\", \"Ans\", \":\"], \"values\": [0.001983642578125, 0.003265380859375, 0.021240234375, 0.0118408203125, 0.051513671875, 0.00262451171875, 0.003692626953125, 0.0150146484375, 0.045654296875, 0.1806640625, 0.00567626953125, 0.059326171875, 0.0159912109375, 0.09375, 0.2236328125, 0.0150146484375, 0.00017547607421875, 0.0036468505859375]}\n",
       "    )\n",
       "    </script>"
      ],
      "text/plain": [
       "<circuitsvis.utils.render.RenderedHTML at 0x7fbed82b5d90>"
      ]
     },
     "metadata": {},
     "output_type": "display_data"
    },
    {
     "name": "stdout",
     "output_type": "stream",
     "text": [
      "Layer: 60, Head: 9\n"
     ]
    },
    {
     "data": {
      "text/html": [
       "<div id=\"circuits-vis-269c802c-1c5d\" style=\"margin: 15px 0;\"/>\n",
       "    <script crossorigin type=\"module\">\n",
       "    import { render, ColoredTokens } from \"https://unpkg.com/circuitsvis@1.43.3/dist/cdn/esm.js\";\n",
       "    render(\n",
       "      \"circuits-vis-269c802c-1c5d\",\n",
       "      ColoredTokens,\n",
       "      {\"tokens\": [\" John\", \" is\", \" taller\", \" than\", \" Bob\", \",\", \" but\", \" shorter\", \" than\", \" Steve\", \".\", \" Who\", \" is\", \" the\", \" shortest\", \"?\\n\", \"Ans\", \":\"], \"values\": [2.2411346435546875e-05, 0.001922607421875, 0.002044677734375, 0.0033721923828125, 0.93359375, 0.005218505859375, 0.006317138671875, 0.00080108642578125, 0.00714111328125, 0.0234375, 0.003173828125, 0.00131988525390625, 0.002105712890625, 0.00013065338134765625, 0.0015411376953125, 0.00090789794921875, 9.059906005859375e-06, 0.0006256103515625]}\n",
       "    )\n",
       "    </script>"
      ],
      "text/plain": [
       "<circuitsvis.utils.render.RenderedHTML at 0x7f9c51630790>"
      ]
     },
     "metadata": {},
     "output_type": "display_data"
    },
    {
     "name": "stdout",
     "output_type": "stream",
     "text": [
      "Layer: 60, Head: 25\n"
     ]
    },
    {
     "data": {
      "text/html": [
       "<div id=\"circuits-vis-514da268-d08a\" style=\"margin: 15px 0;\"/>\n",
       "    <script crossorigin type=\"module\">\n",
       "    import { render, ColoredTokens } from \"https://unpkg.com/circuitsvis@1.43.3/dist/cdn/esm.js\";\n",
       "    render(\n",
       "      \"circuits-vis-514da268-d08a\",\n",
       "      ColoredTokens,\n",
       "      {\"tokens\": [\" John\", \" is\", \" taller\", \" than\", \" Bob\", \",\", \" but\", \" shorter\", \" than\", \" Steve\", \".\", \" Who\", \" is\", \" the\", \" shortest\", \"?\\n\", \"Ans\", \":\"], \"values\": [0.000911712646484375, 0.0052490234375, 0.03662109375, 0.142578125, 0.42578125, 0.1142578125, 0.033935546875, 0.0084228515625, 0.00445556640625, 0.0020294189453125, 0.0673828125, 0.00799560546875, 0.004119873046875, 0.0005340576171875, 0.0240478515625, 0.051513671875, 0.002471923828125, 0.00811767578125]}\n",
       "    )\n",
       "    </script>"
      ],
      "text/plain": [
       "<circuitsvis.utils.render.RenderedHTML at 0x7fbed822d610>"
      ]
     },
     "metadata": {},
     "output_type": "display_data"
    },
    {
     "name": "stdout",
     "output_type": "stream",
     "text": [
      "Layer: 60, Head: 42\n"
     ]
    },
    {
     "data": {
      "text/html": [
       "<div id=\"circuits-vis-6618142b-3db5\" style=\"margin: 15px 0;\"/>\n",
       "    <script crossorigin type=\"module\">\n",
       "    import { render, ColoredTokens } from \"https://unpkg.com/circuitsvis@1.43.3/dist/cdn/esm.js\";\n",
       "    render(\n",
       "      \"circuits-vis-6618142b-3db5\",\n",
       "      ColoredTokens,\n",
       "      {\"tokens\": [\" John\", \" is\", \" taller\", \" than\", \" Bob\", \",\", \" but\", \" shorter\", \" than\", \" Steve\", \".\", \" Who\", \" is\", \" the\", \" shortest\", \"?\\n\", \"Ans\", \":\"], \"values\": [0.00012302398681640625, 0.00150299072265625, 0.0001583099365234375, 0.0031585693359375, 0.87890625, 0.00225830078125, 0.00141143798828125, 9.584426879882812e-05, 0.000308990478515625, 0.0004730224609375, 0.002899169921875, 0.000911712646484375, 0.0035400390625, 0.0027313232421875, 0.002105712890625, 0.010498046875, 0.0001735687255859375, 0.0296630859375]}\n",
       "    )\n",
       "    </script>"
      ],
      "text/plain": [
       "<circuitsvis.utils.render.RenderedHTML at 0x7fbed82c8710>"
      ]
     },
     "metadata": {},
     "output_type": "display_data"
    },
    {
     "name": "stdout",
     "output_type": "stream",
     "text": [
      "Layer: 67, Head: 51\n"
     ]
    },
    {
     "data": {
      "text/html": [
       "<div id=\"circuits-vis-2f013ad0-5be0\" style=\"margin: 15px 0;\"/>\n",
       "    <script crossorigin type=\"module\">\n",
       "    import { render, ColoredTokens } from \"https://unpkg.com/circuitsvis@1.43.3/dist/cdn/esm.js\";\n",
       "    render(\n",
       "      \"circuits-vis-2f013ad0-5be0\",\n",
       "      ColoredTokens,\n",
       "      {\"tokens\": [\" John\", \" is\", \" taller\", \" than\", \" Bob\", \",\", \" but\", \" shorter\", \" than\", \" Steve\", \".\", \" Who\", \" is\", \" the\", \" shortest\", \"?\\n\", \"Ans\", \":\"], \"values\": [0.0016937255859375, 0.0179443359375, 0.001495361328125, 0.00830078125, 0.61328125, 0.006988525390625, 0.018310546875, 0.000823974609375, 0.004364013671875, 0.00885009765625, 0.0142822265625, 0.00421142578125, 0.006561279296875, 0.00106048583984375, 0.0023040771484375, 0.01025390625, 0.00031280517578125, 0.00946044921875]}\n",
       "    )\n",
       "    </script>"
      ],
      "text/plain": [
       "<circuitsvis.utils.render.RenderedHTML at 0x7fbed82c02d0>"
      ]
     },
     "metadata": {},
     "output_type": "display_data"
    }
   ],
   "source": [
    "for layer_idx, head_idx in HEADS:\n",
    "    print(\n",
    "        f\"Layer: {layer_idx}, Head: {head_idx}\"\n",
    "    )\n",
    "\n",
    "    head_matrix = torch.Tensor(attn_matrices.attention_matrices[layer_idx, head_idx]).squeeze()\n",
    "    visualize_attn_matrix(\n",
    "        attn_matrix=head_matrix,\n",
    "        tokens=[mt.tokenizer.decode(t) for t in tokenized.input_ids[0]],\n",
    "        q_index=-1,\n",
    "        start_from=1\n",
    "    )"
   ]
  },
  {
   "cell_type": "code",
   "execution_count": null,
   "id": "99b505ad",
   "metadata": {},
   "outputs": [],
   "source": []
  },
  {
   "cell_type": "code",
   "execution_count": 67,
   "id": "b4fa521c",
   "metadata": {},
   "outputs": [
    {
     "name": "stdout",
     "output_type": "stream",
     "text": [
      "\" ____\n",
      "\n",
      "Let's evaluate each expression step by step:\n",
      "\n",
      "1. **a = x and y**\n",
      "   - `x` is `True`\n",
      "   - `y` is `False`\n",
      "   - `True and False` is `False`\n",
      "  \"\n",
      "layer=54\n"
     ]
    },
    {
     "data": {
      "text/html": [
       "<div id=\"circuits-vis-254880bb-c668\" style=\"margin: 15px 0;\"/>\n",
       "    <script crossorigin type=\"module\">\n",
       "    import { render, ColoredTokens } from \"https://unpkg.com/circuitsvis@1.43.3/dist/cdn/esm.js\";\n",
       "    render(\n",
       "      \"circuits-vis-254880bb-c668\",\n",
       "      ColoredTokens,\n",
       "      {\"tokens\": [\" x\", \" =\", \" True\", \"\\n\", \"y\", \" =\", \" False\", \"\\n\", \"z\", \" =\", \" False\", \"\\n\\n\", \"a\", \" =\", \" x\", \" and\", \" y\", \"\\n\", \"b\", \" =\", \" y\", \" or\", \" z\", \"\\n\", \"c\", \" =\", \" z\", \" xor\", \" x\", \"\\n\\n\", \"Which\", \" one\", \" among\", \" a\", \",\", \" b\", \",\", \" c\", \" is\", \" True\", \"?\\n\", \"Ans\", \":\"], \"values\": [0.0018167831003665924, 0.0007813330739736557, 0.0026796963065862656, 0.0030818460509181023, 0.0018112165853381157, 0.0022918852046132088, 0.0035119159147143364, 0.004303882829844952, 0.0016607627039775252, 0.0011131737846881151, 0.004501793533563614, 0.003930224105715752, 0.0025974498130381107, 0.002377980388700962, 0.0034986240789294243, 0.003733478020876646, 0.005218645557761192, 0.005772685632109642, 0.005038116127252579, 0.0034093987196683884, 0.0017010406590998173, 0.008232314139604568, 0.003468623384833336, 0.006424177438020706, 0.003865780308842659, 0.002843298017978668, 0.0017424705438315868, 0.013387533836066723, 0.011797664687037468, 0.015650728717446327, 0.027301490306854248, 0.0074265263974666595, 0.005454895086586475, 0.03532746434211731, 0.008827552199363708, 0.01959734410047531, 0.010039635933935642, 0.016815556213259697, 0.015892231836915016, 0.03873231261968613, 0.051745302975177765, 0.028176991268992424, 0.03943483531475067]}\n",
       "    )\n",
       "    </script>"
      ],
      "text/plain": [
       "<circuitsvis.utils.render.RenderedHTML at 0x7fbeb814de50>"
      ]
     },
     "metadata": {},
     "output_type": "display_data"
    },
    {
     "name": "stdout",
     "output_type": "stream",
     "text": [
      "--------------------------------------------------------------------------------\n",
      "layer=60\n"
     ]
    },
    {
     "data": {
      "text/html": [
       "<div id=\"circuits-vis-22aa7e3e-b059\" style=\"margin: 15px 0;\"/>\n",
       "    <script crossorigin type=\"module\">\n",
       "    import { render, ColoredTokens } from \"https://unpkg.com/circuitsvis@1.43.3/dist/cdn/esm.js\";\n",
       "    render(\n",
       "      \"circuits-vis-22aa7e3e-b059\",\n",
       "      ColoredTokens,\n",
       "      {\"tokens\": [\" x\", \" =\", \" True\", \"\\n\", \"y\", \" =\", \" False\", \"\\n\", \"z\", \" =\", \" False\", \"\\n\\n\", \"a\", \" =\", \" x\", \" and\", \" y\", \"\\n\", \"b\", \" =\", \" y\", \" or\", \" z\", \"\\n\", \"c\", \" =\", \" z\", \" xor\", \" x\", \"\\n\\n\", \"Which\", \" one\", \" among\", \" a\", \",\", \" b\", \",\", \" c\", \" is\", \" True\", \"?\\n\", \"Ans\", \":\"], \"values\": [0.0020655563566833735, 0.0008650436066091061, 0.002526993863284588, 0.002788802608847618, 0.0012070471420884132, 0.0016821734607219696, 0.0035337675362825394, 0.0015096173156052828, 0.0015281036030501127, 0.0006875756662338972, 0.005966609343886375, 0.0024169390089809895, 0.0021520305890589952, 0.004220038652420044, 0.0053304145112633705, 0.0035873143933713436, 0.005724627990275621, 0.007778544910252094, 0.010107709094882011, 0.004623916931450367, 0.0029758531600236893, 0.006847062613815069, 0.01152329333126545, 0.02022216096520424, 0.014348302036523819, 0.005246028304100037, 0.003735192585736513, 0.01147553138434887, 0.019199179485440254, 0.02530251070857048, 0.011884363368153572, 0.011566834524273872, 0.018999658524990082, 0.021122684702277184, 0.024043291807174683, 0.051041632890701294, 0.0049489508382976055, 0.05317853018641472, 0.028541192412376404, 0.0404265820980072, 0.057148754596710205, 0.024295959621667862, 0.06348586082458496]}\n",
       "    )\n",
       "    </script>"
      ],
      "text/plain": [
       "<circuitsvis.utils.render.RenderedHTML at 0x7fbf43048dd0>"
      ]
     },
     "metadata": {},
     "output_type": "display_data"
    },
    {
     "name": "stdout",
     "output_type": "stream",
     "text": [
      "--------------------------------------------------------------------------------\n",
      "layer=67\n"
     ]
    },
    {
     "data": {
      "text/html": [
       "<div id=\"circuits-vis-c195c15b-af10\" style=\"margin: 15px 0;\"/>\n",
       "    <script crossorigin type=\"module\">\n",
       "    import { render, ColoredTokens } from \"https://unpkg.com/circuitsvis@1.43.3/dist/cdn/esm.js\";\n",
       "    render(\n",
       "      \"circuits-vis-c195c15b-af10\",\n",
       "      ColoredTokens,\n",
       "      {\"tokens\": [\" x\", \" =\", \" True\", \"\\n\", \"y\", \" =\", \" False\", \"\\n\", \"z\", \" =\", \" False\", \"\\n\\n\", \"a\", \" =\", \" x\", \" and\", \" y\", \"\\n\", \"b\", \" =\", \" y\", \" or\", \" z\", \"\\n\", \"c\", \" =\", \" z\", \" xor\", \" x\", \"\\n\\n\", \"Which\", \" one\", \" among\", \" a\", \",\", \" b\", \",\", \" c\", \" is\", \" True\", \"?\\n\", \"Ans\", \":\"], \"values\": [0.009522035717964172, 0.0013070572167634964, 0.0022734012454748154, 0.005250483751296997, 0.0013632923364639282, 0.001823151484131813, 0.0017448104918003082, 0.0035105478018522263, 0.0014774510636925697, 0.0008307080715894699, 0.0008265869691967964, 0.0036607906222343445, 0.0022031813859939575, 0.0025300560519099236, 0.0009648669511079788, 0.0020648480858653784, 0.000984665472060442, 0.0030067022889852524, 0.0025027189403772354, 0.0022303182631731033, 0.0010316851548850536, 0.002230482641607523, 0.0023021986708045006, 0.003415348008275032, 0.002991252578794956, 0.0017359941266477108, 0.0008429158478975296, 0.007718170993030071, 0.000982955563813448, 0.01236768253147602, 0.01168869435787201, 0.011905983090400696, 0.02139294147491455, 0.00561303086578846, 0.005605537444353104, 0.003960398957133293, 0.0028057247400283813, 0.0076498910784721375, 0.005838334560394287, 0.009104520082473755, 0.04429805278778076, 0.06268948316574097, 0.042699024081230164]}\n",
       "    )\n",
       "    </script>"
      ],
      "text/plain": [
       "<circuitsvis.utils.render.RenderedHTML at 0x7f9c51763ed0>"
      ]
     },
     "metadata": {},
     "output_type": "display_data"
    },
    {
     "name": "stdout",
     "output_type": "stream",
     "text": [
      "--------------------------------------------------------------------------------\n"
     ]
    },
    {
     "data": {
      "text/plain": [
       "[PredictedToken(token=' b', prob=0.390625, logit=13.1875, token_id=293, metadata=None),\n",
       " PredictedToken(token=' c', prob=0.11181640625, logit=11.9375, token_id=272, metadata=None),\n",
       " PredictedToken(token=' __', prob=0.07666015625, logit=11.5625, token_id=1304, metadata=None),\n",
       " PredictedToken(token=' ', prob=0.059814453125, logit=11.3125, token_id=220, metadata=None),\n",
       " PredictedToken(token=' \\n', prob=0.049560546875, logit=11.125, token_id=715, metadata=None)]"
      ]
     },
     "execution_count": 67,
     "metadata": {},
     "output_type": "execute_result"
    }
   ],
   "source": [
    "prompt = \"\"\"x = True\n",
    "y = False\n",
    "z = False\n",
    "\n",
    "a = x and y\n",
    "b = y or z\n",
    "c = z xor x\n",
    "\n",
    "Which one among a, b, c is True?\n",
    "Ans:\"\"\"\n",
    "\n",
    "gen = generate_with_patch(\n",
    "    mt=mt,\n",
    "    inputs=prompt,\n",
    "    n_gen_per_prompt=1,\n",
    "    max_new_tokens=50,\n",
    "    remove_prefix=True,\n",
    ")[0]\n",
    "print(f'\"{gen}\"')\n",
    "\n",
    "tokenized = prepare_input(tokenizer=mt, prompts=prompt, add_bos_token=\"qwen\" in mt.name.lower())\n",
    "attn_matrices = get_attention_matrices(\n",
    "    input=tokenized,\n",
    "    mt=mt,\n",
    "    value_weighted=False,\n",
    "    # patches = []\n",
    ")\n",
    "visualize_average_attn_matrix(\n",
    "    mt=mt,\n",
    "    attn_matrices=attn_matrices,\n",
    "    prompt=prompt,\n",
    "    tokenized=tokenized,\n",
    "    layer_window=LAYERS,\n",
    ")\n",
    "interpret_logits(tokenizer=mt, logits=attn_matrices.logits)"
   ]
  },
  {
   "cell_type": "code",
   "execution_count": 68,
   "id": "c49ddd55",
   "metadata": {},
   "outputs": [
    {
     "name": "stdout",
     "output_type": "stream",
     "text": [
      "Layer: 54, Head: 44\n"
     ]
    },
    {
     "data": {
      "text/html": [
       "<div id=\"circuits-vis-36f52a0a-2867\" style=\"margin: 15px 0;\"/>\n",
       "    <script crossorigin type=\"module\">\n",
       "    import { render, ColoredTokens } from \"https://unpkg.com/circuitsvis@1.43.3/dist/cdn/esm.js\";\n",
       "    render(\n",
       "      \"circuits-vis-36f52a0a-2867\",\n",
       "      ColoredTokens,\n",
       "      {\"tokens\": [\" x\", \" =\", \" True\", \"\\n\", \"y\", \" =\", \" False\", \"\\n\", \"z\", \" =\", \" False\", \"\\n\\n\", \"a\", \" =\", \" x\", \" and\", \" y\", \"\\n\", \"b\", \" =\", \" y\", \" or\", \" z\", \"\\n\", \"c\", \" =\", \" z\", \" xor\", \" x\", \"\\n\\n\", \"Which\", \" one\", \" among\", \" a\", \",\", \" b\", \",\", \" c\", \" is\", \" True\", \"?\\n\", \"Ans\", \":\"], \"values\": [5.745887756347656e-05, 0.00018310546875, 0.000568389892578125, 0.000148773193359375, 0.000843048095703125, 0.00018310546875, 0.0004253387451171875, 0.00025177001953125, 0.001251220703125, 0.0002269744873046875, 0.00011968612670898438, 0.0004062652587890625, 0.00225830078125, 0.0033111572265625, 0.01544189453125, 0.00286865234375, 0.0023193359375, 0.007415771484375, 0.00946044921875, 0.0242919921875, 0.007659912109375, 0.2421875, 0.00714111328125, 0.03076171875, 0.0038909912109375, 0.004913330078125, 0.0036163330078125, 0.07861328125, 0.1767578125, 0.00860595703125, 0.0004482269287109375, 0.00057220458984375, 7.390975952148438e-05, 0.003692626953125, 0.0009002685546875, 0.2490234375, 0.0002613067626953125, 0.0279541015625, 0.0005035400390625, 0.00634765625, 0.001953125, 5.334615707397461e-06, 0.01300048828125]}\n",
       "    )\n",
       "    </script>"
      ],
      "text/plain": [
       "<circuitsvis.utils.render.RenderedHTML at 0x7fbe981a39d0>"
      ]
     },
     "metadata": {},
     "output_type": "display_data"
    },
    {
     "name": "stdout",
     "output_type": "stream",
     "text": [
      "Layer: 54, Head: 63\n"
     ]
    },
    {
     "data": {
      "text/html": [
       "<div id=\"circuits-vis-6c0b8843-49fb\" style=\"margin: 15px 0;\"/>\n",
       "    <script crossorigin type=\"module\">\n",
       "    import { render, ColoredTokens } from \"https://unpkg.com/circuitsvis@1.43.3/dist/cdn/esm.js\";\n",
       "    render(\n",
       "      \"circuits-vis-6c0b8843-49fb\",\n",
       "      ColoredTokens,\n",
       "      {\"tokens\": [\" x\", \" =\", \" True\", \"\\n\", \"y\", \" =\", \" False\", \"\\n\", \"z\", \" =\", \" False\", \"\\n\\n\", \"a\", \" =\", \" x\", \" and\", \" y\", \"\\n\", \"b\", \" =\", \" y\", \" or\", \" z\", \"\\n\", \"c\", \" =\", \" z\", \" xor\", \" x\", \"\\n\\n\", \"Which\", \" one\", \" among\", \" a\", \",\", \" b\", \",\", \" c\", \" is\", \" True\", \"?\\n\", \"Ans\", \":\"], \"values\": [5.817413330078125e-05, 1.7762184143066406e-05, 2.4199485778808594e-05, 0.00012302398681640625, 6.389617919921875e-05, 4.673004150390625e-05, 0.00128173828125, 0.000148773193359375, 0.00186920166015625, 0.00051116943359375, 0.003570556640625, 0.00116729736328125, 0.00177001953125, 0.0005950927734375, 0.00131988525390625, 0.00092315673828125, 0.00051116943359375, 0.00408935546875, 0.007781982421875, 0.0045166015625, 0.00141143798828125, 0.01495361328125, 0.01025390625, 0.04052734375, 0.01165771484375, 0.0024871826171875, 0.0023956298828125, 0.00640869140625, 0.004364013671875, 0.033447265625, 0.0030517578125, 0.00439453125, 0.0011138916015625, 0.0074462890625, 0.0037078857421875, 0.37890625, 0.0032958984375, 0.37890625, 0.006805419921875, 0.009033203125, 0.01287841796875, 7.724761962890625e-05, 0.001434326171875]}\n",
       "    )\n",
       "    </script>"
      ],
      "text/plain": [
       "<circuitsvis.utils.render.RenderedHTML at 0x7f9c51630650>"
      ]
     },
     "metadata": {},
     "output_type": "display_data"
    },
    {
     "name": "stdout",
     "output_type": "stream",
     "text": [
      "Layer: 55, Head: 43\n"
     ]
    },
    {
     "data": {
      "text/html": [
       "<div id=\"circuits-vis-378dafa0-f476\" style=\"margin: 15px 0;\"/>\n",
       "    <script crossorigin type=\"module\">\n",
       "    import { render, ColoredTokens } from \"https://unpkg.com/circuitsvis@1.43.3/dist/cdn/esm.js\";\n",
       "    render(\n",
       "      \"circuits-vis-378dafa0-f476\",\n",
       "      ColoredTokens,\n",
       "      {\"tokens\": [\" x\", \" =\", \" True\", \"\\n\", \"y\", \" =\", \" False\", \"\\n\", \"z\", \" =\", \" False\", \"\\n\\n\", \"a\", \" =\", \" x\", \" and\", \" y\", \"\\n\", \"b\", \" =\", \" y\", \" or\", \" z\", \"\\n\", \"c\", \" =\", \" z\", \" xor\", \" x\", \"\\n\\n\", \"Which\", \" one\", \" among\", \" a\", \",\", \" b\", \",\", \" c\", \" is\", \" True\", \"?\\n\", \"Ans\", \":\"], \"values\": [0.0002384185791015625, 0.00010919570922851562, 0.00048828125, 8.0108642578125e-05, 0.0004062652587890625, 0.0004062652587890625, 0.003509521484375, 0.000392913818359375, 0.00146484375, 0.000217437744140625, 0.01324462890625, 0.000888824462890625, 0.000759124755859375, 0.00048828125, 0.00176239013671875, 0.0014190673828125, 0.00182342529296875, 0.00408935546875, 0.00176239013671875, 0.0014190673828125, 0.0020599365234375, 0.0086669921875, 0.005706787109375, 0.030517578125, 0.0028228759765625, 0.0029144287109375, 0.0084228515625, 0.060302734375, 0.022216796875, 0.0255126953125, 0.0034027099609375, 0.002655029296875, 0.002655029296875, 0.0084228515625, 0.00182342529296875, 0.0284423828125, 0.0059814453125, 0.0167236328125, 0.0037384033203125, 0.0286865234375, 0.00579833984375, 0.000164031982421875, 0.0030059814453125]}\n",
       "    )\n",
       "    </script>"
      ],
      "text/plain": [
       "<circuitsvis.utils.render.RenderedHTML at 0x7fbe781d35d0>"
      ]
     },
     "metadata": {},
     "output_type": "display_data"
    },
    {
     "name": "stdout",
     "output_type": "stream",
     "text": [
      "Layer: 55, Head: 29\n"
     ]
    },
    {
     "data": {
      "text/html": [
       "<div id=\"circuits-vis-02be1607-2c10\" style=\"margin: 15px 0;\"/>\n",
       "    <script crossorigin type=\"module\">\n",
       "    import { render, ColoredTokens } from \"https://unpkg.com/circuitsvis@1.43.3/dist/cdn/esm.js\";\n",
       "    render(\n",
       "      \"circuits-vis-02be1607-2c10\",\n",
       "      ColoredTokens,\n",
       "      {\"tokens\": [\" x\", \" =\", \" True\", \"\\n\", \"y\", \" =\", \" False\", \"\\n\", \"z\", \" =\", \" False\", \"\\n\\n\", \"a\", \" =\", \" x\", \" and\", \" y\", \"\\n\", \"b\", \" =\", \" y\", \" or\", \" z\", \"\\n\", \"c\", \" =\", \" z\", \" xor\", \" x\", \"\\n\\n\", \"Which\", \" one\", \" among\", \" a\", \",\", \" b\", \",\", \" c\", \" is\", \" True\", \"?\\n\", \"Ans\", \":\"], \"values\": [0.001556396484375, 0.00061798095703125, 0.0009613037109375, 0.00127410888671875, 0.00011110305786132812, 0.000583648681640625, 0.0003643035888671875, 0.000873565673828125, 0.0002498626708984375, 0.0003643035888671875, 0.00020122528076171875, 0.00135040283203125, 0.00168609619140625, 0.0020294189453125, 0.003448486328125, 0.01080322265625, 0.0010528564453125, 0.0045166015625, 0.007537841796875, 0.0218505859375, 0.007415771484375, 0.0091552734375, 0.0024566650390625, 0.0040283203125, 0.00927734375, 0.034912109375, 0.00133514404296875, 0.12353515625, 0.00238037109375, 0.0169677734375, 0.0030059814453125, 0.004364013671875, 0.00127410888671875, 0.037109375, 0.0023040771484375, 0.072265625, 0.00518798828125, 0.040771484375, 0.00872802734375, 0.0223388671875, 0.004180908203125, 0.0001888275146484375, 0.0201416015625]}\n",
       "    )\n",
       "    </script>"
      ],
      "text/plain": [
       "<circuitsvis.utils.render.RenderedHTML at 0x7fbe7815b5d0>"
      ]
     },
     "metadata": {},
     "output_type": "display_data"
    },
    {
     "name": "stdout",
     "output_type": "stream",
     "text": [
      "Layer: 60, Head: 9\n"
     ]
    },
    {
     "data": {
      "text/html": [
       "<div id=\"circuits-vis-8d308788-70a3\" style=\"margin: 15px 0;\"/>\n",
       "    <script crossorigin type=\"module\">\n",
       "    import { render, ColoredTokens } from \"https://unpkg.com/circuitsvis@1.43.3/dist/cdn/esm.js\";\n",
       "    render(\n",
       "      \"circuits-vis-8d308788-70a3\",\n",
       "      ColoredTokens,\n",
       "      {\"tokens\": [\" x\", \" =\", \" True\", \"\\n\", \"y\", \" =\", \" False\", \"\\n\", \"z\", \" =\", \" False\", \"\\n\\n\", \"a\", \" =\", \" x\", \" and\", \" y\", \"\\n\", \"b\", \" =\", \" y\", \" or\", \" z\", \"\\n\", \"c\", \" =\", \" z\", \" xor\", \" x\", \"\\n\\n\", \"Which\", \" one\", \" among\", \" a\", \",\", \" b\", \",\", \" c\", \" is\", \" True\", \"?\\n\", \"Ans\", \":\"], \"values\": [5.327165126800537e-07, 9.387731552124023e-07, 1.6167759895324707e-06, 2.0265579223632812e-06, 0.0003261566162109375, 7.390975952148438e-05, 1.0728836059570312e-05, 3.2782554626464844e-06, 0.00113677978515625, 6.29425048828125e-05, 1.4424324035644531e-05, 8.881092071533203e-06, 0.0028076171875, 0.0017547607421875, 1.329183578491211e-05, 9.775161743164062e-05, 0.00010538101196289062, 0.00136566162109375, 0.11572265625, 0.0101318359375, 0.0001125335693359375, 0.004486083984375, 0.00164794921875, 0.05126953125, 0.10205078125, 0.00150299072265625, 6.914138793945312e-05, 0.0021209716796875, 0.00186920166015625, 0.0274658203125, 9.632110595703125e-05, 0.0001583099365234375, 4.124641418457031e-05, 0.03759765625, 0.0069580078125, 0.58984375, 7.12275505065918e-06, 0.033203125, 0.0002689361572265625, 0.0001354217529296875, 0.000911712646484375, 1.9550323486328125e-05, 0.00193023681640625]}\n",
       "    )\n",
       "    </script>"
      ],
      "text/plain": [
       "<circuitsvis.utils.render.RenderedHTML at 0x7fbef81a8290>"
      ]
     },
     "metadata": {},
     "output_type": "display_data"
    },
    {
     "name": "stdout",
     "output_type": "stream",
     "text": [
      "Layer: 60, Head: 25\n"
     ]
    },
    {
     "data": {
      "text/html": [
       "<div id=\"circuits-vis-ff4f5edb-b3eb\" style=\"margin: 15px 0;\"/>\n",
       "    <script crossorigin type=\"module\">\n",
       "    import { render, ColoredTokens } from \"https://unpkg.com/circuitsvis@1.43.3/dist/cdn/esm.js\";\n",
       "    render(\n",
       "      \"circuits-vis-ff4f5edb-b3eb\",\n",
       "      ColoredTokens,\n",
       "      {\"tokens\": [\" x\", \" =\", \" True\", \"\\n\", \"y\", \" =\", \" False\", \"\\n\", \"z\", \" =\", \" False\", \"\\n\\n\", \"a\", \" =\", \" x\", \" and\", \" y\", \"\\n\", \"b\", \" =\", \" y\", \" or\", \" z\", \"\\n\", \"c\", \" =\", \" z\", \" xor\", \" x\", \"\\n\\n\", \"Which\", \" one\", \" among\", \" a\", \",\", \" b\", \",\", \" c\", \" is\", \" True\", \"?\\n\", \"Ans\", \":\"], \"values\": [2.7894973754882812e-05, 2.574920654296875e-05, 0.000274658203125, 0.000377655029296875, 0.00016307830810546875, 0.00049591064453125, 0.00020694732666015625, 4.887580871582031e-05, 0.00014019012451171875, 9.441375732421875e-05, 6.67572021484375e-05, 8.440017700195312e-05, 0.000766754150390625, 0.001861572265625, 8.440017700195312e-05, 0.000392913818359375, 0.00016021728515625, 0.004547119140625, 0.049560546875, 0.0194091796875, 3.266334533691406e-05, 0.032958984375, 0.002105712890625, 0.04248046875, 0.014892578125, 0.00244140625, 5.2928924560546875e-05, 0.00433349609375, 0.00250244140625, 0.0291748046875, 0.005462646484375, 0.00640869140625, 0.00872802734375, 0.00421142578125, 0.016357421875, 0.251953125, 3.528594970703125e-05, 0.3125, 0.00860595703125, 0.031982421875, 0.05615234375, 0.000392913818359375, 0.05615234375]}\n",
       "    )\n",
       "    </script>"
      ],
      "text/plain": [
       "<circuitsvis.utils.render.RenderedHTML at 0x7fbed8358d90>"
      ]
     },
     "metadata": {},
     "output_type": "display_data"
    },
    {
     "name": "stdout",
     "output_type": "stream",
     "text": [
      "Layer: 60, Head: 42\n"
     ]
    },
    {
     "data": {
      "text/html": [
       "<div id=\"circuits-vis-44a61c16-d23c\" style=\"margin: 15px 0;\"/>\n",
       "    <script crossorigin type=\"module\">\n",
       "    import { render, ColoredTokens } from \"https://unpkg.com/circuitsvis@1.43.3/dist/cdn/esm.js\";\n",
       "    render(\n",
       "      \"circuits-vis-44a61c16-d23c\",\n",
       "      ColoredTokens,\n",
       "      {\"tokens\": [\" x\", \" =\", \" True\", \"\\n\", \"y\", \" =\", \" False\", \"\\n\", \"z\", \" =\", \" False\", \"\\n\\n\", \"a\", \" =\", \" x\", \" and\", \" y\", \"\\n\", \"b\", \" =\", \" y\", \" or\", \" z\", \"\\n\", \"c\", \" =\", \" z\", \" xor\", \" x\", \"\\n\\n\", \"Which\", \" one\", \" among\", \" a\", \",\", \" b\", \",\", \" c\", \" is\", \" True\", \"?\\n\", \"Ans\", \":\"], \"values\": [9.1552734375e-05, 2.9802322387695312e-05, 0.000896453857421875, 0.0004177093505859375, 0.00014400482177734375, 0.000274658203125, 0.0027618408203125, 0.00101470947265625, 0.00028228759765625, 5.221366882324219e-05, 0.00421142578125, 0.00162506103515625, 0.00011777877807617188, 0.00103759765625, 0.00154876708984375, 0.0007781982421875, 0.005859375, 0.02294921875, 0.00445556640625, 0.007293701171875, 0.001007080078125, 0.0069580078125, 0.037109375, 0.212890625, 0.003997802734375, 0.00182342529296875, 0.00048828125, 0.0084228515625, 0.035888671875, 0.04833984375, 0.003204345703125, 0.005279541015625, 0.00494384765625, 0.0067138671875, 0.0072021484375, 0.291015625, 0.000457763671875, 0.0927734375, 0.00836181640625, 0.004180908203125, 0.056396484375, 0.0010528564453125, 0.091796875]}\n",
       "    )\n",
       "    </script>"
      ],
      "text/plain": [
       "<circuitsvis.utils.render.RenderedHTML at 0x7f9c51763c10>"
      ]
     },
     "metadata": {},
     "output_type": "display_data"
    },
    {
     "name": "stdout",
     "output_type": "stream",
     "text": [
      "Layer: 67, Head: 51\n"
     ]
    },
    {
     "data": {
      "text/html": [
       "<div id=\"circuits-vis-8dfdc339-12e6\" style=\"margin: 15px 0;\"/>\n",
       "    <script crossorigin type=\"module\">\n",
       "    import { render, ColoredTokens } from \"https://unpkg.com/circuitsvis@1.43.3/dist/cdn/esm.js\";\n",
       "    render(\n",
       "      \"circuits-vis-8dfdc339-12e6\",\n",
       "      ColoredTokens,\n",
       "      {\"tokens\": [\" x\", \" =\", \" True\", \"\\n\", \"y\", \" =\", \" False\", \"\\n\", \"z\", \" =\", \" False\", \"\\n\\n\", \"a\", \" =\", \" x\", \" and\", \" y\", \"\\n\", \"b\", \" =\", \" y\", \" or\", \" z\", \"\\n\", \"c\", \" =\", \" z\", \" xor\", \" x\", \"\\n\\n\", \"Which\", \" one\", \" among\", \" a\", \",\", \" b\", \",\", \" c\", \" is\", \" True\", \"?\\n\", \"Ans\", \":\"], \"values\": [9.870529174804688e-05, 0.0002689361572265625, 0.0008392333984375, 0.0018310546875, 0.00537109375, 0.007537841796875, 0.0140380859375, 0.005462646484375, 0.003509521484375, 0.00445556640625, 0.0036163330078125, 0.01239013671875, 0.0115966796875, 0.00167083740234375, 0.00052642822265625, 0.00104522705078125, 0.0011444091796875, 0.0035247802734375, 0.0240478515625, 0.0186767578125, 0.011474609375, 0.0260009765625, 0.00396728515625, 0.0556640625, 0.0189208984375, 0.001220703125, 0.0012359619140625, 0.0093994140625, 0.0003662109375, 0.07421875, 0.006378173828125, 0.011962890625, 0.021240234375, 0.0087890625, 0.0111083984375, 0.023193359375, 0.0002765655517578125, 0.027587890625, 0.00439453125, 0.00104522705078125, 0.01312255859375, 0.005584716796875, 0.0712890625]}\n",
       "    )\n",
       "    </script>"
      ],
      "text/plain": [
       "<circuitsvis.utils.render.RenderedHTML at 0x7f9c51763c10>"
      ]
     },
     "metadata": {},
     "output_type": "display_data"
    }
   ],
   "source": [
    "for layer_idx, head_idx in HEADS:\n",
    "    print(\n",
    "        f\"Layer: {layer_idx}, Head: {head_idx}\"\n",
    "    )\n",
    "\n",
    "    head_matrix = torch.Tensor(attn_matrices.attention_matrices[layer_idx, head_idx]).squeeze()\n",
    "    visualize_attn_matrix(\n",
    "        attn_matrix=head_matrix,\n",
    "        tokens=[mt.tokenizer.decode(t) for t in tokenized.input_ids[0]],\n",
    "        q_index=-1,\n",
    "        start_from=1\n",
    "    )"
   ]
  },
  {
   "cell_type": "code",
   "execution_count": null,
   "id": "be3e600d",
   "metadata": {},
   "outputs": [],
   "source": []
  }
 ],
 "metadata": {
  "kernelspec": {
   "display_name": "connection",
   "language": "python",
   "name": "python3"
  },
  "language_info": {
   "codemirror_mode": {
    "name": "ipython",
    "version": 3
   },
   "file_extension": ".py",
   "mimetype": "text/x-python",
   "name": "python",
   "nbconvert_exporter": "python",
   "pygments_lexer": "ipython3",
   "version": "3.11.11"
  }
 },
 "nbformat": 4,
 "nbformat_minor": 5
}
