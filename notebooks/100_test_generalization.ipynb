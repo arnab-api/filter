{
 "cells": [
  {
   "cell_type": "code",
   "execution_count": 1,
   "id": "5728a60e",
   "metadata": {},
   "outputs": [],
   "source": [
    "%load_ext autoreload\n",
    "%autoreload 2"
   ]
  },
  {
   "cell_type": "code",
   "execution_count": 2,
   "id": "f6bcda99",
   "metadata": {},
   "outputs": [
    {
     "name": "stderr",
     "output_type": "stream",
     "text": [
      "/u/asensharma/miniconda3/envs/connection/lib/python3.12/site-packages/tqdm/auto.py:21: TqdmWarning: IProgress not found. Please update jupyter and ipywidgets. See https://ipywidgets.readthedocs.io/en/stable/user_install.html\n",
      "  from .autonotebook import tqdm as notebook_tqdm\n"
     ]
    },
    {
     "name": "stdout",
     "output_type": "stream",
     "text": [
      "2025-07-31 13:04:32 __main__ INFO     torch.__version__='2.7.1+cu126', torch.version.cuda='12.6'\n",
      "2025-07-31 13:04:33 __main__ INFO     torch.cuda.is_available()=True, torch.cuda.device_count()=4, torch.cuda.get_device_name()='NVIDIA A100-SXM4-40GB'\n",
      "2025-07-31 13:04:33 __main__ INFO     transformers.__version__='4.53.2'\n"
     ]
    }
   ],
   "source": [
    "import os\n",
    "import json\n",
    "\n",
    "import sys\n",
    "\n",
    "sys.path.append(\"../\")\n",
    "\n",
    "##################################################################\n",
    "os.environ[\"TOKENIZERS_PARALLELISM\"] = \"false\"\n",
    "# os.environ[\"CUDA_VISIBLE_DEVICES\"] = \"0,1,2,3,4,5,6,7\"\n",
    "##################################################################\n",
    "\n",
    "import logging\n",
    "from src.utils import logging_utils\n",
    "from src.utils import env_utils\n",
    "\n",
    "logger = logging.getLogger(__name__)\n",
    "\n",
    "logging.basicConfig(\n",
    "    level=logging.DEBUG,\n",
    "    format=logging_utils.DEFAULT_FORMAT,\n",
    "    datefmt=logging_utils.DEFAULT_DATEFMT,\n",
    "    stream=sys.stdout,\n",
    ")\n",
    "\n",
    "import torch\n",
    "import transformers\n",
    "\n",
    "logger.info(f\"{torch.__version__=}, {torch.version.cuda=}\")\n",
    "logger.info(\n",
    "    f\"{torch.cuda.is_available()=}, {torch.cuda.device_count()=}, {torch.cuda.get_device_name()=}\"\n",
    ")\n",
    "logger.info(f\"{transformers.__version__=}\")"
   ]
  },
  {
   "cell_type": "code",
   "execution_count": 3,
   "id": "da104a94",
   "metadata": {},
   "outputs": [
    {
     "name": "stdout",
     "output_type": "stream",
     "text": [
      "2025-07-31 13:04:37 git.cmd DEBUG    Popen(['git', 'version'], cwd=/u/asensharma/Codes/Projects/retrieval/notebooks, stdin=None, shell=False, universal_newlines=False)\n",
      "2025-07-31 13:04:37 git.cmd DEBUG    Popen(['git', 'version'], cwd=/u/asensharma/Codes/Projects/retrieval/notebooks, stdin=None, shell=False, universal_newlines=False)\n"
     ]
    }
   ],
   "source": [
    "from src.utils.training_utils import get_device_map\n",
    "\n",
    "# model_key = \"meta-llama/Llama-3.2-3B\"\n",
    "# model_key = \"meta-llama/Llama-3.1-8B\"\n",
    "model_key = \"meta-llama/Llama-3.3-70B-Instruct\"\n",
    "# model_key = \"meta-llama/Llama-3.1-405B-Instruct\"\n",
    "\n",
    "# model_key = \"google/gemma-2-9b-it\"\n",
    "# model_key = \"google/gemma-3-12b-it\"\n",
    "# model_key = \"google/gemma-2-27b-it\"\n",
    "\n",
    "# model_key = \"deepseek-ai/DeepSeek-R1-Distill-Llama-8B\"\n",
    "\n",
    "# model_key = \"allenai/OLMo-2-1124-7B-Instruct\"\n",
    "# model_key = \"allenai/OLMo-7B-0424-hf\"\n",
    "\n",
    "# model_key = \"Qwen/Qwen2-7B\"\n",
    "# model_key = \"Qwen/Qwen2.5-14B-Instruct\"\n",
    "# model_key = \"Qwen/Qwen2.5-32B-Instruct\"\n",
    "# model_key = \"Qwen/Qwen2.5-72B-Instruct\"\n",
    "\n",
    "# model_key = \"Qwen/Qwen3-1.7B\"\n",
    "# model_key = \"Qwen/Qwen3-4B\"\n",
    "# model_key = \"Qwen/Qwen3-8B\"\n",
    "# model_key = \"Qwen/Qwen3-14B\"\n",
    "# model_key = \"Qwen/Qwen3-32B\"\n",
    "\n",
    "# device_map = get_device_map(model_key, 30, n_gpus=8)\n",
    "# device_map"
   ]
  },
  {
   "cell_type": "code",
   "execution_count": 4,
   "id": "19dcf5e7",
   "metadata": {},
   "outputs": [],
   "source": [
    "# os.environ[\"BNB_CUDA_VERSION\"] = \"124\"\n",
    "# ! echo $BNB_CUDA_VERSION\n",
    "# ! python -m bitsandbytes"
   ]
  },
  {
   "cell_type": "code",
   "execution_count": 5,
   "id": "6f7ced8e",
   "metadata": {},
   "outputs": [
    {
     "name": "stdout",
     "output_type": "stream",
     "text": [
      "2025-07-31 13:04:38 src.models WARNING  meta-llama/Llama-3.3-70B-Instruct not found in /projects/bezl/hf_cache\n",
      "If not found in cache, model will be downloaded from HuggingFace to cache directory\n",
      "2025-07-31 13:04:38 urllib3.connectionpool DEBUG    Starting new HTTPS connection (1): huggingface.co:443\n"
     ]
    },
    {
     "name": "stdout",
     "output_type": "stream",
     "text": [
      "2025-07-31 13:04:38 urllib3.connectionpool DEBUG    https://huggingface.co:443 \"HEAD /meta-llama/Llama-3.3-70B-Instruct/resolve/main/config.json HTTP/1.1\" 200 0\n",
      "2025-07-31 13:04:38 urllib3.connectionpool DEBUG    https://huggingface.co:443 \"HEAD /meta-llama/Llama-3.3-70B-Instruct/resolve/main/tokenizer_config.json HTTP/1.1\" 200 0\n",
      "2025-07-31 13:04:38 urllib3.connectionpool DEBUG    https://huggingface.co:443 \"GET /api/models/meta-llama/Llama-3.3-70B-Instruct/tree/main/additional_chat_templates?recursive=False&expand=False HTTP/1.1\" 404 64\n"
     ]
    },
    {
     "name": "stderr",
     "output_type": "stream",
     "text": [
      "Loading checkpoint shards: 100%|██████████| 30/30 [03:16<00:00,  6.54s/it]"
     ]
    },
    {
     "name": "stdout",
     "output_type": "stream",
     "text": [
      "2025-07-31 13:07:56 urllib3.connectionpool DEBUG    https://huggingface.co:443 \"HEAD /meta-llama/Llama-3.3-70B-Instruct/resolve/main/generation_config.json HTTP/1.1\" 200 0\n",
      "2025-07-31 13:07:56 urllib3.connectionpool DEBUG    https://huggingface.co:443 \"HEAD /meta-llama/Llama-3.3-70B-Instruct/resolve/main/custom_generate/generate.py HTTP/1.1\" 404 0\n"
     ]
    },
    {
     "name": "stderr",
     "output_type": "stream",
     "text": [
      "\n"
     ]
    },
    {
     "name": "stdout",
     "output_type": "stream",
     "text": [
      "2025-07-31 13:07:57 src.models INFO     loaded model <meta-llama/Llama-3.3-70B-Instruct> | size: 134570.516 MB | dtype: torch.bfloat16 | device: cuda:0\n"
     ]
    }
   ],
   "source": [
    "from src.models import ModelandTokenizer\n",
    "\n",
    "# from transformers import BitsAndBytesConfig\n",
    "\n",
    "mt = ModelandTokenizer(\n",
    "    model_key=model_key,\n",
    "    torch_dtype=torch.bfloat16,\n",
    "    # device_map=device_map,\n",
    "    device_map=\"auto\",\n",
    "    # quantization_config = BitsAndBytesConfig(\n",
    "    #     # load_in_4bit=True\n",
    "    #     load_in_8bit=True\n",
    "    # )\n",
    "    attn_implementation=\"eager\",\n",
    ")"
   ]
  },
  {
   "cell_type": "code",
   "execution_count": 8,
   "id": "b76d98b6",
   "metadata": {},
   "outputs": [],
   "source": [
    "# from src.functional import free_gpu_cache\n",
    "\n",
    "# # SYNTH_DATASET = \"icosahedron_1\"\n",
    "# SYNTH_DATASET = \"64\"\n",
    "\n",
    "# checkpoint_path = os.path.join(\n",
    "#     env_utils.DEFAULT_RESULTS_DIR,\n",
    "#     \"trained_params\",\n",
    "#     f\"{SYNTH_DATASET}\",\n",
    "#     \"_full__clamp=0.001\",\n",
    "#     model_key.split(\"/\")[-1],\n",
    "# )\n",
    "\n",
    "# version = \"epoch_1\"\n",
    "# # version = \"final_model\"\n",
    "\n",
    "# checkpoint_path = os.path.join(env_utils.DEFAULT_RESULTS_DIR, checkpoint_path, version)\n",
    "\n",
    "# print(os.listdir(checkpoint_path))\n",
    "\n",
    "# checkpoint_path = os.path.join(checkpoint_path, \"trainable_params.pt\")\n",
    "\n",
    "# loaded_deltas = torch.load(checkpoint_path, map_location=\"cpu\")\n",
    "# # loaded_deltas\n",
    "\n",
    "# free_gpu_cache()\n",
    "\n",
    "\n",
    "# d = loaded_deltas[\"model<>layers<>5<>mlp<>gate_proj\"]\n",
    "# d.abs().max()"
   ]
  },
  {
   "cell_type": "code",
   "execution_count": 9,
   "id": "4ec24d05",
   "metadata": {},
   "outputs": [],
   "source": [
    "# from src.utils.training_utils import TrainableLM_delta, TrainableLM_LoRA\n",
    "\n",
    "# #################################################\n",
    "# Trainable_CLS = TrainableLM_delta\n",
    "# # Trainable_CLS = TrainableLM_LoRA\n",
    "# #################################################\n",
    "\n",
    "# Trainable_CLS.fuse_with_model(mt._model, loaded_deltas)"
   ]
  },
  {
   "cell_type": "code",
   "execution_count": 10,
   "id": "6d20ced5",
   "metadata": {},
   "outputs": [],
   "source": [
    "###############################################################################\n",
    "LAYERS = [35, 47, 52]\n",
    "HEADS = [\n",
    "    (33, 45),\n",
    "    (33, 18),\n",
    "    (34, 1),\n",
    "    (34, 6),\n",
    "    (34, 7),\n",
    "    (35, 19),\n",
    "    (39, 40),\n",
    "    (42, 30),\n",
    "    (47, 18),\n",
    "    (52, 58),\n",
    "]\n",
    "\n",
    "# LAYERS = [54, 60, 67]\n",
    "# HEADS = [\n",
    "#     (54, 44),\n",
    "#     (54, 63),\n",
    "#     (55, 43),\n",
    "#     (55, 29),\n",
    "#     (60, 9),\n",
    "#     (60, 25),\n",
    "#     (60, 42),\n",
    "#     (67, 51)\n",
    "# ]\n",
    "###############################################################################"
   ]
  },
  {
   "cell_type": "code",
   "execution_count": 12,
   "id": "44b9d51b",
   "metadata": {},
   "outputs": [
    {
     "name": "stdout",
     "output_type": "stream",
     "text": [
      "2025-07-31 13:09:08 src.selection.data INFO     Loaded 16 categories\n"
     ]
    },
    {
     "data": {
      "text/plain": [
       "['actor',\n",
       " 'singer',\n",
       " 'comedian',\n",
       " 'director',\n",
       " 'basketball player',\n",
       " 'football player',\n",
       " 'soccer player',\n",
       " 'tennis player',\n",
       " 'golfer',\n",
       " 'boxer',\n",
       " 'news anchor',\n",
       " 'journalist',\n",
       " 'author',\n",
       " 'fashion designer',\n",
       " 'entrepreneur',\n",
       " 'politician']"
      ]
     },
     "execution_count": 12,
     "metadata": {},
     "output_type": "execute_result"
    }
   ],
   "source": [
    "from src.selection.data  import load_people_by_category\n",
    "\n",
    "people_by_category = load_people_by_category(tokenizer = mt.tokenizer)\n",
    "list(people_by_category.keys())"
   ]
  },
  {
   "cell_type": "code",
   "execution_count": 27,
   "id": "1f849c4e",
   "metadata": {},
   "outputs": [
    {
     "name": "stdout",
     "output_type": "stream",
     "text": [
      "Which person from the following list has their occupation in common with Ryan Reynolds?\n",
      "Options: David Remnick, Adele, Denzel Washington, Sean Hannity, Jordan Spieth, Karl Lagerfeld.\n",
      "Ans: >> Denzel Washington\n"
     ]
    }
   ],
   "source": [
    "from src.selection.data import get_random_sample\n",
    "\n",
    "sample = get_random_sample(\n",
    "    people_by_category=people_by_category,\n",
    "    mt=mt,\n",
    "    attribute=\"actor\",\n",
    "    n_distractors=5\n",
    ")\n",
    "print(sample.prompt, \">>\", sample.obj)"
   ]
  },
  {
   "cell_type": "code",
   "execution_count": 52,
   "id": "1ad8689e",
   "metadata": {},
   "outputs": [
    {
     "name": "stdout",
     "output_type": "stream",
     "text": [
      "1. O'Donnell, Norah\n",
      "2. Roberts, Julia\n",
      "3. McIlroy, Rory\n",
      "4. Kvitová, Petra\n",
      "5. Louboutin, Christian\n",
      "6. Anderson, Wes\n",
      "Who among these people mentioned above is by profession a actor?\n",
      "Answer:  >> \n",
      " 2. Roberts, Julia\n",
      "Julia Roberts is an American actress and producer. She is known\n"
     ]
    },
    {
     "data": {
      "text/plain": [
       "[[PredictedToken(token=' Julia', prob=0.33203125, logit=19.625, token_id=40394, metadata=None),\n",
       "  PredictedToken(token=' Roberts', prob=0.259765625, logit=19.375, token_id=31248, metadata=None),\n",
       "  PredictedToken(token=' ', prob=0.138671875, logit=18.75, token_id=220, metadata=None),\n",
       "  PredictedToken(token=' (', prob=0.051025390625, logit=17.75, token_id=320, metadata=None),\n",
       "  PredictedToken(token=' Option', prob=0.044921875, logit=17.625, token_id=7104, metadata=None)]]"
      ]
     },
     "execution_count": 52,
     "metadata": {},
     "output_type": "execute_result"
    }
   ],
   "source": [
    "from src.functional import generate_with_patch, predict_next_token\n",
    "\n",
    "# prompt_template = \"\"\"Which of these peoples is by profession a {}?\n",
    "# options: {}\n",
    "# Answer:\"\"\"\n",
    "# prompt = prompt_template.format(\n",
    "#     sample.metadata[\"attribute\"],\n",
    "#     \", \".join(sample.options)\n",
    "# )\n",
    "\n",
    "prompt_template = \"\"\"{}\n",
    "Who among these people mentioned above is by profession a {}?\n",
    "Answer:\"\"\"\n",
    "\n",
    "sample.options = [\"Norah O'Donnell\", \"Julia Roberts\", \"Rory McIlroy\", \"Petra Kvitová\", \"Christian Louboutin\", \"Wes Anderson\"]\n",
    "\n",
    "\n",
    "# prompt = prompt_template.format(\n",
    "#     \", \".join(sample.options),\n",
    "#     sample.metadata[\"attribute\"]\n",
    "# )\n",
    "\n",
    "last_name_first = []\n",
    "for name in sample.options:\n",
    "    first_name = name.split(\" \")[0]\n",
    "    last_name = \" \".join(name.split(\" \")[1:])\n",
    "    last_name_first.append(f\"{last_name}, {first_name}\")\n",
    "\n",
    "prompt = prompt_template.format(\n",
    "    \"\\n\".join(f\"{idx+1}. {name}\" for idx, name in enumerate(last_name_first)),\n",
    "    sample.metadata[\"attribute\"]\n",
    ")\n",
    "\n",
    "# prompt = sample.prompt\n",
    "\n",
    "print(prompt, \" >> \")\n",
    "\n",
    "gen = generate_with_patch(\n",
    "    mt=mt,\n",
    "    inputs=prompt,\n",
    "    n_gen_per_prompt=1,\n",
    "    max_new_tokens=20,\n",
    "    remove_prefix=True,\n",
    ")[0]\n",
    "print(gen)\n",
    "\n",
    "predict_next_token(\n",
    "    mt = mt,\n",
    "    inputs=prompt,\n",
    ")"
   ]
  },
  {
   "cell_type": "code",
   "execution_count": 53,
   "id": "fda47f59",
   "metadata": {},
   "outputs": [
    {
     "name": "stdout",
     "output_type": "stream",
     "text": [
      "layer=35\n"
     ]
    },
    {
     "data": {
      "text/html": [
       "<div id=\"circuits-vis-fe11073e-9765\" style=\"margin: 15px 0;\"/>\n",
       "    <script crossorigin type=\"module\">\n",
       "    import { render, ColoredTokens } from \"https://unpkg.com/circuitsvis@1.43.3/dist/cdn/esm.js\";\n",
       "    render(\n",
       "      \"circuits-vis-fe11073e-9765\",\n",
       "      ColoredTokens,\n",
       "      {\"tokens\": [\"1\", \".\", \" O\", \"'D\", \"onn\", \"ell\", \",\", \" Nor\", \"ah\", \"\\n\", \"2\", \".\", \" Roberts\", \",\", \" Julia\", \"\\n\", \"3\", \".\", \" Mc\", \"Il\", \"roy\", \",\", \" Rory\", \"\\n\", \"4\", \".\", \" K\", \"vit\", \"ov\\u00e1\", \",\", \" Petra\", \"\\n\", \"5\", \".\", \" L\", \"oub\", \"out\", \"in\", \",\", \" Christian\", \"\\n\", \"6\", \".\", \" Anderson\", \",\", \" Wes\", \"\\n\", \"Who\", \" among\", \" these\", \" people\", \" mentioned\", \" above\", \" is\", \" by\", \" profession\", \" a\", \" actor\", \"?\\n\", \"Answer\", \":\"], \"values\": [0.020537137985229492, 0.004213258624076843, 0.0016117468476295471, 0.0017377957701683044, 0.001714404672384262, 0.0014304891228675842, 0.004085961729288101, 0.000997152179479599, 0.00607028603553772, 0.007215708494186401, 0.0204143226146698, 0.00673241913318634, 0.003531426191329956, 0.002643425017595291, 0.027591116726398468, 0.053831636905670166, 0.00891705323010683, 0.028026655316352844, 0.003405969589948654, 0.0014595594257116318, 0.001809641718864441, 0.002920057624578476, 0.006314761936664581, 0.010552048683166504, 0.008541904389858246, 0.004269659519195557, 0.0021551400423049927, 0.0008286796510219574, 0.0016577988862991333, 0.0015216544270515442, 0.00141216441988945, 0.0025035589933395386, 0.002997376024723053, 0.0018410347402095795, 0.003184933215379715, 0.0006750281900167465, 0.0008240416646003723, 0.0017294101417064667, 0.0009409114718437195, 0.0017751120030879974, 0.002274557948112488, 0.006578132510185242, 0.0030070245265960693, 0.0012027323246002197, 0.002459213137626648, 0.009159930050373077, 0.00915246456861496, 0.009720325469970703, 0.006349029019474983, 0.007343843579292297, 0.003119494765996933, 0.0028099361807107925, 0.006424548104405403, 0.004696585237979889, 0.001938173547387123, 0.006665253546088934, 0.0037296563386917114, 0.0234643816947937, 0.02784109115600586, 0.021344095468521118, 0.034137189388275146]}\n",
       "    )\n",
       "    </script>"
      ],
      "text/plain": [
       "<circuitsvis.utils.render.RenderedHTML at 0x7fe394c1dcd0>"
      ]
     },
     "metadata": {},
     "output_type": "display_data"
    },
    {
     "name": "stdout",
     "output_type": "stream",
     "text": [
      "--------------------------------------------------------------------------------\n",
      "layer=47\n"
     ]
    },
    {
     "data": {
      "text/html": [
       "<div id=\"circuits-vis-cf768759-c33f\" style=\"margin: 15px 0;\"/>\n",
       "    <script crossorigin type=\"module\">\n",
       "    import { render, ColoredTokens } from \"https://unpkg.com/circuitsvis@1.43.3/dist/cdn/esm.js\";\n",
       "    render(\n",
       "      \"circuits-vis-cf768759-c33f\",\n",
       "      ColoredTokens,\n",
       "      {\"tokens\": [\"1\", \".\", \" O\", \"'D\", \"onn\", \"ell\", \",\", \" Nor\", \"ah\", \"\\n\", \"2\", \".\", \" Roberts\", \",\", \" Julia\", \"\\n\", \"3\", \".\", \" Mc\", \"Il\", \"roy\", \",\", \" Rory\", \"\\n\", \"4\", \".\", \" K\", \"vit\", \"ov\\u00e1\", \",\", \" Petra\", \"\\n\", \"5\", \".\", \" L\", \"oub\", \"out\", \"in\", \",\", \" Christian\", \"\\n\", \"6\", \".\", \" Anderson\", \",\", \" Wes\", \"\\n\", \"Who\", \" among\", \" these\", \" people\", \" mentioned\", \" above\", \" is\", \" by\", \" profession\", \" a\", \" actor\", \"?\\n\", \"Answer\", \":\"], \"values\": [0.0017109587788581848, 0.0010924804955720901, 0.000660591758787632, 0.00041895918548107147, 0.00037796515971422195, 0.00046836957335472107, 0.000391889363527298, 0.00047864625230431557, 0.0009642411023378372, 0.001774221658706665, 0.001384667120873928, 0.000552009791135788, 0.01788025163114071, 0.003200664184987545, 0.004575623665004969, 0.0035487543791532516, 0.0013263826258480549, 0.0017544911243021488, 0.0003380505368113518, 0.00014450715389102697, 0.00016190216410905123, 0.00021432212088257074, 0.0006983308121562004, 0.0012816311791539192, 0.0009407037869095802, 0.0007044498343020678, 0.00044064479880034924, 0.00017826911062002182, 0.00030695321038365364, 0.00020111154299229383, 0.0003008185885846615, 0.0004931129515171051, 0.0003121858462691307, 0.0004818495362997055, 0.0004768051439896226, 0.00018234271556138992, 6.066937930881977e-05, 0.0002528224140405655, 7.40191899240017e-05, 0.00030264630913734436, 0.00025768112391233444, 0.000861563254147768, 0.0004574265331029892, 0.0004789009690284729, 0.0011435868218541145, 0.0007416419684886932, 0.0004009213298559189, 0.0016333796083927155, 0.000851157121360302, 0.0007179789245128632, 0.0005216803401708603, 0.0006945692002773285, 0.0007138699293136597, 0.0006178654730319977, 0.0004144664853811264, 0.0014589522033929825, 0.0005413098260760307, 0.0024122465401887894, 0.008498281240463257, 0.009557768702507019, 0.00272996723651886]}\n",
       "    )\n",
       "    </script>"
      ],
      "text/plain": [
       "<circuitsvis.utils.render.RenderedHTML at 0x7fe394c24230>"
      ]
     },
     "metadata": {},
     "output_type": "display_data"
    },
    {
     "name": "stdout",
     "output_type": "stream",
     "text": [
      "--------------------------------------------------------------------------------\n",
      "layer=52\n"
     ]
    },
    {
     "data": {
      "text/html": [
       "<div id=\"circuits-vis-f91aba08-df80\" style=\"margin: 15px 0;\"/>\n",
       "    <script crossorigin type=\"module\">\n",
       "    import { render, ColoredTokens } from \"https://unpkg.com/circuitsvis@1.43.3/dist/cdn/esm.js\";\n",
       "    render(\n",
       "      \"circuits-vis-f91aba08-df80\",\n",
       "      ColoredTokens,\n",
       "      {\"tokens\": [\"1\", \".\", \" O\", \"'D\", \"onn\", \"ell\", \",\", \" Nor\", \"ah\", \"\\n\", \"2\", \".\", \" Roberts\", \",\", \" Julia\", \"\\n\", \"3\", \".\", \" Mc\", \"Il\", \"roy\", \",\", \" Rory\", \"\\n\", \"4\", \".\", \" K\", \"vit\", \"ov\\u00e1\", \",\", \" Petra\", \"\\n\", \"5\", \".\", \" L\", \"oub\", \"out\", \"in\", \",\", \" Christian\", \"\\n\", \"6\", \".\", \" Anderson\", \",\", \" Wes\", \"\\n\", \"Who\", \" among\", \" these\", \" people\", \" mentioned\", \" above\", \" is\", \" by\", \" profession\", \" a\", \" actor\", \"?\\n\", \"Answer\", \":\"], \"values\": [0.003816939890384674, 0.003700053319334984, 0.0033019687980413437, 0.001351410523056984, 0.0009294860064983368, 0.0015438022091984749, 0.0017329724505543709, 0.002750679850578308, 0.002658311277627945, 0.005074270069599152, 0.004058606922626495, 0.0017315074801445007, 0.012210091575980186, 0.003594429697841406, 0.014565510675311089, 0.002686895430088043, 0.001715038437396288, 0.0038294270634651184, 0.0006411857903003693, 0.0002593160606920719, 0.00033232150599360466, 0.0005990383215248585, 0.0014085210859775543, 0.0015852730721235275, 0.0024468842893838882, 0.0015861410647630692, 0.0006070728413760662, 0.00036185234785079956, 0.0018694372847676277, 0.0005852505564689636, 0.0006631845608353615, 0.0007852092385292053, 0.0009603728540241718, 0.0014088591560721397, 0.0009055332047864795, 0.00029378593899309635, 0.00010058755287900567, 0.00034626456908881664, 0.00023489270824939013, 0.00046717002987861633, 0.00048135221004486084, 0.0017773089930415154, 0.0013718493282794952, 0.0005422304384410381, 0.0011192015372216702, 0.001802278682589531, 0.0007375171408057213, 0.003816012293100357, 0.002578217536211014, 0.0020379964262247086, 0.0013822847977280617, 0.0014020823873579502, 0.0030812625773251057, 0.001375218853354454, 0.0008043451234698296, 0.0019336901605129242, 0.0013768943026661873, 0.0051104165613651276, 0.020870961248874664, 0.02183418720960617, 0.023004021495580673]}\n",
       "    )\n",
       "    </script>"
      ],
      "text/plain": [
       "<circuitsvis.utils.render.RenderedHTML at 0x7fe394c1f050>"
      ]
     },
     "metadata": {},
     "output_type": "display_data"
    },
    {
     "name": "stdout",
     "output_type": "stream",
     "text": [
      "--------------------------------------------------------------------------------\n"
     ]
    },
    {
     "data": {
      "text/plain": [
       "[PredictedToken(token=' Julia', prob=0.33203125, logit=19.625, token_id=40394, metadata=None),\n",
       " PredictedToken(token=' Roberts', prob=0.259765625, logit=19.375, token_id=31248, metadata=None),\n",
       " PredictedToken(token=' ', prob=0.138671875, logit=18.75, token_id=220, metadata=None),\n",
       " PredictedToken(token=' (', prob=0.051025390625, logit=17.75, token_id=320, metadata=None),\n",
       " PredictedToken(token=' Option', prob=0.045166015625, logit=17.625, token_id=7104, metadata=None)]"
      ]
     },
     "execution_count": 53,
     "metadata": {},
     "output_type": "execute_result"
    }
   ],
   "source": [
    "from src.attention import get_attention_matrices, visualize_average_attn_matrix\n",
    "from src.functional import interpret_logits\n",
    "from src.tokens import prepare_input\n",
    "\n",
    "tokenized = prepare_input(\n",
    "    tokenizer=mt,\n",
    "    prompts=prompt,\n",
    "    add_bos_token=\"qwen\" in mt.name.lower()\n",
    ")\n",
    "\n",
    "attn_matrices = get_attention_matrices(\n",
    "    input=tokenized,\n",
    "    mt=mt,\n",
    "    value_weighted=False,\n",
    "    # patches = []\n",
    ")\n",
    "\n",
    "visualize_average_attn_matrix(\n",
    "    mt=mt,\n",
    "    attn_matrices=attn_matrices,\n",
    "    prompt=prompt,\n",
    "    tokenized=tokenized,\n",
    "    layer_window=LAYERS,\n",
    ")\n",
    "\n",
    "interpret_logits(tokenizer=mt, logits=attn_matrices.logits)"
   ]
  },
  {
   "cell_type": "code",
   "execution_count": 54,
   "id": "c346cce7",
   "metadata": {},
   "outputs": [],
   "source": [
    "from src.attention import visualize_attn_matrix\n",
    "\n",
    "# ###############################################################\n",
    "# N_KV_GROUPS = 1  # individual heads\n",
    "# # N_KV_GROUPS = mt.config.num_key_value_heads  # grouped heads\n",
    "# N_HEADS = mt.config.num_attention_heads\n",
    "# LAYER_RANGE = range(mt.n_layer)\n",
    "# ###############################################################\n",
    "\n",
    "# group_id_to_head_indices = {\n",
    "#     i: [i * N_KV_GROUPS + j for j in range(N_KV_GROUPS)]\n",
    "#     for i in range(N_HEADS // N_KV_GROUPS)\n",
    "# }"
   ]
  },
  {
   "cell_type": "code",
   "execution_count": 55,
   "id": "33c72d1f",
   "metadata": {},
   "outputs": [
    {
     "name": "stdout",
     "output_type": "stream",
     "text": [
      "Layer: 33, Head: 45\n"
     ]
    },
    {
     "data": {
      "text/html": [
       "<div id=\"circuits-vis-f40167c0-8b07\" style=\"margin: 15px 0;\"/>\n",
       "    <script crossorigin type=\"module\">\n",
       "    import { render, ColoredTokens } from \"https://unpkg.com/circuitsvis@1.43.3/dist/cdn/esm.js\";\n",
       "    render(\n",
       "      \"circuits-vis-f40167c0-8b07\",\n",
       "      ColoredTokens,\n",
       "      {\"tokens\": [\"1\", \".\", \" O\", \"'D\", \"onn\", \"ell\", \",\", \" Nor\", \"ah\", \"\\n\", \"2\", \".\", \" Roberts\", \",\", \" Julia\", \"\\n\", \"3\", \".\", \" Mc\", \"Il\", \"roy\", \",\", \" Rory\", \"\\n\", \"4\", \".\", \" K\", \"vit\", \"ov\\u00e1\", \",\", \" Petra\", \"\\n\", \"5\", \".\", \" L\", \"oub\", \"out\", \"in\", \",\", \" Christian\", \"\\n\", \"6\", \".\", \" Anderson\", \",\", \" Wes\", \"\\n\", \"Who\", \" among\", \" these\", \" people\", \" mentioned\", \" above\", \" is\", \" by\", \" profession\", \" a\", \" actor\", \"?\\n\", \"Answer\", \":\"], \"values\": [0.034423828125, 0.003326416015625, 0.0022430419921875, 0.006439208984375, 0.004547119140625, 0.003814697265625, 0.01519775390625, 0.0025787353515625, 0.0115966796875, 0.0126953125, 0.01202392578125, 0.01385498046875, 0.029296875, 0.033447265625, 0.10498046875, 0.06787109375, 0.005462646484375, 0.0262451171875, 0.0174560546875, 0.01129150390625, 0.005615234375, 0.00897216796875, 0.00433349609375, 0.0106201171875, 0.006805419921875, 0.00823974609375, 0.005035400390625, 0.003753662109375, 0.00726318359375, 0.00347900390625, 0.00494384765625, 0.004669189453125, 0.0029296875, 0.00494384765625, 0.006744384765625, 0.00140380859375, 0.000850677490234375, 0.0026702880859375, 0.00201416015625, 0.002471923828125, 0.00107574462890625, 0.007476806640625, 0.003173828125, 0.007781982421875, 0.0257568359375, 0.0186767578125, 0.009765625, 0.018798828125, 0.00347900390625, 0.004913330078125, 0.0017242431640625, 0.0028839111328125, 0.00482177734375, 0.0035858154296875, 0.000644683837890625, 0.001129150390625, 0.0014495849609375, 0.0277099609375, 0.0556640625, 0.00531005859375, 0.048583984375]}\n",
       "    )\n",
       "    </script>"
      ],
      "text/plain": [
       "<circuitsvis.utils.render.RenderedHTML at 0x7fe394ce5460>"
      ]
     },
     "metadata": {},
     "output_type": "display_data"
    },
    {
     "name": "stdout",
     "output_type": "stream",
     "text": [
      "Layer: 33, Head: 18\n"
     ]
    },
    {
     "data": {
      "text/html": [
       "<div id=\"circuits-vis-7ff6244a-7738\" style=\"margin: 15px 0;\"/>\n",
       "    <script crossorigin type=\"module\">\n",
       "    import { render, ColoredTokens } from \"https://unpkg.com/circuitsvis@1.43.3/dist/cdn/esm.js\";\n",
       "    render(\n",
       "      \"circuits-vis-7ff6244a-7738\",\n",
       "      ColoredTokens,\n",
       "      {\"tokens\": [\"1\", \".\", \" O\", \"'D\", \"onn\", \"ell\", \",\", \" Nor\", \"ah\", \"\\n\", \"2\", \".\", \" Roberts\", \",\", \" Julia\", \"\\n\", \"3\", \".\", \" Mc\", \"Il\", \"roy\", \",\", \" Rory\", \"\\n\", \"4\", \".\", \" K\", \"vit\", \"ov\\u00e1\", \",\", \" Petra\", \"\\n\", \"5\", \".\", \" L\", \"oub\", \"out\", \"in\", \",\", \" Christian\", \"\\n\", \"6\", \".\", \" Anderson\", \",\", \" Wes\", \"\\n\", \"Who\", \" among\", \" these\", \" people\", \" mentioned\", \" above\", \" is\", \" by\", \" profession\", \" a\", \" actor\", \"?\\n\", \"Answer\", \":\"], \"values\": [0.0017547607421875, 0.00136566162109375, 0.0003948211669921875, 0.0032806396484375, 0.00051116943359375, 0.000568389892578125, 0.007110595703125, 0.00012302398681640625, 0.002410888671875, 0.0203857421875, 0.041748046875, 0.0203857421875, 0.00396728515625, 0.00970458984375, 0.1416015625, 0.328125, 0.0274658203125, 0.21875, 0.0086669921875, 0.00028228759765625, 0.0012359619140625, 0.00537109375, 0.00994873046875, 0.0257568359375, 0.026123046875, 0.01123046875, 0.000751495361328125, 6.67572021484375e-05, 0.000919342041015625, 0.0016937255859375, 0.00092315673828125, 0.01141357421875, 0.00167083740234375, 0.0010528564453125, 0.0016632080078125, 0.0001506805419921875, 0.00015544891357421875, 0.0003223419189453125, 0.000530242919921875, 0.0011138916015625, 0.004852294921875, 0.007049560546875, 0.001129150390625, 0.0004367828369140625, 0.00469970703125, 0.004791259765625, 0.0086669921875, 0.001251220703125, 3.528594970703125e-05, 3.8623809814453125e-05, 5.91278076171875e-05, 3.314018249511719e-05, 4.5299530029296875e-05, 3.314018249511719e-05, 1.6927719116210938e-05, 2.467632293701172e-05, 0.00017642974853515625, 0.00396728515625, 0.0002880096435546875, 0.000347137451171875, 0.0031280517578125]}\n",
       "    )\n",
       "    </script>"
      ],
      "text/plain": [
       "<circuitsvis.utils.render.RenderedHTML at 0x7fe394c1d310>"
      ]
     },
     "metadata": {},
     "output_type": "display_data"
    },
    {
     "name": "stdout",
     "output_type": "stream",
     "text": [
      "Layer: 34, Head: 1\n"
     ]
    },
    {
     "data": {
      "text/html": [
       "<div id=\"circuits-vis-2558f2c2-a5bb\" style=\"margin: 15px 0;\"/>\n",
       "    <script crossorigin type=\"module\">\n",
       "    import { render, ColoredTokens } from \"https://unpkg.com/circuitsvis@1.43.3/dist/cdn/esm.js\";\n",
       "    render(\n",
       "      \"circuits-vis-2558f2c2-a5bb\",\n",
       "      ColoredTokens,\n",
       "      {\"tokens\": [\"1\", \".\", \" O\", \"'D\", \"onn\", \"ell\", \",\", \" Nor\", \"ah\", \"\\n\", \"2\", \".\", \" Roberts\", \",\", \" Julia\", \"\\n\", \"3\", \".\", \" Mc\", \"Il\", \"roy\", \",\", \" Rory\", \"\\n\", \"4\", \".\", \" K\", \"vit\", \"ov\\u00e1\", \",\", \" Petra\", \"\\n\", \"5\", \".\", \" L\", \"oub\", \"out\", \"in\", \",\", \" Christian\", \"\\n\", \"6\", \".\", \" Anderson\", \",\", \" Wes\", \"\\n\", \"Who\", \" among\", \" these\", \" people\", \" mentioned\", \" above\", \" is\", \" by\", \" profession\", \" a\", \" actor\", \"?\\n\", \"Answer\", \":\"], \"values\": [0.006011962890625, 0.00069427490234375, 0.000186920166015625, 0.001922607421875, 0.00152587890625, 0.00122833251953125, 0.00787353515625, 0.000141143798828125, 0.0106201171875, 0.002166748046875, 0.0201416015625, 0.0211181640625, 0.016357421875, 0.006744384765625, 0.353515625, 0.3125, 0.023681640625, 0.0732421875, 0.0038604736328125, 0.000762939453125, 0.0005340576171875, 0.00115203857421875, 0.00010824203491210938, 0.00102996826171875, 0.0047607421875, 0.00982666015625, 0.00098419189453125, 7.12275505065918e-06, 1.8835067749023438e-05, 3.62396240234375e-05, 1.9431114196777344e-05, 0.0002727508544921875, 0.00119781494140625, 5.269050598144531e-05, 0.002105712890625, 1.0073184967041016e-05, 7.009506225585938e-05, 1.9431114196777344e-05, 1.8835067749023438e-05, 7.772445678710938e-05, 3.504753112792969e-05, 0.0018463134765625, 0.002349853515625, 0.00017261505126953125, 0.0040283203125, 0.002471923828125, 0.000972747802734375, 0.003326416015625, 0.000579833984375, 0.00133514404296875, 0.0004634857177734375, 0.0005950927734375, 0.000354766845703125, 0.0001926422119140625, 0.0001392364501953125, 2.3365020751953125e-05, 0.00011348724365234375, 0.022705078125, 0.002838134765625, 0.0002803802490234375, 0.0184326171875]}\n",
       "    )\n",
       "    </script>"
      ],
      "text/plain": [
       "<circuitsvis.utils.render.RenderedHTML at 0x7fe394c256a0>"
      ]
     },
     "metadata": {},
     "output_type": "display_data"
    },
    {
     "name": "stdout",
     "output_type": "stream",
     "text": [
      "Layer: 34, Head: 6\n"
     ]
    },
    {
     "data": {
      "text/html": [
       "<div id=\"circuits-vis-df5763d3-70d6\" style=\"margin: 15px 0;\"/>\n",
       "    <script crossorigin type=\"module\">\n",
       "    import { render, ColoredTokens } from \"https://unpkg.com/circuitsvis@1.43.3/dist/cdn/esm.js\";\n",
       "    render(\n",
       "      \"circuits-vis-df5763d3-70d6\",\n",
       "      ColoredTokens,\n",
       "      {\"tokens\": [\"1\", \".\", \" O\", \"'D\", \"onn\", \"ell\", \",\", \" Nor\", \"ah\", \"\\n\", \"2\", \".\", \" Roberts\", \",\", \" Julia\", \"\\n\", \"3\", \".\", \" Mc\", \"Il\", \"roy\", \",\", \" Rory\", \"\\n\", \"4\", \".\", \" K\", \"vit\", \"ov\\u00e1\", \",\", \" Petra\", \"\\n\", \"5\", \".\", \" L\", \"oub\", \"out\", \"in\", \",\", \" Christian\", \"\\n\", \"6\", \".\", \" Anderson\", \",\", \" Wes\", \"\\n\", \"Who\", \" among\", \" these\", \" people\", \" mentioned\", \" above\", \" is\", \" by\", \" profession\", \" a\", \" actor\", \"?\\n\", \"Answer\", \":\"], \"values\": [0.0250244140625, 0.00103759765625, 0.00042724609375, 0.0029449462890625, 0.005157470703125, 0.004150390625, 0.009521484375, 0.000576019287109375, 0.0101318359375, 0.0035400390625, 0.01348876953125, 0.009033203125, 0.03515625, 0.0125732421875, 0.33203125, 0.21484375, 0.0250244140625, 0.0615234375, 0.005279541015625, 0.00341796875, 0.0016021728515625, 0.0031890869140625, 0.0003833770751953125, 0.00189971923828125, 0.007781982421875, 0.0091552734375, 0.0022430419921875, 0.00011157989501953125, 0.000186920166015625, 0.00023651123046875, 0.0001811981201171875, 0.00103759765625, 0.00164031982421875, 0.000293731689453125, 0.004791259765625, 7.915496826171875e-05, 0.00032806396484375, 0.00012683868408203125, 8.153915405273438e-05, 0.0002765655517578125, 0.00011491775512695312, 0.0027923583984375, 0.0019683837890625, 0.0012664794921875, 0.0101318359375, 0.006927490234375, 0.00311279296875, 0.004913330078125, 0.00087738037109375, 0.0023651123046875, 0.000705718994140625, 0.000850677490234375, 0.0003948211669921875, 0.000499725341796875, 0.00043487548828125, 3.743171691894531e-05, 0.000514984130859375, 0.040771484375, 0.006195068359375, 0.00021839141845703125, 0.03564453125]}\n",
       "    )\n",
       "    </script>"
      ],
      "text/plain": [
       "<circuitsvis.utils.render.RenderedHTML at 0x7fe394ce64b0>"
      ]
     },
     "metadata": {},
     "output_type": "display_data"
    },
    {
     "name": "stdout",
     "output_type": "stream",
     "text": [
      "Layer: 34, Head: 7\n"
     ]
    },
    {
     "data": {
      "text/html": [
       "<div id=\"circuits-vis-3a3f2092-c5bb\" style=\"margin: 15px 0;\"/>\n",
       "    <script crossorigin type=\"module\">\n",
       "    import { render, ColoredTokens } from \"https://unpkg.com/circuitsvis@1.43.3/dist/cdn/esm.js\";\n",
       "    render(\n",
       "      \"circuits-vis-3a3f2092-c5bb\",\n",
       "      ColoredTokens,\n",
       "      {\"tokens\": [\"1\", \".\", \" O\", \"'D\", \"onn\", \"ell\", \",\", \" Nor\", \"ah\", \"\\n\", \"2\", \".\", \" Roberts\", \",\", \" Julia\", \"\\n\", \"3\", \".\", \" Mc\", \"Il\", \"roy\", \",\", \" Rory\", \"\\n\", \"4\", \".\", \" K\", \"vit\", \"ov\\u00e1\", \",\", \" Petra\", \"\\n\", \"5\", \".\", \" L\", \"oub\", \"out\", \"in\", \",\", \" Christian\", \"\\n\", \"6\", \".\", \" Anderson\", \",\", \" Wes\", \"\\n\", \"Who\", \" among\", \" these\", \" people\", \" mentioned\", \" above\", \" is\", \" by\", \" profession\", \" a\", \" actor\", \"?\\n\", \"Answer\", \":\"], \"values\": [0.0439453125, 0.000759124755859375, 0.0004062652587890625, 0.002197265625, 0.0023040771484375, 0.00168609619140625, 0.0038604736328125, 0.0004749298095703125, 0.007171630859375, 0.0030975341796875, 0.0101318359375, 0.00787353515625, 0.0093994140625, 0.003387451171875, 0.1181640625, 0.09228515625, 0.01068115234375, 0.022705078125, 0.0030364990234375, 0.00182342529296875, 0.002197265625, 0.0023040771484375, 0.0030364990234375, 0.005950927734375, 0.00909423828125, 0.010498046875, 0.0045166015625, 0.00078582763671875, 0.00139617919921875, 0.0011444091796875, 0.00160980224609375, 0.0042724609375, 0.0034942626953125, 0.00144195556640625, 0.005523681640625, 0.00031280517578125, 0.000946044921875, 0.001373291015625, 0.00084686279296875, 0.00421142578125, 0.003204345703125, 0.01251220703125, 0.00494384765625, 0.003082275390625, 0.01300048828125, 0.0213623046875, 0.025146484375, 0.027587890625, 0.008056640625, 0.0240478515625, 0.0057373046875, 0.00555419921875, 0.006866455078125, 0.0074462890625, 0.001953125, 0.000629425048828125, 0.005462646484375, 0.1259765625, 0.04150390625, 0.003387451171875, 0.1279296875]}\n",
       "    )\n",
       "    </script>"
      ],
      "text/plain": [
       "<circuitsvis.utils.render.RenderedHTML at 0x7fe394c25430>"
      ]
     },
     "metadata": {},
     "output_type": "display_data"
    },
    {
     "name": "stdout",
     "output_type": "stream",
     "text": [
      "Layer: 35, Head: 19\n"
     ]
    },
    {
     "data": {
      "text/html": [
       "<div id=\"circuits-vis-b1a356a4-920a\" style=\"margin: 15px 0;\"/>\n",
       "    <script crossorigin type=\"module\">\n",
       "    import { render, ColoredTokens } from \"https://unpkg.com/circuitsvis@1.43.3/dist/cdn/esm.js\";\n",
       "    render(\n",
       "      \"circuits-vis-b1a356a4-920a\",\n",
       "      ColoredTokens,\n",
       "      {\"tokens\": [\"1\", \".\", \" O\", \"'D\", \"onn\", \"ell\", \",\", \" Nor\", \"ah\", \"\\n\", \"2\", \".\", \" Roberts\", \",\", \" Julia\", \"\\n\", \"3\", \".\", \" Mc\", \"Il\", \"roy\", \",\", \" Rory\", \"\\n\", \"4\", \".\", \" K\", \"vit\", \"ov\\u00e1\", \",\", \" Petra\", \"\\n\", \"5\", \".\", \" L\", \"oub\", \"out\", \"in\", \",\", \" Christian\", \"\\n\", \"6\", \".\", \" Anderson\", \",\", \" Wes\", \"\\n\", \"Who\", \" among\", \" these\", \" people\", \" mentioned\", \" above\", \" is\", \" by\", \" profession\", \" a\", \" actor\", \"?\\n\", \"Answer\", \":\"], \"values\": [0.0030517578125, 0.00015544891357421875, 0.00042724609375, 0.0011138916015625, 0.00130462646484375, 0.00075531005859375, 0.003326416015625, 0.00112152099609375, 0.013671875, 0.006622314453125, 0.00921630859375, 0.046630859375, 0.0024261474609375, 0.00060272216796875, 0.30859375, 0.2734375, 0.07470703125, 0.048828125, 0.004547119140625, 0.000782012939453125, 0.001007080078125, 0.000885009765625, 0.00482177734375, 0.0089111328125, 0.000789642333984375, 0.02001953125, 0.0078125, 0.0002651214599609375, 0.0018463134765625, 0.0002689361572265625, 0.00173187255859375, 0.0016632080078125, 0.00144195556640625, 0.003082275390625, 0.0076904296875, 7.009506225585938e-05, 3.5762786865234375e-05, 0.00038909912109375, 0.00011920928955078125, 0.0012664794921875, 0.00262451171875, 0.000286102294921875, 0.0068359375, 0.0005950927734375, 0.00116729736328125, 0.041748046875, 0.0439453125, 0.004119873046875, 1.9788742065429688e-05, 6.29425048828125e-05, 7.009506225585938e-05, 1.800060272216797e-05, 5.0067901611328125e-06, 3.933906555175781e-05, 5.3882598876953125e-05, 1.0251998901367188e-05, 0.0001583099365234375, 0.00238037109375, 0.0004425048828125, 2.2411346435546875e-05, 0.00115966796875]}\n",
       "    )\n",
       "    </script>"
      ],
      "text/plain": [
       "<circuitsvis.utils.render.RenderedHTML at 0x7fe394c1f200>"
      ]
     },
     "metadata": {},
     "output_type": "display_data"
    },
    {
     "name": "stdout",
     "output_type": "stream",
     "text": [
      "Layer: 39, Head: 40\n"
     ]
    },
    {
     "data": {
      "text/html": [
       "<div id=\"circuits-vis-da7dd218-cbc7\" style=\"margin: 15px 0;\"/>\n",
       "    <script crossorigin type=\"module\">\n",
       "    import { render, ColoredTokens } from \"https://unpkg.com/circuitsvis@1.43.3/dist/cdn/esm.js\";\n",
       "    render(\n",
       "      \"circuits-vis-da7dd218-cbc7\",\n",
       "      ColoredTokens,\n",
       "      {\"tokens\": [\"1\", \".\", \" O\", \"'D\", \"onn\", \"ell\", \",\", \" Nor\", \"ah\", \"\\n\", \"2\", \".\", \" Roberts\", \",\", \" Julia\", \"\\n\", \"3\", \".\", \" Mc\", \"Il\", \"roy\", \",\", \" Rory\", \"\\n\", \"4\", \".\", \" K\", \"vit\", \"ov\\u00e1\", \",\", \" Petra\", \"\\n\", \"5\", \".\", \" L\", \"oub\", \"out\", \"in\", \",\", \" Christian\", \"\\n\", \"6\", \".\", \" Anderson\", \",\", \" Wes\", \"\\n\", \"Who\", \" among\", \" these\", \" people\", \" mentioned\", \" above\", \" is\", \" by\", \" profession\", \" a\", \" actor\", \"?\\n\", \"Answer\", \":\"], \"values\": [0.002777099609375, 0.0017852783203125, 7.486343383789062e-05, 0.0003643035888671875, 0.0003414154052734375, 0.0002498626708984375, 0.001220703125, 0.000217437744140625, 0.0004825592041015625, 0.007080078125, 0.0011749267578125, 0.004852294921875, 0.0252685546875, 0.00958251953125, 0.09033203125, 0.65625, 0.0084228515625, 0.06494140625, 0.0015106201171875, 0.00015926361083984375, 0.00016880035400390625, 0.00128936767578125, 0.00029754638671875, 0.0218505859375, 0.001800537109375, 0.00250244140625, 0.000438690185546875, 6.258487701416016e-06, 3.838539123535156e-05, 0.0003204345703125, 8.249282836914062e-05, 0.00604248046875, 0.000148773193359375, 0.0019683837890625, 0.00089263916015625, 6.0498714447021484e-06, 6.0498714447021484e-06, 4.0531158447265625e-06, 4.076957702636719e-05, 5.245208740234375e-05, 0.0001888275146484375, 0.00063323974609375, 0.0004177093505859375, 0.00016689300537109375, 0.0023040771484375, 0.00142669677734375, 0.00299072265625, 0.00128936767578125, 0.0012969970703125, 0.0002651214599609375, 7.152557373046875e-05, 0.0002498626708984375, 0.00080108642578125, 0.0003528594970703125, 4.220008850097656e-05, 0.00010251998901367188, 0.00074005126953125, 0.0037841796875, 0.027587890625, 0.00213623046875, 0.0172119140625]}\n",
       "    )\n",
       "    </script>"
      ],
      "text/plain": [
       "<circuitsvis.utils.render.RenderedHTML at 0x7fe394c1d310>"
      ]
     },
     "metadata": {},
     "output_type": "display_data"
    },
    {
     "name": "stdout",
     "output_type": "stream",
     "text": [
      "Layer: 42, Head: 30\n"
     ]
    },
    {
     "data": {
      "text/html": [
       "<div id=\"circuits-vis-3135418c-5824\" style=\"margin: 15px 0;\"/>\n",
       "    <script crossorigin type=\"module\">\n",
       "    import { render, ColoredTokens } from \"https://unpkg.com/circuitsvis@1.43.3/dist/cdn/esm.js\";\n",
       "    render(\n",
       "      \"circuits-vis-3135418c-5824\",\n",
       "      ColoredTokens,\n",
       "      {\"tokens\": [\"1\", \".\", \" O\", \"'D\", \"onn\", \"ell\", \",\", \" Nor\", \"ah\", \"\\n\", \"2\", \".\", \" Roberts\", \",\", \" Julia\", \"\\n\", \"3\", \".\", \" Mc\", \"Il\", \"roy\", \",\", \" Rory\", \"\\n\", \"4\", \".\", \" K\", \"vit\", \"ov\\u00e1\", \",\", \" Petra\", \"\\n\", \"5\", \".\", \" L\", \"oub\", \"out\", \"in\", \",\", \" Christian\", \"\\n\", \"6\", \".\", \" Anderson\", \",\", \" Wes\", \"\\n\", \"Who\", \" among\", \" these\", \" people\", \" mentioned\", \" above\", \" is\", \" by\", \" profession\", \" a\", \" actor\", \"?\\n\", \"Answer\", \":\"], \"values\": [0.005859375, 0.0017852783203125, 0.0019683837890625, 0.0040283203125, 0.005859375, 0.004852294921875, 0.00811767578125, 0.00173187255859375, 0.0035552978515625, 0.008544921875, 0.0069580078125, 0.007293701171875, 0.1826171875, 0.0751953125, 0.061279296875, 0.0634765625, 0.016357421875, 0.0269775390625, 0.035888671875, 0.00494384765625, 0.00323486328125, 0.0035552978515625, 0.001251220703125, 0.007293701171875, 0.00372314453125, 0.0050048828125, 0.0052490234375, 0.00103759765625, 0.00186920166015625, 0.00103759765625, 0.00064849853515625, 0.0020904541015625, 0.000690460205078125, 0.0027313232421875, 0.004638671875, 0.001373291015625, 0.0001583099365234375, 0.0006256103515625, 0.0004730224609375, 0.0003147125244140625, 0.00103759765625, 0.00154876708984375, 0.0021820068359375, 0.00811767578125, 0.01519775390625, 0.00152587890625, 0.0030364990234375, 0.0050048828125, 0.00170135498046875, 0.001434326171875, 0.00162506103515625, 0.00186920166015625, 0.0016021728515625, 0.00113677978515625, 0.000911712646484375, 0.002593994140625, 0.001434326171875, 0.0196533203125, 0.00799560546875, 0.00567626953125, 0.01556396484375]}\n",
       "    )\n",
       "    </script>"
      ],
      "text/plain": [
       "<circuitsvis.utils.render.RenderedHTML at 0x7fe3942e8740>"
      ]
     },
     "metadata": {},
     "output_type": "display_data"
    },
    {
     "name": "stdout",
     "output_type": "stream",
     "text": [
      "Layer: 47, Head: 18\n"
     ]
    },
    {
     "data": {
      "text/html": [
       "<div id=\"circuits-vis-8ff5a405-6e92\" style=\"margin: 15px 0;\"/>\n",
       "    <script crossorigin type=\"module\">\n",
       "    import { render, ColoredTokens } from \"https://unpkg.com/circuitsvis@1.43.3/dist/cdn/esm.js\";\n",
       "    render(\n",
       "      \"circuits-vis-8ff5a405-6e92\",\n",
       "      ColoredTokens,\n",
       "      {\"tokens\": [\"1\", \".\", \" O\", \"'D\", \"onn\", \"ell\", \",\", \" Nor\", \"ah\", \"\\n\", \"2\", \".\", \" Roberts\", \",\", \" Julia\", \"\\n\", \"3\", \".\", \" Mc\", \"Il\", \"roy\", \",\", \" Rory\", \"\\n\", \"4\", \".\", \" K\", \"vit\", \"ov\\u00e1\", \",\", \" Petra\", \"\\n\", \"5\", \".\", \" L\", \"oub\", \"out\", \"in\", \",\", \" Christian\", \"\\n\", \"6\", \".\", \" Anderson\", \",\", \" Wes\", \"\\n\", \"Who\", \" among\", \" these\", \" people\", \" mentioned\", \" above\", \" is\", \" by\", \" profession\", \" a\", \" actor\", \"?\\n\", \"Answer\", \":\"], \"values\": [0.002166748046875, 0.0035552978515625, 0.004180908203125, 0.00133514404296875, 0.000659942626953125, 0.0013427734375, 0.0026702880859375, 0.0029449462890625, 0.002044677734375, 0.004425048828125, 0.0152587890625, 0.00732421875, 0.490234375, 0.09228515625, 0.064453125, 0.07421875, 0.040771484375, 0.048095703125, 0.00244140625, 0.0001277923583984375, 0.0002841949462890625, 0.0012054443359375, 0.00115966796875, 0.00958251953125, 0.00946044921875, 0.0079345703125, 0.002777099609375, 1.436471939086914e-05, 0.000141143798828125, 0.00035858154296875, 0.00017833709716796875, 0.0032806396484375, 0.000888824462890625, 0.004180908203125, 0.005615234375, 3.910064697265625e-05, 1.7881393432617188e-05, 4.291534423828125e-05, 9.107589721679688e-05, 4.029273986816406e-05, 0.00041961669921875, 0.00390625, 0.00238037109375, 0.000629425048828125, 0.0078125, 0.00274658203125, 0.00127410888671875, 0.0029449462890625, 0.0004329681396484375, 0.000797271728515625, 0.0003757476806640625, 0.00016689300537109375, 0.000946044921875, 0.0006103515625, 0.000446319580078125, 0.000507354736328125, 0.000835418701171875, 0.001434326171875, 0.004913330078125, 0.007415771484375, 0.0106201171875]}\n",
       "    )\n",
       "    </script>"
      ],
      "text/plain": [
       "<circuitsvis.utils.render.RenderedHTML at 0x7fe394c24200>"
      ]
     },
     "metadata": {},
     "output_type": "display_data"
    },
    {
     "name": "stdout",
     "output_type": "stream",
     "text": [
      "Layer: 52, Head: 58\n"
     ]
    },
    {
     "data": {
      "text/html": [
       "<div id=\"circuits-vis-c75e3eb9-4343\" style=\"margin: 15px 0;\"/>\n",
       "    <script crossorigin type=\"module\">\n",
       "    import { render, ColoredTokens } from \"https://unpkg.com/circuitsvis@1.43.3/dist/cdn/esm.js\";\n",
       "    render(\n",
       "      \"circuits-vis-c75e3eb9-4343\",\n",
       "      ColoredTokens,\n",
       "      {\"tokens\": [\"1\", \".\", \" O\", \"'D\", \"onn\", \"ell\", \",\", \" Nor\", \"ah\", \"\\n\", \"2\", \".\", \" Roberts\", \",\", \" Julia\", \"\\n\", \"3\", \".\", \" Mc\", \"Il\", \"roy\", \",\", \" Rory\", \"\\n\", \"4\", \".\", \" K\", \"vit\", \"ov\\u00e1\", \",\", \" Petra\", \"\\n\", \"5\", \".\", \" L\", \"oub\", \"out\", \"in\", \",\", \" Christian\", \"\\n\", \"6\", \".\", \" Anderson\", \",\", \" Wes\", \"\\n\", \"Who\", \" among\", \" these\", \" people\", \" mentioned\", \" above\", \" is\", \" by\", \" profession\", \" a\", \" actor\", \"?\\n\", \"Answer\", \":\"], \"values\": [0.002593994140625, 0.004486083984375, 0.0038299560546875, 0.007049560546875, 0.013671875, 0.01611328125, 0.0196533203125, 0.01483154296875, 0.03271484375, 0.0201416015625, 0.004913330078125, 0.003997802734375, 0.12109375, 0.03369140625, 0.35546875, 0.0301513671875, 0.003387451171875, 0.00872802734375, 0.001434326171875, 0.0002918243408203125, 0.00048065185546875, 0.00093841552734375, 0.0030364990234375, 0.002899169921875, 0.00124359130859375, 0.00124359130859375, 0.000644683837890625, 0.00010728836059570312, 0.000560760498046875, 0.00075531005859375, 0.0006866455078125, 0.00189971923828125, 0.00012493133544921875, 0.0006866455078125, 0.0013275146484375, 0.00015544891357421875, 7.343292236328125e-05, 6.723403930664062e-05, 0.00012874603271484375, 8.106231689453125e-05, 0.00010061264038085938, 0.0002727508544921875, 0.00058746337890625, 0.00058746337890625, 0.00531005859375, 0.00469970703125, 0.00115203857421875, 0.00145721435546875, 0.0023651123046875, 0.00081634521484375, 0.0002994537353515625, 0.0008544921875, 0.00152587890625, 0.0006561279296875, 0.0002918243408203125, 0.00124359130859375, 0.00128173828125, 0.00732421875, 0.0023651123046875, 0.00136566162109375, 0.0159912109375]}\n",
       "    )\n",
       "    </script>"
      ],
      "text/plain": [
       "<circuitsvis.utils.render.RenderedHTML at 0x7fe394c8b8f0>"
      ]
     },
     "metadata": {},
     "output_type": "display_data"
    }
   ],
   "source": [
    "for layer_idx, head_idx in HEADS:\n",
    "    print(\n",
    "        f\"Layer: {layer_idx}, Head: {head_idx}\"\n",
    "    )\n",
    "\n",
    "    head_matrix = torch.Tensor(attn_matrices.attention_matrices[layer_idx, head_idx]).squeeze()\n",
    "    visualize_attn_matrix(\n",
    "        attn_matrix=head_matrix,\n",
    "        tokens=[mt.tokenizer.decode(t) for t in tokenized.input_ids[0]],\n",
    "        q_index=-1,\n",
    "        start_from=1\n",
    "    )"
   ]
  },
  {
   "cell_type": "markdown",
   "id": "a6519ed6",
   "metadata": {},
   "source": [
    "### Different Attribute"
   ]
  },
  {
   "cell_type": "code",
   "execution_count": 56,
   "id": "7863a3af",
   "metadata": {},
   "outputs": [
    {
     "name": "stdout",
     "output_type": "stream",
     "text": [
      "2025-07-31 13:24:24 src.selection.data INFO     Loaded 16 categories\n"
     ]
    },
    {
     "data": {
      "text/plain": [
       "['Switzerland',\n",
       " 'UAE',\n",
       " 'Singapore',\n",
       " 'Canada',\n",
       " 'Mexico',\n",
       " 'Brazil',\n",
       " 'India',\n",
       " 'Australia',\n",
       " 'Israel',\n",
       " 'South Africa',\n",
       " 'United Kingdom',\n",
       " 'Trinidad and Tobago',\n",
       " 'New Zealand',\n",
       " 'United States',\n",
       " 'Belgium',\n",
       " 'France']"
      ]
     },
     "execution_count": 56,
     "metadata": {},
     "output_type": "execute_result"
    }
   ],
   "source": [
    "from src.selection.data  import load_people_by_category\n",
    "\n",
    "people_by_nationality = load_people_by_category(\n",
    "    tokenizer = mt.tokenizer,\n",
    "    path = os.path.join(env_utils.DEFAULT_DATA_DIR, \"selection_real/nationality.json\")\n",
    ")\n",
    "list(people_by_nationality.keys())"
   ]
  },
  {
   "cell_type": "code",
   "execution_count": 57,
   "id": "f6de76cc",
   "metadata": {},
   "outputs": [
    {
     "name": "stdout",
     "output_type": "stream",
     "text": [
      "Which person from the following list has their nationality in common with Rose Byrne?\n",
      "Options: Selena Tan, Leonard Cohen, Etgar Keret, Frida Kahlo, Steve Irwin, Justine Henin.\n",
      "Ans: >> Steve Irwin\n"
     ]
    }
   ],
   "source": [
    "from src.selection.data import get_random_sample\n",
    "\n",
    "sample = get_random_sample(\n",
    "    people_by_category=people_by_nationality,\n",
    "    mt=mt,\n",
    "    category=\"nationality\",\n",
    "    attribute=\"Australia\",\n",
    "    n_distractors=5\n",
    ")\n",
    "print(sample.prompt, \">>\", sample.obj)"
   ]
  },
  {
   "cell_type": "code",
   "execution_count": 58,
   "id": "a8bae6d5",
   "metadata": {},
   "outputs": [
    {
     "name": "stdout",
     "output_type": "stream",
     "text": [
      "Selena Tan, Leonard Cohen, Etgar Keret, Frida Kahlo, Steve Irwin, Justine Henin\n",
      "Who among these people mentioned above is from Australia?\n",
      "Answer:  >> \n",
      " Steve Irwin\n",
      "Steve Irwin, also known as the Crocodile Hunter, was a well-known\n"
     ]
    },
    {
     "data": {
      "text/plain": [
       "[[PredictedToken(token=' Steve', prob=0.796875, logit=20.875, token_id=14129, metadata=None),\n",
       "  PredictedToken(token=' The', prob=0.083984375, logit=18.625, token_id=578, metadata=None),\n",
       "  PredictedToken(token=' Only', prob=0.0272216796875, logit=17.5, token_id=8442, metadata=None),\n",
       "  PredictedToken(token=' Among', prob=0.0113525390625, logit=16.625, token_id=22395, metadata=None),\n",
       "  PredictedToken(token=' ', prob=0.0113525390625, logit=16.625, token_id=220, metadata=None)]]"
      ]
     },
     "execution_count": 58,
     "metadata": {},
     "output_type": "execute_result"
    }
   ],
   "source": [
    "from src.functional import generate_with_patch, predict_next_token\n",
    "\n",
    "# prompt_template = \"\"\"Which of these peoples is by profession a {}?\n",
    "# options: {}\n",
    "# Answer:\"\"\"\n",
    "# prompt = prompt_template.format(\n",
    "#     sample.metadata[\"attribute\"],\n",
    "#     \", \".join(sample.options)\n",
    "# )\n",
    "\n",
    "prompt_template = \"\"\"{}\n",
    "Who among these people mentioned above is from {}?\n",
    "Answer:\"\"\"\n",
    "prompt = prompt_template.format(\n",
    "    \", \".join(sample.options),\n",
    "    sample.metadata[\"attribute\"]\n",
    ")\n",
    "\n",
    "print(prompt, \" >> \")\n",
    "\n",
    "gen = generate_with_patch(\n",
    "    mt=mt,\n",
    "    inputs=prompt,\n",
    "    n_gen_per_prompt=1,\n",
    "    max_new_tokens=20,\n",
    "    remove_prefix=True,\n",
    ")[0]\n",
    "print(gen)\n",
    "\n",
    "predict_next_token(\n",
    "    mt = mt,\n",
    "    inputs=prompt,\n",
    ")"
   ]
  },
  {
   "cell_type": "code",
   "execution_count": 59,
   "id": "2632192d",
   "metadata": {},
   "outputs": [
    {
     "name": "stdout",
     "output_type": "stream",
     "text": [
      "layer=35\n"
     ]
    },
    {
     "data": {
      "text/html": [
       "<div id=\"circuits-vis-08cc36d9-bbf2\" style=\"margin: 15px 0;\"/>\n",
       "    <script crossorigin type=\"module\">\n",
       "    import { render, ColoredTokens } from \"https://unpkg.com/circuitsvis@1.43.3/dist/cdn/esm.js\";\n",
       "    render(\n",
       "      \"circuits-vis-08cc36d9-bbf2\",\n",
       "      ColoredTokens,\n",
       "      {\"tokens\": [\"Sel\", \"ena\", \" Tan\", \",\", \" Leonard\", \" Cohen\", \",\", \" Et\", \"gar\", \" Ker\", \"et\", \",\", \" Frid\", \"a\", \" Kah\", \"lo\", \",\", \" Steve\", \" Ir\", \"win\", \",\", \" Just\", \"ine\", \" Hen\", \"in\", \"\\n\", \"Who\", \" among\", \" these\", \" people\", \" mentioned\", \" above\", \" is\", \" from\", \" Australia\", \"?\\n\", \"Answer\", \":\"], \"values\": [0.022253036499023438, 0.004689864814281464, 0.00706125795841217, 0.00838875025510788, 0.004443228244781494, 0.012198463082313538, 0.01094856858253479, 0.0020221080631017685, 0.0012077651917934418, 0.0004818327724933624, 0.002871982753276825, 0.0037633031606674194, 0.001300400123000145, 0.0015509650111198425, 0.0018576383590698242, 0.0036295056343078613, 0.003274261951446533, 0.005578488111495972, 0.005844898521900177, 0.049155354499816895, 0.01096857339143753, 0.003812599927186966, 0.003061998635530472, 0.002154402434825897, 0.008528590202331543, 0.02034735679626465, 0.006825387477874756, 0.007624400779604912, 0.012761294841766357, 0.006548181176185608, 0.003593273926526308, 0.009024733677506447, 0.007679212838411331, 0.009946782141923904, 0.03093576431274414, 0.031725168228149414, 0.018190398812294006, 0.03811293840408325]}\n",
       "    )\n",
       "    </script>"
      ],
      "text/plain": [
       "<circuitsvis.utils.render.RenderedHTML at 0x7fe3d643fce0>"
      ]
     },
     "metadata": {},
     "output_type": "display_data"
    },
    {
     "name": "stdout",
     "output_type": "stream",
     "text": [
      "--------------------------------------------------------------------------------\n",
      "layer=47\n"
     ]
    },
    {
     "data": {
      "text/html": [
       "<div id=\"circuits-vis-5fa30855-11f0\" style=\"margin: 15px 0;\"/>\n",
       "    <script crossorigin type=\"module\">\n",
       "    import { render, ColoredTokens } from \"https://unpkg.com/circuitsvis@1.43.3/dist/cdn/esm.js\";\n",
       "    render(\n",
       "      \"circuits-vis-5fa30855-11f0\",\n",
       "      ColoredTokens,\n",
       "      {\"tokens\": [\"Sel\", \"ena\", \" Tan\", \",\", \" Leonard\", \" Cohen\", \",\", \" Et\", \"gar\", \" Ker\", \"et\", \",\", \" Frid\", \"a\", \" Kah\", \"lo\", \",\", \" Steve\", \" Ir\", \"win\", \",\", \" Just\", \"ine\", \" Hen\", \"in\", \"\\n\", \"Who\", \" among\", \" these\", \" people\", \" mentioned\", \" above\", \" is\", \" from\", \" Australia\", \"?\\n\", \"Answer\", \":\"], \"values\": [0.004989540204405785, 0.004476085305213928, 0.001383739523589611, 0.0036504054442048073, 0.0008639437146484852, 0.001300867646932602, 0.0020967964082956314, 0.0005716225132346153, 0.0004001576453447342, 0.0002681724727153778, 0.0005633477121591568, 0.0009439606219530106, 0.0006952658295631409, 0.0006166771054267883, 0.00030743004754185677, 0.0004360256716609001, 0.0008182451128959656, 0.012267002835869789, 0.0012854104861617088, 0.004351768642663956, 0.0014338698238134384, 0.0008183922618627548, 0.0012284144759178162, 0.000601455569267273, 0.0006977617740631104, 0.0036064833402633667, 0.0019348561763763428, 0.0011494606733322144, 0.0009264461696147919, 0.0007241256535053253, 0.0007539838552474976, 0.0006845369935035706, 0.0009793229401111603, 0.0011640861630439758, 0.003012150526046753, 0.0055223554372787476, 0.006538234651088715, 0.0032819509506225586]}\n",
       "    )\n",
       "    </script>"
      ],
      "text/plain": [
       "<circuitsvis.utils.render.RenderedHTML at 0x7fe394c8b5c0>"
      ]
     },
     "metadata": {},
     "output_type": "display_data"
    },
    {
     "name": "stdout",
     "output_type": "stream",
     "text": [
      "--------------------------------------------------------------------------------\n",
      "layer=52\n"
     ]
    },
    {
     "data": {
      "text/html": [
       "<div id=\"circuits-vis-0815dfcf-6bb4\" style=\"margin: 15px 0;\"/>\n",
       "    <script crossorigin type=\"module\">\n",
       "    import { render, ColoredTokens } from \"https://unpkg.com/circuitsvis@1.43.3/dist/cdn/esm.js\";\n",
       "    render(\n",
       "      \"circuits-vis-0815dfcf-6bb4\",\n",
       "      ColoredTokens,\n",
       "      {\"tokens\": [\"Sel\", \"ena\", \" Tan\", \",\", \" Leonard\", \" Cohen\", \",\", \" Et\", \"gar\", \" Ker\", \"et\", \",\", \" Frid\", \"a\", \" Kah\", \"lo\", \",\", \" Steve\", \" Ir\", \"win\", \",\", \" Just\", \"ine\", \" Hen\", \"in\", \"\\n\", \"Who\", \" among\", \" these\", \" people\", \" mentioned\", \" above\", \" is\", \" from\", \" Australia\", \"?\\n\", \"Answer\", \":\"], \"values\": [0.009955964982509613, 0.015789281576871872, 0.003326568752527237, 0.0048707015812397, 0.003748517483472824, 0.001108498894609511, 0.00211913138628006, 0.0013159159570932388, 0.0008139777928590775, 0.0005128573393449187, 0.00042914453661069274, 0.0012224428355693817, 0.0014511477202177048, 0.0010945573449134827, 0.00030423759017139673, 0.0006130867404863238, 0.0011028535664081573, 0.03451474383473396, 0.0015055183321237564, 0.003974882885813713, 0.001814359799027443, 0.0015526749193668365, 0.0017017386853694916, 0.0012004449963569641, 0.0005056251538917422, 0.005486652255058289, 0.004566658288240433, 0.0027255387976765633, 0.0016054445877671242, 0.0011491673067212105, 0.0011244586203247309, 0.0018003337318077683, 0.0019368082284927368, 0.002527952194213867, 0.005274176597595215, 0.014114975929260254, 0.017436161637306213, 0.014702975749969482]}\n",
       "    )\n",
       "    </script>"
      ],
      "text/plain": [
       "<circuitsvis.utils.render.RenderedHTML at 0x7fe394c1e570>"
      ]
     },
     "metadata": {},
     "output_type": "display_data"
    },
    {
     "name": "stdout",
     "output_type": "stream",
     "text": [
      "--------------------------------------------------------------------------------\n"
     ]
    },
    {
     "data": {
      "text/plain": [
       "[PredictedToken(token=' Steve', prob=0.796875, logit=20.875, token_id=14129, metadata=None),\n",
       " PredictedToken(token=' The', prob=0.083984375, logit=18.625, token_id=578, metadata=None),\n",
       " PredictedToken(token=' Only', prob=0.0272216796875, logit=17.5, token_id=8442, metadata=None),\n",
       " PredictedToken(token=' Among', prob=0.0113525390625, logit=16.625, token_id=22395, metadata=None),\n",
       " PredictedToken(token=' ', prob=0.0113525390625, logit=16.625, token_id=220, metadata=None)]"
      ]
     },
     "execution_count": 59,
     "metadata": {},
     "output_type": "execute_result"
    }
   ],
   "source": [
    "from src.attention import get_attention_matrices, visualize_average_attn_matrix\n",
    "from src.functional import interpret_logits\n",
    "from src.tokens import prepare_input\n",
    "\n",
    "tokenized = prepare_input(\n",
    "    tokenizer=mt,\n",
    "    prompts=prompt\n",
    ")\n",
    "\n",
    "attn_matrices = get_attention_matrices(\n",
    "    input=tokenized,\n",
    "    mt=mt,\n",
    "    value_weighted=False,\n",
    "    # patches = []\n",
    ")\n",
    "\n",
    "visualize_average_attn_matrix(\n",
    "    mt=mt,\n",
    "    attn_matrices=attn_matrices,\n",
    "    prompt=prompt,\n",
    "    tokenized=tokenized,\n",
    "    layer_window=LAYERS,\n",
    ")\n",
    "\n",
    "interpret_logits(tokenizer=mt, logits=attn_matrices.logits)"
   ]
  },
  {
   "cell_type": "code",
   "execution_count": 60,
   "id": "10ad7837",
   "metadata": {},
   "outputs": [
    {
     "name": "stdout",
     "output_type": "stream",
     "text": [
      "Layer: 33, Head: 45\n"
     ]
    },
    {
     "data": {
      "text/html": [
       "<div id=\"circuits-vis-daa437af-6514\" style=\"margin: 15px 0;\"/>\n",
       "    <script crossorigin type=\"module\">\n",
       "    import { render, ColoredTokens } from \"https://unpkg.com/circuitsvis@1.43.3/dist/cdn/esm.js\";\n",
       "    render(\n",
       "      \"circuits-vis-daa437af-6514\",\n",
       "      ColoredTokens,\n",
       "      {\"tokens\": [\"Sel\", \"ena\", \" Tan\", \",\", \" Leonard\", \" Cohen\", \",\", \" Et\", \"gar\", \" Ker\", \"et\", \",\", \" Frid\", \"a\", \" Kah\", \"lo\", \",\", \" Steve\", \" Ir\", \"win\", \",\", \" Just\", \"ine\", \" Hen\", \"in\", \"\\n\", \"Who\", \" among\", \" these\", \" people\", \" mentioned\", \" above\", \" is\", \" from\", \" Australia\", \"?\\n\", \"Answer\", \":\"], \"values\": [0.025146484375, 0.004241943359375, 0.006866455078125, 0.004241943359375, 0.0225830078125, 0.0150146484375, 0.0146484375, 0.0032958984375, 0.005615234375, 0.001556396484375, 0.00543212890625, 0.00537109375, 0.007110595703125, 0.004302978515625, 0.0034027099609375, 0.0048828125, 0.00909423828125, 0.038330078125, 0.004180908203125, 0.09130859375, 0.025634765625, 0.00909423828125, 0.013671875, 0.01214599609375, 0.00811767578125, 0.0225830078125, 0.005706787109375, 0.004730224609375, 0.01409912109375, 0.006072998046875, 0.00238037109375, 0.0059814453125, 0.01116943359375, 0.003509521484375, 0.033203125, 0.076171875, 0.005096435546875, 0.060791015625]}\n",
       "    )\n",
       "    </script>"
      ],
      "text/plain": [
       "<circuitsvis.utils.render.RenderedHTML at 0x7fe394c24bf0>"
      ]
     },
     "metadata": {},
     "output_type": "display_data"
    },
    {
     "name": "stdout",
     "output_type": "stream",
     "text": [
      "Layer: 33, Head: 18\n"
     ]
    },
    {
     "data": {
      "text/html": [
       "<div id=\"circuits-vis-835ce1b2-eb4e\" style=\"margin: 15px 0;\"/>\n",
       "    <script crossorigin type=\"module\">\n",
       "    import { render, ColoredTokens } from \"https://unpkg.com/circuitsvis@1.43.3/dist/cdn/esm.js\";\n",
       "    render(\n",
       "      \"circuits-vis-835ce1b2-eb4e\",\n",
       "      ColoredTokens,\n",
       "      {\"tokens\": [\"Sel\", \"ena\", \" Tan\", \",\", \" Leonard\", \" Cohen\", \",\", \" Et\", \"gar\", \" Ker\", \"et\", \",\", \" Frid\", \"a\", \" Kah\", \"lo\", \",\", \" Steve\", \" Ir\", \"win\", \",\", \" Just\", \"ine\", \" Hen\", \"in\", \"\\n\", \"Who\", \" among\", \" these\", \" people\", \" mentioned\", \" above\", \" is\", \" from\", \" Australia\", \"?\\n\", \"Answer\", \":\"], \"values\": [0.01483154296875, 0.002410888671875, 0.010009765625, 0.0206298828125, 0.017333984375, 0.033447265625, 0.109375, 0.004302978515625, 0.006256103515625, 0.0052490234375, 0.0033721923828125, 0.00634765625, 0.0033721923828125, 0.00180816650390625, 0.0038909912109375, 0.004791259765625, 0.0047607421875, 0.038330078125, 0.01519775390625, 0.39453125, 0.054931640625, 0.007720947265625, 0.00811767578125, 0.0162353515625, 0.027099609375, 0.02587890625, 0.0030975341796875, 0.00026702880859375, 0.000591278076171875, 0.00084686279296875, 0.00023174285888671875, 0.00024318695068359375, 0.0002803802490234375, 0.0001983642578125, 0.00189208984375, 0.000659942626953125, 0.00014495849609375, 0.002777099609375]}\n",
       "    )\n",
       "    </script>"
      ],
      "text/plain": [
       "<circuitsvis.utils.render.RenderedHTML at 0x7fe3dd213350>"
      ]
     },
     "metadata": {},
     "output_type": "display_data"
    },
    {
     "name": "stdout",
     "output_type": "stream",
     "text": [
      "Layer: 34, Head: 1\n"
     ]
    },
    {
     "data": {
      "text/html": [
       "<div id=\"circuits-vis-f1635ea4-880e\" style=\"margin: 15px 0;\"/>\n",
       "    <script crossorigin type=\"module\">\n",
       "    import { render, ColoredTokens } from \"https://unpkg.com/circuitsvis@1.43.3/dist/cdn/esm.js\";\n",
       "    render(\n",
       "      \"circuits-vis-f1635ea4-880e\",\n",
       "      ColoredTokens,\n",
       "      {\"tokens\": [\"Sel\", \"ena\", \" Tan\", \",\", \" Leonard\", \" Cohen\", \",\", \" Et\", \"gar\", \" Ker\", \"et\", \",\", \" Frid\", \"a\", \" Kah\", \"lo\", \",\", \" Steve\", \" Ir\", \"win\", \",\", \" Just\", \"ine\", \" Hen\", \"in\", \"\\n\", \"Who\", \" among\", \" these\", \" people\", \" mentioned\", \" above\", \" is\", \" from\", \" Australia\", \"?\\n\", \"Answer\", \":\"], \"values\": [0.006134033203125, 0.0002727508544921875, 7.915496826171875e-05, 0.0002193450927734375, 0.001739501953125, 0.0003604888916015625, 0.00179290771484375, 0.00010347366333007812, 3.3229589462280273e-06, 1.7285346984863281e-06, 9.5367431640625e-07, 8.761882781982422e-06, 0.00018405914306640625, 5.030632019042969e-05, 4.827976226806641e-06, 3.147125244140625e-05, 0.00021266937255859375, 0.0123291015625, 0.00021266937255859375, 0.83984375, 0.031982421875, 0.00167083740234375, 0.0002689361572265625, 0.000339508056640625, 0.00017833709716796875, 0.005950927734375, 0.00093841552734375, 0.00079345703125, 0.001251220703125, 0.00144195556640625, 0.0001964569091796875, 0.0002994537353515625, 0.001251220703125, 0.000286102294921875, 0.00970458984375, 0.00921630859375, 0.00012111663818359375, 0.02099609375]}\n",
       "    )\n",
       "    </script>"
      ],
      "text/plain": [
       "<circuitsvis.utils.render.RenderedHTML at 0x7fe3dd213350>"
      ]
     },
     "metadata": {},
     "output_type": "display_data"
    },
    {
     "name": "stdout",
     "output_type": "stream",
     "text": [
      "Layer: 34, Head: 6\n"
     ]
    },
    {
     "data": {
      "text/html": [
       "<div id=\"circuits-vis-b6fd37ab-5fa3\" style=\"margin: 15px 0;\"/>\n",
       "    <script crossorigin type=\"module\">\n",
       "    import { render, ColoredTokens } from \"https://unpkg.com/circuitsvis@1.43.3/dist/cdn/esm.js\";\n",
       "    render(\n",
       "      \"circuits-vis-b6fd37ab-5fa3\",\n",
       "      ColoredTokens,\n",
       "      {\"tokens\": [\"Sel\", \"ena\", \" Tan\", \",\", \" Leonard\", \" Cohen\", \",\", \" Et\", \"gar\", \" Ker\", \"et\", \",\", \" Frid\", \"a\", \" Kah\", \"lo\", \",\", \" Steve\", \" Ir\", \"win\", \",\", \" Just\", \"ine\", \" Hen\", \"in\", \"\\n\", \"Who\", \" among\", \" these\", \" people\", \" mentioned\", \" above\", \" is\", \" from\", \" Australia\", \"?\\n\", \"Answer\", \":\"], \"values\": [0.0341796875, 0.00152587890625, 0.000560760498046875, 0.00107574462890625, 0.006927490234375, 0.0005950927734375, 0.0036468505859375, 0.0008392333984375, 1.7404556274414062e-05, 1.8596649169921875e-05, 5.4836273193359375e-06, 4.601478576660156e-05, 0.00052642822265625, 7.82012939453125e-05, 1.537799835205078e-05, 4.601478576660156e-05, 0.0007171630859375, 0.0205078125, 0.0005950927734375, 0.24609375, 0.01611328125, 0.004913330078125, 0.00099945068359375, 0.003326416015625, 0.00016021728515625, 0.0115966796875, 0.00555419921875, 0.005218505859375, 0.007659912109375, 0.002471923828125, 0.0020751953125, 0.00421142578125, 0.00665283203125, 0.00070953369140625, 0.00738525390625, 0.0257568359375, 0.00164794921875, 0.07421875]}\n",
       "    )\n",
       "    </script>"
      ],
      "text/plain": [
       "<circuitsvis.utils.render.RenderedHTML at 0x7fe3dd213350>"
      ]
     },
     "metadata": {},
     "output_type": "display_data"
    },
    {
     "name": "stdout",
     "output_type": "stream",
     "text": [
      "Layer: 34, Head: 7\n"
     ]
    },
    {
     "data": {
      "text/html": [
       "<div id=\"circuits-vis-4923dd0b-8f92\" style=\"margin: 15px 0;\"/>\n",
       "    <script crossorigin type=\"module\">\n",
       "    import { render, ColoredTokens } from \"https://unpkg.com/circuitsvis@1.43.3/dist/cdn/esm.js\";\n",
       "    render(\n",
       "      \"circuits-vis-4923dd0b-8f92\",\n",
       "      ColoredTokens,\n",
       "      {\"tokens\": [\"Sel\", \"ena\", \" Tan\", \",\", \" Leonard\", \" Cohen\", \",\", \" Et\", \"gar\", \" Ker\", \"et\", \",\", \" Frid\", \"a\", \" Kah\", \"lo\", \",\", \" Steve\", \" Ir\", \"win\", \",\", \" Just\", \"ine\", \" Hen\", \"in\", \"\\n\", \"Who\", \" among\", \" these\", \" people\", \" mentioned\", \" above\", \" is\", \" from\", \" Australia\", \"?\\n\", \"Answer\", \":\"], \"values\": [0.04150390625, 0.0007781982421875, 0.000720977783203125, 0.000827789306640625, 0.004119873046875, 0.00150299072265625, 0.0020599365234375, 0.0002231597900390625, 5.2928924560546875e-05, 2.753734588623047e-05, 5.459785461425781e-05, 0.00011205673217773438, 0.00045013427734375, 0.00019741058349609375, 0.00012302398681640625, 0.0003910064697265625, 0.00124359130859375, 0.009521484375, 0.00101470947265625, 0.30859375, 0.018310546875, 0.0023193359375, 0.00124359130859375, 0.0023956298828125, 0.0017852783203125, 0.01336669921875, 0.006622314453125, 0.0118408203125, 0.02197265625, 0.00787353515625, 0.0045166015625, 0.01544189453125, 0.0108642578125, 0.0023956298828125, 0.053466796875, 0.07666015625, 0.0042724609375, 0.11376953125]}\n",
       "    )\n",
       "    </script>"
      ],
      "text/plain": [
       "<circuitsvis.utils.render.RenderedHTML at 0x7fe3d643ad80>"
      ]
     },
     "metadata": {},
     "output_type": "display_data"
    },
    {
     "name": "stdout",
     "output_type": "stream",
     "text": [
      "Layer: 35, Head: 19\n"
     ]
    },
    {
     "data": {
      "text/html": [
       "<div id=\"circuits-vis-02a4f06e-5a99\" style=\"margin: 15px 0;\"/>\n",
       "    <script crossorigin type=\"module\">\n",
       "    import { render, ColoredTokens } from \"https://unpkg.com/circuitsvis@1.43.3/dist/cdn/esm.js\";\n",
       "    render(\n",
       "      \"circuits-vis-02a4f06e-5a99\",\n",
       "      ColoredTokens,\n",
       "      {\"tokens\": [\"Sel\", \"ena\", \" Tan\", \",\", \" Leonard\", \" Cohen\", \",\", \" Et\", \"gar\", \" Ker\", \"et\", \",\", \" Frid\", \"a\", \" Kah\", \"lo\", \",\", \" Steve\", \" Ir\", \"win\", \",\", \" Just\", \"ine\", \" Hen\", \"in\", \"\\n\", \"Who\", \" among\", \" these\", \" people\", \" mentioned\", \" above\", \" is\", \" from\", \" Australia\", \"?\\n\", \"Answer\", \":\"], \"values\": [0.010009765625, 0.010498046875, 0.0225830078125, 0.01031494140625, 0.007293701171875, 0.05126953125, 0.045166015625, 0.0029144287109375, 0.0004444122314453125, 0.0002269744873046875, 0.003997802734375, 0.00323486328125, 0.0008544921875, 0.0017852783203125, 0.0033111572265625, 0.00579833984375, 0.00194549560546875, 0.01116943359375, 0.0140380859375, 0.5703125, 0.033447265625, 0.00469970703125, 0.0033416748046875, 0.0029449462890625, 0.050048828125, 0.0311279296875, 0.00081634521484375, 8.726119995117188e-05, 0.0005340576171875, 0.00037384033203125, 5.817413330078125e-05, 3.123283386230469e-05, 7.724761962890625e-05, 0.000720977783203125, 0.00494384765625, 0.00160980224609375, 0.00011587142944335938, 0.002105712890625]}\n",
       "    )\n",
       "    </script>"
      ],
      "text/plain": [
       "<circuitsvis.utils.render.RenderedHTML at 0x7fe394ce45c0>"
      ]
     },
     "metadata": {},
     "output_type": "display_data"
    },
    {
     "name": "stdout",
     "output_type": "stream",
     "text": [
      "Layer: 39, Head: 40\n"
     ]
    },
    {
     "data": {
      "text/html": [
       "<div id=\"circuits-vis-491bc183-a1e6\" style=\"margin: 15px 0;\"/>\n",
       "    <script crossorigin type=\"module\">\n",
       "    import { render, ColoredTokens } from \"https://unpkg.com/circuitsvis@1.43.3/dist/cdn/esm.js\";\n",
       "    render(\n",
       "      \"circuits-vis-491bc183-a1e6\",\n",
       "      ColoredTokens,\n",
       "      {\"tokens\": [\"Sel\", \"ena\", \" Tan\", \",\", \" Leonard\", \" Cohen\", \",\", \" Et\", \"gar\", \" Ker\", \"et\", \",\", \" Frid\", \"a\", \" Kah\", \"lo\", \",\", \" Steve\", \" Ir\", \"win\", \",\", \" Just\", \"ine\", \" Hen\", \"in\", \"\\n\", \"Who\", \" among\", \" these\", \" people\", \" mentioned\", \" above\", \" is\", \" from\", \" Australia\", \"?\\n\", \"Answer\", \":\"], \"values\": [0.005615234375, 0.00107574462890625, 0.000850677490234375, 0.015625, 0.02783203125, 0.0027923583984375, 0.03173828125, 0.0020294189453125, 0.000621795654296875, 6.29425048828125e-05, 0.0001068115234375, 0.00408935546875, 0.0019378662109375, 0.00058746337890625, 2.5391578674316406e-05, 0.00092315673828125, 0.005401611328125, 0.244140625, 0.012939453125, 0.40234375, 0.04052734375, 0.0166015625, 0.01092529296875, 0.00139617919921875, 0.0042724609375, 0.0169677734375, 0.00131988525390625, 0.00173187255859375, 0.00063323974609375, 0.00025177001953125, 0.00015544891357421875, 0.00011730194091796875, 0.00138092041015625, 0.000507354736328125, 0.0025177001953125, 0.04248046875, 0.0020904541015625, 0.05712890625]}\n",
       "    )\n",
       "    </script>"
      ],
      "text/plain": [
       "<circuitsvis.utils.render.RenderedHTML at 0x7fe394c88980>"
      ]
     },
     "metadata": {},
     "output_type": "display_data"
    },
    {
     "name": "stdout",
     "output_type": "stream",
     "text": [
      "Layer: 42, Head: 30\n"
     ]
    },
    {
     "data": {
      "text/html": [
       "<div id=\"circuits-vis-902d2aac-9353\" style=\"margin: 15px 0;\"/>\n",
       "    <script crossorigin type=\"module\">\n",
       "    import { render, ColoredTokens } from \"https://unpkg.com/circuitsvis@1.43.3/dist/cdn/esm.js\";\n",
       "    render(\n",
       "      \"circuits-vis-902d2aac-9353\",\n",
       "      ColoredTokens,\n",
       "      {\"tokens\": [\"Sel\", \"ena\", \" Tan\", \",\", \" Leonard\", \" Cohen\", \",\", \" Et\", \"gar\", \" Ker\", \"et\", \",\", \" Frid\", \"a\", \" Kah\", \"lo\", \",\", \" Steve\", \" Ir\", \"win\", \",\", \" Just\", \"ine\", \" Hen\", \"in\", \"\\n\", \"Who\", \" among\", \" these\", \" people\", \" mentioned\", \" above\", \" is\", \" from\", \" Australia\", \"?\\n\", \"Answer\", \":\"], \"values\": [0.0089111328125, 0.0103759765625, 0.027587890625, 0.022705078125, 0.01104736328125, 0.028076171875, 0.0164794921875, 0.003936767578125, 0.00093841552734375, 0.0037078857421875, 0.001861572265625, 0.005218505859375, 0.006805419921875, 0.00439453125, 0.002288818359375, 0.006927490234375, 0.006591796875, 0.045166015625, 0.041259765625, 0.14453125, 0.01422119140625, 0.00714111328125, 0.01275634765625, 0.02099609375, 0.0115966796875, 0.0166015625, 0.004608154296875, 0.003326416015625, 0.00506591796875, 0.003021240234375, 0.002044677734375, 0.0032196044921875, 0.0035858154296875, 0.005462646484375, 0.0206298828125, 0.0228271484375, 0.00836181640625, 0.02099609375]}\n",
       "    )\n",
       "    </script>"
      ],
      "text/plain": [
       "<circuitsvis.utils.render.RenderedHTML at 0x7fe394c89be0>"
      ]
     },
     "metadata": {},
     "output_type": "display_data"
    },
    {
     "name": "stdout",
     "output_type": "stream",
     "text": [
      "Layer: 47, Head: 18\n"
     ]
    },
    {
     "data": {
      "text/html": [
       "<div id=\"circuits-vis-01eb8456-f940\" style=\"margin: 15px 0;\"/>\n",
       "    <script crossorigin type=\"module\">\n",
       "    import { render, ColoredTokens } from \"https://unpkg.com/circuitsvis@1.43.3/dist/cdn/esm.js\";\n",
       "    render(\n",
       "      \"circuits-vis-01eb8456-f940\",\n",
       "      ColoredTokens,\n",
       "      {\"tokens\": [\"Sel\", \"ena\", \" Tan\", \",\", \" Leonard\", \" Cohen\", \",\", \" Et\", \"gar\", \" Ker\", \"et\", \",\", \" Frid\", \"a\", \" Kah\", \"lo\", \",\", \" Steve\", \" Ir\", \"win\", \",\", \" Just\", \"ine\", \" Hen\", \"in\", \"\\n\", \"Who\", \" among\", \" these\", \" people\", \" mentioned\", \" above\", \" is\", \" from\", \" Australia\", \"?\\n\", \"Answer\", \":\"], \"values\": [0.10400390625, 0.099609375, 0.021728515625, 0.0859375, 0.001953125, 0.002471923828125, 0.03271484375, 0.00213623046875, 0.00019359588623046875, 0.00010013580322265625, 0.00012111663818359375, 0.00701904296875, 0.00054168701171875, 0.000396728515625, 8.761882781982422e-06, 0.000507354736328125, 0.00970458984375, 0.2275390625, 0.0181884765625, 0.025634765625, 0.0238037109375, 0.0022735595703125, 0.00101470947265625, 0.000865936279296875, 3.814697265625e-05, 0.044921875, 0.029296875, 0.004547119140625, 0.003814697265625, 0.0036468505859375, 0.00116729736328125, 0.0015411376953125, 0.009033203125, 0.004669189453125, 0.002044677734375, 0.0277099609375, 0.0128173828125, 0.0302734375]}\n",
       "    )\n",
       "    </script>"
      ],
      "text/plain": [
       "<circuitsvis.utils.render.RenderedHTML at 0x7fe394c1cf80>"
      ]
     },
     "metadata": {},
     "output_type": "display_data"
    },
    {
     "name": "stdout",
     "output_type": "stream",
     "text": [
      "Layer: 52, Head: 58\n"
     ]
    },
    {
     "data": {
      "text/html": [
       "<div id=\"circuits-vis-46619356-b59b\" style=\"margin: 15px 0;\"/>\n",
       "    <script crossorigin type=\"module\">\n",
       "    import { render, ColoredTokens } from \"https://unpkg.com/circuitsvis@1.43.3/dist/cdn/esm.js\";\n",
       "    render(\n",
       "      \"circuits-vis-46619356-b59b\",\n",
       "      ColoredTokens,\n",
       "      {\"tokens\": [\"Sel\", \"ena\", \" Tan\", \",\", \" Leonard\", \" Cohen\", \",\", \" Et\", \"gar\", \" Ker\", \"et\", \",\", \" Frid\", \"a\", \" Kah\", \"lo\", \",\", \" Steve\", \" Ir\", \"win\", \",\", \" Just\", \"ine\", \" Hen\", \"in\", \"\\n\", \"Who\", \" among\", \" these\", \" people\", \" mentioned\", \" above\", \" is\", \" from\", \" Australia\", \"?\\n\", \"Answer\", \":\"], \"values\": [0.05029296875, 0.154296875, 0.0703125, 0.052490234375, 0.000858306884765625, 0.005706787109375, 0.005950927734375, 0.000637054443359375, 0.00028228759765625, 0.00075531005859375, 0.0003299713134765625, 0.00170135498046875, 0.00028228759765625, 0.0002918243408203125, 0.00011396408081054688, 0.000926971435546875, 0.00170135498046875, 0.18359375, 0.036376953125, 0.12109375, 0.004852294921875, 0.000698089599609375, 0.002288818359375, 0.00469970703125, 0.0003509521484375, 0.0152587890625, 0.0020904541015625, 0.004852294921875, 0.00051116943359375, 0.0010986328125, 0.000885009765625, 0.000732421875, 0.0015716552734375, 0.0012054443359375, 0.00323486328125, 0.007293701171875, 0.001953125, 0.01104736328125]}\n",
       "    )\n",
       "    </script>"
      ],
      "text/plain": [
       "<circuitsvis.utils.render.RenderedHTML at 0x7fe394c1eff0>"
      ]
     },
     "metadata": {},
     "output_type": "display_data"
    }
   ],
   "source": [
    "# for group_id in group_id_to_head_indices:\n",
    "for layer_idx, head_idx in HEADS:\n",
    "    print(\n",
    "        f\"Layer: {layer_idx}, Head: {head_idx}\"\n",
    "    )\n",
    "\n",
    "    head_matrix = torch.Tensor(attn_matrices.attention_matrices[layer_idx, head_idx]).squeeze()\n",
    "    visualize_attn_matrix(\n",
    "        attn_matrix=head_matrix,\n",
    "        tokens=[mt.tokenizer.decode(t) for t in tokenized.input_ids[0]],\n",
    "        q_index=-1,\n",
    "        start_from=1\n",
    "    )"
   ]
  },
  {
   "cell_type": "code",
   "execution_count": 71,
   "id": "ea4eec49",
   "metadata": {},
   "outputs": [
    {
     "name": "stdout",
     "output_type": "stream",
     "text": [
      "1. The Space Needle\n",
      "2. Louvre Museum\n",
      "3. Colosseum\n",
      "4. Christ the Redeemer\n",
      "5. State of Liberty\n",
      "6. Big Ben\n",
      "7. Eiffel Tower\n",
      "Which of these landmarks is located in England?\n",
      "Answer:\n",
      " Big Ben\n",
      "Explanation: Big Ben is the nickname for the Great Bell of the clock at the north\n"
     ]
    }
   ],
   "source": [
    "import random\n",
    "\n",
    "# options = [\"Table\", \"Orange\", \"Transistor\", \"Spinach\", \"Piano\", \"Coffee\"]\n",
    "# prompt_template = \"\"\"Which of these objects is by type a {}?\n",
    "# options: {}\n",
    "# Answer:\"\"\"\n",
    "# prompt = prompt_template.format(\n",
    "#     \"musical instrument\",\n",
    "#     \", \".join(options)\n",
    "# )\n",
    "# print(prompt)\n",
    "\n",
    "# options = [\"anaconda\", \"python\", \"cobra\", \"viper\", \"mamba\", \"rattlesnake\"]\n",
    "# prompt = f\"\"\"Which of these snake names is also a programming language?\n",
    "# options: {\", \".join(options)}\n",
    "# Answer:\"\"\"\n",
    "\n",
    "# options = [\n",
    "#     \"The Space Needle\",\n",
    "#     \"Louvre Museum\",\n",
    "#     \"Colosseum\",\n",
    "#     \"Christ the Redeemer\",\n",
    "#     \"State of Liberty\",\n",
    "#     \"Big Ben\",\n",
    "# ]\n",
    "# options += [\"Eiffel Tower\"]\n",
    "# random.shuffle(options)\n",
    "country = \"England\"\n",
    "prompt_template = \"\"\"{}\n",
    "Which of these landmarks is located in {}?\n",
    "Answer:\"\"\"\n",
    "prompt = prompt_template.format(\n",
    "    \"\\n\".join([f\"{idx+1}. {opt}\" for idx, opt in enumerate(options)]), country\n",
    ")\n",
    "\n",
    "print(prompt)\n",
    "\n",
    "gen = generate_with_patch(\n",
    "    mt=mt,\n",
    "    inputs=prompt,\n",
    "    n_gen_per_prompt=1,\n",
    "    max_new_tokens=20,\n",
    "    remove_prefix=True,\n",
    ")[0]\n",
    "print(gen)\n",
    "# predict_next_token(\n",
    "#     mt=mt,\n",
    "#     inputs=prompt,\n",
    "# )"
   ]
  },
  {
   "cell_type": "code",
   "execution_count": 72,
   "id": "2f21e5d3",
   "metadata": {},
   "outputs": [
    {
     "name": "stdout",
     "output_type": "stream",
     "text": [
      "layer=35\n"
     ]
    },
    {
     "data": {
      "text/html": [
       "<div id=\"circuits-vis-fb1d4f73-63d2\" style=\"margin: 15px 0;\"/>\n",
       "    <script crossorigin type=\"module\">\n",
       "    import { render, ColoredTokens } from \"https://unpkg.com/circuitsvis@1.43.3/dist/cdn/esm.js\";\n",
       "    render(\n",
       "      \"circuits-vis-fb1d4f73-63d2\",\n",
       "      ColoredTokens,\n",
       "      {\"tokens\": [\"1\", \".\", \" The\", \" Space\", \" Needle\", \"\\n\", \"2\", \".\", \" Lou\", \"vre\", \" Museum\", \"\\n\", \"3\", \".\", \" Col\", \"os\", \"se\", \"um\", \"\\n\", \"4\", \".\", \" Christ\", \" the\", \" Rede\", \"emer\", \"\\n\", \"5\", \".\", \" State\", \" of\", \" Liberty\", \"\\n\", \"6\", \".\", \" Big\", \" Ben\", \"\\n\", \"7\", \".\", \" E\", \"iff\", \"el\", \" Tower\", \"\\n\", \"Which\", \" of\", \" these\", \" landmarks\", \" is\", \" located\", \" in\", \" England\", \"?\\n\", \"Answer\", \":\"], \"values\": [0.021623969078063965, 0.005436163395643234, 0.0026704147458076477, 0.000589003786444664, 0.0019784048199653625, 0.007777541875839233, 0.008372679352760315, 0.0010608658194541931, 0.0013829376548528671, 0.0007822141051292419, 0.0013272464275360107, 0.006828412413597107, 0.0005797687917947769, 0.002835221588611603, 0.0009958036243915558, 0.0004911306314170361, 0.0010507330298423767, 0.0030734166502952576, 0.0059282854199409485, 0.007362484931945801, 0.0009706746786832809, 0.0003660498186945915, 0.000208261888474226, 0.00013240036787465215, 0.0013423040509223938, 0.0021766498684883118, 0.002881420776247978, 0.001355750486254692, 0.0013543106615543365, 0.0006048283539712429, 0.004191845655441284, 0.008456826210021973, 0.012517333030700684, 0.001619003713130951, 0.001565827988088131, 0.04896717518568039, 0.03114333376288414, 0.004468470811843872, 0.011003760620951653, 0.0020776009187102318, 0.0011331606656312943, 0.0009200200438499451, 0.0044768378138542175, 0.010859414935112, 0.02142113447189331, 0.007549922913312912, 0.013654589653015137, 0.005263753235340118, 0.011132985353469849, 0.005691668018698692, 0.004610799252986908, 0.03610903024673462, 0.04159379005432129, 0.030911363661289215, 0.029461055994033813]}\n",
       "    )\n",
       "    </script>"
      ],
      "text/plain": [
       "<circuitsvis.utils.render.RenderedHTML at 0x7fe375007680>"
      ]
     },
     "metadata": {},
     "output_type": "display_data"
    },
    {
     "name": "stdout",
     "output_type": "stream",
     "text": [
      "--------------------------------------------------------------------------------\n",
      "layer=47\n"
     ]
    },
    {
     "data": {
      "text/html": [
       "<div id=\"circuits-vis-1f192a0b-4560\" style=\"margin: 15px 0;\"/>\n",
       "    <script crossorigin type=\"module\">\n",
       "    import { render, ColoredTokens } from \"https://unpkg.com/circuitsvis@1.43.3/dist/cdn/esm.js\";\n",
       "    render(\n",
       "      \"circuits-vis-1f192a0b-4560\",\n",
       "      ColoredTokens,\n",
       "      {\"tokens\": [\"1\", \".\", \" The\", \" Space\", \" Needle\", \"\\n\", \"2\", \".\", \" Lou\", \"vre\", \" Museum\", \"\\n\", \"3\", \".\", \" Col\", \"os\", \"se\", \"um\", \"\\n\", \"4\", \".\", \" Christ\", \" the\", \" Rede\", \"emer\", \"\\n\", \"5\", \".\", \" State\", \" of\", \" Liberty\", \"\\n\", \"6\", \".\", \" Big\", \" Ben\", \"\\n\", \"7\", \".\", \" E\", \"iff\", \"el\", \" Tower\", \"\\n\", \"Which\", \" of\", \" these\", \" landmarks\", \" is\", \" located\", \" in\", \" England\", \"?\\n\", \"Answer\", \":\"], \"values\": [0.0030697882175445557, 0.001764487475156784, 0.0005358774214982986, 0.0003830147907137871, 0.0009741596877574921, 0.0019754180684685707, 0.0011119195260107517, 0.0005823951214551926, 0.00036723073571920395, 0.0003473907709121704, 0.000318991020321846, 0.0008744671940803528, 0.0004119439981877804, 0.0004883022047579288, 0.0002298080362379551, 0.00026160478591918945, 0.0002844966948032379, 0.0002986523322761059, 0.0005577822448685765, 0.0004650576156564057, 0.0003030617954209447, 0.00017424346879124641, 0.0001640557311475277, 0.00013648881576955318, 0.00026924116536974907, 0.00033270404674112797, 0.0004508332349359989, 0.00047112442553043365, 0.00036307331174612045, 0.00042031286284327507, 0.0011207424104213715, 0.0008975211530923843, 0.0007908807601779699, 0.000735849142074585, 0.002230331301689148, 0.010765441693365574, 0.009783921763300896, 0.0013564079999923706, 0.0011813943274319172, 0.0004688204498961568, 0.0002720062620937824, 0.00042204419150948524, 0.00043421704322099686, 0.0005298908799886703, 0.0026889070868492126, 0.0024560391902923584, 0.0009479038417339325, 0.0013561062514781952, 0.0010138079524040222, 0.0006141103804111481, 0.0007793214172124863, 0.0026984140276908875, 0.01064041256904602, 0.013353168964385986, 0.002904145047068596]}\n",
       "    )\n",
       "    </script>"
      ],
      "text/plain": [
       "<circuitsvis.utils.render.RenderedHTML at 0x7fe394c8f020>"
      ]
     },
     "metadata": {},
     "output_type": "display_data"
    },
    {
     "name": "stdout",
     "output_type": "stream",
     "text": [
      "--------------------------------------------------------------------------------\n",
      "layer=52\n"
     ]
    },
    {
     "data": {
      "text/html": [
       "<div id=\"circuits-vis-b3b89cda-ff38\" style=\"margin: 15px 0;\"/>\n",
       "    <script crossorigin type=\"module\">\n",
       "    import { render, ColoredTokens } from \"https://unpkg.com/circuitsvis@1.43.3/dist/cdn/esm.js\";\n",
       "    render(\n",
       "      \"circuits-vis-b3b89cda-ff38\",\n",
       "      ColoredTokens,\n",
       "      {\"tokens\": [\"1\", \".\", \" The\", \" Space\", \" Needle\", \"\\n\", \"2\", \".\", \" Lou\", \"vre\", \" Museum\", \"\\n\", \"3\", \".\", \" Col\", \"os\", \"se\", \"um\", \"\\n\", \"4\", \".\", \" Christ\", \" the\", \" Rede\", \"emer\", \"\\n\", \"5\", \".\", \" State\", \" of\", \" Liberty\", \"\\n\", \"6\", \".\", \" Big\", \" Ben\", \"\\n\", \"7\", \".\", \" E\", \"iff\", \"el\", \" Tower\", \"\\n\", \"Which\", \" of\", \" these\", \" landmarks\", \" is\", \" located\", \" in\", \" England\", \"?\\n\", \"Answer\", \":\"], \"values\": [0.005493625998497009, 0.005143578164279461, 0.003048911690711975, 0.0007116002961993217, 0.0009577278979122639, 0.004946276545524597, 0.003922050818800926, 0.0015247361734509468, 0.0011810660362243652, 0.0005294241127558053, 0.00046650925651192665, 0.0021244999952614307, 0.001171889714896679, 0.001642368733882904, 0.0004961681552231312, 0.000346955843269825, 0.00031649647280573845, 0.00045626936480402946, 0.0012177973985671997, 0.0017267093062400818, 0.0008729873225092888, 0.0007269410416483879, 0.00036220205947756767, 0.00019405901548452675, 0.0003399187698960304, 0.0009169522672891617, 0.0011061090044677258, 0.0011124815791845322, 0.0007578162476420403, 0.0007228720933198929, 0.0025472715497016907, 0.002692129462957382, 0.0024427222087979317, 0.001423422247171402, 0.008540401235222816, 0.012933460995554924, 0.01161554642021656, 0.0015832334756851196, 0.001410352997481823, 0.0005431962199509144, 0.00030621333280578256, 0.0004796157591044903, 0.0005996971158310771, 0.0015283776447176933, 0.008227728307247162, 0.003270518034696579, 0.0024201683700084686, 0.0029119551181793213, 0.0026573948562145233, 0.0018889270722866058, 0.0017343908548355103, 0.0041356757283210754, 0.026281237602233887, 0.021244123578071594, 0.019213233143091202]}\n",
       "    )\n",
       "    </script>"
      ],
      "text/plain": [
       "<circuitsvis.utils.render.RenderedHTML at 0x7fe394c24710>"
      ]
     },
     "metadata": {},
     "output_type": "display_data"
    },
    {
     "name": "stdout",
     "output_type": "stream",
     "text": [
      "--------------------------------------------------------------------------------\n"
     ]
    },
    {
     "data": {
      "text/plain": [
       "[PredictedToken(token=' Big', prob=0.68359375, logit=21.75, token_id=6295, metadata=None),\n",
       " PredictedToken(token=' ', prob=0.2216796875, logit=20.625, token_id=220, metadata=None),\n",
       " PredictedToken(token=' #', prob=0.01422119140625, logit=17.875, token_id=674, metadata=None),\n",
       " PredictedToken(token=' Number', prob=0.01251220703125, logit=17.75, token_id=5742, metadata=None),\n",
       " PredictedToken(token=' (', prob=0.0067138671875, logit=17.125, token_id=320, metadata=None)]"
      ]
     },
     "execution_count": 72,
     "metadata": {},
     "output_type": "execute_result"
    }
   ],
   "source": [
    "from src.attention import get_attention_matrices, visualize_average_attn_matrix\n",
    "from src.functional import interpret_logits\n",
    "from src.tokens import prepare_input\n",
    "\n",
    "tokenized = prepare_input(\n",
    "    tokenizer=mt,\n",
    "    prompts=prompt,\n",
    "    add_bos_token=\"qwen\" in mt.name.lower()\n",
    ")\n",
    "\n",
    "attn_matrices = get_attention_matrices(\n",
    "    input=tokenized,\n",
    "    mt=mt,\n",
    "    value_weighted=False,\n",
    "    # patches = []\n",
    ")\n",
    "\n",
    "visualize_average_attn_matrix(\n",
    "    mt=mt,\n",
    "    attn_matrices=attn_matrices,\n",
    "    prompt=prompt,\n",
    "    tokenized=tokenized,\n",
    "    layer_window=LAYERS,\n",
    ")\n",
    "\n",
    "interpret_logits(tokenizer=mt, logits=attn_matrices.logits)"
   ]
  },
  {
   "cell_type": "code",
   "execution_count": 73,
   "id": "a3fb098d",
   "metadata": {},
   "outputs": [
    {
     "name": "stdout",
     "output_type": "stream",
     "text": [
      "Layer: 33, Head: 45\n"
     ]
    },
    {
     "data": {
      "text/html": [
       "<div id=\"circuits-vis-ffb2f672-c479\" style=\"margin: 15px 0;\"/>\n",
       "    <script crossorigin type=\"module\">\n",
       "    import { render, ColoredTokens } from \"https://unpkg.com/circuitsvis@1.43.3/dist/cdn/esm.js\";\n",
       "    render(\n",
       "      \"circuits-vis-ffb2f672-c479\",\n",
       "      ColoredTokens,\n",
       "      {\"tokens\": [\"1\", \".\", \" The\", \" Space\", \" Needle\", \"\\n\", \"2\", \".\", \" Lou\", \"vre\", \" Museum\", \"\\n\", \"3\", \".\", \" Col\", \"os\", \"se\", \"um\", \"\\n\", \"4\", \".\", \" Christ\", \" the\", \" Rede\", \"emer\", \"\\n\", \"5\", \".\", \" State\", \" of\", \" Liberty\", \"\\n\", \"6\", \".\", \" Big\", \" Ben\", \"\\n\", \"7\", \".\", \" E\", \"iff\", \"el\", \" Tower\", \"\\n\", \"Which\", \" of\", \" these\", \" landmarks\", \" is\", \" located\", \" in\", \" England\", \"?\\n\", \"Answer\", \":\"], \"values\": [0.0299072265625, 0.0034332275390625, 0.001922607421875, 0.00189208984375, 0.01177978515625, 0.00714111328125, 0.00823974609375, 0.006011962890625, 0.005645751953125, 0.0015716552734375, 0.00147247314453125, 0.003265380859375, 0.00101470947265625, 0.0037689208984375, 0.002593994140625, 0.00970458984375, 0.000896453857421875, 0.005828857421875, 0.00592041015625, 0.005401611328125, 0.0034332275390625, 0.00101470947265625, 0.0017242431640625, 0.0013885498046875, 0.00104522705078125, 0.0017547607421875, 0.0027618408203125, 0.004608154296875, 0.007049560546875, 0.005828857421875, 0.01104736328125, 0.031005859375, 0.006500244140625, 0.00347900390625, 0.01116943359375, 0.036376953125, 0.01953125, 0.002288818359375, 0.01263427734375, 0.0027923583984375, 0.001617431640625, 0.005828857421875, 0.0034332275390625, 0.0113525390625, 0.027587890625, 0.003326416015625, 0.0162353515625, 0.0038299560546875, 0.00421142578125, 0.00147247314453125, 0.002288818359375, 0.030517578125, 0.031494140625, 0.006927490234375, 0.039794921875]}\n",
       "    )\n",
       "    </script>"
      ],
      "text/plain": [
       "<circuitsvis.utils.render.RenderedHTML at 0x7fe394cf4d10>"
      ]
     },
     "metadata": {},
     "output_type": "display_data"
    },
    {
     "name": "stdout",
     "output_type": "stream",
     "text": [
      "Layer: 33, Head: 18\n"
     ]
    },
    {
     "data": {
      "text/html": [
       "<div id=\"circuits-vis-eb09310a-0a21\" style=\"margin: 15px 0;\"/>\n",
       "    <script crossorigin type=\"module\">\n",
       "    import { render, ColoredTokens } from \"https://unpkg.com/circuitsvis@1.43.3/dist/cdn/esm.js\";\n",
       "    render(\n",
       "      \"circuits-vis-eb09310a-0a21\",\n",
       "      ColoredTokens,\n",
       "      {\"tokens\": [\"1\", \".\", \" The\", \" Space\", \" Needle\", \"\\n\", \"2\", \".\", \" Lou\", \"vre\", \" Museum\", \"\\n\", \"3\", \".\", \" Col\", \"os\", \"se\", \"um\", \"\\n\", \"4\", \".\", \" Christ\", \" the\", \" Rede\", \"emer\", \"\\n\", \"5\", \".\", \" State\", \" of\", \" Liberty\", \"\\n\", \"6\", \".\", \" Big\", \" Ben\", \"\\n\", \"7\", \".\", \" E\", \"iff\", \"el\", \" Tower\", \"\\n\", \"Which\", \" of\", \" these\", \" landmarks\", \" is\", \" located\", \" in\", \" England\", \"?\\n\", \"Answer\", \":\"], \"values\": [0.00469970703125, 0.00164031982421875, 0.0008544921875, 0.0003566741943359375, 0.0021820068359375, 0.035888671875, 0.005706787109375, 0.0038604736328125, 0.00171661376953125, 0.0003795623779296875, 0.0008697509765625, 0.021728515625, 0.00012302398681640625, 0.00537109375, 0.00148773193359375, 0.00121307373046875, 0.000682830810546875, 0.004852294921875, 0.0341796875, 0.00274658203125, 0.000682830810546875, 0.000469207763671875, 0.00067138671875, 2.8371810913085938e-05, 0.0006561279296875, 0.0022735595703125, 0.000522613525390625, 0.000911712646484375, 0.0009613037109375, 0.000385284423828125, 0.0032196044921875, 0.021728515625, 0.0107421875, 0.00042724609375, 0.0067138671875, 0.1787109375, 0.53515625, 0.00012874603271484375, 0.03515625, 0.0021514892578125, 0.00040435791015625, 0.001251220703125, 0.01324462890625, 0.01287841796875, 0.0019683837890625, 9.918212890625e-05, 0.0002536773681640625, 0.00011920928955078125, 0.00010538101196289062, 1.1444091796875e-05, 5.650520324707031e-05, 0.0004367828369140625, 0.000537872314453125, 0.000133514404296875, 0.0010528564453125]}\n",
       "    )\n",
       "    </script>"
      ],
      "text/plain": [
       "<circuitsvis.utils.render.RenderedHTML at 0x7fe394c24bf0>"
      ]
     },
     "metadata": {},
     "output_type": "display_data"
    },
    {
     "name": "stdout",
     "output_type": "stream",
     "text": [
      "Layer: 34, Head: 1\n"
     ]
    },
    {
     "data": {
      "text/html": [
       "<div id=\"circuits-vis-daa3a6dc-f353\" style=\"margin: 15px 0;\"/>\n",
       "    <script crossorigin type=\"module\">\n",
       "    import { render, ColoredTokens } from \"https://unpkg.com/circuitsvis@1.43.3/dist/cdn/esm.js\";\n",
       "    render(\n",
       "      \"circuits-vis-daa3a6dc-f353\",\n",
       "      ColoredTokens,\n",
       "      {\"tokens\": [\"1\", \".\", \" The\", \" Space\", \" Needle\", \"\\n\", \"2\", \".\", \" Lou\", \"vre\", \" Museum\", \"\\n\", \"3\", \".\", \" Col\", \"os\", \"se\", \"um\", \"\\n\", \"4\", \".\", \" Christ\", \" the\", \" Rede\", \"emer\", \"\\n\", \"5\", \".\", \" State\", \" of\", \" Liberty\", \"\\n\", \"6\", \".\", \" Big\", \" Ben\", \"\\n\", \"7\", \".\", \" E\", \"iff\", \"el\", \" Tower\", \"\\n\", \"Which\", \" of\", \" these\", \" landmarks\", \" is\", \" located\", \" in\", \" England\", \"?\\n\", \"Answer\", \":\"], \"values\": [0.0172119140625, 0.00087738037109375, 0.0003490447998046875, 0.00011157989501953125, 0.000576019287109375, 0.00156402587890625, 0.00115966796875, 0.0001392364501953125, 0.0024261474609375, 9.179115295410156e-06, 2.193450927734375e-05, 0.00019550323486328125, 5.269050598144531e-05, 0.001495361328125, 0.00115966796875, 0.00151824951171875, 4.792213439941406e-05, 0.000835418701171875, 0.000576019287109375, 0.000461578369140625, 0.000484466552734375, 6.705522537231445e-06, 8.344650268554688e-06, 8.530914783477783e-07, 1.138448715209961e-05, 1.4185905456542969e-05, 0.000152587890625, 0.00022220611572265625, 0.00115966796875, 0.00024318695068359375, 0.0004024505615234375, 0.00115966796875, 0.004302978515625, 0.00017261505126953125, 0.002105712890625, 0.37109375, 0.25, 0.000354766845703125, 0.017822265625, 0.00115966796875, 3.2901763916015625e-05, 7.43865966796875e-05, 0.00010824203491210938, 0.0009918212890625, 0.004180908203125, 0.000797271728515625, 0.0026397705078125, 0.000507354736328125, 0.000823974609375, 8.96453857421875e-05, 0.0002765655517578125, 0.0111083984375, 0.011962890625, 0.000934600830078125, 0.0281982421875]}\n",
       "    )\n",
       "    </script>"
      ],
      "text/plain": [
       "<circuitsvis.utils.render.RenderedHTML at 0x7fe375006c30>"
      ]
     },
     "metadata": {},
     "output_type": "display_data"
    },
    {
     "name": "stdout",
     "output_type": "stream",
     "text": [
      "Layer: 34, Head: 6\n"
     ]
    },
    {
     "data": {
      "text/html": [
       "<div id=\"circuits-vis-11b5629b-d628\" style=\"margin: 15px 0;\"/>\n",
       "    <script crossorigin type=\"module\">\n",
       "    import { render, ColoredTokens } from \"https://unpkg.com/circuitsvis@1.43.3/dist/cdn/esm.js\";\n",
       "    render(\n",
       "      \"circuits-vis-11b5629b-d628\",\n",
       "      ColoredTokens,\n",
       "      {\"tokens\": [\"1\", \".\", \" The\", \" Space\", \" Needle\", \"\\n\", \"2\", \".\", \" Lou\", \"vre\", \" Museum\", \"\\n\", \"3\", \".\", \" Col\", \"os\", \"se\", \"um\", \"\\n\", \"4\", \".\", \" Christ\", \" the\", \" Rede\", \"emer\", \"\\n\", \"5\", \".\", \" State\", \" of\", \" Liberty\", \"\\n\", \"6\", \".\", \" Big\", \" Ben\", \"\\n\", \"7\", \".\", \" E\", \"iff\", \"el\", \" Tower\", \"\\n\", \"Which\", \" of\", \" these\", \" landmarks\", \" is\", \" located\", \" in\", \" England\", \"?\\n\", \"Answer\", \":\"], \"values\": [0.032958984375, 0.00238037109375, 0.00115966796875, 0.000507354736328125, 0.0015106201171875, 0.004547119140625, 0.003631591796875, 0.000530242919921875, 0.0050048828125, 6.0558319091796875e-05, 0.00011301040649414062, 0.00087738037109375, 7.05718994140625e-05, 0.002777099609375, 0.001800537109375, 0.003631591796875, 0.000263214111328125, 0.0023040771484375, 0.00177001953125, 0.002777099609375, 0.000576019287109375, 3.790855407714844e-05, 4.57763671875e-05, 9.000301361083984e-06, 4.291534423828125e-05, 6.67572021484375e-05, 0.000713348388671875, 0.000640869140625, 0.003631591796875, 0.000652313232421875, 0.00109100341796875, 0.00341796875, 0.01336669921875, 0.000247955322265625, 0.007568359375, 0.31640625, 0.1455078125, 0.0015869140625, 0.016845703125, 0.00171661376953125, 0.000186920166015625, 0.000316619873046875, 0.00029754638671875, 0.00160980224609375, 0.00921630859375, 0.00171661376953125, 0.003997802734375, 0.000507354736328125, 0.00115966796875, 0.000186920166015625, 0.0007476806640625, 0.01055908203125, 0.01416015625, 0.0012969970703125, 0.033935546875]}\n",
       "    )\n",
       "    </script>"
      ],
      "text/plain": [
       "<circuitsvis.utils.render.RenderedHTML at 0x7fe394c8b5f0>"
      ]
     },
     "metadata": {},
     "output_type": "display_data"
    },
    {
     "name": "stdout",
     "output_type": "stream",
     "text": [
      "Layer: 34, Head: 7\n"
     ]
    },
    {
     "data": {
      "text/html": [
       "<div id=\"circuits-vis-7e48054b-5eb6\" style=\"margin: 15px 0;\"/>\n",
       "    <script crossorigin type=\"module\">\n",
       "    import { render, ColoredTokens } from \"https://unpkg.com/circuitsvis@1.43.3/dist/cdn/esm.js\";\n",
       "    render(\n",
       "      \"circuits-vis-7e48054b-5eb6\",\n",
       "      ColoredTokens,\n",
       "      {\"tokens\": [\"1\", \".\", \" The\", \" Space\", \" Needle\", \"\\n\", \"2\", \".\", \" Lou\", \"vre\", \" Museum\", \"\\n\", \"3\", \".\", \" Col\", \"os\", \"se\", \"um\", \"\\n\", \"4\", \".\", \" Christ\", \" the\", \" Rede\", \"emer\", \"\\n\", \"5\", \".\", \" State\", \" of\", \" Liberty\", \"\\n\", \"6\", \".\", \" Big\", \" Ben\", \"\\n\", \"7\", \".\", \" E\", \"iff\", \"el\", \" Tower\", \"\\n\", \"Which\", \" of\", \" these\", \" landmarks\", \" is\", \" located\", \" in\", \" England\", \"?\\n\", \"Answer\", \":\"], \"values\": [0.040771484375, 0.000537872314453125, 0.00034332275390625, 0.000118255615234375, 0.00067138671875, 0.00112152099609375, 0.000621795654296875, 0.00012969970703125, 0.00084686279296875, 5.602836608886719e-05, 8.96453857421875e-05, 0.0004062652587890625, 4.935264587402344e-05, 0.000453948974609375, 0.000537872314453125, 0.0009613037109375, 0.0002593994140625, 0.00153350830078125, 0.001251220703125, 0.000823974609375, 0.00019550323486328125, 0.00014781951904296875, 0.0001621246337890625, 2.9087066650390625e-05, 0.0002079010009765625, 0.00026702880859375, 0.000736236572265625, 0.00038909912109375, 0.00153350830078125, 0.00038909912109375, 0.00153350830078125, 0.005828857421875, 0.00592041015625, 0.0003223419189453125, 0.0035400390625, 0.2080078125, 0.15234375, 0.002105712890625, 0.01031494140625, 0.0011444091796875, 0.001007080078125, 0.0014190673828125, 0.002899169921875, 0.0078125, 0.020751953125, 0.004425048828125, 0.0181884765625, 0.002197265625, 0.005584716796875, 0.000823974609375, 0.002349853515625, 0.08984375, 0.076171875, 0.01068115234375, 0.10205078125]}\n",
       "    )\n",
       "    </script>"
      ],
      "text/plain": [
       "<circuitsvis.utils.render.RenderedHTML at 0x7fe394d0aa80>"
      ]
     },
     "metadata": {},
     "output_type": "display_data"
    },
    {
     "name": "stdout",
     "output_type": "stream",
     "text": [
      "Layer: 35, Head: 19\n"
     ]
    },
    {
     "data": {
      "text/html": [
       "<div id=\"circuits-vis-34bed470-ead7\" style=\"margin: 15px 0;\"/>\n",
       "    <script crossorigin type=\"module\">\n",
       "    import { render, ColoredTokens } from \"https://unpkg.com/circuitsvis@1.43.3/dist/cdn/esm.js\";\n",
       "    render(\n",
       "      \"circuits-vis-34bed470-ead7\",\n",
       "      ColoredTokens,\n",
       "      {\"tokens\": [\"1\", \".\", \" The\", \" Space\", \" Needle\", \"\\n\", \"2\", \".\", \" Lou\", \"vre\", \" Museum\", \"\\n\", \"3\", \".\", \" Col\", \"os\", \"se\", \"um\", \"\\n\", \"4\", \".\", \" Christ\", \" the\", \" Rede\", \"emer\", \"\\n\", \"5\", \".\", \" State\", \" of\", \" Liberty\", \"\\n\", \"6\", \".\", \" Big\", \" Ben\", \"\\n\", \"7\", \".\", \" E\", \"iff\", \"el\", \" Tower\", \"\\n\", \"Which\", \" of\", \" these\", \" landmarks\", \" is\", \" located\", \" in\", \" England\", \"?\\n\", \"Answer\", \":\"], \"values\": [0.00188446044921875, 3.886222839355469e-05, 4.482269287109375e-05, 0.00013828277587890625, 0.00186920166015625, 0.0023956298828125, 0.00021076202392578125, 0.000705718994140625, 0.00099945068359375, 0.000286102294921875, 0.00098419189453125, 0.006072998046875, 0.00017452239990234375, 0.0034332275390625, 0.00179290771484375, 0.0018768310546875, 0.0006103515625, 0.0145263671875, 0.00830078125, 0.00010585784912109375, 0.0010833740234375, 0.0002880096435546875, 0.00011110305786132812, 6.532669067382812e-05, 0.00122833251953125, 0.00103759765625, 2.5153160095214844e-05, 0.000705718994140625, 0.0016021728515625, 0.0002422332763671875, 0.0107421875, 0.00506591796875, 0.0001888275146484375, 0.000629425048828125, 0.00115966796875, 0.66796875, 0.2041015625, 0.000232696533203125, 0.0150146484375, 0.0021514892578125, 0.00018310546875, 0.00083160400390625, 0.00182342529296875, 0.001983642578125, 0.001007080078125, 2.3603439331054688e-05, 0.0003185272216796875, 0.0004711151123046875, 7.05718994140625e-05, 0.00015926361083984375, 0.00041961669921875, 0.00616455078125, 0.0032958984375, 6.341934204101562e-05, 0.00121307373046875]}\n",
       "    )\n",
       "    </script>"
      ],
      "text/plain": [
       "<circuitsvis.utils.render.RenderedHTML at 0x7fe394cf4530>"
      ]
     },
     "metadata": {},
     "output_type": "display_data"
    },
    {
     "name": "stdout",
     "output_type": "stream",
     "text": [
      "Layer: 39, Head: 40\n"
     ]
    },
    {
     "data": {
      "text/html": [
       "<div id=\"circuits-vis-7e1fedd2-5056\" style=\"margin: 15px 0;\"/>\n",
       "    <script crossorigin type=\"module\">\n",
       "    import { render, ColoredTokens } from \"https://unpkg.com/circuitsvis@1.43.3/dist/cdn/esm.js\";\n",
       "    render(\n",
       "      \"circuits-vis-7e1fedd2-5056\",\n",
       "      ColoredTokens,\n",
       "      {\"tokens\": [\"1\", \".\", \" The\", \" Space\", \" Needle\", \"\\n\", \"2\", \".\", \" Lou\", \"vre\", \" Museum\", \"\\n\", \"3\", \".\", \" Col\", \"os\", \"se\", \"um\", \"\\n\", \"4\", \".\", \" Christ\", \" the\", \" Rede\", \"emer\", \"\\n\", \"5\", \".\", \" State\", \" of\", \" Liberty\", \"\\n\", \"6\", \".\", \" Big\", \" Ben\", \"\\n\", \"7\", \".\", \" E\", \"iff\", \"el\", \" Tower\", \"\\n\", \"Which\", \" of\", \" these\", \" landmarks\", \" is\", \" located\", \" in\", \" England\", \"?\\n\", \"Answer\", \":\"], \"values\": [0.00091552734375, 0.0018310546875, 0.00013637542724609375, 7.987022399902344e-06, 0.00020885467529296875, 0.00628662109375, 0.00274658203125, 0.0003986358642578125, 0.00011682510375976562, 7.4803829193115234e-06, 3.409385681152344e-05, 0.0022735595703125, 8.440017700195312e-05, 0.003997802734375, 0.000484466552734375, 0.000301361083984375, 7.68899917602539e-06, 0.001708984375, 0.02001953125, 0.0020904541015625, 0.00078582763671875, 1.9073486328125e-05, 6.020069122314453e-06, 2.0582228899002075e-07, 2.872943878173828e-05, 0.000675201416015625, 0.0011749267578125, 0.00168609619140625, 0.00020885467529296875, 0.00040435791015625, 0.00125885009765625, 0.00982666015625, 0.0025482177734375, 0.0009002685546875, 0.00133514404296875, 0.2177734375, 0.5078125, 0.00019931793212890625, 0.037841796875, 0.00102996826171875, 1.2695789337158203e-05, 5.1975250244140625e-05, 0.000476837158203125, 0.0025482177734375, 0.001708984375, 0.000713348388671875, 0.00019931793212890625, 2.872943878173828e-05, 0.001068115234375, 6.246566772460938e-05, 0.0003337860107421875, 0.0023956298828125, 0.10986328125, 0.00250244140625, 0.041015625]}\n",
       "    )\n",
       "    </script>"
      ],
      "text/plain": [
       "<circuitsvis.utils.render.RenderedHTML at 0x7fe394cf7890>"
      ]
     },
     "metadata": {},
     "output_type": "display_data"
    },
    {
     "name": "stdout",
     "output_type": "stream",
     "text": [
      "Layer: 42, Head: 30\n"
     ]
    },
    {
     "data": {
      "text/html": [
       "<div id=\"circuits-vis-a1232f40-15f1\" style=\"margin: 15px 0;\"/>\n",
       "    <script crossorigin type=\"module\">\n",
       "    import { render, ColoredTokens } from \"https://unpkg.com/circuitsvis@1.43.3/dist/cdn/esm.js\";\n",
       "    render(\n",
       "      \"circuits-vis-a1232f40-15f1\",\n",
       "      ColoredTokens,\n",
       "      {\"tokens\": [\"1\", \".\", \" The\", \" Space\", \" Needle\", \"\\n\", \"2\", \".\", \" Lou\", \"vre\", \" Museum\", \"\\n\", \"3\", \".\", \" Col\", \"os\", \"se\", \"um\", \"\\n\", \"4\", \".\", \" Christ\", \" the\", \" Rede\", \"emer\", \"\\n\", \"5\", \".\", \" State\", \" of\", \" Liberty\", \"\\n\", \"6\", \".\", \" Big\", \" Ben\", \"\\n\", \"7\", \".\", \" E\", \"iff\", \"el\", \" Tower\", \"\\n\", \"Which\", \" of\", \" these\", \" landmarks\", \" is\", \" located\", \" in\", \" England\", \"?\\n\", \"Answer\", \":\"], \"values\": [0.006927490234375, 0.0026702880859375, 0.0008544921875, 0.0004444122314453125, 0.00159454345703125, 0.006927490234375, 0.005584716796875, 0.0023956298828125, 0.000911712646484375, 0.0002613067626953125, 0.0004863739013671875, 0.0034942626953125, 0.0026702880859375, 0.006927490234375, 0.0012054443359375, 0.000732421875, 4.982948303222656e-05, 0.0020904541015625, 0.0054931640625, 0.0052490234375, 0.00408935546875, 0.0003795623779296875, 0.0003452301025390625, 4.982948303222656e-05, 0.000518798828125, 0.0020904541015625, 0.004425048828125, 0.00421142578125, 0.00141143798828125, 0.00170135498046875, 0.00469970703125, 0.00836181640625, 0.009033203125, 0.00653076171875, 0.00653076171875, 0.1591796875, 0.06396484375, 0.0030364990234375, 0.0250244140625, 0.0031280517578125, 0.0004730224609375, 0.00159454345703125, 0.00408935546875, 0.007171630859375, 0.018798828125, 0.00396728515625, 0.00750732421875, 0.004486083984375, 0.004425048828125, 0.001983642578125, 0.00225830078125, 0.00921630859375, 0.0390625, 0.00640869140625, 0.0208740234375]}\n",
       "    )\n",
       "    </script>"
      ],
      "text/plain": [
       "<circuitsvis.utils.render.RenderedHTML at 0x7fe394cf4d10>"
      ]
     },
     "metadata": {},
     "output_type": "display_data"
    },
    {
     "name": "stdout",
     "output_type": "stream",
     "text": [
      "Layer: 47, Head: 18\n"
     ]
    },
    {
     "data": {
      "text/html": [
       "<div id=\"circuits-vis-b2a0a439-82c1\" style=\"margin: 15px 0;\"/>\n",
       "    <script crossorigin type=\"module\">\n",
       "    import { render, ColoredTokens } from \"https://unpkg.com/circuitsvis@1.43.3/dist/cdn/esm.js\";\n",
       "    render(\n",
       "      \"circuits-vis-b2a0a439-82c1\",\n",
       "      ColoredTokens,\n",
       "      {\"tokens\": [\"1\", \".\", \" The\", \" Space\", \" Needle\", \"\\n\", \"2\", \".\", \" Lou\", \"vre\", \" Museum\", \"\\n\", \"3\", \".\", \" Col\", \"os\", \"se\", \"um\", \"\\n\", \"4\", \".\", \" Christ\", \" the\", \" Rede\", \"emer\", \"\\n\", \"5\", \".\", \" State\", \" of\", \" Liberty\", \"\\n\", \"6\", \".\", \" Big\", \" Ben\", \"\\n\", \"7\", \".\", \" E\", \"iff\", \"el\", \" Tower\", \"\\n\", \"Which\", \" of\", \" these\", \" landmarks\", \" is\", \" located\", \" in\", \" England\", \"?\\n\", \"Answer\", \":\"], \"values\": [0.01348876953125, 0.016845703125, 0.004852294921875, 0.000186920166015625, 0.0003719329833984375, 0.01202392578125, 0.01220703125, 0.004730224609375, 0.0026702880859375, 3.147125244140625e-05, 9.107589721679688e-05, 0.006561279296875, 0.00482177734375, 0.006439208984375, 0.0004425048828125, 0.00013256072998046875, 2.300739288330078e-05, 0.000232696533203125, 0.004364013671875, 0.0033721923828125, 0.003143310546875, 8.296966552734375e-05, 4.0531158447265625e-05, 1.430511474609375e-06, 0.00011014938354492188, 0.0025482177734375, 0.0037841796875, 0.00372314453125, 0.00074005126953125, 0.00058746337890625, 0.00092315673828125, 0.00604248046875, 0.01153564453125, 0.00921630859375, 0.05810546875, 0.248046875, 0.35546875, 0.002471923828125, 0.031494140625, 0.00125885009765625, 5.304813385009766e-06, 2.300739288330078e-05, 0.0003604888916015625, 0.00131988525390625, 0.01202392578125, 0.0027923583984375, 0.0030975341796875, 0.00098419189453125, 0.003509521484375, 9.72747802734375e-05, 0.001983642578125, 0.000644683837890625, 0.038818359375, 0.00543212890625, 0.0126953125]}\n",
       "    )\n",
       "    </script>"
      ],
      "text/plain": [
       "<circuitsvis.utils.render.RenderedHTML at 0x7fe394d1c9b0>"
      ]
     },
     "metadata": {},
     "output_type": "display_data"
    },
    {
     "name": "stdout",
     "output_type": "stream",
     "text": [
      "Layer: 52, Head: 58\n"
     ]
    },
    {
     "data": {
      "text/html": [
       "<div id=\"circuits-vis-9bbd57b9-858b\" style=\"margin: 15px 0;\"/>\n",
       "    <script crossorigin type=\"module\">\n",
       "    import { render, ColoredTokens } from \"https://unpkg.com/circuitsvis@1.43.3/dist/cdn/esm.js\";\n",
       "    render(\n",
       "      \"circuits-vis-9bbd57b9-858b\",\n",
       "      ColoredTokens,\n",
       "      {\"tokens\": [\"1\", \".\", \" The\", \" Space\", \" Needle\", \"\\n\", \"2\", \".\", \" Lou\", \"vre\", \" Museum\", \"\\n\", \"3\", \".\", \" Col\", \"os\", \"se\", \"um\", \"\\n\", \"4\", \".\", \" Christ\", \" the\", \" Rede\", \"emer\", \"\\n\", \"5\", \".\", \" State\", \" of\", \" Liberty\", \"\\n\", \"6\", \".\", \" Big\", \" Ben\", \"\\n\", \"7\", \".\", \" E\", \"iff\", \"el\", \" Tower\", \"\\n\", \"Which\", \" of\", \" these\", \" landmarks\", \" is\", \" located\", \" in\", \" England\", \"?\\n\", \"Answer\", \":\"], \"values\": [0.0264892578125, 0.021240234375, 0.008544921875, 0.0028228759765625, 0.007598876953125, 0.010498046875, 0.00286865234375, 0.0018463134765625, 0.0008087158203125, 0.0003070831298828125, 0.0004749298095703125, 0.0027313232421875, 0.002166748046875, 0.003570556640625, 0.0002613067626953125, 0.00139617919921875, 4.839897155761719e-05, 0.000690460205078125, 0.003570556640625, 0.000713348388671875, 0.00225830078125, 0.00011301040649414062, 0.00019168853759765625, 8.702278137207031e-06, 0.000164031982421875, 0.000736236572265625, 0.00055694580078125, 0.0037384033203125, 0.0003070831298828125, 0.0006103515625, 0.002685546875, 0.00091552734375, 0.00286865234375, 0.0036773681640625, 0.036376953125, 0.48828125, 0.049560546875, 0.0008087158203125, 0.00787353515625, 0.0002880096435546875, 5.507469177246094e-05, 0.00015926361083984375, 0.001556396484375, 0.0009918212890625, 0.0037994384765625, 0.0038604736328125, 0.00225830078125, 0.002410888671875, 0.00390625, 0.000591278076171875, 0.0020599365234375, 0.00110626220703125, 0.01385498046875, 0.0019683837890625, 0.00830078125]}\n",
       "    )\n",
       "    </script>"
      ],
      "text/plain": [
       "<circuitsvis.utils.render.RenderedHTML at 0x7fe375006ed0>"
      ]
     },
     "metadata": {},
     "output_type": "display_data"
    }
   ],
   "source": [
    "# for group_id in group_id_to_head_indices:\n",
    "for layer_idx, head_idx in HEADS:\n",
    "    print(\n",
    "        f\"Layer: {layer_idx}, Head: {head_idx}\"\n",
    "    )\n",
    "\n",
    "    head_matrix = torch.Tensor(attn_matrices.attention_matrices[layer_idx, head_idx]).squeeze()\n",
    "    visualize_attn_matrix(\n",
    "        attn_matrix=head_matrix,\n",
    "        tokens=[mt.tokenizer.decode(t) for t in tokenized.input_ids[0]],\n",
    "        q_index=-1,\n",
    "        start_from=1\n",
    "    )"
   ]
  },
  {
   "cell_type": "code",
   "execution_count": 74,
   "id": "cf6b285c",
   "metadata": {},
   "outputs": [
    {
     "name": "stdout",
     "output_type": "stream",
     "text": [
      "Which of these people is not a scientist?\n",
      "options: Marie Curie, Albert Einstein, Grover Cleveland, Charles Darwin, Nikola Tesla, Issac Newton\n",
      "Answer:\n",
      "layer=35\n"
     ]
    },
    {
     "data": {
      "text/html": [
       "<div id=\"circuits-vis-529696dc-206f\" style=\"margin: 15px 0;\"/>\n",
       "    <script crossorigin type=\"module\">\n",
       "    import { render, ColoredTokens } from \"https://unpkg.com/circuitsvis@1.43.3/dist/cdn/esm.js\";\n",
       "    render(\n",
       "      \"circuits-vis-529696dc-206f\",\n",
       "      ColoredTokens,\n",
       "      {\"tokens\": [\"Which\", \" of\", \" these\", \" people\", \" is\", \" not\", \" a\", \" scientist\", \"?\\n\", \"options\", \":\", \" Marie\", \" Cur\", \"ie\", \",\", \" Albert\", \" Einstein\", \",\", \" Gro\", \"ver\", \" Cleveland\", \",\", \" Charles\", \" Darwin\", \",\", \" Nikola\", \" Tesla\", \",\", \" Iss\", \"ac\", \" Newton\", \"\\n\", \"Answer\", \":\"], \"values\": [0.02135026454925537, 0.004076644778251648, 0.0037719160318374634, 0.009098619222640991, 0.0038110800087451935, 0.00828389823436737, 0.0030999556183815002, 0.011707469820976257, 0.013721078634262085, 0.006652180105447769, 0.007870644330978394, 0.0071471333503723145, 0.0024125874042510986, 0.008885473012924194, 0.016741663217544556, 0.0053524449467659, 0.010380968451499939, 0.009948328137397766, 0.007226020097732544, 0.002663416787981987, 0.044844597578048706, 0.045656442642211914, 0.0038121864199638367, 0.008403897285461426, 0.01648285984992981, 0.003529861569404602, 0.00807403028011322, 0.007248148322105408, 0.003194950520992279, 0.0059461891651153564, 0.010739922523498535, 0.03478527069091797, 0.018928971141576767, 0.031333744525909424]}\n",
       "    )\n",
       "    </script>"
      ],
      "text/plain": [
       "<circuitsvis.utils.render.RenderedHTML at 0x7fe3dd213bf0>"
      ]
     },
     "metadata": {},
     "output_type": "display_data"
    },
    {
     "name": "stdout",
     "output_type": "stream",
     "text": [
      "--------------------------------------------------------------------------------\n",
      "layer=47\n"
     ]
    },
    {
     "data": {
      "text/html": [
       "<div id=\"circuits-vis-73f09651-0b52\" style=\"margin: 15px 0;\"/>\n",
       "    <script crossorigin type=\"module\">\n",
       "    import { render, ColoredTokens } from \"https://unpkg.com/circuitsvis@1.43.3/dist/cdn/esm.js\";\n",
       "    render(\n",
       "      \"circuits-vis-73f09651-0b52\",\n",
       "      ColoredTokens,\n",
       "      {\"tokens\": [\"Which\", \" of\", \" these\", \" people\", \" is\", \" not\", \" a\", \" scientist\", \"?\\n\", \"options\", \":\", \" Marie\", \" Cur\", \"ie\", \",\", \" Albert\", \" Einstein\", \",\", \" Gro\", \"ver\", \" Cleveland\", \",\", \" Charles\", \" Darwin\", \",\", \" Nikola\", \" Tesla\", \",\", \" Iss\", \"ac\", \" Newton\", \"\\n\", \"Answer\", \":\"], \"values\": [0.0031235739588737488, 0.0009088478982448578, 0.0006515234708786011, 0.0011021345853805542, 0.0007295198738574982, 0.0009912066161632538, 0.00045032799243927, 0.0016110390424728394, 0.003405049443244934, 0.0019158795475959778, 0.0011705104261636734, 0.0008940137922763824, 0.00046987831592559814, 0.0006635915488004684, 0.0009041540324687958, 0.0005302820354700089, 0.0005742590874433517, 0.000679701566696167, 0.005792684853076935, 0.009332165122032166, 0.004740670323371887, 0.00953897088766098, 0.0005201958119869232, 0.0006228159181773663, 0.0006165523082017899, 0.00035498663783073425, 0.0006509944796562195, 0.0003907233476638794, 0.0006656944751739502, 0.0008192956447601318, 0.0008335122838616371, 0.0040540993213653564, 0.006870359182357788, 0.003286689519882202]}\n",
       "    )\n",
       "    </script>"
      ],
      "text/plain": [
       "<circuitsvis.utils.render.RenderedHTML at 0x7fe3dd213200>"
      ]
     },
     "metadata": {},
     "output_type": "display_data"
    },
    {
     "name": "stdout",
     "output_type": "stream",
     "text": [
      "--------------------------------------------------------------------------------\n",
      "layer=52\n"
     ]
    },
    {
     "data": {
      "text/html": [
       "<div id=\"circuits-vis-f58c053f-ba35\" style=\"margin: 15px 0;\"/>\n",
       "    <script crossorigin type=\"module\">\n",
       "    import { render, ColoredTokens } from \"https://unpkg.com/circuitsvis@1.43.3/dist/cdn/esm.js\";\n",
       "    render(\n",
       "      \"circuits-vis-f58c053f-ba35\",\n",
       "      ColoredTokens,\n",
       "      {\"tokens\": [\"Which\", \" of\", \" these\", \" people\", \" is\", \" not\", \" a\", \" scientist\", \"?\\n\", \"options\", \":\", \" Marie\", \" Cur\", \"ie\", \",\", \" Albert\", \" Einstein\", \",\", \" Gro\", \"ver\", \" Cleveland\", \",\", \" Charles\", \" Darwin\", \",\", \" Nikola\", \" Tesla\", \",\", \" Iss\", \"ac\", \" Newton\", \"\\n\", \"Answer\", \":\"], \"values\": [0.00521281361579895, 0.0022361725568771362, 0.001275826245546341, 0.0014699585735797882, 0.0014920830726623535, 0.0029345788061618805, 0.001066066324710846, 0.0027118176221847534, 0.00842711329460144, 0.006123766303062439, 0.006202667951583862, 0.0031108930706977844, 0.0010614972561597824, 0.0015171095728874207, 0.002986280247569084, 0.0020682215690612793, 0.0015749260783195496, 0.0020819399505853653, 0.02646665647625923, 0.015193246304988861, 0.006027646362781525, 0.01001833751797676, 0.001346450299024582, 0.0014804229140281677, 0.0015321522951126099, 0.0011922838166356087, 0.0011667590588331223, 0.0010448340326547623, 0.00140443816781044, 0.002496931701898575, 0.0017432277090847492, 0.013943314552307129, 0.015398383140563965, 0.015921935439109802]}\n",
       "    )\n",
       "    </script>"
      ],
      "text/plain": [
       "<circuitsvis.utils.render.RenderedHTML at 0x7fe3dd1f38f0>"
      ]
     },
     "metadata": {},
     "output_type": "display_data"
    },
    {
     "name": "stdout",
     "output_type": "stream",
     "text": [
      "--------------------------------------------------------------------------------\n"
     ]
    },
    {
     "data": {
      "text/plain": [
       "[PredictedToken(token=' Gro', prob=0.9609375, logit=21.25, token_id=18370, metadata=None),\n",
       " PredictedToken(token=' The', prob=0.0093994140625, logit=16.625, token_id=578, metadata=None),\n",
       " PredictedToken(token=' ', prob=0.0032501220703125, logit=15.5625, token_id=220, metadata=None),\n",
       " PredictedToken(token='Gro', prob=0.002532958984375, logit=15.3125, token_id=77435, metadata=None),\n",
       " PredictedToken(token=' the', prob=0.0016326904296875, logit=14.875, token_id=279, metadata=None)]"
      ]
     },
     "execution_count": 74,
     "metadata": {},
     "output_type": "execute_result"
    }
   ],
   "source": [
    "options = [\"Marie Curie\", \"Albert Einstein\", \"Grover Cleveland\", \"Charles Darwin\", \"Nikola Tesla\", \"Issac Newton\"]\n",
    "prompt_template = \"\"\"Which of these people is not a scientist?\n",
    "options: {}\n",
    "Answer:\"\"\"\n",
    "prompt = prompt_template.format(\n",
    "    \", \".join(options)\n",
    ")\n",
    "print(prompt)\n",
    "\n",
    "predict_next_token(\n",
    "    mt=mt,\n",
    "    inputs=prompt,\n",
    ")\n",
    "\n",
    "tokenized = prepare_input(\n",
    "    tokenizer=mt,\n",
    "    prompts=prompt,\n",
    "    add_bos_token=\"qwen\" in mt.name.lower()\n",
    ")\n",
    "\n",
    "attn_matrices = get_attention_matrices(\n",
    "    input=tokenized,\n",
    "    mt=mt,\n",
    "    value_weighted=False,\n",
    "    # patches = []\n",
    ")\n",
    "\n",
    "visualize_average_attn_matrix(\n",
    "    mt=mt,\n",
    "    attn_matrices=attn_matrices,\n",
    "    prompt=prompt,\n",
    "    tokenized=tokenized,\n",
    "    layer_window=LAYERS,\n",
    ")\n",
    "\n",
    "interpret_logits(tokenizer=mt, logits=attn_matrices.logits)"
   ]
  },
  {
   "cell_type": "code",
   "execution_count": 75,
   "id": "73a9df08",
   "metadata": {},
   "outputs": [
    {
     "name": "stdout",
     "output_type": "stream",
     "text": [
      "Layer: 33, Head: 45\n"
     ]
    },
    {
     "data": {
      "text/html": [
       "<div id=\"circuits-vis-b52caa7e-3a7f\" style=\"margin: 15px 0;\"/>\n",
       "    <script crossorigin type=\"module\">\n",
       "    import { render, ColoredTokens } from \"https://unpkg.com/circuitsvis@1.43.3/dist/cdn/esm.js\";\n",
       "    render(\n",
       "      \"circuits-vis-b52caa7e-3a7f\",\n",
       "      ColoredTokens,\n",
       "      {\"tokens\": [\"Which\", \" of\", \" these\", \" people\", \" is\", \" not\", \" a\", \" scientist\", \"?\\n\", \"options\", \":\", \" Marie\", \" Cur\", \"ie\", \",\", \" Albert\", \" Einstein\", \",\", \" Gro\", \"ver\", \" Cleveland\", \",\", \" Charles\", \" Darwin\", \",\", \" Nikola\", \" Tesla\", \",\", \" Iss\", \"ac\", \" Newton\", \"\\n\", \"Answer\", \":\"], \"values\": [0.0240478515625, 0.0018157958984375, 0.002471923828125, 0.004638671875, 0.00164794921875, 0.0027618408203125, 0.0018157958984375, 0.00848388671875, 0.0087890625, 0.00408935546875, 0.0074462890625, 0.005950927734375, 0.0047607421875, 0.004913330078125, 0.01239013671875, 0.005950927734375, 0.00872802734375, 0.0142822265625, 0.0107421875, 0.0546875, 0.2890625, 0.138671875, 0.0021514892578125, 0.005584716796875, 0.007293701171875, 0.0029449462890625, 0.0042724609375, 0.0054931640625, 0.00152587890625, 0.0118408203125, 0.0047607421875, 0.009521484375, 0.0014801025390625, 0.023193359375]}\n",
       "    )\n",
       "    </script>"
      ],
      "text/plain": [
       "<circuitsvis.utils.render.RenderedHTML at 0x7fe394d1e5d0>"
      ]
     },
     "metadata": {},
     "output_type": "display_data"
    },
    {
     "name": "stdout",
     "output_type": "stream",
     "text": [
      "Layer: 33, Head: 18\n"
     ]
    },
    {
     "data": {
      "text/html": [
       "<div id=\"circuits-vis-01edb6ca-cf5e\" style=\"margin: 15px 0;\"/>\n",
       "    <script crossorigin type=\"module\">\n",
       "    import { render, ColoredTokens } from \"https://unpkg.com/circuitsvis@1.43.3/dist/cdn/esm.js\";\n",
       "    render(\n",
       "      \"circuits-vis-01edb6ca-cf5e\",\n",
       "      ColoredTokens,\n",
       "      {\"tokens\": [\"Which\", \" of\", \" these\", \" people\", \" is\", \" not\", \" a\", \" scientist\", \"?\\n\", \"options\", \":\", \" Marie\", \" Cur\", \"ie\", \",\", \" Albert\", \" Einstein\", \",\", \" Gro\", \"ver\", \" Cleveland\", \",\", \" Charles\", \" Darwin\", \",\", \" Nikola\", \" Tesla\", \",\", \" Iss\", \"ac\", \" Newton\", \"\\n\", \"Answer\", \":\"], \"values\": [0.01556396484375, 0.00013637542724609375, 0.000217437744140625, 0.0029754638671875, 0.0005645751953125, 0.000331878662109375, 0.00128936767578125, 0.00262451171875, 0.000820159912109375, 0.00019168853759765625, 0.00091552734375, 0.02197265625, 0.01190185546875, 0.030029296875, 0.014404296875, 0.0106201171875, 0.0198974609375, 0.00927734375, 0.00823974609375, 0.008544921875, 0.326171875, 0.310546875, 0.02001953125, 0.01513671875, 0.008056640625, 0.0026092529296875, 0.004669189453125, 0.00177001953125, 0.0019073486328125, 0.0181884765625, 0.006866455078125, 0.002166748046875, 0.00023555755615234375, 0.0020599365234375]}\n",
       "    )\n",
       "    </script>"
      ],
      "text/plain": [
       "<circuitsvis.utils.render.RenderedHTML at 0x7fe394c8e840>"
      ]
     },
     "metadata": {},
     "output_type": "display_data"
    },
    {
     "name": "stdout",
     "output_type": "stream",
     "text": [
      "Layer: 34, Head: 1\n"
     ]
    },
    {
     "data": {
      "text/html": [
       "<div id=\"circuits-vis-d7261a03-493c\" style=\"margin: 15px 0;\"/>\n",
       "    <script crossorigin type=\"module\">\n",
       "    import { render, ColoredTokens } from \"https://unpkg.com/circuitsvis@1.43.3/dist/cdn/esm.js\";\n",
       "    render(\n",
       "      \"circuits-vis-d7261a03-493c\",\n",
       "      ColoredTokens,\n",
       "      {\"tokens\": [\"Which\", \" of\", \" these\", \" people\", \" is\", \" not\", \" a\", \" scientist\", \"?\\n\", \"options\", \":\", \" Marie\", \" Cur\", \"ie\", \",\", \" Albert\", \" Einstein\", \",\", \" Gro\", \"ver\", \" Cleveland\", \",\", \" Charles\", \" Darwin\", \",\", \" Nikola\", \" Tesla\", \",\", \" Iss\", \"ac\", \" Newton\", \"\\n\", \"Answer\", \":\"], \"values\": [0.01055908203125, 0.0004787445068359375, 0.000881195068359375, 0.0047607421875, 0.00128936767578125, 0.000675201416015625, 0.00019359588623046875, 1.5616416931152344e-05, 0.0015716552734375, 0.0019378662109375, 0.004791259765625, 0.0001392364501953125, 7.599592208862305e-06, 6.580352783203125e-05, 0.00140380859375, 5.626678466796875e-05, 1.5616416931152344e-05, 0.00384521484375, 0.01202392578125, 0.00122833251953125, 0.40234375, 0.408203125, 2.7418136596679688e-05, 2.115964889526367e-06, 0.00069427490234375, 8.106231689453125e-06, 1.2934207916259766e-05, 9.584426879882812e-05, 5.5730342864990234e-06, 7.677078247070312e-05, 8.344650268554688e-06, 0.007568359375, 0.0003452301025390625, 0.0279541015625]}\n",
       "    )\n",
       "    </script>"
      ],
      "text/plain": [
       "<circuitsvis.utils.render.RenderedHTML at 0x7fe394c8e5a0>"
      ]
     },
     "metadata": {},
     "output_type": "display_data"
    },
    {
     "name": "stdout",
     "output_type": "stream",
     "text": [
      "Layer: 34, Head: 6\n"
     ]
    },
    {
     "data": {
      "text/html": [
       "<div id=\"circuits-vis-366770f6-b325\" style=\"margin: 15px 0;\"/>\n",
       "    <script crossorigin type=\"module\">\n",
       "    import { render, ColoredTokens } from \"https://unpkg.com/circuitsvis@1.43.3/dist/cdn/esm.js\";\n",
       "    render(\n",
       "      \"circuits-vis-366770f6-b325\",\n",
       "      ColoredTokens,\n",
       "      {\"tokens\": [\"Which\", \" of\", \" these\", \" people\", \" is\", \" not\", \" a\", \" scientist\", \"?\\n\", \"options\", \":\", \" Marie\", \" Cur\", \"ie\", \",\", \" Albert\", \" Einstein\", \",\", \" Gro\", \"ver\", \" Cleveland\", \",\", \" Charles\", \" Darwin\", \",\", \" Nikola\", \" Tesla\", \",\", \" Iss\", \"ac\", \" Newton\", \"\\n\", \"Answer\", \":\"], \"values\": [0.039306640625, 0.0022430419921875, 0.004058837890625, 0.00482177734375, 0.005950927734375, 0.0012969970703125, 0.00109100341796875, 0.00012302398681640625, 0.0035858154296875, 0.007598876953125, 0.0250244140625, 0.0005950927734375, 0.00013446807861328125, 0.0003337860107421875, 0.0072021484375, 0.0002689361572265625, 0.00010824203491210938, 0.007598876953125, 0.00897216796875, 0.003814697265625, 0.30859375, 0.1455078125, 7.43865966796875e-05, 7.361173629760742e-06, 0.00116729736328125, 1.2159347534179688e-05, 1.4662742614746094e-05, 0.0001678466796875, 3.743171691894531e-05, 7.200241088867188e-05, 8.881092071533203e-06, 0.00665283203125, 0.0011138916015625, 0.0233154296875]}\n",
       "    )\n",
       "    </script>"
      ],
      "text/plain": [
       "<circuitsvis.utils.render.RenderedHTML at 0x7fe394d1e4e0>"
      ]
     },
     "metadata": {},
     "output_type": "display_data"
    },
    {
     "name": "stdout",
     "output_type": "stream",
     "text": [
      "Layer: 34, Head: 7\n"
     ]
    },
    {
     "data": {
      "text/html": [
       "<div id=\"circuits-vis-6808a5f2-79ed\" style=\"margin: 15px 0;\"/>\n",
       "    <script crossorigin type=\"module\">\n",
       "    import { render, ColoredTokens } from \"https://unpkg.com/circuitsvis@1.43.3/dist/cdn/esm.js\";\n",
       "    render(\n",
       "      \"circuits-vis-6808a5f2-79ed\",\n",
       "      ColoredTokens,\n",
       "      {\"tokens\": [\"Which\", \" of\", \" these\", \" people\", \" is\", \" not\", \" a\", \" scientist\", \"?\\n\", \"options\", \":\", \" Marie\", \" Cur\", \"ie\", \",\", \" Albert\", \" Einstein\", \",\", \" Gro\", \"ver\", \" Cleveland\", \",\", \" Charles\", \" Darwin\", \",\", \" Nikola\", \" Tesla\", \",\", \" Iss\", \"ac\", \" Newton\", \"\\n\", \"Answer\", \":\"], \"values\": [0.031982421875, 0.0009918212890625, 0.001495361328125, 0.002349853515625, 0.00250244140625, 0.001495361328125, 0.0005645751953125, 0.00013637542724609375, 0.003021240234375, 0.004150390625, 0.0103759765625, 0.00078582763671875, 0.0001983642578125, 0.00063323974609375, 0.00604248046875, 0.000583648681640625, 0.0004215240478515625, 0.004730224609375, 0.00872802734375, 0.003265380859375, 0.1455078125, 0.267578125, 0.0003833770751953125, 0.00011682510375976562, 0.005401611328125, 0.00020503997802734375, 0.0003376007080078125, 0.0018310546875, 0.000186920166015625, 0.00127410888671875, 0.000652313232421875, 0.033935546875, 0.004119873046875, 0.1220703125]}\n",
       "    )\n",
       "    </script>"
      ],
      "text/plain": [
       "<circuitsvis.utils.render.RenderedHTML at 0x7fe394d1deb0>"
      ]
     },
     "metadata": {},
     "output_type": "display_data"
    },
    {
     "name": "stdout",
     "output_type": "stream",
     "text": [
      "Layer: 35, Head: 19\n"
     ]
    },
    {
     "data": {
      "text/html": [
       "<div id=\"circuits-vis-19a35539-fe9a\" style=\"margin: 15px 0;\"/>\n",
       "    <script crossorigin type=\"module\">\n",
       "    import { render, ColoredTokens } from \"https://unpkg.com/circuitsvis@1.43.3/dist/cdn/esm.js\";\n",
       "    render(\n",
       "      \"circuits-vis-19a35539-fe9a\",\n",
       "      ColoredTokens,\n",
       "      {\"tokens\": [\"Which\", \" of\", \" these\", \" people\", \" is\", \" not\", \" a\", \" scientist\", \"?\\n\", \"options\", \":\", \" Marie\", \" Cur\", \"ie\", \",\", \" Albert\", \" Einstein\", \",\", \" Gro\", \"ver\", \" Cleveland\", \",\", \" Charles\", \" Darwin\", \",\", \" Nikola\", \" Tesla\", \",\", \" Iss\", \"ac\", \" Newton\", \"\\n\", \"Answer\", \":\"], \"values\": [0.004547119140625, 5.054473876953125e-05, 0.00010204315185546875, 0.00145721435546875, 0.00011777877807617188, 0.00019359588623046875, 0.000301361083984375, 0.0004730224609375, 0.0003681182861328125, 4.601478576660156e-05, 0.0001354217529296875, 0.003875732421875, 0.00262451171875, 0.0084228515625, 0.00543212890625, 0.0048828125, 0.0250244140625, 0.0052490234375, 0.005767822265625, 0.0045166015625, 0.6171875, 0.158203125, 0.0023040771484375, 0.01336669921875, 0.01275634765625, 0.00274658203125, 0.022216796875, 0.006195068359375, 8.630752563476562e-05, 0.00836181640625, 0.01275634765625, 0.00640869140625, 3.600120544433594e-05, 0.00138092041015625]}\n",
       "    )\n",
       "    </script>"
      ],
      "text/plain": [
       "<circuitsvis.utils.render.RenderedHTML at 0x7fe394d1e4e0>"
      ]
     },
     "metadata": {},
     "output_type": "display_data"
    },
    {
     "name": "stdout",
     "output_type": "stream",
     "text": [
      "Layer: 39, Head: 40\n"
     ]
    },
    {
     "data": {
      "text/html": [
       "<div id=\"circuits-vis-71ea3509-b2fd\" style=\"margin: 15px 0;\"/>\n",
       "    <script crossorigin type=\"module\">\n",
       "    import { render, ColoredTokens } from \"https://unpkg.com/circuitsvis@1.43.3/dist/cdn/esm.js\";\n",
       "    render(\n",
       "      \"circuits-vis-71ea3509-b2fd\",\n",
       "      ColoredTokens,\n",
       "      {\"tokens\": [\"Which\", \" of\", \" these\", \" people\", \" is\", \" not\", \" a\", \" scientist\", \"?\\n\", \"options\", \":\", \" Marie\", \" Cur\", \"ie\", \",\", \" Albert\", \" Einstein\", \",\", \" Gro\", \"ver\", \" Cleveland\", \",\", \" Charles\", \" Darwin\", \",\", \" Nikola\", \" Tesla\", \",\", \" Iss\", \"ac\", \" Newton\", \"\\n\", \"Answer\", \":\"], \"values\": [0.01007080078125, 0.00102996826171875, 0.00070953369140625, 0.003936767578125, 0.00360107421875, 0.003021240234375, 0.00130462646484375, 0.00116729736328125, 0.0223388671875, 0.004119873046875, 0.01318359375, 0.00506591796875, 0.00037384033203125, 0.003997802734375, 0.033447265625, 0.004486083984375, 0.002471923828125, 0.0281982421875, 0.02587890625, 0.0244140625, 0.267578125, 0.37890625, 0.00124359130859375, 0.00063323974609375, 0.00518798828125, 0.00054168701171875, 0.001922607421875, 0.004180908203125, 0.0007781982421875, 0.00154876708984375, 0.0004863739013671875, 0.004608154296875, 0.00335693359375, 0.041748046875]}\n",
       "    )\n",
       "    </script>"
      ],
      "text/plain": [
       "<circuitsvis.utils.render.RenderedHTML at 0x7fe394d1deb0>"
      ]
     },
     "metadata": {},
     "output_type": "display_data"
    },
    {
     "name": "stdout",
     "output_type": "stream",
     "text": [
      "Layer: 42, Head: 30\n"
     ]
    },
    {
     "data": {
      "text/html": [
       "<div id=\"circuits-vis-53d67178-9fcb\" style=\"margin: 15px 0;\"/>\n",
       "    <script crossorigin type=\"module\">\n",
       "    import { render, ColoredTokens } from \"https://unpkg.com/circuitsvis@1.43.3/dist/cdn/esm.js\";\n",
       "    render(\n",
       "      \"circuits-vis-53d67178-9fcb\",\n",
       "      ColoredTokens,\n",
       "      {\"tokens\": [\"Which\", \" of\", \" these\", \" people\", \" is\", \" not\", \" a\", \" scientist\", \"?\\n\", \"options\", \":\", \" Marie\", \" Cur\", \"ie\", \",\", \" Albert\", \" Einstein\", \",\", \" Gro\", \"ver\", \" Cleveland\", \",\", \" Charles\", \" Darwin\", \",\", \" Nikola\", \" Tesla\", \",\", \" Iss\", \"ac\", \" Newton\", \"\\n\", \"Answer\", \":\"], \"values\": [0.0054931640625, 0.0013427734375, 0.0021514892578125, 0.00469970703125, 0.0027618408203125, 0.005157470703125, 0.0024261474609375, 0.004608154296875, 0.0107421875, 0.005157470703125, 0.007598876953125, 0.00439453125, 0.00167083740234375, 0.00469970703125, 0.0057373046875, 0.003265380859375, 0.0033721923828125, 0.005828857421875, 0.0137939453125, 0.0238037109375, 0.181640625, 0.0732421875, 0.003265380859375, 0.003082275390625, 0.005218505859375, 0.001220703125, 0.0042724609375, 0.003173828125, 0.001953125, 0.002593994140625, 0.0021514892578125, 0.0137939453125, 0.003265380859375, 0.01446533203125]}\n",
       "    )\n",
       "    </script>"
      ],
      "text/plain": [
       "<circuitsvis.utils.render.RenderedHTML at 0x7fe394c8e390>"
      ]
     },
     "metadata": {},
     "output_type": "display_data"
    },
    {
     "name": "stdout",
     "output_type": "stream",
     "text": [
      "Layer: 47, Head: 18\n"
     ]
    },
    {
     "data": {
      "text/html": [
       "<div id=\"circuits-vis-c245dc14-cee7\" style=\"margin: 15px 0;\"/>\n",
       "    <script crossorigin type=\"module\">\n",
       "    import { render, ColoredTokens } from \"https://unpkg.com/circuitsvis@1.43.3/dist/cdn/esm.js\";\n",
       "    render(\n",
       "      \"circuits-vis-c245dc14-cee7\",\n",
       "      ColoredTokens,\n",
       "      {\"tokens\": [\"Which\", \" of\", \" these\", \" people\", \" is\", \" not\", \" a\", \" scientist\", \"?\\n\", \"options\", \":\", \" Marie\", \" Cur\", \"ie\", \",\", \" Albert\", \" Einstein\", \",\", \" Gro\", \"ver\", \" Cleveland\", \",\", \" Charles\", \" Darwin\", \",\", \" Nikola\", \" Tesla\", \",\", \" Iss\", \"ac\", \" Newton\", \"\\n\", \"Answer\", \":\"], \"values\": [0.0123291015625, 0.0023040771484375, 0.0032958984375, 0.01007080078125, 0.0087890625, 0.005523681640625, 0.003448486328125, 0.0020904541015625, 0.03173828125, 0.0006103515625, 0.00848388671875, 0.000347137451171875, 0.00010251998901367188, 0.0010833740234375, 0.009765625, 0.00017452239990234375, 9.965896606445312e-05, 0.0106201171875, 0.1689453125, 0.1005859375, 0.07763671875, 0.2734375, 0.0005035400390625, 3.039836883544922e-05, 0.004425048828125, 3.7670135498046875e-05, 9.632110595703125e-05, 0.00286865234375, 0.00035858154296875, 0.00021076202392578125, 4.553794860839844e-05, 0.00836181640625, 0.0008087158203125, 0.024169921875]}\n",
       "    )\n",
       "    </script>"
      ],
      "text/plain": [
       "<circuitsvis.utils.render.RenderedHTML at 0x7fe394c8e5a0>"
      ]
     },
     "metadata": {},
     "output_type": "display_data"
    },
    {
     "name": "stdout",
     "output_type": "stream",
     "text": [
      "Layer: 52, Head: 58\n"
     ]
    },
    {
     "data": {
      "text/html": [
       "<div id=\"circuits-vis-b3c33acb-f0e9\" style=\"margin: 15px 0;\"/>\n",
       "    <script crossorigin type=\"module\">\n",
       "    import { render, ColoredTokens } from \"https://unpkg.com/circuitsvis@1.43.3/dist/cdn/esm.js\";\n",
       "    render(\n",
       "      \"circuits-vis-b3c33acb-f0e9\",\n",
       "      ColoredTokens,\n",
       "      {\"tokens\": [\"Which\", \" of\", \" these\", \" people\", \" is\", \" not\", \" a\", \" scientist\", \"?\\n\", \"options\", \":\", \" Marie\", \" Cur\", \"ie\", \",\", \" Albert\", \" Einstein\", \",\", \" Gro\", \"ver\", \" Cleveland\", \",\", \" Charles\", \" Darwin\", \",\", \" Nikola\", \" Tesla\", \",\", \" Iss\", \"ac\", \" Newton\", \"\\n\", \"Answer\", \":\"], \"values\": [0.0106201171875, 0.00173187255859375, 0.0009002685546875, 0.00543212890625, 0.0030364990234375, 0.0030975341796875, 0.0018157958984375, 0.0024871826171875, 0.005859375, 0.00022029876708984375, 0.00225830078125, 0.0003204345703125, 0.0021514892578125, 0.00323486328125, 0.0037841796875, 0.0009002685546875, 0.0019989013671875, 0.0036773681640625, 0.08349609375, 0.10546875, 0.2119140625, 0.056884765625, 0.0007476806640625, 0.00115203857421875, 0.0026092529296875, 0.0002422332763671875, 0.003448486328125, 0.0020294189453125, 0.0016326904296875, 0.001312255859375, 0.00084686279296875, 0.0072021484375, 0.000926971435546875, 0.0111083984375]}\n",
       "    )\n",
       "    </script>"
      ],
      "text/plain": [
       "<circuitsvis.utils.render.RenderedHTML at 0x7fe394d1e5d0>"
      ]
     },
     "metadata": {},
     "output_type": "display_data"
    }
   ],
   "source": [
    "for layer_idx, head_idx in HEADS:\n",
    "    print(\n",
    "        f\"Layer: {layer_idx}, Head: {head_idx}\"\n",
    "    )\n",
    "\n",
    "    head_matrix = torch.Tensor(attn_matrices.attention_matrices[layer_idx, head_idx]).squeeze()\n",
    "    visualize_attn_matrix(\n",
    "        attn_matrix=head_matrix,\n",
    "        tokens=[mt.tokenizer.decode(t) for t in tokenized.input_ids[0]],\n",
    "        q_index=-1,\n",
    "        start_from=1\n",
    "    )"
   ]
  },
  {
   "cell_type": "code",
   "execution_count": 76,
   "id": "027d93d2",
   "metadata": {},
   "outputs": [
    {
     "name": "stdout",
     "output_type": "stream",
     "text": [
      "Which of these people is a politician or a scientist?\n",
      "options: Michael Jordan, Serena Williams, Justin Trudeau, Mike Tyson, Carl Sagan, Tom Cruise\n",
      "Answer:\n",
      " Justin Trudeau and Carl Sagan\n",
      "Justin Trudeau is a politician and Carl Sagan is a scientist.\n",
      "layer=35\n"
     ]
    },
    {
     "data": {
      "text/html": [
       "<div id=\"circuits-vis-716ba6a3-7705\" style=\"margin: 15px 0;\"/>\n",
       "    <script crossorigin type=\"module\">\n",
       "    import { render, ColoredTokens } from \"https://unpkg.com/circuitsvis@1.43.3/dist/cdn/esm.js\";\n",
       "    render(\n",
       "      \"circuits-vis-716ba6a3-7705\",\n",
       "      ColoredTokens,\n",
       "      {\"tokens\": [\"Which\", \" of\", \" these\", \" people\", \" is\", \" a\", \" politician\", \" or\", \" a\", \" scientist\", \"?\\n\", \"options\", \":\", \" Michael\", \" Jordan\", \",\", \" Serena\", \" Williams\", \",\", \" Justin\", \" Trudeau\", \",\", \" Mike\", \" Tyson\", \",\", \" Carl\", \" S\", \"agan\", \",\", \" Tom\", \" Cruise\", \"\\n\", \"Answer\", \":\"], \"values\": [0.027826786041259766, 0.008333638310432434, 0.005417099222540855, 0.013338804244995117, 0.009423784911632538, 0.005309209227561951, 0.012719571590423584, 0.010736480355262756, 0.0035891253501176834, 0.017125293612480164, 0.027879953384399414, 0.005773045122623444, 0.006412193179130554, 0.007655158638954163, 0.01032787561416626, 0.017940014600753784, 0.006032407283782959, 0.009086281061172485, 0.010141417384147644, 0.0023141540586948395, 0.039981991052627563, 0.04803147912025452, 0.0012116171419620514, 0.005319952964782715, 0.008578702807426453, 0.00462813675403595, 0.009869605302810669, 0.0180676206946373, 0.018899470567703247, 0.0014405734837055206, 0.005064927041530609, 0.027788639068603516, 0.017989950254559517, 0.04138582944869995]}\n",
       "    )\n",
       "    </script>"
      ],
      "text/plain": [
       "<circuitsvis.utils.render.RenderedHTML at 0x7fe394ce45c0>"
      ]
     },
     "metadata": {},
     "output_type": "display_data"
    },
    {
     "name": "stdout",
     "output_type": "stream",
     "text": [
      "--------------------------------------------------------------------------------\n",
      "layer=47\n"
     ]
    },
    {
     "data": {
      "text/html": [
       "<div id=\"circuits-vis-044eecfd-5cd8\" style=\"margin: 15px 0;\"/>\n",
       "    <script crossorigin type=\"module\">\n",
       "    import { render, ColoredTokens } from \"https://unpkg.com/circuitsvis@1.43.3/dist/cdn/esm.js\";\n",
       "    render(\n",
       "      \"circuits-vis-044eecfd-5cd8\",\n",
       "      ColoredTokens,\n",
       "      {\"tokens\": [\"Which\", \" of\", \" these\", \" people\", \" is\", \" a\", \" politician\", \" or\", \" a\", \" scientist\", \"?\\n\", \"options\", \":\", \" Michael\", \" Jordan\", \",\", \" Serena\", \" Williams\", \",\", \" Justin\", \" Trudeau\", \",\", \" Mike\", \" Tyson\", \",\", \" Carl\", \" S\", \"agan\", \",\", \" Tom\", \" Cruise\", \"\\n\", \"Answer\", \":\"], \"values\": [0.0028143376111984253, 0.001313159242272377, 0.0006226599216461182, 0.0006519928574562073, 0.000627715140581131, 0.0007240921258926392, 0.002543516457080841, 0.0017284713685512543, 0.0006911419332027435, 0.002201393246650696, 0.0022998303174972534, 0.0011243689805269241, 0.0010408051311969757, 0.0014934539794921875, 0.0013433098793029785, 0.0010781548917293549, 0.0010578930377960205, 0.0005440860986709595, 0.0009318441152572632, 0.00613323412835598, 0.008682437241077423, 0.004186824895441532, 0.0009226687252521515, 0.0006806105375289917, 0.0007485290989279747, 0.00231306254863739, 0.0008921734988689423, 0.0022975951433181763, 0.001743551343679428, 0.0006691478192806244, 0.0010351911187171936, 0.004254668951034546, 0.007218360900878906, 0.0042882561683654785]}\n",
       "    )\n",
       "    </script>"
      ],
      "text/plain": [
       "<circuitsvis.utils.render.RenderedHTML at 0x7fe3d643fef0>"
      ]
     },
     "metadata": {},
     "output_type": "display_data"
    },
    {
     "name": "stdout",
     "output_type": "stream",
     "text": [
      "--------------------------------------------------------------------------------\n",
      "layer=52\n"
     ]
    },
    {
     "data": {
      "text/html": [
       "<div id=\"circuits-vis-d2b1479e-67db\" style=\"margin: 15px 0;\"/>\n",
       "    <script crossorigin type=\"module\">\n",
       "    import { render, ColoredTokens } from \"https://unpkg.com/circuitsvis@1.43.3/dist/cdn/esm.js\";\n",
       "    render(\n",
       "      \"circuits-vis-d2b1479e-67db\",\n",
       "      ColoredTokens,\n",
       "      {\"tokens\": [\"Which\", \" of\", \" these\", \" people\", \" is\", \" a\", \" politician\", \" or\", \" a\", \" scientist\", \"?\\n\", \"options\", \":\", \" Michael\", \" Jordan\", \",\", \" Serena\", \" Williams\", \",\", \" Justin\", \" Trudeau\", \",\", \" Mike\", \" Tyson\", \",\", \" Carl\", \" S\", \"agan\", \",\", \" Tom\", \" Cruise\", \"\\n\", \"Answer\", \":\"], \"values\": [0.005536824464797974, 0.004823848605155945, 0.001990765333175659, 0.0010373257100582123, 0.0015370994806289673, 0.0021457895636558533, 0.003396734595298767, 0.002125278115272522, 0.001170765608549118, 0.0036580413579940796, 0.0066416263580322266, 0.00507601723074913, 0.005212895572185516, 0.0031328871846199036, 0.0012773610651493073, 0.0029109306633472443, 0.003359481692314148, 0.0009713361505419016, 0.001968175172805786, 0.027702394872903824, 0.018274813890457153, 0.003990262746810913, 0.0012968331575393677, 0.0008901701075956225, 0.001188194379210472, 0.013321220874786377, 0.0008568521589040756, 0.0021234345622360706, 0.00295267254114151, 0.002048240974545479, 0.0010444771032780409, 0.012632042169570923, 0.01700500398874283, 0.014361396431922913]}\n",
       "    )\n",
       "    </script>"
      ],
      "text/plain": [
       "<circuitsvis.utils.render.RenderedHTML at 0x7fe375011c40>"
      ]
     },
     "metadata": {},
     "output_type": "display_data"
    },
    {
     "name": "stdout",
     "output_type": "stream",
     "text": [
      "--------------------------------------------------------------------------------\n"
     ]
    },
    {
     "data": {
      "text/plain": [
       "[PredictedToken(token=' Justin', prob=0.88671875, logit=20.75, token_id=23278, metadata=None),\n",
       " PredictedToken(token=' The', prob=0.023681640625, logit=17.125, token_id=578, metadata=None),\n",
       " PredictedToken(token=' Carl', prob=0.0162353515625, logit=16.75, token_id=22770, metadata=None),\n",
       " PredictedToken(token=' ', prob=0.00677490234375, logit=15.875, token_id=220, metadata=None),\n",
       " PredictedToken(token=' A', prob=0.006378173828125, logit=15.8125, token_id=362, metadata=None)]"
      ]
     },
     "execution_count": 76,
     "metadata": {},
     "output_type": "execute_result"
    }
   ],
   "source": [
    "options = [\"Michael Jordan\", \"Serena Williams\", \"Justin Trudeau\", \"Mike Tyson\", \"Carl Sagan\", \"Tom Cruise\"]\n",
    "prompt_template = \"\"\"Which of these people is a politician or a scientist?\n",
    "options: {}\n",
    "Answer:\"\"\"\n",
    "\n",
    "prompt = prompt_template.format(\n",
    "    \", \".join(options)\n",
    ")\n",
    "print(prompt)\n",
    "gen = generate_with_patch(\n",
    "    mt=mt,\n",
    "    inputs=prompt,\n",
    "    n_gen_per_prompt=1,\n",
    "    max_new_tokens=20,\n",
    "    remove_prefix=True,\n",
    ")[0]\n",
    "print(gen)\n",
    "\n",
    "tokenized = prepare_input(\n",
    "    tokenizer=mt,\n",
    "    prompts=prompt,\n",
    "    add_bos_token=\"qwen\" in mt.name.lower()\n",
    ")\n",
    "\n",
    "attn_matrices = get_attention_matrices(\n",
    "    input=tokenized,\n",
    "    mt=mt,\n",
    "    value_weighted=False,\n",
    "    # patches = []\n",
    ")\n",
    "\n",
    "visualize_average_attn_matrix(\n",
    "    mt=mt,\n",
    "    attn_matrices=attn_matrices,\n",
    "    prompt=prompt,\n",
    "    tokenized=tokenized,\n",
    "    layer_window=LAYERS,\n",
    ")\n",
    "\n",
    "interpret_logits(tokenizer=mt, logits=attn_matrices.logits)"
   ]
  },
  {
   "cell_type": "code",
   "execution_count": 77,
   "id": "414081ff",
   "metadata": {},
   "outputs": [
    {
     "name": "stdout",
     "output_type": "stream",
     "text": [
      "Layer: 33, Head: 45\n"
     ]
    },
    {
     "data": {
      "text/html": [
       "<div id=\"circuits-vis-90aafcd7-3136\" style=\"margin: 15px 0;\"/>\n",
       "    <script crossorigin type=\"module\">\n",
       "    import { render, ColoredTokens } from \"https://unpkg.com/circuitsvis@1.43.3/dist/cdn/esm.js\";\n",
       "    render(\n",
       "      \"circuits-vis-90aafcd7-3136\",\n",
       "      ColoredTokens,\n",
       "      {\"tokens\": [\"Which\", \" of\", \" these\", \" people\", \" is\", \" a\", \" politician\", \" or\", \" a\", \" scientist\", \"?\\n\", \"options\", \":\", \" Michael\", \" Jordan\", \",\", \" Serena\", \" Williams\", \",\", \" Justin\", \" Trudeau\", \",\", \" Mike\", \" Tyson\", \",\", \" Carl\", \" S\", \"agan\", \",\", \" Tom\", \" Cruise\", \"\\n\", \"Answer\", \":\"], \"values\": [0.017333984375, 0.006561279296875, 0.0048828125, 0.005035400390625, 0.00445556640625, 0.0029144287109375, 0.01068115234375, 0.015380859375, 0.005706787109375, 0.03076171875, 0.02001953125, 0.00726318359375, 0.0107421875, 0.01214599609375, 0.0036773681640625, 0.0164794921875, 0.0120849609375, 0.003204345703125, 0.0166015625, 0.010009765625, 0.1181640625, 0.1513671875, 0.004180908203125, 0.005279541015625, 0.007049560546875, 0.0177001953125, 0.009033203125, 0.09619140625, 0.04931640625, 0.00238037109375, 0.003509521484375, 0.026611328125, 0.005035400390625, 0.02734375]}\n",
       "    )\n",
       "    </script>"
      ],
      "text/plain": [
       "<circuitsvis.utils.render.RenderedHTML at 0x7fe3750044a0>"
      ]
     },
     "metadata": {},
     "output_type": "display_data"
    },
    {
     "name": "stdout",
     "output_type": "stream",
     "text": [
      "Layer: 33, Head: 18\n"
     ]
    },
    {
     "data": {
      "text/html": [
       "<div id=\"circuits-vis-a8a564f2-e120\" style=\"margin: 15px 0;\"/>\n",
       "    <script crossorigin type=\"module\">\n",
       "    import { render, ColoredTokens } from \"https://unpkg.com/circuitsvis@1.43.3/dist/cdn/esm.js\";\n",
       "    render(\n",
       "      \"circuits-vis-a8a564f2-e120\",\n",
       "      ColoredTokens,\n",
       "      {\"tokens\": [\"Which\", \" of\", \" these\", \" people\", \" is\", \" a\", \" politician\", \" or\", \" a\", \" scientist\", \"?\\n\", \"options\", \":\", \" Michael\", \" Jordan\", \",\", \" Serena\", \" Williams\", \",\", \" Justin\", \" Trudeau\", \",\", \" Mike\", \" Tyson\", \",\", \" Carl\", \" S\", \"agan\", \",\", \" Tom\", \" Cruise\", \"\\n\", \"Answer\", \":\"], \"values\": [0.0147705078125, 0.001800537109375, 0.0028839111328125, 0.014404296875, 0.0103759765625, 0.006744384765625, 0.013916015625, 0.0194091796875, 0.007476806640625, 0.0208740234375, 0.0225830078125, 0.0007171630859375, 0.00147247314453125, 0.0810546875, 0.015380859375, 0.046142578125, 0.00531005859375, 0.00750732421875, 0.01806640625, 0.009033203125, 0.0859375, 0.34375, 0.0032196044921875, 0.0019683837890625, 0.007781982421875, 0.0308837890625, 0.00927734375, 0.024169921875, 0.0703125, 0.0018310546875, 0.00250244140625, 0.008056640625, 0.00080108642578125, 0.007659912109375]}\n",
       "    )\n",
       "    </script>"
      ],
      "text/plain": [
       "<circuitsvis.utils.render.RenderedHTML at 0x7fe394d056d0>"
      ]
     },
     "metadata": {},
     "output_type": "display_data"
    },
    {
     "name": "stdout",
     "output_type": "stream",
     "text": [
      "Layer: 34, Head: 1\n"
     ]
    },
    {
     "data": {
      "text/html": [
       "<div id=\"circuits-vis-76fdba2e-70c1\" style=\"margin: 15px 0;\"/>\n",
       "    <script crossorigin type=\"module\">\n",
       "    import { render, ColoredTokens } from \"https://unpkg.com/circuitsvis@1.43.3/dist/cdn/esm.js\";\n",
       "    render(\n",
       "      \"circuits-vis-76fdba2e-70c1\",\n",
       "      ColoredTokens,\n",
       "      {\"tokens\": [\"Which\", \" of\", \" these\", \" people\", \" is\", \" a\", \" politician\", \" or\", \" a\", \" scientist\", \"?\\n\", \"options\", \":\", \" Michael\", \" Jordan\", \",\", \" Serena\", \" Williams\", \",\", \" Justin\", \" Trudeau\", \",\", \" Mike\", \" Tyson\", \",\", \" Carl\", \" S\", \"agan\", \",\", \" Tom\", \" Cruise\", \"\\n\", \"Answer\", \":\"], \"values\": [0.0184326171875, 0.000621795654296875, 5.1975250244140625e-05, 0.0009918212890625, 0.000522613525390625, 0.003875732421875, 0.006500244140625, 0.012451171875, 0.00225830078125, 0.010498046875, 0.00714111328125, 8.58306884765625e-05, 0.000652313232421875, 0.00311279296875, 1.0251998901367188e-05, 6.67572021484375e-05, 5.888938903808594e-05, 5.4836273193359375e-06, 0.00189208984375, 0.0002155303955078125, 0.16015625, 0.353515625, 0.000339508056640625, 2.3543834686279297e-06, 5.1975250244140625e-05, 0.036865234375, 0.007171630859375, 0.057373046875, 0.177734375, 6.079673767089844e-05, 1.3947486877441406e-05, 0.00244140625, 0.0002899169921875, 0.0322265625]}\n",
       "    )\n",
       "    </script>"
      ],
      "text/plain": [
       "<circuitsvis.utils.render.RenderedHTML at 0x7fe394c27560>"
      ]
     },
     "metadata": {},
     "output_type": "display_data"
    },
    {
     "name": "stdout",
     "output_type": "stream",
     "text": [
      "Layer: 34, Head: 6\n"
     ]
    },
    {
     "data": {
      "text/html": [
       "<div id=\"circuits-vis-bde91f90-d9d4\" style=\"margin: 15px 0;\"/>\n",
       "    <script crossorigin type=\"module\">\n",
       "    import { render, ColoredTokens } from \"https://unpkg.com/circuitsvis@1.43.3/dist/cdn/esm.js\";\n",
       "    render(\n",
       "      \"circuits-vis-bde91f90-d9d4\",\n",
       "      ColoredTokens,\n",
       "      {\"tokens\": [\"Which\", \" of\", \" these\", \" people\", \" is\", \" a\", \" politician\", \" or\", \" a\", \" scientist\", \"?\\n\", \"options\", \":\", \" Michael\", \" Jordan\", \",\", \" Serena\", \" Williams\", \",\", \" Justin\", \" Trudeau\", \",\", \" Mike\", \" Tyson\", \",\", \" Carl\", \" S\", \"agan\", \",\", \" Tom\", \" Cruise\", \"\\n\", \"Answer\", \":\"], \"values\": [0.0341796875, 0.002471923828125, 0.00030517578125, 0.0012054443359375, 0.00154876708984375, 0.00604248046875, 0.005340576171875, 0.00836181640625, 0.00421142578125, 0.00689697265625, 0.00897216796875, 0.0003566741943359375, 0.004547119140625, 0.012451171875, 2.205371856689453e-05, 0.00012683868408203125, 6.580352783203125e-05, 1.1444091796875e-05, 0.00469970703125, 0.0001735687255859375, 0.053955078125, 0.158203125, 0.000667572021484375, 1.1324882507324219e-06, 4.673004150390625e-05, 0.0103759765625, 0.0040283203125, 0.010009765625, 0.0201416015625, 5.4836273193359375e-05, 1.2069940567016602e-06, 0.00164794921875, 0.0008544921875, 0.031982421875]}\n",
       "    )\n",
       "    </script>"
      ],
      "text/plain": [
       "<circuitsvis.utils.render.RenderedHTML at 0x7fe394c24110>"
      ]
     },
     "metadata": {},
     "output_type": "display_data"
    },
    {
     "name": "stdout",
     "output_type": "stream",
     "text": [
      "Layer: 34, Head: 7\n"
     ]
    },
    {
     "data": {
      "text/html": [
       "<div id=\"circuits-vis-1fdee91e-227e\" style=\"margin: 15px 0;\"/>\n",
       "    <script crossorigin type=\"module\">\n",
       "    import { render, ColoredTokens } from \"https://unpkg.com/circuitsvis@1.43.3/dist/cdn/esm.js\";\n",
       "    render(\n",
       "      \"circuits-vis-1fdee91e-227e\",\n",
       "      ColoredTokens,\n",
       "      {\"tokens\": [\"Which\", \" of\", \" these\", \" people\", \" is\", \" a\", \" politician\", \" or\", \" a\", \" scientist\", \"?\\n\", \"options\", \":\", \" Michael\", \" Jordan\", \",\", \" Serena\", \" Williams\", \",\", \" Justin\", \" Trudeau\", \",\", \" Mike\", \" Tyson\", \",\", \" Carl\", \" S\", \"agan\", \",\", \" Tom\", \" Cruise\", \"\\n\", \"Answer\", \":\"], \"values\": [0.043701171875, 0.0019683837890625, 0.00057220458984375, 0.0019683837890625, 0.0019378662109375, 0.002685546875, 0.005950927734375, 0.006927490234375, 0.00179290771484375, 0.005767822265625, 0.01025390625, 0.000782012939453125, 0.004791259765625, 0.01202392578125, 0.000598907470703125, 0.001678466796875, 0.00091552734375, 0.000431060791015625, 0.005523681640625, 0.0007476806640625, 0.1611328125, 0.2099609375, 0.00083160400390625, 0.0001277923583984375, 0.00103759765625, 0.017822265625, 0.00830078125, 0.057373046875, 0.06884765625, 0.000598907470703125, 0.0003814697265625, 0.0230712890625, 0.005401611328125, 0.1064453125]}\n",
       "    )\n",
       "    </script>"
      ],
      "text/plain": [
       "<circuitsvis.utils.render.RenderedHTML at 0x7fe3750042f0>"
      ]
     },
     "metadata": {},
     "output_type": "display_data"
    },
    {
     "name": "stdout",
     "output_type": "stream",
     "text": [
      "Layer: 35, Head: 19\n"
     ]
    },
    {
     "data": {
      "text/html": [
       "<div id=\"circuits-vis-b5798803-fe66\" style=\"margin: 15px 0;\"/>\n",
       "    <script crossorigin type=\"module\">\n",
       "    import { render, ColoredTokens } from \"https://unpkg.com/circuitsvis@1.43.3/dist/cdn/esm.js\";\n",
       "    render(\n",
       "      \"circuits-vis-b5798803-fe66\",\n",
       "      ColoredTokens,\n",
       "      {\"tokens\": [\"Which\", \" of\", \" these\", \" people\", \" is\", \" a\", \" politician\", \" or\", \" a\", \" scientist\", \"?\\n\", \"options\", \":\", \" Michael\", \" Jordan\", \",\", \" Serena\", \" Williams\", \",\", \" Justin\", \" Trudeau\", \",\", \" Mike\", \" Tyson\", \",\", \" Carl\", \" S\", \"agan\", \",\", \" Tom\", \" Cruise\", \"\\n\", \"Answer\", \":\"], \"values\": [0.00341796875, 8.106231689453125e-05, 2.8014183044433594e-05, 0.000568389892578125, 6.723403930664062e-05, 0.0003871917724609375, 0.0101318359375, 0.00150299072265625, 0.001678466796875, 0.0250244140625, 0.001312255859375, 1.9550323486328125e-05, 3.337860107421875e-05, 0.002227783203125, 0.00665283203125, 0.003814697265625, 0.01129150390625, 0.01043701171875, 0.00390625, 0.001556396484375, 0.53515625, 0.1796875, 0.0003032684326171875, 0.003387451171875, 0.00174713134765625, 0.01263427734375, 0.000278472900390625, 0.12353515625, 0.0419921875, 0.000156402587890625, 0.00518798828125, 0.00156402587890625, 2.014636993408203e-05, 0.000507354736328125]}\n",
       "    )\n",
       "    </script>"
      ],
      "text/plain": [
       "<circuitsvis.utils.render.RenderedHTML at 0x7fe394c8bc80>"
      ]
     },
     "metadata": {},
     "output_type": "display_data"
    },
    {
     "name": "stdout",
     "output_type": "stream",
     "text": [
      "Layer: 39, Head: 40\n"
     ]
    },
    {
     "data": {
      "text/html": [
       "<div id=\"circuits-vis-c056da58-3077\" style=\"margin: 15px 0;\"/>\n",
       "    <script crossorigin type=\"module\">\n",
       "    import { render, ColoredTokens } from \"https://unpkg.com/circuitsvis@1.43.3/dist/cdn/esm.js\";\n",
       "    render(\n",
       "      \"circuits-vis-c056da58-3077\",\n",
       "      ColoredTokens,\n",
       "      {\"tokens\": [\"Which\", \" of\", \" these\", \" people\", \" is\", \" a\", \" politician\", \" or\", \" a\", \" scientist\", \"?\\n\", \"options\", \":\", \" Michael\", \" Jordan\", \",\", \" Serena\", \" Williams\", \",\", \" Justin\", \" Trudeau\", \",\", \" Mike\", \" Tyson\", \",\", \" Carl\", \" S\", \"agan\", \",\", \" Tom\", \" Cruise\", \"\\n\", \"Answer\", \":\"], \"values\": [0.00567626953125, 0.0030517578125, 0.0002880096435546875, 0.00250244140625, 0.00225830078125, 0.0026702880859375, 0.025634765625, 0.010986328125, 0.002899169921875, 0.0242919921875, 0.01336669921875, 0.00018978118896484375, 0.000682830810546875, 0.004791259765625, 0.000621795654296875, 0.0020294189453125, 0.003387451171875, 0.0033111572265625, 0.00738525390625, 0.01239013671875, 0.515625, 0.2431640625, 0.004180908203125, 0.0004482269287109375, 0.0025787353515625, 0.0169677734375, 0.00274658203125, 0.0234375, 0.029296875, 0.0008087158203125, 0.0011444091796875, 0.0026397705078125, 0.000507354736328125, 0.0111083984375]}\n",
       "    )\n",
       "    </script>"
      ],
      "text/plain": [
       "<circuitsvis.utils.render.RenderedHTML at 0x7fe375007d10>"
      ]
     },
     "metadata": {},
     "output_type": "display_data"
    },
    {
     "name": "stdout",
     "output_type": "stream",
     "text": [
      "Layer: 42, Head: 30\n"
     ]
    },
    {
     "data": {
      "text/html": [
       "<div id=\"circuits-vis-de770b1f-3d5e\" style=\"margin: 15px 0;\"/>\n",
       "    <script crossorigin type=\"module\">\n",
       "    import { render, ColoredTokens } from \"https://unpkg.com/circuitsvis@1.43.3/dist/cdn/esm.js\";\n",
       "    render(\n",
       "      \"circuits-vis-de770b1f-3d5e\",\n",
       "      ColoredTokens,\n",
       "      {\"tokens\": [\"Which\", \" of\", \" these\", \" people\", \" is\", \" a\", \" politician\", \" or\", \" a\", \" scientist\", \"?\\n\", \"options\", \":\", \" Michael\", \" Jordan\", \",\", \" Serena\", \" Williams\", \",\", \" Justin\", \" Trudeau\", \",\", \" Mike\", \" Tyson\", \",\", \" Carl\", \" S\", \"agan\", \",\", \" Tom\", \" Cruise\", \"\\n\", \"Answer\", \":\"], \"values\": [0.006500244140625, 0.00125885009765625, 0.00151824951171875, 0.002471923828125, 0.0028839111328125, 0.0042724609375, 0.009033203125, 0.01226806640625, 0.006103515625, 0.0242919921875, 0.007476806640625, 0.0005950927734375, 0.002716064453125, 0.005157470703125, 0.0035858154296875, 0.0042724609375, 0.002471923828125, 0.007598876953125, 0.00872802734375, 0.02099609375, 0.369140625, 0.04248046875, 0.00836181640625, 0.0035400390625, 0.0089111328125, 0.0147705078125, 0.015869140625, 0.06005859375, 0.0235595703125, 0.004547119140625, 0.004913330078125, 0.00811767578125, 0.00069427490234375, 0.0067138671875]}\n",
       "    )\n",
       "    </script>"
      ],
      "text/plain": [
       "<circuitsvis.utils.render.RenderedHTML at 0x7fe394d1e5d0>"
      ]
     },
     "metadata": {},
     "output_type": "display_data"
    },
    {
     "name": "stdout",
     "output_type": "stream",
     "text": [
      "Layer: 47, Head: 18\n"
     ]
    },
    {
     "data": {
      "text/html": [
       "<div id=\"circuits-vis-7f5ccc74-1ff8\" style=\"margin: 15px 0;\"/>\n",
       "    <script crossorigin type=\"module\">\n",
       "    import { render, ColoredTokens } from \"https://unpkg.com/circuitsvis@1.43.3/dist/cdn/esm.js\";\n",
       "    render(\n",
       "      \"circuits-vis-7f5ccc74-1ff8\",\n",
       "      ColoredTokens,\n",
       "      {\"tokens\": [\"Which\", \" of\", \" these\", \" people\", \" is\", \" a\", \" politician\", \" or\", \" a\", \" scientist\", \"?\\n\", \"options\", \":\", \" Michael\", \" Jordan\", \",\", \" Serena\", \" Williams\", \",\", \" Justin\", \" Trudeau\", \",\", \" Mike\", \" Tyson\", \",\", \" Carl\", \" S\", \"agan\", \",\", \" Tom\", \" Cruise\", \"\\n\", \"Answer\", \":\"], \"values\": [0.005523681640625, 0.00360107421875, 0.001129150390625, 0.000396728515625, 0.00506591796875, 0.004608154296875, 0.004913330078125, 0.0228271484375, 0.00897216796875, 0.005706787109375, 0.01123046875, 1.919269561767578e-05, 0.003082275390625, 0.00092315673828125, 0.00080108642578125, 0.006866455078125, 0.00012874603271484375, 9.441375732421875e-05, 0.01116943359375, 0.1845703125, 0.30859375, 0.1337890625, 0.00101470947265625, 0.0002727508544921875, 0.00848388671875, 0.03466796875, 0.009033203125, 0.0017547607421875, 0.0289306640625, 0.005706787109375, 0.001129150390625, 0.00616455078125, 0.00045013427734375, 0.01239013671875]}\n",
       "    )\n",
       "    </script>"
      ],
      "text/plain": [
       "<circuitsvis.utils.render.RenderedHTML at 0x7fe394c27440>"
      ]
     },
     "metadata": {},
     "output_type": "display_data"
    },
    {
     "name": "stdout",
     "output_type": "stream",
     "text": [
      "Layer: 52, Head: 58\n"
     ]
    },
    {
     "data": {
      "text/html": [
       "<div id=\"circuits-vis-7704b9ad-0693\" style=\"margin: 15px 0;\"/>\n",
       "    <script crossorigin type=\"module\">\n",
       "    import { render, ColoredTokens } from \"https://unpkg.com/circuitsvis@1.43.3/dist/cdn/esm.js\";\n",
       "    render(\n",
       "      \"circuits-vis-7704b9ad-0693\",\n",
       "      ColoredTokens,\n",
       "      {\"tokens\": [\"Which\", \" of\", \" these\", \" people\", \" is\", \" a\", \" politician\", \" or\", \" a\", \" scientist\", \"?\\n\", \"options\", \":\", \" Michael\", \" Jordan\", \",\", \" Serena\", \" Williams\", \",\", \" Justin\", \" Trudeau\", \",\", \" Mike\", \" Tyson\", \",\", \" Carl\", \" S\", \"agan\", \",\", \" Tom\", \" Cruise\", \"\\n\", \"Answer\", \":\"], \"values\": [0.0015106201171875, 0.00058746337890625, 0.00012683868408203125, 6.389617919921875e-05, 0.00021648406982421875, 0.000667572021484375, 0.000885009765625, 0.0038909912109375, 0.00182342529296875, 0.0052490234375, 0.0005035400390625, 6.48200511932373e-07, 0.00015354156494140625, 0.000148773193359375, 0.0008544921875, 0.00048065185546875, 6.008148193359375e-05, 8.20159912109375e-05, 0.0010833740234375, 0.031494140625, 0.828125, 0.01007080078125, 8.487701416015625e-05, 0.00019741058349609375, 0.00136566162109375, 0.01953125, 0.00775146484375, 0.01519775390625, 0.00335693359375, 0.00075531005859375, 0.000644683837890625, 0.0006256103515625, 2.8371810913085938e-05, 0.00299072265625]}\n",
       "    )\n",
       "    </script>"
      ],
      "text/plain": [
       "<circuitsvis.utils.render.RenderedHTML at 0x7fe394d1d6d0>"
      ]
     },
     "metadata": {},
     "output_type": "display_data"
    }
   ],
   "source": [
    "for layer_idx, head_idx in HEADS:\n",
    "    print(\n",
    "        f\"Layer: {layer_idx}, Head: {head_idx}\"\n",
    "    )\n",
    "\n",
    "    head_matrix = torch.Tensor(attn_matrices.attention_matrices[layer_idx, head_idx]).squeeze()\n",
    "    visualize_attn_matrix(\n",
    "        attn_matrix=head_matrix,\n",
    "        tokens=[mt.tokenizer.decode(t) for t in tokenized.input_ids[0]],\n",
    "        q_index=-1,\n",
    "        start_from=1\n",
    "    )"
   ]
  },
  {
   "cell_type": "code",
   "execution_count": 82,
   "id": "60e64440",
   "metadata": {},
   "outputs": [
    {
     "name": "stdout",
     "output_type": "stream",
     "text": [
      "46, 57, 55, 62, 39\n",
      "Which of these numbers is a multiple of 3?\n",
      "Ans:\n",
      " 57\n",
      "In the above numbers 57 is the only number which is a multiple of 3\n",
      "layer=35\n"
     ]
    },
    {
     "data": {
      "text/html": [
       "<div id=\"circuits-vis-1e8ef990-b10c\" style=\"margin: 15px 0;\"/>\n",
       "    <script crossorigin type=\"module\">\n",
       "    import { render, ColoredTokens } from \"https://unpkg.com/circuitsvis@1.43.3/dist/cdn/esm.js\";\n",
       "    render(\n",
       "      \"circuits-vis-1e8ef990-b10c\",\n",
       "      ColoredTokens,\n",
       "      {\"tokens\": [\"46\", \",\", \" \", \"57\", \",\", \" \", \"55\", \",\", \" \", \"62\", \",\", \" \", \"39\", \"\\n\", \"Which\", \" of\", \" these\", \" numbers\", \" is\", \" a\", \" multiple\", \" of\", \" \", \"3\", \"?\\n\", \"Ans\", \":\"], \"values\": [0.020936012268066406, 0.0042772311717271805, 0.005291273817420006, 0.009633220732212067, 0.0065942369401454926, 0.014466390013694763, 0.014481157064437866, 0.011054590344429016, 0.0066323429346084595, 0.013852978125214577, 0.0036186613142490387, 0.006439812481403351, 0.0183182954788208, 0.013253450393676758, 0.012309610843658447, 0.005243590101599693, 0.013203054666519165, 0.010243862867355347, 0.014209836721420288, 0.010763004422187805, 0.022098958492279053, 0.011514425277709961, 0.0064150989055633545, 0.07556605339050293, 0.04688870906829834, 0.014485269784927368, 0.03219318389892578]}\n",
       "    )\n",
       "    </script>"
      ],
      "text/plain": [
       "<circuitsvis.utils.render.RenderedHTML at 0x7fe3e068c1a0>"
      ]
     },
     "metadata": {},
     "output_type": "display_data"
    },
    {
     "name": "stdout",
     "output_type": "stream",
     "text": [
      "--------------------------------------------------------------------------------\n",
      "layer=47\n"
     ]
    },
    {
     "data": {
      "text/html": [
       "<div id=\"circuits-vis-04f11c13-bb87\" style=\"margin: 15px 0;\"/>\n",
       "    <script crossorigin type=\"module\">\n",
       "    import { render, ColoredTokens } from \"https://unpkg.com/circuitsvis@1.43.3/dist/cdn/esm.js\";\n",
       "    render(\n",
       "      \"circuits-vis-04f11c13-bb87\",\n",
       "      ColoredTokens,\n",
       "      {\"tokens\": [\"46\", \",\", \" \", \"57\", \",\", \" \", \"55\", \",\", \" \", \"62\", \",\", \" \", \"39\", \"\\n\", \"Which\", \" of\", \" these\", \" numbers\", \" is\", \" a\", \" multiple\", \" of\", \" \", \"3\", \"?\\n\", \"Ans\", \":\"], \"values\": [0.0033069103956222534, 0.0016630562022328377, 0.000983675941824913, 0.003609517589211464, 0.0010223109275102615, 0.0014734640717506409, 0.0036648744717240334, 0.0012367023155093193, 0.0009124018251895905, 0.0022065285593271255, 0.0004894458688795567, 0.0009731203317642212, 0.00198967382311821, 0.0025768131017684937, 0.0017267018556594849, 0.0012391433119773865, 0.00116652250289917, 0.0025852322578430176, 0.0007695406675338745, 0.0006675608456134796, 0.003120213747024536, 0.0008134078234434128, 0.0007419325411319733, 0.002306722104549408, 0.004877656698226929, 0.008894681930541992, 0.0038014650344848633]}\n",
       "    )\n",
       "    </script>"
      ],
      "text/plain": [
       "<circuitsvis.utils.render.RenderedHTML at 0x7fe394d1e570>"
      ]
     },
     "metadata": {},
     "output_type": "display_data"
    },
    {
     "name": "stdout",
     "output_type": "stream",
     "text": [
      "--------------------------------------------------------------------------------\n",
      "layer=52\n"
     ]
    },
    {
     "data": {
      "text/html": [
       "<div id=\"circuits-vis-be68e7d3-c975\" style=\"margin: 15px 0;\"/>\n",
       "    <script crossorigin type=\"module\">\n",
       "    import { render, ColoredTokens } from \"https://unpkg.com/circuitsvis@1.43.3/dist/cdn/esm.js\";\n",
       "    render(\n",
       "      \"circuits-vis-be68e7d3-c975\",\n",
       "      ColoredTokens,\n",
       "      {\"tokens\": [\"46\", \",\", \" \", \"57\", \",\", \" \", \"55\", \",\", \" \", \"62\", \",\", \" \", \"39\", \"\\n\", \"Which\", \" of\", \" these\", \" numbers\", \" is\", \" a\", \" multiple\", \" of\", \" \", \"3\", \"?\\n\", \"Ans\", \":\"], \"values\": [0.006629258394241333, 0.004745650105178356, 0.002492339350283146, 0.007926858961582184, 0.0025897715240716934, 0.0017779208719730377, 0.008083997294306755, 0.0024931766092777252, 0.001577034592628479, 0.0044067418202757835, 0.0009911605156958103, 0.0015297532081604004, 0.004487666301429272, 0.01289445161819458, 0.007093261927366257, 0.002973731607198715, 0.0023773498833179474, 0.0050757043063640594, 0.002086321823298931, 0.0020080674439668655, 0.004474075511097908, 0.0017484929412603378, 0.0014082416892051697, 0.007260285317897797, 0.0188540518283844, 0.016879960894584656, 0.01395837590098381]}\n",
       "    )\n",
       "    </script>"
      ],
      "text/plain": [
       "<circuitsvis.utils.render.RenderedHTML at 0x7fe394c98860>"
      ]
     },
     "metadata": {},
     "output_type": "display_data"
    },
    {
     "name": "stdout",
     "output_type": "stream",
     "text": [
      "--------------------------------------------------------------------------------\n"
     ]
    },
    {
     "data": {
      "text/plain": [
       "[PredictedToken(token=' ', prob=0.80859375, logit=19.5, token_id=220, metadata=None),\n",
       " PredictedToken(token=' The', prob=0.03125, logit=16.25, token_id=578, metadata=None),\n",
       " PredictedToken(token=' A', prob=0.03125, logit=16.25, token_id=362, metadata=None),\n",
       " PredictedToken(token=' To', prob=0.0147705078125, logit=15.5, token_id=2057, metadata=None),\n",
       " PredictedToken(token=' All', prob=0.006988525390625, logit=14.75, token_id=2052, metadata=None)]"
      ]
     },
     "execution_count": 82,
     "metadata": {},
     "output_type": "execute_result"
    }
   ],
   "source": [
    "options = [\"46\", \"57\", \"55\", \"62\", \"39\"]\n",
    "# prompt_template = \"\"\"Which of these numbers is a multiple of 3?\n",
    "# options: {}\n",
    "# Answer:\"\"\"\n",
    "\n",
    "prompt_template = \"\"\"{}\n",
    "Which of these numbers is a multiple of 3?\n",
    "Ans:\"\"\"\n",
    "\n",
    "prompt = prompt_template.format(\n",
    "    \", \".join(options)\n",
    ")\n",
    "print(prompt)\n",
    "\n",
    "gen = generate_with_patch(\n",
    "    mt=mt,\n",
    "    inputs=prompt,\n",
    "    n_gen_per_prompt=1,\n",
    "    max_new_tokens=20,\n",
    "    remove_prefix=True,\n",
    ")[0]\n",
    "print(gen)\n",
    "tokenized = prepare_input(\n",
    "    tokenizer=mt,\n",
    "    prompts=prompt,\n",
    "    add_bos_token=\"qwen\" in mt.name.lower()\n",
    ")\n",
    "attn_matrices = get_attention_matrices(\n",
    "    input=tokenized,\n",
    "    mt=mt,\n",
    "    value_weighted=False,\n",
    "    # patches = []\n",
    ")\n",
    "visualize_average_attn_matrix(\n",
    "    mt=mt,\n",
    "    attn_matrices=attn_matrices,\n",
    "    prompt=prompt,\n",
    "    tokenized=tokenized,\n",
    "    layer_window=LAYERS,\n",
    ")\n",
    "interpret_logits(tokenizer=mt, logits=attn_matrices.logits)"
   ]
  },
  {
   "cell_type": "code",
   "execution_count": 83,
   "id": "cdc6ef8d",
   "metadata": {},
   "outputs": [
    {
     "name": "stdout",
     "output_type": "stream",
     "text": [
      "Layer: 33, Head: 45\n"
     ]
    },
    {
     "data": {
      "text/html": [
       "<div id=\"circuits-vis-b7a373a7-61ae\" style=\"margin: 15px 0;\"/>\n",
       "    <script crossorigin type=\"module\">\n",
       "    import { render, ColoredTokens } from \"https://unpkg.com/circuitsvis@1.43.3/dist/cdn/esm.js\";\n",
       "    render(\n",
       "      \"circuits-vis-b7a373a7-61ae\",\n",
       "      ColoredTokens,\n",
       "      {\"tokens\": [\"46\", \",\", \" \", \"57\", \",\", \" \", \"55\", \",\", \" \", \"62\", \",\", \" \", \"39\", \"\\n\", \"Which\", \" of\", \" these\", \" numbers\", \" is\", \" a\", \" multiple\", \" of\", \" \", \"3\", \"?\\n\", \"Ans\", \":\"], \"values\": [0.025146484375, 0.00604248046875, 0.0030059814453125, 0.023193359375, 0.007781982421875, 0.018310546875, 0.1123046875, 0.0230712890625, 0.0279541015625, 0.03271484375, 0.004638671875, 0.0169677734375, 0.04638671875, 0.00665283203125, 0.01165771484375, 0.0040283203125, 0.0084228515625, 0.018310546875, 0.01080322265625, 0.01544189453125, 0.0072021484375, 0.01007080078125, 0.01214599609375, 0.045166015625, 0.013427734375, 0.004364013671875, 0.01806640625]}\n",
       "    )\n",
       "    </script>"
      ],
      "text/plain": [
       "<circuitsvis.utils.render.RenderedHTML at 0x7fe394c25c40>"
      ]
     },
     "metadata": {},
     "output_type": "display_data"
    },
    {
     "name": "stdout",
     "output_type": "stream",
     "text": [
      "Layer: 33, Head: 18\n"
     ]
    },
    {
     "data": {
      "text/html": [
       "<div id=\"circuits-vis-5983e10b-1629\" style=\"margin: 15px 0;\"/>\n",
       "    <script crossorigin type=\"module\">\n",
       "    import { render, ColoredTokens } from \"https://unpkg.com/circuitsvis@1.43.3/dist/cdn/esm.js\";\n",
       "    render(\n",
       "      \"circuits-vis-5983e10b-1629\",\n",
       "      ColoredTokens,\n",
       "      {\"tokens\": [\"46\", \",\", \" \", \"57\", \",\", \" \", \"55\", \",\", \" \", \"62\", \",\", \" \", \"39\", \"\\n\", \"Which\", \" of\", \" these\", \" numbers\", \" is\", \" a\", \" multiple\", \" of\", \" \", \"3\", \"?\\n\", \"Ans\", \":\"], \"values\": [0.01806640625, 0.0203857421875, 0.033203125, 0.06689453125, 0.03662109375, 0.0732421875, 0.1904296875, 0.060791015625, 0.039306640625, 0.03125, 0.0159912109375, 0.02783203125, 0.0458984375, 0.0301513671875, 0.01953125, 0.00138092041015625, 0.02294921875, 0.02783203125, 0.01019287109375, 0.0123291015625, 0.00439453125, 0.004150390625, 0.0032958984375, 0.01220703125, 0.0035858154296875, 0.0001678466796875, 0.00118255615234375]}\n",
       "    )\n",
       "    </script>"
      ],
      "text/plain": [
       "<circuitsvis.utils.render.RenderedHTML at 0x7fe3750133e0>"
      ]
     },
     "metadata": {},
     "output_type": "display_data"
    },
    {
     "name": "stdout",
     "output_type": "stream",
     "text": [
      "Layer: 34, Head: 1\n"
     ]
    },
    {
     "data": {
      "text/html": [
       "<div id=\"circuits-vis-a2b6a204-f571\" style=\"margin: 15px 0;\"/>\n",
       "    <script crossorigin type=\"module\">\n",
       "    import { render, ColoredTokens } from \"https://unpkg.com/circuitsvis@1.43.3/dist/cdn/esm.js\";\n",
       "    render(\n",
       "      \"circuits-vis-a2b6a204-f571\",\n",
       "      ColoredTokens,\n",
       "      {\"tokens\": [\"46\", \",\", \" \", \"57\", \",\", \" \", \"55\", \",\", \" \", \"62\", \",\", \" \", \"39\", \"\\n\", \"Which\", \" of\", \" these\", \" numbers\", \" is\", \" a\", \" multiple\", \" of\", \" \", \"3\", \"?\\n\", \"Ans\", \":\"], \"values\": [0.0240478515625, 0.00927734375, 0.00848388671875, 0.03564453125, 0.0291748046875, 0.041748046875, 0.07080078125, 0.047607421875, 0.017822265625, 0.0172119140625, 0.016357421875, 0.0179443359375, 0.04345703125, 0.019775390625, 0.033203125, 0.0029144287109375, 0.0257568359375, 0.03173828125, 0.01904296875, 0.021240234375, 0.00811767578125, 0.006622314453125, 0.00811767578125, 0.0255126953125, 0.016357421875, 0.001739501953125, 0.0181884765625]}\n",
       "    )\n",
       "    </script>"
      ],
      "text/plain": [
       "<circuitsvis.utils.render.RenderedHTML at 0x7fe394c27bc0>"
      ]
     },
     "metadata": {},
     "output_type": "display_data"
    },
    {
     "name": "stdout",
     "output_type": "stream",
     "text": [
      "Layer: 34, Head: 6\n"
     ]
    },
    {
     "data": {
      "text/html": [
       "<div id=\"circuits-vis-a1968faa-1c6a\" style=\"margin: 15px 0;\"/>\n",
       "    <script crossorigin type=\"module\">\n",
       "    import { render, ColoredTokens } from \"https://unpkg.com/circuitsvis@1.43.3/dist/cdn/esm.js\";\n",
       "    render(\n",
       "      \"circuits-vis-a1968faa-1c6a\",\n",
       "      ColoredTokens,\n",
       "      {\"tokens\": [\"46\", \",\", \" \", \"57\", \",\", \" \", \"55\", \",\", \" \", \"62\", \",\", \" \", \"39\", \"\\n\", \"Which\", \" of\", \" these\", \" numbers\", \" is\", \" a\", \" multiple\", \" of\", \" \", \"3\", \"?\\n\", \"Ans\", \":\"], \"values\": [0.0289306640625, 0.007720947265625, 0.008056640625, 0.033935546875, 0.0208740234375, 0.05078125, 0.0849609375, 0.04248046875, 0.0380859375, 0.0244140625, 0.0135498046875, 0.0245361328125, 0.0361328125, 0.016357421875, 0.024169921875, 0.00128936767578125, 0.021484375, 0.0240478515625, 0.0108642578125, 0.0216064453125, 0.0026092529296875, 0.0028076171875, 0.0067138671875, 0.00872802734375, 0.00848388671875, 0.0010528564453125, 0.023681640625]}\n",
       "    )\n",
       "    </script>"
      ],
      "text/plain": [
       "<circuitsvis.utils.render.RenderedHTML at 0x7fe3750334a0>"
      ]
     },
     "metadata": {},
     "output_type": "display_data"
    },
    {
     "name": "stdout",
     "output_type": "stream",
     "text": [
      "Layer: 34, Head: 7\n"
     ]
    },
    {
     "data": {
      "text/html": [
       "<div id=\"circuits-vis-067efa37-0891\" style=\"margin: 15px 0;\"/>\n",
       "    <script crossorigin type=\"module\">\n",
       "    import { render, ColoredTokens } from \"https://unpkg.com/circuitsvis@1.43.3/dist/cdn/esm.js\";\n",
       "    render(\n",
       "      \"circuits-vis-067efa37-0891\",\n",
       "      ColoredTokens,\n",
       "      {\"tokens\": [\"46\", \",\", \" \", \"57\", \",\", \" \", \"55\", \",\", \" \", \"62\", \",\", \" \", \"39\", \"\\n\", \"Which\", \" of\", \" these\", \" numbers\", \" is\", \" a\", \" multiple\", \" of\", \" \", \"3\", \"?\\n\", \"Ans\", \":\"], \"values\": [0.04296875, 0.00408935546875, 0.00311279296875, 0.010498046875, 0.009033203125, 0.0205078125, 0.0303955078125, 0.025146484375, 0.0096435546875, 0.0191650390625, 0.0113525390625, 0.01092529296875, 0.0595703125, 0.0242919921875, 0.060546875, 0.00262451171875, 0.09765625, 0.0693359375, 0.0291748046875, 0.031005859375, 0.0098876953125, 0.01007080078125, 0.0137939453125, 0.0869140625, 0.058349609375, 0.002838134765625, 0.041259765625]}\n",
       "    )\n",
       "    </script>"
      ],
      "text/plain": [
       "<circuitsvis.utils.render.RenderedHTML at 0x7fe394c253d0>"
      ]
     },
     "metadata": {},
     "output_type": "display_data"
    },
    {
     "name": "stdout",
     "output_type": "stream",
     "text": [
      "Layer: 35, Head: 19\n"
     ]
    },
    {
     "data": {
      "text/html": [
       "<div id=\"circuits-vis-903be562-3314\" style=\"margin: 15px 0;\"/>\n",
       "    <script crossorigin type=\"module\">\n",
       "    import { render, ColoredTokens } from \"https://unpkg.com/circuitsvis@1.43.3/dist/cdn/esm.js\";\n",
       "    render(\n",
       "      \"circuits-vis-903be562-3314\",\n",
       "      ColoredTokens,\n",
       "      {\"tokens\": [\"46\", \",\", \" \", \"57\", \",\", \" \", \"55\", \",\", \" \", \"62\", \",\", \" \", \"39\", \"\\n\", \"Which\", \" of\", \" these\", \" numbers\", \" is\", \" a\", \" multiple\", \" of\", \" \", \"3\", \"?\\n\", \"Ans\", \":\"], \"values\": [0.006683349609375, 0.004425048828125, 0.01104736328125, 0.033447265625, 0.034423828125, 0.10302734375, 0.154296875, 0.06982421875, 0.031494140625, 0.1591796875, 0.033447265625, 0.043701171875, 0.2216796875, 0.01123046875, 0.0024566650390625, 5.602836608886719e-05, 0.0020904541015625, 0.00604248046875, 0.000308990478515625, 0.00390625, 0.0007171630859375, 0.00043487548828125, 0.00109100341796875, 0.00250244140625, 0.00078582763671875, 0.00011157989501953125, 0.00055694580078125]}\n",
       "    )\n",
       "    </script>"
      ],
      "text/plain": [
       "<circuitsvis.utils.render.RenderedHTML at 0x7fe394c26390>"
      ]
     },
     "metadata": {},
     "output_type": "display_data"
    },
    {
     "name": "stdout",
     "output_type": "stream",
     "text": [
      "Layer: 39, Head: 40\n"
     ]
    },
    {
     "data": {
      "text/html": [
       "<div id=\"circuits-vis-670effb0-86e4\" style=\"margin: 15px 0;\"/>\n",
       "    <script crossorigin type=\"module\">\n",
       "    import { render, ColoredTokens } from \"https://unpkg.com/circuitsvis@1.43.3/dist/cdn/esm.js\";\n",
       "    render(\n",
       "      \"circuits-vis-670effb0-86e4\",\n",
       "      ColoredTokens,\n",
       "      {\"tokens\": [\"46\", \",\", \" \", \"57\", \",\", \" \", \"55\", \",\", \" \", \"62\", \",\", \" \", \"39\", \"\\n\", \"Which\", \" of\", \" these\", \" numbers\", \" is\", \" a\", \" multiple\", \" of\", \" \", \"3\", \"?\\n\", \"Ans\", \":\"], \"values\": [0.0240478515625, 0.011474609375, 0.036376953125, 0.0247802734375, 0.050048828125, 0.060546875, 0.08984375, 0.0712890625, 0.0230712890625, 0.054443359375, 0.0174560546875, 0.0234375, 0.05224609375, 0.045654296875, 0.017578125, 0.00506591796875, 0.006805419921875, 0.01165771484375, 0.01708984375, 0.0181884765625, 0.0072021484375, 0.01019287109375, 0.007293701171875, 0.00848388671875, 0.07421875, 0.005126953125, 0.05615234375]}\n",
       "    )\n",
       "    </script>"
      ],
      "text/plain": [
       "<circuitsvis.utils.render.RenderedHTML at 0x7fe3750339b0>"
      ]
     },
     "metadata": {},
     "output_type": "display_data"
    },
    {
     "name": "stdout",
     "output_type": "stream",
     "text": [
      "Layer: 42, Head: 30\n"
     ]
    },
    {
     "data": {
      "text/html": [
       "<div id=\"circuits-vis-aa29b564-3f3f\" style=\"margin: 15px 0;\"/>\n",
       "    <script crossorigin type=\"module\">\n",
       "    import { render, ColoredTokens } from \"https://unpkg.com/circuitsvis@1.43.3/dist/cdn/esm.js\";\n",
       "    render(\n",
       "      \"circuits-vis-aa29b564-3f3f\",\n",
       "      ColoredTokens,\n",
       "      {\"tokens\": [\"46\", \",\", \" \", \"57\", \",\", \" \", \"55\", \",\", \" \", \"62\", \",\", \" \", \"39\", \"\\n\", \"Which\", \" of\", \" these\", \" numbers\", \" is\", \" a\", \" multiple\", \" of\", \" \", \"3\", \"?\\n\", \"Ans\", \":\"], \"values\": [0.011962890625, 0.00592041015625, 0.004669189453125, 0.01141357421875, 0.0047607421875, 0.012939453125, 0.0196533203125, 0.003875732421875, 0.00445556640625, 0.0089111328125, 0.00167083740234375, 0.00421142578125, 0.01025390625, 0.014892578125, 0.00958251953125, 0.0025787353515625, 0.0107421875, 0.016357421875, 0.00531005859375, 0.005462646484375, 0.0218505859375, 0.00726318359375, 0.0036468505859375, 0.039306640625, 0.007598876953125, 0.00167083740234375, 0.0037689208984375]}\n",
       "    )\n",
       "    </script>"
      ],
      "text/plain": [
       "<circuitsvis.utils.render.RenderedHTML at 0x7fe394c25c40>"
      ]
     },
     "metadata": {},
     "output_type": "display_data"
    },
    {
     "name": "stdout",
     "output_type": "stream",
     "text": [
      "Layer: 47, Head: 18\n"
     ]
    },
    {
     "data": {
      "text/html": [
       "<div id=\"circuits-vis-4b6f4ae7-171b\" style=\"margin: 15px 0;\"/>\n",
       "    <script crossorigin type=\"module\">\n",
       "    import { render, ColoredTokens } from \"https://unpkg.com/circuitsvis@1.43.3/dist/cdn/esm.js\";\n",
       "    render(\n",
       "      \"circuits-vis-4b6f4ae7-171b\",\n",
       "      ColoredTokens,\n",
       "      {\"tokens\": [\"46\", \",\", \" \", \"57\", \",\", \" \", \"55\", \",\", \" \", \"62\", \",\", \" \", \"39\", \"\\n\", \"Which\", \" of\", \" these\", \" numbers\", \" is\", \" a\", \" multiple\", \" of\", \" \", \"3\", \"?\\n\", \"Ans\", \":\"], \"values\": [0.0272216796875, 0.033935546875, 0.015869140625, 0.107421875, 0.0198974609375, 0.0260009765625, 0.11181640625, 0.021728515625, 0.013916015625, 0.04541015625, 0.00994873046875, 0.015625, 0.0478515625, 0.0240478515625, 0.0169677734375, 0.0023193359375, 0.009765625, 0.05126953125, 0.005645751953125, 0.005645751953125, 0.00994873046875, 0.004150390625, 0.006103515625, 0.013916015625, 0.0089111328125, 0.0013885498046875, 0.0067138671875]}\n",
       "    )\n",
       "    </script>"
      ],
      "text/plain": [
       "<circuitsvis.utils.render.RenderedHTML at 0x7fe394c27bc0>"
      ]
     },
     "metadata": {},
     "output_type": "display_data"
    },
    {
     "name": "stdout",
     "output_type": "stream",
     "text": [
      "Layer: 52, Head: 58\n"
     ]
    },
    {
     "data": {
      "text/html": [
       "<div id=\"circuits-vis-95713aa2-b2d7\" style=\"margin: 15px 0;\"/>\n",
       "    <script crossorigin type=\"module\">\n",
       "    import { render, ColoredTokens } from \"https://unpkg.com/circuitsvis@1.43.3/dist/cdn/esm.js\";\n",
       "    render(\n",
       "      \"circuits-vis-95713aa2-b2d7\",\n",
       "      ColoredTokens,\n",
       "      {\"tokens\": [\"46\", \",\", \" \", \"57\", \",\", \" \", \"55\", \",\", \" \", \"62\", \",\", \" \", \"39\", \"\\n\", \"Which\", \" of\", \" these\", \" numbers\", \" is\", \" a\", \" multiple\", \" of\", \" \", \"3\", \"?\\n\", \"Ans\", \":\"], \"values\": [0.02294921875, 0.020263671875, 0.006378173828125, 0.09423828125, 0.026611328125, 0.0159912109375, 0.1728515625, 0.0213623046875, 0.0076904296875, 0.087890625, 0.006591796875, 0.003875732421875, 0.06201171875, 0.01104736328125, 0.005218505859375, 0.00213623046875, 0.00555419921875, 0.01953125, 0.005462646484375, 0.008056640625, 0.01373291015625, 0.006805419921875, 0.0048828125, 0.01446533203125, 0.00445556640625, 0.0016937255859375, 0.004730224609375]}\n",
       "    )\n",
       "    </script>"
      ],
      "text/plain": [
       "<circuitsvis.utils.render.RenderedHTML at 0x7fe394c8fef0>"
      ]
     },
     "metadata": {},
     "output_type": "display_data"
    }
   ],
   "source": [
    "# for group_id in group_id_to_head_indices:\n",
    "for layer_idx, head_idx in HEADS:\n",
    "    print(\n",
    "        f\"Layer: {layer_idx}, Head: {head_idx}\"\n",
    "    )\n",
    "\n",
    "    head_matrix = torch.Tensor(attn_matrices.attention_matrices[layer_idx, head_idx]).squeeze()\n",
    "    visualize_attn_matrix(\n",
    "        attn_matrix=head_matrix,\n",
    "        tokens=[mt.tokenizer.decode(t) for t in tokenized.input_ids[0]],\n",
    "        q_index=-1,\n",
    "        start_from=1\n",
    "    )"
   ]
  },
  {
   "cell_type": "code",
   "execution_count": 89,
   "id": "62f912ca",
   "metadata": {},
   "outputs": [
    {
     "name": "stdout",
     "output_type": "stream",
     "text": [
      "1. Brad Pitt\n",
      "2. Tom Hanks\n",
      "3. Leonardo DiCaprio\n",
      "4. Tom Brady\n",
      "5. Daniel Radcliffe\n",
      "6. Hugh Jackman\n",
      "Which among these people are different from others?\n",
      "Answer:\n",
      " Tom Brady\n",
      "The others are all actors while Tom Brady is a football player.\n",
      "layer=35\n"
     ]
    },
    {
     "data": {
      "text/html": [
       "<div id=\"circuits-vis-7f11cb0b-aac1\" style=\"margin: 15px 0;\"/>\n",
       "    <script crossorigin type=\"module\">\n",
       "    import { render, ColoredTokens } from \"https://unpkg.com/circuitsvis@1.43.3/dist/cdn/esm.js\";\n",
       "    render(\n",
       "      \"circuits-vis-7f11cb0b-aac1\",\n",
       "      ColoredTokens,\n",
       "      {\"tokens\": [\"1\", \".\", \" Brad\", \" Pitt\", \"\\n\", \"2\", \".\", \" Tom\", \" H\", \"anks\", \"\\n\", \"3\", \".\", \" Leonardo\", \" Di\", \"Cap\", \"rio\", \"\\n\", \"4\", \".\", \" Tom\", \" Brady\", \"\\n\", \"5\", \".\", \" Daniel\", \" Rad\", \"cliffe\", \"\\n\", \"6\", \".\", \" Hugh\", \" Jack\", \"man\", \"\\n\", \"Which\", \" among\", \" these\", \" people\", \" are\", \" different\", \" from\", \" others\", \"?\\n\", \"Answer\", \":\"], \"values\": [0.02121901512145996, 0.002283625304698944, 0.002341151237487793, 0.008157551288604736, 0.007651954889297485, 0.006372496485710144, 0.006855502724647522, 0.004896275699138641, 0.001104850322008133, 0.01393187791109085, 0.008191391825675964, 0.0016030818223953247, 0.004706043750047684, 0.005280286073684692, 0.0019650645554065704, 0.003913447260856628, 0.004835452884435654, 0.006439372897148132, 0.002572871744632721, 0.00273238867521286, 0.008801963180303574, 0.04842299222946167, 0.03830772638320923, 0.0027088895440101624, 0.005732476711273193, 0.005736310034990311, 0.012628331780433655, 0.021942809224128723, 0.013585902750492096, 0.004759281873703003, 0.006804715842008591, 0.00366814061999321, 0.004190608859062195, 0.006422460079193115, 0.0062149278819561005, 0.010799646377563477, 0.004328712821006775, 0.016840368509292603, 0.00942903757095337, 0.007721126079559326, 0.015759635716676712, 0.004293758422136307, 0.012425370514392853, 0.016077443957328796, 0.008593272417783737, 0.03473871946334839]}\n",
       "    )\n",
       "    </script>"
      ],
      "text/plain": [
       "<circuitsvis.utils.render.RenderedHTML at 0x7fe375011250>"
      ]
     },
     "metadata": {},
     "output_type": "display_data"
    },
    {
     "name": "stdout",
     "output_type": "stream",
     "text": [
      "--------------------------------------------------------------------------------\n",
      "layer=47\n"
     ]
    },
    {
     "data": {
      "text/html": [
       "<div id=\"circuits-vis-eaa39723-4c28\" style=\"margin: 15px 0;\"/>\n",
       "    <script crossorigin type=\"module\">\n",
       "    import { render, ColoredTokens } from \"https://unpkg.com/circuitsvis@1.43.3/dist/cdn/esm.js\";\n",
       "    render(\n",
       "      \"circuits-vis-eaa39723-4c28\",\n",
       "      ColoredTokens,\n",
       "      {\"tokens\": [\"1\", \".\", \" Brad\", \" Pitt\", \"\\n\", \"2\", \".\", \" Tom\", \" H\", \"anks\", \"\\n\", \"3\", \".\", \" Leonardo\", \" Di\", \"Cap\", \"rio\", \"\\n\", \"4\", \".\", \" Tom\", \" Brady\", \"\\n\", \"5\", \".\", \" Daniel\", \" Rad\", \"cliffe\", \"\\n\", \"6\", \".\", \" Hugh\", \" Jack\", \"man\", \"\\n\", \"Which\", \" among\", \" these\", \" people\", \" are\", \" different\", \" from\", \" others\", \"?\\n\", \"Answer\", \":\"], \"values\": [0.0020608901977539062, 0.0008914470672607422, 0.0012422166764736176, 0.0017084144055843353, 0.0006272667087614536, 0.0007148804143071175, 0.0009723976254463196, 0.0024728132411837578, 0.0004515848122537136, 0.0006606392562389374, 0.0013842205516994, 0.00037708436138927937, 0.0005767927505075932, 0.0015207622200250626, 0.0004039439372718334, 0.0006447797641158104, 0.0008605332113802433, 0.0011367503320798278, 0.0006581980269402266, 0.0005862009711563587, 0.0034712646156549454, 0.0033852383494377136, 0.006971316412091255, 0.0006853137165307999, 0.0013133008033037186, 0.00602689478546381, 0.002315264195203781, 0.0027814116328954697, 0.002107730135321617, 0.0007641655392944813, 0.0011588362976908684, 0.0012257229536771774, 0.0009177811443805695, 0.0005910890176892281, 0.00039220694452524185, 0.0014643296599388123, 0.0009487774223089218, 0.0009507685899734497, 0.0009455718100070953, 0.000995103269815445, 0.001323789358139038, 0.0006372332572937012, 0.0012346915900707245, 0.005325153470039368, 0.004450581967830658, 0.0030427128076553345]}\n",
       "    )\n",
       "    </script>"
      ],
      "text/plain": [
       "<circuitsvis.utils.render.RenderedHTML at 0x7fe3dd212990>"
      ]
     },
     "metadata": {},
     "output_type": "display_data"
    },
    {
     "name": "stdout",
     "output_type": "stream",
     "text": [
      "--------------------------------------------------------------------------------\n",
      "layer=52\n"
     ]
    },
    {
     "data": {
      "text/html": [
       "<div id=\"circuits-vis-b742bd7d-fa82\" style=\"margin: 15px 0;\"/>\n",
       "    <script crossorigin type=\"module\">\n",
       "    import { render, ColoredTokens } from \"https://unpkg.com/circuitsvis@1.43.3/dist/cdn/esm.js\";\n",
       "    render(\n",
       "      \"circuits-vis-b742bd7d-fa82\",\n",
       "      ColoredTokens,\n",
       "      {\"tokens\": [\"1\", \".\", \" Brad\", \" Pitt\", \"\\n\", \"2\", \".\", \" Tom\", \" H\", \"anks\", \"\\n\", \"3\", \".\", \" Leonardo\", \" Di\", \"Cap\", \"rio\", \"\\n\", \"4\", \".\", \" Tom\", \" Brady\", \"\\n\", \"5\", \".\", \" Daniel\", \" Rad\", \"cliffe\", \"\\n\", \"6\", \".\", \" Hugh\", \" Jack\", \"man\", \"\\n\", \"Which\", \" among\", \" these\", \" people\", \" are\", \" different\", \" from\", \" others\", \"?\\n\", \"Answer\", \":\"], \"values\": [0.004307925701141357, 0.0024400949478149414, 0.002847224473953247, 0.0022849999368190765, 0.002343982458114624, 0.0025349371135234833, 0.0022521615028381348, 0.007866542786359787, 0.0006269551813602448, 0.0010001666378229856, 0.0018763542175292969, 0.0009267283603549004, 0.0012984629720449448, 0.005508758127689362, 0.0012419391423463821, 0.0007101264782249928, 0.000833914615213871, 0.00146465003490448, 0.00115513289347291, 0.001119246706366539, 0.010600782930850983, 0.006073342636227608, 0.005530263297259808, 0.0011791270226240158, 0.0019133761525154114, 0.011226385831832886, 0.00495394691824913, 0.0019624028354883194, 0.002831520512700081, 0.0016216766089200974, 0.0017394796013832092, 0.0029388070106506348, 0.000545392744243145, 0.000693359412252903, 0.000824302900582552, 0.005004599690437317, 0.0032233521342277527, 0.002235628664493561, 0.0017843395471572876, 0.0018694140017032623, 0.002126835286617279, 0.0011763684451580048, 0.002519596368074417, 0.012065574526786804, 0.012470759451389313, 0.014391370117664337]}\n",
       "    )\n",
       "    </script>"
      ],
      "text/plain": [
       "<circuitsvis.utils.render.RenderedHTML at 0x7fe3750314c0>"
      ]
     },
     "metadata": {},
     "output_type": "display_data"
    },
    {
     "name": "stdout",
     "output_type": "stream",
     "text": [
      "--------------------------------------------------------------------------------\n"
     ]
    },
    {
     "data": {
      "text/plain": [
       "[PredictedToken(token=' Daniel', prob=0.3671875, logit=18.625, token_id=15469, metadata=None),\n",
       " PredictedToken(token=' Tom', prob=0.32421875, logit=18.5, token_id=8529, metadata=None),\n",
       " PredictedToken(token=' ', prob=0.06396484375, logit=16.875, token_id=220, metadata=None),\n",
       " PredictedToken(token=' Hugh', prob=0.056396484375, logit=16.75, token_id=30206, metadata=None),\n",
       " PredictedToken(token=' The', prob=0.0250244140625, logit=15.9375, token_id=578, metadata=None)]"
      ]
     },
     "execution_count": 89,
     "metadata": {},
     "output_type": "execute_result"
    }
   ],
   "source": [
    "# NOVELTY: Find the odd one out\n",
    "\n",
    "# options = [\"Issac Newton\", \"Albert Einstein\", \"Marie Curie\", \"Hugh Jackman\", \"Charles Darwin\"]\n",
    "options = [\n",
    "    \"Brad Pitt\",\n",
    "    \"Tom Hanks\",\n",
    "    \"Leonardo DiCaprio\",\n",
    "    \"Tom Brady\",\n",
    "    \"Daniel Radcliffe\",\n",
    "    \"Hugh Jackman\",\n",
    "]\n",
    "\n",
    "# prompt_template = \"\"\"Which person from the following list is different from the others?\n",
    "# {}.\n",
    "# Ans:\"\"\"\n",
    "prompt_template = \"\"\"{}\n",
    "Which among these people are different from others?\n",
    "Answer:\"\"\"\n",
    "# prompt = prompt_template.format(\", \".join(options))\n",
    "prompt = prompt_template.format(\"\\n\".join([f\"{idx+1}. {name}\" for idx, name in enumerate(options)]))\n",
    "\n",
    "print(prompt)\n",
    "gen = generate_with_patch(\n",
    "    mt=mt,\n",
    "    inputs=prompt,\n",
    "    n_gen_per_prompt=1,\n",
    "    max_new_tokens=20,\n",
    "    remove_prefix=True,\n",
    ")[0]\n",
    "print(gen)\n",
    "tokenized = prepare_input(\n",
    "    tokenizer=mt, prompts=prompt, add_bos_token=\"qwen\" in mt.name.lower()\n",
    ")\n",
    "attn_matrices = get_attention_matrices(\n",
    "    input=tokenized,\n",
    "    mt=mt,\n",
    "    value_weighted=False,\n",
    "    # patches = []\n",
    ")\n",
    "visualize_average_attn_matrix(\n",
    "    mt=mt,\n",
    "    attn_matrices=attn_matrices,\n",
    "    prompt=prompt,\n",
    "    tokenized=tokenized,\n",
    "    layer_window=LAYERS,\n",
    ")\n",
    "interpret_logits(tokenizer=mt, logits=attn_matrices.logits)"
   ]
  },
  {
   "cell_type": "code",
   "execution_count": 90,
   "id": "95be86c9",
   "metadata": {},
   "outputs": [
    {
     "name": "stdout",
     "output_type": "stream",
     "text": [
      "Layer: 33, Head: 45\n"
     ]
    },
    {
     "data": {
      "text/html": [
       "<div id=\"circuits-vis-7f95c7e2-8a50\" style=\"margin: 15px 0;\"/>\n",
       "    <script crossorigin type=\"module\">\n",
       "    import { render, ColoredTokens } from \"https://unpkg.com/circuitsvis@1.43.3/dist/cdn/esm.js\";\n",
       "    render(\n",
       "      \"circuits-vis-7f95c7e2-8a50\",\n",
       "      ColoredTokens,\n",
       "      {\"tokens\": [\"1\", \".\", \" Brad\", \" Pitt\", \"\\n\", \"2\", \".\", \" Tom\", \" H\", \"anks\", \"\\n\", \"3\", \".\", \" Leonardo\", \" Di\", \"Cap\", \"rio\", \"\\n\", \"4\", \".\", \" Tom\", \" Brady\", \"\\n\", \"5\", \".\", \" Daniel\", \" Rad\", \"cliffe\", \"\\n\", \"6\", \".\", \" Hugh\", \" Jack\", \"man\", \"\\n\", \"Which\", \" among\", \" these\", \" people\", \" are\", \" different\", \" from\", \" others\", \"?\\n\", \"Answer\", \":\"], \"values\": [0.0146484375, 0.00092315673828125, 0.003082275390625, 0.0078125, 0.0013427734375, 0.0029449462890625, 0.00421142578125, 0.01458740234375, 0.001190185546875, 0.13671875, 0.01806640625, 0.000804901123046875, 0.007171630859375, 0.00958251953125, 0.00152587890625, 0.00897216796875, 0.00885009765625, 0.0068359375, 0.00130462646484375, 0.0029449462890625, 0.02001953125, 0.2294921875, 0.109375, 0.0026702880859375, 0.0054931640625, 0.01129150390625, 0.05322265625, 0.04931640625, 0.0196533203125, 0.00098419189453125, 0.00604248046875, 0.005889892578125, 0.01171875, 0.0037384033203125, 0.003387451171875, 0.00860595703125, 0.00093841552734375, 0.006561279296875, 0.006622314453125, 0.0025482177734375, 0.01385498046875, 0.000720977783203125, 0.00189971923828125, 0.0029449462890625, 0.00020599365234375, 0.0269775390625]}\n",
       "    )\n",
       "    </script>"
      ],
      "text/plain": [
       "<circuitsvis.utils.render.RenderedHTML at 0x7fe394c25c40>"
      ]
     },
     "metadata": {},
     "output_type": "display_data"
    },
    {
     "name": "stdout",
     "output_type": "stream",
     "text": [
      "Layer: 33, Head: 18\n"
     ]
    },
    {
     "data": {
      "text/html": [
       "<div id=\"circuits-vis-db5b3421-1a35\" style=\"margin: 15px 0;\"/>\n",
       "    <script crossorigin type=\"module\">\n",
       "    import { render, ColoredTokens } from \"https://unpkg.com/circuitsvis@1.43.3/dist/cdn/esm.js\";\n",
       "    render(\n",
       "      \"circuits-vis-db5b3421-1a35\",\n",
       "      ColoredTokens,\n",
       "      {\"tokens\": [\"1\", \".\", \" Brad\", \" Pitt\", \"\\n\", \"2\", \".\", \" Tom\", \" H\", \"anks\", \"\\n\", \"3\", \".\", \" Leonardo\", \" Di\", \"Cap\", \"rio\", \"\\n\", \"4\", \".\", \" Tom\", \" Brady\", \"\\n\", \"5\", \".\", \" Daniel\", \" Rad\", \"cliffe\", \"\\n\", \"6\", \".\", \" Hugh\", \" Jack\", \"man\", \"\\n\", \"Which\", \" among\", \" these\", \" people\", \" are\", \" different\", \" from\", \" others\", \"?\\n\", \"Answer\", \":\"], \"values\": [0.026123046875, 0.000896453857421875, 0.00823974609375, 0.03662109375, 0.01239013671875, 0.00445556640625, 0.01519775390625, 0.04150390625, 0.0021209716796875, 0.07568359375, 0.0267333984375, 0.000804901123046875, 0.005950927734375, 0.0034942626953125, 0.00439453125, 0.0059814453125, 0.0115966796875, 0.0068359375, 0.003082275390625, 0.00311279296875, 0.050537109375, 0.193359375, 0.1552734375, 0.0020904541015625, 0.01080322265625, 0.0203857421875, 0.0093994140625, 0.0302734375, 0.0252685546875, 0.0038909912109375, 0.0062255859375, 0.005584716796875, 0.005523681640625, 0.00897216796875, 0.0029449462890625, 0.00116729736328125, 0.00037384033203125, 0.00164794921875, 0.00677490234375, 0.000644683837890625, 0.0003681182861328125, 4.601478576660156e-05, 0.0001468658447265625, 0.0002727508544921875, 8.869171142578125e-05, 0.003753662109375]}\n",
       "    )\n",
       "    </script>"
      ],
      "text/plain": [
       "<circuitsvis.utils.render.RenderedHTML at 0x7fe3d643cbf0>"
      ]
     },
     "metadata": {},
     "output_type": "display_data"
    },
    {
     "name": "stdout",
     "output_type": "stream",
     "text": [
      "Layer: 34, Head: 1\n"
     ]
    },
    {
     "data": {
      "text/html": [
       "<div id=\"circuits-vis-a12f285d-8893\" style=\"margin: 15px 0;\"/>\n",
       "    <script crossorigin type=\"module\">\n",
       "    import { render, ColoredTokens } from \"https://unpkg.com/circuitsvis@1.43.3/dist/cdn/esm.js\";\n",
       "    render(\n",
       "      \"circuits-vis-a12f285d-8893\",\n",
       "      ColoredTokens,\n",
       "      {\"tokens\": [\"1\", \".\", \" Brad\", \" Pitt\", \"\\n\", \"2\", \".\", \" Tom\", \" H\", \"anks\", \"\\n\", \"3\", \".\", \" Leonardo\", \" Di\", \"Cap\", \"rio\", \"\\n\", \"4\", \".\", \" Tom\", \" Brady\", \"\\n\", \"5\", \".\", \" Daniel\", \" Rad\", \"cliffe\", \"\\n\", \"6\", \".\", \" Hugh\", \" Jack\", \"man\", \"\\n\", \"Which\", \" among\", \" these\", \" people\", \" are\", \" different\", \" from\", \" others\", \"?\\n\", \"Answer\", \":\"], \"values\": [0.055908203125, 0.003143310546875, 0.0067138671875, 0.003143310546875, 0.003143310546875, 0.0225830078125, 0.00579833984375, 0.00518798828125, 0.0004253387451171875, 0.009033203125, 0.01177978515625, 0.0023345947265625, 0.00335693359375, 0.0034637451171875, 0.0009307861328125, 0.0028228759765625, 0.0029144287109375, 0.004791259765625, 0.01031494140625, 0.0026092529296875, 0.00787353515625, 0.051025390625, 0.10498046875, 0.00616455078125, 0.0036773681640625, 0.0123291015625, 0.017822265625, 0.046142578125, 0.07275390625, 0.0225830078125, 0.00982666015625, 0.0026092529296875, 0.0005645751953125, 0.00060272216796875, 0.002532958984375, 0.01263427734375, 0.0036773681640625, 0.02392578125, 0.00982666015625, 0.00592041015625, 0.003143310546875, 0.0004253387451171875, 0.00148773193359375, 0.0028228759765625, 0.00103759765625, 0.0546875]}\n",
       "    )\n",
       "    </script>"
      ],
      "text/plain": [
       "<circuitsvis.utils.render.RenderedHTML at 0x7fe394c9ac90>"
      ]
     },
     "metadata": {},
     "output_type": "display_data"
    },
    {
     "name": "stdout",
     "output_type": "stream",
     "text": [
      "Layer: 34, Head: 6\n"
     ]
    },
    {
     "data": {
      "text/html": [
       "<div id=\"circuits-vis-788a08df-0aed\" style=\"margin: 15px 0;\"/>\n",
       "    <script crossorigin type=\"module\">\n",
       "    import { render, ColoredTokens } from \"https://unpkg.com/circuitsvis@1.43.3/dist/cdn/esm.js\";\n",
       "    render(\n",
       "      \"circuits-vis-788a08df-0aed\",\n",
       "      ColoredTokens,\n",
       "      {\"tokens\": [\"1\", \".\", \" Brad\", \" Pitt\", \"\\n\", \"2\", \".\", \" Tom\", \" H\", \"anks\", \"\\n\", \"3\", \".\", \" Leonardo\", \" Di\", \"Cap\", \"rio\", \"\\n\", \"4\", \".\", \" Tom\", \" Brady\", \"\\n\", \"5\", \".\", \" Daniel\", \" Rad\", \"cliffe\", \"\\n\", \"6\", \".\", \" Hugh\", \" Jack\", \"man\", \"\\n\", \"Which\", \" among\", \" these\", \" people\", \" are\", \" different\", \" from\", \" others\", \"?\\n\", \"Answer\", \":\"], \"values\": [0.060302734375, 0.003814697265625, 0.01220703125, 0.003753662109375, 0.0035858154296875, 0.0196533203125, 0.006866455078125, 0.007232666015625, 0.00087738037109375, 0.01806640625, 0.01202392578125, 0.00433349609375, 0.006103515625, 0.0031585693359375, 0.0016632080078125, 0.004058837890625, 0.00433349609375, 0.003692626953125, 0.00909423828125, 0.00628662109375, 0.0106201171875, 0.12060546875, 0.07177734375, 0.006195068359375, 0.004608154296875, 0.01312255859375, 0.0556640625, 0.042236328125, 0.0277099609375, 0.00927734375, 0.0145263671875, 0.00194549560546875, 0.0008392333984375, 0.00043487548828125, 0.00131988525390625, 0.0123291015625, 0.004669189453125, 0.0164794921875, 0.004974365234375, 0.009765625, 0.00689697265625, 0.00119781494140625, 0.00250244140625, 0.0031585693359375, 0.00127410888671875, 0.052490234375]}\n",
       "    )\n",
       "    </script>"
      ],
      "text/plain": [
       "<circuitsvis.utils.render.RenderedHTML at 0x7fe394c25c40>"
      ]
     },
     "metadata": {},
     "output_type": "display_data"
    },
    {
     "name": "stdout",
     "output_type": "stream",
     "text": [
      "Layer: 34, Head: 7\n"
     ]
    },
    {
     "data": {
      "text/html": [
       "<div id=\"circuits-vis-2775115c-bde8\" style=\"margin: 15px 0;\"/>\n",
       "    <script crossorigin type=\"module\">\n",
       "    import { render, ColoredTokens } from \"https://unpkg.com/circuitsvis@1.43.3/dist/cdn/esm.js\";\n",
       "    render(\n",
       "      \"circuits-vis-2775115c-bde8\",\n",
       "      ColoredTokens,\n",
       "      {\"tokens\": [\"1\", \".\", \" Brad\", \" Pitt\", \"\\n\", \"2\", \".\", \" Tom\", \" H\", \"anks\", \"\\n\", \"3\", \".\", \" Leonardo\", \" Di\", \"Cap\", \"rio\", \"\\n\", \"4\", \".\", \" Tom\", \" Brady\", \"\\n\", \"5\", \".\", \" Daniel\", \" Rad\", \"cliffe\", \"\\n\", \"6\", \".\", \" Hugh\", \" Jack\", \"man\", \"\\n\", \"Which\", \" among\", \" these\", \" people\", \" are\", \" different\", \" from\", \" others\", \"?\\n\", \"Answer\", \":\"], \"values\": [0.051025390625, 0.000392913818359375, 0.00182342529296875, 0.0024566650390625, 0.00113677978515625, 0.002197265625, 0.00238037109375, 0.002227783203125, 0.00067901611328125, 0.0030059814453125, 0.0030059814453125, 0.00133514404296875, 0.00115966796875, 0.00176239013671875, 0.0024566650390625, 0.0015106201171875, 0.0018463134765625, 0.0024566650390625, 0.0020294189453125, 0.0020904541015625, 0.0089111328125, 0.020263671875, 0.046875, 0.0031890869140625, 0.00408935546875, 0.00787353515625, 0.027587890625, 0.046142578125, 0.06201171875, 0.007720947265625, 0.00982666015625, 0.00482177734375, 0.004547119140625, 0.0059814453125, 0.0106201171875, 0.0390625, 0.00872802734375, 0.1328125, 0.0220947265625, 0.01806640625, 0.0244140625, 0.005523681640625, 0.014404296875, 0.0201416015625, 0.00238037109375, 0.134765625]}\n",
       "    )\n",
       "    </script>"
      ],
      "text/plain": [
       "<circuitsvis.utils.render.RenderedHTML at 0x7fe394c24bf0>"
      ]
     },
     "metadata": {},
     "output_type": "display_data"
    },
    {
     "name": "stdout",
     "output_type": "stream",
     "text": [
      "Layer: 35, Head: 19\n"
     ]
    },
    {
     "data": {
      "text/html": [
       "<div id=\"circuits-vis-b11e6916-fb96\" style=\"margin: 15px 0;\"/>\n",
       "    <script crossorigin type=\"module\">\n",
       "    import { render, ColoredTokens } from \"https://unpkg.com/circuitsvis@1.43.3/dist/cdn/esm.js\";\n",
       "    render(\n",
       "      \"circuits-vis-b11e6916-fb96\",\n",
       "      ColoredTokens,\n",
       "      {\"tokens\": [\"1\", \".\", \" Brad\", \" Pitt\", \"\\n\", \"2\", \".\", \" Tom\", \" H\", \"anks\", \"\\n\", \"3\", \".\", \" Leonardo\", \" Di\", \"Cap\", \"rio\", \"\\n\", \"4\", \".\", \" Tom\", \" Brady\", \"\\n\", \"5\", \".\", \" Daniel\", \" Rad\", \"cliffe\", \"\\n\", \"6\", \".\", \" Hugh\", \" Jack\", \"man\", \"\\n\", \"Which\", \" among\", \" these\", \" people\", \" are\", \" different\", \" from\", \" others\", \"?\\n\", \"Answer\", \":\"], \"values\": [0.0023651123046875, 4.8160552978515625e-05, 0.000888824462890625, 0.00689697265625, 0.001007080078125, 0.00131988525390625, 0.0042724609375, 0.003936767578125, 0.0002460479736328125, 0.10205078125, 0.010009765625, 0.00021266937255859375, 0.0026397705078125, 0.004119873046875, 0.000667572021484375, 0.00872802734375, 0.01226806640625, 0.00390625, 0.0002231597900390625, 0.000926971435546875, 0.006561279296875, 0.345703125, 0.26953125, 0.0002498626708984375, 0.0026397705078125, 0.001708984375, 0.0546875, 0.07568359375, 0.03369140625, 0.0008544921875, 0.006072998046875, 0.00099945068359375, 0.0013885498046875, 0.00177764892578125, 0.0006866455078125, 0.0029144287109375, 4.38690185546875e-05, 0.004547119140625, 0.000823974609375, 6.29425048828125e-05, 0.00011968612670898438, 7.62939453125e-06, 8.20159912109375e-05, 4.38690185546875e-05, 4.267692565917969e-05, 0.000507354736328125]}\n",
       "    )\n",
       "    </script>"
      ],
      "text/plain": [
       "<circuitsvis.utils.render.RenderedHTML at 0x7fe394c1fbf0>"
      ]
     },
     "metadata": {},
     "output_type": "display_data"
    },
    {
     "name": "stdout",
     "output_type": "stream",
     "text": [
      "Layer: 39, Head: 40\n"
     ]
    },
    {
     "data": {
      "text/html": [
       "<div id=\"circuits-vis-3141ae99-d9a5\" style=\"margin: 15px 0;\"/>\n",
       "    <script crossorigin type=\"module\">\n",
       "    import { render, ColoredTokens } from \"https://unpkg.com/circuitsvis@1.43.3/dist/cdn/esm.js\";\n",
       "    render(\n",
       "      \"circuits-vis-3141ae99-d9a5\",\n",
       "      ColoredTokens,\n",
       "      {\"tokens\": [\"1\", \".\", \" Brad\", \" Pitt\", \"\\n\", \"2\", \".\", \" Tom\", \" H\", \"anks\", \"\\n\", \"3\", \".\", \" Leonardo\", \" Di\", \"Cap\", \"rio\", \"\\n\", \"4\", \".\", \" Tom\", \" Brady\", \"\\n\", \"5\", \".\", \" Daniel\", \" Rad\", \"cliffe\", \"\\n\", \"6\", \".\", \" Hugh\", \" Jack\", \"man\", \"\\n\", \"Which\", \" among\", \" these\", \" people\", \" are\", \" different\", \" from\", \" others\", \"?\\n\", \"Answer\", \":\"], \"values\": [0.003631591796875, 0.000942230224609375, 0.0027923583984375, 0.0031890869140625, 0.00311279296875, 0.0011138916015625, 0.005126953125, 0.0079345703125, 0.000736236572265625, 0.0238037109375, 0.03662109375, 0.00041961669921875, 0.004547119140625, 0.00726318359375, 0.000667572021484375, 0.004180908203125, 0.018310546875, 0.0166015625, 0.0026397705078125, 0.00323486328125, 0.035888671875, 0.24609375, 0.341796875, 0.00244140625, 0.005279541015625, 0.00921630859375, 0.00958251953125, 0.043701171875, 0.06396484375, 0.00341796875, 0.006927490234375, 0.007110595703125, 0.00201416015625, 0.00982666015625, 0.0111083984375, 0.0026092529296875, 0.0013275146484375, 0.0018157958984375, 0.00077056884765625, 0.001861572265625, 0.00018024444580078125, 0.000331878662109375, 0.000545501708984375, 0.004180908203125, 0.00124359130859375, 0.0172119140625]}\n",
       "    )\n",
       "    </script>"
      ],
      "text/plain": [
       "<circuitsvis.utils.render.RenderedHTML at 0x7fe394c1e060>"
      ]
     },
     "metadata": {},
     "output_type": "display_data"
    },
    {
     "name": "stdout",
     "output_type": "stream",
     "text": [
      "Layer: 42, Head: 30\n"
     ]
    },
    {
     "data": {
      "text/html": [
       "<div id=\"circuits-vis-a1c0ee0c-df39\" style=\"margin: 15px 0;\"/>\n",
       "    <script crossorigin type=\"module\">\n",
       "    import { render, ColoredTokens } from \"https://unpkg.com/circuitsvis@1.43.3/dist/cdn/esm.js\";\n",
       "    render(\n",
       "      \"circuits-vis-a1c0ee0c-df39\",\n",
       "      ColoredTokens,\n",
       "      {\"tokens\": [\"1\", \".\", \" Brad\", \" Pitt\", \"\\n\", \"2\", \".\", \" Tom\", \" H\", \"anks\", \"\\n\", \"3\", \".\", \" Leonardo\", \" Di\", \"Cap\", \"rio\", \"\\n\", \"4\", \".\", \" Tom\", \" Brady\", \"\\n\", \"5\", \".\", \" Daniel\", \" Rad\", \"cliffe\", \"\\n\", \"6\", \".\", \" Hugh\", \" Jack\", \"man\", \"\\n\", \"Which\", \" among\", \" these\", \" people\", \" are\", \" different\", \" from\", \" others\", \"?\\n\", \"Answer\", \":\"], \"values\": [0.006866455078125, 0.0014190673828125, 0.0038604736328125, 0.0311279296875, 0.0030975341796875, 0.00182342529296875, 0.0032958984375, 0.00970458984375, 0.0064697265625, 0.0257568359375, 0.005706787109375, 0.000946044921875, 0.003509521484375, 0.01470947265625, 0.00616455078125, 0.0177001953125, 0.010986328125, 0.006256103515625, 0.0034027099609375, 0.004364013671875, 0.016357421875, 0.1513671875, 0.05029296875, 0.00494384765625, 0.0076904296875, 0.024169921875, 0.06884765625, 0.05712890625, 0.0155029296875, 0.008544921875, 0.0093994140625, 0.013916015625, 0.0157470703125, 0.01214599609375, 0.007781982421875, 0.00732421875, 0.002777099609375, 0.00579833984375, 0.0064697265625, 0.004302978515625, 0.0029144287109375, 0.00182342529296875, 0.0015869140625, 0.0045166015625, 0.000946044921875, 0.00616455078125]}\n",
       "    )\n",
       "    </script>"
      ],
      "text/plain": [
       "<circuitsvis.utils.render.RenderedHTML at 0x7fe394c1f020>"
      ]
     },
     "metadata": {},
     "output_type": "display_data"
    },
    {
     "name": "stdout",
     "output_type": "stream",
     "text": [
      "Layer: 47, Head: 18\n"
     ]
    },
    {
     "data": {
      "text/html": [
       "<div id=\"circuits-vis-5b3cd5fc-37c5\" style=\"margin: 15px 0;\"/>\n",
       "    <script crossorigin type=\"module\">\n",
       "    import { render, ColoredTokens } from \"https://unpkg.com/circuitsvis@1.43.3/dist/cdn/esm.js\";\n",
       "    render(\n",
       "      \"circuits-vis-5b3cd5fc-37c5\",\n",
       "      ColoredTokens,\n",
       "      {\"tokens\": [\"1\", \".\", \" Brad\", \" Pitt\", \"\\n\", \"2\", \".\", \" Tom\", \" H\", \"anks\", \"\\n\", \"3\", \".\", \" Leonardo\", \" Di\", \"Cap\", \"rio\", \"\\n\", \"4\", \".\", \" Tom\", \" Brady\", \"\\n\", \"5\", \".\", \" Daniel\", \" Rad\", \"cliffe\", \"\\n\", \"6\", \".\", \" Hugh\", \" Jack\", \"man\", \"\\n\", \"Which\", \" among\", \" these\", \" people\", \" are\", \" different\", \" from\", \" others\", \"?\\n\", \"Answer\", \":\"], \"values\": [0.00323486328125, 0.002838134765625, 0.006439208984375, 0.0057373046875, 0.0025634765625, 0.004913330078125, 0.008056640625, 0.038330078125, 0.00469970703125, 0.00194549560546875, 0.024658203125, 0.00604248046875, 0.007049560546875, 0.006744384765625, 0.00701904296875, 0.007354736328125, 0.0196533203125, 0.02978515625, 0.0118408203125, 0.006591796875, 0.08837890625, 0.0546875, 0.255859375, 0.00823974609375, 0.01312255859375, 0.09619140625, 0.04443359375, 0.0634765625, 0.036865234375, 0.01043701171875, 0.014404296875, 0.004425048828125, 0.000728607177734375, 0.001617431640625, 0.0024261474609375, 0.003997802734375, 0.000507354736328125, 0.00213623046875, 0.00213623046875, 0.00421142578125, 0.00054931640625, 0.00107574462890625, 0.0003185272216796875, 0.00262451171875, 0.0005340576171875, 0.005828857421875]}\n",
       "    )\n",
       "    </script>"
      ],
      "text/plain": [
       "<circuitsvis.utils.render.RenderedHTML at 0x7fe3d643fce0>"
      ]
     },
     "metadata": {},
     "output_type": "display_data"
    },
    {
     "name": "stdout",
     "output_type": "stream",
     "text": [
      "Layer: 52, Head: 58\n"
     ]
    },
    {
     "data": {
      "text/html": [
       "<div id=\"circuits-vis-81bbe075-c90c\" style=\"margin: 15px 0;\"/>\n",
       "    <script crossorigin type=\"module\">\n",
       "    import { render, ColoredTokens } from \"https://unpkg.com/circuitsvis@1.43.3/dist/cdn/esm.js\";\n",
       "    render(\n",
       "      \"circuits-vis-81bbe075-c90c\",\n",
       "      ColoredTokens,\n",
       "      {\"tokens\": [\"1\", \".\", \" Brad\", \" Pitt\", \"\\n\", \"2\", \".\", \" Tom\", \" H\", \"anks\", \"\\n\", \"3\", \".\", \" Leonardo\", \" Di\", \"Cap\", \"rio\", \"\\n\", \"4\", \".\", \" Tom\", \" Brady\", \"\\n\", \"5\", \".\", \" Daniel\", \" Rad\", \"cliffe\", \"\\n\", \"6\", \".\", \" Hugh\", \" Jack\", \"man\", \"\\n\", \"Which\", \" among\", \" these\", \" people\", \" are\", \" different\", \" from\", \" others\", \"?\\n\", \"Answer\", \":\"], \"values\": [0.0027618408203125, 0.000888824462890625, 0.002288818359375, 0.035400390625, 0.0003757476806640625, 0.00064849853515625, 0.000469207763671875, 0.01611328125, 0.0172119140625, 0.017822265625, 0.003631591796875, 0.0003528594970703125, 0.0007476806640625, 0.0037384033203125, 0.050537109375, 0.01068115234375, 0.0038299560546875, 0.0038909912109375, 0.00133514404296875, 0.0009765625, 0.03369140625, 0.306640625, 0.07763671875, 0.00153350830078125, 0.00160980224609375, 0.0220947265625, 0.224609375, 0.031982421875, 0.0093994140625, 0.00144195556640625, 0.001739501953125, 0.001373291015625, 0.00799560546875, 0.0010528564453125, 0.00057220458984375, 0.000217437744140625, 0.0003376007080078125, 0.0003757476806640625, 0.0009307861328125, 0.00127410888671875, 0.0003757476806640625, 0.00014019012451171875, 8.249282836914062e-05, 0.0003032684326171875, 6.437301635742188e-05, 0.00191497802734375]}\n",
       "    )\n",
       "    </script>"
      ],
      "text/plain": [
       "<circuitsvis.utils.render.RenderedHTML at 0x7fe394c5d1c0>"
      ]
     },
     "metadata": {},
     "output_type": "display_data"
    }
   ],
   "source": [
    "for layer_idx, head_idx in HEADS:\n",
    "    print(\n",
    "        f\"Layer: {layer_idx}, Head: {head_idx}\"\n",
    "    )\n",
    "\n",
    "    head_matrix = torch.Tensor(attn_matrices.attention_matrices[layer_idx, head_idx]).squeeze()\n",
    "    visualize_attn_matrix(\n",
    "        attn_matrix=head_matrix,\n",
    "        tokens=[mt.tokenizer.decode(t) for t in tokenized.input_ids[0]],\n",
    "        q_index=-1,\n",
    "        start_from=1\n",
    "    )"
   ]
  },
  {
   "cell_type": "code",
   "execution_count": 113,
   "id": "34473276",
   "metadata": {},
   "outputs": [
    {
     "name": "stdout",
     "output_type": "stream",
     "text": [
      "1. orange\n",
      "2. mat\n",
      "3. book\n",
      "4. rabbit\n",
      "5. bowl\n",
      "6. watch\n",
      "7. mirror\n",
      "Which of these words rhymes with the word \"rat\"?\n",
      "Answer:\n",
      " mat\n",
      "Which of these words refers to a type of fruit?\n",
      "Answer: orange\n",
      "Which of these\n",
      "layer=35\n"
     ]
    },
    {
     "data": {
      "text/html": [
       "<div id=\"circuits-vis-a3b483cc-7289\" style=\"margin: 15px 0;\"/>\n",
       "    <script crossorigin type=\"module\">\n",
       "    import { render, ColoredTokens } from \"https://unpkg.com/circuitsvis@1.43.3/dist/cdn/esm.js\";\n",
       "    render(\n",
       "      \"circuits-vis-a3b483cc-7289\",\n",
       "      ColoredTokens,\n",
       "      {\"tokens\": [\"1\", \".\", \" orange\", \"\\n\", \"2\", \".\", \" mat\", \"\\n\", \"3\", \".\", \" book\", \"\\n\", \"4\", \".\", \" rabbit\", \"\\n\", \"5\", \".\", \" bowl\", \"\\n\", \"6\", \".\", \" watch\", \"\\n\", \"7\", \".\", \" mirror\", \"\\n\", \"Which\", \" of\", \" these\", \" words\", \" rh\", \"ymes\", \" with\", \" the\", \" word\", \" \\\"\", \"rat\", \"\\\"\", \"?\\n\", \"Answer\", \":\"], \"values\": [0.020906448364257812, 0.0047531574964523315, 0.00694391131401062, 0.011456787586212158, 0.00941726565361023, 0.00590941309928894, 0.007859788835048676, 0.02136892080307007, 0.010414883494377136, 0.011135607957839966, 0.003803640604019165, 0.0048390403389930725, 0.0029481276869773865, 0.002886597067117691, 0.01368570327758789, 0.0066349804401397705, 0.003223717212677002, 0.004934079945087433, 0.0040340423583984375, 0.004626363515853882, 0.003843367099761963, 0.005024291574954987, 0.004588484764099121, 0.0031890571117401123, 0.00624847412109375, 0.0032908618450164795, 0.002940356731414795, 0.00154915452003479, 0.008592411875724792, 0.0037946030497550964, 0.009236939251422882, 0.011285752058029175, 0.009448468685150146, 0.025350749492645264, 0.012001998722553253, 0.00995643436908722, 0.007252812385559082, 0.010921299457550049, 0.05927109718322754, 0.013817772269248962, 0.018603764474391937, 0.012241687625646591, 0.03050386905670166]}\n",
       "    )\n",
       "    </script>"
      ],
      "text/plain": [
       "<circuitsvis.utils.render.RenderedHTML at 0x7fe3dd212510>"
      ]
     },
     "metadata": {},
     "output_type": "display_data"
    },
    {
     "name": "stdout",
     "output_type": "stream",
     "text": [
      "--------------------------------------------------------------------------------\n",
      "layer=47\n"
     ]
    },
    {
     "data": {
      "text/html": [
       "<div id=\"circuits-vis-09e3fbde-8cd6\" style=\"margin: 15px 0;\"/>\n",
       "    <script crossorigin type=\"module\">\n",
       "    import { render, ColoredTokens } from \"https://unpkg.com/circuitsvis@1.43.3/dist/cdn/esm.js\";\n",
       "    render(\n",
       "      \"circuits-vis-09e3fbde-8cd6\",\n",
       "      ColoredTokens,\n",
       "      {\"tokens\": [\"1\", \".\", \" orange\", \"\\n\", \"2\", \".\", \" mat\", \"\\n\", \"3\", \".\", \" book\", \"\\n\", \"4\", \".\", \" rabbit\", \"\\n\", \"5\", \".\", \" bowl\", \"\\n\", \"6\", \".\", \" watch\", \"\\n\", \"7\", \".\", \" mirror\", \"\\n\", \"Which\", \" of\", \" these\", \" words\", \" rh\", \"ymes\", \" with\", \" the\", \" word\", \" \\\"\", \"rat\", \"\\\"\", \"?\\n\", \"Answer\", \":\"], \"values\": [0.002486415207386017, 0.0013869749382138252, 0.0024795234203338623, 0.0023638587445020676, 0.0017787003889679909, 0.0013023652136325836, 0.004705207422375679, 0.012545083649456501, 0.0010036714375019073, 0.0018637869507074356, 0.005947399884462357, 0.0018345769494771957, 0.0006339462706819177, 0.0011064456775784492, 0.002874443307518959, 0.0012120213359594345, 0.0005137994885444641, 0.000758681446313858, 0.003650939092040062, 0.0016073975712060928, 0.0005881399847567081, 0.0005834260955452919, 0.0018384568393230438, 0.0005817282944917679, 0.0014840122312307358, 0.0006264401599764824, 0.002240043133497238, 0.0003173269797116518, 0.0013011451810598373, 0.0008938610553741455, 0.0008430294692516327, 0.0013223811984062195, 0.0015161186456680298, 0.0018812194466590881, 0.0007321350276470184, 0.00045401230454444885, 0.0007757265120744705, 0.0016626790165901184, 0.005699336528778076, 0.001005169004201889, 0.002740919589996338, 0.004466228187084198, 0.0055557116866111755]}\n",
       "    )\n",
       "    </script>"
      ],
      "text/plain": [
       "<circuitsvis.utils.render.RenderedHTML at 0x7fe394c27ec0>"
      ]
     },
     "metadata": {},
     "output_type": "display_data"
    },
    {
     "name": "stdout",
     "output_type": "stream",
     "text": [
      "--------------------------------------------------------------------------------\n",
      "layer=52\n"
     ]
    },
    {
     "data": {
      "text/html": [
       "<div id=\"circuits-vis-627e9cae-8762\" style=\"margin: 15px 0;\"/>\n",
       "    <script crossorigin type=\"module\">\n",
       "    import { render, ColoredTokens } from \"https://unpkg.com/circuitsvis@1.43.3/dist/cdn/esm.js\";\n",
       "    render(\n",
       "      \"circuits-vis-627e9cae-8762\",\n",
       "      ColoredTokens,\n",
       "      {\"tokens\": [\"1\", \".\", \" orange\", \"\\n\", \"2\", \".\", \" mat\", \"\\n\", \"3\", \".\", \" book\", \"\\n\", \"4\", \".\", \" rabbit\", \"\\n\", \"5\", \".\", \" bowl\", \"\\n\", \"6\", \".\", \" watch\", \"\\n\", \"7\", \".\", \" mirror\", \"\\n\", \"Which\", \" of\", \" these\", \" words\", \" rh\", \"ymes\", \" with\", \" the\", \" word\", \" \\\"\", \"rat\", \"\\\"\", \"?\\n\", \"Answer\", \":\"], \"values\": [0.0034848935902118683, 0.0032596345990896225, 0.004648463800549507, 0.005308468826115131, 0.0032292595133185387, 0.002913152799010277, 0.004206983372569084, 0.017174959182739258, 0.0016859467141330242, 0.0024330420419573784, 0.0054469034075737, 0.001874556764960289, 0.0013159483205527067, 0.0015012272633612156, 0.004252316430211067, 0.0018047811463475227, 0.001265739556401968, 0.0010332274250686169, 0.004066489636898041, 0.001165454275906086, 0.0014519691467285156, 0.0008711949922144413, 0.0018071085214614868, 0.0008110615890473127, 0.0019030887633562088, 0.0009326376020908356, 0.002282155677676201, 0.0007089914288371801, 0.004025619477033615, 0.0017526661977171898, 0.0015949811786413193, 0.0020685531198978424, 0.00249582901597023, 0.003074951469898224, 0.0017124153673648834, 0.001458529382944107, 0.002379870042204857, 0.005363427102565765, 0.01029650866985321, 0.004861652851104736, 0.009911231696605682, 0.009336575865745544, 0.011743392795324326]}\n",
       "    )\n",
       "    </script>"
      ],
      "text/plain": [
       "<circuitsvis.utils.render.RenderedHTML at 0x7fe3d643fce0>"
      ]
     },
     "metadata": {},
     "output_type": "display_data"
    },
    {
     "name": "stdout",
     "output_type": "stream",
     "text": [
      "--------------------------------------------------------------------------------\n"
     ]
    },
    {
     "data": {
      "text/plain": [
       "[PredictedToken(token=' mat', prob=0.6796875, logit=20.75, token_id=5634, metadata=None),\n",
       " PredictedToken(token=' The', prob=0.055908203125, logit=18.25, token_id=578, metadata=None),\n",
       " PredictedToken(token=' ', prob=0.04345703125, logit=18.0, token_id=220, metadata=None),\n",
       " PredictedToken(token=' **', prob=0.033935546875, logit=17.75, token_id=3146, metadata=None),\n",
       " PredictedToken(token=' None', prob=0.0299072265625, logit=17.625, token_id=2290, metadata=None)]"
      ]
     },
     "execution_count": 113,
     "metadata": {},
     "output_type": "execute_result"
    }
   ],
   "source": [
    "# rhymes with\n",
    "\n",
    "options = [\"orange\", \"mat\", \"book\", \"rabbit\", \"bowl\", \"watch\", \"mirror\"]\n",
    "word = \"rat\"\n",
    "# word = \"look\"\n",
    "# word = \"fetch\"\n",
    "# word = \"growl\"\n",
    "\n",
    "prompt_template = \"\"\"{}\n",
    "Which of these words rhymes with the word \"{}\"?\n",
    "Answer:\"\"\"\n",
    "# prompt = prompt_template.format(\n",
    "#     \", \".join(options),\n",
    "#     word\n",
    "# )\n",
    "prompt = prompt_template.format(\"\\n\".join([f\"{idx+1}. {name}\" for idx, name in enumerate(options)]), word)\n",
    "\n",
    "\n",
    "# prompt_template = \"\"\"Which of the following words rhymes with {}\n",
    "# {}\n",
    "# Answer:\"\"\"\n",
    "# prompt = prompt_template.format(word, \"\\n\".join([f\"{idx+1}. {name}\" for idx, name in enumerate(options)]))\n",
    "\n",
    "\n",
    "print(prompt)\n",
    "gen = generate_with_patch(\n",
    "    mt=mt,\n",
    "    inputs=prompt,\n",
    "    n_gen_per_prompt=1,\n",
    "    max_new_tokens=20,\n",
    "    remove_prefix=True,\n",
    ")[0]\n",
    "print(gen)\n",
    "tokenized = prepare_input(tokenizer=mt, prompts=prompt, add_bos_token=\"qwen\" in mt.name.lower())\n",
    "attn_matrices = get_attention_matrices(\n",
    "    input=tokenized,\n",
    "    mt=mt,\n",
    "    value_weighted=False,\n",
    "    # patches = []\n",
    ")\n",
    "visualize_average_attn_matrix(\n",
    "    mt=mt,\n",
    "    attn_matrices=attn_matrices,\n",
    "    prompt=prompt,\n",
    "    tokenized=tokenized,\n",
    "    layer_window=LAYERS,\n",
    ")\n",
    "interpret_logits(tokenizer=mt, logits=attn_matrices.logits)"
   ]
  },
  {
   "cell_type": "code",
   "execution_count": 114,
   "id": "050e2d91",
   "metadata": {},
   "outputs": [
    {
     "name": "stdout",
     "output_type": "stream",
     "text": [
      "Layer: 33, Head: 45\n"
     ]
    },
    {
     "data": {
      "text/html": [
       "<div id=\"circuits-vis-2cae6d5e-73bb\" style=\"margin: 15px 0;\"/>\n",
       "    <script crossorigin type=\"module\">\n",
       "    import { render, ColoredTokens } from \"https://unpkg.com/circuitsvis@1.43.3/dist/cdn/esm.js\";\n",
       "    render(\n",
       "      \"circuits-vis-2cae6d5e-73bb\",\n",
       "      ColoredTokens,\n",
       "      {\"tokens\": [\"1\", \".\", \" orange\", \"\\n\", \"2\", \".\", \" mat\", \"\\n\", \"3\", \".\", \" book\", \"\\n\", \"4\", \".\", \" rabbit\", \"\\n\", \"5\", \".\", \" bowl\", \"\\n\", \"6\", \".\", \" watch\", \"\\n\", \"7\", \".\", \" mirror\", \"\\n\", \"Which\", \" of\", \" these\", \" words\", \" rh\", \"ymes\", \" with\", \" the\", \" word\", \" \\\"\", \"rat\", \"\\\"\", \"?\\n\", \"Answer\", \":\"], \"values\": [0.060791015625, 0.0034942626953125, 0.01275634765625, 0.011962890625, 0.00811767578125, 0.00811767578125, 0.01025390625, 0.0203857421875, 0.006622314453125, 0.01092529296875, 0.01116943359375, 0.01055908203125, 0.00836181640625, 0.00159454345703125, 0.007049560546875, 0.0029754638671875, 0.00421142578125, 0.00933837890625, 0.00811767578125, 0.00738525390625, 0.005157470703125, 0.006927490234375, 0.00592041015625, 0.0015716552734375, 0.00116729736328125, 0.00823974609375, 0.01275634765625, 0.0028839111328125, 0.009765625, 0.002044677734375, 0.00640869140625, 0.006500244140625, 0.0035400390625, 0.00994873046875, 0.0028533935546875, 0.00848388671875, 0.00131988525390625, 0.0096435546875, 0.04052734375, 0.006011962890625, 0.00439453125, 0.0037078857421875, 0.0296630859375]}\n",
       "    )\n",
       "    </script>"
      ],
      "text/plain": [
       "<circuitsvis.utils.render.RenderedHTML at 0x7fe3942e2ff0>"
      ]
     },
     "metadata": {},
     "output_type": "display_data"
    },
    {
     "name": "stdout",
     "output_type": "stream",
     "text": [
      "Layer: 33, Head: 18\n"
     ]
    },
    {
     "data": {
      "text/html": [
       "<div id=\"circuits-vis-1d72ea09-187d\" style=\"margin: 15px 0;\"/>\n",
       "    <script crossorigin type=\"module\">\n",
       "    import { render, ColoredTokens } from \"https://unpkg.com/circuitsvis@1.43.3/dist/cdn/esm.js\";\n",
       "    render(\n",
       "      \"circuits-vis-1d72ea09-187d\",\n",
       "      ColoredTokens,\n",
       "      {\"tokens\": [\"1\", \".\", \" orange\", \"\\n\", \"2\", \".\", \" mat\", \"\\n\", \"3\", \".\", \" book\", \"\\n\", \"4\", \".\", \" rabbit\", \"\\n\", \"5\", \".\", \" bowl\", \"\\n\", \"6\", \".\", \" watch\", \"\\n\", \"7\", \".\", \" mirror\", \"\\n\", \"Which\", \" of\", \" these\", \" words\", \" rh\", \"ymes\", \" with\", \" the\", \" word\", \" \\\"\", \"rat\", \"\\\"\", \"?\\n\", \"Answer\", \":\"], \"values\": [0.01300048828125, 0.0086669921875, 0.0157470703125, 0.058837890625, 0.031494140625, 0.020263671875, 0.0257568359375, 0.1650390625, 0.0537109375, 0.1845703125, 0.00836181640625, 0.078125, 0.0169677734375, 0.0032501220703125, 0.0103759765625, 0.03369140625, 0.0108642578125, 0.0098876953125, 0.006134033203125, 0.04541015625, 0.01806640625, 0.01470947265625, 0.0038604736328125, 0.013916015625, 0.0012664794921875, 0.005401611328125, 0.0037689208984375, 0.00921630859375, 0.0033721923828125, 0.0003490447998046875, 0.0016326904296875, 0.002410888671875, 0.00089263916015625, 0.00074005126953125, 0.0004634857177734375, 0.0032501220703125, 0.00093841552734375, 0.006591796875, 0.0181884765625, 0.0030059814453125, 0.000396728515625, 7.677078247070312e-05, 0.0035552978515625]}\n",
       "    )\n",
       "    </script>"
      ],
      "text/plain": [
       "<circuitsvis.utils.render.RenderedHTML at 0x7fe3942e1f70>"
      ]
     },
     "metadata": {},
     "output_type": "display_data"
    },
    {
     "name": "stdout",
     "output_type": "stream",
     "text": [
      "Layer: 34, Head: 1\n"
     ]
    },
    {
     "data": {
      "text/html": [
       "<div id=\"circuits-vis-87fdc7bb-5630\" style=\"margin: 15px 0;\"/>\n",
       "    <script crossorigin type=\"module\">\n",
       "    import { render, ColoredTokens } from \"https://unpkg.com/circuitsvis@1.43.3/dist/cdn/esm.js\";\n",
       "    render(\n",
       "      \"circuits-vis-87fdc7bb-5630\",\n",
       "      ColoredTokens,\n",
       "      {\"tokens\": [\"1\", \".\", \" orange\", \"\\n\", \"2\", \".\", \" mat\", \"\\n\", \"3\", \".\", \" book\", \"\\n\", \"4\", \".\", \" rabbit\", \"\\n\", \"5\", \".\", \" bowl\", \"\\n\", \"6\", \".\", \" watch\", \"\\n\", \"7\", \".\", \" mirror\", \"\\n\", \"Which\", \" of\", \" these\", \" words\", \" rh\", \"ymes\", \" with\", \" the\", \" word\", \" \\\"\", \"rat\", \"\\\"\", \"?\\n\", \"Answer\", \":\"], \"values\": [0.0196533203125, 0.011474609375, 0.006134033203125, 0.016845703125, 0.053466796875, 0.002532958984375, 0.06298828125, 0.1044921875, 0.10791015625, 0.09814453125, 0.00032806396484375, 0.0093994140625, 0.01214599609375, 0.00110626220703125, 0.00119781494140625, 0.00286865234375, 0.0166015625, 0.01025390625, 0.000537872314453125, 0.004547119140625, 0.0208740234375, 0.0172119140625, 0.0001239776611328125, 0.000629425048828125, 0.006561279296875, 0.005584716796875, 0.0001239776611328125, 0.0009613037109375, 0.0247802734375, 0.0033111572265625, 0.017822265625, 0.0185546875, 0.00933837890625, 0.0035400390625, 0.00726318359375, 0.0361328125, 0.0003070831298828125, 0.01483154296875, 0.011474609375, 0.00148773193359375, 0.0037994384765625, 0.0002803802490234375, 0.051025390625]}\n",
       "    )\n",
       "    </script>"
      ],
      "text/plain": [
       "<circuitsvis.utils.render.RenderedHTML at 0x7fe3942e2b70>"
      ]
     },
     "metadata": {},
     "output_type": "display_data"
    },
    {
     "name": "stdout",
     "output_type": "stream",
     "text": [
      "Layer: 34, Head: 6\n"
     ]
    },
    {
     "data": {
      "text/html": [
       "<div id=\"circuits-vis-bd91ec2c-2741\" style=\"margin: 15px 0;\"/>\n",
       "    <script crossorigin type=\"module\">\n",
       "    import { render, ColoredTokens } from \"https://unpkg.com/circuitsvis@1.43.3/dist/cdn/esm.js\";\n",
       "    render(\n",
       "      \"circuits-vis-bd91ec2c-2741\",\n",
       "      ColoredTokens,\n",
       "      {\"tokens\": [\"1\", \".\", \" orange\", \"\\n\", \"2\", \".\", \" mat\", \"\\n\", \"3\", \".\", \" book\", \"\\n\", \"4\", \".\", \" rabbit\", \"\\n\", \"5\", \".\", \" bowl\", \"\\n\", \"6\", \".\", \" watch\", \"\\n\", \"7\", \".\", \" mirror\", \"\\n\", \"Which\", \" of\", \" these\", \" words\", \" rh\", \"ymes\", \" with\", \" the\", \" word\", \" \\\"\", \"rat\", \"\\\"\", \"?\\n\", \"Answer\", \":\"], \"values\": [0.035888671875, 0.0042724609375, 0.01226806640625, 0.010986328125, 0.0135498046875, 0.0034332275390625, 0.07421875, 0.10009765625, 0.031494140625, 0.06591796875, 0.003265380859375, 0.01416015625, 0.006195068359375, 0.001983642578125, 0.00250244140625, 0.0024261474609375, 0.00543212890625, 0.0128173828125, 0.0035400390625, 0.00830078125, 0.0093994140625, 0.0361328125, 0.0006866455078125, 0.00116729736328125, 0.004058837890625, 0.01080322265625, 0.000507354736328125, 0.00116729736328125, 0.009765625, 0.00151824951171875, 0.00860595703125, 0.01708984375, 0.004058837890625, 0.0021820068359375, 0.00213623046875, 0.033203125, 0.0001506805419921875, 0.01507568359375, 0.0142822265625, 0.0006256103515625, 0.000652313232421875, 0.000141143798828125, 0.02978515625]}\n",
       "    )\n",
       "    </script>"
      ],
      "text/plain": [
       "<circuitsvis.utils.render.RenderedHTML at 0x7fe3942e3ce0>"
      ]
     },
     "metadata": {},
     "output_type": "display_data"
    },
    {
     "name": "stdout",
     "output_type": "stream",
     "text": [
      "Layer: 34, Head: 7\n"
     ]
    },
    {
     "data": {
      "text/html": [
       "<div id=\"circuits-vis-4a8b2c5b-1015\" style=\"margin: 15px 0;\"/>\n",
       "    <script crossorigin type=\"module\">\n",
       "    import { render, ColoredTokens } from \"https://unpkg.com/circuitsvis@1.43.3/dist/cdn/esm.js\";\n",
       "    render(\n",
       "      \"circuits-vis-4a8b2c5b-1015\",\n",
       "      ColoredTokens,\n",
       "      {\"tokens\": [\"1\", \".\", \" orange\", \"\\n\", \"2\", \".\", \" mat\", \"\\n\", \"3\", \".\", \" book\", \"\\n\", \"4\", \".\", \" rabbit\", \"\\n\", \"5\", \".\", \" bowl\", \"\\n\", \"6\", \".\", \" watch\", \"\\n\", \"7\", \".\", \" mirror\", \"\\n\", \"Which\", \" of\", \" these\", \" words\", \" rh\", \"ymes\", \" with\", \" the\", \" word\", \" \\\"\", \"rat\", \"\\\"\", \"?\\n\", \"Answer\", \":\"], \"values\": [0.0400390625, 0.00092315673828125, 0.00286865234375, 0.0034942626953125, 0.0017547607421875, 0.00104522705078125, 0.004638671875, 0.016845703125, 0.00604248046875, 0.004638671875, 0.000804901123046875, 0.0048828125, 0.00093841552734375, 0.001953125, 0.001983642578125, 0.0037384033203125, 0.00193023681640625, 0.00136566162109375, 0.00136566162109375, 0.006317138671875, 0.0034027099609375, 0.006378173828125, 0.00096893310546875, 0.003631591796875, 0.003692626953125, 0.0034332275390625, 0.00159454345703125, 0.004669189453125, 0.0240478515625, 0.0026092529296875, 0.03173828125, 0.033447265625, 0.0079345703125, 0.010986328125, 0.01153564453125, 0.0771484375, 0.0062255859375, 0.072265625, 0.330078125, 0.0296630859375, 0.00994873046875, 0.0013427734375, 0.08154296875]}\n",
       "    )\n",
       "    </script>"
      ],
      "text/plain": [
       "<circuitsvis.utils.render.RenderedHTML at 0x7fe3942e2b10>"
      ]
     },
     "metadata": {},
     "output_type": "display_data"
    },
    {
     "name": "stdout",
     "output_type": "stream",
     "text": [
      "Layer: 35, Head: 19\n"
     ]
    },
    {
     "data": {
      "text/html": [
       "<div id=\"circuits-vis-f7f45451-9f8a\" style=\"margin: 15px 0;\"/>\n",
       "    <script crossorigin type=\"module\">\n",
       "    import { render, ColoredTokens } from \"https://unpkg.com/circuitsvis@1.43.3/dist/cdn/esm.js\";\n",
       "    render(\n",
       "      \"circuits-vis-f7f45451-9f8a\",\n",
       "      ColoredTokens,\n",
       "      {\"tokens\": [\"1\", \".\", \" orange\", \"\\n\", \"2\", \".\", \" mat\", \"\\n\", \"3\", \".\", \" book\", \"\\n\", \"4\", \".\", \" rabbit\", \"\\n\", \"5\", \".\", \" bowl\", \"\\n\", \"6\", \".\", \" watch\", \"\\n\", \"7\", \".\", \" mirror\", \"\\n\", \"Which\", \" of\", \" these\", \" words\", \" rh\", \"ymes\", \" with\", \" the\", \" word\", \" \\\"\", \"rat\", \"\\\"\", \"?\\n\", \"Answer\", \":\"], \"values\": [0.005279541015625, 0.0004119873046875, 0.01318359375, 0.006378173828125, 0.002197265625, 0.002716064453125, 0.109375, 0.26953125, 0.0089111328125, 0.049560546875, 0.006195068359375, 0.00860595703125, 0.001373291015625, 0.0018768310546875, 0.171875, 0.051513671875, 0.000972747802734375, 0.0235595703125, 0.0166015625, 0.03515625, 0.00154876708984375, 0.026123046875, 0.0142822265625, 0.0103759765625, 0.0009002685546875, 0.00799560546875, 0.002044677734375, 0.0013427734375, 0.000370025634765625, 2.47955322265625e-05, 6.723403930664062e-05, 0.0002422332763671875, 0.000278472900390625, 0.000629425048828125, 5.7697296142578125e-05, 0.0035247802734375, 5.245208740234375e-05, 0.0020599365234375, 0.060302734375, 0.00020122528076171875, 0.00011110305786132812, 4.4405460357666016e-06, 0.000629425048828125]}\n",
       "    )\n",
       "    </script>"
      ],
      "text/plain": [
       "<circuitsvis.utils.render.RenderedHTML at 0x7fe3942e0a10>"
      ]
     },
     "metadata": {},
     "output_type": "display_data"
    },
    {
     "name": "stdout",
     "output_type": "stream",
     "text": [
      "Layer: 39, Head: 40\n"
     ]
    },
    {
     "data": {
      "text/html": [
       "<div id=\"circuits-vis-31f168c4-8132\" style=\"margin: 15px 0;\"/>\n",
       "    <script crossorigin type=\"module\">\n",
       "    import { render, ColoredTokens } from \"https://unpkg.com/circuitsvis@1.43.3/dist/cdn/esm.js\";\n",
       "    render(\n",
       "      \"circuits-vis-31f168c4-8132\",\n",
       "      ColoredTokens,\n",
       "      {\"tokens\": [\"1\", \".\", \" orange\", \"\\n\", \"2\", \".\", \" mat\", \"\\n\", \"3\", \".\", \" book\", \"\\n\", \"4\", \".\", \" rabbit\", \"\\n\", \"5\", \".\", \" bowl\", \"\\n\", \"6\", \".\", \" watch\", \"\\n\", \"7\", \".\", \" mirror\", \"\\n\", \"Which\", \" of\", \" these\", \" words\", \" rh\", \"ymes\", \" with\", \" the\", \" word\", \" \\\"\", \"rat\", \"\\\"\", \"?\\n\", \"Answer\", \":\"], \"values\": [0.013916015625, 0.01531982421875, 0.01470947265625, 0.0634765625, 0.017578125, 0.012939453125, 0.01708984375, 0.232421875, 0.0267333984375, 0.048095703125, 0.0166015625, 0.06005859375, 0.0103759765625, 0.004669189453125, 0.042236328125, 0.0517578125, 0.0089111328125, 0.0081787109375, 0.023193359375, 0.0301513671875, 0.007171630859375, 0.005462646484375, 0.0062255859375, 0.00787353515625, 0.00250244140625, 0.00738525390625, 0.004150390625, 0.0050048828125, 0.004180908203125, 0.00038909912109375, 0.0031585693359375, 0.005401611328125, 0.00174713134765625, 0.00262451171875, 0.0035552978515625, 0.007568359375, 0.001983642578125, 0.007293701171875, 0.033203125, 0.00421142578125, 0.0172119140625, 0.0016632080078125, 0.03076171875]}\n",
       "    )\n",
       "    </script>"
      ],
      "text/plain": [
       "<circuitsvis.utils.render.RenderedHTML at 0x7fe3942e2f00>"
      ]
     },
     "metadata": {},
     "output_type": "display_data"
    },
    {
     "name": "stdout",
     "output_type": "stream",
     "text": [
      "Layer: 42, Head: 30\n"
     ]
    },
    {
     "data": {
      "text/html": [
       "<div id=\"circuits-vis-1f489140-d396\" style=\"margin: 15px 0;\"/>\n",
       "    <script crossorigin type=\"module\">\n",
       "    import { render, ColoredTokens } from \"https://unpkg.com/circuitsvis@1.43.3/dist/cdn/esm.js\";\n",
       "    render(\n",
       "      \"circuits-vis-1f489140-d396\",\n",
       "      ColoredTokens,\n",
       "      {\"tokens\": [\"1\", \".\", \" orange\", \"\\n\", \"2\", \".\", \" mat\", \"\\n\", \"3\", \".\", \" book\", \"\\n\", \"4\", \".\", \" rabbit\", \"\\n\", \"5\", \".\", \" bowl\", \"\\n\", \"6\", \".\", \" watch\", \"\\n\", \"7\", \".\", \" mirror\", \"\\n\", \"Which\", \" of\", \" these\", \" words\", \" rh\", \"ymes\", \" with\", \" the\", \" word\", \" \\\"\", \"rat\", \"\\\"\", \"?\\n\", \"Answer\", \":\"], \"values\": [0.003082275390625, 0.00099945068359375, 0.03857421875, 0.006622314453125, 0.00299072265625, 0.01153564453125, 0.035400390625, 0.09228515625, 0.0020294189453125, 0.014404296875, 0.024658203125, 0.00360107421875, 0.00152587890625, 0.01312255859375, 0.052490234375, 0.003082275390625, 0.00136566162109375, 0.0050048828125, 0.03271484375, 0.0035552978515625, 0.0021820068359375, 0.005340576171875, 0.017578125, 0.00162506103515625, 0.00128936767578125, 0.004364013671875, 0.016845703125, 0.0006866455078125, 0.00384521484375, 0.000457763671875, 0.009521484375, 0.016845703125, 0.00360107421875, 0.00994873046875, 0.005401611328125, 0.00469970703125, 0.0025634765625, 0.017578125, 0.1435546875, 0.01556396484375, 0.0054931640625, 0.000431060791015625, 0.0133056640625]}\n",
       "    )\n",
       "    </script>"
      ],
      "text/plain": [
       "<circuitsvis.utils.render.RenderedHTML at 0x7fe394c241d0>"
      ]
     },
     "metadata": {},
     "output_type": "display_data"
    },
    {
     "name": "stdout",
     "output_type": "stream",
     "text": [
      "Layer: 47, Head: 18\n"
     ]
    },
    {
     "data": {
      "text/html": [
       "<div id=\"circuits-vis-40758db4-7d16\" style=\"margin: 15px 0;\"/>\n",
       "    <script crossorigin type=\"module\">\n",
       "    import { render, ColoredTokens } from \"https://unpkg.com/circuitsvis@1.43.3/dist/cdn/esm.js\";\n",
       "    render(\n",
       "      \"circuits-vis-40758db4-7d16\",\n",
       "      ColoredTokens,\n",
       "      {\"tokens\": [\"1\", \".\", \" orange\", \"\\n\", \"2\", \".\", \" mat\", \"\\n\", \"3\", \".\", \" book\", \"\\n\", \"4\", \".\", \" rabbit\", \"\\n\", \"5\", \".\", \" bowl\", \"\\n\", \"6\", \".\", \" watch\", \"\\n\", \"7\", \".\", \" mirror\", \"\\n\", \"Which\", \" of\", \" these\", \" words\", \" rh\", \"ymes\", \" with\", \" the\", \" word\", \" \\\"\", \"rat\", \"\\\"\", \"?\\n\", \"Answer\", \":\"], \"values\": [0.0062255859375, 0.0106201171875, 0.03271484375, 0.0247802734375, 0.02880859375, 0.02490234375, 0.12255859375, 0.314453125, 0.016845703125, 0.0341796875, 0.06982421875, 0.0240478515625, 0.00909423828125, 0.021484375, 0.01953125, 0.0179443359375, 0.006011962890625, 0.00555419921875, 0.03662109375, 0.0174560546875, 0.0101318359375, 0.005645751953125, 0.004974365234375, 0.003021240234375, 0.005218505859375, 0.0035552978515625, 0.01263427734375, 0.0035247802734375, 0.00165557861328125, 0.0003299713134765625, 0.0031890869140625, 0.00811767578125, 0.00028228759765625, 0.000690460205078125, 0.001251220703125, 0.001373291015625, 0.000598907470703125, 0.0031585693359375, 0.005462646484375, 0.00244140625, 0.0023345947265625, 0.0004444122314453125, 0.0052490234375]}\n",
       "    )\n",
       "    </script>"
      ],
      "text/plain": [
       "<circuitsvis.utils.render.RenderedHTML at 0x7fe394c8fb90>"
      ]
     },
     "metadata": {},
     "output_type": "display_data"
    },
    {
     "name": "stdout",
     "output_type": "stream",
     "text": [
      "Layer: 52, Head: 58\n"
     ]
    },
    {
     "data": {
      "text/html": [
       "<div id=\"circuits-vis-2dda5612-55c5\" style=\"margin: 15px 0;\"/>\n",
       "    <script crossorigin type=\"module\">\n",
       "    import { render, ColoredTokens } from \"https://unpkg.com/circuitsvis@1.43.3/dist/cdn/esm.js\";\n",
       "    render(\n",
       "      \"circuits-vis-2dda5612-55c5\",\n",
       "      ColoredTokens,\n",
       "      {\"tokens\": [\"1\", \".\", \" orange\", \"\\n\", \"2\", \".\", \" mat\", \"\\n\", \"3\", \".\", \" book\", \"\\n\", \"4\", \".\", \" rabbit\", \"\\n\", \"5\", \".\", \" bowl\", \"\\n\", \"6\", \".\", \" watch\", \"\\n\", \"7\", \".\", \" mirror\", \"\\n\", \"Which\", \" of\", \" these\", \" words\", \" rh\", \"ymes\", \" with\", \" the\", \" word\", \" \\\"\", \"rat\", \"\\\"\", \"?\\n\", \"Answer\", \":\"], \"values\": [0.006866455078125, 0.01806640625, 0.01544189453125, 0.0478515625, 0.0267333984375, 0.01385498046875, 0.0177001953125, 0.12060546875, 0.0166015625, 0.0245361328125, 0.00543212890625, 0.0145263671875, 0.004364013671875, 0.0054931640625, 0.005950927734375, 0.01507568359375, 0.003448486328125, 0.0037841796875, 0.004302978515625, 0.00494384765625, 0.005340576171875, 0.002288818359375, 0.0004177093505859375, 0.000942230224609375, 0.003143310546875, 0.001708984375, 0.00070953369140625, 0.000804901123046875, 0.0020599365234375, 0.0003261566162109375, 0.000858306884765625, 0.000804901123046875, 0.001251220703125, 0.00103759765625, 0.00162506103515625, 0.0003566741943359375, 0.0001354217529296875, 0.00083160400390625, 0.0004444122314453125, 0.000518798828125, 0.003387451171875, 0.00018024444580078125, 0.00225830078125]}\n",
       "    )\n",
       "    </script>"
      ],
      "text/plain": [
       "<circuitsvis.utils.render.RenderedHTML at 0x7fe3942e2360>"
      ]
     },
     "metadata": {},
     "output_type": "display_data"
    }
   ],
   "source": [
    "for layer_idx, head_idx in HEADS:\n",
    "    print(\n",
    "        f\"Layer: {layer_idx}, Head: {head_idx}\"\n",
    "    )\n",
    "\n",
    "    head_matrix = torch.Tensor(attn_matrices.attention_matrices[layer_idx, head_idx]).squeeze()\n",
    "    visualize_attn_matrix(\n",
    "        attn_matrix=head_matrix,\n",
    "        tokens=[mt.tokenizer.decode(t) for t in tokenized.input_ids[0]],\n",
    "        q_index=-1,\n",
    "        start_from=1\n",
    "    )"
   ]
  },
  {
   "cell_type": "code",
   "execution_count": 94,
   "id": "bf4d279e",
   "metadata": {},
   "outputs": [
    {
     "name": "stdout",
     "output_type": "stream",
     "text": [
      "\" Bob, because John is taller than Bob.\n",
      "John is taller than Bob, but shorter than Steve. Who is the tallest?\n",
      "Ans: Steve, because John is shorter than Steve.\n",
      "John is taller than Bob, but shorter than Steve. Who is in\"\n",
      "layer=35\n"
     ]
    },
    {
     "data": {
      "text/html": [
       "<div id=\"circuits-vis-1297733b-2484\" style=\"margin: 15px 0;\"/>\n",
       "    <script crossorigin type=\"module\">\n",
       "    import { render, ColoredTokens } from \"https://unpkg.com/circuitsvis@1.43.3/dist/cdn/esm.js\";\n",
       "    render(\n",
       "      \"circuits-vis-1297733b-2484\",\n",
       "      ColoredTokens,\n",
       "      {\"tokens\": [\"John\", \" is\", \" taller\", \" than\", \" Bob\", \",\", \" but\", \" shorter\", \" than\", \" Steve\", \".\", \" Who\", \" is\", \" the\", \" shortest\", \"?\\n\", \"Ans\", \":\"], \"values\": [0.022370338439941406, 0.009508192539215088, 0.009268641471862793, 0.010301098227500916, 0.03937739133834839, 0.014758259057998657, 0.010413475334644318, 0.01174190640449524, 0.0048246830701828, 0.009912461042404175, 0.015366077423095703, 0.01995265483856201, 0.011283937841653824, 0.008144833147525787, 0.058317720890045166, 0.06296396255493164, 0.012561572715640068, 0.025241553783416748]}\n",
       "    )\n",
       "    </script>"
      ],
      "text/plain": [
       "<circuitsvis.utils.render.RenderedHTML at 0x7fe394d09550>"
      ]
     },
     "metadata": {},
     "output_type": "display_data"
    },
    {
     "name": "stdout",
     "output_type": "stream",
     "text": [
      "--------------------------------------------------------------------------------\n",
      "layer=47\n"
     ]
    },
    {
     "data": {
      "text/html": [
       "<div id=\"circuits-vis-f7bbe04c-dc78\" style=\"margin: 15px 0;\"/>\n",
       "    <script crossorigin type=\"module\">\n",
       "    import { render, ColoredTokens } from \"https://unpkg.com/circuitsvis@1.43.3/dist/cdn/esm.js\";\n",
       "    render(\n",
       "      \"circuits-vis-f7bbe04c-dc78\",\n",
       "      ColoredTokens,\n",
       "      {\"tokens\": [\"John\", \" is\", \" taller\", \" than\", \" Bob\", \",\", \" but\", \" shorter\", \" than\", \" Steve\", \".\", \" Who\", \" is\", \" the\", \" shortest\", \"?\\n\", \"Ans\", \":\"], \"values\": [0.004579260945320129, 0.004027221351861954, 0.0013874173164367676, 0.00251731276512146, 0.01183706521987915, 0.0029541179537773132, 0.002440985292196274, 0.0009358003735542297, 0.0016452353447675705, 0.0023322030901908875, 0.004624109715223312, 0.0022475775331258774, 0.001325691118836403, 0.0010867062956094742, 0.002270881086587906, 0.008724331855773926, 0.009424418210983276, 0.004635065793991089]}\n",
       "    )\n",
       "    </script>"
      ],
      "text/plain": [
       "<circuitsvis.utils.render.RenderedHTML at 0x7fe394c251f0>"
      ]
     },
     "metadata": {},
     "output_type": "display_data"
    },
    {
     "name": "stdout",
     "output_type": "stream",
     "text": [
      "--------------------------------------------------------------------------------\n",
      "layer=52\n"
     ]
    },
    {
     "data": {
      "text/html": [
       "<div id=\"circuits-vis-889cad4f-a341\" style=\"margin: 15px 0;\"/>\n",
       "    <script crossorigin type=\"module\">\n",
       "    import { render, ColoredTokens } from \"https://unpkg.com/circuitsvis@1.43.3/dist/cdn/esm.js\";\n",
       "    render(\n",
       "      \"circuits-vis-889cad4f-a341\",\n",
       "      ColoredTokens,\n",
       "      {\"tokens\": [\"John\", \" is\", \" taller\", \" than\", \" Bob\", \",\", \" but\", \" shorter\", \" than\", \" Steve\", \".\", \" Who\", \" is\", \" the\", \" shortest\", \"?\\n\", \"Ans\", \":\"], \"values\": [0.008303582668304443, 0.006747990846633911, 0.002897687256336212, 0.0032209306955337524, 0.031040996313095093, 0.0032992996275424957, 0.00316736102104187, 0.0019433796405792236, 0.0018843449652194977, 0.003259032964706421, 0.00577092170715332, 0.005045697093009949, 0.002592317759990692, 0.001963965594768524, 0.003705199807882309, 0.025416314601898193, 0.016210705041885376, 0.01511719822883606]}\n",
       "    )\n",
       "    </script>"
      ],
      "text/plain": [
       "<circuitsvis.utils.render.RenderedHTML at 0x7fe394c1ef00>"
      ]
     },
     "metadata": {},
     "output_type": "display_data"
    },
    {
     "name": "stdout",
     "output_type": "stream",
     "text": [
      "--------------------------------------------------------------------------------\n"
     ]
    },
    {
     "data": {
      "text/plain": [
       "[PredictedToken(token=' Bob', prob=0.8203125, logit=20.25, token_id=14596, metadata=None),\n",
       " PredictedToken(token=' John', prob=0.03173828125, logit=17.0, token_id=3842, metadata=None),\n",
       " PredictedToken(token=' We', prob=0.0218505859375, logit=16.625, token_id=1226, metadata=None),\n",
       " PredictedToken(token=' The', prob=0.019287109375, logit=16.5, token_id=578, metadata=None),\n",
       " PredictedToken(token=' Since', prob=0.0150146484375, logit=16.25, token_id=8876, metadata=None)]"
      ]
     },
     "execution_count": 94,
     "metadata": {},
     "output_type": "execute_result"
    }
   ],
   "source": [
    "#! Logical deduction\n",
    "\n",
    "# prompt = \"\"\"John is taller than Mary. Mary is taller than Steve. Who is the shortest?\n",
    "# Ans:\"\"\"\n",
    "prompt = \"\"\"John is taller than Bob, but shorter than Steve. Who is the shortest?\n",
    "Ans:\"\"\"\n",
    "# prompt = \"\"\"All the cookies are either chocolate or vanilla. None of the chocolate cookies have nuts.\n",
    "# This cookie has nuts. What flavor is it?\n",
    "# Ans:\"\"\"\n",
    "# prompt = \"\"\"The red box is to the left of the blue box, and to the right of the green box.\n",
    "# Which is the rightmost box?\n",
    "# Ans:\"\"\"\n",
    "\n",
    "gen = generate_with_patch(\n",
    "    mt=mt,\n",
    "    inputs=prompt,\n",
    "    n_gen_per_prompt=1,\n",
    "    max_new_tokens=50,\n",
    "    remove_prefix=True,\n",
    ")[0]\n",
    "print(f'\"{gen}\"')\n",
    "\n",
    "tokenized = prepare_input(\n",
    "    tokenizer=mt, prompts=prompt, add_bos_token=\"qwen\" in mt.name.lower()\n",
    ")\n",
    "attn_matrices = get_attention_matrices(\n",
    "    input=tokenized,\n",
    "    mt=mt,\n",
    "    value_weighted=False,\n",
    "    # patches = []\n",
    ")\n",
    "visualize_average_attn_matrix(\n",
    "    mt=mt,\n",
    "    attn_matrices=attn_matrices,\n",
    "    prompt=prompt,\n",
    "    tokenized=tokenized,\n",
    "    layer_window=LAYERS,\n",
    ")\n",
    "interpret_logits(tokenizer=mt, logits=attn_matrices.logits)"
   ]
  },
  {
   "cell_type": "code",
   "execution_count": 95,
   "id": "f90edc47",
   "metadata": {},
   "outputs": [
    {
     "name": "stdout",
     "output_type": "stream",
     "text": [
      "Layer: 33, Head: 45\n"
     ]
    },
    {
     "data": {
      "text/html": [
       "<div id=\"circuits-vis-39f995f2-f324\" style=\"margin: 15px 0;\"/>\n",
       "    <script crossorigin type=\"module\">\n",
       "    import { render, ColoredTokens } from \"https://unpkg.com/circuitsvis@1.43.3/dist/cdn/esm.js\";\n",
       "    render(\n",
       "      \"circuits-vis-39f995f2-f324\",\n",
       "      ColoredTokens,\n",
       "      {\"tokens\": [\"John\", \" is\", \" taller\", \" than\", \" Bob\", \",\", \" but\", \" shorter\", \" than\", \" Steve\", \".\", \" Who\", \" is\", \" the\", \" shortest\", \"?\\n\", \"Ans\", \":\"], \"values\": [0.00970458984375, 0.0081787109375, 0.0130615234375, 0.0252685546875, 0.035888671875, 0.0238037109375, 0.0198974609375, 0.048095703125, 0.01287841796875, 0.00921630859375, 0.01287841796875, 0.02587890625, 0.0322265625, 0.0076904296875, 0.10888671875, 0.03759765625, 0.005035400390625, 0.0250244140625]}\n",
       "    )\n",
       "    </script>"
      ],
      "text/plain": [
       "<circuitsvis.utils.render.RenderedHTML at 0x7fe375030440>"
      ]
     },
     "metadata": {},
     "output_type": "display_data"
    },
    {
     "name": "stdout",
     "output_type": "stream",
     "text": [
      "Layer: 33, Head: 18\n"
     ]
    },
    {
     "data": {
      "text/html": [
       "<div id=\"circuits-vis-f398608d-53a7\" style=\"margin: 15px 0;\"/>\n",
       "    <script crossorigin type=\"module\">\n",
       "    import { render, ColoredTokens } from \"https://unpkg.com/circuitsvis@1.43.3/dist/cdn/esm.js\";\n",
       "    render(\n",
       "      \"circuits-vis-f398608d-53a7\",\n",
       "      ColoredTokens,\n",
       "      {\"tokens\": [\"John\", \" is\", \" taller\", \" than\", \" Bob\", \",\", \" but\", \" shorter\", \" than\", \" Steve\", \".\", \" Who\", \" is\", \" the\", \" shortest\", \"?\\n\", \"Ans\", \":\"], \"values\": [0.0322265625, 0.0947265625, 0.0267333984375, 0.01904296875, 0.35546875, 0.0260009765625, 0.0240478515625, 0.0130615234375, 0.01153564453125, 0.0242919921875, 0.00537109375, 0.0162353515625, 0.0201416015625, 0.011474609375, 0.0301513671875, 0.0220947265625, 0.00106048583984375, 0.009765625]}\n",
       "    )\n",
       "    </script>"
      ],
      "text/plain": [
       "<circuitsvis.utils.render.RenderedHTML at 0x7fe394d1e750>"
      ]
     },
     "metadata": {},
     "output_type": "display_data"
    },
    {
     "name": "stdout",
     "output_type": "stream",
     "text": [
      "Layer: 34, Head: 1\n"
     ]
    },
    {
     "data": {
      "text/html": [
       "<div id=\"circuits-vis-03989e4f-c18a\" style=\"margin: 15px 0;\"/>\n",
       "    <script crossorigin type=\"module\">\n",
       "    import { render, ColoredTokens } from \"https://unpkg.com/circuitsvis@1.43.3/dist/cdn/esm.js\";\n",
       "    render(\n",
       "      \"circuits-vis-03989e4f-c18a\",\n",
       "      ColoredTokens,\n",
       "      {\"tokens\": [\"John\", \" is\", \" taller\", \" than\", \" Bob\", \",\", \" but\", \" shorter\", \" than\", \" Steve\", \".\", \" Who\", \" is\", \" the\", \" shortest\", \"?\\n\", \"Ans\", \":\"], \"values\": [0.0157470703125, 0.041259765625, 0.005126953125, 0.044921875, 0.1875, 0.0625, 0.014892578125, 0.004302978515625, 0.00188446044921875, 0.00148773193359375, 0.015380859375, 0.025146484375, 0.0172119140625, 0.00518798828125, 0.0277099609375, 0.047607421875, 0.0015106201171875, 0.053955078125]}\n",
       "    )\n",
       "    </script>"
      ],
      "text/plain": [
       "<circuitsvis.utils.render.RenderedHTML at 0x7fe394d1c0e0>"
      ]
     },
     "metadata": {},
     "output_type": "display_data"
    },
    {
     "name": "stdout",
     "output_type": "stream",
     "text": [
      "Layer: 34, Head: 6\n"
     ]
    },
    {
     "data": {
      "text/html": [
       "<div id=\"circuits-vis-81460174-e917\" style=\"margin: 15px 0;\"/>\n",
       "    <script crossorigin type=\"module\">\n",
       "    import { render, ColoredTokens } from \"https://unpkg.com/circuitsvis@1.43.3/dist/cdn/esm.js\";\n",
       "    render(\n",
       "      \"circuits-vis-81460174-e917\",\n",
       "      ColoredTokens,\n",
       "      {\"tokens\": [\"John\", \" is\", \" taller\", \" than\", \" Bob\", \",\", \" but\", \" shorter\", \" than\", \" Steve\", \".\", \" Who\", \" is\", \" the\", \" shortest\", \"?\\n\", \"Ans\", \":\"], \"values\": [0.0238037109375, 0.05908203125, 0.00787353515625, 0.0673828125, 0.177734375, 0.068359375, 0.03369140625, 0.00848388671875, 0.005279541015625, 0.00213623046875, 0.0186767578125, 0.02099609375, 0.0172119140625, 0.00543212890625, 0.0223388671875, 0.01336669921875, 0.00133514404296875, 0.0283203125]}\n",
       "    )\n",
       "    </script>"
      ],
      "text/plain": [
       "<circuitsvis.utils.render.RenderedHTML at 0x7fe375031a60>"
      ]
     },
     "metadata": {},
     "output_type": "display_data"
    },
    {
     "name": "stdout",
     "output_type": "stream",
     "text": [
      "Layer: 34, Head: 7\n"
     ]
    },
    {
     "data": {
      "text/html": [
       "<div id=\"circuits-vis-475c3f62-22c3\" style=\"margin: 15px 0;\"/>\n",
       "    <script crossorigin type=\"module\">\n",
       "    import { render, ColoredTokens } from \"https://unpkg.com/circuitsvis@1.43.3/dist/cdn/esm.js\";\n",
       "    render(\n",
       "      \"circuits-vis-475c3f62-22c3\",\n",
       "      ColoredTokens,\n",
       "      {\"tokens\": [\"John\", \" is\", \" taller\", \" than\", \" Bob\", \",\", \" but\", \" shorter\", \" than\", \" Steve\", \".\", \" Who\", \" is\", \" the\", \" shortest\", \"?\\n\", \"Ans\", \":\"], \"values\": [0.029541015625, 0.01348876953125, 0.004638671875, 0.01226806640625, 0.06298828125, 0.03173828125, 0.0098876953125, 0.0115966796875, 0.00640869140625, 0.00848388671875, 0.0361328125, 0.06494140625, 0.04296875, 0.01068115234375, 0.140625, 0.2255859375, 0.003570556640625, 0.07861328125]}\n",
       "    )\n",
       "    </script>"
      ],
      "text/plain": [
       "<circuitsvis.utils.render.RenderedHTML at 0x7fe394d1deb0>"
      ]
     },
     "metadata": {},
     "output_type": "display_data"
    },
    {
     "name": "stdout",
     "output_type": "stream",
     "text": [
      "Layer: 35, Head: 19\n"
     ]
    },
    {
     "data": {
      "text/html": [
       "<div id=\"circuits-vis-c51f0b03-7920\" style=\"margin: 15px 0;\"/>\n",
       "    <script crossorigin type=\"module\">\n",
       "    import { render, ColoredTokens } from \"https://unpkg.com/circuitsvis@1.43.3/dist/cdn/esm.js\";\n",
       "    render(\n",
       "      \"circuits-vis-c51f0b03-7920\",\n",
       "      ColoredTokens,\n",
       "      {\"tokens\": [\"John\", \" is\", \" taller\", \" than\", \" Bob\", \",\", \" but\", \" shorter\", \" than\", \" Steve\", \".\", \" Who\", \" is\", \" the\", \" shortest\", \"?\\n\", \"Ans\", \":\"], \"values\": [0.004302978515625, 0.00689697265625, 0.01104736328125, 0.0201416015625, 0.7265625, 0.060546875, 0.031494140625, 0.0196533203125, 0.006988525390625, 0.01116943359375, 0.00933837890625, 0.00113677978515625, 0.0021820068359375, 0.0023040771484375, 0.014892578125, 0.0035400390625, 1.609325408935547e-05, 0.00063323974609375]}\n",
       "    )\n",
       "    </script>"
      ],
      "text/plain": [
       "<circuitsvis.utils.render.RenderedHTML at 0x7fe394d1c2c0>"
      ]
     },
     "metadata": {},
     "output_type": "display_data"
    },
    {
     "name": "stdout",
     "output_type": "stream",
     "text": [
      "Layer: 39, Head: 40\n"
     ]
    },
    {
     "data": {
      "text/html": [
       "<div id=\"circuits-vis-229cdf52-7cf1\" style=\"margin: 15px 0;\"/>\n",
       "    <script crossorigin type=\"module\">\n",
       "    import { render, ColoredTokens } from \"https://unpkg.com/circuitsvis@1.43.3/dist/cdn/esm.js\";\n",
       "    render(\n",
       "      \"circuits-vis-229cdf52-7cf1\",\n",
       "      ColoredTokens,\n",
       "      {\"tokens\": [\"John\", \" is\", \" taller\", \" than\", \" Bob\", \",\", \" but\", \" shorter\", \" than\", \" Steve\", \".\", \" Who\", \" is\", \" the\", \" shortest\", \"?\\n\", \"Ans\", \":\"], \"values\": [0.01544189453125, 0.0101318359375, 0.001861572265625, 0.01806640625, 0.5, 0.033203125, 0.0419921875, 0.004608154296875, 0.006805419921875, 0.0118408203125, 0.0277099609375, 0.007476806640625, 0.004180908203125, 0.00174713134765625, 0.03125, 0.0673828125, 0.002532958984375, 0.029296875]}\n",
       "    )\n",
       "    </script>"
      ],
      "text/plain": [
       "<circuitsvis.utils.render.RenderedHTML at 0x7fe394d1c2c0>"
      ]
     },
     "metadata": {},
     "output_type": "display_data"
    },
    {
     "name": "stdout",
     "output_type": "stream",
     "text": [
      "Layer: 42, Head: 30\n"
     ]
    },
    {
     "data": {
      "text/html": [
       "<div id=\"circuits-vis-c1fc0ae3-941e\" style=\"margin: 15px 0;\"/>\n",
       "    <script crossorigin type=\"module\">\n",
       "    import { render, ColoredTokens } from \"https://unpkg.com/circuitsvis@1.43.3/dist/cdn/esm.js\";\n",
       "    render(\n",
       "      \"circuits-vis-c1fc0ae3-941e\",\n",
       "      ColoredTokens,\n",
       "      {\"tokens\": [\"John\", \" is\", \" taller\", \" than\", \" Bob\", \",\", \" but\", \" shorter\", \" than\", \" Steve\", \".\", \" Who\", \" is\", \" the\", \" shortest\", \"?\\n\", \"Ans\", \":\"], \"values\": [0.0032806396484375, 0.0107421875, 0.0069580078125, 0.01129150390625, 0.03515625, 0.007171630859375, 0.0052490234375, 0.003173828125, 0.0050048828125, 0.0021820068359375, 0.0089111328125, 0.0050048828125, 0.003662109375, 0.0028076171875, 0.00653076171875, 0.01275634765625, 0.003173828125, 0.005584716796875]}\n",
       "    )\n",
       "    </script>"
      ],
      "text/plain": [
       "<circuitsvis.utils.render.RenderedHTML at 0x7fe375031a60>"
      ]
     },
     "metadata": {},
     "output_type": "display_data"
    },
    {
     "name": "stdout",
     "output_type": "stream",
     "text": [
      "Layer: 47, Head: 18\n"
     ]
    },
    {
     "data": {
      "text/html": [
       "<div id=\"circuits-vis-6b456f40-bc0d\" style=\"margin: 15px 0;\"/>\n",
       "    <script crossorigin type=\"module\">\n",
       "    import { render, ColoredTokens } from \"https://unpkg.com/circuitsvis@1.43.3/dist/cdn/esm.js\";\n",
       "    render(\n",
       "      \"circuits-vis-6b456f40-bc0d\",\n",
       "      ColoredTokens,\n",
       "      {\"tokens\": [\"John\", \" is\", \" taller\", \" than\", \" Bob\", \",\", \" but\", \" shorter\", \" than\", \" Steve\", \".\", \" Who\", \" is\", \" the\", \" shortest\", \"?\\n\", \"Ans\", \":\"], \"values\": [0.043701171875, 0.07275390625, 0.0032806396484375, 0.04296875, 0.1865234375, 0.06884765625, 0.04296875, 0.0005035400390625, 0.01446533203125, 0.000431060791015625, 0.0751953125, 0.0211181640625, 0.01531982421875, 0.007415771484375, 0.00096893310546875, 0.032470703125, 0.00408935546875, 0.0244140625]}\n",
       "    )\n",
       "    </script>"
      ],
      "text/plain": [
       "<circuitsvis.utils.render.RenderedHTML at 0x7fe394d1deb0>"
      ]
     },
     "metadata": {},
     "output_type": "display_data"
    },
    {
     "name": "stdout",
     "output_type": "stream",
     "text": [
      "Layer: 52, Head: 58\n"
     ]
    },
    {
     "data": {
      "text/html": [
       "<div id=\"circuits-vis-248e4572-b602\" style=\"margin: 15px 0;\"/>\n",
       "    <script crossorigin type=\"module\">\n",
       "    import { render, ColoredTokens } from \"https://unpkg.com/circuitsvis@1.43.3/dist/cdn/esm.js\";\n",
       "    render(\n",
       "      \"circuits-vis-248e4572-b602\",\n",
       "      ColoredTokens,\n",
       "      {\"tokens\": [\"John\", \" is\", \" taller\", \" than\", \" Bob\", \",\", \" but\", \" shorter\", \" than\", \" Steve\", \".\", \" Who\", \" is\", \" the\", \" shortest\", \"?\\n\", \"Ans\", \":\"], \"values\": [0.011962890625, 0.02685546875, 0.0047607421875, 0.0133056640625, 0.051513671875, 0.01171875, 0.007232666015625, 0.00106048583984375, 0.00347900390625, 0.0003032684326171875, 0.01019287109375, 0.004241943359375, 0.00433349609375, 0.001800537109375, 0.0029754638671875, 0.0157470703125, 0.0098876953125, 0.0078125]}\n",
       "    )\n",
       "    </script>"
      ],
      "text/plain": [
       "<circuitsvis.utils.render.RenderedHTML at 0x7fe394c1f2f0>"
      ]
     },
     "metadata": {},
     "output_type": "display_data"
    }
   ],
   "source": [
    "for layer_idx, head_idx in HEADS:\n",
    "    print(\n",
    "        f\"Layer: {layer_idx}, Head: {head_idx}\"\n",
    "    )\n",
    "\n",
    "    head_matrix = torch.Tensor(attn_matrices.attention_matrices[layer_idx, head_idx]).squeeze()\n",
    "    visualize_attn_matrix(\n",
    "        attn_matrix=head_matrix,\n",
    "        tokens=[mt.tokenizer.decode(t) for t in tokenized.input_ids[0]],\n",
    "        q_index=-1,\n",
    "        start_from=1\n",
    "    )"
   ]
  },
  {
   "cell_type": "code",
   "execution_count": null,
   "id": "99b505ad",
   "metadata": {},
   "outputs": [],
   "source": []
  },
  {
   "cell_type": "code",
   "execution_count": 108,
   "id": "b4fa521c",
   "metadata": {},
   "outputs": [
    {
     "name": "stdout",
     "output_type": "stream",
     "text": [
      "\" b\n",
      "\n",
      "Explanation:\n",
      "a = x and y\n",
      "   = True and False\n",
      "   = False\n",
      "\n",
      "b = y or z\n",
      "   = False or True\n",
      "   = True\n",
      "\n",
      "c = z xor x\n",
      "   = True xor True\n",
      "   =\"\n",
      "layer=35\n"
     ]
    },
    {
     "data": {
      "text/html": [
       "<div id=\"circuits-vis-fa80cf0e-7d1e\" style=\"margin: 15px 0;\"/>\n",
       "    <script crossorigin type=\"module\">\n",
       "    import { render, ColoredTokens } from \"https://unpkg.com/circuitsvis@1.43.3/dist/cdn/esm.js\";\n",
       "    render(\n",
       "      \"circuits-vis-fa80cf0e-7d1e\",\n",
       "      ColoredTokens,\n",
       "      {\"tokens\": [\"x\", \" =\", \" True\", \"\\n\", \"y\", \" =\", \" False\", \"\\n\", \"z\", \" =\", \" True\", \"\\n\\n\", \"a\", \" =\", \" x\", \" and\", \" y\", \"\\n\", \"b\", \" =\", \" y\", \" or\", \" z\", \"\\n\", \"c\", \" =\", \" z\", \" xor\", \" x\", \"\\n\\n\", \"Which\", \" one\", \" among\", \" a\", \",\", \" b\", \",\", \" c\", \" is\", \" True\", \"?\\n\", \"Ans\", \":\"], \"values\": [0.013680219650268555, 0.0006175767630338669, 0.002132568508386612, 0.0007037096656858921, 0.001310974359512329, 0.000492531806230545, 0.00406261533498764, 0.0015142634510993958, 0.001640036702156067, 0.0007591545581817627, 0.005994178354740143, 0.0033885985612869263, 0.0020837336778640747, 0.0020727887749671936, 0.0017347410321235657, 0.0043199509382247925, 0.005912348628044128, 0.007197022438049316, 0.015110194683074951, 0.006074570119380951, 0.0038917623460292816, 0.01853097975254059, 0.023364029824733734, 0.05370438098907471, 0.007892578840255737, 0.0037431754171848297, 0.005571648478507996, 0.01079559326171875, 0.008790388703346252, 0.014265656471252441, 0.009635016322135925, 0.01593083143234253, 0.009264305233955383, 0.011861294507980347, 0.011873722076416016, 0.05095864459872246, 0.0018293950706720352, 0.013610392808914185, 0.01434914767742157, 0.03285712003707886, 0.031122326850891113, 0.014339398592710495, 0.03229968249797821]}\n",
       "    )\n",
       "    </script>"
      ],
      "text/plain": [
       "<circuitsvis.utils.render.RenderedHTML at 0x7fe394d1c380>"
      ]
     },
     "metadata": {},
     "output_type": "display_data"
    },
    {
     "name": "stdout",
     "output_type": "stream",
     "text": [
      "--------------------------------------------------------------------------------\n",
      "layer=47\n"
     ]
    },
    {
     "data": {
      "text/html": [
       "<div id=\"circuits-vis-8296fdea-1b10\" style=\"margin: 15px 0;\"/>\n",
       "    <script crossorigin type=\"module\">\n",
       "    import { render, ColoredTokens } from \"https://unpkg.com/circuitsvis@1.43.3/dist/cdn/esm.js\";\n",
       "    render(\n",
       "      \"circuits-vis-8296fdea-1b10\",\n",
       "      ColoredTokens,\n",
       "      {\"tokens\": [\"x\", \" =\", \" True\", \"\\n\", \"y\", \" =\", \" False\", \"\\n\", \"z\", \" =\", \" True\", \"\\n\\n\", \"a\", \" =\", \" x\", \" and\", \" y\", \"\\n\", \"b\", \" =\", \" y\", \" or\", \" z\", \"\\n\", \"c\", \" =\", \" z\", \" xor\", \" x\", \"\\n\\n\", \"Which\", \" one\", \" among\", \" a\", \",\", \" b\", \",\", \" c\", \" is\", \" True\", \"?\\n\", \"Ans\", \":\"], \"values\": [0.0015438199043273926, 0.00034539587795734406, 0.0006709732115268707, 0.00034422241151332855, 0.0011001182720065117, 0.0002808950375765562, 0.0008792891167104244, 0.000676116906106472, 0.0005550924688577652, 0.00026176078245043755, 0.00031664036214351654, 0.0011442676186561584, 0.000850580632686615, 0.0006315875798463821, 0.0003490522503852844, 0.0008345246315002441, 0.0005083596333861351, 0.0007972931489348412, 0.00610728282481432, 0.0007944307290017605, 0.0005159717984497547, 0.001512373797595501, 0.00025490298867225647, 0.0034448131918907166, 0.0007361890748143196, 0.0007196441292762756, 0.0003207223489880562, 0.0014260783791542053, 0.0002386467531323433, 0.0014758072793483734, 0.0031295418739318848, 0.00107642263174057, 0.0016929805278778076, 0.0014507509768009186, 0.001590518280863762, 0.015109894797205925, 0.0007131360471248627, 0.0012831315398216248, 0.000979732722043991, 0.002614598721265793, 0.0034868717193603516, 0.006200119853019714, 0.002126820385456085]}\n",
       "    )\n",
       "    </script>"
      ],
      "text/plain": [
       "<circuitsvis.utils.render.RenderedHTML at 0x7fe394c1e090>"
      ]
     },
     "metadata": {},
     "output_type": "display_data"
    },
    {
     "name": "stdout",
     "output_type": "stream",
     "text": [
      "--------------------------------------------------------------------------------\n",
      "layer=52\n"
     ]
    },
    {
     "data": {
      "text/html": [
       "<div id=\"circuits-vis-619d15f8-36c4\" style=\"margin: 15px 0;\"/>\n",
       "    <script crossorigin type=\"module\">\n",
       "    import { render, ColoredTokens } from \"https://unpkg.com/circuitsvis@1.43.3/dist/cdn/esm.js\";\n",
       "    render(\n",
       "      \"circuits-vis-619d15f8-36c4\",\n",
       "      ColoredTokens,\n",
       "      {\"tokens\": [\"x\", \" =\", \" True\", \"\\n\", \"y\", \" =\", \" False\", \"\\n\", \"z\", \" =\", \" True\", \"\\n\\n\", \"a\", \" =\", \" x\", \" and\", \" y\", \"\\n\", \"b\", \" =\", \" y\", \" or\", \" z\", \"\\n\", \"c\", \" =\", \" z\", \" xor\", \" x\", \"\\n\\n\", \"Which\", \" one\", \" among\", \" a\", \",\", \" b\", \",\", \" c\", \" is\", \" True\", \"?\\n\", \"Ans\", \":\"], \"values\": [0.0028706789016723633, 0.0028180908411741257, 0.002144545316696167, 0.0029155323281884193, 0.002708159387111664, 0.0012168511748313904, 0.0030439086258411407, 0.001924389973282814, 0.0017852745950222015, 0.000952230766415596, 0.0008337362669408321, 0.0037635304033756256, 0.0023917704820632935, 0.003336053341627121, 0.0018906611949205399, 0.003212329000234604, 0.0012920768931508064, 0.002681679092347622, 0.009125002659857273, 0.002491462044417858, 0.0016612920444458723, 0.0057844072580337524, 0.0013419385068118572, 0.002767409197986126, 0.001632431522011757, 0.0015619751065969467, 0.0009405156597495079, 0.003731023520231247, 0.0009320215322077274, 0.0035034092143177986, 0.009675059467554092, 0.002809198573231697, 0.004988294094800949, 0.006913364864885807, 0.005005372688174248, 0.02508658915758133, 0.001355716958642006, 0.0037778690457344055, 0.0032537654042243958, 0.008128248155117035, 0.012799829244613647, 0.016705140471458435, 0.014426972717046738]}\n",
       "    )\n",
       "    </script>"
      ],
      "text/plain": [
       "<circuitsvis.utils.render.RenderedHTML at 0x7fe394c99370>"
      ]
     },
     "metadata": {},
     "output_type": "display_data"
    },
    {
     "name": "stdout",
     "output_type": "stream",
     "text": [
      "--------------------------------------------------------------------------------\n"
     ]
    },
    {
     "data": {
      "text/plain": [
       "[PredictedToken(token=' b', prob=0.7421875, logit=20.375, token_id=293, metadata=None),\n",
       " PredictedToken(token=' Only', prob=0.07861328125, logit=18.125, token_id=8442, metadata=None),\n",
       " PredictedToken(token=' \\n', prob=0.0419921875, logit=17.5, token_id=720, metadata=None),\n",
       " PredictedToken(token=' B', prob=0.0224609375, logit=16.875, token_id=426, metadata=None),\n",
       " PredictedToken(token=' a', prob=0.01544189453125, logit=16.5, token_id=264, metadata=None)]"
      ]
     },
     "execution_count": 108,
     "metadata": {},
     "output_type": "execute_result"
    }
   ],
   "source": [
    "prompt = \"\"\"x = True\n",
    "y = False\n",
    "z = True\n",
    "\n",
    "a = x and y\n",
    "b = y or z\n",
    "c = z xor x\n",
    "\n",
    "Which one among a, b, c is True?\n",
    "Ans:\"\"\"\n",
    "\n",
    "# prompt = \"\"\"a, b, c is calculated as below. Find which one among a, b, c is True\n",
    "\n",
    "# x = True\n",
    "# y = False\n",
    "# z = True\n",
    "\n",
    "# a = x and y\n",
    "# b = y or z\n",
    "# c = z xor x\n",
    "\n",
    "# Ans:\"\"\"\n",
    "\n",
    "gen = generate_with_patch(\n",
    "    mt=mt,\n",
    "    inputs=prompt,\n",
    "    n_gen_per_prompt=1,\n",
    "    max_new_tokens=50,\n",
    "    remove_prefix=True,\n",
    ")[0]\n",
    "print(f'\"{gen}\"')\n",
    "\n",
    "tokenized = prepare_input(tokenizer=mt, prompts=prompt, add_bos_token=\"qwen\" in mt.name.lower())\n",
    "attn_matrices = get_attention_matrices(\n",
    "    input=tokenized,\n",
    "    mt=mt,\n",
    "    value_weighted=False,\n",
    "    # patches = []\n",
    ")\n",
    "visualize_average_attn_matrix(\n",
    "    mt=mt,\n",
    "    attn_matrices=attn_matrices,\n",
    "    prompt=prompt,\n",
    "    tokenized=tokenized,\n",
    "    layer_window=LAYERS,\n",
    ")\n",
    "interpret_logits(tokenizer=mt, logits=attn_matrices.logits)"
   ]
  },
  {
   "cell_type": "code",
   "execution_count": 107,
   "id": "c49ddd55",
   "metadata": {},
   "outputs": [
    {
     "name": "stdout",
     "output_type": "stream",
     "text": [
      "Layer: 33, Head: 45\n"
     ]
    },
    {
     "data": {
      "text/html": [
       "<div id=\"circuits-vis-eb19967d-e0c1\" style=\"margin: 15px 0;\"/>\n",
       "    <script crossorigin type=\"module\">\n",
       "    import { render, ColoredTokens } from \"https://unpkg.com/circuitsvis@1.43.3/dist/cdn/esm.js\";\n",
       "    render(\n",
       "      \"circuits-vis-eb19967d-e0c1\",\n",
       "      ColoredTokens,\n",
       "      {\"tokens\": [\"a\", \",\", \" b\", \",\", \" c\", \" is\", \" calculated\", \" as\", \" below\", \".\", \" Find\", \" which\", \" one\", \" among\", \" a\", \",\", \" b\", \",\", \" c\", \" is\", \" True\", \"\\n\\n\", \"x\", \" =\", \" True\", \"\\n\", \"y\", \" =\", \" False\", \"\\n\", \"z\", \" =\", \" True\", \"\\n\\n\", \"a\", \" =\", \" x\", \" and\", \" y\", \"\\n\", \"b\", \" =\", \" y\", \" or\", \" z\", \"\\n\", \"c\", \" =\", \" z\", \" xor\", \" x\", \"\\n\\n\", \"Ans\", \":\"], \"values\": [0.01165771484375, 0.000904083251953125, 0.0034027099609375, 0.0004749298095703125, 0.0023040771484375, 0.0026092529296875, 0.00213623046875, 0.002197265625, 0.0009613037109375, 0.00146484375, 0.0125732421875, 0.0120849609375, 0.0029144287109375, 0.004150390625, 0.0036773681640625, 0.003936767578125, 0.006622314453125, 0.000946044921875, 0.0125732421875, 0.00848388671875, 0.024169921875, 0.009765625, 0.0054931640625, 0.0023040771484375, 0.0091552734375, 0.004730224609375, 0.003326416015625, 0.001007080078125, 0.0179443359375, 0.0038909912109375, 0.002777099609375, 0.00119781494140625, 0.02294921875, 0.004852294921875, 0.0177001953125, 0.004150390625, 0.00537109375, 0.0140380859375, 0.00860595703125, 0.0150146484375, 0.02734375, 0.0164794921875, 0.018310546875, 0.0830078125, 0.05029296875, 0.150390625, 0.02880859375, 0.0032958984375, 0.027099609375, 0.046142578125, 0.018310546875, 0.039794921875, 0.01513671875, 0.0206298828125]}\n",
       "    )\n",
       "    </script>"
      ],
      "text/plain": [
       "<circuitsvis.utils.render.RenderedHTML at 0x7fe394c1e0c0>"
      ]
     },
     "metadata": {},
     "output_type": "display_data"
    },
    {
     "name": "stdout",
     "output_type": "stream",
     "text": [
      "Layer: 33, Head: 18\n"
     ]
    },
    {
     "data": {
      "text/html": [
       "<div id=\"circuits-vis-dee442cf-7c34\" style=\"margin: 15px 0;\"/>\n",
       "    <script crossorigin type=\"module\">\n",
       "    import { render, ColoredTokens } from \"https://unpkg.com/circuitsvis@1.43.3/dist/cdn/esm.js\";\n",
       "    render(\n",
       "      \"circuits-vis-dee442cf-7c34\",\n",
       "      ColoredTokens,\n",
       "      {\"tokens\": [\"a\", \",\", \" b\", \",\", \" c\", \" is\", \" calculated\", \" as\", \" below\", \".\", \" Find\", \" which\", \" one\", \" among\", \" a\", \",\", \" b\", \",\", \" c\", \" is\", \" True\", \"\\n\\n\", \"x\", \" =\", \" True\", \"\\n\", \"y\", \" =\", \" False\", \"\\n\", \"z\", \" =\", \" True\", \"\\n\\n\", \"a\", \" =\", \" x\", \" and\", \" y\", \"\\n\", \"b\", \" =\", \" y\", \" or\", \" z\", \"\\n\", \"c\", \" =\", \" z\", \" xor\", \" x\", \"\\n\\n\", \"Ans\", \":\"], \"values\": [0.041748046875, 0.00167083740234375, 0.003173828125, 0.001190185546875, 0.00433349609375, 0.0037689208984375, 0.00018215179443359375, 0.000362396240234375, 0.000362396240234375, 0.0003509521484375, 0.00081634521484375, 0.00469970703125, 0.01220703125, 0.006561279296875, 0.01123046875, 0.006561279296875, 0.02587890625, 0.0001373291015625, 0.05517578125, 0.01202392578125, 0.1875, 0.00848388671875, 0.001190185546875, 0.000560760498046875, 0.0361328125, 0.0017547607421875, 0.000881195068359375, 0.000385284423828125, 0.01129150390625, 0.00075531005859375, 0.0010833740234375, 0.00225830078125, 0.006317138671875, 0.00063323974609375, 0.0615234375, 0.00469970703125, 0.0023193359375, 0.00244140625, 0.00167083740234375, 0.0038909912109375, 0.103515625, 0.006317138671875, 0.003662109375, 0.005645751953125, 0.00933837890625, 0.0263671875, 0.08447265625, 0.0062255859375, 0.0052490234375, 0.01373291015625, 0.00189971923828125, 0.00506591796875, 0.00457763671875, 0.0167236328125]}\n",
       "    )\n",
       "    </script>"
      ],
      "text/plain": [
       "<circuitsvis.utils.render.RenderedHTML at 0x7fe394cf60c0>"
      ]
     },
     "metadata": {},
     "output_type": "display_data"
    },
    {
     "name": "stdout",
     "output_type": "stream",
     "text": [
      "Layer: 34, Head: 1\n"
     ]
    },
    {
     "data": {
      "text/html": [
       "<div id=\"circuits-vis-780f47b7-030f\" style=\"margin: 15px 0;\"/>\n",
       "    <script crossorigin type=\"module\">\n",
       "    import { render, ColoredTokens } from \"https://unpkg.com/circuitsvis@1.43.3/dist/cdn/esm.js\";\n",
       "    render(\n",
       "      \"circuits-vis-780f47b7-030f\",\n",
       "      ColoredTokens,\n",
       "      {\"tokens\": [\"a\", \",\", \" b\", \",\", \" c\", \" is\", \" calculated\", \" as\", \" below\", \".\", \" Find\", \" which\", \" one\", \" among\", \" a\", \",\", \" b\", \",\", \" c\", \" is\", \" True\", \"\\n\\n\", \"x\", \" =\", \" True\", \"\\n\", \"y\", \" =\", \" False\", \"\\n\", \"z\", \" =\", \" True\", \"\\n\\n\", \"a\", \" =\", \" x\", \" and\", \" y\", \"\\n\", \"b\", \" =\", \" y\", \" or\", \" z\", \"\\n\", \"c\", \" =\", \" z\", \" xor\", \" x\", \"\\n\\n\", \"Ans\", \":\"], \"values\": [0.06640625, 0.00012159347534179688, 0.0003509521484375, 0.00011396408081054688, 0.00061798095703125, 0.0004119873046875, 0.000698089599609375, 0.00037384033203125, 0.000560760498046875, 0.000926971435546875, 0.006591796875, 0.03662109375, 0.01220703125, 0.013916015625, 0.0004520416259765625, 0.00157928466796875, 0.0010986328125, 0.00020694732666015625, 0.0108642578125, 0.00604248046875, 0.016845703125, 0.005767822265625, 0.0001659393310546875, 0.00012159347534179688, 0.00102996826171875, 7.390975952148438e-05, 4.3392181396484375e-05, 2.3245811462402344e-05, 0.00052642822265625, 0.00014209747314453125, 0.00022029876708984375, 0.000579833984375, 0.000972747802734375, 0.0001468658447265625, 0.018798828125, 0.00189971923828125, 6.103515625e-05, 0.000579833984375, 0.000133514404296875, 0.0020904541015625, 0.080078125, 0.004486083984375, 0.00081634521484375, 0.01025390625, 0.003082275390625, 0.0537109375, 0.099609375, 0.005157470703125, 0.0034942626953125, 0.0257568359375, 0.00136566162109375, 0.018310546875, 0.0098876953125, 0.0230712890625]}\n",
       "    )\n",
       "    </script>"
      ],
      "text/plain": [
       "<circuitsvis.utils.render.RenderedHTML at 0x7fe394c1de80>"
      ]
     },
     "metadata": {},
     "output_type": "display_data"
    },
    {
     "name": "stdout",
     "output_type": "stream",
     "text": [
      "Layer: 34, Head: 6\n"
     ]
    },
    {
     "data": {
      "text/html": [
       "<div id=\"circuits-vis-294c7301-28fa\" style=\"margin: 15px 0;\"/>\n",
       "    <script crossorigin type=\"module\">\n",
       "    import { render, ColoredTokens } from \"https://unpkg.com/circuitsvis@1.43.3/dist/cdn/esm.js\";\n",
       "    render(\n",
       "      \"circuits-vis-294c7301-28fa\",\n",
       "      ColoredTokens,\n",
       "      {\"tokens\": [\"a\", \",\", \" b\", \",\", \" c\", \" is\", \" calculated\", \" as\", \" below\", \".\", \" Find\", \" which\", \" one\", \" among\", \" a\", \",\", \" b\", \",\", \" c\", \" is\", \" True\", \"\\n\\n\", \"x\", \" =\", \" True\", \"\\n\", \"y\", \" =\", \" False\", \"\\n\", \"z\", \" =\", \" True\", \"\\n\\n\", \"a\", \" =\", \" x\", \" and\", \" y\", \"\\n\", \"b\", \" =\", \" y\", \" or\", \" z\", \"\\n\", \"c\", \" =\", \" z\", \" xor\", \" x\", \"\\n\\n\", \"Ans\", \":\"], \"values\": [0.048828125, 0.000263214111328125, 0.00063323974609375, 0.00032806396484375, 0.000865936279296875, 0.00069427490234375, 0.000919342041015625, 0.000865936279296875, 0.000865936279296875, 0.0013580322265625, 0.00628662109375, 0.031005859375, 0.007781982421875, 0.0128173828125, 0.000812530517578125, 0.0024566650390625, 0.00174713134765625, 0.00032806396484375, 0.01123046875, 0.00714111328125, 0.02392578125, 0.00506591796875, 0.00052642822265625, 0.000308990478515625, 0.00104522705078125, 0.0001811981201171875, 0.00013256072998046875, 5.698204040527344e-05, 0.00052642822265625, 0.00019931793212890625, 0.000576019287109375, 0.001800537109375, 0.0028839111328125, 0.000408172607421875, 0.025634765625, 0.0047607421875, 0.000240325927734375, 0.000812530517578125, 0.0001926422119140625, 0.0016937255859375, 0.07958984375, 0.022705078125, 0.0011138916015625, 0.021484375, 0.006805419921875, 0.0537109375, 0.05078125, 0.013427734375, 0.006011962890625, 0.01202392578125, 0.00341796875, 0.0166015625, 0.0031585693359375, 0.0240478515625]}\n",
       "    )\n",
       "    </script>"
      ],
      "text/plain": [
       "<circuitsvis.utils.render.RenderedHTML at 0x7fc2784c89b0>"
      ]
     },
     "metadata": {},
     "output_type": "display_data"
    },
    {
     "name": "stdout",
     "output_type": "stream",
     "text": [
      "Layer: 34, Head: 7\n"
     ]
    },
    {
     "data": {
      "text/html": [
       "<div id=\"circuits-vis-899c5465-4f7f\" style=\"margin: 15px 0;\"/>\n",
       "    <script crossorigin type=\"module\">\n",
       "    import { render, ColoredTokens } from \"https://unpkg.com/circuitsvis@1.43.3/dist/cdn/esm.js\";\n",
       "    render(\n",
       "      \"circuits-vis-899c5465-4f7f\",\n",
       "      ColoredTokens,\n",
       "      {\"tokens\": [\"a\", \",\", \" b\", \",\", \" c\", \" is\", \" calculated\", \" as\", \" below\", \".\", \" Find\", \" which\", \" one\", \" among\", \" a\", \",\", \" b\", \",\", \" c\", \" is\", \" True\", \"\\n\\n\", \"x\", \" =\", \" True\", \"\\n\", \"y\", \" =\", \" False\", \"\\n\", \"z\", \" =\", \" True\", \"\\n\\n\", \"a\", \" =\", \" x\", \" and\", \" y\", \"\\n\", \"b\", \" =\", \" y\", \" or\", \" z\", \"\\n\", \"c\", \" =\", \" z\", \" xor\", \" x\", \"\\n\\n\", \"Ans\", \":\"], \"values\": [0.04248046875, 6.198883056640625e-05, 0.0001316070556640625, 7.05718994140625e-05, 0.00022411346435546875, 0.00018024444580078125, 0.0002613067626953125, 0.00019168853759765625, 0.00030517578125, 0.000553131103515625, 0.0027313232421875, 0.01324462890625, 0.00567626953125, 0.00927734375, 0.000598907470703125, 0.0018157958984375, 0.000820159912109375, 0.00021076202392578125, 0.00628662109375, 0.0111083984375, 0.017333984375, 0.00994873046875, 0.000278472900390625, 0.00018024444580078125, 0.0029449462890625, 0.000278472900390625, 0.0001125335693359375, 5.316734313964844e-05, 0.00113677978515625, 0.0005035400390625, 0.000278472900390625, 0.0005035400390625, 0.0026092529296875, 0.00103759765625, 0.04052734375, 0.00396728515625, 0.000553131103515625, 0.002899169921875, 0.00067901611328125, 0.006805419921875, 0.08740234375, 0.012939453125, 0.0028076171875, 0.0185546875, 0.007415771484375, 0.0947265625, 0.12255859375, 0.01055908203125, 0.01080322265625, 0.01904296875, 0.00628662109375, 0.048828125, 0.01904296875, 0.0849609375]}\n",
       "    )\n",
       "    </script>"
      ],
      "text/plain": [
       "<circuitsvis.utils.render.RenderedHTML at 0x7fc2784cb800>"
      ]
     },
     "metadata": {},
     "output_type": "display_data"
    },
    {
     "name": "stdout",
     "output_type": "stream",
     "text": [
      "Layer: 35, Head: 19\n"
     ]
    },
    {
     "data": {
      "text/html": [
       "<div id=\"circuits-vis-09744d1e-84c2\" style=\"margin: 15px 0;\"/>\n",
       "    <script crossorigin type=\"module\">\n",
       "    import { render, ColoredTokens } from \"https://unpkg.com/circuitsvis@1.43.3/dist/cdn/esm.js\";\n",
       "    render(\n",
       "      \"circuits-vis-09744d1e-84c2\",\n",
       "      ColoredTokens,\n",
       "      {\"tokens\": [\"a\", \",\", \" b\", \",\", \" c\", \" is\", \" calculated\", \" as\", \" below\", \".\", \" Find\", \" which\", \" one\", \" among\", \" a\", \",\", \" b\", \",\", \" c\", \" is\", \" True\", \"\\n\\n\", \"x\", \" =\", \" True\", \"\\n\", \"y\", \" =\", \" False\", \"\\n\", \"z\", \" =\", \" True\", \"\\n\\n\", \"a\", \" =\", \" x\", \" and\", \" y\", \"\\n\", \"b\", \" =\", \" y\", \" or\", \" z\", \"\\n\", \"c\", \" =\", \" z\", \" xor\", \" x\", \"\\n\\n\", \"Ans\", \":\"], \"values\": [0.00787353515625, 1.3887882232666016e-05, 0.00023174285888671875, 6.628036499023438e-05, 0.0004825592041015625, 3.552436828613281e-05, 9.059906005859375e-05, 4.1484832763671875e-05, 9.632110595703125e-05, 6.628036499023438e-05, 0.000530242919921875, 0.0023193359375, 0.000579833984375, 0.0018310546875, 0.0001163482666015625, 0.0004596710205078125, 0.00125885009765625, 1.1861324310302734e-05, 0.0076904296875, 0.000713348388671875, 0.0159912109375, 0.0004596710205078125, 1.5735626220703125e-05, 9.059906005859375e-05, 0.0026702880859375, 0.000335693359375, 0.00010585784912109375, 0.000156402587890625, 0.00555419921875, 0.0002880096435546875, 0.000274658203125, 0.0009002685546875, 0.0419921875, 0.0002460479736328125, 0.009521484375, 0.0018310546875, 0.000335693359375, 0.0019073486328125, 0.000598907470703125, 0.001739501953125, 0.060302734375, 0.0179443359375, 0.00138092041015625, 0.042724609375, 0.06640625, 0.458984375, 0.068359375, 0.0234375, 0.006744384765625, 0.0189208984375, 0.015380859375, 0.06640625, 0.0004749298095703125, 0.00445556640625]}\n",
       "    )\n",
       "    </script>"
      ],
      "text/plain": [
       "<circuitsvis.utils.render.RenderedHTML at 0x7fc2784cbda0>"
      ]
     },
     "metadata": {},
     "output_type": "display_data"
    },
    {
     "name": "stdout",
     "output_type": "stream",
     "text": [
      "Layer: 39, Head: 40\n"
     ]
    },
    {
     "data": {
      "text/html": [
       "<div id=\"circuits-vis-d1d3d54e-bca2\" style=\"margin: 15px 0;\"/>\n",
       "    <script crossorigin type=\"module\">\n",
       "    import { render, ColoredTokens } from \"https://unpkg.com/circuitsvis@1.43.3/dist/cdn/esm.js\";\n",
       "    render(\n",
       "      \"circuits-vis-d1d3d54e-bca2\",\n",
       "      ColoredTokens,\n",
       "      {\"tokens\": [\"a\", \",\", \" b\", \",\", \" c\", \" is\", \" calculated\", \" as\", \" below\", \".\", \" Find\", \" which\", \" one\", \" among\", \" a\", \",\", \" b\", \",\", \" c\", \" is\", \" True\", \"\\n\\n\", \"x\", \" =\", \" True\", \"\\n\", \"y\", \" =\", \" False\", \"\\n\", \"z\", \" =\", \" True\", \"\\n\\n\", \"a\", \" =\", \" x\", \" and\", \" y\", \"\\n\", \"b\", \" =\", \" y\", \" or\", \" z\", \"\\n\", \"c\", \" =\", \" z\", \" xor\", \" x\", \"\\n\\n\", \"Ans\", \":\"], \"values\": [0.0048828125, 5.91278076171875e-05, 0.00167083740234375, 0.0003299713134765625, 0.0014495849609375, 0.00124359130859375, 0.00102996826171875, 0.00107574462890625, 0.0006866455078125, 0.002044677734375, 0.003204345703125, 0.0118408203125, 0.0057373046875, 0.019287109375, 0.000896453857421875, 0.00141143798828125, 0.0205078125, 0.00028228759765625, 0.045654296875, 0.004608154296875, 0.06298828125, 0.01104736328125, 4.744529724121094e-05, 0.00011396408081054688, 0.00052642822265625, 0.0004367828369140625, 0.000789642333984375, 0.00049591064453125, 0.0036468505859375, 0.002593994140625, 0.000553131103515625, 0.00075531005859375, 0.00052642822265625, 0.0013427734375, 0.054443359375, 0.005706787109375, 0.00012493133544921875, 0.0008392333984375, 0.00063323974609375, 0.00616455078125, 0.22265625, 0.021484375, 0.0027313232421875, 0.0147705078125, 0.004180908203125, 0.1083984375, 0.1435546875, 0.00738525390625, 0.0003795623779296875, 0.0034637451171875, 0.000896453857421875, 0.036376953125, 0.00677490234375, 0.0673828125]}\n",
       "    )\n",
       "    </script>"
      ],
      "text/plain": [
       "<circuitsvis.utils.render.RenderedHTML at 0x7fc2784ca960>"
      ]
     },
     "metadata": {},
     "output_type": "display_data"
    },
    {
     "name": "stdout",
     "output_type": "stream",
     "text": [
      "Layer: 42, Head: 30\n"
     ]
    },
    {
     "data": {
      "text/html": [
       "<div id=\"circuits-vis-9c7c2208-8314\" style=\"margin: 15px 0;\"/>\n",
       "    <script crossorigin type=\"module\">\n",
       "    import { render, ColoredTokens } from \"https://unpkg.com/circuitsvis@1.43.3/dist/cdn/esm.js\";\n",
       "    render(\n",
       "      \"circuits-vis-9c7c2208-8314\",\n",
       "      ColoredTokens,\n",
       "      {\"tokens\": [\"a\", \",\", \" b\", \",\", \" c\", \" is\", \" calculated\", \" as\", \" below\", \".\", \" Find\", \" which\", \" one\", \" among\", \" a\", \",\", \" b\", \",\", \" c\", \" is\", \" True\", \"\\n\\n\", \"x\", \" =\", \" True\", \"\\n\", \"y\", \" =\", \" False\", \"\\n\", \"z\", \" =\", \" True\", \"\\n\\n\", \"a\", \" =\", \" x\", \" and\", \" y\", \"\\n\", \"b\", \" =\", \" y\", \" or\", \" z\", \"\\n\", \"c\", \" =\", \" z\", \" xor\", \" x\", \"\\n\\n\", \"Ans\", \":\"], \"values\": [0.0023956298828125, 0.00051116943359375, 0.00567626953125, 0.00051116943359375, 0.0037689208984375, 0.0021514892578125, 0.000560760498046875, 0.000843048095703125, 0.000843048095703125, 0.00081634521484375, 0.0025177001953125, 0.004150390625, 0.003662109375, 0.0032806396484375, 0.00173187255859375, 0.0034942626953125, 0.0101318359375, 0.00037384033203125, 0.0189208984375, 0.0021514892578125, 0.0308837890625, 0.00183868408203125, 0.00081634521484375, 0.0004100799560546875, 0.005950927734375, 0.0012664794921875, 0.003662109375, 0.00104522705078125, 0.00750732421875, 0.001678466796875, 0.00396728515625, 0.0013885498046875, 0.01318359375, 0.0012664794921875, 0.01446533203125, 0.0042724609375, 0.0013427734375, 0.004852294921875, 0.00396728515625, 0.00750732421875, 0.06103515625, 0.0047607421875, 0.00811767578125, 0.03466796875, 0.038818359375, 0.045654296875, 0.045654296875, 0.00299072265625, 0.0062255859375, 0.01446533203125, 0.01275634765625, 0.01092529296875, 0.0025177001953125, 0.005767822265625]}\n",
       "    )\n",
       "    </script>"
      ],
      "text/plain": [
       "<circuitsvis.utils.render.RenderedHTML at 0x7fc2784c9bb0>"
      ]
     },
     "metadata": {},
     "output_type": "display_data"
    },
    {
     "name": "stdout",
     "output_type": "stream",
     "text": [
      "Layer: 47, Head: 18\n"
     ]
    },
    {
     "data": {
      "text/html": [
       "<div id=\"circuits-vis-486b9df0-b666\" style=\"margin: 15px 0;\"/>\n",
       "    <script crossorigin type=\"module\">\n",
       "    import { render, ColoredTokens } from \"https://unpkg.com/circuitsvis@1.43.3/dist/cdn/esm.js\";\n",
       "    render(\n",
       "      \"circuits-vis-486b9df0-b666\",\n",
       "      ColoredTokens,\n",
       "      {\"tokens\": [\"a\", \",\", \" b\", \",\", \" c\", \" is\", \" calculated\", \" as\", \" below\", \".\", \" Find\", \" which\", \" one\", \" among\", \" a\", \",\", \" b\", \",\", \" c\", \" is\", \" True\", \"\\n\\n\", \"x\", \" =\", \" True\", \"\\n\", \"y\", \" =\", \" False\", \"\\n\", \"z\", \" =\", \" True\", \"\\n\\n\", \"a\", \" =\", \" x\", \" and\", \" y\", \"\\n\", \"b\", \" =\", \" y\", \" or\", \" z\", \"\\n\", \"c\", \" =\", \" z\", \" xor\", \" x\", \"\\n\\n\", \"Ans\", \":\"], \"values\": [0.0031890869140625, 0.000766754150390625, 0.011474609375, 0.0028533935546875, 0.004547119140625, 0.0018463134765625, 0.0004177093505859375, 0.00099945068359375, 0.00058746337890625, 0.0013885498046875, 0.002288818359375, 0.00848388671875, 0.00396728515625, 0.002288818359375, 0.007354736328125, 0.0074462890625, 0.05322265625, 0.000637054443359375, 0.04541015625, 0.0034942626953125, 0.01104736328125, 0.0028076171875, 0.0002307891845703125, 0.000164031982421875, 0.00081634521484375, 0.00030517578125, 0.00083160400390625, 0.000698089599609375, 0.000637054443359375, 0.00193023681640625, 0.000431060791015625, 0.0011749267578125, 0.000179290771484375, 0.0018463134765625, 0.044921875, 0.01043701171875, 0.000637054443359375, 0.001373291015625, 0.000858306884765625, 0.015380859375, 0.36328125, 0.0137939453125, 0.003662109375, 0.002899169921875, 0.000911712646484375, 0.09619140625, 0.0703125, 0.006591796875, 0.00141143798828125, 0.00170135498046875, 0.0001850128173828125, 0.00970458984375, 0.001373291015625, 0.00860595703125]}\n",
       "    )\n",
       "    </script>"
      ],
      "text/plain": [
       "<circuitsvis.utils.render.RenderedHTML at 0x7fe394c1de80>"
      ]
     },
     "metadata": {},
     "output_type": "display_data"
    },
    {
     "name": "stdout",
     "output_type": "stream",
     "text": [
      "Layer: 52, Head: 58\n"
     ]
    },
    {
     "data": {
      "text/html": [
       "<div id=\"circuits-vis-4b6fa0b8-bdac\" style=\"margin: 15px 0;\"/>\n",
       "    <script crossorigin type=\"module\">\n",
       "    import { render, ColoredTokens } from \"https://unpkg.com/circuitsvis@1.43.3/dist/cdn/esm.js\";\n",
       "    render(\n",
       "      \"circuits-vis-4b6fa0b8-bdac\",\n",
       "      ColoredTokens,\n",
       "      {\"tokens\": [\"a\", \",\", \" b\", \",\", \" c\", \" is\", \" calculated\", \" as\", \" below\", \".\", \" Find\", \" which\", \" one\", \" among\", \" a\", \",\", \" b\", \",\", \" c\", \" is\", \" True\", \"\\n\\n\", \"x\", \" =\", \" True\", \"\\n\", \"y\", \" =\", \" False\", \"\\n\", \"z\", \" =\", \" True\", \"\\n\\n\", \"a\", \" =\", \" x\", \" and\", \" y\", \"\\n\", \"b\", \" =\", \" y\", \" or\", \" z\", \"\\n\", \"c\", \" =\", \" z\", \" xor\", \" x\", \"\\n\\n\", \"Ans\", \":\"], \"values\": [0.006103515625, 0.000965118408203125, 0.005218505859375, 0.00250244140625, 0.0035858154296875, 0.009765625, 0.003753662109375, 0.00140380859375, 0.000484466552734375, 0.0005340576171875, 0.00171661376953125, 0.006591796875, 0.008056640625, 0.003997802734375, 0.003692626953125, 0.00439453125, 0.01007080078125, 0.00034332275390625, 0.01312255859375, 0.0108642578125, 0.01519775390625, 0.003265380859375, 0.000640869140625, 0.00131988525390625, 0.01019287109375, 0.0009918212890625, 0.0031585693359375, 0.004241943359375, 0.01177978515625, 0.00274658203125, 0.0023193359375, 0.0047607421875, 0.0047607421875, 0.0024261474609375, 0.0224609375, 0.02587890625, 0.002838134765625, 0.01251220703125, 0.002349853515625, 0.01544189453125, 0.045166015625, 0.032958984375, 0.00628662109375, 0.036376953125, 0.007720947265625, 0.032470703125, 0.0281982421875, 0.01177978515625, 0.0030670166015625, 0.025634765625, 0.00201416015625, 0.0091552734375, 0.0024261474609375, 0.01055908203125]}\n",
       "    )\n",
       "    </script>"
      ],
      "text/plain": [
       "<circuitsvis.utils.render.RenderedHTML at 0x7fc2784cb350>"
      ]
     },
     "metadata": {},
     "output_type": "display_data"
    }
   ],
   "source": [
    "for layer_idx, head_idx in HEADS:\n",
    "    print(\n",
    "        f\"Layer: {layer_idx}, Head: {head_idx}\"\n",
    "    )\n",
    "\n",
    "    head_matrix = torch.Tensor(attn_matrices.attention_matrices[layer_idx, head_idx]).squeeze()\n",
    "    visualize_attn_matrix(\n",
    "        attn_matrix=head_matrix,\n",
    "        tokens=[mt.tokenizer.decode(t) for t in tokenized.input_ids[0]],\n",
    "        q_index=-1,\n",
    "        start_from=1\n",
    "    )"
   ]
  },
  {
   "cell_type": "code",
   "execution_count": null,
   "id": "be3e600d",
   "metadata": {},
   "outputs": [],
   "source": []
  }
 ],
 "metadata": {
  "kernelspec": {
   "display_name": "connection",
   "language": "python",
   "name": "python3"
  },
  "language_info": {
   "codemirror_mode": {
    "name": "ipython",
    "version": 3
   },
   "file_extension": ".py",
   "mimetype": "text/x-python",
   "name": "python",
   "nbconvert_exporter": "python",
   "pygments_lexer": "ipython3",
   "version": "3.12.11"
  }
 },
 "nbformat": 4,
 "nbformat_minor": 5
}
