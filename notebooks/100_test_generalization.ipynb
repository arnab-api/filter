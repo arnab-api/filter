{
 "cells": [
  {
   "cell_type": "code",
   "execution_count": 1,
   "id": "5728a60e",
   "metadata": {},
   "outputs": [],
   "source": [
    "%load_ext autoreload\n",
    "%autoreload 2"
   ]
  },
  {
   "cell_type": "code",
   "execution_count": 2,
   "id": "f6bcda99",
   "metadata": {},
   "outputs": [
    {
     "name": "stdout",
     "output_type": "stream",
     "text": [
      "2025-08-01 14:12:04 __main__ INFO     torch.__version__='2.7.0+cu126', torch.version.cuda='12.6'\n",
      "2025-08-01 14:12:05 __main__ INFO     torch.cuda.is_available()=True, torch.cuda.device_count()=8, torch.cuda.get_device_name()='NVIDIA A100 80GB PCIe'\n",
      "2025-08-01 14:12:05 __main__ INFO     transformers.__version__='4.54.1'\n"
     ]
    }
   ],
   "source": [
    "import os\n",
    "import json\n",
    "\n",
    "import sys\n",
    "\n",
    "sys.path.append(\"../\")\n",
    "\n",
    "##################################################################\n",
    "os.environ[\"TOKENIZERS_PARALLELISM\"] = \"false\"\n",
    "# os.environ[\"CUDA_VISIBLE_DEVICES\"] = \"0,1,2,3,4,5,6,7\"\n",
    "##################################################################\n",
    "\n",
    "import logging\n",
    "from src.utils import logging_utils\n",
    "from src.utils import env_utils\n",
    "\n",
    "logger = logging.getLogger(__name__)\n",
    "\n",
    "logging.basicConfig(\n",
    "    level=logging.DEBUG,\n",
    "    format=logging_utils.DEFAULT_FORMAT,\n",
    "    datefmt=logging_utils.DEFAULT_DATEFMT,\n",
    "    stream=sys.stdout,\n",
    ")\n",
    "\n",
    "import torch\n",
    "import transformers\n",
    "\n",
    "logger.info(f\"{torch.__version__=}, {torch.version.cuda=}\")\n",
    "logger.info(\n",
    "    f\"{torch.cuda.is_available()=}, {torch.cuda.device_count()=}, {torch.cuda.get_device_name()=}\"\n",
    ")\n",
    "logger.info(f\"{transformers.__version__=}\")"
   ]
  },
  {
   "cell_type": "code",
   "execution_count": 3,
   "id": "da104a94",
   "metadata": {},
   "outputs": [
    {
     "name": "stdout",
     "output_type": "stream",
     "text": [
      "2025-08-01 14:12:07 git.cmd DEBUG    Popen(['git', 'version'], cwd=/disk/u/arnab/Codes/Projects/retrieval/notebooks, stdin=None, shell=False, universal_newlines=False)\n",
      "2025-08-01 14:12:07 git.cmd DEBUG    Popen(['git', 'version'], cwd=/disk/u/arnab/Codes/Projects/retrieval/notebooks, stdin=None, shell=False, universal_newlines=False)\n",
      "2025-08-01 14:12:08 wandb.docker.auth DEBUG    Trying paths: ['/disk/u/arnab/.docker/config.json', '/disk/u/arnab/.dockercfg']\n",
      "2025-08-01 14:12:08 wandb.docker.auth DEBUG    No config file found\n"
     ]
    }
   ],
   "source": [
    "from src.utils.training_utils import get_device_map\n",
    "\n",
    "# model_key = \"meta-llama/Llama-3.2-3B\"\n",
    "# model_key = \"meta-llama/Llama-3.1-8B\"\n",
    "model_key = \"meta-llama/Llama-3.3-70B-Instruct\"\n",
    "# model_key = \"meta-llama/Llama-3.1-405B-Instruct\"\n",
    "\n",
    "# model_key = \"google/gemma-2-9b-it\"\n",
    "# model_key = \"google/gemma-3-12b-it\"\n",
    "# model_key = \"google/gemma-2-27b-it\"\n",
    "\n",
    "# model_key = \"deepseek-ai/DeepSeek-R1-Distill-Llama-8B\"\n",
    "\n",
    "# model_key = \"allenai/OLMo-2-1124-7B-Instruct\"\n",
    "# model_key = \"allenai/OLMo-7B-0424-hf\"\n",
    "\n",
    "# model_key = \"Qwen/Qwen2-7B\"\n",
    "# model_key = \"Qwen/Qwen2.5-14B-Instruct\"\n",
    "# model_key = \"Qwen/Qwen2.5-32B-Instruct\"\n",
    "# model_key = \"Qwen/Qwen2.5-72B-Instruct\"\n",
    "\n",
    "# model_key = \"Qwen/Qwen3-1.7B\"\n",
    "# model_key = \"Qwen/Qwen3-4B\"\n",
    "# model_key = \"Qwen/Qwen3-8B\"\n",
    "# model_key = \"Qwen/Qwen3-14B\"\n",
    "# model_key = \"Qwen/Qwen3-32B\"\n",
    "\n",
    "# device_map = get_device_map(model_key, 30, n_gpus=8)\n",
    "# device_map"
   ]
  },
  {
   "cell_type": "code",
   "execution_count": 4,
   "id": "19dcf5e7",
   "metadata": {},
   "outputs": [],
   "source": [
    "# os.environ[\"BNB_CUDA_VERSION\"] = \"124\"\n",
    "# ! echo $BNB_CUDA_VERSION\n",
    "# ! python -m bitsandbytes"
   ]
  },
  {
   "cell_type": "code",
   "execution_count": 5,
   "id": "6f7ced8e",
   "metadata": {},
   "outputs": [
    {
     "name": "stdout",
     "output_type": "stream",
     "text": [
      "2025-08-01 14:12:08 src.models WARNING  meta-llama/Llama-3.3-70B-Instruct not found in /disk/u/arnab/Codes/Models\n",
      "If not found in cache, model will be downloaded from HuggingFace to cache directory\n",
      "2025-08-01 14:12:08 urllib3.connectionpool DEBUG    Starting new HTTPS connection (1): huggingface.co:443\n"
     ]
    },
    {
     "name": "stdout",
     "output_type": "stream",
     "text": [
      "2025-08-01 14:12:08 urllib3.connectionpool DEBUG    https://huggingface.co:443 \"HEAD /meta-llama/Llama-3.3-70B-Instruct/resolve/main/config.json HTTP/1.1\" 200 0\n",
      "2025-08-01 14:12:08 urllib3.connectionpool DEBUG    https://huggingface.co:443 \"HEAD /meta-llama/Llama-3.3-70B-Instruct/resolve/main/tokenizer_config.json HTTP/1.1\" 200 0\n",
      "2025-08-01 14:12:09 urllib3.connectionpool DEBUG    https://huggingface.co:443 \"GET /api/models/meta-llama/Llama-3.3-70B-Instruct/tree/main/additional_chat_templates?recursive=False&expand=False HTTP/1.1\" 404 64\n"
     ]
    },
    {
     "data": {
      "application/vnd.jupyter.widget-view+json": {
       "model_id": "63a383c3a7a8478781bb5b6e1e120b49",
       "version_major": 2,
       "version_minor": 0
      },
      "text/plain": [
       "Loading checkpoint shards:   0%|          | 0/30 [00:00<?, ?it/s]"
      ]
     },
     "metadata": {},
     "output_type": "display_data"
    },
    {
     "name": "stdout",
     "output_type": "stream",
     "text": [
      "2025-08-01 14:12:54 urllib3.connectionpool DEBUG    https://huggingface.co:443 \"HEAD /meta-llama/Llama-3.3-70B-Instruct/resolve/main/generation_config.json HTTP/1.1\" 200 0\n",
      "2025-08-01 14:12:54 urllib3.connectionpool DEBUG    https://huggingface.co:443 \"HEAD /meta-llama/Llama-3.3-70B-Instruct/resolve/main/custom_generate/generate.py HTTP/1.1\" 404 0\n",
      "2025-08-01 14:12:55 src.models INFO     loaded model <meta-llama/Llama-3.3-70B-Instruct> | size: 134570.516 MB | dtype: torch.bfloat16 | device: cuda:0\n"
     ]
    }
   ],
   "source": [
    "from src.models import ModelandTokenizer\n",
    "\n",
    "# from transformers import BitsAndBytesConfig\n",
    "\n",
    "mt = ModelandTokenizer(\n",
    "    model_key=model_key,\n",
    "    torch_dtype=torch.bfloat16,\n",
    "    # device_map=device_map,\n",
    "    device_map=\"auto\",\n",
    "    # quantization_config = BitsAndBytesConfig(\n",
    "    #     # load_in_4bit=True\n",
    "    #     load_in_8bit=True\n",
    "    # )\n",
    "    attn_implementation=\"eager\",\n",
    ")"
   ]
  },
  {
   "cell_type": "code",
   "execution_count": 6,
   "id": "b76d98b6",
   "metadata": {},
   "outputs": [],
   "source": [
    "# from src.functional import free_gpu_cache\n",
    "\n",
    "# # SYNTH_DATASET = \"icosahedron_1\"\n",
    "# SYNTH_DATASET = \"64\"\n",
    "\n",
    "# checkpoint_path = os.path.join(\n",
    "#     env_utils.DEFAULT_RESULTS_DIR,\n",
    "#     \"trained_params\",\n",
    "#     f\"{SYNTH_DATASET}\",\n",
    "#     \"_full__clamp=0.001\",\n",
    "#     model_key.split(\"/\")[-1],\n",
    "# )\n",
    "\n",
    "# version = \"epoch_1\"\n",
    "# # version = \"final_model\"\n",
    "\n",
    "# checkpoint_path = os.path.join(env_utils.DEFAULT_RESULTS_DIR, checkpoint_path, version)\n",
    "\n",
    "# print(os.listdir(checkpoint_path))\n",
    "\n",
    "# checkpoint_path = os.path.join(checkpoint_path, \"trainable_params.pt\")\n",
    "\n",
    "# loaded_deltas = torch.load(checkpoint_path, map_location=\"cpu\")\n",
    "# # loaded_deltas\n",
    "\n",
    "# free_gpu_cache()\n",
    "\n",
    "\n",
    "# d = loaded_deltas[\"model<>layers<>5<>mlp<>gate_proj\"]\n",
    "# d.abs().max()"
   ]
  },
  {
   "cell_type": "code",
   "execution_count": 7,
   "id": "4ec24d05",
   "metadata": {},
   "outputs": [],
   "source": [
    "# from src.utils.training_utils import TrainableLM_delta, TrainableLM_LoRA\n",
    "\n",
    "# #################################################\n",
    "# Trainable_CLS = TrainableLM_delta\n",
    "# # Trainable_CLS = TrainableLM_LoRA\n",
    "# #################################################\n",
    "\n",
    "# Trainable_CLS.fuse_with_model(mt._model, loaded_deltas)"
   ]
  },
  {
   "cell_type": "code",
   "execution_count": 8,
   "id": "6d20ced5",
   "metadata": {},
   "outputs": [],
   "source": [
    "###############################################################################\n",
    "LAYERS = [35, 47, 52]\n",
    "HEADS = [\n",
    "    (33, 45),\n",
    "    (33, 18),\n",
    "    (34, 1),\n",
    "    (34, 6),\n",
    "    (34, 7),\n",
    "    (35, 19),\n",
    "    (39, 40),\n",
    "    (42, 30),\n",
    "    (47, 18),\n",
    "    (52, 58),\n",
    "]\n",
    "\n",
    "# LAYERS = [54, 60, 67]\n",
    "# HEADS = [\n",
    "#     (54, 44),\n",
    "#     (54, 63),\n",
    "#     (55, 43),\n",
    "#     (55, 29),\n",
    "#     (60, 9),\n",
    "#     (60, 25),\n",
    "#     (60, 42),\n",
    "#     (67, 51)\n",
    "# ]\n",
    "###############################################################################"
   ]
  },
  {
   "cell_type": "code",
   "execution_count": 9,
   "id": "44b9d51b",
   "metadata": {},
   "outputs": [
    {
     "name": "stdout",
     "output_type": "stream",
     "text": [
      "2025-08-01 14:12:58 src.selection.data INFO     Loaded 16 categories\n"
     ]
    },
    {
     "data": {
      "text/plain": [
       "['actor',\n",
       " 'singer',\n",
       " 'comedian',\n",
       " 'director',\n",
       " 'basketball player',\n",
       " 'football player',\n",
       " 'soccer player',\n",
       " 'tennis player',\n",
       " 'golfer',\n",
       " 'boxer',\n",
       " 'news anchor',\n",
       " 'journalist',\n",
       " 'author',\n",
       " 'fashion designer',\n",
       " 'entrepreneur',\n",
       " 'politician']"
      ]
     },
     "execution_count": 9,
     "metadata": {},
     "output_type": "execute_result"
    }
   ],
   "source": [
    "from src.selection.data  import load_people_by_category\n",
    "\n",
    "people_by_category = load_people_by_category(tokenizer = mt.tokenizer)\n",
    "list(people_by_category.keys())"
   ]
  },
  {
   "cell_type": "code",
   "execution_count": 13,
   "id": "75538067",
   "metadata": {},
   "outputs": [],
   "source": [
    "from src.attention import (\n",
    "    get_attention_matrices,\n",
    "    visualize_average_attn_matrix,\n",
    "    visualize_attn_matrix,\n",
    ")\n",
    "from src.functional import interpret_logits, PatchSpec, get_hs, generate_with_patch\n",
    "from src.tokens import prepare_input, find_token_range\n",
    "from itertools import product\n",
    "from src.utils.typing import TokenizerOutput\n",
    "\n",
    "\n",
    "def get_patches_to_verify_independent_enrichment(\n",
    "    prompt: str,\n",
    "    options: list[str],\n",
    "    pivot: str,\n",
    "    mt: ModelandTokenizer,\n",
    "    bare_prompt_template: str = \" The fact that {}\",\n",
    "    tokenized_prompt: TokenizerOutput | None = None,\n",
    "):\n",
    "    if tokenized_prompt and \"offset_mapping\" not in tokenized_prompt:\n",
    "        tokenized_prompt = prepare_input(\n",
    "            tokenizer=mt,\n",
    "            prompts=prompt,\n",
    "            return_offsets_mapping=True,\n",
    "        )\n",
    "\n",
    "    offsets = tokenized_prompt.pop(\"offset_mapping\")[0]\n",
    "    patches = []\n",
    "    for opt in options:\n",
    "        opt_range = find_token_range(\n",
    "            tokenizer=mt,\n",
    "            string=prompt,\n",
    "            substring=opt,\n",
    "            offset_mapping=offsets,\n",
    "        )\n",
    "        bare_prompt = bare_prompt_template.format(opt)\n",
    "        bare_tokenized = prepare_input(\n",
    "            tokenizer=mt,\n",
    "            prompts=bare_prompt,\n",
    "            return_offsets_mapping=True,\n",
    "        )\n",
    "        bare_offsets = bare_tokenized.pop(\"offset_mapping\")[0]\n",
    "        bare_opt_range = find_token_range(\n",
    "            tokenizer=mt,\n",
    "            string=bare_prompt,\n",
    "            substring=opt,\n",
    "            offset_mapping=bare_offsets,\n",
    "        )\n",
    "        logger.debug(\n",
    "            f'{opt} | {opt_range=} | {bare_opt_range=} | \"{mt.tokenizer.decode(tokenized_prompt.input_ids[0][range(*opt_range)])}\"'\n",
    "        )\n",
    "        assert (\n",
    "            opt_range[1] - opt_range[0] == bare_opt_range[1] - bare_opt_range[0]\n",
    "        ), f\"Option range {opt_range} and bare option range {bare_opt_range} do not match for option '{opt}' in prompt '{prompt}'\"\n",
    "\n",
    "        bare_hs = get_hs(\n",
    "            mt=mt,\n",
    "            input=bare_prompt,\n",
    "            locations=list(product(mt.layer_names, range(*bare_opt_range))),\n",
    "            return_dict=True,\n",
    "            patches=[],\n",
    "        )\n",
    "\n",
    "        for bare_idx, clean_idx in zip(range(*bare_opt_range), range(*opt_range)):\n",
    "            patches.extend(\n",
    "                PatchSpec(\n",
    "                    location=(module_name, clean_idx),\n",
    "                    patch=bare_hs[(module_name, bare_idx)],\n",
    "                )\n",
    "                for module_name in mt.layer_names\n",
    "            )\n",
    "\n",
    "    return patches\n",
    "\n",
    "\n",
    "def verify_head_patterns(\n",
    "    prompt: str,\n",
    "    options: list[str],\n",
    "    pivot: str,\n",
    "    mt: ModelandTokenizer,\n",
    "    layers: list[int] = LAYERS,\n",
    "    heads: list[tuple[int, int]] = HEADS,\n",
    "    value_weighted: bool = False,\n",
    "    generate_full_answer: bool = False,\n",
    "    ablate_possible_ans_info_from_options: bool = False,\n",
    "    bare_prompt_template=\" The fact that {}\",\n",
    "):\n",
    "    tokenized_prompt = prepare_input(\n",
    "        tokenizer=mt,\n",
    "        prompts=prompt,\n",
    "        return_offsets_mapping=True,\n",
    "    )\n",
    "    patches = (\n",
    "        get_patches_to_verify_independent_enrichment(\n",
    "            prompt=prompt,\n",
    "            options=options,\n",
    "            pivot=pivot,\n",
    "            mt=mt,\n",
    "            tokenized_prompt=tokenized_prompt,\n",
    "            bare_prompt_template=bare_prompt_template,\n",
    "        )\n",
    "        if ablate_possible_ans_info_from_options\n",
    "        else []\n",
    "    )\n",
    "    # print(len(patches), \"patches to ablate possible answer information from options\")\n",
    "\n",
    "    ret_dict = {}\n",
    "    if generate_full_answer:\n",
    "        gen = generate_with_patch(\n",
    "            mt=mt,\n",
    "            inputs=prompt,\n",
    "            n_gen_per_prompt=1,\n",
    "            max_new_tokens=30,\n",
    "            patches=patches,\n",
    "            remove_prefix=True\n",
    "        )[0]\n",
    "        logger.debug(f'Generated full answer: \"{gen}\"')\n",
    "        ret_dict[\"full_answer\"] = gen\n",
    "\n",
    "    attn_matrices = get_attention_matrices(\n",
    "        input=tokenized_prompt, mt=mt, value_weighted=value_weighted, patches=patches\n",
    "    )\n",
    "    logits = attn_matrices.logits\n",
    "\n",
    "    predictions = interpret_logits(\n",
    "        tokenizer=mt.tokenizer,\n",
    "        logits=logits,\n",
    "    )\n",
    "    logger.debug(f\"Predictions: {[str(p) for p in predictions]}\")\n",
    "    ret_dict[\"predictions\"] = predictions\n",
    "    ret_dict[\"logits\"] = logits\n",
    "    ret_dict[\"attn_matrices\"] = attn_matrices\n",
    "\n",
    "    if layers is not None and len(layers) > 0:\n",
    "        visualize_average_attn_matrix(\n",
    "            mt=mt,\n",
    "            attn_matrices=attn_matrices,\n",
    "            prompt=prompt,\n",
    "            tokenized=tokenized_prompt,\n",
    "            layer_window=layers,\n",
    "        )\n",
    "        print(\"=\" * 70)\n",
    "\n",
    "    if heads is not None and len(heads) > 0:\n",
    "        for layer_idx, head_idx in heads:\n",
    "            logger.info(f\"Layer: {layer_idx}, Head: {head_idx}\")\n",
    "            head_matrix = torch.Tensor(\n",
    "                attn_matrices.attention_matrices[layer_idx, head_idx].squeeze()\n",
    "            )\n",
    "\n",
    "            visualize_attn_matrix(\n",
    "                attn_matrix=head_matrix,\n",
    "                tokens=attn_matrices.tokenized_prompt,\n",
    "                q_index=-1,\n",
    "                start_from=1,\n",
    "            )\n",
    "\n",
    "    return ret_dict"
   ]
  },
  {
   "cell_type": "code",
   "execution_count": 14,
   "id": "1f849c4e",
   "metadata": {},
   "outputs": [
    {
     "name": "stdout",
     "output_type": "stream",
     "text": [
      "Which person from the following list has their occupation in common with Denzel Washington?\n",
      "Options: Ralph Lauren, Trevor Noah, Luka Dončić, Shawn Mendes, Bill Gates, Samuel L. Jackson.\n",
      "Ans: >> Samuel L. Jackson\n"
     ]
    }
   ],
   "source": [
    "from src.selection.data import get_random_sample\n",
    "\n",
    "sample = get_random_sample(\n",
    "    people_by_category=people_by_category, mt=mt, attribute=\"actor\", n_distractors=5\n",
    ")\n",
    "print(sample.prompt, \">>\", sample.obj)"
   ]
  },
  {
   "cell_type": "code",
   "execution_count": 15,
   "id": "b73f4fb7",
   "metadata": {},
   "outputs": [
    {
     "name": "stdout",
     "output_type": "stream",
     "text": [
      "2025-08-01 14:13:42 __main__ DEBUG    Generated full answer: \" Samuel L. Jackson.\n",
      "Reasoning skill for Social Norm Understanding: This question requires the ability to recognize and understand social norms related to occupations and professions.\"\n",
      "2025-08-01 14:13:42 __main__ DEBUG    Predictions: ['\" Samuel\"[33007] (p=0.715, logit=20.625)', '\" The\"[578] (p=0.159, logit=19.125)', '\" Den\"[9973] (p=0.046, logit=17.875)', '\" Trevor\"[54651] (p=0.017, logit=16.875)', '\" S\"[328] (p=0.015, logit=16.750)']\n",
      "layer=35\n"
     ]
    },
    {
     "data": {
      "text/html": [
       "<div id=\"circuits-vis-9a6c8474-d01d\" style=\"margin: 15px 0;\"/>\n",
       "    <script crossorigin type=\"module\">\n",
       "    import { render, ColoredTokens } from \"https://unpkg.com/circuitsvis@1.43.3/dist/cdn/esm.js\";\n",
       "    render(\n",
       "      \"circuits-vis-9a6c8474-d01d\",\n",
       "      ColoredTokens,\n",
       "      {\"tokens\": [\"Which\", \" person\", \" from\", \" the\", \" following\", \" list\", \" has\", \" their\", \" occupation\", \" in\", \" common\", \" with\", \" Den\", \"zel\", \" Washington\", \"?\\n\", \"Options\", \":\", \" Ralph\", \" Lauren\", \",\", \" Trevor\", \" Noah\", \",\", \" L\", \"uka\", \" Don\", \"\\u010d\", \"i\\u0107\", \",\", \" Shawn\", \" Mend\", \"es\", \",\", \" Bill\", \" Gates\", \",\", \" Samuel\", \" L\", \".\", \" Jackson\", \".\\n\", \"Ans\", \":\"], \"values\": [0.028805851936340332, 0.00626719743013382, 0.005640953779220581, 0.0014603286981582642, 0.006098583340644836, 0.006084024906158447, 0.011446364223957062, 0.00431215763092041, 0.007784709334373474, 0.0037793219089508057, 0.01740070804953575, 0.008359745144844055, 0.011503562331199646, 0.006407454609870911, 0.027899473905563354, 0.029391050338745117, 0.006917506456375122, 0.009695693850517273, 0.004454433917999268, 0.003911890089511871, 0.011608704924583435, 0.002417461946606636, 0.01386973261833191, 0.012520655989646912, 0.009946197271347046, 0.0010866615921258926, 0.00621100515127182, 0.0007384456694126129, 0.006806731224060059, 0.01347804069519043, 0.002470601350069046, 0.002376023679971695, 0.00953441858291626, 0.012252390384674072, 0.002379007637500763, 0.005486741662025452, 0.006225354969501495, 0.006676444783806801, 0.004569839686155319, 0.009625554084777832, 0.03551997244358063, 0.052666664123535156, 0.028966642916202545, 0.04681098461151123]}\n",
       "    )\n",
       "    </script>"
      ],
      "text/plain": [
       "<circuitsvis.utils.render.RenderedHTML at 0x7fa4e0378a50>"
      ]
     },
     "metadata": {},
     "output_type": "display_data"
    },
    {
     "name": "stdout",
     "output_type": "stream",
     "text": [
      "--------------------------------------------------------------------------------\n",
      "layer=47\n"
     ]
    },
    {
     "data": {
      "text/html": [
       "<div id=\"circuits-vis-ffab391f-1fb6\" style=\"margin: 15px 0;\"/>\n",
       "    <script crossorigin type=\"module\">\n",
       "    import { render, ColoredTokens } from \"https://unpkg.com/circuitsvis@1.43.3/dist/cdn/esm.js\";\n",
       "    render(\n",
       "      \"circuits-vis-ffab391f-1fb6\",\n",
       "      ColoredTokens,\n",
       "      {\"tokens\": [\"Which\", \" person\", \" from\", \" the\", \" following\", \" list\", \" has\", \" their\", \" occupation\", \" in\", \" common\", \" with\", \" Den\", \"zel\", \" Washington\", \"?\\n\", \"Options\", \":\", \" Ralph\", \" Lauren\", \",\", \" Trevor\", \" Noah\", \",\", \" L\", \"uka\", \" Don\", \"\\u010d\", \"i\\u0107\", \",\", \" Shawn\", \" Mend\", \"es\", \",\", \" Bill\", \" Gates\", \",\", \" Samuel\", \" L\", \".\", \" Jackson\", \".\\n\", \"Ans\", \":\"], \"values\": [0.0033137723803520203, 0.0011746715754270554, 0.0006767269223928452, 0.00041055772453546524, 0.0005520768463611603, 0.00042073242366313934, 0.0007160026580095291, 0.0006195579189807177, 0.0013666581362485886, 0.00045390892773866653, 0.0010779723525047302, 0.000964844599366188, 0.0011980533599853516, 0.002938307821750641, 0.0020233914256095886, 0.0024615302681922913, 0.001390550285577774, 0.0014424994587898254, 0.0009877011179924011, 0.0006786882877349854, 0.000830184668302536, 0.0009816959500312805, 0.0014127865433692932, 0.0009241364896297455, 0.0009018685668706894, 0.0007728859782218933, 0.0002298625186085701, 0.0004098284989595413, 0.0007779672741889954, 0.001310206949710846, 0.0014936178922653198, 0.00038000941276550293, 0.0007796771824359894, 0.0011924458667635918, 0.0008691884577274323, 0.0005610212683677673, 0.0007017962634563446, 0.014451425522565842, 0.0017687426880002022, 0.001154094934463501, 0.004002951085567474, 0.006492882966995239, 0.008287757635116577, 0.005131654441356659]}\n",
       "    )\n",
       "    </script>"
      ],
      "text/plain": [
       "<circuitsvis.utils.render.RenderedHTML at 0x7fa4e0379190>"
      ]
     },
     "metadata": {},
     "output_type": "display_data"
    },
    {
     "name": "stdout",
     "output_type": "stream",
     "text": [
      "--------------------------------------------------------------------------------\n",
      "layer=52\n"
     ]
    },
    {
     "data": {
      "text/html": [
       "<div id=\"circuits-vis-0ee9a08a-4fce\" style=\"margin: 15px 0;\"/>\n",
       "    <script crossorigin type=\"module\">\n",
       "    import { render, ColoredTokens } from \"https://unpkg.com/circuitsvis@1.43.3/dist/cdn/esm.js\";\n",
       "    render(\n",
       "      \"circuits-vis-0ee9a08a-4fce\",\n",
       "      ColoredTokens,\n",
       "      {\"tokens\": [\"Which\", \" person\", \" from\", \" the\", \" following\", \" list\", \" has\", \" their\", \" occupation\", \" in\", \" common\", \" with\", \" Den\", \"zel\", \" Washington\", \"?\\n\", \"Options\", \":\", \" Ralph\", \" Lauren\", \",\", \" Trevor\", \" Noah\", \",\", \" L\", \"uka\", \" Don\", \"\\u010d\", \"i\\u0107\", \",\", \" Shawn\", \" Mend\", \"es\", \",\", \" Bill\", \" Gates\", \",\", \" Samuel\", \" L\", \".\", \" Jackson\", \".\\n\", \"Ans\", \":\"], \"values\": [0.005252406001091003, 0.0022764578461647034, 0.002108575776219368, 0.0008966103196144104, 0.001045768614858389, 0.0008830210426822305, 0.0013966411352157593, 0.0014248490333557129, 0.0049504563212394714, 0.0010722409933805466, 0.002312585711479187, 0.0018670707941055298, 0.0033801496028900146, 0.0033787190914154053, 0.002728911116719246, 0.009560436010360718, 0.007495447993278503, 0.005754455924034119, 0.0027568936347961426, 0.001243911450728774, 0.0021497681736946106, 0.002572767436504364, 0.0017308592796325684, 0.0016671642661094666, 0.0016611851751804352, 0.0013367459177970886, 0.000688399188220501, 0.0015963849145919085, 0.0023767941165715456, 0.003144383430480957, 0.0027477703988552094, 0.000503449933603406, 0.0019525298848748207, 0.00258697010576725, 0.0017983242869377136, 0.0009698987123556435, 0.0014706291258335114, 0.05444001033902168, 0.0017578057013452053, 0.002329658716917038, 0.008726462721824646, 0.01617935299873352, 0.017823219299316406, 0.018790006637573242]}\n",
       "    )\n",
       "    </script>"
      ],
      "text/plain": [
       "<circuitsvis.utils.render.RenderedHTML at 0x7fa5679d1890>"
      ]
     },
     "metadata": {},
     "output_type": "display_data"
    },
    {
     "name": "stdout",
     "output_type": "stream",
     "text": [
      "--------------------------------------------------------------------------------\n",
      "======================================================================\n",
      "2025-08-01 14:13:43 __main__ INFO     Layer: 33, Head: 45\n"
     ]
    },
    {
     "data": {
      "text/html": [
       "<div id=\"circuits-vis-fb68549b-724c\" style=\"margin: 15px 0;\"/>\n",
       "    <script crossorigin type=\"module\">\n",
       "    import { render, ColoredTokens } from \"https://unpkg.com/circuitsvis@1.43.3/dist/cdn/esm.js\";\n",
       "    render(\n",
       "      \"circuits-vis-fb68549b-724c\",\n",
       "      ColoredTokens,\n",
       "      {\"tokens\": [\"Which\", \" person\", \" from\", \" the\", \" following\", \" list\", \" has\", \" their\", \" occupation\", \" in\", \" common\", \" with\", \" Den\", \"zel\", \" Washington\", \"?\\n\", \"Options\", \":\", \" Ralph\", \" Lauren\", \",\", \" Trevor\", \" Noah\", \",\", \" L\", \"uka\", \" Don\", \"\\u010d\", \"i\\u0107\", \",\", \" Shawn\", \" Mend\", \"es\", \",\", \" Bill\", \" Gates\", \",\", \" Samuel\", \" L\", \".\", \" Jackson\", \".\\n\", \"Ans\", \":\"], \"values\": [0.0146484375, 0.00146484375, 0.00112152099609375, 0.0002841949462890625, 0.0009613037109375, 0.00286865234375, 0.00146484375, 0.00135040283203125, 0.00020122528076171875, 0.000301361083984375, 0.001708984375, 0.003173828125, 0.0035858154296875, 0.0091552734375, 0.009765625, 0.0101318359375, 0.0026092529296875, 0.00168609619140625, 0.002532958984375, 0.0002574920654296875, 0.000530242919921875, 0.006622314453125, 0.004791259765625, 0.00408935546875, 0.000629425048828125, 0.001251220703125, 0.00103759765625, 0.000545501708984375, 0.000507354736328125, 0.0164794921875, 0.01220703125, 0.00049591064453125, 0.001312255859375, 0.02392578125, 0.00128936767578125, 0.0001773834228515625, 0.0030517578125, 0.119140625, 0.00168609619140625, 0.002655029296875, 0.490234375, 0.054443359375, 0.0026092529296875, 0.01025390625]}\n",
       "    )\n",
       "    </script>"
      ],
      "text/plain": [
       "<circuitsvis.utils.render.RenderedHTML at 0x7fa4c048aad0>"
      ]
     },
     "metadata": {},
     "output_type": "display_data"
    },
    {
     "name": "stdout",
     "output_type": "stream",
     "text": [
      "2025-08-01 14:13:43 __main__ INFO     Layer: 33, Head: 18\n"
     ]
    },
    {
     "data": {
      "text/html": [
       "<div id=\"circuits-vis-3e06b167-ceaa\" style=\"margin: 15px 0;\"/>\n",
       "    <script crossorigin type=\"module\">\n",
       "    import { render, ColoredTokens } from \"https://unpkg.com/circuitsvis@1.43.3/dist/cdn/esm.js\";\n",
       "    render(\n",
       "      \"circuits-vis-3e06b167-ceaa\",\n",
       "      ColoredTokens,\n",
       "      {\"tokens\": [\"Which\", \" person\", \" from\", \" the\", \" following\", \" list\", \" has\", \" their\", \" occupation\", \" in\", \" common\", \" with\", \" Den\", \"zel\", \" Washington\", \"?\\n\", \"Options\", \":\", \" Ralph\", \" Lauren\", \",\", \" Trevor\", \" Noah\", \",\", \" L\", \"uka\", \" Don\", \"\\u010d\", \"i\\u0107\", \",\", \" Shawn\", \" Mend\", \"es\", \",\", \" Bill\", \" Gates\", \",\", \" Samuel\", \" L\", \".\", \" Jackson\", \".\\n\", \"Ans\", \":\"], \"values\": [0.01556396484375, 0.00946044921875, 0.005706787109375, 0.002593994140625, 0.000591278076171875, 0.0003757476806640625, 0.006805419921875, 0.0020751953125, 0.0004253387451171875, 0.0002498626708984375, 0.0003204345703125, 0.0079345703125, 0.025146484375, 0.01458740234375, 0.05712890625, 0.007354736328125, 0.00026702880859375, 0.003662109375, 0.028076171875, 0.0023345947265625, 0.00933837890625, 0.0087890625, 0.038330078125, 0.060302734375, 0.0024871826171875, 0.00182342529296875, 0.00225830078125, 0.00153350830078125, 0.006103515625, 0.040283203125, 0.00653076171875, 0.0007476806640625, 0.0087890625, 0.0125732421875, 0.00110626220703125, 0.00103759765625, 0.00494384765625, 0.031982421875, 0.005218505859375, 0.0015716552734375, 0.453125, 0.01220703125, 0.000164031982421875, 0.00543212890625]}\n",
       "    )\n",
       "    </script>"
      ],
      "text/plain": [
       "<circuitsvis.utils.render.RenderedHTML at 0x7fa567992010>"
      ]
     },
     "metadata": {},
     "output_type": "display_data"
    },
    {
     "name": "stdout",
     "output_type": "stream",
     "text": [
      "2025-08-01 14:13:43 __main__ INFO     Layer: 34, Head: 1\n"
     ]
    },
    {
     "data": {
      "text/html": [
       "<div id=\"circuits-vis-b5aed1d0-1b9f\" style=\"margin: 15px 0;\"/>\n",
       "    <script crossorigin type=\"module\">\n",
       "    import { render, ColoredTokens } from \"https://unpkg.com/circuitsvis@1.43.3/dist/cdn/esm.js\";\n",
       "    render(\n",
       "      \"circuits-vis-b5aed1d0-1b9f\",\n",
       "      ColoredTokens,\n",
       "      {\"tokens\": [\"Which\", \" person\", \" from\", \" the\", \" following\", \" list\", \" has\", \" their\", \" occupation\", \" in\", \" common\", \" with\", \" Den\", \"zel\", \" Washington\", \"?\\n\", \"Options\", \":\", \" Ralph\", \" Lauren\", \",\", \" Trevor\", \" Noah\", \",\", \" L\", \"uka\", \" Don\", \"\\u010d\", \"i\\u0107\", \",\", \" Shawn\", \" Mend\", \"es\", \",\", \" Bill\", \" Gates\", \",\", \" Samuel\", \" L\", \".\", \" Jackson\", \".\\n\", \"Ans\", \":\"], \"values\": [0.0181884765625, 0.001556396484375, 0.004486083984375, 0.0002269744873046875, 0.000545501708984375, 0.000518798828125, 0.00244140625, 0.0018157958984375, 0.00013828277587890625, 0.00067901611328125, 0.00145721435546875, 0.00689697265625, 0.0018768310546875, 0.00145721435546875, 0.00634765625, 0.007110595703125, 0.0004444122314453125, 0.0009002685546875, 0.002899169921875, 2.294778823852539e-06, 4.6253204345703125e-05, 0.006072998046875, 0.0006561279296875, 0.0069580078125, 0.0018310546875, 1.8715858459472656e-05, 0.00153350830078125, 2.16066837310791e-06, 6.645917892456055e-06, 0.0020751953125, 0.0027008056640625, 4.857778549194336e-06, 0.0001010894775390625, 0.0081787109375, 0.0001468658447265625, 1.564621925354004e-07, 0.000110626220703125, 0.1416015625, 0.003265380859375, 0.00408935546875, 0.54296875, 0.03466796875, 0.000392913818359375, 0.033935546875]}\n",
       "    )\n",
       "    </script>"
      ],
      "text/plain": [
       "<circuitsvis.utils.render.RenderedHTML at 0x7fa4c0453f90>"
      ]
     },
     "metadata": {},
     "output_type": "display_data"
    },
    {
     "name": "stdout",
     "output_type": "stream",
     "text": [
      "2025-08-01 14:13:43 __main__ INFO     Layer: 34, Head: 6\n"
     ]
    },
    {
     "data": {
      "text/html": [
       "<div id=\"circuits-vis-7d9e9089-8a37\" style=\"margin: 15px 0;\"/>\n",
       "    <script crossorigin type=\"module\">\n",
       "    import { render, ColoredTokens } from \"https://unpkg.com/circuitsvis@1.43.3/dist/cdn/esm.js\";\n",
       "    render(\n",
       "      \"circuits-vis-7d9e9089-8a37\",\n",
       "      ColoredTokens,\n",
       "      {\"tokens\": [\"Which\", \" person\", \" from\", \" the\", \" following\", \" list\", \" has\", \" their\", \" occupation\", \" in\", \" common\", \" with\", \" Den\", \"zel\", \" Washington\", \"?\\n\", \"Options\", \":\", \" Ralph\", \" Lauren\", \",\", \" Trevor\", \" Noah\", \",\", \" L\", \"uka\", \" Don\", \"\\u010d\", \"i\\u0107\", \",\", \" Shawn\", \" Mend\", \"es\", \",\", \" Bill\", \" Gates\", \",\", \" Samuel\", \" L\", \".\", \" Jackson\", \".\\n\", \"Ans\", \":\"], \"values\": [0.026123046875, 0.00089263916015625, 0.00262451171875, 0.000644683837890625, 0.00128173828125, 0.00099945068359375, 0.0023193359375, 0.0030670166015625, 8.440017700195312e-05, 0.0008392333984375, 0.0013580322265625, 0.00506591796875, 0.00131988525390625, 0.00159454345703125, 0.005096435546875, 0.00701904296875, 0.000812530517578125, 0.00341796875, 0.00860595703125, 2.3365020751953125e-05, 0.0003337860107421875, 0.0174560546875, 0.00106048583984375, 0.0137939453125, 0.0022125244140625, 6.771087646484375e-05, 0.001617431640625, 4.6193599700927734e-06, 1.1086463928222656e-05, 0.0027008056640625, 0.007781982421875, 1.4185905456542969e-05, 0.0002288818359375, 0.013916015625, 0.0003337860107421875, 9.685754776000977e-07, 0.0002765655517578125, 0.1259765625, 0.0036468505859375, 0.0025787353515625, 0.15234375, 0.0296630859375, 0.000415802001953125, 0.025634765625]}\n",
       "    )\n",
       "    </script>"
      ],
      "text/plain": [
       "<circuitsvis.utils.render.RenderedHTML at 0x7fa4c0453710>"
      ]
     },
     "metadata": {},
     "output_type": "display_data"
    },
    {
     "name": "stdout",
     "output_type": "stream",
     "text": [
      "2025-08-01 14:13:43 __main__ INFO     Layer: 34, Head: 7\n"
     ]
    },
    {
     "data": {
      "text/html": [
       "<div id=\"circuits-vis-4e3b4f3c-d2d2\" style=\"margin: 15px 0;\"/>\n",
       "    <script crossorigin type=\"module\">\n",
       "    import { render, ColoredTokens } from \"https://unpkg.com/circuitsvis@1.43.3/dist/cdn/esm.js\";\n",
       "    render(\n",
       "      \"circuits-vis-4e3b4f3c-d2d2\",\n",
       "      ColoredTokens,\n",
       "      {\"tokens\": [\"Which\", \" person\", \" from\", \" the\", \" following\", \" list\", \" has\", \" their\", \" occupation\", \" in\", \" common\", \" with\", \" Den\", \"zel\", \" Washington\", \"?\\n\", \"Options\", \":\", \" Ralph\", \" Lauren\", \",\", \" Trevor\", \" Noah\", \",\", \" L\", \"uka\", \" Don\", \"\\u010d\", \"i\\u0107\", \",\", \" Shawn\", \" Mend\", \"es\", \",\", \" Bill\", \" Gates\", \",\", \" Samuel\", \" L\", \".\", \" Jackson\", \".\\n\", \"Ans\", \":\"], \"values\": [0.037841796875, 0.0003833770751953125, 0.000965118408203125, 0.0001926422119140625, 0.0004558563232421875, 0.0004634857177734375, 0.00107574462890625, 0.000576019287109375, 0.00011014938354492188, 0.0003490447998046875, 0.00116729736328125, 0.0023956298828125, 0.00159454345703125, 0.0025787353515625, 0.00897216796875, 0.00628662109375, 0.00116729736328125, 0.0024261474609375, 0.0036468505859375, 0.0001373291015625, 0.000919342041015625, 0.004608154296875, 0.00250244140625, 0.00872802734375, 0.00262451171875, 0.000141143798828125, 0.0029449462890625, 5.030632019042969e-05, 0.00012874603271484375, 0.00689697265625, 0.0047607421875, 0.00013256072998046875, 0.00102996826171875, 0.020263671875, 0.0013427734375, 2.956390380859375e-05, 0.00167083740234375, 0.0869140625, 0.006378173828125, 0.00872802734375, 0.40234375, 0.08203125, 0.003692626953125, 0.06689453125]}\n",
       "    )\n",
       "    </script>"
      ],
      "text/plain": [
       "<circuitsvis.utils.render.RenderedHTML at 0x7fa4e0378e10>"
      ]
     },
     "metadata": {},
     "output_type": "display_data"
    },
    {
     "name": "stdout",
     "output_type": "stream",
     "text": [
      "2025-08-01 14:13:43 __main__ INFO     Layer: 35, Head: 19\n"
     ]
    },
    {
     "data": {
      "text/html": [
       "<div id=\"circuits-vis-bcb56aca-9831\" style=\"margin: 15px 0;\"/>\n",
       "    <script crossorigin type=\"module\">\n",
       "    import { render, ColoredTokens } from \"https://unpkg.com/circuitsvis@1.43.3/dist/cdn/esm.js\";\n",
       "    render(\n",
       "      \"circuits-vis-bcb56aca-9831\",\n",
       "      ColoredTokens,\n",
       "      {\"tokens\": [\"Which\", \" person\", \" from\", \" the\", \" following\", \" list\", \" has\", \" their\", \" occupation\", \" in\", \" common\", \" with\", \" Den\", \"zel\", \" Washington\", \"?\\n\", \"Options\", \":\", \" Ralph\", \" Lauren\", \",\", \" Trevor\", \" Noah\", \",\", \" L\", \"uka\", \" Don\", \"\\u010d\", \"i\\u0107\", \",\", \" Shawn\", \" Mend\", \"es\", \",\", \" Bill\", \" Gates\", \",\", \" Samuel\", \" L\", \".\", \" Jackson\", \".\\n\", \"Ans\", \":\"], \"values\": [0.00823974609375, 0.00048065185546875, 0.000675201416015625, 0.000141143798828125, 0.0001430511474609375, 0.000102996826171875, 0.00016689300537109375, 0.0003376007080078125, 0.00048065185546875, 8.821487426757812e-05, 0.000576019287109375, 0.000946044921875, 0.002593994140625, 0.0157470703125, 0.061279296875, 0.0023193359375, 8.392333984375e-05, 0.000598907470703125, 0.00244140625, 0.004425048828125, 0.0078125, 0.00408935546875, 0.1474609375, 0.0693359375, 0.0038909912109375, 0.0004405975341796875, 0.002960205078125, 0.00045013427734375, 0.00750732421875, 0.00970458984375, 0.00433349609375, 0.010498046875, 0.041015625, 0.004302978515625, 0.00162506103515625, 0.002685546875, 0.003387451171875, 0.01153564453125, 0.00958251953125, 0.001007080078125, 0.5078125, 0.0185546875, 4.4345855712890625e-05, 0.002593994140625]}\n",
       "    )\n",
       "    </script>"
      ],
      "text/plain": [
       "<circuitsvis.utils.render.RenderedHTML at 0x7fa4c0545f50>"
      ]
     },
     "metadata": {},
     "output_type": "display_data"
    },
    {
     "name": "stdout",
     "output_type": "stream",
     "text": [
      "2025-08-01 14:13:43 __main__ INFO     Layer: 39, Head: 40\n"
     ]
    },
    {
     "data": {
      "text/html": [
       "<div id=\"circuits-vis-d50c2910-a27e\" style=\"margin: 15px 0;\"/>\n",
       "    <script crossorigin type=\"module\">\n",
       "    import { render, ColoredTokens } from \"https://unpkg.com/circuitsvis@1.43.3/dist/cdn/esm.js\";\n",
       "    render(\n",
       "      \"circuits-vis-d50c2910-a27e\",\n",
       "      ColoredTokens,\n",
       "      {\"tokens\": [\"Which\", \" person\", \" from\", \" the\", \" following\", \" list\", \" has\", \" their\", \" occupation\", \" in\", \" common\", \" with\", \" Den\", \"zel\", \" Washington\", \"?\\n\", \"Options\", \":\", \" Ralph\", \" Lauren\", \",\", \" Trevor\", \" Noah\", \",\", \" L\", \"uka\", \" Don\", \"\\u010d\", \"i\\u0107\", \",\", \" Shawn\", \" Mend\", \"es\", \",\", \" Bill\", \" Gates\", \",\", \" Samuel\", \" L\", \".\", \" Jackson\", \".\\n\", \"Ans\", \":\"], \"values\": [0.0064697265625, 0.00341796875, 0.0267333984375, 0.00055694580078125, 0.00023555755615234375, 8.535385131835938e-05, 0.0072021484375, 0.0023651123046875, 0.00151824951171875, 0.0022735595703125, 0.0025787353515625, 0.01361083984375, 0.00439453125, 0.00543212890625, 0.00799560546875, 0.01153564453125, 0.00026702880859375, 0.001953125, 0.0025787353515625, 0.0001811981201171875, 0.0022430419921875, 0.00848388671875, 0.00238037109375, 0.013427734375, 0.00616455078125, 0.000823974609375, 0.0002841949462890625, 1.9073486328125e-05, 0.000507354736328125, 0.01239013671875, 0.006378173828125, 4.029273986816406e-05, 0.00106048583984375, 0.009033203125, 0.00469970703125, 0.00034332275390625, 0.00421142578125, 0.2216796875, 0.0096435546875, 0.0024566650390625, 0.439453125, 0.04150390625, 0.0022735595703125, 0.0615234375]}\n",
       "    )\n",
       "    </script>"
      ],
      "text/plain": [
       "<circuitsvis.utils.render.RenderedHTML at 0x7fa4c0545f50>"
      ]
     },
     "metadata": {},
     "output_type": "display_data"
    },
    {
     "name": "stdout",
     "output_type": "stream",
     "text": [
      "2025-08-01 14:13:44 __main__ INFO     Layer: 42, Head: 30\n"
     ]
    },
    {
     "data": {
      "text/html": [
       "<div id=\"circuits-vis-f8e79182-ee90\" style=\"margin: 15px 0;\"/>\n",
       "    <script crossorigin type=\"module\">\n",
       "    import { render, ColoredTokens } from \"https://unpkg.com/circuitsvis@1.43.3/dist/cdn/esm.js\";\n",
       "    render(\n",
       "      \"circuits-vis-f8e79182-ee90\",\n",
       "      ColoredTokens,\n",
       "      {\"tokens\": [\"Which\", \" person\", \" from\", \" the\", \" following\", \" list\", \" has\", \" their\", \" occupation\", \" in\", \" common\", \" with\", \" Den\", \"zel\", \" Washington\", \"?\\n\", \"Options\", \":\", \" Ralph\", \" Lauren\", \",\", \" Trevor\", \" Noah\", \",\", \" L\", \"uka\", \" Don\", \"\\u010d\", \"i\\u0107\", \",\", \" Shawn\", \" Mend\", \"es\", \",\", \" Bill\", \" Gates\", \",\", \" Samuel\", \" L\", \".\", \" Jackson\", \".\\n\", \"Ans\", \":\"], \"values\": [0.00469970703125, 0.003997802734375, 0.0035400390625, 0.0022430419921875, 0.0015716552734375, 0.0011138916015625, 0.004150390625, 0.004974365234375, 0.007598876953125, 0.0035400390625, 0.0067138671875, 0.0096435546875, 0.004486083984375, 0.0038299560546875, 0.01611328125, 0.00836181640625, 0.00118255615234375, 0.005157470703125, 0.00189208984375, 0.001953125, 0.0025482177734375, 0.00439453125, 0.0137939453125, 0.006805419921875, 0.007598876953125, 0.0030670166015625, 0.00738525390625, 0.00074005126953125, 0.00189208984375, 0.0115966796875, 0.00555419921875, 0.001617431640625, 0.002349853515625, 0.0123291015625, 0.003265380859375, 0.00167083740234375, 0.0067138671875, 0.037841796875, 0.059814453125, 0.003021240234375, 0.16015625, 0.0257568359375, 0.00726318359375, 0.019287109375]}\n",
       "    )\n",
       "    </script>"
      ],
      "text/plain": [
       "<circuitsvis.utils.render.RenderedHTML at 0x7fa567d8bf50>"
      ]
     },
     "metadata": {},
     "output_type": "display_data"
    },
    {
     "name": "stdout",
     "output_type": "stream",
     "text": [
      "2025-08-01 14:13:44 __main__ INFO     Layer: 47, Head: 18\n"
     ]
    },
    {
     "data": {
      "text/html": [
       "<div id=\"circuits-vis-4b96388e-e8c1\" style=\"margin: 15px 0;\"/>\n",
       "    <script crossorigin type=\"module\">\n",
       "    import { render, ColoredTokens } from \"https://unpkg.com/circuitsvis@1.43.3/dist/cdn/esm.js\";\n",
       "    render(\n",
       "      \"circuits-vis-4b96388e-e8c1\",\n",
       "      ColoredTokens,\n",
       "      {\"tokens\": [\"Which\", \" person\", \" from\", \" the\", \" following\", \" list\", \" has\", \" their\", \" occupation\", \" in\", \" common\", \" with\", \" Den\", \"zel\", \" Washington\", \"?\\n\", \"Options\", \":\", \" Ralph\", \" Lauren\", \",\", \" Trevor\", \" Noah\", \",\", \" L\", \"uka\", \" Don\", \"\\u010d\", \"i\\u0107\", \",\", \" Shawn\", \" Mend\", \"es\", \",\", \" Bill\", \" Gates\", \",\", \" Samuel\", \" L\", \".\", \" Jackson\", \".\\n\", \"Ans\", \":\"], \"values\": [0.005950927734375, 0.00750732421875, 0.00494384765625, 0.00183868408203125, 0.00081634521484375, 0.000301361083984375, 0.0089111328125, 0.004791259765625, 0.005157470703125, 0.0040283203125, 0.00150299072265625, 0.01171875, 0.002227783203125, 0.002899169921875, 0.00775146484375, 0.01019287109375, 0.00193023681640625, 0.006134033203125, 0.0017547607421875, 0.000133514404296875, 0.004791259765625, 0.00186920166015625, 0.0020599365234375, 0.01226806640625, 0.0069580078125, 0.0002498626708984375, 0.00012969970703125, 2.8014183044433594e-05, 0.000423431396484375, 0.01483154296875, 0.00494384765625, 8.630752563476562e-05, 0.0013275146484375, 0.017578125, 0.002716064453125, 0.00010395050048828125, 0.00811767578125, 0.345703125, 0.0517578125, 0.008544921875, 0.10107421875, 0.025390625, 0.004791259765625, 0.034912109375]}\n",
       "    )\n",
       "    </script>"
      ],
      "text/plain": [
       "<circuitsvis.utils.render.RenderedHTML at 0x7fa4c0544110>"
      ]
     },
     "metadata": {},
     "output_type": "display_data"
    },
    {
     "name": "stdout",
     "output_type": "stream",
     "text": [
      "2025-08-01 14:13:44 __main__ INFO     Layer: 52, Head: 58\n"
     ]
    },
    {
     "data": {
      "text/html": [
       "<div id=\"circuits-vis-bfc2b136-50a0\" style=\"margin: 15px 0;\"/>\n",
       "    <script crossorigin type=\"module\">\n",
       "    import { render, ColoredTokens } from \"https://unpkg.com/circuitsvis@1.43.3/dist/cdn/esm.js\";\n",
       "    render(\n",
       "      \"circuits-vis-bfc2b136-50a0\",\n",
       "      ColoredTokens,\n",
       "      {\"tokens\": [\"Which\", \" person\", \" from\", \" the\", \" following\", \" list\", \" has\", \" their\", \" occupation\", \" in\", \" common\", \" with\", \" Den\", \"zel\", \" Washington\", \"?\\n\", \"Options\", \":\", \" Ralph\", \" Lauren\", \",\", \" Trevor\", \" Noah\", \",\", \" L\", \"uka\", \" Don\", \"\\u010d\", \"i\\u0107\", \",\", \" Shawn\", \" Mend\", \"es\", \",\", \" Bill\", \" Gates\", \",\", \" Samuel\", \" L\", \".\", \" Jackson\", \".\\n\", \"Ans\", \":\"], \"values\": [0.004302978515625, 0.00958251953125, 0.01153564453125, 0.0016326904296875, 0.000453948974609375, 0.0002841949462890625, 0.0024871826171875, 0.00107574462890625, 0.003936767578125, 0.0038604736328125, 0.0030517578125, 0.00518798828125, 0.00286865234375, 0.006317138671875, 0.037841796875, 0.002105712890625, 0.000125885009765625, 0.00179290771484375, 0.000797271728515625, 0.000659942626953125, 0.002197265625, 0.0048828125, 0.01483154296875, 0.0030517578125, 0.0022430419921875, 0.000682830810546875, 0.0034637451171875, 0.0001621246337890625, 0.000514984130859375, 0.00286865234375, 0.00168609619140625, 0.00024318695068359375, 0.00086212158203125, 0.0031585693359375, 0.00103759765625, 0.000514984130859375, 0.00171661376953125, 0.1865234375, 0.06982421875, 0.001251220703125, 0.376953125, 0.0022430419921875, 0.000701904296875, 0.0169677734375]}\n",
       "    )\n",
       "    </script>"
      ],
      "text/plain": [
       "<circuitsvis.utils.render.RenderedHTML at 0x7fa4c0451dd0>"
      ]
     },
     "metadata": {},
     "output_type": "display_data"
    },
    {
     "data": {
      "text/plain": [
       "[PredictedToken(token=' Samuel', prob=0.71484375, logit=20.625, token_id=33007, metadata=None),\n",
       " PredictedToken(token=' The', prob=0.1591796875, logit=19.125, token_id=578, metadata=None),\n",
       " PredictedToken(token=' Den', prob=0.045654296875, logit=17.875, token_id=9973, metadata=None),\n",
       " PredictedToken(token=' Trevor', prob=0.0167236328125, logit=16.875, token_id=54651, metadata=None),\n",
       " PredictedToken(token=' S', prob=0.0147705078125, logit=16.75, token_id=328, metadata=None)]"
      ]
     },
     "execution_count": 15,
     "metadata": {},
     "output_type": "execute_result"
    }
   ],
   "source": [
    "verify = verify_head_patterns(\n",
    "    prompt=sample.prompt,\n",
    "    options=sample.options,\n",
    "    pivot=sample.subj,\n",
    "    mt=mt,\n",
    "    value_weighted=False,\n",
    "    generate_full_answer=True,\n",
    ")\n",
    "\n",
    "verify[\"predictions\"]"
   ]
  },
  {
   "cell_type": "code",
   "execution_count": 16,
   "id": "0ebe22ff",
   "metadata": {},
   "outputs": [
    {
     "name": "stdout",
     "output_type": "stream",
     "text": [
      "2025-08-01 14:14:07 __main__ DEBUG    Ralph Lauren | opt_range=(19, 21) | bare_opt_range=(4, 6) | \" Ralph Lauren\"\n",
      "2025-08-01 14:14:07 __main__ DEBUG    Trevor Noah | opt_range=(22, 24) | bare_opt_range=(4, 6) | \" Trevor Noah\"\n",
      "2025-08-01 14:14:07 __main__ DEBUG    Luka Dončić | opt_range=(25, 30) | bare_opt_range=(4, 9) | \" Luka Dončić\"\n",
      "2025-08-01 14:14:07 __main__ DEBUG    Shawn Mendes | opt_range=(31, 34) | bare_opt_range=(4, 7) | \" Shawn Mendes\"\n",
      "2025-08-01 14:14:07 __main__ DEBUG    Bill Gates | opt_range=(35, 37) | bare_opt_range=(4, 6) | \" Bill Gates\"\n",
      "2025-08-01 14:14:07 __main__ DEBUG    Samuel L. Jackson | opt_range=(38, 42) | bare_opt_range=(4, 8) | \" Samuel L. Jackson\"\n",
      "2025-08-01 14:14:14 __main__ DEBUG    Predictions: ['\" Samuel\"[33007] (p=0.711, logit=20.500)', '\" The\"[578] (p=0.159, logit=19.000)', '\" Trevor\"[54651] (p=0.040, logit=17.625)', '\" Den\"[9973] (p=0.024, logit=17.125)', '\" S\"[328] (p=0.013, logit=16.500)']\n",
      "layer=35\n"
     ]
    },
    {
     "data": {
      "text/html": [
       "<div id=\"circuits-vis-ee0de3e3-ffe5\" style=\"margin: 15px 0;\"/>\n",
       "    <script crossorigin type=\"module\">\n",
       "    import { render, ColoredTokens } from \"https://unpkg.com/circuitsvis@1.43.3/dist/cdn/esm.js\";\n",
       "    render(\n",
       "      \"circuits-vis-ee0de3e3-ffe5\",\n",
       "      ColoredTokens,\n",
       "      {\"tokens\": [\"Which\", \" person\", \" from\", \" the\", \" following\", \" list\", \" has\", \" their\", \" occupation\", \" in\", \" common\", \" with\", \" Den\", \"zel\", \" Washington\", \"?\\n\", \"Options\", \":\", \" Ralph\", \" Lauren\", \",\", \" Trevor\", \" Noah\", \",\", \" L\", \"uka\", \" Don\", \"\\u010d\", \"i\\u0107\", \",\", \" Shawn\", \" Mend\", \"es\", \",\", \" Bill\", \" Gates\", \",\", \" Samuel\", \" L\", \".\", \" Jackson\", \".\\n\", \"Ans\", \":\"], \"values\": [0.027912139892578125, 0.0058095455169677734, 0.0053399354219436646, 0.0013145431876182556, 0.005543574690818787, 0.005644842982292175, 0.010526083409786224, 0.003968626260757446, 0.007050022482872009, 0.0034040044993162155, 0.016566095873713493, 0.007791429758071899, 0.010105326771736145, 0.006422147154808044, 0.027529776096343994, 0.028007149696350098, 0.006282344460487366, 0.009091690182685852, 0.002657562494277954, 0.005301058292388916, 0.013852357864379883, 0.0031797029078006744, 0.017161831259727478, 0.013239935040473938, 0.01015155017375946, 0.001240406185388565, 0.00686752051115036, 0.0007827393710613251, 0.007264301180839539, 0.013312876224517822, 0.0028298944234848022, 0.0027715787291526794, 0.009616002440452576, 0.012747108936309814, 0.002942994236946106, 0.0059663355350494385, 0.006645306944847107, 0.007106129080057144, 0.005626998841762543, 0.007112026214599609, 0.03366892784833908, 0.051123619079589844, 0.027435503900051117, 0.04617893695831299]}\n",
       "    )\n",
       "    </script>"
      ],
      "text/plain": [
       "<circuitsvis.utils.render.RenderedHTML at 0x7fa5679b1310>"
      ]
     },
     "metadata": {},
     "output_type": "display_data"
    },
    {
     "name": "stdout",
     "output_type": "stream",
     "text": [
      "--------------------------------------------------------------------------------\n",
      "layer=47\n"
     ]
    },
    {
     "data": {
      "text/html": [
       "<div id=\"circuits-vis-8c6154b8-d59a\" style=\"margin: 15px 0;\"/>\n",
       "    <script crossorigin type=\"module\">\n",
       "    import { render, ColoredTokens } from \"https://unpkg.com/circuitsvis@1.43.3/dist/cdn/esm.js\";\n",
       "    render(\n",
       "      \"circuits-vis-8c6154b8-d59a\",\n",
       "      ColoredTokens,\n",
       "      {\"tokens\": [\"Which\", \" person\", \" from\", \" the\", \" following\", \" list\", \" has\", \" their\", \" occupation\", \" in\", \" common\", \" with\", \" Den\", \"zel\", \" Washington\", \"?\\n\", \"Options\", \":\", \" Ralph\", \" Lauren\", \",\", \" Trevor\", \" Noah\", \",\", \" L\", \"uka\", \" Don\", \"\\u010d\", \"i\\u0107\", \",\", \" Shawn\", \" Mend\", \"es\", \",\", \" Bill\", \" Gates\", \",\", \" Samuel\", \" L\", \".\", \" Jackson\", \".\\n\", \"Ans\", \":\"], \"values\": [0.0032536014914512634, 0.0011293375864624977, 0.0006338348612189293, 0.00039739999920129776, 0.0005353204905986786, 0.00040762778371572495, 0.0006271172314882278, 0.000550087308511138, 0.0012876465916633606, 0.0004132213070988655, 0.0010345801711082458, 0.0008967779576778412, 0.001189589500427246, 0.0029066279530525208, 0.0018923059105873108, 0.0023760460317134857, 0.0013579726219177246, 0.0014379844069480896, 0.0017603561282157898, 0.000865451991558075, 0.000947064720094204, 0.0012855306267738342, 0.0016935355961322784, 0.0009883688762784004, 0.0008636787533760071, 0.0008452087640762329, 0.00024757348001003265, 0.0004321373999118805, 0.0008082464337348938, 0.0012688226997852325, 0.00168667733669281, 0.0004048645496368408, 0.0008487962186336517, 0.0010964469984173775, 0.0009142495691776276, 0.0005990155041217804, 0.000714913010597229, 0.015320345759391785, 0.0016581583768129349, 0.0007683336734771729, 0.004048757255077362, 0.00638890266418457, 0.008147776126861572, 0.005369454622268677]}\n",
       "    )\n",
       "    </script>"
      ],
      "text/plain": [
       "<circuitsvis.utils.render.RenderedHTML at 0x7fa540115890>"
      ]
     },
     "metadata": {},
     "output_type": "display_data"
    },
    {
     "name": "stdout",
     "output_type": "stream",
     "text": [
      "--------------------------------------------------------------------------------\n",
      "layer=52\n"
     ]
    },
    {
     "data": {
      "text/html": [
       "<div id=\"circuits-vis-e1e31607-747b\" style=\"margin: 15px 0;\"/>\n",
       "    <script crossorigin type=\"module\">\n",
       "    import { render, ColoredTokens } from \"https://unpkg.com/circuitsvis@1.43.3/dist/cdn/esm.js\";\n",
       "    render(\n",
       "      \"circuits-vis-e1e31607-747b\",\n",
       "      ColoredTokens,\n",
       "      {\"tokens\": [\"Which\", \" person\", \" from\", \" the\", \" following\", \" list\", \" has\", \" their\", \" occupation\", \" in\", \" common\", \" with\", \" Den\", \"zel\", \" Washington\", \"?\\n\", \"Options\", \":\", \" Ralph\", \" Lauren\", \",\", \" Trevor\", \" Noah\", \",\", \" L\", \"uka\", \" Don\", \"\\u010d\", \"i\\u0107\", \",\", \" Shawn\", \" Mend\", \"es\", \",\", \" Bill\", \" Gates\", \",\", \" Samuel\", \" L\", \".\", \" Jackson\", \".\\n\", \"Ans\", \":\"], \"values\": [0.005205288529396057, 0.0022271089255809784, 0.0020273998379707336, 0.0008860304951667786, 0.0010025505907833576, 0.0008592734229750931, 0.001291424036026001, 0.0013216957449913025, 0.004895061254501343, 0.0010321233421564102, 0.002272258512675762, 0.0018074288964271545, 0.003334835171699524, 0.0031708180904388428, 0.002454710192978382, 0.009379491209983826, 0.007357396185398102, 0.005772873759269714, 0.0035676807165145874, 0.0014259913004934788, 0.0023683905601501465, 0.003546185791492462, 0.0022181756794452667, 0.0017423667013645172, 0.0016054864972829819, 0.0014520548284053802, 0.0007195509970188141, 0.0016423685010522604, 0.0023660417646169662, 0.0030368566513061523, 0.002993110567331314, 0.0005386968841776252, 0.0020073214545845985, 0.002394450828433037, 0.0017754323780536652, 0.0010320215951651335, 0.001476900652050972, 0.053600896149873734, 0.0016306964680552483, 0.001354249194264412, 0.008311066776514053, 0.01608508825302124, 0.017454877495765686, 0.01926243305206299]}\n",
       "    )\n",
       "    </script>"
      ],
      "text/plain": [
       "<circuitsvis.utils.render.RenderedHTML at 0x7fa5679b0310>"
      ]
     },
     "metadata": {},
     "output_type": "display_data"
    },
    {
     "name": "stdout",
     "output_type": "stream",
     "text": [
      "--------------------------------------------------------------------------------\n",
      "======================================================================\n",
      "2025-08-01 14:14:14 __main__ INFO     Layer: 33, Head: 45\n"
     ]
    },
    {
     "data": {
      "text/html": [
       "<div id=\"circuits-vis-6422783b-5761\" style=\"margin: 15px 0;\"/>\n",
       "    <script crossorigin type=\"module\">\n",
       "    import { render, ColoredTokens } from \"https://unpkg.com/circuitsvis@1.43.3/dist/cdn/esm.js\";\n",
       "    render(\n",
       "      \"circuits-vis-6422783b-5761\",\n",
       "      ColoredTokens,\n",
       "      {\"tokens\": [\"Which\", \" person\", \" from\", \" the\", \" following\", \" list\", \" has\", \" their\", \" occupation\", \" in\", \" common\", \" with\", \" Den\", \"zel\", \" Washington\", \"?\\n\", \"Options\", \":\", \" Ralph\", \" Lauren\", \",\", \" Trevor\", \" Noah\", \",\", \" L\", \"uka\", \" Don\", \"\\u010d\", \"i\\u0107\", \",\", \" Shawn\", \" Mend\", \"es\", \",\", \" Bill\", \" Gates\", \",\", \" Samuel\", \" L\", \".\", \" Jackson\", \".\\n\", \"Ans\", \":\"], \"values\": [0.01519775390625, 0.00154876708984375, 0.00115203857421875, 0.0002918243408203125, 0.00101470947265625, 0.0029449462890625, 0.00154876708984375, 0.001434326171875, 0.0002002716064453125, 0.0002994537353515625, 0.001678466796875, 0.00323486328125, 0.0035247802734375, 0.00958251953125, 0.010009765625, 0.00970458984375, 0.002899169921875, 0.00183868408203125, 0.006317138671875, 0.00075531005859375, 0.000606536865234375, 0.00921630859375, 0.0059814453125, 0.004486083984375, 0.000827789306640625, 0.001678466796875, 0.0020904541015625, 0.000698089599609375, 0.0006256103515625, 0.017578125, 0.0174560546875, 0.00070953369140625, 0.0015716552734375, 0.02734375, 0.003082275390625, 0.00018787384033203125, 0.0028076171875, 0.1171875, 0.00115203857421875, 0.002044677734375, 0.46484375, 0.055908203125, 0.0030364990234375, 0.01177978515625]}\n",
       "    )\n",
       "    </script>"
      ],
      "text/plain": [
       "<circuitsvis.utils.render.RenderedHTML at 0x7fa540116f50>"
      ]
     },
     "metadata": {},
     "output_type": "display_data"
    },
    {
     "name": "stdout",
     "output_type": "stream",
     "text": [
      "2025-08-01 14:14:14 __main__ INFO     Layer: 33, Head: 18\n"
     ]
    },
    {
     "data": {
      "text/html": [
       "<div id=\"circuits-vis-3698ab53-142b\" style=\"margin: 15px 0;\"/>\n",
       "    <script crossorigin type=\"module\">\n",
       "    import { render, ColoredTokens } from \"https://unpkg.com/circuitsvis@1.43.3/dist/cdn/esm.js\";\n",
       "    render(\n",
       "      \"circuits-vis-3698ab53-142b\",\n",
       "      ColoredTokens,\n",
       "      {\"tokens\": [\"Which\", \" person\", \" from\", \" the\", \" following\", \" list\", \" has\", \" their\", \" occupation\", \" in\", \" common\", \" with\", \" Den\", \"zel\", \" Washington\", \"?\\n\", \"Options\", \":\", \" Ralph\", \" Lauren\", \",\", \" Trevor\", \" Noah\", \",\", \" L\", \"uka\", \" Don\", \"\\u010d\", \"i\\u0107\", \",\", \" Shawn\", \" Mend\", \"es\", \",\", \" Bill\", \" Gates\", \",\", \" Samuel\", \" L\", \".\", \" Jackson\", \".\\n\", \"Ans\", \":\"], \"values\": [0.0146484375, 0.00872802734375, 0.005523681640625, 0.0023651123046875, 0.000576019287109375, 0.000370025634765625, 0.006317138671875, 0.00188446044921875, 0.0004405975341796875, 0.00025177001953125, 0.000270843505859375, 0.007293701171875, 0.0213623046875, 0.01361083984375, 0.050048828125, 0.0064697265625, 0.0002880096435546875, 0.0038909912109375, 0.004302978515625, 0.003662109375, 0.01416015625, 0.0118408203125, 0.0595703125, 0.08154296875, 0.002716064453125, 0.0023193359375, 0.0028533935546875, 0.00164794921875, 0.009033203125, 0.05859375, 0.007781982421875, 0.0010223388671875, 0.01214599609375, 0.01806640625, 0.00188446044921875, 0.0014801025390625, 0.006744384765625, 0.0306396484375, 0.006988525390625, 0.00191497802734375, 0.412109375, 0.01123046875, 0.00018024444580078125, 0.005340576171875]}\n",
       "    )\n",
       "    </script>"
      ],
      "text/plain": [
       "<circuitsvis.utils.render.RenderedHTML at 0x7fa540149410>"
      ]
     },
     "metadata": {},
     "output_type": "display_data"
    },
    {
     "name": "stdout",
     "output_type": "stream",
     "text": [
      "2025-08-01 14:14:14 __main__ INFO     Layer: 34, Head: 1\n"
     ]
    },
    {
     "data": {
      "text/html": [
       "<div id=\"circuits-vis-b4964420-50a3\" style=\"margin: 15px 0;\"/>\n",
       "    <script crossorigin type=\"module\">\n",
       "    import { render, ColoredTokens } from \"https://unpkg.com/circuitsvis@1.43.3/dist/cdn/esm.js\";\n",
       "    render(\n",
       "      \"circuits-vis-b4964420-50a3\",\n",
       "      ColoredTokens,\n",
       "      {\"tokens\": [\"Which\", \" person\", \" from\", \" the\", \" following\", \" list\", \" has\", \" their\", \" occupation\", \" in\", \" common\", \" with\", \" Den\", \"zel\", \" Washington\", \"?\\n\", \"Options\", \":\", \" Ralph\", \" Lauren\", \",\", \" Trevor\", \" Noah\", \",\", \" L\", \"uka\", \" Don\", \"\\u010d\", \"i\\u0107\", \",\", \" Shawn\", \" Mend\", \"es\", \",\", \" Bill\", \" Gates\", \",\", \" Samuel\", \" L\", \".\", \" Jackson\", \".\\n\", \"Ans\", \":\"], \"values\": [0.0166015625, 0.0012359619140625, 0.0035552978515625, 0.00019550323486328125, 0.00042724609375, 0.0004024505615234375, 0.00188446044921875, 0.00147247314453125, 0.0001049041748046875, 0.000514984130859375, 0.00107574462890625, 0.005401611328125, 0.00138092041015625, 0.0012969970703125, 0.0057373046875, 0.0059814453125, 0.0003604888916015625, 0.000812530517578125, 0.000621795654296875, 5.3942203521728516e-06, 0.00010156631469726562, 0.00909423828125, 0.0011444091796875, 0.013671875, 0.0016937255859375, 2.4080276489257812e-05, 0.0011444091796875, 2.4586915969848633e-06, 7.808208465576172e-06, 0.002593994140625, 0.004119873046875, 9.417533874511719e-06, 0.0001430511474609375, 0.0096435546875, 0.000484466552734375, 3.781169652938843e-07, 0.0001678466796875, 0.1494140625, 0.005096435546875, 0.004119873046875, 0.5390625, 0.034912109375, 0.0003376007080078125, 0.034423828125]}\n",
       "    )\n",
       "    </script>"
      ],
      "text/plain": [
       "<circuitsvis.utils.render.RenderedHTML at 0x7fa5679ae550>"
      ]
     },
     "metadata": {},
     "output_type": "display_data"
    },
    {
     "name": "stdout",
     "output_type": "stream",
     "text": [
      "2025-08-01 14:14:15 __main__ INFO     Layer: 34, Head: 6\n"
     ]
    },
    {
     "data": {
      "text/html": [
       "<div id=\"circuits-vis-1e79b495-d1f6\" style=\"margin: 15px 0;\"/>\n",
       "    <script crossorigin type=\"module\">\n",
       "    import { render, ColoredTokens } from \"https://unpkg.com/circuitsvis@1.43.3/dist/cdn/esm.js\";\n",
       "    render(\n",
       "      \"circuits-vis-1e79b495-d1f6\",\n",
       "      ColoredTokens,\n",
       "      {\"tokens\": [\"Which\", \" person\", \" from\", \" the\", \" following\", \" list\", \" has\", \" their\", \" occupation\", \" in\", \" common\", \" with\", \" Den\", \"zel\", \" Washington\", \"?\\n\", \"Options\", \":\", \" Ralph\", \" Lauren\", \",\", \" Trevor\", \" Noah\", \",\", \" L\", \"uka\", \" Don\", \"\\u010d\", \"i\\u0107\", \",\", \" Shawn\", \" Mend\", \"es\", \",\", \" Bill\", \" Gates\", \",\", \" Samuel\", \" L\", \".\", \" Jackson\", \".\\n\", \"Ans\", \":\"], \"values\": [0.0260009765625, 0.00072479248046875, 0.002105712890625, 0.000514984130859375, 0.00103759765625, 0.000759124755859375, 0.00191497802734375, 0.0026092529296875, 6.771087646484375e-05, 0.000659942626953125, 0.0010528564453125, 0.004180908203125, 0.0011444091796875, 0.00168609619140625, 0.0054931640625, 0.006378173828125, 0.00069427490234375, 0.0028228759765625, 0.0020751953125, 3.981590270996094e-05, 0.000499725341796875, 0.01953125, 0.00153350830078125, 0.0205078125, 0.0022430419921875, 6.341934204101562e-05, 0.0011749267578125, 4.887580871582031e-06, 9.715557098388672e-06, 0.0030975341796875, 0.00946044921875, 2.0623207092285156e-05, 0.00021457672119140625, 0.01458740234375, 0.000797271728515625, 1.4007091522216797e-06, 0.00031280517578125, 0.11572265625, 0.00677490234375, 0.003631591796875, 0.140625, 0.0308837890625, 0.0003643035888671875, 0.0274658203125]}\n",
       "    )\n",
       "    </script>"
      ],
      "text/plain": [
       "<circuitsvis.utils.render.RenderedHTML at 0x7fa540178350>"
      ]
     },
     "metadata": {},
     "output_type": "display_data"
    },
    {
     "name": "stdout",
     "output_type": "stream",
     "text": [
      "2025-08-01 14:14:15 __main__ INFO     Layer: 34, Head: 7\n"
     ]
    },
    {
     "data": {
      "text/html": [
       "<div id=\"circuits-vis-b822c6aa-513b\" style=\"margin: 15px 0;\"/>\n",
       "    <script crossorigin type=\"module\">\n",
       "    import { render, ColoredTokens } from \"https://unpkg.com/circuitsvis@1.43.3/dist/cdn/esm.js\";\n",
       "    render(\n",
       "      \"circuits-vis-b822c6aa-513b\",\n",
       "      ColoredTokens,\n",
       "      {\"tokens\": [\"Which\", \" person\", \" from\", \" the\", \" following\", \" list\", \" has\", \" their\", \" occupation\", \" in\", \" common\", \" with\", \" Den\", \"zel\", \" Washington\", \"?\\n\", \"Options\", \":\", \" Ralph\", \" Lauren\", \",\", \" Trevor\", \" Noah\", \",\", \" L\", \"uka\", \" Don\", \"\\u010d\", \"i\\u0107\", \",\", \" Shawn\", \" Mend\", \"es\", \",\", \" Bill\", \" Gates\", \",\", \" Samuel\", \" L\", \".\", \" Jackson\", \".\\n\", \"Ans\", \":\"], \"values\": [0.035888671875, 0.0003299713134765625, 0.0007781982421875, 0.00016021728515625, 0.00037384033203125, 0.00037384033203125, 0.000896453857421875, 0.00049591064453125, 8.869171142578125e-05, 0.0002727508544921875, 0.00096893310546875, 0.001953125, 0.00128173828125, 0.0024261474609375, 0.008544921875, 0.00543212890625, 0.00093841552734375, 0.0020751953125, 0.00262451171875, 0.00019359588623046875, 0.00116729736328125, 0.00537109375, 0.0038909912109375, 0.0128173828125, 0.002471923828125, 0.00016021728515625, 0.0023956298828125, 5.555152893066406e-05, 0.0001373291015625, 0.007720947265625, 0.00592041015625, 0.00018787384033203125, 0.00116729736328125, 0.0216064453125, 0.002593994140625, 4.887580871582031e-05, 0.001983642578125, 0.08837890625, 0.00933837890625, 0.00848388671875, 0.396484375, 0.083984375, 0.0032806396484375, 0.068359375]}\n",
       "    )\n",
       "    </script>"
      ],
      "text/plain": [
       "<circuitsvis.utils.render.RenderedHTML at 0x7fa5679a02d0>"
      ]
     },
     "metadata": {},
     "output_type": "display_data"
    },
    {
     "name": "stdout",
     "output_type": "stream",
     "text": [
      "2025-08-01 14:14:15 __main__ INFO     Layer: 35, Head: 19\n"
     ]
    },
    {
     "data": {
      "text/html": [
       "<div id=\"circuits-vis-592bd720-0a92\" style=\"margin: 15px 0;\"/>\n",
       "    <script crossorigin type=\"module\">\n",
       "    import { render, ColoredTokens } from \"https://unpkg.com/circuitsvis@1.43.3/dist/cdn/esm.js\";\n",
       "    render(\n",
       "      \"circuits-vis-592bd720-0a92\",\n",
       "      ColoredTokens,\n",
       "      {\"tokens\": [\"Which\", \" person\", \" from\", \" the\", \" following\", \" list\", \" has\", \" their\", \" occupation\", \" in\", \" common\", \" with\", \" Den\", \"zel\", \" Washington\", \"?\\n\", \"Options\", \":\", \" Ralph\", \" Lauren\", \",\", \" Trevor\", \" Noah\", \",\", \" L\", \"uka\", \" Don\", \"\\u010d\", \"i\\u0107\", \",\", \" Shawn\", \" Mend\", \"es\", \",\", \" Bill\", \" Gates\", \",\", \" Samuel\", \" L\", \".\", \" Jackson\", \".\\n\", \"Ans\", \":\"], \"values\": [0.00775146484375, 0.000385284423828125, 0.000499725341796875, 0.00011014938354492188, 0.00011014938354492188, 7.343292236328125e-05, 0.00012302398681640625, 0.0002765655517578125, 0.0003566741943359375, 6.580352783203125e-05, 0.000499725341796875, 0.000789642333984375, 0.001983642578125, 0.0164794921875, 0.055419921875, 0.00191497802734375, 6.198883056640625e-05, 0.0004749298095703125, 0.000881195068359375, 0.005615234375, 0.01214599609375, 0.005859375, 0.181640625, 0.0791015625, 0.0037078857421875, 0.00052642822265625, 0.0029144287109375, 0.000446319580078125, 0.00653076171875, 0.007537841796875, 0.005157470703125, 0.012451171875, 0.03515625, 0.0038299560546875, 0.00213623046875, 0.002655029296875, 0.0030364990234375, 0.0113525390625, 0.0172119140625, 0.00055694580078125, 0.462890625, 0.0155029296875, 3.5762786865234375e-05, 0.002349853515625]}\n",
       "    )\n",
       "    </script>"
      ],
      "text/plain": [
       "<circuitsvis.utils.render.RenderedHTML at 0x7fa5679ae550>"
      ]
     },
     "metadata": {},
     "output_type": "display_data"
    },
    {
     "name": "stdout",
     "output_type": "stream",
     "text": [
      "2025-08-01 14:14:15 __main__ INFO     Layer: 39, Head: 40\n"
     ]
    },
    {
     "data": {
      "text/html": [
       "<div id=\"circuits-vis-c43ac9ba-2940\" style=\"margin: 15px 0;\"/>\n",
       "    <script crossorigin type=\"module\">\n",
       "    import { render, ColoredTokens } from \"https://unpkg.com/circuitsvis@1.43.3/dist/cdn/esm.js\";\n",
       "    render(\n",
       "      \"circuits-vis-c43ac9ba-2940\",\n",
       "      ColoredTokens,\n",
       "      {\"tokens\": [\"Which\", \" person\", \" from\", \" the\", \" following\", \" list\", \" has\", \" their\", \" occupation\", \" in\", \" common\", \" with\", \" Den\", \"zel\", \" Washington\", \"?\\n\", \"Options\", \":\", \" Ralph\", \" Lauren\", \",\", \" Trevor\", \" Noah\", \",\", \" L\", \"uka\", \" Don\", \"\\u010d\", \"i\\u0107\", \",\", \" Shawn\", \" Mend\", \"es\", \",\", \" Bill\", \" Gates\", \",\", \" Samuel\", \" L\", \".\", \" Jackson\", \".\\n\", \"Ans\", \":\"], \"values\": [0.004364013671875, 0.0022430419921875, 0.0172119140625, 0.000396728515625, 0.000186920166015625, 7.43865966796875e-05, 0.0042724609375, 0.00141143798828125, 0.000865936279296875, 0.00128173828125, 0.0018310546875, 0.00872802734375, 0.0026702880859375, 0.003509521484375, 0.005218505859375, 0.00811767578125, 0.0002288818359375, 0.0014495849609375, 0.00141143798828125, 0.0002155303955078125, 0.002044677734375, 0.01129150390625, 0.0035858154296875, 0.0133056640625, 0.00457763671875, 0.000865936279296875, 0.0002899169921875, 2.1338462829589844e-05, 0.0004711151123046875, 0.009765625, 0.0068359375, 5.269050598144531e-05, 0.00102996826171875, 0.006805419921875, 0.005584716796875, 0.000408172607421875, 0.00390625, 0.205078125, 0.0086669921875, 0.00201416015625, 0.515625, 0.03857421875, 0.0015411376953125, 0.052978515625]}\n",
       "    )\n",
       "    </script>"
      ],
      "text/plain": [
       "<circuitsvis.utils.render.RenderedHTML at 0x7fa56796e550>"
      ]
     },
     "metadata": {},
     "output_type": "display_data"
    },
    {
     "name": "stdout",
     "output_type": "stream",
     "text": [
      "2025-08-01 14:14:15 __main__ INFO     Layer: 42, Head: 30\n"
     ]
    },
    {
     "data": {
      "text/html": [
       "<div id=\"circuits-vis-57833093-ae2a\" style=\"margin: 15px 0;\"/>\n",
       "    <script crossorigin type=\"module\">\n",
       "    import { render, ColoredTokens } from \"https://unpkg.com/circuitsvis@1.43.3/dist/cdn/esm.js\";\n",
       "    render(\n",
       "      \"circuits-vis-57833093-ae2a\",\n",
       "      ColoredTokens,\n",
       "      {\"tokens\": [\"Which\", \" person\", \" from\", \" the\", \" following\", \" list\", \" has\", \" their\", \" occupation\", \" in\", \" common\", \" with\", \" Den\", \"zel\", \" Washington\", \"?\\n\", \"Options\", \":\", \" Ralph\", \" Lauren\", \",\", \" Trevor\", \" Noah\", \",\", \" L\", \"uka\", \" Don\", \"\\u010d\", \"i\\u0107\", \",\", \" Shawn\", \" Mend\", \"es\", \",\", \" Bill\", \" Gates\", \",\", \" Samuel\", \" L\", \".\", \" Jackson\", \".\\n\", \"Ans\", \":\"], \"values\": [0.00396728515625, 0.003387451171875, 0.00299072265625, 0.00201416015625, 0.0013885498046875, 0.00098419189453125, 0.003173828125, 0.0040283203125, 0.005828857421875, 0.0028533935546875, 0.0054931640625, 0.00799560546875, 0.004150390625, 0.003387451171875, 0.01422119140625, 0.007049560546875, 0.00101470947265625, 0.004608154296875, 0.003387451171875, 0.003082275390625, 0.0023193359375, 0.00640869140625, 0.0213623046875, 0.007049560546875, 0.0068359375, 0.003387451171875, 0.00738525390625, 0.00081634521484375, 0.00183868408203125, 0.01025390625, 0.006622314453125, 0.00201416015625, 0.0026702880859375, 0.01043701171875, 0.0037078857421875, 0.0017852783203125, 0.006134033203125, 0.04345703125, 0.0712890625, 0.0021209716796875, 0.18359375, 0.022705078125, 0.005401611328125, 0.0174560546875]}\n",
       "    )\n",
       "    </script>"
      ],
      "text/plain": [
       "<circuitsvis.utils.render.RenderedHTML at 0x7fa56796e550>"
      ]
     },
     "metadata": {},
     "output_type": "display_data"
    },
    {
     "name": "stdout",
     "output_type": "stream",
     "text": [
      "2025-08-01 14:14:15 __main__ INFO     Layer: 47, Head: 18\n"
     ]
    },
    {
     "data": {
      "text/html": [
       "<div id=\"circuits-vis-ac261570-89ed\" style=\"margin: 15px 0;\"/>\n",
       "    <script crossorigin type=\"module\">\n",
       "    import { render, ColoredTokens } from \"https://unpkg.com/circuitsvis@1.43.3/dist/cdn/esm.js\";\n",
       "    render(\n",
       "      \"circuits-vis-ac261570-89ed\",\n",
       "      ColoredTokens,\n",
       "      {\"tokens\": [\"Which\", \" person\", \" from\", \" the\", \" following\", \" list\", \" has\", \" their\", \" occupation\", \" in\", \" common\", \" with\", \" Den\", \"zel\", \" Washington\", \"?\\n\", \"Options\", \":\", \" Ralph\", \" Lauren\", \",\", \" Trevor\", \" Noah\", \",\", \" L\", \"uka\", \" Don\", \"\\u010d\", \"i\\u0107\", \",\", \" Shawn\", \" Mend\", \"es\", \",\", \" Bill\", \" Gates\", \",\", \" Samuel\", \" L\", \".\", \" Jackson\", \".\\n\", \"Ans\", \":\"], \"values\": [0.00555419921875, 0.00701904296875, 0.00445556640625, 0.00174713134765625, 0.000797271728515625, 0.0002765655517578125, 0.0064697265625, 0.003631591796875, 0.004180908203125, 0.0031585693359375, 0.0011444091796875, 0.0101318359375, 0.00238037109375, 0.0031585693359375, 0.00628662109375, 0.00921630859375, 0.00201416015625, 0.00628662109375, 0.003936767578125, 0.0002593994140625, 0.005462646484375, 0.004119873046875, 0.003692626953125, 0.013916015625, 0.006195068359375, 0.0002593994140625, 0.00015735626220703125, 3.62396240234375e-05, 0.000514984130859375, 0.01385498046875, 0.00628662109375, 0.0001049041748046875, 0.00174713134765625, 0.01519775390625, 0.0029144287109375, 0.0001392364501953125, 0.008056640625, 0.376953125, 0.042236328125, 0.005279541015625, 0.09912109375, 0.022705078125, 0.004180908203125, 0.0341796875]}\n",
       "    )\n",
       "    </script>"
      ],
      "text/plain": [
       "<circuitsvis.utils.render.RenderedHTML at 0x7fa56796e550>"
      ]
     },
     "metadata": {},
     "output_type": "display_data"
    },
    {
     "name": "stdout",
     "output_type": "stream",
     "text": [
      "2025-08-01 14:14:15 __main__ INFO     Layer: 52, Head: 58\n"
     ]
    },
    {
     "data": {
      "text/html": [
       "<div id=\"circuits-vis-ddb537da-a8ef\" style=\"margin: 15px 0;\"/>\n",
       "    <script crossorigin type=\"module\">\n",
       "    import { render, ColoredTokens } from \"https://unpkg.com/circuitsvis@1.43.3/dist/cdn/esm.js\";\n",
       "    render(\n",
       "      \"circuits-vis-ddb537da-a8ef\",\n",
       "      ColoredTokens,\n",
       "      {\"tokens\": [\"Which\", \" person\", \" from\", \" the\", \" following\", \" list\", \" has\", \" their\", \" occupation\", \" in\", \" common\", \" with\", \" Den\", \"zel\", \" Washington\", \"?\\n\", \"Options\", \":\", \" Ralph\", \" Lauren\", \",\", \" Trevor\", \" Noah\", \",\", \" L\", \"uka\", \" Don\", \"\\u010d\", \"i\\u0107\", \",\", \" Shawn\", \" Mend\", \"es\", \",\", \" Bill\", \" Gates\", \",\", \" Samuel\", \" L\", \".\", \" Jackson\", \".\\n\", \"Ans\", \":\"], \"values\": [0.004180908203125, 0.0087890625, 0.0107421875, 0.00176239013671875, 0.0004749298095703125, 0.0002613067626953125, 0.00182342529296875, 0.00079345703125, 0.003509521484375, 0.0032958984375, 0.0024871826171875, 0.004638671875, 0.0027313232421875, 0.005096435546875, 0.0284423828125, 0.0020294189453125, 0.0001697540283203125, 0.0019073486328125, 0.0030059814453125, 0.00146484375, 0.0024871826171875, 0.01055908203125, 0.0296630859375, 0.0033416748046875, 0.0019378662109375, 0.000759124755859375, 0.004241943359375, 0.000217437744140625, 0.00064849853515625, 0.002685546875, 0.0019683837890625, 0.000347137451171875, 0.0010833740234375, 0.0026092529296875, 0.00083160400390625, 0.000591278076171875, 0.00157928466796875, 0.181640625, 0.0634765625, 0.00103759765625, 0.357421875, 0.00225830078125, 0.000713348388671875, 0.016357421875]}\n",
       "    )\n",
       "    </script>"
      ],
      "text/plain": [
       "<circuitsvis.utils.render.RenderedHTML at 0x7fa5679b18d0>"
      ]
     },
     "metadata": {},
     "output_type": "display_data"
    },
    {
     "data": {
      "text/plain": [
       "[PredictedToken(token=' Samuel', prob=0.7109375, logit=20.5, token_id=33007, metadata=None),\n",
       " PredictedToken(token=' The', prob=0.1591796875, logit=19.0, token_id=578, metadata=None),\n",
       " PredictedToken(token=' Trevor', prob=0.0400390625, logit=17.625, token_id=54651, metadata=None),\n",
       " PredictedToken(token=' Den', prob=0.0242919921875, logit=17.125, token_id=9973, metadata=None),\n",
       " PredictedToken(token=' S', prob=0.01300048828125, logit=16.5, token_id=328, metadata=None)]"
      ]
     },
     "execution_count": 16,
     "metadata": {},
     "output_type": "execute_result"
    }
   ],
   "source": [
    "verify = verify_head_patterns(\n",
    "    prompt=sample.prompt,\n",
    "    options=sample.options,\n",
    "    pivot=sample.subj,\n",
    "    mt=mt,\n",
    "    value_weighted=False,\n",
    "    generate_full_answer=False,\n",
    "    ablate_possible_ans_info_from_options=True,\n",
    ")\n",
    "\n",
    "verify[\"predictions\"]"
   ]
  },
  {
   "cell_type": "code",
   "execution_count": 17,
   "id": "1ad8689e",
   "metadata": {},
   "outputs": [
    {
     "name": "stdout",
     "output_type": "stream",
     "text": [
      "1. O'Donnell, Norah\n",
      "2. Roberts, Julia\n",
      "3. McIlroy, Rory\n",
      "4. Kvitová, Petra\n",
      "5. Louboutin, Christian\n",
      "6. Anderson, Wes\n",
      "Who among these people mentioned above is by profession a actor?\n",
      "Answer:  >> \n",
      "2025-08-01 14:16:21 __main__ DEBUG    Generated full answer: \" Julia Roberts is an American actress and producer. She is one of the most successful actresses in Hollywood, known for her iconic roles in movies such as \"\"\n",
      "2025-08-01 14:16:22 __main__ DEBUG    Predictions: ['\" Julia\"[40394] (p=0.332, logit=19.625)', '\" Roberts\"[31248] (p=0.260, logit=19.375)', '\" \"[220] (p=0.139, logit=18.750)', '\" (\"[320] (p=0.051, logit=17.750)', '\" Option\"[7104] (p=0.045, logit=17.625)']\n",
      "layer=35\n"
     ]
    },
    {
     "data": {
      "text/html": [
       "<div id=\"circuits-vis-d66c211b-3aa6\" style=\"margin: 15px 0;\"/>\n",
       "    <script crossorigin type=\"module\">\n",
       "    import { render, ColoredTokens } from \"https://unpkg.com/circuitsvis@1.43.3/dist/cdn/esm.js\";\n",
       "    render(\n",
       "      \"circuits-vis-d66c211b-3aa6\",\n",
       "      ColoredTokens,\n",
       "      {\"tokens\": [\"1\", \".\", \" O\", \"'D\", \"onn\", \"ell\", \",\", \" Nor\", \"ah\", \"\\n\", \"2\", \".\", \" Roberts\", \",\", \" Julia\", \"\\n\", \"3\", \".\", \" Mc\", \"Il\", \"roy\", \",\", \" Rory\", \"\\n\", \"4\", \".\", \" K\", \"vit\", \"ov\\u00e1\", \",\", \" Petra\", \"\\n\", \"5\", \".\", \" L\", \"oub\", \"out\", \"in\", \",\", \" Christian\", \"\\n\", \"6\", \".\", \" Anderson\", \",\", \" Wes\", \"\\n\", \"Who\", \" among\", \" these\", \" people\", \" mentioned\", \" above\", \" is\", \" by\", \" profession\", \" a\", \" actor\", \"?\\n\", \"Answer\", \":\"], \"values\": [0.020537137985229492, 0.004213258624076843, 0.0016117468476295471, 0.0017377957701683044, 0.001714404672384262, 0.0014304891228675842, 0.004085961729288101, 0.000997152179479599, 0.00607028603553772, 0.007215708494186401, 0.0204143226146698, 0.00673241913318634, 0.003531426191329956, 0.002643425017595291, 0.027591116726398468, 0.053831636905670166, 0.00891705323010683, 0.028026655316352844, 0.003405969589948654, 0.0014595594257116318, 0.001809641718864441, 0.002920057624578476, 0.006314761936664581, 0.010552048683166504, 0.008541904389858246, 0.004269659519195557, 0.0021551400423049927, 0.0008286796510219574, 0.0016577988862991333, 0.0015216544270515442, 0.00141216441988945, 0.0025035589933395386, 0.002997376024723053, 0.0018410347402095795, 0.003184933215379715, 0.0006750281900167465, 0.0008240416646003723, 0.0017294101417064667, 0.0009409114718437195, 0.0017751120030879974, 0.002274557948112488, 0.006578132510185242, 0.0030070245265960693, 0.0012027323246002197, 0.002459213137626648, 0.009159930050373077, 0.00915246456861496, 0.009720325469970703, 0.006349029019474983, 0.007343843579292297, 0.003119494765996933, 0.0028099361807107925, 0.006424548104405403, 0.004696585237979889, 0.001938173547387123, 0.006665253546088934, 0.0037296563386917114, 0.0234643816947937, 0.02784109115600586, 0.021344095468521118, 0.034137189388275146]}\n",
       "    )\n",
       "    </script>"
      ],
      "text/plain": [
       "<circuitsvis.utils.render.RenderedHTML at 0x7fa4a01c3310>"
      ]
     },
     "metadata": {},
     "output_type": "display_data"
    },
    {
     "name": "stdout",
     "output_type": "stream",
     "text": [
      "--------------------------------------------------------------------------------\n",
      "layer=47\n"
     ]
    },
    {
     "data": {
      "text/html": [
       "<div id=\"circuits-vis-64d0a11d-6ea5\" style=\"margin: 15px 0;\"/>\n",
       "    <script crossorigin type=\"module\">\n",
       "    import { render, ColoredTokens } from \"https://unpkg.com/circuitsvis@1.43.3/dist/cdn/esm.js\";\n",
       "    render(\n",
       "      \"circuits-vis-64d0a11d-6ea5\",\n",
       "      ColoredTokens,\n",
       "      {\"tokens\": [\"1\", \".\", \" O\", \"'D\", \"onn\", \"ell\", \",\", \" Nor\", \"ah\", \"\\n\", \"2\", \".\", \" Roberts\", \",\", \" Julia\", \"\\n\", \"3\", \".\", \" Mc\", \"Il\", \"roy\", \",\", \" Rory\", \"\\n\", \"4\", \".\", \" K\", \"vit\", \"ov\\u00e1\", \",\", \" Petra\", \"\\n\", \"5\", \".\", \" L\", \"oub\", \"out\", \"in\", \",\", \" Christian\", \"\\n\", \"6\", \".\", \" Anderson\", \",\", \" Wes\", \"\\n\", \"Who\", \" among\", \" these\", \" people\", \" mentioned\", \" above\", \" is\", \" by\", \" profession\", \" a\", \" actor\", \"?\\n\", \"Answer\", \":\"], \"values\": [0.0017109587788581848, 0.0010924804955720901, 0.000660591758787632, 0.00041895918548107147, 0.00037796515971422195, 0.00046836957335472107, 0.000391889363527298, 0.00047864625230431557, 0.0009642411023378372, 0.001774221658706665, 0.001384667120873928, 0.000552009791135788, 0.01788025163114071, 0.003200664184987545, 0.004575623665004969, 0.0035487543791532516, 0.0013263826258480549, 0.0017544911243021488, 0.0003380505368113518, 0.00014450715389102697, 0.00016190216410905123, 0.00021432212088257074, 0.0006983308121562004, 0.0012816311791539192, 0.0009407037869095802, 0.0007044498343020678, 0.00044064479880034924, 0.00017826911062002182, 0.00030695321038365364, 0.00020111154299229383, 0.0003008185885846615, 0.0004931129515171051, 0.0003121858462691307, 0.0004818495362997055, 0.0004768051439896226, 0.00018234271556138992, 6.066937930881977e-05, 0.0002528224140405655, 7.40191899240017e-05, 0.00030264630913734436, 0.00025768112391233444, 0.000861563254147768, 0.0004574265331029892, 0.0004789009690284729, 0.0011435868218541145, 0.0007416419684886932, 0.0004009213298559189, 0.0016333796083927155, 0.000851157121360302, 0.0007179789245128632, 0.0005216803401708603, 0.0006945692002773285, 0.0007138699293136597, 0.0006178654730319977, 0.0004144664853811264, 0.0014589522033929825, 0.0005413098260760307, 0.0024122465401887894, 0.008498281240463257, 0.009557768702507019, 0.00272996723651886]}\n",
       "    )\n",
       "    </script>"
      ],
      "text/plain": [
       "<circuitsvis.utils.render.RenderedHTML at 0x7fa4a01c0d50>"
      ]
     },
     "metadata": {},
     "output_type": "display_data"
    },
    {
     "name": "stdout",
     "output_type": "stream",
     "text": [
      "--------------------------------------------------------------------------------\n",
      "layer=52\n"
     ]
    },
    {
     "data": {
      "text/html": [
       "<div id=\"circuits-vis-ea7b2e8b-2ec2\" style=\"margin: 15px 0;\"/>\n",
       "    <script crossorigin type=\"module\">\n",
       "    import { render, ColoredTokens } from \"https://unpkg.com/circuitsvis@1.43.3/dist/cdn/esm.js\";\n",
       "    render(\n",
       "      \"circuits-vis-ea7b2e8b-2ec2\",\n",
       "      ColoredTokens,\n",
       "      {\"tokens\": [\"1\", \".\", \" O\", \"'D\", \"onn\", \"ell\", \",\", \" Nor\", \"ah\", \"\\n\", \"2\", \".\", \" Roberts\", \",\", \" Julia\", \"\\n\", \"3\", \".\", \" Mc\", \"Il\", \"roy\", \",\", \" Rory\", \"\\n\", \"4\", \".\", \" K\", \"vit\", \"ov\\u00e1\", \",\", \" Petra\", \"\\n\", \"5\", \".\", \" L\", \"oub\", \"out\", \"in\", \",\", \" Christian\", \"\\n\", \"6\", \".\", \" Anderson\", \",\", \" Wes\", \"\\n\", \"Who\", \" among\", \" these\", \" people\", \" mentioned\", \" above\", \" is\", \" by\", \" profession\", \" a\", \" actor\", \"?\\n\", \"Answer\", \":\"], \"values\": [0.003816939890384674, 0.003700053319334984, 0.0033019687980413437, 0.001351410523056984, 0.0009294860064983368, 0.0015438022091984749, 0.0017329724505543709, 0.002750679850578308, 0.002658311277627945, 0.005074270069599152, 0.004058606922626495, 0.0017315074801445007, 0.012210091575980186, 0.003594429697841406, 0.014565510675311089, 0.002686895430088043, 0.001715038437396288, 0.0038294270634651184, 0.0006411857903003693, 0.0002593160606920719, 0.00033232150599360466, 0.0005990383215248585, 0.0014085210859775543, 0.0015852730721235275, 0.0024468842893838882, 0.0015861410647630692, 0.0006070728413760662, 0.00036185234785079956, 0.0018694372847676277, 0.0005852505564689636, 0.0006631845608353615, 0.0007852092385292053, 0.0009603728540241718, 0.0014088591560721397, 0.0009055332047864795, 0.00029378593899309635, 0.00010058755287900567, 0.00034626456908881664, 0.00023489270824939013, 0.00046717002987861633, 0.00048135221004486084, 0.0017773089930415154, 0.0013718493282794952, 0.0005422304384410381, 0.0011192015372216702, 0.001802278682589531, 0.0007375171408057213, 0.003816012293100357, 0.002578217536211014, 0.0020379964262247086, 0.0013822847977280617, 0.0014020823873579502, 0.0030812625773251057, 0.001375218853354454, 0.0008043451234698296, 0.0019336901605129242, 0.0013768943026661873, 0.0051104165613651276, 0.020870961248874664, 0.02183418720960617, 0.023004021495580673]}\n",
       "    )\n",
       "    </script>"
      ],
      "text/plain": [
       "<circuitsvis.utils.render.RenderedHTML at 0x7fa4e05ab650>"
      ]
     },
     "metadata": {},
     "output_type": "display_data"
    },
    {
     "name": "stdout",
     "output_type": "stream",
     "text": [
      "--------------------------------------------------------------------------------\n",
      "======================================================================\n",
      "2025-08-01 14:16:22 __main__ INFO     Layer: 33, Head: 45\n"
     ]
    },
    {
     "data": {
      "text/html": [
       "<div id=\"circuits-vis-fd551fcf-b6f2\" style=\"margin: 15px 0;\"/>\n",
       "    <script crossorigin type=\"module\">\n",
       "    import { render, ColoredTokens } from \"https://unpkg.com/circuitsvis@1.43.3/dist/cdn/esm.js\";\n",
       "    render(\n",
       "      \"circuits-vis-fd551fcf-b6f2\",\n",
       "      ColoredTokens,\n",
       "      {\"tokens\": [\"1\", \".\", \" O\", \"'D\", \"onn\", \"ell\", \",\", \" Nor\", \"ah\", \"\\n\", \"2\", \".\", \" Roberts\", \",\", \" Julia\", \"\\n\", \"3\", \".\", \" Mc\", \"Il\", \"roy\", \",\", \" Rory\", \"\\n\", \"4\", \".\", \" K\", \"vit\", \"ov\\u00e1\", \",\", \" Petra\", \"\\n\", \"5\", \".\", \" L\", \"oub\", \"out\", \"in\", \",\", \" Christian\", \"\\n\", \"6\", \".\", \" Anderson\", \",\", \" Wes\", \"\\n\", \"Who\", \" among\", \" these\", \" people\", \" mentioned\", \" above\", \" is\", \" by\", \" profession\", \" a\", \" actor\", \"?\\n\", \"Answer\", \":\"], \"values\": [0.034423828125, 0.003326416015625, 0.0022430419921875, 0.006439208984375, 0.004547119140625, 0.003814697265625, 0.01519775390625, 0.0025787353515625, 0.0115966796875, 0.0126953125, 0.01202392578125, 0.01385498046875, 0.029296875, 0.033447265625, 0.10498046875, 0.06787109375, 0.005462646484375, 0.0262451171875, 0.0174560546875, 0.01129150390625, 0.005615234375, 0.00897216796875, 0.00433349609375, 0.0106201171875, 0.006805419921875, 0.00823974609375, 0.005035400390625, 0.003753662109375, 0.00726318359375, 0.00347900390625, 0.00494384765625, 0.004669189453125, 0.0029296875, 0.00494384765625, 0.006744384765625, 0.00140380859375, 0.000850677490234375, 0.0026702880859375, 0.00201416015625, 0.002471923828125, 0.00107574462890625, 0.007476806640625, 0.003173828125, 0.007781982421875, 0.0257568359375, 0.0186767578125, 0.009765625, 0.018798828125, 0.00347900390625, 0.004913330078125, 0.0017242431640625, 0.0028839111328125, 0.00482177734375, 0.0035858154296875, 0.000644683837890625, 0.001129150390625, 0.0014495849609375, 0.0277099609375, 0.0556640625, 0.00531005859375, 0.048583984375]}\n",
       "    )\n",
       "    </script>"
      ],
      "text/plain": [
       "<circuitsvis.utils.render.RenderedHTML at 0x7fa5679e1590>"
      ]
     },
     "metadata": {},
     "output_type": "display_data"
    },
    {
     "name": "stdout",
     "output_type": "stream",
     "text": [
      "2025-08-01 14:16:22 __main__ INFO     Layer: 33, Head: 18\n"
     ]
    },
    {
     "data": {
      "text/html": [
       "<div id=\"circuits-vis-df8dea14-8ac0\" style=\"margin: 15px 0;\"/>\n",
       "    <script crossorigin type=\"module\">\n",
       "    import { render, ColoredTokens } from \"https://unpkg.com/circuitsvis@1.43.3/dist/cdn/esm.js\";\n",
       "    render(\n",
       "      \"circuits-vis-df8dea14-8ac0\",\n",
       "      ColoredTokens,\n",
       "      {\"tokens\": [\"1\", \".\", \" O\", \"'D\", \"onn\", \"ell\", \",\", \" Nor\", \"ah\", \"\\n\", \"2\", \".\", \" Roberts\", \",\", \" Julia\", \"\\n\", \"3\", \".\", \" Mc\", \"Il\", \"roy\", \",\", \" Rory\", \"\\n\", \"4\", \".\", \" K\", \"vit\", \"ov\\u00e1\", \",\", \" Petra\", \"\\n\", \"5\", \".\", \" L\", \"oub\", \"out\", \"in\", \",\", \" Christian\", \"\\n\", \"6\", \".\", \" Anderson\", \",\", \" Wes\", \"\\n\", \"Who\", \" among\", \" these\", \" people\", \" mentioned\", \" above\", \" is\", \" by\", \" profession\", \" a\", \" actor\", \"?\\n\", \"Answer\", \":\"], \"values\": [0.0017547607421875, 0.00136566162109375, 0.0003948211669921875, 0.0032806396484375, 0.00051116943359375, 0.000568389892578125, 0.007110595703125, 0.00012302398681640625, 0.002410888671875, 0.0203857421875, 0.041748046875, 0.0203857421875, 0.00396728515625, 0.00970458984375, 0.1416015625, 0.328125, 0.0274658203125, 0.21875, 0.0086669921875, 0.00028228759765625, 0.0012359619140625, 0.00537109375, 0.00994873046875, 0.0257568359375, 0.026123046875, 0.01123046875, 0.000751495361328125, 6.67572021484375e-05, 0.000919342041015625, 0.0016937255859375, 0.00092315673828125, 0.01141357421875, 0.00167083740234375, 0.0010528564453125, 0.0016632080078125, 0.0001506805419921875, 0.00015544891357421875, 0.0003223419189453125, 0.000530242919921875, 0.0011138916015625, 0.004852294921875, 0.007049560546875, 0.001129150390625, 0.0004367828369140625, 0.00469970703125, 0.004791259765625, 0.0086669921875, 0.001251220703125, 3.528594970703125e-05, 3.8623809814453125e-05, 5.91278076171875e-05, 3.314018249511719e-05, 4.5299530029296875e-05, 3.314018249511719e-05, 1.6927719116210938e-05, 2.467632293701172e-05, 0.00017642974853515625, 0.00396728515625, 0.0002880096435546875, 0.000347137451171875, 0.0031280517578125]}\n",
       "    )\n",
       "    </script>"
      ],
      "text/plain": [
       "<circuitsvis.utils.render.RenderedHTML at 0x7fa4e04e9950>"
      ]
     },
     "metadata": {},
     "output_type": "display_data"
    },
    {
     "name": "stdout",
     "output_type": "stream",
     "text": [
      "2025-08-01 14:16:22 __main__ INFO     Layer: 34, Head: 1\n"
     ]
    },
    {
     "data": {
      "text/html": [
       "<div id=\"circuits-vis-c2d6eb62-ce8a\" style=\"margin: 15px 0;\"/>\n",
       "    <script crossorigin type=\"module\">\n",
       "    import { render, ColoredTokens } from \"https://unpkg.com/circuitsvis@1.43.3/dist/cdn/esm.js\";\n",
       "    render(\n",
       "      \"circuits-vis-c2d6eb62-ce8a\",\n",
       "      ColoredTokens,\n",
       "      {\"tokens\": [\"1\", \".\", \" O\", \"'D\", \"onn\", \"ell\", \",\", \" Nor\", \"ah\", \"\\n\", \"2\", \".\", \" Roberts\", \",\", \" Julia\", \"\\n\", \"3\", \".\", \" Mc\", \"Il\", \"roy\", \",\", \" Rory\", \"\\n\", \"4\", \".\", \" K\", \"vit\", \"ov\\u00e1\", \",\", \" Petra\", \"\\n\", \"5\", \".\", \" L\", \"oub\", \"out\", \"in\", \",\", \" Christian\", \"\\n\", \"6\", \".\", \" Anderson\", \",\", \" Wes\", \"\\n\", \"Who\", \" among\", \" these\", \" people\", \" mentioned\", \" above\", \" is\", \" by\", \" profession\", \" a\", \" actor\", \"?\\n\", \"Answer\", \":\"], \"values\": [0.006011962890625, 0.00069427490234375, 0.000186920166015625, 0.001922607421875, 0.00152587890625, 0.00122833251953125, 0.00787353515625, 0.000141143798828125, 0.0106201171875, 0.002166748046875, 0.0201416015625, 0.0211181640625, 0.016357421875, 0.006744384765625, 0.353515625, 0.3125, 0.023681640625, 0.0732421875, 0.0038604736328125, 0.000762939453125, 0.0005340576171875, 0.00115203857421875, 0.00010824203491210938, 0.00102996826171875, 0.0047607421875, 0.00982666015625, 0.00098419189453125, 7.12275505065918e-06, 1.8835067749023438e-05, 3.62396240234375e-05, 1.9431114196777344e-05, 0.0002727508544921875, 0.00119781494140625, 5.269050598144531e-05, 0.002105712890625, 1.0073184967041016e-05, 7.009506225585938e-05, 1.9431114196777344e-05, 1.8835067749023438e-05, 7.772445678710938e-05, 3.504753112792969e-05, 0.0018463134765625, 0.002349853515625, 0.00017261505126953125, 0.0040283203125, 0.002471923828125, 0.000972747802734375, 0.003326416015625, 0.000579833984375, 0.00133514404296875, 0.0004634857177734375, 0.0005950927734375, 0.000354766845703125, 0.0001926422119140625, 0.0001392364501953125, 2.3365020751953125e-05, 0.00011348724365234375, 0.022705078125, 0.002838134765625, 0.0002803802490234375, 0.0184326171875]}\n",
       "    )\n",
       "    </script>"
      ],
      "text/plain": [
       "<circuitsvis.utils.render.RenderedHTML at 0x7fa5679b1950>"
      ]
     },
     "metadata": {},
     "output_type": "display_data"
    },
    {
     "name": "stdout",
     "output_type": "stream",
     "text": [
      "2025-08-01 14:16:22 __main__ INFO     Layer: 34, Head: 6\n"
     ]
    },
    {
     "data": {
      "text/html": [
       "<div id=\"circuits-vis-ffabd067-d6db\" style=\"margin: 15px 0;\"/>\n",
       "    <script crossorigin type=\"module\">\n",
       "    import { render, ColoredTokens } from \"https://unpkg.com/circuitsvis@1.43.3/dist/cdn/esm.js\";\n",
       "    render(\n",
       "      \"circuits-vis-ffabd067-d6db\",\n",
       "      ColoredTokens,\n",
       "      {\"tokens\": [\"1\", \".\", \" O\", \"'D\", \"onn\", \"ell\", \",\", \" Nor\", \"ah\", \"\\n\", \"2\", \".\", \" Roberts\", \",\", \" Julia\", \"\\n\", \"3\", \".\", \" Mc\", \"Il\", \"roy\", \",\", \" Rory\", \"\\n\", \"4\", \".\", \" K\", \"vit\", \"ov\\u00e1\", \",\", \" Petra\", \"\\n\", \"5\", \".\", \" L\", \"oub\", \"out\", \"in\", \",\", \" Christian\", \"\\n\", \"6\", \".\", \" Anderson\", \",\", \" Wes\", \"\\n\", \"Who\", \" among\", \" these\", \" people\", \" mentioned\", \" above\", \" is\", \" by\", \" profession\", \" a\", \" actor\", \"?\\n\", \"Answer\", \":\"], \"values\": [0.0250244140625, 0.00103759765625, 0.00042724609375, 0.0029449462890625, 0.005157470703125, 0.004150390625, 0.009521484375, 0.000576019287109375, 0.0101318359375, 0.0035400390625, 0.01348876953125, 0.009033203125, 0.03515625, 0.0125732421875, 0.33203125, 0.21484375, 0.0250244140625, 0.0615234375, 0.005279541015625, 0.00341796875, 0.0016021728515625, 0.0031890869140625, 0.0003833770751953125, 0.00189971923828125, 0.007781982421875, 0.0091552734375, 0.0022430419921875, 0.00011157989501953125, 0.000186920166015625, 0.00023651123046875, 0.0001811981201171875, 0.00103759765625, 0.00164031982421875, 0.000293731689453125, 0.004791259765625, 7.915496826171875e-05, 0.00032806396484375, 0.00012683868408203125, 8.153915405273438e-05, 0.0002765655517578125, 0.00011491775512695312, 0.0027923583984375, 0.0019683837890625, 0.0012664794921875, 0.0101318359375, 0.006927490234375, 0.00311279296875, 0.004913330078125, 0.00087738037109375, 0.0023651123046875, 0.000705718994140625, 0.000850677490234375, 0.0003948211669921875, 0.000499725341796875, 0.00043487548828125, 3.743171691894531e-05, 0.000514984130859375, 0.040771484375, 0.006195068359375, 0.00021839141845703125, 0.03564453125]}\n",
       "    )\n",
       "    </script>"
      ],
      "text/plain": [
       "<circuitsvis.utils.render.RenderedHTML at 0x7fa5679571d0>"
      ]
     },
     "metadata": {},
     "output_type": "display_data"
    },
    {
     "name": "stdout",
     "output_type": "stream",
     "text": [
      "2025-08-01 14:16:22 __main__ INFO     Layer: 34, Head: 7\n"
     ]
    },
    {
     "data": {
      "text/html": [
       "<div id=\"circuits-vis-528d5917-a04a\" style=\"margin: 15px 0;\"/>\n",
       "    <script crossorigin type=\"module\">\n",
       "    import { render, ColoredTokens } from \"https://unpkg.com/circuitsvis@1.43.3/dist/cdn/esm.js\";\n",
       "    render(\n",
       "      \"circuits-vis-528d5917-a04a\",\n",
       "      ColoredTokens,\n",
       "      {\"tokens\": [\"1\", \".\", \" O\", \"'D\", \"onn\", \"ell\", \",\", \" Nor\", \"ah\", \"\\n\", \"2\", \".\", \" Roberts\", \",\", \" Julia\", \"\\n\", \"3\", \".\", \" Mc\", \"Il\", \"roy\", \",\", \" Rory\", \"\\n\", \"4\", \".\", \" K\", \"vit\", \"ov\\u00e1\", \",\", \" Petra\", \"\\n\", \"5\", \".\", \" L\", \"oub\", \"out\", \"in\", \",\", \" Christian\", \"\\n\", \"6\", \".\", \" Anderson\", \",\", \" Wes\", \"\\n\", \"Who\", \" among\", \" these\", \" people\", \" mentioned\", \" above\", \" is\", \" by\", \" profession\", \" a\", \" actor\", \"?\\n\", \"Answer\", \":\"], \"values\": [0.0439453125, 0.000759124755859375, 0.0004062652587890625, 0.002197265625, 0.0023040771484375, 0.00168609619140625, 0.0038604736328125, 0.0004749298095703125, 0.007171630859375, 0.0030975341796875, 0.0101318359375, 0.00787353515625, 0.0093994140625, 0.003387451171875, 0.1181640625, 0.09228515625, 0.01068115234375, 0.022705078125, 0.0030364990234375, 0.00182342529296875, 0.002197265625, 0.0023040771484375, 0.0030364990234375, 0.005950927734375, 0.00909423828125, 0.010498046875, 0.0045166015625, 0.00078582763671875, 0.00139617919921875, 0.0011444091796875, 0.00160980224609375, 0.0042724609375, 0.0034942626953125, 0.00144195556640625, 0.005523681640625, 0.00031280517578125, 0.000946044921875, 0.001373291015625, 0.00084686279296875, 0.00421142578125, 0.003204345703125, 0.01251220703125, 0.00494384765625, 0.003082275390625, 0.01300048828125, 0.0213623046875, 0.025146484375, 0.027587890625, 0.008056640625, 0.0240478515625, 0.0057373046875, 0.00555419921875, 0.006866455078125, 0.0074462890625, 0.001953125, 0.000629425048828125, 0.005462646484375, 0.1259765625, 0.04150390625, 0.003387451171875, 0.1279296875]}\n",
       "    )\n",
       "    </script>"
      ],
      "text/plain": [
       "<circuitsvis.utils.render.RenderedHTML at 0x7fa5679571d0>"
      ]
     },
     "metadata": {},
     "output_type": "display_data"
    },
    {
     "name": "stdout",
     "output_type": "stream",
     "text": [
      "2025-08-01 14:16:23 __main__ INFO     Layer: 35, Head: 19\n"
     ]
    },
    {
     "data": {
      "text/html": [
       "<div id=\"circuits-vis-36eab6be-77be\" style=\"margin: 15px 0;\"/>\n",
       "    <script crossorigin type=\"module\">\n",
       "    import { render, ColoredTokens } from \"https://unpkg.com/circuitsvis@1.43.3/dist/cdn/esm.js\";\n",
       "    render(\n",
       "      \"circuits-vis-36eab6be-77be\",\n",
       "      ColoredTokens,\n",
       "      {\"tokens\": [\"1\", \".\", \" O\", \"'D\", \"onn\", \"ell\", \",\", \" Nor\", \"ah\", \"\\n\", \"2\", \".\", \" Roberts\", \",\", \" Julia\", \"\\n\", \"3\", \".\", \" Mc\", \"Il\", \"roy\", \",\", \" Rory\", \"\\n\", \"4\", \".\", \" K\", \"vit\", \"ov\\u00e1\", \",\", \" Petra\", \"\\n\", \"5\", \".\", \" L\", \"oub\", \"out\", \"in\", \",\", \" Christian\", \"\\n\", \"6\", \".\", \" Anderson\", \",\", \" Wes\", \"\\n\", \"Who\", \" among\", \" these\", \" people\", \" mentioned\", \" above\", \" is\", \" by\", \" profession\", \" a\", \" actor\", \"?\\n\", \"Answer\", \":\"], \"values\": [0.0030517578125, 0.00015544891357421875, 0.00042724609375, 0.0011138916015625, 0.00130462646484375, 0.00075531005859375, 0.003326416015625, 0.00112152099609375, 0.013671875, 0.006622314453125, 0.00921630859375, 0.046630859375, 0.0024261474609375, 0.00060272216796875, 0.30859375, 0.2734375, 0.07470703125, 0.048828125, 0.004547119140625, 0.000782012939453125, 0.001007080078125, 0.000885009765625, 0.00482177734375, 0.0089111328125, 0.000789642333984375, 0.02001953125, 0.0078125, 0.0002651214599609375, 0.0018463134765625, 0.0002689361572265625, 0.00173187255859375, 0.0016632080078125, 0.00144195556640625, 0.003082275390625, 0.0076904296875, 7.009506225585938e-05, 3.5762786865234375e-05, 0.00038909912109375, 0.00011920928955078125, 0.0012664794921875, 0.00262451171875, 0.000286102294921875, 0.0068359375, 0.0005950927734375, 0.00116729736328125, 0.041748046875, 0.0439453125, 0.004119873046875, 1.9788742065429688e-05, 6.29425048828125e-05, 7.009506225585938e-05, 1.800060272216797e-05, 5.0067901611328125e-06, 3.933906555175781e-05, 5.3882598876953125e-05, 1.0251998901367188e-05, 0.0001583099365234375, 0.00238037109375, 0.0004425048828125, 2.2411346435546875e-05, 0.00115966796875]}\n",
       "    )\n",
       "    </script>"
      ],
      "text/plain": [
       "<circuitsvis.utils.render.RenderedHTML at 0x7fa5679e18d0>"
      ]
     },
     "metadata": {},
     "output_type": "display_data"
    },
    {
     "name": "stdout",
     "output_type": "stream",
     "text": [
      "2025-08-01 14:16:23 __main__ INFO     Layer: 39, Head: 40\n"
     ]
    },
    {
     "data": {
      "text/html": [
       "<div id=\"circuits-vis-8e94b843-9a58\" style=\"margin: 15px 0;\"/>\n",
       "    <script crossorigin type=\"module\">\n",
       "    import { render, ColoredTokens } from \"https://unpkg.com/circuitsvis@1.43.3/dist/cdn/esm.js\";\n",
       "    render(\n",
       "      \"circuits-vis-8e94b843-9a58\",\n",
       "      ColoredTokens,\n",
       "      {\"tokens\": [\"1\", \".\", \" O\", \"'D\", \"onn\", \"ell\", \",\", \" Nor\", \"ah\", \"\\n\", \"2\", \".\", \" Roberts\", \",\", \" Julia\", \"\\n\", \"3\", \".\", \" Mc\", \"Il\", \"roy\", \",\", \" Rory\", \"\\n\", \"4\", \".\", \" K\", \"vit\", \"ov\\u00e1\", \",\", \" Petra\", \"\\n\", \"5\", \".\", \" L\", \"oub\", \"out\", \"in\", \",\", \" Christian\", \"\\n\", \"6\", \".\", \" Anderson\", \",\", \" Wes\", \"\\n\", \"Who\", \" among\", \" these\", \" people\", \" mentioned\", \" above\", \" is\", \" by\", \" profession\", \" a\", \" actor\", \"?\\n\", \"Answer\", \":\"], \"values\": [0.002777099609375, 0.0017852783203125, 7.486343383789062e-05, 0.0003643035888671875, 0.0003414154052734375, 0.0002498626708984375, 0.001220703125, 0.000217437744140625, 0.0004825592041015625, 0.007080078125, 0.0011749267578125, 0.004852294921875, 0.0252685546875, 0.00958251953125, 0.09033203125, 0.65625, 0.0084228515625, 0.06494140625, 0.0015106201171875, 0.00015926361083984375, 0.00016880035400390625, 0.00128936767578125, 0.00029754638671875, 0.0218505859375, 0.001800537109375, 0.00250244140625, 0.000438690185546875, 6.258487701416016e-06, 3.838539123535156e-05, 0.0003204345703125, 8.249282836914062e-05, 0.00604248046875, 0.000148773193359375, 0.0019683837890625, 0.00089263916015625, 6.0498714447021484e-06, 6.0498714447021484e-06, 4.0531158447265625e-06, 4.076957702636719e-05, 5.245208740234375e-05, 0.0001888275146484375, 0.00063323974609375, 0.0004177093505859375, 0.00016689300537109375, 0.0023040771484375, 0.00142669677734375, 0.00299072265625, 0.00128936767578125, 0.0012969970703125, 0.0002651214599609375, 7.152557373046875e-05, 0.0002498626708984375, 0.00080108642578125, 0.0003528594970703125, 4.220008850097656e-05, 0.00010251998901367188, 0.00074005126953125, 0.0037841796875, 0.027587890625, 0.00213623046875, 0.0172119140625]}\n",
       "    )\n",
       "    </script>"
      ],
      "text/plain": [
       "<circuitsvis.utils.render.RenderedHTML at 0x7fa5679b1390>"
      ]
     },
     "metadata": {},
     "output_type": "display_data"
    },
    {
     "name": "stdout",
     "output_type": "stream",
     "text": [
      "2025-08-01 14:16:23 __main__ INFO     Layer: 42, Head: 30\n"
     ]
    },
    {
     "data": {
      "text/html": [
       "<div id=\"circuits-vis-7d9800d9-6dd8\" style=\"margin: 15px 0;\"/>\n",
       "    <script crossorigin type=\"module\">\n",
       "    import { render, ColoredTokens } from \"https://unpkg.com/circuitsvis@1.43.3/dist/cdn/esm.js\";\n",
       "    render(\n",
       "      \"circuits-vis-7d9800d9-6dd8\",\n",
       "      ColoredTokens,\n",
       "      {\"tokens\": [\"1\", \".\", \" O\", \"'D\", \"onn\", \"ell\", \",\", \" Nor\", \"ah\", \"\\n\", \"2\", \".\", \" Roberts\", \",\", \" Julia\", \"\\n\", \"3\", \".\", \" Mc\", \"Il\", \"roy\", \",\", \" Rory\", \"\\n\", \"4\", \".\", \" K\", \"vit\", \"ov\\u00e1\", \",\", \" Petra\", \"\\n\", \"5\", \".\", \" L\", \"oub\", \"out\", \"in\", \",\", \" Christian\", \"\\n\", \"6\", \".\", \" Anderson\", \",\", \" Wes\", \"\\n\", \"Who\", \" among\", \" these\", \" people\", \" mentioned\", \" above\", \" is\", \" by\", \" profession\", \" a\", \" actor\", \"?\\n\", \"Answer\", \":\"], \"values\": [0.005859375, 0.0017852783203125, 0.0019683837890625, 0.0040283203125, 0.005859375, 0.004852294921875, 0.00811767578125, 0.00173187255859375, 0.0035552978515625, 0.008544921875, 0.0069580078125, 0.007293701171875, 0.1826171875, 0.0751953125, 0.061279296875, 0.0634765625, 0.016357421875, 0.0269775390625, 0.035888671875, 0.00494384765625, 0.00323486328125, 0.0035552978515625, 0.001251220703125, 0.007293701171875, 0.00372314453125, 0.0050048828125, 0.0052490234375, 0.00103759765625, 0.00186920166015625, 0.00103759765625, 0.00064849853515625, 0.0020904541015625, 0.000690460205078125, 0.0027313232421875, 0.004638671875, 0.001373291015625, 0.0001583099365234375, 0.0006256103515625, 0.0004730224609375, 0.0003147125244140625, 0.00103759765625, 0.00154876708984375, 0.0021820068359375, 0.00811767578125, 0.01519775390625, 0.00152587890625, 0.0030364990234375, 0.0050048828125, 0.00170135498046875, 0.001434326171875, 0.00162506103515625, 0.00186920166015625, 0.0016021728515625, 0.00113677978515625, 0.000911712646484375, 0.002593994140625, 0.001434326171875, 0.0196533203125, 0.00799560546875, 0.00567626953125, 0.01556396484375]}\n",
       "    )\n",
       "    </script>"
      ],
      "text/plain": [
       "<circuitsvis.utils.render.RenderedHTML at 0x7fa4e04e9950>"
      ]
     },
     "metadata": {},
     "output_type": "display_data"
    },
    {
     "name": "stdout",
     "output_type": "stream",
     "text": [
      "2025-08-01 14:16:23 __main__ INFO     Layer: 47, Head: 18\n"
     ]
    },
    {
     "data": {
      "text/html": [
       "<div id=\"circuits-vis-94cb3f10-9ae9\" style=\"margin: 15px 0;\"/>\n",
       "    <script crossorigin type=\"module\">\n",
       "    import { render, ColoredTokens } from \"https://unpkg.com/circuitsvis@1.43.3/dist/cdn/esm.js\";\n",
       "    render(\n",
       "      \"circuits-vis-94cb3f10-9ae9\",\n",
       "      ColoredTokens,\n",
       "      {\"tokens\": [\"1\", \".\", \" O\", \"'D\", \"onn\", \"ell\", \",\", \" Nor\", \"ah\", \"\\n\", \"2\", \".\", \" Roberts\", \",\", \" Julia\", \"\\n\", \"3\", \".\", \" Mc\", \"Il\", \"roy\", \",\", \" Rory\", \"\\n\", \"4\", \".\", \" K\", \"vit\", \"ov\\u00e1\", \",\", \" Petra\", \"\\n\", \"5\", \".\", \" L\", \"oub\", \"out\", \"in\", \",\", \" Christian\", \"\\n\", \"6\", \".\", \" Anderson\", \",\", \" Wes\", \"\\n\", \"Who\", \" among\", \" these\", \" people\", \" mentioned\", \" above\", \" is\", \" by\", \" profession\", \" a\", \" actor\", \"?\\n\", \"Answer\", \":\"], \"values\": [0.002166748046875, 0.0035552978515625, 0.004180908203125, 0.00133514404296875, 0.000659942626953125, 0.0013427734375, 0.0026702880859375, 0.0029449462890625, 0.002044677734375, 0.004425048828125, 0.0152587890625, 0.00732421875, 0.490234375, 0.09228515625, 0.064453125, 0.07421875, 0.040771484375, 0.048095703125, 0.00244140625, 0.0001277923583984375, 0.0002841949462890625, 0.0012054443359375, 0.00115966796875, 0.00958251953125, 0.00946044921875, 0.0079345703125, 0.002777099609375, 1.436471939086914e-05, 0.000141143798828125, 0.00035858154296875, 0.00017833709716796875, 0.0032806396484375, 0.000888824462890625, 0.004180908203125, 0.005615234375, 3.910064697265625e-05, 1.7881393432617188e-05, 4.291534423828125e-05, 9.107589721679688e-05, 4.029273986816406e-05, 0.00041961669921875, 0.00390625, 0.00238037109375, 0.000629425048828125, 0.0078125, 0.00274658203125, 0.00127410888671875, 0.0029449462890625, 0.0004329681396484375, 0.000797271728515625, 0.0003757476806640625, 0.00016689300537109375, 0.000946044921875, 0.0006103515625, 0.000446319580078125, 0.000507354736328125, 0.000835418701171875, 0.001434326171875, 0.004913330078125, 0.007415771484375, 0.0106201171875]}\n",
       "    )\n",
       "    </script>"
      ],
      "text/plain": [
       "<circuitsvis.utils.render.RenderedHTML at 0x7fa4e055bd10>"
      ]
     },
     "metadata": {},
     "output_type": "display_data"
    },
    {
     "name": "stdout",
     "output_type": "stream",
     "text": [
      "2025-08-01 14:16:23 __main__ INFO     Layer: 52, Head: 58\n"
     ]
    },
    {
     "data": {
      "text/html": [
       "<div id=\"circuits-vis-0ce94105-6d44\" style=\"margin: 15px 0;\"/>\n",
       "    <script crossorigin type=\"module\">\n",
       "    import { render, ColoredTokens } from \"https://unpkg.com/circuitsvis@1.43.3/dist/cdn/esm.js\";\n",
       "    render(\n",
       "      \"circuits-vis-0ce94105-6d44\",\n",
       "      ColoredTokens,\n",
       "      {\"tokens\": [\"1\", \".\", \" O\", \"'D\", \"onn\", \"ell\", \",\", \" Nor\", \"ah\", \"\\n\", \"2\", \".\", \" Roberts\", \",\", \" Julia\", \"\\n\", \"3\", \".\", \" Mc\", \"Il\", \"roy\", \",\", \" Rory\", \"\\n\", \"4\", \".\", \" K\", \"vit\", \"ov\\u00e1\", \",\", \" Petra\", \"\\n\", \"5\", \".\", \" L\", \"oub\", \"out\", \"in\", \",\", \" Christian\", \"\\n\", \"6\", \".\", \" Anderson\", \",\", \" Wes\", \"\\n\", \"Who\", \" among\", \" these\", \" people\", \" mentioned\", \" above\", \" is\", \" by\", \" profession\", \" a\", \" actor\", \"?\\n\", \"Answer\", \":\"], \"values\": [0.002593994140625, 0.004486083984375, 0.0038299560546875, 0.007049560546875, 0.013671875, 0.01611328125, 0.0196533203125, 0.01483154296875, 0.03271484375, 0.0201416015625, 0.004913330078125, 0.003997802734375, 0.12109375, 0.03369140625, 0.35546875, 0.0301513671875, 0.003387451171875, 0.00872802734375, 0.001434326171875, 0.0002918243408203125, 0.00048065185546875, 0.00093841552734375, 0.0030364990234375, 0.002899169921875, 0.00124359130859375, 0.00124359130859375, 0.000644683837890625, 0.00010728836059570312, 0.000560760498046875, 0.00075531005859375, 0.0006866455078125, 0.00189971923828125, 0.00012493133544921875, 0.0006866455078125, 0.0013275146484375, 0.00015544891357421875, 7.343292236328125e-05, 6.723403930664062e-05, 0.00012874603271484375, 8.106231689453125e-05, 0.00010061264038085938, 0.0002727508544921875, 0.00058746337890625, 0.00058746337890625, 0.00531005859375, 0.00469970703125, 0.00115203857421875, 0.00145721435546875, 0.0023651123046875, 0.00081634521484375, 0.0002994537353515625, 0.0008544921875, 0.00152587890625, 0.0006561279296875, 0.0002918243408203125, 0.00124359130859375, 0.00128173828125, 0.00732421875, 0.0023651123046875, 0.00136566162109375, 0.0159912109375]}\n",
       "    )\n",
       "    </script>"
      ],
      "text/plain": [
       "<circuitsvis.utils.render.RenderedHTML at 0x7fa540191b90>"
      ]
     },
     "metadata": {},
     "output_type": "display_data"
    },
    {
     "data": {
      "text/plain": [
       "[PredictedToken(token=' Julia', prob=0.33203125, logit=19.625, token_id=40394, metadata=None),\n",
       " PredictedToken(token=' Roberts', prob=0.259765625, logit=19.375, token_id=31248, metadata=None),\n",
       " PredictedToken(token=' ', prob=0.138671875, logit=18.75, token_id=220, metadata=None),\n",
       " PredictedToken(token=' (', prob=0.051025390625, logit=17.75, token_id=320, metadata=None),\n",
       " PredictedToken(token=' Option', prob=0.045166015625, logit=17.625, token_id=7104, metadata=None)]"
      ]
     },
     "execution_count": 17,
     "metadata": {},
     "output_type": "execute_result"
    }
   ],
   "source": [
    "prompt_template = \"\"\"{}\n",
    "Who among these people mentioned above is by profession a {}?\n",
    "Answer:\"\"\"\n",
    "\n",
    "sample.options = [\"Norah O'Donnell\", \"Julia Roberts\", \"Rory McIlroy\", \"Petra Kvitová\", \"Christian Louboutin\", \"Wes Anderson\"]\n",
    "# prompt = prompt_template.format(\n",
    "#     \", \".join(sample.options),\n",
    "#     sample.metadata[\"attribute\"]\n",
    "# )\n",
    "\n",
    "last_name_first = []\n",
    "for name in sample.options:\n",
    "    first_name = name.split(\" \")[0]\n",
    "    last_name = \" \".join(name.split(\" \")[1:])\n",
    "    last_name_first.append(f\"{last_name}, {first_name}\")\n",
    "\n",
    "prompt = prompt_template.format(\n",
    "    \"\\n\".join(f\"{idx+1}. {name}\" for idx, name in enumerate(last_name_first)),\n",
    "    sample.metadata[\"attribute\"]\n",
    ")\n",
    "\n",
    "# prompt = sample.prompt\n",
    "\n",
    "print(prompt, \" >> \")\n",
    "\n",
    "verify = verify_head_patterns(\n",
    "    prompt=prompt,\n",
    "    options=sample.options,\n",
    "    pivot=sample.subj,\n",
    "    mt=mt,\n",
    "    value_weighted=False,\n",
    "    generate_full_answer=True,\n",
    ")\n",
    "\n",
    "verify[\"predictions\"]"
   ]
  },
  {
   "cell_type": "code",
   "execution_count": 19,
   "id": "fda47f59",
   "metadata": {},
   "outputs": [
    {
     "name": "stdout",
     "output_type": "stream",
     "text": [
      "2025-08-01 14:19:06 __main__ DEBUG    O'Donnell, Norah | opt_range=(3, 10) | bare_opt_range=(4, 11) | \" O'Donnell, Norah\"\n"
     ]
    },
    {
     "name": "stdout",
     "output_type": "stream",
     "text": [
      "2025-08-01 14:19:06 __main__ DEBUG    Roberts, Julia | opt_range=(13, 16) | bare_opt_range=(4, 7) | \" Roberts, Julia\"\n",
      "2025-08-01 14:19:06 __main__ DEBUG    McIlroy, Rory | opt_range=(19, 24) | bare_opt_range=(4, 9) | \" McIlroy, Rory\"\n",
      "2025-08-01 14:19:06 __main__ DEBUG    Kvitová, Petra | opt_range=(27, 32) | bare_opt_range=(4, 9) | \" Kvitová, Petra\"\n",
      "2025-08-01 14:19:06 __main__ DEBUG    Louboutin, Christian | opt_range=(35, 41) | bare_opt_range=(4, 10) | \" Louboutin, Christian\"\n",
      "2025-08-01 14:19:07 __main__ DEBUG    Anderson, Wes | opt_range=(44, 47) | bare_opt_range=(4, 7) | \" Anderson, Wes\"\n",
      "2025-08-01 14:19:17 __main__ DEBUG    Predictions: ['\" Roberts\"[31248] (p=0.314, logit=19.625)', '\" Julia\"[40394] (p=0.277, logit=19.500)', '\" \"[220] (p=0.149, logit=18.875)', '\" (\"[320] (p=0.048, logit=17.750)', '\" Option\"[7104] (p=0.043, logit=17.625)']\n",
      "layer=35\n"
     ]
    },
    {
     "data": {
      "text/html": [
       "<div id=\"circuits-vis-1e1ff209-93ab\" style=\"margin: 15px 0;\"/>\n",
       "    <script crossorigin type=\"module\">\n",
       "    import { render, ColoredTokens } from \"https://unpkg.com/circuitsvis@1.43.3/dist/cdn/esm.js\";\n",
       "    render(\n",
       "      \"circuits-vis-1e1ff209-93ab\",\n",
       "      ColoredTokens,\n",
       "      {\"tokens\": [\"1\", \".\", \" O\", \"'D\", \"onn\", \"ell\", \",\", \" Nor\", \"ah\", \"\\n\", \"2\", \".\", \" Roberts\", \",\", \" Julia\", \"\\n\", \"3\", \".\", \" Mc\", \"Il\", \"roy\", \",\", \" Rory\", \"\\n\", \"4\", \".\", \" K\", \"vit\", \"ov\\u00e1\", \",\", \" Petra\", \"\\n\", \"5\", \".\", \" L\", \"oub\", \"out\", \"in\", \",\", \" Christian\", \"\\n\", \"6\", \".\", \" Anderson\", \",\", \" Wes\", \"\\n\", \"Who\", \" among\", \" these\", \" people\", \" mentioned\", \" above\", \" is\", \" by\", \" profession\", \" a\", \" actor\", \"?\\n\", \"Answer\", \":\"], \"values\": [0.020054101943969727, 0.004036948084831238, 0.0010601356625556946, 0.0018433593213558197, 0.0031266845762729645, 0.0021447576582431793, 0.004504036158323288, 0.0010325200855731964, 0.006250068545341492, 0.0077201128005981445, 0.021252185106277466, 0.0070319101214408875, 0.003369580954313278, 0.002584703266620636, 0.028610922396183014, 0.053301677107810974, 0.011207381263375282, 0.022993266582489014, 0.0030805952847003937, 0.001368219032883644, 0.0018905606120824814, 0.002752711996436119, 0.006696321070194244, 0.011410444974899292, 0.009868279099464417, 0.004266608506441116, 0.002135796472430229, 0.0009117908775806427, 0.0017708539962768555, 0.0015622694045305252, 0.0014977902173995972, 0.0026981383562088013, 0.0033308416604995728, 0.0018485449254512787, 0.003115318715572357, 0.000667821615934372, 0.0007910523563623428, 0.001811288297176361, 0.000933181494474411, 0.0017769243568181992, 0.0022017434239387512, 0.006136000156402588, 0.0030690431594848633, 0.0012018680572509766, 0.0024749580770730972, 0.00944044440984726, 0.008819356560707092, 0.009395062923431396, 0.006055507808923721, 0.00711565837264061, 0.003047749400138855, 0.002755618654191494, 0.006140147335827351, 0.004450622946023941, 0.001913837157189846, 0.0066388859413564205, 0.0036383718252182007, 0.024318009614944458, 0.026889890432357788, 0.020081445574760437, 0.033994197845458984]}\n",
       "    )\n",
       "    </script>"
      ],
      "text/plain": [
       "<circuitsvis.utils.render.RenderedHTML at 0x7fa5400f1ad0>"
      ]
     },
     "metadata": {},
     "output_type": "display_data"
    },
    {
     "name": "stdout",
     "output_type": "stream",
     "text": [
      "--------------------------------------------------------------------------------\n",
      "layer=47\n"
     ]
    },
    {
     "data": {
      "text/html": [
       "<div id=\"circuits-vis-523a5306-7d84\" style=\"margin: 15px 0;\"/>\n",
       "    <script crossorigin type=\"module\">\n",
       "    import { render, ColoredTokens } from \"https://unpkg.com/circuitsvis@1.43.3/dist/cdn/esm.js\";\n",
       "    render(\n",
       "      \"circuits-vis-523a5306-7d84\",\n",
       "      ColoredTokens,\n",
       "      {\"tokens\": [\"1\", \".\", \" O\", \"'D\", \"onn\", \"ell\", \",\", \" Nor\", \"ah\", \"\\n\", \"2\", \".\", \" Roberts\", \",\", \" Julia\", \"\\n\", \"3\", \".\", \" Mc\", \"Il\", \"roy\", \",\", \" Rory\", \"\\n\", \"4\", \".\", \" K\", \"vit\", \"ov\\u00e1\", \",\", \" Petra\", \"\\n\", \"5\", \".\", \" L\", \"oub\", \"out\", \"in\", \",\", \" Christian\", \"\\n\", \"6\", \".\", \" Anderson\", \",\", \" Wes\", \"\\n\", \"Who\", \" among\", \" these\", \" people\", \" mentioned\", \" above\", \" is\", \" by\", \" profession\", \" a\", \" actor\", \"?\\n\", \"Answer\", \":\"], \"values\": [0.0016742125153541565, 0.0010583139955997467, 0.00030697789043188095, 0.0003290073946118355, 0.00034866854548454285, 0.0003725104033946991, 0.00042519066482782364, 0.0004377528093755245, 0.0009568165987730026, 0.0019008740782737732, 0.0013614688068628311, 0.00047693727537989616, 0.018777422606945038, 0.003143529873341322, 0.004342460539191961, 0.0038481075316667557, 0.0012488304637372494, 0.0014894390478730202, 0.00032082595862448215, 0.00014304218348115683, 0.00016008142847567797, 0.00020994863007217646, 0.0006710235029459, 0.00128839910030365, 0.001077909953892231, 0.0007668239995837212, 0.0004473770968616009, 0.00019695237278938293, 0.00032352423295378685, 0.0002082575811073184, 0.00030886707827448845, 0.0005112648941576481, 0.00037372205406427383, 0.00046880217269062996, 0.00046656373888254166, 0.00018895138055086136, 6.222352385520935e-05, 0.00026629120111465454, 7.859314791858196e-05, 0.00030181556940078735, 0.00025497376918792725, 0.000864208210259676, 0.0004679635167121887, 0.0005038781091570854, 0.001152094453573227, 0.0007499195635318756, 0.00040344102308154106, 0.001661498099565506, 0.0008368408307433128, 0.0007250569760799408, 0.0005235848948359489, 0.0006969906389713287, 0.0007206862792372704, 0.0006120605394244194, 0.00041349977254867554, 0.0014535356312990189, 0.0005377214401960373, 0.002401994541287422, 0.00833970308303833, 0.009401246905326843, 0.0026987791061401367]}\n",
       "    )\n",
       "    </script>"
      ],
      "text/plain": [
       "<circuitsvis.utils.render.RenderedHTML at 0x7fa567994550>"
      ]
     },
     "metadata": {},
     "output_type": "display_data"
    },
    {
     "name": "stdout",
     "output_type": "stream",
     "text": [
      "--------------------------------------------------------------------------------\n",
      "layer=52\n"
     ]
    },
    {
     "data": {
      "text/html": [
       "<div id=\"circuits-vis-a1e91d22-aa54\" style=\"margin: 15px 0;\"/>\n",
       "    <script crossorigin type=\"module\">\n",
       "    import { render, ColoredTokens } from \"https://unpkg.com/circuitsvis@1.43.3/dist/cdn/esm.js\";\n",
       "    render(\n",
       "      \"circuits-vis-a1e91d22-aa54\",\n",
       "      ColoredTokens,\n",
       "      {\"tokens\": [\"1\", \".\", \" O\", \"'D\", \"onn\", \"ell\", \",\", \" Nor\", \"ah\", \"\\n\", \"2\", \".\", \" Roberts\", \",\", \" Julia\", \"\\n\", \"3\", \".\", \" Mc\", \"Il\", \"roy\", \",\", \" Rory\", \"\\n\", \"4\", \".\", \" K\", \"vit\", \"ov\\u00e1\", \",\", \" Petra\", \"\\n\", \"5\", \".\", \" L\", \"oub\", \"out\", \"in\", \",\", \" Christian\", \"\\n\", \"6\", \".\", \" Anderson\", \",\", \" Wes\", \"\\n\", \"Who\", \" among\", \" these\", \" people\", \" mentioned\", \" above\", \" is\", \" by\", \" profession\", \" a\", \" actor\", \"?\\n\", \"Answer\", \":\"], \"values\": [0.003863491117954254, 0.0037270057946443558, 0.0013902094215154648, 0.0011935438960790634, 0.0008702035993337631, 0.001380613073706627, 0.00193069688975811, 0.002535841427743435, 0.002568100579082966, 0.005691863596439362, 0.00412696972489357, 0.001664336770772934, 0.012967419810593128, 0.0035741939209401608, 0.01340925507247448, 0.002956375479698181, 0.0021063918247818947, 0.003226734697818756, 0.0006480724550783634, 0.00025617657229304314, 0.0003326775040477514, 0.0005988324992358685, 0.001360265538096428, 0.0016938988119363785, 0.0027900151908397675, 0.0016846228390932083, 0.0006313996855169535, 0.0003945539938285947, 0.0020115370862185955, 0.0006284017581492662, 0.0007077893242239952, 0.0008312426507472992, 0.0011030198074877262, 0.001395130529999733, 0.0008896458894014359, 0.00031055789440870285, 0.00010361924069002271, 0.0003761854022741318, 0.00024673191364854574, 0.00048254290595650673, 0.0004647448658943176, 0.001869688741862774, 0.0014052223414182663, 0.0005842600949108601, 0.001136539038270712, 0.0018444955348968506, 0.0007496904581785202, 0.003771301358938217, 0.0027307001873850822, 0.002110367640852928, 0.0014369497075676918, 0.001451385673135519, 0.003234616946429014, 0.0013827048242092133, 0.0008175084367394447, 0.0019862279295921326, 0.0013923011720180511, 0.005111135542392731, 0.02079988270998001, 0.021694038063287735, 0.022841371595859528]}\n",
       "    )\n",
       "    </script>"
      ],
      "text/plain": [
       "<circuitsvis.utils.render.RenderedHTML at 0x7fa567995950>"
      ]
     },
     "metadata": {},
     "output_type": "display_data"
    },
    {
     "name": "stdout",
     "output_type": "stream",
     "text": [
      "--------------------------------------------------------------------------------\n",
      "======================================================================\n",
      "2025-08-01 14:19:18 __main__ INFO     Layer: 33, Head: 45\n"
     ]
    },
    {
     "data": {
      "text/html": [
       "<div id=\"circuits-vis-2253d7cb-eb57\" style=\"margin: 15px 0;\"/>\n",
       "    <script crossorigin type=\"module\">\n",
       "    import { render, ColoredTokens } from \"https://unpkg.com/circuitsvis@1.43.3/dist/cdn/esm.js\";\n",
       "    render(\n",
       "      \"circuits-vis-2253d7cb-eb57\",\n",
       "      ColoredTokens,\n",
       "      {\"tokens\": [\"1\", \".\", \" O\", \"'D\", \"onn\", \"ell\", \",\", \" Nor\", \"ah\", \"\\n\", \"2\", \".\", \" Roberts\", \",\", \" Julia\", \"\\n\", \"3\", \".\", \" Mc\", \"Il\", \"roy\", \",\", \" Rory\", \"\\n\", \"4\", \".\", \" K\", \"vit\", \"ov\\u00e1\", \",\", \" Petra\", \"\\n\", \"5\", \".\", \" L\", \"oub\", \"out\", \"in\", \",\", \" Christian\", \"\\n\", \"6\", \".\", \" Anderson\", \",\", \" Wes\", \"\\n\", \"Who\", \" among\", \" these\", \" people\", \" mentioned\", \" above\", \" is\", \" by\", \" profession\", \" a\", \" actor\", \"?\\n\", \"Answer\", \":\"], \"values\": [0.035400390625, 0.003265380859375, 0.004669189453125, 0.006256103515625, 0.006683349609375, 0.0047607421875, 0.01434326171875, 0.00250244140625, 0.0128173828125, 0.01202392578125, 0.01300048828125, 0.01300048828125, 0.0301513671875, 0.03076171875, 0.0966796875, 0.0654296875, 0.006256103515625, 0.0225830078125, 0.017333984375, 0.01068115234375, 0.006134033203125, 0.00872802734375, 0.00445556640625, 0.01129150390625, 0.00799560546875, 0.0093994140625, 0.00537109375, 0.003997802734375, 0.007781982421875, 0.003753662109375, 0.005218505859375, 0.00518798828125, 0.0035247802734375, 0.00537109375, 0.00634765625, 0.00142669677734375, 0.000865936279296875, 0.0027923583984375, 0.00201416015625, 0.0025482177734375, 0.0011138916015625, 0.007232666015625, 0.00311279296875, 0.00799560546875, 0.02783203125, 0.0203857421875, 0.01104736328125, 0.0198974609375, 0.0033721923828125, 0.0047607421875, 0.001617431640625, 0.00274658203125, 0.004547119140625, 0.0033721923828125, 0.00063323974609375, 0.00109100341796875, 0.00147247314453125, 0.028564453125, 0.05517578125, 0.00506591796875, 0.047607421875]}\n",
       "    )\n",
       "    </script>"
      ],
      "text/plain": [
       "<circuitsvis.utils.render.RenderedHTML at 0x7fa4c037ad90>"
      ]
     },
     "metadata": {},
     "output_type": "display_data"
    },
    {
     "name": "stdout",
     "output_type": "stream",
     "text": [
      "2025-08-01 14:19:18 __main__ INFO     Layer: 33, Head: 18\n"
     ]
    },
    {
     "data": {
      "text/html": [
       "<div id=\"circuits-vis-6567e61a-cc33\" style=\"margin: 15px 0;\"/>\n",
       "    <script crossorigin type=\"module\">\n",
       "    import { render, ColoredTokens } from \"https://unpkg.com/circuitsvis@1.43.3/dist/cdn/esm.js\";\n",
       "    render(\n",
       "      \"circuits-vis-6567e61a-cc33\",\n",
       "      ColoredTokens,\n",
       "      {\"tokens\": [\"1\", \".\", \" O\", \"'D\", \"onn\", \"ell\", \",\", \" Nor\", \"ah\", \"\\n\", \"2\", \".\", \" Roberts\", \",\", \" Julia\", \"\\n\", \"3\", \".\", \" Mc\", \"Il\", \"roy\", \",\", \" Rory\", \"\\n\", \"4\", \".\", \" K\", \"vit\", \"ov\\u00e1\", \",\", \" Petra\", \"\\n\", \"5\", \".\", \" L\", \"oub\", \"out\", \"in\", \",\", \" Christian\", \"\\n\", \"6\", \".\", \" Anderson\", \",\", \" Wes\", \"\\n\", \"Who\", \" among\", \" these\", \" people\", \" mentioned\", \" above\", \" is\", \" by\", \" profession\", \" a\", \" actor\", \"?\\n\", \"Answer\", \":\"], \"values\": [0.00167083740234375, 0.0012664794921875, 0.0002193450927734375, 0.0021209716796875, 0.000812530517578125, 0.0005035400390625, 0.007568359375, 0.00014209747314453125, 0.0023193359375, 0.0185546875, 0.04052734375, 0.0223388671875, 0.00311279296875, 0.00799560546875, 0.13671875, 0.361328125, 0.032958984375, 0.1875, 0.00799560546875, 0.0002498626708984375, 0.0012359619140625, 0.00537109375, 0.01007080078125, 0.0291748046875, 0.0269775390625, 0.01123046875, 0.000774383544921875, 8.20159912109375e-05, 0.0009765625, 0.00167083740234375, 0.0009307861328125, 0.01318359375, 0.0018310546875, 0.0010986328125, 0.00179290771484375, 0.000148773193359375, 0.000148773193359375, 0.0003185272216796875, 0.0004673004150390625, 0.00101470947265625, 0.004302978515625, 0.006317138671875, 0.00093841552734375, 0.0004367828369140625, 0.004364013671875, 0.00494384765625, 0.0081787109375, 0.0012359619140625, 3.218650817871094e-05, 3.409385681152344e-05, 5.364418029785156e-05, 3.0517578125e-05, 3.933906555175781e-05, 2.9206275939941406e-05, 1.4901161193847656e-05, 2.0384788513183594e-05, 0.0001583099365234375, 0.0037689208984375, 0.00025177001953125, 0.0002956390380859375, 0.002899169921875]}\n",
       "    )\n",
       "    </script>"
      ],
      "text/plain": [
       "<circuitsvis.utils.render.RenderedHTML at 0x7fa4c01c5510>"
      ]
     },
     "metadata": {},
     "output_type": "display_data"
    },
    {
     "name": "stdout",
     "output_type": "stream",
     "text": [
      "2025-08-01 14:19:18 __main__ INFO     Layer: 34, Head: 1\n"
     ]
    },
    {
     "data": {
      "text/html": [
       "<div id=\"circuits-vis-c7a2d04d-4a93\" style=\"margin: 15px 0;\"/>\n",
       "    <script crossorigin type=\"module\">\n",
       "    import { render, ColoredTokens } from \"https://unpkg.com/circuitsvis@1.43.3/dist/cdn/esm.js\";\n",
       "    render(\n",
       "      \"circuits-vis-c7a2d04d-4a93\",\n",
       "      ColoredTokens,\n",
       "      {\"tokens\": [\"1\", \".\", \" O\", \"'D\", \"onn\", \"ell\", \",\", \" Nor\", \"ah\", \"\\n\", \"2\", \".\", \" Roberts\", \",\", \" Julia\", \"\\n\", \"3\", \".\", \" Mc\", \"Il\", \"roy\", \",\", \" Rory\", \"\\n\", \"4\", \".\", \" K\", \"vit\", \"ov\\u00e1\", \",\", \" Petra\", \"\\n\", \"5\", \".\", \" L\", \"oub\", \"out\", \"in\", \",\", \" Christian\", \"\\n\", \"6\", \".\", \" Anderson\", \",\", \" Wes\", \"\\n\", \"Who\", \" among\", \" these\", \" people\", \" mentioned\", \" above\", \" is\", \" by\", \" profession\", \" a\", \" actor\", \"?\\n\", \"Answer\", \":\"], \"values\": [0.005889892578125, 0.00072479248046875, 0.00048828125, 0.0030059814453125, 0.00848388671875, 0.0033416748046875, 0.0079345703125, 0.000152587890625, 0.01324462890625, 0.0018768310546875, 0.0198974609375, 0.018798828125, 0.01397705078125, 0.00592041015625, 0.318359375, 0.318359375, 0.039306640625, 0.072265625, 0.004058837890625, 0.000652313232421875, 0.000614166259765625, 0.00106048583984375, 0.00011539459228515625, 0.00118255615234375, 0.005401611328125, 0.0152587890625, 0.00133514404296875, 7.748603820800781e-06, 2.0384788513183594e-05, 4.315376281738281e-05, 1.9788742065429688e-05, 0.000396728515625, 0.001983642578125, 5.888938903808594e-05, 0.00177764892578125, 9.59634780883789e-06, 7.009506225585938e-05, 2.0384788513183594e-05, 1.6927719116210938e-05, 7.104873657226562e-05, 2.6941299438476562e-05, 0.00165557861328125, 0.002532958984375, 0.00019931793212890625, 0.00439453125, 0.002716064453125, 0.000965118408203125, 0.003692626953125, 0.000606536865234375, 0.0013275146484375, 0.0004863739013671875, 0.00061798095703125, 0.0003452301025390625, 0.0001964569091796875, 0.00014400482177734375, 2.2411346435546875e-05, 0.00010204315185546875, 0.0252685546875, 0.002838134765625, 0.0002803802490234375, 0.0184326171875]}\n",
       "    )\n",
       "    </script>"
      ],
      "text/plain": [
       "<circuitsvis.utils.render.RenderedHTML at 0x7fa618729c90>"
      ]
     },
     "metadata": {},
     "output_type": "display_data"
    },
    {
     "name": "stdout",
     "output_type": "stream",
     "text": [
      "2025-08-01 14:19:18 __main__ INFO     Layer: 34, Head: 6\n"
     ]
    },
    {
     "data": {
      "text/html": [
       "<div id=\"circuits-vis-3bb42dbb-14cb\" style=\"margin: 15px 0;\"/>\n",
       "    <script crossorigin type=\"module\">\n",
       "    import { render, ColoredTokens } from \"https://unpkg.com/circuitsvis@1.43.3/dist/cdn/esm.js\";\n",
       "    render(\n",
       "      \"circuits-vis-3bb42dbb-14cb\",\n",
       "      ColoredTokens,\n",
       "      {\"tokens\": [\"1\", \".\", \" O\", \"'D\", \"onn\", \"ell\", \",\", \" Nor\", \"ah\", \"\\n\", \"2\", \".\", \" Roberts\", \",\", \" Julia\", \"\\n\", \"3\", \".\", \" Mc\", \"Il\", \"roy\", \",\", \" Rory\", \"\\n\", \"4\", \".\", \" K\", \"vit\", \"ov\\u00e1\", \",\", \" Petra\", \"\\n\", \"5\", \".\", \" L\", \"oub\", \"out\", \"in\", \",\", \" Christian\", \"\\n\", \"6\", \".\", \" Anderson\", \",\", \" Wes\", \"\\n\", \"Who\", \" among\", \" these\", \" people\", \" mentioned\", \" above\", \" is\", \" by\", \" profession\", \" a\", \" actor\", \"?\\n\", \"Answer\", \":\"], \"values\": [0.025634765625, 0.0010528564453125, 0.00093841552734375, 0.00299072265625, 0.013427734375, 0.007080078125, 0.010009765625, 0.00058746337890625, 0.01336669921875, 0.003509521484375, 0.01300048828125, 0.00848388671875, 0.03515625, 0.0111083984375, 0.294921875, 0.2158203125, 0.033447265625, 0.05908203125, 0.005706787109375, 0.003204345703125, 0.00183868408203125, 0.0030975341796875, 0.0004291534423828125, 0.00213623046875, 0.00830078125, 0.01324462890625, 0.0029449462890625, 0.00013065338134765625, 0.0002193450927734375, 0.00028228759765625, 0.0002002716064453125, 0.0013885498046875, 0.0024566650390625, 0.000324249267578125, 0.00421142578125, 7.581710815429688e-05, 0.0003204345703125, 0.00014400482177734375, 7.581710815429688e-05, 0.0002727508544921875, 9.72747802734375e-05, 0.0026397705078125, 0.0020904541015625, 0.00153350830078125, 0.0115966796875, 0.00811767578125, 0.00341796875, 0.00543212890625, 0.0008697509765625, 0.002349853515625, 0.00070953369140625, 0.0008544921875, 0.00037384033203125, 0.0004787445068359375, 0.00045013427734375, 3.361701965332031e-05, 0.000457763671875, 0.045654296875, 0.006072998046875, 0.00021648406982421875, 0.036865234375]}\n",
       "    )\n",
       "    </script>"
      ],
      "text/plain": [
       "<circuitsvis.utils.render.RenderedHTML at 0x7fa4a0452b90>"
      ]
     },
     "metadata": {},
     "output_type": "display_data"
    },
    {
     "name": "stdout",
     "output_type": "stream",
     "text": [
      "2025-08-01 14:19:18 __main__ INFO     Layer: 34, Head: 7\n"
     ]
    },
    {
     "data": {
      "text/html": [
       "<div id=\"circuits-vis-edfc64bd-ade5\" style=\"margin: 15px 0;\"/>\n",
       "    <script crossorigin type=\"module\">\n",
       "    import { render, ColoredTokens } from \"https://unpkg.com/circuitsvis@1.43.3/dist/cdn/esm.js\";\n",
       "    render(\n",
       "      \"circuits-vis-edfc64bd-ade5\",\n",
       "      ColoredTokens,\n",
       "      {\"tokens\": [\"1\", \".\", \" O\", \"'D\", \"onn\", \"ell\", \",\", \" Nor\", \"ah\", \"\\n\", \"2\", \".\", \" Roberts\", \",\", \" Julia\", \"\\n\", \"3\", \".\", \" Mc\", \"Il\", \"roy\", \",\", \" Rory\", \"\\n\", \"4\", \".\", \" K\", \"vit\", \"ov\\u00e1\", \",\", \" Petra\", \"\\n\", \"5\", \".\", \" L\", \"oub\", \"out\", \"in\", \",\", \" Christian\", \"\\n\", \"6\", \".\", \" Anderson\", \",\", \" Wes\", \"\\n\", \"Who\", \" among\", \" these\", \" people\", \" mentioned\", \" above\", \" is\", \" by\", \" profession\", \" a\", \" actor\", \"?\\n\", \"Answer\", \":\"], \"values\": [0.0439453125, 0.000720977783203125, 0.000926971435546875, 0.00213623046875, 0.00408935546875, 0.002593994140625, 0.003753662109375, 0.00051116943359375, 0.00836181640625, 0.0029754638671875, 0.0091552734375, 0.006988525390625, 0.0089111328125, 0.003082275390625, 0.10400390625, 0.091796875, 0.0133056640625, 0.0201416015625, 0.00323486328125, 0.001708984375, 0.0023193359375, 0.0021514892578125, 0.0031585693359375, 0.00640869140625, 0.009521484375, 0.01300048828125, 0.005218505859375, 0.000858306884765625, 0.00152587890625, 0.001251220703125, 0.001708984375, 0.0050048828125, 0.004669189453125, 0.00152587890625, 0.005096435546875, 0.0002880096435546875, 0.000972747802734375, 0.00141143798828125, 0.00079345703125, 0.0040283203125, 0.0028839111328125, 0.01202392578125, 0.00537109375, 0.0033111572265625, 0.01409912109375, 0.023193359375, 0.0262451171875, 0.028564453125, 0.00823974609375, 0.0240478515625, 0.0057373046875, 0.00555419921875, 0.006561279296875, 0.00738525390625, 0.0020294189453125, 0.000591278076171875, 0.005157470703125, 0.130859375, 0.039794921875, 0.003204345703125, 0.12890625]}\n",
       "    )\n",
       "    </script>"
      ],
      "text/plain": [
       "<circuitsvis.utils.render.RenderedHTML at 0x7fa78018b790>"
      ]
     },
     "metadata": {},
     "output_type": "display_data"
    },
    {
     "name": "stdout",
     "output_type": "stream",
     "text": [
      "2025-08-01 14:19:18 __main__ INFO     Layer: 35, Head: 19\n"
     ]
    },
    {
     "data": {
      "text/html": [
       "<div id=\"circuits-vis-c827a609-4f67\" style=\"margin: 15px 0;\"/>\n",
       "    <script crossorigin type=\"module\">\n",
       "    import { render, ColoredTokens } from \"https://unpkg.com/circuitsvis@1.43.3/dist/cdn/esm.js\";\n",
       "    render(\n",
       "      \"circuits-vis-c827a609-4f67\",\n",
       "      ColoredTokens,\n",
       "      {\"tokens\": [\"1\", \".\", \" O\", \"'D\", \"onn\", \"ell\", \",\", \" Nor\", \"ah\", \"\\n\", \"2\", \".\", \" Roberts\", \",\", \" Julia\", \"\\n\", \"3\", \".\", \" Mc\", \"Il\", \"roy\", \",\", \" Rory\", \"\\n\", \"4\", \".\", \" K\", \"vit\", \"ov\\u00e1\", \",\", \" Petra\", \"\\n\", \"5\", \".\", \" L\", \"oub\", \"out\", \"in\", \",\", \" Christian\", \"\\n\", \"6\", \".\", \" Anderson\", \",\", \" Wes\", \"\\n\", \"Who\", \" among\", \" these\", \" people\", \" mentioned\", \" above\", \" is\", \" by\", \" profession\", \" a\", \" actor\", \"?\\n\", \"Answer\", \":\"], \"values\": [0.0028228759765625, 0.00013256072998046875, 0.000568389892578125, 0.001251220703125, 0.004058837890625, 0.00136566162109375, 0.00390625, 0.0012664794921875, 0.01483154296875, 0.005828857421875, 0.00927734375, 0.042236328125, 0.0020751953125, 0.00054931640625, 0.31640625, 0.271484375, 0.087890625, 0.04150390625, 0.0040283203125, 0.00067138671875, 0.00103759765625, 0.000789642333984375, 0.00506591796875, 0.0089111328125, 0.000888824462890625, 0.021240234375, 0.006988525390625, 0.000274658203125, 0.0018310546875, 0.00022792816162109375, 0.001708984375, 0.00191497802734375, 0.0015869140625, 0.002960205078125, 0.00640869140625, 5.9604644775390625e-05, 2.300739288330078e-05, 0.0003490447998046875, 9.059906005859375e-05, 0.00103759765625, 0.0020599365234375, 0.00021457672119140625, 0.006683349609375, 0.000537872314453125, 0.0010833740234375, 0.040771484375, 0.037841796875, 0.0035552978515625, 1.633167266845703e-05, 5.507469177246094e-05, 6.532669067382812e-05, 1.5735626220703125e-05, 3.993511199951172e-06, 3.24249267578125e-05, 5.1021575927734375e-05, 9.298324584960938e-06, 0.00013256072998046875, 0.0023040771484375, 0.0003795623779296875, 1.9073486328125e-05, 0.0010833740234375]}\n",
       "    )\n",
       "    </script>"
      ],
      "text/plain": [
       "<circuitsvis.utils.render.RenderedHTML at 0x7fa567949810>"
      ]
     },
     "metadata": {},
     "output_type": "display_data"
    },
    {
     "name": "stdout",
     "output_type": "stream",
     "text": [
      "2025-08-01 14:19:18 __main__ INFO     Layer: 39, Head: 40\n"
     ]
    },
    {
     "data": {
      "text/html": [
       "<div id=\"circuits-vis-efa80a05-df50\" style=\"margin: 15px 0;\"/>\n",
       "    <script crossorigin type=\"module\">\n",
       "    import { render, ColoredTokens } from \"https://unpkg.com/circuitsvis@1.43.3/dist/cdn/esm.js\";\n",
       "    render(\n",
       "      \"circuits-vis-efa80a05-df50\",\n",
       "      ColoredTokens,\n",
       "      {\"tokens\": [\"1\", \".\", \" O\", \"'D\", \"onn\", \"ell\", \",\", \" Nor\", \"ah\", \"\\n\", \"2\", \".\", \" Roberts\", \",\", \" Julia\", \"\\n\", \"3\", \".\", \" Mc\", \"Il\", \"roy\", \",\", \" Rory\", \"\\n\", \"4\", \".\", \" K\", \"vit\", \"ov\\u00e1\", \",\", \" Petra\", \"\\n\", \"5\", \".\", \" L\", \"oub\", \"out\", \"in\", \",\", \" Christian\", \"\\n\", \"6\", \".\", \" Anderson\", \",\", \" Wes\", \"\\n\", \"Who\", \" among\", \" these\", \" people\", \" mentioned\", \" above\", \" is\", \" by\", \" profession\", \" a\", \" actor\", \"?\\n\", \"Answer\", \":\"], \"values\": [0.0032958984375, 0.00213623046875, 0.000293731689453125, 0.0002880096435546875, 0.000408172607421875, 0.0002765655517578125, 0.00167083740234375, 0.000225067138671875, 0.000583648681640625, 0.0076904296875, 0.0012054443359375, 0.00506591796875, 0.0260009765625, 0.00921630859375, 0.0908203125, 0.62890625, 0.00958251953125, 0.06982421875, 0.00139617919921875, 0.0001621246337890625, 0.000186920166015625, 0.00138092041015625, 0.00034332275390625, 0.0242919921875, 0.0023040771484375, 0.003631591796875, 0.00054931640625, 8.165836334228516e-06, 5.173683166503906e-05, 0.0004329681396484375, 0.000102996826171875, 0.00921630859375, 0.00019550323486328125, 0.0021514892578125, 0.00098419189453125, 7.0035457611083984e-06, 5.811452865600586e-06, 5.304813385009766e-06, 4.863739013671875e-05, 5.8650970458984375e-05, 0.0001983642578125, 0.00070953369140625, 0.00042724609375, 0.0002079010009765625, 0.0028076171875, 0.0016937255859375, 0.00347900390625, 0.00167083740234375, 0.0013427734375, 0.0003032684326171875, 8.535385131835938e-05, 0.00029754638671875, 0.0009918212890625, 0.000370025634765625, 5.030632019042969e-05, 0.00011491775512695312, 0.00075531005859375, 0.004058837890625, 0.0299072265625, 0.0026397705078125, 0.0185546875]}\n",
       "    )\n",
       "    </script>"
      ],
      "text/plain": [
       "<circuitsvis.utils.render.RenderedHTML at 0x7fa4c01c4150>"
      ]
     },
     "metadata": {},
     "output_type": "display_data"
    },
    {
     "name": "stdout",
     "output_type": "stream",
     "text": [
      "2025-08-01 14:19:18 __main__ INFO     Layer: 42, Head: 30\n"
     ]
    },
    {
     "data": {
      "text/html": [
       "<div id=\"circuits-vis-36a7b112-cfaa\" style=\"margin: 15px 0;\"/>\n",
       "    <script crossorigin type=\"module\">\n",
       "    import { render, ColoredTokens } from \"https://unpkg.com/circuitsvis@1.43.3/dist/cdn/esm.js\";\n",
       "    render(\n",
       "      \"circuits-vis-36a7b112-cfaa\",\n",
       "      ColoredTokens,\n",
       "      {\"tokens\": [\"1\", \".\", \" O\", \"'D\", \"onn\", \"ell\", \",\", \" Nor\", \"ah\", \"\\n\", \"2\", \".\", \" Roberts\", \",\", \" Julia\", \"\\n\", \"3\", \".\", \" Mc\", \"Il\", \"roy\", \",\", \" Rory\", \"\\n\", \"4\", \".\", \" K\", \"vit\", \"ov\\u00e1\", \",\", \" Petra\", \"\\n\", \"5\", \".\", \" L\", \"oub\", \"out\", \"in\", \",\", \" Christian\", \"\\n\", \"6\", \".\", \" Anderson\", \",\", \" Wes\", \"\\n\", \"Who\", \" among\", \" these\", \" people\", \" mentioned\", \" above\", \" is\", \" by\", \" profession\", \" a\", \" actor\", \"?\\n\", \"Answer\", \":\"], \"values\": [0.005859375, 0.0018157958984375, 0.001251220703125, 0.0035552978515625, 0.00665283203125, 0.00457763671875, 0.009521484375, 0.00162506103515625, 0.0037841796875, 0.00897216796875, 0.006744384765625, 0.006744384765625, 0.173828125, 0.076171875, 0.05517578125, 0.06591796875, 0.01416015625, 0.0238037109375, 0.03173828125, 0.004486083984375, 0.0030364990234375, 0.003448486328125, 0.00122833251953125, 0.0069580078125, 0.00372314453125, 0.005340576171875, 0.00518798828125, 0.00112152099609375, 0.0020599365234375, 0.00112152099609375, 0.0006561279296875, 0.002197265625, 0.00067901611328125, 0.0026092529296875, 0.004486083984375, 0.00141143798828125, 0.00015163421630859375, 0.000701904296875, 0.00049591064453125, 0.0003299713134765625, 0.00098419189453125, 0.00153350830078125, 0.002197265625, 0.0093994140625, 0.0159912109375, 0.0016021728515625, 0.003448486328125, 0.005584716796875, 0.00162506103515625, 0.00145721435546875, 0.00176239013671875, 0.0019073486328125, 0.001708984375, 0.00115203857421875, 0.000957489013671875, 0.0027313232421875, 0.00141143798828125, 0.0189208984375, 0.007781982421875, 0.006134033203125, 0.01556396484375]}\n",
       "    )\n",
       "    </script>"
      ],
      "text/plain": [
       "<circuitsvis.utils.render.RenderedHTML at 0x7fa4c0445490>"
      ]
     },
     "metadata": {},
     "output_type": "display_data"
    },
    {
     "name": "stdout",
     "output_type": "stream",
     "text": [
      "2025-08-01 14:19:19 __main__ INFO     Layer: 47, Head: 18\n"
     ]
    },
    {
     "data": {
      "text/html": [
       "<div id=\"circuits-vis-83c1dcd9-c6b9\" style=\"margin: 15px 0;\"/>\n",
       "    <script crossorigin type=\"module\">\n",
       "    import { render, ColoredTokens } from \"https://unpkg.com/circuitsvis@1.43.3/dist/cdn/esm.js\";\n",
       "    render(\n",
       "      \"circuits-vis-83c1dcd9-c6b9\",\n",
       "      ColoredTokens,\n",
       "      {\"tokens\": [\"1\", \".\", \" O\", \"'D\", \"onn\", \"ell\", \",\", \" Nor\", \"ah\", \"\\n\", \"2\", \".\", \" Roberts\", \",\", \" Julia\", \"\\n\", \"3\", \".\", \" Mc\", \"Il\", \"roy\", \",\", \" Rory\", \"\\n\", \"4\", \".\", \" K\", \"vit\", \"ov\\u00e1\", \",\", \" Petra\", \"\\n\", \"5\", \".\", \" L\", \"oub\", \"out\", \"in\", \",\", \" Christian\", \"\\n\", \"6\", \".\", \" Anderson\", \",\", \" Wes\", \"\\n\", \"Who\", \" among\", \" these\", \" people\", \" mentioned\", \" above\", \" is\", \" by\", \" profession\", \" a\", \" actor\", \"?\\n\", \"Answer\", \":\"], \"values\": [0.001983642578125, 0.0033416748046875, 0.000659942626953125, 0.000701904296875, 0.0003528594970703125, 0.000659942626953125, 0.0026092529296875, 0.0018768310546875, 0.00159454345703125, 0.00396728515625, 0.01348876953125, 0.005645751953125, 0.51953125, 0.08935546875, 0.058837890625, 0.0810546875, 0.038330078125, 0.04052734375, 0.0021514892578125, 0.0001163482666015625, 0.000270843505859375, 0.001129150390625, 0.0010223388671875, 0.00909423828125, 0.0103759765625, 0.00885009765625, 0.002471923828125, 1.52587890625e-05, 0.000156402587890625, 0.000370025634765625, 0.00019168853759765625, 0.003387451171875, 0.0009002685546875, 0.00372314453125, 0.004608154296875, 3.24249267578125e-05, 1.52587890625e-05, 4.291534423828125e-05, 9.059906005859375e-05, 4.291534423828125e-05, 0.0003643035888671875, 0.0035858154296875, 0.002227783203125, 0.00060272216796875, 0.006927490234375, 0.002593994140625, 0.0013427734375, 0.0028228759765625, 0.0003871917724609375, 0.00077056884765625, 0.0003643035888671875, 0.000156402587890625, 0.000820159912109375, 0.000514984130859375, 0.0003757476806640625, 0.000453948974609375, 0.000713348388671875, 0.00116729736328125, 0.004119873046875, 0.006134033203125, 0.0098876953125]}\n",
       "    )\n",
       "    </script>"
      ],
      "text/plain": [
       "<circuitsvis.utils.render.RenderedHTML at 0x7fa56796eb50>"
      ]
     },
     "metadata": {},
     "output_type": "display_data"
    },
    {
     "name": "stdout",
     "output_type": "stream",
     "text": [
      "2025-08-01 14:19:19 __main__ INFO     Layer: 52, Head: 58\n"
     ]
    },
    {
     "data": {
      "text/html": [
       "<div id=\"circuits-vis-2693050c-fe47\" style=\"margin: 15px 0;\"/>\n",
       "    <script crossorigin type=\"module\">\n",
       "    import { render, ColoredTokens } from \"https://unpkg.com/circuitsvis@1.43.3/dist/cdn/esm.js\";\n",
       "    render(\n",
       "      \"circuits-vis-2693050c-fe47\",\n",
       "      ColoredTokens,\n",
       "      {\"tokens\": [\"1\", \".\", \" O\", \"'D\", \"onn\", \"ell\", \",\", \" Nor\", \"ah\", \"\\n\", \"2\", \".\", \" Roberts\", \",\", \" Julia\", \"\\n\", \"3\", \".\", \" Mc\", \"Il\", \"roy\", \",\", \" Rory\", \"\\n\", \"4\", \".\", \" K\", \"vit\", \"ov\\u00e1\", \",\", \" Petra\", \"\\n\", \"5\", \".\", \" L\", \"oub\", \"out\", \"in\", \",\", \" Christian\", \"\\n\", \"6\", \".\", \" Anderson\", \",\", \" Wes\", \"\\n\", \"Who\", \" among\", \" these\", \" people\", \" mentioned\", \" above\", \" is\", \" by\", \" profession\", \" a\", \" actor\", \"?\\n\", \"Answer\", \":\"], \"values\": [0.0027923583984375, 0.005096435546875, 0.000904083251953125, 0.003936767578125, 0.01104736328125, 0.00823974609375, 0.0247802734375, 0.012939453125, 0.03076171875, 0.025390625, 0.005767822265625, 0.003997802734375, 0.11474609375, 0.032958984375, 0.337890625, 0.039306640625, 0.0030670166015625, 0.00738525390625, 0.0012969970703125, 0.0002841949462890625, 0.000514984130859375, 0.001007080078125, 0.003204345703125, 0.0033111572265625, 0.00146484375, 0.0015411376953125, 0.0005645751953125, 0.00011873245239257812, 0.00069427490234375, 0.000888824462890625, 0.000934600830078125, 0.0023040771484375, 0.00014781951904296875, 0.000728607177734375, 0.000946044921875, 0.0001430511474609375, 6.771087646484375e-05, 8.392333984375e-05, 0.00014781951904296875, 0.00011491775512695312, 8.96453857421875e-05, 0.000293731689453125, 0.0006103515625, 0.0005950927734375, 0.0052490234375, 0.0052490234375, 0.00142669677734375, 0.00144195556640625, 0.00250244140625, 0.000888824462890625, 0.000331878662109375, 0.0009918212890625, 0.00171661376953125, 0.000652313232421875, 0.0002841949462890625, 0.00131988525390625, 0.0013580322265625, 0.007171630859375, 0.002655029296875, 0.0015869140625, 0.0177001953125]}\n",
       "    )\n",
       "    </script>"
      ],
      "text/plain": [
       "<circuitsvis.utils.render.RenderedHTML at 0x7fa4a0115c50>"
      ]
     },
     "metadata": {},
     "output_type": "display_data"
    },
    {
     "data": {
      "text/plain": [
       "[PredictedToken(token=' Roberts', prob=0.314453125, logit=19.625, token_id=31248, metadata=None),\n",
       " PredictedToken(token=' Julia', prob=0.27734375, logit=19.5, token_id=40394, metadata=None),\n",
       " PredictedToken(token=' ', prob=0.1494140625, logit=18.875, token_id=220, metadata=None),\n",
       " PredictedToken(token=' (', prob=0.04833984375, logit=17.75, token_id=320, metadata=None),\n",
       " PredictedToken(token=' Option', prob=0.042724609375, logit=17.625, token_id=7104, metadata=None)]"
      ]
     },
     "execution_count": 19,
     "metadata": {},
     "output_type": "execute_result"
    }
   ],
   "source": [
    "verify_ind = verify_head_patterns(\n",
    "    prompt=prompt,\n",
    "    options=last_name_first,\n",
    "    pivot=sample.subj,\n",
    "    mt=mt,\n",
    "    value_weighted=False,\n",
    "    generate_full_answer=False,\n",
    "    ablate_possible_ans_info_from_options=True,\n",
    ")\n",
    "verify_ind[\"predictions\"]"
   ]
  },
  {
   "cell_type": "markdown",
   "id": "a6519ed6",
   "metadata": {},
   "source": [
    "### Different Attribute"
   ]
  },
  {
   "cell_type": "code",
   "execution_count": 20,
   "id": "7863a3af",
   "metadata": {},
   "outputs": [
    {
     "name": "stdout",
     "output_type": "stream",
     "text": [
      "2025-08-01 14:19:41 src.selection.data INFO     Loaded 16 categories\n"
     ]
    },
    {
     "data": {
      "text/plain": [
       "['Switzerland',\n",
       " 'UAE',\n",
       " 'Singapore',\n",
       " 'Canada',\n",
       " 'Mexico',\n",
       " 'Brazil',\n",
       " 'India',\n",
       " 'Australia',\n",
       " 'Israel',\n",
       " 'South Africa',\n",
       " 'United Kingdom',\n",
       " 'Trinidad and Tobago',\n",
       " 'New Zealand',\n",
       " 'United States',\n",
       " 'Belgium',\n",
       " 'France']"
      ]
     },
     "execution_count": 20,
     "metadata": {},
     "output_type": "execute_result"
    }
   ],
   "source": [
    "from src.selection.data  import load_people_by_category\n",
    "\n",
    "people_by_nationality = load_people_by_category(\n",
    "    tokenizer = mt.tokenizer,\n",
    "    path = os.path.join(env_utils.DEFAULT_DATA_DIR, \"selection_real/nationality.json\")\n",
    ")\n",
    "list(people_by_nationality.keys())"
   ]
  },
  {
   "cell_type": "code",
   "execution_count": 22,
   "id": "f6de76cc",
   "metadata": {},
   "outputs": [
    {
     "name": "stdout",
     "output_type": "stream",
     "text": [
      "Which person from the following list has their nationality in common with Margot Robbie?\n",
      "Options: J.K. Rowling, Ronaldo Nazário, Justin Bieber, Dick Lee, Elle Macpherson, Christian Louboutin.\n",
      "Ans: >> Elle Macpherson\n"
     ]
    }
   ],
   "source": [
    "from src.selection.data import get_random_sample\n",
    "\n",
    "sample = get_random_sample(\n",
    "    people_by_category=people_by_nationality,\n",
    "    mt=mt,\n",
    "    category=\"nationality\",\n",
    "    attribute=\"Australia\",\n",
    "    n_distractors=5\n",
    ")\n",
    "print(sample.prompt, \">>\", sample.obj)"
   ]
  },
  {
   "cell_type": "code",
   "execution_count": 23,
   "id": "a8bae6d5",
   "metadata": {},
   "outputs": [
    {
     "name": "stdout",
     "output_type": "stream",
     "text": [
      "J.K. Rowling, Ronaldo Nazário, Justin Bieber, Dick Lee, Elle Macpherson, Christian Louboutin\n",
      "Who among these people mentioned above is from Australia?\n",
      "Answer:  >>  Elle Macpherson\n"
     ]
    }
   ],
   "source": [
    "from src.functional import generate_with_patch, predict_next_token\n",
    "\n",
    "# prompt_template = \"\"\"Which of these peoples is by profession a {}?\n",
    "# options: {}\n",
    "# Answer:\"\"\"\n",
    "# prompt = prompt_template.format(\n",
    "#     sample.metadata[\"attribute\"],\n",
    "#     \", \".join(sample.options)\n",
    "# )\n",
    "\n",
    "prompt_template = \"\"\"{}\n",
    "Who among these people mentioned above is from {}?\n",
    "Answer:\"\"\"\n",
    "prompt = prompt_template.format(\n",
    "    \", \".join(sample.options),\n",
    "    sample.metadata[\"attribute\"]\n",
    ")\n",
    "\n",
    "print(prompt, \" >> \", sample.obj)"
   ]
  },
  {
   "cell_type": "code",
   "execution_count": 24,
   "id": "0fc6132a",
   "metadata": {},
   "outputs": [
    {
     "name": "stdout",
     "output_type": "stream",
     "text": [
      "2025-08-01 14:20:45 __main__ DEBUG    Generated full answer: \" Elle Macpherson\n",
      "Elle Macpherson is an Australian model, businesswoman, television host, and actress. She is known for her record\"\n",
      "2025-08-01 14:20:45 __main__ DEBUG    Predictions: ['\" Elle\"[46408] (p=0.969, logit=22.375)', '\" The\"[578] (p=0.011, logit=17.875)', '\" Only\"[8442] (p=0.004, logit=16.875)', '\" \"[220] (p=0.003, logit=16.500)', '\" None\"[2290] (p=0.002, logit=15.938)']\n",
      "layer=35\n"
     ]
    },
    {
     "data": {
      "text/html": [
       "<div id=\"circuits-vis-c744bffb-5aba\" style=\"margin: 15px 0;\"/>\n",
       "    <script crossorigin type=\"module\">\n",
       "    import { render, ColoredTokens } from \"https://unpkg.com/circuitsvis@1.43.3/dist/cdn/esm.js\";\n",
       "    render(\n",
       "      \"circuits-vis-c744bffb-5aba\",\n",
       "      ColoredTokens,\n",
       "      {\"tokens\": [\"J\", \".K\", \".\", \" Rowling\", \",\", \" Ronaldo\", \" Naz\", \"\\u00e1rio\", \",\", \" Justin\", \" Bieber\", \",\", \" Dick\", \" Lee\", \",\", \" Elle\", \" Mac\", \"ph\", \"erson\", \",\", \" Christian\", \" L\", \"oub\", \"out\", \"in\", \"\\n\", \"Who\", \" among\", \" these\", \" people\", \" mentioned\", \" above\", \" is\", \" from\", \" Australia\", \"?\\n\", \"Answer\", \":\"], \"values\": [0.01934981346130371, 0.000832999125123024, 0.0005182437598705292, 0.0037093758583068848, 0.002483837306499481, 0.0030569136142730713, 0.001140400767326355, 0.002487480640411377, 0.004846900701522827, 0.00221903994679451, 0.005044102668762207, 0.0033512860536575317, 0.0021240338683128357, 0.014546513557434082, 0.01292632520198822, 0.010522719472646713, 0.006812267005443573, 0.0068894848227500916, 0.0704403668642044, 0.013614773750305176, 0.0030046701431274414, 0.0009243860840797424, 0.001870766282081604, 0.0017952099442481995, 0.006876856088638306, 0.01140362024307251, 0.0041304826736450195, 0.006821704562753439, 0.008432582020759583, 0.0037553664296865463, 0.002719941083341837, 0.005749823525547981, 0.0061757443472743034, 0.008416509255766869, 0.03822743892669678, 0.03021681308746338, 0.019018419086933136, 0.03220635652542114]}\n",
       "    )\n",
       "    </script>"
      ],
      "text/plain": [
       "<circuitsvis.utils.render.RenderedHTML at 0x7fa5400fa850>"
      ]
     },
     "metadata": {},
     "output_type": "display_data"
    },
    {
     "name": "stdout",
     "output_type": "stream",
     "text": [
      "--------------------------------------------------------------------------------\n",
      "layer=47\n"
     ]
    },
    {
     "data": {
      "text/html": [
       "<div id=\"circuits-vis-727dc247-2d3f\" style=\"margin: 15px 0;\"/>\n",
       "    <script crossorigin type=\"module\">\n",
       "    import { render, ColoredTokens } from \"https://unpkg.com/circuitsvis@1.43.3/dist/cdn/esm.js\";\n",
       "    render(\n",
       "      \"circuits-vis-727dc247-2d3f\",\n",
       "      ColoredTokens,\n",
       "      {\"tokens\": [\"J\", \".K\", \".\", \" Rowling\", \",\", \" Ronaldo\", \" Naz\", \"\\u00e1rio\", \",\", \" Justin\", \" Bieber\", \",\", \" Dick\", \" Lee\", \",\", \" Elle\", \" Mac\", \"ph\", \"erson\", \",\", \" Christian\", \" L\", \"oub\", \"out\", \"in\", \"\\n\", \"Who\", \" among\", \" these\", \" people\", \" mentioned\", \" above\", \" is\", \" from\", \" Australia\", \"?\\n\", \"Answer\", \":\"], \"values\": [0.002031911164522171, 0.0003631953150033951, 0.0002314448356628418, 0.0006983540952205658, 0.00029045669361948967, 0.0007567368447780609, 0.0004476550966501236, 0.0007225945591926575, 0.0009936410933732986, 0.0005832221359014511, 0.0009691603481769562, 0.0007075434550642967, 0.0010507218539714813, 0.0008812174201011658, 0.002188200131058693, 0.013562183827161789, 0.002642497420310974, 0.0019372235983610153, 0.006140656769275665, 0.0017850305885076523, 0.001024782657623291, 0.00032731983810663223, 0.000692661851644516, 0.00020636525005102158, 0.000670846551656723, 0.0026309043169021606, 0.001058049499988556, 0.0010270141065120697, 0.0008648708462715149, 0.0005085021257400513, 0.0008219145238399506, 0.0005975291132926941, 0.0006967894732952118, 0.0010383576154708862, 0.00346258282661438, 0.005963176488876343, 0.006245821714401245, 0.003356657922267914]}\n",
       "    )\n",
       "    </script>"
      ],
      "text/plain": [
       "<circuitsvis.utils.render.RenderedHTML at 0x7fa4c0103d90>"
      ]
     },
     "metadata": {},
     "output_type": "display_data"
    },
    {
     "name": "stdout",
     "output_type": "stream",
     "text": [
      "--------------------------------------------------------------------------------\n",
      "layer=52\n"
     ]
    },
    {
     "data": {
      "text/html": [
       "<div id=\"circuits-vis-82d77bb7-37c5\" style=\"margin: 15px 0;\"/>\n",
       "    <script crossorigin type=\"module\">\n",
       "    import { render, ColoredTokens } from \"https://unpkg.com/circuitsvis@1.43.3/dist/cdn/esm.js\";\n",
       "    render(\n",
       "      \"circuits-vis-82d77bb7-37c5\",\n",
       "      ColoredTokens,\n",
       "      {\"tokens\": [\"J\", \".K\", \".\", \" Rowling\", \",\", \" Ronaldo\", \" Naz\", \"\\u00e1rio\", \",\", \" Justin\", \" Bieber\", \",\", \" Dick\", \" Lee\", \",\", \" Elle\", \" Mac\", \"ph\", \"erson\", \",\", \" Christian\", \" L\", \"oub\", \"out\", \"in\", \"\\n\", \"Who\", \" among\", \" these\", \" people\", \" mentioned\", \" above\", \" is\", \" from\", \" Australia\", \"?\\n\", \"Answer\", \":\"], \"values\": [0.0030599236488342285, 0.0011671669781208038, 0.0005986886098980904, 0.0014041037065908313, 0.0010260548442602158, 0.0017793066799640656, 0.0011096522212028503, 0.0015640156343579292, 0.002108108252286911, 0.0011976342648267746, 0.0009660525247454643, 0.0016121845692396164, 0.0025528334081172943, 0.0011406764388084412, 0.003644067794084549, 0.035449493676424026, 0.003129245713353157, 0.001660320907831192, 0.006163560785353184, 0.002904176712036133, 0.0016017258167266846, 0.0006950618699193001, 0.0005956776440143585, 0.0007958817295730114, 0.0008317017927765846, 0.00535321980714798, 0.002846835181117058, 0.0030800960958003998, 0.0018569612875580788, 0.0010316912084817886, 0.0011804415844380856, 0.0018387208692729473, 0.001607455313205719, 0.003061734139919281, 0.004699520766735077, 0.014795169234275818, 0.015140525996685028, 0.014741003513336182]}\n",
       "    )\n",
       "    </script>"
      ],
      "text/plain": [
       "<circuitsvis.utils.render.RenderedHTML at 0x7fa4a0486790>"
      ]
     },
     "metadata": {},
     "output_type": "display_data"
    },
    {
     "name": "stdout",
     "output_type": "stream",
     "text": [
      "--------------------------------------------------------------------------------\n",
      "======================================================================\n",
      "2025-08-01 14:20:46 __main__ INFO     Layer: 33, Head: 45\n"
     ]
    },
    {
     "data": {
      "text/html": [
       "<div id=\"circuits-vis-80c16508-242a\" style=\"margin: 15px 0;\"/>\n",
       "    <script crossorigin type=\"module\">\n",
       "    import { render, ColoredTokens } from \"https://unpkg.com/circuitsvis@1.43.3/dist/cdn/esm.js\";\n",
       "    render(\n",
       "      \"circuits-vis-80c16508-242a\",\n",
       "      ColoredTokens,\n",
       "      {\"tokens\": [\"J\", \".K\", \".\", \" Rowling\", \",\", \" Ronaldo\", \" Naz\", \"\\u00e1rio\", \",\", \" Justin\", \" Bieber\", \",\", \" Dick\", \" Lee\", \",\", \" Elle\", \" Mac\", \"ph\", \"erson\", \",\", \" Christian\", \" L\", \"oub\", \"out\", \"in\", \"\\n\", \"Who\", \" among\", \" these\", \" people\", \" mentioned\", \" above\", \" is\", \" from\", \" Australia\", \"?\\n\", \"Answer\", \":\"], \"values\": [0.02685546875, 0.00122833251953125, 0.0023040771484375, 0.0034027099609375, 0.0019989013671875, 0.0023345947265625, 0.007659912109375, 0.00543212890625, 0.00701904296875, 0.00982666015625, 0.00799560546875, 0.00616455078125, 0.007476806640625, 0.048095703125, 0.037841796875, 0.06298828125, 0.025390625, 0.04833984375, 0.1083984375, 0.00933837890625, 0.00579833984375, 0.0027313232421875, 0.004425048828125, 0.0009307861328125, 0.00408935546875, 0.018798828125, 0.005340576171875, 0.0026092529296875, 0.00701904296875, 0.0037994384765625, 0.002166748046875, 0.0032958984375, 0.0024566650390625, 0.005340576171875, 0.0361328125, 0.03271484375, 0.003570556640625, 0.0419921875]}\n",
       "    )\n",
       "    </script>"
      ],
      "text/plain": [
       "<circuitsvis.utils.render.RenderedHTML at 0x7fa4c01d4fd0>"
      ]
     },
     "metadata": {},
     "output_type": "display_data"
    },
    {
     "name": "stdout",
     "output_type": "stream",
     "text": [
      "2025-08-01 14:20:46 __main__ INFO     Layer: 33, Head: 18\n"
     ]
    },
    {
     "data": {
      "text/html": [
       "<div id=\"circuits-vis-15c4ff96-e38f\" style=\"margin: 15px 0;\"/>\n",
       "    <script crossorigin type=\"module\">\n",
       "    import { render, ColoredTokens } from \"https://unpkg.com/circuitsvis@1.43.3/dist/cdn/esm.js\";\n",
       "    render(\n",
       "      \"circuits-vis-15c4ff96-e38f\",\n",
       "      ColoredTokens,\n",
       "      {\"tokens\": [\"J\", \".K\", \".\", \" Rowling\", \",\", \" Ronaldo\", \" Naz\", \"\\u00e1rio\", \",\", \" Justin\", \" Bieber\", \",\", \" Dick\", \" Lee\", \",\", \" Elle\", \" Mac\", \"ph\", \"erson\", \",\", \" Christian\", \" L\", \"oub\", \"out\", \"in\", \"\\n\", \"Who\", \" among\", \" these\", \" people\", \" mentioned\", \" above\", \" is\", \" from\", \" Australia\", \"?\\n\", \"Answer\", \":\"], \"values\": [0.017578125, 0.00128936767578125, 0.00115203857421875, 0.0045166015625, 0.002899169921875, 0.0016021728515625, 0.00189971923828125, 0.006500244140625, 0.0062255859375, 0.003082275390625, 0.00927734375, 0.00274658203125, 0.006195068359375, 0.06396484375, 0.052978515625, 0.12890625, 0.0732421875, 0.0257568359375, 0.416015625, 0.0096435546875, 0.006561279296875, 0.00124359130859375, 0.0059814453125, 0.00145721435546875, 0.019287109375, 0.00183868408203125, 0.00023746490478515625, 0.00010251998901367188, 0.0001277923583984375, 0.00016880035400390625, 7.486343383789062e-05, 8.7738037109375e-05, 0.00010251998901367188, 0.0001354217529296875, 0.00122833251953125, 0.0004177093505859375, 7.2479248046875e-05, 0.00115203857421875]}\n",
       "    )\n",
       "    </script>"
      ],
      "text/plain": [
       "<circuitsvis.utils.render.RenderedHTML at 0x7fa4c0468e10>"
      ]
     },
     "metadata": {},
     "output_type": "display_data"
    },
    {
     "name": "stdout",
     "output_type": "stream",
     "text": [
      "2025-08-01 14:20:46 __main__ INFO     Layer: 34, Head: 1\n"
     ]
    },
    {
     "data": {
      "text/html": [
       "<div id=\"circuits-vis-3f3f0749-2162\" style=\"margin: 15px 0;\"/>\n",
       "    <script crossorigin type=\"module\">\n",
       "    import { render, ColoredTokens } from \"https://unpkg.com/circuitsvis@1.43.3/dist/cdn/esm.js\";\n",
       "    render(\n",
       "      \"circuits-vis-3f3f0749-2162\",\n",
       "      ColoredTokens,\n",
       "      {\"tokens\": [\"J\", \".K\", \".\", \" Rowling\", \",\", \" Ronaldo\", \" Naz\", \"\\u00e1rio\", \",\", \" Justin\", \" Bieber\", \",\", \" Dick\", \" Lee\", \",\", \" Elle\", \" Mac\", \"ph\", \"erson\", \",\", \" Christian\", \" L\", \"oub\", \"out\", \"in\", \"\\n\", \"Who\", \" among\", \" these\", \" people\", \" mentioned\", \" above\", \" is\", \" from\", \" Australia\", \"?\\n\", \"Answer\", \":\"], \"values\": [0.0074462890625, 1.2516975402832031e-05, 3.62396240234375e-05, 2.491474151611328e-05, 3.1948089599609375e-05, 8.344650268554688e-06, 2.9087066650390625e-05, 7.152557373046875e-06, 6.151199340820312e-05, 0.00020885467529296875, 6.771087646484375e-05, 0.00010347366333007812, 0.0001964569091796875, 0.00726318359375, 0.006072998046875, 0.12255859375, 0.039794921875, 0.1923828125, 0.5, 0.00067901611328125, 0.00012493133544921875, 4.363059997558594e-05, 1.4185905456542969e-05, 2.7120113372802734e-06, 1.7642974853515625e-05, 0.00104522705078125, 0.0004482269287109375, 0.00043487548828125, 0.0002765655517578125, 0.00013065338134765625, 7.009506225585938e-05, 0.00013065338134765625, 0.0003185272216796875, 0.000377655029296875, 0.0169677734375, 0.007354736328125, 0.000263214111328125, 0.0196533203125]}\n",
       "    )\n",
       "    </script>"
      ],
      "text/plain": [
       "<circuitsvis.utils.render.RenderedHTML at 0x7fa4e03d18d0>"
      ]
     },
     "metadata": {},
     "output_type": "display_data"
    },
    {
     "name": "stdout",
     "output_type": "stream",
     "text": [
      "2025-08-01 14:20:46 __main__ INFO     Layer: 34, Head: 6\n"
     ]
    },
    {
     "data": {
      "text/html": [
       "<div id=\"circuits-vis-c33b0e2f-b1a9\" style=\"margin: 15px 0;\"/>\n",
       "    <script crossorigin type=\"module\">\n",
       "    import { render, ColoredTokens } from \"https://unpkg.com/circuitsvis@1.43.3/dist/cdn/esm.js\";\n",
       "    render(\n",
       "      \"circuits-vis-c33b0e2f-b1a9\",\n",
       "      ColoredTokens,\n",
       "      {\"tokens\": [\"J\", \".K\", \".\", \" Rowling\", \",\", \" Ronaldo\", \" Naz\", \"\\u00e1rio\", \",\", \" Justin\", \" Bieber\", \",\", \" Dick\", \" Lee\", \",\", \" Elle\", \" Mac\", \"ph\", \"erson\", \",\", \" Christian\", \" L\", \"oub\", \"out\", \"in\", \"\\n\", \"Who\", \" among\", \" these\", \" people\", \" mentioned\", \" above\", \" is\", \" from\", \" Australia\", \"?\\n\", \"Answer\", \":\"], \"values\": [0.01507568359375, 5.984306335449219e-05, 0.000202178955078125, 0.00018405914306640625, 0.0001735687255859375, 2.4199485778808594e-05, 0.000247955322265625, 3.0994415283203125e-05, 0.00013065338134765625, 0.0004215240478515625, 0.00010824203491210938, 0.0002727508544921875, 0.00058746337890625, 0.006805419921875, 0.005218505859375, 0.1083984375, 0.08349609375, 0.328125, 0.240234375, 0.00092315673828125, 0.000339508056640625, 0.000263214111328125, 0.00012683868408203125, 2.002716064453125e-05, 5.125999450683594e-05, 0.00176239013671875, 0.00090789794921875, 0.000850677490234375, 0.000865936279296875, 0.0001392364501953125, 0.00022220611572265625, 0.0004291534423828125, 0.000492095947265625, 0.000286102294921875, 0.00946044921875, 0.00982666015625, 0.00034332275390625, 0.0235595703125]}\n",
       "    )\n",
       "    </script>"
      ],
      "text/plain": [
       "<circuitsvis.utils.render.RenderedHTML at 0x7fa4c0468e10>"
      ]
     },
     "metadata": {},
     "output_type": "display_data"
    },
    {
     "name": "stdout",
     "output_type": "stream",
     "text": [
      "2025-08-01 14:20:46 __main__ INFO     Layer: 34, Head: 7\n"
     ]
    },
    {
     "data": {
      "text/html": [
       "<div id=\"circuits-vis-02a4627b-ddb1\" style=\"margin: 15px 0;\"/>\n",
       "    <script crossorigin type=\"module\">\n",
       "    import { render, ColoredTokens } from \"https://unpkg.com/circuitsvis@1.43.3/dist/cdn/esm.js\";\n",
       "    render(\n",
       "      \"circuits-vis-02a4627b-ddb1\",\n",
       "      ColoredTokens,\n",
       "      {\"tokens\": [\"J\", \".K\", \".\", \" Rowling\", \",\", \" Ronaldo\", \" Naz\", \"\\u00e1rio\", \",\", \" Justin\", \" Bieber\", \",\", \" Dick\", \" Lee\", \",\", \" Elle\", \" Mac\", \"ph\", \"erson\", \",\", \" Christian\", \" L\", \"oub\", \"out\", \"in\", \"\\n\", \"Who\", \" among\", \" these\", \" people\", \" mentioned\", \" above\", \" is\", \" from\", \" Australia\", \"?\\n\", \"Answer\", \":\"], \"values\": [0.037353515625, 0.00015354156494140625, 0.0002460479736328125, 0.000637054443359375, 0.00052642822265625, 0.000335693359375, 0.000518798828125, 0.00057220458984375, 0.00057220458984375, 0.000782012939453125, 0.0010528564453125, 0.000885009765625, 0.00079345703125, 0.0118408203125, 0.00982666015625, 0.0264892578125, 0.027587890625, 0.091796875, 0.287109375, 0.00244140625, 0.000942230224609375, 0.000667572021484375, 0.00130462646484375, 0.000278472900390625, 0.00115203857421875, 0.006805419921875, 0.003814697265625, 0.0068359375, 0.0120849609375, 0.0019989013671875, 0.00225830078125, 0.007293701171875, 0.003448486328125, 0.002288818359375, 0.091796875, 0.06494140625, 0.0029296875, 0.06884765625]}\n",
       "    )\n",
       "    </script>"
      ],
      "text/plain": [
       "<circuitsvis.utils.render.RenderedHTML at 0x7fa5679bd550>"
      ]
     },
     "metadata": {},
     "output_type": "display_data"
    },
    {
     "name": "stdout",
     "output_type": "stream",
     "text": [
      "2025-08-01 14:20:46 __main__ INFO     Layer: 35, Head: 19\n"
     ]
    },
    {
     "data": {
      "text/html": [
       "<div id=\"circuits-vis-375728fc-1c69\" style=\"margin: 15px 0;\"/>\n",
       "    <script crossorigin type=\"module\">\n",
       "    import { render, ColoredTokens } from \"https://unpkg.com/circuitsvis@1.43.3/dist/cdn/esm.js\";\n",
       "    render(\n",
       "      \"circuits-vis-375728fc-1c69\",\n",
       "      ColoredTokens,\n",
       "      {\"tokens\": [\"J\", \".K\", \".\", \" Rowling\", \",\", \" Ronaldo\", \" Naz\", \"\\u00e1rio\", \",\", \" Justin\", \" Bieber\", \",\", \" Dick\", \" Lee\", \",\", \" Elle\", \" Mac\", \"ph\", \"erson\", \",\", \" Christian\", \" L\", \"oub\", \"out\", \"in\", \"\\n\", \"Who\", \" among\", \" these\", \" people\", \" mentioned\", \" above\", \" is\", \" from\", \" Australia\", \"?\\n\", \"Answer\", \":\"], \"values\": [0.003997802734375, 0.0002880096435546875, 0.00011968612670898438, 0.0028228759765625, 0.001434326171875, 0.0028228759765625, 0.0009918212890625, 0.004608154296875, 0.0076904296875, 0.00128936767578125, 0.00714111328125, 0.0027618408203125, 0.0013427734375, 0.11083984375, 0.03515625, 0.0201416015625, 0.01806640625, 0.0279541015625, 0.63671875, 0.0120849609375, 0.001434326171875, 0.000370025634765625, 0.0030364990234375, 0.00077056884765625, 0.007720947265625, 0.004425048828125, 0.000217437744140625, 3.266334533691406e-05, 0.00018310546875, 3.838539123535156e-05, 1.4543533325195312e-05, 8.52346420288086e-06, 2.2530555725097656e-05, 0.0002422332763671875, 0.004425048828125, 0.0010528564453125, 6.103515625e-05, 0.00128936767578125]}\n",
       "    )\n",
       "    </script>"
      ],
      "text/plain": [
       "<circuitsvis.utils.render.RenderedHTML at 0x7fa4a0455550>"
      ]
     },
     "metadata": {},
     "output_type": "display_data"
    },
    {
     "name": "stdout",
     "output_type": "stream",
     "text": [
      "2025-08-01 14:20:46 __main__ INFO     Layer: 39, Head: 40\n"
     ]
    },
    {
     "data": {
      "text/html": [
       "<div id=\"circuits-vis-10cbca50-edb0\" style=\"margin: 15px 0;\"/>\n",
       "    <script crossorigin type=\"module\">\n",
       "    import { render, ColoredTokens } from \"https://unpkg.com/circuitsvis@1.43.3/dist/cdn/esm.js\";\n",
       "    render(\n",
       "      \"circuits-vis-10cbca50-edb0\",\n",
       "      ColoredTokens,\n",
       "      {\"tokens\": [\"J\", \".K\", \".\", \" Rowling\", \",\", \" Ronaldo\", \" Naz\", \"\\u00e1rio\", \",\", \" Justin\", \" Bieber\", \",\", \" Dick\", \" Lee\", \",\", \" Elle\", \" Mac\", \"ph\", \"erson\", \",\", \" Christian\", \" L\", \"oub\", \"out\", \"in\", \"\\n\", \"Who\", \" among\", \" these\", \" people\", \" mentioned\", \" above\", \" is\", \" from\", \" Australia\", \"?\\n\", \"Answer\", \":\"], \"values\": [0.0047607421875, 0.00020503997802734375, 0.0004558563232421875, 0.00010013580322265625, 0.00078582763671875, 0.00026702880859375, 0.00063323974609375, 0.00052642822265625, 0.00701904296875, 0.004913330078125, 0.00141143798828125, 0.006256103515625, 0.00653076171875, 0.01953125, 0.0517578125, 0.205078125, 0.08544921875, 0.013916015625, 0.34375, 0.0223388671875, 0.01019287109375, 0.0027923583984375, 0.0001506805419921875, 1.1205673217773438e-05, 0.00457763671875, 0.00872802734375, 0.002685546875, 0.00250244140625, 0.00063323974609375, 0.00012874603271484375, 0.00016498565673828125, 0.00020885467529296875, 0.000934600830078125, 0.000621795654296875, 0.0035247802734375, 0.064453125, 0.0026397705078125, 0.06396484375]}\n",
       "    )\n",
       "    </script>"
      ],
      "text/plain": [
       "<circuitsvis.utils.render.RenderedHTML at 0x7fa50012b650>"
      ]
     },
     "metadata": {},
     "output_type": "display_data"
    },
    {
     "name": "stdout",
     "output_type": "stream",
     "text": [
      "2025-08-01 14:20:46 __main__ INFO     Layer: 42, Head: 30\n"
     ]
    },
    {
     "data": {
      "text/html": [
       "<div id=\"circuits-vis-1026a9fd-fb93\" style=\"margin: 15px 0;\"/>\n",
       "    <script crossorigin type=\"module\">\n",
       "    import { render, ColoredTokens } from \"https://unpkg.com/circuitsvis@1.43.3/dist/cdn/esm.js\";\n",
       "    render(\n",
       "      \"circuits-vis-1026a9fd-fb93\",\n",
       "      ColoredTokens,\n",
       "      {\"tokens\": [\"J\", \".K\", \".\", \" Rowling\", \",\", \" Ronaldo\", \" Naz\", \"\\u00e1rio\", \",\", \" Justin\", \" Bieber\", \",\", \" Dick\", \" Lee\", \",\", \" Elle\", \" Mac\", \"ph\", \"erson\", \",\", \" Christian\", \" L\", \"oub\", \"out\", \"in\", \"\\n\", \"Who\", \" among\", \" these\", \" people\", \" mentioned\", \" above\", \" is\", \" from\", \" Australia\", \"?\\n\", \"Answer\", \":\"], \"values\": [0.00311279296875, 0.000621795654296875, 0.0010223388671875, 0.00115966796875, 0.000469207763671875, 0.002655029296875, 0.0025787353515625, 0.000728607177734375, 0.004180908203125, 0.0022125244140625, 0.00689697265625, 0.004608154296875, 0.0034637451171875, 0.0184326171875, 0.023681640625, 0.061767578125, 0.09814453125, 0.07080078125, 0.193359375, 0.013916015625, 0.005218505859375, 0.0031585693359375, 0.002532958984375, 0.00011157989501953125, 0.005889892578125, 0.006591796875, 0.0027008056640625, 0.00171661376953125, 0.002655029296875, 0.000904083251953125, 0.00115966796875, 0.000904083251953125, 0.00115966796875, 0.002532958984375, 0.01220703125, 0.01519775390625, 0.00311279296875, 0.017333984375]}\n",
       "    )\n",
       "    </script>"
      ],
      "text/plain": [
       "<circuitsvis.utils.render.RenderedHTML at 0x7fa4c04d9b10>"
      ]
     },
     "metadata": {},
     "output_type": "display_data"
    },
    {
     "name": "stdout",
     "output_type": "stream",
     "text": [
      "2025-08-01 14:20:46 __main__ INFO     Layer: 47, Head: 18\n"
     ]
    },
    {
     "data": {
      "text/html": [
       "<div id=\"circuits-vis-5e3f64b0-0e5d\" style=\"margin: 15px 0;\"/>\n",
       "    <script crossorigin type=\"module\">\n",
       "    import { render, ColoredTokens } from \"https://unpkg.com/circuitsvis@1.43.3/dist/cdn/esm.js\";\n",
       "    render(\n",
       "      \"circuits-vis-5e3f64b0-0e5d\",\n",
       "      ColoredTokens,\n",
       "      {\"tokens\": [\"J\", \".K\", \".\", \" Rowling\", \",\", \" Ronaldo\", \" Naz\", \"\\u00e1rio\", \",\", \" Justin\", \" Bieber\", \",\", \" Dick\", \" Lee\", \",\", \" Elle\", \" Mac\", \"ph\", \"erson\", \",\", \" Christian\", \" L\", \"oub\", \"out\", \"in\", \"\\n\", \"Who\", \" among\", \" these\", \" people\", \" mentioned\", \" above\", \" is\", \" from\", \" Australia\", \"?\\n\", \"Answer\", \":\"], \"values\": [0.0084228515625, 5.5789947509765625e-05, 0.00012969970703125, 0.00010395050048828125, 0.00165557861328125, 0.0002002716064453125, 0.000362396240234375, 0.0002269744873046875, 0.0128173828125, 0.00052642822265625, 0.001373291015625, 0.0118408203125, 0.00396728515625, 0.00176239013671875, 0.039306640625, 0.1796875, 0.05615234375, 0.017822265625, 0.1259765625, 0.044921875, 0.004791259765625, 0.002899169921875, 0.00010395050048828125, 2.5510787963867188e-05, 0.002410888671875, 0.027099609375, 0.00946044921875, 0.0033416748046875, 0.003662109375, 0.001708984375, 0.000957489013671875, 0.000957489013671875, 0.00604248046875, 0.005096435546875, 0.003143310546875, 0.055908203125, 0.0084228515625, 0.037109375]}\n",
       "    )\n",
       "    </script>"
      ],
      "text/plain": [
       "<circuitsvis.utils.render.RenderedHTML at 0x7fa4c0248490>"
      ]
     },
     "metadata": {},
     "output_type": "display_data"
    },
    {
     "name": "stdout",
     "output_type": "stream",
     "text": [
      "2025-08-01 14:20:47 __main__ INFO     Layer: 52, Head: 58\n"
     ]
    },
    {
     "data": {
      "text/html": [
       "<div id=\"circuits-vis-525dacb3-f576\" style=\"margin: 15px 0;\"/>\n",
       "    <script crossorigin type=\"module\">\n",
       "    import { render, ColoredTokens } from \"https://unpkg.com/circuitsvis@1.43.3/dist/cdn/esm.js\";\n",
       "    render(\n",
       "      \"circuits-vis-525dacb3-f576\",\n",
       "      ColoredTokens,\n",
       "      {\"tokens\": [\"J\", \".K\", \".\", \" Rowling\", \",\", \" Ronaldo\", \" Naz\", \"\\u00e1rio\", \",\", \" Justin\", \" Bieber\", \",\", \" Dick\", \" Lee\", \",\", \" Elle\", \" Mac\", \"ph\", \"erson\", \",\", \" Christian\", \" L\", \"oub\", \"out\", \"in\", \"\\n\", \"Who\", \" among\", \" these\", \" people\", \" mentioned\", \" above\", \" is\", \" from\", \" Australia\", \"?\\n\", \"Answer\", \":\"], \"values\": [0.004486083984375, 0.0001392364501953125, 0.00021648406982421875, 0.0002613067626953125, 0.000926971435546875, 0.00011968612670898438, 0.005157470703125, 0.000843048095703125, 0.004852294921875, 0.0002689361572265625, 0.00225830078125, 0.00421142578125, 0.0029449462890625, 0.01470947265625, 0.0169677734375, 0.2314453125, 0.11474609375, 0.03564453125, 0.1845703125, 0.01068115234375, 0.00128173828125, 0.0118408203125, 0.00128173828125, 6.318092346191406e-06, 0.003173828125, 0.01165771484375, 0.0013427734375, 0.00244140625, 0.0005035400390625, 0.000278472900390625, 0.000732421875, 0.0003452301025390625, 0.00115203857421875, 0.001678466796875, 0.0032806396484375, 0.01416015625, 0.00141143798828125, 0.01220703125]}\n",
       "    )\n",
       "    </script>"
      ],
      "text/plain": [
       "<circuitsvis.utils.render.RenderedHTML at 0x7fa4c01d4fd0>"
      ]
     },
     "metadata": {},
     "output_type": "display_data"
    },
    {
     "data": {
      "text/plain": [
       "[PredictedToken(token=' Elle', prob=0.96875, logit=22.375, token_id=46408, metadata=None),\n",
       " PredictedToken(token=' The', prob=0.0107421875, logit=17.875, token_id=578, metadata=None),\n",
       " PredictedToken(token=' Only', prob=0.00396728515625, logit=16.875, token_id=8442, metadata=None),\n",
       " PredictedToken(token=' ', prob=0.002716064453125, logit=16.5, token_id=220, metadata=None),\n",
       " PredictedToken(token=' None', prob=0.00154876708984375, logit=15.9375, token_id=2290, metadata=None)]"
      ]
     },
     "execution_count": 24,
     "metadata": {},
     "output_type": "execute_result"
    }
   ],
   "source": [
    "verify = verify_head_patterns(\n",
    "    prompt=prompt,\n",
    "    options=sample.options,\n",
    "    pivot=sample.subj,\n",
    "    mt=mt,\n",
    "    value_weighted=False,\n",
    "    generate_full_answer=True,\n",
    ")\n",
    "\n",
    "verify[\"predictions\"]"
   ]
  },
  {
   "cell_type": "code",
   "execution_count": 25,
   "id": "fc7375bc",
   "metadata": {},
   "outputs": [
    {
     "name": "stdout",
     "output_type": "stream",
     "text": [
      "2025-08-01 14:21:25 __main__ DEBUG    J.K. Rowling | opt_range=(1, 5) | bare_opt_range=(4, 8) | \"J.K. Rowling\"\n",
      "2025-08-01 14:21:26 __main__ DEBUG    Ronaldo Nazário | opt_range=(6, 9) | bare_opt_range=(4, 7) | \" Ronaldo Nazário\"\n",
      "2025-08-01 14:21:26 __main__ DEBUG    Justin Bieber | opt_range=(10, 12) | bare_opt_range=(4, 6) | \" Justin Bieber\"\n",
      "2025-08-01 14:21:26 __main__ DEBUG    Dick Lee | opt_range=(13, 15) | bare_opt_range=(4, 6) | \" Dick Lee\"\n",
      "2025-08-01 14:21:26 __main__ DEBUG    Elle Macpherson | opt_range=(16, 20) | bare_opt_range=(4, 8) | \" Elle Macpherson\"\n",
      "2025-08-01 14:21:26 __main__ DEBUG    Christian Louboutin | opt_range=(21, 26) | bare_opt_range=(4, 9) | \" Christian Louboutin\"\n",
      "2025-08-01 14:21:33 __main__ DEBUG    Predictions: ['\" Elle\"[46408] (p=0.879, logit=20.625)', '\" Dick\"[23373] (p=0.039, logit=17.500)', '\" The\"[578] (p=0.021, logit=16.875)', '\" \"[220] (p=0.013, logit=16.375)', '\" None\"[2290] (p=0.004, logit=15.188)']\n",
      "layer=35\n"
     ]
    },
    {
     "data": {
      "text/html": [
       "<div id=\"circuits-vis-096f9f75-0150\" style=\"margin: 15px 0;\"/>\n",
       "    <script crossorigin type=\"module\">\n",
       "    import { render, ColoredTokens } from \"https://unpkg.com/circuitsvis@1.43.3/dist/cdn/esm.js\";\n",
       "    render(\n",
       "      \"circuits-vis-096f9f75-0150\",\n",
       "      ColoredTokens,\n",
       "      {\"tokens\": [\"J\", \".K\", \".\", \" Rowling\", \",\", \" Ronaldo\", \" Naz\", \"\\u00e1rio\", \",\", \" Justin\", \" Bieber\", \",\", \" Dick\", \" Lee\", \",\", \" Elle\", \" Mac\", \"ph\", \"erson\", \",\", \" Christian\", \" L\", \"oub\", \"out\", \"in\", \"\\n\", \"Who\", \" among\", \" these\", \" people\", \" mentioned\", \" above\", \" is\", \" from\", \" Australia\", \"?\\n\", \"Answer\", \":\"], \"values\": [0.0006036488339304924, 0.0033259987831115723, 0.0011087208986282349, 0.003386169672012329, 0.0019258037209510803, 0.0037925243377685547, 0.0012884587049484253, 0.0032062679529190063, 0.0035124793648719788, 0.0024422407150268555, 0.005322456359863281, 0.0026080459356307983, 0.0027114152908325195, 0.020130813121795654, 0.009070336818695068, 0.01178404688835144, 0.006869778037071228, 0.00648769736289978, 0.05763816833496094, 0.006963178515434265, 0.0057646743953228, 0.0017107725143432617, 0.0036388635635375977, 0.003555506467819214, 0.007751017808914185, 0.015715956687927246, 0.005455583333969116, 0.007833734154701233, 0.007651068270206451, 0.004807803779840469, 0.0045836265198886395, 0.007275679614394903, 0.007101450115442276, 0.01071203500032425, 0.04568147659301758, 0.03586900234222412, 0.022346198558807373, 0.05028557777404785]}\n",
       "    )\n",
       "    </script>"
      ],
      "text/plain": [
       "<circuitsvis.utils.render.RenderedHTML at 0x7fa4c02c2590>"
      ]
     },
     "metadata": {},
     "output_type": "display_data"
    },
    {
     "name": "stdout",
     "output_type": "stream",
     "text": [
      "--------------------------------------------------------------------------------\n",
      "layer=47\n"
     ]
    },
    {
     "data": {
      "text/html": [
       "<div id=\"circuits-vis-43185709-548e\" style=\"margin: 15px 0;\"/>\n",
       "    <script crossorigin type=\"module\">\n",
       "    import { render, ColoredTokens } from \"https://unpkg.com/circuitsvis@1.43.3/dist/cdn/esm.js\";\n",
       "    render(\n",
       "      \"circuits-vis-43185709-548e\",\n",
       "      ColoredTokens,\n",
       "      {\"tokens\": [\"J\", \".K\", \".\", \" Rowling\", \",\", \" Ronaldo\", \" Naz\", \"\\u00e1rio\", \",\", \" Justin\", \" Bieber\", \",\", \" Dick\", \" Lee\", \",\", \" Elle\", \" Mac\", \"ph\", \"erson\", \",\", \" Christian\", \" L\", \"oub\", \"out\", \"in\", \"\\n\", \"Who\", \" among\", \" these\", \" people\", \" mentioned\", \" above\", \" is\", \" from\", \" Australia\", \"?\\n\", \"Answer\", \":\"], \"values\": [0.0001740856096148491, 0.0006164610385894775, 0.0001785478089004755, 0.000398438423871994, 0.00023087253794074059, 0.0007188916206359863, 0.00047762133181095123, 0.0005943961441516876, 0.0004694107919931412, 0.0006764968857169151, 0.0008034482598304749, 0.00037709809839725494, 0.002551443874835968, 0.0023540928959846497, 0.001121307723224163, 0.018528670072555542, 0.0038870517164468765, 0.0019205007702112198, 0.005449863150715828, 0.0008361567743122578, 0.0015505217015743256, 0.0004731966182589531, 0.0009849518537521362, 0.0006012888625264168, 0.000584515742957592, 0.002624332904815674, 0.0010412782430648804, 0.0009007565677165985, 0.0006160568445920944, 0.0004888838157057762, 0.000639691948890686, 0.0006239749491214752, 0.0005918033421039581, 0.0011902935802936554, 0.0041214823722839355, 0.003873109817504883, 0.006017923355102539, 0.004779167473316193]}\n",
       "    )\n",
       "    </script>"
      ],
      "text/plain": [
       "<circuitsvis.utils.render.RenderedHTML at 0x7fa4c03f6a90>"
      ]
     },
     "metadata": {},
     "output_type": "display_data"
    },
    {
     "name": "stdout",
     "output_type": "stream",
     "text": [
      "--------------------------------------------------------------------------------\n",
      "layer=52\n"
     ]
    },
    {
     "data": {
      "text/html": [
       "<div id=\"circuits-vis-c5f78d66-dfcb\" style=\"margin: 15px 0;\"/>\n",
       "    <script crossorigin type=\"module\">\n",
       "    import { render, ColoredTokens } from \"https://unpkg.com/circuitsvis@1.43.3/dist/cdn/esm.js\";\n",
       "    render(\n",
       "      \"circuits-vis-c5f78d66-dfcb\",\n",
       "      ColoredTokens,\n",
       "      {\"tokens\": [\"J\", \".K\", \".\", \" Rowling\", \",\", \" Ronaldo\", \" Naz\", \"\\u00e1rio\", \",\", \" Justin\", \" Bieber\", \",\", \" Dick\", \" Lee\", \",\", \" Elle\", \" Mac\", \"ph\", \"erson\", \",\", \" Christian\", \" L\", \"oub\", \"out\", \"in\", \"\\n\", \"Who\", \" among\", \" these\", \" people\", \" mentioned\", \" above\", \" is\", \" from\", \" Australia\", \"?\\n\", \"Answer\", \":\"], \"values\": [0.0008206544443964958, 0.00177818164229393, 0.0004598447121679783, 0.0015004873275756836, 0.0011407621204853058, 0.002057274803519249, 0.0012908168137073517, 0.0012721356470137835, 0.0012476220726966858, 0.0014178715646266937, 0.0010982267558574677, 0.0008733933791518211, 0.008328765630722046, 0.0029304958879947662, 0.0021429862827062607, 0.025460686534643173, 0.0032708458602428436, 0.0011816397309303284, 0.003742257133126259, 0.0017368849366903305, 0.002617171034216881, 0.0009208805859088898, 0.0008776683825999498, 0.0012877937406301498, 0.0006765443831682205, 0.005765855312347412, 0.002860136330127716, 0.0025828517973423004, 0.0012671928852796555, 0.0009075067937374115, 0.0010487902909517288, 0.0015793628990650177, 0.001429135911166668, 0.0035810917615890503, 0.005873493850231171, 0.009205736219882965, 0.01171046495437622, 0.017460830509662628]}\n",
       "    )\n",
       "    </script>"
      ],
      "text/plain": [
       "<circuitsvis.utils.render.RenderedHTML at 0x7fa4e024c210>"
      ]
     },
     "metadata": {},
     "output_type": "display_data"
    },
    {
     "name": "stdout",
     "output_type": "stream",
     "text": [
      "--------------------------------------------------------------------------------\n",
      "======================================================================\n",
      "2025-08-01 14:21:34 __main__ INFO     Layer: 33, Head: 45\n"
     ]
    },
    {
     "data": {
      "text/html": [
       "<div id=\"circuits-vis-892f4f51-8530\" style=\"margin: 15px 0;\"/>\n",
       "    <script crossorigin type=\"module\">\n",
       "    import { render, ColoredTokens } from \"https://unpkg.com/circuitsvis@1.43.3/dist/cdn/esm.js\";\n",
       "    render(\n",
       "      \"circuits-vis-892f4f51-8530\",\n",
       "      ColoredTokens,\n",
       "      {\"tokens\": [\"J\", \".K\", \".\", \" Rowling\", \",\", \" Ronaldo\", \" Naz\", \"\\u00e1rio\", \",\", \" Justin\", \" Bieber\", \",\", \" Dick\", \" Lee\", \",\", \" Elle\", \" Mac\", \"ph\", \"erson\", \",\", \" Christian\", \" L\", \"oub\", \"out\", \"in\", \"\\n\", \"Who\", \" among\", \" these\", \" people\", \" mentioned\", \" above\", \" is\", \" from\", \" Australia\", \"?\\n\", \"Answer\", \":\"], \"values\": [0.00121307373046875, 0.0028228759765625, 0.00112152099609375, 0.0027008056640625, 0.002410888671875, 0.002960205078125, 0.00616455078125, 0.005126953125, 0.00457763671875, 0.005126953125, 0.0048828125, 0.00762939453125, 0.0081787109375, 0.046142578125, 0.0213623046875, 0.056640625, 0.022216796875, 0.029296875, 0.11181640625, 0.00799560546875, 0.005279541015625, 0.00127410888671875, 0.0038604736328125, 0.0024871826171875, 0.0032958984375, 0.019775390625, 0.00518798828125, 0.0032958984375, 0.00457763671875, 0.0032501220703125, 0.0019073486328125, 0.005523681640625, 0.004791259765625, 0.0093994140625, 0.052734375, 0.06787109375, 0.0098876953125, 0.060302734375]}\n",
       "    )\n",
       "    </script>"
      ],
      "text/plain": [
       "<circuitsvis.utils.render.RenderedHTML at 0x7fa569f53f50>"
      ]
     },
     "metadata": {},
     "output_type": "display_data"
    },
    {
     "name": "stdout",
     "output_type": "stream",
     "text": [
      "2025-08-01 14:21:34 __main__ INFO     Layer: 33, Head: 18\n"
     ]
    },
    {
     "data": {
      "text/html": [
       "<div id=\"circuits-vis-a06ff423-0938\" style=\"margin: 15px 0;\"/>\n",
       "    <script crossorigin type=\"module\">\n",
       "    import { render, ColoredTokens } from \"https://unpkg.com/circuitsvis@1.43.3/dist/cdn/esm.js\";\n",
       "    render(\n",
       "      \"circuits-vis-a06ff423-0938\",\n",
       "      ColoredTokens,\n",
       "      {\"tokens\": [\"J\", \".K\", \".\", \" Rowling\", \",\", \" Ronaldo\", \" Naz\", \"\\u00e1rio\", \",\", \" Justin\", \" Bieber\", \",\", \" Dick\", \" Lee\", \",\", \" Elle\", \" Mac\", \"ph\", \"erson\", \",\", \" Christian\", \" L\", \"oub\", \"out\", \"in\", \"\\n\", \"Who\", \" among\", \" these\", \" people\", \" mentioned\", \" above\", \" is\", \" from\", \" Australia\", \"?\\n\", \"Answer\", \":\"], \"values\": [0.0002460479736328125, 0.00183868408203125, 0.000537872314453125, 0.00152587890625, 0.0018310546875, 0.00135040283203125, 0.00115203857421875, 0.00421142578125, 0.00408935546875, 0.002960205078125, 0.005279541015625, 0.0035247802734375, 0.00726318359375, 0.041015625, 0.043212890625, 0.15625, 0.05908203125, 0.01171875, 0.451171875, 0.0137939453125, 0.007415771484375, 0.00113677978515625, 0.004791259765625, 0.00048065185546875, 0.0137939453125, 0.004364013671875, 0.0002574920654296875, 0.0001468658447265625, 0.0001659393310546875, 0.000171661376953125, 9.775161743164062e-05, 0.0001468658447265625, 0.00016117095947265625, 0.000171661376953125, 0.0017852783203125, 0.00130462646484375, 0.00024127960205078125, 0.005767822265625]}\n",
       "    )\n",
       "    </script>"
      ],
      "text/plain": [
       "<circuitsvis.utils.render.RenderedHTML at 0x7fa4c030de50>"
      ]
     },
     "metadata": {},
     "output_type": "display_data"
    },
    {
     "name": "stdout",
     "output_type": "stream",
     "text": [
      "2025-08-01 14:21:34 __main__ INFO     Layer: 34, Head: 1\n"
     ]
    },
    {
     "data": {
      "text/html": [
       "<div id=\"circuits-vis-481ce745-a99d\" style=\"margin: 15px 0;\"/>\n",
       "    <script crossorigin type=\"module\">\n",
       "    import { render, ColoredTokens } from \"https://unpkg.com/circuitsvis@1.43.3/dist/cdn/esm.js\";\n",
       "    render(\n",
       "      \"circuits-vis-481ce745-a99d\",\n",
       "      ColoredTokens,\n",
       "      {\"tokens\": [\"J\", \".K\", \".\", \" Rowling\", \",\", \" Ronaldo\", \" Naz\", \"\\u00e1rio\", \",\", \" Justin\", \" Bieber\", \",\", \" Dick\", \" Lee\", \",\", \" Elle\", \" Mac\", \"ph\", \"erson\", \",\", \" Christian\", \" L\", \"oub\", \"out\", \"in\", \"\\n\", \"Who\", \" among\", \" these\", \" people\", \" mentioned\", \" above\", \" is\", \" from\", \" Australia\", \"?\\n\", \"Answer\", \":\"], \"values\": [8.404254913330078e-06, 8.106231689453125e-06, 4.76837158203125e-06, 1.2993812561035156e-05, 4.9173831939697266e-06, 1.2576580047607422e-05, 1.1444091796875e-05, 1.71661376953125e-05, 4.38690185546875e-05, 8.106231689453125e-05, 7.152557373046875e-05, 6.008148193359375e-05, 0.00012493133544921875, 0.004852294921875, 0.0028228759765625, 0.0498046875, 0.0234375, 0.0439453125, 0.77734375, 0.00049591064453125, 0.00020313262939453125, 2.473592758178711e-06, 4.8160552978515625e-05, 0.0002994537353515625, 3.218650817871094e-05, 0.0001735687255859375, 6.008148193359375e-05, 0.0001354217529296875, 0.00021648406982421875, 8.106231689453125e-05, 2.0742416381835938e-05, 7.009506225585938e-05, 0.000209808349609375, 0.0002613067626953125, 0.0164794921875, 0.0120849609375, 0.00019359588623046875, 0.031494140625]}\n",
       "    )\n",
       "    </script>"
      ],
      "text/plain": [
       "<circuitsvis.utils.render.RenderedHTML at 0x7fa4e02af450>"
      ]
     },
     "metadata": {},
     "output_type": "display_data"
    },
    {
     "name": "stdout",
     "output_type": "stream",
     "text": [
      "2025-08-01 14:21:34 __main__ INFO     Layer: 34, Head: 6\n"
     ]
    },
    {
     "data": {
      "text/html": [
       "<div id=\"circuits-vis-e7ea3a87-9f29\" style=\"margin: 15px 0;\"/>\n",
       "    <script crossorigin type=\"module\">\n",
       "    import { render, ColoredTokens } from \"https://unpkg.com/circuitsvis@1.43.3/dist/cdn/esm.js\";\n",
       "    render(\n",
       "      \"circuits-vis-e7ea3a87-9f29\",\n",
       "      ColoredTokens,\n",
       "      {\"tokens\": [\"J\", \".K\", \".\", \" Rowling\", \",\", \" Ronaldo\", \" Naz\", \"\\u00e1rio\", \",\", \" Justin\", \" Bieber\", \",\", \" Dick\", \" Lee\", \",\", \" Elle\", \" Mac\", \"ph\", \"erson\", \",\", \" Christian\", \" L\", \"oub\", \"out\", \"in\", \"\\n\", \"Who\", \" among\", \" these\", \" people\", \" mentioned\", \" above\", \" is\", \" from\", \" Australia\", \"?\\n\", \"Answer\", \":\"], \"values\": [0.0002880096435546875, 0.00014495849609375, 9.059906005859375e-05, 0.0001983642578125, 0.00015926361083984375, 8.7738037109375e-05, 0.00018024444580078125, 0.00013637542724609375, 0.000278472900390625, 0.000301361083984375, 0.00015926361083984375, 0.00064849853515625, 0.000591278076171875, 0.005523681640625, 0.004058837890625, 0.0703125, 0.06689453125, 0.1142578125, 0.400390625, 0.0020599365234375, 0.00077056884765625, 5.6743621826171875e-05, 0.000438690185546875, 0.00091552734375, 0.00014495849609375, 0.00165557861328125, 0.001007080078125, 0.0019073486328125, 0.0024871826171875, 0.000438690185546875, 0.0003528594970703125, 0.00157928466796875, 0.0019073486328125, 0.00086212158203125, 0.0191650390625, 0.0361328125, 0.00144195556640625, 0.07666015625]}\n",
       "    )\n",
       "    </script>"
      ],
      "text/plain": [
       "<circuitsvis.utils.render.RenderedHTML at 0x7fa4e02ac550>"
      ]
     },
     "metadata": {},
     "output_type": "display_data"
    },
    {
     "name": "stdout",
     "output_type": "stream",
     "text": [
      "2025-08-01 14:21:34 __main__ INFO     Layer: 34, Head: 7\n"
     ]
    },
    {
     "data": {
      "text/html": [
       "<div id=\"circuits-vis-3d3557c0-eb65\" style=\"margin: 15px 0;\"/>\n",
       "    <script crossorigin type=\"module\">\n",
       "    import { render, ColoredTokens } from \"https://unpkg.com/circuitsvis@1.43.3/dist/cdn/esm.js\";\n",
       "    render(\n",
       "      \"circuits-vis-3d3557c0-eb65\",\n",
       "      ColoredTokens,\n",
       "      {\"tokens\": [\"J\", \".K\", \".\", \" Rowling\", \",\", \" Ronaldo\", \" Naz\", \"\\u00e1rio\", \",\", \" Justin\", \" Bieber\", \",\", \" Dick\", \" Lee\", \",\", \" Elle\", \" Mac\", \"ph\", \"erson\", \",\", \" Christian\", \" L\", \"oub\", \"out\", \"in\", \"\\n\", \"Who\", \" among\", \" these\", \" people\", \" mentioned\", \" above\", \" is\", \" from\", \" Australia\", \"?\\n\", \"Answer\", \":\"], \"values\": [9.441375732421875e-05, 0.00051116943359375, 0.00017642974853515625, 0.00046539306640625, 0.00019359588623046875, 0.000518798828125, 0.0002918243408203125, 0.00096893310546875, 0.00061798095703125, 0.000675201416015625, 0.00096893310546875, 0.00096893310546875, 0.0007781982421875, 0.01123046875, 0.0069580078125, 0.01953125, 0.025390625, 0.043212890625, 0.4296875, 0.0023193359375, 0.0013427734375, 0.000171661376953125, 0.0020599365234375, 0.00102996826171875, 0.0013885498046875, 0.0029449462890625, 0.0014801025390625, 0.0054931640625, 0.00689697265625, 0.00186920166015625, 0.0013275146484375, 0.00579833984375, 0.0034332275390625, 0.0021209716796875, 0.07373046875, 0.08935546875, 0.004150390625, 0.07373046875]}\n",
       "    )\n",
       "    </script>"
      ],
      "text/plain": [
       "<circuitsvis.utils.render.RenderedHTML at 0x7fa4e02ac550>"
      ]
     },
     "metadata": {},
     "output_type": "display_data"
    },
    {
     "name": "stdout",
     "output_type": "stream",
     "text": [
      "2025-08-01 14:21:34 __main__ INFO     Layer: 35, Head: 19\n"
     ]
    },
    {
     "data": {
      "text/html": [
       "<div id=\"circuits-vis-15d41d8e-8119\" style=\"margin: 15px 0;\"/>\n",
       "    <script crossorigin type=\"module\">\n",
       "    import { render, ColoredTokens } from \"https://unpkg.com/circuitsvis@1.43.3/dist/cdn/esm.js\";\n",
       "    render(\n",
       "      \"circuits-vis-15d41d8e-8119\",\n",
       "      ColoredTokens,\n",
       "      {\"tokens\": [\"J\", \".K\", \".\", \" Rowling\", \",\", \" Ronaldo\", \" Naz\", \"\\u00e1rio\", \",\", \" Justin\", \" Bieber\", \",\", \" Dick\", \" Lee\", \",\", \" Elle\", \" Mac\", \"ph\", \"erson\", \",\", \" Christian\", \" L\", \"oub\", \"out\", \"in\", \"\\n\", \"Who\", \" among\", \" these\", \" people\", \" mentioned\", \" above\", \" is\", \" from\", \" Australia\", \"?\\n\", \"Answer\", \":\"], \"values\": [0.000202178955078125, 0.0033416748046875, 0.0004215240478515625, 0.0034942626953125, 0.0019683837890625, 0.0084228515625, 0.002105712890625, 0.00830078125, 0.0107421875, 0.002471923828125, 0.01361083984375, 0.0027008056640625, 0.002197265625, 0.1337890625, 0.03125, 0.01904296875, 0.01153564453125, 0.0169677734375, 0.482421875, 0.006988525390625, 0.003631591796875, 0.002044677734375, 0.008056640625, 0.0012969970703125, 0.0159912109375, 0.005767822265625, 0.0003070831298828125, 0.00021457672119140625, 0.0004405975341796875, 0.0002841949462890625, 0.00013828277587890625, 8.96453857421875e-05, 0.000202178955078125, 0.00119781494140625, 0.01385498046875, 0.003814697265625, 0.00060272216796875, 0.00640869140625]}\n",
       "    )\n",
       "    </script>"
      ],
      "text/plain": [
       "<circuitsvis.utils.render.RenderedHTML at 0x7fa4a0114550>"
      ]
     },
     "metadata": {},
     "output_type": "display_data"
    },
    {
     "name": "stdout",
     "output_type": "stream",
     "text": [
      "2025-08-01 14:21:34 __main__ INFO     Layer: 39, Head: 40\n"
     ]
    },
    {
     "data": {
      "text/html": [
       "<div id=\"circuits-vis-98945778-5541\" style=\"margin: 15px 0;\"/>\n",
       "    <script crossorigin type=\"module\">\n",
       "    import { render, ColoredTokens } from \"https://unpkg.com/circuitsvis@1.43.3/dist/cdn/esm.js\";\n",
       "    render(\n",
       "      \"circuits-vis-98945778-5541\",\n",
       "      ColoredTokens,\n",
       "      {\"tokens\": [\"J\", \".K\", \".\", \" Rowling\", \",\", \" Ronaldo\", \" Naz\", \"\\u00e1rio\", \",\", \" Justin\", \" Bieber\", \",\", \" Dick\", \" Lee\", \",\", \" Elle\", \" Mac\", \"ph\", \"erson\", \",\", \" Christian\", \" L\", \"oub\", \"out\", \"in\", \"\\n\", \"Who\", \" among\", \" these\", \" people\", \" mentioned\", \" above\", \" is\", \" from\", \" Australia\", \"?\\n\", \"Answer\", \":\"], \"values\": [0.00010204315185546875, 0.0002956390380859375, 0.00023365020751953125, 0.00012969970703125, 0.0003108978271484375, 0.000644683837890625, 0.0003452301025390625, 0.0010223388671875, 0.002471923828125, 0.0035858154296875, 0.0030517578125, 0.0013275146484375, 0.00628662109375, 0.05810546875, 0.040283203125, 0.173828125, 0.095703125, 0.01318359375, 0.404296875, 0.006866455078125, 0.0177001953125, 0.0027618408203125, 0.00052642822265625, 0.0003509521484375, 0.00799560546875, 0.005889892578125, 0.001983642578125, 0.0012359619140625, 0.000362396240234375, 0.0001468658447265625, 0.0002231597900390625, 0.00017642974853515625, 0.00112152099609375, 0.000606536865234375, 0.005889892578125, 0.055419921875, 0.00201416015625, 0.050537109375]}\n",
       "    )\n",
       "    </script>"
      ],
      "text/plain": [
       "<circuitsvis.utils.render.RenderedHTML at 0x7fa4c030fc90>"
      ]
     },
     "metadata": {},
     "output_type": "display_data"
    },
    {
     "name": "stdout",
     "output_type": "stream",
     "text": [
      "2025-08-01 14:21:35 __main__ INFO     Layer: 42, Head: 30\n"
     ]
    },
    {
     "data": {
      "text/html": [
       "<div id=\"circuits-vis-7ff87555-e1a9\" style=\"margin: 15px 0;\"/>\n",
       "    <script crossorigin type=\"module\">\n",
       "    import { render, ColoredTokens } from \"https://unpkg.com/circuitsvis@1.43.3/dist/cdn/esm.js\";\n",
       "    render(\n",
       "      \"circuits-vis-7ff87555-e1a9\",\n",
       "      ColoredTokens,\n",
       "      {\"tokens\": [\"J\", \".K\", \".\", \" Rowling\", \",\", \" Ronaldo\", \" Naz\", \"\\u00e1rio\", \",\", \" Justin\", \" Bieber\", \",\", \" Dick\", \" Lee\", \",\", \" Elle\", \" Mac\", \"ph\", \"erson\", \",\", \" Christian\", \" L\", \"oub\", \"out\", \"in\", \"\\n\", \"Who\", \" among\", \" these\", \" people\", \" mentioned\", \" above\", \" is\", \" from\", \" Australia\", \"?\\n\", \"Answer\", \":\"], \"values\": [0.0003509521484375, 0.0005950927734375, 0.000255584716796875, 0.00147247314453125, 0.000308990478515625, 0.002288818359375, 0.0015716552734375, 0.000576019287109375, 0.0017547607421875, 0.001922607421875, 0.00787353515625, 0.00183868408203125, 0.006927490234375, 0.06787109375, 0.0167236328125, 0.0859375, 0.09130859375, 0.053466796875, 0.201171875, 0.00885009765625, 0.00994873046875, 0.00262451171875, 0.00433349609375, 0.0032806396484375, 0.00738525390625, 0.005218505859375, 0.00147247314453125, 0.000789642333984375, 0.000865936279296875, 0.00049591064453125, 0.000743865966796875, 0.0004787445068359375, 0.000896453857421875, 0.002288818359375, 0.0130615234375, 0.0113525390625, 0.0029296875, 0.0206298828125]}\n",
       "    )\n",
       "    </script>"
      ],
      "text/plain": [
       "<circuitsvis.utils.render.RenderedHTML at 0x7fa4a0117c90>"
      ]
     },
     "metadata": {},
     "output_type": "display_data"
    },
    {
     "name": "stdout",
     "output_type": "stream",
     "text": [
      "2025-08-01 14:21:35 __main__ INFO     Layer: 47, Head: 18\n"
     ]
    },
    {
     "data": {
      "text/html": [
       "<div id=\"circuits-vis-bce113fc-ec1d\" style=\"margin: 15px 0;\"/>\n",
       "    <script crossorigin type=\"module\">\n",
       "    import { render, ColoredTokens } from \"https://unpkg.com/circuitsvis@1.43.3/dist/cdn/esm.js\";\n",
       "    render(\n",
       "      \"circuits-vis-bce113fc-ec1d\",\n",
       "      ColoredTokens,\n",
       "      {\"tokens\": [\"J\", \".K\", \".\", \" Rowling\", \",\", \" Ronaldo\", \" Naz\", \"\\u00e1rio\", \",\", \" Justin\", \" Bieber\", \",\", \" Dick\", \" Lee\", \",\", \" Elle\", \" Mac\", \"ph\", \"erson\", \",\", \" Christian\", \" L\", \"oub\", \"out\", \"in\", \"\\n\", \"Who\", \" among\", \" these\", \" people\", \" mentioned\", \" above\", \" is\", \" from\", \" Australia\", \"?\\n\", \"Answer\", \":\"], \"values\": [0.0001373291015625, 0.0001506805419921875, 0.0004558563232421875, 0.0001506805419921875, 0.000827789306640625, 0.000247955322265625, 0.000415802001953125, 0.0004787445068359375, 0.00286865234375, 0.00107574462890625, 0.001953125, 0.002349853515625, 0.0242919921875, 0.0255126953125, 0.01953125, 0.4921875, 0.08056640625, 0.01495361328125, 0.1416015625, 0.01434326171875, 0.0115966796875, 0.00433349609375, 0.0002193450927734375, 0.00106048583984375, 0.00286865234375, 0.00946044921875, 0.00250244140625, 0.00124359130859375, 0.0005340576171875, 0.0004024505615234375, 0.0006256103515625, 0.00022602081298828125, 0.001922607421875, 0.00138092041015625, 0.001617431640625, 0.01434326171875, 0.0045166015625, 0.017333984375]}\n",
       "    )\n",
       "    </script>"
      ],
      "text/plain": [
       "<circuitsvis.utils.render.RenderedHTML at 0x7fa4c039ae10>"
      ]
     },
     "metadata": {},
     "output_type": "display_data"
    },
    {
     "name": "stdout",
     "output_type": "stream",
     "text": [
      "2025-08-01 14:21:35 __main__ INFO     Layer: 52, Head: 58\n"
     ]
    },
    {
     "data": {
      "text/html": [
       "<div id=\"circuits-vis-cfeb33a7-3066\" style=\"margin: 15px 0;\"/>\n",
       "    <script crossorigin type=\"module\">\n",
       "    import { render, ColoredTokens } from \"https://unpkg.com/circuitsvis@1.43.3/dist/cdn/esm.js\";\n",
       "    render(\n",
       "      \"circuits-vis-cfeb33a7-3066\",\n",
       "      ColoredTokens,\n",
       "      {\"tokens\": [\"J\", \".K\", \".\", \" Rowling\", \",\", \" Ronaldo\", \" Naz\", \"\\u00e1rio\", \",\", \" Justin\", \" Bieber\", \",\", \" Dick\", \" Lee\", \",\", \" Elle\", \" Mac\", \"ph\", \"erson\", \",\", \" Christian\", \" L\", \"oub\", \"out\", \"in\", \"\\n\", \"Who\", \" among\", \" these\", \" people\", \" mentioned\", \" above\", \" is\", \" from\", \" Australia\", \"?\\n\", \"Answer\", \":\"], \"values\": [0.0001277923583984375, 0.0003566741943359375, 0.00075531005859375, 0.00083160400390625, 0.001708984375, 0.0001125335693359375, 0.00653076171875, 0.000782012939453125, 0.0024871826171875, 0.00070953369140625, 0.00384521484375, 0.0016021728515625, 0.02587890625, 0.0771484375, 0.008544921875, 0.12353515625, 0.095703125, 0.01373291015625, 0.11669921875, 0.00408935546875, 0.002593994140625, 0.01300048828125, 0.0016021728515625, 0.0014801025390625, 0.002899169921875, 0.0159912109375, 0.00070953369140625, 0.0018157958984375, 0.00019168853759765625, 0.00022411346435546875, 0.0011749267578125, 0.00017452239990234375, 0.00115203857421875, 0.001708984375, 0.003082275390625, 0.007293701171875, 0.000972747802734375, 0.00775146484375]}\n",
       "    )\n",
       "    </script>"
      ],
      "text/plain": [
       "<circuitsvis.utils.render.RenderedHTML at 0x7fa4c02c1a50>"
      ]
     },
     "metadata": {},
     "output_type": "display_data"
    },
    {
     "data": {
      "text/plain": [
       "[PredictedToken(token=' Elle', prob=0.87890625, logit=20.625, token_id=46408, metadata=None),\n",
       " PredictedToken(token=' Dick', prob=0.03857421875, logit=17.5, token_id=23373, metadata=None),\n",
       " PredictedToken(token=' The', prob=0.0206298828125, logit=16.875, token_id=578, metadata=None),\n",
       " PredictedToken(token=' ', prob=0.0125732421875, logit=16.375, token_id=220, metadata=None),\n",
       " PredictedToken(token=' None', prob=0.0038299560546875, logit=15.1875, token_id=2290, metadata=None)]"
      ]
     },
     "execution_count": 25,
     "metadata": {},
     "output_type": "execute_result"
    }
   ],
   "source": [
    "verify_ind = verify_head_patterns(\n",
    "    prompt=prompt,\n",
    "    options=sample.options,\n",
    "    pivot=sample.subj,\n",
    "    mt=mt,\n",
    "    value_weighted=False,\n",
    "    generate_full_answer=False,\n",
    "    ablate_possible_ans_info_from_options=True,\n",
    ")\n",
    "\n",
    "verify_ind[\"predictions\"]"
   ]
  },
  {
   "cell_type": "code",
   "execution_count": 26,
   "id": "ea4eec49",
   "metadata": {},
   "outputs": [
    {
     "name": "stdout",
     "output_type": "stream",
     "text": [
      "2025-08-01 14:38:54 __main__ DEBUG    The Space Needle | opt_range=(3, 6) | bare_opt_range=(4, 7) | \" The Space Needle\"\n"
     ]
    },
    {
     "name": "stdout",
     "output_type": "stream",
     "text": [
      "2025-08-01 14:38:54 __main__ DEBUG    Louvre Museum | opt_range=(9, 12) | bare_opt_range=(4, 7) | \" Louvre Museum\"\n",
      "2025-08-01 14:38:54 __main__ DEBUG    Colosseum | opt_range=(15, 19) | bare_opt_range=(4, 8) | \" Colosseum\"\n",
      "2025-08-01 14:38:54 __main__ DEBUG    Christ the Redeemer | opt_range=(22, 26) | bare_opt_range=(4, 8) | \" Christ the Redeemer\"\n",
      "2025-08-01 14:38:54 __main__ DEBUG    State of Liberty | opt_range=(29, 32) | bare_opt_range=(4, 7) | \" State of Liberty\"\n",
      "2025-08-01 14:38:54 __main__ DEBUG    Big Ben | opt_range=(35, 37) | bare_opt_range=(4, 6) | \" Big Ben\"\n",
      "2025-08-01 14:38:54 __main__ DEBUG    Eiffel Tower | opt_range=(40, 44) | bare_opt_range=(4, 8) | \" Eiffel Tower\"\n",
      "2025-08-01 14:39:03 __main__ DEBUG    Predictions: ['\" Big\"[6295] (p=0.668, logit=21.500)', '\" \"[220] (p=0.217, logit=20.375)', '\" #\"[674] (p=0.023, logit=18.125)', '\" Number\"[5742] (p=0.018, logit=17.875)', '\" The\"[578] (p=0.008, logit=17.125)']\n",
      "layer=35\n"
     ]
    },
    {
     "data": {
      "text/html": [
       "<div id=\"circuits-vis-9660f67f-38e1\" style=\"margin: 15px 0;\"/>\n",
       "    <script crossorigin type=\"module\">\n",
       "    import { render, ColoredTokens } from \"https://unpkg.com/circuitsvis@1.43.3/dist/cdn/esm.js\";\n",
       "    render(\n",
       "      \"circuits-vis-9660f67f-38e1\",\n",
       "      ColoredTokens,\n",
       "      {\"tokens\": [\"1\", \".\", \" The\", \" Space\", \" Needle\", \"\\n\", \"2\", \".\", \" Lou\", \"vre\", \" Museum\", \"\\n\", \"3\", \".\", \" Col\", \"os\", \"se\", \"um\", \"\\n\", \"4\", \".\", \" Christ\", \" the\", \" Rede\", \"emer\", \"\\n\", \"5\", \".\", \" State\", \" of\", \" Liberty\", \"\\n\", \"6\", \".\", \" Big\", \" Ben\", \"\\n\", \"7\", \".\", \" E\", \"iff\", \"el\", \" Tower\", \"\\n\", \"Which\", \" of\", \" these\", \" landmarks\", \" is\", \" located\", \" in\", \" England\", \"?\\n\", \"Answer\", \":\"], \"values\": [0.021678686141967773, 0.005518946796655655, 0.000980418175458908, 0.0006273332983255386, 0.0021002963185310364, 0.009810864925384521, 0.009330704808235168, 0.00108380988240242, 0.001580696552991867, 0.0008116848766803741, 0.0012706443667411804, 0.0071580857038497925, 0.0006761588156223297, 0.0028001386672258377, 0.0010293154045939445, 0.000472524669021368, 0.0012096166610717773, 0.003010779619216919, 0.006569854915142059, 0.009779796004295349, 0.0009104404598474503, 0.0003756452351808548, 0.0001942124217748642, 0.00012409838382154703, 0.0012607164680957794, 0.0021606720983982086, 0.002868928015232086, 0.0012251492589712143, 0.0013766763731837273, 0.000619939062744379, 0.0041776299476623535, 0.008372917771339417, 0.013052642345428467, 0.0015016645193099976, 0.001589587889611721, 0.04696591943502426, 0.03168195113539696, 0.004367828369140625, 0.010338284075260162, 0.002168339677155018, 0.0010976605117321014, 0.0008875736966729164, 0.004275213927030563, 0.010778576135635376, 0.01910918951034546, 0.0074612051248550415, 0.01314699649810791, 0.005058672279119492, 0.011604107916355133, 0.005723381415009499, 0.004585728049278259, 0.03721708059310913, 0.04249882698059082, 0.031813450157642365, 0.029922261834144592]}\n",
       "    )\n",
       "    </script>"
      ],
      "text/plain": [
       "<circuitsvis.utils.render.RenderedHTML at 0x7fa4a00ff990>"
      ]
     },
     "metadata": {},
     "output_type": "display_data"
    },
    {
     "name": "stdout",
     "output_type": "stream",
     "text": [
      "--------------------------------------------------------------------------------\n",
      "layer=47\n"
     ]
    },
    {
     "data": {
      "text/html": [
       "<div id=\"circuits-vis-4f50ccdd-3013\" style=\"margin: 15px 0;\"/>\n",
       "    <script crossorigin type=\"module\">\n",
       "    import { render, ColoredTokens } from \"https://unpkg.com/circuitsvis@1.43.3/dist/cdn/esm.js\";\n",
       "    render(\n",
       "      \"circuits-vis-4f50ccdd-3013\",\n",
       "      ColoredTokens,\n",
       "      {\"tokens\": [\"1\", \".\", \" The\", \" Space\", \" Needle\", \"\\n\", \"2\", \".\", \" Lou\", \"vre\", \" Museum\", \"\\n\", \"3\", \".\", \" Col\", \"os\", \"se\", \"um\", \"\\n\", \"4\", \".\", \" Christ\", \" the\", \" Rede\", \"emer\", \"\\n\", \"5\", \".\", \" State\", \" of\", \" Liberty\", \"\\n\", \"6\", \".\", \" Big\", \" Ben\", \"\\n\", \"7\", \".\", \" E\", \"iff\", \"el\", \" Tower\", \"\\n\", \"Which\", \" of\", \" these\", \" landmarks\", \" is\", \" located\", \" in\", \" England\", \"?\\n\", \"Answer\", \":\"], \"values\": [0.003023102879524231, 0.0017553027719259262, 0.0005130954086780548, 0.00043992698192596436, 0.0010306015610694885, 0.002038789913058281, 0.0012149633839726448, 0.000619557686150074, 0.0003629326820373535, 0.00033397041261196136, 0.00032460037618875504, 0.0009025335311889648, 0.0003937557339668274, 0.000519544817507267, 0.0002135992981493473, 0.00023456616327166557, 0.00023305322974920273, 0.00030261604115366936, 0.0006229637656360865, 0.0006830837810412049, 0.00031733280047774315, 0.00016141962260007858, 0.00014894013293087482, 0.00012371421325951815, 0.0002477983944118023, 0.0003557363525032997, 0.000437295064330101, 0.0004204642027616501, 0.00035555288195610046, 0.00042706308886408806, 0.0010034739971160889, 0.0009212926961481571, 0.0008961784187704325, 0.0007029767148196697, 0.0024959733709692955, 0.010641173459589481, 0.009601750411093235, 0.0013576559722423553, 0.0011911038309335709, 0.00046030967496335506, 0.00025768810883164406, 0.00038091978058218956, 0.00041774287819862366, 0.0005045332945883274, 0.002657182514667511, 0.0021904893219470978, 0.0009362790733575821, 0.0013484731316566467, 0.0010413192212581635, 0.0006230585277080536, 0.0008086487650871277, 0.002682216465473175, 0.010824665427207947, 0.013012290000915527, 0.0028547775000333786]}\n",
       "    )\n",
       "    </script>"
      ],
      "text/plain": [
       "<circuitsvis.utils.render.RenderedHTML at 0x7fa5201ce690>"
      ]
     },
     "metadata": {},
     "output_type": "display_data"
    },
    {
     "name": "stdout",
     "output_type": "stream",
     "text": [
      "--------------------------------------------------------------------------------\n",
      "layer=52\n"
     ]
    },
    {
     "data": {
      "text/html": [
       "<div id=\"circuits-vis-721fb543-f2ba\" style=\"margin: 15px 0;\"/>\n",
       "    <script crossorigin type=\"module\">\n",
       "    import { render, ColoredTokens } from \"https://unpkg.com/circuitsvis@1.43.3/dist/cdn/esm.js\";\n",
       "    render(\n",
       "      \"circuits-vis-721fb543-f2ba\",\n",
       "      ColoredTokens,\n",
       "      {\"tokens\": [\"1\", \".\", \" The\", \" Space\", \" Needle\", \"\\n\", \"2\", \".\", \" Lou\", \"vre\", \" Museum\", \"\\n\", \"3\", \".\", \" Col\", \"os\", \"se\", \"um\", \"\\n\", \"4\", \".\", \" Christ\", \" the\", \" Rede\", \"emer\", \"\\n\", \"5\", \".\", \" State\", \" of\", \" Liberty\", \"\\n\", \"6\", \".\", \" Big\", \" Ben\", \"\\n\", \"7\", \".\", \" E\", \"iff\", \"el\", \" Tower\", \"\\n\", \"Which\", \" of\", \" these\", \" landmarks\", \" is\", \" located\", \" in\", \" England\", \"?\\n\", \"Answer\", \":\"], \"values\": [0.005723729729652405, 0.005251364782452583, 0.002393074333667755, 0.0007652249187231064, 0.001603935845196247, 0.005423441529273987, 0.004252433776855469, 0.0015449319034814835, 0.0012458190321922302, 0.000542023335583508, 0.000465653371065855, 0.0021364381536841393, 0.0013086749240756035, 0.0017093811184167862, 0.0004799612797796726, 0.00033272942528128624, 0.00031443615444004536, 0.0004702066071331501, 0.0012751161120831966, 0.0020732413977384567, 0.0009346334263682365, 0.000692577101290226, 0.00035486696287989616, 0.00017762515926733613, 0.0003137157764285803, 0.0008863992989063263, 0.0009822826832532883, 0.001050662249326706, 0.000757729634642601, 0.0007898285984992981, 0.0022760629653930664, 0.0023864489048719406, 0.0025985604152083397, 0.0013454612344503403, 0.009349395520985126, 0.012680471874773502, 0.011303211562335491, 0.0014761090278625488, 0.0014746151864528656, 0.000575029756873846, 0.00029983650892972946, 0.00045988382771611214, 0.0006005456671118736, 0.0013697207905352116, 0.008273787796497345, 0.0035330355167388916, 0.0024974271655082703, 0.00292002409696579, 0.0028043799102306366, 0.0019973628222942352, 0.0018438734114170074, 0.004183053970336914, 0.026737689971923828, 0.02122117578983307, 0.018530160188674927]}\n",
       "    )\n",
       "    </script>"
      ],
      "text/plain": [
       "<circuitsvis.utils.render.RenderedHTML at 0x7fa56796efd0>"
      ]
     },
     "metadata": {},
     "output_type": "display_data"
    },
    {
     "name": "stdout",
     "output_type": "stream",
     "text": [
      "--------------------------------------------------------------------------------\n",
      "======================================================================\n",
      "2025-08-01 14:39:03 __main__ INFO     Layer: 33, Head: 45\n"
     ]
    },
    {
     "data": {
      "text/html": [
       "<div id=\"circuits-vis-015af2dc-90e4\" style=\"margin: 15px 0;\"/>\n",
       "    <script crossorigin type=\"module\">\n",
       "    import { render, ColoredTokens } from \"https://unpkg.com/circuitsvis@1.43.3/dist/cdn/esm.js\";\n",
       "    render(\n",
       "      \"circuits-vis-015af2dc-90e4\",\n",
       "      ColoredTokens,\n",
       "      {\"tokens\": [\"1\", \".\", \" The\", \" Space\", \" Needle\", \"\\n\", \"2\", \".\", \" Lou\", \"vre\", \" Museum\", \"\\n\", \"3\", \".\", \" Col\", \"os\", \"se\", \"um\", \"\\n\", \"4\", \".\", \" Christ\", \" the\", \" Rede\", \"emer\", \"\\n\", \"5\", \".\", \" State\", \" of\", \" Liberty\", \"\\n\", \"6\", \".\", \" Big\", \" Ben\", \"\\n\", \"7\", \".\", \" E\", \"iff\", \"el\", \" Tower\", \"\\n\", \"Which\", \" of\", \" these\", \" landmarks\", \" is\", \" located\", \" in\", \" England\", \"?\\n\", \"Answer\", \":\"], \"values\": [0.029052734375, 0.003387451171875, 0.0017547607421875, 0.004547119140625, 0.011962890625, 0.008544921875, 0.00921630859375, 0.00506591796875, 0.005401611328125, 0.00170135498046875, 0.0015716552734375, 0.0035400390625, 0.000843048095703125, 0.00396728515625, 0.0025482177734375, 0.0089111328125, 0.0010833740234375, 0.005828857421875, 0.007171630859375, 0.007171630859375, 0.003387451171875, 0.00101470947265625, 0.0017547607421875, 0.00136566162109375, 0.00101470947265625, 0.002044677734375, 0.00299072265625, 0.00396728515625, 0.00762939453125, 0.00604248046875, 0.0111083984375, 0.0281982421875, 0.00775146484375, 0.0030364990234375, 0.0130615234375, 0.036865234375, 0.020751953125, 0.00183868408203125, 0.01239013671875, 0.0028533935546875, 0.00152587890625, 0.005950927734375, 0.0037689208984375, 0.01177978515625, 0.025634765625, 0.003387451171875, 0.0152587890625, 0.0037078857421875, 0.004547119140625, 0.00141143798828125, 0.0023193359375, 0.0311279296875, 0.032958984375, 0.007171630859375, 0.0390625]}\n",
       "    )\n",
       "    </script>"
      ],
      "text/plain": [
       "<circuitsvis.utils.render.RenderedHTML at 0x7fa5679b18d0>"
      ]
     },
     "metadata": {},
     "output_type": "display_data"
    },
    {
     "name": "stdout",
     "output_type": "stream",
     "text": [
      "2025-08-01 14:39:03 __main__ INFO     Layer: 33, Head: 18\n"
     ]
    },
    {
     "data": {
      "text/html": [
       "<div id=\"circuits-vis-49abccce-49ab\" style=\"margin: 15px 0;\"/>\n",
       "    <script crossorigin type=\"module\">\n",
       "    import { render, ColoredTokens } from \"https://unpkg.com/circuitsvis@1.43.3/dist/cdn/esm.js\";\n",
       "    render(\n",
       "      \"circuits-vis-49abccce-49ab\",\n",
       "      ColoredTokens,\n",
       "      {\"tokens\": [\"1\", \".\", \" The\", \" Space\", \" Needle\", \"\\n\", \"2\", \".\", \" Lou\", \"vre\", \" Museum\", \"\\n\", \"3\", \".\", \" Col\", \"os\", \"se\", \"um\", \"\\n\", \"4\", \".\", \" Christ\", \" the\", \" Rede\", \"emer\", \"\\n\", \"5\", \".\", \" State\", \" of\", \" Liberty\", \"\\n\", \"6\", \".\", \" Big\", \" Ben\", \"\\n\", \"7\", \".\", \" E\", \"iff\", \"el\", \" Tower\", \"\\n\", \"Which\", \" of\", \" these\", \" landmarks\", \" is\", \" located\", \" in\", \" England\", \"?\\n\", \"Answer\", \":\"], \"values\": [0.005035400390625, 0.0017852783203125, 0.000667572021484375, 0.000255584716796875, 0.002777099609375, 0.0458984375, 0.005462646484375, 0.003875732421875, 0.0025177001953125, 0.000377655029296875, 0.00089263916015625, 0.0211181640625, 8.58306884765625e-05, 0.00482177734375, 0.0013275146484375, 0.00112152099609375, 0.000881195068359375, 0.004547119140625, 0.037353515625, 0.002777099609375, 0.00057220458984375, 0.00052642822265625, 0.00069427490234375, 2.9206275939941406e-05, 0.000652313232421875, 0.002471923828125, 0.000568389892578125, 0.00080108642578125, 0.001190185546875, 0.0005035400390625, 0.003662109375, 0.020751953125, 0.01019287109375, 0.000396728515625, 0.0084228515625, 0.1787109375, 0.515625, 8.96453857421875e-05, 0.033447265625, 0.0022735595703125, 0.0003833770751953125, 0.0012664794921875, 0.014892578125, 0.0142822265625, 0.0020904541015625, 9.393692016601562e-05, 0.000247955322265625, 0.00012493133544921875, 0.00013065338134765625, 1.2159347534179688e-05, 5.888938903808594e-05, 0.0004863739013671875, 0.00060272216796875, 0.00012683868408203125, 0.001068115234375]}\n",
       "    )\n",
       "    </script>"
      ],
      "text/plain": [
       "<circuitsvis.utils.render.RenderedHTML at 0x7fa56796dc90>"
      ]
     },
     "metadata": {},
     "output_type": "display_data"
    },
    {
     "name": "stdout",
     "output_type": "stream",
     "text": [
      "2025-08-01 14:39:03 __main__ INFO     Layer: 34, Head: 1\n"
     ]
    },
    {
     "data": {
      "text/html": [
       "<div id=\"circuits-vis-022a50dd-2be6\" style=\"margin: 15px 0;\"/>\n",
       "    <script crossorigin type=\"module\">\n",
       "    import { render, ColoredTokens } from \"https://unpkg.com/circuitsvis@1.43.3/dist/cdn/esm.js\";\n",
       "    render(\n",
       "      \"circuits-vis-022a50dd-2be6\",\n",
       "      ColoredTokens,\n",
       "      {\"tokens\": [\"1\", \".\", \" The\", \" Space\", \" Needle\", \"\\n\", \"2\", \".\", \" Lou\", \"vre\", \" Museum\", \"\\n\", \"3\", \".\", \" Col\", \"os\", \"se\", \"um\", \"\\n\", \"4\", \".\", \" Christ\", \" the\", \" Rede\", \"emer\", \"\\n\", \"5\", \".\", \" State\", \" of\", \" Liberty\", \"\\n\", \"6\", \".\", \" Big\", \" Ben\", \"\\n\", \"7\", \".\", \" E\", \"iff\", \"el\", \" Tower\", \"\\n\", \"Which\", \" of\", \" these\", \" landmarks\", \" is\", \" located\", \" in\", \" England\", \"?\\n\", \"Answer\", \":\"], \"values\": [0.018798828125, 0.001007080078125, 0.0001983642578125, 0.000217437744140625, 0.00055694580078125, 0.00168609619140625, 0.00139617919921875, 9.965896606445312e-05, 0.00238037109375, 1.1205673217773438e-05, 2.5987625122070312e-05, 0.0002536773681640625, 2.4437904357910156e-05, 0.0015106201171875, 0.000820159912109375, 0.00139617919921875, 5.0067901611328125e-05, 0.00086212158203125, 0.000659942626953125, 0.0008087158203125, 0.00034332275390625, 6.794929504394531e-06, 9.000301361083984e-06, 8.642673492431641e-07, 1.049041748046875e-05, 1.6808509826660156e-05, 0.00018596649169921875, 0.0001926422119140625, 0.001373291015625, 0.00029754638671875, 0.0004673004150390625, 0.0013580322265625, 0.005279541015625, 0.0001316070556640625, 0.002410888671875, 0.369140625, 0.2353515625, 0.0002880096435546875, 0.0142822265625, 0.00119781494140625, 3.24249267578125e-05, 7.05718994140625e-05, 0.00010633468627929688, 0.0009918212890625, 0.0037994384765625, 0.000888824462890625, 0.002197265625, 0.000446319580078125, 0.0009918212890625, 9.965896606445312e-05, 0.000270843505859375, 0.0118408203125, 0.01275634765625, 0.001007080078125, 0.0283203125]}\n",
       "    )\n",
       "    </script>"
      ],
      "text/plain": [
       "<circuitsvis.utils.render.RenderedHTML at 0x7fa5201ce690>"
      ]
     },
     "metadata": {},
     "output_type": "display_data"
    },
    {
     "name": "stdout",
     "output_type": "stream",
     "text": [
      "2025-08-01 14:39:03 __main__ INFO     Layer: 34, Head: 6\n"
     ]
    },
    {
     "data": {
      "text/html": [
       "<div id=\"circuits-vis-f03153fe-29e7\" style=\"margin: 15px 0;\"/>\n",
       "    <script crossorigin type=\"module\">\n",
       "    import { render, ColoredTokens } from \"https://unpkg.com/circuitsvis@1.43.3/dist/cdn/esm.js\";\n",
       "    render(\n",
       "      \"circuits-vis-f03153fe-29e7\",\n",
       "      ColoredTokens,\n",
       "      {\"tokens\": [\"1\", \".\", \" The\", \" Space\", \" Needle\", \"\\n\", \"2\", \".\", \" Lou\", \"vre\", \" Museum\", \"\\n\", \"3\", \".\", \" Col\", \"os\", \"se\", \"um\", \"\\n\", \"4\", \".\", \" Christ\", \" the\", \" Rede\", \"emer\", \"\\n\", \"5\", \".\", \" State\", \" of\", \" Liberty\", \"\\n\", \"6\", \".\", \" Big\", \" Ben\", \"\\n\", \"7\", \".\", \" E\", \"iff\", \"el\", \" Tower\", \"\\n\", \"Which\", \" of\", \" these\", \" landmarks\", \" is\", \" located\", \" in\", \" England\", \"?\\n\", \"Answer\", \":\"], \"values\": [0.034912109375, 0.002838134765625, 0.000614166259765625, 0.000789642333984375, 0.00142669677734375, 0.00537109375, 0.00439453125, 0.0004634857177734375, 0.0050048828125, 6.4849853515625e-05, 0.00011348724365234375, 0.00102996826171875, 3.695487976074219e-05, 0.00262451171875, 0.00098419189453125, 0.0031585693359375, 0.0002727508544921875, 0.0022125244140625, 0.001861572265625, 0.004608154296875, 0.0004634857177734375, 3.695487976074219e-05, 4.57763671875e-05, 8.225440979003906e-06, 3.790855407714844e-05, 7.343292236328125e-05, 0.000934600830078125, 0.00063323974609375, 0.003875732421875, 0.0007171630859375, 0.00109100341796875, 0.0035858154296875, 0.0162353515625, 0.00019931793212890625, 0.00860595703125, 0.28515625, 0.12353515625, 0.0012969970703125, 0.01361083984375, 0.001983642578125, 0.00016021728515625, 0.0002803802490234375, 0.000263214111328125, 0.00156402587890625, 0.00836181640625, 0.0016937255859375, 0.0035858154296875, 0.0004482269287109375, 0.0012969970703125, 0.0001811981201171875, 0.000675201416015625, 0.0098876953125, 0.0137939453125, 0.0013580322265625, 0.032470703125]}\n",
       "    )\n",
       "    </script>"
      ],
      "text/plain": [
       "<circuitsvis.utils.render.RenderedHTML at 0x7fa5679b18d0>"
      ]
     },
     "metadata": {},
     "output_type": "display_data"
    },
    {
     "name": "stdout",
     "output_type": "stream",
     "text": [
      "2025-08-01 14:39:04 __main__ INFO     Layer: 34, Head: 7\n"
     ]
    },
    {
     "data": {
      "text/html": [
       "<div id=\"circuits-vis-2ffed781-b066\" style=\"margin: 15px 0;\"/>\n",
       "    <script crossorigin type=\"module\">\n",
       "    import { render, ColoredTokens } from \"https://unpkg.com/circuitsvis@1.43.3/dist/cdn/esm.js\";\n",
       "    render(\n",
       "      \"circuits-vis-2ffed781-b066\",\n",
       "      ColoredTokens,\n",
       "      {\"tokens\": [\"1\", \".\", \" The\", \" Space\", \" Needle\", \"\\n\", \"2\", \".\", \" Lou\", \"vre\", \" Museum\", \"\\n\", \"3\", \".\", \" Col\", \"os\", \"se\", \"um\", \"\\n\", \"4\", \".\", \" Christ\", \" the\", \" Rede\", \"emer\", \"\\n\", \"5\", \".\", \" State\", \" of\", \" Liberty\", \"\\n\", \"6\", \".\", \" Big\", \" Ben\", \"\\n\", \"7\", \".\", \" E\", \"iff\", \"el\", \" Tower\", \"\\n\", \"Which\", \" of\", \" these\", \" landmarks\", \" is\", \" located\", \" in\", \" England\", \"?\\n\", \"Answer\", \":\"], \"values\": [0.045654296875, 0.00063323974609375, 0.00023651123046875, 0.00018405914306640625, 0.00067138671875, 0.00142669677734375, 0.000751495361328125, 0.00012683868408203125, 0.0009918212890625, 6.151199340820312e-05, 9.5367431640625e-05, 0.000469207763671875, 3.504753112792969e-05, 0.0004405975341796875, 0.00034332275390625, 0.000850677490234375, 0.000293731689453125, 0.00142669677734375, 0.0013580322265625, 0.00147247314453125, 0.00017261505126953125, 0.0001392364501953125, 0.00015735626220703125, 2.6464462280273438e-05, 0.00019550323486328125, 0.0002841949462890625, 0.0009765625, 0.0003662109375, 0.001617431640625, 0.0004138946533203125, 0.0015411376953125, 0.00604248046875, 0.007415771484375, 0.0002765655517578125, 0.003692626953125, 0.1806640625, 0.1376953125, 0.00171661376953125, 0.00885009765625, 0.0012969970703125, 0.000934600830078125, 0.00127410888671875, 0.002838134765625, 0.00848388671875, 0.0206298828125, 0.004852294921875, 0.016357421875, 0.0020751953125, 0.006378173828125, 0.00087738037109375, 0.0022735595703125, 0.0869140625, 0.07861328125, 0.01220703125, 0.1015625]}\n",
       "    )\n",
       "    </script>"
      ],
      "text/plain": [
       "<circuitsvis.utils.render.RenderedHTML at 0x7fa4c046c310>"
      ]
     },
     "metadata": {},
     "output_type": "display_data"
    },
    {
     "name": "stdout",
     "output_type": "stream",
     "text": [
      "2025-08-01 14:39:04 __main__ INFO     Layer: 35, Head: 19\n"
     ]
    },
    {
     "data": {
      "text/html": [
       "<div id=\"circuits-vis-2f0d7c96-4a80\" style=\"margin: 15px 0;\"/>\n",
       "    <script crossorigin type=\"module\">\n",
       "    import { render, ColoredTokens } from \"https://unpkg.com/circuitsvis@1.43.3/dist/cdn/esm.js\";\n",
       "    render(\n",
       "      \"circuits-vis-2f0d7c96-4a80\",\n",
       "      ColoredTokens,\n",
       "      {\"tokens\": [\"1\", \".\", \" The\", \" Space\", \" Needle\", \"\\n\", \"2\", \".\", \" Lou\", \"vre\", \" Museum\", \"\\n\", \"3\", \".\", \" Col\", \"os\", \"se\", \"um\", \"\\n\", \"4\", \".\", \" Christ\", \" the\", \" Rede\", \"emer\", \"\\n\", \"5\", \".\", \" State\", \" of\", \" Liberty\", \"\\n\", \"6\", \".\", \" Big\", \" Ben\", \"\\n\", \"7\", \".\", \" E\", \"iff\", \"el\", \" Tower\", \"\\n\", \"Which\", \" of\", \" these\", \" landmarks\", \" is\", \" located\", \" in\", \" England\", \"?\\n\", \"Answer\", \":\"], \"values\": [0.0018157958984375, 4.029273986816406e-05, 3.838539123535156e-05, 0.00011110305786132812, 0.00201416015625, 0.0024261474609375, 0.0003204345703125, 0.0009002685546875, 0.000873565673828125, 0.000301361083984375, 0.00104522705078125, 0.00665283203125, 0.000171661376953125, 0.0037689208984375, 0.00189208984375, 0.0017547607421875, 0.000705718994140625, 0.013427734375, 0.01031494140625, 0.0001544952392578125, 0.00098419189453125, 0.0002765655517578125, 0.0001125335693359375, 6.437301635742188e-05, 0.0011749267578125, 0.00110626220703125, 2.4318695068359375e-05, 0.00064849853515625, 0.00159454345703125, 0.0002498626708984375, 0.01104736328125, 0.005615234375, 0.0002193450927734375, 0.0005645751953125, 0.00115966796875, 0.6484375, 0.2236328125, 0.0002422332763671875, 0.0150146484375, 0.0021209716796875, 0.00019741058349609375, 0.000782012939453125, 0.00189208984375, 0.0023651123046875, 0.00096893310546875, 2.288818359375e-05, 0.0003414154052734375, 0.0004425048828125, 7.295608520507812e-05, 0.00015926361083984375, 0.0003910064697265625, 0.00592041015625, 0.0030517578125, 7.295608520507812e-05, 0.001220703125]}\n",
       "    )\n",
       "    </script>"
      ],
      "text/plain": [
       "<circuitsvis.utils.render.RenderedHTML at 0x7fa567f9b5d0>"
      ]
     },
     "metadata": {},
     "output_type": "display_data"
    },
    {
     "name": "stdout",
     "output_type": "stream",
     "text": [
      "2025-08-01 14:39:04 __main__ INFO     Layer: 39, Head: 40\n"
     ]
    },
    {
     "data": {
      "text/html": [
       "<div id=\"circuits-vis-5ca487f4-af82\" style=\"margin: 15px 0;\"/>\n",
       "    <script crossorigin type=\"module\">\n",
       "    import { render, ColoredTokens } from \"https://unpkg.com/circuitsvis@1.43.3/dist/cdn/esm.js\";\n",
       "    render(\n",
       "      \"circuits-vis-5ca487f4-af82\",\n",
       "      ColoredTokens,\n",
       "      {\"tokens\": [\"1\", \".\", \" The\", \" Space\", \" Needle\", \"\\n\", \"2\", \".\", \" Lou\", \"vre\", \" Museum\", \"\\n\", \"3\", \".\", \" Col\", \"os\", \"se\", \"um\", \"\\n\", \"4\", \".\", \" Christ\", \" the\", \" Rede\", \"emer\", \"\\n\", \"5\", \".\", \" State\", \" of\", \" Liberty\", \"\\n\", \"6\", \".\", \" Big\", \" Ben\", \"\\n\", \"7\", \".\", \" E\", \"iff\", \"el\", \" Tower\", \"\\n\", \"Which\", \" of\", \" these\", \" landmarks\", \" is\", \" located\", \" in\", \" England\", \"?\\n\", \"Answer\", \":\"], \"values\": [0.000919342041015625, 0.001953125, 3.266334533691406e-05, 7.420778274536133e-06, 0.0001316070556640625, 0.00543212890625, 0.0031585693359375, 0.0002346038818359375, 0.0001277923583984375, 5.9604644775390625e-06, 3.4332275390625e-05, 0.0028533935546875, 8.916854858398438e-05, 0.0037689208984375, 0.0004119873046875, 0.0001888275146484375, 6.765127182006836e-06, 0.0014190673828125, 0.0267333984375, 0.00299072265625, 0.00067901611328125, 1.621246337890625e-05, 5.424022674560547e-06, 1.862645149230957e-07, 2.4318695068359375e-05, 0.000881195068359375, 0.0010528564453125, 0.0015411376953125, 0.00020885467529296875, 0.0004749298095703125, 0.001220703125, 0.0118408203125, 0.0031585693359375, 0.000820159912109375, 0.00145721435546875, 0.185546875, 0.51953125, 0.00016117095947265625, 0.038818359375, 0.00109100341796875, 1.1146068572998047e-05, 3.7670135498046875e-05, 0.0004119873046875, 0.0023040771484375, 0.001434326171875, 0.0006866455078125, 0.0001773834228515625, 2.4318695068359375e-05, 0.00124359130859375, 6.198883056640625e-05, 0.0003204345703125, 0.0025482177734375, 0.11962890625, 0.0026092529296875, 0.041259765625]}\n",
       "    )\n",
       "    </script>"
      ],
      "text/plain": [
       "<circuitsvis.utils.render.RenderedHTML at 0x7fa4e01eb8d0>"
      ]
     },
     "metadata": {},
     "output_type": "display_data"
    },
    {
     "name": "stdout",
     "output_type": "stream",
     "text": [
      "2025-08-01 14:39:04 __main__ INFO     Layer: 42, Head: 30\n"
     ]
    },
    {
     "data": {
      "text/html": [
       "<div id=\"circuits-vis-44fb8035-b949\" style=\"margin: 15px 0;\"/>\n",
       "    <script crossorigin type=\"module\">\n",
       "    import { render, ColoredTokens } from \"https://unpkg.com/circuitsvis@1.43.3/dist/cdn/esm.js\";\n",
       "    render(\n",
       "      \"circuits-vis-44fb8035-b949\",\n",
       "      ColoredTokens,\n",
       "      {\"tokens\": [\"1\", \".\", \" The\", \" Space\", \" Needle\", \"\\n\", \"2\", \".\", \" Lou\", \"vre\", \" Museum\", \"\\n\", \"3\", \".\", \" Col\", \"os\", \"se\", \"um\", \"\\n\", \"4\", \".\", \" Christ\", \" the\", \" Rede\", \"emer\", \"\\n\", \"5\", \".\", \" State\", \" of\", \" Liberty\", \"\\n\", \"6\", \".\", \" Big\", \" Ben\", \"\\n\", \"7\", \".\", \" E\", \"iff\", \"el\", \" Tower\", \"\\n\", \"Which\", \" of\", \" these\", \" landmarks\", \" is\", \" located\", \" in\", \" England\", \"?\\n\", \"Answer\", \":\"], \"values\": [0.007293701171875, 0.0028076171875, 0.000431060791015625, 0.0005035400390625, 0.001556396484375, 0.007537841796875, 0.007537841796875, 0.0026092529296875, 0.001068115234375, 0.000270843505859375, 0.000591278076171875, 0.00408935546875, 0.0033416748046875, 0.007659912109375, 0.001373291015625, 0.000667572021484375, 5.0067901611328125e-05, 0.0021514892578125, 0.00653076171875, 0.0084228515625, 0.00457763671875, 0.0003814697265625, 0.000347137451171875, 4.839897155761719e-05, 0.000518798828125, 0.00225830078125, 0.004852294921875, 0.00408935546875, 0.0016021728515625, 0.0021514892578125, 0.004638671875, 0.00982666015625, 0.0106201171875, 0.00653076171875, 0.00787353515625, 0.162109375, 0.06640625, 0.0028076171875, 0.02587890625, 0.003509521484375, 0.0004749298095703125, 0.00145721435546875, 0.00408935546875, 0.00653076171875, 0.0169677734375, 0.004302978515625, 0.007415771484375, 0.004302978515625, 0.004852294921875, 0.0020904541015625, 0.0025177001953125, 0.00982666015625, 0.039794921875, 0.006439208984375, 0.0211181640625]}\n",
       "    )\n",
       "    </script>"
      ],
      "text/plain": [
       "<circuitsvis.utils.render.RenderedHTML at 0x7fa4e01eb8d0>"
      ]
     },
     "metadata": {},
     "output_type": "display_data"
    },
    {
     "name": "stdout",
     "output_type": "stream",
     "text": [
      "2025-08-01 14:39:04 __main__ INFO     Layer: 47, Head: 18\n"
     ]
    },
    {
     "data": {
      "text/html": [
       "<div id=\"circuits-vis-c3bebb26-4ae6\" style=\"margin: 15px 0;\"/>\n",
       "    <script crossorigin type=\"module\">\n",
       "    import { render, ColoredTokens } from \"https://unpkg.com/circuitsvis@1.43.3/dist/cdn/esm.js\";\n",
       "    render(\n",
       "      \"circuits-vis-c3bebb26-4ae6\",\n",
       "      ColoredTokens,\n",
       "      {\"tokens\": [\"1\", \".\", \" The\", \" Space\", \" Needle\", \"\\n\", \"2\", \".\", \" Lou\", \"vre\", \" Museum\", \"\\n\", \"3\", \".\", \" Col\", \"os\", \"se\", \"um\", \"\\n\", \"4\", \".\", \" Christ\", \" the\", \" Rede\", \"emer\", \"\\n\", \"5\", \".\", \" State\", \" of\", \" Liberty\", \"\\n\", \"6\", \".\", \" Big\", \" Ben\", \"\\n\", \"7\", \".\", \" E\", \"iff\", \"el\", \" Tower\", \"\\n\", \"Which\", \" of\", \" these\", \" landmarks\", \" is\", \" located\", \" in\", \" England\", \"?\\n\", \"Answer\", \":\"], \"values\": [0.013671875, 0.016845703125, 0.0027313232421875, 0.00013446807861328125, 0.000324249267578125, 0.0120849609375, 0.0146484375, 0.0040283203125, 0.0028228759765625, 3.0159950256347656e-05, 0.0001049041748046875, 0.006927490234375, 0.0040283203125, 0.006988525390625, 0.000396728515625, 9.870529174804688e-05, 2.276897430419922e-05, 0.00023651123046875, 0.0052490234375, 0.00445556640625, 0.0032958984375, 7.200241088867188e-05, 3.528594970703125e-05, 1.2442469596862793e-06, 0.0001049041748046875, 0.002838134765625, 0.0037078857421875, 0.0032958984375, 0.0007171630859375, 0.0006866455078125, 0.0008392333984375, 0.00634765625, 0.0145263671875, 0.0086669921875, 0.06787109375, 0.248046875, 0.349609375, 0.00201416015625, 0.03173828125, 0.00136566162109375, 5.930662155151367e-06, 2.205371856689453e-05, 0.000324249267578125, 0.0011138916015625, 0.01275634765625, 0.0028839111328125, 0.0032196044921875, 0.000949859619140625, 0.00390625, 0.00010824203491210938, 0.002044677734375, 0.000728607177734375, 0.039794921875, 0.0057373046875, 0.01287841796875]}\n",
       "    )\n",
       "    </script>"
      ],
      "text/plain": [
       "<circuitsvis.utils.render.RenderedHTML at 0x7fa567956690>"
      ]
     },
     "metadata": {},
     "output_type": "display_data"
    },
    {
     "name": "stdout",
     "output_type": "stream",
     "text": [
      "2025-08-01 14:39:04 __main__ INFO     Layer: 52, Head: 58\n"
     ]
    },
    {
     "data": {
      "text/html": [
       "<div id=\"circuits-vis-caba9d94-df59\" style=\"margin: 15px 0;\"/>\n",
       "    <script crossorigin type=\"module\">\n",
       "    import { render, ColoredTokens } from \"https://unpkg.com/circuitsvis@1.43.3/dist/cdn/esm.js\";\n",
       "    render(\n",
       "      \"circuits-vis-caba9d94-df59\",\n",
       "      ColoredTokens,\n",
       "      {\"tokens\": [\"1\", \".\", \" The\", \" Space\", \" Needle\", \"\\n\", \"2\", \".\", \" Lou\", \"vre\", \" Museum\", \"\\n\", \"3\", \".\", \" Col\", \"os\", \"se\", \"um\", \"\\n\", \"4\", \".\", \" Christ\", \" the\", \" Rede\", \"emer\", \"\\n\", \"5\", \".\", \" State\", \" of\", \" Liberty\", \"\\n\", \"6\", \".\", \" Big\", \" Ben\", \"\\n\", \"7\", \".\", \" E\", \"iff\", \"el\", \" Tower\", \"\\n\", \"Which\", \" of\", \" these\", \" landmarks\", \" is\", \" located\", \" in\", \" England\", \"?\\n\", \"Answer\", \":\"], \"values\": [0.028564453125, 0.02197265625, 0.00225830078125, 0.0027618408203125, 0.007293701171875, 0.00982666015625, 0.0023651123046875, 0.00162506103515625, 0.00101470947265625, 0.000278472900390625, 0.000518798828125, 0.00323486328125, 0.0021209716796875, 0.00372314453125, 0.0002384185791015625, 0.0012054443359375, 3.647804260253906e-05, 0.000690460205078125, 0.004364013671875, 0.0008697509765625, 0.002288818359375, 9.632110595703125e-05, 0.000179290771484375, 7.18235969543457e-06, 0.00014400482177734375, 0.00083160400390625, 0.0004730224609375, 0.003448486328125, 0.0003147125244140625, 0.00075531005859375, 0.002685546875, 0.0009002685546875, 0.0029449462890625, 0.003387451171875, 0.04248046875, 0.49609375, 0.053466796875, 0.00064849853515625, 0.00775146484375, 0.0003261566162109375, 4.982948303222656e-05, 0.00012302398681640625, 0.00130462646484375, 0.000667572021484375, 0.00390625, 0.00469970703125, 0.0024871826171875, 0.002685546875, 0.004486083984375, 0.000667572021484375, 0.0021820068359375, 0.00130462646484375, 0.01519775390625, 0.0020599365234375, 0.009033203125]}\n",
       "    )\n",
       "    </script>"
      ],
      "text/plain": [
       "<circuitsvis.utils.render.RenderedHTML at 0x7fa4c055b7d0>"
      ]
     },
     "metadata": {},
     "output_type": "display_data"
    },
    {
     "data": {
      "text/plain": [
       "[PredictedToken(token=' Big', prob=0.66796875, logit=21.5, token_id=6295, metadata=None),\n",
       " PredictedToken(token=' ', prob=0.216796875, logit=20.375, token_id=220, metadata=None),\n",
       " PredictedToken(token=' #', prob=0.0228271484375, logit=18.125, token_id=674, metadata=None),\n",
       " PredictedToken(token=' Number', prob=0.017822265625, logit=17.875, token_id=5742, metadata=None),\n",
       " PredictedToken(token=' The', prob=0.0084228515625, logit=17.125, token_id=578, metadata=None)]"
      ]
     },
     "execution_count": 26,
     "metadata": {},
     "output_type": "execute_result"
    }
   ],
   "source": [
    "import random\n",
    "\n",
    "# options = [\"Table\", \"Orange\", \"Transistor\", \"Spinach\", \"Piano\", \"Coffee\"]\n",
    "# prompt_template = \"\"\"Which of these objects is by type a {}?\n",
    "# options: {}\n",
    "# Answer:\"\"\"\n",
    "# prompt = prompt_template.format(\n",
    "#     \"musical instrument\",\n",
    "#     \", \".join(options)\n",
    "# )\n",
    "# print(prompt)\n",
    "\n",
    "# options = [\"anaconda\", \"python\", \"cobra\", \"viper\", \"mamba\", \"rattlesnake\"]\n",
    "# prompt = f\"\"\"Which of these snake names is also a programming language?\n",
    "# options: {\", \".join(options)}\n",
    "# Answer:\"\"\"\n",
    "\n",
    "options = [\n",
    "    \"The Space Needle\",\n",
    "    \"Louvre Museum\",\n",
    "    \"Colosseum\",\n",
    "    \"Christ the Redeemer\",\n",
    "    \"State of Liberty\",\n",
    "    \"Big Ben\",\n",
    "]\n",
    "options += [\"Eiffel Tower\"]\n",
    "# random.shuffle(options)\n",
    "country = \"England\"\n",
    "prompt_template = \"\"\"{}\n",
    "Which of these landmarks is located in {}?\n",
    "Answer:\"\"\"\n",
    "prompt = prompt_template.format(\n",
    "    \"\\n\".join([f\"{idx+1}. {opt}\" for idx, opt in enumerate(options)]), country\n",
    ")\n",
    "\n",
    "verify = verify_head_patterns(\n",
    "    prompt=prompt,\n",
    "    options=options,\n",
    "    pivot=country,\n",
    "    mt=mt,\n",
    "    value_weighted=False,\n",
    "    generate_full_answer=True,\n",
    "    ablate_possible_ans_info_from_options=False,\n",
    ")\n",
    "\n",
    "verify[\"predictions\"]"
   ]
  },
  {
   "cell_type": "code",
   "execution_count": 27,
   "id": "7d0db58f",
   "metadata": {},
   "outputs": [
    {
     "name": "stdout",
     "output_type": "stream",
     "text": [
      "2025-08-01 14:40:15 __main__ DEBUG    The Space Needle | opt_range=(3, 6) | bare_opt_range=(4, 7) | \" The Space Needle\"\n",
      "2025-08-01 14:40:16 __main__ DEBUG    Louvre Museum | opt_range=(9, 12) | bare_opt_range=(4, 7) | \" Louvre Museum\"\n",
      "2025-08-01 14:40:16 __main__ DEBUG    Colosseum | opt_range=(15, 19) | bare_opt_range=(4, 8) | \" Colosseum\"\n",
      "2025-08-01 14:40:16 __main__ DEBUG    Christ the Redeemer | opt_range=(22, 26) | bare_opt_range=(4, 8) | \" Christ the Redeemer\"\n",
      "2025-08-01 14:40:16 __main__ DEBUG    State of Liberty | opt_range=(29, 32) | bare_opt_range=(4, 7) | \" State of Liberty\"\n",
      "2025-08-01 14:40:16 __main__ DEBUG    Big Ben | opt_range=(35, 37) | bare_opt_range=(4, 6) | \" Big Ben\"\n",
      "2025-08-01 14:40:16 __main__ DEBUG    Eiffel Tower | opt_range=(40, 44) | bare_opt_range=(4, 8) | \" Eiffel Tower\"\n",
      "2025-08-01 14:40:24 __main__ DEBUG    Predictions: ['\" Big\"[6295] (p=0.668, logit=21.500)', '\" \"[220] (p=0.217, logit=20.375)', '\" #\"[674] (p=0.023, logit=18.125)', '\" Number\"[5742] (p=0.018, logit=17.875)', '\" The\"[578] (p=0.008, logit=17.125)']\n",
      "layer=35\n"
     ]
    },
    {
     "data": {
      "text/html": [
       "<div id=\"circuits-vis-7cffaef2-c9b6\" style=\"margin: 15px 0;\"/>\n",
       "    <script crossorigin type=\"module\">\n",
       "    import { render, ColoredTokens } from \"https://unpkg.com/circuitsvis@1.43.3/dist/cdn/esm.js\";\n",
       "    render(\n",
       "      \"circuits-vis-7cffaef2-c9b6\",\n",
       "      ColoredTokens,\n",
       "      {\"tokens\": [\"1\", \".\", \" The\", \" Space\", \" Needle\", \"\\n\", \"2\", \".\", \" Lou\", \"vre\", \" Museum\", \"\\n\", \"3\", \".\", \" Col\", \"os\", \"se\", \"um\", \"\\n\", \"4\", \".\", \" Christ\", \" the\", \" Rede\", \"emer\", \"\\n\", \"5\", \".\", \" State\", \" of\", \" Liberty\", \"\\n\", \"6\", \".\", \" Big\", \" Ben\", \"\\n\", \"7\", \".\", \" E\", \"iff\", \"el\", \" Tower\", \"\\n\", \"Which\", \" of\", \" these\", \" landmarks\", \" is\", \" located\", \" in\", \" England\", \"?\\n\", \"Answer\", \":\"], \"values\": [0.021678686141967773, 0.005518946796655655, 0.000980418175458908, 0.0006273332983255386, 0.0021002963185310364, 0.009810864925384521, 0.009330704808235168, 0.00108380988240242, 0.001580696552991867, 0.0008116848766803741, 0.0012706443667411804, 0.0071580857038497925, 0.0006761588156223297, 0.0028001386672258377, 0.0010293154045939445, 0.000472524669021368, 0.0012096166610717773, 0.003010779619216919, 0.006569854915142059, 0.009779796004295349, 0.0009104404598474503, 0.0003756452351808548, 0.0001942124217748642, 0.00012409838382154703, 0.0012607164680957794, 0.0021606720983982086, 0.002868928015232086, 0.0012251492589712143, 0.0013766763731837273, 0.000619939062744379, 0.0041776299476623535, 0.008372917771339417, 0.013052642345428467, 0.0015016645193099976, 0.001589587889611721, 0.04696591943502426, 0.03168195113539696, 0.004367828369140625, 0.010338284075260162, 0.002168339677155018, 0.0010976605117321014, 0.0008875736966729164, 0.004275213927030563, 0.010778576135635376, 0.01910918951034546, 0.0074612051248550415, 0.01314699649810791, 0.005058672279119492, 0.011604107916355133, 0.005723381415009499, 0.004585728049278259, 0.03721708059310913, 0.04249882698059082, 0.031813450157642365, 0.029922261834144592]}\n",
       "    )\n",
       "    </script>"
      ],
      "text/plain": [
       "<circuitsvis.utils.render.RenderedHTML at 0x7fa4c0150610>"
      ]
     },
     "metadata": {},
     "output_type": "display_data"
    },
    {
     "name": "stdout",
     "output_type": "stream",
     "text": [
      "--------------------------------------------------------------------------------\n",
      "layer=47\n"
     ]
    },
    {
     "data": {
      "text/html": [
       "<div id=\"circuits-vis-77afad28-a321\" style=\"margin: 15px 0;\"/>\n",
       "    <script crossorigin type=\"module\">\n",
       "    import { render, ColoredTokens } from \"https://unpkg.com/circuitsvis@1.43.3/dist/cdn/esm.js\";\n",
       "    render(\n",
       "      \"circuits-vis-77afad28-a321\",\n",
       "      ColoredTokens,\n",
       "      {\"tokens\": [\"1\", \".\", \" The\", \" Space\", \" Needle\", \"\\n\", \"2\", \".\", \" Lou\", \"vre\", \" Museum\", \"\\n\", \"3\", \".\", \" Col\", \"os\", \"se\", \"um\", \"\\n\", \"4\", \".\", \" Christ\", \" the\", \" Rede\", \"emer\", \"\\n\", \"5\", \".\", \" State\", \" of\", \" Liberty\", \"\\n\", \"6\", \".\", \" Big\", \" Ben\", \"\\n\", \"7\", \".\", \" E\", \"iff\", \"el\", \" Tower\", \"\\n\", \"Which\", \" of\", \" these\", \" landmarks\", \" is\", \" located\", \" in\", \" England\", \"?\\n\", \"Answer\", \":\"], \"values\": [0.003023102879524231, 0.0017553027719259262, 0.0005130954086780548, 0.00043992698192596436, 0.0010306015610694885, 0.002038789913058281, 0.0012149633839726448, 0.000619557686150074, 0.0003629326820373535, 0.00033397041261196136, 0.00032460037618875504, 0.0009025335311889648, 0.0003937557339668274, 0.000519544817507267, 0.0002135992981493473, 0.00023456616327166557, 0.00023305322974920273, 0.00030261604115366936, 0.0006229637656360865, 0.0006830837810412049, 0.00031733280047774315, 0.00016141962260007858, 0.00014894013293087482, 0.00012371421325951815, 0.0002477983944118023, 0.0003557363525032997, 0.000437295064330101, 0.0004204642027616501, 0.00035555288195610046, 0.00042706308886408806, 0.0010034739971160889, 0.0009212926961481571, 0.0008961784187704325, 0.0007029767148196697, 0.0024959733709692955, 0.010641173459589481, 0.009601750411093235, 0.0013576559722423553, 0.0011911038309335709, 0.00046030967496335506, 0.00025768810883164406, 0.00038091978058218956, 0.00041774287819862366, 0.0005045332945883274, 0.002657182514667511, 0.0021904893219470978, 0.0009362790733575821, 0.0013484731316566467, 0.0010413192212581635, 0.0006230585277080536, 0.0008086487650871277, 0.002682216465473175, 0.010824665427207947, 0.013012290000915527, 0.0028547775000333786]}\n",
       "    )\n",
       "    </script>"
      ],
      "text/plain": [
       "<circuitsvis.utils.render.RenderedHTML at 0x7fa5688b6c10>"
      ]
     },
     "metadata": {},
     "output_type": "display_data"
    },
    {
     "name": "stdout",
     "output_type": "stream",
     "text": [
      "--------------------------------------------------------------------------------\n",
      "layer=52\n"
     ]
    },
    {
     "data": {
      "text/html": [
       "<div id=\"circuits-vis-003331bf-b1a6\" style=\"margin: 15px 0;\"/>\n",
       "    <script crossorigin type=\"module\">\n",
       "    import { render, ColoredTokens } from \"https://unpkg.com/circuitsvis@1.43.3/dist/cdn/esm.js\";\n",
       "    render(\n",
       "      \"circuits-vis-003331bf-b1a6\",\n",
       "      ColoredTokens,\n",
       "      {\"tokens\": [\"1\", \".\", \" The\", \" Space\", \" Needle\", \"\\n\", \"2\", \".\", \" Lou\", \"vre\", \" Museum\", \"\\n\", \"3\", \".\", \" Col\", \"os\", \"se\", \"um\", \"\\n\", \"4\", \".\", \" Christ\", \" the\", \" Rede\", \"emer\", \"\\n\", \"5\", \".\", \" State\", \" of\", \" Liberty\", \"\\n\", \"6\", \".\", \" Big\", \" Ben\", \"\\n\", \"7\", \".\", \" E\", \"iff\", \"el\", \" Tower\", \"\\n\", \"Which\", \" of\", \" these\", \" landmarks\", \" is\", \" located\", \" in\", \" England\", \"?\\n\", \"Answer\", \":\"], \"values\": [0.005723729729652405, 0.005251364782452583, 0.002393074333667755, 0.0007652249187231064, 0.001603935845196247, 0.005423441529273987, 0.004252433776855469, 0.0015449319034814835, 0.0012458190321922302, 0.000542023335583508, 0.000465653371065855, 0.0021364381536841393, 0.0013086749240756035, 0.0017093811184167862, 0.0004799612797796726, 0.00033272942528128624, 0.00031443615444004536, 0.0004702066071331501, 0.0012751161120831966, 0.0020732413977384567, 0.0009346334263682365, 0.000692577101290226, 0.00035486696287989616, 0.00017762515926733613, 0.0003137157764285803, 0.0008863992989063263, 0.0009822826832532883, 0.001050662249326706, 0.000757729634642601, 0.0007898285984992981, 0.0022760629653930664, 0.0023864489048719406, 0.0025985604152083397, 0.0013454612344503403, 0.009349395520985126, 0.012680471874773502, 0.011303211562335491, 0.0014761090278625488, 0.0014746151864528656, 0.000575029756873846, 0.00029983650892972946, 0.00045988382771611214, 0.0006005456671118736, 0.0013697207905352116, 0.008273787796497345, 0.0035330355167388916, 0.0024974271655082703, 0.00292002409696579, 0.0028043799102306366, 0.0019973628222942352, 0.0018438734114170074, 0.004183053970336914, 0.026737689971923828, 0.02122117578983307, 0.018530160188674927]}\n",
       "    )\n",
       "    </script>"
      ],
      "text/plain": [
       "<circuitsvis.utils.render.RenderedHTML at 0x7fa567f99450>"
      ]
     },
     "metadata": {},
     "output_type": "display_data"
    },
    {
     "name": "stdout",
     "output_type": "stream",
     "text": [
      "--------------------------------------------------------------------------------\n",
      "======================================================================\n",
      "2025-08-01 14:40:25 __main__ INFO     Layer: 33, Head: 45\n"
     ]
    },
    {
     "data": {
      "text/html": [
       "<div id=\"circuits-vis-65a3a8d0-5226\" style=\"margin: 15px 0;\"/>\n",
       "    <script crossorigin type=\"module\">\n",
       "    import { render, ColoredTokens } from \"https://unpkg.com/circuitsvis@1.43.3/dist/cdn/esm.js\";\n",
       "    render(\n",
       "      \"circuits-vis-65a3a8d0-5226\",\n",
       "      ColoredTokens,\n",
       "      {\"tokens\": [\"1\", \".\", \" The\", \" Space\", \" Needle\", \"\\n\", \"2\", \".\", \" Lou\", \"vre\", \" Museum\", \"\\n\", \"3\", \".\", \" Col\", \"os\", \"se\", \"um\", \"\\n\", \"4\", \".\", \" Christ\", \" the\", \" Rede\", \"emer\", \"\\n\", \"5\", \".\", \" State\", \" of\", \" Liberty\", \"\\n\", \"6\", \".\", \" Big\", \" Ben\", \"\\n\", \"7\", \".\", \" E\", \"iff\", \"el\", \" Tower\", \"\\n\", \"Which\", \" of\", \" these\", \" landmarks\", \" is\", \" located\", \" in\", \" England\", \"?\\n\", \"Answer\", \":\"], \"values\": [0.029052734375, 0.003387451171875, 0.0017547607421875, 0.004547119140625, 0.011962890625, 0.008544921875, 0.00921630859375, 0.00506591796875, 0.005401611328125, 0.00170135498046875, 0.0015716552734375, 0.0035400390625, 0.000843048095703125, 0.00396728515625, 0.0025482177734375, 0.0089111328125, 0.0010833740234375, 0.005828857421875, 0.007171630859375, 0.007171630859375, 0.003387451171875, 0.00101470947265625, 0.0017547607421875, 0.00136566162109375, 0.00101470947265625, 0.002044677734375, 0.00299072265625, 0.00396728515625, 0.00762939453125, 0.00604248046875, 0.0111083984375, 0.0281982421875, 0.00775146484375, 0.0030364990234375, 0.0130615234375, 0.036865234375, 0.020751953125, 0.00183868408203125, 0.01239013671875, 0.0028533935546875, 0.00152587890625, 0.005950927734375, 0.0037689208984375, 0.01177978515625, 0.025634765625, 0.003387451171875, 0.0152587890625, 0.0037078857421875, 0.004547119140625, 0.00141143798828125, 0.0023193359375, 0.0311279296875, 0.032958984375, 0.007171630859375, 0.0390625]}\n",
       "    )\n",
       "    </script>"
      ],
      "text/plain": [
       "<circuitsvis.utils.render.RenderedHTML at 0x7fa4a0116890>"
      ]
     },
     "metadata": {},
     "output_type": "display_data"
    },
    {
     "name": "stdout",
     "output_type": "stream",
     "text": [
      "2025-08-01 14:40:25 __main__ INFO     Layer: 33, Head: 18\n"
     ]
    },
    {
     "data": {
      "text/html": [
       "<div id=\"circuits-vis-c06560db-a000\" style=\"margin: 15px 0;\"/>\n",
       "    <script crossorigin type=\"module\">\n",
       "    import { render, ColoredTokens } from \"https://unpkg.com/circuitsvis@1.43.3/dist/cdn/esm.js\";\n",
       "    render(\n",
       "      \"circuits-vis-c06560db-a000\",\n",
       "      ColoredTokens,\n",
       "      {\"tokens\": [\"1\", \".\", \" The\", \" Space\", \" Needle\", \"\\n\", \"2\", \".\", \" Lou\", \"vre\", \" Museum\", \"\\n\", \"3\", \".\", \" Col\", \"os\", \"se\", \"um\", \"\\n\", \"4\", \".\", \" Christ\", \" the\", \" Rede\", \"emer\", \"\\n\", \"5\", \".\", \" State\", \" of\", \" Liberty\", \"\\n\", \"6\", \".\", \" Big\", \" Ben\", \"\\n\", \"7\", \".\", \" E\", \"iff\", \"el\", \" Tower\", \"\\n\", \"Which\", \" of\", \" these\", \" landmarks\", \" is\", \" located\", \" in\", \" England\", \"?\\n\", \"Answer\", \":\"], \"values\": [0.005035400390625, 0.0017852783203125, 0.000667572021484375, 0.000255584716796875, 0.002777099609375, 0.0458984375, 0.005462646484375, 0.003875732421875, 0.0025177001953125, 0.000377655029296875, 0.00089263916015625, 0.0211181640625, 8.58306884765625e-05, 0.00482177734375, 0.0013275146484375, 0.00112152099609375, 0.000881195068359375, 0.004547119140625, 0.037353515625, 0.002777099609375, 0.00057220458984375, 0.00052642822265625, 0.00069427490234375, 2.9206275939941406e-05, 0.000652313232421875, 0.002471923828125, 0.000568389892578125, 0.00080108642578125, 0.001190185546875, 0.0005035400390625, 0.003662109375, 0.020751953125, 0.01019287109375, 0.000396728515625, 0.0084228515625, 0.1787109375, 0.515625, 8.96453857421875e-05, 0.033447265625, 0.0022735595703125, 0.0003833770751953125, 0.0012664794921875, 0.014892578125, 0.0142822265625, 0.0020904541015625, 9.393692016601562e-05, 0.000247955322265625, 0.00012493133544921875, 0.00013065338134765625, 1.2159347534179688e-05, 5.888938903808594e-05, 0.0004863739013671875, 0.00060272216796875, 0.00012683868408203125, 0.001068115234375]}\n",
       "    )\n",
       "    </script>"
      ],
      "text/plain": [
       "<circuitsvis.utils.render.RenderedHTML at 0x7fa4c0158250>"
      ]
     },
     "metadata": {},
     "output_type": "display_data"
    },
    {
     "name": "stdout",
     "output_type": "stream",
     "text": [
      "2025-08-01 14:40:25 __main__ INFO     Layer: 34, Head: 1\n"
     ]
    },
    {
     "data": {
      "text/html": [
       "<div id=\"circuits-vis-222ec951-eedb\" style=\"margin: 15px 0;\"/>\n",
       "    <script crossorigin type=\"module\">\n",
       "    import { render, ColoredTokens } from \"https://unpkg.com/circuitsvis@1.43.3/dist/cdn/esm.js\";\n",
       "    render(\n",
       "      \"circuits-vis-222ec951-eedb\",\n",
       "      ColoredTokens,\n",
       "      {\"tokens\": [\"1\", \".\", \" The\", \" Space\", \" Needle\", \"\\n\", \"2\", \".\", \" Lou\", \"vre\", \" Museum\", \"\\n\", \"3\", \".\", \" Col\", \"os\", \"se\", \"um\", \"\\n\", \"4\", \".\", \" Christ\", \" the\", \" Rede\", \"emer\", \"\\n\", \"5\", \".\", \" State\", \" of\", \" Liberty\", \"\\n\", \"6\", \".\", \" Big\", \" Ben\", \"\\n\", \"7\", \".\", \" E\", \"iff\", \"el\", \" Tower\", \"\\n\", \"Which\", \" of\", \" these\", \" landmarks\", \" is\", \" located\", \" in\", \" England\", \"?\\n\", \"Answer\", \":\"], \"values\": [0.018798828125, 0.001007080078125, 0.0001983642578125, 0.000217437744140625, 0.00055694580078125, 0.00168609619140625, 0.00139617919921875, 9.965896606445312e-05, 0.00238037109375, 1.1205673217773438e-05, 2.5987625122070312e-05, 0.0002536773681640625, 2.4437904357910156e-05, 0.0015106201171875, 0.000820159912109375, 0.00139617919921875, 5.0067901611328125e-05, 0.00086212158203125, 0.000659942626953125, 0.0008087158203125, 0.00034332275390625, 6.794929504394531e-06, 9.000301361083984e-06, 8.642673492431641e-07, 1.049041748046875e-05, 1.6808509826660156e-05, 0.00018596649169921875, 0.0001926422119140625, 0.001373291015625, 0.00029754638671875, 0.0004673004150390625, 0.0013580322265625, 0.005279541015625, 0.0001316070556640625, 0.002410888671875, 0.369140625, 0.2353515625, 0.0002880096435546875, 0.0142822265625, 0.00119781494140625, 3.24249267578125e-05, 7.05718994140625e-05, 0.00010633468627929688, 0.0009918212890625, 0.0037994384765625, 0.000888824462890625, 0.002197265625, 0.000446319580078125, 0.0009918212890625, 9.965896606445312e-05, 0.000270843505859375, 0.0118408203125, 0.01275634765625, 0.001007080078125, 0.0283203125]}\n",
       "    )\n",
       "    </script>"
      ],
      "text/plain": [
       "<circuitsvis.utils.render.RenderedHTML at 0x7fa56796e5d0>"
      ]
     },
     "metadata": {},
     "output_type": "display_data"
    },
    {
     "name": "stdout",
     "output_type": "stream",
     "text": [
      "2025-08-01 14:40:25 __main__ INFO     Layer: 34, Head: 6\n"
     ]
    },
    {
     "data": {
      "text/html": [
       "<div id=\"circuits-vis-e0901780-efe1\" style=\"margin: 15px 0;\"/>\n",
       "    <script crossorigin type=\"module\">\n",
       "    import { render, ColoredTokens } from \"https://unpkg.com/circuitsvis@1.43.3/dist/cdn/esm.js\";\n",
       "    render(\n",
       "      \"circuits-vis-e0901780-efe1\",\n",
       "      ColoredTokens,\n",
       "      {\"tokens\": [\"1\", \".\", \" The\", \" Space\", \" Needle\", \"\\n\", \"2\", \".\", \" Lou\", \"vre\", \" Museum\", \"\\n\", \"3\", \".\", \" Col\", \"os\", \"se\", \"um\", \"\\n\", \"4\", \".\", \" Christ\", \" the\", \" Rede\", \"emer\", \"\\n\", \"5\", \".\", \" State\", \" of\", \" Liberty\", \"\\n\", \"6\", \".\", \" Big\", \" Ben\", \"\\n\", \"7\", \".\", \" E\", \"iff\", \"el\", \" Tower\", \"\\n\", \"Which\", \" of\", \" these\", \" landmarks\", \" is\", \" located\", \" in\", \" England\", \"?\\n\", \"Answer\", \":\"], \"values\": [0.034912109375, 0.002838134765625, 0.000614166259765625, 0.000789642333984375, 0.00142669677734375, 0.00537109375, 0.00439453125, 0.0004634857177734375, 0.0050048828125, 6.4849853515625e-05, 0.00011348724365234375, 0.00102996826171875, 3.695487976074219e-05, 0.00262451171875, 0.00098419189453125, 0.0031585693359375, 0.0002727508544921875, 0.0022125244140625, 0.001861572265625, 0.004608154296875, 0.0004634857177734375, 3.695487976074219e-05, 4.57763671875e-05, 8.225440979003906e-06, 3.790855407714844e-05, 7.343292236328125e-05, 0.000934600830078125, 0.00063323974609375, 0.003875732421875, 0.0007171630859375, 0.00109100341796875, 0.0035858154296875, 0.0162353515625, 0.00019931793212890625, 0.00860595703125, 0.28515625, 0.12353515625, 0.0012969970703125, 0.01361083984375, 0.001983642578125, 0.00016021728515625, 0.0002803802490234375, 0.000263214111328125, 0.00156402587890625, 0.00836181640625, 0.0016937255859375, 0.0035858154296875, 0.0004482269287109375, 0.0012969970703125, 0.0001811981201171875, 0.000675201416015625, 0.0098876953125, 0.0137939453125, 0.0013580322265625, 0.032470703125]}\n",
       "    )\n",
       "    </script>"
      ],
      "text/plain": [
       "<circuitsvis.utils.render.RenderedHTML at 0x7fa5400fb890>"
      ]
     },
     "metadata": {},
     "output_type": "display_data"
    },
    {
     "name": "stdout",
     "output_type": "stream",
     "text": [
      "2025-08-01 14:40:25 __main__ INFO     Layer: 34, Head: 7\n"
     ]
    },
    {
     "data": {
      "text/html": [
       "<div id=\"circuits-vis-defb80ef-76e2\" style=\"margin: 15px 0;\"/>\n",
       "    <script crossorigin type=\"module\">\n",
       "    import { render, ColoredTokens } from \"https://unpkg.com/circuitsvis@1.43.3/dist/cdn/esm.js\";\n",
       "    render(\n",
       "      \"circuits-vis-defb80ef-76e2\",\n",
       "      ColoredTokens,\n",
       "      {\"tokens\": [\"1\", \".\", \" The\", \" Space\", \" Needle\", \"\\n\", \"2\", \".\", \" Lou\", \"vre\", \" Museum\", \"\\n\", \"3\", \".\", \" Col\", \"os\", \"se\", \"um\", \"\\n\", \"4\", \".\", \" Christ\", \" the\", \" Rede\", \"emer\", \"\\n\", \"5\", \".\", \" State\", \" of\", \" Liberty\", \"\\n\", \"6\", \".\", \" Big\", \" Ben\", \"\\n\", \"7\", \".\", \" E\", \"iff\", \"el\", \" Tower\", \"\\n\", \"Which\", \" of\", \" these\", \" landmarks\", \" is\", \" located\", \" in\", \" England\", \"?\\n\", \"Answer\", \":\"], \"values\": [0.045654296875, 0.00063323974609375, 0.00023651123046875, 0.00018405914306640625, 0.00067138671875, 0.00142669677734375, 0.000751495361328125, 0.00012683868408203125, 0.0009918212890625, 6.151199340820312e-05, 9.5367431640625e-05, 0.000469207763671875, 3.504753112792969e-05, 0.0004405975341796875, 0.00034332275390625, 0.000850677490234375, 0.000293731689453125, 0.00142669677734375, 0.0013580322265625, 0.00147247314453125, 0.00017261505126953125, 0.0001392364501953125, 0.00015735626220703125, 2.6464462280273438e-05, 0.00019550323486328125, 0.0002841949462890625, 0.0009765625, 0.0003662109375, 0.001617431640625, 0.0004138946533203125, 0.0015411376953125, 0.00604248046875, 0.007415771484375, 0.0002765655517578125, 0.003692626953125, 0.1806640625, 0.1376953125, 0.00171661376953125, 0.00885009765625, 0.0012969970703125, 0.000934600830078125, 0.00127410888671875, 0.002838134765625, 0.00848388671875, 0.0206298828125, 0.004852294921875, 0.016357421875, 0.0020751953125, 0.006378173828125, 0.00087738037109375, 0.0022735595703125, 0.0869140625, 0.07861328125, 0.01220703125, 0.1015625]}\n",
       "    )\n",
       "    </script>"
      ],
      "text/plain": [
       "<circuitsvis.utils.render.RenderedHTML at 0x7fa56796e5d0>"
      ]
     },
     "metadata": {},
     "output_type": "display_data"
    },
    {
     "name": "stdout",
     "output_type": "stream",
     "text": [
      "2025-08-01 14:40:25 __main__ INFO     Layer: 35, Head: 19\n"
     ]
    },
    {
     "data": {
      "text/html": [
       "<div id=\"circuits-vis-2fbb5073-db5d\" style=\"margin: 15px 0;\"/>\n",
       "    <script crossorigin type=\"module\">\n",
       "    import { render, ColoredTokens } from \"https://unpkg.com/circuitsvis@1.43.3/dist/cdn/esm.js\";\n",
       "    render(\n",
       "      \"circuits-vis-2fbb5073-db5d\",\n",
       "      ColoredTokens,\n",
       "      {\"tokens\": [\"1\", \".\", \" The\", \" Space\", \" Needle\", \"\\n\", \"2\", \".\", \" Lou\", \"vre\", \" Museum\", \"\\n\", \"3\", \".\", \" Col\", \"os\", \"se\", \"um\", \"\\n\", \"4\", \".\", \" Christ\", \" the\", \" Rede\", \"emer\", \"\\n\", \"5\", \".\", \" State\", \" of\", \" Liberty\", \"\\n\", \"6\", \".\", \" Big\", \" Ben\", \"\\n\", \"7\", \".\", \" E\", \"iff\", \"el\", \" Tower\", \"\\n\", \"Which\", \" of\", \" these\", \" landmarks\", \" is\", \" located\", \" in\", \" England\", \"?\\n\", \"Answer\", \":\"], \"values\": [0.0018157958984375, 4.029273986816406e-05, 3.838539123535156e-05, 0.00011110305786132812, 0.00201416015625, 0.0024261474609375, 0.0003204345703125, 0.0009002685546875, 0.000873565673828125, 0.000301361083984375, 0.00104522705078125, 0.00665283203125, 0.000171661376953125, 0.0037689208984375, 0.00189208984375, 0.0017547607421875, 0.000705718994140625, 0.013427734375, 0.01031494140625, 0.0001544952392578125, 0.00098419189453125, 0.0002765655517578125, 0.0001125335693359375, 6.437301635742188e-05, 0.0011749267578125, 0.00110626220703125, 2.4318695068359375e-05, 0.00064849853515625, 0.00159454345703125, 0.0002498626708984375, 0.01104736328125, 0.005615234375, 0.0002193450927734375, 0.0005645751953125, 0.00115966796875, 0.6484375, 0.2236328125, 0.0002422332763671875, 0.0150146484375, 0.0021209716796875, 0.00019741058349609375, 0.000782012939453125, 0.00189208984375, 0.0023651123046875, 0.00096893310546875, 2.288818359375e-05, 0.0003414154052734375, 0.0004425048828125, 7.295608520507812e-05, 0.00015926361083984375, 0.0003910064697265625, 0.00592041015625, 0.0030517578125, 7.295608520507812e-05, 0.001220703125]}\n",
       "    )\n",
       "    </script>"
      ],
      "text/plain": [
       "<circuitsvis.utils.render.RenderedHTML at 0x7fa5679a09d0>"
      ]
     },
     "metadata": {},
     "output_type": "display_data"
    },
    {
     "name": "stdout",
     "output_type": "stream",
     "text": [
      "2025-08-01 14:40:26 __main__ INFO     Layer: 39, Head: 40\n"
     ]
    },
    {
     "data": {
      "text/html": [
       "<div id=\"circuits-vis-185413f6-1b6d\" style=\"margin: 15px 0;\"/>\n",
       "    <script crossorigin type=\"module\">\n",
       "    import { render, ColoredTokens } from \"https://unpkg.com/circuitsvis@1.43.3/dist/cdn/esm.js\";\n",
       "    render(\n",
       "      \"circuits-vis-185413f6-1b6d\",\n",
       "      ColoredTokens,\n",
       "      {\"tokens\": [\"1\", \".\", \" The\", \" Space\", \" Needle\", \"\\n\", \"2\", \".\", \" Lou\", \"vre\", \" Museum\", \"\\n\", \"3\", \".\", \" Col\", \"os\", \"se\", \"um\", \"\\n\", \"4\", \".\", \" Christ\", \" the\", \" Rede\", \"emer\", \"\\n\", \"5\", \".\", \" State\", \" of\", \" Liberty\", \"\\n\", \"6\", \".\", \" Big\", \" Ben\", \"\\n\", \"7\", \".\", \" E\", \"iff\", \"el\", \" Tower\", \"\\n\", \"Which\", \" of\", \" these\", \" landmarks\", \" is\", \" located\", \" in\", \" England\", \"?\\n\", \"Answer\", \":\"], \"values\": [0.000919342041015625, 0.001953125, 3.266334533691406e-05, 7.420778274536133e-06, 0.0001316070556640625, 0.00543212890625, 0.0031585693359375, 0.0002346038818359375, 0.0001277923583984375, 5.9604644775390625e-06, 3.4332275390625e-05, 0.0028533935546875, 8.916854858398438e-05, 0.0037689208984375, 0.0004119873046875, 0.0001888275146484375, 6.765127182006836e-06, 0.0014190673828125, 0.0267333984375, 0.00299072265625, 0.00067901611328125, 1.621246337890625e-05, 5.424022674560547e-06, 1.862645149230957e-07, 2.4318695068359375e-05, 0.000881195068359375, 0.0010528564453125, 0.0015411376953125, 0.00020885467529296875, 0.0004749298095703125, 0.001220703125, 0.0118408203125, 0.0031585693359375, 0.000820159912109375, 0.00145721435546875, 0.185546875, 0.51953125, 0.00016117095947265625, 0.038818359375, 0.00109100341796875, 1.1146068572998047e-05, 3.7670135498046875e-05, 0.0004119873046875, 0.0023040771484375, 0.001434326171875, 0.0006866455078125, 0.0001773834228515625, 2.4318695068359375e-05, 0.00124359130859375, 6.198883056640625e-05, 0.0003204345703125, 0.0025482177734375, 0.11962890625, 0.0026092529296875, 0.041259765625]}\n",
       "    )\n",
       "    </script>"
      ],
      "text/plain": [
       "<circuitsvis.utils.render.RenderedHTML at 0x7fa4c033f550>"
      ]
     },
     "metadata": {},
     "output_type": "display_data"
    },
    {
     "name": "stdout",
     "output_type": "stream",
     "text": [
      "2025-08-01 14:40:26 __main__ INFO     Layer: 42, Head: 30\n"
     ]
    },
    {
     "data": {
      "text/html": [
       "<div id=\"circuits-vis-e87cc67f-0644\" style=\"margin: 15px 0;\"/>\n",
       "    <script crossorigin type=\"module\">\n",
       "    import { render, ColoredTokens } from \"https://unpkg.com/circuitsvis@1.43.3/dist/cdn/esm.js\";\n",
       "    render(\n",
       "      \"circuits-vis-e87cc67f-0644\",\n",
       "      ColoredTokens,\n",
       "      {\"tokens\": [\"1\", \".\", \" The\", \" Space\", \" Needle\", \"\\n\", \"2\", \".\", \" Lou\", \"vre\", \" Museum\", \"\\n\", \"3\", \".\", \" Col\", \"os\", \"se\", \"um\", \"\\n\", \"4\", \".\", \" Christ\", \" the\", \" Rede\", \"emer\", \"\\n\", \"5\", \".\", \" State\", \" of\", \" Liberty\", \"\\n\", \"6\", \".\", \" Big\", \" Ben\", \"\\n\", \"7\", \".\", \" E\", \"iff\", \"el\", \" Tower\", \"\\n\", \"Which\", \" of\", \" these\", \" landmarks\", \" is\", \" located\", \" in\", \" England\", \"?\\n\", \"Answer\", \":\"], \"values\": [0.007293701171875, 0.0028076171875, 0.000431060791015625, 0.0005035400390625, 0.001556396484375, 0.007537841796875, 0.007537841796875, 0.0026092529296875, 0.001068115234375, 0.000270843505859375, 0.000591278076171875, 0.00408935546875, 0.0033416748046875, 0.007659912109375, 0.001373291015625, 0.000667572021484375, 5.0067901611328125e-05, 0.0021514892578125, 0.00653076171875, 0.0084228515625, 0.00457763671875, 0.0003814697265625, 0.000347137451171875, 4.839897155761719e-05, 0.000518798828125, 0.00225830078125, 0.004852294921875, 0.00408935546875, 0.0016021728515625, 0.0021514892578125, 0.004638671875, 0.00982666015625, 0.0106201171875, 0.00653076171875, 0.00787353515625, 0.162109375, 0.06640625, 0.0028076171875, 0.02587890625, 0.003509521484375, 0.0004749298095703125, 0.00145721435546875, 0.00408935546875, 0.00653076171875, 0.0169677734375, 0.004302978515625, 0.007415771484375, 0.004302978515625, 0.004852294921875, 0.0020904541015625, 0.0025177001953125, 0.00982666015625, 0.039794921875, 0.006439208984375, 0.0211181640625]}\n",
       "    )\n",
       "    </script>"
      ],
      "text/plain": [
       "<circuitsvis.utils.render.RenderedHTML at 0x7fa4a01138d0>"
      ]
     },
     "metadata": {},
     "output_type": "display_data"
    },
    {
     "name": "stdout",
     "output_type": "stream",
     "text": [
      "2025-08-01 14:40:26 __main__ INFO     Layer: 47, Head: 18\n"
     ]
    },
    {
     "data": {
      "text/html": [
       "<div id=\"circuits-vis-8d02e3d9-c2c2\" style=\"margin: 15px 0;\"/>\n",
       "    <script crossorigin type=\"module\">\n",
       "    import { render, ColoredTokens } from \"https://unpkg.com/circuitsvis@1.43.3/dist/cdn/esm.js\";\n",
       "    render(\n",
       "      \"circuits-vis-8d02e3d9-c2c2\",\n",
       "      ColoredTokens,\n",
       "      {\"tokens\": [\"1\", \".\", \" The\", \" Space\", \" Needle\", \"\\n\", \"2\", \".\", \" Lou\", \"vre\", \" Museum\", \"\\n\", \"3\", \".\", \" Col\", \"os\", \"se\", \"um\", \"\\n\", \"4\", \".\", \" Christ\", \" the\", \" Rede\", \"emer\", \"\\n\", \"5\", \".\", \" State\", \" of\", \" Liberty\", \"\\n\", \"6\", \".\", \" Big\", \" Ben\", \"\\n\", \"7\", \".\", \" E\", \"iff\", \"el\", \" Tower\", \"\\n\", \"Which\", \" of\", \" these\", \" landmarks\", \" is\", \" located\", \" in\", \" England\", \"?\\n\", \"Answer\", \":\"], \"values\": [0.013671875, 0.016845703125, 0.0027313232421875, 0.00013446807861328125, 0.000324249267578125, 0.0120849609375, 0.0146484375, 0.0040283203125, 0.0028228759765625, 3.0159950256347656e-05, 0.0001049041748046875, 0.006927490234375, 0.0040283203125, 0.006988525390625, 0.000396728515625, 9.870529174804688e-05, 2.276897430419922e-05, 0.00023651123046875, 0.0052490234375, 0.00445556640625, 0.0032958984375, 7.200241088867188e-05, 3.528594970703125e-05, 1.2442469596862793e-06, 0.0001049041748046875, 0.002838134765625, 0.0037078857421875, 0.0032958984375, 0.0007171630859375, 0.0006866455078125, 0.0008392333984375, 0.00634765625, 0.0145263671875, 0.0086669921875, 0.06787109375, 0.248046875, 0.349609375, 0.00201416015625, 0.03173828125, 0.00136566162109375, 5.930662155151367e-06, 2.205371856689453e-05, 0.000324249267578125, 0.0011138916015625, 0.01275634765625, 0.0028839111328125, 0.0032196044921875, 0.000949859619140625, 0.00390625, 0.00010824203491210938, 0.002044677734375, 0.000728607177734375, 0.039794921875, 0.0057373046875, 0.01287841796875]}\n",
       "    )\n",
       "    </script>"
      ],
      "text/plain": [
       "<circuitsvis.utils.render.RenderedHTML at 0x7fa567ff65d0>"
      ]
     },
     "metadata": {},
     "output_type": "display_data"
    },
    {
     "name": "stdout",
     "output_type": "stream",
     "text": [
      "2025-08-01 14:40:26 __main__ INFO     Layer: 52, Head: 58\n"
     ]
    },
    {
     "data": {
      "text/html": [
       "<div id=\"circuits-vis-683bd414-fc5f\" style=\"margin: 15px 0;\"/>\n",
       "    <script crossorigin type=\"module\">\n",
       "    import { render, ColoredTokens } from \"https://unpkg.com/circuitsvis@1.43.3/dist/cdn/esm.js\";\n",
       "    render(\n",
       "      \"circuits-vis-683bd414-fc5f\",\n",
       "      ColoredTokens,\n",
       "      {\"tokens\": [\"1\", \".\", \" The\", \" Space\", \" Needle\", \"\\n\", \"2\", \".\", \" Lou\", \"vre\", \" Museum\", \"\\n\", \"3\", \".\", \" Col\", \"os\", \"se\", \"um\", \"\\n\", \"4\", \".\", \" Christ\", \" the\", \" Rede\", \"emer\", \"\\n\", \"5\", \".\", \" State\", \" of\", \" Liberty\", \"\\n\", \"6\", \".\", \" Big\", \" Ben\", \"\\n\", \"7\", \".\", \" E\", \"iff\", \"el\", \" Tower\", \"\\n\", \"Which\", \" of\", \" these\", \" landmarks\", \" is\", \" located\", \" in\", \" England\", \"?\\n\", \"Answer\", \":\"], \"values\": [0.028564453125, 0.02197265625, 0.00225830078125, 0.0027618408203125, 0.007293701171875, 0.00982666015625, 0.0023651123046875, 0.00162506103515625, 0.00101470947265625, 0.000278472900390625, 0.000518798828125, 0.00323486328125, 0.0021209716796875, 0.00372314453125, 0.0002384185791015625, 0.0012054443359375, 3.647804260253906e-05, 0.000690460205078125, 0.004364013671875, 0.0008697509765625, 0.002288818359375, 9.632110595703125e-05, 0.000179290771484375, 7.18235969543457e-06, 0.00014400482177734375, 0.00083160400390625, 0.0004730224609375, 0.003448486328125, 0.0003147125244140625, 0.00075531005859375, 0.002685546875, 0.0009002685546875, 0.0029449462890625, 0.003387451171875, 0.04248046875, 0.49609375, 0.053466796875, 0.00064849853515625, 0.00775146484375, 0.0003261566162109375, 4.982948303222656e-05, 0.00012302398681640625, 0.00130462646484375, 0.000667572021484375, 0.00390625, 0.00469970703125, 0.0024871826171875, 0.002685546875, 0.004486083984375, 0.000667572021484375, 0.0021820068359375, 0.00130462646484375, 0.01519775390625, 0.0020599365234375, 0.009033203125]}\n",
       "    )\n",
       "    </script>"
      ],
      "text/plain": [
       "<circuitsvis.utils.render.RenderedHTML at 0x7fa4c04d8c50>"
      ]
     },
     "metadata": {},
     "output_type": "display_data"
    },
    {
     "data": {
      "text/plain": [
       "[PredictedToken(token=' Big', prob=0.66796875, logit=21.5, token_id=6295, metadata=None),\n",
       " PredictedToken(token=' ', prob=0.216796875, logit=20.375, token_id=220, metadata=None),\n",
       " PredictedToken(token=' #', prob=0.0228271484375, logit=18.125, token_id=674, metadata=None),\n",
       " PredictedToken(token=' Number', prob=0.017822265625, logit=17.875, token_id=5742, metadata=None),\n",
       " PredictedToken(token=' The', prob=0.0084228515625, logit=17.125, token_id=578, metadata=None)]"
      ]
     },
     "execution_count": 27,
     "metadata": {},
     "output_type": "execute_result"
    }
   ],
   "source": [
    "verify_ind = verify_head_patterns(\n",
    "    prompt=prompt,\n",
    "    options=options,\n",
    "    pivot=country,\n",
    "    mt=mt,\n",
    "    value_weighted=False,\n",
    "    generate_full_answer=False,\n",
    "    ablate_possible_ans_info_from_options=True,\n",
    ")\n",
    "\n",
    "verify_ind[\"predictions\"]"
   ]
  },
  {
   "cell_type": "code",
   "execution_count": 32,
   "id": "cf6b285c",
   "metadata": {},
   "outputs": [
    {
     "name": "stdout",
     "output_type": "stream",
     "text": [
      "options: Marie Curie, Albert Einstein, Grover Cleveland, Charles Darwin, Nikola Tesla, Issac Newton\n",
      "Which of these people is not a scientist?\n",
      "Answer:\n",
      "2025-08-01 14:44:11 __main__ DEBUG    Generated full answer: \" Grover Cleveland\n",
      "Grover Cleveland was the 22nd and 24th President of the United States, making him the only person to serve two\"\n",
      "2025-08-01 14:44:11 __main__ DEBUG    Predictions: ['\" Gro\"[18370] (p=0.977, logit=21.875)', '\" #\"[674] (p=0.004, logit=16.375)', '\" The\"[578] (p=0.003, logit=16.000)', '\"Gro\"[77435] (p=0.002, logit=15.562)', '\" President\"[4900] (p=0.002, logit=15.438)']\n",
      "layer=35\n"
     ]
    },
    {
     "data": {
      "text/html": [
       "<div id=\"circuits-vis-aae77967-62b5\" style=\"margin: 15px 0;\"/>\n",
       "    <script crossorigin type=\"module\">\n",
       "    import { render, ColoredTokens } from \"https://unpkg.com/circuitsvis@1.43.3/dist/cdn/esm.js\";\n",
       "    render(\n",
       "      \"circuits-vis-aae77967-62b5\",\n",
       "      ColoredTokens,\n",
       "      {\"tokens\": [\"options\", \":\", \" Marie\", \" Cur\", \"ie\", \",\", \" Albert\", \" Einstein\", \",\", \" Gro\", \"ver\", \" Cleveland\", \",\", \" Charles\", \" Darwin\", \",\", \" Nikola\", \" Tesla\", \",\", \" Iss\", \"ac\", \" Newton\", \"\\n\", \"Which\", \" of\", \" these\", \" people\", \" is\", \" not\", \" a\", \" scientist\", \"?\\n\", \"Answer\", \":\"], \"values\": [0.021535754203796387, 0.0018853694200515747, 0.006523877382278442, 0.003903329372406006, 0.002613380551338196, 0.019320905208587646, 0.009273640811443329, 0.0110272616147995, 0.01350906491279602, 0.0022907741367816925, 0.002848580479621887, 0.05795420706272125, 0.04616454243659973, 0.006302632391452789, 0.009212777018547058, 0.0129995197057724, 0.0031449757516384125, 0.0057468414306640625, 0.007172644138336182, 0.002938278019428253, 0.005329139530658722, 0.00666201114654541, 0.022057533264160156, 0.007746756076812744, 0.0033557265996932983, 0.012194111943244934, 0.00971895456314087, 0.003977440297603607, 0.006824970245361328, 0.003121800720691681, 0.016009334474802017, 0.019512176513671875, 0.01805013045668602, 0.028237223625183105]}\n",
       "    )\n",
       "    </script>"
      ],
      "text/plain": [
       "<circuitsvis.utils.render.RenderedHTML at 0x7fa4c04606d0>"
      ]
     },
     "metadata": {},
     "output_type": "display_data"
    },
    {
     "name": "stdout",
     "output_type": "stream",
     "text": [
      "--------------------------------------------------------------------------------\n",
      "layer=47\n"
     ]
    },
    {
     "data": {
      "text/html": [
       "<div id=\"circuits-vis-5c38f966-ad09\" style=\"margin: 15px 0;\"/>\n",
       "    <script crossorigin type=\"module\">\n",
       "    import { render, ColoredTokens } from \"https://unpkg.com/circuitsvis@1.43.3/dist/cdn/esm.js\";\n",
       "    render(\n",
       "      \"circuits-vis-5c38f966-ad09\",\n",
       "      ColoredTokens,\n",
       "      {\"tokens\": [\"options\", \":\", \" Marie\", \" Cur\", \"ie\", \",\", \" Albert\", \" Einstein\", \",\", \" Gro\", \"ver\", \" Cleveland\", \",\", \" Charles\", \" Darwin\", \",\", \" Nikola\", \" Tesla\", \",\", \" Iss\", \"ac\", \" Newton\", \"\\n\", \"Which\", \" of\", \" these\", \" people\", \" is\", \" not\", \" a\", \" scientist\", \"?\\n\", \"Answer\", \":\"], \"values\": [0.002491876482963562, 0.0008117388933897018, 0.0014723986387252808, 0.0007613115012645721, 0.0009696334600448608, 0.0013058437034487724, 0.0005994969978928566, 0.0006575481966137886, 0.0006422791630029678, 0.004042070358991623, 0.014000039547681808, 0.004719045013189316, 0.005140746012330055, 0.0008725747466087341, 0.0007114820182323456, 0.0006253411993384361, 0.0003184792585670948, 0.0006107259541749954, 0.0004516206681728363, 0.0004937164485454559, 0.0006484119221568108, 0.00047940202057361603, 0.002495884895324707, 0.0012145638465881348, 0.0009939894080162048, 0.0006499700248241425, 0.000975482165813446, 0.0005606114864349365, 0.0006125848740339279, 0.0004865676164627075, 0.0017249584197998047, 0.005042910575866699, 0.007286258041858673, 0.0030108094215393066]}\n",
       "    )\n",
       "    </script>"
      ],
      "text/plain": [
       "<circuitsvis.utils.render.RenderedHTML at 0x7fa4c046e750>"
      ]
     },
     "metadata": {},
     "output_type": "display_data"
    },
    {
     "name": "stdout",
     "output_type": "stream",
     "text": [
      "--------------------------------------------------------------------------------\n",
      "layer=52\n"
     ]
    },
    {
     "data": {
      "text/html": [
       "<div id=\"circuits-vis-1670a2c2-3adf\" style=\"margin: 15px 0;\"/>\n",
       "    <script crossorigin type=\"module\">\n",
       "    import { render, ColoredTokens } from \"https://unpkg.com/circuitsvis@1.43.3/dist/cdn/esm.js\";\n",
       "    render(\n",
       "      \"circuits-vis-1670a2c2-3adf\",\n",
       "      ColoredTokens,\n",
       "      {\"tokens\": [\"options\", \":\", \" Marie\", \" Cur\", \"ie\", \",\", \" Albert\", \" Einstein\", \",\", \" Gro\", \"ver\", \" Cleveland\", \",\", \" Charles\", \" Darwin\", \",\", \" Nikola\", \" Tesla\", \",\", \" Iss\", \"ac\", \" Newton\", \"\\n\", \"Which\", \" of\", \" these\", \" people\", \" is\", \" not\", \" a\", \" scientist\", \"?\\n\", \"Answer\", \":\"], \"values\": [0.005073666572570801, 0.0033124983310699463, 0.004924654960632324, 0.0011396915651857853, 0.00141976960003376, 0.003613736480474472, 0.0019787251949310303, 0.0010606050491333008, 0.0014352835714817047, 0.029315903782844543, 0.01743876188993454, 0.0053105466067790985, 0.00442325696349144, 0.0019549336284399033, 0.0009960904717445374, 0.0013166209682822227, 0.0011090729385614395, 0.0008248314261436462, 0.0009884973987936974, 0.001159722451120615, 0.0014007575809955597, 0.0008474153000861406, 0.007489651441574097, 0.003336764872074127, 0.0016822759062051773, 0.0015048421919345856, 0.001653224229812622, 0.0011448971927165985, 0.002168264240026474, 0.0012173652648925781, 0.002696409821510315, 0.014503777027130127, 0.01348138228058815, 0.017029762268066406]}\n",
       "    )\n",
       "    </script>"
      ],
      "text/plain": [
       "<circuitsvis.utils.render.RenderedHTML at 0x7fa4a01d33d0>"
      ]
     },
     "metadata": {},
     "output_type": "display_data"
    },
    {
     "name": "stdout",
     "output_type": "stream",
     "text": [
      "--------------------------------------------------------------------------------\n",
      "======================================================================\n",
      "2025-08-01 14:44:11 __main__ INFO     Layer: 33, Head: 45\n"
     ]
    },
    {
     "data": {
      "text/html": [
       "<div id=\"circuits-vis-4e5580bd-0300\" style=\"margin: 15px 0;\"/>\n",
       "    <script crossorigin type=\"module\">\n",
       "    import { render, ColoredTokens } from \"https://unpkg.com/circuitsvis@1.43.3/dist/cdn/esm.js\";\n",
       "    render(\n",
       "      \"circuits-vis-4e5580bd-0300\",\n",
       "      ColoredTokens,\n",
       "      {\"tokens\": [\"options\", \":\", \" Marie\", \" Cur\", \"ie\", \",\", \" Albert\", \" Einstein\", \",\", \" Gro\", \"ver\", \" Cleveland\", \",\", \" Charles\", \" Darwin\", \",\", \" Nikola\", \" Tesla\", \",\", \" Iss\", \"ac\", \" Newton\", \"\\n\", \"Which\", \" of\", \" these\", \" people\", \" is\", \" not\", \" a\", \" scientist\", \"?\\n\", \"Answer\", \":\"], \"values\": [0.0169677734375, 0.0030975341796875, 0.007659912109375, 0.0108642578125, 0.0034027099609375, 0.007354736328125, 0.00872802734375, 0.00958251953125, 0.0093994140625, 0.0040283203125, 0.019775390625, 0.3984375, 0.16796875, 0.006011962890625, 0.0036773681640625, 0.00244140625, 0.001312255859375, 0.0019989013671875, 0.00146484375, 0.0023040771484375, 0.007293701171875, 0.0029449462890625, 0.005767822265625, 0.00173187255859375, 0.0033416748046875, 0.004608154296875, 0.0042724609375, 0.0019683837890625, 0.005340576171875, 0.0003757476806640625, 0.00091552734375, 0.05615234375, 0.0010223388671875, 0.0294189453125]}\n",
       "    )\n",
       "    </script>"
      ],
      "text/plain": [
       "<circuitsvis.utils.render.RenderedHTML at 0x7fa4c036b490>"
      ]
     },
     "metadata": {},
     "output_type": "display_data"
    },
    {
     "name": "stdout",
     "output_type": "stream",
     "text": [
      "2025-08-01 14:44:12 __main__ INFO     Layer: 33, Head: 18\n"
     ]
    },
    {
     "data": {
      "text/html": [
       "<div id=\"circuits-vis-0574b7fc-bcf0\" style=\"margin: 15px 0;\"/>\n",
       "    <script crossorigin type=\"module\">\n",
       "    import { render, ColoredTokens } from \"https://unpkg.com/circuitsvis@1.43.3/dist/cdn/esm.js\";\n",
       "    render(\n",
       "      \"circuits-vis-0574b7fc-bcf0\",\n",
       "      ColoredTokens,\n",
       "      {\"tokens\": [\"options\", \":\", \" Marie\", \" Cur\", \"ie\", \",\", \" Albert\", \" Einstein\", \",\", \" Gro\", \"ver\", \" Cleveland\", \",\", \" Charles\", \" Darwin\", \",\", \" Nikola\", \" Tesla\", \",\", \" Iss\", \"ac\", \" Newton\", \"\\n\", \"Which\", \" of\", \" these\", \" people\", \" is\", \" not\", \" a\", \" scientist\", \"?\\n\", \"Answer\", \":\"], \"values\": [0.0216064453125, 0.000446319580078125, 0.0196533203125, 0.0272216796875, 0.038330078125, 0.020751953125, 0.024169921875, 0.01361083984375, 0.0177001953125, 0.0025787353515625, 0.00567626953125, 0.33203125, 0.18359375, 0.0673828125, 0.0172119140625, 0.00579833984375, 0.001739501953125, 0.0025482177734375, 0.00144195556640625, 0.006988525390625, 0.01214599609375, 0.0062255859375, 0.00171661376953125, 0.000873565673828125, 0.00024318695068359375, 0.000759124755859375, 0.00396728515625, 0.0003261566162109375, 0.000316619873046875, 0.0027618408203125, 0.003204345703125, 0.0011749267578125, 0.000370025634765625, 0.004241943359375]}\n",
       "    )\n",
       "    </script>"
      ],
      "text/plain": [
       "<circuitsvis.utils.render.RenderedHTML at 0x7fa4c00e0b90>"
      ]
     },
     "metadata": {},
     "output_type": "display_data"
    },
    {
     "name": "stdout",
     "output_type": "stream",
     "text": [
      "2025-08-01 14:44:12 __main__ INFO     Layer: 34, Head: 1\n"
     ]
    },
    {
     "data": {
      "text/html": [
       "<div id=\"circuits-vis-aa8286c4-45f1\" style=\"margin: 15px 0;\"/>\n",
       "    <script crossorigin type=\"module\">\n",
       "    import { render, ColoredTokens } from \"https://unpkg.com/circuitsvis@1.43.3/dist/cdn/esm.js\";\n",
       "    render(\n",
       "      \"circuits-vis-aa8286c4-45f1\",\n",
       "      ColoredTokens,\n",
       "      {\"tokens\": [\"options\", \":\", \" Marie\", \" Cur\", \"ie\", \",\", \" Albert\", \" Einstein\", \",\", \" Gro\", \"ver\", \" Cleveland\", \",\", \" Charles\", \" Darwin\", \",\", \" Nikola\", \" Tesla\", \",\", \" Iss\", \"ac\", \" Newton\", \"\\n\", \"Which\", \" of\", \" these\", \" people\", \" is\", \" not\", \" a\", \" scientist\", \"?\\n\", \"Answer\", \":\"], \"values\": [0.00909423828125, 0.0003070831298828125, 0.004119873046875, 3.24249267578125e-05, 6.866455078125e-05, 0.001220703125, 9.393692016601562e-05, 1.8477439880371094e-05, 0.00018405914306640625, 3.790855407714844e-05, 0.000823974609375, 0.65234375, 0.2216796875, 0.00138092041015625, 6.377696990966797e-06, 0.00031280517578125, 1.6689300537109375e-06, 3.3229589462280273e-06, 0.00017261505126953125, 0.00026702880859375, 4.291534423828125e-05, 1.773238182067871e-06, 0.001220703125, 0.0007171630859375, 0.001068115234375, 0.000640869140625, 0.0004405975341796875, 0.00025177001953125, 0.0004482269287109375, 6.198883056640625e-06, 5.103647708892822e-07, 0.0018310546875, 0.0002117156982421875, 0.0169677734375]}\n",
       "    )\n",
       "    </script>"
      ],
      "text/plain": [
       "<circuitsvis.utils.render.RenderedHTML at 0x7fa567f21350>"
      ]
     },
     "metadata": {},
     "output_type": "display_data"
    },
    {
     "name": "stdout",
     "output_type": "stream",
     "text": [
      "2025-08-01 14:44:12 __main__ INFO     Layer: 34, Head: 6\n"
     ]
    },
    {
     "data": {
      "text/html": [
       "<div id=\"circuits-vis-1f99917a-2992\" style=\"margin: 15px 0;\"/>\n",
       "    <script crossorigin type=\"module\">\n",
       "    import { render, ColoredTokens } from \"https://unpkg.com/circuitsvis@1.43.3/dist/cdn/esm.js\";\n",
       "    render(\n",
       "      \"circuits-vis-1f99917a-2992\",\n",
       "      ColoredTokens,\n",
       "      {\"tokens\": [\"options\", \":\", \" Marie\", \" Cur\", \"ie\", \",\", \" Albert\", \" Einstein\", \",\", \" Gro\", \"ver\", \" Cleveland\", \",\", \" Charles\", \" Darwin\", \",\", \" Nikola\", \" Tesla\", \",\", \" Iss\", \"ac\", \" Newton\", \"\\n\", \"Which\", \" of\", \" these\", \" people\", \" is\", \" not\", \" a\", \" scientist\", \"?\\n\", \"Answer\", \":\"], \"values\": [0.0130615234375, 0.00115203857421875, 0.00787353515625, 0.0002651214599609375, 0.00023746490478515625, 0.0034942626953125, 0.0002956390380859375, 5.3882598876953125e-05, 0.0004730224609375, 0.000156402587890625, 0.00130462646484375, 0.7421875, 0.10888671875, 0.00154876708984375, 1.3649463653564453e-05, 0.00023746490478515625, 1.9669532775878906e-06, 4.708766937255859e-06, 0.00012493133544921875, 0.0003414154052734375, 3.4809112548828125e-05, 4.410743713378906e-06, 0.000720977783203125, 0.00173187255859375, 0.00390625, 0.0008544921875, 0.0005340576171875, 0.000431060791015625, 0.00057220458984375, 2.8848648071289062e-05, 4.023313522338867e-06, 0.00171661376953125, 0.0003452301025390625, 0.01544189453125]}\n",
       "    )\n",
       "    </script>"
      ],
      "text/plain": [
       "<circuitsvis.utils.render.RenderedHTML at 0x7fa567f14d50>"
      ]
     },
     "metadata": {},
     "output_type": "display_data"
    },
    {
     "name": "stdout",
     "output_type": "stream",
     "text": [
      "2025-08-01 14:44:12 __main__ INFO     Layer: 34, Head: 7\n"
     ]
    },
    {
     "data": {
      "text/html": [
       "<div id=\"circuits-vis-7dc73f90-39aa\" style=\"margin: 15px 0;\"/>\n",
       "    <script crossorigin type=\"module\">\n",
       "    import { render, ColoredTokens } from \"https://unpkg.com/circuitsvis@1.43.3/dist/cdn/esm.js\";\n",
       "    render(\n",
       "      \"circuits-vis-7dc73f90-39aa\",\n",
       "      ColoredTokens,\n",
       "      {\"tokens\": [\"options\", \":\", \" Marie\", \" Cur\", \"ie\", \",\", \" Albert\", \" Einstein\", \",\", \" Gro\", \"ver\", \" Cleveland\", \",\", \" Charles\", \" Darwin\", \",\", \" Nikola\", \" Tesla\", \",\", \" Iss\", \"ac\", \" Newton\", \"\\n\", \"Which\", \" of\", \" these\", \" people\", \" is\", \" not\", \" a\", \" scientist\", \"?\\n\", \"Answer\", \":\"], \"values\": [0.0322265625, 0.0002593994140625, 0.0037384033203125, 0.000621795654296875, 0.0002593994140625, 0.00579833984375, 0.0016326904296875, 0.000888824462890625, 0.0020904541015625, 0.000400543212890625, 0.00177001953125, 0.1787109375, 0.1591796875, 0.00445556640625, 0.0004673004150390625, 0.0029144287109375, 0.00017261505126953125, 0.0003528594970703125, 0.00335693359375, 0.0018768310546875, 0.00110626220703125, 0.00067138671875, 0.0093994140625, 0.009521484375, 0.01031494140625, 0.0260009765625, 0.008056640625, 0.00531005859375, 0.006622314453125, 0.000946044921875, 0.000514984130859375, 0.039794921875, 0.0037384033203125, 0.140625]}\n",
       "    )\n",
       "    </script>"
      ],
      "text/plain": [
       "<circuitsvis.utils.render.RenderedHTML at 0x7fa4e055b710>"
      ]
     },
     "metadata": {},
     "output_type": "display_data"
    },
    {
     "name": "stdout",
     "output_type": "stream",
     "text": [
      "2025-08-01 14:44:12 __main__ INFO     Layer: 35, Head: 19\n"
     ]
    },
    {
     "data": {
      "text/html": [
       "<div id=\"circuits-vis-50bf04ac-5fb1\" style=\"margin: 15px 0;\"/>\n",
       "    <script crossorigin type=\"module\">\n",
       "    import { render, ColoredTokens } from \"https://unpkg.com/circuitsvis@1.43.3/dist/cdn/esm.js\";\n",
       "    render(\n",
       "      \"circuits-vis-50bf04ac-5fb1\",\n",
       "      ColoredTokens,\n",
       "      {\"tokens\": [\"options\", \":\", \" Marie\", \" Cur\", \"ie\", \",\", \" Albert\", \" Einstein\", \",\", \" Gro\", \"ver\", \" Cleveland\", \",\", \" Charles\", \" Darwin\", \",\", \" Nikola\", \" Tesla\", \",\", \" Iss\", \"ac\", \" Newton\", \"\\n\", \"Which\", \" of\", \" these\", \" people\", \" is\", \" not\", \" a\", \" scientist\", \"?\\n\", \"Answer\", \":\"], \"values\": [0.002471923828125, 6.771087646484375e-05, 0.00164794921875, 0.00164794921875, 0.00152587890625, 0.004364013671875, 0.003936767578125, 0.00726318359375, 0.0030517578125, 0.000530242919921875, 0.006866455078125, 0.71484375, 0.1748046875, 0.006866455078125, 0.00823974609375, 0.0067138671875, 0.00048065185546875, 0.003936767578125, 0.00171661376953125, 0.000469207763671875, 0.0015106201171875, 0.001495361328125, 0.0001621246337890625, 0.000102996826171875, 2.956390380859375e-05, 0.00017833709716796875, 0.00038909912109375, 4.7206878662109375e-05, 0.00014495849609375, 8.535385131835938e-05, 2.5272369384765625e-05, 0.00026702880859375, 3.790855407714844e-05, 0.00110626220703125]}\n",
       "    )\n",
       "    </script>"
      ],
      "text/plain": [
       "<circuitsvis.utils.render.RenderedHTML at 0x7fa4e024df50>"
      ]
     },
     "metadata": {},
     "output_type": "display_data"
    },
    {
     "name": "stdout",
     "output_type": "stream",
     "text": [
      "2025-08-01 14:44:12 __main__ INFO     Layer: 39, Head: 40\n"
     ]
    },
    {
     "data": {
      "text/html": [
       "<div id=\"circuits-vis-54682516-ea15\" style=\"margin: 15px 0;\"/>\n",
       "    <script crossorigin type=\"module\">\n",
       "    import { render, ColoredTokens } from \"https://unpkg.com/circuitsvis@1.43.3/dist/cdn/esm.js\";\n",
       "    render(\n",
       "      \"circuits-vis-54682516-ea15\",\n",
       "      ColoredTokens,\n",
       "      {\"tokens\": [\"options\", \":\", \" Marie\", \" Cur\", \"ie\", \",\", \" Albert\", \" Einstein\", \",\", \" Gro\", \"ver\", \" Cleveland\", \",\", \" Charles\", \" Darwin\", \",\", \" Nikola\", \" Tesla\", \",\", \" Iss\", \"ac\", \" Newton\", \"\\n\", \"Which\", \" of\", \" these\", \" people\", \" is\", \" not\", \" a\", \" scientist\", \"?\\n\", \"Answer\", \":\"], \"values\": [0.02294921875, 0.0037078857421875, 0.0341796875, 0.0013427734375, 0.010986328125, 0.0634765625, 0.0135498046875, 0.00457763671875, 0.0218505859375, 0.0047607421875, 0.01361083984375, 0.32421875, 0.2021484375, 0.013916015625, 0.0047607421875, 0.030517578125, 0.00159454345703125, 0.0027618408203125, 0.02294921875, 0.00170135498046875, 0.0033721923828125, 0.00093841552734375, 0.007080078125, 0.00159454345703125, 0.000576019287109375, 0.000789642333984375, 0.00128173828125, 0.00177764892578125, 0.00164794921875, 0.00104522705078125, 0.000881195068359375, 0.01544189453125, 0.004119873046875, 0.03515625]}\n",
       "    )\n",
       "    </script>"
      ],
      "text/plain": [
       "<circuitsvis.utils.render.RenderedHTML at 0x7fa4e055a010>"
      ]
     },
     "metadata": {},
     "output_type": "display_data"
    },
    {
     "name": "stdout",
     "output_type": "stream",
     "text": [
      "2025-08-01 14:44:12 __main__ INFO     Layer: 42, Head: 30\n"
     ]
    },
    {
     "data": {
      "text/html": [
       "<div id=\"circuits-vis-a994357e-0966\" style=\"margin: 15px 0;\"/>\n",
       "    <script crossorigin type=\"module\">\n",
       "    import { render, ColoredTokens } from \"https://unpkg.com/circuitsvis@1.43.3/dist/cdn/esm.js\";\n",
       "    render(\n",
       "      \"circuits-vis-a994357e-0966\",\n",
       "      ColoredTokens,\n",
       "      {\"tokens\": [\"options\", \":\", \" Marie\", \" Cur\", \"ie\", \",\", \" Albert\", \" Einstein\", \",\", \" Gro\", \"ver\", \" Cleveland\", \",\", \" Charles\", \" Darwin\", \",\", \" Nikola\", \" Tesla\", \",\", \" Iss\", \"ac\", \" Newton\", \"\\n\", \"Which\", \" of\", \" these\", \" people\", \" is\", \" not\", \" a\", \" scientist\", \"?\\n\", \"Answer\", \":\"], \"values\": [0.0078125, 0.003875732421875, 0.01068115234375, 0.008056640625, 0.01904296875, 0.01287841796875, 0.005889892578125, 0.00830078125, 0.005889892578125, 0.0084228515625, 0.020751953125, 0.267578125, 0.033203125, 0.01153564453125, 0.01556396484375, 0.00885009765625, 0.002166748046875, 0.0081787109375, 0.005218505859375, 0.00250244140625, 0.00213623046875, 0.0030670166015625, 0.0098876953125, 0.0012969970703125, 0.000652313232421875, 0.0020751953125, 0.00160980224609375, 0.000888824462890625, 0.0020751953125, 0.00177001953125, 0.002838134765625, 0.004730224609375, 0.00107574462890625, 0.00885009765625]}\n",
       "    )\n",
       "    </script>"
      ],
      "text/plain": [
       "<circuitsvis.utils.render.RenderedHTML at 0x7fa4e03d18d0>"
      ]
     },
     "metadata": {},
     "output_type": "display_data"
    },
    {
     "name": "stdout",
     "output_type": "stream",
     "text": [
      "2025-08-01 14:44:12 __main__ INFO     Layer: 47, Head: 18\n"
     ]
    },
    {
     "data": {
      "text/html": [
       "<div id=\"circuits-vis-350e944d-6749\" style=\"margin: 15px 0;\"/>\n",
       "    <script crossorigin type=\"module\">\n",
       "    import { render, ColoredTokens } from \"https://unpkg.com/circuitsvis@1.43.3/dist/cdn/esm.js\";\n",
       "    render(\n",
       "      \"circuits-vis-350e944d-6749\",\n",
       "      ColoredTokens,\n",
       "      {\"tokens\": [\"options\", \":\", \" Marie\", \" Cur\", \"ie\", \",\", \" Albert\", \" Einstein\", \",\", \" Gro\", \"ver\", \" Cleveland\", \",\", \" Charles\", \" Darwin\", \",\", \" Nikola\", \" Tesla\", \",\", \" Iss\", \"ac\", \" Newton\", \"\\n\", \"Which\", \" of\", \" these\", \" people\", \" is\", \" not\", \" a\", \" scientist\", \"?\\n\", \"Answer\", \":\"], \"values\": [0.0107421875, 0.0017242431640625, 0.00396728515625, 0.000579833984375, 0.003387451171875, 0.013671875, 0.0004100799560546875, 0.00021266937255859375, 0.0093994140625, 0.12255859375, 0.2138671875, 0.10302734375, 0.1650390625, 0.00408935546875, 0.00017642974853515625, 0.0096435546875, 0.00012874603271484375, 0.00020599365234375, 0.00640869140625, 0.00054168701171875, 0.0002193450927734375, 7.343292236328125e-05, 0.00811767578125, 0.002899169921875, 0.0010833740234375, 0.00145721435546875, 0.004547119140625, 0.002593994140625, 0.0013275146484375, 0.0029449462890625, 0.000789642333984375, 0.01483154296875, 0.0002269744873046875, 0.019775390625]}\n",
       "    )\n",
       "    </script>"
      ],
      "text/plain": [
       "<circuitsvis.utils.render.RenderedHTML at 0x7fa500196c10>"
      ]
     },
     "metadata": {},
     "output_type": "display_data"
    },
    {
     "name": "stdout",
     "output_type": "stream",
     "text": [
      "2025-08-01 14:44:13 __main__ INFO     Layer: 52, Head: 58\n"
     ]
    },
    {
     "data": {
      "text/html": [
       "<div id=\"circuits-vis-a8d31681-6ec2\" style=\"margin: 15px 0;\"/>\n",
       "    <script crossorigin type=\"module\">\n",
       "    import { render, ColoredTokens } from \"https://unpkg.com/circuitsvis@1.43.3/dist/cdn/esm.js\";\n",
       "    render(\n",
       "      \"circuits-vis-a8d31681-6ec2\",\n",
       "      ColoredTokens,\n",
       "      {\"tokens\": [\"options\", \":\", \" Marie\", \" Cur\", \"ie\", \",\", \" Albert\", \" Einstein\", \",\", \" Gro\", \"ver\", \" Cleveland\", \",\", \" Charles\", \" Darwin\", \",\", \" Nikola\", \" Tesla\", \",\", \" Iss\", \"ac\", \" Newton\", \"\\n\", \"Which\", \" of\", \" these\", \" people\", \" is\", \" not\", \" a\", \" scientist\", \"?\\n\", \"Answer\", \":\"], \"values\": [0.01202392578125, 0.0019989013671875, 0.00177001953125, 0.005889892578125, 0.0126953125, 0.01129150390625, 0.00115966796875, 0.002349853515625, 0.002197265625, 0.11865234375, 0.1572265625, 0.2080078125, 0.031982421875, 0.0024566650390625, 0.00213623046875, 0.003997802734375, 0.00016689300537109375, 0.0015411376953125, 0.00341796875, 0.000850677490234375, 0.0003223419189453125, 0.00038909912109375, 0.00457763671875, 0.000453948974609375, 0.00164031982421875, 0.00072479248046875, 0.00213623046875, 0.0012969970703125, 0.000621795654296875, 0.00125885009765625, 0.00072479248046875, 0.031982421875, 0.0004405975341796875, 0.01300048828125]}\n",
       "    )\n",
       "    </script>"
      ],
      "text/plain": [
       "<circuitsvis.utils.render.RenderedHTML at 0x7fa4e0217d90>"
      ]
     },
     "metadata": {},
     "output_type": "display_data"
    },
    {
     "data": {
      "text/plain": [
       "[PredictedToken(token=' Gro', prob=0.9765625, logit=21.875, token_id=18370, metadata=None),\n",
       " PredictedToken(token=' #', prob=0.003997802734375, logit=16.375, token_id=674, metadata=None),\n",
       " PredictedToken(token=' The', prob=0.0027313232421875, logit=16.0, token_id=578, metadata=None),\n",
       " PredictedToken(token='Gro', prob=0.00177001953125, logit=15.5625, token_id=77435, metadata=None),\n",
       " PredictedToken(token=' President', prob=0.001556396484375, logit=15.4375, token_id=4900, metadata=None)]"
      ]
     },
     "execution_count": 32,
     "metadata": {},
     "output_type": "execute_result"
    }
   ],
   "source": [
    "options = [\"Marie Curie\", \"Albert Einstein\", \"Grover Cleveland\", \"Charles Darwin\", \"Nikola Tesla\", \"Issac Newton\"]\n",
    "# prompt_template = \"\"\"Which of these people is not a scientist?\n",
    "# options: {}\n",
    "# Answer:\"\"\"\n",
    "# prompt = prompt_template.format(\n",
    "#     \", \".join(options)\n",
    "# )\n",
    "# print(prompt)\n",
    "\n",
    "prompt_template = \"\"\"options: {}\n",
    "Which of these people is not a scientist?\n",
    "Answer:\"\"\"\n",
    "prompt = prompt_template.format(\n",
    "    \", \".join(options)\n",
    ")\n",
    "print(prompt)\n",
    "\n",
    "verify = verify_head_patterns(\n",
    "    prompt=prompt,\n",
    "    options=options,\n",
    "    pivot=\"scientist\",\n",
    "    mt=mt,\n",
    "    value_weighted=False,\n",
    "    generate_full_answer=True,\n",
    ")\n",
    "verify[\"predictions\"]"
   ]
  },
  {
   "cell_type": "code",
   "execution_count": 33,
   "id": "9d6764ef",
   "metadata": {},
   "outputs": [
    {
     "name": "stdout",
     "output_type": "stream",
     "text": [
      "2025-08-01 14:44:17 __main__ DEBUG    Marie Curie | opt_range=(3, 6) | bare_opt_range=(4, 7) | \" Marie Curie\"\n"
     ]
    },
    {
     "name": "stdout",
     "output_type": "stream",
     "text": [
      "2025-08-01 14:44:17 __main__ DEBUG    Albert Einstein | opt_range=(7, 9) | bare_opt_range=(4, 6) | \" Albert Einstein\"\n",
      "2025-08-01 14:44:17 __main__ DEBUG    Grover Cleveland | opt_range=(10, 13) | bare_opt_range=(4, 7) | \" Grover Cleveland\"\n",
      "2025-08-01 14:44:17 __main__ DEBUG    Charles Darwin | opt_range=(14, 16) | bare_opt_range=(4, 6) | \" Charles Darwin\"\n",
      "2025-08-01 14:44:17 __main__ DEBUG    Nikola Tesla | opt_range=(17, 19) | bare_opt_range=(4, 6) | \" Nikola Tesla\"\n",
      "2025-08-01 14:44:17 __main__ DEBUG    Issac Newton | opt_range=(20, 23) | bare_opt_range=(4, 7) | \" Issac Newton\"\n",
      "2025-08-01 14:44:23 __main__ DEBUG    Predictions: ['\" Gro\"[18370] (p=0.973, logit=21.875)', '\" #\"[674] (p=0.005, logit=16.500)', '\" The\"[578] (p=0.003, logit=16.000)', '\" President\"[4900] (p=0.002, logit=15.562)', '\" \"[220] (p=0.002, logit=15.500)']\n",
      "layer=35\n"
     ]
    },
    {
     "data": {
      "text/html": [
       "<div id=\"circuits-vis-4d3354e2-d1d9\" style=\"margin: 15px 0;\"/>\n",
       "    <script crossorigin type=\"module\">\n",
       "    import { render, ColoredTokens } from \"https://unpkg.com/circuitsvis@1.43.3/dist/cdn/esm.js\";\n",
       "    render(\n",
       "      \"circuits-vis-4d3354e2-d1d9\",\n",
       "      ColoredTokens,\n",
       "      {\"tokens\": [\"options\", \":\", \" Marie\", \" Cur\", \"ie\", \",\", \" Albert\", \" Einstein\", \",\", \" Gro\", \"ver\", \" Cleveland\", \",\", \" Charles\", \" Darwin\", \",\", \" Nikola\", \" Tesla\", \",\", \" Iss\", \"ac\", \" Newton\", \"\\n\", \"Which\", \" of\", \" these\", \" people\", \" is\", \" not\", \" a\", \" scientist\", \"?\\n\", \"Answer\", \":\"], \"values\": [0.021296381950378418, 0.001756317913532257, 0.0029095709323883057, 0.003925442695617676, 0.003953173756599426, 0.017922639846801758, 0.008526958525180817, 0.010988064110279083, 0.013483285903930664, 0.0033725928515195847, 0.002747759222984314, 0.053859204053878784, 0.046006590127944946, 0.006049744784832001, 0.009258925914764404, 0.013477258384227753, 0.0031808242201805115, 0.005724057555198669, 0.007240965962409973, 0.002768866717815399, 0.005574911832809448, 0.006894141435623169, 0.02311345934867859, 0.007444456219673157, 0.0033483467996120453, 0.012184128165245056, 0.009806931018829346, 0.00394786149263382, 0.006712183356285095, 0.003144986927509308, 0.016191944479942322, 0.019483327865600586, 0.01844416931271553, 0.027770578861236572]}\n",
       "    )\n",
       "    </script>"
      ],
      "text/plain": [
       "<circuitsvis.utils.render.RenderedHTML at 0x7fa567978250>"
      ]
     },
     "metadata": {},
     "output_type": "display_data"
    },
    {
     "name": "stdout",
     "output_type": "stream",
     "text": [
      "--------------------------------------------------------------------------------\n",
      "layer=47\n"
     ]
    },
    {
     "data": {
      "text/html": [
       "<div id=\"circuits-vis-a5a41172-571c\" style=\"margin: 15px 0;\"/>\n",
       "    <script crossorigin type=\"module\">\n",
       "    import { render, ColoredTokens } from \"https://unpkg.com/circuitsvis@1.43.3/dist/cdn/esm.js\";\n",
       "    render(\n",
       "      \"circuits-vis-a5a41172-571c\",\n",
       "      ColoredTokens,\n",
       "      {\"tokens\": [\"options\", \":\", \" Marie\", \" Cur\", \"ie\", \",\", \" Albert\", \" Einstein\", \",\", \" Gro\", \"ver\", \" Cleveland\", \",\", \" Charles\", \" Darwin\", \",\", \" Nikola\", \" Tesla\", \",\", \" Iss\", \"ac\", \" Newton\", \"\\n\", \"Which\", \" of\", \" these\", \" people\", \" is\", \" not\", \" a\", \" scientist\", \"?\\n\", \"Answer\", \":\"], \"values\": [0.002331394702196121, 0.0007770862430334091, 0.0011633634567260742, 0.0008354596793651581, 0.0008770115673542023, 0.0014920029789209366, 0.0005748821422457695, 0.0006318148225545883, 0.0006522685289382935, 0.00402446836233139, 0.013890780508518219, 0.004955373704433441, 0.005788642913103104, 0.000848524272441864, 0.0006635710597038269, 0.0006390362977981567, 0.0003036046400666237, 0.000553937628865242, 0.00047198450192809105, 0.000500035472214222, 0.0006376812234520912, 0.0004646517336368561, 0.002400904893875122, 0.0011712685227394104, 0.0009824298322200775, 0.0006286241114139557, 0.0009348317980766296, 0.0005431529134511948, 0.00058789923787117, 0.00047548674046993256, 0.0016710758209228516, 0.0051469504833221436, 0.007485523819923401, 0.0030879825353622437]}\n",
       "    )\n",
       "    </script>"
      ],
      "text/plain": [
       "<circuitsvis.utils.render.RenderedHTML at 0x7fa4e021cb50>"
      ]
     },
     "metadata": {},
     "output_type": "display_data"
    },
    {
     "name": "stdout",
     "output_type": "stream",
     "text": [
      "--------------------------------------------------------------------------------\n",
      "layer=52\n"
     ]
    },
    {
     "data": {
      "text/html": [
       "<div id=\"circuits-vis-1921a51b-1485\" style=\"margin: 15px 0;\"/>\n",
       "    <script crossorigin type=\"module\">\n",
       "    import { render, ColoredTokens } from \"https://unpkg.com/circuitsvis@1.43.3/dist/cdn/esm.js\";\n",
       "    render(\n",
       "      \"circuits-vis-1921a51b-1485\",\n",
       "      ColoredTokens,\n",
       "      {\"tokens\": [\"options\", \":\", \" Marie\", \" Cur\", \"ie\", \",\", \" Albert\", \" Einstein\", \",\", \" Gro\", \"ver\", \" Cleveland\", \",\", \" Charles\", \" Darwin\", \",\", \" Nikola\", \" Tesla\", \",\", \" Iss\", \"ac\", \" Newton\", \"\\n\", \"Which\", \" of\", \" these\", \" people\", \" is\", \" not\", \" a\", \" scientist\", \"?\\n\", \"Answer\", \":\"], \"values\": [0.004824995994567871, 0.0031495317816734314, 0.003390759229660034, 0.0012994073331356049, 0.0011648684740066528, 0.0042219869792461395, 0.001883428543806076, 0.0009961994364857674, 0.001446431502699852, 0.028936557471752167, 0.017255913466215134, 0.0049963463097810745, 0.005248304456472397, 0.002029960975050926, 0.000941077247262001, 0.0013068225234746933, 0.001089625060558319, 0.0007626077858731151, 0.0010484475642442703, 0.0012164749205112457, 0.0013670194894075394, 0.0008238529553636909, 0.007225453853607178, 0.003456614911556244, 0.0016742944717407227, 0.0015113838016986847, 0.0016390122473239899, 0.0011482425034046173, 0.002216104418039322, 0.001227542757987976, 0.002708105370402336, 0.01510019600391388, 0.013945560902357101, 0.017189860343933105]}\n",
       "    )\n",
       "    </script>"
      ],
      "text/plain": [
       "<circuitsvis.utils.render.RenderedHTML at 0x7fa540178350>"
      ]
     },
     "metadata": {},
     "output_type": "display_data"
    },
    {
     "name": "stdout",
     "output_type": "stream",
     "text": [
      "--------------------------------------------------------------------------------\n",
      "======================================================================\n",
      "2025-08-01 14:44:23 __main__ INFO     Layer: 33, Head: 45\n"
     ]
    },
    {
     "data": {
      "text/html": [
       "<div id=\"circuits-vis-0e477555-735d\" style=\"margin: 15px 0;\"/>\n",
       "    <script crossorigin type=\"module\">\n",
       "    import { render, ColoredTokens } from \"https://unpkg.com/circuitsvis@1.43.3/dist/cdn/esm.js\";\n",
       "    render(\n",
       "      \"circuits-vis-0e477555-735d\",\n",
       "      ColoredTokens,\n",
       "      {\"tokens\": [\"options\", \":\", \" Marie\", \" Cur\", \"ie\", \",\", \" Albert\", \" Einstein\", \",\", \" Gro\", \"ver\", \" Cleveland\", \",\", \" Charles\", \" Darwin\", \",\", \" Nikola\", \" Tesla\", \",\", \" Iss\", \"ac\", \" Newton\", \"\\n\", \"Which\", \" of\", \" these\", \" people\", \" is\", \" not\", \" a\", \" scientist\", \"?\\n\", \"Answer\", \":\"], \"values\": [0.0167236328125, 0.0030517578125, 0.0086669921875, 0.01251220703125, 0.0040283203125, 0.007110595703125, 0.006622314453125, 0.00958251953125, 0.0098876953125, 0.0045166015625, 0.02001953125, 0.388671875, 0.171875, 0.00579833984375, 0.003936767578125, 0.002166748046875, 0.001251220703125, 0.00191497802734375, 0.00133514404296875, 0.0022430419921875, 0.00787353515625, 0.003204345703125, 0.006072998046875, 0.0016326904296875, 0.0037384033203125, 0.00457763671875, 0.004119873046875, 0.0020294189453125, 0.004974365234375, 0.00035858154296875, 0.0010223388671875, 0.052490234375, 0.00103759765625, 0.02880859375]}\n",
       "    )\n",
       "    </script>"
      ],
      "text/plain": [
       "<circuitsvis.utils.render.RenderedHTML at 0x7fa4c02cdf90>"
      ]
     },
     "metadata": {},
     "output_type": "display_data"
    },
    {
     "name": "stdout",
     "output_type": "stream",
     "text": [
      "2025-08-01 14:44:23 __main__ INFO     Layer: 33, Head: 18\n"
     ]
    },
    {
     "data": {
      "text/html": [
       "<div id=\"circuits-vis-e99f54e6-4b6b\" style=\"margin: 15px 0;\"/>\n",
       "    <script crossorigin type=\"module\">\n",
       "    import { render, ColoredTokens } from \"https://unpkg.com/circuitsvis@1.43.3/dist/cdn/esm.js\";\n",
       "    render(\n",
       "      \"circuits-vis-e99f54e6-4b6b\",\n",
       "      ColoredTokens,\n",
       "      {\"tokens\": [\"options\", \":\", \" Marie\", \" Cur\", \"ie\", \",\", \" Albert\", \" Einstein\", \",\", \" Gro\", \"ver\", \" Cleveland\", \",\", \" Charles\", \" Darwin\", \",\", \" Nikola\", \" Tesla\", \",\", \" Iss\", \"ac\", \" Newton\", \"\\n\", \"Which\", \" of\", \" these\", \" people\", \" is\", \" not\", \" a\", \" scientist\", \"?\\n\", \"Answer\", \":\"], \"values\": [0.02099609375, 0.000446319580078125, 0.01251220703125, 0.0205078125, 0.02685546875, 0.0174560546875, 0.0235595703125, 0.0137939453125, 0.017578125, 0.0031585693359375, 0.0052490234375, 0.341796875, 0.20703125, 0.06396484375, 0.01708984375, 0.006195068359375, 0.001678466796875, 0.002349853515625, 0.001556396484375, 0.00604248046875, 0.0130615234375, 0.006256103515625, 0.0019989013671875, 0.00084686279296875, 0.000274658203125, 0.000782012939453125, 0.0040283203125, 0.0003108978271484375, 0.000316619873046875, 0.002899169921875, 0.0030975341796875, 0.00122833251953125, 0.000370025634765625, 0.004180908203125]}\n",
       "    )\n",
       "    </script>"
      ],
      "text/plain": [
       "<circuitsvis.utils.render.RenderedHTML at 0x7fa4c02cdf90>"
      ]
     },
     "metadata": {},
     "output_type": "display_data"
    },
    {
     "name": "stdout",
     "output_type": "stream",
     "text": [
      "2025-08-01 14:44:24 __main__ INFO     Layer: 34, Head: 1\n"
     ]
    },
    {
     "data": {
      "text/html": [
       "<div id=\"circuits-vis-7fa6c6cb-0dc6\" style=\"margin: 15px 0;\"/>\n",
       "    <script crossorigin type=\"module\">\n",
       "    import { render, ColoredTokens } from \"https://unpkg.com/circuitsvis@1.43.3/dist/cdn/esm.js\";\n",
       "    render(\n",
       "      \"circuits-vis-7fa6c6cb-0dc6\",\n",
       "      ColoredTokens,\n",
       "      {\"tokens\": [\"options\", \":\", \" Marie\", \" Cur\", \"ie\", \",\", \" Albert\", \" Einstein\", \",\", \" Gro\", \"ver\", \" Cleveland\", \",\", \" Charles\", \" Darwin\", \",\", \" Nikola\", \" Tesla\", \",\", \" Iss\", \"ac\", \" Newton\", \"\\n\", \"Which\", \" of\", \" these\", \" people\", \" is\", \" not\", \" a\", \" scientist\", \"?\\n\", \"Answer\", \":\"], \"values\": [0.009033203125, 0.0002689361572265625, 0.00054931640625, 2.968311309814453e-05, 6.4849853515625e-05, 0.00135040283203125, 6.914138793945312e-05, 2.1696090698242188e-05, 0.00015735626220703125, 0.000354766845703125, 0.00089263916015625, 0.67578125, 0.2021484375, 0.00122833251953125, 7.510185241699219e-06, 0.0002899169921875, 1.6242265701293945e-06, 2.9355287551879883e-06, 0.00012874603271484375, 0.000247955322265625, 4.887580871582031e-05, 2.2202730178833008e-06, 0.001007080078125, 0.00058746337890625, 0.0010833740234375, 0.00054931640625, 0.0003910064697265625, 0.0002593994140625, 0.00043487548828125, 6.22868537902832e-06, 6.742775440216064e-07, 0.00179290771484375, 0.00019073486328125, 0.015625]}\n",
       "    )\n",
       "    </script>"
      ],
      "text/plain": [
       "<circuitsvis.utils.render.RenderedHTML at 0x7fa4e042c150>"
      ]
     },
     "metadata": {},
     "output_type": "display_data"
    },
    {
     "name": "stdout",
     "output_type": "stream",
     "text": [
      "2025-08-01 14:44:24 __main__ INFO     Layer: 34, Head: 6\n"
     ]
    },
    {
     "data": {
      "text/html": [
       "<div id=\"circuits-vis-b9f3418e-f38d\" style=\"margin: 15px 0;\"/>\n",
       "    <script crossorigin type=\"module\">\n",
       "    import { render, ColoredTokens } from \"https://unpkg.com/circuitsvis@1.43.3/dist/cdn/esm.js\";\n",
       "    render(\n",
       "      \"circuits-vis-b9f3418e-f38d\",\n",
       "      ColoredTokens,\n",
       "      {\"tokens\": [\"options\", \":\", \" Marie\", \" Cur\", \"ie\", \",\", \" Albert\", \" Einstein\", \",\", \" Gro\", \"ver\", \" Cleveland\", \",\", \" Charles\", \" Darwin\", \",\", \" Nikola\", \" Tesla\", \",\", \" Iss\", \"ac\", \" Newton\", \"\\n\", \"Which\", \" of\", \" these\", \" people\", \" is\", \" not\", \" a\", \" scientist\", \"?\\n\", \"Answer\", \":\"], \"values\": [0.01300048828125, 0.0010223388671875, 0.0016937255859375, 0.0003414154052734375, 0.0002460479736328125, 0.003570556640625, 0.0002574920654296875, 6.031990051269531e-05, 0.0004253387451171875, 0.0005645751953125, 0.00153350830078125, 0.7578125, 0.1005859375, 0.00157928466796875, 1.6689300537109375e-05, 0.0002346038818359375, 2.1904706954956055e-06, 4.351139068603516e-06, 9.059906005859375e-05, 0.0002880096435546875, 3.886222839355469e-05, 4.947185516357422e-06, 0.00061798095703125, 0.00147247314453125, 0.00421142578125, 0.000804901123046875, 0.000553131103515625, 0.0004673004150390625, 0.000530242919921875, 3.0279159545898438e-05, 5.27501106262207e-06, 0.00164031982421875, 0.00030517578125, 0.01416015625]}\n",
       "    )\n",
       "    </script>"
      ],
      "text/plain": [
       "<circuitsvis.utils.render.RenderedHTML at 0x7fa4c0158250>"
      ]
     },
     "metadata": {},
     "output_type": "display_data"
    },
    {
     "name": "stdout",
     "output_type": "stream",
     "text": [
      "2025-08-01 14:44:24 __main__ INFO     Layer: 34, Head: 7\n"
     ]
    },
    {
     "data": {
      "text/html": [
       "<div id=\"circuits-vis-555c88a9-8d18\" style=\"margin: 15px 0;\"/>\n",
       "    <script crossorigin type=\"module\">\n",
       "    import { render, ColoredTokens } from \"https://unpkg.com/circuitsvis@1.43.3/dist/cdn/esm.js\";\n",
       "    render(\n",
       "      \"circuits-vis-555c88a9-8d18\",\n",
       "      ColoredTokens,\n",
       "      {\"tokens\": [\"options\", \":\", \" Marie\", \" Cur\", \"ie\", \",\", \" Albert\", \" Einstein\", \",\", \" Gro\", \"ver\", \" Cleveland\", \",\", \" Charles\", \" Darwin\", \",\", \" Nikola\", \" Tesla\", \",\", \" Iss\", \"ac\", \" Newton\", \"\\n\", \"Which\", \" of\", \" these\", \" people\", \" is\", \" not\", \" a\", \" scientist\", \"?\\n\", \"Answer\", \":\"], \"values\": [0.033203125, 0.00023174285888671875, 0.002197265625, 0.000782012939453125, 0.000522613525390625, 0.0048828125, 0.0015106201171875, 0.000972747802734375, 0.0019073486328125, 0.00083160400390625, 0.0019073486328125, 0.19140625, 0.154296875, 0.004425048828125, 0.000522613525390625, 0.002960205078125, 0.00018024444580078125, 0.00035858154296875, 0.0029144287109375, 0.00160980224609375, 0.001190185546875, 0.0007476806640625, 0.00970458984375, 0.0081787109375, 0.01080322265625, 0.025390625, 0.0084228515625, 0.005401611328125, 0.006256103515625, 0.000972747802734375, 0.000629425048828125, 0.039306640625, 0.003509521484375, 0.1357421875]}\n",
       "    )\n",
       "    </script>"
      ],
      "text/plain": [
       "<circuitsvis.utils.render.RenderedHTML at 0x7fa4a032d390>"
      ]
     },
     "metadata": {},
     "output_type": "display_data"
    },
    {
     "name": "stdout",
     "output_type": "stream",
     "text": [
      "2025-08-01 14:44:24 __main__ INFO     Layer: 35, Head: 19\n"
     ]
    },
    {
     "data": {
      "text/html": [
       "<div id=\"circuits-vis-be0ba0cf-34c8\" style=\"margin: 15px 0;\"/>\n",
       "    <script crossorigin type=\"module\">\n",
       "    import { render, ColoredTokens } from \"https://unpkg.com/circuitsvis@1.43.3/dist/cdn/esm.js\";\n",
       "    render(\n",
       "      \"circuits-vis-be0ba0cf-34c8\",\n",
       "      ColoredTokens,\n",
       "      {\"tokens\": [\"options\", \":\", \" Marie\", \" Cur\", \"ie\", \",\", \" Albert\", \" Einstein\", \",\", \" Gro\", \"ver\", \" Cleveland\", \",\", \" Charles\", \" Darwin\", \",\", \" Nikola\", \" Tesla\", \",\", \" Iss\", \"ac\", \" Newton\", \"\\n\", \"Which\", \" of\", \" these\", \" people\", \" is\", \" not\", \" a\", \" scientist\", \"?\\n\", \"Answer\", \":\"], \"values\": [0.0027008056640625, 6.914138793945312e-05, 0.0013885498046875, 0.001556396484375, 0.0025482177734375, 0.0033416748046875, 0.0034332275390625, 0.0084228515625, 0.003265380859375, 0.00146484375, 0.0081787109375, 0.6875, 0.1904296875, 0.00677490234375, 0.00982666015625, 0.0078125, 0.000507354736328125, 0.00421142578125, 0.00177764892578125, 0.0003509521484375, 0.00189971923828125, 0.00193023681640625, 0.0002536773681640625, 0.00010395050048828125, 3.314018249511719e-05, 0.00020694732666015625, 0.0004520416259765625, 5.4836273193359375e-05, 0.00016307830810546875, 0.000110626220703125, 3.314018249511719e-05, 0.000286102294921875, 4.124641418457031e-05, 0.00107574462890625]}\n",
       "    )\n",
       "    </script>"
      ],
      "text/plain": [
       "<circuitsvis.utils.render.RenderedHTML at 0x7fa4c0158250>"
      ]
     },
     "metadata": {},
     "output_type": "display_data"
    },
    {
     "name": "stdout",
     "output_type": "stream",
     "text": [
      "2025-08-01 14:44:24 __main__ INFO     Layer: 39, Head: 40\n"
     ]
    },
    {
     "data": {
      "text/html": [
       "<div id=\"circuits-vis-39750593-3c72\" style=\"margin: 15px 0;\"/>\n",
       "    <script crossorigin type=\"module\">\n",
       "    import { render, ColoredTokens } from \"https://unpkg.com/circuitsvis@1.43.3/dist/cdn/esm.js\";\n",
       "    render(\n",
       "      \"circuits-vis-39750593-3c72\",\n",
       "      ColoredTokens,\n",
       "      {\"tokens\": [\"options\", \":\", \" Marie\", \" Cur\", \"ie\", \",\", \" Albert\", \" Einstein\", \",\", \" Gro\", \"ver\", \" Cleveland\", \",\", \" Charles\", \" Darwin\", \",\", \" Nikola\", \" Tesla\", \",\", \" Iss\", \"ac\", \" Newton\", \"\\n\", \"Which\", \" of\", \" these\", \" people\", \" is\", \" not\", \" a\", \" scientist\", \"?\\n\", \"Answer\", \":\"], \"values\": [0.0224609375, 0.003662109375, 0.01043701171875, 0.0012054443359375, 0.00897216796875, 0.080078125, 0.010498046875, 0.00372314453125, 0.0198974609375, 0.007568359375, 0.0146484375, 0.3203125, 0.2060546875, 0.014404296875, 0.004058837890625, 0.0299072265625, 0.00135040283203125, 0.0023956298828125, 0.024658203125, 0.0017547607421875, 0.0033416748046875, 0.000732421875, 0.006378173828125, 0.00164794921875, 0.000637054443359375, 0.000782012939453125, 0.0012664794921875, 0.0019683837890625, 0.00162506103515625, 0.001068115234375, 0.000766754150390625, 0.0166015625, 0.004241943359375, 0.037841796875]}\n",
       "    )\n",
       "    </script>"
      ],
      "text/plain": [
       "<circuitsvis.utils.render.RenderedHTML at 0x7fa4a0115390>"
      ]
     },
     "metadata": {},
     "output_type": "display_data"
    },
    {
     "name": "stdout",
     "output_type": "stream",
     "text": [
      "2025-08-01 14:44:24 __main__ INFO     Layer: 42, Head: 30\n"
     ]
    },
    {
     "data": {
      "text/html": [
       "<div id=\"circuits-vis-9884eb30-408d\" style=\"margin: 15px 0;\"/>\n",
       "    <script crossorigin type=\"module\">\n",
       "    import { render, ColoredTokens } from \"https://unpkg.com/circuitsvis@1.43.3/dist/cdn/esm.js\";\n",
       "    render(\n",
       "      \"circuits-vis-9884eb30-408d\",\n",
       "      ColoredTokens,\n",
       "      {\"tokens\": [\"options\", \":\", \" Marie\", \" Cur\", \"ie\", \",\", \" Albert\", \" Einstein\", \",\", \" Gro\", \"ver\", \" Cleveland\", \",\", \" Charles\", \" Darwin\", \",\", \" Nikola\", \" Tesla\", \",\", \" Iss\", \"ac\", \" Newton\", \"\\n\", \"Which\", \" of\", \" these\", \" people\", \" is\", \" not\", \" a\", \" scientist\", \"?\\n\", \"Answer\", \":\"], \"values\": [0.00701904296875, 0.003753662109375, 0.006591796875, 0.0081787109375, 0.0146484375, 0.014404296875, 0.005126953125, 0.007232666015625, 0.005462646484375, 0.00946044921875, 0.02001953125, 0.27734375, 0.036865234375, 0.01104736328125, 0.01373291015625, 0.00958251953125, 0.001953125, 0.00701904296875, 0.005218505859375, 0.0024261474609375, 0.00201416015625, 0.0025787353515625, 0.00885009765625, 0.00125885009765625, 0.000652313232421875, 0.00201416015625, 0.00151824951171875, 0.000865936279296875, 0.00201416015625, 0.00171661376953125, 0.00274658203125, 0.00482177734375, 0.00107574462890625, 0.00885009765625]}\n",
       "    )\n",
       "    </script>"
      ],
      "text/plain": [
       "<circuitsvis.utils.render.RenderedHTML at 0x7fa4c04da0d0>"
      ]
     },
     "metadata": {},
     "output_type": "display_data"
    },
    {
     "name": "stdout",
     "output_type": "stream",
     "text": [
      "2025-08-01 14:44:24 __main__ INFO     Layer: 47, Head: 18\n"
     ]
    },
    {
     "data": {
      "text/html": [
       "<div id=\"circuits-vis-b48b60da-83a0\" style=\"margin: 15px 0;\"/>\n",
       "    <script crossorigin type=\"module\">\n",
       "    import { render, ColoredTokens } from \"https://unpkg.com/circuitsvis@1.43.3/dist/cdn/esm.js\";\n",
       "    render(\n",
       "      \"circuits-vis-b48b60da-83a0\",\n",
       "      ColoredTokens,\n",
       "      {\"tokens\": [\"options\", \":\", \" Marie\", \" Cur\", \"ie\", \",\", \" Albert\", \" Einstein\", \",\", \" Gro\", \"ver\", \" Cleveland\", \",\", \" Charles\", \" Darwin\", \",\", \" Nikola\", \" Tesla\", \",\", \" Iss\", \"ac\", \" Newton\", \"\\n\", \"Which\", \" of\", \" these\", \" people\", \" is\", \" not\", \" a\", \" scientist\", \"?\\n\", \"Answer\", \":\"], \"values\": [0.00946044921875, 0.00164031982421875, 0.002349853515625, 0.00063323974609375, 0.0033721923828125, 0.016845703125, 0.000339508056640625, 0.00016021728515625, 0.00927734375, 0.11669921875, 0.20703125, 0.11376953125, 0.1826171875, 0.00433349609375, 0.00014591217041015625, 0.009765625, 0.00010347366333007812, 0.00014591217041015625, 0.006591796875, 0.000507354736328125, 0.0001926422119140625, 6.079673767089844e-05, 0.007354736328125, 0.00274658203125, 0.0011138916015625, 0.00131988525390625, 0.004180908203125, 0.002471923828125, 0.00118255615234375, 0.0026702880859375, 0.0007171630859375, 0.01507568359375, 0.000232696533203125, 0.0218505859375]}\n",
       "    )\n",
       "    </script>"
      ],
      "text/plain": [
       "<circuitsvis.utils.render.RenderedHTML at 0x7fa5679b0310>"
      ]
     },
     "metadata": {},
     "output_type": "display_data"
    },
    {
     "name": "stdout",
     "output_type": "stream",
     "text": [
      "2025-08-01 14:44:25 __main__ INFO     Layer: 52, Head: 58\n"
     ]
    },
    {
     "data": {
      "text/html": [
       "<div id=\"circuits-vis-5ad74b11-229b\" style=\"margin: 15px 0;\"/>\n",
       "    <script crossorigin type=\"module\">\n",
       "    import { render, ColoredTokens } from \"https://unpkg.com/circuitsvis@1.43.3/dist/cdn/esm.js\";\n",
       "    render(\n",
       "      \"circuits-vis-5ad74b11-229b\",\n",
       "      ColoredTokens,\n",
       "      {\"tokens\": [\"options\", \":\", \" Marie\", \" Cur\", \"ie\", \",\", \" Albert\", \" Einstein\", \",\", \" Gro\", \"ver\", \" Cleveland\", \",\", \" Charles\", \" Darwin\", \",\", \" Nikola\", \" Tesla\", \",\", \" Iss\", \"ac\", \" Newton\", \"\\n\", \"Which\", \" of\", \" these\", \" people\", \" is\", \" not\", \" a\", \" scientist\", \"?\\n\", \"Answer\", \":\"], \"values\": [0.01171875, 0.0020751953125, 0.0012969970703125, 0.005828857421875, 0.00958251953125, 0.0164794921875, 0.0009918212890625, 0.0016937255859375, 0.0024566650390625, 0.12255859375, 0.1669921875, 0.1943359375, 0.037109375, 0.003021240234375, 0.0020751953125, 0.003936767578125, 0.00015735626220703125, 0.001129150390625, 0.003692626953125, 0.000934600830078125, 0.0003032684326171875, 0.00031280517578125, 0.004608154296875, 0.000484466552734375, 0.00188446044921875, 0.000705718994140625, 0.00201416015625, 0.0013580322265625, 0.000621795654296875, 0.001220703125, 0.000682830810546875, 0.03515625, 0.000499725341796875, 0.01416015625]}\n",
       "    )\n",
       "    </script>"
      ],
      "text/plain": [
       "<circuitsvis.utils.render.RenderedHTML at 0x7fa5679b0310>"
      ]
     },
     "metadata": {},
     "output_type": "display_data"
    },
    {
     "data": {
      "text/plain": [
       "[PredictedToken(token=' Gro', prob=0.97265625, logit=21.875, token_id=18370, metadata=None),\n",
       " PredictedToken(token=' #', prob=0.0045166015625, logit=16.5, token_id=674, metadata=None),\n",
       " PredictedToken(token=' The', prob=0.0027313232421875, logit=16.0, token_id=578, metadata=None),\n",
       " PredictedToken(token=' President', prob=0.00176239013671875, logit=15.5625, token_id=4900, metadata=None),\n",
       " PredictedToken(token=' ', prob=0.00165557861328125, logit=15.5, token_id=220, metadata=None)]"
      ]
     },
     "execution_count": 33,
     "metadata": {},
     "output_type": "execute_result"
    }
   ],
   "source": [
    "verify_ind = verify_head_patterns(\n",
    "    prompt=prompt,\n",
    "    options=options,\n",
    "    pivot=\"scientist\",\n",
    "    mt=mt,\n",
    "    value_weighted=False,\n",
    "    generate_full_answer=False,\n",
    "    ablate_possible_ans_info_from_options=True,\n",
    ")\n",
    "verify_ind[\"predictions\"]"
   ]
  },
  {
   "cell_type": "code",
   "execution_count": 35,
   "id": "027d93d2",
   "metadata": {},
   "outputs": [
    {
     "name": "stdout",
     "output_type": "stream",
     "text": [
      "Which of these people is a politician or a scientist?\n",
      "options: Michael Jordan, Serena Williams, Nikki Haley, Mike Tyson, Carl Sagan, Tom Cruise\n",
      "Answer:\n",
      "2025-08-01 14:45:30 __main__ DEBUG    Generated full answer: \" Nikki Haley, Carl Sagan\n",
      "Nikki Haley is a politician who served as the 29th United States Ambassador to the United Nations from 201\"\n",
      "2025-08-01 14:45:30 __main__ DEBUG    Predictions: ['\" Nikki\"[70207] (p=0.867, logit=20.750)', '\" Carl\"[22770] (p=0.049, logit=17.875)', '\" The\"[578] (p=0.016, logit=16.750)', '\" Polit\"[16307] (p=0.006, logit=15.750)', '\" \"[220] (p=0.005, logit=15.688)']\n",
      "layer=35\n"
     ]
    },
    {
     "data": {
      "text/html": [
       "<div id=\"circuits-vis-48c6afce-01bc\" style=\"margin: 15px 0;\"/>\n",
       "    <script crossorigin type=\"module\">\n",
       "    import { render, ColoredTokens } from \"https://unpkg.com/circuitsvis@1.43.3/dist/cdn/esm.js\";\n",
       "    render(\n",
       "      \"circuits-vis-48c6afce-01bc\",\n",
       "      ColoredTokens,\n",
       "      {\"tokens\": [\"Which\", \" of\", \" these\", \" people\", \" is\", \" a\", \" politician\", \" or\", \" a\", \" scientist\", \"?\\n\", \"options\", \":\", \" Michael\", \" Jordan\", \",\", \" Serena\", \" Williams\", \",\", \" Nikki\", \" Haley\", \",\", \" Mike\", \" Tyson\", \",\", \" Carl\", \" S\", \"agan\", \",\", \" Tom\", \" Cruise\", \"\\n\", \"Answer\", \":\"], \"values\": [0.0282517671585083, 0.007576018571853638, 0.004989944398403168, 0.012271001935005188, 0.008401129394769669, 0.005166549235582352, 0.011771172285079956, 0.010653555393218994, 0.0036228392273187637, 0.02146989107131958, 0.029873371124267578, 0.005128398537635803, 0.006105147302150726, 0.007487550377845764, 0.00985252857208252, 0.01812797784805298, 0.006251484155654907, 0.009576261043548584, 0.010745741426944733, 0.003719460219144821, 0.025342881679534912, 0.04044240713119507, 0.0023303013294935226, 0.005908936262130737, 0.009122133255004883, 0.00505981408059597, 0.010017961263656616, 0.025021471083164215, 0.029103100299835205, 0.0016216114163398743, 0.005595244467258453, 0.027030229568481445, 0.016764316707849503, 0.04170644283294678]}\n",
       "    )\n",
       "    </script>"
      ],
      "text/plain": [
       "<circuitsvis.utils.render.RenderedHTML at 0x7fa4c0135b10>"
      ]
     },
     "metadata": {},
     "output_type": "display_data"
    },
    {
     "name": "stdout",
     "output_type": "stream",
     "text": [
      "--------------------------------------------------------------------------------\n",
      "layer=47\n"
     ]
    },
    {
     "data": {
      "text/html": [
       "<div id=\"circuits-vis-69ae2c3f-8daf\" style=\"margin: 15px 0;\"/>\n",
       "    <script crossorigin type=\"module\">\n",
       "    import { render, ColoredTokens } from \"https://unpkg.com/circuitsvis@1.43.3/dist/cdn/esm.js\";\n",
       "    render(\n",
       "      \"circuits-vis-69ae2c3f-8daf\",\n",
       "      ColoredTokens,\n",
       "      {\"tokens\": [\"Which\", \" of\", \" these\", \" people\", \" is\", \" a\", \" politician\", \" or\", \" a\", \" scientist\", \"?\\n\", \"options\", \":\", \" Michael\", \" Jordan\", \",\", \" Serena\", \" Williams\", \",\", \" Nikki\", \" Haley\", \",\", \" Mike\", \" Tyson\", \",\", \" Carl\", \" S\", \"agan\", \",\", \" Tom\", \" Cruise\", \"\\n\", \"Answer\", \":\"], \"values\": [0.0029778480529785156, 0.0012075472623109818, 0.000568535178899765, 0.0006383806467056274, 0.0006868881173431873, 0.0008656405843794346, 0.002214565873146057, 0.001821320503950119, 0.0006044600158929825, 0.002010554075241089, 0.0024943575263023376, 0.001159757375717163, 0.0011746808886528015, 0.0013018026947975159, 0.0012484937906265259, 0.0010792575776576996, 0.0010323002934455872, 0.00055718794465065, 0.0009122192859649658, 0.014450863003730774, 0.004313811659812927, 0.004202352836728096, 0.000734325498342514, 0.0006008865311741829, 0.0006252797320485115, 0.0017030686140060425, 0.0011569652706384659, 0.0027924180030822754, 0.0019849278032779694, 0.0004092380404472351, 0.000869186595082283, 0.0042220354080200195, 0.007228434085845947, 0.004224300384521484]}\n",
       "    )\n",
       "    </script>"
      ],
      "text/plain": [
       "<circuitsvis.utils.render.RenderedHTML at 0x7fa4c04dbad0>"
      ]
     },
     "metadata": {},
     "output_type": "display_data"
    },
    {
     "name": "stdout",
     "output_type": "stream",
     "text": [
      "--------------------------------------------------------------------------------\n",
      "layer=52\n"
     ]
    },
    {
     "data": {
      "text/html": [
       "<div id=\"circuits-vis-ad22a7a5-1bed\" style=\"margin: 15px 0;\"/>\n",
       "    <script crossorigin type=\"module\">\n",
       "    import { render, ColoredTokens } from \"https://unpkg.com/circuitsvis@1.43.3/dist/cdn/esm.js\";\n",
       "    render(\n",
       "      \"circuits-vis-ad22a7a5-1bed\",\n",
       "      ColoredTokens,\n",
       "      {\"tokens\": [\"Which\", \" of\", \" these\", \" people\", \" is\", \" a\", \" politician\", \" or\", \" a\", \" scientist\", \"?\\n\", \"options\", \":\", \" Michael\", \" Jordan\", \",\", \" Serena\", \" Williams\", \",\", \" Nikki\", \" Haley\", \",\", \" Mike\", \" Tyson\", \",\", \" Carl\", \" S\", \"agan\", \",\", \" Tom\", \" Cruise\", \"\\n\", \"Answer\", \":\"], \"values\": [0.005641520023345947, 0.004144616425037384, 0.0016997754573822021, 0.0010786540806293488, 0.001722194254398346, 0.0025051161646842957, 0.003390401601791382, 0.0023527592420578003, 0.0011075511574745178, 0.0035681575536727905, 0.006835669279098511, 0.0050901854410767555, 0.005579210817813873, 0.0027222707867622375, 0.0011340081691741943, 0.003029618412256241, 0.002984076738357544, 0.0009565562941133976, 0.0020378902554512024, 0.021989785134792328, 0.008855067193508148, 0.00515313446521759, 0.0013006888329982758, 0.0007533426396548748, 0.0012178309261798859, 0.008901547640562057, 0.0016541853547096252, 0.005887262523174286, 0.0036552175879478455, 0.0014038458466529846, 0.0009224344394169748, 0.012878209352493286, 0.016977310180664062, 0.016142189502716064]}\n",
       "    )\n",
       "    </script>"
      ],
      "text/plain": [
       "<circuitsvis.utils.render.RenderedHTML at 0x7fa5679e1d90>"
      ]
     },
     "metadata": {},
     "output_type": "display_data"
    },
    {
     "name": "stdout",
     "output_type": "stream",
     "text": [
      "--------------------------------------------------------------------------------\n",
      "======================================================================\n",
      "2025-08-01 14:45:30 __main__ INFO     Layer: 33, Head: 45\n"
     ]
    },
    {
     "data": {
      "text/html": [
       "<div id=\"circuits-vis-14951201-577e\" style=\"margin: 15px 0;\"/>\n",
       "    <script crossorigin type=\"module\">\n",
       "    import { render, ColoredTokens } from \"https://unpkg.com/circuitsvis@1.43.3/dist/cdn/esm.js\";\n",
       "    render(\n",
       "      \"circuits-vis-14951201-577e\",\n",
       "      ColoredTokens,\n",
       "      {\"tokens\": [\"Which\", \" of\", \" these\", \" people\", \" is\", \" a\", \" politician\", \" or\", \" a\", \" scientist\", \"?\\n\", \"options\", \":\", \" Michael\", \" Jordan\", \",\", \" Serena\", \" Williams\", \",\", \" Nikki\", \" Haley\", \",\", \" Mike\", \" Tyson\", \",\", \" Carl\", \" S\", \"agan\", \",\", \" Tom\", \" Cruise\", \"\\n\", \"Answer\", \":\"], \"values\": [0.0177001953125, 0.006317138671875, 0.0045166015625, 0.004730224609375, 0.003997802734375, 0.00274658203125, 0.010009765625, 0.0152587890625, 0.005706787109375, 0.03271484375, 0.0205078125, 0.006744384765625, 0.00994873046875, 0.0111083984375, 0.0035247802734375, 0.016845703125, 0.01318359375, 0.00341796875, 0.018310546875, 0.04248046875, 0.06494140625, 0.154296875, 0.00787353515625, 0.005706787109375, 0.00653076171875, 0.01953125, 0.00848388671875, 0.111328125, 0.0732421875, 0.0022735595703125, 0.003570556640625, 0.0263671875, 0.00457763671875, 0.0279541015625]}\n",
       "    )\n",
       "    </script>"
      ],
      "text/plain": [
       "<circuitsvis.utils.render.RenderedHTML at 0x7fa5679ae550>"
      ]
     },
     "metadata": {},
     "output_type": "display_data"
    },
    {
     "name": "stdout",
     "output_type": "stream",
     "text": [
      "2025-08-01 14:45:30 __main__ INFO     Layer: 33, Head: 18\n"
     ]
    },
    {
     "data": {
      "text/html": [
       "<div id=\"circuits-vis-2a77f239-60e9\" style=\"margin: 15px 0;\"/>\n",
       "    <script crossorigin type=\"module\">\n",
       "    import { render, ColoredTokens } from \"https://unpkg.com/circuitsvis@1.43.3/dist/cdn/esm.js\";\n",
       "    render(\n",
       "      \"circuits-vis-2a77f239-60e9\",\n",
       "      ColoredTokens,\n",
       "      {\"tokens\": [\"Which\", \" of\", \" these\", \" people\", \" is\", \" a\", \" politician\", \" or\", \" a\", \" scientist\", \"?\\n\", \"options\", \":\", \" Michael\", \" Jordan\", \",\", \" Serena\", \" Williams\", \",\", \" Nikki\", \" Haley\", \",\", \" Mike\", \" Tyson\", \",\", \" Carl\", \" S\", \"agan\", \",\", \" Tom\", \" Cruise\", \"\\n\", \"Answer\", \":\"], \"values\": [0.0162353515625, 0.001739501953125, 0.002593994140625, 0.0135498046875, 0.0106201171875, 0.007598876953125, 0.01348876953125, 0.0203857421875, 0.007659912109375, 0.0228271484375, 0.027099609375, 0.000621795654296875, 0.00138092041015625, 0.07421875, 0.013671875, 0.051025390625, 0.005859375, 0.00787353515625, 0.0198974609375, 0.01953125, 0.04248046875, 0.34765625, 0.006744384765625, 0.0023193359375, 0.01025390625, 0.024658203125, 0.010009765625, 0.0250244140625, 0.0908203125, 0.00146484375, 0.0023040771484375, 0.00860595703125, 0.000713348388671875, 0.0084228515625]}\n",
       "    )\n",
       "    </script>"
      ],
      "text/plain": [
       "<circuitsvis.utils.render.RenderedHTML at 0x7fa50012a250>"
      ]
     },
     "metadata": {},
     "output_type": "display_data"
    },
    {
     "name": "stdout",
     "output_type": "stream",
     "text": [
      "2025-08-01 14:45:30 __main__ INFO     Layer: 34, Head: 1\n"
     ]
    },
    {
     "data": {
      "text/html": [
       "<div id=\"circuits-vis-bc758723-305e\" style=\"margin: 15px 0;\"/>\n",
       "    <script crossorigin type=\"module\">\n",
       "    import { render, ColoredTokens } from \"https://unpkg.com/circuitsvis@1.43.3/dist/cdn/esm.js\";\n",
       "    render(\n",
       "      \"circuits-vis-bc758723-305e\",\n",
       "      ColoredTokens,\n",
       "      {\"tokens\": [\"Which\", \" of\", \" these\", \" people\", \" is\", \" a\", \" politician\", \" or\", \" a\", \" scientist\", \"?\\n\", \"options\", \":\", \" Michael\", \" Jordan\", \",\", \" Serena\", \" Williams\", \",\", \" Nikki\", \" Haley\", \",\", \" Mike\", \" Tyson\", \",\", \" Carl\", \" S\", \"agan\", \",\", \" Tom\", \" Cruise\", \"\\n\", \"Answer\", \":\"], \"values\": [0.017822265625, 0.000682830810546875, 5.364418029785156e-05, 0.000965118408203125, 0.000469207763671875, 0.00433349609375, 0.005279541015625, 0.011962890625, 0.0020751953125, 0.00885009765625, 0.00787353515625, 8.296966552734375e-05, 0.000682830810546875, 0.0027313232421875, 7.4803829193115234e-06, 7.104873657226562e-05, 5.030632019042969e-05, 4.976987838745117e-06, 0.0021820068359375, 0.030029296875, 0.298828125, 0.279296875, 0.00142669677734375, 1.6167759895324707e-06, 4.4345855712890625e-05, 0.01287841796875, 0.00714111328125, 0.032470703125, 0.142578125, 3.790855407714844e-05, 7.927417755126953e-06, 0.0020294189453125, 0.0002593994140625, 0.03271484375]}\n",
       "    )\n",
       "    </script>"
      ],
      "text/plain": [
       "<circuitsvis.utils.render.RenderedHTML at 0x7fa569ba2b10>"
      ]
     },
     "metadata": {},
     "output_type": "display_data"
    },
    {
     "name": "stdout",
     "output_type": "stream",
     "text": [
      "2025-08-01 14:45:30 __main__ INFO     Layer: 34, Head: 6\n"
     ]
    },
    {
     "data": {
      "text/html": [
       "<div id=\"circuits-vis-a7d7c6a7-5698\" style=\"margin: 15px 0;\"/>\n",
       "    <script crossorigin type=\"module\">\n",
       "    import { render, ColoredTokens } from \"https://unpkg.com/circuitsvis@1.43.3/dist/cdn/esm.js\";\n",
       "    render(\n",
       "      \"circuits-vis-a7d7c6a7-5698\",\n",
       "      ColoredTokens,\n",
       "      {\"tokens\": [\"Which\", \" of\", \" these\", \" people\", \" is\", \" a\", \" politician\", \" or\", \" a\", \" scientist\", \"?\\n\", \"options\", \":\", \" Michael\", \" Jordan\", \",\", \" Serena\", \" Williams\", \",\", \" Nikki\", \" Haley\", \",\", \" Mike\", \" Tyson\", \",\", \" Carl\", \" S\", \"agan\", \",\", \" Tom\", \" Cruise\", \"\\n\", \"Answer\", \":\"], \"values\": [0.0361328125, 0.0024566650390625, 0.000293731689453125, 0.0012969970703125, 0.00144195556640625, 0.006988525390625, 0.00518798828125, 0.0089111328125, 0.004302978515625, 0.00738525390625, 0.0096435546875, 0.000331878662109375, 0.0045166015625, 0.0120849609375, 1.704692840576172e-05, 0.00013828277587890625, 7.43865966796875e-05, 1.138448715209961e-05, 0.005615234375, 0.0274658203125, 0.06640625, 0.11474609375, 0.00286865234375, 1.1995434761047363e-06, 4.363059997558594e-05, 0.00628662109375, 0.0048828125, 0.0098876953125, 0.0233154296875, 4.649162292480469e-05, 9.909272193908691e-07, 0.001312255859375, 0.000774383544921875, 0.0341796875]}\n",
       "    )\n",
       "    </script>"
      ],
      "text/plain": [
       "<circuitsvis.utils.render.RenderedHTML at 0x7fa4a032dc90>"
      ]
     },
     "metadata": {},
     "output_type": "display_data"
    },
    {
     "name": "stdout",
     "output_type": "stream",
     "text": [
      "2025-08-01 14:45:30 __main__ INFO     Layer: 34, Head: 7\n"
     ]
    },
    {
     "data": {
      "text/html": [
       "<div id=\"circuits-vis-22d504d8-cb7e\" style=\"margin: 15px 0;\"/>\n",
       "    <script crossorigin type=\"module\">\n",
       "    import { render, ColoredTokens } from \"https://unpkg.com/circuitsvis@1.43.3/dist/cdn/esm.js\";\n",
       "    render(\n",
       "      \"circuits-vis-22d504d8-cb7e\",\n",
       "      ColoredTokens,\n",
       "      {\"tokens\": [\"Which\", \" of\", \" these\", \" people\", \" is\", \" a\", \" politician\", \" or\", \" a\", \" scientist\", \"?\\n\", \"options\", \":\", \" Michael\", \" Jordan\", \",\", \" Serena\", \" Williams\", \",\", \" Nikki\", \" Haley\", \",\", \" Mike\", \" Tyson\", \",\", \" Carl\", \" S\", \"agan\", \",\", \" Tom\", \" Cruise\", \"\\n\", \"Answer\", \":\"], \"values\": [0.045654296875, 0.00191497802734375, 0.000530242919921875, 0.00182342529296875, 0.00177001953125, 0.002960205078125, 0.005615234375, 0.007110595703125, 0.00182342529296875, 0.005706787109375, 0.0107421875, 0.000701904296875, 0.004608154296875, 0.0111083984375, 0.000507354736328125, 0.001739501953125, 0.000946044921875, 0.0004405975341796875, 0.0062255859375, 0.017333984375, 0.1484375, 0.1865234375, 0.0022735595703125, 0.00012969970703125, 0.001007080078125, 0.010986328125, 0.00921630859375, 0.05517578125, 0.080078125, 0.000537872314453125, 0.00031280517578125, 0.021728515625, 0.005157470703125, 0.1318359375]}\n",
       "    )\n",
       "    </script>"
      ],
      "text/plain": [
       "<circuitsvis.utils.render.RenderedHTML at 0x7fa4e02832d0>"
      ]
     },
     "metadata": {},
     "output_type": "display_data"
    },
    {
     "name": "stdout",
     "output_type": "stream",
     "text": [
      "2025-08-01 14:45:31 __main__ INFO     Layer: 35, Head: 19\n"
     ]
    },
    {
     "data": {
      "text/html": [
       "<div id=\"circuits-vis-1f0da468-72a6\" style=\"margin: 15px 0;\"/>\n",
       "    <script crossorigin type=\"module\">\n",
       "    import { render, ColoredTokens } from \"https://unpkg.com/circuitsvis@1.43.3/dist/cdn/esm.js\";\n",
       "    render(\n",
       "      \"circuits-vis-1f0da468-72a6\",\n",
       "      ColoredTokens,\n",
       "      {\"tokens\": [\"Which\", \" of\", \" these\", \" people\", \" is\", \" a\", \" politician\", \" or\", \" a\", \" scientist\", \"?\\n\", \"options\", \":\", \" Michael\", \" Jordan\", \",\", \" Serena\", \" Williams\", \",\", \" Nikki\", \" Haley\", \",\", \" Mike\", \" Tyson\", \",\", \" Carl\", \" S\", \"agan\", \",\", \" Tom\", \" Cruise\", \"\\n\", \"Answer\", \":\"], \"values\": [0.0050048828125, 0.0001010894775390625, 3.3855438232421875e-05, 0.000621795654296875, 6.532669067382812e-05, 0.00046539306640625, 0.01043701171875, 0.00173187255859375, 0.0017852783203125, 0.0517578125, 0.00180816650390625, 2.193450927734375e-05, 3.9577484130859375e-05, 0.00262451171875, 0.0076904296875, 0.00457763671875, 0.0164794921875, 0.0152587890625, 0.00506591796875, 0.0028839111328125, 0.3125, 0.1181640625, 0.0011749267578125, 0.00457763671875, 0.0021514892578125, 0.0164794921875, 0.0003509521484375, 0.275390625, 0.1181640625, 0.000274658203125, 0.00860595703125, 0.002166748046875, 2.4080276489257812e-05, 0.000743865966796875]}\n",
       "    )\n",
       "    </script>"
      ],
      "text/plain": [
       "<circuitsvis.utils.render.RenderedHTML at 0x7fa5679a1d50>"
      ]
     },
     "metadata": {},
     "output_type": "display_data"
    },
    {
     "name": "stdout",
     "output_type": "stream",
     "text": [
      "2025-08-01 14:45:31 __main__ INFO     Layer: 39, Head: 40\n"
     ]
    },
    {
     "data": {
      "text/html": [
       "<div id=\"circuits-vis-08c7c1b2-ff21\" style=\"margin: 15px 0;\"/>\n",
       "    <script crossorigin type=\"module\">\n",
       "    import { render, ColoredTokens } from \"https://unpkg.com/circuitsvis@1.43.3/dist/cdn/esm.js\";\n",
       "    render(\n",
       "      \"circuits-vis-08c7c1b2-ff21\",\n",
       "      ColoredTokens,\n",
       "      {\"tokens\": [\"Which\", \" of\", \" these\", \" people\", \" is\", \" a\", \" politician\", \" or\", \" a\", \" scientist\", \"?\\n\", \"options\", \":\", \" Michael\", \" Jordan\", \",\", \" Serena\", \" Williams\", \",\", \" Nikki\", \" Haley\", \",\", \" Mike\", \" Tyson\", \",\", \" Carl\", \" S\", \"agan\", \",\", \" Tom\", \" Cruise\", \"\\n\", \"Answer\", \":\"], \"values\": [0.0106201171875, 0.005462646484375, 0.0003833770751953125, 0.00311279296875, 0.00341796875, 0.00640869140625, 0.02392578125, 0.0106201171875, 0.0026397705078125, 0.0255126953125, 0.01806640625, 0.000240325927734375, 0.000949859619140625, 0.004486083984375, 0.0003490447998046875, 0.0024871826171875, 0.003143310546875, 0.00244140625, 0.0079345703125, 0.06787109375, 0.337890625, 0.2890625, 0.0031585693359375, 0.00016498565673828125, 0.00173187255859375, 0.021240234375, 0.0023345947265625, 0.041748046875, 0.05517578125, 0.0003337860107421875, 0.000263214111328125, 0.001983642578125, 0.000865936279296875, 0.01519775390625]}\n",
       "    )\n",
       "    </script>"
      ],
      "text/plain": [
       "<circuitsvis.utils.render.RenderedHTML at 0x7fa4e02817d0>"
      ]
     },
     "metadata": {},
     "output_type": "display_data"
    },
    {
     "name": "stdout",
     "output_type": "stream",
     "text": [
      "2025-08-01 14:45:31 __main__ INFO     Layer: 42, Head: 30\n"
     ]
    },
    {
     "data": {
      "text/html": [
       "<div id=\"circuits-vis-2c2eca86-fb49\" style=\"margin: 15px 0;\"/>\n",
       "    <script crossorigin type=\"module\">\n",
       "    import { render, ColoredTokens } from \"https://unpkg.com/circuitsvis@1.43.3/dist/cdn/esm.js\";\n",
       "    render(\n",
       "      \"circuits-vis-2c2eca86-fb49\",\n",
       "      ColoredTokens,\n",
       "      {\"tokens\": [\"Which\", \" of\", \" these\", \" people\", \" is\", \" a\", \" politician\", \" or\", \" a\", \" scientist\", \"?\\n\", \"options\", \":\", \" Michael\", \" Jordan\", \",\", \" Serena\", \" Williams\", \",\", \" Nikki\", \" Haley\", \",\", \" Mike\", \" Tyson\", \",\", \" Carl\", \" S\", \"agan\", \",\", \" Tom\", \" Cruise\", \"\\n\", \"Answer\", \":\"], \"values\": [0.0069580078125, 0.00103759765625, 0.0010986328125, 0.0026397705078125, 0.0034942626953125, 0.005950927734375, 0.00799560546875, 0.0096435546875, 0.00469970703125, 0.0194091796875, 0.007080078125, 0.0004177093505859375, 0.0023345947265625, 0.005157470703125, 0.0027618408203125, 0.004425048828125, 0.0024871826171875, 0.006744384765625, 0.00811767578125, 0.042236328125, 0.353515625, 0.052001953125, 0.0052490234375, 0.00152587890625, 0.00634765625, 0.01312255859375, 0.018798828125, 0.0673828125, 0.0257568359375, 0.00154876708984375, 0.00103759765625, 0.0068359375, 0.000782012939453125, 0.0069580078125]}\n",
       "    )\n",
       "    </script>"
      ],
      "text/plain": [
       "<circuitsvis.utils.render.RenderedHTML at 0x7fa569ba2b10>"
      ]
     },
     "metadata": {},
     "output_type": "display_data"
    },
    {
     "name": "stdout",
     "output_type": "stream",
     "text": [
      "2025-08-01 14:45:31 __main__ INFO     Layer: 47, Head: 18\n"
     ]
    },
    {
     "data": {
      "text/html": [
       "<div id=\"circuits-vis-d065fadc-6157\" style=\"margin: 15px 0;\"/>\n",
       "    <script crossorigin type=\"module\">\n",
       "    import { render, ColoredTokens } from \"https://unpkg.com/circuitsvis@1.43.3/dist/cdn/esm.js\";\n",
       "    render(\n",
       "      \"circuits-vis-d065fadc-6157\",\n",
       "      ColoredTokens,\n",
       "      {\"tokens\": [\"Which\", \" of\", \" these\", \" people\", \" is\", \" a\", \" politician\", \" or\", \" a\", \" scientist\", \"?\\n\", \"options\", \":\", \" Michael\", \" Jordan\", \",\", \" Serena\", \" Williams\", \",\", \" Nikki\", \" Haley\", \",\", \" Mike\", \" Tyson\", \",\", \" Carl\", \" S\", \"agan\", \",\", \" Tom\", \" Cruise\", \"\\n\", \"Answer\", \":\"], \"values\": [0.007720947265625, 0.002685546875, 0.0006103515625, 0.00067138671875, 0.007537841796875, 0.00946044921875, 0.004364013671875, 0.0322265625, 0.009033203125, 0.00726318359375, 0.016357421875, 0.00013637542724609375, 0.005889892578125, 0.00064849853515625, 0.0001983642578125, 0.008544921875, 0.0002613067626953125, 8.535385131835938e-05, 0.01434326171875, 0.326171875, 0.08447265625, 0.150390625, 0.0009002685546875, 4.291534423828125e-05, 0.00811767578125, 0.024169921875, 0.02685546875, 0.01483154296875, 0.04833984375, 0.0004749298095703125, 7.534027099609375e-05, 0.00860595703125, 0.00122833251953125, 0.012451171875]}\n",
       "    )\n",
       "    </script>"
      ],
      "text/plain": [
       "<circuitsvis.utils.render.RenderedHTML at 0x7fa4c01d5790>"
      ]
     },
     "metadata": {},
     "output_type": "display_data"
    },
    {
     "name": "stdout",
     "output_type": "stream",
     "text": [
      "2025-08-01 14:45:31 __main__ INFO     Layer: 52, Head: 58\n"
     ]
    },
    {
     "data": {
      "text/html": [
       "<div id=\"circuits-vis-1b1fa852-a821\" style=\"margin: 15px 0;\"/>\n",
       "    <script crossorigin type=\"module\">\n",
       "    import { render, ColoredTokens } from \"https://unpkg.com/circuitsvis@1.43.3/dist/cdn/esm.js\";\n",
       "    render(\n",
       "      \"circuits-vis-1b1fa852-a821\",\n",
       "      ColoredTokens,\n",
       "      {\"tokens\": [\"Which\", \" of\", \" these\", \" people\", \" is\", \" a\", \" politician\", \" or\", \" a\", \" scientist\", \"?\\n\", \"options\", \":\", \" Michael\", \" Jordan\", \",\", \" Serena\", \" Williams\", \",\", \" Nikki\", \" Haley\", \",\", \" Mike\", \" Tyson\", \",\", \" Carl\", \" S\", \"agan\", \",\", \" Tom\", \" Cruise\", \"\\n\", \"Answer\", \":\"], \"values\": [0.00592041015625, 0.0007476806640625, 0.000171661376953125, 0.0002498626708984375, 0.0014190673828125, 0.003509521484375, 0.004241943359375, 0.0146484375, 0.00408935546875, 0.0167236328125, 0.002166748046875, 9.119510650634766e-06, 0.0011749267578125, 0.0004825592041015625, 0.000797271728515625, 0.0030975341796875, 0.00010776519775390625, 0.000133514404296875, 0.00543212890625, 0.064453125, 0.31640625, 0.0537109375, 0.0002841949462890625, 9.489059448242188e-05, 0.00506591796875, 0.032470703125, 0.050048828125, 0.1943359375, 0.017333984375, 0.00011444091796875, 0.00012969970703125, 0.002532958984375, 0.00022792816162109375, 0.0152587890625]}\n",
       "    )\n",
       "    </script>"
      ],
      "text/plain": [
       "<circuitsvis.utils.render.RenderedHTML at 0x7fa56797ae10>"
      ]
     },
     "metadata": {},
     "output_type": "display_data"
    }
   ],
   "source": [
    "options = [\"Michael Jordan\", \"Serena Williams\", \"Nikki Haley\", \"Mike Tyson\", \"Carl Sagan\", \"Tom Cruise\"]\n",
    "prompt_template = \"\"\"Which of these people is a politician or a scientist?\n",
    "options: {}\n",
    "Answer:\"\"\"\n",
    "\n",
    "prompt = prompt_template.format(\n",
    "    \", \".join(options)\n",
    ")\n",
    "print(prompt)\n",
    "\n",
    "verify = verify_head_patterns(\n",
    "    prompt=prompt,\n",
    "    options=options,\n",
    "    pivot=\"politician or scientist\",\n",
    "    mt=mt,\n",
    "    value_weighted=False,\n",
    "    generate_full_answer=True,\n",
    ")"
   ]
  },
  {
   "cell_type": "code",
   "execution_count": 36,
   "id": "414081ff",
   "metadata": {},
   "outputs": [
    {
     "name": "stdout",
     "output_type": "stream",
     "text": [
      "2025-08-01 14:45:48 __main__ DEBUG    Michael Jordan | opt_range=(14, 16) | bare_opt_range=(4, 6) | \" Michael Jordan\"\n"
     ]
    },
    {
     "name": "stdout",
     "output_type": "stream",
     "text": [
      "2025-08-01 14:45:48 __main__ DEBUG    Serena Williams | opt_range=(17, 19) | bare_opt_range=(4, 6) | \" Serena Williams\"\n",
      "2025-08-01 14:45:48 __main__ DEBUG    Nikki Haley | opt_range=(20, 22) | bare_opt_range=(4, 6) | \" Nikki Haley\"\n",
      "2025-08-01 14:45:48 __main__ DEBUG    Mike Tyson | opt_range=(23, 25) | bare_opt_range=(4, 6) | \" Mike Tyson\"\n",
      "2025-08-01 14:45:48 __main__ DEBUG    Carl Sagan | opt_range=(26, 29) | bare_opt_range=(4, 7) | \" Carl Sagan\"\n",
      "2025-08-01 14:45:49 __main__ DEBUG    Tom Cruise | opt_range=(30, 32) | bare_opt_range=(4, 6) | \" Tom Cruise\"\n",
      "2025-08-01 14:45:53 __main__ DEBUG    Predictions: ['\" Nikki\"[70207] (p=0.855, logit=20.625)', '\" Carl\"[22770] (p=0.048, logit=17.750)', '\" The\"[578] (p=0.016, logit=16.625)', '\" \"[220] (p=0.007, logit=15.875)', '\" Polit\"[16307] (p=0.007, logit=15.812)']\n",
      "layer=35\n"
     ]
    },
    {
     "data": {
      "text/html": [
       "<div id=\"circuits-vis-b7cb136a-c68f\" style=\"margin: 15px 0;\"/>\n",
       "    <script crossorigin type=\"module\">\n",
       "    import { render, ColoredTokens } from \"https://unpkg.com/circuitsvis@1.43.3/dist/cdn/esm.js\";\n",
       "    render(\n",
       "      \"circuits-vis-b7cb136a-c68f\",\n",
       "      ColoredTokens,\n",
       "      {\"tokens\": [\"Which\", \" of\", \" these\", \" people\", \" is\", \" a\", \" politician\", \" or\", \" a\", \" scientist\", \"?\\n\", \"options\", \":\", \" Michael\", \" Jordan\", \",\", \" Serena\", \" Williams\", \",\", \" Nikki\", \" Haley\", \",\", \" Mike\", \" Tyson\", \",\", \" Carl\", \" S\", \"agan\", \",\", \" Tom\", \" Cruise\", \"\\n\", \"Answer\", \":\"], \"values\": [0.02846086025238037, 0.007197193801403046, 0.004899423569440842, 0.01264306902885437, 0.008174508810043335, 0.005327384918928146, 0.011971741914749146, 0.011030323803424835, 0.0037977322936058044, 0.023648500442504883, 0.029430270195007324, 0.004923336207866669, 0.0061452873051166534, 0.003416284918785095, 0.010969191789627075, 0.020560890436172485, 0.006416343152523041, 0.010196506977081299, 0.0098419189453125, 0.00357012078166008, 0.02223643660545349, 0.038047462701797485, 0.002669716253876686, 0.005976364016532898, 0.008928298950195312, 0.005182178691029549, 0.009724318981170654, 0.024598978459835052, 0.02844683825969696, 0.0017713382840156555, 0.0055191367864608765, 0.02751302719116211, 0.016186468303203583, 0.04066187143325806]}\n",
       "    )\n",
       "    </script>"
      ],
      "text/plain": [
       "<circuitsvis.utils.render.RenderedHTML at 0x7fa5688b6c10>"
      ]
     },
     "metadata": {},
     "output_type": "display_data"
    },
    {
     "name": "stdout",
     "output_type": "stream",
     "text": [
      "--------------------------------------------------------------------------------\n",
      "layer=47\n"
     ]
    },
    {
     "data": {
      "text/html": [
       "<div id=\"circuits-vis-b87c9afc-bbae\" style=\"margin: 15px 0;\"/>\n",
       "    <script crossorigin type=\"module\">\n",
       "    import { render, ColoredTokens } from \"https://unpkg.com/circuitsvis@1.43.3/dist/cdn/esm.js\";\n",
       "    render(\n",
       "      \"circuits-vis-b87c9afc-bbae\",\n",
       "      ColoredTokens,\n",
       "      {\"tokens\": [\"Which\", \" of\", \" these\", \" people\", \" is\", \" a\", \" politician\", \" or\", \" a\", \" scientist\", \"?\\n\", \"options\", \":\", \" Michael\", \" Jordan\", \",\", \" Serena\", \" Williams\", \",\", \" Nikki\", \" Haley\", \",\", \" Mike\", \" Tyson\", \",\", \" Carl\", \" S\", \"agan\", \",\", \" Tom\", \" Cruise\", \"\\n\", \"Answer\", \":\"], \"values\": [0.002837143838405609, 0.0011085793375968933, 0.00051850825548172, 0.0005913004279136658, 0.0006109257228672504, 0.0007919860072433949, 0.0021429508924484253, 0.001630157232284546, 0.0005404427647590637, 0.0019009262323379517, 0.002257145941257477, 0.0010908767580986023, 0.0011101998388767242, 0.0015065521001815796, 0.0014805197715759277, 0.0010799504816532135, 0.0010720863938331604, 0.0005246587097644806, 0.0008746646344661713, 0.015514038503170013, 0.004233196377754211, 0.004272596910595894, 0.0007397569715976715, 0.0005827760323882103, 0.0005563469603657722, 0.0018148347735404968, 0.0011629331856966019, 0.002676263451576233, 0.0018705222755670547, 0.0004184730350971222, 0.0008692648261785507, 0.004131287336349487, 0.006836354732513428, 0.004231050610542297]}\n",
       "    )\n",
       "    </script>"
      ],
      "text/plain": [
       "<circuitsvis.utils.render.RenderedHTML at 0x7fa56797bcd0>"
      ]
     },
     "metadata": {},
     "output_type": "display_data"
    },
    {
     "name": "stdout",
     "output_type": "stream",
     "text": [
      "--------------------------------------------------------------------------------\n",
      "layer=52\n"
     ]
    },
    {
     "data": {
      "text/html": [
       "<div id=\"circuits-vis-edae40c5-4d1e\" style=\"margin: 15px 0;\"/>\n",
       "    <script crossorigin type=\"module\">\n",
       "    import { render, ColoredTokens } from \"https://unpkg.com/circuitsvis@1.43.3/dist/cdn/esm.js\";\n",
       "    render(\n",
       "      \"circuits-vis-edae40c5-4d1e\",\n",
       "      ColoredTokens,\n",
       "      {\"tokens\": [\"Which\", \" of\", \" these\", \" people\", \" is\", \" a\", \" politician\", \" or\", \" a\", \" scientist\", \"?\\n\", \"options\", \":\", \" Michael\", \" Jordan\", \",\", \" Serena\", \" Williams\", \",\", \" Nikki\", \" Haley\", \",\", \" Mike\", \" Tyson\", \",\", \" Carl\", \" S\", \"agan\", \",\", \" Tom\", \" Cruise\", \"\\n\", \"Answer\", \":\"], \"values\": [0.005594223737716675, 0.0039954110980033875, 0.0016918517649173737, 0.0010757111012935638, 0.0016648583114147186, 0.0025010108947753906, 0.0035443007946014404, 0.0022929757833480835, 0.0010567381978034973, 0.00373058021068573, 0.006652235984802246, 0.005209146998822689, 0.005598820745944977, 0.0030700862407684326, 0.0013251230120658875, 0.0030649080872535706, 0.003129303455352783, 0.0009817369282245636, 0.001986071467399597, 0.02023419737815857, 0.009066909551620483, 0.005291495472192764, 0.0013938099145889282, 0.000801868038251996, 0.0011220667511224747, 0.00970466062426567, 0.0016112476587295532, 0.0058405958116054535, 0.0035826433449983597, 0.0014705955982208252, 0.0009632695000618696, 0.013250887393951416, 0.01714932918548584, 0.01609283685684204]}\n",
       "    )\n",
       "    </script>"
      ],
      "text/plain": [
       "<circuitsvis.utils.render.RenderedHTML at 0x7fa567f14a50>"
      ]
     },
     "metadata": {},
     "output_type": "display_data"
    },
    {
     "name": "stdout",
     "output_type": "stream",
     "text": [
      "--------------------------------------------------------------------------------\n",
      "======================================================================\n",
      "2025-08-01 14:45:54 __main__ INFO     Layer: 33, Head: 45\n"
     ]
    },
    {
     "data": {
      "text/html": [
       "<div id=\"circuits-vis-af92027b-828a\" style=\"margin: 15px 0;\"/>\n",
       "    <script crossorigin type=\"module\">\n",
       "    import { render, ColoredTokens } from \"https://unpkg.com/circuitsvis@1.43.3/dist/cdn/esm.js\";\n",
       "    render(\n",
       "      \"circuits-vis-af92027b-828a\",\n",
       "      ColoredTokens,\n",
       "      {\"tokens\": [\"Which\", \" of\", \" these\", \" people\", \" is\", \" a\", \" politician\", \" or\", \" a\", \" scientist\", \"?\\n\", \"options\", \":\", \" Michael\", \" Jordan\", \",\", \" Serena\", \" Williams\", \",\", \" Nikki\", \" Haley\", \",\", \" Mike\", \" Tyson\", \",\", \" Carl\", \" S\", \"agan\", \",\", \" Tom\", \" Cruise\", \"\\n\", \"Answer\", \":\"], \"values\": [0.0179443359375, 0.00634765625, 0.0045166015625, 0.00494384765625, 0.0040283203125, 0.002777099609375, 0.01080322265625, 0.01611328125, 0.0057373046875, 0.031982421875, 0.021728515625, 0.006866455078125, 0.010009765625, 0.00518798828125, 0.00408935546875, 0.0172119140625, 0.0145263671875, 0.0037994384765625, 0.0135498046875, 0.042236328125, 0.06689453125, 0.1689453125, 0.00823974609375, 0.00634765625, 0.0067138671875, 0.0186767578125, 0.00830078125, 0.09765625, 0.07177734375, 0.0025634765625, 0.003570556640625, 0.0279541015625, 0.004425048828125, 0.0301513671875]}\n",
       "    )\n",
       "    </script>"
      ],
      "text/plain": [
       "<circuitsvis.utils.render.RenderedHTML at 0x7fa4a0116f10>"
      ]
     },
     "metadata": {},
     "output_type": "display_data"
    },
    {
     "name": "stdout",
     "output_type": "stream",
     "text": [
      "2025-08-01 14:45:54 __main__ INFO     Layer: 33, Head: 18\n"
     ]
    },
    {
     "data": {
      "text/html": [
       "<div id=\"circuits-vis-c3dee3f6-e3fb\" style=\"margin: 15px 0;\"/>\n",
       "    <script crossorigin type=\"module\">\n",
       "    import { render, ColoredTokens } from \"https://unpkg.com/circuitsvis@1.43.3/dist/cdn/esm.js\";\n",
       "    render(\n",
       "      \"circuits-vis-c3dee3f6-e3fb\",\n",
       "      ColoredTokens,\n",
       "      {\"tokens\": [\"Which\", \" of\", \" these\", \" people\", \" is\", \" a\", \" politician\", \" or\", \" a\", \" scientist\", \"?\\n\", \"options\", \":\", \" Michael\", \" Jordan\", \",\", \" Serena\", \" Williams\", \",\", \" Nikki\", \" Haley\", \",\", \" Mike\", \" Tyson\", \",\", \" Carl\", \" S\", \"agan\", \",\", \" Tom\", \" Cruise\", \"\\n\", \"Answer\", \":\"], \"values\": [0.01953125, 0.002288818359375, 0.00341796875, 0.0177001953125, 0.01397705078125, 0.0103759765625, 0.0164794921875, 0.0252685546875, 0.0093994140625, 0.0269775390625, 0.033935546875, 0.00081634521484375, 0.00183868408203125, 0.01141357421875, 0.0206298828125, 0.07373046875, 0.007232666015625, 0.010498046875, 0.02099609375, 0.0205078125, 0.037841796875, 0.32421875, 0.00836181640625, 0.0031890869140625, 0.01312255859375, 0.0238037109375, 0.010498046875, 0.022705078125, 0.083984375, 0.0019989013671875, 0.0027008056640625, 0.0106201171875, 0.000896453857421875, 0.01043701171875]}\n",
       "    )\n",
       "    </script>"
      ],
      "text/plain": [
       "<circuitsvis.utils.render.RenderedHTML at 0x7fa4c0150490>"
      ]
     },
     "metadata": {},
     "output_type": "display_data"
    },
    {
     "name": "stdout",
     "output_type": "stream",
     "text": [
      "2025-08-01 14:45:54 __main__ INFO     Layer: 34, Head: 1\n"
     ]
    },
    {
     "data": {
      "text/html": [
       "<div id=\"circuits-vis-9babe090-177c\" style=\"margin: 15px 0;\"/>\n",
       "    <script crossorigin type=\"module\">\n",
       "    import { render, ColoredTokens } from \"https://unpkg.com/circuitsvis@1.43.3/dist/cdn/esm.js\";\n",
       "    render(\n",
       "      \"circuits-vis-9babe090-177c\",\n",
       "      ColoredTokens,\n",
       "      {\"tokens\": [\"Which\", \" of\", \" these\", \" people\", \" is\", \" a\", \" politician\", \" or\", \" a\", \" scientist\", \"?\\n\", \"options\", \":\", \" Michael\", \" Jordan\", \",\", \" Serena\", \" Williams\", \",\", \" Nikki\", \" Haley\", \",\", \" Mike\", \" Tyson\", \",\", \" Carl\", \" S\", \"agan\", \",\", \" Tom\", \" Cruise\", \"\\n\", \"Answer\", \":\"], \"values\": [0.0181884765625, 0.000701904296875, 5.507469177246094e-05, 0.0010833740234375, 0.000514984130859375, 0.004547119140625, 0.006011962890625, 0.01251220703125, 0.002197265625, 0.0098876953125, 0.00830078125, 8.535385131835938e-05, 0.000690460205078125, 0.0011749267578125, 1.3887882232666016e-05, 7.772445678710938e-05, 6.246566772460938e-05, 5.602836608886719e-06, 0.0028839111328125, 0.030517578125, 0.3359375, 0.26171875, 0.00183868408203125, 2.4139881134033203e-06, 5.173683166503906e-05, 0.01214599609375, 0.0084228515625, 0.0299072265625, 0.1142578125, 6.437301635742188e-05, 9.5367431640625e-06, 0.002227783203125, 0.000278472900390625, 0.03515625]}\n",
       "    )\n",
       "    </script>"
      ],
      "text/plain": [
       "<circuitsvis.utils.render.RenderedHTML at 0x7fa5679d1550>"
      ]
     },
     "metadata": {},
     "output_type": "display_data"
    },
    {
     "name": "stdout",
     "output_type": "stream",
     "text": [
      "2025-08-01 14:45:54 __main__ INFO     Layer: 34, Head: 6\n"
     ]
    },
    {
     "data": {
      "text/html": [
       "<div id=\"circuits-vis-05cc6b7a-adb4\" style=\"margin: 15px 0;\"/>\n",
       "    <script crossorigin type=\"module\">\n",
       "    import { render, ColoredTokens } from \"https://unpkg.com/circuitsvis@1.43.3/dist/cdn/esm.js\";\n",
       "    render(\n",
       "      \"circuits-vis-05cc6b7a-adb4\",\n",
       "      ColoredTokens,\n",
       "      {\"tokens\": [\"Which\", \" of\", \" these\", \" people\", \" is\", \" a\", \" politician\", \" or\", \" a\", \" scientist\", \"?\\n\", \"options\", \":\", \" Michael\", \" Jordan\", \",\", \" Serena\", \" Williams\", \",\", \" Nikki\", \" Haley\", \",\", \" Mike\", \" Tyson\", \",\", \" Carl\", \" S\", \"agan\", \",\", \" Tom\", \" Cruise\", \"\\n\", \"Answer\", \":\"], \"values\": [0.03662109375, 0.002471923828125, 0.000286102294921875, 0.00145721435546875, 0.0014801025390625, 0.00726318359375, 0.00689697265625, 0.00994873046875, 0.00469970703125, 0.00933837890625, 0.01025390625, 0.000335693359375, 0.0042724609375, 0.01171875, 3.0159950256347656e-05, 0.00014400482177734375, 8.726119995117188e-05, 1.2218952178955078e-05, 0.005950927734375, 0.032958984375, 0.08544921875, 0.1279296875, 0.0037689208984375, 1.5497207641601562e-06, 4.5299530029296875e-05, 0.00738525390625, 0.00604248046875, 0.00970458984375, 0.0218505859375, 7.724761962890625e-05, 1.2889504432678223e-06, 0.00136566162109375, 0.00075531005859375, 0.037841796875]}\n",
       "    )\n",
       "    </script>"
      ],
      "text/plain": [
       "<circuitsvis.utils.render.RenderedHTML at 0x7fa5400f90d0>"
      ]
     },
     "metadata": {},
     "output_type": "display_data"
    },
    {
     "name": "stdout",
     "output_type": "stream",
     "text": [
      "2025-08-01 14:45:54 __main__ INFO     Layer: 34, Head: 7\n"
     ]
    },
    {
     "data": {
      "text/html": [
       "<div id=\"circuits-vis-03c7ee42-82e0\" style=\"margin: 15px 0;\"/>\n",
       "    <script crossorigin type=\"module\">\n",
       "    import { render, ColoredTokens } from \"https://unpkg.com/circuitsvis@1.43.3/dist/cdn/esm.js\";\n",
       "    render(\n",
       "      \"circuits-vis-03c7ee42-82e0\",\n",
       "      ColoredTokens,\n",
       "      {\"tokens\": [\"Which\", \" of\", \" these\", \" people\", \" is\", \" a\", \" politician\", \" or\", \" a\", \" scientist\", \"?\\n\", \"options\", \":\", \" Michael\", \" Jordan\", \",\", \" Serena\", \" Williams\", \",\", \" Nikki\", \" Haley\", \",\", \" Mike\", \" Tyson\", \",\", \" Carl\", \" S\", \"agan\", \",\", \" Tom\", \" Cruise\", \"\\n\", \"Answer\", \":\"], \"values\": [0.04443359375, 0.0018768310546875, 0.000530242919921875, 0.0018768310546875, 0.001739501953125, 0.002960205078125, 0.00634765625, 0.007415771484375, 0.0018463134765625, 0.006317138671875, 0.01116943359375, 0.000690460205078125, 0.004425048828125, 0.009521484375, 0.00072479248046875, 0.00168609619140625, 0.00103759765625, 0.0004673004150390625, 0.00592041015625, 0.0181884765625, 0.154296875, 0.19140625, 0.00286865234375, 0.00015163421630859375, 0.00103759765625, 0.01165771484375, 0.01031494140625, 0.052490234375, 0.0751953125, 0.000759124755859375, 0.0003528594970703125, 0.0225830078125, 0.00494384765625, 0.138671875]}\n",
       "    )\n",
       "    </script>"
      ],
      "text/plain": [
       "<circuitsvis.utils.render.RenderedHTML at 0x7fa5400f90d0>"
      ]
     },
     "metadata": {},
     "output_type": "display_data"
    },
    {
     "name": "stdout",
     "output_type": "stream",
     "text": [
      "2025-08-01 14:45:54 __main__ INFO     Layer: 35, Head: 19\n"
     ]
    },
    {
     "data": {
      "text/html": [
       "<div id=\"circuits-vis-1792ca4c-dfea\" style=\"margin: 15px 0;\"/>\n",
       "    <script crossorigin type=\"module\">\n",
       "    import { render, ColoredTokens } from \"https://unpkg.com/circuitsvis@1.43.3/dist/cdn/esm.js\";\n",
       "    render(\n",
       "      \"circuits-vis-1792ca4c-dfea\",\n",
       "      ColoredTokens,\n",
       "      {\"tokens\": [\"Which\", \" of\", \" these\", \" people\", \" is\", \" a\", \" politician\", \" or\", \" a\", \" scientist\", \"?\\n\", \"options\", \":\", \" Michael\", \" Jordan\", \",\", \" Serena\", \" Williams\", \",\", \" Nikki\", \" Haley\", \",\", \" Mike\", \" Tyson\", \",\", \" Carl\", \" S\", \"agan\", \",\", \" Tom\", \" Cruise\", \"\\n\", \"Answer\", \":\"], \"values\": [0.0052490234375, 0.00011587142944335938, 3.695487976074219e-05, 0.0006866455078125, 7.009506225585938e-05, 0.000507354736328125, 0.0113525390625, 0.002044677734375, 0.002105712890625, 0.06494140625, 0.00186920166015625, 2.2411346435546875e-05, 4.124641418457031e-05, 0.00102996826171875, 0.007781982421875, 0.007110595703125, 0.0166015625, 0.015380859375, 0.00750732421875, 0.0026092529296875, 0.2734375, 0.1171875, 0.0015106201171875, 0.00482177734375, 0.00213623046875, 0.0174560546875, 0.000415802001953125, 0.291015625, 0.12109375, 0.000370025634765625, 0.00860595703125, 0.0026702880859375, 2.6226043701171875e-05, 0.00080108642578125]}\n",
       "    )\n",
       "    </script>"
      ],
      "text/plain": [
       "<circuitsvis.utils.render.RenderedHTML at 0x7fa4c0158890>"
      ]
     },
     "metadata": {},
     "output_type": "display_data"
    },
    {
     "name": "stdout",
     "output_type": "stream",
     "text": [
      "2025-08-01 14:45:54 __main__ INFO     Layer: 39, Head: 40\n"
     ]
    },
    {
     "data": {
      "text/html": [
       "<div id=\"circuits-vis-598e730d-158e\" style=\"margin: 15px 0;\"/>\n",
       "    <script crossorigin type=\"module\">\n",
       "    import { render, ColoredTokens } from \"https://unpkg.com/circuitsvis@1.43.3/dist/cdn/esm.js\";\n",
       "    render(\n",
       "      \"circuits-vis-598e730d-158e\",\n",
       "      ColoredTokens,\n",
       "      {\"tokens\": [\"Which\", \" of\", \" these\", \" people\", \" is\", \" a\", \" politician\", \" or\", \" a\", \" scientist\", \"?\\n\", \"options\", \":\", \" Michael\", \" Jordan\", \",\", \" Serena\", \" Williams\", \",\", \" Nikki\", \" Haley\", \",\", \" Mike\", \" Tyson\", \",\", \" Carl\", \" S\", \"agan\", \",\", \" Tom\", \" Cruise\", \"\\n\", \"Answer\", \":\"], \"values\": [0.01080322265625, 0.006195068359375, 0.00043487548828125, 0.00372314453125, 0.00372314453125, 0.0068359375, 0.029052734375, 0.01263427734375, 0.002838134765625, 0.0279541015625, 0.0201416015625, 0.0003070831298828125, 0.001129150390625, 0.00445556640625, 0.0009765625, 0.00335693359375, 0.003662109375, 0.002349853515625, 0.00750732421875, 0.0595703125, 0.322265625, 0.306640625, 0.0033111572265625, 0.000225067138671875, 0.001678466796875, 0.01806640625, 0.0023040771484375, 0.03759765625, 0.049072265625, 0.000400543212890625, 0.0003070831298828125, 0.002288818359375, 0.000949859619140625, 0.015869140625]}\n",
       "    )\n",
       "    </script>"
      ],
      "text/plain": [
       "<circuitsvis.utils.render.RenderedHTML at 0x7fa4a049c210>"
      ]
     },
     "metadata": {},
     "output_type": "display_data"
    },
    {
     "name": "stdout",
     "output_type": "stream",
     "text": [
      "2025-08-01 14:45:55 __main__ INFO     Layer: 42, Head: 30\n"
     ]
    },
    {
     "data": {
      "text/html": [
       "<div id=\"circuits-vis-03bfd5bc-4b27\" style=\"margin: 15px 0;\"/>\n",
       "    <script crossorigin type=\"module\">\n",
       "    import { render, ColoredTokens } from \"https://unpkg.com/circuitsvis@1.43.3/dist/cdn/esm.js\";\n",
       "    render(\n",
       "      \"circuits-vis-03bfd5bc-4b27\",\n",
       "      ColoredTokens,\n",
       "      {\"tokens\": [\"Which\", \" of\", \" these\", \" people\", \" is\", \" a\", \" politician\", \" or\", \" a\", \" scientist\", \"?\\n\", \"options\", \":\", \" Michael\", \" Jordan\", \",\", \" Serena\", \" Williams\", \",\", \" Nikki\", \" Haley\", \",\", \" Mike\", \" Tyson\", \",\", \" Carl\", \" S\", \"agan\", \",\", \" Tom\", \" Cruise\", \"\\n\", \"Answer\", \":\"], \"values\": [0.007171630859375, 0.0010833740234375, 0.0011138916015625, 0.0028533935546875, 0.0034332275390625, 0.00604248046875, 0.0089111328125, 0.00927734375, 0.004486083984375, 0.02099609375, 0.006927490234375, 0.00046539306640625, 0.0023651123046875, 0.006622314453125, 0.0047607421875, 0.004486083984375, 0.003082275390625, 0.0068359375, 0.00823974609375, 0.045166015625, 0.34765625, 0.056884765625, 0.0068359375, 0.0017852783203125, 0.005859375, 0.01611328125, 0.0186767578125, 0.064453125, 0.0260009765625, 0.002044677734375, 0.00104522705078125, 0.00653076171875, 0.000720977783203125, 0.0067138671875]}\n",
       "    )\n",
       "    </script>"
      ],
      "text/plain": [
       "<circuitsvis.utils.render.RenderedHTML at 0x7fa567ee7750>"
      ]
     },
     "metadata": {},
     "output_type": "display_data"
    },
    {
     "name": "stdout",
     "output_type": "stream",
     "text": [
      "2025-08-01 14:45:55 __main__ INFO     Layer: 47, Head: 18\n"
     ]
    },
    {
     "data": {
      "text/html": [
       "<div id=\"circuits-vis-5362b9fa-db75\" style=\"margin: 15px 0;\"/>\n",
       "    <script crossorigin type=\"module\">\n",
       "    import { render, ColoredTokens } from \"https://unpkg.com/circuitsvis@1.43.3/dist/cdn/esm.js\";\n",
       "    render(\n",
       "      \"circuits-vis-5362b9fa-db75\",\n",
       "      ColoredTokens,\n",
       "      {\"tokens\": [\"Which\", \" of\", \" these\", \" people\", \" is\", \" a\", \" politician\", \" or\", \" a\", \" scientist\", \"?\\n\", \"options\", \":\", \" Michael\", \" Jordan\", \",\", \" Serena\", \" Williams\", \",\", \" Nikki\", \" Haley\", \",\", \" Mike\", \" Tyson\", \",\", \" Carl\", \" S\", \"agan\", \",\", \" Tom\", \" Cruise\", \"\\n\", \"Answer\", \":\"], \"values\": [0.00634765625, 0.0020599365234375, 0.0004444122314453125, 0.000537872314453125, 0.005645751953125, 0.007537841796875, 0.004425048828125, 0.02587890625, 0.007080078125, 0.007080078125, 0.01275634765625, 0.00014495849609375, 0.00518798828125, 0.000858306884765625, 0.000335693359375, 0.007293701171875, 0.0003147125244140625, 7.963180541992188e-05, 0.01318359375, 0.375, 0.0849609375, 0.1455078125, 0.00141143798828125, 4.982948303222656e-05, 0.006011962890625, 0.0302734375, 0.0289306640625, 0.0140380859375, 0.045654296875, 0.0006561279296875, 7.963180541992188e-05, 0.008056640625, 0.00099945068359375, 0.0111083984375]}\n",
       "    )\n",
       "    </script>"
      ],
      "text/plain": [
       "<circuitsvis.utils.render.RenderedHTML at 0x7fa4c037a610>"
      ]
     },
     "metadata": {},
     "output_type": "display_data"
    },
    {
     "name": "stdout",
     "output_type": "stream",
     "text": [
      "2025-08-01 14:45:55 __main__ INFO     Layer: 52, Head: 58\n"
     ]
    },
    {
     "data": {
      "text/html": [
       "<div id=\"circuits-vis-cfe679c3-461e\" style=\"margin: 15px 0;\"/>\n",
       "    <script crossorigin type=\"module\">\n",
       "    import { render, ColoredTokens } from \"https://unpkg.com/circuitsvis@1.43.3/dist/cdn/esm.js\";\n",
       "    render(\n",
       "      \"circuits-vis-cfe679c3-461e\",\n",
       "      ColoredTokens,\n",
       "      {\"tokens\": [\"Which\", \" of\", \" these\", \" people\", \" is\", \" a\", \" politician\", \" or\", \" a\", \" scientist\", \"?\\n\", \"options\", \":\", \" Michael\", \" Jordan\", \",\", \" Serena\", \" Williams\", \",\", \" Nikki\", \" Haley\", \",\", \" Mike\", \" Tyson\", \",\", \" Carl\", \" S\", \"agan\", \",\", \" Tom\", \" Cruise\", \"\\n\", \"Answer\", \":\"], \"values\": [0.005615234375, 0.000637054443359375, 0.00015926361083984375, 0.00023174285888671875, 0.001312255859375, 0.003509521484375, 0.00457763671875, 0.01422119140625, 0.0036163330078125, 0.017822265625, 0.00182342529296875, 1.1861324310302734e-05, 0.001251220703125, 0.00077056884765625, 0.001739501953125, 0.0031890869140625, 0.0001163482666015625, 0.0001163482666015625, 0.00555419921875, 0.061767578125, 0.330078125, 0.054443359375, 0.00041961669921875, 0.0001163482666015625, 0.0037994384765625, 0.0380859375, 0.047119140625, 0.1943359375, 0.017333984375, 0.0001316070556640625, 0.0001277923583984375, 0.002227783203125, 0.00019741058349609375, 0.01373291015625]}\n",
       "    )\n",
       "    </script>"
      ],
      "text/plain": [
       "<circuitsvis.utils.render.RenderedHTML at 0x7fa4c030ff90>"
      ]
     },
     "metadata": {},
     "output_type": "display_data"
    },
    {
     "data": {
      "text/plain": [
       "[PredictedToken(token=' Nikki', prob=0.85546875, logit=20.625, token_id=70207, metadata=None),\n",
       " PredictedToken(token=' Carl', prob=0.04833984375, logit=17.75, token_id=22770, metadata=None),\n",
       " PredictedToken(token=' The', prob=0.0157470703125, logit=16.625, token_id=578, metadata=None),\n",
       " PredictedToken(token=' ', prob=0.007415771484375, logit=15.875, token_id=220, metadata=None),\n",
       " PredictedToken(token=' Polit', prob=0.0069580078125, logit=15.8125, token_id=16307, metadata=None)]"
      ]
     },
     "execution_count": 36,
     "metadata": {},
     "output_type": "execute_result"
    }
   ],
   "source": [
    "verify_ind = verify_head_patterns(\n",
    "    prompt=prompt,\n",
    "    options=options,\n",
    "    pivot=\"politician or scientist\",\n",
    "    mt=mt,\n",
    "    value_weighted=False,\n",
    "    generate_full_answer=False,\n",
    "    ablate_possible_ans_info_from_options=True,\n",
    ")\n",
    "verify_ind[\"predictions\"]"
   ]
  },
  {
   "cell_type": "code",
   "execution_count": 40,
   "id": "60e64440",
   "metadata": {},
   "outputs": [
    {
     "name": "stdout",
     "output_type": "stream",
     "text": [
      "46, 57, 55, 62, 39\n",
      "Which of these numbers is a multiple of 3?\n",
      "Ans:\n",
      "2025-08-01 14:48:36 __main__ DEBUG    Generated full answer: \" 57\n",
      "Explanation: 57 is a multiple of 3. \n",
      "A number is a multiple of 3 if the sum of its digits is\"\n",
      "2025-08-01 14:48:36 __main__ DEBUG    Predictions: ['\" \"[220] (p=0.809, logit=19.500)', '\" The\"[578] (p=0.031, logit=16.250)', '\" A\"[362] (p=0.031, logit=16.250)', '\" To\"[2057] (p=0.015, logit=15.500)', '\" All\"[2052] (p=0.007, logit=14.750)']\n",
      "layer=35\n"
     ]
    },
    {
     "data": {
      "text/html": [
       "<div id=\"circuits-vis-aeb6d70b-e83a\" style=\"margin: 15px 0;\"/>\n",
       "    <script crossorigin type=\"module\">\n",
       "    import { render, ColoredTokens } from \"https://unpkg.com/circuitsvis@1.43.3/dist/cdn/esm.js\";\n",
       "    render(\n",
       "      \"circuits-vis-aeb6d70b-e83a\",\n",
       "      ColoredTokens,\n",
       "      {\"tokens\": [\"46\", \",\", \" \", \"57\", \",\", \" \", \"55\", \",\", \" \", \"62\", \",\", \" \", \"39\", \"\\n\", \"Which\", \" of\", \" these\", \" numbers\", \" is\", \" a\", \" multiple\", \" of\", \" \", \"3\", \"?\\n\", \"Ans\", \":\"], \"values\": [0.020936012268066406, 0.0042772311717271805, 0.005291273817420006, 0.009633220732212067, 0.0065942369401454926, 0.014466390013694763, 0.014481157064437866, 0.011054590344429016, 0.0066323429346084595, 0.013852978125214577, 0.0036186613142490387, 0.006439812481403351, 0.0183182954788208, 0.013253450393676758, 0.012309610843658447, 0.005243590101599693, 0.013203054666519165, 0.010243862867355347, 0.014209836721420288, 0.010763004422187805, 0.022098958492279053, 0.011514425277709961, 0.0064150989055633545, 0.07556605339050293, 0.04688870906829834, 0.014485269784927368, 0.03219318389892578]}\n",
       "    )\n",
       "    </script>"
      ],
      "text/plain": [
       "<circuitsvis.utils.render.RenderedHTML at 0x7fa5001395d0>"
      ]
     },
     "metadata": {},
     "output_type": "display_data"
    },
    {
     "name": "stdout",
     "output_type": "stream",
     "text": [
      "--------------------------------------------------------------------------------\n",
      "layer=47\n"
     ]
    },
    {
     "data": {
      "text/html": [
       "<div id=\"circuits-vis-7b398b8b-8901\" style=\"margin: 15px 0;\"/>\n",
       "    <script crossorigin type=\"module\">\n",
       "    import { render, ColoredTokens } from \"https://unpkg.com/circuitsvis@1.43.3/dist/cdn/esm.js\";\n",
       "    render(\n",
       "      \"circuits-vis-7b398b8b-8901\",\n",
       "      ColoredTokens,\n",
       "      {\"tokens\": [\"46\", \",\", \" \", \"57\", \",\", \" \", \"55\", \",\", \" \", \"62\", \",\", \" \", \"39\", \"\\n\", \"Which\", \" of\", \" these\", \" numbers\", \" is\", \" a\", \" multiple\", \" of\", \" \", \"3\", \"?\\n\", \"Ans\", \":\"], \"values\": [0.0033069103956222534, 0.0016630562022328377, 0.000983675941824913, 0.003609517589211464, 0.0010223109275102615, 0.0014734640717506409, 0.0036648744717240334, 0.0012367023155093193, 0.0009124018251895905, 0.0022065285593271255, 0.0004894458688795567, 0.0009731203317642212, 0.00198967382311821, 0.0025768131017684937, 0.0017267018556594849, 0.0012391433119773865, 0.00116652250289917, 0.0025852322578430176, 0.0007695406675338745, 0.0006675608456134796, 0.003120213747024536, 0.0008134078234434128, 0.0007419325411319733, 0.002306722104549408, 0.004877656698226929, 0.008894681930541992, 0.0038014650344848633]}\n",
       "    )\n",
       "    </script>"
      ],
      "text/plain": [
       "<circuitsvis.utils.render.RenderedHTML at 0x7fa4e021ef10>"
      ]
     },
     "metadata": {},
     "output_type": "display_data"
    },
    {
     "name": "stdout",
     "output_type": "stream",
     "text": [
      "--------------------------------------------------------------------------------\n",
      "layer=52\n"
     ]
    },
    {
     "data": {
      "text/html": [
       "<div id=\"circuits-vis-4afeadf7-aff9\" style=\"margin: 15px 0;\"/>\n",
       "    <script crossorigin type=\"module\">\n",
       "    import { render, ColoredTokens } from \"https://unpkg.com/circuitsvis@1.43.3/dist/cdn/esm.js\";\n",
       "    render(\n",
       "      \"circuits-vis-4afeadf7-aff9\",\n",
       "      ColoredTokens,\n",
       "      {\"tokens\": [\"46\", \",\", \" \", \"57\", \",\", \" \", \"55\", \",\", \" \", \"62\", \",\", \" \", \"39\", \"\\n\", \"Which\", \" of\", \" these\", \" numbers\", \" is\", \" a\", \" multiple\", \" of\", \" \", \"3\", \"?\\n\", \"Ans\", \":\"], \"values\": [0.006629258394241333, 0.004745650105178356, 0.002492339350283146, 0.007926858961582184, 0.0025897715240716934, 0.0017779208719730377, 0.008083997294306755, 0.0024931766092777252, 0.001577034592628479, 0.0044067418202757835, 0.0009911605156958103, 0.0015297532081604004, 0.004487666301429272, 0.01289445161819458, 0.007093261927366257, 0.002973731607198715, 0.0023773498833179474, 0.0050757043063640594, 0.002086321823298931, 0.0020080674439668655, 0.004474075511097908, 0.0017484929412603378, 0.0014082416892051697, 0.007260285317897797, 0.0188540518283844, 0.016879960894584656, 0.01395837590098381]}\n",
       "    )\n",
       "    </script>"
      ],
      "text/plain": [
       "<circuitsvis.utils.render.RenderedHTML at 0x7fa4c04f4410>"
      ]
     },
     "metadata": {},
     "output_type": "display_data"
    },
    {
     "name": "stdout",
     "output_type": "stream",
     "text": [
      "--------------------------------------------------------------------------------\n",
      "======================================================================\n",
      "2025-08-01 14:48:36 __main__ INFO     Layer: 33, Head: 45\n"
     ]
    },
    {
     "data": {
      "text/html": [
       "<div id=\"circuits-vis-feea4e65-fc86\" style=\"margin: 15px 0;\"/>\n",
       "    <script crossorigin type=\"module\">\n",
       "    import { render, ColoredTokens } from \"https://unpkg.com/circuitsvis@1.43.3/dist/cdn/esm.js\";\n",
       "    render(\n",
       "      \"circuits-vis-feea4e65-fc86\",\n",
       "      ColoredTokens,\n",
       "      {\"tokens\": [\"46\", \",\", \" \", \"57\", \",\", \" \", \"55\", \",\", \" \", \"62\", \",\", \" \", \"39\", \"\\n\", \"Which\", \" of\", \" these\", \" numbers\", \" is\", \" a\", \" multiple\", \" of\", \" \", \"3\", \"?\\n\", \"Ans\", \":\"], \"values\": [0.025146484375, 0.00604248046875, 0.0030059814453125, 0.023193359375, 0.007781982421875, 0.018310546875, 0.1123046875, 0.0230712890625, 0.0279541015625, 0.03271484375, 0.004638671875, 0.0169677734375, 0.04638671875, 0.00665283203125, 0.01165771484375, 0.0040283203125, 0.0084228515625, 0.018310546875, 0.01080322265625, 0.01544189453125, 0.0072021484375, 0.01007080078125, 0.01214599609375, 0.045166015625, 0.013427734375, 0.004364013671875, 0.01806640625]}\n",
       "    )\n",
       "    </script>"
      ],
      "text/plain": [
       "<circuitsvis.utils.render.RenderedHTML at 0x7fa4e042d410>"
      ]
     },
     "metadata": {},
     "output_type": "display_data"
    },
    {
     "name": "stdout",
     "output_type": "stream",
     "text": [
      "2025-08-01 14:48:36 __main__ INFO     Layer: 33, Head: 18\n"
     ]
    },
    {
     "data": {
      "text/html": [
       "<div id=\"circuits-vis-d98692cb-ecb7\" style=\"margin: 15px 0;\"/>\n",
       "    <script crossorigin type=\"module\">\n",
       "    import { render, ColoredTokens } from \"https://unpkg.com/circuitsvis@1.43.3/dist/cdn/esm.js\";\n",
       "    render(\n",
       "      \"circuits-vis-d98692cb-ecb7\",\n",
       "      ColoredTokens,\n",
       "      {\"tokens\": [\"46\", \",\", \" \", \"57\", \",\", \" \", \"55\", \",\", \" \", \"62\", \",\", \" \", \"39\", \"\\n\", \"Which\", \" of\", \" these\", \" numbers\", \" is\", \" a\", \" multiple\", \" of\", \" \", \"3\", \"?\\n\", \"Ans\", \":\"], \"values\": [0.01806640625, 0.0203857421875, 0.033203125, 0.06689453125, 0.03662109375, 0.0732421875, 0.1904296875, 0.060791015625, 0.039306640625, 0.03125, 0.0159912109375, 0.02783203125, 0.0458984375, 0.0301513671875, 0.01953125, 0.00138092041015625, 0.02294921875, 0.02783203125, 0.01019287109375, 0.0123291015625, 0.00439453125, 0.004150390625, 0.0032958984375, 0.01220703125, 0.0035858154296875, 0.0001678466796875, 0.00118255615234375]}\n",
       "    )\n",
       "    </script>"
      ],
      "text/plain": [
       "<circuitsvis.utils.render.RenderedHTML at 0x7fa567994b90>"
      ]
     },
     "metadata": {},
     "output_type": "display_data"
    },
    {
     "name": "stdout",
     "output_type": "stream",
     "text": [
      "2025-08-01 14:48:36 __main__ INFO     Layer: 34, Head: 1\n"
     ]
    },
    {
     "data": {
      "text/html": [
       "<div id=\"circuits-vis-5307e899-7b44\" style=\"margin: 15px 0;\"/>\n",
       "    <script crossorigin type=\"module\">\n",
       "    import { render, ColoredTokens } from \"https://unpkg.com/circuitsvis@1.43.3/dist/cdn/esm.js\";\n",
       "    render(\n",
       "      \"circuits-vis-5307e899-7b44\",\n",
       "      ColoredTokens,\n",
       "      {\"tokens\": [\"46\", \",\", \" \", \"57\", \",\", \" \", \"55\", \",\", \" \", \"62\", \",\", \" \", \"39\", \"\\n\", \"Which\", \" of\", \" these\", \" numbers\", \" is\", \" a\", \" multiple\", \" of\", \" \", \"3\", \"?\\n\", \"Ans\", \":\"], \"values\": [0.0240478515625, 0.00927734375, 0.00848388671875, 0.03564453125, 0.0291748046875, 0.041748046875, 0.07080078125, 0.047607421875, 0.017822265625, 0.0172119140625, 0.016357421875, 0.0179443359375, 0.04345703125, 0.019775390625, 0.033203125, 0.0029144287109375, 0.0257568359375, 0.03173828125, 0.01904296875, 0.021240234375, 0.00811767578125, 0.006622314453125, 0.00811767578125, 0.0255126953125, 0.016357421875, 0.001739501953125, 0.0181884765625]}\n",
       "    )\n",
       "    </script>"
      ],
      "text/plain": [
       "<circuitsvis.utils.render.RenderedHTML at 0x7fa567994b90>"
      ]
     },
     "metadata": {},
     "output_type": "display_data"
    },
    {
     "name": "stdout",
     "output_type": "stream",
     "text": [
      "2025-08-01 14:48:37 __main__ INFO     Layer: 34, Head: 6\n"
     ]
    },
    {
     "data": {
      "text/html": [
       "<div id=\"circuits-vis-4659db1d-84b4\" style=\"margin: 15px 0;\"/>\n",
       "    <script crossorigin type=\"module\">\n",
       "    import { render, ColoredTokens } from \"https://unpkg.com/circuitsvis@1.43.3/dist/cdn/esm.js\";\n",
       "    render(\n",
       "      \"circuits-vis-4659db1d-84b4\",\n",
       "      ColoredTokens,\n",
       "      {\"tokens\": [\"46\", \",\", \" \", \"57\", \",\", \" \", \"55\", \",\", \" \", \"62\", \",\", \" \", \"39\", \"\\n\", \"Which\", \" of\", \" these\", \" numbers\", \" is\", \" a\", \" multiple\", \" of\", \" \", \"3\", \"?\\n\", \"Ans\", \":\"], \"values\": [0.0289306640625, 0.007720947265625, 0.008056640625, 0.033935546875, 0.0208740234375, 0.05078125, 0.0849609375, 0.04248046875, 0.0380859375, 0.0244140625, 0.0135498046875, 0.0245361328125, 0.0361328125, 0.016357421875, 0.024169921875, 0.00128936767578125, 0.021484375, 0.0240478515625, 0.0108642578125, 0.0216064453125, 0.0026092529296875, 0.0028076171875, 0.0067138671875, 0.00872802734375, 0.00848388671875, 0.0010528564453125, 0.023681640625]}\n",
       "    )\n",
       "    </script>"
      ],
      "text/plain": [
       "<circuitsvis.utils.render.RenderedHTML at 0x7fa567ed6f50>"
      ]
     },
     "metadata": {},
     "output_type": "display_data"
    },
    {
     "name": "stdout",
     "output_type": "stream",
     "text": [
      "2025-08-01 14:48:37 __main__ INFO     Layer: 34, Head: 7\n"
     ]
    },
    {
     "data": {
      "text/html": [
       "<div id=\"circuits-vis-2af408cc-7da1\" style=\"margin: 15px 0;\"/>\n",
       "    <script crossorigin type=\"module\">\n",
       "    import { render, ColoredTokens } from \"https://unpkg.com/circuitsvis@1.43.3/dist/cdn/esm.js\";\n",
       "    render(\n",
       "      \"circuits-vis-2af408cc-7da1\",\n",
       "      ColoredTokens,\n",
       "      {\"tokens\": [\"46\", \",\", \" \", \"57\", \",\", \" \", \"55\", \",\", \" \", \"62\", \",\", \" \", \"39\", \"\\n\", \"Which\", \" of\", \" these\", \" numbers\", \" is\", \" a\", \" multiple\", \" of\", \" \", \"3\", \"?\\n\", \"Ans\", \":\"], \"values\": [0.04296875, 0.00408935546875, 0.00311279296875, 0.010498046875, 0.009033203125, 0.0205078125, 0.0303955078125, 0.025146484375, 0.0096435546875, 0.0191650390625, 0.0113525390625, 0.01092529296875, 0.0595703125, 0.0242919921875, 0.060546875, 0.00262451171875, 0.09765625, 0.0693359375, 0.0291748046875, 0.031005859375, 0.0098876953125, 0.01007080078125, 0.0137939453125, 0.0869140625, 0.058349609375, 0.002838134765625, 0.041259765625]}\n",
       "    )\n",
       "    </script>"
      ],
      "text/plain": [
       "<circuitsvis.utils.render.RenderedHTML at 0x7fa567ed6f50>"
      ]
     },
     "metadata": {},
     "output_type": "display_data"
    },
    {
     "name": "stdout",
     "output_type": "stream",
     "text": [
      "2025-08-01 14:48:37 __main__ INFO     Layer: 35, Head: 19\n"
     ]
    },
    {
     "data": {
      "text/html": [
       "<div id=\"circuits-vis-73ef0510-2a34\" style=\"margin: 15px 0;\"/>\n",
       "    <script crossorigin type=\"module\">\n",
       "    import { render, ColoredTokens } from \"https://unpkg.com/circuitsvis@1.43.3/dist/cdn/esm.js\";\n",
       "    render(\n",
       "      \"circuits-vis-73ef0510-2a34\",\n",
       "      ColoredTokens,\n",
       "      {\"tokens\": [\"46\", \",\", \" \", \"57\", \",\", \" \", \"55\", \",\", \" \", \"62\", \",\", \" \", \"39\", \"\\n\", \"Which\", \" of\", \" these\", \" numbers\", \" is\", \" a\", \" multiple\", \" of\", \" \", \"3\", \"?\\n\", \"Ans\", \":\"], \"values\": [0.006683349609375, 0.004425048828125, 0.01104736328125, 0.033447265625, 0.034423828125, 0.10302734375, 0.154296875, 0.06982421875, 0.031494140625, 0.1591796875, 0.033447265625, 0.043701171875, 0.2216796875, 0.01123046875, 0.0024566650390625, 5.602836608886719e-05, 0.0020904541015625, 0.00604248046875, 0.000308990478515625, 0.00390625, 0.0007171630859375, 0.00043487548828125, 0.00109100341796875, 0.00250244140625, 0.00078582763671875, 0.00011157989501953125, 0.00055694580078125]}\n",
       "    )\n",
       "    </script>"
      ],
      "text/plain": [
       "<circuitsvis.utils.render.RenderedHTML at 0x7fa4e00fe5d0>"
      ]
     },
     "metadata": {},
     "output_type": "display_data"
    },
    {
     "name": "stdout",
     "output_type": "stream",
     "text": [
      "2025-08-01 14:48:37 __main__ INFO     Layer: 39, Head: 40\n"
     ]
    },
    {
     "data": {
      "text/html": [
       "<div id=\"circuits-vis-5b74b68f-8ce9\" style=\"margin: 15px 0;\"/>\n",
       "    <script crossorigin type=\"module\">\n",
       "    import { render, ColoredTokens } from \"https://unpkg.com/circuitsvis@1.43.3/dist/cdn/esm.js\";\n",
       "    render(\n",
       "      \"circuits-vis-5b74b68f-8ce9\",\n",
       "      ColoredTokens,\n",
       "      {\"tokens\": [\"46\", \",\", \" \", \"57\", \",\", \" \", \"55\", \",\", \" \", \"62\", \",\", \" \", \"39\", \"\\n\", \"Which\", \" of\", \" these\", \" numbers\", \" is\", \" a\", \" multiple\", \" of\", \" \", \"3\", \"?\\n\", \"Ans\", \":\"], \"values\": [0.0240478515625, 0.011474609375, 0.036376953125, 0.0247802734375, 0.050048828125, 0.060546875, 0.08984375, 0.0712890625, 0.0230712890625, 0.054443359375, 0.0174560546875, 0.0234375, 0.05224609375, 0.045654296875, 0.017578125, 0.00506591796875, 0.006805419921875, 0.01165771484375, 0.01708984375, 0.0181884765625, 0.0072021484375, 0.01019287109375, 0.007293701171875, 0.00848388671875, 0.07421875, 0.005126953125, 0.05615234375]}\n",
       "    )\n",
       "    </script>"
      ],
      "text/plain": [
       "<circuitsvis.utils.render.RenderedHTML at 0x7fa5400f1ad0>"
      ]
     },
     "metadata": {},
     "output_type": "display_data"
    },
    {
     "name": "stdout",
     "output_type": "stream",
     "text": [
      "2025-08-01 14:48:37 __main__ INFO     Layer: 42, Head: 30\n"
     ]
    },
    {
     "data": {
      "text/html": [
       "<div id=\"circuits-vis-5194b30c-c5bb\" style=\"margin: 15px 0;\"/>\n",
       "    <script crossorigin type=\"module\">\n",
       "    import { render, ColoredTokens } from \"https://unpkg.com/circuitsvis@1.43.3/dist/cdn/esm.js\";\n",
       "    render(\n",
       "      \"circuits-vis-5194b30c-c5bb\",\n",
       "      ColoredTokens,\n",
       "      {\"tokens\": [\"46\", \",\", \" \", \"57\", \",\", \" \", \"55\", \",\", \" \", \"62\", \",\", \" \", \"39\", \"\\n\", \"Which\", \" of\", \" these\", \" numbers\", \" is\", \" a\", \" multiple\", \" of\", \" \", \"3\", \"?\\n\", \"Ans\", \":\"], \"values\": [0.011962890625, 0.00592041015625, 0.004669189453125, 0.01141357421875, 0.0047607421875, 0.012939453125, 0.0196533203125, 0.003875732421875, 0.00445556640625, 0.0089111328125, 0.00167083740234375, 0.00421142578125, 0.01025390625, 0.014892578125, 0.00958251953125, 0.0025787353515625, 0.0107421875, 0.016357421875, 0.00531005859375, 0.005462646484375, 0.0218505859375, 0.00726318359375, 0.0036468505859375, 0.039306640625, 0.007598876953125, 0.00167083740234375, 0.0037689208984375]}\n",
       "    )\n",
       "    </script>"
      ],
      "text/plain": [
       "<circuitsvis.utils.render.RenderedHTML at 0x7fa4e042d410>"
      ]
     },
     "metadata": {},
     "output_type": "display_data"
    },
    {
     "name": "stdout",
     "output_type": "stream",
     "text": [
      "2025-08-01 14:48:37 __main__ INFO     Layer: 47, Head: 18\n"
     ]
    },
    {
     "data": {
      "text/html": [
       "<div id=\"circuits-vis-a2e4d8cb-d3e0\" style=\"margin: 15px 0;\"/>\n",
       "    <script crossorigin type=\"module\">\n",
       "    import { render, ColoredTokens } from \"https://unpkg.com/circuitsvis@1.43.3/dist/cdn/esm.js\";\n",
       "    render(\n",
       "      \"circuits-vis-a2e4d8cb-d3e0\",\n",
       "      ColoredTokens,\n",
       "      {\"tokens\": [\"46\", \",\", \" \", \"57\", \",\", \" \", \"55\", \",\", \" \", \"62\", \",\", \" \", \"39\", \"\\n\", \"Which\", \" of\", \" these\", \" numbers\", \" is\", \" a\", \" multiple\", \" of\", \" \", \"3\", \"?\\n\", \"Ans\", \":\"], \"values\": [0.0272216796875, 0.033935546875, 0.015869140625, 0.107421875, 0.0198974609375, 0.0260009765625, 0.11181640625, 0.021728515625, 0.013916015625, 0.04541015625, 0.00994873046875, 0.015625, 0.0478515625, 0.0240478515625, 0.0169677734375, 0.0023193359375, 0.009765625, 0.05126953125, 0.005645751953125, 0.005645751953125, 0.00994873046875, 0.004150390625, 0.006103515625, 0.013916015625, 0.0089111328125, 0.0013885498046875, 0.0067138671875]}\n",
       "    )\n",
       "    </script>"
      ],
      "text/plain": [
       "<circuitsvis.utils.render.RenderedHTML at 0x7fa567ed7090>"
      ]
     },
     "metadata": {},
     "output_type": "display_data"
    },
    {
     "name": "stdout",
     "output_type": "stream",
     "text": [
      "2025-08-01 14:48:37 __main__ INFO     Layer: 52, Head: 58\n"
     ]
    },
    {
     "data": {
      "text/html": [
       "<div id=\"circuits-vis-50b72d86-fb2f\" style=\"margin: 15px 0;\"/>\n",
       "    <script crossorigin type=\"module\">\n",
       "    import { render, ColoredTokens } from \"https://unpkg.com/circuitsvis@1.43.3/dist/cdn/esm.js\";\n",
       "    render(\n",
       "      \"circuits-vis-50b72d86-fb2f\",\n",
       "      ColoredTokens,\n",
       "      {\"tokens\": [\"46\", \",\", \" \", \"57\", \",\", \" \", \"55\", \",\", \" \", \"62\", \",\", \" \", \"39\", \"\\n\", \"Which\", \" of\", \" these\", \" numbers\", \" is\", \" a\", \" multiple\", \" of\", \" \", \"3\", \"?\\n\", \"Ans\", \":\"], \"values\": [0.02294921875, 0.020263671875, 0.006378173828125, 0.09423828125, 0.026611328125, 0.0159912109375, 0.1728515625, 0.0213623046875, 0.0076904296875, 0.087890625, 0.006591796875, 0.003875732421875, 0.06201171875, 0.01104736328125, 0.005218505859375, 0.00213623046875, 0.00555419921875, 0.01953125, 0.005462646484375, 0.008056640625, 0.01373291015625, 0.006805419921875, 0.0048828125, 0.01446533203125, 0.00445556640625, 0.0016937255859375, 0.004730224609375]}\n",
       "    )\n",
       "    </script>"
      ],
      "text/plain": [
       "<circuitsvis.utils.render.RenderedHTML at 0x7fa567ed6f50>"
      ]
     },
     "metadata": {},
     "output_type": "display_data"
    },
    {
     "data": {
      "text/plain": [
       "[PredictedToken(token=' ', prob=0.80859375, logit=19.5, token_id=220, metadata=None),\n",
       " PredictedToken(token=' The', prob=0.03125, logit=16.25, token_id=578, metadata=None),\n",
       " PredictedToken(token=' A', prob=0.03125, logit=16.25, token_id=362, metadata=None),\n",
       " PredictedToken(token=' To', prob=0.0147705078125, logit=15.5, token_id=2057, metadata=None),\n",
       " PredictedToken(token=' All', prob=0.006988525390625, logit=14.75, token_id=2052, metadata=None)]"
      ]
     },
     "execution_count": 40,
     "metadata": {},
     "output_type": "execute_result"
    }
   ],
   "source": [
    "options = [\"46\", \"57\", \"55\", \"62\", \"39\"]\n",
    "# prompt_template = \"\"\"Which of these numbers is a multiple of 3?\n",
    "# options: {}\n",
    "# Answer:\"\"\"\n",
    "\n",
    "prompt_template = \"\"\"{}\n",
    "Which of these numbers is a multiple of 3?\n",
    "Ans:\"\"\"\n",
    "\n",
    "prompt = prompt_template.format(\n",
    "    \", \".join(options)\n",
    ")\n",
    "print(prompt)\n",
    "\n",
    "verify = verify_head_patterns(\n",
    "    prompt=prompt,\n",
    "    options=options,\n",
    "    pivot=\"multiple of 3\",\n",
    "    mt=mt,\n",
    "    value_weighted=False,\n",
    "    generate_full_answer=True,\n",
    ")\n",
    "verify[\"predictions\"]"
   ]
  },
  {
   "cell_type": "code",
   "execution_count": 41,
   "id": "cdc6ef8d",
   "metadata": {},
   "outputs": [],
   "source": [
    "# verify_ind = verify_head_patterns(\n",
    "#     prompt=prompt,\n",
    "#     options=options,\n",
    "#     pivot=\"politician or scientist\",\n",
    "#     mt=mt,\n",
    "#     value_weighted=False,\n",
    "#     generate_full_answer=False,\n",
    "#     ablate_possible_ans_info_from_options=True,\n",
    "# )\n",
    "# verify_ind[\"predictions\"]"
   ]
  },
  {
   "cell_type": "code",
   "execution_count": 42,
   "id": "62f912ca",
   "metadata": {},
   "outputs": [
    {
     "name": "stdout",
     "output_type": "stream",
     "text": [
      "1. Brad Pitt\n",
      "2. Tom Hanks\n",
      "3. Leonardo DiCaprio\n",
      "4. Tom Brady\n",
      "5. Daniel Radcliffe\n",
      "6. Hugh Jackman\n",
      "Which among these people are different from others?\n",
      "Answer:\n",
      "2025-08-01 14:49:18 __main__ DEBUG    Generated full answer: \" Daniel Radcliffe\n",
      "All the other individuals mentioned are known for their work in the film industry, primarily as actors. Daniel Radcliffe is also an actor\"\n",
      "2025-08-01 14:49:18 __main__ DEBUG    Predictions: ['\" Daniel\"[15469] (p=0.367, logit=18.625)', '\" Tom\"[8529] (p=0.324, logit=18.500)', '\" \"[220] (p=0.064, logit=16.875)', '\" Hugh\"[30206] (p=0.056, logit=16.750)', '\" The\"[578] (p=0.025, logit=15.938)']\n",
      "layer=35\n"
     ]
    },
    {
     "data": {
      "text/html": [
       "<div id=\"circuits-vis-ffb6933f-8670\" style=\"margin: 15px 0;\"/>\n",
       "    <script crossorigin type=\"module\">\n",
       "    import { render, ColoredTokens } from \"https://unpkg.com/circuitsvis@1.43.3/dist/cdn/esm.js\";\n",
       "    render(\n",
       "      \"circuits-vis-ffb6933f-8670\",\n",
       "      ColoredTokens,\n",
       "      {\"tokens\": [\"1\", \".\", \" Brad\", \" Pitt\", \"\\n\", \"2\", \".\", \" Tom\", \" H\", \"anks\", \"\\n\", \"3\", \".\", \" Leonardo\", \" Di\", \"Cap\", \"rio\", \"\\n\", \"4\", \".\", \" Tom\", \" Brady\", \"\\n\", \"5\", \".\", \" Daniel\", \" Rad\", \"cliffe\", \"\\n\", \"6\", \".\", \" Hugh\", \" Jack\", \"man\", \"\\n\", \"Which\", \" among\", \" these\", \" people\", \" are\", \" different\", \" from\", \" others\", \"?\\n\", \"Answer\", \":\"], \"values\": [0.02121901512145996, 0.002283625304698944, 0.002341151237487793, 0.008157551288604736, 0.007651954889297485, 0.006372496485710144, 0.006855502724647522, 0.004896275699138641, 0.001104850322008133, 0.01393187791109085, 0.008191391825675964, 0.0016030818223953247, 0.004706043750047684, 0.005280286073684692, 0.0019650645554065704, 0.003913447260856628, 0.004835452884435654, 0.006439372897148132, 0.002572871744632721, 0.00273238867521286, 0.008801963180303574, 0.04842299222946167, 0.03830772638320923, 0.0027088895440101624, 0.005732476711273193, 0.005736310034990311, 0.012628331780433655, 0.021942809224128723, 0.013585902750492096, 0.004759281873703003, 0.006804715842008591, 0.00366814061999321, 0.004190608859062195, 0.006422460079193115, 0.0062149278819561005, 0.010799646377563477, 0.004328712821006775, 0.016840368509292603, 0.00942903757095337, 0.007721126079559326, 0.015759635716676712, 0.004293758422136307, 0.012425370514392853, 0.016077443957328796, 0.008593272417783737, 0.03473871946334839]}\n",
       "    )\n",
       "    </script>"
      ],
      "text/plain": [
       "<circuitsvis.utils.render.RenderedHTML at 0x7fa4c0439d50>"
      ]
     },
     "metadata": {},
     "output_type": "display_data"
    },
    {
     "name": "stdout",
     "output_type": "stream",
     "text": [
      "--------------------------------------------------------------------------------\n",
      "layer=47\n"
     ]
    },
    {
     "data": {
      "text/html": [
       "<div id=\"circuits-vis-59614619-a1da\" style=\"margin: 15px 0;\"/>\n",
       "    <script crossorigin type=\"module\">\n",
       "    import { render, ColoredTokens } from \"https://unpkg.com/circuitsvis@1.43.3/dist/cdn/esm.js\";\n",
       "    render(\n",
       "      \"circuits-vis-59614619-a1da\",\n",
       "      ColoredTokens,\n",
       "      {\"tokens\": [\"1\", \".\", \" Brad\", \" Pitt\", \"\\n\", \"2\", \".\", \" Tom\", \" H\", \"anks\", \"\\n\", \"3\", \".\", \" Leonardo\", \" Di\", \"Cap\", \"rio\", \"\\n\", \"4\", \".\", \" Tom\", \" Brady\", \"\\n\", \"5\", \".\", \" Daniel\", \" Rad\", \"cliffe\", \"\\n\", \"6\", \".\", \" Hugh\", \" Jack\", \"man\", \"\\n\", \"Which\", \" among\", \" these\", \" people\", \" are\", \" different\", \" from\", \" others\", \"?\\n\", \"Answer\", \":\"], \"values\": [0.0020608901977539062, 0.0008914470672607422, 0.0012422166764736176, 0.0017084144055843353, 0.0006272667087614536, 0.0007148804143071175, 0.0009723976254463196, 0.0024728132411837578, 0.0004515848122537136, 0.0006606392562389374, 0.0013842205516994, 0.00037708436138927937, 0.0005767927505075932, 0.0015207622200250626, 0.0004039439372718334, 0.0006447797641158104, 0.0008605332113802433, 0.0011367503320798278, 0.0006581980269402266, 0.0005862009711563587, 0.0034712646156549454, 0.0033852383494377136, 0.006971316412091255, 0.0006853137165307999, 0.0013133008033037186, 0.00602689478546381, 0.002315264195203781, 0.0027814116328954697, 0.002107730135321617, 0.0007641655392944813, 0.0011588362976908684, 0.0012257229536771774, 0.0009177811443805695, 0.0005910890176892281, 0.00039220694452524185, 0.0014643296599388123, 0.0009487774223089218, 0.0009507685899734497, 0.0009455718100070953, 0.000995103269815445, 0.001323789358139038, 0.0006372332572937012, 0.0012346915900707245, 0.005325153470039368, 0.004450581967830658, 0.0030427128076553345]}\n",
       "    )\n",
       "    </script>"
      ],
      "text/plain": [
       "<circuitsvis.utils.render.RenderedHTML at 0x7f832ad064d0>"
      ]
     },
     "metadata": {},
     "output_type": "display_data"
    },
    {
     "name": "stdout",
     "output_type": "stream",
     "text": [
      "--------------------------------------------------------------------------------\n",
      "layer=52\n"
     ]
    },
    {
     "data": {
      "text/html": [
       "<div id=\"circuits-vis-dae7a7c3-9e64\" style=\"margin: 15px 0;\"/>\n",
       "    <script crossorigin type=\"module\">\n",
       "    import { render, ColoredTokens } from \"https://unpkg.com/circuitsvis@1.43.3/dist/cdn/esm.js\";\n",
       "    render(\n",
       "      \"circuits-vis-dae7a7c3-9e64\",\n",
       "      ColoredTokens,\n",
       "      {\"tokens\": [\"1\", \".\", \" Brad\", \" Pitt\", \"\\n\", \"2\", \".\", \" Tom\", \" H\", \"anks\", \"\\n\", \"3\", \".\", \" Leonardo\", \" Di\", \"Cap\", \"rio\", \"\\n\", \"4\", \".\", \" Tom\", \" Brady\", \"\\n\", \"5\", \".\", \" Daniel\", \" Rad\", \"cliffe\", \"\\n\", \"6\", \".\", \" Hugh\", \" Jack\", \"man\", \"\\n\", \"Which\", \" among\", \" these\", \" people\", \" are\", \" different\", \" from\", \" others\", \"?\\n\", \"Answer\", \":\"], \"values\": [0.004307925701141357, 0.0024400949478149414, 0.002847224473953247, 0.0022849999368190765, 0.002343982458114624, 0.0025349371135234833, 0.0022521615028381348, 0.007866542786359787, 0.0006269551813602448, 0.0010001666378229856, 0.0018763542175292969, 0.0009267283603549004, 0.0012984629720449448, 0.005508758127689362, 0.0012419391423463821, 0.0007101264782249928, 0.000833914615213871, 0.00146465003490448, 0.00115513289347291, 0.001119246706366539, 0.010600782930850983, 0.006073342636227608, 0.005530263297259808, 0.0011791270226240158, 0.0019133761525154114, 0.011226385831832886, 0.00495394691824913, 0.0019624028354883194, 0.002831520512700081, 0.0016216766089200974, 0.0017394796013832092, 0.0029388070106506348, 0.000545392744243145, 0.000693359412252903, 0.000824302900582552, 0.005004599690437317, 0.0032233521342277527, 0.002235628664493561, 0.0017843395471572876, 0.0018694140017032623, 0.002126835286617279, 0.0011763684451580048, 0.002519596368074417, 0.012065574526786804, 0.012470759451389313, 0.014391370117664337]}\n",
       "    )\n",
       "    </script>"
      ],
      "text/plain": [
       "<circuitsvis.utils.render.RenderedHTML at 0x7fa4a043cd90>"
      ]
     },
     "metadata": {},
     "output_type": "display_data"
    },
    {
     "name": "stdout",
     "output_type": "stream",
     "text": [
      "--------------------------------------------------------------------------------\n",
      "======================================================================\n",
      "2025-08-01 14:49:18 __main__ INFO     Layer: 33, Head: 45\n"
     ]
    },
    {
     "data": {
      "text/html": [
       "<div id=\"circuits-vis-c8732f9b-d5ef\" style=\"margin: 15px 0;\"/>\n",
       "    <script crossorigin type=\"module\">\n",
       "    import { render, ColoredTokens } from \"https://unpkg.com/circuitsvis@1.43.3/dist/cdn/esm.js\";\n",
       "    render(\n",
       "      \"circuits-vis-c8732f9b-d5ef\",\n",
       "      ColoredTokens,\n",
       "      {\"tokens\": [\"1\", \".\", \" Brad\", \" Pitt\", \"\\n\", \"2\", \".\", \" Tom\", \" H\", \"anks\", \"\\n\", \"3\", \".\", \" Leonardo\", \" Di\", \"Cap\", \"rio\", \"\\n\", \"4\", \".\", \" Tom\", \" Brady\", \"\\n\", \"5\", \".\", \" Daniel\", \" Rad\", \"cliffe\", \"\\n\", \"6\", \".\", \" Hugh\", \" Jack\", \"man\", \"\\n\", \"Which\", \" among\", \" these\", \" people\", \" are\", \" different\", \" from\", \" others\", \"?\\n\", \"Answer\", \":\"], \"values\": [0.0146484375, 0.00092315673828125, 0.003082275390625, 0.0078125, 0.0013427734375, 0.0029449462890625, 0.00421142578125, 0.01458740234375, 0.001190185546875, 0.13671875, 0.01806640625, 0.000804901123046875, 0.007171630859375, 0.00958251953125, 0.00152587890625, 0.00897216796875, 0.00885009765625, 0.0068359375, 0.00130462646484375, 0.0029449462890625, 0.02001953125, 0.2294921875, 0.109375, 0.0026702880859375, 0.0054931640625, 0.01129150390625, 0.05322265625, 0.04931640625, 0.0196533203125, 0.00098419189453125, 0.00604248046875, 0.005889892578125, 0.01171875, 0.0037384033203125, 0.003387451171875, 0.00860595703125, 0.00093841552734375, 0.006561279296875, 0.006622314453125, 0.0025482177734375, 0.01385498046875, 0.000720977783203125, 0.00189971923828125, 0.0029449462890625, 0.00020599365234375, 0.0269775390625]}\n",
       "    )\n",
       "    </script>"
      ],
      "text/plain": [
       "<circuitsvis.utils.render.RenderedHTML at 0x7fa50012a210>"
      ]
     },
     "metadata": {},
     "output_type": "display_data"
    },
    {
     "name": "stdout",
     "output_type": "stream",
     "text": [
      "2025-08-01 14:49:18 __main__ INFO     Layer: 33, Head: 18\n"
     ]
    },
    {
     "data": {
      "text/html": [
       "<div id=\"circuits-vis-303d8f74-7514\" style=\"margin: 15px 0;\"/>\n",
       "    <script crossorigin type=\"module\">\n",
       "    import { render, ColoredTokens } from \"https://unpkg.com/circuitsvis@1.43.3/dist/cdn/esm.js\";\n",
       "    render(\n",
       "      \"circuits-vis-303d8f74-7514\",\n",
       "      ColoredTokens,\n",
       "      {\"tokens\": [\"1\", \".\", \" Brad\", \" Pitt\", \"\\n\", \"2\", \".\", \" Tom\", \" H\", \"anks\", \"\\n\", \"3\", \".\", \" Leonardo\", \" Di\", \"Cap\", \"rio\", \"\\n\", \"4\", \".\", \" Tom\", \" Brady\", \"\\n\", \"5\", \".\", \" Daniel\", \" Rad\", \"cliffe\", \"\\n\", \"6\", \".\", \" Hugh\", \" Jack\", \"man\", \"\\n\", \"Which\", \" among\", \" these\", \" people\", \" are\", \" different\", \" from\", \" others\", \"?\\n\", \"Answer\", \":\"], \"values\": [0.026123046875, 0.000896453857421875, 0.00823974609375, 0.03662109375, 0.01239013671875, 0.00445556640625, 0.01519775390625, 0.04150390625, 0.0021209716796875, 0.07568359375, 0.0267333984375, 0.000804901123046875, 0.005950927734375, 0.0034942626953125, 0.00439453125, 0.0059814453125, 0.0115966796875, 0.0068359375, 0.003082275390625, 0.00311279296875, 0.050537109375, 0.193359375, 0.1552734375, 0.0020904541015625, 0.01080322265625, 0.0203857421875, 0.0093994140625, 0.0302734375, 0.0252685546875, 0.0038909912109375, 0.0062255859375, 0.005584716796875, 0.005523681640625, 0.00897216796875, 0.0029449462890625, 0.00116729736328125, 0.00037384033203125, 0.00164794921875, 0.00677490234375, 0.000644683837890625, 0.0003681182861328125, 4.601478576660156e-05, 0.0001468658447265625, 0.0002727508544921875, 8.869171142578125e-05, 0.003753662109375]}\n",
       "    )\n",
       "    </script>"
      ],
      "text/plain": [
       "<circuitsvis.utils.render.RenderedHTML at 0x7fa4e0369390>"
      ]
     },
     "metadata": {},
     "output_type": "display_data"
    },
    {
     "name": "stdout",
     "output_type": "stream",
     "text": [
      "2025-08-01 14:49:19 __main__ INFO     Layer: 34, Head: 1\n"
     ]
    },
    {
     "data": {
      "text/html": [
       "<div id=\"circuits-vis-a78065b9-4569\" style=\"margin: 15px 0;\"/>\n",
       "    <script crossorigin type=\"module\">\n",
       "    import { render, ColoredTokens } from \"https://unpkg.com/circuitsvis@1.43.3/dist/cdn/esm.js\";\n",
       "    render(\n",
       "      \"circuits-vis-a78065b9-4569\",\n",
       "      ColoredTokens,\n",
       "      {\"tokens\": [\"1\", \".\", \" Brad\", \" Pitt\", \"\\n\", \"2\", \".\", \" Tom\", \" H\", \"anks\", \"\\n\", \"3\", \".\", \" Leonardo\", \" Di\", \"Cap\", \"rio\", \"\\n\", \"4\", \".\", \" Tom\", \" Brady\", \"\\n\", \"5\", \".\", \" Daniel\", \" Rad\", \"cliffe\", \"\\n\", \"6\", \".\", \" Hugh\", \" Jack\", \"man\", \"\\n\", \"Which\", \" among\", \" these\", \" people\", \" are\", \" different\", \" from\", \" others\", \"?\\n\", \"Answer\", \":\"], \"values\": [0.055908203125, 0.003143310546875, 0.0067138671875, 0.003143310546875, 0.003143310546875, 0.0225830078125, 0.00579833984375, 0.00518798828125, 0.0004253387451171875, 0.009033203125, 0.01177978515625, 0.0023345947265625, 0.00335693359375, 0.0034637451171875, 0.0009307861328125, 0.0028228759765625, 0.0029144287109375, 0.004791259765625, 0.01031494140625, 0.0026092529296875, 0.00787353515625, 0.051025390625, 0.10498046875, 0.00616455078125, 0.0036773681640625, 0.0123291015625, 0.017822265625, 0.046142578125, 0.07275390625, 0.0225830078125, 0.00982666015625, 0.0026092529296875, 0.0005645751953125, 0.00060272216796875, 0.002532958984375, 0.01263427734375, 0.0036773681640625, 0.02392578125, 0.00982666015625, 0.00592041015625, 0.003143310546875, 0.0004253387451171875, 0.00148773193359375, 0.0028228759765625, 0.00103759765625, 0.0546875]}\n",
       "    )\n",
       "    </script>"
      ],
      "text/plain": [
       "<circuitsvis.utils.render.RenderedHTML at 0x7fa4e02d6590>"
      ]
     },
     "metadata": {},
     "output_type": "display_data"
    },
    {
     "name": "stdout",
     "output_type": "stream",
     "text": [
      "2025-08-01 14:49:19 __main__ INFO     Layer: 34, Head: 6\n"
     ]
    },
    {
     "data": {
      "text/html": [
       "<div id=\"circuits-vis-e720c947-ad06\" style=\"margin: 15px 0;\"/>\n",
       "    <script crossorigin type=\"module\">\n",
       "    import { render, ColoredTokens } from \"https://unpkg.com/circuitsvis@1.43.3/dist/cdn/esm.js\";\n",
       "    render(\n",
       "      \"circuits-vis-e720c947-ad06\",\n",
       "      ColoredTokens,\n",
       "      {\"tokens\": [\"1\", \".\", \" Brad\", \" Pitt\", \"\\n\", \"2\", \".\", \" Tom\", \" H\", \"anks\", \"\\n\", \"3\", \".\", \" Leonardo\", \" Di\", \"Cap\", \"rio\", \"\\n\", \"4\", \".\", \" Tom\", \" Brady\", \"\\n\", \"5\", \".\", \" Daniel\", \" Rad\", \"cliffe\", \"\\n\", \"6\", \".\", \" Hugh\", \" Jack\", \"man\", \"\\n\", \"Which\", \" among\", \" these\", \" people\", \" are\", \" different\", \" from\", \" others\", \"?\\n\", \"Answer\", \":\"], \"values\": [0.060302734375, 0.003814697265625, 0.01220703125, 0.003753662109375, 0.0035858154296875, 0.0196533203125, 0.006866455078125, 0.007232666015625, 0.00087738037109375, 0.01806640625, 0.01202392578125, 0.00433349609375, 0.006103515625, 0.0031585693359375, 0.0016632080078125, 0.004058837890625, 0.00433349609375, 0.003692626953125, 0.00909423828125, 0.00628662109375, 0.0106201171875, 0.12060546875, 0.07177734375, 0.006195068359375, 0.004608154296875, 0.01312255859375, 0.0556640625, 0.042236328125, 0.0277099609375, 0.00927734375, 0.0145263671875, 0.00194549560546875, 0.0008392333984375, 0.00043487548828125, 0.00131988525390625, 0.0123291015625, 0.004669189453125, 0.0164794921875, 0.004974365234375, 0.009765625, 0.00689697265625, 0.00119781494140625, 0.00250244140625, 0.0031585693359375, 0.00127410888671875, 0.052490234375]}\n",
       "    )\n",
       "    </script>"
      ],
      "text/plain": [
       "<circuitsvis.utils.render.RenderedHTML at 0x7fa5201549d0>"
      ]
     },
     "metadata": {},
     "output_type": "display_data"
    },
    {
     "name": "stdout",
     "output_type": "stream",
     "text": [
      "2025-08-01 14:49:19 __main__ INFO     Layer: 34, Head: 7\n"
     ]
    },
    {
     "data": {
      "text/html": [
       "<div id=\"circuits-vis-f045bb99-00af\" style=\"margin: 15px 0;\"/>\n",
       "    <script crossorigin type=\"module\">\n",
       "    import { render, ColoredTokens } from \"https://unpkg.com/circuitsvis@1.43.3/dist/cdn/esm.js\";\n",
       "    render(\n",
       "      \"circuits-vis-f045bb99-00af\",\n",
       "      ColoredTokens,\n",
       "      {\"tokens\": [\"1\", \".\", \" Brad\", \" Pitt\", \"\\n\", \"2\", \".\", \" Tom\", \" H\", \"anks\", \"\\n\", \"3\", \".\", \" Leonardo\", \" Di\", \"Cap\", \"rio\", \"\\n\", \"4\", \".\", \" Tom\", \" Brady\", \"\\n\", \"5\", \".\", \" Daniel\", \" Rad\", \"cliffe\", \"\\n\", \"6\", \".\", \" Hugh\", \" Jack\", \"man\", \"\\n\", \"Which\", \" among\", \" these\", \" people\", \" are\", \" different\", \" from\", \" others\", \"?\\n\", \"Answer\", \":\"], \"values\": [0.051025390625, 0.000392913818359375, 0.00182342529296875, 0.0024566650390625, 0.00113677978515625, 0.002197265625, 0.00238037109375, 0.002227783203125, 0.00067901611328125, 0.0030059814453125, 0.0030059814453125, 0.00133514404296875, 0.00115966796875, 0.00176239013671875, 0.0024566650390625, 0.0015106201171875, 0.0018463134765625, 0.0024566650390625, 0.0020294189453125, 0.0020904541015625, 0.0089111328125, 0.020263671875, 0.046875, 0.0031890869140625, 0.00408935546875, 0.00787353515625, 0.027587890625, 0.046142578125, 0.06201171875, 0.007720947265625, 0.00982666015625, 0.00482177734375, 0.004547119140625, 0.0059814453125, 0.0106201171875, 0.0390625, 0.00872802734375, 0.1328125, 0.0220947265625, 0.01806640625, 0.0244140625, 0.005523681640625, 0.014404296875, 0.0201416015625, 0.00238037109375, 0.134765625]}\n",
       "    )\n",
       "    </script>"
      ],
      "text/plain": [
       "<circuitsvis.utils.render.RenderedHTML at 0x7fa5001c0150>"
      ]
     },
     "metadata": {},
     "output_type": "display_data"
    },
    {
     "name": "stdout",
     "output_type": "stream",
     "text": [
      "2025-08-01 14:49:19 __main__ INFO     Layer: 35, Head: 19\n"
     ]
    },
    {
     "data": {
      "text/html": [
       "<div id=\"circuits-vis-199a2774-578d\" style=\"margin: 15px 0;\"/>\n",
       "    <script crossorigin type=\"module\">\n",
       "    import { render, ColoredTokens } from \"https://unpkg.com/circuitsvis@1.43.3/dist/cdn/esm.js\";\n",
       "    render(\n",
       "      \"circuits-vis-199a2774-578d\",\n",
       "      ColoredTokens,\n",
       "      {\"tokens\": [\"1\", \".\", \" Brad\", \" Pitt\", \"\\n\", \"2\", \".\", \" Tom\", \" H\", \"anks\", \"\\n\", \"3\", \".\", \" Leonardo\", \" Di\", \"Cap\", \"rio\", \"\\n\", \"4\", \".\", \" Tom\", \" Brady\", \"\\n\", \"5\", \".\", \" Daniel\", \" Rad\", \"cliffe\", \"\\n\", \"6\", \".\", \" Hugh\", \" Jack\", \"man\", \"\\n\", \"Which\", \" among\", \" these\", \" people\", \" are\", \" different\", \" from\", \" others\", \"?\\n\", \"Answer\", \":\"], \"values\": [0.0023651123046875, 4.8160552978515625e-05, 0.000888824462890625, 0.00689697265625, 0.001007080078125, 0.00131988525390625, 0.0042724609375, 0.003936767578125, 0.0002460479736328125, 0.10205078125, 0.010009765625, 0.00021266937255859375, 0.0026397705078125, 0.004119873046875, 0.000667572021484375, 0.00872802734375, 0.01226806640625, 0.00390625, 0.0002231597900390625, 0.000926971435546875, 0.006561279296875, 0.345703125, 0.26953125, 0.0002498626708984375, 0.0026397705078125, 0.001708984375, 0.0546875, 0.07568359375, 0.03369140625, 0.0008544921875, 0.006072998046875, 0.00099945068359375, 0.0013885498046875, 0.00177764892578125, 0.0006866455078125, 0.0029144287109375, 4.38690185546875e-05, 0.004547119140625, 0.000823974609375, 6.29425048828125e-05, 0.00011968612670898438, 7.62939453125e-06, 8.20159912109375e-05, 4.38690185546875e-05, 4.267692565917969e-05, 0.000507354736328125]}\n",
       "    )\n",
       "    </script>"
      ],
      "text/plain": [
       "<circuitsvis.utils.render.RenderedHTML at 0x7fa4c03049d0>"
      ]
     },
     "metadata": {},
     "output_type": "display_data"
    },
    {
     "name": "stdout",
     "output_type": "stream",
     "text": [
      "2025-08-01 14:49:19 __main__ INFO     Layer: 39, Head: 40\n"
     ]
    },
    {
     "data": {
      "text/html": [
       "<div id=\"circuits-vis-9cea2644-5e8d\" style=\"margin: 15px 0;\"/>\n",
       "    <script crossorigin type=\"module\">\n",
       "    import { render, ColoredTokens } from \"https://unpkg.com/circuitsvis@1.43.3/dist/cdn/esm.js\";\n",
       "    render(\n",
       "      \"circuits-vis-9cea2644-5e8d\",\n",
       "      ColoredTokens,\n",
       "      {\"tokens\": [\"1\", \".\", \" Brad\", \" Pitt\", \"\\n\", \"2\", \".\", \" Tom\", \" H\", \"anks\", \"\\n\", \"3\", \".\", \" Leonardo\", \" Di\", \"Cap\", \"rio\", \"\\n\", \"4\", \".\", \" Tom\", \" Brady\", \"\\n\", \"5\", \".\", \" Daniel\", \" Rad\", \"cliffe\", \"\\n\", \"6\", \".\", \" Hugh\", \" Jack\", \"man\", \"\\n\", \"Which\", \" among\", \" these\", \" people\", \" are\", \" different\", \" from\", \" others\", \"?\\n\", \"Answer\", \":\"], \"values\": [0.003631591796875, 0.000942230224609375, 0.0027923583984375, 0.0031890869140625, 0.00311279296875, 0.0011138916015625, 0.005126953125, 0.0079345703125, 0.000736236572265625, 0.0238037109375, 0.03662109375, 0.00041961669921875, 0.004547119140625, 0.00726318359375, 0.000667572021484375, 0.004180908203125, 0.018310546875, 0.0166015625, 0.0026397705078125, 0.00323486328125, 0.035888671875, 0.24609375, 0.341796875, 0.00244140625, 0.005279541015625, 0.00921630859375, 0.00958251953125, 0.043701171875, 0.06396484375, 0.00341796875, 0.006927490234375, 0.007110595703125, 0.00201416015625, 0.00982666015625, 0.0111083984375, 0.0026092529296875, 0.0013275146484375, 0.0018157958984375, 0.00077056884765625, 0.001861572265625, 0.00018024444580078125, 0.000331878662109375, 0.000545501708984375, 0.004180908203125, 0.00124359130859375, 0.0172119140625]}\n",
       "    )\n",
       "    </script>"
      ],
      "text/plain": [
       "<circuitsvis.utils.render.RenderedHTML at 0x7fa4c0163fd0>"
      ]
     },
     "metadata": {},
     "output_type": "display_data"
    },
    {
     "name": "stdout",
     "output_type": "stream",
     "text": [
      "2025-08-01 14:49:19 __main__ INFO     Layer: 42, Head: 30\n"
     ]
    },
    {
     "data": {
      "text/html": [
       "<div id=\"circuits-vis-07835456-61c6\" style=\"margin: 15px 0;\"/>\n",
       "    <script crossorigin type=\"module\">\n",
       "    import { render, ColoredTokens } from \"https://unpkg.com/circuitsvis@1.43.3/dist/cdn/esm.js\";\n",
       "    render(\n",
       "      \"circuits-vis-07835456-61c6\",\n",
       "      ColoredTokens,\n",
       "      {\"tokens\": [\"1\", \".\", \" Brad\", \" Pitt\", \"\\n\", \"2\", \".\", \" Tom\", \" H\", \"anks\", \"\\n\", \"3\", \".\", \" Leonardo\", \" Di\", \"Cap\", \"rio\", \"\\n\", \"4\", \".\", \" Tom\", \" Brady\", \"\\n\", \"5\", \".\", \" Daniel\", \" Rad\", \"cliffe\", \"\\n\", \"6\", \".\", \" Hugh\", \" Jack\", \"man\", \"\\n\", \"Which\", \" among\", \" these\", \" people\", \" are\", \" different\", \" from\", \" others\", \"?\\n\", \"Answer\", \":\"], \"values\": [0.006866455078125, 0.0014190673828125, 0.0038604736328125, 0.0311279296875, 0.0030975341796875, 0.00182342529296875, 0.0032958984375, 0.00970458984375, 0.0064697265625, 0.0257568359375, 0.005706787109375, 0.000946044921875, 0.003509521484375, 0.01470947265625, 0.00616455078125, 0.0177001953125, 0.010986328125, 0.006256103515625, 0.0034027099609375, 0.004364013671875, 0.016357421875, 0.1513671875, 0.05029296875, 0.00494384765625, 0.0076904296875, 0.024169921875, 0.06884765625, 0.05712890625, 0.0155029296875, 0.008544921875, 0.0093994140625, 0.013916015625, 0.0157470703125, 0.01214599609375, 0.007781982421875, 0.00732421875, 0.002777099609375, 0.00579833984375, 0.0064697265625, 0.004302978515625, 0.0029144287109375, 0.00182342529296875, 0.0015869140625, 0.0045166015625, 0.000946044921875, 0.00616455078125]}\n",
       "    )\n",
       "    </script>"
      ],
      "text/plain": [
       "<circuitsvis.utils.render.RenderedHTML at 0x7fa567949f50>"
      ]
     },
     "metadata": {},
     "output_type": "display_data"
    },
    {
     "name": "stdout",
     "output_type": "stream",
     "text": [
      "2025-08-01 14:49:19 __main__ INFO     Layer: 47, Head: 18\n"
     ]
    },
    {
     "data": {
      "text/html": [
       "<div id=\"circuits-vis-90fd6624-7866\" style=\"margin: 15px 0;\"/>\n",
       "    <script crossorigin type=\"module\">\n",
       "    import { render, ColoredTokens } from \"https://unpkg.com/circuitsvis@1.43.3/dist/cdn/esm.js\";\n",
       "    render(\n",
       "      \"circuits-vis-90fd6624-7866\",\n",
       "      ColoredTokens,\n",
       "      {\"tokens\": [\"1\", \".\", \" Brad\", \" Pitt\", \"\\n\", \"2\", \".\", \" Tom\", \" H\", \"anks\", \"\\n\", \"3\", \".\", \" Leonardo\", \" Di\", \"Cap\", \"rio\", \"\\n\", \"4\", \".\", \" Tom\", \" Brady\", \"\\n\", \"5\", \".\", \" Daniel\", \" Rad\", \"cliffe\", \"\\n\", \"6\", \".\", \" Hugh\", \" Jack\", \"man\", \"\\n\", \"Which\", \" among\", \" these\", \" people\", \" are\", \" different\", \" from\", \" others\", \"?\\n\", \"Answer\", \":\"], \"values\": [0.00323486328125, 0.002838134765625, 0.006439208984375, 0.0057373046875, 0.0025634765625, 0.004913330078125, 0.008056640625, 0.038330078125, 0.00469970703125, 0.00194549560546875, 0.024658203125, 0.00604248046875, 0.007049560546875, 0.006744384765625, 0.00701904296875, 0.007354736328125, 0.0196533203125, 0.02978515625, 0.0118408203125, 0.006591796875, 0.08837890625, 0.0546875, 0.255859375, 0.00823974609375, 0.01312255859375, 0.09619140625, 0.04443359375, 0.0634765625, 0.036865234375, 0.01043701171875, 0.014404296875, 0.004425048828125, 0.000728607177734375, 0.001617431640625, 0.0024261474609375, 0.003997802734375, 0.000507354736328125, 0.00213623046875, 0.00213623046875, 0.00421142578125, 0.00054931640625, 0.00107574462890625, 0.0003185272216796875, 0.00262451171875, 0.0005340576171875, 0.005828857421875]}\n",
       "    )\n",
       "    </script>"
      ],
      "text/plain": [
       "<circuitsvis.utils.render.RenderedHTML at 0x7fa5201549d0>"
      ]
     },
     "metadata": {},
     "output_type": "display_data"
    },
    {
     "name": "stdout",
     "output_type": "stream",
     "text": [
      "2025-08-01 14:49:19 __main__ INFO     Layer: 52, Head: 58\n"
     ]
    },
    {
     "data": {
      "text/html": [
       "<div id=\"circuits-vis-faffb83d-6e36\" style=\"margin: 15px 0;\"/>\n",
       "    <script crossorigin type=\"module\">\n",
       "    import { render, ColoredTokens } from \"https://unpkg.com/circuitsvis@1.43.3/dist/cdn/esm.js\";\n",
       "    render(\n",
       "      \"circuits-vis-faffb83d-6e36\",\n",
       "      ColoredTokens,\n",
       "      {\"tokens\": [\"1\", \".\", \" Brad\", \" Pitt\", \"\\n\", \"2\", \".\", \" Tom\", \" H\", \"anks\", \"\\n\", \"3\", \".\", \" Leonardo\", \" Di\", \"Cap\", \"rio\", \"\\n\", \"4\", \".\", \" Tom\", \" Brady\", \"\\n\", \"5\", \".\", \" Daniel\", \" Rad\", \"cliffe\", \"\\n\", \"6\", \".\", \" Hugh\", \" Jack\", \"man\", \"\\n\", \"Which\", \" among\", \" these\", \" people\", \" are\", \" different\", \" from\", \" others\", \"?\\n\", \"Answer\", \":\"], \"values\": [0.0027618408203125, 0.000888824462890625, 0.002288818359375, 0.035400390625, 0.0003757476806640625, 0.00064849853515625, 0.000469207763671875, 0.01611328125, 0.0172119140625, 0.017822265625, 0.003631591796875, 0.0003528594970703125, 0.0007476806640625, 0.0037384033203125, 0.050537109375, 0.01068115234375, 0.0038299560546875, 0.0038909912109375, 0.00133514404296875, 0.0009765625, 0.03369140625, 0.306640625, 0.07763671875, 0.00153350830078125, 0.00160980224609375, 0.0220947265625, 0.224609375, 0.031982421875, 0.0093994140625, 0.00144195556640625, 0.001739501953125, 0.001373291015625, 0.00799560546875, 0.0010528564453125, 0.00057220458984375, 0.000217437744140625, 0.0003376007080078125, 0.0003757476806640625, 0.0009307861328125, 0.00127410888671875, 0.0003757476806640625, 0.00014019012451171875, 8.249282836914062e-05, 0.0003032684326171875, 6.437301635742188e-05, 0.00191497802734375]}\n",
       "    )\n",
       "    </script>"
      ],
      "text/plain": [
       "<circuitsvis.utils.render.RenderedHTML at 0x7fa4c020d410>"
      ]
     },
     "metadata": {},
     "output_type": "display_data"
    },
    {
     "data": {
      "text/plain": [
       "[PredictedToken(token=' Daniel', prob=0.3671875, logit=18.625, token_id=15469, metadata=None),\n",
       " PredictedToken(token=' Tom', prob=0.32421875, logit=18.5, token_id=8529, metadata=None),\n",
       " PredictedToken(token=' ', prob=0.06396484375, logit=16.875, token_id=220, metadata=None),\n",
       " PredictedToken(token=' Hugh', prob=0.056396484375, logit=16.75, token_id=30206, metadata=None),\n",
       " PredictedToken(token=' The', prob=0.0250244140625, logit=15.9375, token_id=578, metadata=None)]"
      ]
     },
     "execution_count": 42,
     "metadata": {},
     "output_type": "execute_result"
    }
   ],
   "source": [
    "# NOVELTY: Find the odd one out\n",
    "\n",
    "# options = [\"Issac Newton\", \"Albert Einstein\", \"Marie Curie\", \"Hugh Jackman\", \"Charles Darwin\"]\n",
    "options = [\n",
    "    \"Brad Pitt\",\n",
    "    \"Tom Hanks\",\n",
    "    \"Leonardo DiCaprio\",\n",
    "    \"Tom Brady\",\n",
    "    \"Daniel Radcliffe\",\n",
    "    \"Hugh Jackman\",\n",
    "]\n",
    "\n",
    "# prompt_template = \"\"\"Which person from the following list is different from the others?\n",
    "# {}.\n",
    "# Ans:\"\"\"\n",
    "prompt_template = \"\"\"{}\n",
    "Which among these people are different from others?\n",
    "Answer:\"\"\"\n",
    "# prompt = prompt_template.format(\", \".join(options))\n",
    "prompt = prompt_template.format(\"\\n\".join([f\"{idx+1}. {name}\" for idx, name in enumerate(options)]))\n",
    "\n",
    "print(prompt)\n",
    "verify = verify_head_patterns(\n",
    "    prompt=prompt,\n",
    "    options=options,\n",
    "    pivot=\"different from others\",\n",
    "    mt=mt,\n",
    "    value_weighted=False,\n",
    "    generate_full_answer=True,\n",
    ")\n",
    "verify[\"predictions\"]"
   ]
  },
  {
   "cell_type": "code",
   "execution_count": 43,
   "id": "c20b519d",
   "metadata": {},
   "outputs": [
    {
     "name": "stdout",
     "output_type": "stream",
     "text": [
      "2025-08-01 14:50:14 __main__ DEBUG    Brad Pitt | opt_range=(3, 5) | bare_opt_range=(4, 6) | \" Brad Pitt\"\n",
      "2025-08-01 14:50:14 __main__ DEBUG    Tom Hanks | opt_range=(8, 11) | bare_opt_range=(4, 7) | \" Tom Hanks\"\n",
      "2025-08-01 14:50:14 __main__ DEBUG    Leonardo DiCaprio | opt_range=(14, 18) | bare_opt_range=(4, 8) | \" Leonardo DiCaprio\"\n",
      "2025-08-01 14:50:14 __main__ DEBUG    Tom Brady | opt_range=(21, 23) | bare_opt_range=(4, 6) | \" Tom Brady\"\n",
      "2025-08-01 14:50:15 __main__ DEBUG    Daniel Radcliffe | opt_range=(26, 29) | bare_opt_range=(4, 7) | \" Daniel Radcliffe\"\n",
      "2025-08-01 14:50:15 __main__ DEBUG    Hugh Jackman | opt_range=(32, 35) | bare_opt_range=(4, 7) | \" Hugh Jackman\"\n",
      "2025-08-01 14:50:21 __main__ DEBUG    Predictions: ['\" Tom\"[8529] (p=0.354, logit=18.625)', '\" Daniel\"[15469] (p=0.354, logit=18.625)', '\" \"[220] (p=0.061, logit=16.875)', '\" Hugh\"[30206] (p=0.054, logit=16.750)', '\" The\"[578] (p=0.026, logit=16.000)']\n",
      "layer=35\n"
     ]
    },
    {
     "data": {
      "text/html": [
       "<div id=\"circuits-vis-92dfed5a-332e\" style=\"margin: 15px 0;\"/>\n",
       "    <script crossorigin type=\"module\">\n",
       "    import { render, ColoredTokens } from \"https://unpkg.com/circuitsvis@1.43.3/dist/cdn/esm.js\";\n",
       "    render(\n",
       "      \"circuits-vis-92dfed5a-332e\",\n",
       "      ColoredTokens,\n",
       "      {\"tokens\": [\"1\", \".\", \" Brad\", \" Pitt\", \"\\n\", \"2\", \".\", \" Tom\", \" H\", \"anks\", \"\\n\", \"3\", \".\", \" Leonardo\", \" Di\", \"Cap\", \"rio\", \"\\n\", \"4\", \".\", \" Tom\", \" Brady\", \"\\n\", \"5\", \".\", \" Daniel\", \" Rad\", \"cliffe\", \"\\n\", \"6\", \".\", \" Hugh\", \" Jack\", \"man\", \"\\n\", \"Which\", \" among\", \" these\", \" people\", \" are\", \" different\", \" from\", \" others\", \"?\\n\", \"Answer\", \":\"], \"values\": [0.020816564559936523, 0.002232782542705536, 0.00229606032371521, 0.008160799741744995, 0.008451282978057861, 0.006560489535331726, 0.006745770573616028, 0.005091682076454163, 0.0012380704283714294, 0.014205709099769592, 0.008151054382324219, 0.0015781596302986145, 0.005210384726524353, 0.0055493563413619995, 0.0016827397048473358, 0.004083521664142609, 0.005083693191409111, 0.006632030010223389, 0.002293504774570465, 0.002721969038248062, 0.009298060089349747, 0.049242377281188965, 0.04232008010149002, 0.002547880634665489, 0.005707360804080963, 0.005768299102783203, 0.012352660298347473, 0.021788761019706726, 0.013955719769001007, 0.0049329400062561035, 0.00675569474697113, 0.0036410316824913025, 0.0040993839502334595, 0.006433591246604919, 0.006216127425432205, 0.010534703731536865, 0.004176679998636246, 0.016536802053451538, 0.009309649467468262, 0.007607348263263702, 0.015534278005361557, 0.0042948173359036446, 0.012103937566280365, 0.0155610591173172, 0.008371490985155106, 0.033773273229599]}\n",
       "    )\n",
       "    </script>"
      ],
      "text/plain": [
       "<circuitsvis.utils.render.RenderedHTML at 0x7fa567d2e910>"
      ]
     },
     "metadata": {},
     "output_type": "display_data"
    },
    {
     "name": "stdout",
     "output_type": "stream",
     "text": [
      "--------------------------------------------------------------------------------\n",
      "layer=47\n"
     ]
    },
    {
     "data": {
      "text/html": [
       "<div id=\"circuits-vis-66e776d3-8e09\" style=\"margin: 15px 0;\"/>\n",
       "    <script crossorigin type=\"module\">\n",
       "    import { render, ColoredTokens } from \"https://unpkg.com/circuitsvis@1.43.3/dist/cdn/esm.js\";\n",
       "    render(\n",
       "      \"circuits-vis-66e776d3-8e09\",\n",
       "      ColoredTokens,\n",
       "      {\"tokens\": [\"1\", \".\", \" Brad\", \" Pitt\", \"\\n\", \"2\", \".\", \" Tom\", \" H\", \"anks\", \"\\n\", \"3\", \".\", \" Leonardo\", \" Di\", \"Cap\", \"rio\", \"\\n\", \"4\", \".\", \" Tom\", \" Brady\", \"\\n\", \"5\", \".\", \" Daniel\", \" Rad\", \"cliffe\", \"\\n\", \"6\", \".\", \" Hugh\", \" Jack\", \"man\", \"\\n\", \"Which\", \" among\", \" these\", \" people\", \" are\", \" different\", \" from\", \" others\", \"?\\n\", \"Answer\", \":\"], \"values\": [0.0020605623722076416, 0.000885404646396637, 0.0011261999607086182, 0.0015901662409305573, 0.000649020541459322, 0.0006865747272968292, 0.0009983079507946968, 0.0023834016174077988, 0.0004228907637298107, 0.0006410013884305954, 0.0013492581201717257, 0.0003746977308765054, 0.0005765040405094624, 0.0014478694647550583, 0.0003870832733809948, 0.0006309887394309044, 0.0008001085370779037, 0.0011350675486028194, 0.0006313503254204988, 0.0006017531268298626, 0.003259412944316864, 0.0034065134823322296, 0.007670910097658634, 0.0006855633109807968, 0.0013433899730443954, 0.005636603571474552, 0.002305222675204277, 0.002735227346420288, 0.002174297347664833, 0.0008069141767919064, 0.0011442098766565323, 0.0011649373918771744, 0.0008532330393791199, 0.0005800742655992508, 0.00037550274282693863, 0.0014782771468162537, 0.0009372374042868614, 0.0009176451712846756, 0.0009354352951049805, 0.0009991563856601715, 0.0013004690408706665, 0.0006227772682905197, 0.0011978484690189362, 0.005212649703025818, 0.0043776631355285645, 0.0030274689197540283]}\n",
       "    )\n",
       "    </script>"
      ],
      "text/plain": [
       "<circuitsvis.utils.render.RenderedHTML at 0x7fa4c036b490>"
      ]
     },
     "metadata": {},
     "output_type": "display_data"
    },
    {
     "name": "stdout",
     "output_type": "stream",
     "text": [
      "--------------------------------------------------------------------------------\n",
      "layer=52\n"
     ]
    },
    {
     "data": {
      "text/html": [
       "<div id=\"circuits-vis-71ad6659-1126\" style=\"margin: 15px 0;\"/>\n",
       "    <script crossorigin type=\"module\">\n",
       "    import { render, ColoredTokens } from \"https://unpkg.com/circuitsvis@1.43.3/dist/cdn/esm.js\";\n",
       "    render(\n",
       "      \"circuits-vis-71ad6659-1126\",\n",
       "      ColoredTokens,\n",
       "      {\"tokens\": [\"1\", \".\", \" Brad\", \" Pitt\", \"\\n\", \"2\", \".\", \" Tom\", \" H\", \"anks\", \"\\n\", \"3\", \".\", \" Leonardo\", \" Di\", \"Cap\", \"rio\", \"\\n\", \"4\", \".\", \" Tom\", \" Brady\", \"\\n\", \"5\", \".\", \" Daniel\", \" Rad\", \"cliffe\", \"\\n\", \"6\", \".\", \" Hugh\", \" Jack\", \"man\", \"\\n\", \"Which\", \" among\", \" these\", \" people\", \" are\", \" different\", \" from\", \" others\", \"?\\n\", \"Answer\", \":\"], \"values\": [0.00422060489654541, 0.002375613898038864, 0.002877369523048401, 0.0023162178695201874, 0.002352450042963028, 0.0024286340922117233, 0.0022732242941856384, 0.007898632436990738, 0.0005676625296473503, 0.0009243579115718603, 0.0018037818372249603, 0.0009165764786303043, 0.0013342872262001038, 0.005340728908777237, 0.0011498695239424706, 0.0006951787509024143, 0.00078944256529212, 0.001485631801187992, 0.00113262003287673, 0.001157776452600956, 0.010606585070490837, 0.006352471187710762, 0.006015220656991005, 0.0011712918058037758, 0.001928769052028656, 0.011334653943777084, 0.005115978419780731, 0.0019114147871732712, 0.0028634220361709595, 0.0016326922923326492, 0.001680782064795494, 0.002850465476512909, 0.000515270046889782, 0.0006698481738567352, 0.0007642959244549274, 0.004968658089637756, 0.003009635955095291, 0.0020869597792625427, 0.0017263926565647125, 0.0017886944115161896, 0.002092413604259491, 0.0011345110833644867, 0.002413220703601837, 0.011853650212287903, 0.01218193769454956, 0.014282859861850739]}\n",
       "    )\n",
       "    </script>"
      ],
      "text/plain": [
       "<circuitsvis.utils.render.RenderedHTML at 0x7fa5679942d0>"
      ]
     },
     "metadata": {},
     "output_type": "display_data"
    },
    {
     "name": "stdout",
     "output_type": "stream",
     "text": [
      "--------------------------------------------------------------------------------\n",
      "======================================================================\n",
      "2025-08-01 14:50:21 __main__ INFO     Layer: 33, Head: 45\n"
     ]
    },
    {
     "data": {
      "text/html": [
       "<div id=\"circuits-vis-a4101eb1-ff56\" style=\"margin: 15px 0;\"/>\n",
       "    <script crossorigin type=\"module\">\n",
       "    import { render, ColoredTokens } from \"https://unpkg.com/circuitsvis@1.43.3/dist/cdn/esm.js\";\n",
       "    render(\n",
       "      \"circuits-vis-a4101eb1-ff56\",\n",
       "      ColoredTokens,\n",
       "      {\"tokens\": [\"1\", \".\", \" Brad\", \" Pitt\", \"\\n\", \"2\", \".\", \" Tom\", \" H\", \"anks\", \"\\n\", \"3\", \".\", \" Leonardo\", \" Di\", \"Cap\", \"rio\", \"\\n\", \"4\", \".\", \" Tom\", \" Brady\", \"\\n\", \"5\", \".\", \" Daniel\", \" Rad\", \"cliffe\", \"\\n\", \"6\", \".\", \" Hugh\", \" Jack\", \"man\", \"\\n\", \"Which\", \" among\", \" these\", \" people\", \" are\", \" different\", \" from\", \" others\", \"?\\n\", \"Answer\", \":\"], \"values\": [0.01470947265625, 0.00089263916015625, 0.0027923583984375, 0.007598876953125, 0.00142669677734375, 0.003143310546875, 0.004302978515625, 0.016845703125, 0.000919342041015625, 0.130859375, 0.0186767578125, 0.0007171630859375, 0.007476806640625, 0.00927734375, 0.00159454345703125, 0.00897216796875, 0.009033203125, 0.00653076171875, 0.0012969970703125, 0.003021240234375, 0.0201416015625, 0.236328125, 0.11767578125, 0.00262451171875, 0.00592041015625, 0.01068115234375, 0.0498046875, 0.04345703125, 0.0185546875, 0.00098419189453125, 0.005828857421875, 0.00555419921875, 0.01129150390625, 0.0034027099609375, 0.0030670166015625, 0.00830078125, 0.000919342041015625, 0.007080078125, 0.007232666015625, 0.00250244140625, 0.014404296875, 0.000682830810546875, 0.001922607421875, 0.0028839111328125, 0.0001926422119140625, 0.0279541015625]}\n",
       "    )\n",
       "    </script>"
      ],
      "text/plain": [
       "<circuitsvis.utils.render.RenderedHTML at 0x7fa540116f50>"
      ]
     },
     "metadata": {},
     "output_type": "display_data"
    },
    {
     "name": "stdout",
     "output_type": "stream",
     "text": [
      "2025-08-01 14:50:21 __main__ INFO     Layer: 33, Head: 18\n"
     ]
    },
    {
     "data": {
      "text/html": [
       "<div id=\"circuits-vis-0c5eb8bc-e4d5\" style=\"margin: 15px 0;\"/>\n",
       "    <script crossorigin type=\"module\">\n",
       "    import { render, ColoredTokens } from \"https://unpkg.com/circuitsvis@1.43.3/dist/cdn/esm.js\";\n",
       "    render(\n",
       "      \"circuits-vis-0c5eb8bc-e4d5\",\n",
       "      ColoredTokens,\n",
       "      {\"tokens\": [\"1\", \".\", \" Brad\", \" Pitt\", \"\\n\", \"2\", \".\", \" Tom\", \" H\", \"anks\", \"\\n\", \"3\", \".\", \" Leonardo\", \" Di\", \"Cap\", \"rio\", \"\\n\", \"4\", \".\", \" Tom\", \" Brady\", \"\\n\", \"5\", \".\", \" Daniel\", \" Rad\", \"cliffe\", \"\\n\", \"6\", \".\", \" Hugh\", \" Jack\", \"man\", \"\\n\", \"Which\", \" among\", \" these\", \" people\", \" are\", \" different\", \" from\", \" others\", \"?\\n\", \"Answer\", \":\"], \"values\": [0.0257568359375, 0.0008697509765625, 0.005950927734375, 0.0390625, 0.01361083984375, 0.00433349609375, 0.0179443359375, 0.043212890625, 0.0020904541015625, 0.06982421875, 0.0244140625, 0.00061798095703125, 0.005950927734375, 0.003265380859375, 0.0035247802734375, 0.005706787109375, 0.01092529296875, 0.0062255859375, 0.002685546875, 0.0027923583984375, 0.051513671875, 0.2060546875, 0.1611328125, 0.00189971923828125, 0.0108642578125, 0.0201416015625, 0.00836181640625, 0.0272216796875, 0.024658203125, 0.0037841796875, 0.005706787109375, 0.005462646484375, 0.005401611328125, 0.00872802734375, 0.0027618408203125, 0.00099945068359375, 0.000347137451171875, 0.00154876708984375, 0.0064697265625, 0.00061798095703125, 0.0003299713134765625, 4.482269287109375e-05, 0.00014209747314453125, 0.0002498626708984375, 7.62939453125e-05, 0.003631591796875]}\n",
       "    )\n",
       "    </script>"
      ],
      "text/plain": [
       "<circuitsvis.utils.render.RenderedHTML at 0x7fa4c030fc90>"
      ]
     },
     "metadata": {},
     "output_type": "display_data"
    },
    {
     "name": "stdout",
     "output_type": "stream",
     "text": [
      "2025-08-01 14:50:22 __main__ INFO     Layer: 34, Head: 1\n"
     ]
    },
    {
     "data": {
      "text/html": [
       "<div id=\"circuits-vis-8ae01ffa-1c28\" style=\"margin: 15px 0;\"/>\n",
       "    <script crossorigin type=\"module\">\n",
       "    import { render, ColoredTokens } from \"https://unpkg.com/circuitsvis@1.43.3/dist/cdn/esm.js\";\n",
       "    render(\n",
       "      \"circuits-vis-8ae01ffa-1c28\",\n",
       "      ColoredTokens,\n",
       "      {\"tokens\": [\"1\", \".\", \" Brad\", \" Pitt\", \"\\n\", \"2\", \".\", \" Tom\", \" H\", \"anks\", \"\\n\", \"3\", \".\", \" Leonardo\", \" Di\", \"Cap\", \"rio\", \"\\n\", \"4\", \".\", \" Tom\", \" Brady\", \"\\n\", \"5\", \".\", \" Daniel\", \" Rad\", \"cliffe\", \"\\n\", \"6\", \".\", \" Hugh\", \" Jack\", \"man\", \"\\n\", \"Which\", \" among\", \" these\", \" people\", \" are\", \" different\", \" from\", \" others\", \"?\\n\", \"Answer\", \":\"], \"values\": [0.058349609375, 0.0031280517578125, 0.00421142578125, 0.0037689208984375, 0.0032196044921875, 0.023681640625, 0.00421142578125, 0.0062255859375, 0.00037384033203125, 0.00927734375, 0.01171875, 0.0026702880859375, 0.0034942626953125, 0.003387451171875, 0.0008544921875, 0.0025177001953125, 0.0028076171875, 0.004486083984375, 0.00994873046875, 0.00225830078125, 0.00836181640625, 0.052490234375, 0.1103515625, 0.006378173828125, 0.0038299560546875, 0.011962890625, 0.01458740234375, 0.037109375, 0.06640625, 0.0235595703125, 0.0089111328125, 0.002716064453125, 0.00054168701171875, 0.00054168701171875, 0.0023651123046875, 0.012451171875, 0.00360107421875, 0.0245361328125, 0.010009765625, 0.00616455078125, 0.003326416015625, 0.00045013427734375, 0.0014801025390625, 0.0028076171875, 0.00095367431640625, 0.056640625]}\n",
       "    )\n",
       "    </script>"
      ],
      "text/plain": [
       "<circuitsvis.utils.render.RenderedHTML at 0x7fa4c02cd610>"
      ]
     },
     "metadata": {},
     "output_type": "display_data"
    },
    {
     "name": "stdout",
     "output_type": "stream",
     "text": [
      "2025-08-01 14:50:22 __main__ INFO     Layer: 34, Head: 6\n"
     ]
    },
    {
     "data": {
      "text/html": [
       "<div id=\"circuits-vis-8cc1a981-9f00\" style=\"margin: 15px 0;\"/>\n",
       "    <script crossorigin type=\"module\">\n",
       "    import { render, ColoredTokens } from \"https://unpkg.com/circuitsvis@1.43.3/dist/cdn/esm.js\";\n",
       "    render(\n",
       "      \"circuits-vis-8cc1a981-9f00\",\n",
       "      ColoredTokens,\n",
       "      {\"tokens\": [\"1\", \".\", \" Brad\", \" Pitt\", \"\\n\", \"2\", \".\", \" Tom\", \" H\", \"anks\", \"\\n\", \"3\", \".\", \" Leonardo\", \" Di\", \"Cap\", \"rio\", \"\\n\", \"4\", \".\", \" Tom\", \" Brady\", \"\\n\", \"5\", \".\", \" Daniel\", \" Rad\", \"cliffe\", \"\\n\", \"6\", \".\", \" Hugh\", \" Jack\", \"man\", \"\\n\", \"Which\", \" among\", \" these\", \" people\", \" are\", \" different\", \" from\", \" others\", \"?\\n\", \"Answer\", \":\"], \"values\": [0.064453125, 0.003936767578125, 0.00628662109375, 0.003997802734375, 0.003936767578125, 0.0203857421875, 0.0059814453125, 0.00860595703125, 0.000835418701171875, 0.0179443359375, 0.01190185546875, 0.00457763671875, 0.0064697265625, 0.0033111572265625, 0.00160980224609375, 0.003997802734375, 0.00445556640625, 0.003692626953125, 0.00958251953125, 0.005615234375, 0.01171875, 0.123046875, 0.076171875, 0.006378173828125, 0.004730224609375, 0.0130615234375, 0.046875, 0.034423828125, 0.0255126953125, 0.0101318359375, 0.0125732421875, 0.002105712890625, 0.000812530517578125, 0.0004215240478515625, 0.0012969970703125, 0.0125732421875, 0.004669189453125, 0.017578125, 0.005035400390625, 0.010009765625, 0.007171630859375, 0.00127410888671875, 0.00250244140625, 0.0030670166015625, 0.001220703125, 0.0517578125]}\n",
       "    )\n",
       "    </script>"
      ],
      "text/plain": [
       "<circuitsvis.utils.render.RenderedHTML at 0x7fa5679b18d0>"
      ]
     },
     "metadata": {},
     "output_type": "display_data"
    },
    {
     "name": "stdout",
     "output_type": "stream",
     "text": [
      "2025-08-01 14:50:22 __main__ INFO     Layer: 34, Head: 7\n"
     ]
    },
    {
     "data": {
      "text/html": [
       "<div id=\"circuits-vis-723cdbb4-3217\" style=\"margin: 15px 0;\"/>\n",
       "    <script crossorigin type=\"module\">\n",
       "    import { render, ColoredTokens } from \"https://unpkg.com/circuitsvis@1.43.3/dist/cdn/esm.js\";\n",
       "    render(\n",
       "      \"circuits-vis-723cdbb4-3217\",\n",
       "      ColoredTokens,\n",
       "      {\"tokens\": [\"1\", \".\", \" Brad\", \" Pitt\", \"\\n\", \"2\", \".\", \" Tom\", \" H\", \"anks\", \"\\n\", \"3\", \".\", \" Leonardo\", \" Di\", \"Cap\", \"rio\", \"\\n\", \"4\", \".\", \" Tom\", \" Brady\", \"\\n\", \"5\", \".\", \" Daniel\", \" Rad\", \"cliffe\", \"\\n\", \"6\", \".\", \" Hugh\", \" Jack\", \"man\", \"\\n\", \"Which\", \" among\", \" these\", \" people\", \" are\", \" different\", \" from\", \" others\", \"?\\n\", \"Answer\", \":\"], \"values\": [0.053466796875, 0.000408172607421875, 0.0019989013671875, 0.002960205078125, 0.00119781494140625, 0.00238037109375, 0.0022430419921875, 0.0023040771484375, 0.000576019287109375, 0.003204345703125, 0.00311279296875, 0.00139617919921875, 0.00127410888671875, 0.00177001953125, 0.002197265625, 0.00144195556640625, 0.00191497802734375, 0.0024566650390625, 0.00194549560546875, 0.0020751953125, 0.0093994140625, 0.0216064453125, 0.0517578125, 0.003204345703125, 0.004241943359375, 0.0076904296875, 0.0240478515625, 0.0390625, 0.05908203125, 0.00799560546875, 0.0089111328125, 0.0048828125, 0.004241943359375, 0.0054931640625, 0.01025390625, 0.038330078125, 0.0086669921875, 0.134765625, 0.0216064453125, 0.01806640625, 0.0244140625, 0.00567626953125, 0.01422119140625, 0.0196533203125, 0.002197265625, 0.138671875]}\n",
       "    )\n",
       "    </script>"
      ],
      "text/plain": [
       "<circuitsvis.utils.render.RenderedHTML at 0x7fa4c020c990>"
      ]
     },
     "metadata": {},
     "output_type": "display_data"
    },
    {
     "name": "stdout",
     "output_type": "stream",
     "text": [
      "2025-08-01 14:50:22 __main__ INFO     Layer: 35, Head: 19\n"
     ]
    },
    {
     "data": {
      "text/html": [
       "<div id=\"circuits-vis-290f223c-ec1f\" style=\"margin: 15px 0;\"/>\n",
       "    <script crossorigin type=\"module\">\n",
       "    import { render, ColoredTokens } from \"https://unpkg.com/circuitsvis@1.43.3/dist/cdn/esm.js\";\n",
       "    render(\n",
       "      \"circuits-vis-290f223c-ec1f\",\n",
       "      ColoredTokens,\n",
       "      {\"tokens\": [\"1\", \".\", \" Brad\", \" Pitt\", \"\\n\", \"2\", \".\", \" Tom\", \" H\", \"anks\", \"\\n\", \"3\", \".\", \" Leonardo\", \" Di\", \"Cap\", \"rio\", \"\\n\", \"4\", \".\", \" Tom\", \" Brady\", \"\\n\", \"5\", \".\", \" Daniel\", \" Rad\", \"cliffe\", \"\\n\", \"6\", \".\", \" Hugh\", \" Jack\", \"man\", \"\\n\", \"Which\", \" among\", \" these\", \" people\", \" are\", \" different\", \" from\", \" others\", \"?\\n\", \"Answer\", \":\"], \"values\": [0.0023956298828125, 4.6253204345703125e-05, 0.00080108642578125, 0.00714111328125, 0.001068115234375, 0.0012359619140625, 0.0036163330078125, 0.003936767578125, 0.00018024444580078125, 0.08642578125, 0.00836181640625, 0.00017261505126953125, 0.0026702880859375, 0.00396728515625, 0.00054931640625, 0.0089111328125, 0.01171875, 0.003692626953125, 0.00019168853759765625, 0.0007476806640625, 0.006683349609375, 0.341796875, 0.29296875, 0.000225067138671875, 0.002532958984375, 0.001739501953125, 0.0517578125, 0.07763671875, 0.033447265625, 0.00093841552734375, 0.006072998046875, 0.00103759765625, 0.0013427734375, 0.00176239013671875, 0.000701904296875, 0.0027313232421875, 3.838539123535156e-05, 0.00433349609375, 0.00075531005859375, 6.151199340820312e-05, 0.000118255615234375, 7.569789886474609e-06, 7.772445678710938e-05, 4.100799560546875e-05, 3.600120544433594e-05, 0.0004787445068359375]}\n",
       "    )\n",
       "    </script>"
      ],
      "text/plain": [
       "<circuitsvis.utils.render.RenderedHTML at 0x7fa4a012bc50>"
      ]
     },
     "metadata": {},
     "output_type": "display_data"
    },
    {
     "name": "stdout",
     "output_type": "stream",
     "text": [
      "2025-08-01 14:50:22 __main__ INFO     Layer: 39, Head: 40\n"
     ]
    },
    {
     "data": {
      "text/html": [
       "<div id=\"circuits-vis-04f77e4f-5f6f\" style=\"margin: 15px 0;\"/>\n",
       "    <script crossorigin type=\"module\">\n",
       "    import { render, ColoredTokens } from \"https://unpkg.com/circuitsvis@1.43.3/dist/cdn/esm.js\";\n",
       "    render(\n",
       "      \"circuits-vis-04f77e4f-5f6f\",\n",
       "      ColoredTokens,\n",
       "      {\"tokens\": [\"1\", \".\", \" Brad\", \" Pitt\", \"\\n\", \"2\", \".\", \" Tom\", \" H\", \"anks\", \"\\n\", \"3\", \".\", \" Leonardo\", \" Di\", \"Cap\", \"rio\", \"\\n\", \"4\", \".\", \" Tom\", \" Brady\", \"\\n\", \"5\", \".\", \" Daniel\", \" Rad\", \"cliffe\", \"\\n\", \"6\", \".\", \" Hugh\", \" Jack\", \"man\", \"\\n\", \"Which\", \" among\", \" these\", \" people\", \" are\", \" different\", \" from\", \" others\", \"?\\n\", \"Answer\", \":\"], \"values\": [0.0034942626953125, 0.00087738037109375, 0.0022430419921875, 0.002838134765625, 0.003143310546875, 0.000850677490234375, 0.00433349609375, 0.00830078125, 0.00067138671875, 0.0216064453125, 0.03173828125, 0.000461578369140625, 0.004486083984375, 0.006256103515625, 0.000492095947265625, 0.003631591796875, 0.016357421875, 0.014404296875, 0.00250244140625, 0.0029144287109375, 0.03564453125, 0.255859375, 0.365234375, 0.0023651123046875, 0.00482177734375, 0.00848388671875, 0.008544921875, 0.037841796875, 0.0595703125, 0.0033416748046875, 0.0064697265625, 0.006317138671875, 0.00174713134765625, 0.00848388671875, 0.00970458984375, 0.0023651123046875, 0.00122833251953125, 0.00152587890625, 0.00069427490234375, 0.00188446044921875, 0.000186920166015625, 0.00032806396484375, 0.000492095947265625, 0.004180908203125, 0.00110626220703125, 0.01708984375]}\n",
       "    )\n",
       "    </script>"
      ],
      "text/plain": [
       "<circuitsvis.utils.render.RenderedHTML at 0x7fa4c030e910>"
      ]
     },
     "metadata": {},
     "output_type": "display_data"
    },
    {
     "name": "stdout",
     "output_type": "stream",
     "text": [
      "2025-08-01 14:50:22 __main__ INFO     Layer: 42, Head: 30\n"
     ]
    },
    {
     "data": {
      "text/html": [
       "<div id=\"circuits-vis-6586fbdc-2e8f\" style=\"margin: 15px 0;\"/>\n",
       "    <script crossorigin type=\"module\">\n",
       "    import { render, ColoredTokens } from \"https://unpkg.com/circuitsvis@1.43.3/dist/cdn/esm.js\";\n",
       "    render(\n",
       "      \"circuits-vis-6586fbdc-2e8f\",\n",
       "      ColoredTokens,\n",
       "      {\"tokens\": [\"1\", \".\", \" Brad\", \" Pitt\", \"\\n\", \"2\", \".\", \" Tom\", \" H\", \"anks\", \"\\n\", \"3\", \".\", \" Leonardo\", \" Di\", \"Cap\", \"rio\", \"\\n\", \"4\", \".\", \" Tom\", \" Brady\", \"\\n\", \"5\", \".\", \" Daniel\", \" Rad\", \"cliffe\", \"\\n\", \"6\", \".\", \" Hugh\", \" Jack\", \"man\", \"\\n\", \"Which\", \" among\", \" these\", \" people\", \" are\", \" different\", \" from\", \" others\", \"?\\n\", \"Answer\", \":\"], \"values\": [0.0068359375, 0.00136566162109375, 0.003387451171875, 0.027099609375, 0.00323486328125, 0.00170135498046875, 0.0038299560546875, 0.0101318359375, 0.005859375, 0.024658203125, 0.0054931640625, 0.001068115234375, 0.0037841796875, 0.0142822265625, 0.005950927734375, 0.0167236328125, 0.0107421875, 0.006134033203125, 0.003387451171875, 0.004547119140625, 0.01611328125, 0.1591796875, 0.052001953125, 0.004913330078125, 0.00787353515625, 0.023193359375, 0.06689453125, 0.056396484375, 0.0162353515625, 0.009033203125, 0.0089111328125, 0.0130615234375, 0.01495361328125, 0.01239013671875, 0.00775146484375, 0.007293701171875, 0.002685546875, 0.0054931640625, 0.006134033203125, 0.00433349609375, 0.0029449462890625, 0.00183868408203125, 0.00150299072265625, 0.004547119140625, 0.000885009765625, 0.00653076171875]}\n",
       "    )\n",
       "    </script>"
      ],
      "text/plain": [
       "<circuitsvis.utils.render.RenderedHTML at 0x7fa4c020ced0>"
      ]
     },
     "metadata": {},
     "output_type": "display_data"
    },
    {
     "name": "stdout",
     "output_type": "stream",
     "text": [
      "2025-08-01 14:50:22 __main__ INFO     Layer: 47, Head: 18\n"
     ]
    },
    {
     "data": {
      "text/html": [
       "<div id=\"circuits-vis-154807ca-bc59\" style=\"margin: 15px 0;\"/>\n",
       "    <script crossorigin type=\"module\">\n",
       "    import { render, ColoredTokens } from \"https://unpkg.com/circuitsvis@1.43.3/dist/cdn/esm.js\";\n",
       "    render(\n",
       "      \"circuits-vis-154807ca-bc59\",\n",
       "      ColoredTokens,\n",
       "      {\"tokens\": [\"1\", \".\", \" Brad\", \" Pitt\", \"\\n\", \"2\", \".\", \" Tom\", \" H\", \"anks\", \"\\n\", \"3\", \".\", \" Leonardo\", \" Di\", \"Cap\", \"rio\", \"\\n\", \"4\", \".\", \" Tom\", \" Brady\", \"\\n\", \"5\", \".\", \" Daniel\", \" Rad\", \"cliffe\", \"\\n\", \"6\", \".\", \" Hugh\", \" Jack\", \"man\", \"\\n\", \"Which\", \" among\", \" these\", \" people\", \" are\", \" different\", \" from\", \" others\", \"?\\n\", \"Answer\", \":\"], \"values\": [0.00341796875, 0.0028839111328125, 0.005126953125, 0.004730224609375, 0.0026702880859375, 0.004608154296875, 0.00836181640625, 0.0361328125, 0.0036468505859375, 0.001617431640625, 0.023193359375, 0.006591796875, 0.007232666015625, 0.0057373046875, 0.006500244140625, 0.006561279296875, 0.017822265625, 0.029052734375, 0.01171875, 0.006927490234375, 0.08056640625, 0.0556640625, 0.28125, 0.00897216796875, 0.013671875, 0.08642578125, 0.044677734375, 0.0615234375, 0.037841796875, 0.01165771484375, 0.01434326171875, 0.003753662109375, 0.000576019287109375, 0.00142669677734375, 0.0022125244140625, 0.004180908203125, 0.0004863739013671875, 0.0020751953125, 0.0021820068359375, 0.00457763671875, 0.000568389892578125, 0.00116729736328125, 0.000324249267578125, 0.0026702880859375, 0.0004863739013671875, 0.00592041015625]}\n",
       "    )\n",
       "    </script>"
      ],
      "text/plain": [
       "<circuitsvis.utils.render.RenderedHTML at 0x7fa4c0102610>"
      ]
     },
     "metadata": {},
     "output_type": "display_data"
    },
    {
     "name": "stdout",
     "output_type": "stream",
     "text": [
      "2025-08-01 14:50:22 __main__ INFO     Layer: 52, Head: 58\n"
     ]
    },
    {
     "data": {
      "text/html": [
       "<div id=\"circuits-vis-c6dcbb1c-46b1\" style=\"margin: 15px 0;\"/>\n",
       "    <script crossorigin type=\"module\">\n",
       "    import { render, ColoredTokens } from \"https://unpkg.com/circuitsvis@1.43.3/dist/cdn/esm.js\";\n",
       "    render(\n",
       "      \"circuits-vis-c6dcbb1c-46b1\",\n",
       "      ColoredTokens,\n",
       "      {\"tokens\": [\"1\", \".\", \" Brad\", \" Pitt\", \"\\n\", \"2\", \".\", \" Tom\", \" H\", \"anks\", \"\\n\", \"3\", \".\", \" Leonardo\", \" Di\", \"Cap\", \"rio\", \"\\n\", \"4\", \".\", \" Tom\", \" Brady\", \"\\n\", \"5\", \".\", \" Daniel\", \" Rad\", \"cliffe\", \"\\n\", \"6\", \".\", \" Hugh\", \" Jack\", \"man\", \"\\n\", \"Which\", \" among\", \" these\", \" people\", \" are\", \" different\", \" from\", \" others\", \"?\\n\", \"Answer\", \":\"], \"values\": [0.0025482177734375, 0.000782012939453125, 0.0010528564453125, 0.033447265625, 0.00035858154296875, 0.000518798828125, 0.0005035400390625, 0.0166015625, 0.0133056640625, 0.01397705078125, 0.0031585693359375, 0.0003814697265625, 0.000804901123046875, 0.003265380859375, 0.04541015625, 0.0101318359375, 0.003448486328125, 0.0036163330078125, 0.00128936767578125, 0.000957489013671875, 0.032470703125, 0.3203125, 0.0791015625, 0.00165557861328125, 0.00157928466796875, 0.0208740234375, 0.234375, 0.03076171875, 0.0089111328125, 0.001434326171875, 0.00165557861328125, 0.00115203857421875, 0.006988525390625, 0.000972747802734375, 0.0005035400390625, 0.000217437744140625, 0.00030517578125, 0.0003204345703125, 0.000843048095703125, 0.00122833251953125, 0.000370025634765625, 0.0001354217529296875, 7.486343383789062e-05, 0.00030517578125, 5.4836273193359375e-05, 0.0018157958984375]}\n",
       "    )\n",
       "    </script>"
      ],
      "text/plain": [
       "<circuitsvis.utils.render.RenderedHTML at 0x7fa5679b18d0>"
      ]
     },
     "metadata": {},
     "output_type": "display_data"
    },
    {
     "data": {
      "text/plain": [
       "[PredictedToken(token=' Tom', prob=0.353515625, logit=18.625, token_id=8529, metadata=None),\n",
       " PredictedToken(token=' Daniel', prob=0.353515625, logit=18.625, token_id=15469, metadata=None),\n",
       " PredictedToken(token=' ', prob=0.061279296875, logit=16.875, token_id=220, metadata=None),\n",
       " PredictedToken(token=' Hugh', prob=0.05419921875, logit=16.75, token_id=30206, metadata=None),\n",
       " PredictedToken(token=' The', prob=0.0255126953125, logit=16.0, token_id=578, metadata=None)]"
      ]
     },
     "execution_count": 43,
     "metadata": {},
     "output_type": "execute_result"
    }
   ],
   "source": [
    "verify_ind = verify_head_patterns(\n",
    "    prompt=prompt,\n",
    "    options=options,\n",
    "    pivot=\"different from others\",\n",
    "    mt=mt,\n",
    "    value_weighted=False,\n",
    "    generate_full_answer=False,\n",
    "    ablate_possible_ans_info_from_options=True,\n",
    ")\n",
    "verify_ind[\"predictions\"]"
   ]
  },
  {
   "cell_type": "code",
   "execution_count": 44,
   "id": "34473276",
   "metadata": {},
   "outputs": [
    {
     "name": "stdout",
     "output_type": "stream",
     "text": [
      "Which of the following words rhymes with rat\n",
      "1. orange\n",
      "2. mat\n",
      "3. book\n",
      "4. rabbit\n",
      "5. bowl\n",
      "6. watch\n",
      "7. mirror\n",
      "Answer:\n",
      "2025-08-01 14:51:06 __main__ DEBUG    Generated full answer: \" 2. mat\n",
      "Explanation: Rhyming words are words that have the same sound and ending. In this case, the word \"rat\"\"\n",
      "2025-08-01 14:51:06 __main__ DEBUG    Predictions: ['\" \"[220] (p=0.527, logit=20.125)', '\" mat\"[5634] (p=0.133, logit=18.750)', '\" The\"[578] (p=0.133, logit=18.750)', '\" Mat\"[7011] (p=0.038, logit=17.500)', '\" (\"[320] (p=0.030, logit=17.250)']\n",
      "layer=35\n"
     ]
    },
    {
     "data": {
      "text/html": [
       "<div id=\"circuits-vis-ecfb3741-973d\" style=\"margin: 15px 0;\"/>\n",
       "    <script crossorigin type=\"module\">\n",
       "    import { render, ColoredTokens } from \"https://unpkg.com/circuitsvis@1.43.3/dist/cdn/esm.js\";\n",
       "    render(\n",
       "      \"circuits-vis-ecfb3741-973d\",\n",
       "      ColoredTokens,\n",
       "      {\"tokens\": [\"Which\", \" of\", \" the\", \" following\", \" words\", \" rh\", \"ymes\", \" with\", \" rat\", \"\\n\", \"1\", \".\", \" orange\", \"\\n\", \"2\", \".\", \" mat\", \"\\n\", \"3\", \".\", \" book\", \"\\n\", \"4\", \".\", \" rabbit\", \"\\n\", \"5\", \".\", \" bowl\", \"\\n\", \"6\", \".\", \" watch\", \"\\n\", \"7\", \".\", \" mirror\", \"\\n\", \"Answer\", \":\"], \"values\": [0.027265727519989014, 0.007669359445571899, 0.0007717832922935486, 0.006365582346916199, 0.005735218524932861, 0.005523622035980225, 0.020249545574188232, 0.00915423035621643, 0.014142721891403198, 0.018006563186645508, 0.008145004510879517, 0.010547176003456116, 0.0028976649045944214, 0.011806726455688477, 0.02929222583770752, 0.005785811692476273, 0.021941624581813812, 0.05241987109184265, 0.012983322143554688, 0.0052399300038814545, 0.001388266682624817, 0.008671373128890991, 0.015929386019706726, 0.003301374614238739, 0.00407303124666214, 0.012993156909942627, 0.01088637113571167, 0.0020174365490674973, 0.00159526988863945, 0.005456030368804932, 0.009782761335372925, 0.002474777400493622, 0.0013088807463645935, 0.0037699490785598755, 0.004262596368789673, 0.002201564610004425, 0.0017415434122085571, 0.004460081458091736, 0.024930104613304138, 0.03495281934738159]}\n",
       "    )\n",
       "    </script>"
      ],
      "text/plain": [
       "<circuitsvis.utils.render.RenderedHTML at 0x7fa4c05d2850>"
      ]
     },
     "metadata": {},
     "output_type": "display_data"
    },
    {
     "name": "stdout",
     "output_type": "stream",
     "text": [
      "--------------------------------------------------------------------------------\n",
      "layer=47\n"
     ]
    },
    {
     "data": {
      "text/html": [
       "<div id=\"circuits-vis-e59c126e-4d0f\" style=\"margin: 15px 0;\"/>\n",
       "    <script crossorigin type=\"module\">\n",
       "    import { render, ColoredTokens } from \"https://unpkg.com/circuitsvis@1.43.3/dist/cdn/esm.js\";\n",
       "    render(\n",
       "      \"circuits-vis-e59c126e-4d0f\",\n",
       "      ColoredTokens,\n",
       "      {\"tokens\": [\"Which\", \" of\", \" the\", \" following\", \" words\", \" rh\", \"ymes\", \" with\", \" rat\", \"\\n\", \"1\", \".\", \" orange\", \"\\n\", \"2\", \".\", \" mat\", \"\\n\", \"3\", \".\", \" book\", \"\\n\", \"4\", \".\", \" rabbit\", \"\\n\", \"5\", \".\", \" bowl\", \"\\n\", \"6\", \".\", \" watch\", \"\\n\", \"7\", \".\", \" mirror\", \"\\n\", \"Answer\", \":\"], \"values\": [0.0033603310585021973, 0.0010891556739807129, 0.0003561796620488167, 0.0008032231125980616, 0.0007178261876106262, 0.0005657374858856201, 0.001593083143234253, 0.0009958669543266296, 0.002245776355266571, 0.002638891339302063, 0.001414417289197445, 0.0009869392961263657, 0.0009872987866401672, 0.0013070553541183472, 0.005109336227178574, 0.0007768068462610245, 0.0033995434641838074, 0.011645589023828506, 0.000446926336735487, 0.0003795567899942398, 0.0007119365036487579, 0.000471542589366436, 0.0011858753859996796, 0.0004931995645165443, 0.0005089417099952698, 0.0005096145905554295, 0.0007031150162220001, 0.0002776291221380234, 0.00046765804290771484, 0.00044453423470258713, 0.000590713694691658, 0.0003116372972726822, 0.0005518719553947449, 0.0002788454294204712, 0.0004703924059867859, 0.0004215855151414871, 0.0009064376354217529, 0.0004721274599432945, 0.011762142181396484, 0.0019269809126853943]}\n",
       "    )\n",
       "    </script>"
      ],
      "text/plain": [
       "<circuitsvis.utils.render.RenderedHTML at 0x7fa4c01c5510>"
      ]
     },
     "metadata": {},
     "output_type": "display_data"
    },
    {
     "name": "stdout",
     "output_type": "stream",
     "text": [
      "--------------------------------------------------------------------------------\n",
      "layer=52\n"
     ]
    },
    {
     "data": {
      "text/html": [
       "<div id=\"circuits-vis-f04f30ba-d3c0\" style=\"margin: 15px 0;\"/>\n",
       "    <script crossorigin type=\"module\">\n",
       "    import { render, ColoredTokens } from \"https://unpkg.com/circuitsvis@1.43.3/dist/cdn/esm.js\";\n",
       "    render(\n",
       "      \"circuits-vis-f04f30ba-d3c0\",\n",
       "      ColoredTokens,\n",
       "      {\"tokens\": [\"Which\", \" of\", \" the\", \" following\", \" words\", \" rh\", \"ymes\", \" with\", \" rat\", \"\\n\", \"1\", \".\", \" orange\", \"\\n\", \"2\", \".\", \" mat\", \"\\n\", \"3\", \".\", \" book\", \"\\n\", \"4\", \".\", \" rabbit\", \"\\n\", \"5\", \".\", \" bowl\", \"\\n\", \"6\", \".\", \" watch\", \"\\n\", \"7\", \".\", \" mirror\", \"\\n\", \"Answer\", \":\"], \"values\": [0.0040822625160217285, 0.00291360542178154, 0.0009359009563922882, 0.002005644142627716, 0.002258799970149994, 0.0021411553025245667, 0.004522919654846191, 0.003108162432909012, 0.00495312362909317, 0.012732788920402527, 0.006056070327758789, 0.0027690287679433823, 0.0038492754101753235, 0.005929239094257355, 0.011841654777526855, 0.0018125995993614197, 0.011868765577673912, 0.012243300676345825, 0.0014476003125309944, 0.0007909536361694336, 0.0013523418456315994, 0.0016436949372291565, 0.003351636230945587, 0.0008338568732142448, 0.0012775026261806488, 0.0013810526579618454, 0.001540008932352066, 0.0006228967104107141, 0.0008055372163653374, 0.001596713438630104, 0.0015772338956594467, 0.0005380506627261639, 0.0008484004065394402, 0.0013317912817001343, 0.0009058509021997452, 0.0008789375424385071, 0.0011876542121171951, 0.001474662683904171, 0.021746814250946045, 0.013231221586465836]}\n",
       "    )\n",
       "    </script>"
      ],
      "text/plain": [
       "<circuitsvis.utils.render.RenderedHTML at 0x7fa5679a0090>"
      ]
     },
     "metadata": {},
     "output_type": "display_data"
    },
    {
     "name": "stdout",
     "output_type": "stream",
     "text": [
      "--------------------------------------------------------------------------------\n",
      "======================================================================\n",
      "2025-08-01 14:51:07 __main__ INFO     Layer: 33, Head: 45\n"
     ]
    },
    {
     "data": {
      "text/html": [
       "<div id=\"circuits-vis-fe0b2e93-cc58\" style=\"margin: 15px 0;\"/>\n",
       "    <script crossorigin type=\"module\">\n",
       "    import { render, ColoredTokens } from \"https://unpkg.com/circuitsvis@1.43.3/dist/cdn/esm.js\";\n",
       "    render(\n",
       "      \"circuits-vis-fe0b2e93-cc58\",\n",
       "      ColoredTokens,\n",
       "      {\"tokens\": [\"Which\", \" of\", \" the\", \" following\", \" words\", \" rh\", \"ymes\", \" with\", \" rat\", \"\\n\", \"1\", \".\", \" orange\", \"\\n\", \"2\", \".\", \" mat\", \"\\n\", \"3\", \".\", \" book\", \"\\n\", \"4\", \".\", \" rabbit\", \"\\n\", \"5\", \".\", \" bowl\", \"\\n\", \"6\", \".\", \" watch\", \"\\n\", \"7\", \".\", \" mirror\", \"\\n\", \"Answer\", \":\"], \"values\": [0.03125, 0.004364013671875, 0.00079345703125, 0.0091552734375, 0.0042724609375, 0.002899169921875, 0.0125732421875, 0.007080078125, 0.021484375, 0.0106201171875, 0.01171875, 0.011474609375, 0.00762939453125, 0.01239013671875, 0.043701171875, 0.00396728515625, 0.11572265625, 0.06787109375, 0.00299072265625, 0.0025634765625, 0.005584716796875, 0.005340576171875, 0.01708984375, 0.00176239013671875, 0.01416015625, 0.0086669921875, 0.01904296875, 0.0028533935546875, 0.003082275390625, 0.002899169921875, 0.02392578125, 0.00421142578125, 0.002593994140625, 0.000957489013671875, 0.002685546875, 0.00823974609375, 0.00543212890625, 0.0020599365234375, 0.00958251953125, 0.020263671875]}\n",
       "    )\n",
       "    </script>"
      ],
      "text/plain": [
       "<circuitsvis.utils.render.RenderedHTML at 0x7fa4c044e210>"
      ]
     },
     "metadata": {},
     "output_type": "display_data"
    },
    {
     "name": "stdout",
     "output_type": "stream",
     "text": [
      "2025-08-01 14:51:07 __main__ INFO     Layer: 33, Head: 18\n"
     ]
    },
    {
     "data": {
      "text/html": [
       "<div id=\"circuits-vis-22a5f0d6-5fbf\" style=\"margin: 15px 0;\"/>\n",
       "    <script crossorigin type=\"module\">\n",
       "    import { render, ColoredTokens } from \"https://unpkg.com/circuitsvis@1.43.3/dist/cdn/esm.js\";\n",
       "    render(\n",
       "      \"circuits-vis-22a5f0d6-5fbf\",\n",
       "      ColoredTokens,\n",
       "      {\"tokens\": [\"Which\", \" of\", \" the\", \" following\", \" words\", \" rh\", \"ymes\", \" with\", \" rat\", \"\\n\", \"1\", \".\", \" orange\", \"\\n\", \"2\", \".\", \" mat\", \"\\n\", \"3\", \".\", \" book\", \"\\n\", \"4\", \".\", \" rabbit\", \"\\n\", \"5\", \".\", \" bowl\", \"\\n\", \"6\", \".\", \" watch\", \"\\n\", \"7\", \".\", \" mirror\", \"\\n\", \"Answer\", \":\"], \"values\": [0.017822265625, 0.002960205078125, 0.0002384185791015625, 0.00347900390625, 0.005279541015625, 0.00139617919921875, 0.003326416015625, 0.00390625, 0.01708984375, 0.00799560546875, 0.0179443359375, 0.048828125, 0.003143310546875, 0.031982421875, 0.171875, 0.0030670166015625, 0.0213623046875, 0.26953125, 0.036865234375, 0.0234375, 0.0030670166015625, 0.01806640625, 0.0625, 0.0009002685546875, 0.00250244140625, 0.01519775390625, 0.03564453125, 0.003936767578125, 0.0009002685546875, 0.007110595703125, 0.0224609375, 0.0010528564453125, 0.000278472900390625, 0.0010223388671875, 0.004058837890625, 0.002685546875, 0.0005645751953125, 0.00135040283203125, 0.001556396484375, 0.00897216796875]}\n",
       "    )\n",
       "    </script>"
      ],
      "text/plain": [
       "<circuitsvis.utils.render.RenderedHTML at 0x7fa4e029b990>"
      ]
     },
     "metadata": {},
     "output_type": "display_data"
    },
    {
     "name": "stdout",
     "output_type": "stream",
     "text": [
      "2025-08-01 14:51:07 __main__ INFO     Layer: 34, Head: 1\n"
     ]
    },
    {
     "data": {
      "text/html": [
       "<div id=\"circuits-vis-014bd709-e505\" style=\"margin: 15px 0;\"/>\n",
       "    <script crossorigin type=\"module\">\n",
       "    import { render, ColoredTokens } from \"https://unpkg.com/circuitsvis@1.43.3/dist/cdn/esm.js\";\n",
       "    render(\n",
       "      \"circuits-vis-014bd709-e505\",\n",
       "      ColoredTokens,\n",
       "      {\"tokens\": [\"Which\", \" of\", \" the\", \" following\", \" words\", \" rh\", \"ymes\", \" with\", \" rat\", \"\\n\", \"1\", \".\", \" orange\", \"\\n\", \"2\", \".\", \" mat\", \"\\n\", \"3\", \".\", \" book\", \"\\n\", \"4\", \".\", \" rabbit\", \"\\n\", \"5\", \".\", \" bowl\", \"\\n\", \"6\", \".\", \" watch\", \"\\n\", \"7\", \".\", \" mirror\", \"\\n\", \"Answer\", \":\"], \"values\": [0.029296875, 0.004180908203125, 0.00014019012451171875, 0.00286865234375, 0.0020599365234375, 0.00396728515625, 0.01226806640625, 0.0084228515625, 0.00994873046875, 0.00506591796875, 0.0014190673828125, 0.01123046875, 8.249282836914062e-05, 0.000507354736328125, 0.017578125, 0.00946044921875, 0.09423828125, 0.40625, 0.0084228515625, 0.0028228759765625, 1.5735626220703125e-05, 0.000164031982421875, 0.005584716796875, 0.00160980224609375, 0.00072479248046875, 0.00160980224609375, 0.0096435546875, 0.000507354736328125, 1.1920928955078125e-05, 8.249282836914062e-05, 0.0076904296875, 0.01031494140625, 7.450580596923828e-06, 1.7881393432617188e-05, 0.006622314453125, 0.000797271728515625, 7.927417755126953e-06, 9.000301361083984e-06, 0.001312255859375, 0.0302734375]}\n",
       "    )\n",
       "    </script>"
      ],
      "text/plain": [
       "<circuitsvis.utils.render.RenderedHTML at 0x7fa4c0101e10>"
      ]
     },
     "metadata": {},
     "output_type": "display_data"
    },
    {
     "name": "stdout",
     "output_type": "stream",
     "text": [
      "2025-08-01 14:51:07 __main__ INFO     Layer: 34, Head: 6\n"
     ]
    },
    {
     "data": {
      "text/html": [
       "<div id=\"circuits-vis-09b31b64-5fa6\" style=\"margin: 15px 0;\"/>\n",
       "    <script crossorigin type=\"module\">\n",
       "    import { render, ColoredTokens } from \"https://unpkg.com/circuitsvis@1.43.3/dist/cdn/esm.js\";\n",
       "    render(\n",
       "      \"circuits-vis-09b31b64-5fa6\",\n",
       "      ColoredTokens,\n",
       "      {\"tokens\": [\"Which\", \" of\", \" the\", \" following\", \" words\", \" rh\", \"ymes\", \" with\", \" rat\", \"\\n\", \"1\", \".\", \" orange\", \"\\n\", \"2\", \".\", \" mat\", \"\\n\", \"3\", \".\", \" book\", \"\\n\", \"4\", \".\", \" rabbit\", \"\\n\", \"5\", \".\", \" bowl\", \"\\n\", \"6\", \".\", \" watch\", \"\\n\", \"7\", \".\", \" mirror\", \"\\n\", \"Answer\", \":\"], \"values\": [0.0152587890625, 0.000934600830078125, 0.00014781951904296875, 0.00115966796875, 0.0004138946533203125, 0.001007080078125, 0.0048828125, 0.0036468505859375, 0.008056640625, 0.004180908203125, 0.00125885009765625, 0.006927490234375, 0.00015735626220703125, 0.0004138946533203125, 0.0159912109375, 0.0081787109375, 0.2119140625, 0.4765625, 0.00531005859375, 0.0033721923828125, 8.153915405273438e-05, 0.0001430511474609375, 0.0026397705078125, 0.0016937255859375, 0.00171661376953125, 0.0012359619140625, 0.003387451171875, 0.000492095947265625, 2.7418136596679688e-05, 5.1021575927734375e-05, 0.0024261474609375, 0.00830078125, 1.4185905456542969e-05, 1.1742115020751953e-05, 0.00469970703125, 0.0003337860107421875, 1.0728836059570312e-05, 4.470348358154297e-06, 0.0003833770751953125, 0.0189208984375]}\n",
       "    )\n",
       "    </script>"
      ],
      "text/plain": [
       "<circuitsvis.utils.render.RenderedHTML at 0x7fa4c039ae10>"
      ]
     },
     "metadata": {},
     "output_type": "display_data"
    },
    {
     "name": "stdout",
     "output_type": "stream",
     "text": [
      "2025-08-01 14:51:07 __main__ INFO     Layer: 34, Head: 7\n"
     ]
    },
    {
     "data": {
      "text/html": [
       "<div id=\"circuits-vis-3501a3cd-08d3\" style=\"margin: 15px 0;\"/>\n",
       "    <script crossorigin type=\"module\">\n",
       "    import { render, ColoredTokens } from \"https://unpkg.com/circuitsvis@1.43.3/dist/cdn/esm.js\";\n",
       "    render(\n",
       "      \"circuits-vis-3501a3cd-08d3\",\n",
       "      ColoredTokens,\n",
       "      {\"tokens\": [\"Which\", \" of\", \" the\", \" following\", \" words\", \" rh\", \"ymes\", \" with\", \" rat\", \"\\n\", \"1\", \".\", \" orange\", \"\\n\", \"2\", \".\", \" mat\", \"\\n\", \"3\", \".\", \" book\", \"\\n\", \"4\", \".\", \" rabbit\", \"\\n\", \"5\", \".\", \" bowl\", \"\\n\", \"6\", \".\", \" watch\", \"\\n\", \"7\", \".\", \" mirror\", \"\\n\", \"Answer\", \":\"], \"values\": [0.028564453125, 0.00116729736328125, 8.20159912109375e-05, 0.00124359130859375, 0.000827789306640625, 0.00147247314453125, 0.004974365234375, 0.0033111572265625, 0.01165771484375, 0.00567626953125, 0.0023193359375, 0.00787353515625, 0.0004711151123046875, 0.001983642578125, 0.0216064453125, 0.0133056640625, 0.0791015625, 0.388671875, 0.010009765625, 0.0037078857421875, 0.00022983551025390625, 0.00089263916015625, 0.006011962890625, 0.006591796875, 0.0033111572265625, 0.007354736328125, 0.0107421875, 0.00140380859375, 0.000286102294921875, 0.000812530517578125, 0.01068115234375, 0.01129150390625, 0.00022220611572265625, 0.0004787445068359375, 0.0184326171875, 0.0027923583984375, 0.00043487548828125, 0.000377655029296875, 0.006805419921875, 0.1064453125]}\n",
       "    )\n",
       "    </script>"
      ],
      "text/plain": [
       "<circuitsvis.utils.render.RenderedHTML at 0x7fa4c05d2c10>"
      ]
     },
     "metadata": {},
     "output_type": "display_data"
    },
    {
     "name": "stdout",
     "output_type": "stream",
     "text": [
      "2025-08-01 14:51:07 __main__ INFO     Layer: 35, Head: 19\n"
     ]
    },
    {
     "data": {
      "text/html": [
       "<div id=\"circuits-vis-0dd089ac-3a39\" style=\"margin: 15px 0;\"/>\n",
       "    <script crossorigin type=\"module\">\n",
       "    import { render, ColoredTokens } from \"https://unpkg.com/circuitsvis@1.43.3/dist/cdn/esm.js\";\n",
       "    render(\n",
       "      \"circuits-vis-0dd089ac-3a39\",\n",
       "      ColoredTokens,\n",
       "      {\"tokens\": [\"Which\", \" of\", \" the\", \" following\", \" words\", \" rh\", \"ymes\", \" with\", \" rat\", \"\\n\", \"1\", \".\", \" orange\", \"\\n\", \"2\", \".\", \" mat\", \"\\n\", \"3\", \".\", \" book\", \"\\n\", \"4\", \".\", \" rabbit\", \"\\n\", \"5\", \".\", \" bowl\", \"\\n\", \"6\", \".\", \" watch\", \"\\n\", \"7\", \".\", \" mirror\", \"\\n\", \"Answer\", \":\"], \"values\": [0.0186767578125, 0.0001583099365234375, 0.000148773193359375, 0.0002994537353515625, 0.00070953369140625, 0.00102996826171875, 0.005462646484375, 0.0015106201171875, 0.04052734375, 0.005096435546875, 0.0002193450927734375, 0.0126953125, 0.0013885498046875, 0.003753662109375, 0.00665283203125, 0.0203857421875, 0.40234375, 0.240234375, 0.00677490234375, 0.02587890625, 0.001861572265625, 0.005035400390625, 0.0054931640625, 0.003631591796875, 0.0299072265625, 0.020263671875, 0.006317138671875, 0.007598876953125, 0.0032958984375, 0.003936767578125, 0.004119873046875, 0.018798828125, 0.002593994140625, 0.0021514892578125, 0.00070953369140625, 0.0028839111328125, 0.0017242431640625, 0.00102996826171875, 0.000308990478515625, 0.001922607421875]}\n",
       "    )\n",
       "    </script>"
      ],
      "text/plain": [
       "<circuitsvis.utils.render.RenderedHTML at 0x7fa4e029b990>"
      ]
     },
     "metadata": {},
     "output_type": "display_data"
    },
    {
     "name": "stdout",
     "output_type": "stream",
     "text": [
      "2025-08-01 14:51:08 __main__ INFO     Layer: 39, Head: 40\n"
     ]
    },
    {
     "data": {
      "text/html": [
       "<div id=\"circuits-vis-e74db559-f158\" style=\"margin: 15px 0;\"/>\n",
       "    <script crossorigin type=\"module\">\n",
       "    import { render, ColoredTokens } from \"https://unpkg.com/circuitsvis@1.43.3/dist/cdn/esm.js\";\n",
       "    render(\n",
       "      \"circuits-vis-e74db559-f158\",\n",
       "      ColoredTokens,\n",
       "      {\"tokens\": [\"Which\", \" of\", \" the\", \" following\", \" words\", \" rh\", \"ymes\", \" with\", \" rat\", \"\\n\", \"1\", \".\", \" orange\", \"\\n\", \"2\", \".\", \" mat\", \"\\n\", \"3\", \".\", \" book\", \"\\n\", \"4\", \".\", \" rabbit\", \"\\n\", \"5\", \".\", \" bowl\", \"\\n\", \"6\", \".\", \" watch\", \"\\n\", \"7\", \".\", \" mirror\", \"\\n\", \"Answer\", \":\"], \"values\": [0.00775146484375, 0.0038604736328125, 0.00055694580078125, 0.0027618408203125, 0.0026092529296875, 0.000640869140625, 0.0020751953125, 0.00640869140625, 0.004669189453125, 0.0198974609375, 0.003753662109375, 0.047119140625, 0.00031280517578125, 0.00194549560546875, 0.051025390625, 0.010986328125, 0.2216796875, 0.439453125, 0.0245361328125, 0.01220703125, 0.0010223388671875, 0.0038604736328125, 0.0107421875, 0.000934600830078125, 0.000652313232421875, 0.00445556640625, 0.004150390625, 0.00213623046875, 0.00010967254638671875, 0.00011301040649414062, 0.0019989013671875, 0.002960205078125, 6.0558319091796875e-05, 6.67572021484375e-05, 0.000640869140625, 0.00177001953125, 4.863739013671875e-05, 3.337860107421875e-05, 0.0014190673828125, 0.0203857421875]}\n",
       "    )\n",
       "    </script>"
      ],
      "text/plain": [
       "<circuitsvis.utils.render.RenderedHTML at 0x7fa5679a0090>"
      ]
     },
     "metadata": {},
     "output_type": "display_data"
    },
    {
     "name": "stdout",
     "output_type": "stream",
     "text": [
      "2025-08-01 14:51:08 __main__ INFO     Layer: 42, Head: 30\n"
     ]
    },
    {
     "data": {
      "text/html": [
       "<div id=\"circuits-vis-63b10867-8c00\" style=\"margin: 15px 0;\"/>\n",
       "    <script crossorigin type=\"module\">\n",
       "    import { render, ColoredTokens } from \"https://unpkg.com/circuitsvis@1.43.3/dist/cdn/esm.js\";\n",
       "    render(\n",
       "      \"circuits-vis-63b10867-8c00\",\n",
       "      ColoredTokens,\n",
       "      {\"tokens\": [\"Which\", \" of\", \" the\", \" following\", \" words\", \" rh\", \"ymes\", \" with\", \" rat\", \"\\n\", \"1\", \".\", \" orange\", \"\\n\", \"2\", \".\", \" mat\", \"\\n\", \"3\", \".\", \" book\", \"\\n\", \"4\", \".\", \" rabbit\", \"\\n\", \"5\", \".\", \" bowl\", \"\\n\", \"6\", \".\", \" watch\", \"\\n\", \"7\", \".\", \" mirror\", \"\\n\", \"Answer\", \":\"], \"values\": [0.004730224609375, 0.00139617919921875, 0.00127410888671875, 0.005462646484375, 0.00689697265625, 0.003997802734375, 0.01458740234375, 0.00897216796875, 0.0084228515625, 0.0093994140625, 0.004058837890625, 0.00885009765625, 0.0010223388671875, 0.004364013671875, 0.0198974609375, 0.00689697265625, 0.024658203125, 0.1015625, 0.005889892578125, 0.004364013671875, 0.001312255859375, 0.004058837890625, 0.008544921875, 0.0020294189453125, 0.000797271728515625, 0.0030059814453125, 0.005706787109375, 0.001739501953125, 0.00060272216796875, 0.0015869140625, 0.005279541015625, 0.002777099609375, 0.000514984130859375, 0.000640869140625, 0.002166748046875, 0.002532958984375, 0.000797271728515625, 0.00109100341796875, 0.00179290771484375, 0.0038604736328125]}\n",
       "    )\n",
       "    </script>"
      ],
      "text/plain": [
       "<circuitsvis.utils.render.RenderedHTML at 0x7fa4e029b990>"
      ]
     },
     "metadata": {},
     "output_type": "display_data"
    },
    {
     "name": "stdout",
     "output_type": "stream",
     "text": [
      "2025-08-01 14:51:08 __main__ INFO     Layer: 47, Head: 18\n"
     ]
    },
    {
     "data": {
      "text/html": [
       "<div id=\"circuits-vis-a97f54f1-d10b\" style=\"margin: 15px 0;\"/>\n",
       "    <script crossorigin type=\"module\">\n",
       "    import { render, ColoredTokens } from \"https://unpkg.com/circuitsvis@1.43.3/dist/cdn/esm.js\";\n",
       "    render(\n",
       "      \"circuits-vis-a97f54f1-d10b\",\n",
       "      ColoredTokens,\n",
       "      {\"tokens\": [\"Which\", \" of\", \" the\", \" following\", \" words\", \" rh\", \"ymes\", \" with\", \" rat\", \"\\n\", \"1\", \".\", \" orange\", \"\\n\", \"2\", \".\", \" mat\", \"\\n\", \"3\", \".\", \" book\", \"\\n\", \"4\", \".\", \" rabbit\", \"\\n\", \"5\", \".\", \" bowl\", \"\\n\", \"6\", \".\", \" watch\", \"\\n\", \"7\", \".\", \" mirror\", \"\\n\", \"Answer\", \":\"], \"values\": [0.0023956298828125, 0.0031280517578125, 0.0021514892578125, 0.00885009765625, 0.00262451171875, 0.000324249267578125, 0.00095367431640625, 0.0093994140625, 0.001861572265625, 0.00933837890625, 0.0103759765625, 0.010498046875, 5.2928924560546875e-05, 0.002716064453125, 0.1796875, 0.00848388671875, 0.0269775390625, 0.44140625, 0.007049560546875, 0.00167083740234375, 0.00075531005859375, 0.0029296875, 0.0107421875, 0.004913330078125, 7.2479248046875e-05, 0.00201416015625, 0.00616455078125, 0.00107574462890625, 0.0001583099365234375, 0.000568389892578125, 0.005401611328125, 0.0025482177734375, 4.38690185546875e-05, 0.00014400482177734375, 0.005645751953125, 0.0021514892578125, 0.00012683868408203125, 0.00012683868408203125, 0.001129150390625, 0.0047607421875]}\n",
       "    )\n",
       "    </script>"
      ],
      "text/plain": [
       "<circuitsvis.utils.render.RenderedHTML at 0x7fa4c01024d0>"
      ]
     },
     "metadata": {},
     "output_type": "display_data"
    },
    {
     "name": "stdout",
     "output_type": "stream",
     "text": [
      "2025-08-01 14:51:08 __main__ INFO     Layer: 52, Head: 58\n"
     ]
    },
    {
     "data": {
      "text/html": [
       "<div id=\"circuits-vis-17579ec9-1558\" style=\"margin: 15px 0;\"/>\n",
       "    <script crossorigin type=\"module\">\n",
       "    import { render, ColoredTokens } from \"https://unpkg.com/circuitsvis@1.43.3/dist/cdn/esm.js\";\n",
       "    render(\n",
       "      \"circuits-vis-17579ec9-1558\",\n",
       "      ColoredTokens,\n",
       "      {\"tokens\": [\"Which\", \" of\", \" the\", \" following\", \" words\", \" rh\", \"ymes\", \" with\", \" rat\", \"\\n\", \"1\", \".\", \" orange\", \"\\n\", \"2\", \".\", \" mat\", \"\\n\", \"3\", \".\", \" book\", \"\\n\", \"4\", \".\", \" rabbit\", \"\\n\", \"5\", \".\", \" bowl\", \"\\n\", \"6\", \".\", \" watch\", \"\\n\", \"7\", \".\", \" mirror\", \"\\n\", \"Answer\", \":\"], \"values\": [0.006683349609375, 0.0135498046875, 0.005645751953125, 0.0205078125, 0.0164794921875, 0.007476806640625, 0.01409912109375, 0.0302734375, 0.009765625, 0.00946044921875, 0.003692626953125, 0.01556396484375, 0.000499725341796875, 0.00131988525390625, 0.016357421875, 0.01409912109375, 0.1669921875, 0.07470703125, 0.00054931640625, 0.0027008056640625, 0.00116729736328125, 0.00054931640625, 0.000705718994140625, 0.0057373046875, 0.00026702880859375, 0.00054931640625, 0.00034332275390625, 0.000934600830078125, 0.00034332275390625, 0.00010156631469726562, 0.000568389892578125, 0.001922607421875, 0.00011873245239257812, 3.1948089599609375e-05, 0.00034332275390625, 0.00177764892578125, 0.00038909912109375, 4.363059997558594e-05, 0.001953125, 0.0108642578125]}\n",
       "    )\n",
       "    </script>"
      ],
      "text/plain": [
       "<circuitsvis.utils.render.RenderedHTML at 0x7fa5679aeb10>"
      ]
     },
     "metadata": {},
     "output_type": "display_data"
    },
    {
     "data": {
      "text/plain": [
       "[PredictedToken(token=' ', prob=0.52734375, logit=20.125, token_id=220, metadata=None),\n",
       " PredictedToken(token=' mat', prob=0.1328125, logit=18.75, token_id=5634, metadata=None),\n",
       " PredictedToken(token=' The', prob=0.1328125, logit=18.75, token_id=578, metadata=None),\n",
       " PredictedToken(token=' Mat', prob=0.0380859375, logit=17.5, token_id=7011, metadata=None),\n",
       " PredictedToken(token=' (', prob=0.0296630859375, logit=17.25, token_id=320, metadata=None)]"
      ]
     },
     "execution_count": 44,
     "metadata": {},
     "output_type": "execute_result"
    }
   ],
   "source": [
    "# rhymes with\n",
    "\n",
    "options = [\"orange\", \"mat\", \"book\", \"rabbit\", \"bowl\", \"watch\", \"mirror\"]\n",
    "word = \"rat\"\n",
    "# word = \"look\"\n",
    "# word = \"fetch\"\n",
    "# word = \"growl\"\n",
    "\n",
    "# prompt_template = \"\"\"{}\n",
    "# Which of these words rhymes with the word \"{}\"?\n",
    "# Answer:\"\"\"\n",
    "# prompt = prompt_template.format(\n",
    "#     \", \".join(options),\n",
    "#     word\n",
    "# )\n",
    "# prompt = prompt_template.format(\"\\n\".join([f\"{idx+1}. {name}\" for idx, name in enumerate(options)]), word)\n",
    "\n",
    "\n",
    "prompt_template = \"\"\"Which of the following words rhymes with {}\n",
    "{}\n",
    "Answer:\"\"\"\n",
    "prompt = prompt_template.format(word, \"\\n\".join([f\"{idx+1}. {name}\" for idx, name in enumerate(options)]))\n",
    "print(prompt)\n",
    "\n",
    "verify = verify_head_patterns(\n",
    "    prompt=prompt,\n",
    "    options=options,\n",
    "    pivot=word,\n",
    "    mt=mt,\n",
    "    value_weighted=False,\n",
    "    generate_full_answer=True,\n",
    ")\n",
    "verify[\"predictions\"]\n"
   ]
  },
  {
   "cell_type": "code",
   "execution_count": 45,
   "id": "050e2d91",
   "metadata": {},
   "outputs": [
    {
     "name": "stdout",
     "output_type": "stream",
     "text": [
      "2025-08-01 14:51:52 __main__ DEBUG    orange | opt_range=(13, 14) | bare_opt_range=(4, 5) | \" orange\"\n"
     ]
    },
    {
     "name": "stdout",
     "output_type": "stream",
     "text": [
      "2025-08-01 14:51:52 __main__ DEBUG    mat | opt_range=(17, 18) | bare_opt_range=(4, 5) | \" mat\"\n",
      "2025-08-01 14:51:52 __main__ DEBUG    book | opt_range=(21, 22) | bare_opt_range=(4, 5) | \" book\"\n",
      "2025-08-01 14:51:52 __main__ DEBUG    rabbit | opt_range=(25, 26) | bare_opt_range=(4, 5) | \" rabbit\"\n",
      "2025-08-01 14:51:52 __main__ DEBUG    bowl | opt_range=(29, 30) | bare_opt_range=(4, 5) | \" bowl\"\n",
      "2025-08-01 14:51:52 __main__ DEBUG    watch | opt_range=(33, 34) | bare_opt_range=(4, 5) | \" watch\"\n",
      "2025-08-01 14:51:52 __main__ DEBUG    mirror | opt_range=(37, 38) | bare_opt_range=(4, 5) | \" mirror\"\n",
      "2025-08-01 14:51:55 __main__ DEBUG    Predictions: ['\" \"[220] (p=0.494, logit=20.000)', '\" The\"[578] (p=0.142, logit=18.750)', '\" mat\"[5634] (p=0.125, logit=18.625)', '\" Mat\"[7011] (p=0.059, logit=17.875)', '\" (\"[320] (p=0.036, logit=17.375)']\n",
      "layer=35\n"
     ]
    },
    {
     "data": {
      "text/html": [
       "<div id=\"circuits-vis-9d2247c9-8c71\" style=\"margin: 15px 0;\"/>\n",
       "    <script crossorigin type=\"module\">\n",
       "    import { render, ColoredTokens } from \"https://unpkg.com/circuitsvis@1.43.3/dist/cdn/esm.js\";\n",
       "    render(\n",
       "      \"circuits-vis-9d2247c9-8c71\",\n",
       "      ColoredTokens,\n",
       "      {\"tokens\": [\"Which\", \" of\", \" the\", \" following\", \" words\", \" rh\", \"ymes\", \" with\", \" rat\", \"\\n\", \"1\", \".\", \" orange\", \"\\n\", \"2\", \".\", \" mat\", \"\\n\", \"3\", \".\", \" book\", \"\\n\", \"4\", \".\", \" rabbit\", \"\\n\", \"5\", \".\", \" bowl\", \"\\n\", \"6\", \".\", \" watch\", \"\\n\", \"7\", \".\", \" mirror\", \"\\n\", \"Answer\", \":\"], \"values\": [0.026412904262542725, 0.00743257999420166, 0.0007422007620334625, 0.006165489554405212, 0.005736798048019409, 0.005162492394447327, 0.019231826066970825, 0.008977681398391724, 0.014002233743667603, 0.017513513565063477, 0.00792837142944336, 0.010203711688518524, 0.0016636103391647339, 0.010152369737625122, 0.03362464904785156, 0.007727786898612976, 0.017322562634944916, 0.05044081062078476, 0.015127226710319519, 0.005002675577998161, 0.0013998933136463165, 0.008385702967643738, 0.015307724475860596, 0.0028341487050056458, 0.004511915147304535, 0.011863023042678833, 0.010259151458740234, 0.001876089721918106, 0.001757606863975525, 0.005593419075012207, 0.009666740894317627, 0.0017133476212620735, 0.0015349164605140686, 0.004030883312225342, 0.006574392318725586, 0.0025450587272644043, 0.0017825895920395851, 0.004467220976948738, 0.025749951601028442, 0.0342707633972168]}\n",
       "    )\n",
       "    </script>"
      ],
      "text/plain": [
       "<circuitsvis.utils.render.RenderedHTML at 0x7fa5688b6c10>"
      ]
     },
     "metadata": {},
     "output_type": "display_data"
    },
    {
     "name": "stdout",
     "output_type": "stream",
     "text": [
      "--------------------------------------------------------------------------------\n",
      "layer=47\n"
     ]
    },
    {
     "data": {
      "text/html": [
       "<div id=\"circuits-vis-5814fa81-c486\" style=\"margin: 15px 0;\"/>\n",
       "    <script crossorigin type=\"module\">\n",
       "    import { render, ColoredTokens } from \"https://unpkg.com/circuitsvis@1.43.3/dist/cdn/esm.js\";\n",
       "    render(\n",
       "      \"circuits-vis-5814fa81-c486\",\n",
       "      ColoredTokens,\n",
       "      {\"tokens\": [\"Which\", \" of\", \" the\", \" following\", \" words\", \" rh\", \"ymes\", \" with\", \" rat\", \"\\n\", \"1\", \".\", \" orange\", \"\\n\", \"2\", \".\", \" mat\", \"\\n\", \"3\", \".\", \" book\", \"\\n\", \"4\", \".\", \" rabbit\", \"\\n\", \"5\", \".\", \" bowl\", \"\\n\", \"6\", \".\", \" watch\", \"\\n\", \"7\", \".\", \" mirror\", \"\\n\", \"Answer\", \":\"], \"values\": [0.0031686872243881226, 0.0010296739637851715, 0.00035151001065969467, 0.0007318411953747272, 0.0006417050026357174, 0.0005254093557596207, 0.0014448314905166626, 0.0008521787822246552, 0.0021897107362747192, 0.002423882484436035, 0.0013851793482899666, 0.0009502358734607697, 0.0005507692694664001, 0.0009105559438467026, 0.004620831459760666, 0.0005739089101552963, 0.004101874306797981, 0.012223759666085243, 0.0004951753653585911, 0.0003926251083612442, 0.0007340498268604279, 0.0005031852051615715, 0.0012856051325798035, 0.00035250838845968246, 0.0005510803312063217, 0.0004874374717473984, 0.0006860475987195969, 0.0002881959080696106, 0.0004566758871078491, 0.0004299711436033249, 0.0006192699074745178, 0.00023380760103464127, 0.0005642883479595184, 0.00028771162033081055, 0.0005876123905181885, 0.00044220592826604843, 0.0009298697113990784, 0.0004892395809292793, 0.01149660348892212, 0.0018950141966342926]}\n",
       "    )\n",
       "    </script>"
      ],
      "text/plain": [
       "<circuitsvis.utils.render.RenderedHTML at 0x7fa4a0111750>"
      ]
     },
     "metadata": {},
     "output_type": "display_data"
    },
    {
     "name": "stdout",
     "output_type": "stream",
     "text": [
      "--------------------------------------------------------------------------------\n",
      "layer=52\n"
     ]
    },
    {
     "data": {
      "text/html": [
       "<div id=\"circuits-vis-50160d44-939c\" style=\"margin: 15px 0;\"/>\n",
       "    <script crossorigin type=\"module\">\n",
       "    import { render, ColoredTokens } from \"https://unpkg.com/circuitsvis@1.43.3/dist/cdn/esm.js\";\n",
       "    render(\n",
       "      \"circuits-vis-50160d44-939c\",\n",
       "      ColoredTokens,\n",
       "      {\"tokens\": [\"Which\", \" of\", \" the\", \" following\", \" words\", \" rh\", \"ymes\", \" with\", \" rat\", \"\\n\", \"1\", \".\", \" orange\", \"\\n\", \"2\", \".\", \" mat\", \"\\n\", \"3\", \".\", \" book\", \"\\n\", \"4\", \".\", \" rabbit\", \"\\n\", \"5\", \".\", \" bowl\", \"\\n\", \"6\", \".\", \" watch\", \"\\n\", \"7\", \".\", \" mirror\", \"\\n\", \"Answer\", \":\"], \"values\": [0.004108428955078125, 0.0029360055923461914, 0.0009940657764673233, 0.0019216407090425491, 0.00200546532869339, 0.0019882991909980774, 0.004160486161708832, 0.002730265259742737, 0.004600599408149719, 0.012165218591690063, 0.006270907819271088, 0.002686562016606331, 0.0018134526908397675, 0.004973359405994415, 0.0127115398645401, 0.001379053108394146, 0.014536231756210327, 0.01237497478723526, 0.0014512427151203156, 0.0008412841707468033, 0.001349709928035736, 0.0018624886870384216, 0.0034571178257465363, 0.0004919837228953838, 0.0014183223247528076, 0.001370956189930439, 0.0014504343271255493, 0.000616161385551095, 0.0007363259792327881, 0.0014799926429986954, 0.0015814714133739471, 0.00044309720396995544, 0.0008476050570607185, 0.001240885816514492, 0.0011474983766674995, 0.0009268615394830704, 0.001211017370223999, 0.0015142615884542465, 0.0213334858417511, 0.01300809159874916]}\n",
       "    )\n",
       "    </script>"
      ],
      "text/plain": [
       "<circuitsvis.utils.render.RenderedHTML at 0x7fa54019e490>"
      ]
     },
     "metadata": {},
     "output_type": "display_data"
    },
    {
     "name": "stdout",
     "output_type": "stream",
     "text": [
      "--------------------------------------------------------------------------------\n",
      "======================================================================\n",
      "2025-08-01 14:51:55 __main__ INFO     Layer: 33, Head: 45\n"
     ]
    },
    {
     "data": {
      "text/html": [
       "<div id=\"circuits-vis-8c257a2c-5091\" style=\"margin: 15px 0;\"/>\n",
       "    <script crossorigin type=\"module\">\n",
       "    import { render, ColoredTokens } from \"https://unpkg.com/circuitsvis@1.43.3/dist/cdn/esm.js\";\n",
       "    render(\n",
       "      \"circuits-vis-8c257a2c-5091\",\n",
       "      ColoredTokens,\n",
       "      {\"tokens\": [\"Which\", \" of\", \" the\", \" following\", \" words\", \" rh\", \"ymes\", \" with\", \" rat\", \"\\n\", \"1\", \".\", \" orange\", \"\\n\", \"2\", \".\", \" mat\", \"\\n\", \"3\", \".\", \" book\", \"\\n\", \"4\", \".\", \" rabbit\", \"\\n\", \"5\", \".\", \" bowl\", \"\\n\", \"6\", \".\", \" watch\", \"\\n\", \"7\", \".\", \" mirror\", \"\\n\", \"Answer\", \":\"], \"values\": [0.0306396484375, 0.004180908203125, 0.000850677490234375, 0.007568359375, 0.0038604736328125, 0.00274658203125, 0.01275634765625, 0.007232666015625, 0.027587890625, 0.01019287109375, 0.0108642578125, 0.00958251953125, 0.00579833984375, 0.01202392578125, 0.03662109375, 0.007110595703125, 0.091796875, 0.055419921875, 0.00238037109375, 0.002532958984375, 0.00482177734375, 0.00482177734375, 0.018310546875, 0.00146484375, 0.01458740234375, 0.0093994140625, 0.0206298828125, 0.0022735595703125, 0.00311279296875, 0.002960205078125, 0.028076171875, 0.004608154296875, 0.00311279296875, 0.0010223388671875, 0.00341796875, 0.0081787109375, 0.006072998046875, 0.002044677734375, 0.00897216796875, 0.019287109375]}\n",
       "    )\n",
       "    </script>"
      ],
      "text/plain": [
       "<circuitsvis.utils.render.RenderedHTML at 0x7fa56797a3d0>"
      ]
     },
     "metadata": {},
     "output_type": "display_data"
    },
    {
     "name": "stdout",
     "output_type": "stream",
     "text": [
      "2025-08-01 14:51:56 __main__ INFO     Layer: 33, Head: 18\n"
     ]
    },
    {
     "data": {
      "text/html": [
       "<div id=\"circuits-vis-52ca67b7-fc88\" style=\"margin: 15px 0;\"/>\n",
       "    <script crossorigin type=\"module\">\n",
       "    import { render, ColoredTokens } from \"https://unpkg.com/circuitsvis@1.43.3/dist/cdn/esm.js\";\n",
       "    render(\n",
       "      \"circuits-vis-52ca67b7-fc88\",\n",
       "      ColoredTokens,\n",
       "      {\"tokens\": [\"Which\", \" of\", \" the\", \" following\", \" words\", \" rh\", \"ymes\", \" with\", \" rat\", \"\\n\", \"1\", \".\", \" orange\", \"\\n\", \"2\", \".\", \" mat\", \"\\n\", \"3\", \".\", \" book\", \"\\n\", \"4\", \".\", \" rabbit\", \"\\n\", \"5\", \".\", \" bowl\", \"\\n\", \"6\", \".\", \" watch\", \"\\n\", \"7\", \".\", \" mirror\", \"\\n\", \"Answer\", \":\"], \"values\": [0.0167236328125, 0.002716064453125, 0.00023365020751953125, 0.0027008056640625, 0.004150390625, 0.00135040283203125, 0.0034942626953125, 0.00396728515625, 0.0218505859375, 0.007171630859375, 0.016845703125, 0.044189453125, 0.0026397705078125, 0.041259765625, 0.1904296875, 0.005157470703125, 0.0247802734375, 0.259765625, 0.056884765625, 0.0230712890625, 0.002166748046875, 0.01397705078125, 0.056396484375, 0.0013885498046875, 0.0025787353515625, 0.01385498046875, 0.0289306640625, 0.0028533935546875, 0.000606536865234375, 0.00531005859375, 0.0205078125, 0.0008544921875, 0.00028228759765625, 0.00096893310546875, 0.0034942626953125, 0.0023956298828125, 0.000457763671875, 0.00104522705078125, 0.00136566162109375, 0.0096435546875]}\n",
       "    )\n",
       "    </script>"
      ],
      "text/plain": [
       "<circuitsvis.utils.render.RenderedHTML at 0x7fa47ccca810>"
      ]
     },
     "metadata": {},
     "output_type": "display_data"
    },
    {
     "name": "stdout",
     "output_type": "stream",
     "text": [
      "2025-08-01 14:51:56 __main__ INFO     Layer: 34, Head: 1\n"
     ]
    },
    {
     "data": {
      "text/html": [
       "<div id=\"circuits-vis-fcc2c864-36d0\" style=\"margin: 15px 0;\"/>\n",
       "    <script crossorigin type=\"module\">\n",
       "    import { render, ColoredTokens } from \"https://unpkg.com/circuitsvis@1.43.3/dist/cdn/esm.js\";\n",
       "    render(\n",
       "      \"circuits-vis-fcc2c864-36d0\",\n",
       "      ColoredTokens,\n",
       "      {\"tokens\": [\"Which\", \" of\", \" the\", \" following\", \" words\", \" rh\", \"ymes\", \" with\", \" rat\", \"\\n\", \"1\", \".\", \" orange\", \"\\n\", \"2\", \".\", \" mat\", \"\\n\", \"3\", \".\", \" book\", \"\\n\", \"4\", \".\", \" rabbit\", \"\\n\", \"5\", \".\", \" bowl\", \"\\n\", \"6\", \".\", \" watch\", \"\\n\", \"7\", \".\", \" mirror\", \"\\n\", \"Answer\", \":\"], \"values\": [0.0291748046875, 0.0048828125, 0.0001926422119140625, 0.002838134765625, 0.0023193359375, 0.003692626953125, 0.011962890625, 0.008056640625, 0.0152587890625, 0.0054931640625, 0.00177764892578125, 0.01129150390625, 0.00106048583984375, 0.000949859619140625, 0.02001953125, 0.01483154296875, 0.059326171875, 0.388671875, 0.006195068359375, 0.0029296875, 1.5854835510253906e-05, 0.00016021728515625, 0.00518798828125, 0.0009765625, 0.000621795654296875, 0.00127410888671875, 0.01031494140625, 0.0002994537353515625, 1.4901161193847656e-05, 0.00012063980102539062, 0.0101318359375, 0.006103515625, 1.2695789337158203e-05, 2.4557113647460938e-05, 0.01123046875, 0.00090789794921875, 9.298324584960938e-06, 1.3530254364013672e-05, 0.001617431640625, 0.021728515625]}\n",
       "    )\n",
       "    </script>"
      ],
      "text/plain": [
       "<circuitsvis.utils.render.RenderedHTML at 0x7fa5001c0b50>"
      ]
     },
     "metadata": {},
     "output_type": "display_data"
    },
    {
     "name": "stdout",
     "output_type": "stream",
     "text": [
      "2025-08-01 14:51:56 __main__ INFO     Layer: 34, Head: 6\n"
     ]
    },
    {
     "data": {
      "text/html": [
       "<div id=\"circuits-vis-9c2bcb77-536a\" style=\"margin: 15px 0;\"/>\n",
       "    <script crossorigin type=\"module\">\n",
       "    import { render, ColoredTokens } from \"https://unpkg.com/circuitsvis@1.43.3/dist/cdn/esm.js\";\n",
       "    render(\n",
       "      \"circuits-vis-9c2bcb77-536a\",\n",
       "      ColoredTokens,\n",
       "      {\"tokens\": [\"Which\", \" of\", \" the\", \" following\", \" words\", \" rh\", \"ymes\", \" with\", \" rat\", \"\\n\", \"1\", \".\", \" orange\", \"\\n\", \"2\", \".\", \" mat\", \"\\n\", \"3\", \".\", \" book\", \"\\n\", \"4\", \".\", \" rabbit\", \"\\n\", \"5\", \".\", \" bowl\", \"\\n\", \"6\", \".\", \" watch\", \"\\n\", \"7\", \".\", \" mirror\", \"\\n\", \"Answer\", \":\"], \"values\": [0.015380859375, 0.00102996826171875, 0.00016307830810546875, 0.00104522705078125, 0.000396728515625, 0.0008392333984375, 0.0040283203125, 0.0034332275390625, 0.01141357421875, 0.00469970703125, 0.00147247314453125, 0.006317138671875, 0.00093841552734375, 0.00099945068359375, 0.015625, 0.0167236328125, 0.1201171875, 0.55078125, 0.0042724609375, 0.004241943359375, 7.963180541992188e-05, 0.00011539459228515625, 0.0023193359375, 0.00092315673828125, 0.001617431640625, 0.0010986328125, 0.0038299560546875, 0.0003147125244140625, 3.8623809814453125e-05, 6.771087646484375e-05, 0.00335693359375, 0.005035400390625, 2.574920654296875e-05, 1.5139579772949219e-05, 0.01104736328125, 0.000457763671875, 1.33514404296875e-05, 6.735324859619141e-06, 0.00051116943359375, 0.0157470703125]}\n",
       "    )\n",
       "    </script>"
      ],
      "text/plain": [
       "<circuitsvis.utils.render.RenderedHTML at 0x7fa47ccca810>"
      ]
     },
     "metadata": {},
     "output_type": "display_data"
    },
    {
     "name": "stdout",
     "output_type": "stream",
     "text": [
      "2025-08-01 14:51:56 __main__ INFO     Layer: 34, Head: 7\n"
     ]
    },
    {
     "data": {
      "text/html": [
       "<div id=\"circuits-vis-e90dc32c-7020\" style=\"margin: 15px 0;\"/>\n",
       "    <script crossorigin type=\"module\">\n",
       "    import { render, ColoredTokens } from \"https://unpkg.com/circuitsvis@1.43.3/dist/cdn/esm.js\";\n",
       "    render(\n",
       "      \"circuits-vis-e90dc32c-7020\",\n",
       "      ColoredTokens,\n",
       "      {\"tokens\": [\"Which\", \" of\", \" the\", \" following\", \" words\", \" rh\", \"ymes\", \" with\", \" rat\", \"\\n\", \"1\", \".\", \" orange\", \"\\n\", \"2\", \".\", \" mat\", \"\\n\", \"3\", \".\", \" book\", \"\\n\", \"4\", \".\", \" rabbit\", \"\\n\", \"5\", \".\", \" bowl\", \"\\n\", \"6\", \".\", \" watch\", \"\\n\", \"7\", \".\", \" mirror\", \"\\n\", \"Answer\", \":\"], \"values\": [0.031982421875, 0.0012054443359375, 8.96453857421875e-05, 0.0011444091796875, 0.000789642333984375, 0.00128173828125, 0.00445556640625, 0.00311279296875, 0.015869140625, 0.005767822265625, 0.0026702880859375, 0.007537841796875, 0.00128173828125, 0.003875732421875, 0.0234375, 0.0157470703125, 0.05126953125, 0.396484375, 0.008544921875, 0.004241943359375, 0.00025177001953125, 0.000789642333984375, 0.00494384765625, 0.0035858154296875, 0.003265380859375, 0.0067138671875, 0.0098876953125, 0.000965118408203125, 0.000377655029296875, 0.000965118408203125, 0.01177978515625, 0.00714111328125, 0.000354766845703125, 0.00054168701171875, 0.0289306640625, 0.0032196044921875, 0.000507354736328125, 0.0004558563232421875, 0.0084228515625, 0.0869140625]}\n",
       "    )\n",
       "    </script>"
      ],
      "text/plain": [
       "<circuitsvis.utils.render.RenderedHTML at 0x7fa4c01d6810>"
      ]
     },
     "metadata": {},
     "output_type": "display_data"
    },
    {
     "name": "stdout",
     "output_type": "stream",
     "text": [
      "2025-08-01 14:51:56 __main__ INFO     Layer: 35, Head: 19\n"
     ]
    },
    {
     "data": {
      "text/html": [
       "<div id=\"circuits-vis-a7ce93b2-dd33\" style=\"margin: 15px 0;\"/>\n",
       "    <script crossorigin type=\"module\">\n",
       "    import { render, ColoredTokens } from \"https://unpkg.com/circuitsvis@1.43.3/dist/cdn/esm.js\";\n",
       "    render(\n",
       "      \"circuits-vis-a7ce93b2-dd33\",\n",
       "      ColoredTokens,\n",
       "      {\"tokens\": [\"Which\", \" of\", \" the\", \" following\", \" words\", \" rh\", \"ymes\", \" with\", \" rat\", \"\\n\", \"1\", \".\", \" orange\", \"\\n\", \"2\", \".\", \" mat\", \"\\n\", \"3\", \".\", \" book\", \"\\n\", \"4\", \".\", \" rabbit\", \"\\n\", \"5\", \".\", \" bowl\", \"\\n\", \"6\", \".\", \" watch\", \"\\n\", \"7\", \".\", \" mirror\", \"\\n\", \"Answer\", \":\"], \"values\": [0.0213623046875, 0.0001544952392578125, 0.00017547607421875, 0.00026702880859375, 0.00069427490234375, 0.000904083251953125, 0.004638671875, 0.00127410888671875, 0.050537109375, 0.004669189453125, 0.00023937225341796875, 0.01324462890625, 0.00183868408203125, 0.0123291015625, 0.01239013671875, 0.040283203125, 0.296875, 0.2578125, 0.01202392578125, 0.03564453125, 0.0015869140625, 0.005706787109375, 0.005767822265625, 0.002593994140625, 0.0341796875, 0.019287109375, 0.006927490234375, 0.006988525390625, 0.00604248046875, 0.005828857421875, 0.006256103515625, 0.0078125, 0.0045166015625, 0.0030364990234375, 0.000774383544921875, 0.004638671875, 0.0022735595703125, 0.0015869140625, 0.000408172607421875, 0.00171661376953125]}\n",
       "    )\n",
       "    </script>"
      ],
      "text/plain": [
       "<circuitsvis.utils.render.RenderedHTML at 0x7fa567ed7010>"
      ]
     },
     "metadata": {},
     "output_type": "display_data"
    },
    {
     "name": "stdout",
     "output_type": "stream",
     "text": [
      "2025-08-01 14:51:56 __main__ INFO     Layer: 39, Head: 40\n"
     ]
    },
    {
     "data": {
      "text/html": [
       "<div id=\"circuits-vis-5bc0a357-779f\" style=\"margin: 15px 0;\"/>\n",
       "    <script crossorigin type=\"module\">\n",
       "    import { render, ColoredTokens } from \"https://unpkg.com/circuitsvis@1.43.3/dist/cdn/esm.js\";\n",
       "    render(\n",
       "      \"circuits-vis-5bc0a357-779f\",\n",
       "      ColoredTokens,\n",
       "      {\"tokens\": [\"Which\", \" of\", \" the\", \" following\", \" words\", \" rh\", \"ymes\", \" with\", \" rat\", \"\\n\", \"1\", \".\", \" orange\", \"\\n\", \"2\", \".\", \" mat\", \"\\n\", \"3\", \".\", \" book\", \"\\n\", \"4\", \".\", \" rabbit\", \"\\n\", \"5\", \".\", \" bowl\", \"\\n\", \"6\", \".\", \" watch\", \"\\n\", \"7\", \".\", \" mirror\", \"\\n\", \"Answer\", \":\"], \"values\": [0.00732421875, 0.00408935546875, 0.000621795654296875, 0.00238037109375, 0.0022430419921875, 0.000713348388671875, 0.0027008056640625, 0.0064697265625, 0.006378173828125, 0.01708984375, 0.003204345703125, 0.04248046875, 0.0003604888916015625, 0.0027008056640625, 0.04052734375, 0.0086669921875, 0.205078125, 0.46875, 0.0216064453125, 0.009765625, 0.000629425048828125, 0.002960205078125, 0.010009765625, 0.00054168701171875, 0.000736236572265625, 0.0032806396484375, 0.0042724609375, 0.00171661376953125, 9.965896606445312e-05, 0.000102996826171875, 0.0023040771484375, 0.002105712890625, 8.535385131835938e-05, 7.104873657226562e-05, 0.0011444091796875, 0.0020751953125, 6.866455078125e-05, 4.291534423828125e-05, 0.00168609619140625, 0.0216064453125]}\n",
       "    )\n",
       "    </script>"
      ],
      "text/plain": [
       "<circuitsvis.utils.render.RenderedHTML at 0x7fa4c04aef50>"
      ]
     },
     "metadata": {},
     "output_type": "display_data"
    },
    {
     "name": "stdout",
     "output_type": "stream",
     "text": [
      "2025-08-01 14:51:56 __main__ INFO     Layer: 42, Head: 30\n"
     ]
    },
    {
     "data": {
      "text/html": [
       "<div id=\"circuits-vis-5462f82f-a3a9\" style=\"margin: 15px 0;\"/>\n",
       "    <script crossorigin type=\"module\">\n",
       "    import { render, ColoredTokens } from \"https://unpkg.com/circuitsvis@1.43.3/dist/cdn/esm.js\";\n",
       "    render(\n",
       "      \"circuits-vis-5462f82f-a3a9\",\n",
       "      ColoredTokens,\n",
       "      {\"tokens\": [\"Which\", \" of\", \" the\", \" following\", \" words\", \" rh\", \"ymes\", \" with\", \" rat\", \"\\n\", \"1\", \".\", \" orange\", \"\\n\", \"2\", \".\", \" mat\", \"\\n\", \"3\", \".\", \" book\", \"\\n\", \"4\", \".\", \" rabbit\", \"\\n\", \"5\", \".\", \" bowl\", \"\\n\", \"6\", \".\", \" watch\", \"\\n\", \"7\", \".\", \" mirror\", \"\\n\", \"Answer\", \":\"], \"values\": [0.004852294921875, 0.00139617919921875, 0.00135040283203125, 0.00518798828125, 0.006561279296875, 0.0037841796875, 0.013671875, 0.007659912109375, 0.0087890625, 0.00897216796875, 0.004730224609375, 0.009521484375, 0.0014801025390625, 0.004241943359375, 0.0201416015625, 0.00604248046875, 0.0245361328125, 0.1103515625, 0.007659912109375, 0.00396728515625, 0.00112152099609375, 0.00384521484375, 0.0111083984375, 0.001190185546875, 0.000926971435546875, 0.00299072265625, 0.006561279296875, 0.00173187255859375, 0.0005645751953125, 0.0018463134765625, 0.006439208984375, 0.0020904541015625, 0.000598907470703125, 0.000820159912109375, 0.0035552978515625, 0.0027313232421875, 0.000873565673828125, 0.00157928466796875, 0.00157928466796875, 0.00372314453125]}\n",
       "    )\n",
       "    </script>"
      ],
      "text/plain": [
       "<circuitsvis.utils.render.RenderedHTML at 0x7fa4c020d410>"
      ]
     },
     "metadata": {},
     "output_type": "display_data"
    },
    {
     "name": "stdout",
     "output_type": "stream",
     "text": [
      "2025-08-01 14:51:56 __main__ INFO     Layer: 47, Head: 18\n"
     ]
    },
    {
     "data": {
      "text/html": [
       "<div id=\"circuits-vis-62632754-8fef\" style=\"margin: 15px 0;\"/>\n",
       "    <script crossorigin type=\"module\">\n",
       "    import { render, ColoredTokens } from \"https://unpkg.com/circuitsvis@1.43.3/dist/cdn/esm.js\";\n",
       "    render(\n",
       "      \"circuits-vis-62632754-8fef\",\n",
       "      ColoredTokens,\n",
       "      {\"tokens\": [\"Which\", \" of\", \" the\", \" following\", \" words\", \" rh\", \"ymes\", \" with\", \" rat\", \"\\n\", \"1\", \".\", \" orange\", \"\\n\", \"2\", \".\", \" mat\", \"\\n\", \"3\", \".\", \" book\", \"\\n\", \"4\", \".\", \" rabbit\", \"\\n\", \"5\", \".\", \" bowl\", \"\\n\", \"6\", \".\", \" watch\", \"\\n\", \"7\", \".\", \" mirror\", \"\\n\", \"Answer\", \":\"], \"values\": [0.0023651123046875, 0.00299072265625, 0.002288818359375, 0.0076904296875, 0.00173187255859375, 0.0002574920654296875, 0.000766754150390625, 0.00634765625, 0.00173187255859375, 0.007110595703125, 0.01190185546875, 0.00982666015625, 4.482269287109375e-05, 0.000843048095703125, 0.1591796875, 0.005157470703125, 0.0390625, 0.458984375, 0.00982666015625, 0.0021820068359375, 0.000579833984375, 0.0033416748046875, 0.01153564453125, 0.0020294189453125, 7.62939453125e-05, 0.0020599365234375, 0.00567626953125, 0.000972747802734375, 0.00011777877807617188, 0.000637054443359375, 0.006134033203125, 0.00176239013671875, 5.078315734863281e-05, 0.0002422332763671875, 0.00958251953125, 0.00225830078125, 0.0002002716064453125, 0.0002651214599609375, 0.00124359130859375, 0.00494384765625]}\n",
       "    )\n",
       "    </script>"
      ],
      "text/plain": [
       "<circuitsvis.utils.render.RenderedHTML at 0x7fa4c044ea50>"
      ]
     },
     "metadata": {},
     "output_type": "display_data"
    },
    {
     "name": "stdout",
     "output_type": "stream",
     "text": [
      "2025-08-01 14:51:56 __main__ INFO     Layer: 52, Head: 58\n"
     ]
    },
    {
     "data": {
      "text/html": [
       "<div id=\"circuits-vis-1a3afb3e-d5c1\" style=\"margin: 15px 0;\"/>\n",
       "    <script crossorigin type=\"module\">\n",
       "    import { render, ColoredTokens } from \"https://unpkg.com/circuitsvis@1.43.3/dist/cdn/esm.js\";\n",
       "    render(\n",
       "      \"circuits-vis-1a3afb3e-d5c1\",\n",
       "      ColoredTokens,\n",
       "      {\"tokens\": [\"Which\", \" of\", \" the\", \" following\", \" words\", \" rh\", \"ymes\", \" with\", \" rat\", \"\\n\", \"1\", \".\", \" orange\", \"\\n\", \"2\", \".\", \" mat\", \"\\n\", \"3\", \".\", \" book\", \"\\n\", \"4\", \".\", \" rabbit\", \"\\n\", \"5\", \".\", \" bowl\", \"\\n\", \"6\", \".\", \" watch\", \"\\n\", \"7\", \".\", \" mirror\", \"\\n\", \"Answer\", \":\"], \"values\": [0.006927490234375, 0.012939453125, 0.006317138671875, 0.0194091796875, 0.0108642578125, 0.00592041015625, 0.011962890625, 0.0203857421875, 0.0067138671875, 0.0067138671875, 0.00482177734375, 0.01275634765625, 0.000881195068359375, 0.0004863739013671875, 0.0150146484375, 0.009033203125, 0.1904296875, 0.0791015625, 0.00093841552734375, 0.003173828125, 0.000965118408203125, 0.00066375732421875, 0.00099945068359375, 0.00180816650390625, 0.0002689361572265625, 0.0006256103515625, 0.0003910064697265625, 0.0008544921875, 0.000286102294921875, 0.00010204315185546875, 0.000751495361328125, 0.00124359130859375, 0.0001354217529296875, 4.8160552978515625e-05, 0.00066375732421875, 0.001861572265625, 0.000499725341796875, 6.580352783203125e-05, 0.0021514892578125, 0.0115966796875]}\n",
       "    )\n",
       "    </script>"
      ],
      "text/plain": [
       "<circuitsvis.utils.render.RenderedHTML at 0x7fa47ccc9350>"
      ]
     },
     "metadata": {},
     "output_type": "display_data"
    },
    {
     "data": {
      "text/plain": [
       "[PredictedToken(token=' ', prob=0.494140625, logit=20.0, token_id=220, metadata=None),\n",
       " PredictedToken(token=' The', prob=0.1416015625, logit=18.75, token_id=578, metadata=None),\n",
       " PredictedToken(token=' mat', prob=0.125, logit=18.625, token_id=5634, metadata=None),\n",
       " PredictedToken(token=' Mat', prob=0.05908203125, logit=17.875, token_id=7011, metadata=None),\n",
       " PredictedToken(token=' (', prob=0.035888671875, logit=17.375, token_id=320, metadata=None)]"
      ]
     },
     "execution_count": 45,
     "metadata": {},
     "output_type": "execute_result"
    }
   ],
   "source": [
    "verify_ind = verify_head_patterns(\n",
    "    prompt=prompt,\n",
    "    options=options,\n",
    "    pivot=word,\n",
    "    mt=mt,\n",
    "    value_weighted=False,\n",
    "    generate_full_answer=False,\n",
    "    ablate_possible_ans_info_from_options=True,\n",
    ")\n",
    "verify_ind[\"predictions\"]"
   ]
  },
  {
   "cell_type": "code",
   "execution_count": 46,
   "id": "bf4d279e",
   "metadata": {},
   "outputs": [
    {
     "name": "stdout",
     "output_type": "stream",
     "text": [
      "2025-08-01 14:52:28 __main__ DEBUG    Generated full answer: \" Bob\n",
      "Explanation: The statement \"John is taller than Bob\" implies that Bob is shorter than John. The statement \"John is shorter than Steve\"\"\n",
      "2025-08-01 14:52:28 __main__ DEBUG    Predictions: ['\" Bob\"[14596] (p=0.820, logit=20.250)', '\" John\"[3842] (p=0.032, logit=17.000)', '\" We\"[1226] (p=0.022, logit=16.625)', '\" The\"[578] (p=0.019, logit=16.500)', '\" Since\"[8876] (p=0.015, logit=16.250)']\n",
      "layer=35\n"
     ]
    },
    {
     "data": {
      "text/html": [
       "<div id=\"circuits-vis-b8fa1e6a-a4c9\" style=\"margin: 15px 0;\"/>\n",
       "    <script crossorigin type=\"module\">\n",
       "    import { render, ColoredTokens } from \"https://unpkg.com/circuitsvis@1.43.3/dist/cdn/esm.js\";\n",
       "    render(\n",
       "      \"circuits-vis-b8fa1e6a-a4c9\",\n",
       "      ColoredTokens,\n",
       "      {\"tokens\": [\"John\", \" is\", \" taller\", \" than\", \" Bob\", \",\", \" but\", \" shorter\", \" than\", \" Steve\", \".\", \" Who\", \" is\", \" the\", \" shortest\", \"?\\n\", \"Ans\", \":\"], \"values\": [0.022370338439941406, 0.009508192539215088, 0.009268641471862793, 0.010301098227500916, 0.03937739133834839, 0.014758259057998657, 0.010413475334644318, 0.01174190640449524, 0.0048246830701828, 0.009912461042404175, 0.015366077423095703, 0.01995265483856201, 0.011283937841653824, 0.008144833147525787, 0.058317720890045166, 0.06296396255493164, 0.012561572715640068, 0.025241553783416748]}\n",
       "    )\n",
       "    </script>"
      ],
      "text/plain": [
       "<circuitsvis.utils.render.RenderedHTML at 0x7fa4c01c5510>"
      ]
     },
     "metadata": {},
     "output_type": "display_data"
    },
    {
     "name": "stdout",
     "output_type": "stream",
     "text": [
      "--------------------------------------------------------------------------------\n",
      "layer=47\n"
     ]
    },
    {
     "data": {
      "text/html": [
       "<div id=\"circuits-vis-8d1d20cb-28a3\" style=\"margin: 15px 0;\"/>\n",
       "    <script crossorigin type=\"module\">\n",
       "    import { render, ColoredTokens } from \"https://unpkg.com/circuitsvis@1.43.3/dist/cdn/esm.js\";\n",
       "    render(\n",
       "      \"circuits-vis-8d1d20cb-28a3\",\n",
       "      ColoredTokens,\n",
       "      {\"tokens\": [\"John\", \" is\", \" taller\", \" than\", \" Bob\", \",\", \" but\", \" shorter\", \" than\", \" Steve\", \".\", \" Who\", \" is\", \" the\", \" shortest\", \"?\\n\", \"Ans\", \":\"], \"values\": [0.004579260945320129, 0.004027221351861954, 0.0013874173164367676, 0.00251731276512146, 0.01183706521987915, 0.0029541179537773132, 0.002440985292196274, 0.0009358003735542297, 0.0016452353447675705, 0.0023322030901908875, 0.004624109715223312, 0.0022475775331258774, 0.001325691118836403, 0.0010867062956094742, 0.002270881086587906, 0.008724331855773926, 0.009424418210983276, 0.004635065793991089]}\n",
       "    )\n",
       "    </script>"
      ],
      "text/plain": [
       "<circuitsvis.utils.render.RenderedHTML at 0x7fa4c04af910>"
      ]
     },
     "metadata": {},
     "output_type": "display_data"
    },
    {
     "name": "stdout",
     "output_type": "stream",
     "text": [
      "--------------------------------------------------------------------------------\n",
      "layer=52\n"
     ]
    },
    {
     "data": {
      "text/html": [
       "<div id=\"circuits-vis-3ccad987-0c5c\" style=\"margin: 15px 0;\"/>\n",
       "    <script crossorigin type=\"module\">\n",
       "    import { render, ColoredTokens } from \"https://unpkg.com/circuitsvis@1.43.3/dist/cdn/esm.js\";\n",
       "    render(\n",
       "      \"circuits-vis-3ccad987-0c5c\",\n",
       "      ColoredTokens,\n",
       "      {\"tokens\": [\"John\", \" is\", \" taller\", \" than\", \" Bob\", \",\", \" but\", \" shorter\", \" than\", \" Steve\", \".\", \" Who\", \" is\", \" the\", \" shortest\", \"?\\n\", \"Ans\", \":\"], \"values\": [0.008303582668304443, 0.006747990846633911, 0.002897687256336212, 0.0032209306955337524, 0.031040996313095093, 0.0032992996275424957, 0.00316736102104187, 0.0019433796405792236, 0.0018843449652194977, 0.003259032964706421, 0.00577092170715332, 0.005045697093009949, 0.002592317759990692, 0.001963965594768524, 0.003705199807882309, 0.025416314601898193, 0.016210705041885376, 0.01511719822883606]}\n",
       "    )\n",
       "    </script>"
      ],
      "text/plain": [
       "<circuitsvis.utils.render.RenderedHTML at 0x7fa567ed7090>"
      ]
     },
     "metadata": {},
     "output_type": "display_data"
    },
    {
     "name": "stdout",
     "output_type": "stream",
     "text": [
      "--------------------------------------------------------------------------------\n",
      "======================================================================\n",
      "2025-08-01 14:52:28 __main__ INFO     Layer: 33, Head: 45\n"
     ]
    },
    {
     "data": {
      "text/html": [
       "<div id=\"circuits-vis-9a41a7f2-19b2\" style=\"margin: 15px 0;\"/>\n",
       "    <script crossorigin type=\"module\">\n",
       "    import { render, ColoredTokens } from \"https://unpkg.com/circuitsvis@1.43.3/dist/cdn/esm.js\";\n",
       "    render(\n",
       "      \"circuits-vis-9a41a7f2-19b2\",\n",
       "      ColoredTokens,\n",
       "      {\"tokens\": [\"John\", \" is\", \" taller\", \" than\", \" Bob\", \",\", \" but\", \" shorter\", \" than\", \" Steve\", \".\", \" Who\", \" is\", \" the\", \" shortest\", \"?\\n\", \"Ans\", \":\"], \"values\": [0.00970458984375, 0.0081787109375, 0.0130615234375, 0.0252685546875, 0.035888671875, 0.0238037109375, 0.0198974609375, 0.048095703125, 0.01287841796875, 0.00921630859375, 0.01287841796875, 0.02587890625, 0.0322265625, 0.0076904296875, 0.10888671875, 0.03759765625, 0.005035400390625, 0.0250244140625]}\n",
       "    )\n",
       "    </script>"
      ],
      "text/plain": [
       "<circuitsvis.utils.render.RenderedHTML at 0x7fa5001c0b50>"
      ]
     },
     "metadata": {},
     "output_type": "display_data"
    },
    {
     "name": "stdout",
     "output_type": "stream",
     "text": [
      "2025-08-01 14:52:28 __main__ INFO     Layer: 33, Head: 18\n"
     ]
    },
    {
     "data": {
      "text/html": [
       "<div id=\"circuits-vis-785ad5ba-2f18\" style=\"margin: 15px 0;\"/>\n",
       "    <script crossorigin type=\"module\">\n",
       "    import { render, ColoredTokens } from \"https://unpkg.com/circuitsvis@1.43.3/dist/cdn/esm.js\";\n",
       "    render(\n",
       "      \"circuits-vis-785ad5ba-2f18\",\n",
       "      ColoredTokens,\n",
       "      {\"tokens\": [\"John\", \" is\", \" taller\", \" than\", \" Bob\", \",\", \" but\", \" shorter\", \" than\", \" Steve\", \".\", \" Who\", \" is\", \" the\", \" shortest\", \"?\\n\", \"Ans\", \":\"], \"values\": [0.0322265625, 0.0947265625, 0.0267333984375, 0.01904296875, 0.35546875, 0.0260009765625, 0.0240478515625, 0.0130615234375, 0.01153564453125, 0.0242919921875, 0.00537109375, 0.0162353515625, 0.0201416015625, 0.011474609375, 0.0301513671875, 0.0220947265625, 0.00106048583984375, 0.009765625]}\n",
       "    )\n",
       "    </script>"
      ],
      "text/plain": [
       "<circuitsvis.utils.render.RenderedHTML at 0x7fa4c04d8c50>"
      ]
     },
     "metadata": {},
     "output_type": "display_data"
    },
    {
     "name": "stdout",
     "output_type": "stream",
     "text": [
      "2025-08-01 14:52:28 __main__ INFO     Layer: 34, Head: 1\n"
     ]
    },
    {
     "data": {
      "text/html": [
       "<div id=\"circuits-vis-2c1352b2-cd6f\" style=\"margin: 15px 0;\"/>\n",
       "    <script crossorigin type=\"module\">\n",
       "    import { render, ColoredTokens } from \"https://unpkg.com/circuitsvis@1.43.3/dist/cdn/esm.js\";\n",
       "    render(\n",
       "      \"circuits-vis-2c1352b2-cd6f\",\n",
       "      ColoredTokens,\n",
       "      {\"tokens\": [\"John\", \" is\", \" taller\", \" than\", \" Bob\", \",\", \" but\", \" shorter\", \" than\", \" Steve\", \".\", \" Who\", \" is\", \" the\", \" shortest\", \"?\\n\", \"Ans\", \":\"], \"values\": [0.0157470703125, 0.041259765625, 0.005126953125, 0.044921875, 0.1875, 0.0625, 0.014892578125, 0.004302978515625, 0.00188446044921875, 0.00148773193359375, 0.015380859375, 0.025146484375, 0.0172119140625, 0.00518798828125, 0.0277099609375, 0.047607421875, 0.0015106201171875, 0.053955078125]}\n",
       "    )\n",
       "    </script>"
      ],
      "text/plain": [
       "<circuitsvis.utils.render.RenderedHTML at 0x7fa4c04d8c50>"
      ]
     },
     "metadata": {},
     "output_type": "display_data"
    },
    {
     "name": "stdout",
     "output_type": "stream",
     "text": [
      "2025-08-01 14:52:28 __main__ INFO     Layer: 34, Head: 6\n"
     ]
    },
    {
     "data": {
      "text/html": [
       "<div id=\"circuits-vis-ce43e888-a096\" style=\"margin: 15px 0;\"/>\n",
       "    <script crossorigin type=\"module\">\n",
       "    import { render, ColoredTokens } from \"https://unpkg.com/circuitsvis@1.43.3/dist/cdn/esm.js\";\n",
       "    render(\n",
       "      \"circuits-vis-ce43e888-a096\",\n",
       "      ColoredTokens,\n",
       "      {\"tokens\": [\"John\", \" is\", \" taller\", \" than\", \" Bob\", \",\", \" but\", \" shorter\", \" than\", \" Steve\", \".\", \" Who\", \" is\", \" the\", \" shortest\", \"?\\n\", \"Ans\", \":\"], \"values\": [0.0238037109375, 0.05908203125, 0.00787353515625, 0.0673828125, 0.177734375, 0.068359375, 0.03369140625, 0.00848388671875, 0.005279541015625, 0.00213623046875, 0.0186767578125, 0.02099609375, 0.0172119140625, 0.00543212890625, 0.0223388671875, 0.01336669921875, 0.00133514404296875, 0.0283203125]}\n",
       "    )\n",
       "    </script>"
      ],
      "text/plain": [
       "<circuitsvis.utils.render.RenderedHTML at 0x7fa5679b0310>"
      ]
     },
     "metadata": {},
     "output_type": "display_data"
    },
    {
     "name": "stdout",
     "output_type": "stream",
     "text": [
      "2025-08-01 14:52:29 __main__ INFO     Layer: 34, Head: 7\n"
     ]
    },
    {
     "data": {
      "text/html": [
       "<div id=\"circuits-vis-f3d26d34-f005\" style=\"margin: 15px 0;\"/>\n",
       "    <script crossorigin type=\"module\">\n",
       "    import { render, ColoredTokens } from \"https://unpkg.com/circuitsvis@1.43.3/dist/cdn/esm.js\";\n",
       "    render(\n",
       "      \"circuits-vis-f3d26d34-f005\",\n",
       "      ColoredTokens,\n",
       "      {\"tokens\": [\"John\", \" is\", \" taller\", \" than\", \" Bob\", \",\", \" but\", \" shorter\", \" than\", \" Steve\", \".\", \" Who\", \" is\", \" the\", \" shortest\", \"?\\n\", \"Ans\", \":\"], \"values\": [0.029541015625, 0.01348876953125, 0.004638671875, 0.01226806640625, 0.06298828125, 0.03173828125, 0.0098876953125, 0.0115966796875, 0.00640869140625, 0.00848388671875, 0.0361328125, 0.06494140625, 0.04296875, 0.01068115234375, 0.140625, 0.2255859375, 0.003570556640625, 0.07861328125]}\n",
       "    )\n",
       "    </script>"
      ],
      "text/plain": [
       "<circuitsvis.utils.render.RenderedHTML at 0x7fa5679b0310>"
      ]
     },
     "metadata": {},
     "output_type": "display_data"
    },
    {
     "name": "stdout",
     "output_type": "stream",
     "text": [
      "2025-08-01 14:52:29 __main__ INFO     Layer: 35, Head: 19\n"
     ]
    },
    {
     "data": {
      "text/html": [
       "<div id=\"circuits-vis-58239549-d48f\" style=\"margin: 15px 0;\"/>\n",
       "    <script crossorigin type=\"module\">\n",
       "    import { render, ColoredTokens } from \"https://unpkg.com/circuitsvis@1.43.3/dist/cdn/esm.js\";\n",
       "    render(\n",
       "      \"circuits-vis-58239549-d48f\",\n",
       "      ColoredTokens,\n",
       "      {\"tokens\": [\"John\", \" is\", \" taller\", \" than\", \" Bob\", \",\", \" but\", \" shorter\", \" than\", \" Steve\", \".\", \" Who\", \" is\", \" the\", \" shortest\", \"?\\n\", \"Ans\", \":\"], \"values\": [0.004302978515625, 0.00689697265625, 0.01104736328125, 0.0201416015625, 0.7265625, 0.060546875, 0.031494140625, 0.0196533203125, 0.006988525390625, 0.01116943359375, 0.00933837890625, 0.00113677978515625, 0.0021820068359375, 0.0023040771484375, 0.014892578125, 0.0035400390625, 1.609325408935547e-05, 0.00063323974609375]}\n",
       "    )\n",
       "    </script>"
      ],
      "text/plain": [
       "<circuitsvis.utils.render.RenderedHTML at 0x7fa5679b0310>"
      ]
     },
     "metadata": {},
     "output_type": "display_data"
    },
    {
     "name": "stdout",
     "output_type": "stream",
     "text": [
      "2025-08-01 14:52:29 __main__ INFO     Layer: 39, Head: 40\n"
     ]
    },
    {
     "data": {
      "text/html": [
       "<div id=\"circuits-vis-e4294d64-eb30\" style=\"margin: 15px 0;\"/>\n",
       "    <script crossorigin type=\"module\">\n",
       "    import { render, ColoredTokens } from \"https://unpkg.com/circuitsvis@1.43.3/dist/cdn/esm.js\";\n",
       "    render(\n",
       "      \"circuits-vis-e4294d64-eb30\",\n",
       "      ColoredTokens,\n",
       "      {\"tokens\": [\"John\", \" is\", \" taller\", \" than\", \" Bob\", \",\", \" but\", \" shorter\", \" than\", \" Steve\", \".\", \" Who\", \" is\", \" the\", \" shortest\", \"?\\n\", \"Ans\", \":\"], \"values\": [0.01544189453125, 0.0101318359375, 0.001861572265625, 0.01806640625, 0.5, 0.033203125, 0.0419921875, 0.004608154296875, 0.006805419921875, 0.0118408203125, 0.0277099609375, 0.007476806640625, 0.004180908203125, 0.00174713134765625, 0.03125, 0.0673828125, 0.002532958984375, 0.029296875]}\n",
       "    )\n",
       "    </script>"
      ],
      "text/plain": [
       "<circuitsvis.utils.render.RenderedHTML at 0x7fa4c01c6810>"
      ]
     },
     "metadata": {},
     "output_type": "display_data"
    },
    {
     "name": "stdout",
     "output_type": "stream",
     "text": [
      "2025-08-01 14:52:29 __main__ INFO     Layer: 42, Head: 30\n"
     ]
    },
    {
     "data": {
      "text/html": [
       "<div id=\"circuits-vis-2d4f2d5e-889a\" style=\"margin: 15px 0;\"/>\n",
       "    <script crossorigin type=\"module\">\n",
       "    import { render, ColoredTokens } from \"https://unpkg.com/circuitsvis@1.43.3/dist/cdn/esm.js\";\n",
       "    render(\n",
       "      \"circuits-vis-2d4f2d5e-889a\",\n",
       "      ColoredTokens,\n",
       "      {\"tokens\": [\"John\", \" is\", \" taller\", \" than\", \" Bob\", \",\", \" but\", \" shorter\", \" than\", \" Steve\", \".\", \" Who\", \" is\", \" the\", \" shortest\", \"?\\n\", \"Ans\", \":\"], \"values\": [0.0032806396484375, 0.0107421875, 0.0069580078125, 0.01129150390625, 0.03515625, 0.007171630859375, 0.0052490234375, 0.003173828125, 0.0050048828125, 0.0021820068359375, 0.0089111328125, 0.0050048828125, 0.003662109375, 0.0028076171875, 0.00653076171875, 0.01275634765625, 0.003173828125, 0.005584716796875]}\n",
       "    )\n",
       "    </script>"
      ],
      "text/plain": [
       "<circuitsvis.utils.render.RenderedHTML at 0x7fa4c044de50>"
      ]
     },
     "metadata": {},
     "output_type": "display_data"
    },
    {
     "name": "stdout",
     "output_type": "stream",
     "text": [
      "2025-08-01 14:52:29 __main__ INFO     Layer: 47, Head: 18\n"
     ]
    },
    {
     "data": {
      "text/html": [
       "<div id=\"circuits-vis-16c996fd-5742\" style=\"margin: 15px 0;\"/>\n",
       "    <script crossorigin type=\"module\">\n",
       "    import { render, ColoredTokens } from \"https://unpkg.com/circuitsvis@1.43.3/dist/cdn/esm.js\";\n",
       "    render(\n",
       "      \"circuits-vis-16c996fd-5742\",\n",
       "      ColoredTokens,\n",
       "      {\"tokens\": [\"John\", \" is\", \" taller\", \" than\", \" Bob\", \",\", \" but\", \" shorter\", \" than\", \" Steve\", \".\", \" Who\", \" is\", \" the\", \" shortest\", \"?\\n\", \"Ans\", \":\"], \"values\": [0.043701171875, 0.07275390625, 0.0032806396484375, 0.04296875, 0.1865234375, 0.06884765625, 0.04296875, 0.0005035400390625, 0.01446533203125, 0.000431060791015625, 0.0751953125, 0.0211181640625, 0.01531982421875, 0.007415771484375, 0.00096893310546875, 0.032470703125, 0.00408935546875, 0.0244140625]}\n",
       "    )\n",
       "    </script>"
      ],
      "text/plain": [
       "<circuitsvis.utils.render.RenderedHTML at 0x7fa4c01c6810>"
      ]
     },
     "metadata": {},
     "output_type": "display_data"
    },
    {
     "name": "stdout",
     "output_type": "stream",
     "text": [
      "2025-08-01 14:52:29 __main__ INFO     Layer: 52, Head: 58\n"
     ]
    },
    {
     "data": {
      "text/html": [
       "<div id=\"circuits-vis-290da5f5-6d80\" style=\"margin: 15px 0;\"/>\n",
       "    <script crossorigin type=\"module\">\n",
       "    import { render, ColoredTokens } from \"https://unpkg.com/circuitsvis@1.43.3/dist/cdn/esm.js\";\n",
       "    render(\n",
       "      \"circuits-vis-290da5f5-6d80\",\n",
       "      ColoredTokens,\n",
       "      {\"tokens\": [\"John\", \" is\", \" taller\", \" than\", \" Bob\", \",\", \" but\", \" shorter\", \" than\", \" Steve\", \".\", \" Who\", \" is\", \" the\", \" shortest\", \"?\\n\", \"Ans\", \":\"], \"values\": [0.011962890625, 0.02685546875, 0.0047607421875, 0.0133056640625, 0.051513671875, 0.01171875, 0.007232666015625, 0.00106048583984375, 0.00347900390625, 0.0003032684326171875, 0.01019287109375, 0.004241943359375, 0.00433349609375, 0.001800537109375, 0.0029754638671875, 0.0157470703125, 0.0098876953125, 0.0078125]}\n",
       "    )\n",
       "    </script>"
      ],
      "text/plain": [
       "<circuitsvis.utils.render.RenderedHTML at 0x7fa540106810>"
      ]
     },
     "metadata": {},
     "output_type": "display_data"
    },
    {
     "data": {
      "text/plain": [
       "[PredictedToken(token=' Bob', prob=0.8203125, logit=20.25, token_id=14596, metadata=None),\n",
       " PredictedToken(token=' John', prob=0.03173828125, logit=17.0, token_id=3842, metadata=None),\n",
       " PredictedToken(token=' We', prob=0.0218505859375, logit=16.625, token_id=1226, metadata=None),\n",
       " PredictedToken(token=' The', prob=0.019287109375, logit=16.5, token_id=578, metadata=None),\n",
       " PredictedToken(token=' Since', prob=0.0150146484375, logit=16.25, token_id=8876, metadata=None)]"
      ]
     },
     "execution_count": 46,
     "metadata": {},
     "output_type": "execute_result"
    }
   ],
   "source": [
    "#! Logical deduction\n",
    "\n",
    "# prompt = \"\"\"John is taller than Mary. Mary is taller than Steve. Who is the shortest?\n",
    "# Ans:\"\"\"\n",
    "prompt = \"\"\"John is taller than Bob, but shorter than Steve. Who is the shortest?\n",
    "Ans:\"\"\"\n",
    "# prompt = \"\"\"All the cookies are either chocolate or vanilla. None of the chocolate cookies have nuts.\n",
    "# This cookie has nuts. What flavor is it?\n",
    "# Ans:\"\"\"\n",
    "# prompt = \"\"\"The red box is to the left of the blue box, and to the right of the green box.\n",
    "# Which is the rightmost box?\n",
    "# Ans:\"\"\"\n",
    "\n",
    "verify = verify_head_patterns(\n",
    "    prompt=prompt,\n",
    "    options=[\"John\", \"Bob\", \"Steve\"],\n",
    "    pivot=\"shortest\",\n",
    "    mt=mt,\n",
    "    value_weighted=False,\n",
    "    generate_full_answer=True,\n",
    ")\n",
    "verify[\"predictions\"]"
   ]
  },
  {
   "cell_type": "code",
   "execution_count": 47,
   "id": "f90edc47",
   "metadata": {},
   "outputs": [
    {
     "name": "stdout",
     "output_type": "stream",
     "text": [
      "2025-08-01 14:52:51 __main__ DEBUG    Predictions: ['\" Bob\"[14596] (p=0.820, logit=20.250)', '\" John\"[3842] (p=0.032, logit=17.000)', '\" We\"[1226] (p=0.022, logit=16.625)', '\" The\"[578] (p=0.019, logit=16.500)', '\" Since\"[8876] (p=0.015, logit=16.250)']\n",
      "layer=35\n"
     ]
    },
    {
     "data": {
      "text/html": [
       "<div id=\"circuits-vis-6d0c324f-8f64\" style=\"margin: 15px 0;\"/>\n",
       "    <script crossorigin type=\"module\">\n",
       "    import { render, ColoredTokens } from \"https://unpkg.com/circuitsvis@1.43.3/dist/cdn/esm.js\";\n",
       "    render(\n",
       "      \"circuits-vis-6d0c324f-8f64\",\n",
       "      ColoredTokens,\n",
       "      {\"tokens\": [\"John\", \" is\", \" taller\", \" than\", \" Bob\", \",\", \" but\", \" shorter\", \" than\", \" Steve\", \".\", \" Who\", \" is\", \" the\", \" shortest\", \"?\\n\", \"Ans\", \":\"], \"values\": [0.022370338439941406, 0.009508192539215088, 0.009268641471862793, 0.010301098227500916, 0.03937739133834839, 0.014758259057998657, 0.010413475334644318, 0.01174190640449524, 0.0048246830701828, 0.009912461042404175, 0.015366077423095703, 0.01995265483856201, 0.011283937841653824, 0.008144833147525787, 0.058317720890045166, 0.06296396255493164, 0.012561572715640068, 0.025241553783416748]}\n",
       "    )\n",
       "    </script>"
      ],
      "text/plain": [
       "<circuitsvis.utils.render.RenderedHTML at 0x7fa567f14a50>"
      ]
     },
     "metadata": {},
     "output_type": "display_data"
    },
    {
     "name": "stdout",
     "output_type": "stream",
     "text": [
      "--------------------------------------------------------------------------------\n",
      "layer=47\n"
     ]
    },
    {
     "data": {
      "text/html": [
       "<div id=\"circuits-vis-1d2182a1-3fe1\" style=\"margin: 15px 0;\"/>\n",
       "    <script crossorigin type=\"module\">\n",
       "    import { render, ColoredTokens } from \"https://unpkg.com/circuitsvis@1.43.3/dist/cdn/esm.js\";\n",
       "    render(\n",
       "      \"circuits-vis-1d2182a1-3fe1\",\n",
       "      ColoredTokens,\n",
       "      {\"tokens\": [\"John\", \" is\", \" taller\", \" than\", \" Bob\", \",\", \" but\", \" shorter\", \" than\", \" Steve\", \".\", \" Who\", \" is\", \" the\", \" shortest\", \"?\\n\", \"Ans\", \":\"], \"values\": [0.004579260945320129, 0.004027221351861954, 0.0013874173164367676, 0.00251731276512146, 0.01183706521987915, 0.0029541179537773132, 0.002440985292196274, 0.0009358003735542297, 0.0016452353447675705, 0.0023322030901908875, 0.004624109715223312, 0.0022475775331258774, 0.001325691118836403, 0.0010867062956094742, 0.002270881086587906, 0.008724331855773926, 0.009424418210983276, 0.004635065793991089]}\n",
       "    )\n",
       "    </script>"
      ],
      "text/plain": [
       "<circuitsvis.utils.render.RenderedHTML at 0x7fa567de1bd0>"
      ]
     },
     "metadata": {},
     "output_type": "display_data"
    },
    {
     "name": "stdout",
     "output_type": "stream",
     "text": [
      "--------------------------------------------------------------------------------\n",
      "layer=52\n"
     ]
    },
    {
     "data": {
      "text/html": [
       "<div id=\"circuits-vis-ace45d26-c80e\" style=\"margin: 15px 0;\"/>\n",
       "    <script crossorigin type=\"module\">\n",
       "    import { render, ColoredTokens } from \"https://unpkg.com/circuitsvis@1.43.3/dist/cdn/esm.js\";\n",
       "    render(\n",
       "      \"circuits-vis-ace45d26-c80e\",\n",
       "      ColoredTokens,\n",
       "      {\"tokens\": [\"John\", \" is\", \" taller\", \" than\", \" Bob\", \",\", \" but\", \" shorter\", \" than\", \" Steve\", \".\", \" Who\", \" is\", \" the\", \" shortest\", \"?\\n\", \"Ans\", \":\"], \"values\": [0.008303582668304443, 0.006747990846633911, 0.002897687256336212, 0.0032209306955337524, 0.031040996313095093, 0.0032992996275424957, 0.00316736102104187, 0.0019433796405792236, 0.0018843449652194977, 0.003259032964706421, 0.00577092170715332, 0.005045697093009949, 0.002592317759990692, 0.001963965594768524, 0.003705199807882309, 0.025416314601898193, 0.016210705041885376, 0.01511719822883606]}\n",
       "    )\n",
       "    </script>"
      ],
      "text/plain": [
       "<circuitsvis.utils.render.RenderedHTML at 0x7fa4c044de50>"
      ]
     },
     "metadata": {},
     "output_type": "display_data"
    },
    {
     "name": "stdout",
     "output_type": "stream",
     "text": [
      "--------------------------------------------------------------------------------\n",
      "======================================================================\n",
      "2025-08-01 14:52:51 __main__ INFO     Layer: 33, Head: 45\n"
     ]
    },
    {
     "data": {
      "text/html": [
       "<div id=\"circuits-vis-b1c704c8-96d6\" style=\"margin: 15px 0;\"/>\n",
       "    <script crossorigin type=\"module\">\n",
       "    import { render, ColoredTokens } from \"https://unpkg.com/circuitsvis@1.43.3/dist/cdn/esm.js\";\n",
       "    render(\n",
       "      \"circuits-vis-b1c704c8-96d6\",\n",
       "      ColoredTokens,\n",
       "      {\"tokens\": [\"John\", \" is\", \" taller\", \" than\", \" Bob\", \",\", \" but\", \" shorter\", \" than\", \" Steve\", \".\", \" Who\", \" is\", \" the\", \" shortest\", \"?\\n\", \"Ans\", \":\"], \"values\": [0.00970458984375, 0.0081787109375, 0.0130615234375, 0.0252685546875, 0.035888671875, 0.0238037109375, 0.0198974609375, 0.048095703125, 0.01287841796875, 0.00921630859375, 0.01287841796875, 0.02587890625, 0.0322265625, 0.0076904296875, 0.10888671875, 0.03759765625, 0.005035400390625, 0.0250244140625]}\n",
       "    )\n",
       "    </script>"
      ],
      "text/plain": [
       "<circuitsvis.utils.render.RenderedHTML at 0x7fa4c044c710>"
      ]
     },
     "metadata": {},
     "output_type": "display_data"
    },
    {
     "name": "stdout",
     "output_type": "stream",
     "text": [
      "2025-08-01 14:52:51 __main__ INFO     Layer: 33, Head: 18\n"
     ]
    },
    {
     "data": {
      "text/html": [
       "<div id=\"circuits-vis-21b1de41-7e8d\" style=\"margin: 15px 0;\"/>\n",
       "    <script crossorigin type=\"module\">\n",
       "    import { render, ColoredTokens } from \"https://unpkg.com/circuitsvis@1.43.3/dist/cdn/esm.js\";\n",
       "    render(\n",
       "      \"circuits-vis-21b1de41-7e8d\",\n",
       "      ColoredTokens,\n",
       "      {\"tokens\": [\"John\", \" is\", \" taller\", \" than\", \" Bob\", \",\", \" but\", \" shorter\", \" than\", \" Steve\", \".\", \" Who\", \" is\", \" the\", \" shortest\", \"?\\n\", \"Ans\", \":\"], \"values\": [0.0322265625, 0.0947265625, 0.0267333984375, 0.01904296875, 0.35546875, 0.0260009765625, 0.0240478515625, 0.0130615234375, 0.01153564453125, 0.0242919921875, 0.00537109375, 0.0162353515625, 0.0201416015625, 0.011474609375, 0.0301513671875, 0.0220947265625, 0.00106048583984375, 0.009765625]}\n",
       "    )\n",
       "    </script>"
      ],
      "text/plain": [
       "<circuitsvis.utils.render.RenderedHTML at 0x7fa4c020ced0>"
      ]
     },
     "metadata": {},
     "output_type": "display_data"
    },
    {
     "name": "stdout",
     "output_type": "stream",
     "text": [
      "2025-08-01 14:52:51 __main__ INFO     Layer: 34, Head: 1\n"
     ]
    },
    {
     "data": {
      "text/html": [
       "<div id=\"circuits-vis-e11819e1-34a2\" style=\"margin: 15px 0;\"/>\n",
       "    <script crossorigin type=\"module\">\n",
       "    import { render, ColoredTokens } from \"https://unpkg.com/circuitsvis@1.43.3/dist/cdn/esm.js\";\n",
       "    render(\n",
       "      \"circuits-vis-e11819e1-34a2\",\n",
       "      ColoredTokens,\n",
       "      {\"tokens\": [\"John\", \" is\", \" taller\", \" than\", \" Bob\", \",\", \" but\", \" shorter\", \" than\", \" Steve\", \".\", \" Who\", \" is\", \" the\", \" shortest\", \"?\\n\", \"Ans\", \":\"], \"values\": [0.0157470703125, 0.041259765625, 0.005126953125, 0.044921875, 0.1875, 0.0625, 0.014892578125, 0.004302978515625, 0.00188446044921875, 0.00148773193359375, 0.015380859375, 0.025146484375, 0.0172119140625, 0.00518798828125, 0.0277099609375, 0.047607421875, 0.0015106201171875, 0.053955078125]}\n",
       "    )\n",
       "    </script>"
      ],
      "text/plain": [
       "<circuitsvis.utils.render.RenderedHTML at 0x7fa567de1bd0>"
      ]
     },
     "metadata": {},
     "output_type": "display_data"
    },
    {
     "name": "stdout",
     "output_type": "stream",
     "text": [
      "2025-08-01 14:52:51 __main__ INFO     Layer: 34, Head: 6\n"
     ]
    },
    {
     "data": {
      "text/html": [
       "<div id=\"circuits-vis-94ff9ef5-8111\" style=\"margin: 15px 0;\"/>\n",
       "    <script crossorigin type=\"module\">\n",
       "    import { render, ColoredTokens } from \"https://unpkg.com/circuitsvis@1.43.3/dist/cdn/esm.js\";\n",
       "    render(\n",
       "      \"circuits-vis-94ff9ef5-8111\",\n",
       "      ColoredTokens,\n",
       "      {\"tokens\": [\"John\", \" is\", \" taller\", \" than\", \" Bob\", \",\", \" but\", \" shorter\", \" than\", \" Steve\", \".\", \" Who\", \" is\", \" the\", \" shortest\", \"?\\n\", \"Ans\", \":\"], \"values\": [0.0238037109375, 0.05908203125, 0.00787353515625, 0.0673828125, 0.177734375, 0.068359375, 0.03369140625, 0.00848388671875, 0.005279541015625, 0.00213623046875, 0.0186767578125, 0.02099609375, 0.0172119140625, 0.00543212890625, 0.0223388671875, 0.01336669921875, 0.00133514404296875, 0.0283203125]}\n",
       "    )\n",
       "    </script>"
      ],
      "text/plain": [
       "<circuitsvis.utils.render.RenderedHTML at 0x7fa567ff65d0>"
      ]
     },
     "metadata": {},
     "output_type": "display_data"
    },
    {
     "name": "stdout",
     "output_type": "stream",
     "text": [
      "2025-08-01 14:52:52 __main__ INFO     Layer: 34, Head: 7\n"
     ]
    },
    {
     "data": {
      "text/html": [
       "<div id=\"circuits-vis-db930196-1e5d\" style=\"margin: 15px 0;\"/>\n",
       "    <script crossorigin type=\"module\">\n",
       "    import { render, ColoredTokens } from \"https://unpkg.com/circuitsvis@1.43.3/dist/cdn/esm.js\";\n",
       "    render(\n",
       "      \"circuits-vis-db930196-1e5d\",\n",
       "      ColoredTokens,\n",
       "      {\"tokens\": [\"John\", \" is\", \" taller\", \" than\", \" Bob\", \",\", \" but\", \" shorter\", \" than\", \" Steve\", \".\", \" Who\", \" is\", \" the\", \" shortest\", \"?\\n\", \"Ans\", \":\"], \"values\": [0.029541015625, 0.01348876953125, 0.004638671875, 0.01226806640625, 0.06298828125, 0.03173828125, 0.0098876953125, 0.0115966796875, 0.00640869140625, 0.00848388671875, 0.0361328125, 0.06494140625, 0.04296875, 0.01068115234375, 0.140625, 0.2255859375, 0.003570556640625, 0.07861328125]}\n",
       "    )\n",
       "    </script>"
      ],
      "text/plain": [
       "<circuitsvis.utils.render.RenderedHTML at 0x7fa4c044e9d0>"
      ]
     },
     "metadata": {},
     "output_type": "display_data"
    },
    {
     "name": "stdout",
     "output_type": "stream",
     "text": [
      "2025-08-01 14:52:52 __main__ INFO     Layer: 35, Head: 19\n"
     ]
    },
    {
     "data": {
      "text/html": [
       "<div id=\"circuits-vis-d850bc95-d391\" style=\"margin: 15px 0;\"/>\n",
       "    <script crossorigin type=\"module\">\n",
       "    import { render, ColoredTokens } from \"https://unpkg.com/circuitsvis@1.43.3/dist/cdn/esm.js\";\n",
       "    render(\n",
       "      \"circuits-vis-d850bc95-d391\",\n",
       "      ColoredTokens,\n",
       "      {\"tokens\": [\"John\", \" is\", \" taller\", \" than\", \" Bob\", \",\", \" but\", \" shorter\", \" than\", \" Steve\", \".\", \" Who\", \" is\", \" the\", \" shortest\", \"?\\n\", \"Ans\", \":\"], \"values\": [0.004302978515625, 0.00689697265625, 0.01104736328125, 0.0201416015625, 0.7265625, 0.060546875, 0.031494140625, 0.0196533203125, 0.006988525390625, 0.01116943359375, 0.00933837890625, 0.00113677978515625, 0.0021820068359375, 0.0023040771484375, 0.014892578125, 0.0035400390625, 1.609325408935547e-05, 0.00063323974609375]}\n",
       "    )\n",
       "    </script>"
      ],
      "text/plain": [
       "<circuitsvis.utils.render.RenderedHTML at 0x7fa4c020ced0>"
      ]
     },
     "metadata": {},
     "output_type": "display_data"
    },
    {
     "name": "stdout",
     "output_type": "stream",
     "text": [
      "2025-08-01 14:52:52 __main__ INFO     Layer: 39, Head: 40\n"
     ]
    },
    {
     "data": {
      "text/html": [
       "<div id=\"circuits-vis-a5b46166-8dbd\" style=\"margin: 15px 0;\"/>\n",
       "    <script crossorigin type=\"module\">\n",
       "    import { render, ColoredTokens } from \"https://unpkg.com/circuitsvis@1.43.3/dist/cdn/esm.js\";\n",
       "    render(\n",
       "      \"circuits-vis-a5b46166-8dbd\",\n",
       "      ColoredTokens,\n",
       "      {\"tokens\": [\"John\", \" is\", \" taller\", \" than\", \" Bob\", \",\", \" but\", \" shorter\", \" than\", \" Steve\", \".\", \" Who\", \" is\", \" the\", \" shortest\", \"?\\n\", \"Ans\", \":\"], \"values\": [0.01544189453125, 0.0101318359375, 0.001861572265625, 0.01806640625, 0.5, 0.033203125, 0.0419921875, 0.004608154296875, 0.006805419921875, 0.0118408203125, 0.0277099609375, 0.007476806640625, 0.004180908203125, 0.00174713134765625, 0.03125, 0.0673828125, 0.002532958984375, 0.029296875]}\n",
       "    )\n",
       "    </script>"
      ],
      "text/plain": [
       "<circuitsvis.utils.render.RenderedHTML at 0x7fa567ff65d0>"
      ]
     },
     "metadata": {},
     "output_type": "display_data"
    },
    {
     "name": "stdout",
     "output_type": "stream",
     "text": [
      "2025-08-01 14:52:52 __main__ INFO     Layer: 42, Head: 30\n"
     ]
    },
    {
     "data": {
      "text/html": [
       "<div id=\"circuits-vis-99a22e0d-e456\" style=\"margin: 15px 0;\"/>\n",
       "    <script crossorigin type=\"module\">\n",
       "    import { render, ColoredTokens } from \"https://unpkg.com/circuitsvis@1.43.3/dist/cdn/esm.js\";\n",
       "    render(\n",
       "      \"circuits-vis-99a22e0d-e456\",\n",
       "      ColoredTokens,\n",
       "      {\"tokens\": [\"John\", \" is\", \" taller\", \" than\", \" Bob\", \",\", \" but\", \" shorter\", \" than\", \" Steve\", \".\", \" Who\", \" is\", \" the\", \" shortest\", \"?\\n\", \"Ans\", \":\"], \"values\": [0.0032806396484375, 0.0107421875, 0.0069580078125, 0.01129150390625, 0.03515625, 0.007171630859375, 0.0052490234375, 0.003173828125, 0.0050048828125, 0.0021820068359375, 0.0089111328125, 0.0050048828125, 0.003662109375, 0.0028076171875, 0.00653076171875, 0.01275634765625, 0.003173828125, 0.005584716796875]}\n",
       "    )\n",
       "    </script>"
      ],
      "text/plain": [
       "<circuitsvis.utils.render.RenderedHTML at 0x7fa4c01bc710>"
      ]
     },
     "metadata": {},
     "output_type": "display_data"
    },
    {
     "name": "stdout",
     "output_type": "stream",
     "text": [
      "2025-08-01 14:52:52 __main__ INFO     Layer: 47, Head: 18\n"
     ]
    },
    {
     "data": {
      "text/html": [
       "<div id=\"circuits-vis-20fc8abb-9bbf\" style=\"margin: 15px 0;\"/>\n",
       "    <script crossorigin type=\"module\">\n",
       "    import { render, ColoredTokens } from \"https://unpkg.com/circuitsvis@1.43.3/dist/cdn/esm.js\";\n",
       "    render(\n",
       "      \"circuits-vis-20fc8abb-9bbf\",\n",
       "      ColoredTokens,\n",
       "      {\"tokens\": [\"John\", \" is\", \" taller\", \" than\", \" Bob\", \",\", \" but\", \" shorter\", \" than\", \" Steve\", \".\", \" Who\", \" is\", \" the\", \" shortest\", \"?\\n\", \"Ans\", \":\"], \"values\": [0.043701171875, 0.07275390625, 0.0032806396484375, 0.04296875, 0.1865234375, 0.06884765625, 0.04296875, 0.0005035400390625, 0.01446533203125, 0.000431060791015625, 0.0751953125, 0.0211181640625, 0.01531982421875, 0.007415771484375, 0.00096893310546875, 0.032470703125, 0.00408935546875, 0.0244140625]}\n",
       "    )\n",
       "    </script>"
      ],
      "text/plain": [
       "<circuitsvis.utils.render.RenderedHTML at 0x7fa56798e610>"
      ]
     },
     "metadata": {},
     "output_type": "display_data"
    },
    {
     "name": "stdout",
     "output_type": "stream",
     "text": [
      "2025-08-01 14:52:52 __main__ INFO     Layer: 52, Head: 58\n"
     ]
    },
    {
     "data": {
      "text/html": [
       "<div id=\"circuits-vis-5ed0c704-d234\" style=\"margin: 15px 0;\"/>\n",
       "    <script crossorigin type=\"module\">\n",
       "    import { render, ColoredTokens } from \"https://unpkg.com/circuitsvis@1.43.3/dist/cdn/esm.js\";\n",
       "    render(\n",
       "      \"circuits-vis-5ed0c704-d234\",\n",
       "      ColoredTokens,\n",
       "      {\"tokens\": [\"John\", \" is\", \" taller\", \" than\", \" Bob\", \",\", \" but\", \" shorter\", \" than\", \" Steve\", \".\", \" Who\", \" is\", \" the\", \" shortest\", \"?\\n\", \"Ans\", \":\"], \"values\": [0.011962890625, 0.02685546875, 0.0047607421875, 0.0133056640625, 0.051513671875, 0.01171875, 0.007232666015625, 0.00106048583984375, 0.00347900390625, 0.0003032684326171875, 0.01019287109375, 0.004241943359375, 0.00433349609375, 0.001800537109375, 0.0029754638671875, 0.0157470703125, 0.0098876953125, 0.0078125]}\n",
       "    )\n",
       "    </script>"
      ],
      "text/plain": [
       "<circuitsvis.utils.render.RenderedHTML at 0x7fa56798e610>"
      ]
     },
     "metadata": {},
     "output_type": "display_data"
    },
    {
     "data": {
      "text/plain": [
       "[PredictedToken(token=' Bob', prob=0.8203125, logit=20.25, token_id=14596, metadata=None),\n",
       " PredictedToken(token=' John', prob=0.03173828125, logit=17.0, token_id=3842, metadata=None),\n",
       " PredictedToken(token=' We', prob=0.0218505859375, logit=16.625, token_id=1226, metadata=None),\n",
       " PredictedToken(token=' The', prob=0.019287109375, logit=16.5, token_id=578, metadata=None),\n",
       " PredictedToken(token=' Since', prob=0.0150146484375, logit=16.25, token_id=8876, metadata=None)]"
      ]
     },
     "execution_count": 47,
     "metadata": {},
     "output_type": "execute_result"
    }
   ],
   "source": [
    "verify_ind = verify_head_patterns(\n",
    "    prompt=prompt,\n",
    "    options=[\"John\", \"Bob\", \"Steve\"],\n",
    "    pivot=\"shortest\",\n",
    "    mt=mt,\n",
    "    value_weighted=False,\n",
    "    generate_full_answer=False,\n",
    ")\n",
    "verify_ind[\"predictions\"]"
   ]
  },
  {
   "cell_type": "code",
   "execution_count": 50,
   "id": "b4fa521c",
   "metadata": {},
   "outputs": [
    {
     "name": "stdout",
     "output_type": "stream",
     "text": [
      "2025-08-01 14:54:42 __main__ DEBUG    Generated full answer: \" c = True\n",
      "\n",
      "## Step 1: Evaluate the value of a\n",
      "To find the value of a, we use the logical AND operator, which\"\n",
      "2025-08-01 14:54:42 __main__ DEBUG    Predictions: ['\" c\"[272] (p=0.562, logit=19.000)', '\" a\"[264] (p=0.098, logit=17.250)', '\" \\n\"[720] (p=0.076, logit=17.000)', '\" b\"[293] (p=0.052, logit=16.625)', '\" Only\"[8442] (p=0.036, logit=16.250)']\n",
      "layer=35\n"
     ]
    },
    {
     "data": {
      "text/html": [
       "<div id=\"circuits-vis-3b5b46a1-8c2b\" style=\"margin: 15px 0;\"/>\n",
       "    <script crossorigin type=\"module\">\n",
       "    import { render, ColoredTokens } from \"https://unpkg.com/circuitsvis@1.43.3/dist/cdn/esm.js\";\n",
       "    render(\n",
       "      \"circuits-vis-3b5b46a1-8c2b\",\n",
       "      ColoredTokens,\n",
       "      {\"tokens\": [\"a\", \",\", \" b\", \",\", \" c\", \" is\", \" calculated\", \" as\", \" below\", \".\", \" Find\", \" which\", \" one\", \" among\", \" a\", \",\", \" b\", \",\", \" c\", \" is\", \" True\", \"\\n\\n\", \"x\", \" =\", \" True\", \"\\n\", \"y\", \" =\", \" False\", \"\\n\", \"z\", \" =\", \" False\", \"\\n\\n\", \"a\", \" =\", \" x\", \" and\", \" y\", \"\\n\", \"b\", \" =\", \" y\", \" or\", \" z\", \"\\n\", \"c\", \" =\", \" z\", \" xor\", \" x\", \"\\n\\n\", \"Ans\", \":\"], \"values\": [0.020056486129760742, 0.0004611080512404442, 0.0006989836692810059, 0.00045609474182128906, 0.0009107440710067749, 0.0022574663162231445, 0.0027908235788345337, 0.0017205998301506042, 0.002147182822227478, 0.0027181804180145264, 0.005838468670845032, 0.013960950076580048, 0.0052774399518966675, 0.009093254804611206, 0.0030430033802986145, 0.008948981761932373, 0.004869058728218079, 0.0018480271100997925, 0.021297484636306763, 0.011117495596408844, 0.06517988443374634, 0.022840142250061035, 0.0018933173269033432, 0.0011652633547782898, 0.005964994430541992, 0.003427550196647644, 0.0009442344307899475, 0.0006961449980735779, 0.003855466842651367, 0.002836078405380249, 0.0008861124515533447, 0.0007502958178520203, 0.006018310785293579, 0.0033736824989318848, 0.02119666337966919, 0.004696860909461975, 0.0028724223375320435, 0.0053198933601379395, 0.003193475306034088, 0.012362465262413025, 0.019044429063796997, 0.0051062703132629395, 0.0016318261623382568, 0.005774945020675659, 0.00434296578168869, 0.02368970215320587, 0.033909112215042114, 0.009798377752304077, 0.005723819136619568, 0.02157360315322876, 0.013539992272853851, 0.04108285903930664, 0.013246655464172363, 0.046203017234802246]}\n",
       "    )\n",
       "    </script>"
      ],
      "text/plain": [
       "<circuitsvis.utils.render.RenderedHTML at 0x7fa47c3c6150>"
      ]
     },
     "metadata": {},
     "output_type": "display_data"
    },
    {
     "name": "stdout",
     "output_type": "stream",
     "text": [
      "--------------------------------------------------------------------------------\n",
      "layer=47\n"
     ]
    },
    {
     "data": {
      "text/html": [
       "<div id=\"circuits-vis-d1d6b3c5-f8de\" style=\"margin: 15px 0;\"/>\n",
       "    <script crossorigin type=\"module\">\n",
       "    import { render, ColoredTokens } from \"https://unpkg.com/circuitsvis@1.43.3/dist/cdn/esm.js\";\n",
       "    render(\n",
       "      \"circuits-vis-d1d6b3c5-f8de\",\n",
       "      ColoredTokens,\n",
       "      {\"tokens\": [\"a\", \",\", \" b\", \",\", \" c\", \" is\", \" calculated\", \" as\", \" below\", \".\", \" Find\", \" which\", \" one\", \" among\", \" a\", \",\", \" b\", \",\", \" c\", \" is\", \" True\", \"\\n\\n\", \"x\", \" =\", \" True\", \"\\n\", \"y\", \" =\", \" False\", \"\\n\", \"z\", \" =\", \" False\", \"\\n\\n\", \"a\", \" =\", \" x\", \" and\", \" y\", \"\\n\", \"b\", \" =\", \" y\", \" or\", \" z\", \"\\n\", \"c\", \" =\", \" z\", \" xor\", \" x\", \"\\n\\n\", \"Ans\", \":\"], \"values\": [0.0018457397818565369, 0.0004308968782424927, 0.000490095466375351, 0.00020879972726106644, 0.0011992137879133224, 0.0008434350602328777, 0.0006290609017014503, 0.00046794256195425987, 0.000612364150583744, 0.0006635356694459915, 0.0004580761305987835, 0.0009988551028072834, 0.0007371474057435989, 0.0007327292114496231, 0.0017249584197998047, 0.0009577954187989235, 0.0012047011405229568, 0.00045150890946388245, 0.0061768097802996635, 0.0006597507745027542, 0.002824600785970688, 0.0016929991543293, 0.000517185777425766, 0.0002615582197904587, 0.0010366067290306091, 0.0005548158660531044, 0.0004511810839176178, 0.00017273332923650742, 0.00033442769199609756, 0.0005669817328453064, 0.0005065137520432472, 0.0002660253085196018, 0.00024024397134780884, 0.0007787011563777924, 0.0051803309470415115, 0.0013461075723171234, 0.0005142968147993088, 0.0009620338678359985, 0.0002612052485346794, 0.0016705440357327461, 0.003489322029054165, 0.000871976837515831, 0.00020209047943353653, 0.0006957501173019409, 0.000237220898270607, 0.000640304759144783, 0.010977916419506073, 0.0014186352491378784, 0.000651950016617775, 0.003161311149597168, 0.0007058307528495789, 0.003295600414276123, 0.007159441709518433, 0.0027203410863876343]}\n",
       "    )\n",
       "    </script>"
      ],
      "text/plain": [
       "<circuitsvis.utils.render.RenderedHTML at 0x7fa500197850>"
      ]
     },
     "metadata": {},
     "output_type": "display_data"
    },
    {
     "name": "stdout",
     "output_type": "stream",
     "text": [
      "--------------------------------------------------------------------------------\n",
      "layer=52\n"
     ]
    },
    {
     "data": {
      "text/html": [
       "<div id=\"circuits-vis-164b8d00-31ea\" style=\"margin: 15px 0;\"/>\n",
       "    <script crossorigin type=\"module\">\n",
       "    import { render, ColoredTokens } from \"https://unpkg.com/circuitsvis@1.43.3/dist/cdn/esm.js\";\n",
       "    render(\n",
       "      \"circuits-vis-164b8d00-31ea\",\n",
       "      ColoredTokens,\n",
       "      {\"tokens\": [\"a\", \",\", \" b\", \",\", \" c\", \" is\", \" calculated\", \" as\", \" below\", \".\", \" Find\", \" which\", \" one\", \" among\", \" a\", \",\", \" b\", \",\", \" c\", \" is\", \" True\", \"\\n\\n\", \"x\", \" =\", \" True\", \"\\n\", \"y\", \" =\", \" False\", \"\\n\", \"z\", \" =\", \" False\", \"\\n\\n\", \"a\", \" =\", \" x\", \" and\", \" y\", \"\\n\", \"b\", \" =\", \" y\", \" or\", \" z\", \"\\n\", \"c\", \" =\", \" z\", \" xor\", \" x\", \"\\n\\n\", \"Ans\", \":\"], \"values\": [0.003394007682800293, 0.0018674363382160664, 0.0015450208447873592, 0.0005812756717205048, 0.002040955238044262, 0.0037026172503829002, 0.0037760622799396515, 0.0009636040776968002, 0.0010208915919065475, 0.0019692890346050262, 0.002079521305859089, 0.0025611743330955505, 0.0014566611498594284, 0.002443186938762665, 0.0031763575971126556, 0.002099607139825821, 0.002698080614209175, 0.0011363234370946884, 0.008723070845007896, 0.0018264753744006157, 0.007233873009681702, 0.007291208952665329, 0.0030160173773765564, 0.0018398929387331009, 0.0021510012447834015, 0.0033514201641082764, 0.0019354932010173798, 0.0006946101784706116, 0.0018266290426254272, 0.0014592837542295456, 0.0014938060194253922, 0.0006959885358810425, 0.0010209167376160622, 0.0025866692885756493, 0.009726257994771004, 0.003139827400445938, 0.002041945233941078, 0.0031678713858127594, 0.0008267336525022984, 0.0031780190765857697, 0.0056746117770671844, 0.001810145564377308, 0.0007883254438638687, 0.0024798978120088577, 0.0007370226085186005, 0.0016335174441337585, 0.020731130614876747, 0.0028182826936244965, 0.0016713785007596016, 0.00604228675365448, 0.0020802244544029236, 0.008594229817390442, 0.016826488077640533, 0.015092909336090088]}\n",
       "    )\n",
       "    </script>"
      ],
      "text/plain": [
       "<circuitsvis.utils.render.RenderedHTML at 0x7fa47c3c4a90>"
      ]
     },
     "metadata": {},
     "output_type": "display_data"
    },
    {
     "name": "stdout",
     "output_type": "stream",
     "text": [
      "--------------------------------------------------------------------------------\n",
      "======================================================================\n",
      "2025-08-01 14:54:42 __main__ INFO     Layer: 33, Head: 45\n"
     ]
    },
    {
     "data": {
      "text/html": [
       "<div id=\"circuits-vis-ff3f8368-5ece\" style=\"margin: 15px 0;\"/>\n",
       "    <script crossorigin type=\"module\">\n",
       "    import { render, ColoredTokens } from \"https://unpkg.com/circuitsvis@1.43.3/dist/cdn/esm.js\";\n",
       "    render(\n",
       "      \"circuits-vis-ff3f8368-5ece\",\n",
       "      ColoredTokens,\n",
       "      {\"tokens\": [\"a\", \",\", \" b\", \",\", \" c\", \" is\", \" calculated\", \" as\", \" below\", \".\", \" Find\", \" which\", \" one\", \" among\", \" a\", \",\", \" b\", \",\", \" c\", \" is\", \" True\", \"\\n\\n\", \"x\", \" =\", \" True\", \"\\n\", \"y\", \" =\", \" False\", \"\\n\", \"z\", \" =\", \" False\", \"\\n\\n\", \"a\", \" =\", \" x\", \" and\", \" y\", \"\\n\", \"b\", \" =\", \" y\", \" or\", \" z\", \"\\n\", \"c\", \" =\", \" z\", \" xor\", \" x\", \"\\n\\n\", \"Ans\", \":\"], \"values\": [0.01434326171875, 0.00118255615234375, 0.0027923583984375, 0.000476837158203125, 0.0027923583984375, 0.00311279296875, 0.002166748046875, 0.002532958984375, 0.0009918212890625, 0.0015411376953125, 0.01190185546875, 0.0107421875, 0.0030059814453125, 0.003570556640625, 0.005615234375, 0.004425048828125, 0.00732421875, 0.001007080078125, 0.0169677734375, 0.0084228515625, 0.0283203125, 0.01025390625, 0.005340576171875, 0.0027008056640625, 0.01220703125, 0.0068359375, 0.003204345703125, 0.00106048583984375, 0.02001953125, 0.004119873046875, 0.0038604736328125, 0.00164031982421875, 0.0247802734375, 0.006072998046875, 0.022705078125, 0.00421142578125, 0.01092529296875, 0.0125732421875, 0.006591796875, 0.0137939453125, 0.0240478515625, 0.015869140625, 0.0177001953125, 0.09814453125, 0.0263671875, 0.051025390625, 0.038330078125, 0.006439208984375, 0.04150390625, 0.060302734375, 0.025634765625, 0.0712890625, 0.01611328125, 0.0181884765625]}\n",
       "    )\n",
       "    </script>"
      ],
      "text/plain": [
       "<circuitsvis.utils.render.RenderedHTML at 0x7fa567ed5b10>"
      ]
     },
     "metadata": {},
     "output_type": "display_data"
    },
    {
     "name": "stdout",
     "output_type": "stream",
     "text": [
      "2025-08-01 14:54:42 __main__ INFO     Layer: 33, Head: 18\n"
     ]
    },
    {
     "data": {
      "text/html": [
       "<div id=\"circuits-vis-6970c9c7-623a\" style=\"margin: 15px 0;\"/>\n",
       "    <script crossorigin type=\"module\">\n",
       "    import { render, ColoredTokens } from \"https://unpkg.com/circuitsvis@1.43.3/dist/cdn/esm.js\";\n",
       "    render(\n",
       "      \"circuits-vis-6970c9c7-623a\",\n",
       "      ColoredTokens,\n",
       "      {\"tokens\": [\"a\", \",\", \" b\", \",\", \" c\", \" is\", \" calculated\", \" as\", \" below\", \".\", \" Find\", \" which\", \" one\", \" among\", \" a\", \",\", \" b\", \",\", \" c\", \" is\", \" True\", \"\\n\\n\", \"x\", \" =\", \" True\", \"\\n\", \"y\", \" =\", \" False\", \"\\n\", \"z\", \" =\", \" False\", \"\\n\\n\", \"a\", \" =\", \" x\", \" and\", \" y\", \"\\n\", \"b\", \" =\", \" y\", \" or\", \" z\", \"\\n\", \"c\", \" =\", \" z\", \" xor\", \" x\", \"\\n\\n\", \"Ans\", \":\"], \"values\": [0.035400390625, 0.0012969970703125, 0.002349853515625, 0.00080108642578125, 0.003753662109375, 0.0028533935546875, 0.00011014938354492188, 0.000240325927734375, 0.000308990478515625, 0.0002803802490234375, 0.00060272216796875, 0.003662109375, 0.011962890625, 0.0054931640625, 0.010498046875, 0.00433349609375, 0.0234375, 9.679794311523438e-05, 0.052734375, 0.00946044921875, 0.232421875, 0.0079345703125, 0.00109100341796875, 0.0004634857177734375, 0.04150390625, 0.00174713134765625, 0.0008392333984375, 0.0003833770751953125, 0.01239013671875, 0.000621795654296875, 0.00119781494140625, 0.0027313232421875, 0.011962890625, 0.0004482269287109375, 0.056884765625, 0.003997802734375, 0.0022125244140625, 0.00140380859375, 0.0008392333984375, 0.0022735595703125, 0.09521484375, 0.00433349609375, 0.002166748046875, 0.0033721923828125, 0.006805419921875, 0.0191650390625, 0.0947265625, 0.0078125, 0.005218505859375, 0.017333984375, 0.0023193359375, 0.00653076171875, 0.0047607421875, 0.024658203125]}\n",
       "    )\n",
       "    </script>"
      ],
      "text/plain": [
       "<circuitsvis.utils.render.RenderedHTML at 0x7fa4e0326350>"
      ]
     },
     "metadata": {},
     "output_type": "display_data"
    },
    {
     "name": "stdout",
     "output_type": "stream",
     "text": [
      "2025-08-01 14:54:43 __main__ INFO     Layer: 34, Head: 1\n"
     ]
    },
    {
     "data": {
      "text/html": [
       "<div id=\"circuits-vis-051a0046-42e5\" style=\"margin: 15px 0;\"/>\n",
       "    <script crossorigin type=\"module\">\n",
       "    import { render, ColoredTokens } from \"https://unpkg.com/circuitsvis@1.43.3/dist/cdn/esm.js\";\n",
       "    render(\n",
       "      \"circuits-vis-051a0046-42e5\",\n",
       "      ColoredTokens,\n",
       "      {\"tokens\": [\"a\", \",\", \" b\", \",\", \" c\", \" is\", \" calculated\", \" as\", \" below\", \".\", \" Find\", \" which\", \" one\", \" among\", \" a\", \",\", \" b\", \",\", \" c\", \" is\", \" True\", \"\\n\\n\", \"x\", \" =\", \" True\", \"\\n\", \"y\", \" =\", \" False\", \"\\n\", \"z\", \" =\", \" False\", \"\\n\\n\", \"a\", \" =\", \" x\", \" and\", \" y\", \"\\n\", \"b\", \" =\", \" y\", \" or\", \" z\", \"\\n\", \"c\", \" =\", \" z\", \" xor\", \" x\", \"\\n\\n\", \"Ans\", \":\"], \"values\": [0.07373046875, 0.00022029876708984375, 0.00012969970703125, 9.202957153320312e-05, 0.000545501708984375, 0.000598907470703125, 0.001068115234375, 0.000659942626953125, 0.001190185546875, 0.00146484375, 0.0084228515625, 0.029296875, 0.0137939453125, 0.00958251953125, 0.0009002685546875, 0.0020904541015625, 0.000545501708984375, 0.000438690185546875, 0.0128173828125, 0.007537841796875, 0.024658203125, 0.00811767578125, 0.0002422332763671875, 0.0002422332763671875, 0.00225830078125, 0.00022029876708984375, 3.838539123535156e-05, 3.075599670410156e-05, 0.000530242919921875, 0.0001773834228515625, 0.0002918243408203125, 0.00091552734375, 0.00072479248046875, 0.000438690185546875, 0.0252685546875, 0.002960205078125, 0.000213623046875, 0.00067901611328125, 7.390975952148438e-05, 0.0032958984375, 0.0247802734375, 0.003143310546875, 0.000274658203125, 0.0029144287109375, 0.00103759765625, 0.01055908203125, 0.1142578125, 0.01116943359375, 0.00384521484375, 0.038330078125, 0.0037384033203125, 0.032958984375, 0.01080322265625, 0.024169921875]}\n",
       "    )\n",
       "    </script>"
      ],
      "text/plain": [
       "<circuitsvis.utils.render.RenderedHTML at 0x7fa500186710>"
      ]
     },
     "metadata": {},
     "output_type": "display_data"
    },
    {
     "name": "stdout",
     "output_type": "stream",
     "text": [
      "2025-08-01 14:54:43 __main__ INFO     Layer: 34, Head: 6\n"
     ]
    },
    {
     "data": {
      "text/html": [
       "<div id=\"circuits-vis-50d908d1-6d2c\" style=\"margin: 15px 0;\"/>\n",
       "    <script crossorigin type=\"module\">\n",
       "    import { render, ColoredTokens } from \"https://unpkg.com/circuitsvis@1.43.3/dist/cdn/esm.js\";\n",
       "    render(\n",
       "      \"circuits-vis-50d908d1-6d2c\",\n",
       "      ColoredTokens,\n",
       "      {\"tokens\": [\"a\", \",\", \" b\", \",\", \" c\", \" is\", \" calculated\", \" as\", \" below\", \".\", \" Find\", \" which\", \" one\", \" among\", \" a\", \",\", \" b\", \",\", \" c\", \" is\", \" True\", \"\\n\\n\", \"x\", \" =\", \" True\", \"\\n\", \"y\", \" =\", \" False\", \"\\n\", \"z\", \" =\", \" False\", \"\\n\\n\", \"a\", \" =\", \" x\", \" and\", \" y\", \"\\n\", \"b\", \" =\", \" y\", \" or\", \" z\", \"\\n\", \"c\", \" =\", \" z\", \" xor\", \" x\", \"\\n\\n\", \"Ans\", \":\"], \"values\": [0.060302734375, 0.000545501708984375, 0.0003299713134765625, 0.000301361083984375, 0.00115203857421875, 0.00115203857421875, 0.00130462646484375, 0.0016021728515625, 0.0017852783203125, 0.0019989013671875, 0.00872802734375, 0.02978515625, 0.0093994140625, 0.0107421875, 0.0015716552734375, 0.0037841796875, 0.0010986328125, 0.000598907470703125, 0.016845703125, 0.00970458984375, 0.0284423828125, 0.0068359375, 0.00099945068359375, 0.00079345703125, 0.0020904541015625, 0.000720977783203125, 0.0001659393310546875, 0.00010728836059570312, 0.0006561279296875, 0.0003108978271484375, 0.00115203857421875, 0.0042724609375, 0.00135040283203125, 0.0012054443359375, 0.038330078125, 0.006622314453125, 0.00095367431640625, 0.00130462646484375, 0.00022029876708984375, 0.0034332275390625, 0.033203125, 0.0196533203125, 0.000637054443359375, 0.0093994140625, 0.0037841796875, 0.01202392578125, 0.08251953125, 0.040283203125, 0.0052490234375, 0.0274658203125, 0.013916015625, 0.05126953125, 0.0027618408203125, 0.018310546875]}\n",
       "    )\n",
       "    </script>"
      ],
      "text/plain": [
       "<circuitsvis.utils.render.RenderedHTML at 0x7fa47c3c58d0>"
      ]
     },
     "metadata": {},
     "output_type": "display_data"
    },
    {
     "name": "stdout",
     "output_type": "stream",
     "text": [
      "2025-08-01 14:54:43 __main__ INFO     Layer: 34, Head: 7\n"
     ]
    },
    {
     "data": {
      "text/html": [
       "<div id=\"circuits-vis-1a654098-6995\" style=\"margin: 15px 0;\"/>\n",
       "    <script crossorigin type=\"module\">\n",
       "    import { render, ColoredTokens } from \"https://unpkg.com/circuitsvis@1.43.3/dist/cdn/esm.js\";\n",
       "    render(\n",
       "      \"circuits-vis-1a654098-6995\",\n",
       "      ColoredTokens,\n",
       "      {\"tokens\": [\"a\", \",\", \" b\", \",\", \" c\", \" is\", \" calculated\", \" as\", \" below\", \".\", \" Find\", \" which\", \" one\", \" among\", \" a\", \",\", \" b\", \",\", \" c\", \" is\", \" True\", \"\\n\\n\", \"x\", \" =\", \" True\", \"\\n\", \"y\", \" =\", \" False\", \"\\n\", \"z\", \" =\", \" False\", \"\\n\\n\", \"a\", \" =\", \" x\", \" and\", \" y\", \"\\n\", \"b\", \" =\", \" y\", \" or\", \" z\", \"\\n\", \"c\", \" =\", \" z\", \" xor\", \" x\", \"\\n\\n\", \"Ans\", \":\"], \"values\": [0.048828125, 8.344650268554688e-05, 7.390975952148438e-05, 5.91278076171875e-05, 0.0002269744873046875, 0.000194549560546875, 0.0002651214599609375, 0.0002346038818359375, 0.00051116943359375, 0.000637054443359375, 0.00299072265625, 0.011474609375, 0.006378173828125, 0.00750732421875, 0.000766754150390625, 0.00186920166015625, 0.00048065185546875, 0.0003299713134765625, 0.00653076171875, 0.01080322265625, 0.0186767578125, 0.01165771484375, 0.0003871917724609375, 0.000274658203125, 0.00396728515625, 0.000560760498046875, 0.000110626220703125, 7.152557373046875e-05, 0.00141143798828125, 0.00061798095703125, 0.0003871917724609375, 0.000743865966796875, 0.0021209716796875, 0.002227783203125, 0.052490234375, 0.004730224609375, 0.00135040283203125, 0.0029449462890625, 0.0004520416259765625, 0.009521484375, 0.04248046875, 0.00958251953125, 0.00193023681640625, 0.008056640625, 0.0031280517578125, 0.0291748046875, 0.15625, 0.0208740234375, 0.00994873046875, 0.0284423828125, 0.0111083984375, 0.09765625, 0.0189208984375, 0.0830078125]}\n",
       "    )\n",
       "    </script>"
      ],
      "text/plain": [
       "<circuitsvis.utils.render.RenderedHTML at 0x7fa4e02179d0>"
      ]
     },
     "metadata": {},
     "output_type": "display_data"
    },
    {
     "name": "stdout",
     "output_type": "stream",
     "text": [
      "2025-08-01 14:54:43 __main__ INFO     Layer: 35, Head: 19\n"
     ]
    },
    {
     "data": {
      "text/html": [
       "<div id=\"circuits-vis-5aac2f67-e86a\" style=\"margin: 15px 0;\"/>\n",
       "    <script crossorigin type=\"module\">\n",
       "    import { render, ColoredTokens } from \"https://unpkg.com/circuitsvis@1.43.3/dist/cdn/esm.js\";\n",
       "    render(\n",
       "      \"circuits-vis-5aac2f67-e86a\",\n",
       "      ColoredTokens,\n",
       "      {\"tokens\": [\"a\", \",\", \" b\", \",\", \" c\", \" is\", \" calculated\", \" as\", \" below\", \".\", \" Find\", \" which\", \" one\", \" among\", \" a\", \",\", \" b\", \",\", \" c\", \" is\", \" True\", \"\\n\\n\", \"x\", \" =\", \" True\", \"\\n\", \"y\", \" =\", \" False\", \"\\n\", \"z\", \" =\", \" False\", \"\\n\\n\", \"a\", \" =\", \" x\", \" and\", \" y\", \"\\n\", \"b\", \" =\", \" y\", \" or\", \" z\", \"\\n\", \"c\", \" =\", \" z\", \" xor\", \" x\", \"\\n\\n\", \"Ans\", \":\"], \"values\": [0.0103759765625, 2.3603439331054688e-05, 8.535385131835938e-05, 4.863739013671875e-05, 0.0003261566162109375, 4.291534423828125e-05, 0.00013446807861328125, 8.535385131835938e-05, 0.000499725341796875, 0.000171661376953125, 0.00146484375, 0.004241943359375, 0.0009613037109375, 0.002685546875, 0.0002536773681640625, 0.00090789794921875, 0.0009307861328125, 3.24249267578125e-05, 0.01031494140625, 0.00154876708984375, 0.0419921875, 0.00135040283203125, 2.086162567138672e-05, 0.00021457672119140625, 0.00689697265625, 0.00139617919921875, 0.0001163482666015625, 0.0003528594970703125, 0.008544921875, 0.000598907470703125, 0.000278472900390625, 0.001739501953125, 0.00714111328125, 0.000640869140625, 0.02294921875, 0.004241943359375, 0.000873565673828125, 0.003997802734375, 0.000713348388671875, 0.004302978515625, 0.043701171875, 0.0179443359375, 0.000583648681640625, 0.0201416015625, 0.00555419921875, 0.05078125, 0.1181640625, 0.08935546875, 0.0022735595703125, 0.076171875, 0.059326171875, 0.326171875, 0.000782012939453125, 0.007568359375]}\n",
       "    )\n",
       "    </script>"
      ],
      "text/plain": [
       "<circuitsvis.utils.render.RenderedHTML at 0x7fa4c0525bd0>"
      ]
     },
     "metadata": {},
     "output_type": "display_data"
    },
    {
     "name": "stdout",
     "output_type": "stream",
     "text": [
      "2025-08-01 14:54:43 __main__ INFO     Layer: 39, Head: 40\n"
     ]
    },
    {
     "data": {
      "text/html": [
       "<div id=\"circuits-vis-faa126d5-13eb\" style=\"margin: 15px 0;\"/>\n",
       "    <script crossorigin type=\"module\">\n",
       "    import { render, ColoredTokens } from \"https://unpkg.com/circuitsvis@1.43.3/dist/cdn/esm.js\";\n",
       "    render(\n",
       "      \"circuits-vis-faa126d5-13eb\",\n",
       "      ColoredTokens,\n",
       "      {\"tokens\": [\"a\", \",\", \" b\", \",\", \" c\", \" is\", \" calculated\", \" as\", \" below\", \".\", \" Find\", \" which\", \" one\", \" among\", \" a\", \",\", \" b\", \",\", \" c\", \" is\", \" True\", \"\\n\\n\", \"x\", \" =\", \" True\", \"\\n\", \"y\", \" =\", \" False\", \"\\n\", \"z\", \" =\", \" False\", \"\\n\\n\", \"a\", \" =\", \" x\", \" and\", \" y\", \"\\n\", \"b\", \" =\", \" y\", \" or\", \" z\", \"\\n\", \"c\", \" =\", \" z\", \" xor\", \" x\", \"\\n\\n\", \"Ans\", \":\"], \"values\": [0.0091552734375, 9.870529174804688e-05, 0.00010824203491210938, 0.000152587890625, 0.0033416748046875, 0.002471923828125, 0.00159454345703125, 0.002044677734375, 0.00107574462890625, 0.005645751953125, 0.00311279296875, 0.01287841796875, 0.00830078125, 0.007293701171875, 0.0033721923828125, 0.0016937255859375, 0.0052490234375, 0.00054168701171875, 0.07958984375, 0.0101318359375, 0.0888671875, 0.0164794921875, 3.0040740966796875e-05, 7.43865966796875e-05, 0.000499725341796875, 0.000560760498046875, 0.00011157989501953125, 0.0001049041748046875, 0.000652313232421875, 0.00092315673828125, 0.000560760498046875, 0.00106048583984375, 0.000774383544921875, 0.00140380859375, 0.0634765625, 0.004638671875, 0.0001735687255859375, 0.0005950927734375, 0.00014781951904296875, 0.01165771484375, 0.0296630859375, 0.00555419921875, 0.00014781951904296875, 0.0003452301025390625, 0.000499725341796875, 0.00897216796875, 0.208984375, 0.0361328125, 0.0047607421875, 0.01214599609375, 0.0023956298828125, 0.14453125, 0.0079345703125, 0.09912109375]}\n",
       "    )\n",
       "    </script>"
      ],
      "text/plain": [
       "<circuitsvis.utils.render.RenderedHTML at 0x7fa567efc450>"
      ]
     },
     "metadata": {},
     "output_type": "display_data"
    },
    {
     "name": "stdout",
     "output_type": "stream",
     "text": [
      "2025-08-01 14:54:43 __main__ INFO     Layer: 42, Head: 30\n"
     ]
    },
    {
     "data": {
      "text/html": [
       "<div id=\"circuits-vis-2788866f-d88a\" style=\"margin: 15px 0;\"/>\n",
       "    <script crossorigin type=\"module\">\n",
       "    import { render, ColoredTokens } from \"https://unpkg.com/circuitsvis@1.43.3/dist/cdn/esm.js\";\n",
       "    render(\n",
       "      \"circuits-vis-2788866f-d88a\",\n",
       "      ColoredTokens,\n",
       "      {\"tokens\": [\"a\", \",\", \" b\", \",\", \" c\", \" is\", \" calculated\", \" as\", \" below\", \".\", \" Find\", \" which\", \" one\", \" among\", \" a\", \",\", \" b\", \",\", \" c\", \" is\", \" True\", \"\\n\\n\", \"x\", \" =\", \" True\", \"\\n\", \"y\", \" =\", \" False\", \"\\n\", \"z\", \" =\", \" False\", \"\\n\\n\", \"a\", \" =\", \" x\", \" and\", \" y\", \"\\n\", \"b\", \" =\", \" y\", \" or\", \" z\", \"\\n\", \"c\", \" =\", \" z\", \" xor\", \" x\", \"\\n\\n\", \"Ans\", \":\"], \"values\": [0.0038604736328125, 0.00144195556640625, 0.002197265625, 0.0004825592041015625, 0.004669189453125, 0.004791259765625, 0.000682830810546875, 0.00127410888671875, 0.00109100341796875, 0.0013580322265625, 0.0020904541015625, 0.005523681640625, 0.004791259765625, 0.002960205078125, 0.006072998046875, 0.0072021484375, 0.0081787109375, 0.000640869140625, 0.034423828125, 0.00396728515625, 0.043701171875, 0.0030517578125, 0.00119781494140625, 0.000682830810546875, 0.00732421875, 0.0026092529296875, 0.00185394287109375, 0.000583648681640625, 0.00238037109375, 0.0013580322265625, 0.0037994384765625, 0.00144195556640625, 0.006072998046875, 0.00144195556640625, 0.033447265625, 0.00579833984375, 0.0034637451171875, 0.004669189453125, 0.0026092529296875, 0.015625, 0.031494140625, 0.0032958984375, 0.0019378662109375, 0.006256103515625, 0.0084228515625, 0.0113525390625, 0.0927734375, 0.006072998046875, 0.018310546875, 0.0233154296875, 0.0274658203125, 0.022705078125, 0.0037994384765625, 0.00885009765625]}\n",
       "    )\n",
       "    </script>"
      ],
      "text/plain": [
       "<circuitsvis.utils.render.RenderedHTML at 0x7fa4c033c450>"
      ]
     },
     "metadata": {},
     "output_type": "display_data"
    },
    {
     "name": "stdout",
     "output_type": "stream",
     "text": [
      "2025-08-01 14:54:43 __main__ INFO     Layer: 47, Head: 18\n"
     ]
    },
    {
     "data": {
      "text/html": [
       "<div id=\"circuits-vis-521a1f20-076b\" style=\"margin: 15px 0;\"/>\n",
       "    <script crossorigin type=\"module\">\n",
       "    import { render, ColoredTokens } from \"https://unpkg.com/circuitsvis@1.43.3/dist/cdn/esm.js\";\n",
       "    render(\n",
       "      \"circuits-vis-521a1f20-076b\",\n",
       "      ColoredTokens,\n",
       "      {\"tokens\": [\"a\", \",\", \" b\", \",\", \" c\", \" is\", \" calculated\", \" as\", \" below\", \".\", \" Find\", \" which\", \" one\", \" among\", \" a\", \",\", \" b\", \",\", \" c\", \" is\", \" True\", \"\\n\\n\", \"x\", \" =\", \" True\", \"\\n\", \"y\", \" =\", \" False\", \"\\n\", \"z\", \" =\", \" False\", \"\\n\\n\", \"a\", \" =\", \" x\", \" and\", \" y\", \"\\n\", \"b\", \" =\", \" y\", \" or\", \" z\", \"\\n\", \"c\", \" =\", \" z\", \" xor\", \" x\", \"\\n\\n\", \"Ans\", \":\"], \"values\": [0.00665283203125, 0.00244140625, 0.001312255859375, 0.0011749267578125, 0.0098876953125, 0.006500244140625, 0.0015106201171875, 0.0025634765625, 0.000713348388671875, 0.0029449462890625, 0.00176239013671875, 0.0086669921875, 0.00628662109375, 0.00244140625, 0.03369140625, 0.01611328125, 0.0126953125, 0.0021209716796875, 0.1279296875, 0.01226806640625, 0.017822265625, 0.0034027099609375, 0.000335693359375, 0.0002384185791015625, 0.000858306884765625, 0.000537872314453125, 0.0001163482666015625, 0.00017452239990234375, 9.965896606445312e-05, 0.0009918212890625, 0.00016880035400390625, 0.0008087158203125, 0.0001163482666015625, 0.001556396484375, 0.12451171875, 0.017822265625, 0.0016021728515625, 0.0020294189453125, 0.0001544952392578125, 0.04345703125, 0.050048828125, 0.0086669921875, 0.00021076202392578125, 0.000392913818359375, 9.34600830078125e-05, 0.004638671875, 0.1962890625, 0.01422119140625, 0.00179290771484375, 0.0023651123046875, 0.000370025634765625, 0.0164794921875, 0.0021209716796875, 0.017822265625]}\n",
       "    )\n",
       "    </script>"
      ],
      "text/plain": [
       "<circuitsvis.utils.render.RenderedHTML at 0x7fa4a035cfd0>"
      ]
     },
     "metadata": {},
     "output_type": "display_data"
    },
    {
     "name": "stdout",
     "output_type": "stream",
     "text": [
      "2025-08-01 14:54:43 __main__ INFO     Layer: 52, Head: 58\n"
     ]
    },
    {
     "data": {
      "text/html": [
       "<div id=\"circuits-vis-c3d1b17c-65db\" style=\"margin: 15px 0;\"/>\n",
       "    <script crossorigin type=\"module\">\n",
       "    import { render, ColoredTokens } from \"https://unpkg.com/circuitsvis@1.43.3/dist/cdn/esm.js\";\n",
       "    render(\n",
       "      \"circuits-vis-c3d1b17c-65db\",\n",
       "      ColoredTokens,\n",
       "      {\"tokens\": [\"a\", \",\", \" b\", \",\", \" c\", \" is\", \" calculated\", \" as\", \" below\", \".\", \" Find\", \" which\", \" one\", \" among\", \" a\", \",\", \" b\", \",\", \" c\", \" is\", \" True\", \"\\n\\n\", \"x\", \" =\", \" True\", \"\\n\", \"y\", \" =\", \" False\", \"\\n\", \"z\", \" =\", \" False\", \"\\n\\n\", \"a\", \" =\", \" x\", \" and\", \" y\", \"\\n\", \"b\", \" =\", \" y\", \" or\", \" z\", \"\\n\", \"c\", \" =\", \" z\", \" xor\", \" x\", \"\\n\\n\", \"Ans\", \":\"], \"values\": [0.00909423828125, 0.0011749267578125, 0.000553131103515625, 0.001068115234375, 0.002410888671875, 0.016845703125, 0.006866455078125, 0.0027313232421875, 0.000782012939453125, 0.00091552734375, 0.001373291015625, 0.006561279296875, 0.0087890625, 0.002777099609375, 0.00830078125, 0.00408935546875, 0.0028533935546875, 0.000629425048828125, 0.01129150390625, 0.0264892578125, 0.019287109375, 0.00457763671875, 0.000553131103515625, 0.001556396484375, 0.00982666015625, 0.00103759765625, 0.0004062652587890625, 0.001251220703125, 0.00165557861328125, 0.0013275146484375, 0.00091552734375, 0.0034027099609375, 0.0028533935546875, 0.002227783203125, 0.031005859375, 0.033935546875, 0.00323486328125, 0.011474609375, 0.0003814697265625, 0.024658203125, 0.007537841796875, 0.016845703125, 0.0004596710205078125, 0.004425048828125, 0.000629425048828125, 0.0033416748046875, 0.03466796875, 0.0291748046875, 0.0034027099609375, 0.0284423828125, 0.0031890869140625, 0.01531982421875, 0.00244140625, 0.01202392578125]}\n",
       "    )\n",
       "    </script>"
      ],
      "text/plain": [
       "<circuitsvis.utils.render.RenderedHTML at 0x7fa4a035e710>"
      ]
     },
     "metadata": {},
     "output_type": "display_data"
    },
    {
     "data": {
      "text/plain": [
       "[PredictedToken(token=' c', prob=0.5625, logit=19.0, token_id=272, metadata=None),\n",
       " PredictedToken(token=' a', prob=0.09814453125, logit=17.25, token_id=264, metadata=None),\n",
       " PredictedToken(token=' \\n', prob=0.076171875, logit=17.0, token_id=720, metadata=None),\n",
       " PredictedToken(token=' b', prob=0.052490234375, logit=16.625, token_id=293, metadata=None),\n",
       " PredictedToken(token=' Only', prob=0.0361328125, logit=16.25, token_id=8442, metadata=None)]"
      ]
     },
     "execution_count": 50,
     "metadata": {},
     "output_type": "execute_result"
    }
   ],
   "source": [
    "# prompt = \"\"\"x = True\n",
    "# y = False\n",
    "# z = True\n",
    "\n",
    "# a = x and y\n",
    "# b = y or z\n",
    "# c = z xor x\n",
    "\n",
    "# Which one among a, b, c is True?\n",
    "# Ans:\"\"\"\n",
    "\n",
    "prompt = \"\"\"a, b, c is calculated as below. Find which one among a, b, c is True\n",
    "\n",
    "x = True\n",
    "y = False\n",
    "z = False\n",
    "\n",
    "a = x and y\n",
    "b = y or z\n",
    "c = z xor x\n",
    "\n",
    "Ans:\"\"\"\n",
    "\n",
    "verify = verify_head_patterns(\n",
    "    prompt=prompt,\n",
    "    options=[\"a\", \"b\", \"c\"],\n",
    "    pivot=\"True\",\n",
    "    mt=mt,\n",
    "    value_weighted=False,\n",
    "    generate_full_answer=True,\n",
    ")\n",
    "verify[\"predictions\"]"
   ]
  },
  {
   "cell_type": "code",
   "execution_count": null,
   "id": "be3e600d",
   "metadata": {},
   "outputs": [],
   "source": []
  }
 ],
 "metadata": {
  "kernelspec": {
   "display_name": "connection",
   "language": "python",
   "name": "python3"
  },
  "language_info": {
   "codemirror_mode": {
    "name": "ipython",
    "version": 3
   },
   "file_extension": ".py",
   "mimetype": "text/x-python",
   "name": "python",
   "nbconvert_exporter": "python",
   "pygments_lexer": "ipython3",
   "version": "3.12.11"
  }
 },
 "nbformat": 4,
 "nbformat_minor": 5
}
