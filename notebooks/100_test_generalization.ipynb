{
 "cells": [
  {
   "cell_type": "code",
   "execution_count": 1,
   "id": "5728a60e",
   "metadata": {},
   "outputs": [],
   "source": [
    "%load_ext autoreload\n",
    "%autoreload 2"
   ]
  },
  {
   "cell_type": "code",
   "execution_count": 2,
   "id": "f6bcda99",
   "metadata": {},
   "outputs": [
    {
     "name": "stdout",
     "output_type": "stream",
     "text": [
      "2025-07-29 13:57:53 __main__ INFO     torch.__version__='2.7.0+cu126', torch.version.cuda='12.6'\n",
      "2025-07-29 13:57:53 __main__ INFO     torch.cuda.is_available()=True, torch.cuda.device_count()=8, torch.cuda.get_device_name()='NVIDIA A100 80GB PCIe'\n",
      "2025-07-29 13:57:53 __main__ INFO     transformers.__version__='4.51.3'\n"
     ]
    }
   ],
   "source": [
    "import os\n",
    "import json\n",
    "\n",
    "import sys\n",
    "\n",
    "sys.path.append(\"../\")\n",
    "\n",
    "##################################################################\n",
    "os.environ[\"TOKENIZERS_PARALLELISM\"] = \"false\"\n",
    "os.environ[\"CUDA_VISIBLE_DEVICES\"] = \"0,1,2,3,4,5,6,7\"\n",
    "##################################################################\n",
    "\n",
    "import logging\n",
    "from src.utils import logging_utils\n",
    "from src.utils import env_utils\n",
    "\n",
    "logger = logging.getLogger(__name__)\n",
    "\n",
    "logging.basicConfig(\n",
    "    level=logging.DEBUG,\n",
    "    format=logging_utils.DEFAULT_FORMAT,\n",
    "    datefmt=logging_utils.DEFAULT_DATEFMT,\n",
    "    stream=sys.stdout,\n",
    ")\n",
    "\n",
    "import torch\n",
    "import transformers\n",
    "\n",
    "logger.info(f\"{torch.__version__=}, {torch.version.cuda=}\")\n",
    "logger.info(\n",
    "    f\"{torch.cuda.is_available()=}, {torch.cuda.device_count()=}, {torch.cuda.get_device_name()=}\"\n",
    ")\n",
    "logger.info(f\"{transformers.__version__=}\")"
   ]
  },
  {
   "cell_type": "code",
   "execution_count": 3,
   "id": "da104a94",
   "metadata": {},
   "outputs": [
    {
     "name": "stdout",
     "output_type": "stream",
     "text": [
      "[2025-07-29 13:58:08,945] [INFO] [real_accelerator.py:239:get_accelerator] Setting ds_accelerator to cuda (auto detect)\n",
      "2025-07-29 13:58:09 root INFO     gcc -pthread -B /disk/u/arnab/miniconda3/envs/connection/compiler_compat -DNDEBUG -fwrapv -O2 -Wall -fPIC -O2 -isystem /disk/u/arnab/miniconda3/envs/connection/include -fPIC -O2 -isystem /disk/u/arnab/miniconda3/envs/connection/include -fPIC -c /tmp/tmp61dgcbr4/test.c -o /tmp/tmp61dgcbr4/test.o\n",
      "2025-07-29 13:58:09 root INFO     gcc -pthread -B /disk/u/arnab/miniconda3/envs/connection/compiler_compat /tmp/tmp61dgcbr4/test.o -laio -o /tmp/tmp61dgcbr4/a.out\n"
     ]
    },
    {
     "name": "stderr",
     "output_type": "stream",
     "text": [
      "/disk/u/arnab/miniconda3/envs/connection/compiler_compat/ld: cannot find -laio: No such file or directory\n",
      "collect2: error: ld returned 1 exit status\n"
     ]
    },
    {
     "name": "stdout",
     "output_type": "stream",
     "text": [
      "2025-07-29 13:58:09 root INFO     gcc -pthread -B /disk/u/arnab/miniconda3/envs/connection/compiler_compat -DNDEBUG -fwrapv -O2 -Wall -fPIC -O2 -isystem /disk/u/arnab/miniconda3/envs/connection/include -fPIC -O2 -isystem /disk/u/arnab/miniconda3/envs/connection/include -fPIC -c /tmp/tmpb12sbb6s/test.c -o /tmp/tmpb12sbb6s/test.o\n",
      "2025-07-29 13:58:09 root INFO     gcc -pthread -B /disk/u/arnab/miniconda3/envs/connection/compiler_compat /tmp/tmpb12sbb6s/test.o -L/usr -L/usr/lib64 -lcufile -o /tmp/tmpb12sbb6s/a.out\n"
     ]
    },
    {
     "name": "stderr",
     "output_type": "stream",
     "text": [
      "/disk/u/arnab/miniconda3/envs/connection/compiler_compat/ld: cannot find -lcufile: No such file or directory\n",
      "collect2: error: ld returned 1 exit status\n"
     ]
    },
    {
     "name": "stdout",
     "output_type": "stream",
     "text": [
      "2025-07-29 13:58:10 git.cmd DEBUG    Popen(['git', 'version'], cwd=/disk/u/arnab/Codes/Projects/retrieval/notebooks, stdin=None, shell=False, universal_newlines=False)\n",
      "2025-07-29 13:58:10 git.cmd DEBUG    Popen(['git', 'version'], cwd=/disk/u/arnab/Codes/Projects/retrieval/notebooks, stdin=None, shell=False, universal_newlines=False)\n",
      "2025-07-29 13:58:10 wandb.docker.auth DEBUG    Trying paths: ['/disk/u/arnab/.docker/config.json', '/disk/u/arnab/.dockercfg']\n",
      "2025-07-29 13:58:10 wandb.docker.auth DEBUG    No config file found\n"
     ]
    }
   ],
   "source": [
    "from src.utils.training_utils import get_device_map\n",
    "\n",
    "# model_key = \"meta-llama/Llama-3.2-3B\"\n",
    "# model_key = \"meta-llama/Llama-3.1-8B\"\n",
    "model_key = \"meta-llama/Llama-3.3-70B-Instruct\"\n",
    "# model_key = \"meta-llama/Llama-3.1-405B-Instruct\"\n",
    "\n",
    "# model_key = \"google/gemma-2-9b-it\"\n",
    "# model_key = \"google/gemma-3-12b-it\"\n",
    "# model_key = \"google/gemma-2-27b-it\"\n",
    "\n",
    "# model_key = \"deepseek-ai/DeepSeek-R1-Distill-Llama-8B\"\n",
    "\n",
    "# model_key = \"allenai/OLMo-2-1124-7B-Instruct\"\n",
    "# model_key = \"allenai/OLMo-7B-0424-hf\"\n",
    "\n",
    "# model_key = \"Qwen/Qwen2-7B\"\n",
    "# model_key = \"Qwen/Qwen2.5-14B-Instruct\"\n",
    "# model_key = \"Qwen/Qwen2.5-32B-Instruct\"\n",
    "# model_key = \"Qwen/Qwen2.5-72B-Instruct\"\n",
    "\n",
    "# model_key = \"Qwen/Qwen3-1.7B\"\n",
    "# model_key = \"Qwen/Qwen3-4B\"\n",
    "# model_key = \"Qwen/Qwen3-8B\"\n",
    "# model_key = \"Qwen/Qwen3-14B\"\n",
    "# model_key = \"Qwen/Qwen3-32B\"\n",
    "\n",
    "# device_map = get_device_map(model_key, 30, n_gpus=8)\n",
    "# device_map"
   ]
  },
  {
   "cell_type": "code",
   "execution_count": 4,
   "id": "19dcf5e7",
   "metadata": {},
   "outputs": [],
   "source": [
    "# os.environ[\"BNB_CUDA_VERSION\"] = \"124\"\n",
    "# ! echo $BNB_CUDA_VERSION\n",
    "# ! python -m bitsandbytes"
   ]
  },
  {
   "cell_type": "code",
   "execution_count": 5,
   "id": "6f7ced8e",
   "metadata": {},
   "outputs": [
    {
     "name": "stdout",
     "output_type": "stream",
     "text": [
      "2025-07-29 13:58:19 src.models WARNING  meta-llama/Llama-3.3-70B-Instruct not found in /disk/u/arnab/Codes/Models\n",
      "If not found in cache, model will be downloaded from HuggingFace to cache directory\n",
      "2025-07-29 13:58:19 urllib3.connectionpool DEBUG    Starting new HTTPS connection (1): huggingface.co:443\n",
      "2025-07-29 13:58:19 urllib3.connectionpool DEBUG    https://huggingface.co:443 \"HEAD /meta-llama/Llama-3.3-70B-Instruct/resolve/main/config.json HTTP/1.1\" 200 0\n",
      "2025-07-29 13:58:19 urllib3.connectionpool DEBUG    https://huggingface.co:443 \"HEAD /meta-llama/Llama-3.3-70B-Instruct/resolve/main/tokenizer_config.json HTTP/1.1\" 200 0\n"
     ]
    },
    {
     "data": {
      "application/vnd.jupyter.widget-view+json": {
       "model_id": "60a5ecdf1e894f8399c73174b3e639d5",
       "version_major": 2,
       "version_minor": 0
      },
      "text/plain": [
       "Loading checkpoint shards:   0%|          | 0/30 [00:00<?, ?it/s]"
      ]
     },
     "metadata": {},
     "output_type": "display_data"
    },
    {
     "name": "stdout",
     "output_type": "stream",
     "text": [
      "2025-07-29 13:59:06 urllib3.connectionpool DEBUG    https://huggingface.co:443 \"HEAD /meta-llama/Llama-3.3-70B-Instruct/resolve/main/generation_config.json HTTP/1.1\" 200 0\n",
      "2025-07-29 13:59:07 src.models INFO     loaded model <meta-llama/Llama-3.3-70B-Instruct> | size: 134570.516 MB | dtype: torch.bfloat16 | device: cuda:0\n"
     ]
    }
   ],
   "source": [
    "from src.models import ModelandTokenizer\n",
    "\n",
    "# from transformers import BitsAndBytesConfig\n",
    "\n",
    "mt = ModelandTokenizer(\n",
    "    model_key=model_key,\n",
    "    torch_dtype=torch.bfloat16,\n",
    "    # device_map=device_map,\n",
    "    device_map=\"auto\",\n",
    "    # quantization_config = BitsAndBytesConfig(\n",
    "    #     # load_in_4bit=True\n",
    "    #     load_in_8bit=True\n",
    "    # )\n",
    ")"
   ]
  },
  {
   "cell_type": "code",
   "execution_count": 7,
   "id": "b76d98b6",
   "metadata": {},
   "outputs": [
    {
     "name": "stdout",
     "output_type": "stream",
     "text": [
      "['trainable_params.pt']\n"
     ]
    },
    {
     "data": {
      "text/plain": [
       "tensor(0.0010, dtype=torch.bfloat16, grad_fn=<MaxBackward1>)"
      ]
     },
     "execution_count": 7,
     "metadata": {},
     "output_type": "execute_result"
    }
   ],
   "source": [
    "from src.functional import free_gpu_cache\n",
    "\n",
    "# SYNTH_DATASET = \"icosahedron_1\"\n",
    "SYNTH_DATASET = \"64\"\n",
    "\n",
    "checkpoint_path = os.path.join(\n",
    "    env_utils.DEFAULT_RESULTS_DIR,\n",
    "    \"trained_params\",\n",
    "    f\"{SYNTH_DATASET}\",\n",
    "    \"_full__clamp=0.001\",\n",
    "    model_key.split(\"/\")[-1],\n",
    ")\n",
    "\n",
    "version = \"epoch_1\"\n",
    "# version = \"final_model\"\n",
    "\n",
    "checkpoint_path = os.path.join(env_utils.DEFAULT_RESULTS_DIR, checkpoint_path, version)\n",
    "\n",
    "print(os.listdir(checkpoint_path))\n",
    "\n",
    "checkpoint_path = os.path.join(checkpoint_path, \"trainable_params.pt\")\n",
    "\n",
    "loaded_deltas = torch.load(checkpoint_path, map_location=\"cpu\")\n",
    "# loaded_deltas\n",
    "\n",
    "free_gpu_cache()\n",
    "\n",
    "\n",
    "d = loaded_deltas[\"model<>layers<>5<>mlp<>gate_proj\"]\n",
    "d.abs().max()"
   ]
  },
  {
   "cell_type": "code",
   "execution_count": 8,
   "id": "4ec24d05",
   "metadata": {},
   "outputs": [
    {
     "name": "stdout",
     "output_type": "stream",
     "text": [
      "2025-07-29 13:59:28 src.utils.training_utils DEBUG    module_name='model.layers.0.mlp.gate_proj' | param_delta.shape=torch.Size([28672, 8192])\n",
      "2025-07-29 13:59:28 src.utils.training_utils DEBUG    module_name='model.layers.0.mlp.up_proj' | param_delta.shape=torch.Size([28672, 8192])\n",
      "2025-07-29 13:59:28 src.utils.training_utils DEBUG    module_name='model.layers.0.mlp.down_proj' | param_delta.shape=torch.Size([8192, 28672])\n",
      "2025-07-29 13:59:28 src.utils.training_utils DEBUG    module_name='model.layers.1.mlp.gate_proj' | param_delta.shape=torch.Size([28672, 8192])\n",
      "2025-07-29 13:59:28 src.utils.training_utils DEBUG    module_name='model.layers.1.mlp.up_proj' | param_delta.shape=torch.Size([28672, 8192])\n",
      "2025-07-29 13:59:28 src.utils.training_utils DEBUG    module_name='model.layers.1.mlp.down_proj' | param_delta.shape=torch.Size([8192, 28672])\n",
      "2025-07-29 13:59:29 src.utils.training_utils DEBUG    module_name='model.layers.2.mlp.gate_proj' | param_delta.shape=torch.Size([28672, 8192])\n",
      "2025-07-29 13:59:29 src.utils.training_utils DEBUG    module_name='model.layers.2.mlp.up_proj' | param_delta.shape=torch.Size([28672, 8192])\n",
      "2025-07-29 13:59:29 src.utils.training_utils DEBUG    module_name='model.layers.2.mlp.down_proj' | param_delta.shape=torch.Size([8192, 28672])\n",
      "2025-07-29 13:59:29 src.utils.training_utils DEBUG    module_name='model.layers.3.mlp.gate_proj' | param_delta.shape=torch.Size([28672, 8192])\n",
      "2025-07-29 13:59:29 src.utils.training_utils DEBUG    module_name='model.layers.3.mlp.up_proj' | param_delta.shape=torch.Size([28672, 8192])\n",
      "2025-07-29 13:59:29 src.utils.training_utils DEBUG    module_name='model.layers.3.mlp.down_proj' | param_delta.shape=torch.Size([8192, 28672])\n",
      "2025-07-29 13:59:29 src.utils.training_utils DEBUG    module_name='model.layers.4.mlp.gate_proj' | param_delta.shape=torch.Size([28672, 8192])\n",
      "2025-07-29 13:59:29 src.utils.training_utils DEBUG    module_name='model.layers.4.mlp.up_proj' | param_delta.shape=torch.Size([28672, 8192])\n",
      "2025-07-29 13:59:29 src.utils.training_utils DEBUG    module_name='model.layers.4.mlp.down_proj' | param_delta.shape=torch.Size([8192, 28672])\n",
      "2025-07-29 13:59:30 src.utils.training_utils DEBUG    module_name='model.layers.5.mlp.gate_proj' | param_delta.shape=torch.Size([28672, 8192])\n",
      "2025-07-29 13:59:30 src.utils.training_utils DEBUG    module_name='model.layers.5.mlp.up_proj' | param_delta.shape=torch.Size([28672, 8192])\n",
      "2025-07-29 13:59:30 src.utils.training_utils DEBUG    module_name='model.layers.5.mlp.down_proj' | param_delta.shape=torch.Size([8192, 28672])\n",
      "2025-07-29 13:59:30 src.utils.training_utils DEBUG    module_name='model.layers.6.mlp.gate_proj' | param_delta.shape=torch.Size([28672, 8192])\n",
      "2025-07-29 13:59:30 src.utils.training_utils DEBUG    module_name='model.layers.6.mlp.up_proj' | param_delta.shape=torch.Size([28672, 8192])\n",
      "2025-07-29 13:59:30 src.utils.training_utils DEBUG    module_name='model.layers.6.mlp.down_proj' | param_delta.shape=torch.Size([8192, 28672])\n",
      "2025-07-29 13:59:30 src.utils.training_utils DEBUG    module_name='model.layers.7.mlp.gate_proj' | param_delta.shape=torch.Size([28672, 8192])\n",
      "2025-07-29 13:59:31 src.utils.training_utils DEBUG    module_name='model.layers.7.mlp.up_proj' | param_delta.shape=torch.Size([28672, 8192])\n",
      "2025-07-29 13:59:31 src.utils.training_utils DEBUG    module_name='model.layers.7.mlp.down_proj' | param_delta.shape=torch.Size([8192, 28672])\n"
     ]
    }
   ],
   "source": [
    "from src.utils.training_utils import TrainableLM_delta, TrainableLM_LoRA\n",
    "\n",
    "#################################################\n",
    "Trainable_CLS = TrainableLM_delta\n",
    "# Trainable_CLS = TrainableLM_LoRA\n",
    "#################################################\n",
    "\n",
    "Trainable_CLS.fuse_with_model(mt._model, loaded_deltas)"
   ]
  },
  {
   "cell_type": "code",
   "execution_count": 9,
   "id": "44b9d51b",
   "metadata": {},
   "outputs": [
    {
     "name": "stdout",
     "output_type": "stream",
     "text": [
      "2025-07-29 13:59:32 src.selection.data INFO     Loaded 16 categories\n"
     ]
    },
    {
     "data": {
      "text/plain": [
       "['actor',\n",
       " 'singer',\n",
       " 'comedian',\n",
       " 'director',\n",
       " 'basketball player',\n",
       " 'football player',\n",
       " 'soccer player',\n",
       " 'tennis player',\n",
       " 'golfer',\n",
       " 'boxer',\n",
       " 'news anchor',\n",
       " 'journalist',\n",
       " 'author',\n",
       " 'fashion designer',\n",
       " 'entrepreneur',\n",
       " 'politician']"
      ]
     },
     "execution_count": 9,
     "metadata": {},
     "output_type": "execute_result"
    }
   ],
   "source": [
    "from src.selection.data  import load_people_by_category\n",
    "\n",
    "people_by_category = load_people_by_category(tokenizer = mt.tokenizer)\n",
    "list(people_by_category.keys())"
   ]
  },
  {
   "cell_type": "code",
   "execution_count": 79,
   "id": "1f849c4e",
   "metadata": {},
   "outputs": [
    {
     "name": "stdout",
     "output_type": "stream",
     "text": [
      "Which person from the following list has the occupation in common with Donald Trump?\n",
      "Options: Nikola Jokić, Deontay Wilder, Ariana Grande, Mohamed Salah, Jake Tapper, Nikki Haley.\n",
      "Ans: >> Nikki Haley\n"
     ]
    }
   ],
   "source": [
    "from src.selection.data import get_random_sample\n",
    "\n",
    "sample = get_random_sample(\n",
    "    people_by_category=people_by_category,\n",
    "    mt=mt,\n",
    "    attribute=\"politician\",\n",
    "    n_distractors=5\n",
    ")\n",
    "print(sample.prompt, \">>\", sample.obj)"
   ]
  },
  {
   "cell_type": "code",
   "execution_count": 80,
   "id": "1ad8689e",
   "metadata": {},
   "outputs": [
    {
     "name": "stdout",
     "output_type": "stream",
     "text": [
      "Nikola Jokić, Deontay Wilder, Ariana Grande, Mohamed Salah, Jake Tapper, Nikki Haley\n",
      "Who among these people mentioned above is by profession a politician?\n",
      "Answer:  >> \n",
      " Nikki Haley\n",
      "\n",
      "Nikki Haley is an American politician who served as the 29th United States Ambassador\n"
     ]
    },
    {
     "data": {
      "text/plain": [
       "[[PredictedToken(token=' Nikki', prob=0.8203125, logit=20.125, token_id=70207, metadata=None),\n",
       "  PredictedToken(token=' The', prob=0.04638671875, logit=17.25, token_id=578, metadata=None),\n",
       "  PredictedToken(token=' Among', prob=0.019287109375, logit=16.375, token_id=22395, metadata=None),\n",
       "  PredictedToken(token=' ', prob=0.01708984375, logit=16.25, token_id=220, metadata=None),\n",
       "  PredictedToken(token=' Nikola', prob=0.00860595703125, logit=15.5625, token_id=97415, metadata=None)]]"
      ]
     },
     "execution_count": 80,
     "metadata": {},
     "output_type": "execute_result"
    }
   ],
   "source": [
    "from src.functional import generate_with_patch, predict_next_token\n",
    "\n",
    "# prompt_template = \"\"\"Which of these peoples is by profession a {}?\n",
    "# options: {}\n",
    "# Answer:\"\"\"\n",
    "# prompt = prompt_template.format(\n",
    "#     sample.metadata[\"attribute\"],\n",
    "#     \", \".join(sample.options)\n",
    "# )\n",
    "\n",
    "prompt_template = \"\"\"{}\n",
    "Who among these people mentioned above is by profession a {}?\n",
    "Answer:\"\"\"\n",
    "prompt = prompt_template.format(\n",
    "    \", \".join(sample.options),\n",
    "    sample.metadata[\"attribute\"]\n",
    ")\n",
    "\n",
    "print(prompt, \" >> \")\n",
    "\n",
    "gen = generate_with_patch(\n",
    "    mt=mt,\n",
    "    inputs=prompt,\n",
    "    n_gen_per_prompt=1,\n",
    "    max_new_tokens=20,\n",
    "    remove_prefix=True,\n",
    ")[0]\n",
    "print(gen)\n",
    "\n",
    "predict_next_token(\n",
    "    mt = mt,\n",
    "    inputs=prompt,\n",
    ")"
   ]
  },
  {
   "cell_type": "code",
   "execution_count": 81,
   "id": "fda47f59",
   "metadata": {},
   "outputs": [
    {
     "name": "stdout",
     "output_type": "stream",
     "text": [
      "layer=35\n"
     ]
    },
    {
     "data": {
      "text/html": [
       "<div id=\"circuits-vis-1dd1929f-b734\" style=\"margin: 15px 0;\"/>\n",
       "    <script crossorigin type=\"module\">\n",
       "    import { render, ColoredTokens } from \"https://unpkg.com/circuitsvis@1.43.3/dist/cdn/esm.js\";\n",
       "    render(\n",
       "      \"circuits-vis-1dd1929f-b734\",\n",
       "      ColoredTokens,\n",
       "      {\"tokens\": [\"N\", \"ik\", \"ola\", \" J\", \"oki\", \"\\u0107\", \",\", \" De\", \"ont\", \"ay\", \" Wild\", \"er\", \",\", \" Ari\", \"ana\", \" Grande\", \",\", \" Mohamed\", \" Salah\", \",\", \" Jake\", \" T\", \"apper\", \",\", \" Nikki\", \" Haley\", \"\\n\", \"Who\", \" among\", \" these\", \" people\", \" mentioned\", \" above\", \" is\", \" by\", \" profession\", \" a\", \" politician\", \"?\\n\", \"Answer\", \":\"], \"values\": [0.019606351852416992, 0.0028999224305152893, 0.00607454776763916, 0.0068930983543396, 0.002698838710784912, 0.010882645845413208, 0.031262755393981934, 0.004262365400791168, 0.0032444000244140625, 0.003893747925758362, 0.002216517925262451, 0.010300114750862122, 0.01361461728811264, 0.0058303102850914, 0.002530038356781006, 0.009794309735298157, 0.006094589829444885, 0.00990062952041626, 0.008352518081665039, 0.008146680891513824, 0.0066968463361263275, 0.004189923405647278, 0.020364314317703247, 0.013662122189998627, 0.013964742422103882, 0.0477999672293663, 0.027823150157928467, 0.00876644253730774, 0.01111767441034317, 0.01652960479259491, 0.007231175899505615, 0.006595118902623653, 0.009696155786514282, 0.007133655250072479, 0.0045799314975738525, 0.00963277742266655, 0.005744487047195435, 0.02400386333465576, 0.02937251329421997, 0.012716945260763168, 0.0281122624874115]}\n",
       "    )\n",
       "    </script>"
      ],
      "text/plain": [
       "<circuitsvis.utils.render.RenderedHTML at 0x7f91a0532590>"
      ]
     },
     "metadata": {},
     "output_type": "display_data"
    },
    {
     "name": "stdout",
     "output_type": "stream",
     "text": [
      "--------------------------------------------------------------------------------\n",
      "layer=47\n"
     ]
    },
    {
     "data": {
      "text/html": [
       "<div id=\"circuits-vis-891a279d-dd0f\" style=\"margin: 15px 0;\"/>\n",
       "    <script crossorigin type=\"module\">\n",
       "    import { render, ColoredTokens } from \"https://unpkg.com/circuitsvis@1.43.3/dist/cdn/esm.js\";\n",
       "    render(\n",
       "      \"circuits-vis-891a279d-dd0f\",\n",
       "      ColoredTokens,\n",
       "      {\"tokens\": [\"N\", \"ik\", \"ola\", \" J\", \"oki\", \"\\u0107\", \",\", \" De\", \"ont\", \"ay\", \" Wild\", \"er\", \",\", \" Ari\", \"ana\", \" Grande\", \",\", \" Mohamed\", \" Salah\", \",\", \" Jake\", \" T\", \"apper\", \",\", \" Nikki\", \" Haley\", \"\\n\", \"Who\", \" among\", \" these\", \" people\", \" mentioned\", \" above\", \" is\", \" by\", \" profession\", \" a\", \" politician\", \"?\\n\", \"Answer\", \":\"], \"values\": [0.0020567961037158966, 0.0023792809806764126, 0.0030022449791431427, 0.0008936198428273201, 0.0012635719031095505, 0.0011886991560459137, 0.0056912899017333984, 0.0004800385795533657, 0.0009442921727895737, 0.0008270200341939926, 0.0006689215078949928, 0.000585273839533329, 0.0007636193186044693, 0.0006959699094295502, 0.0004807431250810623, 0.0006463918834924698, 0.0005018152296543121, 0.001508668065071106, 0.0009048040956258774, 0.0005754651501774788, 0.0014874041080474854, 0.000425044447183609, 0.0014878138899803162, 0.0007657548412680626, 0.024832699447870255, 0.00471126101911068, 0.002663038671016693, 0.0012584291398525238, 0.0009404327720403671, 0.0007889270782470703, 0.0005644671618938446, 0.0005406700074672699, 0.00041816337034106255, 0.00093093141913414, 0.0006180014461278915, 0.001167193055152893, 0.0009065307676792145, 0.0028186962008476257, 0.005127280950546265, 0.005057692527770996, 0.004782751202583313]}\n",
       "    )\n",
       "    </script>"
      ],
      "text/plain": [
       "<circuitsvis.utils.render.RenderedHTML at 0x7f91a0533590>"
      ]
     },
     "metadata": {},
     "output_type": "display_data"
    },
    {
     "name": "stdout",
     "output_type": "stream",
     "text": [
      "--------------------------------------------------------------------------------\n"
     ]
    },
    {
     "data": {
      "text/plain": [
       "[PredictedToken(token=' Nikki', prob=0.8203125, logit=20.125, token_id=70207, metadata=None),\n",
       " PredictedToken(token=' The', prob=0.04638671875, logit=17.25, token_id=578, metadata=None),\n",
       " PredictedToken(token=' Among', prob=0.019287109375, logit=16.375, token_id=22395, metadata=None),\n",
       " PredictedToken(token=' ', prob=0.01708984375, logit=16.25, token_id=220, metadata=None),\n",
       " PredictedToken(token=' Nikola', prob=0.00860595703125, logit=15.5625, token_id=97415, metadata=None)]"
      ]
     },
     "execution_count": 81,
     "metadata": {},
     "output_type": "execute_result"
    }
   ],
   "source": [
    "from src.attention import get_attention_matrices, visualize_average_attn_matrix\n",
    "from src.functional import interpret_logits\n",
    "from src.tokens import prepare_input\n",
    "\n",
    "tokenized = prepare_input(\n",
    "    tokenizer=mt,\n",
    "    prompts=prompt\n",
    ")\n",
    "\n",
    "attn_matrices = get_attention_matrices(\n",
    "    input=tokenized,\n",
    "    mt=mt,\n",
    "    value_weighted=False,\n",
    "    # patches = []\n",
    ")\n",
    "\n",
    "visualize_average_attn_matrix(\n",
    "    mt=mt,\n",
    "    attn_matrices=attn_matrices,\n",
    "    prompt=prompt,\n",
    "    tokenized=tokenized,\n",
    "    layer_window=[35, 47],\n",
    ")\n",
    "\n",
    "interpret_logits(tokenizer=mt, logits=attn_matrices.logits)"
   ]
  },
  {
   "cell_type": "code",
   "execution_count": 82,
   "id": "c346cce7",
   "metadata": {},
   "outputs": [],
   "source": [
    "from src.attention import visualize_attn_matrix\n",
    "\n",
    "###############################################################\n",
    "N_KV_GROUPS = 1  # individual heads\n",
    "# N_KV_GROUPS = mt.config.num_key_value_heads  # grouped heads\n",
    "N_HEADS = mt.config.num_attention_heads\n",
    "LAYER_RANGE = range(mt.n_layer)\n",
    "###############################################################\n",
    "\n",
    "group_id_to_head_indices = {\n",
    "    i: [i * N_KV_GROUPS + j for j in range(N_KV_GROUPS)]\n",
    "    for i in range(N_HEADS // N_KV_GROUPS)\n",
    "}"
   ]
  },
  {
   "cell_type": "code",
   "execution_count": 83,
   "id": "33c72d1f",
   "metadata": {},
   "outputs": [
    {
     "name": "stdout",
     "output_type": "stream",
     "text": [
      "Layer: 35, Heads: [19]\n"
     ]
    },
    {
     "data": {
      "text/html": [
       "<div id=\"circuits-vis-13f6cd3d-35ad\" style=\"margin: 15px 0;\"/>\n",
       "    <script crossorigin type=\"module\">\n",
       "    import { render, ColoredTokens } from \"https://unpkg.com/circuitsvis@1.43.3/dist/cdn/esm.js\";\n",
       "    render(\n",
       "      \"circuits-vis-13f6cd3d-35ad\",\n",
       "      ColoredTokens,\n",
       "      {\"tokens\": [\"N\", \"ik\", \"ola\", \" J\", \"oki\", \"\\u0107\", \",\", \" De\", \"ont\", \"ay\", \" Wild\", \"er\", \",\", \" Ari\", \"ana\", \" Grande\", \",\", \" Mohamed\", \" Salah\", \",\", \" Jake\", \" T\", \"apper\", \",\", \" Nikki\", \" Haley\", \"\\n\", \"Who\", \" among\", \" these\", \" people\", \" mentioned\", \" above\", \" is\", \" by\", \" profession\", \" a\", \" politician\", \"?\\n\", \"Answer\", \":\"], \"values\": [0.00408935546875, 0.00138092041015625, 0.00726318359375, 0.0034027099609375, 0.0028839111328125, 0.01239013671875, 0.01385498046875, 0.0021514892578125, 0.00421142578125, 0.011474609375, 0.023681640625, 0.060546875, 0.016357421875, 0.0020904541015625, 0.00189208984375, 0.011474609375, 0.00335693359375, 0.0157470703125, 0.01129150390625, 0.0079345703125, 0.0027313232421875, 0.000797271728515625, 0.15234375, 0.0361328125, 0.0087890625, 0.5390625, 0.0111083984375, 0.001068115234375, 0.000240325927734375, 0.000537872314453125, 0.0002288818359375, 0.0001049041748046875, 3.5762786865234375e-05, 6.246566772460938e-05, 0.000698089599609375, 5.030632019042969e-05, 0.000720977783203125, 0.0018157958984375, 0.000568389892578125, 5.698204040527344e-05, 0.0003604888916015625]}\n",
       "    )\n",
       "    </script>"
      ],
      "text/plain": [
       "<circuitsvis.utils.render.RenderedHTML at 0x7f91a0345350>"
      ]
     },
     "metadata": {},
     "output_type": "display_data"
    },
    {
     "name": "stdout",
     "output_type": "stream",
     "text": [
      "Layer: 35, Heads: [46]\n"
     ]
    },
    {
     "data": {
      "text/html": [
       "<div id=\"circuits-vis-1a15f912-5670\" style=\"margin: 15px 0;\"/>\n",
       "    <script crossorigin type=\"module\">\n",
       "    import { render, ColoredTokens } from \"https://unpkg.com/circuitsvis@1.43.3/dist/cdn/esm.js\";\n",
       "    render(\n",
       "      \"circuits-vis-1a15f912-5670\",\n",
       "      ColoredTokens,\n",
       "      {\"tokens\": [\"N\", \"ik\", \"ola\", \" J\", \"oki\", \"\\u0107\", \",\", \" De\", \"ont\", \"ay\", \" Wild\", \"er\", \",\", \" Ari\", \"ana\", \" Grande\", \",\", \" Mohamed\", \" Salah\", \",\", \" Jake\", \" T\", \"apper\", \",\", \" Nikki\", \" Haley\", \"\\n\", \"Who\", \" among\", \" these\", \" people\", \" mentioned\", \" above\", \" is\", \" by\", \" profession\", \" a\", \" politician\", \"?\\n\", \"Answer\", \":\"], \"values\": [0.0147705078125, 0.00125885009765625, 0.001861572265625, 0.00115966796875, 0.000240325927734375, 0.001007080078125, 0.0123291015625, 0.001129150390625, 0.0020751953125, 0.0029754638671875, 0.0004024505615234375, 0.0030364990234375, 0.004730224609375, 0.017333984375, 0.004425048828125, 0.005340576171875, 0.00390625, 0.052978515625, 0.0194091796875, 0.021728515625, 0.07763671875, 0.007293701171875, 0.0291748046875, 0.05419921875, 0.1982421875, 0.18359375, 0.03564453125, 0.002044677734375, 0.004852294921875, 0.0069580078125, 0.00147247314453125, 0.00020503997802734375, 0.000774383544921875, 0.0024566650390625, 0.000522613525390625, 0.000965118408203125, 0.0030364990234375, 0.0031585693359375, 0.01153564453125, 0.0005950927734375, 0.007354736328125]}\n",
       "    )\n",
       "    </script>"
      ],
      "text/plain": [
       "<circuitsvis.utils.render.RenderedHTML at 0x7f91a020ef90>"
      ]
     },
     "metadata": {},
     "output_type": "display_data"
    }
   ],
   "source": [
    "# for group_id in group_id_to_head_indices:\n",
    "layer_idx = 35\n",
    "layer_name = mt.layer_name_format.format(layer_idx)\n",
    "for group_id in [19, 46]:\n",
    "    frm = group_id_to_head_indices[group_id][0]\n",
    "    to = group_id_to_head_indices[group_id][-1]\n",
    "    print(\n",
    "        f\"Layer: {layer_idx}, Heads: {group_id_to_head_indices[group_id]}\"\n",
    "    )\n",
    "\n",
    "    head_matrix = torch.Tensor(attn_matrices.attention_matrices[layer_idx, frm: to+1]).mean(dim=0).squeeze()\n",
    "    visualize_attn_matrix(\n",
    "        attn_matrix=head_matrix,\n",
    "        tokens=[mt.tokenizer.decode(t) for t in tokenized.input_ids[0]],\n",
    "        q_index=-1,\n",
    "        start_from=1\n",
    "    )"
   ]
  },
  {
   "cell_type": "markdown",
   "id": "a6519ed6",
   "metadata": {},
   "source": [
    "### Different Attribute"
   ]
  },
  {
   "cell_type": "code",
   "execution_count": 84,
   "id": "7863a3af",
   "metadata": {},
   "outputs": [
    {
     "name": "stdout",
     "output_type": "stream",
     "text": [
      "2025-07-29 16:21:46 src.selection.data INFO     Loaded 16 categories\n"
     ]
    },
    {
     "data": {
      "text/plain": [
       "['Switzerland',\n",
       " 'UAE',\n",
       " 'Singapore',\n",
       " 'Canada',\n",
       " 'Mexico',\n",
       " 'Brazil',\n",
       " 'India',\n",
       " 'Australia',\n",
       " 'Israel',\n",
       " 'South Africa',\n",
       " 'United Kingdom',\n",
       " 'Trinidad and Tobago',\n",
       " 'New Zealand',\n",
       " 'United States',\n",
       " 'Belgium',\n",
       " 'France']"
      ]
     },
     "execution_count": 84,
     "metadata": {},
     "output_type": "execute_result"
    }
   ],
   "source": [
    "from src.selection.data  import load_people_by_category\n",
    "\n",
    "people_by_nationality = load_people_by_category(\n",
    "    tokenizer = mt.tokenizer,\n",
    "    path = os.path.join(env_utils.DEFAULT_DATA_DIR, \"selection_real/nationality.json\")\n",
    ")\n",
    "list(people_by_nationality.keys())"
   ]
  },
  {
   "cell_type": "code",
   "execution_count": 85,
   "id": "f6de76cc",
   "metadata": {},
   "outputs": [
    {
     "name": "stdout",
     "output_type": "stream",
     "text": [
      "Which person from the following list has the nationality in common with Iggy Azalea?\n",
      "Options: Catherine Deneuve, Nelson Mandela, Heath Ledger, Jean-Jacques Rousseau, Peter Minshall, Oprah Winfrey.\n",
      "Ans: >> Heath Ledger\n"
     ]
    }
   ],
   "source": [
    "from src.selection.data import get_random_sample\n",
    "\n",
    "sample = get_random_sample(\n",
    "    people_by_category=people_by_nationality,\n",
    "    mt=mt,\n",
    "    category=\"nationality\",\n",
    "    attribute=\"Australia\",\n",
    "    n_distractors=5\n",
    ")\n",
    "print(sample.prompt, \">>\", sample.obj)"
   ]
  },
  {
   "cell_type": "code",
   "execution_count": 86,
   "id": "a8bae6d5",
   "metadata": {},
   "outputs": [
    {
     "name": "stdout",
     "output_type": "stream",
     "text": [
      "Which of these peoples is by profession a Australia?\n",
      "options: Catherine Deneuve, Nelson Mandela, Heath Ledger, Jean-Jacques Rousseau, Peter Minshall, Oprah Winfrey\n",
      "Answer:  >> \n",
      " Heath Ledger\n",
      "Explanation: Heath Ledger was an Australian actor and music video director. After performing roles in\n"
     ]
    },
    {
     "data": {
      "text/plain": [
       "[[PredictedToken(token=' Heath', prob=0.9296875, logit=21.375, token_id=48562, metadata=None),\n",
       "  PredictedToken(token=' The', prob=0.0247802734375, logit=17.75, token_id=578, metadata=None),\n",
       "  PredictedToken(token=' the', prob=0.006256103515625, logit=16.375, token_id=279, metadata=None),\n",
       "  PredictedToken(token=' d', prob=0.004302978515625, logit=16.0, token_id=294, metadata=None),\n",
       "  PredictedToken(token=' Australia', prob=0.0026092529296875, logit=15.5, token_id=8494, metadata=None)]]"
      ]
     },
     "execution_count": 86,
     "metadata": {},
     "output_type": "execute_result"
    }
   ],
   "source": [
    "from src.functional import generate_with_patch, predict_next_token\n",
    "\n",
    "prompt_template = \"\"\"Which of these peoples is by profession a {}?\n",
    "options: {}\n",
    "Answer:\"\"\"\n",
    "prompt = prompt_template.format(\n",
    "    sample.metadata[\"attribute\"],\n",
    "    \", \".join(sample.options)\n",
    ")\n",
    "\n",
    "# prompt_template = \"\"\"{}\n",
    "# Who among these people mentioned above is from {}?\n",
    "# Answer:\"\"\"\n",
    "# prompt = prompt_template.format(\n",
    "#     \", \".join(sample.options),\n",
    "#     sample.metadata[\"attribute\"]\n",
    "# )\n",
    "\n",
    "print(prompt, \" >> \")\n",
    "\n",
    "gen = generate_with_patch(\n",
    "    mt=mt,\n",
    "    inputs=prompt,\n",
    "    n_gen_per_prompt=1,\n",
    "    max_new_tokens=20,\n",
    "    remove_prefix=True,\n",
    ")[0]\n",
    "print(gen)\n",
    "\n",
    "predict_next_token(\n",
    "    mt = mt,\n",
    "    inputs=prompt,\n",
    ")"
   ]
  },
  {
   "cell_type": "code",
   "execution_count": 88,
   "id": "2632192d",
   "metadata": {},
   "outputs": [
    {
     "name": "stdout",
     "output_type": "stream",
     "text": [
      "layer=35\n"
     ]
    },
    {
     "data": {
      "text/html": [
       "<div id=\"circuits-vis-cdd595eb-c993\" style=\"margin: 15px 0;\"/>\n",
       "    <script crossorigin type=\"module\">\n",
       "    import { render, ColoredTokens } from \"https://unpkg.com/circuitsvis@1.43.3/dist/cdn/esm.js\";\n",
       "    render(\n",
       "      \"circuits-vis-cdd595eb-c993\",\n",
       "      ColoredTokens,\n",
       "      {\"tokens\": [\"Which\", \" of\", \" these\", \" peoples\", \" is\", \" by\", \" profession\", \" a\", \" Australia\", \"?\\n\", \"options\", \":\", \" Catherine\", \" D\", \"ene\", \"uve\", \",\", \" Nelson\", \" Mandela\", \",\", \" Heath\", \" Ledger\", \",\", \" Jean\", \"-J\", \"ac\", \"ques\", \" Rousse\", \"au\", \",\", \" Peter\", \" Min\", \"shall\", \",\", \" Oprah\", \" Win\", \"frey\", \"\\n\", \"Answer\", \":\"], \"values\": [0.026733875274658203, 0.006125509738922119, 0.0036004632711410522, 0.006124168634414673, 0.005941793322563171, 0.003506164997816086, 0.005916886031627655, 0.008668899536132812, 0.010360091924667358, 0.023153364658355713, 0.00568370521068573, 0.011394485831260681, 0.004740417003631592, 0.0025503933429718018, 0.0013087615370750427, 0.004956930875778198, 0.01594221591949463, 0.0019223857671022415, 0.006620466709136963, 0.008864611387252808, 0.0046271272003650665, 0.04542994499206543, 0.037388503551483154, 0.0016403496265411377, 0.008576273918151855, 0.010096609592437744, 0.0009188540279865265, 0.0009953677654266357, 0.007258430123329163, 0.010214090347290039, 0.0027405675500631332, 0.004678141325712204, 0.003968328237533569, 0.007433503866195679, 0.0027913376688957214, 0.005354791879653931, 0.005646362900733948, 0.022400259971618652, 0.01845371723175049, 0.028999149799346924]}\n",
       "    )\n",
       "    </script>"
      ],
      "text/plain": [
       "<circuitsvis.utils.render.RenderedHTML at 0x7f91a037cf50>"
      ]
     },
     "metadata": {},
     "output_type": "display_data"
    },
    {
     "name": "stdout",
     "output_type": "stream",
     "text": [
      "--------------------------------------------------------------------------------\n",
      "layer=47\n"
     ]
    },
    {
     "data": {
      "text/html": [
       "<div id=\"circuits-vis-d733a2c5-6b86\" style=\"margin: 15px 0;\"/>\n",
       "    <script crossorigin type=\"module\">\n",
       "    import { render, ColoredTokens } from \"https://unpkg.com/circuitsvis@1.43.3/dist/cdn/esm.js\";\n",
       "    render(\n",
       "      \"circuits-vis-d733a2c5-6b86\",\n",
       "      ColoredTokens,\n",
       "      {\"tokens\": [\"Which\", \" of\", \" these\", \" peoples\", \" is\", \" by\", \" profession\", \" a\", \" Australia\", \"?\\n\", \"options\", \":\", \" Catherine\", \" D\", \"ene\", \"uve\", \",\", \" Nelson\", \" Mandela\", \",\", \" Heath\", \" Ledger\", \",\", \" Jean\", \"-J\", \"ac\", \"ques\", \" Rousse\", \"au\", \",\", \" Peter\", \" Min\", \"shall\", \",\", \" Oprah\", \" Win\", \"frey\", \"\\n\", \"Answer\", \":\"], \"values\": [0.002910926938056946, 0.0008681677281856537, 0.0005106069147586823, 0.0007632826454937458, 0.00046074180863797665, 0.00042367633432149887, 0.0010338760912418365, 0.0008855871856212616, 0.0016651377081871033, 0.001798182725906372, 0.0009645186364650726, 0.0008456101641058922, 0.0009320899844169617, 0.00023237615823745728, 0.0004808995872735977, 0.0007461085915565491, 0.0009658839553594589, 0.0006530322134494781, 0.0007925890386104584, 0.0009138407185673714, 0.0069013722240924835, 0.007314339280128479, 0.0016181143000721931, 0.000400712713599205, 0.00034828484058380127, 0.0002050907351076603, 0.0005515888333320618, 0.0005305223166942596, 0.0004967860877513885, 0.000601012259721756, 0.0006893053650856018, 0.0003826804459095001, 0.00202014297246933, 0.0005452316254377365, 0.000848209485411644, 0.0001964624971151352, 0.0003633229061961174, 0.0035800039768218994, 0.0059942156076431274, 0.004044070839881897]}\n",
       "    )\n",
       "    </script>"
      ],
      "text/plain": [
       "<circuitsvis.utils.render.RenderedHTML at 0x7f92040e1050>"
      ]
     },
     "metadata": {},
     "output_type": "display_data"
    },
    {
     "name": "stdout",
     "output_type": "stream",
     "text": [
      "--------------------------------------------------------------------------------\n"
     ]
    },
    {
     "data": {
      "text/plain": [
       "[PredictedToken(token=' Heath', prob=0.92578125, logit=21.375, token_id=48562, metadata=None),\n",
       " PredictedToken(token=' The', prob=0.0279541015625, logit=17.875, token_id=578, metadata=None),\n",
       " PredictedToken(token=' the', prob=0.007049560546875, logit=16.5, token_id=279, metadata=None),\n",
       " PredictedToken(token=' d', prob=0.0040283203125, logit=15.9375, token_id=294, metadata=None),\n",
       " PredictedToken(token=' Australia', prob=0.0027618408203125, logit=15.5625, token_id=8494, metadata=None)]"
      ]
     },
     "execution_count": 88,
     "metadata": {},
     "output_type": "execute_result"
    }
   ],
   "source": [
    "from src.attention import get_attention_matrices, visualize_average_attn_matrix\n",
    "from src.functional import interpret_logits\n",
    "from src.tokens import prepare_input\n",
    "\n",
    "tokenized = prepare_input(\n",
    "    tokenizer=mt,\n",
    "    prompts=prompt\n",
    ")\n",
    "\n",
    "attn_matrices = get_attention_matrices(\n",
    "    input=tokenized,\n",
    "    mt=mt,\n",
    "    value_weighted=False,\n",
    "    # patches = []\n",
    ")\n",
    "\n",
    "visualize_average_attn_matrix(\n",
    "    mt=mt,\n",
    "    attn_matrices=attn_matrices,\n",
    "    prompt=prompt,\n",
    "    tokenized=tokenized,\n",
    "    layer_window=[35, 47],\n",
    ")\n",
    "\n",
    "interpret_logits(tokenizer=mt, logits=attn_matrices.logits)"
   ]
  },
  {
   "cell_type": "code",
   "execution_count": 89,
   "id": "10ad7837",
   "metadata": {},
   "outputs": [
    {
     "name": "stdout",
     "output_type": "stream",
     "text": [
      "Layer: 35, Heads: [19]\n"
     ]
    },
    {
     "data": {
      "text/html": [
       "<div id=\"circuits-vis-8a5ce23c-ee41\" style=\"margin: 15px 0;\"/>\n",
       "    <script crossorigin type=\"module\">\n",
       "    import { render, ColoredTokens } from \"https://unpkg.com/circuitsvis@1.43.3/dist/cdn/esm.js\";\n",
       "    render(\n",
       "      \"circuits-vis-8a5ce23c-ee41\",\n",
       "      ColoredTokens,\n",
       "      {\"tokens\": [\"Which\", \" of\", \" these\", \" peoples\", \" is\", \" by\", \" profession\", \" a\", \" Australia\", \"?\\n\", \"options\", \":\", \" Catherine\", \" D\", \"ene\", \"uve\", \",\", \" Nelson\", \" Mandela\", \",\", \" Heath\", \" Ledger\", \",\", \" Jean\", \"-J\", \"ac\", \"ques\", \" Rousse\", \"au\", \",\", \" Peter\", \" Min\", \"shall\", \",\", \" Oprah\", \" Win\", \"frey\", \"\\n\", \"Answer\", \":\"], \"values\": [0.021728515625, 0.0001049041748046875, 0.00014781951904296875, 0.000762939453125, 0.000225067138671875, 0.0005645751953125, 0.0003833770751953125, 0.00171661376953125, 0.006378173828125, 0.006134033203125, 7.915496826171875e-05, 0.000812530517578125, 0.003509521484375, 0.00135040283203125, 0.0022735595703125, 0.0081787109375, 0.02490234375, 0.0078125, 0.0203857421875, 0.0264892578125, 0.0205078125, 0.4921875, 0.12255859375, 0.00162506103515625, 0.000652313232421875, 0.005126953125, 0.0020751953125, 0.000812530517578125, 0.0111083984375, 0.00823974609375, 0.007415771484375, 0.0059814453125, 0.0244140625, 0.029541015625, 0.005645751953125, 0.00115966796875, 0.01324462890625, 0.00775146484375, 0.0002765655517578125, 0.003692626953125]}\n",
       "    )\n",
       "    </script>"
      ],
      "text/plain": [
       "<circuitsvis.utils.render.RenderedHTML at 0x7f91a01e7350>"
      ]
     },
     "metadata": {},
     "output_type": "display_data"
    },
    {
     "name": "stdout",
     "output_type": "stream",
     "text": [
      "Layer: 35, Heads: [46]\n"
     ]
    },
    {
     "data": {
      "text/html": [
       "<div id=\"circuits-vis-c44df616-149e\" style=\"margin: 15px 0;\"/>\n",
       "    <script crossorigin type=\"module\">\n",
       "    import { render, ColoredTokens } from \"https://unpkg.com/circuitsvis@1.43.3/dist/cdn/esm.js\";\n",
       "    render(\n",
       "      \"circuits-vis-c44df616-149e\",\n",
       "      ColoredTokens,\n",
       "      {\"tokens\": [\"Which\", \" of\", \" these\", \" peoples\", \" is\", \" by\", \" profession\", \" a\", \" Australia\", \"?\\n\", \"options\", \":\", \" Catherine\", \" D\", \"ene\", \"uve\", \",\", \" Nelson\", \" Mandela\", \",\", \" Heath\", \" Ledger\", \",\", \" Jean\", \"-J\", \"ac\", \"ques\", \" Rousse\", \"au\", \",\", \" Peter\", \" Min\", \"shall\", \",\", \" Oprah\", \" Win\", \"frey\", \"\\n\", \"Answer\", \":\"], \"values\": [0.0093994140625, 0.0007171630859375, 0.000865936279296875, 0.001922607421875, 0.001129150390625, 0.001861572265625, 0.0035247802734375, 0.006195068359375, 0.00555419921875, 0.0186767578125, 0.00164031982421875, 0.0147705078125, 0.0030670166015625, 0.0014495849609375, 0.0001926422119140625, 0.0020751953125, 0.01397705078125, 0.0022430419921875, 0.006500244140625, 0.01495361328125, 0.0123291015625, 0.0791015625, 0.056396484375, 0.00341796875, 0.01220703125, 0.0181884765625, 0.001800537109375, 0.00074005126953125, 0.008056640625, 0.00628662109375, 0.0028839111328125, 0.0030670166015625, 0.005126953125, 0.007232666015625, 0.00250244140625, 0.0196533203125, 0.003265380859375, 0.01904296875, 0.001800537109375, 0.01361083984375]}\n",
       "    )\n",
       "    </script>"
      ],
      "text/plain": [
       "<circuitsvis.utils.render.RenderedHTML at 0x7f91a0533750>"
      ]
     },
     "metadata": {},
     "output_type": "display_data"
    }
   ],
   "source": [
    "# for group_id in group_id_to_head_indices:\n",
    "layer_idx = 35\n",
    "layer_name = mt.layer_name_format.format(layer_idx)\n",
    "for group_id in [19, 46]:\n",
    "    frm = group_id_to_head_indices[group_id][0]\n",
    "    to = group_id_to_head_indices[group_id][-1]\n",
    "    print(\n",
    "        f\"Layer: {layer_idx}, Heads: {group_id_to_head_indices[group_id]}\"\n",
    "    )\n",
    "\n",
    "    head_matrix = torch.Tensor(attn_matrices.attention_matrices[layer_idx, frm: to+1]).mean(dim=0).squeeze()\n",
    "    visualize_attn_matrix(\n",
    "        attn_matrix=head_matrix,\n",
    "        tokens=[mt.tokenizer.decode(t) for t in tokenized.input_ids[0]],\n",
    "        q_index=-1,\n",
    "        start_from=1\n",
    "    )"
   ]
  },
  {
   "cell_type": "code",
   "execution_count": 135,
   "id": "ea4eec49",
   "metadata": {},
   "outputs": [
    {
     "name": "stdout",
     "output_type": "stream",
     "text": [
      "Which of these landmarks is located in France?\n",
      "options:\n",
      "1. The Space Needle\n",
      "2. Louvre Museum\n",
      "3. Colosseum\n",
      "4. State of Liberty\n",
      "5. Big Ben\n",
      "6. Christ the Redeemer\n",
      "Answer:\n",
      " The Louvre Museum. The Louvre, or the Louvre Museum, is the world's largest\n"
     ]
    }
   ],
   "source": [
    "import random\n",
    "\n",
    "# options = [\"Table\", \"Orange\", \"Transistor\", \"Spinach\", \"Piano\", \"Coffee\"]\n",
    "# prompt_template = \"\"\"Which of these objects is by type a {}?\n",
    "# options: {}\n",
    "# Answer:\"\"\"\n",
    "# prompt = prompt_template.format(\n",
    "#     \"musical instrument\",\n",
    "#     \", \".join(options)\n",
    "# )\n",
    "# print(prompt)\n",
    "\n",
    "# options = [\"anaconda\", \"python\", \"cobra\", \"viper\", \"mamba\", \"rattlesnake\"]\n",
    "# prompt = f\"\"\"Which of these snake names is also a programming language?\n",
    "# options: {\", \".join(options)}\n",
    "# Answer:\"\"\"\n",
    "\n",
    "options = [\"The Space Needle\", \"Louvre Museum\", \"Colosseum\", \"State of Liberty\", \"Big Ben\", \"Christ the Redeemer\"]\n",
    "# options += [\"Eiffel Tower\"]\n",
    "# random.shuffle(options)\n",
    "country = \"France\"\n",
    "prompt_template = \"\"\"Which of these landmarks is located in {}?\n",
    "options:\\n{}\n",
    "Answer:\"\"\"\n",
    "prompt = prompt_template.format(\n",
    "    country,\n",
    "    \"\\n\".join([f\"{idx+1}. {opt}\" for idx, opt in enumerate(options)])\n",
    ")\n",
    "\n",
    "print(prompt)\n",
    "\n",
    "gen = generate_with_patch(\n",
    "    mt=mt,\n",
    "    inputs=prompt,\n",
    "    n_gen_per_prompt=1,\n",
    "    max_new_tokens=20,\n",
    "    remove_prefix=True,\n",
    ")[0]\n",
    "print(gen)\n",
    "# predict_next_token(\n",
    "#     mt=mt,\n",
    "#     inputs=prompt,\n",
    "# )"
   ]
  },
  {
   "cell_type": "code",
   "execution_count": 136,
   "id": "2f21e5d3",
   "metadata": {},
   "outputs": [
    {
     "name": "stdout",
     "output_type": "stream",
     "text": [
      "layer=35\n"
     ]
    },
    {
     "data": {
      "text/html": [
       "<div id=\"circuits-vis-5ec72fc9-6ce3\" style=\"margin: 15px 0;\"/>\n",
       "    <script crossorigin type=\"module\">\n",
       "    import { render, ColoredTokens } from \"https://unpkg.com/circuitsvis@1.43.3/dist/cdn/esm.js\";\n",
       "    render(\n",
       "      \"circuits-vis-5ec72fc9-6ce3\",\n",
       "      ColoredTokens,\n",
       "      {\"tokens\": [\"Which\", \" of\", \" these\", \" landmarks\", \" is\", \" located\", \" in\", \" France\", \"?\\n\", \"options\", \":\\n\", \"1\", \".\", \" The\", \" Space\", \" Needle\", \"\\n\", \"2\", \".\", \" Lou\", \"vre\", \" Museum\", \"\\n\", \"3\", \".\", \" Col\", \"os\", \"se\", \"um\", \"\\n\", \"4\", \".\", \" State\", \" of\", \" Liberty\", \"\\n\", \"5\", \".\", \" Big\", \" Ben\", \"\\n\", \"6\", \".\", \" Christ\", \" the\", \" Rede\", \"emer\", \"\\n\", \"Answer\", \":\"], \"values\": [0.03490346670150757, 0.012104451656341553, 0.004029393196105957, 0.004619523882865906, 0.0055924952030181885, 0.0052072107791900635, 0.0032318271696567535, 0.016401588916778564, 0.01790487766265869, 0.007109940052032471, 0.008657097816467285, 0.017139315605163574, 0.0027614980936050415, 0.0025845617055892944, 0.0005510468035936356, 0.0016454458236694336, 0.005691170692443848, 0.010581940412521362, 0.0023006387054920197, 0.008239492774009705, 0.007621109485626221, 0.017439886927604675, 0.049142077565193176, 0.011262211948633194, 0.0013150665909051895, 0.0006964297499507666, 0.00017024320550262928, 0.006420940160751343, 0.00105232372879982, 0.007435992360115051, 0.014747291803359985, 0.0008129477500915527, 0.000528872013092041, 0.00015498418360948563, 0.0034893453121185303, 0.00891391932964325, 0.010736614465713501, 0.0011234842240810394, 0.0006114961579442024, 0.0019028857350349426, 0.003315463662147522, 0.010135799646377563, 0.0007365252822637558, 0.00047104712575674057, 0.00019196118228137493, 0.00022020383039489388, 0.0017981305718421936, 0.0031743869185447693, 0.02987217903137207, 0.03008177876472473]}\n",
       "    )\n",
       "    </script>"
      ],
      "text/plain": [
       "<circuitsvis.utils.render.RenderedHTML at 0x7f91a0599b10>"
      ]
     },
     "metadata": {},
     "output_type": "display_data"
    },
    {
     "name": "stdout",
     "output_type": "stream",
     "text": [
      "--------------------------------------------------------------------------------\n",
      "layer=47\n"
     ]
    },
    {
     "data": {
      "text/html": [
       "<div id=\"circuits-vis-c18fa023-5131\" style=\"margin: 15px 0;\"/>\n",
       "    <script crossorigin type=\"module\">\n",
       "    import { render, ColoredTokens } from \"https://unpkg.com/circuitsvis@1.43.3/dist/cdn/esm.js\";\n",
       "    render(\n",
       "      \"circuits-vis-c18fa023-5131\",\n",
       "      ColoredTokens,\n",
       "      {\"tokens\": [\"Which\", \" of\", \" these\", \" landmarks\", \" is\", \" located\", \" in\", \" France\", \"?\\n\", \"options\", \":\\n\", \"1\", \".\", \" The\", \" Space\", \" Needle\", \"\\n\", \"2\", \".\", \" Lou\", \"vre\", \" Museum\", \"\\n\", \"3\", \".\", \" Col\", \"os\", \"se\", \"um\", \"\\n\", \"4\", \".\", \" State\", \" of\", \" Liberty\", \"\\n\", \"5\", \".\", \" Big\", \" Ben\", \"\\n\", \"6\", \".\", \" Christ\", \" the\", \" Rede\", \"emer\", \"\\n\", \"Answer\", \":\"], \"values\": [0.004201263189315796, 0.0017417669296264648, 0.0007206946611404419, 0.0012235380709171295, 0.0009787734597921371, 0.0005000550299882889, 0.0005200300365686417, 0.0015595555305480957, 0.003989890217781067, 0.0021203309297561646, 0.001596665009856224, 0.0015972135588526726, 0.0008222367614507675, 0.0006464116740971804, 0.0001948084682226181, 0.0005172621458768845, 0.0010358598083257675, 0.0021585728973150253, 0.0004515890032052994, 0.0006044753827154636, 0.0012466683983802795, 0.0014763306826353073, 0.015766959637403488, 0.0006306935101747513, 0.00025771046057343483, 0.00013082334771752357, 9.599374607205391e-05, 0.0005000028759241104, 0.00020621297881007195, 0.000707671046257019, 0.001141957938671112, 0.00021493015810847282, 0.0001784008927643299, 0.00018820445984601974, 0.0009287819266319275, 0.0008357428014278412, 0.0011312738060951233, 0.00028590625151991844, 0.00016898894682526588, 0.00039649847894907, 0.0007577445358037949, 0.000851701945066452, 0.000207443255931139, 0.00024014152586460114, 0.000235813669860363, 0.000216655433177948, 0.0005150586366653442, 0.00080893374979496, 0.01632535457611084, 0.002338893711566925]}\n",
       "    )\n",
       "    </script>"
      ],
      "text/plain": [
       "<circuitsvis.utils.render.RenderedHTML at 0x7f91a030bf90>"
      ]
     },
     "metadata": {},
     "output_type": "display_data"
    },
    {
     "name": "stdout",
     "output_type": "stream",
     "text": [
      "--------------------------------------------------------------------------------\n"
     ]
    },
    {
     "data": {
      "text/plain": [
       "[PredictedToken(token=' ', prob=0.470703125, logit=21.25, token_id=220, metadata=None),\n",
       " PredictedToken(token=' The', prob=0.28515625, logit=20.75, token_id=578, metadata=None),\n",
       " PredictedToken(token=' Lou', prob=0.1533203125, logit=20.125, token_id=9928, metadata=None),\n",
       " PredictedToken(token=' \\n', prob=0.0341796875, logit=18.625, token_id=720, metadata=None),\n",
       " PredictedToken(token=' the', prob=0.01104736328125, logit=17.5, token_id=279, metadata=None)]"
      ]
     },
     "execution_count": 136,
     "metadata": {},
     "output_type": "execute_result"
    }
   ],
   "source": [
    "from src.attention import get_attention_matrices, visualize_average_attn_matrix\n",
    "from src.functional import interpret_logits\n",
    "from src.tokens import prepare_input\n",
    "\n",
    "tokenized = prepare_input(\n",
    "    tokenizer=mt,\n",
    "    prompts=prompt\n",
    ")\n",
    "\n",
    "attn_matrices = get_attention_matrices(\n",
    "    input=tokenized,\n",
    "    mt=mt,\n",
    "    value_weighted=False,\n",
    "    # patches = []\n",
    ")\n",
    "\n",
    "visualize_average_attn_matrix(\n",
    "    mt=mt,\n",
    "    attn_matrices=attn_matrices,\n",
    "    prompt=prompt,\n",
    "    tokenized=tokenized,\n",
    "    layer_window=[35, 47],\n",
    ")\n",
    "\n",
    "interpret_logits(tokenizer=mt, logits=attn_matrices.logits)"
   ]
  },
  {
   "cell_type": "code",
   "execution_count": 137,
   "id": "a3fb098d",
   "metadata": {},
   "outputs": [
    {
     "name": "stdout",
     "output_type": "stream",
     "text": [
      "Layer: 35, Heads: [19]\n"
     ]
    },
    {
     "data": {
      "text/html": [
       "<div id=\"circuits-vis-cfe73f63-2cd2\" style=\"margin: 15px 0;\"/>\n",
       "    <script crossorigin type=\"module\">\n",
       "    import { render, ColoredTokens } from \"https://unpkg.com/circuitsvis@1.43.3/dist/cdn/esm.js\";\n",
       "    render(\n",
       "      \"circuits-vis-cfe73f63-2cd2\",\n",
       "      ColoredTokens,\n",
       "      {\"tokens\": [\"Which\", \" of\", \" these\", \" landmarks\", \" is\", \" located\", \" in\", \" France\", \"?\\n\", \"options\", \":\\n\", \"1\", \".\", \" The\", \" Space\", \" Needle\", \"\\n\", \"2\", \".\", \" Lou\", \"vre\", \" Museum\", \"\\n\", \"3\", \".\", \" Col\", \"os\", \"se\", \"um\", \"\\n\", \"4\", \".\", \" State\", \" of\", \" Liberty\", \"\\n\", \"5\", \".\", \" Big\", \" Ben\", \"\\n\", \"6\", \".\", \" Christ\", \" the\", \" Rede\", \"emer\", \"\\n\", \"Answer\", \":\"], \"values\": [0.04345703125, 0.000518798828125, 0.0001659393310546875, 0.0021209716796875, 0.00098419189453125, 0.0022430419921875, 0.0029296875, 0.01287841796875, 0.00567626953125, 0.0006561279296875, 0.000637054443359375, 0.0017852783203125, 0.0019073486328125, 0.0057373046875, 0.00048065185546875, 0.000820159912109375, 0.0030670166015625, 0.0029296875, 0.002838134765625, 0.07373046875, 0.049560546875, 0.2412109375, 0.26953125, 0.01397705078125, 0.0034942626953125, 0.0036773681640625, 5.078315734863281e-05, 0.0003986358642578125, 0.003814697265625, 0.0274658203125, 0.0120849609375, 0.0024871826171875, 0.00067901611328125, 7.390975952148438e-05, 0.0155029296875, 0.01385498046875, 0.0040283203125, 0.00299072265625, 0.000782012939453125, 0.00482177734375, 0.004791259765625, 0.004364013671875, 0.000545501708984375, 0.000911712646484375, 0.000171661376953125, 0.000438690185546875, 0.0096435546875, 0.004638671875, 0.000629425048828125, 0.00390625]}\n",
       "    )\n",
       "    </script>"
      ],
      "text/plain": [
       "<circuitsvis.utils.render.RenderedHTML at 0x7f91a03a3150>"
      ]
     },
     "metadata": {},
     "output_type": "display_data"
    },
    {
     "name": "stdout",
     "output_type": "stream",
     "text": [
      "Layer: 35, Heads: [46]\n"
     ]
    },
    {
     "data": {
      "text/html": [
       "<div id=\"circuits-vis-9ea0f984-d207\" style=\"margin: 15px 0;\"/>\n",
       "    <script crossorigin type=\"module\">\n",
       "    import { render, ColoredTokens } from \"https://unpkg.com/circuitsvis@1.43.3/dist/cdn/esm.js\";\n",
       "    render(\n",
       "      \"circuits-vis-9ea0f984-d207\",\n",
       "      ColoredTokens,\n",
       "      {\"tokens\": [\"Which\", \" of\", \" these\", \" landmarks\", \" is\", \" located\", \" in\", \" France\", \"?\\n\", \"options\", \":\\n\", \"1\", \".\", \" The\", \" Space\", \" Needle\", \"\\n\", \"2\", \".\", \" Lou\", \"vre\", \" Museum\", \"\\n\", \"3\", \".\", \" Col\", \"os\", \"se\", \"um\", \"\\n\", \"4\", \".\", \" State\", \" of\", \" Liberty\", \"\\n\", \"5\", \".\", \" Big\", \" Ben\", \"\\n\", \"6\", \".\", \" Christ\", \" the\", \" Rede\", \"emer\", \"\\n\", \"Answer\", \":\"], \"values\": [0.0091552734375, 0.00104522705078125, 0.002044677734375, 0.003875732421875, 0.00238037109375, 0.0048828125, 0.00335693359375, 0.01373291015625, 0.0164794921875, 0.006591796875, 0.0128173828125, 0.01239013671875, 0.01239013671875, 0.00897216796875, 0.000247955322265625, 0.001007080078125, 0.006378173828125, 0.0093994140625, 0.007354736328125, 0.01104736328125, 0.0208740234375, 0.051025390625, 0.07958984375, 0.01519775390625, 0.00628662109375, 0.00069427490234375, 5.698204040527344e-05, 0.0024566650390625, 0.0012969970703125, 0.0123291015625, 0.0125732421875, 0.00133514404296875, 0.00012874603271484375, 6.866455078125e-05, 0.002838134765625, 0.00830078125, 0.0048828125, 0.001007080078125, 0.0001983642578125, 0.000652313232421875, 0.00107574462890625, 0.002532958984375, 0.00125885009765625, 8.296966552734375e-05, 5.698204040527344e-05, 2.0265579223632812e-05, 0.0003070831298828125, 0.000507354736328125, 0.00133514404296875, 0.0140380859375]}\n",
       "    )\n",
       "    </script>"
      ],
      "text/plain": [
       "<circuitsvis.utils.render.RenderedHTML at 0x7f91a0218610>"
      ]
     },
     "metadata": {},
     "output_type": "display_data"
    }
   ],
   "source": [
    "# for group_id in group_id_to_head_indices:\n",
    "layer_idx = 35\n",
    "layer_name = mt.layer_name_format.format(layer_idx)\n",
    "for group_id in [19, 46]:\n",
    "    frm = group_id_to_head_indices[group_id][0]\n",
    "    to = group_id_to_head_indices[group_id][-1]\n",
    "    print(\n",
    "        f\"Layer: {layer_idx}, Heads: {group_id_to_head_indices[group_id]}\"\n",
    "    )\n",
    "\n",
    "    head_matrix = torch.Tensor(attn_matrices.attention_matrices[layer_idx, frm: to+1]).mean(dim=0).squeeze()\n",
    "    visualize_attn_matrix(\n",
    "        attn_matrix=head_matrix,\n",
    "        tokens=[mt.tokenizer.decode(t) for t in tokenized.input_ids[0]],\n",
    "        q_index=-1,\n",
    "        start_from=1\n",
    "    )"
   ]
  },
  {
   "cell_type": "code",
   "execution_count": 141,
   "id": "cf6b285c",
   "metadata": {},
   "outputs": [
    {
     "name": "stdout",
     "output_type": "stream",
     "text": [
      "Which of these people is not a scientist?\n",
      "options: Marie Curie, Albert Einstein, Grover Cleveland, Charles Darwin, Nikola Tesla, Issac Newton\n",
      "Answer:\n",
      "layer=35\n"
     ]
    },
    {
     "data": {
      "text/html": [
       "<div id=\"circuits-vis-5d72c51f-2269\" style=\"margin: 15px 0;\"/>\n",
       "    <script crossorigin type=\"module\">\n",
       "    import { render, ColoredTokens } from \"https://unpkg.com/circuitsvis@1.43.3/dist/cdn/esm.js\";\n",
       "    render(\n",
       "      \"circuits-vis-5d72c51f-2269\",\n",
       "      ColoredTokens,\n",
       "      {\"tokens\": [\"Which\", \" of\", \" these\", \" people\", \" is\", \" not\", \" a\", \" scientist\", \"?\\n\", \"options\", \":\", \" Marie\", \" Cur\", \"ie\", \",\", \" Albert\", \" Einstein\", \",\", \" Gro\", \"ver\", \" Cleveland\", \",\", \" Charles\", \" Darwin\", \",\", \" Nikola\", \" Tesla\", \",\", \" Iss\", \"ac\", \" Newton\", \"\\n\", \"Answer\", \":\"], \"values\": [0.01913928985595703, 0.004065927118062973, 0.003256186842918396, 0.009845048189163208, 0.0042792633175849915, 0.008200213313102722, 0.0028967559337615967, 0.010572731494903564, 0.01357877254486084, 0.00619058683514595, 0.009255915880203247, 0.004667013883590698, 0.0035293996334075928, 0.015106618404388428, 0.015680372714996338, 0.005647335201501846, 0.009662449359893799, 0.010059550404548645, 0.0076685696840286255, 0.002708014100790024, 0.04774180054664612, 0.0487484335899353, 0.003005947917699814, 0.009220913052558899, 0.016255199909210205, 0.003651399165391922, 0.007326409220695496, 0.006177961826324463, 0.0025247931480407715, 0.006044141948223114, 0.009520769119262695, 0.03167468309402466, 0.01852460205554962, 0.030090510845184326]}\n",
       "    )\n",
       "    </script>"
      ],
      "text/plain": [
       "<circuitsvis.utils.render.RenderedHTML at 0x7f91a01e2910>"
      ]
     },
     "metadata": {},
     "output_type": "display_data"
    },
    {
     "name": "stdout",
     "output_type": "stream",
     "text": [
      "--------------------------------------------------------------------------------\n",
      "layer=47\n"
     ]
    },
    {
     "data": {
      "text/html": [
       "<div id=\"circuits-vis-a8032222-dd2a\" style=\"margin: 15px 0;\"/>\n",
       "    <script crossorigin type=\"module\">\n",
       "    import { render, ColoredTokens } from \"https://unpkg.com/circuitsvis@1.43.3/dist/cdn/esm.js\";\n",
       "    render(\n",
       "      \"circuits-vis-a8032222-dd2a\",\n",
       "      ColoredTokens,\n",
       "      {\"tokens\": [\"Which\", \" of\", \" these\", \" people\", \" is\", \" not\", \" a\", \" scientist\", \"?\\n\", \"options\", \":\", \" Marie\", \" Cur\", \"ie\", \",\", \" Albert\", \" Einstein\", \",\", \" Gro\", \"ver\", \" Cleveland\", \",\", \" Charles\", \" Darwin\", \",\", \" Nikola\", \" Tesla\", \",\", \" Iss\", \"ac\", \" Newton\", \"\\n\", \"Answer\", \":\"], \"values\": [0.003289155662059784, 0.0010218769311904907, 0.000555139034986496, 0.0010391287505626678, 0.0005970424972474575, 0.0009799133986234665, 0.00041656289249658585, 0.0014182180166244507, 0.003132142126560211, 0.0017025955021381378, 0.001082802191376686, 0.0015583783388137817, 0.000673491507768631, 0.0008708052337169647, 0.0010055974125862122, 0.0005393922328948975, 0.0005834568291902542, 0.0005838926881551743, 0.005982976406812668, 0.010129079222679138, 0.004821106791496277, 0.007658191025257111, 0.0005081519484519958, 0.0006512552499771118, 0.0006289146840572357, 0.00036216340959072113, 0.0006262306123971939, 0.0003936002030968666, 0.0005840733647346497, 0.000783875584602356, 0.000799005851149559, 0.003829866647720337, 0.007192403078079224, 0.00300530344247818]}\n",
       "    )\n",
       "    </script>"
      ],
      "text/plain": [
       "<circuitsvis.utils.render.RenderedHTML at 0x7f91a05677d0>"
      ]
     },
     "metadata": {},
     "output_type": "display_data"
    },
    {
     "name": "stdout",
     "output_type": "stream",
     "text": [
      "--------------------------------------------------------------------------------\n"
     ]
    },
    {
     "data": {
      "text/plain": [
       "[PredictedToken(token=' Gro', prob=0.96875, logit=21.5, token_id=18370, metadata=None),\n",
       " PredictedToken(token=' The', prob=0.00653076171875, logit=16.5, token_id=578, metadata=None),\n",
       " PredictedToken(token=' ', prob=0.002716064453125, logit=15.625, token_id=220, metadata=None),\n",
       " PredictedToken(token='Gro', prob=0.0023956298828125, logit=15.5, token_id=77435, metadata=None),\n",
       " PredictedToken(token=' the', prob=0.00154876708984375, logit=15.0625, token_id=279, metadata=None)]"
      ]
     },
     "execution_count": 141,
     "metadata": {},
     "output_type": "execute_result"
    }
   ],
   "source": [
    "options = [\"Marie Curie\", \"Albert Einstein\", \"Grover Cleveland\", \"Charles Darwin\", \"Nikola Tesla\", \"Issac Newton\"]\n",
    "prompt_template = \"\"\"Which of these people is not a scientist?\n",
    "options: {}\n",
    "Answer:\"\"\"\n",
    "prompt = prompt_template.format(\n",
    "    \", \".join(options)\n",
    ")\n",
    "print(prompt)\n",
    "\n",
    "predict_next_token(\n",
    "    mt=mt,\n",
    "    inputs=prompt,\n",
    ")\n",
    "\n",
    "tokenized = prepare_input(\n",
    "    tokenizer=mt,\n",
    "    prompts=prompt\n",
    ")\n",
    "\n",
    "attn_matrices = get_attention_matrices(\n",
    "    input=tokenized,\n",
    "    mt=mt,\n",
    "    value_weighted=False,\n",
    "    # patches = []\n",
    ")\n",
    "\n",
    "visualize_average_attn_matrix(\n",
    "    mt=mt,\n",
    "    attn_matrices=attn_matrices,\n",
    "    prompt=prompt,\n",
    "    tokenized=tokenized,\n",
    "    layer_window=[35, 47],\n",
    ")\n",
    "\n",
    "interpret_logits(tokenizer=mt, logits=attn_matrices.logits)"
   ]
  },
  {
   "cell_type": "code",
   "execution_count": 142,
   "id": "73a9df08",
   "metadata": {},
   "outputs": [
    {
     "name": "stdout",
     "output_type": "stream",
     "text": [
      "Layer: 35, Heads: [19]\n"
     ]
    },
    {
     "data": {
      "text/html": [
       "<div id=\"circuits-vis-09e8ab3e-a848\" style=\"margin: 15px 0;\"/>\n",
       "    <script crossorigin type=\"module\">\n",
       "    import { render, ColoredTokens } from \"https://unpkg.com/circuitsvis@1.43.3/dist/cdn/esm.js\";\n",
       "    render(\n",
       "      \"circuits-vis-09e8ab3e-a848\",\n",
       "      ColoredTokens,\n",
       "      {\"tokens\": [\"Which\", \" of\", \" these\", \" people\", \" is\", \" not\", \" a\", \" scientist\", \"?\\n\", \"options\", \":\", \" Marie\", \" Cur\", \"ie\", \",\", \" Albert\", \" Einstein\", \",\", \" Gro\", \"ver\", \" Cleveland\", \",\", \" Charles\", \" Darwin\", \",\", \" Nikola\", \" Tesla\", \",\", \" Iss\", \"ac\", \" Newton\", \"\\n\", \"Answer\", \":\"], \"values\": [0.0042724609375, 6.079673767089844e-05, 8.296966552734375e-05, 0.0016021728515625, 6.437301635742188e-05, 0.00015735626220703125, 0.000263214111328125, 0.00034332275390625, 0.000308990478515625, 3.361701965332031e-05, 0.0001621246337890625, 0.0019683837890625, 0.002838134765625, 0.0157470703125, 0.0069580078125, 0.00579833984375, 0.0220947265625, 0.005279541015625, 0.007110595703125, 0.004608154296875, 0.6328125, 0.1572265625, 0.00167083740234375, 0.01373291015625, 0.01190185546875, 0.0028228759765625, 0.0164794921875, 0.005035400390625, 5.53131103515625e-05, 0.006103515625, 0.009521484375, 0.0052490234375, 3.147125244140625e-05, 0.0011749267578125]}\n",
       "    )\n",
       "    </script>"
      ],
      "text/plain": [
       "<circuitsvis.utils.render.RenderedHTML at 0x7f91a04c5250>"
      ]
     },
     "metadata": {},
     "output_type": "display_data"
    },
    {
     "name": "stdout",
     "output_type": "stream",
     "text": [
      "Layer: 35, Heads: [46]\n"
     ]
    },
    {
     "data": {
      "text/html": [
       "<div id=\"circuits-vis-edc5ff2f-529f\" style=\"margin: 15px 0;\"/>\n",
       "    <script crossorigin type=\"module\">\n",
       "    import { render, ColoredTokens } from \"https://unpkg.com/circuitsvis@1.43.3/dist/cdn/esm.js\";\n",
       "    render(\n",
       "      \"circuits-vis-edc5ff2f-529f\",\n",
       "      ColoredTokens,\n",
       "      {\"tokens\": [\"Which\", \" of\", \" these\", \" people\", \" is\", \" not\", \" a\", \" scientist\", \"?\\n\", \"options\", \":\", \" Marie\", \" Cur\", \"ie\", \",\", \" Albert\", \" Einstein\", \",\", \" Gro\", \"ver\", \" Cleveland\", \",\", \" Charles\", \" Darwin\", \",\", \" Nikola\", \" Tesla\", \",\", \" Iss\", \"ac\", \" Newton\", \"\\n\", \"Answer\", \":\"], \"values\": [0.010498046875, 0.00106048583984375, 0.0008544921875, 0.004974365234375, 0.0016937255859375, 0.002593994140625, 0.0014495849609375, 0.00469970703125, 0.00726318359375, 0.003936767578125, 0.0198974609375, 0.004974365234375, 0.00262451171875, 0.01165771484375, 0.0166015625, 0.00933837890625, 0.0106201171875, 0.023193359375, 0.0164794921875, 0.0047607421875, 0.06298828125, 0.052978515625, 0.006011962890625, 0.010498046875, 0.0198974609375, 0.004119873046875, 0.00714111328125, 0.00531005859375, 0.0047607421875, 0.00897216796875, 0.00555419921875, 0.033447265625, 0.0027923583984375, 0.01251220703125]}\n",
       "    )\n",
       "    </script>"
      ],
      "text/plain": [
       "<circuitsvis.utils.render.RenderedHTML at 0x7f91a01e1650>"
      ]
     },
     "metadata": {},
     "output_type": "display_data"
    }
   ],
   "source": [
    "# for group_id in group_id_to_head_indices:\n",
    "layer_idx = 35\n",
    "layer_name = mt.layer_name_format.format(layer_idx)\n",
    "for group_id in [19, 46]:\n",
    "    frm = group_id_to_head_indices[group_id][0]\n",
    "    to = group_id_to_head_indices[group_id][-1]\n",
    "    print(\n",
    "        f\"Layer: {layer_idx}, Heads: {group_id_to_head_indices[group_id]}\"\n",
    "    )\n",
    "\n",
    "    head_matrix = torch.Tensor(attn_matrices.attention_matrices[layer_idx, frm: to+1]).mean(dim=0).squeeze()\n",
    "    visualize_attn_matrix(\n",
    "        attn_matrix=head_matrix,\n",
    "        tokens=[mt.tokenizer.decode(t) for t in tokenized.input_ids[0]],\n",
    "        q_index=-1,\n",
    "        start_from=1\n",
    "    )"
   ]
  },
  {
   "cell_type": "code",
   "execution_count": 150,
   "id": "027d93d2",
   "metadata": {},
   "outputs": [
    {
     "name": "stdout",
     "output_type": "stream",
     "text": [
      "Which of these people is a politician or a scientist?\n",
      "options: Michael Jordan, Serena Williams, Mike Pence, Issac Newton, Tom Cruise\n",
      "Answer:\n",
      " Mike Pence\n",
      "Mike Pence is a politician, specifically the 48th Vice President of the United States\n",
      "layer=35\n"
     ]
    },
    {
     "data": {
      "text/html": [
       "<div id=\"circuits-vis-482d20e2-3351\" style=\"margin: 15px 0;\"/>\n",
       "    <script crossorigin type=\"module\">\n",
       "    import { render, ColoredTokens } from \"https://unpkg.com/circuitsvis@1.43.3/dist/cdn/esm.js\";\n",
       "    render(\n",
       "      \"circuits-vis-482d20e2-3351\",\n",
       "      ColoredTokens,\n",
       "      {\"tokens\": [\"Which\", \" of\", \" these\", \" people\", \" is\", \" a\", \" politician\", \" or\", \" a\", \" scientist\", \"?\\n\", \"options\", \":\", \" Michael\", \" Jordan\", \",\", \" Serena\", \" Williams\", \",\", \" Mike\", \" Pence\", \",\", \" Iss\", \"ac\", \" Newton\", \",\", \" Tom\", \" Cruise\", \"\\n\", \"Answer\", \":\"], \"values\": [0.0234529972076416, 0.00773070752620697, 0.004950564354658127, 0.012492388486862183, 0.008815549314022064, 0.005469523370265961, 0.013534843921661377, 0.008750006556510925, 0.002968922257423401, 0.017280220985412598, 0.032553791999816895, 0.006208030506968498, 0.00983642041683197, 0.012787938117980957, 0.015949860215187073, 0.022542297840118408, 0.004823118448257446, 0.01163068413734436, 0.01203002780675888, 0.0028698258101940155, 0.02944113314151764, 0.03993818163871765, 0.002977423369884491, 0.002885667607188225, 0.021321967244148254, 0.02567422389984131, 0.001908823847770691, 0.009168148040771484, 0.033277034759521484, 0.01777396909892559, 0.04110383987426758]}\n",
       "    )\n",
       "    </script>"
      ],
      "text/plain": [
       "<circuitsvis.utils.render.RenderedHTML at 0x7f91a05315d0>"
      ]
     },
     "metadata": {},
     "output_type": "display_data"
    },
    {
     "name": "stdout",
     "output_type": "stream",
     "text": [
      "--------------------------------------------------------------------------------\n",
      "layer=47\n"
     ]
    },
    {
     "data": {
      "text/html": [
       "<div id=\"circuits-vis-1e759cd5-aa22\" style=\"margin: 15px 0;\"/>\n",
       "    <script crossorigin type=\"module\">\n",
       "    import { render, ColoredTokens } from \"https://unpkg.com/circuitsvis@1.43.3/dist/cdn/esm.js\";\n",
       "    render(\n",
       "      \"circuits-vis-1e759cd5-aa22\",\n",
       "      ColoredTokens,\n",
       "      {\"tokens\": [\"Which\", \" of\", \" these\", \" people\", \" is\", \" a\", \" politician\", \" or\", \" a\", \" scientist\", \"?\\n\", \"options\", \":\", \" Michael\", \" Jordan\", \",\", \" Serena\", \" Williams\", \",\", \" Mike\", \" Pence\", \",\", \" Iss\", \"ac\", \" Newton\", \",\", \" Tom\", \" Cruise\", \"\\n\", \"Answer\", \":\"], \"values\": [0.002793416380882263, 0.0012105926871299744, 0.0004308028146624565, 0.0006560087203979492, 0.0004909327253699303, 0.0006553493440151215, 0.002858668565750122, 0.0014283489435911179, 0.0004781251773238182, 0.001770123839378357, 0.002249017357826233, 0.0013170838356018066, 0.0011399313807487488, 0.0037238001823425293, 0.0018875449895858765, 0.0014224201440811157, 0.0010955967009067535, 0.0007756985723972321, 0.001122577115893364, 0.013885803520679474, 0.008898116648197174, 0.005778567865490913, 0.0017849579453468323, 0.0019700638949871063, 0.002281278371810913, 0.0025117751210927963, 0.000759664922952652, 0.0012902021408081055, 0.003861069679260254, 0.0062844157218933105, 0.003592252731323242]}\n",
       "    )\n",
       "    </script>"
      ],
      "text/plain": [
       "<circuitsvis.utils.render.RenderedHTML at 0x7f91a0574790>"
      ]
     },
     "metadata": {},
     "output_type": "display_data"
    },
    {
     "name": "stdout",
     "output_type": "stream",
     "text": [
      "--------------------------------------------------------------------------------\n"
     ]
    },
    {
     "data": {
      "text/plain": [
       "[PredictedToken(token=' Mike', prob=0.78125, logit=20.25, token_id=11519, metadata=None),\n",
       " PredictedToken(token=' Iss', prob=0.056640625, logit=17.625, token_id=16314, metadata=None),\n",
       " PredictedToken(token=' The', prob=0.0498046875, logit=17.5, token_id=578, metadata=None),\n",
       " PredictedToken(token=' the', prob=0.0086669921875, logit=15.75, token_id=279, metadata=None),\n",
       " PredictedToken(token=' ', prob=0.0086669921875, logit=15.75, token_id=220, metadata=None)]"
      ]
     },
     "execution_count": 150,
     "metadata": {},
     "output_type": "execute_result"
    }
   ],
   "source": [
    "options = [\"Michael Jordan\", \"Serena Williams\", \"Mike Pence\", \"Issac Newton\", \"Tom Cruise\"]\n",
    "prompt_template = \"\"\"Which of these people is a politician or a scientist?\n",
    "options: {}\n",
    "Answer:\"\"\"\n",
    "\n",
    "prompt = prompt_template.format(\n",
    "    \", \".join(options)\n",
    ")\n",
    "print(prompt)\n",
    "gen = generate_with_patch(\n",
    "    mt=mt,\n",
    "    inputs=prompt,\n",
    "    n_gen_per_prompt=1,\n",
    "    max_new_tokens=20,\n",
    "    remove_prefix=True,\n",
    ")[0]\n",
    "print(gen)\n",
    "\n",
    "tokenized = prepare_input(\n",
    "    tokenizer=mt,\n",
    "    prompts=prompt\n",
    ")\n",
    "\n",
    "attn_matrices = get_attention_matrices(\n",
    "    input=tokenized,\n",
    "    mt=mt,\n",
    "    value_weighted=False,\n",
    "    # patches = []\n",
    ")\n",
    "\n",
    "visualize_average_attn_matrix(\n",
    "    mt=mt,\n",
    "    attn_matrices=attn_matrices,\n",
    "    prompt=prompt,\n",
    "    tokenized=tokenized,\n",
    "    layer_window=[35, 47],\n",
    ")\n",
    "\n",
    "interpret_logits(tokenizer=mt, logits=attn_matrices.logits)"
   ]
  },
  {
   "cell_type": "code",
   "execution_count": 151,
   "id": "414081ff",
   "metadata": {},
   "outputs": [
    {
     "name": "stdout",
     "output_type": "stream",
     "text": [
      "Layer: 35, Heads: [19]\n"
     ]
    },
    {
     "data": {
      "text/html": [
       "<div id=\"circuits-vis-80edddf4-5d94\" style=\"margin: 15px 0;\"/>\n",
       "    <script crossorigin type=\"module\">\n",
       "    import { render, ColoredTokens } from \"https://unpkg.com/circuitsvis@1.43.3/dist/cdn/esm.js\";\n",
       "    render(\n",
       "      \"circuits-vis-80edddf4-5d94\",\n",
       "      ColoredTokens,\n",
       "      {\"tokens\": [\"Which\", \" of\", \" these\", \" people\", \" is\", \" a\", \" politician\", \" or\", \" a\", \" scientist\", \"?\\n\", \"options\", \":\", \" Michael\", \" Jordan\", \",\", \" Serena\", \" Williams\", \",\", \" Mike\", \" Pence\", \",\", \" Iss\", \"ac\", \" Newton\", \",\", \" Tom\", \" Cruise\", \"\\n\", \"Answer\", \":\"], \"values\": [0.004302978515625, 0.00014781951904296875, 5.602836608886719e-05, 0.0010223388671875, 7.43865966796875e-05, 0.000682830810546875, 0.0113525390625, 0.00098419189453125, 0.0008087158203125, 0.01708984375, 0.00148773193359375, 3.039836883544922e-05, 0.00020503997802734375, 0.01904296875, 0.015625, 0.0140380859375, 0.01239013671875, 0.01483154296875, 0.0093994140625, 0.00176239013671875, 0.43359375, 0.140625, 0.0026702880859375, 0.00616455078125, 0.1640625, 0.09228515625, 0.0003986358642578125, 0.0098876953125, 0.0035400390625, 2.6106834411621094e-05, 0.00110626220703125]}\n",
       "    )\n",
       "    </script>"
      ],
      "text/plain": [
       "<circuitsvis.utils.render.RenderedHTML at 0x7f91a057b850>"
      ]
     },
     "metadata": {},
     "output_type": "display_data"
    },
    {
     "name": "stdout",
     "output_type": "stream",
     "text": [
      "Layer: 35, Heads: [46]\n"
     ]
    },
    {
     "data": {
      "text/html": [
       "<div id=\"circuits-vis-34762b4b-0aa5\" style=\"margin: 15px 0;\"/>\n",
       "    <script crossorigin type=\"module\">\n",
       "    import { render, ColoredTokens } from \"https://unpkg.com/circuitsvis@1.43.3/dist/cdn/esm.js\";\n",
       "    render(\n",
       "      \"circuits-vis-34762b4b-0aa5\",\n",
       "      ColoredTokens,\n",
       "      {\"tokens\": [\"Which\", \" of\", \" these\", \" people\", \" is\", \" a\", \" politician\", \" or\", \" a\", \" scientist\", \"?\\n\", \"options\", \":\", \" Michael\", \" Jordan\", \",\", \" Serena\", \" Williams\", \",\", \" Mike\", \" Pence\", \",\", \" Iss\", \"ac\", \" Newton\", \",\", \" Tom\", \" Cruise\", \"\\n\", \"Answer\", \":\"], \"values\": [0.006622314453125, 0.00183868408203125, 0.00193023681640625, 0.00677490234375, 0.004486083984375, 0.005096435546875, 0.0194091796875, 0.010498046875, 0.00775146484375, 0.02734375, 0.0262451171875, 0.002716064453125, 0.01104736328125, 0.01373291015625, 0.0145263671875, 0.0390625, 0.008056640625, 0.0233154296875, 0.04541015625, 0.01446533203125, 0.10888671875, 0.162109375, 0.01312255859375, 0.00897216796875, 0.036376953125, 0.072265625, 0.004241943359375, 0.016845703125, 0.043701171875, 0.0029449462890625, 0.028076171875]}\n",
       "    )\n",
       "    </script>"
      ],
      "text/plain": [
       "<circuitsvis.utils.render.RenderedHTML at 0x7f6ffa581750>"
      ]
     },
     "metadata": {},
     "output_type": "display_data"
    }
   ],
   "source": [
    "# for group_id in group_id_to_head_indices:\n",
    "layer_idx = 35\n",
    "layer_name = mt.layer_name_format.format(layer_idx)\n",
    "for group_id in [19, 46]:\n",
    "    frm = group_id_to_head_indices[group_id][0]\n",
    "    to = group_id_to_head_indices[group_id][-1]\n",
    "    print(\n",
    "        f\"Layer: {layer_idx}, Heads: {group_id_to_head_indices[group_id]}\"\n",
    "    )\n",
    "\n",
    "    head_matrix = torch.Tensor(attn_matrices.attention_matrices[layer_idx, frm: to+1]).mean(dim=0).squeeze()\n",
    "    visualize_attn_matrix(\n",
    "        attn_matrix=head_matrix,\n",
    "        tokens=[mt.tokenizer.decode(t) for t in tokenized.input_ids[0]],\n",
    "        q_index=-1,\n",
    "        start_from=1\n",
    "    )"
   ]
  },
  {
   "cell_type": "code",
   "execution_count": null,
   "id": "60e64440",
   "metadata": {},
   "outputs": [],
   "source": []
  }
 ],
 "metadata": {
  "kernelspec": {
   "display_name": "connection",
   "language": "python",
   "name": "python3"
  },
  "language_info": {
   "codemirror_mode": {
    "name": "ipython",
    "version": 3
   },
   "file_extension": ".py",
   "mimetype": "text/x-python",
   "name": "python",
   "nbconvert_exporter": "python",
   "pygments_lexer": "ipython3",
   "version": "3.11.11"
  }
 },
 "nbformat": 4,
 "nbformat_minor": 5
}
