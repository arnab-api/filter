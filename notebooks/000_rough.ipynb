{
 "cells": [
  {
   "cell_type": "code",
   "execution_count": 1,
   "id": "d27bb8e2",
   "metadata": {},
   "outputs": [],
   "source": [
    "import json\n",
    "\n",
    "with open(\"claude.json\", \"r\") as f:\n",
    "    obj_claude = json.load(f)\n",
    "\n",
    "with open(\"gemini.json\", \"r\") as f:\n",
    "    obj_gemini = json.load(f)\n",
    "\n",
    "obj_merged = {}\n",
    "for category in obj_claude:\n",
    "    obj_merged[category] = list(set(obj_claude[category]) | set(obj_gemini.get(category, [])))\n",
    "\n",
    "with open(\"claude_gemini_merged.json\", \"w\") as f:\n",
    "    json.dump(obj_merged, f)"
   ]
  },
  {
   "cell_type": "code",
   "execution_count": null,
   "id": "07a34393",
   "metadata": {},
   "outputs": [],
   "source": []
  },
  {
   "cell_type": "code",
   "execution_count": null,
   "id": "d58ed106",
   "metadata": {},
   "outputs": [],
   "source": []
  },
  {
   "cell_type": "code",
   "execution_count": null,
   "id": "b3a80e7c",
   "metadata": {},
   "outputs": [],
   "source": []
  }
 ],
 "metadata": {
  "kernelspec": {
   "display_name": "connection",
   "language": "python",
   "name": "python3"
  },
  "language_info": {
   "codemirror_mode": {
    "name": "ipython",
    "version": 3
   },
   "file_extension": ".py",
   "mimetype": "text/x-python",
   "name": "python",
   "nbconvert_exporter": "python",
   "pygments_lexer": "ipython3",
   "version": "3.11.11"
  }
 },
 "nbformat": 4,
 "nbformat_minor": 5
}
