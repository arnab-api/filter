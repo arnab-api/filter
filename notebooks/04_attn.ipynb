{
 "cells": [
  {
   "cell_type": "code",
   "execution_count": 1,
   "id": "24260918",
   "metadata": {},
   "outputs": [],
   "source": [
    "%load_ext autoreload\n",
    "%autoreload 2"
   ]
  },
  {
   "cell_type": "code",
   "execution_count": 2,
   "id": "c5783b3a",
   "metadata": {},
   "outputs": [
    {
     "name": "stdout",
     "output_type": "stream",
     "text": [
      "2025-07-21 12:07:37 __main__ INFO     torch.__version__='2.7.0+cu126', torch.version.cuda='12.6'\n",
      "2025-07-21 12:07:37 __main__ INFO     torch.cuda.is_available()=True, torch.cuda.device_count()=8, torch.cuda.get_device_name()='NVIDIA A100 80GB PCIe'\n",
      "2025-07-21 12:07:37 __main__ INFO     transformers.__version__='4.51.3'\n"
     ]
    }
   ],
   "source": [
    "import os\n",
    "import json\n",
    "\n",
    "import sys\n",
    "\n",
    "sys.path.append(\"../\")\n",
    "\n",
    "##################################################################\n",
    "os.environ[\"TOKENIZERS_PARALLELISM\"] = \"false\"\n",
    "os.environ[\"CUDA_VISIBLE_DEVICES\"] = \"0,1,2,3,4,5,6,7\"\n",
    "##################################################################\n",
    "\n",
    "import logging\n",
    "from src.utils import logging_utils\n",
    "from src.utils import env_utils\n",
    "\n",
    "logger = logging.getLogger(__name__)\n",
    "\n",
    "logging.basicConfig(\n",
    "    level=logging.DEBUG,\n",
    "    format=logging_utils.DEFAULT_FORMAT,\n",
    "    datefmt=logging_utils.DEFAULT_DATEFMT,\n",
    "    stream=sys.stdout,\n",
    ")\n",
    "\n",
    "import torch\n",
    "import transformers\n",
    "\n",
    "logger.info(f\"{torch.__version__=}, {torch.version.cuda=}\")\n",
    "logger.info(\n",
    "    f\"{torch.cuda.is_available()=}, {torch.cuda.device_count()=}, {torch.cuda.get_device_name()=}\"\n",
    ")\n",
    "logger.info(f\"{transformers.__version__=}\")"
   ]
  },
  {
   "cell_type": "code",
   "execution_count": 3,
   "id": "1cc6a601",
   "metadata": {},
   "outputs": [
    {
     "name": "stdout",
     "output_type": "stream",
     "text": [
      "[2025-07-21 12:07:43,748] [INFO] [real_accelerator.py:239:get_accelerator] Setting ds_accelerator to cuda (auto detect)\n",
      "2025-07-21 12:07:43 root INFO     gcc -pthread -B /disk/u/arnab/miniconda3/envs/connection/compiler_compat -DNDEBUG -fwrapv -O2 -Wall -fPIC -O2 -isystem /disk/u/arnab/miniconda3/envs/connection/include -fPIC -O2 -isystem /disk/u/arnab/miniconda3/envs/connection/include -fPIC -c /tmp/tmpymd7z5cz/test.c -o /tmp/tmpymd7z5cz/test.o\n",
      "2025-07-21 12:07:43 root INFO     gcc -pthread -B /disk/u/arnab/miniconda3/envs/connection/compiler_compat /tmp/tmpymd7z5cz/test.o -laio -o /tmp/tmpymd7z5cz/a.out\n"
     ]
    },
    {
     "name": "stderr",
     "output_type": "stream",
     "text": [
      "/disk/u/arnab/miniconda3/envs/connection/compiler_compat/ld: cannot find -laio: No such file or directory\n",
      "collect2: error: ld returned 1 exit status\n"
     ]
    },
    {
     "name": "stdout",
     "output_type": "stream",
     "text": [
      "2025-07-21 12:07:44 root INFO     gcc -pthread -B /disk/u/arnab/miniconda3/envs/connection/compiler_compat -DNDEBUG -fwrapv -O2 -Wall -fPIC -O2 -isystem /disk/u/arnab/miniconda3/envs/connection/include -fPIC -O2 -isystem /disk/u/arnab/miniconda3/envs/connection/include -fPIC -c /tmp/tmp5057atk5/test.c -o /tmp/tmp5057atk5/test.o\n",
      "2025-07-21 12:07:44 root INFO     gcc -pthread -B /disk/u/arnab/miniconda3/envs/connection/compiler_compat /tmp/tmp5057atk5/test.o -L/usr -L/usr/lib64 -lcufile -o /tmp/tmp5057atk5/a.out\n"
     ]
    },
    {
     "name": "stderr",
     "output_type": "stream",
     "text": [
      "/disk/u/arnab/miniconda3/envs/connection/compiler_compat/ld: cannot find -lcufile: No such file or directory\n",
      "collect2: error: ld returned 1 exit status\n"
     ]
    },
    {
     "name": "stdout",
     "output_type": "stream",
     "text": [
      "2025-07-21 12:07:45 git.cmd DEBUG    Popen(['git', 'version'], cwd=/disk/u/arnab/Codes/Projects/retrieval/notebooks, stdin=None, shell=False, universal_newlines=False)\n",
      "2025-07-21 12:07:45 git.cmd DEBUG    Popen(['git', 'version'], cwd=/disk/u/arnab/Codes/Projects/retrieval/notebooks, stdin=None, shell=False, universal_newlines=False)\n",
      "2025-07-21 12:07:45 wandb.docker.auth DEBUG    Trying paths: ['/disk/u/arnab/.docker/config.json', '/disk/u/arnab/.dockercfg']\n",
      "2025-07-21 12:07:45 wandb.docker.auth DEBUG    No config file found\n"
     ]
    }
   ],
   "source": [
    "from src.utils.training_utils import get_device_map\n",
    "\n",
    "# model_key = \"meta-llama/Llama-3.2-3B\"\n",
    "# model_key = \"meta-llama/Llama-3.1-8B\"\n",
    "model_key = \"meta-llama/Llama-3.3-70B-Instruct\"\n",
    "# model_key = \"meta-llama/Llama-3.1-405B-Instruct\"\n",
    "\n",
    "# model_key = \"google/gemma-2-9b-it\"\n",
    "# model_key = \"google/gemma-3-12b-it\"\n",
    "# model_key = \"google/gemma-2-27b-it\"\n",
    "\n",
    "# model_key = \"deepseek-ai/DeepSeek-R1-Distill-Llama-8B\"\n",
    "\n",
    "# model_key = \"allenai/OLMo-2-1124-7B-Instruct\"\n",
    "# model_key = \"allenai/OLMo-7B-0424-hf\"\n",
    "\n",
    "# model_key = \"Qwen/Qwen2-7B\"\n",
    "# model_key = \"Qwen/Qwen2.5-14B-Instruct\"\n",
    "# model_key = \"Qwen/Qwen2.5-32B-Instruct\"\n",
    "# model_key = \"Qwen/Qwen2.5-72B-Instruct\"\n",
    "\n",
    "# model_key = \"Qwen/Qwen3-1.7B\"\n",
    "# model_key = \"Qwen/Qwen3-4B\"\n",
    "# model_key = \"Qwen/Qwen3-8B\"\n",
    "# model_key = \"Qwen/Qwen3-14B\"\n",
    "# model_key = \"Qwen/Qwen3-32B\"\n",
    "\n",
    "# device_map = get_device_map(model_key, 30, n_gpus=8)\n",
    "# device_map"
   ]
  },
  {
   "cell_type": "code",
   "execution_count": 4,
   "id": "998bc0c4",
   "metadata": {},
   "outputs": [],
   "source": [
    "# os.environ[\"BNB_CUDA_VERSION\"] = \"124\"\n",
    "# ! echo $BNB_CUDA_VERSION\n",
    "# ! python -m bitsandbytes"
   ]
  },
  {
   "cell_type": "code",
   "execution_count": 5,
   "id": "dacaf064",
   "metadata": {},
   "outputs": [
    {
     "name": "stdout",
     "output_type": "stream",
     "text": [
      "2025-07-21 12:07:50 src.models WARNING  meta-llama/Llama-3.3-70B-Instruct not found in /disk/u/arnab/Codes/Models\n",
      "If not found in cache, model will be downloaded from HuggingFace to cache directory\n",
      "2025-07-21 12:07:50 urllib3.connectionpool DEBUG    Starting new HTTPS connection (1): huggingface.co:443\n",
      "2025-07-21 12:07:50 urllib3.connectionpool DEBUG    https://huggingface.co:443 \"HEAD /meta-llama/Llama-3.3-70B-Instruct/resolve/main/config.json HTTP/1.1\" 200 0\n",
      "2025-07-21 12:07:50 urllib3.connectionpool DEBUG    https://huggingface.co:443 \"HEAD /meta-llama/Llama-3.3-70B-Instruct/resolve/main/tokenizer_config.json HTTP/1.1\" 200 0\n"
     ]
    },
    {
     "data": {
      "application/vnd.jupyter.widget-view+json": {
       "model_id": "ddaa87d039a3425386169dc19d06d385",
       "version_major": 2,
       "version_minor": 0
      },
      "text/plain": [
       "Loading checkpoint shards:   0%|          | 0/30 [00:00<?, ?it/s]"
      ]
     },
     "metadata": {},
     "output_type": "display_data"
    },
    {
     "name": "stdout",
     "output_type": "stream",
     "text": [
      "2025-07-21 12:08:36 urllib3.connectionpool DEBUG    https://huggingface.co:443 \"HEAD /meta-llama/Llama-3.3-70B-Instruct/resolve/main/generation_config.json HTTP/1.1\" 200 0\n",
      "2025-07-21 12:08:37 src.models INFO     loaded model <meta-llama/Llama-3.3-70B-Instruct> | size: 134570.516 MB | dtype: torch.bfloat16 | device: cuda:0\n"
     ]
    }
   ],
   "source": [
    "from src.models import ModelandTokenizer\n",
    "\n",
    "# from transformers import BitsAndBytesConfig\n",
    "\n",
    "mt = ModelandTokenizer(\n",
    "    model_key=model_key,\n",
    "    torch_dtype=torch.bfloat16,\n",
    "    # device_map=device_map,\n",
    "    device_map=\"auto\",\n",
    "    # quantization_config = BitsAndBytesConfig(\n",
    "    #     # load_in_4bit=True\n",
    "    #     load_in_8bit=True\n",
    "    # )\n",
    ")"
   ]
  },
  {
   "cell_type": "code",
   "execution_count": 6,
   "id": "fb1ec0ca",
   "metadata": {},
   "outputs": [
    {
     "name": "stdout",
     "output_type": "stream",
     "text": [
      "['trainable_params.pt']\n"
     ]
    },
    {
     "data": {
      "text/plain": [
       "tensor(0.0010, dtype=torch.bfloat16, grad_fn=<MaxBackward1>)"
      ]
     },
     "execution_count": 6,
     "metadata": {},
     "output_type": "execute_result"
    }
   ],
   "source": [
    "from src.functional import free_gpu_cache\n",
    "\n",
    "# SYNTH_DATASET = \"icosahedron_1\"\n",
    "SYNTH_DATASET = \"64\"\n",
    "\n",
    "checkpoint_path = os.path.join(\n",
    "    env_utils.DEFAULT_RESULTS_DIR,\n",
    "    \"trained_params\",\n",
    "    f\"{SYNTH_DATASET}\",\n",
    "    \"_full__clamp=0.001\",\n",
    "    model_key.split(\"/\")[-1],\n",
    ")\n",
    "\n",
    "version = \"epoch_1\"\n",
    "# version = \"final_model\"\n",
    "\n",
    "checkpoint_path = os.path.join(env_utils.DEFAULT_RESULTS_DIR, checkpoint_path, version)\n",
    "\n",
    "print(os.listdir(checkpoint_path))\n",
    "\n",
    "checkpoint_path = os.path.join(checkpoint_path, \"trainable_params.pt\")\n",
    "\n",
    "loaded_deltas = torch.load(checkpoint_path, map_location=\"cpu\")\n",
    "# loaded_deltas\n",
    "\n",
    "free_gpu_cache()\n",
    "\n",
    "\n",
    "d = loaded_deltas[\"model<>layers<>10<>mlp<>gate_proj\"]\n",
    "d.abs().max()"
   ]
  },
  {
   "cell_type": "code",
   "execution_count": 7,
   "id": "22003ab2",
   "metadata": {},
   "outputs": [
    {
     "name": "stdout",
     "output_type": "stream",
     "text": [
      "2025-07-21 12:08:49 src.utils.training_utils DEBUG    module_name='model.layers.0.mlp.gate_proj' | param_delta.shape=torch.Size([28672, 8192])\n",
      "2025-07-21 12:08:49 src.utils.training_utils DEBUG    module_name='model.layers.0.mlp.up_proj' | param_delta.shape=torch.Size([28672, 8192])\n",
      "2025-07-21 12:08:49 src.utils.training_utils DEBUG    module_name='model.layers.0.mlp.down_proj' | param_delta.shape=torch.Size([8192, 28672])\n",
      "2025-07-21 12:08:49 src.utils.training_utils DEBUG    module_name='model.layers.1.mlp.gate_proj' | param_delta.shape=torch.Size([28672, 8192])\n",
      "2025-07-21 12:08:49 src.utils.training_utils DEBUG    module_name='model.layers.1.mlp.up_proj' | param_delta.shape=torch.Size([28672, 8192])\n",
      "2025-07-21 12:08:50 src.utils.training_utils DEBUG    module_name='model.layers.1.mlp.down_proj' | param_delta.shape=torch.Size([8192, 28672])\n",
      "2025-07-21 12:08:50 src.utils.training_utils DEBUG    module_name='model.layers.2.mlp.gate_proj' | param_delta.shape=torch.Size([28672, 8192])\n",
      "2025-07-21 12:08:50 src.utils.training_utils DEBUG    module_name='model.layers.2.mlp.up_proj' | param_delta.shape=torch.Size([28672, 8192])\n",
      "2025-07-21 12:08:50 src.utils.training_utils DEBUG    module_name='model.layers.2.mlp.down_proj' | param_delta.shape=torch.Size([8192, 28672])\n",
      "2025-07-21 12:08:50 src.utils.training_utils DEBUG    module_name='model.layers.3.mlp.gate_proj' | param_delta.shape=torch.Size([28672, 8192])\n",
      "2025-07-21 12:08:50 src.utils.training_utils DEBUG    module_name='model.layers.3.mlp.up_proj' | param_delta.shape=torch.Size([28672, 8192])\n",
      "2025-07-21 12:08:50 src.utils.training_utils DEBUG    module_name='model.layers.3.mlp.down_proj' | param_delta.shape=torch.Size([8192, 28672])\n",
      "2025-07-21 12:08:50 src.utils.training_utils DEBUG    module_name='model.layers.4.mlp.gate_proj' | param_delta.shape=torch.Size([28672, 8192])\n",
      "2025-07-21 12:08:51 src.utils.training_utils DEBUG    module_name='model.layers.4.mlp.up_proj' | param_delta.shape=torch.Size([28672, 8192])\n",
      "2025-07-21 12:08:51 src.utils.training_utils DEBUG    module_name='model.layers.4.mlp.down_proj' | param_delta.shape=torch.Size([8192, 28672])\n",
      "2025-07-21 12:08:51 src.utils.training_utils DEBUG    module_name='model.layers.5.mlp.gate_proj' | param_delta.shape=torch.Size([28672, 8192])\n",
      "2025-07-21 12:08:51 src.utils.training_utils DEBUG    module_name='model.layers.5.mlp.up_proj' | param_delta.shape=torch.Size([28672, 8192])\n",
      "2025-07-21 12:08:51 src.utils.training_utils DEBUG    module_name='model.layers.5.mlp.down_proj' | param_delta.shape=torch.Size([8192, 28672])\n",
      "2025-07-21 12:08:51 src.utils.training_utils DEBUG    module_name='model.layers.6.mlp.gate_proj' | param_delta.shape=torch.Size([28672, 8192])\n",
      "2025-07-21 12:08:51 src.utils.training_utils DEBUG    module_name='model.layers.6.mlp.up_proj' | param_delta.shape=torch.Size([28672, 8192])\n",
      "2025-07-21 12:08:51 src.utils.training_utils DEBUG    module_name='model.layers.6.mlp.down_proj' | param_delta.shape=torch.Size([8192, 28672])\n",
      "2025-07-21 12:08:51 src.utils.training_utils DEBUG    module_name='model.layers.7.mlp.gate_proj' | param_delta.shape=torch.Size([28672, 8192])\n",
      "2025-07-21 12:08:51 src.utils.training_utils DEBUG    module_name='model.layers.7.mlp.up_proj' | param_delta.shape=torch.Size([28672, 8192])\n",
      "2025-07-21 12:08:52 src.utils.training_utils DEBUG    module_name='model.layers.7.mlp.down_proj' | param_delta.shape=torch.Size([8192, 28672])\n",
      "2025-07-21 12:08:52 src.utils.training_utils DEBUG    module_name='model.layers.8.mlp.gate_proj' | param_delta.shape=torch.Size([28672, 8192])\n",
      "2025-07-21 12:08:52 src.utils.training_utils DEBUG    module_name='model.layers.8.mlp.up_proj' | param_delta.shape=torch.Size([28672, 8192])\n",
      "2025-07-21 12:08:52 src.utils.training_utils DEBUG    module_name='model.layers.8.mlp.down_proj' | param_delta.shape=torch.Size([8192, 28672])\n",
      "2025-07-21 12:08:52 src.utils.training_utils DEBUG    module_name='model.layers.9.mlp.gate_proj' | param_delta.shape=torch.Size([28672, 8192])\n",
      "2025-07-21 12:08:52 src.utils.training_utils DEBUG    module_name='model.layers.9.mlp.up_proj' | param_delta.shape=torch.Size([28672, 8192])\n",
      "2025-07-21 12:08:52 src.utils.training_utils DEBUG    module_name='model.layers.9.mlp.down_proj' | param_delta.shape=torch.Size([8192, 28672])\n",
      "2025-07-21 12:08:52 src.utils.training_utils DEBUG    module_name='model.layers.10.mlp.gate_proj' | param_delta.shape=torch.Size([28672, 8192])\n",
      "2025-07-21 12:08:52 src.utils.training_utils DEBUG    module_name='model.layers.10.mlp.up_proj' | param_delta.shape=torch.Size([28672, 8192])\n",
      "2025-07-21 12:08:53 src.utils.training_utils DEBUG    module_name='model.layers.10.mlp.down_proj' | param_delta.shape=torch.Size([8192, 28672])\n",
      "2025-07-21 12:08:53 src.utils.training_utils DEBUG    module_name='model.layers.11.mlp.gate_proj' | param_delta.shape=torch.Size([28672, 8192])\n",
      "2025-07-21 12:08:53 src.utils.training_utils DEBUG    module_name='model.layers.11.mlp.up_proj' | param_delta.shape=torch.Size([28672, 8192])\n",
      "2025-07-21 12:08:53 src.utils.training_utils DEBUG    module_name='model.layers.11.mlp.down_proj' | param_delta.shape=torch.Size([8192, 28672])\n",
      "2025-07-21 12:08:53 src.utils.training_utils DEBUG    module_name='model.layers.12.mlp.gate_proj' | param_delta.shape=torch.Size([28672, 8192])\n",
      "2025-07-21 12:08:53 src.utils.training_utils DEBUG    module_name='model.layers.12.mlp.up_proj' | param_delta.shape=torch.Size([28672, 8192])\n",
      "2025-07-21 12:08:53 src.utils.training_utils DEBUG    module_name='model.layers.12.mlp.down_proj' | param_delta.shape=torch.Size([8192, 28672])\n",
      "2025-07-21 12:08:53 src.utils.training_utils DEBUG    module_name='model.layers.13.mlp.gate_proj' | param_delta.shape=torch.Size([28672, 8192])\n",
      "2025-07-21 12:08:53 src.utils.training_utils DEBUG    module_name='model.layers.13.mlp.up_proj' | param_delta.shape=torch.Size([28672, 8192])\n",
      "2025-07-21 12:08:53 src.utils.training_utils DEBUG    module_name='model.layers.13.mlp.down_proj' | param_delta.shape=torch.Size([8192, 28672])\n",
      "2025-07-21 12:08:54 src.utils.training_utils DEBUG    module_name='model.layers.14.mlp.gate_proj' | param_delta.shape=torch.Size([28672, 8192])\n",
      "2025-07-21 12:08:54 src.utils.training_utils DEBUG    module_name='model.layers.14.mlp.up_proj' | param_delta.shape=torch.Size([28672, 8192])\n",
      "2025-07-21 12:08:54 src.utils.training_utils DEBUG    module_name='model.layers.14.mlp.down_proj' | param_delta.shape=torch.Size([8192, 28672])\n"
     ]
    }
   ],
   "source": [
    "from src.utils.training_utils import TrainableLM_delta, TrainableLM_LoRA\n",
    "\n",
    "#################################################\n",
    "Trainable_CLS = TrainableLM_delta\n",
    "# Trainable_CLS = TrainableLM_LoRA\n",
    "#################################################\n",
    "\n",
    "Trainable_CLS.fuse_with_model(mt._model, loaded_deltas)"
   ]
  },
  {
   "cell_type": "code",
   "execution_count": 8,
   "id": "b7d5ca30",
   "metadata": {},
   "outputs": [
    {
     "name": "stdout",
     "output_type": "stream",
     "text": [
      "2025-07-21 12:08:54 src.selection.data INFO     Loaded 16 categories\n"
     ]
    },
    {
     "data": {
      "text/plain": [
       "['actor',\n",
       " 'singer',\n",
       " 'comedian',\n",
       " 'director',\n",
       " 'basketball player',\n",
       " 'football player',\n",
       " 'soccer player',\n",
       " 'tennis player',\n",
       " 'golfer',\n",
       " 'boxer',\n",
       " 'news anchor',\n",
       " 'journalist',\n",
       " 'author',\n",
       " 'fashion designer',\n",
       " 'entrepreneur',\n",
       " 'politician']"
      ]
     },
     "execution_count": 8,
     "metadata": {},
     "output_type": "execute_result"
    }
   ],
   "source": [
    "from src.selection.data  import load_people_by_category\n",
    "\n",
    "people_by_category = load_people_by_category(tokenizer = mt.tokenizer)\n",
    "list(people_by_category.keys())"
   ]
  },
  {
   "cell_type": "code",
   "execution_count": 114,
   "id": "8afae324",
   "metadata": {},
   "outputs": [
    {
     "name": "stdout",
     "output_type": "stream",
     "text": [
      "Mike Pence -> Josh Hawley (2): ['Anthony Davis', 'Jane Mayer', 'Josh Hawley', 'Chuck Todd', 'Paulo Dybala', 'Marc Jacobs']\n",
      "Which person from the following list has the profession in common with Mike Pence?\n",
      "Options: Anthony Davis, Jane Mayer, Josh Hawley, Chuck Todd, Paulo Dybala, Marc Jacobs.\n",
      "Ans:  >>  \"Josh Hawley\"\n"
     ]
    },
    {
     "data": {
      "text/plain": [
       "[PredictedToken(token=' Josh', prob=0.70703125, logit=19.25, token_id=18747, metadata=None),\n",
       " PredictedToken(token=' Mike', prob=0.05810546875, logit=16.75, token_id=11519, metadata=None),\n",
       " PredictedToken(token=' The', prob=0.045166015625, logit=16.5, token_id=578, metadata=None),\n",
       " PredictedToken(token=' Chuck', prob=0.039794921875, logit=16.375, token_id=34349, metadata=None),\n",
       " PredictedToken(token=' None', prob=0.039794921875, logit=16.375, token_id=2290, metadata=None)]"
      ]
     },
     "execution_count": 114,
     "metadata": {},
     "output_type": "execute_result"
    }
   ],
   "source": [
    "from src.selection.data import SelectionSample, get_random_sample\n",
    "\n",
    "sample = get_random_sample(\n",
    "    people_by_category=people_by_category,\n",
    "    mt=mt,\n",
    "    n_distractors=5,\n",
    "    get_alt_obj=True,\n",
    "    # category=\"actor\",\n",
    "    # obj_idx=2,\n",
    "    filter_by_lm_prediction=True,\n",
    ")\n",
    "print(sample)\n",
    "print(sample.prompt, \" >> \", f'\"{sample.obj}\"')\n",
    "sample.prediction"
   ]
  },
  {
   "cell_type": "markdown",
   "id": "aac62b51",
   "metadata": {},
   "source": [
    "## ATTN pattrn for single example"
   ]
  },
  {
   "cell_type": "code",
   "execution_count": 115,
   "id": "e61da235",
   "metadata": {},
   "outputs": [
    {
     "name": "stdout",
     "output_type": "stream",
     "text": [
      "odict_keys(['last_hidden_state', 'past_key_values', 'attentions'])\n",
      "torch.Size([128256])\n",
      "2025-07-21 15:13:20 src.attention DEBUG    attentions.shape=torch.Size([80, 64, 41, 41]) | values.shape=torch.Size([80, 64, 41, 128])\n"
     ]
    },
    {
     "data": {
      "text/plain": [
       "[PredictedToken(token=' Josh', prob=0.70703125, logit=19.25, token_id=18747, metadata=None),\n",
       " PredictedToken(token=' Mike', prob=0.05810546875, logit=16.75, token_id=11519, metadata=None),\n",
       " PredictedToken(token=' The', prob=0.045166015625, logit=16.5, token_id=578, metadata=None),\n",
       " PredictedToken(token=' Chuck', prob=0.039794921875, logit=16.375, token_id=34349, metadata=None),\n",
       " PredictedToken(token=' None', prob=0.039794921875, logit=16.375, token_id=2290, metadata=None)]"
      ]
     },
     "execution_count": 115,
     "metadata": {},
     "output_type": "execute_result"
    }
   ],
   "source": [
    "from src.tokens import prepare_input\n",
    "from src.attention import get_attention_matrices\n",
    "from src.functional import interpret_logits\n",
    "\n",
    "tokenized = prepare_input(\n",
    "    tokenizer=mt,\n",
    "    prompts=sample.prompt,\n",
    "    return_offsets_mapping=True\n",
    ")\n",
    "\n",
    "attn_matrices = get_attention_matrices(\n",
    "    input = tokenized,\n",
    "    mt = mt,\n",
    "    value_weighted=True,\n",
    "    # patches = []\n",
    ")\n",
    "\n",
    "interpret_logits(tokenizer=mt, logits = attn_matrices.logits)"
   ]
  },
  {
   "cell_type": "code",
   "execution_count": 116,
   "id": "d93022aa",
   "metadata": {},
   "outputs": [
    {
     "data": {
      "text/plain": [
       "(80, 64, 41, 41)"
      ]
     },
     "execution_count": 116,
     "metadata": {},
     "output_type": "execute_result"
    }
   ],
   "source": [
    "attn_matrices.attention_matrices.shape"
   ]
  },
  {
   "cell_type": "code",
   "execution_count": 117,
   "id": "816b828b",
   "metadata": {},
   "outputs": [
    {
     "name": "stdout",
     "output_type": "stream",
     "text": [
      "layer=0\n"
     ]
    },
    {
     "data": {
      "text/html": [
       "<div id=\"circuits-vis-0cd2318e-3f00\" style=\"margin: 15px 0;\"/>\n",
       "    <script crossorigin type=\"module\">\n",
       "    import { render, ColoredTokens } from \"https://unpkg.com/circuitsvis@1.43.3/dist/cdn/esm.js\";\n",
       "    render(\n",
       "      \"circuits-vis-0cd2318e-3f00\",\n",
       "      ColoredTokens,\n",
       "      {\"tokens\": [\"Which\", \" person\", \" from\", \" the\", \" following\", \" list\", \" has\", \" the\", \" profession\", \" in\", \" common\", \" with\", \" Mike\", \" Pence\", \"?\\n\", \"Options\", \":\", \" Anthony\", \" Davis\", \",\", \" Jane\", \" Mayer\", \",\", \" Josh\", \" Haw\", \"ley\", \",\", \" Chuck\", \" Todd\", \",\", \" Paulo\", \" Dy\", \"b\", \"ala\", \",\", \" Marc\", \" Jacobs\", \".\\n\", \"Ans\", \":\"], \"values\": [0.000653019524179399, 0.00048461020924150944, 0.00040950370021164417, 0.0004930429859086871, 0.0004884330555796623, 0.0003860516007989645, 0.00035628071054816246, 0.0005960260750725865, 0.0004942614468745887, 0.0004356308782007545, 0.00037111021811142564, 0.00039633637061342597, 0.00038873861194588244, 0.00042686323286034167, 0.0011264292988926172, 0.00045822488027624786, 0.0005129734054207802, 0.00039005500730127096, 0.0003758842940442264, 0.0007429597899317741, 0.0004249010235071182, 0.000413503817981109, 0.0007088826969265938, 0.00046612272853963077, 0.0004977325443178415, 0.00047668421757407486, 0.0007950533181428909, 0.0005484389839693904, 0.0004630112962331623, 0.0008168965578079224, 0.0005438958760350943, 0.000601068721152842, 0.0005263066850602627, 0.000547999981790781, 0.0009803147986531258, 0.000903770443983376, 0.0008290380937978625, 0.003249715780839324, 0.0028211488388478756, 0.0016941074281930923]}\n",
       "    )\n",
       "    </script>"
      ],
      "text/plain": [
       "<circuitsvis.utils.render.RenderedHTML at 0x7f99381cfa90>"
      ]
     },
     "metadata": {},
     "output_type": "display_data"
    },
    {
     "name": "stdout",
     "output_type": "stream",
     "text": [
      "--------------------------------------------------------------------------------\n",
      "layer=1\n"
     ]
    },
    {
     "data": {
      "text/html": [
       "<div id=\"circuits-vis-694219db-bf95\" style=\"margin: 15px 0;\"/>\n",
       "    <script crossorigin type=\"module\">\n",
       "    import { render, ColoredTokens } from \"https://unpkg.com/circuitsvis@1.43.3/dist/cdn/esm.js\";\n",
       "    render(\n",
       "      \"circuits-vis-694219db-bf95\",\n",
       "      ColoredTokens,\n",
       "      {\"tokens\": [\"Which\", \" person\", \" from\", \" the\", \" following\", \" list\", \" has\", \" the\", \" profession\", \" in\", \" common\", \" with\", \" Mike\", \" Pence\", \"?\\n\", \"Options\", \":\", \" Anthony\", \" Davis\", \",\", \" Jane\", \" Mayer\", \",\", \" Josh\", \" Haw\", \"ley\", \",\", \" Chuck\", \" Todd\", \",\", \" Paulo\", \" Dy\", \"b\", \"ala\", \",\", \" Marc\", \" Jacobs\", \".\\n\", \"Ans\", \":\"], \"values\": [0.0011016279458999634, 0.00034598447382450104, 0.0001864192308858037, 0.00024134849081747234, 0.0006635657045990229, 0.00032104155980050564, 0.00021576695144176483, 0.00033227354288101196, 0.0003790101036429405, 0.00016477216558996588, 0.00020171422511339188, 0.0001073768362402916, 0.0003306022845208645, 0.00042266957461833954, 0.0025202110409736633, 0.0004987665452063084, 0.0013133411994203925, 0.0002797548077069223, 0.00027618580497801304, 0.00038064271211624146, 0.00033021578565239906, 0.0003020146396011114, 0.00026176421670243144, 0.0003001207369379699, 0.00024294713512063026, 0.00026877690106630325, 0.0003529731184244156, 0.0003054009284824133, 0.00024181784829124808, 0.0002787485718727112, 0.0002669217064976692, 0.0004318859428167343, 0.00035611633211374283, 0.00038156480877660215, 0.0004226069722790271, 0.0004891069838777184, 0.000700916163623333, 0.0034668520092964172, 0.010299665853381157, 0.002436690032482147]}\n",
       "    )\n",
       "    </script>"
      ],
      "text/plain": [
       "<circuitsvis.utils.render.RenderedHTML at 0x7f9938328ad0>"
      ]
     },
     "metadata": {},
     "output_type": "display_data"
    },
    {
     "name": "stdout",
     "output_type": "stream",
     "text": [
      "--------------------------------------------------------------------------------\n",
      "layer=2\n"
     ]
    },
    {
     "data": {
      "text/html": [
       "<div id=\"circuits-vis-24c0176e-fdf7\" style=\"margin: 15px 0;\"/>\n",
       "    <script crossorigin type=\"module\">\n",
       "    import { render, ColoredTokens } from \"https://unpkg.com/circuitsvis@1.43.3/dist/cdn/esm.js\";\n",
       "    render(\n",
       "      \"circuits-vis-24c0176e-fdf7\",\n",
       "      ColoredTokens,\n",
       "      {\"tokens\": [\"Which\", \" person\", \" from\", \" the\", \" following\", \" list\", \" has\", \" the\", \" profession\", \" in\", \" common\", \" with\", \" Mike\", \" Pence\", \"?\\n\", \"Options\", \":\", \" Anthony\", \" Davis\", \",\", \" Jane\", \" Mayer\", \",\", \" Josh\", \" Haw\", \"ley\", \",\", \" Chuck\", \" Todd\", \",\", \" Paulo\", \" Dy\", \"b\", \"ala\", \",\", \" Marc\", \" Jacobs\", \".\\n\", \"Ans\", \":\"], \"values\": [0.0007885033264756203, 0.00030168588273227215, 0.00016517454059794545, 0.0001408087118761614, 0.00033390679163858294, 0.000320189050398767, 0.00017969857435673475, 0.00019174721091985703, 0.00030672550201416016, 9.163690265268087e-05, 0.000152813910972327, 9.230947762262076e-05, 0.00023777829483151436, 0.0002578841522336006, 0.0008747698739171028, 0.00041713123209774494, 0.000643251754809171, 0.0002993711968883872, 0.0002321329666301608, 0.00019660149700939655, 0.0002678193850442767, 0.00025254359934479, 0.0001482938532717526, 0.00021518627181649208, 0.0001697724510449916, 0.0002096021780744195, 0.0001827864907681942, 0.0002565879840403795, 0.0002099276753142476, 0.00016685777518432587, 0.0002519870176911354, 0.00036682747304439545, 0.0002207376528531313, 0.00021344516426324844, 0.0003370944759808481, 0.0005205409252084792, 0.0009305644780397415, 0.0037284567952156067, 0.01979900896549225, 0.002116892486810684]}\n",
       "    )\n",
       "    </script>"
      ],
      "text/plain": [
       "<circuitsvis.utils.render.RenderedHTML at 0x7f993858a6d0>"
      ]
     },
     "metadata": {},
     "output_type": "display_data"
    },
    {
     "name": "stdout",
     "output_type": "stream",
     "text": [
      "--------------------------------------------------------------------------------\n",
      "layer=3\n"
     ]
    },
    {
     "data": {
      "text/html": [
       "<div id=\"circuits-vis-052d2037-5522\" style=\"margin: 15px 0;\"/>\n",
       "    <script crossorigin type=\"module\">\n",
       "    import { render, ColoredTokens } from \"https://unpkg.com/circuitsvis@1.43.3/dist/cdn/esm.js\";\n",
       "    render(\n",
       "      \"circuits-vis-052d2037-5522\",\n",
       "      ColoredTokens,\n",
       "      {\"tokens\": [\"Which\", \" person\", \" from\", \" the\", \" following\", \" list\", \" has\", \" the\", \" profession\", \" in\", \" common\", \" with\", \" Mike\", \" Pence\", \"?\\n\", \"Options\", \":\", \" Anthony\", \" Davis\", \",\", \" Jane\", \" Mayer\", \",\", \" Josh\", \" Haw\", \"ley\", \",\", \" Chuck\", \" Todd\", \",\", \" Paulo\", \" Dy\", \"b\", \"ala\", \",\", \" Marc\", \" Jacobs\", \".\\n\", \"Ans\", \":\"], \"values\": [0.0015863701701164246, 0.0007866956293582916, 0.0004591066390275955, 0.0003105001524090767, 0.0004808169323951006, 0.0005784332752227783, 0.0002908725291490555, 0.00033265165984630585, 0.0005777664482593536, 0.00018384959548711777, 0.00027606822550296783, 0.00016179773956537247, 0.0006888825446367264, 0.0006776601076126099, 0.002472326159477234, 0.0015372484922409058, 0.0017736777663230896, 0.0019432445988059044, 0.0007300842553377151, 0.0007874853909015656, 0.0006742104887962341, 0.0006437525153160095, 0.0003865011967718601, 0.00041118403896689415, 0.00025438331067562103, 0.0005780234932899475, 0.00029553845524787903, 0.0004306863993406296, 0.00046769436448812485, 0.00023721624165773392, 0.00036869384348392487, 0.0002506822347640991, 0.00024833716452121735, 0.0004020519554615021, 0.00028246588772162795, 0.000344778411090374, 0.0007627680897712708, 0.0028097331523895264, 0.008440911769866943, 0.0029067248106002808]}\n",
       "    )\n",
       "    </script>"
      ],
      "text/plain": [
       "<circuitsvis.utils.render.RenderedHTML at 0x7f72e5fb8990>"
      ]
     },
     "metadata": {},
     "output_type": "display_data"
    },
    {
     "name": "stdout",
     "output_type": "stream",
     "text": [
      "--------------------------------------------------------------------------------\n",
      "layer=4\n"
     ]
    },
    {
     "data": {
      "text/html": [
       "<div id=\"circuits-vis-4bc4b161-d7e6\" style=\"margin: 15px 0;\"/>\n",
       "    <script crossorigin type=\"module\">\n",
       "    import { render, ColoredTokens } from \"https://unpkg.com/circuitsvis@1.43.3/dist/cdn/esm.js\";\n",
       "    render(\n",
       "      \"circuits-vis-4bc4b161-d7e6\",\n",
       "      ColoredTokens,\n",
       "      {\"tokens\": [\"Which\", \" person\", \" from\", \" the\", \" following\", \" list\", \" has\", \" the\", \" profession\", \" in\", \" common\", \" with\", \" Mike\", \" Pence\", \"?\\n\", \"Options\", \":\", \" Anthony\", \" Davis\", \",\", \" Jane\", \" Mayer\", \",\", \" Josh\", \" Haw\", \"ley\", \",\", \" Chuck\", \" Todd\", \",\", \" Paulo\", \" Dy\", \"b\", \"ala\", \",\", \" Marc\", \" Jacobs\", \".\\n\", \"Ans\", \":\"], \"values\": [0.0016376841813325882, 0.0010004458017647266, 0.0004349895752966404, 0.00015581457410007715, 0.0007226231973618269, 0.0017787693068385124, 0.0005453606136143208, 0.0002966979518532753, 0.0009110663086175919, 0.0002541853755246848, 0.00044247449841350317, 0.00044324540067464113, 0.00037047266960144043, 0.0008973013609647751, 0.0034986138343811035, 0.0019075467716902494, 0.0025493367575109005, 0.0005820604274049401, 0.000706227496266365, 0.0008093435317277908, 0.0005250219255685806, 0.0007131695747375488, 0.0005233895499259233, 0.0004151965258643031, 0.0002743820659816265, 0.0008181296288967133, 0.0005387924611568451, 0.00032188952900469303, 0.0007012225687503815, 0.0004984361585229635, 0.00044410908594727516, 0.0003251745365560055, 0.00028873514384031296, 0.0007044081576168537, 0.0006221554940566421, 0.00041365280048921704, 0.001439434476196766, 0.004621562547981739, 0.011840887367725372, 0.004858657717704773]}\n",
       "    )\n",
       "    </script>"
      ],
      "text/plain": [
       "<circuitsvis.utils.render.RenderedHTML at 0x7f99381cc3d0>"
      ]
     },
     "metadata": {},
     "output_type": "display_data"
    },
    {
     "name": "stdout",
     "output_type": "stream",
     "text": [
      "--------------------------------------------------------------------------------\n",
      "layer=5\n"
     ]
    },
    {
     "data": {
      "text/html": [
       "<div id=\"circuits-vis-1c87b6e8-6771\" style=\"margin: 15px 0;\"/>\n",
       "    <script crossorigin type=\"module\">\n",
       "    import { render, ColoredTokens } from \"https://unpkg.com/circuitsvis@1.43.3/dist/cdn/esm.js\";\n",
       "    render(\n",
       "      \"circuits-vis-1c87b6e8-6771\",\n",
       "      ColoredTokens,\n",
       "      {\"tokens\": [\"Which\", \" person\", \" from\", \" the\", \" following\", \" list\", \" has\", \" the\", \" profession\", \" in\", \" common\", \" with\", \" Mike\", \" Pence\", \"?\\n\", \"Options\", \":\", \" Anthony\", \" Davis\", \",\", \" Jane\", \" Mayer\", \",\", \" Josh\", \" Haw\", \"ley\", \",\", \" Chuck\", \" Todd\", \",\", \" Paulo\", \" Dy\", \"b\", \"ala\", \",\", \" Marc\", \" Jacobs\", \".\\n\", \"Ans\", \":\"], \"values\": [0.0022827982902526855, 0.0007085390388965607, 0.0006884634494781494, 0.00036937056574970484, 0.0010728791821748018, 0.001071208156645298, 0.0008199997246265411, 0.00048463232815265656, 0.0006386982277035713, 0.0003616069443523884, 0.0006299871020019054, 0.0005594342947006226, 0.00042985379695892334, 0.000879928469657898, 0.0037637650966644287, 0.002199145033955574, 0.0032574590295553207, 0.0009665451943874359, 0.0006851200014352798, 0.0010408125817775726, 0.0005257520824670792, 0.0005907770246267319, 0.0005286731757223606, 0.0003876637201756239, 0.0003319794777780771, 0.0006190184503793716, 0.00042350124567747116, 0.0002768603153526783, 0.0006804391741752625, 0.0003780955448746681, 0.00040124449878931046, 0.00024256668984889984, 0.00013686809688806534, 0.0005220472812652588, 0.0005013961344957352, 0.00032889749854803085, 0.0008289082907140255, 0.0037292689085006714, 0.007290065288543701, 0.004851602017879486]}\n",
       "    )\n",
       "    </script>"
      ],
      "text/plain": [
       "<circuitsvis.utils.render.RenderedHTML at 0x7f99381192d0>"
      ]
     },
     "metadata": {},
     "output_type": "display_data"
    },
    {
     "name": "stdout",
     "output_type": "stream",
     "text": [
      "--------------------------------------------------------------------------------\n",
      "layer=6\n"
     ]
    },
    {
     "data": {
      "text/html": [
       "<div id=\"circuits-vis-9795db0c-b0bb\" style=\"margin: 15px 0;\"/>\n",
       "    <script crossorigin type=\"module\">\n",
       "    import { render, ColoredTokens } from \"https://unpkg.com/circuitsvis@1.43.3/dist/cdn/esm.js\";\n",
       "    render(\n",
       "      \"circuits-vis-9795db0c-b0bb\",\n",
       "      ColoredTokens,\n",
       "      {\"tokens\": [\"Which\", \" person\", \" from\", \" the\", \" following\", \" list\", \" has\", \" the\", \" profession\", \" in\", \" common\", \" with\", \" Mike\", \" Pence\", \"?\\n\", \"Options\", \":\", \" Anthony\", \" Davis\", \",\", \" Jane\", \" Mayer\", \",\", \" Josh\", \" Haw\", \"ley\", \",\", \" Chuck\", \" Todd\", \",\", \" Paulo\", \" Dy\", \"b\", \"ala\", \",\", \" Marc\", \" Jacobs\", \".\\n\", \"Ans\", \":\"], \"values\": [0.002418413758277893, 0.0018027424812316895, 0.000965505838394165, 0.00021066190674901009, 0.0006680674850940704, 0.0013027042150497437, 0.0014765076339244843, 0.0005012396723031998, 0.0011394880712032318, 0.0005771806463599205, 0.0008983341977000237, 0.0007825784850865602, 0.0007198117673397064, 0.0010682865977287292, 0.0033773183822631836, 0.0036714375019073486, 0.006621954962611198, 0.0026344694197177887, 0.0010210908949375153, 0.0021866261959075928, 0.000659409910440445, 0.0008502453565597534, 0.0007704608142375946, 0.00041867978870868683, 0.0004127025604248047, 0.0006291493773460388, 0.0005240961909294128, 0.00035488978028297424, 0.0006278418004512787, 0.0004891250282526016, 0.00048499368131160736, 0.0002986229956150055, 0.00014017056673765182, 0.00043114833533763885, 0.0005457159131765366, 0.00030015408992767334, 0.0007083304226398468, 0.0027116239070892334, 0.006607167422771454, 0.006407611072063446]}\n",
       "    )\n",
       "    </script>"
      ],
      "text/plain": [
       "<circuitsvis.utils.render.RenderedHTML at 0x7f9a00bcd6d0>"
      ]
     },
     "metadata": {},
     "output_type": "display_data"
    },
    {
     "name": "stdout",
     "output_type": "stream",
     "text": [
      "--------------------------------------------------------------------------------\n",
      "layer=7\n"
     ]
    },
    {
     "data": {
      "text/html": [
       "<div id=\"circuits-vis-8c09ac3b-6abe\" style=\"margin: 15px 0;\"/>\n",
       "    <script crossorigin type=\"module\">\n",
       "    import { render, ColoredTokens } from \"https://unpkg.com/circuitsvis@1.43.3/dist/cdn/esm.js\";\n",
       "    render(\n",
       "      \"circuits-vis-8c09ac3b-6abe\",\n",
       "      ColoredTokens,\n",
       "      {\"tokens\": [\"Which\", \" person\", \" from\", \" the\", \" following\", \" list\", \" has\", \" the\", \" profession\", \" in\", \" common\", \" with\", \" Mike\", \" Pence\", \"?\\n\", \"Options\", \":\", \" Anthony\", \" Davis\", \",\", \" Jane\", \" Mayer\", \",\", \" Josh\", \" Haw\", \"ley\", \",\", \" Chuck\", \" Todd\", \",\", \" Paulo\", \" Dy\", \"b\", \"ala\", \",\", \" Marc\", \" Jacobs\", \".\\n\", \"Ans\", \":\"], \"values\": [0.0023029446601867676, 0.0010605156421661377, 0.0011107325553894043, 0.00028142333030700684, 0.0009884350001811981, 0.000995531678199768, 0.0019983798265457153, 0.0005187243223190308, 0.0006639324128627777, 0.0007584691047668457, 0.0008574612438678741, 0.001419171690940857, 0.0005564410239458084, 0.0009338818490505219, 0.009771563112735748, 0.002463996410369873, 0.0042391568422317505, 0.0012081004679203033, 0.0007688235491514206, 0.004467494785785675, 0.0008468292653560638, 0.0009466223418712616, 0.001410011202096939, 0.0005357209593057632, 0.00038535334169864655, 0.0005694665014743805, 0.0007465118542313576, 0.0003374262014403939, 0.0005227997899055481, 0.0007962295785546303, 0.0005377950146794319, 0.00023373868316411972, 0.00016508949920535088, 0.00040363380685448647, 0.000634659081697464, 0.0003069967497140169, 0.0005599940195679665, 0.006873585283756256, 0.003826688975095749, 0.005879953503608704]}\n",
       "    )\n",
       "    </script>"
      ],
      "text/plain": [
       "<circuitsvis.utils.render.RenderedHTML at 0x7f9a00ba68d0>"
      ]
     },
     "metadata": {},
     "output_type": "display_data"
    },
    {
     "name": "stdout",
     "output_type": "stream",
     "text": [
      "--------------------------------------------------------------------------------\n",
      "layer=8\n"
     ]
    },
    {
     "data": {
      "text/html": [
       "<div id=\"circuits-vis-c628341d-ca26\" style=\"margin: 15px 0;\"/>\n",
       "    <script crossorigin type=\"module\">\n",
       "    import { render, ColoredTokens } from \"https://unpkg.com/circuitsvis@1.43.3/dist/cdn/esm.js\";\n",
       "    render(\n",
       "      \"circuits-vis-c628341d-ca26\",\n",
       "      ColoredTokens,\n",
       "      {\"tokens\": [\"Which\", \" person\", \" from\", \" the\", \" following\", \" list\", \" has\", \" the\", \" profession\", \" in\", \" common\", \" with\", \" Mike\", \" Pence\", \"?\\n\", \"Options\", \":\", \" Anthony\", \" Davis\", \",\", \" Jane\", \" Mayer\", \",\", \" Josh\", \" Haw\", \"ley\", \",\", \" Chuck\", \" Todd\", \",\", \" Paulo\", \" Dy\", \"b\", \"ala\", \",\", \" Marc\", \" Jacobs\", \".\\n\", \"Ans\", \":\"], \"values\": [0.0025238394737243652, 0.002374224364757538, 0.0012472893577069044, 0.0002042189589701593, 0.001940572983585298, 0.002835780382156372, 0.0022357162088155746, 0.000415213406085968, 0.0020308718085289, 0.0005320889176800847, 0.00123204430565238, 0.0009847444016486406, 0.0008407346904277802, 0.0019224956631660461, 0.009416058659553528, 0.004861078225076199, 0.004366702400147915, 0.0007682968862354755, 0.0010936539620161057, 0.0018345583230257034, 0.0010153241455554962, 0.0011375099420547485, 0.0011787771945819259, 0.0004506222903728485, 0.00033872760832309723, 0.0009350869804620743, 0.0009801313281059265, 0.0004721377044916153, 0.0008362140506505966, 0.0009053405374288559, 0.0007991353049874306, 0.0004325783811509609, 0.00029732799157500267, 0.0007271259091794491, 0.0010796079877763987, 0.0006947509828023612, 0.0016828877851366997, 0.005839832127094269, 0.009117528796195984, 0.007816046476364136]}\n",
       "    )\n",
       "    </script>"
      ],
      "text/plain": [
       "<circuitsvis.utils.render.RenderedHTML at 0x7f99382ed290>"
      ]
     },
     "metadata": {},
     "output_type": "display_data"
    },
    {
     "name": "stdout",
     "output_type": "stream",
     "text": [
      "--------------------------------------------------------------------------------\n",
      "layer=9\n"
     ]
    },
    {
     "data": {
      "text/html": [
       "<div id=\"circuits-vis-a29a8305-f9f2\" style=\"margin: 15px 0;\"/>\n",
       "    <script crossorigin type=\"module\">\n",
       "    import { render, ColoredTokens } from \"https://unpkg.com/circuitsvis@1.43.3/dist/cdn/esm.js\";\n",
       "    render(\n",
       "      \"circuits-vis-a29a8305-f9f2\",\n",
       "      ColoredTokens,\n",
       "      {\"tokens\": [\"Which\", \" person\", \" from\", \" the\", \" following\", \" list\", \" has\", \" the\", \" profession\", \" in\", \" common\", \" with\", \" Mike\", \" Pence\", \"?\\n\", \"Options\", \":\", \" Anthony\", \" Davis\", \",\", \" Jane\", \" Mayer\", \",\", \" Josh\", \" Haw\", \"ley\", \",\", \" Chuck\", \" Todd\", \",\", \" Paulo\", \" Dy\", \"b\", \"ala\", \",\", \" Marc\", \" Jacobs\", \".\\n\", \"Ans\", \":\"], \"values\": [0.0024080127477645874, 0.0011098328977823257, 0.0007506050169467926, 0.0001698018459137529, 0.001156561658717692, 0.0012093428522348404, 0.0012005101889371872, 0.0003033289685845375, 0.0013971030712127686, 0.0003713672049343586, 0.0012010806240141392, 0.0012007979676127434, 0.0007909666746854782, 0.0016630599275231361, 0.0049314722418785095, 0.0043153706938028336, 0.003922390751540661, 0.0007058260962367058, 0.00118323415517807, 0.000997539609670639, 0.0008821859955787659, 0.0008991118520498276, 0.0008366312831640244, 0.00041661178693175316, 0.00027010240592062473, 0.0006668902933597565, 0.0007226206362247467, 0.0005603814497590065, 0.0007482620421797037, 0.0006427792832255363, 0.0008608754724264145, 0.0003435630351305008, 0.00031795818358659744, 0.0007105721160769463, 0.000906770583242178, 0.0006512552499771118, 0.0018763095140457153, 0.004776209592819214, 0.010629549622535706, 0.007889941334724426]}\n",
       "    )\n",
       "    </script>"
      ],
      "text/plain": [
       "<circuitsvis.utils.render.RenderedHTML at 0x7f9a00ba68d0>"
      ]
     },
     "metadata": {},
     "output_type": "display_data"
    },
    {
     "name": "stdout",
     "output_type": "stream",
     "text": [
      "--------------------------------------------------------------------------------\n",
      "layer=10\n"
     ]
    },
    {
     "data": {
      "text/html": [
       "<div id=\"circuits-vis-9941f669-3575\" style=\"margin: 15px 0;\"/>\n",
       "    <script crossorigin type=\"module\">\n",
       "    import { render, ColoredTokens } from \"https://unpkg.com/circuitsvis@1.43.3/dist/cdn/esm.js\";\n",
       "    render(\n",
       "      \"circuits-vis-9941f669-3575\",\n",
       "      ColoredTokens,\n",
       "      {\"tokens\": [\"Which\", \" person\", \" from\", \" the\", \" following\", \" list\", \" has\", \" the\", \" profession\", \" in\", \" common\", \" with\", \" Mike\", \" Pence\", \"?\\n\", \"Options\", \":\", \" Anthony\", \" Davis\", \",\", \" Jane\", \" Mayer\", \",\", \" Josh\", \" Haw\", \"ley\", \",\", \" Chuck\", \" Todd\", \",\", \" Paulo\", \" Dy\", \"b\", \"ala\", \",\", \" Marc\", \" Jacobs\", \".\\n\", \"Ans\", \":\"], \"values\": [0.006267189979553223, 0.0029394924640655518, 0.0017136931419372559, 0.0007113199681043625, 0.0036017298698425293, 0.0031504034996032715, 0.0036618635058403015, 0.0010864660143852234, 0.0026518702507019043, 0.0014965534210205078, 0.0036544352769851685, 0.0019819512963294983, 0.0022343099117279053, 0.003957837820053101, 0.01471593976020813, 0.005588248372077942, 0.005603492259979248, 0.0014938414096832275, 0.0021418817341327667, 0.00531342625617981, 0.0012937188148498535, 0.001734033226966858, 0.0020442232489585876, 0.0008400045335292816, 0.0004663746803998947, 0.0017810985445976257, 0.0015439726412296295, 0.0008282558992505074, 0.001834288239479065, 0.001360669732093811, 0.0015644952654838562, 0.0006365794688463211, 0.0004617879167199135, 0.0017083268612623215, 0.0013745278120040894, 0.0007381420582532883, 0.0023448020219802856, 0.0069015175104141235, 0.009089313447475433, 0.010244712233543396]}\n",
       "    )\n",
       "    </script>"
      ],
      "text/plain": [
       "<circuitsvis.utils.render.RenderedHTML at 0x7f72ec2a8650>"
      ]
     },
     "metadata": {},
     "output_type": "display_data"
    },
    {
     "name": "stdout",
     "output_type": "stream",
     "text": [
      "--------------------------------------------------------------------------------\n",
      "layer=11\n"
     ]
    },
    {
     "data": {
      "text/html": [
       "<div id=\"circuits-vis-2bd8fd89-a533\" style=\"margin: 15px 0;\"/>\n",
       "    <script crossorigin type=\"module\">\n",
       "    import { render, ColoredTokens } from \"https://unpkg.com/circuitsvis@1.43.3/dist/cdn/esm.js\";\n",
       "    render(\n",
       "      \"circuits-vis-2bd8fd89-a533\",\n",
       "      ColoredTokens,\n",
       "      {\"tokens\": [\"Which\", \" person\", \" from\", \" the\", \" following\", \" list\", \" has\", \" the\", \" profession\", \" in\", \" common\", \" with\", \" Mike\", \" Pence\", \"?\\n\", \"Options\", \":\", \" Anthony\", \" Davis\", \",\", \" Jane\", \" Mayer\", \",\", \" Josh\", \" Haw\", \"ley\", \",\", \" Chuck\", \" Todd\", \",\", \" Paulo\", \" Dy\", \"b\", \"ala\", \",\", \" Marc\", \" Jacobs\", \".\\n\", \"Ans\", \":\"], \"values\": [0.002942129969596863, 0.002679787576198578, 0.0010013971477746964, 0.00023395149037241936, 0.0022659562528133392, 0.00450780987739563, 0.0057192593812942505, 0.0004384070634841919, 0.002908669412136078, 0.0012583546340465546, 0.004655785858631134, 0.0037005990743637085, 0.0016435235738754272, 0.0029030144214630127, 0.007479965686798096, 0.006762117147445679, 0.0029904544353485107, 0.0009895823895931244, 0.001484200358390808, 0.0021516773849725723, 0.001119133085012436, 0.0015860218554735184, 0.0015381872653961182, 0.00075540691614151, 0.0002566445618867874, 0.001579880714416504, 0.001118481159210205, 0.0008212774991989136, 0.0010928511619567871, 0.0009359419345855713, 0.0011235177516937256, 0.00038760527968406677, 0.0002529304474592209, 0.0008671954274177551, 0.0012679174542427063, 0.0007156915962696075, 0.0018772110342979431, 0.005518093705177307, 0.013308554887771606, 0.004765495657920837]}\n",
       "    )\n",
       "    </script>"
      ],
      "text/plain": [
       "<circuitsvis.utils.render.RenderedHTML at 0x7f9a012cc250>"
      ]
     },
     "metadata": {},
     "output_type": "display_data"
    },
    {
     "name": "stdout",
     "output_type": "stream",
     "text": [
      "--------------------------------------------------------------------------------\n",
      "layer=12\n"
     ]
    },
    {
     "data": {
      "text/html": [
       "<div id=\"circuits-vis-58834e65-4783\" style=\"margin: 15px 0;\"/>\n",
       "    <script crossorigin type=\"module\">\n",
       "    import { render, ColoredTokens } from \"https://unpkg.com/circuitsvis@1.43.3/dist/cdn/esm.js\";\n",
       "    render(\n",
       "      \"circuits-vis-58834e65-4783\",\n",
       "      ColoredTokens,\n",
       "      {\"tokens\": [\"Which\", \" person\", \" from\", \" the\", \" following\", \" list\", \" has\", \" the\", \" profession\", \" in\", \" common\", \" with\", \" Mike\", \" Pence\", \"?\\n\", \"Options\", \":\", \" Anthony\", \" Davis\", \",\", \" Jane\", \" Mayer\", \",\", \" Josh\", \" Haw\", \"ley\", \",\", \" Chuck\", \" Todd\", \",\", \" Paulo\", \" Dy\", \"b\", \"ala\", \",\", \" Marc\", \" Jacobs\", \".\\n\", \"Ans\", \":\"], \"values\": [0.004269946366548538, 0.0016004741191864014, 0.0007260739803314209, 0.0002664595958776772, 0.0020439622458070517, 0.0026872362941503525, 0.0029577165842056274, 0.00046415627002716064, 0.0019395239651203156, 0.0008152257651090622, 0.0020201271399855614, 0.001649610698223114, 0.0032357722520828247, 0.0041627660393714905, 0.011914700269699097, 0.003823325037956238, 0.004762925207614899, 0.0015348605811595917, 0.0021155551075935364, 0.0038569867610931396, 0.0016573071479797363, 0.0022647008299827576, 0.0029826872050762177, 0.001066897064447403, 0.0004457486793398857, 0.0022102370858192444, 0.0024402886629104614, 0.0009615719318389893, 0.0020489078015089035, 0.002190370112657547, 0.0020859315991401672, 0.0008412525057792664, 0.0006061997264623642, 0.0020553451031446457, 0.003202985040843487, 0.0012921905145049095, 0.003223508596420288, 0.008606284856796265, 0.016330160200595856, 0.013849154114723206]}\n",
       "    )\n",
       "    </script>"
      ],
      "text/plain": [
       "<circuitsvis.utils.render.RenderedHTML at 0x7f9a00e882d0>"
      ]
     },
     "metadata": {},
     "output_type": "display_data"
    },
    {
     "name": "stdout",
     "output_type": "stream",
     "text": [
      "--------------------------------------------------------------------------------\n",
      "layer=13\n"
     ]
    },
    {
     "data": {
      "text/html": [
       "<div id=\"circuits-vis-e9be3d29-1abd\" style=\"margin: 15px 0;\"/>\n",
       "    <script crossorigin type=\"module\">\n",
       "    import { render, ColoredTokens } from \"https://unpkg.com/circuitsvis@1.43.3/dist/cdn/esm.js\";\n",
       "    render(\n",
       "      \"circuits-vis-e9be3d29-1abd\",\n",
       "      ColoredTokens,\n",
       "      {\"tokens\": [\"Which\", \" person\", \" from\", \" the\", \" following\", \" list\", \" has\", \" the\", \" profession\", \" in\", \" common\", \" with\", \" Mike\", \" Pence\", \"?\\n\", \"Options\", \":\", \" Anthony\", \" Davis\", \",\", \" Jane\", \" Mayer\", \",\", \" Josh\", \" Haw\", \"ley\", \",\", \" Chuck\", \" Todd\", \",\", \" Paulo\", \" Dy\", \"b\", \"ala\", \",\", \" Marc\", \" Jacobs\", \".\\n\", \"Ans\", \":\"], \"values\": [0.007916375994682312, 0.006656646728515625, 0.0029385536909103394, 0.0009354648645967245, 0.006867700256407261, 0.008109692484140396, 0.012493520975112915, 0.001135401427745819, 0.004348278045654297, 0.0017248308286070824, 0.007920789532363415, 0.00584237277507782, 0.00473368912935257, 0.0036317482590675354, 0.021494418382644653, 0.01074092835187912, 0.00818735919892788, 0.0028925882652401924, 0.0027433857321739197, 0.007896706461906433, 0.0026185810565948486, 0.0028586164116859436, 0.003919307142496109, 0.0013715960085391998, 0.0006029969081282616, 0.0017291009426116943, 0.003523692488670349, 0.0016040802001953125, 0.001787843881174922, 0.0024456027895212173, 0.0028085559606552124, 0.0007681772112846375, 0.000546872615814209, 0.0022027045488357544, 0.004259094595909119, 0.0026583150029182434, 0.003615640103816986, 0.02442494034767151, 0.030950605869293213, 0.016777098178863525]}\n",
       "    )\n",
       "    </script>"
      ],
      "text/plain": [
       "<circuitsvis.utils.render.RenderedHTML at 0x7f993810f090>"
      ]
     },
     "metadata": {},
     "output_type": "display_data"
    },
    {
     "name": "stdout",
     "output_type": "stream",
     "text": [
      "--------------------------------------------------------------------------------\n",
      "layer=14\n"
     ]
    },
    {
     "data": {
      "text/html": [
       "<div id=\"circuits-vis-c1034e06-f3d9\" style=\"margin: 15px 0;\"/>\n",
       "    <script crossorigin type=\"module\">\n",
       "    import { render, ColoredTokens } from \"https://unpkg.com/circuitsvis@1.43.3/dist/cdn/esm.js\";\n",
       "    render(\n",
       "      \"circuits-vis-c1034e06-f3d9\",\n",
       "      ColoredTokens,\n",
       "      {\"tokens\": [\"Which\", \" person\", \" from\", \" the\", \" following\", \" list\", \" has\", \" the\", \" profession\", \" in\", \" common\", \" with\", \" Mike\", \" Pence\", \"?\\n\", \"Options\", \":\", \" Anthony\", \" Davis\", \",\", \" Jane\", \" Mayer\", \",\", \" Josh\", \" Haw\", \"ley\", \",\", \" Chuck\", \" Todd\", \",\", \" Paulo\", \" Dy\", \"b\", \"ala\", \",\", \" Marc\", \" Jacobs\", \".\\n\", \"Ans\", \":\"], \"values\": [0.01240915060043335, 0.00600588321685791, 0.0033101290464401245, 0.0018006525933742523, 0.009597644209861755, 0.007423847913742065, 0.015060216188430786, 0.0010325349867343903, 0.002269204705953598, 0.0009306333959102631, 0.004462007433176041, 0.003936201333999634, 0.005527280271053314, 0.0014517158269882202, 0.016828477382659912, 0.007646024227142334, 0.009090065956115723, 0.003882288932800293, 0.0010521486401557922, 0.007743746042251587, 0.0021728500723838806, 0.0014866925776004791, 0.0019203200936317444, 0.0013399012386798859, 0.0003713741898536682, 0.0007543899118900299, 0.0023953765630722046, 0.00109202042222023, 0.000886010006070137, 0.0015996657311916351, 0.0018492713570594788, 0.00042042904533445835, 0.0002418835647404194, 0.0009656185284256935, 0.002972763031721115, 0.0012417025864124298, 0.0011588283814489841, 0.014494240283966064, 0.026788532733917236, 0.016190528869628906]}\n",
       "    )\n",
       "    </script>"
      ],
      "text/plain": [
       "<circuitsvis.utils.render.RenderedHTML at 0x7f99fa11c290>"
      ]
     },
     "metadata": {},
     "output_type": "display_data"
    },
    {
     "name": "stdout",
     "output_type": "stream",
     "text": [
      "--------------------------------------------------------------------------------\n",
      "layer=15\n"
     ]
    },
    {
     "data": {
      "text/html": [
       "<div id=\"circuits-vis-1b9eb50d-4e31\" style=\"margin: 15px 0;\"/>\n",
       "    <script crossorigin type=\"module\">\n",
       "    import { render, ColoredTokens } from \"https://unpkg.com/circuitsvis@1.43.3/dist/cdn/esm.js\";\n",
       "    render(\n",
       "      \"circuits-vis-1b9eb50d-4e31\",\n",
       "      ColoredTokens,\n",
       "      {\"tokens\": [\"Which\", \" person\", \" from\", \" the\", \" following\", \" list\", \" has\", \" the\", \" profession\", \" in\", \" common\", \" with\", \" Mike\", \" Pence\", \"?\\n\", \"Options\", \":\", \" Anthony\", \" Davis\", \",\", \" Jane\", \" Mayer\", \",\", \" Josh\", \" Haw\", \"ley\", \",\", \" Chuck\", \" Todd\", \",\", \" Paulo\", \" Dy\", \"b\", \"ala\", \",\", \" Marc\", \" Jacobs\", \".\\n\", \"Ans\", \":\"], \"values\": [0.00885164737701416, 0.0031604357063770294, 0.0018073627725243568, 0.0015227599069476128, 0.0032582655549049377, 0.0035105235874652863, 0.00497216172516346, 0.0006484775803983212, 0.0026002265512943268, 0.0006687906570732594, 0.0036322548985481262, 0.0027961507439613342, 0.005079552531242371, 0.0031625553965568542, 0.012057393789291382, 0.007477287203073502, 0.006645603105425835, 0.0015359651297330856, 0.0014155060052871704, 0.006168855354189873, 0.0014156680554151535, 0.0012252368032932281, 0.0031378529965877533, 0.0008370829746127129, 0.0003110072575509548, 0.0010281819850206375, 0.0026367614045739174, 0.0005465652793645859, 0.0008854027837514877, 0.0018273014575242996, 0.0012661032378673553, 0.0003724093548953533, 0.00020677084103226662, 0.001180458813905716, 0.002995561808347702, 0.0006207963451743126, 0.0013260813429951668, 0.016137033700942993, 0.018827814608812332, 0.014366129413247108]}\n",
       "    )\n",
       "    </script>"
      ],
      "text/plain": [
       "<circuitsvis.utils.render.RenderedHTML at 0x7f993814e150>"
      ]
     },
     "metadata": {},
     "output_type": "display_data"
    },
    {
     "name": "stdout",
     "output_type": "stream",
     "text": [
      "--------------------------------------------------------------------------------\n",
      "layer=16\n"
     ]
    },
    {
     "data": {
      "text/html": [
       "<div id=\"circuits-vis-07191ca6-d577\" style=\"margin: 15px 0;\"/>\n",
       "    <script crossorigin type=\"module\">\n",
       "    import { render, ColoredTokens } from \"https://unpkg.com/circuitsvis@1.43.3/dist/cdn/esm.js\";\n",
       "    render(\n",
       "      \"circuits-vis-07191ca6-d577\",\n",
       "      ColoredTokens,\n",
       "      {\"tokens\": [\"Which\", \" person\", \" from\", \" the\", \" following\", \" list\", \" has\", \" the\", \" profession\", \" in\", \" common\", \" with\", \" Mike\", \" Pence\", \"?\\n\", \"Options\", \":\", \" Anthony\", \" Davis\", \",\", \" Jane\", \" Mayer\", \",\", \" Josh\", \" Haw\", \"ley\", \",\", \" Chuck\", \" Todd\", \",\", \" Paulo\", \" Dy\", \"b\", \"ala\", \",\", \" Marc\", \" Jacobs\", \".\\n\", \"Ans\", \":\"], \"values\": [0.014559030532836914, 0.006107151508331299, 0.002727329730987549, 0.002021290361881256, 0.00493854284286499, 0.00574040412902832, 0.006165117025375366, 0.0008782669901847839, 0.005230367183685303, 0.0012738145887851715, 0.005361221730709076, 0.0028543993830680847, 0.006387829780578613, 0.003746598958969116, 0.01377880573272705, 0.011999726295471191, 0.012409329414367676, 0.003270074725151062, 0.0021314620971679688, 0.010716170072555542, 0.0019826143980026245, 0.0026720762252807617, 0.00527094304561615, 0.0010715946555137634, 0.0003790073096752167, 0.001750156283378601, 0.0038257241249084473, 0.001087777316570282, 0.0016606301069259644, 0.0027397871017456055, 0.002382904291152954, 0.0005842633545398712, 0.0002905894070863724, 0.0017582625150680542, 0.004795342683792114, 0.0016402080655097961, 0.002655908465385437, 0.01762855052947998, 0.03134775161743164, 0.02644526958465576]}\n",
       "    )\n",
       "    </script>"
      ],
      "text/plain": [
       "<circuitsvis.utils.render.RenderedHTML at 0x7f99fa175050>"
      ]
     },
     "metadata": {},
     "output_type": "display_data"
    },
    {
     "name": "stdout",
     "output_type": "stream",
     "text": [
      "--------------------------------------------------------------------------------\n",
      "layer=17\n"
     ]
    },
    {
     "data": {
      "text/html": [
       "<div id=\"circuits-vis-e963c1c9-ddb3\" style=\"margin: 15px 0;\"/>\n",
       "    <script crossorigin type=\"module\">\n",
       "    import { render, ColoredTokens } from \"https://unpkg.com/circuitsvis@1.43.3/dist/cdn/esm.js\";\n",
       "    render(\n",
       "      \"circuits-vis-e963c1c9-ddb3\",\n",
       "      ColoredTokens,\n",
       "      {\"tokens\": [\"Which\", \" person\", \" from\", \" the\", \" following\", \" list\", \" has\", \" the\", \" profession\", \" in\", \" common\", \" with\", \" Mike\", \" Pence\", \"?\\n\", \"Options\", \":\", \" Anthony\", \" Davis\", \",\", \" Jane\", \" Mayer\", \",\", \" Josh\", \" Haw\", \"ley\", \",\", \" Chuck\", \" Todd\", \",\", \" Paulo\", \" Dy\", \"b\", \"ala\", \",\", \" Marc\", \" Jacobs\", \".\\n\", \"Ans\", \":\"], \"values\": [0.015065312385559082, 0.011869966983795166, 0.006820499897003174, 0.0037603527307510376, 0.009515475481748581, 0.010830629616975784, 0.018015041947364807, 0.00286749005317688, 0.015142381191253662, 0.004601955413818359, 0.021430030465126038, 0.00876510888338089, 0.012364387512207031, 0.007329463958740234, 0.03168225288391113, 0.01783214509487152, 0.01731211319565773, 0.006133176386356354, 0.003436453640460968, 0.01381140947341919, 0.004228740930557251, 0.0041854530572891235, 0.007318057119846344, 0.002768106758594513, 0.0011243820190429688, 0.0033779889345169067, 0.005375862121582031, 0.002688989043235779, 0.0024994201958179474, 0.0043625496327877045, 0.0037358999252319336, 0.001101963222026825, 0.0009706392884254456, 0.0028170347213745117, 0.00535690039396286, 0.002894669771194458, 0.0037207454442977905, 0.026233434677124023, 0.053150296211242676, 0.03204613924026489]}\n",
       "    )\n",
       "    </script>"
      ],
      "text/plain": [
       "<circuitsvis.utils.render.RenderedHTML at 0x7f99dc1068d0>"
      ]
     },
     "metadata": {},
     "output_type": "display_data"
    },
    {
     "name": "stdout",
     "output_type": "stream",
     "text": [
      "--------------------------------------------------------------------------------\n",
      "layer=18\n"
     ]
    },
    {
     "data": {
      "text/html": [
       "<div id=\"circuits-vis-9113a0a5-8d28\" style=\"margin: 15px 0;\"/>\n",
       "    <script crossorigin type=\"module\">\n",
       "    import { render, ColoredTokens } from \"https://unpkg.com/circuitsvis@1.43.3/dist/cdn/esm.js\";\n",
       "    render(\n",
       "      \"circuits-vis-9113a0a5-8d28\",\n",
       "      ColoredTokens,\n",
       "      {\"tokens\": [\"Which\", \" person\", \" from\", \" the\", \" following\", \" list\", \" has\", \" the\", \" profession\", \" in\", \" common\", \" with\", \" Mike\", \" Pence\", \"?\\n\", \"Options\", \":\", \" Anthony\", \" Davis\", \",\", \" Jane\", \" Mayer\", \",\", \" Josh\", \" Haw\", \"ley\", \",\", \" Chuck\", \" Todd\", \",\", \" Paulo\", \" Dy\", \"b\", \"ala\", \",\", \" Marc\", \" Jacobs\", \".\\n\", \"Ans\", \":\"], \"values\": [0.018479347229003906, 0.01220083236694336, 0.0071561336517333984, 0.0037041306495666504, 0.010834813117980957, 0.009588956832885742, 0.020725540816783905, 0.00405748188495636, 0.015471816062927246, 0.005895733833312988, 0.040708497166633606, 0.014600992202758789, 0.012798666954040527, 0.006383001804351807, 0.05219370126724243, 0.023478269577026367, 0.02438664436340332, 0.015287160873413086, 0.003262236714363098, 0.01607048511505127, 0.005186021327972412, 0.003097355365753174, 0.006598830223083496, 0.0022068768739700317, 0.0007166266441345215, 0.002824932336807251, 0.006323195993900299, 0.002337545156478882, 0.0018179789185523987, 0.0043468475341796875, 0.004040956497192383, 0.0007118619978427887, 0.0003706738352775574, 0.0026132017374038696, 0.005553781986236572, 0.0020482242107391357, 0.0032520294189453125, 0.044710636138916016, 0.040303587913513184, 0.04506516456604004]}\n",
       "    )\n",
       "    </script>"
      ],
      "text/plain": [
       "<circuitsvis.utils.render.RenderedHTML at 0x7f72ec26c6d0>"
      ]
     },
     "metadata": {},
     "output_type": "display_data"
    },
    {
     "name": "stdout",
     "output_type": "stream",
     "text": [
      "--------------------------------------------------------------------------------\n",
      "layer=19\n"
     ]
    },
    {
     "data": {
      "text/html": [
       "<div id=\"circuits-vis-10a7f3d9-d2b3\" style=\"margin: 15px 0;\"/>\n",
       "    <script crossorigin type=\"module\">\n",
       "    import { render, ColoredTokens } from \"https://unpkg.com/circuitsvis@1.43.3/dist/cdn/esm.js\";\n",
       "    render(\n",
       "      \"circuits-vis-10a7f3d9-d2b3\",\n",
       "      ColoredTokens,\n",
       "      {\"tokens\": [\"Which\", \" person\", \" from\", \" the\", \" following\", \" list\", \" has\", \" the\", \" profession\", \" in\", \" common\", \" with\", \" Mike\", \" Pence\", \"?\\n\", \"Options\", \":\", \" Anthony\", \" Davis\", \",\", \" Jane\", \" Mayer\", \",\", \" Josh\", \" Haw\", \"ley\", \",\", \" Chuck\", \" Todd\", \",\", \" Paulo\", \" Dy\", \"b\", \"ala\", \",\", \" Marc\", \" Jacobs\", \".\\n\", \"Ans\", \":\"], \"values\": [0.022883892059326172, 0.01264035701751709, 0.00782233476638794, 0.005459189414978027, 0.009734153747558594, 0.009842634201049805, 0.012502670288085938, 0.0027745217084884644, 0.016840815544128418, 0.005677558481693268, 0.029808133840560913, 0.012556314468383789, 0.010038971900939941, 0.007648259401321411, 0.048394203186035156, 0.016729354858398438, 0.017130255699157715, 0.004534810781478882, 0.004151768982410431, 0.014489054679870605, 0.003999926149845123, 0.003790527582168579, 0.0062831491231918335, 0.001990199089050293, 0.0006150025874376297, 0.003728017210960388, 0.007074803113937378, 0.002994030714035034, 0.00344172865152359, 0.005563303828239441, 0.004459023475646973, 0.0008346699178218842, 0.00044218823313713074, 0.0044298917055130005, 0.006603166460990906, 0.002259261906147003, 0.0060203224420547485, 0.06279683113098145, 0.047365665435791016, 0.06411433219909668]}\n",
       "    )\n",
       "    </script>"
      ],
      "text/plain": [
       "<circuitsvis.utils.render.RenderedHTML at 0x7f72e618a650>"
      ]
     },
     "metadata": {},
     "output_type": "display_data"
    },
    {
     "name": "stdout",
     "output_type": "stream",
     "text": [
      "--------------------------------------------------------------------------------\n",
      "layer=20\n"
     ]
    },
    {
     "data": {
      "text/html": [
       "<div id=\"circuits-vis-95377021-70d5\" style=\"margin: 15px 0;\"/>\n",
       "    <script crossorigin type=\"module\">\n",
       "    import { render, ColoredTokens } from \"https://unpkg.com/circuitsvis@1.43.3/dist/cdn/esm.js\";\n",
       "    render(\n",
       "      \"circuits-vis-95377021-70d5\",\n",
       "      ColoredTokens,\n",
       "      {\"tokens\": [\"Which\", \" person\", \" from\", \" the\", \" following\", \" list\", \" has\", \" the\", \" profession\", \" in\", \" common\", \" with\", \" Mike\", \" Pence\", \"?\\n\", \"Options\", \":\", \" Anthony\", \" Davis\", \",\", \" Jane\", \" Mayer\", \",\", \" Josh\", \" Haw\", \"ley\", \",\", \" Chuck\", \" Todd\", \",\", \" Paulo\", \" Dy\", \"b\", \"ala\", \",\", \" Marc\", \" Jacobs\", \".\\n\", \"Ans\", \":\"], \"values\": [0.023044824600219727, 0.01164768636226654, 0.0031219124794006348, 0.004026249051094055, 0.007474452257156372, 0.011652640998363495, 0.00679662823677063, 0.0016219690442085266, 0.019786082208156586, 0.004958655685186386, 0.02668926864862442, 0.008918970823287964, 0.018856525421142578, 0.010867565870285034, 0.05172228813171387, 0.011900663375854492, 0.00744783878326416, 0.004800513386726379, 0.00443529337644577, 0.01611381769180298, 0.003292098641395569, 0.0034405365586280823, 0.010416299104690552, 0.0012207021936774254, 0.0005587670020759106, 0.005199197679758072, 0.009503789246082306, 0.0012947777286171913, 0.0037301890552043915, 0.007080338895320892, 0.003788590431213379, 0.0006780088879168034, 0.0002640578895807266, 0.004789531230926514, 0.00860375165939331, 0.0011670459061861038, 0.0042039379477500916, 0.06030398607254028, 0.02344292402267456, 0.033402204513549805]}\n",
       "    )\n",
       "    </script>"
      ],
      "text/plain": [
       "<circuitsvis.utils.render.RenderedHTML at 0x7f993810d050>"
      ]
     },
     "metadata": {},
     "output_type": "display_data"
    },
    {
     "name": "stdout",
     "output_type": "stream",
     "text": [
      "--------------------------------------------------------------------------------\n",
      "layer=21\n"
     ]
    },
    {
     "data": {
      "text/html": [
       "<div id=\"circuits-vis-1c553a26-7d16\" style=\"margin: 15px 0;\"/>\n",
       "    <script crossorigin type=\"module\">\n",
       "    import { render, ColoredTokens } from \"https://unpkg.com/circuitsvis@1.43.3/dist/cdn/esm.js\";\n",
       "    render(\n",
       "      \"circuits-vis-1c553a26-7d16\",\n",
       "      ColoredTokens,\n",
       "      {\"tokens\": [\"Which\", \" person\", \" from\", \" the\", \" following\", \" list\", \" has\", \" the\", \" profession\", \" in\", \" common\", \" with\", \" Mike\", \" Pence\", \"?\\n\", \"Options\", \":\", \" Anthony\", \" Davis\", \",\", \" Jane\", \" Mayer\", \",\", \" Josh\", \" Haw\", \"ley\", \",\", \" Chuck\", \" Todd\", \",\", \" Paulo\", \" Dy\", \"b\", \"ala\", \",\", \" Marc\", \" Jacobs\", \".\\n\", \"Ans\", \":\"], \"values\": [0.03443574905395508, 0.012985587120056152, 0.007687300443649292, 0.0061484575271606445, 0.010008439421653748, 0.011999577283859253, 0.025217697024345398, 0.0041074976325035095, 0.04085344076156616, 0.016314711421728134, 0.08066287636756897, 0.03222627192735672, 0.02406597137451172, 0.01375669240951538, 0.09220612049102783, 0.012042909860610962, 0.011075660586357117, 0.008840247988700867, 0.00463239848613739, 0.030832111835479736, 0.004698716104030609, 0.003113575279712677, 0.012599140405654907, 0.002177104353904724, 0.0005420101806521416, 0.003618672490119934, 0.011417001485824585, 0.002262374386191368, 0.0031880177557468414, 0.008216261863708496, 0.003960452973842621, 0.0007080351933836937, 0.00020811520516872406, 0.003792736679315567, 0.009312756359577179, 0.0014634951949119568, 0.004638202488422394, 0.054436683654785156, 0.024855703115463257, 0.044889986515045166]}\n",
       "    )\n",
       "    </script>"
      ],
      "text/plain": [
       "<circuitsvis.utils.render.RenderedHTML at 0x7f99dc104750>"
      ]
     },
     "metadata": {},
     "output_type": "display_data"
    },
    {
     "name": "stdout",
     "output_type": "stream",
     "text": [
      "--------------------------------------------------------------------------------\n",
      "layer=22\n"
     ]
    },
    {
     "data": {
      "text/html": [
       "<div id=\"circuits-vis-25a7eee2-93bf\" style=\"margin: 15px 0;\"/>\n",
       "    <script crossorigin type=\"module\">\n",
       "    import { render, ColoredTokens } from \"https://unpkg.com/circuitsvis@1.43.3/dist/cdn/esm.js\";\n",
       "    render(\n",
       "      \"circuits-vis-25a7eee2-93bf\",\n",
       "      ColoredTokens,\n",
       "      {\"tokens\": [\"Which\", \" person\", \" from\", \" the\", \" following\", \" list\", \" has\", \" the\", \" profession\", \" in\", \" common\", \" with\", \" Mike\", \" Pence\", \"?\\n\", \"Options\", \":\", \" Anthony\", \" Davis\", \",\", \" Jane\", \" Mayer\", \",\", \" Josh\", \" Haw\", \"ley\", \",\", \" Chuck\", \" Todd\", \",\", \" Paulo\", \" Dy\", \"b\", \"ala\", \",\", \" Marc\", \" Jacobs\", \".\\n\", \"Ans\", \":\"], \"values\": [0.022631049156188965, 0.008292138576507568, 0.004011422395706177, 0.004070550203323364, 0.004570469260215759, 0.005156755447387695, 0.007159199565649033, 0.0013960786163806915, 0.03166380524635315, 0.010026037693023682, 0.04250301420688629, 0.015162177383899689, 0.014458835124969482, 0.013543426990509033, 0.0521082878112793, 0.005950026214122772, 0.005340732634067535, 0.0048677958548069, 0.0036994069814682007, 0.01833833009004593, 0.0019700340926647186, 0.0028101205825805664, 0.005622833967208862, 0.0007663359865546227, 0.00030386634171009064, 0.0030262619256973267, 0.010307606309652328, 0.0009066369384527206, 0.0020181015133857727, 0.004023488610982895, 0.0023666173219680786, 0.0003389832563698292, 0.0001491764560341835, 0.003979280591011047, 0.008204959332942963, 0.0006246576085686684, 0.003958657383918762, 0.03978997468948364, 0.012869447469711304, 0.03961372375488281]}\n",
       "    )\n",
       "    </script>"
      ],
      "text/plain": [
       "<circuitsvis.utils.render.RenderedHTML at 0x7f9a00b868d0>"
      ]
     },
     "metadata": {},
     "output_type": "display_data"
    },
    {
     "name": "stdout",
     "output_type": "stream",
     "text": [
      "--------------------------------------------------------------------------------\n",
      "layer=23\n"
     ]
    },
    {
     "data": {
      "text/html": [
       "<div id=\"circuits-vis-98ec77a7-ec7d\" style=\"margin: 15px 0;\"/>\n",
       "    <script crossorigin type=\"module\">\n",
       "    import { render, ColoredTokens } from \"https://unpkg.com/circuitsvis@1.43.3/dist/cdn/esm.js\";\n",
       "    render(\n",
       "      \"circuits-vis-98ec77a7-ec7d\",\n",
       "      ColoredTokens,\n",
       "      {\"tokens\": [\"Which\", \" person\", \" from\", \" the\", \" following\", \" list\", \" has\", \" the\", \" profession\", \" in\", \" common\", \" with\", \" Mike\", \" Pence\", \"?\\n\", \"Options\", \":\", \" Anthony\", \" Davis\", \",\", \" Jane\", \" Mayer\", \",\", \" Josh\", \" Haw\", \"ley\", \",\", \" Chuck\", \" Todd\", \",\", \" Paulo\", \" Dy\", \"b\", \"ala\", \",\", \" Marc\", \" Jacobs\", \".\\n\", \"Ans\", \":\"], \"values\": [0.03641080856323242, 0.009386777877807617, 0.006597787141799927, 0.007480889558792114, 0.005010910332202911, 0.006875760853290558, 0.009366173297166824, 0.0017940625548362732, 0.038423895835876465, 0.01313234493136406, 0.0806012749671936, 0.04659169912338257, 0.030045151710510254, 0.015253603458404541, 0.03477352857589722, 0.005495354533195496, 0.006362363696098328, 0.00953829288482666, 0.0037258267402648926, 0.03553453087806702, 0.005916669964790344, 0.0034351646900177, 0.016814038157463074, 0.004798607900738716, 0.0018854904919862747, 0.006103724241256714, 0.038543134927749634, 0.005262993276119232, 0.003565967082977295, 0.01766839623451233, 0.004041023552417755, 0.0019052708521485329, 0.000309797003865242, 0.005656331777572632, 0.03401407599449158, 0.002729620784521103, 0.005334675312042236, 0.05791628360748291, 0.011857174336910248, 0.04335659742355347]}\n",
       "    )\n",
       "    </script>"
      ],
      "text/plain": [
       "<circuitsvis.utils.render.RenderedHTML at 0x7f99381ccb10>"
      ]
     },
     "metadata": {},
     "output_type": "display_data"
    },
    {
     "name": "stdout",
     "output_type": "stream",
     "text": [
      "--------------------------------------------------------------------------------\n",
      "layer=24\n"
     ]
    },
    {
     "data": {
      "text/html": [
       "<div id=\"circuits-vis-199c545f-7de5\" style=\"margin: 15px 0;\"/>\n",
       "    <script crossorigin type=\"module\">\n",
       "    import { render, ColoredTokens } from \"https://unpkg.com/circuitsvis@1.43.3/dist/cdn/esm.js\";\n",
       "    render(\n",
       "      \"circuits-vis-199c545f-7de5\",\n",
       "      ColoredTokens,\n",
       "      {\"tokens\": [\"Which\", \" person\", \" from\", \" the\", \" following\", \" list\", \" has\", \" the\", \" profession\", \" in\", \" common\", \" with\", \" Mike\", \" Pence\", \"?\\n\", \"Options\", \":\", \" Anthony\", \" Davis\", \",\", \" Jane\", \" Mayer\", \",\", \" Josh\", \" Haw\", \"ley\", \",\", \" Chuck\", \" Todd\", \",\", \" Paulo\", \" Dy\", \"b\", \"ala\", \",\", \" Marc\", \" Jacobs\", \".\\n\", \"Ans\", \":\"], \"values\": [0.028494715690612793, 0.005137719213962555, 0.002482585608959198, 0.003008246421813965, 0.004133541136980057, 0.00513092614710331, 0.003479565493762493, 0.001108073629438877, 0.014397069811820984, 0.002063141204416752, 0.04299011826515198, 0.0064887721091508865, 0.008387207984924316, 0.005863159894943237, 0.026447579264640808, 0.0038534700870513916, 0.003450183430686593, 0.0035556741058826447, 0.004255823791027069, 0.013414271175861359, 0.002155344933271408, 0.004139121621847153, 0.008288064040243626, 0.0013447972014546394, 0.0008304785005748272, 0.005843102931976318, 0.010800331830978394, 0.0015595387667417526, 0.0035897823981940746, 0.006451126653701067, 0.0027199983596801758, 0.0010507763363420963, 0.00047634029760956764, 0.005302213132381439, 0.010108387097716331, 0.0016270679188892245, 0.006773456931114197, 0.03395967185497284, 0.0170363150537014, 0.04340527951717377]}\n",
       "    )\n",
       "    </script>"
      ],
      "text/plain": [
       "<circuitsvis.utils.render.RenderedHTML at 0x7f9a00e57050>"
      ]
     },
     "metadata": {},
     "output_type": "display_data"
    },
    {
     "name": "stdout",
     "output_type": "stream",
     "text": [
      "--------------------------------------------------------------------------------\n",
      "layer=25\n"
     ]
    },
    {
     "data": {
      "text/html": [
       "<div id=\"circuits-vis-336a398b-f0e8\" style=\"margin: 15px 0;\"/>\n",
       "    <script crossorigin type=\"module\">\n",
       "    import { render, ColoredTokens } from \"https://unpkg.com/circuitsvis@1.43.3/dist/cdn/esm.js\";\n",
       "    render(\n",
       "      \"circuits-vis-336a398b-f0e8\",\n",
       "      ColoredTokens,\n",
       "      {\"tokens\": [\"Which\", \" person\", \" from\", \" the\", \" following\", \" list\", \" has\", \" the\", \" profession\", \" in\", \" common\", \" with\", \" Mike\", \" Pence\", \"?\\n\", \"Options\", \":\", \" Anthony\", \" Davis\", \",\", \" Jane\", \" Mayer\", \",\", \" Josh\", \" Haw\", \"ley\", \",\", \" Chuck\", \" Todd\", \",\", \" Paulo\", \" Dy\", \"b\", \"ala\", \",\", \" Marc\", \" Jacobs\", \".\\n\", \"Ans\", \":\"], \"values\": [0.05765557289123535, 0.004362709820270538, 0.0034978240728378296, 0.003779955208301544, 0.004663603380322456, 0.003355899825692177, 0.0034638522192835808, 0.001232595182955265, 0.013302534818649292, 0.0029058174695819616, 0.022207126021385193, 0.011802448891103268, 0.013570055365562439, 0.008102953433990479, 0.01902635395526886, 0.004080064594745636, 0.004550140351057053, 0.00922098383307457, 0.00479569286108017, 0.035619914531707764, 0.004966702312231064, 0.0029346421360969543, 0.021085768938064575, 0.003609125502407551, 0.0010223593562841415, 0.007953673601150513, 0.022032102569937706, 0.003628302365541458, 0.003968872129917145, 0.011500604450702667, 0.004438057541847229, 0.001289939507842064, 0.00031669437885284424, 0.007953405380249023, 0.024390682578086853, 0.002068564295768738, 0.006269514560699463, 0.04356205463409424, 0.010455045849084854, 0.032825812697410583]}\n",
       "    )\n",
       "    </script>"
      ],
      "text/plain": [
       "<circuitsvis.utils.render.RenderedHTML at 0x7f9a00b86550>"
      ]
     },
     "metadata": {},
     "output_type": "display_data"
    },
    {
     "name": "stdout",
     "output_type": "stream",
     "text": [
      "--------------------------------------------------------------------------------\n",
      "layer=26\n"
     ]
    },
    {
     "data": {
      "text/html": [
       "<div id=\"circuits-vis-e206826e-6de6\" style=\"margin: 15px 0;\"/>\n",
       "    <script crossorigin type=\"module\">\n",
       "    import { render, ColoredTokens } from \"https://unpkg.com/circuitsvis@1.43.3/dist/cdn/esm.js\";\n",
       "    render(\n",
       "      \"circuits-vis-e206826e-6de6\",\n",
       "      ColoredTokens,\n",
       "      {\"tokens\": [\"Which\", \" person\", \" from\", \" the\", \" following\", \" list\", \" has\", \" the\", \" profession\", \" in\", \" common\", \" with\", \" Mike\", \" Pence\", \"?\\n\", \"Options\", \":\", \" Anthony\", \" Davis\", \",\", \" Jane\", \" Mayer\", \",\", \" Josh\", \" Haw\", \"ley\", \",\", \" Chuck\", \" Todd\", \",\", \" Paulo\", \" Dy\", \"b\", \"ala\", \",\", \" Marc\", \" Jacobs\", \".\\n\", \"Ans\", \":\"], \"values\": [0.08502817153930664, 0.01013675332069397, 0.0035290271043777466, 0.006375938653945923, 0.005147844552993774, 0.0034480541944503784, 0.0021657273173332214, 0.0013091936707496643, 0.0337088406085968, 0.0022307951003313065, 0.03116735816001892, 0.007022581994533539, 0.015877962112426758, 0.007400572299957275, 0.020285844802856445, 0.005332969129085541, 0.004698917269706726, 0.009378768503665924, 0.0038589835166931152, 0.03488808870315552, 0.0030265748500823975, 0.002389386296272278, 0.015498071908950806, 0.0019920431077480316, 0.0008573830127716064, 0.004587948322296143, 0.014269202947616577, 0.002224031835794449, 0.004653438925743103, 0.009723156690597534, 0.003909796476364136, 0.0008950121700763702, 0.00026774872094392776, 0.005947798490524292, 0.015343964099884033, 0.001538928598165512, 0.005483776330947876, 0.05519247055053711, 0.02344253659248352, 0.049030840396881104]}\n",
       "    )\n",
       "    </script>"
      ],
      "text/plain": [
       "<circuitsvis.utils.render.RenderedHTML at 0x7f72ec29d210>"
      ]
     },
     "metadata": {},
     "output_type": "display_data"
    },
    {
     "name": "stdout",
     "output_type": "stream",
     "text": [
      "--------------------------------------------------------------------------------\n",
      "layer=27\n"
     ]
    },
    {
     "data": {
      "text/html": [
       "<div id=\"circuits-vis-590e4d0c-cf0b\" style=\"margin: 15px 0;\"/>\n",
       "    <script crossorigin type=\"module\">\n",
       "    import { render, ColoredTokens } from \"https://unpkg.com/circuitsvis@1.43.3/dist/cdn/esm.js\";\n",
       "    render(\n",
       "      \"circuits-vis-590e4d0c-cf0b\",\n",
       "      ColoredTokens,\n",
       "      {\"tokens\": [\"Which\", \" person\", \" from\", \" the\", \" following\", \" list\", \" has\", \" the\", \" profession\", \" in\", \" common\", \" with\", \" Mike\", \" Pence\", \"?\\n\", \"Options\", \":\", \" Anthony\", \" Davis\", \",\", \" Jane\", \" Mayer\", \",\", \" Josh\", \" Haw\", \"ley\", \",\", \" Chuck\", \" Todd\", \",\", \" Paulo\", \" Dy\", \"b\", \"ala\", \",\", \" Marc\", \" Jacobs\", \".\\n\", \"Ans\", \":\"], \"values\": [0.061057090759277344, 0.016228437423706055, 0.008129715919494629, 0.008156895637512207, 0.007020279765129089, 0.006008267402648926, 0.006781481206417084, 0.0029433779418468475, 0.08433723449707031, 0.0072472430765628815, 0.04763668775558472, 0.018697917461395264, 0.034342288970947266, 0.023682236671447754, 0.04573613405227661, 0.007817781530320644, 0.007441788911819458, 0.009979993104934692, 0.015138596296310425, 0.038258135318756104, 0.0062872618436813354, 0.005169987678527832, 0.020090341567993164, 0.0046892836689949036, 0.0018166229128837585, 0.013091444969177246, 0.023973941802978516, 0.005213066935539246, 0.012345835566520691, 0.025948405265808105, 0.005530267953872681, 0.00164119154214859, 0.0004813671112060547, 0.01220393180847168, 0.023933708667755127, 0.0024291574954986572, 0.007628649473190308, 0.04975727200508118, 0.03127458319067955, 0.0984339714050293]}\n",
       "    )\n",
       "    </script>"
      ],
      "text/plain": [
       "<circuitsvis.utils.render.RenderedHTML at 0x7f99381d56d0>"
      ]
     },
     "metadata": {},
     "output_type": "display_data"
    },
    {
     "name": "stdout",
     "output_type": "stream",
     "text": [
      "--------------------------------------------------------------------------------\n",
      "layer=28\n"
     ]
    },
    {
     "data": {
      "text/html": [
       "<div id=\"circuits-vis-adeaf55c-7254\" style=\"margin: 15px 0;\"/>\n",
       "    <script crossorigin type=\"module\">\n",
       "    import { render, ColoredTokens } from \"https://unpkg.com/circuitsvis@1.43.3/dist/cdn/esm.js\";\n",
       "    render(\n",
       "      \"circuits-vis-adeaf55c-7254\",\n",
       "      ColoredTokens,\n",
       "      {\"tokens\": [\"Which\", \" person\", \" from\", \" the\", \" following\", \" list\", \" has\", \" the\", \" profession\", \" in\", \" common\", \" with\", \" Mike\", \" Pence\", \"?\\n\", \"Options\", \":\", \" Anthony\", \" Davis\", \",\", \" Jane\", \" Mayer\", \",\", \" Josh\", \" Haw\", \"ley\", \",\", \" Chuck\", \" Todd\", \",\", \" Paulo\", \" Dy\", \"b\", \"ala\", \",\", \" Marc\", \" Jacobs\", \".\\n\", \"Ans\", \":\"], \"values\": [0.1011667251586914, 0.012234658002853394, 0.007417887449264526, 0.0072858333587646484, 0.011423319578170776, 0.0062820762395858765, 0.004722855985164642, 0.0037124454975128174, 0.06279304623603821, 0.0056798141449689865, 0.04211677610874176, 0.01578909158706665, 0.04279524087905884, 0.03415331244468689, 0.03470754623413086, 0.006384909152984619, 0.005207240581512451, 0.009837061166763306, 0.014033358544111252, 0.038054466247558594, 0.006400182843208313, 0.005110740661621094, 0.021828167140483856, 0.0057506263256073, 0.004035238176584244, 0.014543458819389343, 0.02269195020198822, 0.004130693152546883, 0.010928548872470856, 0.019457995891571045, 0.007269404828548431, 0.00374472513794899, 0.0007284441962838173, 0.02336275577545166, 0.023588478565216064, 0.003886844962835312, 0.012173175811767578, 0.060129255056381226, 0.028416449204087257, 0.05388516187667847]}\n",
       "    )\n",
       "    </script>"
      ],
      "text/plain": [
       "<circuitsvis.utils.render.RenderedHTML at 0x7f993814f6d0>"
      ]
     },
     "metadata": {},
     "output_type": "display_data"
    },
    {
     "name": "stdout",
     "output_type": "stream",
     "text": [
      "--------------------------------------------------------------------------------\n",
      "layer=29\n"
     ]
    },
    {
     "data": {
      "text/html": [
       "<div id=\"circuits-vis-38ff3ed8-7706\" style=\"margin: 15px 0;\"/>\n",
       "    <script crossorigin type=\"module\">\n",
       "    import { render, ColoredTokens } from \"https://unpkg.com/circuitsvis@1.43.3/dist/cdn/esm.js\";\n",
       "    render(\n",
       "      \"circuits-vis-38ff3ed8-7706\",\n",
       "      ColoredTokens,\n",
       "      {\"tokens\": [\"Which\", \" person\", \" from\", \" the\", \" following\", \" list\", \" has\", \" the\", \" profession\", \" in\", \" common\", \" with\", \" Mike\", \" Pence\", \"?\\n\", \"Options\", \":\", \" Anthony\", \" Davis\", \",\", \" Jane\", \" Mayer\", \",\", \" Josh\", \" Haw\", \"ley\", \",\", \" Chuck\", \" Todd\", \",\", \" Paulo\", \" Dy\", \"b\", \"ala\", \",\", \" Marc\", \" Jacobs\", \".\\n\", \"Ans\", \":\"], \"values\": [0.13077735900878906, 0.018900573253631592, 0.008718997240066528, 0.008678913116455078, 0.009143710136413574, 0.006911441683769226, 0.011281602084636688, 0.00329020619392395, 0.04614824056625366, 0.006153281778097153, 0.047414183616638184, 0.01677267998456955, 0.06249845027923584, 0.03572869300842285, 0.05039381980895996, 0.0056719183921813965, 0.005587413907051086, 0.015510082244873047, 0.014017343521118164, 0.05177116394042969, 0.009358435869216919, 0.007208675146102905, 0.024457886815071106, 0.00447990745306015, 0.0036428403109312057, 0.014860481023788452, 0.023817628622055054, 0.005235876888036728, 0.012394636869430542, 0.023109890520572662, 0.010671362280845642, 0.004406612366437912, 0.0011663995683193207, 0.020621925592422485, 0.023547187447547913, 0.003361158072948456, 0.0100516676902771, 0.07491707801818848, 0.01864401251077652, 0.05623340606689453]}\n",
       "    )\n",
       "    </script>"
      ],
      "text/plain": [
       "<circuitsvis.utils.render.RenderedHTML at 0x7f9a00ce7590>"
      ]
     },
     "metadata": {},
     "output_type": "display_data"
    },
    {
     "name": "stdout",
     "output_type": "stream",
     "text": [
      "--------------------------------------------------------------------------------\n",
      "layer=30\n"
     ]
    },
    {
     "data": {
      "text/html": [
       "<div id=\"circuits-vis-566d396f-faee\" style=\"margin: 15px 0;\"/>\n",
       "    <script crossorigin type=\"module\">\n",
       "    import { render, ColoredTokens } from \"https://unpkg.com/circuitsvis@1.43.3/dist/cdn/esm.js\";\n",
       "    render(\n",
       "      \"circuits-vis-566d396f-faee\",\n",
       "      ColoredTokens,\n",
       "      {\"tokens\": [\"Which\", \" person\", \" from\", \" the\", \" following\", \" list\", \" has\", \" the\", \" profession\", \" in\", \" common\", \" with\", \" Mike\", \" Pence\", \"?\\n\", \"Options\", \":\", \" Anthony\", \" Davis\", \",\", \" Jane\", \" Mayer\", \",\", \" Josh\", \" Haw\", \"ley\", \",\", \" Chuck\", \" Todd\", \",\", \" Paulo\", \" Dy\", \"b\", \"ala\", \",\", \" Marc\", \" Jacobs\", \".\\n\", \"Ans\", \":\"], \"values\": [0.06382787227630615, 0.014549732208251953, 0.005061239004135132, 0.005991876125335693, 0.007279813289642334, 0.005005344748497009, 0.005681753158569336, 0.0024189725518226624, 0.03650557994842529, 0.004704572260379791, 0.0400201678276062, 0.01072344183921814, 0.03624027967453003, 0.03926113247871399, 0.04557609558105469, 0.006951048970222473, 0.008697152137756348, 0.011541813611984253, 0.009917154908180237, 0.019861191511154175, 0.006222784519195557, 0.007428303360939026, 0.01580524444580078, 0.0038790181279182434, 0.0018925685435533524, 0.012895658612251282, 0.020227521657943726, 0.005388237535953522, 0.011602163314819336, 0.02298063039779663, 0.006322622299194336, 0.0021692700684070587, 0.001094261184334755, 0.014075085520744324, 0.017575547099113464, 0.003959380090236664, 0.011333554983139038, 0.07764780521392822, 0.03169718384742737, 0.08539795875549316]}\n",
       "    )\n",
       "    </script>"
      ],
      "text/plain": [
       "<circuitsvis.utils.render.RenderedHTML at 0x7f9a00b14850>"
      ]
     },
     "metadata": {},
     "output_type": "display_data"
    },
    {
     "name": "stdout",
     "output_type": "stream",
     "text": [
      "--------------------------------------------------------------------------------\n",
      "layer=31\n"
     ]
    },
    {
     "data": {
      "text/html": [
       "<div id=\"circuits-vis-c51ffe41-13c7\" style=\"margin: 15px 0;\"/>\n",
       "    <script crossorigin type=\"module\">\n",
       "    import { render, ColoredTokens } from \"https://unpkg.com/circuitsvis@1.43.3/dist/cdn/esm.js\";\n",
       "    render(\n",
       "      \"circuits-vis-c51ffe41-13c7\",\n",
       "      ColoredTokens,\n",
       "      {\"tokens\": [\"Which\", \" person\", \" from\", \" the\", \" following\", \" list\", \" has\", \" the\", \" profession\", \" in\", \" common\", \" with\", \" Mike\", \" Pence\", \"?\\n\", \"Options\", \":\", \" Anthony\", \" Davis\", \",\", \" Jane\", \" Mayer\", \",\", \" Josh\", \" Haw\", \"ley\", \",\", \" Chuck\", \" Todd\", \",\", \" Paulo\", \" Dy\", \"b\", \"ala\", \",\", \" Marc\", \" Jacobs\", \".\\n\", \"Ans\", \":\"], \"values\": [0.06385183334350586, 0.021517515182495117, 0.009075760841369629, 0.006831035017967224, 0.009643301367759705, 0.008943438529968262, 0.012430910021066666, 0.004952818155288696, 0.0411679744720459, 0.007264912128448486, 0.04291254281997681, 0.035358235239982605, 0.05071467161178589, 0.04500207304954529, 0.038397789001464844, 0.008707858622074127, 0.017016470432281494, 0.022023335099220276, 0.013475760817527771, 0.05330401659011841, 0.010464683175086975, 0.008874282240867615, 0.026253700256347656, 0.008474200963973999, 0.002261340618133545, 0.02298864722251892, 0.03453788161277771, 0.010141335427761078, 0.020961210131645203, 0.021812379360198975, 0.008950166404247284, 0.002107396721839905, 0.0007451502606272697, 0.024061769247055054, 0.024597108364105225, 0.006212469190359116, 0.012327775359153748, 0.06735944747924805, 0.051192961633205414, 0.10963582992553711]}\n",
       "    )\n",
       "    </script>"
      ],
      "text/plain": [
       "<circuitsvis.utils.render.RenderedHTML at 0x7f72ec21ba10>"
      ]
     },
     "metadata": {},
     "output_type": "display_data"
    },
    {
     "name": "stdout",
     "output_type": "stream",
     "text": [
      "--------------------------------------------------------------------------------\n",
      "layer=32\n"
     ]
    },
    {
     "data": {
      "text/html": [
       "<div id=\"circuits-vis-7db96318-56b9\" style=\"margin: 15px 0;\"/>\n",
       "    <script crossorigin type=\"module\">\n",
       "    import { render, ColoredTokens } from \"https://unpkg.com/circuitsvis@1.43.3/dist/cdn/esm.js\";\n",
       "    render(\n",
       "      \"circuits-vis-7db96318-56b9\",\n",
       "      ColoredTokens,\n",
       "      {\"tokens\": [\"Which\", \" person\", \" from\", \" the\", \" following\", \" list\", \" has\", \" the\", \" profession\", \" in\", \" common\", \" with\", \" Mike\", \" Pence\", \"?\\n\", \"Options\", \":\", \" Anthony\", \" Davis\", \",\", \" Jane\", \" Mayer\", \",\", \" Josh\", \" Haw\", \"ley\", \",\", \" Chuck\", \" Todd\", \",\", \" Paulo\", \" Dy\", \"b\", \"ala\", \",\", \" Marc\", \" Jacobs\", \".\\n\", \"Ans\", \":\"], \"values\": [0.11614060401916504, 0.008076220750808716, 0.004261314868927002, 0.006032347679138184, 0.006382666528224945, 0.00500798225402832, 0.005081009119749069, 0.0039536431431770325, 0.015178263187408447, 0.002657618373632431, 0.01928117871284485, 0.00720185786485672, 0.018718719482421875, 0.03324192762374878, 0.03014126420021057, 0.006759554147720337, 0.010972708463668823, 0.008365482091903687, 0.01290673017501831, 0.016585156321525574, 0.004553943872451782, 0.016445577144622803, 0.015039682388305664, 0.0023445487022399902, 0.0012805312871932983, 0.020681947469711304, 0.01868847757577896, 0.003897823393344879, 0.013849496841430664, 0.014327466487884521, 0.004204258322715759, 0.001501385122537613, 0.00117495097219944, 0.016854822635650635, 0.010100901126861572, 0.0025328248739242554, 0.012532740831375122, 0.0758129358291626, 0.0476507842540741, 0.12963128089904785]}\n",
       "    )\n",
       "    </script>"
      ],
      "text/plain": [
       "<circuitsvis.utils.render.RenderedHTML at 0x7f99fa176a50>"
      ]
     },
     "metadata": {},
     "output_type": "display_data"
    },
    {
     "name": "stdout",
     "output_type": "stream",
     "text": [
      "--------------------------------------------------------------------------------\n",
      "layer=33\n"
     ]
    },
    {
     "data": {
      "text/html": [
       "<div id=\"circuits-vis-400ab753-17ee\" style=\"margin: 15px 0;\"/>\n",
       "    <script crossorigin type=\"module\">\n",
       "    import { render, ColoredTokens } from \"https://unpkg.com/circuitsvis@1.43.3/dist/cdn/esm.js\";\n",
       "    render(\n",
       "      \"circuits-vis-400ab753-17ee\",\n",
       "      ColoredTokens,\n",
       "      {\"tokens\": [\"Which\", \" person\", \" from\", \" the\", \" following\", \" list\", \" has\", \" the\", \" profession\", \" in\", \" common\", \" with\", \" Mike\", \" Pence\", \"?\\n\", \"Options\", \":\", \" Anthony\", \" Davis\", \",\", \" Jane\", \" Mayer\", \",\", \" Josh\", \" Haw\", \"ley\", \",\", \" Chuck\", \" Todd\", \",\", \" Paulo\", \" Dy\", \"b\", \"ala\", \",\", \" Marc\", \" Jacobs\", \".\\n\", \"Ans\", \":\"], \"values\": [0.10772037506103516, 0.02068936824798584, 0.009451329708099365, 0.011487841606140137, 0.009098812937736511, 0.008065998554229736, 0.013259530067443848, 0.003985866904258728, 0.03264719247817993, 0.006381601095199585, 0.031177222728729248, 0.019673258066177368, 0.03940320014953613, 0.05041223764419556, 0.05637359619140625, 0.011622592806816101, 0.022470057010650635, 0.020696789026260376, 0.03724759817123413, 0.0438917875289917, 0.009020596742630005, 0.021607041358947754, 0.03181144595146179, 0.007646873593330383, 0.0045730918645858765, 0.030315011739730835, 0.0410534143447876, 0.011148348450660706, 0.026535063982009888, 0.025782674551010132, 0.009637266397476196, 0.003489062190055847, 0.002377636730670929, 0.027641654014587402, 0.026984810829162598, 0.006295263767242432, 0.021627485752105713, 0.0856466293334961, 0.04316337779164314, 0.11430120468139648]}\n",
       "    )\n",
       "    </script>"
      ],
      "text/plain": [
       "<circuitsvis.utils.render.RenderedHTML at 0x7f72ec29f590>"
      ]
     },
     "metadata": {},
     "output_type": "display_data"
    },
    {
     "name": "stdout",
     "output_type": "stream",
     "text": [
      "--------------------------------------------------------------------------------\n",
      "layer=34\n"
     ]
    },
    {
     "data": {
      "text/html": [
       "<div id=\"circuits-vis-2fc787b0-f323\" style=\"margin: 15px 0;\"/>\n",
       "    <script crossorigin type=\"module\">\n",
       "    import { render, ColoredTokens } from \"https://unpkg.com/circuitsvis@1.43.3/dist/cdn/esm.js\";\n",
       "    render(\n",
       "      \"circuits-vis-2fc787b0-f323\",\n",
       "      ColoredTokens,\n",
       "      {\"tokens\": [\"Which\", \" person\", \" from\", \" the\", \" following\", \" list\", \" has\", \" the\", \" profession\", \" in\", \" common\", \" with\", \" Mike\", \" Pence\", \"?\\n\", \"Options\", \":\", \" Anthony\", \" Davis\", \",\", \" Jane\", \" Mayer\", \",\", \" Josh\", \" Haw\", \"ley\", \",\", \" Chuck\", \" Todd\", \",\", \" Paulo\", \" Dy\", \"b\", \"ala\", \",\", \" Marc\", \" Jacobs\", \".\\n\", \"Ans\", \":\"], \"values\": [0.12489891052246094, 0.016504287719726562, 0.005817204713821411, 0.004900515079498291, 0.007950041443109512, 0.006729684770107269, 0.0069542378187179565, 0.002571970224380493, 0.023001015186309814, 0.005920670926570892, 0.020912498235702515, 0.01166507601737976, 0.028354883193969727, 0.056746840476989746, 0.04398488998413086, 0.011625319719314575, 0.022967636585235596, 0.012675926089286804, 0.016207650303840637, 0.021633625030517578, 0.007209330797195435, 0.019091546535491943, 0.023063093423843384, 0.010308180004358292, 0.0028494130820035934, 0.060141921043395996, 0.071198970079422, 0.011029407382011414, 0.024830758571624756, 0.03441525995731354, 0.00618261843919754, 0.0024244263768196106, 0.001119818538427353, 0.01682056114077568, 0.016229361295700073, 0.005679517984390259, 0.013862386345863342, 0.10071563720703125, 0.0723334327340126, 0.15468263626098633]}\n",
       "    )\n",
       "    </script>"
      ],
      "text/plain": [
       "<circuitsvis.utils.render.RenderedHTML at 0x7f99fa134250>"
      ]
     },
     "metadata": {},
     "output_type": "display_data"
    },
    {
     "name": "stdout",
     "output_type": "stream",
     "text": [
      "--------------------------------------------------------------------------------\n",
      "layer=35\n"
     ]
    },
    {
     "data": {
      "text/html": [
       "<div id=\"circuits-vis-c43cfc7d-2a33\" style=\"margin: 15px 0;\"/>\n",
       "    <script crossorigin type=\"module\">\n",
       "    import { render, ColoredTokens } from \"https://unpkg.com/circuitsvis@1.43.3/dist/cdn/esm.js\";\n",
       "    render(\n",
       "      \"circuits-vis-c43cfc7d-2a33\",\n",
       "      ColoredTokens,\n",
       "      {\"tokens\": [\"Which\", \" person\", \" from\", \" the\", \" following\", \" list\", \" has\", \" the\", \" profession\", \" in\", \" common\", \" with\", \" Mike\", \" Pence\", \"?\\n\", \"Options\", \":\", \" Anthony\", \" Davis\", \",\", \" Jane\", \" Mayer\", \",\", \" Josh\", \" Haw\", \"ley\", \",\", \" Chuck\", \" Todd\", \",\", \" Paulo\", \" Dy\", \"b\", \"ala\", \",\", \" Marc\", \" Jacobs\", \".\\n\", \"Ans\", \":\"], \"values\": [0.0444183349609375, 0.016463816165924072, 0.011452794075012207, 0.006080836057662964, 0.007808879017829895, 0.00902044028043747, 0.009333193302154541, 0.0029860958456993103, 0.040388643741607666, 0.004895687103271484, 0.02853214740753174, 0.011876404285430908, 0.046672821044921875, 0.08668875694274902, 0.03221464157104492, 0.009554065763950348, 0.012128442525863647, 0.01021873950958252, 0.015485763549804688, 0.03440535068511963, 0.008754268288612366, 0.02790391445159912, 0.05121251940727234, 0.011281833052635193, 0.0025975853204727173, 0.08347105979919434, 0.08021968603134155, 0.01092161238193512, 0.049128830432891846, 0.044404834508895874, 0.01176711916923523, 0.0022594034671783447, 0.0008384585380554199, 0.018616020679473877, 0.02047497034072876, 0.008167117834091187, 0.0224611759185791, 0.06085821986198425, 0.02301398664712906, 0.07474303245544434]}\n",
       "    )\n",
       "    </script>"
      ],
      "text/plain": [
       "<circuitsvis.utils.render.RenderedHTML at 0x7f9a00b55350>"
      ]
     },
     "metadata": {},
     "output_type": "display_data"
    },
    {
     "name": "stdout",
     "output_type": "stream",
     "text": [
      "--------------------------------------------------------------------------------\n",
      "layer=36\n"
     ]
    },
    {
     "data": {
      "text/html": [
       "<div id=\"circuits-vis-786d63c0-f77a\" style=\"margin: 15px 0;\"/>\n",
       "    <script crossorigin type=\"module\">\n",
       "    import { render, ColoredTokens } from \"https://unpkg.com/circuitsvis@1.43.3/dist/cdn/esm.js\";\n",
       "    render(\n",
       "      \"circuits-vis-786d63c0-f77a\",\n",
       "      ColoredTokens,\n",
       "      {\"tokens\": [\"Which\", \" person\", \" from\", \" the\", \" following\", \" list\", \" has\", \" the\", \" profession\", \" in\", \" common\", \" with\", \" Mike\", \" Pence\", \"?\\n\", \"Options\", \":\", \" Anthony\", \" Davis\", \",\", \" Jane\", \" Mayer\", \",\", \" Josh\", \" Haw\", \"ley\", \",\", \" Chuck\", \" Todd\", \",\", \" Paulo\", \" Dy\", \"b\", \"ala\", \",\", \" Marc\", \" Jacobs\", \".\\n\", \"Ans\", \":\"], \"values\": [0.027060270309448242, 0.007355749607086182, 0.0033702552318573, 0.002974696457386017, 0.005272179841995239, 0.004839688539505005, 0.001872129738330841, 0.0014016740024089813, 0.016768276691436768, 0.0017592310905456543, 0.008593842387199402, 0.003269106149673462, 0.022655129432678223, 0.0477277934551239, 0.013056278228759766, 0.005690276622772217, 0.0067649781703948975, 0.004387758672237396, 0.00899893045425415, 0.011406004428863525, 0.003691047430038452, 0.017321914434432983, 0.015661239624023438, 0.004197567701339722, 0.0033755898475646973, 0.03346589207649231, 0.014908701181411743, 0.0035075992345809937, 0.02197946608066559, 0.013006225228309631, 0.004017036408185959, 0.001833394169807434, 0.001003257930278778, 0.0095406174659729, 0.006785094738006592, 0.0023603588342666626, 0.014028340578079224, 0.035064756870269775, 0.03383921831846237, 0.0806884765625]}\n",
       "    )\n",
       "    </script>"
      ],
      "text/plain": [
       "<circuitsvis.utils.render.RenderedHTML at 0x7f99fa134250>"
      ]
     },
     "metadata": {},
     "output_type": "display_data"
    },
    {
     "name": "stdout",
     "output_type": "stream",
     "text": [
      "--------------------------------------------------------------------------------\n",
      "layer=37\n"
     ]
    },
    {
     "data": {
      "text/html": [
       "<div id=\"circuits-vis-a38a1f10-5cad\" style=\"margin: 15px 0;\"/>\n",
       "    <script crossorigin type=\"module\">\n",
       "    import { render, ColoredTokens } from \"https://unpkg.com/circuitsvis@1.43.3/dist/cdn/esm.js\";\n",
       "    render(\n",
       "      \"circuits-vis-a38a1f10-5cad\",\n",
       "      ColoredTokens,\n",
       "      {\"tokens\": [\"Which\", \" person\", \" from\", \" the\", \" following\", \" list\", \" has\", \" the\", \" profession\", \" in\", \" common\", \" with\", \" Mike\", \" Pence\", \"?\\n\", \"Options\", \":\", \" Anthony\", \" Davis\", \",\", \" Jane\", \" Mayer\", \",\", \" Josh\", \" Haw\", \"ley\", \",\", \" Chuck\", \" Todd\", \",\", \" Paulo\", \" Dy\", \"b\", \"ala\", \",\", \" Marc\", \" Jacobs\", \".\\n\", \"Ans\", \":\"], \"values\": [0.05066537857055664, 0.01337587833404541, 0.006547808647155762, 0.0052588582038879395, 0.012853622436523438, 0.0108756422996521, 0.00966636836528778, 0.001957312226295471, 0.022164642810821533, 0.002174943685531616, 0.02193528413772583, 0.006243258714675903, 0.03338217735290527, 0.0856022834777832, 0.023284196853637695, 0.011790812015533447, 0.009088903665542603, 0.0049253106117248535, 0.019032776355743408, 0.01805204153060913, 0.0035381019115448, 0.02079629898071289, 0.013441354036331177, 0.005199111998081207, 0.002556249499320984, 0.03337371349334717, 0.018840253353118896, 0.0030650198459625244, 0.02152058482170105, 0.010682910680770874, 0.005701422691345215, 0.0019915997982025146, 0.0016931816935539246, 0.016195476055145264, 0.006130695343017578, 0.0025534629821777344, 0.017263710498809814, 0.05138540267944336, 0.05370813608169556, 0.094368577003479]}\n",
       "    )\n",
       "    </script>"
      ],
      "text/plain": [
       "<circuitsvis.utils.render.RenderedHTML at 0x7f99fa1754d0>"
      ]
     },
     "metadata": {},
     "output_type": "display_data"
    },
    {
     "name": "stdout",
     "output_type": "stream",
     "text": [
      "--------------------------------------------------------------------------------\n",
      "layer=38\n"
     ]
    },
    {
     "data": {
      "text/html": [
       "<div id=\"circuits-vis-c0683693-733f\" style=\"margin: 15px 0;\"/>\n",
       "    <script crossorigin type=\"module\">\n",
       "    import { render, ColoredTokens } from \"https://unpkg.com/circuitsvis@1.43.3/dist/cdn/esm.js\";\n",
       "    render(\n",
       "      \"circuits-vis-c0683693-733f\",\n",
       "      ColoredTokens,\n",
       "      {\"tokens\": [\"Which\", \" person\", \" from\", \" the\", \" following\", \" list\", \" has\", \" the\", \" profession\", \" in\", \" common\", \" with\", \" Mike\", \" Pence\", \"?\\n\", \"Options\", \":\", \" Anthony\", \" Davis\", \",\", \" Jane\", \" Mayer\", \",\", \" Josh\", \" Haw\", \"ley\", \",\", \" Chuck\", \" Todd\", \",\", \" Paulo\", \" Dy\", \"b\", \"ala\", \",\", \" Marc\", \" Jacobs\", \".\\n\", \"Ans\", \":\"], \"values\": [0.04758501052856445, 0.016620635986328125, 0.007592916488647461, 0.005830585956573486, 0.008120298385620117, 0.00641961395740509, 0.007968105375766754, 0.002354651689529419, 0.025509238243103027, 0.002562582492828369, 0.012723535299301147, 0.008338280022144318, 0.021045923233032227, 0.04554855823516846, 0.03342849016189575, 0.012499690055847168, 0.016200512647628784, 0.00431455671787262, 0.009510546922683716, 0.011755138635635376, 0.003466866910457611, 0.009588688611984253, 0.009501680731773376, 0.004155687987804413, 0.0025142356753349304, 0.01957578957080841, 0.011206179857254028, 0.0027299970388412476, 0.01211749017238617, 0.006814435124397278, 0.004059016704559326, 0.0010941028594970703, 0.0008207298815250397, 0.007193773984909058, 0.0040676891803741455, 0.002324432134628296, 0.00884297490119934, 0.04389369487762451, 0.06140851974487305, 0.13509678840637207]}\n",
       "    )\n",
       "    </script>"
      ],
      "text/plain": [
       "<circuitsvis.utils.render.RenderedHTML at 0x7f72ec26c3d0>"
      ]
     },
     "metadata": {},
     "output_type": "display_data"
    },
    {
     "name": "stdout",
     "output_type": "stream",
     "text": [
      "--------------------------------------------------------------------------------\n",
      "layer=39\n"
     ]
    },
    {
     "data": {
      "text/html": [
       "<div id=\"circuits-vis-1c932098-28dd\" style=\"margin: 15px 0;\"/>\n",
       "    <script crossorigin type=\"module\">\n",
       "    import { render, ColoredTokens } from \"https://unpkg.com/circuitsvis@1.43.3/dist/cdn/esm.js\";\n",
       "    render(\n",
       "      \"circuits-vis-1c932098-28dd\",\n",
       "      ColoredTokens,\n",
       "      {\"tokens\": [\"Which\", \" person\", \" from\", \" the\", \" following\", \" list\", \" has\", \" the\", \" profession\", \" in\", \" common\", \" with\", \" Mike\", \" Pence\", \"?\\n\", \"Options\", \":\", \" Anthony\", \" Davis\", \",\", \" Jane\", \" Mayer\", \",\", \" Josh\", \" Haw\", \"ley\", \",\", \" Chuck\", \" Todd\", \",\", \" Paulo\", \" Dy\", \"b\", \"ala\", \",\", \" Marc\", \" Jacobs\", \".\\n\", \"Ans\", \":\"], \"values\": [0.02415090799331665, 0.016173094511032104, 0.004725471138954163, 0.0033501237630844116, 0.007113050669431686, 0.01044115424156189, 0.004260886460542679, 0.0012004822492599487, 0.031105712056159973, 0.002481520175933838, 0.013755083084106445, 0.003657091408967972, 0.0296114981174469, 0.07168346643447876, 0.013152629137039185, 0.01566949486732483, 0.005529716610908508, 0.010219916701316833, 0.01533256471157074, 0.011243626475334167, 0.0066172461956739426, 0.01809588074684143, 0.015479307621717453, 0.01297513023018837, 0.00350135937333107, 0.046229004859924316, 0.028491951525211334, 0.006074815988540649, 0.02481997013092041, 0.01290431059896946, 0.00532861053943634, 0.001200396567583084, 0.0008051060140132904, 0.008235305547714233, 0.00695464015007019, 0.005960334092378616, 0.0129891037940979, 0.035007596015930176, 0.040806740522384644, 0.038335055112838745]}\n",
       "    )\n",
       "    </script>"
      ],
      "text/plain": [
       "<circuitsvis.utils.render.RenderedHTML at 0x7f9a00ba68d0>"
      ]
     },
     "metadata": {},
     "output_type": "display_data"
    },
    {
     "name": "stdout",
     "output_type": "stream",
     "text": [
      "--------------------------------------------------------------------------------\n",
      "layer=40\n"
     ]
    },
    {
     "data": {
      "text/html": [
       "<div id=\"circuits-vis-ab9d5917-554c\" style=\"margin: 15px 0;\"/>\n",
       "    <script crossorigin type=\"module\">\n",
       "    import { render, ColoredTokens } from \"https://unpkg.com/circuitsvis@1.43.3/dist/cdn/esm.js\";\n",
       "    render(\n",
       "      \"circuits-vis-ab9d5917-554c\",\n",
       "      ColoredTokens,\n",
       "      {\"tokens\": [\"Which\", \" person\", \" from\", \" the\", \" following\", \" list\", \" has\", \" the\", \" profession\", \" in\", \" common\", \" with\", \" Mike\", \" Pence\", \"?\\n\", \"Options\", \":\", \" Anthony\", \" Davis\", \",\", \" Jane\", \" Mayer\", \",\", \" Josh\", \" Haw\", \"ley\", \",\", \" Chuck\", \" Todd\", \",\", \" Paulo\", \" Dy\", \"b\", \"ala\", \",\", \" Marc\", \" Jacobs\", \".\\n\", \"Ans\", \":\"], \"values\": [0.021438121795654297, 0.00887887179851532, 0.0030398964881896973, 0.002508997917175293, 0.0032481662929058075, 0.0026974454522132874, 0.0031257960945367813, 0.0006984695792198181, 0.005155012011528015, 0.0009766872972249985, 0.004728406667709351, 0.0017144419252872467, 0.011325836181640625, 0.01517188549041748, 0.014674603939056396, 0.007256448268890381, 0.007634401321411133, 0.002106592059135437, 0.004536718130111694, 0.002481989562511444, 0.0015102624893188477, 0.004225939512252808, 0.0012051984667778015, 0.001582607626914978, 0.0011273771524429321, 0.004166781902313232, 0.0015179961919784546, 0.0015417039394378662, 0.0038733333349227905, 0.001245751976966858, 0.002104133367538452, 0.0011207759380340576, 0.0008273273706436157, 0.003343343734741211, 0.0010729432106018066, 0.001514151692390442, 0.003479577600955963, 0.021274447441101074, 0.03389096260070801, 0.036300063133239746]}\n",
       "    )\n",
       "    </script>"
      ],
      "text/plain": [
       "<circuitsvis.utils.render.RenderedHTML at 0x7f993811d090>"
      ]
     },
     "metadata": {},
     "output_type": "display_data"
    },
    {
     "name": "stdout",
     "output_type": "stream",
     "text": [
      "--------------------------------------------------------------------------------\n",
      "layer=41\n"
     ]
    },
    {
     "data": {
      "text/html": [
       "<div id=\"circuits-vis-2cbc4a79-82d9\" style=\"margin: 15px 0;\"/>\n",
       "    <script crossorigin type=\"module\">\n",
       "    import { render, ColoredTokens } from \"https://unpkg.com/circuitsvis@1.43.3/dist/cdn/esm.js\";\n",
       "    render(\n",
       "      \"circuits-vis-2cbc4a79-82d9\",\n",
       "      ColoredTokens,\n",
       "      {\"tokens\": [\"Which\", \" person\", \" from\", \" the\", \" following\", \" list\", \" has\", \" the\", \" profession\", \" in\", \" common\", \" with\", \" Mike\", \" Pence\", \"?\\n\", \"Options\", \":\", \" Anthony\", \" Davis\", \",\", \" Jane\", \" Mayer\", \",\", \" Josh\", \" Haw\", \"ley\", \",\", \" Chuck\", \" Todd\", \",\", \" Paulo\", \" Dy\", \"b\", \"ala\", \",\", \" Marc\", \" Jacobs\", \".\\n\", \"Ans\", \":\"], \"values\": [0.014688491821289062, 0.016556084156036377, 0.007110565900802612, 0.003420501947402954, 0.0074082911014556885, 0.006354667246341705, 0.004561126232147217, 0.0014268644154071808, 0.053212970495224, 0.0024210065603256226, 0.016568034887313843, 0.0051950812339782715, 0.01989293098449707, 0.040740966796875, 0.011249125003814697, 0.009126067161560059, 0.005904287099838257, 0.004265114665031433, 0.010323852300643921, 0.003458663821220398, 0.003982529044151306, 0.02173757553100586, 0.0028218254446983337, 0.002736121416091919, 0.0013111308217048645, 0.020458608865737915, 0.0029896870255470276, 0.0026253461837768555, 0.02163255214691162, 0.00261630117893219, 0.0038084685802459717, 0.0011213570833206177, 0.0012655258178710938, 0.008087828755378723, 0.0016618743538856506, 0.003586903214454651, 0.01848408579826355, 0.027092576026916504, 0.025540649890899658, 0.05919671058654785]}\n",
       "    )\n",
       "    </script>"
      ],
      "text/plain": [
       "<circuitsvis.utils.render.RenderedHTML at 0x7f993814f190>"
      ]
     },
     "metadata": {},
     "output_type": "display_data"
    },
    {
     "name": "stdout",
     "output_type": "stream",
     "text": [
      "--------------------------------------------------------------------------------\n",
      "layer=42\n"
     ]
    },
    {
     "data": {
      "text/html": [
       "<div id=\"circuits-vis-bf54d13a-d648\" style=\"margin: 15px 0;\"/>\n",
       "    <script crossorigin type=\"module\">\n",
       "    import { render, ColoredTokens } from \"https://unpkg.com/circuitsvis@1.43.3/dist/cdn/esm.js\";\n",
       "    render(\n",
       "      \"circuits-vis-bf54d13a-d648\",\n",
       "      ColoredTokens,\n",
       "      {\"tokens\": [\"Which\", \" person\", \" from\", \" the\", \" following\", \" list\", \" has\", \" the\", \" profession\", \" in\", \" common\", \" with\", \" Mike\", \" Pence\", \"?\\n\", \"Options\", \":\", \" Anthony\", \" Davis\", \",\", \" Jane\", \" Mayer\", \",\", \" Josh\", \" Haw\", \"ley\", \",\", \" Chuck\", \" Todd\", \",\", \" Paulo\", \" Dy\", \"b\", \"ala\", \",\", \" Marc\", \" Jacobs\", \".\\n\", \"Ans\", \":\"], \"values\": [0.011996954679489136, 0.0024089813232421875, 0.0013169124722480774, 0.0015387237071990967, 0.0015770047903060913, 0.0011380873620510101, 0.0007034055888652802, 0.0003777462989091873, 0.0040616244077682495, 0.0005672313272953033, 0.010201096534729004, 0.0010397657752037048, 0.012060284614562988, 0.024853378534317017, 0.006574541330337524, 0.0033870190382003784, 0.001811012625694275, 0.004489332437515259, 0.00735136866569519, 0.0011851750314235687, 0.0036160126328468323, 0.009674116969108582, 0.0016444139182567596, 0.0067967623472213745, 0.0037056878209114075, 0.013474121689796448, 0.0018248781561851501, 0.0033745616674423218, 0.012575149536132812, 0.0014255307614803314, 0.005130060017108917, 0.0019835494458675385, 0.0025301165878772736, 0.006162881851196289, 0.000988248735666275, 0.0031000077724456787, 0.00816953182220459, 0.012829244136810303, 0.026409447193145752, 0.015902698040008545]}\n",
       "    )\n",
       "    </script>"
      ],
      "text/plain": [
       "<circuitsvis.utils.render.RenderedHTML at 0x7f99381cd310>"
      ]
     },
     "metadata": {},
     "output_type": "display_data"
    },
    {
     "name": "stdout",
     "output_type": "stream",
     "text": [
      "--------------------------------------------------------------------------------\n",
      "layer=43\n"
     ]
    },
    {
     "data": {
      "text/html": [
       "<div id=\"circuits-vis-b5b42f7c-c85f\" style=\"margin: 15px 0;\"/>\n",
       "    <script crossorigin type=\"module\">\n",
       "    import { render, ColoredTokens } from \"https://unpkg.com/circuitsvis@1.43.3/dist/cdn/esm.js\";\n",
       "    render(\n",
       "      \"circuits-vis-b5b42f7c-c85f\",\n",
       "      ColoredTokens,\n",
       "      {\"tokens\": [\"Which\", \" person\", \" from\", \" the\", \" following\", \" list\", \" has\", \" the\", \" profession\", \" in\", \" common\", \" with\", \" Mike\", \" Pence\", \"?\\n\", \"Options\", \":\", \" Anthony\", \" Davis\", \",\", \" Jane\", \" Mayer\", \",\", \" Josh\", \" Haw\", \"ley\", \",\", \" Chuck\", \" Todd\", \",\", \" Paulo\", \" Dy\", \"b\", \"ala\", \",\", \" Marc\", \" Jacobs\", \".\\n\", \"Ans\", \":\"], \"values\": [0.011924535036087036, 0.004348814487457275, 0.0014944709837436676, 0.0014637343119829893, 0.0017410736763849854, 0.0016550257569178939, 0.0007582139223814011, 0.0004116510972380638, 0.013518504798412323, 0.000539616565220058, 0.005317106377333403, 0.0009233924211002886, 0.009055793285369873, 0.0244758278131485, 0.0040493011474609375, 0.003009885549545288, 0.0019711293280124664, 0.002366446889936924, 0.007852699607610703, 0.0015633795410394669, 0.002322111278772354, 0.008950979448854923, 0.0011313923168927431, 0.0016075121238827705, 0.00147942453622818, 0.009485922753810883, 0.0013198107481002808, 0.0018344421405345201, 0.010474838316440582, 0.001620725728571415, 0.002990562468767166, 0.001314215362071991, 0.0011493414640426636, 0.00536250788718462, 0.001039937837049365, 0.0021724915131926537, 0.010874904692173004, 0.012591823935508728, 0.03692913055419922, 0.027041345834732056]}\n",
       "    )\n",
       "    </script>"
      ],
      "text/plain": [
       "<circuitsvis.utils.render.RenderedHTML at 0x7f99dc106f90>"
      ]
     },
     "metadata": {},
     "output_type": "display_data"
    },
    {
     "name": "stdout",
     "output_type": "stream",
     "text": [
      "--------------------------------------------------------------------------------\n",
      "layer=44\n"
     ]
    },
    {
     "data": {
      "text/html": [
       "<div id=\"circuits-vis-a6e6dfdc-d657\" style=\"margin: 15px 0;\"/>\n",
       "    <script crossorigin type=\"module\">\n",
       "    import { render, ColoredTokens } from \"https://unpkg.com/circuitsvis@1.43.3/dist/cdn/esm.js\";\n",
       "    render(\n",
       "      \"circuits-vis-a6e6dfdc-d657\",\n",
       "      ColoredTokens,\n",
       "      {\"tokens\": [\"Which\", \" person\", \" from\", \" the\", \" following\", \" list\", \" has\", \" the\", \" profession\", \" in\", \" common\", \" with\", \" Mike\", \" Pence\", \"?\\n\", \"Options\", \":\", \" Anthony\", \" Davis\", \",\", \" Jane\", \" Mayer\", \",\", \" Josh\", \" Haw\", \"ley\", \",\", \" Chuck\", \" Todd\", \",\", \" Paulo\", \" Dy\", \"b\", \"ala\", \",\", \" Marc\", \" Jacobs\", \".\\n\", \"Ans\", \":\"], \"values\": [0.021961987018585205, 0.015596747398376465, 0.010248884558677673, 0.00609181821346283, 0.013118728995323181, 0.007680833339691162, 0.0052188001573085785, 0.0012562405318021774, 0.014430932700634003, 0.0019131749868392944, 0.010174870491027832, 0.006453454494476318, 0.020202815532684326, 0.019575059413909912, 0.013476252555847168, 0.026291877031326294, 0.009148925542831421, 0.007083326578140259, 0.007166504859924316, 0.005889132618904114, 0.00578027218580246, 0.0067851245403289795, 0.00298343226313591, 0.004671365022659302, 0.002038121223449707, 0.008163802325725555, 0.004281219094991684, 0.003936439752578735, 0.006401330232620239, 0.002438746392726898, 0.00512242317199707, 0.0014735013246536255, 0.0011429563164710999, 0.004581451416015625, 0.002138487994670868, 0.004452206194400787, 0.006496697664260864, 0.016906321048736572, 0.03232884407043457, 0.022582411766052246]}\n",
       "    )\n",
       "    </script>"
      ],
      "text/plain": [
       "<circuitsvis.utils.render.RenderedHTML at 0x7f72ec21b290>"
      ]
     },
     "metadata": {},
     "output_type": "display_data"
    },
    {
     "name": "stdout",
     "output_type": "stream",
     "text": [
      "--------------------------------------------------------------------------------\n",
      "layer=45\n"
     ]
    },
    {
     "data": {
      "text/html": [
       "<div id=\"circuits-vis-af4b7a78-d152\" style=\"margin: 15px 0;\"/>\n",
       "    <script crossorigin type=\"module\">\n",
       "    import { render, ColoredTokens } from \"https://unpkg.com/circuitsvis@1.43.3/dist/cdn/esm.js\";\n",
       "    render(\n",
       "      \"circuits-vis-af4b7a78-d152\",\n",
       "      ColoredTokens,\n",
       "      {\"tokens\": [\"Which\", \" person\", \" from\", \" the\", \" following\", \" list\", \" has\", \" the\", \" profession\", \" in\", \" common\", \" with\", \" Mike\", \" Pence\", \"?\\n\", \"Options\", \":\", \" Anthony\", \" Davis\", \",\", \" Jane\", \" Mayer\", \",\", \" Josh\", \" Haw\", \"ley\", \",\", \" Chuck\", \" Todd\", \",\", \" Paulo\", \" Dy\", \"b\", \"ala\", \",\", \" Marc\", \" Jacobs\", \".\\n\", \"Ans\", \":\"], \"values\": [0.0068162232637405396, 0.0026146620512008667, 0.00119858980178833, 0.0016415119171142578, 0.0012100627645850182, 0.0010796897113323212, 0.0006935484707355499, 0.0003847852349281311, 0.0027523860335350037, 0.00046233460307121277, 0.0024478286504745483, 0.0008168593049049377, 0.004875540733337402, 0.009970307350158691, 0.007879078388214111, 0.003719530999660492, 0.0038007497787475586, 0.001264333724975586, 0.006700016558170319, 0.001636464148759842, 0.0013129040598869324, 0.003796905279159546, 0.0011127199977636337, 0.0013219304382801056, 0.0009729228913784027, 0.003424927592277527, 0.0014366433024406433, 0.0014107227325439453, 0.005230851471424103, 0.001186653971672058, 0.0015084296464920044, 0.0007651858031749725, 0.00090828537940979, 0.006614990532398224, 0.0011543352156877518, 0.001505926251411438, 0.010627880692481995, 0.02053755521774292, 0.049327313899993896, 0.050246208906173706]}\n",
       "    )\n",
       "    </script>"
      ],
      "text/plain": [
       "<circuitsvis.utils.render.RenderedHTML at 0x7f99381d56d0>"
      ]
     },
     "metadata": {},
     "output_type": "display_data"
    },
    {
     "name": "stdout",
     "output_type": "stream",
     "text": [
      "--------------------------------------------------------------------------------\n",
      "layer=46\n"
     ]
    },
    {
     "data": {
      "text/html": [
       "<div id=\"circuits-vis-44903675-19cb\" style=\"margin: 15px 0;\"/>\n",
       "    <script crossorigin type=\"module\">\n",
       "    import { render, ColoredTokens } from \"https://unpkg.com/circuitsvis@1.43.3/dist/cdn/esm.js\";\n",
       "    render(\n",
       "      \"circuits-vis-44903675-19cb\",\n",
       "      ColoredTokens,\n",
       "      {\"tokens\": [\"Which\", \" person\", \" from\", \" the\", \" following\", \" list\", \" has\", \" the\", \" profession\", \" in\", \" common\", \" with\", \" Mike\", \" Pence\", \"?\\n\", \"Options\", \":\", \" Anthony\", \" Davis\", \",\", \" Jane\", \" Mayer\", \",\", \" Josh\", \" Haw\", \"ley\", \",\", \" Chuck\", \" Todd\", \",\", \" Paulo\", \" Dy\", \"b\", \"ala\", \",\", \" Marc\", \" Jacobs\", \".\\n\", \"Ans\", \":\"], \"values\": [0.004843533039093018, 0.000664345920085907, 0.0005990415811538696, 0.0007690824568271637, 0.000431085005402565, 0.00021478161215782166, 0.0002188030630350113, 0.00012391619384288788, 0.0007665008306503296, 0.00020529329776763916, 0.0008866861462593079, 0.00032131560146808624, 0.004536189138889313, 0.008265852928161621, 0.003197401762008667, 0.0014549121260643005, 0.0014787539839744568, 0.0012437347322702408, 0.0025609806180000305, 0.0005041435360908508, 0.0009142495691776276, 0.004012927412986755, 0.00032420456409454346, 0.0010198019444942474, 0.0005304180085659027, 0.0028924569487571716, 0.0005180630832910538, 0.0011156238615512848, 0.003651648759841919, 0.0005863765254616737, 0.001192016527056694, 0.00047493353486061096, 0.0005483850836753845, 0.0028605684638023376, 0.0004622656852006912, 0.0012686923146247864, 0.005837768316268921, 0.006933927536010742, 0.01082959771156311, 0.00927022099494934]}\n",
       "    )\n",
       "    </script>"
      ],
      "text/plain": [
       "<circuitsvis.utils.render.RenderedHTML at 0x7f9938314d50>"
      ]
     },
     "metadata": {},
     "output_type": "display_data"
    },
    {
     "name": "stdout",
     "output_type": "stream",
     "text": [
      "--------------------------------------------------------------------------------\n",
      "layer=47\n"
     ]
    },
    {
     "data": {
      "text/html": [
       "<div id=\"circuits-vis-b8eeae1f-a060\" style=\"margin: 15px 0;\"/>\n",
       "    <script crossorigin type=\"module\">\n",
       "    import { render, ColoredTokens } from \"https://unpkg.com/circuitsvis@1.43.3/dist/cdn/esm.js\";\n",
       "    render(\n",
       "      \"circuits-vis-b8eeae1f-a060\",\n",
       "      ColoredTokens,\n",
       "      {\"tokens\": [\"Which\", \" person\", \" from\", \" the\", \" following\", \" list\", \" has\", \" the\", \" profession\", \" in\", \" common\", \" with\", \" Mike\", \" Pence\", \"?\\n\", \"Options\", \":\", \" Anthony\", \" Davis\", \",\", \" Jane\", \" Mayer\", \",\", \" Josh\", \" Haw\", \"ley\", \",\", \" Chuck\", \" Todd\", \",\", \" Paulo\", \" Dy\", \"b\", \"ala\", \",\", \" Marc\", \" Jacobs\", \".\\n\", \"Ans\", \":\"], \"values\": [0.00869607925415039, 0.0026341602206230164, 0.0013904869556427002, 0.0015001911669969559, 0.0007925019599497318, 0.0007175002247095108, 0.0009407214820384979, 0.0005329251289367676, 0.0023012906312942505, 0.0006876606494188309, 0.0022040903568267822, 0.0011289147660136223, 0.008348643779754639, 0.00754508376121521, 0.004693508148193359, 0.00273093581199646, 0.0026830583810806274, 0.004292294383049011, 0.0029451698064804077, 0.0019409731030464172, 0.01310238242149353, 0.0031431913375854492, 0.004375709220767021, 0.0656333863735199, 0.004408698529005051, 0.011643290519714355, 0.005564544349908829, 0.012285515666007996, 0.004241228103637695, 0.0022255033254623413, 0.005939111113548279, 0.0018138214945793152, 0.0010807141661643982, 0.0025054961442947388, 0.00135769322514534, 0.007025286555290222, 0.0042105913162231445, 0.007492721080780029, 0.013136178255081177, 0.006850004196166992]}\n",
       "    )\n",
       "    </script>"
      ],
      "text/plain": [
       "<circuitsvis.utils.render.RenderedHTML at 0x7f72ec29c410>"
      ]
     },
     "metadata": {},
     "output_type": "display_data"
    },
    {
     "name": "stdout",
     "output_type": "stream",
     "text": [
      "--------------------------------------------------------------------------------\n",
      "layer=48\n"
     ]
    },
    {
     "data": {
      "text/html": [
       "<div id=\"circuits-vis-454cddbb-2dd0\" style=\"margin: 15px 0;\"/>\n",
       "    <script crossorigin type=\"module\">\n",
       "    import { render, ColoredTokens } from \"https://unpkg.com/circuitsvis@1.43.3/dist/cdn/esm.js\";\n",
       "    render(\n",
       "      \"circuits-vis-454cddbb-2dd0\",\n",
       "      ColoredTokens,\n",
       "      {\"tokens\": [\"Which\", \" person\", \" from\", \" the\", \" following\", \" list\", \" has\", \" the\", \" profession\", \" in\", \" common\", \" with\", \" Mike\", \" Pence\", \"?\\n\", \"Options\", \":\", \" Anthony\", \" Davis\", \",\", \" Jane\", \" Mayer\", \",\", \" Josh\", \" Haw\", \"ley\", \",\", \" Chuck\", \" Todd\", \",\", \" Paulo\", \" Dy\", \"b\", \"ala\", \",\", \" Marc\", \" Jacobs\", \".\\n\", \"Ans\", \":\"], \"values\": [0.013165712356567383, 0.004324212670326233, 0.001347459852695465, 0.001033879816532135, 0.0012573376297950745, 0.0009518768638372421, 0.0009752996265888214, 0.00037952233105897903, 0.0023647695779800415, 0.0006342176347970963, 0.0019861459732055664, 0.0009994059801101685, 0.017519116401672363, 0.011428594589233398, 0.00790354609489441, 0.008131489157676697, 0.002827882766723633, 0.010226838290691376, 0.005041688680648804, 0.0013554617762565613, 0.019317716360092163, 0.006747350096702576, 0.0013971012085676193, 0.023348964750766754, 0.0053136348724365234, 0.005046188831329346, 0.001375298947095871, 0.016612298786640167, 0.007809668779373169, 0.0009425953030586243, 0.006250053644180298, 0.002600785344839096, 0.001374363899230957, 0.00231238454580307, 0.0008493661880493164, 0.00781412422657013, 0.0033819302916526794, 0.00908881425857544, 0.02773982286453247, 0.011597007513046265]}\n",
       "    )\n",
       "    </script>"
      ],
      "text/plain": [
       "<circuitsvis.utils.render.RenderedHTML at 0x7f9a00ba68d0>"
      ]
     },
     "metadata": {},
     "output_type": "display_data"
    },
    {
     "name": "stdout",
     "output_type": "stream",
     "text": [
      "--------------------------------------------------------------------------------\n",
      "layer=49\n"
     ]
    },
    {
     "data": {
      "text/html": [
       "<div id=\"circuits-vis-e86f1fcb-267d\" style=\"margin: 15px 0;\"/>\n",
       "    <script crossorigin type=\"module\">\n",
       "    import { render, ColoredTokens } from \"https://unpkg.com/circuitsvis@1.43.3/dist/cdn/esm.js\";\n",
       "    render(\n",
       "      \"circuits-vis-e86f1fcb-267d\",\n",
       "      ColoredTokens,\n",
       "      {\"tokens\": [\"Which\", \" person\", \" from\", \" the\", \" following\", \" list\", \" has\", \" the\", \" profession\", \" in\", \" common\", \" with\", \" Mike\", \" Pence\", \"?\\n\", \"Options\", \":\", \" Anthony\", \" Davis\", \",\", \" Jane\", \" Mayer\", \",\", \" Josh\", \" Haw\", \"ley\", \",\", \" Chuck\", \" Todd\", \",\", \" Paulo\", \" Dy\", \"b\", \"ala\", \",\", \" Marc\", \" Jacobs\", \".\\n\", \"Ans\", \":\"], \"values\": [0.009026855230331421, 0.005030088126659393, 0.0015748851001262665, 0.0014862790703773499, 0.0013244375586509705, 0.0014976412057876587, 0.0013959594070911407, 0.0005242954939603806, 0.006173588335514069, 0.0009517110884189606, 0.00481385737657547, 0.0017193295061588287, 0.015213251113891602, 0.018395304679870605, 0.005373716354370117, 0.005267009139060974, 0.003013625741004944, 0.008344218134880066, 0.0060666948556900024, 0.002034425735473633, 0.005323305726051331, 0.006032839417457581, 0.005125414580106735, 0.009634524583816528, 0.003537200391292572, 0.010782085359096527, 0.0034025348722934723, 0.00689968466758728, 0.006789006292819977, 0.0019525885581970215, 0.004114963114261627, 0.001846611499786377, 0.0009681172668933868, 0.003445073962211609, 0.0016651526093482971, 0.006530016660690308, 0.004740789532661438, 0.009329080581665039, 0.024866461753845215, 0.012961536645889282]}\n",
       "    )\n",
       "    </script>"
      ],
      "text/plain": [
       "<circuitsvis.utils.render.RenderedHTML at 0x7f99b8194290>"
      ]
     },
     "metadata": {},
     "output_type": "display_data"
    },
    {
     "name": "stdout",
     "output_type": "stream",
     "text": [
      "--------------------------------------------------------------------------------\n",
      "layer=50\n"
     ]
    },
    {
     "data": {
      "text/html": [
       "<div id=\"circuits-vis-9c286ead-5382\" style=\"margin: 15px 0;\"/>\n",
       "    <script crossorigin type=\"module\">\n",
       "    import { render, ColoredTokens } from \"https://unpkg.com/circuitsvis@1.43.3/dist/cdn/esm.js\";\n",
       "    render(\n",
       "      \"circuits-vis-9c286ead-5382\",\n",
       "      ColoredTokens,\n",
       "      {\"tokens\": [\"Which\", \" person\", \" from\", \" the\", \" following\", \" list\", \" has\", \" the\", \" profession\", \" in\", \" common\", \" with\", \" Mike\", \" Pence\", \"?\\n\", \"Options\", \":\", \" Anthony\", \" Davis\", \",\", \" Jane\", \" Mayer\", \",\", \" Josh\", \" Haw\", \"ley\", \",\", \" Chuck\", \" Todd\", \",\", \" Paulo\", \" Dy\", \"b\", \"ala\", \",\", \" Marc\", \" Jacobs\", \".\\n\", \"Ans\", \":\"], \"values\": [0.00707051157951355, 0.004211589694023132, 0.0015512406826019287, 0.001247510313987732, 0.0015678927302360535, 0.0026455819606781006, 0.0015337057411670685, 0.0005896985530853271, 0.0031077712774276733, 0.0008813962340354919, 0.002209588885307312, 0.000994618982076645, 0.009974628686904907, 0.008238926529884338, 0.0045309364795684814, 0.016996122896671295, 0.0034673288464546204, 0.004300624132156372, 0.002741757780313492, 0.0017664581537246704, 0.007970467209815979, 0.004207141697406769, 0.002679247409105301, 0.013031139969825745, 0.0022421926259994507, 0.0036043375730514526, 0.003614429384469986, 0.011970840394496918, 0.005414314568042755, 0.0018169600516557693, 0.008324503898620605, 0.0011310428380966187, 0.0006053075194358826, 0.0021011903882026672, 0.0012356191873550415, 0.00581233948469162, 0.003947708755731583, 0.006020694971084595, 0.022151648998260498, 0.008638754487037659]}\n",
       "    )\n",
       "    </script>"
      ],
      "text/plain": [
       "<circuitsvis.utils.render.RenderedHTML at 0x7f72e5ff5090>"
      ]
     },
     "metadata": {},
     "output_type": "display_data"
    },
    {
     "name": "stdout",
     "output_type": "stream",
     "text": [
      "--------------------------------------------------------------------------------\n",
      "layer=51\n"
     ]
    },
    {
     "data": {
      "text/html": [
       "<div id=\"circuits-vis-398fab81-8426\" style=\"margin: 15px 0;\"/>\n",
       "    <script crossorigin type=\"module\">\n",
       "    import { render, ColoredTokens } from \"https://unpkg.com/circuitsvis@1.43.3/dist/cdn/esm.js\";\n",
       "    render(\n",
       "      \"circuits-vis-398fab81-8426\",\n",
       "      ColoredTokens,\n",
       "      {\"tokens\": [\"Which\", \" person\", \" from\", \" the\", \" following\", \" list\", \" has\", \" the\", \" profession\", \" in\", \" common\", \" with\", \" Mike\", \" Pence\", \"?\\n\", \"Options\", \":\", \" Anthony\", \" Davis\", \",\", \" Jane\", \" Mayer\", \",\", \" Josh\", \" Haw\", \"ley\", \",\", \" Chuck\", \" Todd\", \",\", \" Paulo\", \" Dy\", \"b\", \"ala\", \",\", \" Marc\", \" Jacobs\", \".\\n\", \"Ans\", \":\"], \"values\": [0.006379306316375732, 0.0035419538617134094, 0.001270262524485588, 0.0012401873245835304, 0.0009308467269875109, 0.001156160607933998, 0.0006734412163496017, 0.0005238419398665428, 0.006643407046794891, 0.0006368583999574184, 0.00767505681142211, 0.0007473679725080729, 0.007822304964065552, 0.007788911461830139, 0.005726441740989685, 0.0037187831476330757, 0.0022506853565573692, 0.002188571263104677, 0.0021254457533359528, 0.0014527328312397003, 0.0491623729467392, 0.002634875476360321, 0.002123091835528612, 0.001980764791369438, 0.0052174292504787445, 0.003751911222934723, 0.0023719333112239838, 0.0025335699319839478, 0.0034051574766635895, 0.0014673871919512749, 0.0038920342922210693, 0.002116687595844269, 0.0011669844388961792, 0.0014966055750846863, 0.0012274328619241714, 0.0027416907250881195, 0.002124723047018051, 0.01467353105545044, 0.025106847286224365, 0.011742651462554932]}\n",
       "    )\n",
       "    </script>"
      ],
      "text/plain": [
       "<circuitsvis.utils.render.RenderedHTML at 0x7f9a00b15bd0>"
      ]
     },
     "metadata": {},
     "output_type": "display_data"
    },
    {
     "name": "stdout",
     "output_type": "stream",
     "text": [
      "--------------------------------------------------------------------------------\n",
      "layer=52\n"
     ]
    },
    {
     "data": {
      "text/html": [
       "<div id=\"circuits-vis-65389fd5-f41f\" style=\"margin: 15px 0;\"/>\n",
       "    <script crossorigin type=\"module\">\n",
       "    import { render, ColoredTokens } from \"https://unpkg.com/circuitsvis@1.43.3/dist/cdn/esm.js\";\n",
       "    render(\n",
       "      \"circuits-vis-65389fd5-f41f\",\n",
       "      ColoredTokens,\n",
       "      {\"tokens\": [\"Which\", \" person\", \" from\", \" the\", \" following\", \" list\", \" has\", \" the\", \" profession\", \" in\", \" common\", \" with\", \" Mike\", \" Pence\", \"?\\n\", \"Options\", \":\", \" Anthony\", \" Davis\", \",\", \" Jane\", \" Mayer\", \",\", \" Josh\", \" Haw\", \"ley\", \",\", \" Chuck\", \" Todd\", \",\", \" Paulo\", \" Dy\", \"b\", \"ala\", \",\", \" Marc\", \" Jacobs\", \".\\n\", \"Ans\", \":\"], \"values\": [0.01341545581817627, 0.0059937238693237305, 0.004507530480623245, 0.002797268331050873, 0.004093462601304054, 0.002482868731021881, 0.002660650759935379, 0.0011932943016290665, 0.00550653412938118, 0.0026826858520507812, 0.013890407979488373, 0.002856343984603882, 0.026960253715515137, 0.012958057224750519, 0.02078363299369812, 0.02046625316143036, 0.008662283420562744, 0.031908318400382996, 0.005866281688213348, 0.004091508686542511, 0.03106255829334259, 0.005757272243499756, 0.007947554811835289, 0.14058101177215576, 0.02375994622707367, 0.013265442103147507, 0.007116101682186127, 0.02737046778202057, 0.008430831134319305, 0.0034290701150894165, 0.011961497366428375, 0.00534423440694809, 0.0018821964040398598, 0.002566002309322357, 0.0030362773686647415, 0.04856470227241516, 0.004911698400974274, 0.026021808385849, 0.05304059386253357, 0.0277041494846344]}\n",
       "    )\n",
       "    </script>"
      ],
      "text/plain": [
       "<circuitsvis.utils.render.RenderedHTML at 0x7f9a00b55350>"
      ]
     },
     "metadata": {},
     "output_type": "display_data"
    },
    {
     "name": "stdout",
     "output_type": "stream",
     "text": [
      "--------------------------------------------------------------------------------\n",
      "layer=53\n"
     ]
    },
    {
     "data": {
      "text/html": [
       "<div id=\"circuits-vis-67e06377-fad1\" style=\"margin: 15px 0;\"/>\n",
       "    <script crossorigin type=\"module\">\n",
       "    import { render, ColoredTokens } from \"https://unpkg.com/circuitsvis@1.43.3/dist/cdn/esm.js\";\n",
       "    render(\n",
       "      \"circuits-vis-67e06377-fad1\",\n",
       "      ColoredTokens,\n",
       "      {\"tokens\": [\"Which\", \" person\", \" from\", \" the\", \" following\", \" list\", \" has\", \" the\", \" profession\", \" in\", \" common\", \" with\", \" Mike\", \" Pence\", \"?\\n\", \"Options\", \":\", \" Anthony\", \" Davis\", \",\", \" Jane\", \" Mayer\", \",\", \" Josh\", \" Haw\", \"ley\", \",\", \" Chuck\", \" Todd\", \",\", \" Paulo\", \" Dy\", \"b\", \"ala\", \",\", \" Marc\", \" Jacobs\", \".\\n\", \"Ans\", \":\"], \"values\": [0.009245336055755615, 0.005034895613789558, 0.0017970763146877289, 0.0013767145574092865, 0.0008129272609949112, 0.0012205448001623154, 0.0017689373344182968, 0.000813070684671402, 0.0025647543370723724, 0.0010334979742765427, 0.0022992119193077087, 0.0014650560915470123, 0.04072856903076172, 0.012840241193771362, 0.011788658797740936, 0.0031883977353572845, 0.00430065393447876, 0.013450562953948975, 0.00347745418548584, 0.0024810675531625748, 0.06482233107089996, 0.004201546311378479, 0.011605512350797653, 0.05839961767196655, 0.014615356922149658, 0.004988726228475571, 0.006662914529442787, 0.024534471333026886, 0.005437120795249939, 0.002987045794725418, 0.05485647916793823, 0.005868047475814819, 0.0014307014644145966, 0.0021877437829971313, 0.0029438305646181107, 0.019049592316150665, 0.0034081116318702698, 0.015279285609722137, 0.018784910440444946, 0.015465453267097473]}\n",
       "    )\n",
       "    </script>"
      ],
      "text/plain": [
       "<circuitsvis.utils.render.RenderedHTML at 0x7f9a00e57050>"
      ]
     },
     "metadata": {},
     "output_type": "display_data"
    },
    {
     "name": "stdout",
     "output_type": "stream",
     "text": [
      "--------------------------------------------------------------------------------\n",
      "layer=54\n"
     ]
    },
    {
     "data": {
      "text/html": [
       "<div id=\"circuits-vis-a81de374-5fee\" style=\"margin: 15px 0;\"/>\n",
       "    <script crossorigin type=\"module\">\n",
       "    import { render, ColoredTokens } from \"https://unpkg.com/circuitsvis@1.43.3/dist/cdn/esm.js\";\n",
       "    render(\n",
       "      \"circuits-vis-a81de374-5fee\",\n",
       "      ColoredTokens,\n",
       "      {\"tokens\": [\"Which\", \" person\", \" from\", \" the\", \" following\", \" list\", \" has\", \" the\", \" profession\", \" in\", \" common\", \" with\", \" Mike\", \" Pence\", \"?\\n\", \"Options\", \":\", \" Anthony\", \" Davis\", \",\", \" Jane\", \" Mayer\", \",\", \" Josh\", \" Haw\", \"ley\", \",\", \" Chuck\", \" Todd\", \",\", \" Paulo\", \" Dy\", \"b\", \"ala\", \",\", \" Marc\", \" Jacobs\", \".\\n\", \"Ans\", \":\"], \"values\": [0.016225159168243408, 0.0023882389068603516, 0.0012799911201000214, 0.0009536966681480408, 0.0007756240665912628, 0.0007064864039421082, 0.001034524291753769, 0.0005848482251167297, 0.002716120332479477, 0.0007962509989738464, 0.0014523789286613464, 0.0010583586990833282, 0.017747998237609863, 0.01764380931854248, 0.006134703755378723, 0.004079461097717285, 0.0030138492584228516, 0.031066380441188812, 0.007424257695674896, 0.0023165568709373474, 0.01341596245765686, 0.01165473461151123, 0.0037755202502012253, 0.0424296036362648, 0.004045173525810242, 0.007100187242031097, 0.0038410183042287827, 0.016335412859916687, 0.00981844961643219, 0.0021971184760332108, 0.015258140861988068, 0.002486869692802429, 0.00115145742893219, 0.005120165646076202, 0.001524684950709343, 0.010822243988513947, 0.019385486841201782, 0.009572625160217285, 0.01298534870147705, 0.016794979572296143]}\n",
       "    )\n",
       "    </script>"
      ],
      "text/plain": [
       "<circuitsvis.utils.render.RenderedHTML at 0x7f99dc107250>"
      ]
     },
     "metadata": {},
     "output_type": "display_data"
    },
    {
     "name": "stdout",
     "output_type": "stream",
     "text": [
      "--------------------------------------------------------------------------------\n",
      "layer=55\n"
     ]
    },
    {
     "data": {
      "text/html": [
       "<div id=\"circuits-vis-50a7ff99-9f5b\" style=\"margin: 15px 0;\"/>\n",
       "    <script crossorigin type=\"module\">\n",
       "    import { render, ColoredTokens } from \"https://unpkg.com/circuitsvis@1.43.3/dist/cdn/esm.js\";\n",
       "    render(\n",
       "      \"circuits-vis-50a7ff99-9f5b\",\n",
       "      ColoredTokens,\n",
       "      {\"tokens\": [\"Which\", \" person\", \" from\", \" the\", \" following\", \" list\", \" has\", \" the\", \" profession\", \" in\", \" common\", \" with\", \" Mike\", \" Pence\", \"?\\n\", \"Options\", \":\", \" Anthony\", \" Davis\", \",\", \" Jane\", \" Mayer\", \",\", \" Josh\", \" Haw\", \"ley\", \",\", \" Chuck\", \" Todd\", \",\", \" Paulo\", \" Dy\", \"b\", \"ala\", \",\", \" Marc\", \" Jacobs\", \".\\n\", \"Ans\", \":\"], \"values\": [0.02760986238718033, 0.003450261428952217, 0.002159318421036005, 0.0019338050624355674, 0.0012953337281942368, 0.006533114239573479, 0.0012484852923080325, 0.0009566591470502317, 0.0028079114854335785, 0.0010849711252376437, 0.0029123425483703613, 0.0017542806454002857, 0.006314292550086975, 0.016310904175043106, 0.013167981058359146, 0.004023246467113495, 0.004911321215331554, 0.002887721173465252, 0.003847174346446991, 0.0029112189076840878, 0.00667184591293335, 0.008010109886527061, 0.003841900499537587, 0.003341278061270714, 0.005102716386318207, 0.0057084038853645325, 0.002960935467854142, 0.004079978913068771, 0.003963734954595566, 0.0024053272791206837, 0.011674992740154266, 0.002204813063144684, 0.002064354717731476, 0.004505140706896782, 0.0021427066531032324, 0.004588328301906586, 0.004513094201683998, 0.020574957132339478, 0.027915045619010925, 0.051376089453697205]}\n",
       "    )\n",
       "    </script>"
      ],
      "text/plain": [
       "<circuitsvis.utils.render.RenderedHTML at 0x7f99dc105e10>"
      ]
     },
     "metadata": {},
     "output_type": "display_data"
    },
    {
     "name": "stdout",
     "output_type": "stream",
     "text": [
      "--------------------------------------------------------------------------------\n",
      "layer=56\n"
     ]
    },
    {
     "data": {
      "text/html": [
       "<div id=\"circuits-vis-09a528b0-ee62\" style=\"margin: 15px 0;\"/>\n",
       "    <script crossorigin type=\"module\">\n",
       "    import { render, ColoredTokens } from \"https://unpkg.com/circuitsvis@1.43.3/dist/cdn/esm.js\";\n",
       "    render(\n",
       "      \"circuits-vis-09a528b0-ee62\",\n",
       "      ColoredTokens,\n",
       "      {\"tokens\": [\"Which\", \" person\", \" from\", \" the\", \" following\", \" list\", \" has\", \" the\", \" profession\", \" in\", \" common\", \" with\", \" Mike\", \" Pence\", \"?\\n\", \"Options\", \":\", \" Anthony\", \" Davis\", \",\", \" Jane\", \" Mayer\", \",\", \" Josh\", \" Haw\", \"ley\", \",\", \" Chuck\", \" Todd\", \",\", \" Paulo\", \" Dy\", \"b\", \"ala\", \",\", \" Marc\", \" Jacobs\", \".\\n\", \"Ans\", \":\"], \"values\": [0.013673663139343262, 0.013062477111816406, 0.004153087735176086, 0.0026240497827529907, 0.0025674402713775635, 0.0024640709161758423, 0.002951711416244507, 0.0017195120453834534, 0.020408615469932556, 0.0024172067642211914, 0.01585286855697632, 0.0030678659677505493, 0.06134653091430664, 0.02771085500717163, 0.018669843673706055, 0.017706215381622314, 0.008611530065536499, 0.03614345192909241, 0.006250977516174316, 0.006949707865715027, 0.038669243454933167, 0.012124419212341309, 0.024784095585346222, 0.08084012567996979, 0.006362266838550568, 0.012453600764274597, 0.016305148601531982, 0.09256576001644135, 0.01317325234413147, 0.007219001650810242, 0.09101487696170807, 0.010377094149589539, 0.001999899744987488, 0.003459155559539795, 0.00691656768321991, 0.030395254492759705, 0.005105003714561462, 0.03852999210357666, 0.05276888608932495, 0.022751569747924805]}\n",
       "    )\n",
       "    </script>"
      ],
      "text/plain": [
       "<circuitsvis.utils.render.RenderedHTML at 0x7f72ec29c610>"
      ]
     },
     "metadata": {},
     "output_type": "display_data"
    },
    {
     "name": "stdout",
     "output_type": "stream",
     "text": [
      "--------------------------------------------------------------------------------\n",
      "layer=57\n"
     ]
    },
    {
     "data": {
      "text/html": [
       "<div id=\"circuits-vis-68a88a43-9525\" style=\"margin: 15px 0;\"/>\n",
       "    <script crossorigin type=\"module\">\n",
       "    import { render, ColoredTokens } from \"https://unpkg.com/circuitsvis@1.43.3/dist/cdn/esm.js\";\n",
       "    render(\n",
       "      \"circuits-vis-68a88a43-9525\",\n",
       "      ColoredTokens,\n",
       "      {\"tokens\": [\"Which\", \" person\", \" from\", \" the\", \" following\", \" list\", \" has\", \" the\", \" profession\", \" in\", \" common\", \" with\", \" Mike\", \" Pence\", \"?\\n\", \"Options\", \":\", \" Anthony\", \" Davis\", \",\", \" Jane\", \" Mayer\", \",\", \" Josh\", \" Haw\", \"ley\", \",\", \" Chuck\", \" Todd\", \",\", \" Paulo\", \" Dy\", \"b\", \"ala\", \",\", \" Marc\", \" Jacobs\", \".\\n\", \"Ans\", \":\"], \"values\": [0.009454905986785889, 0.01328231394290924, 0.0021304041147232056, 0.0011611639056354761, 0.0015746988356113434, 0.004193119704723358, 0.0019337460398674011, 0.0008464418351650238, 0.011650606989860535, 0.0008093211799860001, 0.0057158563286066055, 0.001751832664012909, 0.009863078594207764, 0.02595280110836029, 0.009715497493743896, 0.046818867325782776, 0.005706503987312317, 0.005577519536018372, 0.003921248018741608, 0.003031231462955475, 0.005084574222564697, 0.006899923086166382, 0.004865612834692001, 0.013700447976589203, 0.001965828239917755, 0.017438098788261414, 0.00613866001367569, 0.02292950451374054, 0.011094659566879272, 0.0037615224719047546, 0.005668044090270996, 0.00289289653301239, 0.0012442655861377716, 0.001777544617652893, 0.00270075723528862, 0.006771966814994812, 0.003966197371482849, 0.019315361976623535, 0.028816163539886475, 0.020520299673080444]}\n",
       "    )\n",
       "    </script>"
      ],
      "text/plain": [
       "<circuitsvis.utils.render.RenderedHTML at 0x7f9a00ce5750>"
      ]
     },
     "metadata": {},
     "output_type": "display_data"
    },
    {
     "name": "stdout",
     "output_type": "stream",
     "text": [
      "--------------------------------------------------------------------------------\n",
      "layer=58\n"
     ]
    },
    {
     "data": {
      "text/html": [
       "<div id=\"circuits-vis-5a772df4-c966\" style=\"margin: 15px 0;\"/>\n",
       "    <script crossorigin type=\"module\">\n",
       "    import { render, ColoredTokens } from \"https://unpkg.com/circuitsvis@1.43.3/dist/cdn/esm.js\";\n",
       "    render(\n",
       "      \"circuits-vis-5a772df4-c966\",\n",
       "      ColoredTokens,\n",
       "      {\"tokens\": [\"Which\", \" person\", \" from\", \" the\", \" following\", \" list\", \" has\", \" the\", \" profession\", \" in\", \" common\", \" with\", \" Mike\", \" Pence\", \"?\\n\", \"Options\", \":\", \" Anthony\", \" Davis\", \",\", \" Jane\", \" Mayer\", \",\", \" Josh\", \" Haw\", \"ley\", \",\", \" Chuck\", \" Todd\", \",\", \" Paulo\", \" Dy\", \"b\", \"ala\", \",\", \" Marc\", \" Jacobs\", \".\\n\", \"Ans\", \":\"], \"values\": [0.012771785259246826, 0.0033119022846221924, 0.0013561844825744629, 0.0008223748300224543, 0.0007861822377890348, 0.0005331067368388176, 0.0007383301854133606, 0.0006471071392297745, 0.02543684095144272, 0.0005080625414848328, 0.0014052409678697586, 0.0008911546319723129, 0.003587469458580017, 0.008338302373886108, 0.005486786365509033, 0.00420224666595459, 0.002717023715376854, 0.05330134183168411, 0.0070131197571754456, 0.0016286671161651611, 0.00312979519367218, 0.0036138519644737244, 0.003086332231760025, 0.006424065679311752, 0.0009921491146087646, 0.002619124948978424, 0.002640262246131897, 0.0035960301756858826, 0.0030565857887268066, 0.0013616736978292465, 0.0038722455501556396, 0.004899643361568451, 0.0020416155457496643, 0.002956472337245941, 0.0013625952415168285, 0.0037425942718982697, 0.007989518344402313, 0.013762161135673523, 0.06413102149963379, 0.019434288144111633]}\n",
       "    )\n",
       "    </script>"
      ],
      "text/plain": [
       "<circuitsvis.utils.render.RenderedHTML at 0x7f72e5ff4850>"
      ]
     },
     "metadata": {},
     "output_type": "display_data"
    },
    {
     "name": "stdout",
     "output_type": "stream",
     "text": [
      "--------------------------------------------------------------------------------\n",
      "layer=59\n"
     ]
    },
    {
     "data": {
      "text/html": [
       "<div id=\"circuits-vis-60b4c002-8af3\" style=\"margin: 15px 0;\"/>\n",
       "    <script crossorigin type=\"module\">\n",
       "    import { render, ColoredTokens } from \"https://unpkg.com/circuitsvis@1.43.3/dist/cdn/esm.js\";\n",
       "    render(\n",
       "      \"circuits-vis-60b4c002-8af3\",\n",
       "      ColoredTokens,\n",
       "      {\"tokens\": [\"Which\", \" person\", \" from\", \" the\", \" following\", \" list\", \" has\", \" the\", \" profession\", \" in\", \" common\", \" with\", \" Mike\", \" Pence\", \"?\\n\", \"Options\", \":\", \" Anthony\", \" Davis\", \",\", \" Jane\", \" Mayer\", \",\", \" Josh\", \" Haw\", \"ley\", \",\", \" Chuck\", \" Todd\", \",\", \" Paulo\", \" Dy\", \"b\", \"ala\", \",\", \" Marc\", \" Jacobs\", \".\\n\", \"Ans\", \":\"], \"values\": [0.006058216094970703, 0.001399211585521698, 0.0008675605058670044, 0.0008337497711181641, 0.0005668029189109802, 0.0006249397993087769, 0.0004695504903793335, 0.000443045049905777, 0.0014238804578781128, 0.0004794970154762268, 0.002024047076702118, 0.0005608722567558289, 0.003054678440093994, 0.006750330328941345, 0.008532539010047913, 0.003035441040992737, 0.00277024507522583, 0.0015182942152023315, 0.0030068084597587585, 0.0010814070701599121, 0.0012003332376480103, 0.0032385289669036865, 0.0007594600319862366, 0.0017626173794269562, 0.0045534055680036545, 0.0032830089330673218, 0.0011654607951641083, 0.001796521246433258, 0.004778772592544556, 0.0008379146456718445, 0.001129046082496643, 0.0019389167428016663, 0.0019931644201278687, 0.001801222562789917, 0.000530049204826355, 0.0016614161431789398, 0.0032497942447662354, 0.013304322957992554, 0.01815125346183777, 0.010632961988449097]}\n",
       "    )\n",
       "    </script>"
      ],
      "text/plain": [
       "<circuitsvis.utils.render.RenderedHTML at 0x7f993856f8d0>"
      ]
     },
     "metadata": {},
     "output_type": "display_data"
    },
    {
     "name": "stdout",
     "output_type": "stream",
     "text": [
      "--------------------------------------------------------------------------------\n",
      "layer=60\n"
     ]
    },
    {
     "data": {
      "text/html": [
       "<div id=\"circuits-vis-a2a0856b-6381\" style=\"margin: 15px 0;\"/>\n",
       "    <script crossorigin type=\"module\">\n",
       "    import { render, ColoredTokens } from \"https://unpkg.com/circuitsvis@1.43.3/dist/cdn/esm.js\";\n",
       "    render(\n",
       "      \"circuits-vis-a2a0856b-6381\",\n",
       "      ColoredTokens,\n",
       "      {\"tokens\": [\"Which\", \" person\", \" from\", \" the\", \" following\", \" list\", \" has\", \" the\", \" profession\", \" in\", \" common\", \" with\", \" Mike\", \" Pence\", \"?\\n\", \"Options\", \":\", \" Anthony\", \" Davis\", \",\", \" Jane\", \" Mayer\", \",\", \" Josh\", \" Haw\", \"ley\", \",\", \" Chuck\", \" Todd\", \",\", \" Paulo\", \" Dy\", \"b\", \"ala\", \",\", \" Marc\", \" Jacobs\", \".\\n\", \"Ans\", \":\"], \"values\": [0.015343695878982544, 0.005919739603996277, 0.003555949777364731, 0.0029526352882385254, 0.0039061903953552246, 0.004195157438516617, 0.00633808970451355, 0.0021812282502651215, 0.008188176900148392, 0.0021898169070482254, 0.005273774266242981, 0.002781689167022705, 0.05438387393951416, 0.012694478034973145, 0.02359764277935028, 0.01614999771118164, 0.009633280336856842, 0.029194682836532593, 0.005368322134017944, 0.006168529391288757, 0.03394819796085358, 0.013309448957443237, 0.01557675190269947, 0.0350048765540123, 0.0045633018016815186, 0.006105951964855194, 0.010660819709300995, 0.014894910156726837, 0.0046857744455337524, 0.004296090453863144, 0.048189520835876465, 0.003298521041870117, 0.0018981099128723145, 0.003418177366256714, 0.006487606093287468, 0.08198292553424835, 0.0078096091747283936, 0.03752601146697998, 0.06992459297180176, 0.028908386826515198]}\n",
       "    )\n",
       "    </script>"
      ],
      "text/plain": [
       "<circuitsvis.utils.render.RenderedHTML at 0x7f993811ee90>"
      ]
     },
     "metadata": {},
     "output_type": "display_data"
    },
    {
     "name": "stdout",
     "output_type": "stream",
     "text": [
      "--------------------------------------------------------------------------------\n",
      "layer=61\n"
     ]
    },
    {
     "data": {
      "text/html": [
       "<div id=\"circuits-vis-cc20135b-d04a\" style=\"margin: 15px 0;\"/>\n",
       "    <script crossorigin type=\"module\">\n",
       "    import { render, ColoredTokens } from \"https://unpkg.com/circuitsvis@1.43.3/dist/cdn/esm.js\";\n",
       "    render(\n",
       "      \"circuits-vis-cc20135b-d04a\",\n",
       "      ColoredTokens,\n",
       "      {\"tokens\": [\"Which\", \" person\", \" from\", \" the\", \" following\", \" list\", \" has\", \" the\", \" profession\", \" in\", \" common\", \" with\", \" Mike\", \" Pence\", \"?\\n\", \"Options\", \":\", \" Anthony\", \" Davis\", \",\", \" Jane\", \" Mayer\", \",\", \" Josh\", \" Haw\", \"ley\", \",\", \" Chuck\", \" Todd\", \",\", \" Paulo\", \" Dy\", \"b\", \"ala\", \",\", \" Marc\", \" Jacobs\", \".\\n\", \"Ans\", \":\"], \"values\": [0.005680650472640991, 0.0017232373356819153, 0.0012831389904022217, 0.0010186657309532166, 0.0005179941654205322, 0.0005808491259813309, 0.0007991641759872437, 0.0005455166101455688, 0.006928589195013046, 0.0011579971760511398, 0.003223653882741928, 0.0011949501931667328, 0.009143263101577759, 0.020074039697647095, 0.005797445774078369, 0.018323644995689392, 0.0038220733404159546, 0.00884215533733368, 0.002578519284725189, 0.002064429223537445, 0.005899310111999512, 0.00444774329662323, 0.003926195204257965, 0.0071640945971012115, 0.0032051056623458862, 0.004741169512271881, 0.004025064408779144, 0.009298652410507202, 0.003913789987564087, 0.002516191452741623, 0.005342334508895874, 0.0026928186416625977, 0.002706412225961685, 0.002199232578277588, 0.001751873642206192, 0.005090035498142242, 0.004197336733341217, 0.007188290357589722, 0.018180131912231445, 0.010344624519348145]}\n",
       "    )\n",
       "    </script>"
      ],
      "text/plain": [
       "<circuitsvis.utils.render.RenderedHTML at 0x7f9938436a50>"
      ]
     },
     "metadata": {},
     "output_type": "display_data"
    },
    {
     "name": "stdout",
     "output_type": "stream",
     "text": [
      "--------------------------------------------------------------------------------\n",
      "layer=62\n"
     ]
    },
    {
     "data": {
      "text/html": [
       "<div id=\"circuits-vis-e10815b8-1d72\" style=\"margin: 15px 0;\"/>\n",
       "    <script crossorigin type=\"module\">\n",
       "    import { render, ColoredTokens } from \"https://unpkg.com/circuitsvis@1.43.3/dist/cdn/esm.js\";\n",
       "    render(\n",
       "      \"circuits-vis-e10815b8-1d72\",\n",
       "      ColoredTokens,\n",
       "      {\"tokens\": [\"Which\", \" person\", \" from\", \" the\", \" following\", \" list\", \" has\", \" the\", \" profession\", \" in\", \" common\", \" with\", \" Mike\", \" Pence\", \"?\\n\", \"Options\", \":\", \" Anthony\", \" Davis\", \",\", \" Jane\", \" Mayer\", \",\", \" Josh\", \" Haw\", \"ley\", \",\", \" Chuck\", \" Todd\", \",\", \" Paulo\", \" Dy\", \"b\", \"ala\", \",\", \" Marc\", \" Jacobs\", \".\\n\", \"Ans\", \":\"], \"values\": [0.022087693214416504, 0.0013189688324928284, 0.0006929542869329453, 0.0004891306161880493, 0.00044974498450756073, 0.00035863928496837616, 0.00026075728237628937, 0.00017168745398521423, 0.00048765167593955994, 0.0001678820699453354, 0.0007531512528657913, 0.00034005381166934967, 0.0020381323993206024, 0.0058853402733802795, 0.0022852644324302673, 0.0016712062060832977, 0.0011693425476551056, 0.0006626434624195099, 0.0017361808568239212, 0.0005289865657687187, 0.0006104297935962677, 0.001957431435585022, 0.00038878247141838074, 0.0007230751216411591, 0.0009143166244029999, 0.0016442425549030304, 0.0005651507526636124, 0.0006687138229608536, 0.001775575801730156, 0.0005316389724612236, 0.0012201294302940369, 0.0009869560599327087, 0.0005958769470453262, 0.002708837389945984, 0.00045505817979574203, 0.000831305980682373, 0.0024018287658691406, 0.004784770309925079, 0.013624250888824463, 0.007378622889518738]}\n",
       "    )\n",
       "    </script>"
      ],
      "text/plain": [
       "<circuitsvis.utils.render.RenderedHTML at 0x7f72e5fbba10>"
      ]
     },
     "metadata": {},
     "output_type": "display_data"
    },
    {
     "name": "stdout",
     "output_type": "stream",
     "text": [
      "--------------------------------------------------------------------------------\n",
      "layer=63\n"
     ]
    },
    {
     "data": {
      "text/html": [
       "<div id=\"circuits-vis-844af44b-ee30\" style=\"margin: 15px 0;\"/>\n",
       "    <script crossorigin type=\"module\">\n",
       "    import { render, ColoredTokens } from \"https://unpkg.com/circuitsvis@1.43.3/dist/cdn/esm.js\";\n",
       "    render(\n",
       "      \"circuits-vis-844af44b-ee30\",\n",
       "      ColoredTokens,\n",
       "      {\"tokens\": [\"Which\", \" person\", \" from\", \" the\", \" following\", \" list\", \" has\", \" the\", \" profession\", \" in\", \" common\", \" with\", \" Mike\", \" Pence\", \"?\\n\", \"Options\", \":\", \" Anthony\", \" Davis\", \",\", \" Jane\", \" Mayer\", \",\", \" Josh\", \" Haw\", \"ley\", \",\", \" Chuck\", \" Todd\", \",\", \" Paulo\", \" Dy\", \"b\", \"ala\", \",\", \" Marc\", \" Jacobs\", \".\\n\", \"Ans\", \":\"], \"values\": [0.016766145825386047, 0.0033898651599884033, 0.0013835504651069641, 0.001347322016954422, 0.0012034252285957336, 0.0013369247317314148, 0.0009824968874454498, 0.0005364269018173218, 0.0019359439611434937, 0.0006179586052894592, 0.0025858283042907715, 0.001178499311208725, 0.009002745151519775, 0.0051942914724349976, 0.008661225438117981, 0.00518488883972168, 0.0030440762639045715, 0.008015450090169907, 0.0021857991814613342, 0.002444915473461151, 0.008242890238761902, 0.0018611103296279907, 0.004872482270002365, 0.01276308298110962, 0.001402825117111206, 0.002264883369207382, 0.003528989851474762, 0.0058119893074035645, 0.0017260685563087463, 0.002120707184076309, 0.007328584790229797, 0.001855224370956421, 0.0010016486048698425, 0.002491787075996399, 0.002447260543704033, 0.007845312356948853, 0.002545032650232315, 0.016337111592292786, 0.02726513147354126, 0.014070168137550354]}\n",
       "    )\n",
       "    </script>"
      ],
      "text/plain": [
       "<circuitsvis.utils.render.RenderedHTML at 0x7f9938461d50>"
      ]
     },
     "metadata": {},
     "output_type": "display_data"
    },
    {
     "name": "stdout",
     "output_type": "stream",
     "text": [
      "--------------------------------------------------------------------------------\n",
      "layer=64\n"
     ]
    },
    {
     "data": {
      "text/html": [
       "<div id=\"circuits-vis-b5f956df-7700\" style=\"margin: 15px 0;\"/>\n",
       "    <script crossorigin type=\"module\">\n",
       "    import { render, ColoredTokens } from \"https://unpkg.com/circuitsvis@1.43.3/dist/cdn/esm.js\";\n",
       "    render(\n",
       "      \"circuits-vis-b5f956df-7700\",\n",
       "      ColoredTokens,\n",
       "      {\"tokens\": [\"Which\", \" person\", \" from\", \" the\", \" following\", \" list\", \" has\", \" the\", \" profession\", \" in\", \" common\", \" with\", \" Mike\", \" Pence\", \"?\\n\", \"Options\", \":\", \" Anthony\", \" Davis\", \",\", \" Jane\", \" Mayer\", \",\", \" Josh\", \" Haw\", \"ley\", \",\", \" Chuck\", \" Todd\", \",\", \" Paulo\", \" Dy\", \"b\", \"ala\", \",\", \" Marc\", \" Jacobs\", \".\\n\", \"Ans\", \":\"], \"values\": [0.011566579341888428, 0.004321277141571045, 0.003189932554960251, 0.0021661589853465557, 0.0012851788196712732, 0.001442265696823597, 0.0020023658871650696, 0.001116214320063591, 0.014995649456977844, 0.0018571303226053715, 0.004567173775285482, 0.002930976450443268, 0.026603996753692627, 0.011859208345413208, 0.014954239130020142, 0.0106113962829113, 0.00716833770275116, 0.044938500970602036, 0.002536534331738949, 0.0056036077439785, 0.016725793480873108, 0.005519978702068329, 0.013775009661912918, 0.060140058398246765, 0.007805764675140381, 0.00801115483045578, 0.012917988002300262, 0.16624268889427185, 0.008387417532503605, 0.006082771345973015, 0.032645270228385925, 0.004083156585693359, 0.0024169497191905975, 0.001706540584564209, 0.005414191633462906, 0.03518342971801758, 0.003399759531021118, 0.02027629315853119, 0.04496055841445923, 0.03683573007583618]}\n",
       "    )\n",
       "    </script>"
      ],
      "text/plain": [
       "<circuitsvis.utils.render.RenderedHTML at 0x7f9a00b868d0>"
      ]
     },
     "metadata": {},
     "output_type": "display_data"
    },
    {
     "name": "stdout",
     "output_type": "stream",
     "text": [
      "--------------------------------------------------------------------------------\n",
      "layer=65\n"
     ]
    },
    {
     "data": {
      "text/html": [
       "<div id=\"circuits-vis-fbe88c56-2c68\" style=\"margin: 15px 0;\"/>\n",
       "    <script crossorigin type=\"module\">\n",
       "    import { render, ColoredTokens } from \"https://unpkg.com/circuitsvis@1.43.3/dist/cdn/esm.js\";\n",
       "    render(\n",
       "      \"circuits-vis-fbe88c56-2c68\",\n",
       "      ColoredTokens,\n",
       "      {\"tokens\": [\"Which\", \" person\", \" from\", \" the\", \" following\", \" list\", \" has\", \" the\", \" profession\", \" in\", \" common\", \" with\", \" Mike\", \" Pence\", \"?\\n\", \"Options\", \":\", \" Anthony\", \" Davis\", \",\", \" Jane\", \" Mayer\", \",\", \" Josh\", \" Haw\", \"ley\", \",\", \" Chuck\", \" Todd\", \",\", \" Paulo\", \" Dy\", \"b\", \"ala\", \",\", \" Marc\", \" Jacobs\", \".\\n\", \"Ans\", \":\"], \"values\": [0.013067543506622314, 0.002904736902564764, 0.0014079026877880096, 0.0010050330311059952, 0.001453146804124117, 0.0011926472652703524, 0.0007080435752868652, 0.0005167331546545029, 0.0013854182325303555, 0.0006098980084061623, 0.0017127891769632697, 0.000987192615866661, 0.0033002577256411314, 0.01001343596726656, 0.007319092750549316, 0.003134186379611492, 0.0021368972957134247, 0.00149438320659101, 0.0012443336891010404, 0.0014276765286922455, 0.001437012804672122, 0.0024684674572199583, 0.0009403489530086517, 0.0015119551680982113, 0.006859488785266876, 0.0012819903204217553, 0.0013509783893823624, 0.0029437700286507607, 0.001735509606078267, 0.0010839123278856277, 0.002622720319777727, 0.0033725949469953775, 0.0018488932400941849, 0.001255193492397666, 0.0011401735246181488, 0.002898025792092085, 0.0019071780843660235, 0.010249242186546326, 0.018976332619786263, 0.007874108850955963]}\n",
       "    )\n",
       "    </script>"
      ],
      "text/plain": [
       "<circuitsvis.utils.render.RenderedHTML at 0x7f72e6185450>"
      ]
     },
     "metadata": {},
     "output_type": "display_data"
    },
    {
     "name": "stdout",
     "output_type": "stream",
     "text": [
      "--------------------------------------------------------------------------------\n",
      "layer=66\n"
     ]
    },
    {
     "data": {
      "text/html": [
       "<div id=\"circuits-vis-ea490db0-2b79\" style=\"margin: 15px 0;\"/>\n",
       "    <script crossorigin type=\"module\">\n",
       "    import { render, ColoredTokens } from \"https://unpkg.com/circuitsvis@1.43.3/dist/cdn/esm.js\";\n",
       "    render(\n",
       "      \"circuits-vis-ea490db0-2b79\",\n",
       "      ColoredTokens,\n",
       "      {\"tokens\": [\"Which\", \" person\", \" from\", \" the\", \" following\", \" list\", \" has\", \" the\", \" profession\", \" in\", \" common\", \" with\", \" Mike\", \" Pence\", \"?\\n\", \"Options\", \":\", \" Anthony\", \" Davis\", \",\", \" Jane\", \" Mayer\", \",\", \" Josh\", \" Haw\", \"ley\", \",\", \" Chuck\", \" Todd\", \",\", \" Paulo\", \" Dy\", \"b\", \"ala\", \",\", \" Marc\", \" Jacobs\", \".\\n\", \"Ans\", \":\"], \"values\": [0.014071598649024963, 0.0019223839044570923, 0.0013648830354213715, 0.001157945953309536, 0.0011019730009138584, 0.0012384150177240372, 0.0011929795145988464, 0.0006265761330723763, 0.0016174912452697754, 0.0005746269598603249, 0.0022442303597927094, 0.0011098049581050873, 0.004616308957338333, 0.00535351037979126, 0.009448371827602386, 0.0036664754152297974, 0.0044145770370960236, 0.0014707408845424652, 0.001316957175731659, 0.0016948655247688293, 0.001522507518529892, 0.0016103684902191162, 0.0013826824724674225, 0.0018138028681278229, 0.004876431077718735, 0.0036923661828041077, 0.002060145139694214, 0.0016741417348384857, 0.002155900001525879, 0.0017388053238391876, 0.0017070434987545013, 0.0021075457334518433, 0.0008669942617416382, 0.0016068555414676666, 0.0015229452401399612, 0.002162143588066101, 0.0025452226400375366, 0.01497843861579895, 0.06598544120788574, 0.04940793663263321]}\n",
       "    )\n",
       "    </script>"
      ],
      "text/plain": [
       "<circuitsvis.utils.render.RenderedHTML at 0x7f99381d56d0>"
      ]
     },
     "metadata": {},
     "output_type": "display_data"
    },
    {
     "name": "stdout",
     "output_type": "stream",
     "text": [
      "--------------------------------------------------------------------------------\n",
      "layer=67\n"
     ]
    },
    {
     "data": {
      "text/html": [
       "<div id=\"circuits-vis-ea4c1e85-7c9a\" style=\"margin: 15px 0;\"/>\n",
       "    <script crossorigin type=\"module\">\n",
       "    import { render, ColoredTokens } from \"https://unpkg.com/circuitsvis@1.43.3/dist/cdn/esm.js\";\n",
       "    render(\n",
       "      \"circuits-vis-ea4c1e85-7c9a\",\n",
       "      ColoredTokens,\n",
       "      {\"tokens\": [\"Which\", \" person\", \" from\", \" the\", \" following\", \" list\", \" has\", \" the\", \" profession\", \" in\", \" common\", \" with\", \" Mike\", \" Pence\", \"?\\n\", \"Options\", \":\", \" Anthony\", \" Davis\", \",\", \" Jane\", \" Mayer\", \",\", \" Josh\", \" Haw\", \"ley\", \",\", \" Chuck\", \" Todd\", \",\", \" Paulo\", \" Dy\", \"b\", \"ala\", \",\", \" Marc\", \" Jacobs\", \".\\n\", \"Ans\", \":\"], \"values\": [0.012788385152816772, 0.007189005613327026, 0.0032989829778671265, 0.00296793133020401, 0.006508428603410721, 0.0036675594747066498, 0.0036327168345451355, 0.0016848817467689514, 0.00669609010219574, 0.001600915566086769, 0.00826193392276764, 0.003602476790547371, 0.026438303291797638, 0.026519864797592163, 0.0288517028093338, 0.011105790734291077, 0.007582094520330429, 0.008848965167999268, 0.0046139732003211975, 0.004577234387397766, 0.049129731953144073, 0.0153554268181324, 0.010841247625648975, 0.1408921331167221, 0.03948848694562912, 0.008471408858895302, 0.007751377299427986, 0.01769309490919113, 0.007156219333410263, 0.0036797095090150833, 0.05039301514625549, 0.0036070048809051514, 0.0015894994139671326, 0.0024299323558807373, 0.0041131507605314255, 0.011955469846725464, 0.005085662007331848, 0.0475420206785202, 0.139068603515625, 0.05021290481090546]}\n",
       "    )\n",
       "    </script>"
      ],
      "text/plain": [
       "<circuitsvis.utils.render.RenderedHTML at 0x7f72e617a010>"
      ]
     },
     "metadata": {},
     "output_type": "display_data"
    },
    {
     "name": "stdout",
     "output_type": "stream",
     "text": [
      "--------------------------------------------------------------------------------\n",
      "layer=68\n"
     ]
    },
    {
     "data": {
      "text/html": [
       "<div id=\"circuits-vis-3aa24e1f-7c5f\" style=\"margin: 15px 0;\"/>\n",
       "    <script crossorigin type=\"module\">\n",
       "    import { render, ColoredTokens } from \"https://unpkg.com/circuitsvis@1.43.3/dist/cdn/esm.js\";\n",
       "    render(\n",
       "      \"circuits-vis-3aa24e1f-7c5f\",\n",
       "      ColoredTokens,\n",
       "      {\"tokens\": [\"Which\", \" person\", \" from\", \" the\", \" following\", \" list\", \" has\", \" the\", \" profession\", \" in\", \" common\", \" with\", \" Mike\", \" Pence\", \"?\\n\", \"Options\", \":\", \" Anthony\", \" Davis\", \",\", \" Jane\", \" Mayer\", \",\", \" Josh\", \" Haw\", \"ley\", \",\", \" Chuck\", \" Todd\", \",\", \" Paulo\", \" Dy\", \"b\", \"ala\", \",\", \" Marc\", \" Jacobs\", \".\\n\", \"Ans\", \":\"], \"values\": [0.020129740238189697, 0.015389591455459595, 0.00755782425403595, 0.005180478096008301, 0.003686562180519104, 0.005365505814552307, 0.005199700593948364, 0.0029468461871147156, 0.009771943092346191, 0.004578575491905212, 0.006663940846920013, 0.005310565233230591, 0.0558149516582489, 0.03653183579444885, 0.030274391174316406, 0.027710437774658203, 0.013130873441696167, 0.02119259536266327, 0.013202160596847534, 0.008435621857643127, 0.08049848675727844, 0.035304807126522064, 0.03221586346626282, 0.058923207223415375, 0.015178769826889038, 0.01418846845626831, 0.014719724655151367, 0.036125581711530685, 0.02504570782184601, 0.007235560566186905, 0.03783397376537323, 0.015408575534820557, 0.006643727421760559, 0.004808172583580017, 0.00898965448141098, 0.0721498429775238, 0.010497529059648514, 0.041821807622909546, 0.10782337188720703, 0.06556683778762817]}\n",
       "    )\n",
       "    </script>"
      ],
      "text/plain": [
       "<circuitsvis.utils.render.RenderedHTML at 0x7f9a00b868d0>"
      ]
     },
     "metadata": {},
     "output_type": "display_data"
    },
    {
     "name": "stdout",
     "output_type": "stream",
     "text": [
      "--------------------------------------------------------------------------------\n",
      "layer=69\n"
     ]
    },
    {
     "data": {
      "text/html": [
       "<div id=\"circuits-vis-081f1856-007b\" style=\"margin: 15px 0;\"/>\n",
       "    <script crossorigin type=\"module\">\n",
       "    import { render, ColoredTokens } from \"https://unpkg.com/circuitsvis@1.43.3/dist/cdn/esm.js\";\n",
       "    render(\n",
       "      \"circuits-vis-081f1856-007b\",\n",
       "      ColoredTokens,\n",
       "      {\"tokens\": [\"Which\", \" person\", \" from\", \" the\", \" following\", \" list\", \" has\", \" the\", \" profession\", \" in\", \" common\", \" with\", \" Mike\", \" Pence\", \"?\\n\", \"Options\", \":\", \" Anthony\", \" Davis\", \",\", \" Jane\", \" Mayer\", \",\", \" Josh\", \" Haw\", \"ley\", \",\", \" Chuck\", \" Todd\", \",\", \" Paulo\", \" Dy\", \"b\", \"ala\", \",\", \" Marc\", \" Jacobs\", \".\\n\", \"Ans\", \":\"], \"values\": [0.01677510142326355, 0.002970680594444275, 0.0014518052339553833, 0.0013172551989555359, 0.0011325431987643242, 0.0012368150055408478, 0.0010515376925468445, 0.0007994398474693298, 0.0018685534596443176, 0.0005961582064628601, 0.002583164721727371, 0.001216098666191101, 0.0036822259426116943, 0.003193795680999756, 0.014235913753509521, 0.011972501873970032, 0.01733313500881195, 0.0016109347343444824, 0.0010800957679748535, 0.003078773617744446, 0.002015545964241028, 0.0011141970753669739, 0.0015070624649524689, 0.0011256597936153412, 0.0029223933815956116, 0.0012663006782531738, 0.0017084553837776184, 0.00161762535572052, 0.0015581883490085602, 0.001058751717209816, 0.0014320164918899536, 0.0036517679691314697, 0.0018180683255195618, 0.0012234151363372803, 0.0011977758258581161, 0.0015453621745109558, 0.0017367862164974213, 0.020544826984405518, 0.08487915992736816, 0.06113216280937195]}\n",
       "    )\n",
       "    </script>"
      ],
      "text/plain": [
       "<circuitsvis.utils.render.RenderedHTML at 0x7f99381cc3d0>"
      ]
     },
     "metadata": {},
     "output_type": "display_data"
    },
    {
     "name": "stdout",
     "output_type": "stream",
     "text": [
      "--------------------------------------------------------------------------------\n",
      "layer=70\n"
     ]
    },
    {
     "data": {
      "text/html": [
       "<div id=\"circuits-vis-ca8cb6b9-eedc\" style=\"margin: 15px 0;\"/>\n",
       "    <script crossorigin type=\"module\">\n",
       "    import { render, ColoredTokens } from \"https://unpkg.com/circuitsvis@1.43.3/dist/cdn/esm.js\";\n",
       "    render(\n",
       "      \"circuits-vis-ca8cb6b9-eedc\",\n",
       "      ColoredTokens,\n",
       "      {\"tokens\": [\"Which\", \" person\", \" from\", \" the\", \" following\", \" list\", \" has\", \" the\", \" profession\", \" in\", \" common\", \" with\", \" Mike\", \" Pence\", \"?\\n\", \"Options\", \":\", \" Anthony\", \" Davis\", \",\", \" Jane\", \" Mayer\", \",\", \" Josh\", \" Haw\", \"ley\", \",\", \" Chuck\", \" Todd\", \",\", \" Paulo\", \" Dy\", \"b\", \"ala\", \",\", \" Marc\", \" Jacobs\", \".\\n\", \"Ans\", \":\"], \"values\": [0.01155310869216919, 0.004785805940628052, 0.002286858856678009, 0.0020806703250855207, 0.0019022371852770448, 0.0021351617760956287, 0.002320576459169388, 0.0010092854499816895, 0.002916291356086731, 0.0012277427595108747, 0.0036183674819767475, 0.0026537682861089706, 0.008617721498012543, 0.014395788311958313, 0.015643060207366943, 0.007665921002626419, 0.008703229017555714, 0.002750677987933159, 0.003817930817604065, 0.003953069448471069, 0.002929508686065674, 0.004330767318606377, 0.0026956875808537006, 0.0024668602272868156, 0.0038772523403167725, 0.006244301795959473, 0.0035639330744743347, 0.002499675378203392, 0.006486078724265099, 0.002857666462659836, 0.0027550607919692993, 0.008130908012390137, 0.008636794984340668, 0.003322809934616089, 0.0019157318165525794, 0.0026870998553931713, 0.004853837192058563, 0.031199932098388672, 0.13914251327514648, 0.09256108105182648]}\n",
       "    )\n",
       "    </script>"
      ],
      "text/plain": [
       "<circuitsvis.utils.render.RenderedHTML at 0x7f72e5fbba10>"
      ]
     },
     "metadata": {},
     "output_type": "display_data"
    },
    {
     "name": "stdout",
     "output_type": "stream",
     "text": [
      "--------------------------------------------------------------------------------\n",
      "layer=71\n"
     ]
    },
    {
     "data": {
      "text/html": [
       "<div id=\"circuits-vis-4a1a8648-968e\" style=\"margin: 15px 0;\"/>\n",
       "    <script crossorigin type=\"module\">\n",
       "    import { render, ColoredTokens } from \"https://unpkg.com/circuitsvis@1.43.3/dist/cdn/esm.js\";\n",
       "    render(\n",
       "      \"circuits-vis-4a1a8648-968e\",\n",
       "      ColoredTokens,\n",
       "      {\"tokens\": [\"Which\", \" person\", \" from\", \" the\", \" following\", \" list\", \" has\", \" the\", \" profession\", \" in\", \" common\", \" with\", \" Mike\", \" Pence\", \"?\\n\", \"Options\", \":\", \" Anthony\", \" Davis\", \",\", \" Jane\", \" Mayer\", \",\", \" Josh\", \" Haw\", \"ley\", \",\", \" Chuck\", \" Todd\", \",\", \" Paulo\", \" Dy\", \"b\", \"ala\", \",\", \" Marc\", \" Jacobs\", \".\\n\", \"Ans\", \":\"], \"values\": [0.014861106872558594, 0.010326340794563293, 0.005066578276455402, 0.003001735545694828, 0.0031881032045930624, 0.0027345602866262197, 0.00904935598373413, 0.00240456685423851, 0.021146826446056366, 0.003204640233889222, 0.021404271945357323, 0.00709764938801527, 0.013932988047599792, 0.029651671648025513, 0.0357365608215332, 0.010653071105480194, 0.026687078177928925, 0.014636619947850704, 0.006937406957149506, 0.011470584198832512, 0.012891516089439392, 0.008305691182613373, 0.009860110469162464, 0.0075560202822089195, 0.01891835778951645, 0.01641947031021118, 0.011335037648677826, 0.010618992149829865, 0.01771567016839981, 0.0080492552369833, 0.017178848385810852, 0.0037299692630767822, 0.0030677616596221924, 0.0056227222084999084, 0.004550152458250523, 0.02091706171631813, 0.007538795471191406, 0.05166900157928467, 0.16917753219604492, 0.13069862127304077]}\n",
       "    )\n",
       "    </script>"
      ],
      "text/plain": [
       "<circuitsvis.utils.render.RenderedHTML at 0x7f99384693d0>"
      ]
     },
     "metadata": {},
     "output_type": "display_data"
    },
    {
     "name": "stdout",
     "output_type": "stream",
     "text": [
      "--------------------------------------------------------------------------------\n",
      "layer=72\n"
     ]
    },
    {
     "data": {
      "text/html": [
       "<div id=\"circuits-vis-cece4c5a-26ef\" style=\"margin: 15px 0;\"/>\n",
       "    <script crossorigin type=\"module\">\n",
       "    import { render, ColoredTokens } from \"https://unpkg.com/circuitsvis@1.43.3/dist/cdn/esm.js\";\n",
       "    render(\n",
       "      \"circuits-vis-cece4c5a-26ef\",\n",
       "      ColoredTokens,\n",
       "      {\"tokens\": [\"Which\", \" person\", \" from\", \" the\", \" following\", \" list\", \" has\", \" the\", \" profession\", \" in\", \" common\", \" with\", \" Mike\", \" Pence\", \"?\\n\", \"Options\", \":\", \" Anthony\", \" Davis\", \",\", \" Jane\", \" Mayer\", \",\", \" Josh\", \" Haw\", \"ley\", \",\", \" Chuck\", \" Todd\", \",\", \" Paulo\", \" Dy\", \"b\", \"ala\", \",\", \" Marc\", \" Jacobs\", \".\\n\", \"Ans\", \":\"], \"values\": [0.032720327377319336, 0.01795494556427002, 0.0113210529088974, 0.006637560203671455, 0.003644494339823723, 0.0034570395946502686, 0.00905551016330719, 0.002904251217842102, 0.007019490003585815, 0.0063455551862716675, 0.007636576890945435, 0.0064443424344062805, 0.03632339835166931, 0.035314857959747314, 0.05936169624328613, 0.024123579263687134, 0.02174636721611023, 0.027472812682390213, 0.011260554194450378, 0.011260166764259338, 0.02865656465291977, 0.015588819980621338, 0.017867103219032288, 0.04215996712446213, 0.014366529881954193, 0.016079604625701904, 0.014782249927520752, 0.06625713407993317, 0.011415816843509674, 0.00880468636751175, 0.03498046100139618, 0.005023106932640076, 0.003083944320678711, 0.00877910852432251, 0.007177524268627167, 0.02051711082458496, 0.012854784727096558, 0.07616710662841797, 0.20173168182373047, 0.13431322574615479]}\n",
       "    )\n",
       "    </script>"
      ],
      "text/plain": [
       "<circuitsvis.utils.render.RenderedHTML at 0x7f72ec29dd90>"
      ]
     },
     "metadata": {},
     "output_type": "display_data"
    },
    {
     "name": "stdout",
     "output_type": "stream",
     "text": [
      "--------------------------------------------------------------------------------\n",
      "layer=73\n"
     ]
    },
    {
     "data": {
      "text/html": [
       "<div id=\"circuits-vis-56ae1cd1-9f02\" style=\"margin: 15px 0;\"/>\n",
       "    <script crossorigin type=\"module\">\n",
       "    import { render, ColoredTokens } from \"https://unpkg.com/circuitsvis@1.43.3/dist/cdn/esm.js\";\n",
       "    render(\n",
       "      \"circuits-vis-56ae1cd1-9f02\",\n",
       "      ColoredTokens,\n",
       "      {\"tokens\": [\"Which\", \" person\", \" from\", \" the\", \" following\", \" list\", \" has\", \" the\", \" profession\", \" in\", \" common\", \" with\", \" Mike\", \" Pence\", \"?\\n\", \"Options\", \":\", \" Anthony\", \" Davis\", \",\", \" Jane\", \" Mayer\", \",\", \" Josh\", \" Haw\", \"ley\", \",\", \" Chuck\", \" Todd\", \",\", \" Paulo\", \" Dy\", \"b\", \"ala\", \",\", \" Marc\", \" Jacobs\", \".\\n\", \"Ans\", \":\"], \"values\": [0.02632880210876465, 0.01806354522705078, 0.008403956890106201, 0.003879643976688385, 0.003942195326089859, 0.005954958498477936, 0.004289388656616211, 0.0020313113927841187, 0.01534879207611084, 0.005177482962608337, 0.010660171508789062, 0.006376251578330994, 0.08941495418548584, 0.04677700996398926, 0.033472657203674316, 0.04596090316772461, 0.02356448769569397, 0.07863636314868927, 0.023700416088104248, 0.007013067603111267, 0.039417564868927, 0.015583693981170654, 0.014144733548164368, 0.07198651134967804, 0.027035534381866455, 0.01036614179611206, 0.00956660509109497, 0.07800529897212982, 0.022031068801879883, 0.005325533449649811, 0.08289958536624908, 0.02824416756629944, 0.0069762468338012695, 0.008485868573188782, 0.006306760013103485, 0.06240774691104889, 0.024680715054273605, 0.05487871170043945, 0.15592265129089355, 0.10036373138427734]}\n",
       "    )\n",
       "    </script>"
      ],
      "text/plain": [
       "<circuitsvis.utils.render.RenderedHTML at 0x7f9938448790>"
      ]
     },
     "metadata": {},
     "output_type": "display_data"
    },
    {
     "name": "stdout",
     "output_type": "stream",
     "text": [
      "--------------------------------------------------------------------------------\n",
      "layer=74\n"
     ]
    },
    {
     "data": {
      "text/html": [
       "<div id=\"circuits-vis-6ece6457-4d8c\" style=\"margin: 15px 0;\"/>\n",
       "    <script crossorigin type=\"module\">\n",
       "    import { render, ColoredTokens } from \"https://unpkg.com/circuitsvis@1.43.3/dist/cdn/esm.js\";\n",
       "    render(\n",
       "      \"circuits-vis-6ece6457-4d8c\",\n",
       "      ColoredTokens,\n",
       "      {\"tokens\": [\"Which\", \" person\", \" from\", \" the\", \" following\", \" list\", \" has\", \" the\", \" profession\", \" in\", \" common\", \" with\", \" Mike\", \" Pence\", \"?\\n\", \"Options\", \":\", \" Anthony\", \" Davis\", \",\", \" Jane\", \" Mayer\", \",\", \" Josh\", \" Haw\", \"ley\", \",\", \" Chuck\", \" Todd\", \",\", \" Paulo\", \" Dy\", \"b\", \"ala\", \",\", \" Marc\", \" Jacobs\", \".\\n\", \"Ans\", \":\"], \"values\": [0.017207324504852295, 0.017990604043006897, 0.007346577942371368, 0.004302617162466049, 0.006639033555984497, 0.00842319056391716, 0.007575536146759987, 0.0030306056141853333, 0.01130639761686325, 0.005057548638433218, 0.010222073644399643, 0.007290450390428305, 0.023348398506641388, 0.02734251320362091, 0.03503072261810303, 0.02021104097366333, 0.028809327632188797, 0.025431150570511818, 0.013642944395542145, 0.01034112274646759, 0.01191302202641964, 0.008962161839008331, 0.00898749753832817, 0.020580992102622986, 0.010522391647100449, 0.015406027436256409, 0.011064402759075165, 0.013185005635023117, 0.011732876300811768, 0.006780264433473349, 0.012831592932343483, 0.006810605525970459, 0.0065712835639715195, 0.008913949131965637, 0.006145124323666096, 0.011041395366191864, 0.011823803186416626, 0.07505297660827637, 0.2648586928844452, 0.16740062832832336]}\n",
       "    )\n",
       "    </script>"
      ],
      "text/plain": [
       "<circuitsvis.utils.render.RenderedHTML at 0x7f99381d5110>"
      ]
     },
     "metadata": {},
     "output_type": "display_data"
    },
    {
     "name": "stdout",
     "output_type": "stream",
     "text": [
      "--------------------------------------------------------------------------------\n",
      "layer=75\n"
     ]
    },
    {
     "data": {
      "text/html": [
       "<div id=\"circuits-vis-bdb6e07c-3861\" style=\"margin: 15px 0;\"/>\n",
       "    <script crossorigin type=\"module\">\n",
       "    import { render, ColoredTokens } from \"https://unpkg.com/circuitsvis@1.43.3/dist/cdn/esm.js\";\n",
       "    render(\n",
       "      \"circuits-vis-bdb6e07c-3861\",\n",
       "      ColoredTokens,\n",
       "      {\"tokens\": [\"Which\", \" person\", \" from\", \" the\", \" following\", \" list\", \" has\", \" the\", \" profession\", \" in\", \" common\", \" with\", \" Mike\", \" Pence\", \"?\\n\", \"Options\", \":\", \" Anthony\", \" Davis\", \",\", \" Jane\", \" Mayer\", \",\", \" Josh\", \" Haw\", \"ley\", \",\", \" Chuck\", \" Todd\", \",\", \" Paulo\", \" Dy\", \"b\", \"ala\", \",\", \" Marc\", \" Jacobs\", \".\\n\", \"Ans\", \":\"], \"values\": [0.015424847602844238, 0.011881768703460693, 0.007307897321879864, 0.005344916135072708, 0.006629702169448137, 0.004893799312412739, 0.005182567983865738, 0.002831786870956421, 0.011015176773071289, 0.005277913063764572, 0.021444711834192276, 0.010274114087224007, 0.019676581025123596, 0.05596572160720825, 0.08586090803146362, 0.022407039999961853, 0.037573475390672684, 0.01881750300526619, 0.016975872218608856, 0.02149525284767151, 0.01476222276687622, 0.029403027147054672, 0.0136003652587533, 0.016175389289855957, 0.008480669930577278, 0.03195589780807495, 0.01583641767501831, 0.016577566042542458, 0.035813745111227036, 0.013350405730307102, 0.00903729721903801, 0.004962503910064697, 0.0025208070874214172, 0.014968637377023697, 0.008036140352487564, 0.024506118148565292, 0.020678702741861343, 0.1535879373550415, 0.31199216842651367, 0.3448459208011627]}\n",
       "    )\n",
       "    </script>"
      ],
      "text/plain": [
       "<circuitsvis.utils.render.RenderedHTML at 0x7f72e5f9a650>"
      ]
     },
     "metadata": {},
     "output_type": "display_data"
    },
    {
     "name": "stdout",
     "output_type": "stream",
     "text": [
      "--------------------------------------------------------------------------------\n",
      "layer=76\n"
     ]
    },
    {
     "data": {
      "text/html": [
       "<div id=\"circuits-vis-caac20cf-a8ca\" style=\"margin: 15px 0;\"/>\n",
       "    <script crossorigin type=\"module\">\n",
       "    import { render, ColoredTokens } from \"https://unpkg.com/circuitsvis@1.43.3/dist/cdn/esm.js\";\n",
       "    render(\n",
       "      \"circuits-vis-caac20cf-a8ca\",\n",
       "      ColoredTokens,\n",
       "      {\"tokens\": [\"Which\", \" person\", \" from\", \" the\", \" following\", \" list\", \" has\", \" the\", \" profession\", \" in\", \" common\", \" with\", \" Mike\", \" Pence\", \"?\\n\", \"Options\", \":\", \" Anthony\", \" Davis\", \",\", \" Jane\", \" Mayer\", \",\", \" Josh\", \" Haw\", \"ley\", \",\", \" Chuck\", \" Todd\", \",\", \" Paulo\", \" Dy\", \"b\", \"ala\", \",\", \" Marc\", \" Jacobs\", \".\\n\", \"Ans\", \":\"], \"values\": [0.01896679401397705, 0.0243205726146698, 0.006705582141876221, 0.00524376705288887, 0.006208290345966816, 0.005181055516004562, 0.0042835623025894165, 0.0027640461921691895, 0.010785490274429321, 0.005695126950740814, 0.0074746087193489075, 0.003757137805223465, 0.026756972074508667, 0.01790177822113037, 0.050611257553100586, 0.03807494044303894, 0.023177385330200195, 0.046257663518190384, 0.009133439511060715, 0.007192067801952362, 0.01653774082660675, 0.008453220129013062, 0.004680559039115906, 0.01261715218424797, 0.004437502473592758, 0.007434394210577011, 0.005561232566833496, 0.013037115335464478, 0.01023915410041809, 0.004940517246723175, 0.015427462756633759, 0.01014920324087143, 0.0028477758169174194, 0.008092887699604034, 0.00514531135559082, 0.013680078089237213, 0.01071900874376297, 0.11026716232299805, 0.20366525650024414, 0.1631317138671875]}\n",
       "    )\n",
       "    </script>"
      ],
      "text/plain": [
       "<circuitsvis.utils.render.RenderedHTML at 0x7f9a00b868d0>"
      ]
     },
     "metadata": {},
     "output_type": "display_data"
    },
    {
     "name": "stdout",
     "output_type": "stream",
     "text": [
      "--------------------------------------------------------------------------------\n",
      "layer=77\n"
     ]
    },
    {
     "data": {
      "text/html": [
       "<div id=\"circuits-vis-17e31f87-4b7a\" style=\"margin: 15px 0;\"/>\n",
       "    <script crossorigin type=\"module\">\n",
       "    import { render, ColoredTokens } from \"https://unpkg.com/circuitsvis@1.43.3/dist/cdn/esm.js\";\n",
       "    render(\n",
       "      \"circuits-vis-17e31f87-4b7a\",\n",
       "      ColoredTokens,\n",
       "      {\"tokens\": [\"Which\", \" person\", \" from\", \" the\", \" following\", \" list\", \" has\", \" the\", \" profession\", \" in\", \" common\", \" with\", \" Mike\", \" Pence\", \"?\\n\", \"Options\", \":\", \" Anthony\", \" Davis\", \",\", \" Jane\", \" Mayer\", \",\", \" Josh\", \" Haw\", \"ley\", \",\", \" Chuck\", \" Todd\", \",\", \" Paulo\", \" Dy\", \"b\", \"ala\", \",\", \" Marc\", \" Jacobs\", \".\\n\", \"Ans\", \":\"], \"values\": [0.026699364185333252, 0.026519298553466797, 0.013067483901977539, 0.0054323673248291016, 0.007651090621948242, 0.005669981241226196, 0.005826056003570557, 0.003303050994873047, 0.009533345699310303, 0.0103025883436203, 0.009344875812530518, 0.014421030879020691, 0.05130840837955475, 0.029323428869247437, 0.07527852058410645, 0.05353283882141113, 0.02853664755821228, 0.09430606663227081, 0.009975753724575043, 0.011093124747276306, 0.02810090035200119, 0.012505486607551575, 0.010666653513908386, 0.0353940948843956, 0.012008268386125565, 0.013430096209049225, 0.010862872004508972, 0.04060786962509155, 0.015303261578083038, 0.006935546174645424, 0.05552325397729874, 0.009405620396137238, 0.0027233175933361053, 0.006064988672733307, 0.006385982036590576, 0.03340618312358856, 0.010831024497747421, 0.1239328384399414, 0.28849172592163086, 0.2512247562408447]}\n",
       "    )\n",
       "    </script>"
      ],
      "text/plain": [
       "<circuitsvis.utils.render.RenderedHTML at 0x7f99382ee0d0>"
      ]
     },
     "metadata": {},
     "output_type": "display_data"
    },
    {
     "name": "stdout",
     "output_type": "stream",
     "text": [
      "--------------------------------------------------------------------------------\n",
      "layer=78\n"
     ]
    },
    {
     "data": {
      "text/html": [
       "<div id=\"circuits-vis-a63c87ce-0b6b\" style=\"margin: 15px 0;\"/>\n",
       "    <script crossorigin type=\"module\">\n",
       "    import { render, ColoredTokens } from \"https://unpkg.com/circuitsvis@1.43.3/dist/cdn/esm.js\";\n",
       "    render(\n",
       "      \"circuits-vis-a63c87ce-0b6b\",\n",
       "      ColoredTokens,\n",
       "      {\"tokens\": [\"Which\", \" person\", \" from\", \" the\", \" following\", \" list\", \" has\", \" the\", \" profession\", \" in\", \" common\", \" with\", \" Mike\", \" Pence\", \"?\\n\", \"Options\", \":\", \" Anthony\", \" Davis\", \",\", \" Jane\", \" Mayer\", \",\", \" Josh\", \" Haw\", \"ley\", \",\", \" Chuck\", \" Todd\", \",\", \" Paulo\", \" Dy\", \"b\", \"ala\", \",\", \" Marc\", \" Jacobs\", \".\\n\", \"Ans\", \":\"], \"values\": [0.021556496620178223, 0.022981107234954834, 0.009059906005859375, 0.005975198000669479, 0.007591680623590946, 0.008778264746069908, 0.006044231355190277, 0.004304438829421997, 0.016840875148773193, 0.00504794716835022, 0.00952287670224905, 0.006104674190282822, 0.01635211706161499, 0.020358800888061523, 0.0530085563659668, 0.05372697114944458, 0.022799372673034668, 0.02148159220814705, 0.015281260013580322, 0.009978219866752625, 0.02130734920501709, 0.016767561435699463, 0.009024590253829956, 0.015887346118688583, 0.003753526136279106, 0.007806867361068726, 0.007739901542663574, 0.01921050250530243, 0.012649357318878174, 0.00633770227432251, 0.017049454152584076, 0.0035812370479106903, 0.0021265745162963867, 0.008625030517578125, 0.0070534348487854, 0.013620801270008087, 0.018261253833770752, 0.1645660400390625, 0.3600194454193115, 0.30404186248779297]}\n",
       "    )\n",
       "    </script>"
      ],
      "text/plain": [
       "<circuitsvis.utils.render.RenderedHTML at 0x7f72e6185bd0>"
      ]
     },
     "metadata": {},
     "output_type": "display_data"
    },
    {
     "name": "stdout",
     "output_type": "stream",
     "text": [
      "--------------------------------------------------------------------------------\n",
      "layer=79\n"
     ]
    },
    {
     "data": {
      "text/html": [
       "<div id=\"circuits-vis-c13d8bcd-1888\" style=\"margin: 15px 0;\"/>\n",
       "    <script crossorigin type=\"module\">\n",
       "    import { render, ColoredTokens } from \"https://unpkg.com/circuitsvis@1.43.3/dist/cdn/esm.js\";\n",
       "    render(\n",
       "      \"circuits-vis-c13d8bcd-1888\",\n",
       "      ColoredTokens,\n",
       "      {\"tokens\": [\"Which\", \" person\", \" from\", \" the\", \" following\", \" list\", \" has\", \" the\", \" profession\", \" in\", \" common\", \" with\", \" Mike\", \" Pence\", \"?\\n\", \"Options\", \":\", \" Anthony\", \" Davis\", \",\", \" Jane\", \" Mayer\", \",\", \" Josh\", \" Haw\", \"ley\", \",\", \" Chuck\", \" Todd\", \",\", \" Paulo\", \" Dy\", \"b\", \"ala\", \",\", \" Marc\", \" Jacobs\", \".\\n\", \"Ans\", \":\"], \"values\": [0.022947192192077637, 0.010059865191578865, 0.010188274085521698, 0.006509169936180115, 0.0048750014975667, 0.004760771989822388, 0.003995733335614204, 0.0037079043686389923, 0.006412095855921507, 0.00414682924747467, 0.007264998275786638, 0.00564642995595932, 0.009308189153671265, 0.016628630459308624, 0.03820894658565521, 0.01780584454536438, 0.012445468455553055, 0.007325410842895508, 0.008736323565244675, 0.007000304758548737, 0.006378099322319031, 0.009848296642303467, 0.005303964018821716, 0.004404187202453613, 0.004748702049255371, 0.007415845990180969, 0.0046540312469005585, 0.005209207534790039, 0.007314860820770264, 0.004337146878242493, 0.004694223403930664, 0.004388719797134399, 0.0036153048276901245, 0.00814017653465271, 0.005867555737495422, 0.005907535552978516, 0.011915892362594604, 0.10632753372192383, 0.135545015335083, 0.22132986783981323]}\n",
       "    )\n",
       "    </script>"
      ],
      "text/plain": [
       "<circuitsvis.utils.render.RenderedHTML at 0x7f993814d090>"
      ]
     },
     "metadata": {},
     "output_type": "display_data"
    },
    {
     "name": "stdout",
     "output_type": "stream",
     "text": [
      "--------------------------------------------------------------------------------\n"
     ]
    }
   ],
   "source": [
    "from src.attention import visualize_average_attn_matrix\n",
    "\n",
    "visualize_average_attn_matrix(\n",
    "    mt=mt,\n",
    "    attn_matrices=attn_matrices,\n",
    "    prompt = sample.prompt,\n",
    "    tokenized=tokenized,\n",
    "    layer_window=range(0, mt.n_layer, 1)\n",
    ")"
   ]
  },
  {
   "cell_type": "code",
   "execution_count": 101,
   "id": "fc849848",
   "metadata": {},
   "outputs": [],
   "source": [
    "tokenized = prepare_input(\n",
    "    tokenizer=mt,\n",
    "    prompts=sample.prompt,\n",
    "    return_offsets_mapping=True,\n",
    ")\n",
    "offset_mapping = tokenized.pop(\"offset_mapping\")[0]\n"
   ]
  },
  {
   "cell_type": "code",
   "execution_count": 102,
   "id": "23179e7e",
   "metadata": {},
   "outputs": [
    {
     "name": "stdout",
     "output_type": "stream",
     "text": [
      "subj_range=(13, 16) | \" Johnny Depp\"\n",
      "option_range=(19, 21) | \" Marc Jacobs\"\n",
      "option_range=(22, 24) | \" Jennifer Lawrence\"\n",
      "option_range=(25, 33) | \" Giannis Antetokounmpo\"\n",
      "option_range=(34, 36) | \" Beyoncé\"\n",
      "option_range=(37, 39) | \" Stephen King\"\n",
      "option_range=(40, 45) | \" Novak Djokovic\"\n"
     ]
    }
   ],
   "source": [
    "from src.tokens import find_token_range\n",
    "\n",
    "subj_range = find_token_range(\n",
    "    string=sample.prompt,\n",
    "    substring=sample.subj,\n",
    "    offset_mapping=offset_mapping,\n",
    "    tokenizer=mt,\n",
    "    occurrence=-1,\n",
    ")\n",
    "\n",
    "print(\n",
    "    f'{subj_range=} | \"{mt.tokenizer.decode(tokenized.input_ids[0][range(*subj_range)])}\"'\n",
    ")\n",
    "\n",
    "option_ranges = []\n",
    "\n",
    "for option in sample.options:\n",
    "    option_range = find_token_range(\n",
    "        string=sample.prompt,\n",
    "        substring=option,\n",
    "        offset_mapping=offset_mapping,\n",
    "        tokenizer=mt,\n",
    "        occurrence=-1,\n",
    "    )\n",
    "    print(\n",
    "        f'{option_range=} | \"{mt.tokenizer.decode(tokenized.input_ids[0][range(*option_range)])}\"'\n",
    "    )\n",
    "    option_ranges.append(option_range)"
   ]
  },
  {
   "cell_type": "code",
   "execution_count": 103,
   "id": "b26c79f3",
   "metadata": {},
   "outputs": [
    {
     "name": "stdout",
     "output_type": "stream",
     "text": [
      "\n",
      "layer='model.layers.0'\n",
      "\n",
      "\"Ans:\" | cur_rng=(-2, 0)\n",
      "token_idx=-2 [\"Ans\"] => ['\"?\\n\"[p=0.05, l=11.25]', '\" programmer\"[p=0.04, l=11.06]', '\"??\"[p=0.03, l=10.88]', '\" software\"[p=0.03, l=10.81]', '\"???\"[p=0.03, l=10.75]', '\" unknown\"[p=0.03, l=10.69]', '\" student\"[p=0.02, l=10.50]', '\" entrepreneur\"[p=0.02, l=10.44]', '\" singer\"[p=0.02, l=10.44]', '\" artist\"[p=0.02, l=10.38]', '\"?\\n\\n\"[p=0.02, l=10.31]', '\"?\"[p=0.02, l=10.31]', '\" (\"[p=0.01, l=10.06]', '\" actor\"[p=0.01, l=10.06]', '\" computer\"[p=0.01, l=10.00]']\n",
      "token_idx=-1 [\":\"] => ['\"?\\n\"[p=0.20, l=13.62]', '\"?\\n\\n\"[p=0.15, l=13.31]', '\"??\"[p=0.10, l=12.88]', '\"?\"[p=0.09, l=12.81]', '\"???\"[p=0.07, l=12.50]', '\" \\n\"[p=0.02, l=11.50]', '\" lawyer\"[p=0.02, l=11.44]', '\" unknown\"[p=0.01, l=11.00]', '\" artist\"[p=0.01, l=10.69]', '\" politician\"[p=0.01, l=10.56]', '\" software\"[p=0.01, l=10.50]', '\" programmer\"[p=0.01, l=10.38]', '\" \\n\\n\"[p=0.01, l=10.31]', '\" (\"[p=0.01, l=10.25]', '\" \"[p=0.01, l=10.19]']\n",
      "\n",
      "\" Johnny Depp\" | cur_rng=(13, 16)\n",
      "token_idx=13 [\" Johnny\"] => ['\" unknown\"[p=0.08, l=11.56]', '\"?\\n\"[p=0.05, l=11.12]', '\"??\"[p=0.04, l=10.88]', '\" singer\"[p=0.04, l=10.81]', '\" musician\"[p=0.04, l=10.81]', '\"?\"[p=0.03, l=10.62]', '\"???\"[p=0.02, l=10.44]', '\" actor\"[p=0.02, l=10.38]', '\" no\"[p=0.02, l=10.31]', '\" Johnny\"[p=0.02, l=10.12]', '\" (\"[p=0.02, l=10.06]', '\" artist\"[p=0.01, l=9.94]', '\"?\\n\\n\"[p=0.01, l=9.94]', '\" programmer\"[p=0.01, l=9.81]', '\" football\"[p=0.01, l=9.38]']\n",
      "token_idx=14 [\" De\"] => ['\"?\\n\"[p=0.09, l=11.56]', '\"??\"[p=0.08, l=11.50]', '\" unknown\"[p=0.04, l=10.88]', '\"?\"[p=0.04, l=10.81]', '\"???\"[p=0.04, l=10.75]', '\"?\\n\\n\"[p=0.03, l=10.56]', '\" artist\"[p=0.03, l=10.44]', '\" singer\"[p=0.02, l=9.94]', '\" programmer\"[p=0.02, l=9.88]', '\" politician\"[p=0.02, l=9.88]', '\" lawyer\"[p=0.01, l=9.69]', '\" software\"[p=0.01, l=9.62]', '\" \\n\"[p=0.01, l=9.50]', '\" actor\"[p=0.01, l=9.50]', '\" musician\"[p=0.01, l=9.44]']\n",
      "token_idx=15 [\"pp\"] => ['\"??\"[p=0.11, l=11.62]', '\"?\\n\"[p=0.07, l=11.12]', '\"?\\n\\n\"[p=0.06, l=11.00]', '\" unknown\"[p=0.06, l=11.00]', '\"???\"[p=0.05, l=10.75]', '\"?\"[p=0.05, l=10.75]', '\" programmer\"[p=0.02, l=9.81]', '\" \\n\"[p=0.02, l=9.69]', '\" artist\"[p=0.01, l=9.44]', '\" empty\"[p=0.01, l=9.44]', '\" not\"[p=0.01, l=9.31]', '\" \"[p=0.01, l=9.25]', '\" (\"[p=0.01, l=9.25]', '\" computer\"[p=0.01, l=9.25]', '\" error\"[p=0.01, l=9.19]']\n",
      "\n",
      "\" Marc Jacobs\" | cur_rng=(19, 21)\n",
      "token_idx=19 [\" Marc\"] => ['\"?\\n\"[p=0.08, l=11.69]', '\" unknown\"[p=0.06, l=11.44]', '\"??\"[p=0.04, l=10.88]', '\"?\"[p=0.03, l=10.81]', '\"?\\n\\n\"[p=0.03, l=10.56]', '\"???\"[p=0.02, l=10.50]', '\" programmer\"[p=0.02, l=10.44]', '\" actor\"[p=0.02, l=10.25]', '\" artist\"[p=0.02, l=10.25]', '\" soccer\"[p=0.02, l=10.19]', '\" football\"[p=0.02, l=10.19]', '\" no\"[p=0.02, l=10.12]', '\" singer\"[p=0.02, l=10.06]', '\" software\"[p=0.02, l=10.06]', '\" musician\"[p=0.01, l=9.94]']\n",
      "token_idx=20 [\" Jacobs\"] => ['\"?\\n\"[p=0.07, l=11.62]', '\"???\"[p=0.04, l=11.06]', '\"??\"[p=0.04, l=11.06]', '\" programmer\"[p=0.04, l=11.00]', '\" politician\"[p=0.04, l=11.00]', '\" unknown\"[p=0.03, l=10.94]', '\"?\"[p=0.03, l=10.81]', '\"?\\n\\n\"[p=0.02, l=10.44]', '\" software\"[p=0.02, l=10.44]', '\" artist\"[p=0.02, l=10.31]', '\" football\"[p=0.02, l=10.12]', '\" musician\"[p=0.02, l=10.12]', '\" engineer\"[p=0.01, l=10.06]', '\" (\"[p=0.01, l=10.06]', '\" singer\"[p=0.01, l=10.00]']\n",
      "\n",
      "\" Jennifer Lawrence\" | cur_rng=(22, 24)\n",
      "token_idx=22 [\" Jennifer\"] => ['\" actress\"[p=0.08, l=12.25]', '\" unknown\"[p=0.07, l=12.19]', '\" singer\"[p=0.07, l=12.12]', '\"?\\n\"[p=0.06, l=11.94]', '\"??\"[p=0.03, l=11.31]', '\"?\"[p=0.03, l=11.25]', '\" artist\"[p=0.02, l=11.06]', '\" teacher\"[p=0.02, l=11.06]', '\" lawyer\"[p=0.02, l=10.88]', '\" student\"[p=0.02, l=10.88]', '\" no\"[p=0.02, l=10.81]', '\" actor\"[p=0.02, l=10.81]', '\"???\"[p=0.02, l=10.81]', '\"?\\n\\n\"[p=0.01, l=10.56]', '\" model\"[p=0.01, l=10.50]']\n",
      "token_idx=23 [\" Lawrence\"] => ['\"?\\n\"[p=0.06, l=11.56]', '\"??\"[p=0.04, l=11.19]', '\" programmer\"[p=0.03, l=11.06]', '\" actor\"[p=0.03, l=11.06]', '\" computer\"[p=0.03, l=10.88]', '\" lawyer\"[p=0.03, l=10.88]', '\"???\"[p=0.02, l=10.75]', '\"?\\n\\n\"[p=0.02, l=10.75]', '\" software\"[p=0.02, l=10.75]', '\" unknown\"[p=0.02, l=10.75]', '\"?\"[p=0.02, l=10.56]', '\" artist\"[p=0.02, l=10.38]', '\" mathematic\"[p=0.02, l=10.31]', '\" student\"[p=0.02, l=10.31]', '\" engineer\"[p=0.01, l=10.25]']\n",
      "\n",
      "\" Giannis Antetokounmpo\" | cur_rng=(25, 33)\n",
      "token_idx=25 [\" Gi\"] => ['\"?\\n\"[p=0.09, l=11.19]', '\"??\"[p=0.05, l=10.56]', '\"?\"[p=0.04, l=10.31]', '\" singer\"[p=0.03, l=9.94]', '\"?\\n\\n\"[p=0.02, l=9.88]', '\" unknown\"[p=0.02, l=9.81]', '\" artist\"[p=0.02, l=9.75]', '\"???\"[p=0.02, l=9.69]', '\" programmer\"[p=0.02, l=9.56]', '\" musician\"[p=0.01, l=9.31]', '\" actor\"[p=0.01, l=8.88]', '\" software\"[p=0.01, l=8.81]', '\" (\"[p=0.01, l=8.75]', '\" \"[p=0.01, l=8.75]', '\" politician\"[p=0.01, l=8.75]']\n",
      "token_idx=26 [\"annis\"] => ['\"?\\n\"[p=0.06, l=11.44]', '\"??\"[p=0.05, l=11.38]', '\"???\"[p=0.05, l=11.31]', '\" artist\"[p=0.04, l=11.00]', '\" programmer\"[p=0.03, l=10.94]', '\"?\"[p=0.03, l=10.94]', '\" unknown\"[p=0.03, l=10.81]', '\" politician\"[p=0.03, l=10.69]', '\"?\\n\\n\"[p=0.02, l=10.62]', '\" singer\"[p=0.02, l=10.38]', '\" software\"[p=0.02, l=10.31]', '\" actor\"[p=0.02, l=10.25]', '\" entrepreneur\"[p=0.02, l=10.12]', '\" student\"[p=0.01, l=9.88]', '\" (\"[p=0.01, l=9.88]']\n",
      "token_idx=27 [\" Ant\"] => ['\"??\"[p=0.07, l=11.69]', '\"?\\n\"[p=0.05, l=11.44]', '\" unknown\"[p=0.05, l=11.31]', '\"???\"[p=0.05, l=11.31]', '\" artist\"[p=0.03, l=11.00]', '\" programmer\"[p=0.03, l=10.81]', '\"?\"[p=0.03, l=10.75]', '\" software\"[p=0.02, l=10.69]', '\"?\\n\\n\"[p=0.02, l=10.38]', '\" politician\"[p=0.02, l=10.19]', '\" musician\"[p=0.01, l=10.12]', '\" (\"[p=0.01, l=10.06]', '\" singer\"[p=0.01, l=9.94]', '\" actor\"[p=0.01, l=9.94]', '\" computer\"[p=0.01, l=9.88]']\n",
      "token_idx=28 [\"et\"] => ['\"?\\n\"[p=0.09, l=11.56]', '\"??\"[p=0.09, l=11.50]', '\"?\\n\\n\"[p=0.07, l=11.25]', '\" unknown\"[p=0.06, l=11.19]', '\"?\"[p=0.05, l=11.00]', '\"???\"[p=0.05, l=10.94]', '\" \"[p=0.01, l=9.56]', '\" software\"[p=0.01, l=9.50]', '\" \\n\"[p=0.01, l=9.38]', '\" (\"[p=0.01, l=9.38]', '\" programmer\"[p=0.01, l=9.38]', '\" undefined\"[p=0.01, l=9.31]', '\" artist\"[p=0.01, l=9.31]', '\" error\"[p=0.01, l=9.25]', '\" empty\"[p=0.01, l=9.19]']\n",
      "token_idx=29 [\"ok\"] => ['\"??\"[p=0.09, l=11.62]', '\" unknown\"[p=0.08, l=11.44]', '\"???\"[p=0.05, l=11.06]', '\"?\\n\"[p=0.05, l=11.06]', '\"?\"[p=0.04, l=10.81]', '\"?\\n\\n\"[p=0.04, l=10.75]', '\" programmer\"[p=0.03, l=10.62]', '\" software\"[p=0.01, l=9.81]', '\" computer\"[p=0.01, l=9.81]', '\" error\"[p=0.01, l=9.62]', '\" artist\"[p=0.01, l=9.50]', '\" not\"[p=0.01, l=9.50]', '\" no\"[p=0.01, l=9.38]', '\" (\"[p=0.01, l=9.38]', '\" \"[p=0.01, l=9.25]']\n",
      "token_idx=30 [\"oun\"] => ['\"??\"[p=0.08, l=11.75]', '\"???\"[p=0.07, l=11.56]', '\"?\\n\"[p=0.06, l=11.44]', '\"?\\n\\n\"[p=0.05, l=11.25]', '\"?\"[p=0.04, l=11.12]', '\" unknown\"[p=0.04, l=11.12]', '\" artist\"[p=0.03, l=10.88]', '\" politician\"[p=0.03, l=10.62]', '\" programmer\"[p=0.02, l=10.50]', '\" software\"[p=0.02, l=10.25]', '\" computer\"[p=0.01, l=10.00]', '\" lawyer\"[p=0.01, l=9.94]', '\" \\n\"[p=0.01, l=9.88]', '\" actor\"[p=0.01, l=9.88]', '\" (\"[p=0.01, l=9.81]']\n",
      "token_idx=31 [\"mp\"] => ['\"??\"[p=0.13, l=12.19]', '\" unknown\"[p=0.07, l=11.50]', '\"???\"[p=0.06, l=11.44]', '\"?\\n\"[p=0.05, l=11.12]', '\"?\\n\\n\"[p=0.04, l=11.00]', '\"?\"[p=0.04, l=10.94]', '\" programmer\"[p=0.03, l=10.56]', '\" error\"[p=0.02, l=10.25]', '\" invalid\"[p=0.02, l=10.12]', '\" not\"[p=0.01, l=9.88]', '\" undefined\"[p=0.01, l=9.88]', '\" computer\"[p=0.01, l=9.81]', '\" artist\"[p=0.01, l=9.69]', '\" (\"[p=0.01, l=9.62]', '\" \"[p=0.01, l=9.62]']\n",
      "token_idx=32 [\"o\"] => ['\"??\"[p=0.09, l=11.44]', '\" unknown\"[p=0.07, l=11.12]', '\"???\"[p=0.05, l=10.88]', '\"?\\n\"[p=0.05, l=10.88]', '\"?\\n\\n\"[p=0.04, l=10.56]', '\"?\"[p=0.04, l=10.56]', '\" programmer\"[p=0.02, l=9.88]', '\" software\"[p=0.02, l=9.75]', '\" error\"[p=0.02, l=9.69]', '\" artist\"[p=0.01, l=9.62]', '\" undefined\"[p=0.01, l=9.50]', '\" (\"[p=0.01, l=9.44]', '\" empty\"[p=0.01, l=9.31]', '\" computer\"[p=0.01, l=9.31]', '\" \"[p=0.01, l=9.25]']\n",
      "\n",
      "\" Beyoncé\" | cur_rng=(34, 36)\n",
      "token_idx=34 [\" Bey\"] => ['\"?\\n\"[p=0.06, l=11.31]', '\"??\"[p=0.04, l=10.94]', '\" unknown\"[p=0.03, l=10.69]', '\" artist\"[p=0.03, l=10.69]', '\" singer\"[p=0.03, l=10.62]', '\"???\"[p=0.03, l=10.62]', '\"?\"[p=0.03, l=10.50]', '\"?\\n\\n\"[p=0.02, l=10.19]', '\" (\"[p=0.02, l=10.00]', '\" programmer\"[p=0.02, l=9.88]', '\" musician\"[p=0.01, l=9.62]', '\" You\"[p=0.01, l=9.56]', '\" software\"[p=0.01, l=9.50]', '\" politician\"[p=0.01, l=9.44]', '\" no\"[p=0.01, l=9.38]']\n",
      "token_idx=35 [\"oncé\"] => ['\" programmer\"[p=0.05, l=11.31]', '\"???\"[p=0.05, l=11.12]', '\"??\"[p=0.05, l=11.12]', '\" unknown\"[p=0.04, l=11.06]', '\" artist\"[p=0.04, l=11.06]', '\"?\\n\"[p=0.04, l=10.94]', '\"?\\n\\n\"[p=0.02, l=10.38]', '\" software\"[p=0.02, l=10.31]', '\" politician\"[p=0.02, l=10.25]', '\"?\"[p=0.02, l=10.25]', '\" singer\"[p=0.02, l=10.19]', '\" musician\"[p=0.02, l=10.12]', '\" computer\"[p=0.02, l=10.06]', '\" actor\"[p=0.01, l=9.69]', '\" (\"[p=0.01, l=9.69]']\n",
      "\n",
      "\" Stephen King\" | cur_rng=(37, 39)\n",
      "token_idx=37 [\" Stephen\"] => ['\"?\\n\"[p=0.10, l=12.44]', '\" unknown\"[p=0.05, l=11.81]', '\"?\"[p=0.05, l=11.81]', '\" programmer\"[p=0.05, l=11.75]', '\"??\"[p=0.04, l=11.62]', '\" software\"[p=0.04, l=11.44]', '\"?\\n\\n\"[p=0.04, l=11.38]', '\"???\"[p=0.03, l=11.31]', '\" actor\"[p=0.03, l=11.31]', '\" engineer\"[p=0.01, l=10.50]', '\" computer\"[p=0.01, l=10.38]', '\" no\"[p=0.01, l=10.38]', '\" Stephen\"[p=0.01, l=10.25]', '\" artist\"[p=0.01, l=10.25]', '\" scientist\"[p=0.01, l=10.19]']\n",
      "token_idx=38 [\" King\"] => ['\"?\\n\"[p=0.05, l=11.75]', '\" programmer\"[p=0.04, l=11.62]', '\" singer\"[p=0.03, l=11.38]', '\" musician\"[p=0.03, l=11.25]', '\"??\"[p=0.03, l=11.06]', '\" actor\"[p=0.03, l=11.06]', '\" unknown\"[p=0.03, l=11.06]', '\" politician\"[p=0.02, l=10.94]', '\" artist\"[p=0.02, l=10.94]', '\"???\"[p=0.02, l=10.75]', '\" entrepreneur\"[p=0.02, l=10.69]', '\" software\"[p=0.02, l=10.69]', '\"?\"[p=0.02, l=10.62]', '\" king\"[p=0.02, l=10.62]', '\" chess\"[p=0.01, l=10.44]']\n",
      "\n",
      "\" Novak Djokovic\" | cur_rng=(40, 45)\n",
      "token_idx=40 [\" Nov\"] => ['\"?\\n\"[p=0.08, l=11.81]', '\"??\"[p=0.07, l=11.69]', '\"???\"[p=0.04, l=11.19]', '\"?\"[p=0.04, l=11.12]', '\" unknown\"[p=0.04, l=11.06]', '\" programmer\"[p=0.03, l=11.00]', '\" artist\"[p=0.03, l=10.81]', '\"?\\n\\n\"[p=0.03, l=10.81]', '\" singer\"[p=0.02, l=10.62]', '\" software\"[p=0.02, l=10.38]', '\" musician\"[p=0.02, l=10.25]', '\" politician\"[p=0.01, l=9.69]', '\" entrepreneur\"[p=0.01, l=9.69]', '\" actor\"[p=0.01, l=9.69]', '\" (\"[p=0.01, l=9.69]']\n",
      "token_idx=41 [\"ak\"] => ['\"??\"[p=0.09, l=11.75]', '\"?\\n\"[p=0.08, l=11.62]', '\" unknown\"[p=0.07, l=11.50]', '\"?\\n\\n\"[p=0.06, l=11.31]', '\"?\"[p=0.06, l=11.31]', '\"???\"[p=0.04, l=10.88]', '\" software\"[p=0.02, l=10.50]', '\" programmer\"[p=0.02, l=10.38]', '\" artist\"[p=0.02, l=10.12]', '\" \\n\"[p=0.01, l=9.69]', '\" computer\"[p=0.01, l=9.62]', '\" politician\"[p=0.01, l=9.62]', '\" engineer\"[p=0.01, l=9.56]', '\" (\"[p=0.01, l=9.56]', '\" what\"[p=0.01, l=9.44]']\n",
      "token_idx=42 [\" Dj\"] => ['\"?\\n\"[p=0.06, l=10.69]', '\"??\"[p=0.04, l=10.44]', '\" unknown\"[p=0.04, l=10.31]', '\"???\"[p=0.02, l=9.88]', '\"?\"[p=0.02, l=9.88]', '\" musician\"[p=0.02, l=9.81]', '\" artist\"[p=0.02, l=9.69]', '\"?\\n\\n\"[p=0.02, l=9.69]', '\" singer\"[p=0.02, l=9.62]', '\" programmer\"[p=0.02, l=9.44]', '\" no\"[p=0.01, l=9.38]', '\" (\"[p=0.01, l=9.06]', '\" actor\"[p=0.01, l=9.00]', '\" football\"[p=0.01, l=8.88]', '\" software\"[p=0.01, l=8.88]']\n",
      "token_idx=43 [\"ok\"] => ['\"??\"[p=0.09, l=11.56]', '\" unknown\"[p=0.07, l=11.38]', '\"???\"[p=0.06, l=11.12]', '\"?\\n\"[p=0.05, l=11.00]', '\"?\"[p=0.04, l=10.75]', '\" programmer\"[p=0.04, l=10.69]', '\"?\\n\\n\"[p=0.04, l=10.69]', '\" software\"[p=0.01, l=9.75]', '\" computer\"[p=0.01, l=9.62]', '\" artist\"[p=0.01, l=9.56]', '\" error\"[p=0.01, l=9.50]', '\" not\"[p=0.01, l=9.38]', '\" no\"[p=0.01, l=9.38]', '\" (\"[p=0.01, l=9.38]', '\" what\"[p=0.01, l=9.25]']\n",
      "token_idx=44 [\"ovic\"] => ['\"??\"[p=0.06, l=11.31]', '\"???\"[p=0.06, l=11.19]', '\"?\\n\"[p=0.05, l=11.12]', '\" unknown\"[p=0.05, l=11.00]', '\" programmer\"[p=0.04, l=10.88]', '\"?\"[p=0.03, l=10.69]', '\"?\\n\\n\"[p=0.03, l=10.50]', '\" artist\"[p=0.02, l=10.31]', '\" politician\"[p=0.02, l=10.06]', '\" software\"[p=0.02, l=10.00]', '\" computer\"[p=0.02, l=9.94]', '\" musician\"[p=0.01, l=9.81]', '\" not\"[p=0.01, l=9.50]', '\" (\"[p=0.01, l=9.50]', '\" error\"[p=0.01, l=9.50]']\n",
      "======================================================================================================================================================\n",
      "\n",
      "layer='model.layers.3'\n",
      "\n",
      "\"Ans:\" | cur_rng=(-2, 0)\n",
      "token_idx=-2 [\"Ans\"] => ['\"?\\n\"[p=0.06, l=10.81]', '\" artist\"[p=0.03, l=10.06]', '\"??\"[p=0.03, l=10.00]', '\" actor\"[p=0.02, l=9.88]', '\"?\\n\\n\"[p=0.02, l=9.75]', '\" astronaut\"[p=0.02, l=9.56]', '\" politician\"[p=0.02, l=9.56]', '\" programmer\"[p=0.02, l=9.50]', '\" entrepreneur\"[p=0.02, l=9.50]', '\" singer\"[p=0.02, l=9.50]', '\" software\"[p=0.01, l=9.44]', '\"???\"[p=0.01, l=9.31]', '\" scientist\"[p=0.01, l=9.25]', '\" engineer\"[p=0.01, l=9.25]', '\" musician\"[p=0.01, l=9.25]']\n",
      "token_idx=-1 [\":\"] => ['\"?\\n\"[p=0.29, l=14.62]', '\"?\\n\\n\"[p=0.18, l=14.19]', '\"??\"[p=0.06, l=13.00]', '\"?\"[p=0.05, l=12.94]', '\" \\n\"[p=0.02, l=11.88]', '\"???\"[p=0.02, l=11.88]', '\" software\"[p=0.02, l=11.81]', '\" lawyer\"[p=0.01, l=11.56]', '\" artist\"[p=0.01, l=11.38]', '\" profession\"[p=0.01, l=11.38]', '\" astronaut\"[p=0.01, l=11.31]', '\" programmer\"[p=0.01, l=11.25]', '\" politician\"[p=0.01, l=11.19]', '\" (\"[p=0.01, l=11.19]', '\" what\"[p=0.01, l=11.00]']\n",
      "\n",
      "\" Johnny Depp\" | cur_rng=(13, 16)\n",
      "token_idx=13 [\" Johnny\"] => ['\" unknown\"[p=0.08, l=12.12]', '\"?\\n\"[p=0.06, l=11.81]', '\" musician\"[p=0.05, l=11.75]', '\" singer\"[p=0.04, l=11.50]', '\"?\"[p=0.03, l=11.25]', '\" actor\"[p=0.03, l=11.25]', '\"??\"[p=0.03, l=11.12]', '\" no\"[p=0.02, l=10.94]', '\"???\"[p=0.02, l=10.88]', '\" (\"[p=0.02, l=10.62]', '\" student\"[p=0.01, l=10.25]', '\" Johnny\"[p=0.01, l=10.19]', '\" artist\"[p=0.01, l=10.12]', '\"?\\n\\n\"[p=0.01, l=10.00]', '\" rock\"[p=0.01, l=9.94]']\n",
      "token_idx=14 [\" De\"] => ['\"?\\n\"[p=0.05, l=10.25]', '\"?\"[p=0.03, l=9.75]', '\" unknown\"[p=0.03, l=9.50]', '\"??\"[p=0.02, l=9.31]', '\" artist\"[p=0.02, l=9.25]', '\" singer\"[p=0.02, l=9.00]', '\"?\\n\\n\"[p=0.01, l=8.94]', '\" prefix\"[p=0.01, l=8.94]', '\" \\n\"[p=0.01, l=8.88]', '\" musician\"[p=0.01, l=8.88]', '\"???\"[p=0.01, l=8.81]', '\" what\"[p=0.01, l=8.81]', '\" de\"[p=0.01, l=8.75]', '\" (\"[p=0.01, l=8.69]', '\" actor\"[p=0.01, l=8.62]']\n",
      "token_idx=15 [\"pp\"] => ['\" actor\"[p=0.91, l=17.62]', '\" Johnny\"[p=0.03, l=14.06]', '\" Actor\"[p=0.01, l=13.44]', '\" (\"[p=0.00, l=12.38]', '\" movie\"[p=0.00, l=12.12]', '\" film\"[p=0.00, l=11.38]', '\" \"[p=0.00, l=11.19]', '\" musician\"[p=0.00, l=11.06]', '\"?\\n\"[p=0.00, l=11.06]', '\"?\"[p=0.00, l=10.88]', '\" singer\"[p=0.00, l=10.69]', '\" \\n\"[p=0.00, l=10.69]', '\"??\"[p=0.00, l=10.56]', '\" no\"[p=0.00, l=10.56]', '\" actress\"[p=0.00, l=10.56]']\n",
      "\n",
      "\" Marc Jacobs\" | cur_rng=(19, 21)\n",
      "token_idx=19 [\" Marc\"] => ['\"?\\n\"[p=0.11, l=12.69]', '\" unknown\"[p=0.05, l=11.94]', '\"?\\n\\n\"[p=0.05, l=11.88]', '\"?\"[p=0.05, l=11.81]', '\"??\"[p=0.04, l=11.62]', '\"???\"[p=0.03, l=11.38]', '\" programmer\"[p=0.02, l=11.12]', '\" software\"[p=0.02, l=10.94]', '\" actor\"[p=0.02, l=10.81]', '\" artist\"[p=0.02, l=10.75]', '\" engineer\"[p=0.02, l=10.75]', '\" entrepreneur\"[p=0.01, l=10.62]', '\" musician\"[p=0.01, l=10.44]', '\" student\"[p=0.01, l=10.44]', '\" no\"[p=0.01, l=10.38]']\n",
      "token_idx=20 [\" Jacobs\"] => ['\" fashion\"[p=0.61, l=16.38]', '\" designer\"[p=0.17, l=15.06]', '\" artist\"[p=0.02, l=12.88]', '\" unknown\"[p=0.01, l=12.25]', '\" (\"[p=0.01, l=12.19]', '\"?\\n\"[p=0.01, l=11.94]', '\" Fashion\"[p=0.01, l=11.81]', '\" model\"[p=0.01, l=11.75]', '\" entrepreneur\"[p=0.01, l=11.62]', '\"??\"[p=0.00, l=11.38]', '\" \"[p=0.00, l=11.31]', '\" photographer\"[p=0.00, l=11.25]', '\" singer\"[p=0.00, l=11.25]', '\" actor\"[p=0.00, l=11.25]', '\" football\"[p=0.00, l=11.25]']\n",
      "\n",
      "\" Jennifer Lawrence\" | cur_rng=(22, 24)\n",
      "token_idx=22 [\" Jennifer\"] => ['\" singer\"[p=0.10, l=13.25]', '\" actress\"[p=0.07, l=12.88]', '\"?\\n\"[p=0.07, l=12.88]', '\" unknown\"[p=0.05, l=12.56]', '\" lawyer\"[p=0.05, l=12.50]', '\"??\"[p=0.03, l=12.00]', '\"?\"[p=0.03, l=12.00]', '\" teacher\"[p=0.03, l=11.94]', '\" no\"[p=0.02, l=11.75]', '\"???\"[p=0.02, l=11.44]', '\" (\"[p=0.02, l=11.44]', '\" artist\"[p=0.02, l=11.38]', '\" data\"[p=0.01, l=11.31]', '\" doctor\"[p=0.01, l=11.31]', '\" actor\"[p=0.01, l=11.12]']\n",
      "token_idx=23 [\" Lawrence\"] => ['\" actor\"[p=0.54, l=15.00]', '\" actress\"[p=0.06, l=12.81]', '\" physicist\"[p=0.03, l=12.25]', '\" unknown\"[p=0.02, l=11.69]', '\"??\"[p=0.01, l=11.19]', '\"?\\n\"[p=0.01, l=11.12]', '\" scientist\"[p=0.01, l=11.06]', '\" (\"[p=0.01, l=11.06]', '\" football\"[p=0.01, l=10.88]', '\" chem\"[p=0.01, l=10.88]', '\"?\"[p=0.01, l=10.81]', '\" lawyer\"[p=0.01, l=10.69]', '\" unclear\"[p=0.01, l=10.56]', '\" mathematic\"[p=0.01, l=10.50]', '\"???\"[p=0.01, l=10.44]']\n",
      "\n",
      "\" Giannis Antetokounmpo\" | cur_rng=(25, 33)\n",
      "token_idx=25 [\" Gi\"] => ['\"?\\n\"[p=0.09, l=10.88]', '\"?\"[p=0.03, l=9.88]', '\"??\"[p=0.03, l=9.69]', '\" singer\"[p=0.02, l=9.31]', '\" football\"[p=0.02, l=9.25]', '\" artist\"[p=0.02, l=9.25]', '\" soccer\"[p=0.02, l=9.12]', '\"???\"[p=0.01, l=9.06]', '\" musician\"[p=0.01, l=8.94]', '\" actor\"[p=0.01, l=8.94]', '\"?\\n\\n\"[p=0.01, l=8.94]', '\" \\n\"[p=0.01, l=8.69]', '\" \"[p=0.01, l=8.69]', '\" politician\"[p=0.01, l=8.62]', '\" (\"[p=0.01, l=8.50]']\n",
      "token_idx=26 [\"annis\"] => ['\" basketball\"[p=0.25, l=14.50]', '\" unknown\"[p=0.10, l=13.62]', '\"?\\n\"[p=0.06, l=13.06]', '\" football\"[p=0.05, l=13.00]', '\" soccer\"[p=0.04, l=12.69]', '\" politician\"[p=0.03, l=12.31]', '\"?\"[p=0.03, l=12.31]', '\"?\\n\\n\"[p=0.03, l=12.25]', '\"??\"[p=0.02, l=12.19]', '\" (\"[p=0.02, l=11.88]', '\" ancient\"[p=0.02, l=11.75]', '\"???\"[p=0.01, l=11.25]', '\" athlete\"[p=0.01, l=11.25]', '\" musician\"[p=0.01, l=11.19]', '\" no\"[p=0.01, l=11.19]']\n",
      "token_idx=27 [\" Ant\"] => ['\" insect\"[p=0.12, l=13.38]', '\" ant\"[p=0.08, l=13.00]', '\" worker\"[p=0.06, l=12.69]', '\" ent\"[p=0.05, l=12.50]', '\" soldier\"[p=0.04, l=12.38]', '\"??\"[p=0.04, l=12.31]', '\" farmer\"[p=0.04, l=12.19]', '\"?\\n\"[p=0.03, l=12.06]', '\" unknown\"[p=0.02, l=11.38]', '\"?\"[p=0.01, l=11.12]', '\" engineer\"[p=0.01, l=11.00]', '\" (\"[p=0.01, l=10.88]', '\"???\"[p=0.01, l=10.88]', '\" tiny\"[p=0.01, l=10.88]', '\" no\"[p=0.01, l=10.81]']\n",
      "token_idx=28 [\"et\"] => ['\"?\\n\"[p=0.11, l=11.25]', '\"??\"[p=0.07, l=10.81]', '\"?\"[p=0.06, l=10.69]', '\"?\\n\\n\"[p=0.05, l=10.38]', '\" unknown\"[p=0.05, l=10.38]', '\"???\"[p=0.03, l=9.94]', '\" no\"[p=0.02, l=9.31]', '\" not\"[p=0.01, l=9.06]', '\" artist\"[p=0.01, l=9.00]', '\" (\"[p=0.01, l=8.94]', '\" entrepreneur\"[p=0.01, l=8.81]', '\" \"[p=0.01, l=8.75]', '\" programmer\"[p=0.01, l=8.75]', '\" politician\"[p=0.01, l=8.62]', '\" \\n\"[p=0.01, l=8.62]']\n",
      "token_idx=29 [\"ok\"] => ['\" unknown\"[p=0.05, l=10.69]', '\"?\\n\"[p=0.04, l=10.62]', '\"??\"[p=0.04, l=10.62]', '\"???\"[p=0.03, l=10.12]', '\"?\"[p=0.03, l=10.12]', '\"?\\n\\n\"[p=0.02, l=10.06]', '\" no\"[p=0.02, l=9.88]', '\" entrepreneur\"[p=0.02, l=9.88]', '\" politician\"[p=0.02, l=9.81]', '\" artist\"[p=0.02, l=9.75]', '\" not\"[p=0.02, l=9.62]', '\" error\"[p=0.01, l=9.38]', '\" programmer\"[p=0.01, l=9.38]', '\" musician\"[p=0.01, l=9.38]', '\" software\"[p=0.01, l=9.25]']\n",
      "token_idx=30 [\"oun\"] => ['\" basketball\"[p=0.30, l=13.25]', '\" football\"[p=0.05, l=11.50]', '\" soccer\"[p=0.04, l=11.31]', '\"?\\n\"[p=0.04, l=11.25]', '\" unknown\"[p=0.02, l=10.69]', '\"??\"[p=0.02, l=10.56]', '\"?\"[p=0.02, l=10.56]', '\" entrepreneur\"[p=0.02, l=10.44]', '\"?\\n\\n\"[p=0.01, l=10.25]', '\" athlete\"[p=0.01, l=10.12]', '\" (\"[p=0.01, l=10.06]', '\" \\n\"[p=0.01, l=10.00]', '\" musician\"[p=0.01, l=9.88]', '\" artist\"[p=0.01, l=9.88]', '\" NBA\"[p=0.01, l=9.75]']\n",
      "token_idx=31 [\"mp\"] => ['\"??\"[p=0.07, l=11.06]', '\"?\\n\"[p=0.07, l=11.00]', '\"?\"[p=0.03, l=10.25]', '\" politician\"[p=0.03, l=10.06]', '\" unknown\"[p=0.03, l=10.06]', '\" programmer\"[p=0.02, l=10.00]', '\"?\\n\\n\"[p=0.02, l=10.00]', '\"???\"[p=0.02, l=9.94]', '\" musician\"[p=0.02, l=9.88]', '\" software\"[p=0.02, l=9.62]', '\" no\"[p=0.01, l=9.44]', '\" not\"[p=0.01, l=9.38]', '\" computer\"[p=0.01, l=9.38]', '\" mp\"[p=0.01, l=9.38]', '\" entrepreneur\"[p=0.01, l=9.25]']\n",
      "token_idx=32 [\"o\"] => ['\"?\\n\"[p=0.07, l=11.12]', '\"??\"[p=0.05, l=10.81]', '\" football\"[p=0.04, l=10.50]', '\"?\"[p=0.04, l=10.50]', '\" basketball\"[p=0.04, l=10.44]', '\" soccer\"[p=0.03, l=10.38]', '\" unknown\"[p=0.03, l=10.31]', '\"?\\n\\n\"[p=0.03, l=10.19]', '\" \\n\"[p=0.03, l=10.12]', '\" entrepreneur\"[p=0.03, l=10.06]', '\"???\"[p=0.02, l=9.88]', '\" (\"[p=0.02, l=9.81]', '\" no\"[p=0.02, l=9.62]', '\" politician\"[p=0.01, l=9.50]', '\" not\"[p=0.01, l=9.19]']\n",
      "\n",
      "\" Beyoncé\" | cur_rng=(34, 36)\n",
      "token_idx=34 [\" Bey\"] => ['\" singer\"[p=0.75, l=16.88]', '\" musician\"[p=0.07, l=14.50]', '\" pop\"[p=0.03, l=13.62]', '\" music\"[p=0.02, l=13.00]', '\" Singer\"[p=0.01, l=12.75]', '\" artist\"[p=0.01, l=12.06]', '\" performer\"[p=0.00, l=11.81]', '\" entert\"[p=0.00, l=11.75]', '\" Music\"[p=0.00, l=11.62]', '\" actress\"[p=0.00, l=11.44]', '\" \"[p=0.00, l=11.38]', '\"??\"[p=0.00, l=11.25]', '\" songwriter\"[p=0.00, l=11.25]', '\" Queen\"[p=0.00, l=11.19]', '\" queen\"[p=0.00, l=11.00]']\n",
      "token_idx=35 [\"oncé\"] => ['\" singer\"[p=0.96, l=22.50]', '\" musician\"[p=0.02, l=18.75]', '\" pop\"[p=0.00, l=17.12]', '\" Singer\"[p=0.00, l=16.38]', '\" music\"[p=0.00, l=16.12]', '\" entert\"[p=0.00, l=15.75]', '\" artist\"[p=0.00, l=15.69]', '\" actress\"[p=0.00, l=15.38]', '\" \"[p=0.00, l=15.06]', '\" Music\"[p=0.00, l=14.62]', '\" performer\"[p=0.00, l=14.38]', '\" signer\"[p=0.00, l=14.19]', '\" songwriter\"[p=0.00, l=14.19]', '\" (\"[p=0.00, l=14.12]', '\" celebrity\"[p=0.00, l=13.88]']\n",
      "\n",
      "\" Stephen King\" | cur_rng=(37, 39)\n",
      "token_idx=37 [\" Stephen\"] => ['\"?\\n\"[p=0.12, l=13.31]', '\" unknown\"[p=0.06, l=12.69]', '\"?\"[p=0.06, l=12.56]', '\" actor\"[p=0.05, l=12.38]', '\"??\"[p=0.03, l=12.06]', '\" philosopher\"[p=0.03, l=12.00]', '\" author\"[p=0.03, l=11.94]', '\" writer\"[p=0.03, l=11.88]', '\" king\"[p=0.02, l=11.69]', '\"?\\n\\n\"[p=0.02, l=11.56]', '\" no\"[p=0.02, l=11.50]', '\"???\"[p=0.02, l=11.44]', '\" King\"[p=0.02, l=11.25]', '\" programmer\"[p=0.01, l=11.00]', '\" Stephen\"[p=0.01, l=10.94]']\n",
      "token_idx=38 [\" King\"] => ['\" author\"[p=0.18, l=14.88]', '\" writer\"[p=0.17, l=14.81]', '\" monarch\"[p=0.10, l=14.31]', '\" musician\"[p=0.06, l=13.75]', '\" novelist\"[p=0.05, l=13.50]', '\" politician\"[p=0.03, l=13.19]', '\" king\"[p=0.03, l=12.94]', '\" (\"[p=0.02, l=12.81]', '\" ruler\"[p=0.02, l=12.75]', '\"?\\n\"[p=0.02, l=12.69]', '\" singer\"[p=0.02, l=12.69]', '\"?\"[p=0.01, l=12.19]', '\" rapper\"[p=0.01, l=12.00]', '\" artist\"[p=0.01, l=11.94]', '\" actor\"[p=0.01, l=11.62]']\n",
      "\n",
      "\" Novak Djokovic\" | cur_rng=(40, 45)\n",
      "token_idx=40 [\" Nov\"] => ['\"?\\n\"[p=0.10, l=11.31]', '\"?\"[p=0.05, l=10.56]', '\"??\"[p=0.04, l=10.38]', '\" programmer\"[p=0.03, l=10.00]', '\" unknown\"[p=0.03, l=10.00]', '\"?\\n\\n\"[p=0.03, l=10.00]', '\" artist\"[p=0.02, l=9.88]', '\" not\"[p=0.02, l=9.62]', '\" musician\"[p=0.02, l=9.56]', '\" month\"[p=0.01, l=9.31]', '\"???\"[p=0.01, l=9.31]', '\" no\"[p=0.01, l=9.31]', '\" what\"[p=0.01, l=9.25]', '\" singer\"[p=0.01, l=9.12]', '\" writer\"[p=0.01, l=9.12]']\n",
      "token_idx=41 [\"ak\"] => ['\" tennis\"[p=0.30, l=14.69]', '\" politician\"[p=0.07, l=13.25]', '\"?\\n\"[p=0.06, l=13.00]', '\"?\"[p=0.05, l=12.94]', '\" musician\"[p=0.04, l=12.69]', '\"??\"[p=0.02, l=11.94]', '\" Dj\"[p=0.02, l=11.88]', '\" (\"[p=0.02, l=11.81]', '\"?\\n\\n\"[p=0.02, l=11.75]', '\" football\"[p=0.01, l=11.69]', '\" unknown\"[p=0.01, l=11.62]', '\" actor\"[p=0.01, l=11.44]', '\" singer\"[p=0.01, l=11.38]', '\"???\"[p=0.01, l=11.31]', '\" athlete\"[p=0.01, l=11.12]']\n",
      "token_idx=42 [\" Dj\"] => ['\" musician\"[p=0.21, l=15.62]', '\" disc\"[p=0.17, l=15.38]', '\" DJ\"[p=0.12, l=15.00]', '\" disk\"[p=0.08, l=14.62]', '\" music\"[p=0.08, l=14.62]', '\" dj\"[p=0.07, l=14.44]', '\" Disc\"[p=0.05, l=14.12]', '\" Dj\"[p=0.02, l=13.38]', '\" singer\"[p=0.01, l=12.94]', '\" Disk\"[p=0.01, l=12.88]', '\" Music\"[p=0.01, l=12.88]', '\" de\"[p=0.01, l=12.50]', '\" artist\"[p=0.01, l=12.00]', '\"?\\n\"[p=0.00, l=11.81]', '\" entert\"[p=0.00, l=11.75]']\n",
      "token_idx=43 [\"ok\"] => ['\" tennis\"[p=0.18, l=12.50]', '\"?\\n\"[p=0.04, l=11.06]', '\"?\"[p=0.04, l=10.88]', '\"??\"[p=0.03, l=10.75]', '\" politician\"[p=0.02, l=10.44]', '\" musician\"[p=0.02, l=10.38]', '\" football\"[p=0.02, l=10.31]', '\"?\\n\\n\"[p=0.02, l=10.25]', '\"???\"[p=0.02, l=10.06]', '\" unknown\"[p=0.01, l=10.00]', '\" soccer\"[p=0.01, l=10.00]', '\" \\n\"[p=0.01, l=10.00]', '\" no\"[p=0.01, l=9.94]', '\" basketball\"[p=0.01, l=9.75]', '\" (\"[p=0.01, l=9.75]']\n",
      "token_idx=44 [\"ovic\"] => ['\" tennis\"[p=0.78, l=17.25]', '\"?\\n\"[p=0.03, l=13.94]', '\"?\"[p=0.02, l=13.56]', '\" Nov\"[p=0.02, l=13.38]', '\" (\"[p=0.01, l=12.94]', '\" athlete\"[p=0.01, l=12.69]', '\"??\"[p=0.01, l=12.69]', '\" Tennis\"[p=0.01, l=12.38]', '\"?\\n\\n\"[p=0.01, l=12.38]', '\" professional\"[p=0.01, l=12.25]', '\" \\n\"[p=0.00, l=12.06]', '\" politician\"[p=0.00, l=11.94]', '\" Dj\"[p=0.00, l=11.88]', '\" \"[p=0.00, l=11.88]', '\" what\"[p=0.00, l=11.69]']\n",
      "======================================================================================================================================================\n",
      "\n",
      "layer='model.layers.6'\n",
      "\n",
      "\"Ans:\" | cur_rng=(-2, 0)\n",
      "token_idx=-2 [\"Ans\"] => ['\"?\\n\"[p=0.09, l=11.44]', '\"??\"[p=0.04, l=10.50]', '\" student\"[p=0.04, l=10.50]', '\"?\\n\\n\"[p=0.03, l=10.38]', '\" programmer\"[p=0.03, l=10.25]', '\" software\"[p=0.02, l=10.06]', '\"?\"[p=0.02, l=10.06]', '\" entrepreneur\"[p=0.02, l=9.88]', '\" artist\"[p=0.02, l=9.75]', '\"???\"[p=0.02, l=9.69]', '\" unknown\"[p=0.02, l=9.62]', '\" computer\"[p=0.01, l=9.50]', '\" engineer\"[p=0.01, l=9.44]', '\" data\"[p=0.01, l=9.44]', '\" scientist\"[p=0.01, l=9.19]']\n",
      "token_idx=-1 [\":\"] => ['\"?\\n\"[p=0.29, l=14.75]', '\"?\\n\\n\"[p=0.16, l=14.19]', '\"??\"[p=0.06, l=13.25]', '\"?\"[p=0.05, l=13.06]', '\"???\"[p=0.02, l=12.25]', '\" \\n\"[p=0.02, l=11.88]', '\" lawyer\"[p=0.02, l=11.88]', '\" software\"[p=0.01, l=11.75]', '\" politician\"[p=0.01, l=11.69]', '\" profession\"[p=0.01, l=11.62]', '\" artist\"[p=0.01, l=11.50]', '\" programmer\"[p=0.01, l=11.44]', '\" (\"[p=0.01, l=11.38]', '\" actor\"[p=0.01, l=11.19]', '\" computer\"[p=0.01, l=11.19]']\n",
      "\n",
      "\" Johnny Depp\" | cur_rng=(13, 16)\n",
      "token_idx=13 [\" Johnny\"] => ['\" unknown\"[p=0.08, l=12.19]', '\"?\\n\"[p=0.05, l=11.69]', '\" musician\"[p=0.04, l=11.50]', '\" actor\"[p=0.04, l=11.44]', '\" singer\"[p=0.04, l=11.38]', '\"?\"[p=0.03, l=11.12]', '\" no\"[p=0.03, l=11.00]', '\"??\"[p=0.03, l=11.00]', '\"???\"[p=0.02, l=10.75]', '\" (\"[p=0.02, l=10.62]', '\" Johnny\"[p=0.01, l=10.19]', '\" student\"[p=0.01, l=10.12]', '\" artist\"[p=0.01, l=10.12]', '\" football\"[p=0.01, l=9.88]', '\" farmer\"[p=0.01, l=9.81]']\n",
      "token_idx=14 [\" De\"] => ['\" actor\"[p=0.05, l=10.69]', '\" artist\"[p=0.03, l=10.25]', '\" musician\"[p=0.02, l=9.81]', '\" singer\"[p=0.02, l=9.75]', '\" student\"[p=0.02, l=9.69]', '\" football\"[p=0.02, l=9.62]', '\" programmer\"[p=0.02, l=9.56]', '\" engineer\"[p=0.02, l=9.50]', '\" unknown\"[p=0.02, l=9.50]', '\"?\\n\"[p=0.01, l=9.38]', '\"??\"[p=0.01, l=9.19]', '\" software\"[p=0.01, l=9.12]', '\" lawyer\"[p=0.01, l=9.06]', '\" architect\"[p=0.01, l=8.94]', '\" \"[p=0.01, l=8.88]']\n",
      "token_idx=15 [\"pp\"] => ['\" actor\"[p=0.96, l=19.50]', '\" Actor\"[p=0.01, l=14.81]', '\" Johnny\"[p=0.01, l=14.31]', '\" movie\"[p=0.00, l=14.19]', '\" film\"[p=0.00, l=13.69]', '\" (\"[p=0.00, l=12.50]', '\" \"[p=0.00, l=12.44]', '\" actress\"[p=0.00, l=12.12]', '\" musician\"[p=0.00, l=11.94]', '\" artist\"[p=0.00, l=11.88]', '\" actors\"[p=0.00, l=11.69]', '\" entrepreneur\"[p=0.00, l=11.50]', '\" singer\"[p=0.00, l=11.38]', '\" Movie\"[p=0.00, l=11.38]', '\"actor\"[p=0.00, l=11.31]']\n",
      "\n",
      "\" Marc Jacobs\" | cur_rng=(19, 21)\n",
      "token_idx=19 [\" Marc\"] => ['\"?\\n\"[p=0.11, l=12.69]', '\" unknown\"[p=0.06, l=12.06]', '\"?\"[p=0.05, l=11.88]', '\"?\\n\\n\"[p=0.05, l=11.81]', '\"??\"[p=0.04, l=11.56]', '\"???\"[p=0.03, l=11.38]', '\" programmer\"[p=0.02, l=11.00]', '\" actor\"[p=0.02, l=10.94]', '\" artist\"[p=0.02, l=10.88]', '\" software\"[p=0.02, l=10.75]', '\" entrepreneur\"[p=0.02, l=10.75]', '\" engineer\"[p=0.01, l=10.69]', '\" musician\"[p=0.01, l=10.56]', '\" football\"[p=0.01, l=10.50]', '\" no\"[p=0.01, l=10.50]']\n",
      "token_idx=20 [\" Jacobs\"] => ['\" fashion\"[p=0.91, l=21.38]', '\" designer\"[p=0.07, l=18.88]', '\" Fashion\"[p=0.00, l=15.38]', '\" artist\"[p=0.00, l=14.69]', '\" entrepreneur\"[p=0.00, l=14.38]', '\" \"[p=0.00, l=14.19]', '\" model\"[p=0.00, l=14.06]', '\" clothing\"[p=0.00, l=13.88]', '\" (\"[p=0.00, l=13.56]', '\" Designer\"[p=0.00, l=13.50]', '\" actor\"[p=0.00, l=13.25]', '\" photographer\"[p=0.00, l=13.25]', '\" businessman\"[p=0.00, l=13.06]', '\"f\"[p=0.00, l=13.00]', '\" stylist\"[p=0.00, l=12.88]']\n",
      "\n",
      "\" Jennifer Lawrence\" | cur_rng=(22, 24)\n",
      "token_idx=22 [\" Jennifer\"] => ['\" actress\"[p=0.16, l=13.81]', '\" singer\"[p=0.13, l=13.62]', '\" unknown\"[p=0.07, l=12.94]', '\"?\\n\"[p=0.06, l=12.81]', '\"?\"[p=0.03, l=12.19]', '\" lawyer\"[p=0.03, l=12.12]', '\"??\"[p=0.02, l=11.94]', '\" actor\"[p=0.02, l=11.88]', '\" no\"[p=0.02, l=11.81]', '\" teacher\"[p=0.02, l=11.81]', '\" artist\"[p=0.02, l=11.62]', '\"???\"[p=0.02, l=11.56]', '\" (\"[p=0.01, l=11.38]', '\" not\"[p=0.01, l=11.12]', '\"?\\n\\n\"[p=0.01, l=11.00]']\n",
      "token_idx=23 [\" Lawrence\"] => ['\" actress\"[p=0.95, l=22.00]', '\" actor\"[p=0.04, l=18.88]', '\" movie\"[p=0.00, l=16.62]', '\" Actress\"[p=0.00, l=15.69]', '\" film\"[p=0.00, l=15.31]', '\" \"[p=0.00, l=14.06]', '\" Hollywood\"[p=0.00, l=14.00]', '\" singer\"[p=0.00, l=13.94]', '\" act\"[p=0.00, l=13.81]', '\" Jennifer\"[p=0.00, l=13.75]', '\" artist\"[p=0.00, l=13.44]', '\" (\"[p=0.00, l=13.25]', '\" actresses\"[p=0.00, l=12.94]', '\" model\"[p=0.00, l=12.94]', '\" celebrity\"[p=0.00, l=12.81]']\n",
      "\n",
      "\" Giannis Antetokounmpo\" | cur_rng=(25, 33)\n",
      "token_idx=25 [\" Gi\"] => ['\"?\\n\"[p=0.08, l=11.06]', '\"??\"[p=0.03, l=10.00]', '\"?\"[p=0.02, l=9.94]', '\" singer\"[p=0.02, l=9.69]', '\" football\"[p=0.02, l=9.69]', '\" artist\"[p=0.02, l=9.62]', '\" soccer\"[p=0.02, l=9.56]', '\" musician\"[p=0.02, l=9.44]', '\"???\"[p=0.01, l=9.25]', '\" architect\"[p=0.01, l=9.12]', '\" actor\"[p=0.01, l=9.12]', '\"?\\n\\n\"[p=0.01, l=9.00]', '\" \\n\"[p=0.01, l=8.94]', '\" entrepreneur\"[p=0.01, l=8.88]', '\" \"[p=0.01, l=8.88]']\n",
      "token_idx=26 [\"annis\"] => ['\" basketball\"[p=0.55, l=15.81]', '\" unknown\"[p=0.04, l=13.31]', '\" football\"[p=0.03, l=12.88]', '\" ancient\"[p=0.03, l=12.88]', '\" soccer\"[p=0.02, l=12.62]', '\" (\"[p=0.02, l=12.62]', '\"?\\n\"[p=0.02, l=12.31]', '\" musician\"[p=0.01, l=12.00]', '\" politician\"[p=0.01, l=11.94]', '\"??\"[p=0.01, l=11.94]', '\" professional\"[p=0.01, l=11.75]', '\" Greek\"[p=0.01, l=11.62]', '\"?\"[p=0.01, l=11.50]', '\" athlete\"[p=0.01, l=11.38]', '\"?\\n\\n\"[p=0.01, l=11.19]']\n",
      "token_idx=27 [\" Ant\"] => ['\" insect\"[p=0.11, l=13.31]', '\" ant\"[p=0.09, l=13.06]', '\" ent\"[p=0.06, l=12.75]', '\" worker\"[p=0.06, l=12.62]', '\" soldier\"[p=0.05, l=12.50]', '\" farmer\"[p=0.03, l=12.06]', '\"??\"[p=0.03, l=12.00]', '\" software\"[p=0.02, l=11.62]', '\"?\\n\"[p=0.02, l=11.50]', '\" unknown\"[p=0.01, l=11.06]', '\" architect\"[p=0.01, l=11.00]', '\" engineer\"[p=0.01, l=10.94]', '\" labor\"[p=0.01, l=10.88]', '\" tiny\"[p=0.01, l=10.75]', '\"?\"[p=0.01, l=10.69]']\n",
      "token_idx=28 [\"et\"] => ['\"?\\n\"[p=0.10, l=11.31]', '\"??\"[p=0.07, l=11.00]', '\"?\"[p=0.06, l=10.75]', '\"?\\n\\n\"[p=0.04, l=10.31]', '\" unknown\"[p=0.04, l=10.31]', '\"???\"[p=0.03, l=10.19]', '\" no\"[p=0.02, l=9.50]', '\" not\"[p=0.01, l=9.38]', '\" (\"[p=0.01, l=9.25]', '\" artist\"[p=0.01, l=9.12]', '\" \\n\"[p=0.01, l=9.06]', '\" \"[p=0.01, l=9.00]', '\" entrepreneur\"[p=0.01, l=9.00]', '\" singer\"[p=0.01, l=8.94]', '\" musician\"[p=0.01, l=8.88]']\n",
      "token_idx=29 [\"ok\"] => ['\"??\"[p=0.04, l=10.75]', '\" unknown\"[p=0.04, l=10.75]', '\"?\\n\"[p=0.04, l=10.69]', '\" politician\"[p=0.03, l=10.38]', '\" entrepreneur\"[p=0.02, l=10.25]', '\"???\"[p=0.02, l=10.19]', '\" no\"[p=0.02, l=10.12]', '\"?\"[p=0.02, l=10.06]', '\" artist\"[p=0.02, l=10.06]', '\"?\\n\\n\"[p=0.02, l=10.00]', '\" \\n\"[p=0.01, l=9.75]', '\" not\"[p=0.01, l=9.69]', '\" musician\"[p=0.01, l=9.69]', '\" programmer\"[p=0.01, l=9.50]', '\" \"[p=0.01, l=9.50]']\n",
      "token_idx=30 [\"oun\"] => ['\" basketball\"[p=0.52, l=14.44]', '\" football\"[p=0.03, l=11.56]', '\" soccer\"[p=0.03, l=11.50]', '\" professional\"[p=0.02, l=11.12]', '\" NBA\"[p=0.02, l=11.06]', '\"?\\n\"[p=0.02, l=10.94]', '\" athlete\"[p=0.01, l=10.88]', '\" unknown\"[p=0.01, l=10.88]', '\" (\"[p=0.01, l=10.88]', '\"?\"[p=0.01, l=10.50]', '\" basket\"[p=0.01, l=10.44]', '\"??\"[p=0.01, l=10.38]', '\" Basketball\"[p=0.01, l=10.38]', '\" entrepreneur\"[p=0.01, l=10.19]', '\" \\n\"[p=0.01, l=10.06]']\n",
      "token_idx=31 [\"mp\"] => ['\" programmer\"[p=0.11, l=11.88]', '\"?\\n\"[p=0.05, l=11.06]', '\"??\"[p=0.04, l=10.94]', '\" software\"[p=0.04, l=10.88]', '\"?\"[p=0.03, l=10.38]', '\" computer\"[p=0.02, l=10.31]', '\" unknown\"[p=0.02, l=10.19]', '\"?\\n\\n\"[p=0.02, l=9.94]', '\" \\n\"[p=0.02, l=9.88]', '\" musician\"[p=0.01, l=9.81]', '\"???\"[p=0.01, l=9.75]', '\" politician\"[p=0.01, l=9.69]', '\" developer\"[p=0.01, l=9.62]', '\" mp\"[p=0.01, l=9.56]', '\" artist\"[p=0.01, l=9.50]']\n",
      "token_idx=32 [\"o\"] => ['\" basketball\"[p=0.58, l=14.62]', '\" soccer\"[p=0.08, l=12.62]', '\" football\"[p=0.02, l=11.25]', '\" Basketball\"[p=0.01, l=10.94]', '\" professional\"[p=0.01, l=10.88]', '\" \\n\"[p=0.01, l=10.69]', '\" NBA\"[p=0.01, l=10.50]', '\" (\"[p=0.01, l=10.44]', '\"??\"[p=0.01, l=10.12]', '\" athlete\"[p=0.01, l=10.06]', '\" basket\"[p=0.01, l=10.00]', '\"?\\n\"[p=0.01, l=10.00]', '\" singer\"[p=0.00, l=9.81]', '\" unknown\"[p=0.00, l=9.81]', '\" entrepreneur\"[p=0.00, l=9.81]']\n",
      "\n",
      "\" Beyoncé\" | cur_rng=(34, 36)\n",
      "token_idx=34 [\" Bey\"] => ['\" singer\"[p=0.78, l=17.12]', '\" musician\"[p=0.06, l=14.62]', '\" pop\"[p=0.03, l=13.81]', '\" music\"[p=0.01, l=13.06]', '\" Singer\"[p=0.01, l=13.00]', '\" artist\"[p=0.01, l=12.31]', '\" entert\"[p=0.00, l=11.88]', '\" performer\"[p=0.00, l=11.88]', '\" Music\"[p=0.00, l=11.81]', '\" \"[p=0.00, l=11.50]', '\"??\"[p=0.00, l=11.38]', '\" actress\"[p=0.00, l=11.38]', '\" songwriter\"[p=0.00, l=11.31]', '\" Queen\"[p=0.00, l=11.12]', '\" entrepreneur\"[p=0.00, l=11.06]']\n",
      "token_idx=35 [\"oncé\"] => ['\" singer\"[p=0.98, l=24.25]', '\" musician\"[p=0.01, l=19.88]', '\" pop\"[p=0.00, l=18.12]', '\" Singer\"[p=0.00, l=17.75]', '\" artist\"[p=0.00, l=16.88]', '\" music\"[p=0.00, l=16.88]', '\" entert\"[p=0.00, l=16.38]', '\" \"[p=0.00, l=16.12]', '\" actress\"[p=0.00, l=15.81]', '\" signer\"[p=0.00, l=15.38]', '\" performer\"[p=0.00, l=15.31]', '\" vocalist\"[p=0.00, l=15.25]', '\" Music\"[p=0.00, l=15.12]', '\" songwriter\"[p=0.00, l=15.06]', '\" singers\"[p=0.00, l=14.88]']\n",
      "\n",
      "\" Stephen King\" | cur_rng=(37, 39)\n",
      "token_idx=37 [\" Stephen\"] => ['\"?\\n\"[p=0.10, l=13.25]', '\" philosopher\"[p=0.07, l=12.81]', '\"?\"[p=0.06, l=12.69]', '\" unknown\"[p=0.05, l=12.62]', '\" actor\"[p=0.05, l=12.56]', '\" king\"[p=0.04, l=12.44]', '\" author\"[p=0.04, l=12.25]', '\" writer\"[p=0.03, l=12.12]', '\"??\"[p=0.03, l=12.06]', '\" King\"[p=0.02, l=11.81]', '\" no\"[p=0.02, l=11.56]', '\"???\"[p=0.02, l=11.44]', '\"?\\n\\n\"[p=0.01, l=11.31]', '\" Stephen\"[p=0.01, l=11.19]', '\" (\"[p=0.01, l=11.00]']\n",
      "token_idx=38 [\" King\"] => ['\" author\"[p=0.46, l=23.12]', '\" writer\"[p=0.36, l=22.88]', '\" novelist\"[p=0.17, l=22.12]', '\" Author\"[p=0.00, l=17.00]', '\" Writer\"[p=0.00, l=16.50]', '\" horror\"[p=0.00, l=16.38]', '\" fiction\"[p=0.00, l=15.88]', '\" novel\"[p=0.00, l=15.88]', '\" \"[p=0.00, l=15.81]', '\" Nov\"[p=0.00, l=15.44]', '\" (\"[p=0.00, l=15.38]', '\"author\"[p=0.00, l=15.19]', '\"writer\"[p=0.00, l=15.19]', '\" write\"[p=0.00, l=14.69]', '\" actor\"[p=0.00, l=14.38]']\n",
      "\n",
      "\" Novak Djokovic\" | cur_rng=(40, 45)\n",
      "token_idx=40 [\" Nov\"] => ['\"?\\n\"[p=0.10, l=11.50]', '\"?\"[p=0.05, l=10.88]', '\"??\"[p=0.04, l=10.69]', '\" unknown\"[p=0.03, l=10.44]', '\"?\\n\\n\"[p=0.03, l=10.31]', '\" artist\"[p=0.02, l=10.06]', '\" not\"[p=0.02, l=9.88]', '\" programmer\"[p=0.02, l=9.81]', '\" no\"[p=0.02, l=9.69]', '\" musician\"[p=0.02, l=9.62]', '\"???\"[p=0.01, l=9.56]', '\" what\"[p=0.01, l=9.38]', '\" writer\"[p=0.01, l=9.31]', '\" Not\"[p=0.01, l=9.19]', '\" \"[p=0.01, l=9.19]']\n",
      "token_idx=41 [\"ak\"] => ['\" tennis\"[p=0.39, l=15.06]', '\"?\"[p=0.06, l=13.12]', '\"?\\n\"[p=0.05, l=12.94]', '\" musician\"[p=0.04, l=12.75]', '\" politician\"[p=0.03, l=12.62]', '\" (\"[p=0.02, l=11.88]', '\" Dj\"[p=0.02, l=11.88]', '\"??\"[p=0.02, l=11.81]', '\" unknown\"[p=0.01, l=11.62]', '\" football\"[p=0.01, l=11.50]', '\" actor\"[p=0.01, l=11.50]', '\"???\"[p=0.01, l=11.44]', '\" athlete\"[p=0.01, l=11.31]', '\"?\\n\\n\"[p=0.01, l=11.31]', '\" dj\"[p=0.01, l=11.25]']\n",
      "token_idx=42 [\" Dj\"] => ['\" musician\"[p=0.20, l=15.06]', '\" DJ\"[p=0.15, l=14.81]', '\" disc\"[p=0.15, l=14.81]', '\" dj\"[p=0.07, l=14.00]', '\" music\"[p=0.06, l=13.94]', '\" disk\"[p=0.06, l=13.88]', '\" Disc\"[p=0.04, l=13.50]', '\" singer\"[p=0.03, l=13.19]', '\" Dj\"[p=0.02, l=12.75]', '\" electronic\"[p=0.01, l=11.94]', '\" de\"[p=0.01, l=11.94]', '\" artist\"[p=0.01, l=11.81]', '\" Music\"[p=0.01, l=11.81]', '\" Disk\"[p=0.01, l=11.62]', '\" producer\"[p=0.00, l=11.38]']\n",
      "token_idx=43 [\"ok\"] => ['\" tennis\"[p=0.22, l=12.88]', '\" musician\"[p=0.04, l=11.06]', '\"?\\n\"[p=0.02, l=10.69]', '\"??\"[p=0.02, l=10.69]', '\" football\"[p=0.02, l=10.56]', '\"?\"[p=0.02, l=10.50]', '\" soccer\"[p=0.02, l=10.31]', '\" politician\"[p=0.01, l=10.19]', '\"???\"[p=0.01, l=10.12]', '\" unknown\"[p=0.01, l=10.12]', '\" \\n\"[p=0.01, l=10.06]', '\" singer\"[p=0.01, l=9.94]', '\" programmer\"[p=0.01, l=9.88]', '\" dj\"[p=0.01, l=9.88]', '\" no\"[p=0.01, l=9.75]']\n",
      "token_idx=44 [\"ovic\"] => ['\" tennis\"[p=0.89, l=18.00]', '\" Nov\"[p=0.02, l=14.00]', '\" Tennis\"[p=0.01, l=12.88]', '\" professional\"[p=0.01, l=12.88]', '\"?\\n\"[p=0.00, l=12.81]', '\"?\"[p=0.00, l=12.75]', '\" (\"[p=0.00, l=12.56]', '\" athlete\"[p=0.00, l=12.50]', '\"??\"[p=0.00, l=12.31]', '\" Dj\"[p=0.00, l=12.25]', '\" \\n\"[p=0.00, l=12.25]', '\" \"[p=0.00, l=12.06]', '\" no\"[p=0.00, l=11.94]', '\" basketball\"[p=0.00, l=11.69]', '\" musician\"[p=0.00, l=11.62]']\n",
      "======================================================================================================================================================\n",
      "\n",
      "layer='model.layers.9'\n",
      "\n",
      "\"Ans:\" | cur_rng=(-2, 0)\n",
      "token_idx=-2 [\"Ans\"] => ['\"?\\n\"[p=0.10, l=11.81]', '\"??\"[p=0.05, l=11.12]', '\"?\\n\\n\"[p=0.04, l=10.88]', '\" student\"[p=0.03, l=10.75]', '\" programmer\"[p=0.03, l=10.69]', '\"?\"[p=0.03, l=10.50]', '\" software\"[p=0.02, l=10.31]', '\"???\"[p=0.02, l=10.31]', '\" unknown\"[p=0.02, l=10.19]', '\" artist\"[p=0.02, l=10.12]', '\" entrepreneur\"[p=0.02, l=10.00]', '\" computer\"[p=0.01, l=9.81]', '\" engineer\"[p=0.01, l=9.69]', '\" data\"[p=0.01, l=9.56]', '\" (\"[p=0.01, l=9.56]']\n",
      "token_idx=-1 [\":\"] => ['\"?\\n\"[p=0.34, l=14.75]', '\"?\\n\\n\"[p=0.21, l=14.25]', '\"?\"[p=0.08, l=13.31]', '\"??\"[p=0.04, l=12.50]', '\" \\n\"[p=0.02, l=11.94]', '\" lawyer\"[p=0.01, l=11.38]', '\" software\"[p=0.01, l=11.38]', '\"???\"[p=0.01, l=11.31]', '\"\\n\\n\"[p=0.01, l=11.06]', '\" artist\"[p=0.01, l=10.94]', '\" politician\"[p=0.01, l=10.94]', '\" (\"[p=0.01, l=10.75]', '\" \\n\\n\"[p=0.01, l=10.69]', '\" :\"[p=0.01, l=10.69]', '\" astronaut\"[p=0.01, l=10.69]']\n",
      "\n",
      "\" Johnny Depp\" | cur_rng=(13, 16)\n",
      "token_idx=13 [\" Johnny\"] => ['\" unknown\"[p=0.09, l=12.44]', '\"?\\n\"[p=0.08, l=12.31]', '\"?\"[p=0.05, l=11.81]', '\" actor\"[p=0.05, l=11.81]', '\" musician\"[p=0.04, l=11.75]', '\" singer\"[p=0.04, l=11.62]', '\"??\"[p=0.04, l=11.56]', '\"???\"[p=0.03, l=11.25]', '\"?\\n\\n\"[p=0.02, l=11.00]', '\" no\"[p=0.02, l=10.88]', '\" student\"[p=0.02, l=10.81]', '\" (\"[p=0.02, l=10.81]', '\" artist\"[p=0.01, l=10.38]', '\" Johnny\"[p=0.01, l=10.12]', '\" rock\"[p=0.01, l=10.12]']\n",
      "token_idx=14 [\" De\"] => ['\" actor\"[p=0.10, l=11.12]', '\" artist\"[p=0.03, l=10.00]', '\" singer\"[p=0.03, l=9.94]', '\" musician\"[p=0.03, l=9.88]', '\" unknown\"[p=0.02, l=9.31]', '\" football\"[p=0.01, l=9.06]', '\" student\"[p=0.01, l=9.06]', '\" engineer\"[p=0.01, l=8.94]', '\"?\\n\"[p=0.01, l=8.94]', '\" programmer\"[p=0.01, l=8.88]', '\" lawyer\"[p=0.01, l=8.88]', '\"??\"[p=0.01, l=8.81]', '\" architect\"[p=0.01, l=8.69]', '\" actress\"[p=0.01, l=8.62]', '\" \"[p=0.01, l=8.62]']\n",
      "token_idx=15 [\"pp\"] => ['\" actor\"[p=0.94, l=18.88]', '\" Johnny\"[p=0.02, l=15.12]', '\" Actor\"[p=0.01, l=14.25]', '\" movie\"[p=0.00, l=13.56]', '\" film\"[p=0.00, l=13.00]', '\" (\"[p=0.00, l=12.69]', '\" \"[p=0.00, l=12.00]', '\" musician\"[p=0.00, l=11.19]', '\" artist\"[p=0.00, l=11.12]', '\" actress\"[p=0.00, l=11.06]', '\" John\"[p=0.00, l=11.06]', '\" \\n\"[p=0.00, l=10.88]', '\" Movie\"[p=0.00, l=10.88]', '\" no\"[p=0.00, l=10.88]', '\" not\"[p=0.00, l=10.81]']\n",
      "\n",
      "\" Marc Jacobs\" | cur_rng=(19, 21)\n",
      "token_idx=19 [\" Marc\"] => ['\"?\\n\"[p=0.11, l=12.75]', '\" unknown\"[p=0.05, l=12.00]', '\"?\"[p=0.05, l=11.88]', '\"?\\n\\n\"[p=0.04, l=11.81]', '\"??\"[p=0.04, l=11.69]', '\"???\"[p=0.03, l=11.50]', '\" programmer\"[p=0.02, l=11.19]', '\" artist\"[p=0.02, l=11.00]', '\" actor\"[p=0.02, l=11.00]', '\" software\"[p=0.02, l=11.00]', '\" engineer\"[p=0.02, l=10.75]', '\" entrepreneur\"[p=0.01, l=10.69]', '\" musician\"[p=0.01, l=10.56]', '\" no\"[p=0.01, l=10.56]', '\" student\"[p=0.01, l=10.50]']\n",
      "token_idx=20 [\" Jacobs\"] => ['\" fashion\"[p=0.86, l=19.88]', '\" designer\"[p=0.10, l=17.75]', '\" Fashion\"[p=0.00, l=14.56]', '\" artist\"[p=0.00, l=14.00]', '\" entrepreneur\"[p=0.00, l=13.81]', '\" model\"[p=0.00, l=13.62]', '\" \"[p=0.00, l=13.25]', '\" Designer\"[p=0.00, l=13.00]', '\" (\"[p=0.00, l=13.00]', '\" clothing\"[p=0.00, l=12.69]', '\" actor\"[p=0.00, l=12.56]', '\" photographer\"[p=0.00, l=12.56]', '\" businessman\"[p=0.00, l=12.56]', '\" football\"[p=0.00, l=12.50]', '\" architect\"[p=0.00, l=12.25]']\n",
      "\n",
      "\" Jennifer Lawrence\" | cur_rng=(22, 24)\n",
      "token_idx=22 [\" Jennifer\"] => ['\" actress\"[p=0.15, l=13.62]', '\" singer\"[p=0.10, l=13.19]', '\" unknown\"[p=0.08, l=13.00]', '\"?\\n\"[p=0.07, l=12.88]', '\"?\"[p=0.04, l=12.38]', '\"??\"[p=0.03, l=12.12]', '\" no\"[p=0.03, l=11.81]', '\" lawyer\"[p=0.02, l=11.75]', '\" actor\"[p=0.02, l=11.75]', '\"???\"[p=0.02, l=11.56]', '\" teacher\"[p=0.02, l=11.44]', '\"?\\n\\n\"[p=0.02, l=11.38]', '\" (\"[p=0.02, l=11.31]', '\" artist\"[p=0.01, l=11.25]', '\" not\"[p=0.01, l=11.00]']\n",
      "token_idx=23 [\" Lawrence\"] => ['\" actress\"[p=0.87, l=17.75]', '\" actor\"[p=0.06, l=15.06]', '\" singer\"[p=0.01, l=12.75]', '\" movie\"[p=0.00, l=12.44]', '\" Actress\"[p=0.00, l=12.38]', '\" (\"[p=0.00, l=12.00]', '\" unknown\"[p=0.00, l=11.81]', '\" Jennifer\"[p=0.00, l=11.56]', '\" artist\"[p=0.00, l=11.44]', '\"??\"[p=0.00, l=11.44]', '\" \"[p=0.00, l=11.06]', '\" no\"[p=0.00, l=10.88]', '\"?\\n\"[p=0.00, l=10.81]', '\" film\"[p=0.00, l=10.81]', '\" tennis\"[p=0.00, l=10.75]']\n",
      "\n",
      "\" Giannis Antetokounmpo\" | cur_rng=(25, 33)\n",
      "token_idx=25 [\" Gi\"] => ['\"?\\n\"[p=0.04, l=10.56]', '\" martial\"[p=0.02, l=10.00]', '\" musician\"[p=0.02, l=10.00]', '\" singer\"[p=0.02, l=10.00]', '\" artist\"[p=0.02, l=9.94]', '\"??\"[p=0.02, l=9.81]', '\" football\"[p=0.02, l=9.69]', '\" soccer\"[p=0.02, l=9.62]', '\"?\"[p=0.01, l=9.38]', '\" actor\"[p=0.01, l=9.19]', '\" gymn\"[p=0.01, l=9.12]', '\" entrepreneur\"[p=0.01, l=9.06]', '\" politician\"[p=0.01, l=9.00]', '\" architect\"[p=0.01, l=9.00]', '\" model\"[p=0.01, l=8.88]']\n",
      "token_idx=26 [\"annis\"] => ['\" basketball\"[p=0.27, l=14.44]', '\" unknown\"[p=0.09, l=13.38]', '\" ancient\"[p=0.05, l=12.75]', '\" football\"[p=0.03, l=12.38]', '\"?\\n\"[p=0.03, l=12.25]', '\" politician\"[p=0.03, l=12.12]', '\"??\"[p=0.02, l=11.75]', '\" soccer\"[p=0.02, l=11.75]', '\" (\"[p=0.02, l=11.69]', '\"?\"[p=0.02, l=11.62]', '\" Greek\"[p=0.01, l=11.50]', '\" musician\"[p=0.01, l=11.44]', '\" philosopher\"[p=0.01, l=11.31]', '\" athlete\"[p=0.01, l=11.31]', '\"?\\n\\n\"[p=0.01, l=11.06]']\n",
      "token_idx=27 [\" Ant\"] => ['\" insect\"[p=0.11, l=13.19]', '\" ant\"[p=0.08, l=12.81]', '\" soldier\"[p=0.05, l=12.44]', '\" farmer\"[p=0.05, l=12.31]', '\" worker\"[p=0.04, l=12.25]', '\" ent\"[p=0.04, l=12.12]', '\"??\"[p=0.03, l=12.00]', '\"?\\n\"[p=0.03, l=11.75]', '\" unknown\"[p=0.02, l=11.44]', '\" software\"[p=0.02, l=11.31]', '\" engineer\"[p=0.01, l=10.88]', '\"?\"[p=0.01, l=10.81]', '\" architect\"[p=0.01, l=10.75]', '\" labor\"[p=0.01, l=10.62]', '\" (\"[p=0.01, l=10.62]']\n",
      "token_idx=28 [\"et\"] => ['\"?\\n\"[p=0.10, l=11.69]', '\"??\"[p=0.07, l=11.38]', '\" unknown\"[p=0.06, l=11.12]', '\"?\"[p=0.05, l=11.00]', '\"?\\n\\n\"[p=0.04, l=10.75]', '\"???\"[p=0.04, l=10.69]', '\" no\"[p=0.02, l=10.06]', '\" artist\"[p=0.02, l=9.81]', '\" not\"[p=0.01, l=9.75]', '\" (\"[p=0.01, l=9.62]', '\" programmer\"[p=0.01, l=9.56]', '\" \"[p=0.01, l=9.31]', '\" entrepreneur\"[p=0.01, l=9.31]', '\" singer\"[p=0.01, l=9.25]', '\" software\"[p=0.01, l=9.25]']\n",
      "token_idx=29 [\"ok\"] => ['\"??\"[p=0.05, l=11.06]', '\"?\\n\"[p=0.05, l=11.06]', '\" unknown\"[p=0.05, l=11.06]', '\"???\"[p=0.03, l=10.62]', '\"?\\n\\n\"[p=0.03, l=10.44]', '\"?\"[p=0.03, l=10.44]', '\" no\"[p=0.02, l=10.12]', '\" entrepreneur\"[p=0.02, l=10.12]', '\" artist\"[p=0.02, l=10.12]', '\" politician\"[p=0.02, l=10.06]', '\" programmer\"[p=0.01, l=9.81]', '\" software\"[p=0.01, l=9.69]', '\" not\"[p=0.01, l=9.69]', '\" musician\"[p=0.01, l=9.56]', '\" \"[p=0.01, l=9.50]']\n",
      "token_idx=30 [\"oun\"] => ['\" basketball\"[p=0.52, l=14.50]', '\"?\\n\"[p=0.02, l=11.44]', '\" soccer\"[p=0.02, l=11.38]', '\" NBA\"[p=0.02, l=11.19]', '\" football\"[p=0.02, l=11.19]', '\"?\"[p=0.02, l=11.00]', '\" (\"[p=0.02, l=11.00]', '\" unknown\"[p=0.01, l=10.94]', '\"??\"[p=0.01, l=10.88]', '\" professional\"[p=0.01, l=10.88]', '\" athlete\"[p=0.01, l=10.75]', '\" Basketball\"[p=0.01, l=10.62]', '\" basket\"[p=0.01, l=10.25]', '\" \\n\"[p=0.01, l=10.19]', '\" what\"[p=0.01, l=10.12]']\n",
      "token_idx=31 [\"mp\"] => ['\"?\\n\"[p=0.08, l=11.50]', '\"??\"[p=0.04, l=10.81]', '\"?\"[p=0.04, l=10.69]', '\" politician\"[p=0.03, l=10.44]', '\" \\n\"[p=0.03, l=10.31]', '\"?\\n\\n\"[p=0.02, l=10.25]', '\" mp\"[p=0.02, l=10.19]', '\" lawyer\"[p=0.02, l=10.12]', '\" entrepreneur\"[p=0.02, l=10.00]', '\" person\"[p=0.02, l=9.94]', '\" artist\"[p=0.02, l=9.94]', '\" profession\"[p=0.02, l=9.88]', '\"???\"[p=0.02, l=9.88]', '\" singer\"[p=0.01, l=9.75]', '\" actor\"[p=0.01, l=9.75]']\n",
      "token_idx=32 [\"o\"] => ['\" basketball\"[p=0.31, l=13.56]', '\" soccer\"[p=0.14, l=12.75]', '\" football\"[p=0.07, l=12.00]', '\" unknown\"[p=0.02, l=10.88]', '\"?\\n\"[p=0.02, l=10.69]', '\"??\"[p=0.02, l=10.62]', '\" athlete\"[p=0.01, l=10.44]', '\" (\"[p=0.01, l=10.38]', '\" \\n\"[p=0.01, l=10.31]', '\" professional\"[p=0.01, l=10.31]', '\" singer\"[p=0.01, l=10.06]', '\"?\"[p=0.01, l=10.06]', '\" entrepreneur\"[p=0.01, l=10.00]', '\" musician\"[p=0.01, l=9.94]', '\" no\"[p=0.01, l=9.88]']\n",
      "\n",
      "\" Beyoncé\" | cur_rng=(34, 36)\n",
      "token_idx=34 [\" Bey\"] => ['\" singer\"[p=0.75, l=17.12]', '\" musician\"[p=0.09, l=15.00]', '\" pop\"[p=0.03, l=13.81]', '\" music\"[p=0.01, l=13.19]', '\" Singer\"[p=0.01, l=13.06]', '\" artist\"[p=0.01, l=12.62]', '\" Music\"[p=0.00, l=12.00]', '\" entert\"[p=0.00, l=11.81]', '\" performer\"[p=0.00, l=11.75]', '\" \"[p=0.00, l=11.50]', '\" actress\"[p=0.00, l=11.50]', '\" songwriter\"[p=0.00, l=11.25]', '\" entrepreneur\"[p=0.00, l=11.12]', '\"??\"[p=0.00, l=11.06]', '\" celebrity\"[p=0.00, l=11.00]']\n",
      "token_idx=35 [\"oncé\"] => ['\" singer\"[p=0.98, l=24.12]', '\" musician\"[p=0.02, l=20.00]', '\" pop\"[p=0.00, l=18.12]', '\" Singer\"[p=0.00, l=17.62]', '\" music\"[p=0.00, l=16.88]', '\" entert\"[p=0.00, l=16.62]', '\" artist\"[p=0.00, l=16.62]', '\" \"[p=0.00, l=16.00]', '\" performer\"[p=0.00, l=15.44]', '\" Music\"[p=0.00, l=15.38]', '\" vocalist\"[p=0.00, l=15.31]', '\" actress\"[p=0.00, l=15.31]', '\" signer\"[p=0.00, l=15.19]', '\" songwriter\"[p=0.00, l=14.94]', '\" singers\"[p=0.00, l=14.81]']\n",
      "\n",
      "\" Stephen King\" | cur_rng=(37, 39)\n",
      "token_idx=37 [\" Stephen\"] => ['\"?\\n\"[p=0.13, l=13.50]', '\"?\"[p=0.07, l=12.94]', '\" actor\"[p=0.06, l=12.81]', '\" unknown\"[p=0.06, l=12.75]', '\"??\"[p=0.04, l=12.25]', '\" philosopher\"[p=0.03, l=12.12]', '\" author\"[p=0.03, l=11.94]', '\"???\"[p=0.02, l=11.81]', '\" king\"[p=0.02, l=11.81]', '\" King\"[p=0.02, l=11.81]', '\" writer\"[p=0.02, l=11.75]', '\"?\\n\\n\"[p=0.02, l=11.75]', '\" no\"[p=0.02, l=11.69]', '\" Stephen\"[p=0.01, l=11.31]', '\" programmer\"[p=0.01, l=11.25]']\n",
      "token_idx=38 [\" King\"] => ['\" writer\"[p=0.49, l=20.00]', '\" author\"[p=0.38, l=19.75]', '\" novelist\"[p=0.11, l=18.50]', '\" Author\"[p=0.00, l=15.25]', '\" Writer\"[p=0.00, l=15.06]', '\" (\"[p=0.00, l=14.38]', '\" Stephen\"[p=0.00, l=14.19]', '\" \"[p=0.00, l=13.81]', '\" horror\"[p=0.00, l=13.75]', '\" fiction\"[p=0.00, l=13.19]', '\" Nov\"[p=0.00, l=13.12]', '\" actor\"[p=0.00, l=12.94]', '\"writer\"[p=0.00, l=12.81]', '\" write\"[p=0.00, l=12.81]', '\"author\"[p=0.00, l=12.69]']\n",
      "\n",
      "\" Novak Djokovic\" | cur_rng=(40, 45)\n",
      "token_idx=40 [\" Nov\"] => ['\"?\\n\"[p=0.15, l=12.12]', '\"?\"[p=0.08, l=11.50]', '\"??\"[p=0.07, l=11.31]', '\"?\\n\\n\"[p=0.06, l=11.12]', '\" unknown\"[p=0.03, l=10.38]', '\"???\"[p=0.02, l=10.31]', '\" artist\"[p=0.02, l=10.06]', '\" programmer\"[p=0.02, l=10.00]', '\" what\"[p=0.01, l=9.75]', '\" musician\"[p=0.01, l=9.75]', '\" entrepreneur\"[p=0.01, l=9.62]', '\" None\"[p=0.01, l=9.44]', '\" not\"[p=0.01, l=9.31]', '\" \"[p=0.01, l=9.31]', '\" singer\"[p=0.01, l=9.19]']\n",
      "token_idx=41 [\"ak\"] => ['\" tennis\"[p=0.37, l=14.75]', '\" musician\"[p=0.05, l=12.75]', '\"?\"[p=0.04, l=12.62]', '\"?\\n\"[p=0.04, l=12.56]', '\" politician\"[p=0.04, l=12.50]', '\" Dj\"[p=0.02, l=11.62]', '\"??\"[p=0.02, l=11.56]', '\" (\"[p=0.02, l=11.56]', '\" football\"[p=0.02, l=11.56]', '\" athlete\"[p=0.01, l=11.50]', '\" unknown\"[p=0.01, l=11.38]', '\" actor\"[p=0.01, l=11.25]', '\"???\"[p=0.01, l=11.25]', '\" singer\"[p=0.01, l=11.00]', '\" artist\"[p=0.01, l=10.81]']\n",
      "token_idx=42 [\" Dj\"] => ['\" DJ\"[p=0.18, l=14.12]', '\" disc\"[p=0.15, l=13.94]', '\" dj\"[p=0.11, l=13.69]', '\" musician\"[p=0.08, l=13.38]', '\" disk\"[p=0.05, l=12.94]', '\" Disc\"[p=0.04, l=12.62]', '\" Dj\"[p=0.03, l=12.31]', '\" singer\"[p=0.03, l=12.25]', '\" music\"[p=0.02, l=11.94]', '\" de\"[p=0.01, l=11.50]', '\" football\"[p=0.01, l=11.00]', '\" software\"[p=0.01, l=11.00]', '\" producer\"[p=0.01, l=10.94]', '\" electronic\"[p=0.01, l=10.94]', '\" radio\"[p=0.01, l=10.88]']\n",
      "token_idx=43 [\"ok\"] => ['\" tennis\"[p=0.23, l=12.94]', '\"?\\n\"[p=0.03, l=11.00]', '\"??\"[p=0.03, l=10.94]', '\" musician\"[p=0.03, l=10.88]', '\"?\"[p=0.03, l=10.75]', '\" unknown\"[p=0.02, l=10.56]', '\"???\"[p=0.02, l=10.50]', '\" football\"[p=0.02, l=10.38]', '\" politician\"[p=0.02, l=10.25]', '\" no\"[p=0.01, l=10.00]', '\" programmer\"[p=0.01, l=10.00]', '\" athlete\"[p=0.01, l=9.94]', '\" soccer\"[p=0.01, l=9.88]', '\" actor\"[p=0.01, l=9.81]', '\" artist\"[p=0.01, l=9.81]']\n",
      "token_idx=44 [\"ovic\"] => ['\" tennis\"[p=0.87, l=18.00]', '\" Nov\"[p=0.01, l=13.75]', '\" athlete\"[p=0.01, l=13.56]', '\"?\\n\"[p=0.01, l=13.19]', '\" Tennis\"[p=0.01, l=13.12]', '\"?\"[p=0.01, l=13.12]', '\" professional\"[p=0.01, l=13.00]', '\" (\"[p=0.01, l=13.00]', '\"??\"[p=0.00, l=12.44]', '\" basketball\"[p=0.00, l=12.31]', '\" \"[p=0.00, l=12.19]', '\" \\n\"[p=0.00, l=12.00]', '\" Dj\"[p=0.00, l=11.94]', '\" no\"[p=0.00, l=11.94]', '\" unknown\"[p=0.00, l=11.75]']\n",
      "======================================================================================================================================================\n",
      "\n",
      "layer='model.layers.12'\n",
      "\n",
      "\"Ans:\" | cur_rng=(-2, 0)\n",
      "token_idx=-2 [\"Ans\"] => ['\"?\\n\"[p=0.10, l=11.75]', '\"??\"[p=0.05, l=11.12]', '\"?\\n\\n\"[p=0.04, l=10.88]', '\" student\"[p=0.03, l=10.69]', '\" programmer\"[p=0.03, l=10.50]', '\"?\"[p=0.03, l=10.38]', '\" unknown\"[p=0.02, l=10.31]', '\"???\"[p=0.02, l=10.31]', '\" artist\"[p=0.02, l=10.06]', '\" software\"[p=0.02, l=10.00]', '\" entrepreneur\"[p=0.01, l=9.56]', '\" computer\"[p=0.01, l=9.56]', '\" singer\"[p=0.01, l=9.56]', '\" engineer\"[p=0.01, l=9.44]', '\" (\"[p=0.01, l=9.38]']\n",
      "token_idx=-1 [\":\"] => ['\"?\\n\"[p=0.24, l=14.06]', '\"?\\n\\n\"[p=0.15, l=13.56]', '\"?\"[p=0.05, l=12.50]', '\"??\"[p=0.04, l=12.19]', '\" software\"[p=0.02, l=11.75]', '\" \\n\"[p=0.02, l=11.75]', '\" lawyer\"[p=0.02, l=11.69]', '\" politician\"[p=0.02, l=11.62]', '\" artist\"[p=0.02, l=11.38]', '\" actor\"[p=0.01, l=11.25]', '\" programmer\"[p=0.01, l=10.94]', '\"???\"[p=0.01, l=10.94]', '\" astronaut\"[p=0.01, l=10.88]', '\" doctor\"[p=0.01, l=10.81]', '\" computer\"[p=0.01, l=10.81]']\n",
      "\n",
      "\" Johnny Depp\" | cur_rng=(13, 16)\n",
      "token_idx=13 [\" Johnny\"] => ['\" unknown\"[p=0.08, l=12.25]', '\"?\\n\"[p=0.07, l=12.06]', '\"?\"[p=0.04, l=11.62]', '\" actor\"[p=0.04, l=11.56]', '\" musician\"[p=0.04, l=11.50]', '\"??\"[p=0.03, l=11.38]', '\" singer\"[p=0.03, l=11.38]', '\"???\"[p=0.03, l=11.19]', '\" no\"[p=0.02, l=10.88]', '\" (\"[p=0.02, l=10.75]', '\" student\"[p=0.02, l=10.69]', '\"?\\n\\n\"[p=0.01, l=10.56]', '\" Johnny\"[p=0.01, l=10.06]', '\" artist\"[p=0.01, l=10.06]', '\" rock\"[p=0.01, l=9.94]']\n",
      "token_idx=14 [\" De\"] => ['\" actor\"[p=0.27, l=12.50]', '\" musician\"[p=0.03, l=10.25]', '\" artist\"[p=0.03, l=10.25]', '\" singer\"[p=0.02, l=9.62]', '\" actress\"[p=0.01, l=9.44]', '\" chem\"[p=0.01, l=9.38]', '\" football\"[p=0.01, l=9.25]', '\" mathematic\"[p=0.01, l=9.06]', '\" engineer\"[p=0.01, l=9.00]', '\" physicist\"[p=0.01, l=8.94]', '\" architect\"[p=0.01, l=8.94]', '\" Actor\"[p=0.01, l=8.94]', '\" student\"[p=0.01, l=8.75]', '\" chef\"[p=0.01, l=8.69]', '\" unknown\"[p=0.01, l=8.69]']\n",
      "token_idx=15 [\"pp\"] => ['\" actor\"[p=0.98, l=20.62]', '\" Actor\"[p=0.01, l=15.44]', '\" movie\"[p=0.00, l=15.31]', '\" Johnny\"[p=0.00, l=14.62]', '\" film\"[p=0.00, l=14.62]', '\" \"[p=0.00, l=13.06]', '\" (\"[p=0.00, l=12.75]', '\" actors\"[p=0.00, l=12.69]', '\" actress\"[p=0.00, l=12.56]', '\" artist\"[p=0.00, l=12.25]', '\"actor\"[p=0.00, l=12.19]', '\" Movie\"[p=0.00, l=12.12]', '\" musician\"[p=0.00, l=12.12]', '\" entrepreneur\"[p=0.00, l=12.00]', '\" singer\"[p=0.00, l=11.69]']\n",
      "\n",
      "\" Marc Jacobs\" | cur_rng=(19, 21)\n",
      "token_idx=19 [\" Marc\"] => ['\"?\\n\"[p=0.12, l=12.88]', '\" unknown\"[p=0.05, l=12.06]', '\"?\"[p=0.05, l=12.00]', '\"?\\n\\n\"[p=0.05, l=11.94]', '\"??\"[p=0.05, l=11.88]', '\"???\"[p=0.03, l=11.56]', '\" programmer\"[p=0.02, l=11.19]', '\" artist\"[p=0.02, l=11.00]', '\" actor\"[p=0.02, l=11.00]', '\" software\"[p=0.02, l=11.00]', '\" engineer\"[p=0.01, l=10.75]', '\" entrepreneur\"[p=0.01, l=10.69]', '\" musician\"[p=0.01, l=10.56]', '\" student\"[p=0.01, l=10.56]', '\" no\"[p=0.01, l=10.50]']\n",
      "token_idx=20 [\" Jacobs\"] => ['\" fashion\"[p=0.94, l=21.88]', '\" designer\"[p=0.05, l=19.00]', '\" Fashion\"[p=0.00, l=15.75]', '\" artist\"[p=0.00, l=14.62]', '\" \"[p=0.00, l=14.50]', '\" model\"[p=0.00, l=14.31]', '\" clothing\"[p=0.00, l=14.06]', '\" entrepreneur\"[p=0.00, l=14.00]', '\" Designer\"[p=0.00, l=13.62]', '\"f\"[p=0.00, l=13.62]', '\" (\"[p=0.00, l=13.56]', '\" stylist\"[p=0.00, l=13.25]', '\" photographer\"[p=0.00, l=13.25]', '\" businessman\"[p=0.00, l=13.12]', '\" actor\"[p=0.00, l=13.00]']\n",
      "\n",
      "\" Jennifer Lawrence\" | cur_rng=(22, 24)\n",
      "token_idx=22 [\" Jennifer\"] => ['\" actress\"[p=0.16, l=13.69]', '\" unknown\"[p=0.10, l=13.25]', '\" singer\"[p=0.07, l=12.81]', '\"?\\n\"[p=0.06, l=12.75]', '\"?\"[p=0.04, l=12.25]', '\"??\"[p=0.03, l=12.00]', '\" lawyer\"[p=0.03, l=12.00]', '\" actor\"[p=0.03, l=11.88]', '\" no\"[p=0.02, l=11.75]', '\" teacher\"[p=0.02, l=11.69]', '\"???\"[p=0.02, l=11.56]', '\" artist\"[p=0.02, l=11.44]', '\"?\\n\\n\"[p=0.01, l=11.25]', '\" (\"[p=0.01, l=11.25]', '\" not\"[p=0.01, l=11.00]']\n",
      "token_idx=23 [\" Lawrence\"] => ['\" actress\"[p=0.94, l=22.38]', '\" actor\"[p=0.05, l=19.38]', '\" movie\"[p=0.00, l=17.00]', '\" Actress\"[p=0.00, l=15.81]', '\" film\"[p=0.00, l=15.62]', '\" singer\"[p=0.00, l=14.62]', '\" Hollywood\"[p=0.00, l=14.44]', '\" \"[p=0.00, l=14.25]', '\" act\"[p=0.00, l=14.06]', '\" model\"[p=0.00, l=13.75]', '\" artist\"[p=0.00, l=13.62]', '\" actresses\"[p=0.00, l=13.44]', '\" celebrity\"[p=0.00, l=13.25]', '\" (\"[p=0.00, l=13.12]', '\" entert\"[p=0.00, l=12.88]']\n",
      "\n",
      "\" Giannis Antetokounmpo\" | cur_rng=(25, 33)\n",
      "token_idx=25 [\" Gi\"] => ['\"?\\n\"[p=0.03, l=10.44]', '\" martial\"[p=0.02, l=10.12]', '\" musician\"[p=0.02, l=9.94]', '\" singer\"[p=0.02, l=9.94]', '\" artist\"[p=0.02, l=9.88]', '\"??\"[p=0.02, l=9.81]', '\" football\"[p=0.01, l=9.56]', '\" soccer\"[p=0.01, l=9.44]', '\"?\"[p=0.01, l=9.38]', '\" actor\"[p=0.01, l=9.19]', '\" gymn\"[p=0.01, l=9.19]', '\" ninja\"[p=0.01, l=9.06]', '\" architect\"[p=0.01, l=9.00]', '\" model\"[p=0.01, l=9.00]', '\" entrepreneur\"[p=0.01, l=9.00]']\n",
      "token_idx=26 [\"annis\"] => ['\" basketball\"[p=0.33, l=14.94]', '\" unknown\"[p=0.09, l=13.62]', '\" politician\"[p=0.04, l=12.81]', '\" ancient\"[p=0.04, l=12.81]', '\"?\\n\"[p=0.03, l=12.69]', '\" football\"[p=0.03, l=12.44]', '\"??\"[p=0.02, l=12.25]', '\" (\"[p=0.02, l=12.06]', '\"?\"[p=0.02, l=11.94]', '\" Greek\"[p=0.01, l=11.69]', '\" soccer\"[p=0.01, l=11.69]', '\" athlete\"[p=0.01, l=11.62]', '\"???\"[p=0.01, l=11.44]', '\"?\\n\\n\"[p=0.01, l=11.38]', '\" musician\"[p=0.01, l=11.25]']\n",
      "token_idx=27 [\" Ant\"] => ['\" ant\"[p=0.08, l=12.81]', '\" insect\"[p=0.06, l=12.50]', '\" soldier\"[p=0.05, l=12.38]', '\" software\"[p=0.05, l=12.31]', '\" ent\"[p=0.04, l=12.19]', '\" farmer\"[p=0.04, l=12.19]', '\"??\"[p=0.03, l=11.94]', '\" worker\"[p=0.03, l=11.94]', '\"?\\n\"[p=0.02, l=11.56]', '\" unknown\"[p=0.02, l=11.44]', '\" programmer\"[p=0.02, l=11.31]', '\" engineer\"[p=0.01, l=11.00]', '\" architect\"[p=0.01, l=10.94]', '\" carp\"[p=0.01, l=10.75]', '\"?\"[p=0.01, l=10.75]']\n",
      "token_idx=28 [\"et\"] => ['\"?\\n\"[p=0.09, l=11.50]', '\"??\"[p=0.07, l=11.31]', '\" unknown\"[p=0.05, l=11.00]', '\"?\"[p=0.05, l=10.94]', '\"???\"[p=0.04, l=10.62]', '\"?\\n\\n\"[p=0.04, l=10.62]', '\" no\"[p=0.02, l=9.88]', '\" artist\"[p=0.02, l=9.81]', '\" programmer\"[p=0.01, l=9.62]', '\" not\"[p=0.01, l=9.62]', '\" (\"[p=0.01, l=9.44]', '\" entrepreneur\"[p=0.01, l=9.38]', '\" I\"[p=0.01, l=9.31]', '\" software\"[p=0.01, l=9.25]', '\" \"[p=0.01, l=9.25]']\n",
      "token_idx=29 [\"ok\"] => ['\"?\\n\"[p=0.08, l=11.75]', '\"??\"[p=0.07, l=11.62]', '\" unknown\"[p=0.05, l=11.38]', '\"???\"[p=0.05, l=11.25]', '\"?\"[p=0.04, l=11.12]', '\"?\\n\\n\"[p=0.04, l=11.00]', '\" no\"[p=0.02, l=10.50]', '\" entrepreneur\"[p=0.02, l=10.31]', '\" artist\"[p=0.02, l=10.12]', '\" programmer\"[p=0.02, l=10.12]', '\" politician\"[p=0.01, l=9.88]', '\" not\"[p=0.01, l=9.81]', '\" astronaut\"[p=0.01, l=9.75]', '\" I\"[p=0.01, l=9.69]', '\" (\"[p=0.01, l=9.69]']\n",
      "token_idx=30 [\"oun\"] => ['\" basketball\"[p=0.41, l=14.12]', '\"?\\n\"[p=0.05, l=11.94]', '\" football\"[p=0.03, l=11.56]', '\"??\"[p=0.03, l=11.50]', '\" soccer\"[p=0.03, l=11.44]', '\"?\"[p=0.03, l=11.44]', '\" unknown\"[p=0.02, l=11.31]', '\" (\"[p=0.02, l=10.88]', '\" NBA\"[p=0.01, l=10.75]', '\"?\\n\\n\"[p=0.01, l=10.69]', '\" athlete\"[p=0.01, l=10.62]', '\" professional\"[p=0.01, l=10.50]', '\" Basketball\"[p=0.01, l=10.38]', '\" what\"[p=0.01, l=10.31]', '\" \\n\"[p=0.01, l=10.31]']\n",
      "token_idx=31 [\"mp\"] => ['\"??\"[p=0.10, l=11.56]', '\"?\\n\"[p=0.07, l=11.12]', '\"?\"[p=0.05, l=10.81]', '\"???\"[p=0.05, l=10.75]', '\"?\\n\\n\"[p=0.02, l=10.00]', '\" \\n\"[p=0.02, l=10.00]', '\" unknown\"[p=0.02, l=9.88]', '\" mp\"[p=0.02, l=9.88]', '\" politician\"[p=0.02, l=9.75]', '\" programmer\"[p=0.02, l=9.69]', '\" entrepreneur\"[p=0.02, l=9.62]', '\" musician\"[p=0.01, l=9.50]', '\" person\"[p=0.01, l=9.31]', '\" software\"[p=0.01, l=9.31]', '\" \"[p=0.01, l=9.25]']\n",
      "token_idx=32 [\"o\"] => ['\" basketball\"[p=0.20, l=13.06]', '\" soccer\"[p=0.18, l=13.00]', '\" football\"[p=0.11, l=12.50]', '\" entrepreneur\"[p=0.02, l=10.88]', '\" unknown\"[p=0.02, l=10.88]', '\" professional\"[p=0.02, l=10.56]', '\"??\"[p=0.02, l=10.50]', '\" athlete\"[p=0.01, l=10.31]', '\"?\\n\"[p=0.01, l=10.31]', '\" tennis\"[p=0.01, l=10.19]', '\" (\"[p=0.01, l=10.19]', '\" \\n\"[p=0.01, l=9.94]', '\" no\"[p=0.01, l=9.88]', '\" musician\"[p=0.01, l=9.81]', '\" politician\"[p=0.01, l=9.81]']\n",
      "\n",
      "\" Beyoncé\" | cur_rng=(34, 36)\n",
      "token_idx=34 [\" Bey\"] => ['\" singer\"[p=0.82, l=18.25]', '\" musician\"[p=0.08, l=15.94]', '\" pop\"[p=0.02, l=14.56]', '\" Singer\"[p=0.01, l=13.94]', '\" music\"[p=0.01, l=13.88]', '\" artist\"[p=0.01, l=13.56]', '\" entert\"[p=0.00, l=12.81]', '\" Music\"[p=0.00, l=12.75]', '\" performer\"[p=0.00, l=12.62]', '\" \"[p=0.00, l=12.25]', '\" actress\"[p=0.00, l=12.25]', '\" songwriter\"[p=0.00, l=11.94]', '\" celebrity\"[p=0.00, l=11.69]', '\" musical\"[p=0.00, l=11.56]', '\" entrepreneur\"[p=0.00, l=11.38]']\n",
      "token_idx=35 [\"oncé\"] => ['\" singer\"[p=0.98, l=24.00]', '\" musician\"[p=0.01, l=19.75]', '\" pop\"[p=0.00, l=18.25]', '\" Singer\"[p=0.00, l=17.62]', '\" artist\"[p=0.00, l=16.62]', '\" music\"[p=0.00, l=16.62]', '\" entert\"[p=0.00, l=16.50]', '\" \"[p=0.00, l=15.88]', '\" actress\"[p=0.00, l=15.81]', '\" vocalist\"[p=0.00, l=15.31]', '\" performer\"[p=0.00, l=15.31]', '\" Music\"[p=0.00, l=15.19]', '\" signer\"[p=0.00, l=14.94]', '\" songwriter\"[p=0.00, l=14.88]', '\" singers\"[p=0.00, l=14.62]']\n",
      "\n",
      "\" Stephen King\" | cur_rng=(37, 39)\n",
      "token_idx=37 [\" Stephen\"] => ['\"?\\n\"[p=0.12, l=13.25]', '\" unknown\"[p=0.07, l=12.75]', '\" actor\"[p=0.06, l=12.62]', '\"?\"[p=0.06, l=12.62]', '\" philosopher\"[p=0.04, l=12.06]', '\"??\"[p=0.03, l=12.00]', '\"???\"[p=0.02, l=11.69]', '\"?\\n\\n\"[p=0.02, l=11.50]', '\" no\"[p=0.02, l=11.50]', '\" king\"[p=0.02, l=11.50]', '\" programmer\"[p=0.02, l=11.38]', '\" King\"[p=0.02, l=11.38]', '\" writer\"[p=0.02, l=11.25]', '\" author\"[p=0.01, l=11.19]', '\" physicist\"[p=0.01, l=11.06]']\n",
      "token_idx=38 [\" King\"] => ['\" author\"[p=0.43, l=22.62]', '\" writer\"[p=0.38, l=22.50]', '\" novelist\"[p=0.18, l=21.75]', '\" Author\"[p=0.00, l=16.75]', '\" Writer\"[p=0.00, l=16.38]', '\" horror\"[p=0.00, l=16.12]', '\" fiction\"[p=0.00, l=15.88]', '\" novel\"[p=0.00, l=15.69]', '\" \"[p=0.00, l=15.62]', '\" Nov\"[p=0.00, l=15.25]', '\"writer\"[p=0.00, l=15.06]', '\" (\"[p=0.00, l=15.06]', '\"author\"[p=0.00, l=14.94]', '\" write\"[p=0.00, l=14.56]', '\" actor\"[p=0.00, l=13.75]']\n",
      "\n",
      "\" Novak Djokovic\" | cur_rng=(40, 45)\n",
      "token_idx=40 [\" Nov\"] => ['\"?\\n\"[p=0.14, l=11.94]', '\"?\"[p=0.07, l=11.31]', '\"??\"[p=0.07, l=11.19]', '\"?\\n\\n\"[p=0.05, l=10.94]', '\" unknown\"[p=0.03, l=10.31]', '\"???\"[p=0.02, l=10.19]', '\" artist\"[p=0.02, l=10.12]', '\" programmer\"[p=0.02, l=10.00]', '\" entrepreneur\"[p=0.01, l=9.62]', '\" musician\"[p=0.01, l=9.62]', '\" what\"[p=0.01, l=9.38]', '\" None\"[p=0.01, l=9.19]', '\" not\"[p=0.01, l=9.12]', '\" \"[p=0.01, l=9.12]', '\" singer\"[p=0.01, l=9.12]']\n",
      "token_idx=41 [\"ak\"] => ['\" tennis\"[p=0.47, l=15.19]', '\" musician\"[p=0.03, l=12.56]', '\"?\"[p=0.03, l=12.56]', '\"?\\n\"[p=0.03, l=12.44]', '\" politician\"[p=0.03, l=12.38]', '\" football\"[p=0.02, l=12.00]', '\" athlete\"[p=0.02, l=11.88]', '\" Dj\"[p=0.02, l=11.81]', '\"??\"[p=0.01, l=11.62]', '\" (\"[p=0.01, l=11.62]', '\" actor\"[p=0.01, l=11.44]', '\" unknown\"[p=0.01, l=11.31]', '\" basketball\"[p=0.01, l=11.19]', '\"???\"[p=0.01, l=11.12]', '\" singer\"[p=0.01, l=10.94]']\n",
      "token_idx=42 [\" Dj\"] => ['\" DJ\"[p=0.23, l=14.56]', '\" dj\"[p=0.17, l=14.25]', '\" disc\"[p=0.11, l=13.81]', '\" musician\"[p=0.07, l=13.44]', '\" Dj\"[p=0.04, l=12.94]', '\" disk\"[p=0.04, l=12.81]', '\" Disc\"[p=0.03, l=12.62]', '\" singer\"[p=0.02, l=12.19]', '\" music\"[p=0.02, l=11.94]', '\" de\"[p=0.01, l=11.50]', '\" radio\"[p=0.01, l=11.19]', '\" football\"[p=0.01, l=11.12]', '\" electronic\"[p=0.01, l=10.88]', '\" software\"[p=0.01, l=10.88]', '\"?\\n\"[p=0.01, l=10.88]']\n",
      "token_idx=43 [\"ok\"] => ['\" tennis\"[p=0.43, l=13.94]', '\" musician\"[p=0.02, l=11.06]', '\" football\"[p=0.02, l=10.94]', '\"?\\n\"[p=0.02, l=10.88]', '\"?\"[p=0.02, l=10.75]', '\"??\"[p=0.02, l=10.69]', '\" politician\"[p=0.01, l=10.50]', '\" athlete\"[p=0.01, l=10.44]', '\" basketball\"[p=0.01, l=10.38]', '\" soccer\"[p=0.01, l=10.19]', '\"???\"[p=0.01, l=10.19]', '\" Nov\"[p=0.01, l=10.12]', '\" actor\"[p=0.01, l=10.06]', '\" unknown\"[p=0.01, l=10.00]', '\" singer\"[p=0.01, l=9.88]']\n",
      "token_idx=44 [\"ovic\"] => ['\" tennis\"[p=0.88, l=18.00]', '\" athlete\"[p=0.01, l=13.50]', '\" Nov\"[p=0.01, l=13.50]', '\" Tennis\"[p=0.01, l=13.12]', '\" professional\"[p=0.01, l=13.00]', '\"?\\n\"[p=0.01, l=12.88]', '\"?\"[p=0.00, l=12.81]', '\" basketball\"[p=0.00, l=12.69]', '\" (\"[p=0.00, l=12.62]', '\"??\"[p=0.00, l=12.19]', '\" football\"[p=0.00, l=12.12]', '\" \"[p=0.00, l=12.06]', '\" musician\"[p=0.00, l=11.94]', '\" \\n\"[p=0.00, l=11.81]', '\" soccer\"[p=0.00, l=11.75]']\n",
      "======================================================================================================================================================\n",
      "\n",
      "layer='model.layers.15'\n",
      "\n",
      "\"Ans:\" | cur_rng=(-2, 0)\n",
      "token_idx=-2 [\"Ans\"] => ['\"?\\n\"[p=0.08, l=11.56]', '\" student\"[p=0.05, l=11.00]', '\"??\"[p=0.04, l=10.88]', '\" programmer\"[p=0.04, l=10.81]', '\"?\\n\\n\"[p=0.03, l=10.69]', '\" unknown\"[p=0.02, l=10.25]', '\"?\"[p=0.02, l=10.19]', '\" artist\"[p=0.02, l=10.19]', '\" software\"[p=0.02, l=10.12]', '\"???\"[p=0.02, l=9.94]', '\" computer\"[p=0.01, l=9.75]', '\" singer\"[p=0.01, l=9.75]', '\" entrepreneur\"[p=0.01, l=9.62]', '\" (\"[p=0.01, l=9.56]', '\" engineer\"[p=0.01, l=9.50]']\n",
      "token_idx=-1 [\":\"] => ['\"?\\n\"[p=0.11, l=12.81]', '\"?\\n\\n\"[p=0.11, l=12.75]', '\" \\n\"[p=0.04, l=11.81]', '\"?\"[p=0.04, l=11.62]', '\"??\"[p=0.03, l=11.56]', '\" lawyer\"[p=0.03, l=11.38]', '\" software\"[p=0.03, l=11.38]', '\" artist\"[p=0.03, l=11.31]', '\" politician\"[p=0.02, l=11.25]', '\" actor\"[p=0.02, l=10.94]', '\"???\"[p=0.02, l=10.88]', '\" (\"[p=0.01, l=10.69]', '\" engineer\"[p=0.01, l=10.62]', '\" \\n\\n\"[p=0.01, l=10.62]', '\" programmer\"[p=0.01, l=10.62]']\n",
      "\n",
      "\" Johnny Depp\" | cur_rng=(13, 16)\n",
      "token_idx=13 [\" Johnny\"] => ['\" actor\"[p=0.13, l=12.88]', '\" musician\"[p=0.06, l=12.19]', '\" unknown\"[p=0.06, l=12.12]', '\" singer\"[p=0.05, l=11.88]', '\"?\\n\"[p=0.04, l=11.69]', '\"?\"[p=0.02, l=11.19]', '\"??\"[p=0.02, l=11.12]', '\"???\"[p=0.02, l=10.88]', '\" no\"[p=0.02, l=10.88]', '\" (\"[p=0.02, l=10.88]', '\" comedian\"[p=0.02, l=10.75]', '\" student\"[p=0.01, l=10.69]', '\" Johnny\"[p=0.01, l=10.50]', '\" rock\"[p=0.01, l=10.44]', '\" what\"[p=0.01, l=10.06]']\n",
      "token_idx=14 [\" De\"] => ['\" actor\"[p=0.14, l=11.69]', '\" musician\"[p=0.03, l=10.25]', '\" artist\"[p=0.03, l=10.06]', '\" singer\"[p=0.02, l=9.94]', '\" football\"[p=0.01, l=9.44]', '\" programmer\"[p=0.01, l=9.38]', '\" unknown\"[p=0.01, l=9.31]', '\" actress\"[p=0.01, l=9.25]', '\" engineer\"[p=0.01, l=9.12]', '\" politician\"[p=0.01, l=9.00]', '\"??\"[p=0.01, l=9.00]', '\" entrepreneur\"[p=0.01, l=8.94]', '\" student\"[p=0.01, l=8.81]', '\" mathematic\"[p=0.01, l=8.81]', '\" chem\"[p=0.01, l=8.75]']\n",
      "token_idx=15 [\"pp\"] => ['\" actor\"[p=0.97, l=20.38]', '\" Actor\"[p=0.01, l=15.12]', '\" movie\"[p=0.00, l=15.06]', '\" Johnny\"[p=0.00, l=14.94]', '\" film\"[p=0.00, l=14.50]', '\" \"[p=0.00, l=12.81]', '\" (\"[p=0.00, l=12.69]', '\" actress\"[p=0.00, l=12.56]', '\" actors\"[p=0.00, l=12.50]', '\" musician\"[p=0.00, l=11.94]', '\" artist\"[p=0.00, l=11.94]', '\"actor\"[p=0.00, l=11.88]', '\" entrepreneur\"[p=0.00, l=11.81]', '\" Movie\"[p=0.00, l=11.75]', '\" ->\"[p=0.00, l=11.69]']\n",
      "\n",
      "\" Marc Jacobs\" | cur_rng=(19, 21)\n",
      "token_idx=19 [\" Marc\"] => ['\"?\\n\"[p=0.11, l=12.69]', '\"?\"[p=0.05, l=11.81]', '\" unknown\"[p=0.04, l=11.75]', '\"?\\n\\n\"[p=0.04, l=11.69]', '\"??\"[p=0.04, l=11.69]', '\"???\"[p=0.03, l=11.38]', '\" actor\"[p=0.02, l=11.06]', '\" programmer\"[p=0.02, l=11.00]', '\" artist\"[p=0.02, l=10.94]', '\" software\"[p=0.02, l=10.88]', '\" engineer\"[p=0.01, l=10.62]', '\" entrepreneur\"[p=0.01, l=10.50]', '\" musician\"[p=0.01, l=10.50]', '\" football\"[p=0.01, l=10.31]', '\" no\"[p=0.01, l=10.31]']\n",
      "token_idx=20 [\" Jacobs\"] => ['\" fashion\"[p=0.92, l=20.75]', '\" designer\"[p=0.06, l=18.00]', '\" Fashion\"[p=0.00, l=15.00]', '\" artist\"[p=0.00, l=14.25]', '\" model\"[p=0.00, l=13.94]', '\" entrepreneur\"[p=0.00, l=13.75]', '\" \"[p=0.00, l=13.75]', '\" clothing\"[p=0.00, l=13.19]', '\" (\"[p=0.00, l=13.12]', '\" photographer\"[p=0.00, l=13.06]', '\" Designer\"[p=0.00, l=13.00]', '\" businessman\"[p=0.00, l=12.88]', '\" actor\"[p=0.00, l=12.81]', '\" football\"[p=0.00, l=12.75]', '\"f\"[p=0.00, l=12.75]']\n",
      "\n",
      "\" Jennifer Lawrence\" | cur_rng=(22, 24)\n",
      "token_idx=22 [\" Jennifer\"] => ['\" actress\"[p=0.19, l=14.06]', '\" singer\"[p=0.10, l=13.38]', '\" unknown\"[p=0.07, l=13.06]', '\" actor\"[p=0.07, l=13.00]', '\" lawyer\"[p=0.04, l=12.56]', '\"?\\n\"[p=0.04, l=12.50]', '\"??\"[p=0.02, l=11.81]', '\" teacher\"[p=0.02, l=11.81]', '\"?\"[p=0.02, l=11.81]', '\" no\"[p=0.02, l=11.69]', '\" artist\"[p=0.02, l=11.56]', '\" (\"[p=0.02, l=11.56]', '\"???\"[p=0.01, l=11.44]', '\" not\"[p=0.01, l=11.19]', '\" software\"[p=0.01, l=10.94]']\n",
      "token_idx=23 [\" Lawrence\"] => ['\" actress\"[p=0.94, l=22.00]', '\" actor\"[p=0.05, l=19.00]', '\" movie\"[p=0.00, l=16.75]', '\" Actress\"[p=0.00, l=15.38]', '\" film\"[p=0.00, l=15.19]', '\" Hollywood\"[p=0.00, l=14.06]', '\" \"[p=0.00, l=14.00]', '\" singer\"[p=0.00, l=13.75]', '\" act\"[p=0.00, l=13.62]', '\" model\"[p=0.00, l=13.19]', '\" (\"[p=0.00, l=13.12]', '\" actresses\"[p=0.00, l=12.94]', '\" celebrity\"[p=0.00, l=12.88]', '\" artist\"[p=0.00, l=12.75]', '\" basketball\"[p=0.00, l=12.69]']\n",
      "\n",
      "\" Giannis Antetokounmpo\" | cur_rng=(25, 33)\n",
      "token_idx=25 [\" Gi\"] => ['\"?\\n\"[p=0.04, l=10.44]', '\" singer\"[p=0.02, l=9.88]', '\" musician\"[p=0.02, l=9.81]', '\" artist\"[p=0.02, l=9.81]', '\"??\"[p=0.02, l=9.75]', '\" soccer\"[p=0.02, l=9.62]', '\" actor\"[p=0.01, l=9.50]', '\" football\"[p=0.01, l=9.50]', '\"?\"[p=0.01, l=9.25]', '\" architect\"[p=0.01, l=9.25]', '\" entrepreneur\"[p=0.01, l=9.06]', '\"???\"[p=0.01, l=9.06]', '\" chef\"[p=0.01, l=9.06]', '\" programmer\"[p=0.01, l=9.00]', '\" model\"[p=0.01, l=8.94]']\n",
      "token_idx=26 [\"annis\"] => ['\" basketball\"[p=0.20, l=14.06]', '\" ancient\"[p=0.11, l=13.50]', '\" unknown\"[p=0.09, l=13.31]', '\" football\"[p=0.03, l=12.31]', '\" politician\"[p=0.03, l=12.12]', '\"?\\n\"[p=0.03, l=12.06]', '\" philosopher\"[p=0.03, l=12.06]', '\"??\"[p=0.02, l=11.75]', '\" athlete\"[p=0.02, l=11.62]', '\" (\"[p=0.02, l=11.62]', '\" Greek\"[p=0.01, l=11.31]', '\" Ancient\"[p=0.01, l=11.31]', '\" soccer\"[p=0.01, l=11.25]', '\"?\"[p=0.01, l=11.25]', '\" poet\"[p=0.01, l=11.19]']\n",
      "token_idx=27 [\" Ant\"] => ['\" software\"[p=0.08, l=12.69]', '\" ant\"[p=0.05, l=12.19]', '\" programmer\"[p=0.04, l=12.06]', '\"??\"[p=0.03, l=11.69]', '\" soldier\"[p=0.03, l=11.56]', '\" insect\"[p=0.03, l=11.56]', '\" ent\"[p=0.03, l=11.56]', '\" unknown\"[p=0.02, l=11.38]', '\" farmer\"[p=0.02, l=11.31]', '\" actor\"[p=0.02, l=11.25]', '\"?\\n\"[p=0.02, l=11.19]', '\" chem\"[p=0.01, l=10.81]', '\" engineer\"[p=0.01, l=10.81]', '\" worker\"[p=0.01, l=10.75]', '\" computer\"[p=0.01, l=10.75]']\n",
      "token_idx=28 [\"et\"] => ['\"?\\n\"[p=0.08, l=11.06]', '\"??\"[p=0.07, l=11.00]', '\" unknown\"[p=0.06, l=10.75]', '\"?\"[p=0.05, l=10.56]', '\"???\"[p=0.04, l=10.31]', '\"?\\n\\n\"[p=0.03, l=10.25]', '\" no\"[p=0.02, l=9.75]', '\" not\"[p=0.02, l=9.56]', '\" artist\"[p=0.01, l=9.44]', '\" (\"[p=0.01, l=9.19]', '\" I\"[p=0.01, l=9.12]', '\" \"[p=0.01, l=9.06]', '\" programmer\"[p=0.01, l=9.00]', '\" entrepreneur\"[p=0.01, l=8.94]', '\" error\"[p=0.01, l=8.94]']\n",
      "token_idx=29 [\"ok\"] => ['\"?\\n\"[p=0.09, l=11.88]', '\"??\"[p=0.07, l=11.62]', '\" unknown\"[p=0.06, l=11.44]', '\"?\"[p=0.05, l=11.31]', '\"???\"[p=0.05, l=11.25]', '\"?\\n\\n\"[p=0.04, l=11.06]', '\" no\"[p=0.02, l=10.44]', '\" entrepreneur\"[p=0.01, l=10.06]', '\" artist\"[p=0.01, l=10.06]', '\" programmer\"[p=0.01, l=10.00]', '\" (\"[p=0.01, l=9.88]', '\" I\"[p=0.01, l=9.81]', '\" astronaut\"[p=0.01, l=9.81]', '\" what\"[p=0.01, l=9.81]', '\" not\"[p=0.01, l=9.62]']\n",
      "token_idx=30 [\"oun\"] => ['\" basketball\"[p=0.19, l=12.56]', '\" football\"[p=0.05, l=11.31]', '\"?\\n\"[p=0.05, l=11.19]', '\"??\"[p=0.04, l=11.12]', '\" soccer\"[p=0.03, l=10.75]', '\" unknown\"[p=0.03, l=10.75]', '\"?\"[p=0.03, l=10.62]', '\" athlete\"[p=0.02, l=10.06]', '\"?\\n\\n\"[p=0.01, l=10.00]', '\" no\"[p=0.01, l=10.00]', '\" (\"[p=0.01, l=9.94]', '\" \\n\"[p=0.01, l=9.81]', '\" musician\"[p=0.01, l=9.81]', '\" entrepreneur\"[p=0.01, l=9.81]', '\" not\"[p=0.01, l=9.69]']\n",
      "token_idx=31 [\"mp\"] => ['\"??\"[p=0.15, l=12.31]', '\"???\"[p=0.07, l=11.56]', '\"?\\n\"[p=0.07, l=11.50]', '\"?\"[p=0.05, l=11.12]', '\" programmer\"[p=0.04, l=10.88]', '\" unknown\"[p=0.03, l=10.56]', '\" software\"[p=0.02, l=10.38]', '\"?\\n\\n\"[p=0.02, l=10.38]', '\" musician\"[p=0.01, l=9.88]', '\" \\n\"[p=0.01, l=9.88]', '\" computer\"[p=0.01, l=9.75]', '\" politician\"[p=0.01, l=9.69]', '\" mp\"[p=0.01, l=9.56]', '\" artist\"[p=0.01, l=9.50]', '\" what\"[p=0.01, l=9.50]']\n",
      "token_idx=32 [\"o\"] => ['\" soccer\"[p=0.19, l=13.19]', '\" football\"[p=0.18, l=13.12]', '\" basketball\"[p=0.08, l=12.38]', '\" athlete\"[p=0.02, l=10.88]', '\" entrepreneur\"[p=0.02, l=10.75]', '\" musician\"[p=0.01, l=10.62]', '\"??\"[p=0.01, l=10.62]', '\" professional\"[p=0.01, l=10.62]', '\" unknown\"[p=0.01, l=10.56]', '\" boxer\"[p=0.01, l=10.44]', '\"?\\n\"[p=0.01, l=10.31]', '\" (\"[p=0.01, l=10.31]', '\" wrestler\"[p=0.01, l=10.06]', '\" actor\"[p=0.01, l=10.06]', '\" politician\"[p=0.01, l=10.00]']\n",
      "\n",
      "\" Beyoncé\" | cur_rng=(34, 36)\n",
      "token_idx=34 [\" Bey\"] => ['\" singer\"[p=0.80, l=18.00]', '\" musician\"[p=0.09, l=15.81]', '\" pop\"[p=0.02, l=14.31]', '\" music\"[p=0.01, l=13.75]', '\" Singer\"[p=0.01, l=13.62]', '\" artist\"[p=0.01, l=13.38]', '\" Music\"[p=0.00, l=12.62]', '\" entert\"[p=0.00, l=12.50]', '\" actress\"[p=0.00, l=12.44]', '\" performer\"[p=0.00, l=12.38]', '\" \"[p=0.00, l=12.06]', '\" songwriter\"[p=0.00, l=12.06]', '\" celebrity\"[p=0.00, l=11.50]', '\" musical\"[p=0.00, l=11.44]', '\" vocalist\"[p=0.00, l=11.31]']\n",
      "token_idx=35 [\"oncé\"] => ['\" singer\"[p=0.97, l=23.38]', '\" musician\"[p=0.02, l=19.62]', '\" pop\"[p=0.00, l=17.38]', '\" Singer\"[p=0.00, l=17.00]', '\" music\"[p=0.00, l=16.38]', '\" actress\"[p=0.00, l=15.94]', '\" artist\"[p=0.00, l=15.88]', '\" entert\"[p=0.00, l=15.69]', '\" \"[p=0.00, l=15.44]', '\" Music\"[p=0.00, l=15.12]', '\" vocalist\"[p=0.00, l=15.00]', '\" songwriter\"[p=0.00, l=14.56]', '\" signer\"[p=0.00, l=14.25]', '\" performer\"[p=0.00, l=14.19]', '\" (\"[p=0.00, l=14.19]']\n",
      "\n",
      "\" Stephen King\" | cur_rng=(37, 39)\n",
      "token_idx=37 [\" Stephen\"] => ['\" philosopher\"[p=0.12, l=13.19]', '\"?\\n\"[p=0.07, l=12.69]', '\" actor\"[p=0.06, l=12.56]', '\" unknown\"[p=0.05, l=12.31]', '\"?\"[p=0.02, l=11.56]', '\" king\"[p=0.02, l=11.50]', '\" software\"[p=0.02, l=11.38]', '\" no\"[p=0.02, l=11.38]', '\" writer\"[p=0.02, l=11.38]', '\"??\"[p=0.02, l=11.31]', '\" programmer\"[p=0.02, l=11.25]', '\" comedian\"[p=0.02, l=11.19]', '\"???\"[p=0.01, l=11.00]', '\" mathematic\"[p=0.01, l=10.94]', '\" (\"[p=0.01, l=10.94]']\n",
      "token_idx=38 [\" King\"] => ['\" writer\"[p=0.41, l=22.25]', '\" author\"[p=0.41, l=22.25]', '\" novelist\"[p=0.17, l=21.38]', '\" horror\"[p=0.00, l=16.62]', '\" Author\"[p=0.00, l=16.38]', '\" Writer\"[p=0.00, l=16.12]', '\" fiction\"[p=0.00, l=15.69]', '\" novel\"[p=0.00, l=15.31]', '\" \"[p=0.00, l=15.31]', '\" (\"[p=0.00, l=15.00]', '\"writer\"[p=0.00, l=14.94]', '\"author\"[p=0.00, l=14.81]', '\" Nov\"[p=0.00, l=14.75]', '\" write\"[p=0.00, l=14.19]', '\" actor\"[p=0.00, l=13.56]']\n",
      "\n",
      "\" Novak Djokovic\" | cur_rng=(40, 45)\n",
      "token_idx=40 [\" Nov\"] => ['\"?\\n\"[p=0.09, l=11.25]', '\"??\"[p=0.05, l=10.62]', '\"?\"[p=0.05, l=10.56]', '\" unknown\"[p=0.04, l=10.38]', '\"?\\n\\n\"[p=0.03, l=10.25]', '\" artist\"[p=0.03, l=10.06]', '\" programmer\"[p=0.03, l=10.00]', '\"???\"[p=0.02, l=9.69]', '\" musician\"[p=0.02, l=9.50]', '\" not\"[p=0.01, l=9.38]', '\" no\"[p=0.01, l=9.31]', '\" singer\"[p=0.01, l=9.19]', '\" scientist\"[p=0.01, l=9.12]', '\" None\"[p=0.01, l=9.06]', '\" entrepreneur\"[p=0.01, l=9.00]']\n",
      "token_idx=41 [\"ak\"] => ['\" tennis\"[p=0.38, l=14.69]', '\"?\\n\"[p=0.04, l=12.56]', '\"?\"[p=0.04, l=12.50]', '\" actor\"[p=0.03, l=12.00]', '\" football\"[p=0.02, l=11.81]', '\" musician\"[p=0.02, l=11.81]', '\" politician\"[p=0.02, l=11.69]', '\"??\"[p=0.02, l=11.56]', '\" volleyball\"[p=0.01, l=11.31]', '\" basketball\"[p=0.01, l=11.31]', '\" Dj\"[p=0.01, l=11.19]', '\"?\\n\\n\"[p=0.01, l=11.19]', '\" unknown\"[p=0.01, l=11.19]', '\"???\"[p=0.01, l=11.19]', '\" (\"[p=0.01, l=11.19]']\n",
      "token_idx=42 [\" Dj\"] => ['\" DJ\"[p=0.23, l=14.25]', '\" dj\"[p=0.10, l=13.44]', '\" disc\"[p=0.08, l=13.25]', '\" musician\"[p=0.08, l=13.19]', '\" Dj\"[p=0.04, l=12.56]', '\" Disc\"[p=0.03, l=12.25]', '\" disk\"[p=0.03, l=12.12]', '\" singer\"[p=0.02, l=12.00]', '\" radio\"[p=0.02, l=11.69]', '\" music\"[p=0.01, l=11.50]', '\" de\"[p=0.01, l=11.12]', '\"?\\n\"[p=0.01, l=10.94]', '\" software\"[p=0.01, l=10.88]', '\" football\"[p=0.01, l=10.88]', '\"??\"[p=0.01, l=10.81]']\n",
      "token_idx=43 [\"ok\"] => ['\" tennis\"[p=0.41, l=13.88]', '\" football\"[p=0.03, l=11.25]', '\"?\\n\"[p=0.03, l=11.12]', '\" musician\"[p=0.02, l=10.94]', '\"?\"[p=0.02, l=10.94]', '\"??\"[p=0.02, l=10.88]', '\" basketball\"[p=0.01, l=10.56]', '\" Nov\"[p=0.01, l=10.44]', '\" soccer\"[p=0.01, l=10.38]', '\"???\"[p=0.01, l=10.31]', '\" athlete\"[p=0.01, l=10.31]', '\" politician\"[p=0.01, l=10.19]', '\" unknown\"[p=0.01, l=10.00]', '\" actor\"[p=0.01, l=9.94]', '\" singer\"[p=0.01, l=9.81]']\n",
      "token_idx=44 [\"ovic\"] => ['\" tennis\"[p=0.84, l=17.62]', '\" football\"[p=0.01, l=13.19]', '\" athlete\"[p=0.01, l=13.06]', '\" Nov\"[p=0.01, l=13.06]', '\" basketball\"[p=0.01, l=13.00]', '\" professional\"[p=0.01, l=12.94]', '\"?\\n\"[p=0.01, l=12.81]', '\" soccer\"[p=0.01, l=12.62]', '\"?\"[p=0.01, l=12.62]', '\" Tennis\"[p=0.00, l=12.38]', '\"??\"[p=0.00, l=12.25]', '\" (\"[p=0.00, l=12.19]', '\" musician\"[p=0.00, l=12.12]', '\" politician\"[p=0.00, l=12.12]', '\" actor\"[p=0.00, l=12.06]']\n",
      "======================================================================================================================================================\n",
      "\n",
      "layer='model.layers.18'\n",
      "\n",
      "\"Ans:\" | cur_rng=(-2, 0)\n",
      "token_idx=-2 [\"Ans\"] => ['\"?\\n\"[p=0.06, l=10.81]', '\" Ans\"[p=0.04, l=10.25]', '\" unknown\"[p=0.03, l=10.19]', '\" student\"[p=0.03, l=10.06]', '\"??\"[p=0.03, l=9.94]', '\" artist\"[p=0.02, l=9.88]', '\"?\\n\\n\"[p=0.02, l=9.75]', '\" programmer\"[p=0.02, l=9.56]', '\" software\"[p=0.01, l=9.31]', '\"???\"[p=0.01, l=9.19]', '\" singer\"[p=0.01, l=9.12]', '\"?\"[p=0.01, l=9.00]', '\" actor\"[p=0.01, l=8.94]', '\" computer\"[p=0.01, l=8.88]', '\" (\"[p=0.01, l=8.88]']\n",
      "token_idx=-1 [\":\"] => ['\" \\n\"[p=0.04, l=10.44]', '\"\\n\\n\"[p=0.03, l=10.00]', '\"?\\n\\n\"[p=0.03, l=9.88]', '\"?\\n\"[p=0.03, l=9.88]', '\" profession\"[p=0.03, l=9.88]', '\" ->\"[p=0.02, l=9.69]', '\" lawyer\"[p=0.02, l=9.69]', '\" (\"[p=0.02, l=9.62]', '\" software\"[p=0.02, l=9.62]', '\" politician\"[p=0.02, l=9.50]', '\" artist\"[p=0.02, l=9.38]', '\" computer\"[p=0.01, l=9.31]', '\" entrepreneur\"[p=0.01, l=9.31]', '\" engineer\"[p=0.01, l=9.31]', '\"?\"[p=0.01, l=9.25]']\n",
      "\n",
      "\" Johnny Depp\" | cur_rng=(13, 16)\n",
      "token_idx=13 [\" Johnny\"] => ['\" actor\"[p=0.14, l=13.06]', '\" musician\"[p=0.07, l=12.38]', '\" unknown\"[p=0.06, l=12.31]', '\" singer\"[p=0.06, l=12.19]', '\"?\\n\"[p=0.05, l=12.06]', '\"?\"[p=0.03, l=11.44]', '\"??\"[p=0.03, l=11.38]', '\" comedian\"[p=0.02, l=11.25]', '\"???\"[p=0.02, l=11.06]', '\" no\"[p=0.02, l=11.00]', '\" rock\"[p=0.02, l=10.88]', '\" (\"[p=0.02, l=10.88]', '\" Johnny\"[p=0.01, l=10.56]', '\" student\"[p=0.01, l=10.56]', '\" clown\"[p=0.01, l=10.38]']\n",
      "token_idx=14 [\" De\"] => ['\" actor\"[p=0.24, l=11.81]', '\" musician\"[p=0.03, l=9.62]', '\" pirate\"[p=0.02, l=9.25]', '\" artist\"[p=0.02, l=9.12]', '\"??\"[p=0.01, l=8.94]', '\" unknown\"[p=0.01, l=8.88]', '\" singer\"[p=0.01, l=8.69]', '\" Actor\"[p=0.01, l=8.62]', '\"?\"[p=0.01, l=8.56]', '\"?\\n\"[p=0.01, l=8.31]', '\"???\"[p=0.01, l=8.25]', '\" \"[p=0.01, l=8.25]', '\" actress\"[p=0.01, l=8.19]', '\" chef\"[p=0.01, l=8.06]', '\" programmer\"[p=0.01, l=8.00]']\n",
      "token_idx=15 [\"pp\"] => ['\" actor\"[p=0.97, l=20.12]', '\" Actor\"[p=0.01, l=15.00]', '\" movie\"[p=0.01, l=14.88]', '\" Johnny\"[p=0.00, l=14.56]', '\" film\"[p=0.00, l=14.50]', '\" (\"[p=0.00, l=12.88]', '\" \"[p=0.00, l=12.75]', '\" actors\"[p=0.00, l=12.06]', '\" actress\"[p=0.00, l=12.00]', '\" ->\"[p=0.00, l=11.69]', '\"actor\"[p=0.00, l=11.62]', '\" Movie\"[p=0.00, l=11.62]', '\" Film\"[p=0.00, l=11.50]', '\" artist\"[p=0.00, l=11.44]', '\" John\"[p=0.00, l=11.31]']\n",
      "\n",
      "\" Marc Jacobs\" | cur_rng=(19, 21)\n",
      "token_idx=19 [\" Marc\"] => ['\"?\\n\"[p=0.12, l=12.94]', '\"?\\n\\n\"[p=0.05, l=12.06]', '\"?\"[p=0.05, l=12.06]', '\"??\"[p=0.05, l=12.00]', '\" unknown\"[p=0.04, l=11.88]', '\"???\"[p=0.03, l=11.56]', '\" actor\"[p=0.02, l=11.31]', '\" programmer\"[p=0.02, l=11.25]', '\" artist\"[p=0.02, l=11.06]', '\" software\"[p=0.02, l=11.00]', '\" musician\"[p=0.02, l=10.94]', '\" football\"[p=0.01, l=10.81]', '\" singer\"[p=0.01, l=10.69]', '\" engineer\"[p=0.01, l=10.69]', '\" entrepreneur\"[p=0.01, l=10.62]']\n",
      "token_idx=20 [\" Jacobs\"] => ['\" fashion\"[p=0.94, l=21.25]', '\" designer\"[p=0.05, l=18.25]', '\" Fashion\"[p=0.00, l=15.31]', '\" \"[p=0.00, l=14.19]', '\" artist\"[p=0.00, l=14.00]', '\" model\"[p=0.00, l=14.00]', '\" entrepreneur\"[p=0.00, l=13.88]', '\" (\"[p=0.00, l=13.56]', '\"f\"[p=0.00, l=13.44]', '\" clothing\"[p=0.00, l=13.31]', '\" Designer\"[p=0.00, l=13.06]', '\" businessman\"[p=0.00, l=12.75]', '\" photographer\"[p=0.00, l=12.69]', '\"?\"[p=0.00, l=12.56]', '\" stylist\"[p=0.00, l=12.44]']\n",
      "\n",
      "\" Jennifer Lawrence\" | cur_rng=(22, 24)\n",
      "token_idx=22 [\" Jennifer\"] => ['\" actress\"[p=0.19, l=14.06]', '\" unknown\"[p=0.07, l=13.12]', '\" singer\"[p=0.07, l=13.06]', '\" actor\"[p=0.07, l=13.06]', '\"?\\n\"[p=0.05, l=12.69]', '\" lawyer\"[p=0.04, l=12.50]', '\"?\"[p=0.03, l=12.06]', '\"??\"[p=0.02, l=12.00]', '\" teacher\"[p=0.02, l=11.81]', '\" no\"[p=0.02, l=11.69]', '\" artist\"[p=0.01, l=11.50]', '\"???\"[p=0.01, l=11.50]', '\" (\"[p=0.01, l=11.44]', '\"?\\n\\n\"[p=0.01, l=11.19]', '\" not\"[p=0.01, l=11.19]']\n",
      "token_idx=23 [\" Lawrence\"] => ['\" actress\"[p=0.93, l=20.12]', '\" actor\"[p=0.05, l=17.12]', '\" movie\"[p=0.00, l=14.81]', '\" Actress\"[p=0.00, l=14.12]', '\" film\"[p=0.00, l=13.12]', '\" (\"[p=0.00, l=12.75]', '\" \"[p=0.00, l=12.62]', '\" Hollywood\"[p=0.00, l=12.44]', '\" unknown\"[p=0.00, l=12.38]', '\" singer\"[p=0.00, l=12.31]', '\" no\"[p=0.00, l=12.19]', '\" act\"[p=0.00, l=12.06]', '\"??\"[p=0.00, l=12.06]', '\" celebrity\"[p=0.00, l=11.75]', '\" not\"[p=0.00, l=11.75]']\n",
      "\n",
      "\" Giannis Antetokounmpo\" | cur_rng=(25, 33)\n",
      "token_idx=25 [\" Gi\"] => ['\"?\\n\"[p=0.07, l=11.06]', '\"??\"[p=0.03, l=10.06]', '\" artist\"[p=0.02, l=9.94]', '\"?\"[p=0.02, l=9.81]', '\" singer\"[p=0.02, l=9.56]', '\" musician\"[p=0.02, l=9.50]', '\" football\"[p=0.01, l=9.44]', '\" entrepreneur\"[p=0.01, l=9.38]', '\" architect\"[p=0.01, l=9.38]', '\" actor\"[p=0.01, l=9.31]', '\"???\"[p=0.01, l=9.19]', '\" soccer\"[p=0.01, l=9.19]', '\" engineer\"[p=0.01, l=9.12]', '\" unknown\"[p=0.01, l=9.12]', '\"?\\n\\n\"[p=0.01, l=9.12]']\n",
      "token_idx=26 [\"annis\"] => ['\" basketball\"[p=0.22, l=14.44]', '\" ancient\"[p=0.09, l=13.56]', '\" unknown\"[p=0.08, l=13.44]', '\" politician\"[p=0.06, l=13.06]', '\"?\\n\"[p=0.04, l=12.62]', '\" football\"[p=0.03, l=12.44]', '\"??\"[p=0.02, l=12.19]', '\" poet\"[p=0.02, l=12.06]', '\" (\"[p=0.02, l=11.88]', '\"?\"[p=0.02, l=11.81]', '\" Greek\"[p=0.02, l=11.75]', '\" athlete\"[p=0.01, l=11.69]', '\" philosopher\"[p=0.01, l=11.62]', '\"?\\n\\n\"[p=0.01, l=11.44]', '\" soccer\"[p=0.01, l=11.44]']\n",
      "token_idx=27 [\" Ant\"] => ['\" chess\"[p=0.12, l=12.88]', '\" programmer\"[p=0.07, l=12.31]', '\" actor\"[p=0.04, l=11.75]', '\" software\"[p=0.04, l=11.69]', '\" ant\"[p=0.04, l=11.69]', '\"??\"[p=0.03, l=11.56]', '\" ent\"[p=0.03, l=11.31]', '\"?\\n\"[p=0.02, l=11.12]', '\" artist\"[p=0.02, l=11.06]', '\" musician\"[p=0.01, l=10.69]', '\" football\"[p=0.01, l=10.62]', '\"?\"[p=0.01, l=10.62]', '\"???\"[p=0.01, l=10.62]', '\" Ant\"[p=0.01, l=10.50]', '\" computer\"[p=0.01, l=10.38]']\n",
      "token_idx=28 [\"et\"] => ['\" unknown\"[p=0.08, l=11.06]', '\"?\\n\"[p=0.06, l=10.75]', '\"??\"[p=0.05, l=10.50]', '\"?\"[p=0.04, l=10.31]', '\" no\"[p=0.02, l=9.81]', '\"???\"[p=0.02, l=9.75]', '\"?\\n\\n\"[p=0.02, l=9.62]', '\" not\"[p=0.02, l=9.56]', '\" (\"[p=0.01, l=9.19]', '\" politician\"[p=0.01, l=9.06]', '\" philosopher\"[p=0.01, l=9.00]', '\" I\"[p=0.01, l=8.94]', '\" \"[p=0.01, l=8.81]', '\" artist\"[p=0.01, l=8.75]', '\" musician\"[p=0.01, l=8.62]']\n",
      "token_idx=29 [\"ok\"] => ['\"??\"[p=0.06, l=11.62]', '\" unknown\"[p=0.06, l=11.50]', '\"?\\n\"[p=0.05, l=11.44]', '\"???\"[p=0.04, l=11.12]', '\"?\"[p=0.03, l=10.81]', '\"?\\n\\n\"[p=0.02, l=10.62]', '\" programmer\"[p=0.02, l=10.31]', '\" artist\"[p=0.02, l=10.31]', '\" no\"[p=0.01, l=10.12]', '\" (\"[p=0.01, l=9.94]', '\" entrepreneur\"[p=0.01, l=9.88]', '\" ninja\"[p=0.01, l=9.88]', '\" astronaut\"[p=0.01, l=9.81]', '\" musician\"[p=0.01, l=9.75]', '\" software\"[p=0.01, l=9.75]']\n",
      "token_idx=30 [\"oun\"] => ['\" basketball\"[p=0.24, l=12.88]', '\"?\\n\"[p=0.04, l=11.06]', '\" football\"[p=0.04, l=11.06]', '\" unknown\"[p=0.03, l=10.94]', '\"??\"[p=0.03, l=10.88]', '\"?\"[p=0.02, l=10.44]', '\" athlete\"[p=0.02, l=10.31]', '\" soccer\"[p=0.02, l=10.31]', '\" no\"[p=0.01, l=10.06]', '\" (\"[p=0.01, l=10.00]', '\"?\\n\\n\"[p=0.01, l=9.88]', '\" Greek\"[p=0.01, l=9.88]', '\" \\n\"[p=0.01, l=9.81]', '\" not\"[p=0.01, l=9.81]', '\" politician\"[p=0.01, l=9.81]']\n",
      "token_idx=31 [\"mp\"] => ['\"??\"[p=0.20, l=13.25]', '\"?\\n\"[p=0.16, l=13.00]', '\"?\"[p=0.08, l=12.31]', '\"?\\n\\n\"[p=0.05, l=11.94]', '\"???\"[p=0.04, l=11.56]', '\" \\n\"[p=0.03, l=11.25]', '\" mp\"[p=0.02, l=10.75]', '\" musician\"[p=0.01, l=10.56]', '\" lawyer\"[p=0.01, l=10.44]', '\" politician\"[p=0.01, l=10.25]', '\" singer\"[p=0.01, l=10.25]', '\" artist\"[p=0.01, l=10.19]', '\" actor\"[p=0.01, l=10.12]', '\" \"[p=0.01, l=9.94]', '\" programmer\"[p=0.01, l=9.88]']\n",
      "token_idx=32 [\"o\"] => ['\" basketball\"[p=0.26, l=13.50]', '\" football\"[p=0.11, l=12.62]', '\" soccer\"[p=0.09, l=12.44]', '\"??\"[p=0.02, l=11.06]', '\" entrepreneur\"[p=0.02, l=11.00]', '\"?\\n\"[p=0.02, l=10.94]', '\" unknown\"[p=0.02, l=10.88]', '\" professional\"[p=0.02, l=10.75]', '\" athlete\"[p=0.01, l=10.62]', '\" politician\"[p=0.01, l=10.38]', '\" (\"[p=0.01, l=10.38]', '\" \\n\"[p=0.01, l=10.19]', '\"?\"[p=0.01, l=10.12]', '\" musician\"[p=0.01, l=10.06]', '\" NBA\"[p=0.01, l=10.06]']\n",
      "\n",
      "\" Beyoncé\" | cur_rng=(34, 36)\n",
      "token_idx=34 [\" Bey\"] => ['\" singer\"[p=0.79, l=17.62]', '\" musician\"[p=0.08, l=15.31]', '\" pop\"[p=0.03, l=14.31]', '\" Singer\"[p=0.01, l=13.38]', '\" music\"[p=0.01, l=13.38]', '\" artist\"[p=0.01, l=13.19]', '\" Music\"[p=0.00, l=12.25]', '\" actress\"[p=0.00, l=12.25]', '\" entert\"[p=0.00, l=12.06]', '\" performer\"[p=0.00, l=12.00]', '\" songwriter\"[p=0.00, l=11.88]', '\" \"[p=0.00, l=11.88]', '\" celebrity\"[p=0.00, l=11.25]', '\" Bey\"[p=0.00, l=11.06]', '\"??\"[p=0.00, l=11.06]']\n",
      "token_idx=35 [\"oncé\"] => ['\" singer\"[p=0.96, l=22.88]', '\" musician\"[p=0.03, l=19.25]', '\" pop\"[p=0.00, l=16.88]', '\" Singer\"[p=0.00, l=16.75]', '\" actress\"[p=0.00, l=16.25]', '\" music\"[p=0.00, l=16.00]', '\" artist\"[p=0.00, l=15.88]', '\" entert\"[p=0.00, l=15.88]', '\" \"[p=0.00, l=15.19]', '\" Music\"[p=0.00, l=15.00]', '\" vocalist\"[p=0.00, l=14.56]', '\" songwriter\"[p=0.00, l=14.38]', '\" (\"[p=0.00, l=14.12]', '\" performer\"[p=0.00, l=14.06]', '\" recording\"[p=0.00, l=14.06]']\n",
      "\n",
      "\" Stephen King\" | cur_rng=(37, 39)\n",
      "token_idx=37 [\" Stephen\"] => ['\" philosopher\"[p=0.10, l=13.00]', '\"?\\n\"[p=0.08, l=12.81]', '\" actor\"[p=0.07, l=12.69]', '\" unknown\"[p=0.04, l=12.12]', '\" writer\"[p=0.03, l=11.81]', '\"?\"[p=0.03, l=11.75]', '\"??\"[p=0.02, l=11.56]', '\" comedian\"[p=0.02, l=11.25]', '\" author\"[p=0.02, l=11.25]', '\" software\"[p=0.02, l=11.25]', '\" programmer\"[p=0.02, l=11.19]', '\"???\"[p=0.02, l=11.19]', '\" no\"[p=0.01, l=11.12]', '\" mathematic\"[p=0.01, l=11.00]', '\" king\"[p=0.01, l=11.00]']\n",
      "token_idx=38 [\" King\"] => ['\" writer\"[p=0.45, l=21.75]', '\" author\"[p=0.40, l=21.62]', '\" novelist\"[p=0.15, l=20.62]', '\" horror\"[p=0.00, l=16.12]', '\" Author\"[p=0.00, l=16.00]', '\" Writer\"[p=0.00, l=15.88]', '\" fiction\"[p=0.00, l=15.31]', '\" (\"[p=0.00, l=15.00]', '\" \"[p=0.00, l=14.94]', '\" novel\"[p=0.00, l=14.69]', '\"writer\"[p=0.00, l=14.50]', '\" Nov\"[p=0.00, l=14.50]', '\"author\"[p=0.00, l=14.31]', '\" write\"[p=0.00, l=13.94]', '\"?\"[p=0.00, l=13.00]']\n",
      "\n",
      "\" Novak Djokovic\" | cur_rng=(40, 45)\n",
      "token_idx=40 [\" Nov\"] => ['\"?\\n\"[p=0.12, l=11.69]', '\"?\"[p=0.06, l=11.00]', '\"??\"[p=0.06, l=10.88]', '\"?\\n\\n\"[p=0.05, l=10.69]', '\" unknown\"[p=0.03, l=10.25]', '\" programmer\"[p=0.02, l=10.00]', '\" artist\"[p=0.02, l=10.00]', '\"???\"[p=0.02, l=9.88]', '\" entrepreneur\"[p=0.01, l=9.44]', '\" musician\"[p=0.01, l=9.38]', '\" scientist\"[p=0.01, l=9.25]', '\" \"[p=0.01, l=9.19]', '\" None\"[p=0.01, l=9.12]', '\" student\"[p=0.01, l=9.12]', '\" not\"[p=0.01, l=9.06]']\n",
      "token_idx=41 [\"ak\"] => ['\" tennis\"[p=0.39, l=14.94]', '\"?\\n\"[p=0.06, l=13.00]', '\"?\"[p=0.05, l=12.88]', '\" politician\"[p=0.03, l=12.38]', '\" actor\"[p=0.03, l=12.25]', '\" musician\"[p=0.02, l=12.12]', '\" football\"[p=0.02, l=12.06]', '\"??\"[p=0.02, l=11.94]', '\"?\\n\\n\"[p=0.02, l=11.69]', '\" Dj\"[p=0.01, l=11.38]', '\"???\"[p=0.01, l=11.38]', '\" unknown\"[p=0.01, l=11.31]', '\" (\"[p=0.01, l=11.25]', '\" athlete\"[p=0.01, l=11.06]', '\" volleyball\"[p=0.01, l=11.00]']\n",
      "token_idx=42 [\" Dj\"] => ['\" DJ\"[p=0.12, l=12.38]', '\" musician\"[p=0.11, l=12.31]', '\" dj\"[p=0.05, l=11.56]', '\" singer\"[p=0.05, l=11.50]', '\" programmer\"[p=0.03, l=11.06]', '\" Dj\"[p=0.03, l=10.81]', '\" software\"[p=0.02, l=10.75]', '\" disc\"[p=0.02, l=10.69]', '\" rapper\"[p=0.02, l=10.56]', '\" actor\"[p=0.01, l=10.19]', '\" unknown\"[p=0.01, l=10.19]', '\"??\"[p=0.01, l=10.00]', '\"?\\n\"[p=0.01, l=10.00]', '\" artist\"[p=0.01, l=9.81]', '\" Disc\"[p=0.01, l=9.75]']\n",
      "token_idx=43 [\"ok\"] => ['\" tennis\"[p=0.37, l=13.56]', '\"?\\n\"[p=0.04, l=11.31]', '\"?\"[p=0.03, l=10.94]', '\"??\"[p=0.03, l=10.94]', '\" musician\"[p=0.03, l=10.88]', '\" football\"[p=0.02, l=10.69]', '\"???\"[p=0.02, l=10.50]', '\" Nov\"[p=0.01, l=10.19]', '\"?\\n\\n\"[p=0.01, l=10.12]', '\" basketball\"[p=0.01, l=10.12]', '\" unknown\"[p=0.01, l=10.00]', '\" soccer\"[p=0.01, l=9.94]', '\" singer\"[p=0.01, l=9.94]', '\" athlete\"[p=0.01, l=9.94]', '\" politician\"[p=0.01, l=9.88]']\n",
      "token_idx=44 [\"ovic\"] => ['\" tennis\"[p=0.76, l=17.12]', '\"?\\n\"[p=0.02, l=13.69]', '\"?\"[p=0.01, l=13.12]', '\" athlete\"[p=0.01, l=13.00]', '\"??\"[p=0.01, l=12.81]', '\" Nov\"[p=0.01, l=12.75]', '\" professional\"[p=0.01, l=12.69]', '\" football\"[p=0.01, l=12.69]', '\" (\"[p=0.01, l=12.44]', '\" basketball\"[p=0.01, l=12.44]', '\" soccer\"[p=0.01, l=12.19]', '\" \\n\"[p=0.01, l=12.19]', '\" musician\"[p=0.01, l=12.12]', '\"?\\n\\n\"[p=0.00, l=12.06]', '\" unknown\"[p=0.00, l=11.94]']\n",
      "======================================================================================================================================================\n",
      "\n",
      "layer='model.layers.21'\n",
      "\n",
      "\"Ans:\" | cur_rng=(-2, 0)\n",
      "token_idx=-2 [\"Ans\"] => ['\"?\\n\"[p=0.05, l=10.25]', '\" Ans\"[p=0.05, l=10.25]', '\" unknown\"[p=0.03, l=9.81]', '\" artist\"[p=0.02, l=9.25]', '\" programmer\"[p=0.02, l=9.19]', '\"??\"[p=0.02, l=9.19]', '\" student\"[p=0.01, l=8.94]', '\"?\\n\\n\"[p=0.01, l=8.88]', '\" software\"[p=0.01, l=8.75]', '\" scientist\"[p=0.01, l=8.62]', '\" computer\"[p=0.01, l=8.62]', '\" person\"[p=0.01, l=8.62]', '\"???\"[p=0.01, l=8.56]', '\" entrepreneur\"[p=0.01, l=8.50]', '\" \\n\"[p=0.01, l=8.44]']\n",
      "token_idx=-1 [\":\"] => ['\"?\\n\"[p=0.06, l=10.69]', '\"?\\n\\n\"[p=0.04, l=10.31]', '\" unknown\"[p=0.03, l=9.88]', '\" (\"[p=0.02, l=9.56]', '\"?\"[p=0.02, l=9.56]', '\" ->\"[p=0.02, l=9.50]', '\" \\n\"[p=0.02, l=9.44]', '\" profession\"[p=0.01, l=9.25]', '\" entrepreneur\"[p=0.01, l=9.12]', '\" software\"[p=0.01, l=9.12]', '\" computer\"[p=0.01, l=9.12]', '\" lawyer\"[p=0.01, l=9.12]', '\"??\"[p=0.01, l=9.06]', '\"\\n\\n\"[p=0.01, l=9.06]', '\" person\"[p=0.01, l=8.94]']\n",
      "\n",
      "\" Johnny Depp\" | cur_rng=(13, 16)\n",
      "token_idx=13 [\" Johnny\"] => ['\" actor\"[p=0.09, l=12.56]', '\" musician\"[p=0.08, l=12.44]', '\" singer\"[p=0.06, l=12.25]', '\" unknown\"[p=0.06, l=12.25]', '\"?\\n\"[p=0.06, l=12.19]', '\"??\"[p=0.03, l=11.44]', '\"?\"[p=0.03, l=11.44]', '\"???\"[p=0.02, l=11.06]', '\" rock\"[p=0.02, l=11.00]', '\" no\"[p=0.02, l=10.81]', '\" (\"[p=0.02, l=10.81]', '\" Johnny\"[p=0.01, l=10.62]', '\" comedian\"[p=0.01, l=10.50]', '\"?\\n\\n\"[p=0.01, l=10.44]', '\" what\"[p=0.01, l=10.38]']\n",
      "token_idx=14 [\" De\"] => ['\" actor\"[p=0.17, l=11.00]', '\" pirate\"[p=0.03, l=9.31]', '\"?\\n\"[p=0.03, l=9.12]', '\"??\"[p=0.02, l=9.06]', '\" musician\"[p=0.02, l=9.00]', '\"?\"[p=0.02, l=8.94]', '\" unknown\"[p=0.01, l=8.56]', '\"???\"[p=0.01, l=8.31]', '\" artist\"[p=0.01, l=8.31]', '\" singer\"[p=0.01, l=8.12]', '\" De\"[p=0.01, l=8.06]', '\" \"[p=0.01, l=7.81]', '\"?\\n\\n\"[p=0.01, l=7.81]', '\" what\"[p=0.01, l=7.78]', '\" Johnny\"[p=0.01, l=7.72]']\n",
      "token_idx=15 [\"pp\"] => ['\" actor\"[p=0.96, l=18.88]', '\" Actor\"[p=0.01, l=14.06]', '\" movie\"[p=0.00, l=13.56]', '\" film\"[p=0.00, l=12.94]', '\" Johnny\"[p=0.00, l=12.44]', '\" (\"[p=0.00, l=12.25]', '\" \"[p=0.00, l=11.75]', '\" no\"[p=0.00, l=11.38]', '\" actors\"[p=0.00, l=11.19]', '\" not\"[p=0.00, l=11.06]', '\"?\\n\"[p=0.00, l=11.06]', '\" actress\"[p=0.00, l=11.00]', '\" ->\"[p=0.00, l=10.94]', '\"?\"[p=0.00, l=10.94]', '\" musician\"[p=0.00, l=10.94]']\n",
      "\n",
      "\" Marc Jacobs\" | cur_rng=(19, 21)\n",
      "token_idx=19 [\" Marc\"] => ['\"?\\n\"[p=0.11, l=12.44]', '\"?\"[p=0.05, l=11.56]', '\"?\\n\\n\"[p=0.04, l=11.44]', '\"??\"[p=0.04, l=11.38]', '\" unknown\"[p=0.03, l=11.25]', '\" actor\"[p=0.03, l=11.12]', '\"???\"[p=0.03, l=11.00]', '\" programmer\"[p=0.02, l=10.69]', '\" artist\"[p=0.02, l=10.69]', '\" musician\"[p=0.02, l=10.56]', '\" football\"[p=0.02, l=10.50]', '\" singer\"[p=0.02, l=10.50]', '\" engineer\"[p=0.01, l=10.31]', '\" software\"[p=0.01, l=10.31]', '\" entrepreneur\"[p=0.01, l=10.25]']\n",
      "token_idx=20 [\" Jacobs\"] => ['\" fashion\"[p=0.91, l=20.25]', '\" designer\"[p=0.07, l=17.62]', '\" Fashion\"[p=0.00, l=14.69]', '\" entrepreneur\"[p=0.00, l=13.81]', '\" \"[p=0.00, l=13.69]', '\" (\"[p=0.00, l=13.50]', '\" artist\"[p=0.00, l=13.31]', '\" model\"[p=0.00, l=13.12]', '\" Designer\"[p=0.00, l=12.81]', '\" clothing\"[p=0.00, l=12.81]', '\"f\"[p=0.00, l=12.69]', '\"?\"[p=0.00, l=12.44]', '\"?\\n\"[p=0.00, l=12.38]', '\" businessman\"[p=0.00, l=12.31]', '\"??\"[p=0.00, l=12.12]']\n",
      "\n",
      "\" Jennifer Lawrence\" | cur_rng=(22, 24)\n",
      "token_idx=22 [\" Jennifer\"] => ['\" actress\"[p=0.35, l=14.88]', '\" actor\"[p=0.08, l=13.44]', '\" singer\"[p=0.06, l=13.12]', '\" unknown\"[p=0.05, l=12.88]', '\"?\\n\"[p=0.04, l=12.81]', '\" lawyer\"[p=0.03, l=12.50]', '\"?\"[p=0.02, l=12.12]', '\"??\"[p=0.02, l=12.12]', '\" teacher\"[p=0.01, l=11.56]', '\" no\"[p=0.01, l=11.44]', '\"???\"[p=0.01, l=11.31]', '\" not\"[p=0.01, l=11.25]', '\" artist\"[p=0.01, l=11.25]', '\"?\\n\\n\"[p=0.01, l=11.19]', '\" (\"[p=0.01, l=11.19]']\n",
      "token_idx=23 [\" Lawrence\"] => ['\" actress\"[p=0.91, l=19.00]', '\" actor\"[p=0.05, l=16.12]', '\" movie\"[p=0.00, l=13.75]', '\" Actress\"[p=0.00, l=13.38]', '\" (\"[p=0.00, l=12.44]', '\" unknown\"[p=0.00, l=12.19]', '\" film\"[p=0.00, l=12.12]', '\"??\"[p=0.00, l=12.06]', '\" no\"[p=0.00, l=12.06]', '\" \"[p=0.00, l=12.06]', '\" singer\"[p=0.00, l=11.75]', '\" not\"[p=0.00, l=11.69]', '\"?\\n\"[p=0.00, l=11.56]', '\" act\"[p=0.00, l=11.44]', '\" Hollywood\"[p=0.00, l=11.38]']\n",
      "\n",
      "\" Giannis Antetokounmpo\" | cur_rng=(25, 33)\n",
      "token_idx=25 [\" Gi\"] => ['\"?\\n\"[p=0.13, l=11.56]', '\"?\"[p=0.04, l=10.31]', '\"??\"[p=0.03, l=10.12]', '\"?\\n\\n\"[p=0.02, l=9.75]', '\" artist\"[p=0.02, l=9.75]', '\" architect\"[p=0.02, l=9.62]', '\" singer\"[p=0.02, l=9.56]', '\" musician\"[p=0.02, l=9.38]', '\"???\"[p=0.01, l=9.19]', '\" entrepreneur\"[p=0.01, l=9.19]', '\" \\n\"[p=0.01, l=9.06]', '\" unknown\"[p=0.01, l=9.00]', '\" \"[p=0.01, l=8.81]', '\" engineer\"[p=0.01, l=8.75]', '\" what\"[p=0.01, l=8.69]']\n",
      "token_idx=26 [\"annis\"] => ['\" basketball\"[p=0.25, l=14.56]', '\" unknown\"[p=0.07, l=13.31]', '\" ancient\"[p=0.06, l=13.19]', '\"?\\n\"[p=0.06, l=13.19]', '\"??\"[p=0.03, l=12.56]', '\" politician\"[p=0.03, l=12.50]', '\" football\"[p=0.03, l=12.25]', '\"?\"[p=0.03, l=12.25]', '\"?\\n\\n\"[p=0.02, l=12.12]', '\" (\"[p=0.01, l=11.69]', '\" Greek\"[p=0.01, l=11.56]', '\"???\"[p=0.01, l=11.50]', '\" soccer\"[p=0.01, l=11.38]', '\" athlete\"[p=0.01, l=11.38]', '\" \\n\"[p=0.01, l=11.25]']\n",
      "token_idx=27 [\" Ant\"] => ['\" software\"[p=0.17, l=13.31]', '\" programmer\"[p=0.08, l=12.62]', '\" actor\"[p=0.08, l=12.56]', '\" developer\"[p=0.04, l=11.94]', '\"??\"[p=0.04, l=11.88]', '\" lawyer\"[p=0.03, l=11.69]', '\" ant\"[p=0.02, l=11.31]', '\" ent\"[p=0.02, l=11.25]', '\"?\\n\"[p=0.02, l=11.19]', '\"???\"[p=0.01, l=10.88]', '\" Ant\"[p=0.01, l=10.75]', '\" computer\"[p=0.01, l=10.75]', '\" chess\"[p=0.01, l=10.69]', '\"?\"[p=0.01, l=10.69]', '\" musician\"[p=0.01, l=10.56]']\n",
      "token_idx=28 [\"et\"] => ['\" unknown\"[p=0.06, l=10.69]', '\"?\\n\"[p=0.05, l=10.44]', '\"??\"[p=0.04, l=10.25]', '\"?\"[p=0.03, l=10.00]', '\"???\"[p=0.02, l=9.44]', '\" no\"[p=0.02, l=9.44]', '\" not\"[p=0.02, l=9.38]', '\"?\\n\\n\"[p=0.01, l=9.06]', '\" (\"[p=0.01, l=9.06]', '\" football\"[p=0.01, l=9.00]', '\" politician\"[p=0.01, l=8.75]', '\" artist\"[p=0.01, l=8.75]', '\" athlete\"[p=0.01, l=8.69]', '\" \"[p=0.01, l=8.69]', '\" musician\"[p=0.01, l=8.62]']\n",
      "token_idx=29 [\"ok\"] => ['\" unknown\"[p=0.04, l=10.94]', '\"??\"[p=0.04, l=10.88]', '\"?\\n\"[p=0.03, l=10.75]', '\"???\"[p=0.03, l=10.44]', '\"?\"[p=0.02, l=10.12]', '\" artist\"[p=0.02, l=10.12]', '\" musician\"[p=0.02, l=10.00]', '\" actor\"[p=0.02, l=10.00]', '\" astronaut\"[p=0.01, l=9.88]', '\" no\"[p=0.01, l=9.81]', '\" entrepreneur\"[p=0.01, l=9.81]', '\" programmer\"[p=0.01, l=9.75]', '\"?\\n\\n\"[p=0.01, l=9.69]', '\" singer\"[p=0.01, l=9.62]', '\" (\"[p=0.01, l=9.56]']\n",
      "token_idx=30 [\"oun\"] => ['\" basketball\"[p=0.21, l=12.56]', '\"?\\n\"[p=0.04, l=10.88]', '\" unknown\"[p=0.04, l=10.88]', '\"??\"[p=0.03, l=10.69]', '\" football\"[p=0.03, l=10.50]', '\" athlete\"[p=0.02, l=10.25]', '\"?\"[p=0.02, l=10.25]', '\" politician\"[p=0.02, l=9.94]', '\" soccer\"[p=0.01, l=9.88]', '\"?\\n\\n\"[p=0.01, l=9.81]', '\" Greek\"[p=0.01, l=9.75]', '\" no\"[p=0.01, l=9.75]', '\" musician\"[p=0.01, l=9.62]', '\" not\"[p=0.01, l=9.62]', '\" (\"[p=0.01, l=9.56]']\n",
      "token_idx=31 [\"mp\"] => ['\"?\\n\"[p=0.17, l=13.06]', '\"??\"[p=0.16, l=13.00]', '\"?\"[p=0.07, l=12.19]', '\"?\\n\\n\"[p=0.06, l=11.94]', '\"???\"[p=0.03, l=11.25]', '\" \\n\"[p=0.02, l=11.00]', '\" musician\"[p=0.02, l=10.88]', '\" mp\"[p=0.02, l=10.81]', '\" politician\"[p=0.01, l=10.50]', '\" lawyer\"[p=0.01, l=10.50]', '\" actor\"[p=0.01, l=10.44]', '\" singer\"[p=0.01, l=10.44]', '\" artist\"[p=0.01, l=10.38]', '\" (\"[p=0.01, l=9.94]', '\" \"[p=0.01, l=9.94]']\n",
      "token_idx=32 [\"o\"] => ['\" basketball\"[p=0.21, l=13.00]', '\" football\"[p=0.05, l=11.62]', '\" unknown\"[p=0.05, l=11.56]', '\" soccer\"[p=0.05, l=11.50]', '\"?\\n\"[p=0.04, l=11.38]', '\"??\"[p=0.03, l=11.06]', '\"?\"[p=0.02, l=10.69]', '\" athlete\"[p=0.02, l=10.62]', '\" (\"[p=0.02, l=10.38]', '\" entrepreneur\"[p=0.01, l=10.31]', '\"?\\n\\n\"[p=0.01, l=10.25]', '\" \\n\"[p=0.01, l=10.06]', '\"???\"[p=0.01, l=10.00]', '\" not\"[p=0.01, l=10.00]', '\" professional\"[p=0.01, l=9.94]']\n",
      "\n",
      "\" Beyoncé\" | cur_rng=(34, 36)\n",
      "token_idx=34 [\" Bey\"] => ['\" singer\"[p=0.79, l=17.50]', '\" musician\"[p=0.06, l=15.00]', '\" pop\"[p=0.03, l=14.38]', '\" Singer\"[p=0.01, l=13.19]', '\" music\"[p=0.01, l=13.19]', '\" artist\"[p=0.01, l=13.00]', '\" performer\"[p=0.00, l=12.44]', '\" entert\"[p=0.00, l=12.31]', '\" actress\"[p=0.00, l=12.25]', '\" Music\"[p=0.00, l=12.00]', '\" \"[p=0.00, l=11.81]', '\" celebrity\"[p=0.00, l=11.62]', '\" songwriter\"[p=0.00, l=11.56]', '\"??\"[p=0.00, l=11.25]', '\" entrepreneur\"[p=0.00, l=11.19]']\n",
      "token_idx=35 [\"oncé\"] => ['\" singer\"[p=0.96, l=23.00]', '\" musician\"[p=0.03, l=19.38]', '\" pop\"[p=0.00, l=17.38]', '\" Singer\"[p=0.00, l=16.75]', '\" actress\"[p=0.00, l=16.75]', '\" entert\"[p=0.00, l=16.50]', '\" music\"[p=0.00, l=16.12]', '\" artist\"[p=0.00, l=15.81]', '\" \"[p=0.00, l=15.25]', '\" Music\"[p=0.00, l=15.06]', '\" performer\"[p=0.00, l=14.50]', '\" songwriter\"[p=0.00, l=14.38]', '\" actor\"[p=0.00, l=14.25]', '\" vocalist\"[p=0.00, l=14.19]', '\" (\"[p=0.00, l=14.19]']\n",
      "\n",
      "\" Stephen King\" | cur_rng=(37, 39)\n",
      "token_idx=37 [\" Stephen\"] => ['\"?\\n\"[p=0.10, l=13.06]', '\" philosopher\"[p=0.09, l=12.94]', '\" actor\"[p=0.07, l=12.69]', '\" unknown\"[p=0.03, l=12.00]', '\"?\"[p=0.03, l=12.00]', '\" writer\"[p=0.03, l=11.81]', '\"??\"[p=0.03, l=11.75]', '\" author\"[p=0.02, l=11.50]', '\"???\"[p=0.02, l=11.31]', '\" programmer\"[p=0.02, l=11.25]', '\" king\"[p=0.02, l=11.19]', '\" software\"[p=0.02, l=11.19]', '\"?\\n\\n\"[p=0.01, l=11.12]', '\" no\"[p=0.01, l=11.00]', '\" (\"[p=0.01, l=10.88]']\n",
      "token_idx=38 [\" King\"] => ['\" author\"[p=0.46, l=21.62]', '\" writer\"[p=0.41, l=21.50]', '\" novelist\"[p=0.12, l=20.25]', '\" Author\"[p=0.00, l=16.12]', '\" Writer\"[p=0.00, l=15.75]', '\" (\"[p=0.00, l=15.19]', '\" horror\"[p=0.00, l=15.19]', '\" \"[p=0.00, l=14.94]', '\" fiction\"[p=0.00, l=14.75]', '\"author\"[p=0.00, l=14.31]', '\" Nov\"[p=0.00, l=14.31]', '\"writer\"[p=0.00, l=14.25]', '\" novel\"[p=0.00, l=14.06]', '\" write\"[p=0.00, l=13.88]', '\"?\"[p=0.00, l=13.19]']\n",
      "\n",
      "\" Novak Djokovic\" | cur_rng=(40, 45)\n",
      "token_idx=40 [\" Nov\"] => ['\"?\\n\"[p=0.15, l=12.19]', '\"?\"[p=0.07, l=11.38]', '\"??\"[p=0.06, l=11.31]', '\"?\\n\\n\"[p=0.06, l=11.31]', '\" programmer\"[p=0.02, l=10.31]', '\" artist\"[p=0.02, l=10.31]', '\"???\"[p=0.02, l=10.25]', '\" unknown\"[p=0.02, l=10.19]', '\" entrepreneur\"[p=0.02, l=10.00]', '\" musician\"[p=0.01, l=9.69]', '\" student\"[p=0.01, l=9.50]', '\" what\"[p=0.01, l=9.50]', '\" scientist\"[p=0.01, l=9.50]', '\" singer\"[p=0.01, l=9.38]', '\" \"[p=0.01, l=9.31]']\n",
      "token_idx=41 [\"ak\"] => ['\" tennis\"[p=0.29, l=14.50]', '\"?\\n\"[p=0.10, l=13.44]', '\"?\"[p=0.09, l=13.31]', '\"?\\n\\n\"[p=0.03, l=12.38]', '\" musician\"[p=0.03, l=12.31]', '\"??\"[p=0.03, l=12.12]', '\" politician\"[p=0.02, l=12.00]', '\" Dj\"[p=0.02, l=11.69]', '\" actor\"[p=0.02, l=11.62]', '\"???\"[p=0.01, l=11.50]', '\" unknown\"[p=0.01, l=11.50]', '\" football\"[p=0.01, l=11.25]', '\" (\"[p=0.01, l=11.12]', '\" \\n\"[p=0.01, l=10.94]', '\" what\"[p=0.01, l=10.81]']\n",
      "token_idx=42 [\" Dj\"] => ['\" DJ\"[p=0.07, l=11.44]', '\" musician\"[p=0.04, l=10.94]', '\" rapper\"[p=0.04, l=10.88]', '\" singer\"[p=0.04, l=10.81]', '\" programmer\"[p=0.02, l=10.31]', '\" software\"[p=0.02, l=10.31]', '\" dj\"[p=0.02, l=10.31]', '\" actor\"[p=0.02, l=10.25]', '\" disc\"[p=0.02, l=10.00]', '\" Dj\"[p=0.02, l=9.88]', '\"?\\n\"[p=0.01, l=9.75]', '\"??\"[p=0.01, l=9.75]', '\" unknown\"[p=0.01, l=9.62]', '\" Disc\"[p=0.01, l=9.50]', '\" lawyer\"[p=0.01, l=9.25]']\n",
      "token_idx=43 [\"ok\"] => ['\" tennis\"[p=0.23, l=12.75]', '\"?\\n\"[p=0.06, l=11.38]', '\" musician\"[p=0.04, l=10.94]', '\"??\"[p=0.04, l=10.88]', '\"?\"[p=0.03, l=10.81]', '\"???\"[p=0.02, l=10.44]', '\"?\\n\\n\"[p=0.02, l=10.44]', '\" Nov\"[p=0.02, l=10.12]', '\" unknown\"[p=0.01, l=10.00]', '\" singer\"[p=0.01, l=9.88]', '\" football\"[p=0.01, l=9.75]', '\" no\"[p=0.01, l=9.75]', '\" Dj\"[p=0.01, l=9.62]', '\" (\"[p=0.01, l=9.62]', '\" athlete\"[p=0.01, l=9.44]']\n",
      "token_idx=44 [\"ovic\"] => ['\" tennis\"[p=0.68, l=16.62]', '\"?\\n\"[p=0.04, l=13.81]', '\" athlete\"[p=0.02, l=13.25]', '\"?\"[p=0.02, l=13.19]', '\"??\"[p=0.01, l=12.75]', '\" professional\"[p=0.01, l=12.62]', '\"?\\n\\n\"[p=0.01, l=12.50]', '\" unknown\"[p=0.01, l=12.25]', '\" (\"[p=0.01, l=12.19]', '\" Nov\"[p=0.01, l=12.12]', '\" musician\"[p=0.01, l=12.12]', '\" \\n\"[p=0.01, l=11.94]', '\" politician\"[p=0.01, l=11.81]', '\" football\"[p=0.01, l=11.81]', '\"???\"[p=0.01, l=11.81]']\n",
      "======================================================================================================================================================\n",
      "\n",
      "layer='model.layers.24'\n",
      "\n",
      "\"Ans:\" | cur_rng=(-2, 0)\n",
      "token_idx=-2 [\"Ans\"] => ['\"?\\n\"[p=0.05, l=10.19]', '\" Ans\"[p=0.04, l=10.00]', '\" unknown\"[p=0.03, l=9.75]', '\" artist\"[p=0.03, l=9.56]', '\"?\\n\\n\"[p=0.02, l=9.12]', '\" programmer\"[p=0.02, l=9.12]', '\"??\"[p=0.02, l=9.06]', '\" software\"[p=0.01, l=8.75]', '\" student\"[p=0.01, l=8.56]', '\" answer\"[p=0.01, l=8.56]', '\" computer\"[p=0.01, l=8.50]', '\" actor\"[p=0.01, l=8.50]', '\" musician\"[p=0.01, l=8.50]', '\" scientist\"[p=0.01, l=8.44]', '\" person\"[p=0.01, l=8.44]']\n",
      "token_idx=-1 [\":\"] => ['\"?\\n\"[p=0.12, l=11.81]', '\"?\\n\\n\"[p=0.10, l=11.56]', '\"?\"[p=0.04, l=10.75]', '\"??\"[p=0.03, l=10.25]', '\" \\n\"[p=0.03, l=10.25]', '\" (\"[p=0.02, l=10.06]', '\" lawyer\"[p=0.02, l=9.94]', '\" software\"[p=0.02, l=9.75]', '\" unknown\"[p=0.01, l=9.56]', '\" artist\"[p=0.01, l=9.56]', '\" politician\"[p=0.01, l=9.50]', '\"\\n\\n\"[p=0.01, l=9.44]', '\"???\"[p=0.01, l=9.25]', '\" actor\"[p=0.01, l=9.25]', '\" computer\"[p=0.01, l=9.19]']\n",
      "\n",
      "\" Johnny Depp\" | cur_rng=(13, 16)\n",
      "token_idx=13 [\" Johnny\"] => ['\" actor\"[p=0.08, l=12.44]', '\"?\\n\"[p=0.07, l=12.19]', '\" unknown\"[p=0.06, l=12.12]', '\" musician\"[p=0.06, l=12.12]', '\" singer\"[p=0.06, l=12.12]', '\"?\"[p=0.03, l=11.50]', '\"??\"[p=0.03, l=11.31]', '\"???\"[p=0.02, l=10.94]', '\" (\"[p=0.02, l=10.81]', '\" no\"[p=0.01, l=10.69]', '\" comedian\"[p=0.01, l=10.62]', '\" Johnny\"[p=0.01, l=10.50]', '\" football\"[p=0.01, l=10.44]', '\" rock\"[p=0.01, l=10.44]', '\"?\\n\\n\"[p=0.01, l=10.44]']\n",
      "token_idx=14 [\" De\"] => ['\" actor\"[p=0.16, l=10.94]', '\"?\\n\"[p=0.05, l=9.75]', '\"??\"[p=0.04, l=9.56]', '\"?\"[p=0.04, l=9.44]', '\" musician\"[p=0.02, l=9.06]', '\" pirate\"[p=0.02, l=8.94]', '\"?\\n\\n\"[p=0.02, l=8.62]', '\"???\"[p=0.01, l=8.56]', '\" unknown\"[p=0.01, l=8.56]', '\" singer\"[p=0.01, l=8.38]', '\" artist\"[p=0.01, l=8.12]', '\" what\"[p=0.01, l=7.94]', '\" \\n\"[p=0.01, l=7.88]', '\" \"[p=0.01, l=7.81]', '\" De\"[p=0.01, l=7.69]']\n",
      "token_idx=15 [\"pp\"] => ['\" actor\"[p=0.95, l=18.25]', '\" Actor\"[p=0.01, l=13.56]', '\" movie\"[p=0.00, l=12.88]', '\" film\"[p=0.00, l=12.19]', '\" Johnny\"[p=0.00, l=12.12]', '\" (\"[p=0.00, l=11.75]', '\"?\\n\"[p=0.00, l=11.62]', '\" \"[p=0.00, l=11.38]', '\"??\"[p=0.00, l=11.31]', '\" no\"[p=0.00, l=11.12]', '\"?\"[p=0.00, l=11.06]', '\" unknown\"[p=0.00, l=11.06]', '\" musician\"[p=0.00, l=11.00]', '\" actress\"[p=0.00, l=10.94]', '\" not\"[p=0.00, l=10.81]']\n",
      "\n",
      "\" Marc Jacobs\" | cur_rng=(19, 21)\n",
      "token_idx=19 [\" Marc\"] => ['\"?\\n\"[p=0.10, l=12.38]', '\"?\"[p=0.05, l=11.56]', '\"??\"[p=0.04, l=11.44]', '\"?\\n\\n\"[p=0.04, l=11.44]', '\" unknown\"[p=0.04, l=11.31]', '\"???\"[p=0.03, l=11.06]', '\" actor\"[p=0.03, l=10.94]', '\" programmer\"[p=0.02, l=10.69]', '\" artist\"[p=0.02, l=10.69]', '\" musician\"[p=0.02, l=10.44]', '\" software\"[p=0.01, l=10.31]', '\" politician\"[p=0.01, l=10.25]', '\" entrepreneur\"[p=0.01, l=10.25]', '\" engineer\"[p=0.01, l=10.25]', '\" singer\"[p=0.01, l=10.25]']\n",
      "token_idx=20 [\" Jacobs\"] => ['\" fashion\"[p=0.89, l=19.12]', '\" designer\"[p=0.07, l=16.62]', '\" Fashion\"[p=0.00, l=13.81]', '\" Marc\"[p=0.00, l=13.12]', '\" (\"[p=0.00, l=12.94]', '\" \"[p=0.00, l=12.88]', '\" artist\"[p=0.00, l=12.56]', '\" entrepreneur\"[p=0.00, l=12.44]', '\" model\"[p=0.00, l=12.44]', '\"?\\n\"[p=0.00, l=12.31]', '\" Designer\"[p=0.00, l=12.25]', '\"?\"[p=0.00, l=12.00]', '\" unknown\"[p=0.00, l=12.00]', '\" clothing\"[p=0.00, l=11.88]', '\"f\"[p=0.00, l=11.81]']\n",
      "\n",
      "\" Jennifer Lawrence\" | cur_rng=(22, 24)\n",
      "token_idx=22 [\" Jennifer\"] => ['\" actress\"[p=0.48, l=15.44]', '\" actor\"[p=0.08, l=13.69]', '\" singer\"[p=0.06, l=13.31]', '\"?\\n\"[p=0.04, l=12.94]', '\" unknown\"[p=0.03, l=12.56]', '\"??\"[p=0.02, l=12.25]', '\" lawyer\"[p=0.02, l=12.19]', '\"?\"[p=0.02, l=12.12]', '\" movie\"[p=0.01, l=11.50]', '\" teacher\"[p=0.01, l=11.31]', '\"?\\n\\n\"[p=0.01, l=11.25]', '\"???\"[p=0.01, l=11.12]', '\" model\"[p=0.01, l=11.12]', '\" no\"[p=0.01, l=11.12]', '\" (\"[p=0.01, l=11.12]']\n",
      "token_idx=23 [\" Lawrence\"] => ['\" actress\"[p=0.91, l=18.50]', '\" actor\"[p=0.04, l=15.38]', '\" movie\"[p=0.00, l=13.19]', '\" Actress\"[p=0.00, l=12.81]', '\" unknown\"[p=0.00, l=12.31]', '\" (\"[p=0.00, l=12.25]', '\"??\"[p=0.00, l=12.12]', '\"?\\n\"[p=0.00, l=12.00]', '\" no\"[p=0.00, l=12.00]', '\" not\"[p=0.00, l=11.62]', '\" Jennifer\"[p=0.00, l=11.62]', '\" \"[p=0.00, l=11.62]', '\"?\"[p=0.00, l=11.31]', '\" film\"[p=0.00, l=11.31]', '\" singer\"[p=0.00, l=11.25]']\n",
      "\n",
      "\" Giannis Antetokounmpo\" | cur_rng=(25, 33)\n",
      "token_idx=25 [\" Gi\"] => ['\"?\\n\"[p=0.18, l=12.06]', '\"?\"[p=0.05, l=10.75]', '\"?\\n\\n\"[p=0.04, l=10.50]', '\"??\"[p=0.04, l=10.50]', '\" artist\"[p=0.02, l=9.88]', '\"???\"[p=0.02, l=9.56]', '\" architect\"[p=0.01, l=9.44]', '\" singer\"[p=0.01, l=9.38]', '\" musician\"[p=0.01, l=9.31]', '\" \\n\"[p=0.01, l=9.25]', '\" unknown\"[p=0.01, l=9.19]', '\" entrepreneur\"[p=0.01, l=9.12]', '\" what\"[p=0.01, l=9.06]', '\" \"[p=0.01, l=9.06]', '\" engineer\"[p=0.01, l=8.88]']\n",
      "token_idx=26 [\"annis\"] => ['\"?\\n\"[p=0.14, l=13.69]', '\" unknown\"[p=0.08, l=13.19]', '\"?\\n\\n\"[p=0.07, l=12.94]', '\" basketball\"[p=0.07, l=12.94]', '\"?\"[p=0.05, l=12.69]', '\"??\"[p=0.04, l=12.44]', '\" politician\"[p=0.04, l=12.38]', '\" football\"[p=0.03, l=12.12]', '\" ancient\"[p=0.03, l=12.00]', '\"???\"[p=0.02, l=11.69]', '\" philosopher\"[p=0.01, l=11.44]', '\" soccer\"[p=0.01, l=11.44]', '\" software\"[p=0.01, l=11.19]', '\" Greek\"[p=0.01, l=11.06]', '\" musician\"[p=0.01, l=10.94]']\n",
      "token_idx=27 [\" Ant\"] => ['\" actor\"[p=0.10, l=12.44]', '\" chess\"[p=0.07, l=12.12]', '\"??\"[p=0.05, l=11.75]', '\" programmer\"[p=0.05, l=11.69]', '\" software\"[p=0.03, l=11.38]', '\"?\\n\"[p=0.03, l=11.31]', '\" artist\"[p=0.03, l=11.12]', '\"???\"[p=0.02, l=10.75]', '\" architect\"[p=0.02, l=10.75]', '\"?\"[p=0.02, l=10.69]', '\" lawyer\"[p=0.02, l=10.69]', '\" computer\"[p=0.01, l=10.50]', '\" musician\"[p=0.01, l=10.38]', '\" developer\"[p=0.01, l=10.25]', '\" philosopher\"[p=0.01, l=10.12]']\n",
      "token_idx=28 [\"et\"] => ['\"?\\n\"[p=0.07, l=10.81]', '\" unknown\"[p=0.06, l=10.75]', '\"??\"[p=0.06, l=10.69]', '\"?\"[p=0.05, l=10.44]', '\"???\"[p=0.03, l=9.81]', '\"?\\n\\n\"[p=0.03, l=9.81]', '\" not\"[p=0.02, l=9.44]', '\" no\"[p=0.02, l=9.44]', '\" (\"[p=0.01, l=9.00]', '\" politician\"[p=0.01, l=8.88]', '\" \"[p=0.01, l=8.75]', '\" artist\"[p=0.01, l=8.69]', '\" athlete\"[p=0.01, l=8.62]', '\" \\n\"[p=0.01, l=8.50]', '\" I\"[p=0.01, l=8.50]']\n",
      "token_idx=29 [\"ok\"] => ['\"??\"[p=0.08, l=11.75]', '\"?\\n\"[p=0.06, l=11.56]', '\" unknown\"[p=0.06, l=11.50]', '\"???\"[p=0.05, l=11.38]', '\"?\"[p=0.03, l=10.88]', '\"?\\n\\n\"[p=0.03, l=10.88]', '\" programmer\"[p=0.02, l=10.31]', '\" artist\"[p=0.02, l=10.19]', '\" astronaut\"[p=0.01, l=10.06]', '\" no\"[p=0.01, l=10.00]', '\" entrepreneur\"[p=0.01, l=10.00]', '\" software\"[p=0.01, l=9.88]', '\" politician\"[p=0.01, l=9.88]', '\" musician\"[p=0.01, l=9.88]', '\" (\"[p=0.01, l=9.75]']\n",
      "token_idx=30 [\"oun\"] => ['\" basketball\"[p=0.11, l=11.81]', '\"?\\n\"[p=0.06, l=11.25]', '\" unknown\"[p=0.06, l=11.19]', '\"??\"[p=0.05, l=11.00]', '\"?\"[p=0.04, l=10.69]', '\"?\\n\\n\"[p=0.03, l=10.44]', '\" athlete\"[p=0.02, l=10.12]', '\" politician\"[p=0.02, l=10.00]', '\" football\"[p=0.02, l=10.00]', '\"???\"[p=0.02, l=9.94]', '\" no\"[p=0.02, l=9.88]', '\" not\"[p=0.01, l=9.69]', '\" Greek\"[p=0.01, l=9.69]', '\" I\"[p=0.01, l=9.44]', '\" (\"[p=0.01, l=9.44]']\n",
      "token_idx=31 [\"mp\"] => ['\"??\"[p=0.12, l=11.81]', '\"?\\n\"[p=0.06, l=11.06]', '\" programmer\"[p=0.05, l=11.00]', '\"???\"[p=0.05, l=10.94]', '\"?\"[p=0.04, l=10.69]', '\" unknown\"[p=0.03, l=10.50]', '\" computer\"[p=0.03, l=10.38]', '\"?\\n\\n\"[p=0.03, l=10.25]', '\" software\"[p=0.02, l=10.12]', '\" error\"[p=0.01, l=9.69]', '\" (\"[p=0.01, l=9.69]', '\" musician\"[p=0.01, l=9.62]', '\" not\"[p=0.01, l=9.44]', '\" hacker\"[p=0.01, l=9.31]', '\" \"[p=0.01, l=9.25]']\n",
      "token_idx=32 [\"o\"] => ['\" unknown\"[p=0.08, l=11.81]', '\"?\\n\"[p=0.07, l=11.69]', '\" basketball\"[p=0.06, l=11.62]', '\" football\"[p=0.06, l=11.56]', '\"??\"[p=0.04, l=11.12]', '\" soccer\"[p=0.04, l=11.06]', '\"?\"[p=0.03, l=10.94]', '\"?\\n\\n\"[p=0.03, l=10.75]', '\" athlete\"[p=0.02, l=10.56]', '\" entrepreneur\"[p=0.02, l=10.44]', '\"???\"[p=0.02, l=10.31]', '\" (\"[p=0.01, l=10.19]', '\" software\"[p=0.01, l=10.00]', '\" \\n\"[p=0.01, l=9.94]', '\" not\"[p=0.01, l=9.94]']\n",
      "\n",
      "\" Beyoncé\" | cur_rng=(34, 36)\n",
      "token_idx=34 [\" Bey\"] => ['\" singer\"[p=0.73, l=16.38]', '\" musician\"[p=0.06, l=13.88]', '\" pop\"[p=0.04, l=13.38]', '\" Singer\"[p=0.01, l=12.31]', '\" music\"[p=0.01, l=12.12]', '\" artist\"[p=0.01, l=12.06]', '\" actress\"[p=0.01, l=11.50]', '\" performer\"[p=0.01, l=11.50]', '\" entert\"[p=0.00, l=11.25]', '\" \"[p=0.00, l=11.06]', '\" Music\"[p=0.00, l=11.06]', '\"??\"[p=0.00, l=10.94]', '\" celebrity\"[p=0.00, l=10.88]', '\" songwriter\"[p=0.00, l=10.75]', '\" entrepreneur\"[p=0.00, l=10.56]']\n",
      "token_idx=35 [\"oncé\"] => ['\" singer\"[p=0.95, l=22.38]', '\" musician\"[p=0.03, l=18.75]', '\" pop\"[p=0.01, l=17.12]', '\" actress\"[p=0.00, l=17.00]', '\" entert\"[p=0.00, l=16.38]', '\" Singer\"[p=0.00, l=16.12]', '\" music\"[p=0.00, l=15.56]', '\" artist\"[p=0.00, l=15.38]', '\" \"[p=0.00, l=14.88]', '\" Music\"[p=0.00, l=14.62]', '\" actor\"[p=0.00, l=14.50]', '\" performer\"[p=0.00, l=13.88]', '\" songwriter\"[p=0.00, l=13.88]', '\" (\"[p=0.00, l=13.75]', '\" \\n\"[p=0.00, l=13.69]']\n",
      "\n",
      "\" Stephen King\" | cur_rng=(37, 39)\n",
      "token_idx=37 [\" Stephen\"] => ['\"?\\n\"[p=0.12, l=13.25]', '\" philosopher\"[p=0.09, l=12.94]', '\" actor\"[p=0.05, l=12.31]', '\"?\"[p=0.04, l=12.19]', '\" unknown\"[p=0.04, l=12.12]', '\"??\"[p=0.03, l=11.88]', '\" king\"[p=0.03, l=11.69]', '\" programmer\"[p=0.02, l=11.44]', '\" writer\"[p=0.02, l=11.44]', '\"?\\n\\n\"[p=0.02, l=11.44]', '\"???\"[p=0.02, l=11.31]', '\" no\"[p=0.01, l=11.12]', '\" software\"[p=0.01, l=11.06]', '\" author\"[p=0.01, l=11.06]', '\" King\"[p=0.01, l=11.06]']\n",
      "token_idx=38 [\" King\"] => ['\" writer\"[p=0.44, l=19.62]', '\" author\"[p=0.44, l=19.62]', '\" novelist\"[p=0.10, l=18.12]', '\" Author\"[p=0.00, l=14.88]', '\" Writer\"[p=0.00, l=14.75]', '\" (\"[p=0.00, l=14.25]', '\" horror\"[p=0.00, l=14.00]', '\" \"[p=0.00, l=13.50]', '\" Stephen\"[p=0.00, l=13.25]', '\"?\\n\"[p=0.00, l=12.94]', '\" fiction\"[p=0.00, l=12.81]', '\"writer\"[p=0.00, l=12.75]', '\" Nov\"[p=0.00, l=12.69]', '\" write\"[p=0.00, l=12.62]', '\"author\"[p=0.00, l=12.62]']\n",
      "\n",
      "\" Novak Djokovic\" | cur_rng=(40, 45)\n",
      "token_idx=40 [\" Nov\"] => ['\"?\\n\"[p=0.12, l=11.75]', '\"??\"[p=0.06, l=11.06]', '\"?\"[p=0.05, l=10.88]', '\"?\\n\\n\"[p=0.04, l=10.75]', '\" artist\"[p=0.02, l=10.12]', '\"???\"[p=0.02, l=10.00]', '\" programmer\"[p=0.02, l=9.94]', '\" unknown\"[p=0.02, l=9.94]', '\" entrepreneur\"[p=0.01, l=9.56]', '\" musician\"[p=0.01, l=9.50]', '\" scientist\"[p=0.01, l=9.44]', '\" politician\"[p=0.01, l=9.44]', '\" Nov\"[p=0.01, l=9.38]', '\" singer\"[p=0.01, l=9.25]', '\" what\"[p=0.01, l=9.12]']\n",
      "token_idx=41 [\"ak\"] => ['\" tennis\"[p=0.19, l=14.00]', '\"?\\n\"[p=0.15, l=13.75]', '\"?\"[p=0.11, l=13.44]', '\"?\\n\\n\"[p=0.06, l=12.81]', '\" politician\"[p=0.04, l=12.38]', '\"??\"[p=0.03, l=12.25]', '\" musician\"[p=0.03, l=12.25]', '\" unknown\"[p=0.02, l=11.69]', '\"???\"[p=0.02, l=11.56]', '\" Dj\"[p=0.01, l=11.38]', '\" football\"[p=0.01, l=11.19]', '\" actor\"[p=0.01, l=11.12]', '\" what\"[p=0.01, l=11.00]', '\" \\n\"[p=0.01, l=10.88]', '\" (\"[p=0.01, l=10.88]']\n",
      "token_idx=42 [\" Dj\"] => ['\" DJ\"[p=0.06, l=11.31]', '\" singer\"[p=0.05, l=11.19]', '\" actor\"[p=0.04, l=11.00]', '\" musician\"[p=0.04, l=11.00]', '\" programmer\"[p=0.04, l=10.88]', '\" software\"[p=0.03, l=10.50]', '\" dj\"[p=0.02, l=10.19]', '\" rapper\"[p=0.02, l=10.12]', '\"?\\n\"[p=0.02, l=10.00]', '\"??\"[p=0.01, l=9.88]', '\" Dj\"[p=0.01, l=9.75]', '\" unknown\"[p=0.01, l=9.62]', '\" lawyer\"[p=0.01, l=9.50]', '\" journalist\"[p=0.01, l=9.44]', '\" artist\"[p=0.01, l=9.44]']\n",
      "token_idx=43 [\"ok\"] => ['\" tennis\"[p=0.16, l=12.19]', '\"?\\n\"[p=0.05, l=11.12]', '\" musician\"[p=0.04, l=10.94]', '\"??\"[p=0.04, l=10.88]', '\"?\"[p=0.03, l=10.56]', '\"???\"[p=0.03, l=10.44]', '\" unknown\"[p=0.02, l=10.19]', '\" singer\"[p=0.02, l=10.06]', '\"?\\n\\n\"[p=0.02, l=10.00]', '\" Dj\"[p=0.01, l=9.62]', '\" football\"[p=0.01, l=9.56]', '\" Nov\"[p=0.01, l=9.50]', '\" politician\"[p=0.01, l=9.44]', '\" no\"[p=0.01, l=9.44]', '\" dj\"[p=0.01, l=9.38]']\n",
      "token_idx=44 [\"ovic\"] => ['\" tennis\"[p=0.38, l=15.50]', '\"?\\n\"[p=0.13, l=14.44]', '\"?\"[p=0.06, l=13.69]', '\"?\\n\\n\"[p=0.05, l=13.50]', '\"??\"[p=0.03, l=12.94]', '\" football\"[p=0.03, l=12.88]', '\" unknown\"[p=0.03, l=12.81]', '\" soccer\"[p=0.03, l=12.81]', '\" athlete\"[p=0.02, l=12.62]', '\" \\n\"[p=0.01, l=12.06]', '\"???\"[p=0.01, l=11.88]', '\" (\"[p=0.01, l=11.81]', '\" professional\"[p=0.01, l=11.56]', '\" \"[p=0.01, l=11.56]', '\" politician\"[p=0.01, l=11.56]']\n",
      "======================================================================================================================================================\n",
      "\n",
      "layer='model.layers.27'\n",
      "\n",
      "\"Ans:\" | cur_rng=(-2, 0)\n",
      "token_idx=-2 [\"Ans\"] => ['\"?\\n\"[p=0.07, l=10.75]', '\" Ans\"[p=0.04, l=10.19]', '\" unknown\"[p=0.04, l=10.19]', '\"?\\n\\n\"[p=0.03, l=9.94]', '\"??\"[p=0.03, l=9.81]', '\" artist\"[p=0.02, l=9.75]', '\" programmer\"[p=0.02, l=9.50]', '\" student\"[p=0.02, l=9.38]', '\"?\"[p=0.01, l=9.12]', '\" software\"[p=0.01, l=9.06]', '\"???\"[p=0.01, l=9.06]', '\" musician\"[p=0.01, l=9.00]', '\" singer\"[p=0.01, l=9.00]', '\" computer\"[p=0.01, l=8.81]', '\" (\"[p=0.01, l=8.69]']\n",
      "token_idx=-1 [\":\"] => ['\"?\\n\"[p=0.12, l=11.44]', '\"?\\n\\n\"[p=0.08, l=11.06]', '\"?\"[p=0.04, l=10.25]', '\" unknown\"[p=0.02, l=9.69]', '\" (\"[p=0.02, l=9.56]', '\" \\n\"[p=0.02, l=9.56]', '\" lawyer\"[p=0.02, l=9.50]', '\"??\"[p=0.02, l=9.50]', '\" software\"[p=0.01, l=9.25]', '\" ->\"[p=0.01, l=9.19]', '\" person\"[p=0.01, l=9.06]', '\" programmer\"[p=0.01, l=8.94]', '\" artist\"[p=0.01, l=8.88]', '\" \"[p=0.01, l=8.88]', '\" computer\"[p=0.01, l=8.81]']\n",
      "\n",
      "\" Johnny Depp\" | cur_rng=(13, 16)\n",
      "token_idx=13 [\" Johnny\"] => ['\" actor\"[p=0.11, l=12.75]', '\" musician\"[p=0.06, l=12.19]', '\"?\\n\"[p=0.06, l=12.19]', '\" unknown\"[p=0.06, l=12.06]', '\" singer\"[p=0.05, l=12.00]', '\"?\"[p=0.03, l=11.50]', '\"??\"[p=0.03, l=11.44]', '\"???\"[p=0.02, l=11.00]', '\" (\"[p=0.02, l=10.88]', '\" no\"[p=0.01, l=10.62]', '\" comedian\"[p=0.01, l=10.62]', '\" football\"[p=0.01, l=10.56]', '\"?\\n\\n\"[p=0.01, l=10.50]', '\" pirate\"[p=0.01, l=10.44]', '\" what\"[p=0.01, l=10.31]']\n",
      "token_idx=14 [\" De\"] => ['\" actor\"[p=0.20, l=11.38]', '\" pirate\"[p=0.06, l=10.25]', '\"?\\n\"[p=0.04, l=9.88]', '\"??\"[p=0.04, l=9.75]', '\"?\"[p=0.03, l=9.56]', '\" musician\"[p=0.02, l=9.19]', '\" unknown\"[p=0.02, l=8.94]', '\"?\\n\\n\"[p=0.02, l=8.94]', '\"???\"[p=0.02, l=8.81]', '\" singer\"[p=0.01, l=8.50]', '\" artist\"[p=0.01, l=8.12]', '\" what\"[p=0.01, l=8.06]', '\" Pirate\"[p=0.01, l=7.94]', '\" \\n\"[p=0.01, l=7.84]', '\" \"[p=0.01, l=7.84]']\n",
      "token_idx=15 [\"pp\"] => ['\" actor\"[p=0.95, l=18.62]', '\" Actor\"[p=0.01, l=13.75]', '\" movie\"[p=0.00, l=13.25]', '\" film\"[p=0.00, l=12.50]', '\" Johnny\"[p=0.00, l=12.38]', '\" (\"[p=0.00, l=12.31]', '\"?\\n\"[p=0.00, l=12.19]', '\"??\"[p=0.00, l=11.81]', '\" \"[p=0.00, l=11.75]', '\" unknown\"[p=0.00, l=11.69]', '\" no\"[p=0.00, l=11.56]', '\"?\"[p=0.00, l=11.56]', '\" pirate\"[p=0.00, l=11.25]', '\" what\"[p=0.00, l=11.19]', '\" not\"[p=0.00, l=11.12]']\n",
      "\n",
      "\" Marc Jacobs\" | cur_rng=(19, 21)\n",
      "token_idx=19 [\" Marc\"] => ['\"?\\n\"[p=0.10, l=12.25]', '\"?\"[p=0.04, l=11.38]', '\"??\"[p=0.04, l=11.31]', '\"?\\n\\n\"[p=0.03, l=11.12]', '\" unknown\"[p=0.03, l=11.12]', '\"???\"[p=0.03, l=10.94]', '\" actor\"[p=0.02, l=10.81]', '\" artist\"[p=0.02, l=10.69]', '\" programmer\"[p=0.02, l=10.50]', '\" musician\"[p=0.02, l=10.44]', '\" football\"[p=0.01, l=10.25]', '\" singer\"[p=0.01, l=10.19]', '\" engineer\"[p=0.01, l=10.19]', '\" software\"[p=0.01, l=10.06]', '\" not\"[p=0.01, l=10.06]']\n",
      "token_idx=20 [\" Jacobs\"] => ['\" fashion\"[p=0.91, l=19.38]', '\" designer\"[p=0.06, l=16.62]', '\" Fashion\"[p=0.00, l=13.81]', '\" (\"[p=0.00, l=13.12]', '\" \"[p=0.00, l=12.94]', '\" model\"[p=0.00, l=12.75]', '\" artist\"[p=0.00, l=12.75]', '\" entrepreneur\"[p=0.00, l=12.75]', '\"?\\n\"[p=0.00, l=12.62]', '\"?\"[p=0.00, l=12.25]', '\"??\"[p=0.00, l=12.12]', '\" clothing\"[p=0.00, l=12.12]', '\" unknown\"[p=0.00, l=12.06]', '\" Designer\"[p=0.00, l=12.00]', '\" football\"[p=0.00, l=12.00]']\n",
      "\n",
      "\" Jennifer Lawrence\" | cur_rng=(22, 24)\n",
      "token_idx=22 [\" Jennifer\"] => ['\" actress\"[p=0.49, l=15.38]', '\" actor\"[p=0.07, l=13.44]', '\" singer\"[p=0.05, l=13.12]', '\"?\\n\"[p=0.05, l=13.00]', '\" unknown\"[p=0.03, l=12.56]', '\"??\"[p=0.02, l=12.25]', '\"?\"[p=0.02, l=12.19]', '\" lawyer\"[p=0.02, l=12.12]', '\"?\\n\\n\"[p=0.01, l=11.50]', '\" movie\"[p=0.01, l=11.44]', '\" teacher\"[p=0.01, l=11.12]', '\" (\"[p=0.01, l=11.12]', '\"???\"[p=0.01, l=11.12]', '\" no\"[p=0.01, l=11.06]', '\" what\"[p=0.01, l=11.00]']\n",
      "token_idx=23 [\" Lawrence\"] => ['\" actress\"[p=0.94, l=19.38]', '\" actor\"[p=0.03, l=16.00]', '\" movie\"[p=0.00, l=14.00]', '\" Actress\"[p=0.00, l=13.38]', '\" (\"[p=0.00, l=12.62]', '\" unknown\"[p=0.00, l=12.62]', '\" no\"[p=0.00, l=12.25]', '\"?\\n\"[p=0.00, l=12.12]', '\"??\"[p=0.00, l=12.12]', '\" \"[p=0.00, l=12.12]', '\" film\"[p=0.00, l=12.06]', '\" Jennifer\"[p=0.00, l=12.06]', '\" not\"[p=0.00, l=11.88]', '\" singer\"[p=0.00, l=11.69]', '\"?\"[p=0.00, l=11.56]']\n",
      "\n",
      "\" Giannis Antetokounmpo\" | cur_rng=(25, 33)\n",
      "token_idx=25 [\" Gi\"] => ['\"?\\n\"[p=0.16, l=11.88]', '\"??\"[p=0.04, l=10.44]', '\"?\"[p=0.04, l=10.44]', '\"?\\n\\n\"[p=0.03, l=10.06]', '\" artist\"[p=0.02, l=9.88]', '\" singer\"[p=0.02, l=9.69]', '\"???\"[p=0.01, l=9.44]', '\" musician\"[p=0.01, l=9.44]', '\" entrepreneur\"[p=0.01, l=9.38]', '\" architect\"[p=0.01, l=9.38]', '\" \\n\"[p=0.01, l=9.19]', '\" \"[p=0.01, l=8.94]', '\" engineer\"[p=0.01, l=8.88]', '\" unknown\"[p=0.01, l=8.81]', '\" what\"[p=0.01, l=8.81]']\n",
      "token_idx=26 [\"annis\"] => ['\"?\\n\"[p=0.14, l=13.75]', '\" basketball\"[p=0.12, l=13.62]', '\" unknown\"[p=0.07, l=13.06]', '\"?\\n\\n\"[p=0.06, l=12.88]', '\"?\"[p=0.05, l=12.75]', '\"??\"[p=0.04, l=12.50]', '\" ancient\"[p=0.03, l=12.19]', '\" football\"[p=0.03, l=12.06]', '\" politician\"[p=0.02, l=11.94]', '\"???\"[p=0.02, l=11.62]', '\" Greek\"[p=0.01, l=11.44]', '\" athlete\"[p=0.01, l=11.25]', '\" soccer\"[p=0.01, l=11.25]', '\" software\"[p=0.01, l=11.19]', '\" (\"[p=0.01, l=11.12]']\n",
      "token_idx=27 [\" Ant\"] => ['\" actor\"[p=0.12, l=12.38]', '\"??\"[p=0.06, l=11.75]', '\"?\\n\"[p=0.05, l=11.62]', '\"???\"[p=0.03, l=10.94]', '\" architect\"[p=0.03, l=10.94]', '\"?\"[p=0.03, l=10.94]', '\" ant\"[p=0.03, l=10.88]', '\" artist\"[p=0.03, l=10.88]', '\" software\"[p=0.02, l=10.81]', '\" programmer\"[p=0.01, l=10.31]', '\" ent\"[p=0.01, l=10.31]', '\" lawyer\"[p=0.01, l=10.25]', '\" Ant\"[p=0.01, l=10.12]', '\" unknown\"[p=0.01, l=10.12]', '\" musician\"[p=0.01, l=9.88]']\n",
      "token_idx=28 [\"et\"] => ['\" unknown\"[p=0.05, l=10.50]', '\"??\"[p=0.05, l=10.44]', '\"?\\n\"[p=0.05, l=10.31]', '\"?\"[p=0.03, l=9.88]', '\" basketball\"[p=0.03, l=9.75]', '\"???\"[p=0.02, l=9.44]', '\" football\"[p=0.02, l=9.31]', '\" not\"[p=0.02, l=9.25]', '\"?\\n\\n\"[p=0.01, l=9.12]', '\" no\"[p=0.01, l=9.06]', '\" athlete\"[p=0.01, l=8.94]', '\" soccer\"[p=0.01, l=8.88]', '\" entrepreneur\"[p=0.01, l=8.88]', '\" artist\"[p=0.01, l=8.81]', '\" (\"[p=0.01, l=8.81]']\n",
      "token_idx=29 [\"ok\"] => ['\"??\"[p=0.06, l=11.50]', '\"?\\n\"[p=0.06, l=11.44]', '\" unknown\"[p=0.04, l=11.12]', '\"???\"[p=0.04, l=11.00]', '\"?\\n\\n\"[p=0.03, l=10.62]', '\"?\"[p=0.03, l=10.62]', '\" programmer\"[p=0.02, l=10.38]', '\" musician\"[p=0.02, l=10.12]', '\" artist\"[p=0.02, l=10.06]', '\" software\"[p=0.01, l=10.00]', '\" entrepreneur\"[p=0.01, l=9.88]', '\" no\"[p=0.01, l=9.81]', '\" astronaut\"[p=0.01, l=9.75]', '\" (\"[p=0.01, l=9.75]', '\" singer\"[p=0.01, l=9.69]']\n",
      "token_idx=30 [\"oun\"] => ['\" basketball\"[p=0.13, l=11.88]', '\"?\\n\"[p=0.05, l=10.94]', '\" unknown\"[p=0.05, l=10.94]', '\"??\"[p=0.04, l=10.75]', '\"?\"[p=0.03, l=10.31]', '\" football\"[p=0.03, l=10.25]', '\" athlete\"[p=0.02, l=10.12]', '\"?\\n\\n\"[p=0.02, l=9.94]', '\" politician\"[p=0.01, l=9.62]', '\" no\"[p=0.01, l=9.56]', '\" Greek\"[p=0.01, l=9.56]', '\" not\"[p=0.01, l=9.56]', '\"???\"[p=0.01, l=9.56]', '\" soccer\"[p=0.01, l=9.50]', '\" \\n\"[p=0.01, l=9.44]']\n",
      "token_idx=31 [\"mp\"] => ['\"??\"[p=0.08, l=11.50]', '\"?\\n\"[p=0.07, l=11.31]', '\" programmer\"[p=0.05, l=10.94]', '\" unknown\"[p=0.04, l=10.69]', '\"?\"[p=0.04, l=10.69]', '\"???\"[p=0.03, l=10.62]', '\" musician\"[p=0.03, l=10.56]', '\" software\"[p=0.03, l=10.56]', '\" computer\"[p=0.03, l=10.44]', '\"?\\n\\n\"[p=0.02, l=10.31]', '\" (\"[p=0.02, l=9.94]', '\" politician\"[p=0.01, l=9.69]', '\" \\n\"[p=0.01, l=9.50]', '\" artist\"[p=0.01, l=9.50]', '\" \"[p=0.01, l=9.19]']\n",
      "token_idx=32 [\"o\"] => ['\" basketball\"[p=0.09, l=12.06]', '\"?\\n\"[p=0.06, l=11.62]', '\" unknown\"[p=0.06, l=11.56]', '\" football\"[p=0.05, l=11.50]', '\" soccer\"[p=0.03, l=11.06]', '\"??\"[p=0.03, l=11.00]', '\"?\"[p=0.03, l=10.81]', '\" athlete\"[p=0.03, l=10.81]', '\" entrepreneur\"[p=0.02, l=10.69]', '\"?\\n\\n\"[p=0.02, l=10.69]', '\" \\n\"[p=0.01, l=10.25]', '\" (\"[p=0.01, l=10.12]', '\" politician\"[p=0.01, l=10.06]', '\" software\"[p=0.01, l=10.06]', '\" tennis\"[p=0.01, l=10.00]']\n",
      "\n",
      "\" Beyoncé\" | cur_rng=(34, 36)\n",
      "token_idx=34 [\" Bey\"] => ['\" singer\"[p=0.79, l=17.50]', '\" musician\"[p=0.07, l=15.12]', '\" pop\"[p=0.03, l=14.12]', '\" Singer\"[p=0.01, l=13.25]', '\" music\"[p=0.01, l=13.19]', '\" artist\"[p=0.01, l=13.06]', '\" performer\"[p=0.00, l=12.25]', '\" actress\"[p=0.00, l=12.19]', '\" entert\"[p=0.00, l=12.12]', '\" Music\"[p=0.00, l=12.00]', '\" \"[p=0.00, l=11.81]', '\" songwriter\"[p=0.00, l=11.62]', '\" entrepreneur\"[p=0.00, l=11.44]', '\" celebrity\"[p=0.00, l=11.38]', '\"??\"[p=0.00, l=11.19]']\n",
      "token_idx=35 [\"oncé\"] => ['\" singer\"[p=0.94, l=22.75]', '\" musician\"[p=0.04, l=19.62]', '\" pop\"[p=0.00, l=17.38]', '\" actress\"[p=0.00, l=16.88]', '\" entert\"[p=0.00, l=16.50]', '\" Singer\"[p=0.00, l=16.38]', '\" music\"[p=0.00, l=16.00]', '\" artist\"[p=0.00, l=15.69]', '\" \"[p=0.00, l=15.00]', '\" Music\"[p=0.00, l=14.94]', '\" songwriter\"[p=0.00, l=14.44]', '\" actor\"[p=0.00, l=14.19]', '\" vocalist\"[p=0.00, l=14.19]', '\" performer\"[p=0.00, l=13.94]', '\" (\"[p=0.00, l=13.88]']\n",
      "\n",
      "\" Stephen King\" | cur_rng=(37, 39)\n",
      "token_idx=37 [\" Stephen\"] => ['\"?\\n\"[p=0.07, l=12.44]', '\" philosopher\"[p=0.07, l=12.38]', '\" actor\"[p=0.05, l=12.00]', '\" unknown\"[p=0.03, l=11.56]', '\" programmer\"[p=0.03, l=11.50]', '\" writer\"[p=0.02, l=11.31]', '\"?\"[p=0.02, l=11.31]', '\" software\"[p=0.02, l=11.25]', '\"??\"[p=0.02, l=11.25]', '\" engineer\"[p=0.02, l=11.19]', '\" king\"[p=0.02, l=11.12]', '\"???\"[p=0.01, l=10.81]', '\" musician\"[p=0.01, l=10.81]', '\" author\"[p=0.01, l=10.81]', '\" no\"[p=0.01, l=10.81]']\n",
      "token_idx=38 [\" King\"] => ['\" writer\"[p=0.43, l=19.75]', '\" author\"[p=0.43, l=19.75]', '\" novelist\"[p=0.11, l=18.38]', '\" Writer\"[p=0.00, l=14.88]', '\" Author\"[p=0.00, l=14.81]', '\" horror\"[p=0.00, l=14.69]', '\" (\"[p=0.00, l=14.00]', '\" \"[p=0.00, l=13.50]', '\"?\\n\"[p=0.00, l=13.12]', '\"writer\"[p=0.00, l=13.00]', '\" Stephen\"[p=0.00, l=12.94]', '\" fiction\"[p=0.00, l=12.81]', '\"author\"[p=0.00, l=12.75]', '\" Nov\"[p=0.00, l=12.69]', '\"?\"[p=0.00, l=12.69]']\n",
      "\n",
      "\" Novak Djokovic\" | cur_rng=(40, 45)\n",
      "token_idx=40 [\" Nov\"] => ['\"?\\n\"[p=0.13, l=11.94]', '\"?\"[p=0.06, l=11.19]', '\"??\"[p=0.05, l=11.00]', '\"?\\n\\n\"[p=0.04, l=10.81]', '\" artist\"[p=0.03, l=10.50]', '\" unknown\"[p=0.03, l=10.44]', '\" programmer\"[p=0.02, l=10.12]', '\" entrepreneur\"[p=0.02, l=9.94]', '\"???\"[p=0.02, l=9.94]', '\" musician\"[p=0.02, l=9.88]', '\" singer\"[p=0.01, l=9.62]', '\" what\"[p=0.01, l=9.38]', '\" scientist\"[p=0.01, l=9.38]', '\" student\"[p=0.01, l=9.25]', '\" \"[p=0.01, l=9.19]']\n",
      "token_idx=41 [\"ak\"] => ['\" tennis\"[p=0.25, l=14.62]', '\"?\\n\"[p=0.16, l=14.19]', '\"?\"[p=0.10, l=13.75]', '\"?\\n\\n\"[p=0.06, l=13.25]', '\" musician\"[p=0.03, l=12.62]', '\"??\"[p=0.03, l=12.50]', '\" politician\"[p=0.02, l=12.06]', '\" Dj\"[p=0.02, l=11.94]', '\"???\"[p=0.02, l=11.88]', '\" unknown\"[p=0.01, l=11.69]', '\" what\"[p=0.01, l=11.50]', '\" \\n\"[p=0.01, l=11.44]', '\" (\"[p=0.01, l=11.31]', '\" football\"[p=0.01, l=11.25]', '\" actor\"[p=0.01, l=11.06]']\n",
      "token_idx=42 [\" Dj\"] => ['\" DJ\"[p=0.09, l=11.50]', '\" dj\"[p=0.03, l=10.38]', '\" musician\"[p=0.03, l=10.31]', '\" software\"[p=0.03, l=10.31]', '\" disc\"[p=0.02, l=10.19]', '\"?\\n\"[p=0.02, l=10.19]', '\" singer\"[p=0.02, l=10.12]', '\" programmer\"[p=0.02, l=10.00]', '\"??\"[p=0.02, l=10.00]', '\" Dj\"[p=0.02, l=9.88]', '\" actor\"[p=0.02, l=9.75]', '\" unknown\"[p=0.01, l=9.69]', '\" rapper\"[p=0.01, l=9.62]', '\" Disc\"[p=0.01, l=9.50]', '\" artist\"[p=0.01, l=9.38]']\n",
      "token_idx=43 [\"ok\"] => ['\" tennis\"[p=0.21, l=12.50]', '\"?\\n\"[p=0.05, l=11.12]', '\" musician\"[p=0.05, l=11.00]', '\"??\"[p=0.03, l=10.69]', '\"?\"[p=0.03, l=10.50]', '\"???\"[p=0.02, l=10.31]', '\"?\\n\\n\"[p=0.02, l=10.00]', '\" singer\"[p=0.02, l=10.00]', '\" unknown\"[p=0.02, l=9.94]', '\" Nov\"[p=0.01, l=9.56]', '\" Dj\"[p=0.01, l=9.50]', '\" football\"[p=0.01, l=9.44]', '\" politician\"[p=0.01, l=9.38]', '\" artist\"[p=0.01, l=9.38]', '\" athlete\"[p=0.01, l=9.31]']\n",
      "token_idx=44 [\"ovic\"] => ['\" tennis\"[p=0.62, l=16.25]', '\"?\\n\"[p=0.06, l=13.88]', '\" athlete\"[p=0.03, l=13.25]', '\"?\"[p=0.03, l=13.19]', '\"?\\n\\n\"[p=0.02, l=12.69]', '\"??\"[p=0.02, l=12.62]', '\" professional\"[p=0.01, l=12.12]', '\" unknown\"[p=0.01, l=12.12]', '\" \\n\"[p=0.01, l=12.06]', '\" football\"[p=0.01, l=12.00]', '\" (\"[p=0.01, l=11.88]', '\" musician\"[p=0.01, l=11.81]', '\" Nov\"[p=0.01, l=11.75]', '\"???\"[p=0.01, l=11.69]', '\" soccer\"[p=0.01, l=11.69]']\n",
      "======================================================================================================================================================\n",
      "\n",
      "layer='model.layers.30'\n",
      "\n",
      "\"Ans:\" | cur_rng=(-2, 0)\n",
      "token_idx=-2 [\"Ans\"] => ['\" programmer\"[p=0.04, l=9.88]', '\" Ans\"[p=0.03, l=9.81]', '\"?\\n\"[p=0.03, l=9.75]', '\" unknown\"[p=0.02, l=9.44]', '\" artist\"[p=0.02, l=9.31]', '\" software\"[p=0.02, l=9.25]', '\" computer\"[p=0.02, l=9.12]', '\" student\"[p=0.02, l=9.12]', '\" answer\"[p=0.01, l=8.81]', '\" musician\"[p=0.01, l=8.75]', '\" singer\"[p=0.01, l=8.62]', '\"?\\n\\n\"[p=0.01, l=8.62]', '\"??\"[p=0.01, l=8.56]', '\" artificial\"[p=0.01, l=8.50]', '\" developer\"[p=0.01, l=8.50]']\n",
      "token_idx=-1 [\":\"] => ['\"?\\n\"[p=0.07, l=10.75]', '\"?\\n\\n\"[p=0.04, l=10.25]', '\" ->\"[p=0.03, l=9.88]', '\" (\"[p=0.02, l=9.75]', '\"?\"[p=0.02, l=9.69]', '\" \\n\"[p=0.02, l=9.69]', '\" unknown\"[p=0.02, l=9.56]', '\" lawyer\"[p=0.02, l=9.50]', '\"??\"[p=0.01, l=9.25]', '\" \"[p=0.01, l=9.12]', '\" artist\"[p=0.01, l=9.06]', '\" software\"[p=0.01, l=9.06]', '\" profession\"[p=0.01, l=8.88]', '\" empty\"[p=0.01, l=8.88]', '\" teacher\"[p=0.01, l=8.88]']\n",
      "\n",
      "\" Johnny Depp\" | cur_rng=(13, 16)\n",
      "token_idx=13 [\" Johnny\"] => ['\" musician\"[p=0.09, l=12.50]', '\" actor\"[p=0.07, l=12.31]', '\" singer\"[p=0.06, l=12.06]', '\" unknown\"[p=0.05, l=11.94]', '\"?\\n\"[p=0.05, l=11.88]', '\"?\"[p=0.02, l=11.19]', '\"??\"[p=0.02, l=11.12]', '\" pirate\"[p=0.02, l=10.88]', '\" no\"[p=0.02, l=10.81]', '\" (\"[p=0.02, l=10.81]', '\"???\"[p=0.02, l=10.81]', '\" rock\"[p=0.01, l=10.56]', '\" football\"[p=0.01, l=10.50]', '\" entrepreneur\"[p=0.01, l=10.25]', '\" Johnny\"[p=0.01, l=10.19]']\n",
      "token_idx=14 [\" De\"] => ['\" actor\"[p=0.11, l=10.94]', '\"?\\n\"[p=0.05, l=10.25]', '\"??\"[p=0.04, l=10.06]', '\"?\"[p=0.04, l=9.94]', '\" musician\"[p=0.04, l=9.88]', '\" unknown\"[p=0.02, l=9.44]', '\" pirate\"[p=0.02, l=9.38]', '\" singer\"[p=0.02, l=9.38]', '\"???\"[p=0.02, l=9.12]', '\"?\\n\\n\"[p=0.02, l=9.12]', '\" artist\"[p=0.01, l=8.94]', '\" programmer\"[p=0.01, l=8.31]', '\" what\"[p=0.01, l=8.25]', '\" \"[p=0.01, l=8.19]', '\" (\"[p=0.01, l=8.06]']\n",
      "token_idx=15 [\"pp\"] => ['\" actor\"[p=0.97, l=19.12]', '\" Actor\"[p=0.01, l=13.88]', '\" movie\"[p=0.00, l=12.88]', '\"?\\n\"[p=0.00, l=12.81]', '\" (\"[p=0.00, l=12.81]', '\" film\"[p=0.00, l=12.56]', '\" \"[p=0.00, l=12.12]', '\"??\"[p=0.00, l=12.06]', '\"?\"[p=0.00, l=11.88]', '\" no\"[p=0.00, l=11.62]', '\" what\"[p=0.00, l=11.62]', '\" unknown\"[p=0.00, l=11.50]', '\" actress\"[p=0.00, l=11.38]', '\" not\"[p=0.00, l=11.38]', '\" Johnny\"[p=0.00, l=11.38]']\n",
      "\n",
      "\" Marc Jacobs\" | cur_rng=(19, 21)\n",
      "token_idx=19 [\" Marc\"] => ['\"?\\n\"[p=0.10, l=12.31]', '\"?\"[p=0.04, l=11.38]', '\"??\"[p=0.03, l=11.19]', '\"?\\n\\n\"[p=0.03, l=11.19]', '\" unknown\"[p=0.03, l=11.00]', '\" programmer\"[p=0.02, l=10.88]', '\" artist\"[p=0.02, l=10.81]', '\" actor\"[p=0.02, l=10.81]', '\"???\"[p=0.02, l=10.75]', '\" software\"[p=0.02, l=10.69]', '\" engineer\"[p=0.02, l=10.62]', '\" musician\"[p=0.02, l=10.44]', '\" football\"[p=0.01, l=10.38]', '\" entrepreneur\"[p=0.01, l=10.25]', '\" architect\"[p=0.01, l=10.06]']\n",
      "token_idx=20 [\" Jacobs\"] => ['\" fashion\"[p=0.91, l=19.50]', '\" designer\"[p=0.06, l=16.75]', '\" Fashion\"[p=0.00, l=13.81]', '\" (\"[p=0.00, l=13.31]', '\" \"[p=0.00, l=13.06]', '\" entrepreneur\"[p=0.00, l=12.81]', '\"?\\n\"[p=0.00, l=12.75]', '\" model\"[p=0.00, l=12.56]', '\" artist\"[p=0.00, l=12.50]', '\"?\"[p=0.00, l=12.38]', '\"??\"[p=0.00, l=12.31]', '\" clothing\"[p=0.00, l=12.19]', '\" Designer\"[p=0.00, l=12.00]', '\" football\"[p=0.00, l=12.00]', '\"f\"[p=0.00, l=11.94]']\n",
      "\n",
      "\" Jennifer Lawrence\" | cur_rng=(22, 24)\n",
      "token_idx=22 [\" Jennifer\"] => ['\" actress\"[p=0.38, l=15.06]', '\" singer\"[p=0.07, l=13.38]', '\"?\\n\"[p=0.06, l=13.25]', '\" actor\"[p=0.04, l=12.94]', '\" unknown\"[p=0.04, l=12.88]', '\" lawyer\"[p=0.03, l=12.50]', '\"?\"[p=0.03, l=12.50]', '\"??\"[p=0.03, l=12.44]', '\"?\\n\\n\"[p=0.01, l=11.56]', '\" teacher\"[p=0.01, l=11.50]', '\"???\"[p=0.01, l=11.44]', '\" model\"[p=0.01, l=11.25]', '\" politician\"[p=0.01, l=11.25]', '\" no\"[p=0.01, l=11.25]', '\" movie\"[p=0.01, l=11.19]']\n",
      "token_idx=23 [\" Lawrence\"] => ['\" actress\"[p=0.94, l=19.38]', '\" actor\"[p=0.04, l=16.12]', '\" movie\"[p=0.00, l=13.62]', '\" Actress\"[p=0.00, l=13.06]', '\" (\"[p=0.00, l=12.62]', '\" unknown\"[p=0.00, l=12.56]', '\"?\\n\"[p=0.00, l=12.50]', '\"??\"[p=0.00, l=12.38]', '\" film\"[p=0.00, l=12.12]', '\" no\"[p=0.00, l=12.06]', '\" \"[p=0.00, l=12.00]', '\"?\"[p=0.00, l=11.81]', '\" not\"[p=0.00, l=11.75]', '\" Jennifer\"[p=0.00, l=11.62]', '\" what\"[p=0.00, l=11.56]']\n",
      "\n",
      "\" Giannis Antetokounmpo\" | cur_rng=(25, 33)\n",
      "token_idx=25 [\" Gi\"] => ['\"?\\n\"[p=0.11, l=11.44]', '\"??\"[p=0.03, l=10.19]', '\"?\"[p=0.03, l=10.00]', '\" singer\"[p=0.02, l=9.62]', '\" artist\"[p=0.02, l=9.56]', '\" entrepreneur\"[p=0.02, l=9.44]', '\" musician\"[p=0.01, l=9.38]', '\"?\\n\\n\"[p=0.01, l=9.31]', '\"???\"[p=0.01, l=9.25]', '\" architect\"[p=0.01, l=9.12]', '\" \\n\"[p=0.01, l=9.00]', '\" football\"[p=0.01, l=8.94]', '\" \"[p=0.01, l=8.88]', '\" unknown\"[p=0.01, l=8.88]', '\" politician\"[p=0.01, l=8.81]']\n",
      "token_idx=26 [\"annis\"] => ['\"?\\n\"[p=0.13, l=13.56]', '\" basketball\"[p=0.10, l=13.31]', '\" unknown\"[p=0.07, l=13.00]', '\"?\\n\\n\"[p=0.05, l=12.62]', '\"?\"[p=0.05, l=12.62]', '\"??\"[p=0.04, l=12.44]', '\" football\"[p=0.03, l=12.19]', '\" politician\"[p=0.03, l=11.94]', '\"???\"[p=0.02, l=11.75]', '\" software\"[p=0.01, l=11.31]', '\" ancient\"[p=0.01, l=11.31]', '\" Greek\"[p=0.01, l=11.25]', '\" soccer\"[p=0.01, l=11.12]', '\" athlete\"[p=0.01, l=11.06]', '\" (\"[p=0.01, l=11.06]']\n",
      "token_idx=27 [\" Ant\"] => ['\"?\\n\"[p=0.09, l=12.50]', '\"??\"[p=0.08, l=12.31]', '\" programmer\"[p=0.06, l=12.06]', '\" software\"[p=0.06, l=12.06]', '\"?\"[p=0.04, l=11.69]', '\"???\"[p=0.03, l=11.44]', '\" developer\"[p=0.03, l=11.31]', '\" ant\"[p=0.02, l=11.12]', '\"?\\n\\n\"[p=0.02, l=11.00]', '\" lawyer\"[p=0.02, l=10.94]', '\" chem\"[p=0.02, l=10.88]', '\" actor\"[p=0.02, l=10.88]', '\" unknown\"[p=0.02, l=10.88]', '\" computer\"[p=0.02, l=10.81]', '\" Ant\"[p=0.01, l=10.69]']\n",
      "token_idx=28 [\"et\"] => ['\"??\"[p=0.05, l=10.31]', '\"?\\n\"[p=0.05, l=10.25]', '\" unknown\"[p=0.04, l=10.06]', '\"?\"[p=0.03, l=9.75]', '\"???\"[p=0.02, l=9.38]', '\" football\"[p=0.02, l=9.12]', '\" not\"[p=0.02, l=9.12]', '\" basketball\"[p=0.01, l=9.00]', '\"?\\n\\n\"[p=0.01, l=9.00]', '\" no\"[p=0.01, l=8.88]', '\" entrepreneur\"[p=0.01, l=8.81]', '\" artist\"[p=0.01, l=8.69]', '\" musician\"[p=0.01, l=8.69]', '\" athlete\"[p=0.01, l=8.69]', '\" \"[p=0.01, l=8.62]']\n",
      "token_idx=29 [\"ok\"] => ['\"?\\n\"[p=0.06, l=11.38]', '\"??\"[p=0.06, l=11.31]', '\" unknown\"[p=0.04, l=10.94]', '\"???\"[p=0.04, l=10.94]', '\" programmer\"[p=0.02, l=10.38]', '\"?\"[p=0.02, l=10.38]', '\"?\\n\\n\"[p=0.02, l=10.38]', '\" artist\"[p=0.02, l=10.19]', '\" software\"[p=0.02, l=10.06]', '\" musician\"[p=0.01, l=10.00]', '\" entrepreneur\"[p=0.01, l=9.81]', '\" ninja\"[p=0.01, l=9.62]', '\" no\"[p=0.01, l=9.50]', '\" (\"[p=0.01, l=9.50]', '\" singer\"[p=0.01, l=9.50]']\n",
      "token_idx=30 [\"oun\"] => ['\" basketball\"[p=0.15, l=11.69]', '\" unknown\"[p=0.04, l=10.44]', '\"??\"[p=0.04, l=10.31]', '\"?\\n\"[p=0.04, l=10.31]', '\" football\"[p=0.02, l=9.88]', '\"?\"[p=0.02, l=9.81]', '\" athlete\"[p=0.02, l=9.56]', '\" politician\"[p=0.02, l=9.50]', '\"?\\n\\n\"[p=0.01, l=9.25]', '\" Greek\"[p=0.01, l=9.25]', '\"???\"[p=0.01, l=9.19]', '\" entrepreneur\"[p=0.01, l=9.12]', '\" not\"[p=0.01, l=9.06]', '\" \\n\"[p=0.01, l=9.00]', '\" (\"[p=0.01, l=8.94]']\n",
      "token_idx=31 [\"mp\"] => ['\"?\\n\"[p=0.08, l=11.75]', '\"??\"[p=0.08, l=11.75]', '\"?\"[p=0.05, l=11.12]', '\"???\"[p=0.04, l=10.88]', '\"?\\n\\n\"[p=0.03, l=10.81]', '\" unknown\"[p=0.03, l=10.81]', '\" musician\"[p=0.03, l=10.75]', '\" software\"[p=0.02, l=10.44]', '\" singer\"[p=0.02, l=10.31]', '\" politician\"[p=0.02, l=10.19]', '\" artist\"[p=0.02, l=10.06]', '\" \\n\"[p=0.01, l=10.00]', '\" programmer\"[p=0.01, l=10.00]', '\" (\"[p=0.01, l=9.88]', '\" computer\"[p=0.01, l=9.81]']\n",
      "token_idx=32 [\"o\"] => ['\"?\\n\"[p=0.15, l=13.06]', '\"?\\n\\n\"[p=0.06, l=12.25]', '\"?\"[p=0.06, l=12.19]', '\" football\"[p=0.05, l=12.06]', '\"??\"[p=0.05, l=12.00]', '\" basketball\"[p=0.04, l=11.81]', '\" unknown\"[p=0.03, l=11.56]', '\" soccer\"[p=0.03, l=11.50]', '\" \\n\"[p=0.03, l=11.31]', '\"???\"[p=0.02, l=11.06]', '\" athlete\"[p=0.02, l=11.06]', '\" software\"[p=0.02, l=10.81]', '\" politician\"[p=0.02, l=10.81]', '\" entrepreneur\"[p=0.02, l=10.81]', '\" (\"[p=0.01, l=10.69]']\n",
      "\n",
      "\" Beyoncé\" | cur_rng=(34, 36)\n",
      "token_idx=34 [\" Bey\"] => ['\" singer\"[p=0.78, l=17.12]', '\" musician\"[p=0.07, l=14.69]', '\" pop\"[p=0.03, l=13.69]', '\" Singer\"[p=0.01, l=12.94]', '\" artist\"[p=0.01, l=12.75]', '\" music\"[p=0.01, l=12.69]', '\" actress\"[p=0.00, l=11.94]', '\" performer\"[p=0.00, l=11.81]', '\" Music\"[p=0.00, l=11.62]', '\" entert\"[p=0.00, l=11.56]', '\" \"[p=0.00, l=11.50]', '\" songwriter\"[p=0.00, l=11.38]', '\" entrepreneur\"[p=0.00, l=11.19]', '\" celebrity\"[p=0.00, l=11.00]', '\"??\"[p=0.00, l=10.94]']\n",
      "token_idx=35 [\"oncé\"] => ['\" singer\"[p=0.94, l=21.62]', '\" musician\"[p=0.03, l=18.25]', '\" pop\"[p=0.01, l=17.25]', '\" actress\"[p=0.00, l=16.25]', '\" Singer\"[p=0.00, l=15.88]', '\" entert\"[p=0.00, l=15.75]', '\" artist\"[p=0.00, l=14.94]', '\" music\"[p=0.00, l=14.94]', '\" \"[p=0.00, l=14.62]', '\" actor\"[p=0.00, l=13.94]', '\" Music\"[p=0.00, l=13.94]', '\" songwriter\"[p=0.00, l=13.75]', '\" (\"[p=0.00, l=13.38]', '\" \\n\"[p=0.00, l=13.31]', '\" vocalist\"[p=0.00, l=13.12]']\n",
      "\n",
      "\" Stephen King\" | cur_rng=(37, 39)\n",
      "token_idx=37 [\" Stephen\"] => ['\"?\\n\"[p=0.10, l=12.75]', '\" philosopher\"[p=0.05, l=12.06]', '\" actor\"[p=0.04, l=11.94]', '\" programmer\"[p=0.03, l=11.62]', '\"?\"[p=0.03, l=11.62]', '\" unknown\"[p=0.03, l=11.56]', '\"??\"[p=0.03, l=11.50]', '\" software\"[p=0.03, l=11.50]', '\" engineer\"[p=0.02, l=11.38]', '\" writer\"[p=0.02, l=11.12]', '\"???\"[p=0.02, l=11.00]', '\" mathematic\"[p=0.01, l=10.88]', '\"?\\n\\n\"[p=0.01, l=10.88]', '\" musician\"[p=0.01, l=10.81]', '\" no\"[p=0.01, l=10.81]']\n",
      "token_idx=38 [\" King\"] => ['\" writer\"[p=0.43, l=19.62]', '\" author\"[p=0.43, l=19.62]', '\" novelist\"[p=0.12, l=18.38]', '\" Author\"[p=0.00, l=14.81]', '\" Writer\"[p=0.00, l=14.75]', '\" horror\"[p=0.00, l=14.75]', '\" (\"[p=0.00, l=13.75]', '\"?\\n\"[p=0.00, l=13.31]', '\" \"[p=0.00, l=13.25]', '\" fiction\"[p=0.00, l=12.94]', '\"writer\"[p=0.00, l=12.81]', '\" lawyer\"[p=0.00, l=12.75]', '\"author\"[p=0.00, l=12.69]', '\"?\"[p=0.00, l=12.62]', '\" Nov\"[p=0.00, l=12.44]']\n",
      "\n",
      "\" Novak Djokovic\" | cur_rng=(40, 45)\n",
      "token_idx=40 [\" Nov\"] => ['\"?\\n\"[p=0.12, l=11.62]', '\"??\"[p=0.06, l=10.94]', '\"?\"[p=0.06, l=10.94]', '\"?\\n\\n\"[p=0.05, l=10.69]', '\" unknown\"[p=0.02, l=9.94]', '\" artist\"[p=0.02, l=9.94]', '\"???\"[p=0.02, l=9.88]', '\" programmer\"[p=0.02, l=9.75]', '\" entrepreneur\"[p=0.02, l=9.56]', '\" musician\"[p=0.01, l=9.25]', '\" what\"[p=0.01, l=9.19]', '\" None\"[p=0.01, l=9.06]', '\" singer\"[p=0.01, l=9.06]', '\" scientist\"[p=0.01, l=9.00]', '\" \"[p=0.01, l=8.94]']\n",
      "token_idx=41 [\"ak\"] => ['\"?\\n\"[p=0.17, l=13.69]', '\" tennis\"[p=0.16, l=13.62]', '\"?\"[p=0.10, l=13.19]', '\"?\\n\\n\"[p=0.07, l=12.81]', '\"??\"[p=0.04, l=12.12]', '\" musician\"[p=0.03, l=12.00]', '\" politician\"[p=0.02, l=11.75]', '\"???\"[p=0.02, l=11.50]', '\" unknown\"[p=0.02, l=11.38]', '\" what\"[p=0.01, l=11.25]', '\" Dj\"[p=0.01, l=11.06]', '\" \\n\"[p=0.01, l=10.75]', '\" football\"[p=0.01, l=10.75]', '\" artist\"[p=0.01, l=10.75]', '\" actor\"[p=0.01, l=10.62]']\n",
      "token_idx=42 [\" Dj\"] => ['\"?\\n\"[p=0.06, l=10.88]', '\" DJ\"[p=0.04, l=10.38]', '\"??\"[p=0.03, l=10.31]', '\" programmer\"[p=0.03, l=10.19]', '\" dj\"[p=0.03, l=10.06]', '\" musician\"[p=0.03, l=10.06]', '\" unknown\"[p=0.02, l=10.00]', '\"?\"[p=0.02, l=9.88]', '\" software\"[p=0.02, l=9.75]', '\"???\"[p=0.02, l=9.56]', '\" actor\"[p=0.01, l=9.50]', '\"?\\n\\n\"[p=0.01, l=9.50]', '\" Dj\"[p=0.01, l=9.25]', '\" singer\"[p=0.01, l=9.25]', '\" no\"[p=0.01, l=9.12]']\n",
      "token_idx=43 [\"ok\"] => ['\" tennis\"[p=0.21, l=12.94]', '\" musician\"[p=0.10, l=12.19]', '\" singer\"[p=0.03, l=11.06]', '\"?\\n\"[p=0.03, l=11.06]', '\"??\"[p=0.03, l=11.00]', '\"???\"[p=0.02, l=10.62]', '\" dj\"[p=0.02, l=10.56]', '\" Dj\"[p=0.02, l=10.44]', '\"?\"[p=0.02, l=10.44]', '\" Nov\"[p=0.01, l=10.06]', '\" unknown\"[p=0.01, l=10.00]', '\" DJ\"[p=0.01, l=9.88]', '\" artist\"[p=0.01, l=9.81]', '\" politician\"[p=0.01, l=9.69]', '\"?\\n\\n\"[p=0.01, l=9.62]']\n",
      "token_idx=44 [\"ovic\"] => ['\" tennis\"[p=0.40, l=15.50]', '\"?\\n\"[p=0.13, l=14.38]', '\"?\\n\\n\"[p=0.04, l=13.31]', '\"?\"[p=0.04, l=13.31]', '\"??\"[p=0.03, l=12.94]', '\" athlete\"[p=0.02, l=12.62]', '\" football\"[p=0.02, l=12.50]', '\" \\n\"[p=0.02, l=12.25]', '\" soccer\"[p=0.01, l=12.19]', '\" unknown\"[p=0.01, l=12.19]', '\" politician\"[p=0.01, l=12.06]', '\"???\"[p=0.01, l=12.00]', '\" (\"[p=0.01, l=11.75]', '\" what\"[p=0.01, l=11.50]', '\" \"[p=0.01, l=11.44]']\n",
      "======================================================================================================================================================\n",
      "\n",
      "layer='model.layers.33'\n",
      "\n",
      "\"Ans:\" | cur_rng=(-2, 0)\n",
      "token_idx=-2 [\"Ans\"] => ['\" Ans\"[p=0.04, l=9.88]', '\"?\\n\"[p=0.03, l=9.44]', '\" unknown\"[p=0.02, l=9.31]', '\" artist\"[p=0.02, l=9.00]', '\" programmer\"[p=0.01, l=8.69]', '\" entrepreneur\"[p=0.01, l=8.69]', '\" person\"[p=0.01, l=8.50]', '\" answer\"[p=0.01, l=8.50]', '\" software\"[p=0.01, l=8.38]', '\" computer\"[p=0.01, l=8.31]', '\"??\"[p=0.01, l=8.31]', '\" \"[p=0.01, l=8.25]', '\" Answer\"[p=0.01, l=8.25]', '\"?\\n\\n\"[p=0.01, l=8.25]', '\" student\"[p=0.01, l=8.19]']\n",
      "token_idx=-1 [\":\"] => ['\"?\\n\"[p=0.05, l=10.38]', '\" (\"[p=0.04, l=10.19]', '\" \\n\"[p=0.04, l=10.00]', '\" ->\"[p=0.03, l=9.94]', '\" unknown\"[p=0.03, l=9.62]', '\"?\\n\\n\"[p=0.02, l=9.56]', '\" \"[p=0.02, l=9.31]', '\"?\"[p=0.02, l=9.25]', '\" empty\"[p=0.01, l=9.06]', '\"??\"[p=0.01, l=8.75]', '\"\\n\\n\"[p=0.01, l=8.75]', '\" None\"[p=0.01, l=8.69]', '\" ->\\n\"[p=0.01, l=8.69]', '\" is\"[p=0.01, l=8.62]', '\" person\"[p=0.01, l=8.50]']\n",
      "\n",
      "\" Johnny Depp\" | cur_rng=(13, 16)\n",
      "token_idx=13 [\" Johnny\"] => ['\"?\\n\"[p=0.07, l=12.12]', '\" musician\"[p=0.07, l=12.06]', '\" unknown\"[p=0.07, l=12.06]', '\" actor\"[p=0.05, l=11.75]', '\" singer\"[p=0.04, l=11.62]', '\"?\"[p=0.04, l=11.44]', '\"??\"[p=0.03, l=11.38]', '\"???\"[p=0.02, l=11.00]', '\" pirate\"[p=0.02, l=10.75]', '\" (\"[p=0.02, l=10.69]', '\" no\"[p=0.02, l=10.62]', '\" rock\"[p=0.01, l=10.38]', '\"?\\n\\n\"[p=0.01, l=10.38]', '\" Johnny\"[p=0.01, l=10.12]', '\" football\"[p=0.01, l=10.12]']\n",
      "token_idx=14 [\" De\"] => ['\"?\\n\"[p=0.07, l=10.81]', '\" actor\"[p=0.07, l=10.81]', '\"??\"[p=0.06, l=10.62]', '\"?\"[p=0.05, l=10.44]', '\" musician\"[p=0.04, l=10.19]', '\" singer\"[p=0.03, l=9.75]', '\" unknown\"[p=0.03, l=9.75]', '\"?\\n\\n\"[p=0.02, l=9.69]', '\"???\"[p=0.02, l=9.62]', '\" pirate\"[p=0.02, l=9.38]', '\" artist\"[p=0.02, l=9.31]', '\" programmer\"[p=0.01, l=8.88]', '\" what\"[p=0.01, l=8.62]', '\" politician\"[p=0.01, l=8.50]', '\" \"[p=0.01, l=8.50]']\n",
      "token_idx=15 [\"pp\"] => ['\" actor\"[p=0.95, l=18.50]', '\"?\\n\"[p=0.00, l=13.25]', '\" Actor\"[p=0.00, l=13.19]', '\" (\"[p=0.00, l=12.56]', '\"??\"[p=0.00, l=12.25]', '\" movie\"[p=0.00, l=12.19]', '\"?\"[p=0.00, l=12.12]', '\" \"[p=0.00, l=11.88]', '\"?\\n\\n\"[p=0.00, l=11.81]', '\" film\"[p=0.00, l=11.81]', '\" \\n\"[p=0.00, l=11.75]', '\" what\"[p=0.00, l=11.50]', '\" unknown\"[p=0.00, l=11.44]', '\"???\"[p=0.00, l=11.31]', '\" ->\"[p=0.00, l=11.25]']\n",
      "\n",
      "\" Marc Jacobs\" | cur_rng=(19, 21)\n",
      "token_idx=19 [\" Marc\"] => ['\"?\\n\"[p=0.13, l=12.69]', '\"?\"[p=0.06, l=11.81]', '\"?\\n\\n\"[p=0.05, l=11.69]', '\"??\"[p=0.05, l=11.62]', '\" unknown\"[p=0.03, l=11.31]', '\"???\"[p=0.03, l=11.19]', '\" programmer\"[p=0.02, l=10.81]', '\" artist\"[p=0.02, l=10.62]', '\" software\"[p=0.02, l=10.62]', '\" engineer\"[p=0.02, l=10.56]', '\" actor\"[p=0.01, l=10.44]', '\" musician\"[p=0.01, l=10.38]', '\" football\"[p=0.01, l=10.25]', '\" entrepreneur\"[p=0.01, l=10.12]', '\" student\"[p=0.01, l=10.12]']\n",
      "token_idx=20 [\" Jacobs\"] => ['\" fashion\"[p=0.93, l=20.00]', '\" designer\"[p=0.05, l=17.00]', '\" Fashion\"[p=0.00, l=14.19]', '\" (\"[p=0.00, l=13.38]', '\" \"[p=0.00, l=13.38]', '\" entrepreneur\"[p=0.00, l=13.25]', '\"?\\n\"[p=0.00, l=13.12]', '\" artist\"[p=0.00, l=12.81]', '\"??\"[p=0.00, l=12.75]', '\"?\"[p=0.00, l=12.62]', '\" clothing\"[p=0.00, l=12.44]', '\"f\"[p=0.00, l=12.31]', '\" model\"[p=0.00, l=12.25]', '\" photographer\"[p=0.00, l=12.12]', '\" Designer\"[p=0.00, l=12.12]']\n",
      "\n",
      "\" Jennifer Lawrence\" | cur_rng=(22, 24)\n",
      "token_idx=22 [\" Jennifer\"] => ['\" actress\"[p=0.26, l=14.38]', '\" singer\"[p=0.08, l=13.25]', '\"?\\n\"[p=0.07, l=13.06]', '\" unknown\"[p=0.06, l=12.88]', '\"?\"[p=0.04, l=12.38]', '\"??\"[p=0.04, l=12.38]', '\" actor\"[p=0.03, l=12.31]', '\" lawyer\"[p=0.03, l=12.19]', '\"?\\n\\n\"[p=0.01, l=11.50]', '\" teacher\"[p=0.01, l=11.44]', '\"???\"[p=0.01, l=11.38]', '\" no\"[p=0.01, l=11.31]', '\" artist\"[p=0.01, l=11.25]', '\" politician\"[p=0.01, l=11.12]', '\" model\"[p=0.01, l=11.12]']\n",
      "token_idx=23 [\" Lawrence\"] => ['\" actress\"[p=0.92, l=18.88]', '\" actor\"[p=0.04, l=15.75]', '\" movie\"[p=0.00, l=13.19]', '\"?\\n\"[p=0.00, l=12.88]', '\" Jennifer\"[p=0.00, l=12.69]', '\"??\"[p=0.00, l=12.56]', '\" Actress\"[p=0.00, l=12.50]', '\" unknown\"[p=0.00, l=12.38]', '\" (\"[p=0.00, l=12.19]', '\"?\"[p=0.00, l=12.00]', '\" film\"[p=0.00, l=11.94]', '\" \"[p=0.00, l=11.88]', '\" what\"[p=0.00, l=11.75]', '\" no\"[p=0.00, l=11.62]', '\" ->\"[p=0.00, l=11.50]']\n",
      "\n",
      "\" Giannis Antetokounmpo\" | cur_rng=(25, 33)\n",
      "token_idx=25 [\" Gi\"] => ['\"?\\n\"[p=0.06, l=10.75]', '\" singer\"[p=0.04, l=10.25]', '\" musician\"[p=0.02, l=9.75]', '\"??\"[p=0.02, l=9.69]', '\"?\"[p=0.01, l=9.31]', '\" football\"[p=0.01, l=9.25]', '\" soccer\"[p=0.01, l=9.19]', '\" artist\"[p=0.01, l=9.12]', '\" entrepreneur\"[p=0.01, l=9.06]', '\" martial\"[p=0.01, l=8.75]', '\" \"[p=0.01, l=8.75]', '\"???\"[p=0.01, l=8.75]', '\" programmer\"[p=0.01, l=8.69]', '\" architect\"[p=0.01, l=8.69]', '\" gymn\"[p=0.01, l=8.69]']\n",
      "token_idx=26 [\"annis\"] => ['\"?\\n\"[p=0.11, l=13.25]', '\" unknown\"[p=0.09, l=13.00]', '\" basketball\"[p=0.07, l=12.75]', '\"?\"[p=0.04, l=12.31]', '\"??\"[p=0.04, l=12.25]', '\"?\\n\\n\"[p=0.04, l=12.25]', '\" football\"[p=0.04, l=12.12]', '\"???\"[p=0.02, l=11.75]', '\" politician\"[p=0.02, l=11.75]', '\" software\"[p=0.02, l=11.50]', '\" philosopher\"[p=0.01, l=11.06]', '\" ancient\"[p=0.01, l=11.06]', '\" soccer\"[p=0.01, l=11.00]', '\" engineer\"[p=0.01, l=10.88]', '\" Greek\"[p=0.01, l=10.88]']\n",
      "token_idx=27 [\" Ant\"] => ['\"?\\n\"[p=0.09, l=12.44]', '\"??\"[p=0.08, l=12.31]', '\" actor\"[p=0.07, l=12.19]', '\"?\"[p=0.05, l=11.81]', '\" software\"[p=0.04, l=11.50]', '\"???\"[p=0.03, l=11.38]', '\" programmer\"[p=0.03, l=11.19]', '\" unknown\"[p=0.02, l=11.12]', '\"?\\n\\n\"[p=0.02, l=10.94]', '\" insect\"[p=0.02, l=10.69]', '\" lawyer\"[p=0.02, l=10.69]', '\" developer\"[p=0.02, l=10.62]', '\" ant\"[p=0.01, l=10.56]', '\" artist\"[p=0.01, l=10.31]', '\" Ant\"[p=0.01, l=10.31]']\n",
      "token_idx=28 [\"et\"] => ['\"?\\n\"[p=0.07, l=10.81]', '\"??\"[p=0.06, l=10.69]', '\" unknown\"[p=0.04, l=10.38]', '\"?\"[p=0.04, l=10.31]', '\"?\\n\\n\"[p=0.03, l=9.81]', '\"???\"[p=0.02, l=9.75]', '\" not\"[p=0.01, l=9.25]', '\" no\"[p=0.01, l=9.25]', '\" artist\"[p=0.01, l=9.06]', '\" football\"[p=0.01, l=9.06]', '\" entrepreneur\"[p=0.01, l=9.06]', '\" (\"[p=0.01, l=8.81]', '\" musician\"[p=0.01, l=8.81]', '\" \"[p=0.01, l=8.81]', '\" \\n\"[p=0.01, l=8.75]']\n",
      "token_idx=29 [\"ok\"] => ['\"?\\n\"[p=0.08, l=11.62]', '\"??\"[p=0.07, l=11.50]', '\"???\"[p=0.04, l=11.00]', '\" unknown\"[p=0.04, l=10.88]', '\"?\"[p=0.03, l=10.75]', '\"?\\n\\n\"[p=0.03, l=10.75]', '\" entrepreneur\"[p=0.02, l=10.25]', '\" artist\"[p=0.02, l=10.12]', '\" programmer\"[p=0.02, l=10.00]', '\" software\"[p=0.01, l=9.75]', '\" politician\"[p=0.01, l=9.75]', '\" no\"[p=0.01, l=9.56]', '\" musician\"[p=0.01, l=9.56]', '\" actor\"[p=0.01, l=9.50]', '\" (\"[p=0.01, l=9.50]']\n",
      "token_idx=30 [\"oun\"] => ['\" basketball\"[p=0.16, l=12.06]', '\"?\\n\"[p=0.05, l=10.88]', '\" unknown\"[p=0.05, l=10.88]', '\"??\"[p=0.05, l=10.81]', '\"?\"[p=0.03, l=10.31]', '\" football\"[p=0.03, l=10.25]', '\"?\\n\\n\"[p=0.02, l=9.88]', '\" politician\"[p=0.02, l=9.75]', '\"???\"[p=0.01, l=9.62]', '\" athlete\"[p=0.01, l=9.62]', '\" Greek\"[p=0.01, l=9.50]', '\" entrepreneur\"[p=0.01, l=9.50]', '\" soccer\"[p=0.01, l=9.31]', '\" (\"[p=0.01, l=9.31]', '\" not\"[p=0.01, l=9.25]']\n",
      "token_idx=31 [\"mp\"] => ['\"?\\n\"[p=0.10, l=11.75]', '\"??\"[p=0.07, l=11.44]', '\"?\"[p=0.06, l=11.19]', '\"?\\n\\n\"[p=0.05, l=11.00]', '\" unknown\"[p=0.04, l=10.81]', '\"???\"[p=0.03, l=10.50]', '\" musician\"[p=0.02, l=10.31]', '\" \\n\"[p=0.02, l=10.19]', '\" (\"[p=0.02, l=10.00]', '\" software\"[p=0.02, l=9.94]', '\" politician\"[p=0.02, l=9.94]', '\" artist\"[p=0.01, l=9.81]', '\" programmer\"[p=0.01, l=9.69]', '\" singer\"[p=0.01, l=9.69]', '\" entrepreneur\"[p=0.01, l=9.56]']\n",
      "token_idx=32 [\"o\"] => ['\"?\\n\"[p=0.17, l=13.12]', '\"?\\n\\n\"[p=0.08, l=12.31]', '\"?\"[p=0.07, l=12.19]', '\"??\"[p=0.05, l=11.94]', '\" \\n\"[p=0.03, l=11.31]', '\" basketball\"[p=0.03, l=11.19]', '\" football\"[p=0.02, l=11.06]', '\"???\"[p=0.02, l=11.00]', '\" unknown\"[p=0.02, l=10.94]', '\" politician\"[p=0.02, l=10.81]', '\" software\"[p=0.02, l=10.69]', '\" (\"[p=0.01, l=10.56]', '\" athlete\"[p=0.01, l=10.56]', '\" entrepreneur\"[p=0.01, l=10.56]', '\" actor\"[p=0.01, l=10.50]']\n",
      "\n",
      "\" Beyoncé\" | cur_rng=(34, 36)\n",
      "token_idx=34 [\" Bey\"] => ['\" singer\"[p=0.78, l=17.00]', '\" musician\"[p=0.06, l=14.44]', '\" pop\"[p=0.03, l=13.69]', '\" Singer\"[p=0.01, l=12.75]', '\" artist\"[p=0.01, l=12.56]', '\" music\"[p=0.01, l=12.44]', '\" performer\"[p=0.01, l=12.00]', '\" actress\"[p=0.00, l=11.50]', '\" entert\"[p=0.00, l=11.50]', '\" \"[p=0.00, l=11.44]', '\" Music\"[p=0.00, l=11.31]', '\" entrepreneur\"[p=0.00, l=11.12]', '\" songwriter\"[p=0.00, l=11.12]', '\"??\"[p=0.00, l=10.94]', '\" celebrity\"[p=0.00, l=10.81]']\n",
      "token_idx=35 [\"oncé\"] => ['\" singer\"[p=0.92, l=20.75]', '\" musician\"[p=0.04, l=17.62]', '\" pop\"[p=0.01, l=15.88]', '\" actress\"[p=0.01, l=15.56]', '\" Singer\"[p=0.00, l=15.19]', '\" entert\"[p=0.00, l=15.12]', '\" music\"[p=0.00, l=14.62]', '\" artist\"[p=0.00, l=14.31]', '\" \"[p=0.00, l=14.06]', '\" Music\"[p=0.00, l=13.94]', '\" actor\"[p=0.00, l=13.50]', '\" songwriter\"[p=0.00, l=13.38]', '\" rapper\"[p=0.00, l=13.19]', '\" (\"[p=0.00, l=13.00]', '\" entrepreneur\"[p=0.00, l=12.75]']\n",
      "\n",
      "\" Stephen King\" | cur_rng=(37, 39)\n",
      "token_idx=37 [\" Stephen\"] => ['\"?\\n\"[p=0.13, l=13.19]', '\"?\"[p=0.05, l=12.31]', '\" unknown\"[p=0.04, l=12.12]', '\" actor\"[p=0.04, l=12.12]', '\" philosopher\"[p=0.04, l=12.06]', '\"??\"[p=0.03, l=11.88]', '\" programmer\"[p=0.02, l=11.50]', '\"???\"[p=0.02, l=11.38]', '\"?\\n\\n\"[p=0.02, l=11.38]', '\" engineer\"[p=0.02, l=11.25]', '\" software\"[p=0.02, l=11.19]', '\" king\"[p=0.02, l=11.06]', '\" no\"[p=0.01, l=11.00]', '\" writer\"[p=0.01, l=10.81]', '\" what\"[p=0.01, l=10.81]']\n",
      "token_idx=38 [\" King\"] => ['\" writer\"[p=0.41, l=19.12]', '\" author\"[p=0.41, l=19.12]', '\" novelist\"[p=0.13, l=18.00]', '\" horror\"[p=0.01, l=15.56]', '\" Writer\"[p=0.00, l=14.56]', '\" Author\"[p=0.00, l=14.38]', '\"?\\n\"[p=0.00, l=13.44]', '\" (\"[p=0.00, l=13.38]', '\" \"[p=0.00, l=12.94]', '\" Stephen\"[p=0.00, l=12.94]', '\" fiction\"[p=0.00, l=12.81]', '\" lawyer\"[p=0.00, l=12.69]', '\"writer\"[p=0.00, l=12.56]', '\"?\"[p=0.00, l=12.56]', '\"??\"[p=0.00, l=12.38]']\n",
      "\n",
      "\" Novak Djokovic\" | cur_rng=(40, 45)\n",
      "token_idx=40 [\" Nov\"] => ['\"?\\n\"[p=0.11, l=11.31]', '\"??\"[p=0.06, l=10.81]', '\"?\"[p=0.05, l=10.62]', '\"?\\n\\n\"[p=0.05, l=10.56]', '\"???\"[p=0.02, l=9.81]', '\" unknown\"[p=0.02, l=9.75]', '\" artist\"[p=0.02, l=9.69]', '\" programmer\"[p=0.02, l=9.44]', '\" entrepreneur\"[p=0.01, l=9.25]', '\" musician\"[p=0.01, l=9.12]', '\" singer\"[p=0.01, l=9.00]', '\" None\"[p=0.01, l=8.94]', '\" politician\"[p=0.01, l=8.94]', '\" what\"[p=0.01, l=8.94]', '\" scientist\"[p=0.01, l=8.75]']\n",
      "token_idx=41 [\"ak\"] => ['\" tennis\"[p=0.21, l=13.50]', '\"?\\n\"[p=0.11, l=12.88]', '\"?\"[p=0.07, l=12.44]', '\"?\\n\\n\"[p=0.04, l=11.81]', '\"??\"[p=0.03, l=11.69]', '\" musician\"[p=0.03, l=11.50]', '\" politician\"[p=0.02, l=11.38]', '\" unknown\"[p=0.02, l=11.19]', '\"???\"[p=0.02, l=11.12]', '\" what\"[p=0.01, l=10.56]', '\" actor\"[p=0.01, l=10.50]', '\" (\"[p=0.01, l=10.38]', '\" artist\"[p=0.01, l=10.38]', '\" Dj\"[p=0.01, l=10.31]', '\" football\"[p=0.01, l=10.31]']\n",
      "token_idx=42 [\" Dj\"] => ['\"?\\n\"[p=0.05, l=11.00]', '\" DJ\"[p=0.05, l=10.88]', '\" musician\"[p=0.03, l=10.56]', '\"??\"[p=0.03, l=10.50]', '\" unknown\"[p=0.03, l=10.44]', '\" singer\"[p=0.02, l=10.19]', '\" dj\"[p=0.02, l=10.00]', '\" actor\"[p=0.02, l=10.00]', '\"?\"[p=0.02, l=9.94]', '\" programmer\"[p=0.02, l=9.88]', '\"???\"[p=0.02, l=9.81]', '\" software\"[p=0.02, l=9.81]', '\" no\"[p=0.01, l=9.56]', '\" disc\"[p=0.01, l=9.44]', '\" Dj\"[p=0.01, l=9.38]']\n",
      "token_idx=43 [\"ok\"] => ['\" tennis\"[p=0.33, l=13.62]', '\" musician\"[p=0.09, l=12.38]', '\"??\"[p=0.03, l=11.25]', '\" singer\"[p=0.03, l=11.19]', '\"?\\n\"[p=0.03, l=11.12]', '\"???\"[p=0.02, l=10.94]', '\"?\"[p=0.02, l=10.69]', '\" dj\"[p=0.01, l=10.44]', '\" Nov\"[p=0.01, l=10.44]', '\" Dj\"[p=0.01, l=10.19]', '\" artist\"[p=0.01, l=9.81]', '\" unknown\"[p=0.01, l=9.81]', '\" politician\"[p=0.01, l=9.75]', '\"?\\n\\n\"[p=0.01, l=9.75]', '\" DJ\"[p=0.01, l=9.69]']\n",
      "token_idx=44 [\"ovic\"] => ['\" tennis\"[p=0.23, l=14.62]', '\"?\\n\"[p=0.16, l=14.25]', '\"?\\n\\n\"[p=0.06, l=13.25]', '\"?\"[p=0.06, l=13.19]', '\" athlete\"[p=0.04, l=12.94]', '\"??\"[p=0.04, l=12.88]', '\" football\"[p=0.03, l=12.69]', '\" soccer\"[p=0.03, l=12.62]', '\" \\n\"[p=0.02, l=12.19]', '\" unknown\"[p=0.02, l=12.12]', '\" (\"[p=0.01, l=11.69]', '\"???\"[p=0.01, l=11.69]', '\" basketball\"[p=0.01, l=11.62]', '\" politician\"[p=0.01, l=11.56]', '\" \"[p=0.01, l=11.19]']\n",
      "======================================================================================================================================================\n",
      "\n",
      "layer='model.layers.36'\n",
      "\n",
      "\"Ans:\" | cur_rng=(-2, 0)\n",
      "token_idx=-2 [\"Ans\"] => ['\"?\\n\"[p=0.04, l=10.00]', '\" Ans\"[p=0.04, l=10.00]', '\" unknown\"[p=0.02, l=9.62]', '\" artist\"[p=0.02, l=9.56]', '\" programmer\"[p=0.02, l=9.12]', '\" entrepreneur\"[p=0.02, l=9.12]', '\"??\"[p=0.02, l=9.12]', '\" person\"[p=0.01, l=8.88]', '\" politician\"[p=0.01, l=8.81]', '\" student\"[p=0.01, l=8.81]', '\" \\n\"[p=0.01, l=8.81]', '\"?\\n\\n\"[p=0.01, l=8.81]', '\" scientist\"[p=0.01, l=8.81]', '\" software\"[p=0.01, l=8.75]', '\" computer\"[p=0.01, l=8.62]']\n",
      "token_idx=-1 [\":\"] => ['\"?\\n\"[p=0.13, l=11.81]', '\"?\\n\\n\"[p=0.06, l=10.94]', '\" \\n\"[p=0.05, l=10.75]', '\" ->\"[p=0.04, l=10.50]', '\"?\"[p=0.03, l=10.44]', '\" (\"[p=0.02, l=10.06]', '\" \"[p=0.02, l=9.94]', '\"\\n\\n\"[p=0.01, l=9.62]', '\" profession\"[p=0.01, l=9.56]', '\" ->\\n\"[p=0.01, l=9.56]', '\" lawyer\"[p=0.01, l=9.50]', '\"??\"[p=0.01, l=9.44]', '\" unknown\"[p=0.01, l=9.38]', '\" artist\"[p=0.01, l=9.19]', '\" person\"[p=0.01, l=9.00]']\n",
      "\n",
      "\" Johnny Depp\" | cur_rng=(13, 16)\n",
      "token_idx=13 [\" Johnny\"] => ['\" musician\"[p=0.09, l=12.44]', '\"?\\n\"[p=0.06, l=12.06]', '\" unknown\"[p=0.06, l=12.06]', '\" singer\"[p=0.05, l=11.88]', '\" actor\"[p=0.04, l=11.56]', '\"??\"[p=0.03, l=11.38]', '\"?\"[p=0.03, l=11.25]', '\"???\"[p=0.02, l=10.94]', '\" rock\"[p=0.02, l=10.69]', '\" (\"[p=0.02, l=10.62]', '\" no\"[p=0.01, l=10.44]', '\"?\\n\\n\"[p=0.01, l=10.31]', '\" artist\"[p=0.01, l=10.19]', '\" football\"[p=0.01, l=10.19]', '\" pirate\"[p=0.01, l=10.19]']\n",
      "token_idx=14 [\" De\"] => ['\"?\\n\"[p=0.11, l=11.38]', '\"??\"[p=0.05, l=10.62]', '\"?\"[p=0.05, l=10.62]', '\"?\\n\\n\"[p=0.04, l=10.44]', '\" unknown\"[p=0.04, l=10.31]', '\" artist\"[p=0.02, l=9.62]', '\"???\"[p=0.02, l=9.44]', '\" actor\"[p=0.01, l=9.38]', '\" singer\"[p=0.01, l=9.19]', '\" musician\"[p=0.01, l=9.12]', '\" programmer\"[p=0.01, l=9.00]', '\" politician\"[p=0.01, l=9.00]', '\" \\n\"[p=0.01, l=8.94]', '\" lawyer\"[p=0.01, l=8.94]', '\" (\"[p=0.01, l=8.88]']\n",
      "token_idx=15 [\"pp\"] => ['\" actor\"[p=0.96, l=19.00]', '\"?\\n\"[p=0.00, l=13.44]', '\" Actor\"[p=0.00, l=13.19]', '\" movie\"[p=0.00, l=12.81]', '\" (\"[p=0.00, l=12.62]', '\"??\"[p=0.00, l=12.31]', '\" film\"[p=0.00, l=12.19]', '\"?\"[p=0.00, l=12.12]', '\" \"[p=0.00, l=12.06]', '\" what\"[p=0.00, l=11.75]', '\"?\\n\\n\"[p=0.00, l=11.75]', '\" \\n\"[p=0.00, l=11.75]', '\" ->\"[p=0.00, l=11.69]', '\" actress\"[p=0.00, l=11.50]', '\"???\"[p=0.00, l=11.44]']\n",
      "\n",
      "\" Marc Jacobs\" | cur_rng=(19, 21)\n",
      "token_idx=19 [\" Marc\"] => ['\"?\\n\"[p=0.14, l=12.69]', '\"?\"[p=0.05, l=11.75]', '\"?\\n\\n\"[p=0.05, l=11.62]', '\"??\"[p=0.04, l=11.50]', '\" unknown\"[p=0.03, l=11.31]', '\"???\"[p=0.03, l=11.00]', '\" programmer\"[p=0.02, l=10.88]', '\" artist\"[p=0.02, l=10.62]', '\" software\"[p=0.02, l=10.62]', '\" actor\"[p=0.02, l=10.56]', '\" musician\"[p=0.02, l=10.50]', '\" engineer\"[p=0.01, l=10.44]', '\" football\"[p=0.01, l=10.38]', '\" entrepreneur\"[p=0.01, l=10.19]', '\" singer\"[p=0.01, l=10.19]']\n",
      "token_idx=20 [\" Jacobs\"] => ['\" fashion\"[p=0.91, l=19.12]', '\" designer\"[p=0.05, l=16.12]', '\" Fashion\"[p=0.00, l=13.62]', '\"?\\n\"[p=0.00, l=13.50]', '\" (\"[p=0.00, l=12.94]', '\" \"[p=0.00, l=12.94]', '\"??\"[p=0.00, l=12.81]', '\"?\"[p=0.00, l=12.50]', '\" unknown\"[p=0.00, l=12.31]', '\" entrepreneur\"[p=0.00, l=12.25]', '\" artist\"[p=0.00, l=12.06]', '\" model\"[p=0.00, l=11.94]', '\" clothing\"[p=0.00, l=11.81]', '\"???\"[p=0.00, l=11.75]', '\"f\"[p=0.00, l=11.62]']\n",
      "\n",
      "\" Jennifer Lawrence\" | cur_rng=(22, 24)\n",
      "token_idx=22 [\" Jennifer\"] => ['\" actress\"[p=0.34, l=14.69]', '\" singer\"[p=0.10, l=13.44]', '\" actor\"[p=0.05, l=12.81]', '\"?\\n\"[p=0.05, l=12.81]', '\" unknown\"[p=0.03, l=12.38]', '\"??\"[p=0.02, l=12.06]', '\" lawyer\"[p=0.02, l=12.06]', '\"?\"[p=0.02, l=12.00]', '\" teacher\"[p=0.01, l=11.19]', '\" no\"[p=0.01, l=11.12]', '\"???\"[p=0.01, l=11.12]', '\" model\"[p=0.01, l=11.12]', '\" movie\"[p=0.01, l=11.06]', '\"?\\n\\n\"[p=0.01, l=11.00]', '\" (\"[p=0.01, l=10.94]']\n",
      "token_idx=23 [\" Lawrence\"] => ['\" actress\"[p=0.92, l=19.00]', '\" actor\"[p=0.04, l=15.81]', '\"?\\n\"[p=0.00, l=13.38]', '\" movie\"[p=0.00, l=13.19]', '\"??\"[p=0.00, l=13.06]', '\" Actress\"[p=0.00, l=12.62]', '\" unknown\"[p=0.00, l=12.44]', '\"?\"[p=0.00, l=12.44]', '\" (\"[p=0.00, l=12.19]', '\" \"[p=0.00, l=12.00]', '\" what\"[p=0.00, l=11.94]', '\" singer\"[p=0.00, l=11.94]', '\" no\"[p=0.00, l=11.88]', '\"???\"[p=0.00, l=11.81]', '\" film\"[p=0.00, l=11.81]']\n",
      "\n",
      "\" Giannis Antetokounmpo\" | cur_rng=(25, 33)\n",
      "token_idx=25 [\" Gi\"] => ['\"?\\n\"[p=0.11, l=11.31]', '\"??\"[p=0.03, l=10.12]', '\"?\"[p=0.03, l=10.00]', '\" singer\"[p=0.02, l=9.69]', '\" artist\"[p=0.02, l=9.31]', '\" musician\"[p=0.01, l=9.25]', '\"?\\n\\n\"[p=0.01, l=9.19]', '\"???\"[p=0.01, l=9.12]', '\" entrepreneur\"[p=0.01, l=9.12]', '\" unknown\"[p=0.01, l=9.12]', '\" football\"[p=0.01, l=9.06]', '\" politician\"[p=0.01, l=8.94]', '\" \"[p=0.01, l=8.75]', '\" what\"[p=0.01, l=8.69]', '\" \\n\"[p=0.01, l=8.69]']\n",
      "token_idx=26 [\"annis\"] => ['\"?\\n\"[p=0.16, l=13.94]', '\" unknown\"[p=0.06, l=13.06]', '\"?\\n\\n\"[p=0.06, l=13.00]', '\" basketball\"[p=0.05, l=12.88]', '\"?\"[p=0.05, l=12.88]', '\" football\"[p=0.05, l=12.88]', '\"??\"[p=0.04, l=12.69]', '\" politician\"[p=0.04, l=12.50]', '\"???\"[p=0.03, l=12.12]', '\" soccer\"[p=0.02, l=11.75]', '\" software\"[p=0.02, l=11.62]', '\" what\"[p=0.01, l=11.31]', '\" Greek\"[p=0.01, l=11.25]', '\" philosopher\"[p=0.01, l=11.19]', '\" programmer\"[p=0.01, l=11.19]']\n",
      "token_idx=27 [\" Ant\"] => ['\" software\"[p=0.10, l=12.81]', '\"??\"[p=0.06, l=12.25]', '\" actor\"[p=0.05, l=12.06]', '\" programmer\"[p=0.05, l=12.06]', '\" developer\"[p=0.04, l=11.94]', '\"?\\n\"[p=0.04, l=11.75]', '\" unknown\"[p=0.02, l=11.38]', '\" architect\"[p=0.02, l=11.25]', '\" farmer\"[p=0.02, l=11.19]', '\"???\"[p=0.02, l=11.06]', '\" ant\"[p=0.02, l=11.06]', '\" carp\"[p=0.02, l=11.00]', '\"?\"[p=0.02, l=10.94]', '\" lawyer\"[p=0.02, l=10.94]', '\" insect\"[p=0.01, l=10.69]']\n",
      "token_idx=28 [\"et\"] => ['\"?\\n\"[p=0.10, l=11.50]', '\"??\"[p=0.08, l=11.25]', '\"?\"[p=0.06, l=10.94]', '\"?\\n\\n\"[p=0.04, l=10.62]', '\" unknown\"[p=0.04, l=10.56]', '\"???\"[p=0.03, l=10.31]', '\" politician\"[p=0.01, l=9.31]', '\" entrepreneur\"[p=0.01, l=9.25]', '\" artist\"[p=0.01, l=9.19]', '\" what\"[p=0.01, l=9.06]', '\" \"[p=0.01, l=9.06]', '\" (\"[p=0.01, l=9.06]', '\" \\n\"[p=0.01, l=9.00]', '\" not\"[p=0.01, l=9.00]', '\" software\"[p=0.01, l=9.00]']\n",
      "token_idx=29 [\"ok\"] => ['\" unknown\"[p=0.05, l=11.06]', '\"??\"[p=0.05, l=11.00]', '\"?\\n\"[p=0.05, l=10.94]', '\"???\"[p=0.03, l=10.56]', '\"?\"[p=0.02, l=10.12]', '\" entrepreneur\"[p=0.02, l=10.00]', '\"?\\n\\n\"[p=0.02, l=9.88]', '\" no\"[p=0.01, l=9.62]', '\" artist\"[p=0.01, l=9.56]', '\" politician\"[p=0.01, l=9.44]', '\" programmer\"[p=0.01, l=9.38]', '\" astronaut\"[p=0.01, l=9.38]', '\" software\"[p=0.01, l=9.31]', '\" (\"[p=0.01, l=9.25]', '\" musician\"[p=0.01, l=9.19]']\n",
      "token_idx=30 [\"oun\"] => ['\"?\\n\"[p=0.11, l=12.06]', '\" basketball\"[p=0.09, l=11.81]', '\"??\"[p=0.07, l=11.56]', '\"?\"[p=0.06, l=11.44]', '\"?\\n\\n\"[p=0.05, l=11.31]', '\" unknown\"[p=0.04, l=11.06]', '\"???\"[p=0.02, l=10.38]', '\" politician\"[p=0.02, l=10.38]', '\" entrepreneur\"[p=0.02, l=10.19]', '\" football\"[p=0.02, l=10.06]', '\" \\n\"[p=0.01, l=9.81]', '\" athlete\"[p=0.01, l=9.75]', '\" Greek\"[p=0.01, l=9.69]', '\" what\"[p=0.01, l=9.62]', '\" (\"[p=0.01, l=9.38]']\n",
      "token_idx=31 [\"mp\"] => ['\"?\\n\"[p=0.12, l=12.25]', '\"??\"[p=0.07, l=11.69]', '\"?\"[p=0.06, l=11.62]', '\"?\\n\\n\"[p=0.06, l=11.56]', '\" unknown\"[p=0.03, l=10.81]', '\"???\"[p=0.02, l=10.56]', '\" \\n\"[p=0.02, l=10.56]', '\" musician\"[p=0.02, l=10.31]', '\" politician\"[p=0.02, l=10.25]', '\" (\"[p=0.02, l=10.19]', '\" artist\"[p=0.02, l=10.19]', '\" lawyer\"[p=0.01, l=10.06]', '\" singer\"[p=0.01, l=10.06]', '\" entrepreneur\"[p=0.01, l=9.94]', '\" programmer\"[p=0.01, l=9.88]']\n",
      "token_idx=32 [\"o\"] => ['\"?\\n\"[p=0.25, l=13.88]', '\"?\\n\\n\"[p=0.12, l=13.12]', '\"?\"[p=0.08, l=12.75]', '\"??\"[p=0.06, l=12.50]', '\" \\n\"[p=0.03, l=11.62]', '\"???\"[p=0.03, l=11.62]', '\" software\"[p=0.01, l=11.00]', '\" football\"[p=0.01, l=11.00]', '\" politician\"[p=0.01, l=10.94]', '\" lawyer\"[p=0.01, l=10.94]', '\" unknown\"[p=0.01, l=10.81]', '\" actor\"[p=0.01, l=10.75]', '\" basketball\"[p=0.01, l=10.75]', '\" (\"[p=0.01, l=10.69]', '\" \"[p=0.01, l=10.62]']\n",
      "\n",
      "\" Beyoncé\" | cur_rng=(34, 36)\n",
      "token_idx=34 [\" Bey\"] => ['\" singer\"[p=0.66, l=15.44]', '\" musician\"[p=0.07, l=13.19]', '\" pop\"[p=0.03, l=12.38]', '\" Singer\"[p=0.01, l=11.56]', '\" artist\"[p=0.01, l=11.50]', '\" music\"[p=0.01, l=11.25]', '\" performer\"[p=0.01, l=10.75]', '\"??\"[p=0.00, l=10.38]', '\" entrepreneur\"[p=0.00, l=10.38]', '\" \"[p=0.00, l=10.38]', '\" actress\"[p=0.00, l=10.38]', '\" queen\"[p=0.00, l=10.25]', '\" entert\"[p=0.00, l=10.25]', '\" Queen\"[p=0.00, l=10.25]', '\" Music\"[p=0.00, l=10.25]']\n",
      "token_idx=35 [\"oncé\"] => ['\" singer\"[p=0.94, l=20.62]', '\" musician\"[p=0.03, l=17.12]', '\" pop\"[p=0.01, l=15.44]', '\" Singer\"[p=0.00, l=15.38]', '\" music\"[p=0.00, l=14.56]', '\" entert\"[p=0.00, l=14.25]', '\" actress\"[p=0.00, l=14.12]', '\" \"[p=0.00, l=14.06]', '\" artist\"[p=0.00, l=14.06]', '\" Music\"[p=0.00, l=13.94]', '\" \\n\"[p=0.00, l=13.12]', '\" (\"[p=0.00, l=13.12]', '\"?\\n\"[p=0.00, l=13.06]', '\" songwriter\"[p=0.00, l=12.94]', '\" celebrity\"[p=0.00, l=12.56]']\n",
      "\n",
      "\" Stephen King\" | cur_rng=(37, 39)\n",
      "token_idx=37 [\" Stephen\"] => ['\"?\\n\"[p=0.13, l=13.25]', '\"?\"[p=0.06, l=12.44]', '\" philosopher\"[p=0.05, l=12.25]', '\" unknown\"[p=0.04, l=12.12]', '\"??\"[p=0.04, l=12.06]', '\" actor\"[p=0.04, l=12.00]', '\" programmer\"[p=0.03, l=11.69]', '\"?\\n\\n\"[p=0.03, l=11.62]', '\"???\"[p=0.02, l=11.44]', '\" software\"[p=0.02, l=11.38]', '\" engineer\"[p=0.02, l=11.25]', '\" no\"[p=0.02, l=11.19]', '\" (\"[p=0.01, l=11.06]', '\" what\"[p=0.01, l=10.88]', '\" king\"[p=0.01, l=10.81]']\n",
      "token_idx=38 [\" King\"] => ['\" author\"[p=0.47, l=18.88]', '\" writer\"[p=0.36, l=18.62]', '\" novelist\"[p=0.12, l=17.50]', '\" horror\"[p=0.01, l=15.19]', '\"?\\n\"[p=0.00, l=14.12]', '\" Writer\"[p=0.00, l=14.00]', '\" Author\"[p=0.00, l=13.88]', '\" Stephen\"[p=0.00, l=13.25]', '\" (\"[p=0.00, l=13.12]', '\"??\"[p=0.00, l=13.00]', '\"?\"[p=0.00, l=13.00]', '\" \"[p=0.00, l=12.75]', '\" fiction\"[p=0.00, l=12.56]', '\" lawyer\"[p=0.00, l=12.56]', '\"???\"[p=0.00, l=12.06]']\n",
      "\n",
      "\" Novak Djokovic\" | cur_rng=(40, 45)\n",
      "token_idx=40 [\" Nov\"] => ['\"?\\n\"[p=0.10, l=11.12]', '\"??\"[p=0.06, l=10.69]', '\"?\"[p=0.05, l=10.44]', '\"?\\n\\n\"[p=0.04, l=10.25]', '\" unknown\"[p=0.03, l=9.94]', '\"???\"[p=0.02, l=9.69]', '\" artist\"[p=0.02, l=9.56]', '\" musician\"[p=0.01, l=9.19]', '\" singer\"[p=0.01, l=9.12]', '\" programmer\"[p=0.01, l=9.06]', '\" entrepreneur\"[p=0.01, l=9.00]', '\" politician\"[p=0.01, l=9.00]', '\" what\"[p=0.01, l=8.94]', '\" Nov\"[p=0.01, l=8.81]', '\" \"[p=0.01, l=8.62]']\n",
      "token_idx=41 [\"ak\"] => ['\" tennis\"[p=0.17, l=13.19]', '\"?\\n\"[p=0.13, l=12.94]', '\"?\"[p=0.08, l=12.38]', '\"?\\n\\n\"[p=0.05, l=12.00]', '\"??\"[p=0.04, l=11.69]', '\" musician\"[p=0.03, l=11.38]', '\" politician\"[p=0.03, l=11.31]', '\"???\"[p=0.02, l=11.06]', '\" unknown\"[p=0.02, l=10.88]', '\" what\"[p=0.01, l=10.62]', '\" Dj\"[p=0.01, l=10.31]', '\" actor\"[p=0.01, l=10.25]', '\" \\n\"[p=0.01, l=10.19]', '\" artist\"[p=0.01, l=10.19]', '\" (\"[p=0.01, l=10.12]']\n",
      "token_idx=42 [\" Dj\"] => ['\" DJ\"[p=0.19, l=13.88]', '\" disc\"[p=0.14, l=13.56]', '\" dj\"[p=0.07, l=12.81]', '\" disk\"[p=0.05, l=12.50]', '\" Disc\"[p=0.03, l=12.12]', '\" radio\"[p=0.03, l=11.94]', '\" musician\"[p=0.02, l=11.81]', '\"?\\n\"[p=0.02, l=11.75]', '\" Dj\"[p=0.02, l=11.62]', '\"??\"[p=0.01, l=11.31]', '\" unknown\"[p=0.01, l=11.31]', '\" software\"[p=0.01, l=11.25]', '\" singer\"[p=0.01, l=11.19]', '\" what\"[p=0.01, l=11.06]', '\" de\"[p=0.01, l=10.94]']\n",
      "token_idx=43 [\"ok\"] => ['\" tennis\"[p=0.29, l=13.44]', '\"?\\n\"[p=0.07, l=12.00]', '\"??\"[p=0.05, l=11.69]', '\" musician\"[p=0.04, l=11.56]', '\"?\"[p=0.04, l=11.44]', '\"???\"[p=0.03, l=11.19]', '\"?\\n\\n\"[p=0.02, l=10.81]', '\" unknown\"[p=0.01, l=10.19]', '\" singer\"[p=0.01, l=10.19]', '\" Nov\"[p=0.01, l=10.12]', '\" dj\"[p=0.01, l=10.00]', '\" what\"[p=0.01, l=9.94]', '\" Dj\"[p=0.01, l=9.88]', '\" (\"[p=0.01, l=9.88]', '\" athlete\"[p=0.01, l=9.81]']\n",
      "token_idx=44 [\"ovic\"] => ['\"?\\n\"[p=0.20, l=14.44]', '\" tennis\"[p=0.17, l=14.25]', '\"?\\n\\n\"[p=0.08, l=13.50]', '\"?\"[p=0.07, l=13.38]', '\" football\"[p=0.04, l=12.94]', '\"??\"[p=0.04, l=12.94]', '\" athlete\"[p=0.03, l=12.62]', '\" soccer\"[p=0.03, l=12.50]', '\" \\n\"[p=0.02, l=12.25]', '\"???\"[p=0.02, l=11.94]', '\" unknown\"[p=0.02, l=11.94]', '\" basketball\"[p=0.01, l=11.75]', '\" (\"[p=0.01, l=11.69]', '\" politician\"[p=0.01, l=11.38]', '\" Nov\"[p=0.01, l=11.19]']\n",
      "======================================================================================================================================================\n",
      "\n",
      "layer='model.layers.39'\n",
      "\n",
      "\"Ans:\" | cur_rng=(-2, 0)\n",
      "token_idx=-2 [\"Ans\"] => ['\" Ans\"[p=0.05, l=10.31]', '\" unknown\"[p=0.03, l=9.94]', '\"?\\n\"[p=0.03, l=9.81]', '\" artist\"[p=0.03, l=9.75]', '\" programmer\"[p=0.01, l=9.06]', '\" entrepreneur\"[p=0.01, l=9.06]', '\" student\"[p=0.01, l=9.00]', '\"??\"[p=0.01, l=8.88]', '\" person\"[p=0.01, l=8.88]', '\" software\"[p=0.01, l=8.75]', '\" computer\"[p=0.01, l=8.75]', '\" \\n\"[p=0.01, l=8.75]', '\"?\\n\\n\"[p=0.01, l=8.62]', '\" scientist\"[p=0.01, l=8.62]', '\" Answer\"[p=0.01, l=8.56]']\n",
      "token_idx=-1 [\":\"] => ['\"?\\n\"[p=0.13, l=12.00]', '\"?\\n\\n\"[p=0.08, l=11.50]', '\" \\n\"[p=0.06, l=11.19]', '\"?\"[p=0.03, l=10.62]', '\"\\n\\n\"[p=0.03, l=10.62]', '\" ->\"[p=0.03, l=10.38]', '\" (\"[p=0.02, l=10.12]', '\" :\"[p=0.02, l=9.88]', '\" \\n\\n\"[p=0.01, l=9.75]', '\" ->\\n\"[p=0.01, l=9.69]', '\" profession\"[p=0.01, l=9.62]', '\" \"[p=0.01, l=9.50]', '\" entrepreneur\"[p=0.01, l=9.38]', '\" lawyer\"[p=0.01, l=9.38]', '\"??\"[p=0.01, l=9.25]']\n",
      "\n",
      "\" Johnny Depp\" | cur_rng=(13, 16)\n",
      "token_idx=13 [\" Johnny\"] => ['\" musician\"[p=0.12, l=12.75]', '\" singer\"[p=0.08, l=12.31]', '\" unknown\"[p=0.06, l=12.06]', '\"?\\n\"[p=0.06, l=12.00]', '\" actor\"[p=0.04, l=11.75]', '\"?\"[p=0.03, l=11.25]', '\" rock\"[p=0.03, l=11.19]', '\"??\"[p=0.03, l=11.19]', '\"???\"[p=0.02, l=10.88]', '\" (\"[p=0.02, l=10.75]', '\" no\"[p=0.02, l=10.75]', '\"?\\n\\n\"[p=0.01, l=10.44]', '\" Johnny\"[p=0.01, l=10.38]', '\" football\"[p=0.01, l=10.38]', '\" artist\"[p=0.01, l=10.19]']\n",
      "token_idx=14 [\" De\"] => ['\"?\\n\"[p=0.10, l=11.38]', '\" unknown\"[p=0.06, l=10.75]', '\"?\"[p=0.05, l=10.56]', '\"??\"[p=0.04, l=10.44]', '\"?\\n\\n\"[p=0.04, l=10.31]', '\" artist\"[p=0.02, l=9.56]', '\"???\"[p=0.01, l=9.44]', '\" lawyer\"[p=0.01, l=9.31]', '\" programmer\"[p=0.01, l=9.19]', '\" politician\"[p=0.01, l=9.06]', '\" actor\"[p=0.01, l=9.06]', '\" software\"[p=0.01, l=9.00]', '\" (\"[p=0.01, l=9.00]', '\" musician\"[p=0.01, l=8.88]', '\" singer\"[p=0.01, l=8.88]']\n",
      "token_idx=15 [\"pp\"] => ['\" actor\"[p=0.95, l=18.62]', '\"?\\n\"[p=0.01, l=13.75]', '\" Actor\"[p=0.00, l=13.06]', '\"??\"[p=0.00, l=12.56]', '\" (\"[p=0.00, l=12.50]', '\"?\\n\\n\"[p=0.00, l=12.38]', '\" movie\"[p=0.00, l=12.31]', '\"?\"[p=0.00, l=12.25]', '\" \\n\"[p=0.00, l=11.94]', '\" \"[p=0.00, l=11.94]', '\" what\"[p=0.00, l=11.94]', '\"???\"[p=0.00, l=11.81]', '\" actress\"[p=0.00, l=11.75]', '\" film\"[p=0.00, l=11.44]', '\" ->\"[p=0.00, l=11.44]']\n",
      "\n",
      "\" Marc Jacobs\" | cur_rng=(19, 21)\n",
      "token_idx=19 [\" Marc\"] => ['\"?\\n\"[p=0.12, l=12.31]', '\"?\"[p=0.05, l=11.44]', '\"??\"[p=0.04, l=11.25]', '\"?\\n\\n\"[p=0.04, l=11.25]', '\" unknown\"[p=0.03, l=11.06]', '\"???\"[p=0.02, l=10.75]', '\" artist\"[p=0.02, l=10.56]', '\" actor\"[p=0.02, l=10.56]', '\" programmer\"[p=0.02, l=10.50]', '\" musician\"[p=0.02, l=10.44]', '\" singer\"[p=0.02, l=10.31]', '\" football\"[p=0.01, l=10.25]', '\" software\"[p=0.01, l=10.25]', '\" entrepreneur\"[p=0.01, l=10.12]', '\" not\"[p=0.01, l=10.06]']\n",
      "token_idx=20 [\" Jacobs\"] => ['\" fashion\"[p=0.93, l=19.50]', '\" designer\"[p=0.03, l=16.12]', '\" Fashion\"[p=0.00, l=14.12]', '\"?\\n\"[p=0.00, l=13.62]', '\" \"[p=0.00, l=13.25]', '\" (\"[p=0.00, l=13.19]', '\"??\"[p=0.00, l=12.94]', '\" entrepreneur\"[p=0.00, l=12.94]', '\"?\"[p=0.00, l=12.69]', '\" model\"[p=0.00, l=12.12]', '\" artist\"[p=0.00, l=12.12]', '\"f\"[p=0.00, l=12.00]', '\" unknown\"[p=0.00, l=12.00]', '\" clothing\"[p=0.00, l=11.88]', '\"???\"[p=0.00, l=11.81]']\n",
      "\n",
      "\" Jennifer Lawrence\" | cur_rng=(22, 24)\n",
      "token_idx=22 [\" Jennifer\"] => ['\" actress\"[p=0.31, l=14.56]', '\" singer\"[p=0.09, l=13.38]', '\"?\\n\"[p=0.06, l=12.94]', '\" actor\"[p=0.04, l=12.62]', '\" unknown\"[p=0.03, l=12.31]', '\"?\"[p=0.03, l=12.25]', '\"??\"[p=0.03, l=12.12]', '\" lawyer\"[p=0.02, l=12.00]', '\" model\"[p=0.01, l=11.38]', '\"?\\n\\n\"[p=0.01, l=11.25]', '\" no\"[p=0.01, l=11.12]', '\"???\"[p=0.01, l=11.12]', '\" teacher\"[p=0.01, l=11.06]', '\" movie\"[p=0.01, l=10.88]', '\" (\"[p=0.01, l=10.88]']\n",
      "token_idx=23 [\" Lawrence\"] => ['\" actress\"[p=0.91, l=18.62]', '\" actor\"[p=0.03, l=15.31]', '\"?\\n\"[p=0.01, l=13.62]', '\"??\"[p=0.00, l=13.19]', '\" movie\"[p=0.00, l=12.88]', '\"?\"[p=0.00, l=12.69]', '\" unknown\"[p=0.00, l=12.50]', '\" Actress\"[p=0.00, l=12.38]', '\" singer\"[p=0.00, l=12.12]', '\"?\\n\\n\"[p=0.00, l=12.12]', '\" (\"[p=0.00, l=12.00]', '\"???\"[p=0.00, l=11.94]', '\" what\"[p=0.00, l=11.88]', '\" \"[p=0.00, l=11.88]', '\" no\"[p=0.00, l=11.81]']\n",
      "\n",
      "\" Giannis Antetokounmpo\" | cur_rng=(25, 33)\n",
      "token_idx=25 [\" Gi\"] => ['\"?\\n\"[p=0.11, l=11.38]', '\"??\"[p=0.03, l=10.19]', '\"?\"[p=0.03, l=10.19]', '\" singer\"[p=0.02, l=9.88]', '\" musician\"[p=0.02, l=9.56]', '\" artist\"[p=0.02, l=9.50]', '\" unknown\"[p=0.02, l=9.44]', '\" entrepreneur\"[p=0.01, l=9.38]', '\"???\"[p=0.01, l=9.31]', '\" football\"[p=0.01, l=9.19]', '\" architect\"[p=0.01, l=9.06]', '\"?\\n\\n\"[p=0.01, l=9.00]', '\" politician\"[p=0.01, l=8.88]', '\" \"[p=0.01, l=8.88]', '\" \\n\"[p=0.01, l=8.81]']\n",
      "token_idx=26 [\"annis\"] => ['\"?\\n\"[p=0.21, l=14.19]', '\"?\\n\\n\"[p=0.09, l=13.31]', '\"?\"[p=0.07, l=13.12]', '\" unknown\"[p=0.06, l=12.94]', '\"??\"[p=0.05, l=12.81]', '\" football\"[p=0.03, l=12.31]', '\"???\"[p=0.03, l=12.25]', '\" politician\"[p=0.02, l=11.75]', '\" basketball\"[p=0.02, l=11.75]', '\" software\"[p=0.02, l=11.56]', '\" what\"[p=0.01, l=11.38]', '\" programmer\"[p=0.01, l=11.31]', '\" soccer\"[p=0.01, l=11.31]', '\" engineer\"[p=0.01, l=11.25]', '\" philosopher\"[p=0.01, l=11.06]']\n",
      "token_idx=27 [\" Ant\"] => ['\" actor\"[p=0.07, l=11.88]', '\" software\"[p=0.06, l=11.75]', '\" ant\"[p=0.05, l=11.50]', '\" unknown\"[p=0.04, l=11.44]', '\"??\"[p=0.04, l=11.31]', '\" programmer\"[p=0.03, l=11.12]', '\"???\"[p=0.02, l=10.56]', '\" ent\"[p=0.02, l=10.56]', '\" insect\"[p=0.02, l=10.50]', '\"?\\n\"[p=0.02, l=10.50]', '\" Ant\"[p=0.02, l=10.38]', '\" developer\"[p=0.01, l=10.31]', '\" musician\"[p=0.01, l=10.19]', '\" artist\"[p=0.01, l=10.12]', '\" farmer\"[p=0.01, l=10.00]']\n",
      "token_idx=28 [\"et\"] => ['\"?\\n\"[p=0.06, l=10.88]', '\"??\"[p=0.06, l=10.75]', '\" unknown\"[p=0.03, l=10.25]', '\"?\"[p=0.03, l=10.12]', '\"???\"[p=0.02, l=9.81]', '\"?\\n\\n\"[p=0.02, l=9.81]', '\" software\"[p=0.01, l=9.25]', '\" architect\"[p=0.01, l=9.25]', '\" politician\"[p=0.01, l=9.19]', '\" entrepreneur\"[p=0.01, l=9.12]', '\" artist\"[p=0.01, l=9.12]', '\" not\"[p=0.01, l=9.06]', '\" programmer\"[p=0.01, l=9.00]', '\" (\"[p=0.01, l=8.94]', '\" \\n\"[p=0.01, l=8.88]']\n",
      "token_idx=29 [\"ok\"] => ['\"?\\n\"[p=0.08, l=11.81]', '\" unknown\"[p=0.06, l=11.56]', '\"??\"[p=0.06, l=11.44]', '\"?\"[p=0.05, l=11.38]', '\"?\\n\\n\"[p=0.04, l=11.06]', '\"???\"[p=0.03, l=10.88]', '\" football\"[p=0.02, l=10.56]', '\" politician\"[p=0.02, l=10.19]', '\" entrepreneur\"[p=0.01, l=10.00]', '\" no\"[p=0.01, l=9.94]', '\" not\"[p=0.01, l=9.88]', '\" actor\"[p=0.01, l=9.81]', '\" soccer\"[p=0.01, l=9.75]', '\" (\"[p=0.01, l=9.75]', '\" artist\"[p=0.01, l=9.62]']\n",
      "token_idx=30 [\"oun\"] => ['\"?\\n\"[p=0.11, l=12.19]', '\" basketball\"[p=0.10, l=12.00]', '\"??\"[p=0.07, l=11.69]', '\"?\"[p=0.06, l=11.56]', '\"?\\n\\n\"[p=0.05, l=11.44]', '\" unknown\"[p=0.04, l=11.25]', '\"???\"[p=0.02, l=10.38]', '\" football\"[p=0.02, l=10.31]', '\" politician\"[p=0.02, l=10.25]', '\" entrepreneur\"[p=0.02, l=10.25]', '\" Greek\"[p=0.02, l=10.19]', '\" \\n\"[p=0.01, l=10.00]', '\" athlete\"[p=0.01, l=10.00]', '\" what\"[p=0.01, l=9.88]', '\" (\"[p=0.01, l=9.75]']\n",
      "token_idx=31 [\"mp\"] => ['\"?\\n\"[p=0.13, l=12.31]', '\"??\"[p=0.07, l=11.62]', '\"?\"[p=0.07, l=11.62]', '\"?\\n\\n\"[p=0.06, l=11.56]', '\" \\n\"[p=0.03, l=10.75]', '\" unknown\"[p=0.03, l=10.69]', '\"???\"[p=0.02, l=10.56]', '\" politician\"[p=0.02, l=10.25]', '\" lawyer\"[p=0.01, l=10.12]', '\" artist\"[p=0.01, l=10.12]', '\" (\"[p=0.01, l=10.06]', '\" musician\"[p=0.01, l=10.00]', '\" \"[p=0.01, l=9.94]', '\" entrepreneur\"[p=0.01, l=9.81]', '\" singer\"[p=0.01, l=9.81]']\n",
      "token_idx=32 [\"o\"] => ['\"?\\n\"[p=0.27, l=14.00]', '\"?\\n\\n\"[p=0.12, l=13.25]', '\"?\"[p=0.08, l=12.75]', '\"??\"[p=0.06, l=12.44]', '\" \\n\"[p=0.02, l=11.62]', '\"???\"[p=0.02, l=11.56]', '\" lawyer\"[p=0.02, l=11.31]', '\" software\"[p=0.01, l=11.06]', '\" politician\"[p=0.01, l=10.88]', '\" \"[p=0.01, l=10.81]', '\" programmer\"[p=0.01, l=10.69]', '\" (\"[p=0.01, l=10.62]', '\" actor\"[p=0.01, l=10.62]', '\" entrepreneur\"[p=0.01, l=10.50]', '\" unknown\"[p=0.01, l=10.50]']\n",
      "\n",
      "\" Beyoncé\" | cur_rng=(34, 36)\n",
      "token_idx=34 [\" Bey\"] => ['\" singer\"[p=0.54, l=14.31]', '\" musician\"[p=0.07, l=12.31]', '\" pop\"[p=0.03, l=11.56]', '\" Singer\"[p=0.01, l=10.69]', '\" artist\"[p=0.01, l=10.69]', '\" music\"[p=0.01, l=10.44]', '\"??\"[p=0.01, l=10.00]', '\" entrepreneur\"[p=0.01, l=9.81]', '\"?\\n\"[p=0.01, l=9.75]', '\" performer\"[p=0.01, l=9.69]', '\" Queen\"[p=0.01, l=9.69]', '\" actress\"[p=0.01, l=9.69]', '\" queen\"[p=0.00, l=9.62]', '\" \"[p=0.00, l=9.62]', '\" Music\"[p=0.00, l=9.56]']\n",
      "token_idx=35 [\"oncé\"] => ['\" singer\"[p=0.93, l=20.00]', '\" musician\"[p=0.02, l=16.25]', '\" pop\"[p=0.01, l=14.94]', '\" Singer\"[p=0.00, l=14.69]', '\"?\\n\"[p=0.00, l=14.12]', '\" music\"[p=0.00, l=14.06]', '\" \"[p=0.00, l=13.62]', '\"??\"[p=0.00, l=13.56]', '\" actress\"[p=0.00, l=13.44]', '\" \\n\"[p=0.00, l=13.44]', '\" entert\"[p=0.00, l=13.44]', '\" artist\"[p=0.00, l=13.25]', '\"?\"[p=0.00, l=13.12]', '\" what\"[p=0.00, l=13.12]', '\" (\"[p=0.00, l=13.06]']\n",
      "\n",
      "\" Stephen King\" | cur_rng=(37, 39)\n",
      "token_idx=37 [\" Stephen\"] => ['\"?\\n\"[p=0.11, l=13.06]', '\"?\"[p=0.05, l=12.38]', '\" philosopher\"[p=0.05, l=12.31]', '\"??\"[p=0.04, l=12.00]', '\" unknown\"[p=0.04, l=12.00]', '\" programmer\"[p=0.03, l=11.88]', '\" actor\"[p=0.03, l=11.75]', '\" software\"[p=0.03, l=11.69]', '\"?\\n\\n\"[p=0.02, l=11.56]', '\"???\"[p=0.02, l=11.56]', '\" engineer\"[p=0.02, l=11.31]', '\" physicist\"[p=0.02, l=11.12]', '\" no\"[p=0.01, l=11.00]', '\" writer\"[p=0.01, l=10.94]', '\" (\"[p=0.01, l=10.94]']\n",
      "token_idx=38 [\" King\"] => ['\" author\"[p=0.42, l=18.50]', '\" writer\"[p=0.37, l=18.38]', '\" novelist\"[p=0.14, l=17.38]', '\" horror\"[p=0.02, l=15.25]', '\"?\\n\"[p=0.01, l=14.62]', '\" Writer\"[p=0.00, l=13.88]', '\" Author\"[p=0.00, l=13.50]', '\"??\"[p=0.00, l=13.44]', '\"?\"[p=0.00, l=13.44]', '\" Stephen\"[p=0.00, l=13.06]', '\" (\"[p=0.00, l=13.00]', '\" lawyer\"[p=0.00, l=12.75]', '\" \"[p=0.00, l=12.62]', '\"???\"[p=0.00, l=12.50]', '\" fiction\"[p=0.00, l=12.50]']\n",
      "\n",
      "\" Novak Djokovic\" | cur_rng=(40, 45)\n",
      "token_idx=40 [\" Nov\"] => ['\"?\\n\"[p=0.12, l=11.44]', '\"?\"[p=0.07, l=10.88]', '\"??\"[p=0.05, l=10.62]', '\"?\\n\\n\"[p=0.04, l=10.44]', '\" unknown\"[p=0.03, l=10.12]', '\"???\"[p=0.02, l=9.69]', '\" artist\"[p=0.02, l=9.69]', '\" entrepreneur\"[p=0.02, l=9.44]', '\" programmer\"[p=0.02, l=9.38]', '\" musician\"[p=0.01, l=9.31]', '\" singer\"[p=0.01, l=9.25]', '\" what\"[p=0.01, l=9.19]', '\" not\"[p=0.01, l=8.75]', '\" no\"[p=0.01, l=8.69]', '\" \"[p=0.01, l=8.62]']\n",
      "token_idx=41 [\"ak\"] => ['\" tennis\"[p=0.18, l=13.31]', '\"?\\n\"[p=0.12, l=12.88]', '\"?\"[p=0.08, l=12.44]', '\"??\"[p=0.04, l=11.75]', '\"?\\n\\n\"[p=0.04, l=11.75]', '\" musician\"[p=0.03, l=11.38]', '\" politician\"[p=0.02, l=11.31]', '\" unknown\"[p=0.02, l=11.06]', '\"???\"[p=0.02, l=11.00]', '\" what\"[p=0.01, l=10.44]', '\" artist\"[p=0.01, l=10.38]', '\" actor\"[p=0.01, l=10.38]', '\" Dj\"[p=0.01, l=10.38]', '\" programmer\"[p=0.01, l=10.31]', '\" (\"[p=0.01, l=10.25]']\n",
      "token_idx=42 [\" Dj\"] => ['\" DJ\"[p=0.15, l=13.19]', '\" dj\"[p=0.07, l=12.50]', '\" disc\"[p=0.07, l=12.38]', '\" musician\"[p=0.06, l=12.31]', '\"?\\n\"[p=0.03, l=11.69]', '\" singer\"[p=0.03, l=11.44]', '\"??\"[p=0.02, l=11.38]', '\" Dj\"[p=0.02, l=11.38]', '\" rapper\"[p=0.02, l=11.25]', '\" Disc\"[p=0.02, l=11.25]', '\" radio\"[p=0.02, l=11.19]', '\" disk\"[p=0.02, l=11.12]', '\" unknown\"[p=0.02, l=10.94]', '\" actor\"[p=0.01, l=10.56]', '\"?\"[p=0.01, l=10.50]']\n",
      "token_idx=43 [\"ok\"] => ['\" tennis\"[p=0.35, l=13.56]', '\" musician\"[p=0.05, l=11.62]', '\"?\\n\"[p=0.04, l=11.50]', '\"??\"[p=0.04, l=11.31]', '\"?\"[p=0.03, l=11.12]', '\"???\"[p=0.02, l=10.88]', '\" singer\"[p=0.01, l=10.25]', '\" dj\"[p=0.01, l=10.12]', '\"?\\n\\n\"[p=0.01, l=10.12]', '\" Nov\"[p=0.01, l=10.12]', '\" Dj\"[p=0.01, l=9.88]', '\" athlete\"[p=0.01, l=9.88]', '\" (\"[p=0.01, l=9.81]', '\" unknown\"[p=0.01, l=9.81]', '\" what\"[p=0.01, l=9.62]']\n",
      "token_idx=44 [\"ovic\"] => ['\"?\\n\"[p=0.19, l=13.44]', '\"?\\n\\n\"[p=0.07, l=12.50]', '\" tennis\"[p=0.07, l=12.50]', '\"?\"[p=0.06, l=12.38]', '\"??\"[p=0.04, l=11.94]', '\" football\"[p=0.04, l=11.88]', '\" \\n\"[p=0.03, l=11.44]', '\" soccer\"[p=0.02, l=11.19]', '\" athlete\"[p=0.02, l=11.12]', '\"???\"[p=0.02, l=11.06]', '\" unknown\"[p=0.02, l=10.94]', '\" (\"[p=0.02, l=10.94]', '\" politician\"[p=0.02, l=10.94]', '\" basketball\"[p=0.01, l=10.81]', '\" entrepreneur\"[p=0.01, l=10.69]']\n",
      "======================================================================================================================================================\n",
      "\n",
      "layer='model.layers.42'\n",
      "\n",
      "\"Ans:\" | cur_rng=(-2, 0)\n",
      "token_idx=-2 [\"Ans\"] => ['\" Ans\"[p=0.03, l=9.88]', '\" unknown\"[p=0.03, l=9.69]', '\" artist\"[p=0.02, l=9.50]', '\"?\\n\"[p=0.02, l=9.44]', '\" programmer\"[p=0.02, l=9.12]', '\" answer\"[p=0.01, l=9.00]', '\" computer\"[p=0.01, l=8.75]', '\" singer\"[p=0.01, l=8.75]', '\" Answer\"[p=0.01, l=8.69]', '\" musician\"[p=0.01, l=8.69]', '\" entrepreneur\"[p=0.01, l=8.69]', '\" \\n\"[p=0.01, l=8.62]', '\" student\"[p=0.01, l=8.56]', '\" software\"[p=0.01, l=8.50]', '\"??\"[p=0.01, l=8.44]']\n",
      "token_idx=-1 [\":\"] => ['\"?\\n\"[p=0.21, l=12.69]', '\"?\\n\\n\"[p=0.15, l=12.31]', '\"?\"[p=0.05, l=11.19]', '\" \\n\"[p=0.03, l=10.88]', '\" ->\"[p=0.02, l=10.19]', '\"\\n\\n\"[p=0.02, l=10.19]', '\" (\"[p=0.02, l=10.12]', '\" :\"[p=0.01, l=9.81]', '\" profession\"[p=0.01, l=9.69]', '\" \"[p=0.01, l=9.56]', '\" person\"[p=0.01, l=9.56]', '\" \\n\\n\"[p=0.01, l=9.44]', '\" ->\\n\"[p=0.01, l=9.44]', '\" entrepreneur\"[p=0.01, l=9.38]', '\" unknown\"[p=0.01, l=9.38]']\n",
      "\n",
      "\" Johnny Depp\" | cur_rng=(13, 16)\n",
      "token_idx=13 [\" Johnny\"] => ['\" musician\"[p=0.11, l=12.75]', '\" singer\"[p=0.10, l=12.62]', '\" unknown\"[p=0.07, l=12.25]', '\"?\\n\"[p=0.06, l=12.06]', '\" actor\"[p=0.04, l=11.81]', '\"??\"[p=0.02, l=11.25]', '\"?\"[p=0.02, l=11.25]', '\" rock\"[p=0.02, l=11.19]', '\"???\"[p=0.02, l=11.00]', '\" no\"[p=0.02, l=11.00]', '\" (\"[p=0.02, l=10.94]', '\" Johnny\"[p=0.01, l=10.69]', '\"?\\n\\n\"[p=0.01, l=10.62]', '\" artist\"[p=0.01, l=10.25]', '\" not\"[p=0.01, l=10.00]']\n",
      "token_idx=14 [\" De\"] => ['\"?\\n\"[p=0.10, l=11.38]', '\" unknown\"[p=0.06, l=10.81]', '\"?\"[p=0.04, l=10.56]', '\"?\\n\\n\"[p=0.03, l=10.31]', '\"??\"[p=0.03, l=10.31]', '\" artist\"[p=0.02, l=9.50]', '\" lawyer\"[p=0.02, l=9.50]', '\"???\"[p=0.01, l=9.31]', '\" actor\"[p=0.01, l=9.19]', '\" (\"[p=0.01, l=9.12]', '\" person\"[p=0.01, l=9.06]', '\" \\n\"[p=0.01, l=9.06]', '\" politician\"[p=0.01, l=9.06]', '\" programmer\"[p=0.01, l=9.00]', '\" software\"[p=0.01, l=9.00]']\n",
      "token_idx=15 [\"pp\"] => ['\" actor\"[p=0.87, l=17.25]', '\"?\\n\"[p=0.03, l=13.88]', '\"?\\n\\n\"[p=0.01, l=12.81]', '\"??\"[p=0.01, l=12.62]', '\"?\"[p=0.01, l=12.12]', '\"???\"[p=0.00, l=12.06]', '\" Actor\"[p=0.00, l=11.81]', '\" actress\"[p=0.00, l=11.75]', '\" \\n\"[p=0.00, l=11.62]', '\" (\"[p=0.00, l=11.62]', '\" what\"[p=0.00, l=11.38]', '\" artist\"[p=0.00, l=11.25]', '\" movie\"[p=0.00, l=11.19]', '\" \"[p=0.00, l=11.12]', '\" singer\"[p=0.00, l=10.69]']\n",
      "\n",
      "\" Marc Jacobs\" | cur_rng=(19, 21)\n",
      "token_idx=19 [\" Marc\"] => ['\"?\\n\"[p=0.13, l=12.31]', '\"?\"[p=0.05, l=11.44]', '\"??\"[p=0.05, l=11.31]', '\"?\\n\\n\"[p=0.05, l=11.31]', '\" unknown\"[p=0.03, l=10.88]', '\"???\"[p=0.03, l=10.81]', '\" actor\"[p=0.02, l=10.56]', '\" musician\"[p=0.02, l=10.50]', '\" singer\"[p=0.02, l=10.50]', '\" artist\"[p=0.02, l=10.38]', '\" programmer\"[p=0.02, l=10.19]', '\" entrepreneur\"[p=0.02, l=10.19]', '\" football\"[p=0.01, l=10.00]', '\" not\"[p=0.01, l=9.88]', '\" no\"[p=0.01, l=9.81]']\n",
      "token_idx=20 [\" Jacobs\"] => ['\" fashion\"[p=0.91, l=19.12]', '\" designer\"[p=0.04, l=15.94]', '\"?\\n\"[p=0.01, l=14.00]', '\" Fashion\"[p=0.00, l=13.81]', '\"??\"[p=0.00, l=13.12]', '\" \"[p=0.00, l=13.00]', '\" (\"[p=0.00, l=13.00]', '\"?\"[p=0.00, l=12.81]', '\" entrepreneur\"[p=0.00, l=12.56]', '\" unknown\"[p=0.00, l=12.31]', '\" model\"[p=0.00, l=12.19]', '\"???\"[p=0.00, l=12.00]', '\" not\"[p=0.00, l=11.81]', '\" artist\"[p=0.00, l=11.81]', '\" clothing\"[p=0.00, l=11.69]']\n",
      "\n",
      "\" Jennifer Lawrence\" | cur_rng=(22, 24)\n",
      "token_idx=22 [\" Jennifer\"] => ['\" actress\"[p=0.33, l=14.69]', '\" singer\"[p=0.13, l=13.75]', '\"?\\n\"[p=0.05, l=12.88]', '\" actor\"[p=0.05, l=12.69]', '\"?\"[p=0.03, l=12.12]', '\" unknown\"[p=0.02, l=12.06]', '\"??\"[p=0.02, l=12.06]', '\" lawyer\"[p=0.02, l=11.81]', '\" model\"[p=0.01, l=11.38]', '\" celebrity\"[p=0.01, l=11.19]', '\"?\\n\\n\"[p=0.01, l=11.12]', '\" no\"[p=0.01, l=11.06]', '\"???\"[p=0.01, l=11.00]', '\" movie\"[p=0.01, l=10.94]', '\" \\n\"[p=0.01, l=10.94]']\n",
      "token_idx=23 [\" Lawrence\"] => ['\" actress\"[p=0.90, l=18.62]', '\" actor\"[p=0.04, l=15.56]', '\"?\\n\"[p=0.01, l=13.75]', '\"??\"[p=0.00, l=13.25]', '\" movie\"[p=0.00, l=12.88]', '\"?\"[p=0.00, l=12.75]', '\" unknown\"[p=0.00, l=12.75]', '\" singer\"[p=0.00, l=12.38]', '\"?\\n\\n\"[p=0.00, l=12.31]', '\" Actress\"[p=0.00, l=12.31]', '\"???\"[p=0.00, l=12.06]', '\" what\"[p=0.00, l=11.94]', '\" (\"[p=0.00, l=11.94]', '\" no\"[p=0.00, l=11.88]', '\" \"[p=0.00, l=11.88]']\n",
      "\n",
      "\" Giannis Antetokounmpo\" | cur_rng=(25, 33)\n",
      "token_idx=25 [\" Gi\"] => ['\"?\\n\"[p=0.10, l=11.31]', '\" singer\"[p=0.03, l=10.19]', '\"??\"[p=0.03, l=10.06]', '\"?\"[p=0.03, l=10.00]', '\" musician\"[p=0.02, l=9.81]', '\" artist\"[p=0.02, l=9.69]', '\" unknown\"[p=0.02, l=9.56]', '\" entrepreneur\"[p=0.02, l=9.56]', '\" football\"[p=0.01, l=9.44]', '\"???\"[p=0.01, l=9.25]', '\" architect\"[p=0.01, l=9.06]', '\" actor\"[p=0.01, l=9.00]', '\" soccer\"[p=0.01, l=9.00]', '\" politician\"[p=0.01, l=8.94]', '\"?\\n\\n\"[p=0.01, l=8.94]']\n",
      "token_idx=26 [\"annis\"] => ['\"?\\n\"[p=0.20, l=14.00]', '\"?\\n\\n\"[p=0.09, l=13.19]', '\"?\"[p=0.07, l=12.94]', '\"??\"[p=0.05, l=12.62]', '\" unknown\"[p=0.05, l=12.62]', '\"???\"[p=0.03, l=12.12]', '\" football\"[p=0.02, l=11.81]', '\" politician\"[p=0.02, l=11.62]', '\" software\"[p=0.01, l=11.38]', '\" what\"[p=0.01, l=11.12]', '\" philosopher\"[p=0.01, l=11.06]', '\" basketball\"[p=0.01, l=11.06]', '\" engineer\"[p=0.01, l=11.00]', '\" programmer\"[p=0.01, l=11.00]', '\" actor\"[p=0.01, l=10.94]']\n",
      "token_idx=27 [\" Ant\"] => ['\" ant\"[p=0.06, l=12.12]', '\" insect\"[p=0.06, l=12.12]', '\" software\"[p=0.05, l=11.88]', '\"??\"[p=0.05, l=11.88]', '\" unknown\"[p=0.05, l=11.81]', '\" actor\"[p=0.03, l=11.25]', '\"?\\n\"[p=0.02, l=11.19]', '\"???\"[p=0.02, l=11.12]', '\" ent\"[p=0.02, l=10.94]', '\" soldier\"[p=0.02, l=10.88]', '\" programmer\"[p=0.02, l=10.69]', '\" farmer\"[p=0.02, l=10.69]', '\" (\"[p=0.01, l=10.62]', '\" carp\"[p=0.01, l=10.56]', '\"?\"[p=0.01, l=10.56]']\n",
      "token_idx=28 [\"et\"] => ['\"?\\n\"[p=0.08, l=11.25]', '\"??\"[p=0.07, l=11.19]', '\"?\"[p=0.04, l=10.56]', '\" unknown\"[p=0.04, l=10.50]', '\"???\"[p=0.03, l=10.25]', '\"?\\n\\n\"[p=0.03, l=10.19]', '\" architect\"[p=0.01, l=9.56]', '\" politician\"[p=0.01, l=9.50]', '\" entrepreneur\"[p=0.01, l=9.31]', '\" (\"[p=0.01, l=9.31]', '\" software\"[p=0.01, l=9.31]', '\" not\"[p=0.01, l=9.25]', '\" what\"[p=0.01, l=9.19]', '\" artist\"[p=0.01, l=9.19]', '\" \\n\"[p=0.01, l=9.12]']\n",
      "token_idx=29 [\"ok\"] => ['\"?\\n\"[p=0.10, l=12.12]', '\"??\"[p=0.06, l=11.69]', '\" unknown\"[p=0.06, l=11.62]', '\"?\"[p=0.06, l=11.62]', '\"?\\n\\n\"[p=0.05, l=11.44]', '\"???\"[p=0.04, l=11.19]', '\" football\"[p=0.02, l=10.50]', '\" entrepreneur\"[p=0.02, l=10.31]', '\" politician\"[p=0.02, l=10.25]', '\" no\"[p=0.01, l=9.94]', '\" programmer\"[p=0.01, l=9.88]', '\" what\"[p=0.01, l=9.81]', '\" not\"[p=0.01, l=9.81]', '\" software\"[p=0.01, l=9.75]', '\" (\"[p=0.01, l=9.75]']\n",
      "token_idx=30 [\"oun\"] => ['\"?\\n\"[p=0.11, l=11.94]', '\" basketball\"[p=0.10, l=11.81]', '\"??\"[p=0.07, l=11.50]', '\"?\"[p=0.06, l=11.38]', '\"?\\n\\n\"[p=0.05, l=11.19]', '\" unknown\"[p=0.05, l=11.06]', '\"???\"[p=0.02, l=10.19]', '\" Greek\"[p=0.02, l=10.12]', '\" football\"[p=0.02, l=10.06]', '\" politician\"[p=0.01, l=9.94]', '\" athlete\"[p=0.01, l=9.88]', '\" entrepreneur\"[p=0.01, l=9.88]', '\" what\"[p=0.01, l=9.75]', '\" \\n\"[p=0.01, l=9.69]', '\" (\"[p=0.01, l=9.56]']\n",
      "token_idx=31 [\"mp\"] => ['\"?\\n\"[p=0.18, l=12.94]', '\"?\\n\\n\"[p=0.08, l=12.19]', '\"?\"[p=0.08, l=12.12]', '\"??\"[p=0.06, l=11.88]', '\" \\n\"[p=0.03, l=11.00]', '\"???\"[p=0.02, l=10.69]', '\" unknown\"[p=0.02, l=10.62]', '\" lawyer\"[p=0.02, l=10.56]', '\" artist\"[p=0.01, l=10.44]', '\" (\"[p=0.01, l=10.38]', '\" \"[p=0.01, l=10.38]', '\" politician\"[p=0.01, l=10.31]', '\" singer\"[p=0.01, l=10.25]', '\" musician\"[p=0.01, l=10.19]', '\" actor\"[p=0.01, l=10.19]']\n",
      "token_idx=32 [\"o\"] => ['\"?\\n\"[p=0.29, l=14.25]', '\"?\\n\\n\"[p=0.13, l=13.50]', '\"?\"[p=0.08, l=13.00]', '\"??\"[p=0.06, l=12.62]', '\" \\n\"[p=0.02, l=11.75]', '\"???\"[p=0.02, l=11.75]', '\" lawyer\"[p=0.02, l=11.44]', '\" software\"[p=0.01, l=11.25]', '\" politician\"[p=0.01, l=10.94]', '\" \"[p=0.01, l=10.88]', '\" programmer\"[p=0.01, l=10.75]', '\" (\"[p=0.01, l=10.69]', '\" actor\"[p=0.01, l=10.69]', '\" football\"[p=0.01, l=10.62]', '\" unknown\"[p=0.01, l=10.56]']\n",
      "\n",
      "\" Beyoncé\" | cur_rng=(34, 36)\n",
      "token_idx=34 [\" Bey\"] => ['\" singer\"[p=0.60, l=14.62]', '\" musician\"[p=0.08, l=12.56]', '\" pop\"[p=0.03, l=11.69]', '\" Singer\"[p=0.01, l=10.94]', '\" artist\"[p=0.01, l=10.81]', '\" music\"[p=0.01, l=10.69]', '\" entrepreneur\"[p=0.01, l=10.06]', '\" actress\"[p=0.01, l=9.88]', '\" Music\"[p=0.00, l=9.81]', '\"??\"[p=0.00, l=9.81]', '\" \"[p=0.00, l=9.75]', '\" performer\"[p=0.00, l=9.75]', '\" entert\"[p=0.00, l=9.62]', '\" songwriter\"[p=0.00, l=9.56]', '\" Queen\"[p=0.00, l=9.50]']\n",
      "token_idx=35 [\"oncé\"] => ['\" singer\"[p=0.95, l=20.25]', '\" musician\"[p=0.02, l=16.38]', '\" pop\"[p=0.01, l=15.06]', '\" Singer\"[p=0.00, l=14.75]', '\" music\"[p=0.00, l=14.12]', '\" \"[p=0.00, l=13.75]', '\"?\\n\"[p=0.00, l=13.69]', '\" entert\"[p=0.00, l=13.62]', '\" \\n\"[p=0.00, l=13.44]', '\" artist\"[p=0.00, l=13.38]', '\"??\"[p=0.00, l=13.25]', '\" Music\"[p=0.00, l=13.19]', '\" (\"[p=0.00, l=13.12]', '\" actress\"[p=0.00, l=13.00]', '\"?\"[p=0.00, l=12.81]']\n",
      "\n",
      "\" Stephen King\" | cur_rng=(37, 39)\n",
      "token_idx=37 [\" Stephen\"] => ['\"?\\n\"[p=0.12, l=13.06]', '\" philosopher\"[p=0.07, l=12.56]', '\"?\"[p=0.05, l=12.19]', '\"??\"[p=0.04, l=11.88]', '\" unknown\"[p=0.03, l=11.81]', '\" software\"[p=0.03, l=11.81]', '\" actor\"[p=0.03, l=11.81]', '\" programmer\"[p=0.03, l=11.69]', '\"?\\n\\n\"[p=0.03, l=11.62]', '\"???\"[p=0.02, l=11.31]', '\" engineer\"[p=0.02, l=11.19]', '\" computer\"[p=0.01, l=10.94]', '\" writer\"[p=0.01, l=10.94]', '\" no\"[p=0.01, l=10.88]', '\" (\"[p=0.01, l=10.75]']\n",
      "token_idx=38 [\" King\"] => ['\" author\"[p=0.41, l=18.00]', '\" writer\"[p=0.36, l=17.88]', '\" novelist\"[p=0.12, l=16.75]', '\"?\\n\"[p=0.02, l=15.06]', '\" horror\"[p=0.02, l=15.00]', '\"??\"[p=0.01, l=13.88]', '\"?\"[p=0.01, l=13.75]', '\" Writer\"[p=0.00, l=13.50]', '\"?\\n\\n\"[p=0.00, l=13.12]', '\" Author\"[p=0.00, l=13.06]', '\" (\"[p=0.00, l=13.06]', '\"???\"[p=0.00, l=12.88]', '\" lawyer\"[p=0.00, l=12.69]', '\" \"[p=0.00, l=12.38]', '\" Stephen\"[p=0.00, l=12.31]']\n",
      "\n",
      "\" Novak Djokovic\" | cur_rng=(40, 45)\n",
      "token_idx=40 [\" Nov\"] => ['\"?\\n\"[p=0.09, l=10.88]', '\"?\"[p=0.06, l=10.50]', '\"??\"[p=0.05, l=10.25]', '\" unknown\"[p=0.03, l=9.94]', '\"?\\n\\n\"[p=0.03, l=9.81]', '\"???\"[p=0.02, l=9.38]', '\" artist\"[p=0.02, l=9.31]', '\" musician\"[p=0.02, l=9.25]', '\" singer\"[p=0.02, l=9.19]', '\" programmer\"[p=0.01, l=9.00]', '\" not\"[p=0.01, l=8.94]', '\" no\"[p=0.01, l=8.88]', '\" entrepreneur\"[p=0.01, l=8.88]', '\" what\"[p=0.01, l=8.69]', '\" \"[p=0.01, l=8.56]']\n",
      "token_idx=41 [\"ak\"] => ['\"?\\n\"[p=0.13, l=12.88]', '\" tennis\"[p=0.13, l=12.88]', '\"?\"[p=0.08, l=12.38]', '\"?\\n\\n\"[p=0.06, l=12.00]', '\"??\"[p=0.04, l=11.75]', '\" musician\"[p=0.02, l=11.19]', '\"???\"[p=0.02, l=11.00]', '\" politician\"[p=0.02, l=10.94]', '\" unknown\"[p=0.02, l=10.94]', '\" programmer\"[p=0.01, l=10.50]', '\" artist\"[p=0.01, l=10.25]', '\" what\"[p=0.01, l=10.25]', '\" \\n\"[p=0.01, l=10.12]', '\" actor\"[p=0.01, l=10.12]', '\" \"[p=0.01, l=10.00]']\n",
      "token_idx=42 [\" Dj\"] => ['\" DJ\"[p=0.17, l=13.56]', '\" disc\"[p=0.09, l=12.94]', '\" dj\"[p=0.08, l=12.75]', '\" musician\"[p=0.05, l=12.25]', '\"?\\n\"[p=0.04, l=12.12]', '\" disk\"[p=0.03, l=11.88]', '\"??\"[p=0.03, l=11.81]', '\" Dj\"[p=0.03, l=11.62]', '\" Disc\"[p=0.02, l=11.56]', '\" radio\"[p=0.02, l=11.31]', '\" unknown\"[p=0.01, l=11.06]', '\"?\"[p=0.01, l=11.06]', '\" singer\"[p=0.01, l=11.06]', '\" what\"[p=0.01, l=10.94]', '\"?\\n\\n\"[p=0.01, l=10.81]']\n",
      "token_idx=43 [\"ok\"] => ['\" tennis\"[p=0.34, l=13.56]', '\" musician\"[p=0.06, l=11.81]', '\"?\\n\"[p=0.03, l=11.25]', '\"??\"[p=0.03, l=11.19]', '\"?\"[p=0.02, l=10.88]', '\"???\"[p=0.02, l=10.81]', '\" singer\"[p=0.01, l=10.44]', '\" dj\"[p=0.01, l=10.25]', '\" athlete\"[p=0.01, l=10.12]', '\" Nov\"[p=0.01, l=10.00]', '\" Dj\"[p=0.01, l=9.94]', '\" (\"[p=0.01, l=9.81]', '\" unknown\"[p=0.01, l=9.75]', '\" Tennis\"[p=0.01, l=9.69]', '\" professional\"[p=0.01, l=9.62]']\n",
      "token_idx=44 [\"ovic\"] => ['\"?\\n\"[p=0.20, l=13.81]', '\" tennis\"[p=0.11, l=13.25]', '\"?\\n\\n\"[p=0.08, l=12.94]', '\"?\"[p=0.07, l=12.75]', '\" football\"[p=0.04, l=12.25]', '\"??\"[p=0.04, l=12.25]', '\" \\n\"[p=0.03, l=11.81]', '\" athlete\"[p=0.03, l=11.81]', '\" soccer\"[p=0.02, l=11.62]', '\" unknown\"[p=0.02, l=11.44]', '\" (\"[p=0.02, l=11.38]', '\"???\"[p=0.02, l=11.31]', '\" basketball\"[p=0.01, l=11.12]', '\" politician\"[p=0.01, l=11.06]', '\" \"[p=0.01, l=10.69]']\n",
      "======================================================================================================================================================\n",
      "\n",
      "layer='model.layers.45'\n",
      "\n",
      "\"Ans:\" | cur_rng=(-2, 0)\n",
      "token_idx=-2 [\"Ans\"] => ['\" Ans\"[p=0.07, l=10.38]', '\" unknown\"[p=0.02, l=9.25]', '\" entrepreneur\"[p=0.02, l=9.12]', '\" \\n\"[p=0.01, l=8.75]', '\" person\"[p=0.01, l=8.69]', '\" artist\"[p=0.01, l=8.62]', '\"?\\n\"[p=0.01, l=8.50]', '\" computer\"[p=0.01, l=8.44]', '\" Albert\"[p=0.01, l=8.44]', '\" answer\"[p=0.01, l=8.38]', '\" Answer\"[p=0.01, l=8.25]', '\" a\"[p=0.01, l=8.25]', '\" programmer\"[p=0.01, l=8.19]', '\" scientist\"[p=0.01, l=8.19]', '\" the\"[p=0.01, l=8.12]']\n",
      "token_idx=-1 [\":\"] => ['\"?\\n\"[p=0.17, l=12.25]', '\"?\\n\\n\"[p=0.10, l=11.69]', '\"?\"[p=0.04, l=10.75]', '\" \\n\"[p=0.03, l=10.50]', '\" (\"[p=0.02, l=10.25]', '\" ->\"[p=0.02, l=10.12]', '\" unknown\"[p=0.01, l=9.69]', '\"\\n\\n\"[p=0.01, l=9.62]', '\" person\"[p=0.01, l=9.31]', '\" ->\\n\"[p=0.01, l=9.25]', '\" your\"[p=0.01, l=9.25]', '\" \"[p=0.01, l=9.25]', '\" computer\"[p=0.01, l=9.25]', '\"??\"[p=0.01, l=9.19]', '\" profession\"[p=0.01, l=9.06]']\n",
      "\n",
      "\" Johnny Depp\" | cur_rng=(13, 16)\n",
      "token_idx=13 [\" Johnny\"] => ['\" musician\"[p=0.12, l=12.88]', '\" singer\"[p=0.12, l=12.81]', '\" unknown\"[p=0.07, l=12.31]', '\"?\\n\"[p=0.05, l=12.00]', '\" actor\"[p=0.04, l=11.62]', '\"??\"[p=0.02, l=11.25]', '\"?\"[p=0.02, l=11.25]', '\" no\"[p=0.02, l=11.19]', '\"???\"[p=0.02, l=11.06]', '\" (\"[p=0.02, l=11.00]', '\" rock\"[p=0.02, l=11.00]', '\" Johnny\"[p=0.01, l=10.75]', '\"?\\n\\n\"[p=0.01, l=10.56]', '\" artist\"[p=0.01, l=10.25]', '\" not\"[p=0.01, l=10.06]']\n",
      "token_idx=14 [\" De\"] => ['\"?\\n\"[p=0.11, l=11.31]', '\" unknown\"[p=0.05, l=10.56]', '\"?\"[p=0.04, l=10.38]', '\"?\\n\\n\"[p=0.03, l=10.19]', '\"??\"[p=0.03, l=10.00]', '\" lawyer\"[p=0.01, l=9.31]', '\" empty\"[p=0.01, l=9.19]', '\" (\"[p=0.01, l=9.12]', '\" artist\"[p=0.01, l=9.00]', '\"???\"[p=0.01, l=9.00]', '\" \\n\"[p=0.01, l=9.00]', '\" software\"[p=0.01, l=8.88]', '\" computer\"[p=0.01, l=8.81]', '\" person\"[p=0.01, l=8.81]', '\" politician\"[p=0.01, l=8.81]']\n",
      "token_idx=15 [\"pp\"] => ['\" actor\"[p=0.83, l=16.88]', '\"?\\n\"[p=0.04, l=13.81]', '\"?\\n\\n\"[p=0.01, l=12.81]', '\"??\"[p=0.01, l=12.50]', '\"?\"[p=0.01, l=12.12]', '\"???\"[p=0.01, l=12.06]', '\" actress\"[p=0.00, l=11.44]', '\" Actor\"[p=0.00, l=11.44]', '\" (\"[p=0.00, l=11.44]', '\" \\n\"[p=0.00, l=11.38]', '\" pirate\"[p=0.00, l=11.12]', '\" what\"[p=0.00, l=11.00]', '\" movie\"[p=0.00, l=10.94]', '\" artist\"[p=0.00, l=10.94]', '\" \"[p=0.00, l=10.88]']\n",
      "\n",
      "\" Marc Jacobs\" | cur_rng=(19, 21)\n",
      "token_idx=19 [\" Marc\"] => ['\"?\\n\"[p=0.13, l=12.19]', '\"?\"[p=0.06, l=11.38]', '\"??\"[p=0.05, l=11.31]', '\"?\\n\\n\"[p=0.05, l=11.19]', '\"???\"[p=0.03, l=10.81]', '\" unknown\"[p=0.03, l=10.69]', '\" musician\"[p=0.02, l=10.31]', '\" actor\"[p=0.02, l=10.25]', '\" singer\"[p=0.02, l=10.25]', '\" artist\"[p=0.02, l=10.19]', '\" entrepreneur\"[p=0.02, l=10.06]', '\" programmer\"[p=0.01, l=9.94]', '\" no\"[p=0.01, l=9.81]', '\" football\"[p=0.01, l=9.69]', '\" not\"[p=0.01, l=9.69]']\n",
      "token_idx=20 [\" Jacobs\"] => ['\" fashion\"[p=0.91, l=19.00]', '\" designer\"[p=0.04, l=15.88]', '\"?\\n\"[p=0.01, l=14.00]', '\" Fashion\"[p=0.00, l=13.62]', '\"??\"[p=0.00, l=13.19]', '\" (\"[p=0.00, l=12.88]', '\"?\"[p=0.00, l=12.88]', '\" \"[p=0.00, l=12.88]', '\" unknown\"[p=0.00, l=12.50]', '\" entrepreneur\"[p=0.00, l=12.31]', '\" model\"[p=0.00, l=12.25]', '\"???\"[p=0.00, l=12.00]', '\" not\"[p=0.00, l=11.94]', '\" artist\"[p=0.00, l=11.75]', '\" clothing\"[p=0.00, l=11.62]']\n",
      "\n",
      "\" Jennifer Lawrence\" | cur_rng=(22, 24)\n",
      "token_idx=22 [\" Jennifer\"] => ['\" actress\"[p=0.32, l=14.62]', '\" singer\"[p=0.13, l=13.75]', '\"?\\n\"[p=0.06, l=12.94]', '\" actor\"[p=0.04, l=12.56]', '\"?\"[p=0.03, l=12.19]', '\"??\"[p=0.03, l=12.12]', '\" unknown\"[p=0.02, l=11.94]', '\" lawyer\"[p=0.02, l=11.94]', '\"?\\n\\n\"[p=0.01, l=11.25]', '\" Jennifer\"[p=0.01, l=11.19]', '\" \\n\"[p=0.01, l=11.12]', '\"???\"[p=0.01, l=11.12]', '\" celebrity\"[p=0.01, l=11.06]', '\" movie\"[p=0.01, l=10.94]', '\" no\"[p=0.01, l=10.88]']\n",
      "token_idx=23 [\" Lawrence\"] => ['\" actress\"[p=0.88, l=18.25]', '\" actor\"[p=0.04, l=15.25]', '\"?\\n\"[p=0.01, l=14.00]', '\"??\"[p=0.01, l=13.50]', '\"?\"[p=0.01, l=13.12]', '\"?\\n\\n\"[p=0.00, l=12.88]', '\" unknown\"[p=0.00, l=12.81]', '\" movie\"[p=0.00, l=12.50]', '\"???\"[p=0.00, l=12.31]', '\" singer\"[p=0.00, l=12.31]', '\" Actress\"[p=0.00, l=12.12]', '\" (\"[p=0.00, l=12.06]', '\" \"[p=0.00, l=12.06]', '\" what\"[p=0.00, l=11.88]', '\" no\"[p=0.00, l=11.81]']\n",
      "\n",
      "\" Giannis Antetokounmpo\" | cur_rng=(25, 33)\n",
      "token_idx=25 [\" Gi\"] => ['\"?\\n\"[p=0.06, l=10.81]', '\" singer\"[p=0.05, l=10.50]', '\" musician\"[p=0.03, l=10.19]', '\"??\"[p=0.02, l=9.75]', '\" artist\"[p=0.02, l=9.62]', '\" entrepreneur\"[p=0.02, l=9.50]', '\"?\"[p=0.02, l=9.44]', '\" unknown\"[p=0.01, l=9.06]', '\" architect\"[p=0.01, l=9.06]', '\" football\"[p=0.01, l=9.06]', '\"???\"[p=0.01, l=9.00]', '\" \"[p=0.01, l=8.94]', '\" politician\"[p=0.01, l=8.81]', '\" fashion\"[p=0.01, l=8.81]', '\" rapper\"[p=0.01, l=8.81]']\n",
      "token_idx=26 [\"annis\"] => ['\"?\\n\"[p=0.19, l=13.94]', '\"?\\n\\n\"[p=0.08, l=13.06]', '\"?\"[p=0.07, l=12.94]', '\"??\"[p=0.06, l=12.75]', '\" unknown\"[p=0.05, l=12.56]', '\"???\"[p=0.04, l=12.25]', '\" football\"[p=0.02, l=11.88]', '\" politician\"[p=0.02, l=11.56]', '\" basketball\"[p=0.02, l=11.56]', '\" software\"[p=0.02, l=11.44]', '\" Greek\"[p=0.01, l=11.19]', '\" what\"[p=0.01, l=11.12]', '\" soccer\"[p=0.01, l=11.06]', '\" musician\"[p=0.01, l=10.94]', '\" programmer\"[p=0.01, l=10.88]']\n",
      "token_idx=27 [\" Ant\"] => ['\" insect\"[p=0.15, l=12.69]', '\" ant\"[p=0.09, l=12.19]', '\"??\"[p=0.06, l=11.75]', '\" software\"[p=0.04, l=11.25]', '\" unknown\"[p=0.03, l=11.19]', '\" ent\"[p=0.03, l=11.00]', '\"???\"[p=0.03, l=11.00]', '\"?\\n\"[p=0.02, l=10.81]', '\"?\"[p=0.01, l=10.19]', '\" Ant\"[p=0.01, l=10.06]', '\" carp\"[p=0.01, l=10.00]', '\" no\"[p=0.01, l=9.94]', '\" bug\"[p=0.01, l=9.94]', '\" (\"[p=0.01, l=9.94]', '\" not\"[p=0.01, l=9.81]']\n",
      "token_idx=28 [\"et\"] => ['\"?\\n\"[p=0.09, l=11.38]', '\"??\"[p=0.07, l=11.19]', '\"?\"[p=0.04, l=10.62]', '\" unknown\"[p=0.04, l=10.56]', '\"?\\n\\n\"[p=0.03, l=10.44]', '\"???\"[p=0.02, l=10.12]', '\" artist\"[p=0.02, l=9.75]', '\" politician\"[p=0.01, l=9.56]', '\" software\"[p=0.01, l=9.50]', '\" architect\"[p=0.01, l=9.44]', '\" (\"[p=0.01, l=9.25]', '\" \\n\"[p=0.01, l=9.19]', '\" computer\"[p=0.01, l=9.06]', '\" \"[p=0.01, l=9.06]', '\" programmer\"[p=0.01, l=9.06]']\n",
      "token_idx=29 [\"ok\"] => ['\"?\\n\"[p=0.11, l=12.56]', '\"??\"[p=0.07, l=12.12]', '\" unknown\"[p=0.06, l=11.94]', '\"?\"[p=0.06, l=11.88]', '\"?\\n\\n\"[p=0.05, l=11.75]', '\"???\"[p=0.04, l=11.62]', '\" politician\"[p=0.02, l=10.88]', '\" entrepreneur\"[p=0.01, l=10.50]', '\" software\"[p=0.01, l=10.25]', '\" actor\"[p=0.01, l=10.19]', '\" football\"[p=0.01, l=10.12]', '\" (\"[p=0.01, l=10.12]', '\" artist\"[p=0.01, l=10.12]', '\" engineer\"[p=0.01, l=10.06]', '\" lawyer\"[p=0.01, l=10.00]']\n",
      "token_idx=30 [\"oun\"] => ['\"?\\n\"[p=0.10, l=11.69]', '\"??\"[p=0.08, l=11.50]', '\" basketball\"[p=0.08, l=11.44]', '\"?\"[p=0.06, l=11.25]', '\"?\\n\\n\"[p=0.05, l=11.06]', '\" unknown\"[p=0.05, l=11.06]', '\"???\"[p=0.02, l=10.19]', '\" Greek\"[p=0.02, l=10.00]', '\" politician\"[p=0.02, l=9.94]', '\" athlete\"[p=0.01, l=9.81]', '\" entrepreneur\"[p=0.01, l=9.75]', '\" not\"[p=0.01, l=9.62]', '\" football\"[p=0.01, l=9.56]', '\" what\"[p=0.01, l=9.50]', '\" (\"[p=0.01, l=9.38]']\n",
      "token_idx=31 [\"mp\"] => ['\"?\\n\"[p=0.17, l=12.94]', '\"?\\n\\n\"[p=0.08, l=12.12]', '\"?\"[p=0.08, l=12.12]', '\"??\"[p=0.07, l=12.06]', '\" \\n\"[p=0.03, l=11.12]', '\"???\"[p=0.02, l=10.81]', '\" unknown\"[p=0.02, l=10.69]', '\" lawyer\"[p=0.02, l=10.62]', '\" (\"[p=0.02, l=10.50]', '\" \"[p=0.01, l=10.38]', '\" artist\"[p=0.01, l=10.38]', '\" politician\"[p=0.01, l=10.19]', '\" musician\"[p=0.01, l=10.06]', '\" actor\"[p=0.01, l=10.06]', '\" singer\"[p=0.01, l=10.00]']\n",
      "token_idx=32 [\"o\"] => ['\"?\\n\"[p=0.30, l=14.12]', '\"?\\n\\n\"[p=0.14, l=13.38]', '\"?\"[p=0.09, l=12.88]', '\"??\"[p=0.06, l=12.50]', '\"???\"[p=0.02, l=11.44]', '\" \\n\"[p=0.02, l=11.38]', '\" lawyer\"[p=0.02, l=11.31]', '\" software\"[p=0.01, l=11.00]', '\" \"[p=0.01, l=10.75]', '\" programmer\"[p=0.01, l=10.56]', '\" (\"[p=0.01, l=10.56]', '\" unknown\"[p=0.01, l=10.56]', '\" politician\"[p=0.01, l=10.50]', '\" engineer\"[p=0.01, l=10.25]', '\" computer\"[p=0.01, l=10.25]']\n",
      "\n",
      "\" Beyoncé\" | cur_rng=(34, 36)\n",
      "token_idx=34 [\" Bey\"] => ['\" singer\"[p=0.63, l=14.88]', '\" musician\"[p=0.08, l=12.75]', '\" pop\"[p=0.03, l=11.94]', '\" Singer\"[p=0.01, l=11.12]', '\" music\"[p=0.01, l=10.88]', '\" artist\"[p=0.01, l=10.75]', '\" entrepreneur\"[p=0.01, l=10.19]', '\" \"[p=0.00, l=10.00]', '\" Music\"[p=0.00, l=9.94]', '\"??\"[p=0.00, l=9.88]', '\" performer\"[p=0.00, l=9.88]', '\" entert\"[p=0.00, l=9.81]', '\" actress\"[p=0.00, l=9.81]', '\" songwriter\"[p=0.00, l=9.69]', '\" Queen\"[p=0.00, l=9.56]']\n",
      "token_idx=35 [\"oncé\"] => ['\" singer\"[p=0.94, l=19.75]', '\" musician\"[p=0.02, l=15.94]', '\" pop\"[p=0.01, l=14.69]', '\" Singer\"[p=0.00, l=14.25]', '\" music\"[p=0.00, l=13.81]', '\"?\\n\"[p=0.00, l=13.50]', '\" \"[p=0.00, l=13.31]', '\"??\"[p=0.00, l=13.19]', '\" \\n\"[p=0.00, l=13.06]', '\" artist\"[p=0.00, l=13.00]', '\" entert\"[p=0.00, l=12.94]', '\" Music\"[p=0.00, l=12.88]', '\" (\"[p=0.00, l=12.81]', '\" what\"[p=0.00, l=12.56]', '\"?\"[p=0.00, l=12.56]']\n",
      "\n",
      "\" Stephen King\" | cur_rng=(37, 39)\n",
      "token_idx=37 [\" Stephen\"] => ['\"?\\n\"[p=0.13, l=13.25]', '\" philosopher\"[p=0.10, l=13.06]', '\"?\"[p=0.05, l=12.31]', '\" unknown\"[p=0.04, l=12.00]', '\"??\"[p=0.04, l=12.00]', '\"?\\n\\n\"[p=0.03, l=11.81]', '\" software\"[p=0.03, l=11.81]', '\" programmer\"[p=0.03, l=11.81]', '\" actor\"[p=0.03, l=11.75]', '\"???\"[p=0.02, l=11.50]', '\" computer\"[p=0.02, l=11.19]', '\" engineer\"[p=0.02, l=11.12]', '\" writer\"[p=0.01, l=11.06]', '\" no\"[p=0.01, l=11.00]', '\" (\"[p=0.01, l=10.88]']\n",
      "token_idx=38 [\" King\"] => ['\" author\"[p=0.43, l=17.62]', '\" writer\"[p=0.34, l=17.38]', '\" novelist\"[p=0.10, l=16.12]', '\"?\\n\"[p=0.03, l=14.81]', '\" horror\"[p=0.02, l=14.62]', '\"??\"[p=0.01, l=13.62]', '\"?\"[p=0.01, l=13.44]', '\" Writer\"[p=0.00, l=13.12]', '\"?\\n\\n\"[p=0.00, l=13.06]', '\" (\"[p=0.00, l=12.94]', '\" Author\"[p=0.00, l=12.81]', '\"???\"[p=0.00, l=12.69]', '\" politician\"[p=0.00, l=12.44]', '\" lawyer\"[p=0.00, l=12.44]', '\" Stephen\"[p=0.00, l=12.25]']\n",
      "\n",
      "\" Novak Djokovic\" | cur_rng=(40, 45)\n",
      "token_idx=40 [\" Nov\"] => ['\"?\\n\"[p=0.09, l=11.00]', '\"?\"[p=0.06, l=10.56]', '\"??\"[p=0.05, l=10.31]', '\" unknown\"[p=0.03, l=10.00]', '\"?\\n\\n\"[p=0.03, l=9.88]', '\"???\"[p=0.02, l=9.50]', '\" artist\"[p=0.02, l=9.50]', '\" musician\"[p=0.02, l=9.25]', '\" singer\"[p=0.02, l=9.25]', '\" not\"[p=0.01, l=9.00]', '\" no\"[p=0.01, l=8.94]', '\" programmer\"[p=0.01, l=8.88]', '\" what\"[p=0.01, l=8.81]', '\" entrepreneur\"[p=0.01, l=8.75]', '\" writer\"[p=0.01, l=8.69]']\n",
      "token_idx=41 [\"ak\"] => ['\"?\\n\"[p=0.15, l=13.00]', '\" tennis\"[p=0.13, l=12.88]', '\"?\"[p=0.09, l=12.56]', '\"?\\n\\n\"[p=0.06, l=12.19]', '\"??\"[p=0.05, l=11.88]', '\"???\"[p=0.02, l=11.19]', '\" musician\"[p=0.02, l=11.06]', '\" unknown\"[p=0.02, l=11.00]', '\" politician\"[p=0.02, l=10.94]', '\" programmer\"[p=0.01, l=10.44]', '\" what\"[p=0.01, l=10.25]', '\" \\n\"[p=0.01, l=10.25]', '\" Dj\"[p=0.01, l=10.12]', '\" actor\"[p=0.01, l=10.06]', '\" artist\"[p=0.01, l=10.06]']\n",
      "token_idx=42 [\" Dj\"] => ['\"?\\n\"[p=0.08, l=11.81]', '\" DJ\"[p=0.06, l=11.56]', '\" musician\"[p=0.06, l=11.50]', '\" tennis\"[p=0.05, l=11.31]', '\"??\"[p=0.05, l=11.31]', '\" dj\"[p=0.04, l=11.25]', '\"?\"[p=0.04, l=11.12]', '\"?\\n\\n\"[p=0.02, l=10.69]', '\" singer\"[p=0.02, l=10.69]', '\" unknown\"[p=0.02, l=10.69]', '\" disc\"[p=0.02, l=10.56]', '\" Dj\"[p=0.02, l=10.38]', '\"???\"[p=0.02, l=10.25]', '\" actor\"[p=0.01, l=9.81]', '\" artist\"[p=0.01, l=9.62]']\n",
      "token_idx=43 [\"ok\"] => ['\" tennis\"[p=0.49, l=14.38]', '\" musician\"[p=0.05, l=12.06]', '\"?\\n\"[p=0.04, l=11.75]', '\"??\"[p=0.03, l=11.50]', '\"?\"[p=0.02, l=11.38]', '\"???\"[p=0.01, l=10.81]', '\" athlete\"[p=0.01, l=10.75]', '\" professional\"[p=0.01, l=10.56]', '\" singer\"[p=0.01, l=10.56]', '\"?\\n\\n\"[p=0.01, l=10.44]', '\" what\"[p=0.01, l=10.31]', '\" Nov\"[p=0.01, l=10.19]', '\" Tennis\"[p=0.01, l=10.19]', '\" (\"[p=0.01, l=10.06]', '\" dj\"[p=0.01, l=10.00]']\n",
      "token_idx=44 [\"ovic\"] => ['\"?\\n\"[p=0.20, l=13.06]', '\"?\\n\\n\"[p=0.10, l=12.31]', '\"?\"[p=0.07, l=11.94]', '\"??\"[p=0.04, l=11.50]', '\" \\n\"[p=0.03, l=11.25]', '\" lawyer\"[p=0.02, l=10.88]', '\"???\"[p=0.02, l=10.56]', '\" politician\"[p=0.02, l=10.50]', '\" (\"[p=0.02, l=10.50]', '\" unknown\"[p=0.01, l=10.31]', '\" entrepreneur\"[p=0.01, l=10.19]', '\" software\"[p=0.01, l=10.06]', '\" football\"[p=0.01, l=10.06]', '\" tennis\"[p=0.01, l=10.00]', '\" \"[p=0.01, l=9.94]']\n",
      "======================================================================================================================================================\n",
      "\n",
      "layer='model.layers.48'\n",
      "\n",
      "\"Ans:\" | cur_rng=(-2, 0)\n",
      "token_idx=-2 [\"Ans\"] => ['\" Ans\"[p=0.04, l=9.69]', '\" unknown\"[p=0.03, l=9.50]', '\" entrepreneur\"[p=0.02, l=9.12]', '\" artist\"[p=0.02, l=8.88]', '\" answer\"[p=0.02, l=8.81]', '\"?\\n\"[p=0.01, l=8.62]', '\" Answer\"[p=0.01, l=8.56]', '\" computer\"[p=0.01, l=8.44]', '\" \\n\"[p=0.01, l=8.44]', '\" person\"[p=0.01, l=8.44]', '\" no\"[p=0.01, l=8.38]', '\" Albert\"[p=0.01, l=8.38]', '\" programmer\"[p=0.01, l=8.25]', '\" a\"[p=0.01, l=8.19]', '\" Unknown\"[p=0.01, l=8.12]']\n",
      "token_idx=-1 [\":\"] => ['\"?\\n\"[p=0.19, l=12.25]', '\"?\\n\\n\"[p=0.10, l=11.62]', '\"?\"[p=0.04, l=10.62]', '\" (\"[p=0.03, l=10.25]', '\" \\n\"[p=0.02, l=9.88]', '\" unknown\"[p=0.02, l=9.88]', '\" programmer\"[p=0.01, l=9.62]', '\" ->\"[p=0.01, l=9.56]', '\"??\"[p=0.01, l=9.38]', '\" computer\"[p=0.01, l=9.38]', '\" actor\"[p=0.01, l=9.38]', '\" your\"[p=0.01, l=9.31]', '\" person\"[p=0.01, l=9.12]', '\" symbol\"[p=0.01, l=9.12]', '\" \"[p=0.01, l=9.06]']\n",
      "\n",
      "\" Johnny Depp\" | cur_rng=(13, 16)\n",
      "token_idx=13 [\" Johnny\"] => ['\" singer\"[p=0.12, l=13.00]', '\" musician\"[p=0.12, l=13.00]', '\" unknown\"[p=0.07, l=12.44]', '\"?\\n\"[p=0.05, l=12.06]', '\" actor\"[p=0.04, l=11.75]', '\"??\"[p=0.03, l=11.50]', '\"?\"[p=0.02, l=11.38]', '\"???\"[p=0.02, l=11.25]', '\" no\"[p=0.02, l=11.25]', '\" (\"[p=0.02, l=11.19]', '\" rock\"[p=0.02, l=11.00]', '\" Johnny\"[p=0.02, l=11.00]', '\"?\\n\\n\"[p=0.01, l=10.75]', '\" artist\"[p=0.01, l=10.38]', '\" \\n\"[p=0.01, l=10.25]']\n",
      "token_idx=14 [\" De\"] => ['\"?\\n\"[p=0.08, l=10.88]', '\" unknown\"[p=0.05, l=10.50]', '\"?\"[p=0.03, l=9.94]', '\"?\\n\\n\"[p=0.03, l=9.75]', '\"??\"[p=0.02, l=9.69]', '\" empty\"[p=0.02, l=9.31]', '\" programmer\"[p=0.01, l=9.12]', '\" computer\"[p=0.01, l=9.06]', '\" software\"[p=0.01, l=9.00]', '\" (\"[p=0.01, l=8.94]', '\" lawyer\"[p=0.01, l=8.94]', '\" missing\"[p=0.01, l=8.94]', '\" ->\"[p=0.01, l=8.81]', '\" your\"[p=0.01, l=8.81]', '\" pre\"[p=0.01, l=8.75]']\n",
      "token_idx=15 [\"pp\"] => ['\" actor\"[p=0.71, l=16.12]', '\"?\\n\"[p=0.07, l=13.88]', '\"?\\n\\n\"[p=0.03, l=12.88]', '\"??\"[p=0.02, l=12.62]', '\"?\"[p=0.02, l=12.31]', '\"???\"[p=0.01, l=12.06]', '\" actress\"[p=0.01, l=11.62]', '\" \\n\"[p=0.00, l=11.00]', '\" artist\"[p=0.00, l=10.88]', '\" (\"[p=0.00, l=10.88]', '\" pirate\"[p=0.00, l=10.88]', '\" what\"[p=0.00, l=10.69]', '\" lawyer\"[p=0.00, l=10.69]', '\" movie\"[p=0.00, l=10.62]', '\" musician\"[p=0.00, l=10.56]']\n",
      "\n",
      "\" Marc Jacobs\" | cur_rng=(19, 21)\n",
      "token_idx=19 [\" Marc\"] => ['\"?\\n\"[p=0.13, l=12.19]', '\"??\"[p=0.06, l=11.38]', '\"?\"[p=0.05, l=11.25]', '\"?\\n\\n\"[p=0.04, l=11.12]', '\"???\"[p=0.03, l=10.88]', '\" unknown\"[p=0.03, l=10.62]', '\" musician\"[p=0.02, l=10.31]', '\" singer\"[p=0.02, l=10.25]', '\" actor\"[p=0.02, l=10.25]', '\" artist\"[p=0.02, l=10.19]', '\" entrepreneur\"[p=0.02, l=10.12]', '\" programmer\"[p=0.01, l=9.88]', '\" football\"[p=0.01, l=9.69]', '\" no\"[p=0.01, l=9.69]', '\" not\"[p=0.01, l=9.56]']\n",
      "token_idx=20 [\" Jacobs\"] => ['\" fashion\"[p=0.90, l=18.75]', '\" designer\"[p=0.04, l=15.62]', '\"?\\n\"[p=0.01, l=13.94]', '\" Fashion\"[p=0.00, l=13.44]', '\"??\"[p=0.00, l=13.00]', '\"?\"[p=0.00, l=12.75]', '\" \"[p=0.00, l=12.69]', '\" (\"[p=0.00, l=12.62]', '\" unknown\"[p=0.00, l=12.44]', '\" entrepreneur\"[p=0.00, l=12.44]', '\" model\"[p=0.00, l=12.25]', '\" not\"[p=0.00, l=11.88]', '\"???\"[p=0.00, l=11.88]', '\" artist\"[p=0.00, l=11.56]', '\" a\"[p=0.00, l=11.38]']\n",
      "\n",
      "\" Jennifer Lawrence\" | cur_rng=(22, 24)\n",
      "token_idx=22 [\" Jennifer\"] => ['\" actress\"[p=0.30, l=14.38]', '\" singer\"[p=0.11, l=13.38]', '\"?\\n\"[p=0.07, l=12.94]', '\" actor\"[p=0.03, l=12.19]', '\"?\"[p=0.03, l=12.19]', '\"??\"[p=0.03, l=12.12]', '\" unknown\"[p=0.03, l=12.00]', '\" lawyer\"[p=0.03, l=11.94]', '\"?\\n\\n\"[p=0.02, l=11.50]', '\"???\"[p=0.01, l=11.19]', '\" Jennifer\"[p=0.01, l=11.12]', '\" \\n\"[p=0.01, l=10.94]', '\" celebrity\"[p=0.01, l=10.88]', '\" model\"[p=0.01, l=10.81]', '\" no\"[p=0.01, l=10.81]']\n",
      "token_idx=23 [\" Lawrence\"] => ['\" actress\"[p=0.82, l=17.75]', '\" actor\"[p=0.06, l=15.06]', '\"?\\n\"[p=0.02, l=14.19]', '\"??\"[p=0.01, l=13.62]', '\"?\"[p=0.01, l=13.31]', '\"?\\n\\n\"[p=0.01, l=13.31]', '\" unknown\"[p=0.01, l=12.75]', '\"???\"[p=0.00, l=12.50]', '\" movie\"[p=0.00, l=12.38]', '\" Actress\"[p=0.00, l=11.94]', '\" singer\"[p=0.00, l=11.94]', '\" \"[p=0.00, l=11.94]', '\" \\n\"[p=0.00, l=11.88]', '\" (\"[p=0.00, l=11.88]', '\" what\"[p=0.00, l=11.75]']\n",
      "\n",
      "\" Giannis Antetokounmpo\" | cur_rng=(25, 33)\n",
      "token_idx=25 [\" Gi\"] => ['\" singer\"[p=0.07, l=11.00]', '\"?\\n\"[p=0.05, l=10.75]', '\" musician\"[p=0.04, l=10.56]', '\" artist\"[p=0.02, l=10.00]', '\"??\"[p=0.02, l=9.75]', '\" entrepreneur\"[p=0.02, l=9.56]', '\" rapper\"[p=0.02, l=9.50]', '\"?\"[p=0.01, l=9.31]', '\" fashion\"[p=0.01, l=9.19]', '\" \"[p=0.01, l=9.06]', '\" football\"[p=0.01, l=9.06]', '\" unknown\"[p=0.01, l=9.00]', '\" politician\"[p=0.01, l=9.00]', '\" designer\"[p=0.01, l=8.94]', '\" architect\"[p=0.01, l=8.94]']\n",
      "token_idx=26 [\"annis\"] => ['\"?\\n\"[p=0.19, l=13.94]', '\"?\\n\\n\"[p=0.08, l=13.06]', '\"?\"[p=0.07, l=12.94]', '\"??\"[p=0.05, l=12.69]', '\" unknown\"[p=0.05, l=12.50]', '\"???\"[p=0.04, l=12.25]', '\" football\"[p=0.02, l=11.81]', '\" politician\"[p=0.02, l=11.75]', '\" software\"[p=0.02, l=11.56]', '\" basketball\"[p=0.02, l=11.50]', '\" philosopher\"[p=0.01, l=11.31]', '\" Greek\"[p=0.01, l=11.25]', '\" soccer\"[p=0.01, l=11.06]', '\" musician\"[p=0.01, l=10.94]', '\" what\"[p=0.01, l=10.88]']\n",
      "token_idx=27 [\" Ant\"] => ['\" ant\"[p=0.11, l=12.38]', '\" insect\"[p=0.07, l=11.94]', '\" software\"[p=0.06, l=11.81]', '\"??\"[p=0.05, l=11.50]', '\" ent\"[p=0.05, l=11.50]', '\" unknown\"[p=0.04, l=11.25]', '\"???\"[p=0.03, l=11.12]', '\"?\\n\"[p=0.03, l=11.00]', '\" Ant\"[p=0.02, l=10.62]', '\" lawyer\"[p=0.01, l=10.25]', '\"?\"[p=0.01, l=10.19]', '\" computer\"[p=0.01, l=10.12]', '\" programmer\"[p=0.01, l=10.12]', '\" artist\"[p=0.01, l=10.12]', '\" (\"[p=0.01, l=9.94]']\n",
      "token_idx=28 [\"et\"] => ['\"?\\n\"[p=0.13, l=11.81]', '\"??\"[p=0.07, l=11.12]', '\"?\"[p=0.05, l=10.88]', '\"?\\n\\n\"[p=0.05, l=10.75]', '\" unknown\"[p=0.03, l=10.44]', '\"???\"[p=0.02, l=10.00]', '\" artist\"[p=0.02, l=9.75]', '\" lawyer\"[p=0.01, l=9.50]', '\" software\"[p=0.01, l=9.31]', '\" \\n\"[p=0.01, l=9.25]', '\" politician\"[p=0.01, l=9.25]', '\" actor\"[p=0.01, l=9.00]', '\" computer\"[p=0.01, l=9.00]', '\" (\"[p=0.01, l=9.00]', '\" \"[p=0.01, l=9.00]']\n",
      "token_idx=29 [\"ok\"] => ['\"?\\n\"[p=0.13, l=12.56]', '\"??\"[p=0.06, l=11.88]', '\"?\\n\\n\"[p=0.05, l=11.62]', '\" unknown\"[p=0.05, l=11.62]', '\"?\"[p=0.05, l=11.62]', '\"???\"[p=0.03, l=11.25]', '\" politician\"[p=0.03, l=10.94]', '\" lawyer\"[p=0.01, l=10.38]', '\" actor\"[p=0.01, l=10.38]', '\" artist\"[p=0.01, l=10.31]', '\" software\"[p=0.01, l=10.19]', '\" entrepreneur\"[p=0.01, l=10.12]', '\" engineer\"[p=0.01, l=10.00]', '\" (\"[p=0.01, l=10.00]', '\" computer\"[p=0.01, l=9.88]']\n",
      "token_idx=30 [\"oun\"] => ['\"?\\n\"[p=0.12, l=12.25]', '\" basketball\"[p=0.08, l=11.88]', '\"??\"[p=0.08, l=11.88]', '\"?\"[p=0.07, l=11.69]', '\"?\\n\\n\"[p=0.06, l=11.50]', '\" unknown\"[p=0.04, l=11.25]', '\"???\"[p=0.02, l=10.62]', '\" politician\"[p=0.02, l=10.50]', '\" Greek\"[p=0.02, l=10.44]', '\" athlete\"[p=0.02, l=10.25]', '\" football\"[p=0.02, l=10.19]', '\" \\n\"[p=0.01, l=9.94]', '\" entrepreneur\"[p=0.01, l=9.88]', '\" what\"[p=0.01, l=9.69]', '\" (\"[p=0.01, l=9.69]']\n",
      "token_idx=31 [\"mp\"] => ['\"?\\n\"[p=0.18, l=13.00]', '\"?\\n\\n\"[p=0.09, l=12.31]', '\"?\"[p=0.08, l=12.19]', '\"??\"[p=0.07, l=12.06]', '\" \\n\"[p=0.03, l=11.25]', '\" lawyer\"[p=0.02, l=10.56]', '\" (\"[p=0.02, l=10.56]', '\"???\"[p=0.02, l=10.56]', '\" unknown\"[p=0.02, l=10.50]', '\" \"[p=0.01, l=10.38]', '\" artist\"[p=0.01, l=10.19]', '\" actor\"[p=0.01, l=9.94]', '\" politician\"[p=0.01, l=9.94]', '\" profession\"[p=0.01, l=9.88]', '\" entrepreneur\"[p=0.01, l=9.81]']\n",
      "token_idx=32 [\"o\"] => ['\"?\\n\"[p=0.29, l=14.25]', '\"?\\n\\n\"[p=0.15, l=13.56]', '\"?\"[p=0.08, l=13.00]', '\"??\"[p=0.07, l=12.75]', '\"???\"[p=0.02, l=11.75]', '\" lawyer\"[p=0.02, l=11.50]', '\" \\n\"[p=0.02, l=11.31]', '\" software\"[p=0.01, l=11.19]', '\" \"[p=0.01, l=10.88]', '\" programmer\"[p=0.01, l=10.81]', '\" politician\"[p=0.01, l=10.69]', '\" unknown\"[p=0.01, l=10.62]', '\" (\"[p=0.01, l=10.56]', '\" engineer\"[p=0.01, l=10.50]', '\" computer\"[p=0.01, l=10.44]']\n",
      "\n",
      "\" Beyoncé\" | cur_rng=(34, 36)\n",
      "token_idx=34 [\" Bey\"] => ['\" singer\"[p=0.71, l=15.81]', '\" musician\"[p=0.07, l=13.50]', '\" pop\"[p=0.04, l=12.88]', '\" Singer\"[p=0.01, l=11.88]', '\" music\"[p=0.01, l=11.62]', '\" artist\"[p=0.01, l=11.44]', '\" entrepreneur\"[p=0.01, l=11.00]', '\" entert\"[p=0.00, l=10.69]', '\" actress\"[p=0.00, l=10.69]', '\" performer\"[p=0.00, l=10.62]', '\" \"[p=0.00, l=10.56]', '\" Music\"[p=0.00, l=10.56]', '\" songwriter\"[p=0.00, l=10.56]', '\" celebrity\"[p=0.00, l=10.19]', '\" Queen\"[p=0.00, l=10.00]']\n",
      "token_idx=35 [\"oncé\"] => ['\" singer\"[p=0.94, l=19.88]', '\" musician\"[p=0.02, l=16.12]', '\" pop\"[p=0.01, l=14.94]', '\" Singer\"[p=0.00, l=14.31]', '\" music\"[p=0.00, l=13.69]', '\" \"[p=0.00, l=13.50]', '\" artist\"[p=0.00, l=13.19]', '\" entert\"[p=0.00, l=13.12]', '\" Music\"[p=0.00, l=12.81]', '\" \\n\"[p=0.00, l=12.81]', '\" actress\"[p=0.00, l=12.81]', '\" (\"[p=0.00, l=12.62]', '\"?\\n\"[p=0.00, l=12.62]', '\" songwriter\"[p=0.00, l=12.50]', '\"??\"[p=0.00, l=12.44]']\n",
      "\n",
      "\" Stephen King\" | cur_rng=(37, 39)\n",
      "token_idx=37 [\" Stephen\"] => ['\" philosopher\"[p=0.21, l=13.88]', '\"?\\n\"[p=0.13, l=13.38]', '\"?\"[p=0.05, l=12.38]', '\" unknown\"[p=0.04, l=12.25]', '\"??\"[p=0.03, l=12.06]', '\"?\\n\\n\"[p=0.03, l=11.94]', '\" actor\"[p=0.02, l=11.56]', '\"???\"[p=0.02, l=11.50]', '\" programmer\"[p=0.02, l=11.44]', '\" software\"[p=0.02, l=11.38]', '\" no\"[p=0.02, l=11.25]', '\" computer\"[p=0.01, l=11.00]', '\" (\"[p=0.01, l=10.94]', '\" mathematic\"[p=0.01, l=10.88]', '\" engineer\"[p=0.01, l=10.75]']\n",
      "token_idx=38 [\" King\"] => ['\" author\"[p=0.42, l=17.62]', '\" writer\"[p=0.37, l=17.50]', '\" novelist\"[p=0.08, l=16.00]', '\"?\\n\"[p=0.02, l=14.75]', '\" horror\"[p=0.02, l=14.62]', '\"??\"[p=0.01, l=13.56]', '\"?\"[p=0.01, l=13.31]', '\" Writer\"[p=0.00, l=13.12]', '\"?\\n\\n\"[p=0.00, l=13.12]', '\" (\"[p=0.00, l=13.06]', '\" Author\"[p=0.00, l=12.75]', '\"???\"[p=0.00, l=12.56]', '\" lawyer\"[p=0.00, l=12.38]', '\" Stephen\"[p=0.00, l=12.25]', '\" unknown\"[p=0.00, l=12.25]']\n",
      "\n",
      "\" Novak Djokovic\" | cur_rng=(40, 45)\n",
      "token_idx=40 [\" Nov\"] => ['\"?\\n\"[p=0.08, l=10.75]', '\"?\"[p=0.06, l=10.38]', '\"??\"[p=0.04, l=10.12]', '\" unknown\"[p=0.03, l=9.81]', '\"?\\n\\n\"[p=0.03, l=9.62]', '\" singer\"[p=0.02, l=9.38]', '\"???\"[p=0.02, l=9.31]', '\" musician\"[p=0.02, l=9.31]', '\" artist\"[p=0.02, l=9.31]', '\" no\"[p=0.01, l=8.75]', '\" not\"[p=0.01, l=8.75]', '\" what\"[p=0.01, l=8.62]', '\" programmer\"[p=0.01, l=8.56]', '\" \"[p=0.01, l=8.56]', '\" writer\"[p=0.01, l=8.38]']\n",
      "token_idx=41 [\"ak\"] => ['\"?\\n\"[p=0.15, l=13.12]', '\" tennis\"[p=0.11, l=12.81]', '\"?\"[p=0.09, l=12.56]', '\"?\\n\\n\"[p=0.07, l=12.38]', '\"??\"[p=0.05, l=12.06]', '\"???\"[p=0.02, l=11.25]', '\" unknown\"[p=0.02, l=11.12]', '\" programmer\"[p=0.02, l=11.00]', '\" musician\"[p=0.02, l=10.88]', '\" politician\"[p=0.01, l=10.75]', '\" software\"[p=0.01, l=10.50]', '\" \\n\"[p=0.01, l=10.25]', '\" artist\"[p=0.01, l=10.19]', '\" what\"[p=0.01, l=10.19]', '\" actor\"[p=0.01, l=10.19]']\n",
      "token_idx=42 [\" Dj\"] => ['\" DJ\"[p=0.08, l=11.56]', '\" musician\"[p=0.06, l=11.19]', '\" dj\"[p=0.04, l=10.94]', '\"?\\n\"[p=0.04, l=10.94]', '\" disc\"[p=0.04, l=10.94]', '\"??\"[p=0.03, l=10.56]', '\" unknown\"[p=0.02, l=10.31]', '\" singer\"[p=0.02, l=10.25]', '\" tennis\"[p=0.02, l=10.06]', '\"?\"[p=0.02, l=10.06]', '\" disk\"[p=0.02, l=10.00]', '\" Dj\"[p=0.02, l=10.00]', '\" Disc\"[p=0.01, l=9.69]', '\"???\"[p=0.01, l=9.62]', '\" actor\"[p=0.01, l=9.44]']\n",
      "token_idx=43 [\"ok\"] => ['\" tennis\"[p=0.46, l=14.31]', '\" musician\"[p=0.05, l=12.12]', '\"?\\n\"[p=0.04, l=11.81]', '\"??\"[p=0.03, l=11.56]', '\"?\"[p=0.03, l=11.44]', '\"???\"[p=0.02, l=11.06]', '\" athlete\"[p=0.01, l=10.81]', '\" singer\"[p=0.01, l=10.62]', '\" professional\"[p=0.01, l=10.62]', '\"?\\n\\n\"[p=0.01, l=10.50]', '\" what\"[p=0.01, l=10.25]', '\" Nov\"[p=0.01, l=10.19]', '\" Tennis\"[p=0.01, l=10.19]', '\" actor\"[p=0.01, l=10.12]', '\" (\"[p=0.01, l=10.12]']\n",
      "token_idx=44 [\"ovic\"] => ['\"?\\n\"[p=0.22, l=13.25]', '\"?\\n\\n\"[p=0.11, l=12.56]', '\"?\"[p=0.07, l=12.12]', '\"??\"[p=0.04, l=11.62]', '\" \\n\"[p=0.03, l=11.25]', '\" lawyer\"[p=0.02, l=11.06]', '\"???\"[p=0.02, l=10.75]', '\" politician\"[p=0.02, l=10.62]', '\" (\"[p=0.01, l=10.50]', '\" unknown\"[p=0.01, l=10.44]', '\" software\"[p=0.01, l=10.31]', '\" actor\"[p=0.01, l=10.19]', '\" entrepreneur\"[p=0.01, l=10.19]', '\" football\"[p=0.01, l=10.00]', '\" \"[p=0.01, l=10.00]']\n",
      "======================================================================================================================================================\n",
      "\n",
      "layer='model.layers.51'\n",
      "\n",
      "\"Ans:\" | cur_rng=(-2, 0)\n",
      "token_idx=-2 [\"Ans\"] => ['\" unknown\"[p=0.03, l=9.38]', '\" Ans\"[p=0.03, l=9.38]', '\" answer\"[p=0.02, l=9.25]', '\" entrepreneur\"[p=0.02, l=9.19]', '\" artist\"[p=0.02, l=9.12]', '\" Answer\"[p=0.02, l=8.81]', '\"?\\n\"[p=0.01, l=8.62]', '\" \\n\"[p=0.01, l=8.56]', '\" computer\"[p=0.01, l=8.38]', '\" Albert\"[p=0.01, l=8.38]', '\" programmer\"[p=0.01, l=8.38]', '\" person\"[p=0.01, l=8.31]', '\" a\"[p=0.01, l=8.31]', '\" politician\"[p=0.01, l=8.19]', '\" no\"[p=0.01, l=8.12]']\n",
      "token_idx=-1 [\":\"] => ['\"?\\n\"[p=0.15, l=12.00]', '\"?\\n\\n\"[p=0.09, l=11.44]', '\"?\"[p=0.04, l=10.69]', '\" (\"[p=0.02, l=10.19]', '\" \\n\"[p=0.02, l=10.00]', '\" unknown\"[p=0.02, l=9.75]', '\" ->\"[p=0.01, l=9.62]', '\" actor\"[p=0.01, l=9.50]', '\" programmer\"[p=0.01, l=9.44]', '\" your\"[p=0.01, l=9.31]', '\" computer\"[p=0.01, l=9.31]', '\" \"[p=0.01, l=9.31]', '\" fill\"[p=0.01, l=9.25]', '\" person\"[p=0.01, l=9.25]', '\"??\"[p=0.01, l=9.12]']\n",
      "\n",
      "\" Johnny Depp\" | cur_rng=(13, 16)\n",
      "token_idx=13 [\" Johnny\"] => ['\" musician\"[p=0.15, l=13.19]', '\" singer\"[p=0.13, l=13.06]', '\" unknown\"[p=0.06, l=12.31]', '\"?\\n\"[p=0.03, l=11.75]', '\" actor\"[p=0.03, l=11.69]', '\" no\"[p=0.02, l=11.38]', '\"??\"[p=0.02, l=11.31]', '\" (\"[p=0.02, l=11.19]', '\"???\"[p=0.02, l=11.06]', '\"?\"[p=0.02, l=11.00]', '\" rock\"[p=0.02, l=11.00]', '\" Johnny\"[p=0.02, l=10.94]', '\" programmer\"[p=0.01, l=10.56]', '\"?\\n\\n\"[p=0.01, l=10.38]', '\" artist\"[p=0.01, l=10.38]']\n",
      "token_idx=14 [\" De\"] => ['\"?\\n\"[p=0.09, l=11.06]', '\" unknown\"[p=0.05, l=10.44]', '\"?\"[p=0.04, l=10.12]', '\"?\\n\\n\"[p=0.03, l=9.94]', '\"??\"[p=0.03, l=9.75]', '\" empty\"[p=0.02, l=9.25]', '\" your\"[p=0.01, l=9.19]', '\" (\"[p=0.01, l=9.06]', '\" \\n\"[p=0.01, l=9.06]', '\" lawyer\"[p=0.01, l=9.00]', '\" person\"[p=0.01, l=8.88]', '\" computer\"[p=0.01, l=8.88]', '\" ->\"[p=0.01, l=8.81]', '\" software\"[p=0.01, l=8.75]', '\" a\"[p=0.01, l=8.75]']\n",
      "token_idx=15 [\"pp\"] => ['\" actor\"[p=0.53, l=15.44]', '\"?\\n\"[p=0.12, l=14.00]', '\"?\\n\\n\"[p=0.05, l=13.00]', '\"??\"[p=0.04, l=12.75]', '\"?\"[p=0.03, l=12.44]', '\"???\"[p=0.02, l=12.06]', '\" actress\"[p=0.01, l=11.38]', '\" lawyer\"[p=0.01, l=11.12]', '\" \\n\"[p=0.01, l=11.06]', '\" artist\"[p=0.01, l=11.06]', '\" (\"[p=0.01, l=10.88]', '\" singer\"[p=0.00, l=10.75]', '\" musician\"[p=0.00, l=10.69]', '\" software\"[p=0.00, l=10.62]', '\" what\"[p=0.00, l=10.56]']\n",
      "\n",
      "\" Marc Jacobs\" | cur_rng=(19, 21)\n",
      "token_idx=19 [\" Marc\"] => ['\"?\\n\"[p=0.12, l=12.19]', '\"??\"[p=0.06, l=11.50]', '\"?\"[p=0.04, l=11.06]', '\"?\\n\\n\"[p=0.04, l=11.00]', '\"???\"[p=0.03, l=10.88]', '\" singer\"[p=0.03, l=10.75]', '\" musician\"[p=0.03, l=10.62]', '\" entrepreneur\"[p=0.02, l=10.56]', '\" actor\"[p=0.02, l=10.50]', '\" unknown\"[p=0.02, l=10.38]', '\" artist\"[p=0.02, l=10.25]', '\" programmer\"[p=0.02, l=10.12]', '\" football\"[p=0.01, l=9.88]', '\" software\"[p=0.01, l=9.88]', '\" politician\"[p=0.01, l=9.81]']\n",
      "token_idx=20 [\" Jacobs\"] => ['\" fashion\"[p=0.89, l=18.62]', '\" designer\"[p=0.04, l=15.50]', '\"?\\n\"[p=0.01, l=14.06]', '\" Fashion\"[p=0.01, l=13.50]', '\"??\"[p=0.00, l=13.00]', '\"?\"[p=0.00, l=12.75]', '\" \"[p=0.00, l=12.69]', '\" (\"[p=0.00, l=12.62]', '\" unknown\"[p=0.00, l=12.56]', '\" entrepreneur\"[p=0.00, l=12.38]', '\" not\"[p=0.00, l=11.94]', '\" model\"[p=0.00, l=11.88]', '\"???\"[p=0.00, l=11.81]', '\" \\n\"[p=0.00, l=11.44]', '\" a\"[p=0.00, l=11.44]']\n",
      "\n",
      "\" Jennifer Lawrence\" | cur_rng=(22, 24)\n",
      "token_idx=22 [\" Jennifer\"] => ['\" actress\"[p=0.26, l=14.19]', '\" singer\"[p=0.12, l=13.44]', '\"?\\n\"[p=0.08, l=12.94]', '\"??\"[p=0.04, l=12.25]', '\"?\"[p=0.04, l=12.25]', '\" unknown\"[p=0.03, l=12.00]', '\" actor\"[p=0.03, l=11.88]', '\" lawyer\"[p=0.02, l=11.75]', '\"?\\n\\n\"[p=0.02, l=11.56]', '\"???\"[p=0.01, l=11.25]', '\" Jennifer\"[p=0.01, l=11.19]', '\" \\n\"[p=0.01, l=10.88]', '\" celebrity\"[p=0.01, l=10.88]', '\" model\"[p=0.01, l=10.81]', '\" \"[p=0.01, l=10.75]']\n",
      "token_idx=23 [\" Lawrence\"] => ['\" actress\"[p=0.80, l=17.62]', '\" actor\"[p=0.06, l=15.06]', '\"?\\n\"[p=0.03, l=14.19]', '\"??\"[p=0.01, l=13.62]', '\"?\"[p=0.01, l=13.38]', '\"?\\n\\n\"[p=0.01, l=13.31]', '\" unknown\"[p=0.01, l=12.75]', '\"???\"[p=0.00, l=12.50]', '\" movie\"[p=0.00, l=12.12]', '\" singer\"[p=0.00, l=12.00]', '\" \\n\"[p=0.00, l=11.94]', '\" (\"[p=0.00, l=11.94]', '\" \"[p=0.00, l=11.94]', '\" Actress\"[p=0.00, l=11.75]', '\" what\"[p=0.00, l=11.62]']\n",
      "\n",
      "\" Giannis Antetokounmpo\" | cur_rng=(25, 33)\n",
      "token_idx=25 [\" Gi\"] => ['\" singer\"[p=0.08, l=11.19]', '\"?\\n\"[p=0.07, l=11.12]', '\" musician\"[p=0.04, l=10.56]', '\" artist\"[p=0.02, l=9.94]', '\"??\"[p=0.02, l=9.94]', '\" rapper\"[p=0.02, l=9.75]', '\" fashion\"[p=0.02, l=9.69]', '\"?\"[p=0.02, l=9.62]', '\" entrepreneur\"[p=0.01, l=9.50]', '\" designer\"[p=0.01, l=9.44]', '\" unknown\"[p=0.01, l=9.31]', '\" \"[p=0.01, l=9.06]', '\"???\"[p=0.01, l=9.06]', '\" politician\"[p=0.01, l=9.00]', '\"?\\n\\n\"[p=0.01, l=8.81]']\n",
      "token_idx=26 [\"annis\"] => ['\"?\\n\"[p=0.17, l=13.56]', '\"?\\n\\n\"[p=0.08, l=12.75]', '\"?\"[p=0.07, l=12.62]', '\"??\"[p=0.05, l=12.38]', '\" unknown\"[p=0.04, l=12.19]', '\"???\"[p=0.04, l=12.06]', '\" politician\"[p=0.02, l=11.50]', '\" football\"[p=0.02, l=11.44]', '\" software\"[p=0.02, l=11.31]', '\" Greek\"[p=0.01, l=11.06]', '\" basketball\"[p=0.01, l=10.81]', '\" engineer\"[p=0.01, l=10.75]', '\" philosopher\"[p=0.01, l=10.69]', '\" actor\"[p=0.01, l=10.62]', '\" computer\"[p=0.01, l=10.62]']\n",
      "token_idx=27 [\" Ant\"] => ['\" software\"[p=0.12, l=12.38]', '\" ant\"[p=0.10, l=12.19]', '\"??\"[p=0.05, l=11.50]', '\"?\\n\"[p=0.03, l=11.12]', '\"???\"[p=0.03, l=11.06]', '\" programmer\"[p=0.03, l=11.00]', '\" ent\"[p=0.03, l=11.00]', '\" lawyer\"[p=0.03, l=11.00]', '\" computer\"[p=0.02, l=10.81]', '\" unknown\"[p=0.02, l=10.75]', '\" artist\"[p=0.02, l=10.56]', '\" insect\"[p=0.02, l=10.56]', '\" Ant\"[p=0.02, l=10.38]', '\" developer\"[p=0.01, l=10.25]', '\"?\"[p=0.01, l=10.00]']\n",
      "token_idx=28 [\"et\"] => ['\"?\\n\"[p=0.21, l=13.12]', '\"?\"[p=0.07, l=12.00]', '\"?\\n\\n\"[p=0.07, l=11.94]', '\"??\"[p=0.07, l=11.94]', '\" lawyer\"[p=0.02, l=10.81]', '\"???\"[p=0.02, l=10.75]', '\" artist\"[p=0.02, l=10.62]', '\" \\n\"[p=0.01, l=10.44]', '\" politician\"[p=0.01, l=10.31]', '\" actor\"[p=0.01, l=10.31]', '\" software\"[p=0.01, l=10.25]', '\" unknown\"[p=0.01, l=10.25]', '\" programmer\"[p=0.01, l=9.94]', '\" engineer\"[p=0.01, l=9.88]', '\" \"[p=0.01, l=9.88]']\n",
      "token_idx=29 [\"ok\"] => ['\"?\\n\"[p=0.13, l=12.31]', '\"??\"[p=0.06, l=11.56]', '\"?\"[p=0.06, l=11.50]', '\"?\\n\\n\"[p=0.05, l=11.38]', '\" unknown\"[p=0.04, l=11.19]', '\"???\"[p=0.03, l=10.88]', '\" politician\"[p=0.02, l=10.50]', '\" lawyer\"[p=0.02, l=10.25]', '\" artist\"[p=0.01, l=10.00]', '\" entrepreneur\"[p=0.01, l=10.00]', '\" actor\"[p=0.01, l=9.94]', '\" software\"[p=0.01, l=9.88]', '\" engineer\"[p=0.01, l=9.75]', '\" (\"[p=0.01, l=9.69]', '\" \\n\"[p=0.01, l=9.62]']\n",
      "token_idx=30 [\"oun\"] => ['\"?\\n\"[p=0.13, l=12.25]', '\"??\"[p=0.08, l=11.81]', '\"?\"[p=0.07, l=11.69]', '\" basketball\"[p=0.07, l=11.62]', '\"?\\n\\n\"[p=0.06, l=11.50]', '\" unknown\"[p=0.04, l=11.06]', '\"???\"[p=0.03, l=10.62]', '\" politician\"[p=0.02, l=10.50]', '\" Greek\"[p=0.02, l=10.44]', '\" football\"[p=0.02, l=10.19]', '\" athlete\"[p=0.02, l=10.12]', '\" \\n\"[p=0.01, l=9.88]', '\" entrepreneur\"[p=0.01, l=9.88]', '\" (\"[p=0.01, l=9.62]', '\" what\"[p=0.01, l=9.56]']\n",
      "token_idx=31 [\"mp\"] => ['\"?\\n\"[p=0.19, l=13.06]', '\"?\\n\\n\"[p=0.08, l=12.25]', '\"?\"[p=0.08, l=12.25]', '\"??\"[p=0.06, l=11.94]', '\" \\n\"[p=0.03, l=11.25]', '\" unknown\"[p=0.02, l=10.69]', '\" (\"[p=0.02, l=10.69]', '\" lawyer\"[p=0.01, l=10.50]', '\" \"[p=0.01, l=10.50]', '\"???\"[p=0.01, l=10.44]', '\" artist\"[p=0.01, l=10.19]', '\" profession\"[p=0.01, l=10.06]', '\" politician\"[p=0.01, l=10.06]', '\" actor\"[p=0.01, l=10.00]', '\" entrepreneur\"[p=0.01, l=9.88]']\n",
      "token_idx=32 [\"o\"] => ['\"?\\n\"[p=0.29, l=14.06]', '\"?\\n\\n\"[p=0.13, l=13.25]', '\"?\"[p=0.07, l=12.69]', '\"??\"[p=0.06, l=12.50]', '\" lawyer\"[p=0.02, l=11.50]', '\"???\"[p=0.02, l=11.44]', '\" software\"[p=0.02, l=11.19]', '\" \\n\"[p=0.01, l=11.06]', '\" programmer\"[p=0.01, l=10.88]', '\" \"[p=0.01, l=10.69]', '\" politician\"[p=0.01, l=10.62]', '\" unknown\"[p=0.01, l=10.50]', '\" engineer\"[p=0.01, l=10.50]', '\" computer\"[p=0.01, l=10.44]', '\" (\"[p=0.01, l=10.38]']\n",
      "\n",
      "\" Beyoncé\" | cur_rng=(34, 36)\n",
      "token_idx=34 [\" Bey\"] => ['\" singer\"[p=0.76, l=16.12]', '\" musician\"[p=0.05, l=13.44]', '\" pop\"[p=0.03, l=13.00]', '\" Singer\"[p=0.01, l=11.75]', '\" music\"[p=0.01, l=11.56]', '\" artist\"[p=0.01, l=11.44]', '\" entrepreneur\"[p=0.00, l=10.88]', '\" songwriter\"[p=0.00, l=10.69]', '\" actress\"[p=0.00, l=10.69]', '\" performer\"[p=0.00, l=10.62]', '\" \"[p=0.00, l=10.62]', '\" Queen\"[p=0.00, l=10.44]', '\" entert\"[p=0.00, l=10.44]', '\" queen\"[p=0.00, l=10.31]', '\" Music\"[p=0.00, l=10.25]']\n",
      "token_idx=35 [\"oncé\"] => ['\" singer\"[p=0.93, l=19.12]', '\" musician\"[p=0.02, l=15.44]', '\" pop\"[p=0.01, l=14.44]', '\" Singer\"[p=0.00, l=13.56]', '\" music\"[p=0.00, l=13.12]', '\" \"[p=0.00, l=12.88]', '\" artist\"[p=0.00, l=12.88]', '\"?\\n\"[p=0.00, l=12.69]', '\"??\"[p=0.00, l=12.56]', '\" (\"[p=0.00, l=12.56]', '\" \\n\"[p=0.00, l=12.38]', '\" songwriter\"[p=0.00, l=12.38]', '\" unknown\"[p=0.00, l=12.25]', '\" entert\"[p=0.00, l=12.19]', '\" Music\"[p=0.00, l=12.19]']\n",
      "\n",
      "\" Stephen King\" | cur_rng=(37, 39)\n",
      "token_idx=37 [\" Stephen\"] => ['\" philosopher\"[p=0.26, l=14.12]', '\"?\\n\"[p=0.12, l=13.31]', '\" unknown\"[p=0.05, l=12.38]', '\"?\"[p=0.04, l=12.31]', '\"??\"[p=0.03, l=12.00]', '\"?\\n\\n\"[p=0.03, l=11.94]', '\" actor\"[p=0.02, l=11.69]', '\"???\"[p=0.02, l=11.44]', '\" no\"[p=0.02, l=11.31]', '\" programmer\"[p=0.01, l=11.25]', '\" software\"[p=0.01, l=11.12]', '\" (\"[p=0.01, l=11.00]', '\" writer\"[p=0.01, l=10.88]', '\" mathematic\"[p=0.01, l=10.69]', '\" computer\"[p=0.01, l=10.69]']\n",
      "token_idx=38 [\" King\"] => ['\" author\"[p=0.44, l=17.38]', '\" writer\"[p=0.34, l=17.12]', '\" novelist\"[p=0.08, l=15.62]', '\"?\\n\"[p=0.03, l=14.62]', '\"??\"[p=0.01, l=13.56]', '\" horror\"[p=0.01, l=13.50]', '\"?\\n\\n\"[p=0.01, l=13.25]', '\"?\"[p=0.01, l=13.19]', '\" (\"[p=0.00, l=12.88]', '\" Writer\"[p=0.00, l=12.62]', '\" unknown\"[p=0.00, l=12.56]', '\"???\"[p=0.00, l=12.56]', '\" Author\"[p=0.00, l=12.44]', '\" Stephen\"[p=0.00, l=12.12]', '\" lawyer\"[p=0.00, l=12.06]']\n",
      "\n",
      "\" Novak Djokovic\" | cur_rng=(40, 45)\n",
      "token_idx=40 [\" Nov\"] => ['\"?\\n\"[p=0.09, l=10.81]', '\"?\"[p=0.06, l=10.50]', '\"??\"[p=0.05, l=10.31]', '\" unknown\"[p=0.04, l=10.00]', '\"?\\n\\n\"[p=0.04, l=9.94]', '\"???\"[p=0.02, l=9.50]', '\" artist\"[p=0.02, l=9.06]', '\" not\"[p=0.01, l=8.75]', '\" singer\"[p=0.01, l=8.69]', '\" no\"[p=0.01, l=8.69]', '\" musician\"[p=0.01, l=8.69]', '\" programmer\"[p=0.01, l=8.62]', '\" \"[p=0.01, l=8.56]', '\" what\"[p=0.01, l=8.50]', '\" novelist\"[p=0.01, l=8.44]']\n",
      "token_idx=41 [\"ak\"] => ['\"?\\n\"[p=0.14, l=13.12]', '\" tennis\"[p=0.12, l=12.94]', '\"?\"[p=0.08, l=12.56]', '\"?\\n\\n\"[p=0.07, l=12.44]', '\"??\"[p=0.05, l=12.12]', '\"???\"[p=0.03, l=11.44]', '\" programmer\"[p=0.02, l=11.25]', '\" unknown\"[p=0.02, l=11.12]', '\" musician\"[p=0.02, l=10.94]', '\" politician\"[p=0.02, l=10.94]', '\" software\"[p=0.01, l=10.75]', '\" \\n\"[p=0.01, l=10.31]', '\" artist\"[p=0.01, l=10.31]', '\" actor\"[p=0.01, l=10.31]', '\" \"[p=0.01, l=10.19]']\n",
      "token_idx=42 [\" Dj\"] => ['\" DJ\"[p=0.06, l=10.94]', '\"?\\n\"[p=0.05, l=10.88]', '\"??\"[p=0.04, l=10.50]', '\" dj\"[p=0.04, l=10.50]', '\" musician\"[p=0.03, l=10.31]', '\" unknown\"[p=0.03, l=10.19]', '\" singer\"[p=0.02, l=10.06]', '\"?\"[p=0.02, l=10.06]', '\" disc\"[p=0.02, l=9.94]', '\"?\\n\\n\"[p=0.01, l=9.50]', '\"???\"[p=0.01, l=9.44]', '\" Dj\"[p=0.01, l=9.38]', '\" tennis\"[p=0.01, l=9.31]', '\" actor\"[p=0.01, l=9.31]', '\" software\"[p=0.01, l=9.25]']\n",
      "token_idx=43 [\"ok\"] => ['\" tennis\"[p=0.37, l=13.81]', '\"?\\n\"[p=0.07, l=12.12]', '\" musician\"[p=0.04, l=11.56]', '\"??\"[p=0.04, l=11.56]', '\"?\"[p=0.04, l=11.56]', '\"???\"[p=0.02, l=11.06]', '\"?\\n\\n\"[p=0.02, l=10.94]', '\" athlete\"[p=0.01, l=10.44]', '\" professional\"[p=0.01, l=10.19]', '\" what\"[p=0.01, l=10.06]', '\" singer\"[p=0.01, l=10.06]', '\" Nov\"[p=0.01, l=10.00]', '\" dj\"[p=0.01, l=10.00]', '\" politician\"[p=0.01, l=9.94]', '\" unknown\"[p=0.01, l=9.94]']\n",
      "token_idx=44 [\"ovic\"] => ['\"?\\n\"[p=0.20, l=13.06]', '\"?\\n\\n\"[p=0.10, l=12.38]', '\"?\"[p=0.06, l=11.88]', '\"??\"[p=0.04, l=11.38]', '\" \\n\"[p=0.03, l=11.19]', '\" lawyer\"[p=0.02, l=10.94]', '\" politician\"[p=0.02, l=10.69]', '\"???\"[p=0.02, l=10.50]', '\" (\"[p=0.02, l=10.50]', '\" software\"[p=0.01, l=10.38]', '\" unknown\"[p=0.01, l=10.31]', '\" actor\"[p=0.01, l=10.12]', '\" artist\"[p=0.01, l=10.00]', '\" entrepreneur\"[p=0.01, l=9.94]', '\" \"[p=0.01, l=9.94]']\n",
      "======================================================================================================================================================\n",
      "\n",
      "layer='model.layers.54'\n",
      "\n",
      "\"Ans:\" | cur_rng=(-2, 0)\n",
      "token_idx=-2 [\"Ans\"] => ['\" unknown\"[p=0.04, l=10.00]', '\" artist\"[p=0.03, l=9.56]', '\" answer\"[p=0.03, l=9.50]', '\" Ans\"[p=0.02, l=9.25]', '\" entrepreneur\"[p=0.02, l=9.12]', '\"?\\n\"[p=0.02, l=9.06]', '\" no\"[p=0.01, l=8.88]', '\" Answer\"[p=0.01, l=8.81]', '\" \\n\"[p=0.01, l=8.69]', '\" programmer\"[p=0.01, l=8.69]', '\" computer\"[p=0.01, l=8.56]', '\" (\"[p=0.01, l=8.56]', '\" actor\"[p=0.01, l=8.56]', '\" politician\"[p=0.01, l=8.44]', '\" person\"[p=0.01, l=8.38]']\n",
      "token_idx=-1 [\":\"] => ['\"?\\n\"[p=0.14, l=11.94]', '\"?\\n\\n\"[p=0.08, l=11.31]', '\"?\"[p=0.05, l=10.81]', '\" unknown\"[p=0.02, l=10.19]', '\" (\"[p=0.02, l=10.19]', '\" ->\"[p=0.02, l=10.12]', '\" \\n\"[p=0.02, l=9.88]', '\" empty\"[p=0.01, l=9.69]', '\" your\"[p=0.01, l=9.56]', '\" person\"[p=0.01, l=9.38]', '\" ->\\n\"[p=0.01, l=9.38]', '\" \"[p=0.01, l=9.38]', '\"??\"[p=0.01, l=9.31]', '\" input\"[p=0.01, l=9.25]', '\" None\"[p=0.01, l=9.19]']\n",
      "\n",
      "\" Johnny Depp\" | cur_rng=(13, 16)\n",
      "token_idx=13 [\" Johnny\"] => ['\" musician\"[p=0.16, l=13.19]', '\" singer\"[p=0.12, l=12.94]', '\" unknown\"[p=0.06, l=12.25]', '\" actor\"[p=0.03, l=11.56]', '\"?\\n\"[p=0.03, l=11.50]', '\"??\"[p=0.02, l=11.19]', '\" no\"[p=0.02, l=11.19]', '\" (\"[p=0.02, l=11.12]', '\" Johnny\"[p=0.02, l=11.06]', '\"???\"[p=0.02, l=10.94]', '\" rock\"[p=0.01, l=10.81]', '\"?\"[p=0.01, l=10.75]', '\" programmer\"[p=0.01, l=10.69]', '\" unemployed\"[p=0.01, l=10.38]', '\" artist\"[p=0.01, l=10.38]']\n",
      "token_idx=14 [\" De\"] => ['\"?\\n\"[p=0.10, l=11.00]', '\"?\"[p=0.05, l=10.25]', '\" unknown\"[p=0.04, l=10.19]', '\"?\\n\\n\"[p=0.04, l=10.06]', '\"??\"[p=0.03, l=9.75]', '\" empty\"[p=0.02, l=9.38]', '\" your\"[p=0.01, l=9.06]', '\" (\"[p=0.01, l=8.94]', '\" \\n\"[p=0.01, l=8.81]', '\" programmer\"[p=0.01, l=8.69]', '\" software\"[p=0.01, l=8.69]', '\" computer\"[p=0.01, l=8.69]', '\" lawyer\"[p=0.01, l=8.69]', '\"???\"[p=0.01, l=8.56]', '\" a\"[p=0.01, l=8.50]']\n",
      "token_idx=15 [\"pp\"] => ['\" actor\"[p=0.49, l=14.94]', '\"?\\n\"[p=0.12, l=13.50]', '\"?\\n\\n\"[p=0.05, l=12.56]', '\"??\"[p=0.03, l=12.25]', '\"?\"[p=0.03, l=12.12]', '\"???\"[p=0.02, l=11.56]', '\" actress\"[p=0.01, l=11.00]', '\" lawyer\"[p=0.01, l=10.88]', '\" \\n\"[p=0.01, l=10.69]', '\" unknown\"[p=0.01, l=10.56]', '\" (\"[p=0.01, l=10.56]', '\" artist\"[p=0.01, l=10.50]', '\" what\"[p=0.00, l=10.19]', '\" software\"[p=0.00, l=10.19]', '\" profession\"[p=0.00, l=10.12]']\n",
      "\n",
      "\" Marc Jacobs\" | cur_rng=(19, 21)\n",
      "token_idx=19 [\" Marc\"] => ['\"?\\n\"[p=0.10, l=11.88]', '\"??\"[p=0.05, l=11.19]', '\" singer\"[p=0.04, l=10.88]', '\" musician\"[p=0.03, l=10.69]', '\" entrepreneur\"[p=0.03, l=10.62]', '\"???\"[p=0.03, l=10.62]', '\"?\"[p=0.03, l=10.50]', '\" artist\"[p=0.02, l=10.44]', '\" actor\"[p=0.02, l=10.38]', '\"?\\n\\n\"[p=0.02, l=10.38]', '\" programmer\"[p=0.02, l=10.31]', '\" software\"[p=0.02, l=10.06]', '\" unknown\"[p=0.02, l=10.06]', '\" football\"[p=0.01, l=9.56]', '\" engineer\"[p=0.01, l=9.50]']\n",
      "token_idx=20 [\" Jacobs\"] => ['\" fashion\"[p=0.89, l=18.50]', '\" designer\"[p=0.04, l=15.38]', '\"?\\n\"[p=0.01, l=13.94]', '\" Fashion\"[p=0.00, l=13.25]', '\"??\"[p=0.00, l=12.88]', '\"?\"[p=0.00, l=12.62]', '\" (\"[p=0.00, l=12.56]', '\" unknown\"[p=0.00, l=12.56]', '\" \"[p=0.00, l=12.50]', '\" entrepreneur\"[p=0.00, l=12.19]', '\" model\"[p=0.00, l=12.12]', '\" not\"[p=0.00, l=11.88]', '\"???\"[p=0.00, l=11.62]', '\" artist\"[p=0.00, l=11.38]', '\" a\"[p=0.00, l=11.31]']\n",
      "\n",
      "\" Jennifer Lawrence\" | cur_rng=(22, 24)\n",
      "token_idx=22 [\" Jennifer\"] => ['\" actress\"[p=0.25, l=13.94]', '\" singer\"[p=0.12, l=13.19]', '\"?\\n\"[p=0.08, l=12.81]', '\"??\"[p=0.04, l=12.19]', '\"?\"[p=0.04, l=12.19]', '\" unknown\"[p=0.04, l=12.00]', '\" actor\"[p=0.03, l=11.69]', '\" lawyer\"[p=0.02, l=11.50]', '\"?\\n\\n\"[p=0.02, l=11.44]', '\"???\"[p=0.02, l=11.19]', '\" Jennifer\"[p=0.01, l=11.00]', '\" model\"[p=0.01, l=10.75]', '\" \\n\"[p=0.01, l=10.69]', '\" celebrity\"[p=0.01, l=10.62]', '\" (\"[p=0.01, l=10.62]']\n",
      "token_idx=23 [\" Lawrence\"] => ['\" actress\"[p=0.80, l=17.75]', '\" actor\"[p=0.08, l=15.44]', '\"?\\n\"[p=0.03, l=14.31]', '\"??\"[p=0.01, l=13.56]', '\"?\"[p=0.01, l=13.38]', '\"?\\n\\n\"[p=0.01, l=13.38]', '\"???\"[p=0.00, l=12.50]', '\" unknown\"[p=0.00, l=12.44]', '\" movie\"[p=0.00, l=12.25]', '\" (\"[p=0.00, l=12.12]', '\" \\n\"[p=0.00, l=12.06]', '\" \"[p=0.00, l=12.06]', '\" Actress\"[p=0.00, l=11.75]', '\" singer\"[p=0.00, l=11.69]', '\" what\"[p=0.00, l=11.62]']\n",
      "\n",
      "\" Giannis Antetokounmpo\" | cur_rng=(25, 33)\n",
      "token_idx=25 [\" Gi\"] => ['\" singer\"[p=0.09, l=11.19]', '\"?\\n\"[p=0.06, l=10.81]', '\" musician\"[p=0.05, l=10.56]', '\" rapper\"[p=0.02, l=9.81]', '\"??\"[p=0.02, l=9.75]', '\" artist\"[p=0.02, l=9.62]', '\" fashion\"[p=0.02, l=9.56]', '\" entrepreneur\"[p=0.02, l=9.50]', '\"?\"[p=0.01, l=9.25]', '\" designer\"[p=0.01, l=9.25]', '\" unknown\"[p=0.01, l=9.06]', '\" \"[p=0.01, l=9.06]', '\" software\"[p=0.01, l=8.94]', '\"???\"[p=0.01, l=8.88]', '\" politician\"[p=0.01, l=8.88]']\n",
      "token_idx=26 [\"annis\"] => ['\"?\\n\"[p=0.16, l=13.50]', '\"?\\n\\n\"[p=0.07, l=12.69]', '\"?\"[p=0.07, l=12.69]', '\"??\"[p=0.05, l=12.31]', '\" unknown\"[p=0.05, l=12.31]', '\"???\"[p=0.03, l=11.94]', '\" football\"[p=0.02, l=11.56]', '\" politician\"[p=0.02, l=11.56]', '\" software\"[p=0.02, l=11.38]', '\" basketball\"[p=0.01, l=11.06]', '\" Greek\"[p=0.01, l=11.00]', '\" engineer\"[p=0.01, l=10.81]', '\" soccer\"[p=0.01, l=10.69]', '\" lawyer\"[p=0.01, l=10.62]', '\" computer\"[p=0.01, l=10.56]']\n",
      "token_idx=27 [\" Ant\"] => ['\"?\\n\"[p=0.11, l=11.88]', '\"??\"[p=0.06, l=11.25]', '\"?\"[p=0.04, l=10.88]', '\" unknown\"[p=0.04, l=10.75]', '\"?\\n\\n\"[p=0.03, l=10.69]', '\"???\"[p=0.03, l=10.56]', '\" lawyer\"[p=0.02, l=10.38]', '\" artist\"[p=0.02, l=10.25]', '\" software\"[p=0.02, l=10.19]', '\" ant\"[p=0.02, l=10.00]', '\" actor\"[p=0.01, l=9.81]', '\" occupation\"[p=0.01, l=9.75]', '\" computer\"[p=0.01, l=9.56]', '\" musician\"[p=0.01, l=9.50]', '\" Ant\"[p=0.01, l=9.44]']\n",
      "token_idx=28 [\"et\"] => ['\"?\\n\"[p=0.19, l=12.88]', '\"?\"[p=0.07, l=11.81]', '\"?\\n\\n\"[p=0.06, l=11.69]', '\"??\"[p=0.06, l=11.69]', '\" lawyer\"[p=0.02, l=10.62]', '\" artist\"[p=0.02, l=10.62]', '\"???\"[p=0.02, l=10.44]', '\" actor\"[p=0.02, l=10.38]', '\" politician\"[p=0.01, l=10.25]', '\" \\n\"[p=0.01, l=10.25]', '\" software\"[p=0.01, l=10.19]', '\" unknown\"[p=0.01, l=10.12]', '\" programmer\"[p=0.01, l=9.94]', '\" profession\"[p=0.01, l=9.81]', '\" \"[p=0.01, l=9.81]']\n",
      "token_idx=29 [\"ok\"] => ['\"?\\n\"[p=0.11, l=12.00]', '\"??\"[p=0.06, l=11.44]', '\"?\"[p=0.05, l=11.25]', '\"?\\n\\n\"[p=0.05, l=11.12]', '\" unknown\"[p=0.05, l=11.12]', '\"???\"[p=0.03, l=10.62]', '\" politician\"[p=0.02, l=10.25]', '\" lawyer\"[p=0.02, l=10.06]', '\" entrepreneur\"[p=0.02, l=10.00]', '\" software\"[p=0.01, l=9.81]', '\" artist\"[p=0.01, l=9.81]', '\" actor\"[p=0.01, l=9.62]', '\" programmer\"[p=0.01, l=9.62]', '\" engineer\"[p=0.01, l=9.62]', '\" (\"[p=0.01, l=9.44]']\n",
      "token_idx=30 [\"oun\"] => ['\"?\\n\"[p=0.13, l=12.06]', '\"??\"[p=0.09, l=11.69]', '\"?\"[p=0.07, l=11.50]', '\"?\\n\\n\"[p=0.06, l=11.31]', '\" basketball\"[p=0.06, l=11.25]', '\" unknown\"[p=0.04, l=10.88]', '\"???\"[p=0.03, l=10.50]', '\" politician\"[p=0.02, l=10.25]', '\" athlete\"[p=0.02, l=9.94]', '\" football\"[p=0.01, l=9.75]', '\" Greek\"[p=0.01, l=9.69]', '\" \\n\"[p=0.01, l=9.62]', '\" entrepreneur\"[p=0.01, l=9.62]', '\" software\"[p=0.01, l=9.50]', '\" (\"[p=0.01, l=9.31]']\n",
      "token_idx=31 [\"mp\"] => ['\"?\\n\"[p=0.18, l=13.00]', '\"?\\n\\n\"[p=0.08, l=12.25]', '\"?\"[p=0.08, l=12.12]', '\"??\"[p=0.05, l=11.75]', '\" \\n\"[p=0.04, l=11.56]', '\" (\"[p=0.02, l=10.88]', '\" \"[p=0.02, l=10.56]', '\" lawyer\"[p=0.02, l=10.56]', '\" unknown\"[p=0.02, l=10.56]', '\"???\"[p=0.01, l=10.25]', '\" profession\"[p=0.01, l=10.19]', '\" artist\"[p=0.01, l=10.19]', '\" empty\"[p=0.01, l=10.06]', '\" politician\"[p=0.01, l=10.00]', '\" actor\"[p=0.01, l=10.00]']\n",
      "token_idx=32 [\"o\"] => ['\"?\\n\"[p=0.31, l=14.12]', '\"?\\n\\n\"[p=0.11, l=13.06]', '\"?\"[p=0.07, l=12.62]', '\"??\"[p=0.05, l=12.38]', '\" lawyer\"[p=0.03, l=11.62]', '\" software\"[p=0.02, l=11.31]', '\"???\"[p=0.02, l=11.19]', '\" programmer\"[p=0.02, l=11.12]', '\" \\n\"[p=0.01, l=11.00]', '\" \"[p=0.01, l=10.69]', '\" unknown\"[p=0.01, l=10.69]', '\" engineer\"[p=0.01, l=10.56]', '\" politician\"[p=0.01, l=10.50]', '\" computer\"[p=0.01, l=10.44]', '\" profession\"[p=0.01, l=10.38]']\n",
      "\n",
      "\" Beyoncé\" | cur_rng=(34, 36)\n",
      "token_idx=34 [\" Bey\"] => ['\" singer\"[p=0.73, l=16.00]', '\" musician\"[p=0.06, l=13.44]', '\" pop\"[p=0.04, l=13.06]', '\" music\"[p=0.01, l=11.62]', '\" Singer\"[p=0.01, l=11.56]', '\" artist\"[p=0.01, l=11.38]', '\" entrepreneur\"[p=0.00, l=10.88]', '\" performer\"[p=0.00, l=10.75]', '\" \"[p=0.00, l=10.75]', '\" songwriter\"[p=0.00, l=10.69]', '\"??\"[p=0.00, l=10.69]', '\" entert\"[p=0.00, l=10.62]', '\" Queen\"[p=0.00, l=10.50]', '\" celebrity\"[p=0.00, l=10.38]', '\" actress\"[p=0.00, l=10.38]']\n",
      "token_idx=35 [\"oncé\"] => ['\" singer\"[p=0.92, l=18.88]', '\" musician\"[p=0.02, l=15.12]', '\" pop\"[p=0.01, l=13.94]', '\" Singer\"[p=0.00, l=13.25]', '\"?\\n\"[p=0.00, l=13.00]', '\"??\"[p=0.00, l=12.94]', '\" music\"[p=0.00, l=12.94]', '\" artist\"[p=0.00, l=12.69]', '\" \"[p=0.00, l=12.62]', '\" (\"[p=0.00, l=12.50]', '\" songwriter\"[p=0.00, l=12.44]', '\" \\n\"[p=0.00, l=12.38]', '\" unknown\"[p=0.00, l=12.38]', '\"?\"[p=0.00, l=12.19]', '\" no\"[p=0.00, l=12.06]']\n",
      "\n",
      "\" Stephen King\" | cur_rng=(37, 39)\n",
      "token_idx=37 [\" Stephen\"] => ['\" philosopher\"[p=0.36, l=14.50]', '\"?\\n\"[p=0.09, l=13.12]', '\" unknown\"[p=0.04, l=12.25]', '\"?\"[p=0.03, l=12.00]', '\"??\"[p=0.02, l=11.81]', '\" actor\"[p=0.02, l=11.81]', '\"?\\n\\n\"[p=0.02, l=11.69]', '\" no\"[p=0.02, l=11.44]', '\"???\"[p=0.01, l=11.25]', '\" (\"[p=0.01, l=11.00]', '\" programmer\"[p=0.01, l=10.94]', '\" software\"[p=0.01, l=10.94]', '\" writer\"[p=0.01, l=10.81]', '\" king\"[p=0.01, l=10.75]', '\" mathematic\"[p=0.01, l=10.69]']\n",
      "token_idx=38 [\" King\"] => ['\" author\"[p=0.43, l=16.88]', '\" writer\"[p=0.33, l=16.62]', '\" novelist\"[p=0.08, l=15.19]', '\"?\\n\"[p=0.02, l=13.94]', '\" horror\"[p=0.01, l=13.19]', '\"??\"[p=0.01, l=13.06]', '\" software\"[p=0.01, l=12.88]', '\"?\\n\\n\"[p=0.01, l=12.62]', '\"?\"[p=0.01, l=12.62]', '\" (\"[p=0.01, l=12.56]', '\" unknown\"[p=0.01, l=12.50]', '\" programmer\"[p=0.00, l=12.38]', '\"???\"[p=0.00, l=12.06]', '\" Author\"[p=0.00, l=12.06]', '\" Writer\"[p=0.00, l=12.00]']\n",
      "\n",
      "\" Novak Djokovic\" | cur_rng=(40, 45)\n",
      "token_idx=40 [\" Nov\"] => ['\"?\\n\"[p=0.08, l=10.75]', '\"?\"[p=0.06, l=10.38]', '\"??\"[p=0.05, l=10.25]', '\" unknown\"[p=0.05, l=10.19]', '\"?\\n\\n\"[p=0.04, l=9.94]', '\"???\"[p=0.02, l=9.44]', '\" artist\"[p=0.01, l=9.00]', '\" not\"[p=0.01, l=8.88]', '\" no\"[p=0.01, l=8.81]', '\" programmer\"[p=0.01, l=8.62]', '\" \"[p=0.01, l=8.50]', '\" musician\"[p=0.01, l=8.44]', '\" singer\"[p=0.01, l=8.44]', '\" None\"[p=0.01, l=8.44]', '\" what\"[p=0.01, l=8.44]']\n",
      "token_idx=41 [\"ak\"] => ['\"?\\n\"[p=0.15, l=13.25]', '\" tennis\"[p=0.12, l=13.00]', '\"?\"[p=0.09, l=12.75]', '\"?\\n\\n\"[p=0.07, l=12.50]', '\"??\"[p=0.06, l=12.25]', '\"???\"[p=0.03, l=11.50]', '\" programmer\"[p=0.02, l=11.31]', '\" unknown\"[p=0.02, l=11.06]', '\" musician\"[p=0.01, l=10.88]', '\" politician\"[p=0.01, l=10.88]', '\" software\"[p=0.01, l=10.75]', '\" actor\"[p=0.01, l=10.44]', '\" \\n\"[p=0.01, l=10.38]', '\" artist\"[p=0.01, l=10.31]', '\" \"[p=0.01, l=10.25]']\n",
      "token_idx=42 [\" Dj\"] => ['\" DJ\"[p=0.05, l=10.56]', '\"?\\n\"[p=0.04, l=10.38]', '\" dj\"[p=0.03, l=10.12]', '\" musician\"[p=0.02, l=9.75]', '\"??\"[p=0.02, l=9.75]', '\" unknown\"[p=0.02, l=9.62]', '\" disc\"[p=0.02, l=9.50]', '\" singer\"[p=0.02, l=9.50]', '\"?\"[p=0.02, l=9.44]', '\" programmer\"[p=0.01, l=9.25]', '\" software\"[p=0.01, l=9.12]', '\" actor\"[p=0.01, l=9.06]', '\" Dj\"[p=0.01, l=9.00]', '\"?\\n\\n\"[p=0.01, l=8.94]', '\" disk\"[p=0.01, l=8.94]']\n",
      "token_idx=43 [\"ok\"] => ['\" tennis\"[p=0.29, l=13.56]', '\"?\\n\"[p=0.08, l=12.25]', '\"??\"[p=0.05, l=11.75]', '\" musician\"[p=0.04, l=11.69]', '\"?\"[p=0.04, l=11.69]', '\"???\"[p=0.03, l=11.12]', '\"?\\n\\n\"[p=0.02, l=11.06]', '\" dj\"[p=0.02, l=10.75]', '\" athlete\"[p=0.01, l=10.25]', '\" Dj\"[p=0.01, l=10.25]', '\" singer\"[p=0.01, l=10.25]', '\" unknown\"[p=0.01, l=10.19]', '\" politician\"[p=0.01, l=10.19]', '\" professional\"[p=0.01, l=10.00]', '\" what\"[p=0.01, l=10.00]']\n",
      "token_idx=44 [\"ovic\"] => ['\"?\\n\"[p=0.19, l=12.88]', '\"?\\n\\n\"[p=0.09, l=12.12]', '\"?\"[p=0.06, l=11.69]', '\"??\"[p=0.03, l=11.19]', '\" \\n\"[p=0.03, l=11.00]', '\" lawyer\"[p=0.03, l=10.88]', '\" politician\"[p=0.02, l=10.69]', '\" (\"[p=0.02, l=10.44]', '\" unknown\"[p=0.02, l=10.38]', '\"???\"[p=0.01, l=10.31]', '\" software\"[p=0.01, l=10.19]', '\" actor\"[p=0.01, l=10.12]', '\" artist\"[p=0.01, l=9.94]', '\" entrepreneur\"[p=0.01, l=9.81]', '\" \"[p=0.01, l=9.81]']\n",
      "======================================================================================================================================================\n",
      "\n",
      "layer='model.layers.57'\n",
      "\n",
      "\"Ans:\" | cur_rng=(-2, 0)\n",
      "token_idx=-2 [\"Ans\"] => ['\" unknown\"[p=0.06, l=10.38]', '\" artist\"[p=0.03, l=9.56]', '\"?\\n\"[p=0.02, l=9.19]', '\" Ans\"[p=0.02, l=9.19]', '\" answer\"[p=0.02, l=9.06]', '\" no\"[p=0.02, l=9.00]', '\" entrepreneur\"[p=0.01, l=8.94]', '\" (\"[p=0.01, l=8.88]', '\" person\"[p=0.01, l=8.75]', '\" actor\"[p=0.01, l=8.69]', '\" politician\"[p=0.01, l=8.69]', '\" \\n\"[p=0.01, l=8.62]', '\" programmer\"[p=0.01, l=8.62]', '\" computer\"[p=0.01, l=8.62]', '\" not\"[p=0.01, l=8.50]']\n",
      "token_idx=-1 [\":\"] => ['\"?\\n\"[p=0.11, l=11.62]', '\"?\\n\\n\"[p=0.05, l=10.94]', '\"?\"[p=0.04, l=10.62]', '\" unknown\"[p=0.03, l=10.31]', '\" (\"[p=0.03, l=10.19]', '\" ->\"[p=0.02, l=10.06]', '\" empty\"[p=0.02, l=9.88]', '\" None\"[p=0.01, l=9.44]', '\" your\"[p=0.01, l=9.44]', '\" \\n\"[p=0.01, l=9.44]', '\" no\"[p=0.01, l=9.38]', '\" not\"[p=0.01, l=9.31]', '\" person\"[p=0.01, l=9.31]', '\" symbol\"[p=0.01, l=9.25]', '\" input\"[p=0.01, l=9.19]']\n",
      "\n",
      "\" Johnny Depp\" | cur_rng=(13, 16)\n",
      "token_idx=13 [\" Johnny\"] => ['\" musician\"[p=0.11, l=12.69]', '\" singer\"[p=0.10, l=12.56]', '\" unknown\"[p=0.07, l=12.25]', '\"?\\n\"[p=0.04, l=11.56]', '\" actor\"[p=0.03, l=11.44]', '\"??\"[p=0.02, l=11.12]', '\" Johnny\"[p=0.02, l=11.12]', '\" no\"[p=0.02, l=11.06]', '\" (\"[p=0.02, l=11.00]', '\"???\"[p=0.02, l=10.94]', '\"?\"[p=0.02, l=10.81]', '\" programmer\"[p=0.02, l=10.69]', '\" software\"[p=0.01, l=10.31]', '\" artist\"[p=0.01, l=10.31]', '\" rock\"[p=0.01, l=10.25]']\n",
      "token_idx=14 [\" De\"] => ['\"?\\n\"[p=0.10, l=11.12]', '\" unknown\"[p=0.05, l=10.44]', '\"?\"[p=0.05, l=10.38]', '\"?\\n\\n\"[p=0.04, l=10.19]', '\"??\"[p=0.03, l=9.94]', '\" empty\"[p=0.03, l=9.81]', '\" (\"[p=0.02, l=9.25]', '\" programmer\"[p=0.01, l=9.12]', '\" your\"[p=0.01, l=9.12]', '\" software\"[p=0.01, l=9.00]', '\" \\n\"[p=0.01, l=8.94]', '\" computer\"[p=0.01, l=8.81]', '\"???\"[p=0.01, l=8.81]', '\" not\"[p=0.01, l=8.69]', '\" a\"[p=0.01, l=8.69]']\n",
      "token_idx=15 [\"pp\"] => ['\" actor\"[p=0.35, l=14.06]', '\"?\\n\"[p=0.14, l=13.12]', '\"?\\n\\n\"[p=0.05, l=12.12]', '\"?\"[p=0.03, l=11.75]', '\"??\"[p=0.03, l=11.69]', '\" lawyer\"[p=0.01, l=10.88]', '\"???\"[p=0.01, l=10.81]', '\" unknown\"[p=0.01, l=10.56]', '\" actress\"[p=0.01, l=10.50]', '\" \\n\"[p=0.01, l=10.44]', '\" software\"[p=0.01, l=10.38]', '\" profession\"[p=0.01, l=10.31]', '\" artist\"[p=0.01, l=10.31]', '\" (\"[p=0.01, l=10.25]', '\" occupation\"[p=0.01, l=10.19]']\n",
      "\n",
      "\" Marc Jacobs\" | cur_rng=(19, 21)\n",
      "token_idx=19 [\" Marc\"] => ['\"?\\n\"[p=0.11, l=11.81]', '\"??\"[p=0.06, l=11.12]', '\" singer\"[p=0.03, l=10.62]', '\"???\"[p=0.03, l=10.50]', '\"?\\n\\n\"[p=0.03, l=10.50]', '\"?\"[p=0.03, l=10.44]', '\" musician\"[p=0.03, l=10.44]', '\" entrepreneur\"[p=0.02, l=10.19]', '\" programmer\"[p=0.02, l=10.12]', '\" artist\"[p=0.02, l=10.00]', '\" actor\"[p=0.02, l=10.00]', '\" software\"[p=0.01, l=9.69]', '\" unknown\"[p=0.01, l=9.62]', '\" engineer\"[p=0.01, l=9.31]', '\" football\"[p=0.01, l=9.31]']\n",
      "token_idx=20 [\" Jacobs\"] => ['\" fashion\"[p=0.87, l=18.12]', '\" designer\"[p=0.05, l=15.19]', '\"?\\n\"[p=0.01, l=13.88]', '\" Fashion\"[p=0.01, l=13.06]', '\" unknown\"[p=0.00, l=12.75]', '\"??\"[p=0.00, l=12.75]', '\"?\"[p=0.00, l=12.50]', '\" (\"[p=0.00, l=12.50]', '\" \"[p=0.00, l=12.25]', '\" model\"[p=0.00, l=12.19]', '\" not\"[p=0.00, l=11.88]', '\" entrepreneur\"[p=0.00, l=11.69]', '\"???\"[p=0.00, l=11.56]', '\" no\"[p=0.00, l=11.44]', '\" artist\"[p=0.00, l=11.38]']\n",
      "\n",
      "\" Jennifer Lawrence\" | cur_rng=(22, 24)\n",
      "token_idx=22 [\" Jennifer\"] => ['\" actress\"[p=0.18, l=13.38]', '\" singer\"[p=0.10, l=12.81]', '\"?\\n\"[p=0.10, l=12.75]', '\"??\"[p=0.05, l=12.12]', '\"?\"[p=0.05, l=12.12]', '\" unknown\"[p=0.04, l=11.88]', '\"?\\n\\n\"[p=0.03, l=11.44]', '\" lawyer\"[p=0.02, l=11.25]', '\"???\"[p=0.02, l=11.19]', '\" actor\"[p=0.02, l=11.12]', '\" Jennifer\"[p=0.01, l=10.88]', '\" model\"[p=0.01, l=10.50]', '\" \\n\"[p=0.01, l=10.50]', '\" Lopez\"[p=0.01, l=10.44]', '\" no\"[p=0.01, l=10.44]']\n",
      "token_idx=23 [\" Lawrence\"] => ['\" actress\"[p=0.76, l=17.25]', '\" actor\"[p=0.08, l=15.06]', '\"?\\n\"[p=0.03, l=14.06]', '\"??\"[p=0.02, l=13.38]', '\"?\"[p=0.01, l=13.19]', '\"?\\n\\n\"[p=0.01, l=13.19]', '\" unknown\"[p=0.01, l=12.31]', '\"???\"[p=0.01, l=12.25]', '\" \\n\"[p=0.00, l=12.00]', '\" (\"[p=0.00, l=12.00]', '\" movie\"[p=0.00, l=11.88]', '\" \"[p=0.00, l=11.81]', '\" singer\"[p=0.00, l=11.50]', '\" ->\"[p=0.00, l=11.50]', '\" Actress\"[p=0.00, l=11.50]']\n",
      "\n",
      "\" Giannis Antetokounmpo\" | cur_rng=(25, 33)\n",
      "token_idx=25 [\" Gi\"] => ['\"?\\n\"[p=0.07, l=10.62]', '\" singer\"[p=0.06, l=10.44]', '\" musician\"[p=0.04, l=9.94]', '\"??\"[p=0.03, l=9.56]', '\" rapper\"[p=0.02, l=9.19]', '\"?\"[p=0.02, l=9.06]', '\" software\"[p=0.01, l=9.00]', '\" artist\"[p=0.01, l=8.88]', '\" computer\"[p=0.01, l=8.88]', '\" entrepreneur\"[p=0.01, l=8.81]', '\" \"[p=0.01, l=8.75]', '\" unknown\"[p=0.01, l=8.75]', '\" programmer\"[p=0.01, l=8.75]', '\"???\"[p=0.01, l=8.62]', '\"?\\n\\n\"[p=0.01, l=8.56]']\n",
      "token_idx=26 [\"annis\"] => ['\"?\\n\"[p=0.15, l=13.25]', '\"?\\n\\n\"[p=0.07, l=12.44]', '\"?\"[p=0.07, l=12.44]', '\" unknown\"[p=0.06, l=12.31]', '\"??\"[p=0.05, l=12.06]', '\"???\"[p=0.03, l=11.69]', '\" football\"[p=0.02, l=11.38]', '\" politician\"[p=0.02, l=11.31]', '\" software\"[p=0.02, l=11.19]', '\" Greek\"[p=0.01, l=10.75]', '\" basketball\"[p=0.01, l=10.75]', '\" engineer\"[p=0.01, l=10.69]', '\" actor\"[p=0.01, l=10.56]', '\" soccer\"[p=0.01, l=10.50]', '\" lawyer\"[p=0.01, l=10.50]']\n",
      "token_idx=27 [\" Ant\"] => ['\"?\\n\"[p=0.10, l=11.69]', '\"??\"[p=0.06, l=11.12]', '\" unknown\"[p=0.05, l=11.00]', '\"?\\n\\n\"[p=0.03, l=10.62]', '\" software\"[p=0.03, l=10.62]', '\"?\"[p=0.03, l=10.50]', '\" programmer\"[p=0.03, l=10.38]', '\"???\"[p=0.02, l=10.19]', '\" computer\"[p=0.02, l=10.19]', '\" lawyer\"[p=0.02, l=10.00]', '\" ant\"[p=0.01, l=9.69]', '\" artist\"[p=0.01, l=9.62]', '\" person\"[p=0.01, l=9.44]', '\" placeholder\"[p=0.01, l=9.38]', '\" empty\"[p=0.01, l=9.38]']\n",
      "token_idx=28 [\"et\"] => ['\"?\\n\"[p=0.20, l=13.06]', '\"?\"[p=0.06, l=11.94]', '\"?\\n\\n\"[p=0.06, l=11.94]', '\"??\"[p=0.06, l=11.94]', '\" lawyer\"[p=0.02, l=10.81]', '\" artist\"[p=0.02, l=10.81]', '\"???\"[p=0.02, l=10.75]', '\" \\n\"[p=0.02, l=10.50]', '\" politician\"[p=0.01, l=10.44]', '\" actor\"[p=0.01, l=10.44]', '\" software\"[p=0.01, l=10.38]', '\" unknown\"[p=0.01, l=10.19]', '\" programmer\"[p=0.01, l=10.12]', '\" entrepreneur\"[p=0.01, l=10.00]', '\" profession\"[p=0.01, l=10.00]']\n",
      "token_idx=29 [\"ok\"] => ['\"?\\n\"[p=0.10, l=11.81]', '\"??\"[p=0.07, l=11.38]', '\"?\"[p=0.05, l=11.06]', '\" unknown\"[p=0.05, l=11.00]', '\"?\\n\\n\"[p=0.04, l=10.81]', '\"???\"[p=0.03, l=10.56]', '\" politician\"[p=0.02, l=10.12]', '\" software\"[p=0.02, l=10.06]', '\" programmer\"[p=0.02, l=9.94]', '\" entrepreneur\"[p=0.02, l=9.94]', '\" artist\"[p=0.01, l=9.75]', '\" lawyer\"[p=0.01, l=9.62]', '\" computer\"[p=0.01, l=9.56]', '\" engineer\"[p=0.01, l=9.50]', '\" (\"[p=0.01, l=9.31]']\n",
      "token_idx=30 [\"oun\"] => ['\"?\\n\"[p=0.13, l=12.06]', '\"??\"[p=0.09, l=11.75]', '\"?\"[p=0.07, l=11.44]', '\" basketball\"[p=0.07, l=11.44]', '\"?\\n\\n\"[p=0.06, l=11.38]', '\" unknown\"[p=0.04, l=10.81]', '\"???\"[p=0.03, l=10.44]', '\" politician\"[p=0.02, l=10.00]', '\" football\"[p=0.02, l=10.00]', '\" athlete\"[p=0.02, l=10.00]', '\" software\"[p=0.01, l=9.88]', '\" Greek\"[p=0.01, l=9.81]', '\" computer\"[p=0.01, l=9.56]', '\" entrepreneur\"[p=0.01, l=9.50]', '\" \\n\"[p=0.01, l=9.50]']\n",
      "token_idx=31 [\"mp\"] => ['\"?\\n\"[p=0.19, l=13.12]', '\"?\\n\\n\"[p=0.08, l=12.31]', '\"?\"[p=0.07, l=12.19]', '\"??\"[p=0.05, l=11.75]', '\" \\n\"[p=0.04, l=11.62]', '\" (\"[p=0.02, l=10.94]', '\" lawyer\"[p=0.02, l=10.69]', '\" \"[p=0.02, l=10.62]', '\" unknown\"[p=0.01, l=10.50]', '\" profession\"[p=0.01, l=10.38]', '\" artist\"[p=0.01, l=10.38]', '\"???\"[p=0.01, l=10.31]', '\" politician\"[p=0.01, l=10.12]', '\" actor\"[p=0.01, l=10.12]', '\" empty\"[p=0.01, l=10.00]']\n",
      "token_idx=32 [\"o\"] => ['\"?\\n\"[p=0.26, l=13.62]', '\"?\\n\\n\"[p=0.10, l=12.62]', '\"?\"[p=0.06, l=12.19]', '\"??\"[p=0.04, l=11.81]', '\" lawyer\"[p=0.03, l=11.31]', '\" software\"[p=0.02, l=11.06]', '\" \\n\"[p=0.01, l=10.75]', '\" programmer\"[p=0.01, l=10.75]', '\" unknown\"[p=0.01, l=10.69]', '\"???\"[p=0.01, l=10.62]', '\" politician\"[p=0.01, l=10.38]', '\" \"[p=0.01, l=10.31]', '\" engineer\"[p=0.01, l=10.31]', '\" computer\"[p=0.01, l=10.31]', '\" profession\"[p=0.01, l=10.25]']\n",
      "\n",
      "\" Beyoncé\" | cur_rng=(34, 36)\n",
      "token_idx=34 [\" Bey\"] => ['\" singer\"[p=0.74, l=16.25]', '\" musician\"[p=0.06, l=13.75]', '\" pop\"[p=0.04, l=13.31]', '\" music\"[p=0.01, l=11.88]', '\" Singer\"[p=0.01, l=11.69]', '\" artist\"[p=0.01, l=11.56]', '\" entrepreneur\"[p=0.00, l=11.06]', '\" performer\"[p=0.00, l=11.06]', '\"??\"[p=0.00, l=11.00]', '\" songwriter\"[p=0.00, l=10.88]', '\" \"[p=0.00, l=10.88]', '\" Queen\"[p=0.00, l=10.81]', '\" queen\"[p=0.00, l=10.81]', '\" entert\"[p=0.00, l=10.81]', '\"?\\n\"[p=0.00, l=10.56]']\n",
      "token_idx=35 [\"oncé\"] => ['\" singer\"[p=0.86, l=17.75]', '\" musician\"[p=0.04, l=14.69]', '\" pop\"[p=0.01, l=13.50]', '\" music\"[p=0.01, l=12.88]', '\"?\\n\"[p=0.00, l=12.56]', '\"??\"[p=0.00, l=12.50]', '\" artist\"[p=0.00, l=12.44]', '\" unknown\"[p=0.00, l=12.25]', '\" Singer\"[p=0.00, l=12.19]', '\" songwriter\"[p=0.00, l=12.06]', '\" (\"[p=0.00, l=11.94]', '\" no\"[p=0.00, l=11.81]', '\" \"[p=0.00, l=11.75]', '\"???\"[p=0.00, l=11.69]', '\"?\"[p=0.00, l=11.62]']\n",
      "\n",
      "\" Stephen King\" | cur_rng=(37, 39)\n",
      "token_idx=37 [\" Stephen\"] => ['\" philosopher\"[p=0.36, l=14.44]', '\"?\\n\"[p=0.09, l=13.00]', '\" unknown\"[p=0.05, l=12.38]', '\" actor\"[p=0.03, l=11.94]', '\"?\"[p=0.03, l=11.81]', '\"??\"[p=0.02, l=11.69]', '\" no\"[p=0.02, l=11.56]', '\"?\\n\\n\"[p=0.02, l=11.50]', '\"???\"[p=0.01, l=11.19]', '\" king\"[p=0.01, l=10.94]', '\" (\"[p=0.01, l=10.88]', '\" programmer\"[p=0.01, l=10.81]', '\" software\"[p=0.01, l=10.75]', '\" writer\"[p=0.01, l=10.50]', '\" \"[p=0.01, l=10.50]']\n",
      "token_idx=38 [\" King\"] => ['\" author\"[p=0.39, l=16.38]', '\" writer\"[p=0.35, l=16.25]', '\" novelist\"[p=0.06, l=14.50]', '\"?\\n\"[p=0.03, l=13.94]', '\"??\"[p=0.01, l=12.94]', '\"?\\n\\n\"[p=0.01, l=12.75]', '\"?\"[p=0.01, l=12.56]', '\" unknown\"[p=0.01, l=12.56]', '\" (\"[p=0.01, l=12.44]', '\" software\"[p=0.01, l=12.25]', '\"???\"[p=0.00, l=12.00]', '\" Writer\"[p=0.00, l=11.69]', '\" politician\"[p=0.00, l=11.62]', '\" Author\"[p=0.00, l=11.62]', '\" programmer\"[p=0.00, l=11.62]']\n",
      "\n",
      "\" Novak Djokovic\" | cur_rng=(40, 45)\n",
      "token_idx=40 [\" Nov\"] => ['\"?\\n\"[p=0.09, l=10.81]', '\"?\"[p=0.05, l=10.31]', '\"??\"[p=0.05, l=10.25]', '\" unknown\"[p=0.05, l=10.19]', '\"?\\n\\n\"[p=0.04, l=10.00]', '\"???\"[p=0.02, l=9.50]', '\" artist\"[p=0.02, l=9.19]', '\" programmer\"[p=0.01, l=8.94]', '\" no\"[p=0.01, l=8.94]', '\" not\"[p=0.01, l=8.88]', '\" singer\"[p=0.01, l=8.75]', '\" musician\"[p=0.01, l=8.62]', '\" None\"[p=0.01, l=8.56]', '\" \"[p=0.01, l=8.44]', '\" what\"[p=0.01, l=8.31]']\n",
      "token_idx=41 [\"ak\"] => ['\"?\\n\"[p=0.13, l=13.06]', '\" tennis\"[p=0.12, l=12.94]', '\"?\"[p=0.09, l=12.69]', '\"?\\n\\n\"[p=0.06, l=12.31]', '\"??\"[p=0.05, l=12.12]', '\"???\"[p=0.03, l=11.44]', '\" programmer\"[p=0.02, l=11.25]', '\" musician\"[p=0.02, l=11.06]', '\" unknown\"[p=0.02, l=11.06]', '\" politician\"[p=0.02, l=10.88]', '\" software\"[p=0.01, l=10.69]', '\" actor\"[p=0.01, l=10.44]', '\" \\n\"[p=0.01, l=10.31]', '\" \"[p=0.01, l=10.25]', '\" Dj\"[p=0.01, l=10.19]']\n",
      "token_idx=42 [\" Dj\"] => ['\"?\\n\"[p=0.07, l=11.00]', '\" DJ\"[p=0.05, l=10.75]', '\" dj\"[p=0.04, l=10.44]', '\" musician\"[p=0.04, l=10.38]', '\"??\"[p=0.03, l=10.25]', '\"?\"[p=0.03, l=10.19]', '\" singer\"[p=0.02, l=9.75]', '\" programmer\"[p=0.02, l=9.69]', '\"?\\n\\n\"[p=0.02, l=9.69]', '\" unknown\"[p=0.02, l=9.56]', '\" software\"[p=0.01, l=9.38]', '\" Dj\"[p=0.01, l=9.31]', '\"???\"[p=0.01, l=9.25]', '\" actor\"[p=0.01, l=9.12]', '\" disc\"[p=0.01, l=9.06]']\n",
      "token_idx=43 [\"ok\"] => ['\" tennis\"[p=0.30, l=13.62]', '\"?\\n\"[p=0.08, l=12.31]', '\"?\"[p=0.05, l=11.75]', '\" musician\"[p=0.04, l=11.69]', '\"??\"[p=0.04, l=11.69]', '\"?\\n\\n\"[p=0.03, l=11.19]', '\"???\"[p=0.02, l=11.12]', '\" dj\"[p=0.01, l=10.56]', '\" athlete\"[p=0.01, l=10.44]', '\" politician\"[p=0.01, l=10.44]', '\" singer\"[p=0.01, l=10.19]', '\" unknown\"[p=0.01, l=10.19]', '\" Dj\"[p=0.01, l=10.12]', '\" professional\"[p=0.01, l=10.00]', '\" (\"[p=0.01, l=9.94]']\n",
      "token_idx=44 [\"ovic\"] => ['\"?\\n\"[p=0.18, l=12.81]', '\"?\\n\\n\"[p=0.09, l=12.12]', '\"?\"[p=0.05, l=11.62]', '\"??\"[p=0.03, l=11.12]', '\" \\n\"[p=0.03, l=11.06]', '\" lawyer\"[p=0.03, l=10.88]', '\" politician\"[p=0.02, l=10.81]', '\" (\"[p=0.02, l=10.50]', '\" unknown\"[p=0.01, l=10.31]', '\"???\"[p=0.01, l=10.25]', '\" software\"[p=0.01, l=10.25]', '\" actor\"[p=0.01, l=10.19]', '\" artist\"[p=0.01, l=10.00]', '\" engineer\"[p=0.01, l=9.81]', '\" \"[p=0.01, l=9.81]']\n",
      "======================================================================================================================================================\n",
      "\n",
      "layer='model.layers.60'\n",
      "\n",
      "\"Ans:\" | cur_rng=(-2, 0)\n",
      "token_idx=-2 [\"Ans\"] => ['\" unknown\"[p=0.05, l=10.25]', '\" artist\"[p=0.03, l=9.69]', '\"?\\n\"[p=0.02, l=9.38]', '\" answer\"[p=0.01, l=9.00]', '\" (\"[p=0.01, l=9.00]', '\" no\"[p=0.01, l=8.94]', '\" entrepreneur\"[p=0.01, l=8.94]', '\" actor\"[p=0.01, l=8.94]', '\" computer\"[p=0.01, l=8.81]', '\" politician\"[p=0.01, l=8.81]', '\" person\"[p=0.01, l=8.81]', '\" \\n\"[p=0.01, l=8.75]', '\" programmer\"[p=0.01, l=8.75]', '\" not\"[p=0.01, l=8.50]', '\" a\"[p=0.01, l=8.50]']\n",
      "token_idx=-1 [\":\"] => ['\"?\\n\"[p=0.06, l=11.00]', '\" symbol\"[p=0.04, l=10.75]', '\" unknown\"[p=0.04, l=10.62]', '\" placeholder\"[p=0.03, l=10.50]', '\" empty\"[p=0.03, l=10.44]', '\" (\"[p=0.03, l=10.38]', '\"?\\n\\n\"[p=0.03, l=10.25]', '\"?\"[p=0.02, l=10.12]', '\" None\"[p=0.02, l=9.88]', '\" ->\"[p=0.02, l=9.75]', '\" no\"[p=0.02, l=9.69]', '\" not\"[p=0.01, l=9.62]', '\" missing\"[p=0.01, l=9.44]', '\" a\"[p=0.01, l=9.44]', '\" null\"[p=0.01, l=9.38]']\n",
      "\n",
      "\" Johnny Depp\" | cur_rng=(13, 16)\n",
      "token_idx=13 [\" Johnny\"] => ['\" musician\"[p=0.11, l=12.56]', '\" singer\"[p=0.09, l=12.38]', '\" unknown\"[p=0.07, l=12.19]', '\"?\\n\"[p=0.04, l=11.69]', '\"??\"[p=0.03, l=11.25]', '\" actor\"[p=0.03, l=11.25]', '\" Johnny\"[p=0.02, l=11.06]', '\"???\"[p=0.02, l=11.00]', '\" no\"[p=0.02, l=11.00]', '\"?\"[p=0.02, l=10.94]', '\" (\"[p=0.02, l=10.94]', '\" programmer\"[p=0.01, l=10.50]', '\"?\\n\\n\"[p=0.01, l=10.44]', '\" artist\"[p=0.01, l=10.19]', '\" rock\"[p=0.01, l=10.19]']\n",
      "token_idx=14 [\" De\"] => ['\" unknown\"[p=0.08, l=10.94]', '\"?\\n\"[p=0.05, l=10.50]', '\" empty\"[p=0.04, l=10.25]', '\" programmer\"[p=0.03, l=9.88]', '\"?\"[p=0.02, l=9.75]', '\" undefined\"[p=0.02, l=9.69]', '\"??\"[p=0.02, l=9.62]', '\"?\\n\\n\"[p=0.02, l=9.56]', '\" (\"[p=0.02, l=9.50]', '\" not\"[p=0.02, l=9.50]', '\" software\"[p=0.02, l=9.38]', '\" None\"[p=0.01, l=9.25]', '\" invalid\"[p=0.01, l=9.25]', '\" missing\"[p=0.01, l=9.06]', '\" no\"[p=0.01, l=9.00]']\n",
      "token_idx=15 [\"pp\"] => ['\" actor\"[p=0.34, l=13.81]', '\"?\\n\"[p=0.12, l=12.81]', '\"?\\n\\n\"[p=0.04, l=11.62]', '\"?\"[p=0.03, l=11.38]', '\"??\"[p=0.03, l=11.31]', '\" unknown\"[p=0.02, l=10.81]', '\" lawyer\"[p=0.01, l=10.62]', '\"???\"[p=0.01, l=10.44]', '\" software\"[p=0.01, l=10.44]', '\" \\n\"[p=0.01, l=10.19]', '\" profession\"[p=0.01, l=10.12]', '\" actress\"[p=0.01, l=10.12]', '\" (\"[p=0.01, l=10.06]', '\" occupation\"[p=0.01, l=9.94]', '\" artist\"[p=0.01, l=9.94]']\n",
      "\n",
      "\" Marc Jacobs\" | cur_rng=(19, 21)\n",
      "token_idx=19 [\" Marc\"] => ['\"?\\n\"[p=0.13, l=12.00]', '\"??\"[p=0.06, l=11.31]', '\"?\\n\\n\"[p=0.04, l=10.94]', '\"?\"[p=0.04, l=10.75]', '\"???\"[p=0.03, l=10.69]', '\" musician\"[p=0.02, l=10.31]', '\" programmer\"[p=0.02, l=10.31]', '\" singer\"[p=0.02, l=10.25]', '\" entrepreneur\"[p=0.02, l=10.12]', '\" artist\"[p=0.02, l=9.94]', '\" actor\"[p=0.02, l=9.94]', '\" software\"[p=0.01, l=9.75]', '\" unknown\"[p=0.01, l=9.69]', '\" engineer\"[p=0.01, l=9.50]', '\" politician\"[p=0.01, l=9.31]']\n",
      "token_idx=20 [\" Jacobs\"] => ['\" fashion\"[p=0.87, l=18.12]', '\" designer\"[p=0.05, l=15.25]', '\"?\\n\"[p=0.01, l=13.94]', '\" Fashion\"[p=0.01, l=13.06]', '\" unknown\"[p=0.01, l=13.00]', '\"??\"[p=0.00, l=12.75]', '\"?\"[p=0.00, l=12.56]', '\" (\"[p=0.00, l=12.44]', '\" \"[p=0.00, l=12.25]', '\" model\"[p=0.00, l=12.19]', '\" not\"[p=0.00, l=11.94]', '\" no\"[p=0.00, l=11.75]', '\"???\"[p=0.00, l=11.56]', '\" entrepreneur\"[p=0.00, l=11.56]', '\" \\n\"[p=0.00, l=11.38]']\n",
      "\n",
      "\" Jennifer Lawrence\" | cur_rng=(22, 24)\n",
      "token_idx=22 [\" Jennifer\"] => ['\" actress\"[p=0.15, l=13.25]', '\" singer\"[p=0.12, l=13.00]', '\"?\\n\"[p=0.09, l=12.75]', '\"?\"[p=0.05, l=12.12]', '\"??\"[p=0.05, l=12.06]', '\" unknown\"[p=0.04, l=12.00]', '\"?\\n\\n\"[p=0.02, l=11.38]', '\"???\"[p=0.02, l=11.19]', '\" actor\"[p=0.02, l=11.12]', '\" lawyer\"[p=0.02, l=11.12]', '\" Jennifer\"[p=0.01, l=10.88]', '\" no\"[p=0.01, l=10.81]', '\" model\"[p=0.01, l=10.62]', '\" \\n\"[p=0.01, l=10.50]', '\" (\"[p=0.01, l=10.50]']\n",
      "token_idx=23 [\" Lawrence\"] => ['\" actress\"[p=0.73, l=16.75]', '\" actor\"[p=0.09, l=14.62]', '\"?\\n\"[p=0.03, l=13.62]', '\"??\"[p=0.02, l=13.00]', '\"?\"[p=0.01, l=12.81]', '\"?\\n\\n\"[p=0.01, l=12.75]', '\" unknown\"[p=0.01, l=12.19]', '\"???\"[p=0.01, l=11.81]', '\" (\"[p=0.00, l=11.75]', '\" \\n\"[p=0.00, l=11.69]', '\" \"[p=0.00, l=11.50]', '\" movie\"[p=0.00, l=11.38]', '\" singer\"[p=0.00, l=11.31]', '\" ->\"[p=0.00, l=11.31]', '\" no\"[p=0.00, l=11.06]']\n",
      "\n",
      "\" Giannis Antetokounmpo\" | cur_rng=(25, 33)\n",
      "token_idx=25 [\" Gi\"] => ['\"?\\n\"[p=0.08, l=10.62]', '\" singer\"[p=0.06, l=10.38]', '\" musician\"[p=0.04, l=10.06]', '\"??\"[p=0.03, l=9.62]', '\" rapper\"[p=0.02, l=9.19]', '\"?\"[p=0.02, l=9.12]', '\" software\"[p=0.02, l=9.06]', '\" programmer\"[p=0.02, l=9.00]', '\" computer\"[p=0.01, l=8.94]', '\" artist\"[p=0.01, l=8.88]', '\" unknown\"[p=0.01, l=8.81]', '\"?\\n\\n\"[p=0.01, l=8.75]', '\"???\"[p=0.01, l=8.56]', '\" \"[p=0.01, l=8.56]', '\" entrepreneur\"[p=0.01, l=8.38]']\n",
      "token_idx=26 [\"annis\"] => ['\"?\\n\"[p=0.12, l=12.94]', '\" unknown\"[p=0.07, l=12.38]', '\"?\"[p=0.06, l=12.19]', '\"?\\n\\n\"[p=0.05, l=12.00]', '\"??\"[p=0.04, l=11.88]', '\" football\"[p=0.03, l=11.56]', '\"???\"[p=0.03, l=11.44]', '\" politician\"[p=0.03, l=11.38]', '\" basketball\"[p=0.02, l=11.19]', '\" software\"[p=0.02, l=11.06]', '\" Greek\"[p=0.01, l=10.69]', '\" soccer\"[p=0.01, l=10.69]', '\" engineer\"[p=0.01, l=10.56]', '\" actor\"[p=0.01, l=10.56]', '\" entrepreneur\"[p=0.01, l=10.50]']\n",
      "token_idx=27 [\" Ant\"] => ['\"?\\n\"[p=0.08, l=11.94]', '\" software\"[p=0.08, l=11.88]', '\" programmer\"[p=0.07, l=11.75]', '\"??\"[p=0.06, l=11.62]', '\" unknown\"[p=0.05, l=11.50]', '\" computer\"[p=0.03, l=10.88]', '\"?\"[p=0.03, l=10.81]', '\"?\\n\\n\"[p=0.03, l=10.81]', '\"???\"[p=0.02, l=10.75]', '\" ant\"[p=0.02, l=10.75]', '\" lawyer\"[p=0.02, l=10.75]', '\" placeholder\"[p=0.01, l=10.06]', '\" developer\"[p=0.01, l=10.06]', '\" artist\"[p=0.01, l=10.06]', '\" Ant\"[p=0.01, l=9.94]']\n",
      "token_idx=28 [\"et\"] => ['\"?\\n\"[p=0.17, l=12.56]', '\"?\"[p=0.06, l=11.50]', '\"?\\n\\n\"[p=0.05, l=11.44]', '\"??\"[p=0.05, l=11.44]', '\" \\n\"[p=0.02, l=10.44]', '\" lawyer\"[p=0.02, l=10.44]', '\" artist\"[p=0.02, l=10.44]', '\"???\"[p=0.02, l=10.25]', '\" actor\"[p=0.01, l=10.12]', '\" entrepreneur\"[p=0.01, l=10.00]', '\" software\"[p=0.01, l=10.00]', '\" profession\"[p=0.01, l=9.94]', '\" politician\"[p=0.01, l=9.94]', '\" unknown\"[p=0.01, l=9.94]', '\" occupation\"[p=0.01, l=9.81]']\n",
      "token_idx=29 [\"ok\"] => ['\"?\\n\"[p=0.12, l=12.19]', '\"??\"[p=0.06, l=11.56]', '\" unknown\"[p=0.05, l=11.31]', '\"?\"[p=0.04, l=11.19]', '\"?\\n\\n\"[p=0.04, l=11.00]', '\" software\"[p=0.03, l=10.75]', '\" programmer\"[p=0.02, l=10.56]', '\" politician\"[p=0.02, l=10.56]', '\"???\"[p=0.02, l=10.56]', '\" entrepreneur\"[p=0.02, l=10.44]', '\" lawyer\"[p=0.02, l=10.19]', '\" computer\"[p=0.01, l=10.06]', '\" artist\"[p=0.01, l=10.06]', '\" engineer\"[p=0.01, l=9.81]', '\" actor\"[p=0.01, l=9.69]']\n",
      "token_idx=30 [\"oun\"] => ['\"?\\n\"[p=0.09, l=11.56]', '\" basketball\"[p=0.08, l=11.38]', '\"??\"[p=0.06, l=11.19]', '\" unknown\"[p=0.05, l=11.00]', '\"?\"[p=0.04, l=10.81]', '\"?\\n\\n\"[p=0.04, l=10.62]', '\" programmer\"[p=0.03, l=10.44]', '\" software\"[p=0.03, l=10.38]', '\" computer\"[p=0.02, l=10.12]', '\"???\"[p=0.02, l=10.00]', '\" politician\"[p=0.02, l=9.81]', '\" athlete\"[p=0.02, l=9.81]', '\" football\"[p=0.02, l=9.75]', '\" Greek\"[p=0.02, l=9.75]', '\" not\"[p=0.01, l=9.38]']\n",
      "token_idx=31 [\"mp\"] => ['\"?\\n\"[p=0.18, l=13.00]', '\"?\\n\\n\"[p=0.08, l=12.19]', '\"?\"[p=0.07, l=12.12]', '\" \\n\"[p=0.05, l=11.62]', '\"??\"[p=0.04, l=11.56]', '\" (\"[p=0.02, l=11.00]', '\" \"[p=0.02, l=10.69]', '\" lawyer\"[p=0.02, l=10.62]', '\" unknown\"[p=0.02, l=10.56]', '\" profession\"[p=0.01, l=10.50]', '\" artist\"[p=0.01, l=10.25]', '\" empty\"[p=0.01, l=10.12]', '\"???\"[p=0.01, l=10.12]', '\" politician\"[p=0.01, l=10.00]', '\" person\"[p=0.01, l=10.00]']\n",
      "token_idx=32 [\"o\"] => ['\"?\\n\"[p=0.22, l=13.12]', '\"?\\n\\n\"[p=0.08, l=12.12]', '\"?\"[p=0.05, l=11.69]', '\"??\"[p=0.03, l=11.25]', '\" lawyer\"[p=0.02, l=10.94]', '\" unknown\"[p=0.02, l=10.69]', '\" software\"[p=0.02, l=10.69]', '\" \\n\"[p=0.02, l=10.62]', '\" ->\"[p=0.02, l=10.50]', '\" programmer\"[p=0.01, l=10.25]', '\" profession\"[p=0.01, l=10.19]', '\" politician\"[p=0.01, l=10.12]', '\" computer\"[p=0.01, l=10.06]', '\" (\"[p=0.01, l=10.06]', '\" entrepreneur\"[p=0.01, l=10.06]']\n",
      "\n",
      "\" Beyoncé\" | cur_rng=(34, 36)\n",
      "token_idx=34 [\" Bey\"] => ['\" singer\"[p=0.74, l=16.25]', '\" musician\"[p=0.05, l=13.62]', '\" pop\"[p=0.04, l=13.44]', '\" music\"[p=0.01, l=11.81]', '\" artist\"[p=0.01, l=11.56]', '\" Singer\"[p=0.01, l=11.50]', '\"??\"[p=0.00, l=11.19]', '\" performer\"[p=0.00, l=11.12]', '\" entrepreneur\"[p=0.00, l=11.06]', '\" queen\"[p=0.00, l=10.94]', '\" Queen\"[p=0.00, l=10.88]', '\" \"[p=0.00, l=10.88]', '\" songwriter\"[p=0.00, l=10.88]', '\"?\\n\"[p=0.00, l=10.81]', '\" entert\"[p=0.00, l=10.75]']\n",
      "token_idx=35 [\"oncé\"] => ['\" singer\"[p=0.79, l=16.75]', '\" musician\"[p=0.05, l=13.94]', '\" pop\"[p=0.02, l=13.06]', '\" music\"[p=0.01, l=12.69]', '\"?\\n\"[p=0.01, l=12.12]', '\" unknown\"[p=0.01, l=11.94]', '\"??\"[p=0.01, l=11.94]', '\" artist\"[p=0.01, l=11.94]', '\"???\"[p=0.00, l=11.38]', '\" (\"[p=0.00, l=11.38]', '\" no\"[p=0.00, l=11.31]', '\"?\"[p=0.00, l=11.12]', '\" Singer\"[p=0.00, l=11.12]', '\" songwriter\"[p=0.00, l=11.00]', '\" \"[p=0.00, l=11.00]']\n",
      "\n",
      "\" Stephen King\" | cur_rng=(37, 39)\n",
      "token_idx=37 [\" Stephen\"] => ['\" philosopher\"[p=0.29, l=14.12]', '\"?\\n\"[p=0.10, l=13.06]', '\" unknown\"[p=0.06, l=12.50]', '\"?\"[p=0.03, l=11.88]', '\"??\"[p=0.03, l=11.81]', '\" actor\"[p=0.03, l=11.81]', '\"?\\n\\n\"[p=0.02, l=11.56]', '\" no\"[p=0.02, l=11.44]', '\"???\"[p=0.02, l=11.31]', '\" programmer\"[p=0.01, l=10.88]', '\" king\"[p=0.01, l=10.88]', '\" (\"[p=0.01, l=10.75]', '\" software\"[p=0.01, l=10.69]', '\" writer\"[p=0.01, l=10.50]', '\" \"[p=0.01, l=10.44]']\n",
      "token_idx=38 [\" King\"] => ['\" writer\"[p=0.33, l=15.75]', '\" author\"[p=0.33, l=15.75]', '\" novelist\"[p=0.06, l=14.12]', '\"?\\n\"[p=0.05, l=13.94]', '\"?\\n\\n\"[p=0.02, l=12.94]', '\"??\"[p=0.02, l=12.81]', '\"?\"[p=0.01, l=12.56]', '\" unknown\"[p=0.01, l=12.56]', '\" (\"[p=0.01, l=12.25]', '\"???\"[p=0.01, l=11.88]', '\" software\"[p=0.00, l=11.50]', '\" politician\"[p=0.00, l=11.50]', '\" lawyer\"[p=0.00, l=11.38]', '\" Writer\"[p=0.00, l=11.31]', '\" \"[p=0.00, l=11.19]']\n",
      "\n",
      "\" Novak Djokovic\" | cur_rng=(40, 45)\n",
      "token_idx=40 [\" Nov\"] => ['\"?\\n\"[p=0.09, l=10.88]', '\"??\"[p=0.05, l=10.38]', '\"?\"[p=0.05, l=10.38]', '\"?\\n\\n\"[p=0.04, l=10.12]', '\" unknown\"[p=0.04, l=10.06]', '\"???\"[p=0.02, l=9.56]', '\" artist\"[p=0.02, l=9.31]', '\" programmer\"[p=0.01, l=9.06]', '\" no\"[p=0.01, l=8.88]', '\" not\"[p=0.01, l=8.88]', '\" singer\"[p=0.01, l=8.62]', '\" \"[p=0.01, l=8.56]', '\" musician\"[p=0.01, l=8.50]', '\" what\"[p=0.01, l=8.50]', '\" None\"[p=0.01, l=8.38]']\n",
      "token_idx=41 [\"ak\"] => ['\"?\\n\"[p=0.15, l=13.44]', '\" tennis\"[p=0.13, l=13.31]', '\"?\"[p=0.10, l=13.00]', '\"?\\n\\n\"[p=0.07, l=12.62]', '\"??\"[p=0.06, l=12.44]', '\"???\"[p=0.03, l=11.62]', '\" musician\"[p=0.02, l=11.31]', '\" politician\"[p=0.02, l=11.25]', '\" unknown\"[p=0.02, l=11.25]', '\" programmer\"[p=0.02, l=11.25]', '\" software\"[p=0.01, l=10.75]', '\" \\n\"[p=0.01, l=10.62]', '\" actor\"[p=0.01, l=10.50]', '\" Dj\"[p=0.01, l=10.44]', '\" \"[p=0.01, l=10.44]']\n",
      "token_idx=42 [\" Dj\"] => ['\" DJ\"[p=0.04, l=10.19]', '\" musician\"[p=0.03, l=9.94]', '\" programmer\"[p=0.03, l=9.81]', '\"?\\n\"[p=0.03, l=9.75]', '\" dj\"[p=0.02, l=9.56]', '\" singer\"[p=0.02, l=9.31]', '\"??\"[p=0.02, l=9.19]', '\" disk\"[p=0.02, l=9.12]', '\" software\"[p=0.02, l=9.12]', '\" disc\"[p=0.01, l=9.00]', '\" actor\"[p=0.01, l=8.88]', '\" computer\"[p=0.01, l=8.88]', '\" data\"[p=0.01, l=8.81]', '\" unknown\"[p=0.01, l=8.75]', '\"?\"[p=0.01, l=8.75]']\n",
      "token_idx=43 [\"ok\"] => ['\" tennis\"[p=0.26, l=13.31]', '\"?\\n\"[p=0.07, l=12.06]', '\" musician\"[p=0.05, l=11.62]', '\"?\"[p=0.05, l=11.56]', '\"??\"[p=0.04, l=11.50]', '\"???\"[p=0.02, l=10.94]', '\"?\\n\\n\"[p=0.02, l=10.81]', '\" dj\"[p=0.01, l=10.38]', '\" athlete\"[p=0.01, l=10.31]', '\" politician\"[p=0.01, l=10.31]', '\" singer\"[p=0.01, l=10.12]', '\" unknown\"[p=0.01, l=10.12]', '\" actor\"[p=0.01, l=9.94]', '\" Dj\"[p=0.01, l=9.75]', '\" what\"[p=0.01, l=9.75]']\n",
      "token_idx=44 [\"ovic\"] => ['\"?\\n\"[p=0.16, l=12.56]', '\"?\\n\\n\"[p=0.08, l=11.88]', '\"?\"[p=0.05, l=11.44]', '\"??\"[p=0.03, l=10.94]', '\" \\n\"[p=0.03, l=10.81]', '\" politician\"[p=0.02, l=10.62]', '\" lawyer\"[p=0.02, l=10.62]', '\" unknown\"[p=0.02, l=10.44]', '\" (\"[p=0.02, l=10.31]', '\" actor\"[p=0.01, l=10.06]', '\"???\"[p=0.01, l=10.06]', '\" software\"[p=0.01, l=10.06]', '\" artist\"[p=0.01, l=9.75]', '\" entrepreneur\"[p=0.01, l=9.69]', '\" profession\"[p=0.01, l=9.69]']\n",
      "======================================================================================================================================================\n",
      "\n",
      "layer='model.layers.63'\n",
      "\n",
      "\"Ans:\" | cur_rng=(-2, 0)\n",
      "token_idx=-2 [\"Ans\"] => ['\" unknown\"[p=0.04, l=9.81]', '\" artist\"[p=0.03, l=9.69]', '\" programmer\"[p=0.03, l=9.44]', '\"?\\n\"[p=0.02, l=9.31]', '\" Ans\"[p=0.02, l=9.19]', '\" computer\"[p=0.01, l=8.88]', '\" \\n\"[p=0.01, l=8.81]', '\" answer\"[p=0.01, l=8.81]', '\" software\"[p=0.01, l=8.81]', '\" entrepreneur\"[p=0.01, l=8.75]', '\" (\"[p=0.01, l=8.56]', '\" actor\"[p=0.01, l=8.56]', '\" engineer\"[p=0.01, l=8.44]', '\" person\"[p=0.01, l=8.44]', '\" no\"[p=0.01, l=8.38]']\n",
      "token_idx=-1 [\":\"] => ['\" symbol\"[p=0.07, l=11.06]', '\"?\\n\"[p=0.04, l=10.50]', '\" placeholder\"[p=0.04, l=10.38]', '\" (\"[p=0.03, l=10.19]', '\" unknown\"[p=0.03, l=10.12]', '\" empty\"[p=0.02, l=10.00]', '\" ->\"[p=0.02, l=9.75]', '\"?\\n\\n\"[p=0.02, l=9.69]', '\"?\"[p=0.02, l=9.69]', '\" None\"[p=0.01, l=9.50]', '\" programmer\"[p=0.01, l=9.50]', '\" a\"[p=0.01, l=9.50]', '\" no\"[p=0.01, l=9.38]', '\" computer\"[p=0.01, l=9.31]', '\" null\"[p=0.01, l=9.31]']\n",
      "\n",
      "\" Johnny Depp\" | cur_rng=(13, 16)\n",
      "token_idx=13 [\" Johnny\"] => ['\" musician\"[p=0.09, l=12.31]', '\" singer\"[p=0.08, l=12.19]', '\" unknown\"[p=0.06, l=12.00]', '\"?\\n\"[p=0.05, l=11.75]', '\"??\"[p=0.03, l=11.31]', '\" actor\"[p=0.03, l=11.12]', '\"???\"[p=0.02, l=11.00]', '\"?\"[p=0.02, l=11.00]', '\" (\"[p=0.02, l=10.94]', '\" Johnny\"[p=0.02, l=10.94]', '\" no\"[p=0.02, l=10.75]', '\" programmer\"[p=0.02, l=10.56]', '\"?\\n\\n\"[p=0.01, l=10.50]', '\" entrepreneur\"[p=0.01, l=10.25]', '\" software\"[p=0.01, l=10.19]']\n",
      "token_idx=14 [\" De\"] => ['\" unknown\"[p=0.07, l=10.75]', '\"?\\n\"[p=0.06, l=10.62]', '\"?\"[p=0.03, l=9.94]', '\" empty\"[p=0.03, l=9.88]', '\"?\\n\\n\"[p=0.02, l=9.62]', '\"??\"[p=0.02, l=9.56]', '\" not\"[p=0.02, l=9.38]', '\" undefined\"[p=0.02, l=9.19]', '\" (\"[p=0.01, l=9.12]', '\" invalid\"[p=0.01, l=8.94]', '\" no\"[p=0.01, l=8.88]', '\" None\"[p=0.01, l=8.88]', '\" programmer\"[p=0.01, l=8.88]', '\" software\"[p=0.01, l=8.69]', '\" your\"[p=0.01, l=8.69]']\n",
      "token_idx=15 [\"pp\"] => ['\" actor\"[p=0.44, l=14.12]', '\"?\\n\"[p=0.09, l=12.56]', '\"??\"[p=0.03, l=11.38]', '\"?\\n\\n\"[p=0.03, l=11.38]', '\"?\"[p=0.02, l=11.19]', '\" unknown\"[p=0.02, l=10.94]', '\"???\"[p=0.01, l=10.62]', '\" software\"[p=0.01, l=10.50]', '\" lawyer\"[p=0.01, l=10.19]', '\" profession\"[p=0.01, l=10.06]', '\" \\n\"[p=0.01, l=10.00]', '\" (\"[p=0.01, l=10.00]', '\" actress\"[p=0.01, l=10.00]', '\" computer\"[p=0.01, l=10.00]', '\" programmer\"[p=0.01, l=9.94]']\n",
      "\n",
      "\" Marc Jacobs\" | cur_rng=(19, 21)\n",
      "token_idx=19 [\" Marc\"] => ['\"?\\n\"[p=0.14, l=12.00]', '\"??\"[p=0.07, l=11.38]', '\"?\\n\\n\"[p=0.06, l=11.12]', '\"?\"[p=0.04, l=10.88]', '\"???\"[p=0.03, l=10.62]', '\" musician\"[p=0.02, l=10.12]', '\" entrepreneur\"[p=0.02, l=10.06]', '\" programmer\"[p=0.02, l=9.88]', '\" singer\"[p=0.01, l=9.75]', '\" artist\"[p=0.01, l=9.75]', '\" actor\"[p=0.01, l=9.62]', '\" software\"[p=0.01, l=9.56]', '\" unknown\"[p=0.01, l=9.50]', '\" mathematic\"[p=0.01, l=9.38]', '\" engineer\"[p=0.01, l=9.31]']\n",
      "token_idx=20 [\" Jacobs\"] => ['\" fashion\"[p=0.85, l=18.00]', '\" designer\"[p=0.05, l=15.25]', '\"?\\n\"[p=0.01, l=13.94]', '\" Fashion\"[p=0.01, l=13.00]', '\" unknown\"[p=0.01, l=12.94]', '\"??\"[p=0.00, l=12.69]', '\"?\"[p=0.00, l=12.56]', '\" model\"[p=0.00, l=12.44]', '\" (\"[p=0.00, l=12.44]', '\" \"[p=0.00, l=12.19]', '\" not\"[p=0.00, l=12.00]', '\" no\"[p=0.00, l=11.88]', '\"???\"[p=0.00, l=11.56]', '\" entrepreneur\"[p=0.00, l=11.44]', '\" artist\"[p=0.00, l=11.31]']\n",
      "\n",
      "\" Jennifer Lawrence\" | cur_rng=(22, 24)\n",
      "token_idx=22 [\" Jennifer\"] => ['\" actress\"[p=0.14, l=13.06]', '\"?\\n\"[p=0.10, l=12.75]', '\" singer\"[p=0.10, l=12.69]', '\"?\"[p=0.06, l=12.19]', '\"??\"[p=0.06, l=12.12]', '\" unknown\"[p=0.04, l=11.88]', '\"?\\n\\n\"[p=0.03, l=11.44]', '\"???\"[p=0.02, l=11.25]', '\" lawyer\"[p=0.02, l=11.00]', '\" Jennifer\"[p=0.02, l=11.00]', '\" actor\"[p=0.01, l=10.81]', '\" no\"[p=0.01, l=10.69]', '\" model\"[p=0.01, l=10.56]', '\" (\"[p=0.01, l=10.38]', '\" \"[p=0.01, l=10.38]']\n",
      "token_idx=23 [\" Lawrence\"] => ['\" actress\"[p=0.75, l=16.88]', '\" actor\"[p=0.09, l=14.75]', '\"?\\n\"[p=0.03, l=13.62]', '\"??\"[p=0.02, l=13.06]', '\"?\"[p=0.01, l=12.81]', '\"?\\n\\n\"[p=0.01, l=12.62]', '\" unknown\"[p=0.01, l=12.25]', '\"???\"[p=0.01, l=11.88]', '\" (\"[p=0.00, l=11.69]', '\" \"[p=0.00, l=11.50]', '\" \\n\"[p=0.00, l=11.38]', '\" movie\"[p=0.00, l=11.31]', '\" Actress\"[p=0.00, l=11.25]', '\" ->\"[p=0.00, l=11.19]', '\" no\"[p=0.00, l=11.19]']\n",
      "\n",
      "\" Giannis Antetokounmpo\" | cur_rng=(25, 33)\n",
      "token_idx=25 [\" Gi\"] => ['\"?\\n\"[p=0.11, l=11.06]', '\"??\"[p=0.04, l=10.12]', '\" singer\"[p=0.03, l=9.81]', '\"?\"[p=0.03, l=9.75]', '\" musician\"[p=0.02, l=9.56]', '\"?\\n\\n\"[p=0.02, l=9.38]', '\" artist\"[p=0.01, l=9.06]', '\" unknown\"[p=0.01, l=9.00]', '\"???\"[p=0.01, l=8.94]', '\" software\"[p=0.01, l=8.81]', '\" programmer\"[p=0.01, l=8.81]', '\" computer\"[p=0.01, l=8.81]', '\" entrepreneur\"[p=0.01, l=8.69]', '\" \"[p=0.01, l=8.69]', '\" what\"[p=0.01, l=8.56]']\n",
      "token_idx=26 [\"annis\"] => ['\"?\\n\"[p=0.10, l=12.88]', '\" unknown\"[p=0.08, l=12.62]', '\"?\"[p=0.05, l=12.12]', '\"??\"[p=0.04, l=11.88]', '\" football\"[p=0.04, l=11.88]', '\"?\\n\\n\"[p=0.04, l=11.81]', '\" politician\"[p=0.03, l=11.69]', '\" basketball\"[p=0.03, l=11.69]', '\" software\"[p=0.02, l=11.44]', '\"???\"[p=0.02, l=11.44]', '\" soccer\"[p=0.02, l=11.00]', '\" entrepreneur\"[p=0.01, l=10.81]', '\" Greek\"[p=0.01, l=10.75]', '\" engineer\"[p=0.01, l=10.69]', '\" actor\"[p=0.01, l=10.69]']\n",
      "token_idx=27 [\" Ant\"] => ['\"?\\n\"[p=0.08, l=11.44]', '\" unknown\"[p=0.06, l=11.06]', '\" software\"[p=0.04, l=10.81]', '\"??\"[p=0.04, l=10.69]', '\" programmer\"[p=0.02, l=10.19]', '\"?\\n\\n\"[p=0.02, l=10.19]', '\"?\"[p=0.02, l=10.12]', '\" computer\"[p=0.02, l=10.12]', '\" placeholder\"[p=0.02, l=10.00]', '\" ant\"[p=0.02, l=9.81]', '\" lawyer\"[p=0.02, l=9.81]', '\"???\"[p=0.01, l=9.62]', '\" empty\"[p=0.01, l=9.50]', '\" artist\"[p=0.01, l=9.38]', '\" person\"[p=0.01, l=9.38]']\n",
      "token_idx=28 [\"et\"] => ['\"?\\n\"[p=0.18, l=12.62]', '\"?\"[p=0.06, l=11.50]', '\"?\\n\\n\"[p=0.05, l=11.44]', '\"??\"[p=0.05, l=11.25]', '\" lawyer\"[p=0.02, l=10.44]', '\" unknown\"[p=0.02, l=10.25]', '\" artist\"[p=0.02, l=10.25]', '\" \\n\"[p=0.02, l=10.19]', '\" entrepreneur\"[p=0.01, l=10.12]', '\" profession\"[p=0.01, l=10.06]', '\"???\"[p=0.01, l=10.06]', '\" software\"[p=0.01, l=9.94]', '\" politician\"[p=0.01, l=9.88]', '\" occupation\"[p=0.01, l=9.81]', '\" actor\"[p=0.01, l=9.81]']\n",
      "token_idx=29 [\"ok\"] => ['\"?\\n\"[p=0.12, l=12.19]', '\"??\"[p=0.07, l=11.69]', '\" unknown\"[p=0.05, l=11.31]', '\"?\"[p=0.04, l=11.25]', '\"?\\n\\n\"[p=0.04, l=11.00]', '\"???\"[p=0.03, l=10.75]', '\" programmer\"[p=0.03, l=10.69]', '\" politician\"[p=0.03, l=10.69]', '\" entrepreneur\"[p=0.02, l=10.62]', '\" software\"[p=0.02, l=10.56]', '\" lawyer\"[p=0.01, l=10.12]', '\" computer\"[p=0.01, l=10.06]', '\" artist\"[p=0.01, l=9.94]', '\" actor\"[p=0.01, l=9.69]', '\" engineer\"[p=0.01, l=9.62]']\n",
      "token_idx=30 [\"oun\"] => ['\"?\\n\"[p=0.09, l=11.38]', '\" basketball\"[p=0.08, l=11.25]', '\"??\"[p=0.07, l=11.12]', '\" unknown\"[p=0.05, l=10.88]', '\"?\"[p=0.05, l=10.75]', '\"?\\n\\n\"[p=0.04, l=10.50]', '\"???\"[p=0.02, l=9.94]', '\" software\"[p=0.02, l=9.94]', '\" programmer\"[p=0.02, l=9.88]', '\" athlete\"[p=0.02, l=9.81]', '\" computer\"[p=0.02, l=9.75]', '\" politician\"[p=0.02, l=9.75]', '\" entrepreneur\"[p=0.01, l=9.62]', '\" Greek\"[p=0.01, l=9.62]', '\" football\"[p=0.01, l=9.56]']\n",
      "token_idx=31 [\"mp\"] => ['\"?\\n\"[p=0.18, l=13.00]', '\"?\\n\\n\"[p=0.07, l=12.12]', '\"?\"[p=0.07, l=12.06]', '\" \\n\"[p=0.05, l=11.69]', '\"??\"[p=0.04, l=11.62]', '\" (\"[p=0.02, l=11.00]', '\" profession\"[p=0.02, l=10.62]', '\" lawyer\"[p=0.02, l=10.62]', '\" \"[p=0.02, l=10.56]', '\" unknown\"[p=0.01, l=10.50]', '\" artist\"[p=0.01, l=10.31]', '\"???\"[p=0.01, l=10.25]', '\" politician\"[p=0.01, l=10.19]', '\" empty\"[p=0.01, l=10.19]', '\" actor\"[p=0.01, l=10.12]']\n",
      "token_idx=32 [\"o\"] => ['\"?\\n\"[p=0.22, l=13.19]', '\"?\\n\\n\"[p=0.07, l=12.12]', '\"?\"[p=0.05, l=11.75]', '\"??\"[p=0.04, l=11.44]', '\" software\"[p=0.02, l=10.88]', '\" lawyer\"[p=0.02, l=10.88]', '\" unknown\"[p=0.02, l=10.81]', '\" \\n\"[p=0.02, l=10.75]', '\" programmer\"[p=0.01, l=10.44]', '\" basketball\"[p=0.01, l=10.44]', '\" athlete\"[p=0.01, l=10.38]', '\" actor\"[p=0.01, l=10.31]', '\"???\"[p=0.01, l=10.31]', '\" politician\"[p=0.01, l=10.31]', '\" ->\"[p=0.01, l=10.25]']\n",
      "\n",
      "\" Beyoncé\" | cur_rng=(34, 36)\n",
      "token_idx=34 [\" Bey\"] => ['\" singer\"[p=0.68, l=15.88]', '\" pop\"[p=0.06, l=13.44]', '\" musician\"[p=0.05, l=13.31]', '\" music\"[p=0.01, l=11.50]', '\" artist\"[p=0.01, l=11.44]', '\"??\"[p=0.01, l=11.19]', '\"?\\n\"[p=0.01, l=11.06]', '\" Singer\"[p=0.01, l=11.00]', '\" queen\"[p=0.01, l=11.00]', '\" entrepreneur\"[p=0.01, l=11.00]', '\" Queen\"[p=0.00, l=10.94]', '\" performer\"[p=0.00, l=10.94]', '\" songwriter\"[p=0.00, l=10.69]', '\" \"[p=0.00, l=10.69]', '\"?\"[p=0.00, l=10.56]']\n",
      "token_idx=35 [\"oncé\"] => ['\" singer\"[p=0.77, l=16.62]', '\" musician\"[p=0.05, l=13.94]', '\" pop\"[p=0.02, l=13.06]', '\" music\"[p=0.01, l=12.50]', '\"?\\n\"[p=0.01, l=12.31]', '\"??\"[p=0.01, l=12.00]', '\" artist\"[p=0.01, l=11.94]', '\" unknown\"[p=0.01, l=11.88]', '\" (\"[p=0.00, l=11.44]', '\"???\"[p=0.00, l=11.38]', '\"?\"[p=0.00, l=11.31]', '\" no\"[p=0.00, l=11.19]', '\" songwriter\"[p=0.00, l=11.00]', '\" programmer\"[p=0.00, l=11.00]', '\" \"[p=0.00, l=10.94]']\n",
      "\n",
      "\" Stephen King\" | cur_rng=(37, 39)\n",
      "token_idx=37 [\" Stephen\"] => ['\" philosopher\"[p=0.29, l=14.06]', '\"?\\n\"[p=0.10, l=12.94]', '\" unknown\"[p=0.06, l=12.44]', '\" actor\"[p=0.03, l=11.75]', '\"?\"[p=0.03, l=11.75]', '\"??\"[p=0.03, l=11.69]', '\" no\"[p=0.02, l=11.44]', '\"?\\n\\n\"[p=0.02, l=11.38]', '\"???\"[p=0.02, l=11.25]', '\" king\"[p=0.01, l=11.00]', '\" programmer\"[p=0.01, l=10.81]', '\" (\"[p=0.01, l=10.69]', '\" software\"[p=0.01, l=10.56]', '\" King\"[p=0.01, l=10.31]', '\" \"[p=0.01, l=10.31]']\n",
      "token_idx=38 [\" King\"] => ['\" author\"[p=0.33, l=15.69]', '\" writer\"[p=0.31, l=15.62]', '\" novelist\"[p=0.06, l=14.00]', '\"?\\n\"[p=0.05, l=13.81]', '\"??\"[p=0.02, l=12.81]', '\"?\\n\\n\"[p=0.02, l=12.81]', '\" unknown\"[p=0.01, l=12.56]', '\"?\"[p=0.01, l=12.50]', '\" (\"[p=0.01, l=12.12]', '\"???\"[p=0.01, l=11.94]', '\" software\"[p=0.01, l=11.81]', '\" programmer\"[p=0.01, l=11.56]', '\" politician\"[p=0.00, l=11.31]', '\" Author\"[p=0.00, l=11.19]', '\" computer\"[p=0.00, l=11.12]']\n",
      "\n",
      "\" Novak Djokovic\" | cur_rng=(40, 45)\n",
      "token_idx=40 [\" Nov\"] => ['\"?\\n\"[p=0.10, l=11.25]', '\"??\"[p=0.06, l=10.75]', '\"?\"[p=0.06, l=10.75]', '\"?\\n\\n\"[p=0.05, l=10.50]', '\" unknown\"[p=0.04, l=10.38]', '\"???\"[p=0.03, l=9.94]', '\" artist\"[p=0.02, l=9.62]', '\" programmer\"[p=0.01, l=9.38]', '\" not\"[p=0.01, l=9.06]', '\" no\"[p=0.01, l=9.00]', '\" singer\"[p=0.01, l=8.88]', '\" musician\"[p=0.01, l=8.88]', '\" \"[p=0.01, l=8.81]', '\" Nov\"[p=0.01, l=8.75]', '\" what\"[p=0.01, l=8.69]']\n",
      "token_idx=41 [\"ak\"] => ['\"?\\n\"[p=0.16, l=13.38]', '\" tennis\"[p=0.10, l=12.94]', '\"?\"[p=0.09, l=12.81]', '\"?\\n\\n\"[p=0.08, l=12.62]', '\"??\"[p=0.06, l=12.38]', '\"???\"[p=0.03, l=11.56]', '\" programmer\"[p=0.02, l=11.38]', '\" unknown\"[p=0.02, l=11.25]', '\" musician\"[p=0.02, l=11.06]', '\" politician\"[p=0.01, l=11.00]', '\" software\"[p=0.01, l=10.75]', '\" actor\"[p=0.01, l=10.56]', '\" \\n\"[p=0.01, l=10.44]', '\" \"[p=0.01, l=10.38]', '\" artist\"[p=0.01, l=10.31]']\n",
      "token_idx=42 [\" Dj\"] => ['\"?\\n\"[p=0.07, l=10.81]', '\" DJ\"[p=0.04, l=10.19]', '\"?\"[p=0.03, l=10.06]', '\" dj\"[p=0.03, l=10.00]', '\"??\"[p=0.03, l=9.94]', '\" programmer\"[p=0.02, l=9.75]', '\" musician\"[p=0.02, l=9.69]', '\"?\\n\\n\"[p=0.02, l=9.50]', '\" software\"[p=0.01, l=9.25]', '\" unknown\"[p=0.01, l=9.19]', '\" singer\"[p=0.01, l=9.06]', '\" actor\"[p=0.01, l=9.00]', '\" dancer\"[p=0.01, l=8.94]', '\" computer\"[p=0.01, l=8.88]', '\" \\n\"[p=0.01, l=8.88]']\n",
      "token_idx=43 [\"ok\"] => ['\" tennis\"[p=0.24, l=13.06]', '\"?\\n\"[p=0.07, l=11.88]', '\"??\"[p=0.04, l=11.38]', '\" musician\"[p=0.04, l=11.31]', '\"?\"[p=0.04, l=11.31]', '\"???\"[p=0.02, l=10.81]', '\"?\\n\\n\"[p=0.02, l=10.62]', '\" dj\"[p=0.02, l=10.31]', '\" politician\"[p=0.01, l=10.25]', '\" athlete\"[p=0.01, l=10.19]', '\" unknown\"[p=0.01, l=10.12]', '\" singer\"[p=0.01, l=9.88]', '\" actor\"[p=0.01, l=9.81]', '\" what\"[p=0.01, l=9.62]', '\" (\"[p=0.01, l=9.56]']\n",
      "token_idx=44 [\"ovic\"] => ['\"?\\n\"[p=0.17, l=12.62]', '\"?\\n\\n\"[p=0.08, l=11.94]', '\"?\"[p=0.05, l=11.44]', '\"??\"[p=0.03, l=10.94]', '\" \\n\"[p=0.03, l=10.81]', '\" lawyer\"[p=0.02, l=10.69]', '\" politician\"[p=0.02, l=10.62]', '\" unknown\"[p=0.02, l=10.31]', '\" (\"[p=0.02, l=10.25]', '\" software\"[p=0.01, l=10.19]', '\" actor\"[p=0.01, l=10.06]', '\"???\"[p=0.01, l=10.00]', '\" profession\"[p=0.01, l=9.88]', '\" entrepreneur\"[p=0.01, l=9.75]', '\" artist\"[p=0.01, l=9.75]']\n",
      "======================================================================================================================================================\n",
      "\n",
      "layer='model.layers.66'\n",
      "\n",
      "\"Ans:\" | cur_rng=(-2, 0)\n",
      "token_idx=-2 [\"Ans\"] => ['\" programmer\"[p=0.04, l=9.50]', '\" unknown\"[p=0.02, l=9.06]', '\" computer\"[p=0.02, l=9.00]', '\" artist\"[p=0.02, l=8.94]', '\" answer\"[p=0.02, l=8.81]', '\" software\"[p=0.02, l=8.69]', '\" Ans\"[p=0.02, l=8.62]', '\" actor\"[p=0.01, l=8.56]', '\"?\\n\"[p=0.01, l=8.50]', '\" singer\"[p=0.01, l=8.31]', '\" Answer\"[p=0.01, l=8.19]', '\" assistant\"[p=0.01, l=8.12]', '\" politician\"[p=0.01, l=8.12]', '\" entrepreneur\"[p=0.01, l=8.06]', '\" \\n\"[p=0.01, l=8.06]']\n",
      "token_idx=-1 [\":\"] => ['\" symbol\"[p=0.06, l=10.81]', '\"?\\n\"[p=0.06, l=10.75]', '\"?\"[p=0.03, l=10.12]', '\" unknown\"[p=0.03, l=9.94]', '\" placeholder\"[p=0.03, l=9.94]', '\" (\"[p=0.02, l=9.81]', '\"?\\n\\n\"[p=0.02, l=9.69]', '\" ->\"[p=0.02, l=9.62]', '\" a\"[p=0.02, l=9.44]', '\" empty\"[p=0.01, l=9.31]', '\" is\"[p=0.01, l=9.25]', '\" no\"[p=0.01, l=9.19]', '\" profession\"[p=0.01, l=9.12]', '\" indicates\"[p=0.01, l=9.06]', '\" None\"[p=0.01, l=9.00]']\n",
      "\n",
      "\" Johnny Depp\" | cur_rng=(13, 16)\n",
      "token_idx=13 [\" Johnny\"] => ['\" unknown\"[p=0.07, l=11.88]', '\" musician\"[p=0.06, l=11.81]', '\"?\\n\"[p=0.06, l=11.81]', '\" singer\"[p=0.06, l=11.69]', '\"??\"[p=0.04, l=11.38]', '\"?\"[p=0.03, l=11.06]', '\"???\"[p=0.03, l=11.00]', '\" Johnny\"[p=0.02, l=10.81]', '\" actor\"[p=0.02, l=10.81]', '\" (\"[p=0.02, l=10.81]', '\"?\\n\\n\"[p=0.02, l=10.62]', '\" no\"[p=0.02, l=10.50]', '\" programmer\"[p=0.01, l=10.38]', '\" entrepreneur\"[p=0.01, l=10.06]', '\" artist\"[p=0.01, l=10.00]']\n",
      "token_idx=14 [\" De\"] => ['\"?\\n\"[p=0.08, l=10.94]', '\" unknown\"[p=0.06, l=10.75]', '\"?\"[p=0.03, l=10.06]', '\"?\\n\\n\"[p=0.03, l=9.94]', '\" empty\"[p=0.03, l=9.94]', '\"??\"[p=0.02, l=9.62]', '\" (\"[p=0.01, l=9.25]', '\" your\"[p=0.01, l=9.25]', '\" not\"[p=0.01, l=9.19]', '\" \\n\"[p=0.01, l=9.06]', '\" None\"[p=0.01, l=8.94]', '\" person\"[p=0.01, l=8.88]', '\" computer\"[p=0.01, l=8.81]', '\" software\"[p=0.01, l=8.81]', '\" politician\"[p=0.01, l=8.81]']\n",
      "token_idx=15 [\"pp\"] => ['\" actor\"[p=0.28, l=13.56]', '\"?\\n\"[p=0.14, l=12.88]', '\"?\\n\\n\"[p=0.04, l=11.69]', '\"??\"[p=0.04, l=11.50]', '\"?\"[p=0.03, l=11.44]', '\" lawyer\"[p=0.02, l=10.75]', '\"???\"[p=0.01, l=10.56]', '\" unknown\"[p=0.01, l=10.56]', '\" software\"[p=0.01, l=10.44]', '\" \\n\"[p=0.01, l=10.31]', '\" profession\"[p=0.01, l=10.12]', '\" actress\"[p=0.01, l=10.12]', '\" artist\"[p=0.01, l=10.06]', '\" singer\"[p=0.01, l=10.00]', '\" (\"[p=0.01, l=10.00]']\n",
      "\n",
      "\" Marc Jacobs\" | cur_rng=(19, 21)\n",
      "token_idx=19 [\" Marc\"] => ['\"?\\n\"[p=0.14, l=11.88]', '\"?\\n\\n\"[p=0.07, l=11.12]', '\"??\"[p=0.07, l=11.12]', '\"?\"[p=0.05, l=10.75]', '\"???\"[p=0.03, l=10.38]', '\" programmer\"[p=0.02, l=9.81]', '\" musician\"[p=0.02, l=9.81]', '\" artist\"[p=0.01, l=9.56]', '\" singer\"[p=0.01, l=9.50]', '\" mathematic\"[p=0.01, l=9.50]', '\" entrepreneur\"[p=0.01, l=9.50]', '\" unknown\"[p=0.01, l=9.38]', '\" software\"[p=0.01, l=9.38]', '\" engineer\"[p=0.01, l=9.25]', '\" actor\"[p=0.01, l=9.25]']\n",
      "token_idx=20 [\" Jacobs\"] => ['\" fashion\"[p=0.84, l=18.00]', '\" designer\"[p=0.05, l=15.25]', '\"?\\n\"[p=0.02, l=14.31]', '\" unknown\"[p=0.01, l=13.12]', '\" Fashion\"[p=0.01, l=13.06]', '\"??\"[p=0.01, l=12.94]', '\" model\"[p=0.01, l=12.94]', '\"?\"[p=0.00, l=12.81]', '\" (\"[p=0.00, l=12.44]', '\" \"[p=0.00, l=12.12]', '\" not\"[p=0.00, l=12.06]', '\" no\"[p=0.00, l=12.00]', '\"?\\n\\n\"[p=0.00, l=11.88]', '\"???\"[p=0.00, l=11.75]', '\" clothing\"[p=0.00, l=11.50]']\n",
      "\n",
      "\" Jennifer Lawrence\" | cur_rng=(22, 24)\n",
      "token_idx=22 [\" Jennifer\"] => ['\" actress\"[p=0.12, l=12.75]', '\"?\\n\"[p=0.12, l=12.75]', '\" singer\"[p=0.08, l=12.31]', '\"?\"[p=0.06, l=12.12]', '\"??\"[p=0.06, l=12.06]', '\" unknown\"[p=0.05, l=11.81]', '\"?\\n\\n\"[p=0.03, l=11.50]', '\"???\"[p=0.03, l=11.25]', '\" Jennifer\"[p=0.02, l=10.81]', '\" lawyer\"[p=0.02, l=10.81]', '\" no\"[p=0.01, l=10.56]', '\" actor\"[p=0.01, l=10.56]', '\" model\"[p=0.01, l=10.44]', '\" not\"[p=0.01, l=10.38]', '\" (\"[p=0.01, l=10.31]']\n",
      "token_idx=23 [\" Lawrence\"] => ['\" actress\"[p=0.70, l=16.50]', '\" actor\"[p=0.11, l=14.69]', '\"?\\n\"[p=0.04, l=13.62]', '\"??\"[p=0.02, l=12.75]', '\"?\\n\\n\"[p=0.01, l=12.56]', '\"?\"[p=0.01, l=12.56]', '\" unknown\"[p=0.01, l=11.75]', '\"???\"[p=0.00, l=11.56]', '\" (\"[p=0.00, l=11.50]', '\" ->\"[p=0.00, l=11.44]', '\" singer\"[p=0.00, l=11.38]', '\" \"[p=0.00, l=11.38]', '\" \\n\"[p=0.00, l=11.31]', '\" movie\"[p=0.00, l=11.12]', '\" lawyer\"[p=0.00, l=11.06]']\n",
      "\n",
      "\" Giannis Antetokounmpo\" | cur_rng=(25, 33)\n",
      "token_idx=25 [\" Gi\"] => ['\"?\\n\"[p=0.11, l=10.94]', '\"??\"[p=0.04, l=9.88]', '\"?\"[p=0.03, l=9.56]', '\" singer\"[p=0.03, l=9.56]', '\" musician\"[p=0.03, l=9.50]', '\"?\\n\\n\"[p=0.02, l=9.06]', '\" artist\"[p=0.01, l=8.88]', '\" computer\"[p=0.01, l=8.81]', '\" politician\"[p=0.01, l=8.69]', '\"???\"[p=0.01, l=8.69]', '\" entrepreneur\"[p=0.01, l=8.62]', '\" \"[p=0.01, l=8.56]', '\" programmer\"[p=0.01, l=8.50]', '\" unknown\"[p=0.01, l=8.50]', '\" software\"[p=0.01, l=8.44]']\n",
      "token_idx=26 [\"annis\"] => ['\"?\\n\"[p=0.10, l=12.94]', '\" unknown\"[p=0.08, l=12.75]', '\"?\"[p=0.04, l=12.06]', '\" politician\"[p=0.04, l=12.00]', '\"??\"[p=0.04, l=11.94]', '\" football\"[p=0.03, l=11.81]', '\"?\\n\\n\"[p=0.03, l=11.75]', '\" basketball\"[p=0.03, l=11.75]', '\"???\"[p=0.02, l=11.50]', '\" software\"[p=0.02, l=11.12]', '\" actor\"[p=0.02, l=11.12]', '\" soccer\"[p=0.01, l=10.94]', '\" entrepreneur\"[p=0.01, l=10.88]', '\" Greek\"[p=0.01, l=10.75]', '\" engineer\"[p=0.01, l=10.56]']\n",
      "token_idx=27 [\" Ant\"] => ['\"?\\n\"[p=0.14, l=12.06]', '\" unknown\"[p=0.06, l=11.19]', '\"?\\n\\n\"[p=0.03, l=10.69]', '\"??\"[p=0.03, l=10.69]', '\"?\"[p=0.03, l=10.69]', '\" artist\"[p=0.02, l=10.06]', '\" lawyer\"[p=0.02, l=10.06]', '\" software\"[p=0.02, l=10.00]', '\" your\"[p=0.01, l=9.81]', '\" computer\"[p=0.01, l=9.62]', '\" entrepreneur\"[p=0.01, l=9.56]', '\" empty\"[p=0.01, l=9.50]', '\"???\"[p=0.01, l=9.50]', '\" actor\"[p=0.01, l=9.50]', '\" person\"[p=0.01, l=9.44]']\n",
      "token_idx=28 [\"et\"] => ['\"?\\n\"[p=0.15, l=12.25]', '\"?\"[p=0.05, l=11.12]', '\"?\\n\\n\"[p=0.05, l=11.06]', '\"??\"[p=0.04, l=10.94]', '\" lawyer\"[p=0.02, l=10.25]', '\" unknown\"[p=0.02, l=10.06]', '\" \\n\"[p=0.02, l=10.00]', '\" entrepreneur\"[p=0.02, l=9.94]', '\" profession\"[p=0.02, l=9.94]', '\" software\"[p=0.01, l=9.88]', '\" artist\"[p=0.01, l=9.88]', '\" occupation\"[p=0.01, l=9.62]', '\"???\"[p=0.01, l=9.62]', '\" empty\"[p=0.01, l=9.56]', '\" person\"[p=0.01, l=9.50]']\n",
      "token_idx=29 [\"ok\"] => ['\"?\\n\"[p=0.13, l=12.12]', '\"??\"[p=0.08, l=11.62]', '\"?\"[p=0.05, l=11.19]', '\"?\\n\\n\"[p=0.05, l=11.06]', '\" unknown\"[p=0.04, l=10.88]', '\"???\"[p=0.03, l=10.56]', '\" politician\"[p=0.02, l=10.38]', '\" entrepreneur\"[p=0.02, l=10.31]', '\" software\"[p=0.02, l=10.12]', '\" programmer\"[p=0.02, l=10.06]', '\" lawyer\"[p=0.01, l=9.88]', '\" computer\"[p=0.01, l=9.81]', '\" \\n\"[p=0.01, l=9.62]', '\" artist\"[p=0.01, l=9.38]', '\" (\"[p=0.01, l=9.38]']\n",
      "token_idx=30 [\"oun\"] => ['\"?\\n\"[p=0.10, l=11.25]', '\"??\"[p=0.08, l=11.00]', '\"?\"[p=0.06, l=10.69]', '\" basketball\"[p=0.05, l=10.62]', '\" unknown\"[p=0.04, l=10.38]', '\"?\\n\\n\"[p=0.04, l=10.31]', '\"???\"[p=0.02, l=9.81]', '\" politician\"[p=0.02, l=9.75]', '\" programmer\"[p=0.02, l=9.56]', '\" software\"[p=0.02, l=9.56]', '\" athlete\"[p=0.02, l=9.56]', '\" computer\"[p=0.02, l=9.44]', '\" entrepreneur\"[p=0.01, l=9.31]', '\" football\"[p=0.01, l=9.19]', '\" Greek\"[p=0.01, l=8.94]']\n",
      "token_idx=31 [\"mp\"] => ['\"?\\n\"[p=0.16, l=12.94]', '\"?\\n\\n\"[p=0.07, l=12.06]', '\"?\"[p=0.07, l=12.06]', '\" \\n\"[p=0.05, l=11.75]', '\"??\"[p=0.03, l=11.38]', '\" (\"[p=0.03, l=11.06]', '\" lawyer\"[p=0.02, l=10.81]', '\" \"[p=0.02, l=10.62]', '\" profession\"[p=0.02, l=10.62]', '\" unknown\"[p=0.01, l=10.50]', '\" artist\"[p=0.01, l=10.44]', '\" politician\"[p=0.01, l=10.38]', '\" empty\"[p=0.01, l=10.31]', '\" actor\"[p=0.01, l=10.25]', '\" software\"[p=0.01, l=10.19]']\n",
      "token_idx=32 [\"o\"] => ['\"?\\n\"[p=0.21, l=13.12]', '\"?\\n\\n\"[p=0.07, l=12.00]', '\"?\"[p=0.05, l=11.69]', '\"??\"[p=0.04, l=11.50]', '\" unknown\"[p=0.02, l=10.88]', '\" \\n\"[p=0.02, l=10.81]', '\" lawyer\"[p=0.02, l=10.75]', '\" software\"[p=0.02, l=10.75]', '\" actor\"[p=0.02, l=10.50]', '\" politician\"[p=0.01, l=10.44]', '\"???\"[p=0.01, l=10.38]', '\" profession\"[p=0.01, l=10.38]', '\" programmer\"[p=0.01, l=10.38]', '\" ->\"[p=0.01, l=10.25]', '\" (\"[p=0.01, l=10.25]']\n",
      "\n",
      "\" Beyoncé\" | cur_rng=(34, 36)\n",
      "token_idx=34 [\" Bey\"] => ['\" singer\"[p=0.62, l=15.50]', '\" pop\"[p=0.07, l=13.25]', '\" musician\"[p=0.06, l=13.19]', '\" artist\"[p=0.01, l=11.38]', '\" music\"[p=0.01, l=11.19]', '\"??\"[p=0.01, l=11.12]', '\"?\\n\"[p=0.01, l=11.12]', '\" queen\"[p=0.01, l=11.00]', '\" Queen\"[p=0.01, l=10.88]', '\" rapper\"[p=0.01, l=10.75]', '\" performer\"[p=0.01, l=10.75]', '\" Singer\"[p=0.01, l=10.69]', '\" entrepreneur\"[p=0.01, l=10.69]', '\" songwriter\"[p=0.00, l=10.56]', '\"?\"[p=0.00, l=10.56]']\n",
      "token_idx=35 [\"oncé\"] => ['\" singer\"[p=0.71, l=15.94]', '\" musician\"[p=0.06, l=13.44]', '\" pop\"[p=0.04, l=12.94]', '\" music\"[p=0.02, l=12.50]', '\"?\\n\"[p=0.01, l=11.69]', '\" artist\"[p=0.01, l=11.38]', '\" unknown\"[p=0.01, l=11.31]', '\"??\"[p=0.01, l=11.25]', '\" (\"[p=0.01, l=11.00]', '\"???\"[p=0.00, l=10.75]', '\"?\"[p=0.00, l=10.62]', '\" songwriter\"[p=0.00, l=10.50]', '\" Singer\"[p=0.00, l=10.44]', '\" no\"[p=0.00, l=10.44]', '\" song\"[p=0.00, l=10.38]']\n",
      "\n",
      "\" Stephen King\" | cur_rng=(37, 39)\n",
      "token_idx=37 [\" Stephen\"] => ['\" philosopher\"[p=0.28, l=14.06]', '\"?\\n\"[p=0.09, l=12.94]', '\" unknown\"[p=0.06, l=12.50]', '\" actor\"[p=0.04, l=12.06]', '\"?\"[p=0.03, l=11.75]', '\"??\"[p=0.03, l=11.75]', '\" no\"[p=0.02, l=11.44]', '\"?\\n\\n\"[p=0.02, l=11.25]', '\" king\"[p=0.02, l=11.25]', '\"???\"[p=0.02, l=11.19]', '\" programmer\"[p=0.01, l=10.94]', '\" (\"[p=0.01, l=10.75]', '\" software\"[p=0.01, l=10.62]', '\" King\"[p=0.01, l=10.56]', '\" \"[p=0.01, l=10.38]']\n",
      "token_idx=38 [\" King\"] => ['\" author\"[p=0.30, l=15.06]', '\" writer\"[p=0.25, l=14.88]', '\" novelist\"[p=0.06, l=13.44]', '\"?\\n\"[p=0.05, l=13.38]', '\"??\"[p=0.03, l=12.69]', '\"?\\n\\n\"[p=0.02, l=12.31]', '\" programmer\"[p=0.02, l=12.25]', '\" unknown\"[p=0.02, l=12.25]', '\"?\"[p=0.02, l=12.25]', '\" software\"[p=0.02, l=12.19]', '\" (\"[p=0.01, l=11.75]', '\"???\"[p=0.01, l=11.75]', '\" computer\"[p=0.01, l=11.44]', '\" politician\"[p=0.01, l=11.19]', '\" musician\"[p=0.01, l=11.12]']\n",
      "\n",
      "\" Novak Djokovic\" | cur_rng=(40, 45)\n",
      "token_idx=40 [\" Nov\"] => ['\"?\\n\"[p=0.10, l=11.31]', '\"?\"[p=0.06, l=10.88]', '\"??\"[p=0.06, l=10.81]', '\"?\\n\\n\"[p=0.05, l=10.62]', '\" unknown\"[p=0.04, l=10.50]', '\"???\"[p=0.03, l=10.12]', '\" artist\"[p=0.02, l=9.75]', '\" programmer\"[p=0.01, l=9.38]', '\" singer\"[p=0.01, l=9.12]', '\" musician\"[p=0.01, l=9.12]', '\" no\"[p=0.01, l=9.12]', '\" not\"[p=0.01, l=9.06]', '\" None\"[p=0.01, l=8.88]', '\" \"[p=0.01, l=8.88]', '\" Nov\"[p=0.01, l=8.88]']\n",
      "token_idx=41 [\"ak\"] => ['\"?\\n\"[p=0.17, l=13.44]', '\" tennis\"[p=0.09, l=12.75]', '\"?\"[p=0.09, l=12.75]', '\"?\\n\\n\"[p=0.08, l=12.69]', '\"??\"[p=0.05, l=12.25]', '\"???\"[p=0.02, l=11.38]', '\" musician\"[p=0.02, l=11.38]', '\" programmer\"[p=0.02, l=11.38]', '\" unknown\"[p=0.02, l=11.06]', '\" politician\"[p=0.01, l=11.00]', '\" software\"[p=0.01, l=10.81]', '\" lawyer\"[p=0.01, l=10.69]', '\" actor\"[p=0.01, l=10.69]', '\" artist\"[p=0.01, l=10.44]', '\" \\n\"[p=0.01, l=10.38]']\n",
      "token_idx=42 [\" Dj\"] => ['\"?\\n\"[p=0.15, l=11.69]', '\"?\"[p=0.07, l=10.88]', '\"?\\n\\n\"[p=0.05, l=10.69]', '\"??\"[p=0.04, l=10.44]', '\" dj\"[p=0.02, l=9.44]', '\" \\n\"[p=0.01, l=9.31]', '\" DJ\"[p=0.01, l=9.25]', '\"???\"[p=0.01, l=9.19]', '\" singer\"[p=0.01, l=9.12]', '\" musician\"[p=0.01, l=9.12]', '\" unknown\"[p=0.01, l=9.06]', '\" actor\"[p=0.01, l=9.00]', '\" artist\"[p=0.01, l=9.00]', '\" lawyer\"[p=0.01, l=8.88]', '\" \"[p=0.01, l=8.81]']\n",
      "token_idx=43 [\"ok\"] => ['\" tennis\"[p=0.17, l=12.75]', '\"?\\n\"[p=0.08, l=12.00]', '\"??\"[p=0.05, l=11.50]', '\" musician\"[p=0.04, l=11.38]', '\"?\"[p=0.04, l=11.38]', '\"???\"[p=0.02, l=10.81]', '\"?\\n\\n\"[p=0.02, l=10.81]', '\" dj\"[p=0.02, l=10.62]', '\" politician\"[p=0.01, l=10.25]', '\" unknown\"[p=0.01, l=10.25]', '\" athlete\"[p=0.01, l=10.19]', '\" DJ\"[p=0.01, l=10.12]', '\" singer\"[p=0.01, l=10.06]', '\" programmer\"[p=0.01, l=9.88]', '\" what\"[p=0.01, l=9.75]']\n",
      "token_idx=44 [\"ovic\"] => ['\"?\\n\"[p=0.18, l=12.69]', '\"?\\n\\n\"[p=0.08, l=11.88]', '\"?\"[p=0.05, l=11.44]', '\"??\"[p=0.03, l=10.88]', '\" \\n\"[p=0.03, l=10.75]', '\" lawyer\"[p=0.02, l=10.69]', '\" politician\"[p=0.02, l=10.50]', '\" unknown\"[p=0.02, l=10.38]', '\" (\"[p=0.02, l=10.25]', '\" software\"[p=0.01, l=10.19]', '\" actor\"[p=0.01, l=9.94]', '\" ->\"[p=0.01, l=9.88]', '\"???\"[p=0.01, l=9.88]', '\" profession\"[p=0.01, l=9.88]', '\" artist\"[p=0.01, l=9.81]']\n",
      "======================================================================================================================================================\n",
      "\n",
      "layer='model.layers.69'\n",
      "\n",
      "\"Ans:\" | cur_rng=(-2, 0)\n",
      "token_idx=-2 [\"Ans\"] => ['\"?\\n\"[p=0.03, l=9.25]', '\" answer\"[p=0.03, l=9.25]', '\" unknown\"[p=0.03, l=9.19]', '\" artist\"[p=0.02, l=9.00]', '\" computer\"[p=0.02, l=8.62]', '\" actor\"[p=0.02, l=8.62]', '\" programmer\"[p=0.02, l=8.62]', '\" entrepreneur\"[p=0.01, l=8.31]', '\" Answer\"[p=0.01, l=8.31]', '\" politician\"[p=0.01, l=8.19]', '\" software\"[p=0.01, l=8.12]', '\" person\"[p=0.01, l=8.06]', '\" Ans\"[p=0.01, l=8.00]', '\" singer\"[p=0.01, l=8.00]', '\"??\"[p=0.01, l=7.97]']\n",
      "token_idx=-1 [\":\"] => ['\"?\\n\"[p=0.12, l=11.69]', '\"?\"[p=0.05, l=10.75]', '\"?\\n\\n\"[p=0.04, l=10.69]', '\" unknown\"[p=0.02, l=10.06]', '\" (\"[p=0.02, l=9.75]', '\" profession\"[p=0.02, l=9.75]', '\" person\"[p=0.02, l=9.75]', '\" ->\"[p=0.02, l=9.69]', '\" a\"[p=0.01, l=9.56]', '\" your\"[p=0.01, l=9.44]', '\" indicates\"[p=0.01, l=9.38]', '\" the\"[p=0.01, l=9.31]', '\" means\"[p=0.01, l=9.31]', '\" \\n\"[p=0.01, l=9.31]', '\" empty\"[p=0.01, l=9.25]']\n",
      "\n",
      "\" Johnny Depp\" | cur_rng=(13, 16)\n",
      "token_idx=13 [\" Johnny\"] => ['\"?\\n\"[p=0.07, l=11.94]', '\" unknown\"[p=0.07, l=11.94]', '\" musician\"[p=0.05, l=11.69]', '\" singer\"[p=0.04, l=11.44]', '\"??\"[p=0.04, l=11.38]', '\"?\"[p=0.03, l=11.19]', '\"???\"[p=0.03, l=11.06]', '\" Johnny\"[p=0.02, l=10.75]', '\"?\\n\\n\"[p=0.02, l=10.75]', '\" (\"[p=0.02, l=10.75]', '\" actor\"[p=0.02, l=10.62]', '\" programmer\"[p=0.02, l=10.50]', '\" no\"[p=0.02, l=10.44]', '\" entrepreneur\"[p=0.01, l=10.25]', '\" software\"[p=0.01, l=10.06]']\n",
      "token_idx=14 [\" De\"] => ['\" unknown\"[p=0.09, l=11.06]', '\" programmer\"[p=0.04, l=10.38]', '\" empty\"[p=0.03, l=10.12]', '\"?\\n\"[p=0.03, l=10.06]', '\" undefined\"[p=0.03, l=9.94]', '\" not\"[p=0.02, l=9.50]', '\" None\"[p=0.02, l=9.50]', '\" software\"[p=0.02, l=9.50]', '\" placeholder\"[p=0.02, l=9.44]', '\"?\"[p=0.02, l=9.44]', '\" computer\"[p=0.02, l=9.44]', '\" null\"[p=0.02, l=9.31]', '\" (\"[p=0.02, l=9.31]', '\" invalid\"[p=0.01, l=9.19]', '\" variable\"[p=0.01, l=9.19]']\n",
      "token_idx=15 [\"pp\"] => ['\" programmer\"[p=0.27, l=13.81]', '\" actor\"[p=0.15, l=13.25]', '\" software\"[p=0.11, l=12.88]', '\" computer\"[p=0.04, l=12.00]', '\"?\\n\"[p=0.03, l=11.75]', '\"??\"[p=0.02, l=11.06]', '\" developer\"[p=0.02, l=10.94]', '\" hacker\"[p=0.02, l=10.94]', '\" unknown\"[p=0.01, l=10.81]', '\"???\"[p=0.01, l=10.38]', '\" (\"[p=0.01, l=10.31]', '\"?\"[p=0.01, l=10.19]', '\" singer\"[p=0.01, l=10.06]', '\" placeholder\"[p=0.01, l=10.06]', '\" None\"[p=0.01, l=10.00]']\n",
      "\n",
      "\" Marc Jacobs\" | cur_rng=(19, 21)\n",
      "token_idx=19 [\" Marc\"] => ['\"?\\n\"[p=0.14, l=11.94]', '\"??\"[p=0.07, l=11.25]', '\"?\\n\\n\"[p=0.06, l=11.06]', '\"?\"[p=0.04, l=10.81]', '\"???\"[p=0.03, l=10.56]', '\" musician\"[p=0.02, l=9.88]', '\" entrepreneur\"[p=0.01, l=9.69]', '\" singer\"[p=0.01, l=9.69]', '\" unknown\"[p=0.01, l=9.69]', '\" programmer\"[p=0.01, l=9.62]', '\" software\"[p=0.01, l=9.62]', '\" artist\"[p=0.01, l=9.56]', '\" politician\"[p=0.01, l=9.25]', '\" engineer\"[p=0.01, l=9.25]', '\" computer\"[p=0.01, l=9.19]']\n",
      "token_idx=20 [\" Jacobs\"] => ['\" fashion\"[p=0.84, l=18.00]', '\" designer\"[p=0.06, l=15.38]', '\"?\\n\"[p=0.02, l=14.06]', '\" unknown\"[p=0.01, l=13.25]', '\" model\"[p=0.01, l=13.19]', '\" Fashion\"[p=0.01, l=13.06]', '\"??\"[p=0.00, l=12.88]', '\"?\"[p=0.00, l=12.69]', '\" (\"[p=0.00, l=12.44]', '\" no\"[p=0.00, l=12.12]', '\" not\"[p=0.00, l=12.06]', '\" \"[p=0.00, l=12.00]', '\"???\"[p=0.00, l=11.75]', '\" clothing\"[p=0.00, l=11.56]', '\" artist\"[p=0.00, l=11.50]']\n",
      "\n",
      "\" Jennifer Lawrence\" | cur_rng=(22, 24)\n",
      "token_idx=22 [\" Jennifer\"] => ['\"?\\n\"[p=0.13, l=12.81]', '\" actress\"[p=0.09, l=12.38]', '\"?\"[p=0.07, l=12.19]', '\"??\"[p=0.07, l=12.19]', '\" singer\"[p=0.06, l=11.94]', '\" unknown\"[p=0.05, l=11.75]', '\"?\\n\\n\"[p=0.04, l=11.62]', '\"???\"[p=0.03, l=11.31]', '\" lawyer\"[p=0.02, l=10.81]', '\" Jennifer\"[p=0.01, l=10.50]', '\" model\"[p=0.01, l=10.44]', '\" no\"[p=0.01, l=10.38]', '\" actor\"[p=0.01, l=10.25]', '\" not\"[p=0.01, l=10.19]', '\" \"[p=0.01, l=10.19]']\n",
      "token_idx=23 [\" Lawrence\"] => ['\" actress\"[p=0.67, l=16.25]', '\" actor\"[p=0.13, l=14.62]', '\"?\\n\"[p=0.03, l=13.25]', '\"??\"[p=0.02, l=12.56]', '\"?\"[p=0.01, l=12.25]', '\"?\\n\\n\"[p=0.01, l=12.12]', '\" unknown\"[p=0.01, l=11.81]', '\" singer\"[p=0.01, l=11.44]', '\" ->\"[p=0.01, l=11.38]', '\"???\"[p=0.01, l=11.38]', '\" (\"[p=0.00, l=11.25]', '\" \"[p=0.00, l=11.12]', '\" lawyer\"[p=0.00, l=11.12]', '\" movie\"[p=0.00, l=10.88]', '\" \\n\"[p=0.00, l=10.88]']\n",
      "\n",
      "\" Giannis Antetokounmpo\" | cur_rng=(25, 33)\n",
      "token_idx=25 [\" Gi\"] => ['\"?\\n\"[p=0.10, l=11.06]', '\" singer\"[p=0.05, l=10.31]', '\"??\"[p=0.03, l=10.00]', '\" musician\"[p=0.03, l=9.94]', '\"?\"[p=0.02, l=9.50]', '\" programmer\"[p=0.02, l=9.31]', '\" politician\"[p=0.02, l=9.31]', '\"?\\n\\n\"[p=0.01, l=9.12]', '\" artist\"[p=0.01, l=9.06]', '\"???\"[p=0.01, l=9.06]', '\" computer\"[p=0.01, l=9.06]', '\" entrepreneur\"[p=0.01, l=9.00]', '\" rapper\"[p=0.01, l=9.00]', '\" unknown\"[p=0.01, l=8.94]', '\" software\"[p=0.01, l=8.94]']\n",
      "token_idx=26 [\"annis\"] => ['\"?\\n\"[p=0.10, l=12.88]', '\" unknown\"[p=0.08, l=12.69]', '\" politician\"[p=0.05, l=12.12]', '\"?\"[p=0.04, l=12.00]', '\"??\"[p=0.04, l=11.88]', '\" football\"[p=0.03, l=11.62]', '\"???\"[p=0.03, l=11.50]', '\"?\\n\\n\"[p=0.03, l=11.50]', '\" basketball\"[p=0.02, l=11.06]', '\" software\"[p=0.01, l=10.94]', '\" entrepreneur\"[p=0.01, l=10.94]', '\" actor\"[p=0.01, l=10.88]', '\" soccer\"[p=0.01, l=10.69]', '\" journalist\"[p=0.01, l=10.62]', '\" Greek\"[p=0.01, l=10.56]']\n",
      "token_idx=27 [\" Ant\"] => ['\"?\\n\"[p=0.15, l=12.44]', '\" unknown\"[p=0.06, l=11.50]', '\"?\"[p=0.04, l=11.19]', '\"??\"[p=0.04, l=11.12]', '\"?\\n\\n\"[p=0.04, l=11.00]', '\" software\"[p=0.02, l=10.44]', '\" lawyer\"[p=0.02, l=10.44]', '\" computer\"[p=0.01, l=10.06]', '\" artist\"[p=0.01, l=10.06]', '\" your\"[p=0.01, l=10.00]', '\" entrepreneur\"[p=0.01, l=10.00]', '\"???\"[p=0.01, l=9.94]', '\" programmer\"[p=0.01, l=9.88]', '\" person\"[p=0.01, l=9.88]', '\" empty\"[p=0.01, l=9.62]']\n",
      "token_idx=28 [\"et\"] => ['\"?\\n\"[p=0.19, l=12.75]', '\"?\\n\\n\"[p=0.07, l=11.69]', '\"?\"[p=0.06, l=11.62]', '\"??\"[p=0.05, l=11.38]', '\" lawyer\"[p=0.02, l=10.50]', '\" profession\"[p=0.02, l=10.38]', '\" \\n\"[p=0.02, l=10.31]', '\" entrepreneur\"[p=0.02, l=10.25]', '\" unknown\"[p=0.01, l=10.06]', '\" software\"[p=0.01, l=10.00]', '\" artist\"[p=0.01, l=10.00]', '\"???\"[p=0.01, l=9.94]', '\" occupation\"[p=0.01, l=9.88]', '\" \"[p=0.01, l=9.88]', '\" politician\"[p=0.01, l=9.81]']\n",
      "token_idx=29 [\"ok\"] => ['\"?\\n\"[p=0.15, l=12.31]', '\"??\"[p=0.08, l=11.69]', '\"?\"[p=0.07, l=11.50]', '\"?\\n\\n\"[p=0.06, l=11.38]', '\" unknown\"[p=0.03, l=10.81]', '\"???\"[p=0.03, l=10.62]', '\" politician\"[p=0.02, l=10.38]', '\" entrepreneur\"[p=0.02, l=10.19]', '\" lawyer\"[p=0.02, l=10.19]', '\" \\n\"[p=0.01, l=9.88]', '\" software\"[p=0.01, l=9.81]', '\" programmer\"[p=0.01, l=9.75]', '\" (\"[p=0.01, l=9.56]', '\" artist\"[p=0.01, l=9.38]', '\" computer\"[p=0.01, l=9.38]']\n",
      "token_idx=30 [\"oun\"] => ['\"?\\n\"[p=0.11, l=11.75]', '\"??\"[p=0.09, l=11.56]', '\"?\"[p=0.06, l=11.12]', '\"?\\n\\n\"[p=0.04, l=10.75]', '\" basketball\"[p=0.04, l=10.75]', '\" politician\"[p=0.03, l=10.50]', '\" unknown\"[p=0.03, l=10.44]', '\"???\"[p=0.03, l=10.44]', '\" software\"[p=0.02, l=9.94]', '\" programmer\"[p=0.02, l=9.88]', '\" football\"[p=0.02, l=9.75]', '\" entrepreneur\"[p=0.02, l=9.75]', '\" athlete\"[p=0.01, l=9.69]', '\" computer\"[p=0.01, l=9.50]', '\" \\n\"[p=0.01, l=9.25]']\n",
      "token_idx=31 [\"mp\"] => ['\"?\\n\"[p=0.18, l=12.94]', '\"?\\n\\n\"[p=0.07, l=12.00]', '\"?\"[p=0.07, l=11.94]', '\"??\"[p=0.04, l=11.31]', '\" \\n\"[p=0.03, l=11.19]', '\" (\"[p=0.02, l=10.81]', '\" lawyer\"[p=0.02, l=10.69]', '\" unknown\"[p=0.02, l=10.62]', '\" empty\"[p=0.01, l=10.38]', '\" profession\"[p=0.01, l=10.31]', '\" politician\"[p=0.01, l=10.25]', '\" \"[p=0.01, l=10.25]', '\" artist\"[p=0.01, l=10.25]', '\" actor\"[p=0.01, l=10.06]', '\" software\"[p=0.01, l=10.06]']\n",
      "token_idx=32 [\"o\"] => ['\"?\\n\"[p=0.19, l=13.00]', '\"?\\n\\n\"[p=0.06, l=11.81]', '\"?\"[p=0.04, l=11.56]', '\"??\"[p=0.03, l=11.31]', '\" unknown\"[p=0.03, l=11.06]', '\" lawyer\"[p=0.02, l=10.88]', '\" ->\"[p=0.02, l=10.75]', '\" \\n\"[p=0.02, l=10.75]', '\" software\"[p=0.02, l=10.69]', '\" actor\"[p=0.02, l=10.50]', '\" athlete\"[p=0.02, l=10.50]', '\" basketball\"[p=0.01, l=10.44]', '\" entrepreneur\"[p=0.01, l=10.44]', '\" politician\"[p=0.01, l=10.38]', '\" computer\"[p=0.01, l=10.38]']\n",
      "\n",
      "\" Beyoncé\" | cur_rng=(34, 36)\n",
      "token_idx=34 [\" Bey\"] => ['\" singer\"[p=0.58, l=15.25]', '\" musician\"[p=0.07, l=13.12]', '\" pop\"[p=0.07, l=13.06]', '\" artist\"[p=0.01, l=11.31]', '\"?\\n\"[p=0.01, l=11.06]', '\" queen\"[p=0.01, l=11.06]', '\" music\"[p=0.01, l=11.00]', '\"??\"[p=0.01, l=11.00]', '\" rapper\"[p=0.01, l=10.94]', '\" Queen\"[p=0.01, l=10.88]', '\" unknown\"[p=0.01, l=10.62]', '\" entrepreneur\"[p=0.01, l=10.56]', '\" Bey\"[p=0.01, l=10.50]', '\"?\"[p=0.01, l=10.50]', '\" songwriter\"[p=0.00, l=10.44]']\n",
      "token_idx=35 [\"oncé\"] => ['\" singer\"[p=0.68, l=15.56]', '\" musician\"[p=0.04, l=12.69]', '\" pop\"[p=0.04, l=12.62]', '\" programmer\"[p=0.04, l=12.62]', '\" music\"[p=0.02, l=11.75]', '\" programming\"[p=0.01, l=11.56]', '\" variable\"[p=0.01, l=11.06]', '\" software\"[p=0.01, l=10.88]', '\" unknown\"[p=0.01, l=10.75]', '\" (\"[p=0.01, l=10.69]', '\" artist\"[p=0.00, l=10.56]', '\"?\\n\"[p=0.00, l=10.50]', '\"??\"[p=0.00, l=10.38]', '\" symbol\"[p=0.00, l=10.25]', '\" computer\"[p=0.00, l=10.19]']\n",
      "\n",
      "\" Stephen King\" | cur_rng=(37, 39)\n",
      "token_idx=37 [\" Stephen\"] => ['\" philosopher\"[p=0.23, l=13.69]', '\"?\\n\"[p=0.10, l=12.88]', '\" unknown\"[p=0.05, l=12.25]', '\" actor\"[p=0.04, l=11.94]', '\"?\"[p=0.03, l=11.69]', '\"??\"[p=0.03, l=11.69]', '\"???\"[p=0.02, l=11.25]', '\"?\\n\\n\"[p=0.02, l=11.25]', '\" no\"[p=0.02, l=11.19]', '\" programmer\"[p=0.02, l=11.00]', '\" king\"[p=0.01, l=10.88]', '\" software\"[p=0.01, l=10.75]', '\" (\"[p=0.01, l=10.62]', '\" King\"[p=0.01, l=10.44]', '\" engineer\"[p=0.01, l=10.38]']\n",
      "token_idx=38 [\" King\"] => ['\" author\"[p=0.17, l=14.19]', '\" programmer\"[p=0.14, l=14.00]', '\" writer\"[p=0.13, l=13.88]', '\" software\"[p=0.07, l=13.31]', '\" novelist\"[p=0.06, l=13.12]', '\"?\\n\"[p=0.03, l=12.56]', '\" computer\"[p=0.03, l=12.25]', '\"??\"[p=0.03, l=12.25]', '\" musician\"[p=0.02, l=12.12]', '\" hacker\"[p=0.02, l=11.75]', '\" unknown\"[p=0.01, l=11.69]', '\" singer\"[p=0.01, l=11.69]', '\"???\"[p=0.01, l=11.56]', '\"?\\n\\n\"[p=0.01, l=11.44]', '\"?\"[p=0.01, l=11.38]']\n",
      "\n",
      "\" Novak Djokovic\" | cur_rng=(40, 45)\n",
      "token_idx=40 [\" Nov\"] => ['\"?\\n\"[p=0.09, l=11.06]', '\"??\"[p=0.06, l=10.62]', '\"?\"[p=0.06, l=10.56]', '\" unknown\"[p=0.05, l=10.44]', '\"?\\n\\n\"[p=0.04, l=10.31]', '\"???\"[p=0.03, l=10.00]', '\" artist\"[p=0.02, l=9.31]', '\" programmer\"[p=0.01, l=9.06]', '\" musician\"[p=0.01, l=8.94]', '\" not\"[p=0.01, l=8.94]', '\" no\"[p=0.01, l=8.88]', '\" singer\"[p=0.01, l=8.75]', '\" politician\"[p=0.01, l=8.62]', '\" what\"[p=0.01, l=8.62]', '\" \"[p=0.01, l=8.56]']\n",
      "token_idx=41 [\"ak\"] => ['\"?\\n\"[p=0.19, l=13.44]', '\"?\\n\\n\"[p=0.09, l=12.75]', '\"?\"[p=0.08, l=12.62]', '\"??\"[p=0.05, l=12.12]', '\" tennis\"[p=0.04, l=11.88]', '\"???\"[p=0.02, l=11.25]', '\" musician\"[p=0.02, l=11.25]', '\" programmer\"[p=0.02, l=11.25]', '\" unknown\"[p=0.02, l=11.06]', '\" lawyer\"[p=0.01, l=10.88]', '\" politician\"[p=0.01, l=10.81]', '\" software\"[p=0.01, l=10.69]', '\" actor\"[p=0.01, l=10.56]', '\" artist\"[p=0.01, l=10.50]', '\" \\n\"[p=0.01, l=10.31]']\n",
      "token_idx=42 [\" Dj\"] => ['\"?\\n\"[p=0.12, l=11.62]', '\"?\"[p=0.07, l=11.00]', '\"??\"[p=0.06, l=10.88]', '\"?\\n\\n\"[p=0.04, l=10.56]', '\"???\"[p=0.02, l=9.81]', '\" unknown\"[p=0.02, l=9.69]', '\" programmer\"[p=0.02, l=9.56]', '\" DJ\"[p=0.01, l=9.38]', '\" software\"[p=0.01, l=9.31]', '\" musician\"[p=0.01, l=9.19]', '\" \\n\"[p=0.01, l=9.12]', '\" singer\"[p=0.01, l=9.12]', '\" lawyer\"[p=0.01, l=9.06]', '\" dj\"[p=0.01, l=9.00]', '\" artist\"[p=0.01, l=8.94]']\n",
      "token_idx=43 [\"ok\"] => ['\" tennis\"[p=0.24, l=13.25]', '\"?\\n\"[p=0.06, l=11.94]', '\" musician\"[p=0.05, l=11.62]', '\"??\"[p=0.03, l=11.31]', '\"?\"[p=0.03, l=11.31]', '\"???\"[p=0.02, l=10.81]', '\" programmer\"[p=0.02, l=10.69]', '\" dj\"[p=0.02, l=10.56]', '\"?\\n\\n\"[p=0.02, l=10.50]', '\" athlete\"[p=0.01, l=10.38]', '\" unknown\"[p=0.01, l=10.38]', '\" politician\"[p=0.01, l=10.31]', '\" singer\"[p=0.01, l=10.19]', '\" DJ\"[p=0.01, l=10.12]', '\" software\"[p=0.01, l=10.06]']\n",
      "token_idx=44 [\"ovic\"] => ['\"?\\n\"[p=0.20, l=12.94]', '\"?\\n\\n\"[p=0.08, l=12.06]', '\"?\"[p=0.05, l=11.50]', '\"??\"[p=0.03, l=11.00]', '\" lawyer\"[p=0.03, l=10.88]', '\" \\n\"[p=0.02, l=10.75]', '\" politician\"[p=0.02, l=10.56]', '\" unknown\"[p=0.02, l=10.44]', '\" software\"[p=0.02, l=10.38]', '\" actor\"[p=0.01, l=10.19]', '\" (\"[p=0.01, l=10.19]', '\" artist\"[p=0.01, l=10.12]', '\" ->\"[p=0.01, l=10.00]', '\" profession\"[p=0.01, l=10.00]', '\" engineer\"[p=0.01, l=9.94]']\n",
      "======================================================================================================================================================\n",
      "\n",
      "layer='model.layers.72'\n",
      "\n",
      "\"Ans:\" | cur_rng=(-2, 0)\n",
      "token_idx=-2 [\"Ans\"] => ['\"?\\n\"[p=0.05, l=9.94]', '\" unknown\"[p=0.03, l=9.56]', '\" artist\"[p=0.02, l=9.25]', '\" programmer\"[p=0.02, l=9.19]', '\" computer\"[p=0.02, l=9.06]', '\" answer\"[p=0.02, l=8.94]', '\" (\"[p=0.01, l=8.69]', '\" entrepreneur\"[p=0.01, l=8.62]', '\" actor\"[p=0.01, l=8.56]', '\" software\"[p=0.01, l=8.50]', '\"??\"[p=0.01, l=8.44]', '\" no\"[p=0.01, l=8.25]', '\"?\\n\\n\"[p=0.01, l=8.19]', '\" assistant\"[p=0.01, l=8.19]', '\" musician\"[p=0.01, l=8.12]']\n",
      "token_idx=-1 [\":\"] => ['\"?\\n\"[p=0.10, l=11.56]', '\"?\\n\\n\"[p=0.04, l=10.69]', '\"?\"[p=0.04, l=10.62]', '\" ->\"[p=0.02, l=10.06]', '\" (\"[p=0.02, l=10.06]', '\" unknown\"[p=0.02, l=9.88]', '\" indicates\"[p=0.02, l=9.75]', '\" profession\"[p=0.02, l=9.75]', '\" means\"[p=0.02, l=9.75]', '\" person\"[p=0.02, l=9.69]', '\" \\n\"[p=0.02, l=9.62]', '\" is\"[p=0.01, l=9.44]', '\" the\"[p=0.01, l=9.38]', '\" a\"[p=0.01, l=9.38]', '\" empty\"[p=0.01, l=9.19]']\n",
      "\n",
      "\" Johnny Depp\" | cur_rng=(13, 16)\n",
      "token_idx=13 [\" Johnny\"] => ['\"?\\n\"[p=0.08, l=12.19]', '\" unknown\"[p=0.08, l=12.06]', '\"??\"[p=0.05, l=11.62]', '\" musician\"[p=0.04, l=11.38]', '\"?\"[p=0.04, l=11.31]', '\"???\"[p=0.03, l=11.25]', '\" singer\"[p=0.03, l=11.25]', '\"?\\n\\n\"[p=0.03, l=11.06]', '\" programmer\"[p=0.02, l=10.88]', '\" (\"[p=0.02, l=10.88]', '\" Johnny\"[p=0.02, l=10.88]', '\" actor\"[p=0.02, l=10.62]', '\" no\"[p=0.01, l=10.44]', '\" software\"[p=0.01, l=10.31]', '\" entrepreneur\"[p=0.01, l=10.19]']\n",
      "token_idx=14 [\" De\"] => ['\" unknown\"[p=0.08, l=11.25]', '\"?\\n\"[p=0.06, l=10.94]', '\" empty\"[p=0.04, l=10.44]', '\"?\"[p=0.04, l=10.38]', '\"??\"[p=0.02, l=10.00]', '\"?\\n\\n\"[p=0.02, l=10.00]', '\" (\"[p=0.02, l=9.75]', '\" programmer\"[p=0.02, l=9.69]', '\" not\"[p=0.02, l=9.69]', '\" \\n\"[p=0.02, l=9.62]', '\" undefined\"[p=0.01, l=9.50]', '\" software\"[p=0.01, l=9.50]', '\" no\"[p=0.01, l=9.31]', '\" ->\"[p=0.01, l=9.31]', '\" None\"[p=0.01, l=9.25]']\n",
      "token_idx=15 [\"pp\"] => ['\" actor\"[p=0.13, l=12.38]', '\"?\\n\"[p=0.08, l=11.88]', '\" software\"[p=0.06, l=11.62]', '\" computer\"[p=0.05, l=11.44]', '\" programmer\"[p=0.04, l=11.31]', '\" unknown\"[p=0.03, l=10.94]', '\"??\"[p=0.03, l=10.81]', '\"?\\n\\n\"[p=0.02, l=10.56]', '\"?\"[p=0.02, l=10.31]', '\" data\"[p=0.01, l=10.12]', '\" (\"[p=0.01, l=9.94]', '\" ->\"[p=0.01, l=9.88]', '\"???\"[p=0.01, l=9.81]', '\" profession\"[p=0.01, l=9.75]', '\" \\n\"[p=0.01, l=9.62]']\n",
      "\n",
      "\" Marc Jacobs\" | cur_rng=(19, 21)\n",
      "token_idx=19 [\" Marc\"] => ['\"?\\n\"[p=0.14, l=11.75]', '\"?\\n\\n\"[p=0.06, l=11.00]', '\"??\"[p=0.06, l=11.00]', '\"?\"[p=0.04, l=10.56]', '\"???\"[p=0.03, l=10.12]', '\" musician\"[p=0.01, l=9.50]', '\" unknown\"[p=0.01, l=9.44]', '\" singer\"[p=0.01, l=9.38]', '\" software\"[p=0.01, l=9.38]', '\" programmer\"[p=0.01, l=9.38]', '\" mathematic\"[p=0.01, l=9.19]', '\" artist\"[p=0.01, l=9.19]', '\" computer\"[p=0.01, l=9.06]', '\" politician\"[p=0.01, l=8.94]', '\" actor\"[p=0.01, l=8.94]']\n",
      "token_idx=20 [\" Jacobs\"] => ['\" fashion\"[p=0.77, l=17.75]', '\" designer\"[p=0.08, l=15.44]', '\"?\\n\"[p=0.03, l=14.62]', '\" model\"[p=0.02, l=14.06]', '\" unknown\"[p=0.01, l=13.50]', '\"?\"[p=0.01, l=13.12]', '\"??\"[p=0.01, l=13.06]', '\" Fashion\"[p=0.00, l=12.69]', '\" (\"[p=0.00, l=12.44]', '\"?\\n\\n\"[p=0.00, l=12.38]', '\" no\"[p=0.00, l=12.25]', '\" not\"[p=0.00, l=12.12]', '\" \"[p=0.00, l=12.00]', '\"???\"[p=0.00, l=11.94]', '\" clothing\"[p=0.00, l=11.62]']\n",
      "\n",
      "\" Jennifer Lawrence\" | cur_rng=(22, 24)\n",
      "token_idx=22 [\" Jennifer\"] => ['\"?\\n\"[p=0.17, l=13.06]', '\"??\"[p=0.08, l=12.38]', '\"?\"[p=0.08, l=12.38]', '\" actress\"[p=0.06, l=12.06]', '\"?\\n\\n\"[p=0.05, l=11.94]', '\" singer\"[p=0.04, l=11.62]', '\" unknown\"[p=0.04, l=11.62]', '\"???\"[p=0.04, l=11.56]', '\" lawyer\"[p=0.02, l=10.94]', '\" Jennifer\"[p=0.01, l=10.38]', '\" entrepreneur\"[p=0.01, l=10.38]', '\" student\"[p=0.01, l=10.25]', '\" \\n\"[p=0.01, l=10.25]', '\" model\"[p=0.01, l=10.19]', '\" \"[p=0.01, l=10.19]']\n",
      "token_idx=23 [\" Lawrence\"] => ['\" actor\"[p=0.24, l=13.69]', '\" actress\"[p=0.17, l=13.38]', '\"?\\n\"[p=0.10, l=12.81]', '\"??\"[p=0.03, l=11.75]', '\"?\\n\\n\"[p=0.03, l=11.69]', '\"?\"[p=0.03, l=11.56]', '\" lawyer\"[p=0.03, l=11.56]', '\" unknown\"[p=0.02, l=11.06]', '\" singer\"[p=0.01, l=10.81]', '\"???\"[p=0.01, l=10.69]', '\" (\"[p=0.01, l=10.69]', '\" ->\"[p=0.01, l=10.56]', '\" \\n\"[p=0.01, l=10.25]', '\" empty\"[p=0.01, l=10.12]', '\" \"[p=0.01, l=10.06]']\n",
      "\n",
      "\" Giannis Antetokounmpo\" | cur_rng=(25, 33)\n",
      "token_idx=25 [\" Gi\"] => ['\"?\\n\"[p=0.16, l=11.75]', '\"??\"[p=0.06, l=10.69]', '\"?\"[p=0.04, l=10.31]', '\"?\\n\\n\"[p=0.03, l=10.00]', '\" singer\"[p=0.02, l=9.69]', '\" musician\"[p=0.02, l=9.69]', '\"???\"[p=0.02, l=9.44]', '\" politician\"[p=0.01, l=9.31]', '\" unknown\"[p=0.01, l=9.31]', '\" artist\"[p=0.01, l=9.25]', '\" programmer\"[p=0.01, l=9.19]', '\" computer\"[p=0.01, l=9.00]', '\" entrepreneur\"[p=0.01, l=9.00]', '\" what\"[p=0.01, l=8.94]', '\" \"[p=0.01, l=8.94]']\n",
      "token_idx=26 [\"annis\"] => ['\"?\\n\"[p=0.10, l=13.00]', '\" unknown\"[p=0.08, l=12.81]', '\" politician\"[p=0.04, l=12.19]', '\"??\"[p=0.04, l=12.12]', '\"?\"[p=0.03, l=11.94]', '\"???\"[p=0.03, l=11.69]', '\" entrepreneur\"[p=0.02, l=11.62]', '\" football\"[p=0.02, l=11.56]', '\" software\"[p=0.02, l=11.50]', '\"?\\n\\n\"[p=0.02, l=11.31]', '\" basketball\"[p=0.02, l=11.25]', '\" actor\"[p=0.02, l=11.19]', '\" historian\"[p=0.01, l=11.00]', '\" journalist\"[p=0.01, l=10.94]', '\" economist\"[p=0.01, l=10.88]']\n",
      "token_idx=27 [\" Ant\"] => ['\"?\\n\"[p=0.14, l=12.19]', '\" unknown\"[p=0.06, l=11.31]', '\"?\\n\\n\"[p=0.04, l=10.88]', '\"??\"[p=0.04, l=10.88]', '\"?\"[p=0.04, l=10.88]', '\" software\"[p=0.03, l=10.50]', '\" lawyer\"[p=0.02, l=10.31]', '\" programmer\"[p=0.02, l=10.00]', '\" computer\"[p=0.02, l=10.00]', '\" empty\"[p=0.01, l=9.88]', '\" artist\"[p=0.01, l=9.75]', '\" person\"[p=0.01, l=9.69]', '\" entrepreneur\"[p=0.01, l=9.62]', '\"???\"[p=0.01, l=9.56]', '\" (\"[p=0.01, l=9.50]']\n",
      "token_idx=28 [\"et\"] => ['\"?\\n\"[p=0.22, l=13.00]', '\"?\\n\\n\"[p=0.07, l=11.81]', '\"?\"[p=0.07, l=11.81]', '\"??\"[p=0.05, l=11.44]', '\" lawyer\"[p=0.02, l=10.69]', '\" \\n\"[p=0.02, l=10.56]', '\" profession\"[p=0.02, l=10.44]', '\" entrepreneur\"[p=0.01, l=10.31]', '\" unknown\"[p=0.01, l=10.31]', '\" software\"[p=0.01, l=10.25]', '\" occupation\"[p=0.01, l=10.06]', '\" artist\"[p=0.01, l=10.00]', '\"???\"[p=0.01, l=10.00]', '\" \"[p=0.01, l=9.94]', '\" (\"[p=0.01, l=9.88]']\n",
      "token_idx=29 [\"ok\"] => ['\"?\\n\"[p=0.19, l=12.88]', '\"?\"[p=0.08, l=12.00]', '\"?\\n\\n\"[p=0.07, l=11.88]', '\"??\"[p=0.07, l=11.81]', '\"???\"[p=0.02, l=10.81]', '\" unknown\"[p=0.02, l=10.69]', '\" politician\"[p=0.02, l=10.50]', '\" lawyer\"[p=0.02, l=10.50]', '\" \\n\"[p=0.02, l=10.38]', '\" entrepreneur\"[p=0.01, l=10.31]', '\" programmer\"[p=0.01, l=10.12]', '\" profession\"[p=0.01, l=10.00]', '\" software\"[p=0.01, l=9.94]', '\" (\"[p=0.01, l=9.94]', '\" \"[p=0.01, l=9.75]']\n",
      "token_idx=30 [\"oun\"] => ['\"?\\n\"[p=0.14, l=12.19]', '\"??\"[p=0.08, l=11.69]', '\"?\"[p=0.06, l=11.44]', '\"?\\n\\n\"[p=0.05, l=11.25]', '\" politician\"[p=0.03, l=10.75]', '\" unknown\"[p=0.03, l=10.75]', '\" basketball\"[p=0.03, l=10.69]', '\"???\"[p=0.03, l=10.50]', '\" entrepreneur\"[p=0.02, l=10.44]', '\" athlete\"[p=0.02, l=10.38]', '\" programmer\"[p=0.02, l=10.12]', '\" software\"[p=0.02, l=10.06]', '\" football\"[p=0.01, l=9.75]', '\" \\n\"[p=0.01, l=9.75]', '\" computer\"[p=0.01, l=9.69]']\n",
      "token_idx=31 [\"mp\"] => ['\"?\\n\"[p=0.15, l=13.00]', '\"?\"[p=0.07, l=12.25]', '\"??\"[p=0.06, l=12.12]', '\"?\\n\\n\"[p=0.06, l=12.06]', '\" unknown\"[p=0.05, l=11.94]', '\" (\"[p=0.03, l=11.25]', '\" empty\"[p=0.02, l=11.06]', '\" \\n\"[p=0.02, l=11.06]', '\"???\"[p=0.02, l=10.81]', '\" programmer\"[p=0.01, l=10.62]', '\" software\"[p=0.01, l=10.62]', '\" None\"[p=0.01, l=10.50]', '\" computer\"[p=0.01, l=10.44]', '\" person\"[p=0.01, l=10.38]', '\" entrepreneur\"[p=0.01, l=10.31]']\n",
      "token_idx=32 [\"o\"] => ['\"?\\n\"[p=0.14, l=12.25]', '\"?\\n\\n\"[p=0.05, l=11.19]', '\" ->\"[p=0.04, l=11.00]', '\"?\"[p=0.04, l=10.94]', '\" unknown\"[p=0.03, l=10.62]', '\" \\n\"[p=0.03, l=10.56]', '\"??\"[p=0.02, l=10.44]', '\" lawyer\"[p=0.02, l=10.31]', '\" entrepreneur\"[p=0.02, l=10.06]', '\" (\"[p=0.02, l=10.00]', '\" computer\"[p=0.01, l=9.88]', '\" software\"[p=0.01, l=9.88]', '\" profession\"[p=0.01, l=9.81]', '\" business\"[p=0.01, l=9.75]', '\" athlete\"[p=0.01, l=9.69]']\n",
      "\n",
      "\" Beyoncé\" | cur_rng=(34, 36)\n",
      "token_idx=34 [\" Bey\"] => ['\" singer\"[p=0.48, l=14.69]', '\" musician\"[p=0.08, l=12.94]', '\" pop\"[p=0.06, l=12.56]', '\"?\\n\"[p=0.02, l=11.38]', '\" rapper\"[p=0.02, l=11.31]', '\" artist\"[p=0.02, l=11.31]', '\"??\"[p=0.01, l=11.06]', '\" music\"[p=0.01, l=10.81]', '\" unknown\"[p=0.01, l=10.62]', '\" entrepreneur\"[p=0.01, l=10.62]', '\" Bey\"[p=0.01, l=10.56]', '\"?\"[p=0.01, l=10.56]', '\"???\"[p=0.01, l=10.44]', '\" songwriter\"[p=0.01, l=10.31]', '\" queen\"[p=0.01, l=10.31]']\n",
      "token_idx=35 [\"oncé\"] => ['\" singer\"[p=0.25, l=13.44]', '\" programmer\"[p=0.17, l=13.06]', '\" symbol\"[p=0.08, l=12.31]', '\" variable\"[p=0.03, l=11.19]', '\" musician\"[p=0.02, l=11.12]', '\" programming\"[p=0.02, l=11.06]', '\"?\\n\"[p=0.02, l=10.88]', '\" software\"[p=0.02, l=10.69]', '\" unknown\"[p=0.01, l=10.56]', '\" pop\"[p=0.01, l=10.44]', '\" computer\"[p=0.01, l=10.38]', '\" (\"[p=0.01, l=10.38]', '\"??\"[p=0.01, l=10.31]', '\" ->\"[p=0.01, l=10.19]', '\"?\"[p=0.01, l=9.75]']\n",
      "\n",
      "\" Stephen King\" | cur_rng=(37, 39)\n",
      "token_idx=37 [\" Stephen\"] => ['\" philosopher\"[p=0.14, l=13.00]', '\"?\\n\"[p=0.13, l=12.88]', '\" unknown\"[p=0.06, l=12.06]', '\" actor\"[p=0.04, l=11.75]', '\"??\"[p=0.04, l=11.69]', '\"?\"[p=0.04, l=11.62]', '\"???\"[p=0.02, l=11.25]', '\" king\"[p=0.02, l=11.12]', '\" no\"[p=0.02, l=11.12]', '\"?\\n\\n\"[p=0.02, l=10.94]', '\" programmer\"[p=0.02, l=10.75]', '\" King\"[p=0.01, l=10.62]', '\" (\"[p=0.01, l=10.44]', '\" software\"[p=0.01, l=10.38]', '\" \"[p=0.01, l=10.19]']\n",
      "token_idx=38 [\" King\"] => ['\" programmer\"[p=0.15, l=13.56]', '\" writer\"[p=0.09, l=13.06]', '\" software\"[p=0.09, l=13.06]', '\" author\"[p=0.06, l=12.62]', '\"?\\n\"[p=0.05, l=12.56]', '\" computer\"[p=0.04, l=12.19]', '\"??\"[p=0.04, l=12.12]', '\" unknown\"[p=0.03, l=11.88]', '\" hacker\"[p=0.02, l=11.75]', '\"?\\n\\n\"[p=0.02, l=11.56]', '\" novelist\"[p=0.01, l=11.25]', '\" (\"[p=0.01, l=11.25]', '\" politician\"[p=0.01, l=11.25]', '\"???\"[p=0.01, l=11.25]', '\"?\"[p=0.01, l=11.12]']\n",
      "\n",
      "\" Novak Djokovic\" | cur_rng=(40, 45)\n",
      "token_idx=40 [\" Nov\"] => ['\"?\\n\"[p=0.10, l=11.12]', '\"??\"[p=0.07, l=10.75]', '\"?\"[p=0.06, l=10.56]', '\"?\\n\\n\"[p=0.05, l=10.50]', '\" unknown\"[p=0.05, l=10.50]', '\"???\"[p=0.02, l=9.75]', '\" artist\"[p=0.02, l=9.25]', '\" programmer\"[p=0.01, l=9.06]', '\" not\"[p=0.01, l=9.06]', '\" no\"[p=0.01, l=8.81]', '\" musician\"[p=0.01, l=8.81]', '\" None\"[p=0.01, l=8.62]', '\" entrepreneur\"[p=0.01, l=8.62]', '\" Nov\"[p=0.01, l=8.56]', '\" person\"[p=0.01, l=8.56]']\n",
      "token_idx=41 [\"ak\"] => ['\"?\\n\"[p=0.20, l=13.88]', '\"?\\n\\n\"[p=0.10, l=13.12]', '\"?\"[p=0.10, l=13.12]', '\"??\"[p=0.06, l=12.62]', '\" tennis\"[p=0.05, l=12.44]', '\" musician\"[p=0.03, l=11.88]', '\" programmer\"[p=0.03, l=11.81]', '\" unknown\"[p=0.02, l=11.62]', '\"???\"[p=0.02, l=11.56]', '\" politician\"[p=0.01, l=11.19]', '\" actor\"[p=0.01, l=11.00]', '\" software\"[p=0.01, l=10.88]', '\" \\n\"[p=0.01, l=10.81]', '\" lawyer\"[p=0.01, l=10.69]', '\" singer\"[p=0.01, l=10.62]']\n",
      "token_idx=42 [\" Dj\"] => ['\" programmer\"[p=0.06, l=10.25]', '\"?\\n\"[p=0.05, l=10.06]', '\"??\"[p=0.03, l=9.62]', '\"?\"[p=0.02, l=9.38]', '\"?\\n\\n\"[p=0.02, l=9.25]', '\" unknown\"[p=0.02, l=9.00]', '\" developer\"[p=0.01, l=8.75]', '\" computer\"[p=0.01, l=8.75]', '\" software\"[p=0.01, l=8.75]', '\" (\"[p=0.01, l=8.69]', '\" symbol\"[p=0.01, l=8.62]', '\" \\n\"[p=0.01, l=8.56]', '\" what\"[p=0.01, l=8.31]', '\" data\"[p=0.01, l=8.31]', '\" DJ\"[p=0.01, l=8.31]']\n",
      "token_idx=43 [\"ok\"] => ['\" tennis\"[p=0.13, l=12.44]', '\" musician\"[p=0.06, l=11.69]', '\"?\\n\"[p=0.06, l=11.69]', '\" programmer\"[p=0.06, l=11.62]', '\"??\"[p=0.04, l=11.19]', '\"?\"[p=0.02, l=10.75]', '\"???\"[p=0.02, l=10.56]', '\" DJ\"[p=0.02, l=10.56]', '\" software\"[p=0.02, l=10.50]', '\" hacker\"[p=0.02, l=10.31]', '\" singer\"[p=0.01, l=10.19]', '\"?\\n\\n\"[p=0.01, l=10.19]', '\" dj\"[p=0.01, l=10.19]', '\" unknown\"[p=0.01, l=9.94]', '\" politician\"[p=0.01, l=9.88]']\n",
      "token_idx=44 [\"ovic\"] => ['\"?\\n\"[p=0.17, l=12.62]', '\"?\\n\\n\"[p=0.07, l=11.75]', '\"?\"[p=0.04, l=11.25]', '\" \\n\"[p=0.03, l=10.94]', '\"??\"[p=0.03, l=10.81]', '\" lawyer\"[p=0.02, l=10.50]', '\" unknown\"[p=0.02, l=10.44]', '\" ->\"[p=0.02, l=10.38]', '\" software\"[p=0.02, l=10.31]', '\" (\"[p=0.02, l=10.31]', '\" politician\"[p=0.01, l=10.06]', '\" profession\"[p=0.01, l=10.06]', '\" programmer\"[p=0.01, l=9.81]', '\" occupation\"[p=0.01, l=9.81]', '\" empty\"[p=0.01, l=9.75]']\n",
      "======================================================================================================================================================\n",
      "\n",
      "layer='model.layers.75'\n",
      "\n",
      "\"Ans:\" | cur_rng=(-2, 0)\n",
      "token_idx=-2 [\"Ans\"] => ['\"?\\n\"[p=0.05, l=9.94]', '\" programmer\"[p=0.03, l=9.50]', '\" unknown\"[p=0.03, l=9.44]', '\" computer\"[p=0.03, l=9.38]', '\" artist\"[p=0.02, l=9.00]', '\" arrow\"[p=0.02, l=9.00]', '\" answer\"[p=0.02, l=8.81]', '\" (\"[p=0.01, l=8.69]', '\" software\"[p=0.01, l=8.56]', '\" no\"[p=0.01, l=8.44]', '\"??\"[p=0.01, l=8.31]', '\" musician\"[p=0.01, l=8.25]', '\" assistant\"[p=0.01, l=8.12]', '\" ->\"[p=0.01, l=8.12]', '\" entrepreneur\"[p=0.01, l=8.12]']\n",
      "token_idx=-1 [\":\"] => ['\"?\\n\"[p=0.09, l=11.31]', '\" (\"[p=0.04, l=10.56]', '\"?\\n\\n\"[p=0.04, l=10.50]', '\"?\"[p=0.04, l=10.50]', '\" None\"[p=0.02, l=10.00]', '\" symbol\"[p=0.02, l=10.00]', '\" unknown\"[p=0.02, l=9.94]', '\" ->\"[p=0.02, l=9.94]', '\" empty\"[p=0.02, l=9.88]', '\"??\"[p=0.02, l=9.75]', '\" actor\"[p=0.02, l=9.69]', '\" is\"[p=0.02, l=9.62]', '\" not\"[p=0.02, l=9.56]', '\" no\"[p=0.02, l=9.56]', '\" \\n\"[p=0.01, l=9.50]']\n",
      "\n",
      "\" Johnny Depp\" | cur_rng=(13, 16)\n",
      "token_idx=13 [\" Johnny\"] => ['\"?\\n\"[p=0.09, l=12.25]', '\" unknown\"[p=0.09, l=12.19]', '\"??\"[p=0.05, l=11.69]', '\"?\"[p=0.04, l=11.38]', '\"?\\n\\n\"[p=0.04, l=11.31]', '\"???\"[p=0.03, l=11.25]', '\" Johnny\"[p=0.02, l=10.88]', '\" musician\"[p=0.02, l=10.88]', '\" (\"[p=0.02, l=10.88]', '\" programmer\"[p=0.02, l=10.69]', '\" singer\"[p=0.02, l=10.56]', '\" actor\"[p=0.02, l=10.56]', '\" no\"[p=0.02, l=10.50]', '\" entrepreneur\"[p=0.01, l=10.31]', '\" software\"[p=0.01, l=10.31]']\n",
      "token_idx=14 [\" De\"] => ['\" programmer\"[p=0.20, l=12.31]', '\" software\"[p=0.05, l=11.00]', '\" unknown\"[p=0.04, l=10.69]', '\" developer\"[p=0.03, l=10.44]', '\"?\\n\"[p=0.03, l=10.38]', '\" computer\"[p=0.03, l=10.25]', '\" empty\"[p=0.02, l=10.19]', '\" ->\"[p=0.02, l=9.88]', '\" (\"[p=0.02, l=9.88]', '\"??\"[p=0.02, l=9.75]', '\" undefined\"[p=0.01, l=9.62]', '\" \\n\"[p=0.01, l=9.56]', '\"?\"[p=0.01, l=9.44]', '\" not\"[p=0.01, l=9.44]', '\" None\"[p=0.01, l=9.31]']\n",
      "token_idx=15 [\"pp\"] => ['\" actor\"[p=0.15, l=12.50]', '\"?\\n\"[p=0.09, l=11.94]', '\" computer\"[p=0.06, l=11.62]', '\" software\"[p=0.05, l=11.38]', '\" programmer\"[p=0.04, l=11.06]', '\"??\"[p=0.03, l=10.75]', '\"?\"[p=0.02, l=10.69]', '\"?\\n\\n\"[p=0.02, l=10.69]', '\" unknown\"[p=0.02, l=10.56]', '\" (\"[p=0.01, l=10.19]', '\" entrepreneur\"[p=0.01, l=10.06]', '\"???\"[p=0.01, l=9.94]', '\" \\n\"[p=0.01, l=9.75]', '\" engineer\"[p=0.01, l=9.69]', '\" None\"[p=0.01, l=9.69]']\n",
      "\n",
      "\" Marc Jacobs\" | cur_rng=(19, 21)\n",
      "token_idx=19 [\" Marc\"] => ['\"?\\n\"[p=0.10, l=11.50]', '\"??\"[p=0.06, l=10.94]', '\"?\\n\\n\"[p=0.03, l=10.38]', '\"???\"[p=0.03, l=10.19]', '\"?\"[p=0.02, l=10.06]', '\" musician\"[p=0.02, l=9.94]', '\" programmer\"[p=0.02, l=9.94]', '\" singer\"[p=0.02, l=9.81]', '\" mathematic\"[p=0.02, l=9.81]', '\" artist\"[p=0.02, l=9.69]', '\" software\"[p=0.02, l=9.62]', '\" actor\"[p=0.01, l=9.56]', '\" computer\"[p=0.01, l=9.44]', '\" unknown\"[p=0.01, l=9.25]', '\" entrepreneur\"[p=0.01, l=9.19]']\n",
      "token_idx=20 [\" Jacobs\"] => ['\" fashion\"[p=0.75, l=17.88]', '\" designer\"[p=0.07, l=15.44]', '\"?\\n\"[p=0.05, l=15.12]', '\" model\"[p=0.04, l=15.06]', '\" unknown\"[p=0.01, l=13.50]', '\"?\"[p=0.01, l=13.25]', '\"??\"[p=0.01, l=13.00]', '\"?\\n\\n\"[p=0.01, l=13.00]', '\" (\"[p=0.00, l=12.56]', '\" Fashion\"[p=0.00, l=12.50]', '\" no\"[p=0.00, l=12.19]', '\" \"[p=0.00, l=12.06]', '\" \\n\"[p=0.00, l=12.00]', '\" not\"[p=0.00, l=11.94]', '\"???\"[p=0.00, l=11.81]']\n",
      "\n",
      "\" Jennifer Lawrence\" | cur_rng=(22, 24)\n",
      "token_idx=22 [\" Jennifer\"] => ['\"?\\n\"[p=0.19, l=13.25]', '\"??\"[p=0.10, l=12.56]', '\"?\"[p=0.09, l=12.44]', '\"?\\n\\n\"[p=0.07, l=12.25]', '\" unknown\"[p=0.05, l=11.81]', '\"???\"[p=0.04, l=11.75]', '\" actress\"[p=0.03, l=11.50]', '\" singer\"[p=0.02, l=11.12]', '\" lawyer\"[p=0.01, l=10.69]', '\" Jennifer\"[p=0.01, l=10.44]', '\" \"[p=0.01, l=10.25]', '\" \\n\"[p=0.01, l=10.19]', '\" student\"[p=0.01, l=10.12]', '\" model\"[p=0.01, l=10.12]', '\" entrepreneur\"[p=0.01, l=10.12]']\n",
      "token_idx=23 [\" Lawrence\"] => ['\" actor\"[p=0.17, l=12.88]', '\"?\\n\"[p=0.12, l=12.56]', '\" actress\"[p=0.07, l=11.94]', '\"?\\n\\n\"[p=0.05, l=11.69]', '\"?\"[p=0.04, l=11.31]', '\"??\"[p=0.03, l=11.19]', '\" lawyer\"[p=0.03, l=11.00]', '\" ->\"[p=0.02, l=10.69]', '\" (\"[p=0.02, l=10.62]', '\" unknown\"[p=0.02, l=10.50]', '\" \\n\"[p=0.01, l=10.44]', '\" empty\"[p=0.01, l=10.06]', '\"???\"[p=0.01, l=10.06]', '\" occupation\"[p=0.01, l=10.00]', '\" \"[p=0.01, l=9.88]']\n",
      "\n",
      "\" Giannis Antetokounmpo\" | cur_rng=(25, 33)\n",
      "token_idx=25 [\" Gi\"] => ['\"?\\n\"[p=0.18, l=11.75]', '\"??\"[p=0.05, l=10.50]', '\"?\"[p=0.04, l=10.31]', '\"?\\n\\n\"[p=0.04, l=10.12]', '\"???\"[p=0.02, l=9.25]', '\" unknown\"[p=0.02, l=9.25]', '\" musician\"[p=0.01, l=8.94]', '\" politician\"[p=0.01, l=8.88]', '\" entrepreneur\"[p=0.01, l=8.81]', '\" \"[p=0.01, l=8.69]', '\" artist\"[p=0.01, l=8.69]', '\" singer\"[p=0.01, l=8.69]', '\" Gi\"[p=0.01, l=8.69]', '\" software\"[p=0.01, l=8.62]', '\" what\"[p=0.01, l=8.62]']\n",
      "token_idx=26 [\"annis\"] => ['\"?\\n\"[p=0.16, l=12.94]', '\"??\"[p=0.08, l=12.25]', '\" unknown\"[p=0.07, l=12.12]', '\"?\"[p=0.06, l=11.94]', '\"?\\n\\n\"[p=0.05, l=11.88]', '\"???\"[p=0.03, l=11.38]', '\" politician\"[p=0.02, l=10.81]', '\" software\"[p=0.02, l=10.69]', '\" entrepreneur\"[p=0.01, l=10.50]', '\" engineer\"[p=0.01, l=10.19]', '\" \"[p=0.01, l=10.12]', '\" \\n\"[p=0.01, l=10.06]', '\" not\"[p=0.01, l=10.06]', '\" no\"[p=0.01, l=10.00]', '\" (\"[p=0.01, l=10.00]']\n",
      "token_idx=27 [\" Ant\"] => ['\"?\\n\"[p=0.10, l=11.56]', '\" unknown\"[p=0.08, l=11.38]', '\"??\"[p=0.04, l=10.56]', '\"?\\n\\n\"[p=0.03, l=10.31]', '\" software\"[p=0.03, l=10.31]', '\"?\"[p=0.02, l=10.19]', '\" empty\"[p=0.02, l=10.19]', '\" computer\"[p=0.02, l=10.12]', '\" programmer\"[p=0.01, l=9.62]', '\" placeholder\"[p=0.01, l=9.56]', '\" (\"[p=0.01, l=9.44]', '\" entrepreneur\"[p=0.01, l=9.31]', '\" lawyer\"[p=0.01, l=9.25]', '\" person\"[p=0.01, l=9.19]', '\" \\n\"[p=0.01, l=9.12]']\n",
      "token_idx=28 [\"et\"] => ['\"?\\n\"[p=0.15, l=12.12]', '\"?\\n\\n\"[p=0.06, l=11.19]', '\"??\"[p=0.05, l=11.12]', '\"?\"[p=0.05, l=11.06]', '\" \\n\"[p=0.02, l=10.12]', '\" unknown\"[p=0.02, l=10.06]', '\" entrepreneur\"[p=0.02, l=10.06]', '\" lawyer\"[p=0.02, l=10.00]', '\" software\"[p=0.02, l=9.94]', '\" profession\"[p=0.02, l=9.88]', '\" programmer\"[p=0.01, l=9.62]', '\" computer\"[p=0.01, l=9.56]', '\"???\"[p=0.01, l=9.50]', '\" (\"[p=0.01, l=9.50]', '\" occupation\"[p=0.01, l=9.44]']\n",
      "token_idx=29 [\"ok\"] => ['\"?\\n\"[p=0.18, l=12.75]', '\"?\"[p=0.09, l=12.06]', '\"?\\n\\n\"[p=0.07, l=11.81]', '\"??\"[p=0.07, l=11.75]', '\" unknown\"[p=0.03, l=10.81]', '\"???\"[p=0.02, l=10.75]', '\" \\n\"[p=0.02, l=10.62]', '\" lawyer\"[p=0.02, l=10.62]', '\" politician\"[p=0.02, l=10.50]', '\" entrepreneur\"[p=0.01, l=10.12]', '\" programmer\"[p=0.01, l=10.06]', '\" (\"[p=0.01, l=10.06]', '\" software\"[p=0.01, l=10.00]', '\" artist\"[p=0.01, l=9.81]', '\" \"[p=0.01, l=9.75]']\n",
      "token_idx=30 [\"oun\"] => ['\"?\\n\"[p=0.16, l=12.19]', '\"?\\n\\n\"[p=0.08, l=11.44]', '\"?\"[p=0.08, l=11.44]', '\"??\"[p=0.07, l=11.31]', '\" \\n\"[p=0.03, l=10.38]', '\" politician\"[p=0.02, l=10.19]', '\"???\"[p=0.02, l=10.19]', '\" entrepreneur\"[p=0.02, l=9.94]', '\" lawyer\"[p=0.02, l=9.94]', '\" unknown\"[p=0.01, l=9.81]', '\" (\"[p=0.01, l=9.50]', '\" software\"[p=0.01, l=9.38]', '\" \"[p=0.01, l=9.19]', '\" artist\"[p=0.01, l=9.19]', '\" profession\"[p=0.01, l=9.12]']\n",
      "token_idx=31 [\"mp\"] => ['\"?\\n\"[p=0.13, l=12.88]', '\" unknown\"[p=0.06, l=12.12]', '\"??\"[p=0.06, l=12.06]', '\"?\"[p=0.05, l=12.00]', '\" programmer\"[p=0.05, l=11.88]', '\"?\\n\\n\"[p=0.04, l=11.75]', '\" software\"[p=0.02, l=11.19]', '\" computer\"[p=0.02, l=10.94]', '\" (\"[p=0.02, l=10.88]', '\"???\"[p=0.02, l=10.81]', '\" politician\"[p=0.01, l=10.69]', '\" artist\"[p=0.01, l=10.56]', '\" \\n\"[p=0.01, l=10.44]', '\" entrepreneur\"[p=0.01, l=10.25]', '\" not\"[p=0.01, l=10.25]']\n",
      "token_idx=32 [\"o\"] => ['\"?\\n\"[p=0.12, l=12.25]', '\"?\\n\\n\"[p=0.05, l=11.25]', '\" \\n\"[p=0.04, l=11.06]', '\" ->\"[p=0.04, l=11.06]', '\"?\"[p=0.03, l=10.94]', '\" unknown\"[p=0.03, l=10.94]', '\" lawyer\"[p=0.02, l=10.50]', '\" (\"[p=0.02, l=10.44]', '\"??\"[p=0.02, l=10.38]', '\" software\"[p=0.02, l=10.19]', '\" empty\"[p=0.01, l=10.06]', '\" ->\\n\"[p=0.01, l=10.06]', '\" actor\"[p=0.01, l=10.00]', '\" computer\"[p=0.01, l=9.88]', '\" athlete\"[p=0.01, l=9.81]']\n",
      "\n",
      "\" Beyoncé\" | cur_rng=(34, 36)\n",
      "token_idx=34 [\" Bey\"] => ['\" singer\"[p=0.23, l=13.00]', '\" musician\"[p=0.10, l=12.19]', '\" rapper\"[p=0.05, l=11.38]', '\"?\\n\"[p=0.04, l=11.19]', '\" pop\"[p=0.03, l=10.81]', '\"??\"[p=0.02, l=10.56]', '\" artist\"[p=0.02, l=10.56]', '\" unknown\"[p=0.02, l=10.38]', '\"?\"[p=0.01, l=10.25]', '\" software\"[p=0.01, l=10.12]', '\" music\"[p=0.01, l=10.12]', '\"???\"[p=0.01, l=10.06]', '\" programmer\"[p=0.01, l=10.06]', '\" songwriter\"[p=0.01, l=9.56]', '\" Bey\"[p=0.01, l=9.56]']\n",
      "token_idx=35 [\"oncé\"] => ['\" singer\"[p=0.24, l=13.19]', '\" symbol\"[p=0.12, l=12.50]', '\" programmer\"[p=0.08, l=12.12]', '\" musician\"[p=0.03, l=11.12]', '\" variable\"[p=0.03, l=10.94]', '\"?\\n\"[p=0.02, l=10.75]', '\" unknown\"[p=0.02, l=10.75]', '\" software\"[p=0.02, l=10.50]', '\" placeholder\"[p=0.02, l=10.44]', '\" (\"[p=0.01, l=10.38]', '\" ->\"[p=0.01, l=10.25]', '\" pop\"[p=0.01, l=10.12]', '\"??\"[p=0.01, l=10.12]', '\" computer\"[p=0.01, l=10.06]', '\" music\"[p=0.01, l=9.81]']\n",
      "\n",
      "\" Stephen King\" | cur_rng=(37, 39)\n",
      "token_idx=37 [\" Stephen\"] => ['\"?\\n\"[p=0.14, l=12.69]', '\" philosopher\"[p=0.08, l=12.19]', '\" unknown\"[p=0.05, l=11.69]', '\"??\"[p=0.05, l=11.62]', '\"?\"[p=0.05, l=11.62]', '\" actor\"[p=0.04, l=11.44]', '\"???\"[p=0.03, l=11.19]', '\"?\\n\\n\"[p=0.02, l=10.88]', '\" no\"[p=0.02, l=10.81]', '\" programmer\"[p=0.02, l=10.75]', '\" king\"[p=0.01, l=10.38]', '\" King\"[p=0.01, l=10.31]', '\" software\"[p=0.01, l=10.12]', '\" (\"[p=0.01, l=10.06]', '\" \"[p=0.01, l=10.06]']\n",
      "token_idx=38 [\" King\"] => ['\" programmer\"[p=0.11, l=13.12]', '\" software\"[p=0.07, l=12.69]', '\" writer\"[p=0.07, l=12.62]', '\"?\\n\"[p=0.06, l=12.56]', '\" author\"[p=0.05, l=12.31]', '\" unknown\"[p=0.05, l=12.25]', '\" computer\"[p=0.05, l=12.25]', '\"??\"[p=0.04, l=12.06]', '\"?\\n\\n\"[p=0.03, l=11.75]', '\" hacker\"[p=0.02, l=11.44]', '\"?\"[p=0.02, l=11.25]', '\" (\"[p=0.02, l=11.25]', '\"???\"[p=0.02, l=11.19]', '\" None\"[p=0.01, l=10.75]', '\" \\n\"[p=0.01, l=10.75]']\n",
      "\n",
      "\" Novak Djokovic\" | cur_rng=(40, 45)\n",
      "token_idx=40 [\" Nov\"] => ['\"?\\n\"[p=0.11, l=11.25]', '\"??\"[p=0.08, l=11.00]', '\"?\"[p=0.06, l=10.75]', '\"?\\n\\n\"[p=0.06, l=10.75]', '\" unknown\"[p=0.05, l=10.44]', '\"???\"[p=0.03, l=10.12]', '\" programmer\"[p=0.01, l=9.25]', '\" artist\"[p=0.01, l=9.12]', '\" not\"[p=0.01, l=8.88]', '\" musician\"[p=0.01, l=8.81]', '\" no\"[p=0.01, l=8.62]', '\" person\"[p=0.01, l=8.56]', '\" (\"[p=0.01, l=8.50]', '\" \"[p=0.01, l=8.50]', '\" what\"[p=0.01, l=8.50]']\n",
      "token_idx=41 [\"ak\"] => ['\"?\\n\"[p=0.21, l=13.44]', '\"?\\n\\n\"[p=0.09, l=12.62]', '\"?\"[p=0.09, l=12.56]', '\"??\"[p=0.05, l=11.94]', '\" lawyer\"[p=0.02, l=11.25]', '\" programmer\"[p=0.02, l=11.12]', '\" unknown\"[p=0.02, l=11.12]', '\" tennis\"[p=0.02, l=11.06]', '\" musician\"[p=0.02, l=10.88]', '\" software\"[p=0.02, l=10.88]', '\"???\"[p=0.01, l=10.81]', '\" \\n\"[p=0.01, l=10.44]', '\" computer\"[p=0.01, l=10.25]', '\" politician\"[p=0.01, l=10.19]', '\" actor\"[p=0.01, l=10.19]']\n",
      "token_idx=42 [\" Dj\"] => ['\" programmer\"[p=0.19, l=12.31]', '\"?\\n\"[p=0.05, l=10.94]', '\" computer\"[p=0.05, l=10.94]', '\" software\"[p=0.03, l=10.31]', '\"??\"[p=0.02, l=10.25]', '\"?\\n\\n\"[p=0.01, l=9.69]', '\"?\"[p=0.01, l=9.69]', '\" hacker\"[p=0.01, l=9.62]', '\" chess\"[p=0.01, l=9.44]', '\" unknown\"[p=0.01, l=9.38]', '\" input\"[p=0.01, l=9.19]', '\" developer\"[p=0.01, l=9.19]', '\" lawyer\"[p=0.01, l=9.12]', '\" actor\"[p=0.01, l=9.12]', '\" programming\"[p=0.01, l=9.12]']\n",
      "token_idx=43 [\"ok\"] => ['\"?\\n\"[p=0.11, l=11.75]', '\" tennis\"[p=0.06, l=11.06]', '\" programmer\"[p=0.05, l=11.00]', '\"?\"[p=0.05, l=11.00]', '\"??\"[p=0.04, l=10.81]', '\"?\\n\\n\"[p=0.04, l=10.81]', '\" software\"[p=0.03, l=10.31]', '\"???\"[p=0.02, l=9.88]', '\" unknown\"[p=0.02, l=9.81]', '\" politician\"[p=0.02, l=9.75]', '\" musician\"[p=0.01, l=9.62]', '\" (\"[p=0.01, l=9.50]', '\" computer\"[p=0.01, l=9.44]', '\" athlete\"[p=0.01, l=9.31]', '\" football\"[p=0.01, l=9.31]']\n",
      "token_idx=44 [\"ovic\"] => ['\"?\\n\"[p=0.14, l=12.38]', '\"?\\n\\n\"[p=0.07, l=11.62]', '\"?\"[p=0.04, l=11.12]', '\" \\n\"[p=0.03, l=10.88]', '\"??\"[p=0.03, l=10.69]', '\" unknown\"[p=0.02, l=10.56]', '\" lawyer\"[p=0.02, l=10.50]', '\" ->\"[p=0.02, l=10.50]', '\" (\"[p=0.02, l=10.44]', '\" profession\"[p=0.02, l=10.25]', '\" software\"[p=0.01, l=10.12]', '\" empty\"[p=0.01, l=10.12]', '\" politician\"[p=0.01, l=10.00]', '\" occupation\"[p=0.01, l=10.00]', '\" actor\"[p=0.01, l=9.88]']\n",
      "======================================================================================================================================================\n",
      "\n",
      "layer='model.layers.78'\n",
      "\n",
      "\"Ans:\" | cur_rng=(-2, 0)\n",
      "token_idx=-2 [\"Ans\"] => ['\" programmer\"[p=0.08, l=10.56]', '\" computer\"[p=0.07, l=10.50]', '\" musician\"[p=0.04, l=9.81]', '\" software\"[p=0.03, l=9.62]', '\" answer\"[p=0.03, l=9.56]', '\" Albert\"[p=0.02, l=9.19]', '\" Jack\"[p=0.01, l=8.75]', '\" Answer\"[p=0.01, l=8.50]', '\" answers\"[p=0.01, l=8.31]', '\" a\"[p=0.01, l=8.31]', '\" artist\"[p=0.01, l=8.31]', '\" singer\"[p=0.01, l=8.31]', '\" the\"[p=0.01, l=8.25]', '\"?\\n\"[p=0.01, l=8.19]', '\" person\"[p=0.01, l=8.19]']\n",
      "token_idx=-1 [\":\"] => ['\" actor\"[p=0.32, l=14.00]', '\"?\\n\"[p=0.13, l=13.06]', '\" actress\"[p=0.07, l=12.44]', '\"?\\n\\n\"[p=0.04, l=11.81]', '\" Stephen\"[p=0.03, l=11.56]', '\" Jennifer\"[p=0.02, l=11.44]', '\"?\"[p=0.02, l=11.44]', '\" profession\"[p=0.02, l=11.25]', '\" ->\"[p=0.01, l=10.81]', '\" \\n\"[p=0.01, l=10.81]', '\" movie\"[p=0.01, l=10.81]', '\" (\"[p=0.01, l=10.75]', '\" None\"[p=0.01, l=10.38]', '\"??\"[p=0.01, l=10.25]', '\" person\"[p=0.01, l=10.12]']\n",
      "\n",
      "\" Johnny Depp\" | cur_rng=(13, 16)\n",
      "token_idx=13 [\" Johnny\"] => ['\" unknown\"[p=0.07, l=11.94]', '\"?\\n\"[p=0.06, l=11.69]', '\" musician\"[p=0.04, l=11.31]', '\"??\"[p=0.03, l=11.06]', '\" actor\"[p=0.03, l=10.94]', '\" programmer\"[p=0.02, l=10.88]', '\" singer\"[p=0.02, l=10.81]', '\"???\"[p=0.02, l=10.75]', '\"?\"[p=0.02, l=10.75]', '\" software\"[p=0.02, l=10.75]', '\" Johnny\"[p=0.02, l=10.69]', '\" (\"[p=0.02, l=10.50]', '\" no\"[p=0.02, l=10.44]', '\"?\\n\\n\"[p=0.01, l=10.38]', '\" entrepreneur\"[p=0.01, l=10.25]']\n",
      "token_idx=14 [\" De\"] => ['\" unknown\"[p=0.05, l=10.06]', '\"?\\n\"[p=0.05, l=9.94]', '\" software\"[p=0.04, l=9.69]', '\" programmer\"[p=0.03, l=9.50]', '\" empty\"[p=0.03, l=9.44]', '\"??\"[p=0.03, l=9.38]', '\"?\"[p=0.02, l=9.06]', '\"?\\n\\n\"[p=0.02, l=8.88]', '\" computer\"[p=0.02, l=8.88]', '\" undefined\"[p=0.01, l=8.69]', '\" None\"[p=0.01, l=8.56]', '\" \\n\"[p=0.01, l=8.56]', '\" (\"[p=0.01, l=8.56]', '\"???\"[p=0.01, l=8.38]', '\" not\"[p=0.01, l=8.38]']\n",
      "token_idx=15 [\"pp\"] => ['\" actor\"[p=0.34, l=13.31]', '\"?\\n\"[p=0.05, l=11.31]', '\" actress\"[p=0.02, l=10.38]', '\"?\"[p=0.02, l=10.31]', '\"?\\n\\n\"[p=0.02, l=10.19]', '\" what\"[p=0.01, l=10.06]', '\" profession\"[p=0.01, l=10.00]', '\"??\"[p=0.01, l=10.00]', '\" answer\"[p=0.01, l=10.00]', '\" (\"[p=0.01, l=9.94]', '\" a\"[p=0.01, l=9.94]', '\" software\"[p=0.01, l=9.88]', '\" computer\"[p=0.01, l=9.88]', '\" their\"[p=0.01, l=9.69]', '\" his\"[p=0.01, l=9.69]']\n",
      "\n",
      "\" Marc Jacobs\" | cur_rng=(19, 21)\n",
      "token_idx=19 [\" Marc\"] => ['\" software\"[p=0.07, l=11.50]', '\" programmer\"[p=0.07, l=11.50]', '\"?\\n\"[p=0.04, l=10.81]', '\" developer\"[p=0.03, l=10.56]', '\" singer\"[p=0.03, l=10.50]', '\" musician\"[p=0.02, l=10.44]', '\"??\"[p=0.02, l=10.38]', '\" computer\"[p=0.02, l=10.25]', '\" engineer\"[p=0.02, l=10.12]', '\" artist\"[p=0.02, l=10.12]', '\" actor\"[p=0.02, l=10.06]', '\" entrepreneur\"[p=0.01, l=9.81]', '\" designer\"[p=0.01, l=9.75]', '\"???\"[p=0.01, l=9.69]', '\" mathematic\"[p=0.01, l=9.62]']\n",
      "token_idx=20 [\" Jacobs\"] => ['\" fashion\"[p=0.19, l=13.31]', '\" designer\"[p=0.12, l=12.88]', '\" model\"[p=0.09, l=12.56]', '\" programmer\"[p=0.06, l=12.12]', '\" software\"[p=0.05, l=12.06]', '\"?\\n\"[p=0.05, l=12.06]', '\" unknown\"[p=0.03, l=11.38]', '\" computer\"[p=0.03, l=11.31]', '\" actor\"[p=0.02, l=11.19]', '\" Fashion\"[p=0.01, l=10.56]', '\" (\"[p=0.01, l=10.31]', '\" Anna\"[p=0.01, l=10.31]', '\"?\"[p=0.01, l=10.25]', '\" None\"[p=0.01, l=10.12]', '\" no\"[p=0.01, l=10.12]']\n",
      "\n",
      "\" Jennifer Lawrence\" | cur_rng=(22, 24)\n",
      "token_idx=22 [\" Jennifer\"] => ['\"?\\n\"[p=0.18, l=12.75]', '\"??\"[p=0.06, l=11.69]', '\"?\\n\\n\"[p=0.06, l=11.62]', '\"?\"[p=0.05, l=11.50]', '\" software\"[p=0.03, l=11.06]', '\" actress\"[p=0.03, l=10.94]', '\" lawyer\"[p=0.03, l=10.81]', '\" unknown\"[p=0.02, l=10.75]', '\"???\"[p=0.02, l=10.69]', '\" Jennifer\"[p=0.02, l=10.62]', '\" singer\"[p=0.02, l=10.31]', '\" engineer\"[p=0.02, l=10.31]', '\" programmer\"[p=0.02, l=10.31]', '\" artist\"[p=0.01, l=10.19]', '\" entrepreneur\"[p=0.01, l=10.12]']\n",
      "token_idx=23 [\" Lawrence\"] => ['\" actor\"[p=0.31, l=13.19]', '\" actress\"[p=0.10, l=12.00]', '\"?\\n\"[p=0.03, l=10.75]', '\" computer\"[p=0.02, l=10.62]', '\" unknown\"[p=0.02, l=10.56]', '\" software\"[p=0.02, l=10.38]', '\"??\"[p=0.02, l=10.25]', '\" programmer\"[p=0.01, l=10.06]', '\" None\"[p=0.01, l=10.00]', '\" none\"[p=0.01, l=9.88]', '\" (\"[p=0.01, l=9.81]', '\" no\"[p=0.01, l=9.75]', '\" comedian\"[p=0.01, l=9.75]', '\" lawyer\"[p=0.01, l=9.75]', '\"?\"[p=0.01, l=9.69]']\n",
      "\n",
      "\" Giannis Antetokounmpo\" | cur_rng=(25, 33)\n",
      "token_idx=25 [\" Gi\"] => ['\" programmer\"[p=0.07, l=10.75]', '\"?\\n\"[p=0.06, l=10.69]', '\" computer\"[p=0.04, l=10.25]', '\" software\"[p=0.04, l=10.12]', '\"??\"[p=0.03, l=9.94]', '\" musician\"[p=0.02, l=9.56]', '\" unknown\"[p=0.02, l=9.56]', '\" politician\"[p=0.02, l=9.50]', '\" singer\"[p=0.02, l=9.38]', '\" artist\"[p=0.01, l=9.19]', '\" entrepreneur\"[p=0.01, l=9.19]', '\"?\"[p=0.01, l=9.06]', '\"?\\n\\n\"[p=0.01, l=8.94]', '\"???\"[p=0.01, l=8.88]', '\" engineer\"[p=0.01, l=8.88]']\n",
      "token_idx=26 [\"annis\"] => ['\" software\"[p=0.14, l=12.75]', '\" programmer\"[p=0.07, l=12.06]', '\"?\\n\"[p=0.06, l=11.94]', '\" unknown\"[p=0.05, l=11.81]', '\"??\"[p=0.04, l=11.56]', '\" computer\"[p=0.03, l=11.25]', '\" developer\"[p=0.02, l=11.00]', '\"?\"[p=0.02, l=10.75]', '\"???\"[p=0.01, l=10.44]', '\"?\\n\\n\"[p=0.01, l=10.31]', '\" engineer\"[p=0.01, l=10.25]', '\" entrepreneur\"[p=0.01, l=10.19]', '\" singer\"[p=0.01, l=10.06]', '\" musician\"[p=0.01, l=10.00]', '\" politician\"[p=0.01, l=10.00]']\n",
      "token_idx=27 [\" Ant\"] => ['\" unknown\"[p=0.08, l=10.69]', '\"?\\n\"[p=0.05, l=10.19]', '\"?\\n\\n\"[p=0.02, l=9.38]', '\" computer\"[p=0.02, l=9.31]', '\" empty\"[p=0.02, l=9.31]', '\"??\"[p=0.02, l=9.25]', '\"?\"[p=0.02, l=9.12]', '\" symbol\"[p=0.01, l=8.94]', '\" (\"[p=0.01, l=8.94]', '\" software\"[p=0.01, l=8.88]', '\" placeholder\"[p=0.01, l=8.75]', '\" not\"[p=0.01, l=8.56]', '\" \\n\"[p=0.01, l=8.50]', '\" person\"[p=0.01, l=8.38]', '\" a\"[p=0.01, l=8.25]']\n",
      "token_idx=28 [\"et\"] => ['\" programmer\"[p=0.20, l=12.31]', '\"?\\n\"[p=0.06, l=11.06]', '\"??\"[p=0.06, l=11.06]', '\" software\"[p=0.05, l=10.88]', '\" computer\"[p=0.04, l=10.81]', '\" unknown\"[p=0.03, l=10.56]', '\"?\"[p=0.02, l=10.00]', '\"?\\n\\n\"[p=0.02, l=9.88]', '\" developer\"[p=0.02, l=9.75]', '\" hacker\"[p=0.01, l=9.56]', '\"???\"[p=0.01, l=9.38]', '\" programming\"[p=0.01, l=9.31]', '\" \\n\"[p=0.01, l=9.25]', '\" mathematic\"[p=0.01, l=9.19]', '\" (\"[p=0.01, l=9.19]']\n",
      "token_idx=29 [\"ok\"] => ['\" programmer\"[p=0.25, l=13.12]', '\"?\\n\"[p=0.07, l=11.81]', '\" software\"[p=0.06, l=11.69]', '\" computer\"[p=0.05, l=11.50]', '\"??\"[p=0.05, l=11.44]', '\" unknown\"[p=0.03, l=11.00]', '\"?\"[p=0.02, l=10.81]', '\" developer\"[p=0.02, l=10.69]', '\" hacker\"[p=0.02, l=10.62]', '\"?\\n\\n\"[p=0.02, l=10.56]', '\"???\"[p=0.01, l=10.00]', '\" \\n\"[p=0.01, l=9.94]', '\" (\"[p=0.01, l=9.62]', '\" undefined\"[p=0.01, l=9.56]', '\" what\"[p=0.01, l=9.44]']\n",
      "token_idx=30 [\"oun\"] => ['\"?\\n\"[p=0.07, l=10.69]', '\"??\"[p=0.04, l=10.12]', '\" unknown\"[p=0.03, l=9.81]', '\" entrepreneur\"[p=0.03, l=9.75]', '\"?\"[p=0.03, l=9.69]', '\"?\\n\\n\"[p=0.03, l=9.69]', '\" politician\"[p=0.02, l=9.62]', '\" programmer\"[p=0.02, l=9.44]', '\" profession\"[p=0.02, l=9.31]', '\" lawyer\"[p=0.02, l=9.19]', '\" \\n\"[p=0.02, l=9.19]', '\" software\"[p=0.01, l=9.12]', '\" computer\"[p=0.01, l=9.06]', '\" athlete\"[p=0.01, l=8.81]', '\" business\"[p=0.01, l=8.69]']\n",
      "token_idx=31 [\"mp\"] => ['\" programmer\"[p=0.09, l=11.25]', '\"?\\n\"[p=0.07, l=11.00]', '\" computer\"[p=0.04, l=10.50]', '\" software\"[p=0.03, l=10.31]', '\" unknown\"[p=0.03, l=10.19]', '\" developer\"[p=0.02, l=10.00]', '\"?\\n\\n\"[p=0.02, l=9.94]', '\"?\"[p=0.02, l=9.94]', '\"??\"[p=0.02, l=9.81]', '\" musician\"[p=0.02, l=9.81]', '\" singer\"[p=0.01, l=9.50]', '\" artist\"[p=0.01, l=9.44]', '\" (\"[p=0.01, l=9.19]', '\" actor\"[p=0.01, l=9.12]', '\" not\"[p=0.01, l=9.06]']\n",
      "token_idx=32 [\"o\"] => ['\" unknown\"[p=0.07, l=11.44]', '\"?\\n\"[p=0.05, l=11.00]', '\" empty\"[p=0.05, l=11.00]', '\" programmer\"[p=0.04, l=10.75]', '\" basketball\"[p=0.03, l=10.56]', '\" None\"[p=0.03, l=10.56]', '\" software\"[p=0.03, l=10.44]', '\" computer\"[p=0.03, l=10.44]', '\" none\"[p=0.02, l=10.19]', '\" athlete\"[p=0.02, l=10.12]', '\" not\"[p=0.02, l=10.06]', '\"?\\n\\n\"[p=0.02, l=10.00]', '\"?\"[p=0.02, l=9.94]', '\"??\"[p=0.02, l=9.88]', '\" (\"[p=0.01, l=9.81]']\n",
      "\n",
      "\" Beyoncé\" | cur_rng=(34, 36)\n",
      "token_idx=34 [\" Bey\"] => ['\" singer\"[p=0.19, l=12.56]', '\" musician\"[p=0.07, l=11.62]', '\" unknown\"[p=0.04, l=11.00]', '\"?\\n\"[p=0.04, l=10.88]', '\" pop\"[p=0.03, l=10.69]', '\" artist\"[p=0.02, l=10.50]', '\" rapper\"[p=0.02, l=10.19]', '\" software\"[p=0.02, l=10.06]', '\"??\"[p=0.01, l=10.00]', '\" Bey\"[p=0.01, l=9.94]', '\"?\"[p=0.01, l=9.75]', '\" programmer\"[p=0.01, l=9.69]', '\" songwriter\"[p=0.01, l=9.62]', '\" celebrity\"[p=0.01, l=9.50]', '\" politician\"[p=0.01, l=9.44]']\n",
      "token_idx=35 [\"oncé\"] => ['\" programmer\"[p=0.46, l=14.25]', '\" software\"[p=0.05, l=12.06]', '\" singer\"[p=0.05, l=12.06]', '\" computer\"[p=0.05, l=12.06]', '\" variable\"[p=0.02, l=11.25]', '\" hacker\"[p=0.02, l=11.19]', '\" symbol\"[p=0.02, l=10.94]', '\" musician\"[p=0.02, l=10.88]', '\" developer\"[p=0.02, l=10.88]', '\" unknown\"[p=0.01, l=10.56]', '\"?\\n\"[p=0.01, l=10.31]', '\" programming\"[p=0.01, l=10.31]', '\"??\"[p=0.01, l=10.25]', '\" None\"[p=0.01, l=10.19]', '\" none\"[p=0.01, l=9.94]']\n",
      "\n",
      "\" Stephen King\" | cur_rng=(37, 39)\n",
      "token_idx=37 [\" Stephen\"] => ['\"?\\n\"[p=0.09, l=12.38]', '\" philosopher\"[p=0.06, l=12.00]', '\" actor\"[p=0.06, l=11.94]', '\" programmer\"[p=0.05, l=11.81]', '\" software\"[p=0.04, l=11.50]', '\" King\"[p=0.03, l=11.31]', '\"??\"[p=0.03, l=11.25]', '\" unknown\"[p=0.02, l=10.94]', '\"?\"[p=0.02, l=10.88]', '\" musician\"[p=0.02, l=10.81]', '\"???\"[p=0.02, l=10.81]', '\" writer\"[p=0.02, l=10.75]', '\" king\"[p=0.02, l=10.75]', '\" engineer\"[p=0.02, l=10.62]', '\" Stephen\"[p=0.02, l=10.62]']\n",
      "token_idx=38 [\" King\"] => ['\" programmer\"[p=0.19, l=13.38]', '\" writer\"[p=0.13, l=13.00]', '\" software\"[p=0.09, l=12.62]', '\" author\"[p=0.05, l=12.06]', '\" computer\"[p=0.04, l=11.81]', '\" unknown\"[p=0.03, l=11.69]', '\" None\"[p=0.03, l=11.56]', '\" novelist\"[p=0.02, l=11.19]', '\" developer\"[p=0.02, l=10.94]', '\" (\"[p=0.01, l=10.81]', '\" none\"[p=0.01, l=10.81]', '\"?\\n\"[p=0.01, l=10.75]', '\" not\"[p=0.01, l=10.69]', '\" null\"[p=0.01, l=10.56]', '\" actor\"[p=0.01, l=10.38]']\n",
      "\n",
      "\" Novak Djokovic\" | cur_rng=(40, 45)\n",
      "token_idx=40 [\" Nov\"] => ['\" programmer\"[p=0.16, l=11.75]', '\" software\"[p=0.05, l=10.56]', '\" computer\"[p=0.03, l=10.19]', '\" programming\"[p=0.03, l=10.06]', '\" developer\"[p=0.03, l=10.00]', '\" musician\"[p=0.02, l=9.69]', '\"?\\n\"[p=0.02, l=9.69]', '\"??\"[p=0.02, l=9.56]', '\" unknown\"[p=0.01, l=9.12]', '\" hacker\"[p=0.01, l=9.12]', '\" actor\"[p=0.01, l=9.06]', '\" singer\"[p=0.01, l=8.88]', '\"?\"[p=0.01, l=8.75]', '\" a\"[p=0.01, l=8.75]', '\" web\"[p=0.01, l=8.75]']\n",
      "token_idx=41 [\"ak\"] => ['\" tennis\"[p=0.31, l=14.50]', '\" software\"[p=0.12, l=13.56]', '\" programmer\"[p=0.08, l=13.19]', '\" musician\"[p=0.07, l=13.06]', '\"?\"[p=0.03, l=12.00]', '\"?\\n\"[p=0.02, l=11.94]', '\"??\"[p=0.02, l=11.88]', '\" computer\"[p=0.02, l=11.81]', '\" Dj\"[p=0.02, l=11.69]', '\"?,\"[p=0.01, l=11.00]', '\" developer\"[p=0.01, l=10.81]', '\" something\"[p=0.01, l=10.81]', '\"???\"[p=0.01, l=10.75]', '\" professional\"[p=0.01, l=10.62]', '\" DJ\"[p=0.01, l=10.56]']\n",
      "token_idx=42 [\" Dj\"] => ['\" programmer\"[p=0.06, l=10.44]', '\" programming\"[p=0.04, l=9.94]', '\" text\"[p=0.04, l=9.88]', '\" keyboard\"[p=0.02, l=9.50]', '\" computer\"[p=0.02, l=9.44]', '\" tennis\"[p=0.02, l=9.19]', '\" software\"[p=0.02, l=9.12]', '\"?\\n\"[p=0.02, l=9.12]', '\" command\"[p=0.01, l=8.88]', '\" input\"[p=0.01, l=8.62]', '\" editor\"[p=0.01, l=8.62]', '\" pre\"[p=0.01, l=8.62]', '\"??\"[p=0.01, l=8.56]', '\" file\"[p=0.01, l=8.56]', '\" string\"[p=0.01, l=8.44]']\n",
      "token_idx=43 [\"ok\"] => ['\" tennis\"[p=0.25, l=13.25]', '\" programmer\"[p=0.12, l=12.50]', '\" programming\"[p=0.05, l=11.62]', '\" chess\"[p=0.05, l=11.62]', '\" software\"[p=0.04, l=11.50]', '\" computer\"[p=0.03, l=11.19]', '\" musician\"[p=0.01, l=10.44]', '\" soccer\"[p=0.01, l=10.25]', '\" game\"[p=0.01, l=10.25]', '\" sport\"[p=0.01, l=10.19]', '\" basketball\"[p=0.01, l=10.12]', '\"?\\n\"[p=0.01, l=9.94]', '\" football\"[p=0.01, l=9.69]', '\" compiler\"[p=0.01, l=9.56]', '\" search\"[p=0.01, l=9.44]']\n",
      "token_idx=44 [\"ovic\"] => ['\"?\\n\"[p=0.07, l=11.31]', '\" unknown\"[p=0.06, l=11.12]', '\" None\"[p=0.04, l=10.69]', '\" none\"[p=0.03, l=10.56]', '\" empty\"[p=0.03, l=10.56]', '\" computer\"[p=0.03, l=10.44]', '\" programmer\"[p=0.03, l=10.38]', '\"?\\n\\n\"[p=0.02, l=10.31]', '\"?\"[p=0.02, l=10.25]', '\" software\"[p=0.02, l=10.25]', '\" profession\"[p=0.02, l=10.12]', '\" (\"[p=0.02, l=9.94]', '\" not\"[p=0.01, l=9.81]', '\" person\"[p=0.01, l=9.62]', '\" ->\"[p=0.01, l=9.62]']\n",
      "======================================================================================================================================================\n"
     ]
    }
   ],
   "source": [
    "from src.functional import patchscope, get_hs\n",
    "from itertools import product\n",
    "\n",
    "pred_range = (-2, 0)\n",
    "token_ranges = [pred_range, subj_range] + option_ranges\n",
    "token_indices = []\n",
    "for rng in token_ranges:\n",
    "    token_indices.extend(list(range(rng[0], rng[1])))\n",
    "\n",
    "layers = mt.layer_names\n",
    "locations = list(product(layers, token_indices))\n",
    "\n",
    "hs = get_hs(mt=mt, input=tokenized, locations=locations, patches=[], return_dict=True)\n",
    "\n",
    "\n",
    "########################################################################\n",
    "context_prof = \"\"\"Name of a person -> their profession\n",
    "Albert Einstein -> physicist\n",
    "Michael Jordan -> basketball player\n",
    "Jack Ma -> entrepreneur\n",
    "placeholder ->\"\"\"\n",
    "\n",
    "patch_layers = [5]\n",
    "patch_layers = [mt.layer_name_format.format(idx) for idx in patch_layers]\n",
    "########################################################################\n",
    "\n",
    "context = context_prof\n",
    "context_tok = prepare_input(\n",
    "    prompts=context_prof, tokenizer=mt, return_offsets_mapping=True\n",
    ")\n",
    "cxt_offset_mapping = context_tok.pop(\"offset_mapping\")[0]\n",
    "\n",
    "h_idx = (\n",
    "    find_token_range(\n",
    "        string=context,\n",
    "        substring=\"placeholder\",\n",
    "        offset_mapping=cxt_offset_mapping,\n",
    "        tokenizer=mt.tokenizer,\n",
    "        occurrence=-1,\n",
    "    )[1]\n",
    "    - 1\n",
    ")\n",
    "\n",
    "for layer in mt.layer_names[::3]:\n",
    "    print(f\"\\n{layer=}\")\n",
    "    for cur_rng in token_ranges:\n",
    "        print(\n",
    "            f'\\n\"{mt.tokenizer.decode(tokenized.input_ids[0][range(*cur_rng)])}\" | {cur_rng=}'\n",
    "        )\n",
    "        for token_idx in range(cur_rng[0], cur_rng[1]):\n",
    "            token = mt.tokenizer.decode(tokenized.input_ids[0][token_idx])\n",
    "            ll_pred = patchscope(\n",
    "                mt=mt,\n",
    "                h=hs[(layer, token_idx)],\n",
    "                context=context,\n",
    "                placeholder=\"placeholder\",\n",
    "                context_tokenized=context_tok,\n",
    "                placeholder_idx=h_idx,\n",
    "                patch_layers=patch_layers,\n",
    "                k=15,\n",
    "            )\n",
    "            ll_fmt = [\n",
    "                f'\"{pred.token}\"[p={pred.prob:.2f}, l={pred.logit:.2f}]'\n",
    "                for pred in ll_pred\n",
    "            ]\n",
    "            print(f'{token_idx=} [\"{token}\"] => {ll_fmt}')\n",
    "\n",
    "    print(\"=\" * 150)"
   ]
  },
  {
   "cell_type": "code",
   "execution_count": null,
   "id": "73a96a4e",
   "metadata": {},
   "outputs": [],
   "source": []
  }
 ],
 "metadata": {
  "kernelspec": {
   "display_name": "connection",
   "language": "python",
   "name": "python3"
  },
  "language_info": {
   "codemirror_mode": {
    "name": "ipython",
    "version": 3
   },
   "file_extension": ".py",
   "mimetype": "text/x-python",
   "name": "python",
   "nbconvert_exporter": "python",
   "pygments_lexer": "ipython3",
   "version": "3.11.11"
  }
 },
 "nbformat": 4,
 "nbformat_minor": 5
}
