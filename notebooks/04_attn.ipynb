{
 "cells": [
  {
   "cell_type": "code",
   "execution_count": 1,
   "id": "24260918",
   "metadata": {},
   "outputs": [],
   "source": [
    "%load_ext autoreload\n",
    "%autoreload 2"
   ]
  },
  {
   "cell_type": "code",
   "execution_count": 2,
   "id": "c5783b3a",
   "metadata": {},
   "outputs": [
    {
     "name": "stdout",
     "output_type": "stream",
     "text": [
      "2025-07-23 12:02:29 __main__ INFO     torch.__version__='2.7.0+cu126', torch.version.cuda='12.6'\n",
      "2025-07-23 12:02:29 __main__ INFO     torch.cuda.is_available()=True, torch.cuda.device_count()=8, torch.cuda.get_device_name()='NVIDIA A100 80GB PCIe'\n",
      "2025-07-23 12:02:29 __main__ INFO     transformers.__version__='4.51.3'\n"
     ]
    }
   ],
   "source": [
    "import os\n",
    "import json\n",
    "\n",
    "import sys\n",
    "\n",
    "sys.path.append(\"../\")\n",
    "\n",
    "##################################################################\n",
    "os.environ[\"TOKENIZERS_PARALLELISM\"] = \"false\"\n",
    "os.environ[\"CUDA_VISIBLE_DEVICES\"] = \"0,1,2,3,4,5,6,7\"\n",
    "##################################################################\n",
    "\n",
    "import logging\n",
    "from src.utils import logging_utils\n",
    "from src.utils import env_utils\n",
    "\n",
    "logger = logging.getLogger(__name__)\n",
    "\n",
    "logging.basicConfig(\n",
    "    level=logging.DEBUG,\n",
    "    format=logging_utils.DEFAULT_FORMAT,\n",
    "    datefmt=logging_utils.DEFAULT_DATEFMT,\n",
    "    stream=sys.stdout,\n",
    ")\n",
    "\n",
    "import torch\n",
    "import transformers\n",
    "\n",
    "logger.info(f\"{torch.__version__=}, {torch.version.cuda=}\")\n",
    "logger.info(\n",
    "    f\"{torch.cuda.is_available()=}, {torch.cuda.device_count()=}, {torch.cuda.get_device_name()=}\"\n",
    ")\n",
    "logger.info(f\"{transformers.__version__=}\")"
   ]
  },
  {
   "cell_type": "code",
   "execution_count": 3,
   "id": "1cc6a601",
   "metadata": {},
   "outputs": [
    {
     "name": "stdout",
     "output_type": "stream",
     "text": [
      "[2025-07-23 12:02:31,867] [INFO] [real_accelerator.py:239:get_accelerator] Setting ds_accelerator to cuda (auto detect)\n",
      "2025-07-23 12:02:31 root INFO     gcc -pthread -B /disk/u/arnab/miniconda3/envs/connection/compiler_compat -DNDEBUG -fwrapv -O2 -Wall -fPIC -O2 -isystem /disk/u/arnab/miniconda3/envs/connection/include -fPIC -O2 -isystem /disk/u/arnab/miniconda3/envs/connection/include -fPIC -c /tmp/tmp1rgkrkol/test.c -o /tmp/tmp1rgkrkol/test.o\n",
      "2025-07-23 12:02:31 root INFO     gcc -pthread -B /disk/u/arnab/miniconda3/envs/connection/compiler_compat /tmp/tmp1rgkrkol/test.o -laio -o /tmp/tmp1rgkrkol/a.out\n"
     ]
    },
    {
     "name": "stderr",
     "output_type": "stream",
     "text": [
      "/disk/u/arnab/miniconda3/envs/connection/compiler_compat/ld: cannot find -laio: No such file or directory\n",
      "collect2: error: ld returned 1 exit status\n"
     ]
    },
    {
     "name": "stdout",
     "output_type": "stream",
     "text": [
      "2025-07-23 12:02:32 root INFO     gcc -pthread -B /disk/u/arnab/miniconda3/envs/connection/compiler_compat -DNDEBUG -fwrapv -O2 -Wall -fPIC -O2 -isystem /disk/u/arnab/miniconda3/envs/connection/include -fPIC -O2 -isystem /disk/u/arnab/miniconda3/envs/connection/include -fPIC -c /tmp/tmpwnsi6xit/test.c -o /tmp/tmpwnsi6xit/test.o\n",
      "2025-07-23 12:02:32 root INFO     gcc -pthread -B /disk/u/arnab/miniconda3/envs/connection/compiler_compat /tmp/tmpwnsi6xit/test.o -L/usr -L/usr/lib64 -lcufile -o /tmp/tmpwnsi6xit/a.out\n"
     ]
    },
    {
     "name": "stderr",
     "output_type": "stream",
     "text": [
      "/disk/u/arnab/miniconda3/envs/connection/compiler_compat/ld: cannot find -lcufile: No such file or directory\n",
      "collect2: error: ld returned 1 exit status\n"
     ]
    },
    {
     "name": "stdout",
     "output_type": "stream",
     "text": [
      "2025-07-23 12:02:33 git.cmd DEBUG    Popen(['git', 'version'], cwd=/disk/u/arnab/Codes/Projects/retrieval/notebooks, stdin=None, shell=False, universal_newlines=False)\n",
      "2025-07-23 12:02:33 git.cmd DEBUG    Popen(['git', 'version'], cwd=/disk/u/arnab/Codes/Projects/retrieval/notebooks, stdin=None, shell=False, universal_newlines=False)\n",
      "2025-07-23 12:02:33 wandb.docker.auth DEBUG    Trying paths: ['/disk/u/arnab/.docker/config.json', '/disk/u/arnab/.dockercfg']\n",
      "2025-07-23 12:02:33 wandb.docker.auth DEBUG    No config file found\n"
     ]
    }
   ],
   "source": [
    "from src.utils.training_utils import get_device_map\n",
    "\n",
    "# model_key = \"meta-llama/Llama-3.2-3B\"\n",
    "# model_key = \"meta-llama/Llama-3.1-8B\"\n",
    "model_key = \"meta-llama/Llama-3.3-70B-Instruct\"\n",
    "# model_key = \"meta-llama/Llama-3.1-405B-Instruct\"\n",
    "\n",
    "# model_key = \"google/gemma-2-9b-it\"\n",
    "# model_key = \"google/gemma-3-12b-it\"\n",
    "# model_key = \"google/gemma-2-27b-it\"\n",
    "\n",
    "# model_key = \"deepseek-ai/DeepSeek-R1-Distill-Llama-8B\"\n",
    "\n",
    "# model_key = \"allenai/OLMo-2-1124-7B-Instruct\"\n",
    "# model_key = \"allenai/OLMo-7B-0424-hf\"\n",
    "\n",
    "# model_key = \"Qwen/Qwen2-7B\"\n",
    "# model_key = \"Qwen/Qwen2.5-14B-Instruct\"\n",
    "# model_key = \"Qwen/Qwen2.5-32B-Instruct\"\n",
    "# model_key = \"Qwen/Qwen2.5-72B-Instruct\"\n",
    "\n",
    "# model_key = \"Qwen/Qwen3-1.7B\"\n",
    "# model_key = \"Qwen/Qwen3-4B\"\n",
    "# model_key = \"Qwen/Qwen3-8B\"\n",
    "# model_key = \"Qwen/Qwen3-14B\"\n",
    "# model_key = \"Qwen/Qwen3-32B\"\n",
    "\n",
    "# device_map = get_device_map(model_key, 30, n_gpus=8)\n",
    "# device_map"
   ]
  },
  {
   "cell_type": "code",
   "execution_count": 4,
   "id": "998bc0c4",
   "metadata": {},
   "outputs": [],
   "source": [
    "# os.environ[\"BNB_CUDA_VERSION\"] = \"124\"\n",
    "# ! echo $BNB_CUDA_VERSION\n",
    "# ! python -m bitsandbytes"
   ]
  },
  {
   "cell_type": "code",
   "execution_count": 5,
   "id": "dacaf064",
   "metadata": {},
   "outputs": [
    {
     "name": "stdout",
     "output_type": "stream",
     "text": [
      "2025-07-23 12:02:34 src.models WARNING  meta-llama/Llama-3.3-70B-Instruct not found in /disk/u/arnab/Codes/Models\n",
      "If not found in cache, model will be downloaded from HuggingFace to cache directory\n",
      "2025-07-23 12:02:34 urllib3.connectionpool DEBUG    Starting new HTTPS connection (1): huggingface.co:443\n"
     ]
    },
    {
     "name": "stdout",
     "output_type": "stream",
     "text": [
      "2025-07-23 12:02:34 urllib3.connectionpool DEBUG    https://huggingface.co:443 \"HEAD /meta-llama/Llama-3.3-70B-Instruct/resolve/main/config.json HTTP/1.1\" 200 0\n",
      "2025-07-23 12:02:34 urllib3.connectionpool DEBUG    https://huggingface.co:443 \"HEAD /meta-llama/Llama-3.3-70B-Instruct/resolve/main/tokenizer_config.json HTTP/1.1\" 200 0\n"
     ]
    },
    {
     "data": {
      "application/vnd.jupyter.widget-view+json": {
       "model_id": "a8db7548fadc49e39095e47c2ee6d7c9",
       "version_major": 2,
       "version_minor": 0
      },
      "text/plain": [
       "Loading checkpoint shards:   0%|          | 0/30 [00:00<?, ?it/s]"
      ]
     },
     "metadata": {},
     "output_type": "display_data"
    },
    {
     "name": "stdout",
     "output_type": "stream",
     "text": [
      "2025-07-23 12:03:22 urllib3.connectionpool DEBUG    https://huggingface.co:443 \"HEAD /meta-llama/Llama-3.3-70B-Instruct/resolve/main/generation_config.json HTTP/1.1\" 200 0\n",
      "2025-07-23 12:03:23 src.models INFO     loaded model <meta-llama/Llama-3.3-70B-Instruct> | size: 134570.516 MB | dtype: torch.bfloat16 | device: cuda:0\n"
     ]
    }
   ],
   "source": [
    "from src.models import ModelandTokenizer\n",
    "\n",
    "# from transformers import BitsAndBytesConfig\n",
    "\n",
    "mt = ModelandTokenizer(\n",
    "    model_key=model_key,\n",
    "    torch_dtype=torch.bfloat16,\n",
    "    # device_map=device_map,\n",
    "    device_map=\"auto\",\n",
    "    # quantization_config = BitsAndBytesConfig(\n",
    "    #     # load_in_4bit=True\n",
    "    #     load_in_8bit=True\n",
    "    # )\n",
    ")"
   ]
  },
  {
   "cell_type": "code",
   "execution_count": 6,
   "id": "fb1ec0ca",
   "metadata": {},
   "outputs": [
    {
     "name": "stdout",
     "output_type": "stream",
     "text": [
      "['trainable_params.pt']\n"
     ]
    },
    {
     "data": {
      "text/plain": [
       "tensor(0.0010, dtype=torch.bfloat16, grad_fn=<MaxBackward1>)"
      ]
     },
     "execution_count": 6,
     "metadata": {},
     "output_type": "execute_result"
    }
   ],
   "source": [
    "from src.functional import free_gpu_cache\n",
    "\n",
    "# SYNTH_DATASET = \"icosahedron_1\"\n",
    "SYNTH_DATASET = \"64\"\n",
    "\n",
    "checkpoint_path = os.path.join(\n",
    "    env_utils.DEFAULT_RESULTS_DIR,\n",
    "    \"trained_params\",\n",
    "    f\"{SYNTH_DATASET}\",\n",
    "    \"_full__clamp=0.001\",\n",
    "    model_key.split(\"/\")[-1],\n",
    ")\n",
    "\n",
    "version = \"epoch_1\"\n",
    "# version = \"final_model\"\n",
    "\n",
    "checkpoint_path = os.path.join(env_utils.DEFAULT_RESULTS_DIR, checkpoint_path, version)\n",
    "\n",
    "print(os.listdir(checkpoint_path))\n",
    "\n",
    "checkpoint_path = os.path.join(checkpoint_path, \"trainable_params.pt\")\n",
    "\n",
    "loaded_deltas = torch.load(checkpoint_path, map_location=\"cpu\")\n",
    "# loaded_deltas\n",
    "\n",
    "free_gpu_cache()\n",
    "\n",
    "\n",
    "d = loaded_deltas[\"model<>layers<>10<>mlp<>gate_proj\"]\n",
    "d.abs().max()"
   ]
  },
  {
   "cell_type": "code",
   "execution_count": 7,
   "id": "22003ab2",
   "metadata": {},
   "outputs": [
    {
     "name": "stdout",
     "output_type": "stream",
     "text": [
      "2025-07-23 12:03:37 src.utils.training_utils DEBUG    module_name='model.layers.0.mlp.gate_proj' | param_delta.shape=torch.Size([28672, 8192])\n",
      "2025-07-23 12:03:37 src.utils.training_utils DEBUG    module_name='model.layers.0.mlp.up_proj' | param_delta.shape=torch.Size([28672, 8192])\n",
      "2025-07-23 12:03:37 src.utils.training_utils DEBUG    module_name='model.layers.0.mlp.down_proj' | param_delta.shape=torch.Size([8192, 28672])\n",
      "2025-07-23 12:03:37 src.utils.training_utils DEBUG    module_name='model.layers.1.mlp.gate_proj' | param_delta.shape=torch.Size([28672, 8192])\n",
      "2025-07-23 12:03:37 src.utils.training_utils DEBUG    module_name='model.layers.1.mlp.up_proj' | param_delta.shape=torch.Size([28672, 8192])\n",
      "2025-07-23 12:03:37 src.utils.training_utils DEBUG    module_name='model.layers.1.mlp.down_proj' | param_delta.shape=torch.Size([8192, 28672])\n",
      "2025-07-23 12:03:37 src.utils.training_utils DEBUG    module_name='model.layers.2.mlp.gate_proj' | param_delta.shape=torch.Size([28672, 8192])\n",
      "2025-07-23 12:03:38 src.utils.training_utils DEBUG    module_name='model.layers.2.mlp.up_proj' | param_delta.shape=torch.Size([28672, 8192])\n",
      "2025-07-23 12:03:38 src.utils.training_utils DEBUG    module_name='model.layers.2.mlp.down_proj' | param_delta.shape=torch.Size([8192, 28672])\n",
      "2025-07-23 12:03:38 src.utils.training_utils DEBUG    module_name='model.layers.3.mlp.gate_proj' | param_delta.shape=torch.Size([28672, 8192])\n",
      "2025-07-23 12:03:38 src.utils.training_utils DEBUG    module_name='model.layers.3.mlp.up_proj' | param_delta.shape=torch.Size([28672, 8192])\n",
      "2025-07-23 12:03:38 src.utils.training_utils DEBUG    module_name='model.layers.3.mlp.down_proj' | param_delta.shape=torch.Size([8192, 28672])\n",
      "2025-07-23 12:03:38 src.utils.training_utils DEBUG    module_name='model.layers.4.mlp.gate_proj' | param_delta.shape=torch.Size([28672, 8192])\n",
      "2025-07-23 12:03:38 src.utils.training_utils DEBUG    module_name='model.layers.4.mlp.up_proj' | param_delta.shape=torch.Size([28672, 8192])\n",
      "2025-07-23 12:03:38 src.utils.training_utils DEBUG    module_name='model.layers.4.mlp.down_proj' | param_delta.shape=torch.Size([8192, 28672])\n",
      "2025-07-23 12:03:38 src.utils.training_utils DEBUG    module_name='model.layers.5.mlp.gate_proj' | param_delta.shape=torch.Size([28672, 8192])\n",
      "2025-07-23 12:03:38 src.utils.training_utils DEBUG    module_name='model.layers.5.mlp.up_proj' | param_delta.shape=torch.Size([28672, 8192])\n",
      "2025-07-23 12:03:39 src.utils.training_utils DEBUG    module_name='model.layers.5.mlp.down_proj' | param_delta.shape=torch.Size([8192, 28672])\n",
      "2025-07-23 12:03:39 src.utils.training_utils DEBUG    module_name='model.layers.6.mlp.gate_proj' | param_delta.shape=torch.Size([28672, 8192])\n",
      "2025-07-23 12:03:39 src.utils.training_utils DEBUG    module_name='model.layers.6.mlp.up_proj' | param_delta.shape=torch.Size([28672, 8192])\n",
      "2025-07-23 12:03:39 src.utils.training_utils DEBUG    module_name='model.layers.6.mlp.down_proj' | param_delta.shape=torch.Size([8192, 28672])\n",
      "2025-07-23 12:03:39 src.utils.training_utils DEBUG    module_name='model.layers.7.mlp.gate_proj' | param_delta.shape=torch.Size([28672, 8192])\n",
      "2025-07-23 12:03:39 src.utils.training_utils DEBUG    module_name='model.layers.7.mlp.up_proj' | param_delta.shape=torch.Size([28672, 8192])\n",
      "2025-07-23 12:03:39 src.utils.training_utils DEBUG    module_name='model.layers.7.mlp.down_proj' | param_delta.shape=torch.Size([8192, 28672])\n",
      "2025-07-23 12:03:39 src.utils.training_utils DEBUG    module_name='model.layers.8.mlp.gate_proj' | param_delta.shape=torch.Size([28672, 8192])\n",
      "2025-07-23 12:03:39 src.utils.training_utils DEBUG    module_name='model.layers.8.mlp.up_proj' | param_delta.shape=torch.Size([28672, 8192])\n",
      "2025-07-23 12:03:40 src.utils.training_utils DEBUG    module_name='model.layers.8.mlp.down_proj' | param_delta.shape=torch.Size([8192, 28672])\n",
      "2025-07-23 12:03:40 src.utils.training_utils DEBUG    module_name='model.layers.9.mlp.gate_proj' | param_delta.shape=torch.Size([28672, 8192])\n",
      "2025-07-23 12:03:40 src.utils.training_utils DEBUG    module_name='model.layers.9.mlp.up_proj' | param_delta.shape=torch.Size([28672, 8192])\n",
      "2025-07-23 12:03:40 src.utils.training_utils DEBUG    module_name='model.layers.9.mlp.down_proj' | param_delta.shape=torch.Size([8192, 28672])\n",
      "2025-07-23 12:03:40 src.utils.training_utils DEBUG    module_name='model.layers.10.mlp.gate_proj' | param_delta.shape=torch.Size([28672, 8192])\n",
      "2025-07-23 12:03:40 src.utils.training_utils DEBUG    module_name='model.layers.10.mlp.up_proj' | param_delta.shape=torch.Size([28672, 8192])\n",
      "2025-07-23 12:03:40 src.utils.training_utils DEBUG    module_name='model.layers.10.mlp.down_proj' | param_delta.shape=torch.Size([8192, 28672])\n",
      "2025-07-23 12:03:40 src.utils.training_utils DEBUG    module_name='model.layers.11.mlp.gate_proj' | param_delta.shape=torch.Size([28672, 8192])\n",
      "2025-07-23 12:03:41 src.utils.training_utils DEBUG    module_name='model.layers.11.mlp.up_proj' | param_delta.shape=torch.Size([28672, 8192])\n",
      "2025-07-23 12:03:41 src.utils.training_utils DEBUG    module_name='model.layers.11.mlp.down_proj' | param_delta.shape=torch.Size([8192, 28672])\n",
      "2025-07-23 12:03:41 src.utils.training_utils DEBUG    module_name='model.layers.12.mlp.gate_proj' | param_delta.shape=torch.Size([28672, 8192])\n",
      "2025-07-23 12:03:41 src.utils.training_utils DEBUG    module_name='model.layers.12.mlp.up_proj' | param_delta.shape=torch.Size([28672, 8192])\n",
      "2025-07-23 12:03:41 src.utils.training_utils DEBUG    module_name='model.layers.12.mlp.down_proj' | param_delta.shape=torch.Size([8192, 28672])\n",
      "2025-07-23 12:03:42 src.utils.training_utils DEBUG    module_name='model.layers.13.mlp.gate_proj' | param_delta.shape=torch.Size([28672, 8192])\n",
      "2025-07-23 12:03:42 src.utils.training_utils DEBUG    module_name='model.layers.13.mlp.up_proj' | param_delta.shape=torch.Size([28672, 8192])\n",
      "2025-07-23 12:03:42 src.utils.training_utils DEBUG    module_name='model.layers.13.mlp.down_proj' | param_delta.shape=torch.Size([8192, 28672])\n",
      "2025-07-23 12:03:42 src.utils.training_utils DEBUG    module_name='model.layers.14.mlp.gate_proj' | param_delta.shape=torch.Size([28672, 8192])\n",
      "2025-07-23 12:03:42 src.utils.training_utils DEBUG    module_name='model.layers.14.mlp.up_proj' | param_delta.shape=torch.Size([28672, 8192])\n",
      "2025-07-23 12:03:43 src.utils.training_utils DEBUG    module_name='model.layers.14.mlp.down_proj' | param_delta.shape=torch.Size([8192, 28672])\n"
     ]
    }
   ],
   "source": [
    "from src.utils.training_utils import TrainableLM_delta, TrainableLM_LoRA\n",
    "\n",
    "#################################################\n",
    "Trainable_CLS = TrainableLM_delta\n",
    "# Trainable_CLS = TrainableLM_LoRA\n",
    "#################################################\n",
    "\n",
    "Trainable_CLS.fuse_with_model(mt._model, loaded_deltas)"
   ]
  },
  {
   "cell_type": "code",
   "execution_count": 8,
   "id": "b7d5ca30",
   "metadata": {},
   "outputs": [
    {
     "name": "stdout",
     "output_type": "stream",
     "text": [
      "2025-07-23 12:03:44 src.selection.data INFO     Loaded 16 categories\n"
     ]
    },
    {
     "data": {
      "text/plain": [
       "['actor',\n",
       " 'singer',\n",
       " 'comedian',\n",
       " 'director',\n",
       " 'basketball player',\n",
       " 'football player',\n",
       " 'soccer player',\n",
       " 'tennis player',\n",
       " 'golfer',\n",
       " 'boxer',\n",
       " 'news anchor',\n",
       " 'journalist',\n",
       " 'author',\n",
       " 'fashion designer',\n",
       " 'entrepreneur',\n",
       " 'politician']"
      ]
     },
     "execution_count": 8,
     "metadata": {},
     "output_type": "execute_result"
    }
   ],
   "source": [
    "from src.selection.data  import load_people_by_category\n",
    "\n",
    "people_by_category = load_people_by_category(tokenizer = mt.tokenizer)\n",
    "list(people_by_category.keys())"
   ]
  },
  {
   "cell_type": "code",
   "execution_count": 207,
   "id": "9f6e1451",
   "metadata": {},
   "outputs": [],
   "source": [
    "import copy\n",
    "import random\n",
    "from src.selection.utils import KeyedSet, get_first_token_id\n",
    "from src.selection.data import SelectionSample\n",
    "from src.functional import predict_next_token\n",
    "\n",
    "######################################################################\n",
    "N_DISTRACTORS = 5\n",
    "WINDOW_SPEC = {\n",
    "    mt.layer_name_format: 1,\n",
    "    mt.mlp_module_name_format: 9,\n",
    "    mt.attn_module_name_format: 9,\n",
    "}\n",
    "module_name_format = mt.layer_name_format\n",
    "# module_name_format = mt.mlp_module_name_format\n",
    "# module_name_format = mt.attn_module_name_format\n",
    "\n",
    "######################################################################\n",
    "\n",
    "def get_counterfactual_samples_on_pivot_entity():\n",
    "    patch_category = random.choice(list(people_by_category.keys()))\n",
    "    patch_subj, patch_obj = random.sample(people_by_category[patch_category].values, 2)\n",
    "    logger.info(\n",
    "        f\"Patch category: {patch_category}, subject: {patch_subj}, object: {patch_obj}\"\n",
    "    )\n",
    "\n",
    "    clean_category = random.choice(\n",
    "        list(set(people_by_category.keys()) - {patch_category})\n",
    "    )\n",
    "    clean_subj, clean_obj = random.sample(people_by_category[clean_category].values, 2)\n",
    "    logger.info(\n",
    "        f\"Clean category: {clean_category}, subject: {clean_subj}, object: {clean_obj}\"\n",
    "    )\n",
    "\n",
    "    distractors = []\n",
    "    other_categories = random.sample(\n",
    "        list(set(people_by_category.keys()) - {patch_category, clean_category}),\n",
    "        k=N_DISTRACTORS - 1,\n",
    "    )\n",
    "\n",
    "    for other_category in other_categories:\n",
    "        distractors.append(\n",
    "            random.choice(\n",
    "                (\n",
    "                    people_by_category[other_category]\n",
    "                    - KeyedSet(\n",
    "                        [patch_obj, clean_obj] + distractors, tokenizer=mt.tokenizer\n",
    "                    )\n",
    "                ).values\n",
    "            )\n",
    "        )\n",
    "\n",
    "    patch_options = [patch_obj, clean_obj] + distractors\n",
    "    random.shuffle(patch_options)\n",
    "    patch_obj_idx = patch_options.index(patch_obj)\n",
    "    logger.info(f\"{patch_obj_idx=} | {patch_options}\")\n",
    "\n",
    "    clean_options = copy.deepcopy(patch_options)\n",
    "    while (\n",
    "        clean_options.index(clean_obj) == patch_obj_idx\n",
    "        or clean_options.index(patch_obj) == patch_obj_idx\n",
    "    ):\n",
    "        random.shuffle(clean_options)\n",
    "\n",
    "    clean_obj_idx = clean_options.index(clean_obj)\n",
    "\n",
    "    logger.info(f\"{clean_obj_idx=} | {clean_options}\")\n",
    "\n",
    "    patch_sample = SelectionSample(\n",
    "        subj=patch_subj,\n",
    "        obj=patch_obj,\n",
    "        obj_idx=patch_obj_idx,\n",
    "        obj_token_id=get_first_token_id(patch_obj, mt.tokenizer, prefix=\" \"),\n",
    "        options=patch_options,\n",
    "        metadata={\"category\": patch_category},\n",
    "    )\n",
    "    clean_sample = SelectionSample(\n",
    "        subj=clean_subj,\n",
    "        obj=clean_obj,\n",
    "        obj_idx=clean_obj_idx,\n",
    "        obj_token_id=get_first_token_id(clean_obj, mt.tokenizer, prefix=\" \"),\n",
    "        options=clean_options,\n",
    "        metadata={\n",
    "            \"category\": clean_category,\n",
    "        },\n",
    "    )\n",
    "\n",
    "    for sample in [patch_sample, clean_sample]:\n",
    "        pred = predict_next_token(\n",
    "            mt=mt,\n",
    "            inputs=sample.prompt,\n",
    "        )[0]\n",
    "        logger.info(f\"{sample.subj} -> {sample.obj} | pred={[str(p) for p in pred]}\")\n",
    "        if pred[0].token_id != sample.obj_token_id:\n",
    "            logger.error(\n",
    "                f'Prediction mismatch: {pred[0].token_id}[\"{mt.tokenizer.decode(pred[0].token_id)}\"] != {sample.obj_token_id}[\"{mt.tokenizer.decode(sample.obj_token_id)}\"]'\n",
    "            )\n",
    "            return get_counterfactual_samples_on_pivot_entity()\n",
    "        sample.prediction = pred\n",
    "\n",
    "    return patch_sample, clean_sample"
   ]
  },
  {
   "cell_type": "code",
   "execution_count": 208,
   "id": "8afae324",
   "metadata": {},
   "outputs": [
    {
     "name": "stdout",
     "output_type": "stream",
     "text": [
      "2025-07-23 14:43:56 __main__ INFO     Patch category: politician, subject: Barack Obama, object: Ron DeSantis\n",
      "2025-07-23 14:43:56 __main__ INFO     Clean category: fashion designer, subject: Michael Kors, object: Demna Gvasalia\n"
     ]
    },
    {
     "name": "stdout",
     "output_type": "stream",
     "text": [
      "2025-07-23 14:43:56 __main__ INFO     patch_obj_idx=5 | ['Demna Gvasalia', 'Danielle Steel', 'Dak Prescott', 'Deontay Wilder', 'James Cameron', 'Ron DeSantis']\n",
      "2025-07-23 14:43:56 __main__ INFO     clean_obj_idx=1 | ['Danielle Steel', 'Demna Gvasalia', 'James Cameron', 'Deontay Wilder', 'Ron DeSantis', 'Dak Prescott']\n",
      "2025-07-23 14:43:57 __main__ INFO     Barack Obama -> Ron DeSantis | pred=['\" Ron\"[14662] (p=0.406, logit=18.625)', '\" Barack\"[24448] (p=0.170, logit=17.750)', '\" None\"[2290] (p=0.103, logit=17.250)', '\" The\"[578] (p=0.055, logit=16.625)', '\" James\"[7957] (p=0.043, logit=16.375)']\n",
      "2025-07-23 14:43:57 __main__ INFO     Michael Kors -> Demna Gvasalia | pred=['\" Dem\"[4829] (p=0.820, logit=20.375)', '\" The\"[578] (p=0.041, logit=17.375)', '\" Michael\"[8096] (p=0.028, logit=17.000)', '\" Danielle\"[72716] (p=0.025, logit=16.875)', '\" D\"[423] (p=0.017, logit=16.500)']\n",
      "Which person from the following list has the profession in common with Barack Obama?\n",
      "Options: Demna Gvasalia, Danielle Steel, Dak Prescott, Deontay Wilder, James Cameron, Ron DeSantis\n",
      "Ans:  >>  \"Ron DeSantis\"\n",
      "['\" Ron\"[14662] (p=0.406, logit=18.625)', '\" Barack\"[24448] (p=0.170, logit=17.750)', '\" None\"[2290] (p=0.103, logit=17.250)', '\" The\"[578] (p=0.055, logit=16.625)', '\" James\"[7957] (p=0.043, logit=16.375)']\n",
      "Which person from the following list has the profession in common with Michael Kors?\n",
      "Options: Danielle Steel, Demna Gvasalia, James Cameron, Deontay Wilder, Ron DeSantis, Dak Prescott\n",
      "Ans:  >>  \"Demna Gvasalia\"\n",
      "['\" Dem\"[4829] (p=0.820, logit=20.375)', '\" The\"[578] (p=0.041, logit=17.375)', '\" Michael\"[8096] (p=0.028, logit=17.000)', '\" Danielle\"[72716] (p=0.025, logit=16.875)', '\" D\"[423] (p=0.017, logit=16.500)']\n"
     ]
    }
   ],
   "source": [
    "from src.selection.data import SelectionSample, get_random_sample\n",
    "\n",
    "patch_sample, clean_sample = get_counterfactual_samples_on_pivot_entity()\n",
    "\n",
    "print(patch_sample.prompt, \" >> \", f'\"{patch_sample.obj}\"')\n",
    "print(f\"{[str(p) for p in patch_sample.prediction]}\")\n",
    "print(clean_sample.prompt, \" >> \", f'\"{clean_sample.obj}\"')\n",
    "print(f\"{[str(p) for p in clean_sample.prediction]}\")"
   ]
  },
  {
   "cell_type": "code",
   "execution_count": 209,
   "id": "d2cd49bf",
   "metadata": {},
   "outputs": [],
   "source": [
    "# patch_sample, clean_sample = clean_sample, patch_sample"
   ]
  },
  {
   "cell_type": "code",
   "execution_count": 210,
   "id": "4226d7f7",
   "metadata": {},
   "outputs": [],
   "source": [
    "from src.tokens import prepare_input\n",
    "from src.utils.typing import TokenizerOutput\n",
    "\n",
    "clean_tokenized = prepare_input(\n",
    "    tokenizer=mt,\n",
    "    prompts=clean_sample.prompt,\n",
    "    return_offsets_mapping=True\n",
    ")\n",
    "\n",
    "patch_tokenized = prepare_input(\n",
    "    tokenizer=mt,\n",
    "    prompts=patch_sample.prompt,\n",
    "    return_offsets_mapping=True\n",
    ")"
   ]
  },
  {
   "cell_type": "markdown",
   "id": "aac62b51",
   "metadata": {},
   "source": [
    "## ATTN module patterns (layerwise average of heads)"
   ]
  },
  {
   "cell_type": "code",
   "execution_count": 211,
   "id": "e61da235",
   "metadata": {},
   "outputs": [
    {
     "name": "stdout",
     "output_type": "stream",
     "text": [
      "layer=35\n"
     ]
    },
    {
     "data": {
      "text/html": [
       "<div id=\"circuits-vis-5bda3a60-acf2\" style=\"margin: 15px 0;\"/>\n",
       "    <script crossorigin type=\"module\">\n",
       "    import { render, ColoredTokens } from \"https://unpkg.com/circuitsvis@1.43.3/dist/cdn/esm.js\";\n",
       "    render(\n",
       "      \"circuits-vis-5bda3a60-acf2\",\n",
       "      ColoredTokens,\n",
       "      {\"tokens\": [\"Which\", \" person\", \" from\", \" the\", \" following\", \" list\", \" has\", \" the\", \" profession\", \" in\", \" common\", \" with\", \" Michael\", \" K\", \"ors\", \"?\\n\", \"Options\", \":\", \" Danielle\", \" Steel\", \",\", \" Dem\", \"na\", \" G\", \"vas\", \"alia\", \",\", \" James\", \" Cameron\", \",\", \" De\", \"ont\", \"ay\", \" Wild\", \"er\", \",\", \" Ron\", \" De\", \"S\", \"antis\", \",\", \" Dak\", \" Prescott\", \"\\n\", \"Ans\", \":\"], \"values\": [0.022269010543823242, 0.007733896374702454, 0.005373716354370117, 0.003964230418205261, 0.006156906485557556, 0.006493698805570602, 0.0071303267031908035, 0.0012156367301940918, 0.014418505132198334, 0.0029061734676361084, 0.017353393137454987, 0.006634600460529327, 0.01821961998939514, 0.00315147265791893, 0.01576794683933258, 0.03212970495223999, 0.0068593379110097885, 0.011320829391479492, 0.005827948451042175, 0.009189128875732422, 0.031378328800201416, 0.004882119596004486, 0.007349617779254913, 0.020396828651428223, 0.0015287683345377445, 0.02908269688487053, 0.06383568048477173, 0.0038451924920082092, 0.006573393940925598, 0.012104570865631104, 0.002659723162651062, 0.0004743747413158417, 0.001420922577381134, 0.000890856608748436, 0.007235482335090637, 0.007330179214477539, 0.0016462747007608414, 0.0010398104786872864, 0.0005831504240632057, 0.005662247538566589, 0.00504148006439209, 0.002009030431509018, 0.003147609531879425, 0.02350667119026184, 0.017987309023737907, 0.0499880313873291]}\n",
       "    )\n",
       "    </script>"
      ],
      "text/plain": [
       "<circuitsvis.utils.render.RenderedHTML at 0x7f53a05b7710>"
      ]
     },
     "metadata": {},
     "output_type": "display_data"
    },
    {
     "name": "stdout",
     "output_type": "stream",
     "text": [
      "--------------------------------------------------------------------------------\n"
     ]
    },
    {
     "data": {
      "text/plain": [
       "[PredictedToken(token=' Dem', prob=0.83203125, logit=20.5, token_id=4829, metadata=None),\n",
       " PredictedToken(token=' The', prob=0.03662109375, logit=17.375, token_id=578, metadata=None),\n",
       " PredictedToken(token=' Michael', prob=0.025146484375, logit=17.0, token_id=8096, metadata=None),\n",
       " PredictedToken(token=' Danielle', prob=0.025146484375, logit=17.0, token_id=72716, metadata=None),\n",
       " PredictedToken(token=' D', prob=0.0152587890625, logit=16.5, token_id=423, metadata=None)]"
      ]
     },
     "execution_count": 211,
     "metadata": {},
     "output_type": "execute_result"
    }
   ],
   "source": [
    "from src.attention import get_attention_matrices\n",
    "from src.functional import interpret_logits\n",
    "from src.attention import visualize_average_attn_matrix\n",
    "\n",
    "\n",
    "clean_attn_matrices = get_attention_matrices(\n",
    "    input=clean_tokenized,\n",
    "    mt=mt,\n",
    "    value_weighted=False,\n",
    "    # patches = []\n",
    ")\n",
    "\n",
    "visualize_average_attn_matrix(\n",
    "    mt=mt,\n",
    "    attn_matrices=clean_attn_matrices,\n",
    "    prompt=clean_sample.prompt,\n",
    "    tokenized=clean_tokenized,\n",
    "    layer_window=range(35, 36),\n",
    ")\n",
    "\n",
    "interpret_logits(tokenizer=mt, logits=clean_attn_matrices.logits)"
   ]
  },
  {
   "cell_type": "code",
   "execution_count": 212,
   "id": "14c99c85",
   "metadata": {},
   "outputs": [],
   "source": [
    "# visualize_average_attn_matrix(\n",
    "#     mt=mt,\n",
    "#     attn_matrices=clean_attn_matrices,\n",
    "#     prompt=clean_sample.prompt,\n",
    "#     tokenized=clean_tokenized,\n",
    "#     layer_window=range(30, 51, 1)\n",
    "# )"
   ]
  },
  {
   "cell_type": "code",
   "execution_count": 213,
   "id": "88b7f689",
   "metadata": {},
   "outputs": [
    {
     "name": "stdout",
     "output_type": "stream",
     "text": [
      "layer=35\n"
     ]
    },
    {
     "data": {
      "text/html": [
       "<div id=\"circuits-vis-16fedc29-67d7\" style=\"margin: 15px 0;\"/>\n",
       "    <script crossorigin type=\"module\">\n",
       "    import { render, ColoredTokens } from \"https://unpkg.com/circuitsvis@1.43.3/dist/cdn/esm.js\";\n",
       "    render(\n",
       "      \"circuits-vis-16fedc29-67d7\",\n",
       "      ColoredTokens,\n",
       "      {\"tokens\": [\"Which\", \" person\", \" from\", \" the\", \" following\", \" list\", \" has\", \" the\", \" profession\", \" in\", \" common\", \" with\", \" Barack\", \" Obama\", \"?\\n\", \"Options\", \":\", \" Dem\", \"na\", \" G\", \"vas\", \"alia\", \",\", \" Danielle\", \" Steel\", \",\", \" Dak\", \" Prescott\", \",\", \" De\", \"ont\", \"ay\", \" Wild\", \"er\", \",\", \" James\", \" Cameron\", \",\", \" Ron\", \" De\", \"S\", \"antis\", \"\\n\", \"Ans\", \":\"], \"values\": [0.023270606994628906, 0.008147329092025757, 0.005677774548530579, 0.003607526421546936, 0.005530420690774918, 0.005488856695592403, 0.004370212554931641, 0.001352926716208458, 0.014491423964500427, 0.0022837594151496887, 0.009878069162368774, 0.003885820508003235, 0.02771580219268799, 0.036447882652282715, 0.015116780996322632, 0.005623256787657738, 0.00993385910987854, 0.008751079440116882, 0.0019104182720184326, 0.0049046725034713745, 0.0007857680320739746, 0.002902090549468994, 0.016835376620292664, 0.003781527280807495, 0.00768280029296875, 0.01299750804901123, 0.010388985276222229, 0.012040257453918457, 0.024263352155685425, 0.009535044431686401, 0.0010154936462640762, 0.0012752041220664978, 0.0010299235582351685, 0.005853697657585144, 0.011299312114715576, 0.008646354079246521, 0.008043766021728516, 0.018980905413627625, 0.006892107427120209, 0.0037759244441986084, 0.010448481887578964, 0.06179073452949524, 0.03953811526298523, 0.013188617303967476, 0.04245150089263916]}\n",
       "    )\n",
       "    </script>"
      ],
      "text/plain": [
       "<circuitsvis.utils.render.RenderedHTML at 0x7f5404164990>"
      ]
     },
     "metadata": {},
     "output_type": "display_data"
    },
    {
     "name": "stdout",
     "output_type": "stream",
     "text": [
      "--------------------------------------------------------------------------------\n"
     ]
    },
    {
     "data": {
      "text/plain": [
       "[PredictedToken(token=' Ron', prob=0.421875, logit=18.625, token_id=14662, metadata=None),\n",
       " PredictedToken(token=' Barack', prob=0.1552734375, logit=17.625, token_id=24448, metadata=None),\n",
       " PredictedToken(token=' None', prob=0.1064453125, logit=17.25, token_id=2290, metadata=None),\n",
       " PredictedToken(token=' The', prob=0.056884765625, logit=16.625, token_id=578, metadata=None),\n",
       " PredictedToken(token=' James', prob=0.04443359375, logit=16.375, token_id=7957, metadata=None)]"
      ]
     },
     "execution_count": 213,
     "metadata": {},
     "output_type": "execute_result"
    }
   ],
   "source": [
    "patch_attn_matrices = get_attention_matrices(\n",
    "    input=patch_tokenized,\n",
    "    mt=mt,\n",
    "    value_weighted=False,\n",
    "    # patches = []\n",
    ")\n",
    "\n",
    "visualize_average_attn_matrix(\n",
    "    mt=mt,\n",
    "    attn_matrices=patch_attn_matrices,\n",
    "    prompt=patch_sample.prompt,\n",
    "    tokenized=patch_tokenized,\n",
    "    layer_window=range(35, 36),\n",
    ")\n",
    "\n",
    "interpret_logits(tokenizer=mt, logits=patch_attn_matrices.logits)"
   ]
  },
  {
   "cell_type": "code",
   "execution_count": 214,
   "id": "816b828b",
   "metadata": {},
   "outputs": [],
   "source": [
    "# visualize_average_attn_matrix(\n",
    "#     mt=mt,\n",
    "#     attn_matrices=patch_attn_matrices,\n",
    "#     prompt=patch_sample.prompt,\n",
    "#     tokenized=patch_tokenized,\n",
    "#     layer_window=range(30, 51, 1)\n",
    "# )"
   ]
  },
  {
   "cell_type": "code",
   "execution_count": 215,
   "id": "3bae9419",
   "metadata": {},
   "outputs": [
    {
     "name": "stdout",
     "output_type": "stream",
     "text": [
      "layer=35\n"
     ]
    },
    {
     "data": {
      "text/html": [
       "<div id=\"circuits-vis-04fb6f3f-5af5\" style=\"margin: 15px 0;\"/>\n",
       "    <script crossorigin type=\"module\">\n",
       "    import { render, ColoredTokens } from \"https://unpkg.com/circuitsvis@1.43.3/dist/cdn/esm.js\";\n",
       "    render(\n",
       "      \"circuits-vis-04fb6f3f-5af5\",\n",
       "      ColoredTokens,\n",
       "      {\"tokens\": [\"Which\", \" person\", \" from\", \" the\", \" following\", \" list\", \" has\", \" the\", \" profession\", \" in\", \" common\", \" with\", \" Michael\", \" K\", \"ors\", \"?\\n\", \"Options\", \":\", \" Danielle\", \" Steel\", \",\", \" Dem\", \"na\", \" G\", \"vas\", \"alia\", \",\", \" James\", \" Cameron\", \",\", \" De\", \"ont\", \"ay\", \" Wild\", \"er\", \",\", \" Ron\", \" De\", \"S\", \"antis\", \",\", \" Dak\", \" Prescott\", \"\\n\", \"Ans\", \":\"], \"values\": [0.02440357208251953, 0.008854866027832031, 0.006047844886779785, 0.0036924779415130615, 0.005592837929725647, 0.005768906325101852, 0.00445251539349556, 0.0014643743634223938, 0.015643224120140076, 0.002342958003282547, 0.010148052126169205, 0.004064388573169708, 0.020483195781707764, 0.004266358911991119, 0.009801745414733887, 0.015342235565185547, 0.00570983812212944, 0.01102900505065918, 0.006096825003623962, 0.008648425340652466, 0.028507769107818604, 0.006525412201881409, 0.0018673986196517944, 0.008795693516731262, 0.0005222372710704803, 0.0060660988092422485, 0.0204145610332489, 0.01842985302209854, 0.020725876092910767, 0.026518583297729492, 0.0041913241147994995, 0.0014569610357284546, 0.0026086196303367615, 0.0017980113625526428, 0.011139988899230957, 0.011453807353973389, 0.003937572240829468, 0.0018108151853084564, 0.0034510288387537003, 0.04545214772224426, 0.02007134258747101, 0.003661341965198517, 0.0076597630977630615, 0.030328452587127686, 0.013693911954760551, 0.04614490270614624]}\n",
       "    )\n",
       "    </script>"
      ],
      "text/plain": [
       "<circuitsvis.utils.render.RenderedHTML at 0x7f53e4568b10>"
      ]
     },
     "metadata": {},
     "output_type": "display_data"
    },
    {
     "name": "stdout",
     "output_type": "stream",
     "text": [
      "--------------------------------------------------------------------------------\n"
     ]
    },
    {
     "data": {
      "text/plain": [
       "[PredictedToken(token=' Dem', prob=0.41796875, logit=18.75, token_id=4829, metadata=None),\n",
       " PredictedToken(token=' Danielle', prob=0.1748046875, logit=17.875, token_id=72716, metadata=None),\n",
       " PredictedToken(token=' None', prob=0.10595703125, logit=17.375, token_id=2290, metadata=None),\n",
       " PredictedToken(token=' Michael', prob=0.09326171875, logit=17.25, token_id=8096, metadata=None),\n",
       " PredictedToken(token=' The', prob=0.044189453125, logit=16.5, token_id=578, metadata=None)]"
      ]
     },
     "execution_count": 215,
     "metadata": {},
     "output_type": "execute_result"
    }
   ],
   "source": [
    "from src.functional import get_hs, PatchSpec\n",
    "from src.attention import get_attention_matrices\n",
    "\n",
    "mt.reset_forward()\n",
    "input_module = mt.layer_name_format.format(35) + \".input_layernorm\"\n",
    "# input_module = mt.layer_name_format.format(34)\n",
    "\n",
    "# predictive_tokens = [-3, -2, -1]\n",
    "predictive_tokens = [-1]\n",
    "\n",
    "patch_hs = get_hs(\n",
    "    mt=mt,\n",
    "    input=patch_tokenized,\n",
    "    locations=[(input_module, tok_idx) for tok_idx in predictive_tokens],\n",
    "    return_dict=True\n",
    ")\n",
    "\n",
    "int_attn_matrices = get_attention_matrices(\n",
    "    input=clean_tokenized,\n",
    "    mt=mt,\n",
    "    value_weighted=False,\n",
    "    patches = [PatchSpec(\n",
    "        location=(input_module, tok_idx),\n",
    "        patch=patch_hs[(input_module, tok_idx)],\n",
    "    ) for tok_idx in predictive_tokens]\n",
    ")\n",
    "\n",
    "visualize_average_attn_matrix(\n",
    "    mt=mt,\n",
    "    attn_matrices=int_attn_matrices,\n",
    "    prompt=clean_sample.prompt,\n",
    "    tokenized=clean_tokenized,\n",
    "    layer_window=range(35, 36),\n",
    ")\n",
    "\n",
    "interpret_logits(tokenizer=mt, logits=int_attn_matrices.logits)"
   ]
  },
  {
   "cell_type": "markdown",
   "id": "23936b4a",
   "metadata": {},
   "source": [
    "### Check if independent processing hypothesis holds\n",
    "#### Because even after patching in inputs, last layer ATTN still gives an amount of attention to the clean obj tokens. Why?"
   ]
  },
  {
   "cell_type": "code",
   "execution_count": 216,
   "id": "f4fa7e45",
   "metadata": {},
   "outputs": [
    {
     "data": {
      "text/plain": [
       "['Danielle Steel',\n",
       " 'Demna Gvasalia',\n",
       " 'James Cameron',\n",
       " 'Deontay Wilder',\n",
       " 'Ron DeSantis',\n",
       " 'Dak Prescott']"
      ]
     },
     "execution_count": 216,
     "metadata": {},
     "output_type": "execute_result"
    }
   ],
   "source": [
    "clean_sample.options"
   ]
  },
  {
   "cell_type": "code",
   "execution_count": 217,
   "id": "7119712a",
   "metadata": {},
   "outputs": [
    {
     "name": "stdout",
     "output_type": "stream",
     "text": [
      "Danielle Steel | obj_range=(19, 21) | bare_obj_range=(1, 3)\n",
      "Demna Gvasalia | obj_range=(22, 27) | bare_obj_range=(1, 6)\n",
      "James Cameron | obj_range=(28, 30) | bare_obj_range=(1, 3)\n",
      "Deontay Wilder | obj_range=(31, 36) | bare_obj_range=(1, 6)\n",
      "Ron DeSantis | obj_range=(37, 41) | bare_obj_range=(1, 5)\n",
      "Dak Prescott | obj_range=(42, 44) | bare_obj_range=(1, 3)\n",
      "layer=35\n"
     ]
    },
    {
     "data": {
      "text/html": [
       "<div id=\"circuits-vis-f3e765fa-cc72\" style=\"margin: 15px 0;\"/>\n",
       "    <script crossorigin type=\"module\">\n",
       "    import { render, ColoredTokens } from \"https://unpkg.com/circuitsvis@1.43.3/dist/cdn/esm.js\";\n",
       "    render(\n",
       "      \"circuits-vis-f3e765fa-cc72\",\n",
       "      ColoredTokens,\n",
       "      {\"tokens\": [\"Which\", \" person\", \" from\", \" the\", \" following\", \" list\", \" has\", \" the\", \" profession\", \" in\", \" common\", \" with\", \" Michael\", \" K\", \"ors\", \"?\\n\", \"Options\", \":\", \" Danielle\", \" Steel\", \",\", \" Dem\", \"na\", \" G\", \"vas\", \"alia\", \",\", \" James\", \" Cameron\", \",\", \" De\", \"ont\", \"ay\", \" Wild\", \"er\", \",\", \" Ron\", \" De\", \"S\", \"antis\", \",\", \" Dak\", \" Prescott\", \"\\n\", \"Ans\", \":\"], \"values\": [0.02277970314025879, 0.00813862681388855, 0.005530133843421936, 0.0034215301275253296, 0.0052303746342659, 0.00538564333692193, 0.0041682906448841095, 0.0013775639235973358, 0.01452726125717163, 0.002189215272665024, 0.009692737832665443, 0.0038313716650009155, 0.018931806087493896, 0.00389774888753891, 0.009229779243469238, 0.014284387230873108, 0.005342860706150532, 0.009902015328407288, 0.023914813995361328, 0.00868767499923706, 0.027267009019851685, 0.005832090973854065, 0.0015668943524360657, 0.0065110474824905396, 0.0005263611674308777, 0.00476740300655365, 0.01676367223262787, 0.018684156239032745, 0.019487380981445312, 0.027499541640281677, 0.004036813974380493, 0.0014632008969783783, 0.0024105459451675415, 0.00173863023519516, 0.013750150799751282, 0.012728050351142883, 0.00361735001206398, 0.001919776201248169, 0.00291404128074646, 0.05399119853973389, 0.023343592882156372, 0.0037696287035942078, 0.008325010538101196, 0.032858461141586304, 0.011876668781042099, 0.044159650802612305]}\n",
       "    )\n",
       "    </script>"
      ],
      "text/plain": [
       "<circuitsvis.utils.render.RenderedHTML at 0x7f53a05b6850>"
      ]
     },
     "metadata": {},
     "output_type": "display_data"
    },
    {
     "name": "stdout",
     "output_type": "stream",
     "text": [
      "--------------------------------------------------------------------------------\n"
     ]
    },
    {
     "data": {
      "text/plain": [
       "[PredictedToken(token=' Dem', prob=0.435546875, logit=18.125, token_id=4829, metadata=None),\n",
       " PredictedToken(token=' None', prob=0.16015625, logit=17.125, token_id=2290, metadata=None),\n",
       " PredictedToken(token=' Michael', prob=0.10986328125, logit=16.75, token_id=8096, metadata=None),\n",
       " PredictedToken(token=' Ron', prob=0.058837890625, logit=16.125, token_id=14662, metadata=None),\n",
       " PredictedToken(token=' The', prob=0.058837890625, logit=16.125, token_id=578, metadata=None)]"
      ]
     },
     "execution_count": 217,
     "metadata": {},
     "output_type": "execute_result"
    }
   ],
   "source": [
    "from src.tokens import find_token_range\n",
    "from itertools import product\n",
    "\n",
    "clean_tokenized = prepare_input(\n",
    "    tokenizer=mt, prompts=clean_sample.prompt, return_offsets_mapping=True\n",
    ")\n",
    "clean_offsets = clean_tokenized.pop(\"offset_mapping\")[0]\n",
    "\n",
    "patches = []\n",
    "for obj in clean_sample.options:\n",
    "    obj_range = find_token_range(\n",
    "        string=clean_sample.prompt,\n",
    "        substring=obj,\n",
    "        offset_mapping=clean_offsets,\n",
    "        tokenizer=mt.tokenizer,\n",
    "    )\n",
    "\n",
    "    bare_prompt = f\" {obj} is a person.\"\n",
    "    bare_tokenized = prepare_input(\n",
    "        tokenizer=mt, prompts=bare_prompt, return_offsets_mapping=True\n",
    "    )\n",
    "    bare_offsets = bare_tokenized.pop(\"offset_mapping\")[0]\n",
    "    bare_obj_range = find_token_range(\n",
    "        string=bare_prompt,\n",
    "        substring=obj,\n",
    "        offset_mapping=bare_offsets,\n",
    "        tokenizer=mt.tokenizer,\n",
    "    )\n",
    "    print(f\"{obj} | {obj_range=} | {bare_obj_range=}\")\n",
    "    assert obj_range[1] - obj_range[0] == bare_obj_range[1] - bare_obj_range[0], (\n",
    "        f\"Object token ranges do not match: {obj_range} vs {bare_obj_range}\"\n",
    "    )\n",
    "\n",
    "    bare_hs = get_hs(\n",
    "        mt=mt,\n",
    "        input=bare_tokenized,\n",
    "        locations=list(product(mt.layer_names, list(range(*bare_obj_range)))),\n",
    "        return_dict=True,\n",
    "    )\n",
    "    for bare_idx, clean_idx in zip(range(*bare_obj_range), range(*obj_range)):\n",
    "        patches.extend(\n",
    "            [\n",
    "                PatchSpec(\n",
    "                    location=(module_name, clean_idx),\n",
    "                    patch=bare_hs[(module_name, bare_idx)],\n",
    "                )\n",
    "                for module_name in mt.layer_names\n",
    "            ]\n",
    "    )\n",
    "\n",
    "patches.extend(\n",
    "    [\n",
    "        PatchSpec(\n",
    "            location=(input_module, tok_idx),\n",
    "            patch=patch_hs[(input_module, tok_idx)],\n",
    "        )\n",
    "        for tok_idx in predictive_tokens\n",
    "    ]\n",
    ")\n",
    "\n",
    "obj_replaced_attn_matrices = get_attention_matrices(\n",
    "    input=clean_tokenized, mt=mt, value_weighted=False, patches=patches\n",
    ")\n",
    "\n",
    "visualize_average_attn_matrix(\n",
    "    mt=mt,\n",
    "    attn_matrices=obj_replaced_attn_matrices,\n",
    "    prompt=clean_sample.prompt,\n",
    "    tokenized=clean_tokenized,\n",
    "    layer_window=range(35, 36),\n",
    ")\n",
    "\n",
    "interpret_logits(tokenizer=mt, logits=obj_replaced_attn_matrices.logits)"
   ]
  },
  {
   "cell_type": "markdown",
   "id": "12432180",
   "metadata": {},
   "source": [
    "## Apply (targetted) Patchscope on different layers"
   ]
  },
  {
   "cell_type": "code",
   "execution_count": 149,
   "id": "fc849848",
   "metadata": {},
   "outputs": [
    {
     "ename": "NameError",
     "evalue": "name 'sample' is not defined",
     "output_type": "error",
     "traceback": [
      "\u001b[31m---------------------------------------------------------------------------\u001b[39m",
      "\u001b[31mNameError\u001b[39m                                 Traceback (most recent call last)",
      "\u001b[36mCell\u001b[39m\u001b[36m \u001b[39m\u001b[32mIn[149]\u001b[39m\u001b[32m, line 3\u001b[39m\n\u001b[32m      1\u001b[39m tokenized = prepare_input(\n\u001b[32m      2\u001b[39m     tokenizer=mt,\n\u001b[32m----> \u001b[39m\u001b[32m3\u001b[39m     prompts=\u001b[43msample\u001b[49m.prompt,\n\u001b[32m      4\u001b[39m     return_offsets_mapping=\u001b[38;5;28;01mTrue\u001b[39;00m,\n\u001b[32m      5\u001b[39m )\n\u001b[32m      6\u001b[39m offset_mapping = tokenized.pop(\u001b[33m\"\u001b[39m\u001b[33moffset_mapping\u001b[39m\u001b[33m\"\u001b[39m)[\u001b[32m0\u001b[39m]\n",
      "\u001b[31mNameError\u001b[39m: name 'sample' is not defined"
     ]
    }
   ],
   "source": [
    "tokenized = prepare_input(\n",
    "    tokenizer=mt,\n",
    "    prompts=sample.prompt,\n",
    "    return_offsets_mapping=True,\n",
    ")\n",
    "offset_mapping = tokenized.pop(\"offset_mapping\")[0]\n"
   ]
  },
  {
   "cell_type": "code",
   "execution_count": 14,
   "id": "23179e7e",
   "metadata": {},
   "outputs": [
    {
     "name": "stdout",
     "output_type": "stream",
     "text": [
      "subj_range=(13, 15) | \" Trevor Noah\"\n",
      "option_range=(18, 20) | \" Zion Williamson\"\n",
      "option_range=(21, 24) | \" John Mulaney\"\n",
      "option_range=(25, 28) | \" Ariana Grande\"\n",
      "option_range=(29, 31) | \" Joe Scarborough\"\n",
      "option_range=(32, 36) | \" Andrey Rublev\"\n",
      "option_range=(37, 41) | \" Samuel L. Jackson\"\n"
     ]
    }
   ],
   "source": [
    "from src.tokens import find_token_range\n",
    "\n",
    "subj_range = find_token_range(\n",
    "    string=sample.prompt,\n",
    "    substring=sample.subj,\n",
    "    offset_mapping=offset_mapping,\n",
    "    tokenizer=mt,\n",
    "    occurrence=-1,\n",
    ")\n",
    "\n",
    "print(\n",
    "    f'{subj_range=} | \"{mt.tokenizer.decode(tokenized.input_ids[0][range(*subj_range)])}\"'\n",
    ")\n",
    "\n",
    "option_ranges = []\n",
    "\n",
    "for option in sample.options:\n",
    "    option_range = find_token_range(\n",
    "        string=sample.prompt,\n",
    "        substring=option,\n",
    "        offset_mapping=offset_mapping,\n",
    "        tokenizer=mt,\n",
    "        occurrence=-1,\n",
    "    )\n",
    "    print(\n",
    "        f'{option_range=} | \"{mt.tokenizer.decode(tokenized.input_ids[0][range(*option_range)])}\"'\n",
    "    )\n",
    "    option_ranges.append(option_range)"
   ]
  },
  {
   "cell_type": "code",
   "execution_count": 15,
   "id": "b26c79f3",
   "metadata": {},
   "outputs": [
    {
     "name": "stdout",
     "output_type": "stream",
     "text": [
      "\n",
      "layer='model.layers.0'\n",
      "\n",
      "\"Ans:\" | cur_rng=(-2, 0)\n",
      "token_idx=-2 [\"Ans\"] => ['\"?\\n\"[p=0.05, l=11.19]', '\" programmer\"[p=0.04, l=11.00]', '\"??\"[p=0.03, l=10.88]', '\"???\"[p=0.03, l=10.75]', '\" software\"[p=0.03, l=10.75]', '\" unknown\"[p=0.03, l=10.62]', '\" student\"[p=0.02, l=10.44]', '\" singer\"[p=0.02, l=10.38]', '\" entrepreneur\"[p=0.02, l=10.38]', '\" artist\"[p=0.02, l=10.38]', '\"?\\n\\n\"[p=0.02, l=10.31]', '\"?\"[p=0.02, l=10.25]', '\" politician\"[p=0.01, l=10.00]', '\" actor\"[p=0.01, l=10.00]', '\" (\"[p=0.01, l=9.94]']\n",
      "token_idx=-1 [\":\"] => ['\"?\\n\"[p=0.22, l=13.75]', '\"?\\n\\n\"[p=0.15, l=13.38]', '\"??\"[p=0.09, l=12.81]', '\"?\"[p=0.08, l=12.75]', '\"???\"[p=0.06, l=12.50]', '\" \\n\"[p=0.02, l=11.56]', '\" lawyer\"[p=0.02, l=11.50]', '\" unknown\"[p=0.01, l=11.00]', '\" artist\"[p=0.01, l=10.75]', '\" politician\"[p=0.01, l=10.62]', '\" software\"[p=0.01, l=10.56]', '\" programmer\"[p=0.01, l=10.50]', '\" (\"[p=0.01, l=10.25]', '\" \"[p=0.01, l=10.25]', '\" \\n\\n\"[p=0.01, l=10.25]']\n",
      "\n",
      "\" Trevor Noah\" | cur_rng=(13, 15)\n",
      "token_idx=13 [\" Trevor\"] => ['\"?\\n\"[p=0.06, l=11.69]', '\" unknown\"[p=0.06, l=11.56]', '\"??\"[p=0.04, l=11.31]', '\"???\"[p=0.04, l=11.12]', '\"?\"[p=0.03, l=11.06]', '\" software\"[p=0.03, l=11.06]', '\" actor\"[p=0.03, l=10.88]', '\"?\\n\\n\"[p=0.03, l=10.88]', '\" programmer\"[p=0.02, l=10.69]', '\" (\"[p=0.01, l=10.19]', '\" student\"[p=0.01, l=10.19]', '\" artist\"[p=0.01, l=10.06]', '\" musician\"[p=0.01, l=10.06]', '\" soccer\"[p=0.01, l=10.00]', '\" no\"[p=0.01, l=10.00]']\n",
      "token_idx=14 [\" Noah\"] => ['\" unknown\"[p=0.06, l=11.56]', '\"?\\n\"[p=0.06, l=11.50]', '\" artist\"[p=0.04, l=11.06]', '\"??\"[p=0.03, l=10.94]', '\" actor\"[p=0.03, l=10.81]', '\" singer\"[p=0.03, l=10.75]', '\"???\"[p=0.02, l=10.62]', '\"?\"[p=0.02, l=10.56]', '\"?\\n\\n\"[p=0.02, l=10.50]', '\" musician\"[p=0.02, l=10.44]', '\" no\"[p=0.02, l=10.38]', '\" software\"[p=0.02, l=10.31]', '\" programmer\"[p=0.02, l=10.31]', '\" student\"[p=0.01, l=10.06]', '\" (\"[p=0.01, l=10.00]']\n",
      "\n",
      "\" Zion Williamson\" | cur_rng=(18, 20)\n",
      "token_idx=18 [\" Zion\"] => ['\"?\\n\"[p=0.04, l=10.56]', '\" programmer\"[p=0.04, l=10.44]', '\"??\"[p=0.04, l=10.38]', '\" unknown\"[p=0.04, l=10.38]', '\" singer\"[p=0.03, l=10.31]', '\" artist\"[p=0.02, l=10.00]', '\" actor\"[p=0.02, l=9.81]', '\"???\"[p=0.02, l=9.75]', '\" musician\"[p=0.02, l=9.75]', '\" software\"[p=0.02, l=9.56]', '\" (\"[p=0.01, l=9.50]', '\"?\"[p=0.01, l=9.50]', '\"?\\n\\n\"[p=0.01, l=9.31]', '\" no\"[p=0.01, l=9.25]', '\" politician\"[p=0.01, l=9.12]']\n",
      "token_idx=19 [\" Williamson\"] => ['\" unknown\"[p=0.06, l=11.25]', '\"???\"[p=0.06, l=11.25]', '\" programmer\"[p=0.05, l=11.19]', '\"?\\n\"[p=0.05, l=11.12]', '\"??\"[p=0.05, l=11.12]', '\"?\"[p=0.03, l=10.50]', '\"?\\n\\n\"[p=0.02, l=10.38]', '\" artist\"[p=0.02, l=10.19]', '\" (\"[p=0.02, l=10.00]', '\" politician\"[p=0.02, l=9.94]', '\" software\"[p=0.02, l=9.94]', '\" no\"[p=0.01, l=9.81]', '\" engineer\"[p=0.01, l=9.69]', '\" computer\"[p=0.01, l=9.69]', '\" student\"[p=0.01, l=9.56]']\n",
      "\n",
      "\" John Mulaney\" | cur_rng=(21, 24)\n",
      "token_idx=21 [\" John\"] => ['\" unknown\"[p=0.10, l=12.56]', '\"?\\n\"[p=0.08, l=12.31]', '\"?\"[p=0.05, l=11.75]', '\"??\"[p=0.04, l=11.56]', '\" programmer\"[p=0.04, l=11.50]', '\"???\"[p=0.03, l=11.31]', '\" software\"[p=0.02, l=11.12]', '\" actor\"[p=0.02, l=10.94]', '\"?\\n\\n\"[p=0.02, l=10.81]', '\" no\"[p=0.02, l=10.81]', '\" lawyer\"[p=0.02, l=10.69]', '\" artist\"[p=0.01, l=10.62]', '\" engineer\"[p=0.01, l=10.56]', '\" teacher\"[p=0.01, l=10.56]', '\" student\"[p=0.01, l=10.50]']\n",
      "token_idx=22 [\" Mul\"] => ['\"?\\n\"[p=0.07, l=11.12]', '\"??\"[p=0.07, l=11.06]', '\"???\"[p=0.06, l=10.88]', '\" unknown\"[p=0.05, l=10.69]', '\"?\"[p=0.05, l=10.62]', '\"?\\n\\n\"[p=0.03, l=10.19]', '\" programmer\"[p=0.02, l=9.94]', '\" artist\"[p=0.02, l=9.62]', '\" no\"[p=0.02, l=9.62]', '\" (\"[p=0.01, l=9.44]', '\" singer\"[p=0.01, l=9.38]', '\" not\"[p=0.01, l=9.31]', '\" musician\"[p=0.01, l=9.31]', '\" invalid\"[p=0.01, l=9.25]', '\" \"[p=0.01, l=9.06]']\n",
      "token_idx=23 [\"aney\"] => ['\"???\"[p=0.05, l=11.06]', '\"?\\n\"[p=0.05, l=11.06]', '\" programmer\"[p=0.05, l=11.06]', '\"??\"[p=0.04, l=11.00]', '\" artist\"[p=0.03, l=10.75]', '\" unknown\"[p=0.03, l=10.62]', '\" software\"[p=0.03, l=10.56]', '\" politician\"[p=0.03, l=10.50]', '\"?\"[p=0.02, l=10.25]', '\" computer\"[p=0.02, l=10.06]', '\"?\\n\\n\"[p=0.02, l=10.00]', '\" actor\"[p=0.01, l=9.88]', '\" singer\"[p=0.01, l=9.88]', '\" musician\"[p=0.01, l=9.81]', '\" engineer\"[p=0.01, l=9.75]']\n",
      "\n",
      "\" Ariana Grande\" | cur_rng=(25, 28)\n",
      "token_idx=25 [\" Ari\"] => ['\"?\\n\"[p=0.08, l=11.38]', '\" unknown\"[p=0.06, l=11.19]', '\"?\"[p=0.04, l=10.81]', '\"??\"[p=0.04, l=10.69]', '\"???\"[p=0.03, l=10.31]', '\" singer\"[p=0.03, l=10.25]', '\" artist\"[p=0.02, l=10.19]', '\"?\\n\\n\"[p=0.02, l=10.19]', '\" no\"[p=0.02, l=9.88]', '\" software\"[p=0.01, l=9.50]', '\" programmer\"[p=0.01, l=9.50]', '\" student\"[p=0.01, l=9.50]', '\" I\"[p=0.01, l=9.38]', '\" (\"[p=0.01, l=9.38]', '\" not\"[p=0.01, l=9.19]']\n",
      "token_idx=26 [\"ana\"] => ['\" unknown\"[p=0.06, l=11.44]', '\"??\"[p=0.06, l=11.38]', '\"?\"[p=0.05, l=11.25]', '\"???\"[p=0.05, l=11.25]', '\"?\\n\"[p=0.05, l=11.19]', '\" artist\"[p=0.04, l=11.00]', '\"?\\n\\n\"[p=0.04, l=10.88]', '\" software\"[p=0.02, l=10.31]', '\" programmer\"[p=0.02, l=10.06]', '\" (\"[p=0.01, l=9.94]', '\" politician\"[p=0.01, l=9.88]', '\" singer\"[p=0.01, l=9.81]', '\" \\n\"[p=0.01, l=9.69]', '\" computer\"[p=0.01, l=9.62]', '\" teacher\"[p=0.01, l=9.56]']\n",
      "token_idx=27 [\" Grande\"] => ['\"?\\n\"[p=0.06, l=11.12]', '\"???\"[p=0.04, l=10.81]', '\"??\"[p=0.04, l=10.81]', '\" unknown\"[p=0.04, l=10.62]', '\" artist\"[p=0.04, l=10.62]', '\"?\"[p=0.03, l=10.50]', '\"?\\n\\n\"[p=0.03, l=10.38]', '\" programmer\"[p=0.02, l=10.12]', '\" politician\"[p=0.02, l=10.12]', '\" singer\"[p=0.02, l=10.12]', '\" football\"[p=0.02, l=10.06]', '\" soccer\"[p=0.02, l=10.06]', '\" musician\"[p=0.02, l=9.81]', '\" actor\"[p=0.01, l=9.75]', '\" software\"[p=0.01, l=9.75]']\n",
      "\n",
      "\" Joe Scarborough\" | cur_rng=(29, 31)\n",
      "token_idx=29 [\" Joe\"] => ['\"?\\n\"[p=0.07, l=11.88]', '\" unknown\"[p=0.06, l=11.81]', '\"??\"[p=0.04, l=11.31]', '\"?\"[p=0.03, l=11.06]', '\" programmer\"[p=0.03, l=10.94]', '\"???\"[p=0.03, l=10.88]', '\"?\\n\\n\"[p=0.02, l=10.69]', '\" actor\"[p=0.02, l=10.62]', '\" software\"[p=0.02, l=10.62]', '\" artist\"[p=0.02, l=10.62]', '\" musician\"[p=0.02, l=10.56]', '\" no\"[p=0.02, l=10.38]', '\" student\"[p=0.02, l=10.38]', '\" (\"[p=0.01, l=10.25]', '\" singer\"[p=0.01, l=10.12]']\n",
      "token_idx=30 [\" Scarborough\"] => ['\" artist\"[p=0.04, l=10.94]', '\"??\"[p=0.04, l=10.94]', '\" programmer\"[p=0.04, l=10.94]', '\"?\\n\"[p=0.04, l=10.88]', '\" politician\"[p=0.04, l=10.81]', '\"???\"[p=0.04, l=10.75]', '\" software\"[p=0.03, l=10.44]', '\"?\"[p=0.02, l=10.25]', '\" actor\"[p=0.02, l=10.12]', '\" unknown\"[p=0.02, l=10.06]', '\" musician\"[p=0.02, l=10.06]', '\"?\\n\\n\"[p=0.02, l=10.00]', '\" engineer\"[p=0.02, l=9.94]', '\" singer\"[p=0.01, l=9.88]', '\" computer\"[p=0.01, l=9.88]']\n",
      "\n",
      "\" Andrey Rublev\" | cur_rng=(32, 36)\n",
      "token_idx=32 [\" And\"] => ['\"??\"[p=0.10, l=12.19]', '\"?\\n\"[p=0.10, l=12.12]', '\"?\"[p=0.08, l=11.94]', '\"???\"[p=0.08, l=11.94]', '\"?\\n\\n\"[p=0.06, l=11.56]', '\" unknown\"[p=0.05, l=11.44]', '\" artist\"[p=0.02, l=10.38]', '\" programmer\"[p=0.01, l=10.06]', '\" politician\"[p=0.01, l=10.00]', '\" software\"[p=0.01, l=10.00]', '\" (\"[p=0.01, l=9.94]', '\" lawyer\"[p=0.01, l=9.81]', '\" singer\"[p=0.01, l=9.81]', '\" musician\"[p=0.01, l=9.75]', '\" computer\"[p=0.01, l=9.75]']\n",
      "token_idx=33 [\"rey\"] => ['\"??\"[p=0.05, l=10.88]', '\"?\\n\"[p=0.05, l=10.81]', '\" unknown\"[p=0.04, l=10.69]', '\" programmer\"[p=0.04, l=10.62]', '\"???\"[p=0.04, l=10.56]', '\"?\"[p=0.03, l=10.31]', '\" artist\"[p=0.03, l=10.25]', '\" politician\"[p=0.02, l=10.12]', '\" software\"[p=0.02, l=9.75]', '\"?\\n\\n\"[p=0.02, l=9.69]', '\" actor\"[p=0.01, l=9.62]', '\" engineer\"[p=0.01, l=9.50]', '\" singer\"[p=0.01, l=9.44]', '\" computer\"[p=0.01, l=9.44]', '\" entrepreneur\"[p=0.01, l=9.44]']\n",
      "token_idx=34 [\" Rub\"] => ['\"??\"[p=0.05, l=11.12]', '\"?\\n\"[p=0.05, l=11.06]', '\" unknown\"[p=0.05, l=11.06]', '\"???\"[p=0.04, l=10.88]', '\" programmer\"[p=0.04, l=10.75]', '\" artist\"[p=0.03, l=10.50]', '\"?\"[p=0.03, l=10.44]', '\" singer\"[p=0.02, l=10.25]', '\" software\"[p=0.02, l=10.12]', '\"?\\n\\n\"[p=0.02, l=10.06]', '\" no\"[p=0.01, l=9.88]', '\" (\"[p=0.01, l=9.81]', '\" musician\"[p=0.01, l=9.81]', '\" actor\"[p=0.01, l=9.75]', '\" politician\"[p=0.01, l=9.69]']\n",
      "token_idx=35 [\"lev\"] => ['\"??\"[p=0.07, l=11.38]', '\"???\"[p=0.06, l=11.25]', '\" unknown\"[p=0.05, l=11.06]', '\"?\\n\"[p=0.05, l=10.94]', '\"?\"[p=0.04, l=10.88]', '\"?\\n\\n\"[p=0.04, l=10.69]', '\" programmer\"[p=0.03, l=10.50]', '\" artist\"[p=0.02, l=10.31]', '\" politician\"[p=0.02, l=10.06]', '\" musician\"[p=0.01, l=9.56]', '\" computer\"[p=0.01, l=9.56]', '\" software\"[p=0.01, l=9.50]', '\" engineer\"[p=0.01, l=9.50]', '\" (\"[p=0.01, l=9.50]', '\" not\"[p=0.01, l=9.31]']\n",
      "\n",
      "\" Samuel L. Jackson\" | cur_rng=(37, 41)\n",
      "token_idx=37 [\" Samuel\"] => ['\" unknown\"[p=0.08, l=11.88]', '\"?\\n\"[p=0.06, l=11.69]', '\"??\"[p=0.03, l=11.00]', '\" actor\"[p=0.03, l=10.94]', '\"???\"[p=0.03, l=10.81]', '\"?\"[p=0.03, l=10.75]', '\" no\"[p=0.02, l=10.69]', '\" programmer\"[p=0.02, l=10.69]', '\" artist\"[p=0.02, l=10.31]', '\" (\"[p=0.01, l=10.19]', '\" prophet\"[p=0.01, l=10.06]', '\" software\"[p=0.01, l=10.06]', '\"?\\n\\n\"[p=0.01, l=10.06]', '\" not\"[p=0.01, l=10.00]', '\" I\"[p=0.01, l=10.00]']\n",
      "token_idx=38 [\" L\"] => ['\"?\\n\"[p=0.07, l=11.00]', '\"??\"[p=0.06, l=10.88]', '\" unknown\"[p=0.04, l=10.56]', '\"?\"[p=0.04, l=10.50]', '\"?\\n\\n\"[p=0.03, l=10.31]', '\"???\"[p=0.03, l=10.25]', '\" artist\"[p=0.02, l=9.81]', '\" programmer\"[p=0.02, l=9.75]', '\" L\"[p=0.02, l=9.62]', '\" (\"[p=0.01, l=9.50]', '\" singer\"[p=0.01, l=9.44]', '\" not\"[p=0.01, l=9.25]', '\" musician\"[p=0.01, l=9.25]', '\" no\"[p=0.01, l=9.25]', '\" lawyer\"[p=0.01, l=9.12]']\n",
      "token_idx=39 [\".\"] => ['\"?\\n\"[p=0.25, l=13.56]', '\"?\\n\\n\"[p=0.13, l=12.94]', '\"?\"[p=0.13, l=12.94]', '\"??\"[p=0.06, l=12.19]', '\"???\"[p=0.03, l=11.44]', '\" unknown\"[p=0.02, l=11.12]', '\" \"[p=0.02, l=10.88]', '\" \\n\"[p=0.02, l=10.81]', '\" lawyer\"[p=0.01, l=10.56]', '\" empty\"[p=0.01, l=9.94]', '\" software\"[p=0.01, l=9.88]', '\" (\"[p=0.01, l=9.75]', '\" artist\"[p=0.01, l=9.75]', '\" programmer\"[p=0.01, l=9.69]', '\" politician\"[p=0.00, l=9.62]']\n",
      "token_idx=40 [\" Jackson\"] => ['\"?\\n\"[p=0.05, l=11.19]', '\" unknown\"[p=0.05, l=11.12]', '\"??\"[p=0.04, l=11.00]', '\" actor\"[p=0.03, l=10.75]', '\" singer\"[p=0.03, l=10.69]', '\"???\"[p=0.03, l=10.62]', '\" politician\"[p=0.03, l=10.56]', '\"?\"[p=0.03, l=10.50]', '\" musician\"[p=0.02, l=10.44]', '\" programmer\"[p=0.02, l=10.38]', '\" artist\"[p=0.02, l=10.38]', '\" football\"[p=0.02, l=10.31]', '\" basketball\"[p=0.02, l=10.19]', '\" Jackson\"[p=0.02, l=10.12]', '\" no\"[p=0.01, l=9.94]']\n",
      "======================================================================================================================================================\n",
      "\n",
      "layer='model.layers.3'\n",
      "\n",
      "\"Ans:\" | cur_rng=(-2, 0)\n",
      "token_idx=-2 [\"Ans\"] => ['\"?\\n\"[p=0.06, l=10.88]', '\"??\"[p=0.03, l=10.12]', '\" artist\"[p=0.03, l=10.00]', '\"?\\n\\n\"[p=0.02, l=9.88]', '\" actor\"[p=0.02, l=9.75]', '\" astronaut\"[p=0.02, l=9.56]', '\" programmer\"[p=0.02, l=9.50]', '\" politician\"[p=0.02, l=9.50]', '\"???\"[p=0.02, l=9.44]', '\" software\"[p=0.02, l=9.44]', '\" singer\"[p=0.02, l=9.44]', '\" entrepreneur\"[p=0.02, l=9.44]', '\" engineer\"[p=0.01, l=9.25]', '\"?\"[p=0.01, l=9.25]', '\" scientist\"[p=0.01, l=9.25]']\n",
      "token_idx=-1 [\":\"] => ['\"?\\n\"[p=0.29, l=14.62]', '\"?\\n\\n\"[p=0.18, l=14.12]', '\"??\"[p=0.06, l=13.00]', '\"?\"[p=0.05, l=12.81]', '\" \\n\"[p=0.02, l=11.88]', '\"???\"[p=0.02, l=11.88]', '\" software\"[p=0.02, l=11.69]', '\" lawyer\"[p=0.01, l=11.56]', '\" profession\"[p=0.01, l=11.50]', '\" artist\"[p=0.01, l=11.31]', '\" programmer\"[p=0.01, l=11.31]', '\" (\"[p=0.01, l=11.25]', '\" astronaut\"[p=0.01, l=11.19]', '\" politician\"[p=0.01, l=11.12]', '\" computer\"[p=0.01, l=11.00]']\n",
      "\n",
      "\" Trevor Noah\" | cur_rng=(13, 15)\n",
      "token_idx=13 [\" Trevor\"] => ['\"?\\n\"[p=0.09, l=12.62]', '\" unknown\"[p=0.06, l=12.25]', '\"?\"[p=0.05, l=12.06]', '\"??\"[p=0.05, l=12.00]', '\"???\"[p=0.04, l=11.75]', '\"?\\n\\n\"[p=0.04, l=11.69]', '\" software\"[p=0.03, l=11.38]', '\" actor\"[p=0.02, l=11.31]', '\" politician\"[p=0.02, l=11.00]', '\" soccer\"[p=0.02, l=10.94]', '\" football\"[p=0.02, l=10.88]', '\" farmer\"[p=0.01, l=10.81]', '\" no\"[p=0.01, l=10.75]', '\" (\"[p=0.01, l=10.75]', '\" programmer\"[p=0.01, l=10.62]']\n",
      "token_idx=14 [\" Noah\"] => ['\" comedian\"[p=0.11, l=13.75]', '\" biblical\"[p=0.10, l=13.62]', '\" prophet\"[p=0.09, l=13.56]', '\" actor\"[p=0.04, l=12.81]', '\" (\"[p=0.03, l=12.38]', '\" unknown\"[p=0.03, l=12.31]', '\" pastor\"[p=0.02, l=12.25]', '\" politician\"[p=0.02, l=12.00]', '\" singer\"[p=0.02, l=11.94]', '\" musician\"[p=0.02, l=11.94]', '\" preacher\"[p=0.02, l=11.88]', '\" religious\"[p=0.01, l=11.75]', '\" no\"[p=0.01, l=11.69]', '\" farmer\"[p=0.01, l=11.69]', '\" artist\"[p=0.01, l=11.62]']\n",
      "\n",
      "\" Zion Williamson\" | cur_rng=(18, 20)\n",
      "token_idx=18 [\" Zion\"] => ['\" singer\"[p=0.06, l=11.94]', '\" musician\"[p=0.04, l=11.44]', '\" unknown\"[p=0.04, l=11.44]', '\" football\"[p=0.04, l=11.38]', '\"?\\n\"[p=0.03, l=11.25]', '\"??\"[p=0.02, l=10.88]', '\" no\"[p=0.02, l=10.81]', '\" biblical\"[p=0.02, l=10.69]', '\" place\"[p=0.02, l=10.69]', '\" politician\"[p=0.02, l=10.56]', '\" (\"[p=0.02, l=10.56]', '\" basketball\"[p=0.02, l=10.56]', '\" soccer\"[p=0.01, l=10.50]', '\" prophet\"[p=0.01, l=10.44]', '\" city\"[p=0.01, l=10.44]']\n",
      "token_idx=19 [\" Williamson\"] => ['\" football\"[p=0.16, l=14.19]', '\" basketball\"[p=0.15, l=14.12]', '\" actor\"[p=0.06, l=13.25]', '\" soccer\"[p=0.05, l=12.94]', '\"?\\n\"[p=0.03, l=12.62]', '\" singer\"[p=0.03, l=12.44]', '\"??\"[p=0.02, l=12.31]', '\" rugby\"[p=0.02, l=12.25]', '\"?\"[p=0.02, l=12.12]', '\" unknown\"[p=0.02, l=12.06]', '\" tennis\"[p=0.02, l=11.94]', '\" author\"[p=0.01, l=11.81]', '\" cr\"[p=0.01, l=11.75]', '\" (\"[p=0.01, l=11.69]', '\" athlete\"[p=0.01, l=11.50]']\n",
      "\n",
      "\" John Mulaney\" | cur_rng=(21, 24)\n",
      "token_idx=21 [\" John\"] => ['\" unknown\"[p=0.11, l=13.12]', '\"?\\n\"[p=0.06, l=12.56]', '\"?\"[p=0.05, l=12.31]', '\" no\"[p=0.03, l=11.94]', '\"???\"[p=0.03, l=11.81]', '\"??\"[p=0.03, l=11.69]', '\" actor\"[p=0.02, l=11.31]', '\" lawyer\"[p=0.02, l=11.31]', '\" programmer\"[p=0.02, l=11.25]', '\" (\"[p=0.02, l=11.25]', '\" teacher\"[p=0.02, l=11.12]', '\" farmer\"[p=0.01, l=11.06]', '\" software\"[p=0.01, l=11.00]', '\" doctor\"[p=0.01, l=10.94]', '\" John\"[p=0.01, l=10.94]']\n",
      "token_idx=22 [\" Mul\"] => ['\" farmer\"[p=0.03, l=9.94]', '\" musician\"[p=0.02, l=9.69]', '\"?\\n\"[p=0.02, l=9.56]', '\" artist\"[p=0.02, l=9.50]', '\"??\"[p=0.02, l=9.50]', '\" singer\"[p=0.02, l=9.44]', '\" unknown\"[p=0.02, l=9.44]', '\"???\"[p=0.02, l=9.38]', '\" actor\"[p=0.02, l=9.38]', '\" engineer\"[p=0.01, l=9.00]', '\"?\"[p=0.01, l=9.00]', '\" programmer\"[p=0.01, l=9.00]', '\" \"[p=0.01, l=8.94]', '\" politician\"[p=0.01, l=8.88]', '\" no\"[p=0.01, l=8.88]']\n",
      "token_idx=23 [\"aney\"] => ['\" comedian\"[p=0.54, l=15.56]', '\" actor\"[p=0.06, l=13.31]', '\"?\\n\"[p=0.03, l=12.81]', '\" stand\"[p=0.03, l=12.62]', '\"??\"[p=0.02, l=12.44]', '\" politician\"[p=0.02, l=12.19]', '\" writer\"[p=0.02, l=12.06]', '\" (\"[p=0.01, l=11.88]', '\" musician\"[p=0.01, l=11.81]', '\"?\"[p=0.01, l=11.81]', '\" unknown\"[p=0.01, l=11.50]', '\" Com\"[p=0.01, l=11.44]', '\"?\\n\\n\"[p=0.01, l=11.38]', '\" playwright\"[p=0.01, l=11.31]', '\"???\"[p=0.01, l=11.25]']\n",
      "\n",
      "\" Ariana Grande\" | cur_rng=(25, 28)\n",
      "token_idx=25 [\" Ari\"] => ['\"?\\n\"[p=0.05, l=11.31]', '\" singer\"[p=0.04, l=11.12]', '\" artist\"[p=0.03, l=10.69]', '\" unknown\"[p=0.02, l=10.56]', '\"??\"[p=0.02, l=10.56]', '\" musician\"[p=0.02, l=10.50]', '\"?\"[p=0.02, l=10.44]', '\"???\"[p=0.02, l=10.19]', '\" student\"[p=0.01, l=10.06]', '\" software\"[p=0.01, l=10.00]', '\" actor\"[p=0.01, l=9.88]', '\" entrepreneur\"[p=0.01, l=9.69]', '\" photographer\"[p=0.01, l=9.69]', '\" teacher\"[p=0.01, l=9.62]', '\" (\"[p=0.01, l=9.56]']\n",
      "token_idx=26 [\"ana\"] => ['\" singer\"[p=0.36, l=13.88]', '\" unknown\"[p=0.05, l=11.88]', '\"?\\n\"[p=0.05, l=11.81]', '\" pop\"[p=0.04, l=11.75]', '\" musician\"[p=0.02, l=11.19]', '\" no\"[p=0.02, l=11.06]', '\"?\"[p=0.02, l=11.00]', '\" artist\"[p=0.02, l=10.75]', '\" (\"[p=0.01, l=10.56]', '\" actress\"[p=0.01, l=10.50]', '\"??\"[p=0.01, l=10.31]', '\" not\"[p=0.01, l=10.12]', '\" model\"[p=0.01, l=10.12]', '\" Ari\"[p=0.01, l=9.94]', '\" teacher\"[p=0.01, l=9.94]']\n",
      "token_idx=27 [\" Grande\"] => ['\" singer\"[p=0.64, l=15.06]', '\" musician\"[p=0.05, l=12.50]', '\"?\\n\"[p=0.02, l=11.75]', '\" pop\"[p=0.02, l=11.75]', '\" unknown\"[p=0.01, l=11.25]', '\" artist\"[p=0.01, l=11.12]', '\" Ari\"[p=0.01, l=11.06]', '\"?\"[p=0.01, l=10.75]', '\"??\"[p=0.01, l=10.69]', '\" (\"[p=0.01, l=10.56]', '\"?\\n\\n\"[p=0.01, l=10.44]', '\" no\"[p=0.01, l=10.44]', '\" Singer\"[p=0.01, l=10.38]', '\"???\"[p=0.01, l=10.31]', '\" not\"[p=0.00, l=10.19]']\n",
      "\n",
      "\" Joe Scarborough\" | cur_rng=(29, 31)\n",
      "token_idx=29 [\" Joe\"] => ['\" unknown\"[p=0.07, l=12.31]', '\"?\\n\"[p=0.06, l=12.06]', '\"?\"[p=0.04, l=11.62]', '\"??\"[p=0.03, l=11.50]', '\"???\"[p=0.03, l=11.38]', '\" no\"[p=0.02, l=10.88]', '\" programmer\"[p=0.02, l=10.75]', '\" politician\"[p=0.02, l=10.75]', '\" student\"[p=0.02, l=10.75]', '\" software\"[p=0.01, l=10.69]', '\" (\"[p=0.01, l=10.69]', '\" farmer\"[p=0.01, l=10.56]', '\"?\\n\\n\"[p=0.01, l=10.56]', '\" engineer\"[p=0.01, l=10.44]', '\" actor\"[p=0.01, l=10.38]']\n",
      "token_idx=30 [\" Scarborough\"] => ['\" politician\"[p=0.30, l=14.19]', '\"?\\n\"[p=0.04, l=12.12]', '\" (\"[p=0.03, l=12.00]', '\"??\"[p=0.03, l=11.81]', '\" musician\"[p=0.02, l=11.69]', '\"?\"[p=0.02, l=11.50]', '\" unknown\"[p=0.02, l=11.44]', '\" journalist\"[p=0.02, l=11.44]', '\"???\"[p=0.02, l=11.25]', '\" singer\"[p=0.02, l=11.19]', '\" pirate\"[p=0.01, l=11.12]', '\" football\"[p=0.01, l=11.06]', '\" political\"[p=0.01, l=10.69]', '\" \\n\"[p=0.01, l=10.69]', '\" city\"[p=0.01, l=10.62]']\n",
      "\n",
      "\" Andrey Rublev\" | cur_rng=(32, 36)\n",
      "token_idx=32 [\" And\"] => ['\" conjunction\"[p=0.10, l=11.81]', '\"?\\n\"[p=0.06, l=11.31]', '\" logical\"[p=0.04, l=10.81]', '\" logic\"[p=0.03, l=10.62]', '\" operator\"[p=0.03, l=10.56]', '\"?\"[p=0.02, l=10.38]', '\" a\"[p=0.02, l=10.25]', '\" what\"[p=0.02, l=10.25]', '\"?\\n\\n\"[p=0.02, l=10.06]', '\"??\"[p=0.02, l=10.06]', '\" so\"[p=0.02, l=9.94]', '\"...\"[p=0.01, l=9.81]', '\" lawyer\"[p=0.01, l=9.75]', '\" \\n\"[p=0.01, l=9.69]', '\" (\"[p=0.01, l=9.69]']\n",
      "token_idx=33 [\"rey\"] => ['\"?\\n\"[p=0.12, l=12.62]', '\" unknown\"[p=0.07, l=12.00]', '\" programmer\"[p=0.06, l=11.88]', '\"?\\n\\n\"[p=0.06, l=11.88]', '\"?\"[p=0.05, l=11.75]', '\"??\"[p=0.05, l=11.62]', '\"???\"[p=0.03, l=11.12]', '\" software\"[p=0.03, l=11.06]', '\" entrepreneur\"[p=0.02, l=10.75]', '\" engineer\"[p=0.02, l=10.56]', '\" no\"[p=0.01, l=10.44]', '\" artist\"[p=0.01, l=10.31]', '\" what\"[p=0.01, l=10.25]', '\" actor\"[p=0.01, l=10.00]', '\" student\"[p=0.01, l=10.00]']\n",
      "token_idx=34 [\" Rub\"] => ['\"?\\n\"[p=0.04, l=9.44]', '\" unknown\"[p=0.02, l=8.69]', '\"??\"[p=0.02, l=8.69]', '\"?\"[p=0.01, l=8.44]', '\" artist\"[p=0.01, l=8.38]', '\" not\"[p=0.01, l=8.25]', '\"???\"[p=0.01, l=8.19]', '\" programmer\"[p=0.01, l=8.06]', '\" what\"[p=0.01, l=8.00]', '\" \\n\"[p=0.01, l=8.00]', '\" musician\"[p=0.01, l=7.94]', '\"?\\n\\n\"[p=0.01, l=7.94]', '\" invalid\"[p=0.01, l=7.75]', '\" massage\"[p=0.01, l=7.69]', '\" \"[p=0.01, l=7.66]']\n",
      "token_idx=35 [\"lev\"] => ['\" tennis\"[p=0.32, l=14.62]', '\" artist\"[p=0.06, l=13.00]', '\" politician\"[p=0.06, l=12.88]', '\"?\\n\"[p=0.05, l=12.75]', '\"?\"[p=0.02, l=12.00]', '\" painter\"[p=0.02, l=11.81]', '\" musician\"[p=0.02, l=11.75]', '\" unknown\"[p=0.02, l=11.75]', '\"??\"[p=0.02, l=11.69]', '\"?\\n\\n\"[p=0.01, l=11.56]', '\" writer\"[p=0.01, l=11.44]', '\" (\"[p=0.01, l=11.44]', '\" composer\"[p=0.01, l=11.44]', '\" chess\"[p=0.01, l=11.25]', '\" \\n\"[p=0.01, l=11.12]']\n",
      "\n",
      "\" Samuel L. Jackson\" | cur_rng=(37, 41)\n",
      "token_idx=37 [\" Samuel\"] => ['\" prophet\"[p=0.28, l=14.06]', '\" unknown\"[p=0.07, l=12.75]', '\"?\\n\"[p=0.04, l=12.19]', '\"??\"[p=0.03, l=11.69]', '\" actor\"[p=0.02, l=11.62]', '\" no\"[p=0.02, l=11.56]', '\"???\"[p=0.02, l=11.38]', '\"?\"[p=0.02, l=11.31]', '\" biblical\"[p=0.02, l=11.19]', '\" philosopher\"[p=0.01, l=10.69]', '\" not\"[p=0.01, l=10.69]', '\" (\"[p=0.01, l=10.69]', '\" poet\"[p=0.01, l=10.62]', '\" Prophet\"[p=0.01, l=10.56]', '\" I\"[p=0.01, l=10.56]']\n",
      "token_idx=38 [\" L\"] => ['\"?\\n\"[p=0.07, l=10.88]', '\" lawyer\"[p=0.03, l=10.06]', '\"?\"[p=0.03, l=9.94]', '\"??\"[p=0.03, l=9.94]', '\"?\\n\\n\"[p=0.02, l=9.75]', '\" L\"[p=0.02, l=9.56]', '\" singer\"[p=0.01, l=9.25]', '\"???\"[p=0.01, l=9.06]', '\" scientist\"[p=0.01, l=9.06]', '\" letter\"[p=0.01, l=9.06]', '\" unknown\"[p=0.01, l=9.06]', '\" artist\"[p=0.01, l=9.06]', '\" musician\"[p=0.01, l=9.00]', '\" (\"[p=0.01, l=8.81]', '\" \"[p=0.01, l=8.81]']\n",
      "token_idx=39 [\".\"] => ['\".\\n\"[p=0.04, l=10.44]', '\" \\n\"[p=0.04, l=10.31]', '\"?\\n\\n\"[p=0.03, l=10.19]', '\"?\\n\"[p=0.03, l=10.19]', '\"\\n\\n\"[p=0.03, l=10.12]', '\" (\"[p=0.03, l=10.00]', '\" lawyer\"[p=0.03, l=10.00]', '\" politician\"[p=0.02, l=9.81]', '\".\"[p=0.02, l=9.56]', '\" artist\"[p=0.02, l=9.50]', '\".\\n\\n\"[p=0.01, l=9.38]', '\".\\n\"[p=0.01, l=9.25]', '\"\\n\\n\\n\"[p=0.01, l=9.19]', '\" \"[p=0.01, l=9.19]', '\" entrepreneur\"[p=0.01, l=9.19]']\n",
      "token_idx=40 [\" Jackson\"] => ['\" actor\"[p=0.13, l=12.75]', '\" singer\"[p=0.09, l=12.31]', '\"?\\n\"[p=0.04, l=11.56]', '\" musician\"[p=0.04, l=11.50]', '\" politician\"[p=0.03, l=11.31]', '\" unknown\"[p=0.03, l=11.31]', '\" Jackson\"[p=0.03, l=11.25]', '\" artist\"[p=0.02, l=10.94]', '\"?\"[p=0.02, l=10.88]', '\"??\"[p=0.02, l=10.75]', '\" football\"[p=0.02, l=10.69]', '\"???\"[p=0.01, l=10.50]', '\" (\"[p=0.01, l=10.44]', '\" no\"[p=0.01, l=10.31]', '\" basketball\"[p=0.01, l=10.12]']\n",
      "======================================================================================================================================================\n",
      "\n",
      "layer='model.layers.6'\n",
      "\n",
      "\"Ans:\" | cur_rng=(-2, 0)\n",
      "token_idx=-2 [\"Ans\"] => ['\"?\\n\"[p=0.09, l=11.38]', '\" student\"[p=0.04, l=10.50]', '\"?\\n\\n\"[p=0.03, l=10.31]', '\"??\"[p=0.03, l=10.31]', '\" programmer\"[p=0.03, l=10.25]', '\" software\"[p=0.02, l=10.06]', '\"?\"[p=0.02, l=10.00]', '\" entrepreneur\"[p=0.02, l=9.88]', '\" unknown\"[p=0.02, l=9.75]', '\" artist\"[p=0.02, l=9.75]', '\" computer\"[p=0.02, l=9.56]', '\"???\"[p=0.02, l=9.56]', '\" engineer\"[p=0.01, l=9.44]', '\" data\"[p=0.01, l=9.44]', '\" (\"[p=0.01, l=9.19]']\n",
      "token_idx=-1 [\":\"] => ['\"?\\n\"[p=0.31, l=14.75]', '\"?\\n\\n\"[p=0.15, l=14.06]', '\"??\"[p=0.06, l=13.19]', '\"?\"[p=0.05, l=12.94]', '\"???\"[p=0.02, l=12.12]', '\" \\n\"[p=0.02, l=11.81]', '\" lawyer\"[p=0.02, l=11.81]', '\" software\"[p=0.01, l=11.69]', '\" profession\"[p=0.01, l=11.62]', '\" artist\"[p=0.01, l=11.44]', '\" politician\"[p=0.01, l=11.44]', '\" programmer\"[p=0.01, l=11.38]', '\" (\"[p=0.01, l=11.31]', '\" actor\"[p=0.01, l=11.12]', '\" computer\"[p=0.01, l=11.12]']\n",
      "\n",
      "\" Trevor Noah\" | cur_rng=(13, 15)\n",
      "token_idx=13 [\" Trevor\"] => ['\"?\\n\"[p=0.08, l=12.38]', '\" unknown\"[p=0.06, l=12.12]', '\"?\"[p=0.05, l=11.81]', '\"??\"[p=0.04, l=11.69]', '\"???\"[p=0.04, l=11.56]', '\"?\\n\\n\"[p=0.03, l=11.31]', '\" software\"[p=0.02, l=11.12]', '\" actor\"[p=0.02, l=10.94]', '\" farmer\"[p=0.02, l=10.88]', '\" (\"[p=0.02, l=10.81]', '\" no\"[p=0.02, l=10.81]', '\" politician\"[p=0.02, l=10.69]', '\" soccer\"[p=0.01, l=10.50]', '\" football\"[p=0.01, l=10.50]', '\" comedian\"[p=0.01, l=10.25]']\n",
      "token_idx=14 [\" Noah\"] => ['\" comedian\"[p=0.96, l=21.75]', '\" TV\"[p=0.01, l=16.88]', '\" television\"[p=0.01, l=16.62]', '\" actor\"[p=0.00, l=16.25]', '\" Com\"[p=0.00, l=15.88]', '\" journalist\"[p=0.00, l=15.75]', '\" stand\"[p=0.00, l=15.62]', '\" political\"[p=0.00, l=15.62]', '\" tv\"[p=0.00, l=15.12]', '\" talk\"[p=0.00, l=14.94]', '\" writer\"[p=0.00, l=14.50]', '\" (\"[p=0.00, l=14.44]', '\" politician\"[p=0.00, l=14.38]', '\" sat\"[p=0.00, l=14.25]', '\" \"[p=0.00, l=14.25]']\n",
      "\n",
      "\" Zion Williamson\" | cur_rng=(18, 20)\n",
      "token_idx=18 [\" Zion\"] => ['\" basketball\"[p=0.09, l=12.69]', '\" singer\"[p=0.08, l=12.56]', '\" musician\"[p=0.06, l=12.25]', '\" football\"[p=0.06, l=12.25]', '\" prophet\"[p=0.05, l=12.12]', '\" unknown\"[p=0.03, l=11.75]', '\" rapper\"[p=0.03, l=11.69]', '\" biblical\"[p=0.03, l=11.56]', '\"?\\n\"[p=0.02, l=11.19]', '\" actor\"[p=0.02, l=11.19]', '\" soccer\"[p=0.02, l=11.12]', '\" (\"[p=0.02, l=11.12]', '\"??\"[p=0.02, l=11.00]', '\" no\"[p=0.01, l=10.81]', '\" artist\"[p=0.01, l=10.75]']\n",
      "token_idx=19 [\" Williamson\"] => ['\" basketball\"[p=0.90, l=18.12]', '\" football\"[p=0.01, l=13.81]', '\" NBA\"[p=0.01, l=13.50]', '\" Basketball\"[p=0.01, l=13.44]', '\" athlete\"[p=0.01, l=13.06]', '\" professional\"[p=0.01, l=12.94]', '\" college\"[p=0.00, l=12.75]', '\" actor\"[p=0.00, l=12.31]', '\" basket\"[p=0.00, l=12.31]', '\" (\"[p=0.00, l=12.19]', '\" baseball\"[p=0.00, l=12.12]', '\" soccer\"[p=0.00, l=11.81]', '\" \"[p=0.00, l=11.75]', '\" rapper\"[p=0.00, l=11.56]', '\"??\"[p=0.00, l=11.50]']\n",
      "\n",
      "\" John Mulaney\" | cur_rng=(21, 24)\n",
      "token_idx=21 [\" John\"] => ['\" unknown\"[p=0.12, l=13.19]', '\"?\\n\"[p=0.06, l=12.44]', '\"?\"[p=0.04, l=12.19]', '\" no\"[p=0.03, l=11.94]', '\"???\"[p=0.03, l=11.69]', '\"??\"[p=0.02, l=11.50]', '\" lawyer\"[p=0.02, l=11.38]', '\" programmer\"[p=0.02, l=11.25]', '\" actor\"[p=0.02, l=11.25]', '\" farmer\"[p=0.02, l=11.19]', '\" (\"[p=0.02, l=11.19]', '\" teacher\"[p=0.02, l=11.12]', '\" software\"[p=0.01, l=11.06]', '\" doctor\"[p=0.01, l=11.00]', '\" John\"[p=0.01, l=10.94]']\n",
      "token_idx=22 [\" Mul\"] => ['\" artist\"[p=0.03, l=10.50]', '\" musician\"[p=0.03, l=10.44]', '\" actor\"[p=0.02, l=10.19]', '\" singer\"[p=0.02, l=9.94]', '\" farmer\"[p=0.02, l=9.88]', '\" politician\"[p=0.02, l=9.81]', '\" engineer\"[p=0.02, l=9.75]', '\"??\"[p=0.01, l=9.69]', '\"?\\n\"[p=0.01, l=9.62]', '\" entrepreneur\"[p=0.01, l=9.44]', '\" programmer\"[p=0.01, l=9.44]', '\" unknown\"[p=0.01, l=9.38]', '\"???\"[p=0.01, l=9.31]', '\" software\"[p=0.01, l=9.25]', '\" \"[p=0.01, l=9.25]']\n",
      "token_idx=23 [\"aney\"] => ['\" comedian\"[p=0.77, l=17.50]', '\" stand\"[p=0.07, l=15.06]', '\" actor\"[p=0.03, l=14.31]', '\" Com\"[p=0.01, l=13.12]', '\" musician\"[p=0.00, l=12.38]', '\" politician\"[p=0.00, l=12.38]', '\" (\"[p=0.00, l=12.38]', '\" comic\"[p=0.00, l=12.31]', '\" writer\"[p=0.00, l=12.31]', '\" actress\"[p=0.00, l=12.19]', '\"??\"[p=0.00, l=12.12]', '\" Stand\"[p=0.00, l=11.75]', '\"?\\n\"[p=0.00, l=11.62]', '\" \"[p=0.00, l=11.62]', '\" lawyer\"[p=0.00, l=11.50]']\n",
      "\n",
      "\" Ariana Grande\" | cur_rng=(25, 28)\n",
      "token_idx=25 [\" Ari\"] => ['\" singer\"[p=0.07, l=11.81]', '\"?\\n\"[p=0.04, l=11.38]', '\" artist\"[p=0.03, l=11.12]', '\" musician\"[p=0.03, l=10.88]', '\" unknown\"[p=0.02, l=10.75]', '\" student\"[p=0.02, l=10.50]', '\"??\"[p=0.02, l=10.50]', '\"?\"[p=0.02, l=10.50]', '\" actor\"[p=0.01, l=10.25]', '\" software\"[p=0.01, l=10.06]', '\"???\"[p=0.01, l=10.06]', '\" actress\"[p=0.01, l=10.00]', '\" entrepreneur\"[p=0.01, l=9.94]', '\" teacher\"[p=0.01, l=9.88]', '\" You\"[p=0.01, l=9.88]']\n",
      "token_idx=26 [\"ana\"] => ['\" singer\"[p=0.45, l=14.44]', '\" pop\"[p=0.06, l=12.38]', '\" unknown\"[p=0.04, l=12.00]', '\"?\\n\"[p=0.03, l=11.88]', '\" musician\"[p=0.02, l=11.31]', '\" actress\"[p=0.02, l=11.19]', '\" no\"[p=0.02, l=11.19]', '\" artist\"[p=0.02, l=11.06]', '\"?\"[p=0.02, l=11.06]', '\" (\"[p=0.01, l=10.88]', '\" not\"[p=0.01, l=10.38]', '\" model\"[p=0.01, l=10.38]', '\"??\"[p=0.01, l=10.31]', '\" student\"[p=0.01, l=10.31]', '\" teacher\"[p=0.01, l=10.25]']\n",
      "token_idx=27 [\" Grande\"] => ['\" singer\"[p=0.96, l=22.12]', '\" musician\"[p=0.02, l=18.00]', '\" pop\"[p=0.01, l=17.62]', '\" Singer\"[p=0.00, l=16.38]', '\" actress\"[p=0.00, l=16.00]', '\" artist\"[p=0.00, l=15.25]', '\" music\"[p=0.00, l=14.44]', '\" \"[p=0.00, l=14.25]', '\" songwriter\"[p=0.00, l=13.94]', '\" actor\"[p=0.00, l=13.75]', '\" singers\"[p=0.00, l=13.38]', '\" Music\"[p=0.00, l=13.31]', '\" entert\"[p=0.00, l=13.31]', '\" (\"[p=0.00, l=13.25]', '\" celebrity\"[p=0.00, l=13.19]']\n",
      "\n",
      "\" Joe Scarborough\" | cur_rng=(29, 31)\n",
      "token_idx=29 [\" Joe\"] => ['\" unknown\"[p=0.08, l=12.31]', '\"?\\n\"[p=0.05, l=11.94]', '\"?\"[p=0.03, l=11.50]', '\"??\"[p=0.03, l=11.38]', '\"???\"[p=0.03, l=11.25]', '\" politician\"[p=0.02, l=11.00]', '\" no\"[p=0.02, l=10.88]', '\" student\"[p=0.02, l=10.69]', '\" software\"[p=0.01, l=10.62]', '\" programmer\"[p=0.01, l=10.62]', '\" (\"[p=0.01, l=10.62]', '\" farmer\"[p=0.01, l=10.56]', '\" musician\"[p=0.01, l=10.44]', '\" teacher\"[p=0.01, l=10.31]', '\" artist\"[p=0.01, l=10.31]']\n",
      "token_idx=30 [\" Scarborough\"] => ['\" politician\"[p=0.41, l=18.75]', '\" journalist\"[p=0.25, l=18.25]', '\" television\"[p=0.09, l=17.25]', '\" TV\"[p=0.06, l=16.88]', '\" news\"[p=0.04, l=16.50]', '\" political\"[p=0.03, l=16.25]', '\" tv\"[p=0.01, l=15.31]', '\" musician\"[p=0.01, l=15.25]', '\" lawyer\"[p=0.01, l=14.88]', '\" media\"[p=0.00, l=14.31]', '\" talk\"[p=0.00, l=14.12]', '\" Journal\"[p=0.00, l=13.94]', '\" radio\"[p=0.00, l=13.81]', '\" singer\"[p=0.00, l=13.75]', '\" Polit\"[p=0.00, l=13.69]']\n",
      "\n",
      "\" Andrey Rublev\" | cur_rng=(32, 36)\n",
      "token_idx=32 [\" And\"] => ['\" conjunction\"[p=0.06, l=11.06]', '\"?\\n\"[p=0.05, l=10.94]', '\" a\"[p=0.03, l=10.31]', '\" logical\"[p=0.02, l=10.25]', '\" operator\"[p=0.02, l=10.25]', '\" what\"[p=0.02, l=10.00]', '\" logic\"[p=0.02, l=10.00]', '\"?\"[p=0.02, l=9.94]', '\" so\"[p=0.02, l=9.94]', '\"...\"[p=0.02, l=9.81]', '\"?\\n\\n\"[p=0.02, l=9.81]', '\" \\n\"[p=0.01, l=9.62]', '\"??\"[p=0.01, l=9.56]', '\" And\"[p=0.01, l=9.56]', '\" lawyer\"[p=0.01, l=9.56]']\n",
      "token_idx=33 [\"rey\"] => ['\"?\\n\"[p=0.11, l=12.56]', '\" unknown\"[p=0.07, l=12.06]', '\" programmer\"[p=0.06, l=11.94]', '\"?\\n\\n\"[p=0.05, l=11.81]', '\"?\"[p=0.05, l=11.69]', '\"??\"[p=0.04, l=11.44]', '\" software\"[p=0.03, l=11.12]', '\"???\"[p=0.03, l=11.06]', '\" engineer\"[p=0.02, l=10.75]', '\" entrepreneur\"[p=0.02, l=10.62]', '\" no\"[p=0.01, l=10.50]', '\" artist\"[p=0.01, l=10.44]', '\" actor\"[p=0.01, l=10.25]', '\" student\"[p=0.01, l=10.12]', '\" what\"[p=0.01, l=10.12]']\n",
      "token_idx=34 [\" Rub\"] => ['\"?\\n\"[p=0.03, l=9.19]', '\" unknown\"[p=0.02, l=9.00]', '\" artist\"[p=0.02, l=8.88]', '\"??\"[p=0.02, l=8.69]', '\" not\"[p=0.01, l=8.25]', '\"?\"[p=0.01, l=8.19]', '\" massage\"[p=0.01, l=8.19]', '\"???\"[p=0.01, l=8.12]', '\" musician\"[p=0.01, l=8.12]', '\" politician\"[p=0.01, l=8.06]', '\" programmer\"[p=0.01, l=8.06]', '\" \\n\"[p=0.01, l=7.94]', '\" a\"[p=0.01, l=7.84]', '\" \"[p=0.01, l=7.84]', '\" what\"[p=0.01, l=7.78]']\n",
      "token_idx=35 [\"lev\"] => ['\" tennis\"[p=0.49, l=16.25]', '\" artist\"[p=0.11, l=14.75]', '\" painter\"[p=0.06, l=14.19]', '\" musician\"[p=0.03, l=13.31]', '\" politician\"[p=0.02, l=13.19]', '\" composer\"[p=0.02, l=13.19]', '\" writer\"[p=0.02, l=12.81]', '\" pian\"[p=0.01, l=12.38]', '\" novelist\"[p=0.01, l=12.25]', '\" chess\"[p=0.01, l=12.19]', '\" poet\"[p=0.01, l=12.00]', '\" mathematic\"[p=0.01, l=12.00]', '\" inventor\"[p=0.01, l=11.94]', '\" physicist\"[p=0.01, l=11.69]', '\" athlete\"[p=0.01, l=11.69]']\n",
      "\n",
      "\" Samuel L. Jackson\" | cur_rng=(37, 41)\n",
      "token_idx=37 [\" Samuel\"] => ['\" prophet\"[p=0.17, l=13.50]', '\" unknown\"[p=0.08, l=12.75]', '\" actor\"[p=0.06, l=12.44]', '\"?\\n\"[p=0.05, l=12.19]', '\"??\"[p=0.03, l=11.62]', '\" no\"[p=0.02, l=11.50]', '\"???\"[p=0.02, l=11.38]', '\"?\"[p=0.02, l=11.38]', '\" biblical\"[p=0.01, l=10.88]', '\" priest\"[p=0.01, l=10.75]', '\" (\"[p=0.01, l=10.69]', '\" not\"[p=0.01, l=10.62]', '\" philosopher\"[p=0.01, l=10.62]', '\" programmer\"[p=0.01, l=10.56]', '\" teacher\"[p=0.01, l=10.56]']\n",
      "token_idx=38 [\" L\"] => ['\" lawyer\"[p=0.06, l=11.06]', '\"?\\n\"[p=0.06, l=11.00]', '\" actor\"[p=0.06, l=11.00]', '\"?\"[p=0.02, l=10.06]', '\"??\"[p=0.02, l=10.00]', '\" singer\"[p=0.02, l=10.00]', '\" musician\"[p=0.02, l=9.94]', '\"?\\n\\n\"[p=0.02, l=9.88]', '\" artist\"[p=0.02, l=9.81]', '\" rapper\"[p=0.01, l=9.62]', '\" politician\"[p=0.01, l=9.62]', '\" L\"[p=0.01, l=9.56]', '\" unknown\"[p=0.01, l=9.38]', '\" (\"[p=0.01, l=9.38]', '\" programmer\"[p=0.01, l=9.38]']\n",
      "token_idx=39 [\".\"] => ['\" lawyer\"[p=0.05, l=10.88]', '\" \\n\"[p=0.04, l=10.69]', '\" politician\"[p=0.03, l=10.44]', '\"?\\n\"[p=0.03, l=10.38]', '\" (\"[p=0.03, l=10.31]', '\"?\\n\\n\"[p=0.03, l=10.25]', '\".\\n\"[p=0.02, l=10.06]', '\"\\n\\n\"[p=0.02, l=9.94]', '\" artist\"[p=0.02, l=9.69]', '\".\"[p=0.01, l=9.62]', '\" entrepreneur\"[p=0.01, l=9.56]', '\" scientist\"[p=0.01, l=9.50]', '\" actor\"[p=0.01, l=9.38]', '\" \"[p=0.01, l=9.31]', '\".\\n\"[p=0.01, l=9.25]']\n",
      "token_idx=40 [\" Jackson\"] => ['\" actor\"[p=0.65, l=15.56]', '\" singer\"[p=0.04, l=12.81]', '\" musician\"[p=0.02, l=12.19]', '\" politician\"[p=0.02, l=12.12]', '\" rapper\"[p=0.02, l=11.81]', '\" artist\"[p=0.01, l=11.75]', '\" painter\"[p=0.01, l=11.31]', '\" (\"[p=0.01, l=11.12]', '\" basketball\"[p=0.01, l=11.12]', '\" Jackson\"[p=0.01, l=11.06]', '\" movie\"[p=0.01, l=11.06]', '\"?\\n\"[p=0.01, l=10.81]', '\" Actor\"[p=0.01, l=10.75]', '\" football\"[p=0.00, l=10.69]', '\" film\"[p=0.00, l=10.56]']\n",
      "======================================================================================================================================================\n",
      "\n",
      "layer='model.layers.9'\n",
      "\n",
      "\"Ans:\" | cur_rng=(-2, 0)\n",
      "token_idx=-2 [\"Ans\"] => ['\"?\\n\"[p=0.09, l=11.75]', '\"??\"[p=0.05, l=11.06]', '\"?\\n\\n\"[p=0.04, l=10.81]', '\" programmer\"[p=0.03, l=10.75]', '\" student\"[p=0.03, l=10.75]', '\"?\"[p=0.03, l=10.50]', '\" software\"[p=0.02, l=10.38]', '\"???\"[p=0.02, l=10.25]', '\" unknown\"[p=0.02, l=10.25]', '\" entrepreneur\"[p=0.02, l=10.12]', '\" artist\"[p=0.02, l=10.06]', '\" computer\"[p=0.01, l=9.81]', '\" engineer\"[p=0.01, l=9.69]', '\" data\"[p=0.01, l=9.69]', '\" (\"[p=0.01, l=9.62]']\n",
      "token_idx=-1 [\":\"] => ['\"?\\n\"[p=0.33, l=14.69]', '\"?\\n\\n\"[p=0.20, l=14.19]', '\"?\"[p=0.08, l=13.31]', '\"??\"[p=0.04, l=12.56]', '\" \\n\"[p=0.02, l=11.88]', '\"???\"[p=0.01, l=11.38]', '\" lawyer\"[p=0.01, l=11.31]', '\" software\"[p=0.01, l=11.31]', '\"\\n\\n\"[p=0.01, l=11.12]', '\" politician\"[p=0.01, l=10.81]', '\" artist\"[p=0.01, l=10.81]', '\" (\"[p=0.01, l=10.75]', '\" astronaut\"[p=0.01, l=10.69]', '\" \\n\\n\"[p=0.01, l=10.69]', '\" \"[p=0.01, l=10.56]']\n",
      "\n",
      "\" Trevor Noah\" | cur_rng=(13, 15)\n",
      "token_idx=13 [\" Trevor\"] => ['\"?\\n\"[p=0.09, l=12.50]', '\" unknown\"[p=0.06, l=12.06]', '\"?\"[p=0.05, l=11.94]', '\"??\"[p=0.05, l=11.94]', '\"???\"[p=0.04, l=11.62]', '\"?\\n\\n\"[p=0.04, l=11.62]', '\" software\"[p=0.02, l=11.12]', '\" actor\"[p=0.02, l=10.75]', '\" (\"[p=0.01, l=10.62]', '\" no\"[p=0.01, l=10.44]', '\" programmer\"[p=0.01, l=10.31]', '\" data\"[p=0.01, l=10.25]', '\" politician\"[p=0.01, l=10.25]', '\" engineer\"[p=0.01, l=10.19]', '\" entrepreneur\"[p=0.01, l=10.12]']\n",
      "token_idx=14 [\" Noah\"] => ['\" comedian\"[p=0.87, l=18.25]', '\" actor\"[p=0.02, l=14.25]', '\" TV\"[p=0.01, l=14.12]', '\" television\"[p=0.01, l=13.50]', '\" Com\"[p=0.01, l=13.50]', '\" stand\"[p=0.00, l=13.00]', '\" (\"[p=0.00, l=13.00]', '\" politician\"[p=0.00, l=12.75]', '\" political\"[p=0.00, l=12.75]', '\" tv\"[p=0.00, l=12.75]', '\" talk\"[p=0.00, l=12.50]', '\" journalist\"[p=0.00, l=12.31]', '\" \"[p=0.00, l=12.06]', '\" writer\"[p=0.00, l=11.88]', '\" host\"[p=0.00, l=11.81]']\n",
      "\n",
      "\" Zion Williamson\" | cur_rng=(18, 20)\n",
      "token_idx=18 [\" Zion\"] => ['\" basketball\"[p=0.07, l=12.19]', '\" singer\"[p=0.06, l=12.12]', '\" rapper\"[p=0.05, l=11.81]', '\" football\"[p=0.04, l=11.75]', '\" musician\"[p=0.04, l=11.69]', '\" unknown\"[p=0.04, l=11.69]', '\"?\\n\"[p=0.03, l=11.38]', '\" soccer\"[p=0.02, l=11.19]', '\"??\"[p=0.02, l=11.06]', '\" artist\"[p=0.02, l=10.88]', '\" prophet\"[p=0.02, l=10.88]', '\" (\"[p=0.02, l=10.88]', '\" no\"[p=0.02, l=10.81]', '\" actor\"[p=0.02, l=10.75]', '\" student\"[p=0.01, l=10.62]']\n",
      "token_idx=19 [\" Williamson\"] => ['\" basketball\"[p=0.81, l=16.75]', '\" football\"[p=0.02, l=13.00]', '\" athlete\"[p=0.01, l=12.56]', '\" Basketball\"[p=0.01, l=12.31]', '\" NBA\"[p=0.01, l=12.31]', '\" college\"[p=0.01, l=12.12]', '\" professional\"[p=0.01, l=11.81]', '\" unknown\"[p=0.01, l=11.75]', '\" (\"[p=0.01, l=11.75]', '\" actor\"[p=0.00, l=11.44]', '\"??\"[p=0.00, l=11.38]', '\" basket\"[p=0.00, l=11.31]', '\" student\"[p=0.00, l=11.06]', '\" soccer\"[p=0.00, l=11.00]', '\"?\\n\"[p=0.00, l=11.00]']\n",
      "\n",
      "\" John Mulaney\" | cur_rng=(21, 24)\n",
      "token_idx=21 [\" John\"] => ['\" unknown\"[p=0.12, l=13.19]', '\"?\\n\"[p=0.06, l=12.44]', '\"?\"[p=0.04, l=12.12]', '\" no\"[p=0.03, l=11.75]', '\"???\"[p=0.03, l=11.69]', '\"??\"[p=0.02, l=11.56]', '\" lawyer\"[p=0.02, l=11.50]', '\" programmer\"[p=0.02, l=11.50]', '\" teacher\"[p=0.02, l=11.31]', '\" farmer\"[p=0.02, l=11.25]', '\" software\"[p=0.02, l=11.25]', '\" actor\"[p=0.02, l=11.19]', '\" (\"[p=0.02, l=11.12]', '\" doctor\"[p=0.01, l=11.00]', '\" student\"[p=0.01, l=11.00]']\n",
      "token_idx=22 [\" Mul\"] => ['\" musician\"[p=0.03, l=9.94]', '\" artist\"[p=0.02, l=9.69]', '\" actor\"[p=0.02, l=9.62]', '\" singer\"[p=0.02, l=9.56]', '\" farmer\"[p=0.02, l=9.50]', '\"?\\n\"[p=0.02, l=9.50]', '\"??\"[p=0.02, l=9.44]', '\" unknown\"[p=0.01, l=9.31]', '\"???\"[p=0.01, l=9.12]', '\" programmer\"[p=0.01, l=9.12]', '\" engineer\"[p=0.01, l=9.06]', '\" \"[p=0.01, l=9.00]', '\" politician\"[p=0.01, l=9.00]', '\"?\"[p=0.01, l=8.81]', '\" \\n\"[p=0.01, l=8.75]']\n",
      "token_idx=23 [\"aney\"] => ['\" comedian\"[p=0.76, l=16.88]', '\" stand\"[p=0.04, l=14.00]', '\" actor\"[p=0.02, l=13.31]', '\"??\"[p=0.01, l=12.50]', '\" politician\"[p=0.01, l=12.44]', '\" Com\"[p=0.01, l=12.38]', '\"?\\n\"[p=0.01, l=12.31]', '\" (\"[p=0.01, l=12.06]', '\" writer\"[p=0.00, l=11.75]', '\" unknown\"[p=0.00, l=11.62]', '\" actress\"[p=0.00, l=11.62]', '\" musician\"[p=0.00, l=11.50]', '\" comic\"[p=0.00, l=11.44]', '\"?\"[p=0.00, l=11.44]', '\"???\"[p=0.00, l=11.44]']\n",
      "\n",
      "\" Ariana Grande\" | cur_rng=(25, 28)\n",
      "token_idx=25 [\" Ari\"] => ['\" singer\"[p=0.18, l=13.19]', '\" musician\"[p=0.06, l=12.06]', '\" artist\"[p=0.05, l=11.94]', '\" student\"[p=0.02, l=11.00]', '\" actor\"[p=0.02, l=10.94]', '\"?\\n\"[p=0.02, l=10.94]', '\" software\"[p=0.02, l=10.75]', '\" pop\"[p=0.01, l=10.62]', '\" unknown\"[p=0.01, l=10.50]', '\" actress\"[p=0.01, l=10.50]', '\" You\"[p=0.01, l=10.44]', '\"??\"[p=0.01, l=10.38]', '\" model\"[p=0.01, l=10.31]', '\" teacher\"[p=0.01, l=10.25]', '\" entrepreneur\"[p=0.01, l=10.12]']\n",
      "token_idx=26 [\"ana\"] => ['\" singer\"[p=0.54, l=14.88]', '\" pop\"[p=0.05, l=12.50]', '\" unknown\"[p=0.03, l=12.00]', '\"?\\n\"[p=0.03, l=11.94]', '\" musician\"[p=0.02, l=11.75]', '\" artist\"[p=0.01, l=11.25]', '\" actress\"[p=0.01, l=11.19]', '\" no\"[p=0.01, l=11.19]', '\"?\"[p=0.01, l=11.12]', '\" (\"[p=0.01, l=10.94]', '\"??\"[p=0.01, l=10.56]', '\" model\"[p=0.01, l=10.50]', '\" student\"[p=0.01, l=10.44]', '\" not\"[p=0.01, l=10.31]', '\" teacher\"[p=0.01, l=10.25]']\n",
      "token_idx=27 [\" Grande\"] => ['\" singer\"[p=0.93, l=20.50]', '\" musician\"[p=0.02, l=16.88]', '\" pop\"[p=0.02, l=16.50]', '\" Singer\"[p=0.01, l=15.44]', '\" artist\"[p=0.00, l=14.50]', '\" actress\"[p=0.00, l=14.31]', '\" music\"[p=0.00, l=13.75]', '\" \"[p=0.00, l=13.44]', '\" songwriter\"[p=0.00, l=13.00]', '\" Music\"[p=0.00, l=13.00]', '\" celebrity\"[p=0.00, l=12.94]', '\" (\"[p=0.00, l=12.81]', '\" entert\"[p=0.00, l=12.44]', '\" singers\"[p=0.00, l=12.38]', '\" vocalist\"[p=0.00, l=12.31]']\n",
      "\n",
      "\" Joe Scarborough\" | cur_rng=(29, 31)\n",
      "token_idx=29 [\" Joe\"] => ['\" unknown\"[p=0.08, l=12.44]', '\"?\\n\"[p=0.05, l=12.06]', '\"?\"[p=0.04, l=11.69]', '\"??\"[p=0.03, l=11.50]', '\"???\"[p=0.03, l=11.44]', '\" student\"[p=0.02, l=10.94]', '\" programmer\"[p=0.02, l=10.94]', '\" politician\"[p=0.02, l=10.94]', '\" no\"[p=0.02, l=10.88]', '\" software\"[p=0.02, l=10.81]', '\" farmer\"[p=0.01, l=10.75]', '\" (\"[p=0.01, l=10.75]', '\" engineer\"[p=0.01, l=10.62]', '\" unemployed\"[p=0.01, l=10.56]', '\"?\\n\\n\"[p=0.01, l=10.56]']\n",
      "token_idx=30 [\" Scarborough\"] => ['\" politician\"[p=0.50, l=17.00]', '\" journalist\"[p=0.14, l=15.75]', '\" TV\"[p=0.06, l=14.81]', '\" television\"[p=0.05, l=14.62]', '\" political\"[p=0.04, l=14.50]', '\" news\"[p=0.03, l=14.31]', '\" musician\"[p=0.01, l=13.38]', '\" tv\"[p=0.01, l=13.31]', '\" lawyer\"[p=0.01, l=13.00]', '\" Polit\"[p=0.01, l=12.69]', '\" (\"[p=0.01, l=12.56]', '\" Journal\"[p=0.01, l=12.56]', '\" media\"[p=0.01, l=12.44]', '\" talk\"[p=0.00, l=12.31]', '\" actor\"[p=0.00, l=12.25]']\n",
      "\n",
      "\" Andrey Rublev\" | cur_rng=(32, 36)\n",
      "token_idx=32 [\" And\"] => ['\"?\\n\"[p=0.09, l=11.75]', '\" musician\"[p=0.04, l=10.94]', '\" singer\"[p=0.03, l=10.62]', '\"?\\n\\n\"[p=0.03, l=10.56]', '\"?\"[p=0.03, l=10.56]', '\"??\"[p=0.02, l=10.38]', '\" programmer\"[p=0.02, l=10.25]', '\" software\"[p=0.02, l=10.12]', '\" artist\"[p=0.02, l=10.12]', '\" what\"[p=0.02, l=10.06]', '\" lawyer\"[p=0.02, l=10.06]', '\" engineer\"[p=0.01, l=9.94]', '\"...\"[p=0.01, l=9.88]', '\" a\"[p=0.01, l=9.88]', '\"???\"[p=0.01, l=9.81]']\n",
      "token_idx=33 [\"rey\"] => ['\"?\\n\"[p=0.12, l=12.56]', '\" programmer\"[p=0.06, l=11.88]', '\"?\\n\\n\"[p=0.06, l=11.88]', '\" unknown\"[p=0.06, l=11.88]', '\"?\"[p=0.05, l=11.69]', '\"??\"[p=0.05, l=11.62]', '\" software\"[p=0.03, l=11.25]', '\"???\"[p=0.03, l=11.19]', '\" engineer\"[p=0.02, l=10.56]', '\" entrepreneur\"[p=0.02, l=10.50]', '\" student\"[p=0.01, l=10.38]', '\" artist\"[p=0.01, l=10.25]', '\" no\"[p=0.01, l=10.19]', '\" astronaut\"[p=0.01, l=9.94]', '\" what\"[p=0.01, l=9.94]']\n",
      "token_idx=34 [\" Rub\"] => ['\" artist\"[p=0.03, l=9.81]', '\" unknown\"[p=0.02, l=9.50]', '\"?\\n\"[p=0.02, l=9.25]', '\" singer\"[p=0.01, l=9.00]', '\"??\"[p=0.01, l=9.00]', '\" musician\"[p=0.01, l=8.88]', '\" rapper\"[p=0.01, l=8.88]', '\" Rub\"[p=0.01, l=8.75]', '\" painter\"[p=0.01, l=8.56]', '\"???\"[p=0.01, l=8.50]', '\" not\"[p=0.01, l=8.50]', '\" programmer\"[p=0.01, l=8.50]', '\" \"[p=0.01, l=8.38]', '\"?\"[p=0.01, l=8.31]', '\" no\"[p=0.01, l=8.31]']\n",
      "token_idx=35 [\"lev\"] => ['\" tennis\"[p=0.52, l=16.25]', '\" artist\"[p=0.06, l=14.00]', '\" politician\"[p=0.05, l=13.88]', '\" painter\"[p=0.03, l=13.44]', '\" musician\"[p=0.03, l=13.31]', '\" composer\"[p=0.02, l=13.19]', '\" writer\"[p=0.02, l=12.94]', '\" novelist\"[p=0.01, l=12.50]', '\" chess\"[p=0.01, l=12.19]', '\" pian\"[p=0.01, l=12.19]', '\" poet\"[p=0.01, l=12.12]', '\" inventor\"[p=0.01, l=11.88]', '\"?\\n\"[p=0.01, l=11.75]', '\" athlete\"[p=0.01, l=11.69]', '\" (\"[p=0.01, l=11.69]']\n",
      "\n",
      "\" Samuel L. Jackson\" | cur_rng=(37, 41)\n",
      "token_idx=37 [\" Samuel\"] => ['\" prophet\"[p=0.21, l=13.69]', '\" unknown\"[p=0.09, l=12.81]', '\"?\\n\"[p=0.06, l=12.44]', '\"??\"[p=0.03, l=11.88]', '\" actor\"[p=0.03, l=11.81]', '\"?\"[p=0.03, l=11.62]', '\" no\"[p=0.02, l=11.56]', '\"???\"[p=0.02, l=11.56]', '\" biblical\"[p=0.01, l=10.69]', '\" not\"[p=0.01, l=10.69]', '\" (\"[p=0.01, l=10.69]', '\" philosopher\"[p=0.01, l=10.69]', '\" I\"[p=0.01, l=10.62]', '\"?\\n\\n\"[p=0.01, l=10.38]', '\" teacher\"[p=0.01, l=10.31]']\n",
      "token_idx=38 [\" L\"] => ['\"?\\n\"[p=0.05, l=10.62]', '\" lawyer\"[p=0.05, l=10.50]', '\" actor\"[p=0.03, l=9.88]', '\"??\"[p=0.02, l=9.81]', '\" singer\"[p=0.02, l=9.75]', '\" musician\"[p=0.02, l=9.56]', '\"?\"[p=0.02, l=9.50]', '\" scientist\"[p=0.01, l=9.31]', '\"?\\n\\n\"[p=0.01, l=9.31]', '\" rapper\"[p=0.01, l=9.25]', '\" L\"[p=0.01, l=9.25]', '\" \"[p=0.01, l=9.06]', '\"???\"[p=0.01, l=9.06]', '\" artist\"[p=0.01, l=9.06]', '\" (\"[p=0.01, l=9.00]']\n",
      "token_idx=39 [\".\"] => ['\" lawyer\"[p=0.08, l=11.44]', '\"?\\n\"[p=0.07, l=11.25]', '\"?\\n\\n\"[p=0.04, l=10.69]', '\" (\"[p=0.03, l=10.38]', '\"?\"[p=0.02, l=10.25]', '\" \\n\"[p=0.02, l=10.19]', '\" politician\"[p=0.02, l=10.06]', '\" unknown\"[p=0.02, l=9.88]', '\"??\"[p=0.02, l=9.88]', '\" scientist\"[p=0.01, l=9.62]', '\" letter\"[p=0.01, l=9.56]', '\" L\"[p=0.01, l=9.56]', '\" artist\"[p=0.01, l=9.25]', '\" \"[p=0.01, l=9.19]', '\" actor\"[p=0.01, l=9.12]']\n",
      "token_idx=40 [\" Jackson\"] => ['\" actor\"[p=0.32, l=14.00]', '\" singer\"[p=0.05, l=12.19]', '\" politician\"[p=0.04, l=11.88]', '\" musician\"[p=0.03, l=11.69]', '\" unknown\"[p=0.03, l=11.50]', '\"?\\n\"[p=0.03, l=11.50]', '\" artist\"[p=0.03, l=11.50]', '\" (\"[p=0.02, l=11.00]', '\"?\"[p=0.01, l=10.94]', '\" Jackson\"[p=0.01, l=10.94]', '\" football\"[p=0.01, l=10.88]', '\"??\"[p=0.01, l=10.88]', '\" rapper\"[p=0.01, l=10.88]', '\" basketball\"[p=0.01, l=10.88]', '\" painter\"[p=0.01, l=10.62]']\n",
      "======================================================================================================================================================\n",
      "\n",
      "layer='model.layers.12'\n",
      "\n",
      "\"Ans:\" | cur_rng=(-2, 0)\n",
      "token_idx=-2 [\"Ans\"] => ['\"?\\n\"[p=0.10, l=11.75]', '\"??\"[p=0.05, l=11.12]', '\"?\\n\\n\"[p=0.04, l=10.81]', '\" student\"[p=0.03, l=10.69]', '\" programmer\"[p=0.03, l=10.50]', '\"?\"[p=0.03, l=10.38]', '\" unknown\"[p=0.02, l=10.31]', '\"???\"[p=0.02, l=10.25]', '\" artist\"[p=0.02, l=10.06]', '\" software\"[p=0.02, l=10.00]', '\" singer\"[p=0.01, l=9.62]', '\" entrepreneur\"[p=0.01, l=9.62]', '\" computer\"[p=0.01, l=9.56]', '\" (\"[p=0.01, l=9.50]', '\" engineer\"[p=0.01, l=9.44]']\n",
      "token_idx=-1 [\":\"] => ['\"?\\n\"[p=0.25, l=14.12]', '\"?\\n\\n\"[p=0.14, l=13.56]', '\"?\"[p=0.06, l=12.62]', '\"??\"[p=0.04, l=12.25]', '\" \\n\"[p=0.02, l=11.75]', '\" software\"[p=0.02, l=11.62]', '\" lawyer\"[p=0.02, l=11.62]', '\" politician\"[p=0.02, l=11.50]', '\" artist\"[p=0.02, l=11.31]', '\" actor\"[p=0.01, l=11.19]', '\"???\"[p=0.01, l=11.00]', '\" programmer\"[p=0.01, l=10.88]', '\" astronaut\"[p=0.01, l=10.88]', '\" doctor\"[p=0.01, l=10.75]', '\" computer\"[p=0.01, l=10.75]']\n",
      "\n",
      "\" Trevor Noah\" | cur_rng=(13, 15)\n",
      "token_idx=13 [\" Trevor\"] => ['\"?\\n\"[p=0.07, l=12.12]', '\" unknown\"[p=0.06, l=12.00]', '\"?\"[p=0.05, l=11.75]', '\"??\"[p=0.05, l=11.75]', '\"???\"[p=0.04, l=11.62]', '\"?\\n\\n\"[p=0.03, l=11.25]', '\" software\"[p=0.03, l=11.06]', '\" (\"[p=0.02, l=10.69]', '\" no\"[p=0.01, l=10.50]', '\" actor\"[p=0.01, l=10.44]', '\" farmer\"[p=0.01, l=10.25]', '\" data\"[p=0.01, l=10.12]', '\" You\"[p=0.01, l=10.06]', '\" engineer\"[p=0.01, l=9.94]', '\" what\"[p=0.01, l=9.94]']\n",
      "token_idx=14 [\" Noah\"] => ['\" comedian\"[p=0.96, l=21.25]', '\" stand\"[p=0.01, l=16.12]', '\" TV\"[p=0.01, l=16.00]', '\" Com\"[p=0.00, l=15.75]', '\" television\"[p=0.00, l=15.56]', '\" actor\"[p=0.00, l=15.31]', '\" journalist\"[p=0.00, l=14.88]', '\" political\"[p=0.00, l=14.75]', '\" tv\"[p=0.00, l=14.31]', '\" politician\"[p=0.00, l=14.12]', '\" talk\"[p=0.00, l=13.94]', '\" comedy\"[p=0.00, l=13.81]', '\" (\"[p=0.00, l=13.75]', '\" \"[p=0.00, l=13.75]', '\" media\"[p=0.00, l=13.62]']\n",
      "\n",
      "\" Zion Williamson\" | cur_rng=(18, 20)\n",
      "token_idx=18 [\" Zion\"] => ['\" singer\"[p=0.06, l=11.81]', '\" basketball\"[p=0.05, l=11.62]', '\" unknown\"[p=0.05, l=11.56]', '\" football\"[p=0.05, l=11.56]', '\"?\\n\"[p=0.04, l=11.38]', '\" rapper\"[p=0.03, l=11.25]', '\" soccer\"[p=0.03, l=11.25]', '\" musician\"[p=0.03, l=11.19]', '\"??\"[p=0.02, l=10.94]', '\" (\"[p=0.02, l=10.62]', '\" student\"[p=0.02, l=10.56]', '\" no\"[p=0.02, l=10.56]', '\" artist\"[p=0.02, l=10.50]', '\"???\"[p=0.01, l=10.25]', '\" actor\"[p=0.01, l=10.19]']\n",
      "token_idx=19 [\" Williamson\"] => ['\" basketball\"[p=0.89, l=18.12]', '\" football\"[p=0.01, l=13.69]', '\" athlete\"[p=0.01, l=13.50]', '\" professional\"[p=0.01, l=13.50]', '\" NBA\"[p=0.01, l=13.44]', '\" Basketball\"[p=0.01, l=13.44]', '\" college\"[p=0.01, l=13.00]', '\" soccer\"[p=0.00, l=12.19]', '\" actor\"[p=0.00, l=12.12]', '\" baseball\"[p=0.00, l=12.00]', '\" basket\"[p=0.00, l=12.00]', '\" student\"[p=0.00, l=11.88]', '\" (\"[p=0.00, l=11.88]', '\" entrepreneur\"[p=0.00, l=11.75]', '\" \"[p=0.00, l=11.69]']\n",
      "\n",
      "\" John Mulaney\" | cur_rng=(21, 24)\n",
      "token_idx=21 [\" John\"] => ['\" unknown\"[p=0.14, l=13.44]', '\"?\\n\"[p=0.06, l=12.56]', '\"?\"[p=0.05, l=12.31]', '\"???\"[p=0.03, l=11.94]', '\" no\"[p=0.03, l=11.88]', '\"??\"[p=0.03, l=11.75]', '\" programmer\"[p=0.02, l=11.50]', '\" farmer\"[p=0.02, l=11.44]', '\" lawyer\"[p=0.02, l=11.44]', '\" software\"[p=0.02, l=11.25]', '\" teacher\"[p=0.02, l=11.25]', '\" (\"[p=0.02, l=11.25]', '\" actor\"[p=0.02, l=11.19]', '\" engineer\"[p=0.01, l=11.06]', '\" artist\"[p=0.01, l=10.94]']\n",
      "token_idx=22 [\" Mul\"] => ['\" musician\"[p=0.03, l=10.31]', '\" actor\"[p=0.03, l=10.19]', '\" farmer\"[p=0.02, l=10.00]', '\" artist\"[p=0.02, l=9.88]', '\" singer\"[p=0.02, l=9.81]', '\" unknown\"[p=0.02, l=9.81]', '\"??\"[p=0.02, l=9.75]', '\" programmer\"[p=0.01, l=9.62]', '\" engineer\"[p=0.01, l=9.56]', '\"?\\n\"[p=0.01, l=9.56]', '\"???\"[p=0.01, l=9.44]', '\" politician\"[p=0.01, l=9.38]', '\" software\"[p=0.01, l=9.31]', '\" \"[p=0.01, l=9.25]', '\" \\n\"[p=0.01, l=9.06]']\n",
      "token_idx=23 [\"aney\"] => ['\" comedian\"[p=0.83, l=18.12]', '\" stand\"[p=0.05, l=15.38]', '\" actor\"[p=0.02, l=14.25]', '\" Com\"[p=0.01, l=13.69]', '\" (\"[p=0.00, l=12.94]', '\" John\"[p=0.00, l=12.94]', '\" politician\"[p=0.00, l=12.69]', '\"??\"[p=0.00, l=12.62]', '\" writer\"[p=0.00, l=12.38]', '\" comic\"[p=0.00, l=12.38]', '\"?\\n\"[p=0.00, l=12.19]', '\" Stand\"[p=0.00, l=12.19]', '\" \"[p=0.00, l=12.12]', '\" lawyer\"[p=0.00, l=11.94]', '\" \\n\"[p=0.00, l=11.62]']\n",
      "\n",
      "\" Ariana Grande\" | cur_rng=(25, 28)\n",
      "token_idx=25 [\" Ari\"] => ['\" singer\"[p=0.07, l=11.81]', '\"?\\n\"[p=0.04, l=11.31]', '\" artist\"[p=0.04, l=11.19]', '\" musician\"[p=0.03, l=10.88]', '\" student\"[p=0.02, l=10.75]', '\" unknown\"[p=0.02, l=10.69]', '\"??\"[p=0.02, l=10.62]', '\" software\"[p=0.02, l=10.38]', '\"?\"[p=0.02, l=10.38]', '\" actor\"[p=0.02, l=10.31]', '\"???\"[p=0.01, l=10.19]', '\" teacher\"[p=0.01, l=10.00]', '\" entrepreneur\"[p=0.01, l=9.94]', '\" actress\"[p=0.01, l=9.81]', '\" You\"[p=0.01, l=9.81]']\n",
      "token_idx=26 [\"ana\"] => ['\" singer\"[p=0.50, l=14.69]', '\" pop\"[p=0.05, l=12.31]', '\"?\\n\"[p=0.04, l=12.19]', '\" unknown\"[p=0.04, l=12.06]', '\" musician\"[p=0.02, l=11.44]', '\"?\"[p=0.02, l=11.31]', '\" no\"[p=0.01, l=11.12]', '\" artist\"[p=0.01, l=11.06]', '\" actress\"[p=0.01, l=10.81]', '\" (\"[p=0.01, l=10.81]', '\"??\"[p=0.01, l=10.75]', '\" model\"[p=0.01, l=10.50]', '\" student\"[p=0.01, l=10.50]', '\" not\"[p=0.01, l=10.38]', '\"???\"[p=0.01, l=10.31]']\n",
      "token_idx=27 [\" Grande\"] => ['\" singer\"[p=0.96, l=22.38]', '\" musician\"[p=0.02, l=18.25]', '\" pop\"[p=0.02, l=18.25]', '\" Singer\"[p=0.00, l=16.75]', '\" artist\"[p=0.00, l=15.56]', '\" actress\"[p=0.00, l=15.50]', '\" music\"[p=0.00, l=14.94]', '\" \"[p=0.00, l=14.50]', '\" songwriter\"[p=0.00, l=14.25]', '\" vocalist\"[p=0.00, l=13.69]', '\" singers\"[p=0.00, l=13.69]', '\" Music\"[p=0.00, l=13.62]', '\" signer\"[p=0.00, l=13.62]', '\" entert\"[p=0.00, l=13.31]', '\" actor\"[p=0.00, l=13.31]']\n",
      "\n",
      "\" Joe Scarborough\" | cur_rng=(29, 31)\n",
      "token_idx=29 [\" Joe\"] => ['\" unknown\"[p=0.07, l=12.50]', '\"?\\n\"[p=0.03, l=11.62]', '\"???\"[p=0.02, l=11.31]', '\"?\"[p=0.02, l=11.25]', '\"??\"[p=0.02, l=11.19]', '\" politician\"[p=0.02, l=11.12]', '\" no\"[p=0.02, l=11.06]', '\" unemployed\"[p=0.02, l=11.00]', '\" farmer\"[p=0.02, l=11.00]', '\" student\"[p=0.01, l=10.88]', '\" teacher\"[p=0.01, l=10.88]', '\" plumber\"[p=0.01, l=10.81]', '\" programmer\"[p=0.01, l=10.81]', '\" software\"[p=0.01, l=10.81]', '\" (\"[p=0.01, l=10.81]']\n",
      "token_idx=30 [\" Scarborough\"] => ['\" politician\"[p=0.33, l=18.12]', '\" journalist\"[p=0.26, l=17.88]', '\" television\"[p=0.11, l=17.00]', '\" TV\"[p=0.09, l=16.88]', '\" news\"[p=0.06, l=16.38]', '\" political\"[p=0.04, l=16.12]', '\" tv\"[p=0.02, l=15.12]', '\" media\"[p=0.01, l=14.31]', '\" talk\"[p=0.01, l=14.06]', '\" lawyer\"[p=0.01, l=14.06]', '\" Journal\"[p=0.01, l=14.00]', '\" Polit\"[p=0.00, l=13.50]', '\" radio\"[p=0.00, l=13.38]', '\" (\"[p=0.00, l=13.38]', '\" musician\"[p=0.00, l=13.38]']\n",
      "\n",
      "\" Andrey Rublev\" | cur_rng=(32, 36)\n",
      "token_idx=32 [\" And\"] => ['\"?\\n\"[p=0.09, l=11.50]', '\"?\\n\\n\"[p=0.03, l=10.56]', '\"?\"[p=0.03, l=10.50]', '\" musician\"[p=0.02, l=10.19]', '\"??\"[p=0.02, l=10.12]', '\" singer\"[p=0.02, l=9.94]', '\" programmer\"[p=0.02, l=9.88]', '\" lawyer\"[p=0.02, l=9.81]', '\" conjunction\"[p=0.02, l=9.75]', '\" And\"[p=0.02, l=9.75]', '\"...\"[p=0.02, l=9.75]', '\" what\"[p=0.02, l=9.75]', '\" logic\"[p=0.01, l=9.62]', '\" (\"[p=0.01, l=9.62]', '\"???\"[p=0.01, l=9.62]']\n",
      "token_idx=33 [\"rey\"] => ['\"?\\n\"[p=0.12, l=12.44]', '\" programmer\"[p=0.06, l=11.81]', '\"?\\n\\n\"[p=0.05, l=11.69]', '\" unknown\"[p=0.05, l=11.56]', '\"??\"[p=0.05, l=11.50]', '\"?\"[p=0.05, l=11.50]', '\" software\"[p=0.04, l=11.44]', '\"???\"[p=0.03, l=11.06]', '\" engineer\"[p=0.02, l=10.62]', '\" student\"[p=0.02, l=10.56]', '\" entrepreneur\"[p=0.01, l=10.25]', '\" artist\"[p=0.01, l=10.19]', '\" no\"[p=0.01, l=9.94]', '\" developer\"[p=0.01, l=9.88]', '\" computer\"[p=0.01, l=9.88]']\n",
      "token_idx=34 [\" Rub\"] => ['\" artist\"[p=0.04, l=10.69]', '\" unknown\"[p=0.03, l=10.19]', '\" musician\"[p=0.02, l=9.88]', '\" singer\"[p=0.02, l=9.81]', '\"??\"[p=0.02, l=9.69]', '\"?\\n\"[p=0.02, l=9.69]', '\" programmer\"[p=0.01, l=9.44]', '\" Rub\"[p=0.01, l=9.31]', '\" actor\"[p=0.01, l=9.25]', '\" entrepreneur\"[p=0.01, l=9.25]', '\" politician\"[p=0.01, l=9.25]', '\" painter\"[p=0.01, l=9.19]', '\" rapper\"[p=0.01, l=9.19]', '\" software\"[p=0.01, l=9.06]', '\" mathematic\"[p=0.01, l=8.94]']\n",
      "token_idx=35 [\"lev\"] => ['\" tennis\"[p=0.59, l=16.12]', '\" artist\"[p=0.03, l=13.19]', '\" painter\"[p=0.03, l=13.12]', '\" politician\"[p=0.03, l=13.06]', '\" musician\"[p=0.03, l=13.00]', '\" writer\"[p=0.01, l=12.25]', '\" composer\"[p=0.01, l=12.12]', '\" athlete\"[p=0.01, l=12.00]', '\" poet\"[p=0.01, l=11.94]', '\" novelist\"[p=0.01, l=11.88]', '\" actor\"[p=0.01, l=11.75]', '\" chess\"[p=0.01, l=11.69]', '\" pian\"[p=0.01, l=11.62]', '\"?\\n\"[p=0.01, l=11.44]', '\" (\"[p=0.01, l=11.44]']\n",
      "\n",
      "\" Samuel L. Jackson\" | cur_rng=(37, 41)\n",
      "token_idx=37 [\" Samuel\"] => ['\" prophet\"[p=0.21, l=13.50]', '\" unknown\"[p=0.07, l=12.44]', '\"?\\n\"[p=0.04, l=11.81]', '\" actor\"[p=0.03, l=11.56]', '\"??\"[p=0.02, l=11.25]', '\" no\"[p=0.02, l=11.19]', '\"???\"[p=0.02, l=10.94]', '\"?\"[p=0.02, l=10.94]', '\" biblical\"[p=0.02, l=10.88]', '\" (\"[p=0.01, l=10.62]', '\" judge\"[p=0.01, l=10.50]', '\" not\"[p=0.01, l=10.50]', '\" I\"[p=0.01, l=10.31]', '\" Prophet\"[p=0.01, l=10.25]', '\" priest\"[p=0.01, l=10.19]']\n",
      "token_idx=38 [\" L\"] => ['\"?\\n\"[p=0.05, l=10.88]', '\" actor\"[p=0.05, l=10.88]', '\" lawyer\"[p=0.04, l=10.81]', '\"??\"[p=0.03, l=10.44]', '\" musician\"[p=0.03, l=10.38]', '\" singer\"[p=0.03, l=10.31]', '\" rapper\"[p=0.02, l=10.25]', '\"???\"[p=0.02, l=9.81]', '\" detective\"[p=0.02, l=9.75]', '\"?\"[p=0.01, l=9.69]', '\" (\"[p=0.01, l=9.62]', '\" scientist\"[p=0.01, l=9.62]', '\"?\\n\\n\"[p=0.01, l=9.38]', '\" artist\"[p=0.01, l=9.38]', '\" \"[p=0.01, l=9.19]']\n",
      "token_idx=39 [\".\"] => ['\" lawyer\"[p=0.11, l=11.75]', '\"?\\n\"[p=0.05, l=11.00]', '\"?\\n\\n\"[p=0.03, l=10.38]', '\" (\"[p=0.02, l=10.25]', '\" politician\"[p=0.02, l=10.19]', '\"?\"[p=0.02, l=10.06]', '\" \\n\"[p=0.02, l=9.94]', '\"??\"[p=0.02, l=9.94]', '\" unknown\"[p=0.02, l=9.88]', '\" scientist\"[p=0.02, l=9.81]', '\" L\"[p=0.01, l=9.50]', '\" letter\"[p=0.01, l=9.50]', '\" Lawyer\"[p=0.01, l=9.44]', '\" astronaut\"[p=0.01, l=9.38]', '\" artist\"[p=0.01, l=9.38]']\n",
      "token_idx=40 [\" Jackson\"] => ['\" actor\"[p=0.43, l=14.38]', '\" singer\"[p=0.05, l=12.19]', '\" politician\"[p=0.03, l=11.62]', '\" musician\"[p=0.03, l=11.56]', '\" artist\"[p=0.02, l=11.44]', '\" rapper\"[p=0.02, l=11.31]', '\" basketball\"[p=0.02, l=11.25]', '\"?\\n\"[p=0.02, l=11.19]', '\" painter\"[p=0.02, l=11.12]', '\" Jackson\"[p=0.01, l=10.88]', '\" (\"[p=0.01, l=10.88]', '\" unknown\"[p=0.01, l=10.81]', '\" football\"[p=0.01, l=10.75]', '\"?\"[p=0.01, l=10.75]', '\"??\"[p=0.01, l=10.69]']\n",
      "======================================================================================================================================================\n",
      "\n",
      "layer='model.layers.15'\n",
      "\n",
      "\"Ans:\" | cur_rng=(-2, 0)\n",
      "token_idx=-2 [\"Ans\"] => ['\"?\\n\"[p=0.07, l=11.44]', '\" student\"[p=0.05, l=11.00]', '\" programmer\"[p=0.04, l=10.81]', '\"??\"[p=0.04, l=10.75]', '\"?\\n\\n\"[p=0.03, l=10.50]', '\" software\"[p=0.02, l=10.19]', '\" unknown\"[p=0.02, l=10.19]', '\" artist\"[p=0.02, l=10.12]', '\"?\"[p=0.02, l=10.06]', '\" computer\"[p=0.01, l=9.81]', '\"???\"[p=0.01, l=9.81]', '\" entrepreneur\"[p=0.01, l=9.69]', '\" singer\"[p=0.01, l=9.69]', '\" data\"[p=0.01, l=9.62]', '\" (\"[p=0.01, l=9.56]']\n",
      "token_idx=-1 [\":\"] => ['\"?\\n\"[p=0.11, l=12.88]', '\"?\\n\\n\"[p=0.11, l=12.88]', '\"?\"[p=0.04, l=11.81]', '\" \\n\"[p=0.04, l=11.81]', '\"??\"[p=0.03, l=11.62]', '\" software\"[p=0.03, l=11.50]', '\" lawyer\"[p=0.03, l=11.50]', '\" politician\"[p=0.03, l=11.44]', '\" artist\"[p=0.03, l=11.38]', '\" actor\"[p=0.02, l=11.06]', '\"???\"[p=0.02, l=11.00]', '\" programmer\"[p=0.01, l=10.75]', '\" \\n\\n\"[p=0.01, l=10.69]', '\" (\"[p=0.01, l=10.69]', '\" engineer\"[p=0.01, l=10.69]']\n",
      "\n",
      "\" Trevor Noah\" | cur_rng=(13, 15)\n",
      "token_idx=13 [\" Trevor\"] => ['\" unknown\"[p=0.06, l=12.06]', '\"?\\n\"[p=0.05, l=11.94]', '\"??\"[p=0.05, l=11.81]', '\"???\"[p=0.04, l=11.69]', '\" comedian\"[p=0.04, l=11.62]', '\" software\"[p=0.03, l=11.50]', '\"?\"[p=0.03, l=11.38]', '\" actor\"[p=0.02, l=11.12]', '\" (\"[p=0.02, l=11.00]', '\" You\"[p=0.02, l=10.94]', '\" cr\"[p=0.02, l=10.88]', '\" criminal\"[p=0.02, l=10.81]', '\"?\\n\\n\"[p=0.02, l=10.81]', '\" musician\"[p=0.01, l=10.69]', '\" farmer\"[p=0.01, l=10.50]']\n",
      "token_idx=14 [\" Noah\"] => ['\" comedian\"[p=0.97, l=21.25]', '\" stand\"[p=0.01, l=16.50]', '\" Com\"[p=0.00, l=15.75]', '\" actor\"[p=0.00, l=15.19]', '\" TV\"[p=0.00, l=15.12]', '\" journalist\"[p=0.00, l=14.75]', '\" television\"[p=0.00, l=14.62]', '\" political\"[p=0.00, l=14.00]', '\" \"[p=0.00, l=13.88]', '\" comedy\"[p=0.00, l=13.81]', '\" (\"[p=0.00, l=13.69]', '\" politician\"[p=0.00, l=13.69]', '\" talk\"[p=0.00, l=13.62]', '\" comic\"[p=0.00, l=13.50]', '\" writer\"[p=0.00, l=13.44]']\n",
      "\n",
      "\" Zion Williamson\" | cur_rng=(18, 20)\n",
      "token_idx=18 [\" Zion\"] => ['\" unknown\"[p=0.06, l=11.38]', '\"?\\n\"[p=0.05, l=11.25]', '\" singer\"[p=0.05, l=11.19]', '\"??\"[p=0.04, l=11.00]', '\" rapper\"[p=0.03, l=10.75]', '\" basketball\"[p=0.03, l=10.75]', '\" musician\"[p=0.03, l=10.69]', '\" football\"[p=0.03, l=10.69]', '\" soccer\"[p=0.02, l=10.31]', '\"???\"[p=0.02, l=10.25]', '\" no\"[p=0.02, l=10.19]', '\"?\"[p=0.02, l=10.12]', '\" (\"[p=0.02, l=10.06]', '\" artist\"[p=0.01, l=9.94]', '\" student\"[p=0.01, l=9.81]']\n",
      "token_idx=19 [\" Williamson\"] => ['\" basketball\"[p=0.86, l=17.62]', '\" professional\"[p=0.01, l=13.38]', '\" football\"[p=0.01, l=13.38]', '\" Basketball\"[p=0.01, l=13.19]', '\" NBA\"[p=0.01, l=13.06]', '\" college\"[p=0.01, l=12.88]', '\" athlete\"[p=0.01, l=12.81]', '\" soccer\"[p=0.00, l=12.38]', '\" actor\"[p=0.00, l=11.88]', '\" basket\"[p=0.00, l=11.75]', '\" (\"[p=0.00, l=11.69]', '\" unknown\"[p=0.00, l=11.56]', '\" baseball\"[p=0.00, l=11.56]', '\" entrepreneur\"[p=0.00, l=11.44]', '\" \"[p=0.00, l=11.38]']\n",
      "\n",
      "\" John Mulaney\" | cur_rng=(21, 24)\n",
      "token_idx=21 [\" John\"] => ['\" unknown\"[p=0.09, l=13.06]', '\" actor\"[p=0.03, l=12.00]', '\" software\"[p=0.03, l=12.00]', '\" programmer\"[p=0.03, l=11.81]', '\" no\"[p=0.03, l=11.81]', '\"?\\n\"[p=0.03, l=11.81]', '\" farmer\"[p=0.03, l=11.75]', '\" lawyer\"[p=0.02, l=11.62]', '\" teacher\"[p=0.02, l=11.44]', '\" engineer\"[p=0.02, l=11.44]', '\"?\"[p=0.02, l=11.38]', '\" politician\"[p=0.02, l=11.31]', '\" astronaut\"[p=0.02, l=11.31]', '\" doctor\"[p=0.02, l=11.25]', '\" (\"[p=0.02, l=11.25]']\n",
      "token_idx=22 [\" Mul\"] => ['\" actor\"[p=0.03, l=10.81]', '\" farmer\"[p=0.03, l=10.81]', '\" musician\"[p=0.03, l=10.69]', '\" programmer\"[p=0.02, l=10.12]', '\" singer\"[p=0.02, l=10.12]', '\" engineer\"[p=0.02, l=10.06]', '\" artist\"[p=0.02, l=10.06]', '\" unknown\"[p=0.02, l=10.00]', '\" software\"[p=0.02, l=10.00]', '\"??\"[p=0.01, l=9.75]', '\" astronaut\"[p=0.01, l=9.69]', '\" cartoon\"[p=0.01, l=9.62]', '\"???\"[p=0.01, l=9.62]', '\" politician\"[p=0.01, l=9.50]', '\"?\\n\"[p=0.01, l=9.50]']\n",
      "token_idx=23 [\"aney\"] => ['\" comedian\"[p=0.85, l=18.25]', '\" stand\"[p=0.05, l=15.38]', '\" actor\"[p=0.01, l=14.19]', '\" Com\"[p=0.01, l=13.88]', '\" (\"[p=0.00, l=12.94]', '\" John\"[p=0.00, l=12.81]', '\" politician\"[p=0.00, l=12.75]', '\"??\"[p=0.00, l=12.38]', '\" comic\"[p=0.00, l=12.31]', '\" writer\"[p=0.00, l=12.25]', '\" \"[p=0.00, l=12.19]', '\" Stand\"[p=0.00, l=12.12]', '\" lawyer\"[p=0.00, l=12.06]', '\"?\\n\"[p=0.00, l=11.88]', '\" unknown\"[p=0.00, l=11.75]']\n",
      "\n",
      "\" Ariana Grande\" | cur_rng=(25, 28)\n",
      "token_idx=25 [\" Ari\"] => ['\" singer\"[p=0.09, l=12.38]', '\" artist\"[p=0.04, l=11.69]', '\" musician\"[p=0.04, l=11.56]', '\" actor\"[p=0.03, l=11.25]', '\"?\\n\"[p=0.02, l=10.94]', '\" student\"[p=0.02, l=10.88]', '\" software\"[p=0.02, l=10.69]', '\" actress\"[p=0.01, l=10.56]', '\" unknown\"[p=0.01, l=10.56]', '\"??\"[p=0.01, l=10.56]', '\" photographer\"[p=0.01, l=10.25]', '\" model\"[p=0.01, l=10.19]', '\"???\"[p=0.01, l=10.19]', '\" teacher\"[p=0.01, l=10.19]', '\" lawyer\"[p=0.01, l=10.12]']\n",
      "token_idx=26 [\"ana\"] => ['\" singer\"[p=0.44, l=14.06]', '\"?\\n\"[p=0.05, l=11.81]', '\" pop\"[p=0.04, l=11.75]', '\" unknown\"[p=0.04, l=11.69]', '\"?\"[p=0.03, l=11.19]', '\" musician\"[p=0.02, l=10.94]', '\" no\"[p=0.02, l=10.81]', '\" artist\"[p=0.01, l=10.62]', '\"??\"[p=0.01, l=10.56]', '\" (\"[p=0.01, l=10.38]', '\"?\\n\\n\"[p=0.01, l=10.25]', '\"???\"[p=0.01, l=10.12]', '\" not\"[p=0.01, l=10.00]', '\" student\"[p=0.01, l=9.94]', '\" does\"[p=0.01, l=9.94]']\n",
      "token_idx=27 [\" Grande\"] => ['\" singer\"[p=0.94, l=21.12]', '\" pop\"[p=0.02, l=17.38]', '\" musician\"[p=0.02, l=17.12]', '\" actress\"[p=0.01, l=16.00]', '\" Singer\"[p=0.00, l=15.44]', '\" artist\"[p=0.00, l=14.62]', '\" actor\"[p=0.00, l=14.00]', '\" music\"[p=0.00, l=13.81]', '\" \"[p=0.00, l=13.62]', '\" model\"[p=0.00, l=13.44]', '\" songwriter\"[p=0.00, l=13.38]', '\" vocalist\"[p=0.00, l=12.75]', '\" singers\"[p=0.00, l=12.62]', '\" (\"[p=0.00, l=12.62]', '\" entert\"[p=0.00, l=12.44]']\n",
      "\n",
      "\" Joe Scarborough\" | cur_rng=(29, 31)\n",
      "token_idx=29 [\" Joe\"] => ['\" unknown\"[p=0.05, l=12.06]', '\" politician\"[p=0.03, l=11.50]', '\" plumber\"[p=0.03, l=11.44]', '\" police\"[p=0.02, l=11.19]', '\" actor\"[p=0.02, l=11.06]', '\" teacher\"[p=0.02, l=10.94]', '\"?\\n\"[p=0.01, l=10.88]', '\" bar\"[p=0.01, l=10.88]', '\" no\"[p=0.01, l=10.81]', '\" farmer\"[p=0.01, l=10.81]', '\" jan\"[p=0.01, l=10.69]', '\" artist\"[p=0.01, l=10.69]', '\"???\"[p=0.01, l=10.62]', '\" (\"[p=0.01, l=10.62]', '\" barber\"[p=0.01, l=10.62]']\n",
      "token_idx=30 [\" Scarborough\"] => ['\" journalist\"[p=0.33, l=17.62]', '\" politician\"[p=0.23, l=17.25]', '\" TV\"[p=0.10, l=16.38]', '\" television\"[p=0.10, l=16.38]', '\" news\"[p=0.06, l=15.94]', '\" political\"[p=0.05, l=15.62]', '\" tv\"[p=0.02, l=14.69]', '\" media\"[p=0.01, l=13.88]', '\" Journal\"[p=0.01, l=13.81]', '\" talk\"[p=0.01, l=13.69]', '\" lawyer\"[p=0.01, l=13.62]', '\" (\"[p=0.00, l=13.12]', '\" actor\"[p=0.00, l=13.06]', '\" radio\"[p=0.00, l=13.06]', '\" new\"[p=0.00, l=13.00]']\n",
      "\n",
      "\" Andrey Rublev\" | cur_rng=(32, 36)\n",
      "token_idx=32 [\" And\"] => ['\"?\\n\"[p=0.13, l=12.19]', '\"?\"[p=0.05, l=11.31]', '\"?\\n\\n\"[p=0.05, l=11.25]', '\"??\"[p=0.05, l=11.19]', '\"???\"[p=0.02, l=10.56]', '\" programmer\"[p=0.02, l=10.44]', '\" musician\"[p=0.02, l=10.44]', '\" singer\"[p=0.02, l=10.31]', '\" And\"[p=0.02, l=10.31]', '\" software\"[p=0.02, l=10.12]', '\" lawyer\"[p=0.02, l=10.12]', '\"...\"[p=0.02, l=10.12]', '\" and\"[p=0.02, l=10.06]', '\" engineer\"[p=0.01, l=9.94]', '\" artist\"[p=0.01, l=9.94]']\n",
      "token_idx=33 [\"rey\"] => ['\" programmer\"[p=0.09, l=12.12]', '\"?\\n\"[p=0.08, l=12.06]', '\" software\"[p=0.07, l=11.94]', '\" unknown\"[p=0.05, l=11.50]', '\"?\\n\\n\"[p=0.03, l=11.12]', '\"?\"[p=0.03, l=11.06]', '\"??\"[p=0.03, l=11.06]', '\"???\"[p=0.02, l=10.75]', '\" engineer\"[p=0.02, l=10.75]', '\" student\"[p=0.02, l=10.69]', '\" developer\"[p=0.01, l=10.38]', '\" actor\"[p=0.01, l=10.19]', '\" computer\"[p=0.01, l=10.12]', '\" no\"[p=0.01, l=10.06]', '\" data\"[p=0.01, l=10.00]']\n",
      "token_idx=34 [\" Rub\"] => ['\" artist\"[p=0.05, l=11.06]', '\" unknown\"[p=0.03, l=10.38]', '\"?\\n\"[p=0.02, l=10.06]', '\"??\"[p=0.02, l=10.06]', '\" musician\"[p=0.02, l=9.94]', '\" programmer\"[p=0.02, l=9.88]', '\" singer\"[p=0.02, l=9.81]', '\" entrepreneur\"[p=0.01, l=9.62]', '\" actor\"[p=0.01, l=9.50]', '\"???\"[p=0.01, l=9.44]', '\" painter\"[p=0.01, l=9.44]', '\" mathematic\"[p=0.01, l=9.38]', '\" football\"[p=0.01, l=9.25]', '\" software\"[p=0.01, l=9.25]', '\" soccer\"[p=0.01, l=9.25]']\n",
      "token_idx=35 [\"lev\"] => ['\" tennis\"[p=0.61, l=16.12]', '\" painter\"[p=0.04, l=13.38]', '\" artist\"[p=0.04, l=13.38]', '\" musician\"[p=0.02, l=12.69]', '\" politician\"[p=0.01, l=12.38]', '\" poet\"[p=0.01, l=12.00]', '\" composer\"[p=0.01, l=11.94]', '\" athlete\"[p=0.01, l=11.88]', '\" priest\"[p=0.01, l=11.88]', '\" writer\"[p=0.01, l=11.81]', '\" novelist\"[p=0.01, l=11.69]', '\" actor\"[p=0.01, l=11.56]', '\" professional\"[p=0.01, l=11.44]', '\" chess\"[p=0.01, l=11.44]', '\" mathematic\"[p=0.00, l=11.31]']\n",
      "\n",
      "\" Samuel L. Jackson\" | cur_rng=(37, 41)\n",
      "token_idx=37 [\" Samuel\"] => ['\" prophet\"[p=0.18, l=13.50]', '\" unknown\"[p=0.05, l=12.19]', '\" actor\"[p=0.04, l=12.00]', '\" biblical\"[p=0.03, l=11.62]', '\" judge\"[p=0.02, l=11.12]', '\"?\\n\"[p=0.01, l=10.94]', '\" priest\"[p=0.01, l=10.94]', '\" farmer\"[p=0.01, l=10.88]', '\" no\"[p=0.01, l=10.88]', '\" king\"[p=0.01, l=10.81]', '\" (\"[p=0.01, l=10.75]', '\" teacher\"[p=0.01, l=10.50]', '\" philosopher\"[p=0.01, l=10.50]', '\" singer\"[p=0.01, l=10.38]', '\"??\"[p=0.01, l=10.38]']\n",
      "token_idx=38 [\" L\"] => ['\" rapper\"[p=0.04, l=10.56]', '\"??\"[p=0.03, l=10.38]', '\" detective\"[p=0.03, l=10.38]', '\" musician\"[p=0.03, l=10.38]', '\" actor\"[p=0.03, l=10.38]', '\"?\\n\"[p=0.03, l=10.25]', '\" singer\"[p=0.02, l=10.06]', '\" lawyer\"[p=0.02, l=9.88]', '\"???\"[p=0.02, l=9.75]', '\" (\"[p=0.02, l=9.75]', '\" superhero\"[p=0.01, l=9.50]', '\" fictional\"[p=0.01, l=9.38]', '\"?\"[p=0.01, l=9.25]', '\" scientist\"[p=0.01, l=9.12]', '\" \"[p=0.01, l=9.06]']\n",
      "token_idx=39 [\".\"] => ['\" lawyer\"[p=0.11, l=12.19]', '\"?\\n\"[p=0.07, l=11.81]', '\"?\\n\\n\"[p=0.04, l=11.25]', '\"??\"[p=0.03, l=10.94]', '\"?\"[p=0.03, l=10.88]', '\" scientist\"[p=0.03, l=10.75]', '\" (\"[p=0.02, l=10.50]', '\" politician\"[p=0.02, l=10.44]', '\" astronaut\"[p=0.02, l=10.31]', '\" unknown\"[p=0.02, l=10.25]', '\" actor\"[p=0.02, l=10.25]', '\" musician\"[p=0.01, l=10.06]', '\"???\"[p=0.01, l=10.00]', '\" artist\"[p=0.01, l=10.00]', '\" L\"[p=0.01, l=9.94]']\n",
      "token_idx=40 [\" Jackson\"] => ['\" actor\"[p=0.68, l=15.19]', '\" singer\"[p=0.02, l=11.44]', '\" politician\"[p=0.01, l=11.25]', '\" rapper\"[p=0.01, l=11.19]', '\" painter\"[p=0.01, l=11.12]', '\" artist\"[p=0.01, l=11.12]', '\" musician\"[p=0.01, l=11.12]', '\" basketball\"[p=0.01, l=11.00]', '\" (\"[p=0.01, l=10.88]', '\" Jackson\"[p=0.01, l=10.69]', '\"?\\n\"[p=0.01, l=10.56]', '\" unknown\"[p=0.01, l=10.56]', '\" movie\"[p=0.01, l=10.50]', '\" Actor\"[p=0.01, l=10.38]', '\"??\"[p=0.01, l=10.38]']\n",
      "======================================================================================================================================================\n",
      "\n",
      "layer='model.layers.18'\n",
      "\n",
      "\"Ans:\" | cur_rng=(-2, 0)\n",
      "token_idx=-2 [\"Ans\"] => ['\"?\\n\"[p=0.06, l=10.81]', '\" student\"[p=0.04, l=10.44]', '\" unknown\"[p=0.04, l=10.31]', '\" artist\"[p=0.03, l=10.00]', '\"??\"[p=0.03, l=10.00]', '\" programmer\"[p=0.02, l=9.88]', '\" Ans\"[p=0.02, l=9.88]', '\"?\\n\\n\"[p=0.02, l=9.88]', '\" software\"[p=0.01, l=9.44]', '\" singer\"[p=0.01, l=9.31]', '\" musician\"[p=0.01, l=9.12]', '\"???\"[p=0.01, l=9.12]', '\"?\"[p=0.01, l=9.06]', '\" (\"[p=0.01, l=9.06]', '\" computer\"[p=0.01, l=9.06]']\n",
      "token_idx=-1 [\":\"] => ['\" \\n\"[p=0.05, l=10.62]', '\"?\\n\"[p=0.03, l=10.19]', '\" profession\"[p=0.03, l=10.12]', '\"?\\n\\n\"[p=0.03, l=10.06]', '\" lawyer\"[p=0.02, l=9.94]', '\"\\n\\n\"[p=0.02, l=9.88]', '\" software\"[p=0.02, l=9.88]', '\" ->\"[p=0.02, l=9.81]', '\" (\"[p=0.02, l=9.81]', '\" politician\"[p=0.02, l=9.69]', '\" artist\"[p=0.02, l=9.69]', '\"?\"[p=0.02, l=9.62]', '\"??\"[p=0.01, l=9.50]', '\" computer\"[p=0.01, l=9.50]', '\" unknown\"[p=0.01, l=9.44]']\n",
      "\n",
      "\" Trevor Noah\" | cur_rng=(13, 15)\n",
      "token_idx=13 [\" Trevor\"] => ['\"?\\n\"[p=0.07, l=12.25]', '\" unknown\"[p=0.05, l=12.00]', '\"??\"[p=0.05, l=11.94]', '\"?\"[p=0.04, l=11.75]', '\"???\"[p=0.04, l=11.69]', '\" software\"[p=0.03, l=11.31]', '\" actor\"[p=0.03, l=11.31]', '\" comedian\"[p=0.03, l=11.25]', '\"?\\n\\n\"[p=0.03, l=11.25]', '\" (\"[p=0.02, l=10.81]', '\" You\"[p=0.01, l=10.69]', '\" no\"[p=0.01, l=10.44]', '\" politician\"[p=0.01, l=10.38]', '\" football\"[p=0.01, l=10.31]', '\" police\"[p=0.01, l=10.31]']\n",
      "token_idx=14 [\" Noah\"] => ['\" comedian\"[p=0.95, l=20.12]', '\" stand\"[p=0.01, l=15.31]', '\" Com\"[p=0.01, l=15.00]', '\" actor\"[p=0.01, l=14.94]', '\" TV\"[p=0.00, l=14.62]', '\" television\"[p=0.00, l=14.12]', '\" political\"[p=0.00, l=14.00]', '\" journalist\"[p=0.00, l=13.94]', '\" politician\"[p=0.00, l=13.88]', '\" (\"[p=0.00, l=13.50]', '\" talk\"[p=0.00, l=13.19]', '\" \"[p=0.00, l=13.12]', '\" comedy\"[p=0.00, l=13.00]', '\" tv\"[p=0.00, l=13.00]', '\" writer\"[p=0.00, l=12.94]']\n",
      "\n",
      "\" Zion Williamson\" | cur_rng=(18, 20)\n",
      "token_idx=18 [\" Zion\"] => ['\" singer\"[p=0.06, l=11.75]', '\" unknown\"[p=0.05, l=11.56]', '\" musician\"[p=0.05, l=11.50]', '\"?\\n\"[p=0.04, l=11.38]', '\" football\"[p=0.03, l=11.06]', '\" rapper\"[p=0.03, l=11.06]', '\"??\"[p=0.03, l=11.00]', '\" basketball\"[p=0.02, l=10.75]', '\" soccer\"[p=0.02, l=10.50]', '\" no\"[p=0.02, l=10.50]', '\" (\"[p=0.02, l=10.44]', '\" artist\"[p=0.02, l=10.44]', '\" prophet\"[p=0.01, l=10.25]', '\"???\"[p=0.01, l=10.12]', '\" student\"[p=0.01, l=10.12]']\n",
      "token_idx=19 [\" Williamson\"] => ['\" basketball\"[p=0.89, l=18.25]', '\" Basketball\"[p=0.01, l=14.00]', '\" professional\"[p=0.01, l=13.88]', '\" NBA\"[p=0.01, l=13.69]', '\" football\"[p=0.01, l=13.62]', '\" athlete\"[p=0.01, l=13.44]', '\" college\"[p=0.01, l=13.25]', '\" basket\"[p=0.00, l=12.44]', '\" actor\"[p=0.00, l=12.31]', '\" soccer\"[p=0.00, l=12.25]', '\" (\"[p=0.00, l=12.06]', '\" entrepreneur\"[p=0.00, l=12.00]', '\" \"[p=0.00, l=11.88]', '\" baseball\"[p=0.00, l=11.81]', '\" student\"[p=0.00, l=11.69]']\n",
      "\n",
      "\" John Mulaney\" | cur_rng=(21, 24)\n",
      "token_idx=21 [\" John\"] => ['\" unknown\"[p=0.09, l=13.31]', '\" software\"[p=0.04, l=12.50]', '\"?\\n\"[p=0.04, l=12.44]', '\" actor\"[p=0.03, l=12.31]', '\" lawyer\"[p=0.03, l=12.19]', '\" programmer\"[p=0.03, l=12.19]', '\" politician\"[p=0.03, l=12.12]', '\" teacher\"[p=0.02, l=12.00]', '\" farmer\"[p=0.02, l=11.94]', '\"?\"[p=0.02, l=11.88]', '\" no\"[p=0.02, l=11.81]', '\"???\"[p=0.02, l=11.62]', '\" accountant\"[p=0.02, l=11.62]', '\" engineer\"[p=0.02, l=11.62]', '\"??\"[p=0.02, l=11.56]']\n",
      "token_idx=22 [\" Mul\"] => ['\" farmer\"[p=0.04, l=10.75]', '\" actor\"[p=0.03, l=10.56]', '\" musician\"[p=0.02, l=10.06]', '\" unknown\"[p=0.02, l=9.94]', '\" singer\"[p=0.01, l=9.81]', '\" artist\"[p=0.01, l=9.75]', '\"??\"[p=0.01, l=9.69]', '\"???\"[p=0.01, l=9.62]', '\"?\\n\"[p=0.01, l=9.50]', '\" cartoon\"[p=0.01, l=9.44]', '\" software\"[p=0.01, l=9.38]', '\" engineer\"[p=0.01, l=9.38]', '\" programmer\"[p=0.01, l=9.38]', '\" politician\"[p=0.01, l=9.38]', '\" student\"[p=0.01, l=9.19]']\n",
      "token_idx=23 [\"aney\"] => ['\" comedian\"[p=0.87, l=18.62]', '\" stand\"[p=0.05, l=15.69]', '\" actor\"[p=0.01, l=14.31]', '\" Com\"[p=0.01, l=14.12]', '\" (\"[p=0.00, l=13.44]', '\" John\"[p=0.00, l=13.00]', '\"??\"[p=0.00, l=12.94]', '\"?\\n\"[p=0.00, l=12.56]', '\" politician\"[p=0.00, l=12.50]', '\" comic\"[p=0.00, l=12.50]', '\" writer\"[p=0.00, l=12.44]', '\" \"[p=0.00, l=12.44]', '\" Stand\"[p=0.00, l=12.31]', '\" unknown\"[p=0.00, l=12.06]', '\"?\"[p=0.00, l=12.00]']\n",
      "\n",
      "\" Ariana Grande\" | cur_rng=(25, 28)\n",
      "token_idx=25 [\" Ari\"] => ['\" singer\"[p=0.12, l=12.75]', '\" musician\"[p=0.04, l=11.69]', '\" artist\"[p=0.04, l=11.62]', '\" actor\"[p=0.03, l=11.44]', '\"?\\n\"[p=0.02, l=11.06]', '\" student\"[p=0.02, l=10.81]', '\" actress\"[p=0.02, l=10.81]', '\" unknown\"[p=0.02, l=10.75]', '\" model\"[p=0.01, l=10.69]', '\" pop\"[p=0.01, l=10.56]', '\"??\"[p=0.01, l=10.50]', '\" journalist\"[p=0.01, l=10.50]', '\" politician\"[p=0.01, l=10.38]', '\" teacher\"[p=0.01, l=10.38]', '\" software\"[p=0.01, l=10.31]']\n",
      "token_idx=26 [\"ana\"] => ['\" singer\"[p=0.51, l=14.56]', '\"?\\n\"[p=0.04, l=12.06]', '\" pop\"[p=0.04, l=12.06]', '\" unknown\"[p=0.03, l=11.81]', '\" musician\"[p=0.02, l=11.31]', '\"?\"[p=0.02, l=11.31]', '\" no\"[p=0.02, l=11.06]', '\" artist\"[p=0.01, l=10.75]', '\"??\"[p=0.01, l=10.69]', '\" (\"[p=0.01, l=10.50]', '\"?\\n\\n\"[p=0.01, l=10.38]', '\" Singer\"[p=0.01, l=10.31]', '\" does\"[p=0.01, l=10.25]', '\" not\"[p=0.01, l=10.25]', '\" actress\"[p=0.01, l=10.25]']\n",
      "token_idx=27 [\" Grande\"] => ['\" singer\"[p=0.93, l=20.00]', '\" musician\"[p=0.02, l=16.38]', '\" pop\"[p=0.02, l=16.00]', '\" Singer\"[p=0.00, l=14.69]', '\" actress\"[p=0.00, l=14.38]', '\" artist\"[p=0.00, l=14.06]', '\" music\"[p=0.00, l=13.19]', '\" \"[p=0.00, l=13.00]', '\" (\"[p=0.00, l=12.50]', '\" songwriter\"[p=0.00, l=12.44]', '\" actor\"[p=0.00, l=12.25]', '\" model\"[p=0.00, l=12.25]', '\" Music\"[p=0.00, l=12.25]', '\" celebrity\"[p=0.00, l=12.19]', '\" no\"[p=0.00, l=11.88]']\n",
      "\n",
      "\" Joe Scarborough\" | cur_rng=(29, 31)\n",
      "token_idx=29 [\" Joe\"] => ['\" unknown\"[p=0.05, l=12.25]', '\" politician\"[p=0.04, l=11.88]', '\" plumber\"[p=0.03, l=11.62]', '\" police\"[p=0.02, l=11.38]', '\" teacher\"[p=0.02, l=11.19]', '\" actor\"[p=0.02, l=11.12]', '\"?\\n\"[p=0.02, l=11.00]', '\" bar\"[p=0.01, l=10.88]', '\" president\"[p=0.01, l=10.81]', '\" no\"[p=0.01, l=10.81]', '\" jan\"[p=0.01, l=10.75]', '\" student\"[p=0.01, l=10.75]', '\" farmer\"[p=0.01, l=10.75]', '\"???\"[p=0.01, l=10.69]', '\" musician\"[p=0.01, l=10.69]']\n",
      "token_idx=30 [\" Scarborough\"] => ['\" journalist\"[p=0.28, l=16.88]', '\" politician\"[p=0.24, l=16.75]', '\" TV\"[p=0.10, l=15.88]', '\" television\"[p=0.09, l=15.75]', '\" news\"[p=0.06, l=15.38]', '\" political\"[p=0.06, l=15.38]', '\" tv\"[p=0.02, l=14.25]', '\" lawyer\"[p=0.01, l=13.50]', '\" media\"[p=0.01, l=13.50]', '\" talk\"[p=0.01, l=13.44]', '\" Journal\"[p=0.01, l=13.31]', '\" (\"[p=0.01, l=13.00]', '\" radio\"[p=0.00, l=12.56]', '\" Polit\"[p=0.00, l=12.50]', '\" host\"[p=0.00, l=12.50]']\n",
      "\n",
      "\" Andrey Rublev\" | cur_rng=(32, 36)\n",
      "token_idx=32 [\" And\"] => ['\"?\\n\"[p=0.17, l=12.81]', '\"?\"[p=0.08, l=12.06]', '\"??\"[p=0.07, l=12.00]', '\"?\\n\\n\"[p=0.07, l=11.88]', '\"???\"[p=0.04, l=11.38]', '\" musician\"[p=0.02, l=10.75]', '\" programmer\"[p=0.02, l=10.62]', '\" And\"[p=0.02, l=10.44]', '\" artist\"[p=0.01, l=10.38]', '\" singer\"[p=0.01, l=10.38]', '\" software\"[p=0.01, l=10.31]', '\" what\"[p=0.01, l=10.31]', '\"...\"[p=0.01, l=10.25]', '\" engineer\"[p=0.01, l=10.19]', '\" (\"[p=0.01, l=10.06]']\n",
      "token_idx=33 [\"rey\"] => ['\"?\\n\"[p=0.11, l=12.44]', '\" programmer\"[p=0.09, l=12.19]', '\"?\\n\\n\"[p=0.05, l=11.62]', '\" software\"[p=0.05, l=11.62]', '\" unknown\"[p=0.04, l=11.50]', '\"?\"[p=0.04, l=11.44]', '\"??\"[p=0.04, l=11.31]', '\"???\"[p=0.02, l=10.94]', '\" engineer\"[p=0.02, l=10.75]', '\" student\"[p=0.01, l=10.44]', '\" actor\"[p=0.01, l=10.38]', '\" artist\"[p=0.01, l=10.31]', '\" entrepreneur\"[p=0.01, l=10.12]', '\" developer\"[p=0.01, l=10.00]', '\" computer\"[p=0.01, l=10.00]']\n",
      "token_idx=34 [\" Rub\"] => ['\" artist\"[p=0.05, l=10.88]', '\"?\\n\"[p=0.03, l=10.50]', '\"??\"[p=0.03, l=10.31]', '\" unknown\"[p=0.03, l=10.25]', '\" musician\"[p=0.02, l=9.94]', '\" programmer\"[p=0.02, l=9.94]', '\" singer\"[p=0.02, l=9.75]', '\" entrepreneur\"[p=0.01, l=9.69]', '\"???\"[p=0.01, l=9.62]', '\"?\"[p=0.01, l=9.62]', '\" politician\"[p=0.01, l=9.62]', '\" football\"[p=0.01, l=9.50]', '\" actor\"[p=0.01, l=9.50]', '\" soccer\"[p=0.01, l=9.31]', '\" mathematic\"[p=0.01, l=9.25]']\n",
      "token_idx=35 [\"lev\"] => ['\" tennis\"[p=0.62, l=16.12]', '\" artist\"[p=0.04, l=13.31]', '\" painter\"[p=0.03, l=13.00]', '\" musician\"[p=0.02, l=12.69]', '\" politician\"[p=0.01, l=12.38]', '\" athlete\"[p=0.01, l=12.12]', '\" poet\"[p=0.01, l=11.94]', '\" composer\"[p=0.01, l=11.81]', '\" (\"[p=0.01, l=11.62]', '\" writer\"[p=0.01, l=11.56]', '\"?\\n\"[p=0.01, l=11.50]', '\" mathematic\"[p=0.01, l=11.44]', '\" chess\"[p=0.01, l=11.44]', '\" novelist\"[p=0.01, l=11.38]', '\" unknown\"[p=0.01, l=11.38]']\n",
      "\n",
      "\" Samuel L. Jackson\" | cur_rng=(37, 41)\n",
      "token_idx=37 [\" Samuel\"] => ['\" prophet\"[p=0.24, l=13.75]', '\" unknown\"[p=0.04, l=12.00]', '\" actor\"[p=0.03, l=11.75]', '\" judge\"[p=0.03, l=11.62]', '\" biblical\"[p=0.03, l=11.56]', '\"?\\n\"[p=0.02, l=11.00]', '\" priest\"[p=0.01, l=10.94]', '\" no\"[p=0.01, l=10.69]', '\" king\"[p=0.01, l=10.56]', '\" (\"[p=0.01, l=10.56]', '\" politician\"[p=0.01, l=10.44]', '\" Prophet\"[p=0.01, l=10.38]', '\" teacher\"[p=0.01, l=10.38]', '\"??\"[p=0.01, l=10.38]', '\" football\"[p=0.01, l=10.38]']\n",
      "token_idx=38 [\" L\"] => ['\"?\\n\"[p=0.04, l=10.38]', '\"??\"[p=0.04, l=10.25]', '\" actor\"[p=0.03, l=9.94]', '\" lawyer\"[p=0.03, l=9.81]', '\" unknown\"[p=0.02, l=9.62]', '\" musician\"[p=0.02, l=9.56]', '\"?\"[p=0.02, l=9.50]', '\"???\"[p=0.02, l=9.44]', '\" (\"[p=0.02, l=9.31]', '\" no\"[p=0.01, l=9.25]', '\"?\\n\\n\"[p=0.01, l=9.25]', '\" singer\"[p=0.01, l=9.06]', '\" not\"[p=0.01, l=9.00]', '\" rapper\"[p=0.01, l=8.94]', '\" mathematic\"[p=0.01, l=8.94]']\n",
      "token_idx=39 [\".\"] => ['\" lawyer\"[p=0.11, l=12.31]', '\"?\\n\"[p=0.08, l=12.06]', '\"?\\n\\n\"[p=0.05, l=11.62]', '\"??\"[p=0.04, l=11.25]', '\"?\"[p=0.03, l=11.12]', '\" politician\"[p=0.02, l=10.75]', '\" (\"[p=0.02, l=10.69]', '\" actor\"[p=0.02, l=10.62]', '\" scientist\"[p=0.02, l=10.56]', '\" astronaut\"[p=0.02, l=10.50]', '\" unknown\"[p=0.02, l=10.44]', '\" L\"[p=0.01, l=10.25]', '\"???\"[p=0.01, l=10.19]', '\" artist\"[p=0.01, l=10.19]', '\" musician\"[p=0.01, l=10.12]']\n",
      "token_idx=40 [\" Jackson\"] => ['\" actor\"[p=0.83, l=15.94]', '\" Actor\"[p=0.01, l=11.00]', '\" (\"[p=0.01, l=11.00]', '\" artist\"[p=0.00, l=10.69]', '\" painter\"[p=0.00, l=10.62]', '\" movie\"[p=0.00, l=10.62]', '\"??\"[p=0.00, l=10.56]', '\" politician\"[p=0.00, l=10.50]', '\" singer\"[p=0.00, l=10.50]', '\" musician\"[p=0.00, l=10.44]', '\" Jackson\"[p=0.00, l=10.44]', '\"?\\n\"[p=0.00, l=10.44]', '\" rapper\"[p=0.00, l=10.38]', '\" basketball\"[p=0.00, l=10.31]', '\" unknown\"[p=0.00, l=10.31]']\n",
      "======================================================================================================================================================\n",
      "\n",
      "layer='model.layers.21'\n",
      "\n",
      "\"Ans:\" | cur_rng=(-2, 0)\n",
      "token_idx=-2 [\"Ans\"] => ['\"?\\n\"[p=0.05, l=10.25]', '\" Ans\"[p=0.05, l=10.25]', '\" unknown\"[p=0.03, l=9.75]', '\"??\"[p=0.02, l=9.31]', '\" artist\"[p=0.02, l=9.31]', '\" programmer\"[p=0.02, l=9.25]', '\" student\"[p=0.01, l=9.00]', '\"?\\n\\n\"[p=0.01, l=9.00]', '\" software\"[p=0.01, l=8.88]', '\" scientist\"[p=0.01, l=8.75]', '\" computer\"[p=0.01, l=8.69]', '\" person\"[p=0.01, l=8.62]', '\"???\"[p=0.01, l=8.62]', '\" entrepreneur\"[p=0.01, l=8.62]', '\"?\"[p=0.01, l=8.50]']\n",
      "token_idx=-1 [\":\"] => ['\"?\\n\"[p=0.06, l=10.69]', '\"?\\n\\n\"[p=0.04, l=10.38]', '\" unknown\"[p=0.03, l=10.00]', '\" ->\"[p=0.02, l=9.75]', '\" \\n\"[p=0.02, l=9.75]', '\"?\"[p=0.02, l=9.75]', '\" (\"[p=0.02, l=9.62]', '\"??\"[p=0.02, l=9.44]', '\" profession\"[p=0.02, l=9.38]', '\" entrepreneur\"[p=0.02, l=9.38]', '\" software\"[p=0.01, l=9.31]', '\" lawyer\"[p=0.01, l=9.25]', '\" computer\"[p=0.01, l=9.19]', '\"\\n\\n\"[p=0.01, l=9.12]', '\" person\"[p=0.01, l=8.94]']\n",
      "\n",
      "\" Trevor Noah\" | cur_rng=(13, 15)\n",
      "token_idx=13 [\" Trevor\"] => ['\"?\\n\"[p=0.10, l=12.62]', '\"??\"[p=0.06, l=12.06]', '\"?\"[p=0.06, l=12.06]', '\" unknown\"[p=0.05, l=12.00]', '\"?\\n\\n\"[p=0.04, l=11.75]', '\"???\"[p=0.04, l=11.62]', '\" actor\"[p=0.03, l=11.44]', '\" comedian\"[p=0.03, l=11.38]', '\" software\"[p=0.03, l=11.25]', '\" politician\"[p=0.01, l=10.62]', '\" programmer\"[p=0.01, l=10.56]', '\" (\"[p=0.01, l=10.50]', '\" You\"[p=0.01, l=10.38]', '\" no\"[p=0.01, l=10.38]', '\" entrepreneur\"[p=0.01, l=10.38]']\n",
      "token_idx=14 [\" Noah\"] => ['\" comedian\"[p=0.92, l=19.12]', '\" actor\"[p=0.01, l=14.31]', '\" stand\"[p=0.01, l=14.25]', '\" TV\"[p=0.01, l=14.12]', '\" Com\"[p=0.01, l=14.12]', '\" political\"[p=0.00, l=13.69]', '\" journalist\"[p=0.00, l=13.62]', '\" television\"[p=0.00, l=13.44]', '\" (\"[p=0.00, l=13.31]', '\" politician\"[p=0.00, l=13.25]', '\" talk\"[p=0.00, l=13.25]', '\" \"[p=0.00, l=12.62]', '\" tv\"[p=0.00, l=12.44]', '\" writer\"[p=0.00, l=12.44]', '\" comedy\"[p=0.00, l=12.12]']\n",
      "\n",
      "\" Zion Williamson\" | cur_rng=(18, 20)\n",
      "token_idx=18 [\" Zion\"] => ['\" singer\"[p=0.09, l=12.06]', '\" musician\"[p=0.05, l=11.50]', '\" unknown\"[p=0.05, l=11.44]', '\" basketball\"[p=0.05, l=11.44]', '\" rapper\"[p=0.04, l=11.38]', '\"?\\n\"[p=0.04, l=11.25]', '\" football\"[p=0.04, l=11.19]', '\"??\"[p=0.03, l=10.88]', '\" soccer\"[p=0.02, l=10.69]', '\" student\"[p=0.02, l=10.44]', '\" artist\"[p=0.02, l=10.44]', '\" no\"[p=0.02, l=10.44]', '\" (\"[p=0.02, l=10.31]', '\"???\"[p=0.01, l=10.00]', '\" actor\"[p=0.01, l=10.00]']\n",
      "token_idx=19 [\" Williamson\"] => ['\" basketball\"[p=0.86, l=17.38]', '\" Basketball\"[p=0.01, l=13.25]', '\" professional\"[p=0.01, l=12.94]', '\" NBA\"[p=0.01, l=12.94]', '\" athlete\"[p=0.01, l=12.75]', '\" football\"[p=0.01, l=12.62]', '\" college\"[p=0.01, l=12.25]', '\" basket\"[p=0.00, l=11.94]', '\" (\"[p=0.00, l=11.88]', '\" unknown\"[p=0.00, l=11.75]', '\" actor\"[p=0.00, l=11.50]', '\" \"[p=0.00, l=11.19]', '\"??\"[p=0.00, l=11.19]', '\" entrepreneur\"[p=0.00, l=11.12]', '\" \\n\"[p=0.00, l=11.06]']\n",
      "\n",
      "\" John Mulaney\" | cur_rng=(21, 24)\n",
      "token_idx=21 [\" John\"] => ['\" unknown\"[p=0.09, l=13.25]', '\" actor\"[p=0.04, l=12.56]', '\" politician\"[p=0.04, l=12.44]', '\" software\"[p=0.03, l=12.25]', '\"?\\n\"[p=0.03, l=12.19]', '\" pastor\"[p=0.03, l=12.19]', '\" lawyer\"[p=0.03, l=12.12]', '\" programmer\"[p=0.03, l=12.00]', '\" no\"[p=0.02, l=11.75]', '\" teacher\"[p=0.02, l=11.62]', '\"?\"[p=0.02, l=11.56]', '\" doctor\"[p=0.02, l=11.50]', '\" writer\"[p=0.01, l=11.44]', '\"??\"[p=0.01, l=11.44]', '\" farmer\"[p=0.01, l=11.31]']\n",
      "token_idx=22 [\" Mul\"] => ['\" farmer\"[p=0.03, l=10.06]', '\" actor\"[p=0.02, l=9.94]', '\" musician\"[p=0.02, l=9.62]', '\" unknown\"[p=0.02, l=9.62]', '\"??\"[p=0.01, l=9.25]', '\"???\"[p=0.01, l=9.25]', '\" singer\"[p=0.01, l=9.25]', '\"?\\n\"[p=0.01, l=9.19]', '\" cartoon\"[p=0.01, l=9.12]', '\" artist\"[p=0.01, l=9.00]', '\" (\"[p=0.01, l=8.94]', '\" \"[p=0.01, l=8.94]', '\" programmer\"[p=0.01, l=8.94]', '\" engineer\"[p=0.01, l=8.94]', '\" software\"[p=0.01, l=8.88]']\n",
      "token_idx=23 [\"aney\"] => ['\" comedian\"[p=0.87, l=18.62]', '\" stand\"[p=0.05, l=15.69]', '\" actor\"[p=0.01, l=14.38]', '\" Com\"[p=0.01, l=14.12]', '\" (\"[p=0.00, l=13.31]', '\"??\"[p=0.00, l=12.88]', '\" writer\"[p=0.00, l=12.69]', '\"?\\n\"[p=0.00, l=12.62]', '\" comic\"[p=0.00, l=12.56]', '\" Stand\"[p=0.00, l=12.44]', '\" \"[p=0.00, l=12.38]', '\" politician\"[p=0.00, l=12.12]', '\" \\n\"[p=0.00, l=11.94]', '\" unknown\"[p=0.00, l=11.94]', '\"???\"[p=0.00, l=11.88]']\n",
      "\n",
      "\" Ariana Grande\" | cur_rng=(25, 28)\n",
      "token_idx=25 [\" Ari\"] => ['\" singer\"[p=0.16, l=13.06]', '\" musician\"[p=0.06, l=12.00]', '\" artist\"[p=0.04, l=11.56]', '\" actor\"[p=0.03, l=11.50]', '\"?\\n\"[p=0.02, l=11.00]', '\" pop\"[p=0.02, l=10.94]', '\" model\"[p=0.02, l=10.94]', '\" actress\"[p=0.02, l=10.88]', '\" unknown\"[p=0.02, l=10.75]', '\" rapper\"[p=0.01, l=10.56]', '\" journalist\"[p=0.01, l=10.38]', '\"??\"[p=0.01, l=10.31]', '\" politician\"[p=0.01, l=10.25]', '\" You\"[p=0.01, l=10.19]', '\"?\"[p=0.01, l=10.12]']\n",
      "token_idx=26 [\"ana\"] => ['\" singer\"[p=0.63, l=15.44]', '\" pop\"[p=0.04, l=12.75]', '\"?\\n\"[p=0.03, l=12.50]', '\" musician\"[p=0.03, l=12.25]', '\" unknown\"[p=0.02, l=11.75]', '\"?\"[p=0.01, l=11.62]', '\" artist\"[p=0.01, l=11.38]', '\" no\"[p=0.01, l=11.25]', '\"??\"[p=0.01, l=11.25]', '\" Singer\"[p=0.01, l=11.12]', '\" actress\"[p=0.01, l=11.12]', '\" celebrity\"[p=0.01, l=10.94]', '\" model\"[p=0.01, l=10.75]', '\" (\"[p=0.01, l=10.69]', '\"?\\n\\n\"[p=0.01, l=10.62]']\n",
      "token_idx=27 [\" Grande\"] => ['\" singer\"[p=0.92, l=19.38]', '\" musician\"[p=0.02, l=15.69]', '\" pop\"[p=0.02, l=15.69]', '\" actress\"[p=0.01, l=14.25]', '\" Singer\"[p=0.00, l=14.00]', '\" artist\"[p=0.00, l=13.69]', '\" music\"[p=0.00, l=12.62]', '\" \"[p=0.00, l=12.56]', '\" (\"[p=0.00, l=12.44]', '\" actor\"[p=0.00, l=12.25]', '\" songwriter\"[p=0.00, l=12.19]', '\" celebrity\"[p=0.00, l=12.19]', '\" model\"[p=0.00, l=12.12]', '\" no\"[p=0.00, l=12.00]', '\" Music\"[p=0.00, l=11.62]']\n",
      "\n",
      "\" Joe Scarborough\" | cur_rng=(29, 31)\n",
      "token_idx=29 [\" Joe\"] => ['\" unknown\"[p=0.05, l=12.12]', '\" plumber\"[p=0.03, l=11.56]', '\" politician\"[p=0.03, l=11.50]', '\" actor\"[p=0.02, l=11.31]', '\" police\"[p=0.02, l=11.25]', '\" teacher\"[p=0.02, l=11.12]', '\"?\\n\"[p=0.02, l=11.06]', '\" barber\"[p=0.01, l=10.88]', '\" bar\"[p=0.01, l=10.88]', '\" farmer\"[p=0.01, l=10.75]', '\" student\"[p=0.01, l=10.69]', '\" no\"[p=0.01, l=10.69]', '\"???\"[p=0.01, l=10.69]', '\"??\"[p=0.01, l=10.69]', '\" jan\"[p=0.01, l=10.62]']\n",
      "token_idx=30 [\" Scarborough\"] => ['\" politician\"[p=0.28, l=15.75]', '\" journalist\"[p=0.16, l=15.19]', '\" TV\"[p=0.10, l=14.69]', '\" television\"[p=0.07, l=14.38]', '\" news\"[p=0.06, l=14.12]', '\" political\"[p=0.05, l=13.94]', '\" tv\"[p=0.02, l=13.12]', '\" lawyer\"[p=0.01, l=12.69]', '\" talk\"[p=0.01, l=12.69]', '\" musician\"[p=0.01, l=12.56]', '\" (\"[p=0.01, l=12.44]', '\" radio\"[p=0.01, l=12.38]', '\" media\"[p=0.01, l=12.31]', '\" host\"[p=0.01, l=11.94]', '\"??\"[p=0.01, l=11.81]']\n",
      "\n",
      "\" Andrey Rublev\" | cur_rng=(32, 36)\n",
      "token_idx=32 [\" And\"] => ['\"?\\n\"[p=0.17, l=12.81]', '\"??\"[p=0.07, l=11.94]', '\"?\"[p=0.07, l=11.88]', '\"?\\n\\n\"[p=0.06, l=11.69]', '\"???\"[p=0.03, l=11.19]', '\" musician\"[p=0.03, l=11.06]', '\" singer\"[p=0.03, l=10.94]', '\" artist\"[p=0.02, l=10.62]', '\" programmer\"[p=0.02, l=10.44]', '\" And\"[p=0.02, l=10.38]', '\" software\"[p=0.01, l=10.25]', '\" what\"[p=0.01, l=10.25]', '\" engineer\"[p=0.01, l=10.12]', '\" unknown\"[p=0.01, l=9.94]', '\" (\"[p=0.01, l=9.94]']\n",
      "token_idx=33 [\"rey\"] => ['\"?\\n\"[p=0.16, l=12.88]', '\"?\\n\\n\"[p=0.07, l=12.00]', '\" programmer\"[p=0.06, l=11.94]', '\"?\"[p=0.06, l=11.88]', '\"??\"[p=0.04, l=11.62]', '\" unknown\"[p=0.04, l=11.56]', '\" software\"[p=0.03, l=11.25]', '\"???\"[p=0.03, l=11.19]', '\" engineer\"[p=0.02, l=10.69]', '\" entrepreneur\"[p=0.01, l=10.38]', '\" student\"[p=0.01, l=10.31]', '\" actor\"[p=0.01, l=10.25]', '\" artist\"[p=0.01, l=10.25]', '\" what\"[p=0.01, l=10.06]', '\" computer\"[p=0.01, l=10.00]']\n",
      "token_idx=34 [\" Rub\"] => ['\" artist\"[p=0.05, l=10.69]', '\"?\\n\"[p=0.04, l=10.50]', '\"??\"[p=0.03, l=10.38]', '\" unknown\"[p=0.03, l=10.06]', '\"???\"[p=0.02, l=9.81]', '\" musician\"[p=0.02, l=9.62]', '\" singer\"[p=0.02, l=9.62]', '\"?\"[p=0.02, l=9.56]', '\" programmer\"[p=0.01, l=9.31]', '\" Rub\"[p=0.01, l=9.25]', '\" painter\"[p=0.01, l=9.19]', '\" poet\"[p=0.01, l=9.06]', '\" architect\"[p=0.01, l=9.00]', '\" entrepreneur\"[p=0.01, l=8.94]', '\" no\"[p=0.01, l=8.94]']\n",
      "token_idx=35 [\"lev\"] => ['\" tennis\"[p=0.69, l=16.25]', '\" musician\"[p=0.02, l=12.81]', '\" artist\"[p=0.02, l=12.50]', '\" athlete\"[p=0.01, l=12.38]', '\" politician\"[p=0.01, l=12.31]', '\" painter\"[p=0.01, l=11.94]', '\" (\"[p=0.01, l=11.75]', '\"?\\n\"[p=0.01, l=11.62]', '\" professional\"[p=0.01, l=11.62]', '\" unknown\"[p=0.01, l=11.50]', '\" actor\"[p=0.01, l=11.50]', '\"??\"[p=0.01, l=11.44]', '\" ten\"[p=0.00, l=11.31]', '\"?\"[p=0.00, l=11.31]', '\" mathematic\"[p=0.00, l=11.31]']\n",
      "\n",
      "\" Samuel L. Jackson\" | cur_rng=(37, 41)\n",
      "token_idx=37 [\" Samuel\"] => ['\" prophet\"[p=0.23, l=13.56]', '\" unknown\"[p=0.05, l=11.94]', '\" actor\"[p=0.04, l=11.75]', '\" judge\"[p=0.02, l=11.31]', '\" biblical\"[p=0.02, l=11.06]', '\"?\\n\"[p=0.02, l=11.00]', '\" priest\"[p=0.01, l=10.81]', '\" no\"[p=0.01, l=10.62]', '\"??\"[p=0.01, l=10.44]', '\" (\"[p=0.01, l=10.38]', '\" Prophet\"[p=0.01, l=10.31]', '\" teacher\"[p=0.01, l=10.31]', '\" professor\"[p=0.01, l=10.25]', '\" not\"[p=0.01, l=10.25]', '\" pastor\"[p=0.01, l=10.25]']\n",
      "token_idx=38 [\" L\"] => ['\" actor\"[p=0.13, l=12.25]', '\" lawyer\"[p=0.12, l=12.12]', '\" rapper\"[p=0.06, l=11.38]', '\" musician\"[p=0.03, l=10.62]', '\" singer\"[p=0.02, l=10.56]', '\" unknown\"[p=0.01, l=10.06]', '\"?\\n\"[p=0.01, l=9.88]', '\" comedian\"[p=0.01, l=9.69]', '\" (\"[p=0.01, l=9.62]', '\" teacher\"[p=0.01, l=9.62]', '\" artist\"[p=0.01, l=9.62]', '\"??\"[p=0.01, l=9.56]', '\" Lawyer\"[p=0.01, l=9.44]', '\" writer\"[p=0.01, l=9.44]', '\" \"[p=0.01, l=9.38]']\n",
      "token_idx=39 [\".\"] => ['\" lawyer\"[p=0.06, l=11.69]', '\"?\\n\"[p=0.06, l=11.62]', '\" actor\"[p=0.06, l=11.62]', '\"?\\n\\n\"[p=0.03, l=11.00]', '\"??\"[p=0.03, l=11.00]', '\"?\"[p=0.02, l=10.75]', '\" unknown\"[p=0.02, l=10.62]', '\" politician\"[p=0.02, l=10.62]', '\" (\"[p=0.02, l=10.50]', '\" musician\"[p=0.02, l=10.44]', '\" scientist\"[p=0.02, l=10.44]', '\" astronaut\"[p=0.02, l=10.25]', '\" writer\"[p=0.01, l=10.06]', '\" artist\"[p=0.01, l=10.06]', '\" author\"[p=0.01, l=10.00]']\n",
      "token_idx=40 [\" Jackson\"] => ['\" actor\"[p=0.75, l=14.94]', '\"??\"[p=0.01, l=10.44]', '\"?\\n\"[p=0.01, l=10.31]', '\" painter\"[p=0.01, l=10.19]', '\" unknown\"[p=0.01, l=10.19]', '\" Actor\"[p=0.01, l=10.19]', '\" (\"[p=0.01, l=10.19]', '\" Jackson\"[p=0.01, l=10.12]', '\" no\"[p=0.01, l=10.00]', '\"?\"[p=0.01, l=9.94]', '\" artist\"[p=0.01, l=9.94]', '\"???\"[p=0.00, l=9.88]', '\" not\"[p=0.00, l=9.75]', '\" rapper\"[p=0.00, l=9.69]', '\" singer\"[p=0.00, l=9.69]']\n",
      "======================================================================================================================================================\n",
      "\n",
      "layer='model.layers.24'\n",
      "\n",
      "\"Ans:\" | cur_rng=(-2, 0)\n",
      "token_idx=-2 [\"Ans\"] => ['\"?\\n\"[p=0.04, l=10.12]', '\" Ans\"[p=0.04, l=9.94]', '\" unknown\"[p=0.03, l=9.69]', '\" artist\"[p=0.03, l=9.62]', '\" programmer\"[p=0.02, l=9.12]', '\"?\\n\\n\"[p=0.02, l=9.12]', '\"??\"[p=0.02, l=9.06]', '\" software\"[p=0.01, l=8.81]', '\" answer\"[p=0.01, l=8.69]', '\" entrepreneur\"[p=0.01, l=8.62]', '\" student\"[p=0.01, l=8.62]', '\" musician\"[p=0.01, l=8.62]', '\" computer\"[p=0.01, l=8.56]', '\" person\"[p=0.01, l=8.44]', '\"?\"[p=0.01, l=8.44]']\n",
      "token_idx=-1 [\":\"] => ['\"?\\n\"[p=0.13, l=12.00]', '\"?\\n\\n\"[p=0.10, l=11.75]', '\"?\"[p=0.04, l=10.94]', '\"??\"[p=0.03, l=10.62]', '\" \\n\"[p=0.03, l=10.56]', '\" (\"[p=0.02, l=10.19]', '\" lawyer\"[p=0.02, l=10.06]', '\" software\"[p=0.02, l=9.88]', '\" artist\"[p=0.01, l=9.75]', '\"\\n\\n\"[p=0.01, l=9.69]', '\" politician\"[p=0.01, l=9.69]', '\"???\"[p=0.01, l=9.56]', '\" actor\"[p=0.01, l=9.44]', '\" ->\"[p=0.01, l=9.38]', '\" \"[p=0.01, l=9.38]']\n",
      "\n",
      "\" Trevor Noah\" | cur_rng=(13, 15)\n",
      "token_idx=13 [\" Trevor\"] => ['\"?\\n\"[p=0.12, l=12.81]', '\"??\"[p=0.07, l=12.25]', '\"?\"[p=0.05, l=12.06]', '\"?\\n\\n\"[p=0.05, l=11.94]', '\" unknown\"[p=0.05, l=11.88]', '\"???\"[p=0.04, l=11.75]', '\" software\"[p=0.03, l=11.44]', '\" actor\"[p=0.02, l=11.12]', '\" programmer\"[p=0.02, l=10.94]', '\" entrepreneur\"[p=0.01, l=10.62]', '\" politician\"[p=0.01, l=10.44]', '\" (\"[p=0.01, l=10.38]', '\" comedian\"[p=0.01, l=10.38]', '\" engineer\"[p=0.01, l=10.31]', '\" football\"[p=0.01, l=10.25]']\n",
      "token_idx=14 [\" Noah\"] => ['\" comedian\"[p=0.91, l=19.00]', '\" actor\"[p=0.01, l=14.25]', '\" TV\"[p=0.01, l=14.12]', '\" stand\"[p=0.01, l=14.06]', '\" Com\"[p=0.01, l=13.94]', '\" political\"[p=0.00, l=13.56]', '\" talk\"[p=0.00, l=13.44]', '\" television\"[p=0.00, l=13.31]', '\" journalist\"[p=0.00, l=13.25]', '\" (\"[p=0.00, l=13.25]', '\" politician\"[p=0.00, l=12.88]', '\" \"[p=0.00, l=12.56]', '\" host\"[p=0.00, l=12.44]', '\" tv\"[p=0.00, l=12.38]', '\" writer\"[p=0.00, l=12.25]']\n",
      "\n",
      "\" Zion Williamson\" | cur_rng=(18, 20)\n",
      "token_idx=18 [\" Zion\"] => ['\" singer\"[p=0.08, l=11.88]', '\" unknown\"[p=0.06, l=11.56]', '\"?\\n\"[p=0.05, l=11.44]', '\" musician\"[p=0.05, l=11.38]', '\"??\"[p=0.03, l=11.06]', '\" rapper\"[p=0.03, l=11.06]', '\" basketball\"[p=0.03, l=10.88]', '\" football\"[p=0.03, l=10.88]', '\" no\"[p=0.02, l=10.56]', '\" student\"[p=0.02, l=10.44]', '\" artist\"[p=0.02, l=10.44]', '\" soccer\"[p=0.02, l=10.38]', '\" (\"[p=0.01, l=10.19]', '\"???\"[p=0.01, l=10.12]', '\"?\"[p=0.01, l=10.12]']\n",
      "token_idx=19 [\" Williamson\"] => ['\" basketball\"[p=0.80, l=16.62]', '\" NBA\"[p=0.01, l=12.44]', '\" Basketball\"[p=0.01, l=12.38]', '\" athlete\"[p=0.01, l=12.38]', '\" football\"[p=0.01, l=12.38]', '\" professional\"[p=0.01, l=12.31]', '\" college\"[p=0.01, l=12.00]', '\" unknown\"[p=0.01, l=11.88]', '\" (\"[p=0.01, l=11.56]', '\" actor\"[p=0.00, l=11.44]', '\"??\"[p=0.00, l=11.31]', '\" basket\"[p=0.00, l=11.25]', '\"?\\n\"[p=0.00, l=10.94]', '\" \\n\"[p=0.00, l=10.94]', '\" \"[p=0.00, l=10.69]']\n",
      "\n",
      "\" John Mulaney\" | cur_rng=(21, 24)\n",
      "token_idx=21 [\" John\"] => ['\" unknown\"[p=0.09, l=13.06]', '\"?\\n\"[p=0.04, l=12.25]', '\" actor\"[p=0.04, l=12.25]', '\" politician\"[p=0.03, l=12.06]', '\" programmer\"[p=0.03, l=11.94]', '\" pastor\"[p=0.03, l=11.94]', '\" lawyer\"[p=0.02, l=11.81]', '\" software\"[p=0.02, l=11.81]', '\"?\"[p=0.02, l=11.62]', '\" no\"[p=0.02, l=11.56]', '\"??\"[p=0.02, l=11.56]', '\" teacher\"[p=0.02, l=11.31]', '\"???\"[p=0.01, l=11.25]', '\" farmer\"[p=0.01, l=11.19]', '\" writer\"[p=0.01, l=11.19]']\n",
      "token_idx=22 [\" Mul\"] => ['\" farmer\"[p=0.03, l=10.06]', '\" musician\"[p=0.02, l=9.69]', '\" actor\"[p=0.02, l=9.69]', '\" singer\"[p=0.02, l=9.50]', '\" unknown\"[p=0.01, l=9.38]', '\"?\\n\"[p=0.01, l=9.19]', '\"??\"[p=0.01, l=9.19]', '\"???\"[p=0.01, l=9.06]', '\" artist\"[p=0.01, l=9.06]', '\" cartoon\"[p=0.01, l=8.94]', '\" software\"[p=0.01, l=8.88]', '\" \"[p=0.01, l=8.88]', '\" programmer\"[p=0.01, l=8.88]', '\" engineer\"[p=0.01, l=8.81]', '\" (\"[p=0.01, l=8.81]']\n",
      "token_idx=23 [\"aney\"] => ['\" comedian\"[p=0.85, l=18.25]', '\" stand\"[p=0.05, l=15.31]', '\" actor\"[p=0.01, l=14.06]', '\" Com\"[p=0.01, l=13.81]', '\"??\"[p=0.01, l=13.12]', '\" (\"[p=0.01, l=13.12]', '\"?\\n\"[p=0.00, l=13.00]', '\" John\"[p=0.00, l=12.44]', '\" comic\"[p=0.00, l=12.25]', '\" unknown\"[p=0.00, l=12.19]', '\" Stand\"[p=0.00, l=12.19]', '\" \"[p=0.00, l=12.19]', '\" writer\"[p=0.00, l=12.12]', '\"???\"[p=0.00, l=12.06]', '\"?\"[p=0.00, l=12.06]']\n",
      "\n",
      "\" Ariana Grande\" | cur_rng=(25, 28)\n",
      "token_idx=25 [\" Ari\"] => ['\" singer\"[p=0.09, l=11.94]', '\"?\\n\"[p=0.06, l=11.56]', '\" unknown\"[p=0.03, l=10.88]', '\"?\"[p=0.03, l=10.81]', '\" artist\"[p=0.03, l=10.69]', '\"??\"[p=0.02, l=10.56]', '\" musician\"[p=0.02, l=10.56]', '\" actor\"[p=0.02, l=10.50]', '\" actress\"[p=0.02, l=10.31]', '\"???\"[p=0.01, l=10.12]', '\" model\"[p=0.01, l=10.12]', '\" pop\"[p=0.01, l=9.81]', '\"?\\n\\n\"[p=0.01, l=9.81]', '\" student\"[p=0.01, l=9.62]', '\" politician\"[p=0.01, l=9.56]']\n",
      "token_idx=26 [\"ana\"] => ['\" singer\"[p=0.57, l=15.00]', '\"?\\n\"[p=0.04, l=12.38]', '\" pop\"[p=0.04, l=12.38]', '\" musician\"[p=0.03, l=11.88]', '\" unknown\"[p=0.02, l=11.75]', '\"?\"[p=0.02, l=11.38]', '\" no\"[p=0.01, l=11.19]', '\" artist\"[p=0.01, l=11.06]', '\" actress\"[p=0.01, l=11.00]', '\"??\"[p=0.01, l=11.00]', '\" celebrity\"[p=0.01, l=10.94]', '\" not\"[p=0.01, l=10.62]', '\" Singer\"[p=0.01, l=10.62]', '\" (\"[p=0.01, l=10.50]', '\"?\\n\\n\"[p=0.01, l=10.44]']\n",
      "token_idx=27 [\" Grande\"] => ['\" singer\"[p=0.92, l=19.25]', '\" musician\"[p=0.02, l=15.44]', '\" pop\"[p=0.02, l=15.38]', '\" actress\"[p=0.01, l=14.56]', '\" Singer\"[p=0.00, l=13.88]', '\" artist\"[p=0.00, l=13.62]', '\" \"[p=0.00, l=12.50]', '\" actor\"[p=0.00, l=12.38]', '\" music\"[p=0.00, l=12.31]', '\"?\\n\"[p=0.00, l=12.31]', '\" celebrity\"[p=0.00, l=12.25]', '\" (\"[p=0.00, l=12.19]', '\" no\"[p=0.00, l=12.06]', '\" songwriter\"[p=0.00, l=11.94]', '\" model\"[p=0.00, l=11.94]']\n",
      "\n",
      "\" Joe Scarborough\" | cur_rng=(29, 31)\n",
      "token_idx=29 [\" Joe\"] => ['\" unknown\"[p=0.06, l=12.19]', '\"?\\n\"[p=0.03, l=11.56]', '\" plumber\"[p=0.03, l=11.38]', '\" actor\"[p=0.02, l=11.19]', '\"??\"[p=0.02, l=11.12]', '\"???\"[p=0.02, l=11.06]', '\"?\"[p=0.02, l=10.94]', '\" politician\"[p=0.02, l=10.88]', '\" jan\"[p=0.01, l=10.81]', '\" police\"[p=0.01, l=10.75]', '\" no\"[p=0.01, l=10.75]', '\" barber\"[p=0.01, l=10.69]', '\" teacher\"[p=0.01, l=10.56]', '\" bar\"[p=0.01, l=10.56]', '\" entrepreneur\"[p=0.01, l=10.56]']\n",
      "token_idx=30 [\" Scarborough\"] => ['\" politician\"[p=0.24, l=14.88]', '\" journalist\"[p=0.11, l=14.12]', '\" TV\"[p=0.07, l=13.69]', '\" news\"[p=0.06, l=13.50]', '\" television\"[p=0.05, l=13.38]', '\" political\"[p=0.05, l=13.25]', '\" tv\"[p=0.02, l=12.31]', '\" talk\"[p=0.02, l=12.12]', '\" lawyer\"[p=0.01, l=12.00]', '\"?\\n\"[p=0.01, l=11.94]', '\"??\"[p=0.01, l=11.88]', '\" (\"[p=0.01, l=11.88]', '\" musician\"[p=0.01, l=11.81]', '\"?\"[p=0.01, l=11.69]', '\" unknown\"[p=0.01, l=11.62]']\n",
      "\n",
      "\" Andrey Rublev\" | cur_rng=(32, 36)\n",
      "token_idx=32 [\" And\"] => ['\"?\\n\"[p=0.21, l=13.25]', '\"??\"[p=0.09, l=12.38]', '\"?\\n\\n\"[p=0.08, l=12.25]', '\"?\"[p=0.08, l=12.25]', '\"???\"[p=0.04, l=11.50]', '\" singer\"[p=0.02, l=10.88]', '\" And\"[p=0.02, l=10.81]', '\" musician\"[p=0.02, l=10.81]', '\" artist\"[p=0.02, l=10.69]', '\" software\"[p=0.01, l=10.44]', '\" \\n\"[p=0.01, l=10.44]', '\"...\"[p=0.01, l=10.38]', '\" lawyer\"[p=0.01, l=10.31]', '\" (\"[p=0.01, l=10.31]', '\" programmer\"[p=0.01, l=10.19]']\n",
      "token_idx=33 [\"rey\"] => ['\"?\\n\"[p=0.18, l=13.12]', '\"?\\n\\n\"[p=0.07, l=12.25]', '\" programmer\"[p=0.07, l=12.12]', '\"?\"[p=0.06, l=12.06]', '\"??\"[p=0.04, l=11.75]', '\" unknown\"[p=0.04, l=11.56]', '\" software\"[p=0.03, l=11.31]', '\"???\"[p=0.03, l=11.25]', '\" engineer\"[p=0.02, l=10.75]', '\" entrepreneur\"[p=0.02, l=10.75]', '\" artist\"[p=0.01, l=10.44]', '\" what\"[p=0.01, l=10.25]', '\" student\"[p=0.01, l=10.25]', '\" actor\"[p=0.01, l=10.25]', '\" computer\"[p=0.01, l=10.12]']\n",
      "token_idx=34 [\" Rub\"] => ['\"?\\n\"[p=0.05, l=10.81]', '\" artist\"[p=0.05, l=10.69]', '\"??\"[p=0.03, l=10.31]', '\" unknown\"[p=0.03, l=10.06]', '\"?\"[p=0.02, l=9.94]', '\"???\"[p=0.02, l=9.75]', '\" musician\"[p=0.02, l=9.69]', '\" singer\"[p=0.02, l=9.62]', '\" programmer\"[p=0.01, l=9.25]', '\" painter\"[p=0.01, l=9.19]', '\"?\\n\\n\"[p=0.01, l=9.12]', '\" what\"[p=0.01, l=9.00]', '\" Rub\"[p=0.01, l=8.94]', '\" football\"[p=0.01, l=8.94]', '\" mathematic\"[p=0.01, l=8.94]']\n",
      "token_idx=35 [\"lev\"] => ['\" tennis\"[p=0.42, l=15.12]', '\" artist\"[p=0.04, l=12.81]', '\" musician\"[p=0.03, l=12.50]', '\" painter\"[p=0.03, l=12.50]', '\"?\\n\"[p=0.03, l=12.50]', '\" politician\"[p=0.02, l=12.19]', '\" composer\"[p=0.02, l=11.88]', '\"??\"[p=0.02, l=11.88]', '\" poet\"[p=0.02, l=11.81]', '\"?\"[p=0.01, l=11.75]', '\" athlete\"[p=0.01, l=11.69]', '\" writer\"[p=0.01, l=11.62]', '\" (\"[p=0.01, l=11.56]', '\" unknown\"[p=0.01, l=11.56]', '\" novelist\"[p=0.01, l=11.38]']\n",
      "\n",
      "\" Samuel L. Jackson\" | cur_rng=(37, 41)\n",
      "token_idx=37 [\" Samuel\"] => ['\" prophet\"[p=0.31, l=14.00]', '\" unknown\"[p=0.04, l=12.00]', '\" judge\"[p=0.03, l=11.81]', '\" actor\"[p=0.03, l=11.69]', '\"?\\n\"[p=0.02, l=11.31]', '\" biblical\"[p=0.02, l=11.25]', '\"??\"[p=0.01, l=10.81]', '\" Prophet\"[p=0.01, l=10.69]', '\" no\"[p=0.01, l=10.69]', '\" priest\"[p=0.01, l=10.50]', '\" (\"[p=0.01, l=10.44]', '\" not\"[p=0.01, l=10.38]', '\" philosopher\"[p=0.01, l=10.38]', '\"?\"[p=0.01, l=10.31]', '\"???\"[p=0.01, l=10.25]']\n",
      "token_idx=38 [\" L\"] => ['\" actor\"[p=0.09, l=11.69]', '\" lawyer\"[p=0.09, l=11.62]', '\" singer\"[p=0.03, l=10.62]', '\" rapper\"[p=0.03, l=10.56]', '\"?\\n\"[p=0.02, l=10.25]', '\" musician\"[p=0.02, l=10.25]', '\" unknown\"[p=0.02, l=10.19]', '\"??\"[p=0.01, l=9.81]', '\" artist\"[p=0.01, l=9.75]', '\" teacher\"[p=0.01, l=9.75]', '\" software\"[p=0.01, l=9.62]', '\" (\"[p=0.01, l=9.56]', '\" comedian\"[p=0.01, l=9.50]', '\" programmer\"[p=0.01, l=9.44]', '\" writer\"[p=0.01, l=9.38]']\n",
      "token_idx=39 [\".\"] => ['\" lawyer\"[p=0.08, l=11.81]', '\"?\\n\"[p=0.06, l=11.56]', '\"?\\n\\n\"[p=0.04, l=11.06]', '\"??\"[p=0.03, l=10.88]', '\"?\"[p=0.03, l=10.75]', '\" unknown\"[p=0.03, l=10.69]', '\" actor\"[p=0.02, l=10.56]', '\" politician\"[p=0.02, l=10.50]', '\" (\"[p=0.02, l=10.38]', '\" scientist\"[p=0.02, l=10.19]', '\" L\"[p=0.01, l=10.06]', '\" musician\"[p=0.01, l=10.00]', '\"???\"[p=0.01, l=9.94]', '\" artist\"[p=0.01, l=9.88]', '\" not\"[p=0.01, l=9.75]']\n",
      "token_idx=40 [\" Jackson\"] => ['\" actor\"[p=0.79, l=15.31]', '\" rapper\"[p=0.01, l=10.44]', '\"?\\n\"[p=0.01, l=10.31]', '\"??\"[p=0.01, l=10.31]', '\" (\"[p=0.01, l=10.25]', '\" Actor\"[p=0.01, l=10.25]', '\" unknown\"[p=0.01, l=10.25]', '\" Jackson\"[p=0.00, l=10.19]', '\" no\"[p=0.00, l=10.12]', '\" painter\"[p=0.00, l=10.06]', '\" politician\"[p=0.00, l=10.00]', '\" singer\"[p=0.00, l=10.00]', '\"?\"[p=0.00, l=9.94]', '\" artist\"[p=0.00, l=9.94]', '\" not\"[p=0.00, l=9.81]']\n",
      "======================================================================================================================================================\n",
      "\n",
      "layer='model.layers.27'\n",
      "\n",
      "\"Ans:\" | cur_rng=(-2, 0)\n",
      "token_idx=-2 [\"Ans\"] => ['\"?\\n\"[p=0.08, l=11.00]', '\" Ans\"[p=0.03, l=10.19]', '\"?\\n\\n\"[p=0.03, l=10.19]', '\" unknown\"[p=0.03, l=10.19]', '\"??\"[p=0.03, l=10.00]', '\" artist\"[p=0.02, l=9.81]', '\" programmer\"[p=0.02, l=9.69]', '\" student\"[p=0.02, l=9.56]', '\"?\"[p=0.01, l=9.31]', '\" software\"[p=0.01, l=9.25]', '\"???\"[p=0.01, l=9.25]', '\" musician\"[p=0.01, l=9.06]', '\" singer\"[p=0.01, l=9.00]', '\" computer\"[p=0.01, l=8.94]', '\" (\"[p=0.01, l=8.75]']\n",
      "token_idx=-1 [\":\"] => ['\"?\\n\"[p=0.12, l=11.62]', '\"?\\n\\n\"[p=0.08, l=11.19]', '\"?\"[p=0.04, l=10.50]', '\" \\n\"[p=0.02, l=9.88]', '\" unknown\"[p=0.02, l=9.75]', '\"??\"[p=0.02, l=9.69]', '\" lawyer\"[p=0.02, l=9.62]', '\" (\"[p=0.02, l=9.56]', '\" ->\"[p=0.01, l=9.50]', '\" software\"[p=0.01, l=9.25]', '\" person\"[p=0.01, l=9.06]', '\" \"[p=0.01, l=9.06]', '\" artist\"[p=0.01, l=9.00]', '\" :\"[p=0.01, l=9.00]', '\"\\n\\n\"[p=0.01, l=8.94]']\n",
      "\n",
      "\" Trevor Noah\" | cur_rng=(13, 15)\n",
      "token_idx=13 [\" Trevor\"] => ['\"?\\n\"[p=0.08, l=12.25]', '\"??\"[p=0.05, l=11.75]', '\" unknown\"[p=0.04, l=11.62]', '\"?\"[p=0.04, l=11.50]', '\"???\"[p=0.03, l=11.38]', '\" software\"[p=0.03, l=11.31]', '\"?\\n\\n\"[p=0.02, l=11.06]', '\" actor\"[p=0.02, l=11.00]', '\" You\"[p=0.02, l=10.75]', '\" entrepreneur\"[p=0.02, l=10.69]', '\" programmer\"[p=0.02, l=10.62]', '\" (\"[p=0.01, l=10.38]', '\" musician\"[p=0.01, l=10.38]', '\" soccer\"[p=0.01, l=10.31]', '\" football\"[p=0.01, l=10.31]']\n",
      "token_idx=14 [\" Noah\"] => ['\" comedian\"[p=0.96, l=21.12]', '\" stand\"[p=0.01, l=16.25]', '\" Com\"[p=0.00, l=15.69]', '\" actor\"[p=0.00, l=15.38]', '\" TV\"[p=0.00, l=15.19]', '\" political\"[p=0.00, l=14.94]', '\" journalist\"[p=0.00, l=14.38]', '\" (\"[p=0.00, l=14.25]', '\" politician\"[p=0.00, l=14.12]', '\" television\"[p=0.00, l=14.06]', '\" talk\"[p=0.00, l=14.00]', '\" \"[p=0.00, l=13.75]', '\" comedy\"[p=0.00, l=13.62]', '\" writer\"[p=0.00, l=13.38]', '\" host\"[p=0.00, l=13.38]']\n",
      "\n",
      "\" Zion Williamson\" | cur_rng=(18, 20)\n",
      "token_idx=18 [\" Zion\"] => ['\" unknown\"[p=0.06, l=11.69]', '\" singer\"[p=0.06, l=11.56]', '\" musician\"[p=0.04, l=11.31]', '\" basketball\"[p=0.04, l=11.31]', '\"?\\n\"[p=0.04, l=11.31]', '\" rapper\"[p=0.04, l=11.12]', '\"??\"[p=0.03, l=11.00]', '\" football\"[p=0.03, l=10.94]', '\" no\"[p=0.02, l=10.69]', '\" student\"[p=0.02, l=10.44]', '\" artist\"[p=0.02, l=10.38]', '\" soccer\"[p=0.02, l=10.31]', '\" (\"[p=0.01, l=10.25]', '\"???\"[p=0.01, l=10.00]', '\" not\"[p=0.01, l=9.94]']\n",
      "token_idx=19 [\" Williamson\"] => ['\" basketball\"[p=0.88, l=17.62]', '\" professional\"[p=0.01, l=13.31]', '\" Basketball\"[p=0.01, l=13.25]', '\" NBA\"[p=0.01, l=13.00]', '\" college\"[p=0.01, l=12.94]', '\" football\"[p=0.01, l=12.88]', '\" athlete\"[p=0.01, l=12.81]', '\" (\"[p=0.00, l=11.94]', '\" basket\"[p=0.00, l=11.81]', '\" unknown\"[p=0.00, l=11.75]', '\" actor\"[p=0.00, l=11.69]', '\" entrepreneur\"[p=0.00, l=11.44]', '\" \"[p=0.00, l=11.38]', '\"??\"[p=0.00, l=11.31]', '\" \\n\"[p=0.00, l=11.25]']\n",
      "\n",
      "\" John Mulaney\" | cur_rng=(21, 24)\n",
      "token_idx=21 [\" John\"] => ['\" unknown\"[p=0.10, l=13.19]', '\"?\\n\"[p=0.04, l=12.25]', '\" actor\"[p=0.03, l=12.12]', '\" programmer\"[p=0.03, l=12.06]', '\" pastor\"[p=0.03, l=11.94]', '\" politician\"[p=0.03, l=11.88]', '\" lawyer\"[p=0.02, l=11.75]', '\" farmer\"[p=0.02, l=11.69]', '\" software\"[p=0.02, l=11.69]', '\"??\"[p=0.02, l=11.56]', '\"?\"[p=0.02, l=11.56]', '\" no\"[p=0.02, l=11.44]', '\" teacher\"[p=0.02, l=11.44]', '\"???\"[p=0.01, l=11.31]', '\" writer\"[p=0.01, l=11.31]']\n",
      "token_idx=22 [\" Mul\"] => ['\" musician\"[p=0.02, l=9.88]', '\" farmer\"[p=0.02, l=9.81]', '\" actor\"[p=0.02, l=9.81]', '\" singer\"[p=0.02, l=9.69]', '\" unknown\"[p=0.01, l=9.38]', '\"??\"[p=0.01, l=9.31]', '\" cartoon\"[p=0.01, l=9.25]', '\" artist\"[p=0.01, l=9.25]', '\"?\\n\"[p=0.01, l=9.19]', '\"???\"[p=0.01, l=9.19]', '\" software\"[p=0.01, l=9.12]', '\" programmer\"[p=0.01, l=9.00]', '\" \"[p=0.01, l=8.94]', '\" (\"[p=0.01, l=8.75]', '\" engineer\"[p=0.01, l=8.69]']\n",
      "token_idx=23 [\"aney\"] => ['\" comedian\"[p=0.88, l=18.88]', '\" stand\"[p=0.05, l=16.00]', '\" actor\"[p=0.01, l=14.50]', '\" Com\"[p=0.01, l=14.44]', '\" (\"[p=0.00, l=13.56]', '\"??\"[p=0.00, l=13.12]', '\"?\\n\"[p=0.00, l=12.88]', '\" Stand\"[p=0.00, l=12.81]', '\" John\"[p=0.00, l=12.75]', '\" \"[p=0.00, l=12.75]', '\" comic\"[p=0.00, l=12.75]', '\" writer\"[p=0.00, l=12.38]', '\"???\"[p=0.00, l=12.25]', '\"?\"[p=0.00, l=12.19]', '\" \\n\"[p=0.00, l=12.06]']\n",
      "\n",
      "\" Ariana Grande\" | cur_rng=(25, 28)\n",
      "token_idx=25 [\" Ari\"] => ['\" singer\"[p=0.13, l=12.56]', '\"?\\n\"[p=0.04, l=11.44]', '\" musician\"[p=0.04, l=11.31]', '\" artist\"[p=0.03, l=11.19]', '\" unknown\"[p=0.03, l=10.94]', '\" actor\"[p=0.02, l=10.75]', '\" actress\"[p=0.02, l=10.56]', '\" pop\"[p=0.02, l=10.50]', '\"?\"[p=0.02, l=10.44]', '\" student\"[p=0.01, l=10.38]', '\" model\"[p=0.01, l=10.31]', '\"??\"[p=0.01, l=10.31]', '\"???\"[p=0.01, l=10.00]', '\" lawyer\"[p=0.01, l=9.94]', '\" politician\"[p=0.01, l=9.81]']\n",
      "token_idx=26 [\"ana\"] => ['\" singer\"[p=0.52, l=14.75]', '\"?\\n\"[p=0.05, l=12.31]', '\" pop\"[p=0.04, l=12.06]', '\" unknown\"[p=0.03, l=11.94]', '\" musician\"[p=0.02, l=11.62]', '\" actress\"[p=0.02, l=11.31]', '\" no\"[p=0.02, l=11.25]', '\"?\"[p=0.02, l=11.25]', '\" artist\"[p=0.01, l=11.00]', '\"??\"[p=0.01, l=10.88]', '\" not\"[p=0.01, l=10.56]', '\" celebrity\"[p=0.01, l=10.56]', '\" model\"[p=0.01, l=10.44]', '\" teacher\"[p=0.01, l=10.38]', '\" (\"[p=0.01, l=10.38]']\n",
      "token_idx=27 [\" Grande\"] => ['\" singer\"[p=0.94, l=20.00]', '\" musician\"[p=0.02, l=16.25]', '\" pop\"[p=0.01, l=15.69]', '\" Singer\"[p=0.00, l=14.69]', '\" actress\"[p=0.00, l=14.50]', '\" artist\"[p=0.00, l=13.81]', '\" music\"[p=0.00, l=13.19]', '\" \"[p=0.00, l=12.94]', '\" songwriter\"[p=0.00, l=12.56]', '\" vocalist\"[p=0.00, l=12.44]', '\"?\\n\"[p=0.00, l=12.31]', '\" (\"[p=0.00, l=12.25]', '\" actor\"[p=0.00, l=12.25]', '\" celebrity\"[p=0.00, l=12.19]', '\" Music\"[p=0.00, l=12.19]']\n",
      "\n",
      "\" Joe Scarborough\" | cur_rng=(29, 31)\n",
      "token_idx=29 [\" Joe\"] => ['\" unknown\"[p=0.05, l=12.25]', '\" plumber\"[p=0.03, l=11.62]', '\" actor\"[p=0.02, l=11.44]', '\" politician\"[p=0.02, l=11.38]', '\" police\"[p=0.02, l=11.31]', '\"?\\n\"[p=0.02, l=11.25]', '\" teacher\"[p=0.02, l=11.12]', '\"???\"[p=0.01, l=10.94]', '\" barber\"[p=0.01, l=10.94]', '\" farmer\"[p=0.01, l=10.94]', '\"??\"[p=0.01, l=10.88]', '\" no\"[p=0.01, l=10.81]', '\" jan\"[p=0.01, l=10.81]', '\" entrepreneur\"[p=0.01, l=10.81]', '\"?\"[p=0.01, l=10.75]']\n",
      "token_idx=30 [\" Scarborough\"] => ['\" politician\"[p=0.30, l=16.25]', '\" journalist\"[p=0.17, l=15.69]', '\" TV\"[p=0.09, l=15.06]', '\" television\"[p=0.09, l=15.00]', '\" political\"[p=0.05, l=14.50]', '\" news\"[p=0.05, l=14.44]', '\" tv\"[p=0.02, l=13.62]', '\" lawyer\"[p=0.01, l=13.12]', '\" talk\"[p=0.01, l=13.12]', '\" media\"[p=0.01, l=12.81]', '\" musician\"[p=0.01, l=12.75]', '\" (\"[p=0.01, l=12.62]', '\" radio\"[p=0.01, l=12.25]', '\"??\"[p=0.00, l=12.12]', '\" host\"[p=0.00, l=12.12]']\n",
      "\n",
      "\" Andrey Rublev\" | cur_rng=(32, 36)\n",
      "token_idx=32 [\" And\"] => ['\"?\\n\"[p=0.19, l=13.00]', '\"??\"[p=0.08, l=12.19]', '\"?\\n\\n\"[p=0.07, l=12.00]', '\"?\"[p=0.07, l=12.00]', '\"???\"[p=0.03, l=11.31]', '\" And\"[p=0.02, l=10.75]', '\" singer\"[p=0.02, l=10.75]', '\" musician\"[p=0.02, l=10.62]', '\" (\"[p=0.01, l=10.44]', '\" artist\"[p=0.01, l=10.44]', '\" \\n\"[p=0.01, l=10.38]', '\" software\"[p=0.01, l=10.31]', '\" lawyer\"[p=0.01, l=10.25]', '\" unknown\"[p=0.01, l=10.25]', '\"...\"[p=0.01, l=10.12]']\n",
      "token_idx=33 [\"rey\"] => ['\"?\\n\"[p=0.22, l=13.56]', '\"?\\n\\n\"[p=0.10, l=12.75]', '\"?\"[p=0.07, l=12.38]', '\" programmer\"[p=0.06, l=12.31]', '\"??\"[p=0.05, l=12.00]', '\" unknown\"[p=0.04, l=11.75]', '\"???\"[p=0.03, l=11.50]', '\" software\"[p=0.02, l=11.25]', '\" entrepreneur\"[p=0.02, l=11.12]', '\" engineer\"[p=0.01, l=10.75]', '\" artist\"[p=0.01, l=10.56]', '\" what\"[p=0.01, l=10.44]', '\" astronaut\"[p=0.01, l=10.44]', '\" actor\"[p=0.01, l=10.44]', '\" student\"[p=0.01, l=10.19]']\n",
      "token_idx=34 [\" Rub\"] => ['\" artist\"[p=0.09, l=11.44]', '\" painter\"[p=0.03, l=10.25]', '\"?\\n\"[p=0.03, l=10.25]', '\"??\"[p=0.02, l=10.12]', '\" unknown\"[p=0.02, l=10.06]', '\" musician\"[p=0.02, l=9.81]', '\" singer\"[p=0.01, l=9.56]', '\"???\"[p=0.01, l=9.56]', '\"?\"[p=0.01, l=9.44]', '\" programmer\"[p=0.01, l=9.38]', '\" poet\"[p=0.01, l=9.38]', '\" entrepreneur\"[p=0.01, l=9.25]', '\" architect\"[p=0.01, l=9.12]', '\" photographer\"[p=0.01, l=9.00]', '\" \"[p=0.01, l=8.94]']\n",
      "token_idx=35 [\"lev\"] => ['\" tennis\"[p=0.48, l=15.75]', '\"?\\n\"[p=0.09, l=14.06]', '\"?\"[p=0.03, l=13.12]', '\"??\"[p=0.03, l=13.06]', '\"?\\n\\n\"[p=0.03, l=13.06]', '\" \\n\"[p=0.02, l=12.44]', '\" musician\"[p=0.02, l=12.38]', '\" athlete\"[p=0.02, l=12.38]', '\"???\"[p=0.01, l=12.25]', '\" politician\"[p=0.01, l=12.12]', '\" (\"[p=0.01, l=11.94]', '\" what\"[p=0.01, l=11.81]', '\" professional\"[p=0.01, l=11.81]', '\" artist\"[p=0.01, l=11.75]', '\" unknown\"[p=0.01, l=11.75]']\n",
      "\n",
      "\" Samuel L. Jackson\" | cur_rng=(37, 41)\n",
      "token_idx=37 [\" Samuel\"] => ['\" prophet\"[p=0.26, l=13.81]', '\" actor\"[p=0.05, l=12.12]', '\" unknown\"[p=0.05, l=12.06]', '\" judge\"[p=0.02, l=11.38]', '\"?\\n\"[p=0.02, l=11.25]', '\" biblical\"[p=0.01, l=10.94]', '\" no\"[p=0.01, l=10.81]', '\"??\"[p=0.01, l=10.69]', '\" priest\"[p=0.01, l=10.56]', '\" Prophet\"[p=0.01, l=10.50]', '\" not\"[p=0.01, l=10.44]', '\" (\"[p=0.01, l=10.44]', '\" singer\"[p=0.01, l=10.38]', '\" teacher\"[p=0.01, l=10.38]', '\" philosopher\"[p=0.01, l=10.38]']\n",
      "token_idx=38 [\" L\"] => ['\"?\\n\"[p=0.07, l=11.19]', '\" lawyer\"[p=0.04, l=10.62]', '\"??\"[p=0.04, l=10.56]', '\" unknown\"[p=0.04, l=10.50]', '\"?\"[p=0.03, l=10.31]', '\" singer\"[p=0.03, l=10.31]', '\"?\\n\\n\"[p=0.02, l=10.00]', '\" programmer\"[p=0.02, l=9.88]', '\" actor\"[p=0.02, l=9.88]', '\" artist\"[p=0.02, l=9.88]', '\" musician\"[p=0.02, l=9.75]', '\" L\"[p=0.02, l=9.75]', '\"???\"[p=0.02, l=9.69]', '\" no\"[p=0.01, l=9.38]', '\" not\"[p=0.01, l=9.38]']\n",
      "token_idx=39 [\".\"] => ['\" actor\"[p=0.11, l=12.19]', '\" lawyer\"[p=0.09, l=11.94]', '\"?\\n\"[p=0.04, l=11.06]', '\"??\"[p=0.02, l=10.50]', '\" unknown\"[p=0.02, l=10.44]', '\" politician\"[p=0.02, l=10.38]', '\" musician\"[p=0.02, l=10.38]', '\"?\\n\\n\"[p=0.02, l=10.25]', '\"?\"[p=0.02, l=10.25]', '\" (\"[p=0.02, l=10.25]', '\" singer\"[p=0.02, l=10.19]', '\" writer\"[p=0.01, l=10.06]', '\" scientist\"[p=0.01, l=9.94]', '\" what\"[p=0.01, l=9.88]', '\" author\"[p=0.01, l=9.81]']\n",
      "token_idx=40 [\" Jackson\"] => ['\" actor\"[p=0.78, l=15.44]', '\" rapper\"[p=0.01, l=10.62]', '\" (\"[p=0.01, l=10.56]', '\" singer\"[p=0.01, l=10.50]', '\" unknown\"[p=0.01, l=10.50]', '\" Actor\"[p=0.01, l=10.50]', '\" politician\"[p=0.01, l=10.44]', '\"?\\n\"[p=0.01, l=10.44]', '\"??\"[p=0.01, l=10.44]', '\" no\"[p=0.01, l=10.44]', '\" painter\"[p=0.00, l=10.31]', '\" artist\"[p=0.00, l=10.25]', '\" not\"[p=0.00, l=10.06]', '\" movie\"[p=0.00, l=9.94]', '\"?\"[p=0.00, l=9.94]']\n",
      "======================================================================================================================================================\n",
      "\n",
      "layer='model.layers.30'\n",
      "\n",
      "\"Ans:\" | cur_rng=(-2, 0)\n",
      "token_idx=-2 [\"Ans\"] => ['\" programmer\"[p=0.04, l=10.06]', '\"?\\n\"[p=0.04, l=10.00]', '\" Ans\"[p=0.03, l=9.88]', '\" unknown\"[p=0.02, l=9.56]', '\" software\"[p=0.02, l=9.38]', '\" artist\"[p=0.02, l=9.38]', '\" student\"[p=0.02, l=9.38]', '\" computer\"[p=0.02, l=9.25]', '\"?\\n\\n\"[p=0.01, l=9.00]', '\"??\"[p=0.01, l=8.88]', '\" answer\"[p=0.01, l=8.81]', '\" musician\"[p=0.01, l=8.75]', '\" singer\"[p=0.01, l=8.62]', '\" developer\"[p=0.01, l=8.62]', '\" data\"[p=0.01, l=8.50]']\n",
      "token_idx=-1 [\":\"] => ['\"?\\n\"[p=0.13, l=11.88]', '\"?\\n\\n\"[p=0.07, l=11.25]', '\"?\"[p=0.04, l=10.62]', '\" \\n\"[p=0.03, l=10.44]', '\" ->\"[p=0.03, l=10.38]', '\" lawyer\"[p=0.02, l=10.12]', '\"??\"[p=0.02, l=10.06]', '\" (\"[p=0.02, l=10.00]', '\" software\"[p=0.01, l=9.56]', '\" \"[p=0.01, l=9.56]', '\" unknown\"[p=0.01, l=9.50]', '\" artist\"[p=0.01, l=9.50]', '\"\\n\\n\"[p=0.01, l=9.38]', '\" profession\"[p=0.01, l=9.31]', '\" programmer\"[p=0.01, l=9.25]']\n",
      "\n",
      "\" Trevor Noah\" | cur_rng=(13, 15)\n",
      "token_idx=13 [\" Trevor\"] => ['\"?\\n\"[p=0.09, l=12.50]', '\"??\"[p=0.05, l=11.88]', '\" unknown\"[p=0.05, l=11.81]', '\"?\"[p=0.04, l=11.69]', '\"???\"[p=0.03, l=11.50]', '\" software\"[p=0.03, l=11.44]', '\"?\\n\\n\"[p=0.03, l=11.38]', '\" actor\"[p=0.02, l=11.12]', '\" programmer\"[p=0.02, l=10.88]', '\" entrepreneur\"[p=0.02, l=10.88]', '\" musician\"[p=0.01, l=10.44]', '\" football\"[p=0.01, l=10.38]', '\" no\"[p=0.01, l=10.31]', '\" (\"[p=0.01, l=10.31]', '\" engineer\"[p=0.01, l=10.31]']\n",
      "token_idx=14 [\" Noah\"] => ['\" comedian\"[p=0.93, l=19.38]', '\" stand\"[p=0.01, l=14.62]', '\" Com\"[p=0.01, l=14.50]', '\" actor\"[p=0.01, l=14.38]', '\" TV\"[p=0.00, l=13.94]', '\" political\"[p=0.00, l=13.75]', '\" (\"[p=0.00, l=13.56]', '\" politician\"[p=0.00, l=13.44]', '\" journalist\"[p=0.00, l=13.38]', '\" talk\"[p=0.00, l=13.38]', '\" television\"[p=0.00, l=12.88]', '\" \"[p=0.00, l=12.75]', '\"??\"[p=0.00, l=12.75]', '\" comedy\"[p=0.00, l=12.69]', '\"?\\n\"[p=0.00, l=12.62]']\n",
      "\n",
      "\" Zion Williamson\" | cur_rng=(18, 20)\n",
      "token_idx=18 [\" Zion\"] => ['\" unknown\"[p=0.06, l=11.62]', '\" singer\"[p=0.05, l=11.50]', '\"?\\n\"[p=0.04, l=11.38]', '\" musician\"[p=0.04, l=11.25]', '\" football\"[p=0.04, l=11.25]', '\" basketball\"[p=0.03, l=11.12]', '\" rapper\"[p=0.03, l=11.06]', '\"??\"[p=0.03, l=10.94]', '\" no\"[p=0.02, l=10.81]', '\" artist\"[p=0.02, l=10.62]', '\" soccer\"[p=0.02, l=10.50]', '\" student\"[p=0.02, l=10.44]', '\" prophet\"[p=0.01, l=10.31]', '\" (\"[p=0.01, l=10.25]', '\" actor\"[p=0.01, l=10.00]']\n",
      "token_idx=19 [\" Williamson\"] => ['\" basketball\"[p=0.86, l=17.38]', '\" football\"[p=0.01, l=13.19]', '\" Basketball\"[p=0.01, l=12.94]', '\" NBA\"[p=0.01, l=12.81]', '\" professional\"[p=0.01, l=12.75]', '\" college\"[p=0.01, l=12.62]', '\" athlete\"[p=0.00, l=12.19]', '\" (\"[p=0.00, l=12.00]', '\" unknown\"[p=0.00, l=11.94]', '\"??\"[p=0.00, l=11.75]', '\" basket\"[p=0.00, l=11.56]', '\"?\\n\"[p=0.00, l=11.56]', '\" \\n\"[p=0.00, l=11.25]', '\" actor\"[p=0.00, l=11.25]', '\" \"[p=0.00, l=11.19]']\n",
      "\n",
      "\" John Mulaney\" | cur_rng=(21, 24)\n",
      "token_idx=21 [\" John\"] => ['\" unknown\"[p=0.10, l=13.12]', '\"?\\n\"[p=0.04, l=12.31]', '\" programmer\"[p=0.03, l=12.00]', '\" farmer\"[p=0.02, l=11.75]', '\" actor\"[p=0.02, l=11.75]', '\" lawyer\"[p=0.02, l=11.75]', '\"?\"[p=0.02, l=11.62]', '\" software\"[p=0.02, l=11.62]', '\" no\"[p=0.02, l=11.56]', '\"??\"[p=0.02, l=11.50]', '\" pastor\"[p=0.02, l=11.50]', '\" teacher\"[p=0.02, l=11.38]', '\"???\"[p=0.02, l=11.38]', '\" politician\"[p=0.02, l=11.38]', '\" doctor\"[p=0.01, l=11.19]']\n",
      "token_idx=22 [\" Mul\"] => ['\" actor\"[p=0.02, l=10.06]', '\" farmer\"[p=0.02, l=9.94]', '\" musician\"[p=0.02, l=9.88]', '\" singer\"[p=0.02, l=9.75]', '\" software\"[p=0.01, l=9.50]', '\" unknown\"[p=0.01, l=9.44]', '\"??\"[p=0.01, l=9.25]', '\"???\"[p=0.01, l=9.19]', '\" artist\"[p=0.01, l=9.19]', '\" programmer\"[p=0.01, l=9.12]', '\"?\\n\"[p=0.01, l=9.12]', '\" engineer\"[p=0.01, l=9.12]', '\" mathematic\"[p=0.01, l=9.06]', '\" horse\"[p=0.01, l=9.06]', '\" cartoon\"[p=0.01, l=9.06]']\n",
      "token_idx=23 [\"aney\"] => ['\" comedian\"[p=0.84, l=18.12]', '\" stand\"[p=0.04, l=15.06]', '\" actor\"[p=0.01, l=13.81]', '\"?\\n\"[p=0.01, l=13.81]', '\"??\"[p=0.01, l=13.62]', '\" Com\"[p=0.01, l=13.50]', '\" (\"[p=0.01, l=13.19]', '\"?\"[p=0.00, l=12.81]', '\"???\"[p=0.00, l=12.75]', '\" unknown\"[p=0.00, l=12.50]', '\" \"[p=0.00, l=12.44]', '\" comic\"[p=0.00, l=12.44]', '\" John\"[p=0.00, l=12.31]', '\"?\\n\\n\"[p=0.00, l=12.12]', '\" \\n\"[p=0.00, l=12.06]']\n",
      "\n",
      "\" Ariana Grande\" | cur_rng=(25, 28)\n",
      "token_idx=25 [\" Ari\"] => ['\" singer\"[p=0.07, l=11.69]', '\"?\\n\"[p=0.06, l=11.56]', '\" artist\"[p=0.03, l=10.81]', '\" musician\"[p=0.02, l=10.62]', '\" unknown\"[p=0.02, l=10.62]', '\"?\"[p=0.02, l=10.44]', '\"??\"[p=0.02, l=10.38]', '\" actor\"[p=0.02, l=10.31]', '\" student\"[p=0.02, l=10.31]', '\"???\"[p=0.01, l=10.00]', '\" lawyer\"[p=0.01, l=9.88]', '\" software\"[p=0.01, l=9.81]', '\" entrepreneur\"[p=0.01, l=9.75]', '\" actress\"[p=0.01, l=9.75]', '\" politician\"[p=0.01, l=9.69]']\n",
      "token_idx=26 [\"ana\"] => ['\" singer\"[p=0.60, l=15.25]', '\"?\\n\"[p=0.04, l=12.44]', '\" pop\"[p=0.04, l=12.44]', '\" musician\"[p=0.03, l=12.19]', '\" unknown\"[p=0.02, l=11.88]', '\" actress\"[p=0.01, l=11.44]', '\"?\"[p=0.01, l=11.38]', '\" artist\"[p=0.01, l=11.31]', '\" no\"[p=0.01, l=11.25]', '\"??\"[p=0.01, l=11.06]', '\" Singer\"[p=0.01, l=10.94]', '\" (\"[p=0.01, l=10.62]', '\" celebrity\"[p=0.01, l=10.62]', '\" model\"[p=0.01, l=10.50]', '\" not\"[p=0.01, l=10.50]']\n",
      "token_idx=27 [\" Grande\"] => ['\" singer\"[p=0.89, l=18.88]', '\" musician\"[p=0.05, l=16.00]', '\" pop\"[p=0.01, l=14.38]', '\" actress\"[p=0.01, l=13.81]', '\" Singer\"[p=0.00, l=13.62]', '\" artist\"[p=0.00, l=13.25]', '\" music\"[p=0.00, l=12.94]', '\" lawyer\"[p=0.00, l=12.50]', '\" vocalist\"[p=0.00, l=12.25]', '\" \"[p=0.00, l=12.19]', '\"?\\n\"[p=0.00, l=12.12]', '\" songwriter\"[p=0.00, l=11.94]', '\" actor\"[p=0.00, l=11.81]', '\" (\"[p=0.00, l=11.75]', '\"?\"[p=0.00, l=11.69]']\n",
      "\n",
      "\" Joe Scarborough\" | cur_rng=(29, 31)\n",
      "token_idx=29 [\" Joe\"] => ['\" unknown\"[p=0.06, l=12.25]', '\"?\\n\"[p=0.04, l=11.94]', '\"?\"[p=0.02, l=11.38]', '\"???\"[p=0.02, l=11.38]', '\"??\"[p=0.02, l=11.38]', '\" programmer\"[p=0.02, l=11.12]', '\" farmer\"[p=0.02, l=11.12]', '\" plumber\"[p=0.02, l=11.06]', '\" politician\"[p=0.02, l=11.00]', '\" no\"[p=0.02, l=10.94]', '\" actor\"[p=0.01, l=10.88]', '\" police\"[p=0.01, l=10.81]', '\" engineer\"[p=0.01, l=10.75]', '\" teacher\"[p=0.01, l=10.69]', '\" software\"[p=0.01, l=10.69]']\n",
      "token_idx=30 [\" Scarborough\"] => ['\" journalist\"[p=0.33, l=17.75]', '\" television\"[p=0.16, l=17.00]', '\" TV\"[p=0.14, l=16.88]', '\" politician\"[p=0.11, l=16.62]', '\" news\"[p=0.06, l=16.12]', '\" political\"[p=0.06, l=16.00]', '\" tv\"[p=0.02, l=15.06]', '\" media\"[p=0.01, l=14.62]', '\" talk\"[p=0.01, l=14.25]', '\" lawyer\"[p=0.01, l=14.12]', '\" Journal\"[p=0.01, l=13.56]', '\" (\"[p=0.01, l=13.56]', '\" host\"[p=0.00, l=13.19]', '\" radio\"[p=0.00, l=13.12]', '\" American\"[p=0.00, l=12.94]']\n",
      "\n",
      "\" Andrey Rublev\" | cur_rng=(32, 36)\n",
      "token_idx=32 [\" And\"] => ['\"?\\n\"[p=0.19, l=12.94]', '\"??\"[p=0.09, l=12.19]', '\"?\"[p=0.09, l=12.19]', '\"?\\n\\n\"[p=0.08, l=12.00]', '\"???\"[p=0.04, l=11.38]', '\" what\"[p=0.02, l=10.50]', '\" (\"[p=0.02, l=10.38]', '\" And\"[p=0.02, l=10.38]', '\" \\n\"[p=0.01, l=10.25]', '\"...\"[p=0.01, l=10.19]', '\" singer\"[p=0.01, l=10.12]', '\" unknown\"[p=0.01, l=10.12]', '\" musician\"[p=0.01, l=10.12]', '\" artist\"[p=0.01, l=10.00]', '\" \"[p=0.01, l=10.00]']\n",
      "token_idx=33 [\"rey\"] => ['\"?\\n\"[p=0.18, l=13.19]', '\"?\\n\\n\"[p=0.08, l=12.31]', '\" programmer\"[p=0.06, l=12.12]', '\"?\"[p=0.06, l=12.06]', '\"??\"[p=0.05, l=11.81]', '\" unknown\"[p=0.04, l=11.62]', '\"???\"[p=0.03, l=11.31]', '\" software\"[p=0.02, l=11.12]', '\" entrepreneur\"[p=0.02, l=10.88]', '\" engineer\"[p=0.02, l=10.75]', '\" artist\"[p=0.01, l=10.50]', '\" what\"[p=0.01, l=10.38]', '\" astronaut\"[p=0.01, l=10.38]', '\" student\"[p=0.01, l=10.19]', '\" computer\"[p=0.01, l=10.12]']\n",
      "token_idx=34 [\" Rub\"] => ['\" artist\"[p=0.07, l=11.06]', '\"?\\n\"[p=0.03, l=10.31]', '\"??\"[p=0.03, l=10.19]', '\" unknown\"[p=0.02, l=9.81]', '\" musician\"[p=0.02, l=9.62]', '\"?\"[p=0.02, l=9.56]', '\"???\"[p=0.02, l=9.56]', '\" painter\"[p=0.02, l=9.56]', '\" programmer\"[p=0.01, l=9.38]', '\" entrepreneur\"[p=0.01, l=9.19]', '\" singer\"[p=0.01, l=9.19]', '\" chess\"[p=0.01, l=9.00]', '\" (\"[p=0.01, l=8.94]', '\" architect\"[p=0.01, l=8.94]', '\" mathematic\"[p=0.01, l=8.88]']\n",
      "token_idx=35 [\"lev\"] => ['\" tennis\"[p=0.47, l=15.88]', '\"?\\n\"[p=0.10, l=14.38]', '\"?\"[p=0.04, l=13.38]', '\"?\\n\\n\"[p=0.04, l=13.38]', '\"??\"[p=0.04, l=13.31]', '\" musician\"[p=0.02, l=12.56]', '\"???\"[p=0.02, l=12.50]', '\" politician\"[p=0.02, l=12.44]', '\" \\n\"[p=0.02, l=12.44]', '\" athlete\"[p=0.01, l=12.38]', '\" unknown\"[p=0.01, l=12.19]', '\" what\"[p=0.01, l=12.12]', '\" (\"[p=0.01, l=12.00]', '\" artist\"[p=0.01, l=11.94]', '\" professional\"[p=0.01, l=11.94]']\n",
      "\n",
      "\" Samuel L. Jackson\" | cur_rng=(37, 41)\n",
      "token_idx=37 [\" Samuel\"] => ['\" prophet\"[p=0.30, l=14.00]', '\" unknown\"[p=0.05, l=12.31]', '\"?\\n\"[p=0.04, l=12.00]', '\" actor\"[p=0.03, l=11.56]', '\" judge\"[p=0.02, l=11.50]', '\"??\"[p=0.02, l=11.38]', '\" no\"[p=0.02, l=11.12]', '\"?\"[p=0.01, l=10.94]', '\"???\"[p=0.01, l=10.88]', '\" biblical\"[p=0.01, l=10.75]', '\" not\"[p=0.01, l=10.56]', '\" (\"[p=0.01, l=10.56]', '\" Prophet\"[p=0.01, l=10.56]', '\" philosopher\"[p=0.01, l=10.44]', '\" teacher\"[p=0.01, l=10.44]']\n",
      "token_idx=38 [\" L\"] => ['\"?\\n\"[p=0.05, l=10.75]', '\" unknown\"[p=0.05, l=10.75]', '\"??\"[p=0.03, l=10.25]', '\" singer\"[p=0.03, l=10.12]', '\" lawyer\"[p=0.03, l=10.06]', '\"?\"[p=0.02, l=9.81]', '\" L\"[p=0.02, l=9.75]', '\" musician\"[p=0.02, l=9.69]', '\" no\"[p=0.02, l=9.69]', '\" artist\"[p=0.02, l=9.69]', '\"???\"[p=0.02, l=9.62]', '\" programmer\"[p=0.02, l=9.62]', '\" not\"[p=0.02, l=9.56]', '\" (\"[p=0.02, l=9.56]', '\" actor\"[p=0.02, l=9.56]']\n",
      "token_idx=39 [\".\"] => ['\"?\\n\"[p=0.07, l=11.75]', '\" actor\"[p=0.06, l=11.56]', '\"??\"[p=0.05, l=11.38]', '\" lawyer\"[p=0.05, l=11.31]', '\"?\"[p=0.04, l=11.12]', '\"?\\n\\n\"[p=0.04, l=11.06]', '\" unknown\"[p=0.03, l=10.94]', '\" politician\"[p=0.03, l=10.94]', '\" singer\"[p=0.02, l=10.38]', '\"???\"[p=0.02, l=10.31]', '\" (\"[p=0.02, l=10.19]', '\" not\"[p=0.02, l=10.19]', '\" musician\"[p=0.01, l=10.12]', '\" what\"[p=0.01, l=10.00]', '\" artist\"[p=0.01, l=9.94]']\n",
      "token_idx=40 [\" Jackson\"] => ['\" actor\"[p=0.84, l=16.25]', '\" politician\"[p=0.01, l=11.12]', '\" Actor\"[p=0.00, l=11.06]', '\"?\\n\"[p=0.00, l=11.00]', '\" (\"[p=0.00, l=11.00]', '\" singer\"[p=0.00, l=10.81]', '\" unknown\"[p=0.00, l=10.81]', '\"??\"[p=0.00, l=10.75]', '\" no\"[p=0.00, l=10.69]', '\" movie\"[p=0.00, l=10.62]', '\" not\"[p=0.00, l=10.56]', '\"?\"[p=0.00, l=10.50]', '\" rapper\"[p=0.00, l=10.50]', '\" artist\"[p=0.00, l=10.38]', '\" \"[p=0.00, l=10.25]']\n",
      "======================================================================================================================================================\n",
      "\n",
      "layer='model.layers.33'\n",
      "\n",
      "\"Ans:\" | cur_rng=(-2, 0)\n",
      "token_idx=-2 [\"Ans\"] => ['\" Ans\"[p=0.04, l=10.00]', '\"?\\n\"[p=0.04, l=9.81]', '\" unknown\"[p=0.03, l=9.62]', '\" artist\"[p=0.02, l=9.19]', '\" programmer\"[p=0.02, l=9.00]', '\"?\\n\\n\"[p=0.01, l=8.75]', '\"??\"[p=0.01, l=8.75]', '\" entrepreneur\"[p=0.01, l=8.62]', '\" person\"[p=0.01, l=8.62]', '\" software\"[p=0.01, l=8.62]', '\" student\"[p=0.01, l=8.56]', '\" computer\"[p=0.01, l=8.50]', '\" answer\"[p=0.01, l=8.31]', '\" \"[p=0.01, l=8.31]', '\" \\n\"[p=0.01, l=8.25]']\n",
      "token_idx=-1 [\":\"] => ['\"?\\n\"[p=0.10, l=11.25]', '\" \\n\"[p=0.04, l=10.44]', '\"?\\n\\n\"[p=0.04, l=10.38]', '\" (\"[p=0.04, l=10.31]', '\" ->\"[p=0.03, l=10.00]', '\"?\"[p=0.03, l=9.94]', '\" unknown\"[p=0.02, l=9.81]', '\" \"[p=0.02, l=9.50]', '\"??\"[p=0.02, l=9.44]', '\" empty\"[p=0.01, l=9.06]', '\"\\n\\n\"[p=0.01, l=9.00]', '\" artist\"[p=0.01, l=8.81]', '\" programmer\"[p=0.01, l=8.69]', '\" lawyer\"[p=0.01, l=8.69]', '\" None\"[p=0.01, l=8.62]']\n",
      "\n",
      "\" Trevor Noah\" | cur_rng=(13, 15)\n",
      "token_idx=13 [\" Trevor\"] => ['\"?\\n\"[p=0.11, l=12.69]', '\"??\"[p=0.06, l=12.12]', '\" unknown\"[p=0.05, l=11.94]', '\"?\"[p=0.05, l=11.94]', '\"???\"[p=0.04, l=11.75]', '\"?\\n\\n\"[p=0.04, l=11.62]', '\" software\"[p=0.03, l=11.25]', '\" actor\"[p=0.02, l=11.06]', '\" programmer\"[p=0.02, l=10.88]', '\" entrepreneur\"[p=0.02, l=10.81]', '\" no\"[p=0.01, l=10.44]', '\" engineer\"[p=0.01, l=10.44]', '\" musician\"[p=0.01, l=10.38]', '\" (\"[p=0.01, l=10.31]', '\" football\"[p=0.01, l=10.25]']\n",
      "token_idx=14 [\" Noah\"] => ['\" comedian\"[p=0.92, l=19.62]', '\" stand\"[p=0.01, l=14.88]', '\" TV\"[p=0.01, l=14.81]', '\" actor\"[p=0.01, l=14.81]', '\" Com\"[p=0.01, l=14.56]', '\" political\"[p=0.00, l=14.12]', '\" talk\"[p=0.00, l=14.12]', '\" (\"[p=0.00, l=14.00]', '\" politician\"[p=0.00, l=13.62]', '\" television\"[p=0.00, l=13.62]', '\" host\"[p=0.00, l=13.38]', '\"?\\n\"[p=0.00, l=13.19]', '\"??\"[p=0.00, l=13.12]', '\" \"[p=0.00, l=13.12]', '\" journalist\"[p=0.00, l=13.12]']\n",
      "\n",
      "\" Zion Williamson\" | cur_rng=(18, 20)\n",
      "token_idx=18 [\" Zion\"] => ['\"?\\n\"[p=0.06, l=11.75]', '\" singer\"[p=0.05, l=11.69]', '\" unknown\"[p=0.05, l=11.69]', '\" musician\"[p=0.04, l=11.38]', '\"??\"[p=0.04, l=11.31]', '\" prophet\"[p=0.03, l=11.06]', '\" rapper\"[p=0.03, l=11.00]', '\" football\"[p=0.03, l=11.00]', '\" no\"[p=0.02, l=10.88]', '\" basketball\"[p=0.02, l=10.81]', '\" artist\"[p=0.02, l=10.50]', '\"?\"[p=0.02, l=10.44]', '\"???\"[p=0.01, l=10.31]', '\" actor\"[p=0.01, l=10.31]', '\" (\"[p=0.01, l=10.25]']\n",
      "token_idx=19 [\" Williamson\"] => ['\" basketball\"[p=0.84, l=17.12]', '\" football\"[p=0.02, l=13.12]', '\" Basketball\"[p=0.01, l=12.69]', '\" NBA\"[p=0.01, l=12.62]', '\" professional\"[p=0.01, l=12.56]', '\" college\"[p=0.01, l=12.38]', '\" unknown\"[p=0.01, l=12.06]', '\" athlete\"[p=0.00, l=12.00]', '\"??\"[p=0.00, l=11.88]', '\" (\"[p=0.00, l=11.88]', '\"?\\n\"[p=0.00, l=11.81]', '\" actor\"[p=0.00, l=11.38]', '\" basket\"[p=0.00, l=11.38]', '\" \\n\"[p=0.00, l=11.25]', '\" \"[p=0.00, l=11.06]']\n",
      "\n",
      "\" John Mulaney\" | cur_rng=(21, 24)\n",
      "token_idx=21 [\" John\"] => ['\" unknown\"[p=0.10, l=13.00]', '\"?\\n\"[p=0.05, l=12.38]', '\"?\"[p=0.03, l=11.75]', '\" programmer\"[p=0.02, l=11.62]', '\" actor\"[p=0.02, l=11.62]', '\"??\"[p=0.02, l=11.56]', '\" farmer\"[p=0.02, l=11.56]', '\" no\"[p=0.02, l=11.50]', '\"???\"[p=0.02, l=11.44]', '\" lawyer\"[p=0.02, l=11.44]', '\" pastor\"[p=0.02, l=11.44]', '\" software\"[p=0.02, l=11.25]', '\" politician\"[p=0.02, l=11.25]', '\" teacher\"[p=0.01, l=11.12]', '\" (\"[p=0.01, l=11.06]']\n",
      "token_idx=22 [\" Mul\"] => ['\" actor\"[p=0.02, l=10.25]', '\" farmer\"[p=0.02, l=10.25]', '\" musician\"[p=0.02, l=9.88]', '\" unknown\"[p=0.01, l=9.69]', '\" singer\"[p=0.01, l=9.62]', '\"?\\n\"[p=0.01, l=9.56]', '\"??\"[p=0.01, l=9.50]', '\" horse\"[p=0.01, l=9.44]', '\"???\"[p=0.01, l=9.38]', '\" software\"[p=0.01, l=9.19]', '\" baker\"[p=0.01, l=9.19]', '\" (\"[p=0.01, l=9.19]', '\" artist\"[p=0.01, l=9.19]', '\" politician\"[p=0.01, l=9.19]', '\" \"[p=0.01, l=9.12]']\n",
      "token_idx=23 [\"aney\"] => ['\" comedian\"[p=0.81, l=18.00]', '\" stand\"[p=0.03, l=14.69]', '\"?\\n\"[p=0.03, l=14.62]', '\"??\"[p=0.01, l=14.00]', '\" actor\"[p=0.01, l=13.56]', '\"?\"[p=0.01, l=13.38]', '\" Com\"[p=0.01, l=13.25]', '\"?\\n\\n\"[p=0.01, l=13.19]', '\" (\"[p=0.01, l=13.06]', '\"???\"[p=0.01, l=13.06]', '\" unknown\"[p=0.00, l=12.81]', '\" \"[p=0.00, l=12.44]', '\" comic\"[p=0.00, l=12.25]', '\" \\n\"[p=0.00, l=12.25]', '\" what\"[p=0.00, l=12.19]']\n",
      "\n",
      "\" Ariana Grande\" | cur_rng=(25, 28)\n",
      "token_idx=25 [\" Ari\"] => ['\"?\\n\"[p=0.06, l=11.56]', '\" singer\"[p=0.05, l=11.44]', '\" artist\"[p=0.03, l=10.94]', '\" unknown\"[p=0.02, l=10.62]', '\" student\"[p=0.02, l=10.56]', '\" musician\"[p=0.02, l=10.56]', '\"?\"[p=0.02, l=10.44]', '\"??\"[p=0.02, l=10.38]', '\" actor\"[p=0.02, l=10.31]', '\" software\"[p=0.01, l=10.12]', '\" lawyer\"[p=0.01, l=10.00]', '\"???\"[p=0.01, l=9.88]', '\" entrepreneur\"[p=0.01, l=9.88]', '\" programmer\"[p=0.01, l=9.81]', '\" teacher\"[p=0.01, l=9.75]']\n",
      "token_idx=26 [\"ana\"] => ['\" singer\"[p=0.64, l=15.56]', '\" pop\"[p=0.05, l=12.94]', '\" musician\"[p=0.04, l=12.69]', '\"?\\n\"[p=0.02, l=12.06]', '\" actress\"[p=0.01, l=11.75]', '\" unknown\"[p=0.01, l=11.62]', '\" artist\"[p=0.01, l=11.56]', '\" Singer\"[p=0.01, l=11.31]', '\"?\"[p=0.01, l=11.19]', '\" no\"[p=0.01, l=11.06]', '\"??\"[p=0.01, l=10.94]', '\" celebrity\"[p=0.01, l=10.88]', '\" model\"[p=0.00, l=10.69]', '\" (\"[p=0.00, l=10.62]', '\" teacher\"[p=0.00, l=10.56]']\n",
      "token_idx=27 [\" Grande\"] => ['\" singer\"[p=0.91, l=19.00]', '\" musician\"[p=0.03, l=15.56]', '\" pop\"[p=0.01, l=14.62]', '\" actress\"[p=0.01, l=14.00]', '\" Singer\"[p=0.01, l=13.81]', '\" artist\"[p=0.00, l=13.12]', '\" music\"[p=0.00, l=12.69]', '\" \"[p=0.00, l=12.44]', '\" lawyer\"[p=0.00, l=12.25]', '\"?\\n\"[p=0.00, l=12.06]', '\" songwriter\"[p=0.00, l=12.06]', '\" actor\"[p=0.00, l=12.06]', '\" vocalist\"[p=0.00, l=11.94]', '\" model\"[p=0.00, l=11.88]', '\" (\"[p=0.00, l=11.81]']\n",
      "\n",
      "\" Joe Scarborough\" | cur_rng=(29, 31)\n",
      "token_idx=29 [\" Joe\"] => ['\" unknown\"[p=0.06, l=12.25]', '\"?\\n\"[p=0.05, l=12.12]', '\"??\"[p=0.03, l=11.56]', '\"?\"[p=0.03, l=11.56]', '\"???\"[p=0.03, l=11.44]', '\" programmer\"[p=0.02, l=11.06]', '\" farmer\"[p=0.02, l=10.94]', '\" politician\"[p=0.01, l=10.81]', '\" no\"[p=0.01, l=10.75]', '\" actor\"[p=0.01, l=10.75]', '\" engineer\"[p=0.01, l=10.75]', '\" software\"[p=0.01, l=10.62]', '\" plumber\"[p=0.01, l=10.62]', '\" (\"[p=0.01, l=10.62]', '\" police\"[p=0.01, l=10.50]']\n",
      "token_idx=30 [\" Scarborough\"] => ['\" journalist\"[p=0.32, l=17.75]', '\" television\"[p=0.15, l=17.00]', '\" TV\"[p=0.15, l=17.00]', '\" politician\"[p=0.08, l=16.38]', '\" news\"[p=0.07, l=16.25]', '\" political\"[p=0.06, l=16.00]', '\" tv\"[p=0.03, l=15.31]', '\" media\"[p=0.01, l=14.56]', '\" talk\"[p=0.01, l=14.44]', '\" lawyer\"[p=0.01, l=13.88]', '\" Journal\"[p=0.00, l=13.56]', '\" (\"[p=0.00, l=13.50]', '\"?\\n\"[p=0.00, l=13.38]', '\" host\"[p=0.00, l=13.31]', '\"?\"[p=0.00, l=13.25]']\n",
      "\n",
      "\" Andrey Rublev\" | cur_rng=(32, 36)\n",
      "token_idx=32 [\" And\"] => ['\"?\\n\"[p=0.14, l=11.94]', '\"?\"[p=0.06, l=11.12]', '\"?\\n\\n\"[p=0.06, l=11.06]', '\"??\"[p=0.05, l=10.88]', '\" And\"[p=0.03, l=10.31]', '\" \\n\"[p=0.02, l=10.19]', '\"...\"[p=0.02, l=10.06]', '\"???\"[p=0.02, l=9.94]', '\" (\"[p=0.02, l=9.94]', '\" and\"[p=0.02, l=9.88]', '\" lawyer\"[p=0.01, l=9.69]', '\" what\"[p=0.01, l=9.31]', '\" \"[p=0.01, l=9.19]', '\" so\"[p=0.01, l=9.06]', '\"\\n\\n\"[p=0.01, l=9.06]']\n",
      "token_idx=33 [\"rey\"] => ['\"?\\n\"[p=0.15, l=12.81]', '\" programmer\"[p=0.06, l=11.94]', '\"?\\n\\n\"[p=0.05, l=11.81]', '\"?\"[p=0.05, l=11.75]', '\"??\"[p=0.04, l=11.56]', '\" unknown\"[p=0.04, l=11.50]', '\" software\"[p=0.03, l=11.06]', '\"???\"[p=0.03, l=11.06]', '\" entrepreneur\"[p=0.02, l=10.69]', '\" engineer\"[p=0.02, l=10.62]', '\" artist\"[p=0.01, l=10.44]', '\" student\"[p=0.01, l=10.25]', '\" astronaut\"[p=0.01, l=10.12]', '\" what\"[p=0.01, l=10.00]', '\" computer\"[p=0.01, l=9.94]']\n",
      "token_idx=34 [\" Rub\"] => ['\"?\\n\"[p=0.06, l=11.00]', '\" artist\"[p=0.06, l=11.00]', '\"??\"[p=0.04, l=10.50]', '\"?\"[p=0.03, l=10.12]', '\" unknown\"[p=0.02, l=9.94]', '\"???\"[p=0.02, l=9.88]', '\" painter\"[p=0.02, l=9.69]', '\"?\\n\\n\"[p=0.01, l=9.50]', '\" chess\"[p=0.01, l=9.44]', '\" musician\"[p=0.01, l=9.44]', '\" programmer\"[p=0.01, l=9.25]', '\" (\"[p=0.01, l=9.19]', '\" tennis\"[p=0.01, l=9.12]', '\" what\"[p=0.01, l=9.12]', '\" architect\"[p=0.01, l=9.06]']\n",
      "token_idx=35 [\"lev\"] => ['\" tennis\"[p=0.46, l=16.38]', '\"?\\n\"[p=0.15, l=15.25]', '\"?\\n\\n\"[p=0.07, l=14.44]', '\"?\"[p=0.05, l=14.25]', '\"??\"[p=0.05, l=14.06]', '\"???\"[p=0.02, l=13.06]', '\" \\n\"[p=0.01, l=12.94]', '\" what\"[p=0.01, l=12.69]', '\" professional\"[p=0.01, l=12.44]', '\" athlete\"[p=0.01, l=12.44]', '\" musician\"[p=0.01, l=12.38]', '\" unknown\"[p=0.01, l=12.31]', '\" politician\"[p=0.01, l=12.31]', '\" (\"[p=0.01, l=12.25]', '\" \"[p=0.01, l=12.25]']\n",
      "\n",
      "\" Samuel L. Jackson\" | cur_rng=(37, 41)\n",
      "token_idx=37 [\" Samuel\"] => ['\" prophet\"[p=0.39, l=14.56]', '\" unknown\"[p=0.05, l=12.50]', '\"?\\n\"[p=0.04, l=12.38]', '\"??\"[p=0.03, l=11.81]', '\" judge\"[p=0.02, l=11.69]', '\" actor\"[p=0.02, l=11.38]', '\" no\"[p=0.02, l=11.31]', '\"?\"[p=0.02, l=11.31]', '\"???\"[p=0.01, l=11.25]', '\" biblical\"[p=0.01, l=11.00]', '\" Prophet\"[p=0.01, l=11.00]', '\" not\"[p=0.01, l=10.69]', '\" (\"[p=0.01, l=10.69]', '\" philosopher\"[p=0.01, l=10.44]', '\" I\"[p=0.01, l=10.38]']\n",
      "token_idx=38 [\" L\"] => ['\"?\\n\"[p=0.07, l=11.12]', '\" unknown\"[p=0.06, l=11.00]', '\"??\"[p=0.05, l=10.75]', '\"?\"[p=0.03, l=10.31]', '\"?\\n\\n\"[p=0.03, l=10.12]', '\"???\"[p=0.02, l=9.88]', '\" singer\"[p=0.02, l=9.88]', '\" L\"[p=0.02, l=9.81]', '\" no\"[p=0.02, l=9.75]', '\" lawyer\"[p=0.02, l=9.62]', '\" not\"[p=0.02, l=9.62]', '\" programmer\"[p=0.01, l=9.56]', '\" (\"[p=0.01, l=9.50]', '\" artist\"[p=0.01, l=9.50]', '\" musician\"[p=0.01, l=9.38]']\n",
      "token_idx=39 [\".\"] => ['\"?\\n\"[p=0.07, l=11.62]', '\"??\"[p=0.05, l=11.31]', '\" actor\"[p=0.05, l=11.19]', '\" politician\"[p=0.04, l=11.00]', '\"?\"[p=0.04, l=11.00]', '\" lawyer\"[p=0.04, l=11.00]', '\"?\\n\\n\"[p=0.03, l=10.88]', '\" unknown\"[p=0.03, l=10.81]', '\"???\"[p=0.02, l=10.31]', '\" singer\"[p=0.02, l=10.19]', '\" what\"[p=0.02, l=10.12]', '\" musician\"[p=0.02, l=10.06]', '\" (\"[p=0.01, l=10.00]', '\" Jackson\"[p=0.01, l=9.81]', '\" not\"[p=0.01, l=9.81]']\n",
      "token_idx=40 [\" Jackson\"] => ['\" actor\"[p=0.83, l=16.00]', '\" singer\"[p=0.01, l=11.06]', '\" politician\"[p=0.01, l=11.06]', '\" Actor\"[p=0.00, l=10.81]', '\" (\"[p=0.00, l=10.62]', '\"?\\n\"[p=0.00, l=10.62]', '\" rapper\"[p=0.00, l=10.44]', '\" unknown\"[p=0.00, l=10.44]', '\" movie\"[p=0.00, l=10.31]', '\" artist\"[p=0.00, l=10.31]', '\" musician\"[p=0.00, l=10.31]', '\" painter\"[p=0.00, l=10.31]', '\"??\"[p=0.00, l=10.19]', '\" no\"[p=0.00, l=10.19]', '\" \"[p=0.00, l=10.12]']\n",
      "======================================================================================================================================================\n",
      "\n",
      "layer='model.layers.36'\n",
      "\n",
      "\"Ans:\" | cur_rng=(-2, 0)\n",
      "token_idx=-2 [\"Ans\"] => ['\"?\\n\"[p=0.04, l=10.38]', '\" Ans\"[p=0.03, l=10.06]', '\" unknown\"[p=0.03, l=9.81]', '\" artist\"[p=0.03, l=9.81]', '\"??\"[p=0.02, l=9.56]', '\" programmer\"[p=0.02, l=9.44]', '\" student\"[p=0.02, l=9.31]', '\"?\\n\\n\"[p=0.01, l=9.25]', '\" politician\"[p=0.01, l=9.19]', '\" software\"[p=0.01, l=9.19]', '\" entrepreneur\"[p=0.01, l=9.19]', '\" person\"[p=0.01, l=9.06]', '\" scientist\"[p=0.01, l=9.06]', '\" \\n\"[p=0.01, l=9.06]', '\" astronaut\"[p=0.01, l=8.94]']\n",
      "token_idx=-1 [\":\"] => ['\"?\\n\"[p=0.21, l=12.88]', '\"?\\n\\n\"[p=0.11, l=12.25]', '\"?\"[p=0.06, l=11.56]', '\" \\n\"[p=0.04, l=11.31]', '\" ->\"[p=0.03, l=11.06]', '\"??\"[p=0.02, l=10.44]', '\" (\"[p=0.02, l=10.38]', '\" \"[p=0.02, l=10.25]', '\"\\n\\n\"[p=0.01, l=10.19]', '\" lawyer\"[p=0.01, l=10.12]', '\" \\n\\n\"[p=0.01, l=9.75]', '\" profession\"[p=0.01, l=9.75]', '\" ->\\n\"[p=0.01, l=9.69]', '\" software\"[p=0.01, l=9.69]', '\" artist\"[p=0.01, l=9.56]']\n",
      "\n",
      "\" Trevor Noah\" | cur_rng=(13, 15)\n",
      "token_idx=13 [\" Trevor\"] => ['\"?\\n\"[p=0.11, l=12.62]', '\"??\"[p=0.06, l=12.06]', '\"?\"[p=0.05, l=11.88]', '\" unknown\"[p=0.04, l=11.69]', '\"?\\n\\n\"[p=0.04, l=11.62]', '\"???\"[p=0.04, l=11.62]', '\" software\"[p=0.03, l=11.19]', '\" actor\"[p=0.02, l=11.06]', '\" programmer\"[p=0.02, l=10.81]', '\" entrepreneur\"[p=0.02, l=10.69]', '\" musician\"[p=0.01, l=10.50]', '\" politician\"[p=0.01, l=10.38]', '\" (\"[p=0.01, l=10.31]', '\" engineer\"[p=0.01, l=10.31]', '\" no\"[p=0.01, l=10.12]']\n",
      "token_idx=14 [\" Noah\"] => ['\" comedian\"[p=0.91, l=19.25]', '\" stand\"[p=0.01, l=14.44]', '\" Com\"[p=0.01, l=14.38]', '\"?\\n\"[p=0.01, l=14.31]', '\" actor\"[p=0.01, l=14.25]', '\" (\"[p=0.00, l=13.75]', '\"??\"[p=0.00, l=13.75]', '\" political\"[p=0.00, l=13.56]', '\" TV\"[p=0.00, l=13.56]', '\" politician\"[p=0.00, l=13.44]', '\"?\"[p=0.00, l=13.38]', '\"?\\n\\n\"[p=0.00, l=13.12]', '\"???\"[p=0.00, l=13.06]', '\" \"[p=0.00, l=13.00]', '\" \\n\"[p=0.00, l=12.94]']\n",
      "\n",
      "\" Zion Williamson\" | cur_rng=(18, 20)\n",
      "token_idx=18 [\" Zion\"] => ['\"?\\n\"[p=0.06, l=12.00]', '\" singer\"[p=0.06, l=12.00]', '\" unknown\"[p=0.06, l=11.88]', '\" musician\"[p=0.05, l=11.81]', '\"??\"[p=0.04, l=11.50]', '\" prophet\"[p=0.03, l=11.25]', '\" football\"[p=0.03, l=11.19]', '\" rapper\"[p=0.03, l=11.12]', '\" no\"[p=0.03, l=11.12]', '\"?\"[p=0.02, l=10.69]', '\" actor\"[p=0.02, l=10.56]', '\" (\"[p=0.02, l=10.56]', '\" artist\"[p=0.02, l=10.56]', '\"???\"[p=0.01, l=10.50]', '\" basketball\"[p=0.01, l=10.44]']\n",
      "token_idx=19 [\" Williamson\"] => ['\" basketball\"[p=0.81, l=16.88]', '\" football\"[p=0.01, l=12.88]', '\"?\\n\"[p=0.01, l=12.44]', '\" NBA\"[p=0.01, l=12.31]', '\"??\"[p=0.01, l=12.31]', '\" unknown\"[p=0.01, l=12.25]', '\" professional\"[p=0.01, l=12.25]', '\" Basketball\"[p=0.01, l=12.19]', '\" college\"[p=0.01, l=12.19]', '\" athlete\"[p=0.01, l=12.00]', '\" (\"[p=0.01, l=11.94]', '\"?\"[p=0.00, l=11.56]', '\" \\n\"[p=0.00, l=11.50]', '\" politician\"[p=0.00, l=11.44]', '\"???\"[p=0.00, l=11.31]']\n",
      "\n",
      "\" John Mulaney\" | cur_rng=(21, 24)\n",
      "token_idx=21 [\" John\"] => ['\" unknown\"[p=0.09, l=12.94]', '\"?\\n\"[p=0.06, l=12.44]', '\" programmer\"[p=0.03, l=11.75]', '\"?\"[p=0.03, l=11.75]', '\" pastor\"[p=0.02, l=11.62]', '\"??\"[p=0.02, l=11.56]', '\"???\"[p=0.02, l=11.50]', '\" lawyer\"[p=0.02, l=11.50]', '\" no\"[p=0.02, l=11.50]', '\" actor\"[p=0.02, l=11.44]', '\" software\"[p=0.02, l=11.38]', '\" farmer\"[p=0.02, l=11.25]', '\" politician\"[p=0.02, l=11.25]', '\" teacher\"[p=0.02, l=11.19]', '\" (\"[p=0.01, l=11.12]']\n",
      "token_idx=22 [\" Mul\"] => ['\" farmer\"[p=0.03, l=10.56]', '\" actor\"[p=0.02, l=10.31]', '\" unknown\"[p=0.02, l=10.12]', '\" musician\"[p=0.02, l=9.94]', '\" singer\"[p=0.01, l=9.62]', '\"??\"[p=0.01, l=9.56]', '\" cartoon\"[p=0.01, l=9.56]', '\"???\"[p=0.01, l=9.56]', '\" veterinarian\"[p=0.01, l=9.44]', '\"?\\n\"[p=0.01, l=9.44]', '\" software\"[p=0.01, l=9.31]', '\" (\"[p=0.01, l=9.31]', '\" artist\"[p=0.01, l=9.25]', '\" \\n\"[p=0.01, l=9.25]', '\" horse\"[p=0.01, l=9.25]']\n",
      "token_idx=23 [\"aney\"] => ['\" comedian\"[p=0.80, l=18.00]', '\"?\\n\"[p=0.04, l=15.06]', '\"??\"[p=0.02, l=14.25]', '\" stand\"[p=0.02, l=14.25]', '\"?\\n\\n\"[p=0.01, l=13.94]', '\"?\"[p=0.01, l=13.75]', '\"???\"[p=0.01, l=13.31]', '\" actor\"[p=0.01, l=13.31]', '\" (\"[p=0.01, l=13.12]', '\" unknown\"[p=0.01, l=13.12]', '\" Com\"[p=0.01, l=13.12]', '\" \"[p=0.00, l=12.56]', '\" comic\"[p=0.00, l=12.44]', '\" \\n\"[p=0.00, l=12.44]', '\" what\"[p=0.00, l=12.06]']\n",
      "\n",
      "\" Ariana Grande\" | cur_rng=(25, 28)\n",
      "token_idx=25 [\" Ari\"] => ['\"?\\n\"[p=0.09, l=11.94]', '\" singer\"[p=0.04, l=11.12]', '\" unknown\"[p=0.03, l=10.88]', '\"?\"[p=0.03, l=10.88]', '\" artist\"[p=0.03, l=10.81]', '\"??\"[p=0.02, l=10.56]', '\" student\"[p=0.02, l=10.50]', '\"?\\n\\n\"[p=0.02, l=10.19]', '\" musician\"[p=0.02, l=10.12]', '\" software\"[p=0.02, l=10.12]', '\"???\"[p=0.01, l=10.06]', '\" lawyer\"[p=0.01, l=9.88]', '\" programmer\"[p=0.01, l=9.88]', '\" actor\"[p=0.01, l=9.88]', '\" entrepreneur\"[p=0.01, l=9.75]']\n",
      "token_idx=26 [\"ana\"] => ['\" singer\"[p=0.53, l=14.88]', '\" pop\"[p=0.05, l=12.50]', '\"?\\n\"[p=0.04, l=12.38]', '\" musician\"[p=0.02, l=11.75]', '\" unknown\"[p=0.02, l=11.75]', '\" actress\"[p=0.02, l=11.38]', '\"?\"[p=0.02, l=11.31]', '\" artist\"[p=0.01, l=11.06]', '\" no\"[p=0.01, l=11.00]', '\"??\"[p=0.01, l=10.88]', '\" model\"[p=0.01, l=10.81]', '\" Singer\"[p=0.01, l=10.56]', '\" celebrity\"[p=0.01, l=10.38]', '\" teacher\"[p=0.01, l=10.38]', '\" (\"[p=0.01, l=10.31]']\n",
      "token_idx=27 [\" Grande\"] => ['\" singer\"[p=0.91, l=18.38]', '\" musician\"[p=0.02, l=14.62]', '\" pop\"[p=0.01, l=14.00]', '\" actress\"[p=0.01, l=13.50]', '\" Singer\"[p=0.01, l=13.38]', '\"?\\n\"[p=0.00, l=12.50]', '\" opera\"[p=0.00, l=12.38]', '\" artist\"[p=0.00, l=12.25]', '\" music\"[p=0.00, l=12.19]', '\" \"[p=0.00, l=12.06]', '\"?\"[p=0.00, l=11.88]', '\" \\n\"[p=0.00, l=11.75]', '\"??\"[p=0.00, l=11.69]', '\" unknown\"[p=0.00, l=11.62]', '\" songwriter\"[p=0.00, l=11.50]']\n",
      "\n",
      "\" Joe Scarborough\" | cur_rng=(29, 31)\n",
      "token_idx=29 [\" Joe\"] => ['\"?\\n\"[p=0.09, l=12.69]', '\" unknown\"[p=0.07, l=12.38]', '\"??\"[p=0.05, l=12.06]', '\"?\"[p=0.05, l=12.06]', '\"???\"[p=0.04, l=11.81]', '\" programmer\"[p=0.02, l=11.25]', '\"?\\n\\n\"[p=0.02, l=11.19]', '\" engineer\"[p=0.02, l=10.94]', '\" politician\"[p=0.01, l=10.81]', '\" farmer\"[p=0.01, l=10.81]', '\" no\"[p=0.01, l=10.75]', '\" software\"[p=0.01, l=10.69]', '\" (\"[p=0.01, l=10.69]', '\" teacher\"[p=0.01, l=10.56]', '\" student\"[p=0.01, l=10.56]']\n",
      "token_idx=30 [\" Scarborough\"] => ['\" journalist\"[p=0.38, l=17.62]', '\" TV\"[p=0.14, l=16.62]', '\" television\"[p=0.11, l=16.38]', '\" news\"[p=0.08, l=16.00]', '\" politician\"[p=0.07, l=15.94]', '\" political\"[p=0.06, l=15.75]', '\" tv\"[p=0.02, l=14.88]', '\" media\"[p=0.01, l=14.25]', '\" talk\"[p=0.01, l=14.12]', '\"?\\n\"[p=0.01, l=13.50]', '\" Journal\"[p=0.01, l=13.50]', '\"??\"[p=0.01, l=13.44]', '\" lawyer\"[p=0.01, l=13.44]', '\" (\"[p=0.01, l=13.38]', '\"?\"[p=0.00, l=13.25]']\n",
      "\n",
      "\" Andrey Rublev\" | cur_rng=(32, 36)\n",
      "token_idx=32 [\" And\"] => ['\"?\\n\"[p=0.06, l=11.06]', '\" And\"[p=0.04, l=10.62]', '\" and\"[p=0.04, l=10.62]', '\"?\"[p=0.03, l=10.38]', '\"?\\n\\n\"[p=0.03, l=10.31]', '\" \\n\"[p=0.03, l=10.31]', '\"...\"[p=0.03, l=10.25]', '\" so\"[p=0.02, l=10.00]', '\"??\"[p=0.02, l=9.94]', '\"...\\n\\n\"[p=0.02, l=9.88]', '\"...\\n\"[p=0.02, l=9.81]', '\" (\"[p=0.02, l=9.75]', '\" lawyer\"[p=0.01, l=9.50]', '\"\\n\\n\"[p=0.01, l=9.25]', '\" a\"[p=0.01, l=9.19]']\n",
      "token_idx=33 [\"rey\"] => ['\"?\\n\"[p=0.14, l=12.75]', '\" programmer\"[p=0.06, l=11.94]', '\"?\\n\\n\"[p=0.05, l=11.69]', '\"?\"[p=0.05, l=11.69]', '\"??\"[p=0.04, l=11.44]', '\" unknown\"[p=0.04, l=11.44]', '\" software\"[p=0.02, l=10.94]', '\"???\"[p=0.02, l=10.94]', '\" engineer\"[p=0.02, l=10.75]', '\" entrepreneur\"[p=0.02, l=10.56]', '\" artist\"[p=0.01, l=10.38]', '\" student\"[p=0.01, l=10.38]', '\" astronaut\"[p=0.01, l=10.25]', '\" mathematic\"[p=0.01, l=10.12]', '\" what\"[p=0.01, l=9.94]']\n",
      "token_idx=34 [\" Rub\"] => ['\"?\\n\"[p=0.09, l=11.38]', '\"??\"[p=0.05, l=10.88]', '\" artist\"[p=0.04, l=10.56]', '\"?\"[p=0.03, l=10.44]', '\"???\"[p=0.02, l=10.12]', '\"?\\n\\n\"[p=0.02, l=10.06]', '\" unknown\"[p=0.02, l=9.81]', '\" tennis\"[p=0.02, l=9.75]', '\" chess\"[p=0.02, l=9.69]', '\" programmer\"[p=0.01, l=9.62]', '\" musician\"[p=0.01, l=9.62]', '\" what\"[p=0.01, l=9.44]', '\" politician\"[p=0.01, l=9.38]', '\" entrepreneur\"[p=0.01, l=9.25]', '\" (\"[p=0.01, l=9.19]']\n",
      "token_idx=35 [\"lev\"] => ['\" tennis\"[p=0.43, l=16.50]', '\"?\\n\"[p=0.18, l=15.62]', '\"?\\n\\n\"[p=0.08, l=14.81]', '\"?\"[p=0.07, l=14.62]', '\"??\"[p=0.05, l=14.25]', '\"???\"[p=0.02, l=13.19]', '\" \\n\"[p=0.01, l=13.12]', '\" \"[p=0.01, l=12.56]', '\" what\"[p=0.01, l=12.50]', '\" (\"[p=0.01, l=12.50]', '\" unknown\"[p=0.01, l=12.50]', '\" athlete\"[p=0.01, l=12.38]', '\" professional\"[p=0.01, l=12.19]', '\" politician\"[p=0.00, l=11.94]', '\" musician\"[p=0.00, l=11.88]']\n",
      "\n",
      "\" Samuel L. Jackson\" | cur_rng=(37, 41)\n",
      "token_idx=37 [\" Samuel\"] => ['\" prophet\"[p=0.48, l=15.00]', '\" judge\"[p=0.06, l=12.94]', '\" unknown\"[p=0.02, l=11.94]', '\" biblical\"[p=0.02, l=11.88]', '\"?\\n\"[p=0.01, l=11.44]', '\" Prophet\"[p=0.01, l=11.31]', '\" actor\"[p=0.01, l=11.19]', '\" king\"[p=0.01, l=11.19]', '\" politician\"[p=0.01, l=11.00]', '\"??\"[p=0.01, l=11.00]', '\" (\"[p=0.01, l=10.69]', '\"?\"[p=0.01, l=10.50]', '\" leader\"[p=0.01, l=10.44]', '\" no\"[p=0.01, l=10.44]', '\" Judge\"[p=0.01, l=10.44]']\n",
      "token_idx=38 [\" L\"] => ['\" unknown\"[p=0.06, l=11.00]', '\"?\\n\"[p=0.06, l=11.00]', '\"??\"[p=0.05, l=10.75]', '\"?\"[p=0.04, l=10.50]', '\"???\"[p=0.02, l=10.06]', '\"?\\n\\n\"[p=0.02, l=10.00]', '\" no\"[p=0.02, l=9.94]', '\" lawyer\"[p=0.02, l=9.88]', '\" not\"[p=0.02, l=9.88]', '\" singer\"[p=0.02, l=9.75]', '\" artist\"[p=0.02, l=9.62]', '\" (\"[p=0.02, l=9.62]', '\" actor\"[p=0.01, l=9.50]', '\" musician\"[p=0.01, l=9.44]', '\" L\"[p=0.01, l=9.38]']\n",
      "token_idx=39 [\".\"] => ['\"?\\n\"[p=0.07, l=11.75]', '\" actor\"[p=0.06, l=11.56]', '\"??\"[p=0.05, l=11.50]', '\" politician\"[p=0.04, l=11.12]', '\" lawyer\"[p=0.04, l=11.12]', '\"?\"[p=0.03, l=11.06]', '\" unknown\"[p=0.03, l=10.81]', '\"?\\n\\n\"[p=0.03, l=10.81]', '\"???\"[p=0.02, l=10.56]', '\" Jackson\"[p=0.02, l=10.56]', '\" singer\"[p=0.02, l=10.44]', '\" what\"[p=0.02, l=10.38]', '\" musician\"[p=0.02, l=10.38]', '\" (\"[p=0.01, l=10.12]', '\" astronaut\"[p=0.01, l=10.00]']\n",
      "token_idx=40 [\" Jackson\"] => ['\" actor\"[p=0.84, l=16.00]', '\" politician\"[p=0.01, l=11.19]', '\" singer\"[p=0.01, l=11.06]', '\"?\\n\"[p=0.01, l=11.00]', '\" unknown\"[p=0.00, l=10.81]', '\"??\"[p=0.00, l=10.69]', '\" Actor\"[p=0.00, l=10.69]', '\"?\"[p=0.00, l=10.50]', '\" (\"[p=0.00, l=10.50]', '\" movie\"[p=0.00, l=10.38]', '\" no\"[p=0.00, l=10.31]', '\" lawyer\"[p=0.00, l=10.12]', '\"???\"[p=0.00, l=10.06]', '\" musician\"[p=0.00, l=10.06]', '\" not\"[p=0.00, l=10.00]']\n",
      "======================================================================================================================================================\n",
      "\n",
      "layer='model.layers.39'\n",
      "\n",
      "\"Ans:\" | cur_rng=(-2, 0)\n",
      "token_idx=-2 [\"Ans\"] => ['\"?\\n\"[p=0.05, l=10.81]', '\" Ans\"[p=0.05, l=10.69]', '\" unknown\"[p=0.03, l=10.38]', '\" artist\"[p=0.02, l=10.06]', '\"??\"[p=0.02, l=10.00]', '\" programmer\"[p=0.02, l=9.94]', '\" student\"[p=0.02, l=9.75]', '\"?\\n\\n\"[p=0.02, l=9.69]', '\" politician\"[p=0.02, l=9.62]', '\" software\"[p=0.01, l=9.56]', '\" \\n\"[p=0.01, l=9.50]', '\" scientist\"[p=0.01, l=9.44]', '\"???\"[p=0.01, l=9.31]', '\" computer\"[p=0.01, l=9.25]', '\" person\"[p=0.01, l=9.25]']\n",
      "token_idx=-1 [\":\"] => ['\"?\\n\"[p=0.29, l=13.94]', '\"?\\n\\n\"[p=0.17, l=13.38]', '\"?\"[p=0.06, l=12.38]', '\" \\n\"[p=0.04, l=12.00]', '\" ->\"[p=0.02, l=11.19]', '\"\\n\\n\"[p=0.02, l=11.06]', '\"??\"[p=0.02, l=11.00]', '\" lawyer\"[p=0.01, l=10.81]', '\" (\"[p=0.01, l=10.75]', '\" \\n\\n\"[p=0.01, l=10.62]', '\" \"[p=0.01, l=10.44]', '\" software\"[p=0.01, l=10.38]', '\" profession\"[p=0.01, l=10.19]', '\" computer\"[p=0.01, l=10.19]', '\" entrepreneur\"[p=0.01, l=10.00]']\n",
      "\n",
      "\" Trevor Noah\" | cur_rng=(13, 15)\n",
      "token_idx=13 [\" Trevor\"] => ['\"?\\n\"[p=0.10, l=12.50]', '\"??\"[p=0.05, l=11.94]', '\"?\"[p=0.05, l=11.88]', '\" unknown\"[p=0.04, l=11.69]', '\" actor\"[p=0.04, l=11.50]', '\"???\"[p=0.04, l=11.50]', '\"?\\n\\n\"[p=0.03, l=11.44]', '\" software\"[p=0.03, l=11.19]', '\" programmer\"[p=0.02, l=10.81]', '\" musician\"[p=0.02, l=10.69]', '\" entrepreneur\"[p=0.01, l=10.62]', '\" football\"[p=0.01, l=10.56]', '\" politician\"[p=0.01, l=10.44]', '\" singer\"[p=0.01, l=10.38]', '\" (\"[p=0.01, l=10.38]']\n",
      "token_idx=14 [\" Noah\"] => ['\" comedian\"[p=0.91, l=19.25]', '\" stand\"[p=0.01, l=14.44]', '\" Com\"[p=0.01, l=14.31]', '\"?\\n\"[p=0.01, l=14.25]', '\" actor\"[p=0.01, l=14.06]', '\" (\"[p=0.00, l=13.81]', '\"??\"[p=0.00, l=13.69]', '\" TV\"[p=0.00, l=13.69]', '\" political\"[p=0.00, l=13.38]', '\"?\"[p=0.00, l=13.31]', '\" \"[p=0.00, l=13.12]', '\" \\n\"[p=0.00, l=13.06]', '\" politician\"[p=0.00, l=13.06]', '\"?\\n\\n\"[p=0.00, l=13.00]', '\" talk\"[p=0.00, l=13.00]']\n",
      "\n",
      "\" Zion Williamson\" | cur_rng=(18, 20)\n",
      "token_idx=18 [\" Zion\"] => ['\" unknown\"[p=0.06, l=12.06]', '\" singer\"[p=0.06, l=12.06]', '\" musician\"[p=0.06, l=12.00]', '\"?\\n\"[p=0.06, l=11.94]', '\" prophet\"[p=0.05, l=11.75]', '\"??\"[p=0.04, l=11.69]', '\" rapper\"[p=0.02, l=11.12]', '\" football\"[p=0.02, l=11.12]', '\" no\"[p=0.02, l=11.00]', '\"???\"[p=0.02, l=10.81]', '\"?\"[p=0.02, l=10.75]', '\" actor\"[p=0.02, l=10.62]', '\" politician\"[p=0.01, l=10.50]', '\" (\"[p=0.01, l=10.50]', '\" basketball\"[p=0.01, l=10.38]']\n",
      "token_idx=19 [\" Williamson\"] => ['\" basketball\"[p=0.79, l=16.75]', '\"?\\n\"[p=0.01, l=12.69]', '\" football\"[p=0.01, l=12.69]', '\"??\"[p=0.01, l=12.56]', '\" unknown\"[p=0.01, l=12.25]', '\" Basketball\"[p=0.01, l=12.25]', '\" NBA\"[p=0.01, l=12.12]', '\" college\"[p=0.01, l=12.12]', '\" professional\"[p=0.01, l=12.00]', '\"?\"[p=0.01, l=11.94]', '\" (\"[p=0.01, l=11.88]', '\" athlete\"[p=0.01, l=11.81]', '\" politician\"[p=0.01, l=11.75]', '\" \\n\"[p=0.00, l=11.69]', '\"???\"[p=0.00, l=11.50]']\n",
      "\n",
      "\" John Mulaney\" | cur_rng=(21, 24)\n",
      "token_idx=21 [\" John\"] => ['\" unknown\"[p=0.09, l=12.94]', '\"?\\n\"[p=0.04, l=12.19]', '\" actor\"[p=0.03, l=11.75]', '\" pastor\"[p=0.02, l=11.62]', '\" programmer\"[p=0.02, l=11.62]', '\"?\"[p=0.02, l=11.56]', '\"??\"[p=0.02, l=11.44]', '\" politician\"[p=0.02, l=11.44]', '\" lawyer\"[p=0.02, l=11.44]', '\" no\"[p=0.02, l=11.38]', '\"???\"[p=0.02, l=11.31]', '\" software\"[p=0.02, l=11.31]', '\" doctor\"[p=0.01, l=11.12]', '\" (\"[p=0.01, l=11.12]', '\" farmer\"[p=0.01, l=11.12]']\n",
      "token_idx=22 [\" Mul\"] => ['\" actor\"[p=0.03, l=10.19]', '\" unknown\"[p=0.03, l=10.19]', '\" farmer\"[p=0.02, l=9.94]', '\" musician\"[p=0.02, l=9.69]', '\"?\\n\"[p=0.02, l=9.62]', '\"??\"[p=0.02, l=9.56]', '\" singer\"[p=0.01, l=9.44]', '\"???\"[p=0.01, l=9.38]', '\" no\"[p=0.01, l=9.38]', '\" politician\"[p=0.01, l=9.31]', '\" (\"[p=0.01, l=9.25]', '\" artist\"[p=0.01, l=9.19]', '\" \\n\"[p=0.01, l=9.12]', '\" horse\"[p=0.01, l=9.12]', '\"?\"[p=0.01, l=9.06]']\n",
      "token_idx=23 [\"aney\"] => ['\" comedian\"[p=0.73, l=17.75]', '\"?\\n\"[p=0.07, l=15.44]', '\"??\"[p=0.03, l=14.38]', '\"?\\n\\n\"[p=0.03, l=14.38]', '\"?\"[p=0.02, l=14.00]', '\" stand\"[p=0.02, l=13.88]', '\"???\"[p=0.01, l=13.44]', '\" unknown\"[p=0.01, l=13.25]', '\" (\"[p=0.01, l=13.06]', '\" actor\"[p=0.01, l=13.06]', '\" Com\"[p=0.00, l=12.75]', '\" \\n\"[p=0.00, l=12.69]', '\" \"[p=0.00, l=12.56]', '\" comic\"[p=0.00, l=12.31]', '\" what\"[p=0.00, l=11.88]']\n",
      "\n",
      "\" Ariana Grande\" | cur_rng=(25, 28)\n",
      "token_idx=25 [\" Ari\"] => ['\"?\\n\"[p=0.10, l=11.94]', '\" singer\"[p=0.05, l=11.25]', '\"?\"[p=0.04, l=11.06]', '\" unknown\"[p=0.04, l=10.94]', '\"??\"[p=0.03, l=10.81]', '\" artist\"[p=0.03, l=10.62]', '\"?\\n\\n\"[p=0.02, l=10.31]', '\"???\"[p=0.02, l=10.25]', '\" student\"[p=0.02, l=10.06]', '\" musician\"[p=0.01, l=9.94]', '\" software\"[p=0.01, l=9.75]', '\" lawyer\"[p=0.01, l=9.75]', '\" actress\"[p=0.01, l=9.56]', '\" teacher\"[p=0.01, l=9.56]', '\" politician\"[p=0.01, l=9.56]']\n",
      "token_idx=26 [\"ana\"] => ['\" singer\"[p=0.43, l=14.31]', '\"?\\n\"[p=0.06, l=12.38]', '\" pop\"[p=0.05, l=12.12]', '\" unknown\"[p=0.04, l=11.88]', '\"?\"[p=0.02, l=11.38]', '\" musician\"[p=0.02, l=11.38]', '\" actress\"[p=0.01, l=10.94]', '\"??\"[p=0.01, l=10.88]', '\" no\"[p=0.01, l=10.88]', '\" model\"[p=0.01, l=10.81]', '\" artist\"[p=0.01, l=10.75]', '\"?\\n\\n\"[p=0.01, l=10.44]', '\" not\"[p=0.01, l=10.25]', '\"???\"[p=0.01, l=10.12]', '\" teacher\"[p=0.01, l=10.12]']\n",
      "token_idx=27 [\" Grande\"] => ['\" singer\"[p=0.89, l=18.00]', '\" musician\"[p=0.02, l=13.94]', '\" pop\"[p=0.01, l=13.88]', '\"?\\n\"[p=0.01, l=13.31]', '\" Singer\"[p=0.01, l=13.06]', '\" actress\"[p=0.00, l=12.75]', '\"?\"[p=0.00, l=12.56]', '\"??\"[p=0.00, l=12.31]', '\" \\n\"[p=0.00, l=12.25]', '\" unknown\"[p=0.00, l=12.12]', '\" artist\"[p=0.00, l=12.06]', '\" \"[p=0.00, l=12.00]', '\" music\"[p=0.00, l=11.94]', '\"?\\n\\n\"[p=0.00, l=11.88]', '\" (\"[p=0.00, l=11.56]']\n",
      "\n",
      "\" Joe Scarborough\" | cur_rng=(29, 31)\n",
      "token_idx=29 [\" Joe\"] => ['\"?\\n\"[p=0.08, l=12.62]', '\" unknown\"[p=0.06, l=12.31]', '\"?\"[p=0.05, l=12.12]', '\"??\"[p=0.05, l=12.00]', '\"???\"[p=0.04, l=11.81]', '\" programmer\"[p=0.02, l=11.31]', '\"?\\n\\n\"[p=0.02, l=11.12]', '\" engineer\"[p=0.02, l=11.00]', '\" farmer\"[p=0.01, l=10.88]', '\" politician\"[p=0.01, l=10.88]', '\" software\"[p=0.01, l=10.75]', '\" (\"[p=0.01, l=10.69]', '\" no\"[p=0.01, l=10.69]', '\" teacher\"[p=0.01, l=10.69]', '\" student\"[p=0.01, l=10.50]']\n",
      "token_idx=30 [\" Scarborough\"] => ['\" journalist\"[p=0.40, l=17.50]', '\" TV\"[p=0.13, l=16.38]', '\" television\"[p=0.09, l=16.00]', '\" news\"[p=0.09, l=16.00]', '\" politician\"[p=0.05, l=15.44]', '\" political\"[p=0.04, l=15.25]', '\" tv\"[p=0.02, l=14.56]', '\"?\\n\"[p=0.02, l=14.31]', '\"??\"[p=0.01, l=14.19]', '\"?\"[p=0.01, l=13.88]', '\" talk\"[p=0.01, l=13.75]', '\" media\"[p=0.01, l=13.62]', '\" (\"[p=0.01, l=13.44]', '\" Journal\"[p=0.01, l=13.25]', '\"?\\n\\n\"[p=0.00, l=13.06]']\n",
      "\n",
      "\" Andrey Rublev\" | cur_rng=(32, 36)\n",
      "token_idx=32 [\" And\"] => ['\" And\"[p=0.06, l=10.75]', '\" and\"[p=0.05, l=10.56]', '\"?\\n\"[p=0.04, l=10.38]', '\" \\n\"[p=0.03, l=10.06]', '\" so\"[p=0.03, l=10.00]', '\"...\"[p=0.02, l=9.94]', '\"?\"[p=0.02, l=9.81]', '\"?\\n\\n\"[p=0.02, l=9.62]', '\" (\"[p=0.02, l=9.62]', '\"...\\n\\n\"[p=0.02, l=9.62]', '\"??\"[p=0.01, l=9.44]', '\"...\\n\"[p=0.01, l=9.44]', '\" etc\"[p=0.01, l=9.25]', '\" lawyer\"[p=0.01, l=9.19]', '\" fill\"[p=0.01, l=9.19]']\n",
      "token_idx=33 [\"rey\"] => ['\"?\\n\"[p=0.10, l=12.38]', '\" programmer\"[p=0.09, l=12.31]', '\"?\"[p=0.04, l=11.44]', '\" unknown\"[p=0.03, l=11.25]', '\"?\\n\\n\"[p=0.03, l=11.25]', '\" software\"[p=0.03, l=11.19]', '\"??\"[p=0.03, l=11.12]', '\" engineer\"[p=0.02, l=10.81]', '\"???\"[p=0.02, l=10.69]', '\" mathematic\"[p=0.02, l=10.62]', '\" entrepreneur\"[p=0.02, l=10.62]', '\" astronaut\"[p=0.01, l=10.38]', '\" chess\"[p=0.01, l=10.25]', '\" tennis\"[p=0.01, l=10.19]', '\" artist\"[p=0.01, l=10.19]']\n",
      "token_idx=34 [\" Rub\"] => ['\"?\\n\"[p=0.06, l=11.06]', '\"??\"[p=0.05, l=10.81]', '\" artist\"[p=0.03, l=10.50]', '\" tennis\"[p=0.03, l=10.25]', '\"?\"[p=0.03, l=10.25]', '\" unknown\"[p=0.02, l=10.19]', '\"???\"[p=0.02, l=10.12]', '\" chess\"[p=0.02, l=10.12]', '\" programmer\"[p=0.02, l=9.75]', '\" musician\"[p=0.02, l=9.75]', '\"?\\n\\n\"[p=0.01, l=9.69]', '\" (\"[p=0.01, l=9.50]', '\" entrepreneur\"[p=0.01, l=9.50]', '\" politician\"[p=0.01, l=9.44]', '\" \\n\"[p=0.01, l=9.25]']\n",
      "token_idx=35 [\"lev\"] => ['\" tennis\"[p=0.42, l=16.00]', '\"?\\n\"[p=0.17, l=15.06]', '\"?\\n\\n\"[p=0.07, l=14.25]', '\"?\"[p=0.06, l=14.00]', '\"??\"[p=0.04, l=13.69]', '\" \\n\"[p=0.02, l=12.75]', '\"???\"[p=0.01, l=12.62]', '\" unknown\"[p=0.01, l=12.31]', '\" (\"[p=0.01, l=12.25]', '\" what\"[p=0.01, l=12.00]', '\" athlete\"[p=0.01, l=12.00]', '\" \"[p=0.01, l=12.00]', '\" professional\"[p=0.01, l=11.75]', '\" musician\"[p=0.00, l=11.44]', '\" politician\"[p=0.00, l=11.44]']\n",
      "\n",
      "\" Samuel L. Jackson\" | cur_rng=(37, 41)\n",
      "token_idx=37 [\" Samuel\"] => ['\" prophet\"[p=0.38, l=14.56]', '\" judge\"[p=0.05, l=12.62]', '\" unknown\"[p=0.03, l=11.88]', '\" actor\"[p=0.02, l=11.69]', '\" biblical\"[p=0.02, l=11.62]', '\"?\\n\"[p=0.02, l=11.38]', '\" Prophet\"[p=0.01, l=11.06]', '\"??\"[p=0.01, l=10.88]', '\" priest\"[p=0.01, l=10.81]', '\" politician\"[p=0.01, l=10.69]', '\" singer\"[p=0.01, l=10.62]', '\" no\"[p=0.01, l=10.56]', '\" philosopher\"[p=0.01, l=10.56]', '\" (\"[p=0.01, l=10.56]', '\" king\"[p=0.01, l=10.50]']\n",
      "token_idx=38 [\" L\"] => ['\" actor\"[p=0.30, l=13.75]', '\" Jackson\"[p=0.09, l=12.50]', '\" unknown\"[p=0.02, l=11.25]', '\"?\\n\"[p=0.02, l=11.19]', '\" comedian\"[p=0.02, l=11.12]', '\"??\"[p=0.02, l=11.12]', '\" artist\"[p=0.02, l=11.06]', '\"?\"[p=0.02, l=10.94]', '\"???\"[p=0.02, l=10.81]', '\" musician\"[p=0.01, l=10.69]', '\" (\"[p=0.01, l=10.62]', '\" singer\"[p=0.01, l=10.56]', '\" lawyer\"[p=0.01, l=10.56]', '\" no\"[p=0.01, l=10.12]', '\"?\\n\\n\"[p=0.01, l=10.06]']\n",
      "token_idx=39 [\".\"] => ['\" actor\"[p=0.07, l=11.75]', '\"?\\n\"[p=0.07, l=11.75]', '\"??\"[p=0.05, l=11.50]', '\"?\"[p=0.04, l=11.19]', '\" unknown\"[p=0.03, l=11.06]', '\"?\\n\\n\"[p=0.03, l=10.88]', '\" lawyer\"[p=0.03, l=10.81]', '\" politician\"[p=0.03, l=10.81]', '\"???\"[p=0.02, l=10.69]', '\" Jackson\"[p=0.02, l=10.56]', '\" (\"[p=0.02, l=10.31]', '\" what\"[p=0.01, l=10.06]', '\" musician\"[p=0.01, l=10.00]', '\" singer\"[p=0.01, l=9.88]', '\" artist\"[p=0.01, l=9.88]']\n",
      "token_idx=40 [\" Jackson\"] => ['\" actor\"[p=0.83, l=15.94]', '\" singer\"[p=0.01, l=11.38]', '\" politician\"[p=0.01, l=11.06]', '\"?\\n\"[p=0.01, l=11.06]', '\" unknown\"[p=0.01, l=11.00]', '\"??\"[p=0.00, l=10.69]', '\" Actor\"[p=0.00, l=10.62]', '\"?\"[p=0.00, l=10.62]', '\" (\"[p=0.00, l=10.56]', '\" movie\"[p=0.00, l=10.38]', '\" no\"[p=0.00, l=10.25]', '\" musician\"[p=0.00, l=10.25]', '\" Jackson\"[p=0.00, l=10.19]', '\" lawyer\"[p=0.00, l=10.12]', '\" artist\"[p=0.00, l=10.06]']\n",
      "======================================================================================================================================================\n",
      "\n",
      "layer='model.layers.42'\n",
      "\n",
      "\"Ans:\" | cur_rng=(-2, 0)\n",
      "token_idx=-2 [\"Ans\"] => ['\" Ans\"[p=0.05, l=10.19]', '\" unknown\"[p=0.02, l=9.50]', '\"?\\n\"[p=0.02, l=9.38]', '\" artist\"[p=0.02, l=9.31]', '\" entrepreneur\"[p=0.02, l=9.06]', '\" \\n\"[p=0.01, l=8.88]', '\" programmer\"[p=0.01, l=8.75]', '\" scientist\"[p=0.01, l=8.62]', '\" computer\"[p=0.01, l=8.62]', '\" person\"[p=0.01, l=8.56]', '\"??\"[p=0.01, l=8.50]', '\" software\"[p=0.01, l=8.44]', '\" politician\"[p=0.01, l=8.44]', '\" student\"[p=0.01, l=8.44]', '\" answer\"[p=0.01, l=8.31]']\n",
      "token_idx=-1 [\":\"] => ['\"?\\n\"[p=0.31, l=14.25]', '\"?\\n\\n\"[p=0.16, l=13.56]', '\"?\"[p=0.05, l=12.44]', '\" \\n\"[p=0.03, l=12.00]', '\" ->\"[p=0.02, l=11.50]', '\"??\"[p=0.02, l=11.31]', '\" lawyer\"[p=0.02, l=11.31]', '\" actor\"[p=0.01, l=10.94]', '\" software\"[p=0.01, l=10.94]', '\" (\"[p=0.01, l=10.94]', '\"\\n\\n\"[p=0.01, l=10.75]', '\" politician\"[p=0.01, l=10.75]', '\" computer\"[p=0.01, l=10.62]', '\" \\n\\n\"[p=0.01, l=10.50]', '\" \"[p=0.01, l=10.50]']\n",
      "\n",
      "\" Trevor Noah\" | cur_rng=(13, 15)\n",
      "token_idx=13 [\" Trevor\"] => ['\"?\\n\"[p=0.11, l=12.75]', '\"??\"[p=0.07, l=12.25]', '\"?\"[p=0.06, l=12.06]', '\"?\\n\\n\"[p=0.05, l=11.94]', '\"???\"[p=0.04, l=11.81]', '\" unknown\"[p=0.03, l=11.56]', '\" actor\"[p=0.03, l=11.44]', '\" software\"[p=0.03, l=11.44]', '\" programmer\"[p=0.02, l=11.00]', '\" entrepreneur\"[p=0.02, l=10.94]', '\" musician\"[p=0.01, l=10.69]', '\" politician\"[p=0.01, l=10.69]', '\" singer\"[p=0.01, l=10.50]', '\" football\"[p=0.01, l=10.44]', '\" data\"[p=0.01, l=10.31]']\n",
      "token_idx=14 [\" Noah\"] => ['\" comedian\"[p=0.89, l=18.88]', '\"?\\n\"[p=0.02, l=14.88]', '\"??\"[p=0.01, l=14.00]', '\"?\\n\\n\"[p=0.01, l=13.94]', '\" stand\"[p=0.01, l=13.94]', '\" Com\"[p=0.01, l=13.88]', '\" (\"[p=0.01, l=13.75]', '\"?\"[p=0.00, l=13.56]', '\" actor\"[p=0.00, l=13.44]', '\" TV\"[p=0.00, l=13.25]', '\" \\n\"[p=0.00, l=13.19]', '\"???\"[p=0.00, l=13.19]', '\" \"[p=0.00, l=12.94]', '\" unknown\"[p=0.00, l=12.81]', '\" talk\"[p=0.00, l=12.69]']\n",
      "\n",
      "\" Zion Williamson\" | cur_rng=(18, 20)\n",
      "token_idx=18 [\" Zion\"] => ['\" singer\"[p=0.07, l=12.19]', '\" musician\"[p=0.07, l=12.12]', '\"?\\n\"[p=0.06, l=11.94]', '\" unknown\"[p=0.05, l=11.88]', '\" prophet\"[p=0.04, l=11.56]', '\"??\"[p=0.04, l=11.56]', '\" football\"[p=0.03, l=11.12]', '\" rapper\"[p=0.02, l=11.06]', '\" no\"[p=0.02, l=10.81]', '\"???\"[p=0.02, l=10.69]', '\"?\"[p=0.02, l=10.62]', '\" actor\"[p=0.02, l=10.62]', '\" politician\"[p=0.01, l=10.50]', '\" artist\"[p=0.01, l=10.38]', '\" (\"[p=0.01, l=10.38]']\n",
      "token_idx=19 [\" Williamson\"] => ['\" basketball\"[p=0.72, l=16.50]', '\"?\\n\"[p=0.02, l=13.06]', '\"??\"[p=0.02, l=12.88]', '\" football\"[p=0.02, l=12.75]', '\" unknown\"[p=0.01, l=12.50]', '\"?\"[p=0.01, l=12.44]', '\" college\"[p=0.01, l=12.06]', '\" politician\"[p=0.01, l=12.06]', '\" NBA\"[p=0.01, l=12.00]', '\" professional\"[p=0.01, l=12.00]', '\" \\n\"[p=0.01, l=11.88]', '\" (\"[p=0.01, l=11.88]', '\" Basketball\"[p=0.01, l=11.88]', '\" athlete\"[p=0.01, l=11.88]', '\"???\"[p=0.01, l=11.75]']\n",
      "\n",
      "\" John Mulaney\" | cur_rng=(21, 24)\n",
      "token_idx=21 [\" John\"] => ['\" unknown\"[p=0.08, l=12.75]', '\"?\\n\"[p=0.04, l=12.19]', '\" actor\"[p=0.04, l=12.19]', '\" politician\"[p=0.03, l=11.88]', '\"?\"[p=0.03, l=11.62]', '\"??\"[p=0.02, l=11.50]', '\" lawyer\"[p=0.02, l=11.50]', '\" no\"[p=0.02, l=11.44]', '\" programmer\"[p=0.02, l=11.38]', '\" pastor\"[p=0.02, l=11.38]', '\"???\"[p=0.02, l=11.25]', '\" musician\"[p=0.02, l=11.25]', '\" software\"[p=0.02, l=11.19]', '\" singer\"[p=0.01, l=11.06]', '\" (\"[p=0.01, l=11.00]']\n",
      "token_idx=22 [\" Mul\"] => ['\" unknown\"[p=0.04, l=10.25]', '\" actor\"[p=0.03, l=10.06]', '\" singer\"[p=0.02, l=9.88]', '\" musician\"[p=0.02, l=9.88]', '\"?\\n\"[p=0.02, l=9.69]', '\"??\"[p=0.02, l=9.50]', '\" farmer\"[p=0.01, l=9.38]', '\"???\"[p=0.01, l=9.31]', '\" no\"[p=0.01, l=9.31]', '\" politician\"[p=0.01, l=9.31]', '\" (\"[p=0.01, l=9.31]', '\" artist\"[p=0.01, l=9.19]', '\" philosopher\"[p=0.01, l=9.06]', '\"?\"[p=0.01, l=9.00]', '\" \"[p=0.01, l=9.00]']\n",
      "token_idx=23 [\"aney\"] => ['\" comedian\"[p=0.70, l=17.50]', '\"?\\n\"[p=0.09, l=15.44]', '\"?\\n\\n\"[p=0.03, l=14.50]', '\"??\"[p=0.03, l=14.25]', '\"?\"[p=0.02, l=14.00]', '\" stand\"[p=0.01, l=13.50]', '\"???\"[p=0.01, l=13.38]', '\" unknown\"[p=0.01, l=13.38]', '\" (\"[p=0.01, l=12.88]', '\" actor\"[p=0.01, l=12.88]', '\" \\n\"[p=0.00, l=12.50]', '\" \"[p=0.00, l=12.50]', '\" comic\"[p=0.00, l=12.25]', '\" Com\"[p=0.00, l=12.25]', '\" politician\"[p=0.00, l=11.81]']\n",
      "\n",
      "\" Ariana Grande\" | cur_rng=(25, 28)\n",
      "token_idx=25 [\" Ari\"] => ['\"?\\n\"[p=0.09, l=11.69]', '\" singer\"[p=0.06, l=11.38]', '\"?\"[p=0.04, l=10.81]', '\" unknown\"[p=0.03, l=10.75]', '\"??\"[p=0.03, l=10.50]', '\" artist\"[p=0.02, l=10.31]', '\"?\\n\\n\"[p=0.02, l=10.06]', '\" musician\"[p=0.02, l=9.94]', '\"???\"[p=0.02, l=9.94]', '\" lawyer\"[p=0.01, l=9.75]', '\" student\"[p=0.01, l=9.69]', '\" actress\"[p=0.01, l=9.56]', '\" politician\"[p=0.01, l=9.50]', '\" model\"[p=0.01, l=9.44]', '\" what\"[p=0.01, l=9.38]']\n",
      "token_idx=26 [\"ana\"] => ['\" singer\"[p=0.44, l=14.44]', '\"?\\n\"[p=0.08, l=12.69]', '\" unknown\"[p=0.04, l=12.00]', '\" pop\"[p=0.04, l=12.00]', '\"?\"[p=0.03, l=11.75]', '\" musician\"[p=0.02, l=11.31]', '\"??\"[p=0.02, l=11.25]', '\"?\\n\\n\"[p=0.02, l=11.06]', '\" model\"[p=0.01, l=10.88]', '\" no\"[p=0.01, l=10.81]', '\" artist\"[p=0.01, l=10.69]', '\" actress\"[p=0.01, l=10.69]', '\" not\"[p=0.01, l=10.38]', '\"???\"[p=0.01, l=10.31]', '\" (\"[p=0.01, l=10.06]']\n",
      "token_idx=27 [\" Grande\"] => ['\" singer\"[p=0.87, l=17.88]', '\"?\\n\"[p=0.02, l=14.00]', '\" musician\"[p=0.01, l=13.75]', '\" pop\"[p=0.01, l=13.56]', '\"?\"[p=0.01, l=13.06]', '\" Singer\"[p=0.01, l=12.81]', '\"?\\n\\n\"[p=0.01, l=12.75]', '\" unknown\"[p=0.00, l=12.62]', '\" \\n\"[p=0.00, l=12.62]', '\"??\"[p=0.00, l=12.62]', '\" actress\"[p=0.00, l=12.44]', '\" music\"[p=0.00, l=12.00]', '\" \"[p=0.00, l=11.94]', '\" artist\"[p=0.00, l=11.94]', '\" (\"[p=0.00, l=11.81]']\n",
      "\n",
      "\" Joe Scarborough\" | cur_rng=(29, 31)\n",
      "token_idx=29 [\" Joe\"] => ['\"?\\n\"[p=0.07, l=12.25]', '\" unknown\"[p=0.05, l=12.00]', '\"?\"[p=0.04, l=11.81]', '\"??\"[p=0.04, l=11.69]', '\"???\"[p=0.03, l=11.44]', '\" politician\"[p=0.03, l=11.25]', '\" programmer\"[p=0.02, l=10.94]', '\"?\\n\\n\"[p=0.01, l=10.69]', '\" no\"[p=0.01, l=10.62]', '\" (\"[p=0.01, l=10.62]', '\" actor\"[p=0.01, l=10.62]', '\" plumber\"[p=0.01, l=10.62]', '\" engineer\"[p=0.01, l=10.62]', '\" software\"[p=0.01, l=10.50]', '\" what\"[p=0.01, l=10.38]']\n",
      "token_idx=30 [\" Scarborough\"] => ['\" journalist\"[p=0.42, l=17.75]', '\" TV\"[p=0.12, l=16.50]', '\" news\"[p=0.09, l=16.25]', '\" television\"[p=0.08, l=16.12]', '\" political\"[p=0.04, l=15.50]', '\" politician\"[p=0.04, l=15.38]', '\"?\\n\"[p=0.02, l=14.75]', '\" tv\"[p=0.02, l=14.62]', '\"??\"[p=0.02, l=14.62]', '\"?\"[p=0.01, l=14.38]', '\" talk\"[p=0.01, l=13.94]', '\" (\"[p=0.01, l=13.75]', '\"?\\n\\n\"[p=0.01, l=13.75]', '\" media\"[p=0.01, l=13.69]', '\" Journal\"[p=0.01, l=13.38]']\n",
      "\n",
      "\" Andrey Rublev\" | cur_rng=(32, 36)\n",
      "token_idx=32 [\" And\"] => ['\"?\\n\"[p=0.07, l=11.19]', '\" And\"[p=0.07, l=11.12]', '\"?\"[p=0.04, l=10.62]', '\"?\\n\\n\"[p=0.03, l=10.44]', '\"??\"[p=0.03, l=10.38]', '\" \\n\"[p=0.03, l=10.25]', '\"...\"[p=0.03, l=10.12]', '\" and\"[p=0.02, l=9.94]', '\" so\"[p=0.02, l=9.69]', '\" (\"[p=0.02, l=9.69]', '\"...\\n\\n\"[p=0.02, l=9.69]', '\"???\"[p=0.01, l=9.50]', '\"...\\n\"[p=0.01, l=9.44]', '\" lawyer\"[p=0.01, l=9.25]', '\" \"[p=0.01, l=9.19]']\n",
      "token_idx=33 [\"rey\"] => ['\" programmer\"[p=0.11, l=12.50]', '\"?\\n\"[p=0.06, l=11.88]', '\" software\"[p=0.05, l=11.62]', '\" unknown\"[p=0.02, l=10.94]', '\" engineer\"[p=0.02, l=10.88]', '\"?\"[p=0.02, l=10.88]', '\" mathematic\"[p=0.02, l=10.81]', '\" entrepreneur\"[p=0.02, l=10.81]', '\"?\\n\\n\"[p=0.02, l=10.81]', '\"??\"[p=0.02, l=10.75]', '\" student\"[p=0.01, l=10.44]', '\" developer\"[p=0.01, l=10.38]', '\"???\"[p=0.01, l=10.38]', '\" computer\"[p=0.01, l=10.31]', '\" artist\"[p=0.01, l=10.25]']\n",
      "token_idx=34 [\" Rub\"] => ['\"?\\n\"[p=0.07, l=10.75]', '\"??\"[p=0.04, l=10.31]', '\" artist\"[p=0.04, l=10.25]', '\" unknown\"[p=0.03, l=9.88]', '\"?\"[p=0.02, l=9.75]', '\"???\"[p=0.02, l=9.75]', '\"?\\n\\n\"[p=0.02, l=9.44]', '\" musician\"[p=0.01, l=9.19]', '\" programmer\"[p=0.01, l=9.06]', '\" tennis\"[p=0.01, l=9.00]', '\" (\"[p=0.01, l=9.00]', '\" what\"[p=0.01, l=8.94]', '\" unclear\"[p=0.01, l=8.94]', '\" not\"[p=0.01, l=8.94]', '\" \\n\"[p=0.01, l=8.75]']\n",
      "token_idx=35 [\"lev\"] => ['\" tennis\"[p=0.36, l=15.38]', '\"?\\n\"[p=0.16, l=14.56]', '\"?\\n\\n\"[p=0.08, l=13.81]', '\"?\"[p=0.06, l=13.50]', '\"??\"[p=0.05, l=13.31]', '\" \\n\"[p=0.02, l=12.38]', '\"???\"[p=0.02, l=12.38]', '\" unknown\"[p=0.01, l=12.06]', '\" (\"[p=0.01, l=11.94]', '\" what\"[p=0.01, l=11.69]', '\" \"[p=0.01, l=11.62]', '\" athlete\"[p=0.01, l=11.56]', '\" politician\"[p=0.01, l=11.38]', '\" professional\"[p=0.01, l=11.31]', '\" musician\"[p=0.01, l=11.19]']\n",
      "\n",
      "\" Samuel L. Jackson\" | cur_rng=(37, 41)\n",
      "token_idx=37 [\" Samuel\"] => ['\" prophet\"[p=0.47, l=15.00]', '\" judge\"[p=0.04, l=12.62]', '\" actor\"[p=0.02, l=12.00]', '\" biblical\"[p=0.02, l=11.94]', '\" unknown\"[p=0.02, l=11.88]', '\"?\\n\"[p=0.01, l=11.50]', '\" Prophet\"[p=0.01, l=11.31]', '\"??\"[p=0.01, l=10.94]', '\" singer\"[p=0.01, l=10.94]', '\" politician\"[p=0.01, l=10.75]', '\" no\"[p=0.01, l=10.69]', '\" (\"[p=0.01, l=10.69]', '\" musician\"[p=0.01, l=10.69]', '\" poet\"[p=0.01, l=10.62]', '\" priest\"[p=0.01, l=10.62]']\n",
      "token_idx=38 [\" L\"] => ['\" actor\"[p=0.23, l=13.50]', '\" Jackson\"[p=0.07, l=12.25]', '\"?\\n\"[p=0.05, l=12.00]', '\"??\"[p=0.04, l=11.62]', '\"?\"[p=0.03, l=11.56]', '\" artist\"[p=0.02, l=11.19]', '\" comedian\"[p=0.02, l=11.19]', '\"???\"[p=0.02, l=11.19]', '\"?\\n\\n\"[p=0.02, l=11.00]', '\" unknown\"[p=0.02, l=10.94]', '\" musician\"[p=0.02, l=10.88]', '\" singer\"[p=0.02, l=10.81]', '\" (\"[p=0.01, l=10.62]', '\" lawyer\"[p=0.01, l=10.31]', '\" what\"[p=0.01, l=10.12]']\n",
      "token_idx=39 [\".\"] => ['\"?\\n\"[p=0.09, l=12.12]', '\" actor\"[p=0.06, l=11.75]', '\"??\"[p=0.06, l=11.62]', '\"?\"[p=0.05, l=11.56]', '\"?\\n\\n\"[p=0.04, l=11.25]', '\"???\"[p=0.03, l=10.94]', '\" unknown\"[p=0.03, l=10.88]', '\" politician\"[p=0.03, l=10.81]', '\" lawyer\"[p=0.03, l=10.81]', '\" (\"[p=0.02, l=10.38]', '\" Jackson\"[p=0.01, l=10.19]', '\" what\"[p=0.01, l=10.12]', '\" musician\"[p=0.01, l=10.00]', '\" singer\"[p=0.01, l=9.94]', '\" artist\"[p=0.01, l=9.88]']\n",
      "token_idx=40 [\" Jackson\"] => ['\" actor\"[p=0.81, l=15.94]', '\" singer\"[p=0.01, l=11.56]', '\"?\\n\"[p=0.01, l=11.56]', '\" politician\"[p=0.01, l=11.19]', '\" unknown\"[p=0.01, l=11.19]', '\"??\"[p=0.01, l=11.12]', '\"?\"[p=0.01, l=11.06]', '\" (\"[p=0.00, l=10.69]', '\" Actor\"[p=0.00, l=10.62]', '\" musician\"[p=0.00, l=10.44]', '\"???\"[p=0.00, l=10.44]', '\" movie\"[p=0.00, l=10.38]', '\" lawyer\"[p=0.00, l=10.31]', '\" Jackson\"[p=0.00, l=10.31]', '\" no\"[p=0.00, l=10.19]']\n",
      "======================================================================================================================================================\n",
      "\n",
      "layer='model.layers.45'\n",
      "\n",
      "\"Ans:\" | cur_rng=(-2, 0)\n",
      "token_idx=-2 [\"Ans\"] => ['\" Ans\"[p=0.08, l=10.69]', '\" entrepreneur\"[p=0.02, l=9.44]', '\" unknown\"[p=0.02, l=9.25]', '\" \\n\"[p=0.02, l=9.00]', '\" person\"[p=0.01, l=8.94]', '\"?\\n\"[p=0.01, l=8.69]', '\" Albert\"[p=0.01, l=8.62]', '\" artist\"[p=0.01, l=8.62]', '\" computer\"[p=0.01, l=8.62]', '\" profession\"[p=0.01, l=8.50]', '\" scientist\"[p=0.01, l=8.50]', '\" a\"[p=0.01, l=8.50]', '\" programmer\"[p=0.01, l=8.38]', '\" the\"[p=0.01, l=8.31]', '\" politician\"[p=0.01, l=8.25]']\n",
      "token_idx=-1 [\":\"] => ['\"?\\n\"[p=0.29, l=14.06]', '\"?\\n\\n\"[p=0.13, l=13.31]', '\"?\"[p=0.04, l=12.19]', '\" \\n\"[p=0.03, l=11.62]', '\" lawyer\"[p=0.02, l=11.50]', '\"??\"[p=0.02, l=11.38]', '\" actor\"[p=0.02, l=11.25]', '\" software\"[p=0.02, l=11.25]', '\" ->\"[p=0.02, l=11.19]', '\" politician\"[p=0.01, l=11.00]', '\" (\"[p=0.01, l=10.88]', '\" computer\"[p=0.01, l=10.75]', '\" artist\"[p=0.01, l=10.75]', '\" programmer\"[p=0.01, l=10.69]', '\" \"[p=0.01, l=10.44]']\n",
      "\n",
      "\" Trevor Noah\" | cur_rng=(13, 15)\n",
      "token_idx=13 [\" Trevor\"] => ['\"?\\n\"[p=0.10, l=12.56]', '\"??\"[p=0.06, l=12.06]', '\"?\"[p=0.05, l=11.88]', '\"???\"[p=0.04, l=11.69]', '\"?\\n\\n\"[p=0.04, l=11.62]', '\" unknown\"[p=0.04, l=11.56]', '\" software\"[p=0.04, l=11.56]', '\" actor\"[p=0.03, l=11.44]', '\" programmer\"[p=0.02, l=11.00]', '\" entrepreneur\"[p=0.02, l=11.00]', '\" musician\"[p=0.02, l=10.81]', '\" politician\"[p=0.01, l=10.62]', '\" singer\"[p=0.01, l=10.56]', '\" data\"[p=0.01, l=10.50]', '\" computer\"[p=0.01, l=10.38]']\n",
      "token_idx=14 [\" Noah\"] => ['\" comedian\"[p=0.83, l=18.38]', '\"?\\n\"[p=0.03, l=15.19]', '\"?\\n\\n\"[p=0.01, l=14.31]', '\"??\"[p=0.01, l=14.06]', '\"?\"[p=0.01, l=13.81]', '\" (\"[p=0.01, l=13.69]', '\" stand\"[p=0.01, l=13.38]', '\"???\"[p=0.00, l=13.25]', '\" Com\"[p=0.00, l=13.25]', '\" actor\"[p=0.00, l=13.25]', '\" unknown\"[p=0.00, l=13.12]', '\" \\n\"[p=0.00, l=13.12]', '\" \"[p=0.00, l=12.81]', '\" TV\"[p=0.00, l=12.69]', '\" politician\"[p=0.00, l=12.62]']\n",
      "\n",
      "\" Zion Williamson\" | cur_rng=(18, 20)\n",
      "token_idx=18 [\" Zion\"] => ['\" prophet\"[p=0.07, l=12.12]', '\"?\\n\"[p=0.06, l=12.06]', '\" unknown\"[p=0.06, l=12.06]', '\" singer\"[p=0.06, l=12.00]', '\" musician\"[p=0.05, l=11.88]', '\"??\"[p=0.04, l=11.69]', '\" no\"[p=0.02, l=11.00]', '\" politician\"[p=0.02, l=10.94]', '\" football\"[p=0.02, l=10.94]', '\"???\"[p=0.02, l=10.75]', '\"?\"[p=0.02, l=10.69]', '\" rapper\"[p=0.01, l=10.56]', '\" (\"[p=0.01, l=10.44]', '\" actor\"[p=0.01, l=10.44]', '\" biblical\"[p=0.01, l=10.25]']\n",
      "token_idx=19 [\" Williamson\"] => ['\" basketball\"[p=0.75, l=16.75]', '\"?\\n\"[p=0.03, l=13.38]', '\"??\"[p=0.02, l=13.12]', '\"?\"[p=0.01, l=12.75]', '\" football\"[p=0.01, l=12.56]', '\" unknown\"[p=0.01, l=12.56]', '\" professional\"[p=0.01, l=12.38]', '\" NBA\"[p=0.01, l=12.25]', '\" \\n\"[p=0.01, l=12.06]', '\" politician\"[p=0.01, l=12.06]', '\"???\"[p=0.01, l=12.00]', '\" college\"[p=0.01, l=11.94]', '\" Basketball\"[p=0.01, l=11.94]', '\" athlete\"[p=0.01, l=11.94]', '\" (\"[p=0.01, l=11.88]']\n",
      "\n",
      "\" John Mulaney\" | cur_rng=(21, 24)\n",
      "token_idx=21 [\" John\"] => ['\" unknown\"[p=0.07, l=12.69]', '\" politician\"[p=0.05, l=12.19]', '\"?\\n\"[p=0.05, l=12.19]', '\" actor\"[p=0.04, l=12.06]', '\"?\"[p=0.03, l=11.69]', '\"??\"[p=0.02, l=11.56]', '\" musician\"[p=0.02, l=11.50]', '\" lawyer\"[p=0.02, l=11.50]', '\" no\"[p=0.02, l=11.44]', '\"???\"[p=0.02, l=11.25]', '\" singer\"[p=0.02, l=11.25]', '\" pastor\"[p=0.02, l=11.12]', '\" software\"[p=0.01, l=11.06]', '\" evangel\"[p=0.01, l=11.00]', '\" (\"[p=0.01, l=10.94]']\n",
      "token_idx=22 [\" Mul\"] => ['\" unknown\"[p=0.04, l=10.12]', '\"?\\n\"[p=0.03, l=9.81]', '\" singer\"[p=0.02, l=9.69]', '\" actor\"[p=0.02, l=9.62]', '\" politician\"[p=0.02, l=9.50]', '\" musician\"[p=0.02, l=9.50]', '\"??\"[p=0.02, l=9.44]', '\" farmer\"[p=0.02, l=9.44]', '\"???\"[p=0.02, l=9.31]', '\" (\"[p=0.02, l=9.31]', '\" no\"[p=0.02, l=9.31]', '\"?\"[p=0.01, l=9.06]', '\" artist\"[p=0.01, l=8.94]', '\" \"[p=0.01, l=8.81]', '\" not\"[p=0.01, l=8.75]']\n",
      "token_idx=23 [\"aney\"] => ['\" comedian\"[p=0.64, l=16.88]', '\"?\\n\"[p=0.10, l=15.00]', '\"?\\n\\n\"[p=0.04, l=14.12]', '\"??\"[p=0.03, l=13.88]', '\"?\"[p=0.02, l=13.50]', '\"???\"[p=0.02, l=13.25]', '\" actor\"[p=0.01, l=13.00]', '\" unknown\"[p=0.01, l=12.75]', '\" stand\"[p=0.01, l=12.62]', '\" (\"[p=0.01, l=12.25]', '\" \\n\"[p=0.00, l=11.94]', '\" \"[p=0.00, l=11.94]', '\" politician\"[p=0.00, l=11.94]', '\" comic\"[p=0.00, l=11.81]', '\" Com\"[p=0.00, l=11.69]']\n",
      "\n",
      "\" Ariana Grande\" | cur_rng=(25, 28)\n",
      "token_idx=25 [\" Ari\"] => ['\"?\\n\"[p=0.12, l=12.06]', '\"?\"[p=0.05, l=11.19]', '\" singer\"[p=0.04, l=11.00]', '\"??\"[p=0.04, l=10.88]', '\"?\\n\\n\"[p=0.03, l=10.81]', '\" unknown\"[p=0.03, l=10.62]', '\"???\"[p=0.02, l=10.31]', '\" artist\"[p=0.02, l=10.12]', '\" musician\"[p=0.01, l=9.75]', '\" politician\"[p=0.01, l=9.62]', '\" software\"[p=0.01, l=9.62]', '\" what\"[p=0.01, l=9.56]', '\" actress\"[p=0.01, l=9.56]', '\" student\"[p=0.01, l=9.50]', '\" lawyer\"[p=0.01, l=9.44]']\n",
      "token_idx=26 [\"ana\"] => ['\" singer\"[p=0.42, l=14.31]', '\"?\\n\"[p=0.09, l=12.81]', '\" unknown\"[p=0.05, l=12.12]', '\"?\"[p=0.04, l=11.94]', '\" pop\"[p=0.03, l=11.62]', '\"?\\n\\n\"[p=0.02, l=11.38]', '\" musician\"[p=0.02, l=11.31]', '\"??\"[p=0.02, l=11.25]', '\" model\"[p=0.01, l=10.62]', '\" artist\"[p=0.01, l=10.62]', '\" no\"[p=0.01, l=10.56]', '\"???\"[p=0.01, l=10.44]', '\" actress\"[p=0.01, l=10.31]', '\" not\"[p=0.01, l=10.31]', '\" \\n\"[p=0.01, l=10.00]']\n",
      "token_idx=27 [\" Grande\"] => ['\" singer\"[p=0.80, l=17.12]', '\"?\\n\"[p=0.04, l=14.12]', '\" musician\"[p=0.01, l=13.06]', '\"?\"[p=0.01, l=13.06]', '\"?\\n\\n\"[p=0.01, l=13.00]', '\" pop\"[p=0.01, l=12.81]', '\" unknown\"[p=0.01, l=12.50]', '\"??\"[p=0.01, l=12.38]', '\" \\n\"[p=0.01, l=12.31]', '\" Singer\"[p=0.01, l=12.12]', '\" actress\"[p=0.01, l=12.12]', '\" artist\"[p=0.00, l=11.81]', '\" music\"[p=0.00, l=11.62]', '\"???\"[p=0.00, l=11.50]', '\" (\"[p=0.00, l=11.44]']\n",
      "\n",
      "\" Joe Scarborough\" | cur_rng=(29, 31)\n",
      "token_idx=29 [\" Joe\"] => ['\"?\\n\"[p=0.06, l=12.06]', '\" unknown\"[p=0.06, l=11.94]', '\"?\"[p=0.04, l=11.56]', '\"??\"[p=0.04, l=11.50]', '\" politician\"[p=0.03, l=11.31]', '\"???\"[p=0.03, l=11.25]', '\" programmer\"[p=0.02, l=10.81]', '\" no\"[p=0.01, l=10.62]', '\" actor\"[p=0.01, l=10.56]', '\" (\"[p=0.01, l=10.56]', '\"?\\n\\n\"[p=0.01, l=10.50]', '\" software\"[p=0.01, l=10.44]', '\" engineer\"[p=0.01, l=10.44]', '\" Joe\"[p=0.01, l=10.25]', '\" teacher\"[p=0.01, l=10.25]']\n",
      "token_idx=30 [\" Scarborough\"] => ['\" journalist\"[p=0.31, l=17.00]', '\" TV\"[p=0.13, l=16.12]', '\" news\"[p=0.10, l=15.88]', '\" politician\"[p=0.09, l=15.75]', '\" television\"[p=0.08, l=15.62]', '\" political\"[p=0.05, l=15.19]', '\"?\\n\"[p=0.03, l=14.50]', '\"??\"[p=0.02, l=14.44]', '\" tv\"[p=0.02, l=14.31]', '\"?\"[p=0.02, l=14.06]', '\" talk\"[p=0.01, l=13.69]', '\" (\"[p=0.01, l=13.44]', '\"?\\n\\n\"[p=0.01, l=13.44]', '\" media\"[p=0.01, l=13.38]', '\"???\"[p=0.01, l=13.19]']\n",
      "\n",
      "\" Andrey Rublev\" | cur_rng=(32, 36)\n",
      "token_idx=32 [\" And\"] => ['\" And\"[p=0.07, l=11.06]', '\"?\\n\"[p=0.06, l=10.88]', '\" and\"[p=0.03, l=10.25]', '\"?\"[p=0.03, l=10.19]', '\"?\\n\\n\"[p=0.03, l=10.12]', '\" \\n\"[p=0.03, l=10.06]', '\"...\"[p=0.02, l=10.00]', '\"??\"[p=0.02, l=9.88]', '\" so\"[p=0.02, l=9.75]', '\" (\"[p=0.02, l=9.75]', '\"...\\n\\n\"[p=0.02, l=9.62]', '\"...\\n\"[p=0.01, l=9.44]', '\" lawyer\"[p=0.01, l=9.25]', '\"???\"[p=0.01, l=9.19]', '\" fill\"[p=0.01, l=9.12]']\n",
      "token_idx=33 [\"rey\"] => ['\" programmer\"[p=0.12, l=12.69]', '\" software\"[p=0.04, l=11.56]', '\"?\\n\"[p=0.04, l=11.50]', '\" tennis\"[p=0.03, l=11.31]', '\" mathematic\"[p=0.02, l=11.00]', '\" entrepreneur\"[p=0.02, l=11.00]', '\" chess\"[p=0.02, l=10.94]', '\" unknown\"[p=0.02, l=10.94]', '\" engineer\"[p=0.02, l=10.81]', '\"?\"[p=0.02, l=10.69]', '\" football\"[p=0.02, l=10.56]', '\"??\"[p=0.01, l=10.44]', '\" politician\"[p=0.01, l=10.44]', '\" artist\"[p=0.01, l=10.38]', '\" computer\"[p=0.01, l=10.38]']\n",
      "token_idx=34 [\" Rub\"] => ['\"?\\n\"[p=0.08, l=10.88]', '\"??\"[p=0.05, l=10.38]', '\" artist\"[p=0.04, l=10.12]', '\" unknown\"[p=0.03, l=10.00]', '\"?\"[p=0.03, l=9.94]', '\"???\"[p=0.03, l=9.81]', '\"?\\n\\n\"[p=0.02, l=9.75]', '\" unclear\"[p=0.01, l=9.19]', '\" (\"[p=0.01, l=9.06]', '\" what\"[p=0.01, l=9.06]', '\" musician\"[p=0.01, l=8.94]', '\" not\"[p=0.01, l=8.81]', '\" programmer\"[p=0.01, l=8.81]', '\" chess\"[p=0.01, l=8.81]', '\" Rub\"[p=0.01, l=8.75]']\n",
      "token_idx=35 [\"lev\"] => ['\" tennis\"[p=0.29, l=14.69]', '\"?\\n\"[p=0.17, l=14.19]', '\"?\\n\\n\"[p=0.08, l=13.44]', '\"?\"[p=0.06, l=13.12]', '\"??\"[p=0.04, l=12.81]', '\" \\n\"[p=0.02, l=12.06]', '\"???\"[p=0.02, l=11.94]', '\" (\"[p=0.02, l=11.88]', '\" unknown\"[p=0.02, l=11.75]', '\" \"[p=0.01, l=11.31]', '\" athlete\"[p=0.01, l=11.31]', '\" what\"[p=0.01, l=11.12]', '\" musician\"[p=0.01, l=10.94]', '\" politician\"[p=0.01, l=10.81]', '\" professional\"[p=0.01, l=10.69]']\n",
      "\n",
      "\" Samuel L. Jackson\" | cur_rng=(37, 41)\n",
      "token_idx=37 [\" Samuel\"] => ['\" prophet\"[p=0.53, l=15.19]', '\" judge\"[p=0.03, l=12.44]', '\" actor\"[p=0.02, l=12.06]', '\"?\\n\"[p=0.02, l=12.06]', '\" unknown\"[p=0.02, l=12.00]', '\" biblical\"[p=0.02, l=11.75]', '\"??\"[p=0.01, l=11.56]', '\" Prophet\"[p=0.01, l=11.38]', '\" singer\"[p=0.01, l=11.00]', '\"?\"[p=0.01, l=10.94]', '\" no\"[p=0.01, l=10.81]', '\"???\"[p=0.01, l=10.75]', '\" (\"[p=0.01, l=10.69]', '\" musician\"[p=0.01, l=10.62]', '\" not\"[p=0.00, l=10.44]']\n",
      "token_idx=38 [\" L\"] => ['\" actor\"[p=0.11, l=12.62]', '\"?\\n\"[p=0.08, l=12.38]', '\" Jackson\"[p=0.05, l=11.94]', '\"??\"[p=0.05, l=11.94]', '\"?\"[p=0.05, l=11.81]', '\"???\"[p=0.04, l=11.56]', '\"?\\n\\n\"[p=0.04, l=11.56]', '\" unknown\"[p=0.03, l=11.19]', '\" artist\"[p=0.02, l=10.94]', '\" singer\"[p=0.02, l=10.88]', '\" comedian\"[p=0.02, l=10.81]', '\" (\"[p=0.02, l=10.75]', '\" musician\"[p=0.01, l=10.62]', '\" software\"[p=0.01, l=10.19]', '\" \"[p=0.01, l=10.19]']\n",
      "token_idx=39 [\".\"] => ['\"?\\n\"[p=0.12, l=12.31]', '\"?\"[p=0.07, l=11.75]', '\"??\"[p=0.07, l=11.75]', '\"?\\n\\n\"[p=0.06, l=11.56]', '\"???\"[p=0.04, l=11.12]', '\" unknown\"[p=0.03, l=11.06]', '\" actor\"[p=0.03, l=10.88]', '\" lawyer\"[p=0.02, l=10.50]', '\" (\"[p=0.02, l=10.44]', '\" politician\"[p=0.02, l=10.31]', '\" what\"[p=0.01, l=10.00]', '\" artist\"[p=0.01, l=10.00]', '\" musician\"[p=0.01, l=10.00]', '\" singer\"[p=0.01, l=9.94]', '\" \"[p=0.01, l=9.69]']\n",
      "token_idx=40 [\" Jackson\"] => ['\" actor\"[p=0.76, l=15.62]', '\"?\\n\"[p=0.02, l=11.88]', '\" singer\"[p=0.01, l=11.38]', '\"?\"[p=0.01, l=11.31]', '\"??\"[p=0.01, l=11.31]', '\" unknown\"[p=0.01, l=11.25]', '\" politician\"[p=0.01, l=10.94]', '\" Jackson\"[p=0.01, l=10.75]', '\" (\"[p=0.01, l=10.69]', '\"???\"[p=0.01, l=10.69]', '\" Actor\"[p=0.00, l=10.44]', '\" no\"[p=0.00, l=10.25]', '\" movie\"[p=0.00, l=10.19]', '\" what\"[p=0.00, l=10.19]', '\" lawyer\"[p=0.00, l=10.19]']\n",
      "======================================================================================================================================================\n",
      "\n",
      "layer='model.layers.48'\n",
      "\n",
      "\"Ans:\" | cur_rng=(-2, 0)\n",
      "token_idx=-2 [\"Ans\"] => ['\" Ans\"[p=0.04, l=9.81]', '\" unknown\"[p=0.03, l=9.44]', '\" entrepreneur\"[p=0.02, l=9.25]', '\" artist\"[p=0.02, l=8.88]', '\" answer\"[p=0.02, l=8.81]', '\"?\\n\"[p=0.02, l=8.81]', '\" Answer\"[p=0.01, l=8.75]', '\" \\n\"[p=0.01, l=8.62]', '\" Albert\"[p=0.01, l=8.50]', '\" computer\"[p=0.01, l=8.50]', '\" person\"[p=0.01, l=8.50]', '\" programmer\"[p=0.01, l=8.38]', '\" a\"[p=0.01, l=8.25]', '\" Unknown\"[p=0.01, l=8.19]', '\" the\"[p=0.01, l=8.12]']\n",
      "token_idx=-1 [\":\"] => ['\"?\\n\"[p=0.26, l=13.94]', '\"?\\n\\n\"[p=0.11, l=13.06]', '\"?\"[p=0.04, l=12.00]', '\" ->\"[p=0.03, l=11.75]', '\" actor\"[p=0.03, l=11.69]', '\" \\n\"[p=0.02, l=11.56]', '\" comedian\"[p=0.02, l=11.38]', '\" lawyer\"[p=0.02, l=11.38]', '\"??\"[p=0.02, l=11.25]', '\" politician\"[p=0.02, l=11.19]', '\" (\"[p=0.02, l=11.19]', '\" software\"[p=0.02, l=11.12]', '\" artist\"[p=0.01, l=10.81]', '\" computer\"[p=0.01, l=10.62]', '\" \"[p=0.01, l=10.56]']\n",
      "\n",
      "\" Trevor Noah\" | cur_rng=(13, 15)\n",
      "token_idx=13 [\" Trevor\"] => ['\"?\\n\"[p=0.07, l=12.19]', '\" software\"[p=0.05, l=11.88]', '\" actor\"[p=0.04, l=11.75]', '\"??\"[p=0.04, l=11.62]', '\" unknown\"[p=0.03, l=11.50]', '\"???\"[p=0.03, l=11.44]', '\"?\"[p=0.03, l=11.31]', '\" entrepreneur\"[p=0.02, l=11.12]', '\" musician\"[p=0.02, l=11.06]', '\" programmer\"[p=0.02, l=11.06]', '\"?\\n\\n\"[p=0.02, l=11.00]', '\" singer\"[p=0.02, l=10.81]', '\" data\"[p=0.02, l=10.75]', '\" politician\"[p=0.01, l=10.50]', '\" student\"[p=0.01, l=10.50]']\n",
      "token_idx=14 [\" Noah\"] => ['\" comedian\"[p=0.82, l=18.00]', '\"?\\n\"[p=0.04, l=15.00]', '\"?\\n\\n\"[p=0.02, l=14.06]', '\"??\"[p=0.01, l=13.81]', '\"?\"[p=0.01, l=13.50]', '\" (\"[p=0.01, l=13.38]', '\" actor\"[p=0.01, l=13.19]', '\" unknown\"[p=0.01, l=13.06]', '\"???\"[p=0.01, l=12.94]', '\" Com\"[p=0.00, l=12.88]', '\" stand\"[p=0.00, l=12.88]', '\" \\n\"[p=0.00, l=12.88]', '\" \"[p=0.00, l=12.38]', '\" politician\"[p=0.00, l=12.19]', '\" TV\"[p=0.00, l=12.00]']\n",
      "\n",
      "\" Zion Williamson\" | cur_rng=(18, 20)\n",
      "token_idx=18 [\" Zion\"] => ['\" singer\"[p=0.07, l=12.19]', '\" prophet\"[p=0.06, l=12.06]', '\" musician\"[p=0.06, l=12.00]', '\" unknown\"[p=0.06, l=11.94]', '\"?\\n\"[p=0.05, l=11.81]', '\"??\"[p=0.04, l=11.56]', '\" politician\"[p=0.02, l=10.94]', '\" football\"[p=0.02, l=10.94]', '\" no\"[p=0.02, l=10.94]', '\" rapper\"[p=0.02, l=10.81]', '\" actor\"[p=0.02, l=10.62]', '\"?\"[p=0.02, l=10.62]', '\"???\"[p=0.02, l=10.62]', '\" (\"[p=0.01, l=10.50]', '\" not\"[p=0.01, l=10.19]']\n",
      "token_idx=19 [\" Williamson\"] => ['\" basketball\"[p=0.75, l=16.75]', '\"?\\n\"[p=0.02, l=13.25]', '\"??\"[p=0.02, l=13.06]', '\"?\"[p=0.01, l=12.62]', '\" football\"[p=0.01, l=12.62]', '\" professional\"[p=0.01, l=12.56]', '\" unknown\"[p=0.01, l=12.50]', '\" NBA\"[p=0.01, l=12.38]', '\" Basketball\"[p=0.01, l=12.06]', '\" politician\"[p=0.01, l=11.94]', '\" \\n\"[p=0.01, l=11.94]', '\"???\"[p=0.01, l=11.94]', '\" college\"[p=0.01, l=11.88]', '\" (\"[p=0.01, l=11.88]', '\" athlete\"[p=0.01, l=11.88]']\n",
      "\n",
      "\" John Mulaney\" | cur_rng=(21, 24)\n",
      "token_idx=21 [\" John\"] => ['\" unknown\"[p=0.08, l=12.69]', '\"?\\n\"[p=0.04, l=12.06]', '\" politician\"[p=0.04, l=12.00]', '\" actor\"[p=0.04, l=11.94]', '\" musician\"[p=0.02, l=11.50]', '\"?\"[p=0.02, l=11.50]', '\"??\"[p=0.02, l=11.44]', '\" no\"[p=0.02, l=11.44]', '\" lawyer\"[p=0.02, l=11.31]', '\" evangel\"[p=0.02, l=11.31]', '\" pastor\"[p=0.02, l=11.25]', '\" singer\"[p=0.02, l=11.12]', '\"???\"[p=0.02, l=11.12]', '\" software\"[p=0.01, l=11.00]', '\" programmer\"[p=0.01, l=10.94]']\n",
      "token_idx=22 [\" Mul\"] => ['\" unknown\"[p=0.04, l=10.25]', '\" singer\"[p=0.04, l=10.12]', '\" musician\"[p=0.03, l=10.06]', '\"?\\n\"[p=0.03, l=9.88]', '\" actor\"[p=0.02, l=9.56]', '\"??\"[p=0.02, l=9.56]', '\" politician\"[p=0.02, l=9.50]', '\"???\"[p=0.02, l=9.31]', '\" (\"[p=0.02, l=9.25]', '\" no\"[p=0.01, l=9.19]', '\" artist\"[p=0.01, l=9.12]', '\" farmer\"[p=0.01, l=9.00]', '\"?\"[p=0.01, l=8.94]', '\" not\"[p=0.01, l=8.81]', '\" \"[p=0.01, l=8.81]']\n",
      "token_idx=23 [\"aney\"] => ['\" comedian\"[p=0.60, l=16.62]', '\"?\\n\"[p=0.12, l=15.00]', '\"?\\n\\n\"[p=0.05, l=14.12]', '\"??\"[p=0.03, l=13.75]', '\"?\"[p=0.02, l=13.38]', '\"???\"[p=0.02, l=13.12]', '\" actor\"[p=0.01, l=12.94]', '\" unknown\"[p=0.01, l=12.31]', '\" stand\"[p=0.01, l=12.19]', '\" (\"[p=0.01, l=11.88]', '\" politician\"[p=0.00, l=11.81]', '\" writer\"[p=0.00, l=11.69]', '\" \\n\"[p=0.00, l=11.62]', '\" \"[p=0.00, l=11.62]', '\" lawyer\"[p=0.00, l=11.56]']\n",
      "\n",
      "\" Ariana Grande\" | cur_rng=(25, 28)\n",
      "token_idx=25 [\" Ari\"] => ['\"?\\n\"[p=0.09, l=11.62]', '\" singer\"[p=0.05, l=11.06]', '\"?\"[p=0.04, l=10.75]', '\"??\"[p=0.03, l=10.69]', '\" unknown\"[p=0.03, l=10.62]', '\"?\\n\\n\"[p=0.03, l=10.44]', '\"???\"[p=0.02, l=10.25]', '\" artist\"[p=0.02, l=10.00]', '\" musician\"[p=0.01, l=9.81]', '\" politician\"[p=0.01, l=9.75]', '\" software\"[p=0.01, l=9.50]', '\" lawyer\"[p=0.01, l=9.44]', '\" actress\"[p=0.01, l=9.31]', '\" \"[p=0.01, l=9.31]', '\" (\"[p=0.01, l=9.19]']\n",
      "token_idx=26 [\"ana\"] => ['\" singer\"[p=0.39, l=14.19]', '\"?\\n\"[p=0.11, l=12.88]', '\" unknown\"[p=0.05, l=12.06]', '\"?\"[p=0.04, l=12.00]', '\" pop\"[p=0.03, l=11.69]', '\"?\\n\\n\"[p=0.03, l=11.56]', '\"??\"[p=0.02, l=11.38]', '\" musician\"[p=0.02, l=11.19]', '\" artist\"[p=0.01, l=10.69]', '\" model\"[p=0.01, l=10.62]', '\"???\"[p=0.01, l=10.56]', '\" no\"[p=0.01, l=10.31]', '\" not\"[p=0.01, l=10.12]', '\" actress\"[p=0.01, l=10.06]', '\" \\n\"[p=0.01, l=10.00]']\n",
      "token_idx=27 [\" Grande\"] => ['\" singer\"[p=0.75, l=16.62]', '\"?\\n\"[p=0.05, l=14.00]', '\"?\\n\\n\"[p=0.02, l=12.94]', '\"?\"[p=0.02, l=12.94]', '\" musician\"[p=0.02, l=12.81]', '\"??\"[p=0.01, l=12.31]', '\" unknown\"[p=0.01, l=12.31]', '\" pop\"[p=0.01, l=12.25]', '\" \\n\"[p=0.01, l=12.00]', '\" actress\"[p=0.01, l=11.75]', '\" artist\"[p=0.01, l=11.69]', '\" Singer\"[p=0.01, l=11.69]', '\"???\"[p=0.00, l=11.44]', '\" music\"[p=0.00, l=11.44]', '\" (\"[p=0.00, l=11.19]']\n",
      "\n",
      "\" Joe Scarborough\" | cur_rng=(29, 31)\n",
      "token_idx=29 [\" Joe\"] => ['\"?\\n\"[p=0.06, l=11.81]', '\" unknown\"[p=0.06, l=11.75]', '\" politician\"[p=0.04, l=11.31]', '\"?\"[p=0.04, l=11.31]', '\"??\"[p=0.04, l=11.25]', '\"???\"[p=0.03, l=10.94]', '\" programmer\"[p=0.02, l=10.62]', '\" no\"[p=0.02, l=10.50]', '\"?\\n\\n\"[p=0.01, l=10.38]', '\" software\"[p=0.01, l=10.31]', '\" (\"[p=0.01, l=10.31]', '\" Joe\"[p=0.01, l=10.25]', '\" actor\"[p=0.01, l=10.25]', '\" engineer\"[p=0.01, l=10.06]', '\" president\"[p=0.01, l=10.06]']\n",
      "token_idx=30 [\" Scarborough\"] => ['\" journalist\"[p=0.23, l=16.12]', '\" news\"[p=0.12, l=15.44]', '\" politician\"[p=0.11, l=15.38]', '\" TV\"[p=0.11, l=15.38]', '\" political\"[p=0.05, l=14.69]', '\" television\"[p=0.05, l=14.69]', '\"?\\n\"[p=0.04, l=14.44]', '\"??\"[p=0.04, l=14.31]', '\"?\"[p=0.02, l=13.88]', '\"?\\n\\n\"[p=0.02, l=13.56]', '\" tv\"[p=0.02, l=13.56]', '\"???\"[p=0.01, l=13.19]', '\" talk\"[p=0.01, l=13.12]', '\" (\"[p=0.01, l=13.06]', '\" unknown\"[p=0.01, l=12.94]']\n",
      "\n",
      "\" Andrey Rublev\" | cur_rng=(32, 36)\n",
      "token_idx=32 [\" And\"] => ['\"?\\n\"[p=0.07, l=11.06]', '\" And\"[p=0.06, l=10.88]', '\"?\"[p=0.03, l=10.38]', '\"?\\n\\n\"[p=0.03, l=10.31]', '\" and\"[p=0.03, l=10.12]', '\"??\"[p=0.02, l=10.00]', '\" \\n\"[p=0.02, l=9.88]', '\"...\"[p=0.02, l=9.88]', '\" (\"[p=0.02, l=9.69]', '\" so\"[p=0.02, l=9.62]', '\" lawyer\"[p=0.01, l=9.50]', '\"...\\n\\n\"[p=0.01, l=9.50]', '\"???\"[p=0.01, l=9.31]', '\"...\\n\"[p=0.01, l=9.25]', '\" you\"[p=0.01, l=9.00]']\n",
      "token_idx=33 [\"rey\"] => ['\" programmer\"[p=0.13, l=12.75]', '\" software\"[p=0.05, l=11.81]', '\"?\\n\"[p=0.03, l=11.19]', '\" tennis\"[p=0.03, l=11.12]', '\" mathematic\"[p=0.02, l=11.00]', '\" entrepreneur\"[p=0.02, l=10.94]', '\" engineer\"[p=0.02, l=10.81]', '\" chess\"[p=0.02, l=10.75]', '\" politician\"[p=0.02, l=10.62]', '\" computer\"[p=0.02, l=10.62]', '\" unknown\"[p=0.02, l=10.62]', '\" football\"[p=0.01, l=10.56]', '\" developer\"[p=0.01, l=10.50]', '\" artist\"[p=0.01, l=10.44]', '\"?\"[p=0.01, l=10.38]']\n",
      "token_idx=34 [\" Rub\"] => ['\"?\\n\"[p=0.07, l=10.75]', '\"??\"[p=0.05, l=10.38]', '\" artist\"[p=0.03, l=10.00]', '\"?\"[p=0.03, l=9.81]', '\" unknown\"[p=0.03, l=9.75]', '\"???\"[p=0.02, l=9.69]', '\"?\\n\\n\"[p=0.02, l=9.56]', '\" programmer\"[p=0.01, l=9.00]', '\" unclear\"[p=0.01, l=8.94]', '\" what\"[p=0.01, l=8.94]', '\" (\"[p=0.01, l=8.88]', '\" not\"[p=0.01, l=8.81]', '\" musician\"[p=0.01, l=8.75]', '\" politician\"[p=0.01, l=8.75]', '\" Rub\"[p=0.01, l=8.62]']\n",
      "token_idx=35 [\"lev\"] => ['\" tennis\"[p=0.24, l=14.31]', '\"?\\n\"[p=0.19, l=14.06]', '\"?\\n\\n\"[p=0.08, l=13.25]', '\"?\"[p=0.07, l=13.00]', '\"??\"[p=0.04, l=12.56]', '\" \\n\"[p=0.02, l=11.94]', '\" (\"[p=0.02, l=11.69]', '\"???\"[p=0.02, l=11.69]', '\" unknown\"[p=0.01, l=11.44]', '\" athlete\"[p=0.01, l=11.19]', '\" \"[p=0.01, l=11.12]', '\" politician\"[p=0.01, l=10.88]', '\" musician\"[p=0.01, l=10.88]', '\" what\"[p=0.01, l=10.75]', '\" artist\"[p=0.01, l=10.56]']\n",
      "\n",
      "\" Samuel L. Jackson\" | cur_rng=(37, 41)\n",
      "token_idx=37 [\" Samuel\"] => ['\" prophet\"[p=0.56, l=15.38]', '\" judge\"[p=0.03, l=12.44]', '\"?\\n\"[p=0.03, l=12.38]', '\" unknown\"[p=0.02, l=12.25]', '\" actor\"[p=0.02, l=11.94]', '\" biblical\"[p=0.01, l=11.75]', '\"??\"[p=0.01, l=11.75]', '\" Prophet\"[p=0.01, l=11.38]', '\"?\"[p=0.01, l=11.19]', '\" singer\"[p=0.01, l=11.12]', '\" no\"[p=0.01, l=11.00]', '\"???\"[p=0.01, l=11.00]', '\" (\"[p=0.01, l=10.75]', '\" musician\"[p=0.00, l=10.56]', '\" not\"[p=0.00, l=10.56]']\n",
      "token_idx=38 [\" L\"] => ['\"?\\n\"[p=0.10, l=12.44]', '\"??\"[p=0.07, l=12.06]', '\"?\"[p=0.05, l=11.81]', '\"???\"[p=0.05, l=11.75]', '\" actor\"[p=0.05, l=11.69]', '\"?\\n\\n\"[p=0.04, l=11.62]', '\" unknown\"[p=0.03, l=11.25]', '\" artist\"[p=0.02, l=10.94]', '\" software\"[p=0.02, l=10.88]', '\" (\"[p=0.02, l=10.88]', '\" Jackson\"[p=0.02, l=10.81]', '\" lawyer\"[p=0.01, l=10.56]', '\" singer\"[p=0.01, l=10.38]', '\" musician\"[p=0.01, l=10.31]', '\" computer\"[p=0.01, l=10.31]']\n",
      "token_idx=39 [\".\"] => ['\"?\\n\"[p=0.13, l=12.56]', '\"??\"[p=0.07, l=11.94]', '\"?\"[p=0.07, l=11.94]', '\"?\\n\\n\"[p=0.06, l=11.75]', '\"???\"[p=0.04, l=11.31]', '\" unknown\"[p=0.04, l=11.25]', '\" (\"[p=0.02, l=10.62]', '\" actor\"[p=0.02, l=10.62]', '\" lawyer\"[p=0.02, l=10.50]', '\" politician\"[p=0.02, l=10.44]', '\" artist\"[p=0.01, l=10.25]', '\" musician\"[p=0.01, l=10.19]', '\" singer\"[p=0.01, l=10.12]', '\" programmer\"[p=0.01, l=10.00]', '\" software\"[p=0.01, l=10.00]']\n",
      "token_idx=40 [\" Jackson\"] => ['\" actor\"[p=0.67, l=15.19]', '\"?\\n\"[p=0.03, l=12.00]', '\"??\"[p=0.02, l=11.56]', '\"?\"[p=0.02, l=11.50]', '\" singer\"[p=0.02, l=11.44]', '\" unknown\"[p=0.01, l=11.38]', '\" Jackson\"[p=0.01, l=11.06]', '\"???\"[p=0.01, l=10.88]', '\" politician\"[p=0.01, l=10.81]', '\" (\"[p=0.01, l=10.62]', '\"?\\n\\n\"[p=0.01, l=10.44]', '\" what\"[p=0.00, l=10.25]', '\" no\"[p=0.00, l=10.19]', '\" Actor\"[p=0.00, l=10.06]', '\" not\"[p=0.00, l=10.06]']\n",
      "======================================================================================================================================================\n",
      "\n",
      "layer='model.layers.51'\n",
      "\n",
      "\"Ans:\" | cur_rng=(-2, 0)\n",
      "token_idx=-2 [\"Ans\"] => ['\" Ans\"[p=0.03, l=9.44]', '\" entrepreneur\"[p=0.03, l=9.38]', '\" unknown\"[p=0.03, l=9.38]', '\" answer\"[p=0.02, l=9.19]', '\" artist\"[p=0.02, l=9.06]', '\" Answer\"[p=0.02, l=8.94]', '\"?\\n\"[p=0.01, l=8.69]', '\" Albert\"[p=0.01, l=8.56]', '\" \\n\"[p=0.01, l=8.56]', '\" computer\"[p=0.01, l=8.44]', '\" person\"[p=0.01, l=8.31]', '\" a\"[p=0.01, l=8.31]', '\" programmer\"[p=0.01, l=8.31]', '\" politician\"[p=0.01, l=8.25]', '\" engineer\"[p=0.01, l=8.19]']\n",
      "token_idx=-1 [\":\"] => ['\"?\\n\"[p=0.27, l=13.81]', '\"?\\n\\n\"[p=0.10, l=12.81]', '\" ->\"[p=0.04, l=12.00]', '\"?\"[p=0.04, l=11.94]', '\" actor\"[p=0.03, l=11.50]', '\" \\n\"[p=0.02, l=11.38]', '\" (\"[p=0.02, l=11.19]', '\" comedian\"[p=0.02, l=11.12]', '\" lawyer\"[p=0.02, l=11.12]', '\"??\"[p=0.01, l=10.81]', '\" politician\"[p=0.01, l=10.75]', '\" software\"[p=0.01, l=10.69]', '\" \"[p=0.01, l=10.62]', '\" artist\"[p=0.01, l=10.56]', '\" musician\"[p=0.01, l=10.44]']\n",
      "\n",
      "\" Trevor Noah\" | cur_rng=(13, 15)\n",
      "token_idx=13 [\" Trevor\"] => ['\"?\\n\"[p=0.09, l=12.50]', '\"??\"[p=0.06, l=12.00]', '\" software\"[p=0.05, l=11.81]', '\"???\"[p=0.04, l=11.69]', '\"?\"[p=0.04, l=11.56]', '\" unknown\"[p=0.03, l=11.50]', '\"?\\n\\n\"[p=0.03, l=11.44]', '\" actor\"[p=0.03, l=11.25]', '\" programmer\"[p=0.03, l=11.19]', '\" entrepreneur\"[p=0.02, l=10.81]', '\" data\"[p=0.02, l=10.81]', '\" musician\"[p=0.02, l=10.75]', '\" student\"[p=0.02, l=10.69]', '\" computer\"[p=0.01, l=10.38]', '\" singer\"[p=0.01, l=10.31]']\n",
      "token_idx=14 [\" Noah\"] => ['\" comedian\"[p=0.84, l=18.12]', '\"?\\n\"[p=0.03, l=14.69]', '\"?\\n\\n\"[p=0.01, l=13.62]', '\"??\"[p=0.01, l=13.50]', '\" (\"[p=0.01, l=13.44]', '\" actor\"[p=0.01, l=13.38]', '\"?\"[p=0.01, l=13.12]', '\" unknown\"[p=0.01, l=13.12]', '\" stand\"[p=0.01, l=13.06]', '\" Com\"[p=0.01, l=13.00]', '\" \\n\"[p=0.00, l=12.81]', '\"???\"[p=0.00, l=12.62]', '\" politician\"[p=0.00, l=12.44]', '\" \"[p=0.00, l=12.44]', '\" political\"[p=0.00, l=12.12]']\n",
      "\n",
      "\" Zion Williamson\" | cur_rng=(18, 20)\n",
      "token_idx=18 [\" Zion\"] => ['\"?\\n\"[p=0.08, l=12.19]', '\" singer\"[p=0.07, l=12.12]', '\" prophet\"[p=0.06, l=11.88]', '\" musician\"[p=0.06, l=11.88]', '\" unknown\"[p=0.06, l=11.88]', '\"??\"[p=0.05, l=11.81]', '\"?\"[p=0.02, l=10.94]', '\" no\"[p=0.02, l=10.88]', '\"???\"[p=0.02, l=10.81]', '\" politician\"[p=0.02, l=10.81]', '\" football\"[p=0.02, l=10.75]', '\" rapper\"[p=0.02, l=10.62]', '\" (\"[p=0.01, l=10.50]', '\" actor\"[p=0.01, l=10.50]', '\" not\"[p=0.01, l=10.19]']\n",
      "token_idx=19 [\" Williamson\"] => ['\" basketball\"[p=0.72, l=16.62]', '\"?\\n\"[p=0.03, l=13.50]', '\"??\"[p=0.02, l=13.19]', '\"?\"[p=0.02, l=12.81]', '\" football\"[p=0.01, l=12.56]', '\" professional\"[p=0.01, l=12.56]', '\" unknown\"[p=0.01, l=12.56]', '\" NBA\"[p=0.01, l=12.31]', '\"?\\n\\n\"[p=0.01, l=12.06]', '\"???\"[p=0.01, l=12.06]', '\" \\n\"[p=0.01, l=12.00]', '\" Basketball\"[p=0.01, l=12.00]', '\" athlete\"[p=0.01, l=11.94]', '\" (\"[p=0.01, l=11.94]', '\" politician\"[p=0.01, l=11.69]']\n",
      "\n",
      "\" John Mulaney\" | cur_rng=(21, 24)\n",
      "token_idx=21 [\" John\"] => ['\" unknown\"[p=0.08, l=12.75]', '\" politician\"[p=0.04, l=12.00]', '\"?\\n\"[p=0.04, l=11.94]', '\" actor\"[p=0.03, l=11.81]', '\" musician\"[p=0.02, l=11.50]', '\" evangel\"[p=0.02, l=11.50]', '\"?\"[p=0.02, l=11.44]', '\"??\"[p=0.02, l=11.44]', '\" no\"[p=0.02, l=11.44]', '\" software\"[p=0.02, l=11.31]', '\"???\"[p=0.02, l=11.12]', '\" lawyer\"[p=0.02, l=11.12]', '\" programmer\"[p=0.02, l=11.06]', '\" singer\"[p=0.02, l=11.06]', '\" pastor\"[p=0.01, l=11.00]']\n",
      "token_idx=22 [\" Mul\"] => ['\" singer\"[p=0.06, l=10.50]', '\" musician\"[p=0.05, l=10.38]', '\" unknown\"[p=0.04, l=10.06]', '\"?\\n\"[p=0.03, l=9.69]', '\" politician\"[p=0.02, l=9.62]', '\"??\"[p=0.02, l=9.50]', '\" actor\"[p=0.02, l=9.25]', '\"???\"[p=0.02, l=9.19]', '\" artist\"[p=0.01, l=9.12]', '\" programmer\"[p=0.01, l=8.88]', '\" (\"[p=0.01, l=8.88]', '\"?\"[p=0.01, l=8.81]', '\" computer\"[p=0.01, l=8.81]', '\" no\"[p=0.01, l=8.81]', '\" mathematic\"[p=0.01, l=8.75]']\n",
      "token_idx=23 [\"aney\"] => ['\" comedian\"[p=0.55, l=16.25]', '\"?\\n\"[p=0.12, l=14.75]', '\"?\\n\\n\"[p=0.06, l=14.00]', '\"??\"[p=0.04, l=13.50]', '\"?\"[p=0.02, l=13.12]', '\" actor\"[p=0.02, l=12.88]', '\"???\"[p=0.02, l=12.81]', '\" unknown\"[p=0.01, l=11.94]', '\" stand\"[p=0.01, l=11.88]', '\" politician\"[p=0.01, l=11.81]', '\" (\"[p=0.01, l=11.69]', '\" \\n\"[p=0.01, l=11.56]', '\" writer\"[p=0.01, l=11.56]', '\" lawyer\"[p=0.00, l=11.50]', '\" \"[p=0.00, l=11.50]']\n",
      "\n",
      "\" Ariana Grande\" | cur_rng=(25, 28)\n",
      "token_idx=25 [\" Ari\"] => ['\"?\\n\"[p=0.09, l=11.62]', '\" singer\"[p=0.04, l=10.88]', '\"??\"[p=0.03, l=10.69]', '\"?\"[p=0.03, l=10.62]', '\" unknown\"[p=0.03, l=10.50]', '\"?\\n\\n\"[p=0.03, l=10.50]', '\"???\"[p=0.02, l=10.38]', '\" artist\"[p=0.02, l=10.00]', '\" software\"[p=0.01, l=9.75]', '\" politician\"[p=0.01, l=9.75]', '\" musician\"[p=0.01, l=9.75]', '\" lawyer\"[p=0.01, l=9.62]', '\" comedian\"[p=0.01, l=9.31]', '\" (\"[p=0.01, l=9.25]', '\" \"[p=0.01, l=9.25]']\n",
      "token_idx=26 [\"ana\"] => ['\" singer\"[p=0.30, l=13.69]', '\"?\\n\"[p=0.12, l=12.75]', '\"?\"[p=0.06, l=12.06]', '\" unknown\"[p=0.05, l=11.81]', '\"?\\n\\n\"[p=0.04, l=11.62]', '\"??\"[p=0.03, l=11.44]', '\" pop\"[p=0.03, l=11.31]', '\" musician\"[p=0.02, l=10.94]', '\"???\"[p=0.02, l=10.69]', '\" artist\"[p=0.01, l=10.56]', '\" model\"[p=0.01, l=10.38]', '\" no\"[p=0.01, l=9.81]', '\" \\n\"[p=0.01, l=9.81]', '\" actress\"[p=0.01, l=9.75]', '\" (\"[p=0.01, l=9.75]']\n",
      "token_idx=27 [\" Grande\"] => ['\" singer\"[p=0.71, l=16.25]', '\"?\\n\"[p=0.07, l=13.94]', '\"?\\n\\n\"[p=0.02, l=12.88]', '\"?\"[p=0.02, l=12.81]', '\" musician\"[p=0.02, l=12.50]', '\" unknown\"[p=0.01, l=12.25]', '\"??\"[p=0.01, l=12.06]', '\" pop\"[p=0.01, l=11.81]', '\" \\n\"[p=0.01, l=11.62]', '\" artist\"[p=0.01, l=11.56]', '\" actress\"[p=0.01, l=11.50]', '\" Singer\"[p=0.01, l=11.31]', '\"???\"[p=0.00, l=11.25]', '\" music\"[p=0.00, l=11.19]', '\" (\"[p=0.00, l=10.94]']\n",
      "\n",
      "\" Joe Scarborough\" | cur_rng=(29, 31)\n",
      "token_idx=29 [\" Joe\"] => ['\" unknown\"[p=0.06, l=11.69]', '\"?\\n\"[p=0.06, l=11.62]', '\"??\"[p=0.04, l=11.19]', '\"?\"[p=0.04, l=11.12]', '\" politician\"[p=0.03, l=11.06]', '\"???\"[p=0.02, l=10.75]', '\" programmer\"[p=0.02, l=10.56]', '\" no\"[p=0.02, l=10.44]', '\"?\\n\\n\"[p=0.02, l=10.31]', '\" Joe\"[p=0.01, l=10.25]', '\" software\"[p=0.01, l=10.12]', '\" (\"[p=0.01, l=10.12]', '\" not\"[p=0.01, l=9.94]', '\" actor\"[p=0.01, l=9.94]', '\" nobody\"[p=0.01, l=9.88]']\n",
      "token_idx=30 [\" Scarborough\"] => ['\" journalist\"[p=0.25, l=16.12]', '\" TV\"[p=0.11, l=15.31]', '\" news\"[p=0.11, l=15.31]', '\" politician\"[p=0.10, l=15.25]', '\" political\"[p=0.05, l=14.62]', '\" television\"[p=0.05, l=14.56]', '\"?\\n\"[p=0.04, l=14.38]', '\"??\"[p=0.04, l=14.25]', '\"?\"[p=0.02, l=13.81]', '\"?\\n\\n\"[p=0.02, l=13.50]', '\" tv\"[p=0.02, l=13.50]', '\" (\"[p=0.01, l=13.06]', '\"???\"[p=0.01, l=13.06]', '\" unknown\"[p=0.01, l=13.06]', '\" talk\"[p=0.01, l=13.00]']\n",
      "\n",
      "\" Andrey Rublev\" | cur_rng=(32, 36)\n",
      "token_idx=32 [\" And\"] => ['\" And\"[p=0.05, l=10.38]', '\"?\\n\"[p=0.05, l=10.31]', '\" and\"[p=0.03, l=9.81]', '\"?\\n\\n\"[p=0.02, l=9.62]', '\"?\"[p=0.02, l=9.56]', '\"...\"[p=0.02, l=9.44]', '\" (\"[p=0.02, l=9.44]', '\" \\n\"[p=0.02, l=9.38]', '\"??\"[p=0.02, l=9.25]', '\" so\"[p=0.02, l=9.19]', '\"...\\n\\n\"[p=0.01, l=9.06]', '\" lawyer\"[p=0.01, l=9.00]', '\"...\\n\"[p=0.01, l=8.94]', '\" the\"[p=0.01, l=8.75]', '\" a\"[p=0.01, l=8.75]']\n",
      "token_idx=33 [\"rey\"] => ['\" programmer\"[p=0.13, l=12.75]', '\" software\"[p=0.06, l=11.94]', '\"?\\n\"[p=0.03, l=11.19]', '\" entrepreneur\"[p=0.03, l=11.12]', '\" tennis\"[p=0.02, l=11.06]', '\" engineer\"[p=0.02, l=10.94]', '\" politician\"[p=0.02, l=10.81]', '\" football\"[p=0.02, l=10.69]', '\" mathematic\"[p=0.02, l=10.69]', '\" unknown\"[p=0.02, l=10.62]', '\" developer\"[p=0.01, l=10.56]', '\" computer\"[p=0.01, l=10.56]', '\" actor\"[p=0.01, l=10.50]', '\" chess\"[p=0.01, l=10.44]', '\" artist\"[p=0.01, l=10.44]']\n",
      "token_idx=34 [\" Rub\"] => ['\"?\\n\"[p=0.07, l=10.94]', '\"??\"[p=0.05, l=10.50]', '\" artist\"[p=0.03, l=10.06]', '\"?\"[p=0.03, l=10.00]', '\" unknown\"[p=0.03, l=9.88]', '\"???\"[p=0.02, l=9.81]', '\"?\\n\\n\"[p=0.02, l=9.62]', '\" musician\"[p=0.01, l=9.19]', '\" what\"[p=0.01, l=9.12]', '\" programmer\"[p=0.01, l=9.00]', '\" (\"[p=0.01, l=9.00]', '\" Rub\"[p=0.01, l=9.00]', '\" poker\"[p=0.01, l=8.94]', '\" politician\"[p=0.01, l=8.94]', '\" chess\"[p=0.01, l=8.88]']\n",
      "token_idx=35 [\"lev\"] => ['\"?\\n\"[p=0.19, l=13.81]', '\" tennis\"[p=0.17, l=13.69]', '\"?\\n\\n\"[p=0.10, l=13.12]', '\"?\"[p=0.06, l=12.69]', '\"??\"[p=0.05, l=12.44]', '\" \\n\"[p=0.02, l=11.62]', '\"???\"[p=0.02, l=11.56]', '\" (\"[p=0.02, l=11.50]', '\" politician\"[p=0.01, l=11.00]', '\" unknown\"[p=0.01, l=10.94]', '\" athlete\"[p=0.01, l=10.88]', '\" \"[p=0.01, l=10.75]', '\" musician\"[p=0.01, l=10.75]', '\" lawyer\"[p=0.01, l=10.75]', '\" artist\"[p=0.01, l=10.69]']\n",
      "\n",
      "\" Samuel L. Jackson\" | cur_rng=(37, 41)\n",
      "token_idx=37 [\" Samuel\"] => ['\" prophet\"[p=0.50, l=15.00]', '\"?\\n\"[p=0.04, l=12.38]', '\" unknown\"[p=0.03, l=12.19]', '\" judge\"[p=0.02, l=11.88]', '\"??\"[p=0.02, l=11.75]', '\" actor\"[p=0.02, l=11.69]', '\" biblical\"[p=0.02, l=11.56]', '\" Prophet\"[p=0.01, l=11.12]', '\"?\"[p=0.01, l=11.12]', '\"???\"[p=0.01, l=11.06]', '\" no\"[p=0.01, l=10.81]', '\" singer\"[p=0.01, l=10.69]', '\" (\"[p=0.01, l=10.56]', '\" not\"[p=0.01, l=10.50]', '\" philosopher\"[p=0.00, l=10.38]']\n",
      "token_idx=38 [\" L\"] => ['\"?\\n\"[p=0.15, l=12.81]', '\"??\"[p=0.07, l=12.06]', '\"?\"[p=0.07, l=12.00]', '\"?\\n\\n\"[p=0.06, l=11.88]', '\"???\"[p=0.05, l=11.62]', '\" software\"[p=0.02, l=11.00]', '\" lawyer\"[p=0.02, l=11.00]', '\" unknown\"[p=0.02, l=10.81]', '\" (\"[p=0.02, l=10.62]', '\" artist\"[p=0.02, l=10.56]', '\" \\n\"[p=0.01, l=10.44]', '\" actor\"[p=0.01, l=10.31]', '\" your\"[p=0.01, l=10.25]', '\" L\"[p=0.01, l=10.25]', '\" \"[p=0.01, l=10.19]']\n",
      "token_idx=39 [\".\"] => ['\"?\\n\"[p=0.19, l=13.25]', '\"?\"[p=0.08, l=12.44]', '\"?\\n\\n\"[p=0.08, l=12.38]', '\"??\"[p=0.07, l=12.31]', '\"???\"[p=0.03, l=11.50]', '\" unknown\"[p=0.03, l=11.25]', '\" lawyer\"[p=0.03, l=11.25]', '\" (\"[p=0.02, l=10.94]', '\" software\"[p=0.01, l=10.56]', '\" artist\"[p=0.01, l=10.56]', '\" \\n\"[p=0.01, l=10.50]', '\" \"[p=0.01, l=10.31]', '\" actor\"[p=0.01, l=10.31]', '\" your\"[p=0.01, l=10.25]', '\" programmer\"[p=0.01, l=10.19]']\n",
      "token_idx=40 [\" Jackson\"] => ['\" actor\"[p=0.59, l=14.94]', '\"?\\n\"[p=0.04, l=12.25]', '\"??\"[p=0.03, l=12.00]', '\"?\"[p=0.03, l=11.81]', '\" singer\"[p=0.02, l=11.56]', '\" unknown\"[p=0.02, l=11.56]', '\"???\"[p=0.02, l=11.31]', '\" Jackson\"[p=0.01, l=11.12]', '\"?\\n\\n\"[p=0.01, l=11.12]', '\" (\"[p=0.01, l=10.75]', '\" politician\"[p=0.01, l=10.62]', '\" no\"[p=0.01, l=10.19]', '\" what\"[p=0.01, l=10.19]', '\" not\"[p=0.00, l=10.06]', '\" \"[p=0.00, l=9.88]']\n",
      "======================================================================================================================================================\n",
      "\n",
      "layer='model.layers.54'\n",
      "\n",
      "\"Ans:\" | cur_rng=(-2, 0)\n",
      "token_idx=-2 [\"Ans\"] => ['\" unknown\"[p=0.04, l=9.75]', '\" Ans\"[p=0.03, l=9.38]', '\" entrepreneur\"[p=0.02, l=9.31]', '\" artist\"[p=0.02, l=9.31]', '\" answer\"[p=0.02, l=9.12]', '\"?\\n\"[p=0.02, l=8.88]', '\" Answer\"[p=0.01, l=8.75]', '\" \\n\"[p=0.01, l=8.56]', '\" no\"[p=0.01, l=8.50]', '\" computer\"[p=0.01, l=8.44]', '\" programmer\"[p=0.01, l=8.44]', '\" person\"[p=0.01, l=8.38]', '\" Albert\"[p=0.01, l=8.31]', '\" (\"[p=0.01, l=8.31]', '\" politician\"[p=0.01, l=8.31]']\n",
      "token_idx=-1 [\":\"] => ['\"?\\n\"[p=0.30, l=13.94]', '\"?\\n\\n\"[p=0.11, l=12.94]', '\"?\"[p=0.06, l=12.38]', '\" ->\"[p=0.06, l=12.31]', '\" ->\\n\"[p=0.02, l=11.25]', '\" \\n\"[p=0.02, l=11.19]', '\" comedian\"[p=0.02, l=11.19]', '\" (\"[p=0.02, l=11.06]', '\" your\"[p=0.02, l=11.00]', '\"??\"[p=0.01, l=10.75]', '\" actor\"[p=0.01, l=10.69]', '\" lawyer\"[p=0.01, l=10.62]', '\" \"[p=0.01, l=10.56]', '\" unknown\"[p=0.01, l=10.44]', '\" software\"[p=0.01, l=9.88]']\n",
      "\n",
      "\" Trevor Noah\" | cur_rng=(13, 15)\n",
      "token_idx=13 [\" Trevor\"] => ['\"?\\n\"[p=0.09, l=12.50]', '\"??\"[p=0.06, l=12.00]', '\" software\"[p=0.05, l=11.88]', '\"???\"[p=0.04, l=11.69]', '\"?\"[p=0.04, l=11.62]', '\" unknown\"[p=0.04, l=11.56]', '\" actor\"[p=0.03, l=11.50]', '\"?\\n\\n\"[p=0.03, l=11.44]', '\" programmer\"[p=0.02, l=11.19]', '\" musician\"[p=0.02, l=10.88]', '\" entrepreneur\"[p=0.02, l=10.88]', '\" data\"[p=0.02, l=10.81]', '\" student\"[p=0.01, l=10.62]', '\" singer\"[p=0.01, l=10.50]', '\" computer\"[p=0.01, l=10.44]']\n",
      "token_idx=14 [\" Noah\"] => ['\" comedian\"[p=0.75, l=17.12]', '\"?\\n\"[p=0.05, l=14.44]', '\"?\\n\\n\"[p=0.02, l=13.50]', '\" unknown\"[p=0.01, l=13.06]', '\"??\"[p=0.01, l=13.00]', '\" (\"[p=0.01, l=12.88]', '\" actor\"[p=0.01, l=12.81]', '\"?\"[p=0.01, l=12.62]', '\" \\n\"[p=0.01, l=12.38]', '\" stand\"[p=0.01, l=12.12]', '\"???\"[p=0.00, l=12.06]', '\" Com\"[p=0.00, l=11.94]', '\" politician\"[p=0.00, l=11.81]', '\" talk\"[p=0.00, l=11.81]', '\" \"[p=0.00, l=11.62]']\n",
      "\n",
      "\" Zion Williamson\" | cur_rng=(18, 20)\n",
      "token_idx=18 [\" Zion\"] => ['\"?\\n\"[p=0.07, l=12.00]', '\" singer\"[p=0.07, l=12.00]', '\" prophet\"[p=0.06, l=11.88]', '\" musician\"[p=0.06, l=11.88]', '\" unknown\"[p=0.06, l=11.81]', '\"??\"[p=0.05, l=11.69]', '\" rapper\"[p=0.02, l=10.88]', '\"?\"[p=0.02, l=10.81]', '\" no\"[p=0.02, l=10.69]', '\"???\"[p=0.02, l=10.69]', '\" football\"[p=0.02, l=10.56]', '\" politician\"[p=0.01, l=10.50]', '\" (\"[p=0.01, l=10.44]', '\" actor\"[p=0.01, l=10.25]', '\" not\"[p=0.01, l=10.12]']\n",
      "token_idx=19 [\" Williamson\"] => ['\" basketball\"[p=0.76, l=16.88]', '\"?\\n\"[p=0.03, l=13.62]', '\"??\"[p=0.02, l=13.38]', '\"?\"[p=0.02, l=13.06]', '\" unknown\"[p=0.01, l=12.88]', '\" professional\"[p=0.01, l=12.56]', '\" NBA\"[p=0.01, l=12.44]', '\"???\"[p=0.01, l=12.25]', '\"?\\n\\n\"[p=0.01, l=12.25]', '\" football\"[p=0.01, l=12.06]', '\" athlete\"[p=0.01, l=12.06]', '\" (\"[p=0.01, l=12.06]', '\" Basketball\"[p=0.01, l=12.06]', '\" \\n\"[p=0.01, l=12.00]', '\" \"[p=0.00, l=11.69]']\n",
      "\n",
      "\" John Mulaney\" | cur_rng=(21, 24)\n",
      "token_idx=21 [\" John\"] => ['\" unknown\"[p=0.08, l=12.62]', '\"?\\n\"[p=0.04, l=11.94]', '\" politician\"[p=0.04, l=11.81]', '\" evangel\"[p=0.03, l=11.44]', '\" no\"[p=0.02, l=11.38]', '\"??\"[p=0.02, l=11.38]', '\" actor\"[p=0.02, l=11.31]', '\"?\"[p=0.02, l=11.31]', '\" software\"[p=0.02, l=11.25]', '\" musician\"[p=0.02, l=11.25]', '\"???\"[p=0.02, l=11.06]', '\" programmer\"[p=0.02, l=11.06]', '\" singer\"[p=0.01, l=10.88]', '\" lawyer\"[p=0.01, l=10.75]', '\" (\"[p=0.01, l=10.75]']\n",
      "token_idx=22 [\" Mul\"] => ['\" unknown\"[p=0.05, l=10.38]', '\" singer\"[p=0.03, l=9.88]', '\"?\\n\"[p=0.03, l=9.81]', '\"??\"[p=0.03, l=9.75]', '\" musician\"[p=0.02, l=9.69]', '\" politician\"[p=0.02, l=9.56]', '\"???\"[p=0.02, l=9.50]', '\" actor\"[p=0.02, l=9.44]', '\" artist\"[p=0.02, l=9.25]', '\" programmer\"[p=0.02, l=9.25]', '\" farmer\"[p=0.01, l=9.12]', '\" no\"[p=0.01, l=9.00]', '\"?\"[p=0.01, l=8.94]', '\" (\"[p=0.01, l=8.94]', '\" computer\"[p=0.01, l=8.88]']\n",
      "token_idx=23 [\"aney\"] => ['\" comedian\"[p=0.54, l=16.25]', '\"?\\n\"[p=0.13, l=14.81]', '\"?\\n\\n\"[p=0.06, l=14.00]', '\"??\"[p=0.03, l=13.50]', '\"?\"[p=0.03, l=13.31]', '\" actor\"[p=0.02, l=12.94]', '\"???\"[p=0.02, l=12.81]', '\" unknown\"[p=0.01, l=12.19]', '\" (\"[p=0.01, l=11.88]', '\" stand\"[p=0.01, l=11.88]', '\" politician\"[p=0.01, l=11.88]', '\" \\n\"[p=0.01, l=11.69]', '\" \"[p=0.01, l=11.62]', '\" lawyer\"[p=0.00, l=11.56]', '\" writer\"[p=0.00, l=11.56]']\n",
      "\n",
      "\" Ariana Grande\" | cur_rng=(25, 28)\n",
      "token_idx=25 [\" Ari\"] => ['\"?\\n\"[p=0.08, l=11.56]', '\" singer\"[p=0.04, l=10.94]', '\"??\"[p=0.03, l=10.69]', '\" unknown\"[p=0.03, l=10.56]', '\"?\"[p=0.03, l=10.56]', '\"?\\n\\n\"[p=0.03, l=10.50]', '\"???\"[p=0.02, l=10.31]', '\" artist\"[p=0.02, l=10.06]', '\" musician\"[p=0.01, l=9.81]', '\" software\"[p=0.01, l=9.75]', '\" politician\"[p=0.01, l=9.75]', '\" lawyer\"[p=0.01, l=9.69]', '\" comedian\"[p=0.01, l=9.38]', '\" (\"[p=0.01, l=9.25]', '\" \"[p=0.01, l=9.25]']\n",
      "token_idx=26 [\"ana\"] => ['\" singer\"[p=0.33, l=13.81]', '\"?\\n\"[p=0.11, l=12.69]', '\"?\"[p=0.06, l=12.06]', '\" unknown\"[p=0.04, l=11.75]', '\"?\\n\\n\"[p=0.04, l=11.62]', '\"??\"[p=0.03, l=11.44]', '\" pop\"[p=0.03, l=11.44]', '\" musician\"[p=0.02, l=11.00]', '\"???\"[p=0.02, l=10.75]', '\" artist\"[p=0.01, l=10.50]', '\" model\"[p=0.01, l=10.44]', '\" \\n\"[p=0.01, l=9.81]', '\" actress\"[p=0.01, l=9.81]', '\" no\"[p=0.01, l=9.75]', '\" (\"[p=0.01, l=9.75]']\n",
      "token_idx=27 [\" Grande\"] => ['\" singer\"[p=0.57, l=15.38]', '\"?\\n\"[p=0.10, l=13.62]', '\"?\\n\\n\"[p=0.04, l=12.69]', '\"?\"[p=0.03, l=12.56]', '\" musician\"[p=0.02, l=12.00]', '\"??\"[p=0.02, l=11.88]', '\" unknown\"[p=0.02, l=11.81]', '\" artist\"[p=0.01, l=11.25]', '\" actress\"[p=0.01, l=11.19]', '\" \\n\"[p=0.01, l=11.19]', '\" pop\"[p=0.01, l=11.12]', '\"???\"[p=0.01, l=11.06]', '\" music\"[p=0.01, l=10.75]', '\" actor\"[p=0.00, l=10.62]', '\" (\"[p=0.00, l=10.62]']\n",
      "\n",
      "\" Joe Scarborough\" | cur_rng=(29, 31)\n",
      "token_idx=29 [\" Joe\"] => ['\"?\\n\"[p=0.06, l=11.50]', '\" unknown\"[p=0.06, l=11.44]', '\"??\"[p=0.04, l=11.00]', '\" politician\"[p=0.03, l=10.88]', '\"?\"[p=0.03, l=10.81]', '\"???\"[p=0.03, l=10.62]', '\" programmer\"[p=0.02, l=10.38]', '\" no\"[p=0.02, l=10.31]', '\" Joe\"[p=0.02, l=10.19]', '\"?\\n\\n\"[p=0.02, l=10.12]', '\" (\"[p=0.01, l=9.94]', '\" software\"[p=0.01, l=9.88]', '\" nobody\"[p=0.01, l=9.75]', '\" not\"[p=0.01, l=9.75]', '\" president\"[p=0.01, l=9.69]']\n",
      "token_idx=30 [\" Scarborough\"] => ['\" journalist\"[p=0.26, l=16.25]', '\" news\"[p=0.12, l=15.44]', '\" TV\"[p=0.11, l=15.38]', '\" politician\"[p=0.10, l=15.31]', '\" political\"[p=0.07, l=14.88]', '\" television\"[p=0.05, l=14.50]', '\"?\\n\"[p=0.04, l=14.38]', '\"??\"[p=0.03, l=14.06]', '\"?\"[p=0.02, l=13.69]', '\" tv\"[p=0.02, l=13.56]', '\"?\\n\\n\"[p=0.02, l=13.44]', '\" talk\"[p=0.01, l=13.31]', '\" (\"[p=0.01, l=13.06]', '\" unknown\"[p=0.01, l=12.88]', '\"???\"[p=0.01, l=12.81]']\n",
      "\n",
      "\" Andrey Rublev\" | cur_rng=(32, 36)\n",
      "token_idx=32 [\" And\"] => ['\"?\\n\"[p=0.09, l=11.25]', '\"?\"[p=0.05, l=10.56]', '\"?\\n\\n\"[p=0.04, l=10.44]', '\"??\"[p=0.04, l=10.31]', '\" And\"[p=0.04, l=10.31]', '\"...\"[p=0.02, l=9.81]', '\" \\n\"[p=0.02, l=9.75]', '\" (\"[p=0.02, l=9.62]', '\"???\"[p=0.02, l=9.50]', '\" and\"[p=0.02, l=9.50]', '\" lawyer\"[p=0.01, l=9.38]', '\"...\\n\\n\"[p=0.01, l=9.12]', '\"...\\n\"[p=0.01, l=9.00]', '\" what\"[p=0.01, l=8.94]', '\" you\"[p=0.01, l=8.88]']\n",
      "token_idx=33 [\"rey\"] => ['\" programmer\"[p=0.12, l=12.69]', '\" software\"[p=0.06, l=12.00]', '\" entrepreneur\"[p=0.03, l=11.31]', '\"?\\n\"[p=0.03, l=11.19]', '\" football\"[p=0.03, l=11.19]', '\" tennis\"[p=0.02, l=11.12]', '\" politician\"[p=0.02, l=11.06]', '\" engineer\"[p=0.02, l=10.88]', '\" developer\"[p=0.02, l=10.75]', '\" actor\"[p=0.02, l=10.69]', '\" soccer\"[p=0.01, l=10.62]', '\" unknown\"[p=0.01, l=10.50]', '\" artist\"[p=0.01, l=10.50]', '\" mathematic\"[p=0.01, l=10.44]', '\" computer\"[p=0.01, l=10.44]']\n",
      "token_idx=34 [\" Rub\"] => ['\"?\\n\"[p=0.07, l=10.75]', '\"??\"[p=0.04, l=10.25]', '\" artist\"[p=0.03, l=9.94]', '\" unknown\"[p=0.03, l=9.81]', '\"?\"[p=0.02, l=9.69]', '\"???\"[p=0.02, l=9.44]', '\"?\\n\\n\"[p=0.02, l=9.25]', '\" musician\"[p=0.01, l=9.12]', '\" programmer\"[p=0.01, l=9.12]', '\" Rub\"[p=0.01, l=9.00]', '\" chess\"[p=0.01, l=9.00]', '\" what\"[p=0.01, l=9.00]', '\" DJ\"[p=0.01, l=8.88]', '\" poker\"[p=0.01, l=8.81]', '\" (\"[p=0.01, l=8.69]']\n",
      "token_idx=35 [\"lev\"] => ['\"?\\n\"[p=0.20, l=13.62]', '\" tennis\"[p=0.11, l=13.06]', '\"?\\n\\n\"[p=0.09, l=12.81]', '\"?\"[p=0.06, l=12.38]', '\"??\"[p=0.05, l=12.19]', '\" \\n\"[p=0.02, l=11.50]', '\"???\"[p=0.02, l=11.31]', '\" (\"[p=0.02, l=11.25]', '\" politician\"[p=0.02, l=11.12]', '\" lawyer\"[p=0.01, l=11.00]', '\" artist\"[p=0.01, l=10.75]', '\" athlete\"[p=0.01, l=10.69]', '\" unknown\"[p=0.01, l=10.62]', '\" actor\"[p=0.01, l=10.62]', '\" musician\"[p=0.01, l=10.56]']\n",
      "\n",
      "\" Samuel L. Jackson\" | cur_rng=(37, 41)\n",
      "token_idx=37 [\" Samuel\"] => ['\" prophet\"[p=0.41, l=14.50]', '\"?\\n\"[p=0.06, l=12.56]', '\" unknown\"[p=0.04, l=12.25]', '\"??\"[p=0.03, l=11.81]', '\"?\"[p=0.02, l=11.31]', '\"???\"[p=0.02, l=11.25]', '\" actor\"[p=0.02, l=11.19]', '\" judge\"[p=0.01, l=11.12]', '\" biblical\"[p=0.01, l=11.06]', '\" Prophet\"[p=0.01, l=10.81]', '\" no\"[p=0.01, l=10.69]', '\" (\"[p=0.01, l=10.44]', '\"?\\n\\n\"[p=0.01, l=10.44]', '\" singer\"[p=0.01, l=10.38]', '\" not\"[p=0.01, l=10.38]']\n",
      "token_idx=38 [\" L\"] => ['\"?\\n\"[p=0.17, l=13.06]', '\"?\"[p=0.08, l=12.25]', '\"?\\n\\n\"[p=0.07, l=12.19]', '\"??\"[p=0.07, l=12.12]', '\"???\"[p=0.04, l=11.62]', '\" lawyer\"[p=0.02, l=11.12]', '\" software\"[p=0.02, l=11.06]', '\" \\n\"[p=0.02, l=10.69]', '\" (\"[p=0.01, l=10.56]', '\" artist\"[p=0.01, l=10.44]', '\" unknown\"[p=0.01, l=10.38]', '\" \"[p=0.01, l=10.31]', '\" your\"[p=0.01, l=10.25]', '\" computer\"[p=0.01, l=10.19]', '\" L\"[p=0.01, l=10.06]']\n",
      "token_idx=39 [\".\"] => ['\"?\\n\"[p=0.22, l=13.56]', '\"?\\n\\n\"[p=0.09, l=12.69]', '\"?\"[p=0.09, l=12.62]', '\"??\"[p=0.06, l=12.31]', '\" lawyer\"[p=0.03, l=11.50]', '\"???\"[p=0.03, l=11.50]', '\" unknown\"[p=0.02, l=11.00]', '\" (\"[p=0.02, l=10.94]', '\" software\"[p=0.02, l=10.88]', '\" \\n\"[p=0.02, l=10.88]', '\" \"[p=0.01, l=10.56]', '\" artist\"[p=0.01, l=10.56]', '\" programmer\"[p=0.01, l=10.25]', '\" computer\"[p=0.01, l=10.25]', '\" your\"[p=0.01, l=10.19]']\n",
      "token_idx=40 [\" Jackson\"] => ['\" actor\"[p=0.42, l=14.12]', '\"?\\n\"[p=0.06, l=12.12]', '\"??\"[p=0.05, l=12.00]', '\"?\"[p=0.04, l=11.69]', '\" unknown\"[p=0.03, l=11.44]', '\"???\"[p=0.03, l=11.31]', '\" singer\"[p=0.03, l=11.31]', '\"?\\n\\n\"[p=0.02, l=11.19]', '\" Jackson\"[p=0.02, l=11.00]', '\" (\"[p=0.01, l=10.50]', '\" politician\"[p=0.01, l=10.44]', '\" no\"[p=0.01, l=10.00]', '\" what\"[p=0.01, l=9.88]', '\" not\"[p=0.01, l=9.81]', '\" \"[p=0.00, l=9.62]']\n",
      "======================================================================================================================================================\n",
      "\n",
      "layer='model.layers.57'\n",
      "\n",
      "\"Ans:\" | cur_rng=(-2, 0)\n",
      "token_idx=-2 [\"Ans\"] => ['\" unknown\"[p=0.06, l=10.31]', '\" artist\"[p=0.03, l=9.56]', '\" Ans\"[p=0.02, l=9.25]', '\"?\\n\"[p=0.02, l=9.12]', '\" answer\"[p=0.02, l=9.00]', '\" entrepreneur\"[p=0.02, l=9.00]', '\" (\"[p=0.01, l=8.81]', '\" no\"[p=0.01, l=8.69]', '\" \\n\"[p=0.01, l=8.69]', '\" programmer\"[p=0.01, l=8.62]', '\" actor\"[p=0.01, l=8.62]', '\" computer\"[p=0.01, l=8.56]', '\" politician\"[p=0.01, l=8.50]', '\" person\"[p=0.01, l=8.50]', '\" not\"[p=0.01, l=8.38]']\n",
      "token_idx=-1 [\":\"] => ['\"?\\n\"[p=0.12, l=12.00]', '\" ->\"[p=0.09, l=11.69]', '\"?\\n\\n\"[p=0.05, l=11.06]', '\" ->\\n\"[p=0.04, l=10.81]', '\"?\"[p=0.04, l=10.81]', '\" (\"[p=0.03, l=10.62]', '\" comedian\"[p=0.03, l=10.62]', '\" \\n\"[p=0.02, l=10.31]', '\" unknown\"[p=0.02, l=10.19]', '\" your\"[p=0.01, l=9.75]', '\" empty\"[p=0.01, l=9.56]', '\"??\"[p=0.01, l=9.56]', '\" actor\"[p=0.01, l=9.50]', '\" input\"[p=0.01, l=9.38]', '\" \"[p=0.01, l=9.38]']\n",
      "\n",
      "\" Trevor Noah\" | cur_rng=(13, 15)\n",
      "token_idx=13 [\" Trevor\"] => ['\"?\\n\"[p=0.10, l=12.62]', '\"??\"[p=0.05, l=11.94]', '\" software\"[p=0.05, l=11.94]', '\"???\"[p=0.04, l=11.62]', '\"?\"[p=0.04, l=11.62]', '\" unknown\"[p=0.04, l=11.62]', '\"?\\n\\n\"[p=0.03, l=11.50]', '\" actor\"[p=0.03, l=11.44]', '\" programmer\"[p=0.02, l=11.12]', '\" entrepreneur\"[p=0.02, l=11.06]', '\" data\"[p=0.02, l=10.88]', '\" musician\"[p=0.02, l=10.81]', '\" student\"[p=0.02, l=10.75]', '\" politician\"[p=0.01, l=10.56]', '\" singer\"[p=0.01, l=10.50]']\n",
      "token_idx=14 [\" Noah\"] => ['\" comedian\"[p=0.66, l=16.50]', '\"?\\n\"[p=0.07, l=14.31]', '\"?\\n\\n\"[p=0.03, l=13.31]', '\" unknown\"[p=0.02, l=12.88]', '\"??\"[p=0.02, l=12.81]', '\" actor\"[p=0.01, l=12.62]', '\" (\"[p=0.01, l=12.56]', '\"?\"[p=0.01, l=12.50]', '\" \\n\"[p=0.01, l=12.06]', '\"???\"[p=0.01, l=11.81]', '\" politician\"[p=0.01, l=11.69]', '\" stand\"[p=0.01, l=11.62]', '\" journalist\"[p=0.01, l=11.62]', '\" talk\"[p=0.00, l=11.56]', '\" Com\"[p=0.00, l=11.38]']\n",
      "\n",
      "\" Zion Williamson\" | cur_rng=(18, 20)\n",
      "token_idx=18 [\" Zion\"] => ['\"?\\n\"[p=0.07, l=11.94]', '\" singer\"[p=0.07, l=11.94]', '\" prophet\"[p=0.06, l=11.81]', '\" musician\"[p=0.06, l=11.81]', '\" unknown\"[p=0.06, l=11.81]', '\"??\"[p=0.04, l=11.56]', '\" rapper\"[p=0.02, l=10.81]', '\"?\"[p=0.02, l=10.75]', '\" no\"[p=0.02, l=10.69]', '\"???\"[p=0.02, l=10.56]', '\" football\"[p=0.01, l=10.38]', '\" (\"[p=0.01, l=10.38]', '\" politician\"[p=0.01, l=10.31]', '\" actor\"[p=0.01, l=10.19]', '\" not\"[p=0.01, l=10.12]']\n",
      "token_idx=19 [\" Williamson\"] => ['\" basketball\"[p=0.70, l=16.38]', '\"?\\n\"[p=0.03, l=13.25]', '\"??\"[p=0.03, l=13.12]', '\" unknown\"[p=0.02, l=12.81]', '\"?\"[p=0.02, l=12.69]', '\" professional\"[p=0.01, l=12.31]', '\" NBA\"[p=0.01, l=12.25]', '\"???\"[p=0.01, l=12.06]', '\" athlete\"[p=0.01, l=12.06]', '\" Basketball\"[p=0.01, l=11.88]', '\" \\n\"[p=0.01, l=11.81]', '\" (\"[p=0.01, l=11.81]', '\"?\\n\\n\"[p=0.01, l=11.81]', '\" football\"[p=0.01, l=11.75]', '\" \"[p=0.00, l=11.38]']\n",
      "\n",
      "\" John Mulaney\" | cur_rng=(21, 24)\n",
      "token_idx=21 [\" John\"] => ['\" unknown\"[p=0.08, l=12.50]', '\"?\\n\"[p=0.04, l=11.81]', '\" politician\"[p=0.03, l=11.62]', '\" actor\"[p=0.02, l=11.25]', '\"??\"[p=0.02, l=11.25]', '\" musician\"[p=0.02, l=11.19]', '\" software\"[p=0.02, l=11.19]', '\" programmer\"[p=0.02, l=11.12]', '\" evangel\"[p=0.02, l=11.12]', '\" no\"[p=0.02, l=11.12]', '\"?\"[p=0.02, l=11.06]', '\"???\"[p=0.02, l=10.94]', '\" singer\"[p=0.02, l=10.81]', '\" pastor\"[p=0.01, l=10.69]', '\" (\"[p=0.01, l=10.62]']\n",
      "token_idx=22 [\" Mul\"] => ['\" unknown\"[p=0.05, l=10.25]', '\"?\\n\"[p=0.03, l=9.56]', '\"??\"[p=0.02, l=9.44]', '\" singer\"[p=0.02, l=9.44]', '\" programmer\"[p=0.02, l=9.31]', '\" politician\"[p=0.02, l=9.31]', '\" musician\"[p=0.02, l=9.25]', '\"???\"[p=0.02, l=9.06]', '\" actor\"[p=0.01, l=8.94]', '\" artist\"[p=0.01, l=8.88]', '\" (\"[p=0.01, l=8.81]', '\" no\"[p=0.01, l=8.81]', '\" computer\"[p=0.01, l=8.75]', '\" mathematic\"[p=0.01, l=8.69]', '\" not\"[p=0.01, l=8.69]']\n",
      "token_idx=23 [\"aney\"] => ['\" comedian\"[p=0.48, l=15.81]', '\"?\\n\"[p=0.14, l=14.56]', '\"?\\n\\n\"[p=0.06, l=13.69]', '\"??\"[p=0.04, l=13.25]', '\"?\"[p=0.03, l=13.12]', '\" actor\"[p=0.02, l=12.69]', '\"???\"[p=0.02, l=12.50]', '\" unknown\"[p=0.01, l=12.25]', '\" politician\"[p=0.01, l=11.81]', '\" (\"[p=0.01, l=11.75]', '\" stand\"[p=0.01, l=11.44]', '\" \\n\"[p=0.01, l=11.44]', '\" lawyer\"[p=0.01, l=11.44]', '\" writer\"[p=0.01, l=11.38]', '\" \"[p=0.01, l=11.38]']\n",
      "\n",
      "\" Ariana Grande\" | cur_rng=(25, 28)\n",
      "token_idx=25 [\" Ari\"] => ['\"?\\n\"[p=0.09, l=11.56]', '\"??\"[p=0.04, l=10.69]', '\" unknown\"[p=0.03, l=10.56]', '\" singer\"[p=0.03, l=10.50]', '\"?\"[p=0.03, l=10.50]', '\"?\\n\\n\"[p=0.03, l=10.44]', '\"???\"[p=0.03, l=10.31]', '\" artist\"[p=0.02, l=9.81]', '\" software\"[p=0.01, l=9.75]', '\" politician\"[p=0.01, l=9.69]', '\" lawyer\"[p=0.01, l=9.50]', '\" musician\"[p=0.01, l=9.44]', '\" (\"[p=0.01, l=9.25]', '\" \"[p=0.01, l=9.19]', '\" comedian\"[p=0.01, l=9.12]']\n",
      "token_idx=26 [\"ana\"] => ['\" singer\"[p=0.33, l=13.81]', '\"?\\n\"[p=0.11, l=12.75]', '\"?\"[p=0.05, l=12.00]', '\" unknown\"[p=0.04, l=11.69]', '\" pop\"[p=0.03, l=11.50]', '\"?\\n\\n\"[p=0.03, l=11.50]', '\"??\"[p=0.03, l=11.44]', '\" musician\"[p=0.02, l=11.06]', '\"???\"[p=0.01, l=10.69]', '\" model\"[p=0.01, l=10.56]', '\" artist\"[p=0.01, l=10.44]', '\" \\n\"[p=0.01, l=9.75]', '\" actress\"[p=0.01, l=9.75]', '\" (\"[p=0.01, l=9.75]', '\" \"[p=0.01, l=9.62]']\n",
      "token_idx=27 [\" Grande\"] => ['\" singer\"[p=0.39, l=14.50]', '\"?\\n\"[p=0.15, l=13.50]', '\"?\\n\\n\"[p=0.06, l=12.62]', '\"?\"[p=0.05, l=12.38]', '\"??\"[p=0.02, l=11.69]', '\" unknown\"[p=0.02, l=11.69]', '\" musician\"[p=0.02, l=11.62]', '\"???\"[p=0.01, l=11.00]', '\" \\n\"[p=0.01, l=11.00]', '\" artist\"[p=0.01, l=11.00]', '\" actress\"[p=0.01, l=10.69]', '\" actor\"[p=0.01, l=10.62]', '\" (\"[p=0.01, l=10.50]', '\" lawyer\"[p=0.01, l=10.44]', '\" pop\"[p=0.01, l=10.31]']\n",
      "\n",
      "\" Joe Scarborough\" | cur_rng=(29, 31)\n",
      "token_idx=29 [\" Joe\"] => ['\"?\\n\"[p=0.07, l=11.62]', '\" unknown\"[p=0.06, l=11.44]', '\"??\"[p=0.05, l=11.19]', '\"?\"[p=0.03, l=10.88]', '\" politician\"[p=0.03, l=10.81]', '\"???\"[p=0.03, l=10.69]', '\" programmer\"[p=0.02, l=10.38]', '\"?\\n\\n\"[p=0.02, l=10.38]', '\" Joe\"[p=0.02, l=10.31]', '\" no\"[p=0.02, l=10.25]', '\" software\"[p=0.01, l=9.88]', '\" (\"[p=0.01, l=9.81]', '\" not\"[p=0.01, l=9.69]', '\" president\"[p=0.01, l=9.69]', '\" what\"[p=0.01, l=9.62]']\n",
      "token_idx=30 [\" Scarborough\"] => ['\" journalist\"[p=0.21, l=15.56]', '\" politician\"[p=0.12, l=15.00]', '\" news\"[p=0.12, l=15.00]', '\" TV\"[p=0.09, l=14.69]', '\" political\"[p=0.06, l=14.31]', '\"?\\n\"[p=0.05, l=14.12]', '\"??\"[p=0.04, l=13.94]', '\" television\"[p=0.04, l=13.81]', '\"?\"[p=0.03, l=13.44]', '\"?\\n\\n\"[p=0.02, l=13.25]', '\" unknown\"[p=0.02, l=13.06]', '\" tv\"[p=0.02, l=12.94]', '\" talk\"[p=0.01, l=12.75]', '\" (\"[p=0.01, l=12.75]', '\"???\"[p=0.01, l=12.75]']\n",
      "\n",
      "\" Andrey Rublev\" | cur_rng=(32, 36)\n",
      "token_idx=32 [\" And\"] => ['\"?\\n\"[p=0.10, l=11.25]', '\"?\"[p=0.04, l=10.44]', '\"?\\n\\n\"[p=0.04, l=10.31]', '\"??\"[p=0.04, l=10.31]', '\" And\"[p=0.03, l=10.00]', '\" (\"[p=0.02, l=9.44]', '\"???\"[p=0.02, l=9.44]', '\" \\n\"[p=0.02, l=9.38]', '\" lawyer\"[p=0.01, l=9.25]', '\"...\"[p=0.01, l=9.19]', '\" and\"[p=0.01, l=9.12]', '\" what\"[p=0.01, l=9.00]', '\" you\"[p=0.01, l=8.81]', '\" engineer\"[p=0.01, l=8.75]', '\" fill\"[p=0.01, l=8.69]']\n",
      "token_idx=33 [\"rey\"] => ['\" programmer\"[p=0.13, l=12.62]', '\" software\"[p=0.06, l=11.94]', '\"?\\n\"[p=0.03, l=11.31]', '\" entrepreneur\"[p=0.02, l=10.94]', '\" politician\"[p=0.02, l=10.88]', '\" tennis\"[p=0.02, l=10.75]', '\" engineer\"[p=0.02, l=10.75]', '\" developer\"[p=0.02, l=10.69]', '\" football\"[p=0.02, l=10.62]', '\" unknown\"[p=0.02, l=10.56]', '\" actor\"[p=0.02, l=10.56]', '\" computer\"[p=0.01, l=10.44]', '\"?\"[p=0.01, l=10.44]', '\" mathematic\"[p=0.01, l=10.38]', '\"??\"[p=0.01, l=10.25]']\n",
      "token_idx=34 [\" Rub\"] => ['\"?\\n\"[p=0.06, l=10.69]', '\"??\"[p=0.04, l=10.25]', '\" artist\"[p=0.03, l=10.06]', '\" unknown\"[p=0.03, l=10.06]', '\"?\"[p=0.02, l=9.62]', '\"???\"[p=0.02, l=9.56]', '\"?\\n\\n\"[p=0.02, l=9.31]', '\" programmer\"[p=0.01, l=9.25]', '\" chess\"[p=0.01, l=9.06]', '\" unclear\"[p=0.01, l=9.00]', '\" musician\"[p=0.01, l=9.00]', '\" politician\"[p=0.01, l=8.94]', '\" what\"[p=0.01, l=8.88]', '\" (\"[p=0.01, l=8.88]', '\" Rub\"[p=0.01, l=8.88]']\n",
      "token_idx=35 [\"lev\"] => ['\"?\\n\"[p=0.20, l=13.50]', '\" tennis\"[p=0.11, l=12.88]', '\"?\\n\\n\"[p=0.09, l=12.69]', '\"?\"[p=0.06, l=12.31]', '\"??\"[p=0.04, l=12.00]', '\" \\n\"[p=0.03, l=11.50]', '\" politician\"[p=0.02, l=11.06]', '\" (\"[p=0.02, l=11.06]', '\"???\"[p=0.02, l=11.00]', '\" lawyer\"[p=0.02, l=10.94]', '\" athlete\"[p=0.01, l=10.62]', '\" artist\"[p=0.01, l=10.56]', '\" unknown\"[p=0.01, l=10.56]', '\" actor\"[p=0.01, l=10.50]', '\" \"[p=0.01, l=10.38]']\n",
      "\n",
      "\" Samuel L. Jackson\" | cur_rng=(37, 41)\n",
      "token_idx=37 [\" Samuel\"] => ['\" prophet\"[p=0.36, l=14.19]', '\"?\\n\"[p=0.07, l=12.50]', '\" unknown\"[p=0.05, l=12.19]', '\"??\"[p=0.03, l=11.69]', '\"?\"[p=0.02, l=11.25]', '\"???\"[p=0.02, l=11.12]', '\" actor\"[p=0.02, l=11.06]', '\" judge\"[p=0.01, l=10.88]', '\" biblical\"[p=0.01, l=10.75]', '\" no\"[p=0.01, l=10.56]', '\" Prophet\"[p=0.01, l=10.56]', '\"?\\n\\n\"[p=0.01, l=10.38]', '\" singer\"[p=0.01, l=10.38]', '\" not\"[p=0.01, l=10.31]', '\" (\"[p=0.01, l=10.25]']\n",
      "token_idx=38 [\" L\"] => ['\"?\\n\"[p=0.21, l=13.50]', '\"?\\n\\n\"[p=0.09, l=12.62]', '\"?\"[p=0.08, l=12.56]', '\"??\"[p=0.06, l=12.25]', '\"???\"[p=0.03, l=11.69]', '\" lawyer\"[p=0.02, l=11.31]', '\" software\"[p=0.02, l=11.19]', '\" \\n\"[p=0.01, l=10.75]', '\" (\"[p=0.01, l=10.62]', '\" \"[p=0.01, l=10.56]', '\" artist\"[p=0.01, l=10.56]', '\" unknown\"[p=0.01, l=10.44]', '\" computer\"[p=0.01, l=10.25]', '\" your\"[p=0.01, l=10.25]', '\" actor\"[p=0.01, l=10.25]']\n",
      "token_idx=39 [\".\"] => ['\"?\\n\"[p=0.25, l=13.75]', '\"?\\n\\n\"[p=0.10, l=12.88]', '\"?\"[p=0.09, l=12.75]', '\"??\"[p=0.06, l=12.31]', '\" lawyer\"[p=0.02, l=11.44]', '\"???\"[p=0.02, l=11.44]', '\" \\n\"[p=0.02, l=10.94]', '\" software\"[p=0.01, l=10.88]', '\" unknown\"[p=0.01, l=10.75]', '\" (\"[p=0.01, l=10.75]', '\" \"[p=0.01, l=10.69]', '\" artist\"[p=0.01, l=10.50]', '\" computer\"[p=0.01, l=10.25]', '\" programmer\"[p=0.01, l=10.19]', '\" your\"[p=0.01, l=10.19]']\n",
      "token_idx=40 [\" Jackson\"] => ['\" actor\"[p=0.25, l=13.31]', '\"?\\n\"[p=0.10, l=12.44]', '\"??\"[p=0.06, l=11.88]', '\"?\\n\\n\"[p=0.05, l=11.69]', '\"?\"[p=0.05, l=11.69]', '\"???\"[p=0.03, l=11.06]', '\" unknown\"[p=0.02, l=11.00]', '\" singer\"[p=0.02, l=10.94]', '\" (\"[p=0.01, l=10.44]', '\" politician\"[p=0.01, l=10.44]', '\" lawyer\"[p=0.01, l=10.19]', '\" Jackson\"[p=0.01, l=10.06]', '\" \\n\"[p=0.01, l=10.00]', '\" \"[p=0.01, l=9.56]', '\" no\"[p=0.01, l=9.44]']\n",
      "======================================================================================================================================================\n",
      "\n",
      "layer='model.layers.60'\n",
      "\n",
      "\"Ans:\" | cur_rng=(-2, 0)\n",
      "token_idx=-2 [\"Ans\"] => ['\" unknown\"[p=0.05, l=10.19]', '\" artist\"[p=0.03, l=9.62]', '\"?\\n\"[p=0.02, l=9.31]', '\" entrepreneur\"[p=0.02, l=9.06]', '\" answer\"[p=0.01, l=8.94]', '\" (\"[p=0.01, l=8.81]', '\" Ans\"[p=0.01, l=8.81]', '\" programmer\"[p=0.01, l=8.75]', '\" \\n\"[p=0.01, l=8.75]', '\" computer\"[p=0.01, l=8.75]', '\" person\"[p=0.01, l=8.69]', '\" actor\"[p=0.01, l=8.69]', '\" no\"[p=0.01, l=8.62]', '\" politician\"[p=0.01, l=8.56]', '\" software\"[p=0.01, l=8.44]']\n",
      "token_idx=-1 [\":\"] => ['\"?\\n\"[p=0.11, l=11.81]', '\" ->\"[p=0.07, l=11.31]', '\"?\\n\\n\"[p=0.04, l=10.69]', '\" comedian\"[p=0.04, l=10.69]', '\" (\"[p=0.04, l=10.69]', '\"?\"[p=0.03, l=10.56]', '\" ->\\n\"[p=0.03, l=10.44]', '\" unknown\"[p=0.02, l=10.25]', '\" \\n\"[p=0.02, l=10.25]', '\" empty\"[p=0.01, l=9.81]', '\" profession\"[p=0.01, l=9.56]', '\"??\"[p=0.01, l=9.56]', '\" actor\"[p=0.01, l=9.44]', '\" your\"[p=0.01, l=9.44]', '\" \"[p=0.01, l=9.31]']\n",
      "\n",
      "\" Trevor Noah\" | cur_rng=(13, 15)\n",
      "token_idx=13 [\" Trevor\"] => ['\"?\\n\"[p=0.10, l=12.62]', '\" software\"[p=0.05, l=11.94]', '\"??\"[p=0.05, l=11.88]', '\"???\"[p=0.04, l=11.56]', '\"?\"[p=0.04, l=11.56]', '\" unknown\"[p=0.04, l=11.56]', '\"?\\n\\n\"[p=0.03, l=11.44]', '\" actor\"[p=0.03, l=11.38]', '\" programmer\"[p=0.02, l=11.06]', '\" entrepreneur\"[p=0.02, l=11.00]', '\" student\"[p=0.02, l=10.88]', '\" data\"[p=0.02, l=10.88]', '\" musician\"[p=0.01, l=10.69]', '\" engineer\"[p=0.01, l=10.50]', '\" singer\"[p=0.01, l=10.38]']\n",
      "token_idx=14 [\" Noah\"] => ['\" comedian\"[p=0.64, l=16.25]', '\"?\\n\"[p=0.09, l=14.25]', '\"?\\n\\n\"[p=0.03, l=13.25]', '\" unknown\"[p=0.02, l=12.81]', '\"??\"[p=0.02, l=12.69]', '\"?\"[p=0.01, l=12.38]', '\" (\"[p=0.01, l=12.31]', '\" actor\"[p=0.01, l=12.31]', '\" \\n\"[p=0.01, l=11.81]', '\"???\"[p=0.01, l=11.69]', '\" journalist\"[p=0.01, l=11.56]', '\" talk\"[p=0.01, l=11.50]', '\" politician\"[p=0.01, l=11.44]', '\" stand\"[p=0.01, l=11.44]', '\" host\"[p=0.00, l=11.31]']\n",
      "\n",
      "\" Zion Williamson\" | cur_rng=(18, 20)\n",
      "token_idx=18 [\" Zion\"] => ['\"?\\n\"[p=0.08, l=12.12]', '\" singer\"[p=0.06, l=11.88]', '\" prophet\"[p=0.06, l=11.88]', '\" unknown\"[p=0.06, l=11.88]', '\" musician\"[p=0.05, l=11.69]', '\"??\"[p=0.05, l=11.62]', '\"?\"[p=0.02, l=10.94]', '\" no\"[p=0.02, l=10.69]', '\"???\"[p=0.02, l=10.62]', '\" rapper\"[p=0.02, l=10.56]', '\" football\"[p=0.01, l=10.38]', '\" (\"[p=0.01, l=10.31]', '\" politician\"[p=0.01, l=10.31]', '\" actor\"[p=0.01, l=10.25]', '\" not\"[p=0.01, l=10.19]']\n",
      "token_idx=19 [\" Williamson\"] => ['\" basketball\"[p=0.68, l=16.25]', '\"?\\n\"[p=0.03, l=13.25]', '\"??\"[p=0.03, l=13.00]', '\" unknown\"[p=0.02, l=12.88]', '\"?\"[p=0.02, l=12.69]', '\" NBA\"[p=0.01, l=12.31]', '\" professional\"[p=0.01, l=12.19]', '\" athlete\"[p=0.01, l=12.06]', '\"???\"[p=0.01, l=12.00]', '\" football\"[p=0.01, l=11.88]', '\" \\n\"[p=0.01, l=11.81]', '\" (\"[p=0.01, l=11.81]', '\" Basketball\"[p=0.01, l=11.81]', '\"?\\n\\n\"[p=0.01, l=11.75]', '\" \"[p=0.00, l=11.31]']\n",
      "\n",
      "\" John Mulaney\" | cur_rng=(21, 24)\n",
      "token_idx=21 [\" John\"] => ['\" unknown\"[p=0.08, l=12.38]', '\"?\\n\"[p=0.05, l=11.94]', '\" no\"[p=0.03, l=11.19]', '\" politician\"[p=0.03, l=11.19]', '\"??\"[p=0.03, l=11.19]', '\"?\"[p=0.02, l=11.12]', '\" programmer\"[p=0.02, l=11.00]', '\"???\"[p=0.02, l=10.94]', '\" musician\"[p=0.02, l=10.94]', '\" actor\"[p=0.02, l=10.88]', '\" software\"[p=0.02, l=10.81]', '\" singer\"[p=0.02, l=10.69]', '\" evangel\"[p=0.02, l=10.69]', '\" not\"[p=0.01, l=10.50]', '\" (\"[p=0.01, l=10.50]']\n",
      "token_idx=22 [\" Mul\"] => ['\" unknown\"[p=0.07, l=10.75]', '\"?\\n\"[p=0.04, l=10.06]', '\" politician\"[p=0.03, l=9.75]', '\"??\"[p=0.03, l=9.75]', '\" actor\"[p=0.02, l=9.50]', '\"???\"[p=0.02, l=9.38]', '\" singer\"[p=0.02, l=9.38]', '\" programmer\"[p=0.02, l=9.31]', '\" musician\"[p=0.02, l=9.25]', '\" artist\"[p=0.01, l=9.19]', '\" no\"[p=0.01, l=9.19]', '\" (\"[p=0.01, l=9.06]', '\" computer\"[p=0.01, l=9.00]', '\"?\"[p=0.01, l=8.94]', '\" not\"[p=0.01, l=8.81]']\n",
      "token_idx=23 [\"aney\"] => ['\" comedian\"[p=0.51, l=16.00]', '\"?\\n\"[p=0.13, l=14.62]', '\"?\\n\\n\"[p=0.05, l=13.75]', '\"??\"[p=0.04, l=13.50]', '\"?\"[p=0.03, l=13.25]', '\" unknown\"[p=0.02, l=12.69]', '\"???\"[p=0.02, l=12.69]', '\" actor\"[p=0.02, l=12.50]', '\" (\"[p=0.01, l=12.06]', '\" stand\"[p=0.01, l=11.81]', '\" \\n\"[p=0.01, l=11.69]', '\" politician\"[p=0.01, l=11.56]', '\" \"[p=0.01, l=11.50]', '\" comic\"[p=0.00, l=11.25]', '\" writer\"[p=0.00, l=11.25]']\n",
      "\n",
      "\" Ariana Grande\" | cur_rng=(25, 28)\n",
      "token_idx=25 [\" Ari\"] => ['\"?\\n\"[p=0.10, l=11.69]', '\"??\"[p=0.04, l=10.88]', '\"?\"[p=0.03, l=10.62]', '\"???\"[p=0.03, l=10.56]', '\" unknown\"[p=0.03, l=10.56]', '\" singer\"[p=0.03, l=10.50]', '\"?\\n\\n\"[p=0.03, l=10.50]', '\" software\"[p=0.01, l=9.75]', '\" artist\"[p=0.01, l=9.69]', '\" lawyer\"[p=0.01, l=9.50]', '\" politician\"[p=0.01, l=9.50]', '\" musician\"[p=0.01, l=9.44]', '\" astronaut\"[p=0.01, l=9.31]', '\" (\"[p=0.01, l=9.31]', '\" \"[p=0.01, l=9.19]']\n",
      "token_idx=26 [\"ana\"] => ['\" singer\"[p=0.30, l=13.69]', '\"?\\n\"[p=0.12, l=12.75]', '\"?\"[p=0.06, l=12.06]', '\" unknown\"[p=0.05, l=11.94]', '\"??\"[p=0.04, l=11.56]', '\"?\\n\\n\"[p=0.03, l=11.50]', '\" pop\"[p=0.03, l=11.38]', '\" musician\"[p=0.02, l=11.12]', '\"???\"[p=0.02, l=10.81]', '\" model\"[p=0.01, l=10.44]', '\" artist\"[p=0.01, l=10.44]', '\" no\"[p=0.01, l=9.81]', '\" (\"[p=0.01, l=9.81]', '\" \\n\"[p=0.01, l=9.69]', '\" not\"[p=0.01, l=9.69]']\n",
      "token_idx=27 [\" Grande\"] => ['\" singer\"[p=0.41, l=14.50]', '\"?\\n\"[p=0.14, l=13.44]', '\"?\\n\\n\"[p=0.06, l=12.50]', '\"?\"[p=0.04, l=12.25]', '\" unknown\"[p=0.03, l=11.81]', '\"??\"[p=0.02, l=11.62]', '\" musician\"[p=0.02, l=11.56]', '\" \\n\"[p=0.01, l=10.88]', '\" artist\"[p=0.01, l=10.88]', '\"???\"[p=0.01, l=10.81]', '\" actress\"[p=0.01, l=10.69]', '\" actor\"[p=0.01, l=10.62]', '\" lawyer\"[p=0.01, l=10.38]', '\" celebrity\"[p=0.01, l=10.31]', '\" (\"[p=0.01, l=10.31]']\n",
      "\n",
      "\" Joe Scarborough\" | cur_rng=(29, 31)\n",
      "token_idx=29 [\" Joe\"] => ['\"?\\n\"[p=0.07, l=11.69]', '\" unknown\"[p=0.06, l=11.50]', '\"??\"[p=0.05, l=11.25]', '\" politician\"[p=0.05, l=11.19]', '\"?\"[p=0.04, l=10.94]', '\"???\"[p=0.03, l=10.75]', '\"?\\n\\n\"[p=0.02, l=10.44]', '\" Joe\"[p=0.02, l=10.44]', '\" no\"[p=0.02, l=10.31]', '\" programmer\"[p=0.02, l=10.31]', '\" president\"[p=0.02, l=10.12]', '\" (\"[p=0.01, l=9.94]', '\" software\"[p=0.01, l=9.88]', '\" singer\"[p=0.01, l=9.75]', '\" what\"[p=0.01, l=9.75]']\n",
      "token_idx=30 [\" Scarborough\"] => ['\" journalist\"[p=0.16, l=14.81]', '\" politician\"[p=0.12, l=14.50]', '\" news\"[p=0.11, l=14.44]', '\" TV\"[p=0.07, l=13.94]', '\"??\"[p=0.06, l=13.88]', '\"?\\n\"[p=0.06, l=13.81]', '\" political\"[p=0.06, l=13.75]', '\"?\"[p=0.03, l=13.19]', '\" television\"[p=0.03, l=13.12]', '\"?\\n\\n\"[p=0.03, l=13.06]', '\" unknown\"[p=0.02, l=12.94]', '\"???\"[p=0.02, l=12.75]', '\" (\"[p=0.01, l=12.38]', '\" tv\"[p=0.01, l=12.38]', '\" talk\"[p=0.01, l=12.12]']\n",
      "\n",
      "\" Andrey Rublev\" | cur_rng=(32, 36)\n",
      "token_idx=32 [\" And\"] => ['\"?\\n\"[p=0.12, l=11.56]', '\"?\"[p=0.06, l=10.81]', '\"?\\n\\n\"[p=0.05, l=10.75]', '\"??\"[p=0.05, l=10.62]', '\" And\"[p=0.03, l=10.12]', '\"???\"[p=0.02, l=9.88]', '\" (\"[p=0.02, l=9.75]', '\" lawyer\"[p=0.01, l=9.38]', '\" \\n\"[p=0.01, l=9.38]', '\"...\"[p=0.01, l=9.25]', '\" and\"[p=0.01, l=9.19]', '\" unknown\"[p=0.01, l=9.12]', '\" what\"[p=0.01, l=9.06]', '\" software\"[p=0.01, l=8.81]', '\" artist\"[p=0.01, l=8.75]']\n",
      "token_idx=33 [\"rey\"] => ['\" programmer\"[p=0.12, l=12.50]', '\" software\"[p=0.06, l=11.81]', '\"?\\n\"[p=0.06, l=11.75]', '\" unknown\"[p=0.03, l=11.00]', '\" entrepreneur\"[p=0.02, l=10.81]', '\"?\"[p=0.02, l=10.81]', '\" engineer\"[p=0.02, l=10.75]', '\" politician\"[p=0.02, l=10.69]', '\" developer\"[p=0.02, l=10.62]', '\"??\"[p=0.02, l=10.50]', '\"?\\n\\n\"[p=0.01, l=10.38]', '\"???\"[p=0.01, l=10.25]', '\" computer\"[p=0.01, l=10.19]', '\" actor\"[p=0.01, l=10.12]', '\" artist\"[p=0.01, l=10.12]']\n",
      "token_idx=34 [\" Rub\"] => ['\"?\\n\"[p=0.06, l=10.75]', '\" unknown\"[p=0.04, l=10.25]', '\"??\"[p=0.04, l=10.25]', '\" artist\"[p=0.03, l=10.12]', '\"?\"[p=0.02, l=9.69]', '\"???\"[p=0.02, l=9.62]', '\" politician\"[p=0.02, l=9.56]', '\" programmer\"[p=0.02, l=9.50]', '\"?\\n\\n\"[p=0.02, l=9.50]', '\" musician\"[p=0.01, l=8.94]', '\" what\"[p=0.01, l=8.88]', '\" (\"[p=0.01, l=8.88]', '\" Rub\"[p=0.01, l=8.81]', '\" DJ\"[p=0.01, l=8.75]', '\" not\"[p=0.01, l=8.75]']\n",
      "token_idx=35 [\"lev\"] => ['\" tennis\"[p=0.18, l=13.50]', '\"?\\n\"[p=0.17, l=13.44]', '\"?\\n\\n\"[p=0.07, l=12.50]', '\"?\"[p=0.06, l=12.31]', '\"??\"[p=0.04, l=12.06]', '\" \\n\"[p=0.03, l=11.56]', '\" (\"[p=0.02, l=11.38]', '\" athlete\"[p=0.02, l=11.25]', '\"???\"[p=0.02, l=11.12]', '\" unknown\"[p=0.01, l=10.88]', '\" politician\"[p=0.01, l=10.81]', '\" \"[p=0.01, l=10.62]', '\" lawyer\"[p=0.01, l=10.44]', '\" musician\"[p=0.01, l=10.25]', '\" what\"[p=0.01, l=10.19]']\n",
      "\n",
      "\" Samuel L. Jackson\" | cur_rng=(37, 41)\n",
      "token_idx=37 [\" Samuel\"] => ['\" prophet\"[p=0.38, l=14.25]', '\" unknown\"[p=0.05, l=12.31]', '\"?\\n\"[p=0.05, l=12.25]', '\"??\"[p=0.02, l=11.50]', '\" biblical\"[p=0.02, l=11.06]', '\"???\"[p=0.01, l=11.00]', '\" actor\"[p=0.01, l=11.00]', '\"?\"[p=0.01, l=11.00]', '\" no\"[p=0.01, l=10.88]', '\" judge\"[p=0.01, l=10.88]', '\" Prophet\"[p=0.01, l=10.75]', '\" not\"[p=0.01, l=10.50]', '\" singer\"[p=0.01, l=10.44]', '\" (\"[p=0.01, l=10.31]', '\" priest\"[p=0.01, l=10.12]']\n",
      "token_idx=38 [\" L\"] => ['\"?\\n\"[p=0.23, l=13.50]', '\"?\"[p=0.09, l=12.62]', '\"?\\n\\n\"[p=0.09, l=12.56]', '\"??\"[p=0.05, l=12.06]', '\"???\"[p=0.03, l=11.44]', '\" lawyer\"[p=0.02, l=11.19]', '\" software\"[p=0.02, l=11.00]', '\" \\n\"[p=0.02, l=10.88]', '\" \"[p=0.01, l=10.62]', '\" (\"[p=0.01, l=10.56]', '\" unknown\"[p=0.01, l=10.44]', '\" artist\"[p=0.01, l=10.31]', '\" your\"[p=0.01, l=10.25]', '\" entrepreneur\"[p=0.01, l=10.12]', '\" profession\"[p=0.01, l=10.12]']\n",
      "token_idx=39 [\".\"] => ['\"?\\n\"[p=0.26, l=13.81]', '\"?\\n\\n\"[p=0.11, l=12.94]', '\"?\"[p=0.09, l=12.75]', '\"??\"[p=0.05, l=12.25]', '\" lawyer\"[p=0.03, l=11.50]', '\"???\"[p=0.02, l=11.31]', '\" \\n\"[p=0.02, l=11.12]', '\" software\"[p=0.01, l=10.94]', '\" (\"[p=0.01, l=10.81]', '\" \"[p=0.01, l=10.81]', '\" unknown\"[p=0.01, l=10.81]', '\" artist\"[p=0.01, l=10.50]', '\" your\"[p=0.01, l=10.19]', '\" computer\"[p=0.01, l=10.19]', '\" profession\"[p=0.01, l=10.12]']\n",
      "token_idx=40 [\" Jackson\"] => ['\" actor\"[p=0.25, l=13.25]', '\"?\\n\"[p=0.10, l=12.31]', '\"??\"[p=0.06, l=11.81]', '\"?\"[p=0.05, l=11.62]', '\"?\\n\\n\"[p=0.04, l=11.50]', '\" unknown\"[p=0.03, l=11.06]', '\" singer\"[p=0.03, l=11.00]', '\"???\"[p=0.03, l=11.00]', '\" (\"[p=0.01, l=10.31]', '\" politician\"[p=0.01, l=10.31]', '\" Jackson\"[p=0.01, l=10.00]', '\" \\n\"[p=0.01, l=9.88]', '\" lawyer\"[p=0.01, l=9.88]', '\" no\"[p=0.01, l=9.50]', '\" \"[p=0.01, l=9.50]']\n",
      "======================================================================================================================================================\n",
      "\n",
      "layer='model.layers.63'\n",
      "\n",
      "\"Ans:\" | cur_rng=(-2, 0)\n",
      "token_idx=-2 [\"Ans\"] => ['\" Ans\"[p=0.04, l=9.62]', '\" unknown\"[p=0.03, l=9.50]', '\" artist\"[p=0.03, l=9.38]', '\"?\\n\"[p=0.03, l=9.31]', '\" entrepreneur\"[p=0.02, l=8.88]', '\" programmer\"[p=0.02, l=8.88]', '\" \\n\"[p=0.02, l=8.75]', '\" computer\"[p=0.01, l=8.62]', '\" answer\"[p=0.01, l=8.56]', '\" person\"[p=0.01, l=8.38]', '\" software\"[p=0.01, l=8.31]', '\" (\"[p=0.01, l=8.19]', '\" engineer\"[p=0.01, l=8.19]', '\" Answer\"[p=0.01, l=8.12]', '\" a\"[p=0.01, l=8.12]']\n",
      "token_idx=-1 [\":\"] => ['\"?\\n\"[p=0.09, l=11.50]', '\" ->\"[p=0.05, l=10.94]', '\" (\"[p=0.04, l=10.62]', '\"?\\n\\n\"[p=0.03, l=10.50]', '\" symbol\"[p=0.03, l=10.44]', '\" comedian\"[p=0.03, l=10.38]', '\"?\"[p=0.03, l=10.31]', '\" unknown\"[p=0.03, l=10.25]', '\" programmer\"[p=0.02, l=10.12]', '\" ->\\n\"[p=0.02, l=10.12]', '\" \\n\"[p=0.02, l=9.94]', '\" placeholder\"[p=0.02, l=9.94]', '\" empty\"[p=0.02, l=9.75]', '\" computer\"[p=0.01, l=9.62]', '\"??\"[p=0.01, l=9.56]']\n",
      "\n",
      "\" Trevor Noah\" | cur_rng=(13, 15)\n",
      "token_idx=13 [\" Trevor\"] => ['\"?\\n\"[p=0.12, l=12.75]', '\"??\"[p=0.06, l=12.00]', '\"?\"[p=0.04, l=11.69]', '\"???\"[p=0.04, l=11.69]', '\" software\"[p=0.04, l=11.69]', '\"?\\n\\n\"[p=0.04, l=11.56]', '\" unknown\"[p=0.04, l=11.56]', '\" actor\"[p=0.02, l=11.06]', '\" entrepreneur\"[p=0.02, l=11.00]', '\" programmer\"[p=0.02, l=10.88]', '\" student\"[p=0.02, l=10.69]', '\" data\"[p=0.02, l=10.69]', '\" engineer\"[p=0.01, l=10.44]', '\" musician\"[p=0.01, l=10.38]', '\" politician\"[p=0.01, l=10.25]']\n",
      "token_idx=14 [\" Noah\"] => ['\" comedian\"[p=0.65, l=16.25]', '\"?\\n\"[p=0.06, l=13.94]', '\"?\\n\\n\"[p=0.02, l=12.81]', '\" unknown\"[p=0.02, l=12.75]', '\"??\"[p=0.02, l=12.62]', '\" actor\"[p=0.02, l=12.62]', '\" (\"[p=0.01, l=12.31]', '\"?\"[p=0.01, l=12.06]', '\" \\n\"[p=0.01, l=11.75]', '\"???\"[p=0.01, l=11.62]', '\" talk\"[p=0.01, l=11.62]', '\" politician\"[p=0.01, l=11.62]', '\" journalist\"[p=0.01, l=11.56]', '\" stand\"[p=0.01, l=11.50]', '\" host\"[p=0.01, l=11.44]']\n",
      "\n",
      "\" Zion Williamson\" | cur_rng=(18, 20)\n",
      "token_idx=18 [\" Zion\"] => ['\"?\\n\"[p=0.10, l=12.38]', '\" prophet\"[p=0.09, l=12.31]', '\" unknown\"[p=0.07, l=12.00]', '\"??\"[p=0.06, l=11.88]', '\" singer\"[p=0.04, l=11.50]', '\" musician\"[p=0.03, l=11.25]', '\"?\"[p=0.03, l=11.25]', '\"???\"[p=0.02, l=10.94]', '\" no\"[p=0.02, l=10.75]', '\"?\\n\\n\"[p=0.01, l=10.50]', '\" (\"[p=0.01, l=10.44]', '\" politician\"[p=0.01, l=10.38]', '\" not\"[p=0.01, l=10.31]', '\" biblical\"[p=0.01, l=10.12]', '\" \\n\"[p=0.01, l=10.06]']\n",
      "token_idx=19 [\" Williamson\"] => ['\" basketball\"[p=0.70, l=16.25]', '\"?\\n\"[p=0.02, l=12.88]', '\"??\"[p=0.02, l=12.81]', '\" unknown\"[p=0.02, l=12.69]', '\" professional\"[p=0.02, l=12.44]', '\"?\"[p=0.01, l=12.31]', '\" NBA\"[p=0.01, l=12.31]', '\" athlete\"[p=0.01, l=12.06]', '\" Basketball\"[p=0.01, l=11.94]', '\"???\"[p=0.01, l=11.81]', '\" (\"[p=0.01, l=11.81]', '\" football\"[p=0.01, l=11.75]', '\" \\n\"[p=0.01, l=11.69]', '\" actor\"[p=0.01, l=11.38]', '\" \"[p=0.00, l=11.25]']\n",
      "\n",
      "\" John Mulaney\" | cur_rng=(21, 24)\n",
      "token_idx=21 [\" John\"] => ['\" unknown\"[p=0.08, l=12.19]', '\"?\\n\"[p=0.06, l=12.00]', '\"??\"[p=0.03, l=11.25]', '\"?\"[p=0.03, l=11.25]', '\" politician\"[p=0.03, l=11.06]', '\"???\"[p=0.02, l=11.00]', '\" no\"[p=0.02, l=10.94]', '\" musician\"[p=0.02, l=10.69]', '\" programmer\"[p=0.02, l=10.69]', '\" actor\"[p=0.02, l=10.69]', '\" software\"[p=0.01, l=10.50]', '\" singer\"[p=0.01, l=10.50]', '\" evangel\"[p=0.01, l=10.38]', '\" (\"[p=0.01, l=10.38]', '\" not\"[p=0.01, l=10.31]']\n",
      "token_idx=22 [\" Mul\"] => ['\" unknown\"[p=0.06, l=10.62]', '\"?\\n\"[p=0.03, l=9.94]', '\"??\"[p=0.03, l=9.81]', '\" politician\"[p=0.03, l=9.75]', '\" singer\"[p=0.02, l=9.56]', '\" actor\"[p=0.02, l=9.50]', '\"???\"[p=0.02, l=9.44]', '\" musician\"[p=0.02, l=9.44]', '\" race\"[p=0.02, l=9.19]', '\" horse\"[p=0.01, l=9.12]', '\" programmer\"[p=0.01, l=9.06]', '\" artist\"[p=0.01, l=9.06]', '\" no\"[p=0.01, l=9.00]', '\" (\"[p=0.01, l=9.00]', '\" computer\"[p=0.01, l=8.94]']\n",
      "token_idx=23 [\"aney\"] => ['\" comedian\"[p=0.52, l=16.00]', '\"?\\n\"[p=0.13, l=14.62]', '\"?\\n\\n\"[p=0.05, l=13.62]', '\"??\"[p=0.04, l=13.50]', '\"?\"[p=0.03, l=13.19]', '\" unknown\"[p=0.02, l=12.69]', '\"???\"[p=0.02, l=12.62]', '\" actor\"[p=0.02, l=12.56]', '\" (\"[p=0.01, l=12.00]', '\" stand\"[p=0.01, l=11.81]', '\" \\n\"[p=0.01, l=11.62]', '\" politician\"[p=0.01, l=11.62]', '\" \"[p=0.01, l=11.56]', '\" comic\"[p=0.01, l=11.38]', '\" writer\"[p=0.00, l=11.31]']\n",
      "\n",
      "\" Ariana Grande\" | cur_rng=(25, 28)\n",
      "token_idx=25 [\" Ari\"] => ['\"?\\n\"[p=0.11, l=11.75]', '\"??\"[p=0.04, l=10.88]', '\"?\"[p=0.03, l=10.62]', '\"???\"[p=0.03, l=10.56]', '\"?\\n\\n\"[p=0.03, l=10.56]', '\" unknown\"[p=0.03, l=10.50]', '\" singer\"[p=0.03, l=10.38]', '\" software\"[p=0.01, l=9.75]', '\" artist\"[p=0.01, l=9.69]', '\" astronaut\"[p=0.01, l=9.50]', '\" musician\"[p=0.01, l=9.44]', '\" politician\"[p=0.01, l=9.44]', '\" lawyer\"[p=0.01, l=9.38]', '\" (\"[p=0.01, l=9.25]', '\" \"[p=0.01, l=9.06]']\n",
      "token_idx=26 [\"ana\"] => ['\" singer\"[p=0.24, l=13.19]', '\"?\\n\"[p=0.12, l=12.50]', '\"?\"[p=0.06, l=11.81]', '\" unknown\"[p=0.05, l=11.62]', '\"??\"[p=0.04, l=11.44]', '\"?\\n\\n\"[p=0.03, l=11.25]', '\" musician\"[p=0.02, l=10.94]', '\"???\"[p=0.02, l=10.75]', '\" pop\"[p=0.02, l=10.75]', '\" artist\"[p=0.01, l=10.31]', '\" model\"[p=0.01, l=10.12]', '\" (\"[p=0.01, l=9.75]', '\" no\"[p=0.01, l=9.56]', '\" \\n\"[p=0.01, l=9.50]', '\" not\"[p=0.01, l=9.50]']\n",
      "token_idx=27 [\" Grande\"] => ['\" singer\"[p=0.56, l=15.06]', '\"?\\n\"[p=0.09, l=13.19]', '\" unknown\"[p=0.03, l=12.25]', '\"?\"[p=0.03, l=12.12]', '\"?\\n\\n\"[p=0.03, l=12.06]', '\" musician\"[p=0.02, l=11.81]', '\"??\"[p=0.02, l=11.62]', '\"???\"[p=0.01, l=10.88]', '\" \\n\"[p=0.01, l=10.81]', '\" artist\"[p=0.01, l=10.75]', '\" pop\"[p=0.01, l=10.69]', '\" actress\"[p=0.01, l=10.62]', '\" music\"[p=0.01, l=10.56]', '\" (\"[p=0.01, l=10.50]', '\" model\"[p=0.00, l=10.31]']\n",
      "\n",
      "\" Joe Scarborough\" | cur_rng=(29, 31)\n",
      "token_idx=29 [\" Joe\"] => ['\"?\\n\"[p=0.09, l=11.81]', '\" unknown\"[p=0.06, l=11.50]', '\"??\"[p=0.06, l=11.38]', '\"?\"[p=0.04, l=11.06]', '\" politician\"[p=0.04, l=11.00]', '\"???\"[p=0.03, l=10.88]', '\"?\\n\\n\"[p=0.02, l=10.56]', '\" Joe\"[p=0.02, l=10.50]', '\" no\"[p=0.02, l=10.25]', '\" programmer\"[p=0.02, l=10.19]', '\" president\"[p=0.01, l=9.88]', '\" (\"[p=0.01, l=9.88]', '\" singer\"[p=0.01, l=9.81]', '\" software\"[p=0.01, l=9.75]', '\" what\"[p=0.01, l=9.75]']\n",
      "token_idx=30 [\" Scarborough\"] => ['\" politician\"[p=0.15, l=14.56]', '\" journalist\"[p=0.14, l=14.50]', '\" news\"[p=0.10, l=14.19]', '\" TV\"[p=0.06, l=13.62]', '\"??\"[p=0.06, l=13.62]', '\"?\\n\"[p=0.06, l=13.56]', '\" political\"[p=0.05, l=13.50]', '\"?\"[p=0.03, l=12.94]', '\" television\"[p=0.03, l=12.81]', '\" unknown\"[p=0.03, l=12.75]', '\"?\\n\\n\"[p=0.03, l=12.75]', '\"???\"[p=0.02, l=12.50]', '\" (\"[p=0.01, l=12.19]', '\" tv\"[p=0.01, l=12.06]', '\" talk\"[p=0.01, l=12.06]']\n",
      "\n",
      "\" Andrey Rublev\" | cur_rng=(32, 36)\n",
      "token_idx=32 [\" And\"] => ['\"?\\n\"[p=0.10, l=11.50]', '\"?\\n\\n\"[p=0.05, l=10.75]', '\"?\"[p=0.05, l=10.75]', '\"??\"[p=0.05, l=10.69]', '\" And\"[p=0.03, l=10.19]', '\" (\"[p=0.02, l=10.00]', '\"???\"[p=0.02, l=10.00]', '\" lawyer\"[p=0.01, l=9.50]', '\" unknown\"[p=0.01, l=9.38]', '\" \\n\"[p=0.01, l=9.31]', '\"...\"[p=0.01, l=9.25]', '\" what\"[p=0.01, l=9.19]', '\" and\"[p=0.01, l=9.12]', '\" empty\"[p=0.01, l=9.00]', '\" software\"[p=0.01, l=8.94]']\n",
      "token_idx=33 [\"rey\"] => ['\" programmer\"[p=0.08, l=12.00]', '\"?\\n\"[p=0.08, l=11.94]', '\" software\"[p=0.05, l=11.56]', '\" unknown\"[p=0.03, l=11.06]', '\"?\"[p=0.03, l=11.00]', '\"?\\n\\n\"[p=0.03, l=10.81]', '\"??\"[p=0.02, l=10.69]', '\" engineer\"[p=0.02, l=10.56]', '\" entrepreneur\"[p=0.02, l=10.50]', '\"???\"[p=0.02, l=10.44]', '\" developer\"[p=0.02, l=10.38]', '\" politician\"[p=0.02, l=10.31]', '\" student\"[p=0.01, l=10.12]', '\" computer\"[p=0.01, l=10.06]', '\" artist\"[p=0.01, l=10.00]']\n",
      "token_idx=34 [\" Rub\"] => ['\"?\\n\"[p=0.06, l=10.75]', '\"??\"[p=0.04, l=10.38]', '\" unknown\"[p=0.03, l=10.19]', '\" artist\"[p=0.03, l=10.06]', '\"?\"[p=0.02, l=9.75]', '\"???\"[p=0.02, l=9.75]', '\" programmer\"[p=0.02, l=9.62]', '\" politician\"[p=0.02, l=9.62]', '\"?\\n\\n\"[p=0.02, l=9.50]', '\" (\"[p=0.01, l=9.00]', '\" chess\"[p=0.01, l=8.94]', '\" musician\"[p=0.01, l=8.94]', '\" what\"[p=0.01, l=8.88]', '\" unclear\"[p=0.01, l=8.81]', '\" software\"[p=0.01, l=8.81]']\n",
      "token_idx=35 [\"lev\"] => ['\" tennis\"[p=0.21, l=13.88]', '\"?\\n\"[p=0.17, l=13.69]', '\"?\\n\\n\"[p=0.06, l=12.69]', '\"?\"[p=0.06, l=12.62]', '\"??\"[p=0.05, l=12.44]', '\" \\n\"[p=0.02, l=11.62]', '\"???\"[p=0.02, l=11.50]', '\" (\"[p=0.02, l=11.50]', '\" athlete\"[p=0.02, l=11.44]', '\" unknown\"[p=0.01, l=11.19]', '\" \"[p=0.01, l=10.88]', '\" politician\"[p=0.01, l=10.81]', '\" what\"[p=0.01, l=10.62]', '\" professional\"[p=0.01, l=10.38]', '\" musician\"[p=0.01, l=10.31]']\n",
      "\n",
      "\" Samuel L. Jackson\" | cur_rng=(37, 41)\n",
      "token_idx=37 [\" Samuel\"] => ['\" prophet\"[p=0.31, l=13.88]', '\"?\\n\"[p=0.06, l=12.19]', '\" unknown\"[p=0.06, l=12.19]', '\"??\"[p=0.03, l=11.38]', '\" actor\"[p=0.02, l=11.12]', '\"?\"[p=0.02, l=11.00]', '\"???\"[p=0.02, l=10.94]', '\" no\"[p=0.01, l=10.62]', '\" biblical\"[p=0.01, l=10.56]', '\" Prophet\"[p=0.01, l=10.50]', '\" judge\"[p=0.01, l=10.44]', '\" singer\"[p=0.01, l=10.44]', '\" not\"[p=0.01, l=10.31]', '\" priest\"[p=0.01, l=10.12]', '\" (\"[p=0.01, l=10.12]']\n",
      "token_idx=38 [\" L\"] => ['\"?\\n\"[p=0.23, l=13.56]', '\"?\\n\\n\"[p=0.08, l=12.56]', '\"?\"[p=0.08, l=12.56]', '\"??\"[p=0.05, l=12.06]', '\" lawyer\"[p=0.03, l=11.44]', '\"???\"[p=0.03, l=11.38]', '\" software\"[p=0.02, l=11.19]', '\" \\n\"[p=0.02, l=10.88]', '\" artist\"[p=0.01, l=10.56]', '\" (\"[p=0.01, l=10.56]', '\" \"[p=0.01, l=10.56]', '\" unknown\"[p=0.01, l=10.38]', '\" engineer\"[p=0.01, l=10.25]', '\" profession\"[p=0.01, l=10.19]', '\" your\"[p=0.01, l=10.19]']\n",
      "token_idx=39 [\".\"] => ['\"?\\n\"[p=0.26, l=14.00]', '\"?\\n\\n\"[p=0.12, l=13.19]', '\"?\"[p=0.09, l=12.94]', '\"??\"[p=0.05, l=12.38]', '\" lawyer\"[p=0.03, l=11.69]', '\"???\"[p=0.02, l=11.50]', '\" software\"[p=0.02, l=11.25]', '\" \\n\"[p=0.01, l=11.12]', '\" \"[p=0.01, l=10.94]', '\" (\"[p=0.01, l=10.88]', '\" unknown\"[p=0.01, l=10.81]', '\" artist\"[p=0.01, l=10.75]', '\" programmer\"[p=0.01, l=10.56]', '\" computer\"[p=0.01, l=10.44]', '\" your\"[p=0.01, l=10.44]']\n",
      "token_idx=40 [\" Jackson\"] => ['\" actor\"[p=0.30, l=13.56]', '\"?\\n\"[p=0.08, l=12.25]', '\"??\"[p=0.06, l=11.94]', '\"?\"[p=0.04, l=11.56]', '\"?\\n\\n\"[p=0.03, l=11.31]', '\" unknown\"[p=0.03, l=11.25]', '\" singer\"[p=0.03, l=11.19]', '\"???\"[p=0.03, l=11.12]', '\" Jackson\"[p=0.01, l=10.44]', '\" politician\"[p=0.01, l=10.44]', '\" (\"[p=0.01, l=10.31]', '\" lawyer\"[p=0.01, l=9.81]', '\" what\"[p=0.01, l=9.75]', '\" \\n\"[p=0.01, l=9.69]', '\" no\"[p=0.01, l=9.62]']\n",
      "======================================================================================================================================================\n",
      "\n",
      "layer='model.layers.66'\n",
      "\n",
      "\"Ans:\" | cur_rng=(-2, 0)\n",
      "token_idx=-2 [\"Ans\"] => ['\" programmer\"[p=0.03, l=9.44]', '\" artist\"[p=0.03, l=9.19]', '\" unknown\"[p=0.02, l=9.06]', '\" answer\"[p=0.02, l=9.00]', '\" computer\"[p=0.02, l=8.94]', '\" Ans\"[p=0.02, l=8.88]', '\" actor\"[p=0.02, l=8.69]', '\" software\"[p=0.01, l=8.56]', '\"?\\n\"[p=0.01, l=8.56]', '\" Answer\"[p=0.01, l=8.50]', '\" singer\"[p=0.01, l=8.38]', '\" assistant\"[p=0.01, l=8.31]', '\" entrepreneur\"[p=0.01, l=8.25]', '\" \\n\"[p=0.01, l=8.25]', '\" politician\"[p=0.01, l=8.19]']\n",
      "token_idx=-1 [\":\"] => ['\"?\\n\"[p=0.08, l=11.44]', '\" ->\"[p=0.06, l=11.19]', '\" symbol\"[p=0.04, l=10.81]', '\" (\"[p=0.03, l=10.62]', '\" ->\\n\"[p=0.03, l=10.50]', '\" programmer\"[p=0.03, l=10.31]', '\"?\"[p=0.02, l=10.25]', '\"?\\n\\n\"[p=0.02, l=10.19]', '\" unknown\"[p=0.02, l=10.12]', '\" \\n\"[p=0.02, l=9.88]', '\" computer\"[p=0.02, l=9.81]', '\" empty\"[p=0.02, l=9.81]', '\" is\"[p=0.01, l=9.75]', '\" comedian\"[p=0.01, l=9.69]', '\" placeholder\"[p=0.01, l=9.62]']\n",
      "\n",
      "\" Trevor Noah\" | cur_rng=(13, 15)\n",
      "token_idx=13 [\" Trevor\"] => ['\"?\\n\"[p=0.12, l=12.62]', '\"??\"[p=0.06, l=11.88]', '\"?\"[p=0.05, l=11.62]', '\"???\"[p=0.04, l=11.50]', '\"?\\n\\n\"[p=0.04, l=11.50]', '\" software\"[p=0.04, l=11.50]', '\" unknown\"[p=0.04, l=11.50]', '\" entrepreneur\"[p=0.02, l=10.81]', '\" actor\"[p=0.02, l=10.75]', '\" programmer\"[p=0.02, l=10.69]', '\" data\"[p=0.01, l=10.38]', '\" student\"[p=0.01, l=10.31]', '\" engineer\"[p=0.01, l=10.31]', '\" politician\"[p=0.01, l=10.12]', '\" (\"[p=0.01, l=10.12]']\n",
      "token_idx=14 [\" Noah\"] => ['\" comedian\"[p=0.69, l=16.38]', '\"?\\n\"[p=0.04, l=13.62]', '\" unknown\"[p=0.02, l=12.81]', '\" actor\"[p=0.02, l=12.75]', '\"??\"[p=0.01, l=12.44]', '\" (\"[p=0.01, l=12.38]', '\"?\\n\\n\"[p=0.01, l=12.38]', '\"?\"[p=0.01, l=11.94]', '\" \\n\"[p=0.01, l=11.81]', '\" stand\"[p=0.01, l=11.69]', '\" talk\"[p=0.01, l=11.69]', '\" host\"[p=0.01, l=11.62]', '\" politician\"[p=0.01, l=11.62]', '\"???\"[p=0.01, l=11.50]', '\" TV\"[p=0.00, l=11.44]']\n",
      "\n",
      "\" Zion Williamson\" | cur_rng=(18, 20)\n",
      "token_idx=18 [\" Zion\"] => ['\" prophet\"[p=0.12, l=12.56]', '\"?\\n\"[p=0.10, l=12.44]', '\" unknown\"[p=0.07, l=12.00]', '\"??\"[p=0.06, l=11.94]', '\"?\"[p=0.03, l=11.19]', '\" singer\"[p=0.02, l=10.94]', '\"???\"[p=0.02, l=10.94]', '\" musician\"[p=0.02, l=10.94]', '\" no\"[p=0.02, l=10.62]', '\"?\\n\\n\"[p=0.02, l=10.56]', '\" (\"[p=0.01, l=10.44]', '\" king\"[p=0.01, l=10.38]', '\" biblical\"[p=0.01, l=10.31]', '\" politician\"[p=0.01, l=10.31]', '\" not\"[p=0.01, l=10.25]']\n",
      "token_idx=19 [\" Williamson\"] => ['\" basketball\"[p=0.64, l=15.81]', '\" unknown\"[p=0.03, l=12.62]', '\"?\\n\"[p=0.02, l=12.50]', '\"??\"[p=0.02, l=12.50]', '\" professional\"[p=0.02, l=12.19]', '\" NBA\"[p=0.02, l=12.12]', '\"?\"[p=0.01, l=11.94]', '\" athlete\"[p=0.01, l=11.94]', '\" Basketball\"[p=0.01, l=11.75]', '\" football\"[p=0.01, l=11.69]', '\"???\"[p=0.01, l=11.56]', '\" (\"[p=0.01, l=11.44]', '\" actor\"[p=0.01, l=11.25]', '\" politician\"[p=0.01, l=11.19]', '\" \\n\"[p=0.01, l=11.19]']\n",
      "\n",
      "\" John Mulaney\" | cur_rng=(21, 24)\n",
      "token_idx=21 [\" John\"] => ['\" unknown\"[p=0.07, l=12.19]', '\"?\\n\"[p=0.06, l=12.00]', '\"??\"[p=0.03, l=11.31]', '\"?\"[p=0.03, l=11.25]', '\" politician\"[p=0.03, l=11.19]', '\"???\"[p=0.02, l=11.00]', '\" no\"[p=0.02, l=10.94]', '\" programmer\"[p=0.02, l=10.81]', '\" software\"[p=0.02, l=10.75]', '\" actor\"[p=0.02, l=10.69]', '\" musician\"[p=0.02, l=10.62]', '\" evangel\"[p=0.01, l=10.56]', '\" (\"[p=0.01, l=10.44]', '\" singer\"[p=0.01, l=10.38]', '\" John\"[p=0.01, l=10.38]']\n",
      "token_idx=22 [\" Mul\"] => ['\" unknown\"[p=0.09, l=11.00]', '\"?\\n\"[p=0.04, l=10.19]', '\"??\"[p=0.04, l=10.19]', '\"???\"[p=0.03, l=9.81]', '\" politician\"[p=0.02, l=9.69]', '\" no\"[p=0.02, l=9.38]', '\" programmer\"[p=0.02, l=9.25]', '\"?\\n\\n\"[p=0.01, l=9.19]', '\" not\"[p=0.01, l=9.12]', '\" (\"[p=0.01, l=9.12]', '\"?\"[p=0.01, l=9.12]', '\" singer\"[p=0.01, l=9.12]', '\" musician\"[p=0.01, l=9.06]', '\" computer\"[p=0.01, l=9.06]', '\" artist\"[p=0.01, l=8.94]']\n",
      "token_idx=23 [\"aney\"] => ['\" comedian\"[p=0.50, l=15.88]', '\"?\\n\"[p=0.13, l=14.50]', '\"?\\n\\n\"[p=0.05, l=13.50]', '\"??\"[p=0.04, l=13.44]', '\"?\"[p=0.03, l=13.12]', '\"???\"[p=0.02, l=12.62]', '\" unknown\"[p=0.02, l=12.56]', '\" actor\"[p=0.02, l=12.56]', '\" (\"[p=0.01, l=12.00]', '\" politician\"[p=0.01, l=11.88]', '\" stand\"[p=0.01, l=11.75]', '\" \\n\"[p=0.01, l=11.56]', '\" \"[p=0.01, l=11.50]', '\" comic\"[p=0.01, l=11.31]', '\" writer\"[p=0.01, l=11.31]']\n",
      "\n",
      "\" Ariana Grande\" | cur_rng=(25, 28)\n",
      "token_idx=25 [\" Ari\"] => ['\"?\\n\"[p=0.12, l=11.75]', '\"??\"[p=0.05, l=10.94]', '\"?\"[p=0.04, l=10.62]', '\"???\"[p=0.04, l=10.62]', '\"?\\n\\n\"[p=0.03, l=10.38]', '\" unknown\"[p=0.03, l=10.31]', '\" singer\"[p=0.02, l=10.12]', '\" software\"[p=0.01, l=9.50]', '\" artist\"[p=0.01, l=9.44]', '\" astronaut\"[p=0.01, l=9.31]', '\" politician\"[p=0.01, l=9.31]', '\" (\"[p=0.01, l=9.25]', '\" lawyer\"[p=0.01, l=9.25]', '\" musician\"[p=0.01, l=9.12]', '\" \"[p=0.01, l=9.00]']\n",
      "token_idx=26 [\"ana\"] => ['\" singer\"[p=0.29, l=13.62]', '\"?\\n\"[p=0.11, l=12.69]', '\"?\"[p=0.06, l=12.00]', '\" unknown\"[p=0.04, l=11.75]', '\"??\"[p=0.04, l=11.56]', '\"?\\n\\n\"[p=0.03, l=11.31]', '\" musician\"[p=0.03, l=11.25]', '\" pop\"[p=0.02, l=11.00]', '\"???\"[p=0.02, l=10.88]', '\" artist\"[p=0.01, l=10.56]', '\" model\"[p=0.01, l=10.38]', '\" (\"[p=0.01, l=9.94]', '\" no\"[p=0.01, l=9.81]', '\" \\n\"[p=0.01, l=9.75]', '\" what\"[p=0.01, l=9.69]']\n",
      "token_idx=27 [\" Grande\"] => ['\" singer\"[p=0.42, l=14.31]', '\"?\\n\"[p=0.11, l=12.94]', '\" unknown\"[p=0.04, l=11.94]', '\"?\\n\\n\"[p=0.04, l=11.94]', '\"?\"[p=0.04, l=11.94]', '\"??\"[p=0.03, l=11.50]', '\" musician\"[p=0.03, l=11.50]', '\"???\"[p=0.01, l=10.75]', '\" artist\"[p=0.01, l=10.69]', '\" \\n\"[p=0.01, l=10.62]', '\" (\"[p=0.01, l=10.38]', '\" actress\"[p=0.01, l=10.25]', '\" actor\"[p=0.01, l=10.19]', '\" music\"[p=0.01, l=10.12]', '\" pop\"[p=0.01, l=10.00]']\n",
      "\n",
      "\" Joe Scarborough\" | cur_rng=(29, 31)\n",
      "token_idx=29 [\" Joe\"] => ['\"?\\n\"[p=0.08, l=11.75]', '\" unknown\"[p=0.07, l=11.62]', '\"??\"[p=0.05, l=11.38]', '\"?\"[p=0.04, l=11.00]', '\"???\"[p=0.03, l=10.94]', '\" politician\"[p=0.03, l=10.94]', '\" Joe\"[p=0.02, l=10.56]', '\"?\\n\\n\"[p=0.02, l=10.44]', '\" no\"[p=0.02, l=10.38]', '\" programmer\"[p=0.02, l=10.31]', '\" (\"[p=0.01, l=10.00]', '\" software\"[p=0.01, l=9.88]', '\" president\"[p=0.01, l=9.81]', '\" what\"[p=0.01, l=9.75]', '\" not\"[p=0.01, l=9.75]']\n",
      "token_idx=30 [\" Scarborough\"] => ['\" politician\"[p=0.19, l=14.56]', '\" journalist\"[p=0.16, l=14.38]', '\" news\"[p=0.08, l=13.69]', '\"??\"[p=0.06, l=13.44]', '\" political\"[p=0.05, l=13.25]', '\"?\\n\"[p=0.05, l=13.25]', '\" TV\"[p=0.04, l=13.12]', '\"?\"[p=0.03, l=12.69]', '\" television\"[p=0.02, l=12.50]', '\"?\\n\\n\"[p=0.02, l=12.44]', '\"???\"[p=0.02, l=12.44]', '\" unknown\"[p=0.02, l=12.31]', '\" (\"[p=0.01, l=11.81]', '\" tv\"[p=0.01, l=11.62]', '\" talk\"[p=0.01, l=11.50]']\n",
      "\n",
      "\" Andrey Rublev\" | cur_rng=(32, 36)\n",
      "token_idx=32 [\" And\"] => ['\"?\\n\"[p=0.11, l=11.44]', '\"?\"[p=0.05, l=10.62]', '\"??\"[p=0.04, l=10.56]', '\"?\\n\\n\"[p=0.04, l=10.50]', '\" And\"[p=0.02, l=9.94]', '\"???\"[p=0.02, l=9.81]', '\" (\"[p=0.02, l=9.69]', '\" unknown\"[p=0.01, l=9.38]', '\" lawyer\"[p=0.01, l=9.31]', '\" what\"[p=0.01, l=9.12]', '\" \\n\"[p=0.01, l=9.12]', '\" software\"[p=0.01, l=8.94]', '\" empty\"[p=0.01, l=8.94]', '\"...\"[p=0.01, l=8.88]', '\" and\"[p=0.01, l=8.88]']\n",
      "token_idx=33 [\"rey\"] => ['\"?\\n\"[p=0.09, l=12.00]', '\" programmer\"[p=0.06, l=11.62]', '\"?\"[p=0.04, l=11.12]', '\"?\\n\\n\"[p=0.03, l=11.00]', '\" software\"[p=0.03, l=10.94]', '\" unknown\"[p=0.03, l=10.88]', '\"??\"[p=0.03, l=10.81]', '\" entrepreneur\"[p=0.02, l=10.56]', '\"???\"[p=0.02, l=10.56]', '\" politician\"[p=0.02, l=10.31]', '\" engineer\"[p=0.02, l=10.25]', '\" artist\"[p=0.01, l=10.00]', '\" student\"[p=0.01, l=9.88]', '\" computer\"[p=0.01, l=9.81]', '\" developer\"[p=0.01, l=9.75]']\n",
      "token_idx=34 [\" Rub\"] => ['\"?\\n\"[p=0.07, l=10.88]', '\"??\"[p=0.05, l=10.56]', '\" unknown\"[p=0.05, l=10.50]', '\"???\"[p=0.04, l=10.19]', '\"?\"[p=0.03, l=10.12]', '\" politician\"[p=0.03, l=9.88]', '\"?\\n\\n\"[p=0.03, l=9.88]', '\" artist\"[p=0.02, l=9.75]', '\" programmer\"[p=0.02, l=9.38]', '\" not\"[p=0.01, l=9.19]', '\" no\"[p=0.01, l=9.00]', '\" (\"[p=0.01, l=9.00]', '\" musician\"[p=0.01, l=8.88]', '\" unclear\"[p=0.01, l=8.81]', '\" software\"[p=0.01, l=8.69]']\n",
      "token_idx=35 [\"lev\"] => ['\"?\\n\"[p=0.19, l=13.44]', '\" tennis\"[p=0.11, l=12.88]', '\"?\\n\\n\"[p=0.07, l=12.44]', '\"?\"[p=0.06, l=12.31]', '\"??\"[p=0.05, l=12.12]', '\" \\n\"[p=0.02, l=11.25]', '\"???\"[p=0.02, l=11.25]', '\" (\"[p=0.02, l=11.06]', '\" politician\"[p=0.02, l=10.94]', '\" athlete\"[p=0.02, l=10.94]', '\" lawyer\"[p=0.01, l=10.75]', '\" unknown\"[p=0.01, l=10.62]', '\" \"[p=0.01, l=10.38]', '\" artist\"[p=0.01, l=10.19]', '\" what\"[p=0.01, l=10.12]']\n",
      "\n",
      "\" Samuel L. Jackson\" | cur_rng=(37, 41)\n",
      "token_idx=37 [\" Samuel\"] => ['\" prophet\"[p=0.18, l=13.06]', '\"?\\n\"[p=0.09, l=12.31]', '\" unknown\"[p=0.06, l=12.00]', '\"??\"[p=0.03, l=11.38]', '\"?\"[p=0.03, l=11.12]', '\"???\"[p=0.03, l=11.06]', '\" actor\"[p=0.02, l=10.88]', '\" no\"[p=0.01, l=10.50]', '\"?\\n\\n\"[p=0.01, l=10.31]', '\" priest\"[p=0.01, l=10.25]', '\" not\"[p=0.01, l=10.19]', '\" (\"[p=0.01, l=10.06]', '\" singer\"[p=0.01, l=10.06]', '\" Prophet\"[p=0.01, l=9.94]', '\" judge\"[p=0.01, l=9.88]']\n",
      "token_idx=38 [\" L\"] => ['\"?\\n\"[p=0.24, l=13.75]', '\"?\"[p=0.11, l=12.94]', '\"?\\n\\n\"[p=0.10, l=12.88]', '\"??\"[p=0.06, l=12.31]', '\"???\"[p=0.03, l=11.62]', '\" lawyer\"[p=0.03, l=11.62]', '\" software\"[p=0.02, l=11.25]', '\" \\n\"[p=0.01, l=10.94]', '\" (\"[p=0.01, l=10.75]', '\" artist\"[p=0.01, l=10.62]', '\" \"[p=0.01, l=10.56]', '\" unknown\"[p=0.01, l=10.31]', '\" engineer\"[p=0.01, l=10.31]', '\" your\"[p=0.01, l=10.25]', '\" actor\"[p=0.01, l=10.19]']\n",
      "token_idx=39 [\".\"] => ['\"?\\n\"[p=0.27, l=13.81]', '\"?\\n\\n\"[p=0.12, l=13.06]', '\"?\"[p=0.10, l=12.81]', '\"??\"[p=0.05, l=12.06]', '\" lawyer\"[p=0.02, l=11.38]', '\" unknown\"[p=0.02, l=11.00]', '\" (\"[p=0.01, l=10.94]', '\"???\"[p=0.01, l=10.88]', '\" \\n\"[p=0.01, l=10.88]', '\" software\"[p=0.01, l=10.75]', '\" \"[p=0.01, l=10.62]', '\" your\"[p=0.01, l=10.56]', '\" artist\"[p=0.01, l=10.25]', '\" computer\"[p=0.01, l=10.06]', '\" person\"[p=0.01, l=10.06]']\n",
      "token_idx=40 [\" Jackson\"] => ['\" actor\"[p=0.18, l=12.81]', '\"?\\n\"[p=0.10, l=12.19]', '\"??\"[p=0.07, l=11.88]', '\"?\"[p=0.04, l=11.44]', '\"?\\n\\n\"[p=0.04, l=11.25]', '\" unknown\"[p=0.03, l=11.12]', '\"???\"[p=0.03, l=11.06]', '\" singer\"[p=0.03, l=11.00]', '\" politician\"[p=0.02, l=10.50]', '\" (\"[p=0.01, l=10.12]', '\" Jackson\"[p=0.01, l=10.06]', '\" programmer\"[p=0.01, l=10.00]', '\" lawyer\"[p=0.01, l=9.88]', '\" software\"[p=0.01, l=9.81]', '\" computer\"[p=0.01, l=9.69]']\n",
      "======================================================================================================================================================\n",
      "\n",
      "layer='model.layers.69'\n",
      "\n",
      "\"Ans:\" | cur_rng=(-2, 0)\n",
      "token_idx=-2 [\"Ans\"] => ['\" unknown\"[p=0.03, l=9.00]', '\"?\\n\"[p=0.02, l=8.88]', '\" answer\"[p=0.02, l=8.88]', '\" artist\"[p=0.02, l=8.62]', '\" computer\"[p=0.02, l=8.44]', '\" programmer\"[p=0.02, l=8.44]', '\" Answer\"[p=0.01, l=8.38]', '\" Ans\"[p=0.01, l=8.19]', '\" entrepreneur\"[p=0.01, l=8.12]', '\" actor\"[p=0.01, l=8.06]', '\" person\"[p=0.01, l=7.97]', '\" politician\"[p=0.01, l=7.88]', '\" assistant\"[p=0.01, l=7.84]', '\" \\n\"[p=0.01, l=7.84]', '\" software\"[p=0.01, l=7.75]']\n",
      "token_idx=-1 [\":\"] => ['\"?\\n\"[p=0.07, l=11.25]', '\" ->\"[p=0.06, l=11.19]', '\" (\"[p=0.03, l=10.50]', '\" symbol\"[p=0.03, l=10.44]', '\" programmer\"[p=0.03, l=10.38]', '\" placeholder\"[p=0.03, l=10.38]', '\" ->\\n\"[p=0.03, l=10.25]', '\" unknown\"[p=0.02, l=10.12]', '\"?\"[p=0.02, l=10.12]', '\"?\\n\\n\"[p=0.02, l=10.06]', '\" computer\"[p=0.02, l=10.00]', '\" \\n\"[p=0.02, l=9.88]', '\" actor\"[p=0.02, l=9.81]', '\" None\"[p=0.02, l=9.81]', '\" empty\"[p=0.02, l=9.75]']\n",
      "\n",
      "\" Trevor Noah\" | cur_rng=(13, 15)\n",
      "token_idx=13 [\" Trevor\"] => ['\"?\\n\"[p=0.14, l=12.88]', '\"??\"[p=0.06, l=12.06]', '\"?\"[p=0.05, l=11.81]', '\"?\\n\\n\"[p=0.05, l=11.75]', '\"???\"[p=0.04, l=11.69]', '\" unknown\"[p=0.04, l=11.69]', '\" software\"[p=0.03, l=11.44]', '\" entrepreneur\"[p=0.02, l=10.94]', '\" programmer\"[p=0.02, l=10.75]', '\" actor\"[p=0.01, l=10.50]', '\" engineer\"[p=0.01, l=10.44]', '\" student\"[p=0.01, l=10.25]', '\" politician\"[p=0.01, l=10.19]', '\" (\"[p=0.01, l=10.19]', '\" data\"[p=0.01, l=10.12]']\n",
      "token_idx=14 [\" Noah\"] => ['\" comedian\"[p=0.68, l=16.12]', '\"?\\n\"[p=0.03, l=13.12]', '\" unknown\"[p=0.02, l=12.81]', '\" actor\"[p=0.02, l=12.69]', '\" (\"[p=0.01, l=12.19]', '\"??\"[p=0.01, l=12.00]', '\" stand\"[p=0.01, l=11.81]', '\"?\\n\\n\"[p=0.01, l=11.62]', '\" \\n\"[p=0.01, l=11.56]', '\" Com\"[p=0.01, l=11.38]', '\"?\"[p=0.01, l=11.38]', '\" TV\"[p=0.01, l=11.25]', '\" politician\"[p=0.01, l=11.25]', '\"???\"[p=0.00, l=11.19]', '\" \"[p=0.00, l=11.12]']\n",
      "\n",
      "\" Zion Williamson\" | cur_rng=(18, 20)\n",
      "token_idx=18 [\" Zion\"] => ['\" prophet\"[p=0.14, l=12.88]', '\"?\\n\"[p=0.10, l=12.50]', '\" unknown\"[p=0.06, l=12.06]', '\"??\"[p=0.06, l=12.00]', '\"?\"[p=0.03, l=11.19]', '\"???\"[p=0.02, l=11.06]', '\" musician\"[p=0.02, l=10.94]', '\" king\"[p=0.02, l=10.75]', '\" singer\"[p=0.02, l=10.75]', '\" no\"[p=0.02, l=10.62]', '\" biblical\"[p=0.01, l=10.50]', '\" (\"[p=0.01, l=10.50]', '\"?\\n\\n\"[p=0.01, l=10.50]', '\" politician\"[p=0.01, l=10.44]', '\" not\"[p=0.01, l=10.25]']\n",
      "token_idx=19 [\" Williamson\"] => ['\" basketball\"[p=0.68, l=16.12]', '\" unknown\"[p=0.02, l=12.69]', '\" professional\"[p=0.02, l=12.62]', '\"??\"[p=0.02, l=12.50]', '\"?\\n\"[p=0.02, l=12.44]', '\" NBA\"[p=0.01, l=12.25]', '\" athlete\"[p=0.01, l=12.12]', '\" football\"[p=0.01, l=12.12]', '\" Basketball\"[p=0.01, l=12.00]', '\"?\"[p=0.01, l=11.88]', '\" actor\"[p=0.01, l=11.62]', '\" (\"[p=0.01, l=11.62]', '\"???\"[p=0.01, l=11.50]', '\" \\n\"[p=0.01, l=11.31]', '\" \"[p=0.00, l=11.19]']\n",
      "\n",
      "\" John Mulaney\" | cur_rng=(21, 24)\n",
      "token_idx=21 [\" John\"] => ['\" unknown\"[p=0.06, l=12.00]', '\"?\\n\"[p=0.05, l=11.75]', '\" politician\"[p=0.03, l=11.25]', '\"??\"[p=0.03, l=11.19]', '\" software\"[p=0.03, l=11.12]', '\" programmer\"[p=0.02, l=11.00]', '\"?\"[p=0.02, l=10.94]', '\"???\"[p=0.02, l=10.94]', '\" actor\"[p=0.02, l=10.88]', '\" musician\"[p=0.02, l=10.81]', '\" no\"[p=0.01, l=10.56]', '\" singer\"[p=0.01, l=10.56]', '\" evangel\"[p=0.01, l=10.50]', '\" lawyer\"[p=0.01, l=10.31]', '\" (\"[p=0.01, l=10.31]']\n",
      "token_idx=22 [\" Mul\"] => ['\" unknown\"[p=0.09, l=11.06]', '\"?\\n\"[p=0.04, l=10.12]', '\"??\"[p=0.03, l=10.06]', '\" politician\"[p=0.03, l=9.88]', '\"???\"[p=0.02, l=9.75]', '\" singer\"[p=0.02, l=9.44]', '\" programmer\"[p=0.02, l=9.38]', '\" musician\"[p=0.02, l=9.31]', '\" no\"[p=0.02, l=9.31]', '\" computer\"[p=0.01, l=9.25]', '\" artist\"[p=0.01, l=9.12]', '\" not\"[p=0.01, l=9.12]', '\"?\\n\\n\"[p=0.01, l=9.06]', '\"?\"[p=0.01, l=9.06]', '\" (\"[p=0.01, l=9.00]']\n",
      "token_idx=23 [\"aney\"] => ['\" comedian\"[p=0.52, l=15.88]', '\"?\\n\"[p=0.12, l=14.38]', '\"??\"[p=0.04, l=13.38]', '\"?\\n\\n\"[p=0.04, l=13.19]', '\"?\"[p=0.03, l=13.00]', '\" unknown\"[p=0.02, l=12.81]', '\"???\"[p=0.02, l=12.56]', '\" actor\"[p=0.02, l=12.44]', '\" (\"[p=0.01, l=12.00]', '\" politician\"[p=0.01, l=11.94]', '\" stand\"[p=0.01, l=11.88]', '\" \\n\"[p=0.01, l=11.38]', '\" \"[p=0.01, l=11.38]', '\" comic\"[p=0.01, l=11.25]', '\" writer\"[p=0.00, l=11.19]']\n",
      "\n",
      "\" Ariana Grande\" | cur_rng=(25, 28)\n",
      "token_idx=25 [\" Ari\"] => ['\"?\\n\"[p=0.10, l=11.50]', '\"??\"[p=0.05, l=10.75]', '\"???\"[p=0.03, l=10.38]', '\"?\"[p=0.03, l=10.31]', '\" unknown\"[p=0.03, l=10.12]', '\"?\\n\\n\"[p=0.02, l=10.00]', '\" singer\"[p=0.02, l=9.94]', '\" politician\"[p=0.01, l=9.31]', '\" artist\"[p=0.01, l=9.31]', '\" lawyer\"[p=0.01, l=9.31]', '\" software\"[p=0.01, l=9.25]', '\" (\"[p=0.01, l=9.12]', '\" astronaut\"[p=0.01, l=9.06]', '\" Ari\"[p=0.01, l=8.94]', '\" musician\"[p=0.01, l=8.94]']\n",
      "token_idx=26 [\"ana\"] => ['\" singer\"[p=0.29, l=13.75]', '\"?\\n\"[p=0.11, l=12.81]', '\"?\"[p=0.05, l=12.06]', '\" unknown\"[p=0.05, l=11.94]', '\"??\"[p=0.04, l=11.75]', '\" musician\"[p=0.03, l=11.50]', '\"?\\n\\n\"[p=0.03, l=11.38]', '\" pop\"[p=0.02, l=11.12]', '\"???\"[p=0.02, l=11.00]', '\" artist\"[p=0.01, l=10.62]', '\" model\"[p=0.01, l=10.56]', '\" (\"[p=0.01, l=10.19]', '\" no\"[p=0.01, l=10.00]', '\" what\"[p=0.01, l=9.88]', '\" \\n\"[p=0.01, l=9.88]']\n",
      "token_idx=27 [\" Grande\"] => ['\" singer\"[p=0.42, l=14.25]', '\"?\\n\"[p=0.09, l=12.75]', '\" unknown\"[p=0.04, l=12.00]', '\"?\"[p=0.03, l=11.69]', '\" musician\"[p=0.03, l=11.62]', '\"?\\n\\n\"[p=0.03, l=11.62]', '\"??\"[p=0.02, l=11.31]', '\" artist\"[p=0.01, l=10.75]', '\" \\n\"[p=0.01, l=10.62]', '\"???\"[p=0.01, l=10.62]', '\" (\"[p=0.01, l=10.38]', '\" actor\"[p=0.01, l=10.25]', '\" music\"[p=0.01, l=10.19]', '\" actress\"[p=0.01, l=9.94]', '\" pop\"[p=0.01, l=9.94]']\n",
      "\n",
      "\" Joe Scarborough\" | cur_rng=(29, 31)\n",
      "token_idx=29 [\" Joe\"] => ['\"?\\n\"[p=0.08, l=11.81]', '\" unknown\"[p=0.07, l=11.62]', '\"??\"[p=0.06, l=11.56]', '\"???\"[p=0.04, l=11.12]', '\"?\"[p=0.04, l=11.12]', '\" politician\"[p=0.03, l=10.81]', '\" Joe\"[p=0.02, l=10.62]', '\"?\\n\\n\"[p=0.02, l=10.56]', '\" programmer\"[p=0.02, l=10.50]', '\" no\"[p=0.02, l=10.31]', '\" software\"[p=0.01, l=10.06]', '\" (\"[p=0.01, l=10.00]', '\" what\"[p=0.01, l=9.81]', '\" president\"[p=0.01, l=9.81]', '\" not\"[p=0.01, l=9.69]']\n",
      "token_idx=30 [\" Scarborough\"] => ['\" politician\"[p=0.22, l=14.44]', '\" journalist\"[p=0.15, l=14.06]', '\" news\"[p=0.09, l=13.56]', '\" political\"[p=0.05, l=13.00]', '\" TV\"[p=0.04, l=12.75]', '\"??\"[p=0.04, l=12.62]', '\" television\"[p=0.03, l=12.44]', '\"?\\n\"[p=0.03, l=12.44]', '\" unknown\"[p=0.02, l=12.06]', '\"?\"[p=0.02, l=11.94]', '\"???\"[p=0.01, l=11.75]', '\" meteor\"[p=0.01, l=11.69]', '\" (\"[p=0.01, l=11.56]', '\"?\\n\\n\"[p=0.01, l=11.44]', '\" tv\"[p=0.01, l=11.38]']\n",
      "\n",
      "\" Andrey Rublev\" | cur_rng=(32, 36)\n",
      "token_idx=32 [\" And\"] => ['\"?\\n\"[p=0.09, l=11.25]', '\"?\"[p=0.05, l=10.56]', '\"??\"[p=0.04, l=10.50]', '\"?\\n\\n\"[p=0.04, l=10.31]', '\" And\"[p=0.03, l=10.06]', '\"???\"[p=0.02, l=9.81]', '\" (\"[p=0.02, l=9.75]', '\" unknown\"[p=0.02, l=9.44]', '\" lawyer\"[p=0.01, l=9.38]', '\" what\"[p=0.01, l=9.12]', '\" \\n\"[p=0.01, l=9.06]', '\" empty\"[p=0.01, l=8.94]', '\"...\"[p=0.01, l=8.94]', '\" software\"[p=0.01, l=8.94]', '\" politician\"[p=0.01, l=8.88]']\n",
      "token_idx=33 [\"rey\"] => ['\"?\\n\"[p=0.09, l=12.12]', '\" programmer\"[p=0.06, l=11.69]', '\"?\"[p=0.04, l=11.25]', '\"?\\n\\n\"[p=0.04, l=11.19]', '\" unknown\"[p=0.03, l=11.12]', '\"??\"[p=0.03, l=11.00]', '\" software\"[p=0.03, l=10.94]', '\" entrepreneur\"[p=0.03, l=10.88]', '\"???\"[p=0.02, l=10.75]', '\" politician\"[p=0.02, l=10.62]', '\" engineer\"[p=0.02, l=10.31]', '\" artist\"[p=0.01, l=10.25]', '\" student\"[p=0.01, l=9.88]', '\" not\"[p=0.01, l=9.88]', '\" astronaut\"[p=0.01, l=9.88]']\n",
      "token_idx=34 [\" Rub\"] => ['\"?\\n\"[p=0.08, l=11.19]', '\"??\"[p=0.07, l=11.00]', '\" unknown\"[p=0.05, l=10.75]', '\"?\"[p=0.04, l=10.50]', '\"???\"[p=0.04, l=10.44]', '\"?\\n\\n\"[p=0.04, l=10.44]', '\" politician\"[p=0.03, l=10.12]', '\" programmer\"[p=0.02, l=9.62]', '\" artist\"[p=0.02, l=9.50]', '\" not\"[p=0.01, l=9.19]', '\" software\"[p=0.01, l=9.12]', '\" (\"[p=0.01, l=9.06]', '\" no\"[p=0.01, l=9.00]', '\" what\"[p=0.01, l=8.94]', '\" entrepreneur\"[p=0.01, l=8.88]']\n",
      "token_idx=35 [\"lev\"] => ['\" tennis\"[p=0.21, l=13.75]', '\"?\\n\"[p=0.17, l=13.50]', '\"?\"[p=0.06, l=12.50]', '\"?\\n\\n\"[p=0.05, l=12.31]', '\"??\"[p=0.04, l=12.12]', '\" athlete\"[p=0.02, l=11.44]', '\" \\n\"[p=0.02, l=11.38]', '\"???\"[p=0.02, l=11.38]', '\" (\"[p=0.02, l=11.25]', '\" politician\"[p=0.02, l=11.12]', '\" unknown\"[p=0.02, l=11.12]', '\" \"[p=0.01, l=10.69]', '\" what\"[p=0.01, l=10.69]', '\" professional\"[p=0.01, l=10.38]', '\" musician\"[p=0.01, l=10.25]']\n",
      "\n",
      "\" Samuel L. Jackson\" | cur_rng=(37, 41)\n",
      "token_idx=37 [\" Samuel\"] => ['\" prophet\"[p=0.12, l=12.44]', '\"?\\n\"[p=0.09, l=12.12]', '\" unknown\"[p=0.06, l=11.81]', '\"??\"[p=0.03, l=11.19]', '\"???\"[p=0.03, l=11.00]', '\"?\"[p=0.03, l=11.00]', '\" actor\"[p=0.02, l=10.88]', '\"?\\n\\n\"[p=0.01, l=10.19]', '\" no\"[p=0.01, l=10.19]', '\" programmer\"[p=0.01, l=10.00]', '\" not\"[p=0.01, l=10.00]', '\" priest\"[p=0.01, l=10.00]', '\" singer\"[p=0.01, l=9.94]', '\" (\"[p=0.01, l=9.81]', '\" teacher\"[p=0.01, l=9.75]']\n",
      "token_idx=38 [\" L\"] => ['\"?\\n\"[p=0.25, l=13.69]', '\"?\"[p=0.12, l=12.94]', '\"?\\n\\n\"[p=0.11, l=12.88]', '\"??\"[p=0.06, l=12.19]', '\" lawyer\"[p=0.03, l=11.50]', '\"???\"[p=0.03, l=11.50]', '\" software\"[p=0.02, l=11.00]', '\" \\n\"[p=0.01, l=10.75]', '\" (\"[p=0.01, l=10.56]', '\" artist\"[p=0.01, l=10.50]', '\" unknown\"[p=0.01, l=10.50]', '\" \"[p=0.01, l=10.44]', '\" entrepreneur\"[p=0.01, l=10.25]', '\" engineer\"[p=0.01, l=10.25]', '\" your\"[p=0.01, l=10.06]']\n",
      "token_idx=39 [\".\"] => ['\"?\\n\"[p=0.32, l=14.31]', '\"?\\n\\n\"[p=0.14, l=13.50]', '\"?\"[p=0.10, l=13.19]', '\"??\"[p=0.04, l=12.25]', '\" lawyer\"[p=0.02, l=11.62]', '\" \\n\"[p=0.01, l=11.19]', '\"???\"[p=0.01, l=11.06]', '\" software\"[p=0.01, l=11.00]', '\" \"[p=0.01, l=11.00]', '\" unknown\"[p=0.01, l=11.00]', '\" (\"[p=0.01, l=10.88]', '\" your\"[p=0.01, l=10.62]', '\" artist\"[p=0.01, l=10.44]', '\" programmer\"[p=0.01, l=10.25]', '\" computer\"[p=0.01, l=10.25]']\n",
      "token_idx=40 [\" Jackson\"] => ['\" actor\"[p=0.18, l=12.94]', '\"?\\n\"[p=0.08, l=12.12]', '\"??\"[p=0.07, l=11.94]', '\" unknown\"[p=0.04, l=11.50]', '\"?\"[p=0.04, l=11.44]', '\" singer\"[p=0.04, l=11.38]', '\"???\"[p=0.03, l=11.12]', '\"?\\n\\n\"[p=0.03, l=11.06]', '\" programmer\"[p=0.02, l=10.75]', '\" politician\"[p=0.02, l=10.62]', '\" Jackson\"[p=0.01, l=10.44]', '\" (\"[p=0.01, l=10.19]', '\" software\"[p=0.01, l=10.12]', '\" computer\"[p=0.01, l=10.06]', '\" no\"[p=0.01, l=9.88]']\n",
      "======================================================================================================================================================\n",
      "\n",
      "layer='model.layers.72'\n",
      "\n",
      "\"Ans:\" | cur_rng=(-2, 0)\n",
      "token_idx=-2 [\"Ans\"] => ['\"?\\n\"[p=0.03, l=9.38]', '\" programmer\"[p=0.03, l=9.38]', '\" unknown\"[p=0.03, l=9.31]', '\" arrow\"[p=0.02, l=9.00]', '\" computer\"[p=0.02, l=9.00]', '\" artist\"[p=0.02, l=8.69]', '\" answer\"[p=0.01, l=8.56]', '\" (\"[p=0.01, l=8.31]', '\" assistant\"[p=0.01, l=8.25]', '\" software\"[p=0.01, l=8.25]', '\" ->\"[p=0.01, l=7.97]', '\" Ans\"[p=0.01, l=7.94]', '\" \\n\"[p=0.01, l=7.91]', '\" actor\"[p=0.01, l=7.84]', '\" not\"[p=0.01, l=7.84]']\n",
      "token_idx=-1 [\":\"] => ['\" ->\"[p=0.07, l=11.19]', '\"?\\n\"[p=0.07, l=11.12]', '\" (\"[p=0.03, l=10.44]', '\" ->\\n\"[p=0.03, l=10.31]', '\" symbol\"[p=0.02, l=10.12]', '\"?\"[p=0.02, l=10.00]', '\"?\\n\\n\"[p=0.02, l=9.88]', '\" unknown\"[p=0.02, l=9.81]', '\" \\n\"[p=0.02, l=9.81]', '\" None\"[p=0.02, l=9.69]', '\" computer\"[p=0.02, l=9.69]', '\" is\"[p=0.02, l=9.69]', '\" placeholder\"[p=0.01, l=9.56]', '\" profession\"[p=0.01, l=9.56]', '\" programmer\"[p=0.01, l=9.56]']\n",
      "\n",
      "\" Trevor Noah\" | cur_rng=(13, 15)\n",
      "token_idx=13 [\" Trevor\"] => ['\"?\\n\"[p=0.16, l=13.00]', '\"??\"[p=0.07, l=12.12]', '\"?\\n\\n\"[p=0.06, l=12.00]', '\" unknown\"[p=0.05, l=11.94]', '\"?\"[p=0.05, l=11.88]', '\"???\"[p=0.05, l=11.75]', '\" software\"[p=0.03, l=11.25]', '\" entrepreneur\"[p=0.02, l=10.81]', '\" programmer\"[p=0.02, l=10.75]', '\" actor\"[p=0.01, l=10.44]', '\" (\"[p=0.01, l=10.31]', '\" engineer\"[p=0.01, l=10.25]', '\" politician\"[p=0.01, l=10.19]', '\" not\"[p=0.01, l=10.19]', '\" student\"[p=0.01, l=10.12]']\n",
      "token_idx=14 [\" Noah\"] => ['\" comedian\"[p=0.34, l=14.00]', '\"?\\n\"[p=0.05, l=12.19]', '\" unknown\"[p=0.05, l=12.19]', '\" actor\"[p=0.04, l=11.88]', '\" software\"[p=0.02, l=11.25]', '\"??\"[p=0.02, l=11.12]', '\" (\"[p=0.02, l=10.94]', '\" programmer\"[p=0.01, l=10.88]', '\"?\\n\\n\"[p=0.01, l=10.88]', '\" None\"[p=0.01, l=10.81]', '\" singer\"[p=0.01, l=10.75]', '\" \\n\"[p=0.01, l=10.75]', '\" computer\"[p=0.01, l=10.62]', '\"?\"[p=0.01, l=10.44]', '\" politician\"[p=0.01, l=10.38]']\n",
      "\n",
      "\" Zion Williamson\" | cur_rng=(18, 20)\n",
      "token_idx=18 [\" Zion\"] => ['\" prophet\"[p=0.13, l=12.75]', '\"?\\n\"[p=0.12, l=12.62]', '\"??\"[p=0.08, l=12.25]', '\" unknown\"[p=0.07, l=12.12]', '\"?\"[p=0.04, l=11.50]', '\"???\"[p=0.03, l=11.38]', '\"?\\n\\n\"[p=0.02, l=10.88]', '\" no\"[p=0.02, l=10.69]', '\" musician\"[p=0.01, l=10.56]', '\" (\"[p=0.01, l=10.50]', '\" king\"[p=0.01, l=10.50]', '\" not\"[p=0.01, l=10.31]', '\" singer\"[p=0.01, l=10.31]', '\" \"[p=0.01, l=10.19]', '\" \\n\"[p=0.01, l=10.06]']\n",
      "token_idx=19 [\" Williamson\"] => ['\" basketball\"[p=0.57, l=15.56]', '\" unknown\"[p=0.03, l=12.75]', '\"?\\n\"[p=0.03, l=12.69]', '\"??\"[p=0.03, l=12.44]', '\" professional\"[p=0.02, l=12.31]', '\" athlete\"[p=0.02, l=12.31]', '\" NBA\"[p=0.01, l=11.88]', '\"?\"[p=0.01, l=11.88]', '\" football\"[p=0.01, l=11.81]', '\" actor\"[p=0.01, l=11.56]', '\"???\"[p=0.01, l=11.50]', '\" \\n\"[p=0.01, l=11.31]', '\" (\"[p=0.01, l=11.31]', '\" software\"[p=0.01, l=11.12]', '\" Basketball\"[p=0.01, l=10.94]']\n",
      "\n",
      "\" John Mulaney\" | cur_rng=(21, 24)\n",
      "token_idx=21 [\" John\"] => ['\" unknown\"[p=0.06, l=12.19]', '\"?\\n\"[p=0.04, l=11.81]', '\" politician\"[p=0.03, l=11.50]', '\" prophet\"[p=0.02, l=11.31]', '\" software\"[p=0.02, l=11.31]', '\"??\"[p=0.02, l=11.31]', '\" evangel\"[p=0.02, l=11.25]', '\" actor\"[p=0.02, l=11.12]', '\" musician\"[p=0.02, l=11.00]', '\"???\"[p=0.02, l=11.00]', '\"?\"[p=0.02, l=10.88]', '\" no\"[p=0.02, l=10.88]', '\" programmer\"[p=0.01, l=10.81]', '\" biblical\"[p=0.01, l=10.75]', '\" carp\"[p=0.01, l=10.75]']\n",
      "token_idx=22 [\" Mul\"] => ['\" unknown\"[p=0.11, l=11.50]', '\"?\\n\"[p=0.04, l=10.44]', '\"??\"[p=0.04, l=10.44]', '\" programmer\"[p=0.02, l=10.00]', '\"???\"[p=0.02, l=9.88]', '\" politician\"[p=0.02, l=9.88]', '\" musician\"[p=0.02, l=9.69]', '\" singer\"[p=0.02, l=9.62]', '\" artist\"[p=0.02, l=9.62]', '\" computer\"[p=0.02, l=9.56]', '\" no\"[p=0.01, l=9.44]', '\" actor\"[p=0.01, l=9.44]', '\"?\"[p=0.01, l=9.38]', '\" (\"[p=0.01, l=9.31]', '\" not\"[p=0.01, l=9.19]']\n",
      "token_idx=23 [\"aney\"] => ['\" comedian\"[p=0.35, l=14.81]', '\"?\\n\"[p=0.15, l=14.00]', '\"?\\n\\n\"[p=0.07, l=13.19]', '\"??\"[p=0.05, l=12.81]', '\"?\"[p=0.03, l=12.44]', '\" actor\"[p=0.03, l=12.19]', '\" unknown\"[p=0.02, l=12.06]', '\"???\"[p=0.02, l=11.81]', '\" (\"[p=0.01, l=11.62]', '\" politician\"[p=0.01, l=11.38]', '\" lawyer\"[p=0.01, l=11.25]', '\" \\n\"[p=0.01, l=11.12]', '\" journalist\"[p=0.01, l=10.88]', '\" writer\"[p=0.01, l=10.81]', '\" \"[p=0.01, l=10.81]']\n",
      "\n",
      "\" Ariana Grande\" | cur_rng=(25, 28)\n",
      "token_idx=25 [\" Ari\"] => ['\"?\\n\"[p=0.15, l=11.81]', '\"??\"[p=0.06, l=10.94]', '\"?\"[p=0.04, l=10.44]', '\"???\"[p=0.03, l=10.25]', '\"?\\n\\n\"[p=0.03, l=10.25]', '\" unknown\"[p=0.03, l=10.06]', '\" astronaut\"[p=0.01, l=9.44]', '\" singer\"[p=0.01, l=9.44]', '\" artist\"[p=0.01, l=9.44]', '\" lawyer\"[p=0.01, l=9.31]', '\" software\"[p=0.01, l=9.19]', '\" politician\"[p=0.01, l=9.12]', '\" Ari\"[p=0.01, l=9.12]', '\" (\"[p=0.01, l=9.00]', '\" what\"[p=0.01, l=8.75]']\n",
      "token_idx=26 [\"ana\"] => ['\"?\\n\"[p=0.17, l=12.94]', '\" singer\"[p=0.13, l=12.69]', '\"?\"[p=0.09, l=12.25]', '\"??\"[p=0.06, l=11.88]', '\"?\\n\\n\"[p=0.05, l=11.75]', '\" unknown\"[p=0.04, l=11.50]', '\"???\"[p=0.03, l=11.12]', '\" musician\"[p=0.02, l=10.81]', '\" artist\"[p=0.02, l=10.56]', '\" (\"[p=0.01, l=10.12]', '\" model\"[p=0.01, l=10.06]', '\" \\n\"[p=0.01, l=9.81]', '\" astronaut\"[p=0.01, l=9.69]', '\" pop\"[p=0.01, l=9.69]', '\" \"[p=0.01, l=9.62]']\n",
      "token_idx=27 [\" Grande\"] => ['\"?\\n\"[p=0.13, l=12.31]', '\" singer\"[p=0.08, l=11.88]', '\"?\\n\\n\"[p=0.05, l=11.44]', '\" unknown\"[p=0.04, l=11.19]', '\"?\"[p=0.04, l=11.19]', '\"??\"[p=0.03, l=11.00]', '\" \\n\"[p=0.03, l=10.75]', '\" musician\"[p=0.02, l=10.38]', '\" (\"[p=0.02, l=10.38]', '\" lawyer\"[p=0.02, l=10.31]', '\" artist\"[p=0.02, l=10.19]', '\" actor\"[p=0.01, l=10.12]', '\"???\"[p=0.01, l=10.12]', '\" ->\"[p=0.01, l=9.94]', '\" empty\"[p=0.01, l=9.88]']\n",
      "\n",
      "\" Joe Scarborough\" | cur_rng=(29, 31)\n",
      "token_idx=29 [\" Joe\"] => ['\"?\\n\"[p=0.08, l=11.81]', '\" unknown\"[p=0.06, l=11.56]', '\"??\"[p=0.06, l=11.56]', '\"???\"[p=0.04, l=11.06]', '\"?\"[p=0.04, l=11.00]', '\" politician\"[p=0.03, l=10.81]', '\" programmer\"[p=0.02, l=10.50]', '\"?\\n\\n\"[p=0.02, l=10.50]', '\" Joe\"[p=0.02, l=10.38]', '\" no\"[p=0.02, l=10.19]', '\" software\"[p=0.01, l=10.00]', '\" (\"[p=0.01, l=9.94]', '\" what\"[p=0.01, l=9.75]', '\" computer\"[p=0.01, l=9.75]', '\" not\"[p=0.01, l=9.69]']\n",
      "token_idx=30 [\" Scarborough\"] => ['\" politician\"[p=0.18, l=13.81]', '\" journalist\"[p=0.13, l=13.50]', '\"?\\n\"[p=0.07, l=12.88]', '\" news\"[p=0.05, l=12.50]', '\"??\"[p=0.05, l=12.44]', '\" political\"[p=0.04, l=12.19]', '\"?\"[p=0.03, l=12.06]', '\"?\\n\\n\"[p=0.03, l=11.94]', '\" unknown\"[p=0.03, l=11.94]', '\" software\"[p=0.02, l=11.50]', '\"???\"[p=0.02, l=11.38]', '\" (\"[p=0.02, l=11.31]', '\" TV\"[p=0.01, l=11.06]', '\" lawyer\"[p=0.01, l=10.94]', '\" television\"[p=0.01, l=10.81]']\n",
      "\n",
      "\" Andrey Rublev\" | cur_rng=(32, 36)\n",
      "token_idx=32 [\" And\"] => ['\"?\\n\"[p=0.09, l=11.06]', '\"??\"[p=0.04, l=10.25]', '\"?\"[p=0.04, l=10.25]', '\"?\\n\\n\"[p=0.03, l=10.06]', '\" And\"[p=0.03, l=9.94]', '\" (\"[p=0.02, l=9.50]', '\"???\"[p=0.02, l=9.50]', '\" lawyer\"[p=0.01, l=9.19]', '\" unknown\"[p=0.01, l=9.19]', '\" what\"[p=0.01, l=9.06]', '\" \\n\"[p=0.01, l=8.94]', '\" software\"[p=0.01, l=8.88]', '\" a\"[p=0.01, l=8.75]', '\" fill\"[p=0.01, l=8.75]', '\" and\"[p=0.01, l=8.69]']\n",
      "token_idx=33 [\"rey\"] => ['\"?\\n\"[p=0.11, l=12.38]', '\"?\\n\\n\"[p=0.05, l=11.62]', '\"?\"[p=0.04, l=11.44]', '\" programmer\"[p=0.04, l=11.38]', '\"??\"[p=0.04, l=11.31]', '\" unknown\"[p=0.03, l=11.12]', '\" entrepreneur\"[p=0.03, l=11.00]', '\"???\"[p=0.03, l=10.94]', '\" software\"[p=0.02, l=10.75]', '\" politician\"[p=0.02, l=10.50]', '\" engineer\"[p=0.02, l=10.44]', '\" artist\"[p=0.02, l=10.38]', '\" astronaut\"[p=0.02, l=10.38]', '\" student\"[p=0.01, l=9.94]', '\" computer\"[p=0.01, l=9.81]']\n",
      "token_idx=34 [\" Rub\"] => ['\"?\\n\"[p=0.10, l=11.50]', '\"??\"[p=0.07, l=11.12]', '\"?\"[p=0.05, l=10.81]', '\"?\\n\\n\"[p=0.05, l=10.69]', '\" unknown\"[p=0.04, l=10.62]', '\"???\"[p=0.04, l=10.50]', '\" politician\"[p=0.02, l=10.06]', '\" programmer\"[p=0.02, l=9.75]', '\" artist\"[p=0.02, l=9.69]', '\" (\"[p=0.01, l=9.38]', '\" what\"[p=0.01, l=9.12]', '\" \\n\"[p=0.01, l=9.12]', '\" entrepreneur\"[p=0.01, l=9.12]', '\" computer\"[p=0.01, l=9.06]', '\" no\"[p=0.01, l=9.06]']\n",
      "token_idx=35 [\"lev\"] => ['\"?\\n\"[p=0.17, l=13.06]', '\" tennis\"[p=0.08, l=12.31]', '\"?\\n\\n\"[p=0.06, l=11.94]', '\"?\"[p=0.05, l=11.88]', '\"??\"[p=0.05, l=11.75]', '\" athlete\"[p=0.03, l=11.25]', '\" (\"[p=0.02, l=10.94]', '\" \\n\"[p=0.02, l=10.94]', '\"???\"[p=0.02, l=10.69]', '\" software\"[p=0.02, l=10.62]', '\" unknown\"[p=0.02, l=10.62]', '\" politician\"[p=0.01, l=10.44]', '\" programmer\"[p=0.01, l=10.38]', '\" lawyer\"[p=0.01, l=10.25]', '\" computer\"[p=0.01, l=10.12]']\n",
      "\n",
      "\" Samuel L. Jackson\" | cur_rng=(37, 41)\n",
      "token_idx=37 [\" Samuel\"] => ['\"?\\n\"[p=0.14, l=12.62]', '\" unknown\"[p=0.08, l=12.06]', '\" prophet\"[p=0.06, l=11.88]', '\"?\"[p=0.05, l=11.69]', '\"??\"[p=0.05, l=11.62]', '\"???\"[p=0.04, l=11.50]', '\"?\\n\\n\"[p=0.03, l=10.94]', '\" programmer\"[p=0.01, l=10.38]', '\" actor\"[p=0.01, l=10.25]', '\" no\"[p=0.01, l=10.19]', '\" not\"[p=0.01, l=10.00]', '\" (\"[p=0.01, l=9.94]', '\" what\"[p=0.01, l=9.81]', '\" software\"[p=0.01, l=9.75]', '\" philosopher\"[p=0.01, l=9.69]']\n",
      "token_idx=38 [\" L\"] => ['\"?\\n\"[p=0.28, l=13.94]', '\"?\"[p=0.12, l=13.12]', '\"?\\n\\n\"[p=0.11, l=13.00]', '\"??\"[p=0.07, l=12.50]', '\"???\"[p=0.03, l=11.75]', '\" lawyer\"[p=0.03, l=11.69]', '\" unknown\"[p=0.01, l=10.88]', '\" \\n\"[p=0.01, l=10.81]', '\" software\"[p=0.01, l=10.69]', '\" (\"[p=0.01, l=10.62]', '\" \"[p=0.01, l=10.38]', '\" artist\"[p=0.01, l=10.31]', '\" engineer\"[p=0.01, l=10.19]', '\" your\"[p=0.01, l=10.19]', '\" entrepreneur\"[p=0.01, l=10.19]']\n",
      "token_idx=39 [\".\"] => ['\"?\\n\"[p=0.37, l=14.94]', '\"?\\n\\n\"[p=0.17, l=14.19]', '\"?\"[p=0.10, l=13.62]', '\"??\"[p=0.04, l=12.62]', '\" lawyer\"[p=0.02, l=12.06]', '\" \\n\"[p=0.02, l=11.81]', '\" \"[p=0.01, l=11.44]', '\"???\"[p=0.01, l=11.38]', '\" software\"[p=0.01, l=11.31]', '\" (\"[p=0.01, l=11.06]', '\" your\"[p=0.01, l=10.94]', '\" artist\"[p=0.01, l=10.88]', '\" unknown\"[p=0.01, l=10.81]', '\" ->\"[p=0.01, l=10.69]', '\" profession\"[p=0.00, l=10.62]']\n",
      "token_idx=40 [\" Jackson\"] => ['\"?\\n\"[p=0.13, l=12.56]', '\" actor\"[p=0.08, l=12.06]', '\"??\"[p=0.07, l=11.88]', '\"?\\n\\n\"[p=0.05, l=11.56]', '\"?\"[p=0.05, l=11.50]', '\" unknown\"[p=0.04, l=11.31]', '\"???\"[p=0.03, l=10.94]', '\" programmer\"[p=0.03, l=10.94]', '\" software\"[p=0.02, l=10.69]', '\" politician\"[p=0.02, l=10.62]', '\" singer\"[p=0.02, l=10.44]', '\" computer\"[p=0.01, l=10.31]', '\" (\"[p=0.01, l=10.25]', '\" lawyer\"[p=0.01, l=10.19]', '\" \\n\"[p=0.01, l=10.06]']\n",
      "======================================================================================================================================================\n",
      "\n",
      "layer='model.layers.75'\n",
      "\n",
      "\"Ans:\" | cur_rng=(-2, 0)\n",
      "token_idx=-2 [\"Ans\"] => ['\" programmer\"[p=0.05, l=9.94]', '\"?\\n\"[p=0.04, l=9.69]', '\" computer\"[p=0.03, l=9.38]', '\" unknown\"[p=0.03, l=9.25]', '\" arrow\"[p=0.02, l=8.94]', '\" artist\"[p=0.02, l=8.88]', '\" answer\"[p=0.01, l=8.62]', '\" software\"[p=0.01, l=8.50]', '\" (\"[p=0.01, l=8.44]', '\" symbol\"[p=0.01, l=8.31]', '\" no\"[p=0.01, l=8.19]', '\" not\"[p=0.01, l=8.06]', '\" musician\"[p=0.01, l=8.06]', '\" assistant\"[p=0.01, l=8.06]', '\" ->\"[p=0.01, l=8.00]']\n",
      "token_idx=-1 [\":\"] => ['\"?\\n\"[p=0.10, l=11.50]', '\" ->\"[p=0.06, l=10.94]', '\" comedian\"[p=0.04, l=10.50]', '\"?\"[p=0.03, l=10.38]', '\" symbol\"[p=0.03, l=10.31]', '\" (\"[p=0.03, l=10.25]', '\"?\\n\\n\"[p=0.02, l=10.12]', '\"??\"[p=0.02, l=9.94]', '\" profession\"[p=0.02, l=9.94]', '\" ->\\n\"[p=0.02, l=9.81]', '\" John\"[p=0.02, l=9.81]', '\" computer\"[p=0.02, l=9.75]', '\" programmer\"[p=0.02, l=9.69]', '\" None\"[p=0.02, l=9.69]', '\" software\"[p=0.01, l=9.62]']\n",
      "\n",
      "\" Trevor Noah\" | cur_rng=(13, 15)\n",
      "token_idx=13 [\" Trevor\"] => ['\"?\\n\"[p=0.13, l=12.75]', '\" unknown\"[p=0.07, l=12.06]', '\"??\"[p=0.06, l=11.94]', '\"?\"[p=0.05, l=11.81]', '\"?\\n\\n\"[p=0.05, l=11.69]', '\"???\"[p=0.04, l=11.56]', '\" software\"[p=0.03, l=11.31]', '\" programmer\"[p=0.02, l=10.88]', '\" entrepreneur\"[p=0.02, l=10.62]', '\" no\"[p=0.01, l=10.50]', '\" actor\"[p=0.01, l=10.50]', '\" not\"[p=0.01, l=10.50]', '\" (\"[p=0.01, l=10.38]', '\" computer\"[p=0.01, l=10.06]', '\" student\"[p=0.01, l=10.06]']\n",
      "token_idx=14 [\" Noah\"] => ['\" comedian\"[p=0.12, l=12.56]', '\"?\\n\"[p=0.07, l=12.00]', '\" unknown\"[p=0.06, l=11.81]', '\" computer\"[p=0.04, l=11.56]', '\" programmer\"[p=0.04, l=11.44]', '\" software\"[p=0.04, l=11.44]', '\"??\"[p=0.03, l=11.19]', '\" actor\"[p=0.02, l=10.94]', '\" (\"[p=0.02, l=10.88]', '\" None\"[p=0.02, l=10.75]', '\"?\\n\\n\"[p=0.02, l=10.69]', '\" \\n\"[p=0.02, l=10.69]', '\" empty\"[p=0.02, l=10.50]', '\"?\"[p=0.01, l=10.38]', '\" null\"[p=0.01, l=10.31]']\n",
      "\n",
      "\" Zion Williamson\" | cur_rng=(18, 20)\n",
      "token_idx=18 [\" Zion\"] => ['\"?\\n\"[p=0.15, l=12.69]', '\" prophet\"[p=0.09, l=12.19]', '\"??\"[p=0.08, l=12.12]', '\" unknown\"[p=0.08, l=12.06]', '\"?\"[p=0.06, l=11.75]', '\"???\"[p=0.04, l=11.31]', '\"?\\n\\n\"[p=0.03, l=11.00]', '\" no\"[p=0.02, l=10.44]', '\" (\"[p=0.01, l=10.19]', '\" singer\"[p=0.01, l=10.19]', '\" musician\"[p=0.01, l=10.12]', '\" not\"[p=0.01, l=10.12]', '\" \"[p=0.01, l=9.94]', '\" \\n\"[p=0.01, l=9.75]', '\" what\"[p=0.01, l=9.69]']\n",
      "token_idx=19 [\" Williamson\"] => ['\" basketball\"[p=0.53, l=15.38]', '\"?\\n\"[p=0.05, l=13.06]', '\" unknown\"[p=0.04, l=12.75]', '\" athlete\"[p=0.04, l=12.69]', '\"??\"[p=0.02, l=12.31]', '\"?\"[p=0.02, l=12.06]', '\" professional\"[p=0.02, l=12.00]', '\" \\n\"[p=0.01, l=11.69]', '\" (\"[p=0.01, l=11.50]', '\" football\"[p=0.01, l=11.44]', '\" NBA\"[p=0.01, l=11.38]', '\"???\"[p=0.01, l=11.31]', '\"?\\n\\n\"[p=0.01, l=11.12]', '\" actor\"[p=0.01, l=11.00]', '\" software\"[p=0.01, l=10.94]']\n",
      "\n",
      "\" John Mulaney\" | cur_rng=(21, 24)\n",
      "token_idx=21 [\" John\"] => ['\" unknown\"[p=0.10, l=12.38]', '\"?\\n\"[p=0.08, l=12.12]', '\"??\"[p=0.04, l=11.44]', '\" programmer\"[p=0.03, l=11.19]', '\"?\"[p=0.03, l=11.12]', '\"???\"[p=0.03, l=11.06]', '\" software\"[p=0.02, l=10.88]', '\" no\"[p=0.02, l=10.75]', '\"?\\n\\n\"[p=0.02, l=10.62]', '\" (\"[p=0.02, l=10.50]', '\" not\"[p=0.01, l=10.38]', '\" politician\"[p=0.01, l=10.38]', '\" actor\"[p=0.01, l=10.31]', '\" John\"[p=0.01, l=10.25]', '\" musician\"[p=0.01, l=10.12]']\n",
      "token_idx=22 [\" Mul\"] => ['\" unknown\"[p=0.07, l=11.06]', '\"?\\n\"[p=0.06, l=10.81]', '\"??\"[p=0.04, l=10.50]', '\"?\"[p=0.02, l=9.88]', '\" politician\"[p=0.02, l=9.81]', '\"???\"[p=0.02, l=9.75]', '\" musician\"[p=0.02, l=9.75]', '\"?\\n\\n\"[p=0.02, l=9.69]', '\" singer\"[p=0.02, l=9.69]', '\" programmer\"[p=0.02, l=9.56]', '\" (\"[p=0.01, l=9.38]', '\" software\"[p=0.01, l=9.31]', '\" no\"[p=0.01, l=9.25]', '\" not\"[p=0.01, l=9.25]', '\" None\"[p=0.01, l=9.25]']\n",
      "token_idx=23 [\"aney\"] => ['\"?\\n\"[p=0.16, l=13.44]', '\" comedian\"[p=0.16, l=13.44]', '\"?\\n\\n\"[p=0.07, l=12.62]', '\"?\"[p=0.05, l=12.19]', '\" actor\"[p=0.04, l=12.06]', '\"??\"[p=0.04, l=11.94]', '\" lawyer\"[p=0.02, l=11.38]', '\" (\"[p=0.02, l=11.38]', '\" unknown\"[p=0.02, l=11.25]', '\" \\n\"[p=0.02, l=11.25]', '\"???\"[p=0.01, l=10.94]', '\" ->\"[p=0.01, l=10.88]', '\" politician\"[p=0.01, l=10.75]', '\" artist\"[p=0.01, l=10.50]', '\" \"[p=0.01, l=10.38]']\n",
      "\n",
      "\" Ariana Grande\" | cur_rng=(25, 28)\n",
      "token_idx=25 [\" Ari\"] => ['\"?\\n\"[p=0.14, l=11.62]', '\"??\"[p=0.05, l=10.56]', '\"?\"[p=0.04, l=10.31]', '\"?\\n\\n\"[p=0.04, l=10.25]', '\" unknown\"[p=0.03, l=10.00]', '\"???\"[p=0.03, l=9.88]', '\" singer\"[p=0.02, l=9.38]', '\" lawyer\"[p=0.01, l=9.31]', '\" artist\"[p=0.01, l=9.25]', '\" Ari\"[p=0.01, l=9.19]', '\" astronaut\"[p=0.01, l=9.12]', '\" software\"[p=0.01, l=9.06]', '\" (\"[p=0.01, l=8.94]', '\" politician\"[p=0.01, l=8.62]', '\" what\"[p=0.01, l=8.56]']\n",
      "token_idx=26 [\"ana\"] => ['\"?\\n\"[p=0.20, l=12.69]', '\"?\"[p=0.10, l=12.00]', '\"?\\n\\n\"[p=0.09, l=11.88]', '\"??\"[p=0.06, l=11.50]', '\" singer\"[p=0.03, l=10.69]', '\"???\"[p=0.02, l=10.62]', '\" unknown\"[p=0.02, l=10.38]', '\" artist\"[p=0.01, l=10.00]', '\" \\n\"[p=0.01, l=9.94]', '\" musician\"[p=0.01, l=9.94]', '\" (\"[p=0.01, l=9.88]', '\" lawyer\"[p=0.01, l=9.81]', '\" astronaut\"[p=0.01, l=9.56]', '\" software\"[p=0.01, l=9.50]', '\" \"[p=0.01, l=9.44]']\n",
      "token_idx=27 [\" Grande\"] => ['\"?\\n\"[p=0.13, l=12.31]', '\" singer\"[p=0.07, l=11.75]', '\"?\\n\\n\"[p=0.06, l=11.50]', '\"?\"[p=0.04, l=11.06]', '\" \\n\"[p=0.03, l=10.94]', '\" unknown\"[p=0.03, l=10.94]', '\"??\"[p=0.03, l=10.81]', '\" lawyer\"[p=0.02, l=10.56]', '\" (\"[p=0.02, l=10.38]', '\" musician\"[p=0.02, l=10.31]', '\" artist\"[p=0.02, l=10.25]', '\" ->\"[p=0.02, l=10.19]', '\" actor\"[p=0.02, l=10.19]', '\" politician\"[p=0.01, l=10.00]', '\" empty\"[p=0.01, l=9.94]']\n",
      "\n",
      "\" Joe Scarborough\" | cur_rng=(29, 31)\n",
      "token_idx=29 [\" Joe\"] => ['\"?\\n\"[p=0.11, l=12.19]', '\"??\"[p=0.09, l=12.00]', '\" unknown\"[p=0.07, l=11.69]', '\"???\"[p=0.05, l=11.38]', '\"?\"[p=0.05, l=11.38]', '\"?\\n\\n\"[p=0.04, l=11.19]', '\" politician\"[p=0.02, l=10.69]', '\" Joe\"[p=0.02, l=10.50]', '\" programmer\"[p=0.02, l=10.44]', '\" software\"[p=0.01, l=9.94]', '\" (\"[p=0.01, l=9.88]', '\" computer\"[p=0.01, l=9.88]', '\" no\"[p=0.01, l=9.81]', '\" what\"[p=0.01, l=9.75]', '\" \"[p=0.01, l=9.56]']\n",
      "token_idx=30 [\" Scarborough\"] => ['\" politician\"[p=0.12, l=12.44]', '\"?\\n\"[p=0.09, l=12.19]', '\"??\"[p=0.06, l=11.69]', '\" unknown\"[p=0.04, l=11.38]', '\"?\"[p=0.04, l=11.31]', '\" journalist\"[p=0.04, l=11.31]', '\"?\\n\\n\"[p=0.04, l=11.31]', '\" software\"[p=0.03, l=11.06]', '\" (\"[p=0.02, l=10.50]', '\"???\"[p=0.02, l=10.50]', '\" computer\"[p=0.02, l=10.38]', '\" political\"[p=0.01, l=10.25]', '\" programmer\"[p=0.01, l=10.25]', '\" lawyer\"[p=0.01, l=10.19]', '\" \\n\"[p=0.01, l=10.00]']\n",
      "\n",
      "\" Andrey Rublev\" | cur_rng=(32, 36)\n",
      "token_idx=32 [\" And\"] => ['\"?\\n\"[p=0.11, l=11.19]', '\"?\"[p=0.05, l=10.38]', '\"?\\n\\n\"[p=0.04, l=10.31]', '\"??\"[p=0.04, l=10.31]', '\" And\"[p=0.03, l=9.75]', '\"???\"[p=0.02, l=9.38]', '\" unknown\"[p=0.02, l=9.25]', '\" (\"[p=0.02, l=9.25]', '\" \\n\"[p=0.01, l=9.06]', '\" lawyer\"[p=0.01, l=8.94]', '\" empty\"[p=0.01, l=8.94]', '\" what\"[p=0.01, l=8.88]', '\" a\"[p=0.01, l=8.75]', '\" software\"[p=0.01, l=8.56]', '\" the\"[p=0.01, l=8.56]']\n",
      "token_idx=33 [\"rey\"] => ['\"?\\n\"[p=0.13, l=12.62]', '\"?\\n\\n\"[p=0.05, l=11.75]', '\"?\"[p=0.04, l=11.56]', '\" programmer\"[p=0.04, l=11.44]', '\"??\"[p=0.03, l=11.31]', '\" unknown\"[p=0.03, l=11.12]', '\" astronaut\"[p=0.03, l=11.12]', '\"???\"[p=0.02, l=10.94]', '\" software\"[p=0.02, l=10.94]', '\" entrepreneur\"[p=0.02, l=10.88]', '\" engineer\"[p=0.02, l=10.81]', '\" artist\"[p=0.02, l=10.56]', '\" politician\"[p=0.02, l=10.50]', '\" lawyer\"[p=0.01, l=10.31]', '\" student\"[p=0.01, l=10.06]']\n",
      "token_idx=34 [\" Rub\"] => ['\"?\\n\"[p=0.11, l=11.25]', '\"??\"[p=0.06, l=10.62]', '\"?\"[p=0.05, l=10.50]', '\"?\\n\\n\"[p=0.05, l=10.44]', '\" unknown\"[p=0.03, l=10.06]', '\"???\"[p=0.02, l=9.75]', '\" politician\"[p=0.02, l=9.38]', '\" empty\"[p=0.01, l=9.06]', '\" (\"[p=0.01, l=9.06]', '\" programmer\"[p=0.01, l=9.00]', '\" \\n\"[p=0.01, l=9.00]', '\" artist\"[p=0.01, l=8.94]', '\" computer\"[p=0.01, l=8.81]', '\" software\"[p=0.01, l=8.69]', '\" \"[p=0.01, l=8.62]']\n",
      "token_idx=35 [\"lev\"] => ['\"?\\n\"[p=0.09, l=12.00]', '\" tennis\"[p=0.07, l=11.75]', '\"??\"[p=0.04, l=11.12]', '\"?\"[p=0.04, l=11.12]', '\"?\\n\\n\"[p=0.04, l=11.06]', '\" programmer\"[p=0.03, l=10.94]', '\" athlete\"[p=0.03, l=10.94]', '\" software\"[p=0.03, l=10.75]', '\" (\"[p=0.02, l=10.56]', '\" unknown\"[p=0.02, l=10.44]', '\" \\n\"[p=0.02, l=10.31]', '\"???\"[p=0.02, l=10.19]', '\" computer\"[p=0.01, l=10.06]', '\" None\"[p=0.01, l=9.88]', '\" politician\"[p=0.01, l=9.81]']\n",
      "\n",
      "\" Samuel L. Jackson\" | cur_rng=(37, 41)\n",
      "token_idx=37 [\" Samuel\"] => ['\"?\\n\"[p=0.14, l=12.69]', '\" prophet\"[p=0.11, l=12.44]', '\" unknown\"[p=0.08, l=12.12]', '\"?\"[p=0.05, l=11.62]', '\"??\"[p=0.05, l=11.62]', '\"???\"[p=0.04, l=11.50]', '\"?\\n\\n\"[p=0.03, l=11.00]', '\" programmer\"[p=0.02, l=10.75]', '\" philosopher\"[p=0.01, l=10.19]', '\" actor\"[p=0.01, l=10.12]', '\" no\"[p=0.01, l=10.00]', '\" software\"[p=0.01, l=9.94]', '\" not\"[p=0.01, l=9.88]', '\" (\"[p=0.01, l=9.88]', '\" computer\"[p=0.01, l=9.88]']\n",
      "token_idx=38 [\" L\"] => ['\"?\\n\"[p=0.18, l=13.06]', '\"?\"[p=0.10, l=12.44]', '\"?\\n\\n\"[p=0.08, l=12.25]', '\"??\"[p=0.08, l=12.25]', '\" Jackson\"[p=0.04, l=11.44]', '\"???\"[p=0.03, l=11.38]', '\" unknown\"[p=0.03, l=11.25]', '\" lawyer\"[p=0.02, l=11.00]', '\" (\"[p=0.02, l=10.56]', '\" \\n\"[p=0.01, l=10.38]', '\" software\"[p=0.01, l=10.31]', '\" your\"[p=0.01, l=10.12]', '\" \"[p=0.01, l=10.06]', '\" entrepreneur\"[p=0.01, l=10.00]', '\" empty\"[p=0.01, l=9.94]']\n",
      "token_idx=39 [\".\"] => ['\"?\\n\"[p=0.35, l=14.62]', '\"?\\n\\n\"[p=0.15, l=13.81]', '\"?\"[p=0.09, l=13.25]', '\"??\"[p=0.04, l=12.50]', '\" lawyer\"[p=0.02, l=11.88]', '\" \\n\"[p=0.02, l=11.69]', '\" software\"[p=0.01, l=11.31]', '\"???\"[p=0.01, l=11.06]', '\" \"[p=0.01, l=11.06]', '\" ->\"[p=0.01, l=10.94]', '\" artist\"[p=0.01, l=10.94]', '\" (\"[p=0.01, l=10.94]', '\" your\"[p=0.01, l=10.88]', '\" engineer\"[p=0.01, l=10.50]', '\" unknown\"[p=0.01, l=10.50]']\n",
      "token_idx=40 [\" Jackson\"] => ['\"?\\n\"[p=0.16, l=12.81]', '\"?\\n\\n\"[p=0.07, l=12.00]', '\" actor\"[p=0.07, l=12.00]', '\"?\"[p=0.05, l=11.75]', '\"??\"[p=0.05, l=11.62]', '\" unknown\"[p=0.03, l=11.19]', '\" lawyer\"[p=0.02, l=10.62]', '\" politician\"[p=0.02, l=10.56]', '\" \\n\"[p=0.02, l=10.50]', '\" (\"[p=0.02, l=10.50]', '\"???\"[p=0.02, l=10.50]', '\" ->\"[p=0.01, l=10.38]', '\" programmer\"[p=0.01, l=10.31]', '\" software\"[p=0.01, l=10.31]', '\" computer\"[p=0.01, l=10.06]']\n",
      "======================================================================================================================================================\n",
      "\n",
      "layer='model.layers.78'\n",
      "\n",
      "\"Ans:\" | cur_rng=(-2, 0)\n",
      "token_idx=-2 [\"Ans\"] => ['\" programmer\"[p=0.25, l=12.12]', '\" computer\"[p=0.08, l=10.94]', '\" software\"[p=0.03, l=10.12]', '\" musician\"[p=0.03, l=9.88]', '\" programming\"[p=0.02, l=9.44]', '\" keyboard\"[p=0.01, l=9.06]', '\" arrow\"[p=0.01, l=9.06]', '\" hacker\"[p=0.01, l=8.94]', '\" answer\"[p=0.01, l=8.94]', '\" Albert\"[p=0.01, l=8.88]', '\" Jack\"[p=0.01, l=8.56]', '\" a\"[p=0.01, l=8.56]', '\" developer\"[p=0.01, l=8.56]', '\" singer\"[p=0.01, l=8.44]', '\" the\"[p=0.01, l=8.44]']\n",
      "token_idx=-1 [\":\"] => ['\" comedian\"[p=0.27, l=13.94]', '\"?\\n\"[p=0.13, l=13.25]', '\" ->\"[p=0.05, l=12.31]', '\" actor\"[p=0.05, l=12.25]', '\" John\"[p=0.04, l=12.12]', '\"?\\n\\n\"[p=0.03, l=11.69]', '\"?\"[p=0.02, l=11.38]', '\" (\"[p=0.02, l=11.38]', '\"??\"[p=0.02, l=11.19]', '\" politician\"[p=0.02, l=11.19]', '\" journalist\"[p=0.02, l=11.06]', '\" profession\"[p=0.01, l=10.88]', '\" \\n\"[p=0.01, l=10.81]', '\" person\"[p=0.01, l=10.69]', '\" TV\"[p=0.01, l=10.62]']\n",
      "\n",
      "\" Trevor Noah\" | cur_rng=(13, 15)\n",
      "token_idx=13 [\" Trevor\"] => ['\" software\"[p=0.16, l=13.00]', '\" programmer\"[p=0.04, l=11.69]', '\"?\\n\"[p=0.03, l=11.44]', '\" data\"[p=0.03, l=11.31]', '\"??\"[p=0.03, l=11.25]', '\" actor\"[p=0.03, l=11.19]', '\" entrepreneur\"[p=0.02, l=11.06]', '\" developer\"[p=0.02, l=11.00]', '\" computer\"[p=0.02, l=10.94]', '\"???\"[p=0.02, l=10.94]', '\" unknown\"[p=0.02, l=10.94]', '\" musician\"[p=0.02, l=10.62]', '\" engineer\"[p=0.01, l=10.50]', '\" hacker\"[p=0.01, l=10.44]', '\"?\"[p=0.01, l=10.31]']\n",
      "token_idx=14 [\" Noah\"] => ['\" comedian\"[p=0.71, l=16.25]', '\" programmer\"[p=0.05, l=13.69]', '\" software\"[p=0.02, l=12.81]', '\" computer\"[p=0.02, l=12.56]', '\" actor\"[p=0.02, l=12.50]', '\" unknown\"[p=0.01, l=11.88]', '\"?\\n\"[p=0.01, l=11.75]', '\" (\"[p=0.01, l=11.69]', '\" what\"[p=0.00, l=11.19]', '\"??\"[p=0.00, l=11.19]', '\" person\"[p=0.00, l=11.12]', '\" \"[p=0.00, l=11.12]', '\" writer\"[p=0.00, l=11.12]', '\" Com\"[p=0.00, l=10.94]', '\" no\"[p=0.00, l=10.94]']\n",
      "\n",
      "\" Zion Williamson\" | cur_rng=(18, 20)\n",
      "token_idx=18 [\" Zion\"] => ['\"?\\n\"[p=0.05, l=10.69]', '\" singer\"[p=0.04, l=10.56]', '\" unknown\"[p=0.04, l=10.50]', '\" prophet\"[p=0.03, l=10.25]', '\"??\"[p=0.03, l=10.19]', '\" musician\"[p=0.03, l=10.19]', '\" no\"[p=0.02, l=9.75]', '\" rapper\"[p=0.02, l=9.62]', '\"?\"[p=0.02, l=9.62]', '\" none\"[p=0.01, l=9.44]', '\" (\"[p=0.01, l=9.31]', '\"???\"[p=0.01, l=9.31]', '\" not\"[p=0.01, l=9.25]', '\" politician\"[p=0.01, l=9.19]', '\" actor\"[p=0.01, l=9.06]']\n",
      "token_idx=19 [\" Williamson\"] => ['\" basketball\"[p=0.28, l=13.31]', '\" unknown\"[p=0.04, l=11.31]', '\" actor\"[p=0.04, l=11.31]', '\" athlete\"[p=0.03, l=11.19]', '\"?\\n\"[p=0.03, l=11.06]', '\" software\"[p=0.03, l=11.06]', '\" computer\"[p=0.02, l=10.88]', '\" singer\"[p=0.02, l=10.50]', '\" programmer\"[p=0.02, l=10.44]', '\"??\"[p=0.01, l=10.19]', '\" professional\"[p=0.01, l=10.12]', '\" NBA\"[p=0.01, l=10.12]', '\"?\"[p=0.01, l=10.06]', '\" not\"[p=0.01, l=10.06]', '\" none\"[p=0.01, l=10.06]']\n",
      "\n",
      "\" John Mulaney\" | cur_rng=(21, 24)\n",
      "token_idx=21 [\" John\"] => ['\" unknown\"[p=0.08, l=11.94]', '\" software\"[p=0.07, l=11.81]', '\"?\\n\"[p=0.05, l=11.38]', '\" programmer\"[p=0.04, l=11.25]', '\"??\"[p=0.03, l=10.81]', '\" actor\"[p=0.03, l=10.75]', '\"???\"[p=0.02, l=10.31]', '\" musician\"[p=0.02, l=10.31]', '\" computer\"[p=0.02, l=10.31]', '\" no\"[p=0.02, l=10.25]', '\" singer\"[p=0.02, l=10.25]', '\"?\"[p=0.02, l=10.25]', '\" politician\"[p=0.01, l=10.12]', '\" (\"[p=0.01, l=10.12]', '\" John\"[p=0.01, l=9.81]']\n",
      "token_idx=22 [\" Mul\"] => ['\" programmer\"[p=0.07, l=10.75]', '\" musician\"[p=0.04, l=10.25]', '\" unknown\"[p=0.03, l=9.88]', '\" computer\"[p=0.03, l=9.75]', '\" software\"[p=0.03, l=9.75]', '\"??\"[p=0.03, l=9.69]', '\"?\\n\"[p=0.02, l=9.62]', '\" singer\"[p=0.02, l=9.62]', '\" politician\"[p=0.02, l=9.25]', '\" hacker\"[p=0.02, l=9.19]', '\" actor\"[p=0.01, l=9.06]', '\" artist\"[p=0.01, l=9.00]', '\"???\"[p=0.01, l=8.88]', '\" developer\"[p=0.01, l=8.81]', '\" (\"[p=0.01, l=8.56]']\n",
      "token_idx=23 [\"aney\"] => ['\" comedian\"[p=0.54, l=14.75]', '\"?\\n\"[p=0.06, l=12.50]', '\" actor\"[p=0.04, l=12.19]', '\"??\"[p=0.02, l=11.44]', '\" stand\"[p=0.02, l=11.44]', '\"?\\n\\n\"[p=0.02, l=11.25]', '\" unknown\"[p=0.02, l=11.19]', '\" writer\"[p=0.01, l=11.12]', '\"?\"[p=0.01, l=11.00]', '\" (\"[p=0.01, l=10.75]', '\"???\"[p=0.01, l=10.44]', '\" not\"[p=0.01, l=10.31]', '\" comic\"[p=0.01, l=10.31]', '\" ->\"[p=0.01, l=10.12]', '\" lawyer\"[p=0.00, l=10.06]']\n",
      "\n",
      "\" Ariana Grande\" | cur_rng=(25, 28)\n",
      "token_idx=25 [\" Ari\"] => ['\" singer\"[p=0.06, l=11.25]', '\"?\\n\"[p=0.06, l=11.25]', '\" lawyer\"[p=0.03, l=10.69]', '\"??\"[p=0.03, l=10.50]', '\" unknown\"[p=0.02, l=10.31]', '\" software\"[p=0.02, l=10.25]', '\"???\"[p=0.02, l=10.12]', '\" artist\"[p=0.01, l=9.88]', '\"?\"[p=0.01, l=9.81]', '\" musician\"[p=0.01, l=9.75]', '\" (\"[p=0.01, l=9.69]', '\" model\"[p=0.01, l=9.69]', '\" politician\"[p=0.01, l=9.38]', '\" no\"[p=0.01, l=9.38]', '\"?\\n\\n\"[p=0.01, l=9.31]']\n",
      "token_idx=26 [\"ana\"] => ['\"?\\n\"[p=0.20, l=12.88]', '\"?\\n\\n\"[p=0.09, l=12.12]', '\"?\"[p=0.07, l=11.88]', '\"??\"[p=0.06, l=11.75]', '\"???\"[p=0.03, l=10.88]', '\" artist\"[p=0.02, l=10.56]', '\" singer\"[p=0.02, l=10.50]', '\" musician\"[p=0.02, l=10.31]', '\" software\"[p=0.01, l=10.12]', '\" astronaut\"[p=0.01, l=10.06]', '\" programmer\"[p=0.01, l=9.94]', '\" lawyer\"[p=0.01, l=9.94]', '\" \\n\"[p=0.01, l=9.88]', '\" unknown\"[p=0.01, l=9.81]', '\" engineer\"[p=0.01, l=9.62]']\n",
      "token_idx=27 [\" Grande\"] => ['\" programmer\"[p=0.10, l=12.00]', '\" singer\"[p=0.10, l=12.00]', '\" software\"[p=0.06, l=11.44]', '\" unknown\"[p=0.04, l=11.12]', '\"?\\n\"[p=0.04, l=11.00]', '\" None\"[p=0.03, l=10.81]', '\" computer\"[p=0.03, l=10.81]', '\" musician\"[p=0.03, l=10.81]', '\" empty\"[p=0.03, l=10.62]', '\" none\"[p=0.02, l=10.56]', '\"?\\n\\n\"[p=0.01, l=10.06]', '\" not\"[p=0.01, l=10.00]', '\"?\"[p=0.01, l=9.94]', '\" (\"[p=0.01, l=9.94]', '\"??\"[p=0.01, l=9.94]']\n",
      "\n",
      "\" Joe Scarborough\" | cur_rng=(29, 31)\n",
      "token_idx=29 [\" Joe\"] => ['\" unknown\"[p=0.10, l=12.06]', '\"?\\n\"[p=0.07, l=11.81]', '\"??\"[p=0.05, l=11.44]', '\" politician\"[p=0.04, l=11.06]', '\"?\"[p=0.03, l=10.94]', '\"???\"[p=0.03, l=10.94]', '\" Joe\"[p=0.02, l=10.69]', '\"?\\n\\n\"[p=0.02, l=10.69]', '\" programmer\"[p=0.02, l=10.50]', '\" software\"[p=0.02, l=10.38]', '\" computer\"[p=0.01, l=10.19]', '\" no\"[p=0.01, l=10.12]', '\" president\"[p=0.01, l=10.00]', '\" what\"[p=0.01, l=9.81]', '\" (\"[p=0.01, l=9.75]']\n",
      "token_idx=30 [\" Scarborough\"] => ['\"?\\n\"[p=0.06, l=10.88]', '\" politician\"[p=0.05, l=10.75]', '\" unknown\"[p=0.04, l=10.31]', '\"?\"[p=0.03, l=10.25]', '\"??\"[p=0.03, l=10.06]', '\"?\\n\\n\"[p=0.03, l=10.00]', '\" lawyer\"[p=0.02, l=9.88]', '\" None\"[p=0.02, l=9.62]', '\" (\"[p=0.02, l=9.62]', '\" person\"[p=0.02, l=9.50]', '\" ->\"[p=0.01, l=9.44]', '\" empty\"[p=0.01, l=9.44]', '\" software\"[p=0.01, l=9.38]', '\" computer\"[p=0.01, l=9.31]', '\" not\"[p=0.01, l=9.19]']\n",
      "\n",
      "\" Andrey Rublev\" | cur_rng=(32, 36)\n",
      "token_idx=32 [\" And\"] => ['\"?\\n\"[p=0.07, l=10.75]', '\"??\"[p=0.03, l=10.06]', '\" unknown\"[p=0.03, l=10.00]', '\" software\"[p=0.03, l=9.94]', '\" programmer\"[p=0.02, l=9.69]', '\"?\\n\\n\"[p=0.02, l=9.69]', '\"?\"[p=0.02, l=9.56]', '\"???\"[p=0.02, l=9.44]', '\" And\"[p=0.02, l=9.31]', '\" not\"[p=0.02, l=9.25]', '\" (\"[p=0.02, l=9.25]', '\" computer\"[p=0.01, l=9.19]', '\" no\"[p=0.01, l=8.94]', '\" undefined\"[p=0.01, l=8.94]', '\" musician\"[p=0.01, l=8.88]']\n",
      "token_idx=33 [\"rey\"] => ['\"?\\n\"[p=0.07, l=11.69]', '\" programmer\"[p=0.05, l=11.38]', '\"?\\n\\n\"[p=0.03, l=11.00]', '\"?\"[p=0.03, l=10.94]', '\" unknown\"[p=0.03, l=10.75]', '\" software\"[p=0.03, l=10.75]', '\" astronaut\"[p=0.02, l=10.69]', '\" entrepreneur\"[p=0.02, l=10.62]', '\"??\"[p=0.02, l=10.56]', '\" artist\"[p=0.02, l=10.56]', '\" lawyer\"[p=0.02, l=10.31]', '\" engineer\"[p=0.02, l=10.31]', '\"???\"[p=0.02, l=10.31]', '\" politician\"[p=0.02, l=10.31]', '\" mathematic\"[p=0.01, l=10.12]']\n",
      "token_idx=34 [\" Rub\"] => ['\"?\\n\"[p=0.10, l=11.56]', '\" politician\"[p=0.07, l=11.12]', '\"?\\n\\n\"[p=0.05, l=10.81]', '\"??\"[p=0.05, l=10.81]', '\" unknown\"[p=0.03, l=10.38]', '\"?\"[p=0.03, l=10.31]', '\" programmer\"[p=0.02, l=10.06]', '\"???\"[p=0.02, l=10.00]', '\" lawyer\"[p=0.01, l=9.62]', '\" computer\"[p=0.01, l=9.62]', '\" mathematic\"[p=0.01, l=9.56]', '\" artist\"[p=0.01, l=9.50]', '\" musician\"[p=0.01, l=9.44]', '\" \\n\"[p=0.01, l=9.44]', '\" president\"[p=0.01, l=9.25]']\n",
      "token_idx=35 [\"lev\"] => ['\" tennis\"[p=0.11, l=11.75]', '\" programmer\"[p=0.07, l=11.38]', '\" computer\"[p=0.04, l=10.81]', '\"?\\n\"[p=0.04, l=10.75]', '\" software\"[p=0.03, l=10.50]', '\" None\"[p=0.03, l=10.44]', '\" none\"[p=0.03, l=10.44]', '\" (\"[p=0.03, l=10.38]', '\"?\"[p=0.03, l=10.38]', '\"?\\n\\n\"[p=0.02, l=10.19]', '\" unknown\"[p=0.02, l=10.00]', '\"??\"[p=0.02, l=9.94]', '\" no\"[p=0.01, l=9.75]', '\" not\"[p=0.01, l=9.75]', '\" empty\"[p=0.01, l=9.62]']\n",
      "\n",
      "\" Samuel L. Jackson\" | cur_rng=(37, 41)\n",
      "token_idx=37 [\" Samuel\"] => ['\"?\\n\"[p=0.08, l=11.69]', '\" unknown\"[p=0.06, l=11.50]', '\" programmer\"[p=0.05, l=11.31]', '\" software\"[p=0.04, l=11.12]', '\"??\"[p=0.02, l=10.50]', '\"?\"[p=0.02, l=10.44]', '\"???\"[p=0.02, l=10.44]', '\" actor\"[p=0.02, l=10.44]', '\" computer\"[p=0.02, l=10.31]', '\" engineer\"[p=0.01, l=9.88]', '\" no\"[p=0.01, l=9.88]', '\"?\\n\\n\"[p=0.01, l=9.88]', '\" musician\"[p=0.01, l=9.75]', '\" philosopher\"[p=0.01, l=9.62]', '\" singer\"[p=0.01, l=9.62]']\n",
      "token_idx=38 [\" L\"] => ['\" Jackson\"[p=0.16, l=12.94]', '\" programmer\"[p=0.09, l=12.38]', '\"?\\n\"[p=0.07, l=12.19]', '\" software\"[p=0.07, l=12.12]', '\"??\"[p=0.06, l=11.94]', '\" unknown\"[p=0.04, l=11.44]', '\" computer\"[p=0.02, l=11.06]', '\"?\\n\\n\"[p=0.02, l=11.00]', '\"?\"[p=0.02, l=10.81]', '\" empty\"[p=0.02, l=10.81]', '\"???\"[p=0.02, l=10.75]', '\" \\n\"[p=0.01, l=10.31]', '\" person\"[p=0.01, l=10.25]', '\" (\"[p=0.01, l=10.25]', '\" lawyer\"[p=0.01, l=10.25]']\n",
      "token_idx=39 [\".\"] => ['\"?\\n\"[p=0.32, l=14.75]', '\"?\\n\\n\"[p=0.13, l=13.81]', '\"?\"[p=0.07, l=13.25]', '\"??\"[p=0.04, l=12.75]', '\" lawyer\"[p=0.03, l=12.38]', '\" software\"[p=0.02, l=12.00]', '\" artist\"[p=0.02, l=11.69]', '\" \\n\"[p=0.01, l=11.56]', '\" politician\"[p=0.01, l=11.50]', '\" actor\"[p=0.01, l=11.44]', '\" musician\"[p=0.01, l=11.38]', '\" programmer\"[p=0.01, l=11.31]', '\" singer\"[p=0.01, l=11.25]', '\"???\"[p=0.01, l=11.19]', '\" \"[p=0.01, l=11.12]']\n",
      "token_idx=40 [\" Jackson\"] => ['\" actor\"[p=0.08, l=11.50]', '\" unknown\"[p=0.05, l=10.94]', '\"?\\n\"[p=0.04, l=10.88]', '\" None\"[p=0.03, l=10.62]', '\" none\"[p=0.03, l=10.44]', '\"?\"[p=0.03, l=10.38]', '\" programmer\"[p=0.03, l=10.31]', '\" empty\"[p=0.02, l=10.19]', '\" software\"[p=0.02, l=10.19]', '\" not\"[p=0.02, l=10.19]', '\" (\"[p=0.02, l=10.19]', '\" computer\"[p=0.02, l=10.12]', '\"?\\n\\n\"[p=0.02, l=10.06]', '\"??\"[p=0.02, l=9.88]', '\" no\"[p=0.02, l=9.81]']\n",
      "======================================================================================================================================================\n"
     ]
    }
   ],
   "source": [
    "from src.functional import patchscope, get_hs\n",
    "from itertools import product\n",
    "\n",
    "pred_range = (-2, 0)\n",
    "token_ranges = [pred_range, subj_range] + option_ranges\n",
    "token_indices = []\n",
    "for rng in token_ranges:\n",
    "    token_indices.extend(list(range(rng[0], rng[1])))\n",
    "\n",
    "layers = mt.layer_names\n",
    "locations = list(product(layers, token_indices))\n",
    "\n",
    "hs = get_hs(mt=mt, input=tokenized, locations=locations, patches=[], return_dict=True)\n",
    "\n",
    "\n",
    "########################################################################\n",
    "context_prof = \"\"\"Name of a person -> their profession\n",
    "Albert Einstein -> physicist\n",
    "Michael Jordan -> basketball player\n",
    "Jack Ma -> entrepreneur\n",
    "placeholder ->\"\"\"\n",
    "\n",
    "patch_layers = [5]\n",
    "patch_layers = [mt.layer_name_format.format(idx) for idx in patch_layers]\n",
    "########################################################################\n",
    "\n",
    "context = context_prof\n",
    "context_tok = prepare_input(\n",
    "    prompts=context_prof, tokenizer=mt, return_offsets_mapping=True\n",
    ")\n",
    "cxt_offset_mapping = context_tok.pop(\"offset_mapping\")[0]\n",
    "\n",
    "h_idx = (\n",
    "    find_token_range(\n",
    "        string=context,\n",
    "        substring=\"placeholder\",\n",
    "        offset_mapping=cxt_offset_mapping,\n",
    "        tokenizer=mt.tokenizer,\n",
    "        occurrence=-1,\n",
    "    )[1]\n",
    "    - 1\n",
    ")\n",
    "\n",
    "for layer in mt.layer_names[::3]:\n",
    "    print(f\"\\n{layer=}\")\n",
    "    for cur_rng in token_ranges:\n",
    "        print(\n",
    "            f'\\n\"{mt.tokenizer.decode(tokenized.input_ids[0][range(*cur_rng)])}\" | {cur_rng=}'\n",
    "        )\n",
    "        for token_idx in range(cur_rng[0], cur_rng[1]):\n",
    "            token = mt.tokenizer.decode(tokenized.input_ids[0][token_idx])\n",
    "            ll_pred = patchscope(\n",
    "                mt=mt,\n",
    "                h=hs[(layer, token_idx)],\n",
    "                context=context,\n",
    "                placeholder=\"placeholder\",\n",
    "                context_tokenized=context_tok,\n",
    "                placeholder_idx=h_idx,\n",
    "                patch_layers=patch_layers,\n",
    "                k=15,\n",
    "            )\n",
    "            ll_fmt = [\n",
    "                f'\"{pred.token}\"[p={pred.prob:.2f}, l={pred.logit:.2f}]'\n",
    "                for pred in ll_pred\n",
    "            ]\n",
    "            print(f'{token_idx=} [\"{token}\"] => {ll_fmt}')\n",
    "\n",
    "    print(\"=\" * 150)"
   ]
  },
  {
   "cell_type": "markdown",
   "id": "9bdf483a",
   "metadata": {},
   "source": [
    "## Individual Heads"
   ]
  },
  {
   "cell_type": "code",
   "execution_count": 218,
   "id": "73a96a4e",
   "metadata": {},
   "outputs": [],
   "source": [
    "from src.attention import visualize_attn_matrix\n",
    "\n",
    "###############################################################\n",
    "N_KV_GROUPS = 1  # individual heads\n",
    "# N_KV_GROUPS = mt.config.num_key_value_heads  # grouped heads\n",
    "N_HEADS = mt.config.num_attention_heads\n",
    "LAYER_RANGE = range(mt.n_layer)\n",
    "###############################################################\n",
    "\n",
    "group_id_to_head_indices = {\n",
    "    i: [i * N_KV_GROUPS + j for j in range(N_KV_GROUPS)]\n",
    "    for i in range(N_HEADS // N_KV_GROUPS)\n",
    "}\n",
    "# attn_info = get_attention_matrices(\n",
    "#     input=tokenized,\n",
    "#     mt=mt,\n",
    "#     # value_weighted=True,\n",
    "#     patches=[],\n",
    "# )\n",
    "# attn_info.attention_matrices.shape"
   ]
  },
  {
   "cell_type": "code",
   "execution_count": 219,
   "id": "a2e9f3e6",
   "metadata": {},
   "outputs": [
    {
     "name": "stdout",
     "output_type": "stream",
     "text": [
      "2025-07-23 14:44:21 __main__ DEBUG    patch_obj_range=(37, 41) | \" Ron DeSantis\"\n",
      "2025-07-23 14:44:21 __main__ DEBUG    clean_obj_range=(22, 27) | \" Demna Gvasalia\"\n"
     ]
    },
    {
     "data": {
      "text/plain": [
       "[{'head_idx': 19,\n",
       "  'patch_obj_score': 0.525848388671875,\n",
       "  'clean_obj_score': 0.023548126220703125,\n",
       "  'diff': 0.5023002624511719},\n",
       " {'head_idx': 7,\n",
       "  'patch_obj_score': 0.249237060546875,\n",
       "  'clean_obj_score': 0.07100296020507812,\n",
       "  'diff': 0.17823410034179688},\n",
       " {'head_idx': 23,\n",
       "  'patch_obj_score': 0.18902969360351562,\n",
       "  'clean_obj_score': 0.011474609375,\n",
       "  'diff': 0.17755508422851562},\n",
       " {'head_idx': 0,\n",
       "  'patch_obj_score': 0.196929931640625,\n",
       "  'clean_obj_score': 0.025594711303710938,\n",
       "  'diff': 0.17133522033691406},\n",
       " {'head_idx': 17,\n",
       "  'patch_obj_score': 0.1933746337890625,\n",
       "  'clean_obj_score': 0.026081085205078125,\n",
       "  'diff': 0.16729354858398438},\n",
       " {'head_idx': 16,\n",
       "  'patch_obj_score': 0.2028350830078125,\n",
       "  'clean_obj_score': 0.04482269287109375,\n",
       "  'diff': 0.15801239013671875},\n",
       " {'head_idx': 3,\n",
       "  'patch_obj_score': 0.125518798828125,\n",
       "  'clean_obj_score': 0.013723373413085938,\n",
       "  'diff': 0.11179542541503906},\n",
       " {'head_idx': 22,\n",
       "  'patch_obj_score': 0.1422271728515625,\n",
       "  'clean_obj_score': 0.035251617431640625,\n",
       "  'diff': 0.10697555541992188},\n",
       " {'head_idx': 21,\n",
       "  'patch_obj_score': 0.1165771484375,\n",
       "  'clean_obj_score': 0.016422271728515625,\n",
       "  'diff': 0.10015487670898438},\n",
       " {'head_idx': 33,\n",
       "  'patch_obj_score': 0.1262359619140625,\n",
       "  'clean_obj_score': 0.040164947509765625,\n",
       "  'diff': 0.08607101440429688}]"
      ]
     },
     "execution_count": 219,
     "metadata": {},
     "output_type": "execute_result"
    }
   ],
   "source": [
    "attn_info = {\n",
    "    \"clean\": clean_attn_matrices,\n",
    "    \"corrupt\": patch_attn_matrices,\n",
    "    \"patch\": int_attn_matrices,\n",
    "    \"obj_replaced\": obj_replaced_attn_matrices,\n",
    "}\n",
    "\n",
    "layer_idx = 35\n",
    "\n",
    "patch_obj_range = find_token_range(\n",
    "    string=clean_sample.prompt,\n",
    "    substring=patch_sample.obj,\n",
    "    offset_mapping=clean_offsets,\n",
    "    tokenizer=mt.tokenizer,\n",
    "    occurrence=-1,\n",
    ")\n",
    "\n",
    "clean_obj_range = find_token_range(\n",
    "    string=clean_sample.prompt,\n",
    "    substring=clean_sample.obj,\n",
    "    offset_mapping=clean_offsets,\n",
    "    tokenizer=mt.tokenizer,\n",
    "    occurrence=-1,\n",
    ")\n",
    "\n",
    "\n",
    "logger.debug(\n",
    "    f'{patch_obj_range=} | \"{mt.tokenizer.decode(clean_tokenized.input_ids[0][range(*patch_obj_range)])}\"'\n",
    ")\n",
    "logger.debug(\n",
    "    f'{clean_obj_range=} | \"{mt.tokenizer.decode(clean_tokenized.input_ids[0][range(*clean_obj_range)])}\"'\n",
    ")\n",
    "\n",
    "head_scores = []\n",
    "run_type = \"patch\"\n",
    "for head_idx in range(N_HEADS):\n",
    "    attn_matrix = attn_info[run_type].attention_matrices[layer_idx, head_idx]\n",
    "    patch_obj_score = attn_matrix[-1][patch_obj_range[0] : patch_obj_range[1]].sum().item()\n",
    "    clean_obj_score = attn_matrix[-1][clean_obj_range[0] : clean_obj_range[1]].sum().item()\n",
    "    head_scores.append({\n",
    "        \"head_idx\": head_idx,\n",
    "        \"patch_obj_score\": patch_obj_score,\n",
    "        \"clean_obj_score\": clean_obj_score,\n",
    "        \"diff\": patch_obj_score - clean_obj_score,\n",
    "    })\n",
    "\n",
    "head_scores = sorted(head_scores, key=lambda x: x[\"diff\"], reverse=True)\n",
    "head_scores[:10]"
   ]
  },
  {
   "cell_type": "code",
   "execution_count": 206,
   "id": "30f5d920",
   "metadata": {},
   "outputs": [
    {
     "name": "stdout",
     "output_type": "stream",
     "text": [
      "Layer 35, Group 16 (Heads 16-16)\n",
      "clean\n"
     ]
    },
    {
     "data": {
      "text/html": [
       "<div id=\"circuits-vis-b423d589-39fb\" style=\"margin: 15px 0;\"/>\n",
       "    <script crossorigin type=\"module\">\n",
       "    import { render, ColoredTokens } from \"https://unpkg.com/circuitsvis@1.43.3/dist/cdn/esm.js\";\n",
       "    render(\n",
       "      \"circuits-vis-b423d589-39fb\",\n",
       "      ColoredTokens,\n",
       "      {\"tokens\": [\"Which\", \" person\", \" from\", \" the\", \" following\", \" list\", \" has\", \" the\", \" profession\", \" in\", \" common\", \" with\", \" Kevin\", \" McCarthy\", \"?\\n\", \"Options\", \":\", \" Jude\", \" B\", \"elling\", \"ham\", \",\", \" Nicholas\", \" Sparks\", \",\", \" Brooks\", \" Ko\", \"ep\", \"ka\", \",\", \" Donald\", \" Trump\", \",\", \" Tucker\", \" Carlson\", \",\", \" Sofia\", \" Copp\", \"ola\", \"\\n\", \"Ans\", \":\"], \"values\": [0.036865234375, 0.0028533935546875, 0.003387451171875, 0.002227783203125, 0.001373291015625, 0.000598907470703125, 0.000598907470703125, 0.0014801025390625, 0.002899169921875, 0.0003986358642578125, 0.00225830078125, 0.0024871826171875, 0.0106201171875, 0.0255126953125, 0.0078125, 0.002410888671875, 0.004425048828125, 0.0054931640625, 0.0034942626953125, 0.0011749267578125, 0.00927734375, 0.01953125, 0.01123046875, 0.04150390625, 0.037109375, 0.007476806640625, 0.00689697265625, 0.023681640625, 0.042236328125, 0.035888671875, 0.015625, 0.07421875, 0.033447265625, 0.03369140625, 0.07861328125, 0.0703125, 0.009521484375, 0.005157470703125, 0.0191650390625, 0.021240234375, 0.0012664794921875, 0.0089111328125]}\n",
       "    )\n",
       "    </script>"
      ],
      "text/plain": [
       "<circuitsvis.utils.render.RenderedHTML at 0x7f54640ff150>"
      ]
     },
     "metadata": {},
     "output_type": "display_data"
    },
    {
     "name": "stdout",
     "output_type": "stream",
     "text": [
      "corrupt\n"
     ]
    },
    {
     "data": {
      "text/html": [
       "<div id=\"circuits-vis-fd30b8c9-0539\" style=\"margin: 15px 0;\"/>\n",
       "    <script crossorigin type=\"module\">\n",
       "    import { render, ColoredTokens } from \"https://unpkg.com/circuitsvis@1.43.3/dist/cdn/esm.js\";\n",
       "    render(\n",
       "      \"circuits-vis-fd30b8c9-0539\",\n",
       "      ColoredTokens,\n",
       "      {\"tokens\": [\"Which\", \" person\", \" from\", \" the\", \" following\", \" list\", \" has\", \" the\", \" profession\", \" in\", \" common\", \" with\", \" Margaret\", \" At\", \"wood\", \"?\\n\", \"Options\", \":\", \" Tucker\", \" Carlson\", \",\", \" Donald\", \" Trump\", \",\", \" Sofia\", \" Copp\", \"ola\", \",\", \" Jude\", \" B\", \"elling\", \"ham\", \",\", \" Brooks\", \" Ko\", \"ep\", \"ka\", \",\", \" Nicholas\", \" Sparks\", \"\\n\", \"Ans\", \":\"], \"values\": [0.03369140625, 0.003387451171875, 0.00390625, 0.0019683837890625, 0.00176239013671875, 0.00083160400390625, 0.00098419189453125, 0.0012054443359375, 0.0017852783203125, 0.00028228759765625, 0.002685546875, 0.002593994140625, 0.00946044921875, 0.0078125, 0.061279296875, 0.00689697265625, 0.00225830078125, 0.00604248046875, 0.00390625, 0.038818359375, 0.08154296875, 0.01141357421875, 0.046142578125, 0.0218505859375, 0.010009765625, 0.00555419921875, 0.031005859375, 0.0712890625, 0.01202392578125, 0.0062255859375, 0.00152587890625, 0.021728515625, 0.08203125, 0.0040283203125, 0.01141357421875, 0.0027313232421875, 0.058349609375, 0.06201171875, 0.006134033203125, 0.072265625, 0.059814453125, 0.0011749267578125, 0.0078125]}\n",
       "    )\n",
       "    </script>"
      ],
      "text/plain": [
       "<circuitsvis.utils.render.RenderedHTML at 0x7f53e45bc450>"
      ]
     },
     "metadata": {},
     "output_type": "display_data"
    },
    {
     "name": "stdout",
     "output_type": "stream",
     "text": [
      "patch\n"
     ]
    },
    {
     "data": {
      "text/html": [
       "<div id=\"circuits-vis-233190c0-4420\" style=\"margin: 15px 0;\"/>\n",
       "    <script crossorigin type=\"module\">\n",
       "    import { render, ColoredTokens } from \"https://unpkg.com/circuitsvis@1.43.3/dist/cdn/esm.js\";\n",
       "    render(\n",
       "      \"circuits-vis-233190c0-4420\",\n",
       "      ColoredTokens,\n",
       "      {\"tokens\": [\"Which\", \" person\", \" from\", \" the\", \" following\", \" list\", \" has\", \" the\", \" profession\", \" in\", \" common\", \" with\", \" Kevin\", \" McCarthy\", \"?\\n\", \"Options\", \":\", \" Jude\", \" B\", \"elling\", \"ham\", \",\", \" Nicholas\", \" Sparks\", \",\", \" Brooks\", \" Ko\", \"ep\", \"ka\", \",\", \" Donald\", \" Trump\", \",\", \" Tucker\", \" Carlson\", \",\", \" Sofia\", \" Copp\", \"ola\", \"\\n\", \"Ans\", \":\"], \"values\": [0.0283203125, 0.0030670166015625, 0.00341796875, 0.00164031982421875, 0.0014495849609375, 0.00074005126953125, 0.00086212158203125, 0.0010223388671875, 0.00147247314453125, 0.000240325927734375, 0.0022735595703125, 0.002166748046875, 0.004486083984375, 0.007476806640625, 0.00604248046875, 0.0018310546875, 0.003814697265625, 0.007293701171875, 0.0025787353515625, 0.00213623046875, 0.0238037109375, 0.04443359375, 0.007080078125, 0.154296875, 0.11865234375, 0.0029296875, 0.00421142578125, 0.00860595703125, 0.0478515625, 0.072265625, 0.00555419921875, 0.04052734375, 0.041259765625, 0.0113525390625, 0.0498046875, 0.0732421875, 0.00860595703125, 0.005859375, 0.041259765625, 0.045654296875, 0.00104522705078125, 0.006683349609375]}\n",
       "    )\n",
       "    </script>"
      ],
      "text/plain": [
       "<circuitsvis.utils.render.RenderedHTML at 0x7f2d784dee90>"
      ]
     },
     "metadata": {},
     "output_type": "display_data"
    },
    {
     "name": "stdout",
     "output_type": "stream",
     "text": [
      "obj_replaced\n"
     ]
    },
    {
     "data": {
      "text/html": [
       "<div id=\"circuits-vis-4252c4ef-496a\" style=\"margin: 15px 0;\"/>\n",
       "    <script crossorigin type=\"module\">\n",
       "    import { render, ColoredTokens } from \"https://unpkg.com/circuitsvis@1.43.3/dist/cdn/esm.js\";\n",
       "    render(\n",
       "      \"circuits-vis-4252c4ef-496a\",\n",
       "      ColoredTokens,\n",
       "      {\"tokens\": [\"Which\", \" person\", \" from\", \" the\", \" following\", \" list\", \" has\", \" the\", \" profession\", \" in\", \" common\", \" with\", \" Kevin\", \" McCarthy\", \"?\\n\", \"Options\", \":\", \" Jude\", \" B\", \"elling\", \"ham\", \",\", \" Nicholas\", \" Sparks\", \",\", \" Brooks\", \" Ko\", \"ep\", \"ka\", \",\", \" Donald\", \" Trump\", \",\", \" Tucker\", \" Carlson\", \",\", \" Sofia\", \" Copp\", \"ola\", \"\\n\", \"Ans\", \":\"], \"values\": [0.033447265625, 0.0036163330078125, 0.0040283203125, 0.0019378662109375, 0.001708984375, 0.000873565673828125, 0.0010223388671875, 0.00121307373046875, 0.00173187255859375, 0.00028228759765625, 0.002685546875, 0.0025634765625, 0.00531005859375, 0.0087890625, 0.00714111328125, 0.002166748046875, 0.004486083984375, 0.0291748046875, 0.002410888671875, 0.0018463134765625, 0.01324462890625, 0.046875, 0.005126953125, 0.11328125, 0.1142578125, 0.00225830078125, 0.0036163330078125, 0.003814697265625, 0.040771484375, 0.0703125, 0.00372314453125, 0.043701171875, 0.051025390625, 0.006744384765625, 0.05322265625, 0.0810546875, 0.006866455078125, 0.004058837890625, 0.03564453125, 0.054443359375, 0.000885009765625, 0.00787353515625]}\n",
       "    )\n",
       "    </script>"
      ],
      "text/plain": [
       "<circuitsvis.utils.render.RenderedHTML at 0x7f54640ff150>"
      ]
     },
     "metadata": {},
     "output_type": "display_data"
    },
    {
     "name": "stdout",
     "output_type": "stream",
     "text": [
      "======================================================================================================================================================\n",
      "Layer 35, Group 17 (Heads 17-17)\n",
      "clean\n"
     ]
    },
    {
     "data": {
      "text/html": [
       "<div id=\"circuits-vis-7e1eb495-3b7f\" style=\"margin: 15px 0;\"/>\n",
       "    <script crossorigin type=\"module\">\n",
       "    import { render, ColoredTokens } from \"https://unpkg.com/circuitsvis@1.43.3/dist/cdn/esm.js\";\n",
       "    render(\n",
       "      \"circuits-vis-7e1eb495-3b7f\",\n",
       "      ColoredTokens,\n",
       "      {\"tokens\": [\"Which\", \" person\", \" from\", \" the\", \" following\", \" list\", \" has\", \" the\", \" profession\", \" in\", \" common\", \" with\", \" Kevin\", \" McCarthy\", \"?\\n\", \"Options\", \":\", \" Jude\", \" B\", \"elling\", \"ham\", \",\", \" Nicholas\", \" Sparks\", \",\", \" Brooks\", \" Ko\", \"ep\", \"ka\", \",\", \" Donald\", \" Trump\", \",\", \" Tucker\", \" Carlson\", \",\", \" Sofia\", \" Copp\", \"ola\", \"\\n\", \"Ans\", \":\"], \"values\": [0.01226806640625, 0.00130462646484375, 0.001251220703125, 0.00160980224609375, 0.0003795623779296875, 0.00019931793212890625, 0.0001659393310546875, 0.0004425048828125, 0.00037384033203125, 7.104873657226562e-05, 0.00022602081298828125, 0.00028228759765625, 0.006988525390625, 0.05908203125, 0.003204345703125, 0.0004100799560546875, 0.0029144287109375, 0.00154876708984375, 0.002166748046875, 0.0003509521484375, 0.00153350830078125, 0.0123291015625, 0.00665283203125, 0.0106201171875, 0.043701171875, 0.00738525390625, 0.00628662109375, 0.0225830078125, 0.01019287109375, 0.048828125, 0.01318359375, 0.07666015625, 0.05615234375, 0.07470703125, 0.1708984375, 0.2333984375, 0.00323486328125, 0.001251220703125, 0.007415771484375, 0.033935546875, 0.0001087188720703125, 0.01202392578125]}\n",
       "    )\n",
       "    </script>"
      ],
      "text/plain": [
       "<circuitsvis.utils.render.RenderedHTML at 0x7f2d783f1950>"
      ]
     },
     "metadata": {},
     "output_type": "display_data"
    },
    {
     "name": "stdout",
     "output_type": "stream",
     "text": [
      "corrupt\n"
     ]
    },
    {
     "data": {
      "text/html": [
       "<div id=\"circuits-vis-e365e06b-16fb\" style=\"margin: 15px 0;\"/>\n",
       "    <script crossorigin type=\"module\">\n",
       "    import { render, ColoredTokens } from \"https://unpkg.com/circuitsvis@1.43.3/dist/cdn/esm.js\";\n",
       "    render(\n",
       "      \"circuits-vis-e365e06b-16fb\",\n",
       "      ColoredTokens,\n",
       "      {\"tokens\": [\"Which\", \" person\", \" from\", \" the\", \" following\", \" list\", \" has\", \" the\", \" profession\", \" in\", \" common\", \" with\", \" Margaret\", \" At\", \"wood\", \"?\\n\", \"Options\", \":\", \" Tucker\", \" Carlson\", \",\", \" Donald\", \" Trump\", \",\", \" Sofia\", \" Copp\", \"ola\", \",\", \" Jude\", \" B\", \"elling\", \"ham\", \",\", \" Brooks\", \" Ko\", \"ep\", \"ka\", \",\", \" Nicholas\", \" Sparks\", \"\\n\", \"Ans\", \":\"], \"values\": [0.016845703125, 0.0032958984375, 0.0027923583984375, 0.0029144287109375, 0.0008697509765625, 0.00063323974609375, 0.000728607177734375, 0.000583648681640625, 0.00031280517578125, 6.151199340820312e-05, 0.0003662109375, 0.0003337860107421875, 0.0074462890625, 0.0026092529296875, 0.016845703125, 0.00543212890625, 0.000774383544921875, 0.00927734375, 0.00238037109375, 0.010498046875, 0.080078125, 0.00421142578125, 0.005889892578125, 0.0191650390625, 0.007232666015625, 0.002288818359375, 0.0224609375, 0.259765625, 0.007049560546875, 0.003753662109375, 0.00063323974609375, 0.0028076171875, 0.047119140625, 0.00799560546875, 0.00689697265625, 0.003265380859375, 0.003631591796875, 0.020263671875, 0.01031494140625, 0.177734375, 0.1650390625, 0.000514984130859375, 0.01275634765625]}\n",
       "    )\n",
       "    </script>"
      ],
      "text/plain": [
       "<circuitsvis.utils.render.RenderedHTML at 0x7f5404162ed0>"
      ]
     },
     "metadata": {},
     "output_type": "display_data"
    },
    {
     "name": "stdout",
     "output_type": "stream",
     "text": [
      "patch\n"
     ]
    },
    {
     "data": {
      "text/html": [
       "<div id=\"circuits-vis-ae5de03a-2e70\" style=\"margin: 15px 0;\"/>\n",
       "    <script crossorigin type=\"module\">\n",
       "    import { render, ColoredTokens } from \"https://unpkg.com/circuitsvis@1.43.3/dist/cdn/esm.js\";\n",
       "    render(\n",
       "      \"circuits-vis-ae5de03a-2e70\",\n",
       "      ColoredTokens,\n",
       "      {\"tokens\": [\"Which\", \" person\", \" from\", \" the\", \" following\", \" list\", \" has\", \" the\", \" profession\", \" in\", \" common\", \" with\", \" Kevin\", \" McCarthy\", \"?\\n\", \"Options\", \":\", \" Jude\", \" B\", \"elling\", \"ham\", \",\", \" Nicholas\", \" Sparks\", \",\", \" Brooks\", \" Ko\", \"ep\", \"ka\", \",\", \" Donald\", \" Trump\", \",\", \" Tucker\", \" Carlson\", \",\", \" Sofia\", \" Copp\", \"ola\", \"\\n\", \"Ans\", \":\"], \"values\": [0.01708984375, 0.0030059814453125, 0.0027313232421875, 0.0028839111328125, 0.00093841552734375, 0.0006561279296875, 0.000732421875, 0.00058746337890625, 0.00030517578125, 6.103515625e-05, 0.000362396240234375, 0.000339508056640625, 0.00506591796875, 0.00799560546875, 0.004302978515625, 0.000675201416015625, 0.007720947265625, 0.006134033203125, 0.0037994384765625, 0.0016632080078125, 0.007476806640625, 0.032470703125, 0.00823974609375, 0.125, 0.251953125, 0.004150390625, 0.0024261474609375, 0.00213623046875, 0.0087890625, 0.08984375, 0.003662109375, 0.01141357421875, 0.045166015625, 0.0079345703125, 0.0301513671875, 0.10693359375, 0.0072021484375, 0.0027313232421875, 0.034423828125, 0.08984375, 0.000518798828125, 0.012939453125]}\n",
       "    )\n",
       "    </script>"
      ],
      "text/plain": [
       "<circuitsvis.utils.render.RenderedHTML at 0x7f2d783f3c50>"
      ]
     },
     "metadata": {},
     "output_type": "display_data"
    },
    {
     "name": "stdout",
     "output_type": "stream",
     "text": [
      "obj_replaced\n"
     ]
    },
    {
     "data": {
      "text/html": [
       "<div id=\"circuits-vis-6e5c57c9-9eba\" style=\"margin: 15px 0;\"/>\n",
       "    <script crossorigin type=\"module\">\n",
       "    import { render, ColoredTokens } from \"https://unpkg.com/circuitsvis@1.43.3/dist/cdn/esm.js\";\n",
       "    render(\n",
       "      \"circuits-vis-6e5c57c9-9eba\",\n",
       "      ColoredTokens,\n",
       "      {\"tokens\": [\"Which\", \" person\", \" from\", \" the\", \" following\", \" list\", \" has\", \" the\", \" profession\", \" in\", \" common\", \" with\", \" Kevin\", \" McCarthy\", \"?\\n\", \"Options\", \":\", \" Jude\", \" B\", \"elling\", \"ham\", \",\", \" Nicholas\", \" Sparks\", \",\", \" Brooks\", \" Ko\", \"ep\", \"ka\", \",\", \" Donald\", \" Trump\", \",\", \" Tucker\", \" Carlson\", \",\", \" Sofia\", \" Copp\", \"ola\", \"\\n\", \"Ans\", \":\"], \"values\": [0.016845703125, 0.002960205078125, 0.002685546875, 0.002838134765625, 0.000926971435546875, 0.000644683837890625, 0.000720977783203125, 0.000579833984375, 0.0002994537353515625, 6.008148193359375e-05, 0.0003566741943359375, 0.000335693359375, 0.0050048828125, 0.00787353515625, 0.004241943359375, 0.000667572021484375, 0.007598876953125, 0.01385498046875, 0.01055908203125, 0.0023956298828125, 0.00616455078125, 0.045654296875, 0.006927490234375, 0.07470703125, 0.203125, 0.00408935546875, 0.0024261474609375, 0.001190185546875, 0.00927734375, 0.11767578125, 0.002471923828125, 0.0084228515625, 0.052978515625, 0.004638671875, 0.0279541015625, 0.103515625, 0.00830078125, 0.00201416015625, 0.031494140625, 0.146484375, 0.0005340576171875, 0.01275634765625]}\n",
       "    )\n",
       "    </script>"
      ],
      "text/plain": [
       "<circuitsvis.utils.render.RenderedHTML at 0x7f2d783f26d0>"
      ]
     },
     "metadata": {},
     "output_type": "display_data"
    },
    {
     "name": "stdout",
     "output_type": "stream",
     "text": [
      "======================================================================================================================================================\n",
      "Layer 35, Group 18 (Heads 18-18)\n",
      "clean\n"
     ]
    },
    {
     "data": {
      "text/html": [
       "<div id=\"circuits-vis-3b420d00-654d\" style=\"margin: 15px 0;\"/>\n",
       "    <script crossorigin type=\"module\">\n",
       "    import { render, ColoredTokens } from \"https://unpkg.com/circuitsvis@1.43.3/dist/cdn/esm.js\";\n",
       "    render(\n",
       "      \"circuits-vis-3b420d00-654d\",\n",
       "      ColoredTokens,\n",
       "      {\"tokens\": [\"Which\", \" person\", \" from\", \" the\", \" following\", \" list\", \" has\", \" the\", \" profession\", \" in\", \" common\", \" with\", \" Kevin\", \" McCarthy\", \"?\\n\", \"Options\", \":\", \" Jude\", \" B\", \"elling\", \"ham\", \",\", \" Nicholas\", \" Sparks\", \",\", \" Brooks\", \" Ko\", \"ep\", \"ka\", \",\", \" Donald\", \" Trump\", \",\", \" Tucker\", \" Carlson\", \",\", \" Sofia\", \" Copp\", \"ola\", \"\\n\", \"Ans\", \":\"], \"values\": [0.01385498046875, 0.01007080078125, 0.005859375, 0.00135040283203125, 0.002838134765625, 0.000606536865234375, 0.006561279296875, 0.00066375732421875, 0.002685546875, 0.00074005126953125, 0.005706787109375, 0.004425048828125, 0.024169921875, 0.0203857421875, 0.06787109375, 0.0018463134765625, 0.00445556640625, 0.00124359130859375, 0.00080108642578125, 0.0001373291015625, 0.002593994140625, 0.06591796875, 0.003936767578125, 0.006256103515625, 0.07470703125, 0.00157928466796875, 0.0103759765625, 0.006134033203125, 0.0103759765625, 0.0634765625, 0.006195068359375, 0.1328125, 0.1552734375, 0.00714111328125, 0.034912109375, 0.09130859375, 0.01092529296875, 0.000789642333984375, 0.0064697265625, 0.06591796875, 0.0023040771484375, 0.0260009765625]}\n",
       "    )\n",
       "    </script>"
      ],
      "text/plain": [
       "<circuitsvis.utils.render.RenderedHTML at 0x7f53a05b6090>"
      ]
     },
     "metadata": {},
     "output_type": "display_data"
    },
    {
     "name": "stdout",
     "output_type": "stream",
     "text": [
      "corrupt\n"
     ]
    },
    {
     "data": {
      "text/html": [
       "<div id=\"circuits-vis-bdf40e45-cf89\" style=\"margin: 15px 0;\"/>\n",
       "    <script crossorigin type=\"module\">\n",
       "    import { render, ColoredTokens } from \"https://unpkg.com/circuitsvis@1.43.3/dist/cdn/esm.js\";\n",
       "    render(\n",
       "      \"circuits-vis-bdf40e45-cf89\",\n",
       "      ColoredTokens,\n",
       "      {\"tokens\": [\"Which\", \" person\", \" from\", \" the\", \" following\", \" list\", \" has\", \" the\", \" profession\", \" in\", \" common\", \" with\", \" Margaret\", \" At\", \"wood\", \"?\\n\", \"Options\", \":\", \" Tucker\", \" Carlson\", \",\", \" Donald\", \" Trump\", \",\", \" Sofia\", \" Copp\", \"ola\", \",\", \" Jude\", \" B\", \"elling\", \"ham\", \",\", \" Brooks\", \" Ko\", \"ep\", \"ka\", \",\", \" Nicholas\", \" Sparks\", \"\\n\", \"Ans\", \":\"], \"values\": [0.049560546875, 0.01611328125, 0.015625, 0.0029296875, 0.00531005859375, 0.00139617919921875, 0.01226806640625, 0.00110626220703125, 0.004364013671875, 0.0011749267578125, 0.0145263671875, 0.0111083984375, 0.03759765625, 0.01904296875, 0.08837890625, 0.064453125, 0.0052490234375, 0.01092529296875, 0.00110626220703125, 0.005523681640625, 0.06689453125, 0.0027008056640625, 0.00872802734375, 0.00885009765625, 0.01318359375, 0.000873565673828125, 0.0062255859375, 0.10693359375, 0.004058837890625, 0.022216796875, 0.000370025634765625, 0.0030059814453125, 0.0238037109375, 0.0024566650390625, 0.032958984375, 0.00115966796875, 0.00689697265625, 0.01300048828125, 0.00445556640625, 0.068359375, 0.0908203125, 0.0062255859375, 0.0281982421875]}\n",
       "    )\n",
       "    </script>"
      ],
      "text/plain": [
       "<circuitsvis.utils.render.RenderedHTML at 0x7f5380197b50>"
      ]
     },
     "metadata": {},
     "output_type": "display_data"
    },
    {
     "name": "stdout",
     "output_type": "stream",
     "text": [
      "patch\n"
     ]
    },
    {
     "data": {
      "text/html": [
       "<div id=\"circuits-vis-f1d52caa-28dd\" style=\"margin: 15px 0;\"/>\n",
       "    <script crossorigin type=\"module\">\n",
       "    import { render, ColoredTokens } from \"https://unpkg.com/circuitsvis@1.43.3/dist/cdn/esm.js\";\n",
       "    render(\n",
       "      \"circuits-vis-f1d52caa-28dd\",\n",
       "      ColoredTokens,\n",
       "      {\"tokens\": [\"Which\", \" person\", \" from\", \" the\", \" following\", \" list\", \" has\", \" the\", \" profession\", \" in\", \" common\", \" with\", \" Kevin\", \" McCarthy\", \"?\\n\", \"Options\", \":\", \" Jude\", \" B\", \"elling\", \"ham\", \",\", \" Nicholas\", \" Sparks\", \",\", \" Brooks\", \" Ko\", \"ep\", \"ka\", \",\", \" Donald\", \" Trump\", \",\", \" Tucker\", \" Carlson\", \",\", \" Sofia\", \" Copp\", \"ola\", \"\\n\", \"Ans\", \":\"], \"values\": [0.05908203125, 0.0201416015625, 0.0194091796875, 0.0035552978515625, 0.006195068359375, 0.0016937255859375, 0.0147705078125, 0.0012969970703125, 0.005279541015625, 0.00140380859375, 0.017333984375, 0.01324462890625, 0.0216064453125, 0.0128173828125, 0.0732421875, 0.0050048828125, 0.01190185546875, 0.00390625, 0.0022125244140625, 0.000797271728515625, 0.00787353515625, 0.0625, 0.005584716796875, 0.039794921875, 0.12890625, 0.00156402587890625, 0.007476806640625, 0.004364013671875, 0.00994873046875, 0.04052734375, 0.002655029296875, 0.024658203125, 0.04345703125, 0.001983642578125, 0.01080322265625, 0.0361328125, 0.0191650390625, 0.0022735595703125, 0.0159912109375, 0.0703125, 0.00701904296875, 0.033203125]}\n",
       "    )\n",
       "    </script>"
      ],
      "text/plain": [
       "<circuitsvis.utils.render.RenderedHTML at 0x7f5404185790>"
      ]
     },
     "metadata": {},
     "output_type": "display_data"
    },
    {
     "name": "stdout",
     "output_type": "stream",
     "text": [
      "obj_replaced\n"
     ]
    },
    {
     "data": {
      "text/html": [
       "<div id=\"circuits-vis-3dfa84d9-38d0\" style=\"margin: 15px 0;\"/>\n",
       "    <script crossorigin type=\"module\">\n",
       "    import { render, ColoredTokens } from \"https://unpkg.com/circuitsvis@1.43.3/dist/cdn/esm.js\";\n",
       "    render(\n",
       "      \"circuits-vis-3dfa84d9-38d0\",\n",
       "      ColoredTokens,\n",
       "      {\"tokens\": [\"Which\", \" person\", \" from\", \" the\", \" following\", \" list\", \" has\", \" the\", \" profession\", \" in\", \" common\", \" with\", \" Kevin\", \" McCarthy\", \"?\\n\", \"Options\", \":\", \" Jude\", \" B\", \"elling\", \"ham\", \",\", \" Nicholas\", \" Sparks\", \",\", \" Brooks\", \" Ko\", \"ep\", \"ka\", \",\", \" Donald\", \" Trump\", \",\", \" Tucker\", \" Carlson\", \",\", \" Sofia\", \" Copp\", \"ola\", \"\\n\", \"Ans\", \":\"], \"values\": [0.06494140625, 0.0220947265625, 0.021240234375, 0.0038909912109375, 0.00677490234375, 0.00185394287109375, 0.01611328125, 0.0014190673828125, 0.00579833984375, 0.00153350830078125, 0.0189208984375, 0.0145263671875, 0.023681640625, 0.01397705078125, 0.080078125, 0.0054931640625, 0.01300048828125, 0.0615234375, 0.0028228759765625, 0.00086212158203125, 0.0054931640625, 0.07568359375, 0.0036163330078125, 0.0211181640625, 0.0869140625, 0.00109100341796875, 0.004547119140625, 0.001007080078125, 0.0089111328125, 0.045166015625, 0.0015106201171875, 0.015625, 0.03466796875, 0.000946044921875, 0.0091552734375, 0.0230712890625, 0.012451171875, 0.00121307373046875, 0.01190185546875, 0.07275390625, 0.005157470703125, 0.036376953125]}\n",
       "    )\n",
       "    </script>"
      ],
      "text/plain": [
       "<circuitsvis.utils.render.RenderedHTML at 0x7f53a05b6ed0>"
      ]
     },
     "metadata": {},
     "output_type": "display_data"
    },
    {
     "name": "stdout",
     "output_type": "stream",
     "text": [
      "======================================================================================================================================================\n",
      "Layer 35, Group 19 (Heads 19-19)\n",
      "clean\n"
     ]
    },
    {
     "data": {
      "text/html": [
       "<div id=\"circuits-vis-aded7d52-00d3\" style=\"margin: 15px 0;\"/>\n",
       "    <script crossorigin type=\"module\">\n",
       "    import { render, ColoredTokens } from \"https://unpkg.com/circuitsvis@1.43.3/dist/cdn/esm.js\";\n",
       "    render(\n",
       "      \"circuits-vis-aded7d52-00d3\",\n",
       "      ColoredTokens,\n",
       "      {\"tokens\": [\"Which\", \" person\", \" from\", \" the\", \" following\", \" list\", \" has\", \" the\", \" profession\", \" in\", \" common\", \" with\", \" Kevin\", \" McCarthy\", \"?\\n\", \"Options\", \":\", \" Jude\", \" B\", \"elling\", \"ham\", \",\", \" Nicholas\", \" Sparks\", \",\", \" Brooks\", \" Ko\", \"ep\", \"ka\", \",\", \" Donald\", \" Trump\", \",\", \" Tucker\", \" Carlson\", \",\", \" Sofia\", \" Copp\", \"ola\", \"\\n\", \"Ans\", \":\"], \"values\": [0.004547119140625, 0.000499725341796875, 0.00055694580078125, 0.000293731689453125, 4.100799560546875e-05, 1.4603137969970703e-05, 3.3855438232421875e-05, 8.96453857421875e-05, 0.000247955322265625, 5.602836608886719e-05, 5.9604644775390625e-05, 0.00020122528076171875, 0.010498046875, 0.1279296875, 0.00193023681640625, 2.1219253540039062e-05, 0.00014495849609375, 0.000461578369140625, 0.000682830810546875, 9.5367431640625e-05, 0.000370025634765625, 0.0019683837890625, 0.00531005859375, 0.0133056640625, 0.01519775390625, 0.00506591796875, 0.004486083984375, 0.07177734375, 0.00860595703125, 0.0074462890625, 0.0130615234375, 0.400390625, 0.0111083984375, 0.0625, 0.10791015625, 0.047119140625, 0.000514984130859375, 0.001068115234375, 0.0028839111328125, 0.000911712646484375, 1.2099742889404297e-05, 0.00433349609375]}\n",
       "    )\n",
       "    </script>"
      ],
      "text/plain": [
       "<circuitsvis.utils.render.RenderedHTML at 0x7f53a05b4850>"
      ]
     },
     "metadata": {},
     "output_type": "display_data"
    },
    {
     "name": "stdout",
     "output_type": "stream",
     "text": [
      "corrupt\n"
     ]
    },
    {
     "data": {
      "text/html": [
       "<div id=\"circuits-vis-835f256b-32de\" style=\"margin: 15px 0;\"/>\n",
       "    <script crossorigin type=\"module\">\n",
       "    import { render, ColoredTokens } from \"https://unpkg.com/circuitsvis@1.43.3/dist/cdn/esm.js\";\n",
       "    render(\n",
       "      \"circuits-vis-835f256b-32de\",\n",
       "      ColoredTokens,\n",
       "      {\"tokens\": [\"Which\", \" person\", \" from\", \" the\", \" following\", \" list\", \" has\", \" the\", \" profession\", \" in\", \" common\", \" with\", \" Margaret\", \" At\", \"wood\", \"?\\n\", \"Options\", \":\", \" Tucker\", \" Carlson\", \",\", \" Donald\", \" Trump\", \",\", \" Sofia\", \" Copp\", \"ola\", \",\", \" Jude\", \" B\", \"elling\", \"ham\", \",\", \" Brooks\", \" Ko\", \"ep\", \"ka\", \",\", \" Nicholas\", \" Sparks\", \"\\n\", \"Ans\", \":\"], \"values\": [0.004119873046875, 0.0004291534423828125, 0.0008087158203125, 0.0002841949462890625, 5.030632019042969e-05, 3.528594970703125e-05, 2.872943878173828e-05, 5.125999450683594e-05, 6.580352783203125e-05, 2.3126602172851562e-05, 5.364418029785156e-05, 0.00011348724365234375, 0.00457763671875, 0.0024261474609375, 0.1064453125, 0.000370025634765625, 2.956390380859375e-05, 0.0002841949462890625, 0.0015716552734375, 0.01904296875, 0.01556396484375, 0.0034027099609375, 0.0166015625, 0.006866455078125, 0.003692626953125, 0.00665283203125, 0.03515625, 0.060791015625, 0.004150390625, 0.003570556640625, 0.0004119873046875, 0.001556396484375, 0.0078125, 0.0020599365234375, 0.0026397705078125, 0.0033416748046875, 0.003509521484375, 0.0026397705078125, 0.0012359619140625, 0.65234375, 0.004669189453125, 1.6927719116210938e-05, 0.0012969970703125]}\n",
       "    )\n",
       "    </script>"
      ],
      "text/plain": [
       "<circuitsvis.utils.render.RenderedHTML at 0x7f53a05b4f90>"
      ]
     },
     "metadata": {},
     "output_type": "display_data"
    },
    {
     "name": "stdout",
     "output_type": "stream",
     "text": [
      "patch\n"
     ]
    },
    {
     "data": {
      "text/html": [
       "<div id=\"circuits-vis-0971f0d7-2edb\" style=\"margin: 15px 0;\"/>\n",
       "    <script crossorigin type=\"module\">\n",
       "    import { render, ColoredTokens } from \"https://unpkg.com/circuitsvis@1.43.3/dist/cdn/esm.js\";\n",
       "    render(\n",
       "      \"circuits-vis-0971f0d7-2edb\",\n",
       "      ColoredTokens,\n",
       "      {\"tokens\": [\"Which\", \" person\", \" from\", \" the\", \" following\", \" list\", \" has\", \" the\", \" profession\", \" in\", \" common\", \" with\", \" Kevin\", \" McCarthy\", \"?\\n\", \"Options\", \":\", \" Jude\", \" B\", \"elling\", \"ham\", \",\", \" Nicholas\", \" Sparks\", \",\", \" Brooks\", \" Ko\", \"ep\", \"ka\", \",\", \" Donald\", \" Trump\", \",\", \" Tucker\", \" Carlson\", \",\", \" Sofia\", \" Copp\", \"ola\", \"\\n\", \"Ans\", \":\"], \"values\": [0.00262451171875, 0.0002918243408203125, 0.00054168701171875, 0.00018310546875, 3.170967102050781e-05, 2.2530555725097656e-05, 1.8358230590820312e-05, 3.3855438232421875e-05, 4.220008850097656e-05, 1.4781951904296875e-05, 3.2901763916015625e-05, 7.295608520507812e-05, 0.00171661376953125, 0.005157470703125, 0.0003528594970703125, 1.4781951904296875e-05, 0.00011444091796875, 0.0015411376953125, 0.000598907470703125, 0.00083160400390625, 0.005523681640625, 0.005706787109375, 0.00299072265625, 0.734375, 0.11279296875, 0.00103759765625, 0.0005035400390625, 0.0031890869140625, 0.0118408203125, 0.0086669921875, 0.0009765625, 0.0228271484375, 0.002105712890625, 0.0035858154296875, 0.0186767578125, 0.01409912109375, 0.00091552734375, 0.0030517578125, 0.0184326171875, 0.00127410888671875, 1.150369644165039e-05, 0.000835418701171875]}\n",
       "    )\n",
       "    </script>"
      ],
      "text/plain": [
       "<circuitsvis.utils.render.RenderedHTML at 0x7f53a05b4110>"
      ]
     },
     "metadata": {},
     "output_type": "display_data"
    },
    {
     "name": "stdout",
     "output_type": "stream",
     "text": [
      "obj_replaced\n"
     ]
    },
    {
     "data": {
      "text/html": [
       "<div id=\"circuits-vis-fc0948a2-e2c8\" style=\"margin: 15px 0;\"/>\n",
       "    <script crossorigin type=\"module\">\n",
       "    import { render, ColoredTokens } from \"https://unpkg.com/circuitsvis@1.43.3/dist/cdn/esm.js\";\n",
       "    render(\n",
       "      \"circuits-vis-fc0948a2-e2c8\",\n",
       "      ColoredTokens,\n",
       "      {\"tokens\": [\"Which\", \" person\", \" from\", \" the\", \" following\", \" list\", \" has\", \" the\", \" profession\", \" in\", \" common\", \" with\", \" Kevin\", \" McCarthy\", \"?\\n\", \"Options\", \":\", \" Jude\", \" B\", \"elling\", \"ham\", \",\", \" Nicholas\", \" Sparks\", \",\", \" Brooks\", \" Ko\", \"ep\", \"ka\", \",\", \" Donald\", \" Trump\", \",\", \" Tucker\", \" Carlson\", \",\", \" Sofia\", \" Copp\", \"ola\", \"\\n\", \"Ans\", \":\"], \"values\": [0.0032806396484375, 0.0003662109375, 0.00067901611328125, 0.0002288818359375, 3.981590270996094e-05, 2.8252601623535156e-05, 2.300739288330078e-05, 4.2438507080078125e-05, 5.269050598144531e-05, 1.8477439880371094e-05, 4.100799560546875e-05, 9.107589721679688e-05, 0.0021514892578125, 0.006439208984375, 0.0004425048828125, 1.8477439880371094e-05, 0.0001430511474609375, 0.0030364990234375, 0.00118255615234375, 0.00104522705078125, 0.00457763671875, 0.011962890625, 0.002838134765625, 0.671875, 0.13671875, 0.00121307373046875, 0.000621795654296875, 0.00148773193359375, 0.0166015625, 0.017333984375, 0.000640869140625, 0.021240234375, 0.003021240234375, 0.002227783203125, 0.022705078125, 0.018798828125, 0.0009918212890625, 0.002593994140625, 0.024169921875, 0.00225830078125, 1.0907649993896484e-05, 0.00104522705078125]}\n",
       "    )\n",
       "    </script>"
      ],
      "text/plain": [
       "<circuitsvis.utils.render.RenderedHTML at 0x7f2d783f2790>"
      ]
     },
     "metadata": {},
     "output_type": "display_data"
    },
    {
     "name": "stdout",
     "output_type": "stream",
     "text": [
      "======================================================================================================================================================\n",
      "Layer 35, Group 20 (Heads 20-20)\n",
      "clean\n"
     ]
    },
    {
     "data": {
      "text/html": [
       "<div id=\"circuits-vis-eca1f909-2e27\" style=\"margin: 15px 0;\"/>\n",
       "    <script crossorigin type=\"module\">\n",
       "    import { render, ColoredTokens } from \"https://unpkg.com/circuitsvis@1.43.3/dist/cdn/esm.js\";\n",
       "    render(\n",
       "      \"circuits-vis-eca1f909-2e27\",\n",
       "      ColoredTokens,\n",
       "      {\"tokens\": [\"Which\", \" person\", \" from\", \" the\", \" following\", \" list\", \" has\", \" the\", \" profession\", \" in\", \" common\", \" with\", \" Kevin\", \" McCarthy\", \"?\\n\", \"Options\", \":\", \" Jude\", \" B\", \"elling\", \"ham\", \",\", \" Nicholas\", \" Sparks\", \",\", \" Brooks\", \" Ko\", \"ep\", \"ka\", \",\", \" Donald\", \" Trump\", \",\", \" Tucker\", \" Carlson\", \",\", \" Sofia\", \" Copp\", \"ola\", \"\\n\", \"Ans\", \":\"], \"values\": [0.03759765625, 0.00811767578125, 0.00897216796875, 0.008056640625, 0.0084228515625, 0.00244140625, 0.0018768310546875, 0.0032501220703125, 0.0098876953125, 0.00433349609375, 0.015869140625, 0.026123046875, 0.01153564453125, 0.023681640625, 0.0771484375, 0.0019989013671875, 0.0137939453125, 0.00135040283203125, 0.00110626220703125, 9.489059448242188e-05, 0.00083160400390625, 0.01318359375, 0.0032958984375, 0.00148773193359375, 0.0283203125, 0.005218505859375, 0.03125, 0.00732421875, 0.00225830078125, 0.01904296875, 0.0026092529296875, 0.017578125, 0.04931640625, 0.005035400390625, 0.01202392578125, 0.035400390625, 0.00091552734375, 0.0004253387451171875, 0.00121307373046875, 0.11279296875, 0.000553131103515625, 0.0322265625]}\n",
       "    )\n",
       "    </script>"
      ],
      "text/plain": [
       "<circuitsvis.utils.render.RenderedHTML at 0x7f2d783f3b90>"
      ]
     },
     "metadata": {},
     "output_type": "display_data"
    },
    {
     "name": "stdout",
     "output_type": "stream",
     "text": [
      "corrupt\n"
     ]
    },
    {
     "data": {
      "text/html": [
       "<div id=\"circuits-vis-89636685-4cff\" style=\"margin: 15px 0;\"/>\n",
       "    <script crossorigin type=\"module\">\n",
       "    import { render, ColoredTokens } from \"https://unpkg.com/circuitsvis@1.43.3/dist/cdn/esm.js\";\n",
       "    render(\n",
       "      \"circuits-vis-89636685-4cff\",\n",
       "      ColoredTokens,\n",
       "      {\"tokens\": [\"Which\", \" person\", \" from\", \" the\", \" following\", \" list\", \" has\", \" the\", \" profession\", \" in\", \" common\", \" with\", \" Margaret\", \" At\", \"wood\", \"?\\n\", \"Options\", \":\", \" Tucker\", \" Carlson\", \",\", \" Donald\", \" Trump\", \",\", \" Sofia\", \" Copp\", \"ola\", \",\", \" Jude\", \" B\", \"elling\", \"ham\", \",\", \" Brooks\", \" Ko\", \"ep\", \"ka\", \",\", \" Nicholas\", \" Sparks\", \"\\n\", \"Ans\", \":\"], \"values\": [0.03173828125, 0.00994873046875, 0.0152587890625, 0.00836181640625, 0.00982666015625, 0.00372314453125, 0.00160980224609375, 0.0023040771484375, 0.002532958984375, 0.00078582763671875, 0.004486083984375, 0.01251220703125, 0.020751953125, 0.012451171875, 0.0791015625, 0.053955078125, 0.0026397705078125, 0.0164794921875, 0.001220703125, 0.004608154296875, 0.1064453125, 0.002838134765625, 0.002471923828125, 0.07177734375, 0.001434326171875, 0.000522613525390625, 0.005218505859375, 0.1044921875, 0.0029144287109375, 0.0380859375, 6.866455078125e-05, 0.000476837158203125, 0.01275634765625, 0.00173187255859375, 0.0157470703125, 0.00034332275390625, 0.000751495361328125, 0.004974365234375, 0.00089263916015625, 0.0250244140625, 0.2109375, 0.0003604888916015625, 0.0162353515625]}\n",
       "    )\n",
       "    </script>"
      ],
      "text/plain": [
       "<circuitsvis.utils.render.RenderedHTML at 0x7f2d784dee90>"
      ]
     },
     "metadata": {},
     "output_type": "display_data"
    },
    {
     "name": "stdout",
     "output_type": "stream",
     "text": [
      "patch\n"
     ]
    },
    {
     "data": {
      "text/html": [
       "<div id=\"circuits-vis-d2e946c4-7099\" style=\"margin: 15px 0;\"/>\n",
       "    <script crossorigin type=\"module\">\n",
       "    import { render, ColoredTokens } from \"https://unpkg.com/circuitsvis@1.43.3/dist/cdn/esm.js\";\n",
       "    render(\n",
       "      \"circuits-vis-d2e946c4-7099\",\n",
       "      ColoredTokens,\n",
       "      {\"tokens\": [\"Which\", \" person\", \" from\", \" the\", \" following\", \" list\", \" has\", \" the\", \" profession\", \" in\", \" common\", \" with\", \" Kevin\", \" McCarthy\", \"?\\n\", \"Options\", \":\", \" Jude\", \" B\", \"elling\", \"ham\", \",\", \" Nicholas\", \" Sparks\", \",\", \" Brooks\", \" Ko\", \"ep\", \"ka\", \",\", \" Donald\", \" Trump\", \",\", \" Tucker\", \" Carlson\", \",\", \" Sofia\", \" Copp\", \"ola\", \"\\n\", \"Ans\", \":\"], \"values\": [0.038818359375, 0.01202392578125, 0.0185546875, 0.0098876953125, 0.01202392578125, 0.004730224609375, 0.0019683837890625, 0.00286865234375, 0.00311279296875, 0.0009613037109375, 0.0054931640625, 0.015380859375, 0.00872802734375, 0.007659912109375, 0.046630859375, 0.0025482177734375, 0.021240234375, 0.005523681640625, 0.00110626220703125, 0.000461578369140625, 0.0034942626953125, 0.0576171875, 0.0032806396484375, 0.0458984375, 0.2177734375, 0.00115966796875, 0.015869140625, 0.00341796875, 0.00250244140625, 0.030029296875, 0.00119781494140625, 0.00994873046875, 0.047119140625, 0.00133514404296875, 0.007568359375, 0.035888671875, 0.00107574462890625, 0.0009613037109375, 0.006561279296875, 0.171875, 0.0004329681396484375, 0.019775390625]}\n",
       "    )\n",
       "    </script>"
      ],
      "text/plain": [
       "<circuitsvis.utils.render.RenderedHTML at 0x7f53a05b4f90>"
      ]
     },
     "metadata": {},
     "output_type": "display_data"
    },
    {
     "name": "stdout",
     "output_type": "stream",
     "text": [
      "obj_replaced\n"
     ]
    },
    {
     "data": {
      "text/html": [
       "<div id=\"circuits-vis-8bd34cf3-14de\" style=\"margin: 15px 0;\"/>\n",
       "    <script crossorigin type=\"module\">\n",
       "    import { render, ColoredTokens } from \"https://unpkg.com/circuitsvis@1.43.3/dist/cdn/esm.js\";\n",
       "    render(\n",
       "      \"circuits-vis-8bd34cf3-14de\",\n",
       "      ColoredTokens,\n",
       "      {\"tokens\": [\"Which\", \" person\", \" from\", \" the\", \" following\", \" list\", \" has\", \" the\", \" profession\", \" in\", \" common\", \" with\", \" Kevin\", \" McCarthy\", \"?\\n\", \"Options\", \":\", \" Jude\", \" B\", \"elling\", \"ham\", \",\", \" Nicholas\", \" Sparks\", \",\", \" Brooks\", \" Ko\", \"ep\", \"ka\", \",\", \" Donald\", \" Trump\", \",\", \" Tucker\", \" Carlson\", \",\", \" Sofia\", \" Copp\", \"ola\", \"\\n\", \"Ans\", \":\"], \"values\": [0.03515625, 0.0108642578125, 0.016845703125, 0.00897216796875, 0.01092529296875, 0.004302978515625, 0.0017852783203125, 0.0026092529296875, 0.0028076171875, 0.0008697509765625, 0.004974365234375, 0.013916015625, 0.0079345703125, 0.006927490234375, 0.042236328125, 0.0023193359375, 0.019287109375, 0.029296875, 0.000579833984375, 0.000579833984375, 0.00225830078125, 0.053955078125, 0.00238037109375, 0.03076171875, 0.2412109375, 0.000926971435546875, 0.01104736328125, 0.00064849853515625, 0.0028839111328125, 0.04541015625, 0.000732421875, 0.00689697265625, 0.045654296875, 0.000591278076171875, 0.006011962890625, 0.032958984375, 0.000843048095703125, 0.000545501708984375, 0.00665283203125, 0.1796875, 0.000301361083984375, 0.0179443359375]}\n",
       "    )\n",
       "    </script>"
      ],
      "text/plain": [
       "<circuitsvis.utils.render.RenderedHTML at 0x7f53e45bc450>"
      ]
     },
     "metadata": {},
     "output_type": "display_data"
    },
    {
     "name": "stdout",
     "output_type": "stream",
     "text": [
      "======================================================================================================================================================\n",
      "Layer 35, Group 21 (Heads 21-21)\n",
      "clean\n"
     ]
    },
    {
     "data": {
      "text/html": [
       "<div id=\"circuits-vis-c243f5ec-0f0d\" style=\"margin: 15px 0;\"/>\n",
       "    <script crossorigin type=\"module\">\n",
       "    import { render, ColoredTokens } from \"https://unpkg.com/circuitsvis@1.43.3/dist/cdn/esm.js\";\n",
       "    render(\n",
       "      \"circuits-vis-c243f5ec-0f0d\",\n",
       "      ColoredTokens,\n",
       "      {\"tokens\": [\"Which\", \" person\", \" from\", \" the\", \" following\", \" list\", \" has\", \" the\", \" profession\", \" in\", \" common\", \" with\", \" Kevin\", \" McCarthy\", \"?\\n\", \"Options\", \":\", \" Jude\", \" B\", \"elling\", \"ham\", \",\", \" Nicholas\", \" Sparks\", \",\", \" Brooks\", \" Ko\", \"ep\", \"ka\", \",\", \" Donald\", \" Trump\", \",\", \" Tucker\", \" Carlson\", \",\", \" Sofia\", \" Copp\", \"ola\", \"\\n\", \"Ans\", \":\"], \"values\": [0.0233154296875, 0.0120849609375, 0.00396728515625, 0.006195068359375, 0.007049560546875, 0.0031890869140625, 0.003936767578125, 0.00140380859375, 0.0091552734375, 0.000835418701171875, 0.0086669921875, 0.0133056640625, 0.038818359375, 0.10205078125, 0.0927734375, 0.0068359375, 0.012939453125, 0.002227783203125, 0.00213623046875, 0.000247955322265625, 0.00142669677734375, 0.015380859375, 0.005218505859375, 0.00677490234375, 0.0299072265625, 0.004547119140625, 0.01708984375, 0.0302734375, 0.003753662109375, 0.011474609375, 0.009765625, 0.1259765625, 0.038818359375, 0.013427734375, 0.0234375, 0.0281982421875, 0.005401611328125, 0.0028076171875, 0.005035400390625, 0.05517578125, 0.00921630859375, 0.0791015625]}\n",
       "    )\n",
       "    </script>"
      ],
      "text/plain": [
       "<circuitsvis.utils.render.RenderedHTML at 0x7f53a05b4790>"
      ]
     },
     "metadata": {},
     "output_type": "display_data"
    },
    {
     "name": "stdout",
     "output_type": "stream",
     "text": [
      "corrupt\n"
     ]
    },
    {
     "data": {
      "text/html": [
       "<div id=\"circuits-vis-8cd273dc-769b\" style=\"margin: 15px 0;\"/>\n",
       "    <script crossorigin type=\"module\">\n",
       "    import { render, ColoredTokens } from \"https://unpkg.com/circuitsvis@1.43.3/dist/cdn/esm.js\";\n",
       "    render(\n",
       "      \"circuits-vis-8cd273dc-769b\",\n",
       "      ColoredTokens,\n",
       "      {\"tokens\": [\"Which\", \" person\", \" from\", \" the\", \" following\", \" list\", \" has\", \" the\", \" profession\", \" in\", \" common\", \" with\", \" Margaret\", \" At\", \"wood\", \"?\\n\", \"Options\", \":\", \" Tucker\", \" Carlson\", \",\", \" Donald\", \" Trump\", \",\", \" Sofia\", \" Copp\", \"ola\", \",\", \" Jude\", \" B\", \"elling\", \"ham\", \",\", \" Brooks\", \" Ko\", \"ep\", \"ka\", \",\", \" Nicholas\", \" Sparks\", \"\\n\", \"Ans\", \":\"], \"values\": [0.0296630859375, 0.0113525390625, 0.007476806640625, 0.006927490234375, 0.006927490234375, 0.003570556640625, 0.005279541015625, 0.00115203857421875, 0.00537109375, 0.00070953369140625, 0.00994873046875, 0.0123291015625, 0.06640625, 0.0419921875, 0.1484375, 0.0458984375, 0.008544921875, 0.0191650390625, 0.003631591796875, 0.016357421875, 0.033935546875, 0.006134033203125, 0.0198974609375, 0.0159912109375, 0.005706787109375, 0.0032806396484375, 0.01019287109375, 0.047119140625, 0.004913330078125, 0.017333984375, 0.0003986358642578125, 0.0017852783203125, 0.006622314453125, 0.004058837890625, 0.0211181640625, 0.00180816650390625, 0.00335693359375, 0.0037384033203125, 0.005584716796875, 0.0576171875, 0.060791015625, 0.015625, 0.07568359375]}\n",
       "    )\n",
       "    </script>"
      ],
      "text/plain": [
       "<circuitsvis.utils.render.RenderedHTML at 0x7f2d786a1a90>"
      ]
     },
     "metadata": {},
     "output_type": "display_data"
    },
    {
     "name": "stdout",
     "output_type": "stream",
     "text": [
      "patch\n"
     ]
    },
    {
     "data": {
      "text/html": [
       "<div id=\"circuits-vis-0c126871-e97a\" style=\"margin: 15px 0;\"/>\n",
       "    <script crossorigin type=\"module\">\n",
       "    import { render, ColoredTokens } from \"https://unpkg.com/circuitsvis@1.43.3/dist/cdn/esm.js\";\n",
       "    render(\n",
       "      \"circuits-vis-0c126871-e97a\",\n",
       "      ColoredTokens,\n",
       "      {\"tokens\": [\"Which\", \" person\", \" from\", \" the\", \" following\", \" list\", \" has\", \" the\", \" profession\", \" in\", \" common\", \" with\", \" Kevin\", \" McCarthy\", \"?\\n\", \"Options\", \":\", \" Jude\", \" B\", \"elling\", \"ham\", \",\", \" Nicholas\", \" Sparks\", \",\", \" Brooks\", \" Ko\", \"ep\", \"ka\", \",\", \" Donald\", \" Trump\", \",\", \" Tucker\", \" Carlson\", \",\", \" Sofia\", \" Copp\", \"ola\", \"\\n\", \"Ans\", \":\"], \"values\": [0.033935546875, 0.01531982421875, 0.009521484375, 0.008544921875, 0.007598876953125, 0.004302978515625, 0.00634765625, 0.00139617919921875, 0.006256103515625, 0.000820159912109375, 0.011474609375, 0.01348876953125, 0.033203125, 0.041748046875, 0.056884765625, 0.00811767578125, 0.01953125, 0.00823974609375, 0.00396728515625, 0.00139617919921875, 0.006988525390625, 0.0267333984375, 0.007537841796875, 0.054931640625, 0.0771484375, 0.0036773681640625, 0.0120849609375, 0.01092529296875, 0.006103515625, 0.0135498046875, 0.00634765625, 0.058837890625, 0.0230712890625, 0.00555419921875, 0.01483154296875, 0.01806640625, 0.00897216796875, 0.006988525390625, 0.0198974609375, 0.07275390625, 0.01806640625, 0.0888671875]}\n",
       "    )\n",
       "    </script>"
      ],
      "text/plain": [
       "<circuitsvis.utils.render.RenderedHTML at 0x7f54640ff150>"
      ]
     },
     "metadata": {},
     "output_type": "display_data"
    },
    {
     "name": "stdout",
     "output_type": "stream",
     "text": [
      "obj_replaced\n"
     ]
    },
    {
     "data": {
      "text/html": [
       "<div id=\"circuits-vis-68f38ce6-c085\" style=\"margin: 15px 0;\"/>\n",
       "    <script crossorigin type=\"module\">\n",
       "    import { render, ColoredTokens } from \"https://unpkg.com/circuitsvis@1.43.3/dist/cdn/esm.js\";\n",
       "    render(\n",
       "      \"circuits-vis-68f38ce6-c085\",\n",
       "      ColoredTokens,\n",
       "      {\"tokens\": [\"Which\", \" person\", \" from\", \" the\", \" following\", \" list\", \" has\", \" the\", \" profession\", \" in\", \" common\", \" with\", \" Kevin\", \" McCarthy\", \"?\\n\", \"Options\", \":\", \" Jude\", \" B\", \"elling\", \"ham\", \",\", \" Nicholas\", \" Sparks\", \",\", \" Brooks\", \" Ko\", \"ep\", \"ka\", \",\", \" Donald\", \" Trump\", \",\", \" Tucker\", \" Carlson\", \",\", \" Sofia\", \" Copp\", \"ola\", \"\\n\", \"Ans\", \":\"], \"values\": [0.033203125, 0.0150146484375, 0.00927734375, 0.00836181640625, 0.0074462890625, 0.00421142578125, 0.0062255859375, 0.00136566162109375, 0.006134033203125, 0.000804901123046875, 0.01123046875, 0.01324462890625, 0.032470703125, 0.040771484375, 0.0556640625, 0.0079345703125, 0.0191650390625, 0.036376953125, 0.004058837890625, 0.0022125244140625, 0.006011962890625, 0.0303955078125, 0.006622314453125, 0.04443359375, 0.0712890625, 0.003082275390625, 0.01043701171875, 0.00457763671875, 0.0064697265625, 0.0167236328125, 0.00469970703125, 0.054931640625, 0.0208740234375, 0.00360107421875, 0.01544189453125, 0.01556396484375, 0.00823974609375, 0.00531005859375, 0.0224609375, 0.08935546875, 0.0145263671875, 0.08740234375]}\n",
       "    )\n",
       "    </script>"
      ],
      "text/plain": [
       "<circuitsvis.utils.render.RenderedHTML at 0x7f53a05b6190>"
      ]
     },
     "metadata": {},
     "output_type": "display_data"
    },
    {
     "name": "stdout",
     "output_type": "stream",
     "text": [
      "======================================================================================================================================================\n",
      "Layer 35, Group 22 (Heads 22-22)\n",
      "clean\n"
     ]
    },
    {
     "data": {
      "text/html": [
       "<div id=\"circuits-vis-a72a7bba-46a7\" style=\"margin: 15px 0;\"/>\n",
       "    <script crossorigin type=\"module\">\n",
       "    import { render, ColoredTokens } from \"https://unpkg.com/circuitsvis@1.43.3/dist/cdn/esm.js\";\n",
       "    render(\n",
       "      \"circuits-vis-a72a7bba-46a7\",\n",
       "      ColoredTokens,\n",
       "      {\"tokens\": [\"Which\", \" person\", \" from\", \" the\", \" following\", \" list\", \" has\", \" the\", \" profession\", \" in\", \" common\", \" with\", \" Kevin\", \" McCarthy\", \"?\\n\", \"Options\", \":\", \" Jude\", \" B\", \"elling\", \"ham\", \",\", \" Nicholas\", \" Sparks\", \",\", \" Brooks\", \" Ko\", \"ep\", \"ka\", \",\", \" Donald\", \" Trump\", \",\", \" Tucker\", \" Carlson\", \",\", \" Sofia\", \" Copp\", \"ola\", \"\\n\", \"Ans\", \":\"], \"values\": [0.01953125, 0.0306396484375, 0.0087890625, 0.0023651123046875, 0.006103515625, 0.002532958984375, 0.037841796875, 0.003021240234375, 0.01055908203125, 0.00092315673828125, 0.0034027099609375, 0.00372314453125, 0.02783203125, 0.0262451171875, 0.040283203125, 0.005950927734375, 0.01409912109375, 0.00433349609375, 0.001983642578125, 0.0007781982421875, 0.0146484375, 0.039306640625, 0.004852294921875, 0.021240234375, 0.05419921875, 0.002197265625, 0.018310546875, 0.0166015625, 0.0306396484375, 0.061767578125, 0.00360107421875, 0.04736328125, 0.037841796875, 0.00982666015625, 0.049560546875, 0.061279296875, 0.0096435546875, 0.0020904541015625, 0.0198974609375, 0.1083984375, 0.00677490234375, 0.06640625]}\n",
       "    )\n",
       "    </script>"
      ],
      "text/plain": [
       "<circuitsvis.utils.render.RenderedHTML at 0x7f53e4474750>"
      ]
     },
     "metadata": {},
     "output_type": "display_data"
    },
    {
     "name": "stdout",
     "output_type": "stream",
     "text": [
      "corrupt\n"
     ]
    },
    {
     "data": {
      "text/html": [
       "<div id=\"circuits-vis-2ebbf5ad-6526\" style=\"margin: 15px 0;\"/>\n",
       "    <script crossorigin type=\"module\">\n",
       "    import { render, ColoredTokens } from \"https://unpkg.com/circuitsvis@1.43.3/dist/cdn/esm.js\";\n",
       "    render(\n",
       "      \"circuits-vis-2ebbf5ad-6526\",\n",
       "      ColoredTokens,\n",
       "      {\"tokens\": [\"Which\", \" person\", \" from\", \" the\", \" following\", \" list\", \" has\", \" the\", \" profession\", \" in\", \" common\", \" with\", \" Margaret\", \" At\", \"wood\", \"?\\n\", \"Options\", \":\", \" Tucker\", \" Carlson\", \",\", \" Donald\", \" Trump\", \",\", \" Sofia\", \" Copp\", \"ola\", \",\", \" Jude\", \" B\", \"elling\", \"ham\", \",\", \" Brooks\", \" Ko\", \"ep\", \"ka\", \",\", \" Nicholas\", \" Sparks\", \"\\n\", \"Ans\", \":\"], \"values\": [0.0252685546875, 0.037841796875, 0.016845703125, 0.0037994384765625, 0.006591796875, 0.0026702880859375, 0.05322265625, 0.0028839111328125, 0.0091552734375, 0.00115966796875, 0.005340576171875, 0.00579833984375, 0.02734375, 0.030517578125, 0.059814453125, 0.0673828125, 0.005950927734375, 0.01708984375, 0.0027923583984375, 0.021728515625, 0.050048828125, 0.0048828125, 0.021484375, 0.019287109375, 0.008056640625, 0.0016326904296875, 0.0140380859375, 0.05712890625, 0.0042724609375, 0.01409912109375, 0.000782012939453125, 0.0115966796875, 0.0252685546875, 0.0015106201171875, 0.0228271484375, 0.0009002685546875, 0.0146484375, 0.020751953125, 0.00408935546875, 0.03369140625, 0.1298828125, 0.010986328125, 0.05029296875]}\n",
       "    )\n",
       "    </script>"
      ],
      "text/plain": [
       "<circuitsvis.utils.render.RenderedHTML at 0x7f54640ff150>"
      ]
     },
     "metadata": {},
     "output_type": "display_data"
    },
    {
     "name": "stdout",
     "output_type": "stream",
     "text": [
      "patch\n"
     ]
    },
    {
     "data": {
      "text/html": [
       "<div id=\"circuits-vis-375785e4-e432\" style=\"margin: 15px 0;\"/>\n",
       "    <script crossorigin type=\"module\">\n",
       "    import { render, ColoredTokens } from \"https://unpkg.com/circuitsvis@1.43.3/dist/cdn/esm.js\";\n",
       "    render(\n",
       "      \"circuits-vis-375785e4-e432\",\n",
       "      ColoredTokens,\n",
       "      {\"tokens\": [\"Which\", \" person\", \" from\", \" the\", \" following\", \" list\", \" has\", \" the\", \" profession\", \" in\", \" common\", \" with\", \" Kevin\", \" McCarthy\", \"?\\n\", \"Options\", \":\", \" Jude\", \" B\", \"elling\", \"ham\", \",\", \" Nicholas\", \" Sparks\", \",\", \" Brooks\", \" Ko\", \"ep\", \"ka\", \",\", \" Donald\", \" Trump\", \",\", \" Tucker\", \" Carlson\", \",\", \" Sofia\", \" Copp\", \"ola\", \"\\n\", \"Ans\", \":\"], \"values\": [0.031005859375, 0.045166015625, 0.0206298828125, 0.004425048828125, 0.007171630859375, 0.0031585693359375, 0.06298828125, 0.003387451171875, 0.01092529296875, 0.00139617919921875, 0.00640869140625, 0.006927490234375, 0.041259765625, 0.025390625, 0.06689453125, 0.00653076171875, 0.019287109375, 0.00531005859375, 0.0028076171875, 0.00139617919921875, 0.0216064453125, 0.035400390625, 0.00439453125, 0.043212890625, 0.07470703125, 0.00139617919921875, 0.01312255859375, 0.0078125, 0.0181884765625, 0.041259765625, 0.0019989013671875, 0.0181884765625, 0.022216796875, 0.0026702880859375, 0.01556396484375, 0.0262451171875, 0.009033203125, 0.00173187255859375, 0.0166015625, 0.08837890625, 0.0128173828125, 0.060546875]}\n",
       "    )\n",
       "    </script>"
      ],
      "text/plain": [
       "<circuitsvis.utils.render.RenderedHTML at 0x7f53a06ed910>"
      ]
     },
     "metadata": {},
     "output_type": "display_data"
    },
    {
     "name": "stdout",
     "output_type": "stream",
     "text": [
      "obj_replaced\n"
     ]
    },
    {
     "data": {
      "text/html": [
       "<div id=\"circuits-vis-b89677e8-833d\" style=\"margin: 15px 0;\"/>\n",
       "    <script crossorigin type=\"module\">\n",
       "    import { render, ColoredTokens } from \"https://unpkg.com/circuitsvis@1.43.3/dist/cdn/esm.js\";\n",
       "    render(\n",
       "      \"circuits-vis-b89677e8-833d\",\n",
       "      ColoredTokens,\n",
       "      {\"tokens\": [\"Which\", \" person\", \" from\", \" the\", \" following\", \" list\", \" has\", \" the\", \" profession\", \" in\", \" common\", \" with\", \" Kevin\", \" McCarthy\", \"?\\n\", \"Options\", \":\", \" Jude\", \" B\", \"elling\", \"ham\", \",\", \" Nicholas\", \" Sparks\", \",\", \" Brooks\", \" Ko\", \"ep\", \"ka\", \",\", \" Donald\", \" Trump\", \",\", \" Tucker\", \" Carlson\", \",\", \" Sofia\", \" Copp\", \"ola\", \"\\n\", \"Ans\", \":\"], \"values\": [0.0291748046875, 0.04248046875, 0.0194091796875, 0.004180908203125, 0.00677490234375, 0.00299072265625, 0.0595703125, 0.003204345703125, 0.01031494140625, 0.001312255859375, 0.00604248046875, 0.00653076171875, 0.038818359375, 0.02392578125, 0.0634765625, 0.00616455078125, 0.0181884765625, 0.031494140625, 0.005706787109375, 0.0016632080078125, 0.01531982421875, 0.044189453125, 0.0034942626953125, 0.0302734375, 0.0673828125, 0.0011749267578125, 0.010986328125, 0.0029144287109375, 0.0198974609375, 0.05126953125, 0.0014190673828125, 0.0174560546875, 0.024658203125, 0.0016326904296875, 0.01385498046875, 0.025634765625, 0.007598876953125, 0.00119781494140625, 0.0164794921875, 0.109375, 0.01007080078125, 0.05712890625]}\n",
       "    )\n",
       "    </script>"
      ],
      "text/plain": [
       "<circuitsvis.utils.render.RenderedHTML at 0x7f53a05b58d0>"
      ]
     },
     "metadata": {},
     "output_type": "display_data"
    },
    {
     "name": "stdout",
     "output_type": "stream",
     "text": [
      "======================================================================================================================================================\n"
     ]
    }
   ],
   "source": [
    "# for group_id in group_id_to_head_indices:\n",
    "for group_id in range(16, 23):\n",
    "    frm = group_id_to_head_indices[group_id][0]\n",
    "    to = group_id_to_head_indices[group_id][-1]\n",
    "    print(\n",
    "        f\"Layer {layer_idx}, Group {group_id} (Heads {frm}-{to})\"\n",
    "    )\n",
    "    for run_name in attn_info:\n",
    "        print(run_name)\n",
    "        attn_matrix = (\n",
    "            torch.Tensor(\n",
    "                attn_info[run_name].attention_matrices[layer_idx, frm : to + 1]\n",
    "            )\n",
    "            .mean(dim=0)\n",
    "            .squeeze()\n",
    "        )\n",
    "\n",
    "        tokenized = patch_tokenized if run_name == \"corrupt\" else clean_tokenized\n",
    "\n",
    "        visualize_attn_matrix(\n",
    "            attn_matrix=attn_matrix,\n",
    "            tokens=[mt.tokenizer.decode(t) for t in tokenized.input_ids[0]],\n",
    "            q_index=-1,\n",
    "            start_from=1,\n",
    "        )\n",
    "    \n",
    "    print(\"=\" * 150)"
   ]
  },
  {
   "cell_type": "code",
   "execution_count": 172,
   "id": "38f5364f",
   "metadata": {},
   "outputs": [
    {
     "data": {
      "text/html": [
       "<div id=\"circuits-vis-6e6f7c91-abf7\" style=\"margin: 15px 0;\"/>\n",
       "    <script crossorigin type=\"module\">\n",
       "    import { render, ColoredTokens } from \"https://unpkg.com/circuitsvis@1.43.3/dist/cdn/esm.js\";\n",
       "    render(\n",
       "      \"circuits-vis-6e6f7c91-abf7\",\n",
       "      ColoredTokens,\n",
       "      {\"tokens\": [\"Which\", \" person\", \" from\", \" the\", \" following\", \" list\", \" has\", \" the\", \" profession\", \" in\", \" common\", \" with\", \" Ed\", \" She\", \"er\", \"an\", \"?\\n\", \"Options\", \":\", \" G\", \"reta\", \" Ger\", \"wig\", \",\", \" Hillary\", \" Clinton\", \",\", \" Kanye\", \" West\", \",\", \" Nicholas\", \" Sparks\", \",\", \" Stephen\", \" Curry\", \",\", \" Phil\", \" Mick\", \"elson\", \"\\n\", \"Ans\", \":\"], \"values\": [0.034423828125, 0.004638671875, 0.004425048828125, 0.00193023681640625, 0.0034942626953125, 0.005157470703125, 0.0030364990234375, 0.00193023681640625, 0.031982421875, 0.0034332275390625, 0.033203125, 0.01025390625, 0.0157470703125, 0.0108642578125, 0.00897216796875, 0.1064453125, 0.00689697265625, 0.00323486328125, 0.00396728515625, 0.00701904296875, 0.0004100799560546875, 0.00067901611328125, 0.006378173828125, 0.00982666015625, 0.00049591064453125, 0.0028533935546875, 0.00701904296875, 0.023193359375, 0.1904296875, 0.02197265625, 0.0021820068359375, 0.007110595703125, 0.028564453125, 0.0013275146484375, 0.007293701171875, 0.00701904296875, 0.00051116943359375, 0.0012054443359375, 0.0052490234375, 0.00927734375, 0.00096893310546875, 0.10595703125]}\n",
       "    )\n",
       "    </script>"
      ],
      "text/plain": [
       "<circuitsvis.utils.render.RenderedHTML at 0x7f5964158090>"
      ]
     },
     "metadata": {},
     "output_type": "display_data"
    },
    {
     "name": "stdout",
     "output_type": "stream",
     "text": [
      "head_inp.shape=torch.Size([1, 43, 8192])\n",
      "ll_pred=['\"adel\"[15503] (p=0.005, logit=6.906)', '\"ais\"[2852] (p=0.003, logit=6.625)', '\"u\"[84] (p=0.003, logit=6.625)', '\"uss\"[1892] (p=0.003, logit=6.625)', '\" none\"[7000] (p=0.003, logit=6.594)']\n",
      "patch_pred=['\"?\\n\"[18072] (p=0.154, logit=12.125)', '\"?\\n\\n\"[24688] (p=0.078, logit=11.438)', '\"?\"[949] (p=0.044, logit=10.875)', '\" \\n\"[720] (p=0.042, logit=10.812)', '\" (\"[320] (p=0.027, logit=10.375)', '\" ->\"[1492] (p=0.021, logit=10.125)', '\" \"[220] (p=0.021, logit=10.125)', '\"??\"[9602] (p=0.015, logit=9.812)', '\" lawyer\"[15779] (p=0.013, logit=9.688)', '\" unknown\"[9987] (p=0.013, logit=9.625)', '\" profession\"[4913] (p=0.010, logit=9.438)', '\"\\n\\n\"[271] (p=0.010, logit=9.375)', '\" artist\"[10255] (p=0.010, logit=9.375)', '\" software\"[3241] (p=0.009, logit=9.312)', '\" \\n\\n\"[4815] (p=0.008, logit=9.188)']\n"
     ]
    }
   ],
   "source": [
    "from src.functional import get_hs\n",
    "from src.functional import logit_lens, patchscope, get_module_nnsight\n",
    "########################################################################\n",
    "context_prof = \"\"\"Name of a person -> their profession\n",
    "Albert Einstein -> physicist\n",
    "Michael Jordan -> basketball player\n",
    "Jack Ma -> entrepreneur\n",
    "placeholder ->\"\"\"\n",
    "\n",
    "patch_layers = [5]\n",
    "patch_layers = [mt.layer_name_format.format(idx) for idx in patch_layers]\n",
    "########################################################################\n",
    "\n",
    "layer_idx, head_idx = 35, 50\n",
    "\n",
    "visualize_attn_matrix(\n",
    "    attn_matrix=attn_info.attention_matrices[layer_idx, head_idx],\n",
    "    tokens=[mt.tokenizer.decode(t) for t in tokenized.input_ids[0]],\n",
    "    q_index=-1,\n",
    "    start_from=1,\n",
    ")\n",
    "\n",
    "# hs = get_hs(\n",
    "#     mt=mt,\n",
    "#     input=tokenized,\n",
    "#     locations=[(layer_name, -1) for layer_name in mt.layer_names],\n",
    "#     patches=[],\n",
    "#     return_dict=True,\n",
    "# )\n",
    "with mt.trace(tokenized) as trace:\n",
    "    res_prev = get_module_nnsight(mt, mt.layer_name_format.format(layer_idx-1))\n",
    "    head_inp = res_prev.output[0].save()\n",
    "\n",
    "print(f\"{head_inp.shape=}\")\n",
    "\n",
    "ll_pred = logit_lens(\n",
    "    mt = mt,\n",
    "    h = head_inp[0, -1, :],\n",
    ")\n",
    "print(f'll_pred={[str(pred) for pred in ll_pred]}')\n",
    "\n",
    "patch_pred = patchscope(\n",
    "    mt=mt,\n",
    "    h=head_inp[0, -1, :],\n",
    "    context=context_prof,\n",
    "    placeholder=\"placeholder\",\n",
    "    patch_layers=patch_layers,\n",
    "    k=15,\n",
    ")\n",
    "print(f'patch_pred={[str(pred) for pred in patch_pred]}')"
   ]
  },
  {
   "cell_type": "code",
   "execution_count": 179,
   "id": "a7f37387",
   "metadata": {},
   "outputs": [
    {
     "name": "stdout",
     "output_type": "stream",
     "text": [
      "2025-07-22 18:55:53 src.hooking.llama_attention DEBUG    LlamaAttentionPatcher <> model.layers.35.self_attn\n",
      "2025-07-22 18:55:53 src.hooking.llama_attention DEBUG    hidden_shape=(1, 43, -1, 128) | input_shape=torch.Size([1, 43]) | torch.Size([1, 43, 8192])\n",
      "2025-07-22 18:55:54 src.hooking.llama_attention DEBUG    query_states.size()=torch.Size([1, 64, 43, 128]) | key_states.size()=torch.Size([1, 8, 43, 128]) | value_states.size()=torch.Size([1, 8, 43, 128])\n",
      "o_proj_weight_split.size()=torch.Size([8192, 64, 128])\n",
      "attn_output.size()=torch.Size([1, 43, 64, 128])\n"
     ]
    },
    {
     "data": {
      "text/plain": [
       "[[PredictedToken(token=' Kanye', prob=0.74609375, logit=20.125, token_id=59817, metadata=None),\n",
       "  PredictedToken(token=' The', prob=0.061279296875, logit=17.625, token_id=578, metadata=None),\n",
       "  PredictedToken(token=' Nicholas', prob=0.032958984375, logit=17.0, token_id=40796, metadata=None),\n",
       "  PredictedToken(token=' K', prob=0.029052734375, logit=16.875, token_id=735, metadata=None),\n",
       "  PredictedToken(token=' Ed', prob=0.017578125, logit=16.375, token_id=3279, metadata=None)]]"
      ]
     },
     "execution_count": 179,
     "metadata": {},
     "output_type": "execute_result"
    }
   ],
   "source": [
    "import baukit\n",
    "import types\n",
    "from src.hooking.llama_attention import LlamaAttentionPatcher\n",
    "from src.functional import predict_next_token\n",
    "\n",
    "mt.reset_forward()\n",
    "attn_block = baukit.get_module(\n",
    "    mt._model,\n",
    "    mt.attn_module_name_format.format(layer_idx),\n",
    ")\n",
    "\n",
    "patched_attn_matrices = {}\n",
    "patched_head_contributions={}\n",
    "attn_block.forward = types.MethodType(\n",
    "    LlamaAttentionPatcher(\n",
    "        block_name = mt.attn_module_name_format.format(layer_idx),\n",
    "        save_attn_for=list(range(mt.config.num_attention_heads)),\n",
    "        store_attn_matrices = patched_attn_matrices,\n",
    "        store_head_contributions = patched_head_contributions,\n",
    "    ),\n",
    "    attn_block\n",
    ")\n",
    "\n",
    "patched_pred = predict_next_token(\n",
    "    mt = mt,\n",
    "    inputs = tokenized,\n",
    ")\n",
    "\n",
    "mt.reset_forward()\n",
    "\n",
    "patched_pred"
   ]
  },
  {
   "cell_type": "code",
   "execution_count": 174,
   "id": "7a11c1d1",
   "metadata": {},
   "outputs": [
    {
     "name": "stdout",
     "output_type": "stream",
     "text": [
      "patched_attn_matrices[head_idx].shape=torch.Size([1, 43, 43])\n",
      "patched_head_contributions[head_idx].shape=torch.Size([1, 43, 8192])\n"
     ]
    },
    {
     "data": {
      "text/html": [
       "<div id=\"circuits-vis-aa1bcc4d-dc2b\" style=\"margin: 15px 0;\"/>\n",
       "    <script crossorigin type=\"module\">\n",
       "    import { render, ColoredTokens } from \"https://unpkg.com/circuitsvis@1.43.3/dist/cdn/esm.js\";\n",
       "    render(\n",
       "      \"circuits-vis-aa1bcc4d-dc2b\",\n",
       "      ColoredTokens,\n",
       "      {\"tokens\": [\"Which\", \" person\", \" from\", \" the\", \" following\", \" list\", \" has\", \" the\", \" profession\", \" in\", \" common\", \" with\", \" Ed\", \" She\", \"er\", \"an\", \"?\\n\", \"Options\", \":\", \" G\", \"reta\", \" Ger\", \"wig\", \",\", \" Hillary\", \" Clinton\", \",\", \" Kanye\", \" West\", \",\", \" Nicholas\", \" Sparks\", \",\", \" Stephen\", \" Curry\", \",\", \" Phil\", \" Mick\", \"elson\", \"\\n\", \"Ans\", \":\"], \"values\": [0.0341796875, 0.004730224609375, 0.00439453125, 0.00191497802734375, 0.0034637451171875, 0.005218505859375, 0.003021240234375, 0.00194549560546875, 0.031494140625, 0.0034637451171875, 0.033447265625, 0.01019287109375, 0.0157470703125, 0.0111083984375, 0.0089111328125, 0.10595703125, 0.00701904296875, 0.003265380859375, 0.003936767578125, 0.007049560546875, 0.000408172607421875, 0.00067138671875, 0.006317138671875, 0.0098876953125, 0.000507354736328125, 0.0029144287109375, 0.007049560546875, 0.0235595703125, 0.1953125, 0.022705078125, 0.00213623046875, 0.00701904296875, 0.028076171875, 0.00133514404296875, 0.007232666015625, 0.007049560546875, 0.000522613525390625, 0.00119781494140625, 0.00537109375, 0.00933837890625, 0.0009765625, 0.10498046875]}\n",
       "    )\n",
       "    </script>"
      ],
      "text/plain": [
       "<circuitsvis.utils.render.RenderedHTML at 0x7f595e12d210>"
      ]
     },
     "metadata": {},
     "output_type": "display_data"
    },
    {
     "data": {
      "text/plain": [
       "[PredictedToken(token=' breat', prob=0.00958251953125, logit=8.75, token_id=28855, metadata=None),\n",
       " PredictedToken(token=' continu', prob=0.006561279296875, logit=8.375, token_id=16513, metadata=None),\n",
       " PredictedToken(token=' Deng', prob=0.004364013671875, logit=7.96875, token_id=92829, metadata=None),\n",
       " PredictedToken(token=' Daily', prob=0.004119873046875, logit=7.90625, token_id=13690, metadata=None),\n",
       " PredictedToken(token=' continuation', prob=0.0038604736328125, logit=7.84375, token_id=42271, metadata=None)]"
      ]
     },
     "execution_count": 174,
     "metadata": {},
     "output_type": "execute_result"
    }
   ],
   "source": [
    "from src.functional import logit_lens\n",
    "print(f\"{patched_attn_matrices[head_idx].shape=}\")\n",
    "print(f\"{patched_head_contributions[head_idx].shape=}\")\n",
    "\n",
    "visualize_attn_matrix(\n",
    "    attn_matrix=patched_attn_matrices[head_idx].squeeze(),\n",
    "    tokens=[mt.tokenizer.decode(t) for t in tokenized.input_ids[0]],\n",
    "    q_index=-1,\n",
    "    start_from=1,\n",
    ")\n",
    "\n",
    "logit_lens(\n",
    "    mt = mt,\n",
    "    h = patched_head_contributions[head_idx][:, -1],\n",
    ")"
   ]
  },
  {
   "cell_type": "code",
   "execution_count": 175,
   "id": "895d9caf",
   "metadata": {},
   "outputs": [
    {
     "name": "stdout",
     "output_type": "stream",
     "text": [
      "attn_module.head_dim=128 | attn_module.num_key_value_groups=8\n"
     ]
    },
    {
     "data": {
      "text/plain": [
       "LlamaAttention(\n",
       "  (q_proj): Linear(in_features=8192, out_features=8192, bias=False)\n",
       "  (k_proj): Linear(in_features=8192, out_features=1024, bias=False)\n",
       "  (v_proj): Linear(in_features=8192, out_features=1024, bias=False)\n",
       "  (o_proj): Linear(in_features=8192, out_features=8192, bias=False)\n",
       ")"
      ]
     },
     "execution_count": 175,
     "metadata": {},
     "output_type": "execute_result"
    }
   ],
   "source": [
    "import baukit\n",
    "attn_module = baukit.get_module(mt._model, mt.attn_module_name_format.format(layer_idx))\n",
    "print(f\"{attn_module.head_dim=} | {attn_module.num_key_value_groups=}\")\n",
    "attn_module"
   ]
  },
  {
   "cell_type": "code",
   "execution_count": 176,
   "id": "53dc3296",
   "metadata": {},
   "outputs": [
    {
     "name": "stdout",
     "output_type": "stream",
     "text": [
      "query_states.shape=torch.Size([1, 64, 43, 128]), key_states.shape=torch.Size([1, 8, 43, 128]), value_states.shape=torch.Size([1, 8, 43, 128])\n"
     ]
    }
   ],
   "source": [
    "from src.hooking.llama_attention import repeat_kv\n",
    "\n",
    "hidden_shape = (*tokenized.input_ids.shape, -1, attn_module.head_dim)\n",
    "\n",
    "query_states = attn_module.q_proj(head_inp).view(hidden_shape).transpose(1, 2)\n",
    "key_states = attn_module.k_proj(head_inp).view(hidden_shape).transpose(1, 2)\n",
    "value_states = attn_module.v_proj(head_inp).view(hidden_shape).transpose(1, 2)\n",
    "print(f\"{query_states.shape=}, {key_states.shape=}, {value_states.shape=}\")"
   ]
  },
  {
   "cell_type": "code",
   "execution_count": 186,
   "id": "20eab7a6",
   "metadata": {},
   "outputs": [
    {
     "data": {
      "text/plain": [
       "torch.Size([1, 43, 128])"
      ]
     },
     "execution_count": 186,
     "metadata": {},
     "output_type": "execute_result"
    }
   ],
   "source": [
    "head_query_out = query_states[:, head_idx, :, :]\n",
    "head_query_out.shape"
   ]
  },
  {
   "cell_type": "code",
   "execution_count": 219,
   "id": "e173316f",
   "metadata": {},
   "outputs": [
    {
     "name": "stdout",
     "output_type": "stream",
     "text": [
      "q_proj_weight_split.shape=torch.Size([64, 128, 8192])\n",
      "head_q_proj_weight.shape=torch.Size([128, 8192])\n",
      "head_query_out_2.shape=torch.Size([1, 43, 128])\n"
     ]
    }
   ],
   "source": [
    "q_proj_weight_split = attn_module.q_proj.weight.view(\n",
    "    N_HEADS, attn_module.head_dim, attn_module.q_proj.in_features\n",
    ")\n",
    "\n",
    "print(f\"{q_proj_weight_split.shape=}\")\n",
    "head_q_proj_weight = q_proj_weight_split[head_idx]\n",
    "print(f\"{head_q_proj_weight.shape=}\")\n",
    "\n",
    "head_query_out_2 = head_inp @ head_q_proj_weight.T\n",
    "print(f\"{head_query_out_2.shape=}\")"
   ]
  },
  {
   "cell_type": "code",
   "execution_count": 245,
   "id": "8208ed21",
   "metadata": {},
   "outputs": [
    {
     "name": "stdout",
     "output_type": "stream",
     "text": [
      "False\n"
     ]
    },
    {
     "data": {
      "text/plain": [
       "tensor([[[0., 0., 0.,  ..., 0., 0., 0.],\n",
       "         [0., 0., 0.,  ..., 0., 0., 0.],\n",
       "         [0., 0., 0.,  ..., 0., 0., 0.],\n",
       "         ...,\n",
       "         [0., 0., 0.,  ..., 0., 0., 0.],\n",
       "         [0., 0., 0.,  ..., 0., 0., 0.],\n",
       "         [0., 0., 0.,  ..., 0., 0., 0.]]], device='cuda:3',\n",
       "       dtype=torch.bfloat16, grad_fn=<SubBackward0>)"
      ]
     },
     "execution_count": 245,
     "metadata": {},
     "output_type": "execute_result"
    }
   ],
   "source": [
    "print(torch.allclose(head_query_out, head_query_out_2, atol=1e-1))\n",
    "(head_query_out_2 - head_query_out)"
   ]
  },
  {
   "cell_type": "code",
   "execution_count": 246,
   "id": "6b642c8c",
   "metadata": {},
   "outputs": [
    {
     "data": {
      "text/plain": [
       "torch.Size([128, 8192])"
      ]
     },
     "execution_count": 246,
     "metadata": {},
     "output_type": "execute_result"
    }
   ],
   "source": [
    "head_q_proj_weight.shape"
   ]
  },
  {
   "cell_type": "code",
   "execution_count": 247,
   "id": "76dea3e5",
   "metadata": {},
   "outputs": [
    {
     "data": {
      "text/plain": [
       "torch.Size([1, 43, 8192])"
      ]
     },
     "execution_count": 247,
     "metadata": {},
     "output_type": "execute_result"
    }
   ],
   "source": [
    "head_inp.shape"
   ]
  },
  {
   "cell_type": "code",
   "execution_count": 251,
   "id": "ae16006e",
   "metadata": {},
   "outputs": [
    {
     "name": "stdout",
     "output_type": "stream",
     "text": [
      "ll_pred=['\" Gow\"[93571] (p=0.037, logit=9.562)', '\" stalk\"[55972] (p=0.003, logit=7.125)', '\" Bag\"[20287] (p=0.003, logit=6.906)', '\"groupon\"[71014] (p=0.002, logit=6.844)', '\"alaxy\"[109956] (p=0.002, logit=6.812)', '\" bip\"[29978] (p=0.002, logit=6.781)', '\" ong\"[127721] (p=0.002, logit=6.656)', '\"ंर\"[123418] (p=0.002, logit=6.531)', '\" bag\"[9145] (p=0.002, logit=6.531)', '\" fre\"[3541] (p=0.002, logit=6.469)', '\" Shepherd\"[59646] (p=0.002, logit=6.375)', '\" Collector\"[59648] (p=0.002, logit=6.375)', '\"/oauth\"[61803] (p=0.001, logit=6.312)', '\" Trip\"[27852] (p=0.001, logit=6.312)', '\"kili\"[118462] (p=0.001, logit=6.312)']\n",
      "patch_pred=['\" invalid\"[8482] (p=0.070, logit=10.875)', '\" unknown\"[9987] (p=0.058, logit=10.688)', '\"??\"[9602] (p=0.055, logit=10.625)', '\"?\\n\"[18072] (p=0.048, logit=10.500)', '\"???\"[52417] (p=0.045, logit=10.438)', '\"?\\n\\n\"[24688] (p=0.033, logit=10.125)', '\" error\"[1493] (p=0.031, logit=10.062)', '\"?\"[949] (p=0.028, logit=9.938)', '\" not\"[539] (p=0.021, logit=9.688)', '\" programmer\"[48888] (p=0.018, logit=9.500)', '\" \"[220] (p=0.018, logit=9.500)', '\" undefined\"[5732] (p=0.017, logit=9.438)', '\" no\"[912] (p=0.016, logit=9.375)', '\" number\"[1396] (p=0.011, logit=9.000)', '\" (\"[320] (p=0.011, logit=9.000)']\n"
     ]
    },
    {
     "data": {
      "text/plain": [
       "torch.Size([8192, 8192])"
      ]
     },
     "execution_count": 251,
     "metadata": {},
     "output_type": "execute_result"
    }
   ],
   "source": [
    "with torch.no_grad():\n",
    "    head_q_proj = head_q_proj_weight.to(torch.float32)\n",
    "    proj_matrix = head_q_proj.T @ torch.linalg.pinv(head_q_proj @ head_q_proj.T) @ head_q_proj\n",
    "    head_query_read = head_inp @ proj_matrix.to(mt.dtype).T\n",
    "\n",
    "ll_pred = logit_lens(\n",
    "    mt = mt,\n",
    "    h = head_query_read[:, -1].squeeze(),\n",
    "    k=15\n",
    ")\n",
    "print(f'll_pred={[str(pred) for pred in ll_pred]}')\n",
    "\n",
    "patch_pred = patchscope(\n",
    "    mt=mt,\n",
    "    h=head_query_read[:, -1].squeeze(),\n",
    "    context=context_prof,\n",
    "    placeholder=\"placeholder\",\n",
    "    patch_layers=patch_layers,\n",
    "    k=15,\n",
    ")\n",
    "print(f'patch_pred={[str(pred) for pred in patch_pred]}')\n",
    "\n",
    "proj_matrix.shape"
   ]
  },
  {
   "cell_type": "code",
   "execution_count": 252,
   "id": "e577bba6",
   "metadata": {},
   "outputs": [
    {
     "data": {
      "text/plain": [
       "(torch.Size([1, 43, 8192]), torch.Size([8192, 8192]))"
      ]
     },
     "execution_count": 252,
     "metadata": {},
     "output_type": "execute_result"
    }
   ],
   "source": [
    "head_inp.shape, proj_matrix.shape"
   ]
  },
  {
   "cell_type": "code",
   "execution_count": null,
   "id": "95f5787a",
   "metadata": {},
   "outputs": [],
   "source": []
  }
 ],
 "metadata": {
  "kernelspec": {
   "display_name": "connection",
   "language": "python",
   "name": "python3"
  },
  "language_info": {
   "codemirror_mode": {
    "name": "ipython",
    "version": 3
   },
   "file_extension": ".py",
   "mimetype": "text/x-python",
   "name": "python",
   "nbconvert_exporter": "python",
   "pygments_lexer": "ipython3",
   "version": "3.11.11"
  }
 },
 "nbformat": 4,
 "nbformat_minor": 5
}
