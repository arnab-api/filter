{
 "cells": [
  {
   "cell_type": "code",
   "execution_count": 1,
   "id": "24260918",
   "metadata": {},
   "outputs": [],
   "source": [
    "%load_ext autoreload\n",
    "%autoreload 2"
   ]
  },
  {
   "cell_type": "code",
   "execution_count": 2,
   "id": "c5783b3a",
   "metadata": {},
   "outputs": [
    {
     "name": "stdout",
     "output_type": "stream",
     "text": [
      "2025-07-22 16:42:22 __main__ INFO     torch.__version__='2.7.0+cu126', torch.version.cuda='12.6'\n",
      "2025-07-22 16:42:22 __main__ INFO     torch.cuda.is_available()=True, torch.cuda.device_count()=8, torch.cuda.get_device_name()='NVIDIA A100 80GB PCIe'\n",
      "2025-07-22 16:42:22 __main__ INFO     transformers.__version__='4.51.3'\n"
     ]
    }
   ],
   "source": [
    "import os\n",
    "import json\n",
    "\n",
    "import sys\n",
    "\n",
    "sys.path.append(\"../\")\n",
    "\n",
    "##################################################################\n",
    "os.environ[\"TOKENIZERS_PARALLELISM\"] = \"false\"\n",
    "os.environ[\"CUDA_VISIBLE_DEVICES\"] = \"0,1,2,3,4,5,6,7\"\n",
    "##################################################################\n",
    "\n",
    "import logging\n",
    "from src.utils import logging_utils\n",
    "from src.utils import env_utils\n",
    "\n",
    "logger = logging.getLogger(__name__)\n",
    "\n",
    "logging.basicConfig(\n",
    "    level=logging.DEBUG,\n",
    "    format=logging_utils.DEFAULT_FORMAT,\n",
    "    datefmt=logging_utils.DEFAULT_DATEFMT,\n",
    "    stream=sys.stdout,\n",
    ")\n",
    "\n",
    "import torch\n",
    "import transformers\n",
    "\n",
    "logger.info(f\"{torch.__version__=}, {torch.version.cuda=}\")\n",
    "logger.info(\n",
    "    f\"{torch.cuda.is_available()=}, {torch.cuda.device_count()=}, {torch.cuda.get_device_name()=}\"\n",
    ")\n",
    "logger.info(f\"{transformers.__version__=}\")"
   ]
  },
  {
   "cell_type": "code",
   "execution_count": 3,
   "id": "1cc6a601",
   "metadata": {},
   "outputs": [
    {
     "name": "stdout",
     "output_type": "stream",
     "text": [
      "[2025-07-22 16:42:24,820] [INFO] [real_accelerator.py:239:get_accelerator] Setting ds_accelerator to cuda (auto detect)\n",
      "2025-07-22 16:42:24 root INFO     gcc -pthread -B /disk/u/arnab/miniconda3/envs/connection/compiler_compat -DNDEBUG -fwrapv -O2 -Wall -fPIC -O2 -isystem /disk/u/arnab/miniconda3/envs/connection/include -fPIC -O2 -isystem /disk/u/arnab/miniconda3/envs/connection/include -fPIC -c /tmp/tmpa_xrfxfb/test.c -o /tmp/tmpa_xrfxfb/test.o\n",
      "2025-07-22 16:42:24 root INFO     gcc -pthread -B /disk/u/arnab/miniconda3/envs/connection/compiler_compat /tmp/tmpa_xrfxfb/test.o -laio -o /tmp/tmpa_xrfxfb/a.out\n"
     ]
    },
    {
     "name": "stderr",
     "output_type": "stream",
     "text": [
      "/disk/u/arnab/miniconda3/envs/connection/compiler_compat/ld: cannot find -laio: No such file or directory\n",
      "collect2: error: ld returned 1 exit status\n"
     ]
    },
    {
     "name": "stdout",
     "output_type": "stream",
     "text": [
      "2025-07-22 16:42:25 root INFO     gcc -pthread -B /disk/u/arnab/miniconda3/envs/connection/compiler_compat -DNDEBUG -fwrapv -O2 -Wall -fPIC -O2 -isystem /disk/u/arnab/miniconda3/envs/connection/include -fPIC -O2 -isystem /disk/u/arnab/miniconda3/envs/connection/include -fPIC -c /tmp/tmposq64q16/test.c -o /tmp/tmposq64q16/test.o\n",
      "2025-07-22 16:42:25 root INFO     gcc -pthread -B /disk/u/arnab/miniconda3/envs/connection/compiler_compat /tmp/tmposq64q16/test.o -L/usr -L/usr/lib64 -lcufile -o /tmp/tmposq64q16/a.out\n"
     ]
    },
    {
     "name": "stderr",
     "output_type": "stream",
     "text": [
      "/disk/u/arnab/miniconda3/envs/connection/compiler_compat/ld: cannot find -lcufile: No such file or directory\n",
      "collect2: error: ld returned 1 exit status\n"
     ]
    },
    {
     "name": "stdout",
     "output_type": "stream",
     "text": [
      "2025-07-22 16:42:26 git.cmd DEBUG    Popen(['git', 'version'], cwd=/disk/u/arnab/Codes/Projects/retrieval/notebooks, stdin=None, shell=False, universal_newlines=False)\n",
      "2025-07-22 16:42:26 git.cmd DEBUG    Popen(['git', 'version'], cwd=/disk/u/arnab/Codes/Projects/retrieval/notebooks, stdin=None, shell=False, universal_newlines=False)\n",
      "2025-07-22 16:42:26 wandb.docker.auth DEBUG    Trying paths: ['/disk/u/arnab/.docker/config.json', '/disk/u/arnab/.dockercfg']\n",
      "2025-07-22 16:42:26 wandb.docker.auth DEBUG    No config file found\n"
     ]
    }
   ],
   "source": [
    "from src.utils.training_utils import get_device_map\n",
    "\n",
    "# model_key = \"meta-llama/Llama-3.2-3B\"\n",
    "# model_key = \"meta-llama/Llama-3.1-8B\"\n",
    "model_key = \"meta-llama/Llama-3.3-70B-Instruct\"\n",
    "# model_key = \"meta-llama/Llama-3.1-405B-Instruct\"\n",
    "\n",
    "# model_key = \"google/gemma-2-9b-it\"\n",
    "# model_key = \"google/gemma-3-12b-it\"\n",
    "# model_key = \"google/gemma-2-27b-it\"\n",
    "\n",
    "# model_key = \"deepseek-ai/DeepSeek-R1-Distill-Llama-8B\"\n",
    "\n",
    "# model_key = \"allenai/OLMo-2-1124-7B-Instruct\"\n",
    "# model_key = \"allenai/OLMo-7B-0424-hf\"\n",
    "\n",
    "# model_key = \"Qwen/Qwen2-7B\"\n",
    "# model_key = \"Qwen/Qwen2.5-14B-Instruct\"\n",
    "# model_key = \"Qwen/Qwen2.5-32B-Instruct\"\n",
    "# model_key = \"Qwen/Qwen2.5-72B-Instruct\"\n",
    "\n",
    "# model_key = \"Qwen/Qwen3-1.7B\"\n",
    "# model_key = \"Qwen/Qwen3-4B\"\n",
    "# model_key = \"Qwen/Qwen3-8B\"\n",
    "# model_key = \"Qwen/Qwen3-14B\"\n",
    "# model_key = \"Qwen/Qwen3-32B\"\n",
    "\n",
    "# device_map = get_device_map(model_key, 30, n_gpus=8)\n",
    "# device_map"
   ]
  },
  {
   "cell_type": "code",
   "execution_count": 4,
   "id": "998bc0c4",
   "metadata": {},
   "outputs": [],
   "source": [
    "# os.environ[\"BNB_CUDA_VERSION\"] = \"124\"\n",
    "# ! echo $BNB_CUDA_VERSION\n",
    "# ! python -m bitsandbytes"
   ]
  },
  {
   "cell_type": "code",
   "execution_count": 5,
   "id": "dacaf064",
   "metadata": {},
   "outputs": [
    {
     "name": "stdout",
     "output_type": "stream",
     "text": [
      "2025-07-22 16:42:27 src.models WARNING  meta-llama/Llama-3.3-70B-Instruct not found in /disk/u/arnab/Codes/Models\n",
      "If not found in cache, model will be downloaded from HuggingFace to cache directory\n",
      "2025-07-22 16:42:27 urllib3.connectionpool DEBUG    Starting new HTTPS connection (1): huggingface.co:443\n"
     ]
    },
    {
     "name": "stdout",
     "output_type": "stream",
     "text": [
      "2025-07-22 16:42:27 urllib3.connectionpool DEBUG    https://huggingface.co:443 \"HEAD /meta-llama/Llama-3.3-70B-Instruct/resolve/main/config.json HTTP/1.1\" 200 0\n",
      "2025-07-22 16:42:27 urllib3.connectionpool DEBUG    https://huggingface.co:443 \"HEAD /meta-llama/Llama-3.3-70B-Instruct/resolve/main/tokenizer_config.json HTTP/1.1\" 200 0\n"
     ]
    },
    {
     "data": {
      "application/vnd.jupyter.widget-view+json": {
       "model_id": "4e06ae7ae3214b00b5bf9651b605ef65",
       "version_major": 2,
       "version_minor": 0
      },
      "text/plain": [
       "Loading checkpoint shards:   0%|          | 0/30 [00:00<?, ?it/s]"
      ]
     },
     "metadata": {},
     "output_type": "display_data"
    },
    {
     "name": "stdout",
     "output_type": "stream",
     "text": [
      "2025-07-22 16:43:12 urllib3.connectionpool DEBUG    https://huggingface.co:443 \"HEAD /meta-llama/Llama-3.3-70B-Instruct/resolve/main/generation_config.json HTTP/1.1\" 200 0\n",
      "2025-07-22 16:43:13 src.models INFO     loaded model <meta-llama/Llama-3.3-70B-Instruct> | size: 134570.516 MB | dtype: torch.bfloat16 | device: cuda:0\n"
     ]
    }
   ],
   "source": [
    "from src.models import ModelandTokenizer\n",
    "\n",
    "# from transformers import BitsAndBytesConfig\n",
    "\n",
    "mt = ModelandTokenizer(\n",
    "    model_key=model_key,\n",
    "    torch_dtype=torch.bfloat16,\n",
    "    # device_map=device_map,\n",
    "    device_map=\"auto\",\n",
    "    # quantization_config = BitsAndBytesConfig(\n",
    "    #     # load_in_4bit=True\n",
    "    #     load_in_8bit=True\n",
    "    # )\n",
    ")"
   ]
  },
  {
   "cell_type": "code",
   "execution_count": 6,
   "id": "fb1ec0ca",
   "metadata": {},
   "outputs": [
    {
     "name": "stdout",
     "output_type": "stream",
     "text": [
      "['trainable_params.pt']\n"
     ]
    },
    {
     "data": {
      "text/plain": [
       "tensor(0.0010, dtype=torch.bfloat16, grad_fn=<MaxBackward1>)"
      ]
     },
     "execution_count": 6,
     "metadata": {},
     "output_type": "execute_result"
    }
   ],
   "source": [
    "from src.functional import free_gpu_cache\n",
    "\n",
    "# SYNTH_DATASET = \"icosahedron_1\"\n",
    "SYNTH_DATASET = \"64\"\n",
    "\n",
    "checkpoint_path = os.path.join(\n",
    "    env_utils.DEFAULT_RESULTS_DIR,\n",
    "    \"trained_params\",\n",
    "    f\"{SYNTH_DATASET}\",\n",
    "    \"_full__clamp=0.001\",\n",
    "    model_key.split(\"/\")[-1],\n",
    ")\n",
    "\n",
    "version = \"epoch_1\"\n",
    "# version = \"final_model\"\n",
    "\n",
    "checkpoint_path = os.path.join(env_utils.DEFAULT_RESULTS_DIR, checkpoint_path, version)\n",
    "\n",
    "print(os.listdir(checkpoint_path))\n",
    "\n",
    "checkpoint_path = os.path.join(checkpoint_path, \"trainable_params.pt\")\n",
    "\n",
    "loaded_deltas = torch.load(checkpoint_path, map_location=\"cpu\")\n",
    "# loaded_deltas\n",
    "\n",
    "free_gpu_cache()\n",
    "\n",
    "\n",
    "d = loaded_deltas[\"model<>layers<>10<>mlp<>gate_proj\"]\n",
    "d.abs().max()"
   ]
  },
  {
   "cell_type": "code",
   "execution_count": 7,
   "id": "22003ab2",
   "metadata": {},
   "outputs": [
    {
     "name": "stdout",
     "output_type": "stream",
     "text": [
      "2025-07-22 16:43:25 src.utils.training_utils DEBUG    module_name='model.layers.0.mlp.gate_proj' | param_delta.shape=torch.Size([28672, 8192])\n",
      "2025-07-22 16:43:26 src.utils.training_utils DEBUG    module_name='model.layers.0.mlp.up_proj' | param_delta.shape=torch.Size([28672, 8192])\n",
      "2025-07-22 16:43:26 src.utils.training_utils DEBUG    module_name='model.layers.0.mlp.down_proj' | param_delta.shape=torch.Size([8192, 28672])\n",
      "2025-07-22 16:43:26 src.utils.training_utils DEBUG    module_name='model.layers.1.mlp.gate_proj' | param_delta.shape=torch.Size([28672, 8192])\n",
      "2025-07-22 16:43:26 src.utils.training_utils DEBUG    module_name='model.layers.1.mlp.up_proj' | param_delta.shape=torch.Size([28672, 8192])\n",
      "2025-07-22 16:43:26 src.utils.training_utils DEBUG    module_name='model.layers.1.mlp.down_proj' | param_delta.shape=torch.Size([8192, 28672])\n",
      "2025-07-22 16:43:26 src.utils.training_utils DEBUG    module_name='model.layers.2.mlp.gate_proj' | param_delta.shape=torch.Size([28672, 8192])\n",
      "2025-07-22 16:43:26 src.utils.training_utils DEBUG    module_name='model.layers.2.mlp.up_proj' | param_delta.shape=torch.Size([28672, 8192])\n",
      "2025-07-22 16:43:26 src.utils.training_utils DEBUG    module_name='model.layers.2.mlp.down_proj' | param_delta.shape=torch.Size([8192, 28672])\n",
      "2025-07-22 16:43:26 src.utils.training_utils DEBUG    module_name='model.layers.3.mlp.gate_proj' | param_delta.shape=torch.Size([28672, 8192])\n",
      "2025-07-22 16:43:27 src.utils.training_utils DEBUG    module_name='model.layers.3.mlp.up_proj' | param_delta.shape=torch.Size([28672, 8192])\n",
      "2025-07-22 16:43:27 src.utils.training_utils DEBUG    module_name='model.layers.3.mlp.down_proj' | param_delta.shape=torch.Size([8192, 28672])\n",
      "2025-07-22 16:43:27 src.utils.training_utils DEBUG    module_name='model.layers.4.mlp.gate_proj' | param_delta.shape=torch.Size([28672, 8192])\n",
      "2025-07-22 16:43:27 src.utils.training_utils DEBUG    module_name='model.layers.4.mlp.up_proj' | param_delta.shape=torch.Size([28672, 8192])\n",
      "2025-07-22 16:43:27 src.utils.training_utils DEBUG    module_name='model.layers.4.mlp.down_proj' | param_delta.shape=torch.Size([8192, 28672])\n",
      "2025-07-22 16:43:27 src.utils.training_utils DEBUG    module_name='model.layers.5.mlp.gate_proj' | param_delta.shape=torch.Size([28672, 8192])\n",
      "2025-07-22 16:43:27 src.utils.training_utils DEBUG    module_name='model.layers.5.mlp.up_proj' | param_delta.shape=torch.Size([28672, 8192])\n",
      "2025-07-22 16:43:27 src.utils.training_utils DEBUG    module_name='model.layers.5.mlp.down_proj' | param_delta.shape=torch.Size([8192, 28672])\n",
      "2025-07-22 16:43:27 src.utils.training_utils DEBUG    module_name='model.layers.6.mlp.gate_proj' | param_delta.shape=torch.Size([28672, 8192])\n",
      "2025-07-22 16:43:27 src.utils.training_utils DEBUG    module_name='model.layers.6.mlp.up_proj' | param_delta.shape=torch.Size([28672, 8192])\n",
      "2025-07-22 16:43:28 src.utils.training_utils DEBUG    module_name='model.layers.6.mlp.down_proj' | param_delta.shape=torch.Size([8192, 28672])\n",
      "2025-07-22 16:43:28 src.utils.training_utils DEBUG    module_name='model.layers.7.mlp.gate_proj' | param_delta.shape=torch.Size([28672, 8192])\n",
      "2025-07-22 16:43:28 src.utils.training_utils DEBUG    module_name='model.layers.7.mlp.up_proj' | param_delta.shape=torch.Size([28672, 8192])\n",
      "2025-07-22 16:43:28 src.utils.training_utils DEBUG    module_name='model.layers.7.mlp.down_proj' | param_delta.shape=torch.Size([8192, 28672])\n",
      "2025-07-22 16:43:28 src.utils.training_utils DEBUG    module_name='model.layers.8.mlp.gate_proj' | param_delta.shape=torch.Size([28672, 8192])\n",
      "2025-07-22 16:43:28 src.utils.training_utils DEBUG    module_name='model.layers.8.mlp.up_proj' | param_delta.shape=torch.Size([28672, 8192])\n",
      "2025-07-22 16:43:28 src.utils.training_utils DEBUG    module_name='model.layers.8.mlp.down_proj' | param_delta.shape=torch.Size([8192, 28672])\n",
      "2025-07-22 16:43:28 src.utils.training_utils DEBUG    module_name='model.layers.9.mlp.gate_proj' | param_delta.shape=torch.Size([28672, 8192])\n",
      "2025-07-22 16:43:28 src.utils.training_utils DEBUG    module_name='model.layers.9.mlp.up_proj' | param_delta.shape=torch.Size([28672, 8192])\n",
      "2025-07-22 16:43:28 src.utils.training_utils DEBUG    module_name='model.layers.9.mlp.down_proj' | param_delta.shape=torch.Size([8192, 28672])\n",
      "2025-07-22 16:43:29 src.utils.training_utils DEBUG    module_name='model.layers.10.mlp.gate_proj' | param_delta.shape=torch.Size([28672, 8192])\n",
      "2025-07-22 16:43:29 src.utils.training_utils DEBUG    module_name='model.layers.10.mlp.up_proj' | param_delta.shape=torch.Size([28672, 8192])\n",
      "2025-07-22 16:43:29 src.utils.training_utils DEBUG    module_name='model.layers.10.mlp.down_proj' | param_delta.shape=torch.Size([8192, 28672])\n",
      "2025-07-22 16:43:29 src.utils.training_utils DEBUG    module_name='model.layers.11.mlp.gate_proj' | param_delta.shape=torch.Size([28672, 8192])\n",
      "2025-07-22 16:43:29 src.utils.training_utils DEBUG    module_name='model.layers.11.mlp.up_proj' | param_delta.shape=torch.Size([28672, 8192])\n",
      "2025-07-22 16:43:29 src.utils.training_utils DEBUG    module_name='model.layers.11.mlp.down_proj' | param_delta.shape=torch.Size([8192, 28672])\n",
      "2025-07-22 16:43:29 src.utils.training_utils DEBUG    module_name='model.layers.12.mlp.gate_proj' | param_delta.shape=torch.Size([28672, 8192])\n",
      "2025-07-22 16:43:29 src.utils.training_utils DEBUG    module_name='model.layers.12.mlp.up_proj' | param_delta.shape=torch.Size([28672, 8192])\n",
      "2025-07-22 16:43:29 src.utils.training_utils DEBUG    module_name='model.layers.12.mlp.down_proj' | param_delta.shape=torch.Size([8192, 28672])\n",
      "2025-07-22 16:43:30 src.utils.training_utils DEBUG    module_name='model.layers.13.mlp.gate_proj' | param_delta.shape=torch.Size([28672, 8192])\n",
      "2025-07-22 16:43:30 src.utils.training_utils DEBUG    module_name='model.layers.13.mlp.up_proj' | param_delta.shape=torch.Size([28672, 8192])\n",
      "2025-07-22 16:43:30 src.utils.training_utils DEBUG    module_name='model.layers.13.mlp.down_proj' | param_delta.shape=torch.Size([8192, 28672])\n",
      "2025-07-22 16:43:30 src.utils.training_utils DEBUG    module_name='model.layers.14.mlp.gate_proj' | param_delta.shape=torch.Size([28672, 8192])\n",
      "2025-07-22 16:43:30 src.utils.training_utils DEBUG    module_name='model.layers.14.mlp.up_proj' | param_delta.shape=torch.Size([28672, 8192])\n",
      "2025-07-22 16:43:30 src.utils.training_utils DEBUG    module_name='model.layers.14.mlp.down_proj' | param_delta.shape=torch.Size([8192, 28672])\n"
     ]
    }
   ],
   "source": [
    "from src.utils.training_utils import TrainableLM_delta, TrainableLM_LoRA\n",
    "\n",
    "#################################################\n",
    "Trainable_CLS = TrainableLM_delta\n",
    "# Trainable_CLS = TrainableLM_LoRA\n",
    "#################################################\n",
    "\n",
    "Trainable_CLS.fuse_with_model(mt._model, loaded_deltas)"
   ]
  },
  {
   "cell_type": "code",
   "execution_count": 35,
   "id": "b7d5ca30",
   "metadata": {},
   "outputs": [
    {
     "name": "stdout",
     "output_type": "stream",
     "text": [
      "2025-07-22 17:25:04 src.selection.data INFO     Loaded 16 categories\n"
     ]
    },
    {
     "data": {
      "text/plain": [
       "['actor',\n",
       " 'singer',\n",
       " 'comedian',\n",
       " 'director',\n",
       " 'basketball player',\n",
       " 'football player',\n",
       " 'soccer player',\n",
       " 'tennis player',\n",
       " 'golfer',\n",
       " 'boxer',\n",
       " 'news anchor',\n",
       " 'journalist',\n",
       " 'author',\n",
       " 'fashion designer',\n",
       " 'entrepreneur',\n",
       " 'politician']"
      ]
     },
     "execution_count": 35,
     "metadata": {},
     "output_type": "execute_result"
    }
   ],
   "source": [
    "from src.selection.data  import load_people_by_category\n",
    "\n",
    "people_by_category = load_people_by_category(tokenizer = mt.tokenizer)\n",
    "list(people_by_category.keys())"
   ]
  },
  {
   "cell_type": "code",
   "execution_count": 122,
   "id": "8afae324",
   "metadata": {},
   "outputs": [
    {
     "name": "stdout",
     "output_type": "stream",
     "text": [
      "Ed Sheeran -> Kanye West (2): ['Greta Gerwig', 'Hillary Clinton', 'Kanye West', 'Nicholas Sparks', 'Stephen Curry', 'Phil Mickelson']\n",
      "Which person from the following list has the profession in common with Ed Sheeran?\n",
      "Options: Greta Gerwig, Hillary Clinton, Kanye West, Nicholas Sparks, Stephen Curry, Phil Mickelson\n",
      "Ans:  >>  \"Kanye West\"\n"
     ]
    },
    {
     "data": {
      "text/plain": [
       "[PredictedToken(token=' Kanye', prob=0.74609375, logit=20.125, token_id=59817, metadata=None),\n",
       " PredictedToken(token=' The', prob=0.061279296875, logit=17.625, token_id=578, metadata=None),\n",
       " PredictedToken(token=' Nicholas', prob=0.032958984375, logit=17.0, token_id=40796, metadata=None),\n",
       " PredictedToken(token=' K', prob=0.0289306640625, logit=16.875, token_id=735, metadata=None),\n",
       " PredictedToken(token=' Ed', prob=0.017578125, logit=16.375, token_id=3279, metadata=None)]"
      ]
     },
     "execution_count": 122,
     "metadata": {},
     "output_type": "execute_result"
    }
   ],
   "source": [
    "from src.selection.data import SelectionSample, get_random_sample\n",
    "\n",
    "sample = get_random_sample(\n",
    "    people_by_category=people_by_category,\n",
    "    mt=mt,\n",
    "    n_distractors=5,\n",
    "    get_alt_obj=True,\n",
    "    # category=\"actor\",\n",
    "    # obj_idx=2,\n",
    "    filter_by_lm_prediction=True,\n",
    ")\n",
    "print(sample)\n",
    "print(sample.prompt, \" >> \", f'\"{sample.obj}\"')\n",
    "sample.prediction"
   ]
  },
  {
   "cell_type": "code",
   "execution_count": 123,
   "id": "4226d7f7",
   "metadata": {},
   "outputs": [],
   "source": [
    "from src.tokens import prepare_input\n",
    "\n",
    "tokenized = prepare_input(\n",
    "    tokenizer=mt,\n",
    "    prompts=sample.prompt,\n",
    "    return_offsets_mapping=True\n",
    ")"
   ]
  },
  {
   "cell_type": "markdown",
   "id": "aac62b51",
   "metadata": {},
   "source": [
    "## ATTN module patterns (layerwise average of heads)"
   ]
  },
  {
   "cell_type": "code",
   "execution_count": 124,
   "id": "e61da235",
   "metadata": {},
   "outputs": [
    {
     "name": "stdout",
     "output_type": "stream",
     "text": [
      "odict_keys(['last_hidden_state', 'past_key_values', 'attentions'])\n",
      "torch.Size([128256])\n",
      "2025-07-22 18:15:33 src.attention DEBUG    attentions.shape=torch.Size([80, 64, 43, 43]) | values.shape=torch.Size([80, 64, 43, 128])\n"
     ]
    },
    {
     "data": {
      "text/plain": [
       "[PredictedToken(token=' Kanye', prob=0.765625, logit=20.25, token_id=59817, metadata=None),\n",
       " PredictedToken(token=' The', prob=0.0556640625, logit=17.625, token_id=578, metadata=None),\n",
       " PredictedToken(token=' Nicholas', prob=0.02978515625, logit=17.0, token_id=40796, metadata=None),\n",
       " PredictedToken(token=' K', prob=0.0262451171875, logit=16.875, token_id=735, metadata=None),\n",
       " PredictedToken(token=' Ed', prob=0.01806640625, logit=16.5, token_id=3279, metadata=None)]"
      ]
     },
     "execution_count": 124,
     "metadata": {},
     "output_type": "execute_result"
    }
   ],
   "source": [
    "from src.attention import get_attention_matrices\n",
    "from src.functional import interpret_logits\n",
    "\n",
    "attn_matrices = get_attention_matrices(\n",
    "    input = tokenized,\n",
    "    mt = mt,\n",
    "    value_weighted=True,\n",
    "    # patches = []\n",
    ")\n",
    "\n",
    "interpret_logits(tokenizer=mt, logits = attn_matrices.logits)"
   ]
  },
  {
   "cell_type": "code",
   "execution_count": 125,
   "id": "d93022aa",
   "metadata": {},
   "outputs": [
    {
     "data": {
      "text/plain": [
       "(80, 64, 43, 43)"
      ]
     },
     "execution_count": 125,
     "metadata": {},
     "output_type": "execute_result"
    }
   ],
   "source": [
    "attn_matrices.attention_matrices.shape"
   ]
  },
  {
   "cell_type": "code",
   "execution_count": 126,
   "id": "816b828b",
   "metadata": {},
   "outputs": [
    {
     "name": "stdout",
     "output_type": "stream",
     "text": [
      "layer=0\n"
     ]
    },
    {
     "data": {
      "text/html": [
       "<div id=\"circuits-vis-cda33cc9-2968\" style=\"margin: 15px 0;\"/>\n",
       "    <script crossorigin type=\"module\">\n",
       "    import { render, ColoredTokens } from \"https://unpkg.com/circuitsvis@1.43.3/dist/cdn/esm.js\";\n",
       "    render(\n",
       "      \"circuits-vis-cda33cc9-2968\",\n",
       "      ColoredTokens,\n",
       "      {\"tokens\": [\"Which\", \" person\", \" from\", \" the\", \" following\", \" list\", \" has\", \" the\", \" profession\", \" in\", \" common\", \" with\", \" Ed\", \" She\", \"er\", \"an\", \"?\\n\", \"Options\", \":\", \" G\", \"reta\", \" Ger\", \"wig\", \",\", \" Hillary\", \" Clinton\", \",\", \" Kanye\", \" West\", \",\", \" Nicholas\", \" Sparks\", \",\", \" Stephen\", \" Curry\", \",\", \" Phil\", \" Mick\", \"elson\", \"\\n\", \"Ans\", \":\"], \"values\": [0.0005432488396763802, 0.00042847939766943455, 0.0004028342664241791, 0.0005114643136039376, 0.0005209599621593952, 0.00038095912896096706, 0.00031892542028799653, 0.00052293436601758, 0.0004504882963374257, 0.00043604226084426045, 0.000389252818422392, 0.00039587970240972936, 0.0003320479881949723, 0.0002608778013382107, 0.000313164055114612, 0.0003285609418526292, 0.001089046010747552, 0.0004437003517523408, 0.000497956876643002, 0.000369187822798267, 0.0004662612045649439, 0.0004458859912119806, 0.00045871827751398087, 0.0006981715559959412, 0.0004999871016480029, 0.00036834896309301257, 0.0007268786430358887, 0.0006404751911759377, 0.00034993214649148285, 0.0007542744278907776, 0.0005026267608627677, 0.00044428996625356376, 0.0008369768038392067, 0.0006322333938442171, 0.0005624371115118265, 0.0009040096774697304, 0.0007127740536816418, 0.0008114856318570673, 0.0009338289382867515, 0.002938422840088606, 0.0027171089313924313, 0.0016673412173986435]}\n",
       "    )\n",
       "    </script>"
      ],
      "text/plain": [
       "<circuitsvis.utils.render.RenderedHTML at 0x7f58bc3fe5d0>"
      ]
     },
     "metadata": {},
     "output_type": "display_data"
    },
    {
     "name": "stdout",
     "output_type": "stream",
     "text": [
      "--------------------------------------------------------------------------------\n",
      "layer=1\n"
     ]
    },
    {
     "data": {
      "text/html": [
       "<div id=\"circuits-vis-0a189760-988c\" style=\"margin: 15px 0;\"/>\n",
       "    <script crossorigin type=\"module\">\n",
       "    import { render, ColoredTokens } from \"https://unpkg.com/circuitsvis@1.43.3/dist/cdn/esm.js\";\n",
       "    render(\n",
       "      \"circuits-vis-0a189760-988c\",\n",
       "      ColoredTokens,\n",
       "      {\"tokens\": [\"Which\", \" person\", \" from\", \" the\", \" following\", \" list\", \" has\", \" the\", \" profession\", \" in\", \" common\", \" with\", \" Ed\", \" She\", \"er\", \"an\", \"?\\n\", \"Options\", \":\", \" G\", \"reta\", \" Ger\", \"wig\", \",\", \" Hillary\", \" Clinton\", \",\", \" Kanye\", \" West\", \",\", \" Nicholas\", \" Sparks\", \",\", \" Stephen\", \" Curry\", \",\", \" Phil\", \" Mick\", \"elson\", \"\\n\", \"Ans\", \":\"], \"values\": [0.00076499511487782, 0.00023282133042812347, 0.00026130490005016327, 0.00037132948637008667, 0.000655738462228328, 0.00028882839251309633, 0.00013069514534436166, 0.000166121288202703, 0.0002785623073577881, 0.00021645426750183105, 0.000245214207097888, 0.00012122624320909381, 0.00019988560234196484, 0.00022957322653383017, 0.000157900620251894, 0.0001907404512166977, 0.002221241593360901, 0.00046080013271421194, 0.0011747756507247686, 0.00020488863810896873, 0.0003161306958645582, 0.000276113860309124, 0.0003160047344863415, 0.00036636507138609886, 0.00040139548946172, 0.00024109455989673734, 0.00023242132738232613, 0.000559006817638874, 0.00021059857681393623, 0.00027330126613378525, 0.0003249495639465749, 0.0002917202655225992, 0.0002716146409511566, 0.0004527578130364418, 0.0005679111927747726, 0.00038977840449661016, 0.00037475861608982086, 0.0004952221643179655, 0.00061024259775877, 0.0035616084933280945, 0.010599050670862198, 0.0023872703313827515]}\n",
       "    )\n",
       "    </script>"
      ],
      "text/plain": [
       "<circuitsvis.utils.render.RenderedHTML at 0x7f58fc542fd0>"
      ]
     },
     "metadata": {},
     "output_type": "display_data"
    },
    {
     "name": "stdout",
     "output_type": "stream",
     "text": [
      "--------------------------------------------------------------------------------\n",
      "layer=2\n"
     ]
    },
    {
     "data": {
      "text/html": [
       "<div id=\"circuits-vis-87e8ce28-f750\" style=\"margin: 15px 0;\"/>\n",
       "    <script crossorigin type=\"module\">\n",
       "    import { render, ColoredTokens } from \"https://unpkg.com/circuitsvis@1.43.3/dist/cdn/esm.js\";\n",
       "    render(\n",
       "      \"circuits-vis-87e8ce28-f750\",\n",
       "      ColoredTokens,\n",
       "      {\"tokens\": [\"Which\", \" person\", \" from\", \" the\", \" following\", \" list\", \" has\", \" the\", \" profession\", \" in\", \" common\", \" with\", \" Ed\", \" She\", \"er\", \"an\", \"?\\n\", \"Options\", \":\", \" G\", \"reta\", \" Ger\", \"wig\", \",\", \" Hillary\", \" Clinton\", \",\", \" Kanye\", \" West\", \",\", \" Nicholas\", \" Sparks\", \",\", \" Stephen\", \" Curry\", \",\", \" Phil\", \" Mick\", \"elson\", \"\\n\", \"Ans\", \":\"], \"values\": [0.0004548509605228901, 0.0002199038863182068, 0.000223084120079875, 0.00019084755331277847, 0.0003119580796919763, 0.00023621901345904917, 0.00010350364027544856, 9.227266855305061e-05, 0.0002255127765238285, 0.00012885034084320068, 0.00018395669758319855, 8.319797780131921e-05, 0.00012574438005685806, 0.00010983005631715059, 0.000134785077534616, 0.00013141438830643892, 0.0006412044167518616, 0.0003227135166525841, 0.0005111428909003735, 0.00012102564505767077, 0.0002090285997837782, 0.0001767355715855956, 0.00024937454145401716, 0.00015325157437473536, 0.00020563852740451694, 0.00017304575885646045, 0.00012691633310168982, 0.00029708503279834986, 0.00014475412899628282, 0.00013163543189875782, 0.00025241676485165954, 0.00021952512906864285, 0.0001572254695929587, 0.0002692984417080879, 0.0003882723394781351, 0.00025376363191753626, 0.00027722195954993367, 0.0004024884256068617, 0.0006883032619953156, 0.003040209412574768, 0.021570980548858643, 0.0020458735525608063]}\n",
       "    )\n",
       "    </script>"
      ],
      "text/plain": [
       "<circuitsvis.utils.render.RenderedHTML at 0x7f58bc3fe5d0>"
      ]
     },
     "metadata": {},
     "output_type": "display_data"
    },
    {
     "name": "stdout",
     "output_type": "stream",
     "text": [
      "--------------------------------------------------------------------------------\n",
      "layer=3\n"
     ]
    },
    {
     "data": {
      "text/html": [
       "<div id=\"circuits-vis-caec9958-10e0\" style=\"margin: 15px 0;\"/>\n",
       "    <script crossorigin type=\"module\">\n",
       "    import { render, ColoredTokens } from \"https://unpkg.com/circuitsvis@1.43.3/dist/cdn/esm.js\";\n",
       "    render(\n",
       "      \"circuits-vis-caec9958-10e0\",\n",
       "      ColoredTokens,\n",
       "      {\"tokens\": [\"Which\", \" person\", \" from\", \" the\", \" following\", \" list\", \" has\", \" the\", \" profession\", \" in\", \" common\", \" with\", \" Ed\", \" She\", \"er\", \"an\", \"?\\n\", \"Options\", \":\", \" G\", \"reta\", \" Ger\", \"wig\", \",\", \" Hillary\", \" Clinton\", \",\", \" Kanye\", \" West\", \",\", \" Nicholas\", \" Sparks\", \",\", \" Stephen\", \" Curry\", \",\", \" Phil\", \" Mick\", \"elson\", \"\\n\", \"Ans\", \":\"], \"values\": [0.0013330541551113129, 0.0006555709987878799, 0.000546533614397049, 0.0003767646849155426, 0.0005243159830570221, 0.0005660550086759031, 0.00022636109497398138, 0.00026816315948963165, 0.000516306608915329, 0.0002205371856689453, 0.00037390366196632385, 0.0001771911047399044, 0.00043785572052001953, 0.0003214036114513874, 0.0005702488124370575, 0.0006126090884208679, 0.0023415759205818176, 0.0013483166694641113, 0.0016103088855743408, 0.0010737765114754438, 0.0008360855281352997, 0.0003174562007188797, 0.00045077502727508545, 0.0007518567144870758, 0.0005450677126646042, 0.0003903987817466259, 0.0002784836106002331, 0.0004967078566551208, 0.0002048015594482422, 0.00026125600561499596, 0.00045764632523059845, 0.00042977742850780487, 0.0002949303016066551, 0.0003455840051174164, 0.0006040185689926147, 0.0003192084841430187, 0.00028556003235280514, 0.0003836071118712425, 0.0008506327867507935, 0.002831071615219116, 0.009308069944381714, 0.003808826208114624]}\n",
       "    )\n",
       "    </script>"
      ],
      "text/plain": [
       "<circuitsvis.utils.render.RenderedHTML at 0x7f58bc53c290>"
      ]
     },
     "metadata": {},
     "output_type": "display_data"
    },
    {
     "name": "stdout",
     "output_type": "stream",
     "text": [
      "--------------------------------------------------------------------------------\n",
      "layer=4\n"
     ]
    },
    {
     "data": {
      "text/html": [
       "<div id=\"circuits-vis-7c303dd7-7bcc\" style=\"margin: 15px 0;\"/>\n",
       "    <script crossorigin type=\"module\">\n",
       "    import { render, ColoredTokens } from \"https://unpkg.com/circuitsvis@1.43.3/dist/cdn/esm.js\";\n",
       "    render(\n",
       "      \"circuits-vis-7c303dd7-7bcc\",\n",
       "      ColoredTokens,\n",
       "      {\"tokens\": [\"Which\", \" person\", \" from\", \" the\", \" following\", \" list\", \" has\", \" the\", \" profession\", \" in\", \" common\", \" with\", \" Ed\", \" She\", \"er\", \"an\", \"?\\n\", \"Options\", \":\", \" G\", \"reta\", \" Ger\", \"wig\", \",\", \" Hillary\", \" Clinton\", \",\", \" Kanye\", \" West\", \",\", \" Nicholas\", \" Sparks\", \",\", \" Stephen\", \" Curry\", \",\", \" Phil\", \" Mick\", \"elson\", \"\\n\", \"Ans\", \":\"], \"values\": [0.0015522255562245846, 0.0008321600034832954, 0.0005818475037813187, 0.00022242171689867973, 0.0008677779696881771, 0.0017612093361094594, 0.0004555300110951066, 0.0002310943673364818, 0.0008050901815295219, 0.0003261631354689598, 0.0005623404867947102, 0.0004926170222461224, 0.00033036485547199845, 0.00035578536335378885, 0.000609980896115303, 0.0007666051387786865, 0.003518208861351013, 0.0019211224280297756, 0.0027588577941060066, 0.00029263715259730816, 0.0005606627091765404, 0.0003016390837728977, 0.0007347371429204941, 0.000787605531513691, 0.0006271547172218561, 0.000666717765852809, 0.0005087754689157009, 0.000676298514008522, 0.0003859088756144047, 0.0005350217688828707, 0.0004946100525557995, 0.0007029760163277388, 0.0005988702178001404, 0.00043569260742515326, 0.0009598657488822937, 0.0006426449399441481, 0.00034473248524591327, 0.0005514026852324605, 0.0014356602914631367, 0.004529932513833046, 0.0129462331533432, 0.005983412265777588]}\n",
       "    )\n",
       "    </script>"
      ],
      "text/plain": [
       "<circuitsvis.utils.render.RenderedHTML at 0x7f58bc3e8e90>"
      ]
     },
     "metadata": {},
     "output_type": "display_data"
    },
    {
     "name": "stdout",
     "output_type": "stream",
     "text": [
      "--------------------------------------------------------------------------------\n",
      "layer=5\n"
     ]
    },
    {
     "data": {
      "text/html": [
       "<div id=\"circuits-vis-990b4025-2965\" style=\"margin: 15px 0;\"/>\n",
       "    <script crossorigin type=\"module\">\n",
       "    import { render, ColoredTokens } from \"https://unpkg.com/circuitsvis@1.43.3/dist/cdn/esm.js\";\n",
       "    render(\n",
       "      \"circuits-vis-990b4025-2965\",\n",
       "      ColoredTokens,\n",
       "      {\"tokens\": [\"Which\", \" person\", \" from\", \" the\", \" following\", \" list\", \" has\", \" the\", \" profession\", \" in\", \" common\", \" with\", \" Ed\", \" She\", \"er\", \"an\", \"?\\n\", \"Options\", \":\", \" G\", \"reta\", \" Ger\", \"wig\", \",\", \" Hillary\", \" Clinton\", \",\", \" Kanye\", \" West\", \",\", \" Nicholas\", \" Sparks\", \",\", \" Stephen\", \" Curry\", \",\", \" Phil\", \" Mick\", \"elson\", \"\\n\", \"Ans\", \":\"], \"values\": [0.0022210925817489624, 0.0006696507334709167, 0.0008238628506660461, 0.00039785029366612434, 0.0011676149442791939, 0.0010276557877659798, 0.0008020633831620216, 0.00043886853381991386, 0.0005413219332695007, 0.0004151389002799988, 0.0007117670029401779, 0.0005835159681737423, 0.0002464547287672758, 0.00032502622343599796, 0.0005194582045078278, 0.0008444488048553467, 0.004174947738647461, 0.002097802236676216, 0.003151899203658104, 0.0006534266285598278, 0.0005520940758287907, 0.00022969976998865604, 0.000539921224117279, 0.0008584558963775635, 0.000417828094214201, 0.00035597290843725204, 0.0004401537589728832, 0.0004113540053367615, 0.0001544528640806675, 0.0003604581579566002, 0.00033453013747930527, 0.0005230158567428589, 0.0004769982770085335, 0.000273335725069046, 0.0004953248426318169, 0.0003932975232601166, 0.0001929556019604206, 0.0004204725846648216, 0.0006123790517449379, 0.0030184872448444366, 0.006951265037059784, 0.005269922316074371]}\n",
       "    )\n",
       "    </script>"
      ],
      "text/plain": [
       "<circuitsvis.utils.render.RenderedHTML at 0x7f58dc5c5910>"
      ]
     },
     "metadata": {},
     "output_type": "display_data"
    },
    {
     "name": "stdout",
     "output_type": "stream",
     "text": [
      "--------------------------------------------------------------------------------\n",
      "layer=6\n"
     ]
    },
    {
     "data": {
      "text/html": [
       "<div id=\"circuits-vis-76c9806f-00cd\" style=\"margin: 15px 0;\"/>\n",
       "    <script crossorigin type=\"module\">\n",
       "    import { render, ColoredTokens } from \"https://unpkg.com/circuitsvis@1.43.3/dist/cdn/esm.js\";\n",
       "    render(\n",
       "      \"circuits-vis-76c9806f-00cd\",\n",
       "      ColoredTokens,\n",
       "      {\"tokens\": [\"Which\", \" person\", \" from\", \" the\", \" following\", \" list\", \" has\", \" the\", \" profession\", \" in\", \" common\", \" with\", \" Ed\", \" She\", \"er\", \"an\", \"?\\n\", \"Options\", \":\", \" G\", \"reta\", \" Ger\", \"wig\", \",\", \" Hillary\", \" Clinton\", \",\", \" Kanye\", \" West\", \",\", \" Nicholas\", \" Sparks\", \",\", \" Stephen\", \" Curry\", \",\", \" Phil\", \" Mick\", \"elson\", \"\\n\", \"Ans\", \":\"], \"values\": [0.0024678707122802734, 0.0017306208610534668, 0.0012684240937232971, 0.0002408064901828766, 0.0007592886686325073, 0.0013008750975131989, 0.001378323882818222, 0.00045189959928393364, 0.001070268452167511, 0.0006595049053430557, 0.001035790890455246, 0.0007043760269880295, 0.00036555901169776917, 0.0004745572805404663, 0.0005035363137722015, 0.001126997172832489, 0.0030337870121002197, 0.0036621689796447754, 0.006706515327095985, 0.0015590321272611618, 0.001032169908285141, 0.0004404410719871521, 0.000639796257019043, 0.001693684607744217, 0.0005024895071983337, 0.000355282798409462, 0.0006137639284133911, 0.0004490148276090622, 0.00017485488206148148, 0.0004877150058746338, 0.0004780646413564682, 0.00046996399760246277, 0.0005381517112255096, 0.0003186110407114029, 0.000504806637763977, 0.00048193708062171936, 0.0001833159476518631, 0.0003692992031574249, 0.0004884973168373108, 0.0022304020822048187, 0.006259102374315262, 0.007256709039211273]}\n",
       "    )\n",
       "    </script>"
      ],
      "text/plain": [
       "<circuitsvis.utils.render.RenderedHTML at 0x7f58dc3e5350>"
      ]
     },
     "metadata": {},
     "output_type": "display_data"
    },
    {
     "name": "stdout",
     "output_type": "stream",
     "text": [
      "--------------------------------------------------------------------------------\n",
      "layer=7\n"
     ]
    },
    {
     "data": {
      "text/html": [
       "<div id=\"circuits-vis-d93ec6e7-05c2\" style=\"margin: 15px 0;\"/>\n",
       "    <script crossorigin type=\"module\">\n",
       "    import { render, ColoredTokens } from \"https://unpkg.com/circuitsvis@1.43.3/dist/cdn/esm.js\";\n",
       "    render(\n",
       "      \"circuits-vis-d93ec6e7-05c2\",\n",
       "      ColoredTokens,\n",
       "      {\"tokens\": [\"Which\", \" person\", \" from\", \" the\", \" following\", \" list\", \" has\", \" the\", \" profession\", \" in\", \" common\", \" with\", \" Ed\", \" She\", \"er\", \"an\", \"?\\n\", \"Options\", \":\", \" G\", \"reta\", \" Ger\", \"wig\", \",\", \" Hillary\", \" Clinton\", \",\", \" Kanye\", \" West\", \",\", \" Nicholas\", \" Sparks\", \",\", \" Stephen\", \" Curry\", \",\", \" Phil\", \" Mick\", \"elson\", \"\\n\", \"Ans\", \":\"], \"values\": [0.0020615532994270325, 0.001052655279636383, 0.0012463927268981934, 0.00029610469937324524, 0.0009939707815647125, 0.0008541792631149292, 0.0020253434777259827, 0.0004792977124452591, 0.0005972925573587418, 0.0007730647921562195, 0.0008659437298774719, 0.001201435923576355, 0.000325947068631649, 0.0003888458013534546, 0.0004585869610309601, 0.0007741544395685196, 0.009604066610336304, 0.0024777650833129883, 0.004244878888130188, 0.0008656512945890427, 0.0006673727184534073, 0.00037129921838641167, 0.000557437539100647, 0.0035334844142198563, 0.0005494276992976665, 0.0005412334576249123, 0.001281708013266325, 0.0004897927865386009, 0.00019527156837284565, 0.000802959781140089, 0.0004736194387078285, 0.0004492504522204399, 0.0007690559141337872, 0.00024126307107508183, 0.00043093133717775345, 0.0005572526715695858, 0.00021334458142518997, 0.0003093751147389412, 0.00051155686378479, 0.0058433301746845245, 0.0037381500005722046, 0.005379155278205872]}\n",
       "    )\n",
       "    </script>"
      ],
      "text/plain": [
       "<circuitsvis.utils.render.RenderedHTML at 0x7f58dc3e0cd0>"
      ]
     },
     "metadata": {},
     "output_type": "display_data"
    },
    {
     "name": "stdout",
     "output_type": "stream",
     "text": [
      "--------------------------------------------------------------------------------\n",
      "layer=8\n"
     ]
    },
    {
     "data": {
      "text/html": [
       "<div id=\"circuits-vis-db67f872-0c35\" style=\"margin: 15px 0;\"/>\n",
       "    <script crossorigin type=\"module\">\n",
       "    import { render, ColoredTokens } from \"https://unpkg.com/circuitsvis@1.43.3/dist/cdn/esm.js\";\n",
       "    render(\n",
       "      \"circuits-vis-db67f872-0c35\",\n",
       "      ColoredTokens,\n",
       "      {\"tokens\": [\"Which\", \" person\", \" from\", \" the\", \" following\", \" list\", \" has\", \" the\", \" profession\", \" in\", \" common\", \" with\", \" Ed\", \" She\", \"er\", \"an\", \"?\\n\", \"Options\", \":\", \" G\", \"reta\", \" Ger\", \"wig\", \",\", \" Hillary\", \" Clinton\", \",\", \" Kanye\", \" West\", \",\", \" Nicholas\", \" Sparks\", \",\", \" Stephen\", \" Curry\", \",\", \" Phil\", \" Mick\", \"elson\", \"\\n\", \"Ans\", \":\"], \"values\": [0.002300441265106201, 0.002020902931690216, 0.001474779099225998, 0.0002547726035118103, 0.0018560118041932583, 0.0025077450554817915, 0.0016215633368119597, 0.00029413681477308273, 0.001884758472442627, 0.0006227493286132812, 0.001378428190946579, 0.0009334862697869539, 0.00041824334766715765, 0.0003044034820050001, 0.0007959576323628426, 0.0016034804284572601, 0.008226260542869568, 0.005013701505959034, 0.004477850627154112, 0.0004935500910505652, 0.0008537713438272476, 0.0004030819982290268, 0.0010744016617536545, 0.0017838268540799618, 0.0008033732883632183, 0.0007254783995449543, 0.0013015558943152428, 0.0009085889905691147, 0.00035486510023474693, 0.0011493908241391182, 0.0007144804112613201, 0.0008129165507853031, 0.0010813958942890167, 0.0005178917199373245, 0.001041606068611145, 0.0011238828301429749, 0.0005551771610043943, 0.000504838943015784, 0.0012720339000225067, 0.005834475159645081, 0.00901300460100174, 0.00711311399936676]}\n",
       "    )\n",
       "    </script>"
      ],
      "text/plain": [
       "<circuitsvis.utils.render.RenderedHTML at 0x7f58dc3e3950>"
      ]
     },
     "metadata": {},
     "output_type": "display_data"
    },
    {
     "name": "stdout",
     "output_type": "stream",
     "text": [
      "--------------------------------------------------------------------------------\n",
      "layer=9\n"
     ]
    },
    {
     "data": {
      "text/html": [
       "<div id=\"circuits-vis-7afc6c10-c989\" style=\"margin: 15px 0;\"/>\n",
       "    <script crossorigin type=\"module\">\n",
       "    import { render, ColoredTokens } from \"https://unpkg.com/circuitsvis@1.43.3/dist/cdn/esm.js\";\n",
       "    render(\n",
       "      \"circuits-vis-7afc6c10-c989\",\n",
       "      ColoredTokens,\n",
       "      {\"tokens\": [\"Which\", \" person\", \" from\", \" the\", \" following\", \" list\", \" has\", \" the\", \" profession\", \" in\", \" common\", \" with\", \" Ed\", \" She\", \"er\", \"an\", \"?\\n\", \"Options\", \":\", \" G\", \"reta\", \" Ger\", \"wig\", \",\", \" Hillary\", \" Clinton\", \",\", \" Kanye\", \" West\", \",\", \" Nicholas\", \" Sparks\", \",\", \" Stephen\", \" Curry\", \",\", \" Phil\", \" Mick\", \"elson\", \"\\n\", \"Ans\", \":\"], \"values\": [0.0017620064318180084, 0.0008448176085948944, 0.0008490234613418579, 0.00020328164100646973, 0.0011575967073440552, 0.0009717372013255954, 0.0007957394700497389, 0.00017662026220932603, 0.0010923370718955994, 0.00040806829929351807, 0.0012997742742300034, 0.0009677158668637276, 0.00041303643956780434, 0.000340114813297987, 0.0006262036040425301, 0.0009879712015390396, 0.004368036985397339, 0.004304978996515274, 0.003782466985285282, 0.000500344904139638, 0.0007516816258430481, 0.000290511641651392, 0.0008262693881988525, 0.0011379625648260117, 0.0005421224050223827, 0.0005943151190876961, 0.000772036612033844, 0.0008235592395067215, 0.00043974071741104126, 0.0006845630705356598, 0.0006019263528287411, 0.0007402012124657631, 0.0007675820961594582, 0.0005224952474236488, 0.0009334385395050049, 0.0008497936651110649, 0.0005054951179772615, 0.0004862730856984854, 0.0011331327259540558, 0.004850342869758606, 0.00998280942440033, 0.006927233189344406]}\n",
       "    )\n",
       "    </script>"
      ],
      "text/plain": [
       "<circuitsvis.utils.render.RenderedHTML at 0x7f58dc3e0150>"
      ]
     },
     "metadata": {},
     "output_type": "display_data"
    },
    {
     "name": "stdout",
     "output_type": "stream",
     "text": [
      "--------------------------------------------------------------------------------\n",
      "layer=10\n"
     ]
    },
    {
     "data": {
      "text/html": [
       "<div id=\"circuits-vis-28ee100e-2c6c\" style=\"margin: 15px 0;\"/>\n",
       "    <script crossorigin type=\"module\">\n",
       "    import { render, ColoredTokens } from \"https://unpkg.com/circuitsvis@1.43.3/dist/cdn/esm.js\";\n",
       "    render(\n",
       "      \"circuits-vis-28ee100e-2c6c\",\n",
       "      ColoredTokens,\n",
       "      {\"tokens\": [\"Which\", \" person\", \" from\", \" the\", \" following\", \" list\", \" has\", \" the\", \" profession\", \" in\", \" common\", \" with\", \" Ed\", \" She\", \"er\", \"an\", \"?\\n\", \"Options\", \":\", \" G\", \"reta\", \" Ger\", \"wig\", \",\", \" Hillary\", \" Clinton\", \",\", \" Kanye\", \" West\", \",\", \" Nicholas\", \" Sparks\", \",\", \" Stephen\", \" Curry\", \",\", \" Phil\", \" Mick\", \"elson\", \"\\n\", \"Ans\", \":\"], \"values\": [0.005551576614379883, 0.0026615113019943237, 0.001516103744506836, 0.0006294567137956619, 0.0032038986682891846, 0.002549290657043457, 0.0031974315643310547, 0.0008985623717308044, 0.0021937862038612366, 0.0014623329043388367, 0.0031524747610092163, 0.001640424132347107, 0.0010564252734184265, 0.0007966421544551849, 0.0014329999685287476, 0.002568226307630539, 0.012841582298278809, 0.005533456802368164, 0.005392402410507202, 0.0011765584349632263, 0.001192878931760788, 0.00046031130477786064, 0.0014405250549316406, 0.005242526531219482, 0.001094656065106392, 0.0011266544461250305, 0.0018479526042938232, 0.001115472987294197, 0.0007154075428843498, 0.0011376217007637024, 0.0009841285645961761, 0.0014697015285491943, 0.0014220550656318665, 0.0006892085075378418, 0.0017485953867435455, 0.0011822395026683807, 0.0007365290075540543, 0.0006477744318544865, 0.0015214690938591957, 0.006579354405403137, 0.008771173655986786, 0.009116649627685547]}\n",
       "    )\n",
       "    </script>"
      ],
      "text/plain": [
       "<circuitsvis.utils.render.RenderedHTML at 0x7f58bc3e8b50>"
      ]
     },
     "metadata": {},
     "output_type": "display_data"
    },
    {
     "name": "stdout",
     "output_type": "stream",
     "text": [
      "--------------------------------------------------------------------------------\n",
      "layer=11\n"
     ]
    },
    {
     "data": {
      "text/html": [
       "<div id=\"circuits-vis-e35e517f-008b\" style=\"margin: 15px 0;\"/>\n",
       "    <script crossorigin type=\"module\">\n",
       "    import { render, ColoredTokens } from \"https://unpkg.com/circuitsvis@1.43.3/dist/cdn/esm.js\";\n",
       "    render(\n",
       "      \"circuits-vis-e35e517f-008b\",\n",
       "      ColoredTokens,\n",
       "      {\"tokens\": [\"Which\", \" person\", \" from\", \" the\", \" following\", \" list\", \" has\", \" the\", \" profession\", \" in\", \" common\", \" with\", \" Ed\", \" She\", \"er\", \"an\", \"?\\n\", \"Options\", \":\", \" G\", \"reta\", \" Ger\", \"wig\", \",\", \" Hillary\", \" Clinton\", \",\", \" Kanye\", \" West\", \",\", \" Nicholas\", \" Sparks\", \",\", \" Stephen\", \" Curry\", \",\", \" Phil\", \" Mick\", \"elson\", \"\\n\", \"Ans\", \":\"], \"values\": [0.0024172216653823853, 0.002273768186569214, 0.0010333340615034103, 0.00024283677339553833, 0.0020064301788806915, 0.003647223114967346, 0.004003308713436127, 0.0003253216855227947, 0.0022816695272922516, 0.0012422241270542145, 0.003960445523262024, 0.0025061070919036865, 0.0006443150341510773, 0.0003136042505502701, 0.0007891356945037842, 0.0013335347175598145, 0.006791591644287109, 0.007131949067115784, 0.003045909106731415, 0.0006121573969721794, 0.0010749846696853638, 0.0002892487682402134, 0.0010255426168441772, 0.0019494518637657166, 0.0011316537857055664, 0.0010110028088092804, 0.0014309808611869812, 0.0012365207076072693, 0.00034622661769390106, 0.0007969439029693604, 0.0009580478072166443, 0.0008423477411270142, 0.0009607821702957153, 0.0007534287869930267, 0.0008972734212875366, 0.0007947422564029694, 0.0005660858005285263, 0.00039462000131607056, 0.0008257925510406494, 0.004901580512523651, 0.013870269060134888, 0.004548788070678711]}\n",
       "    )\n",
       "    </script>"
      ],
      "text/plain": [
       "<circuitsvis.utils.render.RenderedHTML at 0x7f58bc3e8590>"
      ]
     },
     "metadata": {},
     "output_type": "display_data"
    },
    {
     "name": "stdout",
     "output_type": "stream",
     "text": [
      "--------------------------------------------------------------------------------\n",
      "layer=12\n"
     ]
    },
    {
     "data": {
      "text/html": [
       "<div id=\"circuits-vis-e53d9b08-bf4d\" style=\"margin: 15px 0;\"/>\n",
       "    <script crossorigin type=\"module\">\n",
       "    import { render, ColoredTokens } from \"https://unpkg.com/circuitsvis@1.43.3/dist/cdn/esm.js\";\n",
       "    render(\n",
       "      \"circuits-vis-e53d9b08-bf4d\",\n",
       "      ColoredTokens,\n",
       "      {\"tokens\": [\"Which\", \" person\", \" from\", \" the\", \" following\", \" list\", \" has\", \" the\", \" profession\", \" in\", \" common\", \" with\", \" Ed\", \" She\", \"er\", \"an\", \"?\\n\", \"Options\", \":\", \" G\", \"reta\", \" Ger\", \"wig\", \",\", \" Hillary\", \" Clinton\", \",\", \" Kanye\", \" West\", \",\", \" Nicholas\", \" Sparks\", \",\", \" Stephen\", \" Curry\", \",\", \" Phil\", \" Mick\", \"elson\", \"\\n\", \"Ans\", \":\"], \"values\": [0.003889307379722595, 0.0015004687011241913, 0.0007977914065122604, 0.0002964381128549576, 0.0020575392991304398, 0.002466084435582161, 0.0023615574464201927, 0.0003396822139620781, 0.0018003564327955246, 0.0009606871753931046, 0.0022438615560531616, 0.0016386397182941437, 0.0012607192620635033, 0.0007874742150306702, 0.001333741471171379, 0.0024602003395557404, 0.011835336685180664, 0.003930822014808655, 0.004925748333334923, 0.0009675361216068268, 0.001608189195394516, 0.0005886740982532501, 0.001718670129776001, 0.004242949187755585, 0.0015719570219516754, 0.0017020031809806824, 0.0022426918148994446, 0.0018630586564540863, 0.0011357404291629791, 0.0022179484367370605, 0.0018065981566905975, 0.0017763935029506683, 0.0026406273245811462, 0.0017400458455085754, 0.0022218674421310425, 0.002464592456817627, 0.0011969171464443207, 0.0011056670919060707, 0.0022239964455366135, 0.008837297558784485, 0.017258185893297195, 0.013986662030220032]}\n",
       "    )\n",
       "    </script>"
      ],
      "text/plain": [
       "<circuitsvis.utils.render.RenderedHTML at 0x7f591c1a8190>"
      ]
     },
     "metadata": {},
     "output_type": "display_data"
    },
    {
     "name": "stdout",
     "output_type": "stream",
     "text": [
      "--------------------------------------------------------------------------------\n",
      "layer=13\n"
     ]
    },
    {
     "data": {
      "text/html": [
       "<div id=\"circuits-vis-b328ac3e-fa93\" style=\"margin: 15px 0;\"/>\n",
       "    <script crossorigin type=\"module\">\n",
       "    import { render, ColoredTokens } from \"https://unpkg.com/circuitsvis@1.43.3/dist/cdn/esm.js\";\n",
       "    render(\n",
       "      \"circuits-vis-b328ac3e-fa93\",\n",
       "      ColoredTokens,\n",
       "      {\"tokens\": [\"Which\", \" person\", \" from\", \" the\", \" following\", \" list\", \" has\", \" the\", \" profession\", \" in\", \" common\", \" with\", \" Ed\", \" She\", \"er\", \"an\", \"?\\n\", \"Options\", \":\", \" G\", \"reta\", \" Ger\", \"wig\", \",\", \" Hillary\", \" Clinton\", \",\", \" Kanye\", \" West\", \",\", \" Nicholas\", \" Sparks\", \",\", \" Stephen\", \" Curry\", \",\", \" Phil\", \" Mick\", \"elson\", \"\\n\", \"Ans\", \":\"], \"values\": [0.007638029754161835, 0.006438553333282471, 0.0033957287669181824, 0.0010591745376586914, 0.006621621549129486, 0.007533316500484943, 0.011306360363960266, 0.0009054760448634624, 0.004150701686739922, 0.0018997490406036377, 0.007464662194252014, 0.005074191838502884, 0.0022876709699630737, 0.0009150505065917969, 0.0011122291907668114, 0.0021573565900325775, 0.022490501403808594, 0.012018516659736633, 0.009104782715439796, 0.0017943729180842638, 0.00214289128780365, 0.0010367408394813538, 0.0016331523656845093, 0.006891980767250061, 0.0013789534568786621, 0.0015208516269922256, 0.0037474744021892548, 0.0015678927302360535, 0.0014598928391933441, 0.00270761176943779, 0.002335631288588047, 0.0011034747585654259, 0.0028649158775806427, 0.0020345374941825867, 0.0022015422582626343, 0.0026471689343452454, 0.0017050355672836304, 0.0009638918563723564, 0.0025240667164325714, 0.02374202013015747, 0.032907843589782715, 0.017000854015350342]}\n",
       "    )\n",
       "    </script>"
      ],
      "text/plain": [
       "<circuitsvis.utils.render.RenderedHTML at 0x7f58bc567710>"
      ]
     },
     "metadata": {},
     "output_type": "display_data"
    },
    {
     "name": "stdout",
     "output_type": "stream",
     "text": [
      "--------------------------------------------------------------------------------\n",
      "layer=14\n"
     ]
    },
    {
     "data": {
      "text/html": [
       "<div id=\"circuits-vis-d0381619-03f2\" style=\"margin: 15px 0;\"/>\n",
       "    <script crossorigin type=\"module\">\n",
       "    import { render, ColoredTokens } from \"https://unpkg.com/circuitsvis@1.43.3/dist/cdn/esm.js\";\n",
       "    render(\n",
       "      \"circuits-vis-d0381619-03f2\",\n",
       "      ColoredTokens,\n",
       "      {\"tokens\": [\"Which\", \" person\", \" from\", \" the\", \" following\", \" list\", \" has\", \" the\", \" profession\", \" in\", \" common\", \" with\", \" Ed\", \" She\", \"er\", \"an\", \"?\\n\", \"Options\", \":\", \" G\", \"reta\", \" Ger\", \"wig\", \",\", \" Hillary\", \" Clinton\", \",\", \" Kanye\", \" West\", \",\", \" Nicholas\", \" Sparks\", \",\", \" Stephen\", \" Curry\", \",\", \" Phil\", \" Mick\", \"elson\", \"\\n\", \"Ans\", \":\"], \"values\": [0.012059405446052551, 0.0057732462882995605, 0.0032872557640075684, 0.001735195517539978, 0.008641764521598816, 0.006120361387729645, 0.014330193400382996, 0.0009438544511795044, 0.0020529180765151978, 0.0010423194617033005, 0.004330404102802277, 0.0031624436378479004, 0.002632666379213333, 0.0008603446185588837, 0.000673539936542511, 0.0009463317692279816, 0.01784294843673706, 0.008041352033615112, 0.009044885635375977, 0.0026494646444916725, 0.0017228387296199799, 0.0006224503740668297, 0.0006791278719902039, 0.005162544548511505, 0.0008920151740312576, 0.0007842760533094406, 0.0018486212939023972, 0.0008564703166484833, 0.0006414121016860008, 0.002074114978313446, 0.0013230741024017334, 0.0005473289638757706, 0.001387815922498703, 0.0011308509856462479, 0.0008424613624811172, 0.0013224892318248749, 0.001315050758421421, 0.0003296039067208767, 0.0008206302300095558, 0.01415322721004486, 0.02958279848098755, 0.016728222370147705]}\n",
       "    )\n",
       "    </script>"
      ],
      "text/plain": [
       "<circuitsvis.utils.render.RenderedHTML at 0x7f59641229d0>"
      ]
     },
     "metadata": {},
     "output_type": "display_data"
    },
    {
     "name": "stdout",
     "output_type": "stream",
     "text": [
      "--------------------------------------------------------------------------------\n",
      "layer=15\n"
     ]
    },
    {
     "data": {
      "text/html": [
       "<div id=\"circuits-vis-76a1ad68-5260\" style=\"margin: 15px 0;\"/>\n",
       "    <script crossorigin type=\"module\">\n",
       "    import { render, ColoredTokens } from \"https://unpkg.com/circuitsvis@1.43.3/dist/cdn/esm.js\";\n",
       "    render(\n",
       "      \"circuits-vis-76a1ad68-5260\",\n",
       "      ColoredTokens,\n",
       "      {\"tokens\": [\"Which\", \" person\", \" from\", \" the\", \" following\", \" list\", \" has\", \" the\", \" profession\", \" in\", \" common\", \" with\", \" Ed\", \" She\", \"er\", \"an\", \"?\\n\", \"Options\", \":\", \" G\", \"reta\", \" Ger\", \"wig\", \",\", \" Hillary\", \" Clinton\", \",\", \" Kanye\", \" West\", \",\", \" Nicholas\", \" Sparks\", \",\", \" Stephen\", \" Curry\", \",\", \" Phil\", \" Mick\", \"elson\", \"\\n\", \"Ans\", \":\"], \"values\": [0.00805211067199707, 0.0032164715230464935, 0.0020370259881019592, 0.001658058725297451, 0.0031081363558769226, 0.0030829906463623047, 0.0042426809668540955, 0.0005585286999121308, 0.0024748146533966064, 0.0007188594900071621, 0.003535643219947815, 0.00242798775434494, 0.0026647979393601418, 0.001076921820640564, 0.001127142459154129, 0.0020868144929409027, 0.012664452195167542, 0.00709502212703228, 0.006479852832853794, 0.0014384668320417404, 0.001251528039574623, 0.0005703927017748356, 0.0008888132870197296, 0.00502367876470089, 0.0006977859884500504, 0.0010965187102556229, 0.0021045394241809845, 0.0006987731903791428, 0.000946044921875, 0.002048616297543049, 0.0011241137981414795, 0.0010166484862565994, 0.0018880702555179596, 0.0008765412494540215, 0.0013146735727787018, 0.0020270366221666336, 0.0008776667527854443, 0.0003429264761507511, 0.001202867366373539, 0.01476890966296196, 0.01943119242787361, 0.015237908810377121]}\n",
       "    )\n",
       "    </script>"
      ],
      "text/plain": [
       "<circuitsvis.utils.render.RenderedHTML at 0x7f591c1ab3d0>"
      ]
     },
     "metadata": {},
     "output_type": "display_data"
    },
    {
     "name": "stdout",
     "output_type": "stream",
     "text": [
      "--------------------------------------------------------------------------------\n",
      "layer=16\n"
     ]
    },
    {
     "data": {
      "text/html": [
       "<div id=\"circuits-vis-2b4e69f6-5809\" style=\"margin: 15px 0;\"/>\n",
       "    <script crossorigin type=\"module\">\n",
       "    import { render, ColoredTokens } from \"https://unpkg.com/circuitsvis@1.43.3/dist/cdn/esm.js\";\n",
       "    render(\n",
       "      \"circuits-vis-2b4e69f6-5809\",\n",
       "      ColoredTokens,\n",
       "      {\"tokens\": [\"Which\", \" person\", \" from\", \" the\", \" following\", \" list\", \" has\", \" the\", \" profession\", \" in\", \" common\", \" with\", \" Ed\", \" She\", \"er\", \"an\", \"?\\n\", \"Options\", \":\", \" G\", \"reta\", \" Ger\", \"wig\", \",\", \" Hillary\", \" Clinton\", \",\", \" Kanye\", \" West\", \",\", \" Nicholas\", \" Sparks\", \",\", \" Stephen\", \" Curry\", \",\", \" Phil\", \" Mick\", \"elson\", \"\\n\", \"Ans\", \":\"], \"values\": [0.013091325759887695, 0.005579724907875061, 0.0029712319374084473, 0.0023166537284851074, 0.004873335361480713, 0.0047893524169921875, 0.00472588837146759, 0.0006779991090297699, 0.004239633679389954, 0.0012365207076072693, 0.005430281162261963, 0.002447068691253662, 0.003153271973133087, 0.0012762099504470825, 0.0012436360120773315, 0.0023858994245529175, 0.013702869415283203, 0.011014819145202637, 0.011717081069946289, 0.0027224719524383545, 0.0020218193531036377, 0.0009207576513290405, 0.0013727247714996338, 0.009120166301727295, 0.0008416697382926941, 0.0019532889127731323, 0.0033798813819885254, 0.0009592026472091675, 0.0016397088766098022, 0.0029357820749282837, 0.0017988011240959167, 0.001435995101928711, 0.002709135413169861, 0.001695483922958374, 0.0017397105693817139, 0.0029919445514678955, 0.0019249096512794495, 0.0007281377911567688, 0.002669788897037506, 0.015654444694519043, 0.030273079872131348, 0.025789737701416016]}\n",
       "    )\n",
       "    </script>"
      ],
      "text/plain": [
       "<circuitsvis.utils.render.RenderedHTML at 0x7f58dc3eaf90>"
      ]
     },
     "metadata": {},
     "output_type": "display_data"
    },
    {
     "name": "stdout",
     "output_type": "stream",
     "text": [
      "--------------------------------------------------------------------------------\n",
      "layer=17\n"
     ]
    },
    {
     "data": {
      "text/html": [
       "<div id=\"circuits-vis-1c581f00-f795\" style=\"margin: 15px 0;\"/>\n",
       "    <script crossorigin type=\"module\">\n",
       "    import { render, ColoredTokens } from \"https://unpkg.com/circuitsvis@1.43.3/dist/cdn/esm.js\";\n",
       "    render(\n",
       "      \"circuits-vis-1c581f00-f795\",\n",
       "      ColoredTokens,\n",
       "      {\"tokens\": [\"Which\", \" person\", \" from\", \" the\", \" following\", \" list\", \" has\", \" the\", \" profession\", \" in\", \" common\", \" with\", \" Ed\", \" She\", \"er\", \"an\", \"?\\n\", \"Options\", \":\", \" G\", \"reta\", \" Ger\", \"wig\", \",\", \" Hillary\", \" Clinton\", \",\", \" Kanye\", \" West\", \",\", \" Nicholas\", \" Sparks\", \",\", \" Stephen\", \" Curry\", \",\", \" Phil\", \" Mick\", \"elson\", \"\\n\", \"Ans\", \":\"], \"values\": [0.012821421027183533, 0.010393738746643066, 0.007267624139785767, 0.004040181636810303, 0.00973019003868103, 0.009285861626267433, 0.015184967778623104, 0.0021857060492038727, 0.01138150691986084, 0.00432664155960083, 0.018862366676330566, 0.007077842950820923, 0.010056912899017334, 0.0033144429326057434, 0.0029361844062805176, 0.004639923572540283, 0.029134750366210938, 0.01788082718849182, 0.018001362681388855, 0.005445526912808418, 0.004451528191566467, 0.00162564218044281, 0.002996966242790222, 0.01189190149307251, 0.002368159592151642, 0.00301385298371315, 0.004521533846855164, 0.0024911314249038696, 0.00254233181476593, 0.005141779780387878, 0.0034571215510368347, 0.002941589802503586, 0.0044867247343063354, 0.003829464316368103, 0.0036285221576690674, 0.004545032978057861, 0.005572721362113953, 0.001503191888332367, 0.00408809632062912, 0.022753238677978516, 0.0544741153717041, 0.032678961753845215]}\n",
       "    )\n",
       "    </script>"
      ],
      "text/plain": [
       "<circuitsvis.utils.render.RenderedHTML at 0x7f58bc3e8510>"
      ]
     },
     "metadata": {},
     "output_type": "display_data"
    },
    {
     "name": "stdout",
     "output_type": "stream",
     "text": [
      "--------------------------------------------------------------------------------\n",
      "layer=18\n"
     ]
    },
    {
     "data": {
      "text/html": [
       "<div id=\"circuits-vis-ae160ed4-2129\" style=\"margin: 15px 0;\"/>\n",
       "    <script crossorigin type=\"module\">\n",
       "    import { render, ColoredTokens } from \"https://unpkg.com/circuitsvis@1.43.3/dist/cdn/esm.js\";\n",
       "    render(\n",
       "      \"circuits-vis-ae160ed4-2129\",\n",
       "      ColoredTokens,\n",
       "      {\"tokens\": [\"Which\", \" person\", \" from\", \" the\", \" following\", \" list\", \" has\", \" the\", \" profession\", \" in\", \" common\", \" with\", \" Ed\", \" She\", \"er\", \"an\", \"?\\n\", \"Options\", \":\", \" G\", \"reta\", \" Ger\", \"wig\", \",\", \" Hillary\", \" Clinton\", \",\", \" Kanye\", \" West\", \",\", \" Nicholas\", \" Sparks\", \",\", \" Stephen\", \" Curry\", \",\", \" Phil\", \" Mick\", \"elson\", \"\\n\", \"Ans\", \":\"], \"values\": [0.016104698181152344, 0.01071310043334961, 0.007142513990402222, 0.0037116408348083496, 0.010938644409179688, 0.0084734708070755, 0.01695249229669571, 0.003057509660720825, 0.01192772388458252, 0.005246765911579132, 0.036977559328079224, 0.011214077472686768, 0.00982886552810669, 0.003041766583919525, 0.00187746062874794, 0.003239870071411133, 0.04637038707733154, 0.02300584316253662, 0.024834156036376953, 0.011258482933044434, 0.00681033730506897, 0.002239719033241272, 0.0026956498622894287, 0.013195633888244629, 0.0023580119013786316, 0.0023813247680664062, 0.004495799541473389, 0.0019933730363845825, 0.002187773585319519, 0.005676437169313431, 0.003912836313247681, 0.002296745777130127, 0.004356309771537781, 0.0036126375198364258, 0.0025454461574554443, 0.004350915551185608, 0.0047705769538879395, 0.0009944438934326172, 0.004141844809055328, 0.03458723425865173, 0.039085984230041504, 0.04324173927307129]}\n",
       "    )\n",
       "    </script>"
      ],
      "text/plain": [
       "<circuitsvis.utils.render.RenderedHTML at 0x7f58dc3e2c90>"
      ]
     },
     "metadata": {},
     "output_type": "display_data"
    },
    {
     "name": "stdout",
     "output_type": "stream",
     "text": [
      "--------------------------------------------------------------------------------\n",
      "layer=19\n"
     ]
    },
    {
     "data": {
      "text/html": [
       "<div id=\"circuits-vis-a22e53f5-34b8\" style=\"margin: 15px 0;\"/>\n",
       "    <script crossorigin type=\"module\">\n",
       "    import { render, ColoredTokens } from \"https://unpkg.com/circuitsvis@1.43.3/dist/cdn/esm.js\";\n",
       "    render(\n",
       "      \"circuits-vis-a22e53f5-34b8\",\n",
       "      ColoredTokens,\n",
       "      {\"tokens\": [\"Which\", \" person\", \" from\", \" the\", \" following\", \" list\", \" has\", \" the\", \" profession\", \" in\", \" common\", \" with\", \" Ed\", \" She\", \"er\", \"an\", \"?\\n\", \"Options\", \":\", \" G\", \"reta\", \" Ger\", \"wig\", \",\", \" Hillary\", \" Clinton\", \",\", \" Kanye\", \" West\", \",\", \" Nicholas\", \" Sparks\", \",\", \" Stephen\", \" Curry\", \",\", \" Phil\", \" Mick\", \"elson\", \"\\n\", \"Ans\", \":\"], \"values\": [0.02290177345275879, 0.011834144592285156, 0.008159101009368896, 0.005504131317138672, 0.01105034351348877, 0.009515762329101562, 0.011029481887817383, 0.0025571584701538086, 0.013853013515472412, 0.005136542022228241, 0.024693787097930908, 0.01045122742652893, 0.0085945725440979, 0.0026871412992477417, 0.002938702702522278, 0.0051786452531814575, 0.04449772834777832, 0.017790913581848145, 0.01937401294708252, 0.004178822040557861, 0.0036564767360687256, 0.0010383687913417816, 0.004272162914276123, 0.0166853666305542, 0.0028219036757946014, 0.003476276993751526, 0.004518434405326843, 0.0028922967612743378, 0.0026081353425979614, 0.005875721573829651, 0.003977462649345398, 0.004943482577800751, 0.005476713180541992, 0.0033065378665924072, 0.005414336919784546, 0.006257779896259308, 0.011199980974197388, 0.0017118118703365326, 0.00639411062002182, 0.042500853538513184, 0.0489501953125, 0.06348133087158203]}\n",
       "    )\n",
       "    </script>"
      ],
      "text/plain": [
       "<circuitsvis.utils.render.RenderedHTML at 0x7f58dc588ed0>"
      ]
     },
     "metadata": {},
     "output_type": "display_data"
    },
    {
     "name": "stdout",
     "output_type": "stream",
     "text": [
      "--------------------------------------------------------------------------------\n",
      "layer=20\n"
     ]
    },
    {
     "data": {
      "text/html": [
       "<div id=\"circuits-vis-41a1dca2-4ecd\" style=\"margin: 15px 0;\"/>\n",
       "    <script crossorigin type=\"module\">\n",
       "    import { render, ColoredTokens } from \"https://unpkg.com/circuitsvis@1.43.3/dist/cdn/esm.js\";\n",
       "    render(\n",
       "      \"circuits-vis-41a1dca2-4ecd\",\n",
       "      ColoredTokens,\n",
       "      {\"tokens\": [\"Which\", \" person\", \" from\", \" the\", \" following\", \" list\", \" has\", \" the\", \" profession\", \" in\", \" common\", \" with\", \" Ed\", \" She\", \"er\", \"an\", \"?\\n\", \"Options\", \":\", \" G\", \"reta\", \" Ger\", \"wig\", \",\", \" Hillary\", \" Clinton\", \",\", \" Kanye\", \" West\", \",\", \" Nicholas\", \" Sparks\", \",\", \" Stephen\", \" Curry\", \",\", \" Phil\", \" Mick\", \"elson\", \"\\n\", \"Ans\", \":\"], \"values\": [0.022539496421813965, 0.010457351803779602, 0.003142997622489929, 0.004172593355178833, 0.006894543766975403, 0.009124934673309326, 0.005355842411518097, 0.0012194104492664337, 0.01373562216758728, 0.0039244163781404495, 0.020688176155090332, 0.006558313965797424, 0.011431396007537842, 0.003978658467531204, 0.0050630271434783936, 0.008491158485412598, 0.04123157262802124, 0.011627525091171265, 0.007418572902679443, 0.003751451149582863, 0.003699570894241333, 0.0012020748108625412, 0.003465905785560608, 0.013716697692871094, 0.0015554949641227722, 0.004766844213008881, 0.00437406450510025, 0.0021842867136001587, 0.003352198749780655, 0.0058410316705703735, 0.0025274455547332764, 0.003805696964263916, 0.0068633705377578735, 0.0018547996878623962, 0.004141375422477722, 0.005550473928451538, 0.0021806545555591583, 0.0008226577192544937, 0.005369793623685837, 0.04416191577911377, 0.023270905017852783, 0.03073906898498535]}\n",
       "    )\n",
       "    </script>"
      ],
      "text/plain": [
       "<circuitsvis.utils.render.RenderedHTML at 0x7f591c15ac90>"
      ]
     },
     "metadata": {},
     "output_type": "display_data"
    },
    {
     "name": "stdout",
     "output_type": "stream",
     "text": [
      "--------------------------------------------------------------------------------\n",
      "layer=21\n"
     ]
    },
    {
     "data": {
      "text/html": [
       "<div id=\"circuits-vis-57d61bd3-7808\" style=\"margin: 15px 0;\"/>\n",
       "    <script crossorigin type=\"module\">\n",
       "    import { render, ColoredTokens } from \"https://unpkg.com/circuitsvis@1.43.3/dist/cdn/esm.js\";\n",
       "    render(\n",
       "      \"circuits-vis-57d61bd3-7808\",\n",
       "      ColoredTokens,\n",
       "      {\"tokens\": [\"Which\", \" person\", \" from\", \" the\", \" following\", \" list\", \" has\", \" the\", \" profession\", \" in\", \" common\", \" with\", \" Ed\", \" She\", \"er\", \"an\", \"?\\n\", \"Options\", \":\", \" G\", \"reta\", \" Ger\", \"wig\", \",\", \" Hillary\", \" Clinton\", \",\", \" Kanye\", \" West\", \",\", \" Nicholas\", \" Sparks\", \",\", \" Stephen\", \" Curry\", \",\", \" Phil\", \" Mick\", \"elson\", \"\\n\", \"Ans\", \":\"], \"values\": [0.034238576889038086, 0.013147592544555664, 0.0073926448822021484, 0.0063474178314208984, 0.010276585817337036, 0.011076077818870544, 0.02959124743938446, 0.0032922253012657166, 0.028011441230773926, 0.015437420457601547, 0.06533423066139221, 0.02361530065536499, 0.023439228534698486, 0.006061285734176636, 0.004338324069976807, 0.010006815195083618, 0.10368704795837402, 0.015875816345214844, 0.013010174036026001, 0.008957922458648682, 0.004016570746898651, 0.0020642876625061035, 0.002646312117576599, 0.02419722080230713, 0.0012880675494670868, 0.004918891936540604, 0.009043760597705841, 0.0016211383044719696, 0.003832068294286728, 0.009126260876655579, 0.0031755417585372925, 0.003079026937484741, 0.009744971990585327, 0.0026827119290828705, 0.0026344209909439087, 0.00759698823094368, 0.0029333457350730896, 0.0006608925759792328, 0.0050711724907159805, 0.045140981674194336, 0.02990645170211792, 0.04237663745880127]}\n",
       "    )\n",
       "    </script>"
      ],
      "text/plain": [
       "<circuitsvis.utils.render.RenderedHTML at 0x7f58dc3e9210>"
      ]
     },
     "metadata": {},
     "output_type": "display_data"
    },
    {
     "name": "stdout",
     "output_type": "stream",
     "text": [
      "--------------------------------------------------------------------------------\n",
      "layer=22\n"
     ]
    },
    {
     "data": {
      "text/html": [
       "<div id=\"circuits-vis-4a3c73b7-e2ff\" style=\"margin: 15px 0;\"/>\n",
       "    <script crossorigin type=\"module\">\n",
       "    import { render, ColoredTokens } from \"https://unpkg.com/circuitsvis@1.43.3/dist/cdn/esm.js\";\n",
       "    render(\n",
       "      \"circuits-vis-4a3c73b7-e2ff\",\n",
       "      ColoredTokens,\n",
       "      {\"tokens\": [\"Which\", \" person\", \" from\", \" the\", \" following\", \" list\", \" has\", \" the\", \" profession\", \" in\", \" common\", \" with\", \" Ed\", \" She\", \"er\", \"an\", \"?\\n\", \"Options\", \":\", \" G\", \"reta\", \" Ger\", \"wig\", \",\", \" Hillary\", \" Clinton\", \",\", \" Kanye\", \" West\", \",\", \" Nicholas\", \" Sparks\", \",\", \" Stephen\", \" Curry\", \",\", \" Phil\", \" Mick\", \"elson\", \"\\n\", \"Ans\", \":\"], \"values\": [0.0224076509475708, 0.00713038444519043, 0.003595098853111267, 0.004037082195281982, 0.004539623856544495, 0.004184707999229431, 0.007636550813913345, 0.0010881740599870682, 0.021120741963386536, 0.009910831227898598, 0.036637529730796814, 0.012692950665950775, 0.015455946326255798, 0.004269920289516449, 0.0061866044998168945, 0.008982449769973755, 0.042319536209106445, 0.0067482441663742065, 0.005891159176826477, 0.004791995510458946, 0.0017714127898216248, 0.0006967377848923206, 0.002053886651992798, 0.014294657856225967, 0.0006884709000587463, 0.0023749619722366333, 0.003922986797988415, 0.0017583370208740234, 0.002220757305622101, 0.006030343472957611, 0.001284044235944748, 0.002114996314048767, 0.004758015275001526, 0.0008657947182655334, 0.0024973303079605103, 0.004533808678388596, 0.0012351740151643753, 0.0006688367575407028, 0.002911539748311043, 0.030151844024658203, 0.015904173254966736, 0.045693397521972656]}\n",
       "    )\n",
       "    </script>"
      ],
      "text/plain": [
       "<circuitsvis.utils.render.RenderedHTML at 0x7f5965093090>"
      ]
     },
     "metadata": {},
     "output_type": "display_data"
    },
    {
     "name": "stdout",
     "output_type": "stream",
     "text": [
      "--------------------------------------------------------------------------------\n",
      "layer=23\n"
     ]
    },
    {
     "data": {
      "text/html": [
       "<div id=\"circuits-vis-4ab56e92-f23b\" style=\"margin: 15px 0;\"/>\n",
       "    <script crossorigin type=\"module\">\n",
       "    import { render, ColoredTokens } from \"https://unpkg.com/circuitsvis@1.43.3/dist/cdn/esm.js\";\n",
       "    render(\n",
       "      \"circuits-vis-4ab56e92-f23b\",\n",
       "      ColoredTokens,\n",
       "      {\"tokens\": [\"Which\", \" person\", \" from\", \" the\", \" following\", \" list\", \" has\", \" the\", \" profession\", \" in\", \" common\", \" with\", \" Ed\", \" She\", \"er\", \"an\", \"?\\n\", \"Options\", \":\", \" G\", \"reta\", \" Ger\", \"wig\", \",\", \" Hillary\", \" Clinton\", \",\", \" Kanye\", \" West\", \",\", \" Nicholas\", \" Sparks\", \",\", \" Stephen\", \" Curry\", \",\", \" Phil\", \" Mick\", \"elson\", \"\\n\", \"Ans\", \":\"], \"values\": [0.040643930435180664, 0.008433103561401367, 0.005994617938995361, 0.007769554853439331, 0.0062173232436180115, 0.007686451077461243, 0.0130377896130085, 0.0015733540058135986, 0.021944403648376465, 0.012030160054564476, 0.07571405172348022, 0.04719635844230652, 0.030790060758590698, 0.009390555322170258, 0.0072980523109436035, 0.014702081680297852, 0.036947548389434814, 0.00854029506444931, 0.007368810474872589, 0.008425191044807434, 0.002604082226753235, 0.0031724460422992706, 0.002632454037666321, 0.031964391469955444, 0.0014500096440315247, 0.0058829933404922485, 0.011835560202598572, 0.004075601696968079, 0.0145348459482193, 0.023817211389541626, 0.00396275520324707, 0.00371474027633667, 0.02449934184551239, 0.0038103200495243073, 0.005930811166763306, 0.02660888433456421, 0.005767960101366043, 0.0008908137679100037, 0.006803929805755615, 0.04784345626831055, 0.016095906496047974, 0.050750792026519775]}\n",
       "    )\n",
       "    </script>"
      ],
      "text/plain": [
       "<circuitsvis.utils.render.RenderedHTML at 0x7f58dc588ed0>"
      ]
     },
     "metadata": {},
     "output_type": "display_data"
    },
    {
     "name": "stdout",
     "output_type": "stream",
     "text": [
      "--------------------------------------------------------------------------------\n",
      "layer=24\n"
     ]
    },
    {
     "data": {
      "text/html": [
       "<div id=\"circuits-vis-a165ee60-41d6\" style=\"margin: 15px 0;\"/>\n",
       "    <script crossorigin type=\"module\">\n",
       "    import { render, ColoredTokens } from \"https://unpkg.com/circuitsvis@1.43.3/dist/cdn/esm.js\";\n",
       "    render(\n",
       "      \"circuits-vis-a165ee60-41d6\",\n",
       "      ColoredTokens,\n",
       "      {\"tokens\": [\"Which\", \" person\", \" from\", \" the\", \" following\", \" list\", \" has\", \" the\", \" profession\", \" in\", \" common\", \" with\", \" Ed\", \" She\", \"er\", \"an\", \"?\\n\", \"Options\", \":\", \" G\", \"reta\", \" Ger\", \"wig\", \",\", \" Hillary\", \" Clinton\", \",\", \" Kanye\", \" West\", \",\", \" Nicholas\", \" Sparks\", \",\", \" Stephen\", \" Curry\", \",\", \" Phil\", \" Mick\", \"elson\", \"\\n\", \"Ans\", \":\"], \"values\": [0.02830880880355835, 0.004888959228992462, 0.0026558637619018555, 0.0034244805574417114, 0.0043744901195168495, 0.004708869382739067, 0.003224095329642296, 0.000926334410905838, 0.012313716113567352, 0.0020076045766472816, 0.04267524182796478, 0.0066403732635080814, 0.00411998713389039, 0.0027868375182151794, 0.0034525692462921143, 0.006339266896247864, 0.026497021317481995, 0.004104309715330601, 0.003461260348558426, 0.004673392046242952, 0.00251559354364872, 0.0019488492980599403, 0.004225373268127441, 0.011976160109043121, 0.0017654434777796268, 0.005320464260876179, 0.006052888929843903, 0.002646312117576599, 0.005124188959598541, 0.006815478205680847, 0.0018956102430820465, 0.005378108471632004, 0.01000542938709259, 0.0014369264245033264, 0.004722461104393005, 0.008307697251439095, 0.00206611561588943, 0.0018901678267866373, 0.008636489510536194, 0.03194902837276459, 0.018897853791713715, 0.03905342519283295]}\n",
       "    )\n",
       "    </script>"
      ],
      "text/plain": [
       "<circuitsvis.utils.render.RenderedHTML at 0x7f58bc571e10>"
      ]
     },
     "metadata": {},
     "output_type": "display_data"
    },
    {
     "name": "stdout",
     "output_type": "stream",
     "text": [
      "--------------------------------------------------------------------------------\n",
      "layer=25\n"
     ]
    },
    {
     "data": {
      "text/html": [
       "<div id=\"circuits-vis-e89507b2-d556\" style=\"margin: 15px 0;\"/>\n",
       "    <script crossorigin type=\"module\">\n",
       "    import { render, ColoredTokens } from \"https://unpkg.com/circuitsvis@1.43.3/dist/cdn/esm.js\";\n",
       "    render(\n",
       "      \"circuits-vis-e89507b2-d556\",\n",
       "      ColoredTokens,\n",
       "      {\"tokens\": [\"Which\", \" person\", \" from\", \" the\", \" following\", \" list\", \" has\", \" the\", \" profession\", \" in\", \" common\", \" with\", \" Ed\", \" She\", \"er\", \"an\", \"?\\n\", \"Options\", \":\", \" G\", \"reta\", \" Ger\", \"wig\", \",\", \" Hillary\", \" Clinton\", \",\", \" Kanye\", \" West\", \",\", \" Nicholas\", \" Sparks\", \",\", \" Stephen\", \" Curry\", \",\", \" Phil\", \" Mick\", \"elson\", \"\\n\", \"Ans\", \":\"], \"values\": [0.06128406524658203, 0.0041335150599479675, 0.0036980658769607544, 0.004312828183174133, 0.00451529398560524, 0.0030118823051452637, 0.0030398182570934296, 0.0009823078289628029, 0.00961180031299591, 0.0020187522750347853, 0.01855531334877014, 0.011361198499798775, 0.015349872410297394, 0.008351966738700867, 0.0044899582862854, 0.011961448937654495, 0.01710568368434906, 0.004639334976673126, 0.004468746483325958, 0.009031251072883606, 0.003952905535697937, 0.005353008396923542, 0.0034576579928398132, 0.02837415039539337, 0.002348322421312332, 0.01035165786743164, 0.008508322760462761, 0.003198079764842987, 0.011956881731748581, 0.020436689257621765, 0.0037547312676906586, 0.005114629864692688, 0.01601433753967285, 0.003228805959224701, 0.0061356425285339355, 0.014754340052604675, 0.0043581146746873856, 0.0016960948705673218, 0.010165870189666748, 0.03539758920669556, 0.011435825377702713, 0.03671535849571228]}\n",
       "    )\n",
       "    </script>"
      ],
      "text/plain": [
       "<circuitsvis.utils.render.RenderedHTML at 0x7f58bc532550>"
      ]
     },
     "metadata": {},
     "output_type": "display_data"
    },
    {
     "name": "stdout",
     "output_type": "stream",
     "text": [
      "--------------------------------------------------------------------------------\n",
      "layer=26\n"
     ]
    },
    {
     "data": {
      "text/html": [
       "<div id=\"circuits-vis-c73d7d6c-2197\" style=\"margin: 15px 0;\"/>\n",
       "    <script crossorigin type=\"module\">\n",
       "    import { render, ColoredTokens } from \"https://unpkg.com/circuitsvis@1.43.3/dist/cdn/esm.js\";\n",
       "    render(\n",
       "      \"circuits-vis-c73d7d6c-2197\",\n",
       "      ColoredTokens,\n",
       "      {\"tokens\": [\"Which\", \" person\", \" from\", \" the\", \" following\", \" list\", \" has\", \" the\", \" profession\", \" in\", \" common\", \" with\", \" Ed\", \" She\", \"er\", \"an\", \"?\\n\", \"Options\", \":\", \" G\", \"reta\", \" Ger\", \"wig\", \",\", \" Hillary\", \" Clinton\", \",\", \" Kanye\", \" West\", \",\", \" Nicholas\", \" Sparks\", \",\", \" Stephen\", \" Curry\", \",\", \" Phil\", \" Mick\", \"elson\", \"\\n\", \"Ans\", \":\"], \"values\": [0.08271050453186035, 0.010125219821929932, 0.004312872886657715, 0.008092373609542847, 0.005514249205589294, 0.003324568271636963, 0.0021583298221230507, 0.0013052299618721008, 0.024825602769851685, 0.0022662486881017685, 0.03145873546600342, 0.006326951086521149, 0.01436680555343628, 0.010702647268772125, 0.00524449348449707, 0.013133972883224487, 0.02334427833557129, 0.00621388852596283, 0.006315901875495911, 0.01294851303100586, 0.0033743083477020264, 0.008050341159105301, 0.0027705132961273193, 0.01960471272468567, 0.0013905726373195648, 0.006560929119586945, 0.013251274824142456, 0.002685733139514923, 0.011039987206459045, 0.011011198163032532, 0.0024202167987823486, 0.005033209919929504, 0.01582801342010498, 0.0020802468061447144, 0.0050201863050460815, 0.012100771069526672, 0.002938050776720047, 0.0014663413166999817, 0.011465013027191162, 0.0456317663192749, 0.026773422956466675, 0.04420578479766846]}\n",
       "    )\n",
       "    </script>"
      ],
      "text/plain": [
       "<circuitsvis.utils.render.RenderedHTML at 0x7f58bc571e10>"
      ]
     },
     "metadata": {},
     "output_type": "display_data"
    },
    {
     "name": "stdout",
     "output_type": "stream",
     "text": [
      "--------------------------------------------------------------------------------\n",
      "layer=27\n"
     ]
    },
    {
     "data": {
      "text/html": [
       "<div id=\"circuits-vis-68665285-e2af\" style=\"margin: 15px 0;\"/>\n",
       "    <script crossorigin type=\"module\">\n",
       "    import { render, ColoredTokens } from \"https://unpkg.com/circuitsvis@1.43.3/dist/cdn/esm.js\";\n",
       "    render(\n",
       "      \"circuits-vis-68665285-e2af\",\n",
       "      ColoredTokens,\n",
       "      {\"tokens\": [\"Which\", \" person\", \" from\", \" the\", \" following\", \" list\", \" has\", \" the\", \" profession\", \" in\", \" common\", \" with\", \" Ed\", \" She\", \"er\", \"an\", \"?\\n\", \"Options\", \":\", \" G\", \"reta\", \" Ger\", \"wig\", \",\", \" Hillary\", \" Clinton\", \",\", \" Kanye\", \" West\", \",\", \" Nicholas\", \" Sparks\", \",\", \" Stephen\", \" Curry\", \",\", \" Phil\", \" Mick\", \"elson\", \"\\n\", \"Ans\", \":\"], \"values\": [0.05865764617919922, 0.015447914600372314, 0.008989512920379639, 0.009228706359863281, 0.009035930037498474, 0.006268590688705444, 0.00739264115691185, 0.002328641712665558, 0.061269551515579224, 0.006369259208440781, 0.05241936445236206, 0.018627576529979706, 0.019874095916748047, 0.014000385999679565, 0.007651999592781067, 0.027603864669799805, 0.04981255531311035, 0.00954403355717659, 0.009252548217773438, 0.01091456413269043, 0.005855172872543335, 0.008695989847183228, 0.006193310022354126, 0.027243852615356445, 0.003727428615093231, 0.014033541083335876, 0.023035302758216858, 0.005260884761810303, 0.02082577347755432, 0.020710885524749756, 0.004978552460670471, 0.006914019584655762, 0.029474705457687378, 0.0034060850739479065, 0.013974249362945557, 0.0243665874004364, 0.004981711506843567, 0.002499707043170929, 0.015895619988441467, 0.05037212371826172, 0.036226578056812286, 0.10396897792816162]}\n",
       "    )\n",
       "    </script>"
      ],
      "text/plain": [
       "<circuitsvis.utils.render.RenderedHTML at 0x7f58bc52e150>"
      ]
     },
     "metadata": {},
     "output_type": "display_data"
    },
    {
     "name": "stdout",
     "output_type": "stream",
     "text": [
      "--------------------------------------------------------------------------------\n",
      "layer=28\n"
     ]
    },
    {
     "data": {
      "text/html": [
       "<div id=\"circuits-vis-ed1ece40-98ea\" style=\"margin: 15px 0;\"/>\n",
       "    <script crossorigin type=\"module\">\n",
       "    import { render, ColoredTokens } from \"https://unpkg.com/circuitsvis@1.43.3/dist/cdn/esm.js\";\n",
       "    render(\n",
       "      \"circuits-vis-ed1ece40-98ea\",\n",
       "      ColoredTokens,\n",
       "      {\"tokens\": [\"Which\", \" person\", \" from\", \" the\", \" following\", \" list\", \" has\", \" the\", \" profession\", \" in\", \" common\", \" with\", \" Ed\", \" She\", \"er\", \"an\", \"?\\n\", \"Options\", \":\", \" G\", \"reta\", \" Ger\", \"wig\", \",\", \" Hillary\", \" Clinton\", \",\", \" Kanye\", \" West\", \",\", \" Nicholas\", \" Sparks\", \",\", \" Stephen\", \" Curry\", \",\", \" Phil\", \" Mick\", \"elson\", \"\\n\", \"Ans\", \":\"], \"values\": [0.10052919387817383, 0.010985344648361206, 0.00705757737159729, 0.006808757781982422, 0.01213163137435913, 0.006369754672050476, 0.004811719059944153, 0.0032335948199033737, 0.04806205630302429, 0.006118100136518478, 0.0415482223033905, 0.01459762454032898, 0.029303789138793945, 0.016947448253631592, 0.013434253633022308, 0.04878602176904678, 0.03258562088012695, 0.0067571476101875305, 0.005540907382965088, 0.009685024619102478, 0.003942165523767471, 0.009759679436683655, 0.004692578688263893, 0.0332392156124115, 0.0033594435080885887, 0.013578236103057861, 0.020711749792099, 0.0068497005850076675, 0.02437598630785942, 0.021395310759544373, 0.004603255540132523, 0.008531227707862854, 0.029447510838508606, 0.00409669429063797, 0.01555798202753067, 0.02157418429851532, 0.006088316440582275, 0.0031352974474430084, 0.017628923058509827, 0.04893943667411804, 0.027148520573973656, 0.05114936828613281]}\n",
       "    )\n",
       "    </script>"
      ],
      "text/plain": [
       "<circuitsvis.utils.render.RenderedHTML at 0x7f58dc3e8190>"
      ]
     },
     "metadata": {},
     "output_type": "display_data"
    },
    {
     "name": "stdout",
     "output_type": "stream",
     "text": [
      "--------------------------------------------------------------------------------\n",
      "layer=29\n"
     ]
    },
    {
     "data": {
      "text/html": [
       "<div id=\"circuits-vis-143f10b1-8e29\" style=\"margin: 15px 0;\"/>\n",
       "    <script crossorigin type=\"module\">\n",
       "    import { render, ColoredTokens } from \"https://unpkg.com/circuitsvis@1.43.3/dist/cdn/esm.js\";\n",
       "    render(\n",
       "      \"circuits-vis-143f10b1-8e29\",\n",
       "      ColoredTokens,\n",
       "      {\"tokens\": [\"Which\", \" person\", \" from\", \" the\", \" following\", \" list\", \" has\", \" the\", \" profession\", \" in\", \" common\", \" with\", \" Ed\", \" She\", \"er\", \"an\", \"?\\n\", \"Options\", \":\", \" G\", \"reta\", \" Ger\", \"wig\", \",\", \" Hillary\", \" Clinton\", \",\", \" Kanye\", \" West\", \",\", \" Nicholas\", \" Sparks\", \",\", \" Stephen\", \" Curry\", \",\", \" Phil\", \" Mick\", \"elson\", \"\\n\", \"Ans\", \":\"], \"values\": [0.1378040313720703, 0.01439756155014038, 0.0070296525955200195, 0.00834682583808899, 0.008862882852554321, 0.006376996636390686, 0.010260231792926788, 0.002717580646276474, 0.035693228244781494, 0.006055958569049835, 0.052464067935943604, 0.01763991266489029, 0.061070919036865234, 0.016350388526916504, 0.013608038425445557, 0.040465980768203735, 0.04108142852783203, 0.00580991804599762, 0.005827277898788452, 0.010070711374282837, 0.006540194153785706, 0.010167255997657776, 0.005974918603897095, 0.032784491777420044, 0.0042464882135391235, 0.012227460741996765, 0.012644745409488678, 0.006615377962589264, 0.019469566643238068, 0.029414623975753784, 0.006261643022298813, 0.008448824286460876, 0.030799254775047302, 0.004710175096988678, 0.021069854497909546, 0.028617799282073975, 0.0060980916023254395, 0.004232201725244522, 0.017842143774032593, 0.05835437774658203, 0.022619880735874176, 0.05776405334472656]}\n",
       "    )\n",
       "    </script>"
      ],
      "text/plain": [
       "<circuitsvis.utils.render.RenderedHTML at 0x7f596522aed0>"
      ]
     },
     "metadata": {},
     "output_type": "display_data"
    },
    {
     "name": "stdout",
     "output_type": "stream",
     "text": [
      "--------------------------------------------------------------------------------\n",
      "layer=30\n"
     ]
    },
    {
     "data": {
      "text/html": [
       "<div id=\"circuits-vis-83d10eac-236a\" style=\"margin: 15px 0;\"/>\n",
       "    <script crossorigin type=\"module\">\n",
       "    import { render, ColoredTokens } from \"https://unpkg.com/circuitsvis@1.43.3/dist/cdn/esm.js\";\n",
       "    render(\n",
       "      \"circuits-vis-83d10eac-236a\",\n",
       "      ColoredTokens,\n",
       "      {\"tokens\": [\"Which\", \" person\", \" from\", \" the\", \" following\", \" list\", \" has\", \" the\", \" profession\", \" in\", \" common\", \" with\", \" Ed\", \" She\", \"er\", \"an\", \"?\\n\", \"Options\", \":\", \" G\", \"reta\", \" Ger\", \"wig\", \",\", \" Hillary\", \" Clinton\", \",\", \" Kanye\", \" West\", \",\", \" Nicholas\", \" Sparks\", \",\", \" Stephen\", \" Curry\", \",\", \" Phil\", \" Mick\", \"elson\", \"\\n\", \"Ans\", \":\"], \"values\": [0.06928026676177979, 0.012454748153686523, 0.00513988733291626, 0.007126182317733765, 0.008829087018966675, 0.004713773727416992, 0.00519639253616333, 0.0019485056400299072, 0.027347058057785034, 0.004633307456970215, 0.04710876941680908, 0.011036187410354614, 0.02136591076850891, 0.009430646896362305, 0.009157896041870117, 0.03768134117126465, 0.046012163162231445, 0.007946282625198364, 0.008536770939826965, 0.010600317269563675, 0.005323052406311035, 0.0071120113134384155, 0.005623750388622284, 0.016590118408203125, 0.002616018056869507, 0.009633168578147888, 0.012583047151565552, 0.007584657520055771, 0.03658493608236313, 0.011988624930381775, 0.004316605627536774, 0.00790509581565857, 0.026809483766555786, 0.0038352608680725098, 0.016472280025482178, 0.012524276971817017, 0.005246549844741821, 0.0027394061908125877, 0.012285418808460236, 0.07197749614715576, 0.038384951651096344, 0.09915292263031006]}\n",
       "    )\n",
       "    </script>"
      ],
      "text/plain": [
       "<circuitsvis.utils.render.RenderedHTML at 0x7f58bc573f50>"
      ]
     },
     "metadata": {},
     "output_type": "display_data"
    },
    {
     "name": "stdout",
     "output_type": "stream",
     "text": [
      "--------------------------------------------------------------------------------\n",
      "layer=31\n"
     ]
    },
    {
     "data": {
      "text/html": [
       "<div id=\"circuits-vis-694e3cfc-0adb\" style=\"margin: 15px 0;\"/>\n",
       "    <script crossorigin type=\"module\">\n",
       "    import { render, ColoredTokens } from \"https://unpkg.com/circuitsvis@1.43.3/dist/cdn/esm.js\";\n",
       "    render(\n",
       "      \"circuits-vis-694e3cfc-0adb\",\n",
       "      ColoredTokens,\n",
       "      {\"tokens\": [\"Which\", \" person\", \" from\", \" the\", \" following\", \" list\", \" has\", \" the\", \" profession\", \" in\", \" common\", \" with\", \" Ed\", \" She\", \"er\", \"an\", \"?\\n\", \"Options\", \":\", \" G\", \"reta\", \" Ger\", \"wig\", \",\", \" Hillary\", \" Clinton\", \",\", \" Kanye\", \" West\", \",\", \" Nicholas\", \" Sparks\", \",\", \" Stephen\", \" Curry\", \",\", \" Phil\", \" Mick\", \"elson\", \"\\n\", \"Ans\", \":\"], \"values\": [0.0653078556060791, 0.014954328536987305, 0.006679117679595947, 0.0060988664627075195, 0.009042691439390182, 0.00729922391474247, 0.010435533709824085, 0.0035567432641983032, 0.026049047708511353, 0.006598412990570068, 0.04496002197265625, 0.03299736976623535, 0.028845787048339844, 0.01490822434425354, 0.013132482767105103, 0.060450583696365356, 0.028557218611240387, 0.009035732597112656, 0.014702439308166504, 0.014947906136512756, 0.008288202807307243, 0.005981907248497009, 0.00858066976070404, 0.022095561027526855, 0.005070261657238007, 0.015631407499313354, 0.017737746238708496, 0.0194595605134964, 0.06907522678375244, 0.0199396014213562, 0.007877513766288757, 0.013918794691562653, 0.02945542335510254, 0.006669670343399048, 0.051837414503097534, 0.020179033279418945, 0.008045807480812073, 0.0034598316997289658, 0.014851659536361694, 0.051269203424453735, 0.056289736181497574, 0.11377072334289551]}\n",
       "    )\n",
       "    </script>"
      ],
      "text/plain": [
       "<circuitsvis.utils.render.RenderedHTML at 0x7f5965063650>"
      ]
     },
     "metadata": {},
     "output_type": "display_data"
    },
    {
     "name": "stdout",
     "output_type": "stream",
     "text": [
      "--------------------------------------------------------------------------------\n",
      "layer=32\n"
     ]
    },
    {
     "data": {
      "text/html": [
       "<div id=\"circuits-vis-c83d7343-fada\" style=\"margin: 15px 0;\"/>\n",
       "    <script crossorigin type=\"module\">\n",
       "    import { render, ColoredTokens } from \"https://unpkg.com/circuitsvis@1.43.3/dist/cdn/esm.js\";\n",
       "    render(\n",
       "      \"circuits-vis-c83d7343-fada\",\n",
       "      ColoredTokens,\n",
       "      {\"tokens\": [\"Which\", \" person\", \" from\", \" the\", \" following\", \" list\", \" has\", \" the\", \" profession\", \" in\", \" common\", \" with\", \" Ed\", \" She\", \"er\", \"an\", \"?\\n\", \"Options\", \":\", \" G\", \"reta\", \" Ger\", \"wig\", \",\", \" Hillary\", \" Clinton\", \",\", \" Kanye\", \" West\", \",\", \" Nicholas\", \" Sparks\", \",\", \" Stephen\", \" Curry\", \",\", \" Phil\", \" Mick\", \"elson\", \"\\n\", \"Ans\", \":\"], \"values\": [0.10905861854553223, 0.006275057792663574, 0.003711521625518799, 0.00622868537902832, 0.006559871137142181, 0.004100777208805084, 0.003275275230407715, 0.0022934870794415474, 0.010499462485313416, 0.0023591872304677963, 0.014106780290603638, 0.005411364138126373, 0.008827298879623413, 0.008195221424102783, 0.011634737253189087, 0.04685726761817932, 0.022796213626861572, 0.006470188498497009, 0.007555603981018066, 0.008941516280174255, 0.005630195140838623, 0.004009788855910301, 0.016037598252296448, 0.00952593982219696, 0.0038350969552993774, 0.007618799805641174, 0.007014904171228409, 0.011821098625659943, 0.03874631226062775, 0.009515628218650818, 0.002156604081392288, 0.010150372982025146, 0.01355704665184021, 0.0027560628950595856, 0.013100266456604004, 0.008380532264709473, 0.002879522740840912, 0.004682645201683044, 0.010442674160003662, 0.06623852252960205, 0.05837041139602661, 0.12835276126861572]}\n",
       "    )\n",
       "    </script>"
      ],
      "text/plain": [
       "<circuitsvis.utils.render.RenderedHTML at 0x7f58bc573f50>"
      ]
     },
     "metadata": {},
     "output_type": "display_data"
    },
    {
     "name": "stdout",
     "output_type": "stream",
     "text": [
      "--------------------------------------------------------------------------------\n",
      "layer=33\n"
     ]
    },
    {
     "data": {
      "text/html": [
       "<div id=\"circuits-vis-00a9f0b9-4c6f\" style=\"margin: 15px 0;\"/>\n",
       "    <script crossorigin type=\"module\">\n",
       "    import { render, ColoredTokens } from \"https://unpkg.com/circuitsvis@1.43.3/dist/cdn/esm.js\";\n",
       "    render(\n",
       "      \"circuits-vis-00a9f0b9-4c6f\",\n",
       "      ColoredTokens,\n",
       "      {\"tokens\": [\"Which\", \" person\", \" from\", \" the\", \" following\", \" list\", \" has\", \" the\", \" profession\", \" in\", \" common\", \" with\", \" Ed\", \" She\", \"er\", \"an\", \"?\\n\", \"Options\", \":\", \" G\", \"reta\", \" Ger\", \"wig\", \",\", \" Hillary\", \" Clinton\", \",\", \" Kanye\", \" West\", \",\", \" Nicholas\", \" Sparks\", \",\", \" Stephen\", \" Curry\", \",\", \" Phil\", \" Mick\", \"elson\", \"\\n\", \"Ans\", \":\"], \"values\": [0.11182594299316406, 0.018350720405578613, 0.009001672267913818, 0.012172579765319824, 0.009869366884231567, 0.007539987564086914, 0.012213736772537231, 0.0026953890919685364, 0.023265302181243896, 0.004906997084617615, 0.030939757823944092, 0.018779128789901733, 0.0248185396194458, 0.01541796326637268, 0.020298361778259277, 0.0926980972290039, 0.04808449745178223, 0.011811047792434692, 0.021844327449798584, 0.013920903205871582, 0.02137055993080139, 0.009987413883209229, 0.028461754322052002, 0.03067755699157715, 0.00953759253025055, 0.01976679265499115, 0.009899049997329712, 0.03020671010017395, 0.08212119340896606, 0.037869811058044434, 0.006860136985778809, 0.019785910844802856, 0.028336822986602783, 0.0061257630586624146, 0.033742666244506836, 0.01767176389694214, 0.007878050208091736, 0.009155571460723877, 0.02294015884399414, 0.06524074077606201, 0.04699453338980675, 0.12337541580200195]}\n",
       "    )\n",
       "    </script>"
      ],
      "text/plain": [
       "<circuitsvis.utils.render.RenderedHTML at 0x7f5965386150>"
      ]
     },
     "metadata": {},
     "output_type": "display_data"
    },
    {
     "name": "stdout",
     "output_type": "stream",
     "text": [
      "--------------------------------------------------------------------------------\n",
      "layer=34\n"
     ]
    },
    {
     "data": {
      "text/html": [
       "<div id=\"circuits-vis-a2381ddb-792c\" style=\"margin: 15px 0;\"/>\n",
       "    <script crossorigin type=\"module\">\n",
       "    import { render, ColoredTokens } from \"https://unpkg.com/circuitsvis@1.43.3/dist/cdn/esm.js\";\n",
       "    render(\n",
       "      \"circuits-vis-a2381ddb-792c\",\n",
       "      ColoredTokens,\n",
       "      {\"tokens\": [\"Which\", \" person\", \" from\", \" the\", \" following\", \" list\", \" has\", \" the\", \" profession\", \" in\", \" common\", \" with\", \" Ed\", \" She\", \"er\", \"an\", \"?\\n\", \"Options\", \":\", \" G\", \"reta\", \" Ger\", \"wig\", \",\", \" Hillary\", \" Clinton\", \",\", \" Kanye\", \" West\", \",\", \" Nicholas\", \" Sparks\", \",\", \" Stephen\", \" Curry\", \",\", \" Phil\", \" Mick\", \"elson\", \"\\n\", \"Ans\", \":\"], \"values\": [0.12830901145935059, 0.013900429010391235, 0.004881143569946289, 0.0047716498374938965, 0.007562577724456787, 0.005702883005142212, 0.006538569927215576, 0.0018368437886238098, 0.02193814516067505, 0.005512833595275879, 0.024012625217437744, 0.012577652931213379, 0.018415391445159912, 0.00893256813287735, 0.014561653137207031, 0.04830634593963623, 0.03555405139923096, 0.011260241270065308, 0.020950794219970703, 0.011745840311050415, 0.00585003849118948, 0.0032011279836297035, 0.0145111083984375, 0.01833820343017578, 0.005976123735308647, 0.010369069874286652, 0.010891854763031006, 0.02375231683254242, 0.10030931234359741, 0.04412037134170532, 0.005912549793720245, 0.012581944465637207, 0.030729219317436218, 0.005779549479484558, 0.018260300159454346, 0.022051513195037842, 0.005272805690765381, 0.005037989467382431, 0.01584695279598236, 0.07936906814575195, 0.08096066117286682, 0.16866493225097656]}\n",
       "    )\n",
       "    </script>"
      ],
      "text/plain": [
       "<circuitsvis.utils.render.RenderedHTML at 0x7f596522aed0>"
      ]
     },
     "metadata": {},
     "output_type": "display_data"
    },
    {
     "name": "stdout",
     "output_type": "stream",
     "text": [
      "--------------------------------------------------------------------------------\n",
      "layer=35\n"
     ]
    },
    {
     "data": {
      "text/html": [
       "<div id=\"circuits-vis-d98389a5-c187\" style=\"margin: 15px 0;\"/>\n",
       "    <script crossorigin type=\"module\">\n",
       "    import { render, ColoredTokens } from \"https://unpkg.com/circuitsvis@1.43.3/dist/cdn/esm.js\";\n",
       "    render(\n",
       "      \"circuits-vis-d98389a5-c187\",\n",
       "      ColoredTokens,\n",
       "      {\"tokens\": [\"Which\", \" person\", \" from\", \" the\", \" following\", \" list\", \" has\", \" the\", \" profession\", \" in\", \" common\", \" with\", \" Ed\", \" She\", \"er\", \"an\", \"?\\n\", \"Options\", \":\", \" G\", \"reta\", \" Ger\", \"wig\", \",\", \" Hillary\", \" Clinton\", \",\", \" Kanye\", \" West\", \",\", \" Nicholas\", \" Sparks\", \",\", \" Stephen\", \" Curry\", \",\", \" Phil\", \" Mick\", \"elson\", \"\\n\", \"Ans\", \":\"], \"values\": [0.04451608657836914, 0.014918506145477295, 0.009756684303283691, 0.005914568901062012, 0.008948512375354767, 0.010329663753509521, 0.014821752905845642, 0.0023138821125030518, 0.033214449882507324, 0.00449024885892868, 0.03153189271688461, 0.013677462935447693, 0.01653897762298584, 0.015055567026138306, 0.018010973930358887, 0.0649954080581665, 0.03365941345691681, 0.014790628105401993, 0.018004536628723145, 0.010566741228103638, 0.004263490438461304, 0.0017397254705429077, 0.009843707084655762, 0.03673034906387329, 0.004986956715583801, 0.011339366436004639, 0.02096562087535858, 0.04664626717567444, 0.10577711462974548, 0.08662444353103638, 0.008205205202102661, 0.015064537525177002, 0.06431040167808533, 0.0051161497831344604, 0.019050955772399902, 0.035035938024520874, 0.003443606197834015, 0.0036503225564956665, 0.012973040342330933, 0.052605509757995605, 0.029747869819402695, 0.07689571380615234]}\n",
       "    )\n",
       "    </script>"
      ],
      "text/plain": [
       "<circuitsvis.utils.render.RenderedHTML at 0x7f5965063650>"
      ]
     },
     "metadata": {},
     "output_type": "display_data"
    },
    {
     "name": "stdout",
     "output_type": "stream",
     "text": [
      "--------------------------------------------------------------------------------\n",
      "layer=36\n"
     ]
    },
    {
     "data": {
      "text/html": [
       "<div id=\"circuits-vis-35105f98-e006\" style=\"margin: 15px 0;\"/>\n",
       "    <script crossorigin type=\"module\">\n",
       "    import { render, ColoredTokens } from \"https://unpkg.com/circuitsvis@1.43.3/dist/cdn/esm.js\";\n",
       "    render(\n",
       "      \"circuits-vis-35105f98-e006\",\n",
       "      ColoredTokens,\n",
       "      {\"tokens\": [\"Which\", \" person\", \" from\", \" the\", \" following\", \" list\", \" has\", \" the\", \" profession\", \" in\", \" common\", \" with\", \" Ed\", \" She\", \"er\", \"an\", \"?\\n\", \"Options\", \":\", \" G\", \"reta\", \" Ger\", \"wig\", \",\", \" Hillary\", \" Clinton\", \",\", \" Kanye\", \" West\", \",\", \" Nicholas\", \" Sparks\", \",\", \" Stephen\", \" Curry\", \",\", \" Phil\", \" Mick\", \"elson\", \"\\n\", \"Ans\", \":\"], \"values\": [0.027759194374084473, 0.006927460432052612, 0.00314214825630188, 0.0032175779342651367, 0.00658869743347168, 0.006125360727310181, 0.0016791149973869324, 0.001071808859705925, 0.011411070823669434, 0.0019698739051818848, 0.009939491748809814, 0.00396960973739624, 0.0034411773085594177, 0.005539387464523315, 0.01614236831665039, 0.022388219833374023, 0.012100815773010254, 0.0071264952421188354, 0.005965307354927063, 0.0046640560030937195, 0.001733921468257904, 0.0013276562094688416, 0.007115274667739868, 0.00807124376296997, 0.0028967782855033875, 0.006315290927886963, 0.004443071782588959, 0.015514463186264038, 0.025249361991882324, 0.014532029628753662, 0.002574589103460312, 0.00892968475818634, 0.008974947035312653, 0.0024267733097076416, 0.007429227232933044, 0.007236450910568237, 0.0017330273985862732, 0.003941670060157776, 0.0066474080085754395, 0.033884137868881226, 0.04047708213329315, 0.07519280910491943]}\n",
       "    )\n",
       "    </script>"
      ],
      "text/plain": [
       "<circuitsvis.utils.render.RenderedHTML at 0x7f58bc3ea9d0>"
      ]
     },
     "metadata": {},
     "output_type": "display_data"
    },
    {
     "name": "stdout",
     "output_type": "stream",
     "text": [
      "--------------------------------------------------------------------------------\n",
      "layer=37\n"
     ]
    },
    {
     "data": {
      "text/html": [
       "<div id=\"circuits-vis-aff01c54-25ad\" style=\"margin: 15px 0;\"/>\n",
       "    <script crossorigin type=\"module\">\n",
       "    import { render, ColoredTokens } from \"https://unpkg.com/circuitsvis@1.43.3/dist/cdn/esm.js\";\n",
       "    render(\n",
       "      \"circuits-vis-aff01c54-25ad\",\n",
       "      ColoredTokens,\n",
       "      {\"tokens\": [\"Which\", \" person\", \" from\", \" the\", \" following\", \" list\", \" has\", \" the\", \" profession\", \" in\", \" common\", \" with\", \" Ed\", \" She\", \"er\", \"an\", \"?\\n\", \"Options\", \":\", \" G\", \"reta\", \" Ger\", \"wig\", \",\", \" Hillary\", \" Clinton\", \",\", \" Kanye\", \" West\", \",\", \" Nicholas\", \" Sparks\", \",\", \" Stephen\", \" Curry\", \",\", \" Phil\", \" Mick\", \"elson\", \"\\n\", \"Ans\", \":\"], \"values\": [0.050853729248046875, 0.011722326278686523, 0.005461931228637695, 0.005520135164260864, 0.013177096843719482, 0.0111922025680542, 0.009815692901611328, 0.0016159862279891968, 0.018756181001663208, 0.002698466181755066, 0.02408421039581299, 0.008676350116729736, 0.005713373422622681, 0.009952113032341003, 0.034739792346954346, 0.05166471004486084, 0.021235227584838867, 0.010666489601135254, 0.007307946681976318, 0.004372194409370422, 0.003352135419845581, 0.0014074593782424927, 0.011399060487747192, 0.008827567100524902, 0.0045325905084609985, 0.010094612836837769, 0.005054749548435211, 0.024736657738685608, 0.04030957818031311, 0.01844748854637146, 0.0031328946352005005, 0.01636090874671936, 0.010478809475898743, 0.002221830189228058, 0.011769026517868042, 0.006172806024551392, 0.001495078206062317, 0.00496181845664978, 0.00611230731010437, 0.038242340087890625, 0.06078122556209564, 0.08984971046447754]}\n",
       "    )\n",
       "    </script>"
      ],
      "text/plain": [
       "<circuitsvis.utils.render.RenderedHTML at 0x7f58dc3e0190>"
      ]
     },
     "metadata": {},
     "output_type": "display_data"
    },
    {
     "name": "stdout",
     "output_type": "stream",
     "text": [
      "--------------------------------------------------------------------------------\n",
      "layer=38\n"
     ]
    },
    {
     "data": {
      "text/html": [
       "<div id=\"circuits-vis-d6a658c2-96da\" style=\"margin: 15px 0;\"/>\n",
       "    <script crossorigin type=\"module\">\n",
       "    import { render, ColoredTokens } from \"https://unpkg.com/circuitsvis@1.43.3/dist/cdn/esm.js\";\n",
       "    render(\n",
       "      \"circuits-vis-d6a658c2-96da\",\n",
       "      ColoredTokens,\n",
       "      {\"tokens\": [\"Which\", \" person\", \" from\", \" the\", \" following\", \" list\", \" has\", \" the\", \" profession\", \" in\", \" common\", \" with\", \" Ed\", \" She\", \"er\", \"an\", \"?\\n\", \"Options\", \":\", \" G\", \"reta\", \" Ger\", \"wig\", \",\", \" Hillary\", \" Clinton\", \",\", \" Kanye\", \" West\", \",\", \" Nicholas\", \" Sparks\", \",\", \" Stephen\", \" Curry\", \",\", \" Phil\", \" Mick\", \"elson\", \"\\n\", \"Ans\", \":\"], \"values\": [0.046144843101501465, 0.01464185118675232, 0.006608873605728149, 0.006468743085861206, 0.008889496326446533, 0.006169319152832031, 0.008173562586307526, 0.0019808076322078705, 0.0188329815864563, 0.003006547689437866, 0.01654154062271118, 0.013261497020721436, 0.00672033429145813, 0.007048606872558594, 0.01712268590927124, 0.03790244460105896, 0.03294205665588379, 0.01112973690032959, 0.014017388224601746, 0.003199167549610138, 0.002484843134880066, 0.001169450581073761, 0.006342470645904541, 0.00780157744884491, 0.0021073445677757263, 0.005764886736869812, 0.004011750221252441, 0.012875385582447052, 0.020686611533164978, 0.0067229121923446655, 0.0024314597249031067, 0.007172867655754089, 0.0063279420137405396, 0.001690588891506195, 0.0049306899309158325, 0.004478007555007935, 0.0011837631464004517, 0.0028219781816005707, 0.004942700266838074, 0.03711891174316406, 0.072165846824646, 0.11808502674102783]}\n",
       "    )\n",
       "    </script>"
      ],
      "text/plain": [
       "<circuitsvis.utils.render.RenderedHTML at 0x7f58bc52ec90>"
      ]
     },
     "metadata": {},
     "output_type": "display_data"
    },
    {
     "name": "stdout",
     "output_type": "stream",
     "text": [
      "--------------------------------------------------------------------------------\n",
      "layer=39\n"
     ]
    },
    {
     "data": {
      "text/html": [
       "<div id=\"circuits-vis-bec91f5c-81d8\" style=\"margin: 15px 0;\"/>\n",
       "    <script crossorigin type=\"module\">\n",
       "    import { render, ColoredTokens } from \"https://unpkg.com/circuitsvis@1.43.3/dist/cdn/esm.js\";\n",
       "    render(\n",
       "      \"circuits-vis-bec91f5c-81d8\",\n",
       "      ColoredTokens,\n",
       "      {\"tokens\": [\"Which\", \" person\", \" from\", \" the\", \" following\", \" list\", \" has\", \" the\", \" profession\", \" in\", \" common\", \" with\", \" Ed\", \" She\", \"er\", \"an\", \"?\\n\", \"Options\", \":\", \" G\", \"reta\", \" Ger\", \"wig\", \",\", \" Hillary\", \" Clinton\", \",\", \" Kanye\", \" West\", \",\", \" Nicholas\", \" Sparks\", \",\", \" Stephen\", \" Curry\", \",\", \" Phil\", \" Mick\", \"elson\", \"\\n\", \"Ans\", \":\"], \"values\": [0.023919343948364258, 0.01482488214969635, 0.004773728549480438, 0.0038731247186660767, 0.007923811674118042, 0.009219631552696228, 0.0057153962552547455, 0.0012150276452302933, 0.02597355842590332, 0.00292789563536644, 0.0174119770526886, 0.006282757967710495, 0.010670473799109459, 0.00900840014219284, 0.016528338193893433, 0.03313824534416199, 0.014533162117004395, 0.013473659753799438, 0.004866510629653931, 0.0030378438532352448, 0.004180334508419037, 0.0008219773881137371, 0.007207408547401428, 0.01076410710811615, 0.004827193915843964, 0.008559554815292358, 0.004074143245816231, 0.03781583905220032, 0.05250273644924164, 0.019193187355995178, 0.006228901445865631, 0.01267901062965393, 0.01751101016998291, 0.003333684056997299, 0.007268369197845459, 0.009336709976196289, 0.002694103866815567, 0.002918131649494171, 0.004856422543525696, 0.030071258544921875, 0.050819218158721924, 0.034526675939559937]}\n",
       "    )\n",
       "    </script>"
      ],
      "text/plain": [
       "<circuitsvis.utils.render.RenderedHTML at 0x7f58dc3e3fd0>"
      ]
     },
     "metadata": {},
     "output_type": "display_data"
    },
    {
     "name": "stdout",
     "output_type": "stream",
     "text": [
      "--------------------------------------------------------------------------------\n",
      "layer=40\n"
     ]
    },
    {
     "data": {
      "text/html": [
       "<div id=\"circuits-vis-0e00616a-2e48\" style=\"margin: 15px 0;\"/>\n",
       "    <script crossorigin type=\"module\">\n",
       "    import { render, ColoredTokens } from \"https://unpkg.com/circuitsvis@1.43.3/dist/cdn/esm.js\";\n",
       "    render(\n",
       "      \"circuits-vis-0e00616a-2e48\",\n",
       "      ColoredTokens,\n",
       "      {\"tokens\": [\"Which\", \" person\", \" from\", \" the\", \" following\", \" list\", \" has\", \" the\", \" profession\", \" in\", \" common\", \" with\", \" Ed\", \" She\", \"er\", \"an\", \"?\\n\", \"Options\", \":\", \" G\", \"reta\", \" Ger\", \"wig\", \",\", \" Hillary\", \" Clinton\", \",\", \" Kanye\", \" West\", \",\", \" Nicholas\", \" Sparks\", \",\", \" Stephen\", \" Curry\", \",\", \" Phil\", \" Mick\", \"elson\", \"\\n\", \"Ans\", \":\"], \"values\": [0.02162027359008789, 0.007775306701660156, 0.0029849857091903687, 0.0025291144847869873, 0.003148898482322693, 0.0023545417934656143, 0.0027530118823051453, 0.0005356110632419586, 0.004444904625415802, 0.0009568165987730026, 0.004598528146743774, 0.0017461329698562622, 0.0032883360981941223, 0.0027646422386169434, 0.005684465169906616, 0.006773620843887329, 0.013348937034606934, 0.006968900561332703, 0.008852832019329071, 0.0020525455474853516, 0.0019538402557373047, 0.0008460506796836853, 0.004944056272506714, 0.003424670547246933, 0.0015526600182056427, 0.0032456815242767334, 0.0008798390626907349, 0.0023869872093200684, 0.002431638538837433, 0.001458778977394104, 0.0019478648900985718, 0.005481436848640442, 0.0015318691730499268, 0.0010859891772270203, 0.0036352723836898804, 0.0017281845211982727, 0.0013087019324302673, 0.003605961799621582, 0.0032976120710372925, 0.019195139408111572, 0.03625601530075073, 0.03534895181655884]}\n",
       "    )\n",
       "    </script>"
      ],
      "text/plain": [
       "<circuitsvis.utils.render.RenderedHTML at 0x7f58bc3fec90>"
      ]
     },
     "metadata": {},
     "output_type": "display_data"
    },
    {
     "name": "stdout",
     "output_type": "stream",
     "text": [
      "--------------------------------------------------------------------------------\n",
      "layer=41\n"
     ]
    },
    {
     "data": {
      "text/html": [
       "<div id=\"circuits-vis-8a42cd4c-face\" style=\"margin: 15px 0;\"/>\n",
       "    <script crossorigin type=\"module\">\n",
       "    import { render, ColoredTokens } from \"https://unpkg.com/circuitsvis@1.43.3/dist/cdn/esm.js\";\n",
       "    render(\n",
       "      \"circuits-vis-8a42cd4c-face\",\n",
       "      ColoredTokens,\n",
       "      {\"tokens\": [\"Which\", \" person\", \" from\", \" the\", \" following\", \" list\", \" has\", \" the\", \" profession\", \" in\", \" common\", \" with\", \" Ed\", \" She\", \"er\", \"an\", \"?\\n\", \"Options\", \":\", \" G\", \"reta\", \" Ger\", \"wig\", \",\", \" Hillary\", \" Clinton\", \",\", \" Kanye\", \" West\", \",\", \" Nicholas\", \" Sparks\", \",\", \" Stephen\", \" Curry\", \",\", \" Phil\", \" Mick\", \"elson\", \"\\n\", \"Ans\", \":\"], \"values\": [0.012264609336853027, 0.014243245124816895, 0.006890416145324707, 0.0035573840141296387, 0.009164690971374512, 0.006977468729019165, 0.0038517341017723083, 0.0010674074292182922, 0.03280380368232727, 0.001679636538028717, 0.017474383115768433, 0.006202414631843567, 0.003527030348777771, 0.010164231061935425, 0.028867125511169434, 0.02068394422531128, 0.011069893836975098, 0.009862661361694336, 0.004173547029495239, 0.0022039487957954407, 0.0042371973395347595, 0.0009850859642028809, 0.009684592485427856, 0.002686932682991028, 0.004864782094955444, 0.007430464029312134, 0.001101035624742508, 0.01700998842716217, 0.011984184384346008, 0.002021007239818573, 0.003529980778694153, 0.014388799667358398, 0.00278472900390625, 0.001980140805244446, 0.00804215669631958, 0.0020437464118003845, 0.0017955824732780457, 0.007680855691432953, 0.004175916314125061, 0.021779537200927734, 0.029259562492370605, 0.03483378887176514]}\n",
       "    )\n",
       "    </script>"
      ],
      "text/plain": [
       "<circuitsvis.utils.render.RenderedHTML at 0x7f58dc58a110>"
      ]
     },
     "metadata": {},
     "output_type": "display_data"
    },
    {
     "name": "stdout",
     "output_type": "stream",
     "text": [
      "--------------------------------------------------------------------------------\n",
      "layer=42\n"
     ]
    },
    {
     "data": {
      "text/html": [
       "<div id=\"circuits-vis-de0d4e99-5f4a\" style=\"margin: 15px 0;\"/>\n",
       "    <script crossorigin type=\"module\">\n",
       "    import { render, ColoredTokens } from \"https://unpkg.com/circuitsvis@1.43.3/dist/cdn/esm.js\";\n",
       "    render(\n",
       "      \"circuits-vis-de0d4e99-5f4a\",\n",
       "      ColoredTokens,\n",
       "      {\"tokens\": [\"Which\", \" person\", \" from\", \" the\", \" following\", \" list\", \" has\", \" the\", \" profession\", \" in\", \" common\", \" with\", \" Ed\", \" She\", \"er\", \"an\", \"?\\n\", \"Options\", \":\", \" G\", \"reta\", \" Ger\", \"wig\", \",\", \" Hillary\", \" Clinton\", \",\", \" Kanye\", \" West\", \",\", \" Nicholas\", \" Sparks\", \",\", \" Stephen\", \" Curry\", \",\", \" Phil\", \" Mick\", \"elson\", \"\\n\", \"Ans\", \":\"], \"values\": [0.012017786502838135, 0.0026207268238067627, 0.001479707658290863, 0.0021243244409561157, 0.0027326345443725586, 0.0016667023301124573, 0.0009396225214004517, 0.0004235468804836273, 0.0036260411143302917, 0.000636707991361618, 0.010667413473129272, 0.0013768374919891357, 0.005285471677780151, 0.006892979145050049, 0.022370189428329468, 0.01015549898147583, 0.007082343101501465, 0.004054799675941467, 0.0015740245580673218, 0.0022610165178775787, 0.003337964415550232, 0.0011044405400753021, 0.006977468729019165, 0.001365508884191513, 0.0037153884768486023, 0.004412412643432617, 0.0007381178438663483, 0.01964418590068817, 0.010090887546539307, 0.0014693066477775574, 0.0048708319664001465, 0.010556161403656006, 0.0021893084049224854, 0.002549458295106888, 0.008127987384796143, 0.001524806022644043, 0.0024721845984458923, 0.006784200668334961, 0.003618970513343811, 0.015927255153656006, 0.03266483545303345, 0.017108261585235596]}\n",
       "    )\n",
       "    </script>"
      ],
      "text/plain": [
       "<circuitsvis.utils.render.RenderedHTML at 0x7f58dc3ea8d0>"
      ]
     },
     "metadata": {},
     "output_type": "display_data"
    },
    {
     "name": "stdout",
     "output_type": "stream",
     "text": [
      "--------------------------------------------------------------------------------\n",
      "layer=43\n"
     ]
    },
    {
     "data": {
      "text/html": [
       "<div id=\"circuits-vis-1394f2db-5e99\" style=\"margin: 15px 0;\"/>\n",
       "    <script crossorigin type=\"module\">\n",
       "    import { render, ColoredTokens } from \"https://unpkg.com/circuitsvis@1.43.3/dist/cdn/esm.js\";\n",
       "    render(\n",
       "      \"circuits-vis-1394f2db-5e99\",\n",
       "      ColoredTokens,\n",
       "      {\"tokens\": [\"Which\", \" person\", \" from\", \" the\", \" following\", \" list\", \" has\", \" the\", \" profession\", \" in\", \" common\", \" with\", \" Ed\", \" She\", \"er\", \"an\", \"?\\n\", \"Options\", \":\", \" G\", \"reta\", \" Ger\", \"wig\", \",\", \" Hillary\", \" Clinton\", \",\", \" Kanye\", \" West\", \",\", \" Nicholas\", \" Sparks\", \",\", \" Stephen\", \" Curry\", \",\", \" Phil\", \" Mick\", \"elson\", \"\\n\", \"Ans\", \":\"], \"values\": [0.010880290530622005, 0.0032969899475574493, 0.0016480013728141785, 0.0019644498825073242, 0.002095763571560383, 0.0014694423880428076, 0.0007152342004701495, 0.00032763625495135784, 0.008537545800209045, 0.0006412938237190247, 0.0042583271861076355, 0.0010588642908260226, 0.002291490789502859, 0.005766705609858036, 0.012996435165405273, 0.011432625353336334, 0.004254177212715149, 0.0029905783012509346, 0.0016576005145907402, 0.0008724601357243955, 0.0033935196697711945, 0.001058824360370636, 0.006251953542232513, 0.0017235837876796722, 0.0035444609820842743, 0.005371253937482834, 0.0006847996264696121, 0.009226329624652863, 0.006216205656528473, 0.0009478861466050148, 0.002354451222345233, 0.010620040819048882, 0.0014009689912199974, 0.0014704056084156036, 0.007173120975494385, 0.00132029689848423, 0.0016890286933630705, 0.00610437523573637, 0.003751523792743683, 0.015643447637557983, 0.04975205659866333, 0.02474045753479004]}\n",
       "    )\n",
       "    </script>"
      ],
      "text/plain": [
       "<circuitsvis.utils.render.RenderedHTML at 0x7f58bc52e050>"
      ]
     },
     "metadata": {},
     "output_type": "display_data"
    },
    {
     "name": "stdout",
     "output_type": "stream",
     "text": [
      "--------------------------------------------------------------------------------\n",
      "layer=44\n"
     ]
    },
    {
     "data": {
      "text/html": [
       "<div id=\"circuits-vis-4493f327-47d5\" style=\"margin: 15px 0;\"/>\n",
       "    <script crossorigin type=\"module\">\n",
       "    import { render, ColoredTokens } from \"https://unpkg.com/circuitsvis@1.43.3/dist/cdn/esm.js\";\n",
       "    render(\n",
       "      \"circuits-vis-4493f327-47d5\",\n",
       "      ColoredTokens,\n",
       "      {\"tokens\": [\"Which\", \" person\", \" from\", \" the\", \" following\", \" list\", \" has\", \" the\", \" profession\", \" in\", \" common\", \" with\", \" Ed\", \" She\", \"er\", \"an\", \"?\\n\", \"Options\", \":\", \" G\", \"reta\", \" Ger\", \"wig\", \",\", \" Hillary\", \" Clinton\", \",\", \" Kanye\", \" West\", \",\", \" Nicholas\", \" Sparks\", \",\", \" Stephen\", \" Curry\", \",\", \" Phil\", \" Mick\", \"elson\", \"\\n\", \"Ans\", \":\"], \"values\": [0.022727668285369873, 0.018020644783973694, 0.011843770742416382, 0.006976485252380371, 0.01713988184928894, 0.008264262229204178, 0.006203535944223404, 0.0013886410742998123, 0.012308582663536072, 0.0018463805317878723, 0.011151522397994995, 0.009294912219047546, 0.006024770438671112, 0.006640002131462097, 0.006976068019866943, 0.01639053225517273, 0.017290472984313965, 0.03231815993785858, 0.010947704315185547, 0.0029469281435012817, 0.004753187298774719, 0.001538233831524849, 0.0067714303731918335, 0.007608257234096527, 0.004467189311981201, 0.007092006504535675, 0.001897331327199936, 0.008074142038822174, 0.012032397091388702, 0.0038939639925956726, 0.005584448575973511, 0.008014723658561707, 0.003167584538459778, 0.0034305229783058167, 0.005646988749504089, 0.002982553094625473, 0.0027885958552360535, 0.0033561214804649353, 0.004692092537879944, 0.019381284713745117, 0.039443373680114746, 0.03343075513839722]}\n",
       "    )\n",
       "    </script>"
      ],
      "text/plain": [
       "<circuitsvis.utils.render.RenderedHTML at 0x7f58fc541fd0>"
      ]
     },
     "metadata": {},
     "output_type": "display_data"
    },
    {
     "name": "stdout",
     "output_type": "stream",
     "text": [
      "--------------------------------------------------------------------------------\n",
      "layer=45\n"
     ]
    },
    {
     "data": {
      "text/html": [
       "<div id=\"circuits-vis-31b0e19f-e0da\" style=\"margin: 15px 0;\"/>\n",
       "    <script crossorigin type=\"module\">\n",
       "    import { render, ColoredTokens } from \"https://unpkg.com/circuitsvis@1.43.3/dist/cdn/esm.js\";\n",
       "    render(\n",
       "      \"circuits-vis-31b0e19f-e0da\",\n",
       "      ColoredTokens,\n",
       "      {\"tokens\": [\"Which\", \" person\", \" from\", \" the\", \" following\", \" list\", \" has\", \" the\", \" profession\", \" in\", \" common\", \" with\", \" Ed\", \" She\", \"er\", \"an\", \"?\\n\", \"Options\", \":\", \" G\", \"reta\", \" Ger\", \"wig\", \",\", \" Hillary\", \" Clinton\", \",\", \" Kanye\", \" West\", \",\", \" Nicholas\", \" Sparks\", \",\", \" Stephen\", \" Curry\", \",\", \" Phil\", \" Mick\", \"elson\", \"\\n\", \"Ans\", \":\"], \"values\": [0.005616925656795502, 0.0017216578125953674, 0.0011313259601593018, 0.0018295571208000183, 0.0018974468111991882, 0.001254931092262268, 0.0006471695378422737, 0.0002355482429265976, 0.0018756315112113953, 0.00046287477016448975, 0.0026316121220588684, 0.0009222030639648438, 0.0013813339173793793, 0.003252476453781128, 0.011426500976085663, 0.00654388964176178, 0.00786919891834259, 0.0036540180444717407, 0.0031763091683387756, 0.0006576851010322571, 0.0016542896628379822, 0.0006413236260414124, 0.003045186400413513, 0.0015047863125801086, 0.001445528119802475, 0.0019654855132102966, 0.0008685998618602753, 0.011282205581665039, 0.004455208778381348, 0.0012209080159664154, 0.0012733116745948792, 0.004267152398824692, 0.0010220669209957123, 0.0009330436587333679, 0.009227238595485687, 0.001317530870437622, 0.0011390596628189087, 0.01842934638261795, 0.0043478310108184814, 0.021412253379821777, 0.060288429260253906, 0.05803611874580383]}\n",
       "    )\n",
       "    </script>"
      ],
      "text/plain": [
       "<circuitsvis.utils.render.RenderedHTML at 0x7f58dc58fe90>"
      ]
     },
     "metadata": {},
     "output_type": "display_data"
    },
    {
     "name": "stdout",
     "output_type": "stream",
     "text": [
      "--------------------------------------------------------------------------------\n",
      "layer=46\n"
     ]
    },
    {
     "data": {
      "text/html": [
       "<div id=\"circuits-vis-cdd7263c-eac2\" style=\"margin: 15px 0;\"/>\n",
       "    <script crossorigin type=\"module\">\n",
       "    import { render, ColoredTokens } from \"https://unpkg.com/circuitsvis@1.43.3/dist/cdn/esm.js\";\n",
       "    render(\n",
       "      \"circuits-vis-cdd7263c-eac2\",\n",
       "      ColoredTokens,\n",
       "      {\"tokens\": [\"Which\", \" person\", \" from\", \" the\", \" following\", \" list\", \" has\", \" the\", \" profession\", \" in\", \" common\", \" with\", \" Ed\", \" She\", \"er\", \"an\", \"?\\n\", \"Options\", \":\", \" G\", \"reta\", \" Ger\", \"wig\", \",\", \" Hillary\", \" Clinton\", \",\", \" Kanye\", \" West\", \",\", \" Nicholas\", \" Sparks\", \",\", \" Stephen\", \" Curry\", \",\", \" Phil\", \" Mick\", \"elson\", \"\\n\", \"Ans\", \":\"], \"values\": [0.004524990916252136, 0.0004722103476524353, 0.00044257938861846924, 0.000715896487236023, 0.0005542486906051636, 0.00029548630118370056, 0.00023650377988815308, 9.360117837786674e-05, 0.0006044134497642517, 0.0001610303297638893, 0.0010280013084411621, 0.00038111209869384766, 0.0013073273003101349, 0.002082735300064087, 0.00444292277097702, 0.0023433640599250793, 0.0031480342149734497, 0.001432172954082489, 0.0009736903011798859, 0.0005498817190527916, 0.0012317299842834473, 0.0003792308270931244, 0.0030173584818840027, 0.0006127767264842987, 0.001234930008649826, 0.002018790692090988, 0.0002874424681067467, 0.0029457472264766693, 0.001156691461801529, 0.00040918588638305664, 0.001323249191045761, 0.00412769615650177, 0.0003645746037364006, 0.0007395893335342407, 0.0030506104230880737, 0.00043053925037384033, 0.0010042227804660797, 0.002485714852809906, 0.0021421685814857483, 0.007664322853088379, 0.015014350414276123, 0.007585793733596802]}\n",
       "    )\n",
       "    </script>"
      ],
      "text/plain": [
       "<circuitsvis.utils.render.RenderedHTML at 0x7f58bc52d950>"
      ]
     },
     "metadata": {},
     "output_type": "display_data"
    },
    {
     "name": "stdout",
     "output_type": "stream",
     "text": [
      "--------------------------------------------------------------------------------\n",
      "layer=47\n"
     ]
    },
    {
     "data": {
      "text/html": [
       "<div id=\"circuits-vis-d13f267b-b978\" style=\"margin: 15px 0;\"/>\n",
       "    <script crossorigin type=\"module\">\n",
       "    import { render, ColoredTokens } from \"https://unpkg.com/circuitsvis@1.43.3/dist/cdn/esm.js\";\n",
       "    render(\n",
       "      \"circuits-vis-d13f267b-b978\",\n",
       "      ColoredTokens,\n",
       "      {\"tokens\": [\"Which\", \" person\", \" from\", \" the\", \" following\", \" list\", \" has\", \" the\", \" profession\", \" in\", \" common\", \" with\", \" Ed\", \" She\", \"er\", \"an\", \"?\\n\", \"Options\", \":\", \" G\", \"reta\", \" Ger\", \"wig\", \",\", \" Hillary\", \" Clinton\", \",\", \" Kanye\", \" West\", \",\", \" Nicholas\", \" Sparks\", \",\", \" Stephen\", \" Curry\", \",\", \" Phil\", \" Mick\", \"elson\", \"\\n\", \"Ans\", \":\"], \"values\": [0.009819060564041138, 0.0027762800455093384, 0.0015201419591903687, 0.001776769757270813, 0.0010603219270706177, 0.0007735672406852245, 0.0014907140284776688, 0.0007337983697652817, 0.0017757527530193329, 0.0007633659988641739, 0.0020962953567504883, 0.001467771828174591, 0.0033747777342796326, 0.005079597234725952, 0.0070836544036865234, 0.005016446113586426, 0.0050646960735321045, 0.0030056387186050415, 0.002285946160554886, 0.0022192150354385376, 0.0028563663363456726, 0.0007216501981019974, 0.0016583800315856934, 0.001908736303448677, 0.002163778990507126, 0.002168618142604828, 0.0017251260578632355, 0.06985277682542801, 0.012851886451244354, 0.0037679430097341537, 0.007067345082759857, 0.004511579871177673, 0.0031840652227401733, 0.0028225816786289215, 0.004317775368690491, 0.0016882605850696564, 0.0026995278894901276, 0.0020667463541030884, 0.0018724054098129272, 0.007540762424468994, 0.015137583017349243, 0.007607683539390564]}\n",
       "    )\n",
       "    </script>"
      ],
      "text/plain": [
       "<circuitsvis.utils.render.RenderedHTML at 0x7f58bc52c810>"
      ]
     },
     "metadata": {},
     "output_type": "display_data"
    },
    {
     "name": "stdout",
     "output_type": "stream",
     "text": [
      "--------------------------------------------------------------------------------\n",
      "layer=48\n"
     ]
    },
    {
     "data": {
      "text/html": [
       "<div id=\"circuits-vis-abb591dc-5456\" style=\"margin: 15px 0;\"/>\n",
       "    <script crossorigin type=\"module\">\n",
       "    import { render, ColoredTokens } from \"https://unpkg.com/circuitsvis@1.43.3/dist/cdn/esm.js\";\n",
       "    render(\n",
       "      \"circuits-vis-abb591dc-5456\",\n",
       "      ColoredTokens,\n",
       "      {\"tokens\": [\"Which\", \" person\", \" from\", \" the\", \" following\", \" list\", \" has\", \" the\", \" profession\", \" in\", \" common\", \" with\", \" Ed\", \" She\", \"er\", \"an\", \"?\\n\", \"Options\", \":\", \" G\", \"reta\", \" Ger\", \"wig\", \",\", \" Hillary\", \" Clinton\", \",\", \" Kanye\", \" West\", \",\", \" Nicholas\", \" Sparks\", \",\", \" Stephen\", \" Curry\", \",\", \" Phil\", \" Mick\", \"elson\", \"\\n\", \"Ans\", \":\"], \"values\": [0.01593109965324402, 0.005812229588627815, 0.0016188248991966248, 0.0014044195413589478, 0.0022666417062282562, 0.0014109127223491669, 0.0011943057179450989, 0.0004250076599419117, 0.0022653527557849884, 0.0006616376340389252, 0.0022130198776721954, 0.0012116022408008575, 0.009371958673000336, 0.009506545960903168, 0.011445939540863037, 0.006967376917600632, 0.009915679693222046, 0.012018121778964996, 0.0028457194566726685, 0.004031145945191383, 0.008342135697603226, 0.002424277365207672, 0.005036927759647369, 0.001978319138288498, 0.008143782615661621, 0.006106674671173096, 0.0007417295128107071, 0.01902991347014904, 0.004846788942813873, 0.0010305456817150116, 0.013770375400781631, 0.004578452557325363, 0.0013659168034791946, 0.008511427789926529, 0.00504152849316597, 0.001281987875699997, 0.004582677036523819, 0.003838583827018738, 0.002560034394264221, 0.011287331581115723, 0.03678017854690552, 0.014134705066680908]}\n",
       "    )\n",
       "    </script>"
      ],
      "text/plain": [
       "<circuitsvis.utils.render.RenderedHTML at 0x7f58bc531750>"
      ]
     },
     "metadata": {},
     "output_type": "display_data"
    },
    {
     "name": "stdout",
     "output_type": "stream",
     "text": [
      "--------------------------------------------------------------------------------\n",
      "layer=49\n"
     ]
    },
    {
     "data": {
      "text/html": [
       "<div id=\"circuits-vis-ec29d178-374b\" style=\"margin: 15px 0;\"/>\n",
       "    <script crossorigin type=\"module\">\n",
       "    import { render, ColoredTokens } from \"https://unpkg.com/circuitsvis@1.43.3/dist/cdn/esm.js\";\n",
       "    render(\n",
       "      \"circuits-vis-ec29d178-374b\",\n",
       "      ColoredTokens,\n",
       "      {\"tokens\": [\"Which\", \" person\", \" from\", \" the\", \" following\", \" list\", \" has\", \" the\", \" profession\", \" in\", \" common\", \" with\", \" Ed\", \" She\", \"er\", \"an\", \"?\\n\", \"Options\", \":\", \" G\", \"reta\", \" Ger\", \"wig\", \",\", \" Hillary\", \" Clinton\", \",\", \" Kanye\", \" West\", \",\", \" Nicholas\", \" Sparks\", \",\", \" Stephen\", \" Curry\", \",\", \" Phil\", \" Mick\", \"elson\", \"\\n\", \"Ans\", \":\"], \"values\": [0.009481191635131836, 0.006495114415884018, 0.0017409957945346832, 0.0017723292112350464, 0.001907050609588623, 0.002151481807231903, 0.002085171639919281, 0.0007179509848356247, 0.0039333775639534, 0.00100812129676342, 0.00479559600353241, 0.0020791292190551758, 0.008181355893611908, 0.00709223747253418, 0.007569611072540283, 0.012296773493289948, 0.006370872259140015, 0.0072678253054618835, 0.0029619038105010986, 0.003437582403421402, 0.0045007020235061646, 0.0013994425535202026, 0.003186658024787903, 0.0023794248700141907, 0.0030316002666950226, 0.0032275021076202393, 0.0015197377651929855, 0.013807117938995361, 0.010072469711303711, 0.002126406878232956, 0.005151614546775818, 0.005034253001213074, 0.00344216451048851, 0.002622045576572418, 0.004385501146316528, 0.0023455917835235596, 0.004101000726222992, 0.0030638128519058228, 0.0025782883167266846, 0.011871755123138428, 0.027976512908935547, 0.01744869351387024]}\n",
       "    )\n",
       "    </script>"
      ],
      "text/plain": [
       "<circuitsvis.utils.render.RenderedHTML at 0x7f58bc52ec90>"
      ]
     },
     "metadata": {},
     "output_type": "display_data"
    },
    {
     "name": "stdout",
     "output_type": "stream",
     "text": [
      "--------------------------------------------------------------------------------\n",
      "layer=50\n"
     ]
    },
    {
     "data": {
      "text/html": [
       "<div id=\"circuits-vis-fb2ac875-96ae\" style=\"margin: 15px 0;\"/>\n",
       "    <script crossorigin type=\"module\">\n",
       "    import { render, ColoredTokens } from \"https://unpkg.com/circuitsvis@1.43.3/dist/cdn/esm.js\";\n",
       "    render(\n",
       "      \"circuits-vis-fb2ac875-96ae\",\n",
       "      ColoredTokens,\n",
       "      {\"tokens\": [\"Which\", \" person\", \" from\", \" the\", \" following\", \" list\", \" has\", \" the\", \" profession\", \" in\", \" common\", \" with\", \" Ed\", \" She\", \"er\", \"an\", \"?\\n\", \"Options\", \":\", \" G\", \"reta\", \" Ger\", \"wig\", \",\", \" Hillary\", \" Clinton\", \",\", \" Kanye\", \" West\", \",\", \" Nicholas\", \" Sparks\", \",\", \" Stephen\", \" Curry\", \",\", \" Phil\", \" Mick\", \"elson\", \"\\n\", \"Ans\", \":\"], \"values\": [0.008294656872749329, 0.0066353436559438705, 0.0017085708677768707, 0.0015426799654960632, 0.0033097639679908752, 0.004289647564291954, 0.002067083492875099, 0.000692213885486126, 0.003069477155804634, 0.000878114253282547, 0.002528015524148941, 0.0012259799987077713, 0.002915292978286743, 0.0027825534343719482, 0.004276454448699951, 0.0027435123920440674, 0.0065333545207977295, 0.029195360839366913, 0.0029209665954113007, 0.001804165542125702, 0.002176884561777115, 0.0006693527102470398, 0.0025566667318344116, 0.0019509699195623398, 0.0036127567291259766, 0.0015301108360290527, 0.0013584233820438385, 0.010388769209384918, 0.0020489320158958435, 0.002282187342643738, 0.007342912256717682, 0.005921557545661926, 0.0025739502161741257, 0.004902549088001251, 0.0028131455183029175, 0.0021865442395210266, 0.0017868317663669586, 0.0025101304054260254, 0.002323877066373825, 0.00931885838508606, 0.026489943265914917, 0.010498672723770142]}\n",
       "    )\n",
       "    </script>"
      ],
      "text/plain": [
       "<circuitsvis.utils.render.RenderedHTML at 0x7f58bc52e050>"
      ]
     },
     "metadata": {},
     "output_type": "display_data"
    },
    {
     "name": "stdout",
     "output_type": "stream",
     "text": [
      "--------------------------------------------------------------------------------\n",
      "layer=51\n"
     ]
    },
    {
     "data": {
      "text/html": [
       "<div id=\"circuits-vis-68033b89-2617\" style=\"margin: 15px 0;\"/>\n",
       "    <script crossorigin type=\"module\">\n",
       "    import { render, ColoredTokens } from \"https://unpkg.com/circuitsvis@1.43.3/dist/cdn/esm.js\";\n",
       "    render(\n",
       "      \"circuits-vis-68033b89-2617\",\n",
       "      ColoredTokens,\n",
       "      {\"tokens\": [\"Which\", \" person\", \" from\", \" the\", \" following\", \" list\", \" has\", \" the\", \" profession\", \" in\", \" common\", \" with\", \" Ed\", \" She\", \"er\", \"an\", \"?\\n\", \"Options\", \":\", \" G\", \"reta\", \" Ger\", \"wig\", \",\", \" Hillary\", \" Clinton\", \",\", \" Kanye\", \" West\", \",\", \" Nicholas\", \" Sparks\", \",\", \" Stephen\", \" Curry\", \",\", \" Phil\", \" Mick\", \"elson\", \"\\n\", \"Ans\", \":\"], \"values\": [0.007769662421196699, 0.004482453688979149, 0.0015709288418293, 0.0016074031591415405, 0.0015778476372361183, 0.0016195853240787983, 0.0008842984680086374, 0.0005203727632761002, 0.006710639223456383, 0.000786859542131424, 0.007209934294223785, 0.0009915439877659082, 0.003315951209515333, 0.004961910657584667, 0.003697305917739868, 0.0022160448133945465, 0.006951242685317993, 0.005029582418501377, 0.001566471066325903, 0.001268009189516306, 0.0018999390304088593, 0.0009000264108181, 0.0018351152539253235, 0.0015106424689292908, 0.0026410063728690147, 0.001358994748443365, 0.0009467471390962601, 0.009209446609020233, 0.009875064715743065, 0.0015735272318124771, 0.003501463681459427, 0.003535342402756214, 0.0018810508772730827, 0.0018841549754142761, 0.002117324620485306, 0.0018300078809261322, 0.0014351224526762962, 0.0018005426973104477, 0.0014811623841524124, 0.016949594020843506, 0.032930195331573486, 0.013032913208007812]}\n",
       "    )\n",
       "    </script>"
      ],
      "text/plain": [
       "<circuitsvis.utils.render.RenderedHTML at 0x7f591c163850>"
      ]
     },
     "metadata": {},
     "output_type": "display_data"
    },
    {
     "name": "stdout",
     "output_type": "stream",
     "text": [
      "--------------------------------------------------------------------------------\n",
      "layer=52\n"
     ]
    },
    {
     "data": {
      "text/html": [
       "<div id=\"circuits-vis-46005e3c-aadf\" style=\"margin: 15px 0;\"/>\n",
       "    <script crossorigin type=\"module\">\n",
       "    import { render, ColoredTokens } from \"https://unpkg.com/circuitsvis@1.43.3/dist/cdn/esm.js\";\n",
       "    render(\n",
       "      \"circuits-vis-46005e3c-aadf\",\n",
       "      ColoredTokens,\n",
       "      {\"tokens\": [\"Which\", \" person\", \" from\", \" the\", \" following\", \" list\", \" has\", \" the\", \" profession\", \" in\", \" common\", \" with\", \" Ed\", \" She\", \"er\", \"an\", \"?\\n\", \"Options\", \":\", \" G\", \"reta\", \" Ger\", \"wig\", \",\", \" Hillary\", \" Clinton\", \",\", \" Kanye\", \" West\", \",\", \" Nicholas\", \" Sparks\", \",\", \" Stephen\", \" Curry\", \",\", \" Phil\", \" Mick\", \"elson\", \"\\n\", \"Ans\", \":\"], \"values\": [0.01744365692138672, 0.008389115333557129, 0.005537807941436768, 0.003429815173149109, 0.005494564771652222, 0.003020443022251129, 0.0033630505204200745, 0.0013911351561546326, 0.0043602026998996735, 0.0024424493312835693, 0.013911031186580658, 0.003416910767555237, 0.013618677854537964, 0.011887967586517334, 0.007805585861206055, 0.008494563400745392, 0.026631593704223633, 0.026006728410720825, 0.007988452911376953, 0.009092673659324646, 0.01806919276714325, 0.003934381529688835, 0.0032987655140459538, 0.004845097661018372, 0.010882660746574402, 0.004426553845405579, 0.0023291856050491333, 0.1346610188484192, 0.03538709878921509, 0.003574654459953308, 0.06187400221824646, 0.006672486662864685, 0.005843400955200195, 0.009571067988872528, 0.005741812288761139, 0.004317536950111389, 0.006968587636947632, 0.002181224524974823, 0.002981804311275482, 0.03163260221481323, 0.06526839733123779, 0.03607991337776184]}\n",
       "    )\n",
       "    </script>"
      ],
      "text/plain": [
       "<circuitsvis.utils.render.RenderedHTML at 0x7f58dc512e10>"
      ]
     },
     "metadata": {},
     "output_type": "display_data"
    },
    {
     "name": "stdout",
     "output_type": "stream",
     "text": [
      "--------------------------------------------------------------------------------\n",
      "layer=53\n"
     ]
    },
    {
     "data": {
      "text/html": [
       "<div id=\"circuits-vis-0df96a56-5c23\" style=\"margin: 15px 0;\"/>\n",
       "    <script crossorigin type=\"module\">\n",
       "    import { render, ColoredTokens } from \"https://unpkg.com/circuitsvis@1.43.3/dist/cdn/esm.js\";\n",
       "    render(\n",
       "      \"circuits-vis-0df96a56-5c23\",\n",
       "      ColoredTokens,\n",
       "      {\"tokens\": [\"Which\", \" person\", \" from\", \" the\", \" following\", \" list\", \" has\", \" the\", \" profession\", \" in\", \" common\", \" with\", \" Ed\", \" She\", \"er\", \"an\", \"?\\n\", \"Options\", \":\", \" G\", \"reta\", \" Ger\", \"wig\", \",\", \" Hillary\", \" Clinton\", \",\", \" Kanye\", \" West\", \",\", \" Nicholas\", \" Sparks\", \",\", \" Stephen\", \" Curry\", \",\", \" Phil\", \" Mick\", \"elson\", \"\\n\", \"Ans\", \":\"], \"values\": [0.009753569960594177, 0.006292473524808884, 0.0019453056156635284, 0.0016615614295005798, 0.001148030161857605, 0.0013107508420944214, 0.001606188714504242, 0.0006805621087551117, 0.0017992891371250153, 0.0008827783167362213, 0.0024734437465667725, 0.0014166012406349182, 0.003936842083930969, 0.004061516374349594, 0.004811294376850128, 0.004098422825336456, 0.012408249080181122, 0.004497118294239044, 0.003167062997817993, 0.003269702196121216, 0.003458581864833832, 0.001615776214748621, 0.0020137475803494453, 0.0029982328414916992, 0.011877056211233139, 0.0025223717093467712, 0.0015966054052114487, 0.2817766070365906, 0.015455111861228943, 0.002498626708984375, 0.02648867666721344, 0.0027042627334594727, 0.005822669714689255, 0.0074744150042533875, 0.003145650029182434, 0.0027740933001041412, 0.004449598491191864, 0.0028456561267375946, 0.0018763374537229538, 0.01638256013393402, 0.023196563124656677, 0.019113950431346893]}\n",
       "    )\n",
       "    </script>"
      ],
      "text/plain": [
       "<circuitsvis.utils.render.RenderedHTML at 0x7f58bc573950>"
      ]
     },
     "metadata": {},
     "output_type": "display_data"
    },
    {
     "name": "stdout",
     "output_type": "stream",
     "text": [
      "--------------------------------------------------------------------------------\n",
      "layer=54\n"
     ]
    },
    {
     "data": {
      "text/html": [
       "<div id=\"circuits-vis-c97c1df8-9b02\" style=\"margin: 15px 0;\"/>\n",
       "    <script crossorigin type=\"module\">\n",
       "    import { render, ColoredTokens } from \"https://unpkg.com/circuitsvis@1.43.3/dist/cdn/esm.js\";\n",
       "    render(\n",
       "      \"circuits-vis-c97c1df8-9b02\",\n",
       "      ColoredTokens,\n",
       "      {\"tokens\": [\"Which\", \" person\", \" from\", \" the\", \" following\", \" list\", \" has\", \" the\", \" profession\", \" in\", \" common\", \" with\", \" Ed\", \" She\", \"er\", \"an\", \"?\\n\", \"Options\", \":\", \" G\", \"reta\", \" Ger\", \"wig\", \",\", \" Hillary\", \" Clinton\", \",\", \" Kanye\", \" West\", \",\", \" Nicholas\", \" Sparks\", \",\", \" Stephen\", \" Curry\", \",\", \" Phil\", \" Mick\", \"elson\", \"\\n\", \"Ans\", \":\"], \"values\": [0.016880154609680176, 0.0028373412787914276, 0.0012597180902957916, 0.0010765865445137024, 0.0010259859263896942, 0.0008986629545688629, 0.0013243667781352997, 0.0005679596215486526, 0.002157650887966156, 0.000804731622338295, 0.001420728862285614, 0.001221977174282074, 0.00900597870349884, 0.007674694061279297, 0.00917002558708191, 0.005946315824985504, 0.006669938564300537, 0.004833482205867767, 0.0022985562682151794, 0.006825670599937439, 0.004784323275089264, 0.002926774322986603, 0.005307197570800781, 0.0024410896003246307, 0.008914753794670105, 0.003178827464580536, 0.0013877563178539276, 0.11157713830471039, 0.005238190293312073, 0.0020842142403125763, 0.0147562175989151, 0.010189026594161987, 0.004030399024486542, 0.025245457887649536, 0.00982750952243805, 0.002598308026790619, 0.010605230927467346, 0.01069098711013794, 0.0026663653552532196, 0.007879182696342468, 0.013163208961486816, 0.020956680178642273]}\n",
       "    )\n",
       "    </script>"
      ],
      "text/plain": [
       "<circuitsvis.utils.render.RenderedHTML at 0x7f5940161c90>"
      ]
     },
     "metadata": {},
     "output_type": "display_data"
    },
    {
     "name": "stdout",
     "output_type": "stream",
     "text": [
      "--------------------------------------------------------------------------------\n",
      "layer=55\n"
     ]
    },
    {
     "data": {
      "text/html": [
       "<div id=\"circuits-vis-1f5dad5f-a123\" style=\"margin: 15px 0;\"/>\n",
       "    <script crossorigin type=\"module\">\n",
       "    import { render, ColoredTokens } from \"https://unpkg.com/circuitsvis@1.43.3/dist/cdn/esm.js\";\n",
       "    render(\n",
       "      \"circuits-vis-1f5dad5f-a123\",\n",
       "      ColoredTokens,\n",
       "      {\"tokens\": [\"Which\", \" person\", \" from\", \" the\", \" following\", \" list\", \" has\", \" the\", \" profession\", \" in\", \" common\", \" with\", \" Ed\", \" She\", \"er\", \"an\", \"?\\n\", \"Options\", \":\", \" G\", \"reta\", \" Ger\", \"wig\", \",\", \" Hillary\", \" Clinton\", \",\", \" Kanye\", \" West\", \",\", \" Nicholas\", \" Sparks\", \",\", \" Stephen\", \" Curry\", \",\", \" Phil\", \" Mick\", \"elson\", \"\\n\", \"Ans\", \":\"], \"values\": [0.027946660295128822, 0.0035656020045280457, 0.0023138076066970825, 0.00246471562422812, 0.00204525887966156, 0.007043173536658287, 0.00144162867218256, 0.0009990779217332602, 0.002512814477086067, 0.0010267937323078513, 0.003282124176621437, 0.0020745559595525265, 0.003489565569907427, 0.004566006362438202, 0.006875239312648773, 0.0044846925884485245, 0.015102986246347427, 0.004700249060988426, 0.004120387136936188, 0.001896758796647191, 0.0031352201476693153, 0.002608342096209526, 0.005528047680854797, 0.003298406954854727, 0.005695197731256485, 0.0037576165050268173, 0.0017924318090081215, 0.025971513241529465, 0.0032260697335004807, 0.00240505114197731, 0.005049465224146843, 0.006888139992952347, 0.0036121299490332603, 0.00242028571665287, 0.006538957357406616, 0.002372700022533536, 0.003105083480477333, 0.004211960360407829, 0.0029453658498823643, 0.022860169410705566, 0.03607809171080589, 0.056605976074934006]}\n",
       "    )\n",
       "    </script>"
      ],
      "text/plain": [
       "<circuitsvis.utils.render.RenderedHTML at 0x7f58bc53cc10>"
      ]
     },
     "metadata": {},
     "output_type": "display_data"
    },
    {
     "name": "stdout",
     "output_type": "stream",
     "text": [
      "--------------------------------------------------------------------------------\n",
      "layer=56\n"
     ]
    },
    {
     "data": {
      "text/html": [
       "<div id=\"circuits-vis-3abf85b3-d46e\" style=\"margin: 15px 0;\"/>\n",
       "    <script crossorigin type=\"module\">\n",
       "    import { render, ColoredTokens } from \"https://unpkg.com/circuitsvis@1.43.3/dist/cdn/esm.js\";\n",
       "    render(\n",
       "      \"circuits-vis-3abf85b3-d46e\",\n",
       "      ColoredTokens,\n",
       "      {\"tokens\": [\"Which\", \" person\", \" from\", \" the\", \" following\", \" list\", \" has\", \" the\", \" profession\", \" in\", \" common\", \" with\", \" Ed\", \" She\", \"er\", \"an\", \"?\\n\", \"Options\", \":\", \" G\", \"reta\", \" Ger\", \"wig\", \",\", \" Hillary\", \" Clinton\", \",\", \" Kanye\", \" West\", \",\", \" Nicholas\", \" Sparks\", \",\", \" Stephen\", \" Curry\", \",\", \" Phil\", \" Mick\", \"elson\", \"\\n\", \"Ans\", \":\"], \"values\": [0.013613104820251465, 0.015023007988929749, 0.00468270480632782, 0.004044190049171448, 0.004625692963600159, 0.00299869105219841, 0.003193095326423645, 0.0022016800940036774, 0.0129828080534935, 0.0026030316948890686, 0.015011221170425415, 0.003342624753713608, 0.06652966141700745, 0.012565553188323975, 0.011636048555374146, 0.007262200117111206, 0.01981508731842041, 0.027595728635787964, 0.00725516676902771, 0.01976001262664795, 0.014379207044839859, 0.0034587346017360687, 0.0055287182331085205, 0.00803309679031372, 0.07903426885604858, 0.005441591143608093, 0.004133500158786774, 0.2741132080554962, 0.018908679485321045, 0.006452962756156921, 0.030485637485980988, 0.010050714015960693, 0.022763878107070923, 0.014998391270637512, 0.011661887168884277, 0.013017788529396057, 0.02896951138973236, 0.002696499228477478, 0.003816366195678711, 0.03512871265411377, 0.04584312438964844, 0.026091158390045166]}\n",
       "    )\n",
       "    </script>"
      ],
      "text/plain": [
       "<circuitsvis.utils.render.RenderedHTML at 0x7f58bc3fe850>"
      ]
     },
     "metadata": {},
     "output_type": "display_data"
    },
    {
     "name": "stdout",
     "output_type": "stream",
     "text": [
      "--------------------------------------------------------------------------------\n",
      "layer=57\n"
     ]
    },
    {
     "data": {
      "text/html": [
       "<div id=\"circuits-vis-8d28b06d-0edf\" style=\"margin: 15px 0;\"/>\n",
       "    <script crossorigin type=\"module\">\n",
       "    import { render, ColoredTokens } from \"https://unpkg.com/circuitsvis@1.43.3/dist/cdn/esm.js\";\n",
       "    render(\n",
       "      \"circuits-vis-8d28b06d-0edf\",\n",
       "      ColoredTokens,\n",
       "      {\"tokens\": [\"Which\", \" person\", \" from\", \" the\", \" following\", \" list\", \" has\", \" the\", \" profession\", \" in\", \" common\", \" with\", \" Ed\", \" She\", \"er\", \"an\", \"?\\n\", \"Options\", \":\", \" G\", \"reta\", \" Ger\", \"wig\", \",\", \" Hillary\", \" Clinton\", \",\", \" Kanye\", \" West\", \",\", \" Nicholas\", \" Sparks\", \",\", \" Stephen\", \" Curry\", \",\", \" Phil\", \" Mick\", \"elson\", \"\\n\", \"Ans\", \":\"], \"values\": [0.010381251573562622, 0.01660655438899994, 0.0025446265935897827, 0.0017261877655982971, 0.0021230708807706833, 0.004643270745873451, 0.0019281571730971336, 0.0008440501987934113, 0.00928538665175438, 0.0012915357947349548, 0.005124829709529877, 0.001950044184923172, 0.004699625074863434, 0.005775481462478638, 0.01000724732875824, 0.005247592926025391, 0.012328565120697021, 0.03418564796447754, 0.004333706572651863, 0.0022424012422561646, 0.0039437562227249146, 0.0017629340291023254, 0.005402654409408569, 0.0028054825961589813, 0.008077606558799744, 0.005589321255683899, 0.0017224345356225967, 0.051192738115787506, 0.0038914307951927185, 0.0028719305992126465, 0.015230968594551086, 0.005016803741455078, 0.00903405249118805, 0.004522591829299927, 0.016818776726722717, 0.00541386753320694, 0.006961807608604431, 0.003243952989578247, 0.0023501217365264893, 0.02215486764907837, 0.03427457809448242, 0.023061811923980713]}\n",
       "    )\n",
       "    </script>"
      ],
      "text/plain": [
       "<circuitsvis.utils.render.RenderedHTML at 0x7f58bc32e290>"
      ]
     },
     "metadata": {},
     "output_type": "display_data"
    },
    {
     "name": "stdout",
     "output_type": "stream",
     "text": [
      "--------------------------------------------------------------------------------\n",
      "layer=58\n"
     ]
    },
    {
     "data": {
      "text/html": [
       "<div id=\"circuits-vis-dc87c097-010b\" style=\"margin: 15px 0;\"/>\n",
       "    <script crossorigin type=\"module\">\n",
       "    import { render, ColoredTokens } from \"https://unpkg.com/circuitsvis@1.43.3/dist/cdn/esm.js\";\n",
       "    render(\n",
       "      \"circuits-vis-dc87c097-010b\",\n",
       "      ColoredTokens,\n",
       "      {\"tokens\": [\"Which\", \" person\", \" from\", \" the\", \" following\", \" list\", \" has\", \" the\", \" profession\", \" in\", \" common\", \" with\", \" Ed\", \" She\", \"er\", \"an\", \"?\\n\", \"Options\", \":\", \" G\", \"reta\", \" Ger\", \"wig\", \",\", \" Hillary\", \" Clinton\", \",\", \" Kanye\", \" West\", \",\", \" Nicholas\", \" Sparks\", \",\", \" Stephen\", \" Curry\", \",\", \" Phil\", \" Mick\", \"elson\", \"\\n\", \"Ans\", \":\"], \"values\": [0.010141938924789429, 0.0032461881637573242, 0.0014497116208076477, 0.0010829493403434753, 0.0010623708367347717, 0.0005785846151411533, 0.0006039240397512913, 0.00042792782187461853, 0.022533241659402847, 0.0006538126617670059, 0.0020511969923973083, 0.001026306301355362, 0.005926167592406273, 0.0020138993859291077, 0.00426841527223587, 0.0033810101449489594, 0.0054919421672821045, 0.0041383057832717896, 0.0018245335668325424, 0.0014727450907230377, 0.005753681063652039, 0.0013256855309009552, 0.004079125821590424, 0.0017747953534126282, 0.003551105037331581, 0.0015614945441484451, 0.0008340999484062195, 0.01032072864472866, 0.002204587683081627, 0.001437544822692871, 0.02105683833360672, 0.0035569965839385986, 0.008046976290643215, 0.0034334342926740646, 0.003419613465666771, 0.0029082298278808594, 0.0017898716032505035, 0.0019652917981147766, 0.0024717766791582108, 0.013910859823226929, 0.07990729808807373, 0.022508855909109116]}\n",
       "    )\n",
       "    </script>"
      ],
      "text/plain": [
       "<circuitsvis.utils.render.RenderedHTML at 0x7f58fc5414d0>"
      ]
     },
     "metadata": {},
     "output_type": "display_data"
    },
    {
     "name": "stdout",
     "output_type": "stream",
     "text": [
      "--------------------------------------------------------------------------------\n",
      "layer=59\n"
     ]
    },
    {
     "data": {
      "text/html": [
       "<div id=\"circuits-vis-4f272766-4e7e\" style=\"margin: 15px 0;\"/>\n",
       "    <script crossorigin type=\"module\">\n",
       "    import { render, ColoredTokens } from \"https://unpkg.com/circuitsvis@1.43.3/dist/cdn/esm.js\";\n",
       "    render(\n",
       "      \"circuits-vis-4f272766-4e7e\",\n",
       "      ColoredTokens,\n",
       "      {\"tokens\": [\"Which\", \" person\", \" from\", \" the\", \" following\", \" list\", \" has\", \" the\", \" profession\", \" in\", \" common\", \" with\", \" Ed\", \" She\", \"er\", \"an\", \"?\\n\", \"Options\", \":\", \" G\", \"reta\", \" Ger\", \"wig\", \",\", \" Hillary\", \" Clinton\", \",\", \" Kanye\", \" West\", \",\", \" Nicholas\", \" Sparks\", \",\", \" Stephen\", \" Curry\", \",\", \" Phil\", \" Mick\", \"elson\", \"\\n\", \"Ans\", \":\"], \"values\": [0.004606276750564575, 0.0008532404899597168, 0.0008176453411579132, 0.000878065824508667, 0.0006772242486476898, 0.0005764514207839966, 0.00035965442657470703, 0.00026663392782211304, 0.0008991695940494537, 0.0007134377956390381, 0.001792222261428833, 0.0006359182298183441, 0.00325658917427063, 0.003044307231903076, 0.007190927863121033, 0.002670474350452423, 0.006478756666183472, 0.0021716654300689697, 0.0016084834933280945, 0.0008364021778106689, 0.0013966746628284454, 0.01554613932967186, 0.003510519862174988, 0.0008917078375816345, 0.0014101266860961914, 0.0010967478156089783, 0.000440722331404686, 0.005270704627037048, 0.0017774403095245361, 0.0007668621838092804, 0.0011965557932853699, 0.0031694024801254272, 0.0005329959094524384, 0.0010090991854667664, 0.003190957009792328, 0.0006176978349685669, 0.0015480071306228638, 0.015387170016765594, 0.001253236085176468, 0.008806496858596802, 0.01596236228942871, 0.010188356041908264]}\n",
       "    )\n",
       "    </script>"
      ],
      "text/plain": [
       "<circuitsvis.utils.render.RenderedHTML at 0x7f58bc53cc10>"
      ]
     },
     "metadata": {},
     "output_type": "display_data"
    },
    {
     "name": "stdout",
     "output_type": "stream",
     "text": [
      "--------------------------------------------------------------------------------\n",
      "layer=60\n"
     ]
    },
    {
     "data": {
      "text/html": [
       "<div id=\"circuits-vis-98ced5c3-3e83\" style=\"margin: 15px 0;\"/>\n",
       "    <script crossorigin type=\"module\">\n",
       "    import { render, ColoredTokens } from \"https://unpkg.com/circuitsvis@1.43.3/dist/cdn/esm.js\";\n",
       "    render(\n",
       "      \"circuits-vis-98ced5c3-3e83\",\n",
       "      ColoredTokens,\n",
       "      {\"tokens\": [\"Which\", \" person\", \" from\", \" the\", \" following\", \" list\", \" has\", \" the\", \" profession\", \" in\", \" common\", \" with\", \" Ed\", \" She\", \"er\", \"an\", \"?\\n\", \"Options\", \":\", \" G\", \"reta\", \" Ger\", \"wig\", \",\", \" Hillary\", \" Clinton\", \",\", \" Kanye\", \" West\", \",\", \" Nicholas\", \" Sparks\", \",\", \" Stephen\", \" Curry\", \",\", \" Phil\", \" Mick\", \"elson\", \"\\n\", \"Ans\", \":\"], \"values\": [0.014539271593093872, 0.006131038069725037, 0.003290049731731415, 0.003224596381187439, 0.0037866011261940002, 0.004340622574090958, 0.005082875490188599, 0.0020669400691986084, 0.006161157041788101, 0.002026127651333809, 0.004563480615615845, 0.0024707280099391937, 0.02939164638519287, 0.007871925830841064, 0.01938319206237793, 0.00516992062330246, 0.024738013744354248, 0.018355250358581543, 0.006417654454708099, 0.01001410186290741, 0.006873592734336853, 0.010109245777130127, 0.0036634504795074463, 0.006760232150554657, 0.018957894295454025, 0.0029424652457237244, 0.0032520629465579987, 0.09037673473358154, 0.005260631442070007, 0.005399778485298157, 0.11573287844657898, 0.006081372499465942, 0.027706850320100784, 0.029500886797904968, 0.013305842876434326, 0.014116395264863968, 0.033203333616256714, 0.004043221473693848, 0.003567822277545929, 0.03886580467224121, 0.09108781814575195, 0.03316134214401245]}\n",
       "    )\n",
       "    </script>"
      ],
      "text/plain": [
       "<circuitsvis.utils.render.RenderedHTML at 0x7f58bc52e050>"
      ]
     },
     "metadata": {},
     "output_type": "display_data"
    },
    {
     "name": "stdout",
     "output_type": "stream",
     "text": [
      "--------------------------------------------------------------------------------\n",
      "layer=61\n"
     ]
    },
    {
     "data": {
      "text/html": [
       "<div id=\"circuits-vis-ce06f570-c859\" style=\"margin: 15px 0;\"/>\n",
       "    <script crossorigin type=\"module\">\n",
       "    import { render, ColoredTokens } from \"https://unpkg.com/circuitsvis@1.43.3/dist/cdn/esm.js\";\n",
       "    render(\n",
       "      \"circuits-vis-ce06f570-c859\",\n",
       "      ColoredTokens,\n",
       "      {\"tokens\": [\"Which\", \" person\", \" from\", \" the\", \" following\", \" list\", \" has\", \" the\", \" profession\", \" in\", \" common\", \" with\", \" Ed\", \" She\", \"er\", \"an\", \"?\\n\", \"Options\", \":\", \" G\", \"reta\", \" Ger\", \"wig\", \",\", \" Hillary\", \" Clinton\", \",\", \" Kanye\", \" West\", \",\", \" Nicholas\", \" Sparks\", \",\", \" Stephen\", \" Curry\", \",\", \" Phil\", \" Mick\", \"elson\", \"\\n\", \"Ans\", \":\"], \"values\": [0.005614474415779114, 0.0013982579112052917, 0.0012729354202747345, 0.0010934323072433472, 0.0006549246609210968, 0.0005889646708965302, 0.0008310973644256592, 0.0005688280798494816, 0.005828319117426872, 0.0010970886796712875, 0.00355587899684906, 0.0013263244181871414, 0.005156263709068298, 0.014657609164714813, 0.006903298199176788, 0.003631003201007843, 0.006171748042106628, 0.01938900351524353, 0.003021746873855591, 0.0032365843653678894, 0.003020569682121277, 0.0026310384273529053, 0.0032483041286468506, 0.0023620575666427612, 0.015091881155967712, 0.001810714602470398, 0.0014154892414808273, 0.029390811920166016, 0.004430314525961876, 0.0019821450114250183, 0.006669387221336365, 0.01020830124616623, 0.006486430764198303, 0.005266062915325165, 0.016618967056274414, 0.0037279799580574036, 0.0036864280700683594, 0.002297237515449524, 0.0009425915777683258, 0.006181448698043823, 0.018412470817565918, 0.0116138756275177]}\n",
       "    )\n",
       "    </script>"
      ],
      "text/plain": [
       "<circuitsvis.utils.render.RenderedHTML at 0x7f595e10bfd0>"
      ]
     },
     "metadata": {},
     "output_type": "display_data"
    },
    {
     "name": "stdout",
     "output_type": "stream",
     "text": [
      "--------------------------------------------------------------------------------\n",
      "layer=62\n"
     ]
    },
    {
     "data": {
      "text/html": [
       "<div id=\"circuits-vis-211fb177-2e34\" style=\"margin: 15px 0;\"/>\n",
       "    <script crossorigin type=\"module\">\n",
       "    import { render, ColoredTokens } from \"https://unpkg.com/circuitsvis@1.43.3/dist/cdn/esm.js\";\n",
       "    render(\n",
       "      \"circuits-vis-211fb177-2e34\",\n",
       "      ColoredTokens,\n",
       "      {\"tokens\": [\"Which\", \" person\", \" from\", \" the\", \" following\", \" list\", \" has\", \" the\", \" profession\", \" in\", \" common\", \" with\", \" Ed\", \" She\", \"er\", \"an\", \"?\\n\", \"Options\", \":\", \" G\", \"reta\", \" Ger\", \"wig\", \",\", \" Hillary\", \" Clinton\", \",\", \" Kanye\", \" West\", \",\", \" Nicholas\", \" Sparks\", \",\", \" Stephen\", \" Curry\", \",\", \" Phil\", \" Mick\", \"elson\", \"\\n\", \"Ans\", \":\"], \"values\": [0.01865096390247345, 0.0008448213338851929, 0.0005211550742387772, 0.0005123745650053024, 0.0007071904838085175, 0.0004883855581283569, 0.00029217079281806946, 0.0001380089670419693, 0.00034613069146871567, 0.00013725366443395615, 0.0007379502058029175, 0.0004656631499528885, 0.0010202452540397644, 0.001090720295906067, 0.00245676189661026, 0.0020240619778633118, 0.0023081526160240173, 0.0014792084693908691, 0.0009731892496347427, 0.00047797709703445435, 0.0011122357100248337, 0.0007896088063716888, 0.0031155049800872803, 0.0007296055555343628, 0.0006672590970993042, 0.0007948745042085648, 0.00037591950967907906, 0.001825110986828804, 0.0008019665256142616, 0.0005038613453507423, 0.0008136667311191559, 0.0017401035875082016, 0.00041306857019662857, 0.0005637072026729584, 0.0019635334610939026, 0.0005179275758564472, 0.0007795728743076324, 0.002888757735490799, 0.002037560101598501, 0.004673652350902557, 0.012844592332839966, 0.007283106446266174]}\n",
       "    )\n",
       "    </script>"
      ],
      "text/plain": [
       "<circuitsvis.utils.render.RenderedHTML at 0x7f58bc3fe050>"
      ]
     },
     "metadata": {},
     "output_type": "display_data"
    },
    {
     "name": "stdout",
     "output_type": "stream",
     "text": [
      "--------------------------------------------------------------------------------\n",
      "layer=63\n"
     ]
    },
    {
     "data": {
      "text/html": [
       "<div id=\"circuits-vis-ebaaa7d2-07d8\" style=\"margin: 15px 0;\"/>\n",
       "    <script crossorigin type=\"module\">\n",
       "    import { render, ColoredTokens } from \"https://unpkg.com/circuitsvis@1.43.3/dist/cdn/esm.js\";\n",
       "    render(\n",
       "      \"circuits-vis-ebaaa7d2-07d8\",\n",
       "      ColoredTokens,\n",
       "      {\"tokens\": [\"Which\", \" person\", \" from\", \" the\", \" following\", \" list\", \" has\", \" the\", \" profession\", \" in\", \" common\", \" with\", \" Ed\", \" She\", \"er\", \"an\", \"?\\n\", \"Options\", \":\", \" G\", \"reta\", \" Ger\", \"wig\", \",\", \" Hillary\", \" Clinton\", \",\", \" Kanye\", \" West\", \",\", \" Nicholas\", \" Sparks\", \",\", \" Stephen\", \" Curry\", \",\", \" Phil\", \" Mick\", \"elson\", \"\\n\", \"Ans\", \":\"], \"values\": [0.01634177565574646, 0.0028429850935935974, 0.0012608692049980164, 0.001468658447265625, 0.0013784989714622498, 0.0014030933380126953, 0.0009852126240730286, 0.0004938226193189621, 0.0016694813966751099, 0.0005795955657958984, 0.0023981332778930664, 0.0012388639152050018, 0.00685042142868042, 0.003176361322402954, 0.002406492829322815, 0.0034832805395126343, 0.009364008903503418, 0.004840224981307983, 0.002436302602291107, 0.004170883446931839, 0.005050435662269592, 0.0010704323649406433, 0.0016985982656478882, 0.0028698593378067017, 0.004879847168922424, 0.0018752627074718475, 0.0015878994017839432, 0.02244344726204872, 0.001976102590560913, 0.002247847616672516, 0.006029680371284485, 0.002078413963317871, 0.003862094134092331, 0.0060465410351753235, 0.00200025737285614, 0.003322899341583252, 0.006112832576036453, 0.0010273400694131851, 0.002457456663250923, 0.014978885650634766, 0.024911701679229736, 0.014603987336158752]}\n",
       "    )\n",
       "    </script>"
      ],
      "text/plain": [
       "<circuitsvis.utils.render.RenderedHTML at 0x7f58fc542890>"
      ]
     },
     "metadata": {},
     "output_type": "display_data"
    },
    {
     "name": "stdout",
     "output_type": "stream",
     "text": [
      "--------------------------------------------------------------------------------\n",
      "layer=64\n"
     ]
    },
    {
     "data": {
      "text/html": [
       "<div id=\"circuits-vis-62bc0100-d736\" style=\"margin: 15px 0;\"/>\n",
       "    <script crossorigin type=\"module\">\n",
       "    import { render, ColoredTokens } from \"https://unpkg.com/circuitsvis@1.43.3/dist/cdn/esm.js\";\n",
       "    render(\n",
       "      \"circuits-vis-62bc0100-d736\",\n",
       "      ColoredTokens,\n",
       "      {\"tokens\": [\"Which\", \" person\", \" from\", \" the\", \" following\", \" list\", \" has\", \" the\", \" profession\", \" in\", \" common\", \" with\", \" Ed\", \" She\", \"er\", \"an\", \"?\\n\", \"Options\", \":\", \" G\", \"reta\", \" Ger\", \"wig\", \",\", \" Hillary\", \" Clinton\", \",\", \" Kanye\", \" West\", \",\", \" Nicholas\", \" Sparks\", \",\", \" Stephen\", \" Curry\", \",\", \" Phil\", \" Mick\", \"elson\", \"\\n\", \"Ans\", \":\"], \"values\": [0.012994516640901566, 0.004199527204036713, 0.0031562820076942444, 0.002756953239440918, 0.0015653017908334732, 0.001474620308727026, 0.0021560853347182274, 0.001385444076731801, 0.009585350751876831, 0.0017137285321950912, 0.00449681282043457, 0.0033979415893554688, 0.03375297784805298, 0.010549098253250122, 0.010842576622962952, 0.00793108344078064, 0.018197208642959595, 0.009945511817932129, 0.00613984651863575, 0.009043382480740547, 0.010732870548963547, 0.0021047741174697876, 0.0021583661437034607, 0.0074648186564445496, 0.02601163275539875, 0.009244315326213837, 0.004315251484513283, 0.1278093159198761, 0.005576426163315773, 0.006421612575650215, 0.03027416206896305, 0.022815408185124397, 0.015815678983926773, 0.07881263643503189, 0.006946854293346405, 0.020823385566473007, 0.027039818465709686, 0.008498720824718475, 0.0020206551998853683, 0.0207890123128891, 0.05521059036254883, 0.04538378119468689]}\n",
       "    )\n",
       "    </script>"
      ],
      "text/plain": [
       "<circuitsvis.utils.render.RenderedHTML at 0x7f58dc3e8190>"
      ]
     },
     "metadata": {},
     "output_type": "display_data"
    },
    {
     "name": "stdout",
     "output_type": "stream",
     "text": [
      "--------------------------------------------------------------------------------\n",
      "layer=65\n"
     ]
    },
    {
     "data": {
      "text/html": [
       "<div id=\"circuits-vis-945546e8-70de\" style=\"margin: 15px 0;\"/>\n",
       "    <script crossorigin type=\"module\">\n",
       "    import { render, ColoredTokens } from \"https://unpkg.com/circuitsvis@1.43.3/dist/cdn/esm.js\";\n",
       "    render(\n",
       "      \"circuits-vis-945546e8-70de\",\n",
       "      ColoredTokens,\n",
       "      {\"tokens\": [\"Which\", \" person\", \" from\", \" the\", \" following\", \" list\", \" has\", \" the\", \" profession\", \" in\", \" common\", \" with\", \" Ed\", \" She\", \"er\", \"an\", \"?\\n\", \"Options\", \":\", \" G\", \"reta\", \" Ger\", \"wig\", \",\", \" Hillary\", \" Clinton\", \",\", \" Kanye\", \" West\", \",\", \" Nicholas\", \" Sparks\", \",\", \" Stephen\", \" Curry\", \",\", \" Phil\", \" Mick\", \"elson\", \"\\n\", \"Ans\", \":\"], \"values\": [0.014039106667041779, 0.0026510758325457573, 0.0012817010283470154, 0.0010443031787872314, 0.001819436438381672, 0.0013639656826853752, 0.000707950908690691, 0.0004494362510740757, 0.001318609924055636, 0.0005466267466545105, 0.0021034744568169117, 0.0009685605764389038, 0.00224079517647624, 0.00818084180355072, 0.0032932572066783905, 0.0013625659048557281, 0.007892772555351257, 0.003861035918816924, 0.0015259534120559692, 0.001040864735841751, 0.0014122450957074761, 0.002244655042886734, 0.001198935555294156, 0.0012543108314275742, 0.0015599108301103115, 0.0008512407075613737, 0.0007962859235703945, 0.0037445167545229197, 0.001105147530324757, 0.0010588299483060837, 0.001415641512721777, 0.002136797644197941, 0.0008399141952395439, 0.0014605148462578654, 0.0018514590337872505, 0.001054856926202774, 0.0023699940647929907, 0.005594432353973389, 0.0010603987611830235, 0.013600274920463562, 0.021973980590701103, 0.007415838539600372]}\n",
       "    )\n",
       "    </script>"
      ],
      "text/plain": [
       "<circuitsvis.utils.render.RenderedHTML at 0x7f58dc3e2510>"
      ]
     },
     "metadata": {},
     "output_type": "display_data"
    },
    {
     "name": "stdout",
     "output_type": "stream",
     "text": [
      "--------------------------------------------------------------------------------\n",
      "layer=66\n"
     ]
    },
    {
     "data": {
      "text/html": [
       "<div id=\"circuits-vis-285b1f56-dd13\" style=\"margin: 15px 0;\"/>\n",
       "    <script crossorigin type=\"module\">\n",
       "    import { render, ColoredTokens } from \"https://unpkg.com/circuitsvis@1.43.3/dist/cdn/esm.js\";\n",
       "    render(\n",
       "      \"circuits-vis-285b1f56-dd13\",\n",
       "      ColoredTokens,\n",
       "      {\"tokens\": [\"Which\", \" person\", \" from\", \" the\", \" following\", \" list\", \" has\", \" the\", \" profession\", \" in\", \" common\", \" with\", \" Ed\", \" She\", \"er\", \"an\", \"?\\n\", \"Options\", \":\", \" G\", \"reta\", \" Ger\", \"wig\", \",\", \" Hillary\", \" Clinton\", \",\", \" Kanye\", \" West\", \",\", \" Nicholas\", \" Sparks\", \",\", \" Stephen\", \" Curry\", \",\", \" Phil\", \" Mick\", \"elson\", \"\\n\", \"Ans\", \":\"], \"values\": [0.012680821120738983, 0.0015264376997947693, 0.0011397600173950195, 0.001336514949798584, 0.001177709549665451, 0.000992517452687025, 0.0009365917649120092, 0.00045972270891070366, 0.0013408157974481583, 0.0005472730845212936, 0.002279125154018402, 0.0012465380132198334, 0.003912929445505142, 0.008290547877550125, 0.004547692835330963, 0.002387002110481262, 0.008877098560333252, 0.0032507851719856262, 0.002701256424188614, 0.001043856143951416, 0.0018006619065999985, 0.0032648369669914246, 0.0015425384044647217, 0.0016877837479114532, 0.0012285597622394562, 0.0012917052954435349, 0.0009640753269195557, 0.002890288829803467, 0.0020550284534692764, 0.0012760013341903687, 0.0018771849572658539, 0.0018660202622413635, 0.001184411346912384, 0.0012319907546043396, 0.0017122402787208557, 0.0014102496206760406, 0.0019026268273591995, 0.0067160464823246, 0.0013678614050149918, 0.015834391117095947, 0.07848167419433594, 0.05240873247385025]}\n",
       "    )\n",
       "    </script>"
      ],
      "text/plain": [
       "<circuitsvis.utils.render.RenderedHTML at 0x7f58bc50fb50>"
      ]
     },
     "metadata": {},
     "output_type": "display_data"
    },
    {
     "name": "stdout",
     "output_type": "stream",
     "text": [
      "--------------------------------------------------------------------------------\n",
      "layer=67\n"
     ]
    },
    {
     "data": {
      "text/html": [
       "<div id=\"circuits-vis-fa621473-ad31\" style=\"margin: 15px 0;\"/>\n",
       "    <script crossorigin type=\"module\">\n",
       "    import { render, ColoredTokens } from \"https://unpkg.com/circuitsvis@1.43.3/dist/cdn/esm.js\";\n",
       "    render(\n",
       "      \"circuits-vis-fa621473-ad31\",\n",
       "      ColoredTokens,\n",
       "      {\"tokens\": [\"Which\", \" person\", \" from\", \" the\", \" following\", \" list\", \" has\", \" the\", \" profession\", \" in\", \" common\", \" with\", \" Ed\", \" She\", \"er\", \"an\", \"?\\n\", \"Options\", \":\", \" G\", \"reta\", \" Ger\", \"wig\", \",\", \" Hillary\", \" Clinton\", \",\", \" Kanye\", \" West\", \",\", \" Nicholas\", \" Sparks\", \",\", \" Stephen\", \" Curry\", \",\", \" Phil\", \" Mick\", \"elson\", \"\\n\", \"Ans\", \":\"], \"values\": [0.011263296008110046, 0.006875216960906982, 0.003712184727191925, 0.0033214762806892395, 0.006170816719532013, 0.0030667930841445923, 0.003261788748204708, 0.0014122430002316833, 0.004255890846252441, 0.0014118291437625885, 0.009612839668989182, 0.003761105239391327, 0.02611876279115677, 0.011062324047088623, 0.007970444858074188, 0.008286580443382263, 0.02746652066707611, 0.010211378335952759, 0.005076088011264801, 0.0036400705575942993, 0.0034918002784252167, 0.0018956288695335388, 0.005882889032363892, 0.00517427921295166, 0.04418903961777687, 0.003306284546852112, 0.0030440911650657654, 0.18021130561828613, 0.0058103278279304504, 0.005152590572834015, 0.019635025411844254, 0.003325529396533966, 0.010077236220240593, 0.005100429058074951, 0.009004369378089905, 0.005519859492778778, 0.0037462562322616577, 0.004024595022201538, 0.0025112442672252655, 0.048070698976516724, 0.14392590522766113, 0.052520886063575745]}\n",
       "    )\n",
       "    </script>"
      ],
      "text/plain": [
       "<circuitsvis.utils.render.RenderedHTML at 0x7f58dc5c5d10>"
      ]
     },
     "metadata": {},
     "output_type": "display_data"
    },
    {
     "name": "stdout",
     "output_type": "stream",
     "text": [
      "--------------------------------------------------------------------------------\n",
      "layer=68\n"
     ]
    },
    {
     "data": {
      "text/html": [
       "<div id=\"circuits-vis-3aa4bcf9-c691\" style=\"margin: 15px 0;\"/>\n",
       "    <script crossorigin type=\"module\">\n",
       "    import { render, ColoredTokens } from \"https://unpkg.com/circuitsvis@1.43.3/dist/cdn/esm.js\";\n",
       "    render(\n",
       "      \"circuits-vis-3aa4bcf9-c691\",\n",
       "      ColoredTokens,\n",
       "      {\"tokens\": [\"Which\", \" person\", \" from\", \" the\", \" following\", \" list\", \" has\", \" the\", \" profession\", \" in\", \" common\", \" with\", \" Ed\", \" She\", \"er\", \"an\", \"?\\n\", \"Options\", \":\", \" G\", \"reta\", \" Ger\", \"wig\", \",\", \" Hillary\", \" Clinton\", \",\", \" Kanye\", \" West\", \",\", \" Nicholas\", \" Sparks\", \",\", \" Stephen\", \" Curry\", \",\", \" Phil\", \" Mick\", \"elson\", \"\\n\", \"Ans\", \":\"], \"values\": [0.02034240961074829, 0.019585058093070984, 0.009214147925376892, 0.006675228476524353, 0.00443267822265625, 0.004409283399581909, 0.005129605531692505, 0.0033567026257514954, 0.00972069799900055, 0.00527084618806839, 0.006966114044189453, 0.0065145343542099, 0.031846702098846436, 0.04210233688354492, 0.03127595782279968, 0.010171845555305481, 0.0347672700881958, 0.031212210655212402, 0.010358467698097229, 0.022426187992095947, 0.012275204062461853, 0.012214720249176025, 0.004570335149765015, 0.010647974908351898, 0.03395204246044159, 0.004214480519294739, 0.006496921181678772, 0.17329742014408112, 0.015603914856910706, 0.008553668856620789, 0.08403971046209335, 0.009519554674625397, 0.031110692769289017, 0.023806437849998474, 0.012487858533859253, 0.019822925329208374, 0.017177432775497437, 0.01038593053817749, 0.004559911787509918, 0.042308300733566284, 0.12311673164367676, 0.06926536560058594]}\n",
       "    )\n",
       "    </script>"
      ],
      "text/plain": [
       "<circuitsvis.utils.render.RenderedHTML at 0x7f58bc32e150>"
      ]
     },
     "metadata": {},
     "output_type": "display_data"
    },
    {
     "name": "stdout",
     "output_type": "stream",
     "text": [
      "--------------------------------------------------------------------------------\n",
      "layer=69\n"
     ]
    },
    {
     "data": {
      "text/html": [
       "<div id=\"circuits-vis-82f9abd1-ef35\" style=\"margin: 15px 0;\"/>\n",
       "    <script crossorigin type=\"module\">\n",
       "    import { render, ColoredTokens } from \"https://unpkg.com/circuitsvis@1.43.3/dist/cdn/esm.js\";\n",
       "    render(\n",
       "      \"circuits-vis-82f9abd1-ef35\",\n",
       "      ColoredTokens,\n",
       "      {\"tokens\": [\"Which\", \" person\", \" from\", \" the\", \" following\", \" list\", \" has\", \" the\", \" profession\", \" in\", \" common\", \" with\", \" Ed\", \" She\", \"er\", \"an\", \"?\\n\", \"Options\", \":\", \" G\", \"reta\", \" Ger\", \"wig\", \",\", \" Hillary\", \" Clinton\", \",\", \" Kanye\", \" West\", \",\", \" Nicholas\", \" Sparks\", \",\", \" Stephen\", \" Curry\", \",\", \" Phil\", \" Mick\", \"elson\", \"\\n\", \"Ans\", \":\"], \"values\": [0.01477918028831482, 0.0026457011699676514, 0.0017076432704925537, 0.0018576085567474365, 0.0015736296772956848, 0.0013500917702913284, 0.0009676478803157806, 0.0006247814744710922, 0.001561783254146576, 0.0008139852434396744, 0.002712652087211609, 0.0016391836106777191, 0.0029849857091903687, 0.004870101809501648, 0.003915712237358093, 0.0019521936774253845, 0.013215780258178711, 0.011601947247982025, 0.012870721518993378, 0.001783907413482666, 0.0014686249196529388, 0.004354193806648254, 0.0015060938894748688, 0.0035724379122257233, 0.0013124719262123108, 0.0009212307631969452, 0.0013726763427257538, 0.0030296314507722855, 0.0017762556672096252, 0.0018236562609672546, 0.0015354081988334656, 0.0019871369004249573, 0.001379493623971939, 0.0021138153970241547, 0.0018337741494178772, 0.001844063401222229, 0.0015881210565567017, 0.002256864681839943, 0.001054493710398674, 0.02162379026412964, 0.10716438293457031, 0.05856364965438843]}\n",
       "    )\n",
       "    </script>"
      ],
      "text/plain": [
       "<circuitsvis.utils.render.RenderedHTML at 0x7f5965021fd0>"
      ]
     },
     "metadata": {},
     "output_type": "display_data"
    },
    {
     "name": "stdout",
     "output_type": "stream",
     "text": [
      "--------------------------------------------------------------------------------\n",
      "layer=70\n"
     ]
    },
    {
     "data": {
      "text/html": [
       "<div id=\"circuits-vis-ca0605e9-3193\" style=\"margin: 15px 0;\"/>\n",
       "    <script crossorigin type=\"module\">\n",
       "    import { render, ColoredTokens } from \"https://unpkg.com/circuitsvis@1.43.3/dist/cdn/esm.js\";\n",
       "    render(\n",
       "      \"circuits-vis-ca0605e9-3193\",\n",
       "      ColoredTokens,\n",
       "      {\"tokens\": [\"Which\", \" person\", \" from\", \" the\", \" following\", \" list\", \" has\", \" the\", \" profession\", \" in\", \" common\", \" with\", \" Ed\", \" She\", \"er\", \"an\", \"?\\n\", \"Options\", \":\", \" G\", \"reta\", \" Ger\", \"wig\", \",\", \" Hillary\", \" Clinton\", \",\", \" Kanye\", \" West\", \",\", \" Nicholas\", \" Sparks\", \",\", \" Stephen\", \" Curry\", \",\", \" Phil\", \" Mick\", \"elson\", \"\\n\", \"Ans\", \":\"], \"values\": [0.008912071585655212, 0.003772541880607605, 0.002357169985771179, 0.0025200247764587402, 0.002395430114120245, 0.002112380927428603, 0.0019603180699050426, 0.0007378214504569769, 0.0022714100778102875, 0.0012633837759494781, 0.0034510567784309387, 0.0030771861784160137, 0.004770902916789055, 0.009031941182911396, 0.007793467491865158, 0.008742883801460266, 0.01958325505256653, 0.007377989590167999, 0.006309530697762966, 0.002420540899038315, 0.0028427261859178543, 0.005212083458900452, 0.00539281964302063, 0.004011906683444977, 0.0025075478479266167, 0.003508094698190689, 0.0020228736102581024, 0.0060243159532547, 0.003855586051940918, 0.0024152807891368866, 0.002492079511284828, 0.004810401238501072, 0.0018437020480632782, 0.0022866427898406982, 0.006167404353618622, 0.0023023011162877083, 0.0027258526533842087, 0.003436350030824542, 0.003454107791185379, 0.036207616329193115, 0.16331887245178223, 0.08797663450241089]}\n",
       "    )\n",
       "    </script>"
      ],
      "text/plain": [
       "<circuitsvis.utils.render.RenderedHTML at 0x7f591c1637d0>"
      ]
     },
     "metadata": {},
     "output_type": "display_data"
    },
    {
     "name": "stdout",
     "output_type": "stream",
     "text": [
      "--------------------------------------------------------------------------------\n",
      "layer=71\n"
     ]
    },
    {
     "data": {
      "text/html": [
       "<div id=\"circuits-vis-10427484-cf00\" style=\"margin: 15px 0;\"/>\n",
       "    <script crossorigin type=\"module\">\n",
       "    import { render, ColoredTokens } from \"https://unpkg.com/circuitsvis@1.43.3/dist/cdn/esm.js\";\n",
       "    render(\n",
       "      \"circuits-vis-10427484-cf00\",\n",
       "      ColoredTokens,\n",
       "      {\"tokens\": [\"Which\", \" person\", \" from\", \" the\", \" following\", \" list\", \" has\", \" the\", \" profession\", \" in\", \" common\", \" with\", \" Ed\", \" She\", \"er\", \"an\", \"?\\n\", \"Options\", \":\", \" G\", \"reta\", \" Ger\", \"wig\", \",\", \" Hillary\", \" Clinton\", \",\", \" Kanye\", \" West\", \",\", \" Nicholas\", \" Sparks\", \",\", \" Stephen\", \" Curry\", \",\", \" Phil\", \" Mick\", \"elson\", \"\\n\", \"Ans\", \":\"], \"values\": [0.014006614685058594, 0.01035936176776886, 0.005823075771331787, 0.00464378297328949, 0.003509161062538624, 0.00242861220613122, 0.006878483109176159, 0.002084961626678705, 0.01495111733675003, 0.004254061728715897, 0.020850345492362976, 0.00754203787073493, 0.007306664250791073, 0.008745819330215454, 0.020764321088790894, 0.016646752133965492, 0.03239521384239197, 0.009448306635022163, 0.01616404578089714, 0.006166856270283461, 0.008612239733338356, 0.004056565463542938, 0.007437705993652344, 0.007788307964801788, 0.011171765625476837, 0.004145897924900055, 0.006445106118917465, 0.029953688383102417, 0.008671090006828308, 0.006853081285953522, 0.009178582578897476, 0.013474822044372559, 0.0078062452375888824, 0.008195728063583374, 0.01884756237268448, 0.006662795320153236, 0.010687083005905151, 0.004973903298377991, 0.004982858896255493, 0.045669734477996826, 0.18498659133911133, 0.14324474334716797]}\n",
       "    )\n",
       "    </script>"
      ],
      "text/plain": [
       "<circuitsvis.utils.render.RenderedHTML at 0x7f58bc32f750>"
      ]
     },
     "metadata": {},
     "output_type": "display_data"
    },
    {
     "name": "stdout",
     "output_type": "stream",
     "text": [
      "--------------------------------------------------------------------------------\n",
      "layer=72\n"
     ]
    },
    {
     "data": {
      "text/html": [
       "<div id=\"circuits-vis-b2f052d4-1e60\" style=\"margin: 15px 0;\"/>\n",
       "    <script crossorigin type=\"module\">\n",
       "    import { render, ColoredTokens } from \"https://unpkg.com/circuitsvis@1.43.3/dist/cdn/esm.js\";\n",
       "    render(\n",
       "      \"circuits-vis-b2f052d4-1e60\",\n",
       "      ColoredTokens,\n",
       "      {\"tokens\": [\"Which\", \" person\", \" from\", \" the\", \" following\", \" list\", \" has\", \" the\", \" profession\", \" in\", \" common\", \" with\", \" Ed\", \" She\", \"er\", \"an\", \"?\\n\", \"Options\", \":\", \" G\", \"reta\", \" Ger\", \"wig\", \",\", \" Hillary\", \" Clinton\", \",\", \" Kanye\", \" West\", \",\", \" Nicholas\", \" Sparks\", \",\", \" Stephen\", \" Curry\", \",\", \" Phil\", \" Mick\", \"elson\", \"\\n\", \"Ans\", \":\"], \"values\": [0.02986857295036316, 0.016699105501174927, 0.010910511016845703, 0.0075393617153167725, 0.0040482282638549805, 0.0030512316152453423, 0.007550256792455912, 0.0027800537645816803, 0.005578428506851196, 0.006504923105239868, 0.006584674119949341, 0.006167709827423096, 0.05227343365550041, 0.028219163417816162, 0.017921805381774902, 0.015437483787536621, 0.0619502067565918, 0.026873618364334106, 0.01571783423423767, 0.04208283871412277, 0.02303232252597809, 0.0029586702585220337, 0.010515391826629639, 0.012840941548347473, 0.02582336962223053, 0.00656534731388092, 0.006145089864730835, 0.04847989231348038, 0.009592592716217041, 0.008698329329490662, 0.03514845669269562, 0.014691680669784546, 0.014850303530693054, 0.029196113348007202, 0.016788065433502197, 0.013991683721542358, 0.013334996998310089, 0.006801977753639221, 0.009072184562683105, 0.07699775695800781, 0.22530221939086914, 0.16155719757080078]}\n",
       "    )\n",
       "    </script>"
      ],
      "text/plain": [
       "<circuitsvis.utils.render.RenderedHTML at 0x7f591c1637d0>"
      ]
     },
     "metadata": {},
     "output_type": "display_data"
    },
    {
     "name": "stdout",
     "output_type": "stream",
     "text": [
      "--------------------------------------------------------------------------------\n",
      "layer=73\n"
     ]
    },
    {
     "data": {
      "text/html": [
       "<div id=\"circuits-vis-05949e41-41bf\" style=\"margin: 15px 0;\"/>\n",
       "    <script crossorigin type=\"module\">\n",
       "    import { render, ColoredTokens } from \"https://unpkg.com/circuitsvis@1.43.3/dist/cdn/esm.js\";\n",
       "    render(\n",
       "      \"circuits-vis-05949e41-41bf\",\n",
       "      ColoredTokens,\n",
       "      {\"tokens\": [\"Which\", \" person\", \" from\", \" the\", \" following\", \" list\", \" has\", \" the\", \" profession\", \" in\", \" common\", \" with\", \" Ed\", \" She\", \"er\", \"an\", \"?\\n\", \"Options\", \":\", \" G\", \"reta\", \" Ger\", \"wig\", \",\", \" Hillary\", \" Clinton\", \",\", \" Kanye\", \" West\", \",\", \" Nicholas\", \" Sparks\", \",\", \" Stephen\", \" Curry\", \",\", \" Phil\", \" Mick\", \"elson\", \"\\n\", \"Ans\", \":\"], \"values\": [0.028899729251861572, 0.02191205322742462, 0.008975505828857422, 0.0041773319244384766, 0.004460513591766357, 0.005449060350656509, 0.004313018172979355, 0.0020501501858234406, 0.013666391372680664, 0.00515398383140564, 0.013083338737487793, 0.006626427173614502, 0.03782888501882553, 0.01189681887626648, 0.011148214340209961, 0.012581631541252136, 0.03555828332901001, 0.052314698696136475, 0.014924466609954834, 0.011675909161567688, 0.02903057634830475, 0.015689164400100708, 0.007677018642425537, 0.007526814937591553, 0.044292151927948, 0.009905904531478882, 0.004195407032966614, 0.12671346962451935, 0.03218907117843628, 0.00639013946056366, 0.10548874735832214, 0.024841949343681335, 0.016839444637298584, 0.07292577624320984, 0.021165847778320312, 0.013165533542633057, 0.04173285514116287, 0.01183396577835083, 0.00759434700012207, 0.05786752700805664, 0.1589035987854004, 0.10599946975708008]}\n",
       "    )\n",
       "    </script>"
      ],
      "text/plain": [
       "<circuitsvis.utils.render.RenderedHTML at 0x7f58bc52c950>"
      ]
     },
     "metadata": {},
     "output_type": "display_data"
    },
    {
     "name": "stdout",
     "output_type": "stream",
     "text": [
      "--------------------------------------------------------------------------------\n",
      "layer=74\n"
     ]
    },
    {
     "data": {
      "text/html": [
       "<div id=\"circuits-vis-e5682617-c4dd\" style=\"margin: 15px 0;\"/>\n",
       "    <script crossorigin type=\"module\">\n",
       "    import { render, ColoredTokens } from \"https://unpkg.com/circuitsvis@1.43.3/dist/cdn/esm.js\";\n",
       "    render(\n",
       "      \"circuits-vis-e5682617-c4dd\",\n",
       "      ColoredTokens,\n",
       "      {\"tokens\": [\"Which\", \" person\", \" from\", \" the\", \" following\", \" list\", \" has\", \" the\", \" profession\", \" in\", \" common\", \" with\", \" Ed\", \" She\", \"er\", \"an\", \"?\\n\", \"Options\", \":\", \" G\", \"reta\", \" Ger\", \"wig\", \",\", \" Hillary\", \" Clinton\", \",\", \" Kanye\", \" West\", \",\", \" Nicholas\", \" Sparks\", \",\", \" Stephen\", \" Curry\", \",\", \" Phil\", \" Mick\", \"elson\", \"\\n\", \"Ans\", \":\"], \"values\": [0.018147945404052734, 0.018637631088495255, 0.007201381027698517, 0.0048542506992816925, 0.006030164659023285, 0.006464754696935415, 0.00640419265255332, 0.0028627272695302963, 0.00689772330224514, 0.005380525253713131, 0.010751452296972275, 0.006979080848395824, 0.012729914858937263, 0.01377968117594719, 0.016360998153686523, 0.01999698579311371, 0.03272312879562378, 0.015379033982753754, 0.01857094280421734, 0.014005192555487156, 0.00953374058008194, 0.006760329008102417, 0.009413041174411774, 0.009128471836447716, 0.017752883955836296, 0.006685934960842133, 0.0054384870454669, 0.032298073172569275, 0.011739172041416168, 0.0069122835993766785, 0.011730922386050224, 0.011836796998977661, 0.008567305281758308, 0.0065140556544065475, 0.011641763150691986, 0.00766286626458168, 0.006419416517019272, 0.010097775608301163, 0.009168744087219238, 0.06261610984802246, 0.28467074036598206, 0.1978377103805542]}\n",
       "    )\n",
       "    </script>"
      ],
      "text/plain": [
       "<circuitsvis.utils.render.RenderedHTML at 0x7f58dc512e10>"
      ]
     },
     "metadata": {},
     "output_type": "display_data"
    },
    {
     "name": "stdout",
     "output_type": "stream",
     "text": [
      "--------------------------------------------------------------------------------\n",
      "layer=75\n"
     ]
    },
    {
     "data": {
      "text/html": [
       "<div id=\"circuits-vis-863bebc0-c461\" style=\"margin: 15px 0;\"/>\n",
       "    <script crossorigin type=\"module\">\n",
       "    import { render, ColoredTokens } from \"https://unpkg.com/circuitsvis@1.43.3/dist/cdn/esm.js\";\n",
       "    render(\n",
       "      \"circuits-vis-863bebc0-c461\",\n",
       "      ColoredTokens,\n",
       "      {\"tokens\": [\"Which\", \" person\", \" from\", \" the\", \" following\", \" list\", \" has\", \" the\", \" profession\", \" in\", \" common\", \" with\", \" Ed\", \" She\", \"er\", \"an\", \"?\\n\", \"Options\", \":\", \" G\", \"reta\", \" Ger\", \"wig\", \",\", \" Hillary\", \" Clinton\", \",\", \" Kanye\", \" West\", \",\", \" Nicholas\", \" Sparks\", \",\", \" Stephen\", \" Curry\", \",\", \" Phil\", \" Mick\", \"elson\", \"\\n\", \"Ans\", \":\"], \"values\": [0.014994189143180847, 0.01226806640625, 0.008038818836212158, 0.006747901439666748, 0.007922915741801262, 0.004909811541438103, 0.004836822394281626, 0.002679285127669573, 0.009463634341955185, 0.007231384515762329, 0.020343035459518433, 0.012386685237288475, 0.017014887183904648, 0.018134478479623795, 0.0394262969493866, 0.05253739655017853, 0.08151596784591675, 0.02106352150440216, 0.036406196653842926, 0.01325981318950653, 0.00899931788444519, 0.00411929190158844, 0.02888612449169159, 0.01871350035071373, 0.009296119213104248, 0.010220440104603767, 0.010934337973594666, 0.02942638099193573, 0.022135362029075623, 0.011183860711753368, 0.011147473938763142, 0.028406253084540367, 0.010243579745292664, 0.011026516556739807, 0.024091780185699463, 0.01022846344858408, 0.008804626762866974, 0.008853986859321594, 0.01365891844034195, 0.12389189004898071, 0.2968440055847168, 0.38488543033599854]}\n",
       "    )\n",
       "    </script>"
      ],
      "text/plain": [
       "<circuitsvis.utils.render.RenderedHTML at 0x7f58bc50fb50>"
      ]
     },
     "metadata": {},
     "output_type": "display_data"
    },
    {
     "name": "stdout",
     "output_type": "stream",
     "text": [
      "--------------------------------------------------------------------------------\n",
      "layer=76\n"
     ]
    },
    {
     "data": {
      "text/html": [
       "<div id=\"circuits-vis-2faf0ae9-88c0\" style=\"margin: 15px 0;\"/>\n",
       "    <script crossorigin type=\"module\">\n",
       "    import { render, ColoredTokens } from \"https://unpkg.com/circuitsvis@1.43.3/dist/cdn/esm.js\";\n",
       "    render(\n",
       "      \"circuits-vis-2faf0ae9-88c0\",\n",
       "      ColoredTokens,\n",
       "      {\"tokens\": [\"Which\", \" person\", \" from\", \" the\", \" following\", \" list\", \" has\", \" the\", \" profession\", \" in\", \" common\", \" with\", \" Ed\", \" She\", \"er\", \"an\", \"?\\n\", \"Options\", \":\", \" G\", \"reta\", \" Ger\", \"wig\", \",\", \" Hillary\", \" Clinton\", \",\", \" Kanye\", \" West\", \",\", \" Nicholas\", \" Sparks\", \",\", \" Stephen\", \" Curry\", \",\", \" Phil\", \" Mick\", \"elson\", \"\\n\", \"Ans\", \":\"], \"values\": [0.019515186548233032, 0.02342122793197632, 0.006740093231201172, 0.005093574523925781, 0.0071769654750823975, 0.005301833152770996, 0.003985529765486717, 0.0024560587480664253, 0.010001763701438904, 0.005293518304824829, 0.0076059699058532715, 0.0037928223609924316, 0.018864430487155914, 0.007277697324752808, 0.008248791098594666, 0.012751504778862, 0.044303178787231445, 0.043707430362701416, 0.020977705717086792, 0.045982055366039276, 0.01076841726899147, 0.008099868893623352, 0.009398818016052246, 0.008045881986618042, 0.011509314179420471, 0.005984395742416382, 0.0032160133123397827, 0.012534067034721375, 0.007213294506072998, 0.004754751920700073, 0.013651996850967407, 0.008962303400039673, 0.00469537079334259, 0.009553976356983185, 0.01023586094379425, 0.005714684724807739, 0.009042218327522278, 0.004489496350288391, 0.008945833891630173, 0.09528112411499023, 0.1891193389892578, 0.17151927947998047]}\n",
       "    )\n",
       "    </script>"
      ],
      "text/plain": [
       "<circuitsvis.utils.render.RenderedHTML at 0x7f591c1637d0>"
      ]
     },
     "metadata": {},
     "output_type": "display_data"
    },
    {
     "name": "stdout",
     "output_type": "stream",
     "text": [
      "--------------------------------------------------------------------------------\n",
      "layer=77\n"
     ]
    },
    {
     "data": {
      "text/html": [
       "<div id=\"circuits-vis-7891b5a5-472e\" style=\"margin: 15px 0;\"/>\n",
       "    <script crossorigin type=\"module\">\n",
       "    import { render, ColoredTokens } from \"https://unpkg.com/circuitsvis@1.43.3/dist/cdn/esm.js\";\n",
       "    render(\n",
       "      \"circuits-vis-7891b5a5-472e\",\n",
       "      ColoredTokens,\n",
       "      {\"tokens\": [\"Which\", \" person\", \" from\", \" the\", \" following\", \" list\", \" has\", \" the\", \" profession\", \" in\", \" common\", \" with\", \" Ed\", \" She\", \"er\", \"an\", \"?\\n\", \"Options\", \":\", \" G\", \"reta\", \" Ger\", \"wig\", \",\", \" Hillary\", \" Clinton\", \",\", \" Kanye\", \" West\", \",\", \" Nicholas\", \" Sparks\", \",\", \" Stephen\", \" Curry\", \",\", \" Phil\", \" Mick\", \"elson\", \"\\n\", \"Ans\", \":\"], \"values\": [0.02938351035118103, 0.024034783244132996, 0.013299822807312012, 0.0056111812591552734, 0.008524298667907715, 0.005858942866325378, 0.006462156772613525, 0.0038565993309020996, 0.00988033413887024, 0.012103289365768433, 0.010986685752868652, 0.015595078468322754, 0.07740093022584915, 0.030817419290542603, 0.0198136568069458, 0.023742645978927612, 0.07310342788696289, 0.06112658977508545, 0.022177815437316895, 0.03952782601118088, 0.012743040919303894, 0.01899254322052002, 0.008628129959106445, 0.01086050271987915, 0.022898539900779724, 0.008314117789268494, 0.006118297576904297, 0.04845285415649414, 0.019599854946136475, 0.007429540157318115, 0.023852169513702393, 0.013585418462753296, 0.007689371705055237, 0.0174248069524765, 0.01413165032863617, 0.00738602876663208, 0.037350475788116455, 0.007830396294593811, 0.008329629898071289, 0.10935068130493164, 0.32816457748413086, 0.2615067958831787]}\n",
       "    )\n",
       "    </script>"
      ],
      "text/plain": [
       "<circuitsvis.utils.render.RenderedHTML at 0x7f58dc3e4650>"
      ]
     },
     "metadata": {},
     "output_type": "display_data"
    },
    {
     "name": "stdout",
     "output_type": "stream",
     "text": [
      "--------------------------------------------------------------------------------\n",
      "layer=78\n"
     ]
    },
    {
     "data": {
      "text/html": [
       "<div id=\"circuits-vis-020c3d0b-70c0\" style=\"margin: 15px 0;\"/>\n",
       "    <script crossorigin type=\"module\">\n",
       "    import { render, ColoredTokens } from \"https://unpkg.com/circuitsvis@1.43.3/dist/cdn/esm.js\";\n",
       "    render(\n",
       "      \"circuits-vis-020c3d0b-70c0\",\n",
       "      ColoredTokens,\n",
       "      {\"tokens\": [\"Which\", \" person\", \" from\", \" the\", \" following\", \" list\", \" has\", \" the\", \" profession\", \" in\", \" common\", \" with\", \" Ed\", \" She\", \"er\", \"an\", \"?\\n\", \"Options\", \":\", \" G\", \"reta\", \" Ger\", \"wig\", \",\", \" Hillary\", \" Clinton\", \",\", \" Kanye\", \" West\", \",\", \" Nicholas\", \" Sparks\", \",\", \" Stephen\", \" Curry\", \",\", \" Phil\", \" Mick\", \"elson\", \"\\n\", \"Ans\", \":\"], \"values\": [0.020507752895355225, 0.022036965936422348, 0.00824311375617981, 0.0063460469245910645, 0.008927613496780396, 0.009882625192403793, 0.00629819929599762, 0.003837345167994499, 0.016266047954559326, 0.0055911242961883545, 0.01135183870792389, 0.007674276828765869, 0.015874821692705154, 0.015237938612699509, 0.012604326009750366, 0.02612563967704773, 0.054100990295410156, 0.049645185470581055, 0.01972872018814087, 0.010619204491376877, 0.009208191186189651, 0.00441935658454895, 0.01919567584991455, 0.009538739919662476, 0.02351035550236702, 0.007214188575744629, 0.005338132381439209, 0.024913549423217773, 0.010531008243560791, 0.005949556827545166, 0.03550316393375397, 0.012599080801010132, 0.008231133222579956, 0.05889296531677246, 0.012718021869659424, 0.008339643478393555, 0.018271833658218384, 0.005373910069465637, 0.012064725160598755, 0.14895319938659668, 0.35357117652893066, 0.31581830978393555]}\n",
       "    )\n",
       "    </script>"
      ],
      "text/plain": [
       "<circuitsvis.utils.render.RenderedHTML at 0x7f5964123c50>"
      ]
     },
     "metadata": {},
     "output_type": "display_data"
    },
    {
     "name": "stdout",
     "output_type": "stream",
     "text": [
      "--------------------------------------------------------------------------------\n",
      "layer=79\n"
     ]
    },
    {
     "data": {
      "text/html": [
       "<div id=\"circuits-vis-e6510d58-3874\" style=\"margin: 15px 0;\"/>\n",
       "    <script crossorigin type=\"module\">\n",
       "    import { render, ColoredTokens } from \"https://unpkg.com/circuitsvis@1.43.3/dist/cdn/esm.js\";\n",
       "    render(\n",
       "      \"circuits-vis-e6510d58-3874\",\n",
       "      ColoredTokens,\n",
       "      {\"tokens\": [\"Which\", \" person\", \" from\", \" the\", \" following\", \" list\", \" has\", \" the\", \" profession\", \" in\", \" common\", \" with\", \" Ed\", \" She\", \"er\", \"an\", \"?\\n\", \"Options\", \":\", \" G\", \"reta\", \" Ger\", \"wig\", \",\", \" Hillary\", \" Clinton\", \",\", \" Kanye\", \" West\", \",\", \" Nicholas\", \" Sparks\", \",\", \" Stephen\", \" Curry\", \",\", \" Phil\", \" Mick\", \"elson\", \"\\n\", \"Ans\", \":\"], \"values\": [0.01777997612953186, 0.006840880960226059, 0.007610395550727844, 0.006304711103439331, 0.0056319814175367355, 0.004909199196845293, 0.0034958142787218094, 0.00276746554300189, 0.004059189930558205, 0.0031551867723464966, 0.006306798662990332, 0.0055951885879039764, 0.007381133735179901, 0.00848400592803955, 0.017379753291606903, 0.01258693914860487, 0.032491713762283325, 0.017359495162963867, 0.010163724422454834, 0.00681634247303009, 0.006564032286405563, 0.004103377461433411, 0.00890909880399704, 0.006515070796012878, 0.005185931921005249, 0.006050974130630493, 0.0035639330744743347, 0.0062537044286727905, 0.007430896162986755, 0.003827713429927826, 0.00502622127532959, 0.009510114789009094, 0.003250114619731903, 0.004245057702064514, 0.010791093111038208, 0.004559427499771118, 0.005602285265922546, 0.005716480314731598, 0.010966449975967407, 0.09752547740936279, 0.13361310958862305, 0.2176232933998108]}\n",
       "    )\n",
       "    </script>"
      ],
      "text/plain": [
       "<circuitsvis.utils.render.RenderedHTML at 0x7f58bc572550>"
      ]
     },
     "metadata": {},
     "output_type": "display_data"
    },
    {
     "name": "stdout",
     "output_type": "stream",
     "text": [
      "--------------------------------------------------------------------------------\n"
     ]
    }
   ],
   "source": [
    "from src.attention import visualize_average_attn_matrix\n",
    "\n",
    "visualize_average_attn_matrix(\n",
    "    mt=mt,\n",
    "    attn_matrices=attn_matrices,\n",
    "    prompt = sample.prompt,\n",
    "    tokenized=tokenized,\n",
    "    layer_window=range(0, mt.n_layer, 1)\n",
    ")"
   ]
  },
  {
   "cell_type": "markdown",
   "id": "12432180",
   "metadata": {},
   "source": [
    "## Apply (targetted) Patchscope on different layers"
   ]
  },
  {
   "cell_type": "code",
   "execution_count": 13,
   "id": "fc849848",
   "metadata": {},
   "outputs": [],
   "source": [
    "tokenized = prepare_input(\n",
    "    tokenizer=mt,\n",
    "    prompts=sample.prompt,\n",
    "    return_offsets_mapping=True,\n",
    ")\n",
    "offset_mapping = tokenized.pop(\"offset_mapping\")[0]\n"
   ]
  },
  {
   "cell_type": "code",
   "execution_count": 14,
   "id": "23179e7e",
   "metadata": {},
   "outputs": [
    {
     "name": "stdout",
     "output_type": "stream",
     "text": [
      "subj_range=(13, 15) | \" Trevor Noah\"\n",
      "option_range=(18, 20) | \" Zion Williamson\"\n",
      "option_range=(21, 24) | \" John Mulaney\"\n",
      "option_range=(25, 28) | \" Ariana Grande\"\n",
      "option_range=(29, 31) | \" Joe Scarborough\"\n",
      "option_range=(32, 36) | \" Andrey Rublev\"\n",
      "option_range=(37, 41) | \" Samuel L. Jackson\"\n"
     ]
    }
   ],
   "source": [
    "from src.tokens import find_token_range\n",
    "\n",
    "subj_range = find_token_range(\n",
    "    string=sample.prompt,\n",
    "    substring=sample.subj,\n",
    "    offset_mapping=offset_mapping,\n",
    "    tokenizer=mt,\n",
    "    occurrence=-1,\n",
    ")\n",
    "\n",
    "print(\n",
    "    f'{subj_range=} | \"{mt.tokenizer.decode(tokenized.input_ids[0][range(*subj_range)])}\"'\n",
    ")\n",
    "\n",
    "option_ranges = []\n",
    "\n",
    "for option in sample.options:\n",
    "    option_range = find_token_range(\n",
    "        string=sample.prompt,\n",
    "        substring=option,\n",
    "        offset_mapping=offset_mapping,\n",
    "        tokenizer=mt,\n",
    "        occurrence=-1,\n",
    "    )\n",
    "    print(\n",
    "        f'{option_range=} | \"{mt.tokenizer.decode(tokenized.input_ids[0][range(*option_range)])}\"'\n",
    "    )\n",
    "    option_ranges.append(option_range)"
   ]
  },
  {
   "cell_type": "code",
   "execution_count": 15,
   "id": "b26c79f3",
   "metadata": {},
   "outputs": [
    {
     "name": "stdout",
     "output_type": "stream",
     "text": [
      "\n",
      "layer='model.layers.0'\n",
      "\n",
      "\"Ans:\" | cur_rng=(-2, 0)\n",
      "token_idx=-2 [\"Ans\"] => ['\"?\\n\"[p=0.05, l=11.19]', '\" programmer\"[p=0.04, l=11.00]', '\"??\"[p=0.03, l=10.88]', '\"???\"[p=0.03, l=10.75]', '\" software\"[p=0.03, l=10.75]', '\" unknown\"[p=0.03, l=10.62]', '\" student\"[p=0.02, l=10.44]', '\" singer\"[p=0.02, l=10.38]', '\" entrepreneur\"[p=0.02, l=10.38]', '\" artist\"[p=0.02, l=10.38]', '\"?\\n\\n\"[p=0.02, l=10.31]', '\"?\"[p=0.02, l=10.25]', '\" politician\"[p=0.01, l=10.00]', '\" actor\"[p=0.01, l=10.00]', '\" (\"[p=0.01, l=9.94]']\n",
      "token_idx=-1 [\":\"] => ['\"?\\n\"[p=0.22, l=13.75]', '\"?\\n\\n\"[p=0.15, l=13.38]', '\"??\"[p=0.09, l=12.81]', '\"?\"[p=0.08, l=12.75]', '\"???\"[p=0.06, l=12.50]', '\" \\n\"[p=0.02, l=11.56]', '\" lawyer\"[p=0.02, l=11.50]', '\" unknown\"[p=0.01, l=11.00]', '\" artist\"[p=0.01, l=10.75]', '\" politician\"[p=0.01, l=10.62]', '\" software\"[p=0.01, l=10.56]', '\" programmer\"[p=0.01, l=10.50]', '\" (\"[p=0.01, l=10.25]', '\" \"[p=0.01, l=10.25]', '\" \\n\\n\"[p=0.01, l=10.25]']\n",
      "\n",
      "\" Trevor Noah\" | cur_rng=(13, 15)\n",
      "token_idx=13 [\" Trevor\"] => ['\"?\\n\"[p=0.06, l=11.69]', '\" unknown\"[p=0.06, l=11.56]', '\"??\"[p=0.04, l=11.31]', '\"???\"[p=0.04, l=11.12]', '\"?\"[p=0.03, l=11.06]', '\" software\"[p=0.03, l=11.06]', '\" actor\"[p=0.03, l=10.88]', '\"?\\n\\n\"[p=0.03, l=10.88]', '\" programmer\"[p=0.02, l=10.69]', '\" (\"[p=0.01, l=10.19]', '\" student\"[p=0.01, l=10.19]', '\" artist\"[p=0.01, l=10.06]', '\" musician\"[p=0.01, l=10.06]', '\" soccer\"[p=0.01, l=10.00]', '\" no\"[p=0.01, l=10.00]']\n",
      "token_idx=14 [\" Noah\"] => ['\" unknown\"[p=0.06, l=11.56]', '\"?\\n\"[p=0.06, l=11.50]', '\" artist\"[p=0.04, l=11.06]', '\"??\"[p=0.03, l=10.94]', '\" actor\"[p=0.03, l=10.81]', '\" singer\"[p=0.03, l=10.75]', '\"???\"[p=0.02, l=10.62]', '\"?\"[p=0.02, l=10.56]', '\"?\\n\\n\"[p=0.02, l=10.50]', '\" musician\"[p=0.02, l=10.44]', '\" no\"[p=0.02, l=10.38]', '\" software\"[p=0.02, l=10.31]', '\" programmer\"[p=0.02, l=10.31]', '\" student\"[p=0.01, l=10.06]', '\" (\"[p=0.01, l=10.00]']\n",
      "\n",
      "\" Zion Williamson\" | cur_rng=(18, 20)\n",
      "token_idx=18 [\" Zion\"] => ['\"?\\n\"[p=0.04, l=10.56]', '\" programmer\"[p=0.04, l=10.44]', '\"??\"[p=0.04, l=10.38]', '\" unknown\"[p=0.04, l=10.38]', '\" singer\"[p=0.03, l=10.31]', '\" artist\"[p=0.02, l=10.00]', '\" actor\"[p=0.02, l=9.81]', '\"???\"[p=0.02, l=9.75]', '\" musician\"[p=0.02, l=9.75]', '\" software\"[p=0.02, l=9.56]', '\" (\"[p=0.01, l=9.50]', '\"?\"[p=0.01, l=9.50]', '\"?\\n\\n\"[p=0.01, l=9.31]', '\" no\"[p=0.01, l=9.25]', '\" politician\"[p=0.01, l=9.12]']\n",
      "token_idx=19 [\" Williamson\"] => ['\" unknown\"[p=0.06, l=11.25]', '\"???\"[p=0.06, l=11.25]', '\" programmer\"[p=0.05, l=11.19]', '\"?\\n\"[p=0.05, l=11.12]', '\"??\"[p=0.05, l=11.12]', '\"?\"[p=0.03, l=10.50]', '\"?\\n\\n\"[p=0.02, l=10.38]', '\" artist\"[p=0.02, l=10.19]', '\" (\"[p=0.02, l=10.00]', '\" politician\"[p=0.02, l=9.94]', '\" software\"[p=0.02, l=9.94]', '\" no\"[p=0.01, l=9.81]', '\" engineer\"[p=0.01, l=9.69]', '\" computer\"[p=0.01, l=9.69]', '\" student\"[p=0.01, l=9.56]']\n",
      "\n",
      "\" John Mulaney\" | cur_rng=(21, 24)\n",
      "token_idx=21 [\" John\"] => ['\" unknown\"[p=0.10, l=12.56]', '\"?\\n\"[p=0.08, l=12.31]', '\"?\"[p=0.05, l=11.75]', '\"??\"[p=0.04, l=11.56]', '\" programmer\"[p=0.04, l=11.50]', '\"???\"[p=0.03, l=11.31]', '\" software\"[p=0.02, l=11.12]', '\" actor\"[p=0.02, l=10.94]', '\"?\\n\\n\"[p=0.02, l=10.81]', '\" no\"[p=0.02, l=10.81]', '\" lawyer\"[p=0.02, l=10.69]', '\" artist\"[p=0.01, l=10.62]', '\" engineer\"[p=0.01, l=10.56]', '\" teacher\"[p=0.01, l=10.56]', '\" student\"[p=0.01, l=10.50]']\n",
      "token_idx=22 [\" Mul\"] => ['\"?\\n\"[p=0.07, l=11.12]', '\"??\"[p=0.07, l=11.06]', '\"???\"[p=0.06, l=10.88]', '\" unknown\"[p=0.05, l=10.69]', '\"?\"[p=0.05, l=10.62]', '\"?\\n\\n\"[p=0.03, l=10.19]', '\" programmer\"[p=0.02, l=9.94]', '\" artist\"[p=0.02, l=9.62]', '\" no\"[p=0.02, l=9.62]', '\" (\"[p=0.01, l=9.44]', '\" singer\"[p=0.01, l=9.38]', '\" not\"[p=0.01, l=9.31]', '\" musician\"[p=0.01, l=9.31]', '\" invalid\"[p=0.01, l=9.25]', '\" \"[p=0.01, l=9.06]']\n",
      "token_idx=23 [\"aney\"] => ['\"???\"[p=0.05, l=11.06]', '\"?\\n\"[p=0.05, l=11.06]', '\" programmer\"[p=0.05, l=11.06]', '\"??\"[p=0.04, l=11.00]', '\" artist\"[p=0.03, l=10.75]', '\" unknown\"[p=0.03, l=10.62]', '\" software\"[p=0.03, l=10.56]', '\" politician\"[p=0.03, l=10.50]', '\"?\"[p=0.02, l=10.25]', '\" computer\"[p=0.02, l=10.06]', '\"?\\n\\n\"[p=0.02, l=10.00]', '\" actor\"[p=0.01, l=9.88]', '\" singer\"[p=0.01, l=9.88]', '\" musician\"[p=0.01, l=9.81]', '\" engineer\"[p=0.01, l=9.75]']\n",
      "\n",
      "\" Ariana Grande\" | cur_rng=(25, 28)\n",
      "token_idx=25 [\" Ari\"] => ['\"?\\n\"[p=0.08, l=11.38]', '\" unknown\"[p=0.06, l=11.19]', '\"?\"[p=0.04, l=10.81]', '\"??\"[p=0.04, l=10.69]', '\"???\"[p=0.03, l=10.31]', '\" singer\"[p=0.03, l=10.25]', '\" artist\"[p=0.02, l=10.19]', '\"?\\n\\n\"[p=0.02, l=10.19]', '\" no\"[p=0.02, l=9.88]', '\" software\"[p=0.01, l=9.50]', '\" programmer\"[p=0.01, l=9.50]', '\" student\"[p=0.01, l=9.50]', '\" I\"[p=0.01, l=9.38]', '\" (\"[p=0.01, l=9.38]', '\" not\"[p=0.01, l=9.19]']\n",
      "token_idx=26 [\"ana\"] => ['\" unknown\"[p=0.06, l=11.44]', '\"??\"[p=0.06, l=11.38]', '\"?\"[p=0.05, l=11.25]', '\"???\"[p=0.05, l=11.25]', '\"?\\n\"[p=0.05, l=11.19]', '\" artist\"[p=0.04, l=11.00]', '\"?\\n\\n\"[p=0.04, l=10.88]', '\" software\"[p=0.02, l=10.31]', '\" programmer\"[p=0.02, l=10.06]', '\" (\"[p=0.01, l=9.94]', '\" politician\"[p=0.01, l=9.88]', '\" singer\"[p=0.01, l=9.81]', '\" \\n\"[p=0.01, l=9.69]', '\" computer\"[p=0.01, l=9.62]', '\" teacher\"[p=0.01, l=9.56]']\n",
      "token_idx=27 [\" Grande\"] => ['\"?\\n\"[p=0.06, l=11.12]', '\"???\"[p=0.04, l=10.81]', '\"??\"[p=0.04, l=10.81]', '\" unknown\"[p=0.04, l=10.62]', '\" artist\"[p=0.04, l=10.62]', '\"?\"[p=0.03, l=10.50]', '\"?\\n\\n\"[p=0.03, l=10.38]', '\" programmer\"[p=0.02, l=10.12]', '\" politician\"[p=0.02, l=10.12]', '\" singer\"[p=0.02, l=10.12]', '\" football\"[p=0.02, l=10.06]', '\" soccer\"[p=0.02, l=10.06]', '\" musician\"[p=0.02, l=9.81]', '\" actor\"[p=0.01, l=9.75]', '\" software\"[p=0.01, l=9.75]']\n",
      "\n",
      "\" Joe Scarborough\" | cur_rng=(29, 31)\n",
      "token_idx=29 [\" Joe\"] => ['\"?\\n\"[p=0.07, l=11.88]', '\" unknown\"[p=0.06, l=11.81]', '\"??\"[p=0.04, l=11.31]', '\"?\"[p=0.03, l=11.06]', '\" programmer\"[p=0.03, l=10.94]', '\"???\"[p=0.03, l=10.88]', '\"?\\n\\n\"[p=0.02, l=10.69]', '\" actor\"[p=0.02, l=10.62]', '\" software\"[p=0.02, l=10.62]', '\" artist\"[p=0.02, l=10.62]', '\" musician\"[p=0.02, l=10.56]', '\" no\"[p=0.02, l=10.38]', '\" student\"[p=0.02, l=10.38]', '\" (\"[p=0.01, l=10.25]', '\" singer\"[p=0.01, l=10.12]']\n",
      "token_idx=30 [\" Scarborough\"] => ['\" artist\"[p=0.04, l=10.94]', '\"??\"[p=0.04, l=10.94]', '\" programmer\"[p=0.04, l=10.94]', '\"?\\n\"[p=0.04, l=10.88]', '\" politician\"[p=0.04, l=10.81]', '\"???\"[p=0.04, l=10.75]', '\" software\"[p=0.03, l=10.44]', '\"?\"[p=0.02, l=10.25]', '\" actor\"[p=0.02, l=10.12]', '\" unknown\"[p=0.02, l=10.06]', '\" musician\"[p=0.02, l=10.06]', '\"?\\n\\n\"[p=0.02, l=10.00]', '\" engineer\"[p=0.02, l=9.94]', '\" singer\"[p=0.01, l=9.88]', '\" computer\"[p=0.01, l=9.88]']\n",
      "\n",
      "\" Andrey Rublev\" | cur_rng=(32, 36)\n",
      "token_idx=32 [\" And\"] => ['\"??\"[p=0.10, l=12.19]', '\"?\\n\"[p=0.10, l=12.12]', '\"?\"[p=0.08, l=11.94]', '\"???\"[p=0.08, l=11.94]', '\"?\\n\\n\"[p=0.06, l=11.56]', '\" unknown\"[p=0.05, l=11.44]', '\" artist\"[p=0.02, l=10.38]', '\" programmer\"[p=0.01, l=10.06]', '\" politician\"[p=0.01, l=10.00]', '\" software\"[p=0.01, l=10.00]', '\" (\"[p=0.01, l=9.94]', '\" lawyer\"[p=0.01, l=9.81]', '\" singer\"[p=0.01, l=9.81]', '\" musician\"[p=0.01, l=9.75]', '\" computer\"[p=0.01, l=9.75]']\n",
      "token_idx=33 [\"rey\"] => ['\"??\"[p=0.05, l=10.88]', '\"?\\n\"[p=0.05, l=10.81]', '\" unknown\"[p=0.04, l=10.69]', '\" programmer\"[p=0.04, l=10.62]', '\"???\"[p=0.04, l=10.56]', '\"?\"[p=0.03, l=10.31]', '\" artist\"[p=0.03, l=10.25]', '\" politician\"[p=0.02, l=10.12]', '\" software\"[p=0.02, l=9.75]', '\"?\\n\\n\"[p=0.02, l=9.69]', '\" actor\"[p=0.01, l=9.62]', '\" engineer\"[p=0.01, l=9.50]', '\" singer\"[p=0.01, l=9.44]', '\" computer\"[p=0.01, l=9.44]', '\" entrepreneur\"[p=0.01, l=9.44]']\n",
      "token_idx=34 [\" Rub\"] => ['\"??\"[p=0.05, l=11.12]', '\"?\\n\"[p=0.05, l=11.06]', '\" unknown\"[p=0.05, l=11.06]', '\"???\"[p=0.04, l=10.88]', '\" programmer\"[p=0.04, l=10.75]', '\" artist\"[p=0.03, l=10.50]', '\"?\"[p=0.03, l=10.44]', '\" singer\"[p=0.02, l=10.25]', '\" software\"[p=0.02, l=10.12]', '\"?\\n\\n\"[p=0.02, l=10.06]', '\" no\"[p=0.01, l=9.88]', '\" (\"[p=0.01, l=9.81]', '\" musician\"[p=0.01, l=9.81]', '\" actor\"[p=0.01, l=9.75]', '\" politician\"[p=0.01, l=9.69]']\n",
      "token_idx=35 [\"lev\"] => ['\"??\"[p=0.07, l=11.38]', '\"???\"[p=0.06, l=11.25]', '\" unknown\"[p=0.05, l=11.06]', '\"?\\n\"[p=0.05, l=10.94]', '\"?\"[p=0.04, l=10.88]', '\"?\\n\\n\"[p=0.04, l=10.69]', '\" programmer\"[p=0.03, l=10.50]', '\" artist\"[p=0.02, l=10.31]', '\" politician\"[p=0.02, l=10.06]', '\" musician\"[p=0.01, l=9.56]', '\" computer\"[p=0.01, l=9.56]', '\" software\"[p=0.01, l=9.50]', '\" engineer\"[p=0.01, l=9.50]', '\" (\"[p=0.01, l=9.50]', '\" not\"[p=0.01, l=9.31]']\n",
      "\n",
      "\" Samuel L. Jackson\" | cur_rng=(37, 41)\n",
      "token_idx=37 [\" Samuel\"] => ['\" unknown\"[p=0.08, l=11.88]', '\"?\\n\"[p=0.06, l=11.69]', '\"??\"[p=0.03, l=11.00]', '\" actor\"[p=0.03, l=10.94]', '\"???\"[p=0.03, l=10.81]', '\"?\"[p=0.03, l=10.75]', '\" no\"[p=0.02, l=10.69]', '\" programmer\"[p=0.02, l=10.69]', '\" artist\"[p=0.02, l=10.31]', '\" (\"[p=0.01, l=10.19]', '\" prophet\"[p=0.01, l=10.06]', '\" software\"[p=0.01, l=10.06]', '\"?\\n\\n\"[p=0.01, l=10.06]', '\" not\"[p=0.01, l=10.00]', '\" I\"[p=0.01, l=10.00]']\n",
      "token_idx=38 [\" L\"] => ['\"?\\n\"[p=0.07, l=11.00]', '\"??\"[p=0.06, l=10.88]', '\" unknown\"[p=0.04, l=10.56]', '\"?\"[p=0.04, l=10.50]', '\"?\\n\\n\"[p=0.03, l=10.31]', '\"???\"[p=0.03, l=10.25]', '\" artist\"[p=0.02, l=9.81]', '\" programmer\"[p=0.02, l=9.75]', '\" L\"[p=0.02, l=9.62]', '\" (\"[p=0.01, l=9.50]', '\" singer\"[p=0.01, l=9.44]', '\" not\"[p=0.01, l=9.25]', '\" musician\"[p=0.01, l=9.25]', '\" no\"[p=0.01, l=9.25]', '\" lawyer\"[p=0.01, l=9.12]']\n",
      "token_idx=39 [\".\"] => ['\"?\\n\"[p=0.25, l=13.56]', '\"?\\n\\n\"[p=0.13, l=12.94]', '\"?\"[p=0.13, l=12.94]', '\"??\"[p=0.06, l=12.19]', '\"???\"[p=0.03, l=11.44]', '\" unknown\"[p=0.02, l=11.12]', '\" \"[p=0.02, l=10.88]', '\" \\n\"[p=0.02, l=10.81]', '\" lawyer\"[p=0.01, l=10.56]', '\" empty\"[p=0.01, l=9.94]', '\" software\"[p=0.01, l=9.88]', '\" (\"[p=0.01, l=9.75]', '\" artist\"[p=0.01, l=9.75]', '\" programmer\"[p=0.01, l=9.69]', '\" politician\"[p=0.00, l=9.62]']\n",
      "token_idx=40 [\" Jackson\"] => ['\"?\\n\"[p=0.05, l=11.19]', '\" unknown\"[p=0.05, l=11.12]', '\"??\"[p=0.04, l=11.00]', '\" actor\"[p=0.03, l=10.75]', '\" singer\"[p=0.03, l=10.69]', '\"???\"[p=0.03, l=10.62]', '\" politician\"[p=0.03, l=10.56]', '\"?\"[p=0.03, l=10.50]', '\" musician\"[p=0.02, l=10.44]', '\" programmer\"[p=0.02, l=10.38]', '\" artist\"[p=0.02, l=10.38]', '\" football\"[p=0.02, l=10.31]', '\" basketball\"[p=0.02, l=10.19]', '\" Jackson\"[p=0.02, l=10.12]', '\" no\"[p=0.01, l=9.94]']\n",
      "======================================================================================================================================================\n",
      "\n",
      "layer='model.layers.3'\n",
      "\n",
      "\"Ans:\" | cur_rng=(-2, 0)\n",
      "token_idx=-2 [\"Ans\"] => ['\"?\\n\"[p=0.06, l=10.88]', '\"??\"[p=0.03, l=10.12]', '\" artist\"[p=0.03, l=10.00]', '\"?\\n\\n\"[p=0.02, l=9.88]', '\" actor\"[p=0.02, l=9.75]', '\" astronaut\"[p=0.02, l=9.56]', '\" programmer\"[p=0.02, l=9.50]', '\" politician\"[p=0.02, l=9.50]', '\"???\"[p=0.02, l=9.44]', '\" software\"[p=0.02, l=9.44]', '\" singer\"[p=0.02, l=9.44]', '\" entrepreneur\"[p=0.02, l=9.44]', '\" engineer\"[p=0.01, l=9.25]', '\"?\"[p=0.01, l=9.25]', '\" scientist\"[p=0.01, l=9.25]']\n",
      "token_idx=-1 [\":\"] => ['\"?\\n\"[p=0.29, l=14.62]', '\"?\\n\\n\"[p=0.18, l=14.12]', '\"??\"[p=0.06, l=13.00]', '\"?\"[p=0.05, l=12.81]', '\" \\n\"[p=0.02, l=11.88]', '\"???\"[p=0.02, l=11.88]', '\" software\"[p=0.02, l=11.69]', '\" lawyer\"[p=0.01, l=11.56]', '\" profession\"[p=0.01, l=11.50]', '\" artist\"[p=0.01, l=11.31]', '\" programmer\"[p=0.01, l=11.31]', '\" (\"[p=0.01, l=11.25]', '\" astronaut\"[p=0.01, l=11.19]', '\" politician\"[p=0.01, l=11.12]', '\" computer\"[p=0.01, l=11.00]']\n",
      "\n",
      "\" Trevor Noah\" | cur_rng=(13, 15)\n",
      "token_idx=13 [\" Trevor\"] => ['\"?\\n\"[p=0.09, l=12.62]', '\" unknown\"[p=0.06, l=12.25]', '\"?\"[p=0.05, l=12.06]', '\"??\"[p=0.05, l=12.00]', '\"???\"[p=0.04, l=11.75]', '\"?\\n\\n\"[p=0.04, l=11.69]', '\" software\"[p=0.03, l=11.38]', '\" actor\"[p=0.02, l=11.31]', '\" politician\"[p=0.02, l=11.00]', '\" soccer\"[p=0.02, l=10.94]', '\" football\"[p=0.02, l=10.88]', '\" farmer\"[p=0.01, l=10.81]', '\" no\"[p=0.01, l=10.75]', '\" (\"[p=0.01, l=10.75]', '\" programmer\"[p=0.01, l=10.62]']\n",
      "token_idx=14 [\" Noah\"] => ['\" comedian\"[p=0.11, l=13.75]', '\" biblical\"[p=0.10, l=13.62]', '\" prophet\"[p=0.09, l=13.56]', '\" actor\"[p=0.04, l=12.81]', '\" (\"[p=0.03, l=12.38]', '\" unknown\"[p=0.03, l=12.31]', '\" pastor\"[p=0.02, l=12.25]', '\" politician\"[p=0.02, l=12.00]', '\" singer\"[p=0.02, l=11.94]', '\" musician\"[p=0.02, l=11.94]', '\" preacher\"[p=0.02, l=11.88]', '\" religious\"[p=0.01, l=11.75]', '\" no\"[p=0.01, l=11.69]', '\" farmer\"[p=0.01, l=11.69]', '\" artist\"[p=0.01, l=11.62]']\n",
      "\n",
      "\" Zion Williamson\" | cur_rng=(18, 20)\n",
      "token_idx=18 [\" Zion\"] => ['\" singer\"[p=0.06, l=11.94]', '\" musician\"[p=0.04, l=11.44]', '\" unknown\"[p=0.04, l=11.44]', '\" football\"[p=0.04, l=11.38]', '\"?\\n\"[p=0.03, l=11.25]', '\"??\"[p=0.02, l=10.88]', '\" no\"[p=0.02, l=10.81]', '\" biblical\"[p=0.02, l=10.69]', '\" place\"[p=0.02, l=10.69]', '\" politician\"[p=0.02, l=10.56]', '\" (\"[p=0.02, l=10.56]', '\" basketball\"[p=0.02, l=10.56]', '\" soccer\"[p=0.01, l=10.50]', '\" prophet\"[p=0.01, l=10.44]', '\" city\"[p=0.01, l=10.44]']\n",
      "token_idx=19 [\" Williamson\"] => ['\" football\"[p=0.16, l=14.19]', '\" basketball\"[p=0.15, l=14.12]', '\" actor\"[p=0.06, l=13.25]', '\" soccer\"[p=0.05, l=12.94]', '\"?\\n\"[p=0.03, l=12.62]', '\" singer\"[p=0.03, l=12.44]', '\"??\"[p=0.02, l=12.31]', '\" rugby\"[p=0.02, l=12.25]', '\"?\"[p=0.02, l=12.12]', '\" unknown\"[p=0.02, l=12.06]', '\" tennis\"[p=0.02, l=11.94]', '\" author\"[p=0.01, l=11.81]', '\" cr\"[p=0.01, l=11.75]', '\" (\"[p=0.01, l=11.69]', '\" athlete\"[p=0.01, l=11.50]']\n",
      "\n",
      "\" John Mulaney\" | cur_rng=(21, 24)\n",
      "token_idx=21 [\" John\"] => ['\" unknown\"[p=0.11, l=13.12]', '\"?\\n\"[p=0.06, l=12.56]', '\"?\"[p=0.05, l=12.31]', '\" no\"[p=0.03, l=11.94]', '\"???\"[p=0.03, l=11.81]', '\"??\"[p=0.03, l=11.69]', '\" actor\"[p=0.02, l=11.31]', '\" lawyer\"[p=0.02, l=11.31]', '\" programmer\"[p=0.02, l=11.25]', '\" (\"[p=0.02, l=11.25]', '\" teacher\"[p=0.02, l=11.12]', '\" farmer\"[p=0.01, l=11.06]', '\" software\"[p=0.01, l=11.00]', '\" doctor\"[p=0.01, l=10.94]', '\" John\"[p=0.01, l=10.94]']\n",
      "token_idx=22 [\" Mul\"] => ['\" farmer\"[p=0.03, l=9.94]', '\" musician\"[p=0.02, l=9.69]', '\"?\\n\"[p=0.02, l=9.56]', '\" artist\"[p=0.02, l=9.50]', '\"??\"[p=0.02, l=9.50]', '\" singer\"[p=0.02, l=9.44]', '\" unknown\"[p=0.02, l=9.44]', '\"???\"[p=0.02, l=9.38]', '\" actor\"[p=0.02, l=9.38]', '\" engineer\"[p=0.01, l=9.00]', '\"?\"[p=0.01, l=9.00]', '\" programmer\"[p=0.01, l=9.00]', '\" \"[p=0.01, l=8.94]', '\" politician\"[p=0.01, l=8.88]', '\" no\"[p=0.01, l=8.88]']\n",
      "token_idx=23 [\"aney\"] => ['\" comedian\"[p=0.54, l=15.56]', '\" actor\"[p=0.06, l=13.31]', '\"?\\n\"[p=0.03, l=12.81]', '\" stand\"[p=0.03, l=12.62]', '\"??\"[p=0.02, l=12.44]', '\" politician\"[p=0.02, l=12.19]', '\" writer\"[p=0.02, l=12.06]', '\" (\"[p=0.01, l=11.88]', '\" musician\"[p=0.01, l=11.81]', '\"?\"[p=0.01, l=11.81]', '\" unknown\"[p=0.01, l=11.50]', '\" Com\"[p=0.01, l=11.44]', '\"?\\n\\n\"[p=0.01, l=11.38]', '\" playwright\"[p=0.01, l=11.31]', '\"???\"[p=0.01, l=11.25]']\n",
      "\n",
      "\" Ariana Grande\" | cur_rng=(25, 28)\n",
      "token_idx=25 [\" Ari\"] => ['\"?\\n\"[p=0.05, l=11.31]', '\" singer\"[p=0.04, l=11.12]', '\" artist\"[p=0.03, l=10.69]', '\" unknown\"[p=0.02, l=10.56]', '\"??\"[p=0.02, l=10.56]', '\" musician\"[p=0.02, l=10.50]', '\"?\"[p=0.02, l=10.44]', '\"???\"[p=0.02, l=10.19]', '\" student\"[p=0.01, l=10.06]', '\" software\"[p=0.01, l=10.00]', '\" actor\"[p=0.01, l=9.88]', '\" entrepreneur\"[p=0.01, l=9.69]', '\" photographer\"[p=0.01, l=9.69]', '\" teacher\"[p=0.01, l=9.62]', '\" (\"[p=0.01, l=9.56]']\n",
      "token_idx=26 [\"ana\"] => ['\" singer\"[p=0.36, l=13.88]', '\" unknown\"[p=0.05, l=11.88]', '\"?\\n\"[p=0.05, l=11.81]', '\" pop\"[p=0.04, l=11.75]', '\" musician\"[p=0.02, l=11.19]', '\" no\"[p=0.02, l=11.06]', '\"?\"[p=0.02, l=11.00]', '\" artist\"[p=0.02, l=10.75]', '\" (\"[p=0.01, l=10.56]', '\" actress\"[p=0.01, l=10.50]', '\"??\"[p=0.01, l=10.31]', '\" not\"[p=0.01, l=10.12]', '\" model\"[p=0.01, l=10.12]', '\" Ari\"[p=0.01, l=9.94]', '\" teacher\"[p=0.01, l=9.94]']\n",
      "token_idx=27 [\" Grande\"] => ['\" singer\"[p=0.64, l=15.06]', '\" musician\"[p=0.05, l=12.50]', '\"?\\n\"[p=0.02, l=11.75]', '\" pop\"[p=0.02, l=11.75]', '\" unknown\"[p=0.01, l=11.25]', '\" artist\"[p=0.01, l=11.12]', '\" Ari\"[p=0.01, l=11.06]', '\"?\"[p=0.01, l=10.75]', '\"??\"[p=0.01, l=10.69]', '\" (\"[p=0.01, l=10.56]', '\"?\\n\\n\"[p=0.01, l=10.44]', '\" no\"[p=0.01, l=10.44]', '\" Singer\"[p=0.01, l=10.38]', '\"???\"[p=0.01, l=10.31]', '\" not\"[p=0.00, l=10.19]']\n",
      "\n",
      "\" Joe Scarborough\" | cur_rng=(29, 31)\n",
      "token_idx=29 [\" Joe\"] => ['\" unknown\"[p=0.07, l=12.31]', '\"?\\n\"[p=0.06, l=12.06]', '\"?\"[p=0.04, l=11.62]', '\"??\"[p=0.03, l=11.50]', '\"???\"[p=0.03, l=11.38]', '\" no\"[p=0.02, l=10.88]', '\" programmer\"[p=0.02, l=10.75]', '\" politician\"[p=0.02, l=10.75]', '\" student\"[p=0.02, l=10.75]', '\" software\"[p=0.01, l=10.69]', '\" (\"[p=0.01, l=10.69]', '\" farmer\"[p=0.01, l=10.56]', '\"?\\n\\n\"[p=0.01, l=10.56]', '\" engineer\"[p=0.01, l=10.44]', '\" actor\"[p=0.01, l=10.38]']\n",
      "token_idx=30 [\" Scarborough\"] => ['\" politician\"[p=0.30, l=14.19]', '\"?\\n\"[p=0.04, l=12.12]', '\" (\"[p=0.03, l=12.00]', '\"??\"[p=0.03, l=11.81]', '\" musician\"[p=0.02, l=11.69]', '\"?\"[p=0.02, l=11.50]', '\" unknown\"[p=0.02, l=11.44]', '\" journalist\"[p=0.02, l=11.44]', '\"???\"[p=0.02, l=11.25]', '\" singer\"[p=0.02, l=11.19]', '\" pirate\"[p=0.01, l=11.12]', '\" football\"[p=0.01, l=11.06]', '\" political\"[p=0.01, l=10.69]', '\" \\n\"[p=0.01, l=10.69]', '\" city\"[p=0.01, l=10.62]']\n",
      "\n",
      "\" Andrey Rublev\" | cur_rng=(32, 36)\n",
      "token_idx=32 [\" And\"] => ['\" conjunction\"[p=0.10, l=11.81]', '\"?\\n\"[p=0.06, l=11.31]', '\" logical\"[p=0.04, l=10.81]', '\" logic\"[p=0.03, l=10.62]', '\" operator\"[p=0.03, l=10.56]', '\"?\"[p=0.02, l=10.38]', '\" a\"[p=0.02, l=10.25]', '\" what\"[p=0.02, l=10.25]', '\"?\\n\\n\"[p=0.02, l=10.06]', '\"??\"[p=0.02, l=10.06]', '\" so\"[p=0.02, l=9.94]', '\"...\"[p=0.01, l=9.81]', '\" lawyer\"[p=0.01, l=9.75]', '\" \\n\"[p=0.01, l=9.69]', '\" (\"[p=0.01, l=9.69]']\n",
      "token_idx=33 [\"rey\"] => ['\"?\\n\"[p=0.12, l=12.62]', '\" unknown\"[p=0.07, l=12.00]', '\" programmer\"[p=0.06, l=11.88]', '\"?\\n\\n\"[p=0.06, l=11.88]', '\"?\"[p=0.05, l=11.75]', '\"??\"[p=0.05, l=11.62]', '\"???\"[p=0.03, l=11.12]', '\" software\"[p=0.03, l=11.06]', '\" entrepreneur\"[p=0.02, l=10.75]', '\" engineer\"[p=0.02, l=10.56]', '\" no\"[p=0.01, l=10.44]', '\" artist\"[p=0.01, l=10.31]', '\" what\"[p=0.01, l=10.25]', '\" actor\"[p=0.01, l=10.00]', '\" student\"[p=0.01, l=10.00]']\n",
      "token_idx=34 [\" Rub\"] => ['\"?\\n\"[p=0.04, l=9.44]', '\" unknown\"[p=0.02, l=8.69]', '\"??\"[p=0.02, l=8.69]', '\"?\"[p=0.01, l=8.44]', '\" artist\"[p=0.01, l=8.38]', '\" not\"[p=0.01, l=8.25]', '\"???\"[p=0.01, l=8.19]', '\" programmer\"[p=0.01, l=8.06]', '\" what\"[p=0.01, l=8.00]', '\" \\n\"[p=0.01, l=8.00]', '\" musician\"[p=0.01, l=7.94]', '\"?\\n\\n\"[p=0.01, l=7.94]', '\" invalid\"[p=0.01, l=7.75]', '\" massage\"[p=0.01, l=7.69]', '\" \"[p=0.01, l=7.66]']\n",
      "token_idx=35 [\"lev\"] => ['\" tennis\"[p=0.32, l=14.62]', '\" artist\"[p=0.06, l=13.00]', '\" politician\"[p=0.06, l=12.88]', '\"?\\n\"[p=0.05, l=12.75]', '\"?\"[p=0.02, l=12.00]', '\" painter\"[p=0.02, l=11.81]', '\" musician\"[p=0.02, l=11.75]', '\" unknown\"[p=0.02, l=11.75]', '\"??\"[p=0.02, l=11.69]', '\"?\\n\\n\"[p=0.01, l=11.56]', '\" writer\"[p=0.01, l=11.44]', '\" (\"[p=0.01, l=11.44]', '\" composer\"[p=0.01, l=11.44]', '\" chess\"[p=0.01, l=11.25]', '\" \\n\"[p=0.01, l=11.12]']\n",
      "\n",
      "\" Samuel L. Jackson\" | cur_rng=(37, 41)\n",
      "token_idx=37 [\" Samuel\"] => ['\" prophet\"[p=0.28, l=14.06]', '\" unknown\"[p=0.07, l=12.75]', '\"?\\n\"[p=0.04, l=12.19]', '\"??\"[p=0.03, l=11.69]', '\" actor\"[p=0.02, l=11.62]', '\" no\"[p=0.02, l=11.56]', '\"???\"[p=0.02, l=11.38]', '\"?\"[p=0.02, l=11.31]', '\" biblical\"[p=0.02, l=11.19]', '\" philosopher\"[p=0.01, l=10.69]', '\" not\"[p=0.01, l=10.69]', '\" (\"[p=0.01, l=10.69]', '\" poet\"[p=0.01, l=10.62]', '\" Prophet\"[p=0.01, l=10.56]', '\" I\"[p=0.01, l=10.56]']\n",
      "token_idx=38 [\" L\"] => ['\"?\\n\"[p=0.07, l=10.88]', '\" lawyer\"[p=0.03, l=10.06]', '\"?\"[p=0.03, l=9.94]', '\"??\"[p=0.03, l=9.94]', '\"?\\n\\n\"[p=0.02, l=9.75]', '\" L\"[p=0.02, l=9.56]', '\" singer\"[p=0.01, l=9.25]', '\"???\"[p=0.01, l=9.06]', '\" scientist\"[p=0.01, l=9.06]', '\" letter\"[p=0.01, l=9.06]', '\" unknown\"[p=0.01, l=9.06]', '\" artist\"[p=0.01, l=9.06]', '\" musician\"[p=0.01, l=9.00]', '\" (\"[p=0.01, l=8.81]', '\" \"[p=0.01, l=8.81]']\n",
      "token_idx=39 [\".\"] => ['\".\\n\"[p=0.04, l=10.44]', '\" \\n\"[p=0.04, l=10.31]', '\"?\\n\\n\"[p=0.03, l=10.19]', '\"?\\n\"[p=0.03, l=10.19]', '\"\\n\\n\"[p=0.03, l=10.12]', '\" (\"[p=0.03, l=10.00]', '\" lawyer\"[p=0.03, l=10.00]', '\" politician\"[p=0.02, l=9.81]', '\".\"[p=0.02, l=9.56]', '\" artist\"[p=0.02, l=9.50]', '\".\\n\\n\"[p=0.01, l=9.38]', '\".\\n\"[p=0.01, l=9.25]', '\"\\n\\n\\n\"[p=0.01, l=9.19]', '\" \"[p=0.01, l=9.19]', '\" entrepreneur\"[p=0.01, l=9.19]']\n",
      "token_idx=40 [\" Jackson\"] => ['\" actor\"[p=0.13, l=12.75]', '\" singer\"[p=0.09, l=12.31]', '\"?\\n\"[p=0.04, l=11.56]', '\" musician\"[p=0.04, l=11.50]', '\" politician\"[p=0.03, l=11.31]', '\" unknown\"[p=0.03, l=11.31]', '\" Jackson\"[p=0.03, l=11.25]', '\" artist\"[p=0.02, l=10.94]', '\"?\"[p=0.02, l=10.88]', '\"??\"[p=0.02, l=10.75]', '\" football\"[p=0.02, l=10.69]', '\"???\"[p=0.01, l=10.50]', '\" (\"[p=0.01, l=10.44]', '\" no\"[p=0.01, l=10.31]', '\" basketball\"[p=0.01, l=10.12]']\n",
      "======================================================================================================================================================\n",
      "\n",
      "layer='model.layers.6'\n",
      "\n",
      "\"Ans:\" | cur_rng=(-2, 0)\n",
      "token_idx=-2 [\"Ans\"] => ['\"?\\n\"[p=0.09, l=11.38]', '\" student\"[p=0.04, l=10.50]', '\"?\\n\\n\"[p=0.03, l=10.31]', '\"??\"[p=0.03, l=10.31]', '\" programmer\"[p=0.03, l=10.25]', '\" software\"[p=0.02, l=10.06]', '\"?\"[p=0.02, l=10.00]', '\" entrepreneur\"[p=0.02, l=9.88]', '\" unknown\"[p=0.02, l=9.75]', '\" artist\"[p=0.02, l=9.75]', '\" computer\"[p=0.02, l=9.56]', '\"???\"[p=0.02, l=9.56]', '\" engineer\"[p=0.01, l=9.44]', '\" data\"[p=0.01, l=9.44]', '\" (\"[p=0.01, l=9.19]']\n",
      "token_idx=-1 [\":\"] => ['\"?\\n\"[p=0.31, l=14.75]', '\"?\\n\\n\"[p=0.15, l=14.06]', '\"??\"[p=0.06, l=13.19]', '\"?\"[p=0.05, l=12.94]', '\"???\"[p=0.02, l=12.12]', '\" \\n\"[p=0.02, l=11.81]', '\" lawyer\"[p=0.02, l=11.81]', '\" software\"[p=0.01, l=11.69]', '\" profession\"[p=0.01, l=11.62]', '\" artist\"[p=0.01, l=11.44]', '\" politician\"[p=0.01, l=11.44]', '\" programmer\"[p=0.01, l=11.38]', '\" (\"[p=0.01, l=11.31]', '\" actor\"[p=0.01, l=11.12]', '\" computer\"[p=0.01, l=11.12]']\n",
      "\n",
      "\" Trevor Noah\" | cur_rng=(13, 15)\n",
      "token_idx=13 [\" Trevor\"] => ['\"?\\n\"[p=0.08, l=12.38]', '\" unknown\"[p=0.06, l=12.12]', '\"?\"[p=0.05, l=11.81]', '\"??\"[p=0.04, l=11.69]', '\"???\"[p=0.04, l=11.56]', '\"?\\n\\n\"[p=0.03, l=11.31]', '\" software\"[p=0.02, l=11.12]', '\" actor\"[p=0.02, l=10.94]', '\" farmer\"[p=0.02, l=10.88]', '\" (\"[p=0.02, l=10.81]', '\" no\"[p=0.02, l=10.81]', '\" politician\"[p=0.02, l=10.69]', '\" soccer\"[p=0.01, l=10.50]', '\" football\"[p=0.01, l=10.50]', '\" comedian\"[p=0.01, l=10.25]']\n",
      "token_idx=14 [\" Noah\"] => ['\" comedian\"[p=0.96, l=21.75]', '\" TV\"[p=0.01, l=16.88]', '\" television\"[p=0.01, l=16.62]', '\" actor\"[p=0.00, l=16.25]', '\" Com\"[p=0.00, l=15.88]', '\" journalist\"[p=0.00, l=15.75]', '\" stand\"[p=0.00, l=15.62]', '\" political\"[p=0.00, l=15.62]', '\" tv\"[p=0.00, l=15.12]', '\" talk\"[p=0.00, l=14.94]', '\" writer\"[p=0.00, l=14.50]', '\" (\"[p=0.00, l=14.44]', '\" politician\"[p=0.00, l=14.38]', '\" sat\"[p=0.00, l=14.25]', '\" \"[p=0.00, l=14.25]']\n",
      "\n",
      "\" Zion Williamson\" | cur_rng=(18, 20)\n",
      "token_idx=18 [\" Zion\"] => ['\" basketball\"[p=0.09, l=12.69]', '\" singer\"[p=0.08, l=12.56]', '\" musician\"[p=0.06, l=12.25]', '\" football\"[p=0.06, l=12.25]', '\" prophet\"[p=0.05, l=12.12]', '\" unknown\"[p=0.03, l=11.75]', '\" rapper\"[p=0.03, l=11.69]', '\" biblical\"[p=0.03, l=11.56]', '\"?\\n\"[p=0.02, l=11.19]', '\" actor\"[p=0.02, l=11.19]', '\" soccer\"[p=0.02, l=11.12]', '\" (\"[p=0.02, l=11.12]', '\"??\"[p=0.02, l=11.00]', '\" no\"[p=0.01, l=10.81]', '\" artist\"[p=0.01, l=10.75]']\n",
      "token_idx=19 [\" Williamson\"] => ['\" basketball\"[p=0.90, l=18.12]', '\" football\"[p=0.01, l=13.81]', '\" NBA\"[p=0.01, l=13.50]', '\" Basketball\"[p=0.01, l=13.44]', '\" athlete\"[p=0.01, l=13.06]', '\" professional\"[p=0.01, l=12.94]', '\" college\"[p=0.00, l=12.75]', '\" actor\"[p=0.00, l=12.31]', '\" basket\"[p=0.00, l=12.31]', '\" (\"[p=0.00, l=12.19]', '\" baseball\"[p=0.00, l=12.12]', '\" soccer\"[p=0.00, l=11.81]', '\" \"[p=0.00, l=11.75]', '\" rapper\"[p=0.00, l=11.56]', '\"??\"[p=0.00, l=11.50]']\n",
      "\n",
      "\" John Mulaney\" | cur_rng=(21, 24)\n",
      "token_idx=21 [\" John\"] => ['\" unknown\"[p=0.12, l=13.19]', '\"?\\n\"[p=0.06, l=12.44]', '\"?\"[p=0.04, l=12.19]', '\" no\"[p=0.03, l=11.94]', '\"???\"[p=0.03, l=11.69]', '\"??\"[p=0.02, l=11.50]', '\" lawyer\"[p=0.02, l=11.38]', '\" programmer\"[p=0.02, l=11.25]', '\" actor\"[p=0.02, l=11.25]', '\" farmer\"[p=0.02, l=11.19]', '\" (\"[p=0.02, l=11.19]', '\" teacher\"[p=0.02, l=11.12]', '\" software\"[p=0.01, l=11.06]', '\" doctor\"[p=0.01, l=11.00]', '\" John\"[p=0.01, l=10.94]']\n",
      "token_idx=22 [\" Mul\"] => ['\" artist\"[p=0.03, l=10.50]', '\" musician\"[p=0.03, l=10.44]', '\" actor\"[p=0.02, l=10.19]', '\" singer\"[p=0.02, l=9.94]', '\" farmer\"[p=0.02, l=9.88]', '\" politician\"[p=0.02, l=9.81]', '\" engineer\"[p=0.02, l=9.75]', '\"??\"[p=0.01, l=9.69]', '\"?\\n\"[p=0.01, l=9.62]', '\" entrepreneur\"[p=0.01, l=9.44]', '\" programmer\"[p=0.01, l=9.44]', '\" unknown\"[p=0.01, l=9.38]', '\"???\"[p=0.01, l=9.31]', '\" software\"[p=0.01, l=9.25]', '\" \"[p=0.01, l=9.25]']\n",
      "token_idx=23 [\"aney\"] => ['\" comedian\"[p=0.77, l=17.50]', '\" stand\"[p=0.07, l=15.06]', '\" actor\"[p=0.03, l=14.31]', '\" Com\"[p=0.01, l=13.12]', '\" musician\"[p=0.00, l=12.38]', '\" politician\"[p=0.00, l=12.38]', '\" (\"[p=0.00, l=12.38]', '\" comic\"[p=0.00, l=12.31]', '\" writer\"[p=0.00, l=12.31]', '\" actress\"[p=0.00, l=12.19]', '\"??\"[p=0.00, l=12.12]', '\" Stand\"[p=0.00, l=11.75]', '\"?\\n\"[p=0.00, l=11.62]', '\" \"[p=0.00, l=11.62]', '\" lawyer\"[p=0.00, l=11.50]']\n",
      "\n",
      "\" Ariana Grande\" | cur_rng=(25, 28)\n",
      "token_idx=25 [\" Ari\"] => ['\" singer\"[p=0.07, l=11.81]', '\"?\\n\"[p=0.04, l=11.38]', '\" artist\"[p=0.03, l=11.12]', '\" musician\"[p=0.03, l=10.88]', '\" unknown\"[p=0.02, l=10.75]', '\" student\"[p=0.02, l=10.50]', '\"??\"[p=0.02, l=10.50]', '\"?\"[p=0.02, l=10.50]', '\" actor\"[p=0.01, l=10.25]', '\" software\"[p=0.01, l=10.06]', '\"???\"[p=0.01, l=10.06]', '\" actress\"[p=0.01, l=10.00]', '\" entrepreneur\"[p=0.01, l=9.94]', '\" teacher\"[p=0.01, l=9.88]', '\" You\"[p=0.01, l=9.88]']\n",
      "token_idx=26 [\"ana\"] => ['\" singer\"[p=0.45, l=14.44]', '\" pop\"[p=0.06, l=12.38]', '\" unknown\"[p=0.04, l=12.00]', '\"?\\n\"[p=0.03, l=11.88]', '\" musician\"[p=0.02, l=11.31]', '\" actress\"[p=0.02, l=11.19]', '\" no\"[p=0.02, l=11.19]', '\" artist\"[p=0.02, l=11.06]', '\"?\"[p=0.02, l=11.06]', '\" (\"[p=0.01, l=10.88]', '\" not\"[p=0.01, l=10.38]', '\" model\"[p=0.01, l=10.38]', '\"??\"[p=0.01, l=10.31]', '\" student\"[p=0.01, l=10.31]', '\" teacher\"[p=0.01, l=10.25]']\n",
      "token_idx=27 [\" Grande\"] => ['\" singer\"[p=0.96, l=22.12]', '\" musician\"[p=0.02, l=18.00]', '\" pop\"[p=0.01, l=17.62]', '\" Singer\"[p=0.00, l=16.38]', '\" actress\"[p=0.00, l=16.00]', '\" artist\"[p=0.00, l=15.25]', '\" music\"[p=0.00, l=14.44]', '\" \"[p=0.00, l=14.25]', '\" songwriter\"[p=0.00, l=13.94]', '\" actor\"[p=0.00, l=13.75]', '\" singers\"[p=0.00, l=13.38]', '\" Music\"[p=0.00, l=13.31]', '\" entert\"[p=0.00, l=13.31]', '\" (\"[p=0.00, l=13.25]', '\" celebrity\"[p=0.00, l=13.19]']\n",
      "\n",
      "\" Joe Scarborough\" | cur_rng=(29, 31)\n",
      "token_idx=29 [\" Joe\"] => ['\" unknown\"[p=0.08, l=12.31]', '\"?\\n\"[p=0.05, l=11.94]', '\"?\"[p=0.03, l=11.50]', '\"??\"[p=0.03, l=11.38]', '\"???\"[p=0.03, l=11.25]', '\" politician\"[p=0.02, l=11.00]', '\" no\"[p=0.02, l=10.88]', '\" student\"[p=0.02, l=10.69]', '\" software\"[p=0.01, l=10.62]', '\" programmer\"[p=0.01, l=10.62]', '\" (\"[p=0.01, l=10.62]', '\" farmer\"[p=0.01, l=10.56]', '\" musician\"[p=0.01, l=10.44]', '\" teacher\"[p=0.01, l=10.31]', '\" artist\"[p=0.01, l=10.31]']\n",
      "token_idx=30 [\" Scarborough\"] => ['\" politician\"[p=0.41, l=18.75]', '\" journalist\"[p=0.25, l=18.25]', '\" television\"[p=0.09, l=17.25]', '\" TV\"[p=0.06, l=16.88]', '\" news\"[p=0.04, l=16.50]', '\" political\"[p=0.03, l=16.25]', '\" tv\"[p=0.01, l=15.31]', '\" musician\"[p=0.01, l=15.25]', '\" lawyer\"[p=0.01, l=14.88]', '\" media\"[p=0.00, l=14.31]', '\" talk\"[p=0.00, l=14.12]', '\" Journal\"[p=0.00, l=13.94]', '\" radio\"[p=0.00, l=13.81]', '\" singer\"[p=0.00, l=13.75]', '\" Polit\"[p=0.00, l=13.69]']\n",
      "\n",
      "\" Andrey Rublev\" | cur_rng=(32, 36)\n",
      "token_idx=32 [\" And\"] => ['\" conjunction\"[p=0.06, l=11.06]', '\"?\\n\"[p=0.05, l=10.94]', '\" a\"[p=0.03, l=10.31]', '\" logical\"[p=0.02, l=10.25]', '\" operator\"[p=0.02, l=10.25]', '\" what\"[p=0.02, l=10.00]', '\" logic\"[p=0.02, l=10.00]', '\"?\"[p=0.02, l=9.94]', '\" so\"[p=0.02, l=9.94]', '\"...\"[p=0.02, l=9.81]', '\"?\\n\\n\"[p=0.02, l=9.81]', '\" \\n\"[p=0.01, l=9.62]', '\"??\"[p=0.01, l=9.56]', '\" And\"[p=0.01, l=9.56]', '\" lawyer\"[p=0.01, l=9.56]']\n",
      "token_idx=33 [\"rey\"] => ['\"?\\n\"[p=0.11, l=12.56]', '\" unknown\"[p=0.07, l=12.06]', '\" programmer\"[p=0.06, l=11.94]', '\"?\\n\\n\"[p=0.05, l=11.81]', '\"?\"[p=0.05, l=11.69]', '\"??\"[p=0.04, l=11.44]', '\" software\"[p=0.03, l=11.12]', '\"???\"[p=0.03, l=11.06]', '\" engineer\"[p=0.02, l=10.75]', '\" entrepreneur\"[p=0.02, l=10.62]', '\" no\"[p=0.01, l=10.50]', '\" artist\"[p=0.01, l=10.44]', '\" actor\"[p=0.01, l=10.25]', '\" student\"[p=0.01, l=10.12]', '\" what\"[p=0.01, l=10.12]']\n",
      "token_idx=34 [\" Rub\"] => ['\"?\\n\"[p=0.03, l=9.19]', '\" unknown\"[p=0.02, l=9.00]', '\" artist\"[p=0.02, l=8.88]', '\"??\"[p=0.02, l=8.69]', '\" not\"[p=0.01, l=8.25]', '\"?\"[p=0.01, l=8.19]', '\" massage\"[p=0.01, l=8.19]', '\"???\"[p=0.01, l=8.12]', '\" musician\"[p=0.01, l=8.12]', '\" politician\"[p=0.01, l=8.06]', '\" programmer\"[p=0.01, l=8.06]', '\" \\n\"[p=0.01, l=7.94]', '\" a\"[p=0.01, l=7.84]', '\" \"[p=0.01, l=7.84]', '\" what\"[p=0.01, l=7.78]']\n",
      "token_idx=35 [\"lev\"] => ['\" tennis\"[p=0.49, l=16.25]', '\" artist\"[p=0.11, l=14.75]', '\" painter\"[p=0.06, l=14.19]', '\" musician\"[p=0.03, l=13.31]', '\" politician\"[p=0.02, l=13.19]', '\" composer\"[p=0.02, l=13.19]', '\" writer\"[p=0.02, l=12.81]', '\" pian\"[p=0.01, l=12.38]', '\" novelist\"[p=0.01, l=12.25]', '\" chess\"[p=0.01, l=12.19]', '\" poet\"[p=0.01, l=12.00]', '\" mathematic\"[p=0.01, l=12.00]', '\" inventor\"[p=0.01, l=11.94]', '\" physicist\"[p=0.01, l=11.69]', '\" athlete\"[p=0.01, l=11.69]']\n",
      "\n",
      "\" Samuel L. Jackson\" | cur_rng=(37, 41)\n",
      "token_idx=37 [\" Samuel\"] => ['\" prophet\"[p=0.17, l=13.50]', '\" unknown\"[p=0.08, l=12.75]', '\" actor\"[p=0.06, l=12.44]', '\"?\\n\"[p=0.05, l=12.19]', '\"??\"[p=0.03, l=11.62]', '\" no\"[p=0.02, l=11.50]', '\"???\"[p=0.02, l=11.38]', '\"?\"[p=0.02, l=11.38]', '\" biblical\"[p=0.01, l=10.88]', '\" priest\"[p=0.01, l=10.75]', '\" (\"[p=0.01, l=10.69]', '\" not\"[p=0.01, l=10.62]', '\" philosopher\"[p=0.01, l=10.62]', '\" programmer\"[p=0.01, l=10.56]', '\" teacher\"[p=0.01, l=10.56]']\n",
      "token_idx=38 [\" L\"] => ['\" lawyer\"[p=0.06, l=11.06]', '\"?\\n\"[p=0.06, l=11.00]', '\" actor\"[p=0.06, l=11.00]', '\"?\"[p=0.02, l=10.06]', '\"??\"[p=0.02, l=10.00]', '\" singer\"[p=0.02, l=10.00]', '\" musician\"[p=0.02, l=9.94]', '\"?\\n\\n\"[p=0.02, l=9.88]', '\" artist\"[p=0.02, l=9.81]', '\" rapper\"[p=0.01, l=9.62]', '\" politician\"[p=0.01, l=9.62]', '\" L\"[p=0.01, l=9.56]', '\" unknown\"[p=0.01, l=9.38]', '\" (\"[p=0.01, l=9.38]', '\" programmer\"[p=0.01, l=9.38]']\n",
      "token_idx=39 [\".\"] => ['\" lawyer\"[p=0.05, l=10.88]', '\" \\n\"[p=0.04, l=10.69]', '\" politician\"[p=0.03, l=10.44]', '\"?\\n\"[p=0.03, l=10.38]', '\" (\"[p=0.03, l=10.31]', '\"?\\n\\n\"[p=0.03, l=10.25]', '\".\\n\"[p=0.02, l=10.06]', '\"\\n\\n\"[p=0.02, l=9.94]', '\" artist\"[p=0.02, l=9.69]', '\".\"[p=0.01, l=9.62]', '\" entrepreneur\"[p=0.01, l=9.56]', '\" scientist\"[p=0.01, l=9.50]', '\" actor\"[p=0.01, l=9.38]', '\" \"[p=0.01, l=9.31]', '\".\\n\"[p=0.01, l=9.25]']\n",
      "token_idx=40 [\" Jackson\"] => ['\" actor\"[p=0.65, l=15.56]', '\" singer\"[p=0.04, l=12.81]', '\" musician\"[p=0.02, l=12.19]', '\" politician\"[p=0.02, l=12.12]', '\" rapper\"[p=0.02, l=11.81]', '\" artist\"[p=0.01, l=11.75]', '\" painter\"[p=0.01, l=11.31]', '\" (\"[p=0.01, l=11.12]', '\" basketball\"[p=0.01, l=11.12]', '\" Jackson\"[p=0.01, l=11.06]', '\" movie\"[p=0.01, l=11.06]', '\"?\\n\"[p=0.01, l=10.81]', '\" Actor\"[p=0.01, l=10.75]', '\" football\"[p=0.00, l=10.69]', '\" film\"[p=0.00, l=10.56]']\n",
      "======================================================================================================================================================\n",
      "\n",
      "layer='model.layers.9'\n",
      "\n",
      "\"Ans:\" | cur_rng=(-2, 0)\n",
      "token_idx=-2 [\"Ans\"] => ['\"?\\n\"[p=0.09, l=11.75]', '\"??\"[p=0.05, l=11.06]', '\"?\\n\\n\"[p=0.04, l=10.81]', '\" programmer\"[p=0.03, l=10.75]', '\" student\"[p=0.03, l=10.75]', '\"?\"[p=0.03, l=10.50]', '\" software\"[p=0.02, l=10.38]', '\"???\"[p=0.02, l=10.25]', '\" unknown\"[p=0.02, l=10.25]', '\" entrepreneur\"[p=0.02, l=10.12]', '\" artist\"[p=0.02, l=10.06]', '\" computer\"[p=0.01, l=9.81]', '\" engineer\"[p=0.01, l=9.69]', '\" data\"[p=0.01, l=9.69]', '\" (\"[p=0.01, l=9.62]']\n",
      "token_idx=-1 [\":\"] => ['\"?\\n\"[p=0.33, l=14.69]', '\"?\\n\\n\"[p=0.20, l=14.19]', '\"?\"[p=0.08, l=13.31]', '\"??\"[p=0.04, l=12.56]', '\" \\n\"[p=0.02, l=11.88]', '\"???\"[p=0.01, l=11.38]', '\" lawyer\"[p=0.01, l=11.31]', '\" software\"[p=0.01, l=11.31]', '\"\\n\\n\"[p=0.01, l=11.12]', '\" politician\"[p=0.01, l=10.81]', '\" artist\"[p=0.01, l=10.81]', '\" (\"[p=0.01, l=10.75]', '\" astronaut\"[p=0.01, l=10.69]', '\" \\n\\n\"[p=0.01, l=10.69]', '\" \"[p=0.01, l=10.56]']\n",
      "\n",
      "\" Trevor Noah\" | cur_rng=(13, 15)\n",
      "token_idx=13 [\" Trevor\"] => ['\"?\\n\"[p=0.09, l=12.50]', '\" unknown\"[p=0.06, l=12.06]', '\"?\"[p=0.05, l=11.94]', '\"??\"[p=0.05, l=11.94]', '\"???\"[p=0.04, l=11.62]', '\"?\\n\\n\"[p=0.04, l=11.62]', '\" software\"[p=0.02, l=11.12]', '\" actor\"[p=0.02, l=10.75]', '\" (\"[p=0.01, l=10.62]', '\" no\"[p=0.01, l=10.44]', '\" programmer\"[p=0.01, l=10.31]', '\" data\"[p=0.01, l=10.25]', '\" politician\"[p=0.01, l=10.25]', '\" engineer\"[p=0.01, l=10.19]', '\" entrepreneur\"[p=0.01, l=10.12]']\n",
      "token_idx=14 [\" Noah\"] => ['\" comedian\"[p=0.87, l=18.25]', '\" actor\"[p=0.02, l=14.25]', '\" TV\"[p=0.01, l=14.12]', '\" television\"[p=0.01, l=13.50]', '\" Com\"[p=0.01, l=13.50]', '\" stand\"[p=0.00, l=13.00]', '\" (\"[p=0.00, l=13.00]', '\" politician\"[p=0.00, l=12.75]', '\" political\"[p=0.00, l=12.75]', '\" tv\"[p=0.00, l=12.75]', '\" talk\"[p=0.00, l=12.50]', '\" journalist\"[p=0.00, l=12.31]', '\" \"[p=0.00, l=12.06]', '\" writer\"[p=0.00, l=11.88]', '\" host\"[p=0.00, l=11.81]']\n",
      "\n",
      "\" Zion Williamson\" | cur_rng=(18, 20)\n",
      "token_idx=18 [\" Zion\"] => ['\" basketball\"[p=0.07, l=12.19]', '\" singer\"[p=0.06, l=12.12]', '\" rapper\"[p=0.05, l=11.81]', '\" football\"[p=0.04, l=11.75]', '\" musician\"[p=0.04, l=11.69]', '\" unknown\"[p=0.04, l=11.69]', '\"?\\n\"[p=0.03, l=11.38]', '\" soccer\"[p=0.02, l=11.19]', '\"??\"[p=0.02, l=11.06]', '\" artist\"[p=0.02, l=10.88]', '\" prophet\"[p=0.02, l=10.88]', '\" (\"[p=0.02, l=10.88]', '\" no\"[p=0.02, l=10.81]', '\" actor\"[p=0.02, l=10.75]', '\" student\"[p=0.01, l=10.62]']\n",
      "token_idx=19 [\" Williamson\"] => ['\" basketball\"[p=0.81, l=16.75]', '\" football\"[p=0.02, l=13.00]', '\" athlete\"[p=0.01, l=12.56]', '\" Basketball\"[p=0.01, l=12.31]', '\" NBA\"[p=0.01, l=12.31]', '\" college\"[p=0.01, l=12.12]', '\" professional\"[p=0.01, l=11.81]', '\" unknown\"[p=0.01, l=11.75]', '\" (\"[p=0.01, l=11.75]', '\" actor\"[p=0.00, l=11.44]', '\"??\"[p=0.00, l=11.38]', '\" basket\"[p=0.00, l=11.31]', '\" student\"[p=0.00, l=11.06]', '\" soccer\"[p=0.00, l=11.00]', '\"?\\n\"[p=0.00, l=11.00]']\n",
      "\n",
      "\" John Mulaney\" | cur_rng=(21, 24)\n",
      "token_idx=21 [\" John\"] => ['\" unknown\"[p=0.12, l=13.19]', '\"?\\n\"[p=0.06, l=12.44]', '\"?\"[p=0.04, l=12.12]', '\" no\"[p=0.03, l=11.75]', '\"???\"[p=0.03, l=11.69]', '\"??\"[p=0.02, l=11.56]', '\" lawyer\"[p=0.02, l=11.50]', '\" programmer\"[p=0.02, l=11.50]', '\" teacher\"[p=0.02, l=11.31]', '\" farmer\"[p=0.02, l=11.25]', '\" software\"[p=0.02, l=11.25]', '\" actor\"[p=0.02, l=11.19]', '\" (\"[p=0.02, l=11.12]', '\" doctor\"[p=0.01, l=11.00]', '\" student\"[p=0.01, l=11.00]']\n",
      "token_idx=22 [\" Mul\"] => ['\" musician\"[p=0.03, l=9.94]', '\" artist\"[p=0.02, l=9.69]', '\" actor\"[p=0.02, l=9.62]', '\" singer\"[p=0.02, l=9.56]', '\" farmer\"[p=0.02, l=9.50]', '\"?\\n\"[p=0.02, l=9.50]', '\"??\"[p=0.02, l=9.44]', '\" unknown\"[p=0.01, l=9.31]', '\"???\"[p=0.01, l=9.12]', '\" programmer\"[p=0.01, l=9.12]', '\" engineer\"[p=0.01, l=9.06]', '\" \"[p=0.01, l=9.00]', '\" politician\"[p=0.01, l=9.00]', '\"?\"[p=0.01, l=8.81]', '\" \\n\"[p=0.01, l=8.75]']\n",
      "token_idx=23 [\"aney\"] => ['\" comedian\"[p=0.76, l=16.88]', '\" stand\"[p=0.04, l=14.00]', '\" actor\"[p=0.02, l=13.31]', '\"??\"[p=0.01, l=12.50]', '\" politician\"[p=0.01, l=12.44]', '\" Com\"[p=0.01, l=12.38]', '\"?\\n\"[p=0.01, l=12.31]', '\" (\"[p=0.01, l=12.06]', '\" writer\"[p=0.00, l=11.75]', '\" unknown\"[p=0.00, l=11.62]', '\" actress\"[p=0.00, l=11.62]', '\" musician\"[p=0.00, l=11.50]', '\" comic\"[p=0.00, l=11.44]', '\"?\"[p=0.00, l=11.44]', '\"???\"[p=0.00, l=11.44]']\n",
      "\n",
      "\" Ariana Grande\" | cur_rng=(25, 28)\n",
      "token_idx=25 [\" Ari\"] => ['\" singer\"[p=0.18, l=13.19]', '\" musician\"[p=0.06, l=12.06]', '\" artist\"[p=0.05, l=11.94]', '\" student\"[p=0.02, l=11.00]', '\" actor\"[p=0.02, l=10.94]', '\"?\\n\"[p=0.02, l=10.94]', '\" software\"[p=0.02, l=10.75]', '\" pop\"[p=0.01, l=10.62]', '\" unknown\"[p=0.01, l=10.50]', '\" actress\"[p=0.01, l=10.50]', '\" You\"[p=0.01, l=10.44]', '\"??\"[p=0.01, l=10.38]', '\" model\"[p=0.01, l=10.31]', '\" teacher\"[p=0.01, l=10.25]', '\" entrepreneur\"[p=0.01, l=10.12]']\n",
      "token_idx=26 [\"ana\"] => ['\" singer\"[p=0.54, l=14.88]', '\" pop\"[p=0.05, l=12.50]', '\" unknown\"[p=0.03, l=12.00]', '\"?\\n\"[p=0.03, l=11.94]', '\" musician\"[p=0.02, l=11.75]', '\" artist\"[p=0.01, l=11.25]', '\" actress\"[p=0.01, l=11.19]', '\" no\"[p=0.01, l=11.19]', '\"?\"[p=0.01, l=11.12]', '\" (\"[p=0.01, l=10.94]', '\"??\"[p=0.01, l=10.56]', '\" model\"[p=0.01, l=10.50]', '\" student\"[p=0.01, l=10.44]', '\" not\"[p=0.01, l=10.31]', '\" teacher\"[p=0.01, l=10.25]']\n",
      "token_idx=27 [\" Grande\"] => ['\" singer\"[p=0.93, l=20.50]', '\" musician\"[p=0.02, l=16.88]', '\" pop\"[p=0.02, l=16.50]', '\" Singer\"[p=0.01, l=15.44]', '\" artist\"[p=0.00, l=14.50]', '\" actress\"[p=0.00, l=14.31]', '\" music\"[p=0.00, l=13.75]', '\" \"[p=0.00, l=13.44]', '\" songwriter\"[p=0.00, l=13.00]', '\" Music\"[p=0.00, l=13.00]', '\" celebrity\"[p=0.00, l=12.94]', '\" (\"[p=0.00, l=12.81]', '\" entert\"[p=0.00, l=12.44]', '\" singers\"[p=0.00, l=12.38]', '\" vocalist\"[p=0.00, l=12.31]']\n",
      "\n",
      "\" Joe Scarborough\" | cur_rng=(29, 31)\n",
      "token_idx=29 [\" Joe\"] => ['\" unknown\"[p=0.08, l=12.44]', '\"?\\n\"[p=0.05, l=12.06]', '\"?\"[p=0.04, l=11.69]', '\"??\"[p=0.03, l=11.50]', '\"???\"[p=0.03, l=11.44]', '\" student\"[p=0.02, l=10.94]', '\" programmer\"[p=0.02, l=10.94]', '\" politician\"[p=0.02, l=10.94]', '\" no\"[p=0.02, l=10.88]', '\" software\"[p=0.02, l=10.81]', '\" farmer\"[p=0.01, l=10.75]', '\" (\"[p=0.01, l=10.75]', '\" engineer\"[p=0.01, l=10.62]', '\" unemployed\"[p=0.01, l=10.56]', '\"?\\n\\n\"[p=0.01, l=10.56]']\n",
      "token_idx=30 [\" Scarborough\"] => ['\" politician\"[p=0.50, l=17.00]', '\" journalist\"[p=0.14, l=15.75]', '\" TV\"[p=0.06, l=14.81]', '\" television\"[p=0.05, l=14.62]', '\" political\"[p=0.04, l=14.50]', '\" news\"[p=0.03, l=14.31]', '\" musician\"[p=0.01, l=13.38]', '\" tv\"[p=0.01, l=13.31]', '\" lawyer\"[p=0.01, l=13.00]', '\" Polit\"[p=0.01, l=12.69]', '\" (\"[p=0.01, l=12.56]', '\" Journal\"[p=0.01, l=12.56]', '\" media\"[p=0.01, l=12.44]', '\" talk\"[p=0.00, l=12.31]', '\" actor\"[p=0.00, l=12.25]']\n",
      "\n",
      "\" Andrey Rublev\" | cur_rng=(32, 36)\n",
      "token_idx=32 [\" And\"] => ['\"?\\n\"[p=0.09, l=11.75]', '\" musician\"[p=0.04, l=10.94]', '\" singer\"[p=0.03, l=10.62]', '\"?\\n\\n\"[p=0.03, l=10.56]', '\"?\"[p=0.03, l=10.56]', '\"??\"[p=0.02, l=10.38]', '\" programmer\"[p=0.02, l=10.25]', '\" software\"[p=0.02, l=10.12]', '\" artist\"[p=0.02, l=10.12]', '\" what\"[p=0.02, l=10.06]', '\" lawyer\"[p=0.02, l=10.06]', '\" engineer\"[p=0.01, l=9.94]', '\"...\"[p=0.01, l=9.88]', '\" a\"[p=0.01, l=9.88]', '\"???\"[p=0.01, l=9.81]']\n",
      "token_idx=33 [\"rey\"] => ['\"?\\n\"[p=0.12, l=12.56]', '\" programmer\"[p=0.06, l=11.88]', '\"?\\n\\n\"[p=0.06, l=11.88]', '\" unknown\"[p=0.06, l=11.88]', '\"?\"[p=0.05, l=11.69]', '\"??\"[p=0.05, l=11.62]', '\" software\"[p=0.03, l=11.25]', '\"???\"[p=0.03, l=11.19]', '\" engineer\"[p=0.02, l=10.56]', '\" entrepreneur\"[p=0.02, l=10.50]', '\" student\"[p=0.01, l=10.38]', '\" artist\"[p=0.01, l=10.25]', '\" no\"[p=0.01, l=10.19]', '\" astronaut\"[p=0.01, l=9.94]', '\" what\"[p=0.01, l=9.94]']\n",
      "token_idx=34 [\" Rub\"] => ['\" artist\"[p=0.03, l=9.81]', '\" unknown\"[p=0.02, l=9.50]', '\"?\\n\"[p=0.02, l=9.25]', '\" singer\"[p=0.01, l=9.00]', '\"??\"[p=0.01, l=9.00]', '\" musician\"[p=0.01, l=8.88]', '\" rapper\"[p=0.01, l=8.88]', '\" Rub\"[p=0.01, l=8.75]', '\" painter\"[p=0.01, l=8.56]', '\"???\"[p=0.01, l=8.50]', '\" not\"[p=0.01, l=8.50]', '\" programmer\"[p=0.01, l=8.50]', '\" \"[p=0.01, l=8.38]', '\"?\"[p=0.01, l=8.31]', '\" no\"[p=0.01, l=8.31]']\n",
      "token_idx=35 [\"lev\"] => ['\" tennis\"[p=0.52, l=16.25]', '\" artist\"[p=0.06, l=14.00]', '\" politician\"[p=0.05, l=13.88]', '\" painter\"[p=0.03, l=13.44]', '\" musician\"[p=0.03, l=13.31]', '\" composer\"[p=0.02, l=13.19]', '\" writer\"[p=0.02, l=12.94]', '\" novelist\"[p=0.01, l=12.50]', '\" chess\"[p=0.01, l=12.19]', '\" pian\"[p=0.01, l=12.19]', '\" poet\"[p=0.01, l=12.12]', '\" inventor\"[p=0.01, l=11.88]', '\"?\\n\"[p=0.01, l=11.75]', '\" athlete\"[p=0.01, l=11.69]', '\" (\"[p=0.01, l=11.69]']\n",
      "\n",
      "\" Samuel L. Jackson\" | cur_rng=(37, 41)\n",
      "token_idx=37 [\" Samuel\"] => ['\" prophet\"[p=0.21, l=13.69]', '\" unknown\"[p=0.09, l=12.81]', '\"?\\n\"[p=0.06, l=12.44]', '\"??\"[p=0.03, l=11.88]', '\" actor\"[p=0.03, l=11.81]', '\"?\"[p=0.03, l=11.62]', '\" no\"[p=0.02, l=11.56]', '\"???\"[p=0.02, l=11.56]', '\" biblical\"[p=0.01, l=10.69]', '\" not\"[p=0.01, l=10.69]', '\" (\"[p=0.01, l=10.69]', '\" philosopher\"[p=0.01, l=10.69]', '\" I\"[p=0.01, l=10.62]', '\"?\\n\\n\"[p=0.01, l=10.38]', '\" teacher\"[p=0.01, l=10.31]']\n",
      "token_idx=38 [\" L\"] => ['\"?\\n\"[p=0.05, l=10.62]', '\" lawyer\"[p=0.05, l=10.50]', '\" actor\"[p=0.03, l=9.88]', '\"??\"[p=0.02, l=9.81]', '\" singer\"[p=0.02, l=9.75]', '\" musician\"[p=0.02, l=9.56]', '\"?\"[p=0.02, l=9.50]', '\" scientist\"[p=0.01, l=9.31]', '\"?\\n\\n\"[p=0.01, l=9.31]', '\" rapper\"[p=0.01, l=9.25]', '\" L\"[p=0.01, l=9.25]', '\" \"[p=0.01, l=9.06]', '\"???\"[p=0.01, l=9.06]', '\" artist\"[p=0.01, l=9.06]', '\" (\"[p=0.01, l=9.00]']\n",
      "token_idx=39 [\".\"] => ['\" lawyer\"[p=0.08, l=11.44]', '\"?\\n\"[p=0.07, l=11.25]', '\"?\\n\\n\"[p=0.04, l=10.69]', '\" (\"[p=0.03, l=10.38]', '\"?\"[p=0.02, l=10.25]', '\" \\n\"[p=0.02, l=10.19]', '\" politician\"[p=0.02, l=10.06]', '\" unknown\"[p=0.02, l=9.88]', '\"??\"[p=0.02, l=9.88]', '\" scientist\"[p=0.01, l=9.62]', '\" letter\"[p=0.01, l=9.56]', '\" L\"[p=0.01, l=9.56]', '\" artist\"[p=0.01, l=9.25]', '\" \"[p=0.01, l=9.19]', '\" actor\"[p=0.01, l=9.12]']\n",
      "token_idx=40 [\" Jackson\"] => ['\" actor\"[p=0.32, l=14.00]', '\" singer\"[p=0.05, l=12.19]', '\" politician\"[p=0.04, l=11.88]', '\" musician\"[p=0.03, l=11.69]', '\" unknown\"[p=0.03, l=11.50]', '\"?\\n\"[p=0.03, l=11.50]', '\" artist\"[p=0.03, l=11.50]', '\" (\"[p=0.02, l=11.00]', '\"?\"[p=0.01, l=10.94]', '\" Jackson\"[p=0.01, l=10.94]', '\" football\"[p=0.01, l=10.88]', '\"??\"[p=0.01, l=10.88]', '\" rapper\"[p=0.01, l=10.88]', '\" basketball\"[p=0.01, l=10.88]', '\" painter\"[p=0.01, l=10.62]']\n",
      "======================================================================================================================================================\n",
      "\n",
      "layer='model.layers.12'\n",
      "\n",
      "\"Ans:\" | cur_rng=(-2, 0)\n",
      "token_idx=-2 [\"Ans\"] => ['\"?\\n\"[p=0.10, l=11.75]', '\"??\"[p=0.05, l=11.12]', '\"?\\n\\n\"[p=0.04, l=10.81]', '\" student\"[p=0.03, l=10.69]', '\" programmer\"[p=0.03, l=10.50]', '\"?\"[p=0.03, l=10.38]', '\" unknown\"[p=0.02, l=10.31]', '\"???\"[p=0.02, l=10.25]', '\" artist\"[p=0.02, l=10.06]', '\" software\"[p=0.02, l=10.00]', '\" singer\"[p=0.01, l=9.62]', '\" entrepreneur\"[p=0.01, l=9.62]', '\" computer\"[p=0.01, l=9.56]', '\" (\"[p=0.01, l=9.50]', '\" engineer\"[p=0.01, l=9.44]']\n",
      "token_idx=-1 [\":\"] => ['\"?\\n\"[p=0.25, l=14.12]', '\"?\\n\\n\"[p=0.14, l=13.56]', '\"?\"[p=0.06, l=12.62]', '\"??\"[p=0.04, l=12.25]', '\" \\n\"[p=0.02, l=11.75]', '\" software\"[p=0.02, l=11.62]', '\" lawyer\"[p=0.02, l=11.62]', '\" politician\"[p=0.02, l=11.50]', '\" artist\"[p=0.02, l=11.31]', '\" actor\"[p=0.01, l=11.19]', '\"???\"[p=0.01, l=11.00]', '\" programmer\"[p=0.01, l=10.88]', '\" astronaut\"[p=0.01, l=10.88]', '\" doctor\"[p=0.01, l=10.75]', '\" computer\"[p=0.01, l=10.75]']\n",
      "\n",
      "\" Trevor Noah\" | cur_rng=(13, 15)\n",
      "token_idx=13 [\" Trevor\"] => ['\"?\\n\"[p=0.07, l=12.12]', '\" unknown\"[p=0.06, l=12.00]', '\"?\"[p=0.05, l=11.75]', '\"??\"[p=0.05, l=11.75]', '\"???\"[p=0.04, l=11.62]', '\"?\\n\\n\"[p=0.03, l=11.25]', '\" software\"[p=0.03, l=11.06]', '\" (\"[p=0.02, l=10.69]', '\" no\"[p=0.01, l=10.50]', '\" actor\"[p=0.01, l=10.44]', '\" farmer\"[p=0.01, l=10.25]', '\" data\"[p=0.01, l=10.12]', '\" You\"[p=0.01, l=10.06]', '\" engineer\"[p=0.01, l=9.94]', '\" what\"[p=0.01, l=9.94]']\n",
      "token_idx=14 [\" Noah\"] => ['\" comedian\"[p=0.96, l=21.25]', '\" stand\"[p=0.01, l=16.12]', '\" TV\"[p=0.01, l=16.00]', '\" Com\"[p=0.00, l=15.75]', '\" television\"[p=0.00, l=15.56]', '\" actor\"[p=0.00, l=15.31]', '\" journalist\"[p=0.00, l=14.88]', '\" political\"[p=0.00, l=14.75]', '\" tv\"[p=0.00, l=14.31]', '\" politician\"[p=0.00, l=14.12]', '\" talk\"[p=0.00, l=13.94]', '\" comedy\"[p=0.00, l=13.81]', '\" (\"[p=0.00, l=13.75]', '\" \"[p=0.00, l=13.75]', '\" media\"[p=0.00, l=13.62]']\n",
      "\n",
      "\" Zion Williamson\" | cur_rng=(18, 20)\n",
      "token_idx=18 [\" Zion\"] => ['\" singer\"[p=0.06, l=11.81]', '\" basketball\"[p=0.05, l=11.62]', '\" unknown\"[p=0.05, l=11.56]', '\" football\"[p=0.05, l=11.56]', '\"?\\n\"[p=0.04, l=11.38]', '\" rapper\"[p=0.03, l=11.25]', '\" soccer\"[p=0.03, l=11.25]', '\" musician\"[p=0.03, l=11.19]', '\"??\"[p=0.02, l=10.94]', '\" (\"[p=0.02, l=10.62]', '\" student\"[p=0.02, l=10.56]', '\" no\"[p=0.02, l=10.56]', '\" artist\"[p=0.02, l=10.50]', '\"???\"[p=0.01, l=10.25]', '\" actor\"[p=0.01, l=10.19]']\n",
      "token_idx=19 [\" Williamson\"] => ['\" basketball\"[p=0.89, l=18.12]', '\" football\"[p=0.01, l=13.69]', '\" athlete\"[p=0.01, l=13.50]', '\" professional\"[p=0.01, l=13.50]', '\" NBA\"[p=0.01, l=13.44]', '\" Basketball\"[p=0.01, l=13.44]', '\" college\"[p=0.01, l=13.00]', '\" soccer\"[p=0.00, l=12.19]', '\" actor\"[p=0.00, l=12.12]', '\" baseball\"[p=0.00, l=12.00]', '\" basket\"[p=0.00, l=12.00]', '\" student\"[p=0.00, l=11.88]', '\" (\"[p=0.00, l=11.88]', '\" entrepreneur\"[p=0.00, l=11.75]', '\" \"[p=0.00, l=11.69]']\n",
      "\n",
      "\" John Mulaney\" | cur_rng=(21, 24)\n",
      "token_idx=21 [\" John\"] => ['\" unknown\"[p=0.14, l=13.44]', '\"?\\n\"[p=0.06, l=12.56]', '\"?\"[p=0.05, l=12.31]', '\"???\"[p=0.03, l=11.94]', '\" no\"[p=0.03, l=11.88]', '\"??\"[p=0.03, l=11.75]', '\" programmer\"[p=0.02, l=11.50]', '\" farmer\"[p=0.02, l=11.44]', '\" lawyer\"[p=0.02, l=11.44]', '\" software\"[p=0.02, l=11.25]', '\" teacher\"[p=0.02, l=11.25]', '\" (\"[p=0.02, l=11.25]', '\" actor\"[p=0.02, l=11.19]', '\" engineer\"[p=0.01, l=11.06]', '\" artist\"[p=0.01, l=10.94]']\n",
      "token_idx=22 [\" Mul\"] => ['\" musician\"[p=0.03, l=10.31]', '\" actor\"[p=0.03, l=10.19]', '\" farmer\"[p=0.02, l=10.00]', '\" artist\"[p=0.02, l=9.88]', '\" singer\"[p=0.02, l=9.81]', '\" unknown\"[p=0.02, l=9.81]', '\"??\"[p=0.02, l=9.75]', '\" programmer\"[p=0.01, l=9.62]', '\" engineer\"[p=0.01, l=9.56]', '\"?\\n\"[p=0.01, l=9.56]', '\"???\"[p=0.01, l=9.44]', '\" politician\"[p=0.01, l=9.38]', '\" software\"[p=0.01, l=9.31]', '\" \"[p=0.01, l=9.25]', '\" \\n\"[p=0.01, l=9.06]']\n",
      "token_idx=23 [\"aney\"] => ['\" comedian\"[p=0.83, l=18.12]', '\" stand\"[p=0.05, l=15.38]', '\" actor\"[p=0.02, l=14.25]', '\" Com\"[p=0.01, l=13.69]', '\" (\"[p=0.00, l=12.94]', '\" John\"[p=0.00, l=12.94]', '\" politician\"[p=0.00, l=12.69]', '\"??\"[p=0.00, l=12.62]', '\" writer\"[p=0.00, l=12.38]', '\" comic\"[p=0.00, l=12.38]', '\"?\\n\"[p=0.00, l=12.19]', '\" Stand\"[p=0.00, l=12.19]', '\" \"[p=0.00, l=12.12]', '\" lawyer\"[p=0.00, l=11.94]', '\" \\n\"[p=0.00, l=11.62]']\n",
      "\n",
      "\" Ariana Grande\" | cur_rng=(25, 28)\n",
      "token_idx=25 [\" Ari\"] => ['\" singer\"[p=0.07, l=11.81]', '\"?\\n\"[p=0.04, l=11.31]', '\" artist\"[p=0.04, l=11.19]', '\" musician\"[p=0.03, l=10.88]', '\" student\"[p=0.02, l=10.75]', '\" unknown\"[p=0.02, l=10.69]', '\"??\"[p=0.02, l=10.62]', '\" software\"[p=0.02, l=10.38]', '\"?\"[p=0.02, l=10.38]', '\" actor\"[p=0.02, l=10.31]', '\"???\"[p=0.01, l=10.19]', '\" teacher\"[p=0.01, l=10.00]', '\" entrepreneur\"[p=0.01, l=9.94]', '\" actress\"[p=0.01, l=9.81]', '\" You\"[p=0.01, l=9.81]']\n",
      "token_idx=26 [\"ana\"] => ['\" singer\"[p=0.50, l=14.69]', '\" pop\"[p=0.05, l=12.31]', '\"?\\n\"[p=0.04, l=12.19]', '\" unknown\"[p=0.04, l=12.06]', '\" musician\"[p=0.02, l=11.44]', '\"?\"[p=0.02, l=11.31]', '\" no\"[p=0.01, l=11.12]', '\" artist\"[p=0.01, l=11.06]', '\" actress\"[p=0.01, l=10.81]', '\" (\"[p=0.01, l=10.81]', '\"??\"[p=0.01, l=10.75]', '\" model\"[p=0.01, l=10.50]', '\" student\"[p=0.01, l=10.50]', '\" not\"[p=0.01, l=10.38]', '\"???\"[p=0.01, l=10.31]']\n",
      "token_idx=27 [\" Grande\"] => ['\" singer\"[p=0.96, l=22.38]', '\" musician\"[p=0.02, l=18.25]', '\" pop\"[p=0.02, l=18.25]', '\" Singer\"[p=0.00, l=16.75]', '\" artist\"[p=0.00, l=15.56]', '\" actress\"[p=0.00, l=15.50]', '\" music\"[p=0.00, l=14.94]', '\" \"[p=0.00, l=14.50]', '\" songwriter\"[p=0.00, l=14.25]', '\" vocalist\"[p=0.00, l=13.69]', '\" singers\"[p=0.00, l=13.69]', '\" Music\"[p=0.00, l=13.62]', '\" signer\"[p=0.00, l=13.62]', '\" entert\"[p=0.00, l=13.31]', '\" actor\"[p=0.00, l=13.31]']\n",
      "\n",
      "\" Joe Scarborough\" | cur_rng=(29, 31)\n",
      "token_idx=29 [\" Joe\"] => ['\" unknown\"[p=0.07, l=12.50]', '\"?\\n\"[p=0.03, l=11.62]', '\"???\"[p=0.02, l=11.31]', '\"?\"[p=0.02, l=11.25]', '\"??\"[p=0.02, l=11.19]', '\" politician\"[p=0.02, l=11.12]', '\" no\"[p=0.02, l=11.06]', '\" unemployed\"[p=0.02, l=11.00]', '\" farmer\"[p=0.02, l=11.00]', '\" student\"[p=0.01, l=10.88]', '\" teacher\"[p=0.01, l=10.88]', '\" plumber\"[p=0.01, l=10.81]', '\" programmer\"[p=0.01, l=10.81]', '\" software\"[p=0.01, l=10.81]', '\" (\"[p=0.01, l=10.81]']\n",
      "token_idx=30 [\" Scarborough\"] => ['\" politician\"[p=0.33, l=18.12]', '\" journalist\"[p=0.26, l=17.88]', '\" television\"[p=0.11, l=17.00]', '\" TV\"[p=0.09, l=16.88]', '\" news\"[p=0.06, l=16.38]', '\" political\"[p=0.04, l=16.12]', '\" tv\"[p=0.02, l=15.12]', '\" media\"[p=0.01, l=14.31]', '\" talk\"[p=0.01, l=14.06]', '\" lawyer\"[p=0.01, l=14.06]', '\" Journal\"[p=0.01, l=14.00]', '\" Polit\"[p=0.00, l=13.50]', '\" radio\"[p=0.00, l=13.38]', '\" (\"[p=0.00, l=13.38]', '\" musician\"[p=0.00, l=13.38]']\n",
      "\n",
      "\" Andrey Rublev\" | cur_rng=(32, 36)\n",
      "token_idx=32 [\" And\"] => ['\"?\\n\"[p=0.09, l=11.50]', '\"?\\n\\n\"[p=0.03, l=10.56]', '\"?\"[p=0.03, l=10.50]', '\" musician\"[p=0.02, l=10.19]', '\"??\"[p=0.02, l=10.12]', '\" singer\"[p=0.02, l=9.94]', '\" programmer\"[p=0.02, l=9.88]', '\" lawyer\"[p=0.02, l=9.81]', '\" conjunction\"[p=0.02, l=9.75]', '\" And\"[p=0.02, l=9.75]', '\"...\"[p=0.02, l=9.75]', '\" what\"[p=0.02, l=9.75]', '\" logic\"[p=0.01, l=9.62]', '\" (\"[p=0.01, l=9.62]', '\"???\"[p=0.01, l=9.62]']\n",
      "token_idx=33 [\"rey\"] => ['\"?\\n\"[p=0.12, l=12.44]', '\" programmer\"[p=0.06, l=11.81]', '\"?\\n\\n\"[p=0.05, l=11.69]', '\" unknown\"[p=0.05, l=11.56]', '\"??\"[p=0.05, l=11.50]', '\"?\"[p=0.05, l=11.50]', '\" software\"[p=0.04, l=11.44]', '\"???\"[p=0.03, l=11.06]', '\" engineer\"[p=0.02, l=10.62]', '\" student\"[p=0.02, l=10.56]', '\" entrepreneur\"[p=0.01, l=10.25]', '\" artist\"[p=0.01, l=10.19]', '\" no\"[p=0.01, l=9.94]', '\" developer\"[p=0.01, l=9.88]', '\" computer\"[p=0.01, l=9.88]']\n",
      "token_idx=34 [\" Rub\"] => ['\" artist\"[p=0.04, l=10.69]', '\" unknown\"[p=0.03, l=10.19]', '\" musician\"[p=0.02, l=9.88]', '\" singer\"[p=0.02, l=9.81]', '\"??\"[p=0.02, l=9.69]', '\"?\\n\"[p=0.02, l=9.69]', '\" programmer\"[p=0.01, l=9.44]', '\" Rub\"[p=0.01, l=9.31]', '\" actor\"[p=0.01, l=9.25]', '\" entrepreneur\"[p=0.01, l=9.25]', '\" politician\"[p=0.01, l=9.25]', '\" painter\"[p=0.01, l=9.19]', '\" rapper\"[p=0.01, l=9.19]', '\" software\"[p=0.01, l=9.06]', '\" mathematic\"[p=0.01, l=8.94]']\n",
      "token_idx=35 [\"lev\"] => ['\" tennis\"[p=0.59, l=16.12]', '\" artist\"[p=0.03, l=13.19]', '\" painter\"[p=0.03, l=13.12]', '\" politician\"[p=0.03, l=13.06]', '\" musician\"[p=0.03, l=13.00]', '\" writer\"[p=0.01, l=12.25]', '\" composer\"[p=0.01, l=12.12]', '\" athlete\"[p=0.01, l=12.00]', '\" poet\"[p=0.01, l=11.94]', '\" novelist\"[p=0.01, l=11.88]', '\" actor\"[p=0.01, l=11.75]', '\" chess\"[p=0.01, l=11.69]', '\" pian\"[p=0.01, l=11.62]', '\"?\\n\"[p=0.01, l=11.44]', '\" (\"[p=0.01, l=11.44]']\n",
      "\n",
      "\" Samuel L. Jackson\" | cur_rng=(37, 41)\n",
      "token_idx=37 [\" Samuel\"] => ['\" prophet\"[p=0.21, l=13.50]', '\" unknown\"[p=0.07, l=12.44]', '\"?\\n\"[p=0.04, l=11.81]', '\" actor\"[p=0.03, l=11.56]', '\"??\"[p=0.02, l=11.25]', '\" no\"[p=0.02, l=11.19]', '\"???\"[p=0.02, l=10.94]', '\"?\"[p=0.02, l=10.94]', '\" biblical\"[p=0.02, l=10.88]', '\" (\"[p=0.01, l=10.62]', '\" judge\"[p=0.01, l=10.50]', '\" not\"[p=0.01, l=10.50]', '\" I\"[p=0.01, l=10.31]', '\" Prophet\"[p=0.01, l=10.25]', '\" priest\"[p=0.01, l=10.19]']\n",
      "token_idx=38 [\" L\"] => ['\"?\\n\"[p=0.05, l=10.88]', '\" actor\"[p=0.05, l=10.88]', '\" lawyer\"[p=0.04, l=10.81]', '\"??\"[p=0.03, l=10.44]', '\" musician\"[p=0.03, l=10.38]', '\" singer\"[p=0.03, l=10.31]', '\" rapper\"[p=0.02, l=10.25]', '\"???\"[p=0.02, l=9.81]', '\" detective\"[p=0.02, l=9.75]', '\"?\"[p=0.01, l=9.69]', '\" (\"[p=0.01, l=9.62]', '\" scientist\"[p=0.01, l=9.62]', '\"?\\n\\n\"[p=0.01, l=9.38]', '\" artist\"[p=0.01, l=9.38]', '\" \"[p=0.01, l=9.19]']\n",
      "token_idx=39 [\".\"] => ['\" lawyer\"[p=0.11, l=11.75]', '\"?\\n\"[p=0.05, l=11.00]', '\"?\\n\\n\"[p=0.03, l=10.38]', '\" (\"[p=0.02, l=10.25]', '\" politician\"[p=0.02, l=10.19]', '\"?\"[p=0.02, l=10.06]', '\" \\n\"[p=0.02, l=9.94]', '\"??\"[p=0.02, l=9.94]', '\" unknown\"[p=0.02, l=9.88]', '\" scientist\"[p=0.02, l=9.81]', '\" L\"[p=0.01, l=9.50]', '\" letter\"[p=0.01, l=9.50]', '\" Lawyer\"[p=0.01, l=9.44]', '\" astronaut\"[p=0.01, l=9.38]', '\" artist\"[p=0.01, l=9.38]']\n",
      "token_idx=40 [\" Jackson\"] => ['\" actor\"[p=0.43, l=14.38]', '\" singer\"[p=0.05, l=12.19]', '\" politician\"[p=0.03, l=11.62]', '\" musician\"[p=0.03, l=11.56]', '\" artist\"[p=0.02, l=11.44]', '\" rapper\"[p=0.02, l=11.31]', '\" basketball\"[p=0.02, l=11.25]', '\"?\\n\"[p=0.02, l=11.19]', '\" painter\"[p=0.02, l=11.12]', '\" Jackson\"[p=0.01, l=10.88]', '\" (\"[p=0.01, l=10.88]', '\" unknown\"[p=0.01, l=10.81]', '\" football\"[p=0.01, l=10.75]', '\"?\"[p=0.01, l=10.75]', '\"??\"[p=0.01, l=10.69]']\n",
      "======================================================================================================================================================\n",
      "\n",
      "layer='model.layers.15'\n",
      "\n",
      "\"Ans:\" | cur_rng=(-2, 0)\n",
      "token_idx=-2 [\"Ans\"] => ['\"?\\n\"[p=0.07, l=11.44]', '\" student\"[p=0.05, l=11.00]', '\" programmer\"[p=0.04, l=10.81]', '\"??\"[p=0.04, l=10.75]', '\"?\\n\\n\"[p=0.03, l=10.50]', '\" software\"[p=0.02, l=10.19]', '\" unknown\"[p=0.02, l=10.19]', '\" artist\"[p=0.02, l=10.12]', '\"?\"[p=0.02, l=10.06]', '\" computer\"[p=0.01, l=9.81]', '\"???\"[p=0.01, l=9.81]', '\" entrepreneur\"[p=0.01, l=9.69]', '\" singer\"[p=0.01, l=9.69]', '\" data\"[p=0.01, l=9.62]', '\" (\"[p=0.01, l=9.56]']\n",
      "token_idx=-1 [\":\"] => ['\"?\\n\"[p=0.11, l=12.88]', '\"?\\n\\n\"[p=0.11, l=12.88]', '\"?\"[p=0.04, l=11.81]', '\" \\n\"[p=0.04, l=11.81]', '\"??\"[p=0.03, l=11.62]', '\" software\"[p=0.03, l=11.50]', '\" lawyer\"[p=0.03, l=11.50]', '\" politician\"[p=0.03, l=11.44]', '\" artist\"[p=0.03, l=11.38]', '\" actor\"[p=0.02, l=11.06]', '\"???\"[p=0.02, l=11.00]', '\" programmer\"[p=0.01, l=10.75]', '\" \\n\\n\"[p=0.01, l=10.69]', '\" (\"[p=0.01, l=10.69]', '\" engineer\"[p=0.01, l=10.69]']\n",
      "\n",
      "\" Trevor Noah\" | cur_rng=(13, 15)\n",
      "token_idx=13 [\" Trevor\"] => ['\" unknown\"[p=0.06, l=12.06]', '\"?\\n\"[p=0.05, l=11.94]', '\"??\"[p=0.05, l=11.81]', '\"???\"[p=0.04, l=11.69]', '\" comedian\"[p=0.04, l=11.62]', '\" software\"[p=0.03, l=11.50]', '\"?\"[p=0.03, l=11.38]', '\" actor\"[p=0.02, l=11.12]', '\" (\"[p=0.02, l=11.00]', '\" You\"[p=0.02, l=10.94]', '\" cr\"[p=0.02, l=10.88]', '\" criminal\"[p=0.02, l=10.81]', '\"?\\n\\n\"[p=0.02, l=10.81]', '\" musician\"[p=0.01, l=10.69]', '\" farmer\"[p=0.01, l=10.50]']\n",
      "token_idx=14 [\" Noah\"] => ['\" comedian\"[p=0.97, l=21.25]', '\" stand\"[p=0.01, l=16.50]', '\" Com\"[p=0.00, l=15.75]', '\" actor\"[p=0.00, l=15.19]', '\" TV\"[p=0.00, l=15.12]', '\" journalist\"[p=0.00, l=14.75]', '\" television\"[p=0.00, l=14.62]', '\" political\"[p=0.00, l=14.00]', '\" \"[p=0.00, l=13.88]', '\" comedy\"[p=0.00, l=13.81]', '\" (\"[p=0.00, l=13.69]', '\" politician\"[p=0.00, l=13.69]', '\" talk\"[p=0.00, l=13.62]', '\" comic\"[p=0.00, l=13.50]', '\" writer\"[p=0.00, l=13.44]']\n",
      "\n",
      "\" Zion Williamson\" | cur_rng=(18, 20)\n",
      "token_idx=18 [\" Zion\"] => ['\" unknown\"[p=0.06, l=11.38]', '\"?\\n\"[p=0.05, l=11.25]', '\" singer\"[p=0.05, l=11.19]', '\"??\"[p=0.04, l=11.00]', '\" rapper\"[p=0.03, l=10.75]', '\" basketball\"[p=0.03, l=10.75]', '\" musician\"[p=0.03, l=10.69]', '\" football\"[p=0.03, l=10.69]', '\" soccer\"[p=0.02, l=10.31]', '\"???\"[p=0.02, l=10.25]', '\" no\"[p=0.02, l=10.19]', '\"?\"[p=0.02, l=10.12]', '\" (\"[p=0.02, l=10.06]', '\" artist\"[p=0.01, l=9.94]', '\" student\"[p=0.01, l=9.81]']\n",
      "token_idx=19 [\" Williamson\"] => ['\" basketball\"[p=0.86, l=17.62]', '\" professional\"[p=0.01, l=13.38]', '\" football\"[p=0.01, l=13.38]', '\" Basketball\"[p=0.01, l=13.19]', '\" NBA\"[p=0.01, l=13.06]', '\" college\"[p=0.01, l=12.88]', '\" athlete\"[p=0.01, l=12.81]', '\" soccer\"[p=0.00, l=12.38]', '\" actor\"[p=0.00, l=11.88]', '\" basket\"[p=0.00, l=11.75]', '\" (\"[p=0.00, l=11.69]', '\" unknown\"[p=0.00, l=11.56]', '\" baseball\"[p=0.00, l=11.56]', '\" entrepreneur\"[p=0.00, l=11.44]', '\" \"[p=0.00, l=11.38]']\n",
      "\n",
      "\" John Mulaney\" | cur_rng=(21, 24)\n",
      "token_idx=21 [\" John\"] => ['\" unknown\"[p=0.09, l=13.06]', '\" actor\"[p=0.03, l=12.00]', '\" software\"[p=0.03, l=12.00]', '\" programmer\"[p=0.03, l=11.81]', '\" no\"[p=0.03, l=11.81]', '\"?\\n\"[p=0.03, l=11.81]', '\" farmer\"[p=0.03, l=11.75]', '\" lawyer\"[p=0.02, l=11.62]', '\" teacher\"[p=0.02, l=11.44]', '\" engineer\"[p=0.02, l=11.44]', '\"?\"[p=0.02, l=11.38]', '\" politician\"[p=0.02, l=11.31]', '\" astronaut\"[p=0.02, l=11.31]', '\" doctor\"[p=0.02, l=11.25]', '\" (\"[p=0.02, l=11.25]']\n",
      "token_idx=22 [\" Mul\"] => ['\" actor\"[p=0.03, l=10.81]', '\" farmer\"[p=0.03, l=10.81]', '\" musician\"[p=0.03, l=10.69]', '\" programmer\"[p=0.02, l=10.12]', '\" singer\"[p=0.02, l=10.12]', '\" engineer\"[p=0.02, l=10.06]', '\" artist\"[p=0.02, l=10.06]', '\" unknown\"[p=0.02, l=10.00]', '\" software\"[p=0.02, l=10.00]', '\"??\"[p=0.01, l=9.75]', '\" astronaut\"[p=0.01, l=9.69]', '\" cartoon\"[p=0.01, l=9.62]', '\"???\"[p=0.01, l=9.62]', '\" politician\"[p=0.01, l=9.50]', '\"?\\n\"[p=0.01, l=9.50]']\n",
      "token_idx=23 [\"aney\"] => ['\" comedian\"[p=0.85, l=18.25]', '\" stand\"[p=0.05, l=15.38]', '\" actor\"[p=0.01, l=14.19]', '\" Com\"[p=0.01, l=13.88]', '\" (\"[p=0.00, l=12.94]', '\" John\"[p=0.00, l=12.81]', '\" politician\"[p=0.00, l=12.75]', '\"??\"[p=0.00, l=12.38]', '\" comic\"[p=0.00, l=12.31]', '\" writer\"[p=0.00, l=12.25]', '\" \"[p=0.00, l=12.19]', '\" Stand\"[p=0.00, l=12.12]', '\" lawyer\"[p=0.00, l=12.06]', '\"?\\n\"[p=0.00, l=11.88]', '\" unknown\"[p=0.00, l=11.75]']\n",
      "\n",
      "\" Ariana Grande\" | cur_rng=(25, 28)\n",
      "token_idx=25 [\" Ari\"] => ['\" singer\"[p=0.09, l=12.38]', '\" artist\"[p=0.04, l=11.69]', '\" musician\"[p=0.04, l=11.56]', '\" actor\"[p=0.03, l=11.25]', '\"?\\n\"[p=0.02, l=10.94]', '\" student\"[p=0.02, l=10.88]', '\" software\"[p=0.02, l=10.69]', '\" actress\"[p=0.01, l=10.56]', '\" unknown\"[p=0.01, l=10.56]', '\"??\"[p=0.01, l=10.56]', '\" photographer\"[p=0.01, l=10.25]', '\" model\"[p=0.01, l=10.19]', '\"???\"[p=0.01, l=10.19]', '\" teacher\"[p=0.01, l=10.19]', '\" lawyer\"[p=0.01, l=10.12]']\n",
      "token_idx=26 [\"ana\"] => ['\" singer\"[p=0.44, l=14.06]', '\"?\\n\"[p=0.05, l=11.81]', '\" pop\"[p=0.04, l=11.75]', '\" unknown\"[p=0.04, l=11.69]', '\"?\"[p=0.03, l=11.19]', '\" musician\"[p=0.02, l=10.94]', '\" no\"[p=0.02, l=10.81]', '\" artist\"[p=0.01, l=10.62]', '\"??\"[p=0.01, l=10.56]', '\" (\"[p=0.01, l=10.38]', '\"?\\n\\n\"[p=0.01, l=10.25]', '\"???\"[p=0.01, l=10.12]', '\" not\"[p=0.01, l=10.00]', '\" student\"[p=0.01, l=9.94]', '\" does\"[p=0.01, l=9.94]']\n",
      "token_idx=27 [\" Grande\"] => ['\" singer\"[p=0.94, l=21.12]', '\" pop\"[p=0.02, l=17.38]', '\" musician\"[p=0.02, l=17.12]', '\" actress\"[p=0.01, l=16.00]', '\" Singer\"[p=0.00, l=15.44]', '\" artist\"[p=0.00, l=14.62]', '\" actor\"[p=0.00, l=14.00]', '\" music\"[p=0.00, l=13.81]', '\" \"[p=0.00, l=13.62]', '\" model\"[p=0.00, l=13.44]', '\" songwriter\"[p=0.00, l=13.38]', '\" vocalist\"[p=0.00, l=12.75]', '\" singers\"[p=0.00, l=12.62]', '\" (\"[p=0.00, l=12.62]', '\" entert\"[p=0.00, l=12.44]']\n",
      "\n",
      "\" Joe Scarborough\" | cur_rng=(29, 31)\n",
      "token_idx=29 [\" Joe\"] => ['\" unknown\"[p=0.05, l=12.06]', '\" politician\"[p=0.03, l=11.50]', '\" plumber\"[p=0.03, l=11.44]', '\" police\"[p=0.02, l=11.19]', '\" actor\"[p=0.02, l=11.06]', '\" teacher\"[p=0.02, l=10.94]', '\"?\\n\"[p=0.01, l=10.88]', '\" bar\"[p=0.01, l=10.88]', '\" no\"[p=0.01, l=10.81]', '\" farmer\"[p=0.01, l=10.81]', '\" jan\"[p=0.01, l=10.69]', '\" artist\"[p=0.01, l=10.69]', '\"???\"[p=0.01, l=10.62]', '\" (\"[p=0.01, l=10.62]', '\" barber\"[p=0.01, l=10.62]']\n",
      "token_idx=30 [\" Scarborough\"] => ['\" journalist\"[p=0.33, l=17.62]', '\" politician\"[p=0.23, l=17.25]', '\" TV\"[p=0.10, l=16.38]', '\" television\"[p=0.10, l=16.38]', '\" news\"[p=0.06, l=15.94]', '\" political\"[p=0.05, l=15.62]', '\" tv\"[p=0.02, l=14.69]', '\" media\"[p=0.01, l=13.88]', '\" Journal\"[p=0.01, l=13.81]', '\" talk\"[p=0.01, l=13.69]', '\" lawyer\"[p=0.01, l=13.62]', '\" (\"[p=0.00, l=13.12]', '\" actor\"[p=0.00, l=13.06]', '\" radio\"[p=0.00, l=13.06]', '\" new\"[p=0.00, l=13.00]']\n",
      "\n",
      "\" Andrey Rublev\" | cur_rng=(32, 36)\n",
      "token_idx=32 [\" And\"] => ['\"?\\n\"[p=0.13, l=12.19]', '\"?\"[p=0.05, l=11.31]', '\"?\\n\\n\"[p=0.05, l=11.25]', '\"??\"[p=0.05, l=11.19]', '\"???\"[p=0.02, l=10.56]', '\" programmer\"[p=0.02, l=10.44]', '\" musician\"[p=0.02, l=10.44]', '\" singer\"[p=0.02, l=10.31]', '\" And\"[p=0.02, l=10.31]', '\" software\"[p=0.02, l=10.12]', '\" lawyer\"[p=0.02, l=10.12]', '\"...\"[p=0.02, l=10.12]', '\" and\"[p=0.02, l=10.06]', '\" engineer\"[p=0.01, l=9.94]', '\" artist\"[p=0.01, l=9.94]']\n",
      "token_idx=33 [\"rey\"] => ['\" programmer\"[p=0.09, l=12.12]', '\"?\\n\"[p=0.08, l=12.06]', '\" software\"[p=0.07, l=11.94]', '\" unknown\"[p=0.05, l=11.50]', '\"?\\n\\n\"[p=0.03, l=11.12]', '\"?\"[p=0.03, l=11.06]', '\"??\"[p=0.03, l=11.06]', '\"???\"[p=0.02, l=10.75]', '\" engineer\"[p=0.02, l=10.75]', '\" student\"[p=0.02, l=10.69]', '\" developer\"[p=0.01, l=10.38]', '\" actor\"[p=0.01, l=10.19]', '\" computer\"[p=0.01, l=10.12]', '\" no\"[p=0.01, l=10.06]', '\" data\"[p=0.01, l=10.00]']\n",
      "token_idx=34 [\" Rub\"] => ['\" artist\"[p=0.05, l=11.06]', '\" unknown\"[p=0.03, l=10.38]', '\"?\\n\"[p=0.02, l=10.06]', '\"??\"[p=0.02, l=10.06]', '\" musician\"[p=0.02, l=9.94]', '\" programmer\"[p=0.02, l=9.88]', '\" singer\"[p=0.02, l=9.81]', '\" entrepreneur\"[p=0.01, l=9.62]', '\" actor\"[p=0.01, l=9.50]', '\"???\"[p=0.01, l=9.44]', '\" painter\"[p=0.01, l=9.44]', '\" mathematic\"[p=0.01, l=9.38]', '\" football\"[p=0.01, l=9.25]', '\" software\"[p=0.01, l=9.25]', '\" soccer\"[p=0.01, l=9.25]']\n",
      "token_idx=35 [\"lev\"] => ['\" tennis\"[p=0.61, l=16.12]', '\" painter\"[p=0.04, l=13.38]', '\" artist\"[p=0.04, l=13.38]', '\" musician\"[p=0.02, l=12.69]', '\" politician\"[p=0.01, l=12.38]', '\" poet\"[p=0.01, l=12.00]', '\" composer\"[p=0.01, l=11.94]', '\" athlete\"[p=0.01, l=11.88]', '\" priest\"[p=0.01, l=11.88]', '\" writer\"[p=0.01, l=11.81]', '\" novelist\"[p=0.01, l=11.69]', '\" actor\"[p=0.01, l=11.56]', '\" professional\"[p=0.01, l=11.44]', '\" chess\"[p=0.01, l=11.44]', '\" mathematic\"[p=0.00, l=11.31]']\n",
      "\n",
      "\" Samuel L. Jackson\" | cur_rng=(37, 41)\n",
      "token_idx=37 [\" Samuel\"] => ['\" prophet\"[p=0.18, l=13.50]', '\" unknown\"[p=0.05, l=12.19]', '\" actor\"[p=0.04, l=12.00]', '\" biblical\"[p=0.03, l=11.62]', '\" judge\"[p=0.02, l=11.12]', '\"?\\n\"[p=0.01, l=10.94]', '\" priest\"[p=0.01, l=10.94]', '\" farmer\"[p=0.01, l=10.88]', '\" no\"[p=0.01, l=10.88]', '\" king\"[p=0.01, l=10.81]', '\" (\"[p=0.01, l=10.75]', '\" teacher\"[p=0.01, l=10.50]', '\" philosopher\"[p=0.01, l=10.50]', '\" singer\"[p=0.01, l=10.38]', '\"??\"[p=0.01, l=10.38]']\n",
      "token_idx=38 [\" L\"] => ['\" rapper\"[p=0.04, l=10.56]', '\"??\"[p=0.03, l=10.38]', '\" detective\"[p=0.03, l=10.38]', '\" musician\"[p=0.03, l=10.38]', '\" actor\"[p=0.03, l=10.38]', '\"?\\n\"[p=0.03, l=10.25]', '\" singer\"[p=0.02, l=10.06]', '\" lawyer\"[p=0.02, l=9.88]', '\"???\"[p=0.02, l=9.75]', '\" (\"[p=0.02, l=9.75]', '\" superhero\"[p=0.01, l=9.50]', '\" fictional\"[p=0.01, l=9.38]', '\"?\"[p=0.01, l=9.25]', '\" scientist\"[p=0.01, l=9.12]', '\" \"[p=0.01, l=9.06]']\n",
      "token_idx=39 [\".\"] => ['\" lawyer\"[p=0.11, l=12.19]', '\"?\\n\"[p=0.07, l=11.81]', '\"?\\n\\n\"[p=0.04, l=11.25]', '\"??\"[p=0.03, l=10.94]', '\"?\"[p=0.03, l=10.88]', '\" scientist\"[p=0.03, l=10.75]', '\" (\"[p=0.02, l=10.50]', '\" politician\"[p=0.02, l=10.44]', '\" astronaut\"[p=0.02, l=10.31]', '\" unknown\"[p=0.02, l=10.25]', '\" actor\"[p=0.02, l=10.25]', '\" musician\"[p=0.01, l=10.06]', '\"???\"[p=0.01, l=10.00]', '\" artist\"[p=0.01, l=10.00]', '\" L\"[p=0.01, l=9.94]']\n",
      "token_idx=40 [\" Jackson\"] => ['\" actor\"[p=0.68, l=15.19]', '\" singer\"[p=0.02, l=11.44]', '\" politician\"[p=0.01, l=11.25]', '\" rapper\"[p=0.01, l=11.19]', '\" painter\"[p=0.01, l=11.12]', '\" artist\"[p=0.01, l=11.12]', '\" musician\"[p=0.01, l=11.12]', '\" basketball\"[p=0.01, l=11.00]', '\" (\"[p=0.01, l=10.88]', '\" Jackson\"[p=0.01, l=10.69]', '\"?\\n\"[p=0.01, l=10.56]', '\" unknown\"[p=0.01, l=10.56]', '\" movie\"[p=0.01, l=10.50]', '\" Actor\"[p=0.01, l=10.38]', '\"??\"[p=0.01, l=10.38]']\n",
      "======================================================================================================================================================\n",
      "\n",
      "layer='model.layers.18'\n",
      "\n",
      "\"Ans:\" | cur_rng=(-2, 0)\n",
      "token_idx=-2 [\"Ans\"] => ['\"?\\n\"[p=0.06, l=10.81]', '\" student\"[p=0.04, l=10.44]', '\" unknown\"[p=0.04, l=10.31]', '\" artist\"[p=0.03, l=10.00]', '\"??\"[p=0.03, l=10.00]', '\" programmer\"[p=0.02, l=9.88]', '\" Ans\"[p=0.02, l=9.88]', '\"?\\n\\n\"[p=0.02, l=9.88]', '\" software\"[p=0.01, l=9.44]', '\" singer\"[p=0.01, l=9.31]', '\" musician\"[p=0.01, l=9.12]', '\"???\"[p=0.01, l=9.12]', '\"?\"[p=0.01, l=9.06]', '\" (\"[p=0.01, l=9.06]', '\" computer\"[p=0.01, l=9.06]']\n",
      "token_idx=-1 [\":\"] => ['\" \\n\"[p=0.05, l=10.62]', '\"?\\n\"[p=0.03, l=10.19]', '\" profession\"[p=0.03, l=10.12]', '\"?\\n\\n\"[p=0.03, l=10.06]', '\" lawyer\"[p=0.02, l=9.94]', '\"\\n\\n\"[p=0.02, l=9.88]', '\" software\"[p=0.02, l=9.88]', '\" ->\"[p=0.02, l=9.81]', '\" (\"[p=0.02, l=9.81]', '\" politician\"[p=0.02, l=9.69]', '\" artist\"[p=0.02, l=9.69]', '\"?\"[p=0.02, l=9.62]', '\"??\"[p=0.01, l=9.50]', '\" computer\"[p=0.01, l=9.50]', '\" unknown\"[p=0.01, l=9.44]']\n",
      "\n",
      "\" Trevor Noah\" | cur_rng=(13, 15)\n",
      "token_idx=13 [\" Trevor\"] => ['\"?\\n\"[p=0.07, l=12.25]', '\" unknown\"[p=0.05, l=12.00]', '\"??\"[p=0.05, l=11.94]', '\"?\"[p=0.04, l=11.75]', '\"???\"[p=0.04, l=11.69]', '\" software\"[p=0.03, l=11.31]', '\" actor\"[p=0.03, l=11.31]', '\" comedian\"[p=0.03, l=11.25]', '\"?\\n\\n\"[p=0.03, l=11.25]', '\" (\"[p=0.02, l=10.81]', '\" You\"[p=0.01, l=10.69]', '\" no\"[p=0.01, l=10.44]', '\" politician\"[p=0.01, l=10.38]', '\" football\"[p=0.01, l=10.31]', '\" police\"[p=0.01, l=10.31]']\n",
      "token_idx=14 [\" Noah\"] => ['\" comedian\"[p=0.95, l=20.12]', '\" stand\"[p=0.01, l=15.31]', '\" Com\"[p=0.01, l=15.00]', '\" actor\"[p=0.01, l=14.94]', '\" TV\"[p=0.00, l=14.62]', '\" television\"[p=0.00, l=14.12]', '\" political\"[p=0.00, l=14.00]', '\" journalist\"[p=0.00, l=13.94]', '\" politician\"[p=0.00, l=13.88]', '\" (\"[p=0.00, l=13.50]', '\" talk\"[p=0.00, l=13.19]', '\" \"[p=0.00, l=13.12]', '\" comedy\"[p=0.00, l=13.00]', '\" tv\"[p=0.00, l=13.00]', '\" writer\"[p=0.00, l=12.94]']\n",
      "\n",
      "\" Zion Williamson\" | cur_rng=(18, 20)\n",
      "token_idx=18 [\" Zion\"] => ['\" singer\"[p=0.06, l=11.75]', '\" unknown\"[p=0.05, l=11.56]', '\" musician\"[p=0.05, l=11.50]', '\"?\\n\"[p=0.04, l=11.38]', '\" football\"[p=0.03, l=11.06]', '\" rapper\"[p=0.03, l=11.06]', '\"??\"[p=0.03, l=11.00]', '\" basketball\"[p=0.02, l=10.75]', '\" soccer\"[p=0.02, l=10.50]', '\" no\"[p=0.02, l=10.50]', '\" (\"[p=0.02, l=10.44]', '\" artist\"[p=0.02, l=10.44]', '\" prophet\"[p=0.01, l=10.25]', '\"???\"[p=0.01, l=10.12]', '\" student\"[p=0.01, l=10.12]']\n",
      "token_idx=19 [\" Williamson\"] => ['\" basketball\"[p=0.89, l=18.25]', '\" Basketball\"[p=0.01, l=14.00]', '\" professional\"[p=0.01, l=13.88]', '\" NBA\"[p=0.01, l=13.69]', '\" football\"[p=0.01, l=13.62]', '\" athlete\"[p=0.01, l=13.44]', '\" college\"[p=0.01, l=13.25]', '\" basket\"[p=0.00, l=12.44]', '\" actor\"[p=0.00, l=12.31]', '\" soccer\"[p=0.00, l=12.25]', '\" (\"[p=0.00, l=12.06]', '\" entrepreneur\"[p=0.00, l=12.00]', '\" \"[p=0.00, l=11.88]', '\" baseball\"[p=0.00, l=11.81]', '\" student\"[p=0.00, l=11.69]']\n",
      "\n",
      "\" John Mulaney\" | cur_rng=(21, 24)\n",
      "token_idx=21 [\" John\"] => ['\" unknown\"[p=0.09, l=13.31]', '\" software\"[p=0.04, l=12.50]', '\"?\\n\"[p=0.04, l=12.44]', '\" actor\"[p=0.03, l=12.31]', '\" lawyer\"[p=0.03, l=12.19]', '\" programmer\"[p=0.03, l=12.19]', '\" politician\"[p=0.03, l=12.12]', '\" teacher\"[p=0.02, l=12.00]', '\" farmer\"[p=0.02, l=11.94]', '\"?\"[p=0.02, l=11.88]', '\" no\"[p=0.02, l=11.81]', '\"???\"[p=0.02, l=11.62]', '\" accountant\"[p=0.02, l=11.62]', '\" engineer\"[p=0.02, l=11.62]', '\"??\"[p=0.02, l=11.56]']\n",
      "token_idx=22 [\" Mul\"] => ['\" farmer\"[p=0.04, l=10.75]', '\" actor\"[p=0.03, l=10.56]', '\" musician\"[p=0.02, l=10.06]', '\" unknown\"[p=0.02, l=9.94]', '\" singer\"[p=0.01, l=9.81]', '\" artist\"[p=0.01, l=9.75]', '\"??\"[p=0.01, l=9.69]', '\"???\"[p=0.01, l=9.62]', '\"?\\n\"[p=0.01, l=9.50]', '\" cartoon\"[p=0.01, l=9.44]', '\" software\"[p=0.01, l=9.38]', '\" engineer\"[p=0.01, l=9.38]', '\" programmer\"[p=0.01, l=9.38]', '\" politician\"[p=0.01, l=9.38]', '\" student\"[p=0.01, l=9.19]']\n",
      "token_idx=23 [\"aney\"] => ['\" comedian\"[p=0.87, l=18.62]', '\" stand\"[p=0.05, l=15.69]', '\" actor\"[p=0.01, l=14.31]', '\" Com\"[p=0.01, l=14.12]', '\" (\"[p=0.00, l=13.44]', '\" John\"[p=0.00, l=13.00]', '\"??\"[p=0.00, l=12.94]', '\"?\\n\"[p=0.00, l=12.56]', '\" politician\"[p=0.00, l=12.50]', '\" comic\"[p=0.00, l=12.50]', '\" writer\"[p=0.00, l=12.44]', '\" \"[p=0.00, l=12.44]', '\" Stand\"[p=0.00, l=12.31]', '\" unknown\"[p=0.00, l=12.06]', '\"?\"[p=0.00, l=12.00]']\n",
      "\n",
      "\" Ariana Grande\" | cur_rng=(25, 28)\n",
      "token_idx=25 [\" Ari\"] => ['\" singer\"[p=0.12, l=12.75]', '\" musician\"[p=0.04, l=11.69]', '\" artist\"[p=0.04, l=11.62]', '\" actor\"[p=0.03, l=11.44]', '\"?\\n\"[p=0.02, l=11.06]', '\" student\"[p=0.02, l=10.81]', '\" actress\"[p=0.02, l=10.81]', '\" unknown\"[p=0.02, l=10.75]', '\" model\"[p=0.01, l=10.69]', '\" pop\"[p=0.01, l=10.56]', '\"??\"[p=0.01, l=10.50]', '\" journalist\"[p=0.01, l=10.50]', '\" politician\"[p=0.01, l=10.38]', '\" teacher\"[p=0.01, l=10.38]', '\" software\"[p=0.01, l=10.31]']\n",
      "token_idx=26 [\"ana\"] => ['\" singer\"[p=0.51, l=14.56]', '\"?\\n\"[p=0.04, l=12.06]', '\" pop\"[p=0.04, l=12.06]', '\" unknown\"[p=0.03, l=11.81]', '\" musician\"[p=0.02, l=11.31]', '\"?\"[p=0.02, l=11.31]', '\" no\"[p=0.02, l=11.06]', '\" artist\"[p=0.01, l=10.75]', '\"??\"[p=0.01, l=10.69]', '\" (\"[p=0.01, l=10.50]', '\"?\\n\\n\"[p=0.01, l=10.38]', '\" Singer\"[p=0.01, l=10.31]', '\" does\"[p=0.01, l=10.25]', '\" not\"[p=0.01, l=10.25]', '\" actress\"[p=0.01, l=10.25]']\n",
      "token_idx=27 [\" Grande\"] => ['\" singer\"[p=0.93, l=20.00]', '\" musician\"[p=0.02, l=16.38]', '\" pop\"[p=0.02, l=16.00]', '\" Singer\"[p=0.00, l=14.69]', '\" actress\"[p=0.00, l=14.38]', '\" artist\"[p=0.00, l=14.06]', '\" music\"[p=0.00, l=13.19]', '\" \"[p=0.00, l=13.00]', '\" (\"[p=0.00, l=12.50]', '\" songwriter\"[p=0.00, l=12.44]', '\" actor\"[p=0.00, l=12.25]', '\" model\"[p=0.00, l=12.25]', '\" Music\"[p=0.00, l=12.25]', '\" celebrity\"[p=0.00, l=12.19]', '\" no\"[p=0.00, l=11.88]']\n",
      "\n",
      "\" Joe Scarborough\" | cur_rng=(29, 31)\n",
      "token_idx=29 [\" Joe\"] => ['\" unknown\"[p=0.05, l=12.25]', '\" politician\"[p=0.04, l=11.88]', '\" plumber\"[p=0.03, l=11.62]', '\" police\"[p=0.02, l=11.38]', '\" teacher\"[p=0.02, l=11.19]', '\" actor\"[p=0.02, l=11.12]', '\"?\\n\"[p=0.02, l=11.00]', '\" bar\"[p=0.01, l=10.88]', '\" president\"[p=0.01, l=10.81]', '\" no\"[p=0.01, l=10.81]', '\" jan\"[p=0.01, l=10.75]', '\" student\"[p=0.01, l=10.75]', '\" farmer\"[p=0.01, l=10.75]', '\"???\"[p=0.01, l=10.69]', '\" musician\"[p=0.01, l=10.69]']\n",
      "token_idx=30 [\" Scarborough\"] => ['\" journalist\"[p=0.28, l=16.88]', '\" politician\"[p=0.24, l=16.75]', '\" TV\"[p=0.10, l=15.88]', '\" television\"[p=0.09, l=15.75]', '\" news\"[p=0.06, l=15.38]', '\" political\"[p=0.06, l=15.38]', '\" tv\"[p=0.02, l=14.25]', '\" lawyer\"[p=0.01, l=13.50]', '\" media\"[p=0.01, l=13.50]', '\" talk\"[p=0.01, l=13.44]', '\" Journal\"[p=0.01, l=13.31]', '\" (\"[p=0.01, l=13.00]', '\" radio\"[p=0.00, l=12.56]', '\" Polit\"[p=0.00, l=12.50]', '\" host\"[p=0.00, l=12.50]']\n",
      "\n",
      "\" Andrey Rublev\" | cur_rng=(32, 36)\n",
      "token_idx=32 [\" And\"] => ['\"?\\n\"[p=0.17, l=12.81]', '\"?\"[p=0.08, l=12.06]', '\"??\"[p=0.07, l=12.00]', '\"?\\n\\n\"[p=0.07, l=11.88]', '\"???\"[p=0.04, l=11.38]', '\" musician\"[p=0.02, l=10.75]', '\" programmer\"[p=0.02, l=10.62]', '\" And\"[p=0.02, l=10.44]', '\" artist\"[p=0.01, l=10.38]', '\" singer\"[p=0.01, l=10.38]', '\" software\"[p=0.01, l=10.31]', '\" what\"[p=0.01, l=10.31]', '\"...\"[p=0.01, l=10.25]', '\" engineer\"[p=0.01, l=10.19]', '\" (\"[p=0.01, l=10.06]']\n",
      "token_idx=33 [\"rey\"] => ['\"?\\n\"[p=0.11, l=12.44]', '\" programmer\"[p=0.09, l=12.19]', '\"?\\n\\n\"[p=0.05, l=11.62]', '\" software\"[p=0.05, l=11.62]', '\" unknown\"[p=0.04, l=11.50]', '\"?\"[p=0.04, l=11.44]', '\"??\"[p=0.04, l=11.31]', '\"???\"[p=0.02, l=10.94]', '\" engineer\"[p=0.02, l=10.75]', '\" student\"[p=0.01, l=10.44]', '\" actor\"[p=0.01, l=10.38]', '\" artist\"[p=0.01, l=10.31]', '\" entrepreneur\"[p=0.01, l=10.12]', '\" developer\"[p=0.01, l=10.00]', '\" computer\"[p=0.01, l=10.00]']\n",
      "token_idx=34 [\" Rub\"] => ['\" artist\"[p=0.05, l=10.88]', '\"?\\n\"[p=0.03, l=10.50]', '\"??\"[p=0.03, l=10.31]', '\" unknown\"[p=0.03, l=10.25]', '\" musician\"[p=0.02, l=9.94]', '\" programmer\"[p=0.02, l=9.94]', '\" singer\"[p=0.02, l=9.75]', '\" entrepreneur\"[p=0.01, l=9.69]', '\"???\"[p=0.01, l=9.62]', '\"?\"[p=0.01, l=9.62]', '\" politician\"[p=0.01, l=9.62]', '\" football\"[p=0.01, l=9.50]', '\" actor\"[p=0.01, l=9.50]', '\" soccer\"[p=0.01, l=9.31]', '\" mathematic\"[p=0.01, l=9.25]']\n",
      "token_idx=35 [\"lev\"] => ['\" tennis\"[p=0.62, l=16.12]', '\" artist\"[p=0.04, l=13.31]', '\" painter\"[p=0.03, l=13.00]', '\" musician\"[p=0.02, l=12.69]', '\" politician\"[p=0.01, l=12.38]', '\" athlete\"[p=0.01, l=12.12]', '\" poet\"[p=0.01, l=11.94]', '\" composer\"[p=0.01, l=11.81]', '\" (\"[p=0.01, l=11.62]', '\" writer\"[p=0.01, l=11.56]', '\"?\\n\"[p=0.01, l=11.50]', '\" mathematic\"[p=0.01, l=11.44]', '\" chess\"[p=0.01, l=11.44]', '\" novelist\"[p=0.01, l=11.38]', '\" unknown\"[p=0.01, l=11.38]']\n",
      "\n",
      "\" Samuel L. Jackson\" | cur_rng=(37, 41)\n",
      "token_idx=37 [\" Samuel\"] => ['\" prophet\"[p=0.24, l=13.75]', '\" unknown\"[p=0.04, l=12.00]', '\" actor\"[p=0.03, l=11.75]', '\" judge\"[p=0.03, l=11.62]', '\" biblical\"[p=0.03, l=11.56]', '\"?\\n\"[p=0.02, l=11.00]', '\" priest\"[p=0.01, l=10.94]', '\" no\"[p=0.01, l=10.69]', '\" king\"[p=0.01, l=10.56]', '\" (\"[p=0.01, l=10.56]', '\" politician\"[p=0.01, l=10.44]', '\" Prophet\"[p=0.01, l=10.38]', '\" teacher\"[p=0.01, l=10.38]', '\"??\"[p=0.01, l=10.38]', '\" football\"[p=0.01, l=10.38]']\n",
      "token_idx=38 [\" L\"] => ['\"?\\n\"[p=0.04, l=10.38]', '\"??\"[p=0.04, l=10.25]', '\" actor\"[p=0.03, l=9.94]', '\" lawyer\"[p=0.03, l=9.81]', '\" unknown\"[p=0.02, l=9.62]', '\" musician\"[p=0.02, l=9.56]', '\"?\"[p=0.02, l=9.50]', '\"???\"[p=0.02, l=9.44]', '\" (\"[p=0.02, l=9.31]', '\" no\"[p=0.01, l=9.25]', '\"?\\n\\n\"[p=0.01, l=9.25]', '\" singer\"[p=0.01, l=9.06]', '\" not\"[p=0.01, l=9.00]', '\" rapper\"[p=0.01, l=8.94]', '\" mathematic\"[p=0.01, l=8.94]']\n",
      "token_idx=39 [\".\"] => ['\" lawyer\"[p=0.11, l=12.31]', '\"?\\n\"[p=0.08, l=12.06]', '\"?\\n\\n\"[p=0.05, l=11.62]', '\"??\"[p=0.04, l=11.25]', '\"?\"[p=0.03, l=11.12]', '\" politician\"[p=0.02, l=10.75]', '\" (\"[p=0.02, l=10.69]', '\" actor\"[p=0.02, l=10.62]', '\" scientist\"[p=0.02, l=10.56]', '\" astronaut\"[p=0.02, l=10.50]', '\" unknown\"[p=0.02, l=10.44]', '\" L\"[p=0.01, l=10.25]', '\"???\"[p=0.01, l=10.19]', '\" artist\"[p=0.01, l=10.19]', '\" musician\"[p=0.01, l=10.12]']\n",
      "token_idx=40 [\" Jackson\"] => ['\" actor\"[p=0.83, l=15.94]', '\" Actor\"[p=0.01, l=11.00]', '\" (\"[p=0.01, l=11.00]', '\" artist\"[p=0.00, l=10.69]', '\" painter\"[p=0.00, l=10.62]', '\" movie\"[p=0.00, l=10.62]', '\"??\"[p=0.00, l=10.56]', '\" politician\"[p=0.00, l=10.50]', '\" singer\"[p=0.00, l=10.50]', '\" musician\"[p=0.00, l=10.44]', '\" Jackson\"[p=0.00, l=10.44]', '\"?\\n\"[p=0.00, l=10.44]', '\" rapper\"[p=0.00, l=10.38]', '\" basketball\"[p=0.00, l=10.31]', '\" unknown\"[p=0.00, l=10.31]']\n",
      "======================================================================================================================================================\n",
      "\n",
      "layer='model.layers.21'\n",
      "\n",
      "\"Ans:\" | cur_rng=(-2, 0)\n",
      "token_idx=-2 [\"Ans\"] => ['\"?\\n\"[p=0.05, l=10.25]', '\" Ans\"[p=0.05, l=10.25]', '\" unknown\"[p=0.03, l=9.75]', '\"??\"[p=0.02, l=9.31]', '\" artist\"[p=0.02, l=9.31]', '\" programmer\"[p=0.02, l=9.25]', '\" student\"[p=0.01, l=9.00]', '\"?\\n\\n\"[p=0.01, l=9.00]', '\" software\"[p=0.01, l=8.88]', '\" scientist\"[p=0.01, l=8.75]', '\" computer\"[p=0.01, l=8.69]', '\" person\"[p=0.01, l=8.62]', '\"???\"[p=0.01, l=8.62]', '\" entrepreneur\"[p=0.01, l=8.62]', '\"?\"[p=0.01, l=8.50]']\n",
      "token_idx=-1 [\":\"] => ['\"?\\n\"[p=0.06, l=10.69]', '\"?\\n\\n\"[p=0.04, l=10.38]', '\" unknown\"[p=0.03, l=10.00]', '\" ->\"[p=0.02, l=9.75]', '\" \\n\"[p=0.02, l=9.75]', '\"?\"[p=0.02, l=9.75]', '\" (\"[p=0.02, l=9.62]', '\"??\"[p=0.02, l=9.44]', '\" profession\"[p=0.02, l=9.38]', '\" entrepreneur\"[p=0.02, l=9.38]', '\" software\"[p=0.01, l=9.31]', '\" lawyer\"[p=0.01, l=9.25]', '\" computer\"[p=0.01, l=9.19]', '\"\\n\\n\"[p=0.01, l=9.12]', '\" person\"[p=0.01, l=8.94]']\n",
      "\n",
      "\" Trevor Noah\" | cur_rng=(13, 15)\n",
      "token_idx=13 [\" Trevor\"] => ['\"?\\n\"[p=0.10, l=12.62]', '\"??\"[p=0.06, l=12.06]', '\"?\"[p=0.06, l=12.06]', '\" unknown\"[p=0.05, l=12.00]', '\"?\\n\\n\"[p=0.04, l=11.75]', '\"???\"[p=0.04, l=11.62]', '\" actor\"[p=0.03, l=11.44]', '\" comedian\"[p=0.03, l=11.38]', '\" software\"[p=0.03, l=11.25]', '\" politician\"[p=0.01, l=10.62]', '\" programmer\"[p=0.01, l=10.56]', '\" (\"[p=0.01, l=10.50]', '\" You\"[p=0.01, l=10.38]', '\" no\"[p=0.01, l=10.38]', '\" entrepreneur\"[p=0.01, l=10.38]']\n",
      "token_idx=14 [\" Noah\"] => ['\" comedian\"[p=0.92, l=19.12]', '\" actor\"[p=0.01, l=14.31]', '\" stand\"[p=0.01, l=14.25]', '\" TV\"[p=0.01, l=14.12]', '\" Com\"[p=0.01, l=14.12]', '\" political\"[p=0.00, l=13.69]', '\" journalist\"[p=0.00, l=13.62]', '\" television\"[p=0.00, l=13.44]', '\" (\"[p=0.00, l=13.31]', '\" politician\"[p=0.00, l=13.25]', '\" talk\"[p=0.00, l=13.25]', '\" \"[p=0.00, l=12.62]', '\" tv\"[p=0.00, l=12.44]', '\" writer\"[p=0.00, l=12.44]', '\" comedy\"[p=0.00, l=12.12]']\n",
      "\n",
      "\" Zion Williamson\" | cur_rng=(18, 20)\n",
      "token_idx=18 [\" Zion\"] => ['\" singer\"[p=0.09, l=12.06]', '\" musician\"[p=0.05, l=11.50]', '\" unknown\"[p=0.05, l=11.44]', '\" basketball\"[p=0.05, l=11.44]', '\" rapper\"[p=0.04, l=11.38]', '\"?\\n\"[p=0.04, l=11.25]', '\" football\"[p=0.04, l=11.19]', '\"??\"[p=0.03, l=10.88]', '\" soccer\"[p=0.02, l=10.69]', '\" student\"[p=0.02, l=10.44]', '\" artist\"[p=0.02, l=10.44]', '\" no\"[p=0.02, l=10.44]', '\" (\"[p=0.02, l=10.31]', '\"???\"[p=0.01, l=10.00]', '\" actor\"[p=0.01, l=10.00]']\n",
      "token_idx=19 [\" Williamson\"] => ['\" basketball\"[p=0.86, l=17.38]', '\" Basketball\"[p=0.01, l=13.25]', '\" professional\"[p=0.01, l=12.94]', '\" NBA\"[p=0.01, l=12.94]', '\" athlete\"[p=0.01, l=12.75]', '\" football\"[p=0.01, l=12.62]', '\" college\"[p=0.01, l=12.25]', '\" basket\"[p=0.00, l=11.94]', '\" (\"[p=0.00, l=11.88]', '\" unknown\"[p=0.00, l=11.75]', '\" actor\"[p=0.00, l=11.50]', '\" \"[p=0.00, l=11.19]', '\"??\"[p=0.00, l=11.19]', '\" entrepreneur\"[p=0.00, l=11.12]', '\" \\n\"[p=0.00, l=11.06]']\n",
      "\n",
      "\" John Mulaney\" | cur_rng=(21, 24)\n",
      "token_idx=21 [\" John\"] => ['\" unknown\"[p=0.09, l=13.25]', '\" actor\"[p=0.04, l=12.56]', '\" politician\"[p=0.04, l=12.44]', '\" software\"[p=0.03, l=12.25]', '\"?\\n\"[p=0.03, l=12.19]', '\" pastor\"[p=0.03, l=12.19]', '\" lawyer\"[p=0.03, l=12.12]', '\" programmer\"[p=0.03, l=12.00]', '\" no\"[p=0.02, l=11.75]', '\" teacher\"[p=0.02, l=11.62]', '\"?\"[p=0.02, l=11.56]', '\" doctor\"[p=0.02, l=11.50]', '\" writer\"[p=0.01, l=11.44]', '\"??\"[p=0.01, l=11.44]', '\" farmer\"[p=0.01, l=11.31]']\n",
      "token_idx=22 [\" Mul\"] => ['\" farmer\"[p=0.03, l=10.06]', '\" actor\"[p=0.02, l=9.94]', '\" musician\"[p=0.02, l=9.62]', '\" unknown\"[p=0.02, l=9.62]', '\"??\"[p=0.01, l=9.25]', '\"???\"[p=0.01, l=9.25]', '\" singer\"[p=0.01, l=9.25]', '\"?\\n\"[p=0.01, l=9.19]', '\" cartoon\"[p=0.01, l=9.12]', '\" artist\"[p=0.01, l=9.00]', '\" (\"[p=0.01, l=8.94]', '\" \"[p=0.01, l=8.94]', '\" programmer\"[p=0.01, l=8.94]', '\" engineer\"[p=0.01, l=8.94]', '\" software\"[p=0.01, l=8.88]']\n",
      "token_idx=23 [\"aney\"] => ['\" comedian\"[p=0.87, l=18.62]', '\" stand\"[p=0.05, l=15.69]', '\" actor\"[p=0.01, l=14.38]', '\" Com\"[p=0.01, l=14.12]', '\" (\"[p=0.00, l=13.31]', '\"??\"[p=0.00, l=12.88]', '\" writer\"[p=0.00, l=12.69]', '\"?\\n\"[p=0.00, l=12.62]', '\" comic\"[p=0.00, l=12.56]', '\" Stand\"[p=0.00, l=12.44]', '\" \"[p=0.00, l=12.38]', '\" politician\"[p=0.00, l=12.12]', '\" \\n\"[p=0.00, l=11.94]', '\" unknown\"[p=0.00, l=11.94]', '\"???\"[p=0.00, l=11.88]']\n",
      "\n",
      "\" Ariana Grande\" | cur_rng=(25, 28)\n",
      "token_idx=25 [\" Ari\"] => ['\" singer\"[p=0.16, l=13.06]', '\" musician\"[p=0.06, l=12.00]', '\" artist\"[p=0.04, l=11.56]', '\" actor\"[p=0.03, l=11.50]', '\"?\\n\"[p=0.02, l=11.00]', '\" pop\"[p=0.02, l=10.94]', '\" model\"[p=0.02, l=10.94]', '\" actress\"[p=0.02, l=10.88]', '\" unknown\"[p=0.02, l=10.75]', '\" rapper\"[p=0.01, l=10.56]', '\" journalist\"[p=0.01, l=10.38]', '\"??\"[p=0.01, l=10.31]', '\" politician\"[p=0.01, l=10.25]', '\" You\"[p=0.01, l=10.19]', '\"?\"[p=0.01, l=10.12]']\n",
      "token_idx=26 [\"ana\"] => ['\" singer\"[p=0.63, l=15.44]', '\" pop\"[p=0.04, l=12.75]', '\"?\\n\"[p=0.03, l=12.50]', '\" musician\"[p=0.03, l=12.25]', '\" unknown\"[p=0.02, l=11.75]', '\"?\"[p=0.01, l=11.62]', '\" artist\"[p=0.01, l=11.38]', '\" no\"[p=0.01, l=11.25]', '\"??\"[p=0.01, l=11.25]', '\" Singer\"[p=0.01, l=11.12]', '\" actress\"[p=0.01, l=11.12]', '\" celebrity\"[p=0.01, l=10.94]', '\" model\"[p=0.01, l=10.75]', '\" (\"[p=0.01, l=10.69]', '\"?\\n\\n\"[p=0.01, l=10.62]']\n",
      "token_idx=27 [\" Grande\"] => ['\" singer\"[p=0.92, l=19.38]', '\" musician\"[p=0.02, l=15.69]', '\" pop\"[p=0.02, l=15.69]', '\" actress\"[p=0.01, l=14.25]', '\" Singer\"[p=0.00, l=14.00]', '\" artist\"[p=0.00, l=13.69]', '\" music\"[p=0.00, l=12.62]', '\" \"[p=0.00, l=12.56]', '\" (\"[p=0.00, l=12.44]', '\" actor\"[p=0.00, l=12.25]', '\" songwriter\"[p=0.00, l=12.19]', '\" celebrity\"[p=0.00, l=12.19]', '\" model\"[p=0.00, l=12.12]', '\" no\"[p=0.00, l=12.00]', '\" Music\"[p=0.00, l=11.62]']\n",
      "\n",
      "\" Joe Scarborough\" | cur_rng=(29, 31)\n",
      "token_idx=29 [\" Joe\"] => ['\" unknown\"[p=0.05, l=12.12]', '\" plumber\"[p=0.03, l=11.56]', '\" politician\"[p=0.03, l=11.50]', '\" actor\"[p=0.02, l=11.31]', '\" police\"[p=0.02, l=11.25]', '\" teacher\"[p=0.02, l=11.12]', '\"?\\n\"[p=0.02, l=11.06]', '\" barber\"[p=0.01, l=10.88]', '\" bar\"[p=0.01, l=10.88]', '\" farmer\"[p=0.01, l=10.75]', '\" student\"[p=0.01, l=10.69]', '\" no\"[p=0.01, l=10.69]', '\"???\"[p=0.01, l=10.69]', '\"??\"[p=0.01, l=10.69]', '\" jan\"[p=0.01, l=10.62]']\n",
      "token_idx=30 [\" Scarborough\"] => ['\" politician\"[p=0.28, l=15.75]', '\" journalist\"[p=0.16, l=15.19]', '\" TV\"[p=0.10, l=14.69]', '\" television\"[p=0.07, l=14.38]', '\" news\"[p=0.06, l=14.12]', '\" political\"[p=0.05, l=13.94]', '\" tv\"[p=0.02, l=13.12]', '\" lawyer\"[p=0.01, l=12.69]', '\" talk\"[p=0.01, l=12.69]', '\" musician\"[p=0.01, l=12.56]', '\" (\"[p=0.01, l=12.44]', '\" radio\"[p=0.01, l=12.38]', '\" media\"[p=0.01, l=12.31]', '\" host\"[p=0.01, l=11.94]', '\"??\"[p=0.01, l=11.81]']\n",
      "\n",
      "\" Andrey Rublev\" | cur_rng=(32, 36)\n",
      "token_idx=32 [\" And\"] => ['\"?\\n\"[p=0.17, l=12.81]', '\"??\"[p=0.07, l=11.94]', '\"?\"[p=0.07, l=11.88]', '\"?\\n\\n\"[p=0.06, l=11.69]', '\"???\"[p=0.03, l=11.19]', '\" musician\"[p=0.03, l=11.06]', '\" singer\"[p=0.03, l=10.94]', '\" artist\"[p=0.02, l=10.62]', '\" programmer\"[p=0.02, l=10.44]', '\" And\"[p=0.02, l=10.38]', '\" software\"[p=0.01, l=10.25]', '\" what\"[p=0.01, l=10.25]', '\" engineer\"[p=0.01, l=10.12]', '\" unknown\"[p=0.01, l=9.94]', '\" (\"[p=0.01, l=9.94]']\n",
      "token_idx=33 [\"rey\"] => ['\"?\\n\"[p=0.16, l=12.88]', '\"?\\n\\n\"[p=0.07, l=12.00]', '\" programmer\"[p=0.06, l=11.94]', '\"?\"[p=0.06, l=11.88]', '\"??\"[p=0.04, l=11.62]', '\" unknown\"[p=0.04, l=11.56]', '\" software\"[p=0.03, l=11.25]', '\"???\"[p=0.03, l=11.19]', '\" engineer\"[p=0.02, l=10.69]', '\" entrepreneur\"[p=0.01, l=10.38]', '\" student\"[p=0.01, l=10.31]', '\" actor\"[p=0.01, l=10.25]', '\" artist\"[p=0.01, l=10.25]', '\" what\"[p=0.01, l=10.06]', '\" computer\"[p=0.01, l=10.00]']\n",
      "token_idx=34 [\" Rub\"] => ['\" artist\"[p=0.05, l=10.69]', '\"?\\n\"[p=0.04, l=10.50]', '\"??\"[p=0.03, l=10.38]', '\" unknown\"[p=0.03, l=10.06]', '\"???\"[p=0.02, l=9.81]', '\" musician\"[p=0.02, l=9.62]', '\" singer\"[p=0.02, l=9.62]', '\"?\"[p=0.02, l=9.56]', '\" programmer\"[p=0.01, l=9.31]', '\" Rub\"[p=0.01, l=9.25]', '\" painter\"[p=0.01, l=9.19]', '\" poet\"[p=0.01, l=9.06]', '\" architect\"[p=0.01, l=9.00]', '\" entrepreneur\"[p=0.01, l=8.94]', '\" no\"[p=0.01, l=8.94]']\n",
      "token_idx=35 [\"lev\"] => ['\" tennis\"[p=0.69, l=16.25]', '\" musician\"[p=0.02, l=12.81]', '\" artist\"[p=0.02, l=12.50]', '\" athlete\"[p=0.01, l=12.38]', '\" politician\"[p=0.01, l=12.31]', '\" painter\"[p=0.01, l=11.94]', '\" (\"[p=0.01, l=11.75]', '\"?\\n\"[p=0.01, l=11.62]', '\" professional\"[p=0.01, l=11.62]', '\" unknown\"[p=0.01, l=11.50]', '\" actor\"[p=0.01, l=11.50]', '\"??\"[p=0.01, l=11.44]', '\" ten\"[p=0.00, l=11.31]', '\"?\"[p=0.00, l=11.31]', '\" mathematic\"[p=0.00, l=11.31]']\n",
      "\n",
      "\" Samuel L. Jackson\" | cur_rng=(37, 41)\n",
      "token_idx=37 [\" Samuel\"] => ['\" prophet\"[p=0.23, l=13.56]', '\" unknown\"[p=0.05, l=11.94]', '\" actor\"[p=0.04, l=11.75]', '\" judge\"[p=0.02, l=11.31]', '\" biblical\"[p=0.02, l=11.06]', '\"?\\n\"[p=0.02, l=11.00]', '\" priest\"[p=0.01, l=10.81]', '\" no\"[p=0.01, l=10.62]', '\"??\"[p=0.01, l=10.44]', '\" (\"[p=0.01, l=10.38]', '\" Prophet\"[p=0.01, l=10.31]', '\" teacher\"[p=0.01, l=10.31]', '\" professor\"[p=0.01, l=10.25]', '\" not\"[p=0.01, l=10.25]', '\" pastor\"[p=0.01, l=10.25]']\n",
      "token_idx=38 [\" L\"] => ['\" actor\"[p=0.13, l=12.25]', '\" lawyer\"[p=0.12, l=12.12]', '\" rapper\"[p=0.06, l=11.38]', '\" musician\"[p=0.03, l=10.62]', '\" singer\"[p=0.02, l=10.56]', '\" unknown\"[p=0.01, l=10.06]', '\"?\\n\"[p=0.01, l=9.88]', '\" comedian\"[p=0.01, l=9.69]', '\" (\"[p=0.01, l=9.62]', '\" teacher\"[p=0.01, l=9.62]', '\" artist\"[p=0.01, l=9.62]', '\"??\"[p=0.01, l=9.56]', '\" Lawyer\"[p=0.01, l=9.44]', '\" writer\"[p=0.01, l=9.44]', '\" \"[p=0.01, l=9.38]']\n",
      "token_idx=39 [\".\"] => ['\" lawyer\"[p=0.06, l=11.69]', '\"?\\n\"[p=0.06, l=11.62]', '\" actor\"[p=0.06, l=11.62]', '\"?\\n\\n\"[p=0.03, l=11.00]', '\"??\"[p=0.03, l=11.00]', '\"?\"[p=0.02, l=10.75]', '\" unknown\"[p=0.02, l=10.62]', '\" politician\"[p=0.02, l=10.62]', '\" (\"[p=0.02, l=10.50]', '\" musician\"[p=0.02, l=10.44]', '\" scientist\"[p=0.02, l=10.44]', '\" astronaut\"[p=0.02, l=10.25]', '\" writer\"[p=0.01, l=10.06]', '\" artist\"[p=0.01, l=10.06]', '\" author\"[p=0.01, l=10.00]']\n",
      "token_idx=40 [\" Jackson\"] => ['\" actor\"[p=0.75, l=14.94]', '\"??\"[p=0.01, l=10.44]', '\"?\\n\"[p=0.01, l=10.31]', '\" painter\"[p=0.01, l=10.19]', '\" unknown\"[p=0.01, l=10.19]', '\" Actor\"[p=0.01, l=10.19]', '\" (\"[p=0.01, l=10.19]', '\" Jackson\"[p=0.01, l=10.12]', '\" no\"[p=0.01, l=10.00]', '\"?\"[p=0.01, l=9.94]', '\" artist\"[p=0.01, l=9.94]', '\"???\"[p=0.00, l=9.88]', '\" not\"[p=0.00, l=9.75]', '\" rapper\"[p=0.00, l=9.69]', '\" singer\"[p=0.00, l=9.69]']\n",
      "======================================================================================================================================================\n",
      "\n",
      "layer='model.layers.24'\n",
      "\n",
      "\"Ans:\" | cur_rng=(-2, 0)\n",
      "token_idx=-2 [\"Ans\"] => ['\"?\\n\"[p=0.04, l=10.12]', '\" Ans\"[p=0.04, l=9.94]', '\" unknown\"[p=0.03, l=9.69]', '\" artist\"[p=0.03, l=9.62]', '\" programmer\"[p=0.02, l=9.12]', '\"?\\n\\n\"[p=0.02, l=9.12]', '\"??\"[p=0.02, l=9.06]', '\" software\"[p=0.01, l=8.81]', '\" answer\"[p=0.01, l=8.69]', '\" entrepreneur\"[p=0.01, l=8.62]', '\" student\"[p=0.01, l=8.62]', '\" musician\"[p=0.01, l=8.62]', '\" computer\"[p=0.01, l=8.56]', '\" person\"[p=0.01, l=8.44]', '\"?\"[p=0.01, l=8.44]']\n",
      "token_idx=-1 [\":\"] => ['\"?\\n\"[p=0.13, l=12.00]', '\"?\\n\\n\"[p=0.10, l=11.75]', '\"?\"[p=0.04, l=10.94]', '\"??\"[p=0.03, l=10.62]', '\" \\n\"[p=0.03, l=10.56]', '\" (\"[p=0.02, l=10.19]', '\" lawyer\"[p=0.02, l=10.06]', '\" software\"[p=0.02, l=9.88]', '\" artist\"[p=0.01, l=9.75]', '\"\\n\\n\"[p=0.01, l=9.69]', '\" politician\"[p=0.01, l=9.69]', '\"???\"[p=0.01, l=9.56]', '\" actor\"[p=0.01, l=9.44]', '\" ->\"[p=0.01, l=9.38]', '\" \"[p=0.01, l=9.38]']\n",
      "\n",
      "\" Trevor Noah\" | cur_rng=(13, 15)\n",
      "token_idx=13 [\" Trevor\"] => ['\"?\\n\"[p=0.12, l=12.81]', '\"??\"[p=0.07, l=12.25]', '\"?\"[p=0.05, l=12.06]', '\"?\\n\\n\"[p=0.05, l=11.94]', '\" unknown\"[p=0.05, l=11.88]', '\"???\"[p=0.04, l=11.75]', '\" software\"[p=0.03, l=11.44]', '\" actor\"[p=0.02, l=11.12]', '\" programmer\"[p=0.02, l=10.94]', '\" entrepreneur\"[p=0.01, l=10.62]', '\" politician\"[p=0.01, l=10.44]', '\" (\"[p=0.01, l=10.38]', '\" comedian\"[p=0.01, l=10.38]', '\" engineer\"[p=0.01, l=10.31]', '\" football\"[p=0.01, l=10.25]']\n",
      "token_idx=14 [\" Noah\"] => ['\" comedian\"[p=0.91, l=19.00]', '\" actor\"[p=0.01, l=14.25]', '\" TV\"[p=0.01, l=14.12]', '\" stand\"[p=0.01, l=14.06]', '\" Com\"[p=0.01, l=13.94]', '\" political\"[p=0.00, l=13.56]', '\" talk\"[p=0.00, l=13.44]', '\" television\"[p=0.00, l=13.31]', '\" journalist\"[p=0.00, l=13.25]', '\" (\"[p=0.00, l=13.25]', '\" politician\"[p=0.00, l=12.88]', '\" \"[p=0.00, l=12.56]', '\" host\"[p=0.00, l=12.44]', '\" tv\"[p=0.00, l=12.38]', '\" writer\"[p=0.00, l=12.25]']\n",
      "\n",
      "\" Zion Williamson\" | cur_rng=(18, 20)\n",
      "token_idx=18 [\" Zion\"] => ['\" singer\"[p=0.08, l=11.88]', '\" unknown\"[p=0.06, l=11.56]', '\"?\\n\"[p=0.05, l=11.44]', '\" musician\"[p=0.05, l=11.38]', '\"??\"[p=0.03, l=11.06]', '\" rapper\"[p=0.03, l=11.06]', '\" basketball\"[p=0.03, l=10.88]', '\" football\"[p=0.03, l=10.88]', '\" no\"[p=0.02, l=10.56]', '\" student\"[p=0.02, l=10.44]', '\" artist\"[p=0.02, l=10.44]', '\" soccer\"[p=0.02, l=10.38]', '\" (\"[p=0.01, l=10.19]', '\"???\"[p=0.01, l=10.12]', '\"?\"[p=0.01, l=10.12]']\n",
      "token_idx=19 [\" Williamson\"] => ['\" basketball\"[p=0.80, l=16.62]', '\" NBA\"[p=0.01, l=12.44]', '\" Basketball\"[p=0.01, l=12.38]', '\" athlete\"[p=0.01, l=12.38]', '\" football\"[p=0.01, l=12.38]', '\" professional\"[p=0.01, l=12.31]', '\" college\"[p=0.01, l=12.00]', '\" unknown\"[p=0.01, l=11.88]', '\" (\"[p=0.01, l=11.56]', '\" actor\"[p=0.00, l=11.44]', '\"??\"[p=0.00, l=11.31]', '\" basket\"[p=0.00, l=11.25]', '\"?\\n\"[p=0.00, l=10.94]', '\" \\n\"[p=0.00, l=10.94]', '\" \"[p=0.00, l=10.69]']\n",
      "\n",
      "\" John Mulaney\" | cur_rng=(21, 24)\n",
      "token_idx=21 [\" John\"] => ['\" unknown\"[p=0.09, l=13.06]', '\"?\\n\"[p=0.04, l=12.25]', '\" actor\"[p=0.04, l=12.25]', '\" politician\"[p=0.03, l=12.06]', '\" programmer\"[p=0.03, l=11.94]', '\" pastor\"[p=0.03, l=11.94]', '\" lawyer\"[p=0.02, l=11.81]', '\" software\"[p=0.02, l=11.81]', '\"?\"[p=0.02, l=11.62]', '\" no\"[p=0.02, l=11.56]', '\"??\"[p=0.02, l=11.56]', '\" teacher\"[p=0.02, l=11.31]', '\"???\"[p=0.01, l=11.25]', '\" farmer\"[p=0.01, l=11.19]', '\" writer\"[p=0.01, l=11.19]']\n",
      "token_idx=22 [\" Mul\"] => ['\" farmer\"[p=0.03, l=10.06]', '\" musician\"[p=0.02, l=9.69]', '\" actor\"[p=0.02, l=9.69]', '\" singer\"[p=0.02, l=9.50]', '\" unknown\"[p=0.01, l=9.38]', '\"?\\n\"[p=0.01, l=9.19]', '\"??\"[p=0.01, l=9.19]', '\"???\"[p=0.01, l=9.06]', '\" artist\"[p=0.01, l=9.06]', '\" cartoon\"[p=0.01, l=8.94]', '\" software\"[p=0.01, l=8.88]', '\" \"[p=0.01, l=8.88]', '\" programmer\"[p=0.01, l=8.88]', '\" engineer\"[p=0.01, l=8.81]', '\" (\"[p=0.01, l=8.81]']\n",
      "token_idx=23 [\"aney\"] => ['\" comedian\"[p=0.85, l=18.25]', '\" stand\"[p=0.05, l=15.31]', '\" actor\"[p=0.01, l=14.06]', '\" Com\"[p=0.01, l=13.81]', '\"??\"[p=0.01, l=13.12]', '\" (\"[p=0.01, l=13.12]', '\"?\\n\"[p=0.00, l=13.00]', '\" John\"[p=0.00, l=12.44]', '\" comic\"[p=0.00, l=12.25]', '\" unknown\"[p=0.00, l=12.19]', '\" Stand\"[p=0.00, l=12.19]', '\" \"[p=0.00, l=12.19]', '\" writer\"[p=0.00, l=12.12]', '\"???\"[p=0.00, l=12.06]', '\"?\"[p=0.00, l=12.06]']\n",
      "\n",
      "\" Ariana Grande\" | cur_rng=(25, 28)\n",
      "token_idx=25 [\" Ari\"] => ['\" singer\"[p=0.09, l=11.94]', '\"?\\n\"[p=0.06, l=11.56]', '\" unknown\"[p=0.03, l=10.88]', '\"?\"[p=0.03, l=10.81]', '\" artist\"[p=0.03, l=10.69]', '\"??\"[p=0.02, l=10.56]', '\" musician\"[p=0.02, l=10.56]', '\" actor\"[p=0.02, l=10.50]', '\" actress\"[p=0.02, l=10.31]', '\"???\"[p=0.01, l=10.12]', '\" model\"[p=0.01, l=10.12]', '\" pop\"[p=0.01, l=9.81]', '\"?\\n\\n\"[p=0.01, l=9.81]', '\" student\"[p=0.01, l=9.62]', '\" politician\"[p=0.01, l=9.56]']\n",
      "token_idx=26 [\"ana\"] => ['\" singer\"[p=0.57, l=15.00]', '\"?\\n\"[p=0.04, l=12.38]', '\" pop\"[p=0.04, l=12.38]', '\" musician\"[p=0.03, l=11.88]', '\" unknown\"[p=0.02, l=11.75]', '\"?\"[p=0.02, l=11.38]', '\" no\"[p=0.01, l=11.19]', '\" artist\"[p=0.01, l=11.06]', '\" actress\"[p=0.01, l=11.00]', '\"??\"[p=0.01, l=11.00]', '\" celebrity\"[p=0.01, l=10.94]', '\" not\"[p=0.01, l=10.62]', '\" Singer\"[p=0.01, l=10.62]', '\" (\"[p=0.01, l=10.50]', '\"?\\n\\n\"[p=0.01, l=10.44]']\n",
      "token_idx=27 [\" Grande\"] => ['\" singer\"[p=0.92, l=19.25]', '\" musician\"[p=0.02, l=15.44]', '\" pop\"[p=0.02, l=15.38]', '\" actress\"[p=0.01, l=14.56]', '\" Singer\"[p=0.00, l=13.88]', '\" artist\"[p=0.00, l=13.62]', '\" \"[p=0.00, l=12.50]', '\" actor\"[p=0.00, l=12.38]', '\" music\"[p=0.00, l=12.31]', '\"?\\n\"[p=0.00, l=12.31]', '\" celebrity\"[p=0.00, l=12.25]', '\" (\"[p=0.00, l=12.19]', '\" no\"[p=0.00, l=12.06]', '\" songwriter\"[p=0.00, l=11.94]', '\" model\"[p=0.00, l=11.94]']\n",
      "\n",
      "\" Joe Scarborough\" | cur_rng=(29, 31)\n",
      "token_idx=29 [\" Joe\"] => ['\" unknown\"[p=0.06, l=12.19]', '\"?\\n\"[p=0.03, l=11.56]', '\" plumber\"[p=0.03, l=11.38]', '\" actor\"[p=0.02, l=11.19]', '\"??\"[p=0.02, l=11.12]', '\"???\"[p=0.02, l=11.06]', '\"?\"[p=0.02, l=10.94]', '\" politician\"[p=0.02, l=10.88]', '\" jan\"[p=0.01, l=10.81]', '\" police\"[p=0.01, l=10.75]', '\" no\"[p=0.01, l=10.75]', '\" barber\"[p=0.01, l=10.69]', '\" teacher\"[p=0.01, l=10.56]', '\" bar\"[p=0.01, l=10.56]', '\" entrepreneur\"[p=0.01, l=10.56]']\n",
      "token_idx=30 [\" Scarborough\"] => ['\" politician\"[p=0.24, l=14.88]', '\" journalist\"[p=0.11, l=14.12]', '\" TV\"[p=0.07, l=13.69]', '\" news\"[p=0.06, l=13.50]', '\" television\"[p=0.05, l=13.38]', '\" political\"[p=0.05, l=13.25]', '\" tv\"[p=0.02, l=12.31]', '\" talk\"[p=0.02, l=12.12]', '\" lawyer\"[p=0.01, l=12.00]', '\"?\\n\"[p=0.01, l=11.94]', '\"??\"[p=0.01, l=11.88]', '\" (\"[p=0.01, l=11.88]', '\" musician\"[p=0.01, l=11.81]', '\"?\"[p=0.01, l=11.69]', '\" unknown\"[p=0.01, l=11.62]']\n",
      "\n",
      "\" Andrey Rublev\" | cur_rng=(32, 36)\n",
      "token_idx=32 [\" And\"] => ['\"?\\n\"[p=0.21, l=13.25]', '\"??\"[p=0.09, l=12.38]', '\"?\\n\\n\"[p=0.08, l=12.25]', '\"?\"[p=0.08, l=12.25]', '\"???\"[p=0.04, l=11.50]', '\" singer\"[p=0.02, l=10.88]', '\" And\"[p=0.02, l=10.81]', '\" musician\"[p=0.02, l=10.81]', '\" artist\"[p=0.02, l=10.69]', '\" software\"[p=0.01, l=10.44]', '\" \\n\"[p=0.01, l=10.44]', '\"...\"[p=0.01, l=10.38]', '\" lawyer\"[p=0.01, l=10.31]', '\" (\"[p=0.01, l=10.31]', '\" programmer\"[p=0.01, l=10.19]']\n",
      "token_idx=33 [\"rey\"] => ['\"?\\n\"[p=0.18, l=13.12]', '\"?\\n\\n\"[p=0.07, l=12.25]', '\" programmer\"[p=0.07, l=12.12]', '\"?\"[p=0.06, l=12.06]', '\"??\"[p=0.04, l=11.75]', '\" unknown\"[p=0.04, l=11.56]', '\" software\"[p=0.03, l=11.31]', '\"???\"[p=0.03, l=11.25]', '\" engineer\"[p=0.02, l=10.75]', '\" entrepreneur\"[p=0.02, l=10.75]', '\" artist\"[p=0.01, l=10.44]', '\" what\"[p=0.01, l=10.25]', '\" student\"[p=0.01, l=10.25]', '\" actor\"[p=0.01, l=10.25]', '\" computer\"[p=0.01, l=10.12]']\n",
      "token_idx=34 [\" Rub\"] => ['\"?\\n\"[p=0.05, l=10.81]', '\" artist\"[p=0.05, l=10.69]', '\"??\"[p=0.03, l=10.31]', '\" unknown\"[p=0.03, l=10.06]', '\"?\"[p=0.02, l=9.94]', '\"???\"[p=0.02, l=9.75]', '\" musician\"[p=0.02, l=9.69]', '\" singer\"[p=0.02, l=9.62]', '\" programmer\"[p=0.01, l=9.25]', '\" painter\"[p=0.01, l=9.19]', '\"?\\n\\n\"[p=0.01, l=9.12]', '\" what\"[p=0.01, l=9.00]', '\" Rub\"[p=0.01, l=8.94]', '\" football\"[p=0.01, l=8.94]', '\" mathematic\"[p=0.01, l=8.94]']\n",
      "token_idx=35 [\"lev\"] => ['\" tennis\"[p=0.42, l=15.12]', '\" artist\"[p=0.04, l=12.81]', '\" musician\"[p=0.03, l=12.50]', '\" painter\"[p=0.03, l=12.50]', '\"?\\n\"[p=0.03, l=12.50]', '\" politician\"[p=0.02, l=12.19]', '\" composer\"[p=0.02, l=11.88]', '\"??\"[p=0.02, l=11.88]', '\" poet\"[p=0.02, l=11.81]', '\"?\"[p=0.01, l=11.75]', '\" athlete\"[p=0.01, l=11.69]', '\" writer\"[p=0.01, l=11.62]', '\" (\"[p=0.01, l=11.56]', '\" unknown\"[p=0.01, l=11.56]', '\" novelist\"[p=0.01, l=11.38]']\n",
      "\n",
      "\" Samuel L. Jackson\" | cur_rng=(37, 41)\n",
      "token_idx=37 [\" Samuel\"] => ['\" prophet\"[p=0.31, l=14.00]', '\" unknown\"[p=0.04, l=12.00]', '\" judge\"[p=0.03, l=11.81]', '\" actor\"[p=0.03, l=11.69]', '\"?\\n\"[p=0.02, l=11.31]', '\" biblical\"[p=0.02, l=11.25]', '\"??\"[p=0.01, l=10.81]', '\" Prophet\"[p=0.01, l=10.69]', '\" no\"[p=0.01, l=10.69]', '\" priest\"[p=0.01, l=10.50]', '\" (\"[p=0.01, l=10.44]', '\" not\"[p=0.01, l=10.38]', '\" philosopher\"[p=0.01, l=10.38]', '\"?\"[p=0.01, l=10.31]', '\"???\"[p=0.01, l=10.25]']\n",
      "token_idx=38 [\" L\"] => ['\" actor\"[p=0.09, l=11.69]', '\" lawyer\"[p=0.09, l=11.62]', '\" singer\"[p=0.03, l=10.62]', '\" rapper\"[p=0.03, l=10.56]', '\"?\\n\"[p=0.02, l=10.25]', '\" musician\"[p=0.02, l=10.25]', '\" unknown\"[p=0.02, l=10.19]', '\"??\"[p=0.01, l=9.81]', '\" artist\"[p=0.01, l=9.75]', '\" teacher\"[p=0.01, l=9.75]', '\" software\"[p=0.01, l=9.62]', '\" (\"[p=0.01, l=9.56]', '\" comedian\"[p=0.01, l=9.50]', '\" programmer\"[p=0.01, l=9.44]', '\" writer\"[p=0.01, l=9.38]']\n",
      "token_idx=39 [\".\"] => ['\" lawyer\"[p=0.08, l=11.81]', '\"?\\n\"[p=0.06, l=11.56]', '\"?\\n\\n\"[p=0.04, l=11.06]', '\"??\"[p=0.03, l=10.88]', '\"?\"[p=0.03, l=10.75]', '\" unknown\"[p=0.03, l=10.69]', '\" actor\"[p=0.02, l=10.56]', '\" politician\"[p=0.02, l=10.50]', '\" (\"[p=0.02, l=10.38]', '\" scientist\"[p=0.02, l=10.19]', '\" L\"[p=0.01, l=10.06]', '\" musician\"[p=0.01, l=10.00]', '\"???\"[p=0.01, l=9.94]', '\" artist\"[p=0.01, l=9.88]', '\" not\"[p=0.01, l=9.75]']\n",
      "token_idx=40 [\" Jackson\"] => ['\" actor\"[p=0.79, l=15.31]', '\" rapper\"[p=0.01, l=10.44]', '\"?\\n\"[p=0.01, l=10.31]', '\"??\"[p=0.01, l=10.31]', '\" (\"[p=0.01, l=10.25]', '\" Actor\"[p=0.01, l=10.25]', '\" unknown\"[p=0.01, l=10.25]', '\" Jackson\"[p=0.00, l=10.19]', '\" no\"[p=0.00, l=10.12]', '\" painter\"[p=0.00, l=10.06]', '\" politician\"[p=0.00, l=10.00]', '\" singer\"[p=0.00, l=10.00]', '\"?\"[p=0.00, l=9.94]', '\" artist\"[p=0.00, l=9.94]', '\" not\"[p=0.00, l=9.81]']\n",
      "======================================================================================================================================================\n",
      "\n",
      "layer='model.layers.27'\n",
      "\n",
      "\"Ans:\" | cur_rng=(-2, 0)\n",
      "token_idx=-2 [\"Ans\"] => ['\"?\\n\"[p=0.08, l=11.00]', '\" Ans\"[p=0.03, l=10.19]', '\"?\\n\\n\"[p=0.03, l=10.19]', '\" unknown\"[p=0.03, l=10.19]', '\"??\"[p=0.03, l=10.00]', '\" artist\"[p=0.02, l=9.81]', '\" programmer\"[p=0.02, l=9.69]', '\" student\"[p=0.02, l=9.56]', '\"?\"[p=0.01, l=9.31]', '\" software\"[p=0.01, l=9.25]', '\"???\"[p=0.01, l=9.25]', '\" musician\"[p=0.01, l=9.06]', '\" singer\"[p=0.01, l=9.00]', '\" computer\"[p=0.01, l=8.94]', '\" (\"[p=0.01, l=8.75]']\n",
      "token_idx=-1 [\":\"] => ['\"?\\n\"[p=0.12, l=11.62]', '\"?\\n\\n\"[p=0.08, l=11.19]', '\"?\"[p=0.04, l=10.50]', '\" \\n\"[p=0.02, l=9.88]', '\" unknown\"[p=0.02, l=9.75]', '\"??\"[p=0.02, l=9.69]', '\" lawyer\"[p=0.02, l=9.62]', '\" (\"[p=0.02, l=9.56]', '\" ->\"[p=0.01, l=9.50]', '\" software\"[p=0.01, l=9.25]', '\" person\"[p=0.01, l=9.06]', '\" \"[p=0.01, l=9.06]', '\" artist\"[p=0.01, l=9.00]', '\" :\"[p=0.01, l=9.00]', '\"\\n\\n\"[p=0.01, l=8.94]']\n",
      "\n",
      "\" Trevor Noah\" | cur_rng=(13, 15)\n",
      "token_idx=13 [\" Trevor\"] => ['\"?\\n\"[p=0.08, l=12.25]', '\"??\"[p=0.05, l=11.75]', '\" unknown\"[p=0.04, l=11.62]', '\"?\"[p=0.04, l=11.50]', '\"???\"[p=0.03, l=11.38]', '\" software\"[p=0.03, l=11.31]', '\"?\\n\\n\"[p=0.02, l=11.06]', '\" actor\"[p=0.02, l=11.00]', '\" You\"[p=0.02, l=10.75]', '\" entrepreneur\"[p=0.02, l=10.69]', '\" programmer\"[p=0.02, l=10.62]', '\" (\"[p=0.01, l=10.38]', '\" musician\"[p=0.01, l=10.38]', '\" soccer\"[p=0.01, l=10.31]', '\" football\"[p=0.01, l=10.31]']\n",
      "token_idx=14 [\" Noah\"] => ['\" comedian\"[p=0.96, l=21.12]', '\" stand\"[p=0.01, l=16.25]', '\" Com\"[p=0.00, l=15.69]', '\" actor\"[p=0.00, l=15.38]', '\" TV\"[p=0.00, l=15.19]', '\" political\"[p=0.00, l=14.94]', '\" journalist\"[p=0.00, l=14.38]', '\" (\"[p=0.00, l=14.25]', '\" politician\"[p=0.00, l=14.12]', '\" television\"[p=0.00, l=14.06]', '\" talk\"[p=0.00, l=14.00]', '\" \"[p=0.00, l=13.75]', '\" comedy\"[p=0.00, l=13.62]', '\" writer\"[p=0.00, l=13.38]', '\" host\"[p=0.00, l=13.38]']\n",
      "\n",
      "\" Zion Williamson\" | cur_rng=(18, 20)\n",
      "token_idx=18 [\" Zion\"] => ['\" unknown\"[p=0.06, l=11.69]', '\" singer\"[p=0.06, l=11.56]', '\" musician\"[p=0.04, l=11.31]', '\" basketball\"[p=0.04, l=11.31]', '\"?\\n\"[p=0.04, l=11.31]', '\" rapper\"[p=0.04, l=11.12]', '\"??\"[p=0.03, l=11.00]', '\" football\"[p=0.03, l=10.94]', '\" no\"[p=0.02, l=10.69]', '\" student\"[p=0.02, l=10.44]', '\" artist\"[p=0.02, l=10.38]', '\" soccer\"[p=0.02, l=10.31]', '\" (\"[p=0.01, l=10.25]', '\"???\"[p=0.01, l=10.00]', '\" not\"[p=0.01, l=9.94]']\n",
      "token_idx=19 [\" Williamson\"] => ['\" basketball\"[p=0.88, l=17.62]', '\" professional\"[p=0.01, l=13.31]', '\" Basketball\"[p=0.01, l=13.25]', '\" NBA\"[p=0.01, l=13.00]', '\" college\"[p=0.01, l=12.94]', '\" football\"[p=0.01, l=12.88]', '\" athlete\"[p=0.01, l=12.81]', '\" (\"[p=0.00, l=11.94]', '\" basket\"[p=0.00, l=11.81]', '\" unknown\"[p=0.00, l=11.75]', '\" actor\"[p=0.00, l=11.69]', '\" entrepreneur\"[p=0.00, l=11.44]', '\" \"[p=0.00, l=11.38]', '\"??\"[p=0.00, l=11.31]', '\" \\n\"[p=0.00, l=11.25]']\n",
      "\n",
      "\" John Mulaney\" | cur_rng=(21, 24)\n",
      "token_idx=21 [\" John\"] => ['\" unknown\"[p=0.10, l=13.19]', '\"?\\n\"[p=0.04, l=12.25]', '\" actor\"[p=0.03, l=12.12]', '\" programmer\"[p=0.03, l=12.06]', '\" pastor\"[p=0.03, l=11.94]', '\" politician\"[p=0.03, l=11.88]', '\" lawyer\"[p=0.02, l=11.75]', '\" farmer\"[p=0.02, l=11.69]', '\" software\"[p=0.02, l=11.69]', '\"??\"[p=0.02, l=11.56]', '\"?\"[p=0.02, l=11.56]', '\" no\"[p=0.02, l=11.44]', '\" teacher\"[p=0.02, l=11.44]', '\"???\"[p=0.01, l=11.31]', '\" writer\"[p=0.01, l=11.31]']\n",
      "token_idx=22 [\" Mul\"] => ['\" musician\"[p=0.02, l=9.88]', '\" farmer\"[p=0.02, l=9.81]', '\" actor\"[p=0.02, l=9.81]', '\" singer\"[p=0.02, l=9.69]', '\" unknown\"[p=0.01, l=9.38]', '\"??\"[p=0.01, l=9.31]', '\" cartoon\"[p=0.01, l=9.25]', '\" artist\"[p=0.01, l=9.25]', '\"?\\n\"[p=0.01, l=9.19]', '\"???\"[p=0.01, l=9.19]', '\" software\"[p=0.01, l=9.12]', '\" programmer\"[p=0.01, l=9.00]', '\" \"[p=0.01, l=8.94]', '\" (\"[p=0.01, l=8.75]', '\" engineer\"[p=0.01, l=8.69]']\n",
      "token_idx=23 [\"aney\"] => ['\" comedian\"[p=0.88, l=18.88]', '\" stand\"[p=0.05, l=16.00]', '\" actor\"[p=0.01, l=14.50]', '\" Com\"[p=0.01, l=14.44]', '\" (\"[p=0.00, l=13.56]', '\"??\"[p=0.00, l=13.12]', '\"?\\n\"[p=0.00, l=12.88]', '\" Stand\"[p=0.00, l=12.81]', '\" John\"[p=0.00, l=12.75]', '\" \"[p=0.00, l=12.75]', '\" comic\"[p=0.00, l=12.75]', '\" writer\"[p=0.00, l=12.38]', '\"???\"[p=0.00, l=12.25]', '\"?\"[p=0.00, l=12.19]', '\" \\n\"[p=0.00, l=12.06]']\n",
      "\n",
      "\" Ariana Grande\" | cur_rng=(25, 28)\n",
      "token_idx=25 [\" Ari\"] => ['\" singer\"[p=0.13, l=12.56]', '\"?\\n\"[p=0.04, l=11.44]', '\" musician\"[p=0.04, l=11.31]', '\" artist\"[p=0.03, l=11.19]', '\" unknown\"[p=0.03, l=10.94]', '\" actor\"[p=0.02, l=10.75]', '\" actress\"[p=0.02, l=10.56]', '\" pop\"[p=0.02, l=10.50]', '\"?\"[p=0.02, l=10.44]', '\" student\"[p=0.01, l=10.38]', '\" model\"[p=0.01, l=10.31]', '\"??\"[p=0.01, l=10.31]', '\"???\"[p=0.01, l=10.00]', '\" lawyer\"[p=0.01, l=9.94]', '\" politician\"[p=0.01, l=9.81]']\n",
      "token_idx=26 [\"ana\"] => ['\" singer\"[p=0.52, l=14.75]', '\"?\\n\"[p=0.05, l=12.31]', '\" pop\"[p=0.04, l=12.06]', '\" unknown\"[p=0.03, l=11.94]', '\" musician\"[p=0.02, l=11.62]', '\" actress\"[p=0.02, l=11.31]', '\" no\"[p=0.02, l=11.25]', '\"?\"[p=0.02, l=11.25]', '\" artist\"[p=0.01, l=11.00]', '\"??\"[p=0.01, l=10.88]', '\" not\"[p=0.01, l=10.56]', '\" celebrity\"[p=0.01, l=10.56]', '\" model\"[p=0.01, l=10.44]', '\" teacher\"[p=0.01, l=10.38]', '\" (\"[p=0.01, l=10.38]']\n",
      "token_idx=27 [\" Grande\"] => ['\" singer\"[p=0.94, l=20.00]', '\" musician\"[p=0.02, l=16.25]', '\" pop\"[p=0.01, l=15.69]', '\" Singer\"[p=0.00, l=14.69]', '\" actress\"[p=0.00, l=14.50]', '\" artist\"[p=0.00, l=13.81]', '\" music\"[p=0.00, l=13.19]', '\" \"[p=0.00, l=12.94]', '\" songwriter\"[p=0.00, l=12.56]', '\" vocalist\"[p=0.00, l=12.44]', '\"?\\n\"[p=0.00, l=12.31]', '\" (\"[p=0.00, l=12.25]', '\" actor\"[p=0.00, l=12.25]', '\" celebrity\"[p=0.00, l=12.19]', '\" Music\"[p=0.00, l=12.19]']\n",
      "\n",
      "\" Joe Scarborough\" | cur_rng=(29, 31)\n",
      "token_idx=29 [\" Joe\"] => ['\" unknown\"[p=0.05, l=12.25]', '\" plumber\"[p=0.03, l=11.62]', '\" actor\"[p=0.02, l=11.44]', '\" politician\"[p=0.02, l=11.38]', '\" police\"[p=0.02, l=11.31]', '\"?\\n\"[p=0.02, l=11.25]', '\" teacher\"[p=0.02, l=11.12]', '\"???\"[p=0.01, l=10.94]', '\" barber\"[p=0.01, l=10.94]', '\" farmer\"[p=0.01, l=10.94]', '\"??\"[p=0.01, l=10.88]', '\" no\"[p=0.01, l=10.81]', '\" jan\"[p=0.01, l=10.81]', '\" entrepreneur\"[p=0.01, l=10.81]', '\"?\"[p=0.01, l=10.75]']\n",
      "token_idx=30 [\" Scarborough\"] => ['\" politician\"[p=0.30, l=16.25]', '\" journalist\"[p=0.17, l=15.69]', '\" TV\"[p=0.09, l=15.06]', '\" television\"[p=0.09, l=15.00]', '\" political\"[p=0.05, l=14.50]', '\" news\"[p=0.05, l=14.44]', '\" tv\"[p=0.02, l=13.62]', '\" lawyer\"[p=0.01, l=13.12]', '\" talk\"[p=0.01, l=13.12]', '\" media\"[p=0.01, l=12.81]', '\" musician\"[p=0.01, l=12.75]', '\" (\"[p=0.01, l=12.62]', '\" radio\"[p=0.01, l=12.25]', '\"??\"[p=0.00, l=12.12]', '\" host\"[p=0.00, l=12.12]']\n",
      "\n",
      "\" Andrey Rublev\" | cur_rng=(32, 36)\n",
      "token_idx=32 [\" And\"] => ['\"?\\n\"[p=0.19, l=13.00]', '\"??\"[p=0.08, l=12.19]', '\"?\\n\\n\"[p=0.07, l=12.00]', '\"?\"[p=0.07, l=12.00]', '\"???\"[p=0.03, l=11.31]', '\" And\"[p=0.02, l=10.75]', '\" singer\"[p=0.02, l=10.75]', '\" musician\"[p=0.02, l=10.62]', '\" (\"[p=0.01, l=10.44]', '\" artist\"[p=0.01, l=10.44]', '\" \\n\"[p=0.01, l=10.38]', '\" software\"[p=0.01, l=10.31]', '\" lawyer\"[p=0.01, l=10.25]', '\" unknown\"[p=0.01, l=10.25]', '\"...\"[p=0.01, l=10.12]']\n",
      "token_idx=33 [\"rey\"] => ['\"?\\n\"[p=0.22, l=13.56]', '\"?\\n\\n\"[p=0.10, l=12.75]', '\"?\"[p=0.07, l=12.38]', '\" programmer\"[p=0.06, l=12.31]', '\"??\"[p=0.05, l=12.00]', '\" unknown\"[p=0.04, l=11.75]', '\"???\"[p=0.03, l=11.50]', '\" software\"[p=0.02, l=11.25]', '\" entrepreneur\"[p=0.02, l=11.12]', '\" engineer\"[p=0.01, l=10.75]', '\" artist\"[p=0.01, l=10.56]', '\" what\"[p=0.01, l=10.44]', '\" astronaut\"[p=0.01, l=10.44]', '\" actor\"[p=0.01, l=10.44]', '\" student\"[p=0.01, l=10.19]']\n",
      "token_idx=34 [\" Rub\"] => ['\" artist\"[p=0.09, l=11.44]', '\" painter\"[p=0.03, l=10.25]', '\"?\\n\"[p=0.03, l=10.25]', '\"??\"[p=0.02, l=10.12]', '\" unknown\"[p=0.02, l=10.06]', '\" musician\"[p=0.02, l=9.81]', '\" singer\"[p=0.01, l=9.56]', '\"???\"[p=0.01, l=9.56]', '\"?\"[p=0.01, l=9.44]', '\" programmer\"[p=0.01, l=9.38]', '\" poet\"[p=0.01, l=9.38]', '\" entrepreneur\"[p=0.01, l=9.25]', '\" architect\"[p=0.01, l=9.12]', '\" photographer\"[p=0.01, l=9.00]', '\" \"[p=0.01, l=8.94]']\n",
      "token_idx=35 [\"lev\"] => ['\" tennis\"[p=0.48, l=15.75]', '\"?\\n\"[p=0.09, l=14.06]', '\"?\"[p=0.03, l=13.12]', '\"??\"[p=0.03, l=13.06]', '\"?\\n\\n\"[p=0.03, l=13.06]', '\" \\n\"[p=0.02, l=12.44]', '\" musician\"[p=0.02, l=12.38]', '\" athlete\"[p=0.02, l=12.38]', '\"???\"[p=0.01, l=12.25]', '\" politician\"[p=0.01, l=12.12]', '\" (\"[p=0.01, l=11.94]', '\" what\"[p=0.01, l=11.81]', '\" professional\"[p=0.01, l=11.81]', '\" artist\"[p=0.01, l=11.75]', '\" unknown\"[p=0.01, l=11.75]']\n",
      "\n",
      "\" Samuel L. Jackson\" | cur_rng=(37, 41)\n",
      "token_idx=37 [\" Samuel\"] => ['\" prophet\"[p=0.26, l=13.81]', '\" actor\"[p=0.05, l=12.12]', '\" unknown\"[p=0.05, l=12.06]', '\" judge\"[p=0.02, l=11.38]', '\"?\\n\"[p=0.02, l=11.25]', '\" biblical\"[p=0.01, l=10.94]', '\" no\"[p=0.01, l=10.81]', '\"??\"[p=0.01, l=10.69]', '\" priest\"[p=0.01, l=10.56]', '\" Prophet\"[p=0.01, l=10.50]', '\" not\"[p=0.01, l=10.44]', '\" (\"[p=0.01, l=10.44]', '\" singer\"[p=0.01, l=10.38]', '\" teacher\"[p=0.01, l=10.38]', '\" philosopher\"[p=0.01, l=10.38]']\n",
      "token_idx=38 [\" L\"] => ['\"?\\n\"[p=0.07, l=11.19]', '\" lawyer\"[p=0.04, l=10.62]', '\"??\"[p=0.04, l=10.56]', '\" unknown\"[p=0.04, l=10.50]', '\"?\"[p=0.03, l=10.31]', '\" singer\"[p=0.03, l=10.31]', '\"?\\n\\n\"[p=0.02, l=10.00]', '\" programmer\"[p=0.02, l=9.88]', '\" actor\"[p=0.02, l=9.88]', '\" artist\"[p=0.02, l=9.88]', '\" musician\"[p=0.02, l=9.75]', '\" L\"[p=0.02, l=9.75]', '\"???\"[p=0.02, l=9.69]', '\" no\"[p=0.01, l=9.38]', '\" not\"[p=0.01, l=9.38]']\n",
      "token_idx=39 [\".\"] => ['\" actor\"[p=0.11, l=12.19]', '\" lawyer\"[p=0.09, l=11.94]', '\"?\\n\"[p=0.04, l=11.06]', '\"??\"[p=0.02, l=10.50]', '\" unknown\"[p=0.02, l=10.44]', '\" politician\"[p=0.02, l=10.38]', '\" musician\"[p=0.02, l=10.38]', '\"?\\n\\n\"[p=0.02, l=10.25]', '\"?\"[p=0.02, l=10.25]', '\" (\"[p=0.02, l=10.25]', '\" singer\"[p=0.02, l=10.19]', '\" writer\"[p=0.01, l=10.06]', '\" scientist\"[p=0.01, l=9.94]', '\" what\"[p=0.01, l=9.88]', '\" author\"[p=0.01, l=9.81]']\n",
      "token_idx=40 [\" Jackson\"] => ['\" actor\"[p=0.78, l=15.44]', '\" rapper\"[p=0.01, l=10.62]', '\" (\"[p=0.01, l=10.56]', '\" singer\"[p=0.01, l=10.50]', '\" unknown\"[p=0.01, l=10.50]', '\" Actor\"[p=0.01, l=10.50]', '\" politician\"[p=0.01, l=10.44]', '\"?\\n\"[p=0.01, l=10.44]', '\"??\"[p=0.01, l=10.44]', '\" no\"[p=0.01, l=10.44]', '\" painter\"[p=0.00, l=10.31]', '\" artist\"[p=0.00, l=10.25]', '\" not\"[p=0.00, l=10.06]', '\" movie\"[p=0.00, l=9.94]', '\"?\"[p=0.00, l=9.94]']\n",
      "======================================================================================================================================================\n",
      "\n",
      "layer='model.layers.30'\n",
      "\n",
      "\"Ans:\" | cur_rng=(-2, 0)\n",
      "token_idx=-2 [\"Ans\"] => ['\" programmer\"[p=0.04, l=10.06]', '\"?\\n\"[p=0.04, l=10.00]', '\" Ans\"[p=0.03, l=9.88]', '\" unknown\"[p=0.02, l=9.56]', '\" software\"[p=0.02, l=9.38]', '\" artist\"[p=0.02, l=9.38]', '\" student\"[p=0.02, l=9.38]', '\" computer\"[p=0.02, l=9.25]', '\"?\\n\\n\"[p=0.01, l=9.00]', '\"??\"[p=0.01, l=8.88]', '\" answer\"[p=0.01, l=8.81]', '\" musician\"[p=0.01, l=8.75]', '\" singer\"[p=0.01, l=8.62]', '\" developer\"[p=0.01, l=8.62]', '\" data\"[p=0.01, l=8.50]']\n",
      "token_idx=-1 [\":\"] => ['\"?\\n\"[p=0.13, l=11.88]', '\"?\\n\\n\"[p=0.07, l=11.25]', '\"?\"[p=0.04, l=10.62]', '\" \\n\"[p=0.03, l=10.44]', '\" ->\"[p=0.03, l=10.38]', '\" lawyer\"[p=0.02, l=10.12]', '\"??\"[p=0.02, l=10.06]', '\" (\"[p=0.02, l=10.00]', '\" software\"[p=0.01, l=9.56]', '\" \"[p=0.01, l=9.56]', '\" unknown\"[p=0.01, l=9.50]', '\" artist\"[p=0.01, l=9.50]', '\"\\n\\n\"[p=0.01, l=9.38]', '\" profession\"[p=0.01, l=9.31]', '\" programmer\"[p=0.01, l=9.25]']\n",
      "\n",
      "\" Trevor Noah\" | cur_rng=(13, 15)\n",
      "token_idx=13 [\" Trevor\"] => ['\"?\\n\"[p=0.09, l=12.50]', '\"??\"[p=0.05, l=11.88]', '\" unknown\"[p=0.05, l=11.81]', '\"?\"[p=0.04, l=11.69]', '\"???\"[p=0.03, l=11.50]', '\" software\"[p=0.03, l=11.44]', '\"?\\n\\n\"[p=0.03, l=11.38]', '\" actor\"[p=0.02, l=11.12]', '\" programmer\"[p=0.02, l=10.88]', '\" entrepreneur\"[p=0.02, l=10.88]', '\" musician\"[p=0.01, l=10.44]', '\" football\"[p=0.01, l=10.38]', '\" no\"[p=0.01, l=10.31]', '\" (\"[p=0.01, l=10.31]', '\" engineer\"[p=0.01, l=10.31]']\n",
      "token_idx=14 [\" Noah\"] => ['\" comedian\"[p=0.93, l=19.38]', '\" stand\"[p=0.01, l=14.62]', '\" Com\"[p=0.01, l=14.50]', '\" actor\"[p=0.01, l=14.38]', '\" TV\"[p=0.00, l=13.94]', '\" political\"[p=0.00, l=13.75]', '\" (\"[p=0.00, l=13.56]', '\" politician\"[p=0.00, l=13.44]', '\" journalist\"[p=0.00, l=13.38]', '\" talk\"[p=0.00, l=13.38]', '\" television\"[p=0.00, l=12.88]', '\" \"[p=0.00, l=12.75]', '\"??\"[p=0.00, l=12.75]', '\" comedy\"[p=0.00, l=12.69]', '\"?\\n\"[p=0.00, l=12.62]']\n",
      "\n",
      "\" Zion Williamson\" | cur_rng=(18, 20)\n",
      "token_idx=18 [\" Zion\"] => ['\" unknown\"[p=0.06, l=11.62]', '\" singer\"[p=0.05, l=11.50]', '\"?\\n\"[p=0.04, l=11.38]', '\" musician\"[p=0.04, l=11.25]', '\" football\"[p=0.04, l=11.25]', '\" basketball\"[p=0.03, l=11.12]', '\" rapper\"[p=0.03, l=11.06]', '\"??\"[p=0.03, l=10.94]', '\" no\"[p=0.02, l=10.81]', '\" artist\"[p=0.02, l=10.62]', '\" soccer\"[p=0.02, l=10.50]', '\" student\"[p=0.02, l=10.44]', '\" prophet\"[p=0.01, l=10.31]', '\" (\"[p=0.01, l=10.25]', '\" actor\"[p=0.01, l=10.00]']\n",
      "token_idx=19 [\" Williamson\"] => ['\" basketball\"[p=0.86, l=17.38]', '\" football\"[p=0.01, l=13.19]', '\" Basketball\"[p=0.01, l=12.94]', '\" NBA\"[p=0.01, l=12.81]', '\" professional\"[p=0.01, l=12.75]', '\" college\"[p=0.01, l=12.62]', '\" athlete\"[p=0.00, l=12.19]', '\" (\"[p=0.00, l=12.00]', '\" unknown\"[p=0.00, l=11.94]', '\"??\"[p=0.00, l=11.75]', '\" basket\"[p=0.00, l=11.56]', '\"?\\n\"[p=0.00, l=11.56]', '\" \\n\"[p=0.00, l=11.25]', '\" actor\"[p=0.00, l=11.25]', '\" \"[p=0.00, l=11.19]']\n",
      "\n",
      "\" John Mulaney\" | cur_rng=(21, 24)\n",
      "token_idx=21 [\" John\"] => ['\" unknown\"[p=0.10, l=13.12]', '\"?\\n\"[p=0.04, l=12.31]', '\" programmer\"[p=0.03, l=12.00]', '\" farmer\"[p=0.02, l=11.75]', '\" actor\"[p=0.02, l=11.75]', '\" lawyer\"[p=0.02, l=11.75]', '\"?\"[p=0.02, l=11.62]', '\" software\"[p=0.02, l=11.62]', '\" no\"[p=0.02, l=11.56]', '\"??\"[p=0.02, l=11.50]', '\" pastor\"[p=0.02, l=11.50]', '\" teacher\"[p=0.02, l=11.38]', '\"???\"[p=0.02, l=11.38]', '\" politician\"[p=0.02, l=11.38]', '\" doctor\"[p=0.01, l=11.19]']\n",
      "token_idx=22 [\" Mul\"] => ['\" actor\"[p=0.02, l=10.06]', '\" farmer\"[p=0.02, l=9.94]', '\" musician\"[p=0.02, l=9.88]', '\" singer\"[p=0.02, l=9.75]', '\" software\"[p=0.01, l=9.50]', '\" unknown\"[p=0.01, l=9.44]', '\"??\"[p=0.01, l=9.25]', '\"???\"[p=0.01, l=9.19]', '\" artist\"[p=0.01, l=9.19]', '\" programmer\"[p=0.01, l=9.12]', '\"?\\n\"[p=0.01, l=9.12]', '\" engineer\"[p=0.01, l=9.12]', '\" mathematic\"[p=0.01, l=9.06]', '\" horse\"[p=0.01, l=9.06]', '\" cartoon\"[p=0.01, l=9.06]']\n",
      "token_idx=23 [\"aney\"] => ['\" comedian\"[p=0.84, l=18.12]', '\" stand\"[p=0.04, l=15.06]', '\" actor\"[p=0.01, l=13.81]', '\"?\\n\"[p=0.01, l=13.81]', '\"??\"[p=0.01, l=13.62]', '\" Com\"[p=0.01, l=13.50]', '\" (\"[p=0.01, l=13.19]', '\"?\"[p=0.00, l=12.81]', '\"???\"[p=0.00, l=12.75]', '\" unknown\"[p=0.00, l=12.50]', '\" \"[p=0.00, l=12.44]', '\" comic\"[p=0.00, l=12.44]', '\" John\"[p=0.00, l=12.31]', '\"?\\n\\n\"[p=0.00, l=12.12]', '\" \\n\"[p=0.00, l=12.06]']\n",
      "\n",
      "\" Ariana Grande\" | cur_rng=(25, 28)\n",
      "token_idx=25 [\" Ari\"] => ['\" singer\"[p=0.07, l=11.69]', '\"?\\n\"[p=0.06, l=11.56]', '\" artist\"[p=0.03, l=10.81]', '\" musician\"[p=0.02, l=10.62]', '\" unknown\"[p=0.02, l=10.62]', '\"?\"[p=0.02, l=10.44]', '\"??\"[p=0.02, l=10.38]', '\" actor\"[p=0.02, l=10.31]', '\" student\"[p=0.02, l=10.31]', '\"???\"[p=0.01, l=10.00]', '\" lawyer\"[p=0.01, l=9.88]', '\" software\"[p=0.01, l=9.81]', '\" entrepreneur\"[p=0.01, l=9.75]', '\" actress\"[p=0.01, l=9.75]', '\" politician\"[p=0.01, l=9.69]']\n",
      "token_idx=26 [\"ana\"] => ['\" singer\"[p=0.60, l=15.25]', '\"?\\n\"[p=0.04, l=12.44]', '\" pop\"[p=0.04, l=12.44]', '\" musician\"[p=0.03, l=12.19]', '\" unknown\"[p=0.02, l=11.88]', '\" actress\"[p=0.01, l=11.44]', '\"?\"[p=0.01, l=11.38]', '\" artist\"[p=0.01, l=11.31]', '\" no\"[p=0.01, l=11.25]', '\"??\"[p=0.01, l=11.06]', '\" Singer\"[p=0.01, l=10.94]', '\" (\"[p=0.01, l=10.62]', '\" celebrity\"[p=0.01, l=10.62]', '\" model\"[p=0.01, l=10.50]', '\" not\"[p=0.01, l=10.50]']\n",
      "token_idx=27 [\" Grande\"] => ['\" singer\"[p=0.89, l=18.88]', '\" musician\"[p=0.05, l=16.00]', '\" pop\"[p=0.01, l=14.38]', '\" actress\"[p=0.01, l=13.81]', '\" Singer\"[p=0.00, l=13.62]', '\" artist\"[p=0.00, l=13.25]', '\" music\"[p=0.00, l=12.94]', '\" lawyer\"[p=0.00, l=12.50]', '\" vocalist\"[p=0.00, l=12.25]', '\" \"[p=0.00, l=12.19]', '\"?\\n\"[p=0.00, l=12.12]', '\" songwriter\"[p=0.00, l=11.94]', '\" actor\"[p=0.00, l=11.81]', '\" (\"[p=0.00, l=11.75]', '\"?\"[p=0.00, l=11.69]']\n",
      "\n",
      "\" Joe Scarborough\" | cur_rng=(29, 31)\n",
      "token_idx=29 [\" Joe\"] => ['\" unknown\"[p=0.06, l=12.25]', '\"?\\n\"[p=0.04, l=11.94]', '\"?\"[p=0.02, l=11.38]', '\"???\"[p=0.02, l=11.38]', '\"??\"[p=0.02, l=11.38]', '\" programmer\"[p=0.02, l=11.12]', '\" farmer\"[p=0.02, l=11.12]', '\" plumber\"[p=0.02, l=11.06]', '\" politician\"[p=0.02, l=11.00]', '\" no\"[p=0.02, l=10.94]', '\" actor\"[p=0.01, l=10.88]', '\" police\"[p=0.01, l=10.81]', '\" engineer\"[p=0.01, l=10.75]', '\" teacher\"[p=0.01, l=10.69]', '\" software\"[p=0.01, l=10.69]']\n",
      "token_idx=30 [\" Scarborough\"] => ['\" journalist\"[p=0.33, l=17.75]', '\" television\"[p=0.16, l=17.00]', '\" TV\"[p=0.14, l=16.88]', '\" politician\"[p=0.11, l=16.62]', '\" news\"[p=0.06, l=16.12]', '\" political\"[p=0.06, l=16.00]', '\" tv\"[p=0.02, l=15.06]', '\" media\"[p=0.01, l=14.62]', '\" talk\"[p=0.01, l=14.25]', '\" lawyer\"[p=0.01, l=14.12]', '\" Journal\"[p=0.01, l=13.56]', '\" (\"[p=0.01, l=13.56]', '\" host\"[p=0.00, l=13.19]', '\" radio\"[p=0.00, l=13.12]', '\" American\"[p=0.00, l=12.94]']\n",
      "\n",
      "\" Andrey Rublev\" | cur_rng=(32, 36)\n",
      "token_idx=32 [\" And\"] => ['\"?\\n\"[p=0.19, l=12.94]', '\"??\"[p=0.09, l=12.19]', '\"?\"[p=0.09, l=12.19]', '\"?\\n\\n\"[p=0.08, l=12.00]', '\"???\"[p=0.04, l=11.38]', '\" what\"[p=0.02, l=10.50]', '\" (\"[p=0.02, l=10.38]', '\" And\"[p=0.02, l=10.38]', '\" \\n\"[p=0.01, l=10.25]', '\"...\"[p=0.01, l=10.19]', '\" singer\"[p=0.01, l=10.12]', '\" unknown\"[p=0.01, l=10.12]', '\" musician\"[p=0.01, l=10.12]', '\" artist\"[p=0.01, l=10.00]', '\" \"[p=0.01, l=10.00]']\n",
      "token_idx=33 [\"rey\"] => ['\"?\\n\"[p=0.18, l=13.19]', '\"?\\n\\n\"[p=0.08, l=12.31]', '\" programmer\"[p=0.06, l=12.12]', '\"?\"[p=0.06, l=12.06]', '\"??\"[p=0.05, l=11.81]', '\" unknown\"[p=0.04, l=11.62]', '\"???\"[p=0.03, l=11.31]', '\" software\"[p=0.02, l=11.12]', '\" entrepreneur\"[p=0.02, l=10.88]', '\" engineer\"[p=0.02, l=10.75]', '\" artist\"[p=0.01, l=10.50]', '\" what\"[p=0.01, l=10.38]', '\" astronaut\"[p=0.01, l=10.38]', '\" student\"[p=0.01, l=10.19]', '\" computer\"[p=0.01, l=10.12]']\n",
      "token_idx=34 [\" Rub\"] => ['\" artist\"[p=0.07, l=11.06]', '\"?\\n\"[p=0.03, l=10.31]', '\"??\"[p=0.03, l=10.19]', '\" unknown\"[p=0.02, l=9.81]', '\" musician\"[p=0.02, l=9.62]', '\"?\"[p=0.02, l=9.56]', '\"???\"[p=0.02, l=9.56]', '\" painter\"[p=0.02, l=9.56]', '\" programmer\"[p=0.01, l=9.38]', '\" entrepreneur\"[p=0.01, l=9.19]', '\" singer\"[p=0.01, l=9.19]', '\" chess\"[p=0.01, l=9.00]', '\" (\"[p=0.01, l=8.94]', '\" architect\"[p=0.01, l=8.94]', '\" mathematic\"[p=0.01, l=8.88]']\n",
      "token_idx=35 [\"lev\"] => ['\" tennis\"[p=0.47, l=15.88]', '\"?\\n\"[p=0.10, l=14.38]', '\"?\"[p=0.04, l=13.38]', '\"?\\n\\n\"[p=0.04, l=13.38]', '\"??\"[p=0.04, l=13.31]', '\" musician\"[p=0.02, l=12.56]', '\"???\"[p=0.02, l=12.50]', '\" politician\"[p=0.02, l=12.44]', '\" \\n\"[p=0.02, l=12.44]', '\" athlete\"[p=0.01, l=12.38]', '\" unknown\"[p=0.01, l=12.19]', '\" what\"[p=0.01, l=12.12]', '\" (\"[p=0.01, l=12.00]', '\" artist\"[p=0.01, l=11.94]', '\" professional\"[p=0.01, l=11.94]']\n",
      "\n",
      "\" Samuel L. Jackson\" | cur_rng=(37, 41)\n",
      "token_idx=37 [\" Samuel\"] => ['\" prophet\"[p=0.30, l=14.00]', '\" unknown\"[p=0.05, l=12.31]', '\"?\\n\"[p=0.04, l=12.00]', '\" actor\"[p=0.03, l=11.56]', '\" judge\"[p=0.02, l=11.50]', '\"??\"[p=0.02, l=11.38]', '\" no\"[p=0.02, l=11.12]', '\"?\"[p=0.01, l=10.94]', '\"???\"[p=0.01, l=10.88]', '\" biblical\"[p=0.01, l=10.75]', '\" not\"[p=0.01, l=10.56]', '\" (\"[p=0.01, l=10.56]', '\" Prophet\"[p=0.01, l=10.56]', '\" philosopher\"[p=0.01, l=10.44]', '\" teacher\"[p=0.01, l=10.44]']\n",
      "token_idx=38 [\" L\"] => ['\"?\\n\"[p=0.05, l=10.75]', '\" unknown\"[p=0.05, l=10.75]', '\"??\"[p=0.03, l=10.25]', '\" singer\"[p=0.03, l=10.12]', '\" lawyer\"[p=0.03, l=10.06]', '\"?\"[p=0.02, l=9.81]', '\" L\"[p=0.02, l=9.75]', '\" musician\"[p=0.02, l=9.69]', '\" no\"[p=0.02, l=9.69]', '\" artist\"[p=0.02, l=9.69]', '\"???\"[p=0.02, l=9.62]', '\" programmer\"[p=0.02, l=9.62]', '\" not\"[p=0.02, l=9.56]', '\" (\"[p=0.02, l=9.56]', '\" actor\"[p=0.02, l=9.56]']\n",
      "token_idx=39 [\".\"] => ['\"?\\n\"[p=0.07, l=11.75]', '\" actor\"[p=0.06, l=11.56]', '\"??\"[p=0.05, l=11.38]', '\" lawyer\"[p=0.05, l=11.31]', '\"?\"[p=0.04, l=11.12]', '\"?\\n\\n\"[p=0.04, l=11.06]', '\" unknown\"[p=0.03, l=10.94]', '\" politician\"[p=0.03, l=10.94]', '\" singer\"[p=0.02, l=10.38]', '\"???\"[p=0.02, l=10.31]', '\" (\"[p=0.02, l=10.19]', '\" not\"[p=0.02, l=10.19]', '\" musician\"[p=0.01, l=10.12]', '\" what\"[p=0.01, l=10.00]', '\" artist\"[p=0.01, l=9.94]']\n",
      "token_idx=40 [\" Jackson\"] => ['\" actor\"[p=0.84, l=16.25]', '\" politician\"[p=0.01, l=11.12]', '\" Actor\"[p=0.00, l=11.06]', '\"?\\n\"[p=0.00, l=11.00]', '\" (\"[p=0.00, l=11.00]', '\" singer\"[p=0.00, l=10.81]', '\" unknown\"[p=0.00, l=10.81]', '\"??\"[p=0.00, l=10.75]', '\" no\"[p=0.00, l=10.69]', '\" movie\"[p=0.00, l=10.62]', '\" not\"[p=0.00, l=10.56]', '\"?\"[p=0.00, l=10.50]', '\" rapper\"[p=0.00, l=10.50]', '\" artist\"[p=0.00, l=10.38]', '\" \"[p=0.00, l=10.25]']\n",
      "======================================================================================================================================================\n",
      "\n",
      "layer='model.layers.33'\n",
      "\n",
      "\"Ans:\" | cur_rng=(-2, 0)\n",
      "token_idx=-2 [\"Ans\"] => ['\" Ans\"[p=0.04, l=10.00]', '\"?\\n\"[p=0.04, l=9.81]', '\" unknown\"[p=0.03, l=9.62]', '\" artist\"[p=0.02, l=9.19]', '\" programmer\"[p=0.02, l=9.00]', '\"?\\n\\n\"[p=0.01, l=8.75]', '\"??\"[p=0.01, l=8.75]', '\" entrepreneur\"[p=0.01, l=8.62]', '\" person\"[p=0.01, l=8.62]', '\" software\"[p=0.01, l=8.62]', '\" student\"[p=0.01, l=8.56]', '\" computer\"[p=0.01, l=8.50]', '\" answer\"[p=0.01, l=8.31]', '\" \"[p=0.01, l=8.31]', '\" \\n\"[p=0.01, l=8.25]']\n",
      "token_idx=-1 [\":\"] => ['\"?\\n\"[p=0.10, l=11.25]', '\" \\n\"[p=0.04, l=10.44]', '\"?\\n\\n\"[p=0.04, l=10.38]', '\" (\"[p=0.04, l=10.31]', '\" ->\"[p=0.03, l=10.00]', '\"?\"[p=0.03, l=9.94]', '\" unknown\"[p=0.02, l=9.81]', '\" \"[p=0.02, l=9.50]', '\"??\"[p=0.02, l=9.44]', '\" empty\"[p=0.01, l=9.06]', '\"\\n\\n\"[p=0.01, l=9.00]', '\" artist\"[p=0.01, l=8.81]', '\" programmer\"[p=0.01, l=8.69]', '\" lawyer\"[p=0.01, l=8.69]', '\" None\"[p=0.01, l=8.62]']\n",
      "\n",
      "\" Trevor Noah\" | cur_rng=(13, 15)\n",
      "token_idx=13 [\" Trevor\"] => ['\"?\\n\"[p=0.11, l=12.69]', '\"??\"[p=0.06, l=12.12]', '\" unknown\"[p=0.05, l=11.94]', '\"?\"[p=0.05, l=11.94]', '\"???\"[p=0.04, l=11.75]', '\"?\\n\\n\"[p=0.04, l=11.62]', '\" software\"[p=0.03, l=11.25]', '\" actor\"[p=0.02, l=11.06]', '\" programmer\"[p=0.02, l=10.88]', '\" entrepreneur\"[p=0.02, l=10.81]', '\" no\"[p=0.01, l=10.44]', '\" engineer\"[p=0.01, l=10.44]', '\" musician\"[p=0.01, l=10.38]', '\" (\"[p=0.01, l=10.31]', '\" football\"[p=0.01, l=10.25]']\n",
      "token_idx=14 [\" Noah\"] => ['\" comedian\"[p=0.92, l=19.62]', '\" stand\"[p=0.01, l=14.88]', '\" TV\"[p=0.01, l=14.81]', '\" actor\"[p=0.01, l=14.81]', '\" Com\"[p=0.01, l=14.56]', '\" political\"[p=0.00, l=14.12]', '\" talk\"[p=0.00, l=14.12]', '\" (\"[p=0.00, l=14.00]', '\" politician\"[p=0.00, l=13.62]', '\" television\"[p=0.00, l=13.62]', '\" host\"[p=0.00, l=13.38]', '\"?\\n\"[p=0.00, l=13.19]', '\"??\"[p=0.00, l=13.12]', '\" \"[p=0.00, l=13.12]', '\" journalist\"[p=0.00, l=13.12]']\n",
      "\n",
      "\" Zion Williamson\" | cur_rng=(18, 20)\n",
      "token_idx=18 [\" Zion\"] => ['\"?\\n\"[p=0.06, l=11.75]', '\" singer\"[p=0.05, l=11.69]', '\" unknown\"[p=0.05, l=11.69]', '\" musician\"[p=0.04, l=11.38]', '\"??\"[p=0.04, l=11.31]', '\" prophet\"[p=0.03, l=11.06]', '\" rapper\"[p=0.03, l=11.00]', '\" football\"[p=0.03, l=11.00]', '\" no\"[p=0.02, l=10.88]', '\" basketball\"[p=0.02, l=10.81]', '\" artist\"[p=0.02, l=10.50]', '\"?\"[p=0.02, l=10.44]', '\"???\"[p=0.01, l=10.31]', '\" actor\"[p=0.01, l=10.31]', '\" (\"[p=0.01, l=10.25]']\n",
      "token_idx=19 [\" Williamson\"] => ['\" basketball\"[p=0.84, l=17.12]', '\" football\"[p=0.02, l=13.12]', '\" Basketball\"[p=0.01, l=12.69]', '\" NBA\"[p=0.01, l=12.62]', '\" professional\"[p=0.01, l=12.56]', '\" college\"[p=0.01, l=12.38]', '\" unknown\"[p=0.01, l=12.06]', '\" athlete\"[p=0.00, l=12.00]', '\"??\"[p=0.00, l=11.88]', '\" (\"[p=0.00, l=11.88]', '\"?\\n\"[p=0.00, l=11.81]', '\" actor\"[p=0.00, l=11.38]', '\" basket\"[p=0.00, l=11.38]', '\" \\n\"[p=0.00, l=11.25]', '\" \"[p=0.00, l=11.06]']\n",
      "\n",
      "\" John Mulaney\" | cur_rng=(21, 24)\n",
      "token_idx=21 [\" John\"] => ['\" unknown\"[p=0.10, l=13.00]', '\"?\\n\"[p=0.05, l=12.38]', '\"?\"[p=0.03, l=11.75]', '\" programmer\"[p=0.02, l=11.62]', '\" actor\"[p=0.02, l=11.62]', '\"??\"[p=0.02, l=11.56]', '\" farmer\"[p=0.02, l=11.56]', '\" no\"[p=0.02, l=11.50]', '\"???\"[p=0.02, l=11.44]', '\" lawyer\"[p=0.02, l=11.44]', '\" pastor\"[p=0.02, l=11.44]', '\" software\"[p=0.02, l=11.25]', '\" politician\"[p=0.02, l=11.25]', '\" teacher\"[p=0.01, l=11.12]', '\" (\"[p=0.01, l=11.06]']\n",
      "token_idx=22 [\" Mul\"] => ['\" actor\"[p=0.02, l=10.25]', '\" farmer\"[p=0.02, l=10.25]', '\" musician\"[p=0.02, l=9.88]', '\" unknown\"[p=0.01, l=9.69]', '\" singer\"[p=0.01, l=9.62]', '\"?\\n\"[p=0.01, l=9.56]', '\"??\"[p=0.01, l=9.50]', '\" horse\"[p=0.01, l=9.44]', '\"???\"[p=0.01, l=9.38]', '\" software\"[p=0.01, l=9.19]', '\" baker\"[p=0.01, l=9.19]', '\" (\"[p=0.01, l=9.19]', '\" artist\"[p=0.01, l=9.19]', '\" politician\"[p=0.01, l=9.19]', '\" \"[p=0.01, l=9.12]']\n",
      "token_idx=23 [\"aney\"] => ['\" comedian\"[p=0.81, l=18.00]', '\" stand\"[p=0.03, l=14.69]', '\"?\\n\"[p=0.03, l=14.62]', '\"??\"[p=0.01, l=14.00]', '\" actor\"[p=0.01, l=13.56]', '\"?\"[p=0.01, l=13.38]', '\" Com\"[p=0.01, l=13.25]', '\"?\\n\\n\"[p=0.01, l=13.19]', '\" (\"[p=0.01, l=13.06]', '\"???\"[p=0.01, l=13.06]', '\" unknown\"[p=0.00, l=12.81]', '\" \"[p=0.00, l=12.44]', '\" comic\"[p=0.00, l=12.25]', '\" \\n\"[p=0.00, l=12.25]', '\" what\"[p=0.00, l=12.19]']\n",
      "\n",
      "\" Ariana Grande\" | cur_rng=(25, 28)\n",
      "token_idx=25 [\" Ari\"] => ['\"?\\n\"[p=0.06, l=11.56]', '\" singer\"[p=0.05, l=11.44]', '\" artist\"[p=0.03, l=10.94]', '\" unknown\"[p=0.02, l=10.62]', '\" student\"[p=0.02, l=10.56]', '\" musician\"[p=0.02, l=10.56]', '\"?\"[p=0.02, l=10.44]', '\"??\"[p=0.02, l=10.38]', '\" actor\"[p=0.02, l=10.31]', '\" software\"[p=0.01, l=10.12]', '\" lawyer\"[p=0.01, l=10.00]', '\"???\"[p=0.01, l=9.88]', '\" entrepreneur\"[p=0.01, l=9.88]', '\" programmer\"[p=0.01, l=9.81]', '\" teacher\"[p=0.01, l=9.75]']\n",
      "token_idx=26 [\"ana\"] => ['\" singer\"[p=0.64, l=15.56]', '\" pop\"[p=0.05, l=12.94]', '\" musician\"[p=0.04, l=12.69]', '\"?\\n\"[p=0.02, l=12.06]', '\" actress\"[p=0.01, l=11.75]', '\" unknown\"[p=0.01, l=11.62]', '\" artist\"[p=0.01, l=11.56]', '\" Singer\"[p=0.01, l=11.31]', '\"?\"[p=0.01, l=11.19]', '\" no\"[p=0.01, l=11.06]', '\"??\"[p=0.01, l=10.94]', '\" celebrity\"[p=0.01, l=10.88]', '\" model\"[p=0.00, l=10.69]', '\" (\"[p=0.00, l=10.62]', '\" teacher\"[p=0.00, l=10.56]']\n",
      "token_idx=27 [\" Grande\"] => ['\" singer\"[p=0.91, l=19.00]', '\" musician\"[p=0.03, l=15.56]', '\" pop\"[p=0.01, l=14.62]', '\" actress\"[p=0.01, l=14.00]', '\" Singer\"[p=0.01, l=13.81]', '\" artist\"[p=0.00, l=13.12]', '\" music\"[p=0.00, l=12.69]', '\" \"[p=0.00, l=12.44]', '\" lawyer\"[p=0.00, l=12.25]', '\"?\\n\"[p=0.00, l=12.06]', '\" songwriter\"[p=0.00, l=12.06]', '\" actor\"[p=0.00, l=12.06]', '\" vocalist\"[p=0.00, l=11.94]', '\" model\"[p=0.00, l=11.88]', '\" (\"[p=0.00, l=11.81]']\n",
      "\n",
      "\" Joe Scarborough\" | cur_rng=(29, 31)\n",
      "token_idx=29 [\" Joe\"] => ['\" unknown\"[p=0.06, l=12.25]', '\"?\\n\"[p=0.05, l=12.12]', '\"??\"[p=0.03, l=11.56]', '\"?\"[p=0.03, l=11.56]', '\"???\"[p=0.03, l=11.44]', '\" programmer\"[p=0.02, l=11.06]', '\" farmer\"[p=0.02, l=10.94]', '\" politician\"[p=0.01, l=10.81]', '\" no\"[p=0.01, l=10.75]', '\" actor\"[p=0.01, l=10.75]', '\" engineer\"[p=0.01, l=10.75]', '\" software\"[p=0.01, l=10.62]', '\" plumber\"[p=0.01, l=10.62]', '\" (\"[p=0.01, l=10.62]', '\" police\"[p=0.01, l=10.50]']\n",
      "token_idx=30 [\" Scarborough\"] => ['\" journalist\"[p=0.32, l=17.75]', '\" television\"[p=0.15, l=17.00]', '\" TV\"[p=0.15, l=17.00]', '\" politician\"[p=0.08, l=16.38]', '\" news\"[p=0.07, l=16.25]', '\" political\"[p=0.06, l=16.00]', '\" tv\"[p=0.03, l=15.31]', '\" media\"[p=0.01, l=14.56]', '\" talk\"[p=0.01, l=14.44]', '\" lawyer\"[p=0.01, l=13.88]', '\" Journal\"[p=0.00, l=13.56]', '\" (\"[p=0.00, l=13.50]', '\"?\\n\"[p=0.00, l=13.38]', '\" host\"[p=0.00, l=13.31]', '\"?\"[p=0.00, l=13.25]']\n",
      "\n",
      "\" Andrey Rublev\" | cur_rng=(32, 36)\n",
      "token_idx=32 [\" And\"] => ['\"?\\n\"[p=0.14, l=11.94]', '\"?\"[p=0.06, l=11.12]', '\"?\\n\\n\"[p=0.06, l=11.06]', '\"??\"[p=0.05, l=10.88]', '\" And\"[p=0.03, l=10.31]', '\" \\n\"[p=0.02, l=10.19]', '\"...\"[p=0.02, l=10.06]', '\"???\"[p=0.02, l=9.94]', '\" (\"[p=0.02, l=9.94]', '\" and\"[p=0.02, l=9.88]', '\" lawyer\"[p=0.01, l=9.69]', '\" what\"[p=0.01, l=9.31]', '\" \"[p=0.01, l=9.19]', '\" so\"[p=0.01, l=9.06]', '\"\\n\\n\"[p=0.01, l=9.06]']\n",
      "token_idx=33 [\"rey\"] => ['\"?\\n\"[p=0.15, l=12.81]', '\" programmer\"[p=0.06, l=11.94]', '\"?\\n\\n\"[p=0.05, l=11.81]', '\"?\"[p=0.05, l=11.75]', '\"??\"[p=0.04, l=11.56]', '\" unknown\"[p=0.04, l=11.50]', '\" software\"[p=0.03, l=11.06]', '\"???\"[p=0.03, l=11.06]', '\" entrepreneur\"[p=0.02, l=10.69]', '\" engineer\"[p=0.02, l=10.62]', '\" artist\"[p=0.01, l=10.44]', '\" student\"[p=0.01, l=10.25]', '\" astronaut\"[p=0.01, l=10.12]', '\" what\"[p=0.01, l=10.00]', '\" computer\"[p=0.01, l=9.94]']\n",
      "token_idx=34 [\" Rub\"] => ['\"?\\n\"[p=0.06, l=11.00]', '\" artist\"[p=0.06, l=11.00]', '\"??\"[p=0.04, l=10.50]', '\"?\"[p=0.03, l=10.12]', '\" unknown\"[p=0.02, l=9.94]', '\"???\"[p=0.02, l=9.88]', '\" painter\"[p=0.02, l=9.69]', '\"?\\n\\n\"[p=0.01, l=9.50]', '\" chess\"[p=0.01, l=9.44]', '\" musician\"[p=0.01, l=9.44]', '\" programmer\"[p=0.01, l=9.25]', '\" (\"[p=0.01, l=9.19]', '\" tennis\"[p=0.01, l=9.12]', '\" what\"[p=0.01, l=9.12]', '\" architect\"[p=0.01, l=9.06]']\n",
      "token_idx=35 [\"lev\"] => ['\" tennis\"[p=0.46, l=16.38]', '\"?\\n\"[p=0.15, l=15.25]', '\"?\\n\\n\"[p=0.07, l=14.44]', '\"?\"[p=0.05, l=14.25]', '\"??\"[p=0.05, l=14.06]', '\"???\"[p=0.02, l=13.06]', '\" \\n\"[p=0.01, l=12.94]', '\" what\"[p=0.01, l=12.69]', '\" professional\"[p=0.01, l=12.44]', '\" athlete\"[p=0.01, l=12.44]', '\" musician\"[p=0.01, l=12.38]', '\" unknown\"[p=0.01, l=12.31]', '\" politician\"[p=0.01, l=12.31]', '\" (\"[p=0.01, l=12.25]', '\" \"[p=0.01, l=12.25]']\n",
      "\n",
      "\" Samuel L. Jackson\" | cur_rng=(37, 41)\n",
      "token_idx=37 [\" Samuel\"] => ['\" prophet\"[p=0.39, l=14.56]', '\" unknown\"[p=0.05, l=12.50]', '\"?\\n\"[p=0.04, l=12.38]', '\"??\"[p=0.03, l=11.81]', '\" judge\"[p=0.02, l=11.69]', '\" actor\"[p=0.02, l=11.38]', '\" no\"[p=0.02, l=11.31]', '\"?\"[p=0.02, l=11.31]', '\"???\"[p=0.01, l=11.25]', '\" biblical\"[p=0.01, l=11.00]', '\" Prophet\"[p=0.01, l=11.00]', '\" not\"[p=0.01, l=10.69]', '\" (\"[p=0.01, l=10.69]', '\" philosopher\"[p=0.01, l=10.44]', '\" I\"[p=0.01, l=10.38]']\n",
      "token_idx=38 [\" L\"] => ['\"?\\n\"[p=0.07, l=11.12]', '\" unknown\"[p=0.06, l=11.00]', '\"??\"[p=0.05, l=10.75]', '\"?\"[p=0.03, l=10.31]', '\"?\\n\\n\"[p=0.03, l=10.12]', '\"???\"[p=0.02, l=9.88]', '\" singer\"[p=0.02, l=9.88]', '\" L\"[p=0.02, l=9.81]', '\" no\"[p=0.02, l=9.75]', '\" lawyer\"[p=0.02, l=9.62]', '\" not\"[p=0.02, l=9.62]', '\" programmer\"[p=0.01, l=9.56]', '\" (\"[p=0.01, l=9.50]', '\" artist\"[p=0.01, l=9.50]', '\" musician\"[p=0.01, l=9.38]']\n",
      "token_idx=39 [\".\"] => ['\"?\\n\"[p=0.07, l=11.62]', '\"??\"[p=0.05, l=11.31]', '\" actor\"[p=0.05, l=11.19]', '\" politician\"[p=0.04, l=11.00]', '\"?\"[p=0.04, l=11.00]', '\" lawyer\"[p=0.04, l=11.00]', '\"?\\n\\n\"[p=0.03, l=10.88]', '\" unknown\"[p=0.03, l=10.81]', '\"???\"[p=0.02, l=10.31]', '\" singer\"[p=0.02, l=10.19]', '\" what\"[p=0.02, l=10.12]', '\" musician\"[p=0.02, l=10.06]', '\" (\"[p=0.01, l=10.00]', '\" Jackson\"[p=0.01, l=9.81]', '\" not\"[p=0.01, l=9.81]']\n",
      "token_idx=40 [\" Jackson\"] => ['\" actor\"[p=0.83, l=16.00]', '\" singer\"[p=0.01, l=11.06]', '\" politician\"[p=0.01, l=11.06]', '\" Actor\"[p=0.00, l=10.81]', '\" (\"[p=0.00, l=10.62]', '\"?\\n\"[p=0.00, l=10.62]', '\" rapper\"[p=0.00, l=10.44]', '\" unknown\"[p=0.00, l=10.44]', '\" movie\"[p=0.00, l=10.31]', '\" artist\"[p=0.00, l=10.31]', '\" musician\"[p=0.00, l=10.31]', '\" painter\"[p=0.00, l=10.31]', '\"??\"[p=0.00, l=10.19]', '\" no\"[p=0.00, l=10.19]', '\" \"[p=0.00, l=10.12]']\n",
      "======================================================================================================================================================\n",
      "\n",
      "layer='model.layers.36'\n",
      "\n",
      "\"Ans:\" | cur_rng=(-2, 0)\n",
      "token_idx=-2 [\"Ans\"] => ['\"?\\n\"[p=0.04, l=10.38]', '\" Ans\"[p=0.03, l=10.06]', '\" unknown\"[p=0.03, l=9.81]', '\" artist\"[p=0.03, l=9.81]', '\"??\"[p=0.02, l=9.56]', '\" programmer\"[p=0.02, l=9.44]', '\" student\"[p=0.02, l=9.31]', '\"?\\n\\n\"[p=0.01, l=9.25]', '\" politician\"[p=0.01, l=9.19]', '\" software\"[p=0.01, l=9.19]', '\" entrepreneur\"[p=0.01, l=9.19]', '\" person\"[p=0.01, l=9.06]', '\" scientist\"[p=0.01, l=9.06]', '\" \\n\"[p=0.01, l=9.06]', '\" astronaut\"[p=0.01, l=8.94]']\n",
      "token_idx=-1 [\":\"] => ['\"?\\n\"[p=0.21, l=12.88]', '\"?\\n\\n\"[p=0.11, l=12.25]', '\"?\"[p=0.06, l=11.56]', '\" \\n\"[p=0.04, l=11.31]', '\" ->\"[p=0.03, l=11.06]', '\"??\"[p=0.02, l=10.44]', '\" (\"[p=0.02, l=10.38]', '\" \"[p=0.02, l=10.25]', '\"\\n\\n\"[p=0.01, l=10.19]', '\" lawyer\"[p=0.01, l=10.12]', '\" \\n\\n\"[p=0.01, l=9.75]', '\" profession\"[p=0.01, l=9.75]', '\" ->\\n\"[p=0.01, l=9.69]', '\" software\"[p=0.01, l=9.69]', '\" artist\"[p=0.01, l=9.56]']\n",
      "\n",
      "\" Trevor Noah\" | cur_rng=(13, 15)\n",
      "token_idx=13 [\" Trevor\"] => ['\"?\\n\"[p=0.11, l=12.62]', '\"??\"[p=0.06, l=12.06]', '\"?\"[p=0.05, l=11.88]', '\" unknown\"[p=0.04, l=11.69]', '\"?\\n\\n\"[p=0.04, l=11.62]', '\"???\"[p=0.04, l=11.62]', '\" software\"[p=0.03, l=11.19]', '\" actor\"[p=0.02, l=11.06]', '\" programmer\"[p=0.02, l=10.81]', '\" entrepreneur\"[p=0.02, l=10.69]', '\" musician\"[p=0.01, l=10.50]', '\" politician\"[p=0.01, l=10.38]', '\" (\"[p=0.01, l=10.31]', '\" engineer\"[p=0.01, l=10.31]', '\" no\"[p=0.01, l=10.12]']\n",
      "token_idx=14 [\" Noah\"] => ['\" comedian\"[p=0.91, l=19.25]', '\" stand\"[p=0.01, l=14.44]', '\" Com\"[p=0.01, l=14.38]', '\"?\\n\"[p=0.01, l=14.31]', '\" actor\"[p=0.01, l=14.25]', '\" (\"[p=0.00, l=13.75]', '\"??\"[p=0.00, l=13.75]', '\" political\"[p=0.00, l=13.56]', '\" TV\"[p=0.00, l=13.56]', '\" politician\"[p=0.00, l=13.44]', '\"?\"[p=0.00, l=13.38]', '\"?\\n\\n\"[p=0.00, l=13.12]', '\"???\"[p=0.00, l=13.06]', '\" \"[p=0.00, l=13.00]', '\" \\n\"[p=0.00, l=12.94]']\n",
      "\n",
      "\" Zion Williamson\" | cur_rng=(18, 20)\n",
      "token_idx=18 [\" Zion\"] => ['\"?\\n\"[p=0.06, l=12.00]', '\" singer\"[p=0.06, l=12.00]', '\" unknown\"[p=0.06, l=11.88]', '\" musician\"[p=0.05, l=11.81]', '\"??\"[p=0.04, l=11.50]', '\" prophet\"[p=0.03, l=11.25]', '\" football\"[p=0.03, l=11.19]', '\" rapper\"[p=0.03, l=11.12]', '\" no\"[p=0.03, l=11.12]', '\"?\"[p=0.02, l=10.69]', '\" actor\"[p=0.02, l=10.56]', '\" (\"[p=0.02, l=10.56]', '\" artist\"[p=0.02, l=10.56]', '\"???\"[p=0.01, l=10.50]', '\" basketball\"[p=0.01, l=10.44]']\n",
      "token_idx=19 [\" Williamson\"] => ['\" basketball\"[p=0.81, l=16.88]', '\" football\"[p=0.01, l=12.88]', '\"?\\n\"[p=0.01, l=12.44]', '\" NBA\"[p=0.01, l=12.31]', '\"??\"[p=0.01, l=12.31]', '\" unknown\"[p=0.01, l=12.25]', '\" professional\"[p=0.01, l=12.25]', '\" Basketball\"[p=0.01, l=12.19]', '\" college\"[p=0.01, l=12.19]', '\" athlete\"[p=0.01, l=12.00]', '\" (\"[p=0.01, l=11.94]', '\"?\"[p=0.00, l=11.56]', '\" \\n\"[p=0.00, l=11.50]', '\" politician\"[p=0.00, l=11.44]', '\"???\"[p=0.00, l=11.31]']\n",
      "\n",
      "\" John Mulaney\" | cur_rng=(21, 24)\n",
      "token_idx=21 [\" John\"] => ['\" unknown\"[p=0.09, l=12.94]', '\"?\\n\"[p=0.06, l=12.44]', '\" programmer\"[p=0.03, l=11.75]', '\"?\"[p=0.03, l=11.75]', '\" pastor\"[p=0.02, l=11.62]', '\"??\"[p=0.02, l=11.56]', '\"???\"[p=0.02, l=11.50]', '\" lawyer\"[p=0.02, l=11.50]', '\" no\"[p=0.02, l=11.50]', '\" actor\"[p=0.02, l=11.44]', '\" software\"[p=0.02, l=11.38]', '\" farmer\"[p=0.02, l=11.25]', '\" politician\"[p=0.02, l=11.25]', '\" teacher\"[p=0.02, l=11.19]', '\" (\"[p=0.01, l=11.12]']\n",
      "token_idx=22 [\" Mul\"] => ['\" farmer\"[p=0.03, l=10.56]', '\" actor\"[p=0.02, l=10.31]', '\" unknown\"[p=0.02, l=10.12]', '\" musician\"[p=0.02, l=9.94]', '\" singer\"[p=0.01, l=9.62]', '\"??\"[p=0.01, l=9.56]', '\" cartoon\"[p=0.01, l=9.56]', '\"???\"[p=0.01, l=9.56]', '\" veterinarian\"[p=0.01, l=9.44]', '\"?\\n\"[p=0.01, l=9.44]', '\" software\"[p=0.01, l=9.31]', '\" (\"[p=0.01, l=9.31]', '\" artist\"[p=0.01, l=9.25]', '\" \\n\"[p=0.01, l=9.25]', '\" horse\"[p=0.01, l=9.25]']\n",
      "token_idx=23 [\"aney\"] => ['\" comedian\"[p=0.80, l=18.00]', '\"?\\n\"[p=0.04, l=15.06]', '\"??\"[p=0.02, l=14.25]', '\" stand\"[p=0.02, l=14.25]', '\"?\\n\\n\"[p=0.01, l=13.94]', '\"?\"[p=0.01, l=13.75]', '\"???\"[p=0.01, l=13.31]', '\" actor\"[p=0.01, l=13.31]', '\" (\"[p=0.01, l=13.12]', '\" unknown\"[p=0.01, l=13.12]', '\" Com\"[p=0.01, l=13.12]', '\" \"[p=0.00, l=12.56]', '\" comic\"[p=0.00, l=12.44]', '\" \\n\"[p=0.00, l=12.44]', '\" what\"[p=0.00, l=12.06]']\n",
      "\n",
      "\" Ariana Grande\" | cur_rng=(25, 28)\n",
      "token_idx=25 [\" Ari\"] => ['\"?\\n\"[p=0.09, l=11.94]', '\" singer\"[p=0.04, l=11.12]', '\" unknown\"[p=0.03, l=10.88]', '\"?\"[p=0.03, l=10.88]', '\" artist\"[p=0.03, l=10.81]', '\"??\"[p=0.02, l=10.56]', '\" student\"[p=0.02, l=10.50]', '\"?\\n\\n\"[p=0.02, l=10.19]', '\" musician\"[p=0.02, l=10.12]', '\" software\"[p=0.02, l=10.12]', '\"???\"[p=0.01, l=10.06]', '\" lawyer\"[p=0.01, l=9.88]', '\" programmer\"[p=0.01, l=9.88]', '\" actor\"[p=0.01, l=9.88]', '\" entrepreneur\"[p=0.01, l=9.75]']\n",
      "token_idx=26 [\"ana\"] => ['\" singer\"[p=0.53, l=14.88]', '\" pop\"[p=0.05, l=12.50]', '\"?\\n\"[p=0.04, l=12.38]', '\" musician\"[p=0.02, l=11.75]', '\" unknown\"[p=0.02, l=11.75]', '\" actress\"[p=0.02, l=11.38]', '\"?\"[p=0.02, l=11.31]', '\" artist\"[p=0.01, l=11.06]', '\" no\"[p=0.01, l=11.00]', '\"??\"[p=0.01, l=10.88]', '\" model\"[p=0.01, l=10.81]', '\" Singer\"[p=0.01, l=10.56]', '\" celebrity\"[p=0.01, l=10.38]', '\" teacher\"[p=0.01, l=10.38]', '\" (\"[p=0.01, l=10.31]']\n",
      "token_idx=27 [\" Grande\"] => ['\" singer\"[p=0.91, l=18.38]', '\" musician\"[p=0.02, l=14.62]', '\" pop\"[p=0.01, l=14.00]', '\" actress\"[p=0.01, l=13.50]', '\" Singer\"[p=0.01, l=13.38]', '\"?\\n\"[p=0.00, l=12.50]', '\" opera\"[p=0.00, l=12.38]', '\" artist\"[p=0.00, l=12.25]', '\" music\"[p=0.00, l=12.19]', '\" \"[p=0.00, l=12.06]', '\"?\"[p=0.00, l=11.88]', '\" \\n\"[p=0.00, l=11.75]', '\"??\"[p=0.00, l=11.69]', '\" unknown\"[p=0.00, l=11.62]', '\" songwriter\"[p=0.00, l=11.50]']\n",
      "\n",
      "\" Joe Scarborough\" | cur_rng=(29, 31)\n",
      "token_idx=29 [\" Joe\"] => ['\"?\\n\"[p=0.09, l=12.69]', '\" unknown\"[p=0.07, l=12.38]', '\"??\"[p=0.05, l=12.06]', '\"?\"[p=0.05, l=12.06]', '\"???\"[p=0.04, l=11.81]', '\" programmer\"[p=0.02, l=11.25]', '\"?\\n\\n\"[p=0.02, l=11.19]', '\" engineer\"[p=0.02, l=10.94]', '\" politician\"[p=0.01, l=10.81]', '\" farmer\"[p=0.01, l=10.81]', '\" no\"[p=0.01, l=10.75]', '\" software\"[p=0.01, l=10.69]', '\" (\"[p=0.01, l=10.69]', '\" teacher\"[p=0.01, l=10.56]', '\" student\"[p=0.01, l=10.56]']\n",
      "token_idx=30 [\" Scarborough\"] => ['\" journalist\"[p=0.38, l=17.62]', '\" TV\"[p=0.14, l=16.62]', '\" television\"[p=0.11, l=16.38]', '\" news\"[p=0.08, l=16.00]', '\" politician\"[p=0.07, l=15.94]', '\" political\"[p=0.06, l=15.75]', '\" tv\"[p=0.02, l=14.88]', '\" media\"[p=0.01, l=14.25]', '\" talk\"[p=0.01, l=14.12]', '\"?\\n\"[p=0.01, l=13.50]', '\" Journal\"[p=0.01, l=13.50]', '\"??\"[p=0.01, l=13.44]', '\" lawyer\"[p=0.01, l=13.44]', '\" (\"[p=0.01, l=13.38]', '\"?\"[p=0.00, l=13.25]']\n",
      "\n",
      "\" Andrey Rublev\" | cur_rng=(32, 36)\n",
      "token_idx=32 [\" And\"] => ['\"?\\n\"[p=0.06, l=11.06]', '\" And\"[p=0.04, l=10.62]', '\" and\"[p=0.04, l=10.62]', '\"?\"[p=0.03, l=10.38]', '\"?\\n\\n\"[p=0.03, l=10.31]', '\" \\n\"[p=0.03, l=10.31]', '\"...\"[p=0.03, l=10.25]', '\" so\"[p=0.02, l=10.00]', '\"??\"[p=0.02, l=9.94]', '\"...\\n\\n\"[p=0.02, l=9.88]', '\"...\\n\"[p=0.02, l=9.81]', '\" (\"[p=0.02, l=9.75]', '\" lawyer\"[p=0.01, l=9.50]', '\"\\n\\n\"[p=0.01, l=9.25]', '\" a\"[p=0.01, l=9.19]']\n",
      "token_idx=33 [\"rey\"] => ['\"?\\n\"[p=0.14, l=12.75]', '\" programmer\"[p=0.06, l=11.94]', '\"?\\n\\n\"[p=0.05, l=11.69]', '\"?\"[p=0.05, l=11.69]', '\"??\"[p=0.04, l=11.44]', '\" unknown\"[p=0.04, l=11.44]', '\" software\"[p=0.02, l=10.94]', '\"???\"[p=0.02, l=10.94]', '\" engineer\"[p=0.02, l=10.75]', '\" entrepreneur\"[p=0.02, l=10.56]', '\" artist\"[p=0.01, l=10.38]', '\" student\"[p=0.01, l=10.38]', '\" astronaut\"[p=0.01, l=10.25]', '\" mathematic\"[p=0.01, l=10.12]', '\" what\"[p=0.01, l=9.94]']\n",
      "token_idx=34 [\" Rub\"] => ['\"?\\n\"[p=0.09, l=11.38]', '\"??\"[p=0.05, l=10.88]', '\" artist\"[p=0.04, l=10.56]', '\"?\"[p=0.03, l=10.44]', '\"???\"[p=0.02, l=10.12]', '\"?\\n\\n\"[p=0.02, l=10.06]', '\" unknown\"[p=0.02, l=9.81]', '\" tennis\"[p=0.02, l=9.75]', '\" chess\"[p=0.02, l=9.69]', '\" programmer\"[p=0.01, l=9.62]', '\" musician\"[p=0.01, l=9.62]', '\" what\"[p=0.01, l=9.44]', '\" politician\"[p=0.01, l=9.38]', '\" entrepreneur\"[p=0.01, l=9.25]', '\" (\"[p=0.01, l=9.19]']\n",
      "token_idx=35 [\"lev\"] => ['\" tennis\"[p=0.43, l=16.50]', '\"?\\n\"[p=0.18, l=15.62]', '\"?\\n\\n\"[p=0.08, l=14.81]', '\"?\"[p=0.07, l=14.62]', '\"??\"[p=0.05, l=14.25]', '\"???\"[p=0.02, l=13.19]', '\" \\n\"[p=0.01, l=13.12]', '\" \"[p=0.01, l=12.56]', '\" what\"[p=0.01, l=12.50]', '\" (\"[p=0.01, l=12.50]', '\" unknown\"[p=0.01, l=12.50]', '\" athlete\"[p=0.01, l=12.38]', '\" professional\"[p=0.01, l=12.19]', '\" politician\"[p=0.00, l=11.94]', '\" musician\"[p=0.00, l=11.88]']\n",
      "\n",
      "\" Samuel L. Jackson\" | cur_rng=(37, 41)\n",
      "token_idx=37 [\" Samuel\"] => ['\" prophet\"[p=0.48, l=15.00]', '\" judge\"[p=0.06, l=12.94]', '\" unknown\"[p=0.02, l=11.94]', '\" biblical\"[p=0.02, l=11.88]', '\"?\\n\"[p=0.01, l=11.44]', '\" Prophet\"[p=0.01, l=11.31]', '\" actor\"[p=0.01, l=11.19]', '\" king\"[p=0.01, l=11.19]', '\" politician\"[p=0.01, l=11.00]', '\"??\"[p=0.01, l=11.00]', '\" (\"[p=0.01, l=10.69]', '\"?\"[p=0.01, l=10.50]', '\" leader\"[p=0.01, l=10.44]', '\" no\"[p=0.01, l=10.44]', '\" Judge\"[p=0.01, l=10.44]']\n",
      "token_idx=38 [\" L\"] => ['\" unknown\"[p=0.06, l=11.00]', '\"?\\n\"[p=0.06, l=11.00]', '\"??\"[p=0.05, l=10.75]', '\"?\"[p=0.04, l=10.50]', '\"???\"[p=0.02, l=10.06]', '\"?\\n\\n\"[p=0.02, l=10.00]', '\" no\"[p=0.02, l=9.94]', '\" lawyer\"[p=0.02, l=9.88]', '\" not\"[p=0.02, l=9.88]', '\" singer\"[p=0.02, l=9.75]', '\" artist\"[p=0.02, l=9.62]', '\" (\"[p=0.02, l=9.62]', '\" actor\"[p=0.01, l=9.50]', '\" musician\"[p=0.01, l=9.44]', '\" L\"[p=0.01, l=9.38]']\n",
      "token_idx=39 [\".\"] => ['\"?\\n\"[p=0.07, l=11.75]', '\" actor\"[p=0.06, l=11.56]', '\"??\"[p=0.05, l=11.50]', '\" politician\"[p=0.04, l=11.12]', '\" lawyer\"[p=0.04, l=11.12]', '\"?\"[p=0.03, l=11.06]', '\" unknown\"[p=0.03, l=10.81]', '\"?\\n\\n\"[p=0.03, l=10.81]', '\"???\"[p=0.02, l=10.56]', '\" Jackson\"[p=0.02, l=10.56]', '\" singer\"[p=0.02, l=10.44]', '\" what\"[p=0.02, l=10.38]', '\" musician\"[p=0.02, l=10.38]', '\" (\"[p=0.01, l=10.12]', '\" astronaut\"[p=0.01, l=10.00]']\n",
      "token_idx=40 [\" Jackson\"] => ['\" actor\"[p=0.84, l=16.00]', '\" politician\"[p=0.01, l=11.19]', '\" singer\"[p=0.01, l=11.06]', '\"?\\n\"[p=0.01, l=11.00]', '\" unknown\"[p=0.00, l=10.81]', '\"??\"[p=0.00, l=10.69]', '\" Actor\"[p=0.00, l=10.69]', '\"?\"[p=0.00, l=10.50]', '\" (\"[p=0.00, l=10.50]', '\" movie\"[p=0.00, l=10.38]', '\" no\"[p=0.00, l=10.31]', '\" lawyer\"[p=0.00, l=10.12]', '\"???\"[p=0.00, l=10.06]', '\" musician\"[p=0.00, l=10.06]', '\" not\"[p=0.00, l=10.00]']\n",
      "======================================================================================================================================================\n",
      "\n",
      "layer='model.layers.39'\n",
      "\n",
      "\"Ans:\" | cur_rng=(-2, 0)\n",
      "token_idx=-2 [\"Ans\"] => ['\"?\\n\"[p=0.05, l=10.81]', '\" Ans\"[p=0.05, l=10.69]', '\" unknown\"[p=0.03, l=10.38]', '\" artist\"[p=0.02, l=10.06]', '\"??\"[p=0.02, l=10.00]', '\" programmer\"[p=0.02, l=9.94]', '\" student\"[p=0.02, l=9.75]', '\"?\\n\\n\"[p=0.02, l=9.69]', '\" politician\"[p=0.02, l=9.62]', '\" software\"[p=0.01, l=9.56]', '\" \\n\"[p=0.01, l=9.50]', '\" scientist\"[p=0.01, l=9.44]', '\"???\"[p=0.01, l=9.31]', '\" computer\"[p=0.01, l=9.25]', '\" person\"[p=0.01, l=9.25]']\n",
      "token_idx=-1 [\":\"] => ['\"?\\n\"[p=0.29, l=13.94]', '\"?\\n\\n\"[p=0.17, l=13.38]', '\"?\"[p=0.06, l=12.38]', '\" \\n\"[p=0.04, l=12.00]', '\" ->\"[p=0.02, l=11.19]', '\"\\n\\n\"[p=0.02, l=11.06]', '\"??\"[p=0.02, l=11.00]', '\" lawyer\"[p=0.01, l=10.81]', '\" (\"[p=0.01, l=10.75]', '\" \\n\\n\"[p=0.01, l=10.62]', '\" \"[p=0.01, l=10.44]', '\" software\"[p=0.01, l=10.38]', '\" profession\"[p=0.01, l=10.19]', '\" computer\"[p=0.01, l=10.19]', '\" entrepreneur\"[p=0.01, l=10.00]']\n",
      "\n",
      "\" Trevor Noah\" | cur_rng=(13, 15)\n",
      "token_idx=13 [\" Trevor\"] => ['\"?\\n\"[p=0.10, l=12.50]', '\"??\"[p=0.05, l=11.94]', '\"?\"[p=0.05, l=11.88]', '\" unknown\"[p=0.04, l=11.69]', '\" actor\"[p=0.04, l=11.50]', '\"???\"[p=0.04, l=11.50]', '\"?\\n\\n\"[p=0.03, l=11.44]', '\" software\"[p=0.03, l=11.19]', '\" programmer\"[p=0.02, l=10.81]', '\" musician\"[p=0.02, l=10.69]', '\" entrepreneur\"[p=0.01, l=10.62]', '\" football\"[p=0.01, l=10.56]', '\" politician\"[p=0.01, l=10.44]', '\" singer\"[p=0.01, l=10.38]', '\" (\"[p=0.01, l=10.38]']\n",
      "token_idx=14 [\" Noah\"] => ['\" comedian\"[p=0.91, l=19.25]', '\" stand\"[p=0.01, l=14.44]', '\" Com\"[p=0.01, l=14.31]', '\"?\\n\"[p=0.01, l=14.25]', '\" actor\"[p=0.01, l=14.06]', '\" (\"[p=0.00, l=13.81]', '\"??\"[p=0.00, l=13.69]', '\" TV\"[p=0.00, l=13.69]', '\" political\"[p=0.00, l=13.38]', '\"?\"[p=0.00, l=13.31]', '\" \"[p=0.00, l=13.12]', '\" \\n\"[p=0.00, l=13.06]', '\" politician\"[p=0.00, l=13.06]', '\"?\\n\\n\"[p=0.00, l=13.00]', '\" talk\"[p=0.00, l=13.00]']\n",
      "\n",
      "\" Zion Williamson\" | cur_rng=(18, 20)\n",
      "token_idx=18 [\" Zion\"] => ['\" unknown\"[p=0.06, l=12.06]', '\" singer\"[p=0.06, l=12.06]', '\" musician\"[p=0.06, l=12.00]', '\"?\\n\"[p=0.06, l=11.94]', '\" prophet\"[p=0.05, l=11.75]', '\"??\"[p=0.04, l=11.69]', '\" rapper\"[p=0.02, l=11.12]', '\" football\"[p=0.02, l=11.12]', '\" no\"[p=0.02, l=11.00]', '\"???\"[p=0.02, l=10.81]', '\"?\"[p=0.02, l=10.75]', '\" actor\"[p=0.02, l=10.62]', '\" politician\"[p=0.01, l=10.50]', '\" (\"[p=0.01, l=10.50]', '\" basketball\"[p=0.01, l=10.38]']\n",
      "token_idx=19 [\" Williamson\"] => ['\" basketball\"[p=0.79, l=16.75]', '\"?\\n\"[p=0.01, l=12.69]', '\" football\"[p=0.01, l=12.69]', '\"??\"[p=0.01, l=12.56]', '\" unknown\"[p=0.01, l=12.25]', '\" Basketball\"[p=0.01, l=12.25]', '\" NBA\"[p=0.01, l=12.12]', '\" college\"[p=0.01, l=12.12]', '\" professional\"[p=0.01, l=12.00]', '\"?\"[p=0.01, l=11.94]', '\" (\"[p=0.01, l=11.88]', '\" athlete\"[p=0.01, l=11.81]', '\" politician\"[p=0.01, l=11.75]', '\" \\n\"[p=0.00, l=11.69]', '\"???\"[p=0.00, l=11.50]']\n",
      "\n",
      "\" John Mulaney\" | cur_rng=(21, 24)\n",
      "token_idx=21 [\" John\"] => ['\" unknown\"[p=0.09, l=12.94]', '\"?\\n\"[p=0.04, l=12.19]', '\" actor\"[p=0.03, l=11.75]', '\" pastor\"[p=0.02, l=11.62]', '\" programmer\"[p=0.02, l=11.62]', '\"?\"[p=0.02, l=11.56]', '\"??\"[p=0.02, l=11.44]', '\" politician\"[p=0.02, l=11.44]', '\" lawyer\"[p=0.02, l=11.44]', '\" no\"[p=0.02, l=11.38]', '\"???\"[p=0.02, l=11.31]', '\" software\"[p=0.02, l=11.31]', '\" doctor\"[p=0.01, l=11.12]', '\" (\"[p=0.01, l=11.12]', '\" farmer\"[p=0.01, l=11.12]']\n",
      "token_idx=22 [\" Mul\"] => ['\" actor\"[p=0.03, l=10.19]', '\" unknown\"[p=0.03, l=10.19]', '\" farmer\"[p=0.02, l=9.94]', '\" musician\"[p=0.02, l=9.69]', '\"?\\n\"[p=0.02, l=9.62]', '\"??\"[p=0.02, l=9.56]', '\" singer\"[p=0.01, l=9.44]', '\"???\"[p=0.01, l=9.38]', '\" no\"[p=0.01, l=9.38]', '\" politician\"[p=0.01, l=9.31]', '\" (\"[p=0.01, l=9.25]', '\" artist\"[p=0.01, l=9.19]', '\" \\n\"[p=0.01, l=9.12]', '\" horse\"[p=0.01, l=9.12]', '\"?\"[p=0.01, l=9.06]']\n",
      "token_idx=23 [\"aney\"] => ['\" comedian\"[p=0.73, l=17.75]', '\"?\\n\"[p=0.07, l=15.44]', '\"??\"[p=0.03, l=14.38]', '\"?\\n\\n\"[p=0.03, l=14.38]', '\"?\"[p=0.02, l=14.00]', '\" stand\"[p=0.02, l=13.88]', '\"???\"[p=0.01, l=13.44]', '\" unknown\"[p=0.01, l=13.25]', '\" (\"[p=0.01, l=13.06]', '\" actor\"[p=0.01, l=13.06]', '\" Com\"[p=0.00, l=12.75]', '\" \\n\"[p=0.00, l=12.69]', '\" \"[p=0.00, l=12.56]', '\" comic\"[p=0.00, l=12.31]', '\" what\"[p=0.00, l=11.88]']\n",
      "\n",
      "\" Ariana Grande\" | cur_rng=(25, 28)\n",
      "token_idx=25 [\" Ari\"] => ['\"?\\n\"[p=0.10, l=11.94]', '\" singer\"[p=0.05, l=11.25]', '\"?\"[p=0.04, l=11.06]', '\" unknown\"[p=0.04, l=10.94]', '\"??\"[p=0.03, l=10.81]', '\" artist\"[p=0.03, l=10.62]', '\"?\\n\\n\"[p=0.02, l=10.31]', '\"???\"[p=0.02, l=10.25]', '\" student\"[p=0.02, l=10.06]', '\" musician\"[p=0.01, l=9.94]', '\" software\"[p=0.01, l=9.75]', '\" lawyer\"[p=0.01, l=9.75]', '\" actress\"[p=0.01, l=9.56]', '\" teacher\"[p=0.01, l=9.56]', '\" politician\"[p=0.01, l=9.56]']\n",
      "token_idx=26 [\"ana\"] => ['\" singer\"[p=0.43, l=14.31]', '\"?\\n\"[p=0.06, l=12.38]', '\" pop\"[p=0.05, l=12.12]', '\" unknown\"[p=0.04, l=11.88]', '\"?\"[p=0.02, l=11.38]', '\" musician\"[p=0.02, l=11.38]', '\" actress\"[p=0.01, l=10.94]', '\"??\"[p=0.01, l=10.88]', '\" no\"[p=0.01, l=10.88]', '\" model\"[p=0.01, l=10.81]', '\" artist\"[p=0.01, l=10.75]', '\"?\\n\\n\"[p=0.01, l=10.44]', '\" not\"[p=0.01, l=10.25]', '\"???\"[p=0.01, l=10.12]', '\" teacher\"[p=0.01, l=10.12]']\n",
      "token_idx=27 [\" Grande\"] => ['\" singer\"[p=0.89, l=18.00]', '\" musician\"[p=0.02, l=13.94]', '\" pop\"[p=0.01, l=13.88]', '\"?\\n\"[p=0.01, l=13.31]', '\" Singer\"[p=0.01, l=13.06]', '\" actress\"[p=0.00, l=12.75]', '\"?\"[p=0.00, l=12.56]', '\"??\"[p=0.00, l=12.31]', '\" \\n\"[p=0.00, l=12.25]', '\" unknown\"[p=0.00, l=12.12]', '\" artist\"[p=0.00, l=12.06]', '\" \"[p=0.00, l=12.00]', '\" music\"[p=0.00, l=11.94]', '\"?\\n\\n\"[p=0.00, l=11.88]', '\" (\"[p=0.00, l=11.56]']\n",
      "\n",
      "\" Joe Scarborough\" | cur_rng=(29, 31)\n",
      "token_idx=29 [\" Joe\"] => ['\"?\\n\"[p=0.08, l=12.62]', '\" unknown\"[p=0.06, l=12.31]', '\"?\"[p=0.05, l=12.12]', '\"??\"[p=0.05, l=12.00]', '\"???\"[p=0.04, l=11.81]', '\" programmer\"[p=0.02, l=11.31]', '\"?\\n\\n\"[p=0.02, l=11.12]', '\" engineer\"[p=0.02, l=11.00]', '\" farmer\"[p=0.01, l=10.88]', '\" politician\"[p=0.01, l=10.88]', '\" software\"[p=0.01, l=10.75]', '\" (\"[p=0.01, l=10.69]', '\" no\"[p=0.01, l=10.69]', '\" teacher\"[p=0.01, l=10.69]', '\" student\"[p=0.01, l=10.50]']\n",
      "token_idx=30 [\" Scarborough\"] => ['\" journalist\"[p=0.40, l=17.50]', '\" TV\"[p=0.13, l=16.38]', '\" television\"[p=0.09, l=16.00]', '\" news\"[p=0.09, l=16.00]', '\" politician\"[p=0.05, l=15.44]', '\" political\"[p=0.04, l=15.25]', '\" tv\"[p=0.02, l=14.56]', '\"?\\n\"[p=0.02, l=14.31]', '\"??\"[p=0.01, l=14.19]', '\"?\"[p=0.01, l=13.88]', '\" talk\"[p=0.01, l=13.75]', '\" media\"[p=0.01, l=13.62]', '\" (\"[p=0.01, l=13.44]', '\" Journal\"[p=0.01, l=13.25]', '\"?\\n\\n\"[p=0.00, l=13.06]']\n",
      "\n",
      "\" Andrey Rublev\" | cur_rng=(32, 36)\n",
      "token_idx=32 [\" And\"] => ['\" And\"[p=0.06, l=10.75]', '\" and\"[p=0.05, l=10.56]', '\"?\\n\"[p=0.04, l=10.38]', '\" \\n\"[p=0.03, l=10.06]', '\" so\"[p=0.03, l=10.00]', '\"...\"[p=0.02, l=9.94]', '\"?\"[p=0.02, l=9.81]', '\"?\\n\\n\"[p=0.02, l=9.62]', '\" (\"[p=0.02, l=9.62]', '\"...\\n\\n\"[p=0.02, l=9.62]', '\"??\"[p=0.01, l=9.44]', '\"...\\n\"[p=0.01, l=9.44]', '\" etc\"[p=0.01, l=9.25]', '\" lawyer\"[p=0.01, l=9.19]', '\" fill\"[p=0.01, l=9.19]']\n",
      "token_idx=33 [\"rey\"] => ['\"?\\n\"[p=0.10, l=12.38]', '\" programmer\"[p=0.09, l=12.31]', '\"?\"[p=0.04, l=11.44]', '\" unknown\"[p=0.03, l=11.25]', '\"?\\n\\n\"[p=0.03, l=11.25]', '\" software\"[p=0.03, l=11.19]', '\"??\"[p=0.03, l=11.12]', '\" engineer\"[p=0.02, l=10.81]', '\"???\"[p=0.02, l=10.69]', '\" mathematic\"[p=0.02, l=10.62]', '\" entrepreneur\"[p=0.02, l=10.62]', '\" astronaut\"[p=0.01, l=10.38]', '\" chess\"[p=0.01, l=10.25]', '\" tennis\"[p=0.01, l=10.19]', '\" artist\"[p=0.01, l=10.19]']\n",
      "token_idx=34 [\" Rub\"] => ['\"?\\n\"[p=0.06, l=11.06]', '\"??\"[p=0.05, l=10.81]', '\" artist\"[p=0.03, l=10.50]', '\" tennis\"[p=0.03, l=10.25]', '\"?\"[p=0.03, l=10.25]', '\" unknown\"[p=0.02, l=10.19]', '\"???\"[p=0.02, l=10.12]', '\" chess\"[p=0.02, l=10.12]', '\" programmer\"[p=0.02, l=9.75]', '\" musician\"[p=0.02, l=9.75]', '\"?\\n\\n\"[p=0.01, l=9.69]', '\" (\"[p=0.01, l=9.50]', '\" entrepreneur\"[p=0.01, l=9.50]', '\" politician\"[p=0.01, l=9.44]', '\" \\n\"[p=0.01, l=9.25]']\n",
      "token_idx=35 [\"lev\"] => ['\" tennis\"[p=0.42, l=16.00]', '\"?\\n\"[p=0.17, l=15.06]', '\"?\\n\\n\"[p=0.07, l=14.25]', '\"?\"[p=0.06, l=14.00]', '\"??\"[p=0.04, l=13.69]', '\" \\n\"[p=0.02, l=12.75]', '\"???\"[p=0.01, l=12.62]', '\" unknown\"[p=0.01, l=12.31]', '\" (\"[p=0.01, l=12.25]', '\" what\"[p=0.01, l=12.00]', '\" athlete\"[p=0.01, l=12.00]', '\" \"[p=0.01, l=12.00]', '\" professional\"[p=0.01, l=11.75]', '\" musician\"[p=0.00, l=11.44]', '\" politician\"[p=0.00, l=11.44]']\n",
      "\n",
      "\" Samuel L. Jackson\" | cur_rng=(37, 41)\n",
      "token_idx=37 [\" Samuel\"] => ['\" prophet\"[p=0.38, l=14.56]', '\" judge\"[p=0.05, l=12.62]', '\" unknown\"[p=0.03, l=11.88]', '\" actor\"[p=0.02, l=11.69]', '\" biblical\"[p=0.02, l=11.62]', '\"?\\n\"[p=0.02, l=11.38]', '\" Prophet\"[p=0.01, l=11.06]', '\"??\"[p=0.01, l=10.88]', '\" priest\"[p=0.01, l=10.81]', '\" politician\"[p=0.01, l=10.69]', '\" singer\"[p=0.01, l=10.62]', '\" no\"[p=0.01, l=10.56]', '\" philosopher\"[p=0.01, l=10.56]', '\" (\"[p=0.01, l=10.56]', '\" king\"[p=0.01, l=10.50]']\n",
      "token_idx=38 [\" L\"] => ['\" actor\"[p=0.30, l=13.75]', '\" Jackson\"[p=0.09, l=12.50]', '\" unknown\"[p=0.02, l=11.25]', '\"?\\n\"[p=0.02, l=11.19]', '\" comedian\"[p=0.02, l=11.12]', '\"??\"[p=0.02, l=11.12]', '\" artist\"[p=0.02, l=11.06]', '\"?\"[p=0.02, l=10.94]', '\"???\"[p=0.02, l=10.81]', '\" musician\"[p=0.01, l=10.69]', '\" (\"[p=0.01, l=10.62]', '\" singer\"[p=0.01, l=10.56]', '\" lawyer\"[p=0.01, l=10.56]', '\" no\"[p=0.01, l=10.12]', '\"?\\n\\n\"[p=0.01, l=10.06]']\n",
      "token_idx=39 [\".\"] => ['\" actor\"[p=0.07, l=11.75]', '\"?\\n\"[p=0.07, l=11.75]', '\"??\"[p=0.05, l=11.50]', '\"?\"[p=0.04, l=11.19]', '\" unknown\"[p=0.03, l=11.06]', '\"?\\n\\n\"[p=0.03, l=10.88]', '\" lawyer\"[p=0.03, l=10.81]', '\" politician\"[p=0.03, l=10.81]', '\"???\"[p=0.02, l=10.69]', '\" Jackson\"[p=0.02, l=10.56]', '\" (\"[p=0.02, l=10.31]', '\" what\"[p=0.01, l=10.06]', '\" musician\"[p=0.01, l=10.00]', '\" singer\"[p=0.01, l=9.88]', '\" artist\"[p=0.01, l=9.88]']\n",
      "token_idx=40 [\" Jackson\"] => ['\" actor\"[p=0.83, l=15.94]', '\" singer\"[p=0.01, l=11.38]', '\" politician\"[p=0.01, l=11.06]', '\"?\\n\"[p=0.01, l=11.06]', '\" unknown\"[p=0.01, l=11.00]', '\"??\"[p=0.00, l=10.69]', '\" Actor\"[p=0.00, l=10.62]', '\"?\"[p=0.00, l=10.62]', '\" (\"[p=0.00, l=10.56]', '\" movie\"[p=0.00, l=10.38]', '\" no\"[p=0.00, l=10.25]', '\" musician\"[p=0.00, l=10.25]', '\" Jackson\"[p=0.00, l=10.19]', '\" lawyer\"[p=0.00, l=10.12]', '\" artist\"[p=0.00, l=10.06]']\n",
      "======================================================================================================================================================\n",
      "\n",
      "layer='model.layers.42'\n",
      "\n",
      "\"Ans:\" | cur_rng=(-2, 0)\n",
      "token_idx=-2 [\"Ans\"] => ['\" Ans\"[p=0.05, l=10.19]', '\" unknown\"[p=0.02, l=9.50]', '\"?\\n\"[p=0.02, l=9.38]', '\" artist\"[p=0.02, l=9.31]', '\" entrepreneur\"[p=0.02, l=9.06]', '\" \\n\"[p=0.01, l=8.88]', '\" programmer\"[p=0.01, l=8.75]', '\" scientist\"[p=0.01, l=8.62]', '\" computer\"[p=0.01, l=8.62]', '\" person\"[p=0.01, l=8.56]', '\"??\"[p=0.01, l=8.50]', '\" software\"[p=0.01, l=8.44]', '\" politician\"[p=0.01, l=8.44]', '\" student\"[p=0.01, l=8.44]', '\" answer\"[p=0.01, l=8.31]']\n",
      "token_idx=-1 [\":\"] => ['\"?\\n\"[p=0.31, l=14.25]', '\"?\\n\\n\"[p=0.16, l=13.56]', '\"?\"[p=0.05, l=12.44]', '\" \\n\"[p=0.03, l=12.00]', '\" ->\"[p=0.02, l=11.50]', '\"??\"[p=0.02, l=11.31]', '\" lawyer\"[p=0.02, l=11.31]', '\" actor\"[p=0.01, l=10.94]', '\" software\"[p=0.01, l=10.94]', '\" (\"[p=0.01, l=10.94]', '\"\\n\\n\"[p=0.01, l=10.75]', '\" politician\"[p=0.01, l=10.75]', '\" computer\"[p=0.01, l=10.62]', '\" \\n\\n\"[p=0.01, l=10.50]', '\" \"[p=0.01, l=10.50]']\n",
      "\n",
      "\" Trevor Noah\" | cur_rng=(13, 15)\n",
      "token_idx=13 [\" Trevor\"] => ['\"?\\n\"[p=0.11, l=12.75]', '\"??\"[p=0.07, l=12.25]', '\"?\"[p=0.06, l=12.06]', '\"?\\n\\n\"[p=0.05, l=11.94]', '\"???\"[p=0.04, l=11.81]', '\" unknown\"[p=0.03, l=11.56]', '\" actor\"[p=0.03, l=11.44]', '\" software\"[p=0.03, l=11.44]', '\" programmer\"[p=0.02, l=11.00]', '\" entrepreneur\"[p=0.02, l=10.94]', '\" musician\"[p=0.01, l=10.69]', '\" politician\"[p=0.01, l=10.69]', '\" singer\"[p=0.01, l=10.50]', '\" football\"[p=0.01, l=10.44]', '\" data\"[p=0.01, l=10.31]']\n",
      "token_idx=14 [\" Noah\"] => ['\" comedian\"[p=0.89, l=18.88]', '\"?\\n\"[p=0.02, l=14.88]', '\"??\"[p=0.01, l=14.00]', '\"?\\n\\n\"[p=0.01, l=13.94]', '\" stand\"[p=0.01, l=13.94]', '\" Com\"[p=0.01, l=13.88]', '\" (\"[p=0.01, l=13.75]', '\"?\"[p=0.00, l=13.56]', '\" actor\"[p=0.00, l=13.44]', '\" TV\"[p=0.00, l=13.25]', '\" \\n\"[p=0.00, l=13.19]', '\"???\"[p=0.00, l=13.19]', '\" \"[p=0.00, l=12.94]', '\" unknown\"[p=0.00, l=12.81]', '\" talk\"[p=0.00, l=12.69]']\n",
      "\n",
      "\" Zion Williamson\" | cur_rng=(18, 20)\n",
      "token_idx=18 [\" Zion\"] => ['\" singer\"[p=0.07, l=12.19]', '\" musician\"[p=0.07, l=12.12]', '\"?\\n\"[p=0.06, l=11.94]', '\" unknown\"[p=0.05, l=11.88]', '\" prophet\"[p=0.04, l=11.56]', '\"??\"[p=0.04, l=11.56]', '\" football\"[p=0.03, l=11.12]', '\" rapper\"[p=0.02, l=11.06]', '\" no\"[p=0.02, l=10.81]', '\"???\"[p=0.02, l=10.69]', '\"?\"[p=0.02, l=10.62]', '\" actor\"[p=0.02, l=10.62]', '\" politician\"[p=0.01, l=10.50]', '\" artist\"[p=0.01, l=10.38]', '\" (\"[p=0.01, l=10.38]']\n",
      "token_idx=19 [\" Williamson\"] => ['\" basketball\"[p=0.72, l=16.50]', '\"?\\n\"[p=0.02, l=13.06]', '\"??\"[p=0.02, l=12.88]', '\" football\"[p=0.02, l=12.75]', '\" unknown\"[p=0.01, l=12.50]', '\"?\"[p=0.01, l=12.44]', '\" college\"[p=0.01, l=12.06]', '\" politician\"[p=0.01, l=12.06]', '\" NBA\"[p=0.01, l=12.00]', '\" professional\"[p=0.01, l=12.00]', '\" \\n\"[p=0.01, l=11.88]', '\" (\"[p=0.01, l=11.88]', '\" Basketball\"[p=0.01, l=11.88]', '\" athlete\"[p=0.01, l=11.88]', '\"???\"[p=0.01, l=11.75]']\n",
      "\n",
      "\" John Mulaney\" | cur_rng=(21, 24)\n",
      "token_idx=21 [\" John\"] => ['\" unknown\"[p=0.08, l=12.75]', '\"?\\n\"[p=0.04, l=12.19]', '\" actor\"[p=0.04, l=12.19]', '\" politician\"[p=0.03, l=11.88]', '\"?\"[p=0.03, l=11.62]', '\"??\"[p=0.02, l=11.50]', '\" lawyer\"[p=0.02, l=11.50]', '\" no\"[p=0.02, l=11.44]', '\" programmer\"[p=0.02, l=11.38]', '\" pastor\"[p=0.02, l=11.38]', '\"???\"[p=0.02, l=11.25]', '\" musician\"[p=0.02, l=11.25]', '\" software\"[p=0.02, l=11.19]', '\" singer\"[p=0.01, l=11.06]', '\" (\"[p=0.01, l=11.00]']\n",
      "token_idx=22 [\" Mul\"] => ['\" unknown\"[p=0.04, l=10.25]', '\" actor\"[p=0.03, l=10.06]', '\" singer\"[p=0.02, l=9.88]', '\" musician\"[p=0.02, l=9.88]', '\"?\\n\"[p=0.02, l=9.69]', '\"??\"[p=0.02, l=9.50]', '\" farmer\"[p=0.01, l=9.38]', '\"???\"[p=0.01, l=9.31]', '\" no\"[p=0.01, l=9.31]', '\" politician\"[p=0.01, l=9.31]', '\" (\"[p=0.01, l=9.31]', '\" artist\"[p=0.01, l=9.19]', '\" philosopher\"[p=0.01, l=9.06]', '\"?\"[p=0.01, l=9.00]', '\" \"[p=0.01, l=9.00]']\n",
      "token_idx=23 [\"aney\"] => ['\" comedian\"[p=0.70, l=17.50]', '\"?\\n\"[p=0.09, l=15.44]', '\"?\\n\\n\"[p=0.03, l=14.50]', '\"??\"[p=0.03, l=14.25]', '\"?\"[p=0.02, l=14.00]', '\" stand\"[p=0.01, l=13.50]', '\"???\"[p=0.01, l=13.38]', '\" unknown\"[p=0.01, l=13.38]', '\" (\"[p=0.01, l=12.88]', '\" actor\"[p=0.01, l=12.88]', '\" \\n\"[p=0.00, l=12.50]', '\" \"[p=0.00, l=12.50]', '\" comic\"[p=0.00, l=12.25]', '\" Com\"[p=0.00, l=12.25]', '\" politician\"[p=0.00, l=11.81]']\n",
      "\n",
      "\" Ariana Grande\" | cur_rng=(25, 28)\n",
      "token_idx=25 [\" Ari\"] => ['\"?\\n\"[p=0.09, l=11.69]', '\" singer\"[p=0.06, l=11.38]', '\"?\"[p=0.04, l=10.81]', '\" unknown\"[p=0.03, l=10.75]', '\"??\"[p=0.03, l=10.50]', '\" artist\"[p=0.02, l=10.31]', '\"?\\n\\n\"[p=0.02, l=10.06]', '\" musician\"[p=0.02, l=9.94]', '\"???\"[p=0.02, l=9.94]', '\" lawyer\"[p=0.01, l=9.75]', '\" student\"[p=0.01, l=9.69]', '\" actress\"[p=0.01, l=9.56]', '\" politician\"[p=0.01, l=9.50]', '\" model\"[p=0.01, l=9.44]', '\" what\"[p=0.01, l=9.38]']\n",
      "token_idx=26 [\"ana\"] => ['\" singer\"[p=0.44, l=14.44]', '\"?\\n\"[p=0.08, l=12.69]', '\" unknown\"[p=0.04, l=12.00]', '\" pop\"[p=0.04, l=12.00]', '\"?\"[p=0.03, l=11.75]', '\" musician\"[p=0.02, l=11.31]', '\"??\"[p=0.02, l=11.25]', '\"?\\n\\n\"[p=0.02, l=11.06]', '\" model\"[p=0.01, l=10.88]', '\" no\"[p=0.01, l=10.81]', '\" artist\"[p=0.01, l=10.69]', '\" actress\"[p=0.01, l=10.69]', '\" not\"[p=0.01, l=10.38]', '\"???\"[p=0.01, l=10.31]', '\" (\"[p=0.01, l=10.06]']\n",
      "token_idx=27 [\" Grande\"] => ['\" singer\"[p=0.87, l=17.88]', '\"?\\n\"[p=0.02, l=14.00]', '\" musician\"[p=0.01, l=13.75]', '\" pop\"[p=0.01, l=13.56]', '\"?\"[p=0.01, l=13.06]', '\" Singer\"[p=0.01, l=12.81]', '\"?\\n\\n\"[p=0.01, l=12.75]', '\" unknown\"[p=0.00, l=12.62]', '\" \\n\"[p=0.00, l=12.62]', '\"??\"[p=0.00, l=12.62]', '\" actress\"[p=0.00, l=12.44]', '\" music\"[p=0.00, l=12.00]', '\" \"[p=0.00, l=11.94]', '\" artist\"[p=0.00, l=11.94]', '\" (\"[p=0.00, l=11.81]']\n",
      "\n",
      "\" Joe Scarborough\" | cur_rng=(29, 31)\n",
      "token_idx=29 [\" Joe\"] => ['\"?\\n\"[p=0.07, l=12.25]', '\" unknown\"[p=0.05, l=12.00]', '\"?\"[p=0.04, l=11.81]', '\"??\"[p=0.04, l=11.69]', '\"???\"[p=0.03, l=11.44]', '\" politician\"[p=0.03, l=11.25]', '\" programmer\"[p=0.02, l=10.94]', '\"?\\n\\n\"[p=0.01, l=10.69]', '\" no\"[p=0.01, l=10.62]', '\" (\"[p=0.01, l=10.62]', '\" actor\"[p=0.01, l=10.62]', '\" plumber\"[p=0.01, l=10.62]', '\" engineer\"[p=0.01, l=10.62]', '\" software\"[p=0.01, l=10.50]', '\" what\"[p=0.01, l=10.38]']\n",
      "token_idx=30 [\" Scarborough\"] => ['\" journalist\"[p=0.42, l=17.75]', '\" TV\"[p=0.12, l=16.50]', '\" news\"[p=0.09, l=16.25]', '\" television\"[p=0.08, l=16.12]', '\" political\"[p=0.04, l=15.50]', '\" politician\"[p=0.04, l=15.38]', '\"?\\n\"[p=0.02, l=14.75]', '\" tv\"[p=0.02, l=14.62]', '\"??\"[p=0.02, l=14.62]', '\"?\"[p=0.01, l=14.38]', '\" talk\"[p=0.01, l=13.94]', '\" (\"[p=0.01, l=13.75]', '\"?\\n\\n\"[p=0.01, l=13.75]', '\" media\"[p=0.01, l=13.69]', '\" Journal\"[p=0.01, l=13.38]']\n",
      "\n",
      "\" Andrey Rublev\" | cur_rng=(32, 36)\n",
      "token_idx=32 [\" And\"] => ['\"?\\n\"[p=0.07, l=11.19]', '\" And\"[p=0.07, l=11.12]', '\"?\"[p=0.04, l=10.62]', '\"?\\n\\n\"[p=0.03, l=10.44]', '\"??\"[p=0.03, l=10.38]', '\" \\n\"[p=0.03, l=10.25]', '\"...\"[p=0.03, l=10.12]', '\" and\"[p=0.02, l=9.94]', '\" so\"[p=0.02, l=9.69]', '\" (\"[p=0.02, l=9.69]', '\"...\\n\\n\"[p=0.02, l=9.69]', '\"???\"[p=0.01, l=9.50]', '\"...\\n\"[p=0.01, l=9.44]', '\" lawyer\"[p=0.01, l=9.25]', '\" \"[p=0.01, l=9.19]']\n",
      "token_idx=33 [\"rey\"] => ['\" programmer\"[p=0.11, l=12.50]', '\"?\\n\"[p=0.06, l=11.88]', '\" software\"[p=0.05, l=11.62]', '\" unknown\"[p=0.02, l=10.94]', '\" engineer\"[p=0.02, l=10.88]', '\"?\"[p=0.02, l=10.88]', '\" mathematic\"[p=0.02, l=10.81]', '\" entrepreneur\"[p=0.02, l=10.81]', '\"?\\n\\n\"[p=0.02, l=10.81]', '\"??\"[p=0.02, l=10.75]', '\" student\"[p=0.01, l=10.44]', '\" developer\"[p=0.01, l=10.38]', '\"???\"[p=0.01, l=10.38]', '\" computer\"[p=0.01, l=10.31]', '\" artist\"[p=0.01, l=10.25]']\n",
      "token_idx=34 [\" Rub\"] => ['\"?\\n\"[p=0.07, l=10.75]', '\"??\"[p=0.04, l=10.31]', '\" artist\"[p=0.04, l=10.25]', '\" unknown\"[p=0.03, l=9.88]', '\"?\"[p=0.02, l=9.75]', '\"???\"[p=0.02, l=9.75]', '\"?\\n\\n\"[p=0.02, l=9.44]', '\" musician\"[p=0.01, l=9.19]', '\" programmer\"[p=0.01, l=9.06]', '\" tennis\"[p=0.01, l=9.00]', '\" (\"[p=0.01, l=9.00]', '\" what\"[p=0.01, l=8.94]', '\" unclear\"[p=0.01, l=8.94]', '\" not\"[p=0.01, l=8.94]', '\" \\n\"[p=0.01, l=8.75]']\n",
      "token_idx=35 [\"lev\"] => ['\" tennis\"[p=0.36, l=15.38]', '\"?\\n\"[p=0.16, l=14.56]', '\"?\\n\\n\"[p=0.08, l=13.81]', '\"?\"[p=0.06, l=13.50]', '\"??\"[p=0.05, l=13.31]', '\" \\n\"[p=0.02, l=12.38]', '\"???\"[p=0.02, l=12.38]', '\" unknown\"[p=0.01, l=12.06]', '\" (\"[p=0.01, l=11.94]', '\" what\"[p=0.01, l=11.69]', '\" \"[p=0.01, l=11.62]', '\" athlete\"[p=0.01, l=11.56]', '\" politician\"[p=0.01, l=11.38]', '\" professional\"[p=0.01, l=11.31]', '\" musician\"[p=0.01, l=11.19]']\n",
      "\n",
      "\" Samuel L. Jackson\" | cur_rng=(37, 41)\n",
      "token_idx=37 [\" Samuel\"] => ['\" prophet\"[p=0.47, l=15.00]', '\" judge\"[p=0.04, l=12.62]', '\" actor\"[p=0.02, l=12.00]', '\" biblical\"[p=0.02, l=11.94]', '\" unknown\"[p=0.02, l=11.88]', '\"?\\n\"[p=0.01, l=11.50]', '\" Prophet\"[p=0.01, l=11.31]', '\"??\"[p=0.01, l=10.94]', '\" singer\"[p=0.01, l=10.94]', '\" politician\"[p=0.01, l=10.75]', '\" no\"[p=0.01, l=10.69]', '\" (\"[p=0.01, l=10.69]', '\" musician\"[p=0.01, l=10.69]', '\" poet\"[p=0.01, l=10.62]', '\" priest\"[p=0.01, l=10.62]']\n",
      "token_idx=38 [\" L\"] => ['\" actor\"[p=0.23, l=13.50]', '\" Jackson\"[p=0.07, l=12.25]', '\"?\\n\"[p=0.05, l=12.00]', '\"??\"[p=0.04, l=11.62]', '\"?\"[p=0.03, l=11.56]', '\" artist\"[p=0.02, l=11.19]', '\" comedian\"[p=0.02, l=11.19]', '\"???\"[p=0.02, l=11.19]', '\"?\\n\\n\"[p=0.02, l=11.00]', '\" unknown\"[p=0.02, l=10.94]', '\" musician\"[p=0.02, l=10.88]', '\" singer\"[p=0.02, l=10.81]', '\" (\"[p=0.01, l=10.62]', '\" lawyer\"[p=0.01, l=10.31]', '\" what\"[p=0.01, l=10.12]']\n",
      "token_idx=39 [\".\"] => ['\"?\\n\"[p=0.09, l=12.12]', '\" actor\"[p=0.06, l=11.75]', '\"??\"[p=0.06, l=11.62]', '\"?\"[p=0.05, l=11.56]', '\"?\\n\\n\"[p=0.04, l=11.25]', '\"???\"[p=0.03, l=10.94]', '\" unknown\"[p=0.03, l=10.88]', '\" politician\"[p=0.03, l=10.81]', '\" lawyer\"[p=0.03, l=10.81]', '\" (\"[p=0.02, l=10.38]', '\" Jackson\"[p=0.01, l=10.19]', '\" what\"[p=0.01, l=10.12]', '\" musician\"[p=0.01, l=10.00]', '\" singer\"[p=0.01, l=9.94]', '\" artist\"[p=0.01, l=9.88]']\n",
      "token_idx=40 [\" Jackson\"] => ['\" actor\"[p=0.81, l=15.94]', '\" singer\"[p=0.01, l=11.56]', '\"?\\n\"[p=0.01, l=11.56]', '\" politician\"[p=0.01, l=11.19]', '\" unknown\"[p=0.01, l=11.19]', '\"??\"[p=0.01, l=11.12]', '\"?\"[p=0.01, l=11.06]', '\" (\"[p=0.00, l=10.69]', '\" Actor\"[p=0.00, l=10.62]', '\" musician\"[p=0.00, l=10.44]', '\"???\"[p=0.00, l=10.44]', '\" movie\"[p=0.00, l=10.38]', '\" lawyer\"[p=0.00, l=10.31]', '\" Jackson\"[p=0.00, l=10.31]', '\" no\"[p=0.00, l=10.19]']\n",
      "======================================================================================================================================================\n",
      "\n",
      "layer='model.layers.45'\n",
      "\n",
      "\"Ans:\" | cur_rng=(-2, 0)\n",
      "token_idx=-2 [\"Ans\"] => ['\" Ans\"[p=0.08, l=10.69]', '\" entrepreneur\"[p=0.02, l=9.44]', '\" unknown\"[p=0.02, l=9.25]', '\" \\n\"[p=0.02, l=9.00]', '\" person\"[p=0.01, l=8.94]', '\"?\\n\"[p=0.01, l=8.69]', '\" Albert\"[p=0.01, l=8.62]', '\" artist\"[p=0.01, l=8.62]', '\" computer\"[p=0.01, l=8.62]', '\" profession\"[p=0.01, l=8.50]', '\" scientist\"[p=0.01, l=8.50]', '\" a\"[p=0.01, l=8.50]', '\" programmer\"[p=0.01, l=8.38]', '\" the\"[p=0.01, l=8.31]', '\" politician\"[p=0.01, l=8.25]']\n",
      "token_idx=-1 [\":\"] => ['\"?\\n\"[p=0.29, l=14.06]', '\"?\\n\\n\"[p=0.13, l=13.31]', '\"?\"[p=0.04, l=12.19]', '\" \\n\"[p=0.03, l=11.62]', '\" lawyer\"[p=0.02, l=11.50]', '\"??\"[p=0.02, l=11.38]', '\" actor\"[p=0.02, l=11.25]', '\" software\"[p=0.02, l=11.25]', '\" ->\"[p=0.02, l=11.19]', '\" politician\"[p=0.01, l=11.00]', '\" (\"[p=0.01, l=10.88]', '\" computer\"[p=0.01, l=10.75]', '\" artist\"[p=0.01, l=10.75]', '\" programmer\"[p=0.01, l=10.69]', '\" \"[p=0.01, l=10.44]']\n",
      "\n",
      "\" Trevor Noah\" | cur_rng=(13, 15)\n",
      "token_idx=13 [\" Trevor\"] => ['\"?\\n\"[p=0.10, l=12.56]', '\"??\"[p=0.06, l=12.06]', '\"?\"[p=0.05, l=11.88]', '\"???\"[p=0.04, l=11.69]', '\"?\\n\\n\"[p=0.04, l=11.62]', '\" unknown\"[p=0.04, l=11.56]', '\" software\"[p=0.04, l=11.56]', '\" actor\"[p=0.03, l=11.44]', '\" programmer\"[p=0.02, l=11.00]', '\" entrepreneur\"[p=0.02, l=11.00]', '\" musician\"[p=0.02, l=10.81]', '\" politician\"[p=0.01, l=10.62]', '\" singer\"[p=0.01, l=10.56]', '\" data\"[p=0.01, l=10.50]', '\" computer\"[p=0.01, l=10.38]']\n",
      "token_idx=14 [\" Noah\"] => ['\" comedian\"[p=0.83, l=18.38]', '\"?\\n\"[p=0.03, l=15.19]', '\"?\\n\\n\"[p=0.01, l=14.31]', '\"??\"[p=0.01, l=14.06]', '\"?\"[p=0.01, l=13.81]', '\" (\"[p=0.01, l=13.69]', '\" stand\"[p=0.01, l=13.38]', '\"???\"[p=0.00, l=13.25]', '\" Com\"[p=0.00, l=13.25]', '\" actor\"[p=0.00, l=13.25]', '\" unknown\"[p=0.00, l=13.12]', '\" \\n\"[p=0.00, l=13.12]', '\" \"[p=0.00, l=12.81]', '\" TV\"[p=0.00, l=12.69]', '\" politician\"[p=0.00, l=12.62]']\n",
      "\n",
      "\" Zion Williamson\" | cur_rng=(18, 20)\n",
      "token_idx=18 [\" Zion\"] => ['\" prophet\"[p=0.07, l=12.12]', '\"?\\n\"[p=0.06, l=12.06]', '\" unknown\"[p=0.06, l=12.06]', '\" singer\"[p=0.06, l=12.00]', '\" musician\"[p=0.05, l=11.88]', '\"??\"[p=0.04, l=11.69]', '\" no\"[p=0.02, l=11.00]', '\" politician\"[p=0.02, l=10.94]', '\" football\"[p=0.02, l=10.94]', '\"???\"[p=0.02, l=10.75]', '\"?\"[p=0.02, l=10.69]', '\" rapper\"[p=0.01, l=10.56]', '\" (\"[p=0.01, l=10.44]', '\" actor\"[p=0.01, l=10.44]', '\" biblical\"[p=0.01, l=10.25]']\n",
      "token_idx=19 [\" Williamson\"] => ['\" basketball\"[p=0.75, l=16.75]', '\"?\\n\"[p=0.03, l=13.38]', '\"??\"[p=0.02, l=13.12]', '\"?\"[p=0.01, l=12.75]', '\" football\"[p=0.01, l=12.56]', '\" unknown\"[p=0.01, l=12.56]', '\" professional\"[p=0.01, l=12.38]', '\" NBA\"[p=0.01, l=12.25]', '\" \\n\"[p=0.01, l=12.06]', '\" politician\"[p=0.01, l=12.06]', '\"???\"[p=0.01, l=12.00]', '\" college\"[p=0.01, l=11.94]', '\" Basketball\"[p=0.01, l=11.94]', '\" athlete\"[p=0.01, l=11.94]', '\" (\"[p=0.01, l=11.88]']\n",
      "\n",
      "\" John Mulaney\" | cur_rng=(21, 24)\n",
      "token_idx=21 [\" John\"] => ['\" unknown\"[p=0.07, l=12.69]', '\" politician\"[p=0.05, l=12.19]', '\"?\\n\"[p=0.05, l=12.19]', '\" actor\"[p=0.04, l=12.06]', '\"?\"[p=0.03, l=11.69]', '\"??\"[p=0.02, l=11.56]', '\" musician\"[p=0.02, l=11.50]', '\" lawyer\"[p=0.02, l=11.50]', '\" no\"[p=0.02, l=11.44]', '\"???\"[p=0.02, l=11.25]', '\" singer\"[p=0.02, l=11.25]', '\" pastor\"[p=0.02, l=11.12]', '\" software\"[p=0.01, l=11.06]', '\" evangel\"[p=0.01, l=11.00]', '\" (\"[p=0.01, l=10.94]']\n",
      "token_idx=22 [\" Mul\"] => ['\" unknown\"[p=0.04, l=10.12]', '\"?\\n\"[p=0.03, l=9.81]', '\" singer\"[p=0.02, l=9.69]', '\" actor\"[p=0.02, l=9.62]', '\" politician\"[p=0.02, l=9.50]', '\" musician\"[p=0.02, l=9.50]', '\"??\"[p=0.02, l=9.44]', '\" farmer\"[p=0.02, l=9.44]', '\"???\"[p=0.02, l=9.31]', '\" (\"[p=0.02, l=9.31]', '\" no\"[p=0.02, l=9.31]', '\"?\"[p=0.01, l=9.06]', '\" artist\"[p=0.01, l=8.94]', '\" \"[p=0.01, l=8.81]', '\" not\"[p=0.01, l=8.75]']\n",
      "token_idx=23 [\"aney\"] => ['\" comedian\"[p=0.64, l=16.88]', '\"?\\n\"[p=0.10, l=15.00]', '\"?\\n\\n\"[p=0.04, l=14.12]', '\"??\"[p=0.03, l=13.88]', '\"?\"[p=0.02, l=13.50]', '\"???\"[p=0.02, l=13.25]', '\" actor\"[p=0.01, l=13.00]', '\" unknown\"[p=0.01, l=12.75]', '\" stand\"[p=0.01, l=12.62]', '\" (\"[p=0.01, l=12.25]', '\" \\n\"[p=0.00, l=11.94]', '\" \"[p=0.00, l=11.94]', '\" politician\"[p=0.00, l=11.94]', '\" comic\"[p=0.00, l=11.81]', '\" Com\"[p=0.00, l=11.69]']\n",
      "\n",
      "\" Ariana Grande\" | cur_rng=(25, 28)\n",
      "token_idx=25 [\" Ari\"] => ['\"?\\n\"[p=0.12, l=12.06]', '\"?\"[p=0.05, l=11.19]', '\" singer\"[p=0.04, l=11.00]', '\"??\"[p=0.04, l=10.88]', '\"?\\n\\n\"[p=0.03, l=10.81]', '\" unknown\"[p=0.03, l=10.62]', '\"???\"[p=0.02, l=10.31]', '\" artist\"[p=0.02, l=10.12]', '\" musician\"[p=0.01, l=9.75]', '\" politician\"[p=0.01, l=9.62]', '\" software\"[p=0.01, l=9.62]', '\" what\"[p=0.01, l=9.56]', '\" actress\"[p=0.01, l=9.56]', '\" student\"[p=0.01, l=9.50]', '\" lawyer\"[p=0.01, l=9.44]']\n",
      "token_idx=26 [\"ana\"] => ['\" singer\"[p=0.42, l=14.31]', '\"?\\n\"[p=0.09, l=12.81]', '\" unknown\"[p=0.05, l=12.12]', '\"?\"[p=0.04, l=11.94]', '\" pop\"[p=0.03, l=11.62]', '\"?\\n\\n\"[p=0.02, l=11.38]', '\" musician\"[p=0.02, l=11.31]', '\"??\"[p=0.02, l=11.25]', '\" model\"[p=0.01, l=10.62]', '\" artist\"[p=0.01, l=10.62]', '\" no\"[p=0.01, l=10.56]', '\"???\"[p=0.01, l=10.44]', '\" actress\"[p=0.01, l=10.31]', '\" not\"[p=0.01, l=10.31]', '\" \\n\"[p=0.01, l=10.00]']\n",
      "token_idx=27 [\" Grande\"] => ['\" singer\"[p=0.80, l=17.12]', '\"?\\n\"[p=0.04, l=14.12]', '\" musician\"[p=0.01, l=13.06]', '\"?\"[p=0.01, l=13.06]', '\"?\\n\\n\"[p=0.01, l=13.00]', '\" pop\"[p=0.01, l=12.81]', '\" unknown\"[p=0.01, l=12.50]', '\"??\"[p=0.01, l=12.38]', '\" \\n\"[p=0.01, l=12.31]', '\" Singer\"[p=0.01, l=12.12]', '\" actress\"[p=0.01, l=12.12]', '\" artist\"[p=0.00, l=11.81]', '\" music\"[p=0.00, l=11.62]', '\"???\"[p=0.00, l=11.50]', '\" (\"[p=0.00, l=11.44]']\n",
      "\n",
      "\" Joe Scarborough\" | cur_rng=(29, 31)\n",
      "token_idx=29 [\" Joe\"] => ['\"?\\n\"[p=0.06, l=12.06]', '\" unknown\"[p=0.06, l=11.94]', '\"?\"[p=0.04, l=11.56]', '\"??\"[p=0.04, l=11.50]', '\" politician\"[p=0.03, l=11.31]', '\"???\"[p=0.03, l=11.25]', '\" programmer\"[p=0.02, l=10.81]', '\" no\"[p=0.01, l=10.62]', '\" actor\"[p=0.01, l=10.56]', '\" (\"[p=0.01, l=10.56]', '\"?\\n\\n\"[p=0.01, l=10.50]', '\" software\"[p=0.01, l=10.44]', '\" engineer\"[p=0.01, l=10.44]', '\" Joe\"[p=0.01, l=10.25]', '\" teacher\"[p=0.01, l=10.25]']\n",
      "token_idx=30 [\" Scarborough\"] => ['\" journalist\"[p=0.31, l=17.00]', '\" TV\"[p=0.13, l=16.12]', '\" news\"[p=0.10, l=15.88]', '\" politician\"[p=0.09, l=15.75]', '\" television\"[p=0.08, l=15.62]', '\" political\"[p=0.05, l=15.19]', '\"?\\n\"[p=0.03, l=14.50]', '\"??\"[p=0.02, l=14.44]', '\" tv\"[p=0.02, l=14.31]', '\"?\"[p=0.02, l=14.06]', '\" talk\"[p=0.01, l=13.69]', '\" (\"[p=0.01, l=13.44]', '\"?\\n\\n\"[p=0.01, l=13.44]', '\" media\"[p=0.01, l=13.38]', '\"???\"[p=0.01, l=13.19]']\n",
      "\n",
      "\" Andrey Rublev\" | cur_rng=(32, 36)\n",
      "token_idx=32 [\" And\"] => ['\" And\"[p=0.07, l=11.06]', '\"?\\n\"[p=0.06, l=10.88]', '\" and\"[p=0.03, l=10.25]', '\"?\"[p=0.03, l=10.19]', '\"?\\n\\n\"[p=0.03, l=10.12]', '\" \\n\"[p=0.03, l=10.06]', '\"...\"[p=0.02, l=10.00]', '\"??\"[p=0.02, l=9.88]', '\" so\"[p=0.02, l=9.75]', '\" (\"[p=0.02, l=9.75]', '\"...\\n\\n\"[p=0.02, l=9.62]', '\"...\\n\"[p=0.01, l=9.44]', '\" lawyer\"[p=0.01, l=9.25]', '\"???\"[p=0.01, l=9.19]', '\" fill\"[p=0.01, l=9.12]']\n",
      "token_idx=33 [\"rey\"] => ['\" programmer\"[p=0.12, l=12.69]', '\" software\"[p=0.04, l=11.56]', '\"?\\n\"[p=0.04, l=11.50]', '\" tennis\"[p=0.03, l=11.31]', '\" mathematic\"[p=0.02, l=11.00]', '\" entrepreneur\"[p=0.02, l=11.00]', '\" chess\"[p=0.02, l=10.94]', '\" unknown\"[p=0.02, l=10.94]', '\" engineer\"[p=0.02, l=10.81]', '\"?\"[p=0.02, l=10.69]', '\" football\"[p=0.02, l=10.56]', '\"??\"[p=0.01, l=10.44]', '\" politician\"[p=0.01, l=10.44]', '\" artist\"[p=0.01, l=10.38]', '\" computer\"[p=0.01, l=10.38]']\n",
      "token_idx=34 [\" Rub\"] => ['\"?\\n\"[p=0.08, l=10.88]', '\"??\"[p=0.05, l=10.38]', '\" artist\"[p=0.04, l=10.12]', '\" unknown\"[p=0.03, l=10.00]', '\"?\"[p=0.03, l=9.94]', '\"???\"[p=0.03, l=9.81]', '\"?\\n\\n\"[p=0.02, l=9.75]', '\" unclear\"[p=0.01, l=9.19]', '\" (\"[p=0.01, l=9.06]', '\" what\"[p=0.01, l=9.06]', '\" musician\"[p=0.01, l=8.94]', '\" not\"[p=0.01, l=8.81]', '\" programmer\"[p=0.01, l=8.81]', '\" chess\"[p=0.01, l=8.81]', '\" Rub\"[p=0.01, l=8.75]']\n",
      "token_idx=35 [\"lev\"] => ['\" tennis\"[p=0.29, l=14.69]', '\"?\\n\"[p=0.17, l=14.19]', '\"?\\n\\n\"[p=0.08, l=13.44]', '\"?\"[p=0.06, l=13.12]', '\"??\"[p=0.04, l=12.81]', '\" \\n\"[p=0.02, l=12.06]', '\"???\"[p=0.02, l=11.94]', '\" (\"[p=0.02, l=11.88]', '\" unknown\"[p=0.02, l=11.75]', '\" \"[p=0.01, l=11.31]', '\" athlete\"[p=0.01, l=11.31]', '\" what\"[p=0.01, l=11.12]', '\" musician\"[p=0.01, l=10.94]', '\" politician\"[p=0.01, l=10.81]', '\" professional\"[p=0.01, l=10.69]']\n",
      "\n",
      "\" Samuel L. Jackson\" | cur_rng=(37, 41)\n",
      "token_idx=37 [\" Samuel\"] => ['\" prophet\"[p=0.53, l=15.19]', '\" judge\"[p=0.03, l=12.44]', '\" actor\"[p=0.02, l=12.06]', '\"?\\n\"[p=0.02, l=12.06]', '\" unknown\"[p=0.02, l=12.00]', '\" biblical\"[p=0.02, l=11.75]', '\"??\"[p=0.01, l=11.56]', '\" Prophet\"[p=0.01, l=11.38]', '\" singer\"[p=0.01, l=11.00]', '\"?\"[p=0.01, l=10.94]', '\" no\"[p=0.01, l=10.81]', '\"???\"[p=0.01, l=10.75]', '\" (\"[p=0.01, l=10.69]', '\" musician\"[p=0.01, l=10.62]', '\" not\"[p=0.00, l=10.44]']\n",
      "token_idx=38 [\" L\"] => ['\" actor\"[p=0.11, l=12.62]', '\"?\\n\"[p=0.08, l=12.38]', '\" Jackson\"[p=0.05, l=11.94]', '\"??\"[p=0.05, l=11.94]', '\"?\"[p=0.05, l=11.81]', '\"???\"[p=0.04, l=11.56]', '\"?\\n\\n\"[p=0.04, l=11.56]', '\" unknown\"[p=0.03, l=11.19]', '\" artist\"[p=0.02, l=10.94]', '\" singer\"[p=0.02, l=10.88]', '\" comedian\"[p=0.02, l=10.81]', '\" (\"[p=0.02, l=10.75]', '\" musician\"[p=0.01, l=10.62]', '\" software\"[p=0.01, l=10.19]', '\" \"[p=0.01, l=10.19]']\n",
      "token_idx=39 [\".\"] => ['\"?\\n\"[p=0.12, l=12.31]', '\"?\"[p=0.07, l=11.75]', '\"??\"[p=0.07, l=11.75]', '\"?\\n\\n\"[p=0.06, l=11.56]', '\"???\"[p=0.04, l=11.12]', '\" unknown\"[p=0.03, l=11.06]', '\" actor\"[p=0.03, l=10.88]', '\" lawyer\"[p=0.02, l=10.50]', '\" (\"[p=0.02, l=10.44]', '\" politician\"[p=0.02, l=10.31]', '\" what\"[p=0.01, l=10.00]', '\" artist\"[p=0.01, l=10.00]', '\" musician\"[p=0.01, l=10.00]', '\" singer\"[p=0.01, l=9.94]', '\" \"[p=0.01, l=9.69]']\n",
      "token_idx=40 [\" Jackson\"] => ['\" actor\"[p=0.76, l=15.62]', '\"?\\n\"[p=0.02, l=11.88]', '\" singer\"[p=0.01, l=11.38]', '\"?\"[p=0.01, l=11.31]', '\"??\"[p=0.01, l=11.31]', '\" unknown\"[p=0.01, l=11.25]', '\" politician\"[p=0.01, l=10.94]', '\" Jackson\"[p=0.01, l=10.75]', '\" (\"[p=0.01, l=10.69]', '\"???\"[p=0.01, l=10.69]', '\" Actor\"[p=0.00, l=10.44]', '\" no\"[p=0.00, l=10.25]', '\" movie\"[p=0.00, l=10.19]', '\" what\"[p=0.00, l=10.19]', '\" lawyer\"[p=0.00, l=10.19]']\n",
      "======================================================================================================================================================\n",
      "\n",
      "layer='model.layers.48'\n",
      "\n",
      "\"Ans:\" | cur_rng=(-2, 0)\n",
      "token_idx=-2 [\"Ans\"] => ['\" Ans\"[p=0.04, l=9.81]', '\" unknown\"[p=0.03, l=9.44]', '\" entrepreneur\"[p=0.02, l=9.25]', '\" artist\"[p=0.02, l=8.88]', '\" answer\"[p=0.02, l=8.81]', '\"?\\n\"[p=0.02, l=8.81]', '\" Answer\"[p=0.01, l=8.75]', '\" \\n\"[p=0.01, l=8.62]', '\" Albert\"[p=0.01, l=8.50]', '\" computer\"[p=0.01, l=8.50]', '\" person\"[p=0.01, l=8.50]', '\" programmer\"[p=0.01, l=8.38]', '\" a\"[p=0.01, l=8.25]', '\" Unknown\"[p=0.01, l=8.19]', '\" the\"[p=0.01, l=8.12]']\n",
      "token_idx=-1 [\":\"] => ['\"?\\n\"[p=0.26, l=13.94]', '\"?\\n\\n\"[p=0.11, l=13.06]', '\"?\"[p=0.04, l=12.00]', '\" ->\"[p=0.03, l=11.75]', '\" actor\"[p=0.03, l=11.69]', '\" \\n\"[p=0.02, l=11.56]', '\" comedian\"[p=0.02, l=11.38]', '\" lawyer\"[p=0.02, l=11.38]', '\"??\"[p=0.02, l=11.25]', '\" politician\"[p=0.02, l=11.19]', '\" (\"[p=0.02, l=11.19]', '\" software\"[p=0.02, l=11.12]', '\" artist\"[p=0.01, l=10.81]', '\" computer\"[p=0.01, l=10.62]', '\" \"[p=0.01, l=10.56]']\n",
      "\n",
      "\" Trevor Noah\" | cur_rng=(13, 15)\n",
      "token_idx=13 [\" Trevor\"] => ['\"?\\n\"[p=0.07, l=12.19]', '\" software\"[p=0.05, l=11.88]', '\" actor\"[p=0.04, l=11.75]', '\"??\"[p=0.04, l=11.62]', '\" unknown\"[p=0.03, l=11.50]', '\"???\"[p=0.03, l=11.44]', '\"?\"[p=0.03, l=11.31]', '\" entrepreneur\"[p=0.02, l=11.12]', '\" musician\"[p=0.02, l=11.06]', '\" programmer\"[p=0.02, l=11.06]', '\"?\\n\\n\"[p=0.02, l=11.00]', '\" singer\"[p=0.02, l=10.81]', '\" data\"[p=0.02, l=10.75]', '\" politician\"[p=0.01, l=10.50]', '\" student\"[p=0.01, l=10.50]']\n",
      "token_idx=14 [\" Noah\"] => ['\" comedian\"[p=0.82, l=18.00]', '\"?\\n\"[p=0.04, l=15.00]', '\"?\\n\\n\"[p=0.02, l=14.06]', '\"??\"[p=0.01, l=13.81]', '\"?\"[p=0.01, l=13.50]', '\" (\"[p=0.01, l=13.38]', '\" actor\"[p=0.01, l=13.19]', '\" unknown\"[p=0.01, l=13.06]', '\"???\"[p=0.01, l=12.94]', '\" Com\"[p=0.00, l=12.88]', '\" stand\"[p=0.00, l=12.88]', '\" \\n\"[p=0.00, l=12.88]', '\" \"[p=0.00, l=12.38]', '\" politician\"[p=0.00, l=12.19]', '\" TV\"[p=0.00, l=12.00]']\n",
      "\n",
      "\" Zion Williamson\" | cur_rng=(18, 20)\n",
      "token_idx=18 [\" Zion\"] => ['\" singer\"[p=0.07, l=12.19]', '\" prophet\"[p=0.06, l=12.06]', '\" musician\"[p=0.06, l=12.00]', '\" unknown\"[p=0.06, l=11.94]', '\"?\\n\"[p=0.05, l=11.81]', '\"??\"[p=0.04, l=11.56]', '\" politician\"[p=0.02, l=10.94]', '\" football\"[p=0.02, l=10.94]', '\" no\"[p=0.02, l=10.94]', '\" rapper\"[p=0.02, l=10.81]', '\" actor\"[p=0.02, l=10.62]', '\"?\"[p=0.02, l=10.62]', '\"???\"[p=0.02, l=10.62]', '\" (\"[p=0.01, l=10.50]', '\" not\"[p=0.01, l=10.19]']\n",
      "token_idx=19 [\" Williamson\"] => ['\" basketball\"[p=0.75, l=16.75]', '\"?\\n\"[p=0.02, l=13.25]', '\"??\"[p=0.02, l=13.06]', '\"?\"[p=0.01, l=12.62]', '\" football\"[p=0.01, l=12.62]', '\" professional\"[p=0.01, l=12.56]', '\" unknown\"[p=0.01, l=12.50]', '\" NBA\"[p=0.01, l=12.38]', '\" Basketball\"[p=0.01, l=12.06]', '\" politician\"[p=0.01, l=11.94]', '\" \\n\"[p=0.01, l=11.94]', '\"???\"[p=0.01, l=11.94]', '\" college\"[p=0.01, l=11.88]', '\" (\"[p=0.01, l=11.88]', '\" athlete\"[p=0.01, l=11.88]']\n",
      "\n",
      "\" John Mulaney\" | cur_rng=(21, 24)\n",
      "token_idx=21 [\" John\"] => ['\" unknown\"[p=0.08, l=12.69]', '\"?\\n\"[p=0.04, l=12.06]', '\" politician\"[p=0.04, l=12.00]', '\" actor\"[p=0.04, l=11.94]', '\" musician\"[p=0.02, l=11.50]', '\"?\"[p=0.02, l=11.50]', '\"??\"[p=0.02, l=11.44]', '\" no\"[p=0.02, l=11.44]', '\" lawyer\"[p=0.02, l=11.31]', '\" evangel\"[p=0.02, l=11.31]', '\" pastor\"[p=0.02, l=11.25]', '\" singer\"[p=0.02, l=11.12]', '\"???\"[p=0.02, l=11.12]', '\" software\"[p=0.01, l=11.00]', '\" programmer\"[p=0.01, l=10.94]']\n",
      "token_idx=22 [\" Mul\"] => ['\" unknown\"[p=0.04, l=10.25]', '\" singer\"[p=0.04, l=10.12]', '\" musician\"[p=0.03, l=10.06]', '\"?\\n\"[p=0.03, l=9.88]', '\" actor\"[p=0.02, l=9.56]', '\"??\"[p=0.02, l=9.56]', '\" politician\"[p=0.02, l=9.50]', '\"???\"[p=0.02, l=9.31]', '\" (\"[p=0.02, l=9.25]', '\" no\"[p=0.01, l=9.19]', '\" artist\"[p=0.01, l=9.12]', '\" farmer\"[p=0.01, l=9.00]', '\"?\"[p=0.01, l=8.94]', '\" not\"[p=0.01, l=8.81]', '\" \"[p=0.01, l=8.81]']\n",
      "token_idx=23 [\"aney\"] => ['\" comedian\"[p=0.60, l=16.62]', '\"?\\n\"[p=0.12, l=15.00]', '\"?\\n\\n\"[p=0.05, l=14.12]', '\"??\"[p=0.03, l=13.75]', '\"?\"[p=0.02, l=13.38]', '\"???\"[p=0.02, l=13.12]', '\" actor\"[p=0.01, l=12.94]', '\" unknown\"[p=0.01, l=12.31]', '\" stand\"[p=0.01, l=12.19]', '\" (\"[p=0.01, l=11.88]', '\" politician\"[p=0.00, l=11.81]', '\" writer\"[p=0.00, l=11.69]', '\" \\n\"[p=0.00, l=11.62]', '\" \"[p=0.00, l=11.62]', '\" lawyer\"[p=0.00, l=11.56]']\n",
      "\n",
      "\" Ariana Grande\" | cur_rng=(25, 28)\n",
      "token_idx=25 [\" Ari\"] => ['\"?\\n\"[p=0.09, l=11.62]', '\" singer\"[p=0.05, l=11.06]', '\"?\"[p=0.04, l=10.75]', '\"??\"[p=0.03, l=10.69]', '\" unknown\"[p=0.03, l=10.62]', '\"?\\n\\n\"[p=0.03, l=10.44]', '\"???\"[p=0.02, l=10.25]', '\" artist\"[p=0.02, l=10.00]', '\" musician\"[p=0.01, l=9.81]', '\" politician\"[p=0.01, l=9.75]', '\" software\"[p=0.01, l=9.50]', '\" lawyer\"[p=0.01, l=9.44]', '\" actress\"[p=0.01, l=9.31]', '\" \"[p=0.01, l=9.31]', '\" (\"[p=0.01, l=9.19]']\n",
      "token_idx=26 [\"ana\"] => ['\" singer\"[p=0.39, l=14.19]', '\"?\\n\"[p=0.11, l=12.88]', '\" unknown\"[p=0.05, l=12.06]', '\"?\"[p=0.04, l=12.00]', '\" pop\"[p=0.03, l=11.69]', '\"?\\n\\n\"[p=0.03, l=11.56]', '\"??\"[p=0.02, l=11.38]', '\" musician\"[p=0.02, l=11.19]', '\" artist\"[p=0.01, l=10.69]', '\" model\"[p=0.01, l=10.62]', '\"???\"[p=0.01, l=10.56]', '\" no\"[p=0.01, l=10.31]', '\" not\"[p=0.01, l=10.12]', '\" actress\"[p=0.01, l=10.06]', '\" \\n\"[p=0.01, l=10.00]']\n",
      "token_idx=27 [\" Grande\"] => ['\" singer\"[p=0.75, l=16.62]', '\"?\\n\"[p=0.05, l=14.00]', '\"?\\n\\n\"[p=0.02, l=12.94]', '\"?\"[p=0.02, l=12.94]', '\" musician\"[p=0.02, l=12.81]', '\"??\"[p=0.01, l=12.31]', '\" unknown\"[p=0.01, l=12.31]', '\" pop\"[p=0.01, l=12.25]', '\" \\n\"[p=0.01, l=12.00]', '\" actress\"[p=0.01, l=11.75]', '\" artist\"[p=0.01, l=11.69]', '\" Singer\"[p=0.01, l=11.69]', '\"???\"[p=0.00, l=11.44]', '\" music\"[p=0.00, l=11.44]', '\" (\"[p=0.00, l=11.19]']\n",
      "\n",
      "\" Joe Scarborough\" | cur_rng=(29, 31)\n",
      "token_idx=29 [\" Joe\"] => ['\"?\\n\"[p=0.06, l=11.81]', '\" unknown\"[p=0.06, l=11.75]', '\" politician\"[p=0.04, l=11.31]', '\"?\"[p=0.04, l=11.31]', '\"??\"[p=0.04, l=11.25]', '\"???\"[p=0.03, l=10.94]', '\" programmer\"[p=0.02, l=10.62]', '\" no\"[p=0.02, l=10.50]', '\"?\\n\\n\"[p=0.01, l=10.38]', '\" software\"[p=0.01, l=10.31]', '\" (\"[p=0.01, l=10.31]', '\" Joe\"[p=0.01, l=10.25]', '\" actor\"[p=0.01, l=10.25]', '\" engineer\"[p=0.01, l=10.06]', '\" president\"[p=0.01, l=10.06]']\n",
      "token_idx=30 [\" Scarborough\"] => ['\" journalist\"[p=0.23, l=16.12]', '\" news\"[p=0.12, l=15.44]', '\" politician\"[p=0.11, l=15.38]', '\" TV\"[p=0.11, l=15.38]', '\" political\"[p=0.05, l=14.69]', '\" television\"[p=0.05, l=14.69]', '\"?\\n\"[p=0.04, l=14.44]', '\"??\"[p=0.04, l=14.31]', '\"?\"[p=0.02, l=13.88]', '\"?\\n\\n\"[p=0.02, l=13.56]', '\" tv\"[p=0.02, l=13.56]', '\"???\"[p=0.01, l=13.19]', '\" talk\"[p=0.01, l=13.12]', '\" (\"[p=0.01, l=13.06]', '\" unknown\"[p=0.01, l=12.94]']\n",
      "\n",
      "\" Andrey Rublev\" | cur_rng=(32, 36)\n",
      "token_idx=32 [\" And\"] => ['\"?\\n\"[p=0.07, l=11.06]', '\" And\"[p=0.06, l=10.88]', '\"?\"[p=0.03, l=10.38]', '\"?\\n\\n\"[p=0.03, l=10.31]', '\" and\"[p=0.03, l=10.12]', '\"??\"[p=0.02, l=10.00]', '\" \\n\"[p=0.02, l=9.88]', '\"...\"[p=0.02, l=9.88]', '\" (\"[p=0.02, l=9.69]', '\" so\"[p=0.02, l=9.62]', '\" lawyer\"[p=0.01, l=9.50]', '\"...\\n\\n\"[p=0.01, l=9.50]', '\"???\"[p=0.01, l=9.31]', '\"...\\n\"[p=0.01, l=9.25]', '\" you\"[p=0.01, l=9.00]']\n",
      "token_idx=33 [\"rey\"] => ['\" programmer\"[p=0.13, l=12.75]', '\" software\"[p=0.05, l=11.81]', '\"?\\n\"[p=0.03, l=11.19]', '\" tennis\"[p=0.03, l=11.12]', '\" mathematic\"[p=0.02, l=11.00]', '\" entrepreneur\"[p=0.02, l=10.94]', '\" engineer\"[p=0.02, l=10.81]', '\" chess\"[p=0.02, l=10.75]', '\" politician\"[p=0.02, l=10.62]', '\" computer\"[p=0.02, l=10.62]', '\" unknown\"[p=0.02, l=10.62]', '\" football\"[p=0.01, l=10.56]', '\" developer\"[p=0.01, l=10.50]', '\" artist\"[p=0.01, l=10.44]', '\"?\"[p=0.01, l=10.38]']\n",
      "token_idx=34 [\" Rub\"] => ['\"?\\n\"[p=0.07, l=10.75]', '\"??\"[p=0.05, l=10.38]', '\" artist\"[p=0.03, l=10.00]', '\"?\"[p=0.03, l=9.81]', '\" unknown\"[p=0.03, l=9.75]', '\"???\"[p=0.02, l=9.69]', '\"?\\n\\n\"[p=0.02, l=9.56]', '\" programmer\"[p=0.01, l=9.00]', '\" unclear\"[p=0.01, l=8.94]', '\" what\"[p=0.01, l=8.94]', '\" (\"[p=0.01, l=8.88]', '\" not\"[p=0.01, l=8.81]', '\" musician\"[p=0.01, l=8.75]', '\" politician\"[p=0.01, l=8.75]', '\" Rub\"[p=0.01, l=8.62]']\n",
      "token_idx=35 [\"lev\"] => ['\" tennis\"[p=0.24, l=14.31]', '\"?\\n\"[p=0.19, l=14.06]', '\"?\\n\\n\"[p=0.08, l=13.25]', '\"?\"[p=0.07, l=13.00]', '\"??\"[p=0.04, l=12.56]', '\" \\n\"[p=0.02, l=11.94]', '\" (\"[p=0.02, l=11.69]', '\"???\"[p=0.02, l=11.69]', '\" unknown\"[p=0.01, l=11.44]', '\" athlete\"[p=0.01, l=11.19]', '\" \"[p=0.01, l=11.12]', '\" politician\"[p=0.01, l=10.88]', '\" musician\"[p=0.01, l=10.88]', '\" what\"[p=0.01, l=10.75]', '\" artist\"[p=0.01, l=10.56]']\n",
      "\n",
      "\" Samuel L. Jackson\" | cur_rng=(37, 41)\n",
      "token_idx=37 [\" Samuel\"] => ['\" prophet\"[p=0.56, l=15.38]', '\" judge\"[p=0.03, l=12.44]', '\"?\\n\"[p=0.03, l=12.38]', '\" unknown\"[p=0.02, l=12.25]', '\" actor\"[p=0.02, l=11.94]', '\" biblical\"[p=0.01, l=11.75]', '\"??\"[p=0.01, l=11.75]', '\" Prophet\"[p=0.01, l=11.38]', '\"?\"[p=0.01, l=11.19]', '\" singer\"[p=0.01, l=11.12]', '\" no\"[p=0.01, l=11.00]', '\"???\"[p=0.01, l=11.00]', '\" (\"[p=0.01, l=10.75]', '\" musician\"[p=0.00, l=10.56]', '\" not\"[p=0.00, l=10.56]']\n",
      "token_idx=38 [\" L\"] => ['\"?\\n\"[p=0.10, l=12.44]', '\"??\"[p=0.07, l=12.06]', '\"?\"[p=0.05, l=11.81]', '\"???\"[p=0.05, l=11.75]', '\" actor\"[p=0.05, l=11.69]', '\"?\\n\\n\"[p=0.04, l=11.62]', '\" unknown\"[p=0.03, l=11.25]', '\" artist\"[p=0.02, l=10.94]', '\" software\"[p=0.02, l=10.88]', '\" (\"[p=0.02, l=10.88]', '\" Jackson\"[p=0.02, l=10.81]', '\" lawyer\"[p=0.01, l=10.56]', '\" singer\"[p=0.01, l=10.38]', '\" musician\"[p=0.01, l=10.31]', '\" computer\"[p=0.01, l=10.31]']\n",
      "token_idx=39 [\".\"] => ['\"?\\n\"[p=0.13, l=12.56]', '\"??\"[p=0.07, l=11.94]', '\"?\"[p=0.07, l=11.94]', '\"?\\n\\n\"[p=0.06, l=11.75]', '\"???\"[p=0.04, l=11.31]', '\" unknown\"[p=0.04, l=11.25]', '\" (\"[p=0.02, l=10.62]', '\" actor\"[p=0.02, l=10.62]', '\" lawyer\"[p=0.02, l=10.50]', '\" politician\"[p=0.02, l=10.44]', '\" artist\"[p=0.01, l=10.25]', '\" musician\"[p=0.01, l=10.19]', '\" singer\"[p=0.01, l=10.12]', '\" programmer\"[p=0.01, l=10.00]', '\" software\"[p=0.01, l=10.00]']\n",
      "token_idx=40 [\" Jackson\"] => ['\" actor\"[p=0.67, l=15.19]', '\"?\\n\"[p=0.03, l=12.00]', '\"??\"[p=0.02, l=11.56]', '\"?\"[p=0.02, l=11.50]', '\" singer\"[p=0.02, l=11.44]', '\" unknown\"[p=0.01, l=11.38]', '\" Jackson\"[p=0.01, l=11.06]', '\"???\"[p=0.01, l=10.88]', '\" politician\"[p=0.01, l=10.81]', '\" (\"[p=0.01, l=10.62]', '\"?\\n\\n\"[p=0.01, l=10.44]', '\" what\"[p=0.00, l=10.25]', '\" no\"[p=0.00, l=10.19]', '\" Actor\"[p=0.00, l=10.06]', '\" not\"[p=0.00, l=10.06]']\n",
      "======================================================================================================================================================\n",
      "\n",
      "layer='model.layers.51'\n",
      "\n",
      "\"Ans:\" | cur_rng=(-2, 0)\n",
      "token_idx=-2 [\"Ans\"] => ['\" Ans\"[p=0.03, l=9.44]', '\" entrepreneur\"[p=0.03, l=9.38]', '\" unknown\"[p=0.03, l=9.38]', '\" answer\"[p=0.02, l=9.19]', '\" artist\"[p=0.02, l=9.06]', '\" Answer\"[p=0.02, l=8.94]', '\"?\\n\"[p=0.01, l=8.69]', '\" Albert\"[p=0.01, l=8.56]', '\" \\n\"[p=0.01, l=8.56]', '\" computer\"[p=0.01, l=8.44]', '\" person\"[p=0.01, l=8.31]', '\" a\"[p=0.01, l=8.31]', '\" programmer\"[p=0.01, l=8.31]', '\" politician\"[p=0.01, l=8.25]', '\" engineer\"[p=0.01, l=8.19]']\n",
      "token_idx=-1 [\":\"] => ['\"?\\n\"[p=0.27, l=13.81]', '\"?\\n\\n\"[p=0.10, l=12.81]', '\" ->\"[p=0.04, l=12.00]', '\"?\"[p=0.04, l=11.94]', '\" actor\"[p=0.03, l=11.50]', '\" \\n\"[p=0.02, l=11.38]', '\" (\"[p=0.02, l=11.19]', '\" comedian\"[p=0.02, l=11.12]', '\" lawyer\"[p=0.02, l=11.12]', '\"??\"[p=0.01, l=10.81]', '\" politician\"[p=0.01, l=10.75]', '\" software\"[p=0.01, l=10.69]', '\" \"[p=0.01, l=10.62]', '\" artist\"[p=0.01, l=10.56]', '\" musician\"[p=0.01, l=10.44]']\n",
      "\n",
      "\" Trevor Noah\" | cur_rng=(13, 15)\n",
      "token_idx=13 [\" Trevor\"] => ['\"?\\n\"[p=0.09, l=12.50]', '\"??\"[p=0.06, l=12.00]', '\" software\"[p=0.05, l=11.81]', '\"???\"[p=0.04, l=11.69]', '\"?\"[p=0.04, l=11.56]', '\" unknown\"[p=0.03, l=11.50]', '\"?\\n\\n\"[p=0.03, l=11.44]', '\" actor\"[p=0.03, l=11.25]', '\" programmer\"[p=0.03, l=11.19]', '\" entrepreneur\"[p=0.02, l=10.81]', '\" data\"[p=0.02, l=10.81]', '\" musician\"[p=0.02, l=10.75]', '\" student\"[p=0.02, l=10.69]', '\" computer\"[p=0.01, l=10.38]', '\" singer\"[p=0.01, l=10.31]']\n",
      "token_idx=14 [\" Noah\"] => ['\" comedian\"[p=0.84, l=18.12]', '\"?\\n\"[p=0.03, l=14.69]', '\"?\\n\\n\"[p=0.01, l=13.62]', '\"??\"[p=0.01, l=13.50]', '\" (\"[p=0.01, l=13.44]', '\" actor\"[p=0.01, l=13.38]', '\"?\"[p=0.01, l=13.12]', '\" unknown\"[p=0.01, l=13.12]', '\" stand\"[p=0.01, l=13.06]', '\" Com\"[p=0.01, l=13.00]', '\" \\n\"[p=0.00, l=12.81]', '\"???\"[p=0.00, l=12.62]', '\" politician\"[p=0.00, l=12.44]', '\" \"[p=0.00, l=12.44]', '\" political\"[p=0.00, l=12.12]']\n",
      "\n",
      "\" Zion Williamson\" | cur_rng=(18, 20)\n",
      "token_idx=18 [\" Zion\"] => ['\"?\\n\"[p=0.08, l=12.19]', '\" singer\"[p=0.07, l=12.12]', '\" prophet\"[p=0.06, l=11.88]', '\" musician\"[p=0.06, l=11.88]', '\" unknown\"[p=0.06, l=11.88]', '\"??\"[p=0.05, l=11.81]', '\"?\"[p=0.02, l=10.94]', '\" no\"[p=0.02, l=10.88]', '\"???\"[p=0.02, l=10.81]', '\" politician\"[p=0.02, l=10.81]', '\" football\"[p=0.02, l=10.75]', '\" rapper\"[p=0.02, l=10.62]', '\" (\"[p=0.01, l=10.50]', '\" actor\"[p=0.01, l=10.50]', '\" not\"[p=0.01, l=10.19]']\n",
      "token_idx=19 [\" Williamson\"] => ['\" basketball\"[p=0.72, l=16.62]', '\"?\\n\"[p=0.03, l=13.50]', '\"??\"[p=0.02, l=13.19]', '\"?\"[p=0.02, l=12.81]', '\" football\"[p=0.01, l=12.56]', '\" professional\"[p=0.01, l=12.56]', '\" unknown\"[p=0.01, l=12.56]', '\" NBA\"[p=0.01, l=12.31]', '\"?\\n\\n\"[p=0.01, l=12.06]', '\"???\"[p=0.01, l=12.06]', '\" \\n\"[p=0.01, l=12.00]', '\" Basketball\"[p=0.01, l=12.00]', '\" athlete\"[p=0.01, l=11.94]', '\" (\"[p=0.01, l=11.94]', '\" politician\"[p=0.01, l=11.69]']\n",
      "\n",
      "\" John Mulaney\" | cur_rng=(21, 24)\n",
      "token_idx=21 [\" John\"] => ['\" unknown\"[p=0.08, l=12.75]', '\" politician\"[p=0.04, l=12.00]', '\"?\\n\"[p=0.04, l=11.94]', '\" actor\"[p=0.03, l=11.81]', '\" musician\"[p=0.02, l=11.50]', '\" evangel\"[p=0.02, l=11.50]', '\"?\"[p=0.02, l=11.44]', '\"??\"[p=0.02, l=11.44]', '\" no\"[p=0.02, l=11.44]', '\" software\"[p=0.02, l=11.31]', '\"???\"[p=0.02, l=11.12]', '\" lawyer\"[p=0.02, l=11.12]', '\" programmer\"[p=0.02, l=11.06]', '\" singer\"[p=0.02, l=11.06]', '\" pastor\"[p=0.01, l=11.00]']\n",
      "token_idx=22 [\" Mul\"] => ['\" singer\"[p=0.06, l=10.50]', '\" musician\"[p=0.05, l=10.38]', '\" unknown\"[p=0.04, l=10.06]', '\"?\\n\"[p=0.03, l=9.69]', '\" politician\"[p=0.02, l=9.62]', '\"??\"[p=0.02, l=9.50]', '\" actor\"[p=0.02, l=9.25]', '\"???\"[p=0.02, l=9.19]', '\" artist\"[p=0.01, l=9.12]', '\" programmer\"[p=0.01, l=8.88]', '\" (\"[p=0.01, l=8.88]', '\"?\"[p=0.01, l=8.81]', '\" computer\"[p=0.01, l=8.81]', '\" no\"[p=0.01, l=8.81]', '\" mathematic\"[p=0.01, l=8.75]']\n",
      "token_idx=23 [\"aney\"] => ['\" comedian\"[p=0.55, l=16.25]', '\"?\\n\"[p=0.12, l=14.75]', '\"?\\n\\n\"[p=0.06, l=14.00]', '\"??\"[p=0.04, l=13.50]', '\"?\"[p=0.02, l=13.12]', '\" actor\"[p=0.02, l=12.88]', '\"???\"[p=0.02, l=12.81]', '\" unknown\"[p=0.01, l=11.94]', '\" stand\"[p=0.01, l=11.88]', '\" politician\"[p=0.01, l=11.81]', '\" (\"[p=0.01, l=11.69]', '\" \\n\"[p=0.01, l=11.56]', '\" writer\"[p=0.01, l=11.56]', '\" lawyer\"[p=0.00, l=11.50]', '\" \"[p=0.00, l=11.50]']\n",
      "\n",
      "\" Ariana Grande\" | cur_rng=(25, 28)\n",
      "token_idx=25 [\" Ari\"] => ['\"?\\n\"[p=0.09, l=11.62]', '\" singer\"[p=0.04, l=10.88]', '\"??\"[p=0.03, l=10.69]', '\"?\"[p=0.03, l=10.62]', '\" unknown\"[p=0.03, l=10.50]', '\"?\\n\\n\"[p=0.03, l=10.50]', '\"???\"[p=0.02, l=10.38]', '\" artist\"[p=0.02, l=10.00]', '\" software\"[p=0.01, l=9.75]', '\" politician\"[p=0.01, l=9.75]', '\" musician\"[p=0.01, l=9.75]', '\" lawyer\"[p=0.01, l=9.62]', '\" comedian\"[p=0.01, l=9.31]', '\" (\"[p=0.01, l=9.25]', '\" \"[p=0.01, l=9.25]']\n",
      "token_idx=26 [\"ana\"] => ['\" singer\"[p=0.30, l=13.69]', '\"?\\n\"[p=0.12, l=12.75]', '\"?\"[p=0.06, l=12.06]', '\" unknown\"[p=0.05, l=11.81]', '\"?\\n\\n\"[p=0.04, l=11.62]', '\"??\"[p=0.03, l=11.44]', '\" pop\"[p=0.03, l=11.31]', '\" musician\"[p=0.02, l=10.94]', '\"???\"[p=0.02, l=10.69]', '\" artist\"[p=0.01, l=10.56]', '\" model\"[p=0.01, l=10.38]', '\" no\"[p=0.01, l=9.81]', '\" \\n\"[p=0.01, l=9.81]', '\" actress\"[p=0.01, l=9.75]', '\" (\"[p=0.01, l=9.75]']\n",
      "token_idx=27 [\" Grande\"] => ['\" singer\"[p=0.71, l=16.25]', '\"?\\n\"[p=0.07, l=13.94]', '\"?\\n\\n\"[p=0.02, l=12.88]', '\"?\"[p=0.02, l=12.81]', '\" musician\"[p=0.02, l=12.50]', '\" unknown\"[p=0.01, l=12.25]', '\"??\"[p=0.01, l=12.06]', '\" pop\"[p=0.01, l=11.81]', '\" \\n\"[p=0.01, l=11.62]', '\" artist\"[p=0.01, l=11.56]', '\" actress\"[p=0.01, l=11.50]', '\" Singer\"[p=0.01, l=11.31]', '\"???\"[p=0.00, l=11.25]', '\" music\"[p=0.00, l=11.19]', '\" (\"[p=0.00, l=10.94]']\n",
      "\n",
      "\" Joe Scarborough\" | cur_rng=(29, 31)\n",
      "token_idx=29 [\" Joe\"] => ['\" unknown\"[p=0.06, l=11.69]', '\"?\\n\"[p=0.06, l=11.62]', '\"??\"[p=0.04, l=11.19]', '\"?\"[p=0.04, l=11.12]', '\" politician\"[p=0.03, l=11.06]', '\"???\"[p=0.02, l=10.75]', '\" programmer\"[p=0.02, l=10.56]', '\" no\"[p=0.02, l=10.44]', '\"?\\n\\n\"[p=0.02, l=10.31]', '\" Joe\"[p=0.01, l=10.25]', '\" software\"[p=0.01, l=10.12]', '\" (\"[p=0.01, l=10.12]', '\" not\"[p=0.01, l=9.94]', '\" actor\"[p=0.01, l=9.94]', '\" nobody\"[p=0.01, l=9.88]']\n",
      "token_idx=30 [\" Scarborough\"] => ['\" journalist\"[p=0.25, l=16.12]', '\" TV\"[p=0.11, l=15.31]', '\" news\"[p=0.11, l=15.31]', '\" politician\"[p=0.10, l=15.25]', '\" political\"[p=0.05, l=14.62]', '\" television\"[p=0.05, l=14.56]', '\"?\\n\"[p=0.04, l=14.38]', '\"??\"[p=0.04, l=14.25]', '\"?\"[p=0.02, l=13.81]', '\"?\\n\\n\"[p=0.02, l=13.50]', '\" tv\"[p=0.02, l=13.50]', '\" (\"[p=0.01, l=13.06]', '\"???\"[p=0.01, l=13.06]', '\" unknown\"[p=0.01, l=13.06]', '\" talk\"[p=0.01, l=13.00]']\n",
      "\n",
      "\" Andrey Rublev\" | cur_rng=(32, 36)\n",
      "token_idx=32 [\" And\"] => ['\" And\"[p=0.05, l=10.38]', '\"?\\n\"[p=0.05, l=10.31]', '\" and\"[p=0.03, l=9.81]', '\"?\\n\\n\"[p=0.02, l=9.62]', '\"?\"[p=0.02, l=9.56]', '\"...\"[p=0.02, l=9.44]', '\" (\"[p=0.02, l=9.44]', '\" \\n\"[p=0.02, l=9.38]', '\"??\"[p=0.02, l=9.25]', '\" so\"[p=0.02, l=9.19]', '\"...\\n\\n\"[p=0.01, l=9.06]', '\" lawyer\"[p=0.01, l=9.00]', '\"...\\n\"[p=0.01, l=8.94]', '\" the\"[p=0.01, l=8.75]', '\" a\"[p=0.01, l=8.75]']\n",
      "token_idx=33 [\"rey\"] => ['\" programmer\"[p=0.13, l=12.75]', '\" software\"[p=0.06, l=11.94]', '\"?\\n\"[p=0.03, l=11.19]', '\" entrepreneur\"[p=0.03, l=11.12]', '\" tennis\"[p=0.02, l=11.06]', '\" engineer\"[p=0.02, l=10.94]', '\" politician\"[p=0.02, l=10.81]', '\" football\"[p=0.02, l=10.69]', '\" mathematic\"[p=0.02, l=10.69]', '\" unknown\"[p=0.02, l=10.62]', '\" developer\"[p=0.01, l=10.56]', '\" computer\"[p=0.01, l=10.56]', '\" actor\"[p=0.01, l=10.50]', '\" chess\"[p=0.01, l=10.44]', '\" artist\"[p=0.01, l=10.44]']\n",
      "token_idx=34 [\" Rub\"] => ['\"?\\n\"[p=0.07, l=10.94]', '\"??\"[p=0.05, l=10.50]', '\" artist\"[p=0.03, l=10.06]', '\"?\"[p=0.03, l=10.00]', '\" unknown\"[p=0.03, l=9.88]', '\"???\"[p=0.02, l=9.81]', '\"?\\n\\n\"[p=0.02, l=9.62]', '\" musician\"[p=0.01, l=9.19]', '\" what\"[p=0.01, l=9.12]', '\" programmer\"[p=0.01, l=9.00]', '\" (\"[p=0.01, l=9.00]', '\" Rub\"[p=0.01, l=9.00]', '\" poker\"[p=0.01, l=8.94]', '\" politician\"[p=0.01, l=8.94]', '\" chess\"[p=0.01, l=8.88]']\n",
      "token_idx=35 [\"lev\"] => ['\"?\\n\"[p=0.19, l=13.81]', '\" tennis\"[p=0.17, l=13.69]', '\"?\\n\\n\"[p=0.10, l=13.12]', '\"?\"[p=0.06, l=12.69]', '\"??\"[p=0.05, l=12.44]', '\" \\n\"[p=0.02, l=11.62]', '\"???\"[p=0.02, l=11.56]', '\" (\"[p=0.02, l=11.50]', '\" politician\"[p=0.01, l=11.00]', '\" unknown\"[p=0.01, l=10.94]', '\" athlete\"[p=0.01, l=10.88]', '\" \"[p=0.01, l=10.75]', '\" musician\"[p=0.01, l=10.75]', '\" lawyer\"[p=0.01, l=10.75]', '\" artist\"[p=0.01, l=10.69]']\n",
      "\n",
      "\" Samuel L. Jackson\" | cur_rng=(37, 41)\n",
      "token_idx=37 [\" Samuel\"] => ['\" prophet\"[p=0.50, l=15.00]', '\"?\\n\"[p=0.04, l=12.38]', '\" unknown\"[p=0.03, l=12.19]', '\" judge\"[p=0.02, l=11.88]', '\"??\"[p=0.02, l=11.75]', '\" actor\"[p=0.02, l=11.69]', '\" biblical\"[p=0.02, l=11.56]', '\" Prophet\"[p=0.01, l=11.12]', '\"?\"[p=0.01, l=11.12]', '\"???\"[p=0.01, l=11.06]', '\" no\"[p=0.01, l=10.81]', '\" singer\"[p=0.01, l=10.69]', '\" (\"[p=0.01, l=10.56]', '\" not\"[p=0.01, l=10.50]', '\" philosopher\"[p=0.00, l=10.38]']\n",
      "token_idx=38 [\" L\"] => ['\"?\\n\"[p=0.15, l=12.81]', '\"??\"[p=0.07, l=12.06]', '\"?\"[p=0.07, l=12.00]', '\"?\\n\\n\"[p=0.06, l=11.88]', '\"???\"[p=0.05, l=11.62]', '\" software\"[p=0.02, l=11.00]', '\" lawyer\"[p=0.02, l=11.00]', '\" unknown\"[p=0.02, l=10.81]', '\" (\"[p=0.02, l=10.62]', '\" artist\"[p=0.02, l=10.56]', '\" \\n\"[p=0.01, l=10.44]', '\" actor\"[p=0.01, l=10.31]', '\" your\"[p=0.01, l=10.25]', '\" L\"[p=0.01, l=10.25]', '\" \"[p=0.01, l=10.19]']\n",
      "token_idx=39 [\".\"] => ['\"?\\n\"[p=0.19, l=13.25]', '\"?\"[p=0.08, l=12.44]', '\"?\\n\\n\"[p=0.08, l=12.38]', '\"??\"[p=0.07, l=12.31]', '\"???\"[p=0.03, l=11.50]', '\" unknown\"[p=0.03, l=11.25]', '\" lawyer\"[p=0.03, l=11.25]', '\" (\"[p=0.02, l=10.94]', '\" software\"[p=0.01, l=10.56]', '\" artist\"[p=0.01, l=10.56]', '\" \\n\"[p=0.01, l=10.50]', '\" \"[p=0.01, l=10.31]', '\" actor\"[p=0.01, l=10.31]', '\" your\"[p=0.01, l=10.25]', '\" programmer\"[p=0.01, l=10.19]']\n",
      "token_idx=40 [\" Jackson\"] => ['\" actor\"[p=0.59, l=14.94]', '\"?\\n\"[p=0.04, l=12.25]', '\"??\"[p=0.03, l=12.00]', '\"?\"[p=0.03, l=11.81]', '\" singer\"[p=0.02, l=11.56]', '\" unknown\"[p=0.02, l=11.56]', '\"???\"[p=0.02, l=11.31]', '\" Jackson\"[p=0.01, l=11.12]', '\"?\\n\\n\"[p=0.01, l=11.12]', '\" (\"[p=0.01, l=10.75]', '\" politician\"[p=0.01, l=10.62]', '\" no\"[p=0.01, l=10.19]', '\" what\"[p=0.01, l=10.19]', '\" not\"[p=0.00, l=10.06]', '\" \"[p=0.00, l=9.88]']\n",
      "======================================================================================================================================================\n",
      "\n",
      "layer='model.layers.54'\n",
      "\n",
      "\"Ans:\" | cur_rng=(-2, 0)\n",
      "token_idx=-2 [\"Ans\"] => ['\" unknown\"[p=0.04, l=9.75]', '\" Ans\"[p=0.03, l=9.38]', '\" entrepreneur\"[p=0.02, l=9.31]', '\" artist\"[p=0.02, l=9.31]', '\" answer\"[p=0.02, l=9.12]', '\"?\\n\"[p=0.02, l=8.88]', '\" Answer\"[p=0.01, l=8.75]', '\" \\n\"[p=0.01, l=8.56]', '\" no\"[p=0.01, l=8.50]', '\" computer\"[p=0.01, l=8.44]', '\" programmer\"[p=0.01, l=8.44]', '\" person\"[p=0.01, l=8.38]', '\" Albert\"[p=0.01, l=8.31]', '\" (\"[p=0.01, l=8.31]', '\" politician\"[p=0.01, l=8.31]']\n",
      "token_idx=-1 [\":\"] => ['\"?\\n\"[p=0.30, l=13.94]', '\"?\\n\\n\"[p=0.11, l=12.94]', '\"?\"[p=0.06, l=12.38]', '\" ->\"[p=0.06, l=12.31]', '\" ->\\n\"[p=0.02, l=11.25]', '\" \\n\"[p=0.02, l=11.19]', '\" comedian\"[p=0.02, l=11.19]', '\" (\"[p=0.02, l=11.06]', '\" your\"[p=0.02, l=11.00]', '\"??\"[p=0.01, l=10.75]', '\" actor\"[p=0.01, l=10.69]', '\" lawyer\"[p=0.01, l=10.62]', '\" \"[p=0.01, l=10.56]', '\" unknown\"[p=0.01, l=10.44]', '\" software\"[p=0.01, l=9.88]']\n",
      "\n",
      "\" Trevor Noah\" | cur_rng=(13, 15)\n",
      "token_idx=13 [\" Trevor\"] => ['\"?\\n\"[p=0.09, l=12.50]', '\"??\"[p=0.06, l=12.00]', '\" software\"[p=0.05, l=11.88]', '\"???\"[p=0.04, l=11.69]', '\"?\"[p=0.04, l=11.62]', '\" unknown\"[p=0.04, l=11.56]', '\" actor\"[p=0.03, l=11.50]', '\"?\\n\\n\"[p=0.03, l=11.44]', '\" programmer\"[p=0.02, l=11.19]', '\" musician\"[p=0.02, l=10.88]', '\" entrepreneur\"[p=0.02, l=10.88]', '\" data\"[p=0.02, l=10.81]', '\" student\"[p=0.01, l=10.62]', '\" singer\"[p=0.01, l=10.50]', '\" computer\"[p=0.01, l=10.44]']\n",
      "token_idx=14 [\" Noah\"] => ['\" comedian\"[p=0.75, l=17.12]', '\"?\\n\"[p=0.05, l=14.44]', '\"?\\n\\n\"[p=0.02, l=13.50]', '\" unknown\"[p=0.01, l=13.06]', '\"??\"[p=0.01, l=13.00]', '\" (\"[p=0.01, l=12.88]', '\" actor\"[p=0.01, l=12.81]', '\"?\"[p=0.01, l=12.62]', '\" \\n\"[p=0.01, l=12.38]', '\" stand\"[p=0.01, l=12.12]', '\"???\"[p=0.00, l=12.06]', '\" Com\"[p=0.00, l=11.94]', '\" politician\"[p=0.00, l=11.81]', '\" talk\"[p=0.00, l=11.81]', '\" \"[p=0.00, l=11.62]']\n",
      "\n",
      "\" Zion Williamson\" | cur_rng=(18, 20)\n",
      "token_idx=18 [\" Zion\"] => ['\"?\\n\"[p=0.07, l=12.00]', '\" singer\"[p=0.07, l=12.00]', '\" prophet\"[p=0.06, l=11.88]', '\" musician\"[p=0.06, l=11.88]', '\" unknown\"[p=0.06, l=11.81]', '\"??\"[p=0.05, l=11.69]', '\" rapper\"[p=0.02, l=10.88]', '\"?\"[p=0.02, l=10.81]', '\" no\"[p=0.02, l=10.69]', '\"???\"[p=0.02, l=10.69]', '\" football\"[p=0.02, l=10.56]', '\" politician\"[p=0.01, l=10.50]', '\" (\"[p=0.01, l=10.44]', '\" actor\"[p=0.01, l=10.25]', '\" not\"[p=0.01, l=10.12]']\n",
      "token_idx=19 [\" Williamson\"] => ['\" basketball\"[p=0.76, l=16.88]', '\"?\\n\"[p=0.03, l=13.62]', '\"??\"[p=0.02, l=13.38]', '\"?\"[p=0.02, l=13.06]', '\" unknown\"[p=0.01, l=12.88]', '\" professional\"[p=0.01, l=12.56]', '\" NBA\"[p=0.01, l=12.44]', '\"???\"[p=0.01, l=12.25]', '\"?\\n\\n\"[p=0.01, l=12.25]', '\" football\"[p=0.01, l=12.06]', '\" athlete\"[p=0.01, l=12.06]', '\" (\"[p=0.01, l=12.06]', '\" Basketball\"[p=0.01, l=12.06]', '\" \\n\"[p=0.01, l=12.00]', '\" \"[p=0.00, l=11.69]']\n",
      "\n",
      "\" John Mulaney\" | cur_rng=(21, 24)\n",
      "token_idx=21 [\" John\"] => ['\" unknown\"[p=0.08, l=12.62]', '\"?\\n\"[p=0.04, l=11.94]', '\" politician\"[p=0.04, l=11.81]', '\" evangel\"[p=0.03, l=11.44]', '\" no\"[p=0.02, l=11.38]', '\"??\"[p=0.02, l=11.38]', '\" actor\"[p=0.02, l=11.31]', '\"?\"[p=0.02, l=11.31]', '\" software\"[p=0.02, l=11.25]', '\" musician\"[p=0.02, l=11.25]', '\"???\"[p=0.02, l=11.06]', '\" programmer\"[p=0.02, l=11.06]', '\" singer\"[p=0.01, l=10.88]', '\" lawyer\"[p=0.01, l=10.75]', '\" (\"[p=0.01, l=10.75]']\n",
      "token_idx=22 [\" Mul\"] => ['\" unknown\"[p=0.05, l=10.38]', '\" singer\"[p=0.03, l=9.88]', '\"?\\n\"[p=0.03, l=9.81]', '\"??\"[p=0.03, l=9.75]', '\" musician\"[p=0.02, l=9.69]', '\" politician\"[p=0.02, l=9.56]', '\"???\"[p=0.02, l=9.50]', '\" actor\"[p=0.02, l=9.44]', '\" artist\"[p=0.02, l=9.25]', '\" programmer\"[p=0.02, l=9.25]', '\" farmer\"[p=0.01, l=9.12]', '\" no\"[p=0.01, l=9.00]', '\"?\"[p=0.01, l=8.94]', '\" (\"[p=0.01, l=8.94]', '\" computer\"[p=0.01, l=8.88]']\n",
      "token_idx=23 [\"aney\"] => ['\" comedian\"[p=0.54, l=16.25]', '\"?\\n\"[p=0.13, l=14.81]', '\"?\\n\\n\"[p=0.06, l=14.00]', '\"??\"[p=0.03, l=13.50]', '\"?\"[p=0.03, l=13.31]', '\" actor\"[p=0.02, l=12.94]', '\"???\"[p=0.02, l=12.81]', '\" unknown\"[p=0.01, l=12.19]', '\" (\"[p=0.01, l=11.88]', '\" stand\"[p=0.01, l=11.88]', '\" politician\"[p=0.01, l=11.88]', '\" \\n\"[p=0.01, l=11.69]', '\" \"[p=0.01, l=11.62]', '\" lawyer\"[p=0.00, l=11.56]', '\" writer\"[p=0.00, l=11.56]']\n",
      "\n",
      "\" Ariana Grande\" | cur_rng=(25, 28)\n",
      "token_idx=25 [\" Ari\"] => ['\"?\\n\"[p=0.08, l=11.56]', '\" singer\"[p=0.04, l=10.94]', '\"??\"[p=0.03, l=10.69]', '\" unknown\"[p=0.03, l=10.56]', '\"?\"[p=0.03, l=10.56]', '\"?\\n\\n\"[p=0.03, l=10.50]', '\"???\"[p=0.02, l=10.31]', '\" artist\"[p=0.02, l=10.06]', '\" musician\"[p=0.01, l=9.81]', '\" software\"[p=0.01, l=9.75]', '\" politician\"[p=0.01, l=9.75]', '\" lawyer\"[p=0.01, l=9.69]', '\" comedian\"[p=0.01, l=9.38]', '\" (\"[p=0.01, l=9.25]', '\" \"[p=0.01, l=9.25]']\n",
      "token_idx=26 [\"ana\"] => ['\" singer\"[p=0.33, l=13.81]', '\"?\\n\"[p=0.11, l=12.69]', '\"?\"[p=0.06, l=12.06]', '\" unknown\"[p=0.04, l=11.75]', '\"?\\n\\n\"[p=0.04, l=11.62]', '\"??\"[p=0.03, l=11.44]', '\" pop\"[p=0.03, l=11.44]', '\" musician\"[p=0.02, l=11.00]', '\"???\"[p=0.02, l=10.75]', '\" artist\"[p=0.01, l=10.50]', '\" model\"[p=0.01, l=10.44]', '\" \\n\"[p=0.01, l=9.81]', '\" actress\"[p=0.01, l=9.81]', '\" no\"[p=0.01, l=9.75]', '\" (\"[p=0.01, l=9.75]']\n",
      "token_idx=27 [\" Grande\"] => ['\" singer\"[p=0.57, l=15.38]', '\"?\\n\"[p=0.10, l=13.62]', '\"?\\n\\n\"[p=0.04, l=12.69]', '\"?\"[p=0.03, l=12.56]', '\" musician\"[p=0.02, l=12.00]', '\"??\"[p=0.02, l=11.88]', '\" unknown\"[p=0.02, l=11.81]', '\" artist\"[p=0.01, l=11.25]', '\" actress\"[p=0.01, l=11.19]', '\" \\n\"[p=0.01, l=11.19]', '\" pop\"[p=0.01, l=11.12]', '\"???\"[p=0.01, l=11.06]', '\" music\"[p=0.01, l=10.75]', '\" actor\"[p=0.00, l=10.62]', '\" (\"[p=0.00, l=10.62]']\n",
      "\n",
      "\" Joe Scarborough\" | cur_rng=(29, 31)\n",
      "token_idx=29 [\" Joe\"] => ['\"?\\n\"[p=0.06, l=11.50]', '\" unknown\"[p=0.06, l=11.44]', '\"??\"[p=0.04, l=11.00]', '\" politician\"[p=0.03, l=10.88]', '\"?\"[p=0.03, l=10.81]', '\"???\"[p=0.03, l=10.62]', '\" programmer\"[p=0.02, l=10.38]', '\" no\"[p=0.02, l=10.31]', '\" Joe\"[p=0.02, l=10.19]', '\"?\\n\\n\"[p=0.02, l=10.12]', '\" (\"[p=0.01, l=9.94]', '\" software\"[p=0.01, l=9.88]', '\" nobody\"[p=0.01, l=9.75]', '\" not\"[p=0.01, l=9.75]', '\" president\"[p=0.01, l=9.69]']\n",
      "token_idx=30 [\" Scarborough\"] => ['\" journalist\"[p=0.26, l=16.25]', '\" news\"[p=0.12, l=15.44]', '\" TV\"[p=0.11, l=15.38]', '\" politician\"[p=0.10, l=15.31]', '\" political\"[p=0.07, l=14.88]', '\" television\"[p=0.05, l=14.50]', '\"?\\n\"[p=0.04, l=14.38]', '\"??\"[p=0.03, l=14.06]', '\"?\"[p=0.02, l=13.69]', '\" tv\"[p=0.02, l=13.56]', '\"?\\n\\n\"[p=0.02, l=13.44]', '\" talk\"[p=0.01, l=13.31]', '\" (\"[p=0.01, l=13.06]', '\" unknown\"[p=0.01, l=12.88]', '\"???\"[p=0.01, l=12.81]']\n",
      "\n",
      "\" Andrey Rublev\" | cur_rng=(32, 36)\n",
      "token_idx=32 [\" And\"] => ['\"?\\n\"[p=0.09, l=11.25]', '\"?\"[p=0.05, l=10.56]', '\"?\\n\\n\"[p=0.04, l=10.44]', '\"??\"[p=0.04, l=10.31]', '\" And\"[p=0.04, l=10.31]', '\"...\"[p=0.02, l=9.81]', '\" \\n\"[p=0.02, l=9.75]', '\" (\"[p=0.02, l=9.62]', '\"???\"[p=0.02, l=9.50]', '\" and\"[p=0.02, l=9.50]', '\" lawyer\"[p=0.01, l=9.38]', '\"...\\n\\n\"[p=0.01, l=9.12]', '\"...\\n\"[p=0.01, l=9.00]', '\" what\"[p=0.01, l=8.94]', '\" you\"[p=0.01, l=8.88]']\n",
      "token_idx=33 [\"rey\"] => ['\" programmer\"[p=0.12, l=12.69]', '\" software\"[p=0.06, l=12.00]', '\" entrepreneur\"[p=0.03, l=11.31]', '\"?\\n\"[p=0.03, l=11.19]', '\" football\"[p=0.03, l=11.19]', '\" tennis\"[p=0.02, l=11.12]', '\" politician\"[p=0.02, l=11.06]', '\" engineer\"[p=0.02, l=10.88]', '\" developer\"[p=0.02, l=10.75]', '\" actor\"[p=0.02, l=10.69]', '\" soccer\"[p=0.01, l=10.62]', '\" unknown\"[p=0.01, l=10.50]', '\" artist\"[p=0.01, l=10.50]', '\" mathematic\"[p=0.01, l=10.44]', '\" computer\"[p=0.01, l=10.44]']\n",
      "token_idx=34 [\" Rub\"] => ['\"?\\n\"[p=0.07, l=10.75]', '\"??\"[p=0.04, l=10.25]', '\" artist\"[p=0.03, l=9.94]', '\" unknown\"[p=0.03, l=9.81]', '\"?\"[p=0.02, l=9.69]', '\"???\"[p=0.02, l=9.44]', '\"?\\n\\n\"[p=0.02, l=9.25]', '\" musician\"[p=0.01, l=9.12]', '\" programmer\"[p=0.01, l=9.12]', '\" Rub\"[p=0.01, l=9.00]', '\" chess\"[p=0.01, l=9.00]', '\" what\"[p=0.01, l=9.00]', '\" DJ\"[p=0.01, l=8.88]', '\" poker\"[p=0.01, l=8.81]', '\" (\"[p=0.01, l=8.69]']\n",
      "token_idx=35 [\"lev\"] => ['\"?\\n\"[p=0.20, l=13.62]', '\" tennis\"[p=0.11, l=13.06]', '\"?\\n\\n\"[p=0.09, l=12.81]', '\"?\"[p=0.06, l=12.38]', '\"??\"[p=0.05, l=12.19]', '\" \\n\"[p=0.02, l=11.50]', '\"???\"[p=0.02, l=11.31]', '\" (\"[p=0.02, l=11.25]', '\" politician\"[p=0.02, l=11.12]', '\" lawyer\"[p=0.01, l=11.00]', '\" artist\"[p=0.01, l=10.75]', '\" athlete\"[p=0.01, l=10.69]', '\" unknown\"[p=0.01, l=10.62]', '\" actor\"[p=0.01, l=10.62]', '\" musician\"[p=0.01, l=10.56]']\n",
      "\n",
      "\" Samuel L. Jackson\" | cur_rng=(37, 41)\n",
      "token_idx=37 [\" Samuel\"] => ['\" prophet\"[p=0.41, l=14.50]', '\"?\\n\"[p=0.06, l=12.56]', '\" unknown\"[p=0.04, l=12.25]', '\"??\"[p=0.03, l=11.81]', '\"?\"[p=0.02, l=11.31]', '\"???\"[p=0.02, l=11.25]', '\" actor\"[p=0.02, l=11.19]', '\" judge\"[p=0.01, l=11.12]', '\" biblical\"[p=0.01, l=11.06]', '\" Prophet\"[p=0.01, l=10.81]', '\" no\"[p=0.01, l=10.69]', '\" (\"[p=0.01, l=10.44]', '\"?\\n\\n\"[p=0.01, l=10.44]', '\" singer\"[p=0.01, l=10.38]', '\" not\"[p=0.01, l=10.38]']\n",
      "token_idx=38 [\" L\"] => ['\"?\\n\"[p=0.17, l=13.06]', '\"?\"[p=0.08, l=12.25]', '\"?\\n\\n\"[p=0.07, l=12.19]', '\"??\"[p=0.07, l=12.12]', '\"???\"[p=0.04, l=11.62]', '\" lawyer\"[p=0.02, l=11.12]', '\" software\"[p=0.02, l=11.06]', '\" \\n\"[p=0.02, l=10.69]', '\" (\"[p=0.01, l=10.56]', '\" artist\"[p=0.01, l=10.44]', '\" unknown\"[p=0.01, l=10.38]', '\" \"[p=0.01, l=10.31]', '\" your\"[p=0.01, l=10.25]', '\" computer\"[p=0.01, l=10.19]', '\" L\"[p=0.01, l=10.06]']\n",
      "token_idx=39 [\".\"] => ['\"?\\n\"[p=0.22, l=13.56]', '\"?\\n\\n\"[p=0.09, l=12.69]', '\"?\"[p=0.09, l=12.62]', '\"??\"[p=0.06, l=12.31]', '\" lawyer\"[p=0.03, l=11.50]', '\"???\"[p=0.03, l=11.50]', '\" unknown\"[p=0.02, l=11.00]', '\" (\"[p=0.02, l=10.94]', '\" software\"[p=0.02, l=10.88]', '\" \\n\"[p=0.02, l=10.88]', '\" \"[p=0.01, l=10.56]', '\" artist\"[p=0.01, l=10.56]', '\" programmer\"[p=0.01, l=10.25]', '\" computer\"[p=0.01, l=10.25]', '\" your\"[p=0.01, l=10.19]']\n",
      "token_idx=40 [\" Jackson\"] => ['\" actor\"[p=0.42, l=14.12]', '\"?\\n\"[p=0.06, l=12.12]', '\"??\"[p=0.05, l=12.00]', '\"?\"[p=0.04, l=11.69]', '\" unknown\"[p=0.03, l=11.44]', '\"???\"[p=0.03, l=11.31]', '\" singer\"[p=0.03, l=11.31]', '\"?\\n\\n\"[p=0.02, l=11.19]', '\" Jackson\"[p=0.02, l=11.00]', '\" (\"[p=0.01, l=10.50]', '\" politician\"[p=0.01, l=10.44]', '\" no\"[p=0.01, l=10.00]', '\" what\"[p=0.01, l=9.88]', '\" not\"[p=0.01, l=9.81]', '\" \"[p=0.00, l=9.62]']\n",
      "======================================================================================================================================================\n",
      "\n",
      "layer='model.layers.57'\n",
      "\n",
      "\"Ans:\" | cur_rng=(-2, 0)\n",
      "token_idx=-2 [\"Ans\"] => ['\" unknown\"[p=0.06, l=10.31]', '\" artist\"[p=0.03, l=9.56]', '\" Ans\"[p=0.02, l=9.25]', '\"?\\n\"[p=0.02, l=9.12]', '\" answer\"[p=0.02, l=9.00]', '\" entrepreneur\"[p=0.02, l=9.00]', '\" (\"[p=0.01, l=8.81]', '\" no\"[p=0.01, l=8.69]', '\" \\n\"[p=0.01, l=8.69]', '\" programmer\"[p=0.01, l=8.62]', '\" actor\"[p=0.01, l=8.62]', '\" computer\"[p=0.01, l=8.56]', '\" politician\"[p=0.01, l=8.50]', '\" person\"[p=0.01, l=8.50]', '\" not\"[p=0.01, l=8.38]']\n",
      "token_idx=-1 [\":\"] => ['\"?\\n\"[p=0.12, l=12.00]', '\" ->\"[p=0.09, l=11.69]', '\"?\\n\\n\"[p=0.05, l=11.06]', '\" ->\\n\"[p=0.04, l=10.81]', '\"?\"[p=0.04, l=10.81]', '\" (\"[p=0.03, l=10.62]', '\" comedian\"[p=0.03, l=10.62]', '\" \\n\"[p=0.02, l=10.31]', '\" unknown\"[p=0.02, l=10.19]', '\" your\"[p=0.01, l=9.75]', '\" empty\"[p=0.01, l=9.56]', '\"??\"[p=0.01, l=9.56]', '\" actor\"[p=0.01, l=9.50]', '\" input\"[p=0.01, l=9.38]', '\" \"[p=0.01, l=9.38]']\n",
      "\n",
      "\" Trevor Noah\" | cur_rng=(13, 15)\n",
      "token_idx=13 [\" Trevor\"] => ['\"?\\n\"[p=0.10, l=12.62]', '\"??\"[p=0.05, l=11.94]', '\" software\"[p=0.05, l=11.94]', '\"???\"[p=0.04, l=11.62]', '\"?\"[p=0.04, l=11.62]', '\" unknown\"[p=0.04, l=11.62]', '\"?\\n\\n\"[p=0.03, l=11.50]', '\" actor\"[p=0.03, l=11.44]', '\" programmer\"[p=0.02, l=11.12]', '\" entrepreneur\"[p=0.02, l=11.06]', '\" data\"[p=0.02, l=10.88]', '\" musician\"[p=0.02, l=10.81]', '\" student\"[p=0.02, l=10.75]', '\" politician\"[p=0.01, l=10.56]', '\" singer\"[p=0.01, l=10.50]']\n",
      "token_idx=14 [\" Noah\"] => ['\" comedian\"[p=0.66, l=16.50]', '\"?\\n\"[p=0.07, l=14.31]', '\"?\\n\\n\"[p=0.03, l=13.31]', '\" unknown\"[p=0.02, l=12.88]', '\"??\"[p=0.02, l=12.81]', '\" actor\"[p=0.01, l=12.62]', '\" (\"[p=0.01, l=12.56]', '\"?\"[p=0.01, l=12.50]', '\" \\n\"[p=0.01, l=12.06]', '\"???\"[p=0.01, l=11.81]', '\" politician\"[p=0.01, l=11.69]', '\" stand\"[p=0.01, l=11.62]', '\" journalist\"[p=0.01, l=11.62]', '\" talk\"[p=0.00, l=11.56]', '\" Com\"[p=0.00, l=11.38]']\n",
      "\n",
      "\" Zion Williamson\" | cur_rng=(18, 20)\n",
      "token_idx=18 [\" Zion\"] => ['\"?\\n\"[p=0.07, l=11.94]', '\" singer\"[p=0.07, l=11.94]', '\" prophet\"[p=0.06, l=11.81]', '\" musician\"[p=0.06, l=11.81]', '\" unknown\"[p=0.06, l=11.81]', '\"??\"[p=0.04, l=11.56]', '\" rapper\"[p=0.02, l=10.81]', '\"?\"[p=0.02, l=10.75]', '\" no\"[p=0.02, l=10.69]', '\"???\"[p=0.02, l=10.56]', '\" football\"[p=0.01, l=10.38]', '\" (\"[p=0.01, l=10.38]', '\" politician\"[p=0.01, l=10.31]', '\" actor\"[p=0.01, l=10.19]', '\" not\"[p=0.01, l=10.12]']\n",
      "token_idx=19 [\" Williamson\"] => ['\" basketball\"[p=0.70, l=16.38]', '\"?\\n\"[p=0.03, l=13.25]', '\"??\"[p=0.03, l=13.12]', '\" unknown\"[p=0.02, l=12.81]', '\"?\"[p=0.02, l=12.69]', '\" professional\"[p=0.01, l=12.31]', '\" NBA\"[p=0.01, l=12.25]', '\"???\"[p=0.01, l=12.06]', '\" athlete\"[p=0.01, l=12.06]', '\" Basketball\"[p=0.01, l=11.88]', '\" \\n\"[p=0.01, l=11.81]', '\" (\"[p=0.01, l=11.81]', '\"?\\n\\n\"[p=0.01, l=11.81]', '\" football\"[p=0.01, l=11.75]', '\" \"[p=0.00, l=11.38]']\n",
      "\n",
      "\" John Mulaney\" | cur_rng=(21, 24)\n",
      "token_idx=21 [\" John\"] => ['\" unknown\"[p=0.08, l=12.50]', '\"?\\n\"[p=0.04, l=11.81]', '\" politician\"[p=0.03, l=11.62]', '\" actor\"[p=0.02, l=11.25]', '\"??\"[p=0.02, l=11.25]', '\" musician\"[p=0.02, l=11.19]', '\" software\"[p=0.02, l=11.19]', '\" programmer\"[p=0.02, l=11.12]', '\" evangel\"[p=0.02, l=11.12]', '\" no\"[p=0.02, l=11.12]', '\"?\"[p=0.02, l=11.06]', '\"???\"[p=0.02, l=10.94]', '\" singer\"[p=0.02, l=10.81]', '\" pastor\"[p=0.01, l=10.69]', '\" (\"[p=0.01, l=10.62]']\n",
      "token_idx=22 [\" Mul\"] => ['\" unknown\"[p=0.05, l=10.25]', '\"?\\n\"[p=0.03, l=9.56]', '\"??\"[p=0.02, l=9.44]', '\" singer\"[p=0.02, l=9.44]', '\" programmer\"[p=0.02, l=9.31]', '\" politician\"[p=0.02, l=9.31]', '\" musician\"[p=0.02, l=9.25]', '\"???\"[p=0.02, l=9.06]', '\" actor\"[p=0.01, l=8.94]', '\" artist\"[p=0.01, l=8.88]', '\" (\"[p=0.01, l=8.81]', '\" no\"[p=0.01, l=8.81]', '\" computer\"[p=0.01, l=8.75]', '\" mathematic\"[p=0.01, l=8.69]', '\" not\"[p=0.01, l=8.69]']\n",
      "token_idx=23 [\"aney\"] => ['\" comedian\"[p=0.48, l=15.81]', '\"?\\n\"[p=0.14, l=14.56]', '\"?\\n\\n\"[p=0.06, l=13.69]', '\"??\"[p=0.04, l=13.25]', '\"?\"[p=0.03, l=13.12]', '\" actor\"[p=0.02, l=12.69]', '\"???\"[p=0.02, l=12.50]', '\" unknown\"[p=0.01, l=12.25]', '\" politician\"[p=0.01, l=11.81]', '\" (\"[p=0.01, l=11.75]', '\" stand\"[p=0.01, l=11.44]', '\" \\n\"[p=0.01, l=11.44]', '\" lawyer\"[p=0.01, l=11.44]', '\" writer\"[p=0.01, l=11.38]', '\" \"[p=0.01, l=11.38]']\n",
      "\n",
      "\" Ariana Grande\" | cur_rng=(25, 28)\n",
      "token_idx=25 [\" Ari\"] => ['\"?\\n\"[p=0.09, l=11.56]', '\"??\"[p=0.04, l=10.69]', '\" unknown\"[p=0.03, l=10.56]', '\" singer\"[p=0.03, l=10.50]', '\"?\"[p=0.03, l=10.50]', '\"?\\n\\n\"[p=0.03, l=10.44]', '\"???\"[p=0.03, l=10.31]', '\" artist\"[p=0.02, l=9.81]', '\" software\"[p=0.01, l=9.75]', '\" politician\"[p=0.01, l=9.69]', '\" lawyer\"[p=0.01, l=9.50]', '\" musician\"[p=0.01, l=9.44]', '\" (\"[p=0.01, l=9.25]', '\" \"[p=0.01, l=9.19]', '\" comedian\"[p=0.01, l=9.12]']\n",
      "token_idx=26 [\"ana\"] => ['\" singer\"[p=0.33, l=13.81]', '\"?\\n\"[p=0.11, l=12.75]', '\"?\"[p=0.05, l=12.00]', '\" unknown\"[p=0.04, l=11.69]', '\" pop\"[p=0.03, l=11.50]', '\"?\\n\\n\"[p=0.03, l=11.50]', '\"??\"[p=0.03, l=11.44]', '\" musician\"[p=0.02, l=11.06]', '\"???\"[p=0.01, l=10.69]', '\" model\"[p=0.01, l=10.56]', '\" artist\"[p=0.01, l=10.44]', '\" \\n\"[p=0.01, l=9.75]', '\" actress\"[p=0.01, l=9.75]', '\" (\"[p=0.01, l=9.75]', '\" \"[p=0.01, l=9.62]']\n",
      "token_idx=27 [\" Grande\"] => ['\" singer\"[p=0.39, l=14.50]', '\"?\\n\"[p=0.15, l=13.50]', '\"?\\n\\n\"[p=0.06, l=12.62]', '\"?\"[p=0.05, l=12.38]', '\"??\"[p=0.02, l=11.69]', '\" unknown\"[p=0.02, l=11.69]', '\" musician\"[p=0.02, l=11.62]', '\"???\"[p=0.01, l=11.00]', '\" \\n\"[p=0.01, l=11.00]', '\" artist\"[p=0.01, l=11.00]', '\" actress\"[p=0.01, l=10.69]', '\" actor\"[p=0.01, l=10.62]', '\" (\"[p=0.01, l=10.50]', '\" lawyer\"[p=0.01, l=10.44]', '\" pop\"[p=0.01, l=10.31]']\n",
      "\n",
      "\" Joe Scarborough\" | cur_rng=(29, 31)\n",
      "token_idx=29 [\" Joe\"] => ['\"?\\n\"[p=0.07, l=11.62]', '\" unknown\"[p=0.06, l=11.44]', '\"??\"[p=0.05, l=11.19]', '\"?\"[p=0.03, l=10.88]', '\" politician\"[p=0.03, l=10.81]', '\"???\"[p=0.03, l=10.69]', '\" programmer\"[p=0.02, l=10.38]', '\"?\\n\\n\"[p=0.02, l=10.38]', '\" Joe\"[p=0.02, l=10.31]', '\" no\"[p=0.02, l=10.25]', '\" software\"[p=0.01, l=9.88]', '\" (\"[p=0.01, l=9.81]', '\" not\"[p=0.01, l=9.69]', '\" president\"[p=0.01, l=9.69]', '\" what\"[p=0.01, l=9.62]']\n",
      "token_idx=30 [\" Scarborough\"] => ['\" journalist\"[p=0.21, l=15.56]', '\" politician\"[p=0.12, l=15.00]', '\" news\"[p=0.12, l=15.00]', '\" TV\"[p=0.09, l=14.69]', '\" political\"[p=0.06, l=14.31]', '\"?\\n\"[p=0.05, l=14.12]', '\"??\"[p=0.04, l=13.94]', '\" television\"[p=0.04, l=13.81]', '\"?\"[p=0.03, l=13.44]', '\"?\\n\\n\"[p=0.02, l=13.25]', '\" unknown\"[p=0.02, l=13.06]', '\" tv\"[p=0.02, l=12.94]', '\" talk\"[p=0.01, l=12.75]', '\" (\"[p=0.01, l=12.75]', '\"???\"[p=0.01, l=12.75]']\n",
      "\n",
      "\" Andrey Rublev\" | cur_rng=(32, 36)\n",
      "token_idx=32 [\" And\"] => ['\"?\\n\"[p=0.10, l=11.25]', '\"?\"[p=0.04, l=10.44]', '\"?\\n\\n\"[p=0.04, l=10.31]', '\"??\"[p=0.04, l=10.31]', '\" And\"[p=0.03, l=10.00]', '\" (\"[p=0.02, l=9.44]', '\"???\"[p=0.02, l=9.44]', '\" \\n\"[p=0.02, l=9.38]', '\" lawyer\"[p=0.01, l=9.25]', '\"...\"[p=0.01, l=9.19]', '\" and\"[p=0.01, l=9.12]', '\" what\"[p=0.01, l=9.00]', '\" you\"[p=0.01, l=8.81]', '\" engineer\"[p=0.01, l=8.75]', '\" fill\"[p=0.01, l=8.69]']\n",
      "token_idx=33 [\"rey\"] => ['\" programmer\"[p=0.13, l=12.62]', '\" software\"[p=0.06, l=11.94]', '\"?\\n\"[p=0.03, l=11.31]', '\" entrepreneur\"[p=0.02, l=10.94]', '\" politician\"[p=0.02, l=10.88]', '\" tennis\"[p=0.02, l=10.75]', '\" engineer\"[p=0.02, l=10.75]', '\" developer\"[p=0.02, l=10.69]', '\" football\"[p=0.02, l=10.62]', '\" unknown\"[p=0.02, l=10.56]', '\" actor\"[p=0.02, l=10.56]', '\" computer\"[p=0.01, l=10.44]', '\"?\"[p=0.01, l=10.44]', '\" mathematic\"[p=0.01, l=10.38]', '\"??\"[p=0.01, l=10.25]']\n",
      "token_idx=34 [\" Rub\"] => ['\"?\\n\"[p=0.06, l=10.69]', '\"??\"[p=0.04, l=10.25]', '\" artist\"[p=0.03, l=10.06]', '\" unknown\"[p=0.03, l=10.06]', '\"?\"[p=0.02, l=9.62]', '\"???\"[p=0.02, l=9.56]', '\"?\\n\\n\"[p=0.02, l=9.31]', '\" programmer\"[p=0.01, l=9.25]', '\" chess\"[p=0.01, l=9.06]', '\" unclear\"[p=0.01, l=9.00]', '\" musician\"[p=0.01, l=9.00]', '\" politician\"[p=0.01, l=8.94]', '\" what\"[p=0.01, l=8.88]', '\" (\"[p=0.01, l=8.88]', '\" Rub\"[p=0.01, l=8.88]']\n",
      "token_idx=35 [\"lev\"] => ['\"?\\n\"[p=0.20, l=13.50]', '\" tennis\"[p=0.11, l=12.88]', '\"?\\n\\n\"[p=0.09, l=12.69]', '\"?\"[p=0.06, l=12.31]', '\"??\"[p=0.04, l=12.00]', '\" \\n\"[p=0.03, l=11.50]', '\" politician\"[p=0.02, l=11.06]', '\" (\"[p=0.02, l=11.06]', '\"???\"[p=0.02, l=11.00]', '\" lawyer\"[p=0.02, l=10.94]', '\" athlete\"[p=0.01, l=10.62]', '\" artist\"[p=0.01, l=10.56]', '\" unknown\"[p=0.01, l=10.56]', '\" actor\"[p=0.01, l=10.50]', '\" \"[p=0.01, l=10.38]']\n",
      "\n",
      "\" Samuel L. Jackson\" | cur_rng=(37, 41)\n",
      "token_idx=37 [\" Samuel\"] => ['\" prophet\"[p=0.36, l=14.19]', '\"?\\n\"[p=0.07, l=12.50]', '\" unknown\"[p=0.05, l=12.19]', '\"??\"[p=0.03, l=11.69]', '\"?\"[p=0.02, l=11.25]', '\"???\"[p=0.02, l=11.12]', '\" actor\"[p=0.02, l=11.06]', '\" judge\"[p=0.01, l=10.88]', '\" biblical\"[p=0.01, l=10.75]', '\" no\"[p=0.01, l=10.56]', '\" Prophet\"[p=0.01, l=10.56]', '\"?\\n\\n\"[p=0.01, l=10.38]', '\" singer\"[p=0.01, l=10.38]', '\" not\"[p=0.01, l=10.31]', '\" (\"[p=0.01, l=10.25]']\n",
      "token_idx=38 [\" L\"] => ['\"?\\n\"[p=0.21, l=13.50]', '\"?\\n\\n\"[p=0.09, l=12.62]', '\"?\"[p=0.08, l=12.56]', '\"??\"[p=0.06, l=12.25]', '\"???\"[p=0.03, l=11.69]', '\" lawyer\"[p=0.02, l=11.31]', '\" software\"[p=0.02, l=11.19]', '\" \\n\"[p=0.01, l=10.75]', '\" (\"[p=0.01, l=10.62]', '\" \"[p=0.01, l=10.56]', '\" artist\"[p=0.01, l=10.56]', '\" unknown\"[p=0.01, l=10.44]', '\" computer\"[p=0.01, l=10.25]', '\" your\"[p=0.01, l=10.25]', '\" actor\"[p=0.01, l=10.25]']\n",
      "token_idx=39 [\".\"] => ['\"?\\n\"[p=0.25, l=13.75]', '\"?\\n\\n\"[p=0.10, l=12.88]', '\"?\"[p=0.09, l=12.75]', '\"??\"[p=0.06, l=12.31]', '\" lawyer\"[p=0.02, l=11.44]', '\"???\"[p=0.02, l=11.44]', '\" \\n\"[p=0.02, l=10.94]', '\" software\"[p=0.01, l=10.88]', '\" unknown\"[p=0.01, l=10.75]', '\" (\"[p=0.01, l=10.75]', '\" \"[p=0.01, l=10.69]', '\" artist\"[p=0.01, l=10.50]', '\" computer\"[p=0.01, l=10.25]', '\" programmer\"[p=0.01, l=10.19]', '\" your\"[p=0.01, l=10.19]']\n",
      "token_idx=40 [\" Jackson\"] => ['\" actor\"[p=0.25, l=13.31]', '\"?\\n\"[p=0.10, l=12.44]', '\"??\"[p=0.06, l=11.88]', '\"?\\n\\n\"[p=0.05, l=11.69]', '\"?\"[p=0.05, l=11.69]', '\"???\"[p=0.03, l=11.06]', '\" unknown\"[p=0.02, l=11.00]', '\" singer\"[p=0.02, l=10.94]', '\" (\"[p=0.01, l=10.44]', '\" politician\"[p=0.01, l=10.44]', '\" lawyer\"[p=0.01, l=10.19]', '\" Jackson\"[p=0.01, l=10.06]', '\" \\n\"[p=0.01, l=10.00]', '\" \"[p=0.01, l=9.56]', '\" no\"[p=0.01, l=9.44]']\n",
      "======================================================================================================================================================\n",
      "\n",
      "layer='model.layers.60'\n",
      "\n",
      "\"Ans:\" | cur_rng=(-2, 0)\n",
      "token_idx=-2 [\"Ans\"] => ['\" unknown\"[p=0.05, l=10.19]', '\" artist\"[p=0.03, l=9.62]', '\"?\\n\"[p=0.02, l=9.31]', '\" entrepreneur\"[p=0.02, l=9.06]', '\" answer\"[p=0.01, l=8.94]', '\" (\"[p=0.01, l=8.81]', '\" Ans\"[p=0.01, l=8.81]', '\" programmer\"[p=0.01, l=8.75]', '\" \\n\"[p=0.01, l=8.75]', '\" computer\"[p=0.01, l=8.75]', '\" person\"[p=0.01, l=8.69]', '\" actor\"[p=0.01, l=8.69]', '\" no\"[p=0.01, l=8.62]', '\" politician\"[p=0.01, l=8.56]', '\" software\"[p=0.01, l=8.44]']\n",
      "token_idx=-1 [\":\"] => ['\"?\\n\"[p=0.11, l=11.81]', '\" ->\"[p=0.07, l=11.31]', '\"?\\n\\n\"[p=0.04, l=10.69]', '\" comedian\"[p=0.04, l=10.69]', '\" (\"[p=0.04, l=10.69]', '\"?\"[p=0.03, l=10.56]', '\" ->\\n\"[p=0.03, l=10.44]', '\" unknown\"[p=0.02, l=10.25]', '\" \\n\"[p=0.02, l=10.25]', '\" empty\"[p=0.01, l=9.81]', '\" profession\"[p=0.01, l=9.56]', '\"??\"[p=0.01, l=9.56]', '\" actor\"[p=0.01, l=9.44]', '\" your\"[p=0.01, l=9.44]', '\" \"[p=0.01, l=9.31]']\n",
      "\n",
      "\" Trevor Noah\" | cur_rng=(13, 15)\n",
      "token_idx=13 [\" Trevor\"] => ['\"?\\n\"[p=0.10, l=12.62]', '\" software\"[p=0.05, l=11.94]', '\"??\"[p=0.05, l=11.88]', '\"???\"[p=0.04, l=11.56]', '\"?\"[p=0.04, l=11.56]', '\" unknown\"[p=0.04, l=11.56]', '\"?\\n\\n\"[p=0.03, l=11.44]', '\" actor\"[p=0.03, l=11.38]', '\" programmer\"[p=0.02, l=11.06]', '\" entrepreneur\"[p=0.02, l=11.00]', '\" student\"[p=0.02, l=10.88]', '\" data\"[p=0.02, l=10.88]', '\" musician\"[p=0.01, l=10.69]', '\" engineer\"[p=0.01, l=10.50]', '\" singer\"[p=0.01, l=10.38]']\n",
      "token_idx=14 [\" Noah\"] => ['\" comedian\"[p=0.64, l=16.25]', '\"?\\n\"[p=0.09, l=14.25]', '\"?\\n\\n\"[p=0.03, l=13.25]', '\" unknown\"[p=0.02, l=12.81]', '\"??\"[p=0.02, l=12.69]', '\"?\"[p=0.01, l=12.38]', '\" (\"[p=0.01, l=12.31]', '\" actor\"[p=0.01, l=12.31]', '\" \\n\"[p=0.01, l=11.81]', '\"???\"[p=0.01, l=11.69]', '\" journalist\"[p=0.01, l=11.56]', '\" talk\"[p=0.01, l=11.50]', '\" politician\"[p=0.01, l=11.44]', '\" stand\"[p=0.01, l=11.44]', '\" host\"[p=0.00, l=11.31]']\n",
      "\n",
      "\" Zion Williamson\" | cur_rng=(18, 20)\n",
      "token_idx=18 [\" Zion\"] => ['\"?\\n\"[p=0.08, l=12.12]', '\" singer\"[p=0.06, l=11.88]', '\" prophet\"[p=0.06, l=11.88]', '\" unknown\"[p=0.06, l=11.88]', '\" musician\"[p=0.05, l=11.69]', '\"??\"[p=0.05, l=11.62]', '\"?\"[p=0.02, l=10.94]', '\" no\"[p=0.02, l=10.69]', '\"???\"[p=0.02, l=10.62]', '\" rapper\"[p=0.02, l=10.56]', '\" football\"[p=0.01, l=10.38]', '\" (\"[p=0.01, l=10.31]', '\" politician\"[p=0.01, l=10.31]', '\" actor\"[p=0.01, l=10.25]', '\" not\"[p=0.01, l=10.19]']\n",
      "token_idx=19 [\" Williamson\"] => ['\" basketball\"[p=0.68, l=16.25]', '\"?\\n\"[p=0.03, l=13.25]', '\"??\"[p=0.03, l=13.00]', '\" unknown\"[p=0.02, l=12.88]', '\"?\"[p=0.02, l=12.69]', '\" NBA\"[p=0.01, l=12.31]', '\" professional\"[p=0.01, l=12.19]', '\" athlete\"[p=0.01, l=12.06]', '\"???\"[p=0.01, l=12.00]', '\" football\"[p=0.01, l=11.88]', '\" \\n\"[p=0.01, l=11.81]', '\" (\"[p=0.01, l=11.81]', '\" Basketball\"[p=0.01, l=11.81]', '\"?\\n\\n\"[p=0.01, l=11.75]', '\" \"[p=0.00, l=11.31]']\n",
      "\n",
      "\" John Mulaney\" | cur_rng=(21, 24)\n",
      "token_idx=21 [\" John\"] => ['\" unknown\"[p=0.08, l=12.38]', '\"?\\n\"[p=0.05, l=11.94]', '\" no\"[p=0.03, l=11.19]', '\" politician\"[p=0.03, l=11.19]', '\"??\"[p=0.03, l=11.19]', '\"?\"[p=0.02, l=11.12]', '\" programmer\"[p=0.02, l=11.00]', '\"???\"[p=0.02, l=10.94]', '\" musician\"[p=0.02, l=10.94]', '\" actor\"[p=0.02, l=10.88]', '\" software\"[p=0.02, l=10.81]', '\" singer\"[p=0.02, l=10.69]', '\" evangel\"[p=0.02, l=10.69]', '\" not\"[p=0.01, l=10.50]', '\" (\"[p=0.01, l=10.50]']\n",
      "token_idx=22 [\" Mul\"] => ['\" unknown\"[p=0.07, l=10.75]', '\"?\\n\"[p=0.04, l=10.06]', '\" politician\"[p=0.03, l=9.75]', '\"??\"[p=0.03, l=9.75]', '\" actor\"[p=0.02, l=9.50]', '\"???\"[p=0.02, l=9.38]', '\" singer\"[p=0.02, l=9.38]', '\" programmer\"[p=0.02, l=9.31]', '\" musician\"[p=0.02, l=9.25]', '\" artist\"[p=0.01, l=9.19]', '\" no\"[p=0.01, l=9.19]', '\" (\"[p=0.01, l=9.06]', '\" computer\"[p=0.01, l=9.00]', '\"?\"[p=0.01, l=8.94]', '\" not\"[p=0.01, l=8.81]']\n",
      "token_idx=23 [\"aney\"] => ['\" comedian\"[p=0.51, l=16.00]', '\"?\\n\"[p=0.13, l=14.62]', '\"?\\n\\n\"[p=0.05, l=13.75]', '\"??\"[p=0.04, l=13.50]', '\"?\"[p=0.03, l=13.25]', '\" unknown\"[p=0.02, l=12.69]', '\"???\"[p=0.02, l=12.69]', '\" actor\"[p=0.02, l=12.50]', '\" (\"[p=0.01, l=12.06]', '\" stand\"[p=0.01, l=11.81]', '\" \\n\"[p=0.01, l=11.69]', '\" politician\"[p=0.01, l=11.56]', '\" \"[p=0.01, l=11.50]', '\" comic\"[p=0.00, l=11.25]', '\" writer\"[p=0.00, l=11.25]']\n",
      "\n",
      "\" Ariana Grande\" | cur_rng=(25, 28)\n",
      "token_idx=25 [\" Ari\"] => ['\"?\\n\"[p=0.10, l=11.69]', '\"??\"[p=0.04, l=10.88]', '\"?\"[p=0.03, l=10.62]', '\"???\"[p=0.03, l=10.56]', '\" unknown\"[p=0.03, l=10.56]', '\" singer\"[p=0.03, l=10.50]', '\"?\\n\\n\"[p=0.03, l=10.50]', '\" software\"[p=0.01, l=9.75]', '\" artist\"[p=0.01, l=9.69]', '\" lawyer\"[p=0.01, l=9.50]', '\" politician\"[p=0.01, l=9.50]', '\" musician\"[p=0.01, l=9.44]', '\" astronaut\"[p=0.01, l=9.31]', '\" (\"[p=0.01, l=9.31]', '\" \"[p=0.01, l=9.19]']\n",
      "token_idx=26 [\"ana\"] => ['\" singer\"[p=0.30, l=13.69]', '\"?\\n\"[p=0.12, l=12.75]', '\"?\"[p=0.06, l=12.06]', '\" unknown\"[p=0.05, l=11.94]', '\"??\"[p=0.04, l=11.56]', '\"?\\n\\n\"[p=0.03, l=11.50]', '\" pop\"[p=0.03, l=11.38]', '\" musician\"[p=0.02, l=11.12]', '\"???\"[p=0.02, l=10.81]', '\" model\"[p=0.01, l=10.44]', '\" artist\"[p=0.01, l=10.44]', '\" no\"[p=0.01, l=9.81]', '\" (\"[p=0.01, l=9.81]', '\" \\n\"[p=0.01, l=9.69]', '\" not\"[p=0.01, l=9.69]']\n",
      "token_idx=27 [\" Grande\"] => ['\" singer\"[p=0.41, l=14.50]', '\"?\\n\"[p=0.14, l=13.44]', '\"?\\n\\n\"[p=0.06, l=12.50]', '\"?\"[p=0.04, l=12.25]', '\" unknown\"[p=0.03, l=11.81]', '\"??\"[p=0.02, l=11.62]', '\" musician\"[p=0.02, l=11.56]', '\" \\n\"[p=0.01, l=10.88]', '\" artist\"[p=0.01, l=10.88]', '\"???\"[p=0.01, l=10.81]', '\" actress\"[p=0.01, l=10.69]', '\" actor\"[p=0.01, l=10.62]', '\" lawyer\"[p=0.01, l=10.38]', '\" celebrity\"[p=0.01, l=10.31]', '\" (\"[p=0.01, l=10.31]']\n",
      "\n",
      "\" Joe Scarborough\" | cur_rng=(29, 31)\n",
      "token_idx=29 [\" Joe\"] => ['\"?\\n\"[p=0.07, l=11.69]', '\" unknown\"[p=0.06, l=11.50]', '\"??\"[p=0.05, l=11.25]', '\" politician\"[p=0.05, l=11.19]', '\"?\"[p=0.04, l=10.94]', '\"???\"[p=0.03, l=10.75]', '\"?\\n\\n\"[p=0.02, l=10.44]', '\" Joe\"[p=0.02, l=10.44]', '\" no\"[p=0.02, l=10.31]', '\" programmer\"[p=0.02, l=10.31]', '\" president\"[p=0.02, l=10.12]', '\" (\"[p=0.01, l=9.94]', '\" software\"[p=0.01, l=9.88]', '\" singer\"[p=0.01, l=9.75]', '\" what\"[p=0.01, l=9.75]']\n",
      "token_idx=30 [\" Scarborough\"] => ['\" journalist\"[p=0.16, l=14.81]', '\" politician\"[p=0.12, l=14.50]', '\" news\"[p=0.11, l=14.44]', '\" TV\"[p=0.07, l=13.94]', '\"??\"[p=0.06, l=13.88]', '\"?\\n\"[p=0.06, l=13.81]', '\" political\"[p=0.06, l=13.75]', '\"?\"[p=0.03, l=13.19]', '\" television\"[p=0.03, l=13.12]', '\"?\\n\\n\"[p=0.03, l=13.06]', '\" unknown\"[p=0.02, l=12.94]', '\"???\"[p=0.02, l=12.75]', '\" (\"[p=0.01, l=12.38]', '\" tv\"[p=0.01, l=12.38]', '\" talk\"[p=0.01, l=12.12]']\n",
      "\n",
      "\" Andrey Rublev\" | cur_rng=(32, 36)\n",
      "token_idx=32 [\" And\"] => ['\"?\\n\"[p=0.12, l=11.56]', '\"?\"[p=0.06, l=10.81]', '\"?\\n\\n\"[p=0.05, l=10.75]', '\"??\"[p=0.05, l=10.62]', '\" And\"[p=0.03, l=10.12]', '\"???\"[p=0.02, l=9.88]', '\" (\"[p=0.02, l=9.75]', '\" lawyer\"[p=0.01, l=9.38]', '\" \\n\"[p=0.01, l=9.38]', '\"...\"[p=0.01, l=9.25]', '\" and\"[p=0.01, l=9.19]', '\" unknown\"[p=0.01, l=9.12]', '\" what\"[p=0.01, l=9.06]', '\" software\"[p=0.01, l=8.81]', '\" artist\"[p=0.01, l=8.75]']\n",
      "token_idx=33 [\"rey\"] => ['\" programmer\"[p=0.12, l=12.50]', '\" software\"[p=0.06, l=11.81]', '\"?\\n\"[p=0.06, l=11.75]', '\" unknown\"[p=0.03, l=11.00]', '\" entrepreneur\"[p=0.02, l=10.81]', '\"?\"[p=0.02, l=10.81]', '\" engineer\"[p=0.02, l=10.75]', '\" politician\"[p=0.02, l=10.69]', '\" developer\"[p=0.02, l=10.62]', '\"??\"[p=0.02, l=10.50]', '\"?\\n\\n\"[p=0.01, l=10.38]', '\"???\"[p=0.01, l=10.25]', '\" computer\"[p=0.01, l=10.19]', '\" actor\"[p=0.01, l=10.12]', '\" artist\"[p=0.01, l=10.12]']\n",
      "token_idx=34 [\" Rub\"] => ['\"?\\n\"[p=0.06, l=10.75]', '\" unknown\"[p=0.04, l=10.25]', '\"??\"[p=0.04, l=10.25]', '\" artist\"[p=0.03, l=10.12]', '\"?\"[p=0.02, l=9.69]', '\"???\"[p=0.02, l=9.62]', '\" politician\"[p=0.02, l=9.56]', '\" programmer\"[p=0.02, l=9.50]', '\"?\\n\\n\"[p=0.02, l=9.50]', '\" musician\"[p=0.01, l=8.94]', '\" what\"[p=0.01, l=8.88]', '\" (\"[p=0.01, l=8.88]', '\" Rub\"[p=0.01, l=8.81]', '\" DJ\"[p=0.01, l=8.75]', '\" not\"[p=0.01, l=8.75]']\n",
      "token_idx=35 [\"lev\"] => ['\" tennis\"[p=0.18, l=13.50]', '\"?\\n\"[p=0.17, l=13.44]', '\"?\\n\\n\"[p=0.07, l=12.50]', '\"?\"[p=0.06, l=12.31]', '\"??\"[p=0.04, l=12.06]', '\" \\n\"[p=0.03, l=11.56]', '\" (\"[p=0.02, l=11.38]', '\" athlete\"[p=0.02, l=11.25]', '\"???\"[p=0.02, l=11.12]', '\" unknown\"[p=0.01, l=10.88]', '\" politician\"[p=0.01, l=10.81]', '\" \"[p=0.01, l=10.62]', '\" lawyer\"[p=0.01, l=10.44]', '\" musician\"[p=0.01, l=10.25]', '\" what\"[p=0.01, l=10.19]']\n",
      "\n",
      "\" Samuel L. Jackson\" | cur_rng=(37, 41)\n",
      "token_idx=37 [\" Samuel\"] => ['\" prophet\"[p=0.38, l=14.25]', '\" unknown\"[p=0.05, l=12.31]', '\"?\\n\"[p=0.05, l=12.25]', '\"??\"[p=0.02, l=11.50]', '\" biblical\"[p=0.02, l=11.06]', '\"???\"[p=0.01, l=11.00]', '\" actor\"[p=0.01, l=11.00]', '\"?\"[p=0.01, l=11.00]', '\" no\"[p=0.01, l=10.88]', '\" judge\"[p=0.01, l=10.88]', '\" Prophet\"[p=0.01, l=10.75]', '\" not\"[p=0.01, l=10.50]', '\" singer\"[p=0.01, l=10.44]', '\" (\"[p=0.01, l=10.31]', '\" priest\"[p=0.01, l=10.12]']\n",
      "token_idx=38 [\" L\"] => ['\"?\\n\"[p=0.23, l=13.50]', '\"?\"[p=0.09, l=12.62]', '\"?\\n\\n\"[p=0.09, l=12.56]', '\"??\"[p=0.05, l=12.06]', '\"???\"[p=0.03, l=11.44]', '\" lawyer\"[p=0.02, l=11.19]', '\" software\"[p=0.02, l=11.00]', '\" \\n\"[p=0.02, l=10.88]', '\" \"[p=0.01, l=10.62]', '\" (\"[p=0.01, l=10.56]', '\" unknown\"[p=0.01, l=10.44]', '\" artist\"[p=0.01, l=10.31]', '\" your\"[p=0.01, l=10.25]', '\" entrepreneur\"[p=0.01, l=10.12]', '\" profession\"[p=0.01, l=10.12]']\n",
      "token_idx=39 [\".\"] => ['\"?\\n\"[p=0.26, l=13.81]', '\"?\\n\\n\"[p=0.11, l=12.94]', '\"?\"[p=0.09, l=12.75]', '\"??\"[p=0.05, l=12.25]', '\" lawyer\"[p=0.03, l=11.50]', '\"???\"[p=0.02, l=11.31]', '\" \\n\"[p=0.02, l=11.12]', '\" software\"[p=0.01, l=10.94]', '\" (\"[p=0.01, l=10.81]', '\" \"[p=0.01, l=10.81]', '\" unknown\"[p=0.01, l=10.81]', '\" artist\"[p=0.01, l=10.50]', '\" your\"[p=0.01, l=10.19]', '\" computer\"[p=0.01, l=10.19]', '\" profession\"[p=0.01, l=10.12]']\n",
      "token_idx=40 [\" Jackson\"] => ['\" actor\"[p=0.25, l=13.25]', '\"?\\n\"[p=0.10, l=12.31]', '\"??\"[p=0.06, l=11.81]', '\"?\"[p=0.05, l=11.62]', '\"?\\n\\n\"[p=0.04, l=11.50]', '\" unknown\"[p=0.03, l=11.06]', '\" singer\"[p=0.03, l=11.00]', '\"???\"[p=0.03, l=11.00]', '\" (\"[p=0.01, l=10.31]', '\" politician\"[p=0.01, l=10.31]', '\" Jackson\"[p=0.01, l=10.00]', '\" \\n\"[p=0.01, l=9.88]', '\" lawyer\"[p=0.01, l=9.88]', '\" no\"[p=0.01, l=9.50]', '\" \"[p=0.01, l=9.50]']\n",
      "======================================================================================================================================================\n",
      "\n",
      "layer='model.layers.63'\n",
      "\n",
      "\"Ans:\" | cur_rng=(-2, 0)\n",
      "token_idx=-2 [\"Ans\"] => ['\" Ans\"[p=0.04, l=9.62]', '\" unknown\"[p=0.03, l=9.50]', '\" artist\"[p=0.03, l=9.38]', '\"?\\n\"[p=0.03, l=9.31]', '\" entrepreneur\"[p=0.02, l=8.88]', '\" programmer\"[p=0.02, l=8.88]', '\" \\n\"[p=0.02, l=8.75]', '\" computer\"[p=0.01, l=8.62]', '\" answer\"[p=0.01, l=8.56]', '\" person\"[p=0.01, l=8.38]', '\" software\"[p=0.01, l=8.31]', '\" (\"[p=0.01, l=8.19]', '\" engineer\"[p=0.01, l=8.19]', '\" Answer\"[p=0.01, l=8.12]', '\" a\"[p=0.01, l=8.12]']\n",
      "token_idx=-1 [\":\"] => ['\"?\\n\"[p=0.09, l=11.50]', '\" ->\"[p=0.05, l=10.94]', '\" (\"[p=0.04, l=10.62]', '\"?\\n\\n\"[p=0.03, l=10.50]', '\" symbol\"[p=0.03, l=10.44]', '\" comedian\"[p=0.03, l=10.38]', '\"?\"[p=0.03, l=10.31]', '\" unknown\"[p=0.03, l=10.25]', '\" programmer\"[p=0.02, l=10.12]', '\" ->\\n\"[p=0.02, l=10.12]', '\" \\n\"[p=0.02, l=9.94]', '\" placeholder\"[p=0.02, l=9.94]', '\" empty\"[p=0.02, l=9.75]', '\" computer\"[p=0.01, l=9.62]', '\"??\"[p=0.01, l=9.56]']\n",
      "\n",
      "\" Trevor Noah\" | cur_rng=(13, 15)\n",
      "token_idx=13 [\" Trevor\"] => ['\"?\\n\"[p=0.12, l=12.75]', '\"??\"[p=0.06, l=12.00]', '\"?\"[p=0.04, l=11.69]', '\"???\"[p=0.04, l=11.69]', '\" software\"[p=0.04, l=11.69]', '\"?\\n\\n\"[p=0.04, l=11.56]', '\" unknown\"[p=0.04, l=11.56]', '\" actor\"[p=0.02, l=11.06]', '\" entrepreneur\"[p=0.02, l=11.00]', '\" programmer\"[p=0.02, l=10.88]', '\" student\"[p=0.02, l=10.69]', '\" data\"[p=0.02, l=10.69]', '\" engineer\"[p=0.01, l=10.44]', '\" musician\"[p=0.01, l=10.38]', '\" politician\"[p=0.01, l=10.25]']\n",
      "token_idx=14 [\" Noah\"] => ['\" comedian\"[p=0.65, l=16.25]', '\"?\\n\"[p=0.06, l=13.94]', '\"?\\n\\n\"[p=0.02, l=12.81]', '\" unknown\"[p=0.02, l=12.75]', '\"??\"[p=0.02, l=12.62]', '\" actor\"[p=0.02, l=12.62]', '\" (\"[p=0.01, l=12.31]', '\"?\"[p=0.01, l=12.06]', '\" \\n\"[p=0.01, l=11.75]', '\"???\"[p=0.01, l=11.62]', '\" talk\"[p=0.01, l=11.62]', '\" politician\"[p=0.01, l=11.62]', '\" journalist\"[p=0.01, l=11.56]', '\" stand\"[p=0.01, l=11.50]', '\" host\"[p=0.01, l=11.44]']\n",
      "\n",
      "\" Zion Williamson\" | cur_rng=(18, 20)\n",
      "token_idx=18 [\" Zion\"] => ['\"?\\n\"[p=0.10, l=12.38]', '\" prophet\"[p=0.09, l=12.31]', '\" unknown\"[p=0.07, l=12.00]', '\"??\"[p=0.06, l=11.88]', '\" singer\"[p=0.04, l=11.50]', '\" musician\"[p=0.03, l=11.25]', '\"?\"[p=0.03, l=11.25]', '\"???\"[p=0.02, l=10.94]', '\" no\"[p=0.02, l=10.75]', '\"?\\n\\n\"[p=0.01, l=10.50]', '\" (\"[p=0.01, l=10.44]', '\" politician\"[p=0.01, l=10.38]', '\" not\"[p=0.01, l=10.31]', '\" biblical\"[p=0.01, l=10.12]', '\" \\n\"[p=0.01, l=10.06]']\n",
      "token_idx=19 [\" Williamson\"] => ['\" basketball\"[p=0.70, l=16.25]', '\"?\\n\"[p=0.02, l=12.88]', '\"??\"[p=0.02, l=12.81]', '\" unknown\"[p=0.02, l=12.69]', '\" professional\"[p=0.02, l=12.44]', '\"?\"[p=0.01, l=12.31]', '\" NBA\"[p=0.01, l=12.31]', '\" athlete\"[p=0.01, l=12.06]', '\" Basketball\"[p=0.01, l=11.94]', '\"???\"[p=0.01, l=11.81]', '\" (\"[p=0.01, l=11.81]', '\" football\"[p=0.01, l=11.75]', '\" \\n\"[p=0.01, l=11.69]', '\" actor\"[p=0.01, l=11.38]', '\" \"[p=0.00, l=11.25]']\n",
      "\n",
      "\" John Mulaney\" | cur_rng=(21, 24)\n",
      "token_idx=21 [\" John\"] => ['\" unknown\"[p=0.08, l=12.19]', '\"?\\n\"[p=0.06, l=12.00]', '\"??\"[p=0.03, l=11.25]', '\"?\"[p=0.03, l=11.25]', '\" politician\"[p=0.03, l=11.06]', '\"???\"[p=0.02, l=11.00]', '\" no\"[p=0.02, l=10.94]', '\" musician\"[p=0.02, l=10.69]', '\" programmer\"[p=0.02, l=10.69]', '\" actor\"[p=0.02, l=10.69]', '\" software\"[p=0.01, l=10.50]', '\" singer\"[p=0.01, l=10.50]', '\" evangel\"[p=0.01, l=10.38]', '\" (\"[p=0.01, l=10.38]', '\" not\"[p=0.01, l=10.31]']\n",
      "token_idx=22 [\" Mul\"] => ['\" unknown\"[p=0.06, l=10.62]', '\"?\\n\"[p=0.03, l=9.94]', '\"??\"[p=0.03, l=9.81]', '\" politician\"[p=0.03, l=9.75]', '\" singer\"[p=0.02, l=9.56]', '\" actor\"[p=0.02, l=9.50]', '\"???\"[p=0.02, l=9.44]', '\" musician\"[p=0.02, l=9.44]', '\" race\"[p=0.02, l=9.19]', '\" horse\"[p=0.01, l=9.12]', '\" programmer\"[p=0.01, l=9.06]', '\" artist\"[p=0.01, l=9.06]', '\" no\"[p=0.01, l=9.00]', '\" (\"[p=0.01, l=9.00]', '\" computer\"[p=0.01, l=8.94]']\n",
      "token_idx=23 [\"aney\"] => ['\" comedian\"[p=0.52, l=16.00]', '\"?\\n\"[p=0.13, l=14.62]', '\"?\\n\\n\"[p=0.05, l=13.62]', '\"??\"[p=0.04, l=13.50]', '\"?\"[p=0.03, l=13.19]', '\" unknown\"[p=0.02, l=12.69]', '\"???\"[p=0.02, l=12.62]', '\" actor\"[p=0.02, l=12.56]', '\" (\"[p=0.01, l=12.00]', '\" stand\"[p=0.01, l=11.81]', '\" \\n\"[p=0.01, l=11.62]', '\" politician\"[p=0.01, l=11.62]', '\" \"[p=0.01, l=11.56]', '\" comic\"[p=0.01, l=11.38]', '\" writer\"[p=0.00, l=11.31]']\n",
      "\n",
      "\" Ariana Grande\" | cur_rng=(25, 28)\n",
      "token_idx=25 [\" Ari\"] => ['\"?\\n\"[p=0.11, l=11.75]', '\"??\"[p=0.04, l=10.88]', '\"?\"[p=0.03, l=10.62]', '\"???\"[p=0.03, l=10.56]', '\"?\\n\\n\"[p=0.03, l=10.56]', '\" unknown\"[p=0.03, l=10.50]', '\" singer\"[p=0.03, l=10.38]', '\" software\"[p=0.01, l=9.75]', '\" artist\"[p=0.01, l=9.69]', '\" astronaut\"[p=0.01, l=9.50]', '\" musician\"[p=0.01, l=9.44]', '\" politician\"[p=0.01, l=9.44]', '\" lawyer\"[p=0.01, l=9.38]', '\" (\"[p=0.01, l=9.25]', '\" \"[p=0.01, l=9.06]']\n",
      "token_idx=26 [\"ana\"] => ['\" singer\"[p=0.24, l=13.19]', '\"?\\n\"[p=0.12, l=12.50]', '\"?\"[p=0.06, l=11.81]', '\" unknown\"[p=0.05, l=11.62]', '\"??\"[p=0.04, l=11.44]', '\"?\\n\\n\"[p=0.03, l=11.25]', '\" musician\"[p=0.02, l=10.94]', '\"???\"[p=0.02, l=10.75]', '\" pop\"[p=0.02, l=10.75]', '\" artist\"[p=0.01, l=10.31]', '\" model\"[p=0.01, l=10.12]', '\" (\"[p=0.01, l=9.75]', '\" no\"[p=0.01, l=9.56]', '\" \\n\"[p=0.01, l=9.50]', '\" not\"[p=0.01, l=9.50]']\n",
      "token_idx=27 [\" Grande\"] => ['\" singer\"[p=0.56, l=15.06]', '\"?\\n\"[p=0.09, l=13.19]', '\" unknown\"[p=0.03, l=12.25]', '\"?\"[p=0.03, l=12.12]', '\"?\\n\\n\"[p=0.03, l=12.06]', '\" musician\"[p=0.02, l=11.81]', '\"??\"[p=0.02, l=11.62]', '\"???\"[p=0.01, l=10.88]', '\" \\n\"[p=0.01, l=10.81]', '\" artist\"[p=0.01, l=10.75]', '\" pop\"[p=0.01, l=10.69]', '\" actress\"[p=0.01, l=10.62]', '\" music\"[p=0.01, l=10.56]', '\" (\"[p=0.01, l=10.50]', '\" model\"[p=0.00, l=10.31]']\n",
      "\n",
      "\" Joe Scarborough\" | cur_rng=(29, 31)\n",
      "token_idx=29 [\" Joe\"] => ['\"?\\n\"[p=0.09, l=11.81]', '\" unknown\"[p=0.06, l=11.50]', '\"??\"[p=0.06, l=11.38]', '\"?\"[p=0.04, l=11.06]', '\" politician\"[p=0.04, l=11.00]', '\"???\"[p=0.03, l=10.88]', '\"?\\n\\n\"[p=0.02, l=10.56]', '\" Joe\"[p=0.02, l=10.50]', '\" no\"[p=0.02, l=10.25]', '\" programmer\"[p=0.02, l=10.19]', '\" president\"[p=0.01, l=9.88]', '\" (\"[p=0.01, l=9.88]', '\" singer\"[p=0.01, l=9.81]', '\" software\"[p=0.01, l=9.75]', '\" what\"[p=0.01, l=9.75]']\n",
      "token_idx=30 [\" Scarborough\"] => ['\" politician\"[p=0.15, l=14.56]', '\" journalist\"[p=0.14, l=14.50]', '\" news\"[p=0.10, l=14.19]', '\" TV\"[p=0.06, l=13.62]', '\"??\"[p=0.06, l=13.62]', '\"?\\n\"[p=0.06, l=13.56]', '\" political\"[p=0.05, l=13.50]', '\"?\"[p=0.03, l=12.94]', '\" television\"[p=0.03, l=12.81]', '\" unknown\"[p=0.03, l=12.75]', '\"?\\n\\n\"[p=0.03, l=12.75]', '\"???\"[p=0.02, l=12.50]', '\" (\"[p=0.01, l=12.19]', '\" tv\"[p=0.01, l=12.06]', '\" talk\"[p=0.01, l=12.06]']\n",
      "\n",
      "\" Andrey Rublev\" | cur_rng=(32, 36)\n",
      "token_idx=32 [\" And\"] => ['\"?\\n\"[p=0.10, l=11.50]', '\"?\\n\\n\"[p=0.05, l=10.75]', '\"?\"[p=0.05, l=10.75]', '\"??\"[p=0.05, l=10.69]', '\" And\"[p=0.03, l=10.19]', '\" (\"[p=0.02, l=10.00]', '\"???\"[p=0.02, l=10.00]', '\" lawyer\"[p=0.01, l=9.50]', '\" unknown\"[p=0.01, l=9.38]', '\" \\n\"[p=0.01, l=9.31]', '\"...\"[p=0.01, l=9.25]', '\" what\"[p=0.01, l=9.19]', '\" and\"[p=0.01, l=9.12]', '\" empty\"[p=0.01, l=9.00]', '\" software\"[p=0.01, l=8.94]']\n",
      "token_idx=33 [\"rey\"] => ['\" programmer\"[p=0.08, l=12.00]', '\"?\\n\"[p=0.08, l=11.94]', '\" software\"[p=0.05, l=11.56]', '\" unknown\"[p=0.03, l=11.06]', '\"?\"[p=0.03, l=11.00]', '\"?\\n\\n\"[p=0.03, l=10.81]', '\"??\"[p=0.02, l=10.69]', '\" engineer\"[p=0.02, l=10.56]', '\" entrepreneur\"[p=0.02, l=10.50]', '\"???\"[p=0.02, l=10.44]', '\" developer\"[p=0.02, l=10.38]', '\" politician\"[p=0.02, l=10.31]', '\" student\"[p=0.01, l=10.12]', '\" computer\"[p=0.01, l=10.06]', '\" artist\"[p=0.01, l=10.00]']\n",
      "token_idx=34 [\" Rub\"] => ['\"?\\n\"[p=0.06, l=10.75]', '\"??\"[p=0.04, l=10.38]', '\" unknown\"[p=0.03, l=10.19]', '\" artist\"[p=0.03, l=10.06]', '\"?\"[p=0.02, l=9.75]', '\"???\"[p=0.02, l=9.75]', '\" programmer\"[p=0.02, l=9.62]', '\" politician\"[p=0.02, l=9.62]', '\"?\\n\\n\"[p=0.02, l=9.50]', '\" (\"[p=0.01, l=9.00]', '\" chess\"[p=0.01, l=8.94]', '\" musician\"[p=0.01, l=8.94]', '\" what\"[p=0.01, l=8.88]', '\" unclear\"[p=0.01, l=8.81]', '\" software\"[p=0.01, l=8.81]']\n",
      "token_idx=35 [\"lev\"] => ['\" tennis\"[p=0.21, l=13.88]', '\"?\\n\"[p=0.17, l=13.69]', '\"?\\n\\n\"[p=0.06, l=12.69]', '\"?\"[p=0.06, l=12.62]', '\"??\"[p=0.05, l=12.44]', '\" \\n\"[p=0.02, l=11.62]', '\"???\"[p=0.02, l=11.50]', '\" (\"[p=0.02, l=11.50]', '\" athlete\"[p=0.02, l=11.44]', '\" unknown\"[p=0.01, l=11.19]', '\" \"[p=0.01, l=10.88]', '\" politician\"[p=0.01, l=10.81]', '\" what\"[p=0.01, l=10.62]', '\" professional\"[p=0.01, l=10.38]', '\" musician\"[p=0.01, l=10.31]']\n",
      "\n",
      "\" Samuel L. Jackson\" | cur_rng=(37, 41)\n",
      "token_idx=37 [\" Samuel\"] => ['\" prophet\"[p=0.31, l=13.88]', '\"?\\n\"[p=0.06, l=12.19]', '\" unknown\"[p=0.06, l=12.19]', '\"??\"[p=0.03, l=11.38]', '\" actor\"[p=0.02, l=11.12]', '\"?\"[p=0.02, l=11.00]', '\"???\"[p=0.02, l=10.94]', '\" no\"[p=0.01, l=10.62]', '\" biblical\"[p=0.01, l=10.56]', '\" Prophet\"[p=0.01, l=10.50]', '\" judge\"[p=0.01, l=10.44]', '\" singer\"[p=0.01, l=10.44]', '\" not\"[p=0.01, l=10.31]', '\" priest\"[p=0.01, l=10.12]', '\" (\"[p=0.01, l=10.12]']\n",
      "token_idx=38 [\" L\"] => ['\"?\\n\"[p=0.23, l=13.56]', '\"?\\n\\n\"[p=0.08, l=12.56]', '\"?\"[p=0.08, l=12.56]', '\"??\"[p=0.05, l=12.06]', '\" lawyer\"[p=0.03, l=11.44]', '\"???\"[p=0.03, l=11.38]', '\" software\"[p=0.02, l=11.19]', '\" \\n\"[p=0.02, l=10.88]', '\" artist\"[p=0.01, l=10.56]', '\" (\"[p=0.01, l=10.56]', '\" \"[p=0.01, l=10.56]', '\" unknown\"[p=0.01, l=10.38]', '\" engineer\"[p=0.01, l=10.25]', '\" profession\"[p=0.01, l=10.19]', '\" your\"[p=0.01, l=10.19]']\n",
      "token_idx=39 [\".\"] => ['\"?\\n\"[p=0.26, l=14.00]', '\"?\\n\\n\"[p=0.12, l=13.19]', '\"?\"[p=0.09, l=12.94]', '\"??\"[p=0.05, l=12.38]', '\" lawyer\"[p=0.03, l=11.69]', '\"???\"[p=0.02, l=11.50]', '\" software\"[p=0.02, l=11.25]', '\" \\n\"[p=0.01, l=11.12]', '\" \"[p=0.01, l=10.94]', '\" (\"[p=0.01, l=10.88]', '\" unknown\"[p=0.01, l=10.81]', '\" artist\"[p=0.01, l=10.75]', '\" programmer\"[p=0.01, l=10.56]', '\" computer\"[p=0.01, l=10.44]', '\" your\"[p=0.01, l=10.44]']\n",
      "token_idx=40 [\" Jackson\"] => ['\" actor\"[p=0.30, l=13.56]', '\"?\\n\"[p=0.08, l=12.25]', '\"??\"[p=0.06, l=11.94]', '\"?\"[p=0.04, l=11.56]', '\"?\\n\\n\"[p=0.03, l=11.31]', '\" unknown\"[p=0.03, l=11.25]', '\" singer\"[p=0.03, l=11.19]', '\"???\"[p=0.03, l=11.12]', '\" Jackson\"[p=0.01, l=10.44]', '\" politician\"[p=0.01, l=10.44]', '\" (\"[p=0.01, l=10.31]', '\" lawyer\"[p=0.01, l=9.81]', '\" what\"[p=0.01, l=9.75]', '\" \\n\"[p=0.01, l=9.69]', '\" no\"[p=0.01, l=9.62]']\n",
      "======================================================================================================================================================\n",
      "\n",
      "layer='model.layers.66'\n",
      "\n",
      "\"Ans:\" | cur_rng=(-2, 0)\n",
      "token_idx=-2 [\"Ans\"] => ['\" programmer\"[p=0.03, l=9.44]', '\" artist\"[p=0.03, l=9.19]', '\" unknown\"[p=0.02, l=9.06]', '\" answer\"[p=0.02, l=9.00]', '\" computer\"[p=0.02, l=8.94]', '\" Ans\"[p=0.02, l=8.88]', '\" actor\"[p=0.02, l=8.69]', '\" software\"[p=0.01, l=8.56]', '\"?\\n\"[p=0.01, l=8.56]', '\" Answer\"[p=0.01, l=8.50]', '\" singer\"[p=0.01, l=8.38]', '\" assistant\"[p=0.01, l=8.31]', '\" entrepreneur\"[p=0.01, l=8.25]', '\" \\n\"[p=0.01, l=8.25]', '\" politician\"[p=0.01, l=8.19]']\n",
      "token_idx=-1 [\":\"] => ['\"?\\n\"[p=0.08, l=11.44]', '\" ->\"[p=0.06, l=11.19]', '\" symbol\"[p=0.04, l=10.81]', '\" (\"[p=0.03, l=10.62]', '\" ->\\n\"[p=0.03, l=10.50]', '\" programmer\"[p=0.03, l=10.31]', '\"?\"[p=0.02, l=10.25]', '\"?\\n\\n\"[p=0.02, l=10.19]', '\" unknown\"[p=0.02, l=10.12]', '\" \\n\"[p=0.02, l=9.88]', '\" computer\"[p=0.02, l=9.81]', '\" empty\"[p=0.02, l=9.81]', '\" is\"[p=0.01, l=9.75]', '\" comedian\"[p=0.01, l=9.69]', '\" placeholder\"[p=0.01, l=9.62]']\n",
      "\n",
      "\" Trevor Noah\" | cur_rng=(13, 15)\n",
      "token_idx=13 [\" Trevor\"] => ['\"?\\n\"[p=0.12, l=12.62]', '\"??\"[p=0.06, l=11.88]', '\"?\"[p=0.05, l=11.62]', '\"???\"[p=0.04, l=11.50]', '\"?\\n\\n\"[p=0.04, l=11.50]', '\" software\"[p=0.04, l=11.50]', '\" unknown\"[p=0.04, l=11.50]', '\" entrepreneur\"[p=0.02, l=10.81]', '\" actor\"[p=0.02, l=10.75]', '\" programmer\"[p=0.02, l=10.69]', '\" data\"[p=0.01, l=10.38]', '\" student\"[p=0.01, l=10.31]', '\" engineer\"[p=0.01, l=10.31]', '\" politician\"[p=0.01, l=10.12]', '\" (\"[p=0.01, l=10.12]']\n",
      "token_idx=14 [\" Noah\"] => ['\" comedian\"[p=0.69, l=16.38]', '\"?\\n\"[p=0.04, l=13.62]', '\" unknown\"[p=0.02, l=12.81]', '\" actor\"[p=0.02, l=12.75]', '\"??\"[p=0.01, l=12.44]', '\" (\"[p=0.01, l=12.38]', '\"?\\n\\n\"[p=0.01, l=12.38]', '\"?\"[p=0.01, l=11.94]', '\" \\n\"[p=0.01, l=11.81]', '\" stand\"[p=0.01, l=11.69]', '\" talk\"[p=0.01, l=11.69]', '\" host\"[p=0.01, l=11.62]', '\" politician\"[p=0.01, l=11.62]', '\"???\"[p=0.01, l=11.50]', '\" TV\"[p=0.00, l=11.44]']\n",
      "\n",
      "\" Zion Williamson\" | cur_rng=(18, 20)\n",
      "token_idx=18 [\" Zion\"] => ['\" prophet\"[p=0.12, l=12.56]', '\"?\\n\"[p=0.10, l=12.44]', '\" unknown\"[p=0.07, l=12.00]', '\"??\"[p=0.06, l=11.94]', '\"?\"[p=0.03, l=11.19]', '\" singer\"[p=0.02, l=10.94]', '\"???\"[p=0.02, l=10.94]', '\" musician\"[p=0.02, l=10.94]', '\" no\"[p=0.02, l=10.62]', '\"?\\n\\n\"[p=0.02, l=10.56]', '\" (\"[p=0.01, l=10.44]', '\" king\"[p=0.01, l=10.38]', '\" biblical\"[p=0.01, l=10.31]', '\" politician\"[p=0.01, l=10.31]', '\" not\"[p=0.01, l=10.25]']\n",
      "token_idx=19 [\" Williamson\"] => ['\" basketball\"[p=0.64, l=15.81]', '\" unknown\"[p=0.03, l=12.62]', '\"?\\n\"[p=0.02, l=12.50]', '\"??\"[p=0.02, l=12.50]', '\" professional\"[p=0.02, l=12.19]', '\" NBA\"[p=0.02, l=12.12]', '\"?\"[p=0.01, l=11.94]', '\" athlete\"[p=0.01, l=11.94]', '\" Basketball\"[p=0.01, l=11.75]', '\" football\"[p=0.01, l=11.69]', '\"???\"[p=0.01, l=11.56]', '\" (\"[p=0.01, l=11.44]', '\" actor\"[p=0.01, l=11.25]', '\" politician\"[p=0.01, l=11.19]', '\" \\n\"[p=0.01, l=11.19]']\n",
      "\n",
      "\" John Mulaney\" | cur_rng=(21, 24)\n",
      "token_idx=21 [\" John\"] => ['\" unknown\"[p=0.07, l=12.19]', '\"?\\n\"[p=0.06, l=12.00]', '\"??\"[p=0.03, l=11.31]', '\"?\"[p=0.03, l=11.25]', '\" politician\"[p=0.03, l=11.19]', '\"???\"[p=0.02, l=11.00]', '\" no\"[p=0.02, l=10.94]', '\" programmer\"[p=0.02, l=10.81]', '\" software\"[p=0.02, l=10.75]', '\" actor\"[p=0.02, l=10.69]', '\" musician\"[p=0.02, l=10.62]', '\" evangel\"[p=0.01, l=10.56]', '\" (\"[p=0.01, l=10.44]', '\" singer\"[p=0.01, l=10.38]', '\" John\"[p=0.01, l=10.38]']\n",
      "token_idx=22 [\" Mul\"] => ['\" unknown\"[p=0.09, l=11.00]', '\"?\\n\"[p=0.04, l=10.19]', '\"??\"[p=0.04, l=10.19]', '\"???\"[p=0.03, l=9.81]', '\" politician\"[p=0.02, l=9.69]', '\" no\"[p=0.02, l=9.38]', '\" programmer\"[p=0.02, l=9.25]', '\"?\\n\\n\"[p=0.01, l=9.19]', '\" not\"[p=0.01, l=9.12]', '\" (\"[p=0.01, l=9.12]', '\"?\"[p=0.01, l=9.12]', '\" singer\"[p=0.01, l=9.12]', '\" musician\"[p=0.01, l=9.06]', '\" computer\"[p=0.01, l=9.06]', '\" artist\"[p=0.01, l=8.94]']\n",
      "token_idx=23 [\"aney\"] => ['\" comedian\"[p=0.50, l=15.88]', '\"?\\n\"[p=0.13, l=14.50]', '\"?\\n\\n\"[p=0.05, l=13.50]', '\"??\"[p=0.04, l=13.44]', '\"?\"[p=0.03, l=13.12]', '\"???\"[p=0.02, l=12.62]', '\" unknown\"[p=0.02, l=12.56]', '\" actor\"[p=0.02, l=12.56]', '\" (\"[p=0.01, l=12.00]', '\" politician\"[p=0.01, l=11.88]', '\" stand\"[p=0.01, l=11.75]', '\" \\n\"[p=0.01, l=11.56]', '\" \"[p=0.01, l=11.50]', '\" comic\"[p=0.01, l=11.31]', '\" writer\"[p=0.01, l=11.31]']\n",
      "\n",
      "\" Ariana Grande\" | cur_rng=(25, 28)\n",
      "token_idx=25 [\" Ari\"] => ['\"?\\n\"[p=0.12, l=11.75]', '\"??\"[p=0.05, l=10.94]', '\"?\"[p=0.04, l=10.62]', '\"???\"[p=0.04, l=10.62]', '\"?\\n\\n\"[p=0.03, l=10.38]', '\" unknown\"[p=0.03, l=10.31]', '\" singer\"[p=0.02, l=10.12]', '\" software\"[p=0.01, l=9.50]', '\" artist\"[p=0.01, l=9.44]', '\" astronaut\"[p=0.01, l=9.31]', '\" politician\"[p=0.01, l=9.31]', '\" (\"[p=0.01, l=9.25]', '\" lawyer\"[p=0.01, l=9.25]', '\" musician\"[p=0.01, l=9.12]', '\" \"[p=0.01, l=9.00]']\n",
      "token_idx=26 [\"ana\"] => ['\" singer\"[p=0.29, l=13.62]', '\"?\\n\"[p=0.11, l=12.69]', '\"?\"[p=0.06, l=12.00]', '\" unknown\"[p=0.04, l=11.75]', '\"??\"[p=0.04, l=11.56]', '\"?\\n\\n\"[p=0.03, l=11.31]', '\" musician\"[p=0.03, l=11.25]', '\" pop\"[p=0.02, l=11.00]', '\"???\"[p=0.02, l=10.88]', '\" artist\"[p=0.01, l=10.56]', '\" model\"[p=0.01, l=10.38]', '\" (\"[p=0.01, l=9.94]', '\" no\"[p=0.01, l=9.81]', '\" \\n\"[p=0.01, l=9.75]', '\" what\"[p=0.01, l=9.69]']\n",
      "token_idx=27 [\" Grande\"] => ['\" singer\"[p=0.42, l=14.31]', '\"?\\n\"[p=0.11, l=12.94]', '\" unknown\"[p=0.04, l=11.94]', '\"?\\n\\n\"[p=0.04, l=11.94]', '\"?\"[p=0.04, l=11.94]', '\"??\"[p=0.03, l=11.50]', '\" musician\"[p=0.03, l=11.50]', '\"???\"[p=0.01, l=10.75]', '\" artist\"[p=0.01, l=10.69]', '\" \\n\"[p=0.01, l=10.62]', '\" (\"[p=0.01, l=10.38]', '\" actress\"[p=0.01, l=10.25]', '\" actor\"[p=0.01, l=10.19]', '\" music\"[p=0.01, l=10.12]', '\" pop\"[p=0.01, l=10.00]']\n",
      "\n",
      "\" Joe Scarborough\" | cur_rng=(29, 31)\n",
      "token_idx=29 [\" Joe\"] => ['\"?\\n\"[p=0.08, l=11.75]', '\" unknown\"[p=0.07, l=11.62]', '\"??\"[p=0.05, l=11.38]', '\"?\"[p=0.04, l=11.00]', '\"???\"[p=0.03, l=10.94]', '\" politician\"[p=0.03, l=10.94]', '\" Joe\"[p=0.02, l=10.56]', '\"?\\n\\n\"[p=0.02, l=10.44]', '\" no\"[p=0.02, l=10.38]', '\" programmer\"[p=0.02, l=10.31]', '\" (\"[p=0.01, l=10.00]', '\" software\"[p=0.01, l=9.88]', '\" president\"[p=0.01, l=9.81]', '\" what\"[p=0.01, l=9.75]', '\" not\"[p=0.01, l=9.75]']\n",
      "token_idx=30 [\" Scarborough\"] => ['\" politician\"[p=0.19, l=14.56]', '\" journalist\"[p=0.16, l=14.38]', '\" news\"[p=0.08, l=13.69]', '\"??\"[p=0.06, l=13.44]', '\" political\"[p=0.05, l=13.25]', '\"?\\n\"[p=0.05, l=13.25]', '\" TV\"[p=0.04, l=13.12]', '\"?\"[p=0.03, l=12.69]', '\" television\"[p=0.02, l=12.50]', '\"?\\n\\n\"[p=0.02, l=12.44]', '\"???\"[p=0.02, l=12.44]', '\" unknown\"[p=0.02, l=12.31]', '\" (\"[p=0.01, l=11.81]', '\" tv\"[p=0.01, l=11.62]', '\" talk\"[p=0.01, l=11.50]']\n",
      "\n",
      "\" Andrey Rublev\" | cur_rng=(32, 36)\n",
      "token_idx=32 [\" And\"] => ['\"?\\n\"[p=0.11, l=11.44]', '\"?\"[p=0.05, l=10.62]', '\"??\"[p=0.04, l=10.56]', '\"?\\n\\n\"[p=0.04, l=10.50]', '\" And\"[p=0.02, l=9.94]', '\"???\"[p=0.02, l=9.81]', '\" (\"[p=0.02, l=9.69]', '\" unknown\"[p=0.01, l=9.38]', '\" lawyer\"[p=0.01, l=9.31]', '\" what\"[p=0.01, l=9.12]', '\" \\n\"[p=0.01, l=9.12]', '\" software\"[p=0.01, l=8.94]', '\" empty\"[p=0.01, l=8.94]', '\"...\"[p=0.01, l=8.88]', '\" and\"[p=0.01, l=8.88]']\n",
      "token_idx=33 [\"rey\"] => ['\"?\\n\"[p=0.09, l=12.00]', '\" programmer\"[p=0.06, l=11.62]', '\"?\"[p=0.04, l=11.12]', '\"?\\n\\n\"[p=0.03, l=11.00]', '\" software\"[p=0.03, l=10.94]', '\" unknown\"[p=0.03, l=10.88]', '\"??\"[p=0.03, l=10.81]', '\" entrepreneur\"[p=0.02, l=10.56]', '\"???\"[p=0.02, l=10.56]', '\" politician\"[p=0.02, l=10.31]', '\" engineer\"[p=0.02, l=10.25]', '\" artist\"[p=0.01, l=10.00]', '\" student\"[p=0.01, l=9.88]', '\" computer\"[p=0.01, l=9.81]', '\" developer\"[p=0.01, l=9.75]']\n",
      "token_idx=34 [\" Rub\"] => ['\"?\\n\"[p=0.07, l=10.88]', '\"??\"[p=0.05, l=10.56]', '\" unknown\"[p=0.05, l=10.50]', '\"???\"[p=0.04, l=10.19]', '\"?\"[p=0.03, l=10.12]', '\" politician\"[p=0.03, l=9.88]', '\"?\\n\\n\"[p=0.03, l=9.88]', '\" artist\"[p=0.02, l=9.75]', '\" programmer\"[p=0.02, l=9.38]', '\" not\"[p=0.01, l=9.19]', '\" no\"[p=0.01, l=9.00]', '\" (\"[p=0.01, l=9.00]', '\" musician\"[p=0.01, l=8.88]', '\" unclear\"[p=0.01, l=8.81]', '\" software\"[p=0.01, l=8.69]']\n",
      "token_idx=35 [\"lev\"] => ['\"?\\n\"[p=0.19, l=13.44]', '\" tennis\"[p=0.11, l=12.88]', '\"?\\n\\n\"[p=0.07, l=12.44]', '\"?\"[p=0.06, l=12.31]', '\"??\"[p=0.05, l=12.12]', '\" \\n\"[p=0.02, l=11.25]', '\"???\"[p=0.02, l=11.25]', '\" (\"[p=0.02, l=11.06]', '\" politician\"[p=0.02, l=10.94]', '\" athlete\"[p=0.02, l=10.94]', '\" lawyer\"[p=0.01, l=10.75]', '\" unknown\"[p=0.01, l=10.62]', '\" \"[p=0.01, l=10.38]', '\" artist\"[p=0.01, l=10.19]', '\" what\"[p=0.01, l=10.12]']\n",
      "\n",
      "\" Samuel L. Jackson\" | cur_rng=(37, 41)\n",
      "token_idx=37 [\" Samuel\"] => ['\" prophet\"[p=0.18, l=13.06]', '\"?\\n\"[p=0.09, l=12.31]', '\" unknown\"[p=0.06, l=12.00]', '\"??\"[p=0.03, l=11.38]', '\"?\"[p=0.03, l=11.12]', '\"???\"[p=0.03, l=11.06]', '\" actor\"[p=0.02, l=10.88]', '\" no\"[p=0.01, l=10.50]', '\"?\\n\\n\"[p=0.01, l=10.31]', '\" priest\"[p=0.01, l=10.25]', '\" not\"[p=0.01, l=10.19]', '\" (\"[p=0.01, l=10.06]', '\" singer\"[p=0.01, l=10.06]', '\" Prophet\"[p=0.01, l=9.94]', '\" judge\"[p=0.01, l=9.88]']\n",
      "token_idx=38 [\" L\"] => ['\"?\\n\"[p=0.24, l=13.75]', '\"?\"[p=0.11, l=12.94]', '\"?\\n\\n\"[p=0.10, l=12.88]', '\"??\"[p=0.06, l=12.31]', '\"???\"[p=0.03, l=11.62]', '\" lawyer\"[p=0.03, l=11.62]', '\" software\"[p=0.02, l=11.25]', '\" \\n\"[p=0.01, l=10.94]', '\" (\"[p=0.01, l=10.75]', '\" artist\"[p=0.01, l=10.62]', '\" \"[p=0.01, l=10.56]', '\" unknown\"[p=0.01, l=10.31]', '\" engineer\"[p=0.01, l=10.31]', '\" your\"[p=0.01, l=10.25]', '\" actor\"[p=0.01, l=10.19]']\n",
      "token_idx=39 [\".\"] => ['\"?\\n\"[p=0.27, l=13.81]', '\"?\\n\\n\"[p=0.12, l=13.06]', '\"?\"[p=0.10, l=12.81]', '\"??\"[p=0.05, l=12.06]', '\" lawyer\"[p=0.02, l=11.38]', '\" unknown\"[p=0.02, l=11.00]', '\" (\"[p=0.01, l=10.94]', '\"???\"[p=0.01, l=10.88]', '\" \\n\"[p=0.01, l=10.88]', '\" software\"[p=0.01, l=10.75]', '\" \"[p=0.01, l=10.62]', '\" your\"[p=0.01, l=10.56]', '\" artist\"[p=0.01, l=10.25]', '\" computer\"[p=0.01, l=10.06]', '\" person\"[p=0.01, l=10.06]']\n",
      "token_idx=40 [\" Jackson\"] => ['\" actor\"[p=0.18, l=12.81]', '\"?\\n\"[p=0.10, l=12.19]', '\"??\"[p=0.07, l=11.88]', '\"?\"[p=0.04, l=11.44]', '\"?\\n\\n\"[p=0.04, l=11.25]', '\" unknown\"[p=0.03, l=11.12]', '\"???\"[p=0.03, l=11.06]', '\" singer\"[p=0.03, l=11.00]', '\" politician\"[p=0.02, l=10.50]', '\" (\"[p=0.01, l=10.12]', '\" Jackson\"[p=0.01, l=10.06]', '\" programmer\"[p=0.01, l=10.00]', '\" lawyer\"[p=0.01, l=9.88]', '\" software\"[p=0.01, l=9.81]', '\" computer\"[p=0.01, l=9.69]']\n",
      "======================================================================================================================================================\n",
      "\n",
      "layer='model.layers.69'\n",
      "\n",
      "\"Ans:\" | cur_rng=(-2, 0)\n",
      "token_idx=-2 [\"Ans\"] => ['\" unknown\"[p=0.03, l=9.00]', '\"?\\n\"[p=0.02, l=8.88]', '\" answer\"[p=0.02, l=8.88]', '\" artist\"[p=0.02, l=8.62]', '\" computer\"[p=0.02, l=8.44]', '\" programmer\"[p=0.02, l=8.44]', '\" Answer\"[p=0.01, l=8.38]', '\" Ans\"[p=0.01, l=8.19]', '\" entrepreneur\"[p=0.01, l=8.12]', '\" actor\"[p=0.01, l=8.06]', '\" person\"[p=0.01, l=7.97]', '\" politician\"[p=0.01, l=7.88]', '\" assistant\"[p=0.01, l=7.84]', '\" \\n\"[p=0.01, l=7.84]', '\" software\"[p=0.01, l=7.75]']\n",
      "token_idx=-1 [\":\"] => ['\"?\\n\"[p=0.07, l=11.25]', '\" ->\"[p=0.06, l=11.19]', '\" (\"[p=0.03, l=10.50]', '\" symbol\"[p=0.03, l=10.44]', '\" programmer\"[p=0.03, l=10.38]', '\" placeholder\"[p=0.03, l=10.38]', '\" ->\\n\"[p=0.03, l=10.25]', '\" unknown\"[p=0.02, l=10.12]', '\"?\"[p=0.02, l=10.12]', '\"?\\n\\n\"[p=0.02, l=10.06]', '\" computer\"[p=0.02, l=10.00]', '\" \\n\"[p=0.02, l=9.88]', '\" actor\"[p=0.02, l=9.81]', '\" None\"[p=0.02, l=9.81]', '\" empty\"[p=0.02, l=9.75]']\n",
      "\n",
      "\" Trevor Noah\" | cur_rng=(13, 15)\n",
      "token_idx=13 [\" Trevor\"] => ['\"?\\n\"[p=0.14, l=12.88]', '\"??\"[p=0.06, l=12.06]', '\"?\"[p=0.05, l=11.81]', '\"?\\n\\n\"[p=0.05, l=11.75]', '\"???\"[p=0.04, l=11.69]', '\" unknown\"[p=0.04, l=11.69]', '\" software\"[p=0.03, l=11.44]', '\" entrepreneur\"[p=0.02, l=10.94]', '\" programmer\"[p=0.02, l=10.75]', '\" actor\"[p=0.01, l=10.50]', '\" engineer\"[p=0.01, l=10.44]', '\" student\"[p=0.01, l=10.25]', '\" politician\"[p=0.01, l=10.19]', '\" (\"[p=0.01, l=10.19]', '\" data\"[p=0.01, l=10.12]']\n",
      "token_idx=14 [\" Noah\"] => ['\" comedian\"[p=0.68, l=16.12]', '\"?\\n\"[p=0.03, l=13.12]', '\" unknown\"[p=0.02, l=12.81]', '\" actor\"[p=0.02, l=12.69]', '\" (\"[p=0.01, l=12.19]', '\"??\"[p=0.01, l=12.00]', '\" stand\"[p=0.01, l=11.81]', '\"?\\n\\n\"[p=0.01, l=11.62]', '\" \\n\"[p=0.01, l=11.56]', '\" Com\"[p=0.01, l=11.38]', '\"?\"[p=0.01, l=11.38]', '\" TV\"[p=0.01, l=11.25]', '\" politician\"[p=0.01, l=11.25]', '\"???\"[p=0.00, l=11.19]', '\" \"[p=0.00, l=11.12]']\n",
      "\n",
      "\" Zion Williamson\" | cur_rng=(18, 20)\n",
      "token_idx=18 [\" Zion\"] => ['\" prophet\"[p=0.14, l=12.88]', '\"?\\n\"[p=0.10, l=12.50]', '\" unknown\"[p=0.06, l=12.06]', '\"??\"[p=0.06, l=12.00]', '\"?\"[p=0.03, l=11.19]', '\"???\"[p=0.02, l=11.06]', '\" musician\"[p=0.02, l=10.94]', '\" king\"[p=0.02, l=10.75]', '\" singer\"[p=0.02, l=10.75]', '\" no\"[p=0.02, l=10.62]', '\" biblical\"[p=0.01, l=10.50]', '\" (\"[p=0.01, l=10.50]', '\"?\\n\\n\"[p=0.01, l=10.50]', '\" politician\"[p=0.01, l=10.44]', '\" not\"[p=0.01, l=10.25]']\n",
      "token_idx=19 [\" Williamson\"] => ['\" basketball\"[p=0.68, l=16.12]', '\" unknown\"[p=0.02, l=12.69]', '\" professional\"[p=0.02, l=12.62]', '\"??\"[p=0.02, l=12.50]', '\"?\\n\"[p=0.02, l=12.44]', '\" NBA\"[p=0.01, l=12.25]', '\" athlete\"[p=0.01, l=12.12]', '\" football\"[p=0.01, l=12.12]', '\" Basketball\"[p=0.01, l=12.00]', '\"?\"[p=0.01, l=11.88]', '\" actor\"[p=0.01, l=11.62]', '\" (\"[p=0.01, l=11.62]', '\"???\"[p=0.01, l=11.50]', '\" \\n\"[p=0.01, l=11.31]', '\" \"[p=0.00, l=11.19]']\n",
      "\n",
      "\" John Mulaney\" | cur_rng=(21, 24)\n",
      "token_idx=21 [\" John\"] => ['\" unknown\"[p=0.06, l=12.00]', '\"?\\n\"[p=0.05, l=11.75]', '\" politician\"[p=0.03, l=11.25]', '\"??\"[p=0.03, l=11.19]', '\" software\"[p=0.03, l=11.12]', '\" programmer\"[p=0.02, l=11.00]', '\"?\"[p=0.02, l=10.94]', '\"???\"[p=0.02, l=10.94]', '\" actor\"[p=0.02, l=10.88]', '\" musician\"[p=0.02, l=10.81]', '\" no\"[p=0.01, l=10.56]', '\" singer\"[p=0.01, l=10.56]', '\" evangel\"[p=0.01, l=10.50]', '\" lawyer\"[p=0.01, l=10.31]', '\" (\"[p=0.01, l=10.31]']\n",
      "token_idx=22 [\" Mul\"] => ['\" unknown\"[p=0.09, l=11.06]', '\"?\\n\"[p=0.04, l=10.12]', '\"??\"[p=0.03, l=10.06]', '\" politician\"[p=0.03, l=9.88]', '\"???\"[p=0.02, l=9.75]', '\" singer\"[p=0.02, l=9.44]', '\" programmer\"[p=0.02, l=9.38]', '\" musician\"[p=0.02, l=9.31]', '\" no\"[p=0.02, l=9.31]', '\" computer\"[p=0.01, l=9.25]', '\" artist\"[p=0.01, l=9.12]', '\" not\"[p=0.01, l=9.12]', '\"?\\n\\n\"[p=0.01, l=9.06]', '\"?\"[p=0.01, l=9.06]', '\" (\"[p=0.01, l=9.00]']\n",
      "token_idx=23 [\"aney\"] => ['\" comedian\"[p=0.52, l=15.88]', '\"?\\n\"[p=0.12, l=14.38]', '\"??\"[p=0.04, l=13.38]', '\"?\\n\\n\"[p=0.04, l=13.19]', '\"?\"[p=0.03, l=13.00]', '\" unknown\"[p=0.02, l=12.81]', '\"???\"[p=0.02, l=12.56]', '\" actor\"[p=0.02, l=12.44]', '\" (\"[p=0.01, l=12.00]', '\" politician\"[p=0.01, l=11.94]', '\" stand\"[p=0.01, l=11.88]', '\" \\n\"[p=0.01, l=11.38]', '\" \"[p=0.01, l=11.38]', '\" comic\"[p=0.01, l=11.25]', '\" writer\"[p=0.00, l=11.19]']\n",
      "\n",
      "\" Ariana Grande\" | cur_rng=(25, 28)\n",
      "token_idx=25 [\" Ari\"] => ['\"?\\n\"[p=0.10, l=11.50]', '\"??\"[p=0.05, l=10.75]', '\"???\"[p=0.03, l=10.38]', '\"?\"[p=0.03, l=10.31]', '\" unknown\"[p=0.03, l=10.12]', '\"?\\n\\n\"[p=0.02, l=10.00]', '\" singer\"[p=0.02, l=9.94]', '\" politician\"[p=0.01, l=9.31]', '\" artist\"[p=0.01, l=9.31]', '\" lawyer\"[p=0.01, l=9.31]', '\" software\"[p=0.01, l=9.25]', '\" (\"[p=0.01, l=9.12]', '\" astronaut\"[p=0.01, l=9.06]', '\" Ari\"[p=0.01, l=8.94]', '\" musician\"[p=0.01, l=8.94]']\n",
      "token_idx=26 [\"ana\"] => ['\" singer\"[p=0.29, l=13.75]', '\"?\\n\"[p=0.11, l=12.81]', '\"?\"[p=0.05, l=12.06]', '\" unknown\"[p=0.05, l=11.94]', '\"??\"[p=0.04, l=11.75]', '\" musician\"[p=0.03, l=11.50]', '\"?\\n\\n\"[p=0.03, l=11.38]', '\" pop\"[p=0.02, l=11.12]', '\"???\"[p=0.02, l=11.00]', '\" artist\"[p=0.01, l=10.62]', '\" model\"[p=0.01, l=10.56]', '\" (\"[p=0.01, l=10.19]', '\" no\"[p=0.01, l=10.00]', '\" what\"[p=0.01, l=9.88]', '\" \\n\"[p=0.01, l=9.88]']\n",
      "token_idx=27 [\" Grande\"] => ['\" singer\"[p=0.42, l=14.25]', '\"?\\n\"[p=0.09, l=12.75]', '\" unknown\"[p=0.04, l=12.00]', '\"?\"[p=0.03, l=11.69]', '\" musician\"[p=0.03, l=11.62]', '\"?\\n\\n\"[p=0.03, l=11.62]', '\"??\"[p=0.02, l=11.31]', '\" artist\"[p=0.01, l=10.75]', '\" \\n\"[p=0.01, l=10.62]', '\"???\"[p=0.01, l=10.62]', '\" (\"[p=0.01, l=10.38]', '\" actor\"[p=0.01, l=10.25]', '\" music\"[p=0.01, l=10.19]', '\" actress\"[p=0.01, l=9.94]', '\" pop\"[p=0.01, l=9.94]']\n",
      "\n",
      "\" Joe Scarborough\" | cur_rng=(29, 31)\n",
      "token_idx=29 [\" Joe\"] => ['\"?\\n\"[p=0.08, l=11.81]', '\" unknown\"[p=0.07, l=11.62]', '\"??\"[p=0.06, l=11.56]', '\"???\"[p=0.04, l=11.12]', '\"?\"[p=0.04, l=11.12]', '\" politician\"[p=0.03, l=10.81]', '\" Joe\"[p=0.02, l=10.62]', '\"?\\n\\n\"[p=0.02, l=10.56]', '\" programmer\"[p=0.02, l=10.50]', '\" no\"[p=0.02, l=10.31]', '\" software\"[p=0.01, l=10.06]', '\" (\"[p=0.01, l=10.00]', '\" what\"[p=0.01, l=9.81]', '\" president\"[p=0.01, l=9.81]', '\" not\"[p=0.01, l=9.69]']\n",
      "token_idx=30 [\" Scarborough\"] => ['\" politician\"[p=0.22, l=14.44]', '\" journalist\"[p=0.15, l=14.06]', '\" news\"[p=0.09, l=13.56]', '\" political\"[p=0.05, l=13.00]', '\" TV\"[p=0.04, l=12.75]', '\"??\"[p=0.04, l=12.62]', '\" television\"[p=0.03, l=12.44]', '\"?\\n\"[p=0.03, l=12.44]', '\" unknown\"[p=0.02, l=12.06]', '\"?\"[p=0.02, l=11.94]', '\"???\"[p=0.01, l=11.75]', '\" meteor\"[p=0.01, l=11.69]', '\" (\"[p=0.01, l=11.56]', '\"?\\n\\n\"[p=0.01, l=11.44]', '\" tv\"[p=0.01, l=11.38]']\n",
      "\n",
      "\" Andrey Rublev\" | cur_rng=(32, 36)\n",
      "token_idx=32 [\" And\"] => ['\"?\\n\"[p=0.09, l=11.25]', '\"?\"[p=0.05, l=10.56]', '\"??\"[p=0.04, l=10.50]', '\"?\\n\\n\"[p=0.04, l=10.31]', '\" And\"[p=0.03, l=10.06]', '\"???\"[p=0.02, l=9.81]', '\" (\"[p=0.02, l=9.75]', '\" unknown\"[p=0.02, l=9.44]', '\" lawyer\"[p=0.01, l=9.38]', '\" what\"[p=0.01, l=9.12]', '\" \\n\"[p=0.01, l=9.06]', '\" empty\"[p=0.01, l=8.94]', '\"...\"[p=0.01, l=8.94]', '\" software\"[p=0.01, l=8.94]', '\" politician\"[p=0.01, l=8.88]']\n",
      "token_idx=33 [\"rey\"] => ['\"?\\n\"[p=0.09, l=12.12]', '\" programmer\"[p=0.06, l=11.69]', '\"?\"[p=0.04, l=11.25]', '\"?\\n\\n\"[p=0.04, l=11.19]', '\" unknown\"[p=0.03, l=11.12]', '\"??\"[p=0.03, l=11.00]', '\" software\"[p=0.03, l=10.94]', '\" entrepreneur\"[p=0.03, l=10.88]', '\"???\"[p=0.02, l=10.75]', '\" politician\"[p=0.02, l=10.62]', '\" engineer\"[p=0.02, l=10.31]', '\" artist\"[p=0.01, l=10.25]', '\" student\"[p=0.01, l=9.88]', '\" not\"[p=0.01, l=9.88]', '\" astronaut\"[p=0.01, l=9.88]']\n",
      "token_idx=34 [\" Rub\"] => ['\"?\\n\"[p=0.08, l=11.19]', '\"??\"[p=0.07, l=11.00]', '\" unknown\"[p=0.05, l=10.75]', '\"?\"[p=0.04, l=10.50]', '\"???\"[p=0.04, l=10.44]', '\"?\\n\\n\"[p=0.04, l=10.44]', '\" politician\"[p=0.03, l=10.12]', '\" programmer\"[p=0.02, l=9.62]', '\" artist\"[p=0.02, l=9.50]', '\" not\"[p=0.01, l=9.19]', '\" software\"[p=0.01, l=9.12]', '\" (\"[p=0.01, l=9.06]', '\" no\"[p=0.01, l=9.00]', '\" what\"[p=0.01, l=8.94]', '\" entrepreneur\"[p=0.01, l=8.88]']\n",
      "token_idx=35 [\"lev\"] => ['\" tennis\"[p=0.21, l=13.75]', '\"?\\n\"[p=0.17, l=13.50]', '\"?\"[p=0.06, l=12.50]', '\"?\\n\\n\"[p=0.05, l=12.31]', '\"??\"[p=0.04, l=12.12]', '\" athlete\"[p=0.02, l=11.44]', '\" \\n\"[p=0.02, l=11.38]', '\"???\"[p=0.02, l=11.38]', '\" (\"[p=0.02, l=11.25]', '\" politician\"[p=0.02, l=11.12]', '\" unknown\"[p=0.02, l=11.12]', '\" \"[p=0.01, l=10.69]', '\" what\"[p=0.01, l=10.69]', '\" professional\"[p=0.01, l=10.38]', '\" musician\"[p=0.01, l=10.25]']\n",
      "\n",
      "\" Samuel L. Jackson\" | cur_rng=(37, 41)\n",
      "token_idx=37 [\" Samuel\"] => ['\" prophet\"[p=0.12, l=12.44]', '\"?\\n\"[p=0.09, l=12.12]', '\" unknown\"[p=0.06, l=11.81]', '\"??\"[p=0.03, l=11.19]', '\"???\"[p=0.03, l=11.00]', '\"?\"[p=0.03, l=11.00]', '\" actor\"[p=0.02, l=10.88]', '\"?\\n\\n\"[p=0.01, l=10.19]', '\" no\"[p=0.01, l=10.19]', '\" programmer\"[p=0.01, l=10.00]', '\" not\"[p=0.01, l=10.00]', '\" priest\"[p=0.01, l=10.00]', '\" singer\"[p=0.01, l=9.94]', '\" (\"[p=0.01, l=9.81]', '\" teacher\"[p=0.01, l=9.75]']\n",
      "token_idx=38 [\" L\"] => ['\"?\\n\"[p=0.25, l=13.69]', '\"?\"[p=0.12, l=12.94]', '\"?\\n\\n\"[p=0.11, l=12.88]', '\"??\"[p=0.06, l=12.19]', '\" lawyer\"[p=0.03, l=11.50]', '\"???\"[p=0.03, l=11.50]', '\" software\"[p=0.02, l=11.00]', '\" \\n\"[p=0.01, l=10.75]', '\" (\"[p=0.01, l=10.56]', '\" artist\"[p=0.01, l=10.50]', '\" unknown\"[p=0.01, l=10.50]', '\" \"[p=0.01, l=10.44]', '\" entrepreneur\"[p=0.01, l=10.25]', '\" engineer\"[p=0.01, l=10.25]', '\" your\"[p=0.01, l=10.06]']\n",
      "token_idx=39 [\".\"] => ['\"?\\n\"[p=0.32, l=14.31]', '\"?\\n\\n\"[p=0.14, l=13.50]', '\"?\"[p=0.10, l=13.19]', '\"??\"[p=0.04, l=12.25]', '\" lawyer\"[p=0.02, l=11.62]', '\" \\n\"[p=0.01, l=11.19]', '\"???\"[p=0.01, l=11.06]', '\" software\"[p=0.01, l=11.00]', '\" \"[p=0.01, l=11.00]', '\" unknown\"[p=0.01, l=11.00]', '\" (\"[p=0.01, l=10.88]', '\" your\"[p=0.01, l=10.62]', '\" artist\"[p=0.01, l=10.44]', '\" programmer\"[p=0.01, l=10.25]', '\" computer\"[p=0.01, l=10.25]']\n",
      "token_idx=40 [\" Jackson\"] => ['\" actor\"[p=0.18, l=12.94]', '\"?\\n\"[p=0.08, l=12.12]', '\"??\"[p=0.07, l=11.94]', '\" unknown\"[p=0.04, l=11.50]', '\"?\"[p=0.04, l=11.44]', '\" singer\"[p=0.04, l=11.38]', '\"???\"[p=0.03, l=11.12]', '\"?\\n\\n\"[p=0.03, l=11.06]', '\" programmer\"[p=0.02, l=10.75]', '\" politician\"[p=0.02, l=10.62]', '\" Jackson\"[p=0.01, l=10.44]', '\" (\"[p=0.01, l=10.19]', '\" software\"[p=0.01, l=10.12]', '\" computer\"[p=0.01, l=10.06]', '\" no\"[p=0.01, l=9.88]']\n",
      "======================================================================================================================================================\n",
      "\n",
      "layer='model.layers.72'\n",
      "\n",
      "\"Ans:\" | cur_rng=(-2, 0)\n",
      "token_idx=-2 [\"Ans\"] => ['\"?\\n\"[p=0.03, l=9.38]', '\" programmer\"[p=0.03, l=9.38]', '\" unknown\"[p=0.03, l=9.31]', '\" arrow\"[p=0.02, l=9.00]', '\" computer\"[p=0.02, l=9.00]', '\" artist\"[p=0.02, l=8.69]', '\" answer\"[p=0.01, l=8.56]', '\" (\"[p=0.01, l=8.31]', '\" assistant\"[p=0.01, l=8.25]', '\" software\"[p=0.01, l=8.25]', '\" ->\"[p=0.01, l=7.97]', '\" Ans\"[p=0.01, l=7.94]', '\" \\n\"[p=0.01, l=7.91]', '\" actor\"[p=0.01, l=7.84]', '\" not\"[p=0.01, l=7.84]']\n",
      "token_idx=-1 [\":\"] => ['\" ->\"[p=0.07, l=11.19]', '\"?\\n\"[p=0.07, l=11.12]', '\" (\"[p=0.03, l=10.44]', '\" ->\\n\"[p=0.03, l=10.31]', '\" symbol\"[p=0.02, l=10.12]', '\"?\"[p=0.02, l=10.00]', '\"?\\n\\n\"[p=0.02, l=9.88]', '\" unknown\"[p=0.02, l=9.81]', '\" \\n\"[p=0.02, l=9.81]', '\" None\"[p=0.02, l=9.69]', '\" computer\"[p=0.02, l=9.69]', '\" is\"[p=0.02, l=9.69]', '\" placeholder\"[p=0.01, l=9.56]', '\" profession\"[p=0.01, l=9.56]', '\" programmer\"[p=0.01, l=9.56]']\n",
      "\n",
      "\" Trevor Noah\" | cur_rng=(13, 15)\n",
      "token_idx=13 [\" Trevor\"] => ['\"?\\n\"[p=0.16, l=13.00]', '\"??\"[p=0.07, l=12.12]', '\"?\\n\\n\"[p=0.06, l=12.00]', '\" unknown\"[p=0.05, l=11.94]', '\"?\"[p=0.05, l=11.88]', '\"???\"[p=0.05, l=11.75]', '\" software\"[p=0.03, l=11.25]', '\" entrepreneur\"[p=0.02, l=10.81]', '\" programmer\"[p=0.02, l=10.75]', '\" actor\"[p=0.01, l=10.44]', '\" (\"[p=0.01, l=10.31]', '\" engineer\"[p=0.01, l=10.25]', '\" politician\"[p=0.01, l=10.19]', '\" not\"[p=0.01, l=10.19]', '\" student\"[p=0.01, l=10.12]']\n",
      "token_idx=14 [\" Noah\"] => ['\" comedian\"[p=0.34, l=14.00]', '\"?\\n\"[p=0.05, l=12.19]', '\" unknown\"[p=0.05, l=12.19]', '\" actor\"[p=0.04, l=11.88]', '\" software\"[p=0.02, l=11.25]', '\"??\"[p=0.02, l=11.12]', '\" (\"[p=0.02, l=10.94]', '\" programmer\"[p=0.01, l=10.88]', '\"?\\n\\n\"[p=0.01, l=10.88]', '\" None\"[p=0.01, l=10.81]', '\" singer\"[p=0.01, l=10.75]', '\" \\n\"[p=0.01, l=10.75]', '\" computer\"[p=0.01, l=10.62]', '\"?\"[p=0.01, l=10.44]', '\" politician\"[p=0.01, l=10.38]']\n",
      "\n",
      "\" Zion Williamson\" | cur_rng=(18, 20)\n",
      "token_idx=18 [\" Zion\"] => ['\" prophet\"[p=0.13, l=12.75]', '\"?\\n\"[p=0.12, l=12.62]', '\"??\"[p=0.08, l=12.25]', '\" unknown\"[p=0.07, l=12.12]', '\"?\"[p=0.04, l=11.50]', '\"???\"[p=0.03, l=11.38]', '\"?\\n\\n\"[p=0.02, l=10.88]', '\" no\"[p=0.02, l=10.69]', '\" musician\"[p=0.01, l=10.56]', '\" (\"[p=0.01, l=10.50]', '\" king\"[p=0.01, l=10.50]', '\" not\"[p=0.01, l=10.31]', '\" singer\"[p=0.01, l=10.31]', '\" \"[p=0.01, l=10.19]', '\" \\n\"[p=0.01, l=10.06]']\n",
      "token_idx=19 [\" Williamson\"] => ['\" basketball\"[p=0.57, l=15.56]', '\" unknown\"[p=0.03, l=12.75]', '\"?\\n\"[p=0.03, l=12.69]', '\"??\"[p=0.03, l=12.44]', '\" professional\"[p=0.02, l=12.31]', '\" athlete\"[p=0.02, l=12.31]', '\" NBA\"[p=0.01, l=11.88]', '\"?\"[p=0.01, l=11.88]', '\" football\"[p=0.01, l=11.81]', '\" actor\"[p=0.01, l=11.56]', '\"???\"[p=0.01, l=11.50]', '\" \\n\"[p=0.01, l=11.31]', '\" (\"[p=0.01, l=11.31]', '\" software\"[p=0.01, l=11.12]', '\" Basketball\"[p=0.01, l=10.94]']\n",
      "\n",
      "\" John Mulaney\" | cur_rng=(21, 24)\n",
      "token_idx=21 [\" John\"] => ['\" unknown\"[p=0.06, l=12.19]', '\"?\\n\"[p=0.04, l=11.81]', '\" politician\"[p=0.03, l=11.50]', '\" prophet\"[p=0.02, l=11.31]', '\" software\"[p=0.02, l=11.31]', '\"??\"[p=0.02, l=11.31]', '\" evangel\"[p=0.02, l=11.25]', '\" actor\"[p=0.02, l=11.12]', '\" musician\"[p=0.02, l=11.00]', '\"???\"[p=0.02, l=11.00]', '\"?\"[p=0.02, l=10.88]', '\" no\"[p=0.02, l=10.88]', '\" programmer\"[p=0.01, l=10.81]', '\" biblical\"[p=0.01, l=10.75]', '\" carp\"[p=0.01, l=10.75]']\n",
      "token_idx=22 [\" Mul\"] => ['\" unknown\"[p=0.11, l=11.50]', '\"?\\n\"[p=0.04, l=10.44]', '\"??\"[p=0.04, l=10.44]', '\" programmer\"[p=0.02, l=10.00]', '\"???\"[p=0.02, l=9.88]', '\" politician\"[p=0.02, l=9.88]', '\" musician\"[p=0.02, l=9.69]', '\" singer\"[p=0.02, l=9.62]', '\" artist\"[p=0.02, l=9.62]', '\" computer\"[p=0.02, l=9.56]', '\" no\"[p=0.01, l=9.44]', '\" actor\"[p=0.01, l=9.44]', '\"?\"[p=0.01, l=9.38]', '\" (\"[p=0.01, l=9.31]', '\" not\"[p=0.01, l=9.19]']\n",
      "token_idx=23 [\"aney\"] => ['\" comedian\"[p=0.35, l=14.81]', '\"?\\n\"[p=0.15, l=14.00]', '\"?\\n\\n\"[p=0.07, l=13.19]', '\"??\"[p=0.05, l=12.81]', '\"?\"[p=0.03, l=12.44]', '\" actor\"[p=0.03, l=12.19]', '\" unknown\"[p=0.02, l=12.06]', '\"???\"[p=0.02, l=11.81]', '\" (\"[p=0.01, l=11.62]', '\" politician\"[p=0.01, l=11.38]', '\" lawyer\"[p=0.01, l=11.25]', '\" \\n\"[p=0.01, l=11.12]', '\" journalist\"[p=0.01, l=10.88]', '\" writer\"[p=0.01, l=10.81]', '\" \"[p=0.01, l=10.81]']\n",
      "\n",
      "\" Ariana Grande\" | cur_rng=(25, 28)\n",
      "token_idx=25 [\" Ari\"] => ['\"?\\n\"[p=0.15, l=11.81]', '\"??\"[p=0.06, l=10.94]', '\"?\"[p=0.04, l=10.44]', '\"???\"[p=0.03, l=10.25]', '\"?\\n\\n\"[p=0.03, l=10.25]', '\" unknown\"[p=0.03, l=10.06]', '\" astronaut\"[p=0.01, l=9.44]', '\" singer\"[p=0.01, l=9.44]', '\" artist\"[p=0.01, l=9.44]', '\" lawyer\"[p=0.01, l=9.31]', '\" software\"[p=0.01, l=9.19]', '\" politician\"[p=0.01, l=9.12]', '\" Ari\"[p=0.01, l=9.12]', '\" (\"[p=0.01, l=9.00]', '\" what\"[p=0.01, l=8.75]']\n",
      "token_idx=26 [\"ana\"] => ['\"?\\n\"[p=0.17, l=12.94]', '\" singer\"[p=0.13, l=12.69]', '\"?\"[p=0.09, l=12.25]', '\"??\"[p=0.06, l=11.88]', '\"?\\n\\n\"[p=0.05, l=11.75]', '\" unknown\"[p=0.04, l=11.50]', '\"???\"[p=0.03, l=11.12]', '\" musician\"[p=0.02, l=10.81]', '\" artist\"[p=0.02, l=10.56]', '\" (\"[p=0.01, l=10.12]', '\" model\"[p=0.01, l=10.06]', '\" \\n\"[p=0.01, l=9.81]', '\" astronaut\"[p=0.01, l=9.69]', '\" pop\"[p=0.01, l=9.69]', '\" \"[p=0.01, l=9.62]']\n",
      "token_idx=27 [\" Grande\"] => ['\"?\\n\"[p=0.13, l=12.31]', '\" singer\"[p=0.08, l=11.88]', '\"?\\n\\n\"[p=0.05, l=11.44]', '\" unknown\"[p=0.04, l=11.19]', '\"?\"[p=0.04, l=11.19]', '\"??\"[p=0.03, l=11.00]', '\" \\n\"[p=0.03, l=10.75]', '\" musician\"[p=0.02, l=10.38]', '\" (\"[p=0.02, l=10.38]', '\" lawyer\"[p=0.02, l=10.31]', '\" artist\"[p=0.02, l=10.19]', '\" actor\"[p=0.01, l=10.12]', '\"???\"[p=0.01, l=10.12]', '\" ->\"[p=0.01, l=9.94]', '\" empty\"[p=0.01, l=9.88]']\n",
      "\n",
      "\" Joe Scarborough\" | cur_rng=(29, 31)\n",
      "token_idx=29 [\" Joe\"] => ['\"?\\n\"[p=0.08, l=11.81]', '\" unknown\"[p=0.06, l=11.56]', '\"??\"[p=0.06, l=11.56]', '\"???\"[p=0.04, l=11.06]', '\"?\"[p=0.04, l=11.00]', '\" politician\"[p=0.03, l=10.81]', '\" programmer\"[p=0.02, l=10.50]', '\"?\\n\\n\"[p=0.02, l=10.50]', '\" Joe\"[p=0.02, l=10.38]', '\" no\"[p=0.02, l=10.19]', '\" software\"[p=0.01, l=10.00]', '\" (\"[p=0.01, l=9.94]', '\" what\"[p=0.01, l=9.75]', '\" computer\"[p=0.01, l=9.75]', '\" not\"[p=0.01, l=9.69]']\n",
      "token_idx=30 [\" Scarborough\"] => ['\" politician\"[p=0.18, l=13.81]', '\" journalist\"[p=0.13, l=13.50]', '\"?\\n\"[p=0.07, l=12.88]', '\" news\"[p=0.05, l=12.50]', '\"??\"[p=0.05, l=12.44]', '\" political\"[p=0.04, l=12.19]', '\"?\"[p=0.03, l=12.06]', '\"?\\n\\n\"[p=0.03, l=11.94]', '\" unknown\"[p=0.03, l=11.94]', '\" software\"[p=0.02, l=11.50]', '\"???\"[p=0.02, l=11.38]', '\" (\"[p=0.02, l=11.31]', '\" TV\"[p=0.01, l=11.06]', '\" lawyer\"[p=0.01, l=10.94]', '\" television\"[p=0.01, l=10.81]']\n",
      "\n",
      "\" Andrey Rublev\" | cur_rng=(32, 36)\n",
      "token_idx=32 [\" And\"] => ['\"?\\n\"[p=0.09, l=11.06]', '\"??\"[p=0.04, l=10.25]', '\"?\"[p=0.04, l=10.25]', '\"?\\n\\n\"[p=0.03, l=10.06]', '\" And\"[p=0.03, l=9.94]', '\" (\"[p=0.02, l=9.50]', '\"???\"[p=0.02, l=9.50]', '\" lawyer\"[p=0.01, l=9.19]', '\" unknown\"[p=0.01, l=9.19]', '\" what\"[p=0.01, l=9.06]', '\" \\n\"[p=0.01, l=8.94]', '\" software\"[p=0.01, l=8.88]', '\" a\"[p=0.01, l=8.75]', '\" fill\"[p=0.01, l=8.75]', '\" and\"[p=0.01, l=8.69]']\n",
      "token_idx=33 [\"rey\"] => ['\"?\\n\"[p=0.11, l=12.38]', '\"?\\n\\n\"[p=0.05, l=11.62]', '\"?\"[p=0.04, l=11.44]', '\" programmer\"[p=0.04, l=11.38]', '\"??\"[p=0.04, l=11.31]', '\" unknown\"[p=0.03, l=11.12]', '\" entrepreneur\"[p=0.03, l=11.00]', '\"???\"[p=0.03, l=10.94]', '\" software\"[p=0.02, l=10.75]', '\" politician\"[p=0.02, l=10.50]', '\" engineer\"[p=0.02, l=10.44]', '\" artist\"[p=0.02, l=10.38]', '\" astronaut\"[p=0.02, l=10.38]', '\" student\"[p=0.01, l=9.94]', '\" computer\"[p=0.01, l=9.81]']\n",
      "token_idx=34 [\" Rub\"] => ['\"?\\n\"[p=0.10, l=11.50]', '\"??\"[p=0.07, l=11.12]', '\"?\"[p=0.05, l=10.81]', '\"?\\n\\n\"[p=0.05, l=10.69]', '\" unknown\"[p=0.04, l=10.62]', '\"???\"[p=0.04, l=10.50]', '\" politician\"[p=0.02, l=10.06]', '\" programmer\"[p=0.02, l=9.75]', '\" artist\"[p=0.02, l=9.69]', '\" (\"[p=0.01, l=9.38]', '\" what\"[p=0.01, l=9.12]', '\" \\n\"[p=0.01, l=9.12]', '\" entrepreneur\"[p=0.01, l=9.12]', '\" computer\"[p=0.01, l=9.06]', '\" no\"[p=0.01, l=9.06]']\n",
      "token_idx=35 [\"lev\"] => ['\"?\\n\"[p=0.17, l=13.06]', '\" tennis\"[p=0.08, l=12.31]', '\"?\\n\\n\"[p=0.06, l=11.94]', '\"?\"[p=0.05, l=11.88]', '\"??\"[p=0.05, l=11.75]', '\" athlete\"[p=0.03, l=11.25]', '\" (\"[p=0.02, l=10.94]', '\" \\n\"[p=0.02, l=10.94]', '\"???\"[p=0.02, l=10.69]', '\" software\"[p=0.02, l=10.62]', '\" unknown\"[p=0.02, l=10.62]', '\" politician\"[p=0.01, l=10.44]', '\" programmer\"[p=0.01, l=10.38]', '\" lawyer\"[p=0.01, l=10.25]', '\" computer\"[p=0.01, l=10.12]']\n",
      "\n",
      "\" Samuel L. Jackson\" | cur_rng=(37, 41)\n",
      "token_idx=37 [\" Samuel\"] => ['\"?\\n\"[p=0.14, l=12.62]', '\" unknown\"[p=0.08, l=12.06]', '\" prophet\"[p=0.06, l=11.88]', '\"?\"[p=0.05, l=11.69]', '\"??\"[p=0.05, l=11.62]', '\"???\"[p=0.04, l=11.50]', '\"?\\n\\n\"[p=0.03, l=10.94]', '\" programmer\"[p=0.01, l=10.38]', '\" actor\"[p=0.01, l=10.25]', '\" no\"[p=0.01, l=10.19]', '\" not\"[p=0.01, l=10.00]', '\" (\"[p=0.01, l=9.94]', '\" what\"[p=0.01, l=9.81]', '\" software\"[p=0.01, l=9.75]', '\" philosopher\"[p=0.01, l=9.69]']\n",
      "token_idx=38 [\" L\"] => ['\"?\\n\"[p=0.28, l=13.94]', '\"?\"[p=0.12, l=13.12]', '\"?\\n\\n\"[p=0.11, l=13.00]', '\"??\"[p=0.07, l=12.50]', '\"???\"[p=0.03, l=11.75]', '\" lawyer\"[p=0.03, l=11.69]', '\" unknown\"[p=0.01, l=10.88]', '\" \\n\"[p=0.01, l=10.81]', '\" software\"[p=0.01, l=10.69]', '\" (\"[p=0.01, l=10.62]', '\" \"[p=0.01, l=10.38]', '\" artist\"[p=0.01, l=10.31]', '\" engineer\"[p=0.01, l=10.19]', '\" your\"[p=0.01, l=10.19]', '\" entrepreneur\"[p=0.01, l=10.19]']\n",
      "token_idx=39 [\".\"] => ['\"?\\n\"[p=0.37, l=14.94]', '\"?\\n\\n\"[p=0.17, l=14.19]', '\"?\"[p=0.10, l=13.62]', '\"??\"[p=0.04, l=12.62]', '\" lawyer\"[p=0.02, l=12.06]', '\" \\n\"[p=0.02, l=11.81]', '\" \"[p=0.01, l=11.44]', '\"???\"[p=0.01, l=11.38]', '\" software\"[p=0.01, l=11.31]', '\" (\"[p=0.01, l=11.06]', '\" your\"[p=0.01, l=10.94]', '\" artist\"[p=0.01, l=10.88]', '\" unknown\"[p=0.01, l=10.81]', '\" ->\"[p=0.01, l=10.69]', '\" profession\"[p=0.00, l=10.62]']\n",
      "token_idx=40 [\" Jackson\"] => ['\"?\\n\"[p=0.13, l=12.56]', '\" actor\"[p=0.08, l=12.06]', '\"??\"[p=0.07, l=11.88]', '\"?\\n\\n\"[p=0.05, l=11.56]', '\"?\"[p=0.05, l=11.50]', '\" unknown\"[p=0.04, l=11.31]', '\"???\"[p=0.03, l=10.94]', '\" programmer\"[p=0.03, l=10.94]', '\" software\"[p=0.02, l=10.69]', '\" politician\"[p=0.02, l=10.62]', '\" singer\"[p=0.02, l=10.44]', '\" computer\"[p=0.01, l=10.31]', '\" (\"[p=0.01, l=10.25]', '\" lawyer\"[p=0.01, l=10.19]', '\" \\n\"[p=0.01, l=10.06]']\n",
      "======================================================================================================================================================\n",
      "\n",
      "layer='model.layers.75'\n",
      "\n",
      "\"Ans:\" | cur_rng=(-2, 0)\n",
      "token_idx=-2 [\"Ans\"] => ['\" programmer\"[p=0.05, l=9.94]', '\"?\\n\"[p=0.04, l=9.69]', '\" computer\"[p=0.03, l=9.38]', '\" unknown\"[p=0.03, l=9.25]', '\" arrow\"[p=0.02, l=8.94]', '\" artist\"[p=0.02, l=8.88]', '\" answer\"[p=0.01, l=8.62]', '\" software\"[p=0.01, l=8.50]', '\" (\"[p=0.01, l=8.44]', '\" symbol\"[p=0.01, l=8.31]', '\" no\"[p=0.01, l=8.19]', '\" not\"[p=0.01, l=8.06]', '\" musician\"[p=0.01, l=8.06]', '\" assistant\"[p=0.01, l=8.06]', '\" ->\"[p=0.01, l=8.00]']\n",
      "token_idx=-1 [\":\"] => ['\"?\\n\"[p=0.10, l=11.50]', '\" ->\"[p=0.06, l=10.94]', '\" comedian\"[p=0.04, l=10.50]', '\"?\"[p=0.03, l=10.38]', '\" symbol\"[p=0.03, l=10.31]', '\" (\"[p=0.03, l=10.25]', '\"?\\n\\n\"[p=0.02, l=10.12]', '\"??\"[p=0.02, l=9.94]', '\" profession\"[p=0.02, l=9.94]', '\" ->\\n\"[p=0.02, l=9.81]', '\" John\"[p=0.02, l=9.81]', '\" computer\"[p=0.02, l=9.75]', '\" programmer\"[p=0.02, l=9.69]', '\" None\"[p=0.02, l=9.69]', '\" software\"[p=0.01, l=9.62]']\n",
      "\n",
      "\" Trevor Noah\" | cur_rng=(13, 15)\n",
      "token_idx=13 [\" Trevor\"] => ['\"?\\n\"[p=0.13, l=12.75]', '\" unknown\"[p=0.07, l=12.06]', '\"??\"[p=0.06, l=11.94]', '\"?\"[p=0.05, l=11.81]', '\"?\\n\\n\"[p=0.05, l=11.69]', '\"???\"[p=0.04, l=11.56]', '\" software\"[p=0.03, l=11.31]', '\" programmer\"[p=0.02, l=10.88]', '\" entrepreneur\"[p=0.02, l=10.62]', '\" no\"[p=0.01, l=10.50]', '\" actor\"[p=0.01, l=10.50]', '\" not\"[p=0.01, l=10.50]', '\" (\"[p=0.01, l=10.38]', '\" computer\"[p=0.01, l=10.06]', '\" student\"[p=0.01, l=10.06]']\n",
      "token_idx=14 [\" Noah\"] => ['\" comedian\"[p=0.12, l=12.56]', '\"?\\n\"[p=0.07, l=12.00]', '\" unknown\"[p=0.06, l=11.81]', '\" computer\"[p=0.04, l=11.56]', '\" programmer\"[p=0.04, l=11.44]', '\" software\"[p=0.04, l=11.44]', '\"??\"[p=0.03, l=11.19]', '\" actor\"[p=0.02, l=10.94]', '\" (\"[p=0.02, l=10.88]', '\" None\"[p=0.02, l=10.75]', '\"?\\n\\n\"[p=0.02, l=10.69]', '\" \\n\"[p=0.02, l=10.69]', '\" empty\"[p=0.02, l=10.50]', '\"?\"[p=0.01, l=10.38]', '\" null\"[p=0.01, l=10.31]']\n",
      "\n",
      "\" Zion Williamson\" | cur_rng=(18, 20)\n",
      "token_idx=18 [\" Zion\"] => ['\"?\\n\"[p=0.15, l=12.69]', '\" prophet\"[p=0.09, l=12.19]', '\"??\"[p=0.08, l=12.12]', '\" unknown\"[p=0.08, l=12.06]', '\"?\"[p=0.06, l=11.75]', '\"???\"[p=0.04, l=11.31]', '\"?\\n\\n\"[p=0.03, l=11.00]', '\" no\"[p=0.02, l=10.44]', '\" (\"[p=0.01, l=10.19]', '\" singer\"[p=0.01, l=10.19]', '\" musician\"[p=0.01, l=10.12]', '\" not\"[p=0.01, l=10.12]', '\" \"[p=0.01, l=9.94]', '\" \\n\"[p=0.01, l=9.75]', '\" what\"[p=0.01, l=9.69]']\n",
      "token_idx=19 [\" Williamson\"] => ['\" basketball\"[p=0.53, l=15.38]', '\"?\\n\"[p=0.05, l=13.06]', '\" unknown\"[p=0.04, l=12.75]', '\" athlete\"[p=0.04, l=12.69]', '\"??\"[p=0.02, l=12.31]', '\"?\"[p=0.02, l=12.06]', '\" professional\"[p=0.02, l=12.00]', '\" \\n\"[p=0.01, l=11.69]', '\" (\"[p=0.01, l=11.50]', '\" football\"[p=0.01, l=11.44]', '\" NBA\"[p=0.01, l=11.38]', '\"???\"[p=0.01, l=11.31]', '\"?\\n\\n\"[p=0.01, l=11.12]', '\" actor\"[p=0.01, l=11.00]', '\" software\"[p=0.01, l=10.94]']\n",
      "\n",
      "\" John Mulaney\" | cur_rng=(21, 24)\n",
      "token_idx=21 [\" John\"] => ['\" unknown\"[p=0.10, l=12.38]', '\"?\\n\"[p=0.08, l=12.12]', '\"??\"[p=0.04, l=11.44]', '\" programmer\"[p=0.03, l=11.19]', '\"?\"[p=0.03, l=11.12]', '\"???\"[p=0.03, l=11.06]', '\" software\"[p=0.02, l=10.88]', '\" no\"[p=0.02, l=10.75]', '\"?\\n\\n\"[p=0.02, l=10.62]', '\" (\"[p=0.02, l=10.50]', '\" not\"[p=0.01, l=10.38]', '\" politician\"[p=0.01, l=10.38]', '\" actor\"[p=0.01, l=10.31]', '\" John\"[p=0.01, l=10.25]', '\" musician\"[p=0.01, l=10.12]']\n",
      "token_idx=22 [\" Mul\"] => ['\" unknown\"[p=0.07, l=11.06]', '\"?\\n\"[p=0.06, l=10.81]', '\"??\"[p=0.04, l=10.50]', '\"?\"[p=0.02, l=9.88]', '\" politician\"[p=0.02, l=9.81]', '\"???\"[p=0.02, l=9.75]', '\" musician\"[p=0.02, l=9.75]', '\"?\\n\\n\"[p=0.02, l=9.69]', '\" singer\"[p=0.02, l=9.69]', '\" programmer\"[p=0.02, l=9.56]', '\" (\"[p=0.01, l=9.38]', '\" software\"[p=0.01, l=9.31]', '\" no\"[p=0.01, l=9.25]', '\" not\"[p=0.01, l=9.25]', '\" None\"[p=0.01, l=9.25]']\n",
      "token_idx=23 [\"aney\"] => ['\"?\\n\"[p=0.16, l=13.44]', '\" comedian\"[p=0.16, l=13.44]', '\"?\\n\\n\"[p=0.07, l=12.62]', '\"?\"[p=0.05, l=12.19]', '\" actor\"[p=0.04, l=12.06]', '\"??\"[p=0.04, l=11.94]', '\" lawyer\"[p=0.02, l=11.38]', '\" (\"[p=0.02, l=11.38]', '\" unknown\"[p=0.02, l=11.25]', '\" \\n\"[p=0.02, l=11.25]', '\"???\"[p=0.01, l=10.94]', '\" ->\"[p=0.01, l=10.88]', '\" politician\"[p=0.01, l=10.75]', '\" artist\"[p=0.01, l=10.50]', '\" \"[p=0.01, l=10.38]']\n",
      "\n",
      "\" Ariana Grande\" | cur_rng=(25, 28)\n",
      "token_idx=25 [\" Ari\"] => ['\"?\\n\"[p=0.14, l=11.62]', '\"??\"[p=0.05, l=10.56]', '\"?\"[p=0.04, l=10.31]', '\"?\\n\\n\"[p=0.04, l=10.25]', '\" unknown\"[p=0.03, l=10.00]', '\"???\"[p=0.03, l=9.88]', '\" singer\"[p=0.02, l=9.38]', '\" lawyer\"[p=0.01, l=9.31]', '\" artist\"[p=0.01, l=9.25]', '\" Ari\"[p=0.01, l=9.19]', '\" astronaut\"[p=0.01, l=9.12]', '\" software\"[p=0.01, l=9.06]', '\" (\"[p=0.01, l=8.94]', '\" politician\"[p=0.01, l=8.62]', '\" what\"[p=0.01, l=8.56]']\n",
      "token_idx=26 [\"ana\"] => ['\"?\\n\"[p=0.20, l=12.69]', '\"?\"[p=0.10, l=12.00]', '\"?\\n\\n\"[p=0.09, l=11.88]', '\"??\"[p=0.06, l=11.50]', '\" singer\"[p=0.03, l=10.69]', '\"???\"[p=0.02, l=10.62]', '\" unknown\"[p=0.02, l=10.38]', '\" artist\"[p=0.01, l=10.00]', '\" \\n\"[p=0.01, l=9.94]', '\" musician\"[p=0.01, l=9.94]', '\" (\"[p=0.01, l=9.88]', '\" lawyer\"[p=0.01, l=9.81]', '\" astronaut\"[p=0.01, l=9.56]', '\" software\"[p=0.01, l=9.50]', '\" \"[p=0.01, l=9.44]']\n",
      "token_idx=27 [\" Grande\"] => ['\"?\\n\"[p=0.13, l=12.31]', '\" singer\"[p=0.07, l=11.75]', '\"?\\n\\n\"[p=0.06, l=11.50]', '\"?\"[p=0.04, l=11.06]', '\" \\n\"[p=0.03, l=10.94]', '\" unknown\"[p=0.03, l=10.94]', '\"??\"[p=0.03, l=10.81]', '\" lawyer\"[p=0.02, l=10.56]', '\" (\"[p=0.02, l=10.38]', '\" musician\"[p=0.02, l=10.31]', '\" artist\"[p=0.02, l=10.25]', '\" ->\"[p=0.02, l=10.19]', '\" actor\"[p=0.02, l=10.19]', '\" politician\"[p=0.01, l=10.00]', '\" empty\"[p=0.01, l=9.94]']\n",
      "\n",
      "\" Joe Scarborough\" | cur_rng=(29, 31)\n",
      "token_idx=29 [\" Joe\"] => ['\"?\\n\"[p=0.11, l=12.19]', '\"??\"[p=0.09, l=12.00]', '\" unknown\"[p=0.07, l=11.69]', '\"???\"[p=0.05, l=11.38]', '\"?\"[p=0.05, l=11.38]', '\"?\\n\\n\"[p=0.04, l=11.19]', '\" politician\"[p=0.02, l=10.69]', '\" Joe\"[p=0.02, l=10.50]', '\" programmer\"[p=0.02, l=10.44]', '\" software\"[p=0.01, l=9.94]', '\" (\"[p=0.01, l=9.88]', '\" computer\"[p=0.01, l=9.88]', '\" no\"[p=0.01, l=9.81]', '\" what\"[p=0.01, l=9.75]', '\" \"[p=0.01, l=9.56]']\n",
      "token_idx=30 [\" Scarborough\"] => ['\" politician\"[p=0.12, l=12.44]', '\"?\\n\"[p=0.09, l=12.19]', '\"??\"[p=0.06, l=11.69]', '\" unknown\"[p=0.04, l=11.38]', '\"?\"[p=0.04, l=11.31]', '\" journalist\"[p=0.04, l=11.31]', '\"?\\n\\n\"[p=0.04, l=11.31]', '\" software\"[p=0.03, l=11.06]', '\" (\"[p=0.02, l=10.50]', '\"???\"[p=0.02, l=10.50]', '\" computer\"[p=0.02, l=10.38]', '\" political\"[p=0.01, l=10.25]', '\" programmer\"[p=0.01, l=10.25]', '\" lawyer\"[p=0.01, l=10.19]', '\" \\n\"[p=0.01, l=10.00]']\n",
      "\n",
      "\" Andrey Rublev\" | cur_rng=(32, 36)\n",
      "token_idx=32 [\" And\"] => ['\"?\\n\"[p=0.11, l=11.19]', '\"?\"[p=0.05, l=10.38]', '\"?\\n\\n\"[p=0.04, l=10.31]', '\"??\"[p=0.04, l=10.31]', '\" And\"[p=0.03, l=9.75]', '\"???\"[p=0.02, l=9.38]', '\" unknown\"[p=0.02, l=9.25]', '\" (\"[p=0.02, l=9.25]', '\" \\n\"[p=0.01, l=9.06]', '\" lawyer\"[p=0.01, l=8.94]', '\" empty\"[p=0.01, l=8.94]', '\" what\"[p=0.01, l=8.88]', '\" a\"[p=0.01, l=8.75]', '\" software\"[p=0.01, l=8.56]', '\" the\"[p=0.01, l=8.56]']\n",
      "token_idx=33 [\"rey\"] => ['\"?\\n\"[p=0.13, l=12.62]', '\"?\\n\\n\"[p=0.05, l=11.75]', '\"?\"[p=0.04, l=11.56]', '\" programmer\"[p=0.04, l=11.44]', '\"??\"[p=0.03, l=11.31]', '\" unknown\"[p=0.03, l=11.12]', '\" astronaut\"[p=0.03, l=11.12]', '\"???\"[p=0.02, l=10.94]', '\" software\"[p=0.02, l=10.94]', '\" entrepreneur\"[p=0.02, l=10.88]', '\" engineer\"[p=0.02, l=10.81]', '\" artist\"[p=0.02, l=10.56]', '\" politician\"[p=0.02, l=10.50]', '\" lawyer\"[p=0.01, l=10.31]', '\" student\"[p=0.01, l=10.06]']\n",
      "token_idx=34 [\" Rub\"] => ['\"?\\n\"[p=0.11, l=11.25]', '\"??\"[p=0.06, l=10.62]', '\"?\"[p=0.05, l=10.50]', '\"?\\n\\n\"[p=0.05, l=10.44]', '\" unknown\"[p=0.03, l=10.06]', '\"???\"[p=0.02, l=9.75]', '\" politician\"[p=0.02, l=9.38]', '\" empty\"[p=0.01, l=9.06]', '\" (\"[p=0.01, l=9.06]', '\" programmer\"[p=0.01, l=9.00]', '\" \\n\"[p=0.01, l=9.00]', '\" artist\"[p=0.01, l=8.94]', '\" computer\"[p=0.01, l=8.81]', '\" software\"[p=0.01, l=8.69]', '\" \"[p=0.01, l=8.62]']\n",
      "token_idx=35 [\"lev\"] => ['\"?\\n\"[p=0.09, l=12.00]', '\" tennis\"[p=0.07, l=11.75]', '\"??\"[p=0.04, l=11.12]', '\"?\"[p=0.04, l=11.12]', '\"?\\n\\n\"[p=0.04, l=11.06]', '\" programmer\"[p=0.03, l=10.94]', '\" athlete\"[p=0.03, l=10.94]', '\" software\"[p=0.03, l=10.75]', '\" (\"[p=0.02, l=10.56]', '\" unknown\"[p=0.02, l=10.44]', '\" \\n\"[p=0.02, l=10.31]', '\"???\"[p=0.02, l=10.19]', '\" computer\"[p=0.01, l=10.06]', '\" None\"[p=0.01, l=9.88]', '\" politician\"[p=0.01, l=9.81]']\n",
      "\n",
      "\" Samuel L. Jackson\" | cur_rng=(37, 41)\n",
      "token_idx=37 [\" Samuel\"] => ['\"?\\n\"[p=0.14, l=12.69]', '\" prophet\"[p=0.11, l=12.44]', '\" unknown\"[p=0.08, l=12.12]', '\"?\"[p=0.05, l=11.62]', '\"??\"[p=0.05, l=11.62]', '\"???\"[p=0.04, l=11.50]', '\"?\\n\\n\"[p=0.03, l=11.00]', '\" programmer\"[p=0.02, l=10.75]', '\" philosopher\"[p=0.01, l=10.19]', '\" actor\"[p=0.01, l=10.12]', '\" no\"[p=0.01, l=10.00]', '\" software\"[p=0.01, l=9.94]', '\" not\"[p=0.01, l=9.88]', '\" (\"[p=0.01, l=9.88]', '\" computer\"[p=0.01, l=9.88]']\n",
      "token_idx=38 [\" L\"] => ['\"?\\n\"[p=0.18, l=13.06]', '\"?\"[p=0.10, l=12.44]', '\"?\\n\\n\"[p=0.08, l=12.25]', '\"??\"[p=0.08, l=12.25]', '\" Jackson\"[p=0.04, l=11.44]', '\"???\"[p=0.03, l=11.38]', '\" unknown\"[p=0.03, l=11.25]', '\" lawyer\"[p=0.02, l=11.00]', '\" (\"[p=0.02, l=10.56]', '\" \\n\"[p=0.01, l=10.38]', '\" software\"[p=0.01, l=10.31]', '\" your\"[p=0.01, l=10.12]', '\" \"[p=0.01, l=10.06]', '\" entrepreneur\"[p=0.01, l=10.00]', '\" empty\"[p=0.01, l=9.94]']\n",
      "token_idx=39 [\".\"] => ['\"?\\n\"[p=0.35, l=14.62]', '\"?\\n\\n\"[p=0.15, l=13.81]', '\"?\"[p=0.09, l=13.25]', '\"??\"[p=0.04, l=12.50]', '\" lawyer\"[p=0.02, l=11.88]', '\" \\n\"[p=0.02, l=11.69]', '\" software\"[p=0.01, l=11.31]', '\"???\"[p=0.01, l=11.06]', '\" \"[p=0.01, l=11.06]', '\" ->\"[p=0.01, l=10.94]', '\" artist\"[p=0.01, l=10.94]', '\" (\"[p=0.01, l=10.94]', '\" your\"[p=0.01, l=10.88]', '\" engineer\"[p=0.01, l=10.50]', '\" unknown\"[p=0.01, l=10.50]']\n",
      "token_idx=40 [\" Jackson\"] => ['\"?\\n\"[p=0.16, l=12.81]', '\"?\\n\\n\"[p=0.07, l=12.00]', '\" actor\"[p=0.07, l=12.00]', '\"?\"[p=0.05, l=11.75]', '\"??\"[p=0.05, l=11.62]', '\" unknown\"[p=0.03, l=11.19]', '\" lawyer\"[p=0.02, l=10.62]', '\" politician\"[p=0.02, l=10.56]', '\" \\n\"[p=0.02, l=10.50]', '\" (\"[p=0.02, l=10.50]', '\"???\"[p=0.02, l=10.50]', '\" ->\"[p=0.01, l=10.38]', '\" programmer\"[p=0.01, l=10.31]', '\" software\"[p=0.01, l=10.31]', '\" computer\"[p=0.01, l=10.06]']\n",
      "======================================================================================================================================================\n",
      "\n",
      "layer='model.layers.78'\n",
      "\n",
      "\"Ans:\" | cur_rng=(-2, 0)\n",
      "token_idx=-2 [\"Ans\"] => ['\" programmer\"[p=0.25, l=12.12]', '\" computer\"[p=0.08, l=10.94]', '\" software\"[p=0.03, l=10.12]', '\" musician\"[p=0.03, l=9.88]', '\" programming\"[p=0.02, l=9.44]', '\" keyboard\"[p=0.01, l=9.06]', '\" arrow\"[p=0.01, l=9.06]', '\" hacker\"[p=0.01, l=8.94]', '\" answer\"[p=0.01, l=8.94]', '\" Albert\"[p=0.01, l=8.88]', '\" Jack\"[p=0.01, l=8.56]', '\" a\"[p=0.01, l=8.56]', '\" developer\"[p=0.01, l=8.56]', '\" singer\"[p=0.01, l=8.44]', '\" the\"[p=0.01, l=8.44]']\n",
      "token_idx=-1 [\":\"] => ['\" comedian\"[p=0.27, l=13.94]', '\"?\\n\"[p=0.13, l=13.25]', '\" ->\"[p=0.05, l=12.31]', '\" actor\"[p=0.05, l=12.25]', '\" John\"[p=0.04, l=12.12]', '\"?\\n\\n\"[p=0.03, l=11.69]', '\"?\"[p=0.02, l=11.38]', '\" (\"[p=0.02, l=11.38]', '\"??\"[p=0.02, l=11.19]', '\" politician\"[p=0.02, l=11.19]', '\" journalist\"[p=0.02, l=11.06]', '\" profession\"[p=0.01, l=10.88]', '\" \\n\"[p=0.01, l=10.81]', '\" person\"[p=0.01, l=10.69]', '\" TV\"[p=0.01, l=10.62]']\n",
      "\n",
      "\" Trevor Noah\" | cur_rng=(13, 15)\n",
      "token_idx=13 [\" Trevor\"] => ['\" software\"[p=0.16, l=13.00]', '\" programmer\"[p=0.04, l=11.69]', '\"?\\n\"[p=0.03, l=11.44]', '\" data\"[p=0.03, l=11.31]', '\"??\"[p=0.03, l=11.25]', '\" actor\"[p=0.03, l=11.19]', '\" entrepreneur\"[p=0.02, l=11.06]', '\" developer\"[p=0.02, l=11.00]', '\" computer\"[p=0.02, l=10.94]', '\"???\"[p=0.02, l=10.94]', '\" unknown\"[p=0.02, l=10.94]', '\" musician\"[p=0.02, l=10.62]', '\" engineer\"[p=0.01, l=10.50]', '\" hacker\"[p=0.01, l=10.44]', '\"?\"[p=0.01, l=10.31]']\n",
      "token_idx=14 [\" Noah\"] => ['\" comedian\"[p=0.71, l=16.25]', '\" programmer\"[p=0.05, l=13.69]', '\" software\"[p=0.02, l=12.81]', '\" computer\"[p=0.02, l=12.56]', '\" actor\"[p=0.02, l=12.50]', '\" unknown\"[p=0.01, l=11.88]', '\"?\\n\"[p=0.01, l=11.75]', '\" (\"[p=0.01, l=11.69]', '\" what\"[p=0.00, l=11.19]', '\"??\"[p=0.00, l=11.19]', '\" person\"[p=0.00, l=11.12]', '\" \"[p=0.00, l=11.12]', '\" writer\"[p=0.00, l=11.12]', '\" Com\"[p=0.00, l=10.94]', '\" no\"[p=0.00, l=10.94]']\n",
      "\n",
      "\" Zion Williamson\" | cur_rng=(18, 20)\n",
      "token_idx=18 [\" Zion\"] => ['\"?\\n\"[p=0.05, l=10.69]', '\" singer\"[p=0.04, l=10.56]', '\" unknown\"[p=0.04, l=10.50]', '\" prophet\"[p=0.03, l=10.25]', '\"??\"[p=0.03, l=10.19]', '\" musician\"[p=0.03, l=10.19]', '\" no\"[p=0.02, l=9.75]', '\" rapper\"[p=0.02, l=9.62]', '\"?\"[p=0.02, l=9.62]', '\" none\"[p=0.01, l=9.44]', '\" (\"[p=0.01, l=9.31]', '\"???\"[p=0.01, l=9.31]', '\" not\"[p=0.01, l=9.25]', '\" politician\"[p=0.01, l=9.19]', '\" actor\"[p=0.01, l=9.06]']\n",
      "token_idx=19 [\" Williamson\"] => ['\" basketball\"[p=0.28, l=13.31]', '\" unknown\"[p=0.04, l=11.31]', '\" actor\"[p=0.04, l=11.31]', '\" athlete\"[p=0.03, l=11.19]', '\"?\\n\"[p=0.03, l=11.06]', '\" software\"[p=0.03, l=11.06]', '\" computer\"[p=0.02, l=10.88]', '\" singer\"[p=0.02, l=10.50]', '\" programmer\"[p=0.02, l=10.44]', '\"??\"[p=0.01, l=10.19]', '\" professional\"[p=0.01, l=10.12]', '\" NBA\"[p=0.01, l=10.12]', '\"?\"[p=0.01, l=10.06]', '\" not\"[p=0.01, l=10.06]', '\" none\"[p=0.01, l=10.06]']\n",
      "\n",
      "\" John Mulaney\" | cur_rng=(21, 24)\n",
      "token_idx=21 [\" John\"] => ['\" unknown\"[p=0.08, l=11.94]', '\" software\"[p=0.07, l=11.81]', '\"?\\n\"[p=0.05, l=11.38]', '\" programmer\"[p=0.04, l=11.25]', '\"??\"[p=0.03, l=10.81]', '\" actor\"[p=0.03, l=10.75]', '\"???\"[p=0.02, l=10.31]', '\" musician\"[p=0.02, l=10.31]', '\" computer\"[p=0.02, l=10.31]', '\" no\"[p=0.02, l=10.25]', '\" singer\"[p=0.02, l=10.25]', '\"?\"[p=0.02, l=10.25]', '\" politician\"[p=0.01, l=10.12]', '\" (\"[p=0.01, l=10.12]', '\" John\"[p=0.01, l=9.81]']\n",
      "token_idx=22 [\" Mul\"] => ['\" programmer\"[p=0.07, l=10.75]', '\" musician\"[p=0.04, l=10.25]', '\" unknown\"[p=0.03, l=9.88]', '\" computer\"[p=0.03, l=9.75]', '\" software\"[p=0.03, l=9.75]', '\"??\"[p=0.03, l=9.69]', '\"?\\n\"[p=0.02, l=9.62]', '\" singer\"[p=0.02, l=9.62]', '\" politician\"[p=0.02, l=9.25]', '\" hacker\"[p=0.02, l=9.19]', '\" actor\"[p=0.01, l=9.06]', '\" artist\"[p=0.01, l=9.00]', '\"???\"[p=0.01, l=8.88]', '\" developer\"[p=0.01, l=8.81]', '\" (\"[p=0.01, l=8.56]']\n",
      "token_idx=23 [\"aney\"] => ['\" comedian\"[p=0.54, l=14.75]', '\"?\\n\"[p=0.06, l=12.50]', '\" actor\"[p=0.04, l=12.19]', '\"??\"[p=0.02, l=11.44]', '\" stand\"[p=0.02, l=11.44]', '\"?\\n\\n\"[p=0.02, l=11.25]', '\" unknown\"[p=0.02, l=11.19]', '\" writer\"[p=0.01, l=11.12]', '\"?\"[p=0.01, l=11.00]', '\" (\"[p=0.01, l=10.75]', '\"???\"[p=0.01, l=10.44]', '\" not\"[p=0.01, l=10.31]', '\" comic\"[p=0.01, l=10.31]', '\" ->\"[p=0.01, l=10.12]', '\" lawyer\"[p=0.00, l=10.06]']\n",
      "\n",
      "\" Ariana Grande\" | cur_rng=(25, 28)\n",
      "token_idx=25 [\" Ari\"] => ['\" singer\"[p=0.06, l=11.25]', '\"?\\n\"[p=0.06, l=11.25]', '\" lawyer\"[p=0.03, l=10.69]', '\"??\"[p=0.03, l=10.50]', '\" unknown\"[p=0.02, l=10.31]', '\" software\"[p=0.02, l=10.25]', '\"???\"[p=0.02, l=10.12]', '\" artist\"[p=0.01, l=9.88]', '\"?\"[p=0.01, l=9.81]', '\" musician\"[p=0.01, l=9.75]', '\" (\"[p=0.01, l=9.69]', '\" model\"[p=0.01, l=9.69]', '\" politician\"[p=0.01, l=9.38]', '\" no\"[p=0.01, l=9.38]', '\"?\\n\\n\"[p=0.01, l=9.31]']\n",
      "token_idx=26 [\"ana\"] => ['\"?\\n\"[p=0.20, l=12.88]', '\"?\\n\\n\"[p=0.09, l=12.12]', '\"?\"[p=0.07, l=11.88]', '\"??\"[p=0.06, l=11.75]', '\"???\"[p=0.03, l=10.88]', '\" artist\"[p=0.02, l=10.56]', '\" singer\"[p=0.02, l=10.50]', '\" musician\"[p=0.02, l=10.31]', '\" software\"[p=0.01, l=10.12]', '\" astronaut\"[p=0.01, l=10.06]', '\" programmer\"[p=0.01, l=9.94]', '\" lawyer\"[p=0.01, l=9.94]', '\" \\n\"[p=0.01, l=9.88]', '\" unknown\"[p=0.01, l=9.81]', '\" engineer\"[p=0.01, l=9.62]']\n",
      "token_idx=27 [\" Grande\"] => ['\" programmer\"[p=0.10, l=12.00]', '\" singer\"[p=0.10, l=12.00]', '\" software\"[p=0.06, l=11.44]', '\" unknown\"[p=0.04, l=11.12]', '\"?\\n\"[p=0.04, l=11.00]', '\" None\"[p=0.03, l=10.81]', '\" computer\"[p=0.03, l=10.81]', '\" musician\"[p=0.03, l=10.81]', '\" empty\"[p=0.03, l=10.62]', '\" none\"[p=0.02, l=10.56]', '\"?\\n\\n\"[p=0.01, l=10.06]', '\" not\"[p=0.01, l=10.00]', '\"?\"[p=0.01, l=9.94]', '\" (\"[p=0.01, l=9.94]', '\"??\"[p=0.01, l=9.94]']\n",
      "\n",
      "\" Joe Scarborough\" | cur_rng=(29, 31)\n",
      "token_idx=29 [\" Joe\"] => ['\" unknown\"[p=0.10, l=12.06]', '\"?\\n\"[p=0.07, l=11.81]', '\"??\"[p=0.05, l=11.44]', '\" politician\"[p=0.04, l=11.06]', '\"?\"[p=0.03, l=10.94]', '\"???\"[p=0.03, l=10.94]', '\" Joe\"[p=0.02, l=10.69]', '\"?\\n\\n\"[p=0.02, l=10.69]', '\" programmer\"[p=0.02, l=10.50]', '\" software\"[p=0.02, l=10.38]', '\" computer\"[p=0.01, l=10.19]', '\" no\"[p=0.01, l=10.12]', '\" president\"[p=0.01, l=10.00]', '\" what\"[p=0.01, l=9.81]', '\" (\"[p=0.01, l=9.75]']\n",
      "token_idx=30 [\" Scarborough\"] => ['\"?\\n\"[p=0.06, l=10.88]', '\" politician\"[p=0.05, l=10.75]', '\" unknown\"[p=0.04, l=10.31]', '\"?\"[p=0.03, l=10.25]', '\"??\"[p=0.03, l=10.06]', '\"?\\n\\n\"[p=0.03, l=10.00]', '\" lawyer\"[p=0.02, l=9.88]', '\" None\"[p=0.02, l=9.62]', '\" (\"[p=0.02, l=9.62]', '\" person\"[p=0.02, l=9.50]', '\" ->\"[p=0.01, l=9.44]', '\" empty\"[p=0.01, l=9.44]', '\" software\"[p=0.01, l=9.38]', '\" computer\"[p=0.01, l=9.31]', '\" not\"[p=0.01, l=9.19]']\n",
      "\n",
      "\" Andrey Rublev\" | cur_rng=(32, 36)\n",
      "token_idx=32 [\" And\"] => ['\"?\\n\"[p=0.07, l=10.75]', '\"??\"[p=0.03, l=10.06]', '\" unknown\"[p=0.03, l=10.00]', '\" software\"[p=0.03, l=9.94]', '\" programmer\"[p=0.02, l=9.69]', '\"?\\n\\n\"[p=0.02, l=9.69]', '\"?\"[p=0.02, l=9.56]', '\"???\"[p=0.02, l=9.44]', '\" And\"[p=0.02, l=9.31]', '\" not\"[p=0.02, l=9.25]', '\" (\"[p=0.02, l=9.25]', '\" computer\"[p=0.01, l=9.19]', '\" no\"[p=0.01, l=8.94]', '\" undefined\"[p=0.01, l=8.94]', '\" musician\"[p=0.01, l=8.88]']\n",
      "token_idx=33 [\"rey\"] => ['\"?\\n\"[p=0.07, l=11.69]', '\" programmer\"[p=0.05, l=11.38]', '\"?\\n\\n\"[p=0.03, l=11.00]', '\"?\"[p=0.03, l=10.94]', '\" unknown\"[p=0.03, l=10.75]', '\" software\"[p=0.03, l=10.75]', '\" astronaut\"[p=0.02, l=10.69]', '\" entrepreneur\"[p=0.02, l=10.62]', '\"??\"[p=0.02, l=10.56]', '\" artist\"[p=0.02, l=10.56]', '\" lawyer\"[p=0.02, l=10.31]', '\" engineer\"[p=0.02, l=10.31]', '\"???\"[p=0.02, l=10.31]', '\" politician\"[p=0.02, l=10.31]', '\" mathematic\"[p=0.01, l=10.12]']\n",
      "token_idx=34 [\" Rub\"] => ['\"?\\n\"[p=0.10, l=11.56]', '\" politician\"[p=0.07, l=11.12]', '\"?\\n\\n\"[p=0.05, l=10.81]', '\"??\"[p=0.05, l=10.81]', '\" unknown\"[p=0.03, l=10.38]', '\"?\"[p=0.03, l=10.31]', '\" programmer\"[p=0.02, l=10.06]', '\"???\"[p=0.02, l=10.00]', '\" lawyer\"[p=0.01, l=9.62]', '\" computer\"[p=0.01, l=9.62]', '\" mathematic\"[p=0.01, l=9.56]', '\" artist\"[p=0.01, l=9.50]', '\" musician\"[p=0.01, l=9.44]', '\" \\n\"[p=0.01, l=9.44]', '\" president\"[p=0.01, l=9.25]']\n",
      "token_idx=35 [\"lev\"] => ['\" tennis\"[p=0.11, l=11.75]', '\" programmer\"[p=0.07, l=11.38]', '\" computer\"[p=0.04, l=10.81]', '\"?\\n\"[p=0.04, l=10.75]', '\" software\"[p=0.03, l=10.50]', '\" None\"[p=0.03, l=10.44]', '\" none\"[p=0.03, l=10.44]', '\" (\"[p=0.03, l=10.38]', '\"?\"[p=0.03, l=10.38]', '\"?\\n\\n\"[p=0.02, l=10.19]', '\" unknown\"[p=0.02, l=10.00]', '\"??\"[p=0.02, l=9.94]', '\" no\"[p=0.01, l=9.75]', '\" not\"[p=0.01, l=9.75]', '\" empty\"[p=0.01, l=9.62]']\n",
      "\n",
      "\" Samuel L. Jackson\" | cur_rng=(37, 41)\n",
      "token_idx=37 [\" Samuel\"] => ['\"?\\n\"[p=0.08, l=11.69]', '\" unknown\"[p=0.06, l=11.50]', '\" programmer\"[p=0.05, l=11.31]', '\" software\"[p=0.04, l=11.12]', '\"??\"[p=0.02, l=10.50]', '\"?\"[p=0.02, l=10.44]', '\"???\"[p=0.02, l=10.44]', '\" actor\"[p=0.02, l=10.44]', '\" computer\"[p=0.02, l=10.31]', '\" engineer\"[p=0.01, l=9.88]', '\" no\"[p=0.01, l=9.88]', '\"?\\n\\n\"[p=0.01, l=9.88]', '\" musician\"[p=0.01, l=9.75]', '\" philosopher\"[p=0.01, l=9.62]', '\" singer\"[p=0.01, l=9.62]']\n",
      "token_idx=38 [\" L\"] => ['\" Jackson\"[p=0.16, l=12.94]', '\" programmer\"[p=0.09, l=12.38]', '\"?\\n\"[p=0.07, l=12.19]', '\" software\"[p=0.07, l=12.12]', '\"??\"[p=0.06, l=11.94]', '\" unknown\"[p=0.04, l=11.44]', '\" computer\"[p=0.02, l=11.06]', '\"?\\n\\n\"[p=0.02, l=11.00]', '\"?\"[p=0.02, l=10.81]', '\" empty\"[p=0.02, l=10.81]', '\"???\"[p=0.02, l=10.75]', '\" \\n\"[p=0.01, l=10.31]', '\" person\"[p=0.01, l=10.25]', '\" (\"[p=0.01, l=10.25]', '\" lawyer\"[p=0.01, l=10.25]']\n",
      "token_idx=39 [\".\"] => ['\"?\\n\"[p=0.32, l=14.75]', '\"?\\n\\n\"[p=0.13, l=13.81]', '\"?\"[p=0.07, l=13.25]', '\"??\"[p=0.04, l=12.75]', '\" lawyer\"[p=0.03, l=12.38]', '\" software\"[p=0.02, l=12.00]', '\" artist\"[p=0.02, l=11.69]', '\" \\n\"[p=0.01, l=11.56]', '\" politician\"[p=0.01, l=11.50]', '\" actor\"[p=0.01, l=11.44]', '\" musician\"[p=0.01, l=11.38]', '\" programmer\"[p=0.01, l=11.31]', '\" singer\"[p=0.01, l=11.25]', '\"???\"[p=0.01, l=11.19]', '\" \"[p=0.01, l=11.12]']\n",
      "token_idx=40 [\" Jackson\"] => ['\" actor\"[p=0.08, l=11.50]', '\" unknown\"[p=0.05, l=10.94]', '\"?\\n\"[p=0.04, l=10.88]', '\" None\"[p=0.03, l=10.62]', '\" none\"[p=0.03, l=10.44]', '\"?\"[p=0.03, l=10.38]', '\" programmer\"[p=0.03, l=10.31]', '\" empty\"[p=0.02, l=10.19]', '\" software\"[p=0.02, l=10.19]', '\" not\"[p=0.02, l=10.19]', '\" (\"[p=0.02, l=10.19]', '\" computer\"[p=0.02, l=10.12]', '\"?\\n\\n\"[p=0.02, l=10.06]', '\"??\"[p=0.02, l=9.88]', '\" no\"[p=0.02, l=9.81]']\n",
      "======================================================================================================================================================\n"
     ]
    }
   ],
   "source": [
    "from src.functional import patchscope, get_hs\n",
    "from itertools import product\n",
    "\n",
    "pred_range = (-2, 0)\n",
    "token_ranges = [pred_range, subj_range] + option_ranges\n",
    "token_indices = []\n",
    "for rng in token_ranges:\n",
    "    token_indices.extend(list(range(rng[0], rng[1])))\n",
    "\n",
    "layers = mt.layer_names\n",
    "locations = list(product(layers, token_indices))\n",
    "\n",
    "hs = get_hs(mt=mt, input=tokenized, locations=locations, patches=[], return_dict=True)\n",
    "\n",
    "\n",
    "########################################################################\n",
    "context_prof = \"\"\"Name of a person -> their profession\n",
    "Albert Einstein -> physicist\n",
    "Michael Jordan -> basketball player\n",
    "Jack Ma -> entrepreneur\n",
    "placeholder ->\"\"\"\n",
    "\n",
    "patch_layers = [5]\n",
    "patch_layers = [mt.layer_name_format.format(idx) for idx in patch_layers]\n",
    "########################################################################\n",
    "\n",
    "context = context_prof\n",
    "context_tok = prepare_input(\n",
    "    prompts=context_prof, tokenizer=mt, return_offsets_mapping=True\n",
    ")\n",
    "cxt_offset_mapping = context_tok.pop(\"offset_mapping\")[0]\n",
    "\n",
    "h_idx = (\n",
    "    find_token_range(\n",
    "        string=context,\n",
    "        substring=\"placeholder\",\n",
    "        offset_mapping=cxt_offset_mapping,\n",
    "        tokenizer=mt.tokenizer,\n",
    "        occurrence=-1,\n",
    "    )[1]\n",
    "    - 1\n",
    ")\n",
    "\n",
    "for layer in mt.layer_names[::3]:\n",
    "    print(f\"\\n{layer=}\")\n",
    "    for cur_rng in token_ranges:\n",
    "        print(\n",
    "            f'\\n\"{mt.tokenizer.decode(tokenized.input_ids[0][range(*cur_rng)])}\" | {cur_rng=}'\n",
    "        )\n",
    "        for token_idx in range(cur_rng[0], cur_rng[1]):\n",
    "            token = mt.tokenizer.decode(tokenized.input_ids[0][token_idx])\n",
    "            ll_pred = patchscope(\n",
    "                mt=mt,\n",
    "                h=hs[(layer, token_idx)],\n",
    "                context=context,\n",
    "                placeholder=\"placeholder\",\n",
    "                context_tokenized=context_tok,\n",
    "                placeholder_idx=h_idx,\n",
    "                patch_layers=patch_layers,\n",
    "                k=15,\n",
    "            )\n",
    "            ll_fmt = [\n",
    "                f'\"{pred.token}\"[p={pred.prob:.2f}, l={pred.logit:.2f}]'\n",
    "                for pred in ll_pred\n",
    "            ]\n",
    "            print(f'{token_idx=} [\"{token}\"] => {ll_fmt}')\n",
    "\n",
    "    print(\"=\" * 150)"
   ]
  },
  {
   "cell_type": "markdown",
   "id": "9bdf483a",
   "metadata": {},
   "source": [
    "## Individual Heads"
   ]
  },
  {
   "cell_type": "code",
   "execution_count": 127,
   "id": "73a96a4e",
   "metadata": {},
   "outputs": [
    {
     "name": "stdout",
     "output_type": "stream",
     "text": [
      "odict_keys(['last_hidden_state', 'past_key_values', 'attentions'])\n",
      "torch.Size([128256])\n"
     ]
    },
    {
     "data": {
      "text/plain": [
       "(80, 64, 43, 43)"
      ]
     },
     "execution_count": 127,
     "metadata": {},
     "output_type": "execute_result"
    }
   ],
   "source": [
    "from src.attention import visualize_attn_matrix\n",
    "\n",
    "###############################################################\n",
    "N_KV_GROUPS = 1  # individual heads\n",
    "N_HEADS = mt.config.num_attention_heads\n",
    "LAYER_RANGE = range(mt.n_layer)\n",
    "###############################################################\n",
    "\n",
    "group_id_to_head_indices = {\n",
    "    i: [i * N_KV_GROUPS + j for j in range(N_KV_GROUPS)]\n",
    "    for i in range(N_HEADS // N_KV_GROUPS)\n",
    "}\n",
    "attn_info = get_attention_matrices(\n",
    "    input=tokenized,\n",
    "    mt=mt,\n",
    "    # value_weighted=True,\n",
    "    patches=[],\n",
    ")\n",
    "attn_info.attention_matrices.shape"
   ]
  },
  {
   "cell_type": "code",
   "execution_count": 128,
   "id": "a2e9f3e6",
   "metadata": {},
   "outputs": [
    {
     "name": "stdout",
     "output_type": "stream",
     "text": [
      "Layer 35, Group 0 (Heads 0-0) | Shape: torch.Size([43, 43])\n"
     ]
    },
    {
     "data": {
      "text/html": [
       "<div id=\"circuits-vis-54f1b7f8-5f5e\" style=\"margin: 15px 0;\"/>\n",
       "    <script crossorigin type=\"module\">\n",
       "    import { render, ColoredTokens } from \"https://unpkg.com/circuitsvis@1.43.3/dist/cdn/esm.js\";\n",
       "    render(\n",
       "      \"circuits-vis-54f1b7f8-5f5e\",\n",
       "      ColoredTokens,\n",
       "      {\"tokens\": [\"Which\", \" person\", \" from\", \" the\", \" following\", \" list\", \" has\", \" the\", \" profession\", \" in\", \" common\", \" with\", \" Ed\", \" She\", \"er\", \"an\", \"?\\n\", \"Options\", \":\", \" G\", \"reta\", \" Ger\", \"wig\", \",\", \" Hillary\", \" Clinton\", \",\", \" Kanye\", \" West\", \",\", \" Nicholas\", \" Sparks\", \",\", \" Stephen\", \" Curry\", \",\", \" Phil\", \" Mick\", \"elson\", \"\\n\", \"Ans\", \":\"], \"values\": [0.0184326171875, 0.00421142578125, 0.0024261474609375, 0.0004558563232421875, 0.000965118408203125, 0.0012969970703125, 0.00189208984375, 0.00159454345703125, 0.037109375, 0.0021820068359375, 0.010498046875, 0.00714111328125, 0.00799560546875, 0.017822265625, 0.0234375, 0.07080078125, 0.0006866455078125, 0.0005340576171875, 0.0035858154296875, 0.01025390625, 0.0001678466796875, 0.00019073486328125, 0.00347900390625, 0.007476806640625, 0.00058746337890625, 0.0014495849609375, 0.006500244140625, 0.0546875, 0.10595703125, 0.00799560546875, 0.009033203125, 0.00726318359375, 0.033447265625, 0.004669189453125, 0.005401611328125, 0.0037689208984375, 0.0016937255859375, 0.0003662109375, 0.002471923828125, 0.0002956390380859375, 8.20159912109375e-05, 0.011474609375]}\n",
       "    )\n",
       "    </script>"
      ],
      "text/plain": [
       "<circuitsvis.utils.render.RenderedHTML at 0x7f58bc5309d0>"
      ]
     },
     "metadata": {},
     "output_type": "display_data"
    },
    {
     "name": "stdout",
     "output_type": "stream",
     "text": [
      "Layer 35, Group 1 (Heads 1-1) | Shape: torch.Size([43, 43])\n"
     ]
    },
    {
     "data": {
      "text/html": [
       "<div id=\"circuits-vis-61621006-620f\" style=\"margin: 15px 0;\"/>\n",
       "    <script crossorigin type=\"module\">\n",
       "    import { render, ColoredTokens } from \"https://unpkg.com/circuitsvis@1.43.3/dist/cdn/esm.js\";\n",
       "    render(\n",
       "      \"circuits-vis-61621006-620f\",\n",
       "      ColoredTokens,\n",
       "      {\"tokens\": [\"Which\", \" person\", \" from\", \" the\", \" following\", \" list\", \" has\", \" the\", \" profession\", \" in\", \" common\", \" with\", \" Ed\", \" She\", \"er\", \"an\", \"?\\n\", \"Options\", \":\", \" G\", \"reta\", \" Ger\", \"wig\", \",\", \" Hillary\", \" Clinton\", \",\", \" Kanye\", \" West\", \",\", \" Nicholas\", \" Sparks\", \",\", \" Stephen\", \" Curry\", \",\", \" Phil\", \" Mick\", \"elson\", \"\\n\", \"Ans\", \":\"], \"values\": [0.04736328125, 0.011962890625, 0.005035400390625, 0.00244140625, 0.015380859375, 0.0244140625, 0.01312255859375, 0.00122833251953125, 0.052734375, 0.00946044921875, 0.09130859375, 0.02978515625, 0.01708984375, 0.004730224609375, 0.0038299560546875, 0.023193359375, 0.08935546875, 0.02294921875, 0.0198974609375, 0.0047607421875, 0.000308990478515625, 0.0006561279296875, 0.001678466796875, 0.031982421875, 0.000385284423828125, 0.00173187255859375, 0.0062255859375, 0.005462646484375, 0.044677734375, 0.08447265625, 0.00128173828125, 0.002471923828125, 0.0224609375, 0.0010986328125, 0.003692626953125, 0.0126953125, 0.000644683837890625, 0.0002918243408203125, 0.002288818359375, 0.05322265625, 0.017578125, 0.080078125]}\n",
       "    )\n",
       "    </script>"
      ],
      "text/plain": [
       "<circuitsvis.utils.render.RenderedHTML at 0x7f58bc4923d0>"
      ]
     },
     "metadata": {},
     "output_type": "display_data"
    },
    {
     "name": "stdout",
     "output_type": "stream",
     "text": [
      "Layer 35, Group 2 (Heads 2-2) | Shape: torch.Size([43, 43])\n"
     ]
    },
    {
     "data": {
      "text/html": [
       "<div id=\"circuits-vis-f228666c-207b\" style=\"margin: 15px 0;\"/>\n",
       "    <script crossorigin type=\"module\">\n",
       "    import { render, ColoredTokens } from \"https://unpkg.com/circuitsvis@1.43.3/dist/cdn/esm.js\";\n",
       "    render(\n",
       "      \"circuits-vis-f228666c-207b\",\n",
       "      ColoredTokens,\n",
       "      {\"tokens\": [\"Which\", \" person\", \" from\", \" the\", \" following\", \" list\", \" has\", \" the\", \" profession\", \" in\", \" common\", \" with\", \" Ed\", \" She\", \"er\", \"an\", \"?\\n\", \"Options\", \":\", \" G\", \"reta\", \" Ger\", \"wig\", \",\", \" Hillary\", \" Clinton\", \",\", \" Kanye\", \" West\", \",\", \" Nicholas\", \" Sparks\", \",\", \" Stephen\", \" Curry\", \",\", \" Phil\", \" Mick\", \"elson\", \"\\n\", \"Ans\", \":\"], \"values\": [0.0390625, 0.0096435546875, 0.0034942626953125, 0.0019989013671875, 0.0125732421875, 0.0106201171875, 0.01025390625, 0.0018463134765625, 0.044189453125, 0.0062255859375, 0.01904296875, 0.0167236328125, 0.01300048828125, 0.0224609375, 0.02001953125, 0.07275390625, 0.0240478515625, 0.01611328125, 0.0098876953125, 0.005767822265625, 0.00064849853515625, 0.00040435791015625, 0.0054931640625, 0.017578125, 0.00115203857421875, 0.0020904541015625, 0.005950927734375, 0.025634765625, 0.043701171875, 0.06884765625, 0.003387451171875, 0.006439208984375, 0.0247802734375, 0.002685546875, 0.00421142578125, 0.01190185546875, 0.00173187255859375, 0.000732421875, 0.0030364990234375, 0.0206298828125, 0.010498046875, 0.04345703125]}\n",
       "    )\n",
       "    </script>"
      ],
      "text/plain": [
       "<circuitsvis.utils.render.RenderedHTML at 0x7f59401abd10>"
      ]
     },
     "metadata": {},
     "output_type": "display_data"
    },
    {
     "name": "stdout",
     "output_type": "stream",
     "text": [
      "Layer 35, Group 3 (Heads 3-3) | Shape: torch.Size([43, 43])\n"
     ]
    },
    {
     "data": {
      "text/html": [
       "<div id=\"circuits-vis-6441fff1-797a\" style=\"margin: 15px 0;\"/>\n",
       "    <script crossorigin type=\"module\">\n",
       "    import { render, ColoredTokens } from \"https://unpkg.com/circuitsvis@1.43.3/dist/cdn/esm.js\";\n",
       "    render(\n",
       "      \"circuits-vis-6441fff1-797a\",\n",
       "      ColoredTokens,\n",
       "      {\"tokens\": [\"Which\", \" person\", \" from\", \" the\", \" following\", \" list\", \" has\", \" the\", \" profession\", \" in\", \" common\", \" with\", \" Ed\", \" She\", \"er\", \"an\", \"?\\n\", \"Options\", \":\", \" G\", \"reta\", \" Ger\", \"wig\", \",\", \" Hillary\", \" Clinton\", \",\", \" Kanye\", \" West\", \",\", \" Nicholas\", \" Sparks\", \",\", \" Stephen\", \" Curry\", \",\", \" Phil\", \" Mick\", \"elson\", \"\\n\", \"Ans\", \":\"], \"values\": [0.034912109375, 0.004241943359375, 0.0036773681640625, 0.00185394287109375, 0.00494384765625, 0.004058837890625, 0.002166748046875, 0.000682830810546875, 0.0177001953125, 0.00148773193359375, 0.00885009765625, 0.00970458984375, 0.0185546875, 0.029541015625, 0.060791015625, 0.059326171875, 0.0093994140625, 0.0084228515625, 0.0030975341796875, 0.00179290771484375, 0.00115966796875, 0.00021457672119140625, 0.006683349609375, 0.0084228515625, 0.00238037109375, 0.0019989013671875, 0.002532958984375, 0.01708984375, 0.01470947265625, 0.022216796875, 0.001739501953125, 0.0034637451171875, 0.0120849609375, 0.0020599365234375, 0.0037994384765625, 0.004791259765625, 0.000659942626953125, 0.0007476806640625, 0.000904083251953125, 0.005523681640625, 0.0031585693359375, 0.0166015625]}\n",
       "    )\n",
       "    </script>"
      ],
      "text/plain": [
       "<circuitsvis.utils.render.RenderedHTML at 0x7f58dc58a4d0>"
      ]
     },
     "metadata": {},
     "output_type": "display_data"
    },
    {
     "name": "stdout",
     "output_type": "stream",
     "text": [
      "Layer 35, Group 4 (Heads 4-4) | Shape: torch.Size([43, 43])\n"
     ]
    },
    {
     "data": {
      "text/html": [
       "<div id=\"circuits-vis-5280a9ec-b560\" style=\"margin: 15px 0;\"/>\n",
       "    <script crossorigin type=\"module\">\n",
       "    import { render, ColoredTokens } from \"https://unpkg.com/circuitsvis@1.43.3/dist/cdn/esm.js\";\n",
       "    render(\n",
       "      \"circuits-vis-5280a9ec-b560\",\n",
       "      ColoredTokens,\n",
       "      {\"tokens\": [\"Which\", \" person\", \" from\", \" the\", \" following\", \" list\", \" has\", \" the\", \" profession\", \" in\", \" common\", \" with\", \" Ed\", \" She\", \"er\", \"an\", \"?\\n\", \"Options\", \":\", \" G\", \"reta\", \" Ger\", \"wig\", \",\", \" Hillary\", \" Clinton\", \",\", \" Kanye\", \" West\", \",\", \" Nicholas\", \" Sparks\", \",\", \" Stephen\", \" Curry\", \",\", \" Phil\", \" Mick\", \"elson\", \"\\n\", \"Ans\", \":\"], \"values\": [0.04931640625, 0.006103515625, 0.0037689208984375, 0.002044677734375, 0.003997802734375, 0.00640869140625, 0.003936767578125, 0.00131988525390625, 0.0301513671875, 0.0029754638671875, 0.0191650390625, 0.0091552734375, 0.00994873046875, 0.0135498046875, 0.01214599609375, 0.0267333984375, 0.0054931640625, 0.005645751953125, 0.003936767578125, 0.002838134765625, 0.0004024505615234375, 0.0003147125244140625, 0.0028839111328125, 0.00933837890625, 0.00093841552734375, 0.00141143798828125, 0.0037078857421875, 0.00994873046875, 0.0157470703125, 0.02197265625, 0.002288818359375, 0.0027618408203125, 0.01104736328125, 0.00154876708984375, 0.0033721923828125, 0.00799560546875, 0.00131988525390625, 0.00090789794921875, 0.001861572265625, 0.01092529296875, 0.009765625, 0.0322265625]}\n",
       "    )\n",
       "    </script>"
      ],
      "text/plain": [
       "<circuitsvis.utils.render.RenderedHTML at 0x7f58bc3fc5d0>"
      ]
     },
     "metadata": {},
     "output_type": "display_data"
    },
    {
     "name": "stdout",
     "output_type": "stream",
     "text": [
      "Layer 35, Group 5 (Heads 5-5) | Shape: torch.Size([43, 43])\n"
     ]
    },
    {
     "data": {
      "text/html": [
       "<div id=\"circuits-vis-597da65c-846a\" style=\"margin: 15px 0;\"/>\n",
       "    <script crossorigin type=\"module\">\n",
       "    import { render, ColoredTokens } from \"https://unpkg.com/circuitsvis@1.43.3/dist/cdn/esm.js\";\n",
       "    render(\n",
       "      \"circuits-vis-597da65c-846a\",\n",
       "      ColoredTokens,\n",
       "      {\"tokens\": [\"Which\", \" person\", \" from\", \" the\", \" following\", \" list\", \" has\", \" the\", \" profession\", \" in\", \" common\", \" with\", \" Ed\", \" She\", \"er\", \"an\", \"?\\n\", \"Options\", \":\", \" G\", \"reta\", \" Ger\", \"wig\", \",\", \" Hillary\", \" Clinton\", \",\", \" Kanye\", \" West\", \",\", \" Nicholas\", \" Sparks\", \",\", \" Stephen\", \" Curry\", \",\", \" Phil\", \" Mick\", \"elson\", \"\\n\", \"Ans\", \":\"], \"values\": [0.0361328125, 0.00970458984375, 0.008544921875, 0.010009765625, 0.0031890869140625, 0.00396728515625, 0.00640869140625, 0.004364013671875, 0.0247802734375, 0.00848388671875, 0.0185546875, 0.0135498046875, 0.0189208984375, 0.0181884765625, 0.009521484375, 0.049560546875, 0.0103759765625, 0.0030517578125, 0.01385498046875, 0.0155029296875, 0.0019378662109375, 0.004486083984375, 0.0067138671875, 0.022705078125, 0.002227783203125, 0.005859375, 0.020751953125, 0.00982666015625, 0.0830078125, 0.0244140625, 0.0078125, 0.0067138671875, 0.03759765625, 0.006500244140625, 0.013427734375, 0.019287109375, 0.00555419921875, 0.0023345947265625, 0.014404296875, 0.01123046875, 0.0019378662109375, 0.271484375]}\n",
       "    )\n",
       "    </script>"
      ],
      "text/plain": [
       "<circuitsvis.utils.render.RenderedHTML at 0x7f58bc52c550>"
      ]
     },
     "metadata": {},
     "output_type": "display_data"
    },
    {
     "name": "stdout",
     "output_type": "stream",
     "text": [
      "Layer 35, Group 6 (Heads 6-6) | Shape: torch.Size([43, 43])\n"
     ]
    },
    {
     "data": {
      "text/html": [
       "<div id=\"circuits-vis-4fc14140-4407\" style=\"margin: 15px 0;\"/>\n",
       "    <script crossorigin type=\"module\">\n",
       "    import { render, ColoredTokens } from \"https://unpkg.com/circuitsvis@1.43.3/dist/cdn/esm.js\";\n",
       "    render(\n",
       "      \"circuits-vis-4fc14140-4407\",\n",
       "      ColoredTokens,\n",
       "      {\"tokens\": [\"Which\", \" person\", \" from\", \" the\", \" following\", \" list\", \" has\", \" the\", \" profession\", \" in\", \" common\", \" with\", \" Ed\", \" She\", \"er\", \"an\", \"?\\n\", \"Options\", \":\", \" G\", \"reta\", \" Ger\", \"wig\", \",\", \" Hillary\", \" Clinton\", \",\", \" Kanye\", \" West\", \",\", \" Nicholas\", \" Sparks\", \",\", \" Stephen\", \" Curry\", \",\", \" Phil\", \" Mick\", \"elson\", \"\\n\", \"Ans\", \":\"], \"values\": [0.0322265625, 0.0069580078125, 0.004852294921875, 0.0028076171875, 0.003173828125, 0.0035400390625, 0.005950927734375, 0.0032806396484375, 0.0419921875, 0.00506591796875, 0.01416015625, 0.009521484375, 0.01483154296875, 0.028076171875, 0.0220947265625, 0.0732421875, 0.00506591796875, 0.00299072265625, 0.0029449462890625, 0.009033203125, 0.001068115234375, 0.00096893310546875, 0.0042724609375, 0.00811767578125, 0.00154876708984375, 0.004150390625, 0.004150390625, 0.0228271484375, 0.07275390625, 0.0198974609375, 0.005767822265625, 0.007049560546875, 0.0177001953125, 0.0038299560546875, 0.00836181640625, 0.00775146484375, 0.0025177001953125, 0.00164794921875, 0.006134033203125, 0.004638671875, 0.001953125, 0.025390625]}\n",
       "    )\n",
       "    </script>"
      ],
      "text/plain": [
       "<circuitsvis.utils.render.RenderedHTML at 0x7f591c1ab4d0>"
      ]
     },
     "metadata": {},
     "output_type": "display_data"
    },
    {
     "name": "stdout",
     "output_type": "stream",
     "text": [
      "Layer 35, Group 7 (Heads 7-7) | Shape: torch.Size([43, 43])\n"
     ]
    },
    {
     "data": {
      "text/html": [
       "<div id=\"circuits-vis-71ce548a-eac0\" style=\"margin: 15px 0;\"/>\n",
       "    <script crossorigin type=\"module\">\n",
       "    import { render, ColoredTokens } from \"https://unpkg.com/circuitsvis@1.43.3/dist/cdn/esm.js\";\n",
       "    render(\n",
       "      \"circuits-vis-71ce548a-eac0\",\n",
       "      ColoredTokens,\n",
       "      {\"tokens\": [\"Which\", \" person\", \" from\", \" the\", \" following\", \" list\", \" has\", \" the\", \" profession\", \" in\", \" common\", \" with\", \" Ed\", \" She\", \"er\", \"an\", \"?\\n\", \"Options\", \":\", \" G\", \"reta\", \" Ger\", \"wig\", \",\", \" Hillary\", \" Clinton\", \",\", \" Kanye\", \" West\", \",\", \" Nicholas\", \" Sparks\", \",\", \" Stephen\", \" Curry\", \",\", \" Phil\", \" Mick\", \"elson\", \"\\n\", \"Ans\", \":\"], \"values\": [0.0262451171875, 0.003997802734375, 0.006011962890625, 0.00159454345703125, 0.00054168701171875, 0.00093841552734375, 0.00177764892578125, 0.002838134765625, 0.0296630859375, 0.003326416015625, 0.00518798828125, 0.019775390625, 0.01104736328125, 0.0201416015625, 0.015380859375, 0.0810546875, 0.00037384033203125, 0.0004100799560546875, 0.007720947265625, 0.025634765625, 0.0001659393310546875, 0.00051116943359375, 0.0032196044921875, 0.018310546875, 0.00051116943359375, 0.0026702880859375, 0.0198974609375, 0.053466796875, 0.1796875, 0.014892578125, 0.01385498046875, 0.006317138671875, 0.1337890625, 0.00927734375, 0.004638671875, 0.0091552734375, 0.0023956298828125, 0.00011014938354492188, 0.0023956298828125, 0.0004634857177734375, 3.695487976074219e-05, 0.01153564453125]}\n",
       "    )\n",
       "    </script>"
      ],
      "text/plain": [
       "<circuitsvis.utils.render.RenderedHTML at 0x7f58fc541f10>"
      ]
     },
     "metadata": {},
     "output_type": "display_data"
    },
    {
     "name": "stdout",
     "output_type": "stream",
     "text": [
      "Layer 35, Group 8 (Heads 8-8) | Shape: torch.Size([43, 43])\n"
     ]
    },
    {
     "data": {
      "text/html": [
       "<div id=\"circuits-vis-df3ab06f-a3b7\" style=\"margin: 15px 0;\"/>\n",
       "    <script crossorigin type=\"module\">\n",
       "    import { render, ColoredTokens } from \"https://unpkg.com/circuitsvis@1.43.3/dist/cdn/esm.js\";\n",
       "    render(\n",
       "      \"circuits-vis-df3ab06f-a3b7\",\n",
       "      ColoredTokens,\n",
       "      {\"tokens\": [\"Which\", \" person\", \" from\", \" the\", \" following\", \" list\", \" has\", \" the\", \" profession\", \" in\", \" common\", \" with\", \" Ed\", \" She\", \"er\", \"an\", \"?\\n\", \"Options\", \":\", \" G\", \"reta\", \" Ger\", \"wig\", \",\", \" Hillary\", \" Clinton\", \",\", \" Kanye\", \" West\", \",\", \" Nicholas\", \" Sparks\", \",\", \" Stephen\", \" Curry\", \",\", \" Phil\", \" Mick\", \"elson\", \"\\n\", \"Ans\", \":\"], \"values\": [0.00909423828125, 0.000431060791015625, 0.0003681182861328125, 0.00048828125, 0.0004062652587890625, 0.000270843505859375, 0.00019168853759765625, 5.650520324707031e-05, 0.000316619873046875, 7.2479248046875e-05, 0.00083160400390625, 0.00010919570922851562, 0.0002956390380859375, 0.0002040863037109375, 0.0004730224609375, 0.000629425048828125, 0.00150299072265625, 0.0004596710205078125, 0.000347137451171875, 0.000148773193359375, 9.632110595703125e-05, 9.632110595703125e-05, 0.0002613067626953125, 0.000392913818359375, 0.00010251998901367188, 0.0003681182861328125, 9.918212890625e-05, 0.00011968612670898438, 0.0002613067626953125, 0.000392913818359375, 9.918212890625e-05, 0.000316619873046875, 0.0002880096435546875, 5.841255187988281e-05, 0.000316619873046875, 0.0003681182861328125, 5.841255187988281e-05, 0.000164031982421875, 0.000316619873046875, 0.0023345947265625, 0.00372314453125, 0.002197265625]}\n",
       "    )\n",
       "    </script>"
      ],
      "text/plain": [
       "<circuitsvis.utils.render.RenderedHTML at 0x7f594013a490>"
      ]
     },
     "metadata": {},
     "output_type": "display_data"
    },
    {
     "name": "stdout",
     "output_type": "stream",
     "text": [
      "Layer 35, Group 9 (Heads 9-9) | Shape: torch.Size([43, 43])\n"
     ]
    },
    {
     "data": {
      "text/html": [
       "<div id=\"circuits-vis-5839c7af-097b\" style=\"margin: 15px 0;\"/>\n",
       "    <script crossorigin type=\"module\">\n",
       "    import { render, ColoredTokens } from \"https://unpkg.com/circuitsvis@1.43.3/dist/cdn/esm.js\";\n",
       "    render(\n",
       "      \"circuits-vis-5839c7af-097b\",\n",
       "      ColoredTokens,\n",
       "      {\"tokens\": [\"Which\", \" person\", \" from\", \" the\", \" following\", \" list\", \" has\", \" the\", \" profession\", \" in\", \" common\", \" with\", \" Ed\", \" She\", \"er\", \"an\", \"?\\n\", \"Options\", \":\", \" G\", \"reta\", \" Ger\", \"wig\", \",\", \" Hillary\", \" Clinton\", \",\", \" Kanye\", \" West\", \",\", \" Nicholas\", \" Sparks\", \",\", \" Stephen\", \" Curry\", \",\", \" Phil\", \" Mick\", \"elson\", \"\\n\", \"Ans\", \":\"], \"values\": [0.01007080078125, 0.00098419189453125, 0.000812530517578125, 0.00104522705078125, 0.0004482269287109375, 0.0004215240478515625, 0.0003604888916015625, 0.00011730194091796875, 0.00118255615234375, 0.000141143798828125, 0.00138092041015625, 0.00032806396484375, 0.000614166259765625, 0.0003719329833984375, 0.00107574462890625, 0.00138092041015625, 0.000762939453125, 0.0003719329833984375, 0.0002727508544921875, 0.00032806396484375, 0.0003604888916015625, 0.00017070770263671875, 0.001220703125, 0.000652313232421875, 0.000339508056640625, 0.0008392333984375, 0.00013256072998046875, 0.0004482269287109375, 0.000492095947265625, 0.000507354736328125, 0.00019931793212890625, 0.000789642333984375, 0.000396728515625, 0.00015544891357421875, 0.000812530517578125, 0.0003719329833984375, 0.00014591217041015625, 0.0005950927734375, 0.000614166259765625, 0.00118255615234375, 0.00098419189453125, 0.001983642578125]}\n",
       "    )\n",
       "    </script>"
      ],
      "text/plain": [
       "<circuitsvis.utils.render.RenderedHTML at 0x7f58bc532090>"
      ]
     },
     "metadata": {},
     "output_type": "display_data"
    },
    {
     "name": "stdout",
     "output_type": "stream",
     "text": [
      "Layer 35, Group 10 (Heads 10-10) | Shape: torch.Size([43, 43])\n"
     ]
    },
    {
     "data": {
      "text/html": [
       "<div id=\"circuits-vis-75e30605-3ce0\" style=\"margin: 15px 0;\"/>\n",
       "    <script crossorigin type=\"module\">\n",
       "    import { render, ColoredTokens } from \"https://unpkg.com/circuitsvis@1.43.3/dist/cdn/esm.js\";\n",
       "    render(\n",
       "      \"circuits-vis-75e30605-3ce0\",\n",
       "      ColoredTokens,\n",
       "      {\"tokens\": [\"Which\", \" person\", \" from\", \" the\", \" following\", \" list\", \" has\", \" the\", \" profession\", \" in\", \" common\", \" with\", \" Ed\", \" She\", \"er\", \"an\", \"?\\n\", \"Options\", \":\", \" G\", \"reta\", \" Ger\", \"wig\", \",\", \" Hillary\", \" Clinton\", \",\", \" Kanye\", \" West\", \",\", \" Nicholas\", \" Sparks\", \",\", \" Stephen\", \" Curry\", \",\", \" Phil\", \" Mick\", \"elson\", \"\\n\", \"Ans\", \":\"], \"values\": [0.005523681640625, 0.000579833984375, 0.000637054443359375, 0.00112152099609375, 0.0004520416259765625, 0.0002498626708984375, 0.00016689300537109375, 2.8014183044433594e-05, 0.00067901611328125, 0.00011110305786132812, 0.0010528564453125, 0.0002574920654296875, 0.00049591064453125, 0.0002498626708984375, 0.000873565673828125, 0.000579833984375, 0.000873565673828125, 0.00079345703125, 0.0003871917724609375, 0.00018310546875, 0.0003204345703125, 0.00011110305786132812, 0.00077056884765625, 0.0003986358642578125, 0.000274658203125, 0.0003757476806640625, 7.867813110351562e-05, 0.0003757476806640625, 0.0001773834228515625, 0.0003757476806640625, 0.00014209747314453125, 0.00067901611328125, 0.00022792816162109375, 8.916854858398438e-05, 0.000274658203125, 0.00022029876708984375, 8.392333984375e-05, 0.000301361083984375, 0.0001888275146484375, 0.00135040283203125, 0.004425048828125, 0.0018768310546875]}\n",
       "    )\n",
       "    </script>"
      ],
      "text/plain": [
       "<circuitsvis.utils.render.RenderedHTML at 0x7f58bc570d90>"
      ]
     },
     "metadata": {},
     "output_type": "display_data"
    },
    {
     "name": "stdout",
     "output_type": "stream",
     "text": [
      "Layer 35, Group 11 (Heads 11-11) | Shape: torch.Size([43, 43])\n"
     ]
    },
    {
     "data": {
      "text/html": [
       "<div id=\"circuits-vis-5afb1c6d-e902\" style=\"margin: 15px 0;\"/>\n",
       "    <script crossorigin type=\"module\">\n",
       "    import { render, ColoredTokens } from \"https://unpkg.com/circuitsvis@1.43.3/dist/cdn/esm.js\";\n",
       "    render(\n",
       "      \"circuits-vis-5afb1c6d-e902\",\n",
       "      ColoredTokens,\n",
       "      {\"tokens\": [\"Which\", \" person\", \" from\", \" the\", \" following\", \" list\", \" has\", \" the\", \" profession\", \" in\", \" common\", \" with\", \" Ed\", \" She\", \"er\", \"an\", \"?\\n\", \"Options\", \":\", \" G\", \"reta\", \" Ger\", \"wig\", \",\", \" Hillary\", \" Clinton\", \",\", \" Kanye\", \" West\", \",\", \" Nicholas\", \" Sparks\", \",\", \" Stephen\", \" Curry\", \",\", \" Phil\", \" Mick\", \"elson\", \"\\n\", \"Ans\", \":\"], \"values\": [0.01287841796875, 0.00109100341796875, 0.000797271728515625, 0.001495361328125, 0.0009918212890625, 0.00054931640625, 0.000400543212890625, 0.00013065338134765625, 0.0013580322265625, 0.0002079010009765625, 0.0016937255859375, 0.000293731689453125, 0.000640869140625, 0.000514984130859375, 0.00191497802734375, 0.0023040771484375, 0.0027923583984375, 0.00185394287109375, 0.000640869140625, 0.00021457672119140625, 0.0003662109375, 0.0002079010009765625, 0.00144195556640625, 0.000934600830078125, 0.000469207763671875, 0.00115966796875, 0.00019550323486328125, 0.000904083251953125, 0.0009613037109375, 0.000751495361328125, 0.0002593994140625, 0.00127410888671875, 0.0004138946533203125, 0.00011157989501953125, 0.000934600830078125, 0.000469207763671875, 0.0001621246337890625, 0.000621795654296875, 0.000705718994140625, 0.005889892578125, 0.01190185546875, 0.005035400390625]}\n",
       "    )\n",
       "    </script>"
      ],
      "text/plain": [
       "<circuitsvis.utils.render.RenderedHTML at 0x7f58dc3e8950>"
      ]
     },
     "metadata": {},
     "output_type": "display_data"
    },
    {
     "name": "stdout",
     "output_type": "stream",
     "text": [
      "Layer 35, Group 12 (Heads 12-12) | Shape: torch.Size([43, 43])\n"
     ]
    },
    {
     "data": {
      "text/html": [
       "<div id=\"circuits-vis-31857df6-1765\" style=\"margin: 15px 0;\"/>\n",
       "    <script crossorigin type=\"module\">\n",
       "    import { render, ColoredTokens } from \"https://unpkg.com/circuitsvis@1.43.3/dist/cdn/esm.js\";\n",
       "    render(\n",
       "      \"circuits-vis-31857df6-1765\",\n",
       "      ColoredTokens,\n",
       "      {\"tokens\": [\"Which\", \" person\", \" from\", \" the\", \" following\", \" list\", \" has\", \" the\", \" profession\", \" in\", \" common\", \" with\", \" Ed\", \" She\", \"er\", \"an\", \"?\\n\", \"Options\", \":\", \" G\", \"reta\", \" Ger\", \"wig\", \",\", \" Hillary\", \" Clinton\", \",\", \" Kanye\", \" West\", \",\", \" Nicholas\", \" Sparks\", \",\", \" Stephen\", \" Curry\", \",\", \" Phil\", \" Mick\", \"elson\", \"\\n\", \"Ans\", \":\"], \"values\": [0.00872802734375, 0.007354736328125, 0.00433349609375, 0.004119873046875, 0.004974365234375, 0.0033721923828125, 0.0029754638671875, 0.000652313232421875, 0.00958251953125, 0.0011138916015625, 0.01177978515625, 0.00177764892578125, 0.003173828125, 0.0018310546875, 0.0026702880859375, 0.00628662109375, 0.0089111328125, 0.0057373046875, 0.0020751953125, 0.00138092041015625, 0.00189208984375, 0.00107574462890625, 0.00433349609375, 0.004974365234375, 0.00125885009765625, 0.0042724609375, 0.00074005126953125, 0.001617431640625, 0.003021240234375, 0.00347900390625, 0.00069427490234375, 0.003326416015625, 0.0026702880859375, 0.0005950927734375, 0.0029296875, 0.003326416015625, 0.00063323974609375, 0.001617431640625, 0.0033721923828125, 0.01275634765625, 0.0174560546875, 0.018798828125]}\n",
       "    )\n",
       "    </script>"
      ],
      "text/plain": [
       "<circuitsvis.utils.render.RenderedHTML at 0x7f58bc53ec50>"
      ]
     },
     "metadata": {},
     "output_type": "display_data"
    },
    {
     "name": "stdout",
     "output_type": "stream",
     "text": [
      "Layer 35, Group 13 (Heads 13-13) | Shape: torch.Size([43, 43])\n"
     ]
    },
    {
     "data": {
      "text/html": [
       "<div id=\"circuits-vis-cb2f131a-f81c\" style=\"margin: 15px 0;\"/>\n",
       "    <script crossorigin type=\"module\">\n",
       "    import { render, ColoredTokens } from \"https://unpkg.com/circuitsvis@1.43.3/dist/cdn/esm.js\";\n",
       "    render(\n",
       "      \"circuits-vis-cb2f131a-f81c\",\n",
       "      ColoredTokens,\n",
       "      {\"tokens\": [\"Which\", \" person\", \" from\", \" the\", \" following\", \" list\", \" has\", \" the\", \" profession\", \" in\", \" common\", \" with\", \" Ed\", \" She\", \"er\", \"an\", \"?\\n\", \"Options\", \":\", \" G\", \"reta\", \" Ger\", \"wig\", \",\", \" Hillary\", \" Clinton\", \",\", \" Kanye\", \" West\", \",\", \" Nicholas\", \" Sparks\", \",\", \" Stephen\", \" Curry\", \",\", \" Phil\", \" Mick\", \"elson\", \"\\n\", \"Ans\", \":\"], \"values\": [0.00897216796875, 0.000972747802734375, 0.00091552734375, 0.000888824462890625, 0.000972747802734375, 0.000782012939453125, 0.000537872314453125, 0.0001316070556640625, 0.001007080078125, 0.000217437744140625, 0.00176239013671875, 0.000690460205078125, 0.000759124755859375, 0.000522613525390625, 0.0015106201171875, 0.00133514404296875, 0.0020294189453125, 0.00110626220703125, 0.000759124755859375, 0.0004329681396484375, 0.000392913818359375, 0.00018596649169921875, 0.001068115234375, 0.000690460205078125, 0.000347137451171875, 0.000782012939453125, 0.000164031982421875, 0.000690460205078125, 0.000736236572265625, 0.00067138671875, 0.0002880096435546875, 0.000835418701171875, 0.0004062652587890625, 0.00015926361083984375, 0.0004596710205078125, 0.0003376007080078125, 0.00015926361083984375, 0.00057220458984375, 0.000370025634765625, 0.00128936767578125, 0.0030975341796875, 0.0020294189453125]}\n",
       "    )\n",
       "    </script>"
      ],
      "text/plain": [
       "<circuitsvis.utils.render.RenderedHTML at 0x7f58bc570d90>"
      ]
     },
     "metadata": {},
     "output_type": "display_data"
    },
    {
     "name": "stdout",
     "output_type": "stream",
     "text": [
      "Layer 35, Group 14 (Heads 14-14) | Shape: torch.Size([43, 43])\n"
     ]
    },
    {
     "data": {
      "text/html": [
       "<div id=\"circuits-vis-f2e19fb9-3934\" style=\"margin: 15px 0;\"/>\n",
       "    <script crossorigin type=\"module\">\n",
       "    import { render, ColoredTokens } from \"https://unpkg.com/circuitsvis@1.43.3/dist/cdn/esm.js\";\n",
       "    render(\n",
       "      \"circuits-vis-f2e19fb9-3934\",\n",
       "      ColoredTokens,\n",
       "      {\"tokens\": [\"Which\", \" person\", \" from\", \" the\", \" following\", \" list\", \" has\", \" the\", \" profession\", \" in\", \" common\", \" with\", \" Ed\", \" She\", \"er\", \"an\", \"?\\n\", \"Options\", \":\", \" G\", \"reta\", \" Ger\", \"wig\", \",\", \" Hillary\", \" Clinton\", \",\", \" Kanye\", \" West\", \",\", \" Nicholas\", \" Sparks\", \",\", \" Stephen\", \" Curry\", \",\", \" Phil\", \" Mick\", \"elson\", \"\\n\", \"Ans\", \":\"], \"values\": [0.00946044921875, 0.0003986358642578125, 0.00028228759765625, 0.000362396240234375, 0.00021266937255859375, 0.00023365020751953125, 0.00011777877807617188, 5.91278076171875e-05, 0.0006561279296875, 0.000110626220703125, 0.000579833984375, 8.58306884765625e-05, 0.0002918243408203125, 0.00021266937255859375, 0.00052642822265625, 0.000637054443359375, 0.0006561279296875, 0.00037384033203125, 0.00021266937255859375, 0.0002269744873046875, 0.0002651214599609375, 0.0001506805419921875, 0.0006561279296875, 0.0004367828369140625, 0.0002269744873046875, 0.000637054443359375, 0.00011777877807617188, 0.000423431396484375, 0.0003204345703125, 0.0003204345703125, 0.00010728836059570312, 0.0004367828369140625, 0.00023365020751953125, 0.00011777877807617188, 0.00045013427734375, 0.00023365020751953125, 0.00010728836059570312, 0.0004367828369140625, 0.000423431396484375, 0.0023651123046875, 0.005584716796875, 0.002288818359375]}\n",
       "    )\n",
       "    </script>"
      ],
      "text/plain": [
       "<circuitsvis.utils.render.RenderedHTML at 0x7f58dc3e14d0>"
      ]
     },
     "metadata": {},
     "output_type": "display_data"
    },
    {
     "name": "stdout",
     "output_type": "stream",
     "text": [
      "Layer 35, Group 15 (Heads 15-15) | Shape: torch.Size([43, 43])\n"
     ]
    },
    {
     "data": {
      "text/html": [
       "<div id=\"circuits-vis-4dfddce9-12ee\" style=\"margin: 15px 0;\"/>\n",
       "    <script crossorigin type=\"module\">\n",
       "    import { render, ColoredTokens } from \"https://unpkg.com/circuitsvis@1.43.3/dist/cdn/esm.js\";\n",
       "    render(\n",
       "      \"circuits-vis-4dfddce9-12ee\",\n",
       "      ColoredTokens,\n",
       "      {\"tokens\": [\"Which\", \" person\", \" from\", \" the\", \" following\", \" list\", \" has\", \" the\", \" profession\", \" in\", \" common\", \" with\", \" Ed\", \" She\", \"er\", \"an\", \"?\\n\", \"Options\", \":\", \" G\", \"reta\", \" Ger\", \"wig\", \",\", \" Hillary\", \" Clinton\", \",\", \" Kanye\", \" West\", \",\", \" Nicholas\", \" Sparks\", \",\", \" Stephen\", \" Curry\", \",\", \" Phil\", \" Mick\", \"elson\", \"\\n\", \"Ans\", \":\"], \"values\": [0.00372314453125, 0.002593994140625, 0.00096893310546875, 0.00186920166015625, 0.001068115234375, 0.000804901123046875, 0.000644683837890625, 9.584426879882812e-05, 0.0010986328125, 0.000148773193359375, 0.00154876708984375, 0.000335693359375, 0.000286102294921875, 0.00014400482177734375, 0.0007781982421875, 0.000804901123046875, 0.003326416015625, 0.00164794921875, 0.000732421875, 0.0001354217529296875, 0.0001354217529296875, 9.298324584960938e-05, 0.0005340576171875, 0.000732421875, 0.00014400482177734375, 0.0004444122314453125, 0.00011968612670898438, 0.0001850128173828125, 0.0003795623779296875, 0.00070953369140625, 0.0001087188720703125, 0.000553131103515625, 0.0003681182861328125, 4.982948303222656e-05, 0.0003910064697265625, 0.000431060791015625, 7.486343383789062e-05, 0.0002689361572265625, 0.000518798828125, 0.0040283203125, 0.0096435546875, 0.004425048828125]}\n",
       "    )\n",
       "    </script>"
      ],
      "text/plain": [
       "<circuitsvis.utils.render.RenderedHTML at 0x7f594013bd50>"
      ]
     },
     "metadata": {},
     "output_type": "display_data"
    },
    {
     "name": "stdout",
     "output_type": "stream",
     "text": [
      "Layer 35, Group 16 (Heads 16-16) | Shape: torch.Size([43, 43])\n"
     ]
    },
    {
     "data": {
      "text/html": [
       "<div id=\"circuits-vis-7de3489c-61ce\" style=\"margin: 15px 0;\"/>\n",
       "    <script crossorigin type=\"module\">\n",
       "    import { render, ColoredTokens } from \"https://unpkg.com/circuitsvis@1.43.3/dist/cdn/esm.js\";\n",
       "    render(\n",
       "      \"circuits-vis-7de3489c-61ce\",\n",
       "      ColoredTokens,\n",
       "      {\"tokens\": [\"Which\", \" person\", \" from\", \" the\", \" following\", \" list\", \" has\", \" the\", \" profession\", \" in\", \" common\", \" with\", \" Ed\", \" She\", \"er\", \"an\", \"?\\n\", \"Options\", \":\", \" G\", \"reta\", \" Ger\", \"wig\", \",\", \" Hillary\", \" Clinton\", \",\", \" Kanye\", \" West\", \",\", \" Nicholas\", \" Sparks\", \",\", \" Stephen\", \" Curry\", \",\", \" Phil\", \" Mick\", \"elson\", \"\\n\", \"Ans\", \":\"], \"values\": [0.036376953125, 0.0031280517578125, 0.004638671875, 0.0025634765625, 0.0018157958984375, 0.000957489013671875, 0.00116729736328125, 0.0017852783203125, 0.003082275390625, 0.0004730224609375, 0.0033416748046875, 0.0035552978515625, 0.004150390625, 0.00604248046875, 0.01495361328125, 0.0230712890625, 0.0042724609375, 0.003387451171875, 0.0091552734375, 0.01116943359375, 0.00299072265625, 0.002288818359375, 0.022705078125, 0.0400390625, 0.006744384765625, 0.021240234375, 0.048583984375, 0.056640625, 0.040283203125, 0.057373046875, 0.0086669921875, 0.037109375, 0.068359375, 0.0091552734375, 0.03759765625, 0.05712890625, 0.004486083984375, 0.0054931640625, 0.033203125, 0.022705078125, 0.0012054443359375, 0.009521484375]}\n",
       "    )\n",
       "    </script>"
      ],
      "text/plain": [
       "<circuitsvis.utils.render.RenderedHTML at 0x7f591c139710>"
      ]
     },
     "metadata": {},
     "output_type": "display_data"
    },
    {
     "name": "stdout",
     "output_type": "stream",
     "text": [
      "Layer 35, Group 17 (Heads 17-17) | Shape: torch.Size([43, 43])\n"
     ]
    },
    {
     "data": {
      "text/html": [
       "<div id=\"circuits-vis-64d71c2e-494b\" style=\"margin: 15px 0;\"/>\n",
       "    <script crossorigin type=\"module\">\n",
       "    import { render, ColoredTokens } from \"https://unpkg.com/circuitsvis@1.43.3/dist/cdn/esm.js\";\n",
       "    render(\n",
       "      \"circuits-vis-64d71c2e-494b\",\n",
       "      ColoredTokens,\n",
       "      {\"tokens\": [\"Which\", \" person\", \" from\", \" the\", \" following\", \" list\", \" has\", \" the\", \" profession\", \" in\", \" common\", \" with\", \" Ed\", \" She\", \"er\", \"an\", \"?\\n\", \"Options\", \":\", \" G\", \"reta\", \" Ger\", \"wig\", \",\", \" Hillary\", \" Clinton\", \",\", \" Kanye\", \" West\", \",\", \" Nicholas\", \" Sparks\", \",\", \" Stephen\", \" Curry\", \",\", \" Phil\", \" Mick\", \"elson\", \"\\n\", \"Ans\", \":\"], \"values\": [0.025634765625, 0.0017852783203125, 0.0028533935546875, 0.0032501220703125, 0.000911712646484375, 0.00092315673828125, 0.00046539306640625, 0.00098419189453125, 0.001190185546875, 0.0001354217529296875, 0.0005035400390625, 0.000911712646484375, 0.0028533935546875, 0.0023193359375, 0.0027313232421875, 0.00927734375, 0.002227783203125, 0.00095367431640625, 0.0133056640625, 0.0087890625, 0.0001735687255859375, 0.0002231597900390625, 0.004241943359375, 0.033935546875, 0.00030517578125, 0.000789642333984375, 0.0223388671875, 0.09716796875, 0.16015625, 0.11376953125, 0.007049560546875, 0.0125732421875, 0.208984375, 0.0052490234375, 0.01080322265625, 0.08203125, 0.0026092529296875, 0.0010833740234375, 0.00799560546875, 0.0302734375, 0.0001735687255859375, 0.01031494140625]}\n",
       "    )\n",
       "    </script>"
      ],
      "text/plain": [
       "<circuitsvis.utils.render.RenderedHTML at 0x7f58bc52fd10>"
      ]
     },
     "metadata": {},
     "output_type": "display_data"
    },
    {
     "name": "stdout",
     "output_type": "stream",
     "text": [
      "Layer 35, Group 18 (Heads 18-18) | Shape: torch.Size([43, 43])\n"
     ]
    },
    {
     "data": {
      "text/html": [
       "<div id=\"circuits-vis-aa9292cb-ff00\" style=\"margin: 15px 0;\"/>\n",
       "    <script crossorigin type=\"module\">\n",
       "    import { render, ColoredTokens } from \"https://unpkg.com/circuitsvis@1.43.3/dist/cdn/esm.js\";\n",
       "    render(\n",
       "      \"circuits-vis-aa9292cb-ff00\",\n",
       "      ColoredTokens,\n",
       "      {\"tokens\": [\"Which\", \" person\", \" from\", \" the\", \" following\", \" list\", \" has\", \" the\", \" profession\", \" in\", \" common\", \" with\", \" Ed\", \" She\", \"er\", \"an\", \"?\\n\", \"Options\", \":\", \" G\", \"reta\", \" Ger\", \"wig\", \",\", \" Hillary\", \" Clinton\", \",\", \" Kanye\", \" West\", \",\", \" Nicholas\", \" Sparks\", \",\", \" Stephen\", \" Curry\", \",\", \" Phil\", \" Mick\", \"elson\", \"\\n\", \"Ans\", \":\"], \"values\": [0.0220947265625, 0.006439208984375, 0.0081787109375, 0.0011444091796875, 0.002593994140625, 0.000583648681640625, 0.009765625, 0.000614166259765625, 0.0028839111328125, 0.00063323974609375, 0.009765625, 0.00872802734375, 0.0089111328125, 0.0033111572265625, 0.00482177734375, 0.0341796875, 0.022705078125, 0.0033111572265625, 0.00872802734375, 0.004425048828125, 0.00063323974609375, 0.00034332275390625, 0.003021240234375, 0.087890625, 0.00074005126953125, 0.003997802734375, 0.0260009765625, 0.02392578125, 0.1728515625, 0.21484375, 0.00238037109375, 0.005218505859375, 0.1044921875, 0.00193023681640625, 0.012451171875, 0.060546875, 0.0012664794921875, 0.00110626220703125, 0.00860595703125, 0.02294921875, 0.0029449462890625, 0.0198974609375]}\n",
       "    )\n",
       "    </script>"
      ],
      "text/plain": [
       "<circuitsvis.utils.render.RenderedHTML at 0x7f5965386150>"
      ]
     },
     "metadata": {},
     "output_type": "display_data"
    },
    {
     "name": "stdout",
     "output_type": "stream",
     "text": [
      "Layer 35, Group 19 (Heads 19-19) | Shape: torch.Size([43, 43])\n"
     ]
    },
    {
     "data": {
      "text/html": [
       "<div id=\"circuits-vis-3a820e59-0ca2\" style=\"margin: 15px 0;\"/>\n",
       "    <script crossorigin type=\"module\">\n",
       "    import { render, ColoredTokens } from \"https://unpkg.com/circuitsvis@1.43.3/dist/cdn/esm.js\";\n",
       "    render(\n",
       "      \"circuits-vis-3a820e59-0ca2\",\n",
       "      ColoredTokens,\n",
       "      {\"tokens\": [\"Which\", \" person\", \" from\", \" the\", \" following\", \" list\", \" has\", \" the\", \" profession\", \" in\", \" common\", \" with\", \" Ed\", \" She\", \"er\", \"an\", \"?\\n\", \"Options\", \":\", \" G\", \"reta\", \" Ger\", \"wig\", \",\", \" Hillary\", \" Clinton\", \",\", \" Kanye\", \" West\", \",\", \" Nicholas\", \" Sparks\", \",\", \" Stephen\", \" Curry\", \",\", \" Phil\", \" Mick\", \"elson\", \"\\n\", \"Ans\", \":\"], \"values\": [0.005035400390625, 0.0003509521484375, 0.0009613037109375, 0.0002956390380859375, 4.1961669921875e-05, 2.5391578674316406e-05, 3.361701965332031e-05, 8.20159912109375e-05, 0.00020313262939453125, 2.7060508728027344e-05, 4.315376281738281e-05, 0.0004425048828125, 0.00148773193359375, 0.00653076171875, 0.0179443359375, 0.02294921875, 9.298324584960938e-05, 1.9788742065429688e-05, 0.00052642822265625, 0.0019683837890625, 7.581710815429688e-05, 7.581710815429688e-05, 0.006317138671875, 0.005401611328125, 0.0004291534423828125, 0.00112152099609375, 0.0045166015625, 0.33984375, 0.349609375, 0.021240234375, 0.002288818359375, 0.0205078125, 0.095703125, 0.00146484375, 0.01348876953125, 0.01348876953125, 0.00045013427734375, 0.00081634521484375, 0.0026397705078125, 0.000698089599609375, 7.510185241699219e-06, 0.0031890869140625]}\n",
       "    )\n",
       "    </script>"
      ],
      "text/plain": [
       "<circuitsvis.utils.render.RenderedHTML at 0x7f58dc588ed0>"
      ]
     },
     "metadata": {},
     "output_type": "display_data"
    },
    {
     "name": "stdout",
     "output_type": "stream",
     "text": [
      "Layer 35, Group 20 (Heads 20-20) | Shape: torch.Size([43, 43])\n"
     ]
    },
    {
     "data": {
      "text/html": [
       "<div id=\"circuits-vis-f4b1d553-828e\" style=\"margin: 15px 0;\"/>\n",
       "    <script crossorigin type=\"module\">\n",
       "    import { render, ColoredTokens } from \"https://unpkg.com/circuitsvis@1.43.3/dist/cdn/esm.js\";\n",
       "    render(\n",
       "      \"circuits-vis-f4b1d553-828e\",\n",
       "      ColoredTokens,\n",
       "      {\"tokens\": [\"Which\", \" person\", \" from\", \" the\", \" following\", \" list\", \" has\", \" the\", \" profession\", \" in\", \" common\", \" with\", \" Ed\", \" She\", \"er\", \"an\", \"?\\n\", \"Options\", \":\", \" G\", \"reta\", \" Ger\", \"wig\", \",\", \" Hillary\", \" Clinton\", \",\", \" Kanye\", \" West\", \",\", \" Nicholas\", \" Sparks\", \",\", \" Stephen\", \" Curry\", \",\", \" Phil\", \" Mick\", \"elson\", \"\\n\", \"Ans\", \":\"], \"values\": [0.043701171875, 0.006866455078125, 0.01104736328125, 0.00946044921875, 0.008056640625, 0.0031585693359375, 0.0021820068359375, 0.00341796875, 0.00555419921875, 0.0014495849609375, 0.009521484375, 0.0263671875, 0.0086669921875, 0.0050048828125, 0.01055908203125, 0.043212890625, 0.0257568359375, 0.0026702880859375, 0.0213623046875, 0.0091552734375, 0.00019931793212890625, 0.0001811981201171875, 0.002471923828125, 0.041015625, 0.000408172607421875, 0.0013427734375, 0.0250244140625, 0.01141357421875, 0.07275390625, 0.11865234375, 0.0030670166015625, 0.0042724609375, 0.05615234375, 0.00167083740234375, 0.00469970703125, 0.024169921875, 0.000812530517578125, 0.0003490447998046875, 0.001800537109375, 0.056884765625, 0.00087738037109375, 0.029541015625]}\n",
       "    )\n",
       "    </script>"
      ],
      "text/plain": [
       "<circuitsvis.utils.render.RenderedHTML at 0x7f58dc589e10>"
      ]
     },
     "metadata": {},
     "output_type": "display_data"
    },
    {
     "name": "stdout",
     "output_type": "stream",
     "text": [
      "Layer 35, Group 21 (Heads 21-21) | Shape: torch.Size([43, 43])\n"
     ]
    },
    {
     "data": {
      "text/html": [
       "<div id=\"circuits-vis-80d7f489-02c2\" style=\"margin: 15px 0;\"/>\n",
       "    <script crossorigin type=\"module\">\n",
       "    import { render, ColoredTokens } from \"https://unpkg.com/circuitsvis@1.43.3/dist/cdn/esm.js\";\n",
       "    render(\n",
       "      \"circuits-vis-80d7f489-02c2\",\n",
       "      ColoredTokens,\n",
       "      {\"tokens\": [\"Which\", \" person\", \" from\", \" the\", \" following\", \" list\", \" has\", \" the\", \" profession\", \" in\", \" common\", \" with\", \" Ed\", \" She\", \"er\", \"an\", \"?\\n\", \"Options\", \":\", \" G\", \"reta\", \" Ger\", \"wig\", \",\", \" Hillary\", \" Clinton\", \",\", \" Kanye\", \" West\", \",\", \" Nicholas\", \" Sparks\", \",\", \" Stephen\", \" Curry\", \",\", \" Phil\", \" Mick\", \"elson\", \"\\n\", \"Ans\", \":\"], \"values\": [0.029296875, 0.01153564453125, 0.007049560546875, 0.006622314453125, 0.0084228515625, 0.004638671875, 0.00787353515625, 0.00180816650390625, 0.01123046875, 0.00092315673828125, 0.01373291015625, 0.0240478515625, 0.044921875, 0.0245361328125, 0.024658203125, 0.107421875, 0.044921875, 0.0089111328125, 0.0233154296875, 0.013671875, 0.00183868408203125, 0.00106048583984375, 0.006561279296875, 0.029296875, 0.0027923583984375, 0.007537841796875, 0.0128173828125, 0.03515625, 0.061767578125, 0.060791015625, 0.0036468505859375, 0.00677490234375, 0.03076171875, 0.00396728515625, 0.006866455078125, 0.012451171875, 0.002349853515625, 0.00189208984375, 0.0032196044921875, 0.028564453125, 0.0135498046875, 0.07763671875]}\n",
       "    )\n",
       "    </script>"
      ],
      "text/plain": [
       "<circuitsvis.utils.render.RenderedHTML at 0x7f58bc52d910>"
      ]
     },
     "metadata": {},
     "output_type": "display_data"
    },
    {
     "name": "stdout",
     "output_type": "stream",
     "text": [
      "Layer 35, Group 22 (Heads 22-22) | Shape: torch.Size([43, 43])\n"
     ]
    },
    {
     "data": {
      "text/html": [
       "<div id=\"circuits-vis-cdacca99-1ee7\" style=\"margin: 15px 0;\"/>\n",
       "    <script crossorigin type=\"module\">\n",
       "    import { render, ColoredTokens } from \"https://unpkg.com/circuitsvis@1.43.3/dist/cdn/esm.js\";\n",
       "    render(\n",
       "      \"circuits-vis-cdacca99-1ee7\",\n",
       "      ColoredTokens,\n",
       "      {\"tokens\": [\"Which\", \" person\", \" from\", \" the\", \" following\", \" list\", \" has\", \" the\", \" profession\", \" in\", \" common\", \" with\", \" Ed\", \" She\", \"er\", \"an\", \"?\\n\", \"Options\", \":\", \" G\", \"reta\", \" Ger\", \"wig\", \",\", \" Hillary\", \" Clinton\", \",\", \" Kanye\", \" West\", \",\", \" Nicholas\", \" Sparks\", \",\", \" Stephen\", \" Curry\", \",\", \" Phil\", \" Mick\", \"elson\", \"\\n\", \"Ans\", \":\"], \"values\": [0.019775390625, 0.0302734375, 0.01263427734375, 0.00238037109375, 0.00921630859375, 0.005859375, 0.08251953125, 0.00360107421875, 0.0162353515625, 0.0019683837890625, 0.009033203125, 0.0111083984375, 0.0224609375, 0.0096435546875, 0.00390625, 0.07373046875, 0.046142578125, 0.0091552734375, 0.025390625, 0.014404296875, 0.00136566162109375, 0.001251220703125, 0.00885009765625, 0.03857421875, 0.002105712890625, 0.01263427734375, 0.020751953125, 0.0111083984375, 0.044189453125, 0.0673828125, 0.0024261474609375, 0.0140380859375, 0.051513671875, 0.0026702880859375, 0.0291748046875, 0.03515625, 0.00153350830078125, 0.004669189453125, 0.02294921875, 0.083984375, 0.017333984375, 0.0654296875]}\n",
       "    )\n",
       "    </script>"
      ],
      "text/plain": [
       "<circuitsvis.utils.render.RenderedHTML at 0x7f58bc3fe690>"
      ]
     },
     "metadata": {},
     "output_type": "display_data"
    },
    {
     "name": "stdout",
     "output_type": "stream",
     "text": [
      "Layer 35, Group 23 (Heads 23-23) | Shape: torch.Size([43, 43])\n"
     ]
    },
    {
     "data": {
      "text/html": [
       "<div id=\"circuits-vis-4a0f1706-e383\" style=\"margin: 15px 0;\"/>\n",
       "    <script crossorigin type=\"module\">\n",
       "    import { render, ColoredTokens } from \"https://unpkg.com/circuitsvis@1.43.3/dist/cdn/esm.js\";\n",
       "    render(\n",
       "      \"circuits-vis-4a0f1706-e383\",\n",
       "      ColoredTokens,\n",
       "      {\"tokens\": [\"Which\", \" person\", \" from\", \" the\", \" following\", \" list\", \" has\", \" the\", \" profession\", \" in\", \" common\", \" with\", \" Ed\", \" She\", \"er\", \"an\", \"?\\n\", \"Options\", \":\", \" G\", \"reta\", \" Ger\", \"wig\", \",\", \" Hillary\", \" Clinton\", \",\", \" Kanye\", \" West\", \",\", \" Nicholas\", \" Sparks\", \",\", \" Stephen\", \" Curry\", \",\", \" Phil\", \" Mick\", \"elson\", \"\\n\", \"Ans\", \":\"], \"values\": [0.0235595703125, 0.00157928466796875, 0.003448486328125, 0.002685546875, 0.0033416748046875, 0.002044677734375, 0.001556396484375, 0.000522613525390625, 0.000873565673828125, 7.867813110351562e-05, 0.001068115234375, 0.0027618408203125, 0.01495361328125, 0.0089111328125, 0.00433349609375, 0.0625, 0.018310546875, 0.0107421875, 0.0255126953125, 0.01397705078125, 0.0010223388671875, 0.00084686279296875, 0.0030670166015625, 0.046875, 0.001922607421875, 0.0098876953125, 0.0230712890625, 0.01416015625, 0.06591796875, 0.23828125, 0.0025482177734375, 0.00518798828125, 0.045166015625, 0.002197265625, 0.020751953125, 0.064453125, 0.0009918212890625, 0.00160980224609375, 0.00726318359375, 0.1279296875, 0.0025482177734375, 0.01019287109375]}\n",
       "    )\n",
       "    </script>"
      ],
      "text/plain": [
       "<circuitsvis.utils.render.RenderedHTML at 0x7f58dc3e4410>"
      ]
     },
     "metadata": {},
     "output_type": "display_data"
    },
    {
     "name": "stdout",
     "output_type": "stream",
     "text": [
      "Layer 35, Group 24 (Heads 24-24) | Shape: torch.Size([43, 43])\n"
     ]
    },
    {
     "data": {
      "text/html": [
       "<div id=\"circuits-vis-260ce275-4798\" style=\"margin: 15px 0;\"/>\n",
       "    <script crossorigin type=\"module\">\n",
       "    import { render, ColoredTokens } from \"https://unpkg.com/circuitsvis@1.43.3/dist/cdn/esm.js\";\n",
       "    render(\n",
       "      \"circuits-vis-260ce275-4798\",\n",
       "      ColoredTokens,\n",
       "      {\"tokens\": [\"Which\", \" person\", \" from\", \" the\", \" following\", \" list\", \" has\", \" the\", \" profession\", \" in\", \" common\", \" with\", \" Ed\", \" She\", \"er\", \"an\", \"?\\n\", \"Options\", \":\", \" G\", \"reta\", \" Ger\", \"wig\", \",\", \" Hillary\", \" Clinton\", \",\", \" Kanye\", \" West\", \",\", \" Nicholas\", \" Sparks\", \",\", \" Stephen\", \" Curry\", \",\", \" Phil\", \" Mick\", \"elson\", \"\\n\", \"Ans\", \":\"], \"values\": [0.007232666015625, 0.000598907470703125, 0.00103759765625, 0.00064849853515625, 0.00110626220703125, 0.00146484375, 0.000438690185546875, 0.00018024444580078125, 0.00121307373046875, 0.0001544952392578125, 0.002410888671875, 0.005218505859375, 0.00933837890625, 0.005645751953125, 0.0029296875, 0.01007080078125, 0.0045166015625, 0.005157470703125, 0.0147705078125, 0.007232666015625, 0.000461578369140625, 0.00014019012451171875, 0.0037078857421875, 0.0498046875, 0.00160980224609375, 0.0064697265625, 0.00994873046875, 0.0274658203125, 0.06689453125, 0.306640625, 0.0059814453125, 0.01123046875, 0.107421875, 0.0038909912109375, 0.0118408203125, 0.037841796875, 0.00109100341796875, 0.001708984375, 0.010009765625, 0.023193359375, 0.001312255859375, 0.016357421875]}\n",
       "    )\n",
       "    </script>"
      ],
      "text/plain": [
       "<circuitsvis.utils.render.RenderedHTML at 0x7f59401abd10>"
      ]
     },
     "metadata": {},
     "output_type": "display_data"
    },
    {
     "name": "stdout",
     "output_type": "stream",
     "text": [
      "Layer 35, Group 25 (Heads 25-25) | Shape: torch.Size([43, 43])\n"
     ]
    },
    {
     "data": {
      "text/html": [
       "<div id=\"circuits-vis-fa8292a8-12ca\" style=\"margin: 15px 0;\"/>\n",
       "    <script crossorigin type=\"module\">\n",
       "    import { render, ColoredTokens } from \"https://unpkg.com/circuitsvis@1.43.3/dist/cdn/esm.js\";\n",
       "    render(\n",
       "      \"circuits-vis-fa8292a8-12ca\",\n",
       "      ColoredTokens,\n",
       "      {\"tokens\": [\"Which\", \" person\", \" from\", \" the\", \" following\", \" list\", \" has\", \" the\", \" profession\", \" in\", \" common\", \" with\", \" Ed\", \" She\", \"er\", \"an\", \"?\\n\", \"Options\", \":\", \" G\", \"reta\", \" Ger\", \"wig\", \",\", \" Hillary\", \" Clinton\", \",\", \" Kanye\", \" West\", \",\", \" Nicholas\", \" Sparks\", \",\", \" Stephen\", \" Curry\", \",\", \" Phil\", \" Mick\", \"elson\", \"\\n\", \"Ans\", \":\"], \"values\": [0.0274658203125, 0.0255126953125, 0.011474609375, 0.0030670166015625, 0.013916015625, 0.01806640625, 0.0174560546875, 0.00109100341796875, 0.033935546875, 0.004913330078125, 0.007598876953125, 0.011962890625, 0.0220947265625, 0.01300048828125, 0.006011962890625, 0.042236328125, 0.0289306640625, 0.0400390625, 0.05322265625, 0.01019287109375, 0.00099945068359375, 0.0002288818359375, 0.001708984375, 0.049072265625, 0.00087738037109375, 0.0036468505859375, 0.00921630859375, 0.00933837890625, 0.025146484375, 0.12255859375, 0.0028839111328125, 0.0033416748046875, 0.03466796875, 0.0032958984375, 0.00439453125, 0.01434326171875, 0.0012359619140625, 0.0004634857177734375, 0.001617431640625, 0.076171875, 0.047119140625, 0.08740234375]}\n",
       "    )\n",
       "    </script>"
      ],
      "text/plain": [
       "<circuitsvis.utils.render.RenderedHTML at 0x7f58dc3e2050>"
      ]
     },
     "metadata": {},
     "output_type": "display_data"
    },
    {
     "name": "stdout",
     "output_type": "stream",
     "text": [
      "Layer 35, Group 26 (Heads 26-26) | Shape: torch.Size([43, 43])\n"
     ]
    },
    {
     "data": {
      "text/html": [
       "<div id=\"circuits-vis-c10e251e-2851\" style=\"margin: 15px 0;\"/>\n",
       "    <script crossorigin type=\"module\">\n",
       "    import { render, ColoredTokens } from \"https://unpkg.com/circuitsvis@1.43.3/dist/cdn/esm.js\";\n",
       "    render(\n",
       "      \"circuits-vis-c10e251e-2851\",\n",
       "      ColoredTokens,\n",
       "      {\"tokens\": [\"Which\", \" person\", \" from\", \" the\", \" following\", \" list\", \" has\", \" the\", \" profession\", \" in\", \" common\", \" with\", \" Ed\", \" She\", \"er\", \"an\", \"?\\n\", \"Options\", \":\", \" G\", \"reta\", \" Ger\", \"wig\", \",\", \" Hillary\", \" Clinton\", \",\", \" Kanye\", \" West\", \",\", \" Nicholas\", \" Sparks\", \",\", \" Stephen\", \" Curry\", \",\", \" Phil\", \" Mick\", \"elson\", \"\\n\", \"Ans\", \":\"], \"values\": [0.018798828125, 0.061767578125, 0.0186767578125, 0.00141143798828125, 0.0322265625, 0.06494140625, 0.10498046875, 0.00439453125, 0.21875, 0.01324462890625, 0.055419921875, 0.01055908203125, 0.007659912109375, 0.0014190673828125, 0.000759124755859375, 0.00897216796875, 0.036865234375, 0.0303955078125, 0.022705078125, 0.0059814453125, 0.0004367828369140625, 0.0002956390380859375, 0.00128173828125, 0.037841796875, 0.00052642822265625, 0.0025787353515625, 0.0103759765625, 0.0017242431640625, 0.00848388671875, 0.0322265625, 0.00113677978515625, 0.00176239013671875, 0.01104736328125, 0.00099945068359375, 0.0023651123046875, 0.0106201171875, 0.00054168701171875, 0.00022602081298828125, 0.00091552734375, 0.05712890625, 0.036865234375, 0.037353515625]}\n",
       "    )\n",
       "    </script>"
      ],
      "text/plain": [
       "<circuitsvis.utils.render.RenderedHTML at 0x7f58bc3fe350>"
      ]
     },
     "metadata": {},
     "output_type": "display_data"
    },
    {
     "name": "stdout",
     "output_type": "stream",
     "text": [
      "Layer 35, Group 27 (Heads 27-27) | Shape: torch.Size([43, 43])\n"
     ]
    },
    {
     "data": {
      "text/html": [
       "<div id=\"circuits-vis-696283f5-3161\" style=\"margin: 15px 0;\"/>\n",
       "    <script crossorigin type=\"module\">\n",
       "    import { render, ColoredTokens } from \"https://unpkg.com/circuitsvis@1.43.3/dist/cdn/esm.js\";\n",
       "    render(\n",
       "      \"circuits-vis-696283f5-3161\",\n",
       "      ColoredTokens,\n",
       "      {\"tokens\": [\"Which\", \" person\", \" from\", \" the\", \" following\", \" list\", \" has\", \" the\", \" profession\", \" in\", \" common\", \" with\", \" Ed\", \" She\", \"er\", \"an\", \"?\\n\", \"Options\", \":\", \" G\", \"reta\", \" Ger\", \"wig\", \",\", \" Hillary\", \" Clinton\", \",\", \" Kanye\", \" West\", \",\", \" Nicholas\", \" Sparks\", \",\", \" Stephen\", \" Curry\", \",\", \" Phil\", \" Mick\", \"elson\", \"\\n\", \"Ans\", \":\"], \"values\": [0.01904296875, 0.007354736328125, 0.0250244140625, 0.00927734375, 0.004974365234375, 0.00445556640625, 0.00384521484375, 0.00152587890625, 0.01019287109375, 0.0021209716796875, 0.0140380859375, 0.0113525390625, 0.0361328125, 0.0166015625, 0.0069580078125, 0.2158203125, 0.01806640625, 0.0016021728515625, 0.00653076171875, 0.0186767578125, 0.0031890869140625, 0.00099945068359375, 0.007354736328125, 0.052001953125, 0.0023345947265625, 0.00653076171875, 0.0069580078125, 0.01251220703125, 0.08349609375, 0.037109375, 0.0021209716796875, 0.004974365234375, 0.0146484375, 0.000942230224609375, 0.005950927734375, 0.004852294921875, 0.000537872314453125, 0.00052642822265625, 0.00095367431640625, 0.01275634765625, 0.00225830078125, 0.046630859375]}\n",
       "    )\n",
       "    </script>"
      ],
      "text/plain": [
       "<circuitsvis.utils.render.RenderedHTML at 0x7f591c157b10>"
      ]
     },
     "metadata": {},
     "output_type": "display_data"
    },
    {
     "name": "stdout",
     "output_type": "stream",
     "text": [
      "Layer 35, Group 28 (Heads 28-28) | Shape: torch.Size([43, 43])\n"
     ]
    },
    {
     "data": {
      "text/html": [
       "<div id=\"circuits-vis-a739a950-0552\" style=\"margin: 15px 0;\"/>\n",
       "    <script crossorigin type=\"module\">\n",
       "    import { render, ColoredTokens } from \"https://unpkg.com/circuitsvis@1.43.3/dist/cdn/esm.js\";\n",
       "    render(\n",
       "      \"circuits-vis-a739a950-0552\",\n",
       "      ColoredTokens,\n",
       "      {\"tokens\": [\"Which\", \" person\", \" from\", \" the\", \" following\", \" list\", \" has\", \" the\", \" profession\", \" in\", \" common\", \" with\", \" Ed\", \" She\", \"er\", \"an\", \"?\\n\", \"Options\", \":\", \" G\", \"reta\", \" Ger\", \"wig\", \",\", \" Hillary\", \" Clinton\", \",\", \" Kanye\", \" West\", \",\", \" Nicholas\", \" Sparks\", \",\", \" Stephen\", \" Curry\", \",\", \" Phil\", \" Mick\", \"elson\", \"\\n\", \"Ans\", \":\"], \"values\": [0.0216064453125, 0.00244140625, 0.00494384765625, 0.001373291015625, 0.000942230224609375, 0.000804901123046875, 0.001190185546875, 0.00225830078125, 0.0167236328125, 0.004791259765625, 0.0133056640625, 0.005096435546875, 0.007293701171875, 0.00848388671875, 0.0123291015625, 0.0240478515625, 0.00157928466796875, 0.0010528564453125, 0.00113677978515625, 0.006439208984375, 0.00121307373046875, 0.0005035400390625, 0.006744384765625, 0.009765625, 0.002197265625, 0.008056640625, 0.00384521484375, 0.0277099609375, 0.06103515625, 0.008056640625, 0.004852294921875, 0.015625, 0.0194091796875, 0.00396728515625, 0.016845703125, 0.004638671875, 0.002288818359375, 0.0019683837890625, 0.0034942626953125, 0.0019989013671875, 0.0005035400390625, 0.0111083984375]}\n",
       "    )\n",
       "    </script>"
      ],
      "text/plain": [
       "<circuitsvis.utils.render.RenderedHTML at 0x7f58bc572e90>"
      ]
     },
     "metadata": {},
     "output_type": "display_data"
    },
    {
     "name": "stdout",
     "output_type": "stream",
     "text": [
      "Layer 35, Group 29 (Heads 29-29) | Shape: torch.Size([43, 43])\n"
     ]
    },
    {
     "data": {
      "text/html": [
       "<div id=\"circuits-vis-e1f2a3b9-877f\" style=\"margin: 15px 0;\"/>\n",
       "    <script crossorigin type=\"module\">\n",
       "    import { render, ColoredTokens } from \"https://unpkg.com/circuitsvis@1.43.3/dist/cdn/esm.js\";\n",
       "    render(\n",
       "      \"circuits-vis-e1f2a3b9-877f\",\n",
       "      ColoredTokens,\n",
       "      {\"tokens\": [\"Which\", \" person\", \" from\", \" the\", \" following\", \" list\", \" has\", \" the\", \" profession\", \" in\", \" common\", \" with\", \" Ed\", \" She\", \"er\", \"an\", \"?\\n\", \"Options\", \":\", \" G\", \"reta\", \" Ger\", \"wig\", \",\", \" Hillary\", \" Clinton\", \",\", \" Kanye\", \" West\", \",\", \" Nicholas\", \" Sparks\", \",\", \" Stephen\", \" Curry\", \",\", \" Phil\", \" Mick\", \"elson\", \"\\n\", \"Ans\", \":\"], \"values\": [0.0211181640625, 0.0050048828125, 0.006866455078125, 0.006011962890625, 0.00469970703125, 0.00323486328125, 0.0032958984375, 0.00145721435546875, 0.0177001953125, 0.004608154296875, 0.017822265625, 0.0147705078125, 0.07080078125, 0.047607421875, 0.03173828125, 0.173828125, 0.01904296875, 0.0029449462890625, 0.00555419921875, 0.006134033203125, 0.0028533935546875, 0.00112152099609375, 0.00604248046875, 0.0167236328125, 0.00299072265625, 0.00921630859375, 0.006683349609375, 0.0186767578125, 0.0654296875, 0.0191650390625, 0.00372314453125, 0.006805419921875, 0.0118408203125, 0.0021209716796875, 0.020751953125, 0.0052490234375, 0.001708984375, 0.0019683837890625, 0.0019073486328125, 0.0167236328125, 0.01318359375, 0.09033203125]}\n",
       "    )\n",
       "    </script>"
      ],
      "text/plain": [
       "<circuitsvis.utils.render.RenderedHTML at 0x7f58bc3fe350>"
      ]
     },
     "metadata": {},
     "output_type": "display_data"
    },
    {
     "name": "stdout",
     "output_type": "stream",
     "text": [
      "Layer 35, Group 30 (Heads 30-30) | Shape: torch.Size([43, 43])\n"
     ]
    },
    {
     "data": {
      "text/html": [
       "<div id=\"circuits-vis-a5a9c87e-9fb4\" style=\"margin: 15px 0;\"/>\n",
       "    <script crossorigin type=\"module\">\n",
       "    import { render, ColoredTokens } from \"https://unpkg.com/circuitsvis@1.43.3/dist/cdn/esm.js\";\n",
       "    render(\n",
       "      \"circuits-vis-a5a9c87e-9fb4\",\n",
       "      ColoredTokens,\n",
       "      {\"tokens\": [\"Which\", \" person\", \" from\", \" the\", \" following\", \" list\", \" has\", \" the\", \" profession\", \" in\", \" common\", \" with\", \" Ed\", \" She\", \"er\", \"an\", \"?\\n\", \"Options\", \":\", \" G\", \"reta\", \" Ger\", \"wig\", \",\", \" Hillary\", \" Clinton\", \",\", \" Kanye\", \" West\", \",\", \" Nicholas\", \" Sparks\", \",\", \" Stephen\", \" Curry\", \",\", \" Phil\", \" Mick\", \"elson\", \"\\n\", \"Ans\", \":\"], \"values\": [0.010498046875, 0.0020294189453125, 0.003997802734375, 0.0012359619140625, 0.0009765625, 0.0009307861328125, 0.00110626220703125, 0.00194549560546875, 0.0198974609375, 0.004364013671875, 0.01361083984375, 0.01007080078125, 0.021484375, 0.01116943359375, 0.022705078125, 0.1748046875, 0.0027008056640625, 0.00022125244140625, 0.00023555755615234375, 0.00191497802734375, 0.0005645751953125, 0.00020122528076171875, 0.0037994384765625, 0.0030517578125, 0.000797271728515625, 0.002349853515625, 0.00153350830078125, 0.00933837890625, 0.023681640625, 0.0019989013671875, 0.00139617919921875, 0.006683349609375, 0.006561279296875, 0.00133514404296875, 0.0059814453125, 0.0009765625, 0.000469207763671875, 0.001007080078125, 0.00112152099609375, 0.0012359619140625, 0.00018978118896484375, 0.00958251953125]}\n",
       "    )\n",
       "    </script>"
      ],
      "text/plain": [
       "<circuitsvis.utils.render.RenderedHTML at 0x7f58bc572490>"
      ]
     },
     "metadata": {},
     "output_type": "display_data"
    },
    {
     "name": "stdout",
     "output_type": "stream",
     "text": [
      "Layer 35, Group 31 (Heads 31-31) | Shape: torch.Size([43, 43])\n"
     ]
    },
    {
     "data": {
      "text/html": [
       "<div id=\"circuits-vis-568154f0-c479\" style=\"margin: 15px 0;\"/>\n",
       "    <script crossorigin type=\"module\">\n",
       "    import { render, ColoredTokens } from \"https://unpkg.com/circuitsvis@1.43.3/dist/cdn/esm.js\";\n",
       "    render(\n",
       "      \"circuits-vis-568154f0-c479\",\n",
       "      ColoredTokens,\n",
       "      {\"tokens\": [\"Which\", \" person\", \" from\", \" the\", \" following\", \" list\", \" has\", \" the\", \" profession\", \" in\", \" common\", \" with\", \" Ed\", \" She\", \"er\", \"an\", \"?\\n\", \"Options\", \":\", \" G\", \"reta\", \" Ger\", \"wig\", \",\", \" Hillary\", \" Clinton\", \",\", \" Kanye\", \" West\", \",\", \" Nicholas\", \" Sparks\", \",\", \" Stephen\", \" Curry\", \",\", \" Phil\", \" Mick\", \"elson\", \"\\n\", \"Ans\", \":\"], \"values\": [0.01708984375, 0.009765625, 0.007537841796875, 0.00067138671875, 0.004638671875, 0.00396728515625, 0.018798828125, 0.0012359619140625, 0.035888671875, 0.0059814453125, 0.09033203125, 0.01708984375, 0.003509521484375, 0.000888824462890625, 0.00179290771484375, 0.01336669921875, 0.051513671875, 0.0024566650390625, 0.00127410888671875, 0.000888824462890625, 0.000690460205078125, 0.00022411346435546875, 0.00160980224609375, 0.0025634765625, 0.0006103515625, 0.00160980224609375, 0.000888824462890625, 0.00148773193359375, 0.003509521484375, 0.00148773193359375, 0.000507354736328125, 0.00176239013671875, 0.0019683837890625, 0.00067138671875, 0.0025634765625, 0.000782012939453125, 0.000270843505859375, 0.000690460205078125, 0.0006103515625, 0.00286865234375, 0.012451171875, 0.04296875]}\n",
       "    )\n",
       "    </script>"
      ],
      "text/plain": [
       "<circuitsvis.utils.render.RenderedHTML at 0x7f58bc53ec50>"
      ]
     },
     "metadata": {},
     "output_type": "display_data"
    },
    {
     "name": "stdout",
     "output_type": "stream",
     "text": [
      "Layer 35, Group 32 (Heads 32-32) | Shape: torch.Size([43, 43])\n"
     ]
    },
    {
     "data": {
      "text/html": [
       "<div id=\"circuits-vis-dc520026-13bc\" style=\"margin: 15px 0;\"/>\n",
       "    <script crossorigin type=\"module\">\n",
       "    import { render, ColoredTokens } from \"https://unpkg.com/circuitsvis@1.43.3/dist/cdn/esm.js\";\n",
       "    render(\n",
       "      \"circuits-vis-dc520026-13bc\",\n",
       "      ColoredTokens,\n",
       "      {\"tokens\": [\"Which\", \" person\", \" from\", \" the\", \" following\", \" list\", \" has\", \" the\", \" profession\", \" in\", \" common\", \" with\", \" Ed\", \" She\", \"er\", \"an\", \"?\\n\", \"Options\", \":\", \" G\", \"reta\", \" Ger\", \"wig\", \",\", \" Hillary\", \" Clinton\", \",\", \" Kanye\", \" West\", \",\", \" Nicholas\", \" Sparks\", \",\", \" Stephen\", \" Curry\", \",\", \" Phil\", \" Mick\", \"elson\", \"\\n\", \"Ans\", \":\"], \"values\": [0.0211181640625, 0.0037384033203125, 0.004364013671875, 0.0023040771484375, 0.004180908203125, 0.0027313232421875, 0.0020294189453125, 0.000530242919921875, 0.00909423828125, 0.0016326904296875, 0.01385498046875, 0.004180908203125, 0.005340576171875, 0.004364013671875, 0.01080322265625, 0.01263427734375, 0.00518798828125, 0.00286865234375, 0.003143310546875, 0.0019683837890625, 0.00168609619140625, 0.000598907470703125, 0.00396728515625, 0.002685546875, 0.00168609619140625, 0.002685546875, 0.00112152099609375, 0.003509521484375, 0.0037994384765625, 0.0024871826171875, 0.00157928466796875, 0.00396728515625, 0.0034027099609375, 0.0009002685546875, 0.0024871826171875, 0.002227783203125, 0.000873565673828125, 0.00135040283203125, 0.001312255859375, 0.004638671875, 0.00396728515625, 0.007415771484375]}\n",
       "    )\n",
       "    </script>"
      ],
      "text/plain": [
       "<circuitsvis.utils.render.RenderedHTML at 0x7f58fc543e50>"
      ]
     },
     "metadata": {},
     "output_type": "display_data"
    },
    {
     "name": "stdout",
     "output_type": "stream",
     "text": [
      "Layer 35, Group 33 (Heads 33-33) | Shape: torch.Size([43, 43])\n"
     ]
    },
    {
     "data": {
      "text/html": [
       "<div id=\"circuits-vis-e6483bcb-dc85\" style=\"margin: 15px 0;\"/>\n",
       "    <script crossorigin type=\"module\">\n",
       "    import { render, ColoredTokens } from \"https://unpkg.com/circuitsvis@1.43.3/dist/cdn/esm.js\";\n",
       "    render(\n",
       "      \"circuits-vis-e6483bcb-dc85\",\n",
       "      ColoredTokens,\n",
       "      {\"tokens\": [\"Which\", \" person\", \" from\", \" the\", \" following\", \" list\", \" has\", \" the\", \" profession\", \" in\", \" common\", \" with\", \" Ed\", \" She\", \"er\", \"an\", \"?\\n\", \"Options\", \":\", \" G\", \"reta\", \" Ger\", \"wig\", \",\", \" Hillary\", \" Clinton\", \",\", \" Kanye\", \" West\", \",\", \" Nicholas\", \" Sparks\", \",\", \" Stephen\", \" Curry\", \",\", \" Phil\", \" Mick\", \"elson\", \"\\n\", \"Ans\", \":\"], \"values\": [0.0238037109375, 0.005096435546875, 0.0019989013671875, 0.00103759765625, 0.0014801025390625, 0.00225830078125, 0.0029449462890625, 0.001556396484375, 0.0238037109375, 0.0029449462890625, 0.020263671875, 0.01495361328125, 0.0096435546875, 0.021484375, 0.072265625, 0.11474609375, 0.01141357421875, 0.0017852783203125, 0.0040283203125, 0.005767822265625, 0.000759124755859375, 0.0004444122314453125, 0.008544921875, 0.011962890625, 0.001708984375, 0.005340576171875, 0.0086669921875, 0.039794921875, 0.083984375, 0.031982421875, 0.002899169921875, 0.014404296875, 0.03369140625, 0.003143310546875, 0.013427734375, 0.01416015625, 0.001434326171875, 0.0030975341796875, 0.006744384765625, 0.01202392578125, 0.0018157958984375, 0.04638671875]}\n",
       "    )\n",
       "    </script>"
      ],
      "text/plain": [
       "<circuitsvis.utils.render.RenderedHTML at 0x7f58bc3e9710>"
      ]
     },
     "metadata": {},
     "output_type": "display_data"
    },
    {
     "name": "stdout",
     "output_type": "stream",
     "text": [
      "Layer 35, Group 34 (Heads 34-34) | Shape: torch.Size([43, 43])\n"
     ]
    },
    {
     "data": {
      "text/html": [
       "<div id=\"circuits-vis-7450066c-4a3c\" style=\"margin: 15px 0;\"/>\n",
       "    <script crossorigin type=\"module\">\n",
       "    import { render, ColoredTokens } from \"https://unpkg.com/circuitsvis@1.43.3/dist/cdn/esm.js\";\n",
       "    render(\n",
       "      \"circuits-vis-7450066c-4a3c\",\n",
       "      ColoredTokens,\n",
       "      {\"tokens\": [\"Which\", \" person\", \" from\", \" the\", \" following\", \" list\", \" has\", \" the\", \" profession\", \" in\", \" common\", \" with\", \" Ed\", \" She\", \"er\", \"an\", \"?\\n\", \"Options\", \":\", \" G\", \"reta\", \" Ger\", \"wig\", \",\", \" Hillary\", \" Clinton\", \",\", \" Kanye\", \" West\", \",\", \" Nicholas\", \" Sparks\", \",\", \" Stephen\", \" Curry\", \",\", \" Phil\", \" Mick\", \"elson\", \"\\n\", \"Ans\", \":\"], \"values\": [0.0234375, 0.0027618408203125, 0.001983642578125, 0.001983642578125, 0.0021209716796875, 0.00131988525390625, 0.0023193359375, 0.00131988525390625, 0.0054931640625, 0.0031280517578125, 0.005828857421875, 0.0036468505859375, 0.005828857421875, 0.005218505859375, 0.0062255859375, 0.0135498046875, 0.00811767578125, 0.0025482177734375, 0.0021820068359375, 0.00439453125, 0.0025482177734375, 0.0021820068359375, 0.0038909912109375, 0.006103515625, 0.001983642578125, 0.004547119140625, 0.0054931640625, 0.0037689208984375, 0.00799560546875, 0.005828857421875, 0.0023193359375, 0.0036468505859375, 0.005828857421875, 0.00262451171875, 0.00439453125, 0.005828857421875, 0.0028076171875, 0.0029296875, 0.00408935546875, 0.00714111328125, 0.00726318359375, 0.050537109375]}\n",
       "    )\n",
       "    </script>"
      ],
      "text/plain": [
       "<circuitsvis.utils.render.RenderedHTML at 0x7f5965060e90>"
      ]
     },
     "metadata": {},
     "output_type": "display_data"
    },
    {
     "name": "stdout",
     "output_type": "stream",
     "text": [
      "Layer 35, Group 35 (Heads 35-35) | Shape: torch.Size([43, 43])\n"
     ]
    },
    {
     "data": {
      "text/html": [
       "<div id=\"circuits-vis-7a4deab0-1f08\" style=\"margin: 15px 0;\"/>\n",
       "    <script crossorigin type=\"module\">\n",
       "    import { render, ColoredTokens } from \"https://unpkg.com/circuitsvis@1.43.3/dist/cdn/esm.js\";\n",
       "    render(\n",
       "      \"circuits-vis-7a4deab0-1f08\",\n",
       "      ColoredTokens,\n",
       "      {\"tokens\": [\"Which\", \" person\", \" from\", \" the\", \" following\", \" list\", \" has\", \" the\", \" profession\", \" in\", \" common\", \" with\", \" Ed\", \" She\", \"er\", \"an\", \"?\\n\", \"Options\", \":\", \" G\", \"reta\", \" Ger\", \"wig\", \",\", \" Hillary\", \" Clinton\", \",\", \" Kanye\", \" West\", \",\", \" Nicholas\", \" Sparks\", \",\", \" Stephen\", \" Curry\", \",\", \" Phil\", \" Mick\", \"elson\", \"\\n\", \"Ans\", \":\"], \"values\": [0.020751953125, 0.00421142578125, 0.0028533935546875, 0.003143310546875, 0.005767822265625, 0.004150390625, 0.00396728515625, 0.001373291015625, 0.00787353515625, 0.003387451171875, 0.01129150390625, 0.004852294921875, 0.005950927734375, 0.004852294921875, 0.00469970703125, 0.00823974609375, 0.0084228515625, 0.006134033203125, 0.00299072265625, 0.003387451171875, 0.00787353515625, 0.0026397705078125, 0.01080322265625, 0.007171630859375, 0.005767822265625, 0.00921630859375, 0.0031890869140625, 0.005950927734375, 0.007080078125, 0.006866455078125, 0.004852294921875, 0.01080322265625, 0.0084228515625, 0.00390625, 0.01300048828125, 0.00787353515625, 0.004852294921875, 0.0096435546875, 0.0096435546875, 0.01080322265625, 0.01239013671875, 0.0140380859375]}\n",
       "    )\n",
       "    </script>"
      ],
      "text/plain": [
       "<circuitsvis.utils.render.RenderedHTML at 0x7f58bc337410>"
      ]
     },
     "metadata": {},
     "output_type": "display_data"
    },
    {
     "name": "stdout",
     "output_type": "stream",
     "text": [
      "Layer 35, Group 36 (Heads 36-36) | Shape: torch.Size([43, 43])\n"
     ]
    },
    {
     "data": {
      "text/html": [
       "<div id=\"circuits-vis-9976b6bf-5edf\" style=\"margin: 15px 0;\"/>\n",
       "    <script crossorigin type=\"module\">\n",
       "    import { render, ColoredTokens } from \"https://unpkg.com/circuitsvis@1.43.3/dist/cdn/esm.js\";\n",
       "    render(\n",
       "      \"circuits-vis-9976b6bf-5edf\",\n",
       "      ColoredTokens,\n",
       "      {\"tokens\": [\"Which\", \" person\", \" from\", \" the\", \" following\", \" list\", \" has\", \" the\", \" profession\", \" in\", \" common\", \" with\", \" Ed\", \" She\", \"er\", \"an\", \"?\\n\", \"Options\", \":\", \" G\", \"reta\", \" Ger\", \"wig\", \",\", \" Hillary\", \" Clinton\", \",\", \" Kanye\", \" West\", \",\", \" Nicholas\", \" Sparks\", \",\", \" Stephen\", \" Curry\", \",\", \" Phil\", \" Mick\", \"elson\", \"\\n\", \"Ans\", \":\"], \"values\": [0.0281982421875, 0.006591796875, 0.005401611328125, 0.004974365234375, 0.0029754638671875, 0.0024261474609375, 0.00189208984375, 0.00101470947265625, 0.01214599609375, 0.003173828125, 0.0162353515625, 0.00592041015625, 0.0079345703125, 0.0098876953125, 0.0091552734375, 0.036376953125, 0.01312255859375, 0.00445556640625, 0.005828857421875, 0.005218505859375, 0.002044677734375, 0.00138092041015625, 0.0057373046875, 0.01025390625, 0.0013427734375, 0.005218505859375, 0.004974365234375, 0.007476806640625, 0.032470703125, 0.00958251953125, 0.0028839111328125, 0.00958251953125, 0.0189208984375, 0.003173828125, 0.01275634765625, 0.0145263671875, 0.002044677734375, 0.0023193359375, 0.00811767578125, 0.012939453125, 0.00640869140625, 0.1767578125]}\n",
       "    )\n",
       "    </script>"
      ],
      "text/plain": [
       "<circuitsvis.utils.render.RenderedHTML at 0x7f58dc5add10>"
      ]
     },
     "metadata": {},
     "output_type": "display_data"
    },
    {
     "name": "stdout",
     "output_type": "stream",
     "text": [
      "Layer 35, Group 37 (Heads 37-37) | Shape: torch.Size([43, 43])\n"
     ]
    },
    {
     "data": {
      "text/html": [
       "<div id=\"circuits-vis-33314d7b-b632\" style=\"margin: 15px 0;\"/>\n",
       "    <script crossorigin type=\"module\">\n",
       "    import { render, ColoredTokens } from \"https://unpkg.com/circuitsvis@1.43.3/dist/cdn/esm.js\";\n",
       "    render(\n",
       "      \"circuits-vis-33314d7b-b632\",\n",
       "      ColoredTokens,\n",
       "      {\"tokens\": [\"Which\", \" person\", \" from\", \" the\", \" following\", \" list\", \" has\", \" the\", \" profession\", \" in\", \" common\", \" with\", \" Ed\", \" She\", \"er\", \"an\", \"?\\n\", \"Options\", \":\", \" G\", \"reta\", \" Ger\", \"wig\", \",\", \" Hillary\", \" Clinton\", \",\", \" Kanye\", \" West\", \",\", \" Nicholas\", \" Sparks\", \",\", \" Stephen\", \" Curry\", \",\", \" Phil\", \" Mick\", \"elson\", \"\\n\", \"Ans\", \":\"], \"values\": [0.0054931640625, 0.00095367431640625, 0.000698089599609375, 0.00045013427734375, 0.000865936279296875, 0.00101470947265625, 0.0013885498046875, 0.000896453857421875, 0.00592041015625, 0.001983642578125, 0.00933837890625, 0.00726318359375, 0.004058837890625, 0.009765625, 0.01513671875, 0.022216796875, 0.002288818359375, 0.00081634521484375, 0.003326416015625, 0.00531005859375, 0.000789642333984375, 0.000698089599609375, 0.006195068359375, 0.006500244140625, 0.002288818359375, 0.0038909912109375, 0.00592041015625, 0.0247802734375, 0.047119140625, 0.0174560546875, 0.006011962890625, 0.01092529296875, 0.0189208984375, 0.004913330078125, 0.01336669921875, 0.0107421875, 0.003021240234375, 0.0037689208984375, 0.007476806640625, 0.003021240234375, 0.000614166259765625, 0.01214599609375]}\n",
       "    )\n",
       "    </script>"
      ],
      "text/plain": [
       "<circuitsvis.utils.render.RenderedHTML at 0x7f591c147350>"
      ]
     },
     "metadata": {},
     "output_type": "display_data"
    },
    {
     "name": "stdout",
     "output_type": "stream",
     "text": [
      "Layer 35, Group 38 (Heads 38-38) | Shape: torch.Size([43, 43])\n"
     ]
    },
    {
     "data": {
      "text/html": [
       "<div id=\"circuits-vis-566be44a-e413\" style=\"margin: 15px 0;\"/>\n",
       "    <script crossorigin type=\"module\">\n",
       "    import { render, ColoredTokens } from \"https://unpkg.com/circuitsvis@1.43.3/dist/cdn/esm.js\";\n",
       "    render(\n",
       "      \"circuits-vis-566be44a-e413\",\n",
       "      ColoredTokens,\n",
       "      {\"tokens\": [\"Which\", \" person\", \" from\", \" the\", \" following\", \" list\", \" has\", \" the\", \" profession\", \" in\", \" common\", \" with\", \" Ed\", \" She\", \"er\", \"an\", \"?\\n\", \"Options\", \":\", \" G\", \"reta\", \" Ger\", \"wig\", \",\", \" Hillary\", \" Clinton\", \",\", \" Kanye\", \" West\", \",\", \" Nicholas\", \" Sparks\", \",\", \" Stephen\", \" Curry\", \",\", \" Phil\", \" Mick\", \"elson\", \"\\n\", \"Ans\", \":\"], \"values\": [0.031982421875, 0.0042724609375, 0.00107574462890625, 0.00138092041015625, 0.00482177734375, 0.002471923828125, 0.00125885009765625, 0.00051116943359375, 0.0057373046875, 0.00201416015625, 0.01104736328125, 0.002838134765625, 0.006500244140625, 0.011962890625, 0.0272216796875, 0.014892578125, 0.014892578125, 0.0089111328125, 0.0038299560546875, 0.00201416015625, 0.004974365234375, 0.003173828125, 0.0123291015625, 0.00860595703125, 0.005462646484375, 0.01123046875, 0.002593994140625, 0.00555419921875, 0.00445556640625, 0.00872802734375, 0.0037078857421875, 0.0108642578125, 0.00811767578125, 0.004669189453125, 0.00848388671875, 0.01251220703125, 0.003265380859375, 0.003997802734375, 0.007598876953125, 0.06640625, 0.103515625, 0.02734375]}\n",
       "    )\n",
       "    </script>"
      ],
      "text/plain": [
       "<circuitsvis.utils.render.RenderedHTML at 0x7f58bc507850>"
      ]
     },
     "metadata": {},
     "output_type": "display_data"
    },
    {
     "name": "stdout",
     "output_type": "stream",
     "text": [
      "Layer 35, Group 39 (Heads 39-39) | Shape: torch.Size([43, 43])\n"
     ]
    },
    {
     "data": {
      "text/html": [
       "<div id=\"circuits-vis-0d9b5a0d-9c97\" style=\"margin: 15px 0;\"/>\n",
       "    <script crossorigin type=\"module\">\n",
       "    import { render, ColoredTokens } from \"https://unpkg.com/circuitsvis@1.43.3/dist/cdn/esm.js\";\n",
       "    render(\n",
       "      \"circuits-vis-0d9b5a0d-9c97\",\n",
       "      ColoredTokens,\n",
       "      {\"tokens\": [\"Which\", \" person\", \" from\", \" the\", \" following\", \" list\", \" has\", \" the\", \" profession\", \" in\", \" common\", \" with\", \" Ed\", \" She\", \"er\", \"an\", \"?\\n\", \"Options\", \":\", \" G\", \"reta\", \" Ger\", \"wig\", \",\", \" Hillary\", \" Clinton\", \",\", \" Kanye\", \" West\", \",\", \" Nicholas\", \" Sparks\", \",\", \" Stephen\", \" Curry\", \",\", \" Phil\", \" Mick\", \"elson\", \"\\n\", \"Ans\", \":\"], \"values\": [0.02587890625, 0.02099609375, 0.0078125, 0.01165771484375, 0.017822265625, 0.01220703125, 0.0103759765625, 0.002349853515625, 0.01123046875, 0.00341796875, 0.02099609375, 0.0078125, 0.0206298828125, 0.0098876953125, 0.004974365234375, 0.0191650390625, 0.039794921875, 0.0174560546875, 0.0252685546875, 0.0036468505859375, 0.0029296875, 0.00142669677734375, 0.0022125244140625, 0.01123046875, 0.002349853515625, 0.004119873046875, 0.002349853515625, 0.003021240234375, 0.00701904296875, 0.018310546875, 0.002349853515625, 0.0047607421875, 0.00885009765625, 0.002105712890625, 0.006683349609375, 0.01495361328125, 0.002166748046875, 0.00125885009765625, 0.0030670166015625, 0.048828125, 0.08740234375, 0.09228515625]}\n",
       "    )\n",
       "    </script>"
      ],
      "text/plain": [
       "<circuitsvis.utils.render.RenderedHTML at 0x7f58bc5309d0>"
      ]
     },
     "metadata": {},
     "output_type": "display_data"
    },
    {
     "name": "stdout",
     "output_type": "stream",
     "text": [
      "Layer 35, Group 40 (Heads 40-40) | Shape: torch.Size([43, 43])\n"
     ]
    },
    {
     "data": {
      "text/html": [
       "<div id=\"circuits-vis-d6502ffe-0a60\" style=\"margin: 15px 0;\"/>\n",
       "    <script crossorigin type=\"module\">\n",
       "    import { render, ColoredTokens } from \"https://unpkg.com/circuitsvis@1.43.3/dist/cdn/esm.js\";\n",
       "    render(\n",
       "      \"circuits-vis-d6502ffe-0a60\",\n",
       "      ColoredTokens,\n",
       "      {\"tokens\": [\"Which\", \" person\", \" from\", \" the\", \" following\", \" list\", \" has\", \" the\", \" profession\", \" in\", \" common\", \" with\", \" Ed\", \" She\", \"er\", \"an\", \"?\\n\", \"Options\", \":\", \" G\", \"reta\", \" Ger\", \"wig\", \",\", \" Hillary\", \" Clinton\", \",\", \" Kanye\", \" West\", \",\", \" Nicholas\", \" Sparks\", \",\", \" Stephen\", \" Curry\", \",\", \" Phil\", \" Mick\", \"elson\", \"\\n\", \"Ans\", \":\"], \"values\": [0.0186767578125, 0.0230712890625, 0.005126953125, 0.0059814453125, 0.003692626953125, 0.004364013671875, 0.00286865234375, 0.00112152099609375, 0.0174560546875, 0.00408935546875, 0.00148773193359375, 0.0031585693359375, 0.004547119140625, 0.00144195556640625, 0.002197265625, 0.0166015625, 0.02099609375, 0.01019287109375, 0.021240234375, 0.0068359375, 0.000522613525390625, 3.838539123535156e-05, 0.00109100341796875, 0.0147705078125, 0.0026092529296875, 0.0078125, 0.040771484375, 0.04150390625, 0.1220703125, 0.1220703125, 0.007110595703125, 0.0086669921875, 0.06787109375, 0.002777099609375, 0.011474609375, 0.0133056640625, 0.00133514404296875, 0.00021457672119140625, 0.0040283203125, 0.0673828125, 0.0038909912109375, 0.04833984375]}\n",
       "    )\n",
       "    </script>"
      ],
      "text/plain": [
       "<circuitsvis.utils.render.RenderedHTML at 0x7f58bc50ee50>"
      ]
     },
     "metadata": {},
     "output_type": "display_data"
    },
    {
     "name": "stdout",
     "output_type": "stream",
     "text": [
      "Layer 35, Group 41 (Heads 41-41) | Shape: torch.Size([43, 43])\n"
     ]
    },
    {
     "data": {
      "text/html": [
       "<div id=\"circuits-vis-e28a8a96-2216\" style=\"margin: 15px 0;\"/>\n",
       "    <script crossorigin type=\"module\">\n",
       "    import { render, ColoredTokens } from \"https://unpkg.com/circuitsvis@1.43.3/dist/cdn/esm.js\";\n",
       "    render(\n",
       "      \"circuits-vis-e28a8a96-2216\",\n",
       "      ColoredTokens,\n",
       "      {\"tokens\": [\"Which\", \" person\", \" from\", \" the\", \" following\", \" list\", \" has\", \" the\", \" profession\", \" in\", \" common\", \" with\", \" Ed\", \" She\", \"er\", \"an\", \"?\\n\", \"Options\", \":\", \" G\", \"reta\", \" Ger\", \"wig\", \",\", \" Hillary\", \" Clinton\", \",\", \" Kanye\", \" West\", \",\", \" Nicholas\", \" Sparks\", \",\", \" Stephen\", \" Curry\", \",\", \" Phil\", \" Mick\", \"elson\", \"\\n\", \"Ans\", \":\"], \"values\": [0.0201416015625, 0.00970458984375, 0.003753662109375, 0.0024261474609375, 0.0028839111328125, 0.004974365234375, 0.032958984375, 0.00433349609375, 0.0145263671875, 0.00439453125, 0.07470703125, 0.013427734375, 0.0005340576171875, 0.000499725341796875, 0.0013580322265625, 0.0064697265625, 0.03271484375, 0.0057373046875, 0.0057373046875, 0.0015869140625, 0.000469207763671875, 0.00020885467529296875, 0.002166748046875, 0.00250244140625, 0.000354766845703125, 0.0014495849609375, 0.000797271728515625, 0.000850677490234375, 0.002655029296875, 0.00131988525390625, 0.00017261505126953125, 0.00119781494140625, 0.0012359619140625, 0.00023651123046875, 0.0027008056640625, 0.00131988525390625, 0.00020885467529296875, 0.000469207763671875, 0.0012359619140625, 0.0076904296875, 0.024658203125, 0.09130859375]}\n",
       "    )\n",
       "    </script>"
      ],
      "text/plain": [
       "<circuitsvis.utils.render.RenderedHTML at 0x7f58dc3e8350>"
      ]
     },
     "metadata": {},
     "output_type": "display_data"
    },
    {
     "name": "stdout",
     "output_type": "stream",
     "text": [
      "Layer 35, Group 42 (Heads 42-42) | Shape: torch.Size([43, 43])\n"
     ]
    },
    {
     "data": {
      "text/html": [
       "<div id=\"circuits-vis-ca344c6b-64eb\" style=\"margin: 15px 0;\"/>\n",
       "    <script crossorigin type=\"module\">\n",
       "    import { render, ColoredTokens } from \"https://unpkg.com/circuitsvis@1.43.3/dist/cdn/esm.js\";\n",
       "    render(\n",
       "      \"circuits-vis-ca344c6b-64eb\",\n",
       "      ColoredTokens,\n",
       "      {\"tokens\": [\"Which\", \" person\", \" from\", \" the\", \" following\", \" list\", \" has\", \" the\", \" profession\", \" in\", \" common\", \" with\", \" Ed\", \" She\", \"er\", \"an\", \"?\\n\", \"Options\", \":\", \" G\", \"reta\", \" Ger\", \"wig\", \",\", \" Hillary\", \" Clinton\", \",\", \" Kanye\", \" West\", \",\", \" Nicholas\", \" Sparks\", \",\", \" Stephen\", \" Curry\", \",\", \" Phil\", \" Mick\", \"elson\", \"\\n\", \"Ans\", \":\"], \"values\": [0.01556396484375, 0.003143310546875, 0.0025634765625, 0.0030975341796875, 0.0020294189453125, 0.001678466796875, 0.0016326904296875, 0.0010833740234375, 0.00165557861328125, 0.000701904296875, 0.000873565673828125, 0.001556396484375, 0.0086669921875, 0.00909423828125, 0.00958251953125, 0.039794921875, 0.01202392578125, 0.0108642578125, 0.017578125, 0.0142822265625, 0.00567626953125, 0.0012664794921875, 0.01080322265625, 0.04638671875, 0.0135498046875, 0.0302734375, 0.02685546875, 0.078125, 0.08056640625, 0.09326171875, 0.0108642578125, 0.019775390625, 0.0517578125, 0.0079345703125, 0.040771484375, 0.034423828125, 0.004425048828125, 0.0033416748046875, 0.0123291015625, 0.05908203125, 0.004791259765625, 0.0145263671875]}\n",
       "    )\n",
       "    </script>"
      ],
      "text/plain": [
       "<circuitsvis.utils.render.RenderedHTML at 0x7f58bc3375d0>"
      ]
     },
     "metadata": {},
     "output_type": "display_data"
    },
    {
     "name": "stdout",
     "output_type": "stream",
     "text": [
      "Layer 35, Group 43 (Heads 43-43) | Shape: torch.Size([43, 43])\n"
     ]
    },
    {
     "data": {
      "text/html": [
       "<div id=\"circuits-vis-55d1bada-01d7\" style=\"margin: 15px 0;\"/>\n",
       "    <script crossorigin type=\"module\">\n",
       "    import { render, ColoredTokens } from \"https://unpkg.com/circuitsvis@1.43.3/dist/cdn/esm.js\";\n",
       "    render(\n",
       "      \"circuits-vis-55d1bada-01d7\",\n",
       "      ColoredTokens,\n",
       "      {\"tokens\": [\"Which\", \" person\", \" from\", \" the\", \" following\", \" list\", \" has\", \" the\", \" profession\", \" in\", \" common\", \" with\", \" Ed\", \" She\", \"er\", \"an\", \"?\\n\", \"Options\", \":\", \" G\", \"reta\", \" Ger\", \"wig\", \",\", \" Hillary\", \" Clinton\", \",\", \" Kanye\", \" West\", \",\", \" Nicholas\", \" Sparks\", \",\", \" Stephen\", \" Curry\", \",\", \" Phil\", \" Mick\", \"elson\", \"\\n\", \"Ans\", \":\"], \"values\": [0.0128173828125, 0.003265380859375, 0.0024261474609375, 0.0086669921875, 0.00130462646484375, 0.000637054443359375, 0.00141143798828125, 0.000957489013671875, 0.000926971435546875, 0.000720977783203125, 0.00011968612670898438, 0.00115966796875, 0.00958251953125, 0.00836181640625, 0.004547119140625, 0.04150390625, 0.01226806640625, 0.0052490234375, 0.0311279296875, 0.03466796875, 0.004730224609375, 0.0002498626708984375, 0.004180908203125, 0.06787109375, 0.008056640625, 0.0128173828125, 0.0712890625, 0.1005859375, 0.1396484375, 0.2197265625, 0.0045166015625, 0.004241943359375, 0.04052734375, 0.000885009765625, 0.00469970703125, 0.0115966796875, 0.000732421875, 0.0002460479736328125, 0.00119781494140625, 0.0361328125, 0.0004520416259765625, 0.0184326171875]}\n",
       "    )\n",
       "    </script>"
      ],
      "text/plain": [
       "<circuitsvis.utils.render.RenderedHTML at 0x7f58bc493710>"
      ]
     },
     "metadata": {},
     "output_type": "display_data"
    },
    {
     "name": "stdout",
     "output_type": "stream",
     "text": [
      "Layer 35, Group 44 (Heads 44-44) | Shape: torch.Size([43, 43])\n"
     ]
    },
    {
     "data": {
      "text/html": [
       "<div id=\"circuits-vis-d5c39a00-be9c\" style=\"margin: 15px 0;\"/>\n",
       "    <script crossorigin type=\"module\">\n",
       "    import { render, ColoredTokens } from \"https://unpkg.com/circuitsvis@1.43.3/dist/cdn/esm.js\";\n",
       "    render(\n",
       "      \"circuits-vis-d5c39a00-be9c\",\n",
       "      ColoredTokens,\n",
       "      {\"tokens\": [\"Which\", \" person\", \" from\", \" the\", \" following\", \" list\", \" has\", \" the\", \" profession\", \" in\", \" common\", \" with\", \" Ed\", \" She\", \"er\", \"an\", \"?\\n\", \"Options\", \":\", \" G\", \"reta\", \" Ger\", \"wig\", \",\", \" Hillary\", \" Clinton\", \",\", \" Kanye\", \" West\", \",\", \" Nicholas\", \" Sparks\", \",\", \" Stephen\", \" Curry\", \",\", \" Phil\", \" Mick\", \"elson\", \"\\n\", \"Ans\", \":\"], \"values\": [0.0247802734375, 0.017578125, 0.016845703125, 0.0147705078125, 0.00439453125, 0.003265380859375, 0.006500244140625, 0.003997802734375, 0.01806640625, 0.004638671875, 0.0034332275390625, 0.00885009765625, 0.00836181640625, 0.006561279296875, 0.0067138671875, 0.00872802734375, 0.01385498046875, 0.01190185546875, 0.034912109375, 0.0289306640625, 0.0096435546875, 0.00070953369140625, 0.006195068359375, 0.03466796875, 0.01806640625, 0.01385498046875, 0.03271484375, 0.056640625, 0.043701171875, 0.0751953125, 0.044677734375, 0.02099609375, 0.0751953125, 0.01202392578125, 0.022216796875, 0.0274658203125, 0.0125732421875, 0.002105712890625, 0.004608154296875, 0.031494140625, 0.00347900390625, 0.0244140625]}\n",
       "    )\n",
       "    </script>"
      ],
      "text/plain": [
       "<circuitsvis.utils.render.RenderedHTML at 0x7f591c1a8090>"
      ]
     },
     "metadata": {},
     "output_type": "display_data"
    },
    {
     "name": "stdout",
     "output_type": "stream",
     "text": [
      "Layer 35, Group 45 (Heads 45-45) | Shape: torch.Size([43, 43])\n"
     ]
    },
    {
     "data": {
      "text/html": [
       "<div id=\"circuits-vis-377354ae-0c81\" style=\"margin: 15px 0;\"/>\n",
       "    <script crossorigin type=\"module\">\n",
       "    import { render, ColoredTokens } from \"https://unpkg.com/circuitsvis@1.43.3/dist/cdn/esm.js\";\n",
       "    render(\n",
       "      \"circuits-vis-377354ae-0c81\",\n",
       "      ColoredTokens,\n",
       "      {\"tokens\": [\"Which\", \" person\", \" from\", \" the\", \" following\", \" list\", \" has\", \" the\", \" profession\", \" in\", \" common\", \" with\", \" Ed\", \" She\", \"er\", \"an\", \"?\\n\", \"Options\", \":\", \" G\", \"reta\", \" Ger\", \"wig\", \",\", \" Hillary\", \" Clinton\", \",\", \" Kanye\", \" West\", \",\", \" Nicholas\", \" Sparks\", \",\", \" Stephen\", \" Curry\", \",\", \" Phil\", \" Mick\", \"elson\", \"\\n\", \"Ans\", \":\"], \"values\": [0.00653076171875, 0.00162506103515625, 0.0021514892578125, 0.0030670166015625, 0.00112152099609375, 0.000335693359375, 0.000579833984375, 0.0002689361572265625, 0.0002231597900390625, 0.00011587142944335938, 9.632110595703125e-05, 0.000392913818359375, 0.00494384765625, 0.00185394287109375, 0.000858306884765625, 0.00579833984375, 0.005279541015625, 0.0152587890625, 0.0556640625, 0.02294921875, 0.0107421875, 0.000537872314453125, 0.005096435546875, 0.10888671875, 0.011962890625, 0.01190185546875, 0.06298828125, 0.0198974609375, 0.0272216796875, 0.166015625, 0.01483154296875, 0.00811767578125, 0.09619140625, 0.011474609375, 0.0264892578125, 0.10205078125, 0.0093994140625, 0.0016021728515625, 0.01806640625, 0.05224609375, 0.0098876953125, 0.0203857421875]}\n",
       "    )\n",
       "    </script>"
      ],
      "text/plain": [
       "<circuitsvis.utils.render.RenderedHTML at 0x7f58dc589e10>"
      ]
     },
     "metadata": {},
     "output_type": "display_data"
    },
    {
     "name": "stdout",
     "output_type": "stream",
     "text": [
      "Layer 35, Group 46 (Heads 46-46) | Shape: torch.Size([43, 43])\n"
     ]
    },
    {
     "data": {
      "text/html": [
       "<div id=\"circuits-vis-3e0e349e-e752\" style=\"margin: 15px 0;\"/>\n",
       "    <script crossorigin type=\"module\">\n",
       "    import { render, ColoredTokens } from \"https://unpkg.com/circuitsvis@1.43.3/dist/cdn/esm.js\";\n",
       "    render(\n",
       "      \"circuits-vis-3e0e349e-e752\",\n",
       "      ColoredTokens,\n",
       "      {\"tokens\": [\"Which\", \" person\", \" from\", \" the\", \" following\", \" list\", \" has\", \" the\", \" profession\", \" in\", \" common\", \" with\", \" Ed\", \" She\", \"er\", \"an\", \"?\\n\", \"Options\", \":\", \" G\", \"reta\", \" Ger\", \"wig\", \",\", \" Hillary\", \" Clinton\", \",\", \" Kanye\", \" West\", \",\", \" Nicholas\", \" Sparks\", \",\", \" Stephen\", \" Curry\", \",\", \" Phil\", \" Mick\", \"elson\", \"\\n\", \"Ans\", \":\"], \"values\": [0.0145263671875, 0.00494384765625, 0.0062255859375, 0.0062255859375, 0.0054931640625, 0.001708984375, 0.00396728515625, 0.00099945068359375, 0.00567626953125, 0.00193023681640625, 0.0036163330078125, 0.0162353515625, 0.0054931640625, 0.003387451171875, 0.0023651123046875, 0.01171875, 0.01556396484375, 0.00543212890625, 0.017578125, 0.00933837890625, 0.000957489013671875, 8.7738037109375e-05, 0.00083160400390625, 0.010498046875, 0.006134033203125, 0.00653076171875, 0.03271484375, 0.0654296875, 0.08203125, 0.10888671875, 0.01251220703125, 0.004150390625, 0.038330078125, 0.008544921875, 0.01385498046875, 0.02685546875, 0.00689697265625, 0.0014801025390625, 0.00848388671875, 0.0179443359375, 0.0024871826171875, 0.033447265625]}\n",
       "    )\n",
       "    </script>"
      ],
      "text/plain": [
       "<circuitsvis.utils.render.RenderedHTML at 0x7f591c1637d0>"
      ]
     },
     "metadata": {},
     "output_type": "display_data"
    },
    {
     "name": "stdout",
     "output_type": "stream",
     "text": [
      "Layer 35, Group 47 (Heads 47-47) | Shape: torch.Size([43, 43])\n"
     ]
    },
    {
     "data": {
      "text/html": [
       "<div id=\"circuits-vis-51e836c5-92aa\" style=\"margin: 15px 0;\"/>\n",
       "    <script crossorigin type=\"module\">\n",
       "    import { render, ColoredTokens } from \"https://unpkg.com/circuitsvis@1.43.3/dist/cdn/esm.js\";\n",
       "    render(\n",
       "      \"circuits-vis-51e836c5-92aa\",\n",
       "      ColoredTokens,\n",
       "      {\"tokens\": [\"Which\", \" person\", \" from\", \" the\", \" following\", \" list\", \" has\", \" the\", \" profession\", \" in\", \" common\", \" with\", \" Ed\", \" She\", \"er\", \"an\", \"?\\n\", \"Options\", \":\", \" G\", \"reta\", \" Ger\", \"wig\", \",\", \" Hillary\", \" Clinton\", \",\", \" Kanye\", \" West\", \",\", \" Nicholas\", \" Sparks\", \",\", \" Stephen\", \" Curry\", \",\", \" Phil\", \" Mick\", \"elson\", \"\\n\", \"Ans\", \":\"], \"values\": [0.050048828125, 0.04736328125, 0.0240478515625, 0.019775390625, 0.01226806640625, 0.01361083984375, 0.058349609375, 0.006317138671875, 0.014404296875, 0.003662109375, 0.00701904296875, 0.0093994140625, 0.010498046875, 0.00173187255859375, 0.000896453857421875, 0.00396728515625, 0.0947265625, 0.0294189453125, 0.0703125, 0.016845703125, 0.0062255859375, 0.000385284423828125, 0.0020294189453125, 0.0247802734375, 0.0025177001953125, 0.0016021728515625, 0.006622314453125, 0.00067901611328125, 0.00079345703125, 0.00384521484375, 0.00193023681640625, 0.00081634521484375, 0.0028533935546875, 0.0004367828369140625, 0.000896453857421875, 0.00186920166015625, 0.0010833740234375, 0.0001468658447265625, 0.0004100799560546875, 0.044677734375, 0.0177001953125, 0.0556640625]}\n",
       "    )\n",
       "    </script>"
      ],
      "text/plain": [
       "<circuitsvis.utils.render.RenderedHTML at 0x7f58bc570e50>"
      ]
     },
     "metadata": {},
     "output_type": "display_data"
    },
    {
     "name": "stdout",
     "output_type": "stream",
     "text": [
      "Layer 35, Group 48 (Heads 48-48) | Shape: torch.Size([43, 43])\n"
     ]
    },
    {
     "data": {
      "text/html": [
       "<div id=\"circuits-vis-65194022-5045\" style=\"margin: 15px 0;\"/>\n",
       "    <script crossorigin type=\"module\">\n",
       "    import { render, ColoredTokens } from \"https://unpkg.com/circuitsvis@1.43.3/dist/cdn/esm.js\";\n",
       "    render(\n",
       "      \"circuits-vis-65194022-5045\",\n",
       "      ColoredTokens,\n",
       "      {\"tokens\": [\"Which\", \" person\", \" from\", \" the\", \" following\", \" list\", \" has\", \" the\", \" profession\", \" in\", \" common\", \" with\", \" Ed\", \" She\", \"er\", \"an\", \"?\\n\", \"Options\", \":\", \" G\", \"reta\", \" Ger\", \"wig\", \",\", \" Hillary\", \" Clinton\", \",\", \" Kanye\", \" West\", \",\", \" Nicholas\", \" Sparks\", \",\", \" Stephen\", \" Curry\", \",\", \" Phil\", \" Mick\", \"elson\", \"\\n\", \"Ans\", \":\"], \"values\": [0.02001953125, 0.00543212890625, 0.001708984375, 0.0017852783203125, 0.0191650390625, 0.0189208984375, 0.0020904541015625, 0.000392913818359375, 0.004852294921875, 0.00103759765625, 0.00823974609375, 0.001251220703125, 0.005584716796875, 0.00567626953125, 0.005584716796875, 0.00762939453125, 0.00994873046875, 0.01361083984375, 0.0031890869140625, 0.000690460205078125, 0.00145721435546875, 0.0010986328125, 0.004150390625, 0.00543212890625, 0.001708984375, 0.0031890869140625, 0.001251220703125, 0.004425048828125, 0.003662109375, 0.0216064453125, 0.001068115234375, 0.003143310546875, 0.007537841796875, 0.001251220703125, 0.005950927734375, 0.00811767578125, 0.000732421875, 0.001373291015625, 0.00299072265625, 0.038330078125, 0.05224609375, 0.01519775390625]}\n",
       "    )\n",
       "    </script>"
      ],
      "text/plain": [
       "<circuitsvis.utils.render.RenderedHTML at 0x7f58bc337650>"
      ]
     },
     "metadata": {},
     "output_type": "display_data"
    },
    {
     "name": "stdout",
     "output_type": "stream",
     "text": [
      "Layer 35, Group 49 (Heads 49-49) | Shape: torch.Size([43, 43])\n"
     ]
    },
    {
     "data": {
      "text/html": [
       "<div id=\"circuits-vis-9932d0ee-932e\" style=\"margin: 15px 0;\"/>\n",
       "    <script crossorigin type=\"module\">\n",
       "    import { render, ColoredTokens } from \"https://unpkg.com/circuitsvis@1.43.3/dist/cdn/esm.js\";\n",
       "    render(\n",
       "      \"circuits-vis-9932d0ee-932e\",\n",
       "      ColoredTokens,\n",
       "      {\"tokens\": [\"Which\", \" person\", \" from\", \" the\", \" following\", \" list\", \" has\", \" the\", \" profession\", \" in\", \" common\", \" with\", \" Ed\", \" She\", \"er\", \"an\", \"?\\n\", \"Options\", \":\", \" G\", \"reta\", \" Ger\", \"wig\", \",\", \" Hillary\", \" Clinton\", \",\", \" Kanye\", \" West\", \",\", \" Nicholas\", \" Sparks\", \",\", \" Stephen\", \" Curry\", \",\", \" Phil\", \" Mick\", \"elson\", \"\\n\", \"Ans\", \":\"], \"values\": [0.0220947265625, 0.005828857421875, 0.00726318359375, 0.0074462890625, 0.006622314453125, 0.00762939453125, 0.004486083984375, 0.0029754638671875, 0.0111083984375, 0.003326416015625, 0.01214599609375, 0.0208740234375, 0.0213623046875, 0.0147705078125, 0.00592041015625, 0.0361328125, 0.0233154296875, 0.0032196044921875, 0.01434326171875, 0.017578125, 0.0036468505859375, 0.009033203125, 0.009033203125, 0.030517578125, 0.00433349609375, 0.0068359375, 0.026123046875, 0.00836181640625, 0.05712890625, 0.01348876953125, 0.00439453125, 0.0076904296875, 0.01318359375, 0.005645751953125, 0.012939453125, 0.018798828125, 0.005828857421875, 0.0031280517578125, 0.01116943359375, 0.03369140625, 0.0196533203125, 0.306640625]}\n",
       "    )\n",
       "    </script>"
      ],
      "text/plain": [
       "<circuitsvis.utils.render.RenderedHTML at 0x7f58bc52c050>"
      ]
     },
     "metadata": {},
     "output_type": "display_data"
    },
    {
     "name": "stdout",
     "output_type": "stream",
     "text": [
      "Layer 35, Group 50 (Heads 50-50) | Shape: torch.Size([43, 43])\n"
     ]
    },
    {
     "data": {
      "text/html": [
       "<div id=\"circuits-vis-f9c40cb7-9641\" style=\"margin: 15px 0;\"/>\n",
       "    <script crossorigin type=\"module\">\n",
       "    import { render, ColoredTokens } from \"https://unpkg.com/circuitsvis@1.43.3/dist/cdn/esm.js\";\n",
       "    render(\n",
       "      \"circuits-vis-f9c40cb7-9641\",\n",
       "      ColoredTokens,\n",
       "      {\"tokens\": [\"Which\", \" person\", \" from\", \" the\", \" following\", \" list\", \" has\", \" the\", \" profession\", \" in\", \" common\", \" with\", \" Ed\", \" She\", \"er\", \"an\", \"?\\n\", \"Options\", \":\", \" G\", \"reta\", \" Ger\", \"wig\", \",\", \" Hillary\", \" Clinton\", \",\", \" Kanye\", \" West\", \",\", \" Nicholas\", \" Sparks\", \",\", \" Stephen\", \" Curry\", \",\", \" Phil\", \" Mick\", \"elson\", \"\\n\", \"Ans\", \":\"], \"values\": [0.034423828125, 0.004638671875, 0.004425048828125, 0.00193023681640625, 0.0034942626953125, 0.005157470703125, 0.0030364990234375, 0.00193023681640625, 0.031982421875, 0.0034332275390625, 0.033203125, 0.01025390625, 0.0157470703125, 0.0108642578125, 0.00897216796875, 0.1064453125, 0.00689697265625, 0.00323486328125, 0.00396728515625, 0.00701904296875, 0.0004100799560546875, 0.00067901611328125, 0.006378173828125, 0.00982666015625, 0.00049591064453125, 0.0028533935546875, 0.00701904296875, 0.023193359375, 0.1904296875, 0.02197265625, 0.0021820068359375, 0.007110595703125, 0.028564453125, 0.0013275146484375, 0.007293701171875, 0.00701904296875, 0.00051116943359375, 0.0012054443359375, 0.0052490234375, 0.00927734375, 0.00096893310546875, 0.10595703125]}\n",
       "    )\n",
       "    </script>"
      ],
      "text/plain": [
       "<circuitsvis.utils.render.RenderedHTML at 0x7f58dc3e55d0>"
      ]
     },
     "metadata": {},
     "output_type": "display_data"
    },
    {
     "name": "stdout",
     "output_type": "stream",
     "text": [
      "Layer 35, Group 51 (Heads 51-51) | Shape: torch.Size([43, 43])\n"
     ]
    },
    {
     "data": {
      "text/html": [
       "<div id=\"circuits-vis-05833bb3-69a3\" style=\"margin: 15px 0;\"/>\n",
       "    <script crossorigin type=\"module\">\n",
       "    import { render, ColoredTokens } from \"https://unpkg.com/circuitsvis@1.43.3/dist/cdn/esm.js\";\n",
       "    render(\n",
       "      \"circuits-vis-05833bb3-69a3\",\n",
       "      ColoredTokens,\n",
       "      {\"tokens\": [\"Which\", \" person\", \" from\", \" the\", \" following\", \" list\", \" has\", \" the\", \" profession\", \" in\", \" common\", \" with\", \" Ed\", \" She\", \"er\", \"an\", \"?\\n\", \"Options\", \":\", \" G\", \"reta\", \" Ger\", \"wig\", \",\", \" Hillary\", \" Clinton\", \",\", \" Kanye\", \" West\", \",\", \" Nicholas\", \" Sparks\", \",\", \" Stephen\", \" Curry\", \",\", \" Phil\", \" Mick\", \"elson\", \"\\n\", \"Ans\", \":\"], \"values\": [0.0203857421875, 0.006622314453125, 0.005828857421875, 0.003326416015625, 0.007720947265625, 0.007598876953125, 0.0028839111328125, 0.00095367431640625, 0.0272216796875, 0.004547119140625, 0.057861328125, 0.0032196044921875, 0.0067138671875, 0.00592041015625, 0.00433349609375, 0.017822265625, 0.10302734375, 0.0093994140625, 0.0024261474609375, 0.00142669677734375, 0.0022125244140625, 0.0025482177734375, 0.006622314453125, 0.01055908203125, 0.00147247314453125, 0.00531005859375, 0.0036468505859375, 0.0025482177734375, 0.0089111328125, 0.01019287109375, 0.00054168701171875, 0.003326416015625, 0.005828857421875, 0.000385284423828125, 0.0023193359375, 0.00640869140625, 0.0003299713134765625, 0.001495361328125, 0.0024261474609375, 0.07568359375, 0.140625, 0.11328125]}\n",
       "    )\n",
       "    </script>"
      ],
      "text/plain": [
       "<circuitsvis.utils.render.RenderedHTML at 0x7f58dc3e0fd0>"
      ]
     },
     "metadata": {},
     "output_type": "display_data"
    },
    {
     "name": "stdout",
     "output_type": "stream",
     "text": [
      "Layer 35, Group 52 (Heads 52-52) | Shape: torch.Size([43, 43])\n"
     ]
    },
    {
     "data": {
      "text/html": [
       "<div id=\"circuits-vis-48fa2ba2-8baa\" style=\"margin: 15px 0;\"/>\n",
       "    <script crossorigin type=\"module\">\n",
       "    import { render, ColoredTokens } from \"https://unpkg.com/circuitsvis@1.43.3/dist/cdn/esm.js\";\n",
       "    render(\n",
       "      \"circuits-vis-48fa2ba2-8baa\",\n",
       "      ColoredTokens,\n",
       "      {\"tokens\": [\"Which\", \" person\", \" from\", \" the\", \" following\", \" list\", \" has\", \" the\", \" profession\", \" in\", \" common\", \" with\", \" Ed\", \" She\", \"er\", \"an\", \"?\\n\", \"Options\", \":\", \" G\", \"reta\", \" Ger\", \"wig\", \",\", \" Hillary\", \" Clinton\", \",\", \" Kanye\", \" West\", \",\", \" Nicholas\", \" Sparks\", \",\", \" Stephen\", \" Curry\", \",\", \" Phil\", \" Mick\", \"elson\", \"\\n\", \"Ans\", \":\"], \"values\": [0.021240234375, 0.005126953125, 0.005126953125, 0.00262451171875, 0.00885009765625, 0.006591796875, 0.002838134765625, 0.001220703125, 0.00885009765625, 0.002105712890625, 0.02587890625, 0.006195068359375, 0.01153564453125, 0.01068115234375, 0.0027008056640625, 0.03369140625, 0.023681640625, 0.003875732421875, 0.002105712890625, 0.0025787353515625, 0.00138092041015625, 0.002105712890625, 0.003692626953125, 0.006591796875, 0.00138092041015625, 0.00341796875, 0.00147247314453125, 0.002349853515625, 0.00927734375, 0.00872802734375, 0.000476837158203125, 0.00156402587890625, 0.00439453125, 0.0003604888916015625, 0.0027008056640625, 0.003753662109375, 0.000476837158203125, 0.00089263916015625, 0.003692626953125, 0.0203857421875, 0.01348876953125, 0.043212890625]}\n",
       "    )\n",
       "    </script>"
      ],
      "text/plain": [
       "<circuitsvis.utils.render.RenderedHTML at 0x7f58dc5c7210>"
      ]
     },
     "metadata": {},
     "output_type": "display_data"
    },
    {
     "name": "stdout",
     "output_type": "stream",
     "text": [
      "Layer 35, Group 53 (Heads 53-53) | Shape: torch.Size([43, 43])\n"
     ]
    },
    {
     "data": {
      "text/html": [
       "<div id=\"circuits-vis-27e931f5-dd68\" style=\"margin: 15px 0;\"/>\n",
       "    <script crossorigin type=\"module\">\n",
       "    import { render, ColoredTokens } from \"https://unpkg.com/circuitsvis@1.43.3/dist/cdn/esm.js\";\n",
       "    render(\n",
       "      \"circuits-vis-27e931f5-dd68\",\n",
       "      ColoredTokens,\n",
       "      {\"tokens\": [\"Which\", \" person\", \" from\", \" the\", \" following\", \" list\", \" has\", \" the\", \" profession\", \" in\", \" common\", \" with\", \" Ed\", \" She\", \"er\", \"an\", \"?\\n\", \"Options\", \":\", \" G\", \"reta\", \" Ger\", \"wig\", \",\", \" Hillary\", \" Clinton\", \",\", \" Kanye\", \" West\", \",\", \" Nicholas\", \" Sparks\", \",\", \" Stephen\", \" Curry\", \",\", \" Phil\", \" Mick\", \"elson\", \"\\n\", \"Ans\", \":\"], \"values\": [0.034912109375, 0.014404296875, 0.005828857421875, 0.007537841796875, 0.01165771484375, 0.02099609375, 0.00543212890625, 0.00164031982421875, 0.0234375, 0.00372314453125, 0.07275390625, 0.01165771484375, 0.017578125, 0.01708984375, 0.005340576171875, 0.14453125, 0.0712890625, 0.01263427734375, 0.005859375, 0.00665283203125, 0.00107574462890625, 0.0027923583984375, 0.00537109375, 0.01239013671875, 0.00109100341796875, 0.0084228515625, 0.00421142578125, 0.01318359375, 0.08740234375, 0.019775390625, 0.00066375732421875, 0.00555419921875, 0.0157470703125, 0.0004482269287109375, 0.01092529296875, 0.009521484375, 0.0004482269287109375, 0.001220703125, 0.00836181640625, 0.06591796875, 0.01214599609375, 0.1123046875]}\n",
       "    )\n",
       "    </script>"
      ],
      "text/plain": [
       "<circuitsvis.utils.render.RenderedHTML at 0x7f591c155750>"
      ]
     },
     "metadata": {},
     "output_type": "display_data"
    },
    {
     "name": "stdout",
     "output_type": "stream",
     "text": [
      "Layer 35, Group 54 (Heads 54-54) | Shape: torch.Size([43, 43])\n"
     ]
    },
    {
     "data": {
      "text/html": [
       "<div id=\"circuits-vis-bf336fdf-6cb9\" style=\"margin: 15px 0;\"/>\n",
       "    <script crossorigin type=\"module\">\n",
       "    import { render, ColoredTokens } from \"https://unpkg.com/circuitsvis@1.43.3/dist/cdn/esm.js\";\n",
       "    render(\n",
       "      \"circuits-vis-bf336fdf-6cb9\",\n",
       "      ColoredTokens,\n",
       "      {\"tokens\": [\"Which\", \" person\", \" from\", \" the\", \" following\", \" list\", \" has\", \" the\", \" profession\", \" in\", \" common\", \" with\", \" Ed\", \" She\", \"er\", \"an\", \"?\\n\", \"Options\", \":\", \" G\", \"reta\", \" Ger\", \"wig\", \",\", \" Hillary\", \" Clinton\", \",\", \" Kanye\", \" West\", \",\", \" Nicholas\", \" Sparks\", \",\", \" Stephen\", \" Curry\", \",\", \" Phil\", \" Mick\", \"elson\", \"\\n\", \"Ans\", \":\"], \"values\": [0.0169677734375, 0.004180908203125, 0.002685546875, 0.002197265625, 0.005706787109375, 0.00677490234375, 0.00165557861328125, 0.000782012939453125, 0.0159912109375, 0.0019378662109375, 0.02783203125, 0.001708984375, 0.004425048828125, 0.004425048828125, 0.004364013671875, 0.0206298828125, 0.0191650390625, 0.0048828125, 0.00160980224609375, 0.001251220703125, 0.0025634765625, 0.001708984375, 0.0064697265625, 0.00616455078125, 0.00165557861328125, 0.004730224609375, 0.001708984375, 0.00396728515625, 0.0093994140625, 0.0079345703125, 0.000835418701171875, 0.0036163330078125, 0.004730224609375, 0.000736236572265625, 0.0037384033203125, 0.0025634765625, 0.0004596710205078125, 0.00176239013671875, 0.0025634765625, 0.02783203125, 0.041748046875, 0.0289306640625]}\n",
       "    )\n",
       "    </script>"
      ],
      "text/plain": [
       "<circuitsvis.utils.render.RenderedHTML at 0x7f591c17ea10>"
      ]
     },
     "metadata": {},
     "output_type": "display_data"
    },
    {
     "name": "stdout",
     "output_type": "stream",
     "text": [
      "Layer 35, Group 55 (Heads 55-55) | Shape: torch.Size([43, 43])\n"
     ]
    },
    {
     "data": {
      "text/html": [
       "<div id=\"circuits-vis-b20035da-20a2\" style=\"margin: 15px 0;\"/>\n",
       "    <script crossorigin type=\"module\">\n",
       "    import { render, ColoredTokens } from \"https://unpkg.com/circuitsvis@1.43.3/dist/cdn/esm.js\";\n",
       "    render(\n",
       "      \"circuits-vis-b20035da-20a2\",\n",
       "      ColoredTokens,\n",
       "      {\"tokens\": [\"Which\", \" person\", \" from\", \" the\", \" following\", \" list\", \" has\", \" the\", \" profession\", \" in\", \" common\", \" with\", \" Ed\", \" She\", \"er\", \"an\", \"?\\n\", \"Options\", \":\", \" G\", \"reta\", \" Ger\", \"wig\", \",\", \" Hillary\", \" Clinton\", \",\", \" Kanye\", \" West\", \",\", \" Nicholas\", \" Sparks\", \",\", \" Stephen\", \" Curry\", \",\", \" Phil\", \" Mick\", \"elson\", \"\\n\", \"Ans\", \":\"], \"values\": [0.0269775390625, 0.012451171875, 0.01031494140625, 0.017578125, 0.01470947265625, 0.010009765625, 0.00323486328125, 0.00186920166015625, 0.0087890625, 0.0010833740234375, 0.013916015625, 0.0035400390625, 0.03173828125, 0.0211181640625, 0.0120849609375, 0.05859375, 0.029296875, 0.00836181640625, 0.00836181640625, 0.01361083984375, 0.0069580078125, 0.0017852783203125, 0.01953125, 0.0101318359375, 0.007049560546875, 0.01416015625, 0.00433349609375, 0.01806640625, 0.016845703125, 0.0213623046875, 0.00653076171875, 0.01068115234375, 0.01275634765625, 0.00738525390625, 0.01129150390625, 0.011474609375, 0.0037689208984375, 0.004547119140625, 0.006622314453125, 0.045166015625, 0.03857421875, 0.0546875]}\n",
       "    )\n",
       "    </script>"
      ],
      "text/plain": [
       "<circuitsvis.utils.render.RenderedHTML at 0x7f58dc3ea910>"
      ]
     },
     "metadata": {},
     "output_type": "display_data"
    },
    {
     "name": "stdout",
     "output_type": "stream",
     "text": [
      "Layer 35, Group 56 (Heads 56-56) | Shape: torch.Size([43, 43])\n"
     ]
    },
    {
     "data": {
      "text/html": [
       "<div id=\"circuits-vis-3a52a9e2-565e\" style=\"margin: 15px 0;\"/>\n",
       "    <script crossorigin type=\"module\">\n",
       "    import { render, ColoredTokens } from \"https://unpkg.com/circuitsvis@1.43.3/dist/cdn/esm.js\";\n",
       "    render(\n",
       "      \"circuits-vis-3a52a9e2-565e\",\n",
       "      ColoredTokens,\n",
       "      {\"tokens\": [\"Which\", \" person\", \" from\", \" the\", \" following\", \" list\", \" has\", \" the\", \" profession\", \" in\", \" common\", \" with\", \" Ed\", \" She\", \"er\", \"an\", \"?\\n\", \"Options\", \":\", \" G\", \"reta\", \" Ger\", \"wig\", \",\", \" Hillary\", \" Clinton\", \",\", \" Kanye\", \" West\", \",\", \" Nicholas\", \" Sparks\", \",\", \" Stephen\", \" Curry\", \",\", \" Phil\", \" Mick\", \"elson\", \"\\n\", \"Ans\", \":\"], \"values\": [0.002349853515625, 0.00093841552734375, 0.00102996826171875, 0.0012054443359375, 0.0001964569091796875, 0.00022220611572265625, 0.0002689361572265625, 7.43865966796875e-05, 0.000965118408203125, 0.0001678466796875, 0.00131988525390625, 0.0003337860107421875, 0.0005340576171875, 0.0002593994140625, 0.0004711151123046875, 0.0008544921875, 0.0022125244140625, 0.00093841552734375, 0.0006866455078125, 0.0004425048828125, 0.0002155303955078125, 0.000244140625, 0.000751495361328125, 0.000881195068359375, 0.000244140625, 0.0003337860107421875, 0.000244140625, 0.0003337860107421875, 0.000751495361328125, 0.000518798828125, 0.0003795623779296875, 0.00058746337890625, 0.0006256103515625, 0.00030517578125, 0.000705718994140625, 0.0006256103515625, 0.0003566741943359375, 0.000415802001953125, 0.0006256103515625, 0.0035858154296875, 0.00738525390625, 0.01385498046875]}\n",
       "    )\n",
       "    </script>"
      ],
      "text/plain": [
       "<circuitsvis.utils.render.RenderedHTML at 0x7f594013a790>"
      ]
     },
     "metadata": {},
     "output_type": "display_data"
    },
    {
     "name": "stdout",
     "output_type": "stream",
     "text": [
      "Layer 35, Group 57 (Heads 57-57) | Shape: torch.Size([43, 43])\n"
     ]
    },
    {
     "data": {
      "text/html": [
       "<div id=\"circuits-vis-f7e7cce8-9d5b\" style=\"margin: 15px 0;\"/>\n",
       "    <script crossorigin type=\"module\">\n",
       "    import { render, ColoredTokens } from \"https://unpkg.com/circuitsvis@1.43.3/dist/cdn/esm.js\";\n",
       "    render(\n",
       "      \"circuits-vis-f7e7cce8-9d5b\",\n",
       "      ColoredTokens,\n",
       "      {\"tokens\": [\"Which\", \" person\", \" from\", \" the\", \" following\", \" list\", \" has\", \" the\", \" profession\", \" in\", \" common\", \" with\", \" Ed\", \" She\", \"er\", \"an\", \"?\\n\", \"Options\", \":\", \" G\", \"reta\", \" Ger\", \"wig\", \",\", \" Hillary\", \" Clinton\", \",\", \" Kanye\", \" West\", \",\", \" Nicholas\", \" Sparks\", \",\", \" Stephen\", \" Curry\", \",\", \" Phil\", \" Mick\", \"elson\", \"\\n\", \"Ans\", \":\"], \"values\": [0.004486083984375, 0.0021209716796875, 0.0026397705078125, 0.00136566162109375, 0.0012054443359375, 0.00124359130859375, 0.00075531005859375, 0.0004177093505859375, 0.002899169921875, 0.000457763671875, 0.00244140625, 0.000431060791015625, 0.0025177001953125, 0.0030364990234375, 0.002471923828125, 0.005584716796875, 0.00360107421875, 0.005767822265625, 0.0017547607421875, 0.0013275146484375, 0.00225830078125, 0.00154876708984375, 0.005859375, 0.003448486328125, 0.00186920166015625, 0.002899169921875, 0.0010986328125, 0.0037841796875, 0.0052490234375, 0.003387451171875, 0.00141143798828125, 0.0030364990234375, 0.00494384765625, 0.00193023681640625, 0.0054931640625, 0.00469970703125, 0.00113677978515625, 0.00186920166015625, 0.0062255859375, 0.0142822265625, 0.01544189453125, 0.0262451171875]}\n",
       "    )\n",
       "    </script>"
      ],
      "text/plain": [
       "<circuitsvis.utils.render.RenderedHTML at 0x7f58dc3e4950>"
      ]
     },
     "metadata": {},
     "output_type": "display_data"
    },
    {
     "name": "stdout",
     "output_type": "stream",
     "text": [
      "Layer 35, Group 58 (Heads 58-58) | Shape: torch.Size([43, 43])\n"
     ]
    },
    {
     "data": {
      "text/html": [
       "<div id=\"circuits-vis-2c847516-dc77\" style=\"margin: 15px 0;\"/>\n",
       "    <script crossorigin type=\"module\">\n",
       "    import { render, ColoredTokens } from \"https://unpkg.com/circuitsvis@1.43.3/dist/cdn/esm.js\";\n",
       "    render(\n",
       "      \"circuits-vis-2c847516-dc77\",\n",
       "      ColoredTokens,\n",
       "      {\"tokens\": [\"Which\", \" person\", \" from\", \" the\", \" following\", \" list\", \" has\", \" the\", \" profession\", \" in\", \" common\", \" with\", \" Ed\", \" She\", \"er\", \"an\", \"?\\n\", \"Options\", \":\", \" G\", \"reta\", \" Ger\", \"wig\", \",\", \" Hillary\", \" Clinton\", \",\", \" Kanye\", \" West\", \",\", \" Nicholas\", \" Sparks\", \",\", \" Stephen\", \" Curry\", \",\", \" Phil\", \" Mick\", \"elson\", \"\\n\", \"Ans\", \":\"], \"values\": [0.01068115234375, 0.0025482177734375, 0.0029296875, 0.0021820068359375, 0.00087738037109375, 0.00106048583984375, 0.00174713134765625, 0.000850677490234375, 0.0030670166015625, 0.00119781494140625, 0.003814697265625, 0.001983642578125, 0.003936767578125, 0.0025787353515625, 0.0022125244140625, 0.00946044921875, 0.006500244140625, 0.0013580322265625, 0.0021820068359375, 0.0020751953125, 0.001922607421875, 0.00131988525390625, 0.00433349609375, 0.003936767578125, 0.00164031982421875, 0.00164031982421875, 0.0022125244140625, 0.0024261474609375, 0.005828857421875, 0.0032196044921875, 0.0016937255859375, 0.004180908203125, 0.004180908203125, 0.002838134765625, 0.006805419921875, 0.00445556640625, 0.0022125244140625, 0.0022735595703125, 0.004608154296875, 0.015869140625, 0.00701904296875, 0.040771484375]}\n",
       "    )\n",
       "    </script>"
      ],
      "text/plain": [
       "<circuitsvis.utils.render.RenderedHTML at 0x7f594013a790>"
      ]
     },
     "metadata": {},
     "output_type": "display_data"
    },
    {
     "name": "stdout",
     "output_type": "stream",
     "text": [
      "Layer 35, Group 59 (Heads 59-59) | Shape: torch.Size([43, 43])\n"
     ]
    },
    {
     "data": {
      "text/html": [
       "<div id=\"circuits-vis-18420bcd-90d4\" style=\"margin: 15px 0;\"/>\n",
       "    <script crossorigin type=\"module\">\n",
       "    import { render, ColoredTokens } from \"https://unpkg.com/circuitsvis@1.43.3/dist/cdn/esm.js\";\n",
       "    render(\n",
       "      \"circuits-vis-18420bcd-90d4\",\n",
       "      ColoredTokens,\n",
       "      {\"tokens\": [\"Which\", \" person\", \" from\", \" the\", \" following\", \" list\", \" has\", \" the\", \" profession\", \" in\", \" common\", \" with\", \" Ed\", \" She\", \"er\", \"an\", \"?\\n\", \"Options\", \":\", \" G\", \"reta\", \" Ger\", \"wig\", \",\", \" Hillary\", \" Clinton\", \",\", \" Kanye\", \" West\", \",\", \" Nicholas\", \" Sparks\", \",\", \" Stephen\", \" Curry\", \",\", \" Phil\", \" Mick\", \"elson\", \"\\n\", \"Ans\", \":\"], \"values\": [0.01361083984375, 0.00189971923828125, 0.0020904541015625, 0.002685546875, 0.00122833251953125, 0.000896453857421875, 0.0010528564453125, 0.00022029876708984375, 0.0014801025390625, 0.0003299713134765625, 0.0032806396484375, 0.00098419189453125, 0.0017852783203125, 0.00115203857421875, 0.001678466796875, 0.0023651123046875, 0.005340576171875, 0.00130462646484375, 0.00081634521484375, 0.000637054443359375, 0.000362396240234375, 0.0003414154052734375, 0.00081634521484375, 0.001190185546875, 0.0004520416259765625, 0.000698089599609375, 0.000545501708984375, 0.000423431396484375, 0.000720977783203125, 0.00130462646484375, 0.0003299713134765625, 0.00049591064453125, 0.000720977783203125, 0.0002498626708984375, 0.000579833984375, 0.00079345703125, 0.00018787384033203125, 0.000301361083984375, 0.00037384033203125, 0.00543212890625, 0.0068359375, 0.006622314453125]}\n",
       "    )\n",
       "    </script>"
      ],
      "text/plain": [
       "<circuitsvis.utils.render.RenderedHTML at 0x7f58bc50ee50>"
      ]
     },
     "metadata": {},
     "output_type": "display_data"
    },
    {
     "name": "stdout",
     "output_type": "stream",
     "text": [
      "Layer 35, Group 60 (Heads 60-60) | Shape: torch.Size([43, 43])\n"
     ]
    },
    {
     "data": {
      "text/html": [
       "<div id=\"circuits-vis-6e8d8964-f142\" style=\"margin: 15px 0;\"/>\n",
       "    <script crossorigin type=\"module\">\n",
       "    import { render, ColoredTokens } from \"https://unpkg.com/circuitsvis@1.43.3/dist/cdn/esm.js\";\n",
       "    render(\n",
       "      \"circuits-vis-6e8d8964-f142\",\n",
       "      ColoredTokens,\n",
       "      {\"tokens\": [\"Which\", \" person\", \" from\", \" the\", \" following\", \" list\", \" has\", \" the\", \" profession\", \" in\", \" common\", \" with\", \" Ed\", \" She\", \"er\", \"an\", \"?\\n\", \"Options\", \":\", \" G\", \"reta\", \" Ger\", \"wig\", \",\", \" Hillary\", \" Clinton\", \",\", \" Kanye\", \" West\", \",\", \" Nicholas\", \" Sparks\", \",\", \" Stephen\", \" Curry\", \",\", \" Phil\", \" Mick\", \"elson\", \"\\n\", \"Ans\", \":\"], \"values\": [0.0126953125, 0.0031585693359375, 0.001861572265625, 0.004180908203125, 0.00140380859375, 0.00102996826171875, 0.00102996826171875, 0.00022220611572265625, 0.0013580322265625, 0.00031280517578125, 0.003021240234375, 0.0012359619140625, 0.001922607421875, 0.00131988525390625, 0.0023956298828125, 0.001922607421875, 0.00836181640625, 0.002105712890625, 0.000965118408203125, 0.00066375732421875, 0.000499725341796875, 0.0004558563232421875, 0.001129150390625, 0.00164031982421875, 0.000644683837890625, 0.00090789794921875, 0.0004711151123046875, 0.00066375732421875, 0.000705718994140625, 0.00119781494140625, 0.0004711151123046875, 0.00102996826171875, 0.00087738037109375, 0.000354766845703125, 0.00087738037109375, 0.00131988525390625, 0.000354766845703125, 0.00060272216796875, 0.00066375732421875, 0.00714111328125, 0.0098876953125, 0.0047607421875]}\n",
       "    )\n",
       "    </script>"
      ],
      "text/plain": [
       "<circuitsvis.utils.render.RenderedHTML at 0x7f58bc572790>"
      ]
     },
     "metadata": {},
     "output_type": "display_data"
    },
    {
     "name": "stdout",
     "output_type": "stream",
     "text": [
      "Layer 35, Group 61 (Heads 61-61) | Shape: torch.Size([43, 43])\n"
     ]
    },
    {
     "data": {
      "text/html": [
       "<div id=\"circuits-vis-f89db494-32ec\" style=\"margin: 15px 0;\"/>\n",
       "    <script crossorigin type=\"module\">\n",
       "    import { render, ColoredTokens } from \"https://unpkg.com/circuitsvis@1.43.3/dist/cdn/esm.js\";\n",
       "    render(\n",
       "      \"circuits-vis-f89db494-32ec\",\n",
       "      ColoredTokens,\n",
       "      {\"tokens\": [\"Which\", \" person\", \" from\", \" the\", \" following\", \" list\", \" has\", \" the\", \" profession\", \" in\", \" common\", \" with\", \" Ed\", \" She\", \"er\", \"an\", \"?\\n\", \"Options\", \":\", \" G\", \"reta\", \" Ger\", \"wig\", \",\", \" Hillary\", \" Clinton\", \",\", \" Kanye\", \" West\", \",\", \" Nicholas\", \" Sparks\", \",\", \" Stephen\", \" Curry\", \",\", \" Phil\", \" Mick\", \"elson\", \"\\n\", \"Ans\", \":\"], \"values\": [0.0079345703125, 0.001312255859375, 0.000701904296875, 0.00157928466796875, 0.000301361083984375, 0.00022792816162109375, 0.0003414154052734375, 0.0001220703125, 0.00077056884765625, 0.00018310546875, 0.00127410888671875, 0.000301361083984375, 0.000545501708984375, 0.0003871917724609375, 0.000957489013671875, 0.000514984130859375, 0.0029144287109375, 0.000957489013671875, 0.0004825592041015625, 0.0002841949462890625, 0.000301361083984375, 0.000301361083984375, 0.000873565673828125, 0.000598907470703125, 0.0003757476806640625, 0.0003528594970703125, 0.00016117095947265625, 0.000453948974609375, 0.0003757476806640625, 0.00049591064453125, 0.0004673004150390625, 0.0009918212890625, 0.000453948974609375, 0.000274658203125, 0.00072479248046875, 0.000438690185546875, 0.0003528594970703125, 0.000640869140625, 0.000514984130859375, 0.0037384033203125, 0.0040283203125, 0.0031890869140625]}\n",
       "    )\n",
       "    </script>"
      ],
      "text/plain": [
       "<circuitsvis.utils.render.RenderedHTML at 0x7f58bc3e8ed0>"
      ]
     },
     "metadata": {},
     "output_type": "display_data"
    },
    {
     "name": "stdout",
     "output_type": "stream",
     "text": [
      "Layer 35, Group 62 (Heads 62-62) | Shape: torch.Size([43, 43])\n"
     ]
    },
    {
     "data": {
      "text/html": [
       "<div id=\"circuits-vis-2d3b1aef-180b\" style=\"margin: 15px 0;\"/>\n",
       "    <script crossorigin type=\"module\">\n",
       "    import { render, ColoredTokens } from \"https://unpkg.com/circuitsvis@1.43.3/dist/cdn/esm.js\";\n",
       "    render(\n",
       "      \"circuits-vis-2d3b1aef-180b\",\n",
       "      ColoredTokens,\n",
       "      {\"tokens\": [\"Which\", \" person\", \" from\", \" the\", \" following\", \" list\", \" has\", \" the\", \" profession\", \" in\", \" common\", \" with\", \" Ed\", \" She\", \"er\", \"an\", \"?\\n\", \"Options\", \":\", \" G\", \"reta\", \" Ger\", \"wig\", \",\", \" Hillary\", \" Clinton\", \",\", \" Kanye\", \" West\", \",\", \" Nicholas\", \" Sparks\", \",\", \" Stephen\", \" Curry\", \",\", \" Phil\", \" Mick\", \"elson\", \"\\n\", \"Ans\", \":\"], \"values\": [0.0028533935546875, 0.0038909912109375, 0.0023651123046875, 0.0029449462890625, 0.00154876708984375, 0.00096893310546875, 0.0010986328125, 0.0001125335693359375, 0.0013275146484375, 0.00019073486328125, 0.00384521484375, 0.000644683837890625, 0.00128173828125, 0.0007781982421875, 0.00075531005859375, 0.002227783203125, 0.0069580078125, 0.0028076171875, 0.0008544921875, 0.000335693359375, 0.00030517578125, 0.00019741058349609375, 0.0006256103515625, 0.00136566162109375, 0.00023746490478515625, 0.000553131103515625, 0.0002613067626953125, 0.000278472900390625, 0.000553131103515625, 0.00150299072265625, 0.000209808349609375, 0.0006256103515625, 0.000911712646484375, 0.00019073486328125, 0.0006866455078125, 0.0013275146484375, 0.00015354156494140625, 0.000457763671875, 0.0008544921875, 0.0125732421875, 0.0211181640625, 0.007049560546875]}\n",
       "    )\n",
       "    </script>"
      ],
      "text/plain": [
       "<circuitsvis.utils.render.RenderedHTML at 0x7f58bc3eb0d0>"
      ]
     },
     "metadata": {},
     "output_type": "display_data"
    },
    {
     "name": "stdout",
     "output_type": "stream",
     "text": [
      "Layer 35, Group 63 (Heads 63-63) | Shape: torch.Size([43, 43])\n"
     ]
    },
    {
     "data": {
      "text/html": [
       "<div id=\"circuits-vis-2ebba2e4-a740\" style=\"margin: 15px 0;\"/>\n",
       "    <script crossorigin type=\"module\">\n",
       "    import { render, ColoredTokens } from \"https://unpkg.com/circuitsvis@1.43.3/dist/cdn/esm.js\";\n",
       "    render(\n",
       "      \"circuits-vis-2ebba2e4-a740\",\n",
       "      ColoredTokens,\n",
       "      {\"tokens\": [\"Which\", \" person\", \" from\", \" the\", \" following\", \" list\", \" has\", \" the\", \" profession\", \" in\", \" common\", \" with\", \" Ed\", \" She\", \"er\", \"an\", \"?\\n\", \"Options\", \":\", \" G\", \"reta\", \" Ger\", \"wig\", \",\", \" Hillary\", \" Clinton\", \",\", \" Kanye\", \" West\", \",\", \" Nicholas\", \" Sparks\", \",\", \" Stephen\", \" Curry\", \",\", \" Phil\", \" Mick\", \"elson\", \"\\n\", \"Ans\", \":\"], \"values\": [0.00823974609375, 0.0022735595703125, 0.002349853515625, 0.0021820068359375, 0.000728607177734375, 0.000621795654296875, 0.00060272216796875, 0.000202178955078125, 0.0035858154296875, 0.0003032684326171875, 0.00262451171875, 0.00060272216796875, 0.001983642578125, 0.00099945068359375, 0.0005340576171875, 0.00250244140625, 0.0036468505859375, 0.0016937255859375, 0.001129150390625, 0.000934600830078125, 0.0004863739013671875, 0.000644683837890625, 0.00174713134765625, 0.0022430419921875, 0.0005340576171875, 0.00164031982421875, 0.00060272216796875, 0.00060272216796875, 0.00164031982421875, 0.00174713134765625, 0.000415802001953125, 0.00131988525390625, 0.0015411376953125, 0.0005340576171875, 0.00116729736328125, 0.00109100341796875, 0.0002593994140625, 0.000621795654296875, 0.00128173828125, 0.005462646484375, 0.00885009765625, 0.0078125]}\n",
       "    )\n",
       "    </script>"
      ],
      "text/plain": [
       "<circuitsvis.utils.render.RenderedHTML at 0x7f594013a790>"
      ]
     },
     "metadata": {},
     "output_type": "display_data"
    }
   ],
   "source": [
    "layer_idx = 35\n",
    "\n",
    "for group_id in group_id_to_head_indices:\n",
    "    frm = group_id_to_head_indices[group_id][0]\n",
    "    to = group_id_to_head_indices[group_id][-1]\n",
    "\n",
    "    attn_matrix = torch.Tensor(attn_info.attention_matrices[layer_idx, frm:to + 1]).mean(dim=0).squeeze()\n",
    "    print(\n",
    "        f\"Layer {layer_idx}, Group {group_id} (Heads {frm}-{to}) | Shape: {attn_matrix.shape}\"\n",
    "    )\n",
    "\n",
    "    visualize_attn_matrix(\n",
    "        attn_matrix=attn_matrix,  # layer 30, head 5\n",
    "        tokens=[mt.tokenizer.decode(t) for t in tokenized.input_ids[0]],\n",
    "        q_index=-1,\n",
    "        start_from=1\n",
    "    )"
   ]
  },
  {
   "cell_type": "code",
   "execution_count": 172,
   "id": "38f5364f",
   "metadata": {},
   "outputs": [
    {
     "data": {
      "text/html": [
       "<div id=\"circuits-vis-6e6f7c91-abf7\" style=\"margin: 15px 0;\"/>\n",
       "    <script crossorigin type=\"module\">\n",
       "    import { render, ColoredTokens } from \"https://unpkg.com/circuitsvis@1.43.3/dist/cdn/esm.js\";\n",
       "    render(\n",
       "      \"circuits-vis-6e6f7c91-abf7\",\n",
       "      ColoredTokens,\n",
       "      {\"tokens\": [\"Which\", \" person\", \" from\", \" the\", \" following\", \" list\", \" has\", \" the\", \" profession\", \" in\", \" common\", \" with\", \" Ed\", \" She\", \"er\", \"an\", \"?\\n\", \"Options\", \":\", \" G\", \"reta\", \" Ger\", \"wig\", \",\", \" Hillary\", \" Clinton\", \",\", \" Kanye\", \" West\", \",\", \" Nicholas\", \" Sparks\", \",\", \" Stephen\", \" Curry\", \",\", \" Phil\", \" Mick\", \"elson\", \"\\n\", \"Ans\", \":\"], \"values\": [0.034423828125, 0.004638671875, 0.004425048828125, 0.00193023681640625, 0.0034942626953125, 0.005157470703125, 0.0030364990234375, 0.00193023681640625, 0.031982421875, 0.0034332275390625, 0.033203125, 0.01025390625, 0.0157470703125, 0.0108642578125, 0.00897216796875, 0.1064453125, 0.00689697265625, 0.00323486328125, 0.00396728515625, 0.00701904296875, 0.0004100799560546875, 0.00067901611328125, 0.006378173828125, 0.00982666015625, 0.00049591064453125, 0.0028533935546875, 0.00701904296875, 0.023193359375, 0.1904296875, 0.02197265625, 0.0021820068359375, 0.007110595703125, 0.028564453125, 0.0013275146484375, 0.007293701171875, 0.00701904296875, 0.00051116943359375, 0.0012054443359375, 0.0052490234375, 0.00927734375, 0.00096893310546875, 0.10595703125]}\n",
       "    )\n",
       "    </script>"
      ],
      "text/plain": [
       "<circuitsvis.utils.render.RenderedHTML at 0x7f5964158090>"
      ]
     },
     "metadata": {},
     "output_type": "display_data"
    },
    {
     "name": "stdout",
     "output_type": "stream",
     "text": [
      "head_inp.shape=torch.Size([1, 43, 8192])\n",
      "ll_pred=['\"adel\"[15503] (p=0.005, logit=6.906)', '\"ais\"[2852] (p=0.003, logit=6.625)', '\"u\"[84] (p=0.003, logit=6.625)', '\"uss\"[1892] (p=0.003, logit=6.625)', '\" none\"[7000] (p=0.003, logit=6.594)']\n",
      "patch_pred=['\"?\\n\"[18072] (p=0.154, logit=12.125)', '\"?\\n\\n\"[24688] (p=0.078, logit=11.438)', '\"?\"[949] (p=0.044, logit=10.875)', '\" \\n\"[720] (p=0.042, logit=10.812)', '\" (\"[320] (p=0.027, logit=10.375)', '\" ->\"[1492] (p=0.021, logit=10.125)', '\" \"[220] (p=0.021, logit=10.125)', '\"??\"[9602] (p=0.015, logit=9.812)', '\" lawyer\"[15779] (p=0.013, logit=9.688)', '\" unknown\"[9987] (p=0.013, logit=9.625)', '\" profession\"[4913] (p=0.010, logit=9.438)', '\"\\n\\n\"[271] (p=0.010, logit=9.375)', '\" artist\"[10255] (p=0.010, logit=9.375)', '\" software\"[3241] (p=0.009, logit=9.312)', '\" \\n\\n\"[4815] (p=0.008, logit=9.188)']\n"
     ]
    }
   ],
   "source": [
    "from src.functional import get_hs\n",
    "from src.functional import logit_lens, patchscope, get_module_nnsight\n",
    "########################################################################\n",
    "context_prof = \"\"\"Name of a person -> their profession\n",
    "Albert Einstein -> physicist\n",
    "Michael Jordan -> basketball player\n",
    "Jack Ma -> entrepreneur\n",
    "placeholder ->\"\"\"\n",
    "\n",
    "patch_layers = [5]\n",
    "patch_layers = [mt.layer_name_format.format(idx) for idx in patch_layers]\n",
    "########################################################################\n",
    "\n",
    "layer_idx, head_idx = 35, 50\n",
    "\n",
    "visualize_attn_matrix(\n",
    "    attn_matrix=attn_info.attention_matrices[layer_idx, head_idx],\n",
    "    tokens=[mt.tokenizer.decode(t) for t in tokenized.input_ids[0]],\n",
    "    q_index=-1,\n",
    "    start_from=1,\n",
    ")\n",
    "\n",
    "# hs = get_hs(\n",
    "#     mt=mt,\n",
    "#     input=tokenized,\n",
    "#     locations=[(layer_name, -1) for layer_name in mt.layer_names],\n",
    "#     patches=[],\n",
    "#     return_dict=True,\n",
    "# )\n",
    "with mt.trace(tokenized) as trace:\n",
    "    res_prev = get_module_nnsight(mt, mt.layer_name_format.format(layer_idx-1))\n",
    "    head_inp = res_prev.output[0].save()\n",
    "\n",
    "print(f\"{head_inp.shape=}\")\n",
    "\n",
    "ll_pred = logit_lens(\n",
    "    mt = mt,\n",
    "    h = head_inp[0, -1, :],\n",
    ")\n",
    "print(f'll_pred={[str(pred) for pred in ll_pred]}')\n",
    "\n",
    "patch_pred = patchscope(\n",
    "    mt=mt,\n",
    "    h=head_inp[0, -1, :],\n",
    "    context=context_prof,\n",
    "    placeholder=\"placeholder\",\n",
    "    patch_layers=patch_layers,\n",
    "    k=15,\n",
    ")\n",
    "print(f'patch_pred={[str(pred) for pred in patch_pred]}')"
   ]
  },
  {
   "cell_type": "code",
   "execution_count": 179,
   "id": "a7f37387",
   "metadata": {},
   "outputs": [
    {
     "name": "stdout",
     "output_type": "stream",
     "text": [
      "2025-07-22 18:55:53 src.hooking.llama_attention DEBUG    LlamaAttentionPatcher <> model.layers.35.self_attn\n",
      "2025-07-22 18:55:53 src.hooking.llama_attention DEBUG    hidden_shape=(1, 43, -1, 128) | input_shape=torch.Size([1, 43]) | torch.Size([1, 43, 8192])\n",
      "2025-07-22 18:55:54 src.hooking.llama_attention DEBUG    query_states.size()=torch.Size([1, 64, 43, 128]) | key_states.size()=torch.Size([1, 8, 43, 128]) | value_states.size()=torch.Size([1, 8, 43, 128])\n",
      "o_proj_weight_split.size()=torch.Size([8192, 64, 128])\n",
      "attn_output.size()=torch.Size([1, 43, 64, 128])\n"
     ]
    },
    {
     "data": {
      "text/plain": [
       "[[PredictedToken(token=' Kanye', prob=0.74609375, logit=20.125, token_id=59817, metadata=None),\n",
       "  PredictedToken(token=' The', prob=0.061279296875, logit=17.625, token_id=578, metadata=None),\n",
       "  PredictedToken(token=' Nicholas', prob=0.032958984375, logit=17.0, token_id=40796, metadata=None),\n",
       "  PredictedToken(token=' K', prob=0.029052734375, logit=16.875, token_id=735, metadata=None),\n",
       "  PredictedToken(token=' Ed', prob=0.017578125, logit=16.375, token_id=3279, metadata=None)]]"
      ]
     },
     "execution_count": 179,
     "metadata": {},
     "output_type": "execute_result"
    }
   ],
   "source": [
    "import baukit\n",
    "import types\n",
    "from src.hooking.llama_attention import LlamaAttentionPatcher\n",
    "from src.functional import predict_next_token\n",
    "\n",
    "mt.reset_forward()\n",
    "attn_block = baukit.get_module(\n",
    "    mt._model,\n",
    "    mt.attn_module_name_format.format(layer_idx),\n",
    ")\n",
    "\n",
    "patched_attn_matrices = {}\n",
    "patched_head_contributions={}\n",
    "attn_block.forward = types.MethodType(\n",
    "    LlamaAttentionPatcher(\n",
    "        block_name = mt.attn_module_name_format.format(layer_idx),\n",
    "        save_attn_for=list(range(mt.config.num_attention_heads)),\n",
    "        store_attn_matrices = patched_attn_matrices,\n",
    "        store_head_contributions = patched_head_contributions,\n",
    "    ),\n",
    "    attn_block\n",
    ")\n",
    "\n",
    "patched_pred = predict_next_token(\n",
    "    mt = mt,\n",
    "    inputs = tokenized,\n",
    ")\n",
    "\n",
    "mt.reset_forward()\n",
    "\n",
    "patched_pred"
   ]
  },
  {
   "cell_type": "code",
   "execution_count": 174,
   "id": "7a11c1d1",
   "metadata": {},
   "outputs": [
    {
     "name": "stdout",
     "output_type": "stream",
     "text": [
      "patched_attn_matrices[head_idx].shape=torch.Size([1, 43, 43])\n",
      "patched_head_contributions[head_idx].shape=torch.Size([1, 43, 8192])\n"
     ]
    },
    {
     "data": {
      "text/html": [
       "<div id=\"circuits-vis-aa1bcc4d-dc2b\" style=\"margin: 15px 0;\"/>\n",
       "    <script crossorigin type=\"module\">\n",
       "    import { render, ColoredTokens } from \"https://unpkg.com/circuitsvis@1.43.3/dist/cdn/esm.js\";\n",
       "    render(\n",
       "      \"circuits-vis-aa1bcc4d-dc2b\",\n",
       "      ColoredTokens,\n",
       "      {\"tokens\": [\"Which\", \" person\", \" from\", \" the\", \" following\", \" list\", \" has\", \" the\", \" profession\", \" in\", \" common\", \" with\", \" Ed\", \" She\", \"er\", \"an\", \"?\\n\", \"Options\", \":\", \" G\", \"reta\", \" Ger\", \"wig\", \",\", \" Hillary\", \" Clinton\", \",\", \" Kanye\", \" West\", \",\", \" Nicholas\", \" Sparks\", \",\", \" Stephen\", \" Curry\", \",\", \" Phil\", \" Mick\", \"elson\", \"\\n\", \"Ans\", \":\"], \"values\": [0.0341796875, 0.004730224609375, 0.00439453125, 0.00191497802734375, 0.0034637451171875, 0.005218505859375, 0.003021240234375, 0.00194549560546875, 0.031494140625, 0.0034637451171875, 0.033447265625, 0.01019287109375, 0.0157470703125, 0.0111083984375, 0.0089111328125, 0.10595703125, 0.00701904296875, 0.003265380859375, 0.003936767578125, 0.007049560546875, 0.000408172607421875, 0.00067138671875, 0.006317138671875, 0.0098876953125, 0.000507354736328125, 0.0029144287109375, 0.007049560546875, 0.0235595703125, 0.1953125, 0.022705078125, 0.00213623046875, 0.00701904296875, 0.028076171875, 0.00133514404296875, 0.007232666015625, 0.007049560546875, 0.000522613525390625, 0.00119781494140625, 0.00537109375, 0.00933837890625, 0.0009765625, 0.10498046875]}\n",
       "    )\n",
       "    </script>"
      ],
      "text/plain": [
       "<circuitsvis.utils.render.RenderedHTML at 0x7f595e12d210>"
      ]
     },
     "metadata": {},
     "output_type": "display_data"
    },
    {
     "data": {
      "text/plain": [
       "[PredictedToken(token=' breat', prob=0.00958251953125, logit=8.75, token_id=28855, metadata=None),\n",
       " PredictedToken(token=' continu', prob=0.006561279296875, logit=8.375, token_id=16513, metadata=None),\n",
       " PredictedToken(token=' Deng', prob=0.004364013671875, logit=7.96875, token_id=92829, metadata=None),\n",
       " PredictedToken(token=' Daily', prob=0.004119873046875, logit=7.90625, token_id=13690, metadata=None),\n",
       " PredictedToken(token=' continuation', prob=0.0038604736328125, logit=7.84375, token_id=42271, metadata=None)]"
      ]
     },
     "execution_count": 174,
     "metadata": {},
     "output_type": "execute_result"
    }
   ],
   "source": [
    "from src.functional import logit_lens\n",
    "print(f\"{patched_attn_matrices[head_idx].shape=}\")\n",
    "print(f\"{patched_head_contributions[head_idx].shape=}\")\n",
    "\n",
    "visualize_attn_matrix(\n",
    "    attn_matrix=patched_attn_matrices[head_idx].squeeze(),\n",
    "    tokens=[mt.tokenizer.decode(t) for t in tokenized.input_ids[0]],\n",
    "    q_index=-1,\n",
    "    start_from=1,\n",
    ")\n",
    "\n",
    "logit_lens(\n",
    "    mt = mt,\n",
    "    h = patched_head_contributions[head_idx][:, -1],\n",
    ")"
   ]
  },
  {
   "cell_type": "code",
   "execution_count": 175,
   "id": "895d9caf",
   "metadata": {},
   "outputs": [
    {
     "name": "stdout",
     "output_type": "stream",
     "text": [
      "attn_module.head_dim=128 | attn_module.num_key_value_groups=8\n"
     ]
    },
    {
     "data": {
      "text/plain": [
       "LlamaAttention(\n",
       "  (q_proj): Linear(in_features=8192, out_features=8192, bias=False)\n",
       "  (k_proj): Linear(in_features=8192, out_features=1024, bias=False)\n",
       "  (v_proj): Linear(in_features=8192, out_features=1024, bias=False)\n",
       "  (o_proj): Linear(in_features=8192, out_features=8192, bias=False)\n",
       ")"
      ]
     },
     "execution_count": 175,
     "metadata": {},
     "output_type": "execute_result"
    }
   ],
   "source": [
    "import baukit\n",
    "attn_module = baukit.get_module(mt._model, mt.attn_module_name_format.format(layer_idx))\n",
    "print(f\"{attn_module.head_dim=} | {attn_module.num_key_value_groups=}\")\n",
    "attn_module"
   ]
  },
  {
   "cell_type": "code",
   "execution_count": 176,
   "id": "53dc3296",
   "metadata": {},
   "outputs": [
    {
     "name": "stdout",
     "output_type": "stream",
     "text": [
      "query_states.shape=torch.Size([1, 64, 43, 128]), key_states.shape=torch.Size([1, 8, 43, 128]), value_states.shape=torch.Size([1, 8, 43, 128])\n"
     ]
    }
   ],
   "source": [
    "from src.hooking.llama_attention import repeat_kv\n",
    "\n",
    "hidden_shape = (*tokenized.input_ids.shape, -1, attn_module.head_dim)\n",
    "\n",
    "query_states = attn_module.q_proj(head_inp).view(hidden_shape).transpose(1, 2)\n",
    "key_states = attn_module.k_proj(head_inp).view(hidden_shape).transpose(1, 2)\n",
    "value_states = attn_module.v_proj(head_inp).view(hidden_shape).transpose(1, 2)\n",
    "print(f\"{query_states.shape=}, {key_states.shape=}, {value_states.shape=}\")"
   ]
  },
  {
   "cell_type": "code",
   "execution_count": 186,
   "id": "20eab7a6",
   "metadata": {},
   "outputs": [
    {
     "data": {
      "text/plain": [
       "torch.Size([1, 43, 128])"
      ]
     },
     "execution_count": 186,
     "metadata": {},
     "output_type": "execute_result"
    }
   ],
   "source": [
    "head_query_out = query_states[:, head_idx, :, :]\n",
    "head_query_out.shape"
   ]
  },
  {
   "cell_type": "code",
   "execution_count": 219,
   "id": "e173316f",
   "metadata": {},
   "outputs": [
    {
     "name": "stdout",
     "output_type": "stream",
     "text": [
      "q_proj_weight_split.shape=torch.Size([64, 128, 8192])\n",
      "head_q_proj_weight.shape=torch.Size([128, 8192])\n",
      "head_query_out_2.shape=torch.Size([1, 43, 128])\n"
     ]
    }
   ],
   "source": [
    "q_proj_weight_split = attn_module.q_proj.weight.view(\n",
    "    N_HEADS, attn_module.head_dim, attn_module.q_proj.in_features\n",
    ")\n",
    "\n",
    "print(f\"{q_proj_weight_split.shape=}\")\n",
    "head_q_proj_weight = q_proj_weight_split[head_idx]\n",
    "print(f\"{head_q_proj_weight.shape=}\")\n",
    "\n",
    "head_query_out_2 = head_inp @ head_q_proj_weight.T\n",
    "print(f\"{head_query_out_2.shape=}\")"
   ]
  },
  {
   "cell_type": "code",
   "execution_count": 245,
   "id": "8208ed21",
   "metadata": {},
   "outputs": [
    {
     "name": "stdout",
     "output_type": "stream",
     "text": [
      "False\n"
     ]
    },
    {
     "data": {
      "text/plain": [
       "tensor([[[0., 0., 0.,  ..., 0., 0., 0.],\n",
       "         [0., 0., 0.,  ..., 0., 0., 0.],\n",
       "         [0., 0., 0.,  ..., 0., 0., 0.],\n",
       "         ...,\n",
       "         [0., 0., 0.,  ..., 0., 0., 0.],\n",
       "         [0., 0., 0.,  ..., 0., 0., 0.],\n",
       "         [0., 0., 0.,  ..., 0., 0., 0.]]], device='cuda:3',\n",
       "       dtype=torch.bfloat16, grad_fn=<SubBackward0>)"
      ]
     },
     "execution_count": 245,
     "metadata": {},
     "output_type": "execute_result"
    }
   ],
   "source": [
    "print(torch.allclose(head_query_out, head_query_out_2, atol=1e-1))\n",
    "(head_query_out_2 - head_query_out)"
   ]
  },
  {
   "cell_type": "code",
   "execution_count": 246,
   "id": "6b642c8c",
   "metadata": {},
   "outputs": [
    {
     "data": {
      "text/plain": [
       "torch.Size([128, 8192])"
      ]
     },
     "execution_count": 246,
     "metadata": {},
     "output_type": "execute_result"
    }
   ],
   "source": [
    "head_q_proj_weight.shape"
   ]
  },
  {
   "cell_type": "code",
   "execution_count": 247,
   "id": "76dea3e5",
   "metadata": {},
   "outputs": [
    {
     "data": {
      "text/plain": [
       "torch.Size([1, 43, 8192])"
      ]
     },
     "execution_count": 247,
     "metadata": {},
     "output_type": "execute_result"
    }
   ],
   "source": [
    "head_inp.shape"
   ]
  },
  {
   "cell_type": "code",
   "execution_count": 251,
   "id": "ae16006e",
   "metadata": {},
   "outputs": [
    {
     "name": "stdout",
     "output_type": "stream",
     "text": [
      "ll_pred=['\" Gow\"[93571] (p=0.037, logit=9.562)', '\" stalk\"[55972] (p=0.003, logit=7.125)', '\" Bag\"[20287] (p=0.003, logit=6.906)', '\"groupon\"[71014] (p=0.002, logit=6.844)', '\"alaxy\"[109956] (p=0.002, logit=6.812)', '\" bip\"[29978] (p=0.002, logit=6.781)', '\" ong\"[127721] (p=0.002, logit=6.656)', '\"ंर\"[123418] (p=0.002, logit=6.531)', '\" bag\"[9145] (p=0.002, logit=6.531)', '\" fre\"[3541] (p=0.002, logit=6.469)', '\" Shepherd\"[59646] (p=0.002, logit=6.375)', '\" Collector\"[59648] (p=0.002, logit=6.375)', '\"/oauth\"[61803] (p=0.001, logit=6.312)', '\" Trip\"[27852] (p=0.001, logit=6.312)', '\"kili\"[118462] (p=0.001, logit=6.312)']\n",
      "patch_pred=['\" invalid\"[8482] (p=0.070, logit=10.875)', '\" unknown\"[9987] (p=0.058, logit=10.688)', '\"??\"[9602] (p=0.055, logit=10.625)', '\"?\\n\"[18072] (p=0.048, logit=10.500)', '\"???\"[52417] (p=0.045, logit=10.438)', '\"?\\n\\n\"[24688] (p=0.033, logit=10.125)', '\" error\"[1493] (p=0.031, logit=10.062)', '\"?\"[949] (p=0.028, logit=9.938)', '\" not\"[539] (p=0.021, logit=9.688)', '\" programmer\"[48888] (p=0.018, logit=9.500)', '\" \"[220] (p=0.018, logit=9.500)', '\" undefined\"[5732] (p=0.017, logit=9.438)', '\" no\"[912] (p=0.016, logit=9.375)', '\" number\"[1396] (p=0.011, logit=9.000)', '\" (\"[320] (p=0.011, logit=9.000)']\n"
     ]
    },
    {
     "data": {
      "text/plain": [
       "torch.Size([8192, 8192])"
      ]
     },
     "execution_count": 251,
     "metadata": {},
     "output_type": "execute_result"
    }
   ],
   "source": [
    "with torch.no_grad():\n",
    "    head_q_proj = head_q_proj_weight.to(torch.float32)\n",
    "    proj_matrix = head_q_proj.T @ torch.linalg.pinv(head_q_proj @ head_q_proj.T) @ head_q_proj\n",
    "    head_query_read = head_inp @ proj_matrix.to(mt.dtype).T\n",
    "\n",
    "ll_pred = logit_lens(\n",
    "    mt = mt,\n",
    "    h = head_query_read[:, -1].squeeze(),\n",
    "    k=15\n",
    ")\n",
    "print(f'll_pred={[str(pred) for pred in ll_pred]}')\n",
    "\n",
    "patch_pred = patchscope(\n",
    "    mt=mt,\n",
    "    h=head_query_read[:, -1].squeeze(),\n",
    "    context=context_prof,\n",
    "    placeholder=\"placeholder\",\n",
    "    patch_layers=patch_layers,\n",
    "    k=15,\n",
    ")\n",
    "print(f'patch_pred={[str(pred) for pred in patch_pred]}')\n",
    "\n",
    "proj_matrix.shape"
   ]
  },
  {
   "cell_type": "code",
   "execution_count": 252,
   "id": "e577bba6",
   "metadata": {},
   "outputs": [
    {
     "data": {
      "text/plain": [
       "(torch.Size([1, 43, 8192]), torch.Size([8192, 8192]))"
      ]
     },
     "execution_count": 252,
     "metadata": {},
     "output_type": "execute_result"
    }
   ],
   "source": [
    "head_inp.shape, proj_matrix.shape"
   ]
  },
  {
   "cell_type": "code",
   "execution_count": null,
   "id": "95f5787a",
   "metadata": {},
   "outputs": [],
   "source": []
  }
 ],
 "metadata": {
  "kernelspec": {
   "display_name": "connection",
   "language": "python",
   "name": "python3"
  },
  "language_info": {
   "codemirror_mode": {
    "name": "ipython",
    "version": 3
   },
   "file_extension": ".py",
   "mimetype": "text/x-python",
   "name": "python",
   "nbconvert_exporter": "python",
   "pygments_lexer": "ipython3",
   "version": "3.11.11"
  }
 },
 "nbformat": 4,
 "nbformat_minor": 5
}
