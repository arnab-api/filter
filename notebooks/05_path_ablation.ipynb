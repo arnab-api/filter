{
 "cells": [
  {
   "cell_type": "code",
   "execution_count": 1,
   "metadata": {},
   "outputs": [],
   "source": [
    "%load_ext autoreload\n",
    "%autoreload 2"
   ]
  },
  {
   "cell_type": "code",
   "execution_count": 2,
   "metadata": {},
   "outputs": [
    {
     "name": "stderr",
     "output_type": "stream",
     "text": [
      "/home/local_arnab/miniconda3/envs/retrieval/lib/python3.11/site-packages/tqdm/auto.py:21: TqdmWarning: IProgress not found. Please update jupyter and ipywidgets. See https://ipywidgets.readthedocs.io/en/stable/user_install.html\n",
      "  from .autonotebook import tqdm as notebook_tqdm\n"
     ]
    },
    {
     "name": "stdout",
     "output_type": "stream",
     "text": [
      "2025-02-20 12:07:10 __main__ INFO     torch.__version__='2.5.0+cu124', torch.version.cuda='12.4'\n",
      "2025-02-20 12:07:10 __main__ INFO     torch.cuda.is_available()=True, torch.cuda.device_count()=1, torch.cuda.get_device_name()='NVIDIA RTX A6000'\n",
      "2025-02-20 12:07:10 __main__ INFO     transformers.__version__='4.48.1'\n"
     ]
    }
   ],
   "source": [
    "import os\n",
    "import json\n",
    "from tqdm.auto import tqdm\n",
    "\n",
    "import sys\n",
    "\n",
    "sys.path.append(\"../\")\n",
    "\n",
    "import logging\n",
    "from src.utils import logging_utils\n",
    "from src.utils import env_utils\n",
    "\n",
    "logger = logging.getLogger(__name__)\n",
    "\n",
    "logging.basicConfig(\n",
    "    level=logging.DEBUG,\n",
    "    format=logging_utils.DEFAULT_FORMAT,\n",
    "    datefmt=logging_utils.DEFAULT_DATEFMT,\n",
    "    stream=sys.stdout,\n",
    ")\n",
    "\n",
    "import torch\n",
    "import transformers\n",
    "\n",
    "logger.info(f\"{torch.__version__=}, {torch.version.cuda=}\")\n",
    "logger.info(\n",
    "    f\"{torch.cuda.is_available()=}, {torch.cuda.device_count()=}, {torch.cuda.get_device_name()=}\"\n",
    ")\n",
    "logger.info(f\"{transformers.__version__=}\")"
   ]
  },
  {
   "cell_type": "code",
   "execution_count": 3,
   "metadata": {},
   "outputs": [
    {
     "data": {
      "text/plain": [
       "['Llama-3.1-8B',\n",
       " 'Llama-3.1-8B-Instruct',\n",
       " 'Llama-2-7b-chat-hf',\n",
       " 'Llama-3.2-3B-Instruct',\n",
       " 'Llama-3.2-3B',\n",
       " 'Llama-3.2-1B']"
      ]
     },
     "execution_count": 3,
     "metadata": {},
     "output_type": "execute_result"
    }
   ],
   "source": [
    "os.listdir(os.path.join(env_utils.DEFAULT_MODELS_DIR, \"meta-llama\"))"
   ]
  },
  {
   "cell_type": "code",
   "execution_count": 4,
   "metadata": {},
   "outputs": [
    {
     "name": "stdout",
     "output_type": "stream",
     "text": [
      "2025-02-20 12:07:11 accelerate.utils.modeling INFO     We will use 90% of the memory on device 0 for storing the model, and 10% for the buffer to avoid OOM. You can set `max_memory` in to a higher value to use more memory (at your own risk).\n"
     ]
    },
    {
     "name": "stderr",
     "output_type": "stream",
     "text": [
      "Loading checkpoint shards: 100%|██████████| 4/4 [00:04<00:00,  1.24s/it]"
     ]
    },
    {
     "name": "stdout",
     "output_type": "stream",
     "text": [
      "2025-02-20 12:07:16 src.models INFO     loaded model </home/local_arnab/Codes/00_MODEL/meta-llama/Llama-3.1-8B> | size: 15316.508 MB | dtype: torch.float16 | device: cuda:0\n"
     ]
    },
    {
     "name": "stderr",
     "output_type": "stream",
     "text": [
      "\n"
     ]
    }
   ],
   "source": [
    "import torch\n",
    "\n",
    "from src.models import ModelandTokenizer\n",
    "\n",
    "model_key = \"meta-llama/Llama-3.1-8B\"\n",
    "# model_key = \"meta-llama/Llama-3.2-3B\"\n",
    "# model_key = \"google/gemma-2-9b-it\"\n",
    "# model_key = \"google/gemma-2-27b-it\"\n",
    "# model_key = \"Qwen/Qwen2-7B\"\n",
    "# model_key = \"deepseek-ai/DeepSeek-R1-Distill-Llama-8B\"\n",
    "# model_key = \"allenai/OLMo-2-1124-7B-Instruct\"\n",
    "# model_key = \"allenai/OLMo-7B-0424-hf\"\n",
    "\n",
    "mt = ModelandTokenizer(\n",
    "    model_key=model_key,\n",
    "    torch_dtype=torch.float16,\n",
    ")"
   ]
  },
  {
   "cell_type": "code",
   "execution_count": 5,
   "metadata": {},
   "outputs": [],
   "source": [
    "from src.probing.utils import (\n",
    "    prepare_probing_input,\n",
    "    get_lm_generated_answer,\n",
    ")"
   ]
  },
  {
   "cell_type": "code",
   "execution_count": 6,
   "metadata": {},
   "outputs": [
    {
     "name": "stderr",
     "output_type": "stream",
     "text": [
      "/home/local_arnab/miniconda3/envs/retrieval/lib/python3.11/site-packages/transformers/generation/configuration_utils.py:628: UserWarning: `do_sample` is set to `False`. However, `temperature` is set to `0.6` -- this flag is only used in sample-based generation modes. You should set `do_sample=True` or unset `temperature`.\n",
      "  warnings.warn(\n",
      "/home/local_arnab/miniconda3/envs/retrieval/lib/python3.11/site-packages/transformers/generation/configuration_utils.py:633: UserWarning: `do_sample` is set to `False`. However, `top_p` is set to `0.9` -- this flag is only used in sample-based generation modes. You should set `do_sample=True` or unset `top_p`.\n",
      "  warnings.warn(\n",
      "Setting `pad_token_id` to `eos_token_id`:128001 for open-end generation.\n"
     ]
    },
    {
     "name": "stdout",
     "output_type": "stream",
     "text": [
      "<|begin_of_text|>Given two entities, find a common link or relation between them.\n",
      "If both entities are individuals, the common link can be their profession, nationality, or any other attribute they share. Their relation can be if someone is the student/teacher of the other etc.\n",
      "Similarly, if the entities are places, the common link can be the city, country, or any other attribute they share. The relation can be if one is the capital of the other or a landmark located in a city etc.\n",
      "If there is no connection just answer \"None\".\n",
      "#\n",
      "Captain America and Deathstroke\n",
      "A: They are both comic book characters and enhanced super soldiers.\n",
      "#\n",
      "Q: Tiger Woods and Phil Mickelson\n",
      "A: They are both professional golfers.\n",
      "#\n",
      "Q: Rome and Italy\n",
      "A: Rome is the capital city of Italy.\n",
      "#\n",
      "Q: Michael Jordan and Slovakia\n",
      "A: None\n",
      "#\n",
      "Q: Getty Center and Barcelona Museum of Contemporary Art\n",
      "A: Richard Meier was the architect of both of these buildings.\n",
      "#\n",
      "Q: Leonardo da Vinci and Benjamin Franklin\n",
      "A: They are/were both\n"
     ]
    },
    {
     "name": "stderr",
     "output_type": "stream",
     "text": [
      "From v4.47 onwards, when a model cache is to be returned, `generate` will return a `Cache` instance instead by default (as opposed to the legacy tuple of tuples format). If you want to keep returning the legacy format, please set `return_legacy_cache=True`.\n"
     ]
    },
    {
     "name": "stdout",
     "output_type": "stream",
     "text": [
      "answer='polymaths.'\n"
     ]
    }
   ],
   "source": [
    "Instructions = \"\"\"Given two entities, find a common link or relation between them.\n",
    "If both entities are individuals, the common link can be their profession, nationality, or any other attribute they share. Their relation can be if someone is the student/teacher of the other etc.\n",
    "Similarly, if the entities are places, the common link can be the city, country, or any other attribute they share. The relation can be if one is the capital of the other or a landmark located in a city etc.\n",
    "If there is no connection just answer \"None\".\"\"\"\n",
    "\n",
    "# Instructions = f\"\"\"Given two entities, find a common link or relation between them. If there is no connection just answer \"None\".\"\"\"\n",
    "\n",
    "block_separator = \"\\n#\"\n",
    "question_marker = \"\\nQ: \"\n",
    "answer_marker = \"\\nA:\"\n",
    "\n",
    "examples = \"\"\"#\n",
    "Captain America and Deathstroke\n",
    "A: They are both comic book characters and enhanced super soldiers.\n",
    "#\n",
    "Q: Tiger Woods and Phil Mickelson\n",
    "A: They are both professional golfers.\n",
    "#\n",
    "Q: Rome and Italy\n",
    "A: Rome is the capital city of Italy.\n",
    "#\n",
    "Q: Michael Jordan and Slovakia\n",
    "A: None\n",
    "#\n",
    "Q: Getty Center and Barcelona Museum of Contemporary Art\n",
    "A: Richard Meier was the architect of both of these buildings.\n",
    "\"\"\"\n",
    "\n",
    "# entities = ('Bryce Harper', 'Yadier Molina')\n",
    "# entities = (\"Michael Caine\", \"Morgan Freeman\")\n",
    "# entities = (\"Michael Caine\", \"Stephen Hawking\")   #!\n",
    "# entities = (\"Stephen Hawking\", \"Albert Einstein\")\n",
    "# entities = (\"Charles Darwin\", \"Abraham Lincoln\")\n",
    "# entities = (\"Empire State Building\", \"Big Ben\")\n",
    "# entities = (\"Alexander Fleming\", \"Louis Pasteur\")\n",
    "# entities = (\"Alexander Fleming\", \"Andy Murray\")     #!\n",
    "# entities = (\"Alexander Fleming\", \"Sean Connery\")    #!\n",
    "# entities = (\"Ian McKellen\", \"Michael Fassbender\")    #!\n",
    "# entities = (\"Richard Harris\", \"Michael Gambon\")\n",
    "# entities = (\"Ian McKellen\", \"Issac Newton\")  #!\n",
    "# entities = (\"Issac Newton\", \"Ian McKellen\")\n",
    "\n",
    "# entities = (\"Natalie Portman\", \"Bob Dylan\")\n",
    "# entities = (\"Audrey Hepburn\", \"Julia Child\")\n",
    "# entities = (\"Ben Kingsley\", \"Mark Strong\")\n",
    "# entities = (\"Julia Roberts\", \"\")\n",
    "\n",
    "# special case: Brian Cox the Actor (Scottish) and Brian Cox the Physicist (British)\n",
    "# entities = (\"Carl Sagan\", \"Brian Cox\")\n",
    "# entities = (\"Morgan Freeman\", \"Brian Cox\")\n",
    "# entities = (\"Alexander Fleming\", \"Brian Cox\")\n",
    "# entities = (\"Andy Murray\", \"Brian Cox\")\n",
    "# if the entity appears later => do some context specific recalling\n",
    "# if the entity appears earlier => (?) Hybrid representation of both entities?\n",
    "# ---------------------------------------------------------------------------------\n",
    "\n",
    "# entities = (\"Michael Jordan\", \"Kobe Bryant\")\n",
    "\n",
    "# entities = (\"Hugh Jackman\", \"Ricky Ponting\")\n",
    "\n",
    "# entities = (\"Peter Sellers\", \"Elvis Presley\")\n",
    "# entities = (\"David Tennant\", \"Elvis Presley\")\n",
    "# entities = (\"Hugh Laurie\", \"Hoel McHale\")\n",
    "# entities = (\"Sachin Tendulkar\", \"Sachin Dev Burman\")\n",
    "\n",
    "# entities = (\"Daredevil\", \"Toph Beifong\")\n",
    "# entities = (\"Superman\", \"Starfire\")\n",
    "# entities = (\"Natalie Portman\", \"Natalie Portman\")\n",
    "# entities = (\"Burj Khalifa\", \"Shanghai Tower\")\n",
    "# entities = (\"Japan\", \"Korea\")\n",
    "# entities = (\"Japan\", \"Germany\")\n",
    "# entities = (\"Danke\", \"Merci\")\n",
    "# entities = (\"Charlie Chaplin\", \"Rowan Atkinson\")\n",
    "# entities = (\"Daniel Craig\", \"Pierce Brosnan\")\n",
    "# entities = (\"Rafael Nadal\", \"Javier Bardem\")\n",
    "# entities = (\"Henry Cavill\", \"Christopher Reeve\")\n",
    "# entities = (\"Batman\", \"Ironman\")\n",
    "# entities = (\"Bruce Wayne\", \"Tony Stark\")\n",
    "\n",
    "# ---------------------------------------------------------------------------------\n",
    "# entities = (\"Germany\", \"Japan\")\n",
    "# entities = (\"Bhutan\", \"Tuvalu\")\n",
    "# entities = (\"Vatican City\", \"Mount Athos\")\n",
    "# entities = (\"Abraham Lincoln\", \"John Lennon\")\n",
    "# entities = (\"Daredevil\", \"Toph Beifong\")\n",
    "# entities = (\"Madagascar\", \"Amazon\")\n",
    "# entities = (\"Gabriel García Márquez\", \"Rabindranath Tagore\")\n",
    "# entities = (\"Macondo\", \"Shangri-La\")\n",
    "# entities = (\"Memento\", \"Inception\") #! Verify with causal tracing\n",
    "# entities = (\"Rosetta Stone\", \"Dead Sea Scrolls\") #! Verify with causal tracing\n",
    "\n",
    "# Actors who played the same character\n",
    "#! most of the times the LM is very happy to say \"actors\" --- not very interesting\n",
    "# entities = (\"Ian McKellen\", \"Michael Fassbender\")\n",
    "\n",
    "# entities = (\"Batman\", \"Joker\")\n",
    "# entities = (\"Superman\", \"Lex Luthor\")\n",
    "entities = (\"Leonardo da Vinci\", \"Benjamin Franklin\")\n",
    "# entities = (\"Mark Twain\", \"Winston Churchill\")\n",
    "# entities = (\"Julius Caesar\", \"Nepoleon Bonaparte\")\n",
    "# entities = (\"Julius Caesar\", \"Julius Caesar\")\n",
    "# entities = (\"Beethoven\", \"Goya\")\n",
    "# entities = (\"The Godfather\", \"Goodfellas\")\n",
    "# entities = (\"The Green Mile\", \"The Shawshank Redemption\")\n",
    "# entities = (\"Christopher Columbus\", \"Vasco da Gama\")\n",
    "\n",
    "prefix = f\"\"\"{Instructions}\n",
    "{examples}\n",
    "\"\"\"\n",
    "\n",
    "prompt = prepare_probing_input(\n",
    "    mt=mt,\n",
    "    entities=entities,\n",
    "    prefix=prefix,\n",
    "    answer_marker=answer_marker,\n",
    "    question_marker=question_marker,\n",
    "    block_separator=block_separator,\n",
    "    is_a_reasoning_model=\"deepseek\" in model_key.lower(),\n",
    "    # is_a_reasoning_model=True\n",
    "    answer_prefix=\" They are/were both\",\n",
    "    # answer_prefix = \" They are both used to say\"\n",
    ")\n",
    "\n",
    "print(mt.tokenizer.decode(prompt.tokenized[\"input_ids\"][0]))\n",
    "\n",
    "answer = get_lm_generated_answer(\n",
    "    mt=mt,\n",
    "    prompt=prompt,\n",
    "    is_a_reasoning_model=\"deepseek\" in model_key.lower(),\n",
    "    # is_a_reasoning_model=True\n",
    ")\n",
    "print(f\"{answer=}\")"
   ]
  },
  {
   "cell_type": "code",
   "execution_count": 7,
   "metadata": {},
   "outputs": [
    {
     "name": "stderr",
     "output_type": "stream",
     "text": [
      "Setting `pad_token_id` to `eos_token_id`:128001 for open-end generation.\n",
      "Setting `pad_token_id` to `eos_token_id`:128001 for open-end generation.\n"
     ]
    },
    {
     "name": "stdout",
     "output_type": "stream",
     "text": [
      "clean_answer='programming languages.'\n",
      "patched_answer='venomous snakes.'\n"
     ]
    }
   ],
   "source": [
    "# common_entity = \"Alexander Fleming\"\n",
    "# clean_entity = \"Louis Pasteur\"\n",
    "# patch_entity = \"Andy Murray\"\n",
    "\n",
    "# common_entity = \"Michael Caine\"\n",
    "# clean_entity = \"Morgan Freeman\"\n",
    "# patch_entity = \"Stephen Hawking\"\n",
    "\n",
    "# common_entity = \"Ian McKellen\"\n",
    "# clean_entity = \"Michael Fassbender\"\n",
    "# patch_entity = \"Issac Newton\"\n",
    "\n",
    "# common_entity = \"Brian Cox\"\n",
    "# clean_entity = \"Andy Murray\"\n",
    "# patch_entity = \"Carl Sagan\"\n",
    "\n",
    "# common_entity = \"Natalie Portman\"\n",
    "# clean_entity = \"Julia Roberts\"\n",
    "# patch_entity = \"Bob Dylan\"\n",
    "\n",
    "# common_entity = \"Bob Dylan\"\n",
    "# clean_entity = \"Miles Davis\"\n",
    "# patch_entity = \"Natalie Portman\"\n",
    "\n",
    "common_entity = \"python\"\n",
    "clean_entity = \"java\"\n",
    "patch_entity = \"cobra\"\n",
    "\n",
    "# common_entity = \"Vasco da Gama\"\n",
    "# clean_entity = \"placeholder\"\n",
    "# patch_entity = \"Christopher Columbus\"\n",
    "\n",
    "clean_prompt = prepare_probing_input(\n",
    "    mt=mt,\n",
    "    entities=(clean_entity, common_entity),\n",
    "    # entities=(common_entity, clean_entity),\n",
    "    prefix=prefix,\n",
    "    answer_marker=answer_marker,\n",
    "    question_marker=question_marker,\n",
    "    block_separator=block_separator,\n",
    "    is_a_reasoning_model=\"deepseek\" in model_key.lower(),\n",
    "    answer_prefix=\" They are/were both\",\n",
    "    return_offsets_mapping=True,\n",
    ")\n",
    "clean_answer = get_lm_generated_answer(\n",
    "    mt=mt, prompt=clean_prompt, is_a_reasoning_model=\"deepseek\" in model_key.lower()\n",
    ")\n",
    "print(f\"{clean_answer=}\")\n",
    "\n",
    "patched_prompt = prepare_probing_input(\n",
    "    mt=mt,\n",
    "    entities=(patch_entity, common_entity),\n",
    "    # entities=(common_entity, patch_entity),\n",
    "    prefix=prefix,\n",
    "    answer_marker=answer_marker,\n",
    "    question_marker=question_marker,\n",
    "    block_separator=block_separator,\n",
    "    is_a_reasoning_model=\"deepseek\" in model_key.lower(),\n",
    "    answer_prefix=\" They are/were both\",\n",
    "    return_offsets_mapping=True,\n",
    ")\n",
    "patched_answer = get_lm_generated_answer(\n",
    "    mt=mt,\n",
    "    prompt=patched_prompt,\n",
    "    is_a_reasoning_model=\"deepseek\" in model_key.lower(),\n",
    "    # is_a_reasoning_model=True\n",
    ")\n",
    "print(f\"{patched_answer=}\")"
   ]
  },
  {
   "cell_type": "code",
   "execution_count": 8,
   "metadata": {},
   "outputs": [],
   "source": [
    "from src.utils.typing import TokenizerOutput, PredictedToken\n",
    "from src.tokens import align_patching_positions\n",
    "from src.functional import PatchSpec, get_hs, logit_lens, predict_next_token\n",
    "from typing import Optional, Literal\n",
    "\n",
    "\n",
    "def do_path_ablation(\n",
    "    mt: ModelandTokenizer,\n",
    "    input: TokenizerOutput,\n",
    "    restore_states: list[PatchSpec],\n",
    "    block_locations: list[tuple[str, int]],\n",
    "    ans_token: int,\n",
    ") -> PredictedToken:\n",
    "    corrupted_states = get_hs(\n",
    "        mt=mt, input=input, locations=block_locations, return_dict=True\n",
    "    )\n",
    "    # restore the clean states from `restore_states`\n",
    "    # patch the corrupted states back to block those locations\n",
    "    patch_spec = restore_states + [\n",
    "        PatchSpec(location=loc, patch=corrupted_states[loc]) for loc in block_locations\n",
    "    ]\n",
    "    last_h = get_hs(\n",
    "        mt=mt,\n",
    "        input=input,\n",
    "        locations=(mt.layer_name_format.format(mt.n_layer - 1), -1),\n",
    "        patches=patch_spec,\n",
    "        return_dict=False,\n",
    "    )\n",
    "\n",
    "    ablated_pred, track_ans = logit_lens(mt=mt, h=last_h, interested_tokens=[ans_token])\n",
    "    rank, track_ans = list(track_ans.values())[0]\n",
    "\n",
    "    return track_ans\n",
    "\n",
    "\n",
    "# TODO: decouple the alignment and token_idx selection? (maybe later)\n",
    "def trace_path_ablation_effects(\n",
    "    mt: ModelandTokenizer,\n",
    "    prompt_template: str,\n",
    "    clean_subj: str,\n",
    "    patched_subj: str,\n",
    "    clean_input: Optional[TokenizerOutput] = None,\n",
    "    patched_input: Optional[TokenizerOutput] = None,\n",
    "    at_token: Literal[\"last\", \"subj_last\", \"subj_2nd_last\"] | None = \"last\",\n",
    "    token_idx: Optional[int] = None,\n",
    "):\n",
    "    aligned = align_patching_positions(\n",
    "        mt=mt,\n",
    "        prompt_template=prompt_template,\n",
    "        clean_subj=clean_subj,\n",
    "        patched_subj=patched_subj,\n",
    "        clean_input=clean_input,\n",
    "        patched_input=patched_input,\n",
    "        trace_start_marker=None,\n",
    "    )\n",
    "    clean_inputs = aligned[\"clean_input\"]\n",
    "    patch_inputs = aligned[\"patched_input\"]\n",
    "    subj_range = aligned[\"subj_range\"]\n",
    "\n",
    "    patch_ans = predict_next_token(mt=mt, inputs=patch_inputs, k=1)[0][0]\n",
    "    logger.debug(f\"{patch_ans=}\")\n",
    "\n",
    "    clean_ans, corrupt_rank = predict_next_token(\n",
    "        mt=mt,\n",
    "        inputs=clean_inputs,\n",
    "        token_of_interest=[patch_ans.token_id],\n",
    "    )\n",
    "    clean_ans = clean_ans[0][0]\n",
    "    corrupt_rank, base_ans = list(corrupt_rank[0].values())[0]\n",
    "    logger.debug(f\"{clean_ans=}\")\n",
    "    logger.debug(f\"{corrupt_rank=} | {base_ans=}\")\n",
    "\n",
    "    assert clean_inputs[\"input_ids\"].shape[1] == patch_inputs[\"input_ids\"].shape[1]\n",
    "\n",
    "    if token_idx is None:\n",
    "        if at_token == \"last\":\n",
    "            token_idx = clean_inputs[\"input_ids\"].shape[1] - 1\n",
    "        elif at_token == \"subj_last\":\n",
    "            token_idx = subj_range[1] - 1\n",
    "        elif at_token == \"subj_2nd_last\":\n",
    "            token_idx = subj_range[1] - 2\n",
    "        else:\n",
    "            raise ValueError(f\"Invalid {at_token=}\")\n",
    "    else:\n",
    "        if at_token is not None:\n",
    "            logger.warning(f\"Ignoring {at_token=} since {token_idx=} is provided\")\n",
    "\n",
    "    mlp_ablation_locations = [\n",
    "        (mt.mlp_module_name_format.format(i), token_idx) for i in range(mt.n_layer)\n",
    "    ]\n",
    "    attn_ablation_locations = [\n",
    "        (mt.attn_module_name_format.format(i), token_idx) for i in range(mt.n_layer)\n",
    "    ]\n",
    "    residual_locations = [\n",
    "        (mt.layer_name_format.format(i), token_idx) for i in range(mt.n_layer)\n",
    "    ]\n",
    "\n",
    "    path_blocking_effects = {}\n",
    "\n",
    "    restore_states = get_hs(\n",
    "        mt=mt, input=patch_inputs, locations=residual_locations, return_dict=True\n",
    "    )\n",
    "    logger.debug(\"=\" * 50)\n",
    "    for i in tqdm(range(mt.n_layer)):\n",
    "        restore_location = (mt.layer_name_format.format(i), token_idx)\n",
    "        # logger.debug(restore_location)\n",
    "        cur_restore = [\n",
    "            PatchSpec(location=restore_location, patch=restore_states[restore_location])\n",
    "        ]\n",
    "        h_restore_pred = do_path_ablation(\n",
    "            mt=mt,\n",
    "            input=clean_inputs,\n",
    "            restore_states=cur_restore,\n",
    "            block_locations=[],  # don't block anything\n",
    "            ans_token=patch_ans.token_id,\n",
    "        )\n",
    "        # logger.debug(f\"{h_restore_pred=}\")\n",
    "\n",
    "        mlp_ablation_pred = do_path_ablation(\n",
    "            mt=mt,\n",
    "            input=clean_inputs,\n",
    "            restore_states=cur_restore,\n",
    "            block_locations=mlp_ablation_locations,  # block the MLP contributions\n",
    "            ans_token=patch_ans.token_id,\n",
    "        )\n",
    "        # logger.debug(f\"{mlp_ablation_pred=}\")\n",
    "\n",
    "        attn_ablation_pred = do_path_ablation(\n",
    "            mt=mt,\n",
    "            input=clean_inputs,\n",
    "            restore_states=cur_restore,\n",
    "            block_locations=attn_ablation_locations,  # block the attention contributions\n",
    "            ans_token=patch_ans.token_id,\n",
    "        )\n",
    "        # logger.debug(f\"{attn_ablation_pred=}\")\n",
    "\n",
    "        path_blocking_effects[i] = {\n",
    "            \"h_restored\": h_restore_pred,\n",
    "            \"mlp_blocked\": mlp_ablation_pred,\n",
    "            \"attn_blocked\": attn_ablation_pred,\n",
    "        }\n",
    "        # logger.debug(\"-\"*50)\n",
    "\n",
    "    return dict(\n",
    "        clean_inputs=clean_inputs,\n",
    "        patch_inputs=patch_inputs,\n",
    "        patch_ans=patch_ans,\n",
    "        base_ans=base_ans,\n",
    "        patch_blocking_effects=path_blocking_effects,\n",
    "    )"
   ]
  },
  {
   "cell_type": "code",
   "execution_count": 9,
   "metadata": {},
   "outputs": [
    {
     "name": "stdout",
     "output_type": "stream",
     "text": [
      "Given two entities, find a common link or relation between them.\n",
      "If both entities are individuals, the common link can be their profession, nationality, or any other attribute they share. Their relation can be if someone is the student/teacher of the other etc.\n",
      "Similarly, if the entities are places, the common link can be the city, country, or any other attribute they share. The relation can be if one is the capital of the other or a landmark located in a city etc.\n",
      "If there is no connection just answer \"None\".\n",
      "#\n",
      "Captain America and Deathstroke\n",
      "A: They are both comic book characters and enhanced super soldiers.\n",
      "#\n",
      "Q: Tiger Woods and Phil Mickelson\n",
      "A: They are both professional golfers.\n",
      "#\n",
      "Q: Rome and Italy\n",
      "A: Rome is the capital city of Italy.\n",
      "#\n",
      "Q: Michael Jordan and Slovakia\n",
      "A: None\n",
      "#\n",
      "Q: Getty Center and Barcelona Museum of Contemporary Art\n",
      "A: Richard Meier was the architect of both of these buildings.\n",
      "#\n",
      "Q: {} and python\n",
      "A: They are/were both\n"
     ]
    }
   ],
   "source": [
    "prompt_template = clean_prompt.prompt.replace(clean_entity, \"{}\")\n",
    "print(prompt_template)"
   ]
  },
  {
   "cell_type": "code",
   "execution_count": 10,
   "metadata": {},
   "outputs": [],
   "source": [
    "# prompt_template = \"{} is located in the city of\"\n",
    "# clean_entity = \"Eiffel Tower\"\n",
    "# patch_entity = \"The Space Needle\"\n",
    "\n",
    "# path_blocking_effects = trace_path_ablation_effects(\n",
    "#     mt=mt,\n",
    "#     prompt_template=prompt_template,\n",
    "#     clean_subj=clean_entity,\n",
    "#     patched_subj=patch_entity,\n",
    "#     at_token=\"last\"\n",
    "# )"
   ]
  },
  {
   "cell_type": "code",
   "execution_count": 11,
   "metadata": {},
   "outputs": [
    {
     "name": "stdout",
     "output_type": "stream",
     "text": [
      "2025-02-20 12:07:20 __main__ INFO     len(coincidences['examples'])=20\n"
     ]
    }
   ],
   "source": [
    "with open(os.path.join(env_utils.DEFAULT_DATA_DIR, \"coincidences_sample.json\")) as f:\n",
    "    coincidences = json.load(f)\n",
    "\n",
    "logger.info(f\"{len(coincidences['examples'])=}\")"
   ]
  },
  {
   "cell_type": "code",
   "execution_count": 21,
   "metadata": {},
   "outputs": [
    {
     "name": "stdout",
     "output_type": "stream",
     "text": [
      "2025-02-20 12:34:49 __main__ INFO     (1/20)  entities=['Germany', 'Japan']\n"
     ]
    },
    {
     "name": "stderr",
     "output_type": "stream",
     "text": [
      "Setting `pad_token_id` to `eos_token_id`:128001 for open-end generation.\n"
     ]
    },
    {
     "name": "stdout",
     "output_type": "stream",
     "text": [
      "2025-02-20 12:34:50 __main__ INFO     (placeholder, Japan) => countries.\n",
      "2025-02-20 12:34:51 __main__ DEBUG    patch_ans=PredictedToken(token=' Axis', prob=0.2440185546875, logit=16.1875, token_id=35574)\n",
      "2025-02-20 12:34:51 __main__ DEBUG    clean_ans=PredictedToken(token=' countries', prob=0.11688232421875, logit=13.296875, token_id=5961)\n",
      "2025-02-20 12:34:51 __main__ DEBUG    corrupt_rank=3076 | base_ans=PredictedToken(token=' Axis', prob=1.4424324035644531e-05, logit=4.296875, token_id=35574)\n",
      "2025-02-20 12:34:51 __main__ WARNING  Ignoring at_token='last' since token_idx=-2 is provided\n",
      "2025-02-20 12:34:51 __main__ DEBUG    ==================================================\n"
     ]
    },
    {
     "name": "stderr",
     "output_type": "stream",
     "text": [
      "100%|██████████| 32/32 [00:40<00:00,  1.28s/it]"
     ]
    },
    {
     "name": "stdout",
     "output_type": "stream",
     "text": [
      "2025-02-20 12:35:32 __main__ INFO     (2/20)  entities=['Hugh Jackman', 'Ryan Reynolds']\n"
     ]
    },
    {
     "name": "stderr",
     "output_type": "stream",
     "text": [
      "\n",
      "Setting `pad_token_id` to `eos_token_id`:128001 for open-end generation.\n"
     ]
    },
    {
     "name": "stdout",
     "output_type": "stream",
     "text": [
      "2025-02-20 12:35:33 __main__ INFO     (placeholder, Ryan Reynolds) => actors.\n",
      "2025-02-20 12:35:34 __main__ DEBUG    patch_ans=PredictedToken(token=' X', prob=0.15087890625, logit=15.5859375, token_id=1630)\n",
      "2025-02-20 12:35:34 __main__ DEBUG    clean_ans=PredictedToken(token=' actors', prob=0.2154541015625, logit=15.0703125, token_id=20142)\n",
      "2025-02-20 12:35:34 __main__ DEBUG    corrupt_rank=21 | base_ans=PredictedToken(token=' X', prob=0.006816864013671875, logit=11.6171875, token_id=1630)\n",
      "2025-02-20 12:35:34 __main__ WARNING  Ignoring at_token='last' since token_idx=-2 is provided\n",
      "2025-02-20 12:35:34 __main__ DEBUG    ==================================================\n"
     ]
    },
    {
     "name": "stderr",
     "output_type": "stream",
     "text": [
      "100%|██████████| 32/32 [00:41<00:00,  1.30s/it]"
     ]
    },
    {
     "name": "stdout",
     "output_type": "stream",
     "text": [
      "2025-02-20 12:36:15 __main__ INFO     (3/20)  entities=['Bhutan', 'Tuvalu']\n"
     ]
    },
    {
     "name": "stderr",
     "output_type": "stream",
     "text": [
      "\n",
      "Setting `pad_token_id` to `eos_token_id`:128001 for open-end generation.\n"
     ]
    },
    {
     "name": "stdout",
     "output_type": "stream",
     "text": [
      "2025-02-20 12:36:17 __main__ INFO     (placeholder, Tuvalu) => countries.\n",
      "2025-02-20 12:36:17 __main__ DEBUG    patch_ans=PredictedToken(token=' monarch', prob=0.1822509765625, logit=16.046875, token_id=63854)\n",
      "2025-02-20 12:36:17 __main__ DEBUG    clean_ans=PredictedToken(token=' countries', prob=0.1409912109375, logit=14.703125, token_id=5961)\n",
      "2025-02-20 12:36:17 __main__ DEBUG    corrupt_rank=43 | base_ans=PredictedToken(token=' monarch', prob=0.0032634735107421875, logit=10.9375, token_id=63854)\n",
      "2025-02-20 12:36:17 __main__ WARNING  Ignoring at_token='last' since token_idx=-2 is provided\n",
      "2025-02-20 12:36:17 __main__ DEBUG    ==================================================\n"
     ]
    },
    {
     "name": "stderr",
     "output_type": "stream",
     "text": [
      "100%|██████████| 32/32 [00:39<00:00,  1.25s/it]"
     ]
    },
    {
     "name": "stdout",
     "output_type": "stream",
     "text": [
      "2025-02-20 12:36:57 __main__ INFO     (4/20)  entities=['Vatican City', 'Mount Athos']\n"
     ]
    },
    {
     "name": "stderr",
     "output_type": "stream",
     "text": [
      "\n",
      "Setting `pad_token_id` to `eos_token_id`:128001 for open-end generation.\n"
     ]
    },
    {
     "name": "stdout",
     "output_type": "stream",
     "text": [
      "2025-02-20 12:36:59 __main__ INFO     (placeholder, Mount Athos) => monasteries.\n",
      "2025-02-20 12:36:59 __main__ DEBUG    patch_ans=PredictedToken(token=' independent', prob=0.121826171875, logit=15.4296875, token_id=9678)\n",
      "2025-02-20 12:36:59 __main__ DEBUG    clean_ans=PredictedToken(token=' mon', prob=0.1280517578125, logit=14.53125, token_id=1647)\n",
      "2025-02-20 12:36:59 __main__ DEBUG    corrupt_rank=20 | base_ans=PredictedToken(token=' independent', prob=0.00844573974609375, logit=11.8125, token_id=9678)\n",
      "2025-02-20 12:36:59 __main__ WARNING  Ignoring at_token='last' since token_idx=-2 is provided\n",
      "2025-02-20 12:36:59 __main__ DEBUG    ==================================================\n"
     ]
    },
    {
     "name": "stderr",
     "output_type": "stream",
     "text": [
      "100%|██████████| 32/32 [00:39<00:00,  1.24s/it]"
     ]
    },
    {
     "name": "stdout",
     "output_type": "stream",
     "text": [
      "2025-02-20 12:37:39 __main__ INFO     (5/20)  entities=['Rosetta Stone', 'Dead Sea Scrolls']\n"
     ]
    },
    {
     "name": "stderr",
     "output_type": "stream",
     "text": [
      "\n",
      "Setting `pad_token_id` to `eos_token_id`:128001 for open-end generation.\n"
     ]
    },
    {
     "name": "stdout",
     "output_type": "stream",
     "text": [
      "2025-02-20 12:37:40 __main__ INFO     (placeholder, Dead Sea Scrolls) => artifacts.\n",
      "2025-02-20 12:37:40 __main__ DEBUG    patch_ans=PredictedToken(token=' ancient', prob=0.3876953125, logit=17.703125, token_id=14154)\n",
      "2025-02-20 12:37:41 __main__ DEBUG    clean_ans=PredictedToken(token=' religious', prob=0.091796875, logit=15.1171875, token_id=10597)\n",
      "2025-02-20 12:37:41 __main__ DEBUG    corrupt_rank=2 | base_ans=PredictedToken(token=' ancient', prob=0.087646484375, logit=15.0703125, token_id=14154)\n",
      "2025-02-20 12:37:41 __main__ WARNING  Ignoring at_token='last' since token_idx=-2 is provided\n",
      "2025-02-20 12:37:41 __main__ DEBUG    ==================================================\n"
     ]
    },
    {
     "name": "stderr",
     "output_type": "stream",
     "text": [
      "100%|██████████| 32/32 [00:40<00:00,  1.26s/it]"
     ]
    },
    {
     "name": "stdout",
     "output_type": "stream",
     "text": [
      "2025-02-20 12:38:21 __main__ INFO     (6/20)  entities=['Leonardo da Vinci', 'Benjamin Franklin']\n"
     ]
    },
    {
     "name": "stderr",
     "output_type": "stream",
     "text": [
      "\n",
      "Setting `pad_token_id` to `eos_token_id`:128001 for open-end generation.\n"
     ]
    },
    {
     "name": "stdout",
     "output_type": "stream",
     "text": [
      "2025-02-20 12:38:23 __main__ INFO     (placeholder, Benjamin Franklin) => American citizens.\n",
      "2025-02-20 12:38:23 __main__ DEBUG    patch_ans=PredictedToken(token=' polym', prob=0.29150390625, logit=17.171875, token_id=46033)\n",
      "2025-02-20 12:38:23 __main__ DEBUG    clean_ans=PredictedToken(token=' American', prob=0.127685546875, logit=15.3203125, token_id=3778)\n",
      "2025-02-20 12:38:23 __main__ DEBUG    corrupt_rank=18 | base_ans=PredictedToken(token=' polym', prob=0.0122528076171875, logit=12.9765625, token_id=46033)\n",
      "2025-02-20 12:38:23 __main__ WARNING  Ignoring at_token='last' since token_idx=-2 is provided\n",
      "2025-02-20 12:38:23 __main__ DEBUG    ==================================================\n"
     ]
    },
    {
     "name": "stderr",
     "output_type": "stream",
     "text": [
      "100%|██████████| 32/32 [00:40<00:00,  1.25s/it]"
     ]
    },
    {
     "name": "stdout",
     "output_type": "stream",
     "text": [
      "2025-02-20 12:39:03 __main__ INFO     (7/20)  entities=['Daredevil', 'Toph Beifong']\n"
     ]
    },
    {
     "name": "stderr",
     "output_type": "stream",
     "text": [
      "\n",
      "Setting `pad_token_id` to `eos_token_id`:128001 for open-end generation.\n"
     ]
    },
    {
     "name": "stdout",
     "output_type": "stream",
     "text": [
      "2025-02-20 12:39:05 __main__ INFO     (placeholder, Toph Beifong) => characters in Avatar: The Last Airbender.\n",
      "2025-02-20 12:39:05 __main__ DEBUG    patch_ans=PredictedToken(token=' blind', prob=0.7431640625, logit=18.484375, token_id=18507)\n",
      "2025-02-20 12:39:05 __main__ DEBUG    clean_ans=PredictedToken(token=' characters', prob=0.201416015625, logit=14.75, token_id=5885)\n",
      "2025-02-20 12:39:05 __main__ DEBUG    corrupt_rank=4 | base_ans=PredictedToken(token=' blind', prob=0.0550537109375, logit=13.453125, token_id=18507)\n",
      "2025-02-20 12:39:05 __main__ WARNING  Ignoring at_token='last' since token_idx=-2 is provided\n",
      "2025-02-20 12:39:05 __main__ DEBUG    ==================================================\n"
     ]
    },
    {
     "name": "stderr",
     "output_type": "stream",
     "text": [
      "100%|██████████| 32/32 [00:40<00:00,  1.26s/it]"
     ]
    },
    {
     "name": "stdout",
     "output_type": "stream",
     "text": [
      "2025-02-20 12:39:46 __main__ INFO     (8/20)  entities=['Memento', 'Inception']\n"
     ]
    },
    {
     "name": "stderr",
     "output_type": "stream",
     "text": [
      "\n",
      "Setting `pad_token_id` to `eos_token_id`:128001 for open-end generation.\n"
     ]
    },
    {
     "name": "stdout",
     "output_type": "stream",
     "text": [
      "2025-02-20 12:39:47 __main__ INFO     (placeholder, Inception) => movies.\n",
      "2025-02-20 12:39:47 __main__ DEBUG    patch_ans=PredictedToken(token=' directed', prob=0.724609375, logit=18.453125, token_id=15910)\n",
      "2025-02-20 12:39:47 __main__ DEBUG    clean_ans=PredictedToken(token=' movies', prob=0.2861328125, logit=15.4765625, token_id=9698)\n",
      "2025-02-20 12:39:47 __main__ DEBUG    corrupt_rank=2 | base_ans=PredictedToken(token=' directed', prob=0.1722412109375, logit=14.96875, token_id=15910)\n",
      "2025-02-20 12:39:47 __main__ WARNING  Ignoring at_token='last' since token_idx=-2 is provided\n",
      "2025-02-20 12:39:47 __main__ DEBUG    ==================================================\n"
     ]
    },
    {
     "name": "stderr",
     "output_type": "stream",
     "text": [
      "100%|██████████| 32/32 [00:39<00:00,  1.25s/it]"
     ]
    },
    {
     "name": "stdout",
     "output_type": "stream",
     "text": [
      "2025-02-20 12:40:27 __main__ INFO     (9/20)  entities=['Julius Caesar', 'Nepoleon Bonaparte']\n"
     ]
    },
    {
     "name": "stderr",
     "output_type": "stream",
     "text": [
      "\n",
      "Setting `pad_token_id` to `eos_token_id`:128001 for open-end generation.\n"
     ]
    },
    {
     "name": "stdout",
     "output_type": "stream",
     "text": [
      "2025-02-20 12:40:29 __main__ INFO     (placeholder, Nepoleon Bonaparte) => French.\n",
      "2025-02-20 12:40:29 __main__ DEBUG    patch_ans=PredictedToken(token=' military', prob=0.241455078125, logit=17.53125, token_id=6411)\n",
      "2025-02-20 12:40:29 __main__ DEBUG    clean_ans=PredictedToken(token=' French', prob=0.15185546875, logit=15.375, token_id=8753)\n",
      "2025-02-20 12:40:29 __main__ DEBUG    corrupt_rank=2 | base_ans=PredictedToken(token=' military', prob=0.08319091796875, logit=14.7734375, token_id=6411)\n",
      "2025-02-20 12:40:29 __main__ WARNING  Ignoring at_token='last' since token_idx=-2 is provided\n",
      "2025-02-20 12:40:29 __main__ DEBUG    ==================================================\n"
     ]
    },
    {
     "name": "stderr",
     "output_type": "stream",
     "text": [
      "100%|██████████| 32/32 [00:38<00:00,  1.22s/it]"
     ]
    },
    {
     "name": "stdout",
     "output_type": "stream",
     "text": [
      "2025-02-20 12:41:08 __main__ INFO     (10/20)  entities=['The Godfather', 'Goodfellas']\n"
     ]
    },
    {
     "name": "stderr",
     "output_type": "stream",
     "text": [
      "\n",
      "Setting `pad_token_id` to `eos_token_id`:128001 for open-end generation.\n"
     ]
    },
    {
     "name": "stdout",
     "output_type": "stream",
     "text": [
      "2025-02-20 12:41:10 __main__ INFO     (placeholder, Goodfellas) => movies.\n",
      "2025-02-20 12:41:10 __main__ DEBUG    patch_ans=PredictedToken(token=' mob', prob=0.1612548828125, logit=16.96875, token_id=12881)\n",
      "2025-02-20 12:41:10 __main__ DEBUG    clean_ans=PredictedToken(token=' movies', prob=0.23779296875, logit=15.09375, token_id=9698)\n",
      "2025-02-20 12:41:10 __main__ DEBUG    corrupt_rank=6 | base_ans=PredictedToken(token=' mob', prob=0.0228118896484375, logit=12.75, token_id=12881)\n",
      "2025-02-20 12:41:10 __main__ WARNING  Ignoring at_token='last' since token_idx=-2 is provided\n",
      "2025-02-20 12:41:10 __main__ DEBUG    ==================================================\n"
     ]
    },
    {
     "name": "stderr",
     "output_type": "stream",
     "text": [
      "100%|██████████| 32/32 [00:39<00:00,  1.23s/it]"
     ]
    },
    {
     "name": "stdout",
     "output_type": "stream",
     "text": [
      "2025-02-20 12:41:50 __main__ INFO     (11/20)  entities=['The Green Mile', 'The Shawshank Redemption']\n"
     ]
    },
    {
     "name": "stderr",
     "output_type": "stream",
     "text": [
      "\n",
      "Setting `pad_token_id` to `eos_token_id`:128001 for open-end generation.\n"
     ]
    },
    {
     "name": "stdout",
     "output_type": "stream",
     "text": [
      "2025-02-20 12:41:51 __main__ INFO     (placeholder, The Shawshank Redemption) => movies.\n",
      "2025-02-20 12:41:51 __main__ DEBUG    patch_ans=PredictedToken(token=' directed', prob=0.1981201171875, logit=15.9140625, token_id=15910)\n",
      "2025-02-20 12:41:52 __main__ DEBUG    clean_ans=PredictedToken(token=' movies', prob=0.109619140625, logit=14.015625, token_id=9698)\n",
      "2025-02-20 12:41:52 __main__ DEBUG    corrupt_rank=2 | base_ans=PredictedToken(token=' directed', prob=0.0736083984375, logit=13.6171875, token_id=15910)\n",
      "2025-02-20 12:41:52 __main__ WARNING  Ignoring at_token='last' since token_idx=-2 is provided\n",
      "2025-02-20 12:41:52 __main__ DEBUG    ==================================================\n"
     ]
    },
    {
     "name": "stderr",
     "output_type": "stream",
     "text": [
      "100%|██████████| 32/32 [00:40<00:00,  1.27s/it]"
     ]
    },
    {
     "name": "stdout",
     "output_type": "stream",
     "text": [
      "2025-02-20 12:42:32 __main__ INFO     (12/20)  entities=['Christopher Columbus', 'Vasco da Gama']\n"
     ]
    },
    {
     "name": "stderr",
     "output_type": "stream",
     "text": [
      "\n",
      "Setting `pad_token_id` to `eos_token_id`:128001 for open-end generation.\n"
     ]
    },
    {
     "name": "stdout",
     "output_type": "stream",
     "text": [
      "2025-02-20 12:42:34 __main__ INFO     (placeholder, Vasco da Gama) => Portuguese.\n",
      "2025-02-20 12:42:34 __main__ DEBUG    patch_ans=PredictedToken(token=' explor', prob=0.45458984375, logit=18.71875, token_id=48539)\n",
      "2025-02-20 12:42:34 __main__ DEBUG    clean_ans=PredictedToken(token=' Portuguese', prob=0.23095703125, logit=16.015625, token_id=43288)\n",
      "2025-02-20 12:42:34 __main__ DEBUG    corrupt_rank=2 | base_ans=PredictedToken(token=' explor', prob=0.11431884765625, logit=15.3125, token_id=48539)\n",
      "2025-02-20 12:42:34 __main__ WARNING  Ignoring at_token='last' since token_idx=-2 is provided\n",
      "2025-02-20 12:42:34 __main__ DEBUG    ==================================================\n"
     ]
    },
    {
     "name": "stderr",
     "output_type": "stream",
     "text": [
      "100%|██████████| 32/32 [00:39<00:00,  1.25s/it]"
     ]
    },
    {
     "name": "stdout",
     "output_type": "stream",
     "text": [
      "2025-02-20 12:43:14 __main__ INFO     (13/20)  entities=['Elephant', 'Whale']\n"
     ]
    },
    {
     "name": "stderr",
     "output_type": "stream",
     "text": [
      "\n",
      "Setting `pad_token_id` to `eos_token_id`:128001 for open-end generation.\n"
     ]
    },
    {
     "name": "stdout",
     "output_type": "stream",
     "text": [
      "2025-02-20 12:43:16 __main__ INFO     (placeholder, Whale) => animals.\n",
      "2025-02-20 12:43:16 __main__ DEBUG    patch_ans=PredictedToken(token=' mammals', prob=0.310302734375, logit=16.71875, token_id=56669)\n",
      "2025-02-20 12:43:16 __main__ DEBUG    clean_ans=PredictedToken(token=' animals', prob=0.0491943359375, logit=12.1875, token_id=10099)\n",
      "2025-02-20 12:43:16 __main__ DEBUG    corrupt_rank=4 | base_ans=PredictedToken(token=' mammals', prob=0.0280303955078125, logit=11.625, token_id=56669)\n",
      "2025-02-20 12:43:16 __main__ WARNING  Ignoring at_token='last' since token_idx=-2 is provided\n",
      "2025-02-20 12:43:16 __main__ DEBUG    ==================================================\n"
     ]
    },
    {
     "name": "stderr",
     "output_type": "stream",
     "text": [
      "100%|██████████| 32/32 [00:39<00:00,  1.24s/it]"
     ]
    },
    {
     "name": "stdout",
     "output_type": "stream",
     "text": [
      "2025-02-20 12:43:56 __main__ INFO     (14/20)  entities=['Emu', 'Ostrich']\n"
     ]
    },
    {
     "name": "stderr",
     "output_type": "stream",
     "text": [
      "\n",
      "Setting `pad_token_id` to `eos_token_id`:128001 for open-end generation.\n"
     ]
    },
    {
     "name": "stdout",
     "output_type": "stream",
     "text": [
      "2025-02-20 12:43:57 __main__ INFO     (placeholder, Ostrich) => animals.\n",
      "2025-02-20 12:43:57 __main__ DEBUG    patch_ans=PredictedToken(token=' flight', prob=0.406982421875, logit=17.03125, token_id=11213)\n",
      "2025-02-20 12:43:58 __main__ DEBUG    clean_ans=PredictedToken(token=' animals', prob=0.12213134765625, logit=13.4765625, token_id=10099)\n",
      "2025-02-20 12:43:58 __main__ DEBUG    corrupt_rank=293 | base_ans=PredictedToken(token=' flight', prob=0.00034046173095703125, logit=7.59375, token_id=11213)\n",
      "2025-02-20 12:43:58 __main__ WARNING  Ignoring at_token='last' since token_idx=-2 is provided\n",
      "2025-02-20 12:43:58 __main__ DEBUG    ==================================================\n"
     ]
    },
    {
     "name": "stderr",
     "output_type": "stream",
     "text": [
      "100%|██████████| 32/32 [00:40<00:00,  1.27s/it]"
     ]
    },
    {
     "name": "stdout",
     "output_type": "stream",
     "text": [
      "2025-02-20 12:44:38 __main__ INFO     (15/20)  entities=['Brazil', 'Turkey']\n"
     ]
    },
    {
     "name": "stderr",
     "output_type": "stream",
     "text": [
      "\n",
      "Setting `pad_token_id` to `eos_token_id`:128001 for open-end generation.\n"
     ]
    },
    {
     "name": "stdout",
     "output_type": "stream",
     "text": [
      "2025-02-20 12:44:40 __main__ INFO     (placeholder, Turkey) => countries.\n",
      "2025-02-20 12:44:40 __main__ DEBUG    patch_ans=PredictedToken(token=' members', prob=0.22412109375, logit=15.78125, token_id=3697)\n",
      "2025-02-20 12:44:40 __main__ DEBUG    clean_ans=PredictedToken(token=' countries', prob=0.1246337890625, logit=13.796875, token_id=5961)\n",
      "2025-02-20 12:44:40 __main__ DEBUG    corrupt_rank=6 | base_ans=PredictedToken(token=' members', prob=0.033538818359375, logit=12.484375, token_id=3697)\n",
      "2025-02-20 12:44:40 __main__ WARNING  Ignoring at_token='last' since token_idx=-2 is provided\n",
      "2025-02-20 12:44:40 __main__ DEBUG    ==================================================\n"
     ]
    },
    {
     "name": "stderr",
     "output_type": "stream",
     "text": [
      "100%|██████████| 32/32 [00:40<00:00,  1.27s/it]"
     ]
    },
    {
     "name": "stdout",
     "output_type": "stream",
     "text": [
      "2025-02-20 12:45:21 __main__ INFO     (16/20)  entities=['jellyfish', 'lobster']\n"
     ]
    },
    {
     "name": "stderr",
     "output_type": "stream",
     "text": [
      "\n",
      "Setting `pad_token_id` to `eos_token_id`:128001 for open-end generation.\n"
     ]
    },
    {
     "name": "stdout",
     "output_type": "stream",
     "text": [
      "2025-02-20 12:45:22 __main__ INFO     (placeholder, lobster) => used as a placeholder in a text.\n",
      "2025-02-20 12:45:23 __main__ DEBUG    patch_ans=PredictedToken(token=' in', prob=0.201904296875, logit=15.6484375, token_id=304)\n",
      "2025-02-20 12:45:23 __main__ DEBUG    clean_ans=PredictedToken(token=' in', prob=0.030181884765625, logit=11.65625, token_id=304)\n",
      "2025-02-20 12:45:23 __main__ DEBUG    corrupt_rank=1 | base_ans=PredictedToken(token=' in', prob=0.030181884765625, logit=11.65625, token_id=304)\n",
      "2025-02-20 12:45:23 __main__ WARNING  Ignoring at_token='last' since token_idx=-2 is provided\n",
      "2025-02-20 12:45:23 __main__ DEBUG    ==================================================\n"
     ]
    },
    {
     "name": "stderr",
     "output_type": "stream",
     "text": [
      "100%|██████████| 32/32 [00:39<00:00,  1.25s/it]"
     ]
    },
    {
     "name": "stdout",
     "output_type": "stream",
     "text": [
      "2025-02-20 12:46:03 __main__ INFO     (17/20)  entities=['corn', 'wheat']\n"
     ]
    },
    {
     "name": "stderr",
     "output_type": "stream",
     "text": [
      "\n",
      "Setting `pad_token_id` to `eos_token_id`:128001 for open-end generation.\n"
     ]
    },
    {
     "name": "stdout",
     "output_type": "stream",
     "text": [
      "2025-02-20 12:46:04 __main__ INFO     (placeholder, wheat) => used as a placeholder in the English language.\n",
      "2025-02-20 12:46:04 __main__ DEBUG    patch_ans=PredictedToken(token=' staple', prob=0.1856689453125, logit=17.078125, token_id=50056)\n",
      "2025-02-20 12:46:05 __main__ DEBUG    clean_ans=PredictedToken(token=' used', prob=0.09661865234375, logit=13.1875, token_id=1511)\n",
      "2025-02-20 12:46:05 __main__ DEBUG    corrupt_rank=19 | base_ans=PredictedToken(token=' staple', prob=0.00913238525390625, logit=10.828125, token_id=50056)\n",
      "2025-02-20 12:46:05 __main__ WARNING  Ignoring at_token='last' since token_idx=-2 is provided\n",
      "2025-02-20 12:46:05 __main__ DEBUG    ==================================================\n"
     ]
    },
    {
     "name": "stderr",
     "output_type": "stream",
     "text": [
      "100%|██████████| 32/32 [00:41<00:00,  1.30s/it]"
     ]
    },
    {
     "name": "stdout",
     "output_type": "stream",
     "text": [
      "2025-02-20 12:46:46 __main__ INFO     (18/20)  entities=['crocodile', 'shark']\n"
     ]
    },
    {
     "name": "stderr",
     "output_type": "stream",
     "text": [
      "\n",
      "Setting `pad_token_id` to `eos_token_id`:128001 for open-end generation.\n"
     ]
    },
    {
     "name": "stdout",
     "output_type": "stream",
     "text": [
      "2025-02-20 12:46:48 __main__ INFO     (placeholder, shark) => fictional characters.\n",
      "2025-02-20 12:46:48 __main__ DEBUG    patch_ans=PredictedToken(token=' apex', prob=0.1292724609375, logit=15.6875, token_id=72627)\n",
      "2025-02-20 12:46:48 __main__ DEBUG    clean_ans=PredictedToken(token=' fictional', prob=0.07073974609375, logit=12.6796875, token_id=44682)\n",
      "2025-02-20 12:46:48 __main__ DEBUG    corrupt_rank=158 | base_ans=PredictedToken(token=' apex', prob=0.0007619857788085938, logit=8.1484375, token_id=72627)\n",
      "2025-02-20 12:46:48 __main__ WARNING  Ignoring at_token='last' since token_idx=-2 is provided\n",
      "2025-02-20 12:46:48 __main__ DEBUG    ==================================================\n"
     ]
    },
    {
     "name": "stderr",
     "output_type": "stream",
     "text": [
      "100%|██████████| 32/32 [00:40<00:00,  1.27s/it]"
     ]
    },
    {
     "name": "stdout",
     "output_type": "stream",
     "text": [
      "2025-02-20 12:47:29 __main__ INFO     (19/20)  entities=['crab', 'spider']\n"
     ]
    },
    {
     "name": "stderr",
     "output_type": "stream",
     "text": [
      "\n",
      "Setting `pad_token_id` to `eos_token_id`:128001 for open-end generation.\n"
     ]
    },
    {
     "name": "stdout",
     "output_type": "stream",
     "text": [
      "2025-02-20 12:47:30 __main__ INFO     (placeholder, spider) => characters in the Marvel Cinematic Universe.\n",
      "2025-02-20 12:47:31 __main__ DEBUG    patch_ans=PredictedToken(token=' ar', prob=0.4072265625, logit=16.71875, token_id=802)\n",
      "2025-02-20 12:47:31 __main__ DEBUG    clean_ans=PredictedToken(token=' characters', prob=0.045318603515625, logit=12.1484375, token_id=5885)\n",
      "2025-02-20 12:47:31 __main__ DEBUG    corrupt_rank=101 | base_ans=PredictedToken(token=' ar', prob=0.0012454986572265625, logit=8.5546875, token_id=802)\n",
      "2025-02-20 12:47:31 __main__ WARNING  Ignoring at_token='last' since token_idx=-2 is provided\n",
      "2025-02-20 12:47:31 __main__ DEBUG    ==================================================\n"
     ]
    },
    {
     "name": "stderr",
     "output_type": "stream",
     "text": [
      "100%|██████████| 32/32 [00:39<00:00,  1.24s/it]"
     ]
    },
    {
     "name": "stdout",
     "output_type": "stream",
     "text": [
      "2025-02-20 12:48:11 __main__ INFO     (20/20)  entities=['copper', 'gold']\n"
     ]
    },
    {
     "name": "stderr",
     "output_type": "stream",
     "text": [
      "\n",
      "Setting `pad_token_id` to `eos_token_id`:128001 for open-end generation.\n"
     ]
    },
    {
     "name": "stdout",
     "output_type": "stream",
     "text": [
      "2025-02-20 12:48:12 __main__ INFO     (placeholder, gold) => used as a placeholder in the past.\n",
      "2025-02-20 12:48:12 __main__ DEBUG    patch_ans=PredictedToken(token=' used', prob=0.4423828125, logit=18.171875, token_id=1511)\n",
      "2025-02-20 12:48:13 __main__ DEBUG    clean_ans=PredictedToken(token=' used', prob=0.064453125, logit=12.1015625, token_id=1511)\n",
      "2025-02-20 12:48:13 __main__ DEBUG    corrupt_rank=1 | base_ans=PredictedToken(token=' used', prob=0.064453125, logit=12.1015625, token_id=1511)\n",
      "2025-02-20 12:48:13 __main__ WARNING  Ignoring at_token='last' since token_idx=-2 is provided\n",
      "2025-02-20 12:48:13 __main__ DEBUG    ==================================================\n"
     ]
    },
    {
     "name": "stderr",
     "output_type": "stream",
     "text": [
      "100%|██████████| 32/32 [00:40<00:00,  1.27s/it]\n"
     ]
    }
   ],
   "source": [
    "path_blocking_effects = []\n",
    "# at_token = \"subj_last\"\n",
    "# at_token = \"subj_2nd_last\"\n",
    "\n",
    "for idx, c in enumerate(coincidences[\"examples\"]):\n",
    "    entities = c[\"entity_pair\"]\n",
    "    logger.info(f\"({idx + 1}/{len(coincidences['examples'])})  {entities=}\")\n",
    "\n",
    "    common_entity = entities[1]\n",
    "    patch_entity = entities[0]\n",
    "    clean_entity = \"placeholder\"\n",
    "\n",
    "    clean_prompt = prepare_probing_input(\n",
    "        mt=mt,\n",
    "        entities=(clean_entity, common_entity),\n",
    "        prefix=prefix,\n",
    "        answer_marker=answer_marker,\n",
    "        question_marker=question_marker,\n",
    "        block_separator=block_separator,\n",
    "        is_a_reasoning_model=\"deepseek\" in model_key.lower(),\n",
    "        answer_prefix=\" They are/were both\",\n",
    "        return_offsets_mapping=True,\n",
    "    )\n",
    "    clean_answer = get_lm_generated_answer(\n",
    "        mt=mt, prompt=clean_prompt, is_a_reasoning_model=\"deepseek\" in model_key.lower()\n",
    "    )\n",
    "    logger.info(f\"({clean_entity}, {common_entity}) => {clean_answer}\")\n",
    "\n",
    "    patched_prompt = prepare_probing_input(\n",
    "        mt=mt,\n",
    "        entities=(patch_entity, common_entity),\n",
    "        prefix=prefix,\n",
    "        answer_marker=answer_marker,\n",
    "        question_marker=question_marker,\n",
    "        block_separator=block_separator,\n",
    "        is_a_reasoning_model=\"deepseek\" in model_key.lower(),\n",
    "        answer_prefix=\" They are/were both\",\n",
    "        return_offsets_mapping=True,\n",
    "    )\n",
    "\n",
    "    prompt_template = clean_prompt.prompt.replace(clean_entity, \"{}\")\n",
    "\n",
    "    cur_effects = trace_path_ablation_effects(\n",
    "        mt=mt,\n",
    "        prompt_template=prompt_template,\n",
    "        clean_subj=clean_entity,\n",
    "        patched_subj=patch_entity,\n",
    "        # at_token=at_token\n",
    "        token_idx=-2,\n",
    "    )\n",
    "\n",
    "    path_blocking_effects.append(cur_effects)"
   ]
  },
  {
   "cell_type": "code",
   "execution_count": 24,
   "metadata": {},
   "outputs": [
    {
     "data": {
      "image/png": "[encoded data removed]",
      "text/plain": [
       "<Figure size 2000x600 with 1 Axes>"
      ]
     },
     "metadata": {},
     "output_type": "display_data"
    }
   ],
   "source": [
    "import numpy as np\n",
    "\n",
    "\n",
    "def process_path_blocking_results(\n",
    "    path_blocking_effects: list[dict], metric: str = \"prob\"\n",
    "):\n",
    "    h_restored = {l: [] for l in range(mt.n_layer)}\n",
    "    mlp_blocked = {l: [] for l in range(mt.n_layer)}\n",
    "    attn_blocked = {l: [] for l in range(mt.n_layer)}\n",
    "    for effect in path_blocking_effects:\n",
    "        high_bar = getattr(effect[\"patch_ans\"], metric)\n",
    "        low_bar = getattr(effect[\"base_ans\"], metric)\n",
    "        denominator = high_bar - low_bar\n",
    "        for l in range(mt.n_layer):\n",
    "            h_restored[l] = (\n",
    "                getattr(effect[\"patch_blocking_effects\"][l][\"h_restored\"], metric)\n",
    "                - low_bar\n",
    "            ) / denominator\n",
    "            mlp_blocked[l] = (\n",
    "                getattr(effect[\"patch_blocking_effects\"][l][\"mlp_blocked\"], metric)\n",
    "                - low_bar\n",
    "            ) / denominator\n",
    "            attn_blocked[l] = (\n",
    "                getattr(effect[\"patch_blocking_effects\"][l][\"attn_blocked\"], metric)\n",
    "                - low_bar\n",
    "            ) / denominator\n",
    "\n",
    "    return {\n",
    "        l: {\n",
    "            \"h_restored\": np.mean(h_restored[l]),\n",
    "            \"mlp_blocked\": np.mean(mlp_blocked[l]),\n",
    "            \"attn_blocked\": np.mean(attn_blocked[l]),\n",
    "        }\n",
    "        for l in range(mt.n_layer)\n",
    "    }\n",
    "\n",
    "\n",
    "metric = \"logit\"\n",
    "plot_results = process_path_blocking_results(path_blocking_effects, metric)\n",
    "# plot_results = process_path_blocking_results([path_blocking_effects[5]], metric)\n",
    "\n",
    "from matplotlib import pyplot as plt\n",
    "\n",
    "plt.figure(figsize=(20, 6))\n",
    "bar_width = 0.22\n",
    "\n",
    "plt.title(f\"Path Blocking Effects ({metric})\")\n",
    "keys = list(range(mt.n_layer))\n",
    "color_map = {\"h_restored\": \"purple\", \"mlp_blocked\": \"green\", \"attn_blocked\": \"red\"}\n",
    "\n",
    "for idx, kind in enumerate([\"h_restored\", \"mlp_blocked\", \"attn_blocked\"]):\n",
    "    plt.bar(\n",
    "        [k + idx * bar_width for k in keys],\n",
    "        height=[plot_results[k][kind] for k in keys],\n",
    "        width=bar_width,\n",
    "        label=kind,\n",
    "        alpha=0.7,\n",
    "        color=color_map[kind],\n",
    "    )\n",
    "\n",
    "plt.legend(ncol=4, bbox_to_anchor=(0.5, -0.18), loc=\"lower center\", frameon=False)\n",
    "plt.xticks(keys)\n",
    "plt.xlabel(\"Layer Index\")\n",
    "plt.show()"
   ]
  },
  {
   "cell_type": "code",
   "execution_count": null,
   "metadata": {},
   "outputs": [],
   "source": []
  },
  {
   "cell_type": "code",
   "execution_count": null,
   "metadata": {},
   "outputs": [],
   "source": []
  }
 ],
 "metadata": {
  "kernelspec": {
   "display_name": "retrieval",
   "language": "python",
   "name": "python3"
  },
  "language_info": {
   "codemirror_mode": {
    "name": "ipython",
    "version": 3
   },
   "file_extension": ".py",
   "mimetype": "text/x-python",
   "name": "python",
   "nbconvert_exporter": "python",
   "pygments_lexer": "ipython3",
   "version": "3.11.9"
  }
 },
 "nbformat": 4,
 "nbformat_minor": 2
}
