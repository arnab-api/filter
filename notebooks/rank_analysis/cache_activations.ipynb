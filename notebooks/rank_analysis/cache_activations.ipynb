{
 "cells": [
  {
   "cell_type": "code",
   "execution_count": 1,
   "metadata": {},
   "outputs": [],
   "source": [
    "%load_ext autoreload\n",
    "%autoreload 2"
   ]
  },
  {
   "cell_type": "code",
   "execution_count": 2,
   "metadata": {},
   "outputs": [
    {
     "name": "stderr",
     "output_type": "stream",
     "text": [
      "/home/local_arnab/miniconda3/envs/retrieval/lib/python3.11/site-packages/tqdm/auto.py:21: TqdmWarning: IProgress not found. Please update jupyter and ipywidgets. See https://ipywidgets.readthedocs.io/en/stable/user_install.html\n",
      "  from .autonotebook import tqdm as notebook_tqdm\n"
     ]
    },
    {
     "name": "stdout",
     "output_type": "stream",
     "text": [
      "2024-08-15 13:11:54 __main__ INFO     torch.__version__='2.3.1', torch.version.cuda='12.1'\n",
      "2024-08-15 13:11:54 __main__ INFO     torch.cuda.is_available()=True, torch.cuda.device_count()=1, torch.cuda.get_device_name()='NVIDIA RTX A6000'\n",
      "2024-08-15 13:11:54 __main__ INFO     transformers.__version__='4.43.3'\n"
     ]
    }
   ],
   "source": [
    "import os, time, json\n",
    "import pandas as pd\n",
    "from openai import OpenAI\n",
    "from tqdm.auto import tqdm\n",
    "import spacy\n",
    "\n",
    "import sys\n",
    "\n",
    "sys.path.append(\"../../\")\n",
    "import os\n",
    "\n",
    "import logging\n",
    "from src.utils import logging_utils\n",
    "from src.utils import env_utils\n",
    "from src import functional\n",
    "from datasets import load_dataset\n",
    "\n",
    "logger = logging.getLogger(__name__)\n",
    "\n",
    "logging.basicConfig(\n",
    "    level=logging.DEBUG,\n",
    "    format=logging_utils.DEFAULT_FORMAT,\n",
    "    datefmt=logging_utils.DEFAULT_DATEFMT,\n",
    "    stream=sys.stdout,\n",
    ")\n",
    "\n",
    "import torch\n",
    "import transformers\n",
    "\n",
    "logger.info(f\"{torch.__version__=}, {torch.version.cuda=}\")\n",
    "logger.info(\n",
    "    f\"{torch.cuda.is_available()=}, {torch.cuda.device_count()=}, {torch.cuda.get_device_name()=}\"\n",
    ")\n",
    "logger.info(f\"{transformers.__version__=}\")"
   ]
  },
  {
   "cell_type": "code",
   "execution_count": 3,
   "metadata": {},
   "outputs": [
    {
     "name": "stdout",
     "output_type": "stream",
     "text": [
      "2024-08-15 13:11:54 accelerate.utils.modeling INFO     We will use 90% of the memory on device 0 for storing the model, and 10% for the buffer to avoid OOM. You can set `max_memory` in to a higher value to use more memory (at your own risk).\n"
     ]
    },
    {
     "name": "stderr",
     "output_type": "stream",
     "text": [
      "Loading checkpoint shards: 100%|██████████| 4/4 [00:05<00:00,  1.35s/it]"
     ]
    },
    {
     "name": "stdout",
     "output_type": "stream",
     "text": [
      "2024-08-15 13:12:00 src.models INFO     loaded model </home/local_arnab/Codes/00_MODEL/meta-llama/Meta-Llama-3-8B-Instruct> | size: 15316.516 MB | dtype: torch.float16 | device: cuda:0\n"
     ]
    },
    {
     "name": "stderr",
     "output_type": "stream",
     "text": [
      "\n"
     ]
    }
   ],
   "source": [
    "import torch\n",
    "\n",
    "from nnsight import LanguageModel\n",
    "from src.models import ModelandTokenizer\n",
    "\n",
    "# model_key = \"meta-llama/Meta-Llama-3-8B\"\n",
    "model_key = \"meta-llama/Meta-Llama-3-8B-Instruct\"\n",
    "# model_key = \"google/gemma-2-9b-it\"\n",
    "# model_key = \"google/gemma-2-27b-it\"\n",
    "# model_key = \"Qwen/Qwen2-7B\"\n",
    "\n",
    "mt = ModelandTokenizer(\n",
    "    model_key=model_key,\n",
    "    torch_dtype=torch.float16,\n",
    ")"
   ]
  },
  {
   "cell_type": "code",
   "execution_count": 4,
   "metadata": {},
   "outputs": [
    {
     "name": "stdout",
     "output_type": "stream",
     "text": [
      "2024-08-15 13:12:00 urllib3.connectionpool DEBUG    Starting new HTTPS connection (1): huggingface.co:443\n",
      "2024-08-15 13:12:00 urllib3.connectionpool DEBUG    https://huggingface.co:443 \"GET /api/datasets/Salesforce/wikitext HTTP/11\" 200 4982\n",
      "2024-08-15 13:12:00 urllib3.connectionpool DEBUG    Starting new HTTPS connection (1): s3.amazonaws.com:443\n",
      "2024-08-15 13:12:00 urllib3.connectionpool DEBUG    https://s3.amazonaws.com:443 \"HEAD /datasets.huggingface.co/datasets/datasets/Salesforce/wikitext/Salesforce/wikitext.py HTTP/11\" 404 0\n",
      "2024-08-15 13:12:00 urllib3.connectionpool DEBUG    https://huggingface.co:443 \"GET /api/datasets/Salesforce/wikitext HTTP/11\" 200 4982\n",
      "2024-08-15 13:12:00 urllib3.connectionpool DEBUG    Starting new HTTPS connection (1): huggingface.co:443\n",
      "2024-08-15 13:12:00 urllib3.connectionpool DEBUG    https://huggingface.co:443 \"HEAD /datasets/Salesforce/wikitext/resolve/b08601e04326c79dfdd32d625aee71d232d685c3/README.md HTTP/11\" 200 0\n",
      "2024-08-15 13:12:00 urllib3.connectionpool DEBUG    Starting new HTTPS connection (1): huggingface.co:443\n",
      "2024-08-15 13:12:00 urllib3.connectionpool DEBUG    https://huggingface.co:443 \"HEAD /datasets/Salesforce/wikitext/resolve/b08601e04326c79dfdd32d625aee71d232d685c3/.huggingface.yaml HTTP/11\" 404 0\n",
      "2024-08-15 13:12:00 urllib3.connectionpool DEBUG    Starting new HTTPS connection (1): datasets-server.huggingface.co:443\n",
      "2024-08-15 13:12:00 urllib3.connectionpool DEBUG    https://datasets-server.huggingface.co:443 \"GET /info?dataset=Salesforce/wikitext HTTP/11\" 200 None\n",
      "2024-08-15 13:12:00 urllib3.connectionpool DEBUG    https://huggingface.co:443 \"GET /api/datasets/Salesforce/wikitext/revision/b08601e04326c79dfdd32d625aee71d232d685c3 HTTP/11\" 200 4982\n",
      "2024-08-15 13:12:00 urllib3.connectionpool DEBUG    https://huggingface.co:443 \"GET /api/datasets/Salesforce/wikitext/tree/b08601e04326c79dfdd32d625aee71d232d685c3?recursive=False&expand=False HTTP/11\" 200 619\n",
      "2024-08-15 13:12:00 urllib3.connectionpool DEBUG    https://huggingface.co:443 \"POST /api/datasets/Salesforce/wikitext/paths-info/b08601e04326c79dfdd32d625aee71d232d685c3 HTTP/11\" 200 250\n",
      "2024-08-15 13:12:00 urllib3.connectionpool DEBUG    https://huggingface.co:443 \"GET /api/datasets/Salesforce/wikitext/tree/b08601e04326c79dfdd32d625aee71d232d685c3/wikitext-103-raw-v1?recursive=False&expand=False HTTP/11\" 200 1017\n",
      "2024-08-15 13:12:00 urllib3.connectionpool DEBUG    Starting new HTTPS connection (1): huggingface.co:443\n",
      "2024-08-15 13:12:01 urllib3.connectionpool DEBUG    https://huggingface.co:443 \"GET /api/datasets/Salesforce/wikitext/revision/b08601e04326c79dfdd32d625aee71d232d685c3 HTTP/11\" 200 4982\n",
      "2024-08-15 13:12:01 urllib3.connectionpool DEBUG    https://huggingface.co:443 \"POST /api/datasets/Salesforce/wikitext/paths-info/b08601e04326c79dfdd32d625aee71d232d685c3 HTTP/11\" 200 250\n",
      "2024-08-15 13:12:01 urllib3.connectionpool DEBUG    https://huggingface.co:443 \"POST /api/datasets/Salesforce/wikitext/paths-info/b08601e04326c79dfdd32d625aee71d232d685c3 HTTP/11\" 200 250\n",
      "2024-08-15 13:12:01 urllib3.connectionpool DEBUG    Starting new HTTPS connection (1): huggingface.co:443\n",
      "2024-08-15 13:12:01 urllib3.connectionpool DEBUG    https://huggingface.co:443 \"HEAD /datasets/Salesforce/wikitext/resolve/b08601e04326c79dfdd32d625aee71d232d685c3/dataset_infos.json HTTP/11\" 404 0\n",
      "2024-08-15 13:12:01 urllib3.connectionpool DEBUG    https://huggingface.co:443 \"POST /api/datasets/Salesforce/wikitext/paths-info/b08601e04326c79dfdd32d625aee71d232d685c3 HTTP/11\" 200 246\n",
      "2024-08-15 13:12:01 urllib3.connectionpool DEBUG    https://huggingface.co:443 \"GET /api/datasets/Salesforce/wikitext/tree/b08601e04326c79dfdd32d625aee71d232d685c3/wikitext-103-v1?recursive=False&expand=False HTTP/11\" 200 1001\n",
      "2024-08-15 13:12:01 urllib3.connectionpool DEBUG    https://huggingface.co:443 \"POST /api/datasets/Salesforce/wikitext/paths-info/b08601e04326c79dfdd32d625aee71d232d685c3 HTTP/11\" 200 246\n",
      "2024-08-15 13:12:01 urllib3.connectionpool DEBUG    https://huggingface.co:443 \"POST /api/datasets/Salesforce/wikitext/paths-info/b08601e04326c79dfdd32d625aee71d232d685c3 HTTP/11\" 200 246\n",
      "2024-08-15 13:12:01 filelock DEBUG    Attempting to acquire lock 140186932811024 on /home/local_arnab/.cache/huggingface/datasets/_home_local_arnab_.cache_huggingface_datasets_Salesforce___wikitext_wikitext-103-v1_0.0.0_b08601e04326c79dfdd32d625aee71d232d685c3.lock\n",
      "2024-08-15 13:12:01 filelock DEBUG    Lock 140186932811024 acquired on /home/local_arnab/.cache/huggingface/datasets/_home_local_arnab_.cache_huggingface_datasets_Salesforce___wikitext_wikitext-103-v1_0.0.0_b08601e04326c79dfdd32d625aee71d232d685c3.lock\n",
      "2024-08-15 13:12:01 fsspec.local DEBUG    open file: /home/local_arnab/.cache/huggingface/datasets/Salesforce___wikitext/wikitext-103-v1/0.0.0/b08601e04326c79dfdd32d625aee71d232d685c3/dataset_info.json\n",
      "2024-08-15 13:12:01 filelock DEBUG    Attempting to release lock 140186932811024 on /home/local_arnab/.cache/huggingface/datasets/_home_local_arnab_.cache_huggingface_datasets_Salesforce___wikitext_wikitext-103-v1_0.0.0_b08601e04326c79dfdd32d625aee71d232d685c3.lock\n",
      "2024-08-15 13:12:01 filelock DEBUG    Lock 140186932811024 released on /home/local_arnab/.cache/huggingface/datasets/_home_local_arnab_.cache_huggingface_datasets_Salesforce___wikitext_wikitext-103-v1_0.0.0_b08601e04326c79dfdd32d625aee71d232d685c3.lock\n",
      "2024-08-15 13:12:01 filelock DEBUG    Attempting to acquire lock 140187011539408 on /home/local_arnab/.cache/huggingface/datasets/Salesforce___wikitext/wikitext-103-v1/0.0.0/b08601e04326c79dfdd32d625aee71d232d685c3_builder.lock\n",
      "2024-08-15 13:12:01 filelock DEBUG    Lock 140187011539408 acquired on /home/local_arnab/.cache/huggingface/datasets/Salesforce___wikitext/wikitext-103-v1/0.0.0/b08601e04326c79dfdd32d625aee71d232d685c3_builder.lock\n",
      "2024-08-15 13:12:01 fsspec.local DEBUG    open file: /home/local_arnab/.cache/huggingface/datasets/Salesforce___wikitext/wikitext-103-v1/0.0.0/b08601e04326c79dfdd32d625aee71d232d685c3/dataset_info.json\n",
      "2024-08-15 13:12:01 filelock DEBUG    Attempting to release lock 140187011539408 on /home/local_arnab/.cache/huggingface/datasets/Salesforce___wikitext/wikitext-103-v1/0.0.0/b08601e04326c79dfdd32d625aee71d232d685c3_builder.lock\n",
      "2024-08-15 13:12:01 filelock DEBUG    Lock 140187011539408 released on /home/local_arnab/.cache/huggingface/datasets/Salesforce___wikitext/wikitext-103-v1/0.0.0/b08601e04326c79dfdd32d625aee71d232d685c3_builder.lock\n"
     ]
    }
   ],
   "source": [
    "ds = load_dataset(\"Salesforce/wikitext\", \"wikitext-103-v1\")"
   ]
  },
  {
   "cell_type": "code",
   "execution_count": 5,
   "metadata": {},
   "outputs": [
    {
     "name": "stdout",
     "output_type": "stream",
     "text": [
      "2024-08-15 13:12:01 src.utils.experiment_utils INFO     setting all seeds to 321\n"
     ]
    }
   ],
   "source": [
    "import numpy as np\n",
    "from src.utils import experiment_utils\n",
    "\n",
    "experiment_utils.set_seed(321)\n",
    "\n",
    "num_docs = 300\n",
    "doc_indices = np.random.choice(len(ds[\"train\"]), num_docs, replace=False)"
   ]
  },
  {
   "cell_type": "code",
   "execution_count": 6,
   "metadata": {},
   "outputs": [
    {
     "name": "stderr",
     "output_type": "stream",
     "text": [
      "  0%|          | 0/300 [00:00<?, ?it/s]You're using a PreTrainedTokenizerFast tokenizer. Please note that with a fast tokenizer, using the `__call__` method is faster than using a method to encode the text followed by a call to the `pad` method to get a padded encoding.\n",
      "We detected that you are passing `past_key_values` as a tuple and this is deprecated and will be removed in v4.43. Please use an appropriate `Cache` class (https://huggingface.co/docs/transformers/v4.41.3/en/internal/generation_utils#transformers.Cache)\n",
      "100%|██████████| 300/300 [19:19<00:00,  3.86s/it]\n"
     ]
    }
   ],
   "source": [
    "cache_dir = os.path.join(\n",
    "    env_utils.DEFAULT_RESULTS_DIR,\n",
    "    \"cache_states\",\n",
    ")\n",
    "\n",
    "os.makedirs(cache_dir, exist_ok=True)\n",
    "\n",
    "from src.models import prepare_input\n",
    "from src.functional import get_module_nnsight, free_gpu_cache\n",
    "\n",
    "limit = 1000\n",
    "for doc_index in tqdm(doc_indices):\n",
    "    doc = ds[\"train\"][int(doc_index)][\"text\"]\n",
    "    inputs = prepare_input(prompts=doc, tokenizer=mt)\n",
    "    if inputs[\"input_ids\"].shape[1] > limit:\n",
    "        inputs[\"input_ids\"] = inputs[\"input_ids\"][:, :limit]\n",
    "        inputs[\"attention_mask\"] = inputs[\"attention_mask\"][:, :limit]\n",
    "\n",
    "    doc_cache: dict[int, torch.Tensor] = {}\n",
    "\n",
    "    with mt.trace(inputs, scan=False, validate=False) as trace:\n",
    "        for layer in mt.layer_names:\n",
    "            module = get_module_nnsight(mt, layer)\n",
    "            doc_cache[layer] = module.output[0].save()\n",
    "\n",
    "    for layer in mt.layer_names:\n",
    "        doc_cache[layer] = doc_cache[layer].detach().cpu().numpy().astype(np.float32)\n",
    "\n",
    "    cache_path = os.path.join(cache_dir, f\"{doc_index}\")\n",
    "    np.savez_compressed(cache_path, **doc_cache)\n",
    "\n",
    "    free_gpu_cache()"
   ]
  },
  {
   "cell_type": "code",
   "execution_count": 7,
   "metadata": {},
   "outputs": [],
   "source": [
    "# file = np.load(cache_path + \".npz\")"
   ]
  },
  {
   "cell_type": "code",
   "execution_count": 8,
   "metadata": {},
   "outputs": [],
   "source": [
    "# file[\"model.layers.0\"]"
   ]
  },
  {
   "cell_type": "code",
   "execution_count": null,
   "metadata": {},
   "outputs": [],
   "source": []
  }
 ],
 "metadata": {
  "kernelspec": {
   "display_name": "retrieval",
   "language": "python",
   "name": "python3"
  },
  "language_info": {
   "codemirror_mode": {
    "name": "ipython",
    "version": 3
   },
   "file_extension": ".py",
   "mimetype": "text/x-python",
   "name": "python",
   "nbconvert_exporter": "python",
   "pygments_lexer": "ipython3",
   "version": "3.11.9"
  }
 },
 "nbformat": 4,
 "nbformat_minor": 2
}
