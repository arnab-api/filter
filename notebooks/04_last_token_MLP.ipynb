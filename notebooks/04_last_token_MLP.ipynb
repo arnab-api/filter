{
 "cells": [
  {
   "cell_type": "code",
   "execution_count": 1,
   "metadata": {},
   "outputs": [],
   "source": [
    "%load_ext autoreload\n",
    "%autoreload 2"
   ]
  },
  {
   "cell_type": "code",
   "execution_count": 2,
   "metadata": {},
   "outputs": [
    {
     "name": "stderr",
     "output_type": "stream",
     "text": [
      "/home/local_arnab/miniconda3/envs/retrieval/lib/python3.11/site-packages/tqdm/auto.py:21: TqdmWarning: IProgress not found. Please update jupyter and ipywidgets. See https://ipywidgets.readthedocs.io/en/stable/user_install.html\n",
      "  from .autonotebook import tqdm as notebook_tqdm\n"
     ]
    },
    {
     "name": "stdout",
     "output_type": "stream",
     "text": [
      "2025-03-12 17:07:51 __main__ INFO     torch.__version__='2.5.0+cu124', torch.version.cuda='12.4'\n",
      "2025-03-12 17:07:51 __main__ INFO     torch.cuda.is_available()=True, torch.cuda.device_count()=1, torch.cuda.get_device_name()='NVIDIA RTX A6000'\n",
      "2025-03-12 17:07:51 __main__ INFO     transformers.__version__='4.48.1'\n"
     ]
    }
   ],
   "source": [
    "import os, time, json\n",
    "import pandas as pd\n",
    "from openai import OpenAI\n",
    "from tqdm.auto import tqdm\n",
    "import spacy\n",
    "\n",
    "import sys\n",
    "sys.path.append(\"../\")\n",
    "import os\n",
    "\n",
    "import logging\n",
    "from src.utils import logging_utils\n",
    "from src.utils import env_utils\n",
    "from src import functional\n",
    "\n",
    "logger = logging.getLogger(__name__)\n",
    "\n",
    "logging.basicConfig(\n",
    "    level=logging.DEBUG,\n",
    "    format=logging_utils.DEFAULT_FORMAT,\n",
    "    datefmt=logging_utils.DEFAULT_DATEFMT,\n",
    "    stream=sys.stdout,\n",
    ")\n",
    "\n",
    "import torch\n",
    "import transformers\n",
    "\n",
    "logger.info(f\"{torch.__version__=}, {torch.version.cuda=}\")\n",
    "logger.info(f\"{torch.cuda.is_available()=}, {torch.cuda.device_count()=}, {torch.cuda.get_device_name()=}\")\n",
    "logger.info(f\"{transformers.__version__=}\")"
   ]
  },
  {
   "cell_type": "code",
   "execution_count": 3,
   "metadata": {},
   "outputs": [
    {
     "data": {
      "text/plain": [
       "['Llama-3.1-8B',\n",
       " 'Llama-3.1-8B-Instruct',\n",
       " 'Llama-2-7b-chat-hf',\n",
       " 'Llama-3.2-3B-Instruct',\n",
       " 'Llama-3.2-3B',\n",
       " 'Llama-3.2-1B']"
      ]
     },
     "execution_count": 3,
     "metadata": {},
     "output_type": "execute_result"
    }
   ],
   "source": [
    "os.listdir(os.path.join(env_utils.DEFAULT_MODELS_DIR, \"meta-llama\"))"
   ]
  },
  {
   "cell_type": "code",
   "execution_count": 4,
   "metadata": {},
   "outputs": [
    {
     "name": "stdout",
     "output_type": "stream",
     "text": [
      "2025-03-12 17:07:53 accelerate.utils.modeling INFO     We will use 90% of the memory on device 0 for storing the model, and 10% for the buffer to avoid OOM. You can set `max_memory` in to a higher value to use more memory (at your own risk).\n"
     ]
    },
    {
     "name": "stderr",
     "output_type": "stream",
     "text": [
      "Loading checkpoint shards: 100%|██████████| 4/4 [00:05<00:00,  1.40s/it]"
     ]
    },
    {
     "name": "stdout",
     "output_type": "stream",
     "text": [
      "2025-03-12 17:07:58 src.models INFO     loaded model </home/local_arnab/Codes/00_MODEL/meta-llama/Llama-3.1-8B> | size: 15316.508 MB | dtype: torch.float16 | device: cuda:0\n"
     ]
    },
    {
     "name": "stderr",
     "output_type": "stream",
     "text": [
      "\n"
     ]
    }
   ],
   "source": [
    "import torch\n",
    "\n",
    "from nnsight import LanguageModel\n",
    "from src.models import ModelandTokenizer\n",
    "\n",
    "model_key = \"meta-llama/Llama-3.1-8B\"\n",
    "# model_key = \"meta-llama/Llama-3.2-3B\"\n",
    "# model_key = \"google/gemma-2-9b-it\"\n",
    "# model_key = \"google/gemma-2-27b-it\"\n",
    "# model_key = \"Qwen/Qwen2-7B\"\n",
    "# model_key = \"deepseek-ai/DeepSeek-R1-Distill-Llama-8B\"\n",
    "# model_key = \"allenai/OLMo-2-1124-7B-Instruct\"\n",
    "# model_key = \"allenai/OLMo-7B-0424-hf\"\n",
    "\n",
    "mt = ModelandTokenizer(\n",
    "    model_key=model_key,\n",
    "    torch_dtype=torch.float16,\n",
    ")"
   ]
  },
  {
   "cell_type": "code",
   "execution_count": 5,
   "metadata": {},
   "outputs": [
    {
     "name": "stdout",
     "output_type": "stream",
     "text": [
      "2025-03-12 17:07:58 __main__ INFO     len(coincidences['examples'])=20\n",
      "0 => ['Germany', 'Japan']\n",
      "1 => ['Hugh Jackman', 'Ryan Reynolds']\n",
      "2 => ['Bhutan', 'Tuvalu']\n",
      "3 => ['Vatican City', 'Mount Athos']\n",
      "4 => ['Rosetta Stone', 'Dead Sea Scrolls']\n",
      "5 => ['Leonardo da Vinci', 'Benjamin Franklin']\n",
      "6 => ['Daredevil', 'Toph Beifong']\n",
      "7 => ['Memento', 'Inception']\n",
      "8 => ['Julius Caesar', 'Nepoleon Bonaparte']\n",
      "9 => ['The Godfather', 'Goodfellas']\n",
      "10 => ['The Green Mile', 'The Shawshank Redemption']\n",
      "11 => ['Christopher Columbus', 'Vasco da Gama']\n",
      "12 => ['Elephant', 'Whale']\n",
      "13 => ['Emu', 'Ostrich']\n",
      "14 => ['Brazil', 'Turkey']\n",
      "15 => ['jellyfish', 'lobster']\n",
      "16 => ['corn', 'wheat']\n",
      "17 => ['crocodile', 'shark']\n",
      "18 => ['crab', 'spider']\n",
      "19 => ['copper', 'gold']\n"
     ]
    }
   ],
   "source": [
    "with open(os.path.join(env_utils.DEFAULT_DATA_DIR, \"coincidences_sample.json\")) as f:\n",
    "    coincidences = json.load(f)\n",
    "\n",
    "logger.info(f\"{len(coincidences['examples'])=}\")\n",
    "\n",
    "for idx, entities in enumerate(coincidences[\"examples\"]):\n",
    "    print(f\"{idx} => {entities['entity_pair']}\")"
   ]
  },
  {
   "cell_type": "code",
   "execution_count": 6,
   "metadata": {},
   "outputs": [
    {
     "name": "stdout",
     "output_type": "stream",
     "text": [
      "2025-03-12 17:07:59 __main__ INFO     len(coincidences['examples'])=20\n"
     ]
    },
    {
     "name": "stderr",
     "output_type": "stream",
     "text": [
      "/home/local_arnab/miniconda3/envs/retrieval/lib/python3.11/site-packages/transformers/generation/configuration_utils.py:628: UserWarning: `do_sample` is set to `False`. However, `temperature` is set to `0.6` -- this flag is only used in sample-based generation modes. You should set `do_sample=True` or unset `temperature`.\n",
      "  warnings.warn(\n",
      "/home/local_arnab/miniconda3/envs/retrieval/lib/python3.11/site-packages/transformers/generation/configuration_utils.py:633: UserWarning: `do_sample` is set to `False`. However, `top_p` is set to `0.9` -- this flag is only used in sample-based generation modes. You should set `do_sample=True` or unset `top_p`.\n",
      "  warnings.warn(\n",
      "Setting `pad_token_id` to `eos_token_id`:128001 for open-end generation.\n"
     ]
    },
    {
     "name": "stdout",
     "output_type": "stream",
     "text": [
      "['crocodile', 'shark']\n",
      "<|begin_of_text|>Given two entities, find a common link or relation between them.\n",
      "If both entities are individuals, the common link can be their profession, nationality, or any other attribute they share. Their relation can be if someone is the student/teacher of the other etc.\n",
      "Similarly, if the entities are places, the common link can be the city, country, or any other attribute they share. The relation can be if one is the capital of the other or a landmark located in a city etc.\n",
      "If there is no connection just answer \"None\".\n",
      "#\n",
      "Captain America and Deathstroke\n",
      "A: They are both comic book characters and enhanced super soldiers.\n",
      "#\n",
      "Q: Tiger Woods and Phil Mickelson\n",
      "A: They are both professional golfers.\n",
      "#\n",
      "Q: Rome and Italy\n",
      "A: Rome is the capital city of Italy.\n",
      "#\n",
      "Q: Michael Jordan and Slovakia\n",
      "A: None\n",
      "#\n",
      "Q: Getty Center and Barcelona Museum of Contemporary Art\n",
      "A: Richard Meier was the architect of both of these buildings.\n",
      "#\n",
      "Q: crocodile and shark\n",
      "A: They are/were both\n"
     ]
    },
    {
     "name": "stderr",
     "output_type": "stream",
     "text": [
      "From v4.47 onwards, when a model cache is to be returned, `generate` will return a `Cache` instance instead by default (as opposed to the legacy tuple of tuples format). If you want to keep returning the legacy format, please set `return_legacy_cache=True`.\n"
     ]
    },
    {
     "name": "stdout",
     "output_type": "stream",
     "text": [
      "answer='apex predators.'\n"
     ]
    }
   ],
   "source": [
    "from src.probing.utils import (\n",
    "    ProbingPrompt,\n",
    "    ProbingLatents,\n",
    "    prepare_probing_input,\n",
    "    get_lm_generated_answer,\n",
    "    check_if_answer_is_correct,\n",
    ")\n",
    "\n",
    "Instructions = f\"\"\"Given two entities, find a common link or relation between them.\n",
    "If both entities are individuals, the common link can be their profession, nationality, or any other attribute they share. Their relation can be if someone is the student/teacher of the other etc.\n",
    "Similarly, if the entities are places, the common link can be the city, country, or any other attribute they share. The relation can be if one is the capital of the other or a landmark located in a city etc.\n",
    "If there is no connection just answer \"None\".\"\"\"\n",
    "\n",
    "# Instructions = f\"\"\"Given two entities, find a common link or relation between them. If there is no connection just answer \"None\".\"\"\"\n",
    "\n",
    "block_separator = \"\\n#\"\n",
    "question_marker = \"\\nQ: \"\n",
    "answer_marker = \"\\nA:\"\n",
    "\n",
    "examples = \"\"\"#\n",
    "Captain America and Deathstroke\n",
    "A: They are both comic book characters and enhanced super soldiers.\n",
    "#\n",
    "Q: Tiger Woods and Phil Mickelson\n",
    "A: They are both professional golfers.\n",
    "#\n",
    "Q: Rome and Italy\n",
    "A: Rome is the capital city of Italy.\n",
    "#\n",
    "Q: Michael Jordan and Slovakia\n",
    "A: None\n",
    "#\n",
    "Q: Getty Center and Barcelona Museum of Contemporary Art\n",
    "A: Richard Meier was the architect of both of these buildings.\n",
    "\"\"\"\n",
    "\n",
    "with open(os.path.join(env_utils.DEFAULT_DATA_DIR, \"coincidences_sample.json\")) as f:\n",
    "    coincidences = json.load(f)\n",
    "\n",
    "logger.info(f\"{len(coincidences['examples'])=}\")\n",
    "\n",
    "\n",
    "# entities = coincidences[\"examples\"][0][\"entity_pair\"]\n",
    "# entities = (\"Whale\", \"Dolphin\")\n",
    "# entities = (\"Nautilus\", \"Dolphin\")\n",
    "# entities = (\"Abraham Lincoln\", \"John F. Kennedy\")\n",
    "# entities = (\"Brad Pitt\", \"Angelina Jolie\")\n",
    "# entities = (\"Emu\", \"Ostrich\")\n",
    "# entities = (\"Elephant\", \"Whale\")\n",
    "# entities = (\"Wolverine\", \"Penguin\")\n",
    "# entities = (\"Giraffe\", \"Reindeer\")\n",
    "# entities = (\"crocodile\", \"shark\")\n",
    "# entities = (\"large\", \"silent\")\n",
    "\n",
    "entities = coincidences[\"examples\"][17][\"entity_pair\"]\n",
    "\n",
    "print(entities)\n",
    "\n",
    "prefix = f\"\"\"{Instructions}\n",
    "{examples}\n",
    "\"\"\"\n",
    "\n",
    "prompt = prepare_probing_input(\n",
    "    mt=mt,\n",
    "    entities=entities,\n",
    "    prefix=prefix,\n",
    "    answer_marker=answer_marker,\n",
    "    question_marker=question_marker,\n",
    "    block_separator=block_separator,\n",
    "    is_a_reasoning_model=\"deepseek\" in model_key.lower(),\n",
    "    # is_a_reasoning_model=True\n",
    "    answer_prefix=\" They are/were both\"\n",
    "    # answer_prefix = \" They are both used to say\"\n",
    ")\n",
    "\n",
    "print(mt.tokenizer.decode(prompt.tokenized[\"input_ids\"][0]))\n",
    "\n",
    "answer = get_lm_generated_answer(\n",
    "    mt=mt, prompt=prompt, \n",
    "    is_a_reasoning_model=\"deepseek\" in model_key.lower()\n",
    "    # is_a_reasoning_model=True\n",
    ")\n",
    "print(f\"{answer=}\")"
   ]
  },
  {
   "cell_type": "code",
   "execution_count": 7,
   "metadata": {},
   "outputs": [],
   "source": [
    "# from src.functional import generate_with_patch\n",
    "\n",
    "\n",
    "# answers = generate_with_patch(\n",
    "#     mt = mt,\n",
    "#     # inputs = \"Henry likes yellow trucks. Henry's father, Eric works as a\"\n",
    "#     inputs = \"Henry's father, Eric works as a\"\n",
    "\n",
    "# )\n",
    "# answers"
   ]
  },
  {
   "cell_type": "code",
   "execution_count": 8,
   "metadata": {},
   "outputs": [],
   "source": [
    "import types\n",
    "from tqdm.auto import tqdm\n",
    "from typing import Literal\n",
    "from src.utils.typing import TokenizerOutput\n",
    "from src.functional import predict_next_token, get_module_nnsight, interpret_logits, generate_with_patch\n",
    "from src.hooking.llama_attention import AttentionEdge, LlamaAttentionPatcher\n",
    "import baukit\n",
    "from src.utils.typing import PredictedToken\n",
    "from src.functional import PatchSpec\n",
    "\n",
    "def get_edges_to_be_ablated(\n",
    "    prompt: ProbingPrompt,\n",
    "    focus_strategy: Literal[\"entities\", \"entities_last\", \"ablate_all\"] = \"ablate_all\",\n",
    "    Q_IDX: int = -1, # almost always the last token position\n",
    "    whitelist_key_indices: list[int] = [0, -1]\n",
    "):\n",
    "    for idx, ti in enumerate(whitelist_key_indices):\n",
    "        if ti < 0:\n",
    "            whitelist_key_indices[idx] = prompt.tokenized[\"input_ids\"][0].shape[-1] + ti\n",
    "    \n",
    "    if focus_strategy == \"entities\":\n",
    "        whitelist_key_indices += list(range(*prompt.entity_ranges[0])) + list(range(*prompt.entity_ranges[1]))\n",
    "    elif focus_strategy == \"entities_last\":\n",
    "        whitelist_key_indices += [prompt.entity_ranges[0][1] - 1, prompt.entity_ranges[1][1] - 1]\n",
    "    elif focus_strategy == \"ablate_all\":\n",
    "        pass\n",
    "    else:\n",
    "        raise ValueError(f\"{focus_strategy=}\")\n",
    "    \n",
    "    whitelist_key_indices = list(set(whitelist_key_indices))\n",
    "    if Q_IDX < 0:\n",
    "        Q_IDX = prompt.tokenized[\"input_ids\"][0].shape[-1] + Q_IDX\n",
    "    \n",
    "    block_edges: list[AttentionEdge] = []\n",
    "    for k_idx in range(1, prompt.tokenized[\"input_ids\"][0].shape[-1]):\n",
    "        if k_idx in whitelist_key_indices:\n",
    "            continue\n",
    "        block_edges.append(\n",
    "            AttentionEdge(\n",
    "                q_idx=Q_IDX,\n",
    "                k_idx=k_idx,\n",
    "            )\n",
    "        )\n",
    "    \n",
    "    return block_edges\n",
    "\n",
    "\n",
    "@torch.inference_mode()\n",
    "def ablate_attn_window(\n",
    "    mt: ModelandTokenizer,\n",
    "    prompt: ProbingPrompt,\n",
    "    clean_answer: PredictedToken,\n",
    "    block_edges: list[AttentionEdge],\n",
    "    layer_window: list[int],\n",
    "    patches: list[PatchSpec] = [],\n",
    "    debug_full_answer = False,\n",
    "    **kwargs\n",
    "):\n",
    "    \n",
    "    inputs = TokenizerOutput(data = prompt.tokenized)\n",
    "    mt.reset_forward()\n",
    "\n",
    "    ablate_all_heads_per_layer = {\n",
    "        h_idx: block_edges for h_idx in range(mt.config.num_attention_heads)\n",
    "    }\n",
    "\n",
    "    for layer_idx in layer_window:\n",
    "        attn_block_name = mt.attn_module_name_format.format(layer_idx)\n",
    "        attn_block = baukit.get_module(mt._model, attn_block_name)\n",
    "        attn_block.forward = types.MethodType(\n",
    "            LlamaAttentionPatcher(\n",
    "                block_name=attn_block_name,\n",
    "                cut_attn_edges=ablate_all_heads_per_layer\n",
    "            ),\n",
    "            attn_block\n",
    "        )\n",
    "\n",
    "    if debug_full_answer:\n",
    "        answer = generate_with_patch(\n",
    "            mt = mt,\n",
    "            inputs = inputs,\n",
    "            n_gen_per_prompt=1,\n",
    "            do_sample = False,\n",
    "            use_cache = False,\n",
    "            patches = patches,\n",
    "            remove_prefix=True,\n",
    "            patch_strategy=\"replace\",\n",
    "            patch_at_all_generations=False, # don't need to\n",
    "        )\n",
    "        print(f\"\\\"{answer[0]}\\\"\")\n",
    "\n",
    "    ablated_pred, track_ans = predict_next_token(\n",
    "        mt=mt, \n",
    "        inputs=inputs,\n",
    "        patches=patches,\n",
    "        token_of_interest=[clean_answer.token_id],\n",
    "        **kwargs\n",
    "    )\n",
    "\n",
    "    mt.reset_forward()\n",
    "\n",
    "    return ablated_pred, track_ans"
   ]
  },
  {
   "cell_type": "code",
   "execution_count": 9,
   "metadata": {},
   "outputs": [
    {
     "name": "stderr",
     "output_type": "stream",
     "text": [
      "  0%|          | 0/1200 [00:00<?, ?it/s]"
     ]
    },
    {
     "name": "stderr",
     "output_type": "stream",
     "text": [
      "100%|██████████| 1200/1200 [00:08<00:00, 139.17it/s]\n"
     ]
    }
   ],
   "source": [
    "states_cache_dir = os.path.join(\n",
    "    env_utils.DEFAULT_RESULTS_DIR,\n",
    "    \"cache_states/mean\",\n",
    "    mt.name.split(\"/\")[-1],\n",
    "    \"wikipedia\"\n",
    ")\n",
    "\n",
    "import numpy as np\n",
    "from src.functional import free_gpu_cache\n",
    "\n",
    "def load_mean_states(limit = None):\n",
    "    mean_states = {}\n",
    "    total_tokens = 0\n",
    "    files = os.listdir(states_cache_dir)\n",
    "    if limit is not None:\n",
    "        files = files[:limit]\n",
    "    for doc_cache in tqdm(files):\n",
    "        npz_file = np.load(os.path.join(states_cache_dir, doc_cache), allow_pickle=True)\n",
    "        input_ids = npz_file[\"input_ids\"]\n",
    "        token_count = input_ids.shape[1]\n",
    "        outputs = npz_file[\"outputs\"].item()\n",
    "        for key, value in outputs.items():\n",
    "            if key not in mean_states:\n",
    "                mean_states[key] = value * token_count\n",
    "            else:\n",
    "                mean_states[key] += value * token_count\n",
    "        total_tokens += token_count\n",
    "    \n",
    "    for key in mean_states.keys():\n",
    "        mean_states[key] = torch.Tensor(mean_states[key]).squeeze() / total_tokens\n",
    "    \n",
    "    free_gpu_cache()\n",
    "    return mean_states\n",
    "\n",
    "# npz_file = np.load(os.path.join(states_cache_dir, \"0.npz\"), allow_pickle=True)\n",
    "# npz_file.files\n",
    "\n",
    "# outputs = npz_file[\"outputs\"].item()\n",
    "\n",
    "mean_states = load_mean_states(limit = 1200)"
   ]
  },
  {
   "cell_type": "code",
   "execution_count": 10,
   "metadata": {},
   "outputs": [],
   "source": [
    "free_gpu_cache()\n",
    "mt.reset_forward()"
   ]
  },
  {
   "cell_type": "code",
   "execution_count": 11,
   "metadata": {},
   "outputs": [],
   "source": [
    "from src.functional import PatchSpec, generate_with_patch\n",
    "\n",
    "def ablate_MLP_window(\n",
    "    mt: ModelandTokenizer,\n",
    "    prompt: ProbingPrompt,\n",
    "    clean_answer: PredictedToken,\n",
    "    layer_window: list[int],\n",
    "    debug_full_answer = False,\n",
    "    ablate_strategy: Literal[\"zero\", \"mean\"] = \"zero\",\n",
    "    **kwargs\n",
    "):\n",
    "    inputs = TokenizerOutput(data = prompt.tokenized)\n",
    "    patch_spec: list[PatchSpec] = []\n",
    "    for layer in layer_window:\n",
    "        if ablate_strategy == \"zero\":\n",
    "            patch_vec = torch.zeros(mt.n_embd)\n",
    "        elif ablate_strategy == \"mean\":\n",
    "            patch_vec = mean_states[mt.mlp_module_name_format.format(layer)]\n",
    "        else:\n",
    "            raise ValueError(f\"{ablate_strategy=}\")\n",
    "\n",
    "        patch_spec.append(PatchSpec(\n",
    "            location = (mt.mlp_module_name_format.format(layer), -1),\n",
    "            patch = patch_vec\n",
    "        ))\n",
    "    \n",
    "    if debug_full_answer == True:\n",
    "        answer = generate_with_patch(\n",
    "            mt = mt,\n",
    "            inputs = inputs,\n",
    "            n_gen_per_prompt=1,\n",
    "            do_sample = False,\n",
    "            patches = patch_spec,\n",
    "            patch_strategy=\"replace\",\n",
    "            remove_prefix = True,\n",
    "            patch_at_all_generations=True, # don't need to\n",
    "        )\n",
    "        print(f\"\\\"{answer[0]}\\\"\")\n",
    "    \n",
    "    ablated_pred, track_ans = predict_next_token(\n",
    "        mt=mt, \n",
    "        inputs=inputs,\n",
    "        patches=patch_spec,\n",
    "        token_of_interest=[clean_answer.token_id],\n",
    "        **kwargs\n",
    "    )\n",
    "\n",
    "    return ablated_pred, track_ans"
   ]
  },
  {
   "cell_type": "code",
   "execution_count": 12,
   "metadata": {},
   "outputs": [
    {
     "name": "stderr",
     "output_type": "stream",
     "text": [
      "Setting `pad_token_id` to `eos_token_id`:128001 for open-end generation.\n"
     ]
    },
    {
     "name": "stdout",
     "output_type": "stream",
     "text": [
      "answer='apex predators.'\n"
     ]
    },
    {
     "data": {
      "text/plain": [
       "[[PredictedToken(token=' apex', prob=0.1292724609375, logit=15.6875, token_id=72627),\n",
       "  PredictedToken(token=' pre', prob=0.0875244140625, logit=15.296875, token_id=864),\n",
       "  PredictedToken(token=' rept', prob=0.061553955078125, logit=14.9453125, token_id=64873),\n",
       "  PredictedToken(token=' living', prob=0.049468994140625, logit=14.7265625, token_id=5496),\n",
       "  PredictedToken(token=' predators', prob=0.036773681640625, logit=14.4296875, token_id=56217),\n",
       "  PredictedToken(token=' dangerous', prob=0.032684326171875, logit=14.3125, token_id=11660),\n",
       "  PredictedToken(token=' top', prob=0.02862548828125, logit=14.1796875, token_id=1948),\n",
       "  PredictedToken(token=' animals', prob=0.024688720703125, logit=14.03125, token_id=10099),\n",
       "  PredictedToken(token=' dinosaurs', prob=0.0209503173828125, logit=13.8671875, token_id=65375),\n",
       "  PredictedToken(token=' large', prob=0.0203094482421875, logit=13.8359375, token_id=3544),\n",
       "  PredictedToken(token=' considered', prob=0.019378662109375, logit=13.7890625, token_id=6646),\n",
       "  PredictedToken(token=' in', prob=0.019073486328125, logit=13.7734375, token_id=304),\n",
       "  PredictedToken(token=' members', prob=0.0186309814453125, logit=13.75, token_id=3697),\n",
       "  PredictedToken(token=' part', prob=0.0169677734375, logit=13.65625, token_id=961),\n",
       "  PredictedToken(token=' types', prob=0.0123138427734375, logit=13.3359375, token_id=4595)]]"
      ]
     },
     "execution_count": 12,
     "metadata": {},
     "output_type": "execute_result"
    }
   ],
   "source": [
    "prompt = prepare_probing_input(\n",
    "    mt=mt,\n",
    "    entities=entities,\n",
    "    prefix=prefix,\n",
    "    answer_marker=answer_marker,\n",
    "    question_marker=question_marker,\n",
    "    block_separator=block_separator,\n",
    "    is_a_reasoning_model=\"deepseek\" in model_key.lower(),\n",
    "    answer_prefix=\" They are/were both\",\n",
    "    return_offsets_mapping=True\n",
    ")\n",
    "\n",
    "offset_mapping = prompt.tokenized[\"offset_mapping\"][0]\n",
    "prompt.tokenized.pop(\"offset_mapping\")\n",
    "\n",
    "answer = get_lm_generated_answer(\n",
    "    mt=mt, prompt=prompt, \n",
    "    is_a_reasoning_model=\"deepseek\" in model_key.lower()\n",
    "    # is_a_reasoning_model=True\n",
    ")\n",
    "print(f\"{answer=}\")\n",
    "\n",
    "inputs = TokenizerOutput(data = prompt.tokenized)\n",
    "clean_pred = predict_next_token(\n",
    "    mt = mt,\n",
    "    inputs = inputs,\n",
    "    k = 15\n",
    ")\n",
    "clean_pred"
   ]
  },
  {
   "cell_type": "code",
   "execution_count": 30,
   "metadata": {},
   "outputs": [
    {
     "name": "stderr",
     "output_type": "stream",
     "text": [
      "Setting `pad_token_id` to `eos_token_id`:128001 for open-end generation.\n"
     ]
    },
    {
     "name": "stdout",
     "output_type": "stream",
     "text": [
      "\" apex predators.\n",
      "#\n",
      "Q: New York and New York City\n",
      "A: New York City is the\"\n",
      "[{72627: (1, PredictedToken(token=' apex', prob=0.10186767578125, logit=15.21875, token_id=72627))}]\n"
     ]
    },
    {
     "data": {
      "text/plain": [
       "[[PredictedToken(token=' apex', prob=0.10186767578125, logit=15.21875, token_id=72627),\n",
       "  PredictedToken(token=' pre', prob=0.07568359375, logit=14.921875, token_id=864),\n",
       "  PredictedToken(token=' rept', prob=0.055816650390625, logit=14.6171875, token_id=64873),\n",
       "  PredictedToken(token=' dangerous', prob=0.03546142578125, logit=14.1640625, token_id=11660),\n",
       "  PredictedToken(token=' in', prob=0.033843994140625, logit=14.1171875, token_id=304),\n",
       "  PredictedToken(token=' predators', prob=0.02850341796875, logit=13.9453125, token_id=56217),\n",
       "  PredictedToken(token=' extinct', prob=0.0267791748046875, logit=13.8828125, token_id=69918),\n",
       "  PredictedToken(token=' aquatic', prob=0.026153564453125, logit=13.859375, token_id=72491),\n",
       "  PredictedToken(token=' hunted', prob=0.021514892578125, logit=13.6640625, token_id=80269),\n",
       "  PredictedToken(token=' cart', prob=0.02069091796875, logit=13.625, token_id=7558),\n",
       "  PredictedToken(token=' large', prob=0.019439697265625, logit=13.5625, token_id=3544),\n",
       "  PredictedToken(token=' animals', prob=0.019287109375, logit=13.5546875, token_id=10099),\n",
       "  PredictedToken(token=' considered', prob=0.0178375244140625, logit=13.4765625, token_id=6646),\n",
       "  PredictedToken(token=' fish', prob=0.01513671875, logit=13.3125, token_id=7795),\n",
       "  PredictedToken(token=' featured', prob=0.0141143798828125, logit=13.2421875, token_id=15109)]]"
      ]
     },
     "execution_count": 30,
     "metadata": {},
     "output_type": "execute_result"
    }
   ],
   "source": [
    "#################################\n",
    "# LAYER_WINDOW = list(range(30, mt.n_layer))\n",
    "# LAYER_WINDOW = list(range(15, 20))\n",
    "# LAYER_WINDOW = list(range(20, 25))\n",
    "LAYER_WINDOW = list(range(17, 19))\n",
    "#################################\n",
    "\n",
    "ablated_pred, track_ans = ablate_MLP_window(\n",
    "    mt=mt,\n",
    "    prompt=prompt,\n",
    "    clean_answer=clean_pred[0][0],\n",
    "    layer_window=LAYER_WINDOW,\n",
    "    ablate_strategy=\"zero\",\n",
    "    k = 15,\n",
    "    debug_full_answer=True\n",
    ")\n",
    "\n",
    "print(track_ans)\n",
    "ablated_pred"
   ]
  },
  {
   "cell_type": "code",
   "execution_count": 40,
   "metadata": {},
   "outputs": [
    {
     "data": {
      "text/plain": [
       "'model.embed_tokens'"
      ]
     },
     "execution_count": 40,
     "metadata": {},
     "output_type": "execute_result"
    }
   ],
   "source": [
    "mt.embedder_name"
   ]
  },
  {
   "cell_type": "code",
   "execution_count": null,
   "metadata": {},
   "outputs": [],
   "source": [
    "from src.utils.typing import TokenizerOutput\n",
    "from src.functional import prepare_input, get_hs\n",
    "import itertools\n",
    "\n",
    "def get_layer_index(layer_name: str):\n",
    "    dot_split = layer_name.split(\".\")\n",
    "    return int(dot_split[2])\n",
    "\n",
    "def get_immediate_prev_resid_layer_name(mt: ModelandTokenizer, layer_idx: int):\n",
    "    if layer_idx == 0:\n",
    "        return mt.embedder_name\n",
    "    \n",
    "    return mt.layer_names[layer_idx - 1]\n",
    "\n",
    "def calculate_module_effects(\n",
    "    mt: ModelandTokenizer,\n",
    "    prompt: str | TokenizerOutput,\n",
    "    track_ans: str | int,\n",
    "    metric: Literal[\"logit\", \"prob\"] = \"prob\",\n",
    "    positions: list[tuple[str, int]] | Literal[\"all\"] = \"all\",\n",
    "    k: int = 10,\n",
    "):\n",
    "    \"\"\"Predict the next token(s) given the input.\"\"\"\n",
    "    if isinstance(inputs, TokenizerOutput):\n",
    "        if \"offset_mapping\" in inputs:\n",
    "            inputs.pop(\"offset_mapping\")\n",
    "    else:\n",
    "        inputs = prepare_input(tokenizer=mt, prompts=prompt)\n",
    "    \n",
    "    if positions == \"all\":\n",
    "        modules = [mt.mlp_module_name_format.format(i) for i in range(mt.n_layer)]\n",
    "        modules += [mt.attn_module_name_format.format(i) for i in range(mt.n_layer)]\n",
    "\n",
    "        token_positions = list(range(inputs.input_ids.shape[-1]))\n",
    "        positions = itertools.product(modules, token_positions)\n",
    "    \n",
    "    \n",
    "    resid_positions = []\n",
    "    for module, token_idx in positions:\n",
    "        layer_idx = get_layer_index(module)\n",
    "        prev_resid_layer = get_immediate_prev_resid_layer_name(mt, layer_idx)\n",
    "        resid_positions.append((prev_resid_layer, token_idx))\n",
    "\n",
    "    all_hs = get_hs(\n",
    "        mt=mt,\n",
    "        inputs=inputs,\n",
    "        locations=resid_positions + positions,\n",
    "    )\n",
    "\n",
    "    effects = {}\n",
    "    for (module, token_idx), hs in zip(positions, all_hs):\n",
    "        layer_idx = get_layer_index(module)\n",
    "        prev_resid_layer = get_immediate_prev_resid_layer_name(mt, layer_idx)\n",
    "        compare_with = (prev_resid_layer, token_idx)\n",
    "    \n",
    "\n"
   ]
  },
  {
   "cell_type": "code",
   "execution_count": 32,
   "metadata": {},
   "outputs": [
    {
     "data": {
      "text/plain": [
       "[(1, 3), (1, 4), (2, 3), (2, 4)]"
      ]
     },
     "execution_count": 32,
     "metadata": {},
     "output_type": "execute_result"
    }
   ],
   "source": [
    "import itertools\n",
    "list(itertools.product([1, 2], [3, 4]))"
   ]
  },
  {
   "cell_type": "code",
   "execution_count": null,
   "metadata": {},
   "outputs": [],
   "source": []
  },
  {
   "cell_type": "code",
   "execution_count": null,
   "metadata": {},
   "outputs": [],
   "source": []
  },
  {
   "cell_type": "code",
   "execution_count": 69,
   "metadata": {},
   "outputs": [
    {
     "name": "stdout",
     "output_type": "stream",
     "text": [
      "===> trace_start_idx=203\n",
      "2025-03-12 17:02:22 src.trace DEBUG    answer=PredictedToken(token=' apex', prob=0.1292724609375, logit=15.6875, token_id=72627)\n",
      "2025-03-12 17:02:22 src.trace DEBUG    clean_answer=PredictedToken(token=' fish', prob=0.1549072265625, logit=15.640625, token_id=7795)\n",
      "2025-03-12 17:02:22 src.trace DEBUG    track_ans=PredictedToken(token=' apex', prob=0.00467681884765625, logit=12.140625, token_id=72627)\n",
      "2025-03-12 17:02:22 src.trace DEBUG    ---------- tracing important states ----------\n"
     ]
    },
    {
     "name": "stderr",
     "output_type": "stream",
     "text": [
      "100%|██████████| 480/480 [00:28<00:00, 16.58it/s]"
     ]
    },
    {
     "name": "stdout",
     "output_type": "stream",
     "text": [
      "2025-03-12 17:02:51 src.trace INFO     base_score=15.6875 | low_score=12.140625\n"
     ]
    },
    {
     "name": "stderr",
     "output_type": "stream",
     "text": [
      "\n"
     ]
    },
    {
     "name": "stdout",
     "output_type": "stream",
     "text": [
      "2025-03-12 17:02:51 matplotlib.colorbar DEBUG    locator: <matplotlib.ticker.AutoLocator object at 0x7fc9fb97b790>\n",
      "2025-03-12 17:02:51 matplotlib.axes._base DEBUG    title position was updated manually, not adjusting\n",
      "2025-03-12 17:02:51 matplotlib.axes._base DEBUG    title position was updated manually, not adjusting\n",
      "2025-03-12 17:02:51 matplotlib.axes._base DEBUG    title position was updated manually, not adjusting\n",
      "2025-03-12 17:02:51 matplotlib.axes._base DEBUG    title position was updated manually, not adjusting\n"
     ]
    },
    {
     "data": {
      "image/png": "[encoded data removed]",
      "text/plain": [
       "<Figure size 700x600 with 2 Axes>"
      ]
     },
     "metadata": {},
     "output_type": "display_data"
    },
    {
     "name": "stdout",
     "output_type": "stream",
     "text": [
      "===> trace_start_idx=203\n",
      "2025-03-12 17:02:52 src.trace DEBUG    answer=PredictedToken(token=' apex', prob=0.1292724609375, logit=15.6875, token_id=72627)\n",
      "2025-03-12 17:02:52 src.trace DEBUG    clean_answer=PredictedToken(token=' fish', prob=0.1549072265625, logit=15.640625, token_id=7795)\n",
      "2025-03-12 17:02:52 src.trace DEBUG    track_ans=PredictedToken(token=' apex', prob=0.00467681884765625, logit=12.140625, token_id=72627)\n",
      "2025-03-12 17:02:52 src.trace DEBUG    ---------- tracing important states ----------\n"
     ]
    },
    {
     "name": "stderr",
     "output_type": "stream",
     "text": [
      "100%|██████████| 480/480 [00:29<00:00, 16.03it/s]"
     ]
    },
    {
     "name": "stdout",
     "output_type": "stream",
     "text": [
      "2025-03-12 17:03:22 src.trace INFO     base_score=15.6875 | low_score=12.140625\n"
     ]
    },
    {
     "name": "stderr",
     "output_type": "stream",
     "text": [
      "\n"
     ]
    },
    {
     "name": "stdout",
     "output_type": "stream",
     "text": [
      "2025-03-12 17:03:22 matplotlib.colorbar DEBUG    locator: <matplotlib.ticker.AutoLocator object at 0x7fc9fbbe54d0>\n",
      "2025-03-12 17:03:22 matplotlib.axes._base DEBUG    title position was updated manually, not adjusting\n",
      "2025-03-12 17:03:22 matplotlib.axes._base DEBUG    title position was updated manually, not adjusting\n",
      "2025-03-12 17:03:22 matplotlib.axes._base DEBUG    title position was updated manually, not adjusting\n",
      "2025-03-12 17:03:22 matplotlib.axes._base DEBUG    title position was updated manually, not adjusting\n"
     ]
    },
    {
     "data": {
      "image/png": "[encoded data removed]",
      "text/plain": [
       "<Figure size 700x600 with 2 Axes>"
      ]
     },
     "metadata": {},
     "output_type": "display_data"
    },
    {
     "name": "stdout",
     "output_type": "stream",
     "text": [
      "===> trace_start_idx=203\n",
      "2025-03-12 17:03:22 src.trace DEBUG    answer=PredictedToken(token=' apex', prob=0.1292724609375, logit=15.6875, token_id=72627)\n",
      "2025-03-12 17:03:23 src.trace DEBUG    clean_answer=PredictedToken(token=' fish', prob=0.1549072265625, logit=15.640625, token_id=7795)\n",
      "2025-03-12 17:03:23 src.trace DEBUG    track_ans=PredictedToken(token=' apex', prob=0.00467681884765625, logit=12.140625, token_id=72627)\n",
      "2025-03-12 17:03:23 src.trace DEBUG    ---------- tracing important states ----------\n"
     ]
    },
    {
     "name": "stderr",
     "output_type": "stream",
     "text": [
      "100%|██████████| 480/480 [00:30<00:00, 15.82it/s]"
     ]
    },
    {
     "name": "stdout",
     "output_type": "stream",
     "text": [
      "2025-03-12 17:03:53 src.trace INFO     base_score=15.6875 | low_score=12.140625\n"
     ]
    },
    {
     "name": "stderr",
     "output_type": "stream",
     "text": [
      "\n"
     ]
    },
    {
     "name": "stdout",
     "output_type": "stream",
     "text": [
      "2025-03-12 17:03:53 matplotlib.colorbar DEBUG    locator: <matplotlib.ticker.AutoLocator object at 0x7fc9fba465d0>\n",
      "2025-03-12 17:03:53 matplotlib.axes._base DEBUG    title position was updated manually, not adjusting\n",
      "2025-03-12 17:03:53 matplotlib.axes._base DEBUG    title position was updated manually, not adjusting\n",
      "2025-03-12 17:03:53 matplotlib.axes._base DEBUG    title position was updated manually, not adjusting\n",
      "2025-03-12 17:03:53 matplotlib.axes._base DEBUG    title position was updated manually, not adjusting\n"
     ]
    },
    {
     "data": {
      "image/png": "[encoded data removed]",
      "text/plain": [
       "<Figure size 700x600 with 2 Axes>"
      ]
     },
     "metadata": {},
     "output_type": "display_data"
    }
   ],
   "source": [
    "from src.trace import trace_important_states\n",
    "from src.utils.typing import TokenizerOutput\n",
    "from src.plotting import plot_trace_heatmap\n",
    "from src.functional import predict_next_token\n",
    "\n",
    "for kind in [\"residual\", \"mlp\", \"attention\"]:\n",
    "    trace_results = trace_important_states(\n",
    "        mt=mt,\n",
    "        prompt_template=prompt.prompt.replace(entities[0], \"{}\"),\n",
    "        clean_subj=\"koi\",\n",
    "        patched_subj=entities[0],\n",
    "        metric=\"logit\",\n",
    "        trace_start_marker=\"#\",\n",
    "        # normalize=False,\n",
    "        kind=kind,\n",
    "        window_size=1 if kind == \"residual\" else 5,\n",
    "    )\n",
    "\n",
    "    plot_trace_heatmap(\n",
    "        result=trace_results,\n",
    "        model_name=model_key.split(\"/\")[-1],\n",
    "        scale_range=(0, 1) if trace_results.normalized == True else None\n",
    "    )"
   ]
  },
  {
   "cell_type": "code",
   "execution_count": null,
   "metadata": {},
   "outputs": [],
   "source": []
  },
  {
   "cell_type": "code",
   "execution_count": null,
   "metadata": {},
   "outputs": [],
   "source": []
  },
  {
   "cell_type": "code",
   "execution_count": 165,
   "metadata": {},
   "outputs": [],
   "source": [
    "mlp_ablation_strategy = \"zero\"\n",
    "\n",
    "patch_spec: list[PatchSpec] = []\n",
    "for layer in LAYER_WINDOW:\n",
    "    if mlp_ablation_strategy == \"zero\":\n",
    "        patch_vec = torch.zeros(mt.n_embd)\n",
    "    elif mlp_ablation_strategy == \"mean\":\n",
    "        patch_vec = mean_states[mt.mlp_module_name_format.format(layer)]\n",
    "    else:\n",
    "        raise ValueError(f\"{mlp_ablation_strategy=}\")\n",
    "\n",
    "    patch_spec.append(PatchSpec(\n",
    "        location = (mt.mlp_module_name_format.format(layer), -1),\n",
    "        patch = patch_vec\n",
    "    ))"
   ]
  },
  {
   "cell_type": "code",
   "execution_count": 166,
   "metadata": {},
   "outputs": [
    {
     "name": "stderr",
     "output_type": "stream",
     "text": [
      "Setting `pad_token_id` to `eos_token_id`:128001 for open-end generation.\n"
     ]
    },
    {
     "name": "stdout",
     "output_type": "stream",
     "text": [
      "\" directed by Frank Darabont.\n",
      "#\n",
      "Q: The Great Wall of China and The Berlin Wall\n",
      "\"\n",
      "[{15910: (1, PredictedToken(token=' directed', prob=0.07720947265625, logit=12.4453125, token_id=15910))}]\n"
     ]
    },
    {
     "data": {
      "text/plain": [
       "[[PredictedToken(token=' directed', prob=0.07720947265625, logit=12.4453125, token_id=15910),\n",
       "  PredictedToken(token=' filmed', prob=0.0450439453125, logit=11.90625, token_id=42508),\n",
       "  PredictedToken(token=' set', prob=0.038818359375, logit=11.7578125, token_id=743),\n",
       "  PredictedToken(token=' films', prob=0.038818359375, logit=11.7578125, token_id=12631),\n",
       "  PredictedToken(token=' prisons', prob=0.036468505859375, logit=11.6953125, token_id=49429),\n",
       "  PredictedToken(token=' R', prob=0.033721923828125, logit=11.6171875, token_id=432),\n",
       "  PredictedToken(token=' written', prob=0.027099609375, logit=11.3984375, token_id=5439),\n",
       "  PredictedToken(token=' movies', prob=0.02545166015625, logit=11.3359375, token_id=9698),\n",
       "  PredictedToken(token=' Stephen', prob=0.018768310546875, logit=11.03125, token_id=18587),\n",
       "  PredictedToken(token=' released', prob=0.0180511474609375, logit=10.9921875, token_id=6004),\n",
       "  PredictedToken(token=' (', prob=0.0180511474609375, logit=10.9921875, token_id=320),\n",
       "  PredictedToken(token=' starring', prob=0.017913818359375, logit=10.984375, token_id=40500),\n",
       "  PredictedToken(token=' prison', prob=0.01520538330078125, logit=10.8203125, token_id=9527),\n",
       "  PredictedToken(token=' in', prob=0.0149688720703125, logit=10.8046875, token_id=304),\n",
       "  PredictedToken(token=' produced', prob=0.0134124755859375, logit=10.6953125, token_id=9124)]]"
      ]
     },
     "execution_count": 166,
     "metadata": {},
     "output_type": "execute_result"
    }
   ],
   "source": [
    "block_edges = get_edges_to_be_ablated(\n",
    "    prompt=prompt,\n",
    "    focus_strategy=\"ablate_all\",\n",
    "    Q_IDX=-1,\n",
    "    whitelist_key_indices=[0]\n",
    "    # whitelist_key_indices=[0, -1]\n",
    ")\n",
    "\n",
    "# ablate only attention\n",
    "\n",
    "ablated_pred, track_ans = ablate_attn_window(\n",
    "    mt=mt,\n",
    "    prompt=prompt,\n",
    "    clean_answer=clean_pred[0][0],\n",
    "    block_edges=block_edges,\n",
    "    layer_window=LAYER_WINDOW,\n",
    "    # patches=patch_spec,\n",
    "    k = 15,\n",
    "    debug_full_answer=True\n",
    ")\n",
    "\n",
    "print(track_ans)\n",
    "ablated_pred"
   ]
  },
  {
   "cell_type": "code",
   "execution_count": 167,
   "metadata": {},
   "outputs": [
    {
     "name": "stderr",
     "output_type": "stream",
     "text": [
      "Setting `pad_token_id` to `eos_token_id`:128001 for open-end generation.\n"
     ]
    },
    {
     "name": "stdout",
     "output_type": "stream",
     "text": [
      "\" prison movies.\n",
      "#\n",
      "Q: The Great Wall of China and The Berlin Wall\n",
      "A: They are\"\n",
      "[{15910: (8, PredictedToken(token=' directed', prob=0.01309967041015625, logit=9.3515625, token_id=15910))}]\n"
     ]
    },
    {
     "data": {
      "text/plain": [
       "[[PredictedToken(token=' prison', prob=0.2147216796875, logit=12.1484375, token_id=9527),\n",
       "  PredictedToken(token=' based', prob=0.08544921875, logit=11.2265625, token_id=3196),\n",
       "  PredictedToken(token=' feature', prob=0.056915283203125, logit=10.8203125, token_id=4668),\n",
       "  PredictedToken(token=' prisoners', prob=0.0275115966796875, logit=10.09375, token_id=28240),\n",
       "  PredictedToken(token=' produced', prob=0.01776123046875, logit=9.65625, token_id=9124),\n",
       "  PredictedToken(token=' inmates', prob=0.01617431640625, logit=9.5625, token_id=42712),\n",
       "  PredictedToken(token=' motion', prob=0.01531219482421875, logit=9.5078125, token_id=11633),\n",
       "  PredictedToken(token=' directed', prob=0.01309967041015625, logit=9.3515625, token_id=15910),\n",
       "  PredictedToken(token=' Stephen', prob=0.01174163818359375, logit=9.2421875, token_id=18587),\n",
       "  PredictedToken(token=' prisoner', prob=0.011383056640625, logit=9.2109375, token_id=42950),\n",
       "  PredictedToken(token=' adaptations', prob=0.01068878173828125, logit=9.1484375, token_id=77765),\n",
       "  PredictedToken(token=' prisons', prob=0.0106048583984375, logit=9.140625, token_id=49429),\n",
       "  PredictedToken(token=' jail', prob=0.00872802734375, logit=8.9453125, token_id=17999),\n",
       "  PredictedToken(token=' rated', prob=0.0069580078125, logit=8.71875, token_id=22359),\n",
       "  PredictedToken(token=' made', prob=0.00679779052734375, logit=8.6953125, token_id=1903)]]"
      ]
     },
     "execution_count": 167,
     "metadata": {},
     "output_type": "execute_result"
    }
   ],
   "source": [
    "# ablate attention and MLP\n",
    "\n",
    "ablated_pred, track_ans = ablate_attn_window(\n",
    "    mt=mt,\n",
    "    prompt=prompt,\n",
    "    clean_answer=clean_pred[0][0],\n",
    "    block_edges=block_edges,\n",
    "    layer_window=LAYER_WINDOW,\n",
    "    patches=patch_spec,\n",
    "    k = 15,\n",
    "    debug_full_answer=True\n",
    ")\n",
    "\n",
    "print(track_ans)\n",
    "ablated_pred"
   ]
  },
  {
   "cell_type": "code",
   "execution_count": 168,
   "metadata": {},
   "outputs": [
    {
     "name": "stderr",
     "output_type": "stream",
     "text": [
      "Setting `pad_token_id` to `eos_token_id`:128001 for open-end generation.\n"
     ]
    },
    {
     "name": "stdout",
     "output_type": "stream",
     "text": [
      "\" based on Stephen King's works.\n",
      "#\n",
      "Q: The Great Wall of China and The Berlin Wall\n",
      "\"\n",
      "[{15910: (14, PredictedToken(token=' directed', prob=0.007579803466796875, logit=10.8203125, token_id=15910))}]\n"
     ]
    },
    {
     "data": {
      "text/plain": [
       "[[PredictedToken(token=' based', prob=0.298095703125, logit=14.4921875, token_id=3196),\n",
       "  PredictedToken(token=' ', prob=0.29345703125, logit=14.4765625, token_id=220),\n",
       "  PredictedToken(token='\\xa0', prob=0.07080078125, logit=13.0546875, token_id=4194),\n",
       "  PredictedToken(token=' set', prob=0.0306854248046875, logit=12.21875, token_id=743),\n",
       "  PredictedToken(token=' feature', prob=0.029052734375, logit=12.1640625, token_id=4668),\n",
       "  PredictedToken(token=' prison', prob=0.01259613037109375, logit=11.328125, token_id=9527),\n",
       "  PredictedToken(token=' in', prob=0.01239776611328125, logit=11.3125, token_id=304),\n",
       "  PredictedToken(token=' (', prob=0.01012420654296875, logit=11.109375, token_id=320),\n",
       "  PredictedToken(token=' a', prob=0.010040283203125, logit=11.1015625, token_id=264),\n",
       "  PredictedToken(token=' on', prob=0.00936126708984375, logit=11.03125, token_id=389),\n",
       "  PredictedToken(token=' by', prob=0.00872802734375, logit=10.9609375, token_id=555),\n",
       "  PredictedToken(token=' Stephen', prob=0.00872802734375, logit=10.9609375, token_id=18587),\n",
       "  PredictedToken(token=' made', prob=0.00794219970703125, logit=10.8671875, token_id=1903),\n",
       "  PredictedToken(token=' directed', prob=0.007579803466796875, logit=10.8203125, token_id=15910),\n",
       "  PredictedToken(token=' \"', prob=0.006793975830078125, logit=10.7109375, token_id=330)]]"
      ]
     },
     "execution_count": 168,
     "metadata": {},
     "output_type": "execute_result"
    }
   ],
   "source": [
    "# ablate only MLP\n",
    "\n",
    "ablated_pred, track_ans = ablate_MLP_window(\n",
    "    mt=mt,\n",
    "    prompt=prompt,\n",
    "    clean_answer=clean_pred[0][0],\n",
    "    layer_window=[29, 30, 31],\n",
    "    ablate_strategy=\"zero\",\n",
    "    k = 15,\n",
    "    debug_full_answer=True\n",
    ")\n",
    "\n",
    "print(track_ans)\n",
    "ablated_pred"
   ]
  },
  {
   "cell_type": "code",
   "execution_count": null,
   "metadata": {},
   "outputs": [],
   "source": []
  },
  {
   "cell_type": "code",
   "execution_count": null,
   "metadata": {},
   "outputs": [],
   "source": []
  },
  {
   "cell_type": "code",
   "execution_count": null,
   "metadata": {},
   "outputs": [],
   "source": []
  },
  {
   "cell_type": "code",
   "execution_count": 68,
   "metadata": {},
   "outputs": [
    {
     "name": "stdout",
     "output_type": "stream",
     "text": [
      "start_idx=203\n"
     ]
    }
   ],
   "source": [
    "from src.tokens import find_token_range\n",
    "\n",
    "start_idx = find_token_range(\n",
    "    string=prompt.prompt,\n",
    "    substring=\"#\",\n",
    "    tokenizer=mt,\n",
    "    offset_mapping=offset_mapping,\n",
    "    occurrence=-1\n",
    ")[1] - 1\n",
    "print(f\"{start_idx=}\")"
   ]
  },
  {
   "cell_type": "code",
   "execution_count": 69,
   "metadata": {},
   "outputs": [
    {
     "name": "stderr",
     "output_type": "stream",
     "text": [
      "Setting `pad_token_id` to `eos_token_id`:128001 for open-end generation.\n"
     ]
    },
    {
     "name": "stdout",
     "output_type": "stream",
     "text": [
      "\" apex predators.\n",
      "#\n",
      "Q: New York and New York City\n",
      "A: None\n",
      "#\n",
      "Q:\"\n",
      "[{72627: (1, PredictedToken(token=' apex', prob=0.10162353515625, logit=14.9921875, token_id=72627))}]\n"
     ]
    },
    {
     "data": {
      "text/plain": [
       "[[PredictedToken(token=' apex', prob=0.10162353515625, logit=14.9921875, token_id=72627),\n",
       "  PredictedToken(token=' pre', prob=0.07855224609375, logit=14.734375, token_id=864),\n",
       "  PredictedToken(token=' dangerous', prob=0.046173095703125, logit=14.203125, token_id=11660),\n",
       "  PredictedToken(token=' predators', prob=0.045806884765625, logit=14.1953125, token_id=56217),\n",
       "  PredictedToken(token=' living', prob=0.044403076171875, logit=14.1640625, token_id=5496),\n",
       "  PredictedToken(token=' rept', prob=0.0413818359375, logit=14.09375, token_id=64873),\n",
       "  PredictedToken(token=' top', prob=0.034027099609375, logit=13.8984375, token_id=1948),\n",
       "  PredictedToken(token=' animals', prob=0.02569580078125, logit=13.6171875, token_id=10099),\n",
       "  PredictedToken(token=' considered', prob=0.0214691162109375, logit=13.4375, token_id=6646),\n",
       "  PredictedToken(token=' dinosaurs', prob=0.0198516845703125, logit=13.359375, token_id=65375),\n",
       "  PredictedToken(token=' members', prob=0.0198516845703125, logit=13.359375, token_id=3697),\n",
       "  PredictedToken(token=' in', prob=0.0185089111328125, logit=13.2890625, token_id=304),\n",
       "  PredictedToken(token=' part', prob=0.0183563232421875, logit=13.28125, token_id=961),\n",
       "  PredictedToken(token=' large', prob=0.017242431640625, logit=13.21875, token_id=3544),\n",
       "  PredictedToken(token=' feared', prob=0.01441192626953125, logit=13.0390625, token_id=38569)]]"
      ]
     },
     "execution_count": 69,
     "metadata": {},
     "output_type": "execute_result"
    }
   ],
   "source": [
    "# block_attention_to = list(range(1, start_idx))\n",
    "block_attention_to = list(range(start_idx, inputs.input_ids.shape[-1]))\n",
    "\n",
    "block_edges: list[AttentionEdge] = []\n",
    "for k_idx in block_attention_to:\n",
    "    block_edges.append(\n",
    "        AttentionEdge(\n",
    "            q_idx=-1,\n",
    "            k_idx=k_idx,\n",
    "        )\n",
    "    )\n",
    "\n",
    "ablated_pred, track_ans = ablate_attn_window(\n",
    "    mt=mt,\n",
    "    prompt=prompt,\n",
    "    clean_answer=clean_pred[0][0],\n",
    "    block_edges=block_edges,\n",
    "    layer_window=[29, 30, 31],\n",
    "    # layer_window=[],\n",
    "    k = 15,\n",
    "    debug_full_answer=True\n",
    ")\n",
    "\n",
    "print(track_ans)\n",
    "ablated_pred"
   ]
  },
  {
   "cell_type": "code",
   "execution_count": null,
   "metadata": {},
   "outputs": [],
   "source": []
  },
  {
   "cell_type": "code",
   "execution_count": null,
   "metadata": {},
   "outputs": [],
   "source": []
  },
  {
   "cell_type": "code",
   "execution_count": null,
   "metadata": {},
   "outputs": [],
   "source": []
  },
  {
   "cell_type": "code",
   "execution_count": null,
   "metadata": {},
   "outputs": [],
   "source": [
    "def get_head_contribution_score()"
   ]
  }
 ],
 "metadata": {
  "kernelspec": {
   "display_name": "retrieval",
   "language": "python",
   "name": "python3"
  },
  "language_info": {
   "codemirror_mode": {
    "name": "ipython",
    "version": 3
   },
   "file_extension": ".py",
   "mimetype": "text/x-python",
   "name": "python",
   "nbconvert_exporter": "python",
   "pygments_lexer": "ipython3",
   "version": "3.11.9"
  }
 },
 "nbformat": 4,
 "nbformat_minor": 2
}
