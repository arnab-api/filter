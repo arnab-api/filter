{
 "cells": [
  {
   "cell_type": "code",
   "execution_count": 1,
   "id": "0c4a278a",
   "metadata": {},
   "outputs": [],
   "source": [
    "%load_ext autoreload\n",
    "%autoreload 2"
   ]
  },
  {
   "cell_type": "code",
   "execution_count": 2,
   "id": "c661fb68",
   "metadata": {},
   "outputs": [
    {
     "name": "stderr",
     "output_type": "stream",
     "text": [
      "/disk/u/arnab/miniconda3/envs/connection/lib/python3.11/site-packages/tqdm/auto.py:21: TqdmWarning: IProgress not found. Please update jupyter and ipywidgets. See https://ipywidgets.readthedocs.io/en/stable/user_install.html\n",
      "  from .autonotebook import tqdm as notebook_tqdm\n"
     ]
    },
    {
     "name": "stdout",
     "output_type": "stream",
     "text": [
      "2025-05-05 18:26:51 __main__ INFO     torch.__version__='2.7.0+cu126', torch.version.cuda='12.6'\n",
      "2025-05-05 18:26:51 __main__ INFO     torch.cuda.is_available()=True, torch.cuda.device_count()=4, torch.cuda.get_device_name()='NVIDIA A100 80GB PCIe'\n",
      "2025-05-05 18:26:51 __main__ INFO     transformers.__version__='4.51.3'\n"
     ]
    }
   ],
   "source": [
    "import os\n",
    "import json\n",
    "import torch\n",
    "import transformers\n",
    "import sys\n",
    "\n",
    "sys.path.append(\"../\")\n",
    "\n",
    "##################################################################\n",
    "os.environ[\"TOKENIZERS_PARALLELISM\"] = \"false\"\n",
    "os.environ[\"CUDA_VISIBLE_DEVICES\"] = \"4,5,6,7\"\n",
    "#################################################################\n",
    "\n",
    "import logging\n",
    "from src.utils import logging_utils\n",
    "from src.utils import env_utils\n",
    "\n",
    "logger = logging.getLogger(__name__)\n",
    "\n",
    "logging.basicConfig(\n",
    "    level=logging.DEBUG,\n",
    "    format=logging_utils.DEFAULT_FORMAT,\n",
    "    datefmt=logging_utils.DEFAULT_DATEFMT,\n",
    "    stream=sys.stdout,\n",
    ")\n",
    "\n",
    "\n",
    "\n",
    "logger.info(f\"{torch.__version__=}, {torch.version.cuda=}\")\n",
    "logger.info(\n",
    "    f\"{torch.cuda.is_available()=}, {torch.cuda.device_count()=}, {torch.cuda.get_device_name()=}\"\n",
    ")\n",
    "logger.info(f\"{transformers.__version__=}\")"
   ]
  },
  {
   "cell_type": "code",
   "execution_count": 3,
   "id": "a8efc863",
   "metadata": {},
   "outputs": [
    {
     "name": "stdout",
     "output_type": "stream",
     "text": [
      "[2025-05-05 18:27:05,999] [INFO] [real_accelerator.py:239:get_accelerator] Setting ds_accelerator to cuda (auto detect)\n",
      "2025-05-05 18:27:06 root INFO     gcc -pthread -B /disk/u/arnab/miniconda3/envs/connection/compiler_compat -DNDEBUG -fwrapv -O2 -Wall -fPIC -O2 -isystem /disk/u/arnab/miniconda3/envs/connection/include -fPIC -O2 -isystem /disk/u/arnab/miniconda3/envs/connection/include -fPIC -c /tmp/tmpg10ep39p/test.c -o /tmp/tmpg10ep39p/test.o\n",
      "2025-05-05 18:27:06 root INFO     gcc -pthread -B /disk/u/arnab/miniconda3/envs/connection/compiler_compat /tmp/tmpg10ep39p/test.o -laio -o /tmp/tmpg10ep39p/a.out\n"
     ]
    },
    {
     "name": "stderr",
     "output_type": "stream",
     "text": [
      "/disk/u/arnab/miniconda3/envs/connection/compiler_compat/ld: cannot find -laio: No such file or directory\n",
      "collect2: error: ld returned 1 exit status\n"
     ]
    },
    {
     "name": "stdout",
     "output_type": "stream",
     "text": [
      "2025-05-05 18:27:06 root INFO     gcc -pthread -B /disk/u/arnab/miniconda3/envs/connection/compiler_compat -DNDEBUG -fwrapv -O2 -Wall -fPIC -O2 -isystem /disk/u/arnab/miniconda3/envs/connection/include -fPIC -O2 -isystem /disk/u/arnab/miniconda3/envs/connection/include -fPIC -c /tmp/tmpgyndwemw/test.c -o /tmp/tmpgyndwemw/test.o\n",
      "2025-05-05 18:27:06 root INFO     gcc -pthread -B /disk/u/arnab/miniconda3/envs/connection/compiler_compat /tmp/tmpgyndwemw/test.o -L/usr -L/usr/lib64 -lcufile -o /tmp/tmpgyndwemw/a.out\n"
     ]
    },
    {
     "name": "stderr",
     "output_type": "stream",
     "text": [
      "/disk/u/arnab/miniconda3/envs/connection/compiler_compat/ld: cannot find -lcufile: No such file or directory\n",
      "collect2: error: ld returned 1 exit status\n"
     ]
    },
    {
     "name": "stdout",
     "output_type": "stream",
     "text": [
      "2025-05-05 18:27:07 src.models WARNING  Qwen/Qwen3-14B not found in /disk/u/arnab/Codes/Models\n",
      "If not found in cache, model will be downloaded from HuggingFace to cache directory\n",
      "2025-05-05 18:27:07 urllib3.connectionpool DEBUG    Starting new HTTPS connection (1): huggingface.co:443\n",
      "2025-05-05 18:27:07 urllib3.connectionpool DEBUG    https://huggingface.co:443 \"HEAD /Qwen/Qwen3-14B/resolve/main/config.json HTTP/1.1\" 200 0\n",
      "2025-05-05 18:27:07 urllib3.connectionpool DEBUG    https://huggingface.co:443 \"HEAD /Qwen/Qwen3-14B/resolve/main/tokenizer_config.json HTTP/1.1\" 200 0\n"
     ]
    },
    {
     "name": "stderr",
     "output_type": "stream",
     "text": [
      "Loading checkpoint shards: 100%|██████████| 8/8 [00:18<00:00,  2.33s/it]"
     ]
    },
    {
     "name": "stdout",
     "output_type": "stream",
     "text": [
      "2025-05-05 18:27:27 urllib3.connectionpool DEBUG    https://huggingface.co:443 \"HEAD /Qwen/Qwen3-14B/resolve/main/generation_config.json HTTP/1.1\" 200 0\n"
     ]
    },
    {
     "name": "stderr",
     "output_type": "stream",
     "text": [
      "\n"
     ]
    },
    {
     "name": "stdout",
     "output_type": "stream",
     "text": [
      "2025-05-05 18:27:27 src.models INFO     loaded model <Qwen/Qwen3-14B> | size: 28168.311 MB | dtype: torch.bfloat16 | device: cuda:0\n"
     ]
    }
   ],
   "source": [
    "import torch\n",
    "\n",
    "from src.models import ModelandTokenizer\n",
    "\n",
    "\n",
    "# model_key = \"meta-llama/Llama-3.1-70B\"\n",
    "# model_key = \"meta-llama/Llama-3.1-8B\"\n",
    "# model_key = \"meta-llama/Llama-3.2-3B\"\n",
    "\n",
    "# model_key = \"google/gemma-2-9b-it\"\n",
    "# model_key = \"google/gemma-2-27b-it\"\n",
    "# model_key = \"google/gemma-3-12b-it\"\n",
    "\n",
    "# model_key = \"deepseek-ai/DeepSeek-R1-Distill-Llama-8B\"\n",
    "\n",
    "# model_key = \"allenai/OLMo-2-1124-7B-Instruct\"\n",
    "# model_key = \"allenai/OLMo-7B-0424-hf\"\n",
    "\n",
    "# model_key = \"Qwen/Qwen2-7B\"\n",
    "# model_key = \"Qwen/Qwen2.5-14B\"\n",
    "# model_key = \"Qwen/Qwen2.5-32B\"\n",
    "\n",
    "# model_key = \"Qwen/Qwen3-1.7B\"\n",
    "# model_key = \"Qwen/Qwen3-4B\"\n",
    "# model_key = \"Qwen/Qwen3-8B\"\n",
    "model_key = \"Qwen/Qwen3-14B\"\n",
    "\n",
    "mt = ModelandTokenizer(\n",
    "    model_key=model_key,\n",
    "    torch_dtype=torch.bfloat16,\n",
    "    # quantization_config = BitsAndBytesConfig(\n",
    "    #     # load_in_4bit=True\n",
    "    #     load_in_8bit=True\n",
    "    # )\n",
    ")"
   ]
  },
  {
   "cell_type": "code",
   "execution_count": 5,
   "id": "70cd7178",
   "metadata": {},
   "outputs": [],
   "source": [
    "with open(os.path.join(env_utils.DEFAULT_DATA_DIR, \"trimmed_r1_responses.json\"), \"r\") as f:\n",
    "    gsm8k_data = json.load(f)"
   ]
  },
  {
   "cell_type": "code",
   "execution_count": 9,
   "id": "8aa7735b",
   "metadata": {},
   "outputs": [
    {
     "name": "stdout",
     "output_type": "stream",
     "text": [
      "Janet’s ducks lay 16 eggs per day. She eats three for breakfast every morning and bakes muffins for her friends every day with four. She sells the remainder at the farmers' market daily for $2 per fresh duck egg. How much in dollars does she make every day at the farmers' market? Please reason step by step, and put your final answer within \\boxed{}.<think>\n"
     ]
    }
   ],
   "source": [
    "q = gsm8k_data[0][\"question\"]\n",
    "prompt = q + \"<think>\"\n",
    "print(prompt)"
   ]
  },
  {
   "cell_type": "code",
   "execution_count": 12,
   "id": "b52be29c",
   "metadata": {},
   "outputs": [
    {
     "name": "stdout",
     "output_type": "stream",
     "text": [
      "Janet’s ducks lay 16 eggs per day. She eats three for breakfast every morning and bakes muffins for her friends every day with four. She sells the remainder at the farmers' market daily for $2 per fresh duck egg. How much in dollars does she make every day at the farmers' market? Please reason step by step, and put your final answer within \\boxed{}.<think>\n",
      "Okay, let's see. Janet has ducks that lay eggs. The problem says they lay 16 eggs per day. Alright, so starting with 16 eggs each day. Then she eats three for breakfast every morning. So, first, I need to subtract the eggs she eats. Let me write that down:\n",
      "\n",
      "Total eggs laid per day: 16\n",
      "\n",
      "Eggs eaten for breakfast: 3\n",
      "\n",
      "So, after eating, the remaining eggs would be 16 - 3. Let me calculate that. 16 minus 3 is 13. So, 13 eggs left after breakfast.\n",
      "\n",
      "Then, she bakes muffins for her friends every day with four. Wait, does that mean she uses four eggs for baking? The wording is a bit ambiguous. Let me check the original problem again: \"bakes muffins for her friends every day with four.\" Hmm, probably she uses four eggs for baking. So, subtract another four eggs from the remaining eggs.\n",
      "\n",
      "So, after breakfast, she had 13 eggs. Then she uses 4 for baking. So 13 - 4. Let me do that subtraction. 13 minus 4 is 9. So, 9 eggs left after baking.\n",
      "\n",
      "Then, she sells the remainder at the farmers' market daily for $2 per fresh duck egg. So, she sells those 9 eggs at $2 each. To find out how much she makes, I need to multiply the number of eggs sold by the price per egg.\n",
      "\n",
      "So, 9 eggs times $2 per egg. Let me compute that. 9 * 2 is 18. Therefore, she makes $18 every day at the farmers' market.\n",
      "\n",
      "Wait, let me just verify each step again to make sure I didn't make any mistakes. Starting with 16 eggs. Subtract 3 for breakfast: 16 - 3 = 13. Then subtract 4 for baking: 13 - 4 = 9. Then 9 * 2 = 18. Yeah, that seems right.\n",
      "\n",
      "But hold on, the problem says \"bakes muffins for her friends every day with four.\" Maybe \"with four\" could mean something else? Like, maybe she bakes four muffins, each requiring some eggs? But the problem doesn't specify how many eggs go into each muffin. The wording is a bit unclear. However, since it says \"with four,\" it might be more natural to interpret that she uses four eggs for baking. For example, if you say \"I made a cake with three eggs,\" it means you used three eggs. So, similarly, \"bakes muffins... with four\" probably means she uses four eggs. Therefore, my initial calculation is correct.\n",
      "\n",
      "Alternatively, if \"with four\" meant something else, like she bakes four muffins, but without knowing how many eggs per muffin, we can't calculate. Therefore, the most logical interpretation is that she uses four eggs for baking. Therefore, the answer is $18.\n",
      "\n",
      "But just to check again: 16 total eggs. She eats 3, uses 4, sells the rest. 16 - 3 - 4 = 9. 9 * 2 = 18. Yep, that's consistent.\n",
      "\n",
      "I think that's solid. So, the answer should be $\\boxed{18}$.\n",
      "\n",
      "**Final Answer**\n",
      "\\boxed{18}\n",
      "</think>\n",
      "\n",
      "Janet's ducks lay **16 eggs per day**. Let's break down what happens to these eggs step by step:\n",
      "\n",
      "---\n",
      "\n",
      "### Step 1: Eggs Eaten for Breakfast\n",
      "Janet eats **3 eggs** every morning.\n",
      "\n",
      "$$\n",
      "16 - 3 = 13 \\text{ eggs remaining}\n",
      "$$\n",
      "\n",
      "---\n",
      "\n",
      "### Step 2: Eggs Used for Baking Muffins\n",
      "She uses **4 eggs** for baking muffins.\n",
      "\n",
      "$$\n",
      "13 - 4 = 9 \\text{ eggs remaining}\n",
      "$$\n",
      "\n",
      "---\n",
      "\n",
      "### Step 3: Eggs Sold at the Farmers' Market\n",
      "She sells the remaining **9 eggs** at **$2 per egg**.\n",
      "\n",
      "$$\n",
      "9 \\times 2 = 18\n",
      "$$\n",
      "\n",
      "---\n",
      "\n",
      "### Final Answer:\n",
      "$$\n",
      "\\boxed{18}\n",
      "$$\n"
     ]
    }
   ],
   "source": [
    "from src.functional import generate_with_patch\n",
    "\n",
    "generation = generate_with_patch(\n",
    "    mt = mt,\n",
    "    inputs = prompt,\n",
    "    n_gen_per_prompt=1,\n",
    "    temperature=0.6,\n",
    "    max_new_tokens=1024,\n",
    ")[0]\n",
    "\n",
    "print(generation)"
   ]
  },
  {
   "cell_type": "code",
   "execution_count": 13,
   "id": "913bbe1a",
   "metadata": {},
   "outputs": [
    {
     "name": "stdout",
     "output_type": "stream",
     "text": [
      "user\n",
      "Janet’s ducks lay 16 eggs per day. She eats three for breakfast every morning and bakes muffins for her friends every day with four. She sells the remainder at the farmers' market daily for $2 per fresh duck egg. How much in dollars does she make every day at the farmers' market? Please reason step by step, and put your final answer within \\boxed{}.\n",
      "assistant\n",
      "<think>\n",
      "Okay, so Janet has ducks that lay eggs, right? Let me try to figure out how much money she makes each day from selling the eggs at the farmers' market. Let's break it down step by step.\n",
      "\n",
      "First, the problem says her ducks lay 16 eggs per day. Got that. So starting with 16 eggs each day.\n",
      "\n",
      "Then, she eats three for breakfast every morning. So that's 3 eggs consumed by her. And then she bakes muffins for her friends every day with four. Wait, does that mean she uses four eggs for baking muffins? The wording says \"bakes muffins for her friends every day with four.\" Hmm, maybe it's four eggs? Or is it four muffins? But since it's about eggs, I think it's four eggs. Let me check the original problem again.\n",
      "\n",
      "\"Janet’s ducks lay 16 eggs per day. She eats three for breakfast every morning and bakes muffins for her friends every day with four. She sells the remainder at the farmers' market daily for $2 per fresh duck egg. How much in dollars does she make every day at the farmers' market?\"\n",
      "\n",
      "So, \"bakes muffins... with four.\" The wording is a bit ambiguous, but since it's in the same context as eating eggs, it's probably using four eggs for baking. So, three eggs for breakfast and four eggs for baking muffins. So total eggs used per day would be 3 + 4 = 7 eggs.\n",
      "\n",
      "Therefore, the remainder would be total eggs laid minus the eggs she uses. So 16 - 7 = 9 eggs. Then she sells those 9 eggs at $2 each. So 9 times 2 is $18.\n",
      "\n",
      "Wait, but let me make sure I didn't misinterpret the \"bakes muffins with four.\" Maybe \"with four\" refers to something else? Like, maybe she bakes four muffins, each requiring a certain number of eggs? But the problem doesn't specify how many eggs go into each muffin. Since it's not mentioned, I think the safest assumption is that \"bakes muffins... with four\" means she uses four eggs for baking. Otherwise, if it was four muffins, we would need to know how many eggs per muffin. Since that info isn't given, I think the problem expects us to take \"four\" as the number of eggs used.\n",
      "\n",
      "Alternatively, maybe \"bakes muffins for her friends every day with four\" could be interpreted as using four eggs? Let me think. If it was \"uses four eggs,\" it would probably say that. But maybe \"with four\" is a way of saying she uses four eggs. Maybe in the original problem's context, it's clear. Since there's no other numbers given, I think that's the only way to do it.\n",
      "\n",
      "So total eggs per day: 16.\n",
      "\n",
      "Eggs consumed: 3.\n",
      "\n",
      "Eggs used for baking: 4.\n",
      "\n",
      "Total used: 3 + 4 = 7.\n",
      "\n",
      "Leftover: 16 - 7 = 9.\n",
      "\n",
      "Sells them at $2 each: 9 * 2 = $18.\n",
      "\n",
      "So she makes $18 every day at the farmers' market. Therefore, the answer should be 18 dollars.\n",
      "\n",
      "But let me check again. Maybe I made a mistake in interpreting the problem. Let me read once more.\n",
      "\n",
      "\"Janet’s ducks lay 16 eggs per day. She eats three for breakfast every morning and bakes muffins for her friends every day with four. She sells the remainder at the farmers' market daily for $2 per fresh duck egg. How much in dollars does she make every day at the farmers' market?\"\n",
      "\n",
      "So \"bakes muffins... with four.\" If it's \"with four eggs,\" then yes, 4 eggs. But if it's \"with four muffins,\" then we need more info. However, given that the problem is for a math problem, likely the numbers are intended to be straightforward. So 16 eggs, subtract 3 and 4, so 9 eggs sold. 9 times 2 is 18. So $18.\n",
      "\n",
      "Alternatively, maybe \"bakes muffins for her friends every day with four\" could be interpreted as using four eggs per muffin? But then how many muffins? The problem doesn't say. So that seems less likely.\n",
      "\n",
      "Another way: maybe \"bakes muffins... with four\" means she uses four eggs in total for the muffins. So that would be 4 eggs. So that seems to be the only way.\n",
      "\n",
      "Alternatively, if \"with four\" refers to something else, but I can't think of what. Maybe the number of friends? But no, the problem says \"bakes muffins for her friends every day with four.\" Maybe she bakes four muffins? But again, without knowing how many eggs per muffin\n"
     ]
    }
   ],
   "source": [
    "messages = [\n",
    "    {\"role\": \"user\", \"content\": q},\n",
    "]\n",
    "\n",
    "text = mt.tokenizer.apply_chat_template(\n",
    "    messages,\n",
    "    tokenize=False,\n",
    "    add_generation_prompt=True,\n",
    "    enable_thinking=True\n",
    ")\n",
    "\n",
    "generation = generate_with_patch(\n",
    "    mt = mt,\n",
    "    inputs = text,\n",
    "    n_gen_per_prompt=1,\n",
    "    temperature=0.6,\n",
    "    max_new_tokens=1024,\n",
    ")[0]\n",
    "\n",
    "print(generation)"
   ]
  },
  {
   "cell_type": "code",
   "execution_count": 14,
   "id": "d3ad32a2",
   "metadata": {},
   "outputs": [
    {
     "data": {
      "text/plain": [
       "1249"
      ]
     },
     "execution_count": 14,
     "metadata": {},
     "output_type": "execute_result"
    }
   ],
   "source": [
    "len(gsm8k_data)"
   ]
  },
  {
   "cell_type": "code",
   "execution_count": null,
   "id": "b9c21dc7",
   "metadata": {},
   "outputs": [],
   "source": []
  }
 ],
 "metadata": {
  "kernelspec": {
   "display_name": "Python 3",
   "language": "python",
   "name": "python3"
  },
  "language_info": {
   "codemirror_mode": {
    "name": "ipython",
    "version": 3
   },
   "file_extension": ".py",
   "mimetype": "text/x-python",
   "name": "python",
   "nbconvert_exporter": "python",
   "pygments_lexer": "ipython3",
   "version": "3.11.11"
  }
 },
 "nbformat": 4,
 "nbformat_minor": 5
}
