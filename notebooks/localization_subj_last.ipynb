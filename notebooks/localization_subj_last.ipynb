{
 "cells": [
  {
   "cell_type": "code",
   "execution_count": 1,
   "metadata": {},
   "outputs": [],
   "source": [
    "%load_ext autoreload\n",
    "%autoreload 2"
   ]
  },
  {
   "cell_type": "code",
   "execution_count": 2,
   "metadata": {},
   "outputs": [
    {
     "name": "stderr",
     "output_type": "stream",
     "text": [
      "/home/local_arnab/miniconda3/envs/retrieval/lib/python3.11/site-packages/tqdm/auto.py:21: TqdmWarning: IProgress not found. Please update jupyter and ipywidgets. See https://ipywidgets.readthedocs.io/en/stable/user_install.html\n",
      "  from .autonotebook import tqdm as notebook_tqdm\n"
     ]
    },
    {
     "name": "stdout",
     "output_type": "stream",
     "text": [
      "2024-06-17 11:56:26 __main__ INFO     torch.__version__='2.3.1', torch.version.cuda='12.1'\n",
      "2024-06-17 11:56:26 __main__ INFO     torch.cuda.is_available()=True, torch.cuda.device_count()=1, torch.cuda.get_device_name()='NVIDIA RTX A6000'\n",
      "2024-06-17 11:56:26 __main__ INFO     transformers.__version__='4.41.2'\n"
     ]
    }
   ],
   "source": [
    "import sys\n",
    "sys.path.append(\"../\")\n",
    "import os\n",
    "\n",
    "import logging\n",
    "from src.utils import logging_utils\n",
    "from src.utils import env_utils\n",
    "from src import functional\n",
    "\n",
    "logger = logging.getLogger(__name__)\n",
    "\n",
    "logging.basicConfig(\n",
    "    level=logging.DEBUG,\n",
    "    format=logging_utils.DEFAULT_FORMAT,\n",
    "    datefmt=logging_utils.DEFAULT_DATEFMT,\n",
    "    stream=sys.stdout,\n",
    ")\n",
    "\n",
    "import torch\n",
    "import transformers\n",
    "\n",
    "logger.info(f\"{torch.__version__=}, {torch.version.cuda=}\")\n",
    "logger.info(f\"{torch.cuda.is_available()=}, {torch.cuda.device_count()=}, {torch.cuda.get_device_name()=}\")\n",
    "logger.info(f\"{transformers.__version__=}\")"
   ]
  },
  {
   "cell_type": "code",
   "execution_count": 3,
   "metadata": {},
   "outputs": [
    {
     "name": "stderr",
     "output_type": "stream",
     "text": [
      "Special tokens have been added in the vocabulary, make sure the associated word embeddings are fine-tuned or trained.\n"
     ]
    },
    {
     "name": "stdout",
     "output_type": "stream",
     "text": [
      "2024-06-17 11:56:39 accelerate.utils.modeling INFO     We will use 90% of the memory on device 0 for storing the model, and 10% for the buffer to avoid OOM. You can set `max_memory` in to a higher value to use more memory (at your own risk).\n"
     ]
    },
    {
     "name": "stderr",
     "output_type": "stream",
     "text": [
      "Loading checkpoint shards: 100%|██████████| 4/4 [00:04<00:00,  1.09s/it]"
     ]
    },
    {
     "name": "stdout",
     "output_type": "stream",
     "text": [
      "2024-06-17 11:56:44 src.models INFO     loaded model </home/local_arnab/Codes/saved_model_weights/meta-llama/Meta-Llama-3-8B> | size: 15316.516 MB | dtype: torch.float16 | device: cuda:0\n"
     ]
    },
    {
     "name": "stderr",
     "output_type": "stream",
     "text": [
      "\n"
     ]
    }
   ],
   "source": [
    "from nnsight import LanguageModel\n",
    "from src.models import ModelandTokenizer\n",
    "\n",
    "mt = ModelandTokenizer(\n",
    "    model_key=\"meta-llama/Meta-Llama-3-8B\",\n",
    "    torch_dtype=torch.float16,\n",
    ")"
   ]
  },
  {
   "cell_type": "code",
   "execution_count": 46,
   "metadata": {},
   "outputs": [
    {
     "data": {
      "text/plain": [
       "[[PredictedToken(token=' Seattle', prob=0.969031035900116),\n",
       "  PredictedToken(token='\\xa0', prob=0.004182813223451376),\n",
       "  PredictedToken(token=' Seat', prob=0.0033088780473917723),\n",
       "  PredictedToken(token=' se', prob=0.002576956758275628),\n",
       "  PredictedToken(token=' Se', prob=0.0016638082452118397)],\n",
       " [PredictedToken(token=' Rome', prob=0.9319317936897278),\n",
       "  PredictedToken(token=' Roma', prob=0.004383663181215525),\n",
       "  PredictedToken(token=' ancient', prob=0.0025370691437274218),\n",
       "  PredictedToken(token=' Ancient', prob=0.0025173258036375046),\n",
       "  PredictedToken(token=' the', prob=0.0020227280911058187)],\n",
       " [PredictedToken(token=' New', prob=0.8572637438774109),\n",
       "  PredictedToken(token=' Jersey', prob=0.01684507168829441),\n",
       "  PredictedToken(token=' Manhattan', prob=0.01533761341124773),\n",
       "  PredictedToken(token=' Liberty', prob=0.011759755201637745),\n",
       "  PredictedToken(token=' Paris', prob=0.008671100251376629)]]"
      ]
     },
     "execution_count": 46,
     "metadata": {},
     "output_type": "execute_result"
    }
   ],
   "source": [
    "from src.functional import predict_next_token, filter_samples_by_model_knowledge\n",
    "\n",
    "prompt = [\n",
    "    \"The Space Needle is located in the city of\",\n",
    "    \"The Colosseum is located in the city of\",\n",
    "    \"Statue of Liberty is located in the city of\",\n",
    "]\n",
    "\n",
    "predict_next_token(\n",
    "    mt=mt, \n",
    "    inputs=prompt,\n",
    "    # token_of_interest=[\n",
    "    #     \"Kyoto\",\n",
    "    #     \"Washington\",\n",
    "    # ]\n",
    ")\n"
   ]
  },
  {
   "cell_type": "code",
   "execution_count": 66,
   "metadata": {},
   "outputs": [
    {
     "data": {
      "text/plain": [
       "[[PredictedToken(token=' Tokyo', prob=0.24526521563529968),\n",
       "  PredictedToken(token=' Nag', prob=0.07026965916156769),\n",
       "  PredictedToken(token=' Kyoto', prob=0.06705177575349808),\n",
       "  PredictedToken(token=' Osaka', prob=0.059172991663217545),\n",
       "  PredictedToken(token=' N', prob=0.039417706429958344)],\n",
       " [PredictedToken(token=' London', prob=0.6719240546226501),\n",
       "  PredictedToken(token=' Westminster', prob=0.03424644470214844),\n",
       "  PredictedToken(token=' Col', prob=0.02245936542749405),\n",
       "  PredictedToken(token=' Rome', prob=0.012306718155741692),\n",
       "  PredictedToken(token=' Lond', prob=0.010123230516910553)],\n",
       " [PredictedToken(token=' Rome', prob=0.7661844491958618),\n",
       "  PredictedToken(token=' Roma', prob=0.027261771261692047),\n",
       "  PredictedToken(token=' Florence', prob=0.023871207609772682),\n",
       "  PredictedToken(token=' Milan', prob=0.01705998182296753),\n",
       "  PredictedToken(token=' Venice', prob=0.012978549115359783)]]"
      ]
     },
     "execution_count": 66,
     "metadata": {},
     "output_type": "execute_result"
    }
   ],
   "source": [
    "template = \"Assume an alternative universe where <subj> is in <loc>. In that universe, <subj> is located in the city of\"\n",
    "\n",
    "def format_prompt(subj, loc):\n",
    "    return template.replace(\"<subj>\", subj).replace(\"<loc>\", loc)\n",
    "\n",
    "counterfactuals = [\n",
    "    format_prompt(\"the Space Needle\", \"the capital of Japan\"),\n",
    "    format_prompt(\"Colosseum\", \"the capital of United Kingdom\"),\n",
    "    format_prompt(\"Statue of Liberty\", \"the capital of Italy\"),\n",
    "]\n",
    "\n",
    "predict_next_token(\n",
    "    mt=mt, \n",
    "    inputs=counterfactuals,\n",
    ")"
   ]
  },
  {
   "cell_type": "code",
   "execution_count": 132,
   "metadata": {},
   "outputs": [
    {
     "data": {
      "text/plain": [
       "2"
      ]
     },
     "execution_count": 132,
     "metadata": {},
     "output_type": "execute_result"
    }
   ],
   "source": [
    "counterfactuals[0].count(\"the Space Needle\")"
   ]
  },
  {
   "cell_type": "code",
   "execution_count": 258,
   "metadata": {},
   "outputs": [
    {
     "name": "stdout",
     "output_type": "stream",
     "text": [
      "2024-06-17 16:39:37 src.functional DEBUG    Found substring in string 2 times\n",
      "2024-06-17 16:39:37 src.functional DEBUG    char range: [100, 116] => `the Space Needle`\n"
     ]
    }
   ],
   "source": [
    "from src.models import prepare_input\n",
    "inputs = prepare_input(\n",
    "    prompts = counterfactuals[0],\n",
    "    tokenizer=mt,\n",
    "    return_offsets_mapping=True,\n",
    ")\n",
    "\n",
    "from src.functional import find_token_range\n",
    "\n",
    "subj_start, subj_end = find_token_range(\n",
    "    string=counterfactuals[0],\n",
    "    substring=\"the Space Needle\",\n",
    "    tokenizer=mt.tokenizer,\n",
    "    occurrence=-1,\n",
    "    offset_mapping=inputs[\"offset_mapping\"][0],\n",
    ")"
   ]
  },
  {
   "cell_type": "code",
   "execution_count": 262,
   "metadata": {},
   "outputs": [
    {
     "data": {
      "text/plain": [
       "' Needle'"
      ]
     },
     "execution_count": 262,
     "metadata": {},
     "output_type": "execute_result"
    }
   ],
   "source": [
    "mt.tokenizer.decode(inputs.input_ids[0][subj_end-1])"
   ]
  },
  {
   "cell_type": "code",
   "execution_count": null,
   "metadata": {},
   "outputs": [],
   "source": []
  }
 ],
 "metadata": {
  "kernelspec": {
   "display_name": "retrieval",
   "language": "python",
   "name": "python3"
  },
  "language_info": {
   "codemirror_mode": {
    "name": "ipython",
    "version": 3
   },
   "file_extension": ".py",
   "mimetype": "text/x-python",
   "name": "python",
   "nbconvert_exporter": "python",
   "pygments_lexer": "ipython3",
   "version": "3.11.9"
  }
 },
 "nbformat": 4,
 "nbformat_minor": 2
}
