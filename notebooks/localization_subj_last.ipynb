{
 "cells": [
  {
   "cell_type": "code",
   "execution_count": 1,
   "metadata": {},
   "outputs": [],
   "source": [
    "%load_ext autoreload\n",
    "%autoreload 2"
   ]
  },
  {
   "cell_type": "code",
   "execution_count": 2,
   "metadata": {},
   "outputs": [
    {
     "name": "stderr",
     "output_type": "stream",
     "text": [
      "/home/local_arnab/miniconda3/envs/retrieval/lib/python3.11/site-packages/tqdm/auto.py:21: TqdmWarning: IProgress not found. Please update jupyter and ipywidgets. See https://ipywidgets.readthedocs.io/en/stable/user_install.html\n",
      "  from .autonotebook import tqdm as notebook_tqdm\n"
     ]
    },
    {
     "name": "stdout",
     "output_type": "stream",
     "text": [
      "2024-06-17 11:56:26 __main__ INFO     torch.__version__='2.3.1', torch.version.cuda='12.1'\n",
      "2024-06-17 11:56:26 __main__ INFO     torch.cuda.is_available()=True, torch.cuda.device_count()=1, torch.cuda.get_device_name()='NVIDIA RTX A6000'\n",
      "2024-06-17 11:56:26 __main__ INFO     transformers.__version__='4.41.2'\n"
     ]
    }
   ],
   "source": [
    "import sys\n",
    "sys.path.append(\"../\")\n",
    "import os\n",
    "\n",
    "import logging\n",
    "from src.utils import logging_utils\n",
    "from src.utils import env_utils\n",
    "from src import functional\n",
    "\n",
    "logger = logging.getLogger(__name__)\n",
    "\n",
    "logging.basicConfig(\n",
    "    level=logging.DEBUG,\n",
    "    format=logging_utils.DEFAULT_FORMAT,\n",
    "    datefmt=logging_utils.DEFAULT_DATEFMT,\n",
    "    stream=sys.stdout,\n",
    ")\n",
    "\n",
    "import torch\n",
    "import transformers\n",
    "\n",
    "logger.info(f\"{torch.__version__=}, {torch.version.cuda=}\")\n",
    "logger.info(f\"{torch.cuda.is_available()=}, {torch.cuda.device_count()=}, {torch.cuda.get_device_name()=}\")\n",
    "logger.info(f\"{transformers.__version__=}\")"
   ]
  },
  {
   "cell_type": "code",
   "execution_count": 3,
   "metadata": {},
   "outputs": [
    {
     "name": "stderr",
     "output_type": "stream",
     "text": [
      "Special tokens have been added in the vocabulary, make sure the associated word embeddings are fine-tuned or trained.\n"
     ]
    },
    {
     "name": "stdout",
     "output_type": "stream",
     "text": [
      "2024-06-17 11:56:39 accelerate.utils.modeling INFO     We will use 90% of the memory on device 0 for storing the model, and 10% for the buffer to avoid OOM. You can set `max_memory` in to a higher value to use more memory (at your own risk).\n"
     ]
    },
    {
     "name": "stderr",
     "output_type": "stream",
     "text": [
      "Loading checkpoint shards: 100%|██████████| 4/4 [00:04<00:00,  1.09s/it]"
     ]
    },
    {
     "name": "stdout",
     "output_type": "stream",
     "text": [
      "2024-06-17 11:56:44 src.models INFO     loaded model </home/local_arnab/Codes/saved_model_weights/meta-llama/Meta-Llama-3-8B> | size: 15316.516 MB | dtype: torch.float16 | device: cuda:0\n"
     ]
    },
    {
     "name": "stderr",
     "output_type": "stream",
     "text": [
      "\n"
     ]
    }
   ],
   "source": [
    "from nnsight import LanguageModel\n",
    "from src.models import ModelandTokenizer\n",
    "\n",
    "mt = ModelandTokenizer(\n",
    "    model_key=\"meta-llama/Meta-Llama-3-8B\",\n",
    "    torch_dtype=torch.float16,\n",
    ")"
   ]
  },
  {
   "cell_type": "code",
   "execution_count": 329,
   "metadata": {},
   "outputs": [
    {
     "data": {
      "text/plain": [
       "[[PredictedToken(token=' Seattle', prob=0.969031035900116),\n",
       "  PredictedToken(token='\\xa0', prob=0.004182813223451376),\n",
       "  PredictedToken(token=' Seat', prob=0.0033088780473917723),\n",
       "  PredictedToken(token=' se', prob=0.002576956758275628),\n",
       "  PredictedToken(token=' Se', prob=0.0016638082452118397)],\n",
       " [PredictedToken(token=' Rome', prob=0.9319317936897278),\n",
       "  PredictedToken(token=' Roma', prob=0.004383663181215525),\n",
       "  PredictedToken(token=' ancient', prob=0.0025370691437274218),\n",
       "  PredictedToken(token=' Ancient', prob=0.0025173258036375046),\n",
       "  PredictedToken(token=' the', prob=0.0020227280911058187)],\n",
       " [PredictedToken(token=' New', prob=0.8572637438774109),\n",
       "  PredictedToken(token=' Jersey', prob=0.01684507168829441),\n",
       "  PredictedToken(token=' Manhattan', prob=0.01533761341124773),\n",
       "  PredictedToken(token=' Liberty', prob=0.011759755201637745),\n",
       "  PredictedToken(token=' Paris', prob=0.008671100251376629)]]"
      ]
     },
     "execution_count": 329,
     "metadata": {},
     "output_type": "execute_result"
    }
   ],
   "source": [
    "from src.functional import predict_next_token, filter_samples_by_model_knowledge\n",
    "\n",
    "prompts = [\n",
    "    \"The Space Needle is located in the city of\",\n",
    "    \"The Colosseum is located in the city of\",\n",
    "    \"Statue of Liberty is located in the city of\",\n",
    "]\n",
    "\n",
    "predict_next_token(\n",
    "    mt=mt, \n",
    "    inputs=prompts,\n",
    "    # token_of_interest=[\n",
    "    #     \"Kyoto\",\n",
    "    #     \"Washington\",\n",
    "    # ]\n",
    ")\n"
   ]
  },
  {
   "cell_type": "code",
   "execution_count": 330,
   "metadata": {},
   "outputs": [
    {
     "data": {
      "text/plain": [
       "[[PredictedToken(token=' Tokyo', prob=0.27394381165504456),\n",
       "  PredictedToken(token=' Nag', prob=0.0709063857793808),\n",
       "  PredictedToken(token=' Osaka', prob=0.065067358314991),\n",
       "  PredictedToken(token=' Kyoto', prob=0.0640585869550705),\n",
       "  PredictedToken(token=' N', prob=0.03455701470375061)],\n",
       " [PredictedToken(token=' London', prob=0.6719240546226501),\n",
       "  PredictedToken(token=' Westminster', prob=0.03424644470214844),\n",
       "  PredictedToken(token=' Col', prob=0.02245936542749405),\n",
       "  PredictedToken(token=' Rome', prob=0.012306718155741692),\n",
       "  PredictedToken(token=' Lond', prob=0.010123230516910553)],\n",
       " [PredictedToken(token=' Rome', prob=0.7661844491958618),\n",
       "  PredictedToken(token=' Roma', prob=0.027261771261692047),\n",
       "  PredictedToken(token=' Florence', prob=0.023871207609772682),\n",
       "  PredictedToken(token=' Milan', prob=0.01705998182296753),\n",
       "  PredictedToken(token=' Venice', prob=0.012978549115359783)]]"
      ]
     },
     "execution_count": 330,
     "metadata": {},
     "output_type": "execute_result"
    }
   ],
   "source": [
    "template = \"Assume an alternative universe where <subj> is in <loc>. In that universe, <subj> is located in the city of\"\n",
    "\n",
    "def format_prompt(subj, loc):\n",
    "    return template.replace(\"<subj>\", subj).replace(\"<loc>\", loc)\n",
    "\n",
    "counterfactuals = [\n",
    "    (\"The Space Needle\", \"the capital of Japan\"),\n",
    "    (\"Colosseum\", \"the capital of United Kingdom\"),\n",
    "    (\"Statue of Liberty\", \"the capital of Italy\"),\n",
    "]\n",
    "\n",
    "counterfactual_prompts = [\n",
    "    format_prompt(c[0], c[1]) for c in counterfactuals\n",
    "]\n",
    "\n",
    "predict_next_token(\n",
    "    mt=mt, \n",
    "    inputs=counterfactual_prompts,\n",
    ")"
   ]
  },
  {
   "cell_type": "code",
   "execution_count": 355,
   "metadata": {},
   "outputs": [
    {
     "name": "stdout",
     "output_type": "stream",
     "text": [
      "h_idx=3 |  Needle\n",
      "h_idx=5 | um\n"
     ]
    }
   ],
   "source": [
    "from src.models import prepare_input\n",
    "from src.functional import get_hs, interpret_logits, logit_lens\n",
    "from src.functional import get_module_nnsight\n",
    "\n",
    "\n",
    "def collect_subj_last_state(\n",
    "    prompt: str,\n",
    "    subj: str,\n",
    "    layer_name: str,\n",
    "):\n",
    "    inputs = prepare_input(\n",
    "        prompts=prompt,\n",
    "        tokenizer=mt,\n",
    "        return_offsets_mapping=True,\n",
    "    )\n",
    "\n",
    "    from src.functional import find_token_range\n",
    "\n",
    "    subj_start, subj_end = find_token_range(\n",
    "        string=prompt,\n",
    "        substring=subj,\n",
    "        tokenizer=mt.tokenizer,\n",
    "        occurrence=-1,\n",
    "        offset_mapping=inputs[\"offset_mapping\"][0],\n",
    "    )\n",
    "\n",
    "    h_idx = subj_end - 1\n",
    "    # h_idx = -1\n",
    "    print(f\"{h_idx=} | {mt.tokenizer.decode(inputs.input_ids[0][h_idx])}\")\n",
    "\n",
    "    return h_idx, get_hs(\n",
    "        mt=mt,\n",
    "        input=inputs,\n",
    "        layer_and_index=(layer_name, h_idx),\n",
    "    )\n",
    "\n",
    "\n",
    "layer = mt.layer_names[12]\n",
    "# layer = mt.layer_names[-1]\n",
    "\n",
    "# idx_0, h0 = collect_subj_last_state(\n",
    "#     prompt = counterfactual_prompts[0],\n",
    "#     subj = counterfactuals[0][0],\n",
    "#     layer_name = layer,\n",
    "# )\n",
    "\n",
    "# idx_1, h1 = collect_subj_last_state(\n",
    "#     prompt = counterfactual_prompts[1],\n",
    "#     subj = counterfactuals[1][0],\n",
    "#     layer_name = layer,\n",
    "# )\n",
    "\n",
    "idx_0, h0 = collect_subj_last_state(\n",
    "    prompt = prompts[0],\n",
    "    subj = counterfactuals[0][0],\n",
    "    layer_name = layer,\n",
    ")\n",
    "\n",
    "idx_1, h1 = collect_subj_last_state(\n",
    "    prompt=prompts[1],\n",
    "    subj=counterfactuals[1][0],\n",
    "    layer_name=layer,\n",
    ")"
   ]
  },
  {
   "cell_type": "code",
   "execution_count": 356,
   "metadata": {},
   "outputs": [
    {
     "data": {
      "text/plain": [
       "[('#ad', 0.211),\n",
       " ('\\ufeff#', 0.104),\n",
       " ('ahat', 0.057),\n",
       " ('#ab', 0.021),\n",
       " ('#ac', 0.015),\n",
       " ('�数', 0.011),\n",
       " ('ayd', 0.006),\n",
       " ('oví', 0.006),\n",
       " ('[js', 0.006),\n",
       " (' lep', 0.005)]"
      ]
     },
     "execution_count": 356,
     "metadata": {},
     "output_type": "execute_result"
    }
   ],
   "source": [
    "logit_lens(\n",
    "    mt=mt,\n",
    "    h=h1,\n",
    "    get_proba=True\n",
    ")"
   ]
  },
  {
   "cell_type": "code",
   "execution_count": 357,
   "metadata": {},
   "outputs": [
    {
     "name": "stdout",
     "output_type": "stream",
     "text": [
      "mt.tokenizer.decode(inputs.input_ids[0][idx_0])=' Needle'\n"
     ]
    },
    {
     "data": {
      "text/plain": [
       "[(' Rome', 0.928),\n",
       " (' Roma', 0.006),\n",
       " ('\\xa0', 0.002),\n",
       " (' London', 0.002),\n",
       " (' the', 0.002),\n",
       " (' Barcelona', 0.001),\n",
       " (' Rom', 0.001),\n",
       " (' Milan', 0.001),\n",
       " ('\\xa0R', 0.001),\n",
       " (' San', 0.001)]"
      ]
     },
     "execution_count": 357,
     "metadata": {},
     "output_type": "execute_result"
    }
   ],
   "source": [
    "from src.functional import untuple\n",
    "\n",
    "inputs = prepare_input(\n",
    "    # prompts=counterfactual_prompts[0],\n",
    "    prompts=prompts[0],\n",
    "    tokenizer=mt,\n",
    ")\n",
    "\n",
    "print(f\"{mt.tokenizer.decode(inputs.input_ids[0][idx_0])=}\")\n",
    "\n",
    "with mt.trace(inputs) as trace:\n",
    "    module = get_module_nnsight(mt, layer)\n",
    "    untuple(module.output)[0, idx_0, :] = h1\n",
    "    cur_h = untuple(module.output)[0, idx_0, :].save()\n",
    "    logits = mt.output.logits[0][-1].save()\n",
    "\n",
    "interpret_logits(\n",
    "    tokenizer=mt.tokenizer,\n",
    "    logits=logits,\n",
    "    get_proba=True\n",
    ")"
   ]
  },
  {
   "cell_type": "code",
   "execution_count": 358,
   "metadata": {},
   "outputs": [
    {
     "data": {
      "text/plain": [
       "[(' Rome', 0.928),\n",
       " (' Roma', 0.006),\n",
       " ('\\xa0', 0.002),\n",
       " (' London', 0.002),\n",
       " (' the', 0.002),\n",
       " (' Barcelona', 0.001),\n",
       " (' Rom', 0.001),\n",
       " (' Milan', 0.001),\n",
       " ('\\xa0R', 0.001),\n",
       " (' San', 0.001)]"
      ]
     },
     "execution_count": 358,
     "metadata": {},
     "output_type": "execute_result"
    }
   ],
   "source": [
    "import baukit\n",
    "\n",
    "def intervention(int_layer, h, idx):\n",
    "    def edit_output(output, layer):\n",
    "        if layer != int_layer:\n",
    "            return output\n",
    "        untuple(output)[0, idx, :] = h\n",
    "        return output\n",
    "    return edit_output\n",
    "\n",
    "with baukit.Trace(\n",
    "    module=mt._model,\n",
    "    layer=layer,\n",
    "    edit_output=intervention(layer, h1, idx_0),\n",
    "):\n",
    "    output = mt._model(**inputs)\n",
    "\n",
    "logits = output.logits[0][-1]\n",
    "\n",
    "interpret_logits(\n",
    "    tokenizer=mt.tokenizer,\n",
    "    logits=logits,\n",
    "    get_proba=True\n",
    ")"
   ]
  },
  {
   "cell_type": "code",
   "execution_count": null,
   "metadata": {},
   "outputs": [],
   "source": []
  }
 ],
 "metadata": {
  "kernelspec": {
   "display_name": "retrieval",
   "language": "python",
   "name": "python3"
  },
  "language_info": {
   "codemirror_mode": {
    "name": "ipython",
    "version": 3
   },
   "file_extension": ".py",
   "mimetype": "text/x-python",
   "name": "python",
   "nbconvert_exporter": "python",
   "pygments_lexer": "ipython3",
   "version": "3.11.9"
  }
 },
 "nbformat": 4,
 "nbformat_minor": 2
}
